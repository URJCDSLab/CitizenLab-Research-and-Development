{
 "cells": [
  {
   "cell_type": "markdown",
   "metadata": {
    "slideshow": {
     "slide_type": "slide"
    }
   },
   "source": [
    "<img src=\"../../contrib/img/logo.png\" width=150 align=\"left\" /> <img src=\"../../contrib/img/logo2.jpg\" width=450 align=\"right\" />"
   ]
  },
  {
   "cell_type": "markdown",
   "metadata": {
    "slideshow": {
     "slide_type": "slide"
    }
   },
   "source": [
    "\n",
    "# <center><font color= #1e8449 > <b>MAPS</font></center>"
   ]
  },
  {
   "cell_type": "markdown",
   "metadata": {
    "slideshow": {
     "slide_type": "slide"
    }
   },
   "source": [
    "> # <font color='steelblue'> <b>POINTS ON MAP</font>"
   ]
  },
  {
   "cell_type": "markdown",
   "metadata": {
    "slideshow": {
     "slide_type": "slide"
    }
   },
   "source": [
    "### <font color='steelblue'>Description</font>"
   ]
  },
  {
   "cell_type": "markdown",
   "metadata": {
    "slideshow": {
     "slide_type": "slide"
    }
   },
   "source": [
    " Dibujar un conjunto de puntos dados en formato Lat, Long cargados desde fichero csv a Dataframe, sobre un mapa."
   ]
  },
  {
   "cell_type": "markdown",
   "metadata": {
    "slideshow": {
     "slide_type": "slide"
    }
   },
   "source": [
    "## <font color='green'>Settings</font>"
   ]
  },
  {
   "cell_type": "code",
   "execution_count": 25,
   "metadata": {
    "ExecuteTime": {
     "end_time": "2020-10-12T18:02:33.219531Z",
     "start_time": "2020-10-12T18:02:31.113701Z"
    },
    "slideshow": {
     "slide_type": "subslide"
    }
   },
   "outputs": [],
   "source": [
    "# Libraries to use\n",
    "import plotly.io as pio\n",
    "pio.renderers.default = 'iframe'\n",
    "\n",
    "import plotly.express as px\n",
    "import pandas as pd"
   ]
  },
  {
   "cell_type": "markdown",
   "metadata": {
    "slideshow": {
     "slide_type": "slide"
    }
   },
   "source": [
    "## <font color='green'>Data Load</font>"
   ]
  },
  {
   "cell_type": "markdown",
   "metadata": {
    "slideshow": {
     "slide_type": "slide"
    }
   },
   "source": [
    "Se adjuntan diferentes ficheros que contienen posicionamiento Lat, Long para usar de muestra"
   ]
  },
  {
   "cell_type": "markdown",
   "metadata": {},
   "source": [
    "<font color='green'><b> RECINTO</b></font>"
   ]
  },
  {
   "cell_type": "code",
   "execution_count": 26,
   "metadata": {
    "ExecuteTime": {
     "end_time": "2021-01-26T18:40:31.258294Z",
     "start_time": "2021-01-26T18:40:26.061847Z"
    },
    "slideshow": {
     "slide_type": "subslide"
    }
   },
   "outputs": [],
   "source": [
    "file_name='RECINTO.csv'\n",
    "RECINTO = pd.read_csv('../../contrib/data/'+file_name)"
   ]
  },
  {
   "cell_type": "code",
   "execution_count": 27,
   "metadata": {},
   "outputs": [
    {
     "data": {
      "text/html": [
       "<div>\n",
       "<style scoped>\n",
       "    .dataframe tbody tr th:only-of-type {\n",
       "        vertical-align: middle;\n",
       "    }\n",
       "\n",
       "    .dataframe tbody tr th {\n",
       "        vertical-align: top;\n",
       "    }\n",
       "\n",
       "    .dataframe thead th {\n",
       "        text-align: right;\n",
       "    }\n",
       "</style>\n",
       "<table border=\"1\" class=\"dataframe\">\n",
       "  <thead>\n",
       "    <tr style=\"text-align: right;\">\n",
       "      <th></th>\n",
       "      <th>Id_Recinto</th>\n",
       "      <th>Recinto</th>\n",
       "      <th>Pabellon</th>\n",
       "      <th>Latitud</th>\n",
       "      <th>Longitud</th>\n",
       "      <th>Nombre</th>\n",
       "      <th>Descripción</th>\n",
       "      <th>Ejecutante</th>\n",
       "      <th>Categoria</th>\n",
       "      <th>Subcategoria_1</th>\n",
       "      <th>...</th>\n",
       "      <th>Aforo</th>\n",
       "      <th>Precio</th>\n",
       "      <th>Fecha_Inicio</th>\n",
       "      <th>Fecha_Fin</th>\n",
       "      <th>Hora_apertura_1</th>\n",
       "      <th>Hora_cierre_1</th>\n",
       "      <th>Hora_apertura_2</th>\n",
       "      <th>Hora_cierre_2</th>\n",
       "      <th>Restricciones</th>\n",
       "      <th>Tipo_espacio</th>\n",
       "    </tr>\n",
       "  </thead>\n",
       "  <tbody>\n",
       "    <tr>\n",
       "      <th>0</th>\n",
       "      <td>0</td>\n",
       "      <td>IFEMA</td>\n",
       "      <td>Centro de Convenciones Sur</td>\n",
       "      <td>40.465384</td>\n",
       "      <td>-3.616648</td>\n",
       "      <td>Puerta Sur</td>\n",
       "      <td>Entrada desde la calle hasta el Centro de Conv...</td>\n",
       "      <td>NaN</td>\n",
       "      <td>Accesos</td>\n",
       "      <td>Principal</td>\n",
       "      <td>...</td>\n",
       "      <td>NaN</td>\n",
       "      <td>Gratuito</td>\n",
       "      <td>NaN</td>\n",
       "      <td>NaN</td>\n",
       "      <td>8:00</td>\n",
       "      <td>0:00</td>\n",
       "      <td>NaN</td>\n",
       "      <td>NaN</td>\n",
       "      <td>NaN</td>\n",
       "      <td>Cerrado</td>\n",
       "    </tr>\n",
       "    <tr>\n",
       "      <th>1</th>\n",
       "      <td>1</td>\n",
       "      <td>IFEMA</td>\n",
       "      <td>Centro de Convenciones Sur</td>\n",
       "      <td>40.465724</td>\n",
       "      <td>-3.617218</td>\n",
       "      <td>Puerta Centro de Convenciones Sur - Pabellón1</td>\n",
       "      <td>Entrada desde el Centro de Convenciones sur ha...</td>\n",
       "      <td>NaN</td>\n",
       "      <td>Accesos</td>\n",
       "      <td>Secundario</td>\n",
       "      <td>...</td>\n",
       "      <td>NaN</td>\n",
       "      <td>Gratuito</td>\n",
       "      <td>NaN</td>\n",
       "      <td>NaN</td>\n",
       "      <td>8:00</td>\n",
       "      <td>0:00</td>\n",
       "      <td>NaN</td>\n",
       "      <td>NaN</td>\n",
       "      <td>NaN</td>\n",
       "      <td>Cerrado</td>\n",
       "    </tr>\n",
       "    <tr>\n",
       "      <th>2</th>\n",
       "      <td>2</td>\n",
       "      <td>IFEMA</td>\n",
       "      <td>Pabellon 1</td>\n",
       "      <td>40.465710</td>\n",
       "      <td>-3.617310</td>\n",
       "      <td>Puerta Pabellon 1 - Centro de Convenciones Sur</td>\n",
       "      <td>Entrada desde el Pabellon 1 hasta el Centro de...</td>\n",
       "      <td>NaN</td>\n",
       "      <td>Accesos</td>\n",
       "      <td>Secundario</td>\n",
       "      <td>...</td>\n",
       "      <td>NaN</td>\n",
       "      <td>Gratuito</td>\n",
       "      <td>NaN</td>\n",
       "      <td>NaN</td>\n",
       "      <td>8:00</td>\n",
       "      <td>0:00</td>\n",
       "      <td>NaN</td>\n",
       "      <td>NaN</td>\n",
       "      <td>NaN</td>\n",
       "      <td>Cerrado</td>\n",
       "    </tr>\n",
       "    <tr>\n",
       "      <th>3</th>\n",
       "      <td>3</td>\n",
       "      <td>IFEMA</td>\n",
       "      <td>Centro de Convenciones Sur</td>\n",
       "      <td>40.465854</td>\n",
       "      <td>-3.616237</td>\n",
       "      <td>Puerta Centro de Convenciones Sur - Pabellón 2</td>\n",
       "      <td>Entrada desde el Centro de Convenciones sur ha...</td>\n",
       "      <td>NaN</td>\n",
       "      <td>Accesos</td>\n",
       "      <td>Secundario</td>\n",
       "      <td>...</td>\n",
       "      <td>NaN</td>\n",
       "      <td>Gratuito</td>\n",
       "      <td>NaN</td>\n",
       "      <td>NaN</td>\n",
       "      <td>8:00</td>\n",
       "      <td>0:00</td>\n",
       "      <td>NaN</td>\n",
       "      <td>NaN</td>\n",
       "      <td>NaN</td>\n",
       "      <td>Cerrado</td>\n",
       "    </tr>\n",
       "    <tr>\n",
       "      <th>4</th>\n",
       "      <td>4</td>\n",
       "      <td>IFEMA</td>\n",
       "      <td>Pabellon 2</td>\n",
       "      <td>40.465864</td>\n",
       "      <td>-3.616141</td>\n",
       "      <td>Puerta Pabellon 2 - Centro de Convenciones Sur</td>\n",
       "      <td>Entrada desde el Pabellon 2 hasta el Centro de...</td>\n",
       "      <td>NaN</td>\n",
       "      <td>Accesos</td>\n",
       "      <td>Secundario</td>\n",
       "      <td>...</td>\n",
       "      <td>NaN</td>\n",
       "      <td>Gratuito</td>\n",
       "      <td>NaN</td>\n",
       "      <td>NaN</td>\n",
       "      <td>8:00</td>\n",
       "      <td>0:00</td>\n",
       "      <td>NaN</td>\n",
       "      <td>NaN</td>\n",
       "      <td>NaN</td>\n",
       "      <td>Cerrado</td>\n",
       "    </tr>\n",
       "  </tbody>\n",
       "</table>\n",
       "<p>5 rows × 25 columns</p>\n",
       "</div>"
      ],
      "text/plain": [
       "   Id_Recinto Recinto                    Pabellon    Latitud  Longitud  \\\n",
       "0           0   IFEMA  Centro de Convenciones Sur  40.465384 -3.616648   \n",
       "1           1   IFEMA  Centro de Convenciones Sur  40.465724 -3.617218   \n",
       "2           2   IFEMA                  Pabellon 1  40.465710 -3.617310   \n",
       "3           3   IFEMA  Centro de Convenciones Sur  40.465854 -3.616237   \n",
       "4           4   IFEMA                  Pabellon 2  40.465864 -3.616141   \n",
       "\n",
       "                                           Nombre  \\\n",
       "0                                      Puerta Sur   \n",
       "1   Puerta Centro de Convenciones Sur - Pabellón1   \n",
       "2  Puerta Pabellon 1 - Centro de Convenciones Sur   \n",
       "3  Puerta Centro de Convenciones Sur - Pabellón 2   \n",
       "4  Puerta Pabellon 2 - Centro de Convenciones Sur   \n",
       "\n",
       "                                         Descripción  Ejecutante Categoria  \\\n",
       "0  Entrada desde la calle hasta el Centro de Conv...         NaN   Accesos   \n",
       "1  Entrada desde el Centro de Convenciones sur ha...         NaN   Accesos   \n",
       "2  Entrada desde el Pabellon 1 hasta el Centro de...         NaN   Accesos   \n",
       "3  Entrada desde el Centro de Convenciones sur ha...         NaN   Accesos   \n",
       "4  Entrada desde el Pabellon 2 hasta el Centro de...         NaN   Accesos   \n",
       "\n",
       "  Subcategoria_1  ... Aforo    Precio Fecha_Inicio  Fecha_Fin  \\\n",
       "0      Principal  ...   NaN  Gratuito          NaN        NaN   \n",
       "1     Secundario  ...   NaN  Gratuito          NaN        NaN   \n",
       "2     Secundario  ...   NaN  Gratuito          NaN        NaN   \n",
       "3     Secundario  ...   NaN  Gratuito          NaN        NaN   \n",
       "4     Secundario  ...   NaN  Gratuito          NaN        NaN   \n",
       "\n",
       "   Hora_apertura_1  Hora_cierre_1 Hora_apertura_2  Hora_cierre_2  \\\n",
       "0             8:00           0:00             NaN            NaN   \n",
       "1             8:00           0:00             NaN            NaN   \n",
       "2             8:00           0:00             NaN            NaN   \n",
       "3             8:00           0:00             NaN            NaN   \n",
       "4             8:00           0:00             NaN            NaN   \n",
       "\n",
       "   Restricciones Tipo_espacio  \n",
       "0            NaN      Cerrado  \n",
       "1            NaN      Cerrado  \n",
       "2            NaN      Cerrado  \n",
       "3            NaN      Cerrado  \n",
       "4            NaN      Cerrado  \n",
       "\n",
       "[5 rows x 25 columns]"
      ]
     },
     "execution_count": 27,
     "metadata": {},
     "output_type": "execute_result"
    }
   ],
   "source": [
    "RECINTO.head()"
   ]
  },
  {
   "cell_type": "markdown",
   "metadata": {},
   "source": [
    "<font color='green'><b> EVENTO</b></font>"
   ]
  },
  {
   "cell_type": "code",
   "execution_count": 28,
   "metadata": {
    "ExecuteTime": {
     "end_time": "2021-01-26T18:40:31.258294Z",
     "start_time": "2021-01-26T18:40:26.061847Z"
    },
    "slideshow": {
     "slide_type": "subslide"
    }
   },
   "outputs": [],
   "source": [
    "file_name='EVENTO.csv'\n",
    "EVENTO = pd.read_csv('../../contrib/data/'+file_name)"
   ]
  },
  {
   "cell_type": "code",
   "execution_count": 29,
   "metadata": {
    "scrolled": true
   },
   "outputs": [
    {
     "data": {
      "text/html": [
       "<div>\n",
       "<style scoped>\n",
       "    .dataframe tbody tr th:only-of-type {\n",
       "        vertical-align: middle;\n",
       "    }\n",
       "\n",
       "    .dataframe tbody tr th {\n",
       "        vertical-align: top;\n",
       "    }\n",
       "\n",
       "    .dataframe thead th {\n",
       "        text-align: right;\n",
       "    }\n",
       "</style>\n",
       "<table border=\"1\" class=\"dataframe\">\n",
       "  <thead>\n",
       "    <tr style=\"text-align: right;\">\n",
       "      <th></th>\n",
       "      <th>Id_Recurso</th>\n",
       "      <th>Recinto</th>\n",
       "      <th>Id_Recinto</th>\n",
       "      <th>Latitud</th>\n",
       "      <th>Longitud</th>\n",
       "      <th>Nombre</th>\n",
       "      <th>Descripcion</th>\n",
       "      <th>Ejecutante</th>\n",
       "      <th>Categoria</th>\n",
       "      <th>Subcategoria_1</th>\n",
       "      <th>...</th>\n",
       "      <th>Aforo</th>\n",
       "      <th>Precio</th>\n",
       "      <th>Fecha_1</th>\n",
       "      <th>Hora_apertura_1</th>\n",
       "      <th>Hora_cierre_1</th>\n",
       "      <th>Fecha_2</th>\n",
       "      <th>Hora_apertura_2</th>\n",
       "      <th>Hora_cierre_2</th>\n",
       "      <th>Edad</th>\n",
       "      <th>Tipo_espacio</th>\n",
       "    </tr>\n",
       "  </thead>\n",
       "  <tbody>\n",
       "    <tr>\n",
       "      <th>0</th>\n",
       "      <td>0</td>\n",
       "      <td>IFEMA</td>\n",
       "      <td>12</td>\n",
       "      <td>40.46912</td>\n",
       "      <td>-3.61544</td>\n",
       "      <td>Concierto de Sabina</td>\n",
       "      <td>Joaquín de Sabina dará en exclusiva este conci...</td>\n",
       "      <td>Sabina</td>\n",
       "      <td>Actividad</td>\n",
       "      <td>Concierto</td>\n",
       "      <td>...</td>\n",
       "      <td>100</td>\n",
       "      <td>gratuito</td>\n",
       "      <td>10/02/2023</td>\n",
       "      <td>20:00</td>\n",
       "      <td>22:00</td>\n",
       "      <td>11/02/2023</td>\n",
       "      <td>20:00</td>\n",
       "      <td>22:00</td>\n",
       "      <td>0</td>\n",
       "      <td>Cerrado</td>\n",
       "    </tr>\n",
       "    <tr>\n",
       "      <th>1</th>\n",
       "      <td>1</td>\n",
       "      <td>IFEMA</td>\n",
       "      <td>12</td>\n",
       "      <td>40.46931</td>\n",
       "      <td>-3.61604</td>\n",
       "      <td>Venta de discos de Sabina</td>\n",
       "      <td>Venta de discos del trabajo de Joaquín de Sabina</td>\n",
       "      <td>Sabina</td>\n",
       "      <td>Puesto venta</td>\n",
       "      <td>Venta de discos</td>\n",
       "      <td>...</td>\n",
       "      <td>10</td>\n",
       "      <td>medio</td>\n",
       "      <td>10/02/2023</td>\n",
       "      <td>17:00</td>\n",
       "      <td>22:00</td>\n",
       "      <td>11/02/2023</td>\n",
       "      <td>17:00</td>\n",
       "      <td>22:00</td>\n",
       "      <td>0</td>\n",
       "      <td>Cerrado</td>\n",
       "    </tr>\n",
       "    <tr>\n",
       "      <th>2</th>\n",
       "      <td>2</td>\n",
       "      <td>IFEMA</td>\n",
       "      <td>12</td>\n",
       "      <td>40.46880</td>\n",
       "      <td>-3.61597</td>\n",
       "      <td>Firma de discos de Sabina</td>\n",
       "      <td>Joaquín de Sabina hará una firma de discos pre...</td>\n",
       "      <td>Sabina</td>\n",
       "      <td>Actividad</td>\n",
       "      <td>Firma</td>\n",
       "      <td>...</td>\n",
       "      <td>40</td>\n",
       "      <td>gratuito</td>\n",
       "      <td>10/02/2023</td>\n",
       "      <td>11:00</td>\n",
       "      <td>12:00</td>\n",
       "      <td>11/02/2023</td>\n",
       "      <td>11:00</td>\n",
       "      <td>12:00</td>\n",
       "      <td>0</td>\n",
       "      <td>Cerrado</td>\n",
       "    </tr>\n",
       "    <tr>\n",
       "      <th>3</th>\n",
       "      <td>3</td>\n",
       "      <td>IFEMA</td>\n",
       "      <td>12</td>\n",
       "      <td>40.46915</td>\n",
       "      <td>-3.61661</td>\n",
       "      <td>Expositor Sabina</td>\n",
       "      <td>Recorre la vida de Joaquín Sabina desde su inf...</td>\n",
       "      <td>Sabina</td>\n",
       "      <td>Expositor</td>\n",
       "      <td>NaN</td>\n",
       "      <td>...</td>\n",
       "      <td>15</td>\n",
       "      <td>gratuito</td>\n",
       "      <td>10/02/2023</td>\n",
       "      <td>16:00</td>\n",
       "      <td>17:00</td>\n",
       "      <td>11/02/2023</td>\n",
       "      <td>16:00</td>\n",
       "      <td>17:00</td>\n",
       "      <td>0</td>\n",
       "      <td>Cerrado</td>\n",
       "    </tr>\n",
       "    <tr>\n",
       "      <th>4</th>\n",
       "      <td>4</td>\n",
       "      <td>IFEMA</td>\n",
       "      <td>12</td>\n",
       "      <td>40.46881</td>\n",
       "      <td>-3.61643</td>\n",
       "      <td>Espectáculo de danz</td>\n",
       "      <td>Espectáculo de danza de la escuela de danza de...</td>\n",
       "      <td>NaN</td>\n",
       "      <td>Actividad</td>\n",
       "      <td>Interpretacion</td>\n",
       "      <td>...</td>\n",
       "      <td>50</td>\n",
       "      <td>bajo</td>\n",
       "      <td>10/02/2023</td>\n",
       "      <td>17:00</td>\n",
       "      <td>18:00</td>\n",
       "      <td>11/02/2023</td>\n",
       "      <td>17:00</td>\n",
       "      <td>18:00</td>\n",
       "      <td>0</td>\n",
       "      <td>Cerrado</td>\n",
       "    </tr>\n",
       "  </tbody>\n",
       "</table>\n",
       "<p>5 rows × 25 columns</p>\n",
       "</div>"
      ],
      "text/plain": [
       "   Id_Recurso Recinto  Id_Recinto   Latitud  Longitud  \\\n",
       "0           0   IFEMA          12  40.46912  -3.61544   \n",
       "1           1   IFEMA          12  40.46931  -3.61604   \n",
       "2           2   IFEMA          12  40.46880  -3.61597   \n",
       "3           3   IFEMA          12  40.46915  -3.61661   \n",
       "4           4   IFEMA          12  40.46881  -3.61643   \n",
       "\n",
       "                      Nombre  \\\n",
       "0        Concierto de Sabina   \n",
       "1  Venta de discos de Sabina   \n",
       "2  Firma de discos de Sabina   \n",
       "3           Expositor Sabina   \n",
       "4        Espectáculo de danz   \n",
       "\n",
       "                                         Descripcion Ejecutante     Categoria  \\\n",
       "0  Joaquín de Sabina dará en exclusiva este conci...     Sabina     Actividad   \n",
       "1   Venta de discos del trabajo de Joaquín de Sabina     Sabina  Puesto venta   \n",
       "2  Joaquín de Sabina hará una firma de discos pre...     Sabina     Actividad   \n",
       "3  Recorre la vida de Joaquín Sabina desde su inf...     Sabina     Expositor   \n",
       "4  Espectáculo de danza de la escuela de danza de...        NaN     Actividad   \n",
       "\n",
       "    Subcategoria_1  ... Aforo    Precio     Fecha_1 Hora_apertura_1  \\\n",
       "0        Concierto  ...   100  gratuito  10/02/2023           20:00   \n",
       "1  Venta de discos  ...    10     medio  10/02/2023           17:00   \n",
       "2            Firma  ...    40  gratuito  10/02/2023           11:00   \n",
       "3              NaN  ...    15  gratuito  10/02/2023           16:00   \n",
       "4   Interpretacion  ...    50      bajo  10/02/2023           17:00   \n",
       "\n",
       "  Hora_cierre_1     Fecha_2 Hora_apertura_2 Hora_cierre_2 Edad Tipo_espacio  \n",
       "0         22:00  11/02/2023           20:00         22:00    0      Cerrado  \n",
       "1         22:00  11/02/2023           17:00         22:00    0      Cerrado  \n",
       "2         12:00  11/02/2023           11:00         12:00    0      Cerrado  \n",
       "3         17:00  11/02/2023           16:00         17:00    0      Cerrado  \n",
       "4         18:00  11/02/2023           17:00         18:00    0      Cerrado  \n",
       "\n",
       "[5 rows x 25 columns]"
      ]
     },
     "execution_count": 29,
     "metadata": {},
     "output_type": "execute_result"
    }
   ],
   "source": [
    "EVENTO.head()"
   ]
  },
  {
   "cell_type": "markdown",
   "metadata": {},
   "source": [
    "<font color='green'><b> PEDIDOS</b></font>"
   ]
  },
  {
   "cell_type": "code",
   "execution_count": 30,
   "metadata": {
    "ExecuteTime": {
     "end_time": "2021-01-26T18:40:31.258294Z",
     "start_time": "2021-01-26T18:40:26.061847Z"
    },
    "slideshow": {
     "slide_type": "subslide"
    }
   },
   "outputs": [],
   "source": [
    "file_name='PEDIDOS.csv'\n",
    "PEDIDOS = pd.read_csv('../../contrib/data/'+file_name)"
   ]
  },
  {
   "cell_type": "code",
   "execution_count": 31,
   "metadata": {
    "scrolled": true
   },
   "outputs": [
    {
     "data": {
      "text/html": [
       "<div>\n",
       "<style scoped>\n",
       "    .dataframe tbody tr th:only-of-type {\n",
       "        vertical-align: middle;\n",
       "    }\n",
       "\n",
       "    .dataframe tbody tr th {\n",
       "        vertical-align: top;\n",
       "    }\n",
       "\n",
       "    .dataframe thead th {\n",
       "        text-align: right;\n",
       "    }\n",
       "</style>\n",
       "<table border=\"1\" class=\"dataframe\">\n",
       "  <thead>\n",
       "    <tr style=\"text-align: right;\">\n",
       "      <th></th>\n",
       "      <th>Id_Pedido</th>\n",
       "      <th>Fecha</th>\n",
       "      <th>Lat</th>\n",
       "      <th>Long</th>\n",
       "      <th>Direccion</th>\n",
       "      <th>CP</th>\n",
       "      <th>Id_Paquete</th>\n",
       "      <th>Urgente</th>\n",
       "      <th>Ventana_Inicio</th>\n",
       "      <th>Ventana_Fin</th>\n",
       "      <th>Devolucion</th>\n",
       "      <th>Id_Paquete_Devol</th>\n",
       "      <th>Id_Cliente</th>\n",
       "    </tr>\n",
       "  </thead>\n",
       "  <tbody>\n",
       "    <tr>\n",
       "      <th>0</th>\n",
       "      <td>1</td>\n",
       "      <td>17/11/2022</td>\n",
       "      <td>40.404894</td>\n",
       "      <td>-3.683088</td>\n",
       "      <td>Avenida Ciudad de Barcelona N 108 Esc.1 1A, Ma...</td>\n",
       "      <td>28007</td>\n",
       "      <td>111</td>\n",
       "      <td>NO</td>\n",
       "      <td>0:00:00</td>\n",
       "      <td>23:59:59</td>\n",
       "      <td>SI</td>\n",
       "      <td>88.0</td>\n",
       "      <td>1</td>\n",
       "    </tr>\n",
       "    <tr>\n",
       "      <th>1</th>\n",
       "      <td>2</td>\n",
       "      <td>17/11/2022</td>\n",
       "      <td>40.416078</td>\n",
       "      <td>-3.702817</td>\n",
       "      <td>Calle de Cadiz N 1 1 1, Madrid</td>\n",
       "      <td>28012</td>\n",
       "      <td>17</td>\n",
       "      <td>NO</td>\n",
       "      <td>0:00:00</td>\n",
       "      <td>23:59:59</td>\n",
       "      <td>NO</td>\n",
       "      <td>NaN</td>\n",
       "      <td>2</td>\n",
       "    </tr>\n",
       "    <tr>\n",
       "      <th>2</th>\n",
       "      <td>3</td>\n",
       "      <td>17/11/2022</td>\n",
       "      <td>40.414122</td>\n",
       "      <td>-3.704077</td>\n",
       "      <td>Calle de Concepcion jeronima N 5 1 DR, Madrid</td>\n",
       "      <td>28012</td>\n",
       "      <td>4</td>\n",
       "      <td>SI</td>\n",
       "      <td>13:27:27</td>\n",
       "      <td>15:40:34</td>\n",
       "      <td>SI</td>\n",
       "      <td>81.0</td>\n",
       "      <td>3</td>\n",
       "    </tr>\n",
       "    <tr>\n",
       "      <th>3</th>\n",
       "      <td>4</td>\n",
       "      <td>17/11/2022</td>\n",
       "      <td>40.410154</td>\n",
       "      <td>-3.695928</td>\n",
       "      <td>Calle del Marques de Toca N 12 Esc.1 AT 1, Madrid</td>\n",
       "      <td>28012</td>\n",
       "      <td>115</td>\n",
       "      <td>NO</td>\n",
       "      <td>0:00:00</td>\n",
       "      <td>23:59:59</td>\n",
       "      <td>NO</td>\n",
       "      <td>NaN</td>\n",
       "      <td>4</td>\n",
       "    </tr>\n",
       "    <tr>\n",
       "      <th>4</th>\n",
       "      <td>5</td>\n",
       "      <td>17/11/2022</td>\n",
       "      <td>40.410179</td>\n",
       "      <td>-3.697674</td>\n",
       "      <td>Calle del salitre N 8 3 IZ, Madrid</td>\n",
       "      <td>28012</td>\n",
       "      <td>58</td>\n",
       "      <td>NO</td>\n",
       "      <td>12:00:39</td>\n",
       "      <td>16:07:01</td>\n",
       "      <td>NO</td>\n",
       "      <td>NaN</td>\n",
       "      <td>5</td>\n",
       "    </tr>\n",
       "  </tbody>\n",
       "</table>\n",
       "</div>"
      ],
      "text/plain": [
       "   Id_Pedido       Fecha        Lat      Long  \\\n",
       "0          1  17/11/2022  40.404894 -3.683088   \n",
       "1          2  17/11/2022  40.416078 -3.702817   \n",
       "2          3  17/11/2022  40.414122 -3.704077   \n",
       "3          4  17/11/2022  40.410154 -3.695928   \n",
       "4          5  17/11/2022  40.410179 -3.697674   \n",
       "\n",
       "                                           Direccion     CP  Id_Paquete  \\\n",
       "0  Avenida Ciudad de Barcelona N 108 Esc.1 1A, Ma...  28007         111   \n",
       "1                     Calle de Cadiz N 1 1 1, Madrid  28012          17   \n",
       "2      Calle de Concepcion jeronima N 5 1 DR, Madrid  28012           4   \n",
       "3  Calle del Marques de Toca N 12 Esc.1 AT 1, Madrid  28012         115   \n",
       "4                 Calle del salitre N 8 3 IZ, Madrid  28012          58   \n",
       "\n",
       "  Urgente Ventana_Inicio Ventana_Fin Devolucion  Id_Paquete_Devol  Id_Cliente  \n",
       "0      NO        0:00:00    23:59:59         SI              88.0           1  \n",
       "1      NO        0:00:00    23:59:59         NO               NaN           2  \n",
       "2      SI       13:27:27    15:40:34         SI              81.0           3  \n",
       "3      NO        0:00:00    23:59:59         NO               NaN           4  \n",
       "4      NO       12:00:39    16:07:01         NO               NaN           5  "
      ]
     },
     "execution_count": 31,
     "metadata": {},
     "output_type": "execute_result"
    }
   ],
   "source": [
    "PEDIDOS.head()"
   ]
  },
  {
   "cell_type": "markdown",
   "metadata": {
    "slideshow": {
     "slide_type": "slide"
    }
   },
   "source": [
    "## <font color='green'>PARAMETERS</font>"
   ]
  },
  {
   "cell_type": "markdown",
   "metadata": {},
   "source": [
    "Variables"
   ]
  },
  {
   "cell_type": "code",
   "execution_count": 32,
   "metadata": {
    "scrolled": true
   },
   "outputs": [],
   "source": [
    "# Nombre del fichero a visualizar\n",
    "puntosFijos1=PEDIDOS\n",
    "# Nombre de la columna del dataframe que contiene las latitudes\n",
    "latStr1 = 'Lat'\n",
    "# Nombre de la columna del dataframe que contiene las longitudes\n",
    "lonStr1 = 'Long'\n",
    "# Nombre de la columna del dataframe que contiene el nombre de los puntos a visualizar\n",
    "nameStr1=\"Id_Cliente\"\n",
    "# Nombre de las columnas del dataframe par visuzlizar en la tarjeta\n",
    "valueStr1 = [\"Direccion\",\"Id_Paquete\"]\n"
   ]
  },
  {
   "cell_type": "markdown",
   "metadata": {},
   "source": [
    "Parámetros para configurar el aspecto del mapa"
   ]
  },
  {
   "cell_type": "code",
   "execution_count": 33,
   "metadata": {
    "scrolled": true
   },
   "outputs": [],
   "source": [
    "# https://htmlcolorcodes.com/es/\n",
    "# https://htmlcolorcodes.com/es/tabla-de-colores/tabla-de-colores-diseno-plano/\n",
    "# Tabla de colores\n",
    "colores=['black','white', 'olive','lime','aqua', 'teal','fuchsia',\n",
    "         'red','#b03a2e','#cb4335','#e74c3c','#ec7063','#f1948a','#f5b7b1',\n",
    "         'green','#196f3d','#229954','#27ae60','#52be80','#7dcea0','#a9dfbf',\n",
    "         'maroon','#935116','#ca6f1e','#e67e22','#eb984e','#f0b27a','#f5cba7',\n",
    "         'gray','#797d7f','#a6acaf','#bdc3c7','#cacfd2','#d7dbdd','#e5e7e9',\n",
    "         'purple','#76448a','#884ea0','#9b59b6','#af7ac5','#c39bd3','#d7bde2',\n",
    "         'blue','#1f618d','#2471a3','#2980b9','#5499c7','#7fb3d5','#a9cce3',\n",
    "         'yellow','#d4ac0d','#f1c40f','#f4d03f','#f7dc6f','#f9e79f','#fcf3cf',\n",
    "        ]\n",
    "\n",
    "# Titulo del mapa\n",
    "titulo1 = 'Pedidos'\n",
    "# Tamaño puntos\n",
    "tamano1 = 5\n",
    "puntosFijos1['size'] = tamano1\n",
    "# Color de los puntos\n",
    "colorPuntos1 = \"blue\"\n",
    "# Zoom inicial\n",
    "zoom = 10\n",
    "# Tamaño del mapa\n",
    "alto=500\n",
    "# Tipo de mapa\n",
    "estilo_mapa='open-street-map' # \"open-street-map\", \"carto-positron\", \"carto-darkmatter\", \"stamen-terrain\",                           \n",
    "            # \"stamen-toner\" or \"stamen-watercolor\" "
   ]
  },
  {
   "cell_type": "markdown",
   "metadata": {
    "slideshow": {
     "slide_type": "slide"
    }
   },
   "source": [
    "## <font color='green'>MAP</font>"
   ]
  },
  {
   "cell_type": "code",
   "execution_count": 34,
   "metadata": {},
   "outputs": [
    {
     "data": {
      "text/html": [
       "<iframe\n",
       "    scrolling=\"no\"\n",
       "    width=\"100%\"\n",
       "    height=\"520\"\n",
       "    src=\"iframe_figures/figure_34.html\"\n",
       "    frameborder=\"0\"\n",
       "    allowfullscreen\n",
       "></iframe>\n"
      ]
     },
     "metadata": {},
     "output_type": "display_data"
    }
   ],
   "source": [
    "%matplotlib inline\n",
    "# Creamos un fig con las características que queremos, eligiendo columnas del dataframe\n",
    "fig1 = px.scatter_mapbox(puntosFijos1,\n",
    "                         lat=latStr1,\n",
    "                         lon=lonStr1,\n",
    "                         # Nombre del punto al poner el ratón encima\n",
    "                         hover_name=nameStr1,\n",
    "                         # Descripción del punto al poner el ratón encima\n",
    "                         hover_data=valueStr1,\n",
    "                         # Color de los puntos\n",
    "                         color_discrete_sequence=[colorPuntos1],\n",
    "                         # Zoom inicial\n",
    "                         zoom=zoom,\n",
    "                         # Tamaño del punto\n",
    "                         size=\"size\",\n",
    "                         size_max=tamano1,\n",
    "                         # Tamaño del mapa\n",
    "                         height=alto,\n",
    "                         # Estilo del mapa\n",
    "                         mapbox_style=estilo_mapa\n",
    "                         )\n",
    "fig1.update_layout(margin={\"r\": 0, \"t\": 0, \"l\": 0, \"b\": 0})\n",
    "fig1.show()\n"
   ]
  },
  {
   "cell_type": "markdown",
   "metadata": {
    "slideshow": {
     "slide_type": "slide"
    }
   },
   "source": [
    "## <font color='green'>ADITIONAL POINTS TO MAP</font>"
   ]
  },
  {
   "cell_type": "markdown",
   "metadata": {},
   "source": [
    "Variables"
   ]
  },
  {
   "cell_type": "code",
   "execution_count": 11,
   "metadata": {
    "scrolled": true
   },
   "outputs": [],
   "source": [
    "# Nombre del fichero a visualizar\n",
    "puntosFijos2=EVENTO\n",
    "# Nombre de la columna del dataframe que contiene las latitudes\n",
    "latStr2 = 'Latitud'\n",
    "# Nombre de la columna del dataframe que contiene las longitudes\n",
    "lonStr2 = 'Longitud'\n",
    "# Nombre de la columna del dataframe que contiene el nombre de los puntos a visualizar\n",
    "nameStr2=\"Id_Recurso\"\n",
    "# Nombre de las columnas del dataframe par visuzlizar en la tarjeta\n",
    "valueStr2 = [\"Nombre\",\"Descripcion\"]\n"
   ]
  },
  {
   "cell_type": "markdown",
   "metadata": {},
   "source": [
    "Parámetros para configurar el aspecto del mapa"
   ]
  },
  {
   "cell_type": "code",
   "execution_count": 14,
   "metadata": {
    "scrolled": true
   },
   "outputs": [],
   "source": [
    "# https://htmlcolorcodes.com/es/\n",
    "# https://htmlcolorcodes.com/es/tabla-de-colores/tabla-de-colores-diseno-plano/\n",
    "# Tabla de colores\n",
    "colores=['black','white', 'olive','lime','aqua', 'teal','fuchsia',\n",
    "         'red','#b03a2e','#cb4335','#e74c3c','#ec7063','#f1948a','#f5b7b1',\n",
    "         'green','#196f3d','#229954','#27ae60','#52be80','#7dcea0','#a9dfbf',\n",
    "         'maroon','#935116','#ca6f1e','#e67e22','#eb984e','#f0b27a','#f5cba7',\n",
    "         'gray','#797d7f','#a6acaf','#bdc3c7','#cacfd2','#d7dbdd','#e5e7e9',\n",
    "         'purple','#76448a','#884ea0','#9b59b6','#af7ac5','#c39bd3','#d7bde2',\n",
    "         'blue','#1f618d','#2471a3','#2980b9','#5499c7','#7fb3d5','#a9cce3',\n",
    "         'yellow','#d4ac0d','#f1c40f','#f4d03f','#f7dc6f','#f9e79f','#fcf3cf',\n",
    "        ]\n",
    "\n",
    "# Titulo del mapa\n",
    "titulo2 = 'Pedidos'\n",
    "# Tamaño puntos\n",
    "tamano2 = 5\n",
    "puntosFijos2['size'] = tamano1\n",
    "# Color de los puntos\n",
    "colorPuntos2 = \"red\"\n",
    "# Zoom inicial\n",
    "zoom = 10\n",
    "# Tamaño del mapa\n",
    "alto=500\n",
    "# Tipo de mapa\n",
    "estilo_mapa='open-street-map' # \"open-street-map\", \"carto-positron\", \"carto-darkmatter\", \"stamen-terrain\",                           \n",
    "            # \"stamen-toner\" or \"stamen-watercolor\" "
   ]
  },
  {
   "cell_type": "code",
   "execution_count": 15,
   "metadata": {},
   "outputs": [
    {
     "data": {
      "application/vnd.plotly.v1+json": {
       "config": {
        "plotlyServerURL": "https://plot.ly"
       },
       "data": [
        {
         "customdata": [
          [
           "Avenida Ciudad de Barcelona N 108 Esc.1 1A, Madrid",
           111
          ],
          [
           "Calle de Cadiz N 1 1 1, Madrid",
           17
          ],
          [
           "Calle de Concepcion jeronima N 5 1 DR, Madrid",
           4
          ],
          [
           "Calle del Marques de Toca N 12 Esc.1 AT 1, Madrid",
           115
          ],
          [
           "Calle del salitre N 8 3 IZ, Madrid",
           58
          ],
          [
           "Calle San Simon N 4 1 EI, Madrid",
           19
          ],
          [
           "Calle de la Magdalena N 32 2 DR, Madrid",
           63
          ],
          [
           "Calle de Lavapies N 17 2 1, Madrid",
           116
          ],
          [
           "Calle de Tellez N5 Esc.1 1A, Madrid",
           147
          ],
          [
           "Calle de la Ballesta N 13 1 2 1, Madrid",
           149
          ],
          [
           "Calle de Barcelona N 15 1 1, Madrid",
           131
          ],
          [
           "Calle de la Pasa N 4 2 1,Madrid",
           54
          ],
          [
           "Costanilla de los Desamparados N 2 2 DR, Madrid",
           130
          ],
          [
           "Cuesta de las Descargas N 10 1 3, Madrid",
           6
          ],
          [
           "Calle del Desengaño N 12 Esc.1 1 1, Madrid",
           151
          ],
          [
           "Calle del Divino Pastor N 28 Esc.Y 1 DR, Madrid",
           64
          ],
          [
           "Ronda de Atocha N 15 Esc. A 1A, Madrid",
           114
          ],
          [
           "Calle del Doctor Cortezo N 17 Esc.1 3 2, Madrid",
           182
          ],
          [
           "Calle de Mendez alvaro N 14 Esc.1 2 A, Madrid",
           84
          ],
          [
           "Paseo de la Infanta Isabel N 15 1 EI, Madrid",
           44
          ],
          [
           "Paseo del Prado N 24 1 DR, Madrid",
           165
          ],
          [
           "Paseo Santa Maria de la Cabeza N 1 Esc.1 1 I, Madrid",
           79
          ],
          [
           "Paseo de las Delicias N 33 1 2, Madrid",
           176
          ],
          [
           "Calle de Leganes N 3 Esc.3 1 A R.R.B.4, Madrid",
           43
          ],
          [
           "Calle Atocha N25 1 1, Madrid",
           144
          ],
          [
           "Calle de Alfonso XII N 8 2 IZ, Madrid",
           183
          ],
          [
           "Calle del Cerro de la Plata N 1 Esc.1 1 A, Madrid",
           143
          ],
          [
           "Calle Jerte N 6 1 IZ, Madrid",
           107
          ],
          [
           "Calle Jesus N 2 2 IZ, Madrid",
           89
          ],
          [
           "Calle Jesus del Valle N 2 1, Madrid",
           87
          ],
          [
           "Calle Carretas N33 Esc. I 2 IA, Madrid",
           172
          ],
          [
           "Calle de Jesus y Maria N 3 2 2, Madrid",
           155
          ],
          [
           "Calle de Lepanto N 4 3 1, Madrid",
           32
          ],
          [
           "Calle de la Libertad N 10 2 EX, Madrid",
           98
          ],
          [
           "Calle de los Libreros N 6 Esc.1 1 DR",
           13
          ],
          [
           "Calle de Lope de Vega N 3 1 1, Madrid",
           123
          ],
          [
           "Calle de Luciente N 11 3 IZ, Madrid",
           86
          ],
          [
           "Calle de la Luna N 11 1 2 IZ, Madrid",
           117
          ],
          [
           "Calle Torrecilla del Leal N 29 1 DR, Madrid",
           133
          ],
          [
           "Calle de la Madera N 5 Esc.1 1 DR, Madrid",
           161
          ],
          [
           "Calle de los Mancebos N 2 1 B, Madrid",
           65
          ],
          [
           "Calle de Manuela Malasaña N 3 Esc.1 1 A, Madrid",
           60
          ],
          [
           "Calle del Marques de Cubas N 6 3 D 3 DCH DH 24, Madrid",
           74
          ],
          [
           "Calle de Nao N 6 Esc.1 1 DR, Madrid",
           118
          ],
          [
           "Calle del Norte N 17 2 IZ, Madrid",
           71
          ],
          [
           "Calle del Noviciado N 16 2 DR, Madrid",
           29
          ],
          [
           "Calle del Olivar N 6 1 DR, Madrid",
           150
          ],
          [
           "Calle Huertas N8 1 IZ, Madrid",
           26
          ],
          [
           "Calle del Olmo N 16 1 B, Madrid",
           68
          ],
          [
           "Plaza de Oriente N 3 1 1, Madrid",
           35
          ],
          [
           "Calle de la Paloma N 10 1 DR, Madrid",
           174
          ],
          [
           "Calle de Pavia N 2 2 0A, Madrid",
           69
          ],
          [
           "Calle Mayor N19 Esc. E 1 ED, Madrid",
           56
          ],
          [
           "Calle de la Paz N 19 2 IZ, Madrid",
           31
          ],
          [
           "Calle de Pizarro N 24 Esc.1 1 DR, Madrid",
           128
          ],
          [
           "Calle de las Postas N 18 3 1, Madrid",
           90
          ],
          [
           "Calle de Cavanilles N 8 Esc.1 1 DR, Madrid",
           113
          ],
          [
           "Calle de Alberto Aguilera N 30 2 A, Madrid",
           99
          ],
          [
           "Calle de Alfonso VI N 3 1 YD, Madrid",
           57
          ],
          [
           "Calle del Almendro N 25 1 A, Madrid",
           125
          ],
          [
           "Calle de Amaniel N 34 Esc.1 1 A, Madrid",
           53
          ],
          [
           "Calle del Amor de Dios N 3 2 IZ, Madrid",
           120
          ],
          [
           "Calle del Arenal N 11 2 A, Madrid",
           66
          ],
          [
           "Calle del Ave Maria N 42, Madrid",
           109
          ],
          [
           "Calle de Abtao N4 Esc.1 1A, Madrid",
           162
          ],
          [
           "Calle de Bailen N 39 1 IZ, Madrid",
           46
          ],
          [
           "Calle de Barbieri N 16 2 DR, Madrid",
           12
          ],
          [
           "Calle de Belen N 10 1 DR, Madrid",
           136
          ],
          [
           "Calle de Buenavista N 40 3 B, Madrid",
           163
          ],
          [
           "Calle de la Bolsa N 10 Esc.2 1 DA, Madrid",
           132
          ],
          [
           "Calle de la Abada N 5 2 A, Madrid",
           83
          ],
          [
           "Calle de la Aduana N 17 1 EC, Madrid",
           138
          ],
          [
           "Calle del alamo N 6 Esc.1 4 1, Madrid",
           2
          ],
          [
           "Calle del Amparo N 97 4 B, Madrid",
           145
          ],
          [
           "Calle de Valderribas N3 1 ED, Madrid",
           171
          ],
          [
           "Calle de Hortaleza N 80 5 D, Madrid",
           51
          ],
          [
           "Calle de las Hileras N 16 Esc.1 2 IZ, Madrid",
           170
          ],
          [
           "Calle del Infante N 6 3 A, Madrid",
           77
          ],
          [
           "Calle de la Independencia N 3 1 IZ, Madrid",
           23
          ],
          [
           "Calle Imperial N 12 3 A, Madrid",
           179
          ],
          [
           "Calle Arcipreste de Hita N 6 0 A, Madrid",
           100
          ],
          [
           "Calle de Magallanes N 1 0 2, Madrid",
           8
          ],
          [
           "Calle de Viriato N 3 1 C, Madrid",
           148
          ],
          [
           "Calle de Modesto Lafuente N 5 4 3, Madrid",
           112
          ],
          [
           "Calle de Alburquerque N 3 3 A, Madrid",
           75
          ],
          [
           "Calle de Manuel Cortina N 1 1 A, Madrid",
           152
          ],
          [
           "Calle de la Duquesa de Parcent N 2 Esc.1 1 DR, Madrid",
           103
          ],
          [
           "Calle de Gando N 5 Esc.1 1 A, Madrid",
           166
          ],
          [
           "Calle de Navalmoral de la Mata N 7 Esc.1 3 B, Madrid",
           81
          ],
          [
           "Calle de Aldeanueva de la Vera N 8 Esc.1 4 D, Madrid",
           45
          ],
          [
           "Calle de Blas Cabrera N 1 Esc.1 1 IZ, Madrid",
           129
          ],
          [
           "Calle de Ampelido N 3 Esc.1 1 IZ, Madrid",
           50
          ],
          [
           "Calle de Francisco Zea N 4 Esc.1 2 B, Madrid",
           106
          ],
          [
           "Calle de Juan Bravo N 3 Esc.1 2 J, Madrid",
           169
          ],
          [
           "Calle del Conde de Vilches N 3 Esc.1 1 A, Madrid",
           160
          ],
          [
           "Calle de Azcona N 6 Esc.1 2 C, Madrid",
           167
          ],
          [
           "Calle de Astros N 14 6 D, Madrid",
           14
          ],
          [
           "Calle de Antonio Maura N 6 2 IZ, Madrid",
           28
          ],
          [
           "Calle de Rafael Salazar Alonso N 7 3 DR, Madrid",
           85
          ],
          [
           "Calle del Doce de Octubre N 4 1 C, Madrid",
           124
          ],
          [
           "Calle de Antonio Casero N 12 1 3, Madrid",
           39
          ],
          [
           "Calle de Vicente Caballero  N 7 0 A, Madrid",
           146
          ],
          [
           "Calle de Juan de Urbieta N 3 2 9, Madrid",
           177
          ],
          [
           "Avenida de Nazaret N 8 Esc.1 4 B, Madrid",
           15
          ],
          [
           "Calle de la Batalla del Salado N 3 Esc.A 1 A, Madrid",
           153
          ],
          [
           "Calle de Moratines 13 Esc.1 2 A, Madrid",
           119
          ],
          [
           "Calle de Valdelasierra N 1 Esc.1 3 D, Madrid",
           95
          ],
          [
           "Calle de Sebastian Elcano N 6 Esc.1 0 7, Madrid",
           173
          ],
          [
           "Calle de Arquitectura N 2 Esc.1 4 DR, Madrid",
           55
          ],
          [
           "Calle de Carvajales N 9 Esc.1 4 B, Madrid",
           121
          ],
          [
           "Calle de Melilla N 3 Esc.1 6 A, Madrid",
           82
          ],
          [
           "Calle de Ercilla N 10 Esc.1 3 C, Madrid",
           41
          ],
          [
           "Calle de Puerto Serrano N 1 5 A, Madrid",
           20
          ],
          [
           "Calle de Puerto de Miravete N 5 Esc.1 4 IZ, Madrid",
           139
          ],
          [
           "Calle de Puerto de la Cruz Verde N 5 Esc.2 6 DR, Madrid",
           164
          ],
          [
           "Paseo del Molino N 5 Esc.1 5 A, Madrid",
           127
          ],
          [
           "Calle de Embajadores N 1 2 A, Madrid",
           88
          ],
          [
           "Calle de Zurbano N 5 3 IZ, Madrid",
           78
          ],
          [
           "Calle de Ponzano N 6 3 DR, Madrid",
           110
          ],
          [
           "Calle de la Princesa 12 Esc.1 4 5, Madrid",
           102
          ],
          [
           "Glorieta de Cuatro Caminos N 4 Esc.2 4 DR, Madrid",
           22
          ],
          [
           "Calle de Covarrubias N 1 2 IZ4, Madrid",
           48
          ],
          [
           "Calle de Fuente del Berro N 1 Esc.1 2 C, Madrid",
           1
          ],
          [
           "Calle de Columela N 11 Esc.1 2 DR, Madrid",
           61
          ],
          [
           "Calle del Doctor Esquerdo N 3 Esc.A 3 IZ, Madrid",
           181
          ],
          [
           "Calle de Claudio Coello N 3 Esc.1 4 DR, Madrid",
           140
          ],
          [
           "Calle de Francisco Silvela N 7 Esc.2 0 A, Madrid",
           40
          ],
          [
           "Calle de Hermosilla N 8 Esc.1 5 IZ, Madrid",
           180
          ],
          [
           "Calle de Sagasta N 1 Esc.E 3 D, Madrid",
           76
          ],
          [
           "Calle de Galileo N 5 7 C, Madrid",
           9
          ],
          [
           "Calle de Fuencarral N 7 2 IZ, Madrid",
           16
          ],
          [
           "Calle de San Bernardo N 5 Esc.B 2 1, Madrid",
           62
          ],
          [
           "Calle de Bravo Murillo N 3 3 CN, Madrid",
           108
          ],
          [
           "Avenida de Filipinas N 44 3 A, Madrid",
           67
          ],
          [
           "Avenida de Portugal N 3 Esc.1 5 IZ, Madrid",
           168
          ],
          [
           "Paseo de Extremadura N 1 Esc.1 2 D, Madrid",
           126
          ],
          [
           "Calle de Casado de Alisal N 16 2 DR, Madrid",
           97
          ],
          [
           "Calle de Fernando el Santo N 3 5 1, Madrid",
           37
          ],
          [
           "Calle de Almagro N1 6 IZ, Madrid",
           157
          ],
          [
           "Paseo de Eduardo Dato N 12 3 A, Madrid",
           73
          ],
          [
           "Calle del Monte Esquinza N 10 2 DR, Madrid",
           49
          ],
          [
           "Calle de Santa Engracia N 6 6 IZ, Madrid",
           33
          ],
          [
           "Calle de Alenza N 10 5 D, Madrid",
           47
          ],
          [
           "Calle de Caracas N 1 5 B, Madrid",
           25
          ],
          [
           "Calle de Eloy Gonzalo N 7 1 IZ, Madrid",
           101
          ],
          [
           "Calle de Luchana N 8 6 B, Madrid",
           38
          ],
          [
           "Calle de Trafalgar N 12 2 3, Madrid",
           156
          ],
          [
           "Avenida de los Toreros N 12 Esc.1 3 DR, Madrid",
           27
          ],
          [
           "Calle de Padilla N 1 Esc.1 1 A, Madrid",
           42
          ],
          [
           "Calle de Lagasca N 5 Esc.1 2 IZ, Madrid",
           137
          ],
          [
           "Calle de Isaac Peral N 8 1 DR, Madrid",
           96
          ],
          [
           "Calle de Blasco de Garay N 1 3 C, Madrid",
           135
          ],
          [
           "Calle de Calvo Asensio N 9 3 DR, Madrid",
           24
          ],
          [
           "Calle de Francisca Armada N 16 Esc.1 2 B, Madrid",
           10
          ],
          [
           "Calle de Luis Mitjans N 12 3 D, Madrid",
           18
          ],
          [
           "Calle Valeria N 1 Esc.1 1 B, Madrid",
           154
          ],
          [
           "Calle de Seco N 6 Esc.1 3 D, Madrid",
           36
          ],
          [
           "Calle de Samaria N 10 8 IZ, Madrid",
           184
          ],
          [
           "Calle de Titulcia N 10 3 1, Madrid",
           11
          ],
          [
           "Calle de Rafael Calvo N 13 5 IZ, Madrid",
           141
          ],
          [
           "Calle de Avila N 3 1 ID, Madrid",
           59
          ],
          [
           "Avenida de la Moncloa N 4 4 A, Madrid",
           3
          ],
          [
           "Calle de Lopez de Hoyos N 161 2 B, Madrid",
           5
          ],
          [
           "Calle de Zigia N 3 2 C, Madrid",
           159
          ],
          [
           "Calle de Ntra. Sra. del Villar N 89 2 IZ, Madrid",
           91
          ],
          [
           "Avenida de Moratalaz N 199 2 A, Madrid",
           30
          ],
          [
           "Calle de Benjamin Palencia N 12 Esc.A 3 C, Madrid",
           134
          ],
          [
           "Calle de Javier de Miguel N 5 Esc.5 2 B, Madrid",
           104
          ],
          [
           "Ronda del Sur N 151 0 D, Madrid",
           142
          ],
          [
           "Calle Rutilo N 12 3 A, Madrid",
           34
          ],
          [
           "Calle de Salvador Martinez N 6 2 DR, Madrid",
           94
          ],
          [
           "Calle de Regil N 1 1 A, Madrid",
           21
          ],
          [
           "Avenida del Euro N 46 2 B, Madrid",
           80
          ],
          [
           "Calle de Dolores Barranco N 65 2 D, Madrid",
           72
          ],
          [
           "Calle de Francisco Guzman N 7 4 IZ, Madrid",
           7
          ],
          [
           "Calle Luis Feito N 11 Esc.1 3 D, Madrid",
           175
          ],
          [
           "Calle Antonio Antoranz N 22 4 C, Madrid",
           70
          ],
          [
           "Calle de Vidauba N 18 1 D, Madrid",
           158
          ],
          [
           "Calle de Alonso Cano N 95 1 DR, Madrid",
           92
          ],
          [
           "Calle de Jorge Manrique N 8 Esc.T 0D 0, Madrid",
           93
          ],
          [
           "Calle de San Fernando del Jarama N 2 Esc.1 3 IZ, Madrid",
           52
          ],
          [
           "Calle de Diego de Leon N 8 3 1, Madrid",
           178
          ],
          [
           "Calle de Castello N 111 Esc.1 1 C, Madrid",
           185
          ],
          [
           "Calle de Velazquez N 111 Esc.1 4 DR, Madrid",
           105
          ],
          [
           "Calle de Maldonado N 28 Esc.1 3 IZ, Madrid",
           122
          ]
         ],
         "hovertemplate": "<b>%{hovertext}</b><br><br>size=%{marker.size}<br>Lat=%{lat}<br>Long=%{lon}<br>Direccion=%{customdata[0]}<br>Id_Paquete=%{customdata[1]}<extra></extra>",
         "hovertext": [
          1,
          2,
          3,
          4,
          5,
          6,
          7,
          8,
          9,
          10,
          11,
          12,
          13,
          14,
          15,
          16,
          17,
          18,
          19,
          20,
          21,
          22,
          23,
          24,
          25,
          26,
          27,
          28,
          29,
          30,
          31,
          32,
          33,
          34,
          35,
          36,
          37,
          38,
          39,
          40,
          41,
          42,
          43,
          44,
          45,
          46,
          47,
          48,
          49,
          50,
          51,
          52,
          53,
          54,
          55,
          56,
          57,
          58,
          59,
          60,
          61,
          62,
          63,
          64,
          65,
          66,
          67,
          68,
          69,
          70,
          71,
          72,
          73,
          74,
          75,
          76,
          77,
          78,
          79,
          80,
          81,
          82,
          83,
          84,
          85,
          86,
          87,
          88,
          89,
          90,
          91,
          92,
          93,
          94,
          95,
          96,
          97,
          98,
          99,
          100,
          101,
          102,
          103,
          104,
          105,
          106,
          107,
          108,
          109,
          110,
          111,
          112,
          113,
          114,
          115,
          116,
          117,
          118,
          119,
          120,
          121,
          122,
          123,
          124,
          125,
          126,
          127,
          128,
          129,
          130,
          131,
          132,
          133,
          134,
          135,
          136,
          137,
          138,
          139,
          140,
          141,
          142,
          143,
          144,
          145,
          146,
          147,
          148,
          149,
          150,
          151,
          152,
          153,
          154,
          155,
          156,
          157,
          158,
          159,
          160,
          161,
          162,
          163,
          164,
          165,
          166,
          167,
          168,
          169,
          170,
          171,
          172,
          173,
          174,
          175,
          176,
          177,
          178,
          179,
          180,
          181,
          182,
          183,
          184,
          185
         ],
         "lat": [
          40.404893738,
          40.4160778229,
          40.4141217118,
          40.4101542709,
          40.4101794709,
          40.4113044131,
          40.4124978576,
          40.4110532066,
          40.4041592196,
          40.4220830021,
          40.415319368,
          40.4143612905,
          40.4132452,
          40.408682075,
          40.4211504366,
          40.42828041,
          40.4070130326,
          40.4128696633,
          40.4064453813,
          40.4072506182,
          40.4125441643,
          40.4071324881,
          40.4041819275,
          40.3986715854,
          40.4142261891,
          40.4185539429,
          40.4008065563,
          40.4113739294,
          40.4137565047,
          40.4240287879,
          40.4148979498,
          40.4121479102,
          40.4175433355,
          40.4210160085,
          40.4217337064,
          40.4141258911,
          40.4105887772,
          40.4226226746,
          40.4101874705,
          40.4228841707,
          40.4122196756,
          40.4287032852,
          40.4174389506,
          40.4221871728,
          40.4267297262,
          40.4260599956,
          40.4120434726,
          40.4135886238,
          40.4116951976,
          40.4179454761,
          40.4087892972,
          40.4192354413,
          40.4163456457,
          40.4151368512,
          40.4237801031,
          40.4159906436,
          40.4070538883,
          40.4304485349,
          40.4134568049,
          40.4122796202,
          40.4282576421,
          40.4134146306,
          40.4172362727,
          40.4100750712,
          40.4032435087,
          40.4125652399,
          40.4216448676,
          40.4243602012,
          40.4096414724,
          40.4151849717,
          40.4190962735,
          40.4184748067,
          40.4239685622,
          40.4069441711,
          40.4067903332,
          40.4237367979,
          40.4180515124,
          40.4143510653,
          40.4177351718,
          40.4147713414,
          40.4336455408499,
          40.4325235414523,
          40.4363556317346,
          40.4362794016238,
          40.4314430158369,
          40.4308694462488,
          40.3956078115456,
          40.376674782526,
          40.3757406266911,
          40.3819191486949,
          40.3820883218844,
          40.4076537303566,
          40.4353115028583,
          40.4336425389761,
          40.4355224355716,
          40.4329427072884,
          40.4110396126903,
          40.4164233743077,
          40.4161107542977,
          40.4155459131108,
          40.4202235713903,
          40.4195552959849,
          40.4037789589157,
          40.4114278046457,
          40.4057177481445,
          40.4032744107703,
          40.3980789792659,
          40.4041537792652,
          40.4002522792657,
          40.3998238019289,
          40.402160319582,
          40.4035880092818,
          40.3856794443164,
          40.3866863835369,
          40.3875128950759,
          40.3908318938675,
          40.4108920687682,
          40.4277069804348,
          40.4372065451641,
          40.4258029502971,
          40.4473701085977,
          40.4283542132191,
          40.4269052135712,
          40.4212498506312,
          40.4274243805377,
          40.4207062716319,
          40.428959212359,
          40.4263068481745,
          40.4290000799635,
          40.431005545918,
          40.4206638113526,
          40.4210571321371,
          40.4342840780378,
          40.4411377792609,
          40.4161953530865,
          40.4138038792641,
          40.4138134792642,
          40.4284067132064,
          40.4282298472402,
          40.4326743792619,
          40.427218245034,
          40.4286980470127,
          40.4438276141631,
          40.4309066125952,
          40.4341435804433,
          40.4295562798622,
          40.4318075456032,
          40.4319215793633,
          40.431808545925,
          40.4214297535045,
          40.435758416961,
          40.4304558459245,
          40.4324706128895,
          40.403749109406,
          40.3999219089419,
          40.4008750793703,
          40.3987383701915,
          40.4128053727777,
          40.4089247100335,
          40.4340988793663,
          40.4530022153813,
          40.4463511202068,
          40.449081137212,
          40.4387720765067,
          40.4244452233779,
          40.4096768538685,
          40.3946518289319,
          40.3890130923687,
          40.3757960260878,
          40.365434204762,
          40.367429151242,
          40.368676476261,
          40.3641551541431,
          40.3828151450114,
          40.3858225289143,
          40.3909831134106,
          40.3813111819428,
          40.3810043715225,
          40.4447616512912,
          40.4432727412162,
          40.4385526714158,
          40.4352107015703,
          40.4357292497558,
          40.4365110536171,
          40.4337450367235
         ],
         "legendgroup": "",
         "lon": [
          -3.6830877896,
          -3.7028167543,
          -3.7040770135,
          -3.6959280506,
          -3.6976740255,
          -3.6996746929,
          -3.6998828064,
          -3.7020450046,
          -3.6826380472,
          -3.7029024181,
          -3.7021339371,
          -3.7083621948,
          -3.6961427218,
          -3.7144755469,
          -3.7024529432,
          -3.7047051852,
          -3.6954568454,
          -3.7036041985,
          -3.6916745794,
          -3.6871124585,
          -3.6928886181,
          -3.6932132794,
          -3.6931606697,
          -3.6812560776,
          -3.7025971319,
          -3.6887893408,
          -3.6738411794,
          -3.7146985353,
          -3.695357339,
          -3.7041560643,
          -3.7032054454,
          -3.7038130353,
          -3.7107533242,
          -3.6966522297,
          -3.7060017911,
          -3.6981689813,
          -3.7103935279,
          -3.7058462236,
          -3.6989787896,
          -3.7052509236,
          -3.7108617242,
          -3.7020649046,
          -3.6951098757,
          -3.7033307641,
          -3.7070208794,
          -3.7083075218,
          -3.7009690567,
          -3.6974553902,
          -3.6998943604,
          -3.7109272641,
          -3.7113548199,
          -3.7110079199,
          -3.7065355184,
          -3.7038499929,
          -3.7046631702,
          -3.7055233162,
          -3.6775385297,
          -3.71035196,
          -3.7119444929,
          -3.7100355929,
          -3.7086648257,
          -3.6975549757,
          -3.7058102297,
          -3.7003161144,
          -3.677006819,
          -3.7129896451,
          -3.6973335604,
          -3.6959283506,
          -3.699069726,
          -3.704088368,
          -3.7038958101,
          -3.7008597892,
          -3.7082036488,
          -3.7000298353,
          -3.6800002472,
          -3.6979146027,
          -3.7066700567,
          -3.6987432929,
          -3.7096383622,
          -3.7066682735,
          -3.72207540479586,
          -3.70582009022437,
          -3.70371280431183,
          -3.69661249630016,
          -3.70244489260032,
          -3.69889617177657,
          -3.7442705773284,
          -3.76511303712195,
          -3.77783972575137,
          -3.77141060608284,
          -3.77471307786331,
          -3.73359226252145,
          -3.6679719151125,
          -3.6845729471796,
          -3.66830942630262,
          -3.67126325882889,
          -3.66689364475151,
          -3.69064018766496,
          -3.66712938212848,
          -3.67634021465459,
          -3.66734132941121,
          -3.6675980588297,
          -3.6771798440665,
          -3.67070049503957,
          -3.69156944591268,
          -3.70292197976014,
          -3.70653363303672,
          -3.70064186187192,
          -3.70302876187218,
          -3.7019900618722,
          -3.71080263303648,
          -3.70360073303638,
          -3.68825119325338,
          -3.68808816187299,
          -3.68705706184024,
          -3.69398173300426,
          -3.70616609121556,
          -3.69396024649477,
          -3.69907490416568,
          -3.71243457533063,
          -3.70435130416507,
          -3.69729960416624,
          -3.67065575509144,
          -3.68651397533093,
          -3.66785136183778,
          -3.68753945092512,
          -3.66991623300194,
          -3.6882639753306,
          -3.70130987533045,
          -3.71091903300182,
          -3.70161419067395,
          -3.70840103558212,
          -3.70463699067313,
          -3.70677466183695,
          -3.72421110416698,
          -3.72522823300287,
          -3.68945333300287,
          -3.69424096183774,
          -3.69542174649475,
          -3.69200000416597,
          -3.69212173300205,
          -3.69555637533046,
          -3.70031443300104,
          -3.69675143300183,
          -3.70255466183739,
          -3.70097726194399,
          -3.70031114660355,
          -3.66909570427369,
          -3.68647840187896,
          -3.68603570190545,
          -3.7178669,
          -3.71195280190533,
          -3.71241334423396,
          -3.74266673074156,
          -3.67082080190601,
          -3.66992224423468,
          -3.67227543360737,
          -3.67177600190573,
          -3.67287348841275,
          -3.69470583074088,
          -3.70263243074048,
          -3.71580615957628,
          -3.66693904423362,
          -3.64514330190512,
          -3.65115247116435,
          -3.64198527116435,
          -3.65036152883568,
          -3.66343990190628,
          -3.66966828841348,
          -3.68617083074242,
          -3.69978914423543,
          -3.71632911724928,
          -3.7530381442355,
          -3.709186164418,
          -3.7295940618083,
          -3.74389273852471,
          -3.74235479327291,
          -3.76303532318661,
          -3.69734752315013,
          -3.6893428435378,
          -3.67795953056069,
          -3.68451702210888,
          -3.68087994670427,
          -3.68365587821008,
          -3.68103643850028
         ],
         "marker": {
          "color": "blue",
          "size": [
           5,
           5,
           5,
           5,
           5,
           5,
           5,
           5,
           5,
           5,
           5,
           5,
           5,
           5,
           5,
           5,
           5,
           5,
           5,
           5,
           5,
           5,
           5,
           5,
           5,
           5,
           5,
           5,
           5,
           5,
           5,
           5,
           5,
           5,
           5,
           5,
           5,
           5,
           5,
           5,
           5,
           5,
           5,
           5,
           5,
           5,
           5,
           5,
           5,
           5,
           5,
           5,
           5,
           5,
           5,
           5,
           5,
           5,
           5,
           5,
           5,
           5,
           5,
           5,
           5,
           5,
           5,
           5,
           5,
           5,
           5,
           5,
           5,
           5,
           5,
           5,
           5,
           5,
           5,
           5,
           5,
           5,
           5,
           5,
           5,
           5,
           5,
           5,
           5,
           5,
           5,
           5,
           5,
           5,
           5,
           5,
           5,
           5,
           5,
           5,
           5,
           5,
           5,
           5,
           5,
           5,
           5,
           5,
           5,
           5,
           5,
           5,
           5,
           5,
           5,
           5,
           5,
           5,
           5,
           5,
           5,
           5,
           5,
           5,
           5,
           5,
           5,
           5,
           5,
           5,
           5,
           5,
           5,
           5,
           5,
           5,
           5,
           5,
           5,
           5,
           5,
           5,
           5,
           5,
           5,
           5,
           5,
           5,
           5,
           5,
           5,
           5,
           5,
           5,
           5,
           5,
           5,
           5,
           5,
           5,
           5,
           5,
           5,
           5,
           5,
           5,
           5,
           5,
           5,
           5,
           5,
           5,
           5,
           5,
           5,
           5,
           5,
           5,
           5,
           5,
           5,
           5,
           5,
           5,
           5
          ],
          "sizemode": "area",
          "sizeref": 0.2
         },
         "mode": "markers",
         "name": "",
         "showlegend": false,
         "subplot": "mapbox",
         "type": "scattermapbox"
        },
        {
         "customdata": [
          [
           "Concierto de Sabina",
           "Joaquín de Sabina dará en exclusiva este concierto en el que presentará su nuevo disco"
          ],
          [
           "Venta de discos de Sabina",
           "Venta de discos del trabajo de Joaquín de Sabina"
          ],
          [
           "Firma de discos de Sabina",
           "Joaquín de Sabina hará una firma de discos previa a su concierto."
          ],
          [
           "Expositor Sabina",
           "Recorre la vida de Joaquín Sabina desde su infancia hasta la actualidad en esta exposición"
          ],
          [
           "Espectáculo de danz",
           "Espectáculo de danza de la escuela de danza de Torrejón"
          ],
          [
           "Merchandisig Sabina",
           "Punto de venta de merchandising de Joaquín Sabina"
          ],
          [
           "Firma de discos Coldplay",
           "Coldplay firmará su último disco a las 10"
          ],
          [
           "Concierto Coldplay",
           "Coldplay dará un Concierto único en esclusiva en el recinto del IFEMA"
          ],
          [
           "Firma de discos de Bombay",
           "Bombay hará una firma de discos. Aprovehca y llevate un buen recuerdo!"
          ],
          [
           "Cocierto Bombay",
           "Cocierto de Bombay. Bombai son Javi (voz) Vicente (guitarra eléctrica) y Ramón (guitarra acústica). tres amigos de la infancia con años de música detrás que se juntaron y empezaron a componer."
          ],
          [
           "Firma de discos de Los Zigarros",
           "Firma de discos de Los Zigarros"
          ],
          [
           "Concierto de Los Zigarros",
           "Disfruta de lo último del grupo en este concierto de Los Zigarros"
          ],
          [
           "Firma de discos de Sidecars",
           "Firma de discos de Sidecars"
          ],
          [
           "Concierto de Sidecars",
           "SIDECARS presenta su nuevo single “SI ME VES APARECER” compuesto y producido por Juancho."
          ],
          [
           "Firma de discos de Taburete",
           "Firma de discos de Taburete"
          ],
          [
           "Concierto de Taburete",
           "Concierto de Taburete en el presentará su trabajo por la geografía española"
          ],
          [
           "Firma de discos de Arnau Griso",
           "Firma de discos de Arnau Griso"
          ],
          [
           "Concierto de Arnau Griso",
           "Concierto de Arnau Griso"
          ],
          [
           "Puesto de venta de merchandising pop español",
           "Puesto de venta de merchandising pop español"
          ],
          [
           "Expositor historia del pop español",
           "Expositor historia del pop español. En este expositor se recorrerá por la historia del pop español."
          ],
          [
           "EspaPop",
           "EspaPop es una charla en la que se discutirá el presente y futuro de nuestro pop."
          ],
          [
           "Firma de discos DAMY SOUL",
           "Firma de discos DAMY SOUL"
          ],
          [
           "Concierto DAMY SOUL",
           "Concierto DAMY SOUL"
          ],
          [
           "Firma Clau De Swing",
           "Firma Clau De Swing"
          ],
          [
           "Concierto de Clau De Swing",
           "Concierto de Clau De Swing"
          ],
          [
           "Firma Tina & Joe",
           "Firma de discos y merchandising de Tina & Joe"
          ],
          [
           "Concierto Tina & Joe",
           "Concierto Tina & Joe"
          ],
          [
           "Expositor jazz es futuro",
           "Expositor jazz es futuro"
          ],
          [
           "Firma J Balvin",
           "Firma de discos y merchandising de J Balvin"
          ],
          [
           "Concierto J Balvin",
           "Concierto J Balvin"
          ],
          [
           "Firma Maluma",
           "Firma de discos y merchandising de Maluma"
          ],
          [
           "Concierto Maluma",
           "Concierto Maluma"
          ],
          [
           "Firma Omar",
           "Firma de discos y merchandising de  Omar"
          ],
          [
           "Concierto Omar",
           "Concierto Omar"
          ],
          [
           "Mechandising Reggaeton",
           "Mechandising Reggaeton"
          ],
          [
           "Firma Kase.O",
           "Firma Kase.O"
          ],
          [
           "Concierto Kase.O",
           "Concierto Kase.O"
          ],
          [
           "Firma Foyone",
           "Firma de discos y merchandising de Foyone"
          ],
          [
           "Concierto Foyone",
           "Concierto Foyone"
          ],
          [
           "Firma Ayax y Prok",
           "Firma de discos y merchandising de  Ayax y Prok"
          ],
          [
           "Concierto Ayax y Prok",
           "Concierto Ayax y Prok"
          ],
          [
           "Rap y sus barrios",
           "En rao y sus barrios "
          ],
          [
           "Firma Alter Bridge",
           "Firma Alter Bridge"
          ],
          [
           "Concierto Alter Bridge",
           "Concierto Alter Bridge"
          ],
          [
           "Firma Godsmack",
           "Firma Godsmack"
          ],
          [
           "Concierto Godsmack",
           "Concierto Godsmack"
          ],
          [
           "Firma Sevendust",
           "Firma Sevendust"
          ],
          [
           "Concierto Sevendust",
           "Concierto Sevendust"
          ],
          [
           "Musica alternativa 80s",
           "Expositor que tratará cómo fué la musica alternativa de los 80s"
          ],
          [
           "Cocierto banda Conservatorio Profesional de Música Joaquín Turina",
           "Cocierto banda Conservatorio Profesional de Música Joaquín Turina"
          ],
          [
           "Concierto orquesta Conservatorio Profesional de Música Victoria de los Ángeles Madrid",
           "Concierto orquesta Conservatorio Profesional de Música Victoria de los Ángeles Madrid"
          ],
          [
           "Concierto profesores Conservatorio Profesional de Música Arturo Soria",
           "Concierto profesores Conservatorio Profesional de Música Arturo Soria"
          ],
          [
           "Cocierto musica de camara Conservatorio Profesional de Música Amaniel",
           "Cocierto musica de camara Conservatorio Profesional de Música Amaniel"
          ],
          [
           "Concierto orquesta Conservatorio Profesional de Música de Getafe",
           "Concierto orquesta Conservatorio Profesional de Música de Getafe"
          ],
          [
           "Concierto sinfonico Real Conservatorio Superior de Música de Madrid",
           "Concierto sinfonico Real Conservatorio Superior de Música de Madrid"
          ],
          [
           "Concierto coro Escuela Superior de Música Reina Sofía",
           "Concierto coro Escuela Superior de Música Reina Sofía"
          ],
          [
           "Conservatorios Madrid",
           "Aquí podrás ver las diferentes ofertertas y características de los conservatorios de música de Madrid."
          ],
          [
           "Chopper Monster",
           "Puesto de venta de discos de rock"
          ],
          [
           "AllfonRock",
           "Puesto de venta de discos de rock"
          ],
          [
           "Musical Henares",
           "PuPuesto de venta de discos de pop"
          ],
          [
           "La cara B",
           "Puesto de venta de discos de pop"
          ],
          [
           "Jazzymas",
           "Puesto de venta de discos de pop"
          ],
          [
           "Musical Princesa",
           "Puesto de venta de discos de música clásica"
          ],
          [
           "Nakasha",
           "Puesto de venta de discos de música clásica"
          ],
          [
           "La Gramola",
           "Puesto de venta de discos de Reggaeton"
          ],
          [
           "Discos La Metralleta",
           "Puesto de venta de discos de Reggaeton"
          ],
          [
           "Marilians Records",
           "Puesto de venta de discos de Reggaeton"
          ],
          [
           "Denied Rock",
           "Puesto de venta de merchandising de Rock"
          ],
          [
           "New Rock Fuencarral",
           "Puesto de venta de merchandising de Rock"
          ],
          [
           "Popping",
           "Puesto de venta de merchandising de Pop"
          ],
          [
           "Atlántica Pop",
           "Puesto de venta de merchandising de Pop"
          ],
          [
           "Spiccato",
           "Puesto de venta de merchandising de Jazz"
          ],
          [
           "Directa Music",
           "Puesto de venta de merchandising de música clásica"
          ],
          [
           "Stomp Zion",
           "Puesto de venta de merchandising de Rap"
          ],
          [
           "Red Bubble",
           "Puesto de venta de merchandising de Reggaeton"
          ],
          [
           "G music",
           "Puesto de venta de merchandising de Reggaeton"
          ],
          [
           "UrbanoShop",
           "Puesto de venta de merchandising de Reggaeton"
          ],
          [
           "Perritos calientes",
           "Puesto de comida rápida donde puedes adquirir perritos calientes."
          ],
          [
           "Hamburguesa",
           "Puesto de comida rápida donde puedes adquirir Hamburguesas"
          ],
          [
           "Frutos Secos",
           "Consigue todo tipo de Frutos secos aqui."
          ],
          [
           "Pizza Kebab",
           "El clásico kebab y las mejores pizzas para disfrutarlo en el ifema"
          ],
          [
           "Cerveceria",
           "Cerveza artesana de todo tipo. Aprovecha y prueba las mejores cervezas."
          ],
          [
           "Barbacoa",
           "Puesto donde conseguirás los mejores ahumados y barbacoa de Madrid"
          ],
          [
           "Food Truck",
           "Food Truck. Puesto de comida rápida"
          ],
          [
           "Starbucks Coffe",
           "Cadena de cafés Starbucks Coffe"
          ],
          [
           "Hard Rock",
           "Cadena de cafés Hard Rock"
          ],
          [
           "grido",
           "Disfruta de un refrescante helado en Grido."
          ],
          [
           "llaollao",
           "Llaollao es una cadena de yogurt helado."
          ],
          [
           "Dominos pizza",
           "Dominos pizza es una cadena de pizzerías."
          ],
          [
           "McDonal's",
           "McDonal's. Restaurante de cómida rápida conocido por sus hamburguesas."
          ],
          [
           "KFC",
           "KFC es un restaurante de pollo frito."
          ],
          [
           "Taco Bell",
           "Disfruta del auténtico sabor de los tacos mexicanos en Taco Bell"
          ],
          [
           "The Good Burger",
           "The Good Burger. Restaurante de cómida rápida conocido por sus hamburguesas."
          ],
          [
           "Telepizza",
           "Telepizza. Restaurante de cómida rápida conocido por sus pizzas."
          ],
          [
           "Tagliatella",
           "Tagliatella es un restaurante italiano donde puedes disfrutar de una comida Italiana auténtica."
          ],
          [
           "Subway",
           "Subway es una cadena de restaurantes de comida rápida."
          ],
          [
           "Templo de bambú",
           "En el Templo de bambú puedes disfrutar de comida asiática en su máximo explendor."
          ],
          [
           "Clásico a dos",
           "Clásico a dos es una experiencia donde María Mezcle nos deleitará con su nuevo espectáculo."
          ],
          [
           "Falla 3.0",
           "Camerata Flamenco Project representa Falla 3.0 su exitoso espectáculo de flamenco."
          ],
          [
           "Bailes Extranhos",
           "Bailes Extranhos por Sandra Carrasco y David de Arahal."
          ],
          [
           "A Voz y Guitarra",
           "Concierto flamenco a Voz y Guitarra"
          ],
          [
           "En Recital",
           "En Recital interpretado por el cantautor José Valencia."
          ],
          [
           "Las Mujeres Cantan al Mito",
           "Concierto Las Mujeres Cantan al Mito."
          ],
          [
           "Guitarras flamencas",
           "Guitarras flamencas es un espectáculo flamenco en el que se interpretarán las obras más míticas a guitarra."
          ],
          [
           "Firma Osuna",
           "Firma de discos y camisetas de Osuna."
          ],
          [
           "Concierto Osuna",
           "Concierto de Osuna."
          ],
          [
           "Firma Danny Ávila",
           "Firma de discos de Danny Ávila."
          ],
          [
           "Concierto Danny Ávila",
           "Concierto de la gira de Danny Ávila."
          ],
          [
           "Firma DJ Chus",
           "Firma de disco de DJ Chus"
          ],
          [
           "Concierto DJ Chus",
           "Concierto de  DJ Chus"
          ]
         ],
         "hovertemplate": "<b>%{hovertext}</b><br><br>size=%{marker.size}<br>Latitud=%{lat}<br>Longitud=%{lon}<br>Nombre=%{customdata[0]}<br>Descripcion=%{customdata[1]}<extra></extra>",
         "hovertext": [
          0,
          1,
          2,
          3,
          4,
          5,
          6,
          7,
          8,
          9,
          10,
          11,
          12,
          13,
          14,
          15,
          16,
          17,
          18,
          19,
          20,
          21,
          22,
          23,
          24,
          25,
          26,
          27,
          28,
          29,
          30,
          31,
          32,
          33,
          34,
          35,
          36,
          37,
          38,
          39,
          40,
          41,
          42,
          43,
          44,
          45,
          46,
          47,
          48,
          49,
          50,
          51,
          52,
          53,
          54,
          55,
          56,
          57,
          58,
          59,
          60,
          61,
          62,
          63,
          64,
          65,
          66,
          67,
          68,
          69,
          70,
          71,
          72,
          73,
          74,
          75,
          76,
          77,
          78,
          79,
          80,
          81,
          82,
          83,
          84,
          85,
          86,
          87,
          88,
          89,
          90,
          91,
          92,
          93,
          94,
          95,
          96,
          97,
          98,
          99,
          100,
          101,
          102,
          103,
          104,
          105,
          106,
          107,
          108,
          109
         ],
         "lat": [
          40.46912,
          40.46931,
          40.4688,
          40.46915,
          40.46881,
          40.46907,
          40.46864,
          40.46877,
          40.4689,
          40.46896,
          40.46857,
          40.46849,
          40.46841,
          40.47022,
          40.47058,
          40.47055,
          40.47047,
          40.47,
          40.47,
          40.47004,
          40.47037,
          40.46986,
          40.47021,
          40.47017,
          40.47008,
          40.46961,
          40.46964,
          40.46974,
          40.46695,
          40.46717,
          40.46715,
          40.46701,
          40.46668,
          40.46662,
          40.46676,
          40.46656,
          40.46675,
          40.46683,
          40.46649,
          40.46624,
          40.46622,
          40.4666,
          40.46577,
          40.46581,
          40.46584,
          40.46558,
          40.46549,
          40.46545,
          40.46555,
          40.46612,
          40.46616,
          40.46601,
          40.46586,
          40.46578,
          40.46574,
          40.466,
          40.46613,
          40.46821,
          40.46824,
          40.46829,
          40.46833,
          40.46837,
          40.4684,
          40.46826,
          40.46814,
          40.46801,
          40.46788,
          40.46775,
          40.46773,
          40.46772,
          40.4677,
          40.46767,
          40.46763,
          40.46793,
          40.46794,
          40.46799,
          40.46807,
          40.46793,
          40.46797,
          40.46799,
          40.46803,
          40.46807,
          40.46804,
          40.46795,
          40.46784,
          40.46772,
          40.4676,
          40.46735,
          40.46734,
          40.46731,
          40.46728,
          40.46726,
          40.46725,
          40.46755,
          40.46763,
          40.4677,
          40.46773,
          40.46601,
          40.46611,
          40.46613,
          40.4665,
          40.46684,
          40.4668,
          40.46639,
          40.46774,
          40.46816,
          40.46825,
          40.46789,
          40.46747,
          40.46737
         ],
         "legendgroup": "",
         "lon": [
          -3.61544,
          -3.61604,
          -3.61597,
          -3.61661,
          -3.61643,
          -3.61533,
          -3.61874,
          -3.61936,
          -3.61885,
          -3.61816,
          -3.61803,
          -3.61869,
          -3.6193,
          -3.61638,
          -3.61566,
          -3.61632,
          -3.61701,
          -3.61688,
          -3.61629,
          -3.61565,
          -3.61557,
          -3.61906,
          -3.61837,
          -3.61903,
          -3.61971,
          -3.61953,
          -3.61896,
          -3.61839,
          -3.61552,
          -3.61501,
          -3.61549,
          -3.61617,
          -3.61609,
          -3.61547,
          -3.61487,
          -3.61827,
          -3.61833,
          -3.6176,
          -3.61751,
          -3.61824,
          -3.61902,
          -3.61912,
          -3.61829,
          -3.61793,
          -3.61753,
          -3.61746,
          -3.61765,
          -3.61798,
          -3.61837,
          -3.61559,
          -3.6153,
          -3.61508,
          -3.61521,
          -3.61546,
          -3.61582,
          -3.61607,
          -3.61574,
          -3.61618,
          -3.61596,
          -3.61574,
          -3.61556,
          -3.61527,
          -3.61505,
          -3.615,
          -3.61497,
          -3.61493,
          -3.61489,
          -3.61485,
          -3.61508,
          -3.61524,
          -3.61546,
          -3.61579,
          -3.61608,
          -3.61613,
          -3.61578,
          -3.6154,
          -3.61518,
          -3.61878,
          -3.61855,
          -3.61835,
          -3.61813,
          -3.61788,
          -3.61744,
          -3.61741,
          -3.6174,
          -3.61738,
          -3.61735,
          -3.61774,
          -3.61789,
          -3.61801,
          -3.61828,
          -3.61848,
          -3.61867,
          -3.61866,
          -3.6184,
          -3.61794,
          -3.61766,
          -3.61353,
          -3.61296,
          -3.61258,
          -3.61263,
          -3.61271,
          -3.61315,
          -3.61364,
          -3.61399,
          -3.61349,
          -3.61297,
          -3.61279,
          -3.6127,
          -3.61335
         ],
         "marker": {
          "color": "blue",
          "size": [
           5,
           5,
           5,
           5,
           5,
           5,
           5,
           5,
           5,
           5,
           5,
           5,
           5,
           5,
           5,
           5,
           5,
           5,
           5,
           5,
           5,
           5,
           5,
           5,
           5,
           5,
           5,
           5,
           5,
           5,
           5,
           5,
           5,
           5,
           5,
           5,
           5,
           5,
           5,
           5,
           5,
           5,
           5,
           5,
           5,
           5,
           5,
           5,
           5,
           5,
           5,
           5,
           5,
           5,
           5,
           5,
           5,
           5,
           5,
           5,
           5,
           5,
           5,
           5,
           5,
           5,
           5,
           5,
           5,
           5,
           5,
           5,
           5,
           5,
           5,
           5,
           5,
           5,
           5,
           5,
           5,
           5,
           5,
           5,
           5,
           5,
           5,
           5,
           5,
           5,
           5,
           5,
           5,
           5,
           5,
           5,
           5,
           5,
           5,
           5,
           5,
           5,
           5,
           5,
           5,
           5,
           5,
           5,
           5,
           5
          ],
          "sizemode": "area",
          "sizeref": 0.2
         },
         "mode": "markers",
         "name": "",
         "showlegend": false,
         "subplot": "mapbox",
         "type": "scattermapbox"
        },
        {
         "customdata": [
          [
           "Concierto de Sabina",
           "Joaquín de Sabina dará en exclusiva este concierto en el que presentará su nuevo disco"
          ],
          [
           "Venta de discos de Sabina",
           "Venta de discos del trabajo de Joaquín de Sabina"
          ],
          [
           "Firma de discos de Sabina",
           "Joaquín de Sabina hará una firma de discos previa a su concierto."
          ],
          [
           "Expositor Sabina",
           "Recorre la vida de Joaquín Sabina desde su infancia hasta la actualidad en esta exposición"
          ],
          [
           "Espectáculo de danz",
           "Espectáculo de danza de la escuela de danza de Torrejón"
          ],
          [
           "Merchandisig Sabina",
           "Punto de venta de merchandising de Joaquín Sabina"
          ],
          [
           "Firma de discos Coldplay",
           "Coldplay firmará su último disco a las 10"
          ],
          [
           "Concierto Coldplay",
           "Coldplay dará un Concierto único en esclusiva en el recinto del IFEMA"
          ],
          [
           "Firma de discos de Bombay",
           "Bombay hará una firma de discos. Aprovehca y llevate un buen recuerdo!"
          ],
          [
           "Cocierto Bombay",
           "Cocierto de Bombay. Bombai son Javi (voz) Vicente (guitarra eléctrica) y Ramón (guitarra acústica). tres amigos de la infancia con años de música detrás que se juntaron y empezaron a componer."
          ],
          [
           "Firma de discos de Los Zigarros",
           "Firma de discos de Los Zigarros"
          ],
          [
           "Concierto de Los Zigarros",
           "Disfruta de lo último del grupo en este concierto de Los Zigarros"
          ],
          [
           "Firma de discos de Sidecars",
           "Firma de discos de Sidecars"
          ],
          [
           "Concierto de Sidecars",
           "SIDECARS presenta su nuevo single “SI ME VES APARECER” compuesto y producido por Juancho."
          ],
          [
           "Firma de discos de Taburete",
           "Firma de discos de Taburete"
          ],
          [
           "Concierto de Taburete",
           "Concierto de Taburete en el presentará su trabajo por la geografía española"
          ],
          [
           "Firma de discos de Arnau Griso",
           "Firma de discos de Arnau Griso"
          ],
          [
           "Concierto de Arnau Griso",
           "Concierto de Arnau Griso"
          ],
          [
           "Puesto de venta de merchandising pop español",
           "Puesto de venta de merchandising pop español"
          ],
          [
           "Expositor historia del pop español",
           "Expositor historia del pop español. En este expositor se recorrerá por la historia del pop español."
          ],
          [
           "EspaPop",
           "EspaPop es una charla en la que se discutirá el presente y futuro de nuestro pop."
          ],
          [
           "Firma de discos DAMY SOUL",
           "Firma de discos DAMY SOUL"
          ],
          [
           "Concierto DAMY SOUL",
           "Concierto DAMY SOUL"
          ],
          [
           "Firma Clau De Swing",
           "Firma Clau De Swing"
          ],
          [
           "Concierto de Clau De Swing",
           "Concierto de Clau De Swing"
          ],
          [
           "Firma Tina & Joe",
           "Firma de discos y merchandising de Tina & Joe"
          ],
          [
           "Concierto Tina & Joe",
           "Concierto Tina & Joe"
          ],
          [
           "Expositor jazz es futuro",
           "Expositor jazz es futuro"
          ],
          [
           "Firma J Balvin",
           "Firma de discos y merchandising de J Balvin"
          ],
          [
           "Concierto J Balvin",
           "Concierto J Balvin"
          ],
          [
           "Firma Maluma",
           "Firma de discos y merchandising de Maluma"
          ],
          [
           "Concierto Maluma",
           "Concierto Maluma"
          ],
          [
           "Firma Omar",
           "Firma de discos y merchandising de  Omar"
          ],
          [
           "Concierto Omar",
           "Concierto Omar"
          ],
          [
           "Mechandising Reggaeton",
           "Mechandising Reggaeton"
          ],
          [
           "Firma Kase.O",
           "Firma Kase.O"
          ],
          [
           "Concierto Kase.O",
           "Concierto Kase.O"
          ],
          [
           "Firma Foyone",
           "Firma de discos y merchandising de Foyone"
          ],
          [
           "Concierto Foyone",
           "Concierto Foyone"
          ],
          [
           "Firma Ayax y Prok",
           "Firma de discos y merchandising de  Ayax y Prok"
          ],
          [
           "Concierto Ayax y Prok",
           "Concierto Ayax y Prok"
          ],
          [
           "Rap y sus barrios",
           "En rao y sus barrios "
          ],
          [
           "Firma Alter Bridge",
           "Firma Alter Bridge"
          ],
          [
           "Concierto Alter Bridge",
           "Concierto Alter Bridge"
          ],
          [
           "Firma Godsmack",
           "Firma Godsmack"
          ],
          [
           "Concierto Godsmack",
           "Concierto Godsmack"
          ],
          [
           "Firma Sevendust",
           "Firma Sevendust"
          ],
          [
           "Concierto Sevendust",
           "Concierto Sevendust"
          ],
          [
           "Musica alternativa 80s",
           "Expositor que tratará cómo fué la musica alternativa de los 80s"
          ],
          [
           "Cocierto banda Conservatorio Profesional de Música Joaquín Turina",
           "Cocierto banda Conservatorio Profesional de Música Joaquín Turina"
          ],
          [
           "Concierto orquesta Conservatorio Profesional de Música Victoria de los Ángeles Madrid",
           "Concierto orquesta Conservatorio Profesional de Música Victoria de los Ángeles Madrid"
          ],
          [
           "Concierto profesores Conservatorio Profesional de Música Arturo Soria",
           "Concierto profesores Conservatorio Profesional de Música Arturo Soria"
          ],
          [
           "Cocierto musica de camara Conservatorio Profesional de Música Amaniel",
           "Cocierto musica de camara Conservatorio Profesional de Música Amaniel"
          ],
          [
           "Concierto orquesta Conservatorio Profesional de Música de Getafe",
           "Concierto orquesta Conservatorio Profesional de Música de Getafe"
          ],
          [
           "Concierto sinfonico Real Conservatorio Superior de Música de Madrid",
           "Concierto sinfonico Real Conservatorio Superior de Música de Madrid"
          ],
          [
           "Concierto coro Escuela Superior de Música Reina Sofía",
           "Concierto coro Escuela Superior de Música Reina Sofía"
          ],
          [
           "Conservatorios Madrid",
           "Aquí podrás ver las diferentes ofertertas y características de los conservatorios de música de Madrid."
          ],
          [
           "Chopper Monster",
           "Puesto de venta de discos de rock"
          ],
          [
           "AllfonRock",
           "Puesto de venta de discos de rock"
          ],
          [
           "Musical Henares",
           "PuPuesto de venta de discos de pop"
          ],
          [
           "La cara B",
           "Puesto de venta de discos de pop"
          ],
          [
           "Jazzymas",
           "Puesto de venta de discos de pop"
          ],
          [
           "Musical Princesa",
           "Puesto de venta de discos de música clásica"
          ],
          [
           "Nakasha",
           "Puesto de venta de discos de música clásica"
          ],
          [
           "La Gramola",
           "Puesto de venta de discos de Reggaeton"
          ],
          [
           "Discos La Metralleta",
           "Puesto de venta de discos de Reggaeton"
          ],
          [
           "Marilians Records",
           "Puesto de venta de discos de Reggaeton"
          ],
          [
           "Denied Rock",
           "Puesto de venta de merchandising de Rock"
          ],
          [
           "New Rock Fuencarral",
           "Puesto de venta de merchandising de Rock"
          ],
          [
           "Popping",
           "Puesto de venta de merchandising de Pop"
          ],
          [
           "Atlántica Pop",
           "Puesto de venta de merchandising de Pop"
          ],
          [
           "Spiccato",
           "Puesto de venta de merchandising de Jazz"
          ],
          [
           "Directa Music",
           "Puesto de venta de merchandising de música clásica"
          ],
          [
           "Stomp Zion",
           "Puesto de venta de merchandising de Rap"
          ],
          [
           "Red Bubble",
           "Puesto de venta de merchandising de Reggaeton"
          ],
          [
           "G music",
           "Puesto de venta de merchandising de Reggaeton"
          ],
          [
           "UrbanoShop",
           "Puesto de venta de merchandising de Reggaeton"
          ],
          [
           "Perritos calientes",
           "Puesto de comida rápida donde puedes adquirir perritos calientes."
          ],
          [
           "Hamburguesa",
           "Puesto de comida rápida donde puedes adquirir Hamburguesas"
          ],
          [
           "Frutos Secos",
           "Consigue todo tipo de Frutos secos aqui."
          ],
          [
           "Pizza Kebab",
           "El clásico kebab y las mejores pizzas para disfrutarlo en el ifema"
          ],
          [
           "Cerveceria",
           "Cerveza artesana de todo tipo. Aprovecha y prueba las mejores cervezas."
          ],
          [
           "Barbacoa",
           "Puesto donde conseguirás los mejores ahumados y barbacoa de Madrid"
          ],
          [
           "Food Truck",
           "Food Truck. Puesto de comida rápida"
          ],
          [
           "Starbucks Coffe",
           "Cadena de cafés Starbucks Coffe"
          ],
          [
           "Hard Rock",
           "Cadena de cafés Hard Rock"
          ],
          [
           "grido",
           "Disfruta de un refrescante helado en Grido."
          ],
          [
           "llaollao",
           "Llaollao es una cadena de yogurt helado."
          ],
          [
           "Dominos pizza",
           "Dominos pizza es una cadena de pizzerías."
          ],
          [
           "McDonal's",
           "McDonal's. Restaurante de cómida rápida conocido por sus hamburguesas."
          ],
          [
           "KFC",
           "KFC es un restaurante de pollo frito."
          ],
          [
           "Taco Bell",
           "Disfruta del auténtico sabor de los tacos mexicanos en Taco Bell"
          ],
          [
           "The Good Burger",
           "The Good Burger. Restaurante de cómida rápida conocido por sus hamburguesas."
          ],
          [
           "Telepizza",
           "Telepizza. Restaurante de cómida rápida conocido por sus pizzas."
          ],
          [
           "Tagliatella",
           "Tagliatella es un restaurante italiano donde puedes disfrutar de una comida Italiana auténtica."
          ],
          [
           "Subway",
           "Subway es una cadena de restaurantes de comida rápida."
          ],
          [
           "Templo de bambú",
           "En el Templo de bambú puedes disfrutar de comida asiática en su máximo explendor."
          ],
          [
           "Clásico a dos",
           "Clásico a dos es una experiencia donde María Mezcle nos deleitará con su nuevo espectáculo."
          ],
          [
           "Falla 3.0",
           "Camerata Flamenco Project representa Falla 3.0 su exitoso espectáculo de flamenco."
          ],
          [
           "Bailes Extranhos",
           "Bailes Extranhos por Sandra Carrasco y David de Arahal."
          ],
          [
           "A Voz y Guitarra",
           "Concierto flamenco a Voz y Guitarra"
          ],
          [
           "En Recital",
           "En Recital interpretado por el cantautor José Valencia."
          ],
          [
           "Las Mujeres Cantan al Mito",
           "Concierto Las Mujeres Cantan al Mito."
          ],
          [
           "Guitarras flamencas",
           "Guitarras flamencas es un espectáculo flamenco en el que se interpretarán las obras más míticas a guitarra."
          ],
          [
           "Firma Osuna",
           "Firma de discos y camisetas de Osuna."
          ],
          [
           "Concierto Osuna",
           "Concierto de Osuna."
          ],
          [
           "Firma Danny Ávila",
           "Firma de discos de Danny Ávila."
          ],
          [
           "Concierto Danny Ávila",
           "Concierto de la gira de Danny Ávila."
          ],
          [
           "Firma DJ Chus",
           "Firma de disco de DJ Chus"
          ],
          [
           "Concierto DJ Chus",
           "Concierto de  DJ Chus"
          ]
         ],
         "hovertemplate": "<b>%{hovertext}</b><br><br>size=%{marker.size}<br>Latitud=%{lat}<br>Longitud=%{lon}<br>Nombre=%{customdata[0]}<br>Descripcion=%{customdata[1]}<extra></extra>",
         "hovertext": [
          0,
          1,
          2,
          3,
          4,
          5,
          6,
          7,
          8,
          9,
          10,
          11,
          12,
          13,
          14,
          15,
          16,
          17,
          18,
          19,
          20,
          21,
          22,
          23,
          24,
          25,
          26,
          27,
          28,
          29,
          30,
          31,
          32,
          33,
          34,
          35,
          36,
          37,
          38,
          39,
          40,
          41,
          42,
          43,
          44,
          45,
          46,
          47,
          48,
          49,
          50,
          51,
          52,
          53,
          54,
          55,
          56,
          57,
          58,
          59,
          60,
          61,
          62,
          63,
          64,
          65,
          66,
          67,
          68,
          69,
          70,
          71,
          72,
          73,
          74,
          75,
          76,
          77,
          78,
          79,
          80,
          81,
          82,
          83,
          84,
          85,
          86,
          87,
          88,
          89,
          90,
          91,
          92,
          93,
          94,
          95,
          96,
          97,
          98,
          99,
          100,
          101,
          102,
          103,
          104,
          105,
          106,
          107,
          108,
          109
         ],
         "lat": [
          40.46912,
          40.46931,
          40.4688,
          40.46915,
          40.46881,
          40.46907,
          40.46864,
          40.46877,
          40.4689,
          40.46896,
          40.46857,
          40.46849,
          40.46841,
          40.47022,
          40.47058,
          40.47055,
          40.47047,
          40.47,
          40.47,
          40.47004,
          40.47037,
          40.46986,
          40.47021,
          40.47017,
          40.47008,
          40.46961,
          40.46964,
          40.46974,
          40.46695,
          40.46717,
          40.46715,
          40.46701,
          40.46668,
          40.46662,
          40.46676,
          40.46656,
          40.46675,
          40.46683,
          40.46649,
          40.46624,
          40.46622,
          40.4666,
          40.46577,
          40.46581,
          40.46584,
          40.46558,
          40.46549,
          40.46545,
          40.46555,
          40.46612,
          40.46616,
          40.46601,
          40.46586,
          40.46578,
          40.46574,
          40.466,
          40.46613,
          40.46821,
          40.46824,
          40.46829,
          40.46833,
          40.46837,
          40.4684,
          40.46826,
          40.46814,
          40.46801,
          40.46788,
          40.46775,
          40.46773,
          40.46772,
          40.4677,
          40.46767,
          40.46763,
          40.46793,
          40.46794,
          40.46799,
          40.46807,
          40.46793,
          40.46797,
          40.46799,
          40.46803,
          40.46807,
          40.46804,
          40.46795,
          40.46784,
          40.46772,
          40.4676,
          40.46735,
          40.46734,
          40.46731,
          40.46728,
          40.46726,
          40.46725,
          40.46755,
          40.46763,
          40.4677,
          40.46773,
          40.46601,
          40.46611,
          40.46613,
          40.4665,
          40.46684,
          40.4668,
          40.46639,
          40.46774,
          40.46816,
          40.46825,
          40.46789,
          40.46747,
          40.46737
         ],
         "legendgroup": "",
         "lon": [
          -3.61544,
          -3.61604,
          -3.61597,
          -3.61661,
          -3.61643,
          -3.61533,
          -3.61874,
          -3.61936,
          -3.61885,
          -3.61816,
          -3.61803,
          -3.61869,
          -3.6193,
          -3.61638,
          -3.61566,
          -3.61632,
          -3.61701,
          -3.61688,
          -3.61629,
          -3.61565,
          -3.61557,
          -3.61906,
          -3.61837,
          -3.61903,
          -3.61971,
          -3.61953,
          -3.61896,
          -3.61839,
          -3.61552,
          -3.61501,
          -3.61549,
          -3.61617,
          -3.61609,
          -3.61547,
          -3.61487,
          -3.61827,
          -3.61833,
          -3.6176,
          -3.61751,
          -3.61824,
          -3.61902,
          -3.61912,
          -3.61829,
          -3.61793,
          -3.61753,
          -3.61746,
          -3.61765,
          -3.61798,
          -3.61837,
          -3.61559,
          -3.6153,
          -3.61508,
          -3.61521,
          -3.61546,
          -3.61582,
          -3.61607,
          -3.61574,
          -3.61618,
          -3.61596,
          -3.61574,
          -3.61556,
          -3.61527,
          -3.61505,
          -3.615,
          -3.61497,
          -3.61493,
          -3.61489,
          -3.61485,
          -3.61508,
          -3.61524,
          -3.61546,
          -3.61579,
          -3.61608,
          -3.61613,
          -3.61578,
          -3.6154,
          -3.61518,
          -3.61878,
          -3.61855,
          -3.61835,
          -3.61813,
          -3.61788,
          -3.61744,
          -3.61741,
          -3.6174,
          -3.61738,
          -3.61735,
          -3.61774,
          -3.61789,
          -3.61801,
          -3.61828,
          -3.61848,
          -3.61867,
          -3.61866,
          -3.6184,
          -3.61794,
          -3.61766,
          -3.61353,
          -3.61296,
          -3.61258,
          -3.61263,
          -3.61271,
          -3.61315,
          -3.61364,
          -3.61399,
          -3.61349,
          -3.61297,
          -3.61279,
          -3.6127,
          -3.61335
         ],
         "marker": {
          "color": "red",
          "size": [
           5,
           5,
           5,
           5,
           5,
           5,
           5,
           5,
           5,
           5,
           5,
           5,
           5,
           5,
           5,
           5,
           5,
           5,
           5,
           5,
           5,
           5,
           5,
           5,
           5,
           5,
           5,
           5,
           5,
           5,
           5,
           5,
           5,
           5,
           5,
           5,
           5,
           5,
           5,
           5,
           5,
           5,
           5,
           5,
           5,
           5,
           5,
           5,
           5,
           5,
           5,
           5,
           5,
           5,
           5,
           5,
           5,
           5,
           5,
           5,
           5,
           5,
           5,
           5,
           5,
           5,
           5,
           5,
           5,
           5,
           5,
           5,
           5,
           5,
           5,
           5,
           5,
           5,
           5,
           5,
           5,
           5,
           5,
           5,
           5,
           5,
           5,
           5,
           5,
           5,
           5,
           5,
           5,
           5,
           5,
           5,
           5,
           5,
           5,
           5,
           5,
           5,
           5,
           5,
           5,
           5,
           5,
           5,
           5,
           5
          ],
          "sizemode": "area",
          "sizeref": 0.2
         },
         "mode": "markers",
         "name": "",
         "showlegend": false,
         "subplot": "mapbox",
         "type": "scattermapbox"
        }
       ],
       "layout": {
        "height": 500,
        "legend": {
         "itemsizing": "constant",
         "tracegroupgap": 0
        },
        "mapbox": {
         "center": {
          "lat": 40.415564328272815,
          "lon": -3.6986912399718657
         },
         "domain": {
          "x": [
           0,
           1
          ],
          "y": [
           0,
           1
          ]
         },
         "style": "open-street-map",
         "zoom": 10
        },
        "margin": {
         "b": 0,
         "l": 0,
         "r": 0,
         "t": 0
        },
        "template": {
         "data": {
          "bar": [
           {
            "error_x": {
             "color": "#2a3f5f"
            },
            "error_y": {
             "color": "#2a3f5f"
            },
            "marker": {
             "line": {
              "color": "#E5ECF6",
              "width": 0.5
             },
             "pattern": {
              "fillmode": "overlay",
              "size": 10,
              "solidity": 0.2
             }
            },
            "type": "bar"
           }
          ],
          "barpolar": [
           {
            "marker": {
             "line": {
              "color": "#E5ECF6",
              "width": 0.5
             },
             "pattern": {
              "fillmode": "overlay",
              "size": 10,
              "solidity": 0.2
             }
            },
            "type": "barpolar"
           }
          ],
          "carpet": [
           {
            "aaxis": {
             "endlinecolor": "#2a3f5f",
             "gridcolor": "white",
             "linecolor": "white",
             "minorgridcolor": "white",
             "startlinecolor": "#2a3f5f"
            },
            "baxis": {
             "endlinecolor": "#2a3f5f",
             "gridcolor": "white",
             "linecolor": "white",
             "minorgridcolor": "white",
             "startlinecolor": "#2a3f5f"
            },
            "type": "carpet"
           }
          ],
          "choropleth": [
           {
            "colorbar": {
             "outlinewidth": 0,
             "ticks": ""
            },
            "type": "choropleth"
           }
          ],
          "contour": [
           {
            "colorbar": {
             "outlinewidth": 0,
             "ticks": ""
            },
            "colorscale": [
             [
              0,
              "#0d0887"
             ],
             [
              0.1111111111111111,
              "#46039f"
             ],
             [
              0.2222222222222222,
              "#7201a8"
             ],
             [
              0.3333333333333333,
              "#9c179e"
             ],
             [
              0.4444444444444444,
              "#bd3786"
             ],
             [
              0.5555555555555556,
              "#d8576b"
             ],
             [
              0.6666666666666666,
              "#ed7953"
             ],
             [
              0.7777777777777778,
              "#fb9f3a"
             ],
             [
              0.8888888888888888,
              "#fdca26"
             ],
             [
              1,
              "#f0f921"
             ]
            ],
            "type": "contour"
           }
          ],
          "contourcarpet": [
           {
            "colorbar": {
             "outlinewidth": 0,
             "ticks": ""
            },
            "type": "contourcarpet"
           }
          ],
          "heatmap": [
           {
            "colorbar": {
             "outlinewidth": 0,
             "ticks": ""
            },
            "colorscale": [
             [
              0,
              "#0d0887"
             ],
             [
              0.1111111111111111,
              "#46039f"
             ],
             [
              0.2222222222222222,
              "#7201a8"
             ],
             [
              0.3333333333333333,
              "#9c179e"
             ],
             [
              0.4444444444444444,
              "#bd3786"
             ],
             [
              0.5555555555555556,
              "#d8576b"
             ],
             [
              0.6666666666666666,
              "#ed7953"
             ],
             [
              0.7777777777777778,
              "#fb9f3a"
             ],
             [
              0.8888888888888888,
              "#fdca26"
             ],
             [
              1,
              "#f0f921"
             ]
            ],
            "type": "heatmap"
           }
          ],
          "heatmapgl": [
           {
            "colorbar": {
             "outlinewidth": 0,
             "ticks": ""
            },
            "colorscale": [
             [
              0,
              "#0d0887"
             ],
             [
              0.1111111111111111,
              "#46039f"
             ],
             [
              0.2222222222222222,
              "#7201a8"
             ],
             [
              0.3333333333333333,
              "#9c179e"
             ],
             [
              0.4444444444444444,
              "#bd3786"
             ],
             [
              0.5555555555555556,
              "#d8576b"
             ],
             [
              0.6666666666666666,
              "#ed7953"
             ],
             [
              0.7777777777777778,
              "#fb9f3a"
             ],
             [
              0.8888888888888888,
              "#fdca26"
             ],
             [
              1,
              "#f0f921"
             ]
            ],
            "type": "heatmapgl"
           }
          ],
          "histogram": [
           {
            "marker": {
             "pattern": {
              "fillmode": "overlay",
              "size": 10,
              "solidity": 0.2
             }
            },
            "type": "histogram"
           }
          ],
          "histogram2d": [
           {
            "colorbar": {
             "outlinewidth": 0,
             "ticks": ""
            },
            "colorscale": [
             [
              0,
              "#0d0887"
             ],
             [
              0.1111111111111111,
              "#46039f"
             ],
             [
              0.2222222222222222,
              "#7201a8"
             ],
             [
              0.3333333333333333,
              "#9c179e"
             ],
             [
              0.4444444444444444,
              "#bd3786"
             ],
             [
              0.5555555555555556,
              "#d8576b"
             ],
             [
              0.6666666666666666,
              "#ed7953"
             ],
             [
              0.7777777777777778,
              "#fb9f3a"
             ],
             [
              0.8888888888888888,
              "#fdca26"
             ],
             [
              1,
              "#f0f921"
             ]
            ],
            "type": "histogram2d"
           }
          ],
          "histogram2dcontour": [
           {
            "colorbar": {
             "outlinewidth": 0,
             "ticks": ""
            },
            "colorscale": [
             [
              0,
              "#0d0887"
             ],
             [
              0.1111111111111111,
              "#46039f"
             ],
             [
              0.2222222222222222,
              "#7201a8"
             ],
             [
              0.3333333333333333,
              "#9c179e"
             ],
             [
              0.4444444444444444,
              "#bd3786"
             ],
             [
              0.5555555555555556,
              "#d8576b"
             ],
             [
              0.6666666666666666,
              "#ed7953"
             ],
             [
              0.7777777777777778,
              "#fb9f3a"
             ],
             [
              0.8888888888888888,
              "#fdca26"
             ],
             [
              1,
              "#f0f921"
             ]
            ],
            "type": "histogram2dcontour"
           }
          ],
          "mesh3d": [
           {
            "colorbar": {
             "outlinewidth": 0,
             "ticks": ""
            },
            "type": "mesh3d"
           }
          ],
          "parcoords": [
           {
            "line": {
             "colorbar": {
              "outlinewidth": 0,
              "ticks": ""
             }
            },
            "type": "parcoords"
           }
          ],
          "pie": [
           {
            "automargin": true,
            "type": "pie"
           }
          ],
          "scatter": [
           {
            "fillpattern": {
             "fillmode": "overlay",
             "size": 10,
             "solidity": 0.2
            },
            "type": "scatter"
           }
          ],
          "scatter3d": [
           {
            "line": {
             "colorbar": {
              "outlinewidth": 0,
              "ticks": ""
             }
            },
            "marker": {
             "colorbar": {
              "outlinewidth": 0,
              "ticks": ""
             }
            },
            "type": "scatter3d"
           }
          ],
          "scattercarpet": [
           {
            "marker": {
             "colorbar": {
              "outlinewidth": 0,
              "ticks": ""
             }
            },
            "type": "scattercarpet"
           }
          ],
          "scattergeo": [
           {
            "marker": {
             "colorbar": {
              "outlinewidth": 0,
              "ticks": ""
             }
            },
            "type": "scattergeo"
           }
          ],
          "scattergl": [
           {
            "marker": {
             "colorbar": {
              "outlinewidth": 0,
              "ticks": ""
             }
            },
            "type": "scattergl"
           }
          ],
          "scattermapbox": [
           {
            "marker": {
             "colorbar": {
              "outlinewidth": 0,
              "ticks": ""
             }
            },
            "type": "scattermapbox"
           }
          ],
          "scatterpolar": [
           {
            "marker": {
             "colorbar": {
              "outlinewidth": 0,
              "ticks": ""
             }
            },
            "type": "scatterpolar"
           }
          ],
          "scatterpolargl": [
           {
            "marker": {
             "colorbar": {
              "outlinewidth": 0,
              "ticks": ""
             }
            },
            "type": "scatterpolargl"
           }
          ],
          "scatterternary": [
           {
            "marker": {
             "colorbar": {
              "outlinewidth": 0,
              "ticks": ""
             }
            },
            "type": "scatterternary"
           }
          ],
          "surface": [
           {
            "colorbar": {
             "outlinewidth": 0,
             "ticks": ""
            },
            "colorscale": [
             [
              0,
              "#0d0887"
             ],
             [
              0.1111111111111111,
              "#46039f"
             ],
             [
              0.2222222222222222,
              "#7201a8"
             ],
             [
              0.3333333333333333,
              "#9c179e"
             ],
             [
              0.4444444444444444,
              "#bd3786"
             ],
             [
              0.5555555555555556,
              "#d8576b"
             ],
             [
              0.6666666666666666,
              "#ed7953"
             ],
             [
              0.7777777777777778,
              "#fb9f3a"
             ],
             [
              0.8888888888888888,
              "#fdca26"
             ],
             [
              1,
              "#f0f921"
             ]
            ],
            "type": "surface"
           }
          ],
          "table": [
           {
            "cells": {
             "fill": {
              "color": "#EBF0F8"
             },
             "line": {
              "color": "white"
             }
            },
            "header": {
             "fill": {
              "color": "#C8D4E3"
             },
             "line": {
              "color": "white"
             }
            },
            "type": "table"
           }
          ]
         },
         "layout": {
          "annotationdefaults": {
           "arrowcolor": "#2a3f5f",
           "arrowhead": 0,
           "arrowwidth": 1
          },
          "autotypenumbers": "strict",
          "coloraxis": {
           "colorbar": {
            "outlinewidth": 0,
            "ticks": ""
           }
          },
          "colorscale": {
           "diverging": [
            [
             0,
             "#8e0152"
            ],
            [
             0.1,
             "#c51b7d"
            ],
            [
             0.2,
             "#de77ae"
            ],
            [
             0.3,
             "#f1b6da"
            ],
            [
             0.4,
             "#fde0ef"
            ],
            [
             0.5,
             "#f7f7f7"
            ],
            [
             0.6,
             "#e6f5d0"
            ],
            [
             0.7,
             "#b8e186"
            ],
            [
             0.8,
             "#7fbc41"
            ],
            [
             0.9,
             "#4d9221"
            ],
            [
             1,
             "#276419"
            ]
           ],
           "sequential": [
            [
             0,
             "#0d0887"
            ],
            [
             0.1111111111111111,
             "#46039f"
            ],
            [
             0.2222222222222222,
             "#7201a8"
            ],
            [
             0.3333333333333333,
             "#9c179e"
            ],
            [
             0.4444444444444444,
             "#bd3786"
            ],
            [
             0.5555555555555556,
             "#d8576b"
            ],
            [
             0.6666666666666666,
             "#ed7953"
            ],
            [
             0.7777777777777778,
             "#fb9f3a"
            ],
            [
             0.8888888888888888,
             "#fdca26"
            ],
            [
             1,
             "#f0f921"
            ]
           ],
           "sequentialminus": [
            [
             0,
             "#0d0887"
            ],
            [
             0.1111111111111111,
             "#46039f"
            ],
            [
             0.2222222222222222,
             "#7201a8"
            ],
            [
             0.3333333333333333,
             "#9c179e"
            ],
            [
             0.4444444444444444,
             "#bd3786"
            ],
            [
             0.5555555555555556,
             "#d8576b"
            ],
            [
             0.6666666666666666,
             "#ed7953"
            ],
            [
             0.7777777777777778,
             "#fb9f3a"
            ],
            [
             0.8888888888888888,
             "#fdca26"
            ],
            [
             1,
             "#f0f921"
            ]
           ]
          },
          "colorway": [
           "#636efa",
           "#EF553B",
           "#00cc96",
           "#ab63fa",
           "#FFA15A",
           "#19d3f3",
           "#FF6692",
           "#B6E880",
           "#FF97FF",
           "#FECB52"
          ],
          "font": {
           "color": "#2a3f5f"
          },
          "geo": {
           "bgcolor": "white",
           "lakecolor": "white",
           "landcolor": "#E5ECF6",
           "showlakes": true,
           "showland": true,
           "subunitcolor": "white"
          },
          "hoverlabel": {
           "align": "left"
          },
          "hovermode": "closest",
          "mapbox": {
           "style": "light"
          },
          "paper_bgcolor": "white",
          "plot_bgcolor": "#E5ECF6",
          "polar": {
           "angularaxis": {
            "gridcolor": "white",
            "linecolor": "white",
            "ticks": ""
           },
           "bgcolor": "#E5ECF6",
           "radialaxis": {
            "gridcolor": "white",
            "linecolor": "white",
            "ticks": ""
           }
          },
          "scene": {
           "xaxis": {
            "backgroundcolor": "#E5ECF6",
            "gridcolor": "white",
            "gridwidth": 2,
            "linecolor": "white",
            "showbackground": true,
            "ticks": "",
            "zerolinecolor": "white"
           },
           "yaxis": {
            "backgroundcolor": "#E5ECF6",
            "gridcolor": "white",
            "gridwidth": 2,
            "linecolor": "white",
            "showbackground": true,
            "ticks": "",
            "zerolinecolor": "white"
           },
           "zaxis": {
            "backgroundcolor": "#E5ECF6",
            "gridcolor": "white",
            "gridwidth": 2,
            "linecolor": "white",
            "showbackground": true,
            "ticks": "",
            "zerolinecolor": "white"
           }
          },
          "shapedefaults": {
           "line": {
            "color": "#2a3f5f"
           }
          },
          "ternary": {
           "aaxis": {
            "gridcolor": "white",
            "linecolor": "white",
            "ticks": ""
           },
           "baxis": {
            "gridcolor": "white",
            "linecolor": "white",
            "ticks": ""
           },
           "bgcolor": "#E5ECF6",
           "caxis": {
            "gridcolor": "white",
            "linecolor": "white",
            "ticks": ""
           }
          },
          "title": {
           "x": 0.05
          },
          "xaxis": {
           "automargin": true,
           "gridcolor": "white",
           "linecolor": "white",
           "ticks": "",
           "title": {
            "standoff": 15
           },
           "zerolinecolor": "white",
           "zerolinewidth": 2
          },
          "yaxis": {
           "automargin": true,
           "gridcolor": "white",
           "linecolor": "white",
           "ticks": "",
           "title": {
            "standoff": 15
           },
           "zerolinecolor": "white",
           "zerolinewidth": 2
          }
         }
        }
       }
      },
      "text/html": [
       "<div>                            <div id=\"adb5ad67-5de8-40e6-9855-d885d313743e\" class=\"plotly-graph-div\" style=\"height:500px; width:100%;\"></div>            <script type=\"text/javascript\">                require([\"plotly\"], function(Plotly) {                    window.PLOTLYENV=window.PLOTLYENV || {};                                    if (document.getElementById(\"adb5ad67-5de8-40e6-9855-d885d313743e\")) {                    Plotly.newPlot(                        \"adb5ad67-5de8-40e6-9855-d885d313743e\",                        [{\"customdata\":[[\"Avenida Ciudad de Barcelona N 108 Esc.1 1A, Madrid\",111],[\"Calle de Cadiz N 1 1 1, Madrid\",17],[\"Calle de Concepcion jeronima N 5 1 DR, Madrid\",4],[\"Calle del Marques de Toca N 12 Esc.1 AT 1, Madrid\",115],[\"Calle del salitre N 8 3 IZ, Madrid\",58],[\"Calle San Simon N 4 1 EI, Madrid\",19],[\"Calle de la Magdalena N 32 2 DR, Madrid\",63],[\"Calle de Lavapies N 17 2 1, Madrid\",116],[\"Calle de Tellez N5 Esc.1 1A, Madrid\",147],[\"Calle de la Ballesta N 13 1 2 1, Madrid\",149],[\"Calle de Barcelona N 15 1 1, Madrid\",131],[\"Calle de la Pasa N 4 2 1,Madrid\",54],[\"Costanilla de los Desamparados N 2 2 DR, Madrid\",130],[\"Cuesta de las Descargas N 10 1 3, Madrid\",6],[\"Calle del Desenga\\u00f1o N 12 Esc.1 1 1, Madrid\",151],[\"Calle del Divino Pastor N 28 Esc.Y 1 DR, Madrid\",64],[\"Ronda de Atocha N 15 Esc. A 1A, Madrid\",114],[\"Calle del Doctor Cortezo N 17 Esc.1 3 2, Madrid\",182],[\"Calle de Mendez alvaro N 14 Esc.1 2 A, Madrid\",84],[\"Paseo de la Infanta Isabel N 15 1 EI, Madrid\",44],[\"Paseo del Prado N 24 1 DR, Madrid\",165],[\"Paseo Santa Maria de la Cabeza N 1 Esc.1 1 I, Madrid\",79],[\"Paseo de las Delicias N 33 1 2, Madrid\",176],[\"Calle de Leganes N 3 Esc.3 1 A R.R.B.4, Madrid\",43],[\"Calle Atocha N25 1 1, Madrid\",144],[\"Calle de Alfonso XII N 8 2 IZ, Madrid\",183],[\"Calle del Cerro de la Plata N 1 Esc.1 1 A, Madrid\",143],[\"Calle Jerte N 6 1 IZ, Madrid\",107],[\"Calle Jesus N 2 2 IZ, Madrid\",89],[\"Calle Jesus del Valle N 2 1, Madrid\",87],[\"Calle Carretas N33 Esc. I 2 IA, Madrid\",172],[\"Calle de Jesus y Maria N 3 2 2, Madrid\",155],[\"Calle de Lepanto N 4 3 1, Madrid\",32],[\"Calle de la Libertad N 10 2 EX, Madrid\",98],[\"Calle de los Libreros N 6 Esc.1 1 DR\",13],[\"Calle de Lope de Vega N 3 1 1, Madrid\",123],[\"Calle de Luciente N 11 3 IZ, Madrid\",86],[\"Calle de la Luna N 11 1 2 IZ, Madrid\",117],[\"Calle Torrecilla del Leal N 29 1 DR, Madrid\",133],[\"Calle de la Madera N 5 Esc.1 1 DR, Madrid\",161],[\"Calle de los Mancebos N 2 1 B, Madrid\",65],[\"Calle de Manuela Malasa\\u00f1a N 3 Esc.1 1 A, Madrid\",60],[\"Calle del Marques de Cubas N 6 3 D 3 DCH DH 24, Madrid\",74],[\"Calle de Nao N 6 Esc.1 1 DR, Madrid\",118],[\"Calle del Norte N 17 2 IZ, Madrid\",71],[\"Calle del Noviciado N 16 2 DR, Madrid\",29],[\"Calle del Olivar N 6 1 DR, Madrid\",150],[\"Calle Huertas N8 1 IZ, Madrid\",26],[\"Calle del Olmo N 16 1 B, Madrid\",68],[\"Plaza de Oriente N 3 1 1, Madrid\",35],[\"Calle de la Paloma N 10 1 DR, Madrid\",174],[\"Calle de Pavia N 2 2 0A, Madrid\",69],[\"Calle Mayor N19 Esc. E 1 ED, Madrid\",56],[\"Calle de la Paz N 19 2 IZ, Madrid\",31],[\"Calle de Pizarro N 24 Esc.1 1 DR, Madrid\",128],[\"Calle de las Postas N 18 3 1, Madrid\",90],[\"Calle de Cavanilles N 8 Esc.1 1 DR, Madrid\",113],[\"Calle de Alberto Aguilera N 30 2 A, Madrid\",99],[\"Calle de Alfonso VI N 3 1 YD, Madrid\",57],[\"Calle del Almendro N 25 1 A, Madrid\",125],[\"Calle de Amaniel N 34 Esc.1 1 A, Madrid\",53],[\"Calle del Amor de Dios N 3 2 IZ, Madrid\",120],[\"Calle del Arenal N 11 2 A, Madrid\",66],[\"Calle del Ave Maria N 42, Madrid\",109],[\"Calle de Abtao N4 Esc.1 1A, Madrid\",162],[\"Calle de Bailen N 39 1 IZ, Madrid\",46],[\"Calle de Barbieri N 16 2 DR, Madrid\",12],[\"Calle de Belen N 10 1 DR, Madrid\",136],[\"Calle de Buenavista N 40 3 B, Madrid\",163],[\"Calle de la Bolsa N 10 Esc.2 1 DA, Madrid\",132],[\"Calle de la Abada N 5 2 A, Madrid\",83],[\"Calle de la Aduana N 17 1 EC, Madrid\",138],[\"Calle del alamo N 6 Esc.1 4 1, Madrid\",2],[\"Calle del Amparo N 97 4 B, Madrid\",145],[\"Calle de Valderribas N3 1 ED, Madrid\",171],[\"Calle de Hortaleza N 80 5 D, Madrid\",51],[\"Calle de las Hileras N 16 Esc.1 2 IZ, Madrid\",170],[\"Calle del Infante N 6 3 A, Madrid\",77],[\"Calle de la Independencia N 3 1 IZ, Madrid\",23],[\"Calle Imperial N 12 3 A, Madrid\",179],[\"Calle Arcipreste de Hita N 6 0 A, Madrid\",100],[\"Calle de Magallanes N 1 0 2, Madrid\",8],[\"Calle de Viriato N 3 1 C, Madrid\",148],[\"Calle de Modesto Lafuente N 5 4 3, Madrid\",112],[\"Calle de Alburquerque N 3 3 A, Madrid\",75],[\"Calle de Manuel Cortina N 1 1 A, Madrid\",152],[\"Calle de la Duquesa de Parcent N 2 Esc.1 1 DR, Madrid\",103],[\"Calle de Gando N 5 Esc.1 1 A, Madrid\",166],[\"Calle de Navalmoral de la Mata N 7 Esc.1 3 B, Madrid\",81],[\"Calle de Aldeanueva de la Vera N 8 Esc.1 4 D, Madrid\",45],[\"Calle de Blas Cabrera N 1 Esc.1 1 IZ, Madrid\",129],[\"Calle de Ampelido N 3 Esc.1 1 IZ, Madrid\",50],[\"Calle de Francisco Zea N 4 Esc.1 2 B, Madrid\",106],[\"Calle de Juan Bravo N 3 Esc.1 2 J, Madrid\",169],[\"Calle del Conde de Vilches N 3 Esc.1 1 A, Madrid\",160],[\"Calle de Azcona N 6 Esc.1 2 C, Madrid\",167],[\"Calle de Astros N 14 6 D, Madrid\",14],[\"Calle de Antonio Maura N 6 2 IZ, Madrid\",28],[\"Calle de Rafael Salazar Alonso N 7 3 DR, Madrid\",85],[\"Calle del Doce de Octubre N 4 1 C, Madrid\",124],[\"Calle de Antonio Casero N 12 1 3, Madrid\",39],[\"Calle de Vicente Caballero  N 7 0 A, Madrid\",146],[\"Calle de Juan de Urbieta N 3 2 9, Madrid\",177],[\"Avenida de Nazaret N 8 Esc.1 4 B, Madrid\",15],[\"Calle de la Batalla del Salado N 3 Esc.A 1 A, Madrid\",153],[\"Calle de Moratines 13 Esc.1 2 A, Madrid\",119],[\"Calle de Valdelasierra N 1 Esc.1 3 D, Madrid\",95],[\"Calle de Sebastian Elcano N 6 Esc.1 0 7, Madrid\",173],[\"Calle de Arquitectura N 2 Esc.1 4 DR, Madrid\",55],[\"Calle de Carvajales N 9 Esc.1 4 B, Madrid\",121],[\"Calle de Melilla N 3 Esc.1 6 A, Madrid\",82],[\"Calle de Ercilla N 10 Esc.1 3 C, Madrid\",41],[\"Calle de Puerto Serrano N 1 5 A, Madrid\",20],[\"Calle de Puerto de Miravete N 5 Esc.1 4 IZ, Madrid\",139],[\"Calle de Puerto de la Cruz Verde N 5 Esc.2 6 DR, Madrid\",164],[\"Paseo del Molino N 5 Esc.1 5 A, Madrid\",127],[\"Calle de Embajadores N 1 2 A, Madrid\",88],[\"Calle de Zurbano N 5 3 IZ, Madrid\",78],[\"Calle de Ponzano N 6 3 DR, Madrid\",110],[\"Calle de la Princesa 12 Esc.1 4 5, Madrid\",102],[\"Glorieta de Cuatro Caminos N 4 Esc.2 4 DR, Madrid\",22],[\"Calle de Covarrubias N 1 2 IZ4, Madrid\",48],[\"Calle de Fuente del Berro N 1 Esc.1 2 C, Madrid\",1],[\"Calle de Columela N 11 Esc.1 2 DR, Madrid\",61],[\"Calle del Doctor Esquerdo N 3 Esc.A 3 IZ, Madrid\",181],[\"Calle de Claudio Coello N 3 Esc.1 4 DR, Madrid\",140],[\"Calle de Francisco Silvela N 7 Esc.2 0 A, Madrid\",40],[\"Calle de Hermosilla N 8 Esc.1 5 IZ, Madrid\",180],[\"Calle de Sagasta N 1 Esc.E 3 D, Madrid\",76],[\"Calle de Galileo N 5 7 C, Madrid\",9],[\"Calle de Fuencarral N 7 2 IZ, Madrid\",16],[\"Calle de San Bernardo N 5 Esc.B 2 1, Madrid\",62],[\"Calle de Bravo Murillo N 3 3 CN, Madrid\",108],[\"Avenida de Filipinas N 44 3 A, Madrid\",67],[\"Avenida de Portugal N 3 Esc.1 5 IZ, Madrid\",168],[\"Paseo de Extremadura N 1 Esc.1 2 D, Madrid\",126],[\"Calle de Casado de Alisal N 16 2 DR, Madrid\",97],[\"Calle de Fernando el Santo N 3 5 1, Madrid\",37],[\"Calle de Almagro N1 6 IZ, Madrid\",157],[\"Paseo de Eduardo Dato N 12 3 A, Madrid\",73],[\"Calle del Monte Esquinza N 10 2 DR, Madrid\",49],[\"Calle de Santa Engracia N 6 6 IZ, Madrid\",33],[\"Calle de Alenza N 10 5 D, Madrid\",47],[\"Calle de Caracas N 1 5 B, Madrid\",25],[\"Calle de Eloy Gonzalo N 7 1 IZ, Madrid\",101],[\"Calle de Luchana N 8 6 B, Madrid\",38],[\"Calle de Trafalgar N 12 2 3, Madrid\",156],[\"Avenida de los Toreros N 12 Esc.1 3 DR, Madrid\",27],[\"Calle de Padilla N 1 Esc.1 1 A, Madrid\",42],[\"Calle de Lagasca N 5 Esc.1 2 IZ, Madrid\",137],[\"Calle de Isaac Peral N 8 1 DR, Madrid\",96],[\"Calle de Blasco de Garay N 1 3 C, Madrid\",135],[\"Calle de Calvo Asensio N 9 3 DR, Madrid\",24],[\"Calle de Francisca Armada N 16 Esc.1 2 B, Madrid\",10],[\"Calle de Luis Mitjans N 12 3 D, Madrid\",18],[\"Calle Valeria N 1 Esc.1 1 B, Madrid\",154],[\"Calle de Seco N 6 Esc.1 3 D, Madrid\",36],[\"Calle de Samaria N 10 8 IZ, Madrid\",184],[\"Calle de Titulcia N 10 3 1, Madrid\",11],[\"Calle de Rafael Calvo N 13 5 IZ, Madrid\",141],[\"Calle de Avila N 3 1 ID, Madrid\",59],[\"Avenida de la Moncloa N 4 4 A, Madrid\",3],[\"Calle de Lopez de Hoyos N 161 2 B, Madrid\",5],[\"Calle de Zigia N 3 2 C, Madrid\",159],[\"Calle de Ntra. Sra. del Villar N 89 2 IZ, Madrid\",91],[\"Avenida de Moratalaz N 199 2 A, Madrid\",30],[\"Calle de Benjamin Palencia N 12 Esc.A 3 C, Madrid\",134],[\"Calle de Javier de Miguel N 5 Esc.5 2 B, Madrid\",104],[\"Ronda del Sur N 151 0 D, Madrid\",142],[\"Calle Rutilo N 12 3 A, Madrid\",34],[\"Calle de Salvador Martinez N 6 2 DR, Madrid\",94],[\"Calle de Regil N 1 1 A, Madrid\",21],[\"Avenida del Euro N 46 2 B, Madrid\",80],[\"Calle de Dolores Barranco N 65 2 D, Madrid\",72],[\"Calle de Francisco Guzman N 7 4 IZ, Madrid\",7],[\"Calle Luis Feito N 11 Esc.1 3 D, Madrid\",175],[\"Calle Antonio Antoranz N 22 4 C, Madrid\",70],[\"Calle de Vidauba N 18 1 D, Madrid\",158],[\"Calle de Alonso Cano N 95 1 DR, Madrid\",92],[\"Calle de Jorge Manrique N 8 Esc.T 0D 0, Madrid\",93],[\"Calle de San Fernando del Jarama N 2 Esc.1 3 IZ, Madrid\",52],[\"Calle de Diego de Leon N 8 3 1, Madrid\",178],[\"Calle de Castello N 111 Esc.1 1 C, Madrid\",185],[\"Calle de Velazquez N 111 Esc.1 4 DR, Madrid\",105],[\"Calle de Maldonado N 28 Esc.1 3 IZ, Madrid\",122]],\"hovertemplate\":\"<b>%{hovertext}</b><br><br>size=%{marker.size}<br>Lat=%{lat}<br>Long=%{lon}<br>Direccion=%{customdata[0]}<br>Id_Paquete=%{customdata[1]}<extra></extra>\",\"hovertext\":[1.0,2.0,3.0,4.0,5.0,6.0,7.0,8.0,9.0,10.0,11.0,12.0,13.0,14.0,15.0,16.0,17.0,18.0,19.0,20.0,21.0,22.0,23.0,24.0,25.0,26.0,27.0,28.0,29.0,30.0,31.0,32.0,33.0,34.0,35.0,36.0,37.0,38.0,39.0,40.0,41.0,42.0,43.0,44.0,45.0,46.0,47.0,48.0,49.0,50.0,51.0,52.0,53.0,54.0,55.0,56.0,57.0,58.0,59.0,60.0,61.0,62.0,63.0,64.0,65.0,66.0,67.0,68.0,69.0,70.0,71.0,72.0,73.0,74.0,75.0,76.0,77.0,78.0,79.0,80.0,81.0,82.0,83.0,84.0,85.0,86.0,87.0,88.0,89.0,90.0,91.0,92.0,93.0,94.0,95.0,96.0,97.0,98.0,99.0,100.0,101.0,102.0,103.0,104.0,105.0,106.0,107.0,108.0,109.0,110.0,111.0,112.0,113.0,114.0,115.0,116.0,117.0,118.0,119.0,120.0,121.0,122.0,123.0,124.0,125.0,126.0,127.0,128.0,129.0,130.0,131.0,132.0,133.0,134.0,135.0,136.0,137.0,138.0,139.0,140.0,141.0,142.0,143.0,144.0,145.0,146.0,147.0,148.0,149.0,150.0,151.0,152.0,153.0,154.0,155.0,156.0,157.0,158.0,159.0,160.0,161.0,162.0,163.0,164.0,165.0,166.0,167.0,168.0,169.0,170.0,171.0,172.0,173.0,174.0,175.0,176.0,177.0,178.0,179.0,180.0,181.0,182.0,183.0,184.0,185.0],\"lat\":[40.404893738,40.4160778229,40.4141217118,40.4101542709,40.4101794709,40.4113044131,40.4124978576,40.4110532066,40.4041592196,40.4220830021,40.415319368,40.4143612905,40.4132452,40.408682075,40.4211504366,40.42828041,40.4070130326,40.4128696633,40.4064453813,40.4072506182,40.4125441643,40.4071324881,40.4041819275,40.3986715854,40.4142261891,40.4185539429,40.4008065563,40.4113739294,40.4137565047,40.4240287879,40.4148979498,40.4121479102,40.4175433355,40.4210160085,40.4217337064,40.4141258911,40.4105887772,40.4226226746,40.4101874705,40.4228841707,40.4122196756,40.4287032852,40.4174389506,40.4221871728,40.4267297262,40.4260599956,40.4120434726,40.4135886238,40.4116951976,40.4179454761,40.4087892972,40.4192354413,40.4163456457,40.4151368512,40.4237801031,40.4159906436,40.4070538883,40.4304485349,40.4134568049,40.4122796202,40.4282576421,40.4134146306,40.4172362727,40.4100750712,40.4032435087,40.4125652399,40.4216448676,40.4243602012,40.4096414724,40.4151849717,40.4190962735,40.4184748067,40.4239685622,40.4069441711,40.4067903332,40.4237367979,40.4180515124,40.4143510653,40.4177351718,40.4147713414,40.4336455408499,40.4325235414523,40.4363556317346,40.4362794016238,40.4314430158369,40.4308694462488,40.3956078115456,40.376674782526,40.3757406266911,40.3819191486949,40.3820883218844,40.4076537303566,40.4353115028583,40.4336425389761,40.4355224355716,40.4329427072884,40.4110396126903,40.4164233743077,40.4161107542977,40.4155459131108,40.4202235713903,40.4195552959849,40.4037789589157,40.4114278046457,40.4057177481445,40.4032744107703,40.3980789792659,40.4041537792652,40.4002522792657,40.3998238019289,40.402160319582,40.4035880092818,40.3856794443164,40.3866863835369,40.3875128950759,40.3908318938675,40.4108920687682,40.4277069804348,40.4372065451641,40.4258029502971,40.4473701085977,40.4283542132191,40.4269052135712,40.4212498506312,40.4274243805377,40.4207062716319,40.428959212359,40.4263068481745,40.4290000799635,40.431005545918,40.4206638113526,40.4210571321371,40.4342840780378,40.4411377792609,40.4161953530865,40.4138038792641,40.4138134792642,40.4284067132064,40.4282298472402,40.4326743792619,40.427218245034,40.4286980470127,40.4438276141631,40.4309066125952,40.4341435804433,40.4295562798622,40.4318075456032,40.4319215793633,40.431808545925,40.4214297535045,40.435758416961,40.4304558459245,40.4324706128895,40.403749109406,40.3999219089419,40.4008750793703,40.3987383701915,40.4128053727777,40.4089247100335,40.4340988793663,40.4530022153813,40.4463511202068,40.449081137212,40.4387720765067,40.4244452233779,40.4096768538685,40.3946518289319,40.3890130923687,40.3757960260878,40.365434204762,40.367429151242,40.368676476261,40.3641551541431,40.3828151450114,40.3858225289143,40.3909831134106,40.3813111819428,40.3810043715225,40.4447616512912,40.4432727412162,40.4385526714158,40.4352107015703,40.4357292497558,40.4365110536171,40.4337450367235],\"legendgroup\":\"\",\"lon\":[-3.6830877896,-3.7028167543,-3.7040770135,-3.6959280506,-3.6976740255,-3.6996746929,-3.6998828064,-3.7020450046,-3.6826380472,-3.7029024181,-3.7021339371,-3.7083621948,-3.6961427218,-3.7144755469,-3.7024529432,-3.7047051852,-3.6954568454,-3.7036041985,-3.6916745794,-3.6871124585,-3.6928886181,-3.6932132794,-3.6931606697,-3.6812560776,-3.7025971319,-3.6887893408,-3.6738411794,-3.7146985353,-3.695357339,-3.7041560643,-3.7032054454,-3.7038130353,-3.7107533242,-3.6966522297,-3.7060017911,-3.6981689813,-3.7103935279,-3.7058462236,-3.6989787896,-3.7052509236,-3.7108617242,-3.7020649046,-3.6951098757,-3.7033307641,-3.7070208794,-3.7083075218,-3.7009690567,-3.6974553902,-3.6998943604,-3.7109272641,-3.7113548199,-3.7110079199,-3.7065355184,-3.7038499929,-3.7046631702,-3.7055233162,-3.6775385297,-3.71035196,-3.7119444929,-3.7100355929,-3.7086648257,-3.6975549757,-3.7058102297,-3.7003161144,-3.677006819,-3.7129896451,-3.6973335604,-3.6959283506,-3.699069726,-3.704088368,-3.7038958101,-3.7008597892,-3.7082036488,-3.7000298353,-3.6800002472,-3.6979146027,-3.7066700567,-3.6987432929,-3.7096383622,-3.7066682735,-3.72207540479586,-3.70582009022437,-3.70371280431183,-3.69661249630016,-3.70244489260032,-3.69889617177657,-3.7442705773284,-3.76511303712195,-3.77783972575137,-3.77141060608284,-3.77471307786331,-3.73359226252145,-3.6679719151125,-3.6845729471796,-3.66830942630262,-3.67126325882889,-3.66689364475151,-3.69064018766496,-3.66712938212848,-3.67634021465459,-3.66734132941121,-3.6675980588297,-3.6771798440665,-3.67070049503957,-3.69156944591268,-3.70292197976014,-3.70653363303672,-3.70064186187192,-3.70302876187218,-3.7019900618722,-3.71080263303648,-3.70360073303638,-3.68825119325338,-3.68808816187299,-3.68705706184024,-3.69398173300426,-3.70616609121556,-3.69396024649477,-3.69907490416568,-3.71243457533063,-3.70435130416507,-3.69729960416624,-3.67065575509144,-3.68651397533093,-3.66785136183778,-3.68753945092512,-3.66991623300194,-3.6882639753306,-3.70130987533045,-3.71091903300182,-3.70161419067395,-3.70840103558212,-3.70463699067313,-3.70677466183695,-3.72421110416698,-3.72522823300287,-3.68945333300287,-3.69424096183774,-3.69542174649475,-3.69200000416597,-3.69212173300205,-3.69555637533046,-3.70031443300104,-3.69675143300183,-3.70255466183739,-3.70097726194399,-3.70031114660355,-3.66909570427369,-3.68647840187896,-3.68603570190545,-3.7178669,-3.71195280190533,-3.71241334423396,-3.74266673074156,-3.67082080190601,-3.66992224423468,-3.67227543360737,-3.67177600190573,-3.67287348841275,-3.69470583074088,-3.70263243074048,-3.71580615957628,-3.66693904423362,-3.64514330190512,-3.65115247116435,-3.64198527116435,-3.65036152883568,-3.66343990190628,-3.66966828841348,-3.68617083074242,-3.69978914423543,-3.71632911724928,-3.7530381442355,-3.709186164418,-3.7295940618083,-3.74389273852471,-3.74235479327291,-3.76303532318661,-3.69734752315013,-3.6893428435378,-3.67795953056069,-3.68451702210888,-3.68087994670427,-3.68365587821008,-3.68103643850028],\"marker\":{\"color\":\"blue\",\"size\":[5,5,5,5,5,5,5,5,5,5,5,5,5,5,5,5,5,5,5,5,5,5,5,5,5,5,5,5,5,5,5,5,5,5,5,5,5,5,5,5,5,5,5,5,5,5,5,5,5,5,5,5,5,5,5,5,5,5,5,5,5,5,5,5,5,5,5,5,5,5,5,5,5,5,5,5,5,5,5,5,5,5,5,5,5,5,5,5,5,5,5,5,5,5,5,5,5,5,5,5,5,5,5,5,5,5,5,5,5,5,5,5,5,5,5,5,5,5,5,5,5,5,5,5,5,5,5,5,5,5,5,5,5,5,5,5,5,5,5,5,5,5,5,5,5,5,5,5,5,5,5,5,5,5,5,5,5,5,5,5,5,5,5,5,5,5,5,5,5,5,5,5,5,5,5,5,5,5,5,5,5,5,5,5,5],\"sizemode\":\"area\",\"sizeref\":0.2},\"mode\":\"markers\",\"name\":\"\",\"showlegend\":false,\"subplot\":\"mapbox\",\"type\":\"scattermapbox\"},{\"customdata\":[[\"Concierto de Sabina\",\"Joaqu\\u00edn de Sabina dar\\u00e1 en exclusiva este concierto en el que presentar\\u00e1 su nuevo disco\"],[\"Venta de discos de Sabina\",\"Venta de discos del trabajo de Joaqu\\u00edn de Sabina\"],[\"Firma de discos de Sabina\",\"Joaqu\\u00edn de Sabina har\\u00e1 una firma de discos previa a su concierto.\"],[\"Expositor Sabina\",\"Recorre la vida de Joaqu\\u00edn Sabina desde su infancia hasta la actualidad en esta exposici\\u00f3n\"],[\"Espect\\u00e1culo de danz\",\"Espect\\u00e1culo de danza de la escuela de danza de Torrej\\u00f3n\"],[\"Merchandisig Sabina\",\"Punto de venta de merchandising de Joaqu\\u00edn Sabina\"],[\"Firma de discos Coldplay\",\"Coldplay firmar\\u00e1 su \\u00faltimo disco a las 10\"],[\"Concierto Coldplay\",\"Coldplay dar\\u00e1 un Concierto \\u00fanico en esclusiva en el recinto del IFEMA\"],[\"Firma de discos de Bombay\",\"Bombay har\\u00e1 una firma de discos. Aprovehca y llevate un buen recuerdo!\"],[\"Cocierto Bombay\",\"Cocierto de Bombay. Bombai son Javi (voz) Vicente (guitarra el\\u00e9ctrica) y Ram\\u00f3n (guitarra ac\\u00fastica). tres amigos de la infancia con a\\u00f1os de m\\u00fasica detr\\u00e1s que se juntaron y empezaron a componer.\"],[\"Firma de discos de Los Zigarros\",\"Firma de discos de Los Zigarros\"],[\"Concierto de Los Zigarros\",\"Disfruta de lo \\u00faltimo del grupo en este concierto de Los Zigarros\"],[\"Firma de discos de Sidecars\",\"Firma de discos de Sidecars\"],[\"Concierto de Sidecars\",\"SIDECARS presenta su nuevo single \\u201cSI ME VES APARECER\\u201d compuesto y producido por Juancho.\"],[\"Firma de discos de Taburete\",\"Firma de discos de Taburete\"],[\"Concierto de Taburete\",\"Concierto de Taburete en el presentar\\u00e1 su trabajo por la geograf\\u00eda espa\\u00f1ola\"],[\"Firma de discos de Arnau Griso\",\"Firma de discos de Arnau Griso\"],[\"Concierto de Arnau Griso\",\"Concierto de Arnau Griso\"],[\"Puesto de venta de merchandising pop espa\\u00f1ol\",\"Puesto de venta de merchandising pop espa\\u00f1ol\"],[\"Expositor historia del pop espa\\u00f1ol\",\"Expositor historia del pop espa\\u00f1ol. En este expositor se recorrer\\u00e1 por la historia del pop espa\\u00f1ol.\"],[\"EspaPop\",\"EspaPop es una charla en la que se discutir\\u00e1 el presente y futuro de nuestro pop.\"],[\"Firma de discos DAMY SOUL\",\"Firma de discos DAMY SOUL\"],[\"Concierto DAMY SOUL\",\"Concierto DAMY SOUL\"],[\"Firma Clau De Swing\",\"Firma Clau De Swing\"],[\"Concierto de Clau De Swing\",\"Concierto de Clau De Swing\"],[\"Firma Tina & Joe\",\"Firma de discos y merchandising de Tina & Joe\"],[\"Concierto Tina & Joe\",\"Concierto Tina & Joe\"],[\"Expositor jazz es futuro\",\"Expositor jazz es futuro\"],[\"Firma J Balvin\",\"Firma de discos y merchandising de J Balvin\"],[\"Concierto J Balvin\",\"Concierto J Balvin\"],[\"Firma Maluma\",\"Firma de discos y merchandising de Maluma\"],[\"Concierto Maluma\",\"Concierto Maluma\"],[\"Firma Omar\",\"Firma de discos y merchandising de  Omar\"],[\"Concierto Omar\",\"Concierto Omar\"],[\"Mechandising Reggaeton\",\"Mechandising Reggaeton\"],[\"Firma Kase.O\",\"Firma Kase.O\"],[\"Concierto Kase.O\",\"Concierto Kase.O\"],[\"Firma Foyone\",\"Firma de discos y merchandising de Foyone\"],[\"Concierto Foyone\",\"Concierto Foyone\"],[\"Firma Ayax y Prok\",\"Firma de discos y merchandising de  Ayax y Prok\"],[\"Concierto Ayax y Prok\",\"Concierto Ayax y Prok\"],[\"Rap y sus barrios\",\"En rao y sus barrios \"],[\"Firma Alter Bridge\",\"Firma Alter Bridge\"],[\"Concierto Alter Bridge\",\"Concierto Alter Bridge\"],[\"Firma Godsmack\",\"Firma Godsmack\"],[\"Concierto Godsmack\",\"Concierto Godsmack\"],[\"Firma Sevendust\",\"Firma Sevendust\"],[\"Concierto Sevendust\",\"Concierto Sevendust\"],[\"Musica alternativa 80s\",\"Expositor que tratar\\u00e1 c\\u00f3mo fu\\u00e9 la musica alternativa de los 80s\"],[\"Cocierto banda Conservatorio Profesional de M\\u00fasica Joaqu\\u00edn Turina\",\"Cocierto banda Conservatorio Profesional de M\\u00fasica Joaqu\\u00edn Turina\"],[\"Concierto orquesta Conservatorio Profesional de M\\u00fasica Victoria de los \\u00c1ngeles Madrid\",\"Concierto orquesta Conservatorio Profesional de M\\u00fasica Victoria de los \\u00c1ngeles Madrid\"],[\"Concierto profesores Conservatorio Profesional de M\\u00fasica Arturo Soria\",\"Concierto profesores Conservatorio Profesional de M\\u00fasica Arturo Soria\"],[\"Cocierto musica de camara Conservatorio Profesional de M\\u00fasica Amaniel\",\"Cocierto musica de camara Conservatorio Profesional de M\\u00fasica Amaniel\"],[\"Concierto orquesta Conservatorio Profesional de M\\u00fasica de Getafe\",\"Concierto orquesta Conservatorio Profesional de M\\u00fasica de Getafe\"],[\"Concierto sinfonico Real Conservatorio Superior de M\\u00fasica de Madrid\",\"Concierto sinfonico Real Conservatorio Superior de M\\u00fasica de Madrid\"],[\"Concierto coro Escuela Superior de M\\u00fasica Reina Sof\\u00eda\",\"Concierto coro Escuela Superior de M\\u00fasica Reina Sof\\u00eda\"],[\"Conservatorios Madrid\",\"Aqu\\u00ed podr\\u00e1s ver las diferentes ofertertas y caracter\\u00edsticas de los conservatorios de m\\u00fasica de Madrid.\"],[\"Chopper Monster\",\"Puesto de venta de discos de rock\"],[\"AllfonRock\",\"Puesto de venta de discos de rock\"],[\"Musical Henares\",\"PuPuesto de venta de discos de pop\"],[\"La cara B\",\"Puesto de venta de discos de pop\"],[\"Jazzymas\",\"Puesto de venta de discos de pop\"],[\"Musical Princesa\",\"Puesto de venta de discos de m\\u00fasica cl\\u00e1sica\"],[\"Nakasha\",\"Puesto de venta de discos de m\\u00fasica cl\\u00e1sica\"],[\"La Gramola\",\"Puesto de venta de discos de Reggaeton\"],[\"Discos La Metralleta\",\"Puesto de venta de discos de Reggaeton\"],[\"Marilians Records\",\"Puesto de venta de discos de Reggaeton\"],[\"Denied Rock\",\"Puesto de venta de merchandising de Rock\"],[\"New Rock Fuencarral\",\"Puesto de venta de merchandising de Rock\"],[\"Popping\",\"Puesto de venta de merchandising de Pop\"],[\"Atl\\u00e1ntica Pop\",\"Puesto de venta de merchandising de Pop\"],[\"Spiccato\",\"Puesto de venta de merchandising de Jazz\"],[\"Directa Music\",\"Puesto de venta de merchandising de m\\u00fasica cl\\u00e1sica\"],[\"Stomp Zion\",\"Puesto de venta de merchandising de Rap\"],[\"Red Bubble\",\"Puesto de venta de merchandising de Reggaeton\"],[\"G music\",\"Puesto de venta de merchandising de Reggaeton\"],[\"UrbanoShop\",\"Puesto de venta de merchandising de Reggaeton\"],[\"Perritos calientes\",\"Puesto de comida r\\u00e1pida donde puedes adquirir perritos calientes.\"],[\"Hamburguesa\",\"Puesto de comida r\\u00e1pida donde puedes adquirir Hamburguesas\"],[\"Frutos Secos\",\"Consigue todo tipo de Frutos secos aqui.\"],[\"Pizza Kebab\",\"El cl\\u00e1sico kebab y las mejores pizzas para disfrutarlo en el ifema\"],[\"Cerveceria\",\"Cerveza artesana de todo tipo. Aprovecha y prueba las mejores cervezas.\"],[\"Barbacoa\",\"Puesto donde conseguir\\u00e1s los mejores ahumados y barbacoa de Madrid\"],[\"Food Truck\",\"Food Truck. Puesto de comida r\\u00e1pida\"],[\"Starbucks Coffe\",\"Cadena de caf\\u00e9s Starbucks Coffe\"],[\"Hard Rock\",\"Cadena de caf\\u00e9s Hard Rock\"],[\"grido\",\"Disfruta de un refrescante helado en Grido.\"],[\"llaollao\",\"Llaollao es una cadena de yogurt helado.\"],[\"Dominos pizza\",\"Dominos pizza es una cadena de pizzer\\u00edas.\"],[\"McDonal's\",\"McDonal's. Restaurante de c\\u00f3mida r\\u00e1pida conocido por sus hamburguesas.\"],[\"KFC\",\"KFC es un restaurante de pollo frito.\"],[\"Taco Bell\",\"Disfruta del aut\\u00e9ntico sabor de los tacos mexicanos en Taco Bell\"],[\"The Good Burger\",\"The Good Burger. Restaurante de c\\u00f3mida r\\u00e1pida conocido por sus hamburguesas.\"],[\"Telepizza\",\"Telepizza. Restaurante de c\\u00f3mida r\\u00e1pida conocido por sus pizzas.\"],[\"Tagliatella\",\"Tagliatella es un restaurante italiano donde puedes disfrutar de una comida Italiana aut\\u00e9ntica.\"],[\"Subway\",\"Subway es una cadena de restaurantes de comida r\\u00e1pida.\"],[\"Templo de bamb\\u00fa\",\"En el Templo de bamb\\u00fa puedes disfrutar de comida asi\\u00e1tica en su m\\u00e1ximo explendor.\"],[\"Cl\\u00e1sico a dos\",\"Cl\\u00e1sico a dos es una experiencia donde Mar\\u00eda Mezcle nos deleitar\\u00e1 con su nuevo espect\\u00e1culo.\"],[\"Falla 3.0\",\"Camerata Flamenco Project representa Falla 3.0 su exitoso espect\\u00e1culo de flamenco.\"],[\"Bailes Extranhos\",\"Bailes Extranhos por Sandra Carrasco y David de Arahal.\"],[\"A Voz y Guitarra\",\"Concierto flamenco a Voz y Guitarra\"],[\"En Recital\",\"En Recital interpretado por el cantautor Jos\\u00e9 Valencia.\"],[\"Las Mujeres Cantan al Mito\",\"Concierto Las Mujeres Cantan al Mito.\"],[\"Guitarras flamencas\",\"Guitarras flamencas es un espect\\u00e1culo flamenco en el que se interpretar\\u00e1n las obras m\\u00e1s m\\u00edticas a guitarra.\"],[\"Firma Osuna\",\"Firma de discos y camisetas de Osuna.\"],[\"Concierto Osuna\",\"Concierto de Osuna.\"],[\"Firma Danny \\u00c1vila\",\"Firma de discos de Danny \\u00c1vila.\"],[\"Concierto Danny \\u00c1vila\",\"Concierto de la gira de Danny \\u00c1vila.\"],[\"Firma DJ Chus\",\"Firma de disco de DJ Chus\"],[\"Concierto DJ Chus\",\"Concierto de  DJ Chus\"]],\"hovertemplate\":\"<b>%{hovertext}</b><br><br>size=%{marker.size}<br>Latitud=%{lat}<br>Longitud=%{lon}<br>Nombre=%{customdata[0]}<br>Descripcion=%{customdata[1]}<extra></extra>\",\"hovertext\":[0.0,1.0,2.0,3.0,4.0,5.0,6.0,7.0,8.0,9.0,10.0,11.0,12.0,13.0,14.0,15.0,16.0,17.0,18.0,19.0,20.0,21.0,22.0,23.0,24.0,25.0,26.0,27.0,28.0,29.0,30.0,31.0,32.0,33.0,34.0,35.0,36.0,37.0,38.0,39.0,40.0,41.0,42.0,43.0,44.0,45.0,46.0,47.0,48.0,49.0,50.0,51.0,52.0,53.0,54.0,55.0,56.0,57.0,58.0,59.0,60.0,61.0,62.0,63.0,64.0,65.0,66.0,67.0,68.0,69.0,70.0,71.0,72.0,73.0,74.0,75.0,76.0,77.0,78.0,79.0,80.0,81.0,82.0,83.0,84.0,85.0,86.0,87.0,88.0,89.0,90.0,91.0,92.0,93.0,94.0,95.0,96.0,97.0,98.0,99.0,100.0,101.0,102.0,103.0,104.0,105.0,106.0,107.0,108.0,109.0],\"lat\":[40.46912,40.46931,40.4688,40.46915,40.46881,40.46907,40.46864,40.46877,40.4689,40.46896,40.46857,40.46849,40.46841,40.47022,40.47058,40.47055,40.47047,40.47,40.47,40.47004,40.47037,40.46986,40.47021,40.47017,40.47008,40.46961,40.46964,40.46974,40.46695,40.46717,40.46715,40.46701,40.46668,40.46662,40.46676,40.46656,40.46675,40.46683,40.46649,40.46624,40.46622,40.4666,40.46577,40.46581,40.46584,40.46558,40.46549,40.46545,40.46555,40.46612,40.46616,40.46601,40.46586,40.46578,40.46574,40.466,40.46613,40.46821,40.46824,40.46829,40.46833,40.46837,40.4684,40.46826,40.46814,40.46801,40.46788,40.46775,40.46773,40.46772,40.4677,40.46767,40.46763,40.46793,40.46794,40.46799,40.46807,40.46793,40.46797,40.46799,40.46803,40.46807,40.46804,40.46795,40.46784,40.46772,40.4676,40.46735,40.46734,40.46731,40.46728,40.46726,40.46725,40.46755,40.46763,40.4677,40.46773,40.46601,40.46611,40.46613,40.4665,40.46684,40.4668,40.46639,40.46774,40.46816,40.46825,40.46789,40.46747,40.46737],\"legendgroup\":\"\",\"lon\":[-3.61544,-3.61604,-3.61597,-3.61661,-3.61643,-3.61533,-3.61874,-3.61936,-3.61885,-3.61816,-3.61803,-3.61869,-3.6193,-3.61638,-3.61566,-3.61632,-3.61701,-3.61688,-3.61629,-3.61565,-3.61557,-3.61906,-3.61837,-3.61903,-3.61971,-3.61953,-3.61896,-3.61839,-3.61552,-3.61501,-3.61549,-3.61617,-3.61609,-3.61547,-3.61487,-3.61827,-3.61833,-3.6176,-3.61751,-3.61824,-3.61902,-3.61912,-3.61829,-3.61793,-3.61753,-3.61746,-3.61765,-3.61798,-3.61837,-3.61559,-3.6153,-3.61508,-3.61521,-3.61546,-3.61582,-3.61607,-3.61574,-3.61618,-3.61596,-3.61574,-3.61556,-3.61527,-3.61505,-3.615,-3.61497,-3.61493,-3.61489,-3.61485,-3.61508,-3.61524,-3.61546,-3.61579,-3.61608,-3.61613,-3.61578,-3.6154,-3.61518,-3.61878,-3.61855,-3.61835,-3.61813,-3.61788,-3.61744,-3.61741,-3.6174,-3.61738,-3.61735,-3.61774,-3.61789,-3.61801,-3.61828,-3.61848,-3.61867,-3.61866,-3.6184,-3.61794,-3.61766,-3.61353,-3.61296,-3.61258,-3.61263,-3.61271,-3.61315,-3.61364,-3.61399,-3.61349,-3.61297,-3.61279,-3.6127,-3.61335],\"marker\":{\"color\":\"blue\",\"size\":[5,5,5,5,5,5,5,5,5,5,5,5,5,5,5,5,5,5,5,5,5,5,5,5,5,5,5,5,5,5,5,5,5,5,5,5,5,5,5,5,5,5,5,5,5,5,5,5,5,5,5,5,5,5,5,5,5,5,5,5,5,5,5,5,5,5,5,5,5,5,5,5,5,5,5,5,5,5,5,5,5,5,5,5,5,5,5,5,5,5,5,5,5,5,5,5,5,5,5,5,5,5,5,5,5,5,5,5,5,5],\"sizemode\":\"area\",\"sizeref\":0.2},\"mode\":\"markers\",\"name\":\"\",\"showlegend\":false,\"subplot\":\"mapbox\",\"type\":\"scattermapbox\"},{\"customdata\":[[\"Concierto de Sabina\",\"Joaqu\\u00edn de Sabina dar\\u00e1 en exclusiva este concierto en el que presentar\\u00e1 su nuevo disco\"],[\"Venta de discos de Sabina\",\"Venta de discos del trabajo de Joaqu\\u00edn de Sabina\"],[\"Firma de discos de Sabina\",\"Joaqu\\u00edn de Sabina har\\u00e1 una firma de discos previa a su concierto.\"],[\"Expositor Sabina\",\"Recorre la vida de Joaqu\\u00edn Sabina desde su infancia hasta la actualidad en esta exposici\\u00f3n\"],[\"Espect\\u00e1culo de danz\",\"Espect\\u00e1culo de danza de la escuela de danza de Torrej\\u00f3n\"],[\"Merchandisig Sabina\",\"Punto de venta de merchandising de Joaqu\\u00edn Sabina\"],[\"Firma de discos Coldplay\",\"Coldplay firmar\\u00e1 su \\u00faltimo disco a las 10\"],[\"Concierto Coldplay\",\"Coldplay dar\\u00e1 un Concierto \\u00fanico en esclusiva en el recinto del IFEMA\"],[\"Firma de discos de Bombay\",\"Bombay har\\u00e1 una firma de discos. Aprovehca y llevate un buen recuerdo!\"],[\"Cocierto Bombay\",\"Cocierto de Bombay. Bombai son Javi (voz) Vicente (guitarra el\\u00e9ctrica) y Ram\\u00f3n (guitarra ac\\u00fastica). tres amigos de la infancia con a\\u00f1os de m\\u00fasica detr\\u00e1s que se juntaron y empezaron a componer.\"],[\"Firma de discos de Los Zigarros\",\"Firma de discos de Los Zigarros\"],[\"Concierto de Los Zigarros\",\"Disfruta de lo \\u00faltimo del grupo en este concierto de Los Zigarros\"],[\"Firma de discos de Sidecars\",\"Firma de discos de Sidecars\"],[\"Concierto de Sidecars\",\"SIDECARS presenta su nuevo single \\u201cSI ME VES APARECER\\u201d compuesto y producido por Juancho.\"],[\"Firma de discos de Taburete\",\"Firma de discos de Taburete\"],[\"Concierto de Taburete\",\"Concierto de Taburete en el presentar\\u00e1 su trabajo por la geograf\\u00eda espa\\u00f1ola\"],[\"Firma de discos de Arnau Griso\",\"Firma de discos de Arnau Griso\"],[\"Concierto de Arnau Griso\",\"Concierto de Arnau Griso\"],[\"Puesto de venta de merchandising pop espa\\u00f1ol\",\"Puesto de venta de merchandising pop espa\\u00f1ol\"],[\"Expositor historia del pop espa\\u00f1ol\",\"Expositor historia del pop espa\\u00f1ol. En este expositor se recorrer\\u00e1 por la historia del pop espa\\u00f1ol.\"],[\"EspaPop\",\"EspaPop es una charla en la que se discutir\\u00e1 el presente y futuro de nuestro pop.\"],[\"Firma de discos DAMY SOUL\",\"Firma de discos DAMY SOUL\"],[\"Concierto DAMY SOUL\",\"Concierto DAMY SOUL\"],[\"Firma Clau De Swing\",\"Firma Clau De Swing\"],[\"Concierto de Clau De Swing\",\"Concierto de Clau De Swing\"],[\"Firma Tina & Joe\",\"Firma de discos y merchandising de Tina & Joe\"],[\"Concierto Tina & Joe\",\"Concierto Tina & Joe\"],[\"Expositor jazz es futuro\",\"Expositor jazz es futuro\"],[\"Firma J Balvin\",\"Firma de discos y merchandising de J Balvin\"],[\"Concierto J Balvin\",\"Concierto J Balvin\"],[\"Firma Maluma\",\"Firma de discos y merchandising de Maluma\"],[\"Concierto Maluma\",\"Concierto Maluma\"],[\"Firma Omar\",\"Firma de discos y merchandising de  Omar\"],[\"Concierto Omar\",\"Concierto Omar\"],[\"Mechandising Reggaeton\",\"Mechandising Reggaeton\"],[\"Firma Kase.O\",\"Firma Kase.O\"],[\"Concierto Kase.O\",\"Concierto Kase.O\"],[\"Firma Foyone\",\"Firma de discos y merchandising de Foyone\"],[\"Concierto Foyone\",\"Concierto Foyone\"],[\"Firma Ayax y Prok\",\"Firma de discos y merchandising de  Ayax y Prok\"],[\"Concierto Ayax y Prok\",\"Concierto Ayax y Prok\"],[\"Rap y sus barrios\",\"En rao y sus barrios \"],[\"Firma Alter Bridge\",\"Firma Alter Bridge\"],[\"Concierto Alter Bridge\",\"Concierto Alter Bridge\"],[\"Firma Godsmack\",\"Firma Godsmack\"],[\"Concierto Godsmack\",\"Concierto Godsmack\"],[\"Firma Sevendust\",\"Firma Sevendust\"],[\"Concierto Sevendust\",\"Concierto Sevendust\"],[\"Musica alternativa 80s\",\"Expositor que tratar\\u00e1 c\\u00f3mo fu\\u00e9 la musica alternativa de los 80s\"],[\"Cocierto banda Conservatorio Profesional de M\\u00fasica Joaqu\\u00edn Turina\",\"Cocierto banda Conservatorio Profesional de M\\u00fasica Joaqu\\u00edn Turina\"],[\"Concierto orquesta Conservatorio Profesional de M\\u00fasica Victoria de los \\u00c1ngeles Madrid\",\"Concierto orquesta Conservatorio Profesional de M\\u00fasica Victoria de los \\u00c1ngeles Madrid\"],[\"Concierto profesores Conservatorio Profesional de M\\u00fasica Arturo Soria\",\"Concierto profesores Conservatorio Profesional de M\\u00fasica Arturo Soria\"],[\"Cocierto musica de camara Conservatorio Profesional de M\\u00fasica Amaniel\",\"Cocierto musica de camara Conservatorio Profesional de M\\u00fasica Amaniel\"],[\"Concierto orquesta Conservatorio Profesional de M\\u00fasica de Getafe\",\"Concierto orquesta Conservatorio Profesional de M\\u00fasica de Getafe\"],[\"Concierto sinfonico Real Conservatorio Superior de M\\u00fasica de Madrid\",\"Concierto sinfonico Real Conservatorio Superior de M\\u00fasica de Madrid\"],[\"Concierto coro Escuela Superior de M\\u00fasica Reina Sof\\u00eda\",\"Concierto coro Escuela Superior de M\\u00fasica Reina Sof\\u00eda\"],[\"Conservatorios Madrid\",\"Aqu\\u00ed podr\\u00e1s ver las diferentes ofertertas y caracter\\u00edsticas de los conservatorios de m\\u00fasica de Madrid.\"],[\"Chopper Monster\",\"Puesto de venta de discos de rock\"],[\"AllfonRock\",\"Puesto de venta de discos de rock\"],[\"Musical Henares\",\"PuPuesto de venta de discos de pop\"],[\"La cara B\",\"Puesto de venta de discos de pop\"],[\"Jazzymas\",\"Puesto de venta de discos de pop\"],[\"Musical Princesa\",\"Puesto de venta de discos de m\\u00fasica cl\\u00e1sica\"],[\"Nakasha\",\"Puesto de venta de discos de m\\u00fasica cl\\u00e1sica\"],[\"La Gramola\",\"Puesto de venta de discos de Reggaeton\"],[\"Discos La Metralleta\",\"Puesto de venta de discos de Reggaeton\"],[\"Marilians Records\",\"Puesto de venta de discos de Reggaeton\"],[\"Denied Rock\",\"Puesto de venta de merchandising de Rock\"],[\"New Rock Fuencarral\",\"Puesto de venta de merchandising de Rock\"],[\"Popping\",\"Puesto de venta de merchandising de Pop\"],[\"Atl\\u00e1ntica Pop\",\"Puesto de venta de merchandising de Pop\"],[\"Spiccato\",\"Puesto de venta de merchandising de Jazz\"],[\"Directa Music\",\"Puesto de venta de merchandising de m\\u00fasica cl\\u00e1sica\"],[\"Stomp Zion\",\"Puesto de venta de merchandising de Rap\"],[\"Red Bubble\",\"Puesto de venta de merchandising de Reggaeton\"],[\"G music\",\"Puesto de venta de merchandising de Reggaeton\"],[\"UrbanoShop\",\"Puesto de venta de merchandising de Reggaeton\"],[\"Perritos calientes\",\"Puesto de comida r\\u00e1pida donde puedes adquirir perritos calientes.\"],[\"Hamburguesa\",\"Puesto de comida r\\u00e1pida donde puedes adquirir Hamburguesas\"],[\"Frutos Secos\",\"Consigue todo tipo de Frutos secos aqui.\"],[\"Pizza Kebab\",\"El cl\\u00e1sico kebab y las mejores pizzas para disfrutarlo en el ifema\"],[\"Cerveceria\",\"Cerveza artesana de todo tipo. Aprovecha y prueba las mejores cervezas.\"],[\"Barbacoa\",\"Puesto donde conseguir\\u00e1s los mejores ahumados y barbacoa de Madrid\"],[\"Food Truck\",\"Food Truck. Puesto de comida r\\u00e1pida\"],[\"Starbucks Coffe\",\"Cadena de caf\\u00e9s Starbucks Coffe\"],[\"Hard Rock\",\"Cadena de caf\\u00e9s Hard Rock\"],[\"grido\",\"Disfruta de un refrescante helado en Grido.\"],[\"llaollao\",\"Llaollao es una cadena de yogurt helado.\"],[\"Dominos pizza\",\"Dominos pizza es una cadena de pizzer\\u00edas.\"],[\"McDonal's\",\"McDonal's. Restaurante de c\\u00f3mida r\\u00e1pida conocido por sus hamburguesas.\"],[\"KFC\",\"KFC es un restaurante de pollo frito.\"],[\"Taco Bell\",\"Disfruta del aut\\u00e9ntico sabor de los tacos mexicanos en Taco Bell\"],[\"The Good Burger\",\"The Good Burger. Restaurante de c\\u00f3mida r\\u00e1pida conocido por sus hamburguesas.\"],[\"Telepizza\",\"Telepizza. Restaurante de c\\u00f3mida r\\u00e1pida conocido por sus pizzas.\"],[\"Tagliatella\",\"Tagliatella es un restaurante italiano donde puedes disfrutar de una comida Italiana aut\\u00e9ntica.\"],[\"Subway\",\"Subway es una cadena de restaurantes de comida r\\u00e1pida.\"],[\"Templo de bamb\\u00fa\",\"En el Templo de bamb\\u00fa puedes disfrutar de comida asi\\u00e1tica en su m\\u00e1ximo explendor.\"],[\"Cl\\u00e1sico a dos\",\"Cl\\u00e1sico a dos es una experiencia donde Mar\\u00eda Mezcle nos deleitar\\u00e1 con su nuevo espect\\u00e1culo.\"],[\"Falla 3.0\",\"Camerata Flamenco Project representa Falla 3.0 su exitoso espect\\u00e1culo de flamenco.\"],[\"Bailes Extranhos\",\"Bailes Extranhos por Sandra Carrasco y David de Arahal.\"],[\"A Voz y Guitarra\",\"Concierto flamenco a Voz y Guitarra\"],[\"En Recital\",\"En Recital interpretado por el cantautor Jos\\u00e9 Valencia.\"],[\"Las Mujeres Cantan al Mito\",\"Concierto Las Mujeres Cantan al Mito.\"],[\"Guitarras flamencas\",\"Guitarras flamencas es un espect\\u00e1culo flamenco en el que se interpretar\\u00e1n las obras m\\u00e1s m\\u00edticas a guitarra.\"],[\"Firma Osuna\",\"Firma de discos y camisetas de Osuna.\"],[\"Concierto Osuna\",\"Concierto de Osuna.\"],[\"Firma Danny \\u00c1vila\",\"Firma de discos de Danny \\u00c1vila.\"],[\"Concierto Danny \\u00c1vila\",\"Concierto de la gira de Danny \\u00c1vila.\"],[\"Firma DJ Chus\",\"Firma de disco de DJ Chus\"],[\"Concierto DJ Chus\",\"Concierto de  DJ Chus\"]],\"hovertemplate\":\"<b>%{hovertext}</b><br><br>size=%{marker.size}<br>Latitud=%{lat}<br>Longitud=%{lon}<br>Nombre=%{customdata[0]}<br>Descripcion=%{customdata[1]}<extra></extra>\",\"hovertext\":[0.0,1.0,2.0,3.0,4.0,5.0,6.0,7.0,8.0,9.0,10.0,11.0,12.0,13.0,14.0,15.0,16.0,17.0,18.0,19.0,20.0,21.0,22.0,23.0,24.0,25.0,26.0,27.0,28.0,29.0,30.0,31.0,32.0,33.0,34.0,35.0,36.0,37.0,38.0,39.0,40.0,41.0,42.0,43.0,44.0,45.0,46.0,47.0,48.0,49.0,50.0,51.0,52.0,53.0,54.0,55.0,56.0,57.0,58.0,59.0,60.0,61.0,62.0,63.0,64.0,65.0,66.0,67.0,68.0,69.0,70.0,71.0,72.0,73.0,74.0,75.0,76.0,77.0,78.0,79.0,80.0,81.0,82.0,83.0,84.0,85.0,86.0,87.0,88.0,89.0,90.0,91.0,92.0,93.0,94.0,95.0,96.0,97.0,98.0,99.0,100.0,101.0,102.0,103.0,104.0,105.0,106.0,107.0,108.0,109.0],\"lat\":[40.46912,40.46931,40.4688,40.46915,40.46881,40.46907,40.46864,40.46877,40.4689,40.46896,40.46857,40.46849,40.46841,40.47022,40.47058,40.47055,40.47047,40.47,40.47,40.47004,40.47037,40.46986,40.47021,40.47017,40.47008,40.46961,40.46964,40.46974,40.46695,40.46717,40.46715,40.46701,40.46668,40.46662,40.46676,40.46656,40.46675,40.46683,40.46649,40.46624,40.46622,40.4666,40.46577,40.46581,40.46584,40.46558,40.46549,40.46545,40.46555,40.46612,40.46616,40.46601,40.46586,40.46578,40.46574,40.466,40.46613,40.46821,40.46824,40.46829,40.46833,40.46837,40.4684,40.46826,40.46814,40.46801,40.46788,40.46775,40.46773,40.46772,40.4677,40.46767,40.46763,40.46793,40.46794,40.46799,40.46807,40.46793,40.46797,40.46799,40.46803,40.46807,40.46804,40.46795,40.46784,40.46772,40.4676,40.46735,40.46734,40.46731,40.46728,40.46726,40.46725,40.46755,40.46763,40.4677,40.46773,40.46601,40.46611,40.46613,40.4665,40.46684,40.4668,40.46639,40.46774,40.46816,40.46825,40.46789,40.46747,40.46737],\"legendgroup\":\"\",\"lon\":[-3.61544,-3.61604,-3.61597,-3.61661,-3.61643,-3.61533,-3.61874,-3.61936,-3.61885,-3.61816,-3.61803,-3.61869,-3.6193,-3.61638,-3.61566,-3.61632,-3.61701,-3.61688,-3.61629,-3.61565,-3.61557,-3.61906,-3.61837,-3.61903,-3.61971,-3.61953,-3.61896,-3.61839,-3.61552,-3.61501,-3.61549,-3.61617,-3.61609,-3.61547,-3.61487,-3.61827,-3.61833,-3.6176,-3.61751,-3.61824,-3.61902,-3.61912,-3.61829,-3.61793,-3.61753,-3.61746,-3.61765,-3.61798,-3.61837,-3.61559,-3.6153,-3.61508,-3.61521,-3.61546,-3.61582,-3.61607,-3.61574,-3.61618,-3.61596,-3.61574,-3.61556,-3.61527,-3.61505,-3.615,-3.61497,-3.61493,-3.61489,-3.61485,-3.61508,-3.61524,-3.61546,-3.61579,-3.61608,-3.61613,-3.61578,-3.6154,-3.61518,-3.61878,-3.61855,-3.61835,-3.61813,-3.61788,-3.61744,-3.61741,-3.6174,-3.61738,-3.61735,-3.61774,-3.61789,-3.61801,-3.61828,-3.61848,-3.61867,-3.61866,-3.6184,-3.61794,-3.61766,-3.61353,-3.61296,-3.61258,-3.61263,-3.61271,-3.61315,-3.61364,-3.61399,-3.61349,-3.61297,-3.61279,-3.6127,-3.61335],\"marker\":{\"color\":\"red\",\"size\":[5,5,5,5,5,5,5,5,5,5,5,5,5,5,5,5,5,5,5,5,5,5,5,5,5,5,5,5,5,5,5,5,5,5,5,5,5,5,5,5,5,5,5,5,5,5,5,5,5,5,5,5,5,5,5,5,5,5,5,5,5,5,5,5,5,5,5,5,5,5,5,5,5,5,5,5,5,5,5,5,5,5,5,5,5,5,5,5,5,5,5,5,5,5,5,5,5,5,5,5,5,5,5,5,5,5,5,5,5,5],\"sizemode\":\"area\",\"sizeref\":0.2},\"mode\":\"markers\",\"name\":\"\",\"showlegend\":false,\"subplot\":\"mapbox\",\"type\":\"scattermapbox\"}],                        {\"template\":{\"data\":{\"histogram2dcontour\":[{\"type\":\"histogram2dcontour\",\"colorbar\":{\"outlinewidth\":0,\"ticks\":\"\"},\"colorscale\":[[0.0,\"#0d0887\"],[0.1111111111111111,\"#46039f\"],[0.2222222222222222,\"#7201a8\"],[0.3333333333333333,\"#9c179e\"],[0.4444444444444444,\"#bd3786\"],[0.5555555555555556,\"#d8576b\"],[0.6666666666666666,\"#ed7953\"],[0.7777777777777778,\"#fb9f3a\"],[0.8888888888888888,\"#fdca26\"],[1.0,\"#f0f921\"]]}],\"choropleth\":[{\"type\":\"choropleth\",\"colorbar\":{\"outlinewidth\":0,\"ticks\":\"\"}}],\"histogram2d\":[{\"type\":\"histogram2d\",\"colorbar\":{\"outlinewidth\":0,\"ticks\":\"\"},\"colorscale\":[[0.0,\"#0d0887\"],[0.1111111111111111,\"#46039f\"],[0.2222222222222222,\"#7201a8\"],[0.3333333333333333,\"#9c179e\"],[0.4444444444444444,\"#bd3786\"],[0.5555555555555556,\"#d8576b\"],[0.6666666666666666,\"#ed7953\"],[0.7777777777777778,\"#fb9f3a\"],[0.8888888888888888,\"#fdca26\"],[1.0,\"#f0f921\"]]}],\"heatmap\":[{\"type\":\"heatmap\",\"colorbar\":{\"outlinewidth\":0,\"ticks\":\"\"},\"colorscale\":[[0.0,\"#0d0887\"],[0.1111111111111111,\"#46039f\"],[0.2222222222222222,\"#7201a8\"],[0.3333333333333333,\"#9c179e\"],[0.4444444444444444,\"#bd3786\"],[0.5555555555555556,\"#d8576b\"],[0.6666666666666666,\"#ed7953\"],[0.7777777777777778,\"#fb9f3a\"],[0.8888888888888888,\"#fdca26\"],[1.0,\"#f0f921\"]]}],\"heatmapgl\":[{\"type\":\"heatmapgl\",\"colorbar\":{\"outlinewidth\":0,\"ticks\":\"\"},\"colorscale\":[[0.0,\"#0d0887\"],[0.1111111111111111,\"#46039f\"],[0.2222222222222222,\"#7201a8\"],[0.3333333333333333,\"#9c179e\"],[0.4444444444444444,\"#bd3786\"],[0.5555555555555556,\"#d8576b\"],[0.6666666666666666,\"#ed7953\"],[0.7777777777777778,\"#fb9f3a\"],[0.8888888888888888,\"#fdca26\"],[1.0,\"#f0f921\"]]}],\"contourcarpet\":[{\"type\":\"contourcarpet\",\"colorbar\":{\"outlinewidth\":0,\"ticks\":\"\"}}],\"contour\":[{\"type\":\"contour\",\"colorbar\":{\"outlinewidth\":0,\"ticks\":\"\"},\"colorscale\":[[0.0,\"#0d0887\"],[0.1111111111111111,\"#46039f\"],[0.2222222222222222,\"#7201a8\"],[0.3333333333333333,\"#9c179e\"],[0.4444444444444444,\"#bd3786\"],[0.5555555555555556,\"#d8576b\"],[0.6666666666666666,\"#ed7953\"],[0.7777777777777778,\"#fb9f3a\"],[0.8888888888888888,\"#fdca26\"],[1.0,\"#f0f921\"]]}],\"surface\":[{\"type\":\"surface\",\"colorbar\":{\"outlinewidth\":0,\"ticks\":\"\"},\"colorscale\":[[0.0,\"#0d0887\"],[0.1111111111111111,\"#46039f\"],[0.2222222222222222,\"#7201a8\"],[0.3333333333333333,\"#9c179e\"],[0.4444444444444444,\"#bd3786\"],[0.5555555555555556,\"#d8576b\"],[0.6666666666666666,\"#ed7953\"],[0.7777777777777778,\"#fb9f3a\"],[0.8888888888888888,\"#fdca26\"],[1.0,\"#f0f921\"]]}],\"mesh3d\":[{\"type\":\"mesh3d\",\"colorbar\":{\"outlinewidth\":0,\"ticks\":\"\"}}],\"scatter\":[{\"fillpattern\":{\"fillmode\":\"overlay\",\"size\":10,\"solidity\":0.2},\"type\":\"scatter\"}],\"parcoords\":[{\"type\":\"parcoords\",\"line\":{\"colorbar\":{\"outlinewidth\":0,\"ticks\":\"\"}}}],\"scatterpolargl\":[{\"type\":\"scatterpolargl\",\"marker\":{\"colorbar\":{\"outlinewidth\":0,\"ticks\":\"\"}}}],\"bar\":[{\"error_x\":{\"color\":\"#2a3f5f\"},\"error_y\":{\"color\":\"#2a3f5f\"},\"marker\":{\"line\":{\"color\":\"#E5ECF6\",\"width\":0.5},\"pattern\":{\"fillmode\":\"overlay\",\"size\":10,\"solidity\":0.2}},\"type\":\"bar\"}],\"scattergeo\":[{\"type\":\"scattergeo\",\"marker\":{\"colorbar\":{\"outlinewidth\":0,\"ticks\":\"\"}}}],\"scatterpolar\":[{\"type\":\"scatterpolar\",\"marker\":{\"colorbar\":{\"outlinewidth\":0,\"ticks\":\"\"}}}],\"histogram\":[{\"marker\":{\"pattern\":{\"fillmode\":\"overlay\",\"size\":10,\"solidity\":0.2}},\"type\":\"histogram\"}],\"scattergl\":[{\"type\":\"scattergl\",\"marker\":{\"colorbar\":{\"outlinewidth\":0,\"ticks\":\"\"}}}],\"scatter3d\":[{\"type\":\"scatter3d\",\"line\":{\"colorbar\":{\"outlinewidth\":0,\"ticks\":\"\"}},\"marker\":{\"colorbar\":{\"outlinewidth\":0,\"ticks\":\"\"}}}],\"scattermapbox\":[{\"type\":\"scattermapbox\",\"marker\":{\"colorbar\":{\"outlinewidth\":0,\"ticks\":\"\"}}}],\"scatterternary\":[{\"type\":\"scatterternary\",\"marker\":{\"colorbar\":{\"outlinewidth\":0,\"ticks\":\"\"}}}],\"scattercarpet\":[{\"type\":\"scattercarpet\",\"marker\":{\"colorbar\":{\"outlinewidth\":0,\"ticks\":\"\"}}}],\"carpet\":[{\"aaxis\":{\"endlinecolor\":\"#2a3f5f\",\"gridcolor\":\"white\",\"linecolor\":\"white\",\"minorgridcolor\":\"white\",\"startlinecolor\":\"#2a3f5f\"},\"baxis\":{\"endlinecolor\":\"#2a3f5f\",\"gridcolor\":\"white\",\"linecolor\":\"white\",\"minorgridcolor\":\"white\",\"startlinecolor\":\"#2a3f5f\"},\"type\":\"carpet\"}],\"table\":[{\"cells\":{\"fill\":{\"color\":\"#EBF0F8\"},\"line\":{\"color\":\"white\"}},\"header\":{\"fill\":{\"color\":\"#C8D4E3\"},\"line\":{\"color\":\"white\"}},\"type\":\"table\"}],\"barpolar\":[{\"marker\":{\"line\":{\"color\":\"#E5ECF6\",\"width\":0.5},\"pattern\":{\"fillmode\":\"overlay\",\"size\":10,\"solidity\":0.2}},\"type\":\"barpolar\"}],\"pie\":[{\"automargin\":true,\"type\":\"pie\"}]},\"layout\":{\"autotypenumbers\":\"strict\",\"colorway\":[\"#636efa\",\"#EF553B\",\"#00cc96\",\"#ab63fa\",\"#FFA15A\",\"#19d3f3\",\"#FF6692\",\"#B6E880\",\"#FF97FF\",\"#FECB52\"],\"font\":{\"color\":\"#2a3f5f\"},\"hovermode\":\"closest\",\"hoverlabel\":{\"align\":\"left\"},\"paper_bgcolor\":\"white\",\"plot_bgcolor\":\"#E5ECF6\",\"polar\":{\"bgcolor\":\"#E5ECF6\",\"angularaxis\":{\"gridcolor\":\"white\",\"linecolor\":\"white\",\"ticks\":\"\"},\"radialaxis\":{\"gridcolor\":\"white\",\"linecolor\":\"white\",\"ticks\":\"\"}},\"ternary\":{\"bgcolor\":\"#E5ECF6\",\"aaxis\":{\"gridcolor\":\"white\",\"linecolor\":\"white\",\"ticks\":\"\"},\"baxis\":{\"gridcolor\":\"white\",\"linecolor\":\"white\",\"ticks\":\"\"},\"caxis\":{\"gridcolor\":\"white\",\"linecolor\":\"white\",\"ticks\":\"\"}},\"coloraxis\":{\"colorbar\":{\"outlinewidth\":0,\"ticks\":\"\"}},\"colorscale\":{\"sequential\":[[0.0,\"#0d0887\"],[0.1111111111111111,\"#46039f\"],[0.2222222222222222,\"#7201a8\"],[0.3333333333333333,\"#9c179e\"],[0.4444444444444444,\"#bd3786\"],[0.5555555555555556,\"#d8576b\"],[0.6666666666666666,\"#ed7953\"],[0.7777777777777778,\"#fb9f3a\"],[0.8888888888888888,\"#fdca26\"],[1.0,\"#f0f921\"]],\"sequentialminus\":[[0.0,\"#0d0887\"],[0.1111111111111111,\"#46039f\"],[0.2222222222222222,\"#7201a8\"],[0.3333333333333333,\"#9c179e\"],[0.4444444444444444,\"#bd3786\"],[0.5555555555555556,\"#d8576b\"],[0.6666666666666666,\"#ed7953\"],[0.7777777777777778,\"#fb9f3a\"],[0.8888888888888888,\"#fdca26\"],[1.0,\"#f0f921\"]],\"diverging\":[[0,\"#8e0152\"],[0.1,\"#c51b7d\"],[0.2,\"#de77ae\"],[0.3,\"#f1b6da\"],[0.4,\"#fde0ef\"],[0.5,\"#f7f7f7\"],[0.6,\"#e6f5d0\"],[0.7,\"#b8e186\"],[0.8,\"#7fbc41\"],[0.9,\"#4d9221\"],[1,\"#276419\"]]},\"xaxis\":{\"gridcolor\":\"white\",\"linecolor\":\"white\",\"ticks\":\"\",\"title\":{\"standoff\":15},\"zerolinecolor\":\"white\",\"automargin\":true,\"zerolinewidth\":2},\"yaxis\":{\"gridcolor\":\"white\",\"linecolor\":\"white\",\"ticks\":\"\",\"title\":{\"standoff\":15},\"zerolinecolor\":\"white\",\"automargin\":true,\"zerolinewidth\":2},\"scene\":{\"xaxis\":{\"backgroundcolor\":\"#E5ECF6\",\"gridcolor\":\"white\",\"linecolor\":\"white\",\"showbackground\":true,\"ticks\":\"\",\"zerolinecolor\":\"white\",\"gridwidth\":2},\"yaxis\":{\"backgroundcolor\":\"#E5ECF6\",\"gridcolor\":\"white\",\"linecolor\":\"white\",\"showbackground\":true,\"ticks\":\"\",\"zerolinecolor\":\"white\",\"gridwidth\":2},\"zaxis\":{\"backgroundcolor\":\"#E5ECF6\",\"gridcolor\":\"white\",\"linecolor\":\"white\",\"showbackground\":true,\"ticks\":\"\",\"zerolinecolor\":\"white\",\"gridwidth\":2}},\"shapedefaults\":{\"line\":{\"color\":\"#2a3f5f\"}},\"annotationdefaults\":{\"arrowcolor\":\"#2a3f5f\",\"arrowhead\":0,\"arrowwidth\":1},\"geo\":{\"bgcolor\":\"white\",\"landcolor\":\"#E5ECF6\",\"subunitcolor\":\"white\",\"showland\":true,\"showlakes\":true,\"lakecolor\":\"white\"},\"title\":{\"x\":0.05},\"mapbox\":{\"style\":\"light\"}}},\"mapbox\":{\"domain\":{\"x\":[0.0,1.0],\"y\":[0.0,1.0]},\"center\":{\"lat\":40.415564328272815,\"lon\":-3.6986912399718657},\"zoom\":10,\"style\":\"open-street-map\"},\"legend\":{\"tracegroupgap\":0,\"itemsizing\":\"constant\"},\"margin\":{\"t\":0,\"r\":0,\"l\":0,\"b\":0},\"height\":500},                        {\"responsive\": true}                    ).then(function(){\n",
       "                            \n",
       "var gd = document.getElementById('adb5ad67-5de8-40e6-9855-d885d313743e');\n",
       "var x = new MutationObserver(function (mutations, observer) {{\n",
       "        var display = window.getComputedStyle(gd).display;\n",
       "        if (!display || display === 'none') {{\n",
       "            console.log([gd, 'removed!']);\n",
       "            Plotly.purge(gd);\n",
       "            observer.disconnect();\n",
       "        }}\n",
       "}});\n",
       "\n",
       "// Listen for the removal of the full notebook cells\n",
       "var notebookContainer = gd.closest('#notebook-container');\n",
       "if (notebookContainer) {{\n",
       "    x.observe(notebookContainer, {childList: true});\n",
       "}}\n",
       "\n",
       "// Listen for the clearing of the current output cell\n",
       "var outputEl = gd.closest('.output');\n",
       "if (outputEl) {{\n",
       "    x.observe(outputEl, {childList: true});\n",
       "}}\n",
       "\n",
       "                        })                };                });            </script>        </div>"
      ]
     },
     "metadata": {},
     "output_type": "display_data"
    }
   ],
   "source": [
    "# Creamos otra fig con las características que queremos, eligiendo columnas del dataframe\n",
    "fig2 = px.scatter_mapbox(puntosFijos2,\n",
    "                         lat=latStr2,\n",
    "                         lon=lonStr2,\n",
    "                         # Nombre del punto al poner el ratón encima\n",
    "                         hover_name=nameStr2,\n",
    "                         # Descripción del punto al poner el ratón encima\n",
    "                         hover_data=valueStr2,\n",
    "                         # Color de los puntos\n",
    "                         color_discrete_sequence=[colorPuntos2],\n",
    "                         # Zoom inicial\n",
    "                         zoom=zoom,\n",
    "                         # Tamaño del punto\n",
    "                         size=\"size\",\n",
    "                         size_max=tamano2,\n",
    "                         # Tamaño del mapa\n",
    "                         height=alto,\n",
    "                         # Estilo del mapa\n",
    "                         mapbox_style=estilo_mapa\n",
    "                         )\n",
    "# Añadimos este nuevo conjunto de puntos al mapa\n",
    "fig1.add_trace(fig2.data[0])\n",
    "# Mostramos el resultado\n",
    "fig1.show()\n"
   ]
  },
  {
   "cell_type": "code",
   "execution_count": null,
   "metadata": {},
   "outputs": [],
   "source": []
  }
 ],
 "metadata": {
  "anaconda-cloud": {},
  "celltoolbar": "Slideshow",
  "hide_input": false,
  "kernelspec": {
   "display_name": "Python 3 (ipykernel)",
   "language": "python",
   "name": "python3"
  },
  "language_info": {
   "codemirror_mode": {
    "name": "ipython",
    "version": 3
   },
   "file_extension": ".py",
   "mimetype": "text/x-python",
   "name": "python",
   "nbconvert_exporter": "python",
   "pygments_lexer": "ipython3",
   "version": "3.9.16"
  },
  "latex_envs": {
   "LaTeX_envs_menu_present": true,
   "autoclose": false,
   "autocomplete": true,
   "bibliofile": "biblio.bib",
   "cite_by": "apalike",
   "current_citInitial": 1,
   "eqLabelWithNumbers": true,
   "eqNumInitial": 1,
   "hotkeys": {
    "equation": "Ctrl-E",
    "itemize": "Ctrl-I"
   },
   "labels_anchors": false,
   "latex_user_defs": false,
   "report_style_numbering": true,
   "user_envs_cfg": false
  },
  "toc": {
   "base_numbering": 1,
   "nav_menu": {},
   "number_sections": true,
   "sideBar": true,
   "skip_h1_title": true,
   "title_cell": "Table of Contents",
   "title_sidebar": "Contents",
   "toc_cell": false,
   "toc_position": {},
   "toc_section_display": true,
   "toc_window_display": true
  },
  "varInspector": {
   "cols": {
    "lenName": 16,
    "lenType": 16,
    "lenVar": 40
   },
   "kernels_config": {
    "python": {
     "delete_cmd_postfix": "",
     "delete_cmd_prefix": "del ",
     "library": "var_list.py",
     "varRefreshCmd": "print(var_dic_list())"
    },
    "r": {
     "delete_cmd_postfix": ") ",
     "delete_cmd_prefix": "rm(",
     "library": "var_list.r",
     "varRefreshCmd": "cat(var_dic_list()) "
    }
   },
   "types_to_exclude": [
    "module",
    "function",
    "builtin_function_or_method",
    "instance",
    "_Feature"
   ],
   "window_display": false
  }
 },
 "nbformat": 4,
 "nbformat_minor": 4
}
