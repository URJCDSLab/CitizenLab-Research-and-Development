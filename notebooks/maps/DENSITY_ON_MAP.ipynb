{
 "cells": [
  {
   "cell_type": "markdown",
   "metadata": {
    "slideshow": {
     "slide_type": "slide"
    }
   },
   "source": [
    "<img src=\"../../contrib/img/logo.png\" width=150 align=\"left\" /> <img src=\"../../contrib/img/logo2.jpg\" width=450 align=\"right\" />"
   ]
  },
  {
   "cell_type": "markdown",
   "metadata": {
    "slideshow": {
     "slide_type": "slide"
    }
   },
   "source": [
    "\n",
    "# <center><font color= #1e8449 > <b>MAPS</font></center>"
   ]
  },
  {
   "cell_type": "markdown",
   "metadata": {
    "slideshow": {
     "slide_type": "slide"
    }
   },
   "source": [
    "> # <font color='steelblue'> <b>DENSITY PLOTS ON MAP</font>"
   ]
  },
  {
   "cell_type": "markdown",
   "metadata": {
    "slideshow": {
     "slide_type": "slide"
    }
   },
   "source": [
    "### <font color='steelblue'>Description</font>"
   ]
  },
  {
   "cell_type": "markdown",
   "metadata": {
    "slideshow": {
     "slide_type": "slide"
    }
   },
   "source": [
    "Realizar mapa tipo DENSITY.\n",
    " \n",
    "- Los datos para el mapa vendrán de un fichero generalmente csv que se cargará a un dataframe\n",
    "- Estos datos traerán la información de los puntos Lat, Long así como la asociada a cada punto para ser visualizada\n",
    "- Se aporta imagen a modo ejemplo de lo que se desea\n",
    "- Se debe poder seleccionar qué info mostrar (solo una \"radio button\") de las columnas ue se indiquen\n",
    "- Al poner ratón en punto aparece tarjeta de info con las columnas seleccionadas para las tarjetas de puntos\n",
    "\n",
    "La idea es similar a la de SCATTER pero con mapa DENSITY\n"
   ]
  },
  {
   "cell_type": "markdown",
   "metadata": {
    "slideshow": {
     "slide_type": "slide"
    }
   },
   "source": [
    "<img src=\"../../contrib/img/DENSITY.jpg\" width=550 align=\"left\" />"
   ]
  },
  {
   "cell_type": "markdown",
   "metadata": {
    "slideshow": {
     "slide_type": "slide"
    }
   },
   "source": [
    "## <font color='green'>Settings</font>"
   ]
  },
  {
   "cell_type": "code",
   "execution_count": 12,
   "metadata": {
    "ExecuteTime": {
     "end_time": "2020-10-12T18:02:33.219531Z",
     "start_time": "2020-10-12T18:02:31.113701Z"
    },
    "slideshow": {
     "slide_type": "subslide"
    }
   },
   "outputs": [],
   "source": [
    "# Libraries to use\n",
    "import geopandas as gpd\n",
    "import pandas as pd\n",
    "# import matplotlib.pyplot as plt\n",
    "import plotly.express as px\n",
    "from dash import Dash, dcc, html, Input, Output\n",
    "from jupyter_dash import JupyterDash\n",
    "import plotly.io as pio\n",
    "pio.renderers.default = 'iframe'"
   ]
  },
  {
   "cell_type": "markdown",
   "metadata": {
    "slideshow": {
     "slide_type": "slide"
    }
   },
   "source": [
    "## <font color='green'>Data Load</font>"
   ]
  },
  {
   "cell_type": "markdown",
   "metadata": {},
   "source": [
    "<font color='green'><b> TRÁFICO</b></font>"
   ]
  },
  {
   "cell_type": "code",
   "execution_count": 13,
   "metadata": {
    "ExecuteTime": {
     "end_time": "2021-01-26T18:40:31.258294Z",
     "start_time": "2021-01-26T18:40:26.061847Z"
    },
    "slideshow": {
     "slide_type": "subslide"
    }
   },
   "outputs": [],
   "source": [
    "file_name='TRAFICO.csv'\n",
    "# Ruta de la carpeta donde se almacenan los datos\n",
    "path = '../../contrib/data/'\n",
    "TRAFICO = pd.read_csv(path+file_name)"
   ]
  },
  {
   "cell_type": "code",
   "execution_count": 14,
   "metadata": {
    "scrolled": true
   },
   "outputs": [
    {
     "data": {
      "text/html": [
       "<div>\n",
       "<style scoped>\n",
       "    .dataframe tbody tr th:only-of-type {\n",
       "        vertical-align: middle;\n",
       "    }\n",
       "\n",
       "    .dataframe tbody tr th {\n",
       "        vertical-align: top;\n",
       "    }\n",
       "\n",
       "    .dataframe thead th {\n",
       "        text-align: right;\n",
       "    }\n",
       "</style>\n",
       "<table border=\"1\" class=\"dataframe\">\n",
       "  <thead>\n",
       "    <tr style=\"text-align: right;\">\n",
       "      <th></th>\n",
       "      <th>id</th>\n",
       "      <th>intensidad</th>\n",
       "      <th>ocupacion</th>\n",
       "      <th>carga</th>\n",
       "      <th>vmed</th>\n",
       "      <th>tipo_elem_estacion</th>\n",
       "      <th>distrito</th>\n",
       "      <th>id_punto</th>\n",
       "      <th>cod_cent</th>\n",
       "      <th>nombre</th>\n",
       "      <th>Long</th>\n",
       "      <th>Lat</th>\n",
       "    </tr>\n",
       "  </thead>\n",
       "  <tbody>\n",
       "    <tr>\n",
       "      <th>0</th>\n",
       "      <td>4363</td>\n",
       "      <td>175</td>\n",
       "      <td>2.0</td>\n",
       "      <td>9</td>\n",
       "      <td>0.0</td>\n",
       "      <td>URB</td>\n",
       "      <td>10.0</td>\n",
       "      <td>3577</td>\n",
       "      <td>98412</td>\n",
       "      <td>(TACTICO)AYLLON N-S</td>\n",
       "      <td>-3.775800</td>\n",
       "      <td>40.399330</td>\n",
       "    </tr>\n",
       "    <tr>\n",
       "      <th>1</th>\n",
       "      <td>1033</td>\n",
       "      <td>0</td>\n",
       "      <td>0.0</td>\n",
       "      <td>0</td>\n",
       "      <td>0.0</td>\n",
       "      <td>URB</td>\n",
       "      <td>9.0</td>\n",
       "      <td>10520</td>\n",
       "      <td>28003</td>\n",
       "      <td>CALLE PINILLA E-O (BOLA DEL MUNDO-CARRETERA HU...</td>\n",
       "      <td>-3.779871</td>\n",
       "      <td>40.456314</td>\n",
       "    </tr>\n",
       "    <tr>\n",
       "      <th>2</th>\n",
       "      <td>3932</td>\n",
       "      <td>765</td>\n",
       "      <td>7.0</td>\n",
       "      <td>17</td>\n",
       "      <td>0.0</td>\n",
       "      <td>URB</td>\n",
       "      <td>10.0</td>\n",
       "      <td>5321</td>\n",
       "      <td>86017</td>\n",
       "      <td>AV. AVIACION O-E(MONROY-MIRABEL)</td>\n",
       "      <td>-3.783254</td>\n",
       "      <td>40.377055</td>\n",
       "    </tr>\n",
       "    <tr>\n",
       "      <th>3</th>\n",
       "      <td>3684</td>\n",
       "      <td>269</td>\n",
       "      <td>3.0</td>\n",
       "      <td>12</td>\n",
       "      <td>0.0</td>\n",
       "      <td>URB</td>\n",
       "      <td>10.0</td>\n",
       "      <td>10394</td>\n",
       "      <td>80014</td>\n",
       "      <td>AV. POBLADOS, 5 E-O(PILAR-PSO. EXTREMADURA)</td>\n",
       "      <td>-3.770686</td>\n",
       "      <td>40.393618</td>\n",
       "    </tr>\n",
       "    <tr>\n",
       "      <th>4</th>\n",
       "      <td>3941</td>\n",
       "      <td>288</td>\n",
       "      <td>0.0</td>\n",
       "      <td>10</td>\n",
       "      <td>0.0</td>\n",
       "      <td>URB</td>\n",
       "      <td>10.0</td>\n",
       "      <td>5328</td>\n",
       "      <td>86026</td>\n",
       "      <td>RAFAEL FINAT N-S(JOSOSE CADALSO-BLAS CABRERA)</td>\n",
       "      <td>-3.771413</td>\n",
       "      <td>40.378158</td>\n",
       "    </tr>\n",
       "    <tr>\n",
       "      <th>...</th>\n",
       "      <td>...</td>\n",
       "      <td>...</td>\n",
       "      <td>...</td>\n",
       "      <td>...</td>\n",
       "      <td>...</td>\n",
       "      <td>...</td>\n",
       "      <td>...</td>\n",
       "      <td>...</td>\n",
       "      <td>...</td>\n",
       "      <td>...</td>\n",
       "      <td>...</td>\n",
       "      <td>...</td>\n",
       "    </tr>\n",
       "    <tr>\n",
       "      <th>1150</th>\n",
       "      <td>3776</td>\n",
       "      <td>270</td>\n",
       "      <td>4.0</td>\n",
       "      <td>27</td>\n",
       "      <td>0.0</td>\n",
       "      <td>URB</td>\n",
       "      <td>18.0</td>\n",
       "      <td>10980</td>\n",
       "      <td>83020</td>\n",
       "      <td>Av. Democracia - Gran Vía del Este - Acceso A3</td>\n",
       "      <td>-3.622708</td>\n",
       "      <td>40.388816</td>\n",
       "    </tr>\n",
       "    <tr>\n",
       "      <th>1151</th>\n",
       "      <td>3427</td>\n",
       "      <td>389</td>\n",
       "      <td>2.0</td>\n",
       "      <td>17</td>\n",
       "      <td>0.0</td>\n",
       "      <td>URB</td>\n",
       "      <td>20.0</td>\n",
       "      <td>6556</td>\n",
       "      <td>74011</td>\n",
       "      <td>Arrastaria - Pirra-Deyanira</td>\n",
       "      <td>-3.586222</td>\n",
       "      <td>40.443860</td>\n",
       "    </tr>\n",
       "    <tr>\n",
       "      <th>1152</th>\n",
       "      <td>3430</td>\n",
       "      <td>0</td>\n",
       "      <td>0.0</td>\n",
       "      <td>0</td>\n",
       "      <td>0.0</td>\n",
       "      <td>URB</td>\n",
       "      <td>20.0</td>\n",
       "      <td>9957</td>\n",
       "      <td>74014</td>\n",
       "      <td>Ctra. Acceso Est. O`Donnell - Polimnia-Pirra</td>\n",
       "      <td>-3.593465</td>\n",
       "      <td>40.446865</td>\n",
       "    </tr>\n",
       "    <tr>\n",
       "      <th>1153</th>\n",
       "      <td>3752</td>\n",
       "      <td>340</td>\n",
       "      <td>3.0</td>\n",
       "      <td>15</td>\n",
       "      <td>0.0</td>\n",
       "      <td>URB</td>\n",
       "      <td>18.0</td>\n",
       "      <td>5205</td>\n",
       "      <td>82412</td>\n",
       "      <td>Real Arganda - Serrania Ronda-Jesus del Pino</td>\n",
       "      <td>-3.620949</td>\n",
       "      <td>40.379677</td>\n",
       "    </tr>\n",
       "    <tr>\n",
       "      <th>1154</th>\n",
       "      <td>4019</td>\n",
       "      <td>537</td>\n",
       "      <td>1.0</td>\n",
       "      <td>21</td>\n",
       "      <td>0.0</td>\n",
       "      <td>URB</td>\n",
       "      <td>18.0</td>\n",
       "      <td>5381</td>\n",
       "      <td>89009</td>\n",
       "      <td>Av. Suertes - Rafael Leon-Jose Gutierrez</td>\n",
       "      <td>-3.600391</td>\n",
       "      <td>40.367621</td>\n",
       "    </tr>\n",
       "  </tbody>\n",
       "</table>\n",
       "<p>1155 rows × 12 columns</p>\n",
       "</div>"
      ],
      "text/plain": [
       "        id  intensidad  ocupacion  carga  vmed tipo_elem_estacion  distrito  \\\n",
       "0     4363         175        2.0      9   0.0                URB      10.0   \n",
       "1     1033           0        0.0      0   0.0                URB       9.0   \n",
       "2     3932         765        7.0     17   0.0                URB      10.0   \n",
       "3     3684         269        3.0     12   0.0                URB      10.0   \n",
       "4     3941         288        0.0     10   0.0                URB      10.0   \n",
       "...    ...         ...        ...    ...   ...                ...       ...   \n",
       "1150  3776         270        4.0     27   0.0                URB      18.0   \n",
       "1151  3427         389        2.0     17   0.0                URB      20.0   \n",
       "1152  3430           0        0.0      0   0.0                URB      20.0   \n",
       "1153  3752         340        3.0     15   0.0                URB      18.0   \n",
       "1154  4019         537        1.0     21   0.0                URB      18.0   \n",
       "\n",
       "      id_punto cod_cent                                             nombre  \\\n",
       "0         3577    98412                                (TACTICO)AYLLON N-S   \n",
       "1        10520    28003  CALLE PINILLA E-O (BOLA DEL MUNDO-CARRETERA HU...   \n",
       "2         5321    86017                   AV. AVIACION O-E(MONROY-MIRABEL)   \n",
       "3        10394    80014        AV. POBLADOS, 5 E-O(PILAR-PSO. EXTREMADURA)   \n",
       "4         5328    86026      RAFAEL FINAT N-S(JOSOSE CADALSO-BLAS CABRERA)   \n",
       "...        ...      ...                                                ...   \n",
       "1150     10980    83020    Av. Democracia - Gran Vía del Este - Acceso A3    \n",
       "1151      6556    74011                        Arrastaria - Pirra-Deyanira   \n",
       "1152      9957    74014       Ctra. Acceso Est. O`Donnell - Polimnia-Pirra   \n",
       "1153      5205    82412       Real Arganda - Serrania Ronda-Jesus del Pino   \n",
       "1154      5381    89009           Av. Suertes - Rafael Leon-Jose Gutierrez   \n",
       "\n",
       "          Long        Lat  \n",
       "0    -3.775800  40.399330  \n",
       "1    -3.779871  40.456314  \n",
       "2    -3.783254  40.377055  \n",
       "3    -3.770686  40.393618  \n",
       "4    -3.771413  40.378158  \n",
       "...        ...        ...  \n",
       "1150 -3.622708  40.388816  \n",
       "1151 -3.586222  40.443860  \n",
       "1152 -3.593465  40.446865  \n",
       "1153 -3.620949  40.379677  \n",
       "1154 -3.600391  40.367621  \n",
       "\n",
       "[1155 rows x 12 columns]"
      ]
     },
     "execution_count": 14,
     "metadata": {},
     "output_type": "execute_result"
    }
   ],
   "source": [
    "TRAFICO"
   ]
  },
  {
   "cell_type": "markdown",
   "metadata": {
    "slideshow": {
     "slide_type": "slide"
    }
   },
   "source": [
    "## <font color='green'>PARAMETERS</font>"
   ]
  },
  {
   "cell_type": "markdown",
   "metadata": {},
   "source": [
    "Variables"
   ]
  },
  {
   "cell_type": "code",
   "execution_count": 15,
   "metadata": {
    "scrolled": true
   },
   "outputs": [],
   "source": [
    "# Columnas para al selección a visualizar\n",
    "column_selection=['intensidad','ocupacion','carga']\n",
    "\n",
    "# Columnas para la info en tarjeta del punto\n",
    "point_info=['nombre','tipo_elem_estacion','distrito']"
   ]
  },
  {
   "cell_type": "markdown",
   "metadata": {},
   "source": [
    "Parámetros para configurar el aspecto del mapa"
   ]
  },
  {
   "cell_type": "code",
   "execution_count": 17,
   "metadata": {
    "scrolled": true
   },
   "outputs": [],
   "source": [
    "# Titulo del mapa\n",
    "titulo = 'Intensidad de Tráfico'\n",
    "# Zoom inicial\n",
    "zoom = 10\n",
    "# Tamaño del mapa\n",
    "alto=500\n",
    "# Tipo de mapa\n",
    "estilo_mapa='open-street-map' # \"open-street-map\", \"carto-positron\", \"carto-darkmatter\", \"stamen-terrain\",                           \n",
    "            # \"stamen-toner\" or \"stamen-watercolor\" \n",
    "    \n",
    "color='icefire'\n",
    "# Paleta de colores de plotly:\n",
    "# 'aggrnyl', 'agsunset', 'blackbody', 'bluered', 'blues', 'blugrn', 'bluyl', 'brwnyl',\n",
    "# 'bugn', 'bupu', 'burg', 'burgyl', 'cividis', 'darkmint', 'electric', 'emrld', 'gnbu',\n",
    "# 'greens', 'greys', 'hot', 'inferno', 'jet', 'magenta', 'magma', 'mint', 'orrd', 'oranges',\n",
    "# 'oryel', 'peach', 'pinkyl', 'plasma', 'plotly3', 'pubu', 'pubugn', 'purd', 'purp', 'purples',\n",
    "# 'purpor', 'rainbow', 'rdbu', 'rdpu', 'redor', 'reds', 'sunset', 'sunsetdark', 'teal', 'tealgrn',\n",
    "# 'turbo', 'viridis', 'ylgn', 'ylgnbu', 'ylorbr', 'ylorrd', 'algae', 'amp', 'deep', 'dense', 'gray',\n",
    "# 'haline', 'ice', 'matter', 'solar', 'speed', 'tempo', 'thermal', 'turbid', 'armyrose', 'brbg',\n",
    "# 'earth', 'fall', 'geyser', 'prgn', 'piyg', 'picnic', 'portland', 'puor', 'rdgy', 'rdylbu', 'rdylgn',\n",
    "# 'spectral', 'tealrose', 'temps', 'tropic', 'balance', 'curl', 'delta', 'oxy', 'edge',\n",
    "# 'hsv', 'icefire', 'phase', 'twilight', 'mrybm', 'mygbm'\n",
    "\n",
    "# Centro de coordenadas del mapa\n",
    "centro = dict(lat = 40.45, lon = -3.70)\n",
    "\n",
    "radio_influencia = 20\n"
   ]
  },
  {
   "cell_type": "markdown",
   "metadata": {
    "slideshow": {
     "slide_type": "slide"
    }
   },
   "source": [
    "## <font color='green'>SCATTER PLOTS MAP</font>"
   ]
  },
  {
   "cell_type": "code",
   "execution_count": 11,
   "metadata": {},
   "outputs": [
    {
     "data": {
      "text/html": [
       "\n",
       "        <iframe\n",
       "            width=\"100%\"\n",
       "            height=\"650\"\n",
       "            src=\"http://127.0.0.1:8050/\"\n",
       "            frameborder=\"0\"\n",
       "            allowfullscreen\n",
       "            \n",
       "        ></iframe>\n",
       "        "
      ],
      "text/plain": [
       "<IPython.lib.display.IFrame at 0x7f4a21b987c0>"
      ]
     },
     "metadata": {},
     "output_type": "display_data"
    }
   ],
   "source": [
    "# Opción para ejecutar en Dash \n",
    "# app = Dash(__name__)\n",
    "\n",
    "# Jupyter Dash para poder ejecutar dentro del notebook\n",
    "app = JupyterDash(__name__)\n",
    "\n",
    "# Capa añadida para Radio Button\n",
    "app.layout = html.Div([\n",
    "    html.P(\"Seleccionar columna:\"),\n",
    "    dcc.RadioItems(\n",
    "        id='column', \n",
    "        options=column_selection,\n",
    "        value=column_selection[1],\n",
    "        inline=True\n",
    "    ),\n",
    "    dcc.Graph(id=\"graph\"),\n",
    "])\n",
    "\n",
    "\n",
    "@app.callback(\n",
    "    Output(\"graph\", \"figure\"), \n",
    "    Input(\"column\", \"value\"))\n",
    "def display_scatter_mapbox(column):\n",
    "    fig = px.density_mapbox(TRAFICO, lat = 'Lat', lon = 'Long', z = column,\n",
    "                            title=titulo,\n",
    "                            radius = 20, # the radius of influence of each point\n",
    "                            center = center,\n",
    "                            zoom = zoom,\n",
    "                            mapbox_style = estilo_mapa, \n",
    "                            height=alto,\n",
    "                            hover_data=point_info,\n",
    "                            opacity=0.3\n",
    "                            ) \n",
    "\n",
    "    fig.update_geos(fitbounds=\"locations\", visible=False)\n",
    "    fig.update_layout(margin={\"r\":0,\"t\":0,\"l\":0,\"b\":0})\n",
    "    return fig\n",
    "\n",
    "# Este método run_server dispone de modo para ejecutar dentro del notebook\n",
    "app.run_server(mode=\"inline\", debug=True)\n",
    "\n",
    "# Este run_server no dispone de modo, por tanto no se puede ejecutar dentro del notebook\n",
    "# app.run_server(debug=False)"
   ]
  }
 ],
 "metadata": {
  "anaconda-cloud": {},
  "celltoolbar": "Slideshow",
  "hide_input": false,
  "kernelspec": {
   "display_name": "Python 3 (ipykernel)",
   "language": "python",
   "name": "python3"
  },
  "language_info": {
   "codemirror_mode": {
    "name": "ipython",
    "version": 3
   },
   "file_extension": ".py",
   "mimetype": "text/x-python",
   "name": "python",
   "nbconvert_exporter": "python",
   "pygments_lexer": "ipython3",
   "version": "3.9.16"
  },
  "latex_envs": {
   "LaTeX_envs_menu_present": true,
   "autoclose": false,
   "autocomplete": true,
   "bibliofile": "biblio.bib",
   "cite_by": "apalike",
   "current_citInitial": 1,
   "eqLabelWithNumbers": true,
   "eqNumInitial": 1,
   "hotkeys": {
    "equation": "Ctrl-E",
    "itemize": "Ctrl-I"
   },
   "labels_anchors": false,
   "latex_user_defs": false,
   "report_style_numbering": true,
   "user_envs_cfg": false
  },
  "toc": {
   "base_numbering": 1,
   "nav_menu": {},
   "number_sections": true,
   "sideBar": true,
   "skip_h1_title": true,
   "title_cell": "Table of Contents",
   "title_sidebar": "Contents",
   "toc_cell": false,
   "toc_position": {},
   "toc_section_display": true,
   "toc_window_display": true
  },
  "varInspector": {
   "cols": {
    "lenName": 16,
    "lenType": 16,
    "lenVar": 40
   },
   "kernels_config": {
    "python": {
     "delete_cmd_postfix": "",
     "delete_cmd_prefix": "del ",
     "library": "var_list.py",
     "varRefreshCmd": "print(var_dic_list())"
    },
    "r": {
     "delete_cmd_postfix": ") ",
     "delete_cmd_prefix": "rm(",
     "library": "var_list.r",
     "varRefreshCmd": "cat(var_dic_list()) "
    }
   },
   "types_to_exclude": [
    "module",
    "function",
    "builtin_function_or_method",
    "instance",
    "_Feature"
   ],
   "window_display": false
  },
  "vscode": {
   "interpreter": {
    "hash": "40aacdb68b1b2c7dea41f40166044422bff8bd97110308bdf40a02800340c51e"
   }
  }
 },
 "nbformat": 4,
 "nbformat_minor": 4
}
