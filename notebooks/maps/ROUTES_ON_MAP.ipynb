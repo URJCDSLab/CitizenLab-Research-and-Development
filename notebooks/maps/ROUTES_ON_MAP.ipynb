{
 "cells": [
  {
   "cell_type": "markdown",
   "metadata": {
    "slideshow": {
     "slide_type": "slide"
    }
   },
   "source": [
    "<img src=\"../../contrib/img/logo.png\" width=150 align=\"left\" /> <img src=\"../../contrib/img/logo2.jpg\" width=450 align=\"right\" />"
   ]
  },
  {
   "cell_type": "markdown",
   "metadata": {
    "slideshow": {
     "slide_type": "slide"
    }
   },
   "source": [
    "\n",
    "# <center><font color= #1e8449 > <b>MAPS</font></center>"
   ]
  },
  {
   "cell_type": "markdown",
   "metadata": {
    "slideshow": {
     "slide_type": "slide"
    }
   },
   "source": [
    "> # <font color='steelblue'> <b>ROUTES ON MAP</font>"
   ]
  },
  {
   "cell_type": "markdown",
   "metadata": {
    "slideshow": {
     "slide_type": "slide"
    }
   },
   "source": [
    "### <font color='steelblue'>Description</font>"
   ]
  },
  {
   "cell_type": "markdown",
   "metadata": {
    "slideshow": {
     "slide_type": "slide"
    }
   },
   "source": [
    " Dibujar un conjunto de 1 a n rutas de diferente longitud cada una sobre un mismo mapa.\n",
    "\n",
    "INFO DE PARTIDA\n",
    "- Partimos de una lista a modo de conjunto de puntos en formato (Lat, Long) para poder calcular cada ruta.\n",
    "- Cada una de las listas tiene la forma [48, 62, 36, 78, 7, 49, 6, 39, 69, 64, 8, 47]. Los números se corresponden con el índice de un fichero que tiene las columnas Lat y Long de cada punto de la ruta. \n",
    "- La extracción de los puntos para generar las ruta a partir del fichero viene ya dada en el código. \n",
    "- Esto NO HAY QUE HACERLO YA VIENE HECHO.\n",
    "\n",
    "RUTAS\n",
    "- Con esa lista de puntos lo pirmero que se debe hacer es obtener las rutas. Para ello, usaremos Open Street Maps. Posteriormente se ampliará para obtenerlas a partir de Google.\n",
    "- Se debe poder parametrizar para las rutas lo que permita OSM en ese sentido (e.g. cars, ...)\n",
    "- Se debe extraer toda la información posible de la ruta que de OSM: distancia, tiempo, ...\n",
    "- Toda la información que se obtenga de la rutas de OMS (distancia, tiempo, ...) se debe guardar en un dataframe para su uso posterior.\n",
    "\n",
    "MAPA\n",
    "- A partir de las turtas calculadas ya se procede a realizar el mapa.\n",
    "- Cada ruta debe diferenciarse de las demás por un color.\n",
    "- En cada ruta debe diferenciarse claramente el punto de partida (primer punto) y el de llegada (último punto).\n",
    "- Llevará el mapa un cuadro de selección en la esquina superior izquierda de las rutas que se desean seleccionar para que se muestren en el mapa\n",
    "- Llevará el mapa una leyenda en la esquina inferior derecha con la información de la/s ruta/s seleccionada/s (num de puntos, distancia, ...) o el total de todas si no se marca ninguna\n",
    "\n"
   ]
  },
  {
   "cell_type": "markdown",
   "metadata": {
    "slideshow": {
     "slide_type": "slide"
    }
   },
   "source": [
    "<img src=\"../../contrib/img/routes.jpg\" width=550 align=\"left\" />"
   ]
  },
  {
   "cell_type": "markdown",
   "metadata": {
    "slideshow": {
     "slide_type": "slide"
    }
   },
   "source": [
    "## <font color='green'>Settings</font>"
   ]
  },
  {
   "cell_type": "markdown",
   "metadata": {},
   "source": [
    "Librerias a instalar:\n",
    " - dash\n",
    " - geopandas\n",
    " - numpy\n",
    " - openrouteservice\n",
    " - pandas\n",
    " - plotly\n",
    " - dash\n",
    " - jupyter_dash (si se despliega desde notebook solo)"
   ]
  },
  {
   "cell_type": "code",
   "execution_count": 1,
   "metadata": {
    "ExecuteTime": {
     "end_time": "2020-10-12T18:02:33.219531Z",
     "start_time": "2020-10-12T18:02:31.113701Z"
    },
    "slideshow": {
     "slide_type": "subslide"
    },
    "tags": []
   },
   "outputs": [],
   "source": [
    "# Libraries to use\n",
    "import os\n",
    "from datetime import date\n",
    "from itertools import chain\n",
    "\n",
    "import geopandas as gpd\n",
    "import numpy as np\n",
    "import openrouteservice\n",
    "import pandas as pd\n",
    "import plotly.graph_objects as go\n",
    "import plotly.express as px\n",
    "from dash import Dash, html\n",
    "from dash import dcc\n",
    "from dash.dependencies import Input, Output, State\n",
    "from dash.exceptions import PreventUpdate\n",
    "from jupyter_dash import JupyterDash\n",
    "from openrouteservice import convert\n",
    "from openrouteservice.directions import directions"
   ]
  },
  {
   "cell_type": "markdown",
   "metadata": {
    "slideshow": {
     "slide_type": "slide"
    }
   },
   "source": [
    "## <font color='green'>Data Load</font>"
   ]
  },
  {
   "cell_type": "markdown",
   "metadata": {},
   "source": [
    "<font color='green'><b> PEDIDOS</b></font>"
   ]
  },
  {
   "cell_type": "code",
   "execution_count": 2,
   "metadata": {
    "ExecuteTime": {
     "end_time": "2021-01-26T18:40:31.258294Z",
     "start_time": "2021-01-26T18:40:26.061847Z"
    },
    "slideshow": {
     "slide_type": "subslide"
    },
    "tags": []
   },
   "outputs": [],
   "source": [
    "# NOTA: Cambiar por la ruta relativa a los datos\n",
    "PEDIDOS = pd.read_csv(\"../../contrib/data/PEDIDOS.csv\")"
   ]
  },
  {
   "cell_type": "code",
   "execution_count": 3,
   "metadata": {
    "scrolled": true,
    "tags": []
   },
   "outputs": [
    {
     "data": {
      "text/html": [
       "<div>\n",
       "<style scoped>\n",
       "    .dataframe tbody tr th:only-of-type {\n",
       "        vertical-align: middle;\n",
       "    }\n",
       "\n",
       "    .dataframe tbody tr th {\n",
       "        vertical-align: top;\n",
       "    }\n",
       "\n",
       "    .dataframe thead th {\n",
       "        text-align: right;\n",
       "    }\n",
       "</style>\n",
       "<table border=\"1\" class=\"dataframe\">\n",
       "  <thead>\n",
       "    <tr style=\"text-align: right;\">\n",
       "      <th></th>\n",
       "      <th>Id_Pedido</th>\n",
       "      <th>Fecha</th>\n",
       "      <th>Lat</th>\n",
       "      <th>Long</th>\n",
       "      <th>Direccion</th>\n",
       "      <th>CP</th>\n",
       "      <th>Id_Paquete</th>\n",
       "      <th>Urgente</th>\n",
       "      <th>Ventana_Inicio</th>\n",
       "      <th>Ventana_Fin</th>\n",
       "      <th>Devolucion</th>\n",
       "      <th>Id_Paquete_Devol</th>\n",
       "      <th>Id_Cliente</th>\n",
       "    </tr>\n",
       "  </thead>\n",
       "  <tbody>\n",
       "    <tr>\n",
       "      <th>0</th>\n",
       "      <td>1</td>\n",
       "      <td>17/11/2022</td>\n",
       "      <td>40.404894</td>\n",
       "      <td>-3.683088</td>\n",
       "      <td>Avenida Ciudad de Barcelona N 108 Esc.1 1A, Ma...</td>\n",
       "      <td>28007</td>\n",
       "      <td>111</td>\n",
       "      <td>NO</td>\n",
       "      <td>0:00:00</td>\n",
       "      <td>23:59:59</td>\n",
       "      <td>SI</td>\n",
       "      <td>88.0</td>\n",
       "      <td>1</td>\n",
       "    </tr>\n",
       "    <tr>\n",
       "      <th>1</th>\n",
       "      <td>2</td>\n",
       "      <td>17/11/2022</td>\n",
       "      <td>40.416078</td>\n",
       "      <td>-3.702817</td>\n",
       "      <td>Calle de Cadiz N 1 1 1, Madrid</td>\n",
       "      <td>28012</td>\n",
       "      <td>17</td>\n",
       "      <td>NO</td>\n",
       "      <td>0:00:00</td>\n",
       "      <td>23:59:59</td>\n",
       "      <td>NO</td>\n",
       "      <td>NaN</td>\n",
       "      <td>2</td>\n",
       "    </tr>\n",
       "    <tr>\n",
       "      <th>2</th>\n",
       "      <td>3</td>\n",
       "      <td>17/11/2022</td>\n",
       "      <td>40.414122</td>\n",
       "      <td>-3.704077</td>\n",
       "      <td>Calle de Concepcion jeronima N 5 1 DR, Madrid</td>\n",
       "      <td>28012</td>\n",
       "      <td>4</td>\n",
       "      <td>SI</td>\n",
       "      <td>13:27:27</td>\n",
       "      <td>15:40:34</td>\n",
       "      <td>SI</td>\n",
       "      <td>81.0</td>\n",
       "      <td>3</td>\n",
       "    </tr>\n",
       "    <tr>\n",
       "      <th>3</th>\n",
       "      <td>4</td>\n",
       "      <td>17/11/2022</td>\n",
       "      <td>40.410154</td>\n",
       "      <td>-3.695928</td>\n",
       "      <td>Calle del Marques de Toca N 12 Esc.1 AT 1, Madrid</td>\n",
       "      <td>28012</td>\n",
       "      <td>115</td>\n",
       "      <td>NO</td>\n",
       "      <td>0:00:00</td>\n",
       "      <td>23:59:59</td>\n",
       "      <td>NO</td>\n",
       "      <td>NaN</td>\n",
       "      <td>4</td>\n",
       "    </tr>\n",
       "    <tr>\n",
       "      <th>4</th>\n",
       "      <td>5</td>\n",
       "      <td>17/11/2022</td>\n",
       "      <td>40.410179</td>\n",
       "      <td>-3.697674</td>\n",
       "      <td>Calle del salitre N 8 3 IZ, Madrid</td>\n",
       "      <td>28012</td>\n",
       "      <td>58</td>\n",
       "      <td>NO</td>\n",
       "      <td>12:00:39</td>\n",
       "      <td>16:07:01</td>\n",
       "      <td>NO</td>\n",
       "      <td>NaN</td>\n",
       "      <td>5</td>\n",
       "    </tr>\n",
       "  </tbody>\n",
       "</table>\n",
       "</div>"
      ],
      "text/plain": [
       "   Id_Pedido       Fecha        Lat      Long  \\\n",
       "0          1  17/11/2022  40.404894 -3.683088   \n",
       "1          2  17/11/2022  40.416078 -3.702817   \n",
       "2          3  17/11/2022  40.414122 -3.704077   \n",
       "3          4  17/11/2022  40.410154 -3.695928   \n",
       "4          5  17/11/2022  40.410179 -3.697674   \n",
       "\n",
       "                                           Direccion     CP  Id_Paquete  \\\n",
       "0  Avenida Ciudad de Barcelona N 108 Esc.1 1A, Ma...  28007         111   \n",
       "1                     Calle de Cadiz N 1 1 1, Madrid  28012          17   \n",
       "2      Calle de Concepcion jeronima N 5 1 DR, Madrid  28012           4   \n",
       "3  Calle del Marques de Toca N 12 Esc.1 AT 1, Madrid  28012         115   \n",
       "4                 Calle del salitre N 8 3 IZ, Madrid  28012          58   \n",
       "\n",
       "  Urgente Ventana_Inicio Ventana_Fin Devolucion  Id_Paquete_Devol  Id_Cliente  \n",
       "0      NO        0:00:00    23:59:59         SI              88.0           1  \n",
       "1      NO        0:00:00    23:59:59         NO               NaN           2  \n",
       "2      SI       13:27:27    15:40:34         SI              81.0           3  \n",
       "3      NO        0:00:00    23:59:59         NO               NaN           4  \n",
       "4      NO       12:00:39    16:07:01         NO               NaN           5  "
      ]
     },
     "execution_count": 3,
     "metadata": {},
     "output_type": "execute_result"
    }
   ],
   "source": [
    "PEDIDOS.head()"
   ]
  },
  {
   "cell_type": "markdown",
   "metadata": {
    "slideshow": {
     "slide_type": "slide"
    }
   },
   "source": [
    "## <font color='green'>ROUTE EXTRACTION</font>"
   ]
  },
  {
   "cell_type": "markdown",
   "metadata": {
    "slideshow": {
     "slide_type": "slide"
    }
   },
   "source": [
    "Se calculan a continuación rutas a partir de un fichero para que sirvan de ejemplo.\n",
    "\n",
    "Se debe trabajar para el mapa con la lista final de rutas generada.\n",
    "\n",
    "Se generan en dos formatos para elegir el más óptimo para hacer el mapa."
   ]
  },
  {
   "cell_type": "code",
   "execution_count": 4,
   "metadata": {
    "tags": []
   },
   "outputs": [],
   "source": [
    "# String de la columna que contiene las latitudes\n",
    "latStr = 'Lat'\n",
    "# String de la columna que contiene las longitudes\n",
    "lonStr = 'Long'\n",
    "\n",
    "# Pasamos el dataframe a geodataframe\n",
    "gdf = gpd.GeoDataFrame(PEDIDOS, geometry=gpd.points_from_xy(PEDIDOS[latStr], PEDIDOS[lonStr]))\n",
    "\n",
    "# Creamos las diferentes rutas en formato [0, 1, 2, 3, 4] donde cada numero es el indice de un punto en el fichero\n",
    "rutas = []\n",
    "# Añadimos las rutas deseadas\n",
    "rutas.append([1,5,3,2,6])\n",
    "rutas.append([50,65,23,100])\n",
    "rutas.append([31,25,26,27,28,29,30,31,65,90,34,66])\n",
    "\n",
    "# Recorremos las diferentes rutas a pintar\n",
    "rutas_puntos1=[]\n",
    "rutas_puntos2=[]\n",
    "for i, r in enumerate(rutas):\n",
    "    ruta = ''\n",
    "    for i in range(len(gdf)):\n",
    "        ruta += f'{gdf.geometry.x.tolist()[i]},{gdf.geometry.y.tolist()[i]};' \n",
    "    ruta = ruta[:-1]\n",
    "    puntosRecursos = gdf.iloc[r][[latStr, lonStr]].values.tolist()\n",
    "    rutas_puntos1.append([ruta]) \n",
    "    rutas_puntos2.append(puntosRecursos) "
   ]
  },
  {
   "cell_type": "markdown",
   "metadata": {},
   "source": [
    "Rutas para trabajar"
   ]
  },
  {
   "cell_type": "code",
   "execution_count": 5,
   "metadata": {
    "tags": []
   },
   "outputs": [],
   "source": [
    "RUTAS_MAP=rutas_puntos2"
   ]
  },
  {
   "cell_type": "markdown",
   "metadata": {
    "slideshow": {
     "slide_type": "slide"
    }
   },
   "source": [
    "## <font color='green'>PARAMETERS</font>"
   ]
  },
  {
   "cell_type": "markdown",
   "metadata": {},
   "source": [
    "Variables"
   ]
  },
  {
   "cell_type": "code",
   "execution_count": 6,
   "metadata": {
    "scrolled": true,
    "tags": []
   },
   "outputs": [],
   "source": [
    "# Titulo del mapa\n",
    "titulo = 'Rutas'\n",
    "# Tipo de mapa\n",
    "estilo_mapa='open-street-map' # \"open-street-map\", \"carto-positron\", \"carto-darkmatter\", \"stamen-terrain\",                           \n",
    "            # \"stamen-toner\" or \"stamen-watercolor\" \n",
    "# Tipo de medio de transporte\n",
    "driving_profile = \"driving-car\" #\"driving-car\", \"driving-hgv\", \"foot-walking\", \"foot-hiking\", \"cycling-regular\", \"cycling-road\",\"cycling-mountain\",\n",
    "    # \"cycling-electric\"\n",
    "    \n",
    "# API KEY openrouteservice (OSM)\n",
    "API_KEY = \"5b3ce3597851110001cf6248e377711d217e471391ee7c5e0969bcd3\"\n",
    "\n",
    "\n",
    "# Paleta de colores\n",
    "color_palette = ['black', 'olive','lime','aqua', 'teal','fuchsia',\n",
    "         'red','#b03a2e','#cb4335','#e74c3c','#ec7063','#f1948a','#f5b7b1',\n",
    "         'green','#196f3d','#229954','#27ae60','#52be80','#7dcea0','#a9dfbf',\n",
    "         'maroon','#935116','#ca6f1e','#e67e22','#eb984e','#f0b27a','#f5cba7',\n",
    "         'gray','#797d7f','#a6acaf','#bdc3c7','#cacfd2','#d7dbdd','#e5e7e9',\n",
    "         'purple','#76448a','#884ea0','#9b59b6','#af7ac5','#c39bd3','#d7bde2',\n",
    "         'blue','#1f618d','#2471a3','#2980b9','#5499c7','#7fb3d5','#a9cce3',\n",
    "         'yellow','#d4ac0d','#f1c40f','#f4d03f','#f7dc6f','#f9e79f','#fcf3cf',]\n",
    "\n",
    "# Zoom del mapa\n",
    "zoom = 10"
   ]
  },
  {
   "cell_type": "markdown",
   "metadata": {
    "slideshow": {
     "slide_type": "slide"
    },
    "tags": []
   },
   "source": [
    "## <font color='green'>OSM ROUTES GENERATION</font>"
   ]
  },
  {
   "cell_type": "markdown",
   "metadata": {},
   "source": [
    "Generamos las rutas a partir de OMS y con toda la info que se extraiga de ellas se guara en un dataframe y fichero"
   ]
  },
  {
   "cell_type": "code",
   "execution_count": 7,
   "metadata": {
    "tags": []
   },
   "outputs": [],
   "source": [
    "client = openrouteservice.Client(key=API_KEY) # Specify your personal API key"
   ]
  },
  {
   "cell_type": "code",
   "execution_count": 8,
   "metadata": {
    "tags": []
   },
   "outputs": [],
   "source": [
    "def swap_latlong(coords):\n",
    "    p1, p2 = zip(*coords)\n",
    "    return list(zip(p2, p1))\n",
    "\n",
    "\n",
    "def get_route_between(client, coords):\n",
    "    longlat_coords = swap_latlong(coords)\n",
    "    partial_paths = []\n",
    "    distance = 0\n",
    "    duration = 0\n",
    "    for prev_coords, next_coords in zip(longlat_coords[0:], longlat_coords[1:]):\n",
    "        partial_best_route = directions(client, (prev_coords, next_coords), profile=driving_profile)[\"routes\"][0]\n",
    "        distance += partial_best_route[\"summary\"][\"distance\"]\n",
    "        duration += partial_best_route[\"summary\"][\"duration\"]\n",
    "        partial_path = convert.decode_polyline(partial_best_route[\"geometry\"])[\"coordinates\"]\n",
    "        partial_paths.append(swap_latlong(partial_path))\n",
    "    \n",
    "    return {\"coords\": coords, \"distance\": distance, \"duration\": duration, \"partial_paths\": partial_paths}"
   ]
  },
  {
   "cell_type": "code",
   "execution_count": 9,
   "metadata": {
    "tags": []
   },
   "outputs": [],
   "source": [
    "keep_atts = [\"Id_Paquete\", \"Urgente\", \"Ventana_Inicio\", \"Ventana_Fin\", \"Devolucion\", \"Id_Cliente\", \"Id_Paquete_Devol\", \"CP\"]\n",
    "\n",
    "OSM_df_data = []\n",
    "\n",
    "for order_idxs in rutas:\n",
    "    try:\n",
    "        order_points_df = PEDIDOS[PEDIDOS[\"Id_Pedido\"].isin(order_idxs)]\n",
    "        coords = list(zip(order_points_df[\"Lat\"], order_points_df[\"Long\"]))\n",
    "        route_plan = get_route_between(client, coords)\n",
    "        \n",
    "        order_points_df_sorted = order_points_df\n",
    "        \n",
    "        order_with_plan = {\n",
    "            **route_plan,\n",
    "            **{k: order_points_df_sorted[k].tolist() for k in keep_atts}\n",
    "        }\n",
    "        \n",
    "        OSM_df_data.append(order_with_plan)\n",
    "    except Exception as e:\n",
    "        print(e)\n",
    "        \n",
    "OSM_df = pd.DataFrame(OSM_df_data)\n",
    "OSM_df[\"partial_paths_join\"] = OSM_df[\"partial_paths\"].apply(lambda x: list(chain(*x)))"
   ]
  },
  {
   "cell_type": "code",
   "execution_count": 10,
   "metadata": {
    "tags": []
   },
   "outputs": [],
   "source": [
    "RUTAS_OMS = OSM_df"
   ]
  },
  {
   "cell_type": "code",
   "execution_count": 11,
   "metadata": {
    "tags": []
   },
   "outputs": [],
   "source": [
    "RUTAS_OMS.to_csv(\"RUTAS_OMS.csv\")"
   ]
  },
  {
   "cell_type": "markdown",
   "metadata": {
    "slideshow": {
     "slide_type": "slide"
    }
   },
   "source": [
    "## <font color='green'>GOOGLE ROUTES GENERATION</font>"
   ]
  },
  {
   "cell_type": "markdown",
   "metadata": {},
   "source": [
    "Generamos las rutas a partir de GOOGLE y con toda la info que se extraiga de ellas se guara en un dataframe y fichero.\n",
    "QUEDA PENDIENTE HASTA EU TENGAMOS ACCESO A GOOGLE MAPS"
   ]
  },
  {
   "cell_type": "code",
   "execution_count": 12,
   "metadata": {},
   "outputs": [],
   "source": [
    "# \n"
   ]
  },
  {
   "cell_type": "markdown",
   "metadata": {
    "slideshow": {
     "slide_type": "slide"
    }
   },
   "source": [
    "## <font color='green'>ROUTE MAP</font>"
   ]
  },
  {
   "cell_type": "markdown",
   "metadata": {},
   "source": [
    "**Seleccionamos un dataframe de datos y lo asignamos a RUTAS_MAPA**. Por ahora solo esta disponible el dataframe de OSM. Las visualizaciones se harán con este dataset."
   ]
  },
  {
   "cell_type": "code",
   "execution_count": 13,
   "metadata": {
    "tags": []
   },
   "outputs": [],
   "source": [
    "RUTAS_MAPA = OSM_df"
   ]
  },
  {
   "cell_type": "markdown",
   "metadata": {},
   "source": [
    "Visualizamos las rutas obtenidas y seleccionadas (OMS o Google) en el mapa"
   ]
  },
  {
   "cell_type": "markdown",
   "metadata": {},
   "source": [
    "Esta celda crea la visualización únicamente, recibiendo un dataframe de rutas. Dicha visualización se devuelve como resultado de la función, por lo que no está acoplada al notebook y puede ser utilizada por \"código\" externo."
   ]
  },
  {
   "cell_type": "code",
   "execution_count": 14,
   "metadata": {
    "tags": []
   },
   "outputs": [],
   "source": [
    "def plot_paths(paths): \n",
    "    traces = []\n",
    "    \n",
    "    min_lat, max_lat = float(\"+inf\"), float(\"-inf\")\n",
    "    min_long, max_long = float(\"+inf\"), float(\"-inf\")\n",
    "    \n",
    "    for i, path_info in enumerate(paths.to_dict(orient=\"records\")):\n",
    "        lats, longs = zip(*path_info[\"partial_paths_join\"])\n",
    "        distance = path_info[\"distance\"]\n",
    "        duration = path_info[\"duration\"]\n",
    "        lats_checkpoints, longs_checkpoints = zip(*path_info[\"coords\"])\n",
    "        id_route = f\"Ruta {i}\"\n",
    "        route_color = color_palette[i]\n",
    "        \n",
    "        min_lat = min(min_lat, min(lats_checkpoints))\n",
    "        max_lat = max(max_lat, max(lats_checkpoints))\n",
    "        min_long = min(min_long, min(longs_checkpoints))\n",
    "        max_long = max(max_long, max(longs_checkpoints))\n",
    "\n",
    "        traces.append(go.Scattermapbox(\n",
    "            name=id_route,\n",
    "            lat=lats,\n",
    "            lon=longs,\n",
    "            legendgroup=id_route,\n",
    "            marker={\"color\": route_color},\n",
    "            mode='lines'))\n",
    "        \n",
    "        hover_texts = [\n",
    "            \"<br>\".join(f\"<b>{k}</b>: {path_info[k][i]}\" for k in keep_atts) for i in range(len(lats_checkpoints))\n",
    "        ]\n",
    "        traces.append(go.Scattermapbox(\n",
    "            name=f\"Ruta {i}\",\n",
    "            lat=lats_checkpoints,\n",
    "            lon=longs_checkpoints,\n",
    "            mode=\"markers\",\n",
    "            hovertemplate=\"%{text}\",\n",
    "            showlegend = False,\n",
    "            text=hover_texts,\n",
    "            legendgroup=id_route,\n",
    "            marker={\"size\": 12, \"color\": route_color}\n",
    "        ))\n",
    "    \n",
    "    fig = go.Figure(data=traces)\n",
    "    fig.update_layout(title_text = titulo)\n",
    "    fig.update_layout(mapbox = {\n",
    "        'style': estilo_mapa,\n",
    "        'center': {\n",
    "            'lat': (max_lat + min_lat) / 2,\n",
    "            'lon': (max_long + min_long) / 2,\n",
    "        },\n",
    "        'zoom': zoom}\n",
    "    )\n",
    "    fig.update_layout(legend_title_text=\"Rutas:\")\n",
    "    fig.update_layout(margin={\"r\":0,\"t\":0,\"l\":0,\"b\":0})    \n",
    "    return fig"
   ]
  },
  {
   "cell_type": "markdown",
   "metadata": {},
   "source": [
    "Función que calcula las estadísticas a mostrar de un conjunto de rutas. Si añadimos nuevas estadísticas aquí se verán automáticamente reflejadas en la gráfica."
   ]
  },
  {
   "cell_type": "code",
   "execution_count": 15,
   "metadata": {
    "tags": []
   },
   "outputs": [],
   "source": [
    "def calculate_statistics_text(routes_df, include_ids):\n",
    "    routes_df = routes_df.iloc[include_ids]\n",
    "    \n",
    "    number_points = routes_df[\"coords\"].apply(len).sum()\n",
    "    distance = routes_df[\"distance\"].sum()\n",
    "    duration = routes_df[\"duration\"].sum()\n",
    "    \n",
    "    route_info = f\"\"\"<b>Información de las rutas:</b> <br>\n",
    "    - Número de puntos {number_points} <br>\n",
    "    - Distancia total {round(distance / 1000, 2)}km <br>\n",
    "    - Tiempo total {round(duration / 60, 2)}min <br>\n",
    "    <br>\n",
    "    <br>\n",
    "<b>Selector de rutas:</b> <br>\n",
    "    \"\"\"\n",
    "    return route_info"
   ]
  },
  {
   "cell_type": "markdown",
   "metadata": {},
   "source": [
    "Creamos la aplicación de Dash con las visualizaciones. Si se ejecuta fuera de jupyter cambiar app=JupyterDash() por app=dash.Dash(). He juntado las dos leyendas en una por tema de espacios,\n",
    "después de varias pruebas creo que se aprovecha mejor el espacio y ancho. Además así no se solapa información con el mapa.\n",
    "\n",
    "Si se pincha sobre el inicio o final de una ruta se muestran los detalles asociados en el Dataframe. Se podría poner sobre el trazo de la ruta si fuese necesario."
   ]
  },
  {
   "cell_type": "code",
   "execution_count": 16,
   "metadata": {
    "tags": []
   },
   "outputs": [
    {
     "name": "stdout",
     "output_type": "stream",
     "text": [
      "Dash is running on http://127.0.0.1:8050/\n",
      "\n",
      "Dash app running on http://127.0.0.1:8050/\n"
     ]
    }
   ],
   "source": [
    "app = JupyterDash()\n",
    "app.layout = html.Div([\n",
    "    dcc.Store(id='selected-memory'),\n",
    "    dcc.Graph(\n",
    "        id='route-map',\n",
    "        config={'editable':True},\n",
    "        figure=plot_paths(RUTAS_MAPA)\n",
    "    ),\n",
    "])\n",
    "\n",
    "figureg = None\n",
    "\n",
    "@app.callback(\n",
    "    [Output('route-map', 'figure'), Output('selected-memory', 'data')],\n",
    "    [Input('route-map', 'figure'), Input('route-map', 'restyleData'), State('selected-memory', 'data')])\n",
    "def update_statistics_legend(figure, restyleData, data):\n",
    "    if data is None:\n",
    "        data = dict()\n",
    "        \n",
    "    if restyleData is not None:\n",
    "        disable_event = restyleData[0][\"visible\"][0] == \"legendonly\"\n",
    "        trace_id = int(restyleData[1][0] // 2)\n",
    "    \n",
    "        if disable_event:\n",
    "            data[trace_id] = True\n",
    "        elif trace_id in data:\n",
    "            del data[trace_id]\n",
    "        \n",
    "    available_ids = RUTAS_MAPA.index.tolist()\n",
    "    available_ids = list(set(available_ids) - set(data.keys()))\n",
    "    figure[\"layout\"][\"legend\"][\"title\"][\"text\"] = calculate_statistics_text(RUTAS_MAPA, available_ids)\n",
    "    return figure, data\n",
    "\n",
    "app.run_server()"
   ]
  },
  {
   "cell_type": "markdown",
   "metadata": {
    "slideshow": {
     "slide_type": "slide"
    }
   },
   "source": [
    "## <font color='green'>ROUTE VALUES</font>"
   ]
  },
  {
   "cell_type": "code",
   "execution_count": 17,
   "metadata": {
    "scrolled": true,
    "tags": []
   },
   "outputs": [],
   "source": [
    "# \n",
    "RUTAS_DF = RUTAS_OMS"
   ]
  },
  {
   "cell_type": "markdown",
   "metadata": {},
   "source": [
    "Dataframe de valores ontenidos de las rutas (puntos, tiempo, distancia, etc). Cada fila es una ruta. Las coordenadas parciales (partial_paths) es una lista de listas. La lista i indica las coordenadas desde el checkpoint i (coords[i]) hasta el checkpoint i+1 (coords[i+1]). La distancia y duracion es el acumulado de las rutas parciales. El resto de atributos es la concatenación de las rutas parciales. Por ejemplo, CP[i] es la información de la ruta que empieza en coords[i])."
   ]
  },
  {
   "cell_type": "code",
   "execution_count": 18,
   "metadata": {
    "tags": []
   },
   "outputs": [
    {
     "data": {
      "text/html": [
       "<div>\n",
       "<style scoped>\n",
       "    .dataframe tbody tr th:only-of-type {\n",
       "        vertical-align: middle;\n",
       "    }\n",
       "\n",
       "    .dataframe tbody tr th {\n",
       "        vertical-align: top;\n",
       "    }\n",
       "\n",
       "    .dataframe thead th {\n",
       "        text-align: right;\n",
       "    }\n",
       "</style>\n",
       "<table border=\"1\" class=\"dataframe\">\n",
       "  <thead>\n",
       "    <tr style=\"text-align: right;\">\n",
       "      <th></th>\n",
       "      <th>coords</th>\n",
       "      <th>distance</th>\n",
       "      <th>duration</th>\n",
       "      <th>partial_paths</th>\n",
       "      <th>Id_Paquete</th>\n",
       "      <th>Urgente</th>\n",
       "      <th>Ventana_Inicio</th>\n",
       "      <th>Ventana_Fin</th>\n",
       "      <th>Devolucion</th>\n",
       "      <th>Id_Cliente</th>\n",
       "      <th>Id_Paquete_Devol</th>\n",
       "      <th>CP</th>\n",
       "      <th>partial_paths_join</th>\n",
       "    </tr>\n",
       "  </thead>\n",
       "  <tbody>\n",
       "    <tr>\n",
       "      <th>0</th>\n",
       "      <td>[(40.404893738, -3.6830877896), (40.4160778229...</td>\n",
       "      <td>6422.1</td>\n",
       "      <td>1574.1</td>\n",
       "      <td>[[(40.40496, -3.68305), (40.40495, -3.683), (4...</td>\n",
       "      <td>[111, 17, 4, 58, 19]</td>\n",
       "      <td>[NO, NO, SI, NO, NO]</td>\n",
       "      <td>[0:00:00, 0:00:00, 13:27:27, 12:00:39, 0:00:00]</td>\n",
       "      <td>[23:59:59, 23:59:59, 15:40:34, 16:07:01, 23:59...</td>\n",
       "      <td>[SI, NO, SI, NO, SI]</td>\n",
       "      <td>[1, 2, 3, 5, 6]</td>\n",
       "      <td>[88.0, nan, 81.0, nan, 90.0]</td>\n",
       "      <td>[28007, 28012, 28012, 28012, 28012]</td>\n",
       "      <td>[(40.40496, -3.68305), (40.40495, -3.683), (40...</td>\n",
       "    </tr>\n",
       "    <tr>\n",
       "      <th>1</th>\n",
       "      <td>[(40.4041819275, -3.6931606697), (40.417945476...</td>\n",
       "      <td>10484.1</td>\n",
       "      <td>1696.1</td>\n",
       "      <td>[[(40.40412, -3.69317), (40.40407, -3.69221), ...</td>\n",
       "      <td>[176, 35, 162, 124]</td>\n",
       "      <td>[NO, NO, NO, NO]</td>\n",
       "      <td>[5:52:21, 0:00:00, 0:00:00, 0:00:00]</td>\n",
       "      <td>[10:10:49, 23:59:59, 23:59:59, 23:59:59]</td>\n",
       "      <td>[NO, NO, NO, NO]</td>\n",
       "      <td>[23, 50, 65, 100]</td>\n",
       "      <td>[nan, nan, nan, nan]</td>\n",
       "      <td>[28045, 28013, 28007, 28009]</td>\n",
       "      <td>[(40.40412, -3.69317), (40.40407, -3.69221), (...</td>\n",
       "    </tr>\n",
       "    <tr>\n",
       "      <th>2</th>\n",
       "      <td>[(40.4142261891, -3.7025971319), (40.418553942...</td>\n",
       "      <td>34739.2</td>\n",
       "      <td>5025.1</td>\n",
       "      <td>[[(40.41391, -3.70279), (40.41393, -3.70285), ...</td>\n",
       "      <td>[144, 183, 143, 107, 89, 87, 172, 98, 162, 46,...</td>\n",
       "      <td>[NO, NO, NO, NO, NO, NO, NO, SI, NO, NO, NO]</td>\n",
       "      <td>[0:00:00, 16:23:16, 0:00:00, 0:00:00, 0:00:00,...</td>\n",
       "      <td>[23:59:59, 20:34:30, 23:59:59, 23:59:59, 23:59...</td>\n",
       "      <td>[NO, NO, SI, NO, NO, NO, NO, NO, NO, NO, NO]</td>\n",
       "      <td>[25, 26, 27, 28, 29, 30, 31, 34, 65, 66, 90]</td>\n",
       "      <td>[nan, nan, 94.0, nan, nan, nan, nan, nan, nan,...</td>\n",
       "      <td>[28012, 28014, 28007, 28005, 28014, 28004, 280...</td>\n",
       "      <td>[(40.41391, -3.70279), (40.41393, -3.70285), (...</td>\n",
       "    </tr>\n",
       "  </tbody>\n",
       "</table>\n",
       "</div>"
      ],
      "text/plain": [
       "                                              coords  distance  duration  \\\n",
       "0  [(40.404893738, -3.6830877896), (40.4160778229...    6422.1    1574.1   \n",
       "1  [(40.4041819275, -3.6931606697), (40.417945476...   10484.1    1696.1   \n",
       "2  [(40.4142261891, -3.7025971319), (40.418553942...   34739.2    5025.1   \n",
       "\n",
       "                                       partial_paths  \\\n",
       "0  [[(40.40496, -3.68305), (40.40495, -3.683), (4...   \n",
       "1  [[(40.40412, -3.69317), (40.40407, -3.69221), ...   \n",
       "2  [[(40.41391, -3.70279), (40.41393, -3.70285), ...   \n",
       "\n",
       "                                          Id_Paquete  \\\n",
       "0                               [111, 17, 4, 58, 19]   \n",
       "1                                [176, 35, 162, 124]   \n",
       "2  [144, 183, 143, 107, 89, 87, 172, 98, 162, 46,...   \n",
       "\n",
       "                                        Urgente  \\\n",
       "0                          [NO, NO, SI, NO, NO]   \n",
       "1                              [NO, NO, NO, NO]   \n",
       "2  [NO, NO, NO, NO, NO, NO, NO, SI, NO, NO, NO]   \n",
       "\n",
       "                                      Ventana_Inicio  \\\n",
       "0    [0:00:00, 0:00:00, 13:27:27, 12:00:39, 0:00:00]   \n",
       "1               [5:52:21, 0:00:00, 0:00:00, 0:00:00]   \n",
       "2  [0:00:00, 16:23:16, 0:00:00, 0:00:00, 0:00:00,...   \n",
       "\n",
       "                                         Ventana_Fin  \\\n",
       "0  [23:59:59, 23:59:59, 15:40:34, 16:07:01, 23:59...   \n",
       "1           [10:10:49, 23:59:59, 23:59:59, 23:59:59]   \n",
       "2  [23:59:59, 20:34:30, 23:59:59, 23:59:59, 23:59...   \n",
       "\n",
       "                                     Devolucion  \\\n",
       "0                          [SI, NO, SI, NO, SI]   \n",
       "1                              [NO, NO, NO, NO]   \n",
       "2  [NO, NO, SI, NO, NO, NO, NO, NO, NO, NO, NO]   \n",
       "\n",
       "                                     Id_Cliente  \\\n",
       "0                               [1, 2, 3, 5, 6]   \n",
       "1                             [23, 50, 65, 100]   \n",
       "2  [25, 26, 27, 28, 29, 30, 31, 34, 65, 66, 90]   \n",
       "\n",
       "                                    Id_Paquete_Devol  \\\n",
       "0                       [88.0, nan, 81.0, nan, 90.0]   \n",
       "1                               [nan, nan, nan, nan]   \n",
       "2  [nan, nan, 94.0, nan, nan, nan, nan, nan, nan,...   \n",
       "\n",
       "                                                  CP  \\\n",
       "0                [28007, 28012, 28012, 28012, 28012]   \n",
       "1                       [28045, 28013, 28007, 28009]   \n",
       "2  [28012, 28014, 28007, 28005, 28014, 28004, 280...   \n",
       "\n",
       "                                  partial_paths_join  \n",
       "0  [(40.40496, -3.68305), (40.40495, -3.683), (40...  \n",
       "1  [(40.40412, -3.69317), (40.40407, -3.69221), (...  \n",
       "2  [(40.41391, -3.70279), (40.41393, -3.70285), (...  "
      ]
     },
     "execution_count": 18,
     "metadata": {},
     "output_type": "execute_result"
    }
   ],
   "source": [
    "RUTAS_DF"
   ]
  }
 ],
 "metadata": {
  "anaconda-cloud": {},
  "celltoolbar": "Slideshow",
  "hide_input": false,
  "kernelspec": {
   "display_name": "Python 3 (ipykernel)",
   "language": "python",
   "name": "python3"
  },
  "language_info": {
   "codemirror_mode": {
    "name": "ipython",
    "version": 3
   },
   "file_extension": ".py",
   "mimetype": "text/x-python",
   "name": "python",
   "nbconvert_exporter": "python",
   "pygments_lexer": "ipython3",
   "version": "3.9.16"
  },
  "latex_envs": {
   "LaTeX_envs_menu_present": true,
   "autoclose": false,
   "autocomplete": true,
   "bibliofile": "biblio.bib",
   "cite_by": "apalike",
   "current_citInitial": 1,
   "eqLabelWithNumbers": true,
   "eqNumInitial": 1,
   "hotkeys": {
    "equation": "Ctrl-E",
    "itemize": "Ctrl-I"
   },
   "labels_anchors": false,
   "latex_user_defs": false,
   "report_style_numbering": true,
   "user_envs_cfg": false
  },
  "toc": {
   "base_numbering": 1,
   "nav_menu": {},
   "number_sections": true,
   "sideBar": true,
   "skip_h1_title": true,
   "title_cell": "Table of Contents",
   "title_sidebar": "Contents",
   "toc_cell": false,
   "toc_position": {},
   "toc_section_display": true,
   "toc_window_display": true
  },
  "varInspector": {
   "cols": {
    "lenName": 16,
    "lenType": 16,
    "lenVar": 40
   },
   "kernels_config": {
    "python": {
     "delete_cmd_postfix": "",
     "delete_cmd_prefix": "del ",
     "library": "var_list.py",
     "varRefreshCmd": "print(var_dic_list())"
    },
    "r": {
     "delete_cmd_postfix": ") ",
     "delete_cmd_prefix": "rm(",
     "library": "var_list.r",
     "varRefreshCmd": "cat(var_dic_list()) "
    }
   },
   "types_to_exclude": [
    "module",
    "function",
    "builtin_function_or_method",
    "instance",
    "_Feature"
   ],
   "window_display": false
  }
 },
 "nbformat": 4,
 "nbformat_minor": 4
}
