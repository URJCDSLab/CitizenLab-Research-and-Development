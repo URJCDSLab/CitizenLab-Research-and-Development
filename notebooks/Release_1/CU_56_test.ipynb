{
 "cells": [
  {
   "cell_type": "code",
   "execution_count": 1,
   "id": "9ee07070",
   "metadata": {},
   "outputs": [],
   "source": [
    "import random\n",
    "import multiprocessing\n",
    "import pandas as pd\n",
    "from deap import base\n",
    "from deap import creator\n",
    "from deap import tools\n",
    "from datetime import datetime, timedelta"
   ]
  },
  {
   "cell_type": "code",
   "execution_count": 2,
   "id": "5b2be327",
   "metadata": {},
   "outputs": [
    {
     "data": {
      "text/html": [
       "<div>\n",
       "<style scoped>\n",
       "    .dataframe tbody tr th:only-of-type {\n",
       "        vertical-align: middle;\n",
       "    }\n",
       "\n",
       "    .dataframe tbody tr th {\n",
       "        vertical-align: top;\n",
       "    }\n",
       "\n",
       "    .dataframe thead th {\n",
       "        text-align: right;\n",
       "    }\n",
       "</style>\n",
       "<table border=\"1\" class=\"dataframe\">\n",
       "  <thead>\n",
       "    <tr style=\"text-align: right;\">\n",
       "      <th></th>\n",
       "      <th>Id_Recurso</th>\n",
       "      <th>Preferencia</th>\n",
       "    </tr>\n",
       "  </thead>\n",
       "  <tbody>\n",
       "    <tr>\n",
       "      <th>101</th>\n",
       "      <td>0</td>\n",
       "      <td>0.233295</td>\n",
       "    </tr>\n",
       "    <tr>\n",
       "      <th>88</th>\n",
       "      <td>1</td>\n",
       "      <td>0.358799</td>\n",
       "    </tr>\n",
       "    <tr>\n",
       "      <th>111</th>\n",
       "      <td>2</td>\n",
       "      <td>0.120212</td>\n",
       "    </tr>\n",
       "    <tr>\n",
       "      <th>102</th>\n",
       "      <td>3</td>\n",
       "      <td>0.227418</td>\n",
       "    </tr>\n",
       "    <tr>\n",
       "      <th>113</th>\n",
       "      <td>4</td>\n",
       "      <td>0.102221</td>\n",
       "    </tr>\n",
       "    <tr>\n",
       "      <th>107</th>\n",
       "      <td>5</td>\n",
       "      <td>0.184035</td>\n",
       "    </tr>\n",
       "    <tr>\n",
       "      <th>27</th>\n",
       "      <td>6</td>\n",
       "      <td>0.494820</td>\n",
       "    </tr>\n",
       "    <tr>\n",
       "      <th>114</th>\n",
       "      <td>7</td>\n",
       "      <td>0.044136</td>\n",
       "    </tr>\n",
       "    <tr>\n",
       "      <th>50</th>\n",
       "      <td>8</td>\n",
       "      <td>0.425795</td>\n",
       "    </tr>\n",
       "    <tr>\n",
       "      <th>89</th>\n",
       "      <td>9</td>\n",
       "      <td>0.358799</td>\n",
       "    </tr>\n",
       "    <tr>\n",
       "      <th>5</th>\n",
       "      <td>10</td>\n",
       "      <td>0.595931</td>\n",
       "    </tr>\n",
       "    <tr>\n",
       "      <th>28</th>\n",
       "      <td>11</td>\n",
       "      <td>0.492728</td>\n",
       "    </tr>\n",
       "    <tr>\n",
       "      <th>10</th>\n",
       "      <td>12</td>\n",
       "      <td>0.564942</td>\n",
       "    </tr>\n",
       "    <tr>\n",
       "      <th>38</th>\n",
       "      <td>13</td>\n",
       "      <td>0.454223</td>\n",
       "    </tr>\n",
       "    <tr>\n",
       "      <th>18</th>\n",
       "      <td>14</td>\n",
       "      <td>0.533865</td>\n",
       "    </tr>\n",
       "  </tbody>\n",
       "</table>\n",
       "</div>"
      ],
      "text/plain": [
       "     Id_Recurso  Preferencia\n",
       "101           0     0.233295\n",
       "88            1     0.358799\n",
       "111           2     0.120212\n",
       "102           3     0.227418\n",
       "113           4     0.102221\n",
       "107           5     0.184035\n",
       "27            6     0.494820\n",
       "114           7     0.044136\n",
       "50            8     0.425795\n",
       "89            9     0.358799\n",
       "5            10     0.595931\n",
       "28           11     0.492728\n",
       "10           12     0.564942\n",
       "38           13     0.454223\n",
       "18           14     0.533865"
      ]
     },
     "execution_count": 2,
     "metadata": {},
     "output_type": "execute_result"
    }
   ],
   "source": [
    "# Load files\n",
    "path = '../Data/'\n",
    "festival = 'IFEMA_Festival_Videojuegos_1/'\n",
    "preferences = 'Preferencias/'\n",
    "file_name= 'IFEMA_Festival_Videojuegos_v_5.csv'\n",
    "EVENTO = pd.read_csv(path+festival+file_name)\n",
    "file_name='PREFERENCIAS_US1.csv'\n",
    "PREFERENCIAS = pd.read_csv(path+festival+preferences+file_name)\n",
    "PREFERENCIAS = PREFERENCIAS.sort_values('Id_Recurso')\n",
    "PREFERENCIAS.head(15)"
   ]
  },
  {
   "cell_type": "code",
   "execution_count": 3,
   "id": "d0092d3d",
   "metadata": {
    "scrolled": true
   },
   "outputs": [],
   "source": [
    "# Size of the individual\n",
    "SIZE_INDIVIDUAL = max(EVENTO['Código'])\n",
    "\n",
    "# Number of generations\n",
    "NUM_GENERATIONS = 20\n",
    "\n",
    "# Optimal value to obtain (not reached)\n",
    "MAX_VALUE = SIZE_INDIVIDUAL + 10 * SIZE_INDIVIDUAL\n",
    "\n",
    "# Poblation members\n",
    "SIZE_POBLATION = 300\n",
    "\n",
    "# CXPB  is the probability with which two individuals are crossed\n",
    "CXPB = 0.5\n",
    "\n",
    "# MUTPB is the probability for mutating an individual\n",
    "MUTPB = 0.2"
   ]
  },
  {
   "cell_type": "code",
   "execution_count": 4,
   "id": "bb174042",
   "metadata": {},
   "outputs": [],
   "source": [
    "# Define the fitness function for maximizing the result\n",
    "creator.create(\"FitnessMax\", base.Fitness, weights=(1.0,))\n",
    "\n",
    "# Creation of the individual with the fitness function\n",
    "creator.create(\"Individual\", list, fitness=creator.FitnessMax)"
   ]
  },
  {
   "cell_type": "code",
   "execution_count": 5,
   "id": "1a8b14a6",
   "metadata": {},
   "outputs": [],
   "source": [
    "toolbox = base.Toolbox()\n",
    "\n",
    "# Attribute generator having only 0 or 1 in the body of the individual\n",
    "toolbox.register(\"attr_bool\", random.randint, 0, 0)\n",
    "\n",
    "# Structure initializers\n",
    "toolbox.register(\"individual\", tools.initRepeat, creator.Individual, toolbox.attr_bool, SIZE_INDIVIDUAL)\n",
    "toolbox.register(\"population\", tools.initRepeat, list, toolbox.individual)"
   ]
  },
  {
   "cell_type": "code",
   "execution_count": 6,
   "id": "78d800bd",
   "metadata": {},
   "outputs": [],
   "source": [
    "# Enable multiprocessing\n",
    "pool = multiprocessing.Pool()\n",
    "toolbox.register(\"map\", pool.map)"
   ]
  },
  {
   "cell_type": "code",
   "execution_count": 7,
   "id": "c46a1fe8",
   "metadata": {},
   "outputs": [],
   "source": [
    "# Fitness function\n",
    "def evalOneMax(individual):\n",
    "    summa = 0\n",
    "    if not find_overlapping(individual):\n",
    "        summa = sum(individual)\n",
    "        for i in range(0, len(individual)):\n",
    "            if individual[i] == 1:\n",
    "                summa = summa + PREFERENCIAS[PREFERENCIAS['Id_Recurso'] == i].Preferencia.values[0]\n",
    "    return summa,"
   ]
  },
  {
   "cell_type": "code",
   "execution_count": 8,
   "id": "5b4d506e",
   "metadata": {},
   "outputs": [],
   "source": [
    "# Overlapping function to detect time problems in resources\n",
    "def find_overlapping(individual):\n",
    "    found = False\n",
    "    i = 0\n",
    "    while i < len(individual) and not found:\n",
    "        # If the resource is selected for the algorithm.\n",
    "        if individual[i] == 1:\n",
    "            j = 0\n",
    "            while j < len(individual) and not found:\n",
    "                if i != j and individual[j] == 1:\n",
    "                    # Get date for the first resource.\n",
    "                    date_1 = datetime.strptime(EVENTO[EVENTO['Código'] == i].Fecha_1.values[0], '%d/%m/%Y')\n",
    "                    \n",
    "                    # Get date for the second resource.\n",
    "                    date_2 = datetime.strptime(EVENTO[EVENTO['Código'] == j].Fecha_1.values[0], '%d/%m/%Y')\n",
    "                    \n",
    "                    # Evaluate if the resource is in the same day.\n",
    "                    if (date_1 - date_2).days == 0:\n",
    "                        # Get open time for the first resource.\n",
    "                        ha1 = datetime.strptime(EVENTO[EVENTO['Código'] == i].Hora_apertura_1.values[0], '%H:%M').time()\n",
    "                        \n",
    "                        # Get close time for the first resource.\n",
    "                        hc1 = datetime.strptime(EVENTO[EVENTO['Código'] == i].Hora_cierre_1.values[0], '%H:%M').time()\n",
    "                        \n",
    "                        # Get open time for the second resource.\n",
    "                        ha2 = datetime.strptime(EVENTO[EVENTO['Código'] == j].Hora_apertura_1.values[0], '%H:%M').time()\n",
    "                        \n",
    "                        # Get close time for the second resource.\n",
    "                        hc2 = datetime.strptime(EVENTO[EVENTO['Código'] == j].Hora_cierre_1.values[0], '%H:%M').time()\n",
    "                        diff_hour = (hc2.hour - ha2.hour)\n",
    "                        if diff_hour < 6:\n",
    "                            if (ha1 == ha2) or (ha2 < ha1 < hc2) or (ha1 < ha2 < hc1) or (ha2 < ha1 < hc1 < hc2) \\\n",
    "                            or (ha1 < ha2 < hc2 < hc1):\n",
    "                                found = True\n",
    "                j = j + 1\n",
    "        i = i + 1\n",
    "\n",
    "    return found"
   ]
  },
  {
   "cell_type": "code",
   "execution_count": 9,
   "id": "53da75ba",
   "metadata": {
    "scrolled": true
   },
   "outputs": [
    {
     "name": "stdout",
     "output_type": "stream",
     "text": [
      "Overlapping\n"
     ]
    },
    {
     "data": {
      "text/plain": [
       "(0,)"
      ]
     },
     "execution_count": 9,
     "metadata": {},
     "output_type": "execute_result"
    }
   ],
   "source": [
    "best = [0, 0, 0, 0, 0, 1, 0, 0, 0, 0, 0, 0, 0, 0, 0, 0, 0, 0, 1, 1, 0, 0, 0, 0, 0, 0, 0, 1, 0, 0, 0, 0, 0, 0, 1, 0, 0, 0, 0, 0, 0, 1, 0, 0, 0, 0, 0, 0, 0, 0, 0, 0, 0, 0, 0, 0, 1, 0, 1, 1, 1, 1, 1, 1, 1, 1, 1, 1, 0, 1, 1, 1, 1, 0, 1, 1, 0, 1, 0, 1, 1, 1, 1, 1, 1, 1, 1, 1, 0, 0, 0, 0, 0, 0, 0, 0, 0, 0, 0, 0, 0, 0, 0, 0, 0, 0, 0, 0, 0] \n",
    "if find_overlapping(best):\n",
    "    print(\"Overlapping\")\n",
    "else:\n",
    "    print(\"No overlapping\")\n",
    "    \n",
    "evalOneMax(best)"
   ]
  },
  {
   "cell_type": "code",
   "execution_count": 10,
   "id": "32d50fcb",
   "metadata": {},
   "outputs": [],
   "source": [
    "# Record the allowed operations\n",
    "toolbox.register(\"evaluate\", evalOneMax)\n",
    "toolbox.register(\"mate\", tools.cxTwoPoint)\n",
    "toolbox.register(\"mutate\", tools.mutFlipBit, indpb=0.05)\n",
    "toolbox.register(\"select\", tools.selTournament, tournsize=3)\n",
    "#toolbox.decorate(\"evaluate\", tools.DeltaPenalty(feasible, 0.0))"
   ]
  },
  {
   "cell_type": "code",
   "execution_count": 11,
   "id": "61b593b0",
   "metadata": {},
   "outputs": [],
   "source": [
    "# Initial population\n",
    "pop = toolbox.population(n=SIZE_POBLATION)"
   ]
  },
  {
   "cell_type": "code",
   "execution_count": 12,
   "id": "3d72f565",
   "metadata": {},
   "outputs": [],
   "source": [
    "# Evaluate the entire population\n",
    "fitnesses = list(map(toolbox.evaluate, pop))"
   ]
  },
  {
   "cell_type": "code",
   "execution_count": 13,
   "id": "ec12e387",
   "metadata": {},
   "outputs": [],
   "source": [
    "# Store the values of the fitness function for each individual\n",
    "for ind, fit in zip(pop, fitnesses):\n",
    "    ind.fitness.values = fit"
   ]
  },
  {
   "cell_type": "code",
   "execution_count": 14,
   "id": "5b448665",
   "metadata": {},
   "outputs": [],
   "source": [
    "# Function for calculating the stats each generation\n",
    "def calculate_statistics(fits, g=0):\n",
    "    print(\"-- Generation %i --\" % g)   \n",
    "    length = len(pop)\n",
    "    mean = sum(fits) / length\n",
    "    sum2 = sum(x*x for x in fits)\n",
    "    std = abs(sum2 / length - mean**2)**0.5\n",
    "    print(\"  Min %s\" % min(fits))\n",
    "    print(\"  Max %s\" % max(fits))\n",
    "    print(\"  Avg %s\" % mean)\n",
    "    print(\"  Std %s\" % std)"
   ]
  },
  {
   "cell_type": "code",
   "execution_count": 15,
   "id": "b83d80d7",
   "metadata": {},
   "outputs": [
    {
     "name": "stdout",
     "output_type": "stream",
     "text": [
      "-- Generation 0 --\n",
      "  Min 0.0\n",
      "  Max 0.0\n",
      "  Avg 0.0\n",
      "  Std 0.0\n"
     ]
    }
   ],
   "source": [
    "# Gather all the fitnesses in one list and print the stats\n",
    "fits = [ind.fitness.values[0] for ind in pop]\n",
    "calculate_statistics(fits)"
   ]
  },
  {
   "cell_type": "code",
   "execution_count": 16,
   "id": "323e36a9",
   "metadata": {},
   "outputs": [
    {
     "name": "stdout",
     "output_type": "stream",
     "text": [
      "-- Generation 1 --\n",
      "  Min 0.0\n",
      "  Max 4.103440204710261\n",
      "  Avg 0.045366594400922826\n",
      "  Std 0.39516946248351753\n",
      "-- Generation 2 --\n",
      "  Min 0.0\n",
      "  Max 4.348973402373577\n",
      "  Avg 0.1790011737540038\n",
      "  Std 0.6895392330993027\n",
      "-- Generation 3 --\n",
      "  Min 0.0\n",
      "  Max 4.419386516085871\n",
      "  Avg 0.4524389315580987\n",
      "  Std 1.0483292455359898\n",
      "-- Generation 4 --\n",
      "  Min 0.0\n",
      "  Max 5.891983665139431\n",
      "  Avg 0.9015110982194426\n",
      "  Std 1.4207733423797468\n",
      "-- Generation 5 --\n",
      "  Min 0.0\n",
      "  Max 7.105682295716092\n",
      "  Avg 1.6036855130036458\n",
      "  Std 1.6967646431130075\n",
      "-- Generation 6 --\n",
      "  Min 0.0\n",
      "  Max 7.105682295716092\n",
      "  Avg 2.284382590078719\n",
      "  Std 1.8452346846900352\n",
      "-- Generation 7 --\n",
      "  Min 0.0\n",
      "  Max 8.01637359978315\n",
      "  Avg 2.7086528362215216\n",
      "  Std 2.0638841920002573\n",
      "-- Generation 8 --\n",
      "  Min 0.0\n",
      "  Max 8.657803260251173\n",
      "  Avg 3.2662326969279563\n",
      "  Std 2.263962494014596\n",
      "-- Generation 9 --\n",
      "  Min 0.0\n",
      "  Max 8.657803260251173\n",
      "  Avg 3.408164701571097\n",
      "  Std 2.656210388188243\n",
      "-- Generation 10 --\n",
      "  Min 0.0\n",
      "  Max 8.657803260251173\n",
      "  Avg 3.8885662444320275\n",
      "  Std 2.928107466990236\n",
      "-- Generation 11 --\n",
      "  Min 0.0\n",
      "  Max 8.657803260251173\n",
      "  Avg 3.846165724625059\n",
      "  Std 3.1843199057542386\n",
      "-- Generation 12 --\n",
      "  Min 0.0\n",
      "  Max 9.930191354501897\n",
      "  Avg 4.211471702146578\n",
      "  Std 3.3975008096462265\n",
      "-- Generation 13 --\n",
      "  Min 0.0\n",
      "  Max 9.930191354501897\n",
      "  Avg 4.1442697721006825\n",
      "  Std 3.549308796296133\n",
      "-- Generation 14 --\n",
      "  Min 0.0\n",
      "  Max 9.930191354501897\n",
      "  Avg 4.647272689871936\n",
      "  Std 3.6022790957702884\n",
      "-- Generation 15 --\n",
      "  Min 0.0\n",
      "  Max 9.930191354501897\n",
      "  Avg 4.636637768418591\n",
      "  Std 3.7584676996104305\n",
      "-- Generation 16 --\n",
      "  Min 0.0\n",
      "  Max 14.34744584087348\n",
      "  Avg 4.709201794975232\n",
      "  Std 4.005344127396743\n",
      "-- Generation 17 --\n",
      "  Min 0.0\n",
      "  Max 14.366117773284534\n",
      "  Avg 5.517759036259848\n",
      "  Std 4.020616020071483\n",
      "-- Generation 18 --\n",
      "  Min 0.0\n",
      "  Max 14.366117773284534\n",
      "  Avg 5.8146035288787\n",
      "  Std 4.23189348069268\n",
      "-- Generation 19 --\n",
      "  Min 0.0\n",
      "  Max 14.366117773284534\n",
      "  Avg 5.357041229690232\n",
      "  Std 4.678051528147803\n",
      "-- Generation 20 --\n",
      "  Min 0.0\n",
      "  Max 15.767337718484885\n",
      "  Avg 6.003424170412925\n",
      "  Std 4.768222917781891\n"
     ]
    }
   ],
   "source": [
    "# Variable keeping track of the number of generations\n",
    "g = 0\n",
    "\n",
    "# Begin the evolution\n",
    "while max(fits) < MAX_VALUE and g < NUM_GENERATIONS:\n",
    "    # A new generation\n",
    "    g = g + 1\n",
    "    \n",
    "    # Select the next generation individuals\n",
    "    offspring = toolbox.select(pop, len(pop))\n",
    "    \n",
    "    # Clone the selected individuals\n",
    "    offspring = list(map(toolbox.clone, offspring))\n",
    "    \n",
    "    # Apply crossover and mutation on the offspring\n",
    "    for child1, child2 in zip(offspring[::2], offspring[1::2]):\n",
    "        if random.random() < CXPB:\n",
    "            toolbox.mate(child1, child2)\n",
    "            del child1.fitness.values\n",
    "            del child2.fitness.values\n",
    "\n",
    "    for mutant in offspring:\n",
    "        if random.random() < MUTPB:\n",
    "            toolbox.mutate(mutant)\n",
    "            del mutant.fitness.values\n",
    "            \n",
    "    # Evaluate the individuals with an invalid fitness\n",
    "    invalid_ind = [ind for ind in offspring if not ind.fitness.valid]\n",
    "    fitnesses = map(toolbox.evaluate, invalid_ind)\n",
    "    for ind, fit in zip(invalid_ind, fitnesses):\n",
    "        ind.fitness.values = fit\n",
    "        \n",
    "    pop[:] = offspring\n",
    "    # Gather all the fitnesses in one list and print the stats\n",
    "    fits = [ind.fitness.values[0] for ind in pop]\n",
    "    calculate_statistics(fits, g)"
   ]
  },
  {
   "cell_type": "code",
   "execution_count": 17,
   "id": "86d32910",
   "metadata": {},
   "outputs": [
    {
     "name": "stdout",
     "output_type": "stream",
     "text": [
      "114\n",
      "Best Individual =  [0, 0, 0, 0, 0, 0, 0, 0, 1, 0, 0, 0, 0, 0, 0, 0, 0, 0, 0, 0, 0, 0, 0, 0, 0, 0, 0, 0, 0, 0, 0, 0, 0, 0, 0, 0, 0, 0, 0, 0, 0, 0, 0, 0, 0, 0, 0, 0, 0, 0, 0, 0, 0, 0, 0, 0, 0, 0, 0, 0, 0, 0, 0, 0, 0, 0, 0, 0, 0, 0, 0, 0, 0, 1, 1, 0, 0, 0, 0, 1, 0, 0, 1, 0, 1, 1, 0, 0, 0, 0, 0, 0, 0, 0, 1, 1, 0, 0, 0, 0, 0, 0, 0, 0, 0, 0, 0, 0, 0, 0, 0, 1, 1, 0] \n",
      "\n"
     ]
    }
   ],
   "source": [
    "# Find and print best individual:\n",
    "best_index = fits.index(max(fits))\n",
    "best_individual = pop[best_index]\n",
    "print(len(best_individual))\n",
    "print(\"Best Individual = \", best_individual, \"\\n\")"
   ]
  },
  {
   "cell_type": "code",
   "execution_count": 18,
   "id": "6d5a5ca6",
   "metadata": {},
   "outputs": [
    {
     "name": "stdout",
     "output_type": "stream",
     "text": [
      "8 16/12/2022 0:00 0:00 Open Mario Kart 8 Deluxe\n",
      "73 16/12/2022 10:00 22:00 Perritos calientes\n",
      "74 16/12/2022 10:00 22:00 Hamburguesa\n",
      "79 16/12/2022 10:00 22:00 Food Truck\n",
      "82 16/12/2022 10:00 22:00 grido\n",
      "84 16/12/2022 12:00 23:00 Dominos pizza\n",
      "85 16/12/2022 12:00 23:00 McDonal's\n",
      "94 16/12/2022 10:00 21:00 Amazon University Esports\n",
      "95 16/12/2022 10:00 21:00 Junior Esports\n",
      "111 16/12/2022 10:00 21:00 Mad Lions\n",
      "112 16/12/2022 10:00 21:00 Koi\n"
     ]
    }
   ],
   "source": [
    "for i in range(0, len(best_individual)):\n",
    "    if best_individual[i] == 1:\n",
    "        print(i, EVENTO[EVENTO['Código'] == i].Fecha_1.values[0], EVENTO[EVENTO['Código'] == i].Hora_apertura_1.values[0], EVENTO[EVENTO['Código'] == i].Hora_cierre_1.values[0], EVENTO[EVENTO['Código'] == i].Nombre.values[0])"
   ]
  }
 ],
 "metadata": {
  "kernelspec": {
   "display_name": "Python 3 (ipykernel)",
   "language": "python",
   "name": "python3"
  },
  "language_info": {
   "codemirror_mode": {
    "name": "ipython",
    "version": 3
   },
   "file_extension": ".py",
   "mimetype": "text/x-python",
   "name": "python",
   "nbconvert_exporter": "python",
   "pygments_lexer": "ipython3",
   "version": "3.9.7"
  }
 },
 "nbformat": 4,
 "nbformat_minor": 5
}
