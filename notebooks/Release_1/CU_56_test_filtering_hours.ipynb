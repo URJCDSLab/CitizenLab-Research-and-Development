{
 "cells": [
  {
   "cell_type": "code",
   "execution_count": 1,
   "id": "9ee07070",
   "metadata": {},
   "outputs": [],
   "source": [
    "import random\n",
    "import copy\n",
    "import multiprocessing\n",
    "import pandas as pd\n",
    "import numpy as np\n",
    "from deap import base\n",
    "from deap import creator\n",
    "from deap import tools\n",
    "from datetime import datetime, timedelta"
   ]
  },
  {
   "cell_type": "code",
   "execution_count": 2,
   "id": "5b2be327",
   "metadata": {},
   "outputs": [
    {
     "data": {
      "text/html": [
       "<div>\n",
       "<style scoped>\n",
       "    .dataframe tbody tr th:only-of-type {\n",
       "        vertical-align: middle;\n",
       "    }\n",
       "\n",
       "    .dataframe tbody tr th {\n",
       "        vertical-align: top;\n",
       "    }\n",
       "\n",
       "    .dataframe thead th {\n",
       "        text-align: right;\n",
       "    }\n",
       "</style>\n",
       "<table border=\"1\" class=\"dataframe\">\n",
       "  <thead>\n",
       "    <tr style=\"text-align: right;\">\n",
       "      <th></th>\n",
       "      <th>Id_Recurso</th>\n",
       "      <th>Preferencia</th>\n",
       "    </tr>\n",
       "  </thead>\n",
       "  <tbody>\n",
       "    <tr>\n",
       "      <th>101</th>\n",
       "      <td>0</td>\n",
       "      <td>0.233295</td>\n",
       "    </tr>\n",
       "    <tr>\n",
       "      <th>88</th>\n",
       "      <td>1</td>\n",
       "      <td>0.358799</td>\n",
       "    </tr>\n",
       "    <tr>\n",
       "      <th>111</th>\n",
       "      <td>2</td>\n",
       "      <td>0.120212</td>\n",
       "    </tr>\n",
       "    <tr>\n",
       "      <th>102</th>\n",
       "      <td>3</td>\n",
       "      <td>0.227418</td>\n",
       "    </tr>\n",
       "    <tr>\n",
       "      <th>113</th>\n",
       "      <td>4</td>\n",
       "      <td>0.102221</td>\n",
       "    </tr>\n",
       "    <tr>\n",
       "      <th>107</th>\n",
       "      <td>5</td>\n",
       "      <td>0.184035</td>\n",
       "    </tr>\n",
       "    <tr>\n",
       "      <th>27</th>\n",
       "      <td>6</td>\n",
       "      <td>0.494820</td>\n",
       "    </tr>\n",
       "    <tr>\n",
       "      <th>114</th>\n",
       "      <td>7</td>\n",
       "      <td>0.044136</td>\n",
       "    </tr>\n",
       "    <tr>\n",
       "      <th>50</th>\n",
       "      <td>8</td>\n",
       "      <td>0.425795</td>\n",
       "    </tr>\n",
       "    <tr>\n",
       "      <th>89</th>\n",
       "      <td>9</td>\n",
       "      <td>0.358799</td>\n",
       "    </tr>\n",
       "    <tr>\n",
       "      <th>5</th>\n",
       "      <td>10</td>\n",
       "      <td>0.595931</td>\n",
       "    </tr>\n",
       "    <tr>\n",
       "      <th>28</th>\n",
       "      <td>11</td>\n",
       "      <td>0.492728</td>\n",
       "    </tr>\n",
       "    <tr>\n",
       "      <th>10</th>\n",
       "      <td>12</td>\n",
       "      <td>0.564942</td>\n",
       "    </tr>\n",
       "    <tr>\n",
       "      <th>38</th>\n",
       "      <td>13</td>\n",
       "      <td>0.454223</td>\n",
       "    </tr>\n",
       "    <tr>\n",
       "      <th>18</th>\n",
       "      <td>14</td>\n",
       "      <td>0.533865</td>\n",
       "    </tr>\n",
       "  </tbody>\n",
       "</table>\n",
       "</div>"
      ],
      "text/plain": [
       "     Id_Recurso  Preferencia\n",
       "101           0     0.233295\n",
       "88            1     0.358799\n",
       "111           2     0.120212\n",
       "102           3     0.227418\n",
       "113           4     0.102221\n",
       "107           5     0.184035\n",
       "27            6     0.494820\n",
       "114           7     0.044136\n",
       "50            8     0.425795\n",
       "89            9     0.358799\n",
       "5            10     0.595931\n",
       "28           11     0.492728\n",
       "10           12     0.564942\n",
       "38           13     0.454223\n",
       "18           14     0.533865"
      ]
     },
     "execution_count": 2,
     "metadata": {},
     "output_type": "execute_result"
    }
   ],
   "source": [
    "# Load files\n",
    "path = '../Data/'\n",
    "festival = 'IFEMA_Festival_Videojuegos_1/'\n",
    "preferences = 'Preferencias/'\n",
    "file_name= 'IFEMA_Festival_Videojuegos_v_5.csv'\n",
    "ORIGINAL_EVENTO = pd.read_csv(path+festival+file_name)\n",
    "file_name='PREFERENCIAS_US1.csv'\n",
    "PREFERENCIAS = pd.read_csv(path+festival+preferences+file_name)\n",
    "PREFERENCIAS = PREFERENCIAS.sort_values('Id_Recurso')\n",
    "PREFERENCIAS.head(15)"
   ]
  },
  {
   "cell_type": "code",
   "execution_count": 7,
   "id": "c5524d45",
   "metadata": {},
   "outputs": [],
   "source": [
    "# Transform to date and hour formats\n",
    "ORIGINAL_EVENTO['Hora_apertura_1'] = pd.to_datetime(ORIGINAL_EVENTO['Hora_apertura_1'], format='%H:%M')\n",
    "ORIGINAL_EVENTO['Hora_cierre_1'] = pd.to_datetime(ORIGINAL_EVENTO['Hora_cierre_1'], format='%H:%M')\n",
    "ORIGINAL_EVENTO['Fecha_1'] = pd.to_datetime(ORIGINAL_EVENTO['Fecha_1'], format='%d/%m/%Y')\n",
    "\n",
    "drop_list = []\n",
    "\n",
    "# Exclude resources of more than 6 hours of duration\n",
    "for i in range(0, max(ORIGINAL_EVENTO['Código'])):\n",
    "    \n",
    "    # Get open time for the first resource.\n",
    "    ha = ORIGINAL_EVENTO.Hora_apertura_1[i]\n",
    "                        \n",
    "    # Get close time for the first resource.\n",
    "    hc = ORIGINAL_EVENTO.Hora_cierre_1[i]\n",
    "                        \n",
    "    diff_hour = (hc - ha)\n",
    "    diff_hour = diff_hour / np.timedelta64(1, 'm')\n",
    "    if diff_hour >= 360:\n",
    "        drop_list.append(i)\n",
    "\n",
    "# Get the two datasets (first with short durations and second with large duration)\n",
    "EVENTO = ORIGINAL_EVENTO[~ORIGINAL_EVENTO['Código'].isin(drop_list)]\n",
    "EVENTO_HOURLESS = ORIGINAL_EVENTO[ORIGINAL_EVENTO['Código'].isin(drop_list)]"
   ]
  },
  {
   "cell_type": "code",
   "execution_count": 8,
   "id": "d0092d3d",
   "metadata": {
    "scrolled": true
   },
   "outputs": [],
   "source": [
    "# Size of the individual\n",
    "SIZE_INDIVIDUAL = EVENTO.shape[0]\n",
    "\n",
    "# Number of generations\n",
    "NUM_GENERATIONS = 20\n",
    "\n",
    "# Optimal value to obtain (not reached)\n",
    "MAX_VALUE = SIZE_INDIVIDUAL + 10 * SIZE_INDIVIDUAL\n",
    "\n",
    "# Poblation members\n",
    "SIZE_POBLATION = 1000\n",
    "\n",
    "# CXPB  is the probability with which two individuals are crossed\n",
    "CXPB = 0.5\n",
    "\n",
    "# MUTPB is the probability for mutating an individual\n",
    "MUTPB = 0.2"
   ]
  },
  {
   "cell_type": "code",
   "execution_count": 9,
   "id": "bb174042",
   "metadata": {},
   "outputs": [],
   "source": [
    "# Define the fitness function for maximizing the result\n",
    "creator.create(\"FitnessMax\", base.Fitness, weights=(1.0,))\n",
    "\n",
    "# Creation of the individual with the fitness function\n",
    "creator.create(\"Individual\", list, fitness=creator.FitnessMax)"
   ]
  },
  {
   "cell_type": "code",
   "execution_count": 10,
   "id": "1a8b14a6",
   "metadata": {},
   "outputs": [],
   "source": [
    "toolbox = base.Toolbox()\n",
    "\n",
    "# Attribute generator having only 0 or 1 in the body of the individual (no day or first day)\n",
    "toolbox.register(\"attr_bool\", random.randint, 0, 1)\n",
    "\n",
    "# Structure initializers\n",
    "toolbox.register(\"individual\", tools.initRepeat, creator.Individual, toolbox.attr_bool, SIZE_INDIVIDUAL)\n",
    "toolbox.register(\"population\", tools.initRepeat, list, toolbox.individual)"
   ]
  },
  {
   "cell_type": "code",
   "execution_count": 11,
   "id": "78d800bd",
   "metadata": {},
   "outputs": [],
   "source": [
    "# Enable multiprocessing\n",
    "pool = multiprocessing.Pool()\n",
    "toolbox.register(\"map\", pool.map)"
   ]
  },
  {
   "cell_type": "code",
   "execution_count": 12,
   "id": "5b4d506e",
   "metadata": {},
   "outputs": [],
   "source": [
    "# Overlapping function to detect time problems in resources\n",
    "def find_overlapping(individual):\n",
    "    found = False\n",
    "    i = 0\n",
    "    while i < len(individual) and not found:\n",
    "        # If the resource is selected for the algorithm.\n",
    "        if individual[i] == 1:\n",
    "            j = 0\n",
    "            while j < len(individual)  and not found:\n",
    "                if i != j and individual[j] == 1:\n",
    "                    # Get date for the first resource.\n",
    "                    date_1 = EVENTO.Fecha_1[EVENTO.index[i]]\n",
    "                \n",
    "                    # Get date for the second resource.\n",
    "                    date_2 = EVENTO.Fecha_1[EVENTO.index[j]]\n",
    "\n",
    "                    # Evaluate if the resource is in the same day.\n",
    "                    if (date_1 - date_2).days == 0:\n",
    "                        # Get open time for the first resource.\n",
    "                        ha1 = EVENTO.Hora_apertura_1[EVENTO.index[i]]\n",
    "            \n",
    "                        # Get close time for the first resource.\n",
    "                        hc1 = EVENTO.Hora_cierre_1[EVENTO.index[i]]\n",
    "\n",
    "                        # Get open time for the second resource.\n",
    "                        ha2 = EVENTO.Hora_apertura_1[EVENTO.index[j]]\n",
    "\n",
    "                        # Get close time for the second resource.\n",
    "                        hc2 = EVENTO.Hora_cierre_1[EVENTO.index[j]]\n",
    "                        if (ha1 == ha2) or (ha2 < ha1 < hc2) or (ha1 < ha2 < hc1) or (ha2 < ha1 < hc1 < hc2) \\\n",
    "                            or (ha1 < ha2 < hc2 < hc1):\n",
    "                            found = True\n",
    "                j = j + 1\n",
    "        i = i + 1\n",
    "\n",
    "    return found"
   ]
  },
  {
   "cell_type": "code",
   "execution_count": 13,
   "id": "c46a1fe8",
   "metadata": {},
   "outputs": [],
   "source": [
    "# Fitness function\n",
    "def evalOneMax(individual):\n",
    "    summa = 0\n",
    "    if not find_overlapping(individual):\n",
    "        summa = sum(individual)\n",
    "        for i in range(0, len(individual)):\n",
    "            if individual[i] == 1:\n",
    "                summa = summa + PREFERENCIAS[PREFERENCIAS['Id_Recurso'] == EVENTO.index[i]].Preferencia.values[0]\n",
    "    return summa,"
   ]
  },
  {
   "cell_type": "code",
   "execution_count": 14,
   "id": "86397242",
   "metadata": {},
   "outputs": [
    {
     "name": "stdout",
     "output_type": "stream",
     "text": [
      "(0,)\n"
     ]
    }
   ],
   "source": [
    "best = [0, 0, 0, 0, 0, 0, 0, 0, 1, 1, 0, 0, 0, 1, 0, 0, 0, 0, 1, 0, 0, 0, 0, 0, 0, 0, 0, 0, 0, 0, 0, 1, 0, 0, 0, 0, 0, 0, 0, 0, 0, 0, 0, 0, 0, 0, 1, 1, 1, 0, 0, 0, 0, 0, 0, 0, 1, 0, 0, 0, 0, 0, 0, 0, 0, 0, 0, 0, 0, 0, 0]\n",
    "print(evalOneMax(best))"
   ]
  },
  {
   "cell_type": "code",
   "execution_count": 15,
   "id": "53da75ba",
   "metadata": {
    "scrolled": true
   },
   "outputs": [
    {
     "name": "stdout",
     "output_type": "stream",
     "text": [
      "Overlapping\n"
     ]
    },
    {
     "data": {
      "text/plain": [
       "(0,)"
      ]
     },
     "execution_count": 15,
     "metadata": {},
     "output_type": "execute_result"
    }
   ],
   "source": [
    "best = [0, 1, 1, 0, 1, 1, 1, 1, 1, 1, 1, 0, 0, 1, 0, 0, 1, 1, 1, 0, 0, 1, 1, 1, 0, 1, 1, 1, 0, 1, 1, 0, 1, 1, 1, 1, 0, 1, 1, 1, 1, 0, 1, 0, 0, 0, 1, 1, 1, 0, 0, 1, 0, 0, 0, 1, 1, 1, 1, 1, 1, 0, 1, 0, 1, 0, 0, 1, 1, 1, 1]\n",
    "if find_overlapping(best):\n",
    "    print(\"Overlapping\")\n",
    "else:\n",
    "    print(\"No overlapping\")\n",
    "    \n",
    "evalOneMax(best)"
   ]
  },
  {
   "cell_type": "code",
   "execution_count": 16,
   "id": "32d50fcb",
   "metadata": {},
   "outputs": [],
   "source": [
    "# Record the allowed operations\n",
    "toolbox.register(\"evaluate\", evalOneMax)\n",
    "toolbox.register(\"mate\", tools.cxTwoPoint)\n",
    "toolbox.register(\"mutate\", tools.mutFlipBit, indpb=0.05)\n",
    "toolbox.register(\"select\", tools.selTournament, tournsize=3)"
   ]
  },
  {
   "cell_type": "code",
   "execution_count": 17,
   "id": "61b593b0",
   "metadata": {},
   "outputs": [],
   "source": [
    "# Initial population\n",
    "pop = toolbox.population(n=SIZE_POBLATION)\n",
    "for i in range(0, SIZE_POBLATION):\n",
    "    pop[i] =  creator.Individual(SIZE_INDIVIDUAL * [0])"
   ]
  },
  {
   "cell_type": "code",
   "execution_count": 18,
   "id": "3d72f565",
   "metadata": {},
   "outputs": [],
   "source": [
    "# Evaluate the entire population\n",
    "fitnesses = list(map(toolbox.evaluate, pop))"
   ]
  },
  {
   "cell_type": "code",
   "execution_count": 19,
   "id": "ec12e387",
   "metadata": {},
   "outputs": [],
   "source": [
    "# Store the values of the fitness function for each individual\n",
    "for ind, fit in zip(pop, fitnesses):\n",
    "    ind.fitness.values = fit"
   ]
  },
  {
   "cell_type": "code",
   "execution_count": 20,
   "id": "5b448665",
   "metadata": {},
   "outputs": [],
   "source": [
    "# Function for calculating the stats each generation\n",
    "def calculate_statistics(fits, g=0):\n",
    "    print(\"-- Generation %i --\" % g)   \n",
    "    length = len(pop)\n",
    "    mean = sum(fits) / length\n",
    "    sum2 = sum(x*x for x in fits)\n",
    "    std = abs(sum2 / length - mean**2)**0.5\n",
    "    print(\"  Min %s\" % min(fits))\n",
    "    print(\"  Max %s\" % max(fits))\n",
    "    print(\"  Avg %s\" % mean)\n",
    "    print(\"  Std %s\" % std)"
   ]
  },
  {
   "cell_type": "code",
   "execution_count": 21,
   "id": "b83d80d7",
   "metadata": {},
   "outputs": [
    {
     "name": "stdout",
     "output_type": "stream",
     "text": [
      "-- Generation 0 --\n",
      "  Min 0.0\n",
      "  Max 0.0\n",
      "  Avg 0.0\n",
      "  Std 0.0\n"
     ]
    }
   ],
   "source": [
    "# Gather all the fitnesses in one list and print the stats\n",
    "fits = [ind.fitness.values[0] for ind in pop]\n",
    "calculate_statistics(fits)"
   ]
  },
  {
   "cell_type": "code",
   "execution_count": 22,
   "id": "323e36a9",
   "metadata": {},
   "outputs": [
    {
     "name": "stdout",
     "output_type": "stream",
     "text": [
      "-- Generation 1 --\n",
      "  Min 0.0\n",
      "  Max 6.799532100159175\n",
      "  Avg 0.24481950637794198\n",
      "  Std 0.9218799934290677\n",
      "-- Generation 2 --\n",
      "  Min 0.0\n",
      "  Max 7.859313742841409\n",
      "  Avg 0.7272498286408177\n",
      "  Std 1.425997775116984\n",
      "-- Generation 3 --\n",
      "  Min 0.0\n",
      "  Max 8.085098552494307\n",
      "  Avg 1.531317172717559\n",
      "  Std 1.7479094598819829\n",
      "-- Generation 4 --\n",
      "  Min 0.0\n",
      "  Max 8.085098552494307\n",
      "  Avg 2.320364557299773\n",
      "  Std 2.0453418454892796\n",
      "-- Generation 5 --\n",
      "  Min 0.0\n",
      "  Max 8.361887762222404\n",
      "  Avg 2.825692057504132\n",
      "  Std 2.269343778476485\n",
      "-- Generation 6 --\n",
      "  Min 0.0\n",
      "  Max 8.665201133971456\n",
      "  Avg 3.406470281538461\n",
      "  Std 2.463083687845451\n",
      "-- Generation 7 --\n",
      "  Min 0.0\n",
      "  Max 10.06968003375116\n",
      "  Avg 3.623958621060933\n",
      "  Std 2.7914702064459793\n",
      "-- Generation 8 --\n",
      "  Min 0.0\n",
      "  Max 10.127406203069974\n",
      "  Avg 4.061983880262568\n",
      "  Std 3.035773308487398\n",
      "-- Generation 9 --\n",
      "  Min 0.0\n",
      "  Max 11.391096849250145\n",
      "  Avg 4.31534989552207\n",
      "  Std 3.2229953965431255\n",
      "-- Generation 10 --\n",
      "  Min 0.0\n",
      "  Max 11.391096849250145\n",
      "  Avg 4.575068901137177\n",
      "  Std 3.4970859993164947\n",
      "-- Generation 11 --\n",
      "  Min 0.0\n",
      "  Max 11.391096849250145\n",
      "  Avg 4.944649558177488\n",
      "  Std 3.692310616441497\n",
      "-- Generation 12 --\n",
      "  Min 0.0\n",
      "  Max 11.751067858795565\n",
      "  Avg 5.173607640983713\n",
      "  Std 3.9287911017482178\n",
      "-- Generation 13 --\n",
      "  Min 0.0\n",
      "  Max 12.978248802844055\n",
      "  Avg 5.531696610087416\n",
      "  Std 4.123954344215186\n",
      "-- Generation 14 --\n",
      "  Min 0.0\n",
      "  Max 13.011113874559582\n",
      "  Avg 5.831984515562177\n",
      "  Std 4.338320155114222\n",
      "-- Generation 15 --\n",
      "  Min 0.0\n",
      "  Max 14.43160584133893\n",
      "  Avg 6.149013308973605\n",
      "  Std 4.6489415259008835\n",
      "-- Generation 16 --\n",
      "  Min 0.0\n",
      "  Max 14.43160584133893\n",
      "  Avg 6.744568748552559\n",
      "  Std 4.800349535835295\n",
      "-- Generation 17 --\n",
      "  Min 0.0\n",
      "  Max 14.472203331069318\n",
      "  Avg 7.137784583287793\n",
      "  Std 5.059749973818896\n",
      "-- Generation 18 --\n",
      "  Min 0.0\n",
      "  Max 14.472203331069318\n",
      "  Avg 7.676354184392728\n",
      "  Std 5.238586348611478\n",
      "-- Generation 19 --\n",
      "  Min 0.0\n",
      "  Max 14.472203331069318\n",
      "  Avg 7.850506948409913\n",
      "  Std 5.535125505531848\n",
      "-- Generation 20 --\n",
      "  Min 0.0\n",
      "  Max 15.925560369564193\n",
      "  Avg 8.372593714894938\n",
      "  Std 5.6221260465891785\n"
     ]
    }
   ],
   "source": [
    "# Variable keeping track of the number of generations\n",
    "g = 0\n",
    "\n",
    "# Begin the evolution\n",
    "while max(fits) < MAX_VALUE and g < NUM_GENERATIONS:\n",
    "    # A new generation\n",
    "    g = g + 1\n",
    "    \n",
    "    # Select the next generation individuals\n",
    "    offspring = toolbox.select(pop, len(pop))\n",
    "    \n",
    "    # Clone the selected individuals\n",
    "    offspring = list(map(toolbox.clone, offspring))\n",
    "    \n",
    "    # Apply crossover and mutation on the offspring\n",
    "    for child1, child2 in zip(offspring[::2], offspring[1::2]):\n",
    "        if random.random() < CXPB:\n",
    "            toolbox.mate(child1, child2)\n",
    "            del child1.fitness.values\n",
    "            del child2.fitness.values\n",
    "\n",
    "    for mutant in offspring:\n",
    "        if random.random() < MUTPB:\n",
    "            toolbox.mutate(mutant)\n",
    "            del mutant.fitness.values\n",
    "            \n",
    "    # Evaluate the individuals with an invalid fitness\n",
    "    invalid_ind = [ind for ind in offspring if not ind.fitness.valid]\n",
    "    fitnesses = map(toolbox.evaluate, invalid_ind)\n",
    "    for ind, fit in zip(invalid_ind, fitnesses):\n",
    "        ind.fitness.values = fit\n",
    "        \n",
    "    pop[:] = offspring\n",
    "    # Gather all the fitnesses in one list and print the stats\n",
    "    fits = [ind.fitness.values[0] for ind in pop]\n",
    "    calculate_statistics(fits, g)"
   ]
  },
  {
   "cell_type": "code",
   "execution_count": 23,
   "id": "86d32910",
   "metadata": {},
   "outputs": [
    {
     "name": "stdout",
     "output_type": "stream",
     "text": [
      "[0, 0, 0, 1, 0, 1, 0, 0, 0, 0, 0, 0, 0, 0, 0, 0, 1, 0, 0, 0, 0, 0, 0, 1, 1, 0, 0, 0, 0, 0, 0, 0, 0, 0, 0, 1, 0, 0, 0, 1, 0, 1, 0, 0, 0, 0, 0, 0, 0, 1, 1, 0, 0, 0, 0, 0, 0, 0, 0, 0, 0, 0, 0, 0, 0, 0, 0, 1, 0, 0, 0, 0]\n"
     ]
    }
   ],
   "source": [
    "# Find and print best individual\n",
    "best_index = fits.index(max(fits))\n",
    "best_partial_individual = pop[best_index]\n",
    "print(best_partial_individual)"
   ]
  },
  {
   "cell_type": "code",
   "execution_count": 25,
   "id": "78c793bf",
   "metadata": {
    "scrolled": true
   },
   "outputs": [
    {
     "name": "stdout",
     "output_type": "stream",
     "text": [
      "3 1900-01-01 11:15:00 1900-01-01 11:45:00\n",
      "6 1900-01-01 10:00:00 1900-01-01 11:00:00\n",
      "17 1900-01-01 16:00:00 1900-01-01 16:30:00\n",
      "25 1900-01-01 12:00:00 1900-01-01 12:30:00\n",
      "26 1900-01-01 12:45:00 1900-01-01 13:15:00\n",
      "37 1900-01-01 00:00:00 1900-01-01 00:00:00\n",
      "41 1900-01-01 13:30:00 1900-01-01 14:00:00\n",
      "43 1900-01-01 17:30:00 1900-01-01 19:00:00\n",
      "51 1900-01-01 19:00:00 1900-01-01 19:30:00\n",
      "52 1900-01-01 19:30:00 1900-01-01 21:00:00\n",
      "69 1900-01-01 15:30:00 1900-01-01 16:00:00\n"
     ]
    }
   ],
   "source": [
    "# Print the selected resources by the genetic algorithm for one day\n",
    "for i in range(0,len(best_partial_individual)):\n",
    "    if best_partial_individual[i] == 1:\n",
    "        print(EVENTO.Código[EVENTO.index[i]], EVENTO.Hora_apertura_1[EVENTO.index[i]], EVENTO.Hora_cierre_1[EVENTO.index[i]])"
   ]
  },
  {
   "cell_type": "code",
   "execution_count": 27,
   "id": "7fddf01a",
   "metadata": {},
   "outputs": [],
   "source": [
    "# Add the large duration resources\n",
    "best_individual = copy.copy(best_partial_individual)\n",
    "for value in list(EVENTO_HOURLESS.Código):\n",
    "    best_individual.insert(value,1)"
   ]
  },
  {
   "cell_type": "code",
   "execution_count": 28,
   "id": "7abe2c97",
   "metadata": {},
   "outputs": [
    {
     "name": "stdout",
     "output_type": "stream",
     "text": [
      "3 1900-01-01 11:15:00 1900-01-01 11:45:00 Freeplay + Inscripciones Smash\n",
      "5 1900-01-01 15:00:00 1900-01-01 21:00:00 Road to Gamergy: Smash Bros Ultimate Open\n",
      "6 1900-01-01 10:00:00 1900-01-01 11:00:00 Inscripciones Pokémon Unite\n",
      "17 1900-01-01 16:00:00 1900-01-01 16:30:00 Inscripciones Death Match\n",
      "24 1900-01-01 12:00:00 1900-01-01 20:00:00 National League CSGO\n",
      "25 1900-01-01 12:00:00 1900-01-01 12:30:00 Valorant (Fiebre de la Spike) 1v1 Treintadosavos de Final Bo1\n",
      "26 1900-01-01 12:45:00 1900-01-01 13:15:00 Valorant (Fiebre de la Spike) 1v1 Dieciseisavos de Final Bo1\n",
      "37 1900-01-01 00:00:00 1900-01-01 00:00:00 Open Fortnite 2\n",
      "41 1900-01-01 13:30:00 1900-01-01 14:00:00 Lucha de Sables\n",
      "43 1900-01-01 17:30:00 1900-01-01 19:00:00 Cosplay Concurso\n",
      "51 1900-01-01 19:00:00 1900-01-01 19:30:00 Concierto Delaossa Amazon Music\n",
      "52 1900-01-01 19:30:00 1900-01-01 21:00:00 Concierto Amazon Music\n",
      "69 1900-01-01 15:30:00 1900-01-01 16:00:00 Presentación C1b3r Wall Policia Nacional\n",
      "73 1900-01-01 10:00:00 1900-01-01 22:00:00 Perritos calientes\n",
      "74 1900-01-01 10:00:00 1900-01-01 22:00:00 Hamburguesa\n",
      "75 1900-01-01 10:00:00 1900-01-01 22:00:00 Frutos Secos\n",
      "76 1900-01-01 10:00:00 1900-01-01 22:00:00 Pizza Kebab\n",
      "77 1900-01-01 10:00:00 1900-01-01 22:00:00 Cerveceria\n",
      "78 1900-01-01 10:00:00 1900-01-01 22:00:00 Barbacoa\n",
      "79 1900-01-01 10:00:00 1900-01-01 22:00:00 Food Truck\n",
      "80 1900-01-01 10:00:00 1900-01-01 22:00:00 Starbucks Coffe\n",
      "81 1900-01-01 10:00:00 1900-01-01 22:00:00 Hard Rock\n",
      "82 1900-01-01 10:00:00 1900-01-01 22:00:00 grido\n",
      "83 1900-01-01 10:00:00 1900-01-01 22:00:00 llaollao\n",
      "84 1900-01-01 12:00:00 1900-01-01 23:00:00 Dominos pizza\n",
      "85 1900-01-01 12:00:00 1900-01-01 23:00:00 McDonal's\n",
      "86 1900-01-01 12:00:00 1900-01-01 23:00:00 KFC\n",
      "87 1900-01-01 12:00:00 1900-01-01 23:00:00 Taco Bell\n",
      "88 1900-01-01 12:00:00 1900-01-01 23:00:00 The Good Burger\n",
      "89 1900-01-01 12:00:00 1900-01-01 23:00:00 Telepizza\n",
      "90 1900-01-01 12:00:00 1900-01-01 23:00:00 Tagliatella\n",
      "91 1900-01-01 12:00:00 1900-01-01 23:00:00 Subway\n",
      "92 1900-01-01 12:00:00 1900-01-01 23:00:00 Templo de bambú\n",
      "93 1900-01-01 10:00:00 1900-01-01 21:00:00 Zona Indie\n",
      "94 1900-01-01 10:00:00 1900-01-01 21:00:00 Amazon University Esports\n",
      "95 1900-01-01 10:00:00 1900-01-01 21:00:00 Junior Esports\n",
      "96 1900-01-01 10:00:00 1900-01-01 21:00:00 Sim Racing Lenovo\n",
      "97 1900-01-01 10:00:00 1900-01-01 21:00:00 Nintendo\n",
      "98 1900-01-01 10:00:00 1900-01-01 21:00:00 Lenovo\n",
      "99 1900-01-01 10:00:00 1900-01-01 21:00:00 Universidad Francisco de Vitoria\n",
      "100 1900-01-01 10:00:00 1900-01-01 21:00:00 Logitech\n",
      "101 1900-01-01 10:00:00 1900-01-01 21:00:00 Intel\n",
      "102 1900-01-01 10:00:00 1900-01-01 21:00:00 JBL\n",
      "103 1900-01-01 10:00:00 1900-01-01 21:00:00 Microsoft\n",
      "104 1900-01-01 10:00:00 1900-01-01 21:00:00 Medion\n",
      "105 1900-01-01 10:00:00 1900-01-01 21:00:00 Red Bull\n",
      "106 1900-01-01 10:00:00 1900-01-01 21:00:00 MSI\n",
      "107 1900-01-01 10:00:00 1900-01-01 21:00:00 Zest\n",
      "108 1900-01-01 10:00:00 1900-01-01 21:00:00 Heretics\n",
      "109 1900-01-01 10:00:00 1900-01-01 21:00:00 G2\n",
      "110 1900-01-01 10:00:00 1900-01-01 21:00:00 Fnatic\n",
      "111 1900-01-01 10:00:00 1900-01-01 21:00:00 Mad Lions\n",
      "112 1900-01-01 10:00:00 1900-01-01 21:00:00 Koi\n",
      "113 1900-01-01 10:00:00 1900-01-01 21:00:00 Giants\n"
     ]
    }
   ],
   "source": [
    "# Print the selected resources including short and long duration ones\n",
    "for i in range(0,len(best_individual)):\n",
    "    if best_individual[i] == 1:\n",
    "        print(ORIGINAL_EVENTO.Código[ORIGINAL_EVENTO.index[i]], ORIGINAL_EVENTO.Hora_apertura_1[ORIGINAL_EVENTO.index[i]], ORIGINAL_EVENTO.Hora_cierre_1[ORIGINAL_EVENTO.index[i]], ORIGINAL_EVENTO.Nombre[ORIGINAL_EVENTO.index[i]])"
   ]
  },
  {
   "cell_type": "code",
   "execution_count": null,
   "id": "807b613e",
   "metadata": {},
   "outputs": [],
   "source": []
  }
 ],
 "metadata": {
  "kernelspec": {
   "display_name": "Python 3 (ipykernel)",
   "language": "python",
   "name": "python3"
  },
  "language_info": {
   "codemirror_mode": {
    "name": "ipython",
    "version": 3
   },
   "file_extension": ".py",
   "mimetype": "text/x-python",
   "name": "python",
   "nbconvert_exporter": "python",
   "pygments_lexer": "ipython3",
   "version": "3.9.7"
  }
 },
 "nbformat": 4,
 "nbformat_minor": 5
}
