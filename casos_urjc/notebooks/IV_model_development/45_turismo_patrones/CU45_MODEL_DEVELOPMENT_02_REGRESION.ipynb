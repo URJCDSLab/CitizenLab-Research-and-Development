{
 "cells": [
  {
   "attachments": {},
   "cell_type": "markdown",
   "metadata": {
    "slideshow": {
     "slide_type": "slide"
    }
   },
   "source": [
    "\n",
    "# <center><font color= #F08080 > <b>CU45_Planificación y promoción del destino en base a los patrones en origen de los turistas</font></center>"
   ]
  },
  {
   "attachments": {},
   "cell_type": "markdown",
   "metadata": {
    "heading_collapsed": true
   },
   "source": [
    "#  <font color='green'>IV. Model development</font>\n",
    "\n",
    "En este anexo se incluye el código utilizado durante el desarrollo \n",
    "de los modelos incluidos en el caso de uso."
   ]
  },
  {
   "attachments": {},
   "cell_type": "markdown",
   "metadata": {},
   "source": [
    "## Modelo REGRESION\n",
    "\n"
   ]
  },
  {
   "attachments": {},
   "cell_type": "markdown",
   "metadata": {},
   "source": [
    "### Encoding"
   ]
  },
  {
   "cell_type": "code",
   "execution_count": 1,
   "metadata": {
    "vscode": {
     "languageId": "r"
    }
   },
   "outputs": [
    {
     "data": {
      "text/html": [
       "'es_ES.UTF-8/es_ES.UTF-8/es_ES.UTF-8/C/es_ES.UTF-8/C'"
      ],
      "text/latex": [
       "'es\\_ES.UTF-8/es\\_ES.UTF-8/es\\_ES.UTF-8/C/es\\_ES.UTF-8/C'"
      ],
      "text/markdown": [
       "'es_ES.UTF-8/es_ES.UTF-8/es_ES.UTF-8/C/es_ES.UTF-8/C'"
      ],
      "text/plain": [
       "[1] \"es_ES.UTF-8/es_ES.UTF-8/es_ES.UTF-8/C/es_ES.UTF-8/C\""
      ]
     },
     "metadata": {},
     "output_type": "display_data"
    }
   ],
   "source": [
    "Sys.setlocale(category = \"LC_ALL\", locale = \"es_ES.UTF-8\")"
   ]
  },
  {
   "attachments": {},
   "cell_type": "markdown",
   "metadata": {},
   "source": [
    "### Paquetes"
   ]
  },
  {
   "cell_type": "code",
   "execution_count": 2,
   "metadata": {
    "vscode": {
     "languageId": "r"
    }
   },
   "outputs": [
    {
     "name": "stderr",
     "output_type": "stream",
     "text": [
      "\n",
      "Attaching package: ‘dplyr’\n",
      "\n",
      "\n",
      "The following objects are masked from ‘package:stats’:\n",
      "\n",
      "    filter, lag\n",
      "\n",
      "\n",
      "The following objects are masked from ‘package:base’:\n",
      "\n",
      "    intersect, setdiff, setequal, union\n",
      "\n",
      "\n",
      "\n",
      "Attaching package: ‘janitor’\n",
      "\n",
      "\n",
      "The following objects are masked from ‘package:stats’:\n",
      "\n",
      "    chisq.test, fisher.test\n",
      "\n",
      "\n",
      "Loading required package: carData\n",
      "\n",
      "lattice theme set by effectsTheme()\n",
      "See ?effectsTheme for details.\n",
      "\n"
     ]
    }
   ],
   "source": [
    "\n",
    "\n",
    "library(readr)\n",
    "library(dplyr)\n",
    "library(tidyr)\n",
    "library(nnet)\n",
    "library(janitor)\n",
    "library(purrr)\n",
    "library(effects)\n",
    "\n"
   ]
  },
  {
   "attachments": {},
   "cell_type": "markdown",
   "metadata": {},
   "source": [
    "### Datos"
   ]
  },
  {
   "cell_type": "code",
   "execution_count": 3,
   "metadata": {
    "vscode": {
     "languageId": "r"
    }
   },
   "outputs": [
    {
     "name": "stderr",
     "output_type": "stream",
     "text": [
      "\u001b[1mRows: \u001b[22m\u001b[34m563\u001b[39m \u001b[1mColumns: \u001b[22m\u001b[34m26\u001b[39m\n",
      "\u001b[36m──\u001b[39m \u001b[1mColumn specification\u001b[22m \u001b[36m────────────────────────────────────────────────────────\u001b[39m\n",
      "\u001b[1mDelimiter:\u001b[22m \",\"\n",
      "\u001b[31mchr\u001b[39m  (1): mun_dest\n",
      "\u001b[32mdbl\u001b[39m (25): anyo, receptor, Andalucía, Aragón, Asturias, Principado de, Balear...\n",
      "\n",
      "\u001b[36mℹ\u001b[39m Use `spec()` to retrieve the full column specification for this data.\n",
      "\u001b[36mℹ\u001b[39m Specify the column types or set `show_col_types = FALSE` to quiet this message.\n"
     ]
    }
   ],
   "source": [
    "## ESCENARIO PARA REGRESIÓN\n",
    "library(readr)\n",
    "library(dplyr)\n",
    "set.seed(1)\n",
    "\n",
    "cluster_anyos <- read_csv(\"cluster_anyos.csv\")\n",
    "\n",
    "escenario <- slice_sample(cluster_anyos, n = 1) |> \n",
    "  select(-c(anyo, mun_dest, cluster))\n",
    "\n",
    "write_csv(escenario, \"ESCENARIO_REG.csv\")"
   ]
  },
  {
   "cell_type": "code",
   "execution_count": 4,
   "metadata": {
    "vscode": {
     "languageId": "r"
    }
   },
   "outputs": [
    {
     "name": "stderr",
     "output_type": "stream",
     "text": [
      "\u001b[1mRows: \u001b[22m\u001b[34m563\u001b[39m \u001b[1mColumns: \u001b[22m\u001b[34m26\u001b[39m\n",
      "\u001b[36m──\u001b[39m \u001b[1mColumn specification\u001b[22m \u001b[36m────────────────────────────────────────────────────────\u001b[39m\n",
      "\u001b[1mDelimiter:\u001b[22m \",\"\n",
      "\u001b[31mchr\u001b[39m  (1): mun_dest\n",
      "\u001b[32mdbl\u001b[39m (25): anyo, receptor, Andalucía, Aragón, Asturias, Principado de, Balear...\n",
      "\n",
      "\u001b[36mℹ\u001b[39m Use `spec()` to retrieve the full column specification for this data.\n",
      "\u001b[36mℹ\u001b[39m Specify the column types or set `show_col_types = FALSE` to quiet this message.\n",
      "\u001b[1mRows: \u001b[22m\u001b[34m1\u001b[39m \u001b[1mColumns: \u001b[22m\u001b[34m23\u001b[39m\n",
      "\u001b[36m──\u001b[39m \u001b[1mColumn specification\u001b[22m \u001b[36m────────────────────────────────────────────────────────\u001b[39m\n",
      "\u001b[1mDelimiter:\u001b[22m \",\"\n",
      "\u001b[32mdbl\u001b[39m (23): receptor, Andalucía, Aragón, Asturias, Principado de, Balears, Ill...\n",
      "\n",
      "\u001b[36mℹ\u001b[39m Use `spec()` to retrieve the full column specification for this data.\n",
      "\u001b[36mℹ\u001b[39m Specify the column types or set `show_col_types = FALSE` to quiet this message.\n"
     ]
    }
   ],
   "source": [
    "cluster_anyos <- read_csv(\"cluster_anyos.csv\")\n",
    "escenario <- read_csv(\"ESCENARIO_REG.csv\")  |> \n",
    "  clean_names()\n",
    "\n",
    "\n",
    "\n"
   ]
  },
  {
   "attachments": {},
   "cell_type": "markdown",
   "metadata": {},
   "source": [
    "### Modelo"
   ]
  },
  {
   "cell_type": "code",
   "execution_count": 5,
   "metadata": {
    "vscode": {
     "languageId": "r"
    }
   },
   "outputs": [
    {
     "name": "stdout",
     "output_type": "stream",
     "text": [
      "# weights:  100 (72 variable)\n",
      "initial  value 194.081211 \n",
      "iter  10 value 97.892280\n",
      "iter  20 value 89.936309\n",
      "iter  30 value 88.536313\n",
      "iter  40 value 83.257367\n",
      "iter  50 value 51.527054\n",
      "iter  60 value 46.869544\n",
      "iter  70 value 14.247652\n",
      "iter  80 value 0.575289\n",
      "iter  90 value 0.002386\n",
      "final  value 0.000088 \n",
      "converged\n"
     ]
    },
    {
     "data": {
      "text/html": [
       "<table class=\"dataframe\">\n",
       "<caption>A matrix: 3 x 24 of type dbl</caption>\n",
       "<thead>\n",
       "\t<tr><th></th><th scope=col>(Intercept)</th><th scope=col>receptor</th><th scope=col>andalucia</th><th scope=col>aragon</th><th scope=col>asturias_principado_de</th><th scope=col>balears_illes</th><th scope=col>canarias</th><th scope=col>cantabria</th><th scope=col>castilla_la_mancha</th><th scope=col>castilla_y_leon</th><th scope=col>...</th><th scope=col>galicia</th><th scope=col>madrid_comunidad_de</th><th scope=col>melilla</th><th scope=col>murcia_region_de</th><th scope=col>navarra_comunidad_foral_de</th><th scope=col>pais_vasco</th><th scope=col>rioja_la</th><th scope=col>comercio</th><th scope=col>hosteleria</th><th scope=col>turismo</th></tr>\n",
       "</thead>\n",
       "<tbody>\n",
       "\t<tr><th scope=row>2</th><td> 70.60145</td><td>-0.009846724</td><td>-0.004667775</td><td> 0.023206027</td><td> 0.018808361</td><td>-0.05229046</td><td>-0.06989979</td><td>0.044138554</td><td>0.01040823</td><td>0.01312161</td><td>...</td><td>-0.018450570</td><td>0.06715088</td><td>0.4618999</td><td> 0.01605383</td><td>-0.1462944</td><td>-0.010937275</td><td>0.2594449</td><td>23.51693</td><td>-19.82928</td><td> -9.610353</td></tr>\n",
       "\t<tr><th scope=row>3</th><td>-20.72793</td><td>-0.003745032</td><td>-0.010998364</td><td> 0.011203246</td><td> 0.004108677</td><td> 0.05150784</td><td>-0.03064373</td><td>0.002728463</td><td>0.01053692</td><td>0.01263630</td><td>...</td><td> 0.004190579</td><td>0.01831319</td><td>0.4995026</td><td>-0.03116284</td><td>-0.1217634</td><td>-0.008649544</td><td>0.1982993</td><td>34.14777</td><td>-19.70135</td><td> -5.548731</td></tr>\n",
       "\t<tr><th scope=row>4</th><td>-54.72024</td><td>-0.003717105</td><td>-0.006535500</td><td>-0.004476815</td><td>-0.007850345</td><td> 0.11235300</td><td>-0.01391822</td><td>0.034147265</td><td>0.01918690</td><td>0.01958491</td><td>...</td><td> 0.019180315</td><td>0.08303424</td><td>0.5204859</td><td>-0.02431777</td><td>-0.2912980</td><td>-0.017052194</td><td>0.3061905</td><td>43.38130</td><td>-35.68841</td><td>-10.766780</td></tr>\n",
       "</tbody>\n",
       "</table>\n"
      ],
      "text/latex": [
       "A matrix: 3 x 24 of type dbl\n",
       "\\begin{tabular}{r|lllllllllllllllllllll}\n",
       "  & (Intercept) & receptor & andalucia & aragon & asturias\\_principado\\_de & balears\\_illes & canarias & cantabria & castilla\\_la\\_mancha & castilla\\_y\\_leon & ... & galicia & madrid\\_comunidad\\_de & melilla & murcia\\_region\\_de & navarra\\_comunidad\\_foral\\_de & pais\\_vasco & rioja\\_la & comercio & hosteleria & turismo\\\\\n",
       "\\hline\n",
       "\t2 &  70.60145 & -0.009846724 & -0.004667775 &  0.023206027 &  0.018808361 & -0.05229046 & -0.06989979 & 0.044138554 & 0.01040823 & 0.01312161 & ... & -0.018450570 & 0.06715088 & 0.4618999 &  0.01605383 & -0.1462944 & -0.010937275 & 0.2594449 & 23.51693 & -19.82928 &  -9.610353\\\\\n",
       "\t3 & -20.72793 & -0.003745032 & -0.010998364 &  0.011203246 &  0.004108677 &  0.05150784 & -0.03064373 & 0.002728463 & 0.01053692 & 0.01263630 & ... &  0.004190579 & 0.01831319 & 0.4995026 & -0.03116284 & -0.1217634 & -0.008649544 & 0.1982993 & 34.14777 & -19.70135 &  -5.548731\\\\\n",
       "\t4 & -54.72024 & -0.003717105 & -0.006535500 & -0.004476815 & -0.007850345 &  0.11235300 & -0.01391822 & 0.034147265 & 0.01918690 & 0.01958491 & ... &  0.019180315 & 0.08303424 & 0.5204859 & -0.02431777 & -0.2912980 & -0.017052194 & 0.3061905 & 43.38130 & -35.68841 & -10.766780\\\\\n",
       "\\end{tabular}\n"
      ],
      "text/markdown": [
       "\n",
       "A matrix: 3 x 24 of type dbl\n",
       "\n",
       "| <!--/--> | (Intercept) | receptor | andalucia | aragon | asturias_principado_de | balears_illes | canarias | cantabria | castilla_la_mancha | castilla_y_leon | ... | galicia | madrid_comunidad_de | melilla | murcia_region_de | navarra_comunidad_foral_de | pais_vasco | rioja_la | comercio | hosteleria | turismo |\n",
       "|---|---|---|---|---|---|---|---|---|---|---|---|---|---|---|---|---|---|---|---|---|---|\n",
       "| 2 |  70.60145 | -0.009846724 | -0.004667775 |  0.023206027 |  0.018808361 | -0.05229046 | -0.06989979 | 0.044138554 | 0.01040823 | 0.01312161 | ... | -0.018450570 | 0.06715088 | 0.4618999 |  0.01605383 | -0.1462944 | -0.010937275 | 0.2594449 | 23.51693 | -19.82928 |  -9.610353 |\n",
       "| 3 | -20.72793 | -0.003745032 | -0.010998364 |  0.011203246 |  0.004108677 |  0.05150784 | -0.03064373 | 0.002728463 | 0.01053692 | 0.01263630 | ... |  0.004190579 | 0.01831319 | 0.4995026 | -0.03116284 | -0.1217634 | -0.008649544 | 0.1982993 | 34.14777 | -19.70135 |  -5.548731 |\n",
       "| 4 | -54.72024 | -0.003717105 | -0.006535500 | -0.004476815 | -0.007850345 |  0.11235300 | -0.01391822 | 0.034147265 | 0.01918690 | 0.01958491 | ... |  0.019180315 | 0.08303424 | 0.5204859 | -0.02431777 | -0.2912980 | -0.017052194 | 0.3061905 | 43.38130 | -35.68841 | -10.766780 |\n",
       "\n"
      ],
      "text/plain": [
       "  (Intercept) receptor     andalucia    aragon       asturias_principado_de\n",
       "2  70.60145   -0.009846724 -0.004667775  0.023206027  0.018808361          \n",
       "3 -20.72793   -0.003745032 -0.010998364  0.011203246  0.004108677          \n",
       "4 -54.72024   -0.003717105 -0.006535500 -0.004476815 -0.007850345          \n",
       "  balears_illes canarias    cantabria   castilla_la_mancha castilla_y_leon ...\n",
       "2 -0.05229046   -0.06989979 0.044138554 0.01040823         0.01312161      ...\n",
       "3  0.05150784   -0.03064373 0.002728463 0.01053692         0.01263630      ...\n",
       "4  0.11235300   -0.01391822 0.034147265 0.01918690         0.01958491      ...\n",
       "  galicia      madrid_comunidad_de melilla   murcia_region_de\n",
       "2 -0.018450570 0.06715088          0.4618999  0.01605383     \n",
       "3  0.004190579 0.01831319          0.4995026 -0.03116284     \n",
       "4  0.019180315 0.08303424          0.5204859 -0.02431777     \n",
       "  navarra_comunidad_foral_de pais_vasco   rioja_la  comercio hosteleria\n",
       "2 -0.1462944                 -0.010937275 0.2594449 23.51693 -19.82928 \n",
       "3 -0.1217634                 -0.008649544 0.1982993 34.14777 -19.70135 \n",
       "4 -0.2912980                 -0.017052194 0.3061905 43.38130 -35.68841 \n",
       "  turismo   \n",
       "2  -9.610353\n",
       "3  -5.548731\n",
       "4 -10.766780"
      ]
     },
     "metadata": {},
     "output_type": "display_data"
    },
    {
     "data": {
      "text/html": [
       "<style>\n",
       ".dl-inline {width: auto; margin:0; padding: 0}\n",
       ".dl-inline>dt, .dl-inline>dd {float: none; width: auto; display: inline-block}\n",
       ".dl-inline>dt::after {content: \":\\0020\"; padding-right: .5ex}\n",
       ".dl-inline>dt:not(:first-of-type) {padding-left: .5ex}\n",
       "</style><dl class=dl-inline><dt>1</dt><dd>7.41445366524603e-68</dd><dt>2</dt><dd>1</dd><dt>3</dt><dd>1.34345055340044e-57</dd><dt>4</dt><dd>1.21341562016808e-61</dd></dl>\n"
      ],
      "text/latex": [
       "\\begin{description*}\n",
       "\\item[1] 7.41445366524603e-68\n",
       "\\item[2] 1\n",
       "\\item[3] 1.34345055340044e-57\n",
       "\\item[4] 1.21341562016808e-61\n",
       "\\end{description*}\n"
      ],
      "text/markdown": [
       "1\n",
       ":   7.41445366524603e-682\n",
       ":   13\n",
       ":   1.34345055340044e-574\n",
       ":   1.21341562016808e-61\n",
       "\n"
      ],
      "text/plain": [
       "           1            2            3            4 \n",
       "7.414454e-68 1.000000e+00 1.343451e-57 1.213416e-61 "
      ]
     },
     "metadata": {},
     "output_type": "display_data"
    },
    {
     "data": {
      "text/html": [
       "2\n",
       "<details>\n",
       "\t<summary style=display:list-item;cursor:pointer>\n",
       "\t\t<strong>Levels</strong>:\n",
       "\t</summary>\n",
       "\t<style>\n",
       "\t.list-inline {list-style: none; margin:0; padding: 0}\n",
       "\t.list-inline>li {display: inline-block}\n",
       "\t.list-inline>li:not(:last-child)::after {content: \"\\00b7\"; padding: 0 .5ex}\n",
       "\t</style>\n",
       "\t<ol class=list-inline><li>'1'</li><li>'2'</li><li>'3'</li><li>'4'</li></ol>\n",
       "</details>"
      ],
      "text/latex": [
       "2\n",
       "\\emph{Levels}: \\begin{enumerate*}\n",
       "\\item '1'\n",
       "\\item '2'\n",
       "\\item '3'\n",
       "\\item '4'\n",
       "\\end{enumerate*}\n"
      ],
      "text/markdown": [
       "2\n",
       "**Levels**: 1. '1'\n",
       "2. '2'\n",
       "3. '3'\n",
       "4. '4'\n",
       "\n",
       "\n"
      ],
      "text/plain": [
       "[1] 2\n",
       "Levels: 1 2 3 4"
      ]
     },
     "metadata": {},
     "output_type": "display_data"
    }
   ],
   "source": [
    "ANYO <- max(cluster_anyos$anyo)\n",
    "\n",
    "options(contrasts = c(\"contr.sum\", \"contr.poly\")) \n",
    "m <- cluster_anyos |>\n",
    "  filter(anyo == ANYO) |> \n",
    "  select(-c(anyo, mun_dest)) |> \n",
    "  clean_names() |> \n",
    "  multinom(cluster ~ ., data = _)\n",
    "\n",
    "## Coeficientes\n",
    "\n",
    "coef(m)\n",
    "# m$coefnames[-1] |> \n",
    "#   set_names() |> \n",
    "#   map_dfc(~effect(.x, m) |> \n",
    "#         pluck(\"x\"))\n",
    "\n",
    "# kk <- effects::effect(\"receptor\", m) \n",
    "\n",
    "## Predicción escenario\n",
    "predict(m, escenario, type = \"prob\")\n",
    "predict(m, escenario)"
   ]
  }
 ],
 "metadata": {
  "anaconda-cloud": {},
  "celltoolbar": "Slideshow",
  "hide_input": false,
  "kernelspec": {
   "display_name": "R",
   "language": "R",
   "name": "ir"
  },
  "language_info": {
   "codemirror_mode": "r",
   "file_extension": ".r",
   "mimetype": "text/x-r-source",
   "name": "R",
   "pygments_lexer": "r",
   "version": "4.2.3"
  },
  "latex_envs": {
   "LaTeX_envs_menu_present": true,
   "autoclose": false,
   "autocomplete": true,
   "bibliofile": "biblio.bib",
   "cite_by": "apalike",
   "current_citInitial": 1,
   "eqLabelWithNumbers": true,
   "eqNumInitial": 1,
   "hotkeys": {
    "equation": "Ctrl-E",
    "itemize": "Ctrl-I"
   },
   "labels_anchors": false,
   "latex_user_defs": false,
   "report_style_numbering": true,
   "user_envs_cfg": false
  },
  "varInspector": {
   "cols": {
    "lenName": 16,
    "lenType": 16,
    "lenVar": 40
   },
   "kernels_config": {
    "python": {
     "delete_cmd_postfix": "",
     "delete_cmd_prefix": "del ",
     "library": "var_list.py",
     "varRefreshCmd": "print(var_dic_list())"
    },
    "r": {
     "delete_cmd_postfix": ") ",
     "delete_cmd_prefix": "rm(",
     "library": "var_list.r",
     "varRefreshCmd": "cat(var_dic_list()) "
    }
   },
   "types_to_exclude": [
    "module",
    "function",
    "builtin_function_or_method",
    "instance",
    "_Feature"
   ],
   "window_display": false
  },
  "widgets": {
   "application/vnd.jupyter.widget-state+json": {
    "state": {},
    "version_major": 2,
    "version_minor": 0
   }
  }
 },
 "nbformat": 4,
 "nbformat_minor": 1
}
