{
 "cells": [
  {
   "attachments": {},
   "cell_type": "markdown",
   "metadata": {
    "slideshow": {
     "slide_type": "slide"
    }
   },
   "source": [
    "\n",
    "# <center><font color= #F08080 > <b>CU45_Planificación y promoción del destino en base a los patrones en origen de los turistas</font></center>"
   ]
  },
  {
   "attachments": {},
   "cell_type": "markdown",
   "metadata": {
    "heading_collapsed": true
   },
   "source": [
    "#  <font color='green'>IV. Model development</font>\n",
    "\n",
    "En este anexo se incluye el código utilizado durante el desarrollo \n",
    "de los modelos incluidos en el caso de uso."
   ]
  },
  {
   "attachments": {},
   "cell_type": "markdown",
   "metadata": {},
   "source": [
    "## Modelo CLUSTER\n",
    "\n"
   ]
  },
  {
   "attachments": {},
   "cell_type": "markdown",
   "metadata": {},
   "source": [
    "### Paquetes"
   ]
  },
  {
   "cell_type": "code",
   "execution_count": 1,
   "metadata": {
    "vscode": {
     "languageId": "r"
    }
   },
   "outputs": [
    {
     "name": "stderr",
     "output_type": "stream",
     "text": [
      "\n",
      "Attaching package: 'dplyr'\n",
      "\n",
      "\n",
      "The following objects are masked from 'package:stats':\n",
      "\n",
      "    filter, lag\n",
      "\n",
      "\n",
      "The following objects are masked from 'package:base':\n",
      "\n",
      "    intersect, setdiff, setequal, union\n",
      "\n",
      "\n"
     ]
    }
   ],
   "source": [
    "\n",
    "\n",
    "library(readr)\n",
    "library(dplyr)\n",
    "library(tidyr)\n",
    "library(stringr)\n",
    "library(purrr)\n",
    "library(tibble)\n",
    "\n"
   ]
  },
  {
   "attachments": {},
   "cell_type": "markdown",
   "metadata": {},
   "source": [
    "### Datos"
   ]
  },
  {
   "cell_type": "code",
   "execution_count": 2,
   "metadata": {
    "vscode": {
     "languageId": "r"
    }
   },
   "outputs": [
    {
     "name": "stderr",
     "output_type": "stream",
     "text": [
      "\u001b[1mRows: \u001b[22m\u001b[34m50294\u001b[39m \u001b[1mColumns: \u001b[22m\u001b[34m7\u001b[39m\n",
      "\u001b[36m--\u001b[39m \u001b[1mColumn specification\u001b[22m \u001b[36m--------------------------------------------------------\u001b[39m\n",
      "\u001b[1mDelimiter:\u001b[22m \",\"\n",
      "\u001b[31mchr\u001b[39m (5): mes, pais_orig_cod, pais_orig, mun_dest, CMUN\n",
      "\u001b[32mdbl\u001b[39m (2): mun_dest_cod, turistas\n",
      "\n",
      "\u001b[36mi\u001b[39m Use `spec()` to retrieve the full column specification for this data.\n",
      "\u001b[36mi\u001b[39m Specify the column types or set `show_col_types = FALSE` to quiet this message.\n",
      "\u001b[1mRows: \u001b[22m\u001b[34m521280\u001b[39m \u001b[1mColumns: \u001b[22m\u001b[34m8\u001b[39m\n",
      "\u001b[36m--\u001b[39m \u001b[1mColumn specification\u001b[22m \u001b[36m--------------------------------------------------------\u001b[39m\n",
      "\u001b[1mDelimiter:\u001b[22m \",\"\n",
      "\u001b[31mchr\u001b[39m (6): total_nacional, total_ccaa, provincia, municipio_destino, cmun, mes\n",
      "\u001b[32mdbl\u001b[39m (2): turistas, secreto\n",
      "\n",
      "\u001b[36mi\u001b[39m Use `spec()` to retrieve the full column specification for this data.\n",
      "\u001b[36mi\u001b[39m Specify the column types or set `show_col_types = FALSE` to quiet this message.\n",
      "\u001b[1mRows: \u001b[22m\u001b[34m79246\u001b[39m \u001b[1mColumns: \u001b[22m\u001b[34m10\u001b[39m\n",
      "\u001b[36m--\u001b[39m \u001b[1mColumn specification\u001b[22m \u001b[36m--------------------------------------------------------\u001b[39m\n",
      "\u001b[1mDelimiter:\u001b[22m \",\"\n",
      "\u001b[31mchr\u001b[39m (7): mes, mun_orig_cod, mun_orig, dest, prov_orig_cod, prov_orig, prov_dest\n",
      "\u001b[32mdbl\u001b[39m (3): dest_cod, turistas, prov_dest_cod\n",
      "\n",
      "\u001b[36mi\u001b[39m Use `spec()` to retrieve the full column specification for this data.\n",
      "\u001b[36mi\u001b[39m Specify the column types or set `show_col_types = FALSE` to quiet this message.\n",
      "\u001b[1mRows: \u001b[22m\u001b[34m24780\u001b[39m \u001b[1mColumns: \u001b[22m\u001b[34m9\u001b[39m\n",
      "\u001b[36m--\u001b[39m \u001b[1mColumn specification\u001b[22m \u001b[36m--------------------------------------------------------\u001b[39m\n",
      "\u001b[1mDelimiter:\u001b[22m \",\"\n",
      "\u001b[31mchr\u001b[39m (5): grupo, tipo, nombre, CMUN, CDIS\n",
      "\u001b[32mdbl\u001b[39m (4): X, Y, t3_1, puntos\n",
      "\n",
      "\u001b[36mi\u001b[39m Use `spec()` to retrieve the full column specification for this data.\n",
      "\u001b[36mi\u001b[39m Specify the column types or set `show_col_types = FALSE` to quiet this message.\n"
     ]
    }
   ],
   "source": [
    "receptor <- read_csv(\"CU_45_05_03_receptor.csv\")\n",
    "interno_prov <- read_csv(\"CU_45_05_04_interno_prov.csv\")\n",
    "interno_muni <- read_csv(\"CU_45_05_05_interno_mun.csv\")\n",
    "valoraciones <- read_csv(\"CU_45_05_02_valoracion_sim.csv\")\n",
    "\n"
   ]
  },
  {
   "attachments": {},
   "cell_type": "markdown",
   "metadata": {},
   "source": [
    "### Clustering"
   ]
  },
  {
   "cell_type": "code",
   "execution_count": 3,
   "metadata": {
    "vscode": {
     "languageId": "r"
    }
   },
   "outputs": [
    {
     "name": "stderr",
     "output_type": "stream",
     "text": [
      "\u001b[1m\u001b[22m`summarise()` has grouped output by 'anyo'. You can override using the\n",
      "`.groups` argument.\n"
     ]
    },
    {
     "data": {
      "text/plain": [
       "K-means clustering with 10 clusters of sizes 11, 18, 11, 15, 3, 14, 36, 10, 25, 1\n",
       "\n",
       "Cluster means:\n",
       "       receptor        Andaluc<U+00ED>a        Arag<U+00F3>n Asturias, Principado de\n",
       "1    12363.3636       2526.46145  1083.2727273             1379.272727\n",
       "2      770.1111        344.38889    42.4444444               42.500000\n",
       "3     5386.8182       3373.94927   603.7272727              921.000000\n",
       "4     1802.0667       1085.13333   236.6000000              257.333333\n",
       "5    47009.3333         28.35633  2794.3226667             3549.771667\n",
       "6    23805.7143         15.82829  2393.6428571             2870.594786\n",
       "7      398.8611        102.11111     0.9166667                1.944444\n",
       "8     2002.8000       1130.40000   207.0000000              133.700000\n",
       "9     1167.8800        765.20000    52.2400000               91.720000\n",
       "10 2602822.0000        854.18400   163.6530000              177.368000\n",
       "   Balears, Illes     Canarias   Cantabria Castilla - La Mancha\n",
       "1     690.1818182  877.8181818  745.545455             345.2752\n",
       "2       3.8333333    8.0555556    6.166667            2715.7839\n",
       "3     342.0000000  369.8181818  438.727273            1509.8508\n",
       "4      49.2666667   89.4666667   71.333333            1325.8213\n",
       "5    2494.0000000 3410.3333333 2808.666667             114.6107\n",
       "6    1364.4285714 1828.2142857 1568.642857              52.9965\n",
       "7       0.9166667    0.8888889    4.861111             584.0551\n",
       "8      18.4000000   42.8000000   62.000000            3987.8337\n",
       "9      11.4400000   33.0400000   25.200000             506.6774\n",
       "10    125.8520000  186.8080000   88.249000            1183.6420\n",
       "          Castilla y Le<U+00F3>n        Catalu<U+00F1>a      Ceuta Comunitat Valenciana\n",
       "1              2539.13891     2812.545455   0.000000           2367.62164\n",
       "2               328.95411      145.500000   0.000000            330.33333\n",
       "3              2826.46864     1411.454545   2.818182           2899.91318\n",
       "4              2372.66667      555.733333   0.000000            892.73333\n",
       "5                22.09633       13.736667 202.000000             21.26500\n",
       "6               531.52129     1841.078357  34.714286            191.22450\n",
       "7               217.25722        8.777778   0.000000             79.13889\n",
       "8               756.10000      500.400000   0.000000           1406.50000\n",
       "9               707.72000      240.960000   0.000000            627.32000\n",
       "10              738.77200      525.048000 712.229000            615.44900\n",
       "   Extremadura     Galicia Madrid, Comunidad de   Melilla\n",
       "1   1708.63636 2796.727273              0.00000  12.90909\n",
       "2     48.88889  100.055556              0.00000   0.00000\n",
       "3   1421.90909 1612.454545             91.63636  13.27273\n",
       "4    269.26667  526.400000              0.00000   0.00000\n",
       "5   1647.49900  641.107000              0.00000 152.66667\n",
       "6   2114.36114 2554.543000              0.00000  67.21429\n",
       "7     11.61111    8.472222              0.00000   0.00000\n",
       "8    256.30000  386.700000              0.00000   0.00000\n",
       "9    217.96000  201.680000              0.00000   0.00000\n",
       "10   204.37200  354.562000              0.00000 969.50800\n",
       "          Murcia, Regi<U+00F3>n de Navarra, Comunidad Foral de        Pa<U+00ED>s Vasco\n",
       "1               1464.272727                 425.6363636        1533.72727\n",
       "2                 27.333333                   1.7777778          77.61111\n",
       "3                741.000000                 184.0000000         792.00000\n",
       "4                178.733333                  31.5333333         264.46667\n",
       "5               1708.727333                1888.3333333        2603.97867\n",
       "6               3160.080857                 953.5000000        2727.36486\n",
       "7                  6.416667                   0.8888889          19.97222\n",
       "8                353.300000                  11.0000000         293.50000\n",
       "9                 91.560000                   2.5200000         146.12000\n",
       "10               163.752000                  85.4480000         244.09300\n",
       "     Rioja, La comercio hosteleria  turismo\n",
       "1   271.727273 2.909091   2.818182 2.909091\n",
       "2     0.000000 2.750000   2.833333 3.055556\n",
       "3    64.181818 2.772727   3.090909 3.045455\n",
       "4     8.133333 3.533333   3.000000 2.966667\n",
       "5  1210.000000 3.000000   3.000000 2.500000\n",
       "6   582.571429 3.142857   3.142857 3.178571\n",
       "7     0.000000 3.250000   3.486111 2.916667\n",
       "8     6.100000 3.000000   3.050000 2.800000\n",
       "9     1.240000 3.120000   3.240000 2.880000\n",
       "10   46.747000 4.000000   4.000000 4.000000\n",
       "\n",
       "Clustering vector:\n",
       "                      Ajalvir      Alcal<U+00E1> de Henares \n",
       "                            8                             5 \n",
       "                   Alcobendas               Alcorc<U+00F3>n \n",
       "                            5                             6 \n",
       "             Aldea del Fresno                        Algete \n",
       "                            7                             3 \n",
       "                    Alpedrete                        Ambite \n",
       "                            4                             2 \n",
       "                     Aranjuez               Arganda del Rey \n",
       "                            1                             1 \n",
       "                Arroyomolinos                    Atazar, El \n",
       "                            3                             7 \n",
       "        Becerril de la Sierra                  Berrueco, El \n",
       "                            9                             7 \n",
       "           Boadilla del Monte                     Boalo, El \n",
       "                            1                             9 \n",
       "                      Brunete           Buitrago del Lozoya \n",
       "                            4                             9 \n",
       "                  Bustarviejo                   Cabrera, La \n",
       "                            2                             2 \n",
       "       Cadalso de los Vidrios         Camarma de Esteruelas \n",
       "                            4                             9 \n",
       "                   Campo Real               Caraba<U+00F1>a \n",
       "                            9                             7 \n",
       "                Casarrubuelos                    Cercedilla \n",
       "                            9                             4 \n",
       "              Chinch<U+00F3>n                  Ciempozuelos \n",
       "                            8                             1 \n",
       "                Cobe<U+00F1>a               Collado Mediano \n",
       "                            2                             4 \n",
       "             Collado Villalba                Colmenar Viejo \n",
       "                            1                             1 \n",
       "            Colmenar de Oreja           Colmenar del Arroyo \n",
       "                            9                             7 \n",
       "                  Colmenarejo                       Coslada \n",
       "                            9                             6 \n",
       "            Cubas de la Sagra             Daganzo de Arriba \n",
       "                            9                             8 \n",
       "                 Escorial, El      Fresnedillas de la Oliva \n",
       "                            3                             7 \n",
       "             Fresno de Torote                   Fuenlabrada \n",
       "                            2                             6 \n",
       "      Fuente el Saz de Jarama    Fuentidue<U+00F1>a de Tajo \n",
       "                            9                             2 \n",
       "                    Galapagar        Garganta de los Montes \n",
       "                            3                             7 \n",
       "                       Getafe          Gri<U+00F1><U+00F3>n \n",
       "                            5                             9 \n",
       "        Guadalix de la Sierra                    Guadarrama \n",
       "                            9                             3 \n",
       "  Horcajo de la Sierra-Aoslos            Hoyo de Manzanares \n",
       "                            9                             9 \n",
       "            Humanes de Madrid                Legan<U+00E9>s \n",
       "                            3                             6 \n",
       "                      Loeches                        Lozoya \n",
       "                            8                             7 \n",
       "Lozoyuela-Navas-Sieteiglesias                        Madrid \n",
       "                            9                            10 \n",
       "                  Majadahonda            Manzanares el Real \n",
       "                            6                             9 \n",
       "                         Meco            Mejorada del Campo \n",
       "                            4                             3 \n",
       "      Miraflores de la Sierra                     Molar, El \n",
       "                            2                             4 \n",
       "                 Molinos, Los          Montejo de la Sierra \n",
       "                            9                             7 \n",
       "          Moraleja de Enmedio                   Moralzarzal \n",
       "                            9                             4 \n",
       "      Morata de Taju<U+00F1>a               M<U+00F3>stoles \n",
       "                            2                             6 \n",
       "                  Navacerrada                  Navalafuente \n",
       "                            9                             7 \n",
       "                Navalagamella                  Navalcarnero \n",
       "                            7                             3 \n",
       "                Navas del Rey           Nuevo Bazt<U+00E1>n \n",
       "                            7                             2 \n",
       "        Paracuellos de Jarama                         Parla \n",
       "                            1                             6 \n",
       "                      Patones                    Pedrezuela \n",
       "                            2                             7 \n",
       "          Pelayos de la Presa      Perales de Taju<U+00F1>a \n",
       "                            4                             8 \n",
       "        Pezuela de las Torres                         Pinto \n",
       "                            7                             6 \n",
       "    Pozuelo de Alarc<U+00F3>n               Pozuelo del Rey \n",
       "                            6                             7 \n",
       "Pr<U+00E1>dena del Rinc<U+00F3>n           Puebla de la Sierra \n",
       "                            7                             7 \n",
       "               Puentes Viejas                      Quijorna \n",
       "                            9                             7 \n",
       "             Rascafr<U+00ED>a                Redue<U+00F1>a \n",
       "                            4                             7 \n",
       "                   Ribatejada             Rivas-Vaciamadrid \n",
       "                            7                             1 \n",
       "        Robledillo de la Jara            Robledo de Chavela \n",
       "                            7                             4 \n",
       "         Rozas de Madrid, Las          Rozas de Puerto Real \n",
       "                            6                             7 \n",
       "San Agust<U+00ED>n del Guadalix       San Fernando de Henares \n",
       "                            8                             6 \n",
       "   San Lorenzo de El Escorial San Mart<U+00ED>n de Valdeiglesias \n",
       "                            3                             2 \n",
       " San Mart<U+00ED>n de la Vega San Sebasti<U+00E1>n de los Reyes \n",
       "                            3                             6 \n",
       "Santa Mar<U+00ED>a de la Alameda                     Santorcaz \n",
       "                            4                             2 \n",
       "          Serna del Monte, La              Sevilla la Nueva \n",
       "                            7                             2 \n",
       "                   Somosierra                 Soto del Real \n",
       "                            7                             4 \n",
       "          Talamanca de Jarama                       Tielmes \n",
       "                            7                             7 \n",
       "                     Titulcia      Torrej<U+00F3>n de Ardoz \n",
       "                            7                             6 \n",
       "   Torrej<U+00F3>n de Velasco Torrej<U+00F3>n de la Calzada \n",
       "                            9                             9 \n",
       "                  Torrelaguna                  Torrelodones \n",
       "                            2                             3 \n",
       "         Torres de la Alameda                   Tres Cantos \n",
       "                            8                             1 \n",
       "                  Valdelaguna                    Valdemanco \n",
       "                            7                             7 \n",
       "                 Valdemaqueda                  Valdemorillo \n",
       "                            7                             4 \n",
       "                    Valdemoro          Valdeolmos-Alalpardo \n",
       "                            6                             2 \n",
       "         Valdepi<U+00E9>lagos                    Valdilecha \n",
       "                            7                             9 \n",
       "       Velilla de San Antonio             Vell<U+00F3>n, El \n",
       "                            8                             2 \n",
       "                    Venturada               Villa del Prado \n",
       "                            7                             9 \n",
       "                 Villaconejos                   Villalbilla \n",
       "                            2                             8 \n",
       "        Villamanrique de Tajo                    Villamanta \n",
       "                            2                             7 \n",
       "        Villanueva de Perales Villanueva de la Ca<U+00F1>ada \n",
       "                            7                             1 \n",
       "      Villanueva del Pardillo               Villar del Olmo \n",
       "                            4                             7 \n",
       " Villarejo de Salvan<U+00E9>s   Villaviciosa de Od<U+00F3>n \n",
       "                            8                             1 \n",
       "                    Zarzalejo              <U+00C1>lamo, El \n",
       "                            7                             9 \n",
       "\n",
       "Within cluster sum of squares by cluster:\n",
       " [1] 178990492  19730258 101354640  54378445  62184119 397608240  16087381\n",
       " [8]  20252277  25627787         0\n",
       " (between_SS / total_SS = 100.0 %)\n",
       "\n",
       "Available components:\n",
       "\n",
       "[1] \"cluster\"      \"centers\"      \"totss\"        \"withinss\"     \"tot.withinss\"\n",
       "[6] \"betweenss\"    \"size\"         \"iter\"         \"ifault\"      "
      ]
     },
     "metadata": {},
     "output_type": "display_data"
    }
   ],
   "source": [
    "turistas_origen_mes <- \n",
    "  receptor |> \n",
    "  filter(pais_orig == \"Total\") |> \n",
    "  select(mes, CMUN, mun_dest, turistas) |> \n",
    "  mutate(receptor = turistas) |> \n",
    "  select(-turistas) |> \n",
    "  inner_join(\n",
    "    interno_prov |> \n",
    "      filter(!is.na(total_ccaa),\n",
    "             is.na(provincia)) |> \n",
    "      select(mes, cmun, total_ccaa, turistas) |> \n",
    "      pivot_wider(names_from = total_ccaa, \n",
    "                  values_from = turistas,\n",
    "                  values_fn = ~sum(.x, na.rm = TRUE)),\n",
    "    by = c(\"CMUN\" = \"cmun\", \"mes\" = \"mes\"))\n",
    "\n",
    "val <- valoraciones |> \n",
    "  group_by(CMUN, grupo) |> \n",
    "  summarise(puntos = median(puntos, na.rm = TRUE),.groups = \"drop\") |> \n",
    "  pivot_wider(names_from = grupo,\n",
    "              values_from = puntos) |> \n",
    "  mutate(across(2:4, ~replace_na(.x, median(.x, na.rm = TRUE))))\n",
    "\n",
    "kdata <- turistas_origen_mes |> \n",
    "  inner_join(val, by = \"CMUN\") |> \n",
    "  # select(-municipio_destino) |> \n",
    "  mutate(anyo = str_sub(mes, 1, 4)) |> \n",
    "  group_by(anyo, mun_dest) |> \n",
    "  summarise(across(3:(ncol(turistas_origen_mes) - 1), sum),\n",
    "            across((ncol(turistas_origen_mes) - 1):(ncol(turistas_origen_mes) + 2), median))\n",
    "\n",
    "by_anyo <- split(kdata, kdata$anyo)\n",
    "\n",
    "by_anyo[[1]] |> \n",
    "  column_to_rownames(\"mun_dest\") |> \n",
    "  select(-anyo) |> \n",
    "  kmeans(10)\n",
    "\n",
    "\n",
    "## PARÁMETRO DEL PASO 2\n",
    "NCLUS <- 4\n",
    "\n",
    "cluster_anyos <- map(by_anyo, function(x)  {\n",
    "  m <- x |> \n",
    "    column_to_rownames(\"mun_dest\") |> \n",
    "    select(-anyo) |> \n",
    "    kmeans(NCLUS)\n",
    "  res <- x |> \n",
    "    mutate(cluster = m$cluster)\n",
    "}) |> bind_rows() |> \n",
    "  ungroup()\n",
    "\n",
    "write_csv(cluster_anyos, \"cluster_anyos.csv\")\n",
    "\n"
   ]
  }
 ],
 "metadata": {
  "anaconda-cloud": {},
  "celltoolbar": "Slideshow",
  "hide_input": false,
  "kernelspec": {
   "display_name": "R",
   "language": "R",
   "name": "ir"
  },
  "language_info": {
   "codemirror_mode": "r",
   "file_extension": ".r",
   "mimetype": "text/x-r-source",
   "name": "R",
   "pygments_lexer": "r",
   "version": "4.2.3"
  },
  "latex_envs": {
   "LaTeX_envs_menu_present": true,
   "autoclose": false,
   "autocomplete": true,
   "bibliofile": "biblio.bib",
   "cite_by": "apalike",
   "current_citInitial": 1,
   "eqLabelWithNumbers": true,
   "eqNumInitial": 1,
   "hotkeys": {
    "equation": "Ctrl-E",
    "itemize": "Ctrl-I"
   },
   "labels_anchors": false,
   "latex_user_defs": false,
   "report_style_numbering": true,
   "user_envs_cfg": false
  },
  "varInspector": {
   "cols": {
    "lenName": 16,
    "lenType": 16,
    "lenVar": 40
   },
   "kernels_config": {
    "python": {
     "delete_cmd_postfix": "",
     "delete_cmd_prefix": "del ",
     "library": "var_list.py",
     "varRefreshCmd": "print(var_dic_list())"
    },
    "r": {
     "delete_cmd_postfix": ") ",
     "delete_cmd_prefix": "rm(",
     "library": "var_list.r",
     "varRefreshCmd": "cat(var_dic_list()) "
    }
   },
   "types_to_exclude": [
    "module",
    "function",
    "builtin_function_or_method",
    "instance",
    "_Feature"
   ],
   "window_display": false
  },
  "widgets": {
   "application/vnd.jupyter.widget-state+json": {
    "state": {},
    "version_major": 2,
    "version_minor": 0
   }
  }
 },
 "nbformat": 4,
 "nbformat_minor": 1
}
