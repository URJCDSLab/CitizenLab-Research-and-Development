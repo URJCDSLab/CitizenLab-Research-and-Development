{
 "cells": [
  {
   "attachments": {},
   "cell_type": "markdown",
   "metadata": {
    "slideshow": {
     "slide_type": "slide"
    }
   },
   "source": [
    "\n",
    "# <center><font color= #F08080 > <b>CU53_impacto de las políticas de inversión en sanidad, infraestructuras y promoción turística en el SPI</font></center>"
   ]
  },
  {
   "attachments": {},
   "cell_type": "markdown",
   "metadata": {
    "heading_collapsed": true
   },
   "source": [
    "#  <font color='green'>IV. Model development</font>\n",
    "\n",
    "En este anexo se incluye el código utilizado durante el desarrollo \n",
    "de los modelos incluidos en el caso de uso."
   ]
  },
  {
   "attachments": {},
   "cell_type": "markdown",
   "metadata": {},
   "source": [
    "### Paquetes\n"
   ]
  },
  {
   "cell_type": "code",
   "execution_count": 1,
   "metadata": {
    "vscode": {
     "languageId": "r"
    }
   },
   "outputs": [
    {
     "name": "stderr",
     "output_type": "stream",
     "text": [
      "\n",
      "Attaching package: 'dplyr'\n",
      "\n",
      "\n",
      "The following objects are masked from 'package:stats':\n",
      "\n",
      "    filter, lag\n",
      "\n",
      "\n",
      "The following objects are masked from 'package:base':\n",
      "\n",
      "    intersect, setdiff, setequal, union\n",
      "\n",
      "\n"
     ]
    }
   ],
   "source": [
    "library(readr)\n",
    "library(dplyr)\n",
    "library(tidyr)"
   ]
  },
  {
   "attachments": {},
   "cell_type": "markdown",
   "metadata": {},
   "source": [
    "## Generación de escenarios\n",
    "\n"
   ]
  },
  {
   "cell_type": "code",
   "execution_count": 2,
   "metadata": {
    "vscode": {
     "languageId": "r"
    }
   },
   "outputs": [
    {
     "data": {
      "text/html": [
       "'es_ES.UTF-8/es_ES.UTF-8/es_ES.UTF-8/C/es_ES.UTF-8/C'"
      ],
      "text/latex": [
       "'es\\_ES.UTF-8/es\\_ES.UTF-8/es\\_ES.UTF-8/C/es\\_ES.UTF-8/C'"
      ],
      "text/markdown": [
       "'es_ES.UTF-8/es_ES.UTF-8/es_ES.UTF-8/C/es_ES.UTF-8/C'"
      ],
      "text/plain": [
       "[1] \"es_ES.UTF-8/es_ES.UTF-8/es_ES.UTF-8/C/es_ES.UTF-8/C\""
      ]
     },
     "metadata": {},
     "output_type": "display_data"
    }
   ],
   "source": [
    "Sys.setlocale(category = \"LC_ALL\", locale = \"es_ES.UTF-8\")"
   ]
  },
  {
   "cell_type": "code",
   "execution_count": 3,
   "metadata": {
    "vscode": {
     "languageId": "r"
    }
   },
   "outputs": [
    {
     "name": "stderr",
     "output_type": "stream",
     "text": [
      "\u001b[1mRows: \u001b[22m\u001b[34m24\u001b[39m \u001b[1mColumns: \u001b[22m\u001b[34m3\u001b[39m\n",
      "\u001b[36m──\u001b[39m \u001b[1mColumn specification\u001b[22m \u001b[36m────────────────────────────────────────────────────────\u001b[39m\n",
      "\u001b[1mDelimiter:\u001b[22m \",\"\n",
      "\u001b[31mchr\u001b[39m (1): grupo\n",
      "\u001b[32mdbl\u001b[39m (2): anyo, inversion\n",
      "\n",
      "\u001b[36mℹ\u001b[39m Use `spec()` to retrieve the full column specification for this data.\n",
      "\u001b[36mℹ\u001b[39m Specify the column types or set `show_col_types = FALSE` to quiet this message.\n",
      "\u001b[1mRows: \u001b[22m\u001b[34m2364\u001b[39m \u001b[1mColumns: \u001b[22m\u001b[34m81\u001b[39m\n",
      "\u001b[36m──\u001b[39m \u001b[1mColumn specification\u001b[22m \u001b[36m────────────────────────────────────────────────────────\u001b[39m\n",
      "\u001b[1mDelimiter:\u001b[22m \",\"\n",
      "\u001b[31mchr\u001b[39m  (3): country, spicountrycode, status\n",
      "\u001b[32mdbl\u001b[39m (78): rank_score_spi, spiyear, score_spi, score_bhn, score_fow, score_op...\n",
      "\n",
      "\u001b[36mℹ\u001b[39m Use `spec()` to retrieve the full column specification for this data.\n",
      "\u001b[36mℹ\u001b[39m Specify the column types or set `show_col_types = FALSE` to quiet this message.\n",
      "\u001b[1mRows: \u001b[22m\u001b[34m81\u001b[39m \u001b[1mColumns: \u001b[22m\u001b[34m8\u001b[39m\n",
      "\u001b[36m──\u001b[39m \u001b[1mColumn specification\u001b[22m \u001b[36m────────────────────────────────────────────────────────\u001b[39m\n",
      "\u001b[1mDelimiter:\u001b[22m \",\"\n",
      "\u001b[31mchr\u001b[39m (8): id_var, name_var, role, Dimension, Component, Unit of measurement, ...\n",
      "\n",
      "\u001b[36mℹ\u001b[39m Use `spec()` to retrieve the full column specification for this data.\n",
      "\u001b[36mℹ\u001b[39m Specify the column types or set `show_col_types = FALSE` to quiet this message.\n",
      "Warning message in inner_join(select(filter(spi, country == \"Spain\"), spiyear, score_spi), :\n",
      "“\u001b[1m\u001b[22mEach row in `x` is expected to match at most 1 row in `y`.\n",
      "\u001b[36mℹ\u001b[39m Row 7 of `x` matches multiple rows.\n",
      "\u001b[36mℹ\u001b[39m If multiple matches are expected, set `multiple = \"all\"` to silence this\n",
      "  warning.”\n"
     ]
    }
   ],
   "source": [
    "inversiones <- read_csv(\"CU_53_05_05_inversiones_cm.csv\")\n",
    "\n",
    "spi <- read_csv(\"CU_53_05_02_01_spi.csv\")  \n",
    "spi_meta <- read_csv(\"CU_53_05_02_02_spi_metadata.csv\")\n",
    "\n",
    "inversiones <- inversiones |> \n",
    "  group_by(anyo) |> \n",
    "  mutate(total_anyo = sum(inversion),\n",
    "         porc_inv = round(100*(inversion/total_anyo), 2)) |> \n",
    "  ungroup() \n",
    "\n",
    "parametros_sim <- inversiones |> group_by(grupo) |> \n",
    "  summarise(m = mean(porc_inv), s = sd(porc_inv))\n",
    "\n",
    "a <- 20\n",
    "\n",
    "dfb <- spi |> filter(country == \"Spain\") |> \n",
    "  select(spiyear, score_spi) |> \n",
    "  inner_join(inversiones,\n",
    "             by = c(\"spiyear\" = \"anyo\")) |> \n",
    "  mutate(b = score_spi/porc_inv) |> \n",
    "  group_by(grupo) |> \n",
    "  summarise(b = mean(b))\n",
    "\n",
    "b <- setNames(dfb$b, dfb$grupo)\n",
    "\n",
    "escenario_spi <- spi |> filter(country != \"World\") |> \n",
    "  select(spicountrycode, spiyear, score_spi) |> \n",
    "  mutate(inv_inf = (score_spi - rnorm(n(), \n",
    "                                      a, 1))/rnorm(n(), \n",
    "                                                   b[[\"INFRAESTRUCTURAS\"]],\n",
    "                                                   0.1*b[[\"INFRAESTRUCTURAS\"]]),\n",
    "         inv_tur = (score_spi - rnorm(n(), \n",
    "                                      a, 1))/rnorm(n(), \n",
    "                                                   b[[\"TURISMO\"]],\n",
    "                                                   0.1*b[[\"TURISMO\"]]),\n",
    "         inv_san = (score_spi - rnorm(n(), \n",
    "                                      a, 1))/rnorm(n(), \n",
    "                                                   b[[\"SANIDAD\"]],\n",
    "                                                   0.1*b[[\"SANIDAD\"]])) |> \n",
    "  select(-score_spi)\n",
    "\n",
    "write_csv(escenario_spi, \"ESCENARIO_INVERSIONES_PAISES.csv\")\n",
    "\n",
    "## ESCENARIOS INVERSIONES CM\n",
    "\n",
    "x_inv <- inversiones |> \n",
    "  group_by(anyo) |> \n",
    "  mutate(total_anyo = sum(inversion),\n",
    "         porc_inv = round(100*(inversion/total_anyo), 2)) |> \n",
    "  ungroup() |> \n",
    "  pivot_wider(id_cols = anyo, names_from = \"grupo\",\n",
    "              values_from = \"porc_inv\") |> \n",
    "  rename(spiyear = anyo,\n",
    "         inv_inf = INFRAESTRUCTURAS,\n",
    "         inv_tur = TURISMO,\n",
    "         inv_san = SANIDAD) |> \n",
    "  select(-RESTO) |> \n",
    "  slice_tail(n = 1)\n",
    "\n",
    "x_escen <- x_inv |> bind_rows(x_inv) |> bind_rows(x_inv) |> bind_rows(x_inv) |>  \n",
    "  mutate(spiyear = 2022:2025) |> \n",
    "  mutate(across(inv_inf:inv_tur, ~.x*1.1^c(0:3)))\n",
    "\n",
    "write_csv(x_escen, \"ESCENARIO_INVERSIONES_REGION.csv\")\n"
   ]
  }
 ],
 "metadata": {
  "anaconda-cloud": {},
  "celltoolbar": "Slideshow",
  "hide_input": false,
  "kernelspec": {
   "display_name": "R",
   "language": "R",
   "name": "ir"
  },
  "language_info": {
   "codemirror_mode": "r",
   "file_extension": ".r",
   "mimetype": "text/x-r-source",
   "name": "R",
   "pygments_lexer": "r",
   "version": "4.2.3"
  },
  "latex_envs": {
   "LaTeX_envs_menu_present": true,
   "autoclose": false,
   "autocomplete": true,
   "bibliofile": "biblio.bib",
   "cite_by": "apalike",
   "current_citInitial": 1,
   "eqLabelWithNumbers": true,
   "eqNumInitial": 1,
   "hotkeys": {
    "equation": "Ctrl-E",
    "itemize": "Ctrl-I"
   },
   "labels_anchors": false,
   "latex_user_defs": false,
   "report_style_numbering": true,
   "user_envs_cfg": false
  },
  "varInspector": {
   "cols": {
    "lenName": 16,
    "lenType": 16,
    "lenVar": 40
   },
   "kernels_config": {
    "python": {
     "delete_cmd_postfix": "",
     "delete_cmd_prefix": "del ",
     "library": "var_list.py",
     "varRefreshCmd": "print(var_dic_list())"
    },
    "r": {
     "delete_cmd_postfix": ") ",
     "delete_cmd_prefix": "rm(",
     "library": "var_list.r",
     "varRefreshCmd": "cat(var_dic_list()) "
    }
   },
   "types_to_exclude": [
    "module",
    "function",
    "builtin_function_or_method",
    "instance",
    "_Feature"
   ],
   "window_display": false
  },
  "widgets": {
   "application/vnd.jupyter.widget-state+json": {
    "state": {},
    "version_major": 2,
    "version_minor": 0
   }
  }
 },
 "nbformat": 4,
 "nbformat_minor": 1
}
