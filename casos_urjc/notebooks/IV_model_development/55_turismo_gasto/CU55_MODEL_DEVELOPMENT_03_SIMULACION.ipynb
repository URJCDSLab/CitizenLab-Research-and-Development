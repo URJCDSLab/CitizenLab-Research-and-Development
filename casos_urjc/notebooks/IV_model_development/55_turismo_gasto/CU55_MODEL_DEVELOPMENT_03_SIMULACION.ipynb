{
 "cells": [
  {
   "attachments": {},
   "cell_type": "markdown",
   "metadata": {
    "slideshow": {
     "slide_type": "slide"
    }
   },
   "source": [
    "\n",
    "# <center><font color= #F08080 > <b>CU55_Modelo agregado de estimación del gasto medio por turista</font></center>"
   ]
  },
  {
   "attachments": {},
   "cell_type": "markdown",
   "metadata": {
    "heading_collapsed": true
   },
   "source": [
    "#  <font color='green'>IV. Model development</font>\n",
    "\n",
    "En este anexo se incluye el código utilizado durante el desarrollo \n",
    "de los modelos incluidos en el caso de uso."
   ]
  },
  {
   "attachments": {},
   "cell_type": "markdown",
   "metadata": {},
   "source": [
    "## Modelo de Simulación\n",
    "\n"
   ]
  },
  {
   "cell_type": "code",
   "execution_count": 1,
   "metadata": {
    "vscode": {
     "languageId": "r"
    }
   },
   "outputs": [
    {
     "data": {
      "text/html": [
       "'es_ES.UTF-8/es_ES.UTF-8/es_ES.UTF-8/C/es_ES.UTF-8/C'"
      ],
      "text/latex": [
       "'es\\_ES.UTF-8/es\\_ES.UTF-8/es\\_ES.UTF-8/C/es\\_ES.UTF-8/C'"
      ],
      "text/markdown": [
       "'es_ES.UTF-8/es_ES.UTF-8/es_ES.UTF-8/C/es_ES.UTF-8/C'"
      ],
      "text/plain": [
       "[1] \"es_ES.UTF-8/es_ES.UTF-8/es_ES.UTF-8/C/es_ES.UTF-8/C\""
      ]
     },
     "metadata": {},
     "output_type": "display_data"
    }
   ],
   "source": [
    "Sys.setlocale(category = \"LC_ALL\", locale = \"es_ES.UTF-8\")"
   ]
  },
  {
   "cell_type": "code",
   "execution_count": 2,
   "metadata": {
    "vscode": {
     "languageId": "r"
    }
   },
   "outputs": [
    {
     "name": "stderr",
     "output_type": "stream",
     "text": [
      "\n",
      "Attaching package: ‘dplyr’\n",
      "\n",
      "\n",
      "The following objects are masked from ‘package:stats’:\n",
      "\n",
      "    filter, lag\n",
      "\n",
      "\n",
      "The following objects are masked from ‘package:base’:\n",
      "\n",
      "    intersect, setdiff, setequal, union\n",
      "\n",
      "\n",
      "\u001b[1mRows: \u001b[22m\u001b[34m24\u001b[39m \u001b[1mColumns: \u001b[22m\u001b[34m4\u001b[39m\n",
      "\u001b[36m──\u001b[39m \u001b[1mColumn specification\u001b[22m \u001b[36m────────────────────────────────────────────────────────\u001b[39m\n",
      "\u001b[1mDelimiter:\u001b[22m \",\"\n",
      "\u001b[31mchr\u001b[39m (3): mes, pais_orig, mun_dest\n",
      "\u001b[32mdbl\u001b[39m (1): turistas\n",
      "\n",
      "\u001b[36mℹ\u001b[39m Use `spec()` to retrieve the full column specification for this data.\n",
      "\u001b[36mℹ\u001b[39m Specify the column types or set `show_col_types = FALSE` to quiet this message.\n"
     ]
    },
    {
     "ename": "ERROR",
     "evalue": "\u001b[1m\u001b[33mError\u001b[39m in `mutate()`:\u001b[22m\n\u001b[1m\u001b[22m\u001b[36mℹ\u001b[39m In argument: `nmes = factor(str_sub(mes, 6, 7), levels =\n  levels(dm$nmes))`.\n\u001b[1mCaused by error in `levels()`:\u001b[22m\n\u001b[33m!\u001b[39m objeto 'dm' no encontrado\n",
     "output_type": "error",
     "traceback": [
      "\u001b[1m\u001b[33mError\u001b[39m in `mutate()`:\u001b[22m\n\u001b[1m\u001b[22m\u001b[36mℹ\u001b[39m In argument: `nmes = factor(str_sub(mes, 6, 7), levels =\n  levels(dm$nmes))`.\n\u001b[1mCaused by error in `levels()`:\u001b[22m\n\u001b[33m!\u001b[39m objeto 'dm' no encontrado\nTraceback:\n",
      "1. model.matrix(~., data = select(mutate(simulacion, nmes = factor(str_sub(mes, \n .     6, 7), levels = levels(dm$nmes)), pais_orig = factor(pais_orig, \n .     levels = levels(dm$pais_orig))), nmes, pais_orig, turistas = sim_turistas))",
      "2. model.matrix.default(~., data = select(mutate(simulacion, nmes = factor(str_sub(mes, \n .     6, 7), levels = levels(dm$nmes)), pais_orig = factor(pais_orig, \n .     levels = levels(dm$pais_orig))), nmes, pais_orig, turistas = sim_turistas))",
      "3. terms(object, data = data)",
      "4. terms.formula(object, data = data)",
      "5. select(mutate(simulacion, nmes = factor(str_sub(mes, 6, 7), levels = levels(dm$nmes)), \n .     pais_orig = factor(pais_orig, levels = levels(dm$pais_orig))), \n .     nmes, pais_orig, turistas = sim_turistas)",
      "6. mutate(simulacion, nmes = factor(str_sub(mes, 6, 7), levels = levels(dm$nmes)), \n .     pais_orig = factor(pais_orig, levels = levels(dm$pais_orig)))",
      "7. mutate.data.frame(simulacion, nmes = factor(str_sub(mes, 6, 7), \n .     levels = levels(dm$nmes)), pais_orig = factor(pais_orig, \n .     levels = levels(dm$pais_orig)))",
      "8. mutate_cols(.data, dplyr_quosures(...), by)",
      "9. withCallingHandlers(for (i in seq_along(dots)) {\n .     poke_error_context(dots, i, mask = mask)\n .     context_poke(\"column\", old_current_column)\n .     new_columns <- mutate_col(dots[[i]], data, mask, new_columns)\n . }, error = dplyr_error_handler(dots = dots, mask = mask, bullets = mutate_bullets, \n .     error_call = error_call, error_class = \"dplyr:::mutate_error\"), \n .     warning = dplyr_warning_handler(state = warnings_state, mask = mask, \n .         error_call = error_call))",
      "10. mutate_col(dots[[i]], data, mask, new_columns)",
      "11. mask$eval_all_mutate(quo)",
      "12. eval()",
      "13. factor(str_sub(mes, 6, 7), levels = levels(dm$nmes))",
      "14. levels(dm$nmes)",
      "15. .handleSimpleError(function (cnd) \n  . {\n  .     local_error_context(dots, i = frame[[i_sym]], mask = mask)\n  .     if (inherits(cnd, \"dplyr:::internal_error\")) {\n  .         parent <- error_cnd(message = bullets(cnd))\n  .     }\n  .     else {\n  .         parent <- cnd\n  .     }\n  .     message <- c(cnd_bullet_header(action), i = if (has_active_group_context(mask)) cnd_bullet_cur_group_label())\n  .     abort(message, class = error_class, parent = parent, call = error_call)\n  . }, \"objeto 'dm' no encontrado\", base::quote(levels(dm$nmes)))",
      "16. h(simpleError(msg, call))",
      "17. abort(message, class = error_class, parent = parent, call = error_call)",
      "18. signal_abort(cnd, .file)"
     ]
    }
   ],
   "source": [
    "\n",
    "\n",
    "## simulación turistas\n",
    "\n",
    "library(readr)\n",
    "library(dplyr)\n",
    "library(tidyr)\n",
    "library(purrr)\n",
    "library(tibble)\n",
    "library(stringr)\n",
    "\n",
    "gasto_municipio <- read_csv(\"cu_55_step_01_input/CU_55_05_02_gasto_municipio.csv\")\n",
    "\n",
    "dm <- gasto_municipio |> \n",
    "  mutate(nmes = factor(str_sub(mes, 6, 7)),\n",
    "         pais_orig = factor(pais_orig)) |> \n",
    "  select(nmes, pais_orig, turistas, gasto) |> \n",
    "  filter(str_detect(pais_orig, \"Total\", negate = TRUE))\n",
    "  \n",
    "escenario <- read_csv(\"ESCENARIO_DESTINO.csv\")\n",
    "\n",
    "# pfutbol <- sum(escenario$Futbol == 1) / nrow(escenario)\n",
    "# rate_nservicios <- mean(escenario$nservicios)\n",
    "# rate_capacidad <- mean(escenario$capacidad)\n",
    "# m_cont <- apply(escenario[,4:25], 2, mean)\n",
    "# s_cont <- apply(escenario[,4:25], 2, sd)\n",
    "\n",
    "## de la configuración\n",
    "nsim <- 100\n",
    "\n",
    "simulacion <- escenario |> \n",
    "  mutate(sim_turistas = list(rpois(nsim, turistas))) |> \n",
    "  unnest(sim_turistas) |> \n",
    "  select(-turistas)\n",
    "  \n",
    "simulacion.x <- simulacion |> \n",
    "  mutate(nmes = factor(str_sub(mes, 6, 7), levels = levels(dm$nmes)),\n",
    "         pais_orig = factor(pais_orig, levels = levels(dm$pais_orig))) |> \n",
    "  select(nmes, pais_orig, turistas = sim_turistas) |> \n",
    "  model.matrix(~., data = _)\n",
    "\n",
    "modelo <- read_rds(\"modelo_xgb.rds\")\n",
    "predict(modelo, simulacion.x)\n",
    "\n",
    "\n",
    "\n",
    "\n"
   ]
  }
 ],
 "metadata": {
  "anaconda-cloud": {},
  "celltoolbar": "Slideshow",
  "hide_input": false,
  "kernelspec": {
   "display_name": "R",
   "language": "R",
   "name": "ir"
  },
  "language_info": {
   "codemirror_mode": "r",
   "file_extension": ".r",
   "mimetype": "text/x-r-source",
   "name": "R",
   "pygments_lexer": "r",
   "version": "4.2.3"
  },
  "latex_envs": {
   "LaTeX_envs_menu_present": true,
   "autoclose": false,
   "autocomplete": true,
   "bibliofile": "biblio.bib",
   "cite_by": "apalike",
   "current_citInitial": 1,
   "eqLabelWithNumbers": true,
   "eqNumInitial": 1,
   "hotkeys": {
    "equation": "Ctrl-E",
    "itemize": "Ctrl-I"
   },
   "labels_anchors": false,
   "latex_user_defs": false,
   "report_style_numbering": true,
   "user_envs_cfg": false
  },
  "varInspector": {
   "cols": {
    "lenName": 16,
    "lenType": 16,
    "lenVar": 40
   },
   "kernels_config": {
    "python": {
     "delete_cmd_postfix": "",
     "delete_cmd_prefix": "del ",
     "library": "var_list.py",
     "varRefreshCmd": "print(var_dic_list())"
    },
    "r": {
     "delete_cmd_postfix": ") ",
     "delete_cmd_prefix": "rm(",
     "library": "var_list.r",
     "varRefreshCmd": "cat(var_dic_list()) "
    }
   },
   "types_to_exclude": [
    "module",
    "function",
    "builtin_function_or_method",
    "instance",
    "_Feature"
   ],
   "window_display": false
  },
  "widgets": {
   "application/vnd.jupyter.widget-state+json": {
    "state": {},
    "version_major": 2,
    "version_minor": 0
   }
  }
 },
 "nbformat": 4,
 "nbformat_minor": 1
}
