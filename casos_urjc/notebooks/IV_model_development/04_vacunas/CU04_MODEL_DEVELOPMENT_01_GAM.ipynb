{
 "cells": [
  {
   "attachments": {},
   "cell_type": "markdown",
   "metadata": {
    "slideshow": {
     "slide_type": "slide"
    }
   },
   "source": [
    "\n",
    "# <center><font color= #F08080 > <b>CU04_Optimización de vacunas</font></center>"
   ]
  },
  {
   "attachments": {},
   "cell_type": "markdown",
   "metadata": {
    "heading_collapsed": true
   },
   "source": [
    "#  <font color='green'>IV. Model development</font>\n",
    "\n",
    "En este anexo se incluye el código utilizado durante el desarrollo \n",
    "de los modelos incluidos en el caso de uso."
   ]
  },
  {
   "attachments": {},
   "cell_type": "markdown",
   "metadata": {},
   "source": [
    "## Modelo GAM\n",
    "\n"
   ]
  },
  {
   "attachments": {},
   "cell_type": "markdown",
   "metadata": {},
   "source": [
    "### Paquetes"
   ]
  },
  {
   "cell_type": "code",
   "execution_count": 1,
   "metadata": {
    "vscode": {
     "languageId": "r"
    }
   },
   "outputs": [
    {
     "name": "stderr",
     "output_type": "stream",
     "text": [
      "\n",
      "Attaching package: 'dplyr'\n",
      "\n",
      "\n",
      "The following objects are masked from 'package:stats':\n",
      "\n",
      "    filter, lag\n",
      "\n",
      "\n",
      "The following objects are masked from 'package:base':\n",
      "\n",
      "    intersect, setdiff, setequal, union\n",
      "\n",
      "\n",
      "Loading required package: nlme\n",
      "\n",
      "\n",
      "Attaching package: 'nlme'\n",
      "\n",
      "\n",
      "The following object is masked from 'package:dplyr':\n",
      "\n",
      "    collapse\n",
      "\n",
      "\n",
      "This is mgcv 1.8-42. For overview type 'help(\"mgcv-package\")'.\n",
      "\n",
      "Loading required package: ggplot2\n",
      "\n"
     ]
    }
   ],
   "source": [
    "## Paquetes\n",
    "library(readr)\n",
    "library(dplyr)\n",
    "library(mgcv)\n",
    "library(visibly) # install_github(\"m-clark/visibly\")\n",
    "library(ggeffects)"
   ]
  },
  {
   "attachments": {},
   "cell_type": "markdown",
   "metadata": {},
   "source": [
    "### Datos"
   ]
  },
  {
   "cell_type": "code",
   "execution_count": 2,
   "metadata": {
    "vscode": {
     "languageId": "r"
    }
   },
   "outputs": [
    {
     "name": "stderr",
     "output_type": "stream",
     "text": [
      "\u001b[1mRows: \u001b[22m\u001b[34m21736\u001b[39m \u001b[1mColumns: \u001b[22m\u001b[34m47\u001b[39m\n",
      "\u001b[36m--\u001b[39m \u001b[1mColumn specification\u001b[22m \u001b[36m--------------------------------------------------------\u001b[39m\n",
      "\u001b[1mDelimiter:\u001b[22m \",\"\n",
      "\u001b[31mchr\u001b[39m  (3): GEOCODIGO, DESBDT, nombre_zona\n",
      "\u001b[32mdbl\u001b[39m (44): ano, semana, n_vacunas, n_citas, tmed, prec, velmedia, presMax, be...\n",
      "\n",
      "\u001b[36mi\u001b[39m Use `spec()` to retrieve the full column specification for this data.\n",
      "\u001b[36mi\u001b[39m Specify the column types or set `show_col_types = FALSE` to quiet this message.\n"
     ]
    }
   ],
   "source": [
    "\n",
    "data_04_completo <- read_csv(\"CU_04_05_19_vacunacion_gripe_completo.csv\") |> \n",
    "  mutate(GEOCODIGO = factor(GEOCODIGO),\n",
    "         scampana = as.numeric(factor(paste0(ano, semana, sep = \"-\"))))\n",
    "  \n",
    "\n"
   ]
  },
  {
   "attachments": {},
   "cell_type": "markdown",
   "metadata": {},
   "source": [
    "### Spot checking\n",
    "\n",
    "Se han probado varios modelos"
   ]
  },
  {
   "cell_type": "code",
   "execution_count": 3,
   "metadata": {
    "vscode": {
     "languageId": "r"
    }
   },
   "outputs": [],
   "source": [
    "# f <- as.formula(paste0(\"n_vacunas ~  \", \n",
    "#        paste0(\"s(\", colnames(data_04)[-c(1:2)], collapse = \") + \"),\n",
    "#        \")\"))\n",
    "\n",
    "# f <- as.formula(\n",
    "#   \"n_vacunas ~ s(tmed) + s(presMax) + \"\n",
    "# )\n",
    "\n",
    "\n",
    "f <- as.formula(\n",
    "  \"n_vacunas ~ GEOCODIGO + s(scampana) + s(tmed) + s(prec) + s(velmedia) + s(presMax) + s(benzene) + \n",
    "    s(co) + s(no) + s(no2) + s(nox) + s(o3) + s(pm10) + s(pm2.5) + \n",
    "    s(so2) + s(capacidad_zona) + s(prop_riesgo) + s(tasa_riesgo) + \n",
    "    s(tasa_mayores) + s(poblacion_mayores) + s(nsec) + s(t3_1) + \n",
    "    s(t1_1) + s(t2_1) + s(t2_2) + s(t4_1) + s(t4_2) + s(t4_3) + \n",
    "    s(t5_1) + s(t6_1) + s(t7_1) + s(t8_1) + s(t9_1) + s(t10_1) + \n",
    "    s(t11_1) + s(t12_1) + s(area) + s(densidad_hab_km)\"\n",
    ")"
   ]
  },
  {
   "attachments": {},
   "cell_type": "markdown",
   "metadata": {},
   "source": [
    "### Ajuste del modelo"
   ]
  },
  {
   "cell_type": "code",
   "execution_count": 4,
   "metadata": {
    "vscode": {
     "languageId": "r"
    }
   },
   "outputs": [],
   "source": [
    "mod_04_gam <- data_04_completo |> \n",
    "  gam(f, data = _, family = poisson(link = log))"
   ]
  },
  {
   "attachments": {},
   "cell_type": "markdown",
   "metadata": {},
   "source": [
    "### Guardar modelo para despliegue"
   ]
  },
  {
   "cell_type": "code",
   "execution_count": 5,
   "metadata": {
    "vscode": {
     "languageId": "r"
    }
   },
   "outputs": [],
   "source": [
    "write_rds(mod_04_gam, \"mod_04_gam.rds\")"
   ]
  },
  {
   "attachments": {},
   "cell_type": "markdown",
   "metadata": {},
   "source": [
    "### Generar escenarios"
   ]
  },
  {
   "cell_type": "code",
   "execution_count": 6,
   "metadata": {
    "vscode": {
     "languageId": "r"
    }
   },
   "outputs": [],
   "source": [
    "newdata <- data_04_completo |> \n",
    "  select(-n_vacunas, -n_citas, -nombre_zona) |> \n",
    "  filter(ano == 2021 & semana >= 36 | ano == 2022 & semana <= 5) |> \n",
    "  mutate(scampana = as.numeric(factor(paste0(ano, semana, sep = \"-\")))) |> \n",
    "  select(-ano, -semana, -DESBDT)\n",
    "\n",
    "write_csv(newdata, \"NEWDATA.csv\")"
   ]
  },
  {
   "attachments": {},
   "cell_type": "markdown",
   "metadata": {},
   "source": [
    "### Predicción"
   ]
  },
  {
   "cell_type": "code",
   "execution_count": 8,
   "metadata": {
    "vscode": {
     "languageId": "r"
    }
   },
   "outputs": [],
   "source": [
    "\n",
    "prediction <- predict.gam(mod_04_gam, newdata, se.fit = TRUE, type = \"response\")\n",
    "\n",
    "newdata |> bind_cols(data.frame(prediction)) |> write_csv(\"PREDICTION.csv\")"
   ]
  }
 ],
 "metadata": {
  "anaconda-cloud": {},
  "celltoolbar": "Slideshow",
  "hide_input": false,
  "kernelspec": {
   "display_name": "R",
   "language": "R",
   "name": "ir"
  },
  "language_info": {
   "codemirror_mode": "r",
   "file_extension": ".r",
   "mimetype": "text/x-r-source",
   "name": "R",
   "pygments_lexer": "r",
   "version": "4.2.3"
  },
  "latex_envs": {
   "LaTeX_envs_menu_present": true,
   "autoclose": false,
   "autocomplete": true,
   "bibliofile": "biblio.bib",
   "cite_by": "apalike",
   "current_citInitial": 1,
   "eqLabelWithNumbers": true,
   "eqNumInitial": 1,
   "hotkeys": {
    "equation": "Ctrl-E",
    "itemize": "Ctrl-I"
   },
   "labels_anchors": false,
   "latex_user_defs": false,
   "report_style_numbering": true,
   "user_envs_cfg": false
  },
  "varInspector": {
   "cols": {
    "lenName": 16,
    "lenType": 16,
    "lenVar": 40
   },
   "kernels_config": {
    "python": {
     "delete_cmd_postfix": "",
     "delete_cmd_prefix": "del ",
     "library": "var_list.py",
     "varRefreshCmd": "print(var_dic_list())"
    },
    "r": {
     "delete_cmd_postfix": ") ",
     "delete_cmd_prefix": "rm(",
     "library": "var_list.r",
     "varRefreshCmd": "cat(var_dic_list()) "
    }
   },
   "types_to_exclude": [
    "module",
    "function",
    "builtin_function_or_method",
    "instance",
    "_Feature"
   ],
   "window_display": false
  },
  "widgets": {
   "application/vnd.jupyter.widget-state+json": {
    "state": {},
    "version_major": 2,
    "version_minor": 0
   }
  }
 },
 "nbformat": 4,
 "nbformat_minor": 1
}
