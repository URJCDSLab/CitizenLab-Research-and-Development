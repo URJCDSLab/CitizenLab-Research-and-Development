{
 "cells": [
  {
   "attachments": {},
   "cell_type": "markdown",
   "metadata": {
    "slideshow": {
     "slide_type": "slide"
    }
   },
   "source": [
    "\n",
    "# <center><font color= #F08080 > <b>CU34_Predicción de demanda de servicios</font></center>"
   ]
  },
  {
   "attachments": {},
   "cell_type": "markdown",
   "metadata": {
    "heading_collapsed": true
   },
   "source": [
    "#  <font color='green'>IV. Model development</font>\n",
    "\n",
    "En este anexo se incluye el código utilizado durante el desarrollo \n",
    "de los modelos incluidos en el caso de uso."
   ]
  },
  {
   "cell_type": "code",
   "execution_count": 1,
   "metadata": {
    "vscode": {
     "languageId": "r"
    }
   },
   "outputs": [
    {
     "data": {
      "text/html": [
       "'es_ES.UTF-8/es_ES.UTF-8/es_ES.UTF-8/C/es_ES.UTF-8/C'"
      ],
      "text/latex": [
       "'es\\_ES.UTF-8/es\\_ES.UTF-8/es\\_ES.UTF-8/C/es\\_ES.UTF-8/C'"
      ],
      "text/markdown": [
       "'es_ES.UTF-8/es_ES.UTF-8/es_ES.UTF-8/C/es_ES.UTF-8/C'"
      ],
      "text/plain": [
       "[1] \"es_ES.UTF-8/es_ES.UTF-8/es_ES.UTF-8/C/es_ES.UTF-8/C\""
      ]
     },
     "metadata": {},
     "output_type": "display_data"
    }
   ],
   "source": [
    "Sys.setlocale(category = \"LC_ALL\", locale = \"es_ES.UTF-8\")"
   ]
  },
  {
   "attachments": {},
   "cell_type": "markdown",
   "metadata": {},
   "source": [
    "## Paquetes\n",
    "\n"
   ]
  },
  {
   "cell_type": "code",
   "execution_count": 2,
   "metadata": {
    "vscode": {
     "languageId": "r"
    }
   },
   "outputs": [
    {
     "name": "stderr",
     "output_type": "stream",
     "text": [
      "\n",
      "Attaching package: ‘dplyr’\n",
      "\n",
      "\n",
      "The following objects are masked from ‘package:stats’:\n",
      "\n",
      "    filter, lag\n",
      "\n",
      "\n",
      "The following objects are masked from ‘package:base’:\n",
      "\n",
      "    intersect, setdiff, setequal, union\n",
      "\n",
      "\n"
     ]
    }
   ],
   "source": [
    "library(readr)\n",
    "library(dplyr)\n",
    "library(nnet)"
   ]
  },
  {
   "attachments": {},
   "cell_type": "markdown",
   "metadata": {},
   "source": [
    "## Datos"
   ]
  },
  {
   "cell_type": "code",
   "execution_count": 3,
   "metadata": {
    "vscode": {
     "languageId": "r"
    }
   },
   "outputs": [],
   "source": [
    "datos <- read_rds(\"output_cluster.rds\")\n"
   ]
  },
  {
   "attachments": {},
   "cell_type": "markdown",
   "metadata": {},
   "source": [
    "## Entrenamiento red"
   ]
  },
  {
   "cell_type": "code",
   "execution_count": 4,
   "metadata": {
    "vscode": {
     "languageId": "r"
    }
   },
   "outputs": [
    {
     "name": "stdout",
     "output_type": "stream",
     "text": [
      "# weights:  370\n",
      "initial  value 583571.630480 \n",
      "iter  10 value 444761.909417\n",
      "iter  20 value 435449.379991\n",
      "iter  30 value 432242.463783\n",
      "iter  40 value 431705.933202\n",
      "iter  50 value 430680.186050\n",
      "iter  60 value 426990.677363\n",
      "iter  70 value 419497.102158\n",
      "iter  80 value 407907.663764\n",
      "iter  90 value 405058.294819\n",
      "iter 100 value 403327.992297\n",
      "iter 110 value 401786.358009\n",
      "iter 120 value 400062.993717\n",
      "iter 130 value 396265.793668\n",
      "iter 140 value 388837.903810\n",
      "iter 150 value 385109.716258\n",
      "iter 160 value 382986.488711\n",
      "iter 170 value 381765.170382\n",
      "iter 180 value 379636.360605\n",
      "iter 190 value 373280.734847\n",
      "iter 200 value 370875.116692\n",
      "final  value 370875.116692 \n",
      "stopped after 200 iterations\n"
     ]
    },
    {
     "data": {
      "text/plain": [
       "    \n",
       "        3    4    6    9\n",
       "  1    15 3997  302  669\n",
       "  2     0   32    0 2135\n",
       "  3  4116  171 1042 2086\n",
       "  4   265 4187 1231 1593\n",
       "  5  1162 1477 1335 1340\n",
       "  6   992 2637 8840  346\n",
       "  7  2169  571  475 1741\n",
       "  8     0 3634  127    7\n",
       "  9  2068  334  454 2291\n",
       "  10    0  108    0  624"
      ]
     },
     "metadata": {},
     "output_type": "display_data"
    },
    {
     "data": {
      "text/plain": [
       "    \n",
       "         3     4     5     6     9\n",
       "  1     70 16160     0  1154  2774\n",
       "  2      0    98     0     0  8303\n",
       "  3  16195   704     1  4132  8313\n",
       "  4   1018 17066     0  4997  6161\n",
       "  5   4737  5941     0  5489  5367\n",
       "  6   3977 10454     0 35296  1390\n",
       "  7   8475  2295     0  2039  6834\n",
       "  8      0 14555     0   468    47\n",
       "  9   8202  1343     0  1743  9349\n",
       "  10     0   461     0     0  2681"
      ]
     },
     "metadata": {},
     "output_type": "display_data"
    }
   ],
   "source": [
    "train <- sample(1:nrow(datos), 0.8*nrow(datos))\n",
    "test <- -train\n",
    "\n",
    "dfmod <- datos |> \n",
    "  select(cluster, Futbol:densidad_hab_km2) |> \n",
    "  mutate(cluster = factor(cluster)) |> \n",
    "  mutate(prec = if_else(prec < 0, 0, prec))\n",
    "# Y <- datos |> \n",
    "#   transmute(cluster = as.character(cluster)) \n",
    "\n",
    "modelo <- nnet(cluster ~ ., size = 10, data = dfmod, subset = train,\n",
    "               decay = 1, maxit = 200)\n",
    "\n",
    "table(dfmod$cluster[-train], predict(modelo, dfmod[-train,], type = \"class\"))\n",
    "table(dfmod$cluster[train], predict(modelo, dfmod[train,], type = \"class\"))\n",
    "\n",
    "write_rds(modelo, \"modelo_nnet.rds\")"
   ]
  },
  {
   "attachments": {},
   "cell_type": "markdown",
   "metadata": {},
   "source": [
    "## Escenario"
   ]
  },
  {
   "cell_type": "code",
   "execution_count": 5,
   "metadata": {
    "vscode": {
     "languageId": "r"
    }
   },
   "outputs": [],
   "source": [
    "set.seed(1)\n",
    "escenario <- dfmod |> \n",
    "  select(-cluster) |> \n",
    "  slice_sample(n = 100)\n",
    "\n",
    "write_csv(escenario, \"ESCENARIO_SERVICIOS.csv\")"
   ]
  },
  {
   "attachments": {},
   "cell_type": "markdown",
   "metadata": {},
   "source": [
    "## Predicción"
   ]
  },
  {
   "cell_type": "code",
   "execution_count": 6,
   "metadata": {
    "vscode": {
     "languageId": "r"
    }
   },
   "outputs": [
    {
     "data": {
      "text/html": [
       "<style>\n",
       ".list-inline {list-style: none; margin:0; padding: 0}\n",
       ".list-inline>li {display: inline-block}\n",
       ".list-inline>li:not(:last-child)::after {content: \"\\00b7\"; padding: 0 .5ex}\n",
       "</style>\n",
       "<ol class=list-inline><li>'9'</li><li>'6'</li><li>'9'</li><li>'6'</li><li>'3'</li><li>'4'</li><li>'3'</li><li>'4'</li><li>'6'</li><li>'3'</li><li>'6'</li><li>'6'</li><li>'3'</li><li>'4'</li><li>'3'</li><li>'6'</li><li>'4'</li><li>'6'</li><li>'3'</li><li>'6'</li><li>'4'</li><li>'4'</li><li>'4'</li><li>'9'</li><li>'4'</li><li>'9'</li><li>'4'</li><li>'9'</li><li>'6'</li><li>'4'</li><li>'6'</li><li>'3'</li><li>'6'</li><li>'4'</li><li>'6'</li><li>'4'</li><li>'3'</li><li>'4'</li><li>'4'</li><li>'6'</li><li>'4'</li><li>'9'</li><li>'6'</li><li>'3'</li><li>'3'</li><li>'6'</li><li>'4'</li><li>'6'</li><li>'3'</li><li>'6'</li><li>'9'</li><li>'4'</li><li>'4'</li><li>'3'</li><li>'4'</li><li>'6'</li><li>'4'</li><li>'6'</li><li>'4'</li><li>'9'</li><li>'6'</li><li>'3'</li><li>'6'</li><li>'4'</li><li>'9'</li><li>'3'</li><li>'4'</li><li>'4'</li><li>'4'</li><li>'9'</li><li>'4'</li><li>'6'</li><li>'9'</li><li>'3'</li><li>'4'</li><li>'4'</li><li>'4'</li><li>'4'</li><li>'6'</li><li>'4'</li><li>'9'</li><li>'4'</li><li>'4'</li><li>'9'</li><li>'6'</li><li>'3'</li><li>'9'</li><li>'3'</li><li>'3'</li><li>'3'</li><li>'6'</li><li>'3'</li><li>'3'</li><li>'9'</li><li>'4'</li><li>'9'</li><li>'6'</li><li>'9'</li><li>'3'</li><li>'9'</li></ol>\n"
      ],
      "text/latex": [
       "\\begin{enumerate*}\n",
       "\\item '9'\n",
       "\\item '6'\n",
       "\\item '9'\n",
       "\\item '6'\n",
       "\\item '3'\n",
       "\\item '4'\n",
       "\\item '3'\n",
       "\\item '4'\n",
       "\\item '6'\n",
       "\\item '3'\n",
       "\\item '6'\n",
       "\\item '6'\n",
       "\\item '3'\n",
       "\\item '4'\n",
       "\\item '3'\n",
       "\\item '6'\n",
       "\\item '4'\n",
       "\\item '6'\n",
       "\\item '3'\n",
       "\\item '6'\n",
       "\\item '4'\n",
       "\\item '4'\n",
       "\\item '4'\n",
       "\\item '9'\n",
       "\\item '4'\n",
       "\\item '9'\n",
       "\\item '4'\n",
       "\\item '9'\n",
       "\\item '6'\n",
       "\\item '4'\n",
       "\\item '6'\n",
       "\\item '3'\n",
       "\\item '6'\n",
       "\\item '4'\n",
       "\\item '6'\n",
       "\\item '4'\n",
       "\\item '3'\n",
       "\\item '4'\n",
       "\\item '4'\n",
       "\\item '6'\n",
       "\\item '4'\n",
       "\\item '9'\n",
       "\\item '6'\n",
       "\\item '3'\n",
       "\\item '3'\n",
       "\\item '6'\n",
       "\\item '4'\n",
       "\\item '6'\n",
       "\\item '3'\n",
       "\\item '6'\n",
       "\\item '9'\n",
       "\\item '4'\n",
       "\\item '4'\n",
       "\\item '3'\n",
       "\\item '4'\n",
       "\\item '6'\n",
       "\\item '4'\n",
       "\\item '6'\n",
       "\\item '4'\n",
       "\\item '9'\n",
       "\\item '6'\n",
       "\\item '3'\n",
       "\\item '6'\n",
       "\\item '4'\n",
       "\\item '9'\n",
       "\\item '3'\n",
       "\\item '4'\n",
       "\\item '4'\n",
       "\\item '4'\n",
       "\\item '9'\n",
       "\\item '4'\n",
       "\\item '6'\n",
       "\\item '9'\n",
       "\\item '3'\n",
       "\\item '4'\n",
       "\\item '4'\n",
       "\\item '4'\n",
       "\\item '4'\n",
       "\\item '6'\n",
       "\\item '4'\n",
       "\\item '9'\n",
       "\\item '4'\n",
       "\\item '4'\n",
       "\\item '9'\n",
       "\\item '6'\n",
       "\\item '3'\n",
       "\\item '9'\n",
       "\\item '3'\n",
       "\\item '3'\n",
       "\\item '3'\n",
       "\\item '6'\n",
       "\\item '3'\n",
       "\\item '3'\n",
       "\\item '9'\n",
       "\\item '4'\n",
       "\\item '9'\n",
       "\\item '6'\n",
       "\\item '9'\n",
       "\\item '3'\n",
       "\\item '9'\n",
       "\\end{enumerate*}\n"
      ],
      "text/markdown": [
       "1. '9'\n",
       "2. '6'\n",
       "3. '9'\n",
       "4. '6'\n",
       "5. '3'\n",
       "6. '4'\n",
       "7. '3'\n",
       "8. '4'\n",
       "9. '6'\n",
       "10. '3'\n",
       "11. '6'\n",
       "12. '6'\n",
       "13. '3'\n",
       "14. '4'\n",
       "15. '3'\n",
       "16. '6'\n",
       "17. '4'\n",
       "18. '6'\n",
       "19. '3'\n",
       "20. '6'\n",
       "21. '4'\n",
       "22. '4'\n",
       "23. '4'\n",
       "24. '9'\n",
       "25. '4'\n",
       "26. '9'\n",
       "27. '4'\n",
       "28. '9'\n",
       "29. '6'\n",
       "30. '4'\n",
       "31. '6'\n",
       "32. '3'\n",
       "33. '6'\n",
       "34. '4'\n",
       "35. '6'\n",
       "36. '4'\n",
       "37. '3'\n",
       "38. '4'\n",
       "39. '4'\n",
       "40. '6'\n",
       "41. '4'\n",
       "42. '9'\n",
       "43. '6'\n",
       "44. '3'\n",
       "45. '3'\n",
       "46. '6'\n",
       "47. '4'\n",
       "48. '6'\n",
       "49. '3'\n",
       "50. '6'\n",
       "51. '9'\n",
       "52. '4'\n",
       "53. '4'\n",
       "54. '3'\n",
       "55. '4'\n",
       "56. '6'\n",
       "57. '4'\n",
       "58. '6'\n",
       "59. '4'\n",
       "60. '9'\n",
       "61. '6'\n",
       "62. '3'\n",
       "63. '6'\n",
       "64. '4'\n",
       "65. '9'\n",
       "66. '3'\n",
       "67. '4'\n",
       "68. '4'\n",
       "69. '4'\n",
       "70. '9'\n",
       "71. '4'\n",
       "72. '6'\n",
       "73. '9'\n",
       "74. '3'\n",
       "75. '4'\n",
       "76. '4'\n",
       "77. '4'\n",
       "78. '4'\n",
       "79. '6'\n",
       "80. '4'\n",
       "81. '9'\n",
       "82. '4'\n",
       "83. '4'\n",
       "84. '9'\n",
       "85. '6'\n",
       "86. '3'\n",
       "87. '9'\n",
       "88. '3'\n",
       "89. '3'\n",
       "90. '3'\n",
       "91. '6'\n",
       "92. '3'\n",
       "93. '3'\n",
       "94. '9'\n",
       "95. '4'\n",
       "96. '9'\n",
       "97. '6'\n",
       "98. '9'\n",
       "99. '3'\n",
       "100. '9'\n",
       "\n",
       "\n"
      ],
      "text/plain": [
       "  [1] \"9\" \"6\" \"9\" \"6\" \"3\" \"4\" \"3\" \"4\" \"6\" \"3\" \"6\" \"6\" \"3\" \"4\" \"3\" \"6\" \"4\" \"6\"\n",
       " [19] \"3\" \"6\" \"4\" \"4\" \"4\" \"9\" \"4\" \"9\" \"4\" \"9\" \"6\" \"4\" \"6\" \"3\" \"6\" \"4\" \"6\" \"4\"\n",
       " [37] \"3\" \"4\" \"4\" \"6\" \"4\" \"9\" \"6\" \"3\" \"3\" \"6\" \"4\" \"6\" \"3\" \"6\" \"9\" \"4\" \"4\" \"3\"\n",
       " [55] \"4\" \"6\" \"4\" \"6\" \"4\" \"9\" \"6\" \"3\" \"6\" \"4\" \"9\" \"3\" \"4\" \"4\" \"4\" \"9\" \"4\" \"6\"\n",
       " [73] \"9\" \"3\" \"4\" \"4\" \"4\" \"4\" \"6\" \"4\" \"9\" \"4\" \"4\" \"9\" \"6\" \"3\" \"9\" \"3\" \"3\" \"3\"\n",
       " [91] \"6\" \"3\" \"3\" \"9\" \"4\" \"9\" \"6\" \"9\" \"3\" \"9\""
      ]
     },
     "metadata": {},
     "output_type": "display_data"
    }
   ],
   "source": [
    "\n",
    "## Tabla con el detalle:\n",
    "pp <- predict(modelo, escenario) |> round(2)\n",
    "\n",
    "## Gráfico de barras:\n",
    "ppclass <- predict(modelo, escenario, type = \"class\")\n",
    "ppclass"
   ]
  }
 ],
 "metadata": {
  "anaconda-cloud": {},
  "celltoolbar": "Slideshow",
  "hide_input": false,
  "kernelspec": {
   "display_name": "R",
   "language": "R",
   "name": "ir"
  },
  "language_info": {
   "codemirror_mode": "r",
   "file_extension": ".r",
   "mimetype": "text/x-r-source",
   "name": "R",
   "pygments_lexer": "r",
   "version": "4.2.3"
  },
  "latex_envs": {
   "LaTeX_envs_menu_present": true,
   "autoclose": false,
   "autocomplete": true,
   "bibliofile": "biblio.bib",
   "cite_by": "apalike",
   "current_citInitial": 1,
   "eqLabelWithNumbers": true,
   "eqNumInitial": 1,
   "hotkeys": {
    "equation": "Ctrl-E",
    "itemize": "Ctrl-I"
   },
   "labels_anchors": false,
   "latex_user_defs": false,
   "report_style_numbering": true,
   "user_envs_cfg": false
  },
  "varInspector": {
   "cols": {
    "lenName": 16,
    "lenType": 16,
    "lenVar": 40
   },
   "kernels_config": {
    "python": {
     "delete_cmd_postfix": "",
     "delete_cmd_prefix": "del ",
     "library": "var_list.py",
     "varRefreshCmd": "print(var_dic_list())"
    },
    "r": {
     "delete_cmd_postfix": ") ",
     "delete_cmd_prefix": "rm(",
     "library": "var_list.r",
     "varRefreshCmd": "cat(var_dic_list()) "
    }
   },
   "types_to_exclude": [
    "module",
    "function",
    "builtin_function_or_method",
    "instance",
    "_Feature"
   ],
   "window_display": false
  },
  "widgets": {
   "application/vnd.jupyter.widget-state+json": {
    "state": {},
    "version_major": 2,
    "version_minor": 0
   }
  }
 },
 "nbformat": 4,
 "nbformat_minor": 1
}
