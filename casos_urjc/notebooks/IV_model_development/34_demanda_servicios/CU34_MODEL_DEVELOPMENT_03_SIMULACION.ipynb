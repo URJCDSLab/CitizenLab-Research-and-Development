{
 "cells": [
  {
   "attachments": {},
   "cell_type": "markdown",
   "metadata": {
    "slideshow": {
     "slide_type": "slide"
    }
   },
   "source": [
    "\n",
    "# <center><font color= #F08080 > <b>CU34_Predicción de demanda de servicios</font></center>"
   ]
  },
  {
   "attachments": {},
   "cell_type": "markdown",
   "metadata": {
    "heading_collapsed": true
   },
   "source": [
    "#  <font color='green'>IV. Model development</font>\n",
    "\n",
    "En este anexo se incluye el código utilizado durante el desarrollo \n",
    "de los modelos incluidos en el caso de uso."
   ]
  },
  {
   "cell_type": "code",
   "execution_count": 1,
   "metadata": {
    "vscode": {
     "languageId": "r"
    }
   },
   "outputs": [
    {
     "data": {
      "text/html": [
       "'es_ES.UTF-8/es_ES.UTF-8/es_ES.UTF-8/C/es_ES.UTF-8/C'"
      ],
      "text/latex": [
       "'es\\_ES.UTF-8/es\\_ES.UTF-8/es\\_ES.UTF-8/C/es\\_ES.UTF-8/C'"
      ],
      "text/markdown": [
       "'es_ES.UTF-8/es_ES.UTF-8/es_ES.UTF-8/C/es_ES.UTF-8/C'"
      ],
      "text/plain": [
       "[1] \"es_ES.UTF-8/es_ES.UTF-8/es_ES.UTF-8/C/es_ES.UTF-8/C\""
      ]
     },
     "metadata": {},
     "output_type": "display_data"
    }
   ],
   "source": [
    "Sys.setlocale(category = \"LC_ALL\", locale = \"es_ES.UTF-8\")"
   ]
  },
  {
   "attachments": {},
   "cell_type": "markdown",
   "metadata": {},
   "source": [
    "## Modelo SIMULACION"
   ]
  },
  {
   "attachments": {},
   "cell_type": "markdown",
   "metadata": {},
   "source": [
    "## Paquetes\n",
    "\n"
   ]
  },
  {
   "cell_type": "code",
   "execution_count": 2,
   "metadata": {
    "vscode": {
     "languageId": "r"
    }
   },
   "outputs": [],
   "source": [
    "library(readr)\n",
    "library(purrr)\n",
    "library(tibble)"
   ]
  },
  {
   "attachments": {},
   "cell_type": "markdown",
   "metadata": {},
   "source": [
    "## Datos"
   ]
  },
  {
   "cell_type": "code",
   "execution_count": 3,
   "metadata": {
    "vscode": {
     "languageId": "r"
    }
   },
   "outputs": [
    {
     "name": "stderr",
     "output_type": "stream",
     "text": [
      "\u001b[1mRows: \u001b[22m\u001b[34m100\u001b[39m \u001b[1mColumns: \u001b[22m\u001b[34m25\u001b[39m\n",
      "\u001b[36m──\u001b[39m \u001b[1mColumn specification\u001b[22m \u001b[36m────────────────────────────────────────────────────────\u001b[39m\n",
      "\u001b[1mDelimiter:\u001b[22m \",\"\n",
      "\u001b[32mdbl\u001b[39m (25): Futbol, nservicios, capacidad, tmed, prec, velmedia, presMax, t1_1...\n",
      "\n",
      "\u001b[36mℹ\u001b[39m Use `spec()` to retrieve the full column specification for this data.\n",
      "\u001b[36mℹ\u001b[39m Specify the column types or set `show_col_types = FALSE` to quiet this message.\n"
     ]
    }
   ],
   "source": [
    "escenario <- read_csv(\"ESCENARIO_SERVICIOS.csv\")\n",
    "\n",
    "pfutbol <- sum(escenario$Futbol == 1) / nrow(escenario)\n",
    "rate_nservicios <- mean(escenario$nservicios)\n",
    "rate_capacidad <- mean(escenario$capacidad)\n",
    "m_cont <- apply(escenario[,4:25], 2, mean)\n",
    "s_cont <- apply(escenario[,4:25], 2, sd)"
   ]
  },
  {
   "attachments": {},
   "cell_type": "markdown",
   "metadata": {},
   "source": [
    "## Simulación"
   ]
  },
  {
   "cell_type": "code",
   "execution_count": 4,
   "metadata": {
    "vscode": {
     "languageId": "r"
    }
   },
   "outputs": [],
   "source": [
    "nsim <- 1000\n",
    "\n",
    "mat <- matrix(rep(NA_real_, nsim*ncol(escenario)), ncol = ncol(escenario))\n",
    "\n",
    "mat[, 1] <- rbinom(nsim, size = 1, prob = pfutbol)\n",
    "mat[, 2:3] <- sapply(c(rate_nservicios, rate_capacidad),\n",
    "                     function(x) rpois(nsim, lambda = x))\n",
    "\n",
    "mat[, 4:25] <- sapply((4:25) - 3,\n",
    "                     function(x) rnorm(nsim, mean = m_cont[x], sd = s_cont[x]))\n",
    "\n",
    "colnames(mat) <- colnames(escenario)\n",
    "\n",
    "simulacion <- as_tibble(mat)"
   ]
  },
  {
   "cell_type": "code",
   "execution_count": 5,
   "metadata": {
    "vscode": {
     "languageId": "r"
    }
   },
   "outputs": [
    {
     "name": "stdout",
     "output_type": "stream",
     "text": [
      "Rows: 1,000\n",
      "Columns: 25\n",
      "$ Futbol           \u001b[3m\u001b[90m<dbl>\u001b[39m\u001b[23m 0, 0, 0, 0, 0, 1, 0, 1, 1, 0, 1, 1, 0, 0, 0, 0, 0, 0,…\n",
      "$ nservicios       \u001b[3m\u001b[90m<dbl>\u001b[39m\u001b[23m 15, 12, 12, 18, 17, 16, 9, 22, 21, 17, 9, 17, 13, 20,…\n",
      "$ capacidad        \u001b[3m\u001b[90m<dbl>\u001b[39m\u001b[23m 77, 74, 78, 65, 63, 90, 70, 71, 63, 78, 72, 68, 70, 6…\n",
      "$ tmed             \u001b[3m\u001b[90m<dbl>\u001b[39m\u001b[23m 4.544125, 10.441570, 7.442506, 7.425750, 7.223578, 8.…\n",
      "$ prec             \u001b[3m\u001b[90m<dbl>\u001b[39m\u001b[23m 0.34062290, -1.08651944, -0.07995846, 1.50459822, 2.5…\n",
      "$ velmedia         \u001b[3m\u001b[90m<dbl>\u001b[39m\u001b[23m 1.80643454, 1.65269822, 1.73911308, 2.39094249, 1.414…\n",
      "$ presMax          \u001b[3m\u001b[90m<dbl>\u001b[39m\u001b[23m 968.7190, 947.9568, 953.0482, 948.5157, 954.1340, 954…\n",
      "$ t1_1             \u001b[3m\u001b[90m<dbl>\u001b[39m\u001b[23m 1499.5222, 1676.9225, 1968.1704, 1358.5512, 755.7294,…\n",
      "$ t2_1             \u001b[3m\u001b[90m<dbl>\u001b[39m\u001b[23m 0.5646380, 0.5348401, 0.5138715, 0.5324088, 0.5153299…\n",
      "$ t2_2             \u001b[3m\u001b[90m<dbl>\u001b[39m\u001b[23m 0.4541116, 0.4497161, 0.4846589, 0.4406994, 0.4976548…\n",
      "$ t3_1             \u001b[3m\u001b[90m<dbl>\u001b[39m\u001b[23m 33.31352, 54.20558, 44.97541, 37.15042, 33.49787, 42.…\n",
      "$ t4_1             \u001b[3m\u001b[90m<dbl>\u001b[39m\u001b[23m 0.15390149, 0.07396279, 0.16766487, 0.11075095, 0.187…\n",
      "$ t4_2             \u001b[3m\u001b[90m<dbl>\u001b[39m\u001b[23m 0.6595090, 0.6865000, 0.6113174, 0.6083341, 0.6531161…\n",
      "$ t4_3             \u001b[3m\u001b[90m<dbl>\u001b[39m\u001b[23m 0.19464037, 0.10987328, 0.20351146, 0.02104825, 0.254…\n",
      "$ t5_1             \u001b[3m\u001b[90m<dbl>\u001b[39m\u001b[23m 0.18499626, 0.16885911, 0.27943119, 0.27257173, 0.146…\n",
      "$ t6_1             \u001b[3m\u001b[90m<dbl>\u001b[39m\u001b[23m 0.24241075, 0.23408886, 0.04529902, 0.35798803, 0.360…\n",
      "$ t7_1             \u001b[3m\u001b[90m<dbl>\u001b[39m\u001b[23m 0.06777850, 0.04607720, 0.02842602, 0.04774275, 0.081…\n",
      "$ t8_1             \u001b[3m\u001b[90m<dbl>\u001b[39m\u001b[23m 0.05912861, 0.03292578, 0.02536174, 0.06471854, 0.015…\n",
      "$ t9_1             \u001b[3m\u001b[90m<dbl>\u001b[39m\u001b[23m 0.4074883, 0.4673972, 0.3966161, 0.3628494, 0.1968037…\n",
      "$ t10_1            \u001b[3m\u001b[90m<dbl>\u001b[39m\u001b[23m 0.11258084, 0.05797762, 0.03849303, 0.14448410, 0.129…\n",
      "$ t11_1            \u001b[3m\u001b[90m<dbl>\u001b[39m\u001b[23m 0.5428592, 0.4752015, 0.4504140, 0.3365267, 0.5301107…\n",
      "$ t12_1            \u001b[3m\u001b[90m<dbl>\u001b[39m\u001b[23m 0.5279616, 0.5434032, 0.6829429, 0.4908414, 0.6474422…\n",
      "$ area             \u001b[3m\u001b[90m<dbl>\u001b[39m\u001b[23m -2070678.2, -3815332.6, 698574.8, 325532.9, -3427687.…\n",
      "$ elevation        \u001b[3m\u001b[90m<dbl>\u001b[39m\u001b[23m 765.5048, 863.8172, 672.6513, 714.4876, 663.4118, 592…\n",
      "$ densidad_hab_km2 \u001b[3m\u001b[90m<dbl>\u001b[39m\u001b[23m 43257.282, 18510.746, -13499.931, -7679.538, -9777.49…\n"
     ]
    }
   ],
   "source": [
    "glimpse(simulacion)"
   ]
  }
 ],
 "metadata": {
  "anaconda-cloud": {},
  "celltoolbar": "Slideshow",
  "hide_input": false,
  "kernelspec": {
   "display_name": "R",
   "language": "R",
   "name": "ir"
  },
  "language_info": {
   "codemirror_mode": "r",
   "file_extension": ".r",
   "mimetype": "text/x-r-source",
   "name": "R",
   "pygments_lexer": "r",
   "version": "4.2.3"
  },
  "latex_envs": {
   "LaTeX_envs_menu_present": true,
   "autoclose": false,
   "autocomplete": true,
   "bibliofile": "biblio.bib",
   "cite_by": "apalike",
   "current_citInitial": 1,
   "eqLabelWithNumbers": true,
   "eqNumInitial": 1,
   "hotkeys": {
    "equation": "Ctrl-E",
    "itemize": "Ctrl-I"
   },
   "labels_anchors": false,
   "latex_user_defs": false,
   "report_style_numbering": true,
   "user_envs_cfg": false
  },
  "varInspector": {
   "cols": {
    "lenName": 16,
    "lenType": 16,
    "lenVar": 40
   },
   "kernels_config": {
    "python": {
     "delete_cmd_postfix": "",
     "delete_cmd_prefix": "del ",
     "library": "var_list.py",
     "varRefreshCmd": "print(var_dic_list())"
    },
    "r": {
     "delete_cmd_postfix": ") ",
     "delete_cmd_prefix": "rm(",
     "library": "var_list.r",
     "varRefreshCmd": "cat(var_dic_list()) "
    }
   },
   "types_to_exclude": [
    "module",
    "function",
    "builtin_function_or_method",
    "instance",
    "_Feature"
   ],
   "window_display": false
  },
  "widgets": {
   "application/vnd.jupyter.widget-state+json": {
    "state": {},
    "version_major": 2,
    "version_minor": 0
   }
  }
 },
 "nbformat": 4,
 "nbformat_minor": 1
}
