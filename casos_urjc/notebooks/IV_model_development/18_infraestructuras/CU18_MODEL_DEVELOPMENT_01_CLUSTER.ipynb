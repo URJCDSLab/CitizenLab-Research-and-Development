{
 "cells": [
  {
   "attachments": {},
   "cell_type": "markdown",
   "metadata": {
    "slideshow": {
     "slide_type": "slide"
    }
   },
   "source": [
    "\n",
    "# <center><font color= #F08080 > <b>CU18_Comportamienta Infra. Eventos extremos</font></center>"
   ]
  },
  {
   "attachments": {},
   "cell_type": "markdown",
   "metadata": {
    "heading_collapsed": true
   },
   "source": [
    "#  <font color='green'>IV. Model development</font>\n",
    "\n",
    "En este anexo se incluye el código utilizado durante el desarrollo \n",
    "de los modelos incluidos en el caso de uso."
   ]
  },
  {
   "attachments": {},
   "cell_type": "markdown",
   "metadata": {},
   "source": [
    "## Modelo CLUSTER\n",
    "\n"
   ]
  },
  {
   "attachments": {},
   "cell_type": "markdown",
   "metadata": {},
   "source": [
    "### Paquetes"
   ]
  },
  {
   "cell_type": "code",
   "execution_count": 6,
   "metadata": {
    "vscode": {
     "languageId": "r"
    }
   },
   "outputs": [],
   "source": [
    "## Paquetes\n",
    "library(readr)\n",
    "library(dplyr)\n",
    "library(tidyr)\n",
    "library(cluster)\n",
    "library(recipes)\n",
    "library(janitor)\n",
    "library(purrr)\n",
    "library(FactoMineR)\n",
    "library(mclust)"
   ]
  },
  {
   "attachments": {},
   "cell_type": "markdown",
   "metadata": {},
   "source": [
    "### Datos"
   ]
  },
  {
   "attachments": {},
   "cell_type": "markdown",
   "metadata": {},
   "source": [
    "### Clustering\n",
    "\n",
    "A dos niveles: distrito y diario"
   ]
  },
  {
   "attachments": {},
   "cell_type": "markdown",
   "metadata": {},
   "source": [
    "### Nivel diario"
   ]
  },
  {
   "cell_type": "code",
   "execution_count": 7,
   "metadata": {
    "vscode": {
     "languageId": "r"
    }
   },
   "outputs": [
    {
     "name": "stderr",
     "output_type": "stream",
     "text": [
      "\u001b[1mRows: \u001b[22m\u001b[34m247\u001b[39m \u001b[1mColumns: \u001b[22m\u001b[34m143\u001b[39m\n",
      "\u001b[36m--\u001b[39m \u001b[1mColumn specification\u001b[22m \u001b[36m--------------------------------------------------------\u001b[39m\n",
      "\u001b[1mDelimiter:\u001b[22m \",\"\n",
      "\u001b[31mchr\u001b[39m   (2): cmun, cdis\n",
      "\u001b[32mdbl\u001b[39m (141): consultorios_de_salud, helisuperficies, centros_de_atencion_a_dro...\n",
      "\n",
      "\u001b[36mi\u001b[39m Use `spec()` to retrieve the full column specification for this data.\n",
      "\u001b[36mi\u001b[39m Specify the column types or set `show_col_types = FALSE` to quiet this message.\n"
     ]
    },
    {
     "data": {
      "text/html": [
       "<table class=\"dataframe\">\n",
       "<caption>A spec_tbl_df: 1 x 143</caption>\n",
       "<thead>\n",
       "\t<tr><th scope=col>cmun</th><th scope=col>cdis</th><th scope=col>consultorios_de_salud</th><th scope=col>helisuperficies</th><th scope=col>centros_de_atencion_a_drogodependientes</th><th scope=col>centros_de_salud</th><th scope=col>estaciones_de_cercanias</th><th scope=col>hospitales</th><th scope=col>otros_centros_de_salud</th><th scope=col>centros_de_salud_mental</th><th scope=col>...</th><th scope=col>camp_site</th><th scope=col>general</th><th scope=col>alpine_hut</th><th scope=col>video_shop</th><th scope=col>vending_machine</th><th scope=col>car_sharing</th><th scope=col>tmed</th><th scope=col>prec</th><th scope=col>velmedia</th><th scope=col>presMax</th></tr>\n",
       "\t<tr><th scope=col>&lt;chr&gt;</th><th scope=col>&lt;chr&gt;</th><th scope=col>&lt;dbl&gt;</th><th scope=col>&lt;dbl&gt;</th><th scope=col>&lt;dbl&gt;</th><th scope=col>&lt;dbl&gt;</th><th scope=col>&lt;dbl&gt;</th><th scope=col>&lt;dbl&gt;</th><th scope=col>&lt;dbl&gt;</th><th scope=col>&lt;dbl&gt;</th><th scope=col>...</th><th scope=col>&lt;dbl&gt;</th><th scope=col>&lt;dbl&gt;</th><th scope=col>&lt;dbl&gt;</th><th scope=col>&lt;dbl&gt;</th><th scope=col>&lt;dbl&gt;</th><th scope=col>&lt;dbl&gt;</th><th scope=col>&lt;dbl&gt;</th><th scope=col>&lt;dbl&gt;</th><th scope=col>&lt;dbl&gt;</th><th scope=col>&lt;dbl&gt;</th></tr>\n",
       "</thead>\n",
       "<tbody>\n",
       "\t<tr><td>NA</td><td>NA</td><td>0</td><td>0</td><td>0</td><td>0</td><td>1</td><td>0</td><td>0</td><td>0</td><td>...</td><td>0</td><td>0</td><td>0</td><td>0</td><td>0</td><td>0</td><td>NA</td><td>NA</td><td>NA</td><td>NA</td></tr>\n",
       "</tbody>\n",
       "</table>\n"
      ],
      "text/latex": [
       "A spec\\_tbl\\_df: 1 x 143\n",
       "\\begin{tabular}{lllllllllllllllllllll}\n",
       " cmun & cdis & consultorios\\_de\\_salud & helisuperficies & centros\\_de\\_atencion\\_a\\_drogodependientes & centros\\_de\\_salud & estaciones\\_de\\_cercanias & hospitales & otros\\_centros\\_de\\_salud & centros\\_de\\_salud\\_mental & ... & camp\\_site & general & alpine\\_hut & video\\_shop & vending\\_machine & car\\_sharing & tmed & prec & velmedia & presMax\\\\\n",
       " <chr> & <chr> & <dbl> & <dbl> & <dbl> & <dbl> & <dbl> & <dbl> & <dbl> & <dbl> & ... & <dbl> & <dbl> & <dbl> & <dbl> & <dbl> & <dbl> & <dbl> & <dbl> & <dbl> & <dbl>\\\\\n",
       "\\hline\n",
       "\t NA & NA & 0 & 0 & 0 & 0 & 1 & 0 & 0 & 0 & ... & 0 & 0 & 0 & 0 & 0 & 0 & NA & NA & NA & NA\\\\\n",
       "\\end{tabular}\n"
      ],
      "text/markdown": [
       "\n",
       "A spec_tbl_df: 1 x 143\n",
       "\n",
       "| cmun &lt;chr&gt; | cdis &lt;chr&gt; | consultorios_de_salud &lt;dbl&gt; | helisuperficies &lt;dbl&gt; | centros_de_atencion_a_drogodependientes &lt;dbl&gt; | centros_de_salud &lt;dbl&gt; | estaciones_de_cercanias &lt;dbl&gt; | hospitales &lt;dbl&gt; | otros_centros_de_salud &lt;dbl&gt; | centros_de_salud_mental &lt;dbl&gt; | ... ... | camp_site &lt;dbl&gt; | general &lt;dbl&gt; | alpine_hut &lt;dbl&gt; | video_shop &lt;dbl&gt; | vending_machine &lt;dbl&gt; | car_sharing &lt;dbl&gt; | tmed &lt;dbl&gt; | prec &lt;dbl&gt; | velmedia &lt;dbl&gt; | presMax &lt;dbl&gt; |\n",
       "|---|---|---|---|---|---|---|---|---|---|---|---|---|---|---|---|---|---|---|---|---|\n",
       "| NA | NA | 0 | 0 | 0 | 0 | 1 | 0 | 0 | 0 | ... | 0 | 0 | 0 | 0 | 0 | 0 | NA | NA | NA | NA |\n",
       "\n"
      ],
      "text/plain": [
       "  cmun cdis consultorios_de_salud helisuperficies\n",
       "1 NA   NA   0                     0              \n",
       "  centros_de_atencion_a_drogodependientes centros_de_salud\n",
       "1 0                                       0               \n",
       "  estaciones_de_cercanias hospitales otros_centros_de_salud\n",
       "1 1                       0          0                     \n",
       "  centros_de_salud_mental ... camp_site general alpine_hut video_shop\n",
       "1 0                       ... 0         0       0          0         \n",
       "  vending_machine car_sharing tmed prec velmedia presMax\n",
       "1 0               0           NA   NA   NA       NA     "
      ]
     },
     "metadata": {},
     "output_type": "display_data"
    },
    {
     "data": {
      "text/html": [
       "1543"
      ],
      "text/latex": [
       "1543"
      ],
      "text/markdown": [
       "1543"
      ],
      "text/plain": [
       "[1] 1543"
      ]
     },
     "metadata": {},
     "output_type": "display_data"
    },
    {
     "data": {
      "text/html": [
       "0"
      ],
      "text/latex": [
       "0"
      ],
      "text/markdown": [
       "0"
      ],
      "text/plain": [
       "[1] 0"
      ]
     },
     "metadata": {},
     "output_type": "display_data"
    },
    {
     "data": {
      "text/html": [
       "0"
      ],
      "text/latex": [
       "0"
      ],
      "text/markdown": [
       "0"
      ],
      "text/plain": [
       "[1] 0"
      ]
     },
     "metadata": {},
     "output_type": "display_data"
    },
    {
     "data": {
      "text/plain": [
       "---------------------------------------------------- \n",
       "Gaussian finite mixture model fitted by EM algorithm \n",
       "---------------------------------------------------- \n",
       "\n",
       "Mclust VEI (diagonal, equal shape) model with 3 components: \n",
       "\n",
       " log-likelihood   n  df       BIC       ICL\n",
       "       -43151.3 246 560 -89385.58 -89385.58\n",
       "\n",
       "Clustering table:\n",
       "  1   2   3 \n",
       " 88 106  52 "
      ]
     },
     "metadata": {},
     "output_type": "display_data"
    }
   ],
   "source": [
    "NIVEL <- \"Diario\"\n",
    "\n",
    "  \n",
    "  ## DISTRITOS ----\n",
    "  \n",
    "  df <- read_csv(\"CU_18_05_16_distritos_variables.csv\")\n",
    "  \n",
    "  ## Valores perdidos que tendría que haber solucionado en sus\n",
    "  ## notebooks pero lo hago aquí\n",
    "  \n",
    "  ids <- df |> drop_na(cmun) |> select(1:2)\n",
    "  df |> filter(is.na(cmun))\n",
    "  df <- df |> \n",
    "    drop_na(cmun) |> \n",
    "    select(-c(\"cmun\", \"cdis\", \"X\", \"Y\"))\n",
    "  \n",
    "  ## ¿hay perdidos?\n",
    "  \n",
    "  df |> \n",
    "    map_dbl(~sum(is.na(.x))) |> \n",
    "    sum()\n",
    "  \n",
    "  ## ¿hay varianza cero?\n",
    "  df |> \n",
    "    map_dbl(~var(.x, na.rm = TRUE) == 0) |> \n",
    "    sum()\n",
    "  \n",
    "  \n",
    "  \n",
    "  # df_complete <- df |>\n",
    "  #   drop_na()\n",
    "  \n",
    "  ## Imputo por KNN\n",
    "  \n",
    "  rec <- recipe(\n",
    "    ~ .,\n",
    "    data = df\n",
    "  )\n",
    "  \n",
    "  impute_recipe <- rec |>\n",
    "    step_impute_knn(all_predictors(), neighbors = 3)\n",
    "  impute_recipe2 <- prep(impute_recipe, training = df)\n",
    "  df_imputed <- bake(impute_recipe2, df)\n",
    "  \n",
    "  df_imputed |> \n",
    "    map_dbl(~sum(is.na(.x))) |> \n",
    "    sum()\n",
    "  \n",
    "  \n",
    "  ## Cluster ----\n",
    "  \n",
    "  # https://bradleyboehmke.github.io/HOML/model-clustering.html\n",
    "  \n",
    "  \n",
    "  \n",
    "  # dfz <- scale(df_imputed)\n",
    "  \n",
    "  df_mc <- Mclust(df_imputed)\n",
    "  \n",
    "  summary(df_mc)\n",
    "  \n",
    "  # plot(df_mc, what = \"density\", dimens = 1:4)\n",
    "  # plot(df_mc, what = \"BIC\")\n",
    "  \n",
    "  \n",
    "  \n",
    "  ## PCA para visuals\n",
    "  \n",
    "  dfpca <- PCA(df_imputed, graph = FALSE)\n",
    "  # dfpca$ind$coord\n",
    "  # summary(dfpca)\n",
    "  \n",
    "  dfout <- ids |> \n",
    "    bind_cols(dfpca$ind$coord,\n",
    "              cluster = factor(df_mc$classification),\n",
    "              df_imputed)\n",
    "  \n",
    "  \n",
    "  write_rds(dfout, \"datos_cluster_distritos.rds\")\n",
    "  write_rds(df_mc, \"modelo_cluster_distritos.rds\")\n",
    "  \n"
   ]
  },
  {
   "attachments": {},
   "cell_type": "markdown",
   "metadata": {},
   "source": [
    "### Nivel distrito\n"
   ]
  },
  {
   "cell_type": "code",
   "execution_count": 8,
   "metadata": {
    "vscode": {
     "languageId": "r"
    }
   },
   "outputs": [
    {
     "name": "stderr",
     "output_type": "stream",
     "text": [
      "\u001b[1mRows: \u001b[22m\u001b[34m415370\u001b[39m \u001b[1mColumns: \u001b[22m\u001b[34m10\u001b[39m\n",
      "\u001b[36m--\u001b[39m \u001b[1mColumn specification\u001b[22m \u001b[36m--------------------------------------------------------\u001b[39m\n",
      "\u001b[1mDelimiter:\u001b[22m \",\"\n",
      "\u001b[32mdbl\u001b[39m  (9): id_inf, capacidad, demanda, evento_infra, evento_zona, tmed, prec,...\n",
      "\u001b[34mdate\u001b[39m (1): fecha\n",
      "\n",
      "\u001b[36mi\u001b[39m Use `spec()` to retrieve the full column specification for this data.\n",
      "\u001b[36mi\u001b[39m Specify the column types or set `show_col_types = FALSE` to quiet this message.\n"
     ]
    },
    {
     "data": {
      "text/html": [
       "37554"
      ],
      "text/latex": [
       "37554"
      ],
      "text/markdown": [
       "37554"
      ],
      "text/plain": [
       "[1] 37554"
      ]
     },
     "metadata": {},
     "output_type": "display_data"
    },
    {
     "data": {
      "text/html": [
       "0"
      ],
      "text/latex": [
       "0"
      ],
      "text/markdown": [
       "0"
      ],
      "text/plain": [
       "[1] 0"
      ]
     },
     "metadata": {},
     "output_type": "display_data"
    },
    {
     "data": {
      "text/plain": [
       "---------------------------------------------------- \n",
       "Gaussian finite mixture model fitted by EM algorithm \n",
       "---------------------------------------------------- \n",
       "\n",
       "Mclust VEV (ellipsoidal, equal shape) model with 4 components: \n",
       "\n",
       " log-likelihood      n  df       BIC       ICL\n",
       "       -7449405 377816 158 -14900840 -14903176\n",
       "\n",
       "Clustering table:\n",
       "     1      2      3      4 \n",
       " 53579 116459  80263 127515 "
      ]
     },
     "metadata": {},
     "output_type": "display_data"
    }
   ],
   "source": [
    "\n",
    "  \n",
    "  NIVEL <- \"Diario\"\n",
    "  \n",
    "  ## DIARIO ----\n",
    "  \n",
    "  df <- read_csv(\"CU_18_05_20_diario_infra.csv\")\n",
    "  \n",
    "  ## Valores perdidos que tendría que haber solucionado en sus\n",
    "  ## notebooks pero lo hago aquí\n",
    "  \n",
    "  \n",
    "  ## ¿hay perdidos?\n",
    "  \n",
    "  df |> \n",
    "    map_dbl(~sum(is.na(.x))) |> \n",
    "    sum()\n",
    "  \n",
    "  ## ¿hay varianza cero?\n",
    "  df |> \n",
    "    map_dbl(~var(.x, na.rm = TRUE) == 0) |> \n",
    "    sum()\n",
    "  \n",
    "  ## Quitamos perdidos ya que la imputación no termina\n",
    "  \n",
    "  df_complete <- df |>\n",
    "    drop_na()\n",
    "  \n",
    "  ids <- df_complete |> select(1:2)\n",
    "  df_complete <- df_complete |> \n",
    "    select(-c(1:2))\n",
    "  \n",
    "  \n",
    "\n",
    "  ## Cluster ----\n",
    "  \n",
    "  # https://bradleyboehmke.github.io/HOML/model-clustering.html\n",
    "  \n",
    "  \n",
    "  \n",
    "  # dfz <- scale(df_imputed)\n",
    "  \n",
    "  df_mc <- Mclust(df_complete)\n",
    "  \n",
    "  summary(df_mc)\n",
    "  \n",
    "  # plot(df_mc, what = \"density\", dimens = 1:4)\n",
    "  # plot(df_mc, what = \"BIC\")\n",
    "  \n",
    "  \n",
    "  \n",
    "  ## PCA para visuals\n",
    "  \n",
    "  dfpca <- PCA(df_complete, graph = FALSE)\n",
    "  # dfpca$ind$coord\n",
    "  # summary(dfpca)\n",
    "  \n",
    "  dfout <- ids |> \n",
    "    bind_cols(dfpca$ind$coord,\n",
    "              cluster = factor(df_mc$classification),\n",
    "              df_complete)\n",
    "  \n",
    "  \n",
    "  write_rds(dfout, \"datos_cluster_diario.rds\")\n",
    "  write_rds(df_mc, \"modelo_cluster_diario.rds\")\n",
    "  \n"
   ]
  }
 ],
 "metadata": {
  "anaconda-cloud": {},
  "celltoolbar": "Slideshow",
  "hide_input": false,
  "kernelspec": {
   "display_name": "R",
   "language": "R",
   "name": "ir"
  },
  "language_info": {
   "codemirror_mode": "r",
   "file_extension": ".r",
   "mimetype": "text/x-r-source",
   "name": "R",
   "pygments_lexer": "r",
   "version": "4.2.3"
  },
  "latex_envs": {
   "LaTeX_envs_menu_present": true,
   "autoclose": false,
   "autocomplete": true,
   "bibliofile": "biblio.bib",
   "cite_by": "apalike",
   "current_citInitial": 1,
   "eqLabelWithNumbers": true,
   "eqNumInitial": 1,
   "hotkeys": {
    "equation": "Ctrl-E",
    "itemize": "Ctrl-I"
   },
   "labels_anchors": false,
   "latex_user_defs": false,
   "report_style_numbering": true,
   "user_envs_cfg": false
  },
  "varInspector": {
   "cols": {
    "lenName": 16,
    "lenType": 16,
    "lenVar": 40
   },
   "kernels_config": {
    "python": {
     "delete_cmd_postfix": "",
     "delete_cmd_prefix": "del ",
     "library": "var_list.py",
     "varRefreshCmd": "print(var_dic_list())"
    },
    "r": {
     "delete_cmd_postfix": ") ",
     "delete_cmd_prefix": "rm(",
     "library": "var_list.r",
     "varRefreshCmd": "cat(var_dic_list()) "
    }
   },
   "types_to_exclude": [
    "module",
    "function",
    "builtin_function_or_method",
    "instance",
    "_Feature"
   ],
   "window_display": false
  },
  "widgets": {
   "application/vnd.jupyter.widget-state+json": {
    "state": {},
    "version_major": 2,
    "version_minor": 0
   }
  }
 },
 "nbformat": 4,
 "nbformat_minor": 1
}
