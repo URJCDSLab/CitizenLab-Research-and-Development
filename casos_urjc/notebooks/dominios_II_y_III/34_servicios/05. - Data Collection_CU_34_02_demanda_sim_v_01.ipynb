{
 "cells": [
  {
   "cell_type": "markdown",
   "metadata": {
    "slideshow": {
     "slide_type": "slide"
    }
   },
   "source": [
    "<img src=\".\\images\\Logo.png\" width=150 align=\"left\" /> <img src=\".\\images\\Logo2.jpg\" width=450 align=\"right\" />"
   ]
  },
  {
   "cell_type": "markdown",
   "metadata": {},
   "source": [
    "\n",
    "# <center><font color= #1e8449 > <b>CU34_Predicción de demanda de servicios</font></center>"
   ]
  },
  {
   "cell_type": "markdown",
   "metadata": {
    "slideshow": {
     "slide_type": "slide"
    }
   },
   "source": [
    "<font color='steelblue'><b>Citizenlab Data Science Methodology > II - Data Processing Domain </font>\n",
    "***\n",
    "> # <font color='steelblue'> <b>05.- Data Collection</font>"
   ]
  },
  {
   "cell_type": "markdown",
   "metadata": {
    "slideshow": {
     "slide_type": "slide"
    }
   },
   "source": [
    "<font color='steelblue'>Data Collection is the process to obtain and generate (if required) necessary data to model the problem.</font>"
   ]
  },
  {
   "attachments": {},
   "cell_type": "markdown",
   "metadata": {},
   "source": [
    "### 01. Simulación de demanda de servicios\n",
    "\n",
    "* Simulación de demanda de servicios durante un periodo de tiempo por sección censal\n",
    "* Se toman unas fechas de inicio y fin y un conjunto de servicios\n",
    "* Se expanden a secciones censales y se simulan demandas de servicios\n",
    "\n",
    "\n",
    "\n",
    "\n",
    "\n"
   ]
  },
  {
   "cell_type": "markdown",
   "metadata": {
    "toc": true
   },
   "source": [
    "<h1>Table of Contents<span class=\"tocSkip\"></span></h1>\n",
    "<div class=\"toc\"><ul class=\"toc-item\"><li><span><a href=\"#Settings\" data-toc-modified-id=\"Settings-1\"><font color=\"green\">Settings</font></a></span></li><li><span><a href=\"#Data-Load\" data-toc-modified-id=\"Data-Load-2\"><font color=\"green\">Data Load</font></a></span></li><li><span><a href=\"#ETL-Processes\" data-toc-modified-id=\"ETL-Processes-3\">ETL Processes</a></span><ul class=\"toc-item\"><li><span><a href=\"#Import-data-from:-CSV,-Excel,-Tab,-JSON,-SQL,-and-Parquet-files\" data-toc-modified-id=\"Import-data-from:-CSV,-Excel,-Tab,-JSON,-SQL,-and-Parquet-files-3.1\">Import data from: CSV, Excel, Tab, JSON, SQL, and Parquet files</a></span></li></ul></li><li><span><a href=\"#Synthetic-Data-Generation\" data-toc-modified-id=\"Synthetic-Data-Generation-4\">Synthetic Data Generation</a></span></li><li><span><a href=\"#Fake-Data-Generation\" data-toc-modified-id=\"Fake-Data-Generation-5\">Fake Data Generation</a></span></li><li><span><a href=\"#Open-Data\" data-toc-modified-id=\"Open-Data-6\">Open Data</a></span></li><li><span><a href=\"#Data-Save\" data-toc-modified-id=\"Data-Save-7\"><font color=\"green\">Data Save</font></a></span></li><li><span><a href=\"#Main-Conclusions\" data-toc-modified-id=\"Main-Conclusions-8\"><font color=\" #2874a6 \">Main Conclusions</font></a></span></li><li><span><a href=\"#Main-Actions\" data-toc-modified-id=\"Main-Actions-9\"><font color=\" #2874a6 \">Main Actions</font></a></span><ul class=\"toc-item\"><li><ul class=\"toc-item\"><li><span><a href=\"#Acciones-done\" data-toc-modified-id=\"Acciones-done-9.0.1\"><font color=\" #2874a6 \">Acciones done</font></a></span></li><li><span><a href=\"#Acctions-to-perform\" data-toc-modified-id=\"Acctions-to-perform-9.0.2\"><font color=\" #2874a6 \">Acctions to perform</font></a></span></li></ul></li></ul></li></ul></div>"
   ]
  },
  {
   "cell_type": "markdown",
   "metadata": {
    "slideshow": {
     "slide_type": "slide"
    }
   },
   "source": [
    "## <font color='green'>Settings</font>"
   ]
  },
  {
   "attachments": {},
   "cell_type": "markdown",
   "metadata": {},
   "source": [
    "### Encoding\n",
    "\n",
    "Con la siguiente expresión se evitan problemas con el encoding al ejecutar el notebook. Es posible que deba ser eliminada o adaptada a la máquina en la que se ejecute el código."
   ]
  },
  {
   "cell_type": "code",
   "execution_count": 1,
   "metadata": {
    "vscode": {
     "languageId": "r"
    }
   },
   "outputs": [
    {
     "data": {
      "text/html": [
       "'es_ES.UTF-8/es_ES.UTF-8/es_ES.UTF-8/C/es_ES.UTF-8/C'"
      ],
      "text/latex": [
       "'es\\_ES.UTF-8/es\\_ES.UTF-8/es\\_ES.UTF-8/C/es\\_ES.UTF-8/C'"
      ],
      "text/markdown": [
       "'es_ES.UTF-8/es_ES.UTF-8/es_ES.UTF-8/C/es_ES.UTF-8/C'"
      ],
      "text/plain": [
       "[1] \"es_ES.UTF-8/es_ES.UTF-8/es_ES.UTF-8/C/es_ES.UTF-8/C\""
      ]
     },
     "metadata": {},
     "output_type": "display_data"
    }
   ],
   "source": [
    "Sys.setlocale(category = \"LC_ALL\", locale = \"es_ES.UTF-8\")"
   ]
  },
  {
   "attachments": {},
   "cell_type": "markdown",
   "metadata": {},
   "source": [
    "### Packages to use\n",
    "\n",
    "_ELIMINAR O AÑADIR LO QUE TOQUE. COPIAR VERSIONES AL FINAL Y QUITAR CÓDIGO DE VERSIONES_\n",
    "\n",
    "- {tcltk} para selección interactiva de archivos locales\n",
    "- {sf} para trabajar con georeferenciación\n",
    "- {readr} para leer y escribir archivos csv\n",
    "- {dplyr} para explorar datos\n",
    "- {stringr} para manipulación de cadenas de caracteres\n",
    "- {tidyr} para organización de datos\n"
   ]
  },
  {
   "cell_type": "code",
   "execution_count": 2,
   "metadata": {
    "ExecuteTime": {
     "end_time": "2021-12-03T15:23:33.762841Z",
     "start_time": "2021-12-03T15:23:08.580267Z"
    },
    "slideshow": {
     "slide_type": "subslide"
    },
    "vscode": {
     "languageId": "r"
    }
   },
   "outputs": [
    {
     "name": "stderr",
     "output_type": "stream",
     "text": [
      "Linking to GEOS 3.10.2, GDAL 3.4.2, PROJ 8.2.1; sf_use_s2() is TRUE\n",
      "\n",
      "\n",
      "Attaching package: ‘dplyr’\n",
      "\n",
      "\n",
      "The following objects are masked from ‘package:stats’:\n",
      "\n",
      "    filter, lag\n",
      "\n",
      "\n",
      "The following objects are masked from ‘package:base’:\n",
      "\n",
      "    intersect, setdiff, setequal, union\n",
      "\n",
      "\n",
      "\n",
      "Attaching package: ‘lubridate’\n",
      "\n",
      "\n",
      "The following objects are masked from ‘package:base’:\n",
      "\n",
      "    date, intersect, setdiff, union\n",
      "\n",
      "\n"
     ]
    }
   ],
   "source": [
    "library(sf)\n",
    "library(readr)\n",
    "library(dplyr)\n",
    "library(lubridate)\n",
    "library(elevatr)\n",
    "\n",
    "\n"
   ]
  },
  {
   "attachments": {},
   "cell_type": "markdown",
   "metadata": {},
   "source": [
    "### Paths"
   ]
  },
  {
   "cell_type": "code",
   "execution_count": 3,
   "metadata": {
    "vscode": {
     "languageId": "r"
    }
   },
   "outputs": [],
   "source": [
    "iPath <- \"Data/Input/\"\n",
    "oPath <- \"Data/Output/\""
   ]
  },
  {
   "attachments": {},
   "cell_type": "markdown",
   "metadata": {
    "slideshow": {
     "slide_type": "slide"
    }
   },
   "source": [
    "## <font color='green'>Data Load</font>\n",
    "\n",
    "If there are more than one input file, make as many sections as files to import."
   ]
  },
  {
   "attachments": {},
   "cell_type": "markdown",
   "metadata": {},
   "source": [
    "Instrucciones\n",
    "- Los ficheros de entrada del proceso están siempre en Data/Input/.   \n",
    "- Si hay más de un fichero de entrada, se crean tantos objetos iFile_xx y file_data_xx como ficheros de entrada (xx número correlativo con dos dígitos, rellenar con ceros a la izquierda)"
   ]
  },
  {
   "attachments": {},
   "cell_type": "markdown",
   "metadata": {},
   "source": [
    "1. Geometrías de las secciones censales"
   ]
  },
  {
   "attachments": {},
   "cell_type": "markdown",
   "metadata": {},
   "source": [
    "<font color='tomato'><b> OPCION A:</b> Seleccionar fichero en ventana para mayor comodidad</font> "
   ]
  },
  {
   "attachments": {},
   "cell_type": "markdown",
   "metadata": {},
   "source": [
    "Data load using the {tcltk} package. Ucomment the line if not using this option"
   ]
  },
  {
   "cell_type": "code",
   "execution_count": 4,
   "metadata": {
    "vscode": {
     "languageId": "r"
    }
   },
   "outputs": [],
   "source": [
    "# file_data_01 <- tcltk::tk_choose.files(multi = FALSE)"
   ]
  },
  {
   "attachments": {},
   "cell_type": "markdown",
   "metadata": {},
   "source": [
    "<font color='tomato'><b> OPCION B:</b> Especificar el nombre de archivo</font>\n",
    "\n"
   ]
  },
  {
   "cell_type": "code",
   "execution_count": 5,
   "metadata": {
    "vscode": {
     "languageId": "r"
    }
   },
   "outputs": [
    {
     "name": "stdout",
     "output_type": "stream",
     "text": [
      "Se leerán datos del archivo:  Data/Input/CU_34_05_01_secciones_geo.json"
     ]
    }
   ],
   "source": [
    "iFile_01 <- \"CU_34_05_01_secciones_geo.json\"\n",
    "file_data_01 <- paste0(iPath, iFile_01)\n",
    "\n",
    "if(file.exists(file_data_01)){\n",
    "    cat(\"Se leerán datos del archivo: \", file_data_01)\n",
    "} else{\n",
    "    warning(\"Cuidado: el archivo no existe.\")\n",
    "}\n"
   ]
  },
  {
   "attachments": {},
   "cell_type": "markdown",
   "metadata": {},
   "source": [
    "#### Data file to dataframe\n",
    "\n",
    "Usar la función adecuada según el formato de entrada (xlsx, csv, json, ...)"
   ]
  },
  {
   "cell_type": "code",
   "execution_count": 6,
   "metadata": {
    "vscode": {
     "languageId": "r"
    }
   },
   "outputs": [
    {
     "name": "stdout",
     "output_type": "stream",
     "text": [
      "Reading layer `CU_34_05_01_secciones_geo' from data source \n",
      "  `/Users/emilio.lcano/academico/gh_repos/__transferencia/citizenlab/CitizenLab-Research-and-Development/casos_urjc/notebooks/II_data_processing/34_servicios/Data/Input/CU_34_05_01_secciones_geo.json' \n",
      "  using driver `GeoJSON'\n",
      "Simple feature collection with 4432 features and 16 fields\n",
      "Geometry type: MULTIPOLYGON\n",
      "Dimension:     XY\n",
      "Bounding box:  xmin: -4.579006 ymin: 39.8848 xmax: -3.052983 ymax: 41.16584\n",
      "Geodetic CRS:  WGS 84\n"
     ]
    }
   ],
   "source": [
    "data_01 <- st_read(file_data_01)\n"
   ]
  },
  {
   "attachments": {},
   "cell_type": "markdown",
   "metadata": {},
   "source": [
    "Estructura de  los datos:"
   ]
  },
  {
   "cell_type": "code",
   "execution_count": 7,
   "metadata": {
    "vscode": {
     "languageId": "r"
    }
   },
   "outputs": [
    {
     "name": "stdout",
     "output_type": "stream",
     "text": [
      "Rows: 4,432\n",
      "Columns: 17\n",
      "$ CUSEC    \u001b[3m\u001b[90m<chr>\u001b[39m\u001b[23m \"2800101001\", \"2800201001\", \"2800201002\", \"2800301001\", \"2800…\n",
      "$ CUMUN    \u001b[3m\u001b[90m<chr>\u001b[39m\u001b[23m \"28001\", \"28002\", \"28002\", \"28003\", \"28004\", \"28004\", \"28004\"…\n",
      "$ CSEC     \u001b[3m\u001b[90m<chr>\u001b[39m\u001b[23m \"001\", \"001\", \"002\", \"001\", \"001\", \"002\", \"003\", \"004\", \"001\"…\n",
      "$ CDIS     \u001b[3m\u001b[90m<chr>\u001b[39m\u001b[23m \"01\", \"01\", \"01\", \"01\", \"01\", \"01\", \"01\", \"01\", \"01\", \"01\", \"…\n",
      "$ CMUN     \u001b[3m\u001b[90m<chr>\u001b[39m\u001b[23m \"001\", \"002\", \"002\", \"003\", \"004\", \"004\", \"004\", \"004\", \"005\"…\n",
      "$ CPRO     \u001b[3m\u001b[90m<chr>\u001b[39m\u001b[23m \"28\", \"28\", \"28\", \"28\", \"28\", \"28\", \"28\", \"28\", \"28\", \"28\", \"…\n",
      "$ CCA      \u001b[3m\u001b[90m<chr>\u001b[39m\u001b[23m \"13\", \"13\", \"13\", \"13\", \"13\", \"13\", \"13\", \"13\", \"13\", \"13\", \"…\n",
      "$ CUDIS    \u001b[3m\u001b[90m<chr>\u001b[39m\u001b[23m \"2800101\", \"2800201\", \"2800201\", \"2800301\", \"2800401\", \"28004…\n",
      "$ CLAU2    \u001b[3m\u001b[90m<chr>\u001b[39m\u001b[23m \"28001\", \"28002\", \"28002\", \"28003\", \"28004\", \"28004\", \"28004\"…\n",
      "$ NPRO     \u001b[3m\u001b[90m<chr>\u001b[39m\u001b[23m \"Madrid\", \"Madrid\", \"Madrid\", \"Madrid\", \"Madrid\", \"Madrid\", \"…\n",
      "$ NCA      \u001b[3m\u001b[90m<chr>\u001b[39m\u001b[23m \"Comunidad de Madrid\", \"Comunidad de Madrid\", \"Comunidad de M…\n",
      "$ CNUT0    \u001b[3m\u001b[90m<chr>\u001b[39m\u001b[23m \"ES\", \"ES\", \"ES\", \"ES\", \"ES\", \"ES\", \"ES\", \"ES\", \"ES\", \"ES\", \"…\n",
      "$ CNUT1    \u001b[3m\u001b[90m<chr>\u001b[39m\u001b[23m \"3\", \"3\", \"3\", \"3\", \"3\", \"3\", \"3\", \"3\", \"3\", \"3\", \"3\", \"3\", \"…\n",
      "$ CNUT2    \u001b[3m\u001b[90m<chr>\u001b[39m\u001b[23m \"0\", \"0\", \"0\", \"0\", \"0\", \"0\", \"0\", \"0\", \"0\", \"0\", \"0\", \"0\", \"…\n",
      "$ CNUT3    \u001b[3m\u001b[90m<chr>\u001b[39m\u001b[23m \"0\", \"0\", \"0\", \"0\", \"0\", \"0\", \"0\", \"0\", \"0\", \"0\", \"0\", \"0\", \"…\n",
      "$ NMUN     \u001b[3m\u001b[90m<chr>\u001b[39m\u001b[23m \"Acebeda, La\", \"Ajalvir\", \"Ajalvir\", \"Alameda del Valle\", \"Ál…\n",
      "$ geometry \u001b[3m\u001b[90m<MULTIPOLYGON [°]>\u001b[39m\u001b[23m MULTIPOLYGON (((-3.64316 41..., MULTIPOLYGON (((…\n"
     ]
    }
   ],
   "source": [
    "data_01 |> glimpse()"
   ]
  },
  {
   "attachments": {},
   "cell_type": "markdown",
   "metadata": {},
   "source": [
    "Muestra de datos:"
   ]
  },
  {
   "cell_type": "code",
   "execution_count": 8,
   "metadata": {
    "vscode": {
     "languageId": "r"
    }
   },
   "outputs": [
    {
     "data": {
      "text/html": [
       "<table class=\"dataframe\">\n",
       "<caption>A tibble: 5 x 17</caption>\n",
       "<thead>\n",
       "\t<tr><th scope=col>CUSEC</th><th scope=col>CUMUN</th><th scope=col>CSEC</th><th scope=col>CDIS</th><th scope=col>CMUN</th><th scope=col>CPRO</th><th scope=col>CCA</th><th scope=col>CUDIS</th><th scope=col>CLAU2</th><th scope=col>NPRO</th><th scope=col>NCA</th><th scope=col>CNUT0</th><th scope=col>CNUT1</th><th scope=col>CNUT2</th><th scope=col>CNUT3</th><th scope=col>NMUN</th><th scope=col>geometry</th></tr>\n",
       "\t<tr><th scope=col>&lt;chr&gt;</th><th scope=col>&lt;chr&gt;</th><th scope=col>&lt;chr&gt;</th><th scope=col>&lt;chr&gt;</th><th scope=col>&lt;chr&gt;</th><th scope=col>&lt;chr&gt;</th><th scope=col>&lt;chr&gt;</th><th scope=col>&lt;chr&gt;</th><th scope=col>&lt;chr&gt;</th><th scope=col>&lt;chr&gt;</th><th scope=col>&lt;chr&gt;</th><th scope=col>&lt;chr&gt;</th><th scope=col>&lt;chr&gt;</th><th scope=col>&lt;chr&gt;</th><th scope=col>&lt;chr&gt;</th><th scope=col>&lt;chr&gt;</th><th scope=col>&lt;MULTIPOLYGON [°]&gt;</th></tr>\n",
       "</thead>\n",
       "<tbody>\n",
       "\t<tr><td>2800101001</td><td>28001</td><td>001</td><td>01</td><td>001</td><td>28</td><td>13</td><td>2800101</td><td>28001</td><td>Madrid</td><td>Comunidad de Madrid</td><td>ES</td><td>3</td><td>0</td><td>0</td><td>Acebeda, La      </td><td>MULTIPOLYGON (((-3.64316 41...</td></tr>\n",
       "\t<tr><td>2800201001</td><td>28002</td><td>001</td><td>01</td><td>002</td><td>28</td><td>13</td><td>2800201</td><td>28002</td><td>Madrid</td><td>Comunidad de Madrid</td><td>ES</td><td>3</td><td>0</td><td>0</td><td>Ajalvir          </td><td>MULTIPOLYGON (((-3.469465 4...</td></tr>\n",
       "\t<tr><td>2800201002</td><td>28002</td><td>002</td><td>01</td><td>002</td><td>28</td><td>13</td><td>2800201</td><td>28002</td><td>Madrid</td><td>Comunidad de Madrid</td><td>ES</td><td>3</td><td>0</td><td>0</td><td>Ajalvir          </td><td>MULTIPOLYGON (((-3.503032 4...</td></tr>\n",
       "\t<tr><td>2800301001</td><td>28003</td><td>001</td><td>01</td><td>003</td><td>28</td><td>13</td><td>2800301</td><td>28003</td><td>Madrid</td><td>Comunidad de Madrid</td><td>ES</td><td>3</td><td>0</td><td>0</td><td>Alameda del Valle</td><td>MULTIPOLYGON (((-3.808662 4...</td></tr>\n",
       "\t<tr><td>2800401001</td><td>28004</td><td>001</td><td>01</td><td>004</td><td>28</td><td>13</td><td>2800401</td><td>28004</td><td>Madrid</td><td>Comunidad de Madrid</td><td>ES</td><td>3</td><td>0</td><td>0</td><td>Álamo, El        </td><td>MULTIPOLYGON (((-3.979038 4...</td></tr>\n",
       "</tbody>\n",
       "</table>\n"
      ],
      "text/latex": [
       "A tibble: 5 x 17\n",
       "\\begin{tabular}{lllllllllllllllll}\n",
       " CUSEC & CUMUN & CSEC & CDIS & CMUN & CPRO & CCA & CUDIS & CLAU2 & NPRO & NCA & CNUT0 & CNUT1 & CNUT2 & CNUT3 & NMUN & geometry\\\\\n",
       " <chr> & <chr> & <chr> & <chr> & <chr> & <chr> & <chr> & <chr> & <chr> & <chr> & <chr> & <chr> & <chr> & <chr> & <chr> & <chr> & <MULTIPOLYGON {[}°{]}>\\\\\n",
       "\\hline\n",
       "\t 2800101001 & 28001 & 001 & 01 & 001 & 28 & 13 & 2800101 & 28001 & Madrid & Comunidad de Madrid & ES & 3 & 0 & 0 & Acebeda, La       & MULTIPOLYGON (((-3.64316 41...\\\\\n",
       "\t 2800201001 & 28002 & 001 & 01 & 002 & 28 & 13 & 2800201 & 28002 & Madrid & Comunidad de Madrid & ES & 3 & 0 & 0 & Ajalvir           & MULTIPOLYGON (((-3.469465 4...\\\\\n",
       "\t 2800201002 & 28002 & 002 & 01 & 002 & 28 & 13 & 2800201 & 28002 & Madrid & Comunidad de Madrid & ES & 3 & 0 & 0 & Ajalvir           & MULTIPOLYGON (((-3.503032 4...\\\\\n",
       "\t 2800301001 & 28003 & 001 & 01 & 003 & 28 & 13 & 2800301 & 28003 & Madrid & Comunidad de Madrid & ES & 3 & 0 & 0 & Alameda del Valle & MULTIPOLYGON (((-3.808662 4...\\\\\n",
       "\t 2800401001 & 28004 & 001 & 01 & 004 & 28 & 13 & 2800401 & 28004 & Madrid & Comunidad de Madrid & ES & 3 & 0 & 0 & Álamo, El         & MULTIPOLYGON (((-3.979038 4...\\\\\n",
       "\\end{tabular}\n"
      ],
      "text/markdown": [
       "\n",
       "A tibble: 5 x 17\n",
       "\n",
       "| CUSEC &lt;chr&gt; | CUMUN &lt;chr&gt; | CSEC &lt;chr&gt; | CDIS &lt;chr&gt; | CMUN &lt;chr&gt; | CPRO &lt;chr&gt; | CCA &lt;chr&gt; | CUDIS &lt;chr&gt; | CLAU2 &lt;chr&gt; | NPRO &lt;chr&gt; | NCA &lt;chr&gt; | CNUT0 &lt;chr&gt; | CNUT1 &lt;chr&gt; | CNUT2 &lt;chr&gt; | CNUT3 &lt;chr&gt; | NMUN &lt;chr&gt; | geometry &lt;MULTIPOLYGON [°]&gt; |\n",
       "|---|---|---|---|---|---|---|---|---|---|---|---|---|---|---|---|---|\n",
       "| 2800101001 | 28001 | 001 | 01 | 001 | 28 | 13 | 2800101 | 28001 | Madrid | Comunidad de Madrid | ES | 3 | 0 | 0 | Acebeda, La       | MULTIPOLYGON (((-3.64316 41... |\n",
       "| 2800201001 | 28002 | 001 | 01 | 002 | 28 | 13 | 2800201 | 28002 | Madrid | Comunidad de Madrid | ES | 3 | 0 | 0 | Ajalvir           | MULTIPOLYGON (((-3.469465 4... |\n",
       "| 2800201002 | 28002 | 002 | 01 | 002 | 28 | 13 | 2800201 | 28002 | Madrid | Comunidad de Madrid | ES | 3 | 0 | 0 | Ajalvir           | MULTIPOLYGON (((-3.503032 4... |\n",
       "| 2800301001 | 28003 | 001 | 01 | 003 | 28 | 13 | 2800301 | 28003 | Madrid | Comunidad de Madrid | ES | 3 | 0 | 0 | Alameda del Valle | MULTIPOLYGON (((-3.808662 4... |\n",
       "| 2800401001 | 28004 | 001 | 01 | 004 | 28 | 13 | 2800401 | 28004 | Madrid | Comunidad de Madrid | ES | 3 | 0 | 0 | Álamo, El         | MULTIPOLYGON (((-3.979038 4... |\n",
       "\n"
      ],
      "text/plain": [
       "  CUSEC      CUMUN CSEC CDIS CMUN CPRO CCA CUDIS   CLAU2 NPRO  \n",
       "1 2800101001 28001 001  01   001  28   13  2800101 28001 Madrid\n",
       "2 2800201001 28002 001  01   002  28   13  2800201 28002 Madrid\n",
       "3 2800201002 28002 002  01   002  28   13  2800201 28002 Madrid\n",
       "4 2800301001 28003 001  01   003  28   13  2800301 28003 Madrid\n",
       "5 2800401001 28004 001  01   004  28   13  2800401 28004 Madrid\n",
       "  NCA                 CNUT0 CNUT1 CNUT2 CNUT3 NMUN             \n",
       "1 Comunidad de Madrid ES    3     0     0     Acebeda, La      \n",
       "2 Comunidad de Madrid ES    3     0     0     Ajalvir          \n",
       "3 Comunidad de Madrid ES    3     0     0     Ajalvir          \n",
       "4 Comunidad de Madrid ES    3     0     0     Alameda del Valle\n",
       "5 Comunidad de Madrid ES    3     0     0     Álamo, El        \n",
       "  geometry                      \n",
       "1 MULTIPOLYGON (((-3.64316 41...\n",
       "2 MULTIPOLYGON (((-3.469465 4...\n",
       "3 MULTIPOLYGON (((-3.503032 4...\n",
       "4 MULTIPOLYGON (((-3.808662 4...\n",
       "5 MULTIPOLYGON (((-3.979038 4..."
      ]
     },
     "metadata": {},
     "output_type": "display_data"
    }
   ],
   "source": [
    "data_01 |> tibble() |> slice_head(n = 5)"
   ]
  },
  {
   "attachments": {},
   "cell_type": "markdown",
   "metadata": {},
   "source": [
    "2. Indicadores de las secciones censales"
   ]
  },
  {
   "cell_type": "markdown",
   "metadata": {},
   "source": [
    "<font color='tomato'><b> OPCION A:</b> Seleccionar fichero en ventana para mayor comodidad</font> "
   ]
  },
  {
   "cell_type": "markdown",
   "metadata": {},
   "source": [
    "Data load using the {tcltk} package. Ucomment the line if not using this option"
   ]
  },
  {
   "cell_type": "code",
   "execution_count": 9,
   "metadata": {
    "vscode": {
     "languageId": "r"
    }
   },
   "outputs": [],
   "source": [
    "# file_data_02 <- tcltk::tk_choose.files(multi = FALSE)"
   ]
  },
  {
   "cell_type": "markdown",
   "metadata": {},
   "source": [
    "<font color='tomato'><b> OPCION B:</b> Especificar el nombre de archivo</font>\n",
    "\n"
   ]
  },
  {
   "cell_type": "code",
   "execution_count": 10,
   "metadata": {
    "vscode": {
     "languageId": "r"
    }
   },
   "outputs": [
    {
     "name": "stdout",
     "output_type": "stream",
     "text": [
      "Se leerán datos del archivo:  Data/Input/CU_04_05_03_01_indicadores_secciones.csv"
     ]
    }
   ],
   "source": [
    "iFile_02 <- \"CU_04_05_03_01_indicadores_secciones.csv\"\n",
    "file_data_02 <- paste0(iPath, iFile_02)\n",
    "\n",
    "if(file.exists(file_data_02)){\n",
    "    cat(\"Se leerán datos del archivo: \", file_data_02)\n",
    "} else{\n",
    "    warning(\"Cuidado: el archivo no existe.\")\n",
    "}\n"
   ]
  },
  {
   "cell_type": "markdown",
   "metadata": {},
   "source": [
    "#### Data file to dataframe\n",
    "\n",
    "Usar la función adecuada según el formato de entrada (xlsx, csv, json, ...)"
   ]
  },
  {
   "cell_type": "code",
   "execution_count": 11,
   "metadata": {
    "vscode": {
     "languageId": "r"
    }
   },
   "outputs": [
    {
     "name": "stderr",
     "output_type": "stream",
     "text": [
      "\u001b[1mRows: \u001b[22m\u001b[34m4417\u001b[39m \u001b[1mColumns: \u001b[22m\u001b[34m20\u001b[39m\n",
      "\u001b[36m──\u001b[39m \u001b[1mColumn specification\u001b[22m \u001b[36m────────────────────────────────────────────────────────\u001b[39m\n",
      "\u001b[1mDelimiter:\u001b[22m \",\"\n",
      "\u001b[31mchr\u001b[39m  (3): CMUN, dist, secc\n",
      "\u001b[32mdbl\u001b[39m (17): ccaa, CPRO, t1_1, t2_1, t2_2, t3_1, t4_1, t4_2, t4_3, t5_1, t6_1, ...\n",
      "\n",
      "\u001b[36mℹ\u001b[39m Use `spec()` to retrieve the full column specification for this data.\n",
      "\u001b[36mℹ\u001b[39m Specify the column types or set `show_col_types = FALSE` to quiet this message.\n"
     ]
    }
   ],
   "source": [
    "data_02 <- read_csv(file_data_02)\n"
   ]
  },
  {
   "cell_type": "markdown",
   "metadata": {},
   "source": [
    "Estructura de  los datos:"
   ]
  },
  {
   "cell_type": "code",
   "execution_count": 12,
   "metadata": {
    "vscode": {
     "languageId": "r"
    }
   },
   "outputs": [
    {
     "name": "stdout",
     "output_type": "stream",
     "text": [
      "Rows: 4,417\n",
      "Columns: 20\n",
      "$ ccaa  \u001b[3m\u001b[90m<dbl>\u001b[39m\u001b[23m 13, 13, 13, 13, 13, 13, 13, 13, 13, 13, 13, 13, 13, 13, 13, 13, …\n",
      "$ CPRO  \u001b[3m\u001b[90m<dbl>\u001b[39m\u001b[23m 28, 28, 28, 28, 28, 28, 28, 28, 28, 28, 28, 28, 28, 28, 28, 28, …\n",
      "$ CMUN  \u001b[3m\u001b[90m<chr>\u001b[39m\u001b[23m \"001\", \"002\", \"002\", \"003\", \"004\", \"004\", \"004\", \"004\", \"005\", \"…\n",
      "$ dist  \u001b[3m\u001b[90m<chr>\u001b[39m\u001b[23m \"01\", \"01\", \"01\", \"01\", \"01\", \"01\", \"01\", \"01\", \"01\", \"01\", \"01\"…\n",
      "$ secc  \u001b[3m\u001b[90m<chr>\u001b[39m\u001b[23m \"001\", \"001\", \"002\", \"001\", \"001\", \"002\", \"003\", \"004\", \"001\", \"…\n",
      "$ t1_1  \u001b[3m\u001b[90m<dbl>\u001b[39m\u001b[23m 55, 2358, 2435, 248, 2886, 3376, 2161, 1523, 1648, 1015, 1728, 1…\n",
      "$ t2_1  \u001b[3m\u001b[90m<dbl>\u001b[39m\u001b[23m NA, 0.4724, 0.4830, 0.3952, 0.5135, 0.4793, 0.5016, 0.5279, 0.54…\n",
      "$ t2_2  \u001b[3m\u001b[90m<dbl>\u001b[39m\u001b[23m NA, 0.5276, 0.5170, 0.6048, 0.4865, 0.5207, 0.4984, 0.4721, 0.45…\n",
      "$ t3_1  \u001b[3m\u001b[90m<dbl>\u001b[39m\u001b[23m NA, 40.5161, 38.3339, 47.4597, 44.4099, 40.6810, 38.0088, 42.537…\n",
      "$ t4_1  \u001b[3m\u001b[90m<dbl>\u001b[39m\u001b[23m NA, 0.1425, 0.1959, 0.1371, 0.1611, 0.1739, 0.2230, 0.1753, 0.11…\n",
      "$ t4_2  \u001b[3m\u001b[90m<dbl>\u001b[39m\u001b[23m NA, 0.7443, 0.7002, 0.6573, 0.6067, 0.6727, 0.6395, 0.6448, 0.69…\n",
      "$ t4_3  \u001b[3m\u001b[90m<dbl>\u001b[39m\u001b[23m NA, 0.1132, 0.1039, 0.2056, 0.2322, 0.1534, 0.1374, 0.1799, 0.18…\n",
      "$ t5_1  \u001b[3m\u001b[90m<dbl>\u001b[39m\u001b[23m NA, 0.1569, 0.1544, 0.1129, 0.1639, 0.1440, 0.1749, 0.1326, 0.16…\n",
      "$ t6_1  \u001b[3m\u001b[90m<dbl>\u001b[39m\u001b[23m NA, 0.1968, 0.1951, 0.1411, 0.2128, 0.1730, 0.2138, 0.1589, 0.22…\n",
      "$ t7_1  \u001b[3m\u001b[90m<dbl>\u001b[39m\u001b[23m NA, 0.4016, 0.4244, 0.1542, 0.1470, 0.1596, 0.1668, 0.1584, 0.09…\n",
      "$ t8_1  \u001b[3m\u001b[90m<dbl>\u001b[39m\u001b[23m NA, 0.3971, 0.4224, 0.1449, 0.1409, 0.1506, 0.1602, 0.1545, 0.09…\n",
      "$ t9_1  \u001b[3m\u001b[90m<dbl>\u001b[39m\u001b[23m NA, 0.4377, 0.4438, 0.5280, 0.2602, 0.3234, 0.2859, 0.3057, 0.51…\n",
      "$ t10_1 \u001b[3m\u001b[90m<dbl>\u001b[39m\u001b[23m NA, 0.0912, 0.1226, 0.0932, 0.1814, 0.1478, 0.1658, 0.1824, 0.10…\n",
      "$ t11_1 \u001b[3m\u001b[90m<dbl>\u001b[39m\u001b[23m NA, 0.6063, 0.5955, 0.5000, 0.4213, 0.5170, 0.4943, 0.4745, 0.52…\n",
      "$ t12_1 \u001b[3m\u001b[90m<dbl>\u001b[39m\u001b[23m NA, 0.6672, 0.6788, 0.5514, 0.5147, 0.6067, 0.5926, 0.5804, 0.58…\n"
     ]
    }
   ],
   "source": [
    "data_02|> glimpse()"
   ]
  },
  {
   "cell_type": "markdown",
   "metadata": {},
   "source": [
    "Muestra de datos:"
   ]
  },
  {
   "cell_type": "code",
   "execution_count": 13,
   "metadata": {
    "vscode": {
     "languageId": "r"
    }
   },
   "outputs": [
    {
     "data": {
      "text/html": [
       "<table class=\"dataframe\">\n",
       "<caption>A tibble: 5 x 20</caption>\n",
       "<thead>\n",
       "\t<tr><th scope=col>ccaa</th><th scope=col>CPRO</th><th scope=col>CMUN</th><th scope=col>dist</th><th scope=col>secc</th><th scope=col>t1_1</th><th scope=col>t2_1</th><th scope=col>t2_2</th><th scope=col>t3_1</th><th scope=col>t4_1</th><th scope=col>t4_2</th><th scope=col>t4_3</th><th scope=col>t5_1</th><th scope=col>t6_1</th><th scope=col>t7_1</th><th scope=col>t8_1</th><th scope=col>t9_1</th><th scope=col>t10_1</th><th scope=col>t11_1</th><th scope=col>t12_1</th></tr>\n",
       "\t<tr><th scope=col>&lt;dbl&gt;</th><th scope=col>&lt;dbl&gt;</th><th scope=col>&lt;chr&gt;</th><th scope=col>&lt;chr&gt;</th><th scope=col>&lt;chr&gt;</th><th scope=col>&lt;dbl&gt;</th><th scope=col>&lt;dbl&gt;</th><th scope=col>&lt;dbl&gt;</th><th scope=col>&lt;dbl&gt;</th><th scope=col>&lt;dbl&gt;</th><th scope=col>&lt;dbl&gt;</th><th scope=col>&lt;dbl&gt;</th><th scope=col>&lt;dbl&gt;</th><th scope=col>&lt;dbl&gt;</th><th scope=col>&lt;dbl&gt;</th><th scope=col>&lt;dbl&gt;</th><th scope=col>&lt;dbl&gt;</th><th scope=col>&lt;dbl&gt;</th><th scope=col>&lt;dbl&gt;</th><th scope=col>&lt;dbl&gt;</th></tr>\n",
       "</thead>\n",
       "<tbody>\n",
       "\t<tr><td>13</td><td>28</td><td>001</td><td>01</td><td>001</td><td>  55</td><td>    NA</td><td>    NA</td><td>     NA</td><td>    NA</td><td>    NA</td><td>    NA</td><td>    NA</td><td>    NA</td><td>    NA</td><td>    NA</td><td>    NA</td><td>    NA</td><td>    NA</td><td>    NA</td></tr>\n",
       "\t<tr><td>13</td><td>28</td><td>002</td><td>01</td><td>001</td><td>2358</td><td>0.4724</td><td>0.5276</td><td>40.5161</td><td>0.1425</td><td>0.7443</td><td>0.1132</td><td>0.1569</td><td>0.1968</td><td>0.4016</td><td>0.3971</td><td>0.4377</td><td>0.0912</td><td>0.6063</td><td>0.6672</td></tr>\n",
       "\t<tr><td>13</td><td>28</td><td>002</td><td>01</td><td>002</td><td>2435</td><td>0.4830</td><td>0.5170</td><td>38.3339</td><td>0.1959</td><td>0.7002</td><td>0.1039</td><td>0.1544</td><td>0.1951</td><td>0.4244</td><td>0.4224</td><td>0.4438</td><td>0.1226</td><td>0.5955</td><td>0.6788</td></tr>\n",
       "\t<tr><td>13</td><td>28</td><td>003</td><td>01</td><td>001</td><td> 248</td><td>0.3952</td><td>0.6048</td><td>47.4597</td><td>0.1371</td><td>0.6573</td><td>0.2056</td><td>0.1129</td><td>0.1411</td><td>0.1542</td><td>0.1449</td><td>0.5280</td><td>0.0932</td><td>0.5000</td><td>0.5514</td></tr>\n",
       "\t<tr><td>13</td><td>28</td><td>004</td><td>01</td><td>001</td><td>2886</td><td>0.5135</td><td>0.4865</td><td>44.4099</td><td>0.1611</td><td>0.6067</td><td>0.2322</td><td>0.1639</td><td>0.2128</td><td>0.1470</td><td>0.1409</td><td>0.2602</td><td>0.1814</td><td>0.4213</td><td>0.5147</td></tr>\n",
       "</tbody>\n",
       "</table>\n"
      ],
      "text/latex": [
       "A tibble: 5 x 20\n",
       "\\begin{tabular}{llllllllllllllllllll}\n",
       " ccaa & CPRO & CMUN & dist & secc & t1\\_1 & t2\\_1 & t2\\_2 & t3\\_1 & t4\\_1 & t4\\_2 & t4\\_3 & t5\\_1 & t6\\_1 & t7\\_1 & t8\\_1 & t9\\_1 & t10\\_1 & t11\\_1 & t12\\_1\\\\\n",
       " <dbl> & <dbl> & <chr> & <chr> & <chr> & <dbl> & <dbl> & <dbl> & <dbl> & <dbl> & <dbl> & <dbl> & <dbl> & <dbl> & <dbl> & <dbl> & <dbl> & <dbl> & <dbl> & <dbl>\\\\\n",
       "\\hline\n",
       "\t 13 & 28 & 001 & 01 & 001 &   55 &     NA &     NA &      NA &     NA &     NA &     NA &     NA &     NA &     NA &     NA &     NA &     NA &     NA &     NA\\\\\n",
       "\t 13 & 28 & 002 & 01 & 001 & 2358 & 0.4724 & 0.5276 & 40.5161 & 0.1425 & 0.7443 & 0.1132 & 0.1569 & 0.1968 & 0.4016 & 0.3971 & 0.4377 & 0.0912 & 0.6063 & 0.6672\\\\\n",
       "\t 13 & 28 & 002 & 01 & 002 & 2435 & 0.4830 & 0.5170 & 38.3339 & 0.1959 & 0.7002 & 0.1039 & 0.1544 & 0.1951 & 0.4244 & 0.4224 & 0.4438 & 0.1226 & 0.5955 & 0.6788\\\\\n",
       "\t 13 & 28 & 003 & 01 & 001 &  248 & 0.3952 & 0.6048 & 47.4597 & 0.1371 & 0.6573 & 0.2056 & 0.1129 & 0.1411 & 0.1542 & 0.1449 & 0.5280 & 0.0932 & 0.5000 & 0.5514\\\\\n",
       "\t 13 & 28 & 004 & 01 & 001 & 2886 & 0.5135 & 0.4865 & 44.4099 & 0.1611 & 0.6067 & 0.2322 & 0.1639 & 0.2128 & 0.1470 & 0.1409 & 0.2602 & 0.1814 & 0.4213 & 0.5147\\\\\n",
       "\\end{tabular}\n"
      ],
      "text/markdown": [
       "\n",
       "A tibble: 5 x 20\n",
       "\n",
       "| ccaa &lt;dbl&gt; | CPRO &lt;dbl&gt; | CMUN &lt;chr&gt; | dist &lt;chr&gt; | secc &lt;chr&gt; | t1_1 &lt;dbl&gt; | t2_1 &lt;dbl&gt; | t2_2 &lt;dbl&gt; | t3_1 &lt;dbl&gt; | t4_1 &lt;dbl&gt; | t4_2 &lt;dbl&gt; | t4_3 &lt;dbl&gt; | t5_1 &lt;dbl&gt; | t6_1 &lt;dbl&gt; | t7_1 &lt;dbl&gt; | t8_1 &lt;dbl&gt; | t9_1 &lt;dbl&gt; | t10_1 &lt;dbl&gt; | t11_1 &lt;dbl&gt; | t12_1 &lt;dbl&gt; |\n",
       "|---|---|---|---|---|---|---|---|---|---|---|---|---|---|---|---|---|---|---|---|\n",
       "| 13 | 28 | 001 | 01 | 001 |   55 |     NA |     NA |      NA |     NA |     NA |     NA |     NA |     NA |     NA |     NA |     NA |     NA |     NA |     NA |\n",
       "| 13 | 28 | 002 | 01 | 001 | 2358 | 0.4724 | 0.5276 | 40.5161 | 0.1425 | 0.7443 | 0.1132 | 0.1569 | 0.1968 | 0.4016 | 0.3971 | 0.4377 | 0.0912 | 0.6063 | 0.6672 |\n",
       "| 13 | 28 | 002 | 01 | 002 | 2435 | 0.4830 | 0.5170 | 38.3339 | 0.1959 | 0.7002 | 0.1039 | 0.1544 | 0.1951 | 0.4244 | 0.4224 | 0.4438 | 0.1226 | 0.5955 | 0.6788 |\n",
       "| 13 | 28 | 003 | 01 | 001 |  248 | 0.3952 | 0.6048 | 47.4597 | 0.1371 | 0.6573 | 0.2056 | 0.1129 | 0.1411 | 0.1542 | 0.1449 | 0.5280 | 0.0932 | 0.5000 | 0.5514 |\n",
       "| 13 | 28 | 004 | 01 | 001 | 2886 | 0.5135 | 0.4865 | 44.4099 | 0.1611 | 0.6067 | 0.2322 | 0.1639 | 0.2128 | 0.1470 | 0.1409 | 0.2602 | 0.1814 | 0.4213 | 0.5147 |\n",
       "\n"
      ],
      "text/plain": [
       "  ccaa CPRO CMUN dist secc t1_1 t2_1   t2_2   t3_1    t4_1   t4_2   t4_3  \n",
       "1 13   28   001  01   001    55     NA     NA      NA     NA     NA     NA\n",
       "2 13   28   002  01   001  2358 0.4724 0.5276 40.5161 0.1425 0.7443 0.1132\n",
       "3 13   28   002  01   002  2435 0.4830 0.5170 38.3339 0.1959 0.7002 0.1039\n",
       "4 13   28   003  01   001   248 0.3952 0.6048 47.4597 0.1371 0.6573 0.2056\n",
       "5 13   28   004  01   001  2886 0.5135 0.4865 44.4099 0.1611 0.6067 0.2322\n",
       "  t5_1   t6_1   t7_1   t8_1   t9_1   t10_1  t11_1  t12_1 \n",
       "1     NA     NA     NA     NA     NA     NA     NA     NA\n",
       "2 0.1569 0.1968 0.4016 0.3971 0.4377 0.0912 0.6063 0.6672\n",
       "3 0.1544 0.1951 0.4244 0.4224 0.4438 0.1226 0.5955 0.6788\n",
       "4 0.1129 0.1411 0.1542 0.1449 0.5280 0.0932 0.5000 0.5514\n",
       "5 0.1639 0.2128 0.1470 0.1409 0.2602 0.1814 0.4213 0.5147"
      ]
     },
     "metadata": {},
     "output_type": "display_data"
    }
   ],
   "source": [
    "data_02 |> tibble() |> slice_head(n = 5)"
   ]
  },
  {
   "cell_type": "markdown",
   "metadata": {
    "slideshow": {
     "slide_type": "slide"
    }
   },
   "source": [
    "## ETL Processes"
   ]
  },
  {
   "attachments": {},
   "cell_type": "markdown",
   "metadata": {
    "slideshow": {
     "slide_type": "slide"
    }
   },
   "source": [
    "### Import data from: CSV, Excel, Tab, JSON, SQL, and Parquet files\n",
    "\n",
    "Se han importado en el apartado Data Load anterior:\n",
    "\n",
    "* Secciones censales de la Comunidad de Madrid\n",
    "* Indicadores del INE por sección censal"
   ]
  },
  {
   "attachments": {},
   "cell_type": "markdown",
   "metadata": {},
   "source": [
    "Incluir apartados si procede para: Extracción de datos (select, filter), Transformación de datos, (mutate, joins, ...). Si es necesario tratar datos perdidos, indicarlo también en NB 09.2"
   ]
  },
  {
   "attachments": {},
   "cell_type": "markdown",
   "metadata": {},
   "source": [
    "Si no aplica: Estos datos no requieren tareas de este tipo."
   ]
  },
  {
   "attachments": {},
   "cell_type": "markdown",
   "metadata": {},
   "source": [
    "#### Data transformation\n",
    "\n",
    "* Asignar nombre de sección\n",
    "* Calcular área\n",
    "* Obtener elevación\n",
    "* Eliminar geometrías"
   ]
  },
  {
   "cell_type": "code",
   "execution_count": 14,
   "metadata": {
    "vscode": {
     "languageId": "r"
    }
   },
   "outputs": [
    {
     "name": "stderr",
     "output_type": "stream",
     "text": [
      "Warning message in st_centroid.sf(mutate(data_01, NSEC = paste0(NMUN, \" - \", CDIS, :\n",
      "“st_centroid assumes attributes are constant over geometries of x”\n",
      "Mosaicing & Projecting\n",
      "\n",
      "Note: Elevation units are in meters\n",
      "\n"
     ]
    }
   ],
   "source": [
    "tdata_01 <- data_01 |>\n",
    "    mutate(NSEC = paste0(NMUN, \" - \", CDIS, \".\", CSEC),\n",
    "        area = st_area(data_01)) |>\n",
    "    st_centroid() |>\n",
    "    get_elev_point(src = \"aws\")  |>\n",
    "    select(-elev_units) |>\n",
    "    st_drop_geometry() \n"
   ]
  },
  {
   "cell_type": "code",
   "execution_count": 15,
   "metadata": {
    "vscode": {
     "languageId": "r"
    }
   },
   "outputs": [
    {
     "name": "stdout",
     "output_type": "stream",
     "text": [
      "Rows: 4,432\n",
      "Columns: 19\n",
      "$ CUSEC     \u001b[3m\u001b[90m<chr>\u001b[39m\u001b[23m \"2800101001\", \"2800201001\", \"2800201002\", \"2800301001\", \"280…\n",
      "$ CUMUN     \u001b[3m\u001b[90m<chr>\u001b[39m\u001b[23m \"28001\", \"28002\", \"28002\", \"28003\", \"28004\", \"28004\", \"28004…\n",
      "$ CSEC      \u001b[3m\u001b[90m<chr>\u001b[39m\u001b[23m \"001\", \"001\", \"002\", \"001\", \"001\", \"002\", \"003\", \"004\", \"001…\n",
      "$ CDIS      \u001b[3m\u001b[90m<chr>\u001b[39m\u001b[23m \"01\", \"01\", \"01\", \"01\", \"01\", \"01\", \"01\", \"01\", \"01\", \"01\", …\n",
      "$ CMUN      \u001b[3m\u001b[90m<chr>\u001b[39m\u001b[23m \"001\", \"002\", \"002\", \"003\", \"004\", \"004\", \"004\", \"004\", \"005…\n",
      "$ CPRO      \u001b[3m\u001b[90m<chr>\u001b[39m\u001b[23m \"28\", \"28\", \"28\", \"28\", \"28\", \"28\", \"28\", \"28\", \"28\", \"28\", …\n",
      "$ CCA       \u001b[3m\u001b[90m<chr>\u001b[39m\u001b[23m \"13\", \"13\", \"13\", \"13\", \"13\", \"13\", \"13\", \"13\", \"13\", \"13\", …\n",
      "$ CUDIS     \u001b[3m\u001b[90m<chr>\u001b[39m\u001b[23m \"2800101\", \"2800201\", \"2800201\", \"2800301\", \"2800401\", \"2800…\n",
      "$ CLAU2     \u001b[3m\u001b[90m<chr>\u001b[39m\u001b[23m \"28001\", \"28002\", \"28002\", \"28003\", \"28004\", \"28004\", \"28004…\n",
      "$ NPRO      \u001b[3m\u001b[90m<chr>\u001b[39m\u001b[23m \"Madrid\", \"Madrid\", \"Madrid\", \"Madrid\", \"Madrid\", \"Madrid\", …\n",
      "$ NCA       \u001b[3m\u001b[90m<chr>\u001b[39m\u001b[23m \"Comunidad de Madrid\", \"Comunidad de Madrid\", \"Comunidad de …\n",
      "$ CNUT0     \u001b[3m\u001b[90m<chr>\u001b[39m\u001b[23m \"ES\", \"ES\", \"ES\", \"ES\", \"ES\", \"ES\", \"ES\", \"ES\", \"ES\", \"ES\", …\n",
      "$ CNUT1     \u001b[3m\u001b[90m<chr>\u001b[39m\u001b[23m \"3\", \"3\", \"3\", \"3\", \"3\", \"3\", \"3\", \"3\", \"3\", \"3\", \"3\", \"3\", …\n",
      "$ CNUT2     \u001b[3m\u001b[90m<chr>\u001b[39m\u001b[23m \"0\", \"0\", \"0\", \"0\", \"0\", \"0\", \"0\", \"0\", \"0\", \"0\", \"0\", \"0\", …\n",
      "$ CNUT3     \u001b[3m\u001b[90m<chr>\u001b[39m\u001b[23m \"0\", \"0\", \"0\", \"0\", \"0\", \"0\", \"0\", \"0\", \"0\", \"0\", \"0\", \"0\", …\n",
      "$ NMUN      \u001b[3m\u001b[90m<chr>\u001b[39m\u001b[23m \"Acebeda, La\", \"Ajalvir\", \"Ajalvir\", \"Alameda del Valle\", \"Á…\n",
      "$ NSEC      \u001b[3m\u001b[90m<chr>\u001b[39m\u001b[23m \"Acebeda, La - 01.001\", \"Ajalvir - 01.001\", \"Ajalvir - 01.00…\n",
      "$ area      \u001b[90m[m^2]\u001b[39m 21848790.60 [m^2], 15585050.39 [m^2], 4148273.41 [m^2], 2567…\n",
      "$ elevation \u001b[3m\u001b[90m<dbl>\u001b[39m\u001b[23m 1401, 653, 715, 1150, 593, 604, 587, 570, 594, 594, 594, 594…\n"
     ]
    }
   ],
   "source": [
    "tdata_01 |> glimpse()"
   ]
  },
  {
   "attachments": {},
   "cell_type": "markdown",
   "metadata": {},
   "source": [
    "* Unir área y elevación a la tabla de indicadores, y eliminar geometría"
   ]
  },
  {
   "cell_type": "code",
   "execution_count": 16,
   "metadata": {
    "vscode": {
     "languageId": "r"
    }
   },
   "outputs": [],
   "source": [
    "tdata_02 <- data_02 |>\n",
    "    full_join(tdata_01 |> select(NSEC, CMUN, CSEC, CDIS, area, elevation),\n",
    "        by = c(\"CMUN\" = \"CMUN\", \"dist\" = \"CDIS\", \"secc\" = \"CSEC\")) |>\n",
    "    mutate(densidad_hab_km2 = as.numeric(t1_1/(area*1e-6))) |>\n",
    "    st_drop_geometry() "
   ]
  },
  {
   "cell_type": "code",
   "execution_count": 17,
   "metadata": {
    "vscode": {
     "languageId": "r"
    }
   },
   "outputs": [
    {
     "name": "stdout",
     "output_type": "stream",
     "text": [
      "Rows: 4,440\n",
      "Columns: 24\n",
      "$ ccaa             \u001b[3m\u001b[90m<dbl>\u001b[39m\u001b[23m 13, 13, 13, 13, 13, 13, 13, 13, 13, 13, 13, 13, 13, 1…\n",
      "$ CPRO             \u001b[3m\u001b[90m<dbl>\u001b[39m\u001b[23m 28, 28, 28, 28, 28, 28, 28, 28, 28, 28, 28, 28, 28, 2…\n",
      "$ CMUN             \u001b[3m\u001b[90m<chr>\u001b[39m\u001b[23m \"001\", \"002\", \"002\", \"003\", \"004\", \"004\", \"004\", \"004…\n",
      "$ dist             \u001b[3m\u001b[90m<chr>\u001b[39m\u001b[23m \"01\", \"01\", \"01\", \"01\", \"01\", \"01\", \"01\", \"01\", \"01\",…\n",
      "$ secc             \u001b[3m\u001b[90m<chr>\u001b[39m\u001b[23m \"001\", \"001\", \"002\", \"001\", \"001\", \"002\", \"003\", \"004…\n",
      "$ t1_1             \u001b[3m\u001b[90m<dbl>\u001b[39m\u001b[23m 55, 2358, 2435, 248, 2886, 3376, 2161, 1523, 1648, 10…\n",
      "$ t2_1             \u001b[3m\u001b[90m<dbl>\u001b[39m\u001b[23m NA, 0.4724, 0.4830, 0.3952, 0.5135, 0.4793, 0.5016, 0…\n",
      "$ t2_2             \u001b[3m\u001b[90m<dbl>\u001b[39m\u001b[23m NA, 0.5276, 0.5170, 0.6048, 0.4865, 0.5207, 0.4984, 0…\n",
      "$ t3_1             \u001b[3m\u001b[90m<dbl>\u001b[39m\u001b[23m NA, 40.5161, 38.3339, 47.4597, 44.4099, 40.6810, 38.0…\n",
      "$ t4_1             \u001b[3m\u001b[90m<dbl>\u001b[39m\u001b[23m NA, 0.1425, 0.1959, 0.1371, 0.1611, 0.1739, 0.2230, 0…\n",
      "$ t4_2             \u001b[3m\u001b[90m<dbl>\u001b[39m\u001b[23m NA, 0.7443, 0.7002, 0.6573, 0.6067, 0.6727, 0.6395, 0…\n",
      "$ t4_3             \u001b[3m\u001b[90m<dbl>\u001b[39m\u001b[23m NA, 0.1132, 0.1039, 0.2056, 0.2322, 0.1534, 0.1374, 0…\n",
      "$ t5_1             \u001b[3m\u001b[90m<dbl>\u001b[39m\u001b[23m NA, 0.1569, 0.1544, 0.1129, 0.1639, 0.1440, 0.1749, 0…\n",
      "$ t6_1             \u001b[3m\u001b[90m<dbl>\u001b[39m\u001b[23m NA, 0.1968, 0.1951, 0.1411, 0.2128, 0.1730, 0.2138, 0…\n",
      "$ t7_1             \u001b[3m\u001b[90m<dbl>\u001b[39m\u001b[23m NA, 0.4016, 0.4244, 0.1542, 0.1470, 0.1596, 0.1668, 0…\n",
      "$ t8_1             \u001b[3m\u001b[90m<dbl>\u001b[39m\u001b[23m NA, 0.3971, 0.4224, 0.1449, 0.1409, 0.1506, 0.1602, 0…\n",
      "$ t9_1             \u001b[3m\u001b[90m<dbl>\u001b[39m\u001b[23m NA, 0.4377, 0.4438, 0.5280, 0.2602, 0.3234, 0.2859, 0…\n",
      "$ t10_1            \u001b[3m\u001b[90m<dbl>\u001b[39m\u001b[23m NA, 0.0912, 0.1226, 0.0932, 0.1814, 0.1478, 0.1658, 0…\n",
      "$ t11_1            \u001b[3m\u001b[90m<dbl>\u001b[39m\u001b[23m NA, 0.6063, 0.5955, 0.5000, 0.4213, 0.5170, 0.4943, 0…\n",
      "$ t12_1            \u001b[3m\u001b[90m<dbl>\u001b[39m\u001b[23m NA, 0.6672, 0.6788, 0.5514, 0.5147, 0.6067, 0.5926, 0…\n",
      "$ NSEC             \u001b[3m\u001b[90m<chr>\u001b[39m\u001b[23m \"Acebeda, La - 01.001\", \"Ajalvir - 01.001\", \"Ajalvir …\n",
      "$ area             \u001b[90m[m^2]\u001b[39m 21848790.60 [m^2], 15585050.39 [m^2], 4148273.41 [m^2…\n",
      "$ elevation        \u001b[3m\u001b[90m<dbl>\u001b[39m\u001b[23m 1401, 653, 715, 1150, 593, 604, 587, 570, 594, 594, 5…\n",
      "$ densidad_hab_km2 \u001b[3m\u001b[90m<dbl>\u001b[39m\u001b[23m 2.517302, 151.298837, 586.991204, 9.659393, 571.86106…\n"
     ]
    }
   ],
   "source": [
    "tdata_02 |> glimpse()"
   ]
  },
  {
   "cell_type": "markdown",
   "metadata": {
    "slideshow": {
     "slide_type": "slide"
    }
   },
   "source": [
    "## Fake Data Generation"
   ]
  },
  {
   "attachments": {},
   "cell_type": "markdown",
   "metadata": {
    "slideshow": {
     "slide_type": "slide"
    }
   },
   "source": [
    "* Se crea una función para simular el número de servicios de cada uno de los dos tipos propuestos: \n",
    "    - Taxi y delivery\n",
    "    - Dependen de si hay evento importante (fútbol) del número de titulados y de la densidad de población\n",
    "* Después se simula a lo largo del periodo parametrizado"
   ]
  },
  {
   "attachments": {},
   "cell_type": "markdown",
   "metadata": {},
   "source": [
    "* Parámetros:"
   ]
  },
  {
   "cell_type": "code",
   "execution_count": 18,
   "metadata": {
    "tags": [
     "parameters"
    ],
    "vscode": {
     "languageId": "r"
    }
   },
   "outputs": [],
   "source": [
    "fechas <- seq(from = as.Date(\"2022-01-01\"), \n",
    "                             to = as.Date(\"2022-01-31\"),\n",
    "              by = 1)\n",
    "\n",
    "servicios <- c(\"Taxi\", \"Delivery\")"
   ]
  },
  {
   "attachments": {},
   "cell_type": "markdown",
   "metadata": {},
   "source": [
    "* Funciones:"
   ]
  },
  {
   "cell_type": "code",
   "execution_count": 19,
   "metadata": {
    "vscode": {
     "languageId": "r"
    }
   },
   "outputs": [],
   "source": [
    "futbol <- Vectorize(\n",
    "  function(fecha, servicio){\n",
    "    p <- 0.8\n",
    "    if(wday(fecha) %in% 6:7){\n",
    "      p <- p*(1+0.1*(servicio == \"Taxi\"))\n",
    "    } \n",
    "    sample(0:1, 1, prob = c(p, 1-p))\n",
    "  })\n",
    "\n",
    "n_servicios <- Vectorize(\n",
    "  function(futbol, servicio, titulados, densidad){\n",
    "    titulados <- ifelse(is.na(titulados), 0, titulados)\n",
    "    densidad <- ifelse(is.na(densidad), 1e-6, densidad)\n",
    "    l <- rpois(1, round(densidad*1e-6*100)) + 50*futbol\n",
    "    if(servicio == \"Delivery\" & !is.na(titulados)){\n",
    "      l <- l + round(20*titulados)\n",
    "    }\n",
    "    return(l)\n",
    "  }\n",
    ")"
   ]
  },
  {
   "attachments": {},
   "cell_type": "markdown",
   "metadata": {},
   "source": [
    "* Simulación de datos fake demanda de servicio"
   ]
  },
  {
   "cell_type": "code",
   "execution_count": 20,
   "metadata": {
    "vscode": {
     "languageId": "r"
    }
   },
   "outputs": [
    {
     "name": "stderr",
     "output_type": "stream",
     "text": [
      "\u001b[1m\u001b[22mJoining with `by = join_by(NSEC)`\n"
     ]
    }
   ],
   "source": [
    "set.seed(1)\n",
    "fdata_01 <- expand.grid(NSEC = tdata_01$NSEC, \n",
    "                  Fecha = fechas, \n",
    "                  Servicio = servicios) |> \n",
    "  inner_join(tdata_01 |> \n",
    "               select(NSEC, CMUN, CDIS, CSEC, area, elevation)) |> \n",
    "  inner_join(tdata_02 |> \n",
    "               select(personas = t1_1, \n",
    "                      edad = t3_1,\n",
    "                      mayores = t4_3,\n",
    "                      titulados = t9_1,\n",
    "                      CMUN, dist, secc, densidad_hab_km2),\n",
    "             by = c(\"CMUN\" = \"CMUN\", \n",
    "                    \"CDIS\" = \"dist\",\n",
    "                    \"CSEC\" = \"secc\")) |> \n",
    "  mutate(Futbol = futbol(Fecha, Servicio)) |> \n",
    "  mutate(nservicios = n_servicios(Futbol, Servicio, titulados, densidad_hab_km2)) |>\n",
    "  select(-NSEC, -area, -elevation, -personas, -edad, -mayores, -titulados, -densidad_hab_km2)\n"
   ]
  },
  {
   "cell_type": "code",
   "execution_count": 21,
   "metadata": {
    "vscode": {
     "languageId": "r"
    }
   },
   "outputs": [
    {
     "name": "stdout",
     "output_type": "stream",
     "text": [
      "Rows: 274,784\n",
      "Columns: 7\n",
      "$ Fecha      \u001b[3m\u001b[90m<date>\u001b[39m\u001b[23m 2022-01-01, 2022-01-01, 2022-01-01, 2022-01-01, 2022-01-01…\n",
      "$ Servicio   \u001b[3m\u001b[90m<fct>\u001b[39m\u001b[23m Taxi, Taxi, Taxi, Taxi, Taxi, Taxi, Taxi, Taxi, Taxi, Taxi,…\n",
      "$ CMUN       \u001b[3m\u001b[90m<chr>\u001b[39m\u001b[23m \"001\", \"002\", \"002\", \"003\", \"004\", \"004\", \"004\", \"004\", \"00…\n",
      "$ CDIS       \u001b[3m\u001b[90m<chr>\u001b[39m\u001b[23m \"01\", \"01\", \"01\", \"01\", \"01\", \"01\", \"01\", \"01\", \"01\", \"01\",…\n",
      "$ CSEC       \u001b[3m\u001b[90m<chr>\u001b[39m\u001b[23m \"001\", \"001\", \"002\", \"001\", \"001\", \"002\", \"003\", \"004\", \"00…\n",
      "$ Futbol     \u001b[3m\u001b[90m<int>\u001b[39m\u001b[23m 0, 0, 0, 1, 0, 1, 1, 0, 0, 0, 0, 0, 0, 0, 0, 0, 0, 1, 0, 0,…\n",
      "$ nservicios \u001b[3m\u001b[90m<dbl>\u001b[39m\u001b[23m 0, 0, 0, 50, 0, 50, 50, 0, 2, 0, 0, 7, 0, 1, 4, 7, 10, 50, …\n"
     ]
    }
   ],
   "source": [
    "fdata_01 |> glimpse()"
   ]
  },
  {
   "cell_type": "code",
   "execution_count": 22,
   "metadata": {
    "vscode": {
     "languageId": "r"
    }
   },
   "outputs": [
    {
     "data": {
      "text/html": [
       "<table class=\"dataframe\">\n",
       "<caption>A data.frame: 5 x 7</caption>\n",
       "<thead>\n",
       "\t<tr><th scope=col>Fecha</th><th scope=col>Servicio</th><th scope=col>CMUN</th><th scope=col>CDIS</th><th scope=col>CSEC</th><th scope=col>Futbol</th><th scope=col>nservicios</th></tr>\n",
       "\t<tr><th scope=col>&lt;date&gt;</th><th scope=col>&lt;fct&gt;</th><th scope=col>&lt;chr&gt;</th><th scope=col>&lt;chr&gt;</th><th scope=col>&lt;chr&gt;</th><th scope=col>&lt;int&gt;</th><th scope=col>&lt;dbl&gt;</th></tr>\n",
       "</thead>\n",
       "<tbody>\n",
       "\t<tr><td>2022-01-01</td><td>Taxi</td><td>001</td><td>01</td><td>001</td><td>0</td><td> 0</td></tr>\n",
       "\t<tr><td>2022-01-01</td><td>Taxi</td><td>002</td><td>01</td><td>001</td><td>0</td><td> 0</td></tr>\n",
       "\t<tr><td>2022-01-01</td><td>Taxi</td><td>002</td><td>01</td><td>002</td><td>0</td><td> 0</td></tr>\n",
       "\t<tr><td>2022-01-01</td><td>Taxi</td><td>003</td><td>01</td><td>001</td><td>1</td><td>50</td></tr>\n",
       "\t<tr><td>2022-01-01</td><td>Taxi</td><td>004</td><td>01</td><td>001</td><td>0</td><td> 0</td></tr>\n",
       "</tbody>\n",
       "</table>\n"
      ],
      "text/latex": [
       "A data.frame: 5 x 7\n",
       "\\begin{tabular}{lllllll}\n",
       " Fecha & Servicio & CMUN & CDIS & CSEC & Futbol & nservicios\\\\\n",
       " <date> & <fct> & <chr> & <chr> & <chr> & <int> & <dbl>\\\\\n",
       "\\hline\n",
       "\t 2022-01-01 & Taxi & 001 & 01 & 001 & 0 &  0\\\\\n",
       "\t 2022-01-01 & Taxi & 002 & 01 & 001 & 0 &  0\\\\\n",
       "\t 2022-01-01 & Taxi & 002 & 01 & 002 & 0 &  0\\\\\n",
       "\t 2022-01-01 & Taxi & 003 & 01 & 001 & 1 & 50\\\\\n",
       "\t 2022-01-01 & Taxi & 004 & 01 & 001 & 0 &  0\\\\\n",
       "\\end{tabular}\n"
      ],
      "text/markdown": [
       "\n",
       "A data.frame: 5 x 7\n",
       "\n",
       "| Fecha &lt;date&gt; | Servicio &lt;fct&gt; | CMUN &lt;chr&gt; | CDIS &lt;chr&gt; | CSEC &lt;chr&gt; | Futbol &lt;int&gt; | nservicios &lt;dbl&gt; |\n",
       "|---|---|---|---|---|---|---|\n",
       "| 2022-01-01 | Taxi | 001 | 01 | 001 | 0 |  0 |\n",
       "| 2022-01-01 | Taxi | 002 | 01 | 001 | 0 |  0 |\n",
       "| 2022-01-01 | Taxi | 002 | 01 | 002 | 0 |  0 |\n",
       "| 2022-01-01 | Taxi | 003 | 01 | 001 | 1 | 50 |\n",
       "| 2022-01-01 | Taxi | 004 | 01 | 001 | 0 |  0 |\n",
       "\n"
      ],
      "text/plain": [
       "  Fecha      Servicio CMUN CDIS CSEC Futbol nservicios\n",
       "1 2022-01-01 Taxi     001  01   001  0       0        \n",
       "2 2022-01-01 Taxi     002  01   001  0       0        \n",
       "3 2022-01-01 Taxi     002  01   002  0       0        \n",
       "4 2022-01-01 Taxi     003  01   001  1      50        \n",
       "5 2022-01-01 Taxi     004  01   001  0       0        "
      ]
     },
     "metadata": {},
     "output_type": "display_data"
    }
   ],
   "source": [
    "fdata_01 |> slice_head(n = 5)"
   ]
  },
  {
   "attachments": {},
   "cell_type": "markdown",
   "metadata": {},
   "source": [
    "* Simulación datos fake capacidad de servicios. Asumimos capacidad por municipio, el máximo de todos los días"
   ]
  },
  {
   "cell_type": "code",
   "execution_count": 23,
   "metadata": {
    "vscode": {
     "languageId": "r"
    }
   },
   "outputs": [],
   "source": [
    "fdata_02 <- fdata_01 |> \n",
    "    group_by(CMUN, Servicio) |>\n",
    "    summarise(capacidad = max(nservicios), .groups = \"drop\")"
   ]
  },
  {
   "cell_type": "code",
   "execution_count": 24,
   "metadata": {
    "vscode": {
     "languageId": "r"
    }
   },
   "outputs": [
    {
     "name": "stdout",
     "output_type": "stream",
     "text": [
      "Rows: 358\n",
      "Columns: 3\n",
      "$ CMUN      \u001b[3m\u001b[90m<chr>\u001b[39m\u001b[23m \"001\", \"001\", \"002\", \"002\", \"003\", \"003\", \"004\", \"004\", \"005…\n",
      "$ Servicio  \u001b[3m\u001b[90m<fct>\u001b[39m\u001b[23m Taxi, Delivery, Taxi, Delivery, Taxi, Delivery, Taxi, Delive…\n",
      "$ capacidad \u001b[3m\u001b[90m<dbl>\u001b[39m\u001b[23m 50, 50, 50, 59, 50, 61, 50, 56, 65, 70, 66, 75, 64, 70, 50, …\n"
     ]
    }
   ],
   "source": [
    "glimpse(fdata_02)"
   ]
  },
  {
   "cell_type": "code",
   "execution_count": 25,
   "metadata": {
    "vscode": {
     "languageId": "r"
    }
   },
   "outputs": [
    {
     "data": {
      "text/html": [
       "<table class=\"dataframe\">\n",
       "<caption>A tibble: 5 x 3</caption>\n",
       "<thead>\n",
       "\t<tr><th scope=col>CMUN</th><th scope=col>Servicio</th><th scope=col>capacidad</th></tr>\n",
       "\t<tr><th scope=col>&lt;chr&gt;</th><th scope=col>&lt;fct&gt;</th><th scope=col>&lt;dbl&gt;</th></tr>\n",
       "</thead>\n",
       "<tbody>\n",
       "\t<tr><td>001</td><td>Taxi    </td><td>50</td></tr>\n",
       "\t<tr><td>001</td><td>Delivery</td><td>50</td></tr>\n",
       "\t<tr><td>002</td><td>Taxi    </td><td>50</td></tr>\n",
       "\t<tr><td>002</td><td>Delivery</td><td>59</td></tr>\n",
       "\t<tr><td>003</td><td>Taxi    </td><td>50</td></tr>\n",
       "</tbody>\n",
       "</table>\n"
      ],
      "text/latex": [
       "A tibble: 5 x 3\n",
       "\\begin{tabular}{lll}\n",
       " CMUN & Servicio & capacidad\\\\\n",
       " <chr> & <fct> & <dbl>\\\\\n",
       "\\hline\n",
       "\t 001 & Taxi     & 50\\\\\n",
       "\t 001 & Delivery & 50\\\\\n",
       "\t 002 & Taxi     & 50\\\\\n",
       "\t 002 & Delivery & 59\\\\\n",
       "\t 003 & Taxi     & 50\\\\\n",
       "\\end{tabular}\n"
      ],
      "text/markdown": [
       "\n",
       "A tibble: 5 x 3\n",
       "\n",
       "| CMUN &lt;chr&gt; | Servicio &lt;fct&gt; | capacidad &lt;dbl&gt; |\n",
       "|---|---|---|\n",
       "| 001 | Taxi     | 50 |\n",
       "| 001 | Delivery | 50 |\n",
       "| 002 | Taxi     | 50 |\n",
       "| 002 | Delivery | 59 |\n",
       "| 003 | Taxi     | 50 |\n",
       "\n"
      ],
      "text/plain": [
       "  CMUN Servicio capacidad\n",
       "1 001  Taxi     50       \n",
       "2 001  Delivery 50       \n",
       "3 002  Taxi     50       \n",
       "4 002  Delivery 59       \n",
       "5 003  Taxi     50       "
      ]
     },
     "metadata": {},
     "output_type": "display_data"
    }
   ],
   "source": [
    "fdata_02 |> slice_head(n = 5)"
   ]
  },
  {
   "cell_type": "markdown",
   "metadata": {
    "slideshow": {
     "slide_type": "slide"
    }
   },
   "source": [
    "## Synthetic Data Generation"
   ]
  },
  {
   "attachments": {},
   "cell_type": "markdown",
   "metadata": {
    "slideshow": {
     "slide_type": "slide"
    }
   },
   "source": [
    "No aplica"
   ]
  },
  {
   "cell_type": "markdown",
   "metadata": {
    "slideshow": {
     "slide_type": "slide"
    }
   },
   "source": [
    "## Open Data"
   ]
  },
  {
   "attachments": {},
   "cell_type": "markdown",
   "metadata": {
    "slideshow": {
     "slide_type": "slide"
    }
   },
   "source": [
    "No aplica"
   ]
  },
  {
   "cell_type": "markdown",
   "metadata": {},
   "source": [
    "## <font color='green'>Data Save</font>"
   ]
  },
  {
   "attachments": {},
   "cell_type": "markdown",
   "metadata": {},
   "source": [
    "Este proceso, puede copiarse y repetirse en aquellas partes del notebbok que necesiten guardar datos.\n",
    "Recuerde cambiar las cadenas añadida del fichero para diferenciarlas"
   ]
  },
  {
   "attachments": {},
   "cell_type": "markdown",
   "metadata": {},
   "source": [
    "1. Indicadores INE con identificador sección, área, elevación y densidad"
   ]
  },
  {
   "cell_type": "markdown",
   "metadata": {},
   "source": [
    "<font color='tomato'> Identificamos los datos a guardar</font>"
   ]
  },
  {
   "cell_type": "code",
   "execution_count": 26,
   "metadata": {
    "ExecuteTime": {
     "end_time": "2020-12-25T17:59:27.022001Z",
     "start_time": "2020-12-25T17:59:15.986986Z"
    },
    "scrolled": false,
    "vscode": {
     "languageId": "r"
    }
   },
   "outputs": [],
   "source": [
    "data_to_save_01 <- tdata_02"
   ]
  },
  {
   "attachments": {},
   "cell_type": "markdown",
   "metadata": {},
   "source": [
    "\n",
    "<font color='tomato'>Estructura de nombre de archivos:</font>\n",
    "\n",
    "* Código del caso de uso, por ejemplo \"CU_04\"\n",
    "* Número del proceso que lo genera, por ejemplo \"_05\".\n",
    "* Número de la tarea que lo genera, por ejemplo \"_01\"\n",
    "* En caso de generarse varios ficheros en la misma tarea, llevarán _01 _02 ... después\n",
    "* Nombre: identificativo de \"properData\", por ejemplo \"_zonasgeo\"\n",
    "* Extensión del archivo\n",
    "\n",
    "Ejemplo: \"CU_04_05_01_01_zonasgeo.json, primer fichero que se genera en la tarea 01 del proceso 05 (Data Collection) para el caso de uso 04 (vacunas)\n",
    "\n",
    "Importante mantener los guiones bajos antes de proceso, tarea, archivo y nombre"
   ]
  },
  {
   "attachments": {},
   "cell_type": "markdown",
   "metadata": {},
   "source": [
    "### Proceso 05"
   ]
  },
  {
   "cell_type": "code",
   "execution_count": 27,
   "metadata": {
    "ExecuteTime": {
     "end_time": "2020-12-25T17:59:27.022001Z",
     "start_time": "2020-12-25T17:59:15.986986Z"
    },
    "scrolled": false,
    "vscode": {
     "languageId": "r"
    }
   },
   "outputs": [],
   "source": [
    "caso <- \"CU_34\"\n",
    "proceso <- '_05'\n",
    "tarea <- \"_02\"\n",
    "archivo <- \"_01\"\n",
    "proper <- \"_indicadores_secc_extendido\"\n",
    "extension <- \".csv\""
   ]
  },
  {
   "attachments": {},
   "cell_type": "markdown",
   "metadata": {},
   "source": [
    "<font color='tomato'><b> OPCION A:</b> Uso del paquete \"tcltk\" para mayor comodidad</font>\n",
    "\n",
    "* Buscar carpeta, escribir nombre de archivo SIN extensión (se especifica en el código)\n",
    "* Especificar sufijo2 si es necesario\n",
    "* Cambiar datos por datos_xx si es necesario"
   ]
  },
  {
   "cell_type": "code",
   "execution_count": 28,
   "metadata": {
    "ExecuteTime": {
     "end_time": "2020-12-25T17:59:27.022001Z",
     "start_time": "2020-12-25T17:59:15.986986Z"
    },
    "scrolled": false,
    "vscode": {
     "languageId": "r"
    }
   },
   "outputs": [],
   "source": [
    "# file_save_01 <- paste0(caso, proceso, tarea, tcltk::tkgetSaveFile(), proper, extension) \n",
    "# path_out_01 <- paste0(oPath, file_save_01)\n",
    "# write_csv(data_to_save_01, path_out_01)\n",
    "\n",
    "# cat('File saved as: ')\n",
    "# path_out_01"
   ]
  },
  {
   "attachments": {},
   "cell_type": "markdown",
   "metadata": {},
   "source": [
    "<font color='tomato'><b> OPCION B:</b> Especificar el nombre de archivo</font>"
   ]
  },
  {
   "attachments": {},
   "cell_type": "markdown",
   "metadata": {},
   "source": [
    "- Los ficheros de salida del proceso van siempre a Data/Output/.  "
   ]
  },
  {
   "cell_type": "code",
   "execution_count": 29,
   "metadata": {
    "ExecuteTime": {
     "end_time": "2021-01-26T18:40:31.258294Z",
     "start_time": "2021-01-26T18:40:26.061847Z"
    },
    "slideshow": {
     "slide_type": "subslide"
    },
    "vscode": {
     "languageId": "r"
    }
   },
   "outputs": [
    {
     "name": "stdout",
     "output_type": "stream",
     "text": [
      "File saved as: "
     ]
    },
    {
     "data": {
      "text/html": [
       "'Data/Output/CU_34_05_02_01_indicadores_secc_extendido.csv'"
      ],
      "text/latex": [
       "'Data/Output/CU\\_34\\_05\\_02\\_01\\_indicadores\\_secc\\_extendido.csv'"
      ],
      "text/markdown": [
       "'Data/Output/CU_34_05_02_01_indicadores_secc_extendido.csv'"
      ],
      "text/plain": [
       "[1] \"Data/Output/CU_34_05_02_01_indicadores_secc_extendido.csv\""
      ]
     },
     "metadata": {},
     "output_type": "display_data"
    }
   ],
   "source": [
    "file_save_01 <- paste0(caso, proceso, tarea, archivo, proper, extension) \n",
    "path_out_01 <- paste0(oPath, file_save_01)\n",
    "write_csv(data_to_save_01, path_out_01)\n",
    "\n",
    "cat('File saved as: ')\n",
    "path_out_01"
   ]
  },
  {
   "attachments": {},
   "cell_type": "markdown",
   "metadata": {},
   "source": [
    "#### Copia del fichero a Input\n",
    "\n",
    "Si el archivo se va a usar en otros notebooks, copiar a la carpeta Input"
   ]
  },
  {
   "cell_type": "code",
   "execution_count": 30,
   "metadata": {
    "vscode": {
     "languageId": "r"
    }
   },
   "outputs": [
    {
     "data": {
      "text/html": [
       "TRUE"
      ],
      "text/latex": [
       "TRUE"
      ],
      "text/markdown": [
       "TRUE"
      ],
      "text/plain": [
       "[1] TRUE"
      ]
     },
     "metadata": {},
     "output_type": "display_data"
    }
   ],
   "source": [
    "path_in_01 <- paste0(iPath, file_save_01)\n",
    "file.copy(path_out_01, path_in_01, overwrite = TRUE)"
   ]
  },
  {
   "attachments": {},
   "cell_type": "markdown",
   "metadata": {},
   "source": [
    "2. Simulación de demanda de servicios"
   ]
  },
  {
   "cell_type": "markdown",
   "metadata": {},
   "source": [
    "<font color='tomato'> Identificamos los datos a guardar</font>"
   ]
  },
  {
   "cell_type": "code",
   "execution_count": 31,
   "metadata": {
    "vscode": {
     "languageId": "r"
    }
   },
   "outputs": [],
   "source": [
    "data_to_save_02 <- fdata_01"
   ]
  },
  {
   "cell_type": "markdown",
   "metadata": {},
   "source": [
    "\n",
    "<font color='tomato'>Estructura de nombre de archivos:</font>\n",
    "\n",
    "* Código del caso de uso, por ejemplo \"CU_04\"\n",
    "* Número del proceso que lo genera, por ejemplo \"_05\".\n",
    "* Número de la tarea que lo genera, por ejemplo \"_01\"\n",
    "* En caso de generarse varios ficheros en la misma tarea, llevarán _01 _02 ... después\n",
    "* Nombre: identificativo de \"properData\", por ejemplo \"_zonasgeo\"\n",
    "* Extensión del archivo\n",
    "\n",
    "Ejemplo: \"CU_04_05_01_01_zonasgeo.json, primer fichero que se genera en la tarea 01 del proceso 05 (Data Collection) para el caso de uso 04 (vacunas)\n",
    "\n",
    "Importante mantener los guiones bajos antes de proceso, tarea, archivo y nombre"
   ]
  },
  {
   "cell_type": "markdown",
   "metadata": {},
   "source": [
    "### Proceso 05"
   ]
  },
  {
   "cell_type": "code",
   "execution_count": 32,
   "metadata": {
    "vscode": {
     "languageId": "r"
    }
   },
   "outputs": [],
   "source": [
    "archivo <- \"_02\"\n",
    "proper <- \"_demanda_sim\"\n",
    "extension <- \".csv\""
   ]
  },
  {
   "cell_type": "markdown",
   "metadata": {},
   "source": [
    "<font color='tomato'><b> OPCION A:</b> Uso del paquete \"tcltk\" para mayor comodidad</font>\n",
    "\n",
    "* Buscar carpeta, escribir nombre de archivo SIN extensión (se especifica en el código)\n",
    "* Especificar sufijo2 si es necesario\n",
    "* Cambiar datos por datos_xx si es necesario"
   ]
  },
  {
   "cell_type": "code",
   "execution_count": 33,
   "metadata": {
    "vscode": {
     "languageId": "r"
    }
   },
   "outputs": [],
   "source": [
    "# file_save_02 <- paste0(caso, proceso, tarea, tcltk::tkgetSaveFile(), proper, extension) \n",
    "# path_out_02 <- paste0(oPath, file_save_02)\n",
    "# write_csv(data_to_save_02, path_out_02)\n",
    "\n",
    "# cat('File saved as: ')\n",
    "# path_out_02"
   ]
  },
  {
   "cell_type": "markdown",
   "metadata": {},
   "source": [
    "<font color='tomato'><b> OPCION B:</b> Especificar el nombre de archivo</font>"
   ]
  },
  {
   "cell_type": "markdown",
   "metadata": {},
   "source": [
    "- Los ficheros de salida del proceso van siempre a Data/Output/.  "
   ]
  },
  {
   "cell_type": "code",
   "execution_count": 34,
   "metadata": {
    "vscode": {
     "languageId": "r"
    }
   },
   "outputs": [
    {
     "name": "stdout",
     "output_type": "stream",
     "text": [
      "File saved as: "
     ]
    },
    {
     "data": {
      "text/html": [
       "'Data/Output/CU_34_05_02_02_demanda_sim.csv'"
      ],
      "text/latex": [
       "'Data/Output/CU\\_34\\_05\\_02\\_02\\_demanda\\_sim.csv'"
      ],
      "text/markdown": [
       "'Data/Output/CU_34_05_02_02_demanda_sim.csv'"
      ],
      "text/plain": [
       "[1] \"Data/Output/CU_34_05_02_02_demanda_sim.csv\""
      ]
     },
     "metadata": {},
     "output_type": "display_data"
    }
   ],
   "source": [
    "file_save_02 <- paste0(caso, proceso, tarea, archivo, proper, extension) \n",
    "path_out_02 <- paste0(oPath, file_save_02)\n",
    "write_csv(data_to_save_02, path_out_02)\n",
    "\n",
    "cat('File saved as: ')\n",
    "path_out_02"
   ]
  },
  {
   "cell_type": "markdown",
   "metadata": {},
   "source": [
    "#### Copia del fichero a Input\n",
    "\n",
    "Si el archivo se va a usar en otros notebooks, copiar a la carpeta Input"
   ]
  },
  {
   "cell_type": "code",
   "execution_count": 35,
   "metadata": {
    "vscode": {
     "languageId": "r"
    }
   },
   "outputs": [
    {
     "data": {
      "text/html": [
       "TRUE"
      ],
      "text/latex": [
       "TRUE"
      ],
      "text/markdown": [
       "TRUE"
      ],
      "text/plain": [
       "[1] TRUE"
      ]
     },
     "metadata": {},
     "output_type": "display_data"
    }
   ],
   "source": [
    "path_in_02 <- paste0(iPath, file_save_02)\n",
    "file.copy(path_out_02, path_in_02, overwrite = TRUE)"
   ]
  },
  {
   "attachments": {},
   "cell_type": "markdown",
   "metadata": {},
   "source": [
    "3. Simulación de capacidad de servicios"
   ]
  },
  {
   "cell_type": "markdown",
   "metadata": {},
   "source": [
    "<font color='tomato'> Identificamos los datos a guardar</font>"
   ]
  },
  {
   "cell_type": "code",
   "execution_count": 36,
   "metadata": {
    "vscode": {
     "languageId": "r"
    }
   },
   "outputs": [],
   "source": [
    "data_to_save_03 <- fdata_02"
   ]
  },
  {
   "cell_type": "markdown",
   "metadata": {},
   "source": [
    "\n",
    "<font color='tomato'>Estructura de nombre de archivos:</font>\n",
    "\n",
    "* Código del caso de uso, por ejemplo \"CU_04\"\n",
    "* Número del proceso que lo genera, por ejemplo \"_05\".\n",
    "* Número de la tarea que lo genera, por ejemplo \"_01\"\n",
    "* En caso de generarse varios ficheros en la misma tarea, llevarán _01 _02 ... después\n",
    "* Nombre: identificativo de \"properData\", por ejemplo \"_zonasgeo\"\n",
    "* Extensión del archivo\n",
    "\n",
    "Ejemplo: \"CU_04_05_01_01_zonasgeo.json, primer fichero que se genera en la tarea 01 del proceso 05 (Data Collection) para el caso de uso 04 (vacunas)\n",
    "\n",
    "Importante mantener los guiones bajos antes de proceso, tarea, archivo y nombre"
   ]
  },
  {
   "cell_type": "markdown",
   "metadata": {},
   "source": [
    "### Proceso 05"
   ]
  },
  {
   "cell_type": "code",
   "execution_count": 37,
   "metadata": {
    "vscode": {
     "languageId": "r"
    }
   },
   "outputs": [],
   "source": [
    "archivo <- \"_03\"\n",
    "proper <- \"_capacidad_sim\"\n",
    "extension <- \".csv\""
   ]
  },
  {
   "cell_type": "markdown",
   "metadata": {},
   "source": [
    "<font color='tomato'><b> OPCION A:</b> Uso del paquete \"tcltk\" para mayor comodidad</font>\n",
    "\n",
    "* Buscar carpeta, escribir nombre de archivo SIN extensión (se especifica en el código)\n",
    "* Especificar sufijo2 si es necesario\n",
    "* Cambiar datos por datos_xx si es necesario"
   ]
  },
  {
   "cell_type": "code",
   "execution_count": 38,
   "metadata": {
    "vscode": {
     "languageId": "r"
    }
   },
   "outputs": [],
   "source": [
    "# file_save_03 <- paste0(caso, proceso, tarea, tcltk::tkgetSaveFile(), proper, extension) \n",
    "# path_out_03 <- paste0(oPath, file_save_03)\n",
    "# write_csv(data_to_save_02, path_out_02)\n",
    "\n",
    "# cat('File saved as: ')\n",
    "# path_out_03"
   ]
  },
  {
   "cell_type": "markdown",
   "metadata": {},
   "source": [
    "<font color='tomato'><b> OPCION B:</b> Especificar el nombre de archivo</font>"
   ]
  },
  {
   "cell_type": "markdown",
   "metadata": {},
   "source": [
    "- Los ficheros de salida del proceso van siempre a Data/Output/.  "
   ]
  },
  {
   "cell_type": "code",
   "execution_count": 39,
   "metadata": {
    "vscode": {
     "languageId": "r"
    }
   },
   "outputs": [
    {
     "name": "stdout",
     "output_type": "stream",
     "text": [
      "File saved as: "
     ]
    },
    {
     "data": {
      "text/html": [
       "'Data/Output/CU_34_05_02_03_capacidad_sim.csv'"
      ],
      "text/latex": [
       "'Data/Output/CU\\_34\\_05\\_02\\_03\\_capacidad\\_sim.csv'"
      ],
      "text/markdown": [
       "'Data/Output/CU_34_05_02_03_capacidad_sim.csv'"
      ],
      "text/plain": [
       "[1] \"Data/Output/CU_34_05_02_03_capacidad_sim.csv\""
      ]
     },
     "metadata": {},
     "output_type": "display_data"
    }
   ],
   "source": [
    "file_save_03 <- paste0(caso, proceso, tarea, archivo, proper, extension) \n",
    "path_out_03 <- paste0(oPath, file_save_03)\n",
    "write_csv(data_to_save_03, path_out_03)\n",
    "\n",
    "cat('File saved as: ')\n",
    "path_out_03"
   ]
  },
  {
   "cell_type": "markdown",
   "metadata": {},
   "source": [
    "#### Copia del fichero a Input\n",
    "\n",
    "Si el archivo se va a usar en otros notebooks, copiar a la carpeta Input"
   ]
  },
  {
   "cell_type": "code",
   "execution_count": 40,
   "metadata": {
    "vscode": {
     "languageId": "r"
    }
   },
   "outputs": [
    {
     "data": {
      "text/html": [
       "TRUE"
      ],
      "text/latex": [
       "TRUE"
      ],
      "text/markdown": [
       "TRUE"
      ],
      "text/plain": [
       "[1] TRUE"
      ]
     },
     "metadata": {},
     "output_type": "display_data"
    }
   ],
   "source": [
    "path_in_03 <- paste0(iPath, file_save_03)\n",
    "file.copy(path_out_03, path_in_03, overwrite = TRUE)"
   ]
  },
  {
   "cell_type": "markdown",
   "metadata": {},
   "source": [
    "## <font color=' #2874a6 '>Main Conclusions</font>"
   ]
  },
  {
   "cell_type": "markdown",
   "metadata": {
    "slideshow": {
     "slide_type": "slide"
    }
   },
   "source": [
    "<font color='steelblue'>List and describe the general conclusions of the analysis carried out​.</font>"
   ]
  },
  {
   "attachments": {},
   "cell_type": "markdown",
   "metadata": {},
   "source": [
    "### Prerequisites\n",
    "\n",
    "Para que funcione este código se necesita:\n",
    "\n",
    "* Las rutas de archivos `Data/Input` y `Data/Output` deben existir (relativas a la ruta del _notebook_)\n",
    "* El paquete tcltk instalado para seleccionar archivos interactivamente. No se necesita en producción.\n",
    "* Los paquetes sf, readr, dplyr, lubridate, elevatr deben estar instalados.\n"
   ]
  },
  {
   "attachments": {},
   "cell_type": "markdown",
   "metadata": {},
   "source": [
    "### Configuration Management\n",
    "\n",
    "This notebook has been tested with the following versions of R and packages. It cannot be assured that later versions work in the same way:\n",
    "* R 4.2.2\n",
    "* tcltk 4.2.2\n",
    "* sf 1.0.9\n",
    "* readr 2.1.3\n",
    "* dplyr 1.1.0\n",
    "* lubridate 1.9.1\n",
    "* elevatr 0.4.2"
   ]
  },
  {
   "attachments": {},
   "cell_type": "markdown",
   "metadata": {},
   "source": [
    "#### Objeto `tdata_02`\n",
    "\n",
    "- Datos de indicadores ampliados\n",
    "- Hay 4440 filas con información de las siguientes variables:\n",
    "\t* ccaa\n",
    "\t* CPRO\n",
    "\t* CMUN\n",
    "\t* dist\n",
    "\t* secc\n",
    "\t* t1_1\n",
    "\t* t2_1\n",
    "\t* t2_2\n",
    "\t* t3_1\n",
    "\t* t4_1\n",
    "\t* t4_2\n",
    "\t* t4_3\n",
    "\t* t5_1\n",
    "\t* t6_1\n",
    "\t* t7_1\n",
    "\t* t8_1\n",
    "\t* t9_1\n",
    "\t* t10_1\n",
    "\t* t11_1\n",
    "\t* t12_1\n",
    "\t* NSEC\n",
    "\t* area\n",
    "\t* elevation\n",
    "\t* densidad_hab_km2"
   ]
  },
  {
   "attachments": {},
   "cell_type": "markdown",
   "metadata": {},
   "source": [
    "#### Objeto `fdata_01`\n",
    "\n",
    "- Datos de demanda de servicios\n",
    "- Hay 274784 filas con información de las siguientes variables:\n",
    "\t* Fecha\n",
    "\t* Servicio\n",
    "\t* CMUN\n",
    "\t* CDIS\n",
    "\t* CSEC\n",
    "\t* area\n",
    "\t* elevation\n",
    "\t* personas\n",
    "\t* edad\n",
    "\t* mayores\n",
    "\t* titulados\n",
    "\t* densidad_hab_km2\n",
    "\t* Futbol\n",
    "\t* nservicios"
   ]
  },
  {
   "attachments": {},
   "cell_type": "markdown",
   "metadata": {},
   "source": [
    "#### Objeto `fdata_02`\n",
    "\n",
    "- Datos de capacidad de servicios\n",
    "- Hay 358 filas con información de las siguientes variables:\n",
    "\t* CMUN\n",
    "\t* Servicio\n",
    "\t* capacidad"
   ]
  },
  {
   "attachments": {},
   "cell_type": "markdown",
   "metadata": {},
   "source": [
    "#### Observaciones generales sobre los datos\n",
    "\n",
    "* No aplica"
   ]
  },
  {
   "attachments": {},
   "cell_type": "markdown",
   "metadata": {},
   "source": [
    "### Consideraciones para despliegue en piloto\n",
    "\n",
    "* Los datos son simulados"
   ]
  },
  {
   "attachments": {},
   "cell_type": "markdown",
   "metadata": {},
   "source": [
    "### Consideraciones para despliegue en producción\n",
    "\n",
    "* Se deben crear los procesos ETL en producción necesarios para obtener datos reales"
   ]
  },
  {
   "cell_type": "markdown",
   "metadata": {},
   "source": [
    "## <font color=' #2874a6 '>Main Actions</font>"
   ]
  },
  {
   "cell_type": "markdown",
   "metadata": {},
   "source": [
    "#### <font color=' #2874a6 '>Acciones done</font>"
   ]
  },
  {
   "cell_type": "markdown",
   "metadata": {
    "slideshow": {
     "slide_type": "slide"
    }
   },
   "source": [
    "<font color='steelblue'>Indicate the actions that have been carried out in this process</font>"
   ]
  },
  {
   "attachments": {},
   "cell_type": "markdown",
   "metadata": {},
   "source": [
    "- Se ha asignado una etiqueta a cada sección censal\n",
    "- Se ha calculado la densidad de población de cada sección\n",
    "- Se ha calculado la elevación de las secciones censales\n",
    "- Se han simulado datos de servicios"
   ]
  },
  {
   "cell_type": "markdown",
   "metadata": {},
   "source": [
    "#### <font color=' #2874a6 '>Acctions to perform</font>"
   ]
  },
  {
   "cell_type": "markdown",
   "metadata": {
    "slideshow": {
     "slide_type": "slide"
    }
   },
   "source": [
    "<font color='steelblue'>Indicate the actions that must be carried out in subsequent processes</font>"
   ]
  },
  {
   "attachments": {},
   "cell_type": "markdown",
   "metadata": {},
   "source": [
    "- Se deben añadir los datos meteorológicos"
   ]
  },
  {
   "attachments": {},
   "cell_type": "markdown",
   "metadata": {},
   "source": [
    "## <font color='RED'>CODE TO DEPLOY (PILOT)</font>\n",
    "\n",
    "A continuación se incluirá el código que deba ser llevado a despliegue para producción, dado que se entiende efectúa operaciones necesarias sobre los datos en la ejecución del prototipo"
   ]
  },
  {
   "attachments": {},
   "cell_type": "markdown",
   "metadata": {},
   "source": [
    "<font color=' red '><b>Description</b></font>\n",
    "\n",
    "- No hay nada que desplegar en el piloto, ya que estos datos son estáticos o en todo caso cambian con muy poca frecuencia, altamente improbable durante el proyecto.\n"
   ]
  },
  {
   "attachments": {},
   "cell_type": "markdown",
   "metadata": {},
   "source": [
    "<font color=' red '><b>CODE</b></font>"
   ]
  },
  {
   "cell_type": "code",
   "execution_count": 41,
   "metadata": {
    "vscode": {
     "languageId": "r"
    }
   },
   "outputs": [],
   "source": [
    "# incluir código"
   ]
  }
 ],
 "metadata": {
  "anaconda-cloud": {},
  "celltoolbar": "Slideshow",
  "hide_input": false,
  "kernelspec": {
   "display_name": "R",
   "language": "R",
   "name": "ir"
  },
  "language_info": {
   "codemirror_mode": "r",
   "file_extension": ".r",
   "mimetype": "text/x-r-source",
   "name": "R",
   "pygments_lexer": "r",
   "version": "4.2.2"
  },
  "latex_envs": {
   "LaTeX_envs_menu_present": true,
   "autoclose": false,
   "autocomplete": true,
   "bibliofile": "biblio.bib",
   "cite_by": "apalike",
   "current_citInitial": 1,
   "eqLabelWithNumbers": true,
   "eqNumInitial": 1,
   "hotkeys": {
    "equation": "Ctrl-E",
    "itemize": "Ctrl-I"
   },
   "labels_anchors": false,
   "latex_user_defs": false,
   "report_style_numbering": true,
   "user_envs_cfg": false
  },
  "toc": {
   "base_numbering": 1,
   "nav_menu": {
    "height": "11.6px",
    "width": "160px"
   },
   "number_sections": false,
   "sideBar": true,
   "skip_h1_title": true,
   "title_cell": "Table of Contents",
   "title_sidebar": "Contents",
   "toc_cell": true,
   "toc_position": {
    "height": "calc(100% - 180px)",
    "left": "10px",
    "top": "150px",
    "width": "209.2px"
   },
   "toc_section_display": true,
   "toc_window_display": true
  },
  "varInspector": {
   "cols": {
    "lenName": 16,
    "lenType": 16,
    "lenVar": 40
   },
   "kernels_config": {
    "python": {
     "delete_cmd_postfix": "",
     "delete_cmd_prefix": "del ",
     "library": "var_list.py",
     "varRefreshCmd": "print(var_dic_list())"
    },
    "r": {
     "delete_cmd_postfix": ") ",
     "delete_cmd_prefix": "rm(",
     "library": "var_list.r",
     "varRefreshCmd": "cat(var_dic_list()) "
    }
   },
   "types_to_exclude": [
    "module",
    "function",
    "builtin_function_or_method",
    "instance",
    "_Feature"
   ],
   "window_display": false
  }
 },
 "nbformat": 4,
 "nbformat_minor": 1
}
