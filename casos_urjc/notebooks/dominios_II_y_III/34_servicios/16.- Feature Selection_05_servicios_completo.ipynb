{
 "cells": [
  {
   "cell_type": "markdown",
   "metadata": {
    "slideshow": {
     "slide_type": "slide"
    }
   },
   "source": [
    "<img src=\".\\images\\Logo.png\" width=150 align=\"left\" /> <img src=\".\\images\\Logo2.jpg\" width=450 align=\"right\" />"
   ]
  },
  {
   "cell_type": "markdown",
   "metadata": {
    "slideshow": {
     "slide_type": "slide"
    }
   },
   "source": [
    "\n",
    "# <center><font color= #1e8449 > <b>CUxx_Nombre del caso de uso</font></center>"
   ]
  },
  {
   "cell_type": "markdown",
   "metadata": {
    "slideshow": {
     "slide_type": "slide"
    }
   },
   "source": [
    "<font color='steelblue'><b>Citizenlab Data Science Methodology > III - Feature Engineering Domain </font>\n",
    "***\n",
    "> # <font color='steelblue'> <b>16.- Feature Selection</font>"
   ]
  },
  {
   "cell_type": "markdown",
   "metadata": {
    "slideshow": {
     "slide_type": "slide"
    }
   },
   "source": [
    "<font color='steelblue'>Feature Selection is the process where you automatically or manually select the most relevant features which contribute most to the correct output of the model.</font>\n"
   ]
  },
  {
   "cell_type": "markdown",
   "metadata": {
    "slideshow": {
     "slide_type": "slide"
    }
   },
   "source": [
    "## <font color='steelblue'>Tasks</font>"
   ]
  },
  {
   "cell_type": "markdown",
   "metadata": {
    "slideshow": {
     "slide_type": "slide"
    }
   },
   "source": [
    "<font color='steelblue'><b>Perform Selection of Categorical-Input/Categorical-Output</b>\t\n",
    "- Encoding-Categorical-Features\n",
    "- Chi-Squared-Feature-Selection\n",
    "- Mutual-Information-Feature-Selection\n",
    "- Evaluate-a-Logistic-Regression-model\n",
    "    \n",
    "<font color='steelblue'><b>Perform Selection of Numerical-Input/Categorical-Output</b>\t\n",
    "- ANOVA-F-test-Feature-Selection\n",
    "- Mutual-Information-Feature-Selection\n",
    "- Evaluating-a-Logistic-Regression-model\n",
    "- Tuning-the-Number-of-Selected-Features\n",
    "    \n",
    "<font color='steelblue'><b>Perform Selection of Numerical-Input/Numerical-Output</b>\t\n",
    "- Correlation-with-the-outcome-Feature-Selection\n",
    "- Mutual-Information-Feature-Selection\n",
    "- Evaluate-a-Lineal-Regression-model\n",
    "- Tuning-the-Number-of-Selected-Features\n",
    "    \n",
    "<font color='steelblue'><b>Perform Selection of Any-data</b>\t\n",
    "- RFE-(Recursive-Feature-Elimination)\n",
    "- Tuning-the-Number-of-Selected-Features\n",
    "- Automatically-Select-the-Number-of-Features\n",
    "    \n",
    "<font color='steelblue'><b>Explore the use of diferent algorithms wrapped by RFE</b>\t\n",
    "    \n",
    "<font color='steelblue'><b>Explore the use od Hybrid feature selection algorithms</b>\t"
   ]
  },
  {
   "cell_type": "markdown",
   "metadata": {},
   "source": [
    "## Consideraciones casos CitizenLab programados en R\n",
    "\n",
    "* Algunas de las tareas de este proceso se han realizado en los notebooks del proceso 05 Data Collection porque eran necesarias para las tareas ETL. En esos casos, en este notebook se referencia al notebook del proceso 05 correspondiente\n",
    "* Otras tareas típicas de este proceso se realizan en los notebooks del dominio IV al ser más eficiente realizarlas en el propio pipeline de modelización.\n",
    "* Por tanto en los notebooks de este proceso de manera general se incluyen las comprobaciones necesarias, y comentarios si procede\n",
    "* Las tareas del proceso se van a aplicar solo a los archivos que forman parte del despliegue, ya que hay muchos archivos intermedios que no procede pasar por este proceso\n",
    "* El nombre de archivo del notebook hace referencia al nombre de archivo del proceso 05 al que se aplica este proceso, por eso pueden no ser correlativa la numeración\n",
    "* Las comprobaciones se van a realizar teniendo en cuenta que el lenguaje utilizado en el despliegue de este caso es R"
   ]
  },
  {
   "cell_type": "markdown",
   "metadata": {},
   "source": [
    "## <font color='green'>File</font>"
   ]
  },
  {
   "cell_type": "markdown",
   "metadata": {},
   "source": [
    "- <font color='steelblue'> <b>Input File: xxxxxxxxxx</font>\n",
    "- <font color='steelblue'> <b>Output File: No aplica</font>"
   ]
  },
  {
   "cell_type": "markdown",
   "metadata": {},
   "source": [
    "### Encoding\n",
    "\n",
    "Con la siguiente expresión se evitan problemas con el encoding al ejecutar el notebook. Es posible que deba ser eliminada o adaptada a la máquina en la que se ejecute el código."
   ]
  },
  {
   "cell_type": "code",
   "execution_count": 17,
   "metadata": {
    "vscode": {
     "languageId": "r"
    }
   },
   "outputs": [
    {
     "data": {
      "text/html": [
       "'LC_CTYPE=es_ES.UTF-8;LC_NUMERIC=C;LC_TIME=es_ES.UTF-8;LC_COLLATE=es_ES.UTF-8;LC_MONETARY=es_ES.UTF-8;LC_MESSAGES=en_US.UTF-8;LC_PAPER=es_ES.UTF-8;LC_NAME=C;LC_ADDRESS=C;LC_TELEPHONE=C;LC_MEASUREMENT=es_ES.UTF-8;LC_IDENTIFICATION=C'"
      ],
      "text/latex": [
       "'LC\\_CTYPE=es\\_ES.UTF-8;LC\\_NUMERIC=C;LC\\_TIME=es\\_ES.UTF-8;LC\\_COLLATE=es\\_ES.UTF-8;LC\\_MONETARY=es\\_ES.UTF-8;LC\\_MESSAGES=en\\_US.UTF-8;LC\\_PAPER=es\\_ES.UTF-8;LC\\_NAME=C;LC\\_ADDRESS=C;LC\\_TELEPHONE=C;LC\\_MEASUREMENT=es\\_ES.UTF-8;LC\\_IDENTIFICATION=C'"
      ],
      "text/markdown": [
       "'LC_CTYPE=es_ES.UTF-8;LC_NUMERIC=C;LC_TIME=es_ES.UTF-8;LC_COLLATE=es_ES.UTF-8;LC_MONETARY=es_ES.UTF-8;LC_MESSAGES=en_US.UTF-8;LC_PAPER=es_ES.UTF-8;LC_NAME=C;LC_ADDRESS=C;LC_TELEPHONE=C;LC_MEASUREMENT=es_ES.UTF-8;LC_IDENTIFICATION=C'"
      ],
      "text/plain": [
       "[1] \"LC_CTYPE=es_ES.UTF-8;LC_NUMERIC=C;LC_TIME=es_ES.UTF-8;LC_COLLATE=es_ES.UTF-8;LC_MONETARY=es_ES.UTF-8;LC_MESSAGES=en_US.UTF-8;LC_PAPER=es_ES.UTF-8;LC_NAME=C;LC_ADDRESS=C;LC_TELEPHONE=C;LC_MEASUREMENT=es_ES.UTF-8;LC_IDENTIFICATION=C\""
      ]
     },
     "metadata": {},
     "output_type": "display_data"
    }
   ],
   "source": [
    "Sys.setlocale(category = \"LC_ALL\", locale = \"es_ES.UTF-8\")"
   ]
  },
  {
   "cell_type": "markdown",
   "metadata": {},
   "source": [
    "## <font color='green'>Settings</font>"
   ]
  },
  {
   "cell_type": "markdown",
   "metadata": {},
   "source": [
    "### Libraries to use"
   ]
  },
  {
   "cell_type": "code",
   "execution_count": 18,
   "metadata": {
    "vscode": {
     "languageId": "r"
    }
   },
   "outputs": [],
   "source": [
    "library(readr)\n",
    "library(dplyr)\n",
    "library(tidyr)\n",
    "library(forcats)\n",
    "library(lubridate)\n"
   ]
  },
  {
   "cell_type": "markdown",
   "metadata": {},
   "source": [
    "### Paths"
   ]
  },
  {
   "cell_type": "code",
   "execution_count": 19,
   "metadata": {
    "vscode": {
     "languageId": "r"
    }
   },
   "outputs": [],
   "source": [
    "iPath <- \"Data/Input/\"\n",
    "oPath <- \"Data/Output/\""
   ]
  },
  {
   "cell_type": "markdown",
   "metadata": {},
   "source": [
    "## <font color='green'>Data Load</font>"
   ]
  },
  {
   "cell_type": "markdown",
   "metadata": {},
   "source": [
    "<font color='tomato'><b> OPCION A:</b> Seleccionar fichero en ventana para mayor comodidad</font> "
   ]
  },
  {
   "cell_type": "markdown",
   "metadata": {},
   "source": [
    "Data load using the {tcltk} package. Ucomment the line if using this option"
   ]
  },
  {
   "cell_type": "code",
   "execution_count": 20,
   "metadata": {
    "vscode": {
     "languageId": "r"
    }
   },
   "outputs": [],
   "source": [
    "# file_data <- tcltk::tk_choose.files(multi = FALSE)"
   ]
  },
  {
   "cell_type": "markdown",
   "metadata": {},
   "source": [
    "<font color='tomato'><b> OPCION B:</b> Especificar el nombre de archivo</font>\n",
    "\n"
   ]
  },
  {
   "cell_type": "code",
   "execution_count": 21,
   "metadata": {
    "vscode": {
     "languageId": "r"
    }
   },
   "outputs": [
    {
     "name": "stdout",
     "output_type": "stream",
     "text": [
      "Se leerán datos del archivo:  Data/Input/CU_34_15_05_servicios_completo.csv"
     ]
    }
   ],
   "source": [
    "iFile <- \"CU_34_15_05_servicios_completo.csv\"\n",
    "file_data <- paste0(iPath, iFile)\n",
    "\n",
    "if(file.exists(file_data)){\n",
    "    cat(\"Se leerán datos del archivo: \", file_data)\n",
    "} else{\n",
    "    warning(\"Cuidado: el archivo no existe.\")\n",
    "}\n"
   ]
  },
  {
   "cell_type": "markdown",
   "metadata": {},
   "source": [
    "#### Data file to dataframe\n",
    "\n",
    "Usar la función adecuada según el formato de entrada (xlsx, csv, json, ...)"
   ]
  },
  {
   "cell_type": "code",
   "execution_count": 22,
   "metadata": {
    "vscode": {
     "languageId": "r"
    }
   },
   "outputs": [
    {
     "name": "stderr",
     "output_type": "stream",
     "text": [
      "\u001b[1mRows: \u001b[22m\u001b[34m272862\u001b[39m \u001b[1mColumns: \u001b[22m\u001b[34m19\u001b[39m\n",
      "\u001b[36m──\u001b[39m \u001b[1mColumn specification\u001b[22m \u001b[36m──────────────────────────────────────────────────────────────────────────────────────────────────────────────────────────────────────────────────────────────────────────────────────────────────────────────────────────────────────────────────────────\u001b[39m\n",
      "\u001b[1mDelimiter:\u001b[22m \",\"\n",
      "\u001b[31mchr\u001b[39m   (5): Servicio, CMUN, CDIS, CSEC, NSEC\n",
      "\u001b[32mdbl\u001b[39m  (12): Futbol, nservicios, capacidad, tmed, prec, velmedia, presMax, t1_...\n",
      "\u001b[33mlgl\u001b[39m   (1): is_train\n",
      "\u001b[34mdate\u001b[39m  (1): Fecha\n",
      "\n",
      "\u001b[36mℹ\u001b[39m Use `spec()` to retrieve the full column specification for this data.\n",
      "\u001b[36mℹ\u001b[39m Specify the column types or set `show_col_types = FALSE` to quiet this message.\n"
     ]
    }
   ],
   "source": [
    "data <- read_csv(file_data)\n"
   ]
  },
  {
   "cell_type": "markdown",
   "metadata": {},
   "source": [
    "Estructura de  los datos:"
   ]
  },
  {
   "cell_type": "code",
   "execution_count": 23,
   "metadata": {
    "vscode": {
     "languageId": "r"
    }
   },
   "outputs": [
    {
     "name": "stdout",
     "output_type": "stream",
     "text": [
      "Rows: 272,862\n",
      "Columns: 19\n",
      "$ Fecha            \u001b[3m\u001b[90m<date>\u001b[39m\u001b[23m 2022-01-12, 2022-01-31, 2022-01-28, 2022-01-06, 2022…\n",
      "$ Servicio         \u001b[3m\u001b[90m<chr>\u001b[39m\u001b[23m \"Delivery\", \"Taxi\", \"Taxi\", \"Delivery\", \"Delivery\", \"…\n",
      "$ CMUN             \u001b[3m\u001b[90m<chr>\u001b[39m\u001b[23m \"079\", \"079\", \"903\", \"079\", \"007\", \"022\", \"079\", \"079…\n",
      "$ CDIS             \u001b[3m\u001b[90m<chr>\u001b[39m\u001b[23m \"14\", \"01\", \"01\", \"04\", \"04\", \"01\", \"16\", \"01\", \"16\",…\n",
      "$ CSEC             \u001b[3m\u001b[90m<chr>\u001b[39m\u001b[23m \"050\", \"048\", \"006\", \"080\", \"012\", \"004\", \"041\", \"033…\n",
      "$ Futbol           \u001b[3m\u001b[90m<dbl>\u001b[39m\u001b[23m 1, 0, 0, 0, 1, 1, 0, 0, 0, 0, 1, 0, 0, 0, 0, 0, 0, 0,…\n",
      "$ nservicios       \u001b[3m\u001b[90m<dbl>\u001b[39m\u001b[23m 58, 5, 0, 14, 60, 50, 13, 4, 3, 9, 68, 12, 0, 1, 14, …\n",
      "$ capacidad        \u001b[3m\u001b[90m<dbl>\u001b[39m\u001b[23m 80, 69, 56, 80, 70, 56, 80, 69, 69, 69, 80, 80, 69, 6…\n",
      "$ tmed             \u001b[3m\u001b[90m<dbl>\u001b[39m\u001b[23m 7.366319, 8.823406, 7.854915, 4.226603, 4.982656, 7.2…\n",
      "$ prec             \u001b[3m\u001b[90m<dbl>\u001b[39m\u001b[23m -0.009468616, 0.000000000, 0.000000000, 0.010181896, …\n",
      "$ velmedia         \u001b[3m\u001b[90m<dbl>\u001b[39m\u001b[23m 1.5999961, 1.5114967, 2.2536168, 1.0279945, 1.0387037…\n",
      "$ presMax          \u001b[3m\u001b[90m<dbl>\u001b[39m\u001b[23m 954.7939, 948.9795, 940.2553, 945.1884, 948.9570, 943…\n",
      "$ t1_1             \u001b[3m\u001b[90m<dbl>\u001b[39m\u001b[23m 1094, 1251, 2232, 746, 1080, 2256, 692, 1270, 2229, 8…\n",
      "$ t3_1             \u001b[3m\u001b[90m<dbl>\u001b[39m\u001b[23m 45.4360, 41.6091, 44.2016, 47.1729, 48.5361, 43.2877,…\n",
      "$ NSEC             \u001b[3m\u001b[90m<chr>\u001b[39m\u001b[23m \"Madrid - 14.050\", \"Madrid - 01.048\", \"Tres Cantos - …\n",
      "$ area             \u001b[3m\u001b[90m<dbl>\u001b[39m\u001b[23m 38753.96, 15289.89, 124539.78, 89206.78, 24473.30, 34…\n",
      "$ elevation        \u001b[3m\u001b[90m<dbl>\u001b[39m\u001b[23m 658, 635, 719, 710, 693, 710, 702, 635, 690, 710, 690…\n",
      "$ densidad_hab_km2 \u001b[3m\u001b[90m<dbl>\u001b[39m\u001b[23m 28229.3737, 81818.7738, 17921.9842, 8362.5928, 44129.…\n",
      "$ is_train         \u001b[3m\u001b[90m<lgl>\u001b[39m\u001b[23m TRUE, TRUE, TRUE, TRUE, TRUE, TRUE, TRUE, TRUE, TRUE,…\n"
     ]
    }
   ],
   "source": [
    "data |> glimpse()"
   ]
  },
  {
   "cell_type": "markdown",
   "metadata": {},
   "source": [
    "Muestra de los primeros datos:"
   ]
  },
  {
   "cell_type": "code",
   "execution_count": 24,
   "metadata": {
    "vscode": {
     "languageId": "r"
    }
   },
   "outputs": [
    {
     "data": {
      "text/html": [
       "<table class=\"dataframe\">\n",
       "<caption>A spec_tbl_df: 5 × 19</caption>\n",
       "<thead>\n",
       "\t<tr><th scope=col>Fecha</th><th scope=col>Servicio</th><th scope=col>CMUN</th><th scope=col>CDIS</th><th scope=col>CSEC</th><th scope=col>Futbol</th><th scope=col>nservicios</th><th scope=col>capacidad</th><th scope=col>tmed</th><th scope=col>prec</th><th scope=col>velmedia</th><th scope=col>presMax</th><th scope=col>t1_1</th><th scope=col>t3_1</th><th scope=col>NSEC</th><th scope=col>area</th><th scope=col>elevation</th><th scope=col>densidad_hab_km2</th><th scope=col>is_train</th></tr>\n",
       "\t<tr><th scope=col>&lt;date&gt;</th><th scope=col>&lt;chr&gt;</th><th scope=col>&lt;chr&gt;</th><th scope=col>&lt;chr&gt;</th><th scope=col>&lt;chr&gt;</th><th scope=col>&lt;dbl&gt;</th><th scope=col>&lt;dbl&gt;</th><th scope=col>&lt;dbl&gt;</th><th scope=col>&lt;dbl&gt;</th><th scope=col>&lt;dbl&gt;</th><th scope=col>&lt;dbl&gt;</th><th scope=col>&lt;dbl&gt;</th><th scope=col>&lt;dbl&gt;</th><th scope=col>&lt;dbl&gt;</th><th scope=col>&lt;chr&gt;</th><th scope=col>&lt;dbl&gt;</th><th scope=col>&lt;dbl&gt;</th><th scope=col>&lt;dbl&gt;</th><th scope=col>&lt;lgl&gt;</th></tr>\n",
       "</thead>\n",
       "<tbody>\n",
       "\t<tr><td>2022-01-12</td><td>Delivery</td><td>079</td><td>14</td><td>050</td><td>1</td><td>58</td><td>80</td><td>7.366319</td><td>-0.009468616</td><td>1.599996</td><td>954.7939</td><td>1094</td><td>45.4360</td><td>Madrid - 14.050     </td><td> 38753.96</td><td>658</td><td>28229.374</td><td>TRUE</td></tr>\n",
       "\t<tr><td>2022-01-31</td><td>Taxi    </td><td>079</td><td>01</td><td>048</td><td>0</td><td> 5</td><td>69</td><td>8.823406</td><td> 0.000000000</td><td>1.511497</td><td>948.9795</td><td>1251</td><td>41.6091</td><td>Madrid - 01.048     </td><td> 15289.89</td><td>635</td><td>81818.774</td><td>TRUE</td></tr>\n",
       "\t<tr><td>2022-01-28</td><td>Taxi    </td><td>903</td><td>01</td><td>006</td><td>0</td><td> 0</td><td>56</td><td>7.854915</td><td> 0.000000000</td><td>2.253617</td><td>940.2553</td><td>2232</td><td>44.2016</td><td>Tres Cantos - 01.006</td><td>124539.78</td><td>719</td><td>17921.984</td><td>TRUE</td></tr>\n",
       "\t<tr><td>2022-01-06</td><td>Delivery</td><td>079</td><td>04</td><td>080</td><td>0</td><td>14</td><td>80</td><td>4.226603</td><td> 0.010181896</td><td>1.027994</td><td>945.1884</td><td> 746</td><td>47.1729</td><td>Madrid - 04.080     </td><td> 89206.78</td><td>710</td><td> 8362.593</td><td>TRUE</td></tr>\n",
       "\t<tr><td>2022-01-21</td><td>Delivery</td><td>007</td><td>04</td><td>012</td><td>1</td><td>60</td><td>70</td><td>4.982656</td><td> 0.000000000</td><td>1.038704</td><td>948.9570</td><td>1080</td><td>48.5361</td><td>Alcorcón - 04.012   </td><td> 24473.30</td><td>693</td><td>44129.730</td><td>TRUE</td></tr>\n",
       "</tbody>\n",
       "</table>\n"
      ],
      "text/latex": [
       "A spec\\_tbl\\_df: 5 × 19\n",
       "\\begin{tabular}{lllllllllllllllllll}\n",
       " Fecha & Servicio & CMUN & CDIS & CSEC & Futbol & nservicios & capacidad & tmed & prec & velmedia & presMax & t1\\_1 & t3\\_1 & NSEC & area & elevation & densidad\\_hab\\_km2 & is\\_train\\\\\n",
       " <date> & <chr> & <chr> & <chr> & <chr> & <dbl> & <dbl> & <dbl> & <dbl> & <dbl> & <dbl> & <dbl> & <dbl> & <dbl> & <chr> & <dbl> & <dbl> & <dbl> & <lgl>\\\\\n",
       "\\hline\n",
       "\t 2022-01-12 & Delivery & 079 & 14 & 050 & 1 & 58 & 80 & 7.366319 & -0.009468616 & 1.599996 & 954.7939 & 1094 & 45.4360 & Madrid - 14.050      &  38753.96 & 658 & 28229.374 & TRUE\\\\\n",
       "\t 2022-01-31 & Taxi     & 079 & 01 & 048 & 0 &  5 & 69 & 8.823406 &  0.000000000 & 1.511497 & 948.9795 & 1251 & 41.6091 & Madrid - 01.048      &  15289.89 & 635 & 81818.774 & TRUE\\\\\n",
       "\t 2022-01-28 & Taxi     & 903 & 01 & 006 & 0 &  0 & 56 & 7.854915 &  0.000000000 & 2.253617 & 940.2553 & 2232 & 44.2016 & Tres Cantos - 01.006 & 124539.78 & 719 & 17921.984 & TRUE\\\\\n",
       "\t 2022-01-06 & Delivery & 079 & 04 & 080 & 0 & 14 & 80 & 4.226603 &  0.010181896 & 1.027994 & 945.1884 &  746 & 47.1729 & Madrid - 04.080      &  89206.78 & 710 &  8362.593 & TRUE\\\\\n",
       "\t 2022-01-21 & Delivery & 007 & 04 & 012 & 1 & 60 & 70 & 4.982656 &  0.000000000 & 1.038704 & 948.9570 & 1080 & 48.5361 & Alcorcón - 04.012    &  24473.30 & 693 & 44129.730 & TRUE\\\\\n",
       "\\end{tabular}\n"
      ],
      "text/markdown": [
       "\n",
       "A spec_tbl_df: 5 × 19\n",
       "\n",
       "| Fecha &lt;date&gt; | Servicio &lt;chr&gt; | CMUN &lt;chr&gt; | CDIS &lt;chr&gt; | CSEC &lt;chr&gt; | Futbol &lt;dbl&gt; | nservicios &lt;dbl&gt; | capacidad &lt;dbl&gt; | tmed &lt;dbl&gt; | prec &lt;dbl&gt; | velmedia &lt;dbl&gt; | presMax &lt;dbl&gt; | t1_1 &lt;dbl&gt; | t3_1 &lt;dbl&gt; | NSEC &lt;chr&gt; | area &lt;dbl&gt; | elevation &lt;dbl&gt; | densidad_hab_km2 &lt;dbl&gt; | is_train &lt;lgl&gt; |\n",
       "|---|---|---|---|---|---|---|---|---|---|---|---|---|---|---|---|---|---|---|\n",
       "| 2022-01-12 | Delivery | 079 | 14 | 050 | 1 | 58 | 80 | 7.366319 | -0.009468616 | 1.599996 | 954.7939 | 1094 | 45.4360 | Madrid - 14.050      |  38753.96 | 658 | 28229.374 | TRUE |\n",
       "| 2022-01-31 | Taxi     | 079 | 01 | 048 | 0 |  5 | 69 | 8.823406 |  0.000000000 | 1.511497 | 948.9795 | 1251 | 41.6091 | Madrid - 01.048      |  15289.89 | 635 | 81818.774 | TRUE |\n",
       "| 2022-01-28 | Taxi     | 903 | 01 | 006 | 0 |  0 | 56 | 7.854915 |  0.000000000 | 2.253617 | 940.2553 | 2232 | 44.2016 | Tres Cantos - 01.006 | 124539.78 | 719 | 17921.984 | TRUE |\n",
       "| 2022-01-06 | Delivery | 079 | 04 | 080 | 0 | 14 | 80 | 4.226603 |  0.010181896 | 1.027994 | 945.1884 |  746 | 47.1729 | Madrid - 04.080      |  89206.78 | 710 |  8362.593 | TRUE |\n",
       "| 2022-01-21 | Delivery | 007 | 04 | 012 | 1 | 60 | 70 | 4.982656 |  0.000000000 | 1.038704 | 948.9570 | 1080 | 48.5361 | Alcorcón - 04.012    |  24473.30 | 693 | 44129.730 | TRUE |\n",
       "\n"
      ],
      "text/plain": [
       "  Fecha      Servicio CMUN CDIS CSEC Futbol nservicios capacidad tmed    \n",
       "1 2022-01-12 Delivery 079  14   050  1      58         80        7.366319\n",
       "2 2022-01-31 Taxi     079  01   048  0       5         69        8.823406\n",
       "3 2022-01-28 Taxi     903  01   006  0       0         56        7.854915\n",
       "4 2022-01-06 Delivery 079  04   080  0      14         80        4.226603\n",
       "5 2022-01-21 Delivery 007  04   012  1      60         70        4.982656\n",
       "  prec         velmedia presMax  t1_1 t3_1    NSEC                 area     \n",
       "1 -0.009468616 1.599996 954.7939 1094 45.4360 Madrid - 14.050       38753.96\n",
       "2  0.000000000 1.511497 948.9795 1251 41.6091 Madrid - 01.048       15289.89\n",
       "3  0.000000000 2.253617 940.2553 2232 44.2016 Tres Cantos - 01.006 124539.78\n",
       "4  0.010181896 1.027994 945.1884  746 47.1729 Madrid - 04.080       89206.78\n",
       "5  0.000000000 1.038704 948.9570 1080 48.5361 Alcorcón - 04.012     24473.30\n",
       "  elevation densidad_hab_km2 is_train\n",
       "1 658       28229.374        TRUE    \n",
       "2 635       81818.774        TRUE    \n",
       "3 719       17921.984        TRUE    \n",
       "4 710        8362.593        TRUE    \n",
       "5 693       44129.730        TRUE    "
      ]
     },
     "metadata": {},
     "output_type": "display_data"
    }
   ],
   "source": [
    "data |> slice_head(n = 5)"
   ]
  },
  {
   "cell_type": "markdown",
   "metadata": {
    "slideshow": {
     "slide_type": "slide"
    }
   },
   "source": [
    "## Selecting Categorical Input / Categorical Output"
   ]
  },
  {
   "cell_type": "markdown",
   "metadata": {
    "slideshow": {
     "slide_type": "slide"
    }
   },
   "source": [
    "### Encoding Categorical Features"
   ]
  },
  {
   "cell_type": "markdown",
   "metadata": {
    "slideshow": {
     "slide_type": "slide"
    }
   },
   "source": [
    "### Chi-Squared Feature Selection"
   ]
  },
  {
   "cell_type": "markdown",
   "metadata": {
    "slideshow": {
     "slide_type": "slide"
    }
   },
   "source": [
    "### Mutual Information Feature Selection"
   ]
  },
  {
   "cell_type": "markdown",
   "metadata": {
    "slideshow": {
     "slide_type": "slide"
    }
   },
   "source": [
    "### Evaluating a Logistic Regression model"
   ]
  },
  {
   "cell_type": "markdown",
   "metadata": {},
   "source": [
    "<font color='tomato'>Select numer of Features to use</font>"
   ]
  },
  {
   "cell_type": "code",
   "execution_count": 25,
   "metadata": {
    "ExecuteTime": {
     "end_time": "2021-01-06T10:31:14.165744Z",
     "start_time": "2021-01-06T10:31:14.150155Z"
    },
    "vscode": {
     "languageId": "r"
    }
   },
   "outputs": [],
   "source": [
    "# Select numer of Features to use\n"
   ]
  },
  {
   "cell_type": "markdown",
   "metadata": {},
   "source": [
    "<font color='darkgrey'><b>Operation</font>"
   ]
  },
  {
   "cell_type": "markdown",
   "metadata": {
    "slideshow": {
     "slide_type": "slide"
    }
   },
   "source": [
    "## Selecting Numerical Input / Categorical Output"
   ]
  },
  {
   "cell_type": "markdown",
   "metadata": {
    "slideshow": {
     "slide_type": "slide"
    }
   },
   "source": [
    "### ANOVA F-test Feature Selection"
   ]
  },
  {
   "cell_type": "markdown",
   "metadata": {
    "slideshow": {
     "slide_type": "slide"
    }
   },
   "source": [
    "### Mutual Information Feature Selection"
   ]
  },
  {
   "cell_type": "markdown",
   "metadata": {
    "slideshow": {
     "slide_type": "slide"
    }
   },
   "source": [
    "### Evaluating a Logistic Regression model"
   ]
  },
  {
   "cell_type": "markdown",
   "metadata": {},
   "source": [
    "<font color='tomato'>Selecting feature to use</font>"
   ]
  },
  {
   "cell_type": "code",
   "execution_count": 26,
   "metadata": {
    "ExecuteTime": {
     "end_time": "2021-01-06T11:10:23.895871Z",
     "start_time": "2021-01-06T11:10:23.880235Z"
    },
    "vscode": {
     "languageId": "r"
    }
   },
   "outputs": [],
   "source": [
    "# Select numer of Features to use\n"
   ]
  },
  {
   "cell_type": "markdown",
   "metadata": {},
   "source": [
    "<font color='darkgrey'><b>Operation</font>"
   ]
  },
  {
   "cell_type": "markdown",
   "metadata": {
    "slideshow": {
     "slide_type": "slide"
    }
   },
   "source": [
    "### Tuning the Number of Selected Features"
   ]
  },
  {
   "cell_type": "code",
   "execution_count": null,
   "metadata": {
    "vscode": {
     "languageId": "r"
    }
   },
   "outputs": [],
   "source": []
  },
  {
   "cell_type": "markdown",
   "metadata": {
    "slideshow": {
     "slide_type": "slide"
    }
   },
   "source": [
    "#### Know the best number of features to select"
   ]
  },
  {
   "cell_type": "code",
   "execution_count": null,
   "metadata": {
    "vscode": {
     "languageId": "r"
    }
   },
   "outputs": [],
   "source": []
  },
  {
   "cell_type": "markdown",
   "metadata": {
    "slideshow": {
     "slide_type": "slide"
    }
   },
   "source": [
    "#### See the relationship between the number of selected features and accuracy"
   ]
  },
  {
   "cell_type": "code",
   "execution_count": null,
   "metadata": {
    "vscode": {
     "languageId": "r"
    }
   },
   "outputs": [],
   "source": []
  },
  {
   "cell_type": "markdown",
   "metadata": {
    "slideshow": {
     "slide_type": "slide"
    }
   },
   "source": [
    "## Selecting Numerical Input / Numerical Output"
   ]
  },
  {
   "cell_type": "markdown",
   "metadata": {
    "slideshow": {
     "slide_type": "slide"
    }
   },
   "source": [
    "### Correlation with the outcome Feature Selection"
   ]
  },
  {
   "cell_type": "code",
   "execution_count": null,
   "metadata": {
    "vscode": {
     "languageId": "r"
    }
   },
   "outputs": [],
   "source": []
  },
  {
   "cell_type": "markdown",
   "metadata": {
    "slideshow": {
     "slide_type": "slide"
    }
   },
   "source": [
    "### Mutual Information Feature Selection"
   ]
  },
  {
   "cell_type": "code",
   "execution_count": null,
   "metadata": {
    "vscode": {
     "languageId": "r"
    }
   },
   "outputs": [],
   "source": []
  },
  {
   "cell_type": "markdown",
   "metadata": {
    "slideshow": {
     "slide_type": "slide"
    }
   },
   "source": [
    "### Evaluating a Lineal Regression model"
   ]
  },
  {
   "cell_type": "code",
   "execution_count": null,
   "metadata": {
    "vscode": {
     "languageId": "r"
    }
   },
   "outputs": [],
   "source": []
  },
  {
   "cell_type": "markdown",
   "metadata": {},
   "source": [
    "<font color='tomato'>Selecting feature to use</font>"
   ]
  },
  {
   "cell_type": "code",
   "execution_count": 27,
   "metadata": {
    "ExecuteTime": {
     "end_time": "2021-01-06T11:10:23.895871Z",
     "start_time": "2021-01-06T11:10:23.880235Z"
    },
    "vscode": {
     "languageId": "r"
    }
   },
   "outputs": [],
   "source": [
    "# Select numer of Features to use\n"
   ]
  },
  {
   "cell_type": "markdown",
   "metadata": {},
   "source": [
    "<font color='darkgrey'><b>Operation</font>"
   ]
  },
  {
   "cell_type": "code",
   "execution_count": null,
   "metadata": {
    "vscode": {
     "languageId": "r"
    }
   },
   "outputs": [],
   "source": []
  },
  {
   "cell_type": "markdown",
   "metadata": {
    "slideshow": {
     "slide_type": "slide"
    }
   },
   "source": [
    "### Tuning the Number of Selected Features"
   ]
  },
  {
   "cell_type": "markdown",
   "metadata": {
    "slideshow": {
     "slide_type": "slide"
    }
   },
   "source": [
    "#### Know the best number of features to select"
   ]
  },
  {
   "cell_type": "markdown",
   "metadata": {
    "slideshow": {
     "slide_type": "slide"
    }
   },
   "source": [
    "#### See the relationship between the number of selected features and MAE"
   ]
  },
  {
   "cell_type": "markdown",
   "metadata": {
    "slideshow": {
     "slide_type": "slide"
    }
   },
   "source": [
    "## Any data: RFE (Recursive Feature Elimination)"
   ]
  },
  {
   "cell_type": "markdown",
   "metadata": {
    "slideshow": {
     "slide_type": "slide"
    }
   },
   "source": [
    "### RFE for Classification"
   ]
  },
  {
   "cell_type": "markdown",
   "metadata": {},
   "source": [
    "<font color='tomato'>Selecting feature to use</font>"
   ]
  },
  {
   "cell_type": "code",
   "execution_count": 28,
   "metadata": {
    "ExecuteTime": {
     "end_time": "2021-01-07T16:55:23.289784Z",
     "start_time": "2021-01-07T16:55:23.279636Z"
    },
    "vscode": {
     "languageId": "r"
    }
   },
   "outputs": [],
   "source": [
    "# Select numer of Features to use\n"
   ]
  },
  {
   "cell_type": "markdown",
   "metadata": {},
   "source": [
    "<font color='darkgrey'><b>Operation</font>"
   ]
  },
  {
   "cell_type": "code",
   "execution_count": null,
   "metadata": {
    "vscode": {
     "languageId": "r"
    }
   },
   "outputs": [],
   "source": []
  },
  {
   "cell_type": "markdown",
   "metadata": {
    "slideshow": {
     "slide_type": "slide"
    }
   },
   "source": [
    "### RFE for Regression"
   ]
  },
  {
   "cell_type": "markdown",
   "metadata": {},
   "source": [
    "<font color='tomato'>Selecting feature to use</font>"
   ]
  },
  {
   "cell_type": "code",
   "execution_count": 29,
   "metadata": {
    "ExecuteTime": {
     "end_time": "2021-01-07T18:05:21.445531Z",
     "start_time": "2021-01-07T18:05:21.415710Z"
    },
    "vscode": {
     "languageId": "r"
    }
   },
   "outputs": [],
   "source": [
    "# Select numer of Features to use\n"
   ]
  },
  {
   "cell_type": "markdown",
   "metadata": {},
   "source": [
    "<font color='darkgrey'><b>Operation</font>"
   ]
  },
  {
   "cell_type": "code",
   "execution_count": null,
   "metadata": {
    "ExecuteTime": {
     "end_time": "2021-01-07T18:05:26.686146Z",
     "start_time": "2021-01-07T18:05:22.745684Z"
    },
    "vscode": {
     "languageId": "r"
    }
   },
   "outputs": [],
   "source": []
  },
  {
   "cell_type": "markdown",
   "metadata": {
    "slideshow": {
     "slide_type": "slide"
    }
   },
   "source": [
    "### Tuning the Number of Selected Features"
   ]
  },
  {
   "cell_type": "markdown",
   "metadata": {
    "slideshow": {
     "slide_type": "slide"
    }
   },
   "source": [
    "####  RFE for Classification"
   ]
  },
  {
   "cell_type": "markdown",
   "metadata": {},
   "source": [
    "Use dataset as example: diabetes"
   ]
  },
  {
   "cell_type": "markdown",
   "metadata": {},
   "source": [
    "<font color='tomato'>Selecting feature to use</font>"
   ]
  },
  {
   "cell_type": "code",
   "execution_count": 30,
   "metadata": {
    "ExecuteTime": {
     "end_time": "2021-01-07T17:33:41.693293Z",
     "start_time": "2021-01-07T17:33:41.686750Z"
    },
    "vscode": {
     "languageId": "r"
    }
   },
   "outputs": [],
   "source": [
    "# Select range [f..l] of Features to evaluate\n",
    "f=2\n",
    "l=10"
   ]
  },
  {
   "cell_type": "markdown",
   "metadata": {},
   "source": [
    "<font color='darkgrey'><b>Operation</font>"
   ]
  },
  {
   "cell_type": "code",
   "execution_count": null,
   "metadata": {
    "ExecuteTime": {
     "end_time": "2021-01-07T17:33:48.842936Z",
     "start_time": "2021-01-07T17:33:42.393136Z"
    },
    "vscode": {
     "languageId": "r"
    }
   },
   "outputs": [],
   "source": []
  },
  {
   "cell_type": "markdown",
   "metadata": {
    "slideshow": {
     "slide_type": "slide"
    }
   },
   "source": [
    "####  RFE for Regression"
   ]
  },
  {
   "cell_type": "markdown",
   "metadata": {},
   "source": [
    "<font color='tomato'>Selecting feature to use</font>"
   ]
  },
  {
   "cell_type": "code",
   "execution_count": 31,
   "metadata": {
    "ExecuteTime": {
     "end_time": "2021-01-07T17:40:27.064039Z",
     "start_time": "2021-01-07T17:40:27.044017Z"
    },
    "vscode": {
     "languageId": "r"
    }
   },
   "outputs": [],
   "source": [
    "# Select range [f..l] of Features to evaluate\n",
    "f=2\n",
    "l=10"
   ]
  },
  {
   "cell_type": "markdown",
   "metadata": {},
   "source": [
    "<font color='darkgrey'><b>Operation</font>"
   ]
  },
  {
   "cell_type": "code",
   "execution_count": null,
   "metadata": {
    "ExecuteTime": {
     "end_time": "2021-01-07T17:46:35.008156Z",
     "start_time": "2021-01-07T17:46:26.228253Z"
    },
    "scrolled": true,
    "vscode": {
     "languageId": "r"
    }
   },
   "outputs": [],
   "source": []
  },
  {
   "cell_type": "markdown",
   "metadata": {
    "slideshow": {
     "slide_type": "slide"
    }
   },
   "source": [
    "### Automatically Select the Number of Features"
   ]
  },
  {
   "cell_type": "markdown",
   "metadata": {
    "slideshow": {
     "slide_type": "slide"
    }
   },
   "source": [
    "####  RFE for Classification"
   ]
  },
  {
   "cell_type": "code",
   "execution_count": null,
   "metadata": {
    "ExecuteTime": {
     "end_time": "2021-01-07T17:54:51.464594Z",
     "start_time": "2021-01-07T17:54:45.966897Z"
    },
    "scrolled": true,
    "vscode": {
     "languageId": "r"
    }
   },
   "outputs": [],
   "source": []
  },
  {
   "cell_type": "markdown",
   "metadata": {
    "slideshow": {
     "slide_type": "slide"
    }
   },
   "source": [
    "####  RFE for Regression"
   ]
  },
  {
   "cell_type": "code",
   "execution_count": null,
   "metadata": {
    "ExecuteTime": {
     "end_time": "2021-01-07T18:02:46.795824Z",
     "start_time": "2021-01-07T18:02:46.430809Z"
    },
    "vscode": {
     "languageId": "r"
    }
   },
   "outputs": [],
   "source": []
  },
  {
   "cell_type": "markdown",
   "metadata": {
    "slideshow": {
     "slide_type": "slide"
    }
   },
   "source": [
    "## Exploring the use of diferent algorithms wrapped by RFE"
   ]
  },
  {
   "cell_type": "markdown",
   "metadata": {
    "slideshow": {
     "slide_type": "slide"
    }
   },
   "source": [
    "####  RFE for Classification"
   ]
  },
  {
   "cell_type": "code",
   "execution_count": null,
   "metadata": {
    "ExecuteTime": {
     "end_time": "2021-01-07T18:12:18.210619Z",
     "start_time": "2021-01-07T18:11:46.070585Z"
    },
    "scrolled": true,
    "vscode": {
     "languageId": "r"
    }
   },
   "outputs": [],
   "source": []
  },
  {
   "cell_type": "markdown",
   "metadata": {
    "slideshow": {
     "slide_type": "slide"
    }
   },
   "source": [
    "####  RFE for Regression"
   ]
  },
  {
   "cell_type": "markdown",
   "metadata": {},
   "source": [
    "Use dataset as example: Boston houses"
   ]
  },
  {
   "cell_type": "code",
   "execution_count": null,
   "metadata": {
    "ExecuteTime": {
     "end_time": "2021-01-07T18:21:42.484672Z",
     "start_time": "2021-01-07T18:20:37.372701Z"
    },
    "vscode": {
     "languageId": "r"
    }
   },
   "outputs": [],
   "source": []
  },
  {
   "cell_type": "markdown",
   "metadata": {},
   "source": [
    "## <font color='green'>Data Save</font>\n",
    "\n",
    "* Solo si se han hecho cambios\n",
    "\n",
    "* No aplica"
   ]
  },
  {
   "cell_type": "markdown",
   "metadata": {},
   "source": [
    "<font color='tomato'> Identificamos los datos a guardar</font>"
   ]
  },
  {
   "cell_type": "code",
   "execution_count": 32,
   "metadata": {
    "vscode": {
     "languageId": "r"
    }
   },
   "outputs": [],
   "source": [
    "data_to_save <- data"
   ]
  },
  {
   "cell_type": "markdown",
   "metadata": {},
   "source": [
    "\n",
    "<font color='tomato'>Estructura de nombre de archivos:</font>\n",
    "\n",
    "* Código del caso de uso, por ejemplo \"CU_04\"\n",
    "* Número del proceso que lo genera, por ejemplo \"_06\".\n",
    "* Resto del nombre del archivo de entrada\n",
    "* Extensión del archivo\n",
    "\n",
    "Ejemplo: \"CU_04_06_01_01_zonasgeo.json, primer fichero que se genera en la tarea 01 del proceso 05 (Data Collection) para el caso de uso 04 (vacunas) y que se ha transformado en el proceso 06\n",
    "\n",
    "Importante mantener los guiones bajos antes de proceso, tarea, archivo y nombre"
   ]
  },
  {
   "attachments": {},
   "cell_type": "markdown",
   "metadata": {},
   "source": [
    "### Proceso 16"
   ]
  },
  {
   "cell_type": "code",
   "execution_count": 33,
   "metadata": {
    "vscode": {
     "languageId": "r"
    }
   },
   "outputs": [],
   "source": [
    "caso <- \"CU_34\"\n",
    "proceso <- '_16'\n",
    "tarea <- \"_05\"\n",
    "archivo <- \"\"\n",
    "proper <- \"_servicios_completo\"\n",
    "extension <- \".csv\""
   ]
  },
  {
   "cell_type": "markdown",
   "metadata": {},
   "source": [
    "<font color='tomato'><b> OPCION A:</b> Uso del paquete \"tcltk\" para mayor comodidad</font>\n",
    "\n",
    "* Buscar carpeta, escribir nombre de archivo SIN extensión (se especifica en el código)\n",
    "* Especificar sufijo2 si es necesario\n",
    "* Cambiar datos por datos_xx si es necesario"
   ]
  },
  {
   "cell_type": "code",
   "execution_count": 34,
   "metadata": {
    "vscode": {
     "languageId": "r"
    }
   },
   "outputs": [],
   "source": [
    "# file_save <- paste0(caso, proceso, tarea, tcltk::tkgetSaveFile(), proper, extension) \n",
    "# path_out <- paste0(oPath, file_save)\n",
    "# write_csv(data_to_save_xxxxx, path_out)\n",
    "\n",
    "# cat('File saved as: ')\n",
    "# path_out"
   ]
  },
  {
   "cell_type": "markdown",
   "metadata": {},
   "source": [
    "<font color='tomato'><b> OPCION B:</b> Especificar el nombre de archivo</font>"
   ]
  },
  {
   "cell_type": "markdown",
   "metadata": {},
   "source": [
    "- Los ficheros de salida del proceso van siempre a Data/Output/.  "
   ]
  },
  {
   "cell_type": "code",
   "execution_count": 35,
   "metadata": {
    "vscode": {
     "languageId": "r"
    }
   },
   "outputs": [
    {
     "name": "stdout",
     "output_type": "stream",
     "text": [
      "File saved as: "
     ]
    },
    {
     "data": {
      "text/html": [
       "'Data/Output/CU_34_16_05_servicios_completo.csv'"
      ],
      "text/latex": [
       "'Data/Output/CU\\_34\\_16\\_05\\_servicios\\_completo.csv'"
      ],
      "text/markdown": [
       "'Data/Output/CU_34_16_05_servicios_completo.csv'"
      ],
      "text/plain": [
       "[1] \"Data/Output/CU_34_16_05_servicios_completo.csv\""
      ]
     },
     "metadata": {},
     "output_type": "display_data"
    }
   ],
   "source": [
    "file_save <- paste0(caso, proceso, tarea, archivo, proper, extension) \n",
    "path_out <- paste0(oPath, file_save)\n",
    "write_csv(data_to_save, path_out)\n",
    "\n",
    "cat('File saved as: ')\n",
    "path_out"
   ]
  },
  {
   "cell_type": "markdown",
   "metadata": {},
   "source": [
    "#### Copia del fichero a Input\n",
    "\n",
    "Si el archivo se va a usar en otros notebooks, copiar a la carpeta Input"
   ]
  },
  {
   "cell_type": "code",
   "execution_count": 36,
   "metadata": {
    "vscode": {
     "languageId": "r"
    }
   },
   "outputs": [
    {
     "data": {
      "text/html": [
       "TRUE"
      ],
      "text/latex": [
       "TRUE"
      ],
      "text/markdown": [
       "TRUE"
      ],
      "text/plain": [
       "[1] TRUE"
      ]
     },
     "metadata": {},
     "output_type": "display_data"
    }
   ],
   "source": [
    "path_in <- paste0(iPath, file_save)\n",
    "file.copy(path_out, path_in, overwrite = TRUE)"
   ]
  },
  {
   "cell_type": "markdown",
   "metadata": {},
   "source": [
    "## <font color='#2874a6'>REPORT</font>"
   ]
  },
  {
   "cell_type": "markdown",
   "metadata": {},
   "source": [
    "A continuación se realizará un informe de las acciones realizadas"
   ]
  },
  {
   "cell_type": "markdown",
   "metadata": {},
   "source": [
    "## <font color=' #2874a6 '>Main Actions Carried Out</font>"
   ]
  },
  {
   "cell_type": "markdown",
   "metadata": {},
   "source": [
    "- Si eran necesarias se han realizado en el proceso 05 por cuestiones de eficiencia\n",
    "- O bien se hacen en el dominio IV o V para integrar en el pipeline de modelización"
   ]
  },
  {
   "cell_type": "markdown",
   "metadata": {},
   "source": [
    "## <font color=' #2874a6 '>Main Conclusions</font>"
   ]
  },
  {
   "cell_type": "markdown",
   "metadata": {},
   "source": [
    "- Los datos están listos para la modelización y despliegue\n"
   ]
  },
  {
   "cell_type": "markdown",
   "metadata": {},
   "source": [
    "## <font color='RED'>CODE TO DEPLOY (PILOT)</font>\n",
    "\n",
    "A continuación se incluirá el código que deba ser llevado a despliegue para producción, dado que se entiende efectúa operaciones necesarias sobre los datos en la ejecución del prototipo"
   ]
  },
  {
   "cell_type": "markdown",
   "metadata": {},
   "source": [
    "<font color=' red '><b>Description</b></font>\n",
    "\n",
    "- No hay nada que desplegar en el piloto, ya que estos datos son estáticos o en todo caso cambian con muy poca frecuencia, altamente improbable durante el proyecto.\n"
   ]
  },
  {
   "cell_type": "markdown",
   "metadata": {},
   "source": [
    "<font color=' red '><b>CODE</b></font>"
   ]
  },
  {
   "cell_type": "code",
   "execution_count": null,
   "metadata": {
    "vscode": {
     "languageId": "r"
    }
   },
   "outputs": [],
   "source": []
  }
 ],
 "metadata": {
  "anaconda-cloud": {},
  "celltoolbar": "Slideshow",
  "hide_input": false,
  "kernelspec": {
   "display_name": "R",
   "language": "R",
   "name": "ir"
  },
  "language_info": {
   "codemirror_mode": "r",
   "file_extension": ".r",
   "mimetype": "text/x-r-source",
   "name": "R",
   "pygments_lexer": "r",
   "version": "4.2.2"
  },
  "latex_envs": {
   "LaTeX_envs_menu_present": true,
   "autoclose": false,
   "autocomplete": true,
   "bibliofile": "biblio.bib",
   "cite_by": "apalike",
   "current_citInitial": 1,
   "eqLabelWithNumbers": true,
   "eqNumInitial": 1,
   "hotkeys": {
    "equation": "Ctrl-E",
    "itemize": "Ctrl-I"
   },
   "labels_anchors": false,
   "latex_user_defs": false,
   "report_style_numbering": true,
   "user_envs_cfg": false
  },
  "toc": {
   "base_numbering": 1,
   "nav_menu": {},
   "number_sections": true,
   "sideBar": true,
   "skip_h1_title": true,
   "title_cell": "Table of Contents",
   "title_sidebar": "Contents",
   "toc_cell": false,
   "toc_position": {
    "height": "calc(100% - 180px)",
    "left": "10px",
    "top": "150px",
    "width": "420.633px"
   },
   "toc_section_display": true,
   "toc_window_display": true
  },
  "varInspector": {
   "cols": {
    "lenName": 16,
    "lenType": 16,
    "lenVar": 40
   },
   "kernels_config": {
    "python": {
     "delete_cmd_postfix": "",
     "delete_cmd_prefix": "del ",
     "library": "var_list.py",
     "varRefreshCmd": "print(var_dic_list())"
    },
    "r": {
     "delete_cmd_postfix": ") ",
     "delete_cmd_prefix": "rm(",
     "library": "var_list.r",
     "varRefreshCmd": "cat(var_dic_list()) "
    }
   },
   "types_to_exclude": [
    "module",
    "function",
    "builtin_function_or_method",
    "instance",
    "_Feature"
   ],
   "window_display": false
  }
 },
 "nbformat": 4,
 "nbformat_minor": 4
}
