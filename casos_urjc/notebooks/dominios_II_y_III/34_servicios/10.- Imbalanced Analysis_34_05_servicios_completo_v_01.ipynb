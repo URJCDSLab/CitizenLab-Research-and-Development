{
 "cells": [
  {
   "attachments": {},
   "cell_type": "markdown",
   "metadata": {
    "slideshow": {
     "slide_type": "slide"
    }
   },
   "source": [
    "<img src=\".\\images\\Logo.png\" width=150 align=\"left\" /> <img src=\".\\images\\Logo2.jpg\" width=450 align=\"right\" />"
   ]
  },
  {
   "attachments": {},
   "cell_type": "markdown",
   "metadata": {
    "slideshow": {
     "slide_type": "slide"
    }
   },
   "source": [
    "\n",
    "# <center><font color= #1e8449 > <b>CUxx_Nombre del caso de uso</font></center>"
   ]
  },
  {
   "attachments": {},
   "cell_type": "markdown",
   "metadata": {
    "slideshow": {
     "slide_type": "slide"
    }
   },
   "source": [
    "<font color='steelblue'><b>Citizenlab Data Science Methodology > II - Data Processing Domain </font>\n",
    "***\n",
    "> # <font color='steelblue'> <b>10.- Imbalanced Analysis</font>"
   ]
  },
  {
   "attachments": {},
   "cell_type": "markdown",
   "metadata": {
    "slideshow": {
     "slide_type": "slide"
    }
   },
   "source": [
    "<font color='steelblue'>Data Balancing is the process to obtain an adequate data balance if is required, in order to have the adequate amount of data that reflects the intrinsic structure of the problem to be solved.</font>"
   ]
  },
  {
   "attachments": {},
   "cell_type": "markdown",
   "metadata": {
    "slideshow": {
     "slide_type": "slide"
    }
   },
   "source": [
    "## <font color='steelblue'>Tasks</font>"
   ]
  },
  {
   "attachments": {},
   "cell_type": "markdown",
   "metadata": {
    "slideshow": {
     "slide_type": "slide"
    }
   },
   "source": [
    "<font color='steelblue'><b>Imbalanced Analysis</b>\t\n",
    "    \n",
    "<font color='steelblue'><b>Evaluate Imbalanced Classification Models</b>\n",
    "    \n",
    "<font color='steelblue'><b>Select appropiate metrics</b>\n",
    "    \n",
    "<font color='steelblue'><b>Data Balancing</b>\n",
    "    \n",
    "- Undersampling the Majority Class\n",
    "- Oversampling the Minority Class\n",
    "- Mix under-oversampling\n",
    "- Evaluate a model with random oversampling and undersampling\n",
    "    \n",
    "<font color='steelblue'><b>Cost-Sensitive Algorithms</b>\n",
    "\n"
   ]
  },
  {
   "attachments": {},
   "cell_type": "markdown",
   "metadata": {},
   "source": [
    "## <font color='green'>File</font>"
   ]
  },
  {
   "attachments": {},
   "cell_type": "markdown",
   "metadata": {},
   "source": [
    "- <font color='steelblue'> <b>Input File: xxxxxxxxxx</font>\n",
    "- <font color='steelblue'> <b>Output File: No aplica</font>"
   ]
  },
  {
   "attachments": {},
   "cell_type": "markdown",
   "metadata": {},
   "source": [
    "### Encoding\n",
    "\n",
    "Con la siguiente expresión se evitan problemas con el encoding al ejecutar el notebook. Es posible que deba ser eliminada o adaptada a la máquina en la que se ejecute el código."
   ]
  },
  {
   "cell_type": "code",
   "execution_count": 1,
   "metadata": {
    "vscode": {
     "languageId": "r"
    }
   },
   "outputs": [
    {
     "data": {
      "text/html": [
       "'LC_CTYPE=es_ES.UTF-8;LC_NUMERIC=C;LC_TIME=es_ES.UTF-8;LC_COLLATE=es_ES.UTF-8;LC_MONETARY=es_ES.UTF-8;LC_MESSAGES=en_US.UTF-8;LC_PAPER=es_ES.UTF-8;LC_NAME=C;LC_ADDRESS=C;LC_TELEPHONE=C;LC_MEASUREMENT=es_ES.UTF-8;LC_IDENTIFICATION=C'"
      ],
      "text/latex": [
       "'LC\\_CTYPE=es\\_ES.UTF-8;LC\\_NUMERIC=C;LC\\_TIME=es\\_ES.UTF-8;LC\\_COLLATE=es\\_ES.UTF-8;LC\\_MONETARY=es\\_ES.UTF-8;LC\\_MESSAGES=en\\_US.UTF-8;LC\\_PAPER=es\\_ES.UTF-8;LC\\_NAME=C;LC\\_ADDRESS=C;LC\\_TELEPHONE=C;LC\\_MEASUREMENT=es\\_ES.UTF-8;LC\\_IDENTIFICATION=C'"
      ],
      "text/markdown": [
       "'LC_CTYPE=es_ES.UTF-8;LC_NUMERIC=C;LC_TIME=es_ES.UTF-8;LC_COLLATE=es_ES.UTF-8;LC_MONETARY=es_ES.UTF-8;LC_MESSAGES=en_US.UTF-8;LC_PAPER=es_ES.UTF-8;LC_NAME=C;LC_ADDRESS=C;LC_TELEPHONE=C;LC_MEASUREMENT=es_ES.UTF-8;LC_IDENTIFICATION=C'"
      ],
      "text/plain": [
       "[1] \"LC_CTYPE=es_ES.UTF-8;LC_NUMERIC=C;LC_TIME=es_ES.UTF-8;LC_COLLATE=es_ES.UTF-8;LC_MONETARY=es_ES.UTF-8;LC_MESSAGES=en_US.UTF-8;LC_PAPER=es_ES.UTF-8;LC_NAME=C;LC_ADDRESS=C;LC_TELEPHONE=C;LC_MEASUREMENT=es_ES.UTF-8;LC_IDENTIFICATION=C\""
      ]
     },
     "metadata": {},
     "output_type": "display_data"
    }
   ],
   "source": [
    "Sys.setlocale(category = \"LC_ALL\", locale = \"es_ES.UTF-8\")"
   ]
  },
  {
   "attachments": {},
   "cell_type": "markdown",
   "metadata": {},
   "source": [
    "## <font color='green'>Settings</font>"
   ]
  },
  {
   "attachments": {},
   "cell_type": "markdown",
   "metadata": {},
   "source": [
    "### Libraries to use"
   ]
  },
  {
   "cell_type": "code",
   "execution_count": 2,
   "metadata": {
    "vscode": {
     "languageId": "r"
    }
   },
   "outputs": [
    {
     "name": "stderr",
     "output_type": "stream",
     "text": [
      "\n",
      "Attaching package: ‘dplyr’\n",
      "\n",
      "\n",
      "The following objects are masked from ‘package:stats’:\n",
      "\n",
      "    filter, lag\n",
      "\n",
      "\n",
      "The following objects are masked from ‘package:base’:\n",
      "\n",
      "    intersect, setdiff, setequal, union\n",
      "\n",
      "\n",
      "Linking to GEOS 3.11.1, GDAL 3.6.2, PROJ 6.2.1; sf_use_s2() is TRUE\n",
      "\n",
      "WARNING: different compile-time and runtime versions for GEOS found:\n",
      "\n",
      "Linked against: 3.11.1-CAPI-1.17.1 compiled against: 3.8.0-CAPI-1.13.1\n",
      "\n",
      "It is probably a good idea to reinstall sf, and maybe rgeos and rgdal too\n",
      "\n"
     ]
    }
   ],
   "source": [
    "library(readr)\n",
    "library(dplyr)\n",
    "library(sf)\n",
    "library(tidyr)\n",
    "#library(stringr)"
   ]
  },
  {
   "attachments": {},
   "cell_type": "markdown",
   "metadata": {},
   "source": [
    "### Paths"
   ]
  },
  {
   "cell_type": "code",
   "execution_count": 3,
   "metadata": {
    "vscode": {
     "languageId": "r"
    }
   },
   "outputs": [],
   "source": [
    "iPath <- \"Data/Input/\"\n",
    "oPath <- \"Data/Output/\""
   ]
  },
  {
   "attachments": {},
   "cell_type": "markdown",
   "metadata": {},
   "source": [
    "## <font color='green'>Data Load</font>"
   ]
  },
  {
   "attachments": {},
   "cell_type": "markdown",
   "metadata": {},
   "source": [
    "<font color='tomato'><b> OPCION A:</b> Seleccionar fichero en ventana para mayor comodidad</font> "
   ]
  },
  {
   "attachments": {},
   "cell_type": "markdown",
   "metadata": {},
   "source": [
    "Data load using the {tcltk} package. Ucomment the line if using this option"
   ]
  },
  {
   "cell_type": "code",
   "execution_count": 4,
   "metadata": {
    "vscode": {
     "languageId": "r"
    }
   },
   "outputs": [],
   "source": [
    "# file_data <- tcltk::tk_choose.files(multi = FALSE)"
   ]
  },
  {
   "attachments": {},
   "cell_type": "markdown",
   "metadata": {},
   "source": [
    "<font color='tomato'><b> OPCION B:</b> Especificar el nombre de archivo</font>\n",
    "\n"
   ]
  },
  {
   "cell_type": "code",
   "execution_count": 5,
   "metadata": {
    "vscode": {
     "languageId": "r"
    }
   },
   "outputs": [
    {
     "name": "stdout",
     "output_type": "stream",
     "text": [
      "Se leerán datos del archivo:  Data/Input/CU_34_093_05_servicios_completo.csv"
     ]
    }
   ],
   "source": [
    "iFile <- \"CU_34_093_05_servicios_completo.csv\"\n",
    "file_data <- paste0(iPath, iFile)\n",
    "\n",
    "if(file.exists(file_data)){\n",
    "    cat(\"Se leerán datos del archivo: \", file_data)\n",
    "} else{\n",
    "    warning(\"Cuidado: el archivo no existe.\")\n",
    "}\n"
   ]
  },
  {
   "attachments": {},
   "cell_type": "markdown",
   "metadata": {},
   "source": [
    "#### Data file to dataframe\n",
    "\n",
    "Usar la función adecuada según el formato de entrada (xlsx, csv, json, ...)"
   ]
  },
  {
   "cell_type": "code",
   "execution_count": 6,
   "metadata": {
    "vscode": {
     "languageId": "r"
    }
   },
   "outputs": [
    {
     "name": "stderr",
     "output_type": "stream",
     "text": [
      "\u001b[1mRows: \u001b[22m\u001b[34m272862\u001b[39m \u001b[1mColumns: \u001b[22m\u001b[34m19\u001b[39m\n",
      "\u001b[36m──\u001b[39m \u001b[1mColumn specification\u001b[22m \u001b[36m──────────────────────────────────────────────────────────────────────────────────────────────────────────────────────────────────────────────────────────────────────────────────────────────────────────────────────────────────────────────────────────\u001b[39m\n",
      "\u001b[1mDelimiter:\u001b[22m \",\"\n",
      "\u001b[31mchr\u001b[39m   (5): Servicio, CMUN, CDIS, CSEC, NSEC\n",
      "\u001b[32mdbl\u001b[39m  (12): Futbol, nservicios, capacidad, tmed, prec, velmedia, presMax, t1_...\n",
      "\u001b[33mlgl\u001b[39m   (1): is_train\n",
      "\u001b[34mdate\u001b[39m  (1): Fecha\n",
      "\n",
      "\u001b[36mℹ\u001b[39m Use `spec()` to retrieve the full column specification for this data.\n",
      "\u001b[36mℹ\u001b[39m Specify the column types or set `show_col_types = FALSE` to quiet this message.\n"
     ]
    }
   ],
   "source": [
    "data <- read_csv(file_data)"
   ]
  },
  {
   "attachments": {},
   "cell_type": "markdown",
   "metadata": {},
   "source": [
    "<font color='tomato'>Visualizo los datos.</font>"
   ]
  },
  {
   "attachments": {},
   "cell_type": "markdown",
   "metadata": {},
   "source": [
    "Estructura de  los datos:"
   ]
  },
  {
   "cell_type": "code",
   "execution_count": 7,
   "metadata": {
    "vscode": {
     "languageId": "r"
    }
   },
   "outputs": [
    {
     "name": "stdout",
     "output_type": "stream",
     "text": [
      "Rows: 272,862\n",
      "Columns: 19\n",
      "$ Fecha            \u001b[3m\u001b[90m<date>\u001b[39m\u001b[23m 2022-01-12, 2022-01-31, 2022-01-28, 2022-01-06, 2022…\n",
      "$ Servicio         \u001b[3m\u001b[90m<chr>\u001b[39m\u001b[23m \"Delivery\", \"Taxi\", \"Taxi\", \"Delivery\", \"Delivery\", \"…\n",
      "$ CMUN             \u001b[3m\u001b[90m<chr>\u001b[39m\u001b[23m \"079\", \"079\", \"903\", \"079\", \"007\", \"022\", \"079\", \"079…\n",
      "$ CDIS             \u001b[3m\u001b[90m<chr>\u001b[39m\u001b[23m \"14\", \"01\", \"01\", \"04\", \"04\", \"01\", \"16\", \"01\", \"16\",…\n",
      "$ CSEC             \u001b[3m\u001b[90m<chr>\u001b[39m\u001b[23m \"050\", \"048\", \"006\", \"080\", \"012\", \"004\", \"041\", \"033…\n",
      "$ Futbol           \u001b[3m\u001b[90m<dbl>\u001b[39m\u001b[23m 1, 0, 0, 0, 1, 1, 0, 0, 0, 0, 1, 0, 0, 0, 0, 0, 0, 0,…\n",
      "$ nservicios       \u001b[3m\u001b[90m<dbl>\u001b[39m\u001b[23m 58, 5, 0, 14, 60, 50, 13, 4, 3, 9, 68, 12, 0, 1, 14, …\n",
      "$ capacidad        \u001b[3m\u001b[90m<dbl>\u001b[39m\u001b[23m 80, 69, 56, 80, 70, 56, 80, 69, 69, 69, 80, 80, 69, 6…\n",
      "$ tmed             \u001b[3m\u001b[90m<dbl>\u001b[39m\u001b[23m 7.366319, 8.823406, 7.854915, 4.226603, 4.982656, 7.2…\n",
      "$ prec             \u001b[3m\u001b[90m<dbl>\u001b[39m\u001b[23m -0.009468616, 0.000000000, 0.000000000, 0.010181896, …\n",
      "$ velmedia         \u001b[3m\u001b[90m<dbl>\u001b[39m\u001b[23m 1.5999961, 1.5114967, 2.2536168, 1.0279945, 1.0387037…\n",
      "$ presMax          \u001b[3m\u001b[90m<dbl>\u001b[39m\u001b[23m 954.7939, 948.9795, 940.2553, 945.1884, 948.9570, 943…\n",
      "$ t1_1             \u001b[3m\u001b[90m<dbl>\u001b[39m\u001b[23m 1094, 1251, 2232, 746, 1080, 2256, 692, 1270, 2229, 8…\n",
      "$ t3_1             \u001b[3m\u001b[90m<dbl>\u001b[39m\u001b[23m 45.4360, 41.6091, 44.2016, 47.1729, 48.5361, 43.2877,…\n",
      "$ NSEC             \u001b[3m\u001b[90m<chr>\u001b[39m\u001b[23m \"Madrid - 14.050\", \"Madrid - 01.048\", \"Tres Cantos - …\n",
      "$ area             \u001b[3m\u001b[90m<dbl>\u001b[39m\u001b[23m 38753.96, 15289.89, 124539.78, 89206.78, 24473.30, 34…\n",
      "$ elevation        \u001b[3m\u001b[90m<dbl>\u001b[39m\u001b[23m 658, 635, 719, 710, 693, 710, 702, 635, 690, 710, 690…\n",
      "$ densidad_hab_km2 \u001b[3m\u001b[90m<dbl>\u001b[39m\u001b[23m 28229.3737, 81818.7738, 17921.9842, 8362.5928, 44129.…\n",
      "$ is_train         \u001b[3m\u001b[90m<lgl>\u001b[39m\u001b[23m TRUE, TRUE, TRUE, TRUE, TRUE, TRUE, TRUE, TRUE, TRUE,…\n"
     ]
    }
   ],
   "source": [
    "data |> glimpse()"
   ]
  },
  {
   "attachments": {},
   "cell_type": "markdown",
   "metadata": {},
   "source": [
    "Muestra de los primeros datos:"
   ]
  },
  {
   "cell_type": "code",
   "execution_count": 8,
   "metadata": {
    "vscode": {
     "languageId": "r"
    }
   },
   "outputs": [
    {
     "data": {
      "text/html": [
       "<table class=\"dataframe\">\n",
       "<caption>A spec_tbl_df: 5 × 19</caption>\n",
       "<thead>\n",
       "\t<tr><th scope=col>Fecha</th><th scope=col>Servicio</th><th scope=col>CMUN</th><th scope=col>CDIS</th><th scope=col>CSEC</th><th scope=col>Futbol</th><th scope=col>nservicios</th><th scope=col>capacidad</th><th scope=col>tmed</th><th scope=col>prec</th><th scope=col>velmedia</th><th scope=col>presMax</th><th scope=col>t1_1</th><th scope=col>t3_1</th><th scope=col>NSEC</th><th scope=col>area</th><th scope=col>elevation</th><th scope=col>densidad_hab_km2</th><th scope=col>is_train</th></tr>\n",
       "\t<tr><th scope=col>&lt;date&gt;</th><th scope=col>&lt;chr&gt;</th><th scope=col>&lt;chr&gt;</th><th scope=col>&lt;chr&gt;</th><th scope=col>&lt;chr&gt;</th><th scope=col>&lt;dbl&gt;</th><th scope=col>&lt;dbl&gt;</th><th scope=col>&lt;dbl&gt;</th><th scope=col>&lt;dbl&gt;</th><th scope=col>&lt;dbl&gt;</th><th scope=col>&lt;dbl&gt;</th><th scope=col>&lt;dbl&gt;</th><th scope=col>&lt;dbl&gt;</th><th scope=col>&lt;dbl&gt;</th><th scope=col>&lt;chr&gt;</th><th scope=col>&lt;dbl&gt;</th><th scope=col>&lt;dbl&gt;</th><th scope=col>&lt;dbl&gt;</th><th scope=col>&lt;lgl&gt;</th></tr>\n",
       "</thead>\n",
       "<tbody>\n",
       "\t<tr><td>2022-01-12</td><td>Delivery</td><td>079</td><td>14</td><td>050</td><td>1</td><td>58</td><td>80</td><td>7.366319</td><td>-0.009468616</td><td>1.599996</td><td>954.7939</td><td>1094</td><td>45.4360</td><td>Madrid - 14.050     </td><td> 38753.96</td><td>658</td><td>28229.374</td><td>TRUE</td></tr>\n",
       "\t<tr><td>2022-01-31</td><td>Taxi    </td><td>079</td><td>01</td><td>048</td><td>0</td><td> 5</td><td>69</td><td>8.823406</td><td> 0.000000000</td><td>1.511497</td><td>948.9795</td><td>1251</td><td>41.6091</td><td>Madrid - 01.048     </td><td> 15289.89</td><td>635</td><td>81818.774</td><td>TRUE</td></tr>\n",
       "\t<tr><td>2022-01-28</td><td>Taxi    </td><td>903</td><td>01</td><td>006</td><td>0</td><td> 0</td><td>56</td><td>7.854915</td><td> 0.000000000</td><td>2.253617</td><td>940.2553</td><td>2232</td><td>44.2016</td><td>Tres Cantos - 01.006</td><td>124539.78</td><td>719</td><td>17921.984</td><td>TRUE</td></tr>\n",
       "\t<tr><td>2022-01-06</td><td>Delivery</td><td>079</td><td>04</td><td>080</td><td>0</td><td>14</td><td>80</td><td>4.226603</td><td> 0.010181896</td><td>1.027994</td><td>945.1884</td><td> 746</td><td>47.1729</td><td>Madrid - 04.080     </td><td> 89206.78</td><td>710</td><td> 8362.593</td><td>TRUE</td></tr>\n",
       "\t<tr><td>2022-01-21</td><td>Delivery</td><td>007</td><td>04</td><td>012</td><td>1</td><td>60</td><td>70</td><td>4.982656</td><td> 0.000000000</td><td>1.038704</td><td>948.9570</td><td>1080</td><td>48.5361</td><td>Alcorcón - 04.012   </td><td> 24473.30</td><td>693</td><td>44129.730</td><td>TRUE</td></tr>\n",
       "</tbody>\n",
       "</table>\n"
      ],
      "text/latex": [
       "A spec\\_tbl\\_df: 5 × 19\n",
       "\\begin{tabular}{lllllllllllllllllll}\n",
       " Fecha & Servicio & CMUN & CDIS & CSEC & Futbol & nservicios & capacidad & tmed & prec & velmedia & presMax & t1\\_1 & t3\\_1 & NSEC & area & elevation & densidad\\_hab\\_km2 & is\\_train\\\\\n",
       " <date> & <chr> & <chr> & <chr> & <chr> & <dbl> & <dbl> & <dbl> & <dbl> & <dbl> & <dbl> & <dbl> & <dbl> & <dbl> & <chr> & <dbl> & <dbl> & <dbl> & <lgl>\\\\\n",
       "\\hline\n",
       "\t 2022-01-12 & Delivery & 079 & 14 & 050 & 1 & 58 & 80 & 7.366319 & -0.009468616 & 1.599996 & 954.7939 & 1094 & 45.4360 & Madrid - 14.050      &  38753.96 & 658 & 28229.374 & TRUE\\\\\n",
       "\t 2022-01-31 & Taxi     & 079 & 01 & 048 & 0 &  5 & 69 & 8.823406 &  0.000000000 & 1.511497 & 948.9795 & 1251 & 41.6091 & Madrid - 01.048      &  15289.89 & 635 & 81818.774 & TRUE\\\\\n",
       "\t 2022-01-28 & Taxi     & 903 & 01 & 006 & 0 &  0 & 56 & 7.854915 &  0.000000000 & 2.253617 & 940.2553 & 2232 & 44.2016 & Tres Cantos - 01.006 & 124539.78 & 719 & 17921.984 & TRUE\\\\\n",
       "\t 2022-01-06 & Delivery & 079 & 04 & 080 & 0 & 14 & 80 & 4.226603 &  0.010181896 & 1.027994 & 945.1884 &  746 & 47.1729 & Madrid - 04.080      &  89206.78 & 710 &  8362.593 & TRUE\\\\\n",
       "\t 2022-01-21 & Delivery & 007 & 04 & 012 & 1 & 60 & 70 & 4.982656 &  0.000000000 & 1.038704 & 948.9570 & 1080 & 48.5361 & Alcorcón - 04.012    &  24473.30 & 693 & 44129.730 & TRUE\\\\\n",
       "\\end{tabular}\n"
      ],
      "text/markdown": [
       "\n",
       "A spec_tbl_df: 5 × 19\n",
       "\n",
       "| Fecha &lt;date&gt; | Servicio &lt;chr&gt; | CMUN &lt;chr&gt; | CDIS &lt;chr&gt; | CSEC &lt;chr&gt; | Futbol &lt;dbl&gt; | nservicios &lt;dbl&gt; | capacidad &lt;dbl&gt; | tmed &lt;dbl&gt; | prec &lt;dbl&gt; | velmedia &lt;dbl&gt; | presMax &lt;dbl&gt; | t1_1 &lt;dbl&gt; | t3_1 &lt;dbl&gt; | NSEC &lt;chr&gt; | area &lt;dbl&gt; | elevation &lt;dbl&gt; | densidad_hab_km2 &lt;dbl&gt; | is_train &lt;lgl&gt; |\n",
       "|---|---|---|---|---|---|---|---|---|---|---|---|---|---|---|---|---|---|---|\n",
       "| 2022-01-12 | Delivery | 079 | 14 | 050 | 1 | 58 | 80 | 7.366319 | -0.009468616 | 1.599996 | 954.7939 | 1094 | 45.4360 | Madrid - 14.050      |  38753.96 | 658 | 28229.374 | TRUE |\n",
       "| 2022-01-31 | Taxi     | 079 | 01 | 048 | 0 |  5 | 69 | 8.823406 |  0.000000000 | 1.511497 | 948.9795 | 1251 | 41.6091 | Madrid - 01.048      |  15289.89 | 635 | 81818.774 | TRUE |\n",
       "| 2022-01-28 | Taxi     | 903 | 01 | 006 | 0 |  0 | 56 | 7.854915 |  0.000000000 | 2.253617 | 940.2553 | 2232 | 44.2016 | Tres Cantos - 01.006 | 124539.78 | 719 | 17921.984 | TRUE |\n",
       "| 2022-01-06 | Delivery | 079 | 04 | 080 | 0 | 14 | 80 | 4.226603 |  0.010181896 | 1.027994 | 945.1884 |  746 | 47.1729 | Madrid - 04.080      |  89206.78 | 710 |  8362.593 | TRUE |\n",
       "| 2022-01-21 | Delivery | 007 | 04 | 012 | 1 | 60 | 70 | 4.982656 |  0.000000000 | 1.038704 | 948.9570 | 1080 | 48.5361 | Alcorcón - 04.012    |  24473.30 | 693 | 44129.730 | TRUE |\n",
       "\n"
      ],
      "text/plain": [
       "  Fecha      Servicio CMUN CDIS CSEC Futbol nservicios capacidad tmed    \n",
       "1 2022-01-12 Delivery 079  14   050  1      58         80        7.366319\n",
       "2 2022-01-31 Taxi     079  01   048  0       5         69        8.823406\n",
       "3 2022-01-28 Taxi     903  01   006  0       0         56        7.854915\n",
       "4 2022-01-06 Delivery 079  04   080  0      14         80        4.226603\n",
       "5 2022-01-21 Delivery 007  04   012  1      60         70        4.982656\n",
       "  prec         velmedia presMax  t1_1 t3_1    NSEC                 area     \n",
       "1 -0.009468616 1.599996 954.7939 1094 45.4360 Madrid - 14.050       38753.96\n",
       "2  0.000000000 1.511497 948.9795 1251 41.6091 Madrid - 01.048       15289.89\n",
       "3  0.000000000 2.253617 940.2553 2232 44.2016 Tres Cantos - 01.006 124539.78\n",
       "4  0.010181896 1.027994 945.1884  746 47.1729 Madrid - 04.080       89206.78\n",
       "5  0.000000000 1.038704 948.9570 1080 48.5361 Alcorcón - 04.012     24473.30\n",
       "  elevation densidad_hab_km2 is_train\n",
       "1 658       28229.374        TRUE    \n",
       "2 635       81818.774        TRUE    \n",
       "3 719       17921.984        TRUE    \n",
       "4 710        8362.593        TRUE    \n",
       "5 693       44129.730        TRUE    "
      ]
     },
     "metadata": {},
     "output_type": "display_data"
    }
   ],
   "source": [
    "data |> slice_head(n = 5)"
   ]
  },
  {
   "attachments": {},
   "cell_type": "markdown",
   "metadata": {
    "slideshow": {
     "slide_type": "slide"
    }
   },
   "source": [
    "## Imbalanced Analysis"
   ]
  },
  {
   "cell_type": "code",
   "execution_count": null,
   "metadata": {
    "ExecuteTime": {
     "end_time": "2021-01-07T18:16:19.497842Z",
     "start_time": "2021-01-07T18:16:17.877638Z"
    },
    "vscode": {
     "languageId": "r"
    }
   },
   "outputs": [],
   "source": []
  },
  {
   "cell_type": "code",
   "execution_count": 9,
   "metadata": {
    "ExecuteTime": {
     "end_time": "2021-01-13T18:16:00.269033Z",
     "start_time": "2021-01-13T18:15:59.999400Z"
    },
    "scrolled": true,
    "slideshow": {
     "slide_type": "subslide"
    },
    "vscode": {
     "languageId": "r"
    }
   },
   "outputs": [],
   "source": [
    "# Visualizando los datos para comprobar como de balanceados están\n"
   ]
  },
  {
   "cell_type": "code",
   "execution_count": 10,
   "metadata": {
    "ExecuteTime": {
     "end_time": "2021-01-13T18:19:16.172589Z",
     "start_time": "2021-01-13T18:19:16.150446Z"
    },
    "vscode": {
     "languageId": "r"
    }
   },
   "outputs": [],
   "source": [
    "# summarize class distribution\n"
   ]
  },
  {
   "cell_type": "code",
   "execution_count": 11,
   "metadata": {
    "ExecuteTime": {
     "end_time": "2021-01-13T18:51:32.357375Z",
     "start_time": "2021-01-13T18:51:32.003119Z"
    },
    "vscode": {
     "languageId": "r"
    }
   },
   "outputs": [],
   "source": [
    "# Generate and plot imbalanced classification dataset\n"
   ]
  },
  {
   "attachments": {},
   "cell_type": "markdown",
   "metadata": {
    "slideshow": {
     "slide_type": "slide"
    }
   },
   "source": [
    "## Evaluate Imbalanced Classification Models"
   ]
  },
  {
   "cell_type": "code",
   "execution_count": null,
   "metadata": {
    "ExecuteTime": {
     "end_time": "2021-01-13T18:07:33.743048Z",
     "start_time": "2021-01-13T18:07:32.978516Z"
    },
    "vscode": {
     "languageId": "r"
    }
   },
   "outputs": [],
   "source": []
  },
  {
   "attachments": {},
   "cell_type": "markdown",
   "metadata": {
    "slideshow": {
     "slide_type": "slide"
    }
   },
   "source": [
    "## Undersampling the Majority Class"
   ]
  },
  {
   "cell_type": "code",
   "execution_count": 12,
   "metadata": {
    "ExecuteTime": {
     "end_time": "2021-01-13T18:16:07.067304Z",
     "start_time": "2021-01-13T18:16:07.051680Z"
    },
    "vscode": {
     "languageId": "r"
    }
   },
   "outputs": [],
   "source": [
    "# example of undersampling the majority class\n"
   ]
  },
  {
   "cell_type": "code",
   "execution_count": 13,
   "metadata": {
    "ExecuteTime": {
     "end_time": "2021-01-13T18:26:15.743304Z",
     "start_time": "2021-01-13T18:26:15.712077Z"
    },
    "vscode": {
     "languageId": "r"
    }
   },
   "outputs": [],
   "source": [
    "# Generate new data set\n"
   ]
  },
  {
   "cell_type": "code",
   "execution_count": null,
   "metadata": {
    "ExecuteTime": {
     "end_time": "2021-01-13T18:26:34.399525Z",
     "start_time": "2021-01-13T18:26:34.383903Z"
    },
    "vscode": {
     "languageId": "r"
    }
   },
   "outputs": [],
   "source": []
  },
  {
   "cell_type": "code",
   "execution_count": 14,
   "metadata": {
    "ExecuteTime": {
     "end_time": "2021-01-13T18:27:47.106091Z",
     "start_time": "2021-01-13T18:27:46.874336Z"
    },
    "slideshow": {
     "slide_type": "subslide"
    },
    "vscode": {
     "languageId": "r"
    }
   },
   "outputs": [],
   "source": [
    "# Visualizando los datos para comprobar como de balanceados están\n"
   ]
  },
  {
   "attachments": {},
   "cell_type": "markdown",
   "metadata": {
    "slideshow": {
     "slide_type": "slide"
    }
   },
   "source": [
    "## Oversampling the Minority Class"
   ]
  },
  {
   "cell_type": "code",
   "execution_count": 15,
   "metadata": {
    "ExecuteTime": {
     "end_time": "2021-01-13T18:30:27.813196Z",
     "start_time": "2021-01-13T18:30:27.528029Z"
    },
    "vscode": {
     "languageId": "r"
    }
   },
   "outputs": [],
   "source": [
    "# example of oversampling the minority class\n"
   ]
  },
  {
   "cell_type": "code",
   "execution_count": 16,
   "metadata": {
    "ExecuteTime": {
     "end_time": "2021-01-13T18:30:47.103519Z",
     "start_time": "2021-01-13T18:30:47.072305Z"
    },
    "vscode": {
     "languageId": "r"
    }
   },
   "outputs": [],
   "source": [
    "# Generate new data set\n"
   ]
  },
  {
   "cell_type": "code",
   "execution_count": null,
   "metadata": {
    "ExecuteTime": {
     "end_time": "2021-01-13T18:30:50.852640Z",
     "start_time": "2021-01-13T18:30:50.837019Z"
    },
    "vscode": {
     "languageId": "r"
    }
   },
   "outputs": [],
   "source": []
  },
  {
   "cell_type": "code",
   "execution_count": 17,
   "metadata": {
    "ExecuteTime": {
     "end_time": "2021-01-13T18:30:53.391462Z",
     "start_time": "2021-01-13T18:30:53.144085Z"
    },
    "scrolled": true,
    "slideshow": {
     "slide_type": "subslide"
    },
    "vscode": {
     "languageId": "r"
    }
   },
   "outputs": [],
   "source": [
    "# Visualizando los datos para comprobar como de balanceados están\n"
   ]
  },
  {
   "attachments": {},
   "cell_type": "markdown",
   "metadata": {
    "slideshow": {
     "slide_type": "slide"
    }
   },
   "source": [
    "## Combine Data Undersampling and Oversampling with SMOTEENN"
   ]
  },
  {
   "cell_type": "code",
   "execution_count": 18,
   "metadata": {
    "ExecuteTime": {
     "end_time": "2021-01-13T18:38:37.657446Z",
     "start_time": "2021-01-13T18:38:37.340998Z"
    },
    "vscode": {
     "languageId": "r"
    }
   },
   "outputs": [],
   "source": [
    "# example of both undersampling and oversampling\n"
   ]
  },
  {
   "cell_type": "code",
   "execution_count": 19,
   "metadata": {
    "ExecuteTime": {
     "end_time": "2021-01-13T18:38:39.779316Z",
     "start_time": "2021-01-13T18:38:39.748059Z"
    },
    "vscode": {
     "languageId": "r"
    }
   },
   "outputs": [],
   "source": [
    "# Generate new data set\n"
   ]
  },
  {
   "cell_type": "code",
   "execution_count": null,
   "metadata": {
    "ExecuteTime": {
     "end_time": "2021-01-13T18:38:43.352311Z",
     "start_time": "2021-01-13T18:38:43.336719Z"
    },
    "vscode": {
     "languageId": "r"
    }
   },
   "outputs": [],
   "source": []
  },
  {
   "cell_type": "code",
   "execution_count": 20,
   "metadata": {
    "ExecuteTime": {
     "end_time": "2021-01-13T18:38:44.555593Z",
     "start_time": "2021-01-13T18:38:44.308227Z"
    },
    "scrolled": true,
    "slideshow": {
     "slide_type": "subslide"
    },
    "vscode": {
     "languageId": "r"
    }
   },
   "outputs": [],
   "source": [
    "# Visualizando los datos para comprobar como de balanceados están\n"
   ]
  },
  {
   "attachments": {},
   "cell_type": "markdown",
   "metadata": {
    "slideshow": {
     "slide_type": "slide"
    }
   },
   "source": [
    "## Evaluating a model with random oversampling and undersampling"
   ]
  },
  {
   "cell_type": "code",
   "execution_count": null,
   "metadata": {
    "vscode": {
     "languageId": "r"
    }
   },
   "outputs": [],
   "source": []
  },
  {
   "attachments": {},
   "cell_type": "markdown",
   "metadata": {
    "slideshow": {
     "slide_type": "slide"
    }
   },
   "source": [
    "## Cost-Sensitive Algorithms"
   ]
  },
  {
   "cell_type": "code",
   "execution_count": 21,
   "metadata": {
    "ExecuteTime": {
     "end_time": "2021-01-13T18:43:42.165036Z",
     "start_time": "2021-01-13T18:43:42.133807Z"
    },
    "vscode": {
     "languageId": "r"
    }
   },
   "outputs": [],
   "source": [
    "# example of cost sensitive logistic regression for imbalanced classification\n"
   ]
  },
  {
   "attachments": {},
   "cell_type": "markdown",
   "metadata": {},
   "source": [
    "## <font color='green'>Data Save</font>\n",
    "\n",
    "* Solo si se han hecho cambios\n",
    "\n",
    "* No aplica"
   ]
  },
  {
   "attachments": {},
   "cell_type": "markdown",
   "metadata": {},
   "source": [
    "<font color='tomato'> Identificamos los datos a guardar</font>"
   ]
  },
  {
   "cell_type": "code",
   "execution_count": 22,
   "metadata": {
    "vscode": {
     "languageId": "r"
    }
   },
   "outputs": [],
   "source": [
    "data_to_save <- data"
   ]
  },
  {
   "attachments": {},
   "cell_type": "markdown",
   "metadata": {},
   "source": [
    "\n",
    "<font color='tomato'>Estructura de nombre de archivos:</font>\n",
    "\n",
    "* Código del caso de uso, por ejemplo \"CU_04\"\n",
    "* Número del proceso que lo genera, por ejemplo \"_06\".\n",
    "* Resto del nombre del archivo de entrada\n",
    "* Extensión del archivo\n",
    "\n",
    "Ejemplo: \"CU_04_06_01_01_zonasgeo.json, primer fichero que se genera en la tarea 01 del proceso 05 (Data Collection) para el caso de uso 04 (vacunas) y que se ha transformado en el proceso 06\n",
    "\n",
    "Importante mantener los guiones bajos antes de proceso, tarea, archivo y nombre"
   ]
  },
  {
   "attachments": {},
   "cell_type": "markdown",
   "metadata": {},
   "source": [
    "### Proceso 10"
   ]
  },
  {
   "cell_type": "code",
   "execution_count": 23,
   "metadata": {
    "vscode": {
     "languageId": "r"
    }
   },
   "outputs": [],
   "source": [
    "caso <- \"CU_34\"\n",
    "proceso <- '_10'\n",
    "tarea <- \"_05\"\n",
    "archivo <- \"\"\n",
    "proper <- \"_servicios_completo\"\n",
    "extension <- \".csv\""
   ]
  },
  {
   "attachments": {},
   "cell_type": "markdown",
   "metadata": {},
   "source": [
    "<font color='tomato'><b> OPCION A:</b> Uso del paquete \"tcltk\" para mayor comodidad</font>\n",
    "\n",
    "* Buscar carpeta, escribir nombre de archivo SIN extensión (se especifica en el código)\n",
    "* Especificar sufijo2 si es necesario\n",
    "* Cambiar datos por datos_xx si es necesario"
   ]
  },
  {
   "cell_type": "code",
   "execution_count": 24,
   "metadata": {
    "vscode": {
     "languageId": "r"
    }
   },
   "outputs": [],
   "source": [
    "# file_save <- paste0(caso, proceso, tarea, tcltk::tkgetSaveFile(), proper, extension) \n",
    "# path_out <- paste0(oPath, file_save)\n",
    "# write_csv(data_to_save_xxxxx, path_out)\n",
    "\n",
    "# cat('File saved as: ')\n",
    "# path_out"
   ]
  },
  {
   "attachments": {},
   "cell_type": "markdown",
   "metadata": {},
   "source": [
    "<font color='tomato'><b> OPCION B:</b> Especificar el nombre de archivo</font>"
   ]
  },
  {
   "attachments": {},
   "cell_type": "markdown",
   "metadata": {},
   "source": [
    "- Los ficheros de salida del proceso van siempre a Data/Output/.  "
   ]
  },
  {
   "cell_type": "code",
   "execution_count": 25,
   "metadata": {
    "vscode": {
     "languageId": "r"
    }
   },
   "outputs": [
    {
     "name": "stdout",
     "output_type": "stream",
     "text": [
      "File saved as: "
     ]
    },
    {
     "data": {
      "text/html": [
       "'Data/Output/CU_34_10_05_servicios_completo.csv'"
      ],
      "text/latex": [
       "'Data/Output/CU\\_34\\_10\\_05\\_servicios\\_completo.csv'"
      ],
      "text/markdown": [
       "'Data/Output/CU_34_10_05_servicios_completo.csv'"
      ],
      "text/plain": [
       "[1] \"Data/Output/CU_34_10_05_servicios_completo.csv\""
      ]
     },
     "metadata": {},
     "output_type": "display_data"
    }
   ],
   "source": [
    "file_save <- paste0(caso, proceso, tarea, archivo, proper, extension) \n",
    "path_out <- paste0(oPath, file_save)\n",
    "write_csv(data_to_save, path_out)\n",
    "\n",
    "cat('File saved as: ')\n",
    "path_out"
   ]
  },
  {
   "attachments": {},
   "cell_type": "markdown",
   "metadata": {},
   "source": [
    "#### Copia del fichero a Input\n",
    "\n",
    "Si el archivo se va a usar en otros notebooks, copiar a la carpeta Input"
   ]
  },
  {
   "cell_type": "code",
   "execution_count": 26,
   "metadata": {
    "vscode": {
     "languageId": "r"
    }
   },
   "outputs": [
    {
     "data": {
      "text/html": [
       "TRUE"
      ],
      "text/latex": [
       "TRUE"
      ],
      "text/markdown": [
       "TRUE"
      ],
      "text/plain": [
       "[1] TRUE"
      ]
     },
     "metadata": {},
     "output_type": "display_data"
    }
   ],
   "source": [
    "path_in <- paste0(iPath, file_save)\n",
    "file.copy(path_out, path_in, overwrite = TRUE)"
   ]
  },
  {
   "attachments": {},
   "cell_type": "markdown",
   "metadata": {},
   "source": [
    "## <font color='#2874a6'>REPORT</font>"
   ]
  },
  {
   "attachments": {},
   "cell_type": "markdown",
   "metadata": {},
   "source": [
    "A continuación se realizará un informe de las acciones realizadas"
   ]
  },
  {
   "attachments": {},
   "cell_type": "markdown",
   "metadata": {},
   "source": [
    "## <font color=' #2874a6 '>Main Actions Carried Out</font>"
   ]
  },
  {
   "attachments": {},
   "cell_type": "markdown",
   "metadata": {},
   "source": [
    "- No aplica el proceso al caso"
   ]
  },
  {
   "attachments": {},
   "cell_type": "markdown",
   "metadata": {},
   "source": [
    "## <font color=' #2874a6 '>Main Conclusions</font>"
   ]
  },
  {
   "attachments": {},
   "cell_type": "markdown",
   "metadata": {},
   "source": [
    "- Al no haber clasificación no procede analizar el desbalanceo.\n"
   ]
  },
  {
   "attachments": {},
   "cell_type": "markdown",
   "metadata": {},
   "source": [
    "## <font color='RED'>CODE TO DEPLOY (PILOT)</font>\n",
    "\n",
    "A continuación se incluirá el código que deba ser llevado a despliegue para producción, dado que se entiende efectúa operaciones necesarias sobre los datos en la ejecución del prototipo"
   ]
  },
  {
   "attachments": {},
   "cell_type": "markdown",
   "metadata": {},
   "source": [
    "<font color=' red '><b>Description</b></font>\n",
    "\n",
    "- No hay nada que desplegar en el piloto, ya que estos datos son estáticos o en todo caso cambian con muy poca frecuencia, altamente improbable durante el proyecto.\n"
   ]
  },
  {
   "attachments": {},
   "cell_type": "markdown",
   "metadata": {},
   "source": [
    "<font color=' red '><b>CODE</b></font>"
   ]
  },
  {
   "cell_type": "code",
   "execution_count": null,
   "metadata": {
    "vscode": {
     "languageId": "r"
    }
   },
   "outputs": [],
   "source": []
  }
 ],
 "metadata": {
  "anaconda-cloud": {},
  "celltoolbar": "Slideshow",
  "hide_input": false,
  "kernelspec": {
   "display_name": "R",
   "language": "R",
   "name": "ir"
  },
  "language_info": {
   "codemirror_mode": "r",
   "file_extension": ".r",
   "mimetype": "text/x-r-source",
   "name": "R",
   "pygments_lexer": "r",
   "version": "4.2.2"
  },
  "latex_envs": {
   "LaTeX_envs_menu_present": true,
   "autoclose": false,
   "autocomplete": true,
   "bibliofile": "biblio.bib",
   "cite_by": "apalike",
   "current_citInitial": 1,
   "eqLabelWithNumbers": true,
   "eqNumInitial": 1,
   "hotkeys": {
    "equation": "Ctrl-E",
    "itemize": "Ctrl-I"
   },
   "labels_anchors": false,
   "latex_user_defs": false,
   "report_style_numbering": true,
   "user_envs_cfg": false
  },
  "toc": {
   "base_numbering": 1,
   "nav_menu": {},
   "number_sections": true,
   "sideBar": true,
   "skip_h1_title": true,
   "title_cell": "Table of Contents",
   "title_sidebar": "Contents",
   "toc_cell": true,
   "toc_position": {
    "height": "calc(100% - 180px)",
    "left": "10px",
    "top": "150px",
    "width": "381.667px"
   },
   "toc_section_display": true,
   "toc_window_display": true
  },
  "varInspector": {
   "cols": {
    "lenName": 16,
    "lenType": 16,
    "lenVar": 40
   },
   "kernels_config": {
    "python": {
     "delete_cmd_postfix": "",
     "delete_cmd_prefix": "del ",
     "library": "var_list.py",
     "varRefreshCmd": "print(var_dic_list())"
    },
    "r": {
     "delete_cmd_postfix": ") ",
     "delete_cmd_prefix": "rm(",
     "library": "var_list.r",
     "varRefreshCmd": "cat(var_dic_list()) "
    }
   },
   "types_to_exclude": [
    "module",
    "function",
    "builtin_function_or_method",
    "instance",
    "_Feature"
   ],
   "window_display": false
  }
 },
 "nbformat": 4,
 "nbformat_minor": 4
}
