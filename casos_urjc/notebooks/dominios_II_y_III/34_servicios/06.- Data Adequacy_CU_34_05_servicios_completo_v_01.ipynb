{
 "cells": [
  {
   "attachments": {},
   "cell_type": "markdown",
   "metadata": {
    "slideshow": {
     "slide_type": "slide"
    }
   },
   "source": [
    "<img src=\".\\images\\Logo.png\" width=150 align=\"left\" /> <img src=\".\\images\\Logo2.jpg\" width=450 align=\"right\" />"
   ]
  },
  {
   "attachments": {},
   "cell_type": "markdown",
   "metadata": {
    "slideshow": {
     "slide_type": "slide"
    }
   },
   "source": [
    "\n",
    "# <center><font color= #1e8449 > <b>CUxx_Nombre del caso de uso</font></center>"
   ]
  },
  {
   "attachments": {},
   "cell_type": "markdown",
   "metadata": {
    "slideshow": {
     "slide_type": "slide"
    }
   },
   "source": [
    "<font color='steelblue'><b>Citizenlab Data Science Methodology > II - Data Processing Domain </font>\n",
    "***\n",
    "> # <font color='steelblue'> <b>06.- Data Adequacy</font>"
   ]
  },
  {
   "attachments": {},
   "cell_type": "markdown",
   "metadata": {
    "slideshow": {
     "slide_type": "slide"
    }
   },
   "source": [
    "<font color='steelblue'>Data Adequacy is the process to adapt basic and fundamental aspects of the raw data (File Format, Data Separator, Feature Names, Tidy Data, etcetera).</font>"
   ]
  },
  {
   "attachments": {},
   "cell_type": "markdown",
   "metadata": {
    "slideshow": {
     "slide_type": "slide"
    }
   },
   "source": [
    "## <font color='steelblue'>Tasks</font>"
   ]
  },
  {
   "attachments": {},
   "cell_type": "markdown",
   "metadata": {
    "slideshow": {
     "slide_type": "slide"
    }
   },
   "source": [
    "<font color='steelblue'><b>File format</b>\t\n",
    "- Verify/Obtain Tabular CSV (row x column) if is appropriate \n",
    "- Change Data Separator Character in CSV files to “,”\t\n",
    "- Verify decimal point in numeric data is “.”\n",
    "\n",
    "<font color='steelblue'><b>Feature Names\t\n",
    "- Verify names are Simple, Usable and Recognizable</b>\t\n",
    "- Rename Target column name=”Target” and always will be the last column\t\n",
    "- Verify column names are the first row of csv file\t\n",
    "- Remove spaces  others characters in the column names\t\n",
    "    \n",
    "<font color='steelblue'><b>Data Types</b>\n",
    "- Verify data types\t\n",
    "- Change data types\t\n",
    "- Verify that object type is changed\t\n",
    "    \n",
    "<font color='steelblue'><b>Tidy Data</b>\t\t\n",
    "- Verify each variable forms a column \n",
    "- Verify each observation forms a row\t\n",
    "- Verify each type of observational unit forms a table\t"
   ]
  },
  {
   "attachments": {},
   "cell_type": "markdown",
   "metadata": {},
   "source": [
    "## Consideraciones casos CitizenLab programados en R\n",
    "\n",
    "* La mayoría de las tareas de este proceso se han realizado en los notebooks del proceso 05 Data Collection porque eran necesarias para las tareas ETL. En esos casos, en este notebook se referencia al notebook del proceso 05 correspondiente\n",
    "* Por tanto en los notebooks de este proceso de manera general se incluyen las comprobaciones necesarias, y comentarios si procede\n",
    "* Las tareas del proceso se van a aplicar solo a los archivos que forman parte del despliegue, ya que hay muchos archivos intermedios que no procede pasar por este proceso\n",
    "* El nombre de archivo del notebook hace referencia al nombre de archivo del proceso 05 al que se aplica este proceso, por eso pueden no ser correlativa la numeración\n",
    "* Las comprobaciones se van a realizar teniendo en cuenta que el lenguaje utilizado en el despliegue de este caso es R"
   ]
  },
  {
   "attachments": {},
   "cell_type": "markdown",
   "metadata": {
    "slideshow": {
     "slide_type": "slide"
    }
   },
   "source": [
    "## <font color='green'>File</font>"
   ]
  },
  {
   "attachments": {},
   "cell_type": "markdown",
   "metadata": {
    "slideshow": {
     "slide_type": "slide"
    }
   },
   "source": [
    "- <font color='steelblue'> <b>Input File: xxxxxxxxxx</font>\n",
    "- <font color='steelblue'> <b>Output File: No aplica</font>\n"
   ]
  },
  {
   "attachments": {},
   "cell_type": "markdown",
   "metadata": {
    "slideshow": {
     "slide_type": "slide"
    }
   },
   "source": [
    "## <font color='green'>Settings</font>"
   ]
  },
  {
   "attachments": {},
   "cell_type": "markdown",
   "metadata": {},
   "source": [
    "### Encoding\n",
    "\n",
    "Con la siguiente expresión se evitan problemas con el encoding al ejecutar el notebook. Es posible que deba ser eliminada o adaptada a la máquina en la que se ejecute el código."
   ]
  },
  {
   "cell_type": "code",
   "execution_count": 1,
   "metadata": {
    "vscode": {
     "languageId": "r"
    }
   },
   "outputs": [
    {
     "data": {
      "text/html": [
       "'LC_CTYPE=es_ES.UTF-8;LC_NUMERIC=C;LC_TIME=es_ES.UTF-8;LC_COLLATE=es_ES.UTF-8;LC_MONETARY=es_ES.UTF-8;LC_MESSAGES=en_US.UTF-8;LC_PAPER=es_ES.UTF-8;LC_NAME=C;LC_ADDRESS=C;LC_TELEPHONE=C;LC_MEASUREMENT=es_ES.UTF-8;LC_IDENTIFICATION=C'"
      ],
      "text/latex": [
       "'LC\\_CTYPE=es\\_ES.UTF-8;LC\\_NUMERIC=C;LC\\_TIME=es\\_ES.UTF-8;LC\\_COLLATE=es\\_ES.UTF-8;LC\\_MONETARY=es\\_ES.UTF-8;LC\\_MESSAGES=en\\_US.UTF-8;LC\\_PAPER=es\\_ES.UTF-8;LC\\_NAME=C;LC\\_ADDRESS=C;LC\\_TELEPHONE=C;LC\\_MEASUREMENT=es\\_ES.UTF-8;LC\\_IDENTIFICATION=C'"
      ],
      "text/markdown": [
       "'LC_CTYPE=es_ES.UTF-8;LC_NUMERIC=C;LC_TIME=es_ES.UTF-8;LC_COLLATE=es_ES.UTF-8;LC_MONETARY=es_ES.UTF-8;LC_MESSAGES=en_US.UTF-8;LC_PAPER=es_ES.UTF-8;LC_NAME=C;LC_ADDRESS=C;LC_TELEPHONE=C;LC_MEASUREMENT=es_ES.UTF-8;LC_IDENTIFICATION=C'"
      ],
      "text/plain": [
       "[1] \"LC_CTYPE=es_ES.UTF-8;LC_NUMERIC=C;LC_TIME=es_ES.UTF-8;LC_COLLATE=es_ES.UTF-8;LC_MONETARY=es_ES.UTF-8;LC_MESSAGES=en_US.UTF-8;LC_PAPER=es_ES.UTF-8;LC_NAME=C;LC_ADDRESS=C;LC_TELEPHONE=C;LC_MEASUREMENT=es_ES.UTF-8;LC_IDENTIFICATION=C\""
      ]
     },
     "metadata": {},
     "output_type": "display_data"
    }
   ],
   "source": [
    "Sys.setlocale(category = \"LC_ALL\", locale = \"es_ES.UTF-8\")"
   ]
  },
  {
   "attachments": {},
   "cell_type": "markdown",
   "metadata": {},
   "source": [
    "### Libraries to use"
   ]
  },
  {
   "cell_type": "code",
   "execution_count": 2,
   "metadata": {
    "ExecuteTime": {
     "end_time": "2020-12-25T18:02:52.556732Z",
     "start_time": "2020-12-25T18:02:52.541126Z"
    },
    "slideshow": {
     "slide_type": "subslide"
    },
    "vscode": {
     "languageId": "r"
    }
   },
   "outputs": [
    {
     "name": "stderr",
     "output_type": "stream",
     "text": [
      "\n",
      "Attaching package: ‘dplyr’\n",
      "\n",
      "\n",
      "The following objects are masked from ‘package:stats’:\n",
      "\n",
      "    filter, lag\n",
      "\n",
      "\n",
      "The following objects are masked from ‘package:base’:\n",
      "\n",
      "    intersect, setdiff, setequal, union\n",
      "\n",
      "\n",
      "Linking to GEOS 3.11.1, GDAL 3.6.2, PROJ 6.2.1; sf_use_s2() is TRUE\n",
      "\n",
      "WARNING: different compile-time and runtime versions for GEOS found:\n",
      "\n",
      "Linked against: 3.11.1-CAPI-1.17.1 compiled against: 3.8.0-CAPI-1.13.1\n",
      "\n",
      "It is probably a good idea to reinstall sf, and maybe rgeos and rgdal too\n",
      "\n"
     ]
    }
   ],
   "source": [
    "\n",
    "library(readr)\n",
    "library(dplyr)\n",
    "library(sf)\n",
    "library(tidyr)\n",
    "#library(stringr)"
   ]
  },
  {
   "attachments": {},
   "cell_type": "markdown",
   "metadata": {},
   "source": [
    "### Paths"
   ]
  },
  {
   "cell_type": "code",
   "execution_count": 3,
   "metadata": {
    "vscode": {
     "languageId": "r"
    }
   },
   "outputs": [],
   "source": [
    "iPath <- \"Data/Input/\"\n",
    "oPath <- \"Data/Output/\""
   ]
  },
  {
   "attachments": {},
   "cell_type": "markdown",
   "metadata": {
    "slideshow": {
     "slide_type": "slide"
    }
   },
   "source": [
    "## <font color='green'>Data Load</font>"
   ]
  },
  {
   "attachments": {},
   "cell_type": "markdown",
   "metadata": {},
   "source": [
    "<font color='tomato'><b> OPCION A:</b> Seleccionar fichero en ventana para mayor comodidad</font> "
   ]
  },
  {
   "attachments": {},
   "cell_type": "markdown",
   "metadata": {},
   "source": [
    "Data load using the {tcltk} package. Ucomment the line if using this option"
   ]
  },
  {
   "cell_type": "code",
   "execution_count": 4,
   "metadata": {
    "vscode": {
     "languageId": "r"
    }
   },
   "outputs": [],
   "source": [
    "# file_data <- tcltk::tk_choose.files(multi = FALSE)"
   ]
  },
  {
   "attachments": {},
   "cell_type": "markdown",
   "metadata": {},
   "source": [
    "<font color='tomato'><b> OPCION B:</b> Especificar el nombre de archivo</font>\n",
    "\n"
   ]
  },
  {
   "cell_type": "code",
   "execution_count": 5,
   "metadata": {
    "vscode": {
     "languageId": "r"
    }
   },
   "outputs": [
    {
     "name": "stdout",
     "output_type": "stream",
     "text": [
      "Se leerán datos del archivo:  Data/Input/CU_34_05_05_servicios_completo.csv"
     ]
    }
   ],
   "source": [
    "iFile <- \"CU_34_05_05_servicios_completo.csv\"\n",
    "file_data <- paste0(iPath, iFile)\n",
    "\n",
    "if(file.exists(file_data)){\n",
    "    cat(\"Se leerán datos del archivo: \", file_data)\n",
    "} else{\n",
    "    warning(\"Cuidado: el archivo no existe.\")\n",
    "}\n"
   ]
  },
  {
   "attachments": {},
   "cell_type": "markdown",
   "metadata": {
    "slideshow": {
     "slide_type": "slide"
    }
   },
   "source": [
    "## <font color='green'>Task</font>"
   ]
  },
  {
   "attachments": {},
   "cell_type": "markdown",
   "metadata": {
    "slideshow": {
     "slide_type": "slide"
    }
   },
   "source": [
    "### File format\n"
   ]
  },
  {
   "attachments": {},
   "cell_type": "markdown",
   "metadata": {
    "slideshow": {
     "slide_type": "slide"
    }
   },
   "source": [
    "#### Verify/Obtain Tabular CSV (row x column) if is appropriate"
   ]
  },
  {
   "attachments": {},
   "cell_type": "markdown",
   "metadata": {},
   "source": [
    "<font color=' #2874a6 '><b>Remarks</b></font>"
   ]
  },
  {
   "attachments": {},
   "cell_type": "markdown",
   "metadata": {},
   "source": [
    "- Se ha verificado que el CSV carga las filas y columnas sin errores\n"
   ]
  },
  {
   "attachments": {},
   "cell_type": "markdown",
   "metadata": {},
   "source": [
    "<font color=' #2874a6 '><b>CODE</b></font>"
   ]
  },
  {
   "attachments": {},
   "cell_type": "markdown",
   "metadata": {},
   "source": [
    "#### Data file to dataframe\n",
    "\n",
    "Usar la función adecuada según el formato de entrada (xlsx, csv, json, ...)"
   ]
  },
  {
   "cell_type": "code",
   "execution_count": 6,
   "metadata": {
    "vscode": {
     "languageId": "r"
    }
   },
   "outputs": [
    {
     "name": "stderr",
     "output_type": "stream",
     "text": [
      "\u001b[1mRows: \u001b[22m\u001b[34m274792\u001b[39m \u001b[1mColumns: \u001b[22m\u001b[34m33\u001b[39m\n",
      "\u001b[36m──\u001b[39m \u001b[1mColumn specification\u001b[22m \u001b[36m──────────────────────────────────────────────────────────────────────────────────────────────────────────────────────────────────────────────────────────────────────────────────────────────────────────────────────────────────────────────────────────\u001b[39m\n",
      "\u001b[1mDelimiter:\u001b[22m \",\"\n",
      "\u001b[31mchr\u001b[39m   (5): Servicio, CMUN, CDIS, CSEC, NSEC\n",
      "\u001b[32mdbl\u001b[39m  (27): Futbol, nservicios, capacidad, tmed, prec, velmedia, presMax, cca...\n",
      "\u001b[34mdate\u001b[39m  (1): Fecha\n",
      "\n",
      "\u001b[36mℹ\u001b[39m Use `spec()` to retrieve the full column specification for this data.\n",
      "\u001b[36mℹ\u001b[39m Specify the column types or set `show_col_types = FALSE` to quiet this message.\n"
     ]
    }
   ],
   "source": [
    "data <- read_csv(file_data)\n"
   ]
  },
  {
   "attachments": {},
   "cell_type": "markdown",
   "metadata": {},
   "source": [
    "Estructura de  los datos:"
   ]
  },
  {
   "cell_type": "code",
   "execution_count": 7,
   "metadata": {
    "vscode": {
     "languageId": "r"
    }
   },
   "outputs": [
    {
     "name": "stdout",
     "output_type": "stream",
     "text": [
      "Rows: 274,792\n",
      "Columns: 33\n",
      "$ Fecha            \u001b[3m\u001b[90m<date>\u001b[39m\u001b[23m 2022-01-01, 2022-01-01, 2022-01-01, 2022-01-01, 2022…\n",
      "$ Servicio         \u001b[3m\u001b[90m<chr>\u001b[39m\u001b[23m \"Taxi\", \"Taxi\", \"Taxi\", \"Taxi\", \"Taxi\", \"Taxi\", \"Taxi…\n",
      "$ CMUN             \u001b[3m\u001b[90m<chr>\u001b[39m\u001b[23m \"001\", \"002\", \"002\", \"003\", \"004\", \"004\", \"004\", \"004…\n",
      "$ CDIS             \u001b[3m\u001b[90m<chr>\u001b[39m\u001b[23m \"01\", \"01\", \"01\", \"01\", \"01\", \"01\", \"01\", \"01\", \"01\",…\n",
      "$ CSEC             \u001b[3m\u001b[90m<chr>\u001b[39m\u001b[23m \"001\", \"001\", \"002\", \"001\", \"001\", \"002\", \"003\", \"004…\n",
      "$ Futbol           \u001b[3m\u001b[90m<dbl>\u001b[39m\u001b[23m 0, 0, 0, 1, 0, 1, 1, 0, 0, 0, 0, 0, 0, 0, 0, 0, 0, 1,…\n",
      "$ nservicios       \u001b[3m\u001b[90m<dbl>\u001b[39m\u001b[23m 0, 0, 0, 50, 0, 50, 50, 0, 2, 0, 0, 7, 0, 1, 4, 7, 10…\n",
      "$ capacidad        \u001b[3m\u001b[90m<dbl>\u001b[39m\u001b[23m 50, 50, 50, 50, 50, 50, 50, 50, 65, 65, 65, 65, 65, 6…\n",
      "$ tmed             \u001b[3m\u001b[90m<dbl>\u001b[39m\u001b[23m 9.472965, 8.170448, 8.526402, 10.012282, 10.574368, 1…\n",
      "$ prec             \u001b[3m\u001b[90m<dbl>\u001b[39m\u001b[23m 0, 0, 0, 0, 0, 0, 0, 0, 0, 0, 0, 0, 0, 0, 0, 0, 0, 0,…\n",
      "$ velmedia         \u001b[3m\u001b[90m<dbl>\u001b[39m\u001b[23m 0.8229741, 0.9750191, 0.8874318, 2.3162929, 0.6970652…\n",
      "$ presMax          \u001b[3m\u001b[90m<dbl>\u001b[39m\u001b[23m 901.6717, 970.1249, 967.2948, 849.5611, 964.2144, 965…\n",
      "$ ccaa             \u001b[3m\u001b[90m<dbl>\u001b[39m\u001b[23m 13, 13, 13, 13, 13, 13, 13, 13, 13, 13, 13, 13, 13, 1…\n",
      "$ CPRO             \u001b[3m\u001b[90m<dbl>\u001b[39m\u001b[23m 28, 28, 28, 28, 28, 28, 28, 28, 28, 28, 28, 28, 28, 2…\n",
      "$ t1_1             \u001b[3m\u001b[90m<dbl>\u001b[39m\u001b[23m 55, 2358, 2435, 248, 2886, 3376, 2161, 1523, 1648, 10…\n",
      "$ t2_1             \u001b[3m\u001b[90m<dbl>\u001b[39m\u001b[23m NA, 0.4724, 0.4830, 0.3952, 0.5135, 0.4793, 0.5016, 0…\n",
      "$ t2_2             \u001b[3m\u001b[90m<dbl>\u001b[39m\u001b[23m NA, 0.5276, 0.5170, 0.6048, 0.4865, 0.5207, 0.4984, 0…\n",
      "$ t3_1             \u001b[3m\u001b[90m<dbl>\u001b[39m\u001b[23m NA, 40.5161, 38.3339, 47.4597, 44.4099, 40.6810, 38.0…\n",
      "$ t4_1             \u001b[3m\u001b[90m<dbl>\u001b[39m\u001b[23m NA, 0.1425, 0.1959, 0.1371, 0.1611, 0.1739, 0.2230, 0…\n",
      "$ t4_2             \u001b[3m\u001b[90m<dbl>\u001b[39m\u001b[23m NA, 0.7443, 0.7002, 0.6573, 0.6067, 0.6727, 0.6395, 0…\n",
      "$ t4_3             \u001b[3m\u001b[90m<dbl>\u001b[39m\u001b[23m NA, 0.1132, 0.1039, 0.2056, 0.2322, 0.1534, 0.1374, 0…\n",
      "$ t5_1             \u001b[3m\u001b[90m<dbl>\u001b[39m\u001b[23m NA, 0.1569, 0.1544, 0.1129, 0.1639, 0.1440, 0.1749, 0…\n",
      "$ t6_1             \u001b[3m\u001b[90m<dbl>\u001b[39m\u001b[23m NA, 0.1968, 0.1951, 0.1411, 0.2128, 0.1730, 0.2138, 0…\n",
      "$ t7_1             \u001b[3m\u001b[90m<dbl>\u001b[39m\u001b[23m NA, 0.4016, 0.4244, 0.1542, 0.1470, 0.1596, 0.1668, 0…\n",
      "$ t8_1             \u001b[3m\u001b[90m<dbl>\u001b[39m\u001b[23m NA, 0.3971, 0.4224, 0.1449, 0.1409, 0.1506, 0.1602, 0…\n",
      "$ t9_1             \u001b[3m\u001b[90m<dbl>\u001b[39m\u001b[23m NA, 0.4377, 0.4438, 0.5280, 0.2602, 0.3234, 0.2859, 0…\n",
      "$ t10_1            \u001b[3m\u001b[90m<dbl>\u001b[39m\u001b[23m NA, 0.0912, 0.1226, 0.0932, 0.1814, 0.1478, 0.1658, 0…\n",
      "$ t11_1            \u001b[3m\u001b[90m<dbl>\u001b[39m\u001b[23m NA, 0.6063, 0.5955, 0.5000, 0.4213, 0.5170, 0.4943, 0…\n",
      "$ t12_1            \u001b[3m\u001b[90m<dbl>\u001b[39m\u001b[23m NA, 0.6672, 0.6788, 0.5514, 0.5147, 0.6067, 0.5926, 0…\n",
      "$ NSEC             \u001b[3m\u001b[90m<chr>\u001b[39m\u001b[23m \"Acebeda, La - 01.001\", \"Ajalvir - 01.001\", \"Ajalvir …\n",
      "$ area             \u001b[3m\u001b[90m<dbl>\u001b[39m\u001b[23m 21848790.60, 15585050.39, 4148273.41, 25674490.85, 50…\n",
      "$ elevation        \u001b[3m\u001b[90m<dbl>\u001b[39m\u001b[23m 1401, 653, 715, 1150, 593, 604, 587, 570, 594, 594, 5…\n",
      "$ densidad_hab_km2 \u001b[3m\u001b[90m<dbl>\u001b[39m\u001b[23m 2.517302, 151.298837, 586.991204, 9.659393, 571.86106…\n"
     ]
    }
   ],
   "source": [
    "data |> glimpse()"
   ]
  },
  {
   "attachments": {},
   "cell_type": "markdown",
   "metadata": {},
   "source": [
    "Muestra de los primeros datos:"
   ]
  },
  {
   "cell_type": "code",
   "execution_count": 8,
   "metadata": {
    "vscode": {
     "languageId": "r"
    }
   },
   "outputs": [
    {
     "data": {
      "text/html": [
       "<table class=\"dataframe\">\n",
       "<caption>A spec_tbl_df: 5 × 33</caption>\n",
       "<thead>\n",
       "\t<tr><th scope=col>Fecha</th><th scope=col>Servicio</th><th scope=col>CMUN</th><th scope=col>CDIS</th><th scope=col>CSEC</th><th scope=col>Futbol</th><th scope=col>nservicios</th><th scope=col>capacidad</th><th scope=col>tmed</th><th scope=col>prec</th><th scope=col>⋯</th><th scope=col>t7_1</th><th scope=col>t8_1</th><th scope=col>t9_1</th><th scope=col>t10_1</th><th scope=col>t11_1</th><th scope=col>t12_1</th><th scope=col>NSEC</th><th scope=col>area</th><th scope=col>elevation</th><th scope=col>densidad_hab_km2</th></tr>\n",
       "\t<tr><th scope=col>&lt;date&gt;</th><th scope=col>&lt;chr&gt;</th><th scope=col>&lt;chr&gt;</th><th scope=col>&lt;chr&gt;</th><th scope=col>&lt;chr&gt;</th><th scope=col>&lt;dbl&gt;</th><th scope=col>&lt;dbl&gt;</th><th scope=col>&lt;dbl&gt;</th><th scope=col>&lt;dbl&gt;</th><th scope=col>&lt;dbl&gt;</th><th scope=col>⋯</th><th scope=col>&lt;dbl&gt;</th><th scope=col>&lt;dbl&gt;</th><th scope=col>&lt;dbl&gt;</th><th scope=col>&lt;dbl&gt;</th><th scope=col>&lt;dbl&gt;</th><th scope=col>&lt;dbl&gt;</th><th scope=col>&lt;chr&gt;</th><th scope=col>&lt;dbl&gt;</th><th scope=col>&lt;dbl&gt;</th><th scope=col>&lt;dbl&gt;</th></tr>\n",
       "</thead>\n",
       "<tbody>\n",
       "\t<tr><td>2022-01-01</td><td>Taxi</td><td>001</td><td>01</td><td>001</td><td>0</td><td> 0</td><td>50</td><td> 9.472965</td><td>0</td><td>⋯</td><td>    NA</td><td>    NA</td><td>    NA</td><td>    NA</td><td>    NA</td><td>    NA</td><td>Acebeda, La - 01.001      </td><td>21848791</td><td>1401</td><td>  2.517302</td></tr>\n",
       "\t<tr><td>2022-01-01</td><td>Taxi</td><td>002</td><td>01</td><td>001</td><td>0</td><td> 0</td><td>50</td><td> 8.170448</td><td>0</td><td>⋯</td><td>0.4016</td><td>0.3971</td><td>0.4377</td><td>0.0912</td><td>0.6063</td><td>0.6672</td><td>Ajalvir - 01.001          </td><td>15585050</td><td> 653</td><td>151.298837</td></tr>\n",
       "\t<tr><td>2022-01-01</td><td>Taxi</td><td>002</td><td>01</td><td>002</td><td>0</td><td> 0</td><td>50</td><td> 8.526402</td><td>0</td><td>⋯</td><td>0.4244</td><td>0.4224</td><td>0.4438</td><td>0.1226</td><td>0.5955</td><td>0.6788</td><td>Ajalvir - 01.002          </td><td> 4148273</td><td> 715</td><td>586.991204</td></tr>\n",
       "\t<tr><td>2022-01-01</td><td>Taxi</td><td>003</td><td>01</td><td>001</td><td>1</td><td>50</td><td>50</td><td>10.012282</td><td>0</td><td>⋯</td><td>0.1542</td><td>0.1449</td><td>0.5280</td><td>0.0932</td><td>0.5000</td><td>0.5514</td><td>Alameda del Valle - 01.001</td><td>25674491</td><td>1150</td><td>  9.659393</td></tr>\n",
       "\t<tr><td>2022-01-01</td><td>Taxi</td><td>004</td><td>01</td><td>001</td><td>0</td><td> 0</td><td>50</td><td>10.574368</td><td>0</td><td>⋯</td><td>0.1470</td><td>0.1409</td><td>0.2602</td><td>0.1814</td><td>0.4213</td><td>0.5147</td><td>Álamo, El - 01.001        </td><td> 5046680</td><td> 593</td><td>571.861060</td></tr>\n",
       "</tbody>\n",
       "</table>\n"
      ],
      "text/latex": [
       "A spec\\_tbl\\_df: 5 × 33\n",
       "\\begin{tabular}{lllllllllllllllllllll}\n",
       " Fecha & Servicio & CMUN & CDIS & CSEC & Futbol & nservicios & capacidad & tmed & prec & ⋯ & t7\\_1 & t8\\_1 & t9\\_1 & t10\\_1 & t11\\_1 & t12\\_1 & NSEC & area & elevation & densidad\\_hab\\_km2\\\\\n",
       " <date> & <chr> & <chr> & <chr> & <chr> & <dbl> & <dbl> & <dbl> & <dbl> & <dbl> & ⋯ & <dbl> & <dbl> & <dbl> & <dbl> & <dbl> & <dbl> & <chr> & <dbl> & <dbl> & <dbl>\\\\\n",
       "\\hline\n",
       "\t 2022-01-01 & Taxi & 001 & 01 & 001 & 0 &  0 & 50 &  9.472965 & 0 & ⋯ &     NA &     NA &     NA &     NA &     NA &     NA & Acebeda, La - 01.001       & 21848791 & 1401 &   2.517302\\\\\n",
       "\t 2022-01-01 & Taxi & 002 & 01 & 001 & 0 &  0 & 50 &  8.170448 & 0 & ⋯ & 0.4016 & 0.3971 & 0.4377 & 0.0912 & 0.6063 & 0.6672 & Ajalvir - 01.001           & 15585050 &  653 & 151.298837\\\\\n",
       "\t 2022-01-01 & Taxi & 002 & 01 & 002 & 0 &  0 & 50 &  8.526402 & 0 & ⋯ & 0.4244 & 0.4224 & 0.4438 & 0.1226 & 0.5955 & 0.6788 & Ajalvir - 01.002           &  4148273 &  715 & 586.991204\\\\\n",
       "\t 2022-01-01 & Taxi & 003 & 01 & 001 & 1 & 50 & 50 & 10.012282 & 0 & ⋯ & 0.1542 & 0.1449 & 0.5280 & 0.0932 & 0.5000 & 0.5514 & Alameda del Valle - 01.001 & 25674491 & 1150 &   9.659393\\\\\n",
       "\t 2022-01-01 & Taxi & 004 & 01 & 001 & 0 &  0 & 50 & 10.574368 & 0 & ⋯ & 0.1470 & 0.1409 & 0.2602 & 0.1814 & 0.4213 & 0.5147 & Álamo, El - 01.001         &  5046680 &  593 & 571.861060\\\\\n",
       "\\end{tabular}\n"
      ],
      "text/markdown": [
       "\n",
       "A spec_tbl_df: 5 × 33\n",
       "\n",
       "| Fecha &lt;date&gt; | Servicio &lt;chr&gt; | CMUN &lt;chr&gt; | CDIS &lt;chr&gt; | CSEC &lt;chr&gt; | Futbol &lt;dbl&gt; | nservicios &lt;dbl&gt; | capacidad &lt;dbl&gt; | tmed &lt;dbl&gt; | prec &lt;dbl&gt; | ⋯ ⋯ | t7_1 &lt;dbl&gt; | t8_1 &lt;dbl&gt; | t9_1 &lt;dbl&gt; | t10_1 &lt;dbl&gt; | t11_1 &lt;dbl&gt; | t12_1 &lt;dbl&gt; | NSEC &lt;chr&gt; | area &lt;dbl&gt; | elevation &lt;dbl&gt; | densidad_hab_km2 &lt;dbl&gt; |\n",
       "|---|---|---|---|---|---|---|---|---|---|---|---|---|---|---|---|---|---|---|---|---|\n",
       "| 2022-01-01 | Taxi | 001 | 01 | 001 | 0 |  0 | 50 |  9.472965 | 0 | ⋯ |     NA |     NA |     NA |     NA |     NA |     NA | Acebeda, La - 01.001       | 21848791 | 1401 |   2.517302 |\n",
       "| 2022-01-01 | Taxi | 002 | 01 | 001 | 0 |  0 | 50 |  8.170448 | 0 | ⋯ | 0.4016 | 0.3971 | 0.4377 | 0.0912 | 0.6063 | 0.6672 | Ajalvir - 01.001           | 15585050 |  653 | 151.298837 |\n",
       "| 2022-01-01 | Taxi | 002 | 01 | 002 | 0 |  0 | 50 |  8.526402 | 0 | ⋯ | 0.4244 | 0.4224 | 0.4438 | 0.1226 | 0.5955 | 0.6788 | Ajalvir - 01.002           |  4148273 |  715 | 586.991204 |\n",
       "| 2022-01-01 | Taxi | 003 | 01 | 001 | 1 | 50 | 50 | 10.012282 | 0 | ⋯ | 0.1542 | 0.1449 | 0.5280 | 0.0932 | 0.5000 | 0.5514 | Alameda del Valle - 01.001 | 25674491 | 1150 |   9.659393 |\n",
       "| 2022-01-01 | Taxi | 004 | 01 | 001 | 0 |  0 | 50 | 10.574368 | 0 | ⋯ | 0.1470 | 0.1409 | 0.2602 | 0.1814 | 0.4213 | 0.5147 | Álamo, El - 01.001         |  5046680 |  593 | 571.861060 |\n",
       "\n"
      ],
      "text/plain": [
       "  Fecha      Servicio CMUN CDIS CSEC Futbol nservicios capacidad tmed      prec\n",
       "1 2022-01-01 Taxi     001  01   001  0       0         50         9.472965 0   \n",
       "2 2022-01-01 Taxi     002  01   001  0       0         50         8.170448 0   \n",
       "3 2022-01-01 Taxi     002  01   002  0       0         50         8.526402 0   \n",
       "4 2022-01-01 Taxi     003  01   001  1      50         50        10.012282 0   \n",
       "5 2022-01-01 Taxi     004  01   001  0       0         50        10.574368 0   \n",
       "  ⋯ t7_1   t8_1   t9_1   t10_1  t11_1  t12_1  NSEC                      \n",
       "1 ⋯     NA     NA     NA     NA     NA     NA Acebeda, La - 01.001      \n",
       "2 ⋯ 0.4016 0.3971 0.4377 0.0912 0.6063 0.6672 Ajalvir - 01.001          \n",
       "3 ⋯ 0.4244 0.4224 0.4438 0.1226 0.5955 0.6788 Ajalvir - 01.002          \n",
       "4 ⋯ 0.1542 0.1449 0.5280 0.0932 0.5000 0.5514 Alameda del Valle - 01.001\n",
       "5 ⋯ 0.1470 0.1409 0.2602 0.1814 0.4213 0.5147 Álamo, El - 01.001        \n",
       "  area     elevation densidad_hab_km2\n",
       "1 21848791 1401        2.517302      \n",
       "2 15585050  653      151.298837      \n",
       "3  4148273  715      586.991204      \n",
       "4 25674491 1150        9.659393      \n",
       "5  5046680  593      571.861060      "
      ]
     },
     "metadata": {},
     "output_type": "display_data"
    }
   ],
   "source": [
    "data |> slice_head(n = 5)"
   ]
  },
  {
   "attachments": {},
   "cell_type": "markdown",
   "metadata": {
    "slideshow": {
     "slide_type": "slide"
    }
   },
   "source": [
    "#### Change Data Separator Character in CSV files to “,” "
   ]
  },
  {
   "attachments": {},
   "cell_type": "markdown",
   "metadata": {},
   "source": [
    "<font color=' #2874a6 '><b>Remarks</b></font>"
   ]
  },
  {
   "attachments": {},
   "cell_type": "markdown",
   "metadata": {},
   "source": [
    "- Se ha comprobado que el separador es \",\" ya que es la opción por defecto de `read_csv()`"
   ]
  },
  {
   "attachments": {},
   "cell_type": "markdown",
   "metadata": {},
   "source": [
    "<font color=' #2874a6 '><b>CODE</b></font>"
   ]
  },
  {
   "cell_type": "code",
   "execution_count": 9,
   "metadata": {
    "ExecuteTime": {
     "end_time": "2021-01-27T11:01:34.878544Z",
     "start_time": "2021-01-27T11:01:34.740511Z"
    },
    "slideshow": {
     "slide_type": "subslide"
    },
    "vscode": {
     "languageId": "r"
    }
   },
   "outputs": [
    {
     "data": {
      "text/html": [
       "<style>\n",
       ".list-inline {list-style: none; margin:0; padding: 0}\n",
       ".list-inline>li {display: inline-block}\n",
       ".list-inline>li:not(:last-child)::after {content: \"\\00b7\"; padding: 0 .5ex}\n",
       "</style>\n",
       "<ol class=list-inline><li>'Fecha'</li><li>'Servicio'</li><li>'CMUN'</li><li>'CDIS'</li><li>'CSEC'</li><li>'Futbol'</li><li>'nservicios'</li><li>'capacidad'</li><li>'tmed'</li><li>'prec'</li><li>'velmedia'</li><li>'presMax'</li><li>'ccaa'</li><li>'CPRO'</li><li>'t1_1'</li><li>'t2_1'</li><li>'t2_2'</li><li>'t3_1'</li><li>'t4_1'</li><li>'t4_2'</li><li>'t4_3'</li><li>'t5_1'</li><li>'t6_1'</li><li>'t7_1'</li><li>'t8_1'</li><li>'t9_1'</li><li>'t10_1'</li><li>'t11_1'</li><li>'t12_1'</li><li>'NSEC'</li><li>'area'</li><li>'elevation'</li><li>'densidad_hab_km2'</li></ol>\n"
      ],
      "text/latex": [
       "\\begin{enumerate*}\n",
       "\\item 'Fecha'\n",
       "\\item 'Servicio'\n",
       "\\item 'CMUN'\n",
       "\\item 'CDIS'\n",
       "\\item 'CSEC'\n",
       "\\item 'Futbol'\n",
       "\\item 'nservicios'\n",
       "\\item 'capacidad'\n",
       "\\item 'tmed'\n",
       "\\item 'prec'\n",
       "\\item 'velmedia'\n",
       "\\item 'presMax'\n",
       "\\item 'ccaa'\n",
       "\\item 'CPRO'\n",
       "\\item 't1\\_1'\n",
       "\\item 't2\\_1'\n",
       "\\item 't2\\_2'\n",
       "\\item 't3\\_1'\n",
       "\\item 't4\\_1'\n",
       "\\item 't4\\_2'\n",
       "\\item 't4\\_3'\n",
       "\\item 't5\\_1'\n",
       "\\item 't6\\_1'\n",
       "\\item 't7\\_1'\n",
       "\\item 't8\\_1'\n",
       "\\item 't9\\_1'\n",
       "\\item 't10\\_1'\n",
       "\\item 't11\\_1'\n",
       "\\item 't12\\_1'\n",
       "\\item 'NSEC'\n",
       "\\item 'area'\n",
       "\\item 'elevation'\n",
       "\\item 'densidad\\_hab\\_km2'\n",
       "\\end{enumerate*}\n"
      ],
      "text/markdown": [
       "1. 'Fecha'\n",
       "2. 'Servicio'\n",
       "3. 'CMUN'\n",
       "4. 'CDIS'\n",
       "5. 'CSEC'\n",
       "6. 'Futbol'\n",
       "7. 'nservicios'\n",
       "8. 'capacidad'\n",
       "9. 'tmed'\n",
       "10. 'prec'\n",
       "11. 'velmedia'\n",
       "12. 'presMax'\n",
       "13. 'ccaa'\n",
       "14. 'CPRO'\n",
       "15. 't1_1'\n",
       "16. 't2_1'\n",
       "17. 't2_2'\n",
       "18. 't3_1'\n",
       "19. 't4_1'\n",
       "20. 't4_2'\n",
       "21. 't4_3'\n",
       "22. 't5_1'\n",
       "23. 't6_1'\n",
       "24. 't7_1'\n",
       "25. 't8_1'\n",
       "26. 't9_1'\n",
       "27. 't10_1'\n",
       "28. 't11_1'\n",
       "29. 't12_1'\n",
       "30. 'NSEC'\n",
       "31. 'area'\n",
       "32. 'elevation'\n",
       "33. 'densidad_hab_km2'\n",
       "\n",
       "\n"
      ],
      "text/plain": [
       " [1] \"Fecha\"            \"Servicio\"         \"CMUN\"             \"CDIS\"            \n",
       " [5] \"CSEC\"             \"Futbol\"           \"nservicios\"       \"capacidad\"       \n",
       " [9] \"tmed\"             \"prec\"             \"velmedia\"         \"presMax\"         \n",
       "[13] \"ccaa\"             \"CPRO\"             \"t1_1\"             \"t2_1\"            \n",
       "[17] \"t2_2\"             \"t3_1\"             \"t4_1\"             \"t4_2\"            \n",
       "[21] \"t4_3\"             \"t5_1\"             \"t6_1\"             \"t7_1\"            \n",
       "[25] \"t8_1\"             \"t9_1\"             \"t10_1\"            \"t11_1\"           \n",
       "[29] \"t12_1\"            \"NSEC\"             \"area\"             \"elevation\"       \n",
       "[33] \"densidad_hab_km2\""
      ]
     },
     "metadata": {},
     "output_type": "display_data"
    }
   ],
   "source": [
    "# \n",
    "names(data)"
   ]
  },
  {
   "attachments": {},
   "cell_type": "markdown",
   "metadata": {
    "slideshow": {
     "slide_type": "slide"
    }
   },
   "source": [
    "#### Verify decimal point in numeric data is “.”"
   ]
  },
  {
   "attachments": {},
   "cell_type": "markdown",
   "metadata": {},
   "source": [
    "<font color=' #2874a6 '><b>Remarks</b></font>"
   ]
  },
  {
   "attachments": {},
   "cell_type": "markdown",
   "metadata": {},
   "source": [
    "- Se ha comprobado que el símbolo decimal es \".\" ya que es la opción por defecto de `read_csv()`"
   ]
  },
  {
   "attachments": {},
   "cell_type": "markdown",
   "metadata": {},
   "source": [
    "<font color=' #2874a6 '><b>CODE</b></font>"
   ]
  },
  {
   "cell_type": "code",
   "execution_count": 10,
   "metadata": {
    "ExecuteTime": {
     "end_time": "2021-01-27T11:01:34.878544Z",
     "start_time": "2021-01-27T11:01:34.740511Z"
    },
    "slideshow": {
     "slide_type": "subslide"
    },
    "vscode": {
     "languageId": "r"
    }
   },
   "outputs": [],
   "source": [
    "# \n"
   ]
  },
  {
   "attachments": {},
   "cell_type": "markdown",
   "metadata": {
    "slideshow": {
     "slide_type": "slide"
    }
   },
   "source": [
    "### Feature Names\n"
   ]
  },
  {
   "attachments": {},
   "cell_type": "markdown",
   "metadata": {
    "slideshow": {
     "slide_type": "slide"
    }
   },
   "source": [
    "#### Verify names are Simple, Usable and Recognizable "
   ]
  },
  {
   "attachments": {},
   "cell_type": "markdown",
   "metadata": {},
   "source": [
    "<font color=' #2874a6 '><b>Remarks</b></font>"
   ]
  },
  {
   "attachments": {},
   "cell_type": "markdown",
   "metadata": {},
   "source": [
    "- Se ha comprobado que los nombres de columnas son simples, usables y reconocibles\n"
   ]
  },
  {
   "attachments": {},
   "cell_type": "markdown",
   "metadata": {},
   "source": [
    "<font color=' #2874a6 '><b>CODE</b></font>"
   ]
  },
  {
   "attachments": {},
   "cell_type": "markdown",
   "metadata": {},
   "source": [
    "<font color='tomato'>Visualizo el nombre de las columnas (características)</font>"
   ]
  },
  {
   "cell_type": "code",
   "execution_count": 11,
   "metadata": {
    "ExecuteTime": {
     "end_time": "2021-01-27T11:01:34.878544Z",
     "start_time": "2021-01-27T11:01:34.740511Z"
    },
    "slideshow": {
     "slide_type": "subslide"
    },
    "vscode": {
     "languageId": "r"
    }
   },
   "outputs": [
    {
     "data": {
      "text/html": [
       "<style>\n",
       ".list-inline {list-style: none; margin:0; padding: 0}\n",
       ".list-inline>li {display: inline-block}\n",
       ".list-inline>li:not(:last-child)::after {content: \"\\00b7\"; padding: 0 .5ex}\n",
       "</style>\n",
       "<ol class=list-inline><li>'Fecha'</li><li>'Servicio'</li><li>'CMUN'</li><li>'CDIS'</li><li>'CSEC'</li><li>'Futbol'</li><li>'nservicios'</li><li>'capacidad'</li><li>'tmed'</li><li>'prec'</li><li>'velmedia'</li><li>'presMax'</li><li>'ccaa'</li><li>'CPRO'</li><li>'t1_1'</li><li>'t2_1'</li><li>'t2_2'</li><li>'t3_1'</li><li>'t4_1'</li><li>'t4_2'</li><li>'t4_3'</li><li>'t5_1'</li><li>'t6_1'</li><li>'t7_1'</li><li>'t8_1'</li><li>'t9_1'</li><li>'t10_1'</li><li>'t11_1'</li><li>'t12_1'</li><li>'NSEC'</li><li>'area'</li><li>'elevation'</li><li>'densidad_hab_km2'</li></ol>\n"
      ],
      "text/latex": [
       "\\begin{enumerate*}\n",
       "\\item 'Fecha'\n",
       "\\item 'Servicio'\n",
       "\\item 'CMUN'\n",
       "\\item 'CDIS'\n",
       "\\item 'CSEC'\n",
       "\\item 'Futbol'\n",
       "\\item 'nservicios'\n",
       "\\item 'capacidad'\n",
       "\\item 'tmed'\n",
       "\\item 'prec'\n",
       "\\item 'velmedia'\n",
       "\\item 'presMax'\n",
       "\\item 'ccaa'\n",
       "\\item 'CPRO'\n",
       "\\item 't1\\_1'\n",
       "\\item 't2\\_1'\n",
       "\\item 't2\\_2'\n",
       "\\item 't3\\_1'\n",
       "\\item 't4\\_1'\n",
       "\\item 't4\\_2'\n",
       "\\item 't4\\_3'\n",
       "\\item 't5\\_1'\n",
       "\\item 't6\\_1'\n",
       "\\item 't7\\_1'\n",
       "\\item 't8\\_1'\n",
       "\\item 't9\\_1'\n",
       "\\item 't10\\_1'\n",
       "\\item 't11\\_1'\n",
       "\\item 't12\\_1'\n",
       "\\item 'NSEC'\n",
       "\\item 'area'\n",
       "\\item 'elevation'\n",
       "\\item 'densidad\\_hab\\_km2'\n",
       "\\end{enumerate*}\n"
      ],
      "text/markdown": [
       "1. 'Fecha'\n",
       "2. 'Servicio'\n",
       "3. 'CMUN'\n",
       "4. 'CDIS'\n",
       "5. 'CSEC'\n",
       "6. 'Futbol'\n",
       "7. 'nservicios'\n",
       "8. 'capacidad'\n",
       "9. 'tmed'\n",
       "10. 'prec'\n",
       "11. 'velmedia'\n",
       "12. 'presMax'\n",
       "13. 'ccaa'\n",
       "14. 'CPRO'\n",
       "15. 't1_1'\n",
       "16. 't2_1'\n",
       "17. 't2_2'\n",
       "18. 't3_1'\n",
       "19. 't4_1'\n",
       "20. 't4_2'\n",
       "21. 't4_3'\n",
       "22. 't5_1'\n",
       "23. 't6_1'\n",
       "24. 't7_1'\n",
       "25. 't8_1'\n",
       "26. 't9_1'\n",
       "27. 't10_1'\n",
       "28. 't11_1'\n",
       "29. 't12_1'\n",
       "30. 'NSEC'\n",
       "31. 'area'\n",
       "32. 'elevation'\n",
       "33. 'densidad_hab_km2'\n",
       "\n",
       "\n"
      ],
      "text/plain": [
       " [1] \"Fecha\"            \"Servicio\"         \"CMUN\"             \"CDIS\"            \n",
       " [5] \"CSEC\"             \"Futbol\"           \"nservicios\"       \"capacidad\"       \n",
       " [9] \"tmed\"             \"prec\"             \"velmedia\"         \"presMax\"         \n",
       "[13] \"ccaa\"             \"CPRO\"             \"t1_1\"             \"t2_1\"            \n",
       "[17] \"t2_2\"             \"t3_1\"             \"t4_1\"             \"t4_2\"            \n",
       "[21] \"t4_3\"             \"t5_1\"             \"t6_1\"             \"t7_1\"            \n",
       "[25] \"t8_1\"             \"t9_1\"             \"t10_1\"            \"t11_1\"           \n",
       "[29] \"t12_1\"            \"NSEC\"             \"area\"             \"elevation\"       \n",
       "[33] \"densidad_hab_km2\""
      ]
     },
     "metadata": {},
     "output_type": "display_data"
    }
   ],
   "source": [
    "colnames(data)"
   ]
  },
  {
   "attachments": {},
   "cell_type": "markdown",
   "metadata": {},
   "source": [
    "<font color='tomato'>Cambio de nombre a columnas (si es necesario) para mejor uso</font>"
   ]
  },
  {
   "cell_type": "code",
   "execution_count": 12,
   "metadata": {
    "ExecuteTime": {
     "end_time": "2020-12-25T17:59:15.833222Z",
     "start_time": "2020-12-25T17:59:15.701702Z"
    },
    "slideshow": {
     "slide_type": "subslide"
    },
    "vscode": {
     "languageId": "r"
    }
   },
   "outputs": [],
   "source": [
    "# colnames(data) <- c(\"\")"
   ]
  },
  {
   "cell_type": "code",
   "execution_count": 13,
   "metadata": {
    "ExecuteTime": {
     "end_time": "2020-12-25T17:59:15.986986Z",
     "start_time": "2020-12-25T17:59:15.833222Z"
    },
    "slideshow": {
     "slide_type": "subslide"
    },
    "vscode": {
     "languageId": "r"
    }
   },
   "outputs": [
    {
     "data": {
      "text/html": [
       "<style>\n",
       ".list-inline {list-style: none; margin:0; padding: 0}\n",
       ".list-inline>li {display: inline-block}\n",
       ".list-inline>li:not(:last-child)::after {content: \"\\00b7\"; padding: 0 .5ex}\n",
       "</style>\n",
       "<ol class=list-inline><li>'Fecha'</li><li>'Servicio'</li><li>'CMUN'</li><li>'CDIS'</li><li>'CSEC'</li><li>'Futbol'</li><li>'nservicios'</li><li>'capacidad'</li><li>'tmed'</li><li>'prec'</li><li>'velmedia'</li><li>'presMax'</li><li>'ccaa'</li><li>'CPRO'</li><li>'t1_1'</li><li>'t2_1'</li><li>'t2_2'</li><li>'t3_1'</li><li>'t4_1'</li><li>'t4_2'</li><li>'t4_3'</li><li>'t5_1'</li><li>'t6_1'</li><li>'t7_1'</li><li>'t8_1'</li><li>'t9_1'</li><li>'t10_1'</li><li>'t11_1'</li><li>'t12_1'</li><li>'NSEC'</li><li>'area'</li><li>'elevation'</li><li>'densidad_hab_km2'</li></ol>\n"
      ],
      "text/latex": [
       "\\begin{enumerate*}\n",
       "\\item 'Fecha'\n",
       "\\item 'Servicio'\n",
       "\\item 'CMUN'\n",
       "\\item 'CDIS'\n",
       "\\item 'CSEC'\n",
       "\\item 'Futbol'\n",
       "\\item 'nservicios'\n",
       "\\item 'capacidad'\n",
       "\\item 'tmed'\n",
       "\\item 'prec'\n",
       "\\item 'velmedia'\n",
       "\\item 'presMax'\n",
       "\\item 'ccaa'\n",
       "\\item 'CPRO'\n",
       "\\item 't1\\_1'\n",
       "\\item 't2\\_1'\n",
       "\\item 't2\\_2'\n",
       "\\item 't3\\_1'\n",
       "\\item 't4\\_1'\n",
       "\\item 't4\\_2'\n",
       "\\item 't4\\_3'\n",
       "\\item 't5\\_1'\n",
       "\\item 't6\\_1'\n",
       "\\item 't7\\_1'\n",
       "\\item 't8\\_1'\n",
       "\\item 't9\\_1'\n",
       "\\item 't10\\_1'\n",
       "\\item 't11\\_1'\n",
       "\\item 't12\\_1'\n",
       "\\item 'NSEC'\n",
       "\\item 'area'\n",
       "\\item 'elevation'\n",
       "\\item 'densidad\\_hab\\_km2'\n",
       "\\end{enumerate*}\n"
      ],
      "text/markdown": [
       "1. 'Fecha'\n",
       "2. 'Servicio'\n",
       "3. 'CMUN'\n",
       "4. 'CDIS'\n",
       "5. 'CSEC'\n",
       "6. 'Futbol'\n",
       "7. 'nservicios'\n",
       "8. 'capacidad'\n",
       "9. 'tmed'\n",
       "10. 'prec'\n",
       "11. 'velmedia'\n",
       "12. 'presMax'\n",
       "13. 'ccaa'\n",
       "14. 'CPRO'\n",
       "15. 't1_1'\n",
       "16. 't2_1'\n",
       "17. 't2_2'\n",
       "18. 't3_1'\n",
       "19. 't4_1'\n",
       "20. 't4_2'\n",
       "21. 't4_3'\n",
       "22. 't5_1'\n",
       "23. 't6_1'\n",
       "24. 't7_1'\n",
       "25. 't8_1'\n",
       "26. 't9_1'\n",
       "27. 't10_1'\n",
       "28. 't11_1'\n",
       "29. 't12_1'\n",
       "30. 'NSEC'\n",
       "31. 'area'\n",
       "32. 'elevation'\n",
       "33. 'densidad_hab_km2'\n",
       "\n",
       "\n"
      ],
      "text/plain": [
       " [1] \"Fecha\"            \"Servicio\"         \"CMUN\"             \"CDIS\"            \n",
       " [5] \"CSEC\"             \"Futbol\"           \"nservicios\"       \"capacidad\"       \n",
       " [9] \"tmed\"             \"prec\"             \"velmedia\"         \"presMax\"         \n",
       "[13] \"ccaa\"             \"CPRO\"             \"t1_1\"             \"t2_1\"            \n",
       "[17] \"t2_2\"             \"t3_1\"             \"t4_1\"             \"t4_2\"            \n",
       "[21] \"t4_3\"             \"t5_1\"             \"t6_1\"             \"t7_1\"            \n",
       "[25] \"t8_1\"             \"t9_1\"             \"t10_1\"            \"t11_1\"           \n",
       "[29] \"t12_1\"            \"NSEC\"             \"area\"             \"elevation\"       \n",
       "[33] \"densidad_hab_km2\""
      ]
     },
     "metadata": {},
     "output_type": "display_data"
    }
   ],
   "source": [
    "colnames(data)"
   ]
  },
  {
   "attachments": {},
   "cell_type": "markdown",
   "metadata": {
    "slideshow": {
     "slide_type": "slide"
    }
   },
   "source": [
    "#### Rename Target column name=”Target” and always will be the last column "
   ]
  },
  {
   "attachments": {},
   "cell_type": "markdown",
   "metadata": {},
   "source": [
    "<font color=' #2874a6 '><b>Remarks</b></font>"
   ]
  },
  {
   "attachments": {},
   "cell_type": "markdown",
   "metadata": {},
   "source": [
    "- La columna a predecir o estimar sería xxx\n",
    "- No procede ya que no es necesario para aplicar los modelos previstos\n"
   ]
  },
  {
   "attachments": {},
   "cell_type": "markdown",
   "metadata": {},
   "source": [
    "<font color=' #2874a6 '><b>CODE</b></font>"
   ]
  },
  {
   "cell_type": "code",
   "execution_count": 14,
   "metadata": {
    "ExecuteTime": {
     "end_time": "2021-01-27T11:01:34.878544Z",
     "start_time": "2021-01-27T11:01:34.740511Z"
    },
    "slideshow": {
     "slide_type": "subslide"
    },
    "vscode": {
     "languageId": "r"
    }
   },
   "outputs": [],
   "source": [
    "# \n"
   ]
  },
  {
   "attachments": {},
   "cell_type": "markdown",
   "metadata": {
    "slideshow": {
     "slide_type": "slide"
    }
   },
   "source": [
    "#### Verify column names are the first row of csv file "
   ]
  },
  {
   "attachments": {},
   "cell_type": "markdown",
   "metadata": {},
   "source": [
    "<font color=' #2874a6 '><b>Remarks</b></font>"
   ]
  },
  {
   "attachments": {},
   "cell_type": "markdown",
   "metadata": {},
   "source": [
    "- Se ha comprobado que la primera fila del archivo son los nombres de columna, ya que es la opción por defecto de `read_csv()`"
   ]
  },
  {
   "attachments": {},
   "cell_type": "markdown",
   "metadata": {},
   "source": [
    "<font color=' #2874a6 '><b>CODE</b></font>"
   ]
  },
  {
   "cell_type": "code",
   "execution_count": 15,
   "metadata": {
    "ExecuteTime": {
     "end_time": "2021-01-27T11:01:34.878544Z",
     "start_time": "2021-01-27T11:01:34.740511Z"
    },
    "slideshow": {
     "slide_type": "subslide"
    },
    "vscode": {
     "languageId": "r"
    }
   },
   "outputs": [],
   "source": [
    "# \n"
   ]
  },
  {
   "attachments": {},
   "cell_type": "markdown",
   "metadata": {
    "slideshow": {
     "slide_type": "slide"
    }
   },
   "source": [
    "#### Remove spaces and others characters in the column names "
   ]
  },
  {
   "attachments": {},
   "cell_type": "markdown",
   "metadata": {},
   "source": [
    "<font color=' #2874a6 '><b>Remarks</b></font>"
   ]
  },
  {
   "attachments": {},
   "cell_type": "markdown",
   "metadata": {},
   "source": [
    "- Se ha comprobado que los nombres de columna solo tienen caracteres ascii y no tienen espacios"
   ]
  },
  {
   "attachments": {},
   "cell_type": "markdown",
   "metadata": {},
   "source": [
    "<font color=' #2874a6 '><b>CODE</b></font>"
   ]
  },
  {
   "attachments": {},
   "cell_type": "markdown",
   "metadata": {},
   "source": [
    "<font color='tomato'>Visualizo el nombre de las columnas (características)</font>"
   ]
  },
  {
   "cell_type": "code",
   "execution_count": 16,
   "metadata": {
    "ExecuteTime": {
     "end_time": "2021-01-27T11:01:34.878544Z",
     "start_time": "2021-01-27T11:01:34.740511Z"
    },
    "slideshow": {
     "slide_type": "subslide"
    },
    "vscode": {
     "languageId": "r"
    }
   },
   "outputs": [
    {
     "data": {
      "text/html": [
       "<style>\n",
       ".list-inline {list-style: none; margin:0; padding: 0}\n",
       ".list-inline>li {display: inline-block}\n",
       ".list-inline>li:not(:last-child)::after {content: \"\\00b7\"; padding: 0 .5ex}\n",
       "</style>\n",
       "<ol class=list-inline><li>'Fecha'</li><li>'Servicio'</li><li>'CMUN'</li><li>'CDIS'</li><li>'CSEC'</li><li>'Futbol'</li><li>'nservicios'</li><li>'capacidad'</li><li>'tmed'</li><li>'prec'</li><li>'velmedia'</li><li>'presMax'</li><li>'ccaa'</li><li>'CPRO'</li><li>'t1_1'</li><li>'t2_1'</li><li>'t2_2'</li><li>'t3_1'</li><li>'t4_1'</li><li>'t4_2'</li><li>'t4_3'</li><li>'t5_1'</li><li>'t6_1'</li><li>'t7_1'</li><li>'t8_1'</li><li>'t9_1'</li><li>'t10_1'</li><li>'t11_1'</li><li>'t12_1'</li><li>'NSEC'</li><li>'area'</li><li>'elevation'</li><li>'densidad_hab_km2'</li></ol>\n"
      ],
      "text/latex": [
       "\\begin{enumerate*}\n",
       "\\item 'Fecha'\n",
       "\\item 'Servicio'\n",
       "\\item 'CMUN'\n",
       "\\item 'CDIS'\n",
       "\\item 'CSEC'\n",
       "\\item 'Futbol'\n",
       "\\item 'nservicios'\n",
       "\\item 'capacidad'\n",
       "\\item 'tmed'\n",
       "\\item 'prec'\n",
       "\\item 'velmedia'\n",
       "\\item 'presMax'\n",
       "\\item 'ccaa'\n",
       "\\item 'CPRO'\n",
       "\\item 't1\\_1'\n",
       "\\item 't2\\_1'\n",
       "\\item 't2\\_2'\n",
       "\\item 't3\\_1'\n",
       "\\item 't4\\_1'\n",
       "\\item 't4\\_2'\n",
       "\\item 't4\\_3'\n",
       "\\item 't5\\_1'\n",
       "\\item 't6\\_1'\n",
       "\\item 't7\\_1'\n",
       "\\item 't8\\_1'\n",
       "\\item 't9\\_1'\n",
       "\\item 't10\\_1'\n",
       "\\item 't11\\_1'\n",
       "\\item 't12\\_1'\n",
       "\\item 'NSEC'\n",
       "\\item 'area'\n",
       "\\item 'elevation'\n",
       "\\item 'densidad\\_hab\\_km2'\n",
       "\\end{enumerate*}\n"
      ],
      "text/markdown": [
       "1. 'Fecha'\n",
       "2. 'Servicio'\n",
       "3. 'CMUN'\n",
       "4. 'CDIS'\n",
       "5. 'CSEC'\n",
       "6. 'Futbol'\n",
       "7. 'nservicios'\n",
       "8. 'capacidad'\n",
       "9. 'tmed'\n",
       "10. 'prec'\n",
       "11. 'velmedia'\n",
       "12. 'presMax'\n",
       "13. 'ccaa'\n",
       "14. 'CPRO'\n",
       "15. 't1_1'\n",
       "16. 't2_1'\n",
       "17. 't2_2'\n",
       "18. 't3_1'\n",
       "19. 't4_1'\n",
       "20. 't4_2'\n",
       "21. 't4_3'\n",
       "22. 't5_1'\n",
       "23. 't6_1'\n",
       "24. 't7_1'\n",
       "25. 't8_1'\n",
       "26. 't9_1'\n",
       "27. 't10_1'\n",
       "28. 't11_1'\n",
       "29. 't12_1'\n",
       "30. 'NSEC'\n",
       "31. 'area'\n",
       "32. 'elevation'\n",
       "33. 'densidad_hab_km2'\n",
       "\n",
       "\n"
      ],
      "text/plain": [
       " [1] \"Fecha\"            \"Servicio\"         \"CMUN\"             \"CDIS\"            \n",
       " [5] \"CSEC\"             \"Futbol\"           \"nservicios\"       \"capacidad\"       \n",
       " [9] \"tmed\"             \"prec\"             \"velmedia\"         \"presMax\"         \n",
       "[13] \"ccaa\"             \"CPRO\"             \"t1_1\"             \"t2_1\"            \n",
       "[17] \"t2_2\"             \"t3_1\"             \"t4_1\"             \"t4_2\"            \n",
       "[21] \"t4_3\"             \"t5_1\"             \"t6_1\"             \"t7_1\"            \n",
       "[25] \"t8_1\"             \"t9_1\"             \"t10_1\"            \"t11_1\"           \n",
       "[29] \"t12_1\"            \"NSEC\"             \"area\"             \"elevation\"       \n",
       "[33] \"densidad_hab_km2\""
      ]
     },
     "metadata": {},
     "output_type": "display_data"
    }
   ],
   "source": [
    "# Columns names\n",
    "colnames(data)"
   ]
  },
  {
   "attachments": {},
   "cell_type": "markdown",
   "metadata": {},
   "source": [
    "<font color='tomato'>Cambio espacio por '_' en nombres</font> (si procede)"
   ]
  },
  {
   "cell_type": "code",
   "execution_count": 17,
   "metadata": {
    "ExecuteTime": {
     "end_time": "2020-12-25T17:59:15.833222Z",
     "start_time": "2020-12-25T17:59:15.701702Z"
    },
    "slideshow": {
     "slide_type": "subslide"
    },
    "vscode": {
     "languageId": "r"
    }
   },
   "outputs": [],
   "source": [
    "# colnames(data) <- str_replace_all(colnames(data), \" \", \"_\")"
   ]
  },
  {
   "cell_type": "code",
   "execution_count": 18,
   "metadata": {
    "ExecuteTime": {
     "end_time": "2020-12-25T17:59:15.986986Z",
     "start_time": "2020-12-25T17:59:15.833222Z"
    },
    "slideshow": {
     "slide_type": "subslide"
    },
    "vscode": {
     "languageId": "r"
    }
   },
   "outputs": [
    {
     "data": {
      "text/html": [
       "<style>\n",
       ".list-inline {list-style: none; margin:0; padding: 0}\n",
       ".list-inline>li {display: inline-block}\n",
       ".list-inline>li:not(:last-child)::after {content: \"\\00b7\"; padding: 0 .5ex}\n",
       "</style>\n",
       "<ol class=list-inline><li>'Fecha'</li><li>'Servicio'</li><li>'CMUN'</li><li>'CDIS'</li><li>'CSEC'</li><li>'Futbol'</li><li>'nservicios'</li><li>'capacidad'</li><li>'tmed'</li><li>'prec'</li><li>'velmedia'</li><li>'presMax'</li><li>'ccaa'</li><li>'CPRO'</li><li>'t1_1'</li><li>'t2_1'</li><li>'t2_2'</li><li>'t3_1'</li><li>'t4_1'</li><li>'t4_2'</li><li>'t4_3'</li><li>'t5_1'</li><li>'t6_1'</li><li>'t7_1'</li><li>'t8_1'</li><li>'t9_1'</li><li>'t10_1'</li><li>'t11_1'</li><li>'t12_1'</li><li>'NSEC'</li><li>'area'</li><li>'elevation'</li><li>'densidad_hab_km2'</li></ol>\n"
      ],
      "text/latex": [
       "\\begin{enumerate*}\n",
       "\\item 'Fecha'\n",
       "\\item 'Servicio'\n",
       "\\item 'CMUN'\n",
       "\\item 'CDIS'\n",
       "\\item 'CSEC'\n",
       "\\item 'Futbol'\n",
       "\\item 'nservicios'\n",
       "\\item 'capacidad'\n",
       "\\item 'tmed'\n",
       "\\item 'prec'\n",
       "\\item 'velmedia'\n",
       "\\item 'presMax'\n",
       "\\item 'ccaa'\n",
       "\\item 'CPRO'\n",
       "\\item 't1\\_1'\n",
       "\\item 't2\\_1'\n",
       "\\item 't2\\_2'\n",
       "\\item 't3\\_1'\n",
       "\\item 't4\\_1'\n",
       "\\item 't4\\_2'\n",
       "\\item 't4\\_3'\n",
       "\\item 't5\\_1'\n",
       "\\item 't6\\_1'\n",
       "\\item 't7\\_1'\n",
       "\\item 't8\\_1'\n",
       "\\item 't9\\_1'\n",
       "\\item 't10\\_1'\n",
       "\\item 't11\\_1'\n",
       "\\item 't12\\_1'\n",
       "\\item 'NSEC'\n",
       "\\item 'area'\n",
       "\\item 'elevation'\n",
       "\\item 'densidad\\_hab\\_km2'\n",
       "\\end{enumerate*}\n"
      ],
      "text/markdown": [
       "1. 'Fecha'\n",
       "2. 'Servicio'\n",
       "3. 'CMUN'\n",
       "4. 'CDIS'\n",
       "5. 'CSEC'\n",
       "6. 'Futbol'\n",
       "7. 'nservicios'\n",
       "8. 'capacidad'\n",
       "9. 'tmed'\n",
       "10. 'prec'\n",
       "11. 'velmedia'\n",
       "12. 'presMax'\n",
       "13. 'ccaa'\n",
       "14. 'CPRO'\n",
       "15. 't1_1'\n",
       "16. 't2_1'\n",
       "17. 't2_2'\n",
       "18. 't3_1'\n",
       "19. 't4_1'\n",
       "20. 't4_2'\n",
       "21. 't4_3'\n",
       "22. 't5_1'\n",
       "23. 't6_1'\n",
       "24. 't7_1'\n",
       "25. 't8_1'\n",
       "26. 't9_1'\n",
       "27. 't10_1'\n",
       "28. 't11_1'\n",
       "29. 't12_1'\n",
       "30. 'NSEC'\n",
       "31. 'area'\n",
       "32. 'elevation'\n",
       "33. 'densidad_hab_km2'\n",
       "\n",
       "\n"
      ],
      "text/plain": [
       " [1] \"Fecha\"            \"Servicio\"         \"CMUN\"             \"CDIS\"            \n",
       " [5] \"CSEC\"             \"Futbol\"           \"nservicios\"       \"capacidad\"       \n",
       " [9] \"tmed\"             \"prec\"             \"velmedia\"         \"presMax\"         \n",
       "[13] \"ccaa\"             \"CPRO\"             \"t1_1\"             \"t2_1\"            \n",
       "[17] \"t2_2\"             \"t3_1\"             \"t4_1\"             \"t4_2\"            \n",
       "[21] \"t4_3\"             \"t5_1\"             \"t6_1\"             \"t7_1\"            \n",
       "[25] \"t8_1\"             \"t9_1\"             \"t10_1\"            \"t11_1\"           \n",
       "[29] \"t12_1\"            \"NSEC\"             \"area\"             \"elevation\"       \n",
       "[33] \"densidad_hab_km2\""
      ]
     },
     "metadata": {},
     "output_type": "display_data"
    }
   ],
   "source": [
    "colnames(data)"
   ]
  },
  {
   "attachments": {},
   "cell_type": "markdown",
   "metadata": {
    "slideshow": {
     "slide_type": "slide"
    }
   },
   "source": [
    "### Data Types\n"
   ]
  },
  {
   "attachments": {},
   "cell_type": "markdown",
   "metadata": {
    "slideshow": {
     "slide_type": "slide"
    }
   },
   "source": [
    "#### Verify data types "
   ]
  },
  {
   "attachments": {},
   "cell_type": "markdown",
   "metadata": {},
   "source": [
    "<font color=' #2874a6 '><b>Remarks</b></font>"
   ]
  },
  {
   "attachments": {},
   "cell_type": "markdown",
   "metadata": {},
   "source": [
    "- Se ha comprobado el tipo de datos adecuados al importar los datos con `read_csv()`\n"
   ]
  },
  {
   "attachments": {},
   "cell_type": "markdown",
   "metadata": {},
   "source": [
    "<font color=' #2874a6 '><b>CODE</b></font>"
   ]
  },
  {
   "attachments": {},
   "cell_type": "markdown",
   "metadata": {},
   "source": [
    "<font color='tomato'>Visualizo el tipo de las columnas (características)</font>"
   ]
  },
  {
   "cell_type": "code",
   "execution_count": 19,
   "metadata": {
    "ExecuteTime": {
     "end_time": "2021-01-27T11:01:34.878544Z",
     "start_time": "2021-01-27T11:01:34.740511Z"
    },
    "slideshow": {
     "slide_type": "subslide"
    },
    "vscode": {
     "languageId": "r"
    }
   },
   "outputs": [
    {
     "data": {
      "text/html": [
       "<style>\n",
       ".dl-inline {width: auto; margin:0; padding: 0}\n",
       ".dl-inline>dt, .dl-inline>dd {float: none; width: auto; display: inline-block}\n",
       ".dl-inline>dt::after {content: \":\\0020\"; padding-right: .5ex}\n",
       ".dl-inline>dt:not(:first-of-type) {padding-left: .5ex}\n",
       "</style><dl class=dl-inline><dt>Fecha</dt><dd>'Date'</dd><dt>Servicio</dt><dd>'character'</dd><dt>CMUN</dt><dd>'character'</dd><dt>CDIS</dt><dd>'character'</dd><dt>CSEC</dt><dd>'character'</dd><dt>Futbol</dt><dd>'numeric'</dd><dt>nservicios</dt><dd>'numeric'</dd><dt>capacidad</dt><dd>'numeric'</dd><dt>tmed</dt><dd>'numeric'</dd><dt>prec</dt><dd>'numeric'</dd><dt>velmedia</dt><dd>'numeric'</dd><dt>presMax</dt><dd>'numeric'</dd><dt>ccaa</dt><dd>'numeric'</dd><dt>CPRO</dt><dd>'numeric'</dd><dt>t1_1</dt><dd>'numeric'</dd><dt>t2_1</dt><dd>'numeric'</dd><dt>t2_2</dt><dd>'numeric'</dd><dt>t3_1</dt><dd>'numeric'</dd><dt>t4_1</dt><dd>'numeric'</dd><dt>t4_2</dt><dd>'numeric'</dd><dt>t4_3</dt><dd>'numeric'</dd><dt>t5_1</dt><dd>'numeric'</dd><dt>t6_1</dt><dd>'numeric'</dd><dt>t7_1</dt><dd>'numeric'</dd><dt>t8_1</dt><dd>'numeric'</dd><dt>t9_1</dt><dd>'numeric'</dd><dt>t10_1</dt><dd>'numeric'</dd><dt>t11_1</dt><dd>'numeric'</dd><dt>t12_1</dt><dd>'numeric'</dd><dt>NSEC</dt><dd>'character'</dd><dt>area</dt><dd>'numeric'</dd><dt>elevation</dt><dd>'numeric'</dd><dt>densidad_hab_km2</dt><dd>'numeric'</dd></dl>\n"
      ],
      "text/latex": [
       "\\begin{description*}\n",
       "\\item[Fecha] 'Date'\n",
       "\\item[Servicio] 'character'\n",
       "\\item[CMUN] 'character'\n",
       "\\item[CDIS] 'character'\n",
       "\\item[CSEC] 'character'\n",
       "\\item[Futbol] 'numeric'\n",
       "\\item[nservicios] 'numeric'\n",
       "\\item[capacidad] 'numeric'\n",
       "\\item[tmed] 'numeric'\n",
       "\\item[prec] 'numeric'\n",
       "\\item[velmedia] 'numeric'\n",
       "\\item[presMax] 'numeric'\n",
       "\\item[ccaa] 'numeric'\n",
       "\\item[CPRO] 'numeric'\n",
       "\\item[t1\\textbackslash{}\\_1] 'numeric'\n",
       "\\item[t2\\textbackslash{}\\_1] 'numeric'\n",
       "\\item[t2\\textbackslash{}\\_2] 'numeric'\n",
       "\\item[t3\\textbackslash{}\\_1] 'numeric'\n",
       "\\item[t4\\textbackslash{}\\_1] 'numeric'\n",
       "\\item[t4\\textbackslash{}\\_2] 'numeric'\n",
       "\\item[t4\\textbackslash{}\\_3] 'numeric'\n",
       "\\item[t5\\textbackslash{}\\_1] 'numeric'\n",
       "\\item[t6\\textbackslash{}\\_1] 'numeric'\n",
       "\\item[t7\\textbackslash{}\\_1] 'numeric'\n",
       "\\item[t8\\textbackslash{}\\_1] 'numeric'\n",
       "\\item[t9\\textbackslash{}\\_1] 'numeric'\n",
       "\\item[t10\\textbackslash{}\\_1] 'numeric'\n",
       "\\item[t11\\textbackslash{}\\_1] 'numeric'\n",
       "\\item[t12\\textbackslash{}\\_1] 'numeric'\n",
       "\\item[NSEC] 'character'\n",
       "\\item[area] 'numeric'\n",
       "\\item[elevation] 'numeric'\n",
       "\\item[densidad\\textbackslash{}\\_hab\\textbackslash{}\\_km2] 'numeric'\n",
       "\\end{description*}\n"
      ],
      "text/markdown": [
       "Fecha\n",
       ":   'Date'Servicio\n",
       ":   'character'CMUN\n",
       ":   'character'CDIS\n",
       ":   'character'CSEC\n",
       ":   'character'Futbol\n",
       ":   'numeric'nservicios\n",
       ":   'numeric'capacidad\n",
       ":   'numeric'tmed\n",
       ":   'numeric'prec\n",
       ":   'numeric'velmedia\n",
       ":   'numeric'presMax\n",
       ":   'numeric'ccaa\n",
       ":   'numeric'CPRO\n",
       ":   'numeric't1_1\n",
       ":   'numeric't2_1\n",
       ":   'numeric't2_2\n",
       ":   'numeric't3_1\n",
       ":   'numeric't4_1\n",
       ":   'numeric't4_2\n",
       ":   'numeric't4_3\n",
       ":   'numeric't5_1\n",
       ":   'numeric't6_1\n",
       ":   'numeric't7_1\n",
       ":   'numeric't8_1\n",
       ":   'numeric't9_1\n",
       ":   'numeric't10_1\n",
       ":   'numeric't11_1\n",
       ":   'numeric't12_1\n",
       ":   'numeric'NSEC\n",
       ":   'character'area\n",
       ":   'numeric'elevation\n",
       ":   'numeric'densidad_hab_km2\n",
       ":   'numeric'\n",
       "\n"
      ],
      "text/plain": [
       "           Fecha         Servicio             CMUN             CDIS \n",
       "          \"Date\"      \"character\"      \"character\"      \"character\" \n",
       "            CSEC           Futbol       nservicios        capacidad \n",
       "     \"character\"        \"numeric\"        \"numeric\"        \"numeric\" \n",
       "            tmed             prec         velmedia          presMax \n",
       "       \"numeric\"        \"numeric\"        \"numeric\"        \"numeric\" \n",
       "            ccaa             CPRO             t1_1             t2_1 \n",
       "       \"numeric\"        \"numeric\"        \"numeric\"        \"numeric\" \n",
       "            t2_2             t3_1             t4_1             t4_2 \n",
       "       \"numeric\"        \"numeric\"        \"numeric\"        \"numeric\" \n",
       "            t4_3             t5_1             t6_1             t7_1 \n",
       "       \"numeric\"        \"numeric\"        \"numeric\"        \"numeric\" \n",
       "            t8_1             t9_1            t10_1            t11_1 \n",
       "       \"numeric\"        \"numeric\"        \"numeric\"        \"numeric\" \n",
       "           t12_1             NSEC             area        elevation \n",
       "       \"numeric\"      \"character\"        \"numeric\"        \"numeric\" \n",
       "densidad_hab_km2 \n",
       "       \"numeric\" "
      ]
     },
     "metadata": {},
     "output_type": "display_data"
    },
    {
     "name": "stdout",
     "output_type": "stream",
     "text": [
      "Rows: 274,792\n",
      "Columns: 33\n",
      "$ Fecha            \u001b[3m\u001b[90m<date>\u001b[39m\u001b[23m 2022-01-01, 2022-01-01, 2022-01-01, 2022-01-01, 2022…\n",
      "$ Servicio         \u001b[3m\u001b[90m<chr>\u001b[39m\u001b[23m \"Taxi\", \"Taxi\", \"Taxi\", \"Taxi\", \"Taxi\", \"Taxi\", \"Taxi…\n",
      "$ CMUN             \u001b[3m\u001b[90m<chr>\u001b[39m\u001b[23m \"001\", \"002\", \"002\", \"003\", \"004\", \"004\", \"004\", \"004…\n",
      "$ CDIS             \u001b[3m\u001b[90m<chr>\u001b[39m\u001b[23m \"01\", \"01\", \"01\", \"01\", \"01\", \"01\", \"01\", \"01\", \"01\",…\n",
      "$ CSEC             \u001b[3m\u001b[90m<chr>\u001b[39m\u001b[23m \"001\", \"001\", \"002\", \"001\", \"001\", \"002\", \"003\", \"004…\n",
      "$ Futbol           \u001b[3m\u001b[90m<dbl>\u001b[39m\u001b[23m 0, 0, 0, 1, 0, 1, 1, 0, 0, 0, 0, 0, 0, 0, 0, 0, 0, 1,…\n",
      "$ nservicios       \u001b[3m\u001b[90m<dbl>\u001b[39m\u001b[23m 0, 0, 0, 50, 0, 50, 50, 0, 2, 0, 0, 7, 0, 1, 4, 7, 10…\n",
      "$ capacidad        \u001b[3m\u001b[90m<dbl>\u001b[39m\u001b[23m 50, 50, 50, 50, 50, 50, 50, 50, 65, 65, 65, 65, 65, 6…\n",
      "$ tmed             \u001b[3m\u001b[90m<dbl>\u001b[39m\u001b[23m 9.472965, 8.170448, 8.526402, 10.012282, 10.574368, 1…\n",
      "$ prec             \u001b[3m\u001b[90m<dbl>\u001b[39m\u001b[23m 0, 0, 0, 0, 0, 0, 0, 0, 0, 0, 0, 0, 0, 0, 0, 0, 0, 0,…\n",
      "$ velmedia         \u001b[3m\u001b[90m<dbl>\u001b[39m\u001b[23m 0.8229741, 0.9750191, 0.8874318, 2.3162929, 0.6970652…\n",
      "$ presMax          \u001b[3m\u001b[90m<dbl>\u001b[39m\u001b[23m 901.6717, 970.1249, 967.2948, 849.5611, 964.2144, 965…\n",
      "$ ccaa             \u001b[3m\u001b[90m<dbl>\u001b[39m\u001b[23m 13, 13, 13, 13, 13, 13, 13, 13, 13, 13, 13, 13, 13, 1…\n",
      "$ CPRO             \u001b[3m\u001b[90m<dbl>\u001b[39m\u001b[23m 28, 28, 28, 28, 28, 28, 28, 28, 28, 28, 28, 28, 28, 2…\n",
      "$ t1_1             \u001b[3m\u001b[90m<dbl>\u001b[39m\u001b[23m 55, 2358, 2435, 248, 2886, 3376, 2161, 1523, 1648, 10…\n",
      "$ t2_1             \u001b[3m\u001b[90m<dbl>\u001b[39m\u001b[23m NA, 0.4724, 0.4830, 0.3952, 0.5135, 0.4793, 0.5016, 0…\n",
      "$ t2_2             \u001b[3m\u001b[90m<dbl>\u001b[39m\u001b[23m NA, 0.5276, 0.5170, 0.6048, 0.4865, 0.5207, 0.4984, 0…\n",
      "$ t3_1             \u001b[3m\u001b[90m<dbl>\u001b[39m\u001b[23m NA, 40.5161, 38.3339, 47.4597, 44.4099, 40.6810, 38.0…\n",
      "$ t4_1             \u001b[3m\u001b[90m<dbl>\u001b[39m\u001b[23m NA, 0.1425, 0.1959, 0.1371, 0.1611, 0.1739, 0.2230, 0…\n",
      "$ t4_2             \u001b[3m\u001b[90m<dbl>\u001b[39m\u001b[23m NA, 0.7443, 0.7002, 0.6573, 0.6067, 0.6727, 0.6395, 0…\n",
      "$ t4_3             \u001b[3m\u001b[90m<dbl>\u001b[39m\u001b[23m NA, 0.1132, 0.1039, 0.2056, 0.2322, 0.1534, 0.1374, 0…\n",
      "$ t5_1             \u001b[3m\u001b[90m<dbl>\u001b[39m\u001b[23m NA, 0.1569, 0.1544, 0.1129, 0.1639, 0.1440, 0.1749, 0…\n",
      "$ t6_1             \u001b[3m\u001b[90m<dbl>\u001b[39m\u001b[23m NA, 0.1968, 0.1951, 0.1411, 0.2128, 0.1730, 0.2138, 0…\n",
      "$ t7_1             \u001b[3m\u001b[90m<dbl>\u001b[39m\u001b[23m NA, 0.4016, 0.4244, 0.1542, 0.1470, 0.1596, 0.1668, 0…\n",
      "$ t8_1             \u001b[3m\u001b[90m<dbl>\u001b[39m\u001b[23m NA, 0.3971, 0.4224, 0.1449, 0.1409, 0.1506, 0.1602, 0…\n",
      "$ t9_1             \u001b[3m\u001b[90m<dbl>\u001b[39m\u001b[23m NA, 0.4377, 0.4438, 0.5280, 0.2602, 0.3234, 0.2859, 0…\n",
      "$ t10_1            \u001b[3m\u001b[90m<dbl>\u001b[39m\u001b[23m NA, 0.0912, 0.1226, 0.0932, 0.1814, 0.1478, 0.1658, 0…\n",
      "$ t11_1            \u001b[3m\u001b[90m<dbl>\u001b[39m\u001b[23m NA, 0.6063, 0.5955, 0.5000, 0.4213, 0.5170, 0.4943, 0…\n",
      "$ t12_1            \u001b[3m\u001b[90m<dbl>\u001b[39m\u001b[23m NA, 0.6672, 0.6788, 0.5514, 0.5147, 0.6067, 0.5926, 0…\n",
      "$ NSEC             \u001b[3m\u001b[90m<chr>\u001b[39m\u001b[23m \"Acebeda, La - 01.001\", \"Ajalvir - 01.001\", \"Ajalvir …\n",
      "$ area             \u001b[3m\u001b[90m<dbl>\u001b[39m\u001b[23m 21848790.60, 15585050.39, 4148273.41, 25674490.85, 50…\n",
      "$ elevation        \u001b[3m\u001b[90m<dbl>\u001b[39m\u001b[23m 1401, 653, 715, 1150, 593, 604, 587, 570, 594, 594, 5…\n",
      "$ densidad_hab_km2 \u001b[3m\u001b[90m<dbl>\u001b[39m\u001b[23m 2.517302, 151.298837, 586.991204, 9.659393, 571.86106…\n"
     ]
    }
   ],
   "source": [
    "sapply(data, class)\n",
    "glimpse(data)"
   ]
  },
  {
   "attachments": {},
   "cell_type": "markdown",
   "metadata": {
    "slideshow": {
     "slide_type": "slide"
    }
   },
   "source": [
    "#### Change data types "
   ]
  },
  {
   "attachments": {},
   "cell_type": "markdown",
   "metadata": {},
   "source": [
    "<font color=' #2874a6 '><b>Remarks</b></font>"
   ]
  },
  {
   "attachments": {},
   "cell_type": "markdown",
   "metadata": {},
   "source": [
    "- No aplica"
   ]
  },
  {
   "attachments": {},
   "cell_type": "markdown",
   "metadata": {},
   "source": [
    "<font color=' #2874a6 '><b>CODE</b></font>"
   ]
  },
  {
   "cell_type": "code",
   "execution_count": 20,
   "metadata": {
    "ExecuteTime": {
     "end_time": "2021-01-27T11:01:34.878544Z",
     "start_time": "2021-01-27T11:01:34.740511Z"
    },
    "scrolled": true,
    "slideshow": {
     "slide_type": "subslide"
    },
    "vscode": {
     "languageId": "r"
    }
   },
   "outputs": [],
   "source": [
    "# Changing column types\n",
    "# data$xx <- as.xx(data$xx)"
   ]
  },
  {
   "attachments": {},
   "cell_type": "markdown",
   "metadata": {
    "slideshow": {
     "slide_type": "slide"
    }
   },
   "source": [
    "#### Verify that object type is changed "
   ]
  },
  {
   "attachments": {},
   "cell_type": "markdown",
   "metadata": {},
   "source": [
    "<font color=' #2874a6 '><b>Remarks</b></font>"
   ]
  },
  {
   "attachments": {},
   "cell_type": "markdown",
   "metadata": {},
   "source": [
    "- No aplica\n"
   ]
  },
  {
   "attachments": {},
   "cell_type": "markdown",
   "metadata": {},
   "source": [
    "<font color=' #2874a6 '><b>CODE</b></font>"
   ]
  },
  {
   "cell_type": "code",
   "execution_count": 21,
   "metadata": {
    "vscode": {
     "languageId": "r"
    }
   },
   "outputs": [
    {
     "data": {
      "text/html": [
       "<style>\n",
       ".dl-inline {width: auto; margin:0; padding: 0}\n",
       ".dl-inline>dt, .dl-inline>dd {float: none; width: auto; display: inline-block}\n",
       ".dl-inline>dt::after {content: \":\\0020\"; padding-right: .5ex}\n",
       ".dl-inline>dt:not(:first-of-type) {padding-left: .5ex}\n",
       "</style><dl class=dl-inline><dt>Fecha</dt><dd>'Date'</dd><dt>Servicio</dt><dd>'character'</dd><dt>CMUN</dt><dd>'character'</dd><dt>CDIS</dt><dd>'character'</dd><dt>CSEC</dt><dd>'character'</dd><dt>Futbol</dt><dd>'numeric'</dd><dt>nservicios</dt><dd>'numeric'</dd><dt>capacidad</dt><dd>'numeric'</dd><dt>tmed</dt><dd>'numeric'</dd><dt>prec</dt><dd>'numeric'</dd><dt>velmedia</dt><dd>'numeric'</dd><dt>presMax</dt><dd>'numeric'</dd><dt>ccaa</dt><dd>'numeric'</dd><dt>CPRO</dt><dd>'numeric'</dd><dt>t1_1</dt><dd>'numeric'</dd><dt>t2_1</dt><dd>'numeric'</dd><dt>t2_2</dt><dd>'numeric'</dd><dt>t3_1</dt><dd>'numeric'</dd><dt>t4_1</dt><dd>'numeric'</dd><dt>t4_2</dt><dd>'numeric'</dd><dt>t4_3</dt><dd>'numeric'</dd><dt>t5_1</dt><dd>'numeric'</dd><dt>t6_1</dt><dd>'numeric'</dd><dt>t7_1</dt><dd>'numeric'</dd><dt>t8_1</dt><dd>'numeric'</dd><dt>t9_1</dt><dd>'numeric'</dd><dt>t10_1</dt><dd>'numeric'</dd><dt>t11_1</dt><dd>'numeric'</dd><dt>t12_1</dt><dd>'numeric'</dd><dt>NSEC</dt><dd>'character'</dd><dt>area</dt><dd>'numeric'</dd><dt>elevation</dt><dd>'numeric'</dd><dt>densidad_hab_km2</dt><dd>'numeric'</dd></dl>\n"
      ],
      "text/latex": [
       "\\begin{description*}\n",
       "\\item[Fecha] 'Date'\n",
       "\\item[Servicio] 'character'\n",
       "\\item[CMUN] 'character'\n",
       "\\item[CDIS] 'character'\n",
       "\\item[CSEC] 'character'\n",
       "\\item[Futbol] 'numeric'\n",
       "\\item[nservicios] 'numeric'\n",
       "\\item[capacidad] 'numeric'\n",
       "\\item[tmed] 'numeric'\n",
       "\\item[prec] 'numeric'\n",
       "\\item[velmedia] 'numeric'\n",
       "\\item[presMax] 'numeric'\n",
       "\\item[ccaa] 'numeric'\n",
       "\\item[CPRO] 'numeric'\n",
       "\\item[t1\\textbackslash{}\\_1] 'numeric'\n",
       "\\item[t2\\textbackslash{}\\_1] 'numeric'\n",
       "\\item[t2\\textbackslash{}\\_2] 'numeric'\n",
       "\\item[t3\\textbackslash{}\\_1] 'numeric'\n",
       "\\item[t4\\textbackslash{}\\_1] 'numeric'\n",
       "\\item[t4\\textbackslash{}\\_2] 'numeric'\n",
       "\\item[t4\\textbackslash{}\\_3] 'numeric'\n",
       "\\item[t5\\textbackslash{}\\_1] 'numeric'\n",
       "\\item[t6\\textbackslash{}\\_1] 'numeric'\n",
       "\\item[t7\\textbackslash{}\\_1] 'numeric'\n",
       "\\item[t8\\textbackslash{}\\_1] 'numeric'\n",
       "\\item[t9\\textbackslash{}\\_1] 'numeric'\n",
       "\\item[t10\\textbackslash{}\\_1] 'numeric'\n",
       "\\item[t11\\textbackslash{}\\_1] 'numeric'\n",
       "\\item[t12\\textbackslash{}\\_1] 'numeric'\n",
       "\\item[NSEC] 'character'\n",
       "\\item[area] 'numeric'\n",
       "\\item[elevation] 'numeric'\n",
       "\\item[densidad\\textbackslash{}\\_hab\\textbackslash{}\\_km2] 'numeric'\n",
       "\\end{description*}\n"
      ],
      "text/markdown": [
       "Fecha\n",
       ":   'Date'Servicio\n",
       ":   'character'CMUN\n",
       ":   'character'CDIS\n",
       ":   'character'CSEC\n",
       ":   'character'Futbol\n",
       ":   'numeric'nservicios\n",
       ":   'numeric'capacidad\n",
       ":   'numeric'tmed\n",
       ":   'numeric'prec\n",
       ":   'numeric'velmedia\n",
       ":   'numeric'presMax\n",
       ":   'numeric'ccaa\n",
       ":   'numeric'CPRO\n",
       ":   'numeric't1_1\n",
       ":   'numeric't2_1\n",
       ":   'numeric't2_2\n",
       ":   'numeric't3_1\n",
       ":   'numeric't4_1\n",
       ":   'numeric't4_2\n",
       ":   'numeric't4_3\n",
       ":   'numeric't5_1\n",
       ":   'numeric't6_1\n",
       ":   'numeric't7_1\n",
       ":   'numeric't8_1\n",
       ":   'numeric't9_1\n",
       ":   'numeric't10_1\n",
       ":   'numeric't11_1\n",
       ":   'numeric't12_1\n",
       ":   'numeric'NSEC\n",
       ":   'character'area\n",
       ":   'numeric'elevation\n",
       ":   'numeric'densidad_hab_km2\n",
       ":   'numeric'\n",
       "\n"
      ],
      "text/plain": [
       "           Fecha         Servicio             CMUN             CDIS \n",
       "          \"Date\"      \"character\"      \"character\"      \"character\" \n",
       "            CSEC           Futbol       nservicios        capacidad \n",
       "     \"character\"        \"numeric\"        \"numeric\"        \"numeric\" \n",
       "            tmed             prec         velmedia          presMax \n",
       "       \"numeric\"        \"numeric\"        \"numeric\"        \"numeric\" \n",
       "            ccaa             CPRO             t1_1             t2_1 \n",
       "       \"numeric\"        \"numeric\"        \"numeric\"        \"numeric\" \n",
       "            t2_2             t3_1             t4_1             t4_2 \n",
       "       \"numeric\"        \"numeric\"        \"numeric\"        \"numeric\" \n",
       "            t4_3             t5_1             t6_1             t7_1 \n",
       "       \"numeric\"        \"numeric\"        \"numeric\"        \"numeric\" \n",
       "            t8_1             t9_1            t10_1            t11_1 \n",
       "       \"numeric\"        \"numeric\"        \"numeric\"        \"numeric\" \n",
       "           t12_1             NSEC             area        elevation \n",
       "       \"numeric\"      \"character\"        \"numeric\"        \"numeric\" \n",
       "densidad_hab_km2 \n",
       "       \"numeric\" "
      ]
     },
     "metadata": {},
     "output_type": "display_data"
    },
    {
     "name": "stdout",
     "output_type": "stream",
     "text": [
      "Rows: 274,792\n",
      "Columns: 33\n",
      "$ Fecha            \u001b[3m\u001b[90m<date>\u001b[39m\u001b[23m 2022-01-01, 2022-01-01, 2022-01-01, 2022-01-01, 2022…\n",
      "$ Servicio         \u001b[3m\u001b[90m<chr>\u001b[39m\u001b[23m \"Taxi\", \"Taxi\", \"Taxi\", \"Taxi\", \"Taxi\", \"Taxi\", \"Taxi…\n",
      "$ CMUN             \u001b[3m\u001b[90m<chr>\u001b[39m\u001b[23m \"001\", \"002\", \"002\", \"003\", \"004\", \"004\", \"004\", \"004…\n",
      "$ CDIS             \u001b[3m\u001b[90m<chr>\u001b[39m\u001b[23m \"01\", \"01\", \"01\", \"01\", \"01\", \"01\", \"01\", \"01\", \"01\",…\n",
      "$ CSEC             \u001b[3m\u001b[90m<chr>\u001b[39m\u001b[23m \"001\", \"001\", \"002\", \"001\", \"001\", \"002\", \"003\", \"004…\n",
      "$ Futbol           \u001b[3m\u001b[90m<dbl>\u001b[39m\u001b[23m 0, 0, 0, 1, 0, 1, 1, 0, 0, 0, 0, 0, 0, 0, 0, 0, 0, 1,…\n",
      "$ nservicios       \u001b[3m\u001b[90m<dbl>\u001b[39m\u001b[23m 0, 0, 0, 50, 0, 50, 50, 0, 2, 0, 0, 7, 0, 1, 4, 7, 10…\n",
      "$ capacidad        \u001b[3m\u001b[90m<dbl>\u001b[39m\u001b[23m 50, 50, 50, 50, 50, 50, 50, 50, 65, 65, 65, 65, 65, 6…\n",
      "$ tmed             \u001b[3m\u001b[90m<dbl>\u001b[39m\u001b[23m 9.472965, 8.170448, 8.526402, 10.012282, 10.574368, 1…\n",
      "$ prec             \u001b[3m\u001b[90m<dbl>\u001b[39m\u001b[23m 0, 0, 0, 0, 0, 0, 0, 0, 0, 0, 0, 0, 0, 0, 0, 0, 0, 0,…\n",
      "$ velmedia         \u001b[3m\u001b[90m<dbl>\u001b[39m\u001b[23m 0.8229741, 0.9750191, 0.8874318, 2.3162929, 0.6970652…\n",
      "$ presMax          \u001b[3m\u001b[90m<dbl>\u001b[39m\u001b[23m 901.6717, 970.1249, 967.2948, 849.5611, 964.2144, 965…\n",
      "$ ccaa             \u001b[3m\u001b[90m<dbl>\u001b[39m\u001b[23m 13, 13, 13, 13, 13, 13, 13, 13, 13, 13, 13, 13, 13, 1…\n",
      "$ CPRO             \u001b[3m\u001b[90m<dbl>\u001b[39m\u001b[23m 28, 28, 28, 28, 28, 28, 28, 28, 28, 28, 28, 28, 28, 2…\n",
      "$ t1_1             \u001b[3m\u001b[90m<dbl>\u001b[39m\u001b[23m 55, 2358, 2435, 248, 2886, 3376, 2161, 1523, 1648, 10…\n",
      "$ t2_1             \u001b[3m\u001b[90m<dbl>\u001b[39m\u001b[23m NA, 0.4724, 0.4830, 0.3952, 0.5135, 0.4793, 0.5016, 0…\n",
      "$ t2_2             \u001b[3m\u001b[90m<dbl>\u001b[39m\u001b[23m NA, 0.5276, 0.5170, 0.6048, 0.4865, 0.5207, 0.4984, 0…\n",
      "$ t3_1             \u001b[3m\u001b[90m<dbl>\u001b[39m\u001b[23m NA, 40.5161, 38.3339, 47.4597, 44.4099, 40.6810, 38.0…\n",
      "$ t4_1             \u001b[3m\u001b[90m<dbl>\u001b[39m\u001b[23m NA, 0.1425, 0.1959, 0.1371, 0.1611, 0.1739, 0.2230, 0…\n",
      "$ t4_2             \u001b[3m\u001b[90m<dbl>\u001b[39m\u001b[23m NA, 0.7443, 0.7002, 0.6573, 0.6067, 0.6727, 0.6395, 0…\n",
      "$ t4_3             \u001b[3m\u001b[90m<dbl>\u001b[39m\u001b[23m NA, 0.1132, 0.1039, 0.2056, 0.2322, 0.1534, 0.1374, 0…\n",
      "$ t5_1             \u001b[3m\u001b[90m<dbl>\u001b[39m\u001b[23m NA, 0.1569, 0.1544, 0.1129, 0.1639, 0.1440, 0.1749, 0…\n",
      "$ t6_1             \u001b[3m\u001b[90m<dbl>\u001b[39m\u001b[23m NA, 0.1968, 0.1951, 0.1411, 0.2128, 0.1730, 0.2138, 0…\n",
      "$ t7_1             \u001b[3m\u001b[90m<dbl>\u001b[39m\u001b[23m NA, 0.4016, 0.4244, 0.1542, 0.1470, 0.1596, 0.1668, 0…\n",
      "$ t8_1             \u001b[3m\u001b[90m<dbl>\u001b[39m\u001b[23m NA, 0.3971, 0.4224, 0.1449, 0.1409, 0.1506, 0.1602, 0…\n",
      "$ t9_1             \u001b[3m\u001b[90m<dbl>\u001b[39m\u001b[23m NA, 0.4377, 0.4438, 0.5280, 0.2602, 0.3234, 0.2859, 0…\n",
      "$ t10_1            \u001b[3m\u001b[90m<dbl>\u001b[39m\u001b[23m NA, 0.0912, 0.1226, 0.0932, 0.1814, 0.1478, 0.1658, 0…\n",
      "$ t11_1            \u001b[3m\u001b[90m<dbl>\u001b[39m\u001b[23m NA, 0.6063, 0.5955, 0.5000, 0.4213, 0.5170, 0.4943, 0…\n",
      "$ t12_1            \u001b[3m\u001b[90m<dbl>\u001b[39m\u001b[23m NA, 0.6672, 0.6788, 0.5514, 0.5147, 0.6067, 0.5926, 0…\n",
      "$ NSEC             \u001b[3m\u001b[90m<chr>\u001b[39m\u001b[23m \"Acebeda, La - 01.001\", \"Ajalvir - 01.001\", \"Ajalvir …\n",
      "$ area             \u001b[3m\u001b[90m<dbl>\u001b[39m\u001b[23m 21848790.60, 15585050.39, 4148273.41, 25674490.85, 50…\n",
      "$ elevation        \u001b[3m\u001b[90m<dbl>\u001b[39m\u001b[23m 1401, 653, 715, 1150, 593, 604, 587, 570, 594, 594, 5…\n",
      "$ densidad_hab_km2 \u001b[3m\u001b[90m<dbl>\u001b[39m\u001b[23m 2.517302, 151.298837, 586.991204, 9.659393, 571.86106…\n"
     ]
    }
   ],
   "source": [
    "sapply(data, class)\n",
    "glimpse(data)"
   ]
  },
  {
   "attachments": {},
   "cell_type": "markdown",
   "metadata": {
    "slideshow": {
     "slide_type": "slide"
    }
   },
   "source": [
    "### Tidy Data\n"
   ]
  },
  {
   "attachments": {},
   "cell_type": "markdown",
   "metadata": {
    "slideshow": {
     "slide_type": "slide"
    }
   },
   "source": [
    "#### Verify each variable forms a column "
   ]
  },
  {
   "attachments": {},
   "cell_type": "markdown",
   "metadata": {},
   "source": [
    "<font color=' #2874a6 '><b>Remarks</b></font>"
   ]
  },
  {
   "attachments": {},
   "cell_type": "markdown",
   "metadata": {},
   "source": [
    "- Se ha comprobado que cada columna se refiere a una variable\n"
   ]
  },
  {
   "attachments": {},
   "cell_type": "markdown",
   "metadata": {},
   "source": [
    "<font color=' #2874a6 '><b>CODE</b></font>"
   ]
  },
  {
   "cell_type": "code",
   "execution_count": 22,
   "metadata": {
    "ExecuteTime": {
     "end_time": "2021-01-27T11:01:34.878544Z",
     "start_time": "2021-01-27T11:01:34.740511Z"
    },
    "slideshow": {
     "slide_type": "subslide"
    },
    "vscode": {
     "languageId": "r"
    }
   },
   "outputs": [
    {
     "data": {
      "text/html": [
       "33"
      ],
      "text/latex": [
       "33"
      ],
      "text/markdown": [
       "33"
      ],
      "text/plain": [
       "[1] 33"
      ]
     },
     "metadata": {},
     "output_type": "display_data"
    },
    {
     "name": "stdout",
     "output_type": "stream",
     "text": [
      "Rows: 274,792\n",
      "Columns: 33\n",
      "$ Fecha            \u001b[3m\u001b[90m<date>\u001b[39m\u001b[23m 2022-01-01, 2022-01-01, 2022-01-01, 2022-01-01, 2022…\n",
      "$ Servicio         \u001b[3m\u001b[90m<chr>\u001b[39m\u001b[23m \"Taxi\", \"Taxi\", \"Taxi\", \"Taxi\", \"Taxi\", \"Taxi\", \"Taxi…\n",
      "$ CMUN             \u001b[3m\u001b[90m<chr>\u001b[39m\u001b[23m \"001\", \"002\", \"002\", \"003\", \"004\", \"004\", \"004\", \"004…\n",
      "$ CDIS             \u001b[3m\u001b[90m<chr>\u001b[39m\u001b[23m \"01\", \"01\", \"01\", \"01\", \"01\", \"01\", \"01\", \"01\", \"01\",…\n",
      "$ CSEC             \u001b[3m\u001b[90m<chr>\u001b[39m\u001b[23m \"001\", \"001\", \"002\", \"001\", \"001\", \"002\", \"003\", \"004…\n",
      "$ Futbol           \u001b[3m\u001b[90m<dbl>\u001b[39m\u001b[23m 0, 0, 0, 1, 0, 1, 1, 0, 0, 0, 0, 0, 0, 0, 0, 0, 0, 1,…\n",
      "$ nservicios       \u001b[3m\u001b[90m<dbl>\u001b[39m\u001b[23m 0, 0, 0, 50, 0, 50, 50, 0, 2, 0, 0, 7, 0, 1, 4, 7, 10…\n",
      "$ capacidad        \u001b[3m\u001b[90m<dbl>\u001b[39m\u001b[23m 50, 50, 50, 50, 50, 50, 50, 50, 65, 65, 65, 65, 65, 6…\n",
      "$ tmed             \u001b[3m\u001b[90m<dbl>\u001b[39m\u001b[23m 9.472965, 8.170448, 8.526402, 10.012282, 10.574368, 1…\n",
      "$ prec             \u001b[3m\u001b[90m<dbl>\u001b[39m\u001b[23m 0, 0, 0, 0, 0, 0, 0, 0, 0, 0, 0, 0, 0, 0, 0, 0, 0, 0,…\n",
      "$ velmedia         \u001b[3m\u001b[90m<dbl>\u001b[39m\u001b[23m 0.8229741, 0.9750191, 0.8874318, 2.3162929, 0.6970652…\n",
      "$ presMax          \u001b[3m\u001b[90m<dbl>\u001b[39m\u001b[23m 901.6717, 970.1249, 967.2948, 849.5611, 964.2144, 965…\n",
      "$ ccaa             \u001b[3m\u001b[90m<dbl>\u001b[39m\u001b[23m 13, 13, 13, 13, 13, 13, 13, 13, 13, 13, 13, 13, 13, 1…\n",
      "$ CPRO             \u001b[3m\u001b[90m<dbl>\u001b[39m\u001b[23m 28, 28, 28, 28, 28, 28, 28, 28, 28, 28, 28, 28, 28, 2…\n",
      "$ t1_1             \u001b[3m\u001b[90m<dbl>\u001b[39m\u001b[23m 55, 2358, 2435, 248, 2886, 3376, 2161, 1523, 1648, 10…\n",
      "$ t2_1             \u001b[3m\u001b[90m<dbl>\u001b[39m\u001b[23m NA, 0.4724, 0.4830, 0.3952, 0.5135, 0.4793, 0.5016, 0…\n",
      "$ t2_2             \u001b[3m\u001b[90m<dbl>\u001b[39m\u001b[23m NA, 0.5276, 0.5170, 0.6048, 0.4865, 0.5207, 0.4984, 0…\n",
      "$ t3_1             \u001b[3m\u001b[90m<dbl>\u001b[39m\u001b[23m NA, 40.5161, 38.3339, 47.4597, 44.4099, 40.6810, 38.0…\n",
      "$ t4_1             \u001b[3m\u001b[90m<dbl>\u001b[39m\u001b[23m NA, 0.1425, 0.1959, 0.1371, 0.1611, 0.1739, 0.2230, 0…\n",
      "$ t4_2             \u001b[3m\u001b[90m<dbl>\u001b[39m\u001b[23m NA, 0.7443, 0.7002, 0.6573, 0.6067, 0.6727, 0.6395, 0…\n",
      "$ t4_3             \u001b[3m\u001b[90m<dbl>\u001b[39m\u001b[23m NA, 0.1132, 0.1039, 0.2056, 0.2322, 0.1534, 0.1374, 0…\n",
      "$ t5_1             \u001b[3m\u001b[90m<dbl>\u001b[39m\u001b[23m NA, 0.1569, 0.1544, 0.1129, 0.1639, 0.1440, 0.1749, 0…\n",
      "$ t6_1             \u001b[3m\u001b[90m<dbl>\u001b[39m\u001b[23m NA, 0.1968, 0.1951, 0.1411, 0.2128, 0.1730, 0.2138, 0…\n",
      "$ t7_1             \u001b[3m\u001b[90m<dbl>\u001b[39m\u001b[23m NA, 0.4016, 0.4244, 0.1542, 0.1470, 0.1596, 0.1668, 0…\n",
      "$ t8_1             \u001b[3m\u001b[90m<dbl>\u001b[39m\u001b[23m NA, 0.3971, 0.4224, 0.1449, 0.1409, 0.1506, 0.1602, 0…\n",
      "$ t9_1             \u001b[3m\u001b[90m<dbl>\u001b[39m\u001b[23m NA, 0.4377, 0.4438, 0.5280, 0.2602, 0.3234, 0.2859, 0…\n",
      "$ t10_1            \u001b[3m\u001b[90m<dbl>\u001b[39m\u001b[23m NA, 0.0912, 0.1226, 0.0932, 0.1814, 0.1478, 0.1658, 0…\n",
      "$ t11_1            \u001b[3m\u001b[90m<dbl>\u001b[39m\u001b[23m NA, 0.6063, 0.5955, 0.5000, 0.4213, 0.5170, 0.4943, 0…\n",
      "$ t12_1            \u001b[3m\u001b[90m<dbl>\u001b[39m\u001b[23m NA, 0.6672, 0.6788, 0.5514, 0.5147, 0.6067, 0.5926, 0…\n",
      "$ NSEC             \u001b[3m\u001b[90m<chr>\u001b[39m\u001b[23m \"Acebeda, La - 01.001\", \"Ajalvir - 01.001\", \"Ajalvir …\n",
      "$ area             \u001b[3m\u001b[90m<dbl>\u001b[39m\u001b[23m 21848790.60, 15585050.39, 4148273.41, 25674490.85, 50…\n",
      "$ elevation        \u001b[3m\u001b[90m<dbl>\u001b[39m\u001b[23m 1401, 653, 715, 1150, 593, 604, 587, 570, 594, 594, 5…\n",
      "$ densidad_hab_km2 \u001b[3m\u001b[90m<dbl>\u001b[39m\u001b[23m 2.517302, 151.298837, 586.991204, 9.659393, 571.86106…\n"
     ]
    }
   ],
   "source": [
    "# \n",
    "ncol(data)\n",
    "glimpse(data)"
   ]
  },
  {
   "attachments": {},
   "cell_type": "markdown",
   "metadata": {
    "slideshow": {
     "slide_type": "slide"
    }
   },
   "source": [
    "#### Verify each observation forms a row "
   ]
  },
  {
   "attachments": {},
   "cell_type": "markdown",
   "metadata": {},
   "source": [
    "<font color=' #2874a6 '><b>Remarks</b></font>"
   ]
  },
  {
   "attachments": {},
   "cell_type": "markdown",
   "metadata": {},
   "source": [
    "- Se ha comprobado que cada fila se refiere a una observación\n"
   ]
  },
  {
   "attachments": {},
   "cell_type": "markdown",
   "metadata": {},
   "source": [
    "<font color=' #2874a6 '><b>CODE</b></font>"
   ]
  },
  {
   "cell_type": "code",
   "execution_count": 23,
   "metadata": {
    "ExecuteTime": {
     "end_time": "2021-01-27T11:01:34.878544Z",
     "start_time": "2021-01-27T11:01:34.740511Z"
    },
    "slideshow": {
     "slide_type": "subslide"
    },
    "vscode": {
     "languageId": "r"
    }
   },
   "outputs": [
    {
     "data": {
      "text/html": [
       "274792"
      ],
      "text/latex": [
       "274792"
      ],
      "text/markdown": [
       "274792"
      ],
      "text/plain": [
       "[1] 274792"
      ]
     },
     "metadata": {},
     "output_type": "display_data"
    },
    {
     "data": {
      "text/html": [
       "<table class=\"dataframe\">\n",
       "<caption>A tibble: 1 × 33</caption>\n",
       "<thead>\n",
       "\t<tr><th scope=col>Fecha</th><th scope=col>Servicio</th><th scope=col>CMUN</th><th scope=col>CDIS</th><th scope=col>CSEC</th><th scope=col>Futbol</th><th scope=col>nservicios</th><th scope=col>capacidad</th><th scope=col>tmed</th><th scope=col>prec</th><th scope=col>⋯</th><th scope=col>t7_1</th><th scope=col>t8_1</th><th scope=col>t9_1</th><th scope=col>t10_1</th><th scope=col>t11_1</th><th scope=col>t12_1</th><th scope=col>NSEC</th><th scope=col>area</th><th scope=col>elevation</th><th scope=col>densidad_hab_km2</th></tr>\n",
       "\t<tr><th scope=col>&lt;date&gt;</th><th scope=col>&lt;chr&gt;</th><th scope=col>&lt;chr&gt;</th><th scope=col>&lt;chr&gt;</th><th scope=col>&lt;chr&gt;</th><th scope=col>&lt;dbl&gt;</th><th scope=col>&lt;dbl&gt;</th><th scope=col>&lt;dbl&gt;</th><th scope=col>&lt;dbl&gt;</th><th scope=col>&lt;dbl&gt;</th><th scope=col>⋯</th><th scope=col>&lt;dbl&gt;</th><th scope=col>&lt;dbl&gt;</th><th scope=col>&lt;dbl&gt;</th><th scope=col>&lt;dbl&gt;</th><th scope=col>&lt;dbl&gt;</th><th scope=col>&lt;dbl&gt;</th><th scope=col>&lt;chr&gt;</th><th scope=col>&lt;dbl&gt;</th><th scope=col>&lt;dbl&gt;</th><th scope=col>&lt;dbl&gt;</th></tr>\n",
       "</thead>\n",
       "<tbody>\n",
       "\t<tr><td>2022-01-01</td><td>Taxi</td><td>001</td><td>01</td><td>001</td><td>0</td><td>0</td><td>50</td><td>9.472965</td><td>0</td><td>⋯</td><td>NA</td><td>NA</td><td>NA</td><td>NA</td><td>NA</td><td>NA</td><td>Acebeda, La - 01.001</td><td>21848791</td><td>1401</td><td>2.517302</td></tr>\n",
       "</tbody>\n",
       "</table>\n"
      ],
      "text/latex": [
       "A tibble: 1 × 33\n",
       "\\begin{tabular}{lllllllllllllllllllll}\n",
       " Fecha & Servicio & CMUN & CDIS & CSEC & Futbol & nservicios & capacidad & tmed & prec & ⋯ & t7\\_1 & t8\\_1 & t9\\_1 & t10\\_1 & t11\\_1 & t12\\_1 & NSEC & area & elevation & densidad\\_hab\\_km2\\\\\n",
       " <date> & <chr> & <chr> & <chr> & <chr> & <dbl> & <dbl> & <dbl> & <dbl> & <dbl> & ⋯ & <dbl> & <dbl> & <dbl> & <dbl> & <dbl> & <dbl> & <chr> & <dbl> & <dbl> & <dbl>\\\\\n",
       "\\hline\n",
       "\t 2022-01-01 & Taxi & 001 & 01 & 001 & 0 & 0 & 50 & 9.472965 & 0 & ⋯ & NA & NA & NA & NA & NA & NA & Acebeda, La - 01.001 & 21848791 & 1401 & 2.517302\\\\\n",
       "\\end{tabular}\n"
      ],
      "text/markdown": [
       "\n",
       "A tibble: 1 × 33\n",
       "\n",
       "| Fecha &lt;date&gt; | Servicio &lt;chr&gt; | CMUN &lt;chr&gt; | CDIS &lt;chr&gt; | CSEC &lt;chr&gt; | Futbol &lt;dbl&gt; | nservicios &lt;dbl&gt; | capacidad &lt;dbl&gt; | tmed &lt;dbl&gt; | prec &lt;dbl&gt; | ⋯ ⋯ | t7_1 &lt;dbl&gt; | t8_1 &lt;dbl&gt; | t9_1 &lt;dbl&gt; | t10_1 &lt;dbl&gt; | t11_1 &lt;dbl&gt; | t12_1 &lt;dbl&gt; | NSEC &lt;chr&gt; | area &lt;dbl&gt; | elevation &lt;dbl&gt; | densidad_hab_km2 &lt;dbl&gt; |\n",
       "|---|---|---|---|---|---|---|---|---|---|---|---|---|---|---|---|---|---|---|---|---|\n",
       "| 2022-01-01 | Taxi | 001 | 01 | 001 | 0 | 0 | 50 | 9.472965 | 0 | ⋯ | NA | NA | NA | NA | NA | NA | Acebeda, La - 01.001 | 21848791 | 1401 | 2.517302 |\n",
       "\n"
      ],
      "text/plain": [
       "  Fecha      Servicio CMUN CDIS CSEC Futbol nservicios capacidad tmed     prec\n",
       "1 2022-01-01 Taxi     001  01   001  0      0          50        9.472965 0   \n",
       "  ⋯ t7_1 t8_1 t9_1 t10_1 t11_1 t12_1 NSEC                 area     elevation\n",
       "1 ⋯ NA   NA   NA   NA    NA    NA    Acebeda, La - 01.001 21848791 1401     \n",
       "  densidad_hab_km2\n",
       "1 2.517302        "
      ]
     },
     "metadata": {},
     "output_type": "display_data"
    }
   ],
   "source": [
    "# \n",
    "nrow(data)\n",
    "head(data, 1)"
   ]
  },
  {
   "attachments": {},
   "cell_type": "markdown",
   "metadata": {
    "slideshow": {
     "slide_type": "slide"
    }
   },
   "source": [
    "#### Verify each type of observational unit forms a table "
   ]
  },
  {
   "attachments": {},
   "cell_type": "markdown",
   "metadata": {},
   "source": [
    "<font color=' #2874a6 '><b>Remarks</b></font>"
   ]
  },
  {
   "attachments": {},
   "cell_type": "markdown",
   "metadata": {},
   "source": [
    "- No aplica\n"
   ]
  },
  {
   "attachments": {},
   "cell_type": "markdown",
   "metadata": {},
   "source": [
    "<font color=' #2874a6 '><b>CODE</b></font>"
   ]
  },
  {
   "cell_type": "code",
   "execution_count": 24,
   "metadata": {
    "ExecuteTime": {
     "end_time": "2021-01-27T11:01:34.878544Z",
     "start_time": "2021-01-27T11:01:34.740511Z"
    },
    "slideshow": {
     "slide_type": "subslide"
    },
    "vscode": {
     "languageId": "r"
    }
   },
   "outputs": [],
   "source": [
    "# \n"
   ]
  },
  {
   "attachments": {},
   "cell_type": "markdown",
   "metadata": {},
   "source": [
    "### Additional Actions not Initially Contemplated\n",
    "\n",
    "No aplica"
   ]
  },
  {
   "attachments": {},
   "cell_type": "markdown",
   "metadata": {
    "slideshow": {
     "slide_type": "slide"
    }
   },
   "source": [
    "#### Title"
   ]
  },
  {
   "attachments": {},
   "cell_type": "markdown",
   "metadata": {},
   "source": [
    "<font color=' #2874a6 '><b>Remarks</b></font>"
   ]
  },
  {
   "attachments": {},
   "cell_type": "markdown",
   "metadata": {},
   "source": [
    "- xxxxxx\n",
    "- xxxxxx\n",
    "- xxxxxx"
   ]
  },
  {
   "attachments": {},
   "cell_type": "markdown",
   "metadata": {},
   "source": [
    "<font color=' #2874a6 '><b>CODE</b></font>"
   ]
  },
  {
   "cell_type": "code",
   "execution_count": 25,
   "metadata": {
    "ExecuteTime": {
     "end_time": "2021-01-27T11:01:34.878544Z",
     "start_time": "2021-01-27T11:01:34.740511Z"
    },
    "slideshow": {
     "slide_type": "subslide"
    },
    "vscode": {
     "languageId": "r"
    }
   },
   "outputs": [],
   "source": [
    "# \n"
   ]
  },
  {
   "attachments": {},
   "cell_type": "markdown",
   "metadata": {},
   "source": [
    "## <font color='green'>Data Save</font>\n",
    "\n",
    "* Solo si se han hecho cambios\n",
    "\n",
    "* No aplica"
   ]
  },
  {
   "attachments": {},
   "cell_type": "markdown",
   "metadata": {},
   "source": [
    "<font color='tomato'> Identificamos los datos a guardar</font>"
   ]
  },
  {
   "cell_type": "code",
   "execution_count": 26,
   "metadata": {
    "vscode": {
     "languageId": "r"
    }
   },
   "outputs": [],
   "source": [
    "data_to_save <- data"
   ]
  },
  {
   "attachments": {},
   "cell_type": "markdown",
   "metadata": {},
   "source": [
    "\n",
    "<font color='tomato'>Estructura de nombre de archivos:</font>\n",
    "\n",
    "* Código del caso de uso, por ejemplo \"CU_04\"\n",
    "* Número del proceso que lo genera, por ejemplo \"_06\".\n",
    "* Resto del nombre del archivo de entrada\n",
    "* Extensión del archivo\n",
    "\n",
    "Ejemplo: \"CU_04_06_01_01_zonasgeo.json, primer fichero que se genera en la tarea 01 del proceso 05 (Data Collection) para el caso de uso 04 (vacunas) y que se ha transformado en el proceso 06\n",
    "\n",
    "Importante mantener los guiones bajos antes de proceso, tarea, archivo y nombre"
   ]
  },
  {
   "attachments": {},
   "cell_type": "markdown",
   "metadata": {},
   "source": [
    "### Proceso 06"
   ]
  },
  {
   "cell_type": "code",
   "execution_count": 27,
   "metadata": {
    "vscode": {
     "languageId": "r"
    }
   },
   "outputs": [],
   "source": [
    "caso <- \"CU_34\"\n",
    "proceso <- '_05'\n",
    "tarea <- \"_06\"\n",
    "archivo <- \"\"\n",
    "proper <- \"_servicios_completo\"\n",
    "extension <- \".csv\""
   ]
  },
  {
   "attachments": {},
   "cell_type": "markdown",
   "metadata": {},
   "source": [
    "<font color='tomato'><b> OPCION A:</b> Uso del paquete \"tcltk\" para mayor comodidad</font>\n",
    "\n",
    "* Buscar carpeta, escribir nombre de archivo SIN extensión (se especifica en el código)\n",
    "* Especificar sufijo2 si es necesario\n",
    "* Cambiar datos por datos_xx si es necesario"
   ]
  },
  {
   "cell_type": "code",
   "execution_count": 28,
   "metadata": {
    "vscode": {
     "languageId": "r"
    }
   },
   "outputs": [],
   "source": [
    "# file_save <- paste0(caso, proceso, tarea, tcltk::tkgetSaveFile(), proper, extension) \n",
    "# path_out <- paste0(oPath, file_save)\n",
    "# write_csv(data_to_save_xxxxx, path_out)\n",
    "\n",
    "# cat('File saved as: ')\n",
    "# path_out"
   ]
  },
  {
   "attachments": {},
   "cell_type": "markdown",
   "metadata": {},
   "source": [
    "<font color='tomato'><b> OPCION B:</b> Especificar el nombre de archivo</font>"
   ]
  },
  {
   "attachments": {},
   "cell_type": "markdown",
   "metadata": {},
   "source": [
    "- Los ficheros de salida del proceso van siempre a Data/Output/.  "
   ]
  },
  {
   "cell_type": "code",
   "execution_count": 29,
   "metadata": {
    "vscode": {
     "languageId": "r"
    }
   },
   "outputs": [
    {
     "name": "stdout",
     "output_type": "stream",
     "text": [
      "File saved as: "
     ]
    },
    {
     "data": {
      "text/html": [
       "'Data/Output/CU_34_05_06_servicios_completo.csv'"
      ],
      "text/latex": [
       "'Data/Output/CU\\_34\\_05\\_06\\_servicios\\_completo.csv'"
      ],
      "text/markdown": [
       "'Data/Output/CU_34_05_06_servicios_completo.csv'"
      ],
      "text/plain": [
       "[1] \"Data/Output/CU_34_05_06_servicios_completo.csv\""
      ]
     },
     "metadata": {},
     "output_type": "display_data"
    }
   ],
   "source": [
    "file_save <- paste0(caso, proceso, tarea, archivo, proper, extension) \n",
    "path_out <- paste0(oPath, file_save)\n",
    "write_csv(data_to_save, path_out)\n",
    "\n",
    "cat('File saved as: ')\n",
    "path_out"
   ]
  },
  {
   "attachments": {},
   "cell_type": "markdown",
   "metadata": {},
   "source": [
    "#### Copia del fichero a Input\n",
    "\n",
    "Si el archivo se va a usar en otros notebooks, copiar a la carpeta Input"
   ]
  },
  {
   "cell_type": "code",
   "execution_count": 30,
   "metadata": {
    "vscode": {
     "languageId": "r"
    }
   },
   "outputs": [
    {
     "data": {
      "text/html": [
       "TRUE"
      ],
      "text/latex": [
       "TRUE"
      ],
      "text/markdown": [
       "TRUE"
      ],
      "text/plain": [
       "[1] TRUE"
      ]
     },
     "metadata": {},
     "output_type": "display_data"
    }
   ],
   "source": [
    "path_in <- paste0(iPath, file_save)\n",
    "file.copy(path_out, path_in, overwrite = TRUE)"
   ]
  },
  {
   "attachments": {},
   "cell_type": "markdown",
   "metadata": {
    "slideshow": {
     "slide_type": "slide"
    }
   },
   "source": [
    "## <font color='#2874a6'>REPORT</font>"
   ]
  },
  {
   "attachments": {},
   "cell_type": "markdown",
   "metadata": {},
   "source": [
    "A continuación se realizará un informe de las acciones realizadas"
   ]
  },
  {
   "attachments": {},
   "cell_type": "markdown",
   "metadata": {},
   "source": [
    "## <font color=' #2874a6 '>Main Actions Carried Out</font>"
   ]
  },
  {
   "attachments": {},
   "cell_type": "markdown",
   "metadata": {},
   "source": [
    "Ejemplos\n",
    "- Se han comprobado todas las tareas de Data Adecuacy\n",
    "- No se ha tenido que realizar ninguna acción adicional"
   ]
  },
  {
   "attachments": {},
   "cell_type": "markdown",
   "metadata": {},
   "source": [
    "## <font color=' #2874a6 '>Main Conclusions</font>"
   ]
  },
  {
   "attachments": {},
   "cell_type": "markdown",
   "metadata": {},
   "source": [
    "- Los datos ya se habían tratado en el proceso 05 para poder hacer las tareas de ETL y no ha sido necesaria ninguna modificación"
   ]
  },
  {
   "attachments": {},
   "cell_type": "markdown",
   "metadata": {},
   "source": [
    "## <font color='RED'>CODE TO DEPLOY (PILOT)</font>\n",
    "\n",
    "A continuación se incluirá el código que deba ser llevado a despliegue para producción, dado que se entiende efectúa operaciones necesarias sobre los datos en la ejecución del prototipo"
   ]
  },
  {
   "attachments": {},
   "cell_type": "markdown",
   "metadata": {},
   "source": [
    "<font color=' red '><b>Description</b></font>\n",
    "\n",
    "- No hay nada que desplegar en el piloto, ya que estos datos son estáticos o en todo caso cambian con muy poca frecuencia, altamente improbable durante el proyecto.\n"
   ]
  },
  {
   "attachments": {},
   "cell_type": "markdown",
   "metadata": {},
   "source": [
    "<font color=' red '><b>CODE</b></font>"
   ]
  },
  {
   "cell_type": "code",
   "execution_count": 31,
   "metadata": {
    "vscode": {
     "languageId": "r"
    }
   },
   "outputs": [],
   "source": [
    "# incluir código"
   ]
  }
 ],
 "metadata": {
  "anaconda-cloud": {},
  "celltoolbar": "Slideshow",
  "hide_input": false,
  "kernelspec": {
   "display_name": "R",
   "language": "R",
   "name": "ir"
  },
  "language_info": {
   "codemirror_mode": "r",
   "file_extension": ".r",
   "mimetype": "text/x-r-source",
   "name": "R",
   "pygments_lexer": "r",
   "version": "4.2.2"
  },
  "latex_envs": {
   "LaTeX_envs_menu_present": true,
   "autoclose": false,
   "autocomplete": true,
   "bibliofile": "biblio.bib",
   "cite_by": "apalike",
   "current_citInitial": 1,
   "eqLabelWithNumbers": true,
   "eqNumInitial": 1,
   "hotkeys": {
    "equation": "Ctrl-E",
    "itemize": "Ctrl-I"
   },
   "labels_anchors": false,
   "latex_user_defs": false,
   "report_style_numbering": true,
   "user_envs_cfg": false
  },
  "toc": {
   "base_numbering": 1,
   "nav_menu": {
    "height": "11.6px",
    "width": "160px"
   },
   "number_sections": false,
   "sideBar": true,
   "skip_h1_title": true,
   "title_cell": "Table of Contents",
   "title_sidebar": "Contents",
   "toc_cell": true,
   "toc_position": {
    "height": "calc(100% - 180px)",
    "left": "10px",
    "top": "150px",
    "width": "165px"
   },
   "toc_section_display": true,
   "toc_window_display": true
  },
  "varInspector": {
   "cols": {
    "lenName": 16,
    "lenType": 16,
    "lenVar": 40
   },
   "kernels_config": {
    "python": {
     "delete_cmd_postfix": "",
     "delete_cmd_prefix": "del ",
     "library": "var_list.py",
     "varRefreshCmd": "print(var_dic_list())"
    },
    "r": {
     "delete_cmd_postfix": ") ",
     "delete_cmd_prefix": "rm(",
     "library": "var_list.r",
     "varRefreshCmd": "cat(var_dic_list()) "
    }
   },
   "types_to_exclude": [
    "module",
    "function",
    "builtin_function_or_method",
    "instance",
    "_Feature"
   ],
   "window_display": false
  }
 },
 "nbformat": 4,
 "nbformat_minor": 4
}
