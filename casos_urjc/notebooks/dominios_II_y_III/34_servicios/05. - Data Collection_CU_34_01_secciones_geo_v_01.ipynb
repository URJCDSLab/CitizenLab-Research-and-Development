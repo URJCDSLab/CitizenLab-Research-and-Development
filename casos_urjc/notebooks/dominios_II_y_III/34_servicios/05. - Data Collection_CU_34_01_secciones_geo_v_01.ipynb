{
 "cells": [
  {
   "cell_type": "markdown",
   "metadata": {
    "slideshow": {
     "slide_type": "slide"
    }
   },
   "source": [
    "<img src=\".\\images\\Logo.png\" width=150 align=\"left\" /> <img src=\".\\images\\Logo2.jpg\" width=450 align=\"right\" />"
   ]
  },
  {
   "attachments": {},
   "cell_type": "markdown",
   "metadata": {
    "slideshow": {
     "slide_type": "slide"
    }
   },
   "source": [
    "\n",
    "# <center><font color= #1e8449 > <b>CU34_Predicción de demanda de servicios</font></center>"
   ]
  },
  {
   "cell_type": "markdown",
   "metadata": {
    "slideshow": {
     "slide_type": "slide"
    }
   },
   "source": [
    "<font color='steelblue'><b>Citizenlab Data Science Methodology > II - Data Processing Domain </font>\n",
    "***\n",
    "> # <font color='steelblue'> <b>05.- Data Collection</font>"
   ]
  },
  {
   "cell_type": "markdown",
   "metadata": {
    "slideshow": {
     "slide_type": "slide"
    }
   },
   "source": [
    "<font color='steelblue'>Data Collection is the process to obtain and generate (if required) necessary data to model the problem.</font>"
   ]
  },
  {
   "attachments": {},
   "cell_type": "markdown",
   "metadata": {},
   "source": [
    "### 01. Obtener datos de geometrías distritos censales\n",
    "\n",
    "* Obtener como conjunto de archivos shp, contornos de secciones censales, unir en distritos y guardar en json.\n",
    "\n",
    "* Se descargan del siguiente enlace:\n",
    "\n",
    "https://www.ine.es/ss/Satellite?L=es_ES&c=Page&cid=1259952026632&p=1259952026632&pagename=ProductosYServicios%2FPYSLayout\n",
    "\n",
    "NOTA: no se sincroniza en el repositorio al superar los 100Mb\n",
    "\n",
    "\n",
    "\n",
    "\n",
    "\n"
   ]
  },
  {
   "cell_type": "markdown",
   "metadata": {
    "toc": true
   },
   "source": [
    "<h1>Table of Contents<span class=\"tocSkip\"></span></h1>\n",
    "<div class=\"toc\"><ul class=\"toc-item\"><li><span><a href=\"#Settings\" data-toc-modified-id=\"Settings-1\"><font color=\"green\">Settings</font></a></span></li><li><span><a href=\"#Data-Load\" data-toc-modified-id=\"Data-Load-2\"><font color=\"green\">Data Load</font></a></span></li><li><span><a href=\"#ETL-Processes\" data-toc-modified-id=\"ETL-Processes-3\">ETL Processes</a></span><ul class=\"toc-item\"><li><span><a href=\"#Import-data-from:-CSV,-Excel,-Tab,-JSON,-SQL,-and-Parquet-files\" data-toc-modified-id=\"Import-data-from:-CSV,-Excel,-Tab,-JSON,-SQL,-and-Parquet-files-3.1\">Import data from: CSV, Excel, Tab, JSON, SQL, and Parquet files</a></span></li></ul></li><li><span><a href=\"#Synthetic-Data-Generation\" data-toc-modified-id=\"Synthetic-Data-Generation-4\">Synthetic Data Generation</a></span></li><li><span><a href=\"#Fake-Data-Generation\" data-toc-modified-id=\"Fake-Data-Generation-5\">Fake Data Generation</a></span></li><li><span><a href=\"#Open-Data\" data-toc-modified-id=\"Open-Data-6\">Open Data</a></span></li><li><span><a href=\"#Data-Save\" data-toc-modified-id=\"Data-Save-7\"><font color=\"green\">Data Save</font></a></span></li><li><span><a href=\"#Main-Conclusions\" data-toc-modified-id=\"Main-Conclusions-8\"><font color=\" #2874a6 \">Main Conclusions</font></a></span></li><li><span><a href=\"#Main-Actions\" data-toc-modified-id=\"Main-Actions-9\"><font color=\" #2874a6 \">Main Actions</font></a></span><ul class=\"toc-item\"><li><ul class=\"toc-item\"><li><span><a href=\"#Acciones-done\" data-toc-modified-id=\"Acciones-done-9.0.1\"><font color=\" #2874a6 \">Acciones done</font></a></span></li><li><span><a href=\"#Acctions-to-perform\" data-toc-modified-id=\"Acctions-to-perform-9.0.2\"><font color=\" #2874a6 \">Acctions to perform</font></a></span></li></ul></li></ul></li></ul></div>"
   ]
  },
  {
   "cell_type": "markdown",
   "metadata": {
    "slideshow": {
     "slide_type": "slide"
    }
   },
   "source": [
    "## <font color='green'>Settings</font>"
   ]
  },
  {
   "attachments": {},
   "cell_type": "markdown",
   "metadata": {},
   "source": [
    "### Encoding\n",
    "\n",
    "Con la siguiente expresión se evitan problemas con el encoding al ejecutar el notebook. Es posible que deba ser eliminada o adaptada a la máquina en la que se ejecute el código."
   ]
  },
  {
   "cell_type": "code",
   "execution_count": 1,
   "metadata": {
    "vscode": {
     "languageId": "r"
    }
   },
   "outputs": [
    {
     "data": {
      "text/html": [
       "'es_ES.UTF-8/es_ES.UTF-8/es_ES.UTF-8/C/es_ES.UTF-8/C'"
      ],
      "text/latex": [
       "'es\\_ES.UTF-8/es\\_ES.UTF-8/es\\_ES.UTF-8/C/es\\_ES.UTF-8/C'"
      ],
      "text/markdown": [
       "'es_ES.UTF-8/es_ES.UTF-8/es_ES.UTF-8/C/es_ES.UTF-8/C'"
      ],
      "text/plain": [
       "[1] \"es_ES.UTF-8/es_ES.UTF-8/es_ES.UTF-8/C/es_ES.UTF-8/C\""
      ]
     },
     "metadata": {},
     "output_type": "display_data"
    }
   ],
   "source": [
    "Sys.setlocale(category = \"LC_ALL\", locale = \"es_ES.UTF-8\")"
   ]
  },
  {
   "attachments": {},
   "cell_type": "markdown",
   "metadata": {},
   "source": [
    "### Packages to use\n",
    "\n",
    "_ELIMINAR O AÑADIR LO QUE TOQUE. COPIAR VERSIONES AL FINAL Y QUITAR CÓDIGO DE VERSIONES_\n",
    "\n",
    "- {tcltk} para selección interactiva de archivos locales\n",
    "- {sf} para trabajar con georeferenciación\n",
    "- {readr} para leer y escribir archivos csv\n",
    "- {dplyr} para explorar datos\n",
    "- {stringr} para manipulación de cadenas de caracteres\n",
    "- {tidyr} para organización de datos\n"
   ]
  },
  {
   "cell_type": "code",
   "execution_count": 2,
   "metadata": {
    "ExecuteTime": {
     "end_time": "2021-12-03T15:23:33.762841Z",
     "start_time": "2021-12-03T15:23:08.580267Z"
    },
    "slideshow": {
     "slide_type": "subslide"
    },
    "vscode": {
     "languageId": "r"
    }
   },
   "outputs": [
    {
     "name": "stderr",
     "output_type": "stream",
     "text": [
      "Linking to GEOS 3.10.2, GDAL 3.4.2, PROJ 8.2.1; sf_use_s2() is TRUE\n",
      "\n",
      "\n",
      "Attaching package: ‘dplyr’\n",
      "\n",
      "\n",
      "The following objects are masked from ‘package:stats’:\n",
      "\n",
      "    filter, lag\n",
      "\n",
      "\n",
      "The following objects are masked from ‘package:base’:\n",
      "\n",
      "    intersect, setdiff, setequal, union\n",
      "\n",
      "\n"
     ]
    }
   ],
   "source": [
    "library(sf)\n",
    "library(dplyr)\n",
    "\n",
    "p <- c(\"tcltk\", \"sf\", \"dplyr\")\n"
   ]
  },
  {
   "attachments": {},
   "cell_type": "markdown",
   "metadata": {},
   "source": [
    "### Paths"
   ]
  },
  {
   "cell_type": "code",
   "execution_count": 3,
   "metadata": {
    "vscode": {
     "languageId": "r"
    }
   },
   "outputs": [],
   "source": [
    "iPath <- \"Data/Input/\"\n",
    "oPath <- \"Data/Output/\""
   ]
  },
  {
   "attachments": {},
   "cell_type": "markdown",
   "metadata": {
    "slideshow": {
     "slide_type": "slide"
    }
   },
   "source": [
    "## <font color='green'>Data Load</font>\n",
    "\n",
    "If there are more than one input file, make as many sections as files to import."
   ]
  },
  {
   "attachments": {},
   "cell_type": "markdown",
   "metadata": {},
   "source": [
    "Instrucciones\n",
    "- Los ficheros de entrada del proceso están siempre en Data/Input/.   \n",
    "- Si hay más de un fichero de entrada, se crean tantos objetos iFile_xx y file_data_xx como ficheros de entrada (xx número correlativo con dos dígitos, rellenar con ceros a la izquierda)"
   ]
  },
  {
   "attachments": {},
   "cell_type": "markdown",
   "metadata": {},
   "source": [
    "<font color='tomato'><b> OPCION A:</b> Seleccionar fichero en ventana para mayor comodidad</font> "
   ]
  },
  {
   "attachments": {},
   "cell_type": "markdown",
   "metadata": {},
   "source": [
    "Data load using the {tcltk} package. Ucomment the line if not using this option"
   ]
  },
  {
   "cell_type": "code",
   "execution_count": 4,
   "metadata": {
    "vscode": {
     "languageId": "r"
    }
   },
   "outputs": [],
   "source": [
    "# file_data <- tcltk::tk_choose.files(multi = FALSE)"
   ]
  },
  {
   "attachments": {},
   "cell_type": "markdown",
   "metadata": {},
   "source": [
    "<font color='tomato'><b> OPCION B:</b> Especificar el nombre de archivo</font>\n",
    "\n"
   ]
  },
  {
   "cell_type": "code",
   "execution_count": 5,
   "metadata": {
    "vscode": {
     "languageId": "r"
    }
   },
   "outputs": [
    {
     "name": "stdout",
     "output_type": "stream",
     "text": [
      "Se leerán datos del archivo:  Data/Input/Espa§a_Seccionado2022_ETRS89H30/SECC_CE_20220101.shp"
     ]
    }
   ],
   "source": [
    "iFile <- \"Espa§a_Seccionado2022_ETRS89H30/SECC_CE_20220101.shp\"\n",
    "file_data <- paste0(iPath, iFile)\n",
    "\n",
    "if(file.exists(file_data)){\n",
    "    cat(\"Se leerán datos del archivo: \", file_data)\n",
    "} else{\n",
    "    warning(\"Cuidado: el archivo no existe.\")\n",
    "}\n"
   ]
  },
  {
   "attachments": {},
   "cell_type": "markdown",
   "metadata": {},
   "source": [
    "#### Data file to dataframe\n",
    "\n",
    "Usar la función adecuada según el formato de entrada (xlsx, csv, json, ...)"
   ]
  },
  {
   "cell_type": "code",
   "execution_count": 6,
   "metadata": {
    "vscode": {
     "languageId": "r"
    }
   },
   "outputs": [
    {
     "name": "stdout",
     "output_type": "stream",
     "text": [
      "Reading layer `SECC_CE_20220101' from data source \n",
      "  `/Users/emilio.lcano/academico/gh_repos/__transferencia/citizenlab/CitizenLab-Research-and-Development/casos_urjc/notebooks/II_data_processing/34_servicios/Data/Input/Espa§a_Seccionado2022_ETRS89H30/SECC_CE_20220101.shp' \n",
      "  using driver `ESRI Shapefile'\n",
      "Simple feature collection with 36382 features and 16 fields\n",
      "Geometry type: MULTIPOLYGON\n",
      "Dimension:     XY\n",
      "Bounding box:  xmin: -1004502 ymin: 3132130 xmax: 1126932 ymax: 4859240\n",
      "Projected CRS: ETRS89 / UTM zone 30N\n"
     ]
    }
   ],
   "source": [
    "data <- st_read(file_data)\n"
   ]
  },
  {
   "attachments": {},
   "cell_type": "markdown",
   "metadata": {},
   "source": [
    "Estructura de  los datos:"
   ]
  },
  {
   "cell_type": "code",
   "execution_count": 7,
   "metadata": {
    "vscode": {
     "languageId": "r"
    }
   },
   "outputs": [
    {
     "name": "stdout",
     "output_type": "stream",
     "text": [
      "Rows: 36,382\n",
      "Columns: 17\n",
      "$ CUSEC    \u001b[3m\u001b[90m<chr>\u001b[39m\u001b[23m \"0100101001\", \"0100101002\", \"0100201001\", \"0100201002\", \"0100…\n",
      "$ CUMUN    \u001b[3m\u001b[90m<chr>\u001b[39m\u001b[23m \"01001\", \"01001\", \"01002\", \"01002\", \"01002\", \"01002\", \"01002\"…\n",
      "$ CSEC     \u001b[3m\u001b[90m<chr>\u001b[39m\u001b[23m \"001\", \"002\", \"001\", \"002\", \"003\", \"004\", \"005\", \"006\", \"007\"…\n",
      "$ CDIS     \u001b[3m\u001b[90m<chr>\u001b[39m\u001b[23m \"01\", \"01\", \"01\", \"01\", \"01\", \"01\", \"01\", \"01\", \"01\", \"01\", \"…\n",
      "$ CMUN     \u001b[3m\u001b[90m<chr>\u001b[39m\u001b[23m \"001\", \"001\", \"002\", \"002\", \"002\", \"002\", \"002\", \"002\", \"002\"…\n",
      "$ CPRO     \u001b[3m\u001b[90m<chr>\u001b[39m\u001b[23m \"01\", \"01\", \"01\", \"01\", \"01\", \"01\", \"01\", \"01\", \"01\", \"01\", \"…\n",
      "$ CCA      \u001b[3m\u001b[90m<chr>\u001b[39m\u001b[23m \"16\", \"16\", \"16\", \"16\", \"16\", \"16\", \"16\", \"16\", \"16\", \"16\", \"…\n",
      "$ CUDIS    \u001b[3m\u001b[90m<chr>\u001b[39m\u001b[23m \"0100101\", \"0100101\", \"0100201\", \"0100201\", \"0100201\", \"01002…\n",
      "$ CLAU2    \u001b[3m\u001b[90m<chr>\u001b[39m\u001b[23m \"01001\", \"01001\", \"01002\", \"01002\", \"01002\", \"01002\", \"01002\"…\n",
      "$ NPRO     \u001b[3m\u001b[90m<chr>\u001b[39m\u001b[23m \"Araba/Álava\", \"Araba/Álava\", \"Araba/Álava\", \"Araba/Álava\", \"…\n",
      "$ NCA      \u001b[3m\u001b[90m<chr>\u001b[39m\u001b[23m \"País Vasco\", \"País Vasco\", \"País Vasco\", \"País Vasco\", \"País…\n",
      "$ CNUT0    \u001b[3m\u001b[90m<chr>\u001b[39m\u001b[23m \"ES\", \"ES\", \"ES\", \"ES\", \"ES\", \"ES\", \"ES\", \"ES\", \"ES\", \"ES\", \"…\n",
      "$ CNUT1    \u001b[3m\u001b[90m<chr>\u001b[39m\u001b[23m \"2\", \"2\", \"2\", \"2\", \"2\", \"2\", \"2\", \"2\", \"2\", \"2\", \"2\", \"2\", \"…\n",
      "$ CNUT2    \u001b[3m\u001b[90m<chr>\u001b[39m\u001b[23m \"1\", \"1\", \"1\", \"1\", \"1\", \"1\", \"1\", \"1\", \"1\", \"1\", \"1\", \"1\", \"…\n",
      "$ CNUT3    \u001b[3m\u001b[90m<chr>\u001b[39m\u001b[23m \"1\", \"1\", \"1\", \"1\", \"1\", \"1\", \"1\", \"1\", \"1\", \"1\", \"1\", \"1\", \"…\n",
      "$ NMUN     \u001b[3m\u001b[90m<chr>\u001b[39m\u001b[23m \"Alegría-Dulantzi\", \"Alegría-Dulantzi\", \"Amurrio\", \"Amurrio\",…\n",
      "$ geometry \u001b[3m\u001b[90m<MULTIPOLYGON [m]>\u001b[39m\u001b[23m MULTIPOLYGON (((539753 4743..., MULTIPOLYGON (((…\n"
     ]
    }
   ],
   "source": [
    "data |> tibble() |> glimpse()"
   ]
  },
  {
   "attachments": {},
   "cell_type": "markdown",
   "metadata": {},
   "source": [
    "Muestra de datos:"
   ]
  },
  {
   "cell_type": "code",
   "execution_count": 8,
   "metadata": {
    "vscode": {
     "languageId": "r"
    }
   },
   "outputs": [
    {
     "data": {
      "text/html": [
       "<table class=\"dataframe\">\n",
       "<caption>A tibble: 5 x 17</caption>\n",
       "<thead>\n",
       "\t<tr><th scope=col>CUSEC</th><th scope=col>CUMUN</th><th scope=col>CSEC</th><th scope=col>CDIS</th><th scope=col>CMUN</th><th scope=col>CPRO</th><th scope=col>CCA</th><th scope=col>CUDIS</th><th scope=col>CLAU2</th><th scope=col>NPRO</th><th scope=col>NCA</th><th scope=col>CNUT0</th><th scope=col>CNUT1</th><th scope=col>CNUT2</th><th scope=col>CNUT3</th><th scope=col>NMUN</th><th scope=col>geometry</th></tr>\n",
       "\t<tr><th scope=col>&lt;chr&gt;</th><th scope=col>&lt;chr&gt;</th><th scope=col>&lt;chr&gt;</th><th scope=col>&lt;chr&gt;</th><th scope=col>&lt;chr&gt;</th><th scope=col>&lt;chr&gt;</th><th scope=col>&lt;chr&gt;</th><th scope=col>&lt;chr&gt;</th><th scope=col>&lt;chr&gt;</th><th scope=col>&lt;chr&gt;</th><th scope=col>&lt;chr&gt;</th><th scope=col>&lt;chr&gt;</th><th scope=col>&lt;chr&gt;</th><th scope=col>&lt;chr&gt;</th><th scope=col>&lt;chr&gt;</th><th scope=col>&lt;chr&gt;</th><th scope=col>&lt;MULTIPOLYGON [m]&gt;</th></tr>\n",
       "</thead>\n",
       "<tbody>\n",
       "\t<tr><td>0100101001</td><td>01001</td><td>001</td><td>01</td><td>001</td><td>01</td><td>16</td><td>0100101</td><td>01001</td><td>Araba/Álava</td><td>País Vasco</td><td>ES</td><td>2</td><td>1</td><td>1</td><td>Alegría-Dulantzi</td><td>MULTIPOLYGON (((539753 4743...</td></tr>\n",
       "\t<tr><td>0100101002</td><td>01001</td><td>002</td><td>01</td><td>001</td><td>01</td><td>16</td><td>0100101</td><td>01001</td><td>Araba/Álava</td><td>País Vasco</td><td>ES</td><td>2</td><td>1</td><td>1</td><td>Alegría-Dulantzi</td><td>MULTIPOLYGON (((539559.7 47...</td></tr>\n",
       "\t<tr><td>0100201001</td><td>01002</td><td>001</td><td>01</td><td>002</td><td>01</td><td>16</td><td>0100201</td><td>01002</td><td>Araba/Álava</td><td>País Vasco</td><td>ES</td><td>2</td><td>1</td><td>1</td><td>Amurrio         </td><td>MULTIPOLYGON (((503618.6 47...</td></tr>\n",
       "\t<tr><td>0100201002</td><td>01002</td><td>002</td><td>01</td><td>002</td><td>01</td><td>16</td><td>0100201</td><td>01002</td><td>Araba/Álava</td><td>País Vasco</td><td>ES</td><td>2</td><td>1</td><td>1</td><td>Amurrio         </td><td>MULTIPOLYGON (((505948.3 47...</td></tr>\n",
       "\t<tr><td>0100201003</td><td>01002</td><td>003</td><td>01</td><td>002</td><td>01</td><td>16</td><td>0100201</td><td>01002</td><td>Araba/Álava</td><td>País Vasco</td><td>ES</td><td>2</td><td>1</td><td>1</td><td>Amurrio         </td><td>MULTIPOLYGON (((499919.5 47...</td></tr>\n",
       "</tbody>\n",
       "</table>\n"
      ],
      "text/latex": [
       "A tibble: 5 x 17\n",
       "\\begin{tabular}{lllllllllllllllll}\n",
       " CUSEC & CUMUN & CSEC & CDIS & CMUN & CPRO & CCA & CUDIS & CLAU2 & NPRO & NCA & CNUT0 & CNUT1 & CNUT2 & CNUT3 & NMUN & geometry\\\\\n",
       " <chr> & <chr> & <chr> & <chr> & <chr> & <chr> & <chr> & <chr> & <chr> & <chr> & <chr> & <chr> & <chr> & <chr> & <chr> & <chr> & <MULTIPOLYGON {[}m{]}>\\\\\n",
       "\\hline\n",
       "\t 0100101001 & 01001 & 001 & 01 & 001 & 01 & 16 & 0100101 & 01001 & Araba/Álava & País Vasco & ES & 2 & 1 & 1 & Alegría-Dulantzi & MULTIPOLYGON (((539753 4743...\\\\\n",
       "\t 0100101002 & 01001 & 002 & 01 & 001 & 01 & 16 & 0100101 & 01001 & Araba/Álava & País Vasco & ES & 2 & 1 & 1 & Alegría-Dulantzi & MULTIPOLYGON (((539559.7 47...\\\\\n",
       "\t 0100201001 & 01002 & 001 & 01 & 002 & 01 & 16 & 0100201 & 01002 & Araba/Álava & País Vasco & ES & 2 & 1 & 1 & Amurrio          & MULTIPOLYGON (((503618.6 47...\\\\\n",
       "\t 0100201002 & 01002 & 002 & 01 & 002 & 01 & 16 & 0100201 & 01002 & Araba/Álava & País Vasco & ES & 2 & 1 & 1 & Amurrio          & MULTIPOLYGON (((505948.3 47...\\\\\n",
       "\t 0100201003 & 01002 & 003 & 01 & 002 & 01 & 16 & 0100201 & 01002 & Araba/Álava & País Vasco & ES & 2 & 1 & 1 & Amurrio          & MULTIPOLYGON (((499919.5 47...\\\\\n",
       "\\end{tabular}\n"
      ],
      "text/markdown": [
       "\n",
       "A tibble: 5 x 17\n",
       "\n",
       "| CUSEC &lt;chr&gt; | CUMUN &lt;chr&gt; | CSEC &lt;chr&gt; | CDIS &lt;chr&gt; | CMUN &lt;chr&gt; | CPRO &lt;chr&gt; | CCA &lt;chr&gt; | CUDIS &lt;chr&gt; | CLAU2 &lt;chr&gt; | NPRO &lt;chr&gt; | NCA &lt;chr&gt; | CNUT0 &lt;chr&gt; | CNUT1 &lt;chr&gt; | CNUT2 &lt;chr&gt; | CNUT3 &lt;chr&gt; | NMUN &lt;chr&gt; | geometry &lt;MULTIPOLYGON [m]&gt; |\n",
       "|---|---|---|---|---|---|---|---|---|---|---|---|---|---|---|---|---|\n",
       "| 0100101001 | 01001 | 001 | 01 | 001 | 01 | 16 | 0100101 | 01001 | Araba/Álava | País Vasco | ES | 2 | 1 | 1 | Alegría-Dulantzi | MULTIPOLYGON (((539753 4743... |\n",
       "| 0100101002 | 01001 | 002 | 01 | 001 | 01 | 16 | 0100101 | 01001 | Araba/Álava | País Vasco | ES | 2 | 1 | 1 | Alegría-Dulantzi | MULTIPOLYGON (((539559.7 47... |\n",
       "| 0100201001 | 01002 | 001 | 01 | 002 | 01 | 16 | 0100201 | 01002 | Araba/Álava | País Vasco | ES | 2 | 1 | 1 | Amurrio          | MULTIPOLYGON (((503618.6 47... |\n",
       "| 0100201002 | 01002 | 002 | 01 | 002 | 01 | 16 | 0100201 | 01002 | Araba/Álava | País Vasco | ES | 2 | 1 | 1 | Amurrio          | MULTIPOLYGON (((505948.3 47... |\n",
       "| 0100201003 | 01002 | 003 | 01 | 002 | 01 | 16 | 0100201 | 01002 | Araba/Álava | País Vasco | ES | 2 | 1 | 1 | Amurrio          | MULTIPOLYGON (((499919.5 47... |\n",
       "\n"
      ],
      "text/plain": [
       "  CUSEC      CUMUN CSEC CDIS CMUN CPRO CCA CUDIS   CLAU2 NPRO        NCA       \n",
       "1 0100101001 01001 001  01   001  01   16  0100101 01001 Araba/Álava País Vasco\n",
       "2 0100101002 01001 002  01   001  01   16  0100101 01001 Araba/Álava País Vasco\n",
       "3 0100201001 01002 001  01   002  01   16  0100201 01002 Araba/Álava País Vasco\n",
       "4 0100201002 01002 002  01   002  01   16  0100201 01002 Araba/Álava País Vasco\n",
       "5 0100201003 01002 003  01   002  01   16  0100201 01002 Araba/Álava País Vasco\n",
       "  CNUT0 CNUT1 CNUT2 CNUT3 NMUN             geometry                      \n",
       "1 ES    2     1     1     Alegría-Dulantzi MULTIPOLYGON (((539753 4743...\n",
       "2 ES    2     1     1     Alegría-Dulantzi MULTIPOLYGON (((539559.7 47...\n",
       "3 ES    2     1     1     Amurrio          MULTIPOLYGON (((503618.6 47...\n",
       "4 ES    2     1     1     Amurrio          MULTIPOLYGON (((505948.3 47...\n",
       "5 ES    2     1     1     Amurrio          MULTIPOLYGON (((499919.5 47..."
      ]
     },
     "metadata": {},
     "output_type": "display_data"
    }
   ],
   "source": [
    "data |> tibble() |> slice_head(n = 5)"
   ]
  },
  {
   "cell_type": "markdown",
   "metadata": {
    "slideshow": {
     "slide_type": "slide"
    }
   },
   "source": [
    "## ETL Processes"
   ]
  },
  {
   "attachments": {},
   "cell_type": "markdown",
   "metadata": {
    "slideshow": {
     "slide_type": "slide"
    }
   },
   "source": [
    "### Import data from: CSV, Excel, Tab, JSON, SQL, and Parquet files\n",
    "\n",
    "Se han importado en el apartado Data Load anterior:\n",
    "\n",
    "* Geometrías secciones censales España 2022"
   ]
  },
  {
   "attachments": {},
   "cell_type": "markdown",
   "metadata": {},
   "source": [
    "Incluir apartados si procede para: Extracción de datos (select, filter), Transformación de datos, (mutate, joins, ...). Si es necesario tratar datos perdidos, indicarlo también en NB 09.2"
   ]
  },
  {
   "attachments": {},
   "cell_type": "markdown",
   "metadata": {},
   "source": [
    "Si no aplica: Estos datos no requieren tareas de este tipo."
   ]
  },
  {
   "attachments": {},
   "cell_type": "markdown",
   "metadata": {},
   "source": [
    "#### Data extract\n",
    "\n",
    "* Fitrar Comunidad de Madrid"
   ]
  },
  {
   "cell_type": "code",
   "execution_count": 9,
   "metadata": {
    "vscode": {
     "languageId": "r"
    }
   },
   "outputs": [],
   "source": [
    "edata <- data |> filter(CPRO == \"28\")"
   ]
  },
  {
   "cell_type": "code",
   "execution_count": 10,
   "metadata": {
    "vscode": {
     "languageId": "r"
    }
   },
   "outputs": [
    {
     "name": "stdout",
     "output_type": "stream",
     "text": [
      "Rows: 4,432\n",
      "Columns: 17\n",
      "$ CUSEC    \u001b[3m\u001b[90m<chr>\u001b[39m\u001b[23m \"2800101001\", \"2800201001\", \"2800201002\", \"2800301001\", \"2800…\n",
      "$ CUMUN    \u001b[3m\u001b[90m<chr>\u001b[39m\u001b[23m \"28001\", \"28002\", \"28002\", \"28003\", \"28004\", \"28004\", \"28004\"…\n",
      "$ CSEC     \u001b[3m\u001b[90m<chr>\u001b[39m\u001b[23m \"001\", \"001\", \"002\", \"001\", \"001\", \"002\", \"003\", \"004\", \"001\"…\n",
      "$ CDIS     \u001b[3m\u001b[90m<chr>\u001b[39m\u001b[23m \"01\", \"01\", \"01\", \"01\", \"01\", \"01\", \"01\", \"01\", \"01\", \"01\", \"…\n",
      "$ CMUN     \u001b[3m\u001b[90m<chr>\u001b[39m\u001b[23m \"001\", \"002\", \"002\", \"003\", \"004\", \"004\", \"004\", \"004\", \"005\"…\n",
      "$ CPRO     \u001b[3m\u001b[90m<chr>\u001b[39m\u001b[23m \"28\", \"28\", \"28\", \"28\", \"28\", \"28\", \"28\", \"28\", \"28\", \"28\", \"…\n",
      "$ CCA      \u001b[3m\u001b[90m<chr>\u001b[39m\u001b[23m \"13\", \"13\", \"13\", \"13\", \"13\", \"13\", \"13\", \"13\", \"13\", \"13\", \"…\n",
      "$ CUDIS    \u001b[3m\u001b[90m<chr>\u001b[39m\u001b[23m \"2800101\", \"2800201\", \"2800201\", \"2800301\", \"2800401\", \"28004…\n",
      "$ CLAU2    \u001b[3m\u001b[90m<chr>\u001b[39m\u001b[23m \"28001\", \"28002\", \"28002\", \"28003\", \"28004\", \"28004\", \"28004\"…\n",
      "$ NPRO     \u001b[3m\u001b[90m<chr>\u001b[39m\u001b[23m \"Madrid\", \"Madrid\", \"Madrid\", \"Madrid\", \"Madrid\", \"Madrid\", \"…\n",
      "$ NCA      \u001b[3m\u001b[90m<chr>\u001b[39m\u001b[23m \"Comunidad de Madrid\", \"Comunidad de Madrid\", \"Comunidad de M…\n",
      "$ CNUT0    \u001b[3m\u001b[90m<chr>\u001b[39m\u001b[23m \"ES\", \"ES\", \"ES\", \"ES\", \"ES\", \"ES\", \"ES\", \"ES\", \"ES\", \"ES\", \"…\n",
      "$ CNUT1    \u001b[3m\u001b[90m<chr>\u001b[39m\u001b[23m \"3\", \"3\", \"3\", \"3\", \"3\", \"3\", \"3\", \"3\", \"3\", \"3\", \"3\", \"3\", \"…\n",
      "$ CNUT2    \u001b[3m\u001b[90m<chr>\u001b[39m\u001b[23m \"0\", \"0\", \"0\", \"0\", \"0\", \"0\", \"0\", \"0\", \"0\", \"0\", \"0\", \"0\", \"…\n",
      "$ CNUT3    \u001b[3m\u001b[90m<chr>\u001b[39m\u001b[23m \"0\", \"0\", \"0\", \"0\", \"0\", \"0\", \"0\", \"0\", \"0\", \"0\", \"0\", \"0\", \"…\n",
      "$ NMUN     \u001b[3m\u001b[90m<chr>\u001b[39m\u001b[23m \"Acebeda, La\", \"Ajalvir\", \"Ajalvir\", \"Alameda del Valle\", \"Ál…\n",
      "$ geometry \u001b[3m\u001b[90m<MULTIPOLYGON [m]>\u001b[39m\u001b[23m MULTIPOLYGON (((446007.9 45..., MULTIPOLYGON (((…\n"
     ]
    }
   ],
   "source": [
    "edata |> glimpse()"
   ]
  },
  {
   "attachments": {},
   "cell_type": "markdown",
   "metadata": {},
   "source": [
    "#### Data transform\n",
    "\n",
    "* Transformar crs a 4258"
   ]
  },
  {
   "cell_type": "code",
   "execution_count": 11,
   "metadata": {
    "vscode": {
     "languageId": "r"
    }
   },
   "outputs": [],
   "source": [
    "tdata <- edata |> st_transform(4326)"
   ]
  },
  {
   "cell_type": "code",
   "execution_count": 12,
   "metadata": {
    "vscode": {
     "languageId": "r"
    }
   },
   "outputs": [
    {
     "data": {
      "text/plain": [
       "Coordinate Reference System:\n",
       "  User input: EPSG:4326 \n",
       "  wkt:\n",
       "GEOGCRS[\"WGS 84\",\n",
       "    ENSEMBLE[\"World Geodetic System 1984 ensemble\",\n",
       "        MEMBER[\"World Geodetic System 1984 (Transit)\"],\n",
       "        MEMBER[\"World Geodetic System 1984 (G730)\"],\n",
       "        MEMBER[\"World Geodetic System 1984 (G873)\"],\n",
       "        MEMBER[\"World Geodetic System 1984 (G1150)\"],\n",
       "        MEMBER[\"World Geodetic System 1984 (G1674)\"],\n",
       "        MEMBER[\"World Geodetic System 1984 (G1762)\"],\n",
       "        MEMBER[\"World Geodetic System 1984 (G2139)\"],\n",
       "        ELLIPSOID[\"WGS 84\",6378137,298.257223563,\n",
       "            LENGTHUNIT[\"metre\",1]],\n",
       "        ENSEMBLEACCURACY[2.0]],\n",
       "    PRIMEM[\"Greenwich\",0,\n",
       "        ANGLEUNIT[\"degree\",0.0174532925199433]],\n",
       "    CS[ellipsoidal,2],\n",
       "        AXIS[\"geodetic latitude (Lat)\",north,\n",
       "            ORDER[1],\n",
       "            ANGLEUNIT[\"degree\",0.0174532925199433]],\n",
       "        AXIS[\"geodetic longitude (Lon)\",east,\n",
       "            ORDER[2],\n",
       "            ANGLEUNIT[\"degree\",0.0174532925199433]],\n",
       "    USAGE[\n",
       "        SCOPE[\"Horizontal component of 3D system.\"],\n",
       "        AREA[\"World.\"],\n",
       "        BBOX[-90,-180,90,180]],\n",
       "    ID[\"EPSG\",4326]]"
      ]
     },
     "metadata": {},
     "output_type": "display_data"
    }
   ],
   "source": [
    "st_crs(tdata)"
   ]
  },
  {
   "cell_type": "code",
   "execution_count": 13,
   "metadata": {
    "vscode": {
     "languageId": "r"
    }
   },
   "outputs": [
    {
     "name": "stdout",
     "output_type": "stream",
     "text": [
      "Rows: 4,432\n",
      "Columns: 17\n",
      "$ CUSEC    \u001b[3m\u001b[90m<chr>\u001b[39m\u001b[23m \"2800101001\", \"2800201001\", \"2800201002\", \"2800301001\", \"2800…\n",
      "$ CUMUN    \u001b[3m\u001b[90m<chr>\u001b[39m\u001b[23m \"28001\", \"28002\", \"28002\", \"28003\", \"28004\", \"28004\", \"28004\"…\n",
      "$ CSEC     \u001b[3m\u001b[90m<chr>\u001b[39m\u001b[23m \"001\", \"001\", \"002\", \"001\", \"001\", \"002\", \"003\", \"004\", \"001\"…\n",
      "$ CDIS     \u001b[3m\u001b[90m<chr>\u001b[39m\u001b[23m \"01\", \"01\", \"01\", \"01\", \"01\", \"01\", \"01\", \"01\", \"01\", \"01\", \"…\n",
      "$ CMUN     \u001b[3m\u001b[90m<chr>\u001b[39m\u001b[23m \"001\", \"002\", \"002\", \"003\", \"004\", \"004\", \"004\", \"004\", \"005\"…\n",
      "$ CPRO     \u001b[3m\u001b[90m<chr>\u001b[39m\u001b[23m \"28\", \"28\", \"28\", \"28\", \"28\", \"28\", \"28\", \"28\", \"28\", \"28\", \"…\n",
      "$ CCA      \u001b[3m\u001b[90m<chr>\u001b[39m\u001b[23m \"13\", \"13\", \"13\", \"13\", \"13\", \"13\", \"13\", \"13\", \"13\", \"13\", \"…\n",
      "$ CUDIS    \u001b[3m\u001b[90m<chr>\u001b[39m\u001b[23m \"2800101\", \"2800201\", \"2800201\", \"2800301\", \"2800401\", \"28004…\n",
      "$ CLAU2    \u001b[3m\u001b[90m<chr>\u001b[39m\u001b[23m \"28001\", \"28002\", \"28002\", \"28003\", \"28004\", \"28004\", \"28004\"…\n",
      "$ NPRO     \u001b[3m\u001b[90m<chr>\u001b[39m\u001b[23m \"Madrid\", \"Madrid\", \"Madrid\", \"Madrid\", \"Madrid\", \"Madrid\", \"…\n",
      "$ NCA      \u001b[3m\u001b[90m<chr>\u001b[39m\u001b[23m \"Comunidad de Madrid\", \"Comunidad de Madrid\", \"Comunidad de M…\n",
      "$ CNUT0    \u001b[3m\u001b[90m<chr>\u001b[39m\u001b[23m \"ES\", \"ES\", \"ES\", \"ES\", \"ES\", \"ES\", \"ES\", \"ES\", \"ES\", \"ES\", \"…\n",
      "$ CNUT1    \u001b[3m\u001b[90m<chr>\u001b[39m\u001b[23m \"3\", \"3\", \"3\", \"3\", \"3\", \"3\", \"3\", \"3\", \"3\", \"3\", \"3\", \"3\", \"…\n",
      "$ CNUT2    \u001b[3m\u001b[90m<chr>\u001b[39m\u001b[23m \"0\", \"0\", \"0\", \"0\", \"0\", \"0\", \"0\", \"0\", \"0\", \"0\", \"0\", \"0\", \"…\n",
      "$ CNUT3    \u001b[3m\u001b[90m<chr>\u001b[39m\u001b[23m \"0\", \"0\", \"0\", \"0\", \"0\", \"0\", \"0\", \"0\", \"0\", \"0\", \"0\", \"0\", \"…\n",
      "$ NMUN     \u001b[3m\u001b[90m<chr>\u001b[39m\u001b[23m \"Acebeda, La\", \"Ajalvir\", \"Ajalvir\", \"Alameda del Valle\", \"Ál…\n",
      "$ geometry \u001b[3m\u001b[90m<MULTIPOLYGON [°]>\u001b[39m\u001b[23m MULTIPOLYGON (((-3.64316 41..., MULTIPOLYGON (((…\n"
     ]
    }
   ],
   "source": [
    "tdata |> glimpse()"
   ]
  },
  {
   "cell_type": "code",
   "execution_count": 14,
   "metadata": {
    "vscode": {
     "languageId": "r"
    }
   },
   "outputs": [
    {
     "data": {
      "text/html": [
       "<table class=\"dataframe\">\n",
       "<caption>A tibble: 5 x 17</caption>\n",
       "<thead>\n",
       "\t<tr><th scope=col>CUSEC</th><th scope=col>CUMUN</th><th scope=col>CSEC</th><th scope=col>CDIS</th><th scope=col>CMUN</th><th scope=col>CPRO</th><th scope=col>CCA</th><th scope=col>CUDIS</th><th scope=col>CLAU2</th><th scope=col>NPRO</th><th scope=col>NCA</th><th scope=col>CNUT0</th><th scope=col>CNUT1</th><th scope=col>CNUT2</th><th scope=col>CNUT3</th><th scope=col>NMUN</th><th scope=col>geometry</th></tr>\n",
       "\t<tr><th scope=col>&lt;chr&gt;</th><th scope=col>&lt;chr&gt;</th><th scope=col>&lt;chr&gt;</th><th scope=col>&lt;chr&gt;</th><th scope=col>&lt;chr&gt;</th><th scope=col>&lt;chr&gt;</th><th scope=col>&lt;chr&gt;</th><th scope=col>&lt;chr&gt;</th><th scope=col>&lt;chr&gt;</th><th scope=col>&lt;chr&gt;</th><th scope=col>&lt;chr&gt;</th><th scope=col>&lt;chr&gt;</th><th scope=col>&lt;chr&gt;</th><th scope=col>&lt;chr&gt;</th><th scope=col>&lt;chr&gt;</th><th scope=col>&lt;chr&gt;</th><th scope=col>&lt;MULTIPOLYGON [°]&gt;</th></tr>\n",
       "</thead>\n",
       "<tbody>\n",
       "\t<tr><td>2800101001</td><td>28001</td><td>001</td><td>01</td><td>001</td><td>28</td><td>13</td><td>2800101</td><td>28001</td><td>Madrid</td><td>Comunidad de Madrid</td><td>ES</td><td>3</td><td>0</td><td>0</td><td>Acebeda, La      </td><td>MULTIPOLYGON (((-3.64316 41...</td></tr>\n",
       "\t<tr><td>2800201001</td><td>28002</td><td>001</td><td>01</td><td>002</td><td>28</td><td>13</td><td>2800201</td><td>28002</td><td>Madrid</td><td>Comunidad de Madrid</td><td>ES</td><td>3</td><td>0</td><td>0</td><td>Ajalvir          </td><td>MULTIPOLYGON (((-3.469465 4...</td></tr>\n",
       "\t<tr><td>2800201002</td><td>28002</td><td>002</td><td>01</td><td>002</td><td>28</td><td>13</td><td>2800201</td><td>28002</td><td>Madrid</td><td>Comunidad de Madrid</td><td>ES</td><td>3</td><td>0</td><td>0</td><td>Ajalvir          </td><td>MULTIPOLYGON (((-3.503032 4...</td></tr>\n",
       "\t<tr><td>2800301001</td><td>28003</td><td>001</td><td>01</td><td>003</td><td>28</td><td>13</td><td>2800301</td><td>28003</td><td>Madrid</td><td>Comunidad de Madrid</td><td>ES</td><td>3</td><td>0</td><td>0</td><td>Alameda del Valle</td><td>MULTIPOLYGON (((-3.808662 4...</td></tr>\n",
       "\t<tr><td>2800401001</td><td>28004</td><td>001</td><td>01</td><td>004</td><td>28</td><td>13</td><td>2800401</td><td>28004</td><td>Madrid</td><td>Comunidad de Madrid</td><td>ES</td><td>3</td><td>0</td><td>0</td><td>Álamo, El        </td><td>MULTIPOLYGON (((-3.979038 4...</td></tr>\n",
       "</tbody>\n",
       "</table>\n"
      ],
      "text/latex": [
       "A tibble: 5 x 17\n",
       "\\begin{tabular}{lllllllllllllllll}\n",
       " CUSEC & CUMUN & CSEC & CDIS & CMUN & CPRO & CCA & CUDIS & CLAU2 & NPRO & NCA & CNUT0 & CNUT1 & CNUT2 & CNUT3 & NMUN & geometry\\\\\n",
       " <chr> & <chr> & <chr> & <chr> & <chr> & <chr> & <chr> & <chr> & <chr> & <chr> & <chr> & <chr> & <chr> & <chr> & <chr> & <chr> & <MULTIPOLYGON {[}°{]}>\\\\\n",
       "\\hline\n",
       "\t 2800101001 & 28001 & 001 & 01 & 001 & 28 & 13 & 2800101 & 28001 & Madrid & Comunidad de Madrid & ES & 3 & 0 & 0 & Acebeda, La       & MULTIPOLYGON (((-3.64316 41...\\\\\n",
       "\t 2800201001 & 28002 & 001 & 01 & 002 & 28 & 13 & 2800201 & 28002 & Madrid & Comunidad de Madrid & ES & 3 & 0 & 0 & Ajalvir           & MULTIPOLYGON (((-3.469465 4...\\\\\n",
       "\t 2800201002 & 28002 & 002 & 01 & 002 & 28 & 13 & 2800201 & 28002 & Madrid & Comunidad de Madrid & ES & 3 & 0 & 0 & Ajalvir           & MULTIPOLYGON (((-3.503032 4...\\\\\n",
       "\t 2800301001 & 28003 & 001 & 01 & 003 & 28 & 13 & 2800301 & 28003 & Madrid & Comunidad de Madrid & ES & 3 & 0 & 0 & Alameda del Valle & MULTIPOLYGON (((-3.808662 4...\\\\\n",
       "\t 2800401001 & 28004 & 001 & 01 & 004 & 28 & 13 & 2800401 & 28004 & Madrid & Comunidad de Madrid & ES & 3 & 0 & 0 & Álamo, El         & MULTIPOLYGON (((-3.979038 4...\\\\\n",
       "\\end{tabular}\n"
      ],
      "text/markdown": [
       "\n",
       "A tibble: 5 x 17\n",
       "\n",
       "| CUSEC &lt;chr&gt; | CUMUN &lt;chr&gt; | CSEC &lt;chr&gt; | CDIS &lt;chr&gt; | CMUN &lt;chr&gt; | CPRO &lt;chr&gt; | CCA &lt;chr&gt; | CUDIS &lt;chr&gt; | CLAU2 &lt;chr&gt; | NPRO &lt;chr&gt; | NCA &lt;chr&gt; | CNUT0 &lt;chr&gt; | CNUT1 &lt;chr&gt; | CNUT2 &lt;chr&gt; | CNUT3 &lt;chr&gt; | NMUN &lt;chr&gt; | geometry &lt;MULTIPOLYGON [°]&gt; |\n",
       "|---|---|---|---|---|---|---|---|---|---|---|---|---|---|---|---|---|\n",
       "| 2800101001 | 28001 | 001 | 01 | 001 | 28 | 13 | 2800101 | 28001 | Madrid | Comunidad de Madrid | ES | 3 | 0 | 0 | Acebeda, La       | MULTIPOLYGON (((-3.64316 41... |\n",
       "| 2800201001 | 28002 | 001 | 01 | 002 | 28 | 13 | 2800201 | 28002 | Madrid | Comunidad de Madrid | ES | 3 | 0 | 0 | Ajalvir           | MULTIPOLYGON (((-3.469465 4... |\n",
       "| 2800201002 | 28002 | 002 | 01 | 002 | 28 | 13 | 2800201 | 28002 | Madrid | Comunidad de Madrid | ES | 3 | 0 | 0 | Ajalvir           | MULTIPOLYGON (((-3.503032 4... |\n",
       "| 2800301001 | 28003 | 001 | 01 | 003 | 28 | 13 | 2800301 | 28003 | Madrid | Comunidad de Madrid | ES | 3 | 0 | 0 | Alameda del Valle | MULTIPOLYGON (((-3.808662 4... |\n",
       "| 2800401001 | 28004 | 001 | 01 | 004 | 28 | 13 | 2800401 | 28004 | Madrid | Comunidad de Madrid | ES | 3 | 0 | 0 | Álamo, El         | MULTIPOLYGON (((-3.979038 4... |\n",
       "\n"
      ],
      "text/plain": [
       "  CUSEC      CUMUN CSEC CDIS CMUN CPRO CCA CUDIS   CLAU2 NPRO  \n",
       "1 2800101001 28001 001  01   001  28   13  2800101 28001 Madrid\n",
       "2 2800201001 28002 001  01   002  28   13  2800201 28002 Madrid\n",
       "3 2800201002 28002 002  01   002  28   13  2800201 28002 Madrid\n",
       "4 2800301001 28003 001  01   003  28   13  2800301 28003 Madrid\n",
       "5 2800401001 28004 001  01   004  28   13  2800401 28004 Madrid\n",
       "  NCA                 CNUT0 CNUT1 CNUT2 CNUT3 NMUN             \n",
       "1 Comunidad de Madrid ES    3     0     0     Acebeda, La      \n",
       "2 Comunidad de Madrid ES    3     0     0     Ajalvir          \n",
       "3 Comunidad de Madrid ES    3     0     0     Ajalvir          \n",
       "4 Comunidad de Madrid ES    3     0     0     Alameda del Valle\n",
       "5 Comunidad de Madrid ES    3     0     0     Álamo, El        \n",
       "  geometry                      \n",
       "1 MULTIPOLYGON (((-3.64316 41...\n",
       "2 MULTIPOLYGON (((-3.469465 4...\n",
       "3 MULTIPOLYGON (((-3.503032 4...\n",
       "4 MULTIPOLYGON (((-3.808662 4...\n",
       "5 MULTIPOLYGON (((-3.979038 4..."
      ]
     },
     "metadata": {},
     "output_type": "display_data"
    }
   ],
   "source": [
    "tdata |> tibble() |> slice_head(n = 5)"
   ]
  },
  {
   "cell_type": "markdown",
   "metadata": {
    "slideshow": {
     "slide_type": "slide"
    }
   },
   "source": [
    "## Synthetic Data Generation"
   ]
  },
  {
   "attachments": {},
   "cell_type": "markdown",
   "metadata": {
    "slideshow": {
     "slide_type": "slide"
    }
   },
   "source": [
    "No aplica\n"
   ]
  },
  {
   "cell_type": "markdown",
   "metadata": {
    "slideshow": {
     "slide_type": "slide"
    }
   },
   "source": [
    "## Fake Data Generation"
   ]
  },
  {
   "attachments": {},
   "cell_type": "markdown",
   "metadata": {
    "slideshow": {
     "slide_type": "slide"
    }
   },
   "source": [
    "No aplica"
   ]
  },
  {
   "cell_type": "markdown",
   "metadata": {
    "slideshow": {
     "slide_type": "slide"
    }
   },
   "source": [
    "## Open Data"
   ]
  },
  {
   "attachments": {},
   "cell_type": "markdown",
   "metadata": {
    "slideshow": {
     "slide_type": "slide"
    }
   },
   "source": [
    "Los datos se han descargado de una fuente abierta (INE)"
   ]
  },
  {
   "cell_type": "markdown",
   "metadata": {},
   "source": [
    "## <font color='green'>Data Save</font>"
   ]
  },
  {
   "attachments": {},
   "cell_type": "markdown",
   "metadata": {},
   "source": [
    "Este proceso, puede copiarse y repetirse en aquellas partes del notebbok que necesiten guardar datos.\n",
    "Recuerde cambiar las cadenas añadida del fichero para diferenciarlas"
   ]
  },
  {
   "cell_type": "markdown",
   "metadata": {},
   "source": [
    "<font color='tomato'> Identificamos los datos a guardar</font>"
   ]
  },
  {
   "cell_type": "code",
   "execution_count": 15,
   "metadata": {
    "ExecuteTime": {
     "end_time": "2020-12-25T17:59:27.022001Z",
     "start_time": "2020-12-25T17:59:15.986986Z"
    },
    "scrolled": false,
    "vscode": {
     "languageId": "r"
    }
   },
   "outputs": [],
   "source": [
    "data_to_save <- tdata"
   ]
  },
  {
   "attachments": {},
   "cell_type": "markdown",
   "metadata": {},
   "source": [
    "\n",
    "<font color='tomato'>Estructura de nombre de archivos:</font>\n",
    "\n",
    "* Código del caso de uso, por ejemplo \"CU_04\"\n",
    "* Número del proceso que lo genera, por ejemplo \"_05\".\n",
    "* Número de la tarea que lo genera, por ejemplo \"_01\"\n",
    "* En caso de generarse varios ficheros en la misma tarea, llevarán _01 _02 ... después\n",
    "* Nombre: identificativo de \"properData\", por ejemplo \"_zonasgeo\"\n",
    "* Extensión del archivo\n",
    "\n",
    "Ejemplo: \"CU_04_05_01_01_zonasgeo.json, primer fichero que se genera en la tarea 01 del proceso 05 (Data Collection) para el caso de uso 04 (vacunas)\n",
    "\n",
    "Importante mantener los guiones bajos antes de proceso, tarea, archivo y nombre"
   ]
  },
  {
   "attachments": {},
   "cell_type": "markdown",
   "metadata": {},
   "source": [
    "### Proceso 05"
   ]
  },
  {
   "cell_type": "code",
   "execution_count": 16,
   "metadata": {
    "ExecuteTime": {
     "end_time": "2020-12-25T17:59:27.022001Z",
     "start_time": "2020-12-25T17:59:15.986986Z"
    },
    "scrolled": false,
    "vscode": {
     "languageId": "r"
    }
   },
   "outputs": [],
   "source": [
    "caso <- \"CU_34\"\n",
    "proceso <- '_05'\n",
    "tarea <- \"_01\"\n",
    "archivo <- \"\"\n",
    "proper <- \"_secciones_geo\"\n",
    "extension <- \".json\""
   ]
  },
  {
   "attachments": {},
   "cell_type": "markdown",
   "metadata": {},
   "source": [
    "<font color='tomato'><b> OPCION A:</b> Uso del paquete \"tcltk\" para mayor comodidad</font>\n",
    "\n",
    "* Buscar carpeta, escribir nombre de archivo SIN extensión (se especifica en el código)\n",
    "* Especificar sufijo2 si es necesario\n",
    "* Cambiar datos por datos_xx si es necesario"
   ]
  },
  {
   "cell_type": "code",
   "execution_count": 17,
   "metadata": {
    "ExecuteTime": {
     "end_time": "2020-12-25T17:59:27.022001Z",
     "start_time": "2020-12-25T17:59:15.986986Z"
    },
    "scrolled": false,
    "vscode": {
     "languageId": "r"
    }
   },
   "outputs": [],
   "source": [
    "# file_save <- paste0(caso, proceso, tarea, tcltk::tkgetSaveFile(), proper, extension) \n",
    "# path_out <- paste0(oPath, file_save)\n",
    "# write_csv(data_to_save, path_out)\n",
    "\n",
    "# cat('File saved as: ')\n",
    "# path_out"
   ]
  },
  {
   "attachments": {},
   "cell_type": "markdown",
   "metadata": {},
   "source": [
    "<font color='tomato'><b> OPCION B:</b> Especificar el nombre de archivo</font>"
   ]
  },
  {
   "attachments": {},
   "cell_type": "markdown",
   "metadata": {},
   "source": [
    "- Los ficheros de salida del proceso van siempre a Data/Output/.  "
   ]
  },
  {
   "cell_type": "code",
   "execution_count": 18,
   "metadata": {
    "ExecuteTime": {
     "end_time": "2021-01-26T18:40:31.258294Z",
     "start_time": "2021-01-26T18:40:26.061847Z"
    },
    "slideshow": {
     "slide_type": "subslide"
    },
    "vscode": {
     "languageId": "r"
    }
   },
   "outputs": [
    {
     "name": "stdout",
     "output_type": "stream",
     "text": [
      "Deleting source `Data/Output/CU_34_05_01_secciones_geo.json' using driver `GeoJSON'\n",
      "Writing layer `CU_34_05_01_secciones_geo' to data source \n",
      "  `Data/Output/CU_34_05_01_secciones_geo.json' using driver `GeoJSON'\n",
      "Writing 4432 features with 16 fields and geometry type Multi Polygon.\n",
      "File saved as: "
     ]
    },
    {
     "data": {
      "text/html": [
       "'Data/Output/CU_34_05_01_secciones_geo.json'"
      ],
      "text/latex": [
       "'Data/Output/CU\\_34\\_05\\_01\\_secciones\\_geo.json'"
      ],
      "text/markdown": [
       "'Data/Output/CU_34_05_01_secciones_geo.json'"
      ],
      "text/plain": [
       "[1] \"Data/Output/CU_34_05_01_secciones_geo.json\""
      ]
     },
     "metadata": {},
     "output_type": "display_data"
    }
   ],
   "source": [
    "file_save <- paste0(caso, proceso, tarea, archivo, proper, extension) \n",
    "path_out <- paste0(oPath, file_save)\n",
    "st_write(obj = data_to_save, \n",
    "         dsn = path_out, \n",
    "         driver = \"GeoJSON\",\n",
    "         delete_dsn = TRUE)\n",
    "\n",
    "cat('File saved as: ')\n",
    "path_out"
   ]
  },
  {
   "attachments": {},
   "cell_type": "markdown",
   "metadata": {},
   "source": [
    "#### Copia del fichero a Input\n",
    "\n",
    "Si el archivo se va a usar en otros notebooks, copiar a la carpeta Input"
   ]
  },
  {
   "cell_type": "code",
   "execution_count": 19,
   "metadata": {
    "vscode": {
     "languageId": "r"
    }
   },
   "outputs": [
    {
     "data": {
      "text/html": [
       "TRUE"
      ],
      "text/latex": [
       "TRUE"
      ],
      "text/markdown": [
       "TRUE"
      ],
      "text/plain": [
       "[1] TRUE"
      ]
     },
     "metadata": {},
     "output_type": "display_data"
    }
   ],
   "source": [
    "path_in <- paste0(iPath, file_save)\n",
    "file.copy(path_out, path_in, overwrite = TRUE)"
   ]
  },
  {
   "cell_type": "markdown",
   "metadata": {},
   "source": [
    "## <font color=' #2874a6 '>Main Conclusions</font>"
   ]
  },
  {
   "cell_type": "markdown",
   "metadata": {
    "slideshow": {
     "slide_type": "slide"
    }
   },
   "source": [
    "<font color='steelblue'>List and describe the general conclusions of the analysis carried out​.</font>"
   ]
  },
  {
   "attachments": {},
   "cell_type": "markdown",
   "metadata": {},
   "source": [
    "### Prerequisites\n",
    "\n",
    "Para que funcione este código se necesita:\n",
    "\n",
    "* Las rutas de archivos `Data/Input` y `Data/Output` deben existir (relativas a la ruta del _notebook_)\n",
    "* El paquete tcltk instalado para seleccionar archivos interactivamente. No se necesita en producción.\n",
    "* Los paquetes sf, dplyr deben estar instalados.\n"
   ]
  },
  {
   "attachments": {},
   "cell_type": "markdown",
   "metadata": {},
   "source": [
    "### Configuration Management\n",
    "\n",
    "This notebook has been tested with the following versions of R and packages. It cannot be assured that later versions work in the same way:\n",
    "* R 4.2.2\n",
    "* tcltk 4.2.2\n",
    "* sf 1.0.9\n",
    "* dplyr 1.0.10"
   ]
  },
  {
   "attachments": {},
   "cell_type": "markdown",
   "metadata": {},
   "source": [
    "### Data structures"
   ]
  },
  {
   "attachments": {},
   "cell_type": "markdown",
   "metadata": {},
   "source": [
    "#### Objeto `tdata`\n",
    "\n",
    "- Hay 4432 filas con información de las siguientes variables:\n",
    "\t* CUSEC\n",
    "\t* CUMUN\n",
    "\t* CSEC\n",
    "\t* CDIS\n",
    "\t* CMUN\n",
    "\t* CPRO\n",
    "\t* CCA\n",
    "\t* CUDIS\n",
    "\t* CLAU2\n",
    "\t* NPRO\n",
    "\t* NCA\n",
    "\t* CNUT0\n",
    "\t* CNUT1\n",
    "\t* CNUT2\n",
    "\t* CNUT3\n",
    "\t* NMUN\n",
    "\t* geometry\n"
   ]
  },
  {
   "attachments": {},
   "cell_type": "markdown",
   "metadata": {},
   "source": [
    "#### Observaciones generales sobre los datos\n",
    "\n",
    "* Los contornos se han descargado para 2022. Si se usan datos históricos puede que cambien las secciones censales"
   ]
  },
  {
   "attachments": {},
   "cell_type": "markdown",
   "metadata": {},
   "source": [
    "### Consideraciones para despliegue en piloto\n",
    "\n",
    "* No aplica"
   ]
  },
  {
   "attachments": {},
   "cell_type": "markdown",
   "metadata": {},
   "source": [
    "### Consideraciones para despliegue en producción\n",
    "\n",
    "* Se deben crear los procesos ETL en producción necesarios para que los datos de entrada estén actualizados"
   ]
  },
  {
   "cell_type": "markdown",
   "metadata": {},
   "source": [
    "## <font color=' #2874a6 '>Main Actions</font>"
   ]
  },
  {
   "cell_type": "markdown",
   "metadata": {},
   "source": [
    "#### <font color=' #2874a6 '>Acciones done</font>"
   ]
  },
  {
   "cell_type": "markdown",
   "metadata": {
    "slideshow": {
     "slide_type": "slide"
    }
   },
   "source": [
    "<font color='steelblue'>Indicate the actions that have been carried out in this process</font>"
   ]
  },
  {
   "attachments": {},
   "cell_type": "markdown",
   "metadata": {},
   "source": [
    "- Se ha transformado el sistema de referencia a EPSG 4258\n",
    "- Se han guardado los datos en un único archivo JSON"
   ]
  },
  {
   "cell_type": "markdown",
   "metadata": {},
   "source": [
    "#### <font color=' #2874a6 '>Acctions to perform</font>"
   ]
  },
  {
   "cell_type": "markdown",
   "metadata": {
    "slideshow": {
     "slide_type": "slide"
    }
   },
   "source": [
    "<font color='steelblue'>Indicate the actions that must be carried out in subsequent processes</font>"
   ]
  },
  {
   "attachments": {},
   "cell_type": "markdown",
   "metadata": {},
   "source": [
    "- Se debe calcular la superficie de los polígonos"
   ]
  },
  {
   "attachments": {},
   "cell_type": "markdown",
   "metadata": {},
   "source": [
    "## <font color='RED'>CODE TO DEPLOY (PILOT)</font>\n",
    "\n",
    "A continuación se incluirá el código que deba ser llevado a despliegue para producción, dado que se entiende efectúa operaciones necesarias sobre los datos en la ejecución del prototipo"
   ]
  },
  {
   "attachments": {},
   "cell_type": "markdown",
   "metadata": {},
   "source": [
    "<font color=' red '><b>Description</b></font>\n",
    "\n",
    "- No hay nada que desplegar en el piloto, ya que estos datos son estáticos o en todo caso cambian con muy poca frecuencia, altamente improbable durante el proyecto.\n"
   ]
  },
  {
   "attachments": {},
   "cell_type": "markdown",
   "metadata": {},
   "source": [
    "<font color=' red '><b>CODE</b></font>"
   ]
  },
  {
   "cell_type": "code",
   "execution_count": 20,
   "metadata": {
    "vscode": {
     "languageId": "r"
    }
   },
   "outputs": [],
   "source": [
    "# incluir código"
   ]
  }
 ],
 "metadata": {
  "anaconda-cloud": {},
  "celltoolbar": "Slideshow",
  "hide_input": false,
  "kernelspec": {
   "display_name": "R",
   "language": "R",
   "name": "ir"
  },
  "language_info": {
   "codemirror_mode": "r",
   "file_extension": ".r",
   "mimetype": "text/x-r-source",
   "name": "R",
   "pygments_lexer": "r",
   "version": "4.2.2"
  },
  "latex_envs": {
   "LaTeX_envs_menu_present": true,
   "autoclose": false,
   "autocomplete": true,
   "bibliofile": "biblio.bib",
   "cite_by": "apalike",
   "current_citInitial": 1,
   "eqLabelWithNumbers": true,
   "eqNumInitial": 1,
   "hotkeys": {
    "equation": "Ctrl-E",
    "itemize": "Ctrl-I"
   },
   "labels_anchors": false,
   "latex_user_defs": false,
   "report_style_numbering": true,
   "user_envs_cfg": false
  },
  "toc": {
   "base_numbering": 1,
   "nav_menu": {
    "height": "11.6px",
    "width": "160px"
   },
   "number_sections": false,
   "sideBar": true,
   "skip_h1_title": true,
   "title_cell": "Table of Contents",
   "title_sidebar": "Contents",
   "toc_cell": true,
   "toc_position": {
    "height": "calc(100% - 180px)",
    "left": "10px",
    "top": "150px",
    "width": "209.2px"
   },
   "toc_section_display": true,
   "toc_window_display": true
  },
  "varInspector": {
   "cols": {
    "lenName": 16,
    "lenType": 16,
    "lenVar": 40
   },
   "kernels_config": {
    "python": {
     "delete_cmd_postfix": "",
     "delete_cmd_prefix": "del ",
     "library": "var_list.py",
     "varRefreshCmd": "print(var_dic_list())"
    },
    "r": {
     "delete_cmd_postfix": ") ",
     "delete_cmd_prefix": "rm(",
     "library": "var_list.r",
     "varRefreshCmd": "cat(var_dic_list()) "
    }
   },
   "types_to_exclude": [
    "module",
    "function",
    "builtin_function_or_method",
    "instance",
    "_Feature"
   ],
   "window_display": false
  }
 },
 "nbformat": 4,
 "nbformat_minor": 1
}
