{
 "cells": [
  {
   "cell_type": "markdown",
   "metadata": {
    "slideshow": {
     "slide_type": "slide"
    }
   },
   "source": [
    "<img src=\".\\images\\Logo.png\" width=150 align=\"left\" /> <img src=\".\\images\\Logo2.jpg\" width=450 align=\"right\" />"
   ]
  },
  {
   "attachments": {},
   "cell_type": "markdown",
   "metadata": {
    "slideshow": {
     "slide_type": "slide"
    }
   },
   "source": [
    "\n",
    "# <center><font color= #1e8449 > <b>CU25_Modelo de gestión de Lista de Espera Quirúrgica</font></center>"
   ]
  },
  {
   "cell_type": "markdown",
   "metadata": {
    "slideshow": {
     "slide_type": "slide"
    }
   },
   "source": [
    "<font color='steelblue'><b>Citizenlab Data Science Methodology > III - Feature Engineering Domain </font>\n",
    "***\n",
    "> # <font color='steelblue'> <b>15.- Feature Importance</font>"
   ]
  },
  {
   "cell_type": "markdown",
   "metadata": {
    "slideshow": {
     "slide_type": "slide"
    }
   },
   "source": [
    "<font color='steelblue'>Feature Importance is the process that assigns scores to the input characteristics to a model, which indicate the relative importance of each characteristic, in order, for example, to be able to select the most important ones.</font>\n"
   ]
  },
  {
   "cell_type": "markdown",
   "metadata": {
    "slideshow": {
     "slide_type": "slide"
    }
   },
   "source": [
    "## <font color='steelblue'>Tasks</font>"
   ]
  },
  {
   "cell_type": "markdown",
   "metadata": {
    "slideshow": {
     "slide_type": "slide"
    }
   },
   "source": [
    "<font color='steelblue'><b>Perform Feature importance from model coefficients</b>\t\t\t\n",
    "- Linear Regression Feature importance\t\t\n",
    "- Logistic Regression Feature importance\t\t\n",
    "    \n",
    "<font color='steelblue'><b>Perform Feature importance from Decision Tree\t\t\t\n",
    "- CART Feature Importance\t\t\n",
    "- Random Forest Regression Feature Importance\t\t\n",
    "    \n",
    "<font color='steelblue'><b>Perform Feature importance from Permutation testing</b>\t\t\t\n",
    "    \n",
    "<font color='steelblue'><b>Evaluate a Logistic Regression model with feature selection</b>\t\t\t"
   ]
  },
  {
   "cell_type": "markdown",
   "metadata": {},
   "source": [
    "## Consideraciones casos CitizenLab programados en R\n",
    "\n",
    "* Algunas de las tareas de este proceso se han realizado en los notebooks del proceso 05 Data Collection porque eran necesarias para las tareas ETL. En esos casos, en este notebook se referencia al notebook del proceso 05 correspondiente\n",
    "* Otras tareas típicas de este proceso se realizan en los notebooks del dominio IV al ser más eficiente realizarlas en el propio pipeline de modelización.\n",
    "* Por tanto en los notebooks de este proceso de manera general se incluyen las comprobaciones necesarias, y comentarios si procede\n",
    "* Las tareas del proceso se van a aplicar solo a los archivos que forman parte del despliegue, ya que hay muchos archivos intermedios que no procede pasar por este proceso\n",
    "* El nombre de archivo del notebook hace referencia al nombre de archivo del proceso 05 al que se aplica este proceso, por eso pueden no ser correlativa la numeración\n",
    "* Las comprobaciones se van a realizar teniendo en cuenta que el lenguaje utilizado en el despliegue de este caso es R"
   ]
  },
  {
   "cell_type": "markdown",
   "metadata": {},
   "source": [
    "## <font color='green'>File</font>"
   ]
  },
  {
   "attachments": {},
   "cell_type": "markdown",
   "metadata": {},
   "source": [
    "- <font color='steelblue'> <b>Input File: CU_25_09.2_01_lista_espera_completo_clean_v_01.csv</font>\n",
    "- <font color='steelblue'> <b>Output File: No aplica</font>"
   ]
  },
  {
   "cell_type": "markdown",
   "metadata": {},
   "source": [
    "### Encoding\n",
    "\n",
    "Con la siguiente expresión se evitan problemas con el encoding al ejecutar el notebook. Es posible que deba ser eliminada o adaptada a la máquina en la que se ejecute el código."
   ]
  },
  {
   "cell_type": "code",
   "execution_count": 18,
   "metadata": {
    "vscode": {
     "languageId": "r"
    }
   },
   "outputs": [
    {
     "data": {
      "text/html": [
       "'LC_COLLATE=es_ES.UTF-8;LC_CTYPE=es_ES.UTF-8;LC_MONETARY=es_ES.UTF-8;LC_NUMERIC=C;LC_TIME=es_ES.UTF-8'"
      ],
      "text/latex": [
       "'LC\\_COLLATE=es\\_ES.UTF-8;LC\\_CTYPE=es\\_ES.UTF-8;LC\\_MONETARY=es\\_ES.UTF-8;LC\\_NUMERIC=C;LC\\_TIME=es\\_ES.UTF-8'"
      ],
      "text/markdown": [
       "'LC_COLLATE=es_ES.UTF-8;LC_CTYPE=es_ES.UTF-8;LC_MONETARY=es_ES.UTF-8;LC_NUMERIC=C;LC_TIME=es_ES.UTF-8'"
      ],
      "text/plain": [
       "[1] \"LC_COLLATE=es_ES.UTF-8;LC_CTYPE=es_ES.UTF-8;LC_MONETARY=es_ES.UTF-8;LC_NUMERIC=C;LC_TIME=es_ES.UTF-8\""
      ]
     },
     "metadata": {},
     "output_type": "display_data"
    }
   ],
   "source": [
    "Sys.setlocale(category = \"LC_ALL\", locale = \"es_ES.UTF-8\")"
   ]
  },
  {
   "cell_type": "markdown",
   "metadata": {},
   "source": [
    "## <font color='green'>Settings</font>"
   ]
  },
  {
   "cell_type": "markdown",
   "metadata": {},
   "source": [
    "### Libraries to use"
   ]
  },
  {
   "cell_type": "code",
   "execution_count": 19,
   "metadata": {
    "vscode": {
     "languageId": "r"
    }
   },
   "outputs": [],
   "source": [
    "library(readr)\n",
    "library(dplyr)\n",
    "library(tidyr)\n",
    "library(forcats)\n",
    "library(lubridate)\n",
    "library(rpart)"
   ]
  },
  {
   "cell_type": "markdown",
   "metadata": {},
   "source": [
    "### Paths"
   ]
  },
  {
   "cell_type": "code",
   "execution_count": 20,
   "metadata": {
    "vscode": {
     "languageId": "r"
    }
   },
   "outputs": [],
   "source": [
    "iPath <- \"Data/Input/\"\n",
    "oPath <- \"Data/Output/\""
   ]
  },
  {
   "cell_type": "markdown",
   "metadata": {},
   "source": [
    "## <font color='green'>Data Load</font>"
   ]
  },
  {
   "cell_type": "markdown",
   "metadata": {},
   "source": [
    "<font color='tomato'><b> OPCION A:</b> Seleccionar fichero en ventana para mayor comodidad</font> "
   ]
  },
  {
   "cell_type": "markdown",
   "metadata": {},
   "source": [
    "Data load using the {tcltk} package. Ucomment the line if using this option"
   ]
  },
  {
   "cell_type": "code",
   "execution_count": 21,
   "metadata": {
    "vscode": {
     "languageId": "r"
    }
   },
   "outputs": [],
   "source": [
    "# file_data <- tcltk::tk_choose.files(multi = FALSE)"
   ]
  },
  {
   "cell_type": "markdown",
   "metadata": {},
   "source": [
    "<font color='tomato'><b> OPCION B:</b> Especificar el nombre de archivo</font>\n",
    "\n"
   ]
  },
  {
   "cell_type": "code",
   "execution_count": 22,
   "metadata": {
    "vscode": {
     "languageId": "r"
    }
   },
   "outputs": [
    {
     "name": "stdout",
     "output_type": "stream",
     "text": [
      "Se leerán datos del archivo:  Data/Input/CU_25_09.2_01_lista_espera_completo_clean_v_01.csv"
     ]
    }
   ],
   "source": [
    "iFile <- \"CU_25_09.2_01_lista_espera_completo_clean_v_01.csv\"\n",
    "file_data <- paste0(iPath, iFile)\n",
    "\n",
    "if(file.exists(file_data)){\n",
    "    cat(\"Se leerán datos del archivo: \", file_data)\n",
    "} else{\n",
    "    warning(\"Cuidado: el archivo no existe.\")\n",
    "}\n"
   ]
  },
  {
   "cell_type": "markdown",
   "metadata": {},
   "source": [
    "#### Data file to dataframe\n",
    "\n",
    "Usar la función adecuada según el formato de entrada (xlsx, csv, json, ...)"
   ]
  },
  {
   "cell_type": "code",
   "execution_count": 23,
   "metadata": {
    "vscode": {
     "languageId": "r"
    }
   },
   "outputs": [],
   "source": [
    "data <- read.csv(file_data)\n"
   ]
  },
  {
   "cell_type": "markdown",
   "metadata": {},
   "source": [
    "Estructura de  los datos:"
   ]
  },
  {
   "cell_type": "code",
   "execution_count": 24,
   "metadata": {
    "vscode": {
     "languageId": "r"
    }
   },
   "outputs": [
    {
     "name": "stdout",
     "output_type": "stream",
     "text": [
      "Rows: 55,216\n",
      "Columns: 46\n",
      "$ Hospital          \u001b[3m\u001b[90m<chr>\u001b[39m\u001b[23m \"HOSPITAL REY JUAN CARLOS\", \"HOSPITAL CENTRAL DE LA …\n",
      "$ Especialidad      \u001b[3m\u001b[90m<chr>\u001b[39m\u001b[23m \"UROLOGÍA\", \"ODONTOESTOMATOLOGÍA\", \"GINECOLOGÍA\", \"D…\n",
      "$ total_pacientes   \u001b[3m\u001b[90m<int>\u001b[39m\u001b[23m 344, 0, 52, 37, 0, 4, 0, 718, 0, 271, 108, 0, 34, 86…\n",
      "$ ano               \u001b[3m\u001b[90m<int>\u001b[39m\u001b[23m 2021, 2020, 2021, 2021, 2021, 2020, 2021, 2020, 2021…\n",
      "$ semana            \u001b[3m\u001b[90m<int>\u001b[39m\u001b[23m 30, 36, 49, 23, 3, 5, 50, 7, 35, 1, 42, 10, 21, 33, …\n",
      "$ CODCNH            \u001b[3m\u001b[90m<int>\u001b[39m\u001b[23m 281348, 280724, 281292, 281292, 281236, 280724, 2807…\n",
      "$ id_area           \u001b[3m\u001b[90m<int>\u001b[39m\u001b[23m 8, 7, 11, 11, 11, 7, 3, 6, 1, 2, 2, 8, 11, 11, 1, 3,…\n",
      "$ nombre_area       \u001b[3m\u001b[90m<chr>\u001b[39m\u001b[23m \"SUR-OESTE I\", \"CENTRO-OESTE\", \"SUR II\", \"SUR II\", \"…\n",
      "$ cmunicipio        \u001b[3m\u001b[90m<int>\u001b[39m\u001b[23m 280920, 280796, 280133, 280133, 281610, 280796, 2800…\n",
      "$ Municipio         \u001b[3m\u001b[90m<chr>\u001b[39m\u001b[23m \"MÓSTOLES\", \"MADRID\", \"ARANJUEZ\", \"ARANJUEZ\", \"VALDE…\n",
      "$ CAMAS             \u001b[3m\u001b[90m<int>\u001b[39m\u001b[23m 382, 475, 98, 98, 182, 475, 507, 613, 269, 1143, 156…\n",
      "$ Clase             \u001b[3m\u001b[90m<chr>\u001b[39m\u001b[23m \"HOSPITALES GENERALES\", \"HOSPITALES GENERALES\", \"HOS…\n",
      "$ Dependencia       \u001b[3m\u001b[90m<chr>\u001b[39m\u001b[23m \"SERVICIOS E INSTITUTOS DE SALUD DE LAS COMUNIDADES …\n",
      "$ TAC               \u001b[3m\u001b[90m<int>\u001b[39m\u001b[23m 2, 2, 1, 1, 1, 2, 3, 3, 0, 0, 1, 2, 6, 6, 1, 3, 4, 1…\n",
      "$ RM                \u001b[3m\u001b[90m<int>\u001b[39m\u001b[23m 3, 2, 1, 1, 2, 2, 2, 3, 0, 0, 0, 2, 5, 5, 1, 2, 4, 1…\n",
      "$ GAM               \u001b[3m\u001b[90m<int>\u001b[39m\u001b[23m 0, 0, 0, 0, 0, 0, 1, 0, 0, 0, 0, 1, 2, 2, 0, 0, 2, 0…\n",
      "$ HEM               \u001b[3m\u001b[90m<int>\u001b[39m\u001b[23m 1, 2, 0, 0, 1, 2, 1, 2, 0, 0, 0, 1, 3, 3, 0, 1, 1, 0…\n",
      "$ ASD               \u001b[3m\u001b[90m<int>\u001b[39m\u001b[23m 2, 1, 1, 1, 1, 1, 1, 3, 0, 0, 0, 1, 2, 2, 0, 1, 2, 1…\n",
      "$ ALI               \u001b[3m\u001b[90m<int>\u001b[39m\u001b[23m 1, 2, 0, 0, 0, 2, 0, 4, 0, 0, 0, 0, 3, 3, 0, 2, 2, 0…\n",
      "$ SPECT             \u001b[3m\u001b[90m<int>\u001b[39m\u001b[23m 1, 1, 0, 0, 0, 1, 0, 4, 0, 0, 0, 0, 3, 3, 0, 0, 0, 0…\n",
      "$ MAMOS             \u001b[3m\u001b[90m<int>\u001b[39m\u001b[23m 2, 1, 1, 1, 1, 1, 2, 2, 0, 0, 1, 2, 3, 3, 1, 1, 3, 1…\n",
      "$ DO                \u001b[3m\u001b[90m<int>\u001b[39m\u001b[23m 1, 1, 0, 0, 1, 1, 1, 1, 0, 0, 1, 1, 2, 2, 0, 1, 2, 0…\n",
      "$ DIAL              \u001b[3m\u001b[90m<int>\u001b[39m\u001b[23m 20, 24, 13, 13, 17, 24, 28, 31, 0, 0, 0, 28, 43, 43,…\n",
      "$ X                 \u001b[3m\u001b[90m<dbl>\u001b[39m\u001b[23m -3.870412, -3.745529, -3.610795, -3.610795, -3.69744…\n",
      "$ Y                 \u001b[3m\u001b[90m<dbl>\u001b[39m\u001b[23m 40.33920, 40.38791, 40.05726, 40.05726, 40.19884, 40…\n",
      "$ t3_1              \u001b[3m\u001b[90m<dbl>\u001b[39m\u001b[23m 42.34715, 45.37878, 42.06149, 42.06149, 42.06149, 45…\n",
      "$ t1_1              \u001b[3m\u001b[90m<int>\u001b[39m\u001b[23m 532487, 511605, 899702, 899702, 899702, 511605, 3830…\n",
      "$ t2_1              \u001b[3m\u001b[90m<dbl>\u001b[39m\u001b[23m 0.5122493, 0.5296804, 0.5240445, 0.5240445, 0.524044…\n",
      "$ t2_2              \u001b[3m\u001b[90m<dbl>\u001b[39m\u001b[23m 0.4877507, 0.4703198, 0.4759555, 0.4759555, 0.475955…\n",
      "$ t4_1              \u001b[3m\u001b[90m<dbl>\u001b[39m\u001b[23m 0.1659665, 0.1054260, 0.1540793, 0.1540793, 0.154079…\n",
      "$ t4_2              \u001b[3m\u001b[90m<dbl>\u001b[39m\u001b[23m 0.6371549, 0.6742432, 0.6753787, 0.6753787, 0.675378…\n",
      "$ t4_3              \u001b[3m\u001b[90m<dbl>\u001b[39m\u001b[23m 0.1968769, 0.2203341, 0.1705449, 0.1705449, 0.170544…\n",
      "$ t5_1              \u001b[3m\u001b[90m<dbl>\u001b[39m\u001b[23m 0.1137647, 0.1744493, 0.1747059, 0.1747059, 0.174705…\n",
      "$ t6_1              \u001b[3m\u001b[90m<dbl>\u001b[39m\u001b[23m 0.1604646, 0.2629599, 0.2641879, 0.2641879, 0.264187…\n",
      "$ t7_1              \u001b[3m\u001b[90m<dbl>\u001b[39m\u001b[23m 0.05422176, 0.05481008, 0.04898547, 0.04898547, 0.04…\n",
      "$ t8_1              \u001b[3m\u001b[90m<dbl>\u001b[39m\u001b[23m 0.04120012, 0.04653221, 0.03679912, 0.03679912, 0.03…\n",
      "$ t9_1              \u001b[3m\u001b[90m<dbl>\u001b[39m\u001b[23m 0.3348780, 0.4914365, 0.3346063, 0.3346063, 0.334606…\n",
      "$ t10_1             \u001b[3m\u001b[90m<dbl>\u001b[39m\u001b[23m 0.13692541, 0.12170996, 0.15173209, 0.15173209, 0.15…\n",
      "$ t11_1             \u001b[3m\u001b[90m<dbl>\u001b[39m\u001b[23m 0.5072726, 0.4915713, 0.5024130, 0.5024130, 0.502413…\n",
      "$ t12_1             \u001b[3m\u001b[90m<dbl>\u001b[39m\u001b[23m 0.5849309, 0.5597213, 0.5900028, 0.5900028, 0.590002…\n",
      "$ capacidad         \u001b[3m\u001b[90m<int>\u001b[39m\u001b[23m 17, 0, 8, 5, 0, 5, 1, 24, 6, 6, 30, 4, 2, 15, 20, 6,…\n",
      "$ pacientes         \u001b[3m\u001b[90m<int>\u001b[39m\u001b[23m 1447, 1211, 1293, 1501, 1240, 1504, 1502, 1533, 1463…\n",
      "$ consultas         \u001b[3m\u001b[90m<int>\u001b[39m\u001b[23m 573, 45, 108, 103, 44, 42, 36, 1119, 34, 466, 220, 6…\n",
      "$ hospitalizaciones \u001b[3m\u001b[90m<int>\u001b[39m\u001b[23m 12, 0, 2, 2, 0, 1, 0, 4, 0, 12, 3, 0, 2, 4, 1, 2, 15…\n",
      "$ Target            \u001b[3m\u001b[90m<dbl>\u001b[39m\u001b[23m 54.45, 0.00, 37.96, 23.14, 0.00, 6.25, 0.00, 78.20, …\n",
      "$ is_train          \u001b[3m\u001b[90m<lgl>\u001b[39m\u001b[23m TRUE, TRUE, TRUE, TRUE, TRUE, TRUE, TRUE, TRUE, TRUE…\n"
     ]
    }
   ],
   "source": [
    "data |> glimpse()"
   ]
  },
  {
   "cell_type": "markdown",
   "metadata": {},
   "source": [
    "Muestra de los primeros datos:"
   ]
  },
  {
   "cell_type": "code",
   "execution_count": 25,
   "metadata": {
    "vscode": {
     "languageId": "r"
    }
   },
   "outputs": [
    {
     "data": {
      "text/html": [
       "<table class=\"dataframe\">\n",
       "<caption>A data.frame: 5 × 46</caption>\n",
       "<thead>\n",
       "\t<tr><th scope=col>Hospital</th><th scope=col>Especialidad</th><th scope=col>total_pacientes</th><th scope=col>ano</th><th scope=col>semana</th><th scope=col>CODCNH</th><th scope=col>id_area</th><th scope=col>nombre_area</th><th scope=col>cmunicipio</th><th scope=col>Municipio</th><th scope=col>⋯</th><th scope=col>t9_1</th><th scope=col>t10_1</th><th scope=col>t11_1</th><th scope=col>t12_1</th><th scope=col>capacidad</th><th scope=col>pacientes</th><th scope=col>consultas</th><th scope=col>hospitalizaciones</th><th scope=col>Target</th><th scope=col>is_train</th></tr>\n",
       "\t<tr><th scope=col>&lt;chr&gt;</th><th scope=col>&lt;chr&gt;</th><th scope=col>&lt;int&gt;</th><th scope=col>&lt;int&gt;</th><th scope=col>&lt;int&gt;</th><th scope=col>&lt;int&gt;</th><th scope=col>&lt;int&gt;</th><th scope=col>&lt;chr&gt;</th><th scope=col>&lt;int&gt;</th><th scope=col>&lt;chr&gt;</th><th scope=col>⋯</th><th scope=col>&lt;dbl&gt;</th><th scope=col>&lt;dbl&gt;</th><th scope=col>&lt;dbl&gt;</th><th scope=col>&lt;dbl&gt;</th><th scope=col>&lt;int&gt;</th><th scope=col>&lt;int&gt;</th><th scope=col>&lt;int&gt;</th><th scope=col>&lt;int&gt;</th><th scope=col>&lt;dbl&gt;</th><th scope=col>&lt;lgl&gt;</th></tr>\n",
       "</thead>\n",
       "<tbody>\n",
       "\t<tr><td>HOSPITAL REY JUAN CARLOS                 </td><td>UROLOGÍA           </td><td>344</td><td>2021</td><td>30</td><td>281348</td><td> 8</td><td>SUR-OESTE I </td><td>280920</td><td>MÓSTOLES </td><td>⋯</td><td>0.3348780</td><td>0.1369254</td><td>0.5072726</td><td>0.5849309</td><td>17</td><td>1447</td><td>573</td><td>12</td><td>54.45</td><td>TRUE</td></tr>\n",
       "\t<tr><td>HOSPITAL CENTRAL DE LA DEFENSA GOMEZ ULLA</td><td>ODONTOESTOMATOLOGÍA</td><td>  0</td><td>2020</td><td>36</td><td>280724</td><td> 7</td><td>CENTRO-OESTE</td><td>280796</td><td>MADRID   </td><td>⋯</td><td>0.4914365</td><td>0.1217100</td><td>0.4915713</td><td>0.5597213</td><td> 0</td><td>1211</td><td> 45</td><td> 0</td><td> 0.00</td><td>TRUE</td></tr>\n",
       "\t<tr><td>HOSPITAL UNIVERSITARIO DEL TAJO          </td><td>GINECOLOGÍA        </td><td> 52</td><td>2021</td><td>49</td><td>281292</td><td>11</td><td>SUR II      </td><td>280133</td><td>ARANJUEZ </td><td>⋯</td><td>0.3346063</td><td>0.1517321</td><td>0.5024130</td><td>0.5900028</td><td> 8</td><td>1293</td><td>108</td><td> 2</td><td>37.96</td><td>TRUE</td></tr>\n",
       "\t<tr><td>HOSPITAL UNIVERSITARIO DEL TAJO          </td><td>DERMATOLOGÍA       </td><td> 37</td><td>2021</td><td>23</td><td>281292</td><td>11</td><td>SUR II      </td><td>280133</td><td>ARANJUEZ </td><td>⋯</td><td>0.3346063</td><td>0.1517321</td><td>0.5024130</td><td>0.5900028</td><td> 5</td><td>1501</td><td>103</td><td> 2</td><td>23.14</td><td>TRUE</td></tr>\n",
       "\t<tr><td>HOSPITAL UNIVERSITARIO INFANTA ELENA     </td><td>ODONTOESTOMATOLOGÍA</td><td>  0</td><td>2021</td><td> 3</td><td>281236</td><td>11</td><td>SUR II      </td><td>281610</td><td>VALDEMORO</td><td>⋯</td><td>0.3346063</td><td>0.1517321</td><td>0.5024130</td><td>0.5900028</td><td> 0</td><td>1240</td><td> 44</td><td> 0</td><td> 0.00</td><td>TRUE</td></tr>\n",
       "</tbody>\n",
       "</table>\n"
      ],
      "text/latex": [
       "A data.frame: 5 × 46\n",
       "\\begin{tabular}{lllllllllllllllllllll}\n",
       " Hospital & Especialidad & total\\_pacientes & ano & semana & CODCNH & id\\_area & nombre\\_area & cmunicipio & Municipio & ⋯ & t9\\_1 & t10\\_1 & t11\\_1 & t12\\_1 & capacidad & pacientes & consultas & hospitalizaciones & Target & is\\_train\\\\\n",
       " <chr> & <chr> & <int> & <int> & <int> & <int> & <int> & <chr> & <int> & <chr> & ⋯ & <dbl> & <dbl> & <dbl> & <dbl> & <int> & <int> & <int> & <int> & <dbl> & <lgl>\\\\\n",
       "\\hline\n",
       "\t HOSPITAL REY JUAN CARLOS                  & UROLOGÍA            & 344 & 2021 & 30 & 281348 &  8 & SUR-OESTE I  & 280920 & MÓSTOLES  & ⋯ & 0.3348780 & 0.1369254 & 0.5072726 & 0.5849309 & 17 & 1447 & 573 & 12 & 54.45 & TRUE\\\\\n",
       "\t HOSPITAL CENTRAL DE LA DEFENSA GOMEZ ULLA & ODONTOESTOMATOLOGÍA &   0 & 2020 & 36 & 280724 &  7 & CENTRO-OESTE & 280796 & MADRID    & ⋯ & 0.4914365 & 0.1217100 & 0.4915713 & 0.5597213 &  0 & 1211 &  45 &  0 &  0.00 & TRUE\\\\\n",
       "\t HOSPITAL UNIVERSITARIO DEL TAJO           & GINECOLOGÍA         &  52 & 2021 & 49 & 281292 & 11 & SUR II       & 280133 & ARANJUEZ  & ⋯ & 0.3346063 & 0.1517321 & 0.5024130 & 0.5900028 &  8 & 1293 & 108 &  2 & 37.96 & TRUE\\\\\n",
       "\t HOSPITAL UNIVERSITARIO DEL TAJO           & DERMATOLOGÍA        &  37 & 2021 & 23 & 281292 & 11 & SUR II       & 280133 & ARANJUEZ  & ⋯ & 0.3346063 & 0.1517321 & 0.5024130 & 0.5900028 &  5 & 1501 & 103 &  2 & 23.14 & TRUE\\\\\n",
       "\t HOSPITAL UNIVERSITARIO INFANTA ELENA      & ODONTOESTOMATOLOGÍA &   0 & 2021 &  3 & 281236 & 11 & SUR II       & 281610 & VALDEMORO & ⋯ & 0.3346063 & 0.1517321 & 0.5024130 & 0.5900028 &  0 & 1240 &  44 &  0 &  0.00 & TRUE\\\\\n",
       "\\end{tabular}\n"
      ],
      "text/markdown": [
       "\n",
       "A data.frame: 5 × 46\n",
       "\n",
       "| Hospital &lt;chr&gt; | Especialidad &lt;chr&gt; | total_pacientes &lt;int&gt; | ano &lt;int&gt; | semana &lt;int&gt; | CODCNH &lt;int&gt; | id_area &lt;int&gt; | nombre_area &lt;chr&gt; | cmunicipio &lt;int&gt; | Municipio &lt;chr&gt; | ⋯ ⋯ | t9_1 &lt;dbl&gt; | t10_1 &lt;dbl&gt; | t11_1 &lt;dbl&gt; | t12_1 &lt;dbl&gt; | capacidad &lt;int&gt; | pacientes &lt;int&gt; | consultas &lt;int&gt; | hospitalizaciones &lt;int&gt; | Target &lt;dbl&gt; | is_train &lt;lgl&gt; |\n",
       "|---|---|---|---|---|---|---|---|---|---|---|---|---|---|---|---|---|---|---|---|---|\n",
       "| HOSPITAL REY JUAN CARLOS                  | UROLOGÍA            | 344 | 2021 | 30 | 281348 |  8 | SUR-OESTE I  | 280920 | MÓSTOLES  | ⋯ | 0.3348780 | 0.1369254 | 0.5072726 | 0.5849309 | 17 | 1447 | 573 | 12 | 54.45 | TRUE |\n",
       "| HOSPITAL CENTRAL DE LA DEFENSA GOMEZ ULLA | ODONTOESTOMATOLOGÍA |   0 | 2020 | 36 | 280724 |  7 | CENTRO-OESTE | 280796 | MADRID    | ⋯ | 0.4914365 | 0.1217100 | 0.4915713 | 0.5597213 |  0 | 1211 |  45 |  0 |  0.00 | TRUE |\n",
       "| HOSPITAL UNIVERSITARIO DEL TAJO           | GINECOLOGÍA         |  52 | 2021 | 49 | 281292 | 11 | SUR II       | 280133 | ARANJUEZ  | ⋯ | 0.3346063 | 0.1517321 | 0.5024130 | 0.5900028 |  8 | 1293 | 108 |  2 | 37.96 | TRUE |\n",
       "| HOSPITAL UNIVERSITARIO DEL TAJO           | DERMATOLOGÍA        |  37 | 2021 | 23 | 281292 | 11 | SUR II       | 280133 | ARANJUEZ  | ⋯ | 0.3346063 | 0.1517321 | 0.5024130 | 0.5900028 |  5 | 1501 | 103 |  2 | 23.14 | TRUE |\n",
       "| HOSPITAL UNIVERSITARIO INFANTA ELENA      | ODONTOESTOMATOLOGÍA |   0 | 2021 |  3 | 281236 | 11 | SUR II       | 281610 | VALDEMORO | ⋯ | 0.3346063 | 0.1517321 | 0.5024130 | 0.5900028 |  0 | 1240 |  44 |  0 |  0.00 | TRUE |\n",
       "\n"
      ],
      "text/plain": [
       "  Hospital                                  Especialidad        total_pacientes\n",
       "1 HOSPITAL REY JUAN CARLOS                  UROLOGÍA            344            \n",
       "2 HOSPITAL CENTRAL DE LA DEFENSA GOMEZ ULLA ODONTOESTOMATOLOGÍA   0            \n",
       "3 HOSPITAL UNIVERSITARIO DEL TAJO           GINECOLOGÍA          52            \n",
       "4 HOSPITAL UNIVERSITARIO DEL TAJO           DERMATOLOGÍA         37            \n",
       "5 HOSPITAL UNIVERSITARIO INFANTA ELENA      ODONTOESTOMATOLOGÍA   0            \n",
       "  ano  semana CODCNH id_area nombre_area  cmunicipio Municipio ⋯ t9_1     \n",
       "1 2021 30     281348  8      SUR-OESTE I  280920     MÓSTOLES  ⋯ 0.3348780\n",
       "2 2020 36     280724  7      CENTRO-OESTE 280796     MADRID    ⋯ 0.4914365\n",
       "3 2021 49     281292 11      SUR II       280133     ARANJUEZ  ⋯ 0.3346063\n",
       "4 2021 23     281292 11      SUR II       280133     ARANJUEZ  ⋯ 0.3346063\n",
       "5 2021  3     281236 11      SUR II       281610     VALDEMORO ⋯ 0.3346063\n",
       "  t10_1     t11_1     t12_1     capacidad pacientes consultas hospitalizaciones\n",
       "1 0.1369254 0.5072726 0.5849309 17        1447      573       12               \n",
       "2 0.1217100 0.4915713 0.5597213  0        1211       45        0               \n",
       "3 0.1517321 0.5024130 0.5900028  8        1293      108        2               \n",
       "4 0.1517321 0.5024130 0.5900028  5        1501      103        2               \n",
       "5 0.1517321 0.5024130 0.5900028  0        1240       44        0               \n",
       "  Target is_train\n",
       "1 54.45  TRUE    \n",
       "2  0.00  TRUE    \n",
       "3 37.96  TRUE    \n",
       "4 23.14  TRUE    \n",
       "5  0.00  TRUE    "
      ]
     },
     "metadata": {},
     "output_type": "display_data"
    }
   ],
   "source": [
    "data |> slice_head(n = 5)"
   ]
  },
  {
   "cell_type": "markdown",
   "metadata": {
    "slideshow": {
     "slide_type": "slide"
    }
   },
   "source": [
    "## Feature importance from model coefficients"
   ]
  },
  {
   "cell_type": "markdown",
   "metadata": {
    "slideshow": {
     "slide_type": "slide"
    }
   },
   "source": [
    "### Linear Regression Feature importance"
   ]
  },
  {
   "cell_type": "code",
   "execution_count": 26,
   "metadata": {
    "ExecuteTime": {
     "end_time": "2021-01-05T18:57:59.034208Z",
     "start_time": "2021-01-05T18:57:49.219178Z"
    },
    "vscode": {
     "languageId": "r"
    }
   },
   "outputs": [
    {
     "name": "stdout",
     "output_type": "stream",
     "text": [
      "                                                                                                                Feature\n",
      "(Intercept)                                                                                                 (Intercept)\n",
      "HospitalHOSPITAL GENERAL DE VILLALBA                                               HospitalHOSPITAL GENERAL DE VILLALBA\n",
      "HospitalHOSPITAL REY JUAN CARLOS                                                       HospitalHOSPITAL REY JUAN CARLOS\n",
      "HospitalHOSPITAL UNIVERSITARIO DE TORREJON                                   HospitalHOSPITAL UNIVERSITARIO DE TORREJON\n",
      "HospitalHOSPITAL UNIVERSITARIO PUERTA DE HIERRO MAJADAHONDA HospitalHOSPITAL UNIVERSITARIO PUERTA DE HIERRO MAJADAHONDA\n",
      "HospitalHOSPITAL UNIVERSITARIO INFANTA CRISTINA                         HospitalHOSPITAL UNIVERSITARIO INFANTA CRISTINA\n",
      "HospitalHOSPITAL UNIVERSITARIO DEL TAJO                                         HospitalHOSPITAL UNIVERSITARIO DEL TAJO\n",
      "HospitalHOSPITAL UNIVERSITARIO DEL SURESTE                                   HospitalHOSPITAL UNIVERSITARIO DEL SURESTE\n",
      "HospitalHOSPITAL UNIVERSITARIO INFANTA LEONOR                             HospitalHOSPITAL UNIVERSITARIO INFANTA LEONOR\n",
      "HospitalHOSPITAL UNIVERSITARIO DEL HENARES                                   HospitalHOSPITAL UNIVERSITARIO DEL HENARES\n",
      "HospitalHOSPITAL UNIVERSITARIO INFANTA SOFIA                               HospitalHOSPITAL UNIVERSITARIO INFANTA SOFIA\n",
      "HospitalHOSPITAL UNIVERSITARIO INFANTA ELENA                               HospitalHOSPITAL UNIVERSITARIO INFANTA ELENA\n",
      "HospitalHOSPITAL UNIVERSITARIO DE FUENLABRADA                             HospitalHOSPITAL UNIVERSITARIO DE FUENLABRADA\n",
      "HospitalHOSPITAL UNIVERSITARIO FUNDACION ALCORCON                     HospitalHOSPITAL UNIVERSITARIO FUNDACION ALCORCON\n",
      "HospitalHOSPITAL UNIVERSITARIO DE GETAFE                                       HospitalHOSPITAL UNIVERSITARIO DE GETAFE\n",
      "HospitalHOSPITAL EL ESCORIAL                                                               HospitalHOSPITAL EL ESCORIAL\n",
      "HospitalHOSPITAL UNIVERSITARIO DE MOSTOLES                                   HospitalHOSPITAL UNIVERSITARIO DE MOSTOLES\n",
      "HospitalHOSPITAL UNIVERSITARIO SEVERO OCHOA                                 HospitalHOSPITAL UNIVERSITARIO SEVERO OCHOA\n",
      "HospitalHOSPITAL UNIVERSITARIO PRINCIPE DE ASTURIAS                 HospitalHOSPITAL UNIVERSITARIO PRINCIPE DE ASTURIAS\n",
      "HospitalHOSPITAL CENTRAL DE LA DEFENSA GOMEZ ULLA                     HospitalHOSPITAL CENTRAL DE LA DEFENSA GOMEZ ULLA\n",
      "HospitalHOSPITAL UNIVERSITARIO FUNDACION JIMENEZ DIAZ             HospitalHOSPITAL UNIVERSITARIO FUNDACION JIMENEZ DIAZ\n",
      "HospitalHOSPITAL UNIVERSITARIO LA PAZ                                             HospitalHOSPITAL UNIVERSITARIO LA PAZ\n",
      "HospitalHOSPITAL RAMON Y CAJAL                                                           HospitalHOSPITAL RAMON Y CAJAL\n",
      "HospitalHOSPITAL UNIVERSITARIO 12 DE OCTUBRE                               HospitalHOSPITAL UNIVERSITARIO 12 DE OCTUBRE\n",
      "HospitalHOSPITAL GENERAL UNIVERSITARIO GREGORIO MARAÑON         HospitalHOSPITAL GENERAL UNIVERSITARIO GREGORIO MARAÑON\n",
      "HospitalHOSPITAL CLINICO SAN CARLOS                                                 HospitalHOSPITAL CLINICO SAN CARLOS\n",
      "HospitalHOSPITAL UNIVERSITARIO SANTA CRISTINA                             HospitalHOSPITAL UNIVERSITARIO SANTA CRISTINA\n",
      "HospitalHOSPITAL UNIVERSITARIO DE LA PRINCESA                             HospitalHOSPITAL UNIVERSITARIO DE LA PRINCESA\n",
      "HospitalHOSPITAL INFANTIL UNIVERSITARIO NIÑO JESUS                   HospitalHOSPITAL INFANTIL UNIVERSITARIO NIÑO JESUS\n",
      "CODCNH                                                                                                           CODCNH\n",
      "EspecialidadODONTOESTOMATOLOGÍA                                                         EspecialidadODONTOESTOMATOLOGÍA\n",
      "EspecialidadCIRUGÍA TORÁCICA                                                               EspecialidadCIRUGÍA TORÁCICA\n",
      "EspecialidadTRAUMATOLOGÍA                                                                     EspecialidadTRAUMATOLOGÍA\n",
      "EspecialidadCIRUGÍA PEDIÁTRICA GENERAL                                           EspecialidadCIRUGÍA PEDIÁTRICA GENERAL\n",
      "EspecialidadCIRUGÍA CARDIACA                                                               EspecialidadCIRUGÍA CARDIACA\n",
      "EspecialidadUROLOGÍA                                                                               EspecialidadUROLOGÍA\n",
      "EspecialidadNEUROCIRUGÍA                                                                       EspecialidadNEUROCIRUGÍA\n",
      "EspecialidadCIRUGÍA GENERAL Y DEL APARATO DIGESTIVO                 EspecialidadCIRUGÍA GENERAL Y DEL APARATO DIGESTIVO\n",
      "EspecialidadTOTAL                                                                                     EspecialidadTOTAL\n",
      "EspecialidadCIRUGÍA ORAL Y MAXILOFACIAL                                         EspecialidadCIRUGÍA ORAL Y MAXILOFACIAL\n",
      "EspecialidadDERMATOLOGÍA                                                                       EspecialidadDERMATOLOGÍA\n",
      "EspecialidadOTORRINOLARINGOLOGÍA                                                       EspecialidadOTORRINOLARINGOLOGÍA\n",
      "EspecialidadOFTALMOLOGÍA                                                                       EspecialidadOFTALMOLOGÍA\n",
      "EspecialidadCIRUGÍA PLÁSTICA Y REPARADORA                                     EspecialidadCIRUGÍA PLÁSTICA Y REPARADORA\n",
      "ano                                                                                                                 ano\n",
      "EspecialidadGINECOLOGÍA                                                                         EspecialidadGINECOLOGÍA\n",
      "is_trainTRUE                                                                                               is_trainTRUE\n",
      "capacidad                                                                                                     capacidad\n",
      "semana                                                                                                           semana\n",
      "total_pacientes                                                                                         total_pacientes\n",
      "hospitalizaciones                                                                                     hospitalizaciones\n",
      "consultas                                                                                                     consultas\n",
      "pacientes                                                                                                     pacientes\n",
      "                                                              Importance\n",
      "(Intercept)                                                 2.957680e+11\n",
      "HospitalHOSPITAL GENERAL DE VILLALBA                        1.278521e+09\n",
      "HospitalHOSPITAL REY JUAN CARLOS                            1.266908e+09\n",
      "HospitalHOSPITAL UNIVERSITARIO DE TORREJON                  1.255294e+09\n",
      "HospitalHOSPITAL UNIVERSITARIO PUERTA DE HIERRO MAJADAHONDA 1.232068e+09\n",
      "HospitalHOSPITAL UNIVERSITARIO INFANTA CRISTINA             1.220454e+09\n",
      "HospitalHOSPITAL UNIVERSITARIO DEL TAJO                     1.207785e+09\n",
      "HospitalHOSPITAL UNIVERSITARIO DEL SURESTE                  1.196172e+09\n",
      "HospitalHOSPITAL UNIVERSITARIO INFANTA LEONOR               1.184559e+09\n",
      "HospitalHOSPITAL UNIVERSITARIO DEL HENARES                  1.183503e+09\n",
      "HospitalHOSPITAL UNIVERSITARIO INFANTA SOFIA                1.171890e+09\n",
      "HospitalHOSPITAL UNIVERSITARIO INFANTA ELENA                1.148663e+09\n",
      "HospitalHOSPITAL UNIVERSITARIO DE FUENLABRADA               1.053645e+09\n",
      "HospitalHOSPITAL UNIVERSITARIO FUNDACION ALCORCON           9.744631e+08\n",
      "HospitalHOSPITAL UNIVERSITARIO DE GETAFE                    8.878911e+08\n",
      "HospitalHOSPITAL EL ESCORIAL                                8.150439e+08\n",
      "HospitalHOSPITAL UNIVERSITARIO DE MOSTOLES                  7.875942e+08\n",
      "HospitalHOSPITAL UNIVERSITARIO SEVERO OCHOA                 7.284719e+08\n",
      "HospitalHOSPITAL UNIVERSITARIO PRINCIPE DE ASTURIAS         6.302865e+08\n",
      "HospitalHOSPITAL CENTRAL DE LA DEFENSA GOMEZ ULLA           6.081157e+08\n",
      "HospitalHOSPITAL UNIVERSITARIO FUNDACION JIMENEZ DIAZ       2.882215e+08\n",
      "HospitalHOSPITAL UNIVERSITARIO LA PAZ                       1.414713e+08\n",
      "HospitalHOSPITAL RAMON Y CAJAL                              1.256350e+08\n",
      "HospitalHOSPITAL UNIVERSITARIO 12 DE OCTUBRE                1.193004e+08\n",
      "HospitalHOSPITAL GENERAL UNIVERSITARIO GREGORIO MARAÑON     1.034641e+08\n",
      "HospitalHOSPITAL CLINICO SAN CARLOS                         8.023744e+07\n",
      "HospitalHOSPITAL UNIVERSITARIO SANTA CRISTINA               3.800724e+07\n",
      "HospitalHOSPITAL UNIVERSITARIO DE LA PRINCESA               2.217086e+07\n",
      "HospitalHOSPITAL INFANTIL UNIVERSITARIO NIÑO JESUS          1.583634e+07\n",
      "CODCNH                                                      1.055756e+06\n",
      "EspecialidadODONTOESTOMATOLOGÍA                             4.312146e+01\n",
      "EspecialidadCIRUGÍA TORÁCICA                                3.441241e+01\n",
      "EspecialidadTRAUMATOLOGÍA                                   2.932081e+01\n",
      "EspecialidadCIRUGÍA PEDIÁTRICA GENERAL                      2.789507e+01\n",
      "EspecialidadCIRUGÍA CARDIACA                                2.699811e+01\n",
      "EspecialidadUROLOGÍA                                        1.617903e+01\n",
      "EspecialidadNEUROCIRUGÍA                                    1.594099e+01\n",
      "EspecialidadCIRUGÍA GENERAL Y DEL APARATO DIGESTIVO         1.318964e+01\n",
      "EspecialidadTOTAL                                           1.238248e+01\n",
      "EspecialidadCIRUGÍA ORAL Y MAXILOFACIAL                     1.087416e+01\n",
      "EspecialidadDERMATOLOGÍA                                    1.065110e+01\n",
      "EspecialidadOTORRINOLARINGOLOGÍA                            1.027569e+01\n",
      "EspecialidadOFTALMOLOGÍA                                    6.426765e+00\n",
      "EspecialidadCIRUGÍA PLÁSTICA Y REPARADORA                   3.770782e+00\n",
      "ano                                                         2.670217e+00\n",
      "EspecialidadGINECOLOGÍA                                     1.918536e+00\n",
      "is_trainTRUE                                                1.665356e-01\n",
      "capacidad                                                   1.227245e-01\n",
      "semana                                                      1.053269e-01\n",
      "total_pacientes                                             2.182061e-02\n",
      "hospitalizaciones                                           1.834939e-02\n",
      "consultas                                                   9.237181e-03\n",
      "pacientes                                                   1.540184e-03\n"
     ]
    }
   ],
   "source": [
    "# Fit a linear regression model\n",
    "model <- lm(Target ~ ., data = data)\n",
    "\n",
    "# Extract the coefficients and their names\n",
    "coefficients <- coef(model)\n",
    "names <- names(coefficients)\n",
    "\n",
    "# Calculate the absolute values of the coefficients\n",
    "abs_coefficients <- abs(coefficients)\n",
    "\n",
    "# Sort the coefficients in descending order\n",
    "sorted_coefficients <- sort(abs_coefficients, decreasing = TRUE)\n",
    "\n",
    "# Print the feature importance\n",
    "feature_importance <- data.frame(Feature = names(sorted_coefficients), Importance = sorted_coefficients)\n",
    "print(feature_importance)"
   ]
  },
  {
   "cell_type": "markdown",
   "metadata": {
    "slideshow": {
     "slide_type": "slide"
    }
   },
   "source": [
    "### Logistic Regression Feature importance"
   ]
  },
  {
   "cell_type": "markdown",
   "metadata": {
    "ExecuteTime": {
     "end_time": "2021-01-05T19:05:13.591950Z",
     "start_time": "2021-01-05T19:05:13.121757Z"
    },
    "vscode": {
     "languageId": "r"
    }
   },
   "source": [
    "No aplica"
   ]
  },
  {
   "cell_type": "markdown",
   "metadata": {
    "slideshow": {
     "slide_type": "slide"
    }
   },
   "source": [
    "## Decision Tree Feature Importance"
   ]
  },
  {
   "cell_type": "markdown",
   "metadata": {
    "slideshow": {
     "slide_type": "slide"
    }
   },
   "source": [
    "### CART Regression Feature Importance"
   ]
  },
  {
   "cell_type": "code",
   "execution_count": 27,
   "metadata": {
    "ExecuteTime": {
     "end_time": "2021-01-05T19:13:00.753678Z",
     "start_time": "2021-01-05T19:12:59.572268Z"
    },
    "vscode": {
     "languageId": "r"
    }
   },
   "outputs": [
    {
     "name": "stdout",
     "output_type": "stream",
     "text": [
      "                            Feature  Importance\n",
      "total_pacientes     total_pacientes 46585351.57\n",
      "consultas                 consultas 42984648.71\n",
      "hospitalizaciones hospitalizaciones 36939615.15\n",
      "Hospital                   Hospital 24889013.04\n",
      "Especialidad           Especialidad 24414140.39\n",
      "capacidad                 capacidad 23312800.43\n",
      "DIAL                           DIAL 11881062.31\n",
      "Municipio                 Municipio 10285219.66\n",
      "TAC                             TAC  9819026.12\n",
      "CAMAS                         CAMAS  8508724.45\n",
      "ASD                             ASD  6396715.74\n",
      "HEM                             HEM  2251712.22\n",
      "DO                               DO  1863984.85\n",
      "RM                               RM  1700792.14\n",
      "nombre_area             nombre_area  1546078.05\n",
      "Y                                 Y  1244093.28\n",
      "id_area                     id_area  1122111.35\n",
      "CODCNH                       CODCNH   804724.89\n",
      "t12_1                         t12_1   598653.71\n",
      "X                                 X   498569.19\n",
      "Dependencia             Dependencia   302727.42\n",
      "pacientes                 pacientes     1248.58\n"
     ]
    }
   ],
   "source": [
    "# Fit a CART regression model\n",
    "model <- rpart(Target ~ ., data = data, method = \"anova\")\n",
    "\n",
    "# Calculate feature importance\n",
    "importance <- round(model$variable.importance, 2)\n",
    "\n",
    "# Sort the feature importance in descending order\n",
    "sorted_importance <- sort(importance, decreasing = TRUE)\n",
    "\n",
    "# Print the feature importance\n",
    "feature_importance <- data.frame(Feature = names(sorted_importance), Importance = sorted_importance)\n",
    "print(feature_importance)"
   ]
  },
  {
   "cell_type": "markdown",
   "metadata": {
    "slideshow": {
     "slide_type": "slide"
    }
   },
   "source": [
    "### CART Classification Feature Importance"
   ]
  },
  {
   "cell_type": "code",
   "execution_count": 28,
   "metadata": {
    "ExecuteTime": {
     "end_time": "2021-01-05T19:14:06.226914Z",
     "start_time": "2021-01-05T19:14:05.926022Z"
    },
    "vscode": {
     "languageId": "r"
    }
   },
   "outputs": [],
   "source": [
    "# # Fit a CART classification model\n",
    "# library(rpart)\n",
    "# model <- rpart(Target ~ ., data = data, method = \"class\")\n",
    "\n",
    "# # Calculate feature importance\n",
    "# importance <- round(model$variable.importance, 2)\n",
    "\n",
    "# # Sort the feature importance in descending order\n",
    "# sorted_importance <- sort(importance, decreasing = TRUE)\n",
    "\n",
    "# # Print the feature importance\n",
    "# feature_importance <- data.frame(Feature = names(sorted_importance), Importance = sorted_importance)\n",
    "# print(feature_importance)"
   ]
  },
  {
   "cell_type": "markdown",
   "metadata": {
    "slideshow": {
     "slide_type": "slide"
    }
   },
   "source": [
    "### Random Forest Regression Feature Importance"
   ]
  },
  {
   "cell_type": "code",
   "execution_count": 29,
   "metadata": {
    "ExecuteTime": {
     "end_time": "2021-01-05T19:16:11.587658Z",
     "start_time": "2021-01-05T19:16:10.537917Z"
    },
    "vscode": {
     "languageId": "r"
    }
   },
   "outputs": [],
   "source": [
    "# # Fit a Random Forest regression model\n",
    "# library(randomForest)\n",
    "# model <- randomForest(Target ~ ., data = data)\n",
    "\n",
    "# # Get feature importance\n",
    "# importance <- importance(model)\n",
    "\n",
    "# # Print the feature importance\n",
    "# print(importance)"
   ]
  },
  {
   "cell_type": "markdown",
   "metadata": {
    "slideshow": {
     "slide_type": "slide"
    }
   },
   "source": [
    "### Random Forest Classification Feature Importance"
   ]
  },
  {
   "cell_type": "markdown",
   "metadata": {
    "ExecuteTime": {
     "end_time": "2021-01-05T19:17:16.936416Z",
     "start_time": "2021-01-05T19:17:16.319183Z"
    },
    "vscode": {
     "languageId": "r"
    }
   },
   "source": [
    "No aplica"
   ]
  },
  {
   "cell_type": "markdown",
   "metadata": {
    "slideshow": {
     "slide_type": "slide"
    }
   },
   "source": [
    "## Permutation Feature Importance"
   ]
  },
  {
   "cell_type": "markdown",
   "metadata": {
    "slideshow": {
     "slide_type": "slide"
    }
   },
   "source": [
    "### Permutation Feature Importance for Regression"
   ]
  },
  {
   "cell_type": "code",
   "execution_count": 30,
   "metadata": {
    "ExecuteTime": {
     "end_time": "2021-01-05T19:20:52.115927Z",
     "start_time": "2021-01-05T19:20:51.097436Z"
    },
    "vscode": {
     "languageId": "r"
    }
   },
   "outputs": [],
   "source": [
    "# # Install and load the 'iml' package\n",
    "\n",
    "# # Fit a regression model\n",
    "# model <- lm(Target ~ ., data = data)\n",
    "\n",
    "# # Create an instance of the 'FeatureImp' class\n",
    "# feature_imp <- FeatureImp$new(model, data = data, y = data$Target)\n",
    "\n",
    "# # Calculate permutation feature importance\n",
    "# perm_importance <- feature_imp$permutation()\n",
    "\n",
    "# # Print the permutation feature importance\n",
    "# print(perm_importance)"
   ]
  },
  {
   "cell_type": "markdown",
   "metadata": {
    "slideshow": {
     "slide_type": "slide"
    }
   },
   "source": [
    "### Permutation Feature Importance for Classification"
   ]
  },
  {
   "cell_type": "markdown",
   "metadata": {
    "ExecuteTime": {
     "end_time": "2021-01-05T19:23:45.248360Z",
     "start_time": "2021-01-05T19:23:42.500254Z"
    },
    "vscode": {
     "languageId": "r"
    }
   },
   "source": [
    "No aplica"
   ]
  },
  {
   "attachments": {},
   "cell_type": "markdown",
   "metadata": {
    "slideshow": {
     "slide_type": "slide"
    }
   },
   "source": [
    "## Evaluating a Regression model with feature selection."
   ]
  },
  {
   "cell_type": "markdown",
   "metadata": {
    "slideshow": {
     "slide_type": "slide"
    }
   },
   "source": [
    "### Evaluating with all selected features."
   ]
  },
  {
   "cell_type": "code",
   "execution_count": 56,
   "metadata": {
    "ExecuteTime": {
     "end_time": "2021-01-05T19:31:42.181362Z",
     "start_time": "2021-01-05T19:31:42.065465Z"
    },
    "vscode": {
     "languageId": "r"
    }
   },
   "outputs": [
    {
     "name": "stdout",
     "output_type": "stream",
     "text": [
      "[1] \"Mean Squared Error: 917.7152\"\n"
     ]
    }
   ],
   "source": [
    "\n",
    "library(rpart)\n",
    "library(dplyr)\n",
    "library(caTools)\n",
    "\n",
    "# Split the data into training and testing sets based on the \"is_train\" column\n",
    "train_data <- filter(data, is_train == 1)\n",
    "test_data <- filter(data, is_train == 0)\n",
    "\n",
    "\n",
    "# Select the top 5 most important features\n",
    "selected_features <- colnames(data)\n",
    "\n",
    "\n",
    "train_data_selected <- select(train_data, all_of(selected_features), Target)\n",
    "\n",
    "# Train a Linear Regression model with the selected features\n",
    "model_lm <- lm(Target ~ ., data = train_data_selected)\n",
    "\n",
    "# Select the same features from the test data\n",
    "test_data_selected <- select(test_data, all_of(selected_features), Target)\n",
    "# Make predictions on the test data\n",
    "predictions <- predict(model_lm, newdata = test_data_selected)\n",
    "\n",
    "# Calculate Mean Squared Error (MSE)\n",
    "mse <- mean((predictions - test_data_selected$Target)^2)\n",
    "print(paste(\"Mean Squared Error:\", round(mse, 4)))"
   ]
  },
  {
   "cell_type": "markdown",
   "metadata": {
    "slideshow": {
     "slide_type": "slide"
    }
   },
   "source": [
    "### Evaluating with feature selection performed using feature importance."
   ]
  },
  {
   "cell_type": "markdown",
   "metadata": {},
   "source": [
    "<font color='tomato'>Select type of Feature Importance to use</font>"
   ]
  },
  {
   "attachments": {},
   "cell_type": "markdown",
   "metadata": {
    "ExecuteTime": {
     "end_time": "2021-01-05T20:16:45.894214Z",
     "start_time": "2021-01-05T20:16:45.862960Z"
    },
    "vscode": {
     "languageId": "r"
    }
   },
   "source": [
    "Las 5 variables con mayor importancia"
   ]
  },
  {
   "cell_type": "markdown",
   "metadata": {},
   "source": [
    "<font color='darkgrey'><b>Operation</font>"
   ]
  },
  {
   "cell_type": "code",
   "execution_count": 62,
   "metadata": {
    "vscode": {
     "languageId": "r"
    }
   },
   "outputs": [
    {
     "data": {
      "text/html": [
       "<style>\n",
       ".list-inline {list-style: none; margin:0; padding: 0}\n",
       ".list-inline>li {display: inline-block}\n",
       ".list-inline>li:not(:last-child)::after {content: \"\\00b7\"; padding: 0 .5ex}\n",
       "</style>\n",
       "<ol class=list-inline><li>'Hospital'</li><li>'Especialidad'</li><li>'total_pacientes'</li><li>'ano'</li><li>'semana'</li><li>'CODCNH'</li><li>'id_area'</li><li>'nombre_area'</li><li>'cmunicipio'</li><li>'Municipio'</li><li>'CAMAS'</li><li>'Clase'</li><li>'Dependencia'</li><li>'TAC'</li><li>'RM'</li><li>'GAM'</li><li>'HEM'</li><li>'ASD'</li><li>'ALI'</li><li>'SPECT'</li><li>'MAMOS'</li><li>'DO'</li><li>'DIAL'</li><li>'X'</li><li>'Y'</li><li>'t3_1'</li><li>'t1_1'</li><li>'t2_1'</li><li>'t2_2'</li><li>'t4_1'</li><li>'t4_2'</li><li>'t4_3'</li><li>'t5_1'</li><li>'t6_1'</li><li>'t7_1'</li><li>'t8_1'</li><li>'t9_1'</li><li>'t10_1'</li><li>'t11_1'</li><li>'t12_1'</li><li>'capacidad'</li><li>'pacientes'</li><li>'consultas'</li><li>'hospitalizaciones'</li><li>'Target'</li><li>'is_train'</li></ol>\n"
      ],
      "text/latex": [
       "\\begin{enumerate*}\n",
       "\\item 'Hospital'\n",
       "\\item 'Especialidad'\n",
       "\\item 'total\\_pacientes'\n",
       "\\item 'ano'\n",
       "\\item 'semana'\n",
       "\\item 'CODCNH'\n",
       "\\item 'id\\_area'\n",
       "\\item 'nombre\\_area'\n",
       "\\item 'cmunicipio'\n",
       "\\item 'Municipio'\n",
       "\\item 'CAMAS'\n",
       "\\item 'Clase'\n",
       "\\item 'Dependencia'\n",
       "\\item 'TAC'\n",
       "\\item 'RM'\n",
       "\\item 'GAM'\n",
       "\\item 'HEM'\n",
       "\\item 'ASD'\n",
       "\\item 'ALI'\n",
       "\\item 'SPECT'\n",
       "\\item 'MAMOS'\n",
       "\\item 'DO'\n",
       "\\item 'DIAL'\n",
       "\\item 'X'\n",
       "\\item 'Y'\n",
       "\\item 't3\\_1'\n",
       "\\item 't1\\_1'\n",
       "\\item 't2\\_1'\n",
       "\\item 't2\\_2'\n",
       "\\item 't4\\_1'\n",
       "\\item 't4\\_2'\n",
       "\\item 't4\\_3'\n",
       "\\item 't5\\_1'\n",
       "\\item 't6\\_1'\n",
       "\\item 't7\\_1'\n",
       "\\item 't8\\_1'\n",
       "\\item 't9\\_1'\n",
       "\\item 't10\\_1'\n",
       "\\item 't11\\_1'\n",
       "\\item 't12\\_1'\n",
       "\\item 'capacidad'\n",
       "\\item 'pacientes'\n",
       "\\item 'consultas'\n",
       "\\item 'hospitalizaciones'\n",
       "\\item 'Target'\n",
       "\\item 'is\\_train'\n",
       "\\end{enumerate*}\n"
      ],
      "text/markdown": [
       "1. 'Hospital'\n",
       "2. 'Especialidad'\n",
       "3. 'total_pacientes'\n",
       "4. 'ano'\n",
       "5. 'semana'\n",
       "6. 'CODCNH'\n",
       "7. 'id_area'\n",
       "8. 'nombre_area'\n",
       "9. 'cmunicipio'\n",
       "10. 'Municipio'\n",
       "11. 'CAMAS'\n",
       "12. 'Clase'\n",
       "13. 'Dependencia'\n",
       "14. 'TAC'\n",
       "15. 'RM'\n",
       "16. 'GAM'\n",
       "17. 'HEM'\n",
       "18. 'ASD'\n",
       "19. 'ALI'\n",
       "20. 'SPECT'\n",
       "21. 'MAMOS'\n",
       "22. 'DO'\n",
       "23. 'DIAL'\n",
       "24. 'X'\n",
       "25. 'Y'\n",
       "26. 't3_1'\n",
       "27. 't1_1'\n",
       "28. 't2_1'\n",
       "29. 't2_2'\n",
       "30. 't4_1'\n",
       "31. 't4_2'\n",
       "32. 't4_3'\n",
       "33. 't5_1'\n",
       "34. 't6_1'\n",
       "35. 't7_1'\n",
       "36. 't8_1'\n",
       "37. 't9_1'\n",
       "38. 't10_1'\n",
       "39. 't11_1'\n",
       "40. 't12_1'\n",
       "41. 'capacidad'\n",
       "42. 'pacientes'\n",
       "43. 'consultas'\n",
       "44. 'hospitalizaciones'\n",
       "45. 'Target'\n",
       "46. 'is_train'\n",
       "\n",
       "\n"
      ],
      "text/plain": [
       " [1] \"Hospital\"          \"Especialidad\"      \"total_pacientes\"  \n",
       " [4] \"ano\"               \"semana\"            \"CODCNH\"           \n",
       " [7] \"id_area\"           \"nombre_area\"       \"cmunicipio\"       \n",
       "[10] \"Municipio\"         \"CAMAS\"             \"Clase\"            \n",
       "[13] \"Dependencia\"       \"TAC\"               \"RM\"               \n",
       "[16] \"GAM\"               \"HEM\"               \"ASD\"              \n",
       "[19] \"ALI\"               \"SPECT\"             \"MAMOS\"            \n",
       "[22] \"DO\"                \"DIAL\"              \"X\"                \n",
       "[25] \"Y\"                 \"t3_1\"              \"t1_1\"             \n",
       "[28] \"t2_1\"              \"t2_2\"              \"t4_1\"             \n",
       "[31] \"t4_2\"              \"t4_3\"              \"t5_1\"             \n",
       "[34] \"t6_1\"              \"t7_1\"              \"t8_1\"             \n",
       "[37] \"t9_1\"              \"t10_1\"             \"t11_1\"            \n",
       "[40] \"t12_1\"             \"capacidad\"         \"pacientes\"        \n",
       "[43] \"consultas\"         \"hospitalizaciones\" \"Target\"           \n",
       "[46] \"is_train\"         "
      ]
     },
     "metadata": {},
     "output_type": "display_data"
    }
   ],
   "source": [
    "colnames(data)"
   ]
  },
  {
   "cell_type": "code",
   "execution_count": 66,
   "metadata": {
    "ExecuteTime": {
     "end_time": "2021-01-05T20:16:46.395720Z",
     "start_time": "2021-01-05T20:16:46.357917Z"
    },
    "vscode": {
     "languageId": "r"
    }
   },
   "outputs": [
    {
     "data": {
      "text/html": [
       "<style>\n",
       ".list-inline {list-style: none; margin:0; padding: 0}\n",
       ".list-inline>li {display: inline-block}\n",
       ".list-inline>li:not(:last-child)::after {content: \"\\00b7\"; padding: 0 .5ex}\n",
       "</style>\n",
       "<ol class=list-inline><li>'total_pacientes'</li><li>'consultas'</li><li>'hospitalizaciones'</li><li>'Hospital'</li><li>'Especialidad'</li><li>'capacidad'</li><li>'DIAL'</li><li>'Municipio'</li><li>'TAC'</li><li>'CAMAS'</li><li>'ASD'</li><li>'HEM'</li><li>'DO'</li><li>'RM'</li><li>'nombre_area'</li><li>'Y'</li><li>'id_area'</li><li>'CODCNH'</li></ol>\n"
      ],
      "text/latex": [
       "\\begin{enumerate*}\n",
       "\\item 'total\\_pacientes'\n",
       "\\item 'consultas'\n",
       "\\item 'hospitalizaciones'\n",
       "\\item 'Hospital'\n",
       "\\item 'Especialidad'\n",
       "\\item 'capacidad'\n",
       "\\item 'DIAL'\n",
       "\\item 'Municipio'\n",
       "\\item 'TAC'\n",
       "\\item 'CAMAS'\n",
       "\\item 'ASD'\n",
       "\\item 'HEM'\n",
       "\\item 'DO'\n",
       "\\item 'RM'\n",
       "\\item 'nombre\\_area'\n",
       "\\item 'Y'\n",
       "\\item 'id\\_area'\n",
       "\\item 'CODCNH'\n",
       "\\end{enumerate*}\n"
      ],
      "text/markdown": [
       "1. 'total_pacientes'\n",
       "2. 'consultas'\n",
       "3. 'hospitalizaciones'\n",
       "4. 'Hospital'\n",
       "5. 'Especialidad'\n",
       "6. 'capacidad'\n",
       "7. 'DIAL'\n",
       "8. 'Municipio'\n",
       "9. 'TAC'\n",
       "10. 'CAMAS'\n",
       "11. 'ASD'\n",
       "12. 'HEM'\n",
       "13. 'DO'\n",
       "14. 'RM'\n",
       "15. 'nombre_area'\n",
       "16. 'Y'\n",
       "17. 'id_area'\n",
       "18. 'CODCNH'\n",
       "\n",
       "\n"
      ],
      "text/plain": [
       " [1] \"total_pacientes\"   \"consultas\"         \"hospitalizaciones\"\n",
       " [4] \"Hospital\"          \"Especialidad\"      \"capacidad\"        \n",
       " [7] \"DIAL\"              \"Municipio\"         \"TAC\"              \n",
       "[10] \"CAMAS\"             \"ASD\"               \"HEM\"              \n",
       "[13] \"DO\"                \"RM\"                \"nombre_area\"      \n",
       "[16] \"Y\"                 \"id_area\"           \"CODCNH\"           "
      ]
     },
     "metadata": {},
     "output_type": "display_data"
    },
    {
     "name": "stdout",
     "output_type": "stream",
     "text": [
      "[1] \"Mean Squared Error: 923.2858\"\n"
     ]
    }
   ],
   "source": [
    "\n",
    "library(rpart)\n",
    "library(dplyr)\n",
    "library(caTools)\n",
    "\n",
    "# Split the data into training and testing sets based on the \"is_train\" column\n",
    "train_data <- filter(data, is_train == 1)\n",
    "test_data <- filter(data, is_train == 0)\n",
    "\n",
    "# Train a CART regression model to calculate feature importance\n",
    "model_cart <- rpart(Target ~ ., data = train_data, method = \"anova\")\n",
    "\n",
    "# Get the feature importance\n",
    "importance <- round(model_cart$variable.importance, 2)\n",
    "\n",
    "# Select the top 5 most important features\n",
    "selected_features <- names(importance)[order(importance, decreasing = TRUE)][1:18]\n",
    "selected_features\n",
    "\n",
    "train_data_selected <- select(train_data, all_of(selected_features), Target)\n",
    "\n",
    "# Train a Linear Regression model with the selected features\n",
    "model_lm <- lm(Target ~ ., data = train_data_selected)\n",
    "\n",
    "# Select the same features from the test data\n",
    "test_data_selected <- select(test_data, all_of(selected_features), Target)\n",
    "# Make predictions on the test data\n",
    "predictions <- predict(model_lm, newdata = test_data_selected)\n",
    "\n",
    "# Calculate Mean Squared Error (MSE)\n",
    "mse <- mean((predictions - test_data_selected$Target)^2)\n",
    "print(paste(\"Mean Squared Error:\", round(mse, 4)))\n",
    "\n"
   ]
  },
  {
   "attachments": {},
   "cell_type": "markdown",
   "metadata": {},
   "source": [
    "## <font color='green'>Data Save</font>\n",
    "\n",
    "* No aplica"
   ]
  },
  {
   "cell_type": "markdown",
   "metadata": {},
   "source": [
    "<font color='tomato'> Identificamos los datos a guardar</font>"
   ]
  },
  {
   "cell_type": "code",
   "execution_count": null,
   "metadata": {
    "vscode": {
     "languageId": "r"
    }
   },
   "outputs": [],
   "source": [
    "data_to_save <- data"
   ]
  },
  {
   "cell_type": "markdown",
   "metadata": {},
   "source": [
    "\n",
    "<font color='tomato'>Estructura de nombre de archivos:</font>\n",
    "\n",
    "* Código del caso de uso, por ejemplo \"CU_04\"\n",
    "* Número del proceso que lo genera, por ejemplo \"_06\".\n",
    "* Resto del nombre del archivo de entrada\n",
    "* Extensión del archivo\n",
    "\n",
    "Ejemplo: \"CU_04_06_01_01_zonasgeo.json, primer fichero que se genera en la tarea 01 del proceso 05 (Data Collection) para el caso de uso 04 (vacunas) y que se ha transformado en el proceso 06\n",
    "\n",
    "Importante mantener los guiones bajos antes de proceso, tarea, archivo y nombre"
   ]
  },
  {
   "attachments": {},
   "cell_type": "markdown",
   "metadata": {},
   "source": [
    "### Proceso 15"
   ]
  },
  {
   "cell_type": "code",
   "execution_count": null,
   "metadata": {
    "vscode": {
     "languageId": "r"
    }
   },
   "outputs": [],
   "source": [
    "# caso <- \"CU_XX\"\n",
    "# proceso <- '_09.2'\n",
    "# tarea <- \"_XX\"\n",
    "# archivo <- \"\"\n",
    "# proper <- \"_xxxxx\"\n",
    "# extension <- \".csv\""
   ]
  },
  {
   "cell_type": "markdown",
   "metadata": {},
   "source": [
    "<font color='tomato'><b> OPCION A:</b> Uso del paquete \"tcltk\" para mayor comodidad</font>\n",
    "\n",
    "* Buscar carpeta, escribir nombre de archivo SIN extensión (se especifica en el código)\n",
    "* Especificar sufijo2 si es necesario\n",
    "* Cambiar datos por datos_xx si es necesario"
   ]
  },
  {
   "cell_type": "code",
   "execution_count": null,
   "metadata": {
    "vscode": {
     "languageId": "r"
    }
   },
   "outputs": [],
   "source": [
    "# file_save <- paste0(caso, proceso, tarea, tcltk::tkgetSaveFile(), proper, extension) \n",
    "# path_out <- paste0(oPath, file_save)\n",
    "# write_csv(data_to_save_xxxxx, path_out)\n",
    "\n",
    "# cat('File saved as: ')\n",
    "# path_out"
   ]
  },
  {
   "cell_type": "markdown",
   "metadata": {},
   "source": [
    "<font color='tomato'><b> OPCION B:</b> Especificar el nombre de archivo</font>"
   ]
  },
  {
   "cell_type": "markdown",
   "metadata": {},
   "source": [
    "- Los ficheros de salida del proceso van siempre a Data/Output/.  "
   ]
  },
  {
   "cell_type": "code",
   "execution_count": null,
   "metadata": {
    "vscode": {
     "languageId": "r"
    }
   },
   "outputs": [],
   "source": [
    "# file_save <- paste0(caso, proceso, tarea, archivo, proper, extension) \n",
    "# path_out <- paste0(oPath, file_save)\n",
    "# write_csv(data_to_save_xxxxx, path_out)\n",
    "\n",
    "# cat('File saved as: ')\n",
    "# path_out"
   ]
  },
  {
   "cell_type": "markdown",
   "metadata": {},
   "source": [
    "#### Copia del fichero a Input\n",
    "\n",
    "Si el archivo se va a usar en otros notebooks, copiar a la carpeta Input"
   ]
  },
  {
   "cell_type": "code",
   "execution_count": null,
   "metadata": {
    "vscode": {
     "languageId": "r"
    }
   },
   "outputs": [],
   "source": [
    "# path_in <- paste0(iPath, file_save)\n",
    "# file.copy(path_out, path_in, overwrite = TRUE)"
   ]
  },
  {
   "cell_type": "markdown",
   "metadata": {},
   "source": [
    "## <font color='#2874a6'>REPORT</font>"
   ]
  },
  {
   "cell_type": "markdown",
   "metadata": {},
   "source": [
    "A continuación se realizará un informe de las acciones realizadas"
   ]
  },
  {
   "cell_type": "markdown",
   "metadata": {},
   "source": [
    "## <font color=' #2874a6 '>Main Actions Carried Out</font>"
   ]
  },
  {
   "cell_type": "markdown",
   "metadata": {},
   "source": [
    "- Si eran necesarias se han realizado en el proceso 05 por cuestiones de eficiencia\n",
    "- O bien se hacen en el dominio IV o V para integrar en el pipeline de modelización"
   ]
  },
  {
   "cell_type": "markdown",
   "metadata": {},
   "source": [
    "## <font color=' #2874a6 '>Main Conclusions</font>"
   ]
  },
  {
   "cell_type": "markdown",
   "metadata": {},
   "source": [
    "- Los datos están listos para la modelización y despliegue\n"
   ]
  },
  {
   "cell_type": "markdown",
   "metadata": {},
   "source": [
    "## <font color='RED'>CODE TO DEPLOY (PILOT)</font>\n",
    "\n",
    "A continuación se incluirá el código que deba ser llevado a despliegue para producción, dado que se entiende efectúa operaciones necesarias sobre los datos en la ejecución del prototipo"
   ]
  },
  {
   "cell_type": "markdown",
   "metadata": {},
   "source": [
    "<font color=' red '><b>Description</b></font>\n",
    "\n",
    "- No hay nada que desplegar en el piloto, ya que estos datos son estáticos o en todo caso cambian con muy poca frecuencia, altamente improbable durante el proyecto.\n"
   ]
  },
  {
   "cell_type": "markdown",
   "metadata": {},
   "source": [
    "<font color=' red '><b>CODE</b></font>"
   ]
  },
  {
   "cell_type": "code",
   "execution_count": null,
   "metadata": {
    "vscode": {
     "languageId": "r"
    }
   },
   "outputs": [],
   "source": []
  }
 ],
 "metadata": {
  "anaconda-cloud": {},
  "celltoolbar": "Slideshow",
  "hide_input": false,
  "kernelspec": {
   "display_name": "R",
   "language": "R",
   "name": "ir"
  },
  "language_info": {
   "codemirror_mode": "r",
   "file_extension": ".r",
   "mimetype": "text/x-r-source",
   "name": "R",
   "pygments_lexer": "r",
   "version": "4.3.0"
  },
  "latex_envs": {
   "LaTeX_envs_menu_present": true,
   "autoclose": false,
   "autocomplete": true,
   "bibliofile": "biblio.bib",
   "cite_by": "apalike",
   "current_citInitial": 1,
   "eqLabelWithNumbers": true,
   "eqNumInitial": 1,
   "hotkeys": {
    "equation": "Ctrl-E",
    "itemize": "Ctrl-I"
   },
   "labels_anchors": false,
   "latex_user_defs": false,
   "report_style_numbering": true,
   "user_envs_cfg": false
  },
  "toc": {
   "base_numbering": 1,
   "nav_menu": {},
   "number_sections": true,
   "sideBar": true,
   "skip_h1_title": true,
   "title_cell": "Table of Contents",
   "title_sidebar": "Contents",
   "toc_cell": false,
   "toc_position": {
    "height": "calc(100% - 180px)",
    "left": "10px",
    "top": "150px",
    "width": "304.633px"
   },
   "toc_section_display": true,
   "toc_window_display": true
  },
  "varInspector": {
   "cols": {
    "lenName": 16,
    "lenType": 16,
    "lenVar": 40
   },
   "kernels_config": {
    "python": {
     "delete_cmd_postfix": "",
     "delete_cmd_prefix": "del ",
     "library": "var_list.py",
     "varRefreshCmd": "print(var_dic_list())"
    },
    "r": {
     "delete_cmd_postfix": ") ",
     "delete_cmd_prefix": "rm(",
     "library": "var_list.r",
     "varRefreshCmd": "cat(var_dic_list()) "
    }
   },
   "types_to_exclude": [
    "module",
    "function",
    "builtin_function_or_method",
    "instance",
    "_Feature"
   ],
   "window_display": false
  }
 },
 "nbformat": 4,
 "nbformat_minor": 1
}
