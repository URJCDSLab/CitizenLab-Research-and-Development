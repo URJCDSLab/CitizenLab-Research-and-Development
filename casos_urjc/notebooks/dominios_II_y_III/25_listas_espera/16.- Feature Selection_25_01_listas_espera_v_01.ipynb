{
 "cells": [
  {
   "cell_type": "markdown",
   "metadata": {
    "slideshow": {
     "slide_type": "slide"
    }
   },
   "source": [
    "<img src=\".\\images\\Logo.png\" width=150 align=\"left\" /> <img src=\".\\images\\Logo2.jpg\" width=450 align=\"right\" />"
   ]
  },
  {
   "attachments": {},
   "cell_type": "markdown",
   "metadata": {
    "slideshow": {
     "slide_type": "slide"
    }
   },
   "source": [
    "\n",
    "# <center><font color= #1e8449 > <b>CU25_Modelo de gestión de Lista de Espera Quirúrgica</font></center>"
   ]
  },
  {
   "cell_type": "markdown",
   "metadata": {
    "slideshow": {
     "slide_type": "slide"
    }
   },
   "source": [
    "<font color='steelblue'><b>Citizenlab Data Science Methodology > III - Feature Engineering Domain </font>\n",
    "***\n",
    "> # <font color='steelblue'> <b>16.- Feature Selection</font>"
   ]
  },
  {
   "cell_type": "markdown",
   "metadata": {
    "slideshow": {
     "slide_type": "slide"
    }
   },
   "source": [
    "<font color='steelblue'>Feature Selection is the process where you automatically or manually select the most relevant features which contribute most to the correct output of the model.</font>\n"
   ]
  },
  {
   "cell_type": "markdown",
   "metadata": {
    "slideshow": {
     "slide_type": "slide"
    }
   },
   "source": [
    "## <font color='steelblue'>Tasks</font>"
   ]
  },
  {
   "cell_type": "markdown",
   "metadata": {
    "slideshow": {
     "slide_type": "slide"
    }
   },
   "source": [
    "<font color='steelblue'><b>Perform Selection of Categorical-Input/Categorical-Output</b>\t\n",
    "- Encoding-Categorical-Features\n",
    "- Chi-Squared-Feature-Selection\n",
    "- Mutual-Information-Feature-Selection\n",
    "- Evaluate-a-Logistic-Regression-model\n",
    "    \n",
    "<font color='steelblue'><b>Perform Selection of Numerical-Input/Categorical-Output</b>\t\n",
    "- ANOVA-F-test-Feature-Selection\n",
    "- Mutual-Information-Feature-Selection\n",
    "- Evaluating-a-Logistic-Regression-model\n",
    "- Tuning-the-Number-of-Selected-Features\n",
    "    \n",
    "<font color='steelblue'><b>Perform Selection of Numerical-Input/Numerical-Output</b>\t\n",
    "- Correlation-with-the-outcome-Feature-Selection\n",
    "- Mutual-Information-Feature-Selection\n",
    "- Evaluate-a-Lineal-Regression-model\n",
    "- Tuning-the-Number-of-Selected-Features\n",
    "    \n",
    "<font color='steelblue'><b>Perform Selection of Any-data</b>\t\n",
    "- RFE-(Recursive-Feature-Elimination)\n",
    "- Tuning-the-Number-of-Selected-Features\n",
    "- Automatically-Select-the-Number-of-Features\n",
    "    \n",
    "<font color='steelblue'><b>Explore the use of diferent algorithms wrapped by RFE</b>\t\n",
    "    \n",
    "<font color='steelblue'><b>Explore the use od Hybrid feature selection algorithms</b>\t"
   ]
  },
  {
   "cell_type": "markdown",
   "metadata": {},
   "source": [
    "## Consideraciones casos CitizenLab programados en R\n",
    "\n",
    "* Algunas de las tareas de este proceso se han realizado en los notebooks del proceso 05 Data Collection porque eran necesarias para las tareas ETL. En esos casos, en este notebook se referencia al notebook del proceso 05 correspondiente\n",
    "* Otras tareas típicas de este proceso se realizan en los notebooks del dominio IV al ser más eficiente realizarlas en el propio pipeline de modelización.\n",
    "* Por tanto en los notebooks de este proceso de manera general se incluyen las comprobaciones necesarias, y comentarios si procede\n",
    "* Las tareas del proceso se van a aplicar solo a los archivos que forman parte del despliegue, ya que hay muchos archivos intermedios que no procede pasar por este proceso\n",
    "* El nombre de archivo del notebook hace referencia al nombre de archivo del proceso 05 al que se aplica este proceso, por eso pueden no ser correlativa la numeración\n",
    "* Las comprobaciones se van a realizar teniendo en cuenta que el lenguaje utilizado en el despliegue de este caso es R"
   ]
  },
  {
   "cell_type": "markdown",
   "metadata": {},
   "source": [
    "## <font color='green'>File</font>"
   ]
  },
  {
   "attachments": {},
   "cell_type": "markdown",
   "metadata": {},
   "source": [
    "- <font color='steelblue'> <b>Input File: CU_25_09.2_01_lista_espera_completo_clean_v_01.csv</font>\n",
    "- <font color='steelblue'> <b>Output File: No aplica</font>"
   ]
  },
  {
   "cell_type": "markdown",
   "metadata": {},
   "source": [
    "### Encoding\n",
    "\n",
    "Con la siguiente expresión se evitan problemas con el encoding al ejecutar el notebook. Es posible que deba ser eliminada o adaptada a la máquina en la que se ejecute el código."
   ]
  },
  {
   "cell_type": "code",
   "execution_count": 26,
   "metadata": {
    "vscode": {
     "languageId": "r"
    }
   },
   "outputs": [
    {
     "data": {
      "text/html": [
       "'LC_COLLATE=es_ES.UTF-8;LC_CTYPE=es_ES.UTF-8;LC_MONETARY=es_ES.UTF-8;LC_NUMERIC=C;LC_TIME=es_ES.UTF-8'"
      ],
      "text/latex": [
       "'LC\\_COLLATE=es\\_ES.UTF-8;LC\\_CTYPE=es\\_ES.UTF-8;LC\\_MONETARY=es\\_ES.UTF-8;LC\\_NUMERIC=C;LC\\_TIME=es\\_ES.UTF-8'"
      ],
      "text/markdown": [
       "'LC_COLLATE=es_ES.UTF-8;LC_CTYPE=es_ES.UTF-8;LC_MONETARY=es_ES.UTF-8;LC_NUMERIC=C;LC_TIME=es_ES.UTF-8'"
      ],
      "text/plain": [
       "[1] \"LC_COLLATE=es_ES.UTF-8;LC_CTYPE=es_ES.UTF-8;LC_MONETARY=es_ES.UTF-8;LC_NUMERIC=C;LC_TIME=es_ES.UTF-8\""
      ]
     },
     "metadata": {},
     "output_type": "display_data"
    }
   ],
   "source": [
    "Sys.setlocale(category = \"LC_ALL\", locale = \"es_ES.UTF-8\")"
   ]
  },
  {
   "cell_type": "markdown",
   "metadata": {},
   "source": [
    "## <font color='green'>Settings</font>"
   ]
  },
  {
   "cell_type": "markdown",
   "metadata": {},
   "source": [
    "### Libraries to use"
   ]
  },
  {
   "cell_type": "code",
   "execution_count": 27,
   "metadata": {
    "vscode": {
     "languageId": "r"
    }
   },
   "outputs": [],
   "source": [
    "library(readr)\n",
    "library(dplyr)\n",
    "library(tidyr)\n",
    "library(forcats)\n",
    "library(lubridate)\n"
   ]
  },
  {
   "cell_type": "markdown",
   "metadata": {},
   "source": [
    "### Paths"
   ]
  },
  {
   "cell_type": "code",
   "execution_count": 28,
   "metadata": {
    "vscode": {
     "languageId": "r"
    }
   },
   "outputs": [],
   "source": [
    "iPath <- \"Data/Input/\"\n",
    "oPath <- \"Data/Output/\""
   ]
  },
  {
   "cell_type": "markdown",
   "metadata": {},
   "source": [
    "## <font color='green'>Data Load</font>"
   ]
  },
  {
   "cell_type": "markdown",
   "metadata": {},
   "source": [
    "<font color='tomato'><b> OPCION A:</b> Seleccionar fichero en ventana para mayor comodidad</font> "
   ]
  },
  {
   "cell_type": "markdown",
   "metadata": {},
   "source": [
    "Data load using the {tcltk} package. Ucomment the line if using this option"
   ]
  },
  {
   "cell_type": "code",
   "execution_count": 29,
   "metadata": {
    "vscode": {
     "languageId": "r"
    }
   },
   "outputs": [],
   "source": [
    "# file_data <- tcltk::tk_choose.files(multi = FALSE)"
   ]
  },
  {
   "cell_type": "markdown",
   "metadata": {},
   "source": [
    "<font color='tomato'><b> OPCION B:</b> Especificar el nombre de archivo</font>\n",
    "\n"
   ]
  },
  {
   "cell_type": "code",
   "execution_count": 30,
   "metadata": {
    "vscode": {
     "languageId": "r"
    }
   },
   "outputs": [
    {
     "name": "stdout",
     "output_type": "stream",
     "text": [
      "Se leerán datos del archivo:  Data/Input/CU_25_09.2_01_lista_espera_completo_clean_v_01.csv"
     ]
    }
   ],
   "source": [
    "iFile <- \"CU_25_09.2_01_lista_espera_completo_clean_v_01.csv\"\n",
    "file_data <- paste0(iPath, iFile)\n",
    "\n",
    "if(file.exists(file_data)){\n",
    "    cat(\"Se leerán datos del archivo: \", file_data)\n",
    "} else{\n",
    "    warning(\"Cuidado: el archivo no existe.\")\n",
    "}\n"
   ]
  },
  {
   "cell_type": "markdown",
   "metadata": {},
   "source": [
    "#### Data file to dataframe\n",
    "\n",
    "Usar la función adecuada según el formato de entrada (xlsx, csv, json, ...)"
   ]
  },
  {
   "cell_type": "code",
   "execution_count": 81,
   "metadata": {
    "vscode": {
     "languageId": "r"
    }
   },
   "outputs": [],
   "source": [
    "data <- read.csv(file_data)\n"
   ]
  },
  {
   "cell_type": "markdown",
   "metadata": {},
   "source": [
    "Estructura de  los datos:"
   ]
  },
  {
   "cell_type": "code",
   "execution_count": 32,
   "metadata": {
    "vscode": {
     "languageId": "r"
    }
   },
   "outputs": [
    {
     "name": "stdout",
     "output_type": "stream",
     "text": [
      "Rows: 55,216\n",
      "Columns: 46\n",
      "$ Hospital          \u001b[3m\u001b[90m<chr>\u001b[39m\u001b[23m \"HOSPITAL REY JUAN CARLOS\", \"HOSPITAL CENTRAL DE LA …\n",
      "$ Especialidad      \u001b[3m\u001b[90m<chr>\u001b[39m\u001b[23m \"UROLOGÍA\", \"ODONTOESTOMATOLOGÍA\", \"GINECOLOGÍA\", \"D…\n",
      "$ total_pacientes   \u001b[3m\u001b[90m<dbl>\u001b[39m\u001b[23m 344, 0, 52, 37, 0, 4, 0, 718, 0, 271, 108, 0, 34, 86…\n",
      "$ ano               \u001b[3m\u001b[90m<dbl>\u001b[39m\u001b[23m 2021, 2020, 2021, 2021, 2021, 2020, 2021, 2020, 2021…\n",
      "$ semana            \u001b[3m\u001b[90m<dbl>\u001b[39m\u001b[23m 30, 36, 49, 23, 3, 5, 50, 7, 35, 1, 42, 10, 21, 33, …\n",
      "$ CODCNH            \u001b[3m\u001b[90m<dbl>\u001b[39m\u001b[23m 281348, 280724, 281292, 281292, 281236, 280724, 2807…\n",
      "$ id_area           \u001b[3m\u001b[90m<dbl>\u001b[39m\u001b[23m 8, 7, 11, 11, 11, 7, 3, 6, 1, 2, 2, 8, 11, 11, 1, 3,…\n",
      "$ nombre_area       \u001b[3m\u001b[90m<chr>\u001b[39m\u001b[23m \"SUR-OESTE I\", \"CENTRO-OESTE\", \"SUR II\", \"SUR II\", \"…\n",
      "$ cmunicipio        \u001b[3m\u001b[90m<dbl>\u001b[39m\u001b[23m 280920, 280796, 280133, 280133, 281610, 280796, 2800…\n",
      "$ Municipio         \u001b[3m\u001b[90m<chr>\u001b[39m\u001b[23m \"MÓSTOLES\", \"MADRID\", \"ARANJUEZ\", \"ARANJUEZ\", \"VALDE…\n",
      "$ CAMAS             \u001b[3m\u001b[90m<dbl>\u001b[39m\u001b[23m 382, 475, 98, 98, 182, 475, 507, 613, 269, 1143, 156…\n",
      "$ Clase             \u001b[3m\u001b[90m<chr>\u001b[39m\u001b[23m \"HOSPITALES GENERALES\", \"HOSPITALES GENERALES\", \"HOS…\n",
      "$ Dependencia       \u001b[3m\u001b[90m<chr>\u001b[39m\u001b[23m \"SERVICIOS E INSTITUTOS DE SALUD DE LAS COMUNIDADES …\n",
      "$ TAC               \u001b[3m\u001b[90m<dbl>\u001b[39m\u001b[23m 2, 2, 1, 1, 1, 2, 3, 3, 0, 0, 1, 2, 6, 6, 1, 3, 4, 1…\n",
      "$ RM                \u001b[3m\u001b[90m<dbl>\u001b[39m\u001b[23m 3, 2, 1, 1, 2, 2, 2, 3, 0, 0, 0, 2, 5, 5, 1, 2, 4, 1…\n",
      "$ GAM               \u001b[3m\u001b[90m<dbl>\u001b[39m\u001b[23m 0, 0, 0, 0, 0, 0, 1, 0, 0, 0, 0, 1, 2, 2, 0, 0, 2, 0…\n",
      "$ HEM               \u001b[3m\u001b[90m<dbl>\u001b[39m\u001b[23m 1, 2, 0, 0, 1, 2, 1, 2, 0, 0, 0, 1, 3, 3, 0, 1, 1, 0…\n",
      "$ ASD               \u001b[3m\u001b[90m<dbl>\u001b[39m\u001b[23m 2, 1, 1, 1, 1, 1, 1, 3, 0, 0, 0, 1, 2, 2, 0, 1, 2, 1…\n",
      "$ ALI               \u001b[3m\u001b[90m<dbl>\u001b[39m\u001b[23m 1, 2, 0, 0, 0, 2, 0, 4, 0, 0, 0, 0, 3, 3, 0, 2, 2, 0…\n",
      "$ SPECT             \u001b[3m\u001b[90m<dbl>\u001b[39m\u001b[23m 1, 1, 0, 0, 0, 1, 0, 4, 0, 0, 0, 0, 3, 3, 0, 0, 0, 0…\n",
      "$ MAMOS             \u001b[3m\u001b[90m<dbl>\u001b[39m\u001b[23m 2, 1, 1, 1, 1, 1, 2, 2, 0, 0, 1, 2, 3, 3, 1, 1, 3, 1…\n",
      "$ DO                \u001b[3m\u001b[90m<dbl>\u001b[39m\u001b[23m 1, 1, 0, 0, 1, 1, 1, 1, 0, 0, 1, 1, 2, 2, 0, 1, 2, 0…\n",
      "$ DIAL              \u001b[3m\u001b[90m<dbl>\u001b[39m\u001b[23m 20, 24, 13, 13, 17, 24, 28, 31, 0, 0, 0, 28, 43, 43,…\n",
      "$ X                 \u001b[3m\u001b[90m<dbl>\u001b[39m\u001b[23m -3.870412, -3.745529, -3.610795, -3.610795, -3.69744…\n",
      "$ Y                 \u001b[3m\u001b[90m<dbl>\u001b[39m\u001b[23m 40.33920, 40.38791, 40.05726, 40.05726, 40.19884, 40…\n",
      "$ t3_1              \u001b[3m\u001b[90m<dbl>\u001b[39m\u001b[23m 42.34715, 45.37878, 42.06149, 42.06149, 42.06149, 45…\n",
      "$ t1_1              \u001b[3m\u001b[90m<dbl>\u001b[39m\u001b[23m 532487, 511605, 899702, 899702, 899702, 511605, 3830…\n",
      "$ t2_1              \u001b[3m\u001b[90m<dbl>\u001b[39m\u001b[23m 0.5122493, 0.5296804, 0.5240445, 0.5240445, 0.524044…\n",
      "$ t2_2              \u001b[3m\u001b[90m<dbl>\u001b[39m\u001b[23m 0.4877507, 0.4703198, 0.4759555, 0.4759555, 0.475955…\n",
      "$ t4_1              \u001b[3m\u001b[90m<dbl>\u001b[39m\u001b[23m 0.1659665, 0.1054260, 0.1540793, 0.1540793, 0.154079…\n",
      "$ t4_2              \u001b[3m\u001b[90m<dbl>\u001b[39m\u001b[23m 0.6371549, 0.6742432, 0.6753787, 0.6753787, 0.675378…\n",
      "$ t4_3              \u001b[3m\u001b[90m<dbl>\u001b[39m\u001b[23m 0.1968769, 0.2203341, 0.1705449, 0.1705449, 0.170544…\n",
      "$ t5_1              \u001b[3m\u001b[90m<dbl>\u001b[39m\u001b[23m 0.1137647, 0.1744493, 0.1747059, 0.1747059, 0.174705…\n",
      "$ t6_1              \u001b[3m\u001b[90m<dbl>\u001b[39m\u001b[23m 0.1604646, 0.2629599, 0.2641879, 0.2641879, 0.264187…\n",
      "$ t7_1              \u001b[3m\u001b[90m<dbl>\u001b[39m\u001b[23m 0.05422176, 0.05481008, 0.04898547, 0.04898547, 0.04…\n",
      "$ t8_1              \u001b[3m\u001b[90m<dbl>\u001b[39m\u001b[23m 0.04120012, 0.04653221, 0.03679912, 0.03679912, 0.03…\n",
      "$ t9_1              \u001b[3m\u001b[90m<dbl>\u001b[39m\u001b[23m 0.3348780, 0.4914365, 0.3346063, 0.3346063, 0.334606…\n",
      "$ t10_1             \u001b[3m\u001b[90m<dbl>\u001b[39m\u001b[23m 0.13692541, 0.12170996, 0.15173209, 0.15173209, 0.15…\n",
      "$ t11_1             \u001b[3m\u001b[90m<dbl>\u001b[39m\u001b[23m 0.5072726, 0.4915713, 0.5024130, 0.5024130, 0.502413…\n",
      "$ t12_1             \u001b[3m\u001b[90m<dbl>\u001b[39m\u001b[23m 0.5849309, 0.5597213, 0.5900028, 0.5900028, 0.590002…\n",
      "$ capacidad         \u001b[3m\u001b[90m<dbl>\u001b[39m\u001b[23m 17, 0, 8, 5, 0, 5, 1, 24, 6, 6, 30, 4, 2, 15, 20, 6,…\n",
      "$ pacientes         \u001b[3m\u001b[90m<dbl>\u001b[39m\u001b[23m 1447, 1211, 1293, 1501, 1240, 1504, 1502, 1533, 1463…\n",
      "$ consultas         \u001b[3m\u001b[90m<dbl>\u001b[39m\u001b[23m 573, 45, 108, 103, 44, 42, 36, 1119, 34, 466, 220, 6…\n",
      "$ hospitalizaciones \u001b[3m\u001b[90m<dbl>\u001b[39m\u001b[23m 12, 0, 2, 2, 0, 1, 0, 4, 0, 12, 3, 0, 2, 4, 1, 2, 15…\n",
      "$ Target            \u001b[3m\u001b[90m<dbl>\u001b[39m\u001b[23m 54.45, 0.00, 37.96, 23.14, 0.00, 6.25, 0.00, 78.20, …\n",
      "$ is_train          \u001b[3m\u001b[90m<lgl>\u001b[39m\u001b[23m TRUE, TRUE, TRUE, TRUE, TRUE, TRUE, TRUE, TRUE, TRUE…\n"
     ]
    }
   ],
   "source": [
    "data |> glimpse()"
   ]
  },
  {
   "cell_type": "markdown",
   "metadata": {},
   "source": [
    "Muestra de los primeros datos:"
   ]
  },
  {
   "cell_type": "code",
   "execution_count": 33,
   "metadata": {
    "vscode": {
     "languageId": "r"
    }
   },
   "outputs": [
    {
     "data": {
      "text/html": [
       "<table class=\"dataframe\">\n",
       "<caption>A spec_tbl_df: 5 × 46</caption>\n",
       "<thead>\n",
       "\t<tr><th scope=col>Hospital</th><th scope=col>Especialidad</th><th scope=col>total_pacientes</th><th scope=col>ano</th><th scope=col>semana</th><th scope=col>CODCNH</th><th scope=col>id_area</th><th scope=col>nombre_area</th><th scope=col>cmunicipio</th><th scope=col>Municipio</th><th scope=col>⋯</th><th scope=col>t9_1</th><th scope=col>t10_1</th><th scope=col>t11_1</th><th scope=col>t12_1</th><th scope=col>capacidad</th><th scope=col>pacientes</th><th scope=col>consultas</th><th scope=col>hospitalizaciones</th><th scope=col>Target</th><th scope=col>is_train</th></tr>\n",
       "\t<tr><th scope=col>&lt;chr&gt;</th><th scope=col>&lt;chr&gt;</th><th scope=col>&lt;dbl&gt;</th><th scope=col>&lt;dbl&gt;</th><th scope=col>&lt;dbl&gt;</th><th scope=col>&lt;dbl&gt;</th><th scope=col>&lt;dbl&gt;</th><th scope=col>&lt;chr&gt;</th><th scope=col>&lt;dbl&gt;</th><th scope=col>&lt;chr&gt;</th><th scope=col>⋯</th><th scope=col>&lt;dbl&gt;</th><th scope=col>&lt;dbl&gt;</th><th scope=col>&lt;dbl&gt;</th><th scope=col>&lt;dbl&gt;</th><th scope=col>&lt;dbl&gt;</th><th scope=col>&lt;dbl&gt;</th><th scope=col>&lt;dbl&gt;</th><th scope=col>&lt;dbl&gt;</th><th scope=col>&lt;dbl&gt;</th><th scope=col>&lt;lgl&gt;</th></tr>\n",
       "</thead>\n",
       "<tbody>\n",
       "\t<tr><td>HOSPITAL REY JUAN CARLOS                 </td><td>UROLOGÍA           </td><td>344</td><td>2021</td><td>30</td><td>281348</td><td> 8</td><td>SUR-OESTE I </td><td>280920</td><td>MÓSTOLES </td><td>⋯</td><td>0.3348780</td><td>0.1369254</td><td>0.5072726</td><td>0.5849309</td><td>17</td><td>1447</td><td>573</td><td>12</td><td>54.45</td><td>TRUE</td></tr>\n",
       "\t<tr><td>HOSPITAL CENTRAL DE LA DEFENSA GOMEZ ULLA</td><td>ODONTOESTOMATOLOGÍA</td><td>  0</td><td>2020</td><td>36</td><td>280724</td><td> 7</td><td>CENTRO-OESTE</td><td>280796</td><td>MADRID   </td><td>⋯</td><td>0.4914365</td><td>0.1217100</td><td>0.4915713</td><td>0.5597213</td><td> 0</td><td>1211</td><td> 45</td><td> 0</td><td> 0.00</td><td>TRUE</td></tr>\n",
       "\t<tr><td>HOSPITAL UNIVERSITARIO DEL TAJO          </td><td>GINECOLOGÍA        </td><td> 52</td><td>2021</td><td>49</td><td>281292</td><td>11</td><td>SUR II      </td><td>280133</td><td>ARANJUEZ </td><td>⋯</td><td>0.3346063</td><td>0.1517321</td><td>0.5024130</td><td>0.5900028</td><td> 8</td><td>1293</td><td>108</td><td> 2</td><td>37.96</td><td>TRUE</td></tr>\n",
       "\t<tr><td>HOSPITAL UNIVERSITARIO DEL TAJO          </td><td>DERMATOLOGÍA       </td><td> 37</td><td>2021</td><td>23</td><td>281292</td><td>11</td><td>SUR II      </td><td>280133</td><td>ARANJUEZ </td><td>⋯</td><td>0.3346063</td><td>0.1517321</td><td>0.5024130</td><td>0.5900028</td><td> 5</td><td>1501</td><td>103</td><td> 2</td><td>23.14</td><td>TRUE</td></tr>\n",
       "\t<tr><td>HOSPITAL UNIVERSITARIO INFANTA ELENA     </td><td>ODONTOESTOMATOLOGÍA</td><td>  0</td><td>2021</td><td> 3</td><td>281236</td><td>11</td><td>SUR II      </td><td>281610</td><td>VALDEMORO</td><td>⋯</td><td>0.3346063</td><td>0.1517321</td><td>0.5024130</td><td>0.5900028</td><td> 0</td><td>1240</td><td> 44</td><td> 0</td><td> 0.00</td><td>TRUE</td></tr>\n",
       "</tbody>\n",
       "</table>\n"
      ],
      "text/latex": [
       "A spec\\_tbl\\_df: 5 × 46\n",
       "\\begin{tabular}{lllllllllllllllllllll}\n",
       " Hospital & Especialidad & total\\_pacientes & ano & semana & CODCNH & id\\_area & nombre\\_area & cmunicipio & Municipio & ⋯ & t9\\_1 & t10\\_1 & t11\\_1 & t12\\_1 & capacidad & pacientes & consultas & hospitalizaciones & Target & is\\_train\\\\\n",
       " <chr> & <chr> & <dbl> & <dbl> & <dbl> & <dbl> & <dbl> & <chr> & <dbl> & <chr> & ⋯ & <dbl> & <dbl> & <dbl> & <dbl> & <dbl> & <dbl> & <dbl> & <dbl> & <dbl> & <lgl>\\\\\n",
       "\\hline\n",
       "\t HOSPITAL REY JUAN CARLOS                  & UROLOGÍA            & 344 & 2021 & 30 & 281348 &  8 & SUR-OESTE I  & 280920 & MÓSTOLES  & ⋯ & 0.3348780 & 0.1369254 & 0.5072726 & 0.5849309 & 17 & 1447 & 573 & 12 & 54.45 & TRUE\\\\\n",
       "\t HOSPITAL CENTRAL DE LA DEFENSA GOMEZ ULLA & ODONTOESTOMATOLOGÍA &   0 & 2020 & 36 & 280724 &  7 & CENTRO-OESTE & 280796 & MADRID    & ⋯ & 0.4914365 & 0.1217100 & 0.4915713 & 0.5597213 &  0 & 1211 &  45 &  0 &  0.00 & TRUE\\\\\n",
       "\t HOSPITAL UNIVERSITARIO DEL TAJO           & GINECOLOGÍA         &  52 & 2021 & 49 & 281292 & 11 & SUR II       & 280133 & ARANJUEZ  & ⋯ & 0.3346063 & 0.1517321 & 0.5024130 & 0.5900028 &  8 & 1293 & 108 &  2 & 37.96 & TRUE\\\\\n",
       "\t HOSPITAL UNIVERSITARIO DEL TAJO           & DERMATOLOGÍA        &  37 & 2021 & 23 & 281292 & 11 & SUR II       & 280133 & ARANJUEZ  & ⋯ & 0.3346063 & 0.1517321 & 0.5024130 & 0.5900028 &  5 & 1501 & 103 &  2 & 23.14 & TRUE\\\\\n",
       "\t HOSPITAL UNIVERSITARIO INFANTA ELENA      & ODONTOESTOMATOLOGÍA &   0 & 2021 &  3 & 281236 & 11 & SUR II       & 281610 & VALDEMORO & ⋯ & 0.3346063 & 0.1517321 & 0.5024130 & 0.5900028 &  0 & 1240 &  44 &  0 &  0.00 & TRUE\\\\\n",
       "\\end{tabular}\n"
      ],
      "text/markdown": [
       "\n",
       "A spec_tbl_df: 5 × 46\n",
       "\n",
       "| Hospital &lt;chr&gt; | Especialidad &lt;chr&gt; | total_pacientes &lt;dbl&gt; | ano &lt;dbl&gt; | semana &lt;dbl&gt; | CODCNH &lt;dbl&gt; | id_area &lt;dbl&gt; | nombre_area &lt;chr&gt; | cmunicipio &lt;dbl&gt; | Municipio &lt;chr&gt; | ⋯ ⋯ | t9_1 &lt;dbl&gt; | t10_1 &lt;dbl&gt; | t11_1 &lt;dbl&gt; | t12_1 &lt;dbl&gt; | capacidad &lt;dbl&gt; | pacientes &lt;dbl&gt; | consultas &lt;dbl&gt; | hospitalizaciones &lt;dbl&gt; | Target &lt;dbl&gt; | is_train &lt;lgl&gt; |\n",
       "|---|---|---|---|---|---|---|---|---|---|---|---|---|---|---|---|---|---|---|---|---|\n",
       "| HOSPITAL REY JUAN CARLOS                  | UROLOGÍA            | 344 | 2021 | 30 | 281348 |  8 | SUR-OESTE I  | 280920 | MÓSTOLES  | ⋯ | 0.3348780 | 0.1369254 | 0.5072726 | 0.5849309 | 17 | 1447 | 573 | 12 | 54.45 | TRUE |\n",
       "| HOSPITAL CENTRAL DE LA DEFENSA GOMEZ ULLA | ODONTOESTOMATOLOGÍA |   0 | 2020 | 36 | 280724 |  7 | CENTRO-OESTE | 280796 | MADRID    | ⋯ | 0.4914365 | 0.1217100 | 0.4915713 | 0.5597213 |  0 | 1211 |  45 |  0 |  0.00 | TRUE |\n",
       "| HOSPITAL UNIVERSITARIO DEL TAJO           | GINECOLOGÍA         |  52 | 2021 | 49 | 281292 | 11 | SUR II       | 280133 | ARANJUEZ  | ⋯ | 0.3346063 | 0.1517321 | 0.5024130 | 0.5900028 |  8 | 1293 | 108 |  2 | 37.96 | TRUE |\n",
       "| HOSPITAL UNIVERSITARIO DEL TAJO           | DERMATOLOGÍA        |  37 | 2021 | 23 | 281292 | 11 | SUR II       | 280133 | ARANJUEZ  | ⋯ | 0.3346063 | 0.1517321 | 0.5024130 | 0.5900028 |  5 | 1501 | 103 |  2 | 23.14 | TRUE |\n",
       "| HOSPITAL UNIVERSITARIO INFANTA ELENA      | ODONTOESTOMATOLOGÍA |   0 | 2021 |  3 | 281236 | 11 | SUR II       | 281610 | VALDEMORO | ⋯ | 0.3346063 | 0.1517321 | 0.5024130 | 0.5900028 |  0 | 1240 |  44 |  0 |  0.00 | TRUE |\n",
       "\n"
      ],
      "text/plain": [
       "  Hospital                                  Especialidad        total_pacientes\n",
       "1 HOSPITAL REY JUAN CARLOS                  UROLOGÍA            344            \n",
       "2 HOSPITAL CENTRAL DE LA DEFENSA GOMEZ ULLA ODONTOESTOMATOLOGÍA   0            \n",
       "3 HOSPITAL UNIVERSITARIO DEL TAJO           GINECOLOGÍA          52            \n",
       "4 HOSPITAL UNIVERSITARIO DEL TAJO           DERMATOLOGÍA         37            \n",
       "5 HOSPITAL UNIVERSITARIO INFANTA ELENA      ODONTOESTOMATOLOGÍA   0            \n",
       "  ano  semana CODCNH id_area nombre_area  cmunicipio Municipio ⋯ t9_1     \n",
       "1 2021 30     281348  8      SUR-OESTE I  280920     MÓSTOLES  ⋯ 0.3348780\n",
       "2 2020 36     280724  7      CENTRO-OESTE 280796     MADRID    ⋯ 0.4914365\n",
       "3 2021 49     281292 11      SUR II       280133     ARANJUEZ  ⋯ 0.3346063\n",
       "4 2021 23     281292 11      SUR II       280133     ARANJUEZ  ⋯ 0.3346063\n",
       "5 2021  3     281236 11      SUR II       281610     VALDEMORO ⋯ 0.3346063\n",
       "  t10_1     t11_1     t12_1     capacidad pacientes consultas hospitalizaciones\n",
       "1 0.1369254 0.5072726 0.5849309 17        1447      573       12               \n",
       "2 0.1217100 0.4915713 0.5597213  0        1211       45        0               \n",
       "3 0.1517321 0.5024130 0.5900028  8        1293      108        2               \n",
       "4 0.1517321 0.5024130 0.5900028  5        1501      103        2               \n",
       "5 0.1517321 0.5024130 0.5900028  0        1240       44        0               \n",
       "  Target is_train\n",
       "1 54.45  TRUE    \n",
       "2  0.00  TRUE    \n",
       "3 37.96  TRUE    \n",
       "4 23.14  TRUE    \n",
       "5  0.00  TRUE    "
      ]
     },
     "metadata": {},
     "output_type": "display_data"
    }
   ],
   "source": [
    "data |> slice_head(n = 5)"
   ]
  },
  {
   "cell_type": "markdown",
   "metadata": {
    "slideshow": {
     "slide_type": "slide"
    }
   },
   "source": [
    "## Selecting Categorical Input / Categorical Output"
   ]
  },
  {
   "cell_type": "markdown",
   "metadata": {
    "slideshow": {
     "slide_type": "slide"
    }
   },
   "source": [
    "### Encoding Categorical Features"
   ]
  },
  {
   "cell_type": "code",
   "execution_count": 34,
   "metadata": {
    "vscode": {
     "languageId": "r"
    }
   },
   "outputs": [],
   "source": [
    "# Convert all character columns to factors\n",
    "data <- mutate_if(data, is.character, as.factor)\n",
    "data <- na.omit(data)\n",
    "\n",
    "train_set <- subset(data[data$is_train == TRUE, ], select = -is_train)\n",
    "train_set <- select_if(train_set, is.numeric)\n",
    "test_set <- subset(data[data$is_train == FALSE, ], select = -is_train)\n",
    "test_set <- select_if(test_set, is.numeric)\n"
   ]
  },
  {
   "cell_type": "markdown",
   "metadata": {
    "slideshow": {
     "slide_type": "slide"
    }
   },
   "source": [
    "### Chi-Squared Feature Selection"
   ]
  },
  {
   "cell_type": "markdown",
   "metadata": {},
   "source": [
    "No aplica ya que el Target no es categórico.\n"
   ]
  },
  {
   "cell_type": "markdown",
   "metadata": {
    "slideshow": {
     "slide_type": "slide"
    }
   },
   "source": [
    "### Mutual Information Feature Selection"
   ]
  },
  {
   "cell_type": "markdown",
   "metadata": {},
   "source": [
    "No aplica ya que el Target no es categórico.\n"
   ]
  },
  {
   "cell_type": "markdown",
   "metadata": {
    "slideshow": {
     "slide_type": "slide"
    }
   },
   "source": [
    "### Evaluating a Logistic Regression model"
   ]
  },
  {
   "cell_type": "markdown",
   "metadata": {
    "ExecuteTime": {
     "end_time": "2021-01-06T10:31:14.165744Z",
     "start_time": "2021-01-06T10:31:14.150155Z"
    },
    "vscode": {
     "languageId": "r"
    }
   },
   "source": [
    "No aplica ya que el Target no es categórico."
   ]
  },
  {
   "cell_type": "markdown",
   "metadata": {},
   "source": [
    "<font color='darkgrey'><b>Operation</font>"
   ]
  },
  {
   "cell_type": "markdown",
   "metadata": {
    "slideshow": {
     "slide_type": "slide"
    }
   },
   "source": [
    "## Selecting Numerical Input / Categorical Output"
   ]
  },
  {
   "cell_type": "markdown",
   "metadata": {
    "slideshow": {
     "slide_type": "slide"
    }
   },
   "source": [
    "### ANOVA F-test Feature Selection"
   ]
  },
  {
   "cell_type": "markdown",
   "metadata": {
    "slideshow": {
     "slide_type": "slide"
    }
   },
   "source": [
    "### Mutual Information Feature Selection"
   ]
  },
  {
   "cell_type": "markdown",
   "metadata": {
    "slideshow": {
     "slide_type": "slide"
    }
   },
   "source": [
    "### Evaluating a Logistic Regression model"
   ]
  },
  {
   "cell_type": "markdown",
   "metadata": {},
   "source": [
    "<font color='tomato'>Selecting feature to use</font>"
   ]
  },
  {
   "cell_type": "code",
   "execution_count": 35,
   "metadata": {
    "ExecuteTime": {
     "end_time": "2021-01-06T11:10:23.895871Z",
     "start_time": "2021-01-06T11:10:23.880235Z"
    },
    "vscode": {
     "languageId": "r"
    }
   },
   "outputs": [],
   "source": [
    "# Select numer of Features to use\n"
   ]
  },
  {
   "cell_type": "markdown",
   "metadata": {},
   "source": [
    "<font color='darkgrey'><b>Operation</font>"
   ]
  },
  {
   "cell_type": "markdown",
   "metadata": {
    "slideshow": {
     "slide_type": "slide"
    }
   },
   "source": [
    "## Selecting Numerical Input / Numerical Output"
   ]
  },
  {
   "cell_type": "markdown",
   "metadata": {
    "slideshow": {
     "slide_type": "slide"
    }
   },
   "source": [
    "### Correlation with the outcome Feature Selection"
   ]
  },
  {
   "cell_type": "code",
   "execution_count": 77,
   "metadata": {
    "vscode": {
     "languageId": "r"
    }
   },
   "outputs": [
    {
     "name": "stdout",
     "output_type": "stream",
     "text": [
      "                            Feature  Correlation\n",
      "consultas                 consultas  0.342597189\n",
      "total_pacientes     total_pacientes  0.342584988\n",
      "CAMAS                         CAMAS  0.313363306\n",
      "HEM                             HEM  0.299355442\n",
      "hospitalizaciones hospitalizaciones  0.296903803\n",
      "TAC                             TAC  0.270636095\n",
      "ALI                             ALI  0.243984162\n",
      "ASD                             ASD  0.237658677\n",
      "capacidad                 capacidad  0.234853780\n",
      "SPECT                         SPECT  0.224919516\n",
      "DIAL                           DIAL  0.224345426\n",
      "RM                               RM  0.172976711\n",
      "X                                 X  0.167823523\n",
      "CODCNH                       CODCNH -0.167594808\n",
      "DO                               DO  0.164167441\n",
      "GAM                             GAM  0.162103092\n",
      "MAMOS                         MAMOS  0.159968110\n",
      "Y                                 Y  0.122519855\n",
      "t5_1                           t5_1  0.111325391\n",
      "t6_1                           t6_1  0.082282323\n",
      "t4_2                           t4_2  0.071829666\n",
      "t4_1                           t4_1 -0.069954598\n",
      "t1_1                           t1_1 -0.060904427\n",
      "t9_1                           t9_1  0.055168040\n",
      "id_area                     id_area -0.048659120\n",
      "t8_1                           t8_1  0.048501179\n",
      "t3_1                           t3_1  0.045284963\n",
      "ano                             ano  0.042236631\n",
      "t10_1                         t10_1 -0.040038361\n",
      "t2_2                           t2_2 -0.034344806\n",
      "t2_1                           t2_1  0.032881739\n",
      "t4_3                           t4_3  0.027963286\n",
      "t7_1                           t7_1  0.027407609\n",
      "semana                       semana  0.026980146\n",
      "t11_1                         t11_1  0.019186010\n",
      "t12_1                         t12_1 -0.009926472\n",
      "cmunicipio               cmunicipio  0.003314892\n",
      "pacientes                 pacientes  0.001849233\n"
     ]
    }
   ],
   "source": [
    "\n",
    "\n",
    "# Calculate the correlation between each feature and the outcome variable\n",
    "correlations <- sapply(select_if(train_set, is.numeric)[, -which(names(select_if(train_set, is.numeric)) %in% \"Target\")], function(x) cor(x, train_set$Target))\n",
    "\n",
    "# Create a dataframe from the correlations\n",
    "correlation_df <- data.frame(Feature = names(correlations), Correlation = correlations)\n",
    "\n",
    "# Sort the dataframe by the absolute values of the correlations in descending order\n",
    "correlation_df <- correlation_df[order(-abs(correlation_df$Correlation)), ]\n",
    "\n",
    "# Print the correlation dataframe\n",
    "print(correlation_df)\n"
   ]
  },
  {
   "cell_type": "markdown",
   "metadata": {
    "slideshow": {
     "slide_type": "slide"
    }
   },
   "source": [
    "### Mutual Information Feature Selection"
   ]
  },
  {
   "cell_type": "code",
   "execution_count": 40,
   "metadata": {
    "vscode": {
     "languageId": "r"
    }
   },
   "outputs": [
    {
     "name": "stderr",
     "output_type": "stream",
     "text": [
      "Warning message in .information_gain.data.frame(formula, data, type = type, equal = equal, :\n",
      "\"Dependent variable is a numeric! It will be converted to factor with simple factor(y). We do not discretize dependent variable in FSelectorRcpp by default! You can choose equal frequency binning discretization by setting equal argument to TRUE.\"\n"
     ]
    },
    {
     "data": {
      "image/png": "[encoded data removed]",
      "text/plain": [
       "plot without title"
      ]
     },
     "metadata": {
      "image/png": {
       "height": 420,
       "width": 420
      }
     },
     "output_type": "display_data"
    }
   ],
   "source": [
    "\n",
    "# install the necessary packages if not already installed\n",
    "if (!require(FSelectorRcpp)) {\n",
    "  install.packages('FSelectorRcpp')\n",
    "}\n",
    "\n",
    "# Load necessary library\n",
    "library(FSelectorRcpp)\n",
    "library(ggplot2)\n",
    "train_data <- train_set\n",
    "\n",
    "# Calculate mutual information between each variable and the target\n",
    "mi_scores <- information_gain(train_data[, setdiff(names(train_data), \"Target\")], train_data$Target)\n",
    "\n",
    "# Convert the top_features object into a dataframe\n",
    "mi_scores_df <- as.data.frame(mi_scores)\n",
    "\n",
    "# Rename the columns\n",
    "names(mi_scores_df) <- c(\"Feature\", \"Score\")\n",
    "\n",
    "# Order the dataframe by Score in descending order\n",
    "mi_scores_df <- mi_scores_df[order(-mi_scores_df$Score),]\n",
    "\n",
    "# Create a bar plot\n",
    "ggplot(mi_scores_df, aes(x = reorder(Feature, Score), y = Score)) +\n",
    "  geom_bar(stat = \"identity\", fill = \"steelblue\") +\n",
    "  coord_flip() +\n",
    "  xlab(\"Features\") +\n",
    "  ylab(\"Mutual Information Score\") +\n",
    "  ggtitle(\"Top Features by Mutual Information\") +\n",
    "  theme_minimal()"
   ]
  },
  {
   "cell_type": "markdown",
   "metadata": {
    "slideshow": {
     "slide_type": "slide"
    }
   },
   "source": [
    "### Evaluating a Lineal Regression model"
   ]
  },
  {
   "cell_type": "code",
   "execution_count": 50,
   "metadata": {
    "vscode": {
     "languageId": "r"
    }
   },
   "outputs": [],
   "source": [
    "\n",
    "# Select numer of Features to use\n",
    "k <- 2"
   ]
  },
  {
   "cell_type": "markdown",
   "metadata": {},
   "source": [
    "<font color='tomato'>Selecting feature to use</font>"
   ]
  },
  {
   "cell_type": "code",
   "execution_count": 51,
   "metadata": {
    "ExecuteTime": {
     "end_time": "2021-01-06T11:10:23.895871Z",
     "start_time": "2021-01-06T11:10:23.880235Z"
    },
    "vscode": {
     "languageId": "r"
    }
   },
   "outputs": [
    {
     "data": {
      "text/html": [
       "<style>\n",
       ".dl-inline {width: auto; margin:0; padding: 0}\n",
       ".dl-inline>dt, .dl-inline>dd {float: none; width: auto; display: inline-block}\n",
       ".dl-inline>dt::after {content: \":\\0020\"; padding-right: .5ex}\n",
       ".dl-inline>dt:not(:first-of-type) {padding-left: .5ex}\n",
       "</style><dl class=dl-inline><dt>RMSE</dt><dd>35.9881884319083</dd><dt>Rsquared</dt><dd>0.282703312782414</dd><dt>MAE</dt><dd>27.696087321463</dd></dl>\n"
      ],
      "text/latex": [
       "\\begin{description*}\n",
       "\\item[RMSE] 35.9881884319083\n",
       "\\item[Rsquared] 0.282703312782414\n",
       "\\item[MAE] 27.696087321463\n",
       "\\end{description*}\n"
      ],
      "text/markdown": [
       "RMSE\n",
       ":   35.9881884319083Rsquared\n",
       ":   0.282703312782414MAE\n",
       ":   27.696087321463\n",
       "\n"
      ],
      "text/plain": [
       "      RMSE   Rsquared        MAE \n",
       "35.9881884  0.2827033 27.6960873 "
      ]
     },
     "metadata": {},
     "output_type": "display_data"
    }
   ],
   "source": [
    "# Select numer of Features to use\n",
    "# Fit a linear regression model\n",
    "library(tidyverse)\n",
    "library(caret)\n",
    "\n",
    "model_all_features <- lm(Target ~ ., data = train_set)\n",
    "\n",
    "# Predict on the test set\n",
    "predictions <- predict(model_all_features, newdata = test_set)\n",
    "\n",
    "# Evaluate the model\n",
    "postResample(pred = predictions, obs = test_set$Target)"
   ]
  },
  {
   "cell_type": "markdown",
   "metadata": {},
   "source": [
    "<font color='darkgrey'><b>Operation</font>"
   ]
  },
  {
   "cell_type": "code",
   "execution_count": 78,
   "metadata": {
    "vscode": {
     "languageId": "r"
    }
   },
   "outputs": [
    {
     "data": {
      "text/html": [
       "<style>\n",
       ".list-inline {list-style: none; margin:0; padding: 0}\n",
       ".list-inline>li {display: inline-block}\n",
       ".list-inline>li:not(:last-child)::after {content: \"\\00b7\"; padding: 0 .5ex}\n",
       "</style>\n",
       "<ol class=list-inline><li>'consultas'</li><li>'total_pacientes'</li><li>'CAMAS'</li><li>'HEM'</li><li>'hospitalizaciones'</li></ol>\n"
      ],
      "text/latex": [
       "\\begin{enumerate*}\n",
       "\\item 'consultas'\n",
       "\\item 'total\\_pacientes'\n",
       "\\item 'CAMAS'\n",
       "\\item 'HEM'\n",
       "\\item 'hospitalizaciones'\n",
       "\\end{enumerate*}\n"
      ],
      "text/markdown": [
       "1. 'consultas'\n",
       "2. 'total_pacientes'\n",
       "3. 'CAMAS'\n",
       "4. 'HEM'\n",
       "5. 'hospitalizaciones'\n",
       "\n",
       "\n"
      ],
      "text/plain": [
       "[1] \"consultas\"         \"total_pacientes\"   \"CAMAS\"            \n",
       "[4] \"HEM\"               \"hospitalizaciones\""
      ]
     },
     "metadata": {},
     "output_type": "display_data"
    },
    {
     "data": {
      "text/html": [
       "<style>\n",
       ".dl-inline {width: auto; margin:0; padding: 0}\n",
       ".dl-inline>dt, .dl-inline>dd {float: none; width: auto; display: inline-block}\n",
       ".dl-inline>dt::after {content: \":\\0020\"; padding-right: .5ex}\n",
       ".dl-inline>dt:not(:first-of-type) {padding-left: .5ex}\n",
       "</style><dl class=dl-inline><dt>RMSE</dt><dd>37.9884517440069</dd><dt>Rsquared</dt><dd>0.200806958439625</dd><dt>MAE</dt><dd>30.2444257238044</dd></dl>\n"
      ],
      "text/latex": [
       "\\begin{description*}\n",
       "\\item[RMSE] 37.9884517440069\n",
       "\\item[Rsquared] 0.200806958439625\n",
       "\\item[MAE] 30.2444257238044\n",
       "\\end{description*}\n"
      ],
      "text/markdown": [
       "RMSE\n",
       ":   37.9884517440069Rsquared\n",
       ":   0.200806958439625MAE\n",
       ":   30.2444257238044\n",
       "\n"
      ],
      "text/plain": [
       "     RMSE  Rsquared       MAE \n",
       "37.988452  0.200807 30.244426 "
      ]
     },
     "metadata": {},
     "output_type": "display_data"
    }
   ],
   "source": [
    "# Select the top k features\n",
    "     k <- 5\n",
    "\n",
    "# Get the vector of the first k features\n",
    "top_features <- correlation_df$Feature[1:k]\n",
    "top_features\n",
    "# Fit a linear regression model with only the top k features\n",
    "model_top_features <- lm(Target ~ ., data = train_set[, c(top_features, \"Target\")])\n",
    "\n",
    "# Predict on the test set\n",
    "predictions_top_features <- predict(model_top_features, newdata = test_set[, top_features])\n",
    "\n",
    "# Evaluate the model\n",
    "postResample(pred = predictions_top_features, obs = test_set$Target)"
   ]
  },
  {
   "cell_type": "markdown",
   "metadata": {
    "slideshow": {
     "slide_type": "slide"
    }
   },
   "source": [
    "### Tuning the Number of Selected Features"
   ]
  },
  {
   "cell_type": "markdown",
   "metadata": {
    "slideshow": {
     "slide_type": "slide"
    }
   },
   "source": [
    "#### Know the best number of features to select"
   ]
  },
  {
   "cell_type": "markdown",
   "metadata": {
    "slideshow": {
     "slide_type": "slide"
    }
   },
   "source": [
    "#### See the relationship between the number of selected features and MAE"
   ]
  },
  {
   "cell_type": "markdown",
   "metadata": {
    "slideshow": {
     "slide_type": "slide"
    }
   },
   "source": [
    "## Any data: RFE (Recursive Feature Elimination)"
   ]
  },
  {
   "attachments": {},
   "cell_type": "markdown",
   "metadata": {
    "slideshow": {
     "slide_type": "slide"
    }
   },
   "source": [
    "### RFE for Regression"
   ]
  },
  {
   "cell_type": "markdown",
   "metadata": {},
   "source": [
    "<font color='tomato'>Selecting feature to use</font>"
   ]
  },
  {
   "cell_type": "code",
   "execution_count": null,
   "metadata": {
    "ExecuteTime": {
     "end_time": "2021-01-07T16:55:23.289784Z",
     "start_time": "2021-01-07T16:55:23.279636Z"
    },
    "vscode": {
     "languageId": "r"
    }
   },
   "outputs": [],
   "source": [
    "# Select numer of Features to use\n",
    "k <- 5"
   ]
  },
  {
   "cell_type": "markdown",
   "metadata": {},
   "source": [
    "<font color='darkgrey'><b>Operation</font>"
   ]
  },
  {
   "cell_type": "code",
   "execution_count": 79,
   "metadata": {
    "vscode": {
     "languageId": "r"
    }
   },
   "outputs": [
    {
     "name": "stdout",
     "output_type": "stream",
     "text": [
      "\n",
      "Recursive feature selection\n",
      "\n",
      "Outer resampling method: Cross-Validated (10 fold) \n",
      "\n",
      "Resampling performance over subset size:\n",
      "\n",
      " Variables  RMSE Rsquared   MAE RMSESD RsquaredSD  MAESD Selected\n",
      "         1 41.99 0.003049 34.18 0.5618   0.002440 0.2945         \n",
      "         2 41.88 0.008042 34.09 0.5529   0.003176 0.2685         \n",
      "         3 41.76 0.013921 33.99 0.5501   0.005456 0.2896         \n",
      "         4 41.67 0.017936 33.98 0.5043   0.003247 0.2481         \n",
      "         5 41.61 0.020733 34.00 0.4806   0.003814 0.2104         \n",
      "         6 41.50 0.025895 33.87 0.4907   0.005185 0.2280         \n",
      "         7 41.34 0.033713 33.65 0.4796   0.005620 0.1934         \n",
      "         8 41.12 0.043599 33.41 0.5071   0.010784 0.2590         \n",
      "         9 40.66 0.065085 33.06 0.4140   0.010609 0.1964         \n",
      "        10 40.17 0.086948 32.41 0.9213   0.040546 1.0934         \n",
      "        11 39.91 0.098612 32.23 1.0181   0.045953 1.1659         \n",
      "        12 38.29 0.170397 30.25 0.5215   0.036227 0.8328         \n",
      "        13 37.80 0.191790 29.76 0.4026   0.012642 0.3036         \n",
      "        14 37.74 0.194651 29.69 0.4041   0.012843 0.2000         \n",
      "        15 37.70 0.196237 29.70 0.3819   0.012921 0.1868         \n",
      "        16 37.69 0.196876 29.67 0.3910   0.012984 0.1951         \n",
      "        17 37.66 0.198162 29.62 0.3806   0.013048 0.1888         \n",
      "        18 37.64 0.198809 29.62 0.3889   0.013252 0.1976         \n",
      "        19 37.63 0.199463 29.60 0.4014   0.012969 0.1960         \n",
      "        20 37.61 0.200005 29.59 0.4089   0.012964 0.1880         \n",
      "        21 37.57 0.201759 29.57 0.4094   0.013239 0.2180         \n",
      "        22 37.53 0.203417 29.53 0.4161   0.013240 0.2093         \n",
      "        23 37.28 0.214053 29.21 0.6934   0.028548 0.6820         \n",
      "        24 37.20 0.217035 29.15 0.7616   0.031431 0.7156         \n",
      "        25 36.20 0.258799 27.94 0.5744   0.017950 0.2615         \n",
      "        26 35.96 0.269084 27.83 0.5508   0.013822 0.2316         \n",
      "        27 35.87 0.272710 27.78 0.5645   0.014811 0.2337         \n",
      "        28 35.76 0.277002 27.74 0.5363   0.012104 0.2118         \n",
      "        29 35.75 0.277559 27.73 0.5282   0.011797 0.2104         \n",
      "        30 35.75 0.277653 27.73 0.5299   0.011998 0.2132         \n",
      "        31 35.74 0.277723 27.73 0.5280   0.011998 0.2116        *\n",
      "        32 35.74 0.277715 27.73 0.5281   0.011965 0.2114         \n",
      "        33 35.74 0.277715 27.73 0.5281   0.011965 0.2114         \n",
      "        34 35.74 0.277715 27.73 0.5281   0.011965 0.2114         \n",
      "        35 35.74 0.277715 27.73 0.5281   0.011965 0.2114         \n",
      "        36 35.74 0.277715 27.73 0.5281   0.011965 0.2133         \n",
      "        37 35.74 0.277715 27.73 0.5281   0.011965 0.2133         \n",
      "        38 35.74 0.277716 27.73 0.5281   0.011964 0.2109         \n",
      "\n",
      "The top 5 variables (out of 31):\n",
      "   t4_3, t2_2, t4_2, t2_1, t4_1\n",
      "\n"
     ]
    }
   ],
   "source": [
    "# Define control parameters for rfe function\n",
    "ctrl <- rfeControl(functions=lmFuncs, method=\"cv\", number=10)\n",
    "\n",
    "# Determine number of predictors\n",
    "predictors_number <- ncol(train_set) - 1 # Assuming the last column is the target variable\n",
    "\n",
    "# Apply the RFE algorithm with cross validation.\n",
    "result <- rfe(train_set[, !names(train_set) %in% \"Target\"], train_set$Target, sizes=c(1:predictors_number), rfeControl=ctrl)\n",
    "\n",
    "# Print the result\n",
    "print(result)\n",
    "\n",
    "# Top ranking variables in the optimal subset size\n",
    "top_features <- predictors(result, result$optsize)"
   ]
  },
  {
   "attachments": {},
   "cell_type": "markdown",
   "metadata": {},
   "source": [
    "## <font color='green'>Data Save</font>\n",
    "\n",
    "\n",
    "* No aplica"
   ]
  },
  {
   "cell_type": "markdown",
   "metadata": {},
   "source": [
    "<font color='tomato'> Identificamos los datos a guardar</font>"
   ]
  },
  {
   "cell_type": "code",
   "execution_count": null,
   "metadata": {
    "vscode": {
     "languageId": "r"
    }
   },
   "outputs": [],
   "source": [
    "data_to_save <- data"
   ]
  },
  {
   "cell_type": "markdown",
   "metadata": {},
   "source": [
    "\n",
    "<font color='tomato'>Estructura de nombre de archivos:</font>\n",
    "\n",
    "* Código del caso de uso, por ejemplo \"CU_04\"\n",
    "* Número del proceso que lo genera, por ejemplo \"_06\".\n",
    "* Resto del nombre del archivo de entrada\n",
    "* Extensión del archivo\n",
    "\n",
    "Ejemplo: \"CU_04_06_01_01_zonasgeo.json, primer fichero que se genera en la tarea 01 del proceso 05 (Data Collection) para el caso de uso 04 (vacunas) y que se ha transformado en el proceso 06\n",
    "\n",
    "Importante mantener los guiones bajos antes de proceso, tarea, archivo y nombre"
   ]
  },
  {
   "attachments": {},
   "cell_type": "markdown",
   "metadata": {},
   "source": [
    "### Proceso 16"
   ]
  },
  {
   "cell_type": "code",
   "execution_count": null,
   "metadata": {
    "vscode": {
     "languageId": "r"
    }
   },
   "outputs": [],
   "source": [
    "# caso <- \"CU_XX\"\n",
    "# proceso <- '_09.2'\n",
    "# tarea <- \"_XX\"\n",
    "# archivo <- \"\"\n",
    "# proper <- \"_xxxxx\"\n",
    "# extension <- \".csv\""
   ]
  },
  {
   "cell_type": "markdown",
   "metadata": {},
   "source": [
    "<font color='tomato'><b> OPCION A:</b> Uso del paquete \"tcltk\" para mayor comodidad</font>\n",
    "\n",
    "* Buscar carpeta, escribir nombre de archivo SIN extensión (se especifica en el código)\n",
    "* Especificar sufijo2 si es necesario\n",
    "* Cambiar datos por datos_xx si es necesario"
   ]
  },
  {
   "cell_type": "code",
   "execution_count": null,
   "metadata": {
    "vscode": {
     "languageId": "r"
    }
   },
   "outputs": [],
   "source": [
    "# file_save <- paste0(caso, proceso, tarea, tcltk::tkgetSaveFile(), proper, extension) \n",
    "# path_out <- paste0(oPath, file_save)\n",
    "# write_csv(data_to_save_xxxxx, path_out)\n",
    "\n",
    "# cat('File saved as: ')\n",
    "# path_out"
   ]
  },
  {
   "cell_type": "markdown",
   "metadata": {},
   "source": [
    "<font color='tomato'><b> OPCION B:</b> Especificar el nombre de archivo</font>"
   ]
  },
  {
   "cell_type": "markdown",
   "metadata": {},
   "source": [
    "- Los ficheros de salida del proceso van siempre a Data/Output/.  "
   ]
  },
  {
   "cell_type": "code",
   "execution_count": null,
   "metadata": {
    "vscode": {
     "languageId": "r"
    }
   },
   "outputs": [],
   "source": [
    "# file_save <- paste0(caso, proceso, tarea, archivo, proper, extension) \n",
    "# path_out <- paste0(oPath, file_save)\n",
    "# write_csv(data_to_save_xxxxx, path_out)\n",
    "\n",
    "# cat('File saved as: ')\n",
    "# path_out"
   ]
  },
  {
   "cell_type": "markdown",
   "metadata": {},
   "source": [
    "#### Copia del fichero a Input\n",
    "\n",
    "Si el archivo se va a usar en otros notebooks, copiar a la carpeta Input"
   ]
  },
  {
   "cell_type": "code",
   "execution_count": null,
   "metadata": {
    "vscode": {
     "languageId": "r"
    }
   },
   "outputs": [],
   "source": [
    "# path_in <- paste0(iPath, file_save)\n",
    "# file.copy(path_out, path_in, overwrite = TRUE)"
   ]
  },
  {
   "cell_type": "markdown",
   "metadata": {},
   "source": [
    "## <font color='#2874a6'>REPORT</font>"
   ]
  },
  {
   "cell_type": "markdown",
   "metadata": {},
   "source": [
    "A continuación se realizará un informe de las acciones realizadas"
   ]
  },
  {
   "cell_type": "markdown",
   "metadata": {},
   "source": [
    "## <font color=' #2874a6 '>Main Actions Carried Out</font>"
   ]
  },
  {
   "cell_type": "markdown",
   "metadata": {},
   "source": [
    "- Si eran necesarias se han realizado en el proceso 05 por cuestiones de eficiencia\n",
    "- O bien se hacen en el dominio IV o V para integrar en el pipeline de modelización"
   ]
  },
  {
   "cell_type": "markdown",
   "metadata": {},
   "source": [
    "## <font color=' #2874a6 '>Main Conclusions</font>"
   ]
  },
  {
   "cell_type": "markdown",
   "metadata": {},
   "source": [
    "- Los datos están listos para la modelización y despliegue\n"
   ]
  },
  {
   "cell_type": "markdown",
   "metadata": {},
   "source": [
    "## <font color='RED'>CODE TO DEPLOY (PILOT)</font>\n",
    "\n",
    "A continuación se incluirá el código que deba ser llevado a despliegue para producción, dado que se entiende efectúa operaciones necesarias sobre los datos en la ejecución del prototipo"
   ]
  },
  {
   "cell_type": "markdown",
   "metadata": {},
   "source": [
    "<font color=' red '><b>Description</b></font>\n",
    "\n",
    "- No hay nada que desplegar en el piloto, ya que estos datos son estáticos o en todo caso cambian con muy poca frecuencia, altamente improbable durante el proyecto.\n"
   ]
  },
  {
   "cell_type": "markdown",
   "metadata": {},
   "source": [
    "<font color=' red '><b>CODE</b></font>"
   ]
  },
  {
   "cell_type": "code",
   "execution_count": null,
   "metadata": {
    "vscode": {
     "languageId": "r"
    }
   },
   "outputs": [],
   "source": []
  }
 ],
 "metadata": {
  "anaconda-cloud": {},
  "celltoolbar": "Slideshow",
  "hide_input": false,
  "kernelspec": {
   "display_name": "R",
   "language": "R",
   "name": "ir"
  },
  "language_info": {
   "codemirror_mode": "r",
   "file_extension": ".r",
   "mimetype": "text/x-r-source",
   "name": "R",
   "pygments_lexer": "r",
   "version": "4.3.0"
  },
  "latex_envs": {
   "LaTeX_envs_menu_present": true,
   "autoclose": false,
   "autocomplete": true,
   "bibliofile": "biblio.bib",
   "cite_by": "apalike",
   "current_citInitial": 1,
   "eqLabelWithNumbers": true,
   "eqNumInitial": 1,
   "hotkeys": {
    "equation": "Ctrl-E",
    "itemize": "Ctrl-I"
   },
   "labels_anchors": false,
   "latex_user_defs": false,
   "report_style_numbering": true,
   "user_envs_cfg": false
  },
  "toc": {
   "base_numbering": 1,
   "nav_menu": {},
   "number_sections": true,
   "sideBar": true,
   "skip_h1_title": true,
   "title_cell": "Table of Contents",
   "title_sidebar": "Contents",
   "toc_cell": false,
   "toc_position": {
    "height": "calc(100% - 180px)",
    "left": "10px",
    "top": "150px",
    "width": "420.633px"
   },
   "toc_section_display": true,
   "toc_window_display": true
  },
  "varInspector": {
   "cols": {
    "lenName": 16,
    "lenType": 16,
    "lenVar": 40
   },
   "kernels_config": {
    "python": {
     "delete_cmd_postfix": "",
     "delete_cmd_prefix": "del ",
     "library": "var_list.py",
     "varRefreshCmd": "print(var_dic_list())"
    },
    "r": {
     "delete_cmd_postfix": ") ",
     "delete_cmd_prefix": "rm(",
     "library": "var_list.r",
     "varRefreshCmd": "cat(var_dic_list()) "
    }
   },
   "types_to_exclude": [
    "module",
    "function",
    "builtin_function_or_method",
    "instance",
    "_Feature"
   ],
   "window_display": false
  }
 },
 "nbformat": 4,
 "nbformat_minor": 1
}
