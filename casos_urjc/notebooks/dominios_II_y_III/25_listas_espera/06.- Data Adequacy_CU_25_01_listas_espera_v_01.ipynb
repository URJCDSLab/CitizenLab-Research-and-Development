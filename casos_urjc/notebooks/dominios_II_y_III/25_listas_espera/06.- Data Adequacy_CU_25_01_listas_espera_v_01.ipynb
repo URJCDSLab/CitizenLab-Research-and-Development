{
 "cells": [
  {
   "cell_type": "markdown",
   "metadata": {
    "slideshow": {
     "slide_type": "slide"
    }
   },
   "source": [
    "<img src=\".\\images\\Logo.png\" width=150 align=\"left\" /> <img src=\".\\images\\Logo2.jpg\" width=450 align=\"right\" />"
   ]
  },
  {
   "attachments": {},
   "cell_type": "markdown",
   "metadata": {
    "slideshow": {
     "slide_type": "slide"
    }
   },
   "source": [
    "\n",
    "# <center><font color= #1e8449 > <b>CU25_Modelo de gestión de Lista de Espera Quirúrgica</font></center>"
   ]
  },
  {
   "cell_type": "markdown",
   "metadata": {
    "slideshow": {
     "slide_type": "slide"
    }
   },
   "source": [
    "<font color='steelblue'><b>Citizenlab Data Science Methodology > II - Data Processing Domain </font>\n",
    "***\n",
    "> # <font color='steelblue'> <b>06.- Data Adequacy</font>"
   ]
  },
  {
   "cell_type": "markdown",
   "metadata": {
    "slideshow": {
     "slide_type": "slide"
    }
   },
   "source": [
    "<font color='steelblue'>Data Adequacy is the process to adapt basic and fundamental aspects of the raw data (File Format, Data Separator, Feature Names, Tidy Data, etcetera).</font>"
   ]
  },
  {
   "cell_type": "markdown",
   "metadata": {
    "slideshow": {
     "slide_type": "slide"
    }
   },
   "source": [
    "## <font color='steelblue'>Tasks</font>"
   ]
  },
  {
   "cell_type": "markdown",
   "metadata": {
    "slideshow": {
     "slide_type": "slide"
    }
   },
   "source": [
    "<font color='steelblue'><b>File format</b>\t\n",
    "- Verify/Obtain Tabular CSV (row x column) if is appropriate \n",
    "- Change Data Separator Character in CSV files to “,”\t\n",
    "- Verify decimal point in numeric data is “.”\n",
    "\n",
    "<font color='steelblue'><b>Feature Names\t\n",
    "- Verify names are Simple, Usable and Recognizable</b>\t\n",
    "- Rename Target column name=”Target” and always will be the last column\t\n",
    "- Verify column names are the first row of csv file\t\n",
    "- Remove spaces  others characters in the column names\t\n",
    "    \n",
    "<font color='steelblue'><b>Data Types</b>\n",
    "- Verify data types\t\n",
    "- Change data types\t\n",
    "- Verify that object type is changed\t\n",
    "    \n",
    "<font color='steelblue'><b>Tidy Data</b>\t\t\n",
    "- Verify each variable forms a column \n",
    "- Verify each observation forms a row\t\n",
    "- Verify each type of observational unit forms a table\t"
   ]
  },
  {
   "attachments": {},
   "cell_type": "markdown",
   "metadata": {},
   "source": [
    "## Consideraciones casos CitizenLab programados en R\n",
    "\n",
    "* La mayoría de las tareas de este proceso se han realizado en los notebooks del proceso 05 Data Collection porque eran necesarias para las tareas ETL. En esos casos, en este notebook se referencia al notebook del proceso 05 correspondiente\n",
    "* Por tanto en los notebooks de este proceso de manera general se incluyen las comprobaciones necesarias, y comentarios si procede\n",
    "* Las tareas del proceso se van a aplicar solo a los archivos que forman parte del despliegue, ya que hay muchos archivos intermedios que no procede pasar por este proceso\n",
    "* El nombre de archivo del notebook hace referencia al nombre de archivo del proceso 05 al que se aplica este proceso, por eso pueden no ser correlativa la numeración\n",
    "* Las comprobaciones se van a realizar teniendo en cuenta que el lenguaje utilizado en el despliegue de este caso es R"
   ]
  },
  {
   "cell_type": "markdown",
   "metadata": {
    "slideshow": {
     "slide_type": "slide"
    }
   },
   "source": [
    "## <font color='green'>File</font>"
   ]
  },
  {
   "attachments": {},
   "cell_type": "markdown",
   "metadata": {
    "slideshow": {
     "slide_type": "slide"
    }
   },
   "source": [
    "- <font color='steelblue'> <b>Input File: CU_25_05_07_03_lista_espera_completo</font>\n",
    "- <font color='steelblue'> <b>Output File: No aplica</font>\n"
   ]
  },
  {
   "cell_type": "markdown",
   "metadata": {
    "slideshow": {
     "slide_type": "slide"
    }
   },
   "source": [
    "## <font color='green'>Settings</font>"
   ]
  },
  {
   "cell_type": "markdown",
   "metadata": {},
   "source": [
    "### Encoding\n",
    "\n",
    "Con la siguiente expresión se evitan problemas con el encoding al ejecutar el notebook. Es posible que deba ser eliminada o adaptada a la máquina en la que se ejecute el código."
   ]
  },
  {
   "cell_type": "code",
   "execution_count": 30,
   "metadata": {
    "vscode": {
     "languageId": "r"
    }
   },
   "outputs": [
    {
     "data": {
      "text/html": [
       "'LC_COLLATE=es_ES.UTF-8;LC_CTYPE=es_ES.UTF-8;LC_MONETARY=es_ES.UTF-8;LC_NUMERIC=C;LC_TIME=es_ES.UTF-8'"
      ],
      "text/latex": [
       "'LC\\_COLLATE=es\\_ES.UTF-8;LC\\_CTYPE=es\\_ES.UTF-8;LC\\_MONETARY=es\\_ES.UTF-8;LC\\_NUMERIC=C;LC\\_TIME=es\\_ES.UTF-8'"
      ],
      "text/markdown": [
       "'LC_COLLATE=es_ES.UTF-8;LC_CTYPE=es_ES.UTF-8;LC_MONETARY=es_ES.UTF-8;LC_NUMERIC=C;LC_TIME=es_ES.UTF-8'"
      ],
      "text/plain": [
       "[1] \"LC_COLLATE=es_ES.UTF-8;LC_CTYPE=es_ES.UTF-8;LC_MONETARY=es_ES.UTF-8;LC_NUMERIC=C;LC_TIME=es_ES.UTF-8\""
      ]
     },
     "metadata": {},
     "output_type": "display_data"
    }
   ],
   "source": [
    "Sys.setlocale(category = \"LC_ALL\", locale = \"es_ES.UTF-8\")"
   ]
  },
  {
   "attachments": {},
   "cell_type": "markdown",
   "metadata": {},
   "source": [
    "### Libraries to use"
   ]
  },
  {
   "cell_type": "code",
   "execution_count": 31,
   "metadata": {
    "ExecuteTime": {
     "end_time": "2020-12-25T18:02:52.556732Z",
     "start_time": "2020-12-25T18:02:52.541126Z"
    },
    "slideshow": {
     "slide_type": "subslide"
    },
    "vscode": {
     "languageId": "r"
    }
   },
   "outputs": [],
   "source": [
    "\n",
    "library(readr)\n",
    "library(dplyr)\n",
    "library(sf)\n",
    "library(tidyr)\n",
    "library(stringr)\n",
    "library(tools)"
   ]
  },
  {
   "cell_type": "markdown",
   "metadata": {},
   "source": [
    "### Paths"
   ]
  },
  {
   "cell_type": "code",
   "execution_count": 32,
   "metadata": {
    "vscode": {
     "languageId": "r"
    }
   },
   "outputs": [],
   "source": [
    "iPath <- \"Data/Input/\"\n",
    "oPath <- \"Data/Output/\""
   ]
  },
  {
   "cell_type": "markdown",
   "metadata": {
    "slideshow": {
     "slide_type": "slide"
    }
   },
   "source": [
    "## <font color='green'>Data Load</font>"
   ]
  },
  {
   "cell_type": "markdown",
   "metadata": {},
   "source": [
    "<font color='tomato'><b> OPCION A:</b> Seleccionar fichero en ventana para mayor comodidad</font> "
   ]
  },
  {
   "attachments": {},
   "cell_type": "markdown",
   "metadata": {},
   "source": [
    "Data load using the {tcltk} package. Ucomment the line if using this option"
   ]
  },
  {
   "cell_type": "code",
   "execution_count": 33,
   "metadata": {
    "vscode": {
     "languageId": "r"
    }
   },
   "outputs": [],
   "source": [
    "# file_data <- tcltk::tk_choose.files(multi = FALSE)"
   ]
  },
  {
   "cell_type": "markdown",
   "metadata": {},
   "source": [
    "<font color='tomato'><b> OPCION B:</b> Especificar el nombre de archivo</font>\n",
    "\n"
   ]
  },
  {
   "cell_type": "code",
   "execution_count": 34,
   "metadata": {
    "vscode": {
     "languageId": "r"
    }
   },
   "outputs": [
    {
     "name": "stdout",
     "output_type": "stream",
     "text": [
      "Se leerán datos del archivo:  Data/Input/CU_25_05_07_03_lista_espera_completo.csv"
     ]
    }
   ],
   "source": [
    "iFile <- \"CU_25_05_07_03_lista_espera_completo.csv\"\n",
    "file_data <- paste0(iPath, iFile)\n",
    "\n",
    "if(file.exists(file_data)){\n",
    "    cat(\"Se leerán datos del archivo: \", file_data)\n",
    "} else{\n",
    "    warning(\"Cuidado: el archivo no existe.\")\n",
    "}\n"
   ]
  },
  {
   "cell_type": "markdown",
   "metadata": {
    "slideshow": {
     "slide_type": "slide"
    }
   },
   "source": [
    "## <font color='green'>Task</font>"
   ]
  },
  {
   "cell_type": "markdown",
   "metadata": {
    "slideshow": {
     "slide_type": "slide"
    }
   },
   "source": [
    "### File format\n"
   ]
  },
  {
   "cell_type": "code",
   "execution_count": 35,
   "metadata": {
    "vscode": {
     "languageId": "r"
    }
   },
   "outputs": [
    {
     "name": "stdout",
     "output_type": "stream",
     "text": [
      "[1] \"El fichero tiene el formato adecuado.\"\n"
     ]
    }
   ],
   "source": [
    "file_format <- file_ext(file_data)\n",
    "  \n",
    "  if (file_format == \"csv\") {\n",
    "    print(\"El fichero tiene el formato adecuado.\")\n",
    "  } else {\n",
    "    warning(\"Cuidado: el archivo no tiene un formato válido.\")\n",
    "  }"
   ]
  },
  {
   "cell_type": "markdown",
   "metadata": {
    "slideshow": {
     "slide_type": "slide"
    }
   },
   "source": [
    "#### Verify/Obtain Tabular CSV (row x column) if is appropriate"
   ]
  },
  {
   "cell_type": "code",
   "execution_count": 36,
   "metadata": {
    "vscode": {
     "languageId": "r"
    }
   },
   "outputs": [
    {
     "name": "stdout",
     "output_type": "stream",
     "text": [
      "\n",
      "El archivo contiene una representación tabular.\n",
      "Número de filas:  55680\n",
      "Número de columnas:  48"
     ]
    }
   ],
   "source": [
    "data <- read.csv(file_data)\n",
    "    \n",
    "    # Verify if the data is appropriate and obtain its dimensions\n",
    "    if (!is.null(dim(data))) {\n",
    "      cat(\"\\nEl archivo contiene una representación tabular.\")\n",
    "      \n",
    "      # Print the dimensions (rows x columns)\n",
    "      cat(\"\\nNúmero de filas: \", dim(data)[1])\n",
    "      cat(\"\\nNúmero de columnas: \", dim(data)[2])\n",
    "      \n",
    "    } else {\n",
    "      warning(\"Cuidado: el archivo no contiene una representación tabular.\")\n",
    "    }"
   ]
  },
  {
   "cell_type": "markdown",
   "metadata": {},
   "source": [
    "<font color=' #2874a6 '><b>Remarks</b></font>"
   ]
  },
  {
   "attachments": {},
   "cell_type": "markdown",
   "metadata": {},
   "source": [
    "- Se ha verificado que el CSV carga las filas y columnas sin errores\n"
   ]
  },
  {
   "cell_type": "markdown",
   "metadata": {},
   "source": [
    "<font color=' #2874a6 '><b>CODE</b></font>"
   ]
  },
  {
   "cell_type": "markdown",
   "metadata": {},
   "source": [
    "#### Data file to dataframe\n",
    "\n",
    "Usar la función adecuada según el formato de entrada (xlsx, csv, json, ...)"
   ]
  },
  {
   "cell_type": "code",
   "execution_count": 37,
   "metadata": {
    "vscode": {
     "languageId": "r"
    }
   },
   "outputs": [
    {
     "data": {
      "text/html": [
       "<table class=\"dataframe\">\n",
       "<caption>A data.frame: 6 × 48</caption>\n",
       "<thead>\n",
       "\t<tr><th></th><th scope=col>Hospital</th><th scope=col>Especialidad</th><th scope=col>total_pacientes</th><th scope=col>media_tiempo_dias</th><th scope=col>ano</th><th scope=col>semana</th><th scope=col>CODCNH</th><th scope=col>id_area</th><th scope=col>nombre_area</th><th scope=col>cmunicipio</th><th scope=col>⋯</th><th scope=col>t7_1</th><th scope=col>t8_1</th><th scope=col>t9_1</th><th scope=col>t10_1</th><th scope=col>t11_1</th><th scope=col>t12_1</th><th scope=col>capacidad</th><th scope=col>pacientes</th><th scope=col>consultas</th><th scope=col>hospitalizaciones</th></tr>\n",
       "\t<tr><th></th><th scope=col>&lt;chr&gt;</th><th scope=col>&lt;chr&gt;</th><th scope=col>&lt;int&gt;</th><th scope=col>&lt;dbl&gt;</th><th scope=col>&lt;int&gt;</th><th scope=col>&lt;int&gt;</th><th scope=col>&lt;int&gt;</th><th scope=col>&lt;int&gt;</th><th scope=col>&lt;chr&gt;</th><th scope=col>&lt;int&gt;</th><th scope=col>⋯</th><th scope=col>&lt;dbl&gt;</th><th scope=col>&lt;dbl&gt;</th><th scope=col>&lt;dbl&gt;</th><th scope=col>&lt;dbl&gt;</th><th scope=col>&lt;dbl&gt;</th><th scope=col>&lt;dbl&gt;</th><th scope=col>&lt;int&gt;</th><th scope=col>&lt;int&gt;</th><th scope=col>&lt;int&gt;</th><th scope=col>&lt;int&gt;</th></tr>\n",
       "</thead>\n",
       "<tbody>\n",
       "\t<tr><th scope=row>1</th><td>HOSPITAL CENTRAL DE LA CRUZ ROJA SAN JOSE Y SANTA ADELA</td><td>Angiología y Cirugía Vascular</td><td>439</td><td>56.29</td><td>2022</td><td>44</td><td>280148</td><td>5</td><td>Norte</td><td>280796</td><td>⋯</td><td>0.06406634</td><td>0.05318346</td><td>0.4872258</td><td>0.1032815</td><td>0.5420084</td><td>0.6035461</td><td>14</td><td>1392</td><td>717</td><td> 8</td></tr>\n",
       "\t<tr><th scope=row>2</th><td>HOSPITAL CENTRAL DE LA CRUZ ROJA SAN JOSE Y SANTA ADELA</td><td>Angiología y Cirugía Vascular</td><td>437</td><td>55.13</td><td>2022</td><td>43</td><td>280148</td><td>5</td><td>Norte</td><td>280796</td><td>⋯</td><td>0.06406634</td><td>0.05318346</td><td>0.4872258</td><td>0.1032815</td><td>0.5420084</td><td>0.6035461</td><td>14</td><td>1465</td><td>703</td><td> 3</td></tr>\n",
       "\t<tr><th scope=row>3</th><td>HOSPITAL CENTRAL DE LA CRUZ ROJA SAN JOSE Y SANTA ADELA</td><td>Angiología y Cirugía Vascular</td><td>429</td><td>53.99</td><td>2022</td><td>42</td><td>280148</td><td>5</td><td>Norte</td><td>280796</td><td>⋯</td><td>0.06406634</td><td>0.05318346</td><td>0.4872258</td><td>0.1032815</td><td>0.5420084</td><td>0.6035461</td><td>14</td><td>1373</td><td>684</td><td>12</td></tr>\n",
       "\t<tr><th scope=row>4</th><td>HOSPITAL CENTRAL DE LA CRUZ ROJA SAN JOSE Y SANTA ADELA</td><td>Angiología y Cirugía Vascular</td><td>419</td><td>56.29</td><td>2022</td><td>41</td><td>280148</td><td>5</td><td>Norte</td><td>280796</td><td>⋯</td><td>0.06406634</td><td>0.05318346</td><td>0.4872258</td><td>0.1032815</td><td>0.5420084</td><td>0.6035461</td><td>14</td><td>1593</td><td>686</td><td> 3</td></tr>\n",
       "\t<tr><th scope=row>5</th><td>HOSPITAL CENTRAL DE LA CRUZ ROJA SAN JOSE Y SANTA ADELA</td><td>Angiología y Cirugía Vascular</td><td>418</td><td>55.82</td><td>2022</td><td>40</td><td>280148</td><td>5</td><td>Norte</td><td>280796</td><td>⋯</td><td>0.06406634</td><td>0.05318346</td><td>0.4872258</td><td>0.1032815</td><td>0.5420084</td><td>0.6035461</td><td>14</td><td>1478</td><td>682</td><td>17</td></tr>\n",
       "\t<tr><th scope=row>6</th><td>HOSPITAL CENTRAL DE LA CRUZ ROJA SAN JOSE Y SANTA ADELA</td><td>Angiología y Cirugía Vascular</td><td> NA</td><td>   NA</td><td>2022</td><td>39</td><td>280148</td><td>5</td><td>Norte</td><td>280796</td><td>⋯</td><td>0.06406634</td><td>0.05318346</td><td>0.4872258</td><td>0.1032815</td><td>0.5420084</td><td>0.6035461</td><td>14</td><td>1374</td><td> NA</td><td>NA</td></tr>\n",
       "</tbody>\n",
       "</table>\n"
      ],
      "text/latex": [
       "A data.frame: 6 × 48\n",
       "\\begin{tabular}{r|lllllllllllllllllllll}\n",
       "  & Hospital & Especialidad & total\\_pacientes & media\\_tiempo\\_dias & ano & semana & CODCNH & id\\_area & nombre\\_area & cmunicipio & ⋯ & t7\\_1 & t8\\_1 & t9\\_1 & t10\\_1 & t11\\_1 & t12\\_1 & capacidad & pacientes & consultas & hospitalizaciones\\\\\n",
       "  & <chr> & <chr> & <int> & <dbl> & <int> & <int> & <int> & <int> & <chr> & <int> & ⋯ & <dbl> & <dbl> & <dbl> & <dbl> & <dbl> & <dbl> & <int> & <int> & <int> & <int>\\\\\n",
       "\\hline\n",
       "\t1 & HOSPITAL CENTRAL DE LA CRUZ ROJA SAN JOSE Y SANTA ADELA & Angiología y Cirugía Vascular & 439 & 56.29 & 2022 & 44 & 280148 & 5 & Norte & 280796 & ⋯ & 0.06406634 & 0.05318346 & 0.4872258 & 0.1032815 & 0.5420084 & 0.6035461 & 14 & 1392 & 717 &  8\\\\\n",
       "\t2 & HOSPITAL CENTRAL DE LA CRUZ ROJA SAN JOSE Y SANTA ADELA & Angiología y Cirugía Vascular & 437 & 55.13 & 2022 & 43 & 280148 & 5 & Norte & 280796 & ⋯ & 0.06406634 & 0.05318346 & 0.4872258 & 0.1032815 & 0.5420084 & 0.6035461 & 14 & 1465 & 703 &  3\\\\\n",
       "\t3 & HOSPITAL CENTRAL DE LA CRUZ ROJA SAN JOSE Y SANTA ADELA & Angiología y Cirugía Vascular & 429 & 53.99 & 2022 & 42 & 280148 & 5 & Norte & 280796 & ⋯ & 0.06406634 & 0.05318346 & 0.4872258 & 0.1032815 & 0.5420084 & 0.6035461 & 14 & 1373 & 684 & 12\\\\\n",
       "\t4 & HOSPITAL CENTRAL DE LA CRUZ ROJA SAN JOSE Y SANTA ADELA & Angiología y Cirugía Vascular & 419 & 56.29 & 2022 & 41 & 280148 & 5 & Norte & 280796 & ⋯ & 0.06406634 & 0.05318346 & 0.4872258 & 0.1032815 & 0.5420084 & 0.6035461 & 14 & 1593 & 686 &  3\\\\\n",
       "\t5 & HOSPITAL CENTRAL DE LA CRUZ ROJA SAN JOSE Y SANTA ADELA & Angiología y Cirugía Vascular & 418 & 55.82 & 2022 & 40 & 280148 & 5 & Norte & 280796 & ⋯ & 0.06406634 & 0.05318346 & 0.4872258 & 0.1032815 & 0.5420084 & 0.6035461 & 14 & 1478 & 682 & 17\\\\\n",
       "\t6 & HOSPITAL CENTRAL DE LA CRUZ ROJA SAN JOSE Y SANTA ADELA & Angiología y Cirugía Vascular &  NA &    NA & 2022 & 39 & 280148 & 5 & Norte & 280796 & ⋯ & 0.06406634 & 0.05318346 & 0.4872258 & 0.1032815 & 0.5420084 & 0.6035461 & 14 & 1374 &  NA & NA\\\\\n",
       "\\end{tabular}\n"
      ],
      "text/markdown": [
       "\n",
       "A data.frame: 6 × 48\n",
       "\n",
       "| <!--/--> | Hospital &lt;chr&gt; | Especialidad &lt;chr&gt; | total_pacientes &lt;int&gt; | media_tiempo_dias &lt;dbl&gt; | ano &lt;int&gt; | semana &lt;int&gt; | CODCNH &lt;int&gt; | id_area &lt;int&gt; | nombre_area &lt;chr&gt; | cmunicipio &lt;int&gt; | ⋯ ⋯ | t7_1 &lt;dbl&gt; | t8_1 &lt;dbl&gt; | t9_1 &lt;dbl&gt; | t10_1 &lt;dbl&gt; | t11_1 &lt;dbl&gt; | t12_1 &lt;dbl&gt; | capacidad &lt;int&gt; | pacientes &lt;int&gt; | consultas &lt;int&gt; | hospitalizaciones &lt;int&gt; |\n",
       "|---|---|---|---|---|---|---|---|---|---|---|---|---|---|---|---|---|---|---|---|---|---|\n",
       "| 1 | HOSPITAL CENTRAL DE LA CRUZ ROJA SAN JOSE Y SANTA ADELA | Angiología y Cirugía Vascular | 439 | 56.29 | 2022 | 44 | 280148 | 5 | Norte | 280796 | ⋯ | 0.06406634 | 0.05318346 | 0.4872258 | 0.1032815 | 0.5420084 | 0.6035461 | 14 | 1392 | 717 |  8 |\n",
       "| 2 | HOSPITAL CENTRAL DE LA CRUZ ROJA SAN JOSE Y SANTA ADELA | Angiología y Cirugía Vascular | 437 | 55.13 | 2022 | 43 | 280148 | 5 | Norte | 280796 | ⋯ | 0.06406634 | 0.05318346 | 0.4872258 | 0.1032815 | 0.5420084 | 0.6035461 | 14 | 1465 | 703 |  3 |\n",
       "| 3 | HOSPITAL CENTRAL DE LA CRUZ ROJA SAN JOSE Y SANTA ADELA | Angiología y Cirugía Vascular | 429 | 53.99 | 2022 | 42 | 280148 | 5 | Norte | 280796 | ⋯ | 0.06406634 | 0.05318346 | 0.4872258 | 0.1032815 | 0.5420084 | 0.6035461 | 14 | 1373 | 684 | 12 |\n",
       "| 4 | HOSPITAL CENTRAL DE LA CRUZ ROJA SAN JOSE Y SANTA ADELA | Angiología y Cirugía Vascular | 419 | 56.29 | 2022 | 41 | 280148 | 5 | Norte | 280796 | ⋯ | 0.06406634 | 0.05318346 | 0.4872258 | 0.1032815 | 0.5420084 | 0.6035461 | 14 | 1593 | 686 |  3 |\n",
       "| 5 | HOSPITAL CENTRAL DE LA CRUZ ROJA SAN JOSE Y SANTA ADELA | Angiología y Cirugía Vascular | 418 | 55.82 | 2022 | 40 | 280148 | 5 | Norte | 280796 | ⋯ | 0.06406634 | 0.05318346 | 0.4872258 | 0.1032815 | 0.5420084 | 0.6035461 | 14 | 1478 | 682 | 17 |\n",
       "| 6 | HOSPITAL CENTRAL DE LA CRUZ ROJA SAN JOSE Y SANTA ADELA | Angiología y Cirugía Vascular |  NA |    NA | 2022 | 39 | 280148 | 5 | Norte | 280796 | ⋯ | 0.06406634 | 0.05318346 | 0.4872258 | 0.1032815 | 0.5420084 | 0.6035461 | 14 | 1374 |  NA | NA |\n",
       "\n"
      ],
      "text/plain": [
       "  Hospital                                               \n",
       "1 HOSPITAL CENTRAL DE LA CRUZ ROJA SAN JOSE Y SANTA ADELA\n",
       "2 HOSPITAL CENTRAL DE LA CRUZ ROJA SAN JOSE Y SANTA ADELA\n",
       "3 HOSPITAL CENTRAL DE LA CRUZ ROJA SAN JOSE Y SANTA ADELA\n",
       "4 HOSPITAL CENTRAL DE LA CRUZ ROJA SAN JOSE Y SANTA ADELA\n",
       "5 HOSPITAL CENTRAL DE LA CRUZ ROJA SAN JOSE Y SANTA ADELA\n",
       "6 HOSPITAL CENTRAL DE LA CRUZ ROJA SAN JOSE Y SANTA ADELA\n",
       "  Especialidad                  total_pacientes media_tiempo_dias ano  semana\n",
       "1 Angiología y Cirugía Vascular 439             56.29             2022 44    \n",
       "2 Angiología y Cirugía Vascular 437             55.13             2022 43    \n",
       "3 Angiología y Cirugía Vascular 429             53.99             2022 42    \n",
       "4 Angiología y Cirugía Vascular 419             56.29             2022 41    \n",
       "5 Angiología y Cirugía Vascular 418             55.82             2022 40    \n",
       "6 Angiología y Cirugía Vascular  NA                NA             2022 39    \n",
       "  CODCNH id_area nombre_area cmunicipio ⋯ t7_1       t8_1       t9_1     \n",
       "1 280148 5       Norte       280796     ⋯ 0.06406634 0.05318346 0.4872258\n",
       "2 280148 5       Norte       280796     ⋯ 0.06406634 0.05318346 0.4872258\n",
       "3 280148 5       Norte       280796     ⋯ 0.06406634 0.05318346 0.4872258\n",
       "4 280148 5       Norte       280796     ⋯ 0.06406634 0.05318346 0.4872258\n",
       "5 280148 5       Norte       280796     ⋯ 0.06406634 0.05318346 0.4872258\n",
       "6 280148 5       Norte       280796     ⋯ 0.06406634 0.05318346 0.4872258\n",
       "  t10_1     t11_1     t12_1     capacidad pacientes consultas hospitalizaciones\n",
       "1 0.1032815 0.5420084 0.6035461 14        1392      717        8               \n",
       "2 0.1032815 0.5420084 0.6035461 14        1465      703        3               \n",
       "3 0.1032815 0.5420084 0.6035461 14        1373      684       12               \n",
       "4 0.1032815 0.5420084 0.6035461 14        1593      686        3               \n",
       "5 0.1032815 0.5420084 0.6035461 14        1478      682       17               \n",
       "6 0.1032815 0.5420084 0.6035461 14        1374       NA       NA               "
      ]
     },
     "metadata": {},
     "output_type": "display_data"
    }
   ],
   "source": [
    "head(data)\n"
   ]
  },
  {
   "cell_type": "markdown",
   "metadata": {},
   "source": [
    "Estructura de  los datos:"
   ]
  },
  {
   "cell_type": "code",
   "execution_count": 38,
   "metadata": {
    "vscode": {
     "languageId": "r"
    }
   },
   "outputs": [
    {
     "name": "stdout",
     "output_type": "stream",
     "text": [
      "Rows: 55,680\n",
      "Columns: 48\n",
      "$ Hospital          \u001b[3m\u001b[90m<chr>\u001b[39m\u001b[23m \"HOSPITAL CENTRAL DE LA CRUZ ROJA SAN JOSE Y SANTA A…\n",
      "$ Especialidad      \u001b[3m\u001b[90m<chr>\u001b[39m\u001b[23m \"Angiología y Cirugía Vascular\", \"Angiología y Cirug…\n",
      "$ total_pacientes   \u001b[3m\u001b[90m<int>\u001b[39m\u001b[23m 439, 437, 429, 419, 418, NA, 408, 399, 396, 393, 378…\n",
      "$ media_tiempo_dias \u001b[3m\u001b[90m<dbl>\u001b[39m\u001b[23m 56.29, 55.13, 53.99, 56.29, 55.82, NA, 57.45, 57.61,…\n",
      "$ ano               \u001b[3m\u001b[90m<int>\u001b[39m\u001b[23m 2022, 2022, 2022, 2022, 2022, 2022, 2022, 2022, 2022…\n",
      "$ semana            \u001b[3m\u001b[90m<int>\u001b[39m\u001b[23m 44, 43, 42, 41, 40, 39, 38, 37, 36, 35, 34, 33, 32, …\n",
      "$ CODCNH            \u001b[3m\u001b[90m<int>\u001b[39m\u001b[23m 280148, 280148, 280148, 280148, 280148, 280148, 2801…\n",
      "$ id_area           \u001b[3m\u001b[90m<int>\u001b[39m\u001b[23m 5, 5, 5, 5, 5, 5, 5, 5, 5, 5, 5, 5, 5, 5, 5, 5, 5, 5…\n",
      "$ nombre_area       \u001b[3m\u001b[90m<chr>\u001b[39m\u001b[23m \"Norte\", \"Norte\", \"Norte\", \"Norte\", \"Norte\", \"Norte\"…\n",
      "$ cmunicipio        \u001b[3m\u001b[90m<int>\u001b[39m\u001b[23m 280796, 280796, 280796, 280796, 280796, 280796, 2807…\n",
      "$ Municipio         \u001b[3m\u001b[90m<chr>\u001b[39m\u001b[23m \"Madrid\", \"Madrid\", \"Madrid\", \"Madrid\", \"Madrid\", \"M…\n",
      "$ CAMAS             \u001b[3m\u001b[90m<int>\u001b[39m\u001b[23m 156, 156, 156, 156, 156, 156, 156, 156, 156, 156, 15…\n",
      "$ Clase             \u001b[3m\u001b[90m<chr>\u001b[39m\u001b[23m \"Otros Centros con Internamiento\", \"Otros Centros co…\n",
      "$ Dependencia       \u001b[3m\u001b[90m<chr>\u001b[39m\u001b[23m \"SERVICIOS E INSTITUTOS DE SALUD DE LAS COMUNIDADES …\n",
      "$ TAC               \u001b[3m\u001b[90m<int>\u001b[39m\u001b[23m 1, 1, 1, 1, 1, 1, 1, 1, 1, 1, 1, 1, 1, 1, 1, 1, 1, 1…\n",
      "$ RM                \u001b[3m\u001b[90m<int>\u001b[39m\u001b[23m 0, 0, 0, 0, 0, 0, 0, 0, 0, 0, 0, 0, 0, 0, 0, 0, 0, 0…\n",
      "$ GAM               \u001b[3m\u001b[90m<int>\u001b[39m\u001b[23m 1, 1, 1, 1, 1, 1, 1, 1, 1, 1, 1, 1, 1, 1, 1, 1, 1, 1…\n",
      "$ HEM               \u001b[3m\u001b[90m<int>\u001b[39m\u001b[23m 0, 0, 0, 0, 0, 0, 0, 0, 0, 0, 0, 0, 0, 0, 0, 0, 0, 0…\n",
      "$ ASD               \u001b[3m\u001b[90m<int>\u001b[39m\u001b[23m 0, 0, 0, 0, 0, 0, 0, 0, 0, 0, 0, 0, 0, 0, 0, 0, 0, 0…\n",
      "$ LIT               \u001b[3m\u001b[90m<int>\u001b[39m\u001b[23m 0, 0, 0, 0, 0, 0, 0, 0, 0, 0, 0, 0, 0, 0, 0, 0, 0, 0…\n",
      "$ BCO               \u001b[3m\u001b[90m<int>\u001b[39m\u001b[23m 0, 0, 0, 0, 0, 0, 0, 0, 0, 0, 0, 0, 0, 0, 0, 0, 0, 0…\n",
      "$ ALI               \u001b[3m\u001b[90m<int>\u001b[39m\u001b[23m 0, 0, 0, 0, 0, 0, 0, 0, 0, 0, 0, 0, 0, 0, 0, 0, 0, 0…\n",
      "$ SPECT             \u001b[3m\u001b[90m<int>\u001b[39m\u001b[23m 0, 0, 0, 0, 0, 0, 0, 0, 0, 0, 0, 0, 0, 0, 0, 0, 0, 0…\n",
      "$ PET               \u001b[3m\u001b[90m<int>\u001b[39m\u001b[23m 0, 0, 0, 0, 0, 0, 0, 0, 0, 0, 0, 0, 0, 0, 0, 0, 0, 0…\n",
      "$ MAMOS             \u001b[3m\u001b[90m<int>\u001b[39m\u001b[23m 1, 1, 1, 1, 1, 1, 1, 1, 1, 1, 1, 1, 1, 1, 1, 1, 1, 1…\n",
      "$ DO                \u001b[3m\u001b[90m<int>\u001b[39m\u001b[23m 0, 0, 0, 0, 0, 0, 0, 0, 0, 0, 0, 0, 0, 0, 0, 0, 0, 0…\n",
      "$ DIAL              \u001b[3m\u001b[90m<int>\u001b[39m\u001b[23m 0, 0, 0, 0, 0, 0, 0, 0, 0, 0, 0, 0, 0, 0, 0, 0, 0, 0…\n",
      "$ X                 \u001b[3m\u001b[90m<dbl>\u001b[39m\u001b[23m -3.706932, -3.706932, -3.706932, -3.706932, -3.70693…\n",
      "$ Y                 \u001b[3m\u001b[90m<dbl>\u001b[39m\u001b[23m 40.44715, 40.44715, 40.44715, 40.44715, 40.44715, 40…\n",
      "$ t3_1              \u001b[3m\u001b[90m<dbl>\u001b[39m\u001b[23m 41.3884, 41.3884, 41.3884, 41.3884, 41.3884, 41.3884…\n",
      "$ t1_1              \u001b[3m\u001b[90m<int>\u001b[39m\u001b[23m 912485, 912485, 912485, 912485, 912485, 912485, 9124…\n",
      "$ t2_1              \u001b[3m\u001b[90m<dbl>\u001b[39m\u001b[23m 0.5202002, 0.5202002, 0.5202002, 0.5202002, 0.520200…\n",
      "$ t2_2              \u001b[3m\u001b[90m<dbl>\u001b[39m\u001b[23m 0.4791324, 0.4791324, 0.4791324, 0.4791324, 0.479132…\n",
      "$ t4_1              \u001b[3m\u001b[90m<dbl>\u001b[39m\u001b[23m 0.1700457, 0.1700457, 0.1700457, 0.1700457, 0.170045…\n",
      "$ t4_2              \u001b[3m\u001b[90m<dbl>\u001b[39m\u001b[23m 0.6590844, 0.6590844, 0.6590844, 0.6590844, 0.659084…\n",
      "$ t4_3              \u001b[3m\u001b[90m<dbl>\u001b[39m\u001b[23m 0.1702033, 0.1702033, 0.1702033, 0.1702033, 0.170203…\n",
      "$ t5_1              \u001b[3m\u001b[90m<dbl>\u001b[39m\u001b[23m 0.1248427, 0.1248427, 0.1248427, 0.1248427, 0.124842…\n",
      "$ t6_1              \u001b[3m\u001b[90m<dbl>\u001b[39m\u001b[23m 0.1950003, 0.1950003, 0.1950003, 0.1950003, 0.195000…\n",
      "$ t7_1              \u001b[3m\u001b[90m<dbl>\u001b[39m\u001b[23m 0.06406634, 0.06406634, 0.06406634, 0.06406634, 0.06…\n",
      "$ t8_1              \u001b[3m\u001b[90m<dbl>\u001b[39m\u001b[23m 0.05318346, 0.05318346, 0.05318346, 0.05318346, 0.05…\n",
      "$ t9_1              \u001b[3m\u001b[90m<dbl>\u001b[39m\u001b[23m 0.4872258, 0.4872258, 0.4872258, 0.4872258, 0.487225…\n",
      "$ t10_1             \u001b[3m\u001b[90m<dbl>\u001b[39m\u001b[23m 0.1032815, 0.1032815, 0.1032815, 0.1032815, 0.103281…\n",
      "$ t11_1             \u001b[3m\u001b[90m<dbl>\u001b[39m\u001b[23m 0.5420084, 0.5420084, 0.5420084, 0.5420084, 0.542008…\n",
      "$ t12_1             \u001b[3m\u001b[90m<dbl>\u001b[39m\u001b[23m 0.6035461, 0.6035461, 0.6035461, 0.6035461, 0.603546…\n",
      "$ capacidad         \u001b[3m\u001b[90m<int>\u001b[39m\u001b[23m 14, 14, 14, 14, 14, 14, 14, 14, 14, 14, 14, 14, 14, …\n",
      "$ pacientes         \u001b[3m\u001b[90m<int>\u001b[39m\u001b[23m 1392, 1465, 1373, 1593, 1478, 1374, 1493, 1515, 1501…\n",
      "$ consultas         \u001b[3m\u001b[90m<int>\u001b[39m\u001b[23m 717, 703, 684, 686, 682, NA, 656, 657, 646, 641, 625…\n",
      "$ hospitalizaciones \u001b[3m\u001b[90m<int>\u001b[39m\u001b[23m 8, 3, 12, 3, 17, NA, 10, 20, 14, 8, 19, 8, 18, 6, 5,…\n"
     ]
    }
   ],
   "source": [
    "data |> glimpse()"
   ]
  },
  {
   "cell_type": "markdown",
   "metadata": {},
   "source": [
    "Muestra de los primeros datos:"
   ]
  },
  {
   "cell_type": "code",
   "execution_count": 39,
   "metadata": {
    "vscode": {
     "languageId": "r"
    }
   },
   "outputs": [
    {
     "data": {
      "text/html": [
       "<table class=\"dataframe\">\n",
       "<caption>A data.frame: 5 × 48</caption>\n",
       "<thead>\n",
       "\t<tr><th scope=col>Hospital</th><th scope=col>Especialidad</th><th scope=col>total_pacientes</th><th scope=col>media_tiempo_dias</th><th scope=col>ano</th><th scope=col>semana</th><th scope=col>CODCNH</th><th scope=col>id_area</th><th scope=col>nombre_area</th><th scope=col>cmunicipio</th><th scope=col>⋯</th><th scope=col>t7_1</th><th scope=col>t8_1</th><th scope=col>t9_1</th><th scope=col>t10_1</th><th scope=col>t11_1</th><th scope=col>t12_1</th><th scope=col>capacidad</th><th scope=col>pacientes</th><th scope=col>consultas</th><th scope=col>hospitalizaciones</th></tr>\n",
       "\t<tr><th scope=col>&lt;chr&gt;</th><th scope=col>&lt;chr&gt;</th><th scope=col>&lt;int&gt;</th><th scope=col>&lt;dbl&gt;</th><th scope=col>&lt;int&gt;</th><th scope=col>&lt;int&gt;</th><th scope=col>&lt;int&gt;</th><th scope=col>&lt;int&gt;</th><th scope=col>&lt;chr&gt;</th><th scope=col>&lt;int&gt;</th><th scope=col>⋯</th><th scope=col>&lt;dbl&gt;</th><th scope=col>&lt;dbl&gt;</th><th scope=col>&lt;dbl&gt;</th><th scope=col>&lt;dbl&gt;</th><th scope=col>&lt;dbl&gt;</th><th scope=col>&lt;dbl&gt;</th><th scope=col>&lt;int&gt;</th><th scope=col>&lt;int&gt;</th><th scope=col>&lt;int&gt;</th><th scope=col>&lt;int&gt;</th></tr>\n",
       "</thead>\n",
       "<tbody>\n",
       "\t<tr><td>HOSPITAL CENTRAL DE LA CRUZ ROJA SAN JOSE Y SANTA ADELA</td><td>Angiología y Cirugía Vascular</td><td>439</td><td>56.29</td><td>2022</td><td>44</td><td>280148</td><td>5</td><td>Norte</td><td>280796</td><td>⋯</td><td>0.06406634</td><td>0.05318346</td><td>0.4872258</td><td>0.1032815</td><td>0.5420084</td><td>0.6035461</td><td>14</td><td>1392</td><td>717</td><td> 8</td></tr>\n",
       "\t<tr><td>HOSPITAL CENTRAL DE LA CRUZ ROJA SAN JOSE Y SANTA ADELA</td><td>Angiología y Cirugía Vascular</td><td>437</td><td>55.13</td><td>2022</td><td>43</td><td>280148</td><td>5</td><td>Norte</td><td>280796</td><td>⋯</td><td>0.06406634</td><td>0.05318346</td><td>0.4872258</td><td>0.1032815</td><td>0.5420084</td><td>0.6035461</td><td>14</td><td>1465</td><td>703</td><td> 3</td></tr>\n",
       "\t<tr><td>HOSPITAL CENTRAL DE LA CRUZ ROJA SAN JOSE Y SANTA ADELA</td><td>Angiología y Cirugía Vascular</td><td>429</td><td>53.99</td><td>2022</td><td>42</td><td>280148</td><td>5</td><td>Norte</td><td>280796</td><td>⋯</td><td>0.06406634</td><td>0.05318346</td><td>0.4872258</td><td>0.1032815</td><td>0.5420084</td><td>0.6035461</td><td>14</td><td>1373</td><td>684</td><td>12</td></tr>\n",
       "\t<tr><td>HOSPITAL CENTRAL DE LA CRUZ ROJA SAN JOSE Y SANTA ADELA</td><td>Angiología y Cirugía Vascular</td><td>419</td><td>56.29</td><td>2022</td><td>41</td><td>280148</td><td>5</td><td>Norte</td><td>280796</td><td>⋯</td><td>0.06406634</td><td>0.05318346</td><td>0.4872258</td><td>0.1032815</td><td>0.5420084</td><td>0.6035461</td><td>14</td><td>1593</td><td>686</td><td> 3</td></tr>\n",
       "\t<tr><td>HOSPITAL CENTRAL DE LA CRUZ ROJA SAN JOSE Y SANTA ADELA</td><td>Angiología y Cirugía Vascular</td><td>418</td><td>55.82</td><td>2022</td><td>40</td><td>280148</td><td>5</td><td>Norte</td><td>280796</td><td>⋯</td><td>0.06406634</td><td>0.05318346</td><td>0.4872258</td><td>0.1032815</td><td>0.5420084</td><td>0.6035461</td><td>14</td><td>1478</td><td>682</td><td>17</td></tr>\n",
       "</tbody>\n",
       "</table>\n"
      ],
      "text/latex": [
       "A data.frame: 5 × 48\n",
       "\\begin{tabular}{lllllllllllllllllllll}\n",
       " Hospital & Especialidad & total\\_pacientes & media\\_tiempo\\_dias & ano & semana & CODCNH & id\\_area & nombre\\_area & cmunicipio & ⋯ & t7\\_1 & t8\\_1 & t9\\_1 & t10\\_1 & t11\\_1 & t12\\_1 & capacidad & pacientes & consultas & hospitalizaciones\\\\\n",
       " <chr> & <chr> & <int> & <dbl> & <int> & <int> & <int> & <int> & <chr> & <int> & ⋯ & <dbl> & <dbl> & <dbl> & <dbl> & <dbl> & <dbl> & <int> & <int> & <int> & <int>\\\\\n",
       "\\hline\n",
       "\t HOSPITAL CENTRAL DE LA CRUZ ROJA SAN JOSE Y SANTA ADELA & Angiología y Cirugía Vascular & 439 & 56.29 & 2022 & 44 & 280148 & 5 & Norte & 280796 & ⋯ & 0.06406634 & 0.05318346 & 0.4872258 & 0.1032815 & 0.5420084 & 0.6035461 & 14 & 1392 & 717 &  8\\\\\n",
       "\t HOSPITAL CENTRAL DE LA CRUZ ROJA SAN JOSE Y SANTA ADELA & Angiología y Cirugía Vascular & 437 & 55.13 & 2022 & 43 & 280148 & 5 & Norte & 280796 & ⋯ & 0.06406634 & 0.05318346 & 0.4872258 & 0.1032815 & 0.5420084 & 0.6035461 & 14 & 1465 & 703 &  3\\\\\n",
       "\t HOSPITAL CENTRAL DE LA CRUZ ROJA SAN JOSE Y SANTA ADELA & Angiología y Cirugía Vascular & 429 & 53.99 & 2022 & 42 & 280148 & 5 & Norte & 280796 & ⋯ & 0.06406634 & 0.05318346 & 0.4872258 & 0.1032815 & 0.5420084 & 0.6035461 & 14 & 1373 & 684 & 12\\\\\n",
       "\t HOSPITAL CENTRAL DE LA CRUZ ROJA SAN JOSE Y SANTA ADELA & Angiología y Cirugía Vascular & 419 & 56.29 & 2022 & 41 & 280148 & 5 & Norte & 280796 & ⋯ & 0.06406634 & 0.05318346 & 0.4872258 & 0.1032815 & 0.5420084 & 0.6035461 & 14 & 1593 & 686 &  3\\\\\n",
       "\t HOSPITAL CENTRAL DE LA CRUZ ROJA SAN JOSE Y SANTA ADELA & Angiología y Cirugía Vascular & 418 & 55.82 & 2022 & 40 & 280148 & 5 & Norte & 280796 & ⋯ & 0.06406634 & 0.05318346 & 0.4872258 & 0.1032815 & 0.5420084 & 0.6035461 & 14 & 1478 & 682 & 17\\\\\n",
       "\\end{tabular}\n"
      ],
      "text/markdown": [
       "\n",
       "A data.frame: 5 × 48\n",
       "\n",
       "| Hospital &lt;chr&gt; | Especialidad &lt;chr&gt; | total_pacientes &lt;int&gt; | media_tiempo_dias &lt;dbl&gt; | ano &lt;int&gt; | semana &lt;int&gt; | CODCNH &lt;int&gt; | id_area &lt;int&gt; | nombre_area &lt;chr&gt; | cmunicipio &lt;int&gt; | ⋯ ⋯ | t7_1 &lt;dbl&gt; | t8_1 &lt;dbl&gt; | t9_1 &lt;dbl&gt; | t10_1 &lt;dbl&gt; | t11_1 &lt;dbl&gt; | t12_1 &lt;dbl&gt; | capacidad &lt;int&gt; | pacientes &lt;int&gt; | consultas &lt;int&gt; | hospitalizaciones &lt;int&gt; |\n",
       "|---|---|---|---|---|---|---|---|---|---|---|---|---|---|---|---|---|---|---|---|---|\n",
       "| HOSPITAL CENTRAL DE LA CRUZ ROJA SAN JOSE Y SANTA ADELA | Angiología y Cirugía Vascular | 439 | 56.29 | 2022 | 44 | 280148 | 5 | Norte | 280796 | ⋯ | 0.06406634 | 0.05318346 | 0.4872258 | 0.1032815 | 0.5420084 | 0.6035461 | 14 | 1392 | 717 |  8 |\n",
       "| HOSPITAL CENTRAL DE LA CRUZ ROJA SAN JOSE Y SANTA ADELA | Angiología y Cirugía Vascular | 437 | 55.13 | 2022 | 43 | 280148 | 5 | Norte | 280796 | ⋯ | 0.06406634 | 0.05318346 | 0.4872258 | 0.1032815 | 0.5420084 | 0.6035461 | 14 | 1465 | 703 |  3 |\n",
       "| HOSPITAL CENTRAL DE LA CRUZ ROJA SAN JOSE Y SANTA ADELA | Angiología y Cirugía Vascular | 429 | 53.99 | 2022 | 42 | 280148 | 5 | Norte | 280796 | ⋯ | 0.06406634 | 0.05318346 | 0.4872258 | 0.1032815 | 0.5420084 | 0.6035461 | 14 | 1373 | 684 | 12 |\n",
       "| HOSPITAL CENTRAL DE LA CRUZ ROJA SAN JOSE Y SANTA ADELA | Angiología y Cirugía Vascular | 419 | 56.29 | 2022 | 41 | 280148 | 5 | Norte | 280796 | ⋯ | 0.06406634 | 0.05318346 | 0.4872258 | 0.1032815 | 0.5420084 | 0.6035461 | 14 | 1593 | 686 |  3 |\n",
       "| HOSPITAL CENTRAL DE LA CRUZ ROJA SAN JOSE Y SANTA ADELA | Angiología y Cirugía Vascular | 418 | 55.82 | 2022 | 40 | 280148 | 5 | Norte | 280796 | ⋯ | 0.06406634 | 0.05318346 | 0.4872258 | 0.1032815 | 0.5420084 | 0.6035461 | 14 | 1478 | 682 | 17 |\n",
       "\n"
      ],
      "text/plain": [
       "  Hospital                                               \n",
       "1 HOSPITAL CENTRAL DE LA CRUZ ROJA SAN JOSE Y SANTA ADELA\n",
       "2 HOSPITAL CENTRAL DE LA CRUZ ROJA SAN JOSE Y SANTA ADELA\n",
       "3 HOSPITAL CENTRAL DE LA CRUZ ROJA SAN JOSE Y SANTA ADELA\n",
       "4 HOSPITAL CENTRAL DE LA CRUZ ROJA SAN JOSE Y SANTA ADELA\n",
       "5 HOSPITAL CENTRAL DE LA CRUZ ROJA SAN JOSE Y SANTA ADELA\n",
       "  Especialidad                  total_pacientes media_tiempo_dias ano  semana\n",
       "1 Angiología y Cirugía Vascular 439             56.29             2022 44    \n",
       "2 Angiología y Cirugía Vascular 437             55.13             2022 43    \n",
       "3 Angiología y Cirugía Vascular 429             53.99             2022 42    \n",
       "4 Angiología y Cirugía Vascular 419             56.29             2022 41    \n",
       "5 Angiología y Cirugía Vascular 418             55.82             2022 40    \n",
       "  CODCNH id_area nombre_area cmunicipio ⋯ t7_1       t8_1       t9_1     \n",
       "1 280148 5       Norte       280796     ⋯ 0.06406634 0.05318346 0.4872258\n",
       "2 280148 5       Norte       280796     ⋯ 0.06406634 0.05318346 0.4872258\n",
       "3 280148 5       Norte       280796     ⋯ 0.06406634 0.05318346 0.4872258\n",
       "4 280148 5       Norte       280796     ⋯ 0.06406634 0.05318346 0.4872258\n",
       "5 280148 5       Norte       280796     ⋯ 0.06406634 0.05318346 0.4872258\n",
       "  t10_1     t11_1     t12_1     capacidad pacientes consultas hospitalizaciones\n",
       "1 0.1032815 0.5420084 0.6035461 14        1392      717        8               \n",
       "2 0.1032815 0.5420084 0.6035461 14        1465      703        3               \n",
       "3 0.1032815 0.5420084 0.6035461 14        1373      684       12               \n",
       "4 0.1032815 0.5420084 0.6035461 14        1593      686        3               \n",
       "5 0.1032815 0.5420084 0.6035461 14        1478      682       17               "
      ]
     },
     "metadata": {},
     "output_type": "display_data"
    }
   ],
   "source": [
    "data |> slice_head(n = 5)"
   ]
  },
  {
   "cell_type": "markdown",
   "metadata": {},
   "source": [
    "<font color=' #2874a6 '><b>Remarks</b></font>"
   ]
  },
  {
   "attachments": {},
   "cell_type": "markdown",
   "metadata": {},
   "source": [
    "- Se ha comprobado que el separador es \",\" ya que es la opción por defecto de `read.csv()`"
   ]
  },
  {
   "cell_type": "markdown",
   "metadata": {
    "slideshow": {
     "slide_type": "slide"
    }
   },
   "source": [
    "#### Verify decimal point in numeric data is “.”"
   ]
  },
  {
   "cell_type": "markdown",
   "metadata": {},
   "source": [
    "<font color=' #2874a6 '><b>Remarks</b></font>"
   ]
  },
  {
   "attachments": {},
   "cell_type": "markdown",
   "metadata": {},
   "source": [
    "- Se ha comprobado que el símbolo decimal es \".\" ya que es la opción por defecto de `read.csv()`"
   ]
  },
  {
   "cell_type": "markdown",
   "metadata": {
    "slideshow": {
     "slide_type": "slide"
    }
   },
   "source": [
    "### Feature Names\n"
   ]
  },
  {
   "cell_type": "markdown",
   "metadata": {
    "slideshow": {
     "slide_type": "slide"
    }
   },
   "source": [
    "#### Verify names are Simple, Usable and Recognizable "
   ]
  },
  {
   "cell_type": "markdown",
   "metadata": {},
   "source": [
    "<font color=' #2874a6 '><b>Remarks</b></font>"
   ]
  },
  {
   "attachments": {},
   "cell_type": "markdown",
   "metadata": {},
   "source": [
    "- Se ha comprobado que los nombres de columnas son simples, usables y reconocibles\n"
   ]
  },
  {
   "cell_type": "markdown",
   "metadata": {},
   "source": [
    "<font color=' #2874a6 '><b>CODE</b></font>"
   ]
  },
  {
   "cell_type": "markdown",
   "metadata": {},
   "source": [
    "<font color='tomato'>Visualizo el nombre de las columnas (características)</font>"
   ]
  },
  {
   "cell_type": "code",
   "execution_count": 40,
   "metadata": {
    "ExecuteTime": {
     "end_time": "2021-01-27T11:01:34.878544Z",
     "start_time": "2021-01-27T11:01:34.740511Z"
    },
    "slideshow": {
     "slide_type": "subslide"
    },
    "vscode": {
     "languageId": "r"
    }
   },
   "outputs": [
    {
     "data": {
      "text/html": [
       "<style>\n",
       ".list-inline {list-style: none; margin:0; padding: 0}\n",
       ".list-inline>li {display: inline-block}\n",
       ".list-inline>li:not(:last-child)::after {content: \"\\00b7\"; padding: 0 .5ex}\n",
       "</style>\n",
       "<ol class=list-inline><li>'Hospital'</li><li>'Especialidad'</li><li>'total_pacientes'</li><li>'media_tiempo_dias'</li><li>'ano'</li><li>'semana'</li><li>'CODCNH'</li><li>'id_area'</li><li>'nombre_area'</li><li>'cmunicipio'</li><li>'Municipio'</li><li>'CAMAS'</li><li>'Clase'</li><li>'Dependencia'</li><li>'TAC'</li><li>'RM'</li><li>'GAM'</li><li>'HEM'</li><li>'ASD'</li><li>'LIT'</li><li>'BCO'</li><li>'ALI'</li><li>'SPECT'</li><li>'PET'</li><li>'MAMOS'</li><li>'DO'</li><li>'DIAL'</li><li>'X'</li><li>'Y'</li><li>'t3_1'</li><li>'t1_1'</li><li>'t2_1'</li><li>'t2_2'</li><li>'t4_1'</li><li>'t4_2'</li><li>'t4_3'</li><li>'t5_1'</li><li>'t6_1'</li><li>'t7_1'</li><li>'t8_1'</li><li>'t9_1'</li><li>'t10_1'</li><li>'t11_1'</li><li>'t12_1'</li><li>'capacidad'</li><li>'pacientes'</li><li>'consultas'</li><li>'hospitalizaciones'</li></ol>\n"
      ],
      "text/latex": [
       "\\begin{enumerate*}\n",
       "\\item 'Hospital'\n",
       "\\item 'Especialidad'\n",
       "\\item 'total\\_pacientes'\n",
       "\\item 'media\\_tiempo\\_dias'\n",
       "\\item 'ano'\n",
       "\\item 'semana'\n",
       "\\item 'CODCNH'\n",
       "\\item 'id\\_area'\n",
       "\\item 'nombre\\_area'\n",
       "\\item 'cmunicipio'\n",
       "\\item 'Municipio'\n",
       "\\item 'CAMAS'\n",
       "\\item 'Clase'\n",
       "\\item 'Dependencia'\n",
       "\\item 'TAC'\n",
       "\\item 'RM'\n",
       "\\item 'GAM'\n",
       "\\item 'HEM'\n",
       "\\item 'ASD'\n",
       "\\item 'LIT'\n",
       "\\item 'BCO'\n",
       "\\item 'ALI'\n",
       "\\item 'SPECT'\n",
       "\\item 'PET'\n",
       "\\item 'MAMOS'\n",
       "\\item 'DO'\n",
       "\\item 'DIAL'\n",
       "\\item 'X'\n",
       "\\item 'Y'\n",
       "\\item 't3\\_1'\n",
       "\\item 't1\\_1'\n",
       "\\item 't2\\_1'\n",
       "\\item 't2\\_2'\n",
       "\\item 't4\\_1'\n",
       "\\item 't4\\_2'\n",
       "\\item 't4\\_3'\n",
       "\\item 't5\\_1'\n",
       "\\item 't6\\_1'\n",
       "\\item 't7\\_1'\n",
       "\\item 't8\\_1'\n",
       "\\item 't9\\_1'\n",
       "\\item 't10\\_1'\n",
       "\\item 't11\\_1'\n",
       "\\item 't12\\_1'\n",
       "\\item 'capacidad'\n",
       "\\item 'pacientes'\n",
       "\\item 'consultas'\n",
       "\\item 'hospitalizaciones'\n",
       "\\end{enumerate*}\n"
      ],
      "text/markdown": [
       "1. 'Hospital'\n",
       "2. 'Especialidad'\n",
       "3. 'total_pacientes'\n",
       "4. 'media_tiempo_dias'\n",
       "5. 'ano'\n",
       "6. 'semana'\n",
       "7. 'CODCNH'\n",
       "8. 'id_area'\n",
       "9. 'nombre_area'\n",
       "10. 'cmunicipio'\n",
       "11. 'Municipio'\n",
       "12. 'CAMAS'\n",
       "13. 'Clase'\n",
       "14. 'Dependencia'\n",
       "15. 'TAC'\n",
       "16. 'RM'\n",
       "17. 'GAM'\n",
       "18. 'HEM'\n",
       "19. 'ASD'\n",
       "20. 'LIT'\n",
       "21. 'BCO'\n",
       "22. 'ALI'\n",
       "23. 'SPECT'\n",
       "24. 'PET'\n",
       "25. 'MAMOS'\n",
       "26. 'DO'\n",
       "27. 'DIAL'\n",
       "28. 'X'\n",
       "29. 'Y'\n",
       "30. 't3_1'\n",
       "31. 't1_1'\n",
       "32. 't2_1'\n",
       "33. 't2_2'\n",
       "34. 't4_1'\n",
       "35. 't4_2'\n",
       "36. 't4_3'\n",
       "37. 't5_1'\n",
       "38. 't6_1'\n",
       "39. 't7_1'\n",
       "40. 't8_1'\n",
       "41. 't9_1'\n",
       "42. 't10_1'\n",
       "43. 't11_1'\n",
       "44. 't12_1'\n",
       "45. 'capacidad'\n",
       "46. 'pacientes'\n",
       "47. 'consultas'\n",
       "48. 'hospitalizaciones'\n",
       "\n",
       "\n"
      ],
      "text/plain": [
       " [1] \"Hospital\"          \"Especialidad\"      \"total_pacientes\"  \n",
       " [4] \"media_tiempo_dias\" \"ano\"               \"semana\"           \n",
       " [7] \"CODCNH\"            \"id_area\"           \"nombre_area\"      \n",
       "[10] \"cmunicipio\"        \"Municipio\"         \"CAMAS\"            \n",
       "[13] \"Clase\"             \"Dependencia\"       \"TAC\"              \n",
       "[16] \"RM\"                \"GAM\"               \"HEM\"              \n",
       "[19] \"ASD\"               \"LIT\"               \"BCO\"              \n",
       "[22] \"ALI\"               \"SPECT\"             \"PET\"              \n",
       "[25] \"MAMOS\"             \"DO\"                \"DIAL\"             \n",
       "[28] \"X\"                 \"Y\"                 \"t3_1\"             \n",
       "[31] \"t1_1\"              \"t2_1\"              \"t2_2\"             \n",
       "[34] \"t4_1\"              \"t4_2\"              \"t4_3\"             \n",
       "[37] \"t5_1\"              \"t6_1\"              \"t7_1\"             \n",
       "[40] \"t8_1\"              \"t9_1\"              \"t10_1\"            \n",
       "[43] \"t11_1\"             \"t12_1\"             \"capacidad\"        \n",
       "[46] \"pacientes\"         \"consultas\"         \"hospitalizaciones\""
      ]
     },
     "metadata": {},
     "output_type": "display_data"
    }
   ],
   "source": [
    "colnames(data)"
   ]
  },
  {
   "cell_type": "markdown",
   "metadata": {
    "slideshow": {
     "slide_type": "slide"
    }
   },
   "source": [
    "#### Rename Target column name=”Target” and always will be the last column "
   ]
  },
  {
   "cell_type": "markdown",
   "metadata": {},
   "source": [
    "<font color=' #2874a6 '><b>Remarks</b></font>"
   ]
  },
  {
   "attachments": {},
   "cell_type": "markdown",
   "metadata": {},
   "source": [
    "- La columna a predecir o estimar sería media_tiempo_dias\n"
   ]
  },
  {
   "cell_type": "markdown",
   "metadata": {},
   "source": [
    "<font color=' #2874a6 '><b>CODE</b></font>"
   ]
  },
  {
   "cell_type": "code",
   "execution_count": 41,
   "metadata": {
    "ExecuteTime": {
     "end_time": "2021-01-27T11:01:34.878544Z",
     "start_time": "2021-01-27T11:01:34.740511Z"
    },
    "slideshow": {
     "slide_type": "subslide"
    },
    "vscode": {
     "languageId": "r"
    }
   },
   "outputs": [],
   "source": [
    "data <- data[, c(names(data)[names(data) != \"media_tiempo_dias\"], \"media_tiempo_dias\")]\n",
    "names(data)[names(data) == \"media_tiempo_dias\"] <- \"Target\""
   ]
  },
  {
   "cell_type": "markdown",
   "metadata": {
    "slideshow": {
     "slide_type": "slide"
    }
   },
   "source": [
    "#### Verify column names are the first row of csv file "
   ]
  },
  {
   "cell_type": "markdown",
   "metadata": {},
   "source": [
    "<font color=' #2874a6 '><b>Remarks</b></font>"
   ]
  },
  {
   "attachments": {},
   "cell_type": "markdown",
   "metadata": {},
   "source": [
    "- Se ha comprobado que la primera fila del archivo son los nombres de columna, ya que es la opción por defecto de `read.csv()`"
   ]
  },
  {
   "cell_type": "markdown",
   "metadata": {
    "slideshow": {
     "slide_type": "slide"
    }
   },
   "source": [
    "#### Remove spaces and others characters in the column names "
   ]
  },
  {
   "cell_type": "markdown",
   "metadata": {},
   "source": [
    "<font color=' #2874a6 '><b>Remarks</b></font>"
   ]
  },
  {
   "attachments": {},
   "cell_type": "markdown",
   "metadata": {},
   "source": [
    "- Se ha comprobado que los nombres de columna solo tienen caracteres ascii y no tienen espacios"
   ]
  },
  {
   "cell_type": "markdown",
   "metadata": {},
   "source": [
    "<font color=' #2874a6 '><b>CODE</b></font>"
   ]
  },
  {
   "cell_type": "markdown",
   "metadata": {},
   "source": [
    "<font color='tomato'>Visualizo el nombre de las columnas (características)</font>"
   ]
  },
  {
   "cell_type": "code",
   "execution_count": 42,
   "metadata": {
    "ExecuteTime": {
     "end_time": "2021-01-27T11:01:34.878544Z",
     "start_time": "2021-01-27T11:01:34.740511Z"
    },
    "slideshow": {
     "slide_type": "subslide"
    },
    "vscode": {
     "languageId": "r"
    }
   },
   "outputs": [
    {
     "data": {
      "text/html": [
       "<style>\n",
       ".list-inline {list-style: none; margin:0; padding: 0}\n",
       ".list-inline>li {display: inline-block}\n",
       ".list-inline>li:not(:last-child)::after {content: \"\\00b7\"; padding: 0 .5ex}\n",
       "</style>\n",
       "<ol class=list-inline><li>'Hospital'</li><li>'Especialidad'</li><li>'total_pacientes'</li><li>'ano'</li><li>'semana'</li><li>'CODCNH'</li><li>'id_area'</li><li>'nombre_area'</li><li>'cmunicipio'</li><li>'Municipio'</li><li>'CAMAS'</li><li>'Clase'</li><li>'Dependencia'</li><li>'TAC'</li><li>'RM'</li><li>'GAM'</li><li>'HEM'</li><li>'ASD'</li><li>'LIT'</li><li>'BCO'</li><li>'ALI'</li><li>'SPECT'</li><li>'PET'</li><li>'MAMOS'</li><li>'DO'</li><li>'DIAL'</li><li>'X'</li><li>'Y'</li><li>'t3_1'</li><li>'t1_1'</li><li>'t2_1'</li><li>'t2_2'</li><li>'t4_1'</li><li>'t4_2'</li><li>'t4_3'</li><li>'t5_1'</li><li>'t6_1'</li><li>'t7_1'</li><li>'t8_1'</li><li>'t9_1'</li><li>'t10_1'</li><li>'t11_1'</li><li>'t12_1'</li><li>'capacidad'</li><li>'pacientes'</li><li>'consultas'</li><li>'hospitalizaciones'</li><li>'Target'</li></ol>\n"
      ],
      "text/latex": [
       "\\begin{enumerate*}\n",
       "\\item 'Hospital'\n",
       "\\item 'Especialidad'\n",
       "\\item 'total\\_pacientes'\n",
       "\\item 'ano'\n",
       "\\item 'semana'\n",
       "\\item 'CODCNH'\n",
       "\\item 'id\\_area'\n",
       "\\item 'nombre\\_area'\n",
       "\\item 'cmunicipio'\n",
       "\\item 'Municipio'\n",
       "\\item 'CAMAS'\n",
       "\\item 'Clase'\n",
       "\\item 'Dependencia'\n",
       "\\item 'TAC'\n",
       "\\item 'RM'\n",
       "\\item 'GAM'\n",
       "\\item 'HEM'\n",
       "\\item 'ASD'\n",
       "\\item 'LIT'\n",
       "\\item 'BCO'\n",
       "\\item 'ALI'\n",
       "\\item 'SPECT'\n",
       "\\item 'PET'\n",
       "\\item 'MAMOS'\n",
       "\\item 'DO'\n",
       "\\item 'DIAL'\n",
       "\\item 'X'\n",
       "\\item 'Y'\n",
       "\\item 't3\\_1'\n",
       "\\item 't1\\_1'\n",
       "\\item 't2\\_1'\n",
       "\\item 't2\\_2'\n",
       "\\item 't4\\_1'\n",
       "\\item 't4\\_2'\n",
       "\\item 't4\\_3'\n",
       "\\item 't5\\_1'\n",
       "\\item 't6\\_1'\n",
       "\\item 't7\\_1'\n",
       "\\item 't8\\_1'\n",
       "\\item 't9\\_1'\n",
       "\\item 't10\\_1'\n",
       "\\item 't11\\_1'\n",
       "\\item 't12\\_1'\n",
       "\\item 'capacidad'\n",
       "\\item 'pacientes'\n",
       "\\item 'consultas'\n",
       "\\item 'hospitalizaciones'\n",
       "\\item 'Target'\n",
       "\\end{enumerate*}\n"
      ],
      "text/markdown": [
       "1. 'Hospital'\n",
       "2. 'Especialidad'\n",
       "3. 'total_pacientes'\n",
       "4. 'ano'\n",
       "5. 'semana'\n",
       "6. 'CODCNH'\n",
       "7. 'id_area'\n",
       "8. 'nombre_area'\n",
       "9. 'cmunicipio'\n",
       "10. 'Municipio'\n",
       "11. 'CAMAS'\n",
       "12. 'Clase'\n",
       "13. 'Dependencia'\n",
       "14. 'TAC'\n",
       "15. 'RM'\n",
       "16. 'GAM'\n",
       "17. 'HEM'\n",
       "18. 'ASD'\n",
       "19. 'LIT'\n",
       "20. 'BCO'\n",
       "21. 'ALI'\n",
       "22. 'SPECT'\n",
       "23. 'PET'\n",
       "24. 'MAMOS'\n",
       "25. 'DO'\n",
       "26. 'DIAL'\n",
       "27. 'X'\n",
       "28. 'Y'\n",
       "29. 't3_1'\n",
       "30. 't1_1'\n",
       "31. 't2_1'\n",
       "32. 't2_2'\n",
       "33. 't4_1'\n",
       "34. 't4_2'\n",
       "35. 't4_3'\n",
       "36. 't5_1'\n",
       "37. 't6_1'\n",
       "38. 't7_1'\n",
       "39. 't8_1'\n",
       "40. 't9_1'\n",
       "41. 't10_1'\n",
       "42. 't11_1'\n",
       "43. 't12_1'\n",
       "44. 'capacidad'\n",
       "45. 'pacientes'\n",
       "46. 'consultas'\n",
       "47. 'hospitalizaciones'\n",
       "48. 'Target'\n",
       "\n",
       "\n"
      ],
      "text/plain": [
       " [1] \"Hospital\"          \"Especialidad\"      \"total_pacientes\"  \n",
       " [4] \"ano\"               \"semana\"            \"CODCNH\"           \n",
       " [7] \"id_area\"           \"nombre_area\"       \"cmunicipio\"       \n",
       "[10] \"Municipio\"         \"CAMAS\"             \"Clase\"            \n",
       "[13] \"Dependencia\"       \"TAC\"               \"RM\"               \n",
       "[16] \"GAM\"               \"HEM\"               \"ASD\"              \n",
       "[19] \"LIT\"               \"BCO\"               \"ALI\"              \n",
       "[22] \"SPECT\"             \"PET\"               \"MAMOS\"            \n",
       "[25] \"DO\"                \"DIAL\"              \"X\"                \n",
       "[28] \"Y\"                 \"t3_1\"              \"t1_1\"             \n",
       "[31] \"t2_1\"              \"t2_2\"              \"t4_1\"             \n",
       "[34] \"t4_2\"              \"t4_3\"              \"t5_1\"             \n",
       "[37] \"t6_1\"              \"t7_1\"              \"t8_1\"             \n",
       "[40] \"t9_1\"              \"t10_1\"             \"t11_1\"            \n",
       "[43] \"t12_1\"             \"capacidad\"         \"pacientes\"        \n",
       "[46] \"consultas\"         \"hospitalizaciones\" \"Target\"           "
      ]
     },
     "metadata": {},
     "output_type": "display_data"
    }
   ],
   "source": [
    "# Columns names\n",
    "colnames(data)"
   ]
  },
  {
   "attachments": {},
   "cell_type": "markdown",
   "metadata": {},
   "source": [
    "<font color='tomato'>Cambio espacio por '_' en nombres</font> (si procede)"
   ]
  },
  {
   "cell_type": "code",
   "execution_count": 43,
   "metadata": {
    "ExecuteTime": {
     "end_time": "2020-12-25T17:59:15.833222Z",
     "start_time": "2020-12-25T17:59:15.701702Z"
    },
    "slideshow": {
     "slide_type": "subslide"
    },
    "vscode": {
     "languageId": "r"
    }
   },
   "outputs": [],
   "source": [
    "# colnames(data) <- str_replace_all(colnames(data), \" \", \"_\")"
   ]
  },
  {
   "cell_type": "markdown",
   "metadata": {
    "slideshow": {
     "slide_type": "slide"
    }
   },
   "source": [
    "### Data Types\n"
   ]
  },
  {
   "cell_type": "markdown",
   "metadata": {
    "slideshow": {
     "slide_type": "slide"
    }
   },
   "source": [
    "#### Verify data types "
   ]
  },
  {
   "cell_type": "markdown",
   "metadata": {},
   "source": [
    "<font color=' #2874a6 '><b>Remarks</b></font>"
   ]
  },
  {
   "attachments": {},
   "cell_type": "markdown",
   "metadata": {},
   "source": [
    "- Se ha comprobado el tipo de datos adecuados al importar los datos con `read.csv()`\n"
   ]
  },
  {
   "cell_type": "markdown",
   "metadata": {},
   "source": [
    "<font color=' #2874a6 '><b>CODE</b></font>"
   ]
  },
  {
   "cell_type": "markdown",
   "metadata": {},
   "source": [
    "<font color='tomato'>Visualizo el tipo de las columnas (características)</font>"
   ]
  },
  {
   "cell_type": "code",
   "execution_count": 44,
   "metadata": {
    "ExecuteTime": {
     "end_time": "2021-01-27T11:01:34.878544Z",
     "start_time": "2021-01-27T11:01:34.740511Z"
    },
    "scrolled": false,
    "slideshow": {
     "slide_type": "subslide"
    },
    "vscode": {
     "languageId": "r"
    }
   },
   "outputs": [
    {
     "data": {
      "text/html": [
       "<style>\n",
       ".dl-inline {width: auto; margin:0; padding: 0}\n",
       ".dl-inline>dt, .dl-inline>dd {float: none; width: auto; display: inline-block}\n",
       ".dl-inline>dt::after {content: \":\\0020\"; padding-right: .5ex}\n",
       ".dl-inline>dt:not(:first-of-type) {padding-left: .5ex}\n",
       "</style><dl class=dl-inline><dt>Hospital</dt><dd>'character'</dd><dt>Especialidad</dt><dd>'character'</dd><dt>total_pacientes</dt><dd>'integer'</dd><dt>ano</dt><dd>'integer'</dd><dt>semana</dt><dd>'integer'</dd><dt>CODCNH</dt><dd>'integer'</dd><dt>id_area</dt><dd>'integer'</dd><dt>nombre_area</dt><dd>'character'</dd><dt>cmunicipio</dt><dd>'integer'</dd><dt>Municipio</dt><dd>'character'</dd><dt>CAMAS</dt><dd>'integer'</dd><dt>Clase</dt><dd>'character'</dd><dt>Dependencia</dt><dd>'character'</dd><dt>TAC</dt><dd>'integer'</dd><dt>RM</dt><dd>'integer'</dd><dt>GAM</dt><dd>'integer'</dd><dt>HEM</dt><dd>'integer'</dd><dt>ASD</dt><dd>'integer'</dd><dt>LIT</dt><dd>'integer'</dd><dt>BCO</dt><dd>'integer'</dd><dt>ALI</dt><dd>'integer'</dd><dt>SPECT</dt><dd>'integer'</dd><dt>PET</dt><dd>'integer'</dd><dt>MAMOS</dt><dd>'integer'</dd><dt>DO</dt><dd>'integer'</dd><dt>DIAL</dt><dd>'integer'</dd><dt>X</dt><dd>'numeric'</dd><dt>Y</dt><dd>'numeric'</dd><dt>t3_1</dt><dd>'numeric'</dd><dt>t1_1</dt><dd>'integer'</dd><dt>t2_1</dt><dd>'numeric'</dd><dt>t2_2</dt><dd>'numeric'</dd><dt>t4_1</dt><dd>'numeric'</dd><dt>t4_2</dt><dd>'numeric'</dd><dt>t4_3</dt><dd>'numeric'</dd><dt>t5_1</dt><dd>'numeric'</dd><dt>t6_1</dt><dd>'numeric'</dd><dt>t7_1</dt><dd>'numeric'</dd><dt>t8_1</dt><dd>'numeric'</dd><dt>t9_1</dt><dd>'numeric'</dd><dt>t10_1</dt><dd>'numeric'</dd><dt>t11_1</dt><dd>'numeric'</dd><dt>t12_1</dt><dd>'numeric'</dd><dt>capacidad</dt><dd>'integer'</dd><dt>pacientes</dt><dd>'integer'</dd><dt>consultas</dt><dd>'integer'</dd><dt>hospitalizaciones</dt><dd>'integer'</dd><dt>Target</dt><dd>'numeric'</dd></dl>\n"
      ],
      "text/latex": [
       "\\begin{description*}\n",
       "\\item[Hospital] 'character'\n",
       "\\item[Especialidad] 'character'\n",
       "\\item[total\\textbackslash{}\\_pacientes] 'integer'\n",
       "\\item[ano] 'integer'\n",
       "\\item[semana] 'integer'\n",
       "\\item[CODCNH] 'integer'\n",
       "\\item[id\\textbackslash{}\\_area] 'integer'\n",
       "\\item[nombre\\textbackslash{}\\_area] 'character'\n",
       "\\item[cmunicipio] 'integer'\n",
       "\\item[Municipio] 'character'\n",
       "\\item[CAMAS] 'integer'\n",
       "\\item[Clase] 'character'\n",
       "\\item[Dependencia] 'character'\n",
       "\\item[TAC] 'integer'\n",
       "\\item[RM] 'integer'\n",
       "\\item[GAM] 'integer'\n",
       "\\item[HEM] 'integer'\n",
       "\\item[ASD] 'integer'\n",
       "\\item[LIT] 'integer'\n",
       "\\item[BCO] 'integer'\n",
       "\\item[ALI] 'integer'\n",
       "\\item[SPECT] 'integer'\n",
       "\\item[PET] 'integer'\n",
       "\\item[MAMOS] 'integer'\n",
       "\\item[DO] 'integer'\n",
       "\\item[DIAL] 'integer'\n",
       "\\item[X] 'numeric'\n",
       "\\item[Y] 'numeric'\n",
       "\\item[t3\\textbackslash{}\\_1] 'numeric'\n",
       "\\item[t1\\textbackslash{}\\_1] 'integer'\n",
       "\\item[t2\\textbackslash{}\\_1] 'numeric'\n",
       "\\item[t2\\textbackslash{}\\_2] 'numeric'\n",
       "\\item[t4\\textbackslash{}\\_1] 'numeric'\n",
       "\\item[t4\\textbackslash{}\\_2] 'numeric'\n",
       "\\item[t4\\textbackslash{}\\_3] 'numeric'\n",
       "\\item[t5\\textbackslash{}\\_1] 'numeric'\n",
       "\\item[t6\\textbackslash{}\\_1] 'numeric'\n",
       "\\item[t7\\textbackslash{}\\_1] 'numeric'\n",
       "\\item[t8\\textbackslash{}\\_1] 'numeric'\n",
       "\\item[t9\\textbackslash{}\\_1] 'numeric'\n",
       "\\item[t10\\textbackslash{}\\_1] 'numeric'\n",
       "\\item[t11\\textbackslash{}\\_1] 'numeric'\n",
       "\\item[t12\\textbackslash{}\\_1] 'numeric'\n",
       "\\item[capacidad] 'integer'\n",
       "\\item[pacientes] 'integer'\n",
       "\\item[consultas] 'integer'\n",
       "\\item[hospitalizaciones] 'integer'\n",
       "\\item[Target] 'numeric'\n",
       "\\end{description*}\n"
      ],
      "text/markdown": [
       "Hospital\n",
       ":   'character'Especialidad\n",
       ":   'character'total_pacientes\n",
       ":   'integer'ano\n",
       ":   'integer'semana\n",
       ":   'integer'CODCNH\n",
       ":   'integer'id_area\n",
       ":   'integer'nombre_area\n",
       ":   'character'cmunicipio\n",
       ":   'integer'Municipio\n",
       ":   'character'CAMAS\n",
       ":   'integer'Clase\n",
       ":   'character'Dependencia\n",
       ":   'character'TAC\n",
       ":   'integer'RM\n",
       ":   'integer'GAM\n",
       ":   'integer'HEM\n",
       ":   'integer'ASD\n",
       ":   'integer'LIT\n",
       ":   'integer'BCO\n",
       ":   'integer'ALI\n",
       ":   'integer'SPECT\n",
       ":   'integer'PET\n",
       ":   'integer'MAMOS\n",
       ":   'integer'DO\n",
       ":   'integer'DIAL\n",
       ":   'integer'X\n",
       ":   'numeric'Y\n",
       ":   'numeric't3_1\n",
       ":   'numeric't1_1\n",
       ":   'integer't2_1\n",
       ":   'numeric't2_2\n",
       ":   'numeric't4_1\n",
       ":   'numeric't4_2\n",
       ":   'numeric't4_3\n",
       ":   'numeric't5_1\n",
       ":   'numeric't6_1\n",
       ":   'numeric't7_1\n",
       ":   'numeric't8_1\n",
       ":   'numeric't9_1\n",
       ":   'numeric't10_1\n",
       ":   'numeric't11_1\n",
       ":   'numeric't12_1\n",
       ":   'numeric'capacidad\n",
       ":   'integer'pacientes\n",
       ":   'integer'consultas\n",
       ":   'integer'hospitalizaciones\n",
       ":   'integer'Target\n",
       ":   'numeric'\n",
       "\n"
      ],
      "text/plain": [
       "         Hospital      Especialidad   total_pacientes               ano \n",
       "      \"character\"       \"character\"         \"integer\"         \"integer\" \n",
       "           semana            CODCNH           id_area       nombre_area \n",
       "        \"integer\"         \"integer\"         \"integer\"       \"character\" \n",
       "       cmunicipio         Municipio             CAMAS             Clase \n",
       "        \"integer\"       \"character\"         \"integer\"       \"character\" \n",
       "      Dependencia               TAC                RM               GAM \n",
       "      \"character\"         \"integer\"         \"integer\"         \"integer\" \n",
       "              HEM               ASD               LIT               BCO \n",
       "        \"integer\"         \"integer\"         \"integer\"         \"integer\" \n",
       "              ALI             SPECT               PET             MAMOS \n",
       "        \"integer\"         \"integer\"         \"integer\"         \"integer\" \n",
       "               DO              DIAL                 X                 Y \n",
       "        \"integer\"         \"integer\"         \"numeric\"         \"numeric\" \n",
       "             t3_1              t1_1              t2_1              t2_2 \n",
       "        \"numeric\"         \"integer\"         \"numeric\"         \"numeric\" \n",
       "             t4_1              t4_2              t4_3              t5_1 \n",
       "        \"numeric\"         \"numeric\"         \"numeric\"         \"numeric\" \n",
       "             t6_1              t7_1              t8_1              t9_1 \n",
       "        \"numeric\"         \"numeric\"         \"numeric\"         \"numeric\" \n",
       "            t10_1             t11_1             t12_1         capacidad \n",
       "        \"numeric\"         \"numeric\"         \"numeric\"         \"integer\" \n",
       "        pacientes         consultas hospitalizaciones            Target \n",
       "        \"integer\"         \"integer\"         \"integer\"         \"numeric\" "
      ]
     },
     "metadata": {},
     "output_type": "display_data"
    },
    {
     "name": "stdout",
     "output_type": "stream",
     "text": [
      "Rows: 55,680\n",
      "Columns: 48\n",
      "$ Hospital          \u001b[3m\u001b[90m<chr>\u001b[39m\u001b[23m \"HOSPITAL CENTRAL DE LA CRUZ ROJA SAN JOSE Y SANTA A…\n",
      "$ Especialidad      \u001b[3m\u001b[90m<chr>\u001b[39m\u001b[23m \"Angiología y Cirugía Vascular\", \"Angiología y Cirug…\n",
      "$ total_pacientes   \u001b[3m\u001b[90m<int>\u001b[39m\u001b[23m 439, 437, 429, 419, 418, NA, 408, 399, 396, 393, 378…\n",
      "$ ano               \u001b[3m\u001b[90m<int>\u001b[39m\u001b[23m 2022, 2022, 2022, 2022, 2022, 2022, 2022, 2022, 2022…\n",
      "$ semana            \u001b[3m\u001b[90m<int>\u001b[39m\u001b[23m 44, 43, 42, 41, 40, 39, 38, 37, 36, 35, 34, 33, 32, …\n",
      "$ CODCNH            \u001b[3m\u001b[90m<int>\u001b[39m\u001b[23m 280148, 280148, 280148, 280148, 280148, 280148, 2801…\n",
      "$ id_area           \u001b[3m\u001b[90m<int>\u001b[39m\u001b[23m 5, 5, 5, 5, 5, 5, 5, 5, 5, 5, 5, 5, 5, 5, 5, 5, 5, 5…\n",
      "$ nombre_area       \u001b[3m\u001b[90m<chr>\u001b[39m\u001b[23m \"Norte\", \"Norte\", \"Norte\", \"Norte\", \"Norte\", \"Norte\"…\n",
      "$ cmunicipio        \u001b[3m\u001b[90m<int>\u001b[39m\u001b[23m 280796, 280796, 280796, 280796, 280796, 280796, 2807…\n",
      "$ Municipio         \u001b[3m\u001b[90m<chr>\u001b[39m\u001b[23m \"Madrid\", \"Madrid\", \"Madrid\", \"Madrid\", \"Madrid\", \"M…\n",
      "$ CAMAS             \u001b[3m\u001b[90m<int>\u001b[39m\u001b[23m 156, 156, 156, 156, 156, 156, 156, 156, 156, 156, 15…\n",
      "$ Clase             \u001b[3m\u001b[90m<chr>\u001b[39m\u001b[23m \"Otros Centros con Internamiento\", \"Otros Centros co…\n",
      "$ Dependencia       \u001b[3m\u001b[90m<chr>\u001b[39m\u001b[23m \"SERVICIOS E INSTITUTOS DE SALUD DE LAS COMUNIDADES …\n",
      "$ TAC               \u001b[3m\u001b[90m<int>\u001b[39m\u001b[23m 1, 1, 1, 1, 1, 1, 1, 1, 1, 1, 1, 1, 1, 1, 1, 1, 1, 1…\n",
      "$ RM                \u001b[3m\u001b[90m<int>\u001b[39m\u001b[23m 0, 0, 0, 0, 0, 0, 0, 0, 0, 0, 0, 0, 0, 0, 0, 0, 0, 0…\n",
      "$ GAM               \u001b[3m\u001b[90m<int>\u001b[39m\u001b[23m 1, 1, 1, 1, 1, 1, 1, 1, 1, 1, 1, 1, 1, 1, 1, 1, 1, 1…\n",
      "$ HEM               \u001b[3m\u001b[90m<int>\u001b[39m\u001b[23m 0, 0, 0, 0, 0, 0, 0, 0, 0, 0, 0, 0, 0, 0, 0, 0, 0, 0…\n",
      "$ ASD               \u001b[3m\u001b[90m<int>\u001b[39m\u001b[23m 0, 0, 0, 0, 0, 0, 0, 0, 0, 0, 0, 0, 0, 0, 0, 0, 0, 0…\n",
      "$ LIT               \u001b[3m\u001b[90m<int>\u001b[39m\u001b[23m 0, 0, 0, 0, 0, 0, 0, 0, 0, 0, 0, 0, 0, 0, 0, 0, 0, 0…\n",
      "$ BCO               \u001b[3m\u001b[90m<int>\u001b[39m\u001b[23m 0, 0, 0, 0, 0, 0, 0, 0, 0, 0, 0, 0, 0, 0, 0, 0, 0, 0…\n",
      "$ ALI               \u001b[3m\u001b[90m<int>\u001b[39m\u001b[23m 0, 0, 0, 0, 0, 0, 0, 0, 0, 0, 0, 0, 0, 0, 0, 0, 0, 0…\n",
      "$ SPECT             \u001b[3m\u001b[90m<int>\u001b[39m\u001b[23m 0, 0, 0, 0, 0, 0, 0, 0, 0, 0, 0, 0, 0, 0, 0, 0, 0, 0…\n",
      "$ PET               \u001b[3m\u001b[90m<int>\u001b[39m\u001b[23m 0, 0, 0, 0, 0, 0, 0, 0, 0, 0, 0, 0, 0, 0, 0, 0, 0, 0…\n",
      "$ MAMOS             \u001b[3m\u001b[90m<int>\u001b[39m\u001b[23m 1, 1, 1, 1, 1, 1, 1, 1, 1, 1, 1, 1, 1, 1, 1, 1, 1, 1…\n",
      "$ DO                \u001b[3m\u001b[90m<int>\u001b[39m\u001b[23m 0, 0, 0, 0, 0, 0, 0, 0, 0, 0, 0, 0, 0, 0, 0, 0, 0, 0…\n",
      "$ DIAL              \u001b[3m\u001b[90m<int>\u001b[39m\u001b[23m 0, 0, 0, 0, 0, 0, 0, 0, 0, 0, 0, 0, 0, 0, 0, 0, 0, 0…\n",
      "$ X                 \u001b[3m\u001b[90m<dbl>\u001b[39m\u001b[23m -3.706932, -3.706932, -3.706932, -3.706932, -3.70693…\n",
      "$ Y                 \u001b[3m\u001b[90m<dbl>\u001b[39m\u001b[23m 40.44715, 40.44715, 40.44715, 40.44715, 40.44715, 40…\n",
      "$ t3_1              \u001b[3m\u001b[90m<dbl>\u001b[39m\u001b[23m 41.3884, 41.3884, 41.3884, 41.3884, 41.3884, 41.3884…\n",
      "$ t1_1              \u001b[3m\u001b[90m<int>\u001b[39m\u001b[23m 912485, 912485, 912485, 912485, 912485, 912485, 9124…\n",
      "$ t2_1              \u001b[3m\u001b[90m<dbl>\u001b[39m\u001b[23m 0.5202002, 0.5202002, 0.5202002, 0.5202002, 0.520200…\n",
      "$ t2_2              \u001b[3m\u001b[90m<dbl>\u001b[39m\u001b[23m 0.4791324, 0.4791324, 0.4791324, 0.4791324, 0.479132…\n",
      "$ t4_1              \u001b[3m\u001b[90m<dbl>\u001b[39m\u001b[23m 0.1700457, 0.1700457, 0.1700457, 0.1700457, 0.170045…\n",
      "$ t4_2              \u001b[3m\u001b[90m<dbl>\u001b[39m\u001b[23m 0.6590844, 0.6590844, 0.6590844, 0.6590844, 0.659084…\n",
      "$ t4_3              \u001b[3m\u001b[90m<dbl>\u001b[39m\u001b[23m 0.1702033, 0.1702033, 0.1702033, 0.1702033, 0.170203…\n",
      "$ t5_1              \u001b[3m\u001b[90m<dbl>\u001b[39m\u001b[23m 0.1248427, 0.1248427, 0.1248427, 0.1248427, 0.124842…\n",
      "$ t6_1              \u001b[3m\u001b[90m<dbl>\u001b[39m\u001b[23m 0.1950003, 0.1950003, 0.1950003, 0.1950003, 0.195000…\n",
      "$ t7_1              \u001b[3m\u001b[90m<dbl>\u001b[39m\u001b[23m 0.06406634, 0.06406634, 0.06406634, 0.06406634, 0.06…\n",
      "$ t8_1              \u001b[3m\u001b[90m<dbl>\u001b[39m\u001b[23m 0.05318346, 0.05318346, 0.05318346, 0.05318346, 0.05…\n",
      "$ t9_1              \u001b[3m\u001b[90m<dbl>\u001b[39m\u001b[23m 0.4872258, 0.4872258, 0.4872258, 0.4872258, 0.487225…\n",
      "$ t10_1             \u001b[3m\u001b[90m<dbl>\u001b[39m\u001b[23m 0.1032815, 0.1032815, 0.1032815, 0.1032815, 0.103281…\n",
      "$ t11_1             \u001b[3m\u001b[90m<dbl>\u001b[39m\u001b[23m 0.5420084, 0.5420084, 0.5420084, 0.5420084, 0.542008…\n",
      "$ t12_1             \u001b[3m\u001b[90m<dbl>\u001b[39m\u001b[23m 0.6035461, 0.6035461, 0.6035461, 0.6035461, 0.603546…\n",
      "$ capacidad         \u001b[3m\u001b[90m<int>\u001b[39m\u001b[23m 14, 14, 14, 14, 14, 14, 14, 14, 14, 14, 14, 14, 14, …\n",
      "$ pacientes         \u001b[3m\u001b[90m<int>\u001b[39m\u001b[23m 1392, 1465, 1373, 1593, 1478, 1374, 1493, 1515, 1501…\n",
      "$ consultas         \u001b[3m\u001b[90m<int>\u001b[39m\u001b[23m 717, 703, 684, 686, 682, NA, 656, 657, 646, 641, 625…\n",
      "$ hospitalizaciones \u001b[3m\u001b[90m<int>\u001b[39m\u001b[23m 8, 3, 12, 3, 17, NA, 10, 20, 14, 8, 19, 8, 18, 6, 5,…\n",
      "$ Target            \u001b[3m\u001b[90m<dbl>\u001b[39m\u001b[23m 56.29, 55.13, 53.99, 56.29, 55.82, NA, 57.45, 57.61,…\n"
     ]
    }
   ],
   "source": [
    "sapply(data, class)\n",
    "glimpse(data)"
   ]
  },
  {
   "cell_type": "markdown",
   "metadata": {
    "slideshow": {
     "slide_type": "slide"
    }
   },
   "source": [
    "#### Change data types "
   ]
  },
  {
   "cell_type": "markdown",
   "metadata": {},
   "source": [
    "<font color=' #2874a6 '><b>Remarks</b></font>"
   ]
  },
  {
   "attachments": {},
   "cell_type": "markdown",
   "metadata": {},
   "source": [
    "- No aplica"
   ]
  },
  {
   "cell_type": "markdown",
   "metadata": {},
   "source": [
    "<font color=' #2874a6 '><b>CODE</b></font>"
   ]
  },
  {
   "cell_type": "code",
   "execution_count": 45,
   "metadata": {
    "ExecuteTime": {
     "end_time": "2021-01-27T11:01:34.878544Z",
     "start_time": "2021-01-27T11:01:34.740511Z"
    },
    "scrolled": true,
    "slideshow": {
     "slide_type": "subslide"
    },
    "vscode": {
     "languageId": "r"
    }
   },
   "outputs": [],
   "source": [
    "# Changing column types\n",
    "# data$xx <- as.xx(data$xx)"
   ]
  },
  {
   "cell_type": "markdown",
   "metadata": {
    "slideshow": {
     "slide_type": "slide"
    }
   },
   "source": [
    "#### Verify that object type is changed "
   ]
  },
  {
   "cell_type": "markdown",
   "metadata": {},
   "source": [
    "<font color=' #2874a6 '><b>Remarks</b></font>"
   ]
  },
  {
   "attachments": {},
   "cell_type": "markdown",
   "metadata": {},
   "source": [
    "- No aplica\n"
   ]
  },
  {
   "cell_type": "markdown",
   "metadata": {},
   "source": [
    "<font color=' #2874a6 '><b>CODE</b></font>"
   ]
  },
  {
   "cell_type": "code",
   "execution_count": 46,
   "metadata": {
    "vscode": {
     "languageId": "r"
    }
   },
   "outputs": [
    {
     "data": {
      "text/html": [
       "<style>\n",
       ".dl-inline {width: auto; margin:0; padding: 0}\n",
       ".dl-inline>dt, .dl-inline>dd {float: none; width: auto; display: inline-block}\n",
       ".dl-inline>dt::after {content: \":\\0020\"; padding-right: .5ex}\n",
       ".dl-inline>dt:not(:first-of-type) {padding-left: .5ex}\n",
       "</style><dl class=dl-inline><dt>Hospital</dt><dd>'character'</dd><dt>Especialidad</dt><dd>'character'</dd><dt>total_pacientes</dt><dd>'integer'</dd><dt>ano</dt><dd>'integer'</dd><dt>semana</dt><dd>'integer'</dd><dt>CODCNH</dt><dd>'integer'</dd><dt>id_area</dt><dd>'integer'</dd><dt>nombre_area</dt><dd>'character'</dd><dt>cmunicipio</dt><dd>'integer'</dd><dt>Municipio</dt><dd>'character'</dd><dt>CAMAS</dt><dd>'integer'</dd><dt>Clase</dt><dd>'character'</dd><dt>Dependencia</dt><dd>'character'</dd><dt>TAC</dt><dd>'integer'</dd><dt>RM</dt><dd>'integer'</dd><dt>GAM</dt><dd>'integer'</dd><dt>HEM</dt><dd>'integer'</dd><dt>ASD</dt><dd>'integer'</dd><dt>LIT</dt><dd>'integer'</dd><dt>BCO</dt><dd>'integer'</dd><dt>ALI</dt><dd>'integer'</dd><dt>SPECT</dt><dd>'integer'</dd><dt>PET</dt><dd>'integer'</dd><dt>MAMOS</dt><dd>'integer'</dd><dt>DO</dt><dd>'integer'</dd><dt>DIAL</dt><dd>'integer'</dd><dt>X</dt><dd>'numeric'</dd><dt>Y</dt><dd>'numeric'</dd><dt>t3_1</dt><dd>'numeric'</dd><dt>t1_1</dt><dd>'integer'</dd><dt>t2_1</dt><dd>'numeric'</dd><dt>t2_2</dt><dd>'numeric'</dd><dt>t4_1</dt><dd>'numeric'</dd><dt>t4_2</dt><dd>'numeric'</dd><dt>t4_3</dt><dd>'numeric'</dd><dt>t5_1</dt><dd>'numeric'</dd><dt>t6_1</dt><dd>'numeric'</dd><dt>t7_1</dt><dd>'numeric'</dd><dt>t8_1</dt><dd>'numeric'</dd><dt>t9_1</dt><dd>'numeric'</dd><dt>t10_1</dt><dd>'numeric'</dd><dt>t11_1</dt><dd>'numeric'</dd><dt>t12_1</dt><dd>'numeric'</dd><dt>capacidad</dt><dd>'integer'</dd><dt>pacientes</dt><dd>'integer'</dd><dt>consultas</dt><dd>'integer'</dd><dt>hospitalizaciones</dt><dd>'integer'</dd><dt>Target</dt><dd>'numeric'</dd></dl>\n"
      ],
      "text/latex": [
       "\\begin{description*}\n",
       "\\item[Hospital] 'character'\n",
       "\\item[Especialidad] 'character'\n",
       "\\item[total\\textbackslash{}\\_pacientes] 'integer'\n",
       "\\item[ano] 'integer'\n",
       "\\item[semana] 'integer'\n",
       "\\item[CODCNH] 'integer'\n",
       "\\item[id\\textbackslash{}\\_area] 'integer'\n",
       "\\item[nombre\\textbackslash{}\\_area] 'character'\n",
       "\\item[cmunicipio] 'integer'\n",
       "\\item[Municipio] 'character'\n",
       "\\item[CAMAS] 'integer'\n",
       "\\item[Clase] 'character'\n",
       "\\item[Dependencia] 'character'\n",
       "\\item[TAC] 'integer'\n",
       "\\item[RM] 'integer'\n",
       "\\item[GAM] 'integer'\n",
       "\\item[HEM] 'integer'\n",
       "\\item[ASD] 'integer'\n",
       "\\item[LIT] 'integer'\n",
       "\\item[BCO] 'integer'\n",
       "\\item[ALI] 'integer'\n",
       "\\item[SPECT] 'integer'\n",
       "\\item[PET] 'integer'\n",
       "\\item[MAMOS] 'integer'\n",
       "\\item[DO] 'integer'\n",
       "\\item[DIAL] 'integer'\n",
       "\\item[X] 'numeric'\n",
       "\\item[Y] 'numeric'\n",
       "\\item[t3\\textbackslash{}\\_1] 'numeric'\n",
       "\\item[t1\\textbackslash{}\\_1] 'integer'\n",
       "\\item[t2\\textbackslash{}\\_1] 'numeric'\n",
       "\\item[t2\\textbackslash{}\\_2] 'numeric'\n",
       "\\item[t4\\textbackslash{}\\_1] 'numeric'\n",
       "\\item[t4\\textbackslash{}\\_2] 'numeric'\n",
       "\\item[t4\\textbackslash{}\\_3] 'numeric'\n",
       "\\item[t5\\textbackslash{}\\_1] 'numeric'\n",
       "\\item[t6\\textbackslash{}\\_1] 'numeric'\n",
       "\\item[t7\\textbackslash{}\\_1] 'numeric'\n",
       "\\item[t8\\textbackslash{}\\_1] 'numeric'\n",
       "\\item[t9\\textbackslash{}\\_1] 'numeric'\n",
       "\\item[t10\\textbackslash{}\\_1] 'numeric'\n",
       "\\item[t11\\textbackslash{}\\_1] 'numeric'\n",
       "\\item[t12\\textbackslash{}\\_1] 'numeric'\n",
       "\\item[capacidad] 'integer'\n",
       "\\item[pacientes] 'integer'\n",
       "\\item[consultas] 'integer'\n",
       "\\item[hospitalizaciones] 'integer'\n",
       "\\item[Target] 'numeric'\n",
       "\\end{description*}\n"
      ],
      "text/markdown": [
       "Hospital\n",
       ":   'character'Especialidad\n",
       ":   'character'total_pacientes\n",
       ":   'integer'ano\n",
       ":   'integer'semana\n",
       ":   'integer'CODCNH\n",
       ":   'integer'id_area\n",
       ":   'integer'nombre_area\n",
       ":   'character'cmunicipio\n",
       ":   'integer'Municipio\n",
       ":   'character'CAMAS\n",
       ":   'integer'Clase\n",
       ":   'character'Dependencia\n",
       ":   'character'TAC\n",
       ":   'integer'RM\n",
       ":   'integer'GAM\n",
       ":   'integer'HEM\n",
       ":   'integer'ASD\n",
       ":   'integer'LIT\n",
       ":   'integer'BCO\n",
       ":   'integer'ALI\n",
       ":   'integer'SPECT\n",
       ":   'integer'PET\n",
       ":   'integer'MAMOS\n",
       ":   'integer'DO\n",
       ":   'integer'DIAL\n",
       ":   'integer'X\n",
       ":   'numeric'Y\n",
       ":   'numeric't3_1\n",
       ":   'numeric't1_1\n",
       ":   'integer't2_1\n",
       ":   'numeric't2_2\n",
       ":   'numeric't4_1\n",
       ":   'numeric't4_2\n",
       ":   'numeric't4_3\n",
       ":   'numeric't5_1\n",
       ":   'numeric't6_1\n",
       ":   'numeric't7_1\n",
       ":   'numeric't8_1\n",
       ":   'numeric't9_1\n",
       ":   'numeric't10_1\n",
       ":   'numeric't11_1\n",
       ":   'numeric't12_1\n",
       ":   'numeric'capacidad\n",
       ":   'integer'pacientes\n",
       ":   'integer'consultas\n",
       ":   'integer'hospitalizaciones\n",
       ":   'integer'Target\n",
       ":   'numeric'\n",
       "\n"
      ],
      "text/plain": [
       "         Hospital      Especialidad   total_pacientes               ano \n",
       "      \"character\"       \"character\"         \"integer\"         \"integer\" \n",
       "           semana            CODCNH           id_area       nombre_area \n",
       "        \"integer\"         \"integer\"         \"integer\"       \"character\" \n",
       "       cmunicipio         Municipio             CAMAS             Clase \n",
       "        \"integer\"       \"character\"         \"integer\"       \"character\" \n",
       "      Dependencia               TAC                RM               GAM \n",
       "      \"character\"         \"integer\"         \"integer\"         \"integer\" \n",
       "              HEM               ASD               LIT               BCO \n",
       "        \"integer\"         \"integer\"         \"integer\"         \"integer\" \n",
       "              ALI             SPECT               PET             MAMOS \n",
       "        \"integer\"         \"integer\"         \"integer\"         \"integer\" \n",
       "               DO              DIAL                 X                 Y \n",
       "        \"integer\"         \"integer\"         \"numeric\"         \"numeric\" \n",
       "             t3_1              t1_1              t2_1              t2_2 \n",
       "        \"numeric\"         \"integer\"         \"numeric\"         \"numeric\" \n",
       "             t4_1              t4_2              t4_3              t5_1 \n",
       "        \"numeric\"         \"numeric\"         \"numeric\"         \"numeric\" \n",
       "             t6_1              t7_1              t8_1              t9_1 \n",
       "        \"numeric\"         \"numeric\"         \"numeric\"         \"numeric\" \n",
       "            t10_1             t11_1             t12_1         capacidad \n",
       "        \"numeric\"         \"numeric\"         \"numeric\"         \"integer\" \n",
       "        pacientes         consultas hospitalizaciones            Target \n",
       "        \"integer\"         \"integer\"         \"integer\"         \"numeric\" "
      ]
     },
     "metadata": {},
     "output_type": "display_data"
    },
    {
     "name": "stdout",
     "output_type": "stream",
     "text": [
      "Rows: 55,680\n",
      "Columns: 48\n",
      "$ Hospital          \u001b[3m\u001b[90m<chr>\u001b[39m\u001b[23m \"HOSPITAL CENTRAL DE LA CRUZ ROJA SAN JOSE Y SANTA A…\n",
      "$ Especialidad      \u001b[3m\u001b[90m<chr>\u001b[39m\u001b[23m \"Angiología y Cirugía Vascular\", \"Angiología y Cirug…\n",
      "$ total_pacientes   \u001b[3m\u001b[90m<int>\u001b[39m\u001b[23m 439, 437, 429, 419, 418, NA, 408, 399, 396, 393, 378…\n",
      "$ ano               \u001b[3m\u001b[90m<int>\u001b[39m\u001b[23m 2022, 2022, 2022, 2022, 2022, 2022, 2022, 2022, 2022…\n",
      "$ semana            \u001b[3m\u001b[90m<int>\u001b[39m\u001b[23m 44, 43, 42, 41, 40, 39, 38, 37, 36, 35, 34, 33, 32, …\n",
      "$ CODCNH            \u001b[3m\u001b[90m<int>\u001b[39m\u001b[23m 280148, 280148, 280148, 280148, 280148, 280148, 2801…\n",
      "$ id_area           \u001b[3m\u001b[90m<int>\u001b[39m\u001b[23m 5, 5, 5, 5, 5, 5, 5, 5, 5, 5, 5, 5, 5, 5, 5, 5, 5, 5…\n",
      "$ nombre_area       \u001b[3m\u001b[90m<chr>\u001b[39m\u001b[23m \"Norte\", \"Norte\", \"Norte\", \"Norte\", \"Norte\", \"Norte\"…\n",
      "$ cmunicipio        \u001b[3m\u001b[90m<int>\u001b[39m\u001b[23m 280796, 280796, 280796, 280796, 280796, 280796, 2807…\n",
      "$ Municipio         \u001b[3m\u001b[90m<chr>\u001b[39m\u001b[23m \"Madrid\", \"Madrid\", \"Madrid\", \"Madrid\", \"Madrid\", \"M…\n",
      "$ CAMAS             \u001b[3m\u001b[90m<int>\u001b[39m\u001b[23m 156, 156, 156, 156, 156, 156, 156, 156, 156, 156, 15…\n",
      "$ Clase             \u001b[3m\u001b[90m<chr>\u001b[39m\u001b[23m \"Otros Centros con Internamiento\", \"Otros Centros co…\n",
      "$ Dependencia       \u001b[3m\u001b[90m<chr>\u001b[39m\u001b[23m \"SERVICIOS E INSTITUTOS DE SALUD DE LAS COMUNIDADES …\n",
      "$ TAC               \u001b[3m\u001b[90m<int>\u001b[39m\u001b[23m 1, 1, 1, 1, 1, 1, 1, 1, 1, 1, 1, 1, 1, 1, 1, 1, 1, 1…\n",
      "$ RM                \u001b[3m\u001b[90m<int>\u001b[39m\u001b[23m 0, 0, 0, 0, 0, 0, 0, 0, 0, 0, 0, 0, 0, 0, 0, 0, 0, 0…\n",
      "$ GAM               \u001b[3m\u001b[90m<int>\u001b[39m\u001b[23m 1, 1, 1, 1, 1, 1, 1, 1, 1, 1, 1, 1, 1, 1, 1, 1, 1, 1…\n",
      "$ HEM               \u001b[3m\u001b[90m<int>\u001b[39m\u001b[23m 0, 0, 0, 0, 0, 0, 0, 0, 0, 0, 0, 0, 0, 0, 0, 0, 0, 0…\n",
      "$ ASD               \u001b[3m\u001b[90m<int>\u001b[39m\u001b[23m 0, 0, 0, 0, 0, 0, 0, 0, 0, 0, 0, 0, 0, 0, 0, 0, 0, 0…\n",
      "$ LIT               \u001b[3m\u001b[90m<int>\u001b[39m\u001b[23m 0, 0, 0, 0, 0, 0, 0, 0, 0, 0, 0, 0, 0, 0, 0, 0, 0, 0…\n",
      "$ BCO               \u001b[3m\u001b[90m<int>\u001b[39m\u001b[23m 0, 0, 0, 0, 0, 0, 0, 0, 0, 0, 0, 0, 0, 0, 0, 0, 0, 0…\n",
      "$ ALI               \u001b[3m\u001b[90m<int>\u001b[39m\u001b[23m 0, 0, 0, 0, 0, 0, 0, 0, 0, 0, 0, 0, 0, 0, 0, 0, 0, 0…\n",
      "$ SPECT             \u001b[3m\u001b[90m<int>\u001b[39m\u001b[23m 0, 0, 0, 0, 0, 0, 0, 0, 0, 0, 0, 0, 0, 0, 0, 0, 0, 0…\n",
      "$ PET               \u001b[3m\u001b[90m<int>\u001b[39m\u001b[23m 0, 0, 0, 0, 0, 0, 0, 0, 0, 0, 0, 0, 0, 0, 0, 0, 0, 0…\n",
      "$ MAMOS             \u001b[3m\u001b[90m<int>\u001b[39m\u001b[23m 1, 1, 1, 1, 1, 1, 1, 1, 1, 1, 1, 1, 1, 1, 1, 1, 1, 1…\n",
      "$ DO                \u001b[3m\u001b[90m<int>\u001b[39m\u001b[23m 0, 0, 0, 0, 0, 0, 0, 0, 0, 0, 0, 0, 0, 0, 0, 0, 0, 0…\n",
      "$ DIAL              \u001b[3m\u001b[90m<int>\u001b[39m\u001b[23m 0, 0, 0, 0, 0, 0, 0, 0, 0, 0, 0, 0, 0, 0, 0, 0, 0, 0…\n",
      "$ X                 \u001b[3m\u001b[90m<dbl>\u001b[39m\u001b[23m -3.706932, -3.706932, -3.706932, -3.706932, -3.70693…\n",
      "$ Y                 \u001b[3m\u001b[90m<dbl>\u001b[39m\u001b[23m 40.44715, 40.44715, 40.44715, 40.44715, 40.44715, 40…\n",
      "$ t3_1              \u001b[3m\u001b[90m<dbl>\u001b[39m\u001b[23m 41.3884, 41.3884, 41.3884, 41.3884, 41.3884, 41.3884…\n",
      "$ t1_1              \u001b[3m\u001b[90m<int>\u001b[39m\u001b[23m 912485, 912485, 912485, 912485, 912485, 912485, 9124…\n",
      "$ t2_1              \u001b[3m\u001b[90m<dbl>\u001b[39m\u001b[23m 0.5202002, 0.5202002, 0.5202002, 0.5202002, 0.520200…\n",
      "$ t2_2              \u001b[3m\u001b[90m<dbl>\u001b[39m\u001b[23m 0.4791324, 0.4791324, 0.4791324, 0.4791324, 0.479132…\n",
      "$ t4_1              \u001b[3m\u001b[90m<dbl>\u001b[39m\u001b[23m 0.1700457, 0.1700457, 0.1700457, 0.1700457, 0.170045…\n",
      "$ t4_2              \u001b[3m\u001b[90m<dbl>\u001b[39m\u001b[23m 0.6590844, 0.6590844, 0.6590844, 0.6590844, 0.659084…\n",
      "$ t4_3              \u001b[3m\u001b[90m<dbl>\u001b[39m\u001b[23m 0.1702033, 0.1702033, 0.1702033, 0.1702033, 0.170203…\n",
      "$ t5_1              \u001b[3m\u001b[90m<dbl>\u001b[39m\u001b[23m 0.1248427, 0.1248427, 0.1248427, 0.1248427, 0.124842…\n",
      "$ t6_1              \u001b[3m\u001b[90m<dbl>\u001b[39m\u001b[23m 0.1950003, 0.1950003, 0.1950003, 0.1950003, 0.195000…\n",
      "$ t7_1              \u001b[3m\u001b[90m<dbl>\u001b[39m\u001b[23m 0.06406634, 0.06406634, 0.06406634, 0.06406634, 0.06…\n",
      "$ t8_1              \u001b[3m\u001b[90m<dbl>\u001b[39m\u001b[23m 0.05318346, 0.05318346, 0.05318346, 0.05318346, 0.05…\n",
      "$ t9_1              \u001b[3m\u001b[90m<dbl>\u001b[39m\u001b[23m 0.4872258, 0.4872258, 0.4872258, 0.4872258, 0.487225…\n",
      "$ t10_1             \u001b[3m\u001b[90m<dbl>\u001b[39m\u001b[23m 0.1032815, 0.1032815, 0.1032815, 0.1032815, 0.103281…\n",
      "$ t11_1             \u001b[3m\u001b[90m<dbl>\u001b[39m\u001b[23m 0.5420084, 0.5420084, 0.5420084, 0.5420084, 0.542008…\n",
      "$ t12_1             \u001b[3m\u001b[90m<dbl>\u001b[39m\u001b[23m 0.6035461, 0.6035461, 0.6035461, 0.6035461, 0.603546…\n",
      "$ capacidad         \u001b[3m\u001b[90m<int>\u001b[39m\u001b[23m 14, 14, 14, 14, 14, 14, 14, 14, 14, 14, 14, 14, 14, …\n",
      "$ pacientes         \u001b[3m\u001b[90m<int>\u001b[39m\u001b[23m 1392, 1465, 1373, 1593, 1478, 1374, 1493, 1515, 1501…\n",
      "$ consultas         \u001b[3m\u001b[90m<int>\u001b[39m\u001b[23m 717, 703, 684, 686, 682, NA, 656, 657, 646, 641, 625…\n",
      "$ hospitalizaciones \u001b[3m\u001b[90m<int>\u001b[39m\u001b[23m 8, 3, 12, 3, 17, NA, 10, 20, 14, 8, 19, 8, 18, 6, 5,…\n",
      "$ Target            \u001b[3m\u001b[90m<dbl>\u001b[39m\u001b[23m 56.29, 55.13, 53.99, 56.29, 55.82, NA, 57.45, 57.61,…\n"
     ]
    }
   ],
   "source": [
    "sapply(data, class)\n",
    "glimpse(data)"
   ]
  },
  {
   "cell_type": "markdown",
   "metadata": {
    "slideshow": {
     "slide_type": "slide"
    }
   },
   "source": [
    "### Tidy Data\n"
   ]
  },
  {
   "cell_type": "markdown",
   "metadata": {
    "slideshow": {
     "slide_type": "slide"
    }
   },
   "source": [
    "#### Verify each variable forms a column "
   ]
  },
  {
   "cell_type": "markdown",
   "metadata": {},
   "source": [
    "<font color=' #2874a6 '><b>Remarks</b></font>"
   ]
  },
  {
   "attachments": {},
   "cell_type": "markdown",
   "metadata": {},
   "source": [
    "- Se ha comprobado que cada columna se refiere a una variable\n"
   ]
  },
  {
   "cell_type": "markdown",
   "metadata": {},
   "source": [
    "<font color=' #2874a6 '><b>CODE</b></font>"
   ]
  },
  {
   "cell_type": "code",
   "execution_count": 47,
   "metadata": {
    "ExecuteTime": {
     "end_time": "2021-01-27T11:01:34.878544Z",
     "start_time": "2021-01-27T11:01:34.740511Z"
    },
    "slideshow": {
     "slide_type": "subslide"
    },
    "vscode": {
     "languageId": "r"
    }
   },
   "outputs": [
    {
     "data": {
      "text/html": [
       "48"
      ],
      "text/latex": [
       "48"
      ],
      "text/markdown": [
       "48"
      ],
      "text/plain": [
       "[1] 48"
      ]
     },
     "metadata": {},
     "output_type": "display_data"
    },
    {
     "name": "stdout",
     "output_type": "stream",
     "text": [
      "Rows: 55,680\n",
      "Columns: 48\n",
      "$ Hospital          \u001b[3m\u001b[90m<chr>\u001b[39m\u001b[23m \"HOSPITAL CENTRAL DE LA CRUZ ROJA SAN JOSE Y SANTA A…\n",
      "$ Especialidad      \u001b[3m\u001b[90m<chr>\u001b[39m\u001b[23m \"Angiología y Cirugía Vascular\", \"Angiología y Cirug…\n",
      "$ total_pacientes   \u001b[3m\u001b[90m<int>\u001b[39m\u001b[23m 439, 437, 429, 419, 418, NA, 408, 399, 396, 393, 378…\n",
      "$ ano               \u001b[3m\u001b[90m<int>\u001b[39m\u001b[23m 2022, 2022, 2022, 2022, 2022, 2022, 2022, 2022, 2022…\n",
      "$ semana            \u001b[3m\u001b[90m<int>\u001b[39m\u001b[23m 44, 43, 42, 41, 40, 39, 38, 37, 36, 35, 34, 33, 32, …\n",
      "$ CODCNH            \u001b[3m\u001b[90m<int>\u001b[39m\u001b[23m 280148, 280148, 280148, 280148, 280148, 280148, 2801…\n",
      "$ id_area           \u001b[3m\u001b[90m<int>\u001b[39m\u001b[23m 5, 5, 5, 5, 5, 5, 5, 5, 5, 5, 5, 5, 5, 5, 5, 5, 5, 5…\n",
      "$ nombre_area       \u001b[3m\u001b[90m<chr>\u001b[39m\u001b[23m \"Norte\", \"Norte\", \"Norte\", \"Norte\", \"Norte\", \"Norte\"…\n",
      "$ cmunicipio        \u001b[3m\u001b[90m<int>\u001b[39m\u001b[23m 280796, 280796, 280796, 280796, 280796, 280796, 2807…\n",
      "$ Municipio         \u001b[3m\u001b[90m<chr>\u001b[39m\u001b[23m \"Madrid\", \"Madrid\", \"Madrid\", \"Madrid\", \"Madrid\", \"M…\n",
      "$ CAMAS             \u001b[3m\u001b[90m<int>\u001b[39m\u001b[23m 156, 156, 156, 156, 156, 156, 156, 156, 156, 156, 15…\n",
      "$ Clase             \u001b[3m\u001b[90m<chr>\u001b[39m\u001b[23m \"Otros Centros con Internamiento\", \"Otros Centros co…\n",
      "$ Dependencia       \u001b[3m\u001b[90m<chr>\u001b[39m\u001b[23m \"SERVICIOS E INSTITUTOS DE SALUD DE LAS COMUNIDADES …\n",
      "$ TAC               \u001b[3m\u001b[90m<int>\u001b[39m\u001b[23m 1, 1, 1, 1, 1, 1, 1, 1, 1, 1, 1, 1, 1, 1, 1, 1, 1, 1…\n",
      "$ RM                \u001b[3m\u001b[90m<int>\u001b[39m\u001b[23m 0, 0, 0, 0, 0, 0, 0, 0, 0, 0, 0, 0, 0, 0, 0, 0, 0, 0…\n",
      "$ GAM               \u001b[3m\u001b[90m<int>\u001b[39m\u001b[23m 1, 1, 1, 1, 1, 1, 1, 1, 1, 1, 1, 1, 1, 1, 1, 1, 1, 1…\n",
      "$ HEM               \u001b[3m\u001b[90m<int>\u001b[39m\u001b[23m 0, 0, 0, 0, 0, 0, 0, 0, 0, 0, 0, 0, 0, 0, 0, 0, 0, 0…\n",
      "$ ASD               \u001b[3m\u001b[90m<int>\u001b[39m\u001b[23m 0, 0, 0, 0, 0, 0, 0, 0, 0, 0, 0, 0, 0, 0, 0, 0, 0, 0…\n",
      "$ LIT               \u001b[3m\u001b[90m<int>\u001b[39m\u001b[23m 0, 0, 0, 0, 0, 0, 0, 0, 0, 0, 0, 0, 0, 0, 0, 0, 0, 0…\n",
      "$ BCO               \u001b[3m\u001b[90m<int>\u001b[39m\u001b[23m 0, 0, 0, 0, 0, 0, 0, 0, 0, 0, 0, 0, 0, 0, 0, 0, 0, 0…\n",
      "$ ALI               \u001b[3m\u001b[90m<int>\u001b[39m\u001b[23m 0, 0, 0, 0, 0, 0, 0, 0, 0, 0, 0, 0, 0, 0, 0, 0, 0, 0…\n",
      "$ SPECT             \u001b[3m\u001b[90m<int>\u001b[39m\u001b[23m 0, 0, 0, 0, 0, 0, 0, 0, 0, 0, 0, 0, 0, 0, 0, 0, 0, 0…\n",
      "$ PET               \u001b[3m\u001b[90m<int>\u001b[39m\u001b[23m 0, 0, 0, 0, 0, 0, 0, 0, 0, 0, 0, 0, 0, 0, 0, 0, 0, 0…\n",
      "$ MAMOS             \u001b[3m\u001b[90m<int>\u001b[39m\u001b[23m 1, 1, 1, 1, 1, 1, 1, 1, 1, 1, 1, 1, 1, 1, 1, 1, 1, 1…\n",
      "$ DO                \u001b[3m\u001b[90m<int>\u001b[39m\u001b[23m 0, 0, 0, 0, 0, 0, 0, 0, 0, 0, 0, 0, 0, 0, 0, 0, 0, 0…\n",
      "$ DIAL              \u001b[3m\u001b[90m<int>\u001b[39m\u001b[23m 0, 0, 0, 0, 0, 0, 0, 0, 0, 0, 0, 0, 0, 0, 0, 0, 0, 0…\n",
      "$ X                 \u001b[3m\u001b[90m<dbl>\u001b[39m\u001b[23m -3.706932, -3.706932, -3.706932, -3.706932, -3.70693…\n",
      "$ Y                 \u001b[3m\u001b[90m<dbl>\u001b[39m\u001b[23m 40.44715, 40.44715, 40.44715, 40.44715, 40.44715, 40…\n",
      "$ t3_1              \u001b[3m\u001b[90m<dbl>\u001b[39m\u001b[23m 41.3884, 41.3884, 41.3884, 41.3884, 41.3884, 41.3884…\n",
      "$ t1_1              \u001b[3m\u001b[90m<int>\u001b[39m\u001b[23m 912485, 912485, 912485, 912485, 912485, 912485, 9124…\n",
      "$ t2_1              \u001b[3m\u001b[90m<dbl>\u001b[39m\u001b[23m 0.5202002, 0.5202002, 0.5202002, 0.5202002, 0.520200…\n",
      "$ t2_2              \u001b[3m\u001b[90m<dbl>\u001b[39m\u001b[23m 0.4791324, 0.4791324, 0.4791324, 0.4791324, 0.479132…\n",
      "$ t4_1              \u001b[3m\u001b[90m<dbl>\u001b[39m\u001b[23m 0.1700457, 0.1700457, 0.1700457, 0.1700457, 0.170045…\n",
      "$ t4_2              \u001b[3m\u001b[90m<dbl>\u001b[39m\u001b[23m 0.6590844, 0.6590844, 0.6590844, 0.6590844, 0.659084…\n",
      "$ t4_3              \u001b[3m\u001b[90m<dbl>\u001b[39m\u001b[23m 0.1702033, 0.1702033, 0.1702033, 0.1702033, 0.170203…\n",
      "$ t5_1              \u001b[3m\u001b[90m<dbl>\u001b[39m\u001b[23m 0.1248427, 0.1248427, 0.1248427, 0.1248427, 0.124842…\n",
      "$ t6_1              \u001b[3m\u001b[90m<dbl>\u001b[39m\u001b[23m 0.1950003, 0.1950003, 0.1950003, 0.1950003, 0.195000…\n",
      "$ t7_1              \u001b[3m\u001b[90m<dbl>\u001b[39m\u001b[23m 0.06406634, 0.06406634, 0.06406634, 0.06406634, 0.06…\n",
      "$ t8_1              \u001b[3m\u001b[90m<dbl>\u001b[39m\u001b[23m 0.05318346, 0.05318346, 0.05318346, 0.05318346, 0.05…\n",
      "$ t9_1              \u001b[3m\u001b[90m<dbl>\u001b[39m\u001b[23m 0.4872258, 0.4872258, 0.4872258, 0.4872258, 0.487225…\n",
      "$ t10_1             \u001b[3m\u001b[90m<dbl>\u001b[39m\u001b[23m 0.1032815, 0.1032815, 0.1032815, 0.1032815, 0.103281…\n",
      "$ t11_1             \u001b[3m\u001b[90m<dbl>\u001b[39m\u001b[23m 0.5420084, 0.5420084, 0.5420084, 0.5420084, 0.542008…\n",
      "$ t12_1             \u001b[3m\u001b[90m<dbl>\u001b[39m\u001b[23m 0.6035461, 0.6035461, 0.6035461, 0.6035461, 0.603546…\n",
      "$ capacidad         \u001b[3m\u001b[90m<int>\u001b[39m\u001b[23m 14, 14, 14, 14, 14, 14, 14, 14, 14, 14, 14, 14, 14, …\n",
      "$ pacientes         \u001b[3m\u001b[90m<int>\u001b[39m\u001b[23m 1392, 1465, 1373, 1593, 1478, 1374, 1493, 1515, 1501…\n",
      "$ consultas         \u001b[3m\u001b[90m<int>\u001b[39m\u001b[23m 717, 703, 684, 686, 682, NA, 656, 657, 646, 641, 625…\n",
      "$ hospitalizaciones \u001b[3m\u001b[90m<int>\u001b[39m\u001b[23m 8, 3, 12, 3, 17, NA, 10, 20, 14, 8, 19, 8, 18, 6, 5,…\n",
      "$ Target            \u001b[3m\u001b[90m<dbl>\u001b[39m\u001b[23m 56.29, 55.13, 53.99, 56.29, 55.82, NA, 57.45, 57.61,…\n"
     ]
    }
   ],
   "source": [
    "# \n",
    "ncol(data)\n",
    "glimpse(data)"
   ]
  },
  {
   "cell_type": "markdown",
   "metadata": {
    "slideshow": {
     "slide_type": "slide"
    }
   },
   "source": [
    "#### Verify each observation forms a row "
   ]
  },
  {
   "cell_type": "markdown",
   "metadata": {},
   "source": [
    "<font color=' #2874a6 '><b>Remarks</b></font>"
   ]
  },
  {
   "attachments": {},
   "cell_type": "markdown",
   "metadata": {},
   "source": [
    "- Se ha comprobado que cada fila se refiere a una observación\n"
   ]
  },
  {
   "cell_type": "markdown",
   "metadata": {},
   "source": [
    "<font color=' #2874a6 '><b>CODE</b></font>"
   ]
  },
  {
   "cell_type": "code",
   "execution_count": 48,
   "metadata": {
    "ExecuteTime": {
     "end_time": "2021-01-27T11:01:34.878544Z",
     "start_time": "2021-01-27T11:01:34.740511Z"
    },
    "slideshow": {
     "slide_type": "subslide"
    },
    "vscode": {
     "languageId": "r"
    }
   },
   "outputs": [
    {
     "data": {
      "text/html": [
       "55680"
      ],
      "text/latex": [
       "55680"
      ],
      "text/markdown": [
       "55680"
      ],
      "text/plain": [
       "[1] 55680"
      ]
     },
     "metadata": {},
     "output_type": "display_data"
    },
    {
     "data": {
      "text/html": [
       "<table class=\"dataframe\">\n",
       "<caption>A data.frame: 1 × 48</caption>\n",
       "<thead>\n",
       "\t<tr><th></th><th scope=col>Hospital</th><th scope=col>Especialidad</th><th scope=col>total_pacientes</th><th scope=col>ano</th><th scope=col>semana</th><th scope=col>CODCNH</th><th scope=col>id_area</th><th scope=col>nombre_area</th><th scope=col>cmunicipio</th><th scope=col>Municipio</th><th scope=col>⋯</th><th scope=col>t8_1</th><th scope=col>t9_1</th><th scope=col>t10_1</th><th scope=col>t11_1</th><th scope=col>t12_1</th><th scope=col>capacidad</th><th scope=col>pacientes</th><th scope=col>consultas</th><th scope=col>hospitalizaciones</th><th scope=col>Target</th></tr>\n",
       "\t<tr><th></th><th scope=col>&lt;chr&gt;</th><th scope=col>&lt;chr&gt;</th><th scope=col>&lt;int&gt;</th><th scope=col>&lt;int&gt;</th><th scope=col>&lt;int&gt;</th><th scope=col>&lt;int&gt;</th><th scope=col>&lt;int&gt;</th><th scope=col>&lt;chr&gt;</th><th scope=col>&lt;int&gt;</th><th scope=col>&lt;chr&gt;</th><th scope=col>⋯</th><th scope=col>&lt;dbl&gt;</th><th scope=col>&lt;dbl&gt;</th><th scope=col>&lt;dbl&gt;</th><th scope=col>&lt;dbl&gt;</th><th scope=col>&lt;dbl&gt;</th><th scope=col>&lt;int&gt;</th><th scope=col>&lt;int&gt;</th><th scope=col>&lt;int&gt;</th><th scope=col>&lt;int&gt;</th><th scope=col>&lt;dbl&gt;</th></tr>\n",
       "</thead>\n",
       "<tbody>\n",
       "\t<tr><th scope=row>1</th><td>HOSPITAL CENTRAL DE LA CRUZ ROJA SAN JOSE Y SANTA ADELA</td><td>Angiología y Cirugía Vascular</td><td>439</td><td>2022</td><td>44</td><td>280148</td><td>5</td><td>Norte</td><td>280796</td><td>Madrid</td><td>⋯</td><td>0.05318346</td><td>0.4872258</td><td>0.1032815</td><td>0.5420084</td><td>0.6035461</td><td>14</td><td>1392</td><td>717</td><td>8</td><td>56.29</td></tr>\n",
       "</tbody>\n",
       "</table>\n"
      ],
      "text/latex": [
       "A data.frame: 1 × 48\n",
       "\\begin{tabular}{r|lllllllllllllllllllll}\n",
       "  & Hospital & Especialidad & total\\_pacientes & ano & semana & CODCNH & id\\_area & nombre\\_area & cmunicipio & Municipio & ⋯ & t8\\_1 & t9\\_1 & t10\\_1 & t11\\_1 & t12\\_1 & capacidad & pacientes & consultas & hospitalizaciones & Target\\\\\n",
       "  & <chr> & <chr> & <int> & <int> & <int> & <int> & <int> & <chr> & <int> & <chr> & ⋯ & <dbl> & <dbl> & <dbl> & <dbl> & <dbl> & <int> & <int> & <int> & <int> & <dbl>\\\\\n",
       "\\hline\n",
       "\t1 & HOSPITAL CENTRAL DE LA CRUZ ROJA SAN JOSE Y SANTA ADELA & Angiología y Cirugía Vascular & 439 & 2022 & 44 & 280148 & 5 & Norte & 280796 & Madrid & ⋯ & 0.05318346 & 0.4872258 & 0.1032815 & 0.5420084 & 0.6035461 & 14 & 1392 & 717 & 8 & 56.29\\\\\n",
       "\\end{tabular}\n"
      ],
      "text/markdown": [
       "\n",
       "A data.frame: 1 × 48\n",
       "\n",
       "| <!--/--> | Hospital &lt;chr&gt; | Especialidad &lt;chr&gt; | total_pacientes &lt;int&gt; | ano &lt;int&gt; | semana &lt;int&gt; | CODCNH &lt;int&gt; | id_area &lt;int&gt; | nombre_area &lt;chr&gt; | cmunicipio &lt;int&gt; | Municipio &lt;chr&gt; | ⋯ ⋯ | t8_1 &lt;dbl&gt; | t9_1 &lt;dbl&gt; | t10_1 &lt;dbl&gt; | t11_1 &lt;dbl&gt; | t12_1 &lt;dbl&gt; | capacidad &lt;int&gt; | pacientes &lt;int&gt; | consultas &lt;int&gt; | hospitalizaciones &lt;int&gt; | Target &lt;dbl&gt; |\n",
       "|---|---|---|---|---|---|---|---|---|---|---|---|---|---|---|---|---|---|---|---|---|---|\n",
       "| 1 | HOSPITAL CENTRAL DE LA CRUZ ROJA SAN JOSE Y SANTA ADELA | Angiología y Cirugía Vascular | 439 | 2022 | 44 | 280148 | 5 | Norte | 280796 | Madrid | ⋯ | 0.05318346 | 0.4872258 | 0.1032815 | 0.5420084 | 0.6035461 | 14 | 1392 | 717 | 8 | 56.29 |\n",
       "\n"
      ],
      "text/plain": [
       "  Hospital                                               \n",
       "1 HOSPITAL CENTRAL DE LA CRUZ ROJA SAN JOSE Y SANTA ADELA\n",
       "  Especialidad                  total_pacientes ano  semana CODCNH id_area\n",
       "1 Angiología y Cirugía Vascular 439             2022 44     280148 5      \n",
       "  nombre_area cmunicipio Municipio ⋯ t8_1       t9_1      t10_1     t11_1    \n",
       "1 Norte       280796     Madrid    ⋯ 0.05318346 0.4872258 0.1032815 0.5420084\n",
       "  t12_1     capacidad pacientes consultas hospitalizaciones Target\n",
       "1 0.6035461 14        1392      717       8                 56.29 "
      ]
     },
     "metadata": {},
     "output_type": "display_data"
    }
   ],
   "source": [
    "# \n",
    "nrow(data)\n",
    "head(data, 1)"
   ]
  },
  {
   "cell_type": "markdown",
   "metadata": {
    "slideshow": {
     "slide_type": "slide"
    }
   },
   "source": [
    "#### Verify each type of observational unit forms a table "
   ]
  },
  {
   "cell_type": "markdown",
   "metadata": {},
   "source": [
    "<font color=' #2874a6 '><b>Remarks</b></font>"
   ]
  },
  {
   "attachments": {},
   "cell_type": "markdown",
   "metadata": {},
   "source": [
    "- No aplica\n"
   ]
  },
  {
   "cell_type": "markdown",
   "metadata": {},
   "source": [
    "<font color=' #2874a6 '><b>CODE</b></font>"
   ]
  },
  {
   "cell_type": "code",
   "execution_count": 49,
   "metadata": {
    "ExecuteTime": {
     "end_time": "2021-01-27T11:01:34.878544Z",
     "start_time": "2021-01-27T11:01:34.740511Z"
    },
    "slideshow": {
     "slide_type": "subslide"
    },
    "vscode": {
     "languageId": "r"
    }
   },
   "outputs": [],
   "source": [
    "# \n"
   ]
  },
  {
   "attachments": {},
   "cell_type": "markdown",
   "metadata": {},
   "source": [
    "### Additional Actions not Initially Contemplated\n",
    "\n",
    "No aplica"
   ]
  },
  {
   "attachments": {},
   "cell_type": "markdown",
   "metadata": {},
   "source": [
    "## <font color='green'>Data Save</font>\n",
    "\n"
   ]
  },
  {
   "cell_type": "markdown",
   "metadata": {},
   "source": [
    "<font color='tomato'> Identificamos los datos a guardar</font>"
   ]
  },
  {
   "cell_type": "code",
   "execution_count": 50,
   "metadata": {
    "vscode": {
     "languageId": "r"
    }
   },
   "outputs": [],
   "source": [
    "data_to_save <- data"
   ]
  },
  {
   "cell_type": "markdown",
   "metadata": {},
   "source": [
    "\n",
    "<font color='tomato'>Estructura de nombre de archivos:</font>\n",
    "\n",
    "* Código del caso de uso, por ejemplo \"CU_04\"\n",
    "* Número del proceso que lo genera, por ejemplo \"_06\".\n",
    "* Resto del nombre del archivo de entrada\n",
    "* Extensión del archivo\n",
    "\n",
    "Ejemplo: \"CU_04_06_01_01_zonasgeo.json, primer fichero que se genera en la tarea 01 del proceso 05 (Data Collection) para el caso de uso 04 (vacunas) y que se ha transformado en el proceso 06\n",
    "\n",
    "Importante mantener los guiones bajos antes de proceso, tarea, archivo y nombre"
   ]
  },
  {
   "attachments": {},
   "cell_type": "markdown",
   "metadata": {},
   "source": [
    "### Proceso 6"
   ]
  },
  {
   "cell_type": "code",
   "execution_count": 51,
   "metadata": {
    "vscode": {
     "languageId": "r"
    }
   },
   "outputs": [],
   "source": [
    "caso <- \"CU_25\"\n",
    "proceso <- '_6'\n",
    "tarea <- \"_01\"\n",
    "archivo <- \"_lista_espera_completo_target\"\n",
    "proper <- \"_v_01\"\n",
    "extension <- \".csv\""
   ]
  },
  {
   "cell_type": "markdown",
   "metadata": {},
   "source": [
    "<font color='tomato'><b> OPCION A:</b> Uso del paquete \"tcltk\" para mayor comodidad</font>\n",
    "\n",
    "* Buscar carpeta, escribir nombre de archivo SIN extensión (se especifica en el código)\n",
    "* Especificar sufijo2 si es necesario\n",
    "* Cambiar datos por datos_xx si es necesario"
   ]
  },
  {
   "cell_type": "code",
   "execution_count": 52,
   "metadata": {
    "vscode": {
     "languageId": "r"
    }
   },
   "outputs": [],
   "source": [
    "# file_save <- paste0(caso, proceso, tarea, tcltk::tkgetSaveFile(), proper, extension) \n",
    "# path_out <- paste0(oPath, file_save)\n",
    "# write_csv(data_to_save_xxxxx, path_out)\n",
    "\n",
    "# cat('File saved as: ')\n",
    "# path_out"
   ]
  },
  {
   "cell_type": "markdown",
   "metadata": {},
   "source": [
    "<font color='tomato'><b> OPCION B:</b> Especificar el nombre de archivo</font>"
   ]
  },
  {
   "cell_type": "markdown",
   "metadata": {},
   "source": [
    "- Los ficheros de salida del proceso van siempre a Data/Output/.  "
   ]
  },
  {
   "cell_type": "code",
   "execution_count": 53,
   "metadata": {
    "vscode": {
     "languageId": "r"
    }
   },
   "outputs": [
    {
     "name": "stdout",
     "output_type": "stream",
     "text": [
      "File saved as: "
     ]
    },
    {
     "data": {
      "text/html": [
       "'Data/Output/CU_25_6_01_lista_espera_completo_target_v_01.csv'"
      ],
      "text/latex": [
       "'Data/Output/CU\\_25\\_6\\_01\\_lista\\_espera\\_completo\\_target\\_v\\_01.csv'"
      ],
      "text/markdown": [
       "'Data/Output/CU_25_6_01_lista_espera_completo_target_v_01.csv'"
      ],
      "text/plain": [
       "[1] \"Data/Output/CU_25_6_01_lista_espera_completo_target_v_01.csv\""
      ]
     },
     "metadata": {},
     "output_type": "display_data"
    }
   ],
   "source": [
    "file_save <- paste0(caso, proceso, tarea, archivo, proper, extension) \n",
    "path_out <- paste0(oPath, file_save)\n",
    "write_csv(data_to_save, path_out)\n",
    "\n",
    "cat('File saved as: ')\n",
    "path_out"
   ]
  },
  {
   "cell_type": "markdown",
   "metadata": {},
   "source": [
    "#### Copia del fichero a Input\n",
    "\n",
    "Si el archivo se va a usar en otros notebooks, copiar a la carpeta Input"
   ]
  },
  {
   "cell_type": "code",
   "execution_count": 54,
   "metadata": {
    "vscode": {
     "languageId": "r"
    }
   },
   "outputs": [
    {
     "data": {
      "text/html": [
       "TRUE"
      ],
      "text/latex": [
       "TRUE"
      ],
      "text/markdown": [
       "TRUE"
      ],
      "text/plain": [
       "[1] TRUE"
      ]
     },
     "metadata": {},
     "output_type": "display_data"
    }
   ],
   "source": [
    "path_in <- paste0(iPath, file_save)\n",
    "file.copy(path_out, path_in, overwrite = TRUE)"
   ]
  },
  {
   "cell_type": "markdown",
   "metadata": {
    "slideshow": {
     "slide_type": "slide"
    }
   },
   "source": [
    "## <font color='#2874a6'>REPORT</font>"
   ]
  },
  {
   "cell_type": "code",
   "execution_count": null,
   "metadata": {
    "vscode": {
     "languageId": "r"
    }
   },
   "outputs": [],
   "source": []
  },
  {
   "cell_type": "markdown",
   "metadata": {},
   "source": [
    "A continuación se realizará un informe de las acciones realizadas"
   ]
  },
  {
   "cell_type": "markdown",
   "metadata": {},
   "source": [
    "## <font color=' #2874a6 '>Main Actions Carried Out</font>"
   ]
  },
  {
   "attachments": {},
   "cell_type": "markdown",
   "metadata": {},
   "source": [
    "Ejemplos\n",
    "- Se han comprobado todas las tareas de Data Adecuacy\n",
    "- No se ha tenido que realizar ninguna acción adicional"
   ]
  },
  {
   "cell_type": "markdown",
   "metadata": {},
   "source": [
    "## <font color=' #2874a6 '>Main Conclusions</font>"
   ]
  },
  {
   "attachments": {},
   "cell_type": "markdown",
   "metadata": {},
   "source": [
    "- Los datos ya se habían tratado en el proceso 05 para poder hacer las tareas de ETL y no ha sido necesaria ninguna modificación"
   ]
  },
  {
   "cell_type": "markdown",
   "metadata": {},
   "source": [
    "## <font color='RED'>CODE TO DEPLOY (PILOT)</font>\n",
    "\n",
    "A continuación se incluirá el código que deba ser llevado a despliegue para producción, dado que se entiende efectúa operaciones necesarias sobre los datos en la ejecución del prototipo"
   ]
  },
  {
   "cell_type": "markdown",
   "metadata": {},
   "source": [
    "<font color=' red '><b>Description</b></font>\n",
    "\n",
    "- No hay nada que desplegar en el piloto, ya que estos datos son estáticos o en todo caso cambian con muy poca frecuencia, altamente improbable durante el proyecto.\n"
   ]
  },
  {
   "cell_type": "markdown",
   "metadata": {},
   "source": [
    "<font color=' red '><b>CODE</b></font>"
   ]
  },
  {
   "cell_type": "code",
   "execution_count": null,
   "metadata": {
    "vscode": {
     "languageId": "r"
    }
   },
   "outputs": [],
   "source": [
    "# incluir código"
   ]
  }
 ],
 "metadata": {
  "anaconda-cloud": {},
  "celltoolbar": "Slideshow",
  "hide_input": false,
  "kernelspec": {
   "display_name": "R",
   "language": "R",
   "name": "ir"
  },
  "language_info": {
   "codemirror_mode": "r",
   "file_extension": ".r",
   "mimetype": "text/x-r-source",
   "name": "R",
   "pygments_lexer": "r",
   "version": "4.3.0"
  },
  "latex_envs": {
   "LaTeX_envs_menu_present": true,
   "autoclose": false,
   "autocomplete": true,
   "bibliofile": "biblio.bib",
   "cite_by": "apalike",
   "current_citInitial": 1,
   "eqLabelWithNumbers": true,
   "eqNumInitial": 1,
   "hotkeys": {
    "equation": "Ctrl-E",
    "itemize": "Ctrl-I"
   },
   "labels_anchors": false,
   "latex_user_defs": false,
   "report_style_numbering": true,
   "user_envs_cfg": false
  },
  "toc": {
   "base_numbering": 1,
   "nav_menu": {
    "height": "11.6px",
    "width": "160px"
   },
   "number_sections": false,
   "sideBar": true,
   "skip_h1_title": true,
   "title_cell": "Table of Contents",
   "title_sidebar": "Contents",
   "toc_cell": true,
   "toc_position": {
    "height": "calc(100% - 180px)",
    "left": "10px",
    "top": "150px",
    "width": "165px"
   },
   "toc_section_display": true,
   "toc_window_display": true
  },
  "varInspector": {
   "cols": {
    "lenName": 16,
    "lenType": 16,
    "lenVar": 40
   },
   "kernels_config": {
    "python": {
     "delete_cmd_postfix": "",
     "delete_cmd_prefix": "del ",
     "library": "var_list.py",
     "varRefreshCmd": "print(var_dic_list())"
    },
    "r": {
     "delete_cmd_postfix": ") ",
     "delete_cmd_prefix": "rm(",
     "library": "var_list.r",
     "varRefreshCmd": "cat(var_dic_list()) "
    }
   },
   "types_to_exclude": [
    "module",
    "function",
    "builtin_function_or_method",
    "instance",
    "_Feature"
   ],
   "window_display": false
  }
 },
 "nbformat": 4,
 "nbformat_minor": 1
}
