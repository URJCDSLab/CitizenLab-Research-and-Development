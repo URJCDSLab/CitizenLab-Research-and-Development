{
 "cells": [
  {
   "cell_type": "markdown",
   "metadata": {
    "slideshow": {
     "slide_type": "slide"
    }
   },
   "source": [
    "<img src=\".\\images\\Logo.png\" width=150 align=\"left\" /> <img src=\".\\images\\Logo2.jpg\" width=450 align=\"right\" />"
   ]
  },
  {
   "attachments": {},
   "cell_type": "markdown",
   "metadata": {
    "slideshow": {
     "slide_type": "slide"
    }
   },
   "source": [
    "\n",
    "# <center><font color= #1e8449 > <b>CU25_Modelo de gestión de Lista de Espera Quirúrgica\n",
    "</font></center>\n"
   ]
  },
  {
   "cell_type": "markdown",
   "metadata": {
    "slideshow": {
     "slide_type": "slide"
    }
   },
   "source": [
    "<font color='steelblue'><b>Citizenlab Data Science Methodology > II - Data Processing Domain </font>\n",
    "***\n",
    "> # <font color='steelblue'> <b>05.- Data Collection</font>"
   ]
  },
  {
   "cell_type": "markdown",
   "metadata": {
    "slideshow": {
     "slide_type": "slide"
    }
   },
   "source": [
    "<font color='steelblue'>Data Collection is the process to obtain and generate (if required) necessary data to model the problem.</font>"
   ]
  },
  {
   "attachments": {},
   "cell_type": "markdown",
   "metadata": {},
   "source": [
    "### 07. Obtener un fichero con los datos sanitarios relevantes para las listas de espera.\n",
    "\n",
    "* Los datos buenos habría que pedirlos al SNS. Mientras tanto, este archivo los simula en función de los datos existentes.\n",
    "* En este notebook se guarda también un fichero de datos completo\n",
    "\n",
    "\n",
    "\n",
    "\n",
    "\n"
   ]
  },
  {
   "cell_type": "markdown",
   "metadata": {
    "toc": true
   },
   "source": [
    "<h1>Table of Contents<span class=\"tocSkip\"></span></h1>\n",
    "<div class=\"toc\"><ul class=\"toc-item\"><li><span><a href=\"#Settings\" data-toc-modified-id=\"Settings-1\"><font color=\"green\">Settings</font></a></span></li><li><span><a href=\"#Data-Load\" data-toc-modified-id=\"Data-Load-2\"><font color=\"green\">Data Load</font></a></span></li><li><span><a href=\"#ETL-Processes\" data-toc-modified-id=\"ETL-Processes-3\">ETL Processes</a></span><ul class=\"toc-item\"><li><span><a href=\"#Import-data-from:-CSV,-Excel,-Tab,-JSON,-SQL,-and-Parquet-files\" data-toc-modified-id=\"Import-data-from:-CSV,-Excel,-Tab,-JSON,-SQL,-and-Parquet-files-3.1\">Import data from: CSV, Excel, Tab, JSON, SQL, and Parquet files</a></span></li></ul></li><li><span><a href=\"#Synthetic-Data-Generation\" data-toc-modified-id=\"Synthetic-Data-Generation-4\">Synthetic Data Generation</a></span></li><li><span><a href=\"#Fake-Data-Generation\" data-toc-modified-id=\"Fake-Data-Generation-5\">Fake Data Generation</a></span></li><li><span><a href=\"#Open-Data\" data-toc-modified-id=\"Open-Data-6\">Open Data</a></span></li><li><span><a href=\"#Data-Save\" data-toc-modified-id=\"Data-Save-7\"><font color=\"green\">Data Save</font></a></span></li><li><span><a href=\"#Main-Conclusions\" data-toc-modified-id=\"Main-Conclusions-8\"><font color=\" #2874a6 \">Main Conclusions</font></a></span></li><li><span><a href=\"#Main-Actions\" data-toc-modified-id=\"Main-Actions-9\"><font color=\" #2874a6 \">Main Actions</font></a></span><ul class=\"toc-item\"><li><ul class=\"toc-item\"><li><span><a href=\"#Acciones-done\" data-toc-modified-id=\"Acciones-done-9.0.1\"><font color=\" #2874a6 \">Acciones done</font></a></span></li><li><span><a href=\"#Acctions-to-perform\" data-toc-modified-id=\"Acctions-to-perform-9.0.2\"><font color=\" #2874a6 \">Acctions to perform</font></a></span></li></ul></li></ul></li></ul></div>"
   ]
  },
  {
   "cell_type": "markdown",
   "metadata": {
    "slideshow": {
     "slide_type": "slide"
    }
   },
   "source": [
    "## <font color='green'>Settings</font>"
   ]
  },
  {
   "attachments": {},
   "cell_type": "markdown",
   "metadata": {},
   "source": [
    "### Encoding\n",
    "\n",
    "Con la siguiente expresión se evitan problemas con el encoding al ejecutar el notebook. Es posible que deba ser eliminada o adaptada a la máquina en la que se ejecute el código."
   ]
  },
  {
   "cell_type": "code",
   "execution_count": 1,
   "metadata": {
    "vscode": {
     "languageId": "r"
    }
   },
   "outputs": [
    {
     "data": {
      "text/html": [
       "'es_ES.UTF-8/es_ES.UTF-8/es_ES.UTF-8/C/es_ES.UTF-8/C'"
      ],
      "text/latex": [
       "'es\\_ES.UTF-8/es\\_ES.UTF-8/es\\_ES.UTF-8/C/es\\_ES.UTF-8/C'"
      ],
      "text/markdown": [
       "'es_ES.UTF-8/es_ES.UTF-8/es_ES.UTF-8/C/es_ES.UTF-8/C'"
      ],
      "text/plain": [
       "[1] \"es_ES.UTF-8/es_ES.UTF-8/es_ES.UTF-8/C/es_ES.UTF-8/C\""
      ]
     },
     "metadata": {},
     "output_type": "display_data"
    }
   ],
   "source": [
    "Sys.setlocale(category = \"LC_ALL\", locale = \"es_ES.UTF-8\")"
   ]
  },
  {
   "attachments": {},
   "cell_type": "markdown",
   "metadata": {},
   "source": [
    "### Packages to use\n",
    "\n",
    "_ELIMINAR O AÑADIR LO QUE TOQUE. COPIAR VERSIONES AL FINAL Y QUITAR CÓDIGO DE VERSIONES_\n",
    "\n",
    "- {tcltk} para selección interactiva de archivos locales\n",
    "- {sf} para trabajar con georeferenciación\n",
    "- {readr} para leer y escribir archivos csv\n",
    "- {dplyr} para explorar datos\n",
    "- {stringr} para manipulación de cadenas de caracteres\n",
    "- {tidyr} para organización de datos\n"
   ]
  },
  {
   "cell_type": "code",
   "execution_count": 2,
   "metadata": {
    "ExecuteTime": {
     "end_time": "2021-12-03T15:23:33.762841Z",
     "start_time": "2021-12-03T15:23:08.580267Z"
    },
    "slideshow": {
     "slide_type": "subslide"
    },
    "vscode": {
     "languageId": "r"
    }
   },
   "outputs": [
    {
     "name": "stderr",
     "output_type": "stream",
     "text": [
      "\n",
      "Attaching package: ‘dplyr’\n",
      "\n",
      "\n",
      "The following objects are masked from ‘package:stats’:\n",
      "\n",
      "    filter, lag\n",
      "\n",
      "\n",
      "The following objects are masked from ‘package:base’:\n",
      "\n",
      "    intersect, setdiff, setequal, union\n",
      "\n",
      "\n"
     ]
    }
   ],
   "source": [
    "library(readr)\n",
    "library(dplyr)\n",
    "library(tidyr)\n",
    "\n",
    "p <- c(\"tcltk\", \"readr\", \"dplyr\", \"tidyr\")\n"
   ]
  },
  {
   "attachments": {},
   "cell_type": "markdown",
   "metadata": {},
   "source": [
    "### Paths"
   ]
  },
  {
   "cell_type": "code",
   "execution_count": 3,
   "metadata": {
    "vscode": {
     "languageId": "r"
    }
   },
   "outputs": [],
   "source": [
    "iPath <- \"Data/Input/\"\n",
    "oPath <- \"Data/Output/\""
   ]
  },
  {
   "attachments": {},
   "cell_type": "markdown",
   "metadata": {
    "slideshow": {
     "slide_type": "slide"
    }
   },
   "source": [
    "## <font color='green'>Data Load</font>\n",
    "\n",
    "If there are more than one input file, make as many sections as files to import."
   ]
  },
  {
   "attachments": {},
   "cell_type": "markdown",
   "metadata": {},
   "source": [
    "Instrucciones\n",
    "- Los ficheros de entrada del proceso están siempre en Data/Input/.   \n",
    "- Si hay más de un fichero de entrada, se crean tantos objetos iFile_xx y file_data_xx como ficheros de entrada (xx número correlativo con dos dígitos, rellenar con ceros a la izquierda)"
   ]
  },
  {
   "attachments": {},
   "cell_type": "markdown",
   "metadata": {},
   "source": [
    "1. Listas de espera para simular una capacidad acorde"
   ]
  },
  {
   "attachments": {},
   "cell_type": "markdown",
   "metadata": {},
   "source": [
    "<font color='tomato'><b> OPCION A:</b> Seleccionar fichero en ventana para mayor comodidad</font> "
   ]
  },
  {
   "attachments": {},
   "cell_type": "markdown",
   "metadata": {},
   "source": [
    "Data load using the {tcltk} package. Ucomment the line if not using this option"
   ]
  },
  {
   "cell_type": "code",
   "execution_count": 4,
   "metadata": {
    "vscode": {
     "languageId": "r"
    }
   },
   "outputs": [],
   "source": [
    "# file_data_01 <- tcltk::tk_choose.files(multi = FALSE)"
   ]
  },
  {
   "attachments": {},
   "cell_type": "markdown",
   "metadata": {},
   "source": [
    "<font color='tomato'><b> OPCION B:</b> Especificar el nombre de archivo</font>\n",
    "\n"
   ]
  },
  {
   "cell_type": "code",
   "execution_count": 5,
   "metadata": {
    "vscode": {
     "languageId": "r"
    }
   },
   "outputs": [
    {
     "name": "stdout",
     "output_type": "stream",
     "text": [
      "Se leerán datos del archivo:  Data/Input/CU_25_05_05_02_lista_espera.csv"
     ]
    }
   ],
   "source": [
    "iFile_01 <- \"CU_25_05_05_02_lista_espera.csv\"\n",
    "file_data_01 <- paste0(iPath, iFile_01)\n",
    "\n",
    "if(file.exists(file_data_01)){\n",
    "    cat(\"Se leerán datos del archivo: \", file_data_01)\n",
    "} else{\n",
    "    warning(\"Cuidado: el archivo no existe.\")\n",
    "}\n"
   ]
  },
  {
   "attachments": {},
   "cell_type": "markdown",
   "metadata": {},
   "source": [
    "#### Data file to dataframe\n",
    "\n",
    "Usar la función adecuada según el formato de entrada (xlsx, csv, json, ...)"
   ]
  },
  {
   "cell_type": "code",
   "execution_count": 6,
   "metadata": {
    "vscode": {
     "languageId": "r"
    }
   },
   "outputs": [
    {
     "name": "stderr",
     "output_type": "stream",
     "text": [
      "\u001b[1mRows: \u001b[22m\u001b[34m55680\u001b[39m \u001b[1mColumns: \u001b[22m\u001b[34m7\u001b[39m\n",
      "\u001b[36m──\u001b[39m \u001b[1mColumn specification\u001b[22m \u001b[36m────────────────────────────────────────────────────────\u001b[39m\n",
      "\u001b[1mDelimiter:\u001b[22m \",\"\n",
      "\u001b[31mchr\u001b[39m (2): Hospital, Especialidad\n",
      "\u001b[32mdbl\u001b[39m (5): total_pacientes, media_tiempo_dias, ano, semana, CODCNH\n",
      "\n",
      "\u001b[36mℹ\u001b[39m Use `spec()` to retrieve the full column specification for this data.\n",
      "\u001b[36mℹ\u001b[39m Specify the column types or set `show_col_types = FALSE` to quiet this message.\n"
     ]
    }
   ],
   "source": [
    "data_01 <- read_csv(file_data_01)\n"
   ]
  },
  {
   "attachments": {},
   "cell_type": "markdown",
   "metadata": {},
   "source": [
    "Estructura de  los datos:"
   ]
  },
  {
   "cell_type": "code",
   "execution_count": 7,
   "metadata": {
    "vscode": {
     "languageId": "r"
    }
   },
   "outputs": [
    {
     "name": "stdout",
     "output_type": "stream",
     "text": [
      "Rows: 55,680\n",
      "Columns: 7\n",
      "$ Hospital          \u001b[3m\u001b[90m<chr>\u001b[39m\u001b[23m \"HOSPITAL CENTRAL DE LA CRUZ ROJA SAN JOSE Y SANTA A…\n",
      "$ Especialidad      \u001b[3m\u001b[90m<chr>\u001b[39m\u001b[23m \"Angiología y Cirugía Vascular\", \"Angiología y Cirug…\n",
      "$ total_pacientes   \u001b[3m\u001b[90m<dbl>\u001b[39m\u001b[23m 439, 437, 429, 419, 418, NA, 408, 399, 396, 393, 378…\n",
      "$ media_tiempo_dias \u001b[3m\u001b[90m<dbl>\u001b[39m\u001b[23m 56.29, 55.13, 53.99, 56.29, 55.82, NA, 57.45, 57.61,…\n",
      "$ ano               \u001b[3m\u001b[90m<dbl>\u001b[39m\u001b[23m 2022, 2022, 2022, 2022, 2022, 2022, 2022, 2022, 2022…\n",
      "$ semana            \u001b[3m\u001b[90m<dbl>\u001b[39m\u001b[23m 44, 43, 42, 41, 40, 39, 38, 37, 36, 35, 34, 33, 32, …\n",
      "$ CODCNH            \u001b[3m\u001b[90m<dbl>\u001b[39m\u001b[23m 280148, 280148, 280148, 280148, 280148, 280148, 2801…\n"
     ]
    }
   ],
   "source": [
    "data_01 |> glimpse()"
   ]
  },
  {
   "attachments": {},
   "cell_type": "markdown",
   "metadata": {},
   "source": [
    "Muestra de datos:"
   ]
  },
  {
   "cell_type": "code",
   "execution_count": 8,
   "metadata": {
    "vscode": {
     "languageId": "r"
    }
   },
   "outputs": [
    {
     "data": {
      "text/html": [
       "<table class=\"dataframe\">\n",
       "<caption>A spec_tbl_df: 5 x 7</caption>\n",
       "<thead>\n",
       "\t<tr><th scope=col>Hospital</th><th scope=col>Especialidad</th><th scope=col>total_pacientes</th><th scope=col>media_tiempo_dias</th><th scope=col>ano</th><th scope=col>semana</th><th scope=col>CODCNH</th></tr>\n",
       "\t<tr><th scope=col>&lt;chr&gt;</th><th scope=col>&lt;chr&gt;</th><th scope=col>&lt;dbl&gt;</th><th scope=col>&lt;dbl&gt;</th><th scope=col>&lt;dbl&gt;</th><th scope=col>&lt;dbl&gt;</th><th scope=col>&lt;dbl&gt;</th></tr>\n",
       "</thead>\n",
       "<tbody>\n",
       "\t<tr><td>HOSPITAL CENTRAL DE LA CRUZ ROJA SAN JOSE Y SANTA ADELA</td><td>Angiología y Cirugía Vascular</td><td>439</td><td>56.29</td><td>2022</td><td>44</td><td>280148</td></tr>\n",
       "\t<tr><td>HOSPITAL CENTRAL DE LA CRUZ ROJA SAN JOSE Y SANTA ADELA</td><td>Angiología y Cirugía Vascular</td><td>437</td><td>55.13</td><td>2022</td><td>43</td><td>280148</td></tr>\n",
       "\t<tr><td>HOSPITAL CENTRAL DE LA CRUZ ROJA SAN JOSE Y SANTA ADELA</td><td>Angiología y Cirugía Vascular</td><td>429</td><td>53.99</td><td>2022</td><td>42</td><td>280148</td></tr>\n",
       "\t<tr><td>HOSPITAL CENTRAL DE LA CRUZ ROJA SAN JOSE Y SANTA ADELA</td><td>Angiología y Cirugía Vascular</td><td>419</td><td>56.29</td><td>2022</td><td>41</td><td>280148</td></tr>\n",
       "\t<tr><td>HOSPITAL CENTRAL DE LA CRUZ ROJA SAN JOSE Y SANTA ADELA</td><td>Angiología y Cirugía Vascular</td><td>418</td><td>55.82</td><td>2022</td><td>40</td><td>280148</td></tr>\n",
       "</tbody>\n",
       "</table>\n"
      ],
      "text/latex": [
       "A spec\\_tbl\\_df: 5 x 7\n",
       "\\begin{tabular}{lllllll}\n",
       " Hospital & Especialidad & total\\_pacientes & media\\_tiempo\\_dias & ano & semana & CODCNH\\\\\n",
       " <chr> & <chr> & <dbl> & <dbl> & <dbl> & <dbl> & <dbl>\\\\\n",
       "\\hline\n",
       "\t HOSPITAL CENTRAL DE LA CRUZ ROJA SAN JOSE Y SANTA ADELA & Angiología y Cirugía Vascular & 439 & 56.29 & 2022 & 44 & 280148\\\\\n",
       "\t HOSPITAL CENTRAL DE LA CRUZ ROJA SAN JOSE Y SANTA ADELA & Angiología y Cirugía Vascular & 437 & 55.13 & 2022 & 43 & 280148\\\\\n",
       "\t HOSPITAL CENTRAL DE LA CRUZ ROJA SAN JOSE Y SANTA ADELA & Angiología y Cirugía Vascular & 429 & 53.99 & 2022 & 42 & 280148\\\\\n",
       "\t HOSPITAL CENTRAL DE LA CRUZ ROJA SAN JOSE Y SANTA ADELA & Angiología y Cirugía Vascular & 419 & 56.29 & 2022 & 41 & 280148\\\\\n",
       "\t HOSPITAL CENTRAL DE LA CRUZ ROJA SAN JOSE Y SANTA ADELA & Angiología y Cirugía Vascular & 418 & 55.82 & 2022 & 40 & 280148\\\\\n",
       "\\end{tabular}\n"
      ],
      "text/markdown": [
       "\n",
       "A spec_tbl_df: 5 x 7\n",
       "\n",
       "| Hospital &lt;chr&gt; | Especialidad &lt;chr&gt; | total_pacientes &lt;dbl&gt; | media_tiempo_dias &lt;dbl&gt; | ano &lt;dbl&gt; | semana &lt;dbl&gt; | CODCNH &lt;dbl&gt; |\n",
       "|---|---|---|---|---|---|---|\n",
       "| HOSPITAL CENTRAL DE LA CRUZ ROJA SAN JOSE Y SANTA ADELA | Angiología y Cirugía Vascular | 439 | 56.29 | 2022 | 44 | 280148 |\n",
       "| HOSPITAL CENTRAL DE LA CRUZ ROJA SAN JOSE Y SANTA ADELA | Angiología y Cirugía Vascular | 437 | 55.13 | 2022 | 43 | 280148 |\n",
       "| HOSPITAL CENTRAL DE LA CRUZ ROJA SAN JOSE Y SANTA ADELA | Angiología y Cirugía Vascular | 429 | 53.99 | 2022 | 42 | 280148 |\n",
       "| HOSPITAL CENTRAL DE LA CRUZ ROJA SAN JOSE Y SANTA ADELA | Angiología y Cirugía Vascular | 419 | 56.29 | 2022 | 41 | 280148 |\n",
       "| HOSPITAL CENTRAL DE LA CRUZ ROJA SAN JOSE Y SANTA ADELA | Angiología y Cirugía Vascular | 418 | 55.82 | 2022 | 40 | 280148 |\n",
       "\n"
      ],
      "text/plain": [
       "  Hospital                                               \n",
       "1 HOSPITAL CENTRAL DE LA CRUZ ROJA SAN JOSE Y SANTA ADELA\n",
       "2 HOSPITAL CENTRAL DE LA CRUZ ROJA SAN JOSE Y SANTA ADELA\n",
       "3 HOSPITAL CENTRAL DE LA CRUZ ROJA SAN JOSE Y SANTA ADELA\n",
       "4 HOSPITAL CENTRAL DE LA CRUZ ROJA SAN JOSE Y SANTA ADELA\n",
       "5 HOSPITAL CENTRAL DE LA CRUZ ROJA SAN JOSE Y SANTA ADELA\n",
       "  Especialidad                  total_pacientes media_tiempo_dias ano  semana\n",
       "1 Angiología y Cirugía Vascular 439             56.29             2022 44    \n",
       "2 Angiología y Cirugía Vascular 437             55.13             2022 43    \n",
       "3 Angiología y Cirugía Vascular 429             53.99             2022 42    \n",
       "4 Angiología y Cirugía Vascular 419             56.29             2022 41    \n",
       "5 Angiología y Cirugía Vascular 418             55.82             2022 40    \n",
       "  CODCNH\n",
       "1 280148\n",
       "2 280148\n",
       "3 280148\n",
       "4 280148\n",
       "5 280148"
      ]
     },
     "metadata": {},
     "output_type": "display_data"
    }
   ],
   "source": [
    "data_01 |> slice_head(n = 5)"
   ]
  },
  {
   "attachments": {},
   "cell_type": "markdown",
   "metadata": {},
   "source": [
    "2. Catálogo de hospitales incluyendo área"
   ]
  },
  {
   "cell_type": "markdown",
   "metadata": {},
   "source": [
    "<font color='tomato'><b> OPCION A:</b> Seleccionar fichero en ventana para mayor comodidad</font> "
   ]
  },
  {
   "cell_type": "markdown",
   "metadata": {},
   "source": [
    "Data load using the {tcltk} package. Ucomment the line if not using this option"
   ]
  },
  {
   "cell_type": "code",
   "execution_count": 9,
   "metadata": {
    "vscode": {
     "languageId": "r"
    }
   },
   "outputs": [],
   "source": [
    "# file_data_02 <- tcltk::tk_choose.files(multi = FALSE)"
   ]
  },
  {
   "cell_type": "markdown",
   "metadata": {},
   "source": [
    "<font color='tomato'><b> OPCION B:</b> Especificar el nombre de archivo</font>\n",
    "\n"
   ]
  },
  {
   "cell_type": "code",
   "execution_count": 10,
   "metadata": {
    "vscode": {
     "languageId": "r"
    }
   },
   "outputs": [
    {
     "name": "stdout",
     "output_type": "stream",
     "text": [
      "Se leerán datos del archivo:  Data/Input/CU_25_05_05_01_hospitales.csv"
     ]
    }
   ],
   "source": [
    "iFile_02 <- \"CU_25_05_05_01_hospitales.csv\"\n",
    "file_data_02 <- paste0(iPath, iFile_02)\n",
    "\n",
    "if(file.exists(file_data_02)){\n",
    "    cat(\"Se leerán datos del archivo: \", file_data_02)\n",
    "} else{\n",
    "    warning(\"Cuidado: el archivo no existe.\")\n",
    "}\n"
   ]
  },
  {
   "cell_type": "markdown",
   "metadata": {},
   "source": [
    "#### Data file to dataframe\n",
    "\n",
    "Usar la función adecuada según el formato de entrada (xlsx, csv, json, ...)"
   ]
  },
  {
   "cell_type": "code",
   "execution_count": 11,
   "metadata": {
    "vscode": {
     "languageId": "r"
    }
   },
   "outputs": [
    {
     "name": "stderr",
     "output_type": "stream",
     "text": [
      "\u001b[1mRows: \u001b[22m\u001b[34m87\u001b[39m \u001b[1mColumns: \u001b[22m\u001b[34m24\u001b[39m\n",
      "\u001b[36m──\u001b[39m \u001b[1mColumn specification\u001b[22m \u001b[36m────────────────────────────────────────────────────────\u001b[39m\n",
      "\u001b[1mDelimiter:\u001b[22m \",\"\n",
      "\u001b[31mchr\u001b[39m  (6): Hospital, id_area, nombre_area, Municipio, Clase, Dependencia\n",
      "\u001b[32mdbl\u001b[39m (18): CODCNH, cmunicipio, CAMAS, TAC, RM, GAM, HEM, ASD, LIT, BCO, ALI, ...\n",
      "\n",
      "\u001b[36mℹ\u001b[39m Use `spec()` to retrieve the full column specification for this data.\n",
      "\u001b[36mℹ\u001b[39m Specify the column types or set `show_col_types = FALSE` to quiet this message.\n"
     ]
    }
   ],
   "source": [
    "data_02 <- read_csv(file_data_02)\n"
   ]
  },
  {
   "cell_type": "markdown",
   "metadata": {},
   "source": [
    "Estructura de  los datos:"
   ]
  },
  {
   "cell_type": "code",
   "execution_count": 12,
   "metadata": {
    "vscode": {
     "languageId": "r"
    }
   },
   "outputs": [
    {
     "name": "stdout",
     "output_type": "stream",
     "text": [
      "Rows: 87\n",
      "Columns: 24\n",
      "$ CODCNH      \u001b[3m\u001b[90m<dbl>\u001b[39m\u001b[23m 281371, 280745, 281124, 281071, 281292, 281281, 281090, 28…\n",
      "$ Hospital    \u001b[3m\u001b[90m<chr>\u001b[39m\u001b[23m \"HOSPITAL HM VALLES\", \"HOSPITAL UNIVERSITARIO PRINCIPE DE …\n",
      "$ id_area     \u001b[3m\u001b[90m<chr>\u001b[39m\u001b[23m \"03\", \"03\", \"08\", \"08\", \"11\", \"01\", \"06\", \"06\", \"06\", \"11\"…\n",
      "$ nombre_area \u001b[3m\u001b[90m<chr>\u001b[39m\u001b[23m \"Este\", \"Este\", \"Sur-Oeste I\", \"Sur-Oeste I\", \"Sur Ii\", \"S…\n",
      "$ cmunicipio  \u001b[3m\u001b[90m<dbl>\u001b[39m\u001b[23m 280053, 280053, 280072, 280072, 280133, 280148, 280225, 28…\n",
      "$ Municipio   \u001b[3m\u001b[90m<chr>\u001b[39m\u001b[23m \"Alcalá de Henares\", \"Alcalá de Henares\", \"Alcorcón\", \"Alc…\n",
      "$ CAMAS       \u001b[3m\u001b[90m<dbl>\u001b[39m\u001b[23m 20, 507, 81, 402, 98, 132, 170, 53, 192, 339, 344, 217, 13…\n",
      "$ Clase       \u001b[3m\u001b[90m<chr>\u001b[39m\u001b[23m \"Otros Centros con Internamiento\", \"Hospitales Generales\",…\n",
      "$ Dependencia \u001b[3m\u001b[90m<chr>\u001b[39m\u001b[23m \"PRIVADOS\", \"SERVICIOS E INSTITUTOS DE SALUD DE LAS COMUNI…\n",
      "$ TAC         \u001b[3m\u001b[90m<dbl>\u001b[39m\u001b[23m 1, 3, 1, 2, 1, 1, 1, 1, 0, 0, 0, 1, 1, 1, 1, 2, 0, 0, 0, 0…\n",
      "$ RM          \u001b[3m\u001b[90m<dbl>\u001b[39m\u001b[23m 1, 2, 2, 2, 1, 1, 3, 2, 0, 0, 0, 2, 2, 1, 2, 2, 0, 0, 0, 0…\n",
      "$ GAM         \u001b[3m\u001b[90m<dbl>\u001b[39m\u001b[23m 1, 1, 0, 1, 0, 0, 0, 0, 0, 0, 0, 0, 0, 0, 1, 0, 0, 0, 0, 0…\n",
      "$ HEM         \u001b[3m\u001b[90m<dbl>\u001b[39m\u001b[23m 0, 1, 1, 1, 0, 0, 2, 0, 0, 0, 0, 1, 0, 0, 1, 1, 0, 0, 0, 0…\n",
      "$ ASD         \u001b[3m\u001b[90m<dbl>\u001b[39m\u001b[23m 0, 1, 1, 1, 1, 0, 2, 0, 0, 0, 0, 0, 0, 0, 1, 1, 0, 0, 0, 0…\n",
      "$ LIT         \u001b[3m\u001b[90m<dbl>\u001b[39m\u001b[23m 0, 0, 0, 1, 0, 0, 1, 0, 0, 0, 0, 0, 0, 0, 0, 0, 0, 0, 0, 0…\n",
      "$ BCO         \u001b[3m\u001b[90m<dbl>\u001b[39m\u001b[23m 0, 0, 0, 0, 0, 0, 0, 0, 0, 0, 0, 0, 0, 0, 0, 0, 0, 0, 0, 0…\n",
      "$ ALI         \u001b[3m\u001b[90m<dbl>\u001b[39m\u001b[23m 0, 0, 0, 0, 0, 0, 0, 0, 0, 0, 0, 0, 0, 0, 2, 0, 0, 0, 0, 0…\n",
      "$ SPECT       \u001b[3m\u001b[90m<dbl>\u001b[39m\u001b[23m 0, 0, 0, 0, 0, 0, 0, 0, 0, 0, 0, 1, 0, 0, 1, 2, 0, 0, 0, 0…\n",
      "$ PET         \u001b[3m\u001b[90m<dbl>\u001b[39m\u001b[23m 0, 0, 0, 0, 0, 0, 0, 0, 0, 0, 0, 0, 0, 0, 1, 1, 0, 0, 0, 0…\n",
      "$ MAMOS       \u001b[3m\u001b[90m<dbl>\u001b[39m\u001b[23m 1, 2, 1, 2, 1, 1, 1, 1, 0, 0, 0, 1, 0, 2, 1, 1, 0, 0, 0, 0…\n",
      "$ DO          \u001b[3m\u001b[90m<dbl>\u001b[39m\u001b[23m 1, 1, 1, 1, 0, 0, 1, 0, 0, 0, 0, 1, 0, 0, 1, 0, 0, 0, 0, 0…\n",
      "$ DIAL        \u001b[3m\u001b[90m<dbl>\u001b[39m\u001b[23m 0, 28, 0, 28, 13, 18, 1, 0, 0, 0, 0, 18, 0, 25, 0, 24, 0, …\n",
      "$ X           \u001b[3m\u001b[90m<dbl>\u001b[39m\u001b[23m -3.367372, -3.347602, -3.849035, -3.837394, -3.610795, -3.…\n",
      "$ Y           \u001b[3m\u001b[90m<dbl>\u001b[39m\u001b[23m 40.48302, 40.51025, 40.34248, 40.34887, 40.05726, 40.29697…\n"
     ]
    }
   ],
   "source": [
    "data_02 |> glimpse()"
   ]
  },
  {
   "cell_type": "markdown",
   "metadata": {},
   "source": [
    "Muestra de datos:"
   ]
  },
  {
   "cell_type": "code",
   "execution_count": 13,
   "metadata": {
    "vscode": {
     "languageId": "r"
    }
   },
   "outputs": [
    {
     "data": {
      "text/html": [
       "<table class=\"dataframe\">\n",
       "<caption>A spec_tbl_df: 5 x 24</caption>\n",
       "<thead>\n",
       "\t<tr><th scope=col>CODCNH</th><th scope=col>Hospital</th><th scope=col>id_area</th><th scope=col>nombre_area</th><th scope=col>cmunicipio</th><th scope=col>Municipio</th><th scope=col>CAMAS</th><th scope=col>Clase</th><th scope=col>Dependencia</th><th scope=col>TAC</th><th scope=col>...</th><th scope=col>LIT</th><th scope=col>BCO</th><th scope=col>ALI</th><th scope=col>SPECT</th><th scope=col>PET</th><th scope=col>MAMOS</th><th scope=col>DO</th><th scope=col>DIAL</th><th scope=col>X</th><th scope=col>Y</th></tr>\n",
       "\t<tr><th scope=col>&lt;dbl&gt;</th><th scope=col>&lt;chr&gt;</th><th scope=col>&lt;chr&gt;</th><th scope=col>&lt;chr&gt;</th><th scope=col>&lt;dbl&gt;</th><th scope=col>&lt;chr&gt;</th><th scope=col>&lt;dbl&gt;</th><th scope=col>&lt;chr&gt;</th><th scope=col>&lt;chr&gt;</th><th scope=col>&lt;dbl&gt;</th><th scope=col>...</th><th scope=col>&lt;dbl&gt;</th><th scope=col>&lt;dbl&gt;</th><th scope=col>&lt;dbl&gt;</th><th scope=col>&lt;dbl&gt;</th><th scope=col>&lt;dbl&gt;</th><th scope=col>&lt;dbl&gt;</th><th scope=col>&lt;dbl&gt;</th><th scope=col>&lt;dbl&gt;</th><th scope=col>&lt;dbl&gt;</th><th scope=col>&lt;dbl&gt;</th></tr>\n",
       "</thead>\n",
       "<tbody>\n",
       "\t<tr><td>281371</td><td>HOSPITAL HM VALLES                         </td><td>03</td><td>Este       </td><td>280053</td><td>Alcalá de Henares</td><td> 20</td><td>Otros Centros con Internamiento</td><td>PRIVADOS                                                    </td><td>1</td><td>...</td><td>0</td><td>0</td><td>0</td><td>0</td><td>0</td><td>1</td><td>1</td><td> 0</td><td>-3.367372</td><td>40.48302</td></tr>\n",
       "\t<tr><td>280745</td><td>HOSPITAL UNIVERSITARIO PRINCIPE DE ASTURIAS</td><td>03</td><td>Este       </td><td>280053</td><td>Alcalá de Henares</td><td>507</td><td>Hospitales Generales           </td><td>SERVICIOS E INSTITUTOS DE SALUD DE LAS COMUNIDADES AUTÓNOMAS</td><td>3</td><td>...</td><td>0</td><td>0</td><td>0</td><td>0</td><td>0</td><td>2</td><td>1</td><td>28</td><td>-3.347602</td><td>40.51025</td></tr>\n",
       "\t<tr><td>281124</td><td>HOSPITAL QUIRONSALUD SUR                   </td><td>08</td><td>Sur-Oeste I</td><td>280072</td><td>Alcorcón         </td><td> 81</td><td>Hospitales Generales           </td><td>PRIVADOS                                                    </td><td>1</td><td>...</td><td>0</td><td>0</td><td>0</td><td>0</td><td>0</td><td>1</td><td>1</td><td> 0</td><td>-3.849035</td><td>40.34248</td></tr>\n",
       "\t<tr><td>281071</td><td>HOSPITAL UNIVERSITARIO FUNDACION ALCORCON  </td><td>08</td><td>Sur-Oeste I</td><td>280072</td><td>Alcorcón         </td><td>402</td><td>Hospitales Generales           </td><td>SERVICIOS E INSTITUTOS DE SALUD DE LAS COMUNIDADES AUTÓNOMAS</td><td>2</td><td>...</td><td>1</td><td>0</td><td>0</td><td>0</td><td>0</td><td>2</td><td>1</td><td>28</td><td>-3.837394</td><td>40.34887</td></tr>\n",
       "\t<tr><td>281292</td><td>HOSPITAL DEL TAJO S.A.                     </td><td>11</td><td>Sur Ii     </td><td>280133</td><td>Aranjuez         </td><td> 98</td><td>Hospitales Generales           </td><td>SERVICIOS E INSTITUTOS DE SALUD DE LAS COMUNIDADES AUTÓNOMAS</td><td>1</td><td>...</td><td>0</td><td>0</td><td>0</td><td>0</td><td>0</td><td>1</td><td>0</td><td>13</td><td>-3.610795</td><td>40.05726</td></tr>\n",
       "</tbody>\n",
       "</table>\n"
      ],
      "text/latex": [
       "A spec\\_tbl\\_df: 5 x 24\n",
       "\\begin{tabular}{lllllllllllllllllllll}\n",
       " CODCNH & Hospital & id\\_area & nombre\\_area & cmunicipio & Municipio & CAMAS & Clase & Dependencia & TAC & ... & LIT & BCO & ALI & SPECT & PET & MAMOS & DO & DIAL & X & Y\\\\\n",
       " <dbl> & <chr> & <chr> & <chr> & <dbl> & <chr> & <dbl> & <chr> & <chr> & <dbl> & ... & <dbl> & <dbl> & <dbl> & <dbl> & <dbl> & <dbl> & <dbl> & <dbl> & <dbl> & <dbl>\\\\\n",
       "\\hline\n",
       "\t 281371 & HOSPITAL HM VALLES                          & 03 & Este        & 280053 & Alcalá de Henares &  20 & Otros Centros con Internamiento & PRIVADOS                                                     & 1 & ... & 0 & 0 & 0 & 0 & 0 & 1 & 1 &  0 & -3.367372 & 40.48302\\\\\n",
       "\t 280745 & HOSPITAL UNIVERSITARIO PRINCIPE DE ASTURIAS & 03 & Este        & 280053 & Alcalá de Henares & 507 & Hospitales Generales            & SERVICIOS E INSTITUTOS DE SALUD DE LAS COMUNIDADES AUTÓNOMAS & 3 & ... & 0 & 0 & 0 & 0 & 0 & 2 & 1 & 28 & -3.347602 & 40.51025\\\\\n",
       "\t 281124 & HOSPITAL QUIRONSALUD SUR                    & 08 & Sur-Oeste I & 280072 & Alcorcón          &  81 & Hospitales Generales            & PRIVADOS                                                     & 1 & ... & 0 & 0 & 0 & 0 & 0 & 1 & 1 &  0 & -3.849035 & 40.34248\\\\\n",
       "\t 281071 & HOSPITAL UNIVERSITARIO FUNDACION ALCORCON   & 08 & Sur-Oeste I & 280072 & Alcorcón          & 402 & Hospitales Generales            & SERVICIOS E INSTITUTOS DE SALUD DE LAS COMUNIDADES AUTÓNOMAS & 2 & ... & 1 & 0 & 0 & 0 & 0 & 2 & 1 & 28 & -3.837394 & 40.34887\\\\\n",
       "\t 281292 & HOSPITAL DEL TAJO S.A.                      & 11 & Sur Ii      & 280133 & Aranjuez          &  98 & Hospitales Generales            & SERVICIOS E INSTITUTOS DE SALUD DE LAS COMUNIDADES AUTÓNOMAS & 1 & ... & 0 & 0 & 0 & 0 & 0 & 1 & 0 & 13 & -3.610795 & 40.05726\\\\\n",
       "\\end{tabular}\n"
      ],
      "text/markdown": [
       "\n",
       "A spec_tbl_df: 5 x 24\n",
       "\n",
       "| CODCNH &lt;dbl&gt; | Hospital &lt;chr&gt; | id_area &lt;chr&gt; | nombre_area &lt;chr&gt; | cmunicipio &lt;dbl&gt; | Municipio &lt;chr&gt; | CAMAS &lt;dbl&gt; | Clase &lt;chr&gt; | Dependencia &lt;chr&gt; | TAC &lt;dbl&gt; | ... ... | LIT &lt;dbl&gt; | BCO &lt;dbl&gt; | ALI &lt;dbl&gt; | SPECT &lt;dbl&gt; | PET &lt;dbl&gt; | MAMOS &lt;dbl&gt; | DO &lt;dbl&gt; | DIAL &lt;dbl&gt; | X &lt;dbl&gt; | Y &lt;dbl&gt; |\n",
       "|---|---|---|---|---|---|---|---|---|---|---|---|---|---|---|---|---|---|---|---|---|\n",
       "| 281371 | HOSPITAL HM VALLES                          | 03 | Este        | 280053 | Alcalá de Henares |  20 | Otros Centros con Internamiento | PRIVADOS                                                     | 1 | ... | 0 | 0 | 0 | 0 | 0 | 1 | 1 |  0 | -3.367372 | 40.48302 |\n",
       "| 280745 | HOSPITAL UNIVERSITARIO PRINCIPE DE ASTURIAS | 03 | Este        | 280053 | Alcalá de Henares | 507 | Hospitales Generales            | SERVICIOS E INSTITUTOS DE SALUD DE LAS COMUNIDADES AUTÓNOMAS | 3 | ... | 0 | 0 | 0 | 0 | 0 | 2 | 1 | 28 | -3.347602 | 40.51025 |\n",
       "| 281124 | HOSPITAL QUIRONSALUD SUR                    | 08 | Sur-Oeste I | 280072 | Alcorcón          |  81 | Hospitales Generales            | PRIVADOS                                                     | 1 | ... | 0 | 0 | 0 | 0 | 0 | 1 | 1 |  0 | -3.849035 | 40.34248 |\n",
       "| 281071 | HOSPITAL UNIVERSITARIO FUNDACION ALCORCON   | 08 | Sur-Oeste I | 280072 | Alcorcón          | 402 | Hospitales Generales            | SERVICIOS E INSTITUTOS DE SALUD DE LAS COMUNIDADES AUTÓNOMAS | 2 | ... | 1 | 0 | 0 | 0 | 0 | 2 | 1 | 28 | -3.837394 | 40.34887 |\n",
       "| 281292 | HOSPITAL DEL TAJO S.A.                      | 11 | Sur Ii      | 280133 | Aranjuez          |  98 | Hospitales Generales            | SERVICIOS E INSTITUTOS DE SALUD DE LAS COMUNIDADES AUTÓNOMAS | 1 | ... | 0 | 0 | 0 | 0 | 0 | 1 | 0 | 13 | -3.610795 | 40.05726 |\n",
       "\n"
      ],
      "text/plain": [
       "  CODCNH Hospital                                    id_area nombre_area\n",
       "1 281371 HOSPITAL HM VALLES                          03      Este       \n",
       "2 280745 HOSPITAL UNIVERSITARIO PRINCIPE DE ASTURIAS 03      Este       \n",
       "3 281124 HOSPITAL QUIRONSALUD SUR                    08      Sur-Oeste I\n",
       "4 281071 HOSPITAL UNIVERSITARIO FUNDACION ALCORCON   08      Sur-Oeste I\n",
       "5 281292 HOSPITAL DEL TAJO S.A.                      11      Sur Ii     \n",
       "  cmunicipio Municipio         CAMAS Clase                          \n",
       "1 280053     Alcalá de Henares  20   Otros Centros con Internamiento\n",
       "2 280053     Alcalá de Henares 507   Hospitales Generales           \n",
       "3 280072     Alcorcón           81   Hospitales Generales           \n",
       "4 280072     Alcorcón          402   Hospitales Generales           \n",
       "5 280133     Aranjuez           98   Hospitales Generales           \n",
       "  Dependencia                                                  TAC ... LIT BCO\n",
       "1 PRIVADOS                                                     1   ... 0   0  \n",
       "2 SERVICIOS E INSTITUTOS DE SALUD DE LAS COMUNIDADES AUTÓNOMAS 3   ... 0   0  \n",
       "3 PRIVADOS                                                     1   ... 0   0  \n",
       "4 SERVICIOS E INSTITUTOS DE SALUD DE LAS COMUNIDADES AUTÓNOMAS 2   ... 1   0  \n",
       "5 SERVICIOS E INSTITUTOS DE SALUD DE LAS COMUNIDADES AUTÓNOMAS 1   ... 0   0  \n",
       "  ALI SPECT PET MAMOS DO DIAL X         Y       \n",
       "1 0   0     0   1     1   0   -3.367372 40.48302\n",
       "2 0   0     0   2     1  28   -3.347602 40.51025\n",
       "3 0   0     0   1     1   0   -3.849035 40.34248\n",
       "4 0   0     0   2     1  28   -3.837394 40.34887\n",
       "5 0   0     0   1     0  13   -3.610795 40.05726"
      ]
     },
     "metadata": {},
     "output_type": "display_data"
    }
   ],
   "source": [
    "data_02 |> slice_head(n = 5)"
   ]
  },
  {
   "attachments": {},
   "cell_type": "markdown",
   "metadata": {},
   "source": [
    "3. Indicadores áreas"
   ]
  },
  {
   "cell_type": "markdown",
   "metadata": {},
   "source": [
    "<font color='tomato'><b> OPCION A:</b> Seleccionar fichero en ventana para mayor comodidad</font> "
   ]
  },
  {
   "cell_type": "markdown",
   "metadata": {},
   "source": [
    "Data load using the {tcltk} package. Ucomment the line if not using this option"
   ]
  },
  {
   "cell_type": "code",
   "execution_count": 14,
   "metadata": {
    "vscode": {
     "languageId": "r"
    }
   },
   "outputs": [],
   "source": [
    "# file_data_03 <- tcltk::tk_choose.files(multi = FALSE)"
   ]
  },
  {
   "cell_type": "markdown",
   "metadata": {},
   "source": [
    "<font color='tomato'><b> OPCION B:</b> Especificar el nombre de archivo</font>\n",
    "\n"
   ]
  },
  {
   "cell_type": "code",
   "execution_count": 15,
   "metadata": {
    "vscode": {
     "languageId": "r"
    }
   },
   "outputs": [
    {
     "name": "stdout",
     "output_type": "stream",
     "text": [
      "Se leerán datos del archivo:  Data/Input/CU_25_05_06_indicadores_area.csv"
     ]
    }
   ],
   "source": [
    "iFile_03 <- \"CU_25_05_06_indicadores_area.csv\"\n",
    "file_data_03 <- paste0(iPath, iFile_03)\n",
    "\n",
    "if(file.exists(file_data_03)){\n",
    "    cat(\"Se leerán datos del archivo: \", file_data_03)\n",
    "} else{\n",
    "    warning(\"Cuidado: el archivo no existe.\")\n",
    "}\n"
   ]
  },
  {
   "cell_type": "markdown",
   "metadata": {},
   "source": [
    "#### Data file to dataframe\n",
    "\n",
    "Usar la función adecuada según el formato de entrada (xlsx, csv, json, ...)"
   ]
  },
  {
   "cell_type": "code",
   "execution_count": 16,
   "metadata": {
    "vscode": {
     "languageId": "r"
    }
   },
   "outputs": [
    {
     "name": "stderr",
     "output_type": "stream",
     "text": [
      "\u001b[1mRows: \u001b[22m\u001b[34m11\u001b[39m \u001b[1mColumns: \u001b[22m\u001b[34m17\u001b[39m\n",
      "\u001b[36m──\u001b[39m \u001b[1mColumn specification\u001b[22m \u001b[36m────────────────────────────────────────────────────────\u001b[39m\n",
      "\u001b[1mDelimiter:\u001b[22m \",\"\n",
      "\u001b[31mchr\u001b[39m  (2): id_area, nombre_area\n",
      "\u001b[32mdbl\u001b[39m (15): t3_1, t1_1, t2_1, t2_2, t4_1, t4_2, t4_3, t5_1, t6_1, t7_1, t8_1, ...\n",
      "\n",
      "\u001b[36mℹ\u001b[39m Use `spec()` to retrieve the full column specification for this data.\n",
      "\u001b[36mℹ\u001b[39m Specify the column types or set `show_col_types = FALSE` to quiet this message.\n"
     ]
    }
   ],
   "source": [
    "data_03 <- read_csv(file_data_03)\n"
   ]
  },
  {
   "cell_type": "markdown",
   "metadata": {},
   "source": [
    "Estructura de  los datos:"
   ]
  },
  {
   "cell_type": "code",
   "execution_count": 17,
   "metadata": {
    "vscode": {
     "languageId": "r"
    }
   },
   "outputs": [
    {
     "name": "stdout",
     "output_type": "stream",
     "text": [
      "Rows: 11\n",
      "Columns: 17\n",
      "$ id_area     \u001b[3m\u001b[90m<chr>\u001b[39m\u001b[23m \"01\", \"02\", \"03\", \"04\", \"05\", \"06\", \"07\", \"08\", \"09\", \"10\"…\n",
      "$ nombre_area \u001b[3m\u001b[90m<chr>\u001b[39m\u001b[23m \"Sur-Este\", \"Centro-Norte\", \"Este\", \"Noreste\", \"Norte\", \"O…\n",
      "$ t3_1        \u001b[3m\u001b[90m<dbl>\u001b[39m\u001b[23m 41.89330, 44.85910, 41.16384, 43.50412, 41.38840, 40.89333…\n",
      "$ t1_1        \u001b[3m\u001b[90m<dbl>\u001b[39m\u001b[23m 862340, 404085, 383079, 615157, 912485, 763506, 511605, 53…\n",
      "$ t2_1        \u001b[3m\u001b[90m<dbl>\u001b[39m\u001b[23m 0.5207432, 0.5419660, 0.5091281, 0.5321335, 0.5202002, 0.5…\n",
      "$ t2_2        \u001b[3m\u001b[90m<dbl>\u001b[39m\u001b[23m 0.4792568, 0.4580340, 0.4908719, 0.4678665, 0.4791324, 0.4…\n",
      "$ t4_1        \u001b[3m\u001b[90m<dbl>\u001b[39m\u001b[23m 0.1585425, 0.1293202, 0.1671827, 0.1495244, 0.1700457, 0.1…\n",
      "$ t4_2        \u001b[3m\u001b[90m<dbl>\u001b[39m\u001b[23m 0.6732152, 0.6456867, 0.6697046, 0.6530478, 0.6590844, 0.6…\n",
      "$ t4_3        \u001b[3m\u001b[90m<dbl>\u001b[39m\u001b[23m 0.1682410, 0.2249913, 0.1631133, 0.1974297, 0.1702033, 0.1…\n",
      "$ t5_1        \u001b[3m\u001b[90m<dbl>\u001b[39m\u001b[23m 0.1399664, 0.1279791, 0.1520691, 0.1266269, 0.1248427, 0.1…\n",
      "$ t6_1        \u001b[3m\u001b[90m<dbl>\u001b[39m\u001b[23m 0.2042778, 0.1854376, 0.1903965, 0.2132414, 0.1950003, 0.1…\n",
      "$ t7_1        \u001b[3m\u001b[90m<dbl>\u001b[39m\u001b[23m 0.05120722, 0.05930819, 0.05762767, 0.05909755, 0.06406634…\n",
      "$ t8_1        \u001b[3m\u001b[90m<dbl>\u001b[39m\u001b[23m 0.03895576, 0.05200647, 0.04557209, 0.04845935, 0.05318346…\n",
      "$ t9_1        \u001b[3m\u001b[90m<dbl>\u001b[39m\u001b[23m 0.3600324, 0.5572380, 0.3196460, 0.4600102, 0.4872258, 0.5…\n",
      "$ t10_1       \u001b[3m\u001b[90m<dbl>\u001b[39m\u001b[23m 0.14408131, 0.09486110, 0.14520694, 0.11547830, 0.10328147…\n",
      "$ t11_1       \u001b[3m\u001b[90m<dbl>\u001b[39m\u001b[23m 0.5193163, 0.5069128, 0.5250289, 0.5117620, 0.5420084, 0.5…\n",
      "$ t12_1       \u001b[3m\u001b[90m<dbl>\u001b[39m\u001b[23m 0.6047756, 0.5605799, 0.6109222, 0.5773072, 0.6035461, 0.5…\n"
     ]
    }
   ],
   "source": [
    "data_03 |> glimpse()"
   ]
  },
  {
   "cell_type": "markdown",
   "metadata": {},
   "source": [
    "Muestra de datos:"
   ]
  },
  {
   "cell_type": "code",
   "execution_count": 18,
   "metadata": {
    "vscode": {
     "languageId": "r"
    }
   },
   "outputs": [
    {
     "data": {
      "text/html": [
       "<table class=\"dataframe\">\n",
       "<caption>A spec_tbl_df: 5 x 17</caption>\n",
       "<thead>\n",
       "\t<tr><th scope=col>id_area</th><th scope=col>nombre_area</th><th scope=col>t3_1</th><th scope=col>t1_1</th><th scope=col>t2_1</th><th scope=col>t2_2</th><th scope=col>t4_1</th><th scope=col>t4_2</th><th scope=col>t4_3</th><th scope=col>t5_1</th><th scope=col>t6_1</th><th scope=col>t7_1</th><th scope=col>t8_1</th><th scope=col>t9_1</th><th scope=col>t10_1</th><th scope=col>t11_1</th><th scope=col>t12_1</th></tr>\n",
       "\t<tr><th scope=col>&lt;chr&gt;</th><th scope=col>&lt;chr&gt;</th><th scope=col>&lt;dbl&gt;</th><th scope=col>&lt;dbl&gt;</th><th scope=col>&lt;dbl&gt;</th><th scope=col>&lt;dbl&gt;</th><th scope=col>&lt;dbl&gt;</th><th scope=col>&lt;dbl&gt;</th><th scope=col>&lt;dbl&gt;</th><th scope=col>&lt;dbl&gt;</th><th scope=col>&lt;dbl&gt;</th><th scope=col>&lt;dbl&gt;</th><th scope=col>&lt;dbl&gt;</th><th scope=col>&lt;dbl&gt;</th><th scope=col>&lt;dbl&gt;</th><th scope=col>&lt;dbl&gt;</th><th scope=col>&lt;dbl&gt;</th></tr>\n",
       "</thead>\n",
       "<tbody>\n",
       "\t<tr><td>01</td><td>Sur-Este    </td><td>41.89330</td><td>862340</td><td>0.5207432</td><td>0.4792568</td><td>0.1585425</td><td>0.6732152</td><td>0.1682410</td><td>0.1399664</td><td>0.2042778</td><td>0.05120722</td><td>0.03895576</td><td>0.3600324</td><td>0.1440813</td><td>0.5193163</td><td>0.6047756</td></tr>\n",
       "\t<tr><td>02</td><td>Centro-Norte</td><td>44.85910</td><td>404085</td><td>0.5419660</td><td>0.4580340</td><td>0.1293202</td><td>0.6456867</td><td>0.2249913</td><td>0.1279791</td><td>0.1854376</td><td>0.05930819</td><td>0.05200647</td><td>0.5572380</td><td>0.0948611</td><td>0.5069128</td><td>0.5605799</td></tr>\n",
       "\t<tr><td>03</td><td>Este        </td><td>41.16384</td><td>383079</td><td>0.5091281</td><td>0.4908719</td><td>0.1671827</td><td>0.6697046</td><td>0.1631133</td><td>0.1520691</td><td>0.1903965</td><td>0.05762767</td><td>0.04557209</td><td>0.3196460</td><td>0.1452069</td><td>0.5250289</td><td>0.6109222</td></tr>\n",
       "\t<tr><td>04</td><td>Noreste     </td><td>43.50412</td><td>615157</td><td>0.5321335</td><td>0.4678665</td><td>0.1495244</td><td>0.6530478</td><td>0.1974297</td><td>0.1266269</td><td>0.2132414</td><td>0.05909755</td><td>0.04845935</td><td>0.4600102</td><td>0.1154783</td><td>0.5117620</td><td>0.5773072</td></tr>\n",
       "\t<tr><td>05</td><td>Norte       </td><td>41.38840</td><td>912485</td><td>0.5202002</td><td>0.4791324</td><td>0.1700457</td><td>0.6590844</td><td>0.1702033</td><td>0.1248427</td><td>0.1950003</td><td>0.06406634</td><td>0.05318346</td><td>0.4872258</td><td>0.1032815</td><td>0.5420084</td><td>0.6035461</td></tr>\n",
       "</tbody>\n",
       "</table>\n"
      ],
      "text/latex": [
       "A spec\\_tbl\\_df: 5 x 17\n",
       "\\begin{tabular}{lllllllllllllllll}\n",
       " id\\_area & nombre\\_area & t3\\_1 & t1\\_1 & t2\\_1 & t2\\_2 & t4\\_1 & t4\\_2 & t4\\_3 & t5\\_1 & t6\\_1 & t7\\_1 & t8\\_1 & t9\\_1 & t10\\_1 & t11\\_1 & t12\\_1\\\\\n",
       " <chr> & <chr> & <dbl> & <dbl> & <dbl> & <dbl> & <dbl> & <dbl> & <dbl> & <dbl> & <dbl> & <dbl> & <dbl> & <dbl> & <dbl> & <dbl> & <dbl>\\\\\n",
       "\\hline\n",
       "\t 01 & Sur-Este     & 41.89330 & 862340 & 0.5207432 & 0.4792568 & 0.1585425 & 0.6732152 & 0.1682410 & 0.1399664 & 0.2042778 & 0.05120722 & 0.03895576 & 0.3600324 & 0.1440813 & 0.5193163 & 0.6047756\\\\\n",
       "\t 02 & Centro-Norte & 44.85910 & 404085 & 0.5419660 & 0.4580340 & 0.1293202 & 0.6456867 & 0.2249913 & 0.1279791 & 0.1854376 & 0.05930819 & 0.05200647 & 0.5572380 & 0.0948611 & 0.5069128 & 0.5605799\\\\\n",
       "\t 03 & Este         & 41.16384 & 383079 & 0.5091281 & 0.4908719 & 0.1671827 & 0.6697046 & 0.1631133 & 0.1520691 & 0.1903965 & 0.05762767 & 0.04557209 & 0.3196460 & 0.1452069 & 0.5250289 & 0.6109222\\\\\n",
       "\t 04 & Noreste      & 43.50412 & 615157 & 0.5321335 & 0.4678665 & 0.1495244 & 0.6530478 & 0.1974297 & 0.1266269 & 0.2132414 & 0.05909755 & 0.04845935 & 0.4600102 & 0.1154783 & 0.5117620 & 0.5773072\\\\\n",
       "\t 05 & Norte        & 41.38840 & 912485 & 0.5202002 & 0.4791324 & 0.1700457 & 0.6590844 & 0.1702033 & 0.1248427 & 0.1950003 & 0.06406634 & 0.05318346 & 0.4872258 & 0.1032815 & 0.5420084 & 0.6035461\\\\\n",
       "\\end{tabular}\n"
      ],
      "text/markdown": [
       "\n",
       "A spec_tbl_df: 5 x 17\n",
       "\n",
       "| id_area &lt;chr&gt; | nombre_area &lt;chr&gt; | t3_1 &lt;dbl&gt; | t1_1 &lt;dbl&gt; | t2_1 &lt;dbl&gt; | t2_2 &lt;dbl&gt; | t4_1 &lt;dbl&gt; | t4_2 &lt;dbl&gt; | t4_3 &lt;dbl&gt; | t5_1 &lt;dbl&gt; | t6_1 &lt;dbl&gt; | t7_1 &lt;dbl&gt; | t8_1 &lt;dbl&gt; | t9_1 &lt;dbl&gt; | t10_1 &lt;dbl&gt; | t11_1 &lt;dbl&gt; | t12_1 &lt;dbl&gt; |\n",
       "|---|---|---|---|---|---|---|---|---|---|---|---|---|---|---|---|---|\n",
       "| 01 | Sur-Este     | 41.89330 | 862340 | 0.5207432 | 0.4792568 | 0.1585425 | 0.6732152 | 0.1682410 | 0.1399664 | 0.2042778 | 0.05120722 | 0.03895576 | 0.3600324 | 0.1440813 | 0.5193163 | 0.6047756 |\n",
       "| 02 | Centro-Norte | 44.85910 | 404085 | 0.5419660 | 0.4580340 | 0.1293202 | 0.6456867 | 0.2249913 | 0.1279791 | 0.1854376 | 0.05930819 | 0.05200647 | 0.5572380 | 0.0948611 | 0.5069128 | 0.5605799 |\n",
       "| 03 | Este         | 41.16384 | 383079 | 0.5091281 | 0.4908719 | 0.1671827 | 0.6697046 | 0.1631133 | 0.1520691 | 0.1903965 | 0.05762767 | 0.04557209 | 0.3196460 | 0.1452069 | 0.5250289 | 0.6109222 |\n",
       "| 04 | Noreste      | 43.50412 | 615157 | 0.5321335 | 0.4678665 | 0.1495244 | 0.6530478 | 0.1974297 | 0.1266269 | 0.2132414 | 0.05909755 | 0.04845935 | 0.4600102 | 0.1154783 | 0.5117620 | 0.5773072 |\n",
       "| 05 | Norte        | 41.38840 | 912485 | 0.5202002 | 0.4791324 | 0.1700457 | 0.6590844 | 0.1702033 | 0.1248427 | 0.1950003 | 0.06406634 | 0.05318346 | 0.4872258 | 0.1032815 | 0.5420084 | 0.6035461 |\n",
       "\n"
      ],
      "text/plain": [
       "  id_area nombre_area  t3_1     t1_1   t2_1      t2_2      t4_1      t4_2     \n",
       "1 01      Sur-Este     41.89330 862340 0.5207432 0.4792568 0.1585425 0.6732152\n",
       "2 02      Centro-Norte 44.85910 404085 0.5419660 0.4580340 0.1293202 0.6456867\n",
       "3 03      Este         41.16384 383079 0.5091281 0.4908719 0.1671827 0.6697046\n",
       "4 04      Noreste      43.50412 615157 0.5321335 0.4678665 0.1495244 0.6530478\n",
       "5 05      Norte        41.38840 912485 0.5202002 0.4791324 0.1700457 0.6590844\n",
       "  t4_3      t5_1      t6_1      t7_1       t8_1       t9_1      t10_1    \n",
       "1 0.1682410 0.1399664 0.2042778 0.05120722 0.03895576 0.3600324 0.1440813\n",
       "2 0.2249913 0.1279791 0.1854376 0.05930819 0.05200647 0.5572380 0.0948611\n",
       "3 0.1631133 0.1520691 0.1903965 0.05762767 0.04557209 0.3196460 0.1452069\n",
       "4 0.1974297 0.1266269 0.2132414 0.05909755 0.04845935 0.4600102 0.1154783\n",
       "5 0.1702033 0.1248427 0.1950003 0.06406634 0.05318346 0.4872258 0.1032815\n",
       "  t11_1     t12_1    \n",
       "1 0.5193163 0.6047756\n",
       "2 0.5069128 0.5605799\n",
       "3 0.5250289 0.6109222\n",
       "4 0.5117620 0.5773072\n",
       "5 0.5420084 0.6035461"
      ]
     },
     "metadata": {},
     "output_type": "display_data"
    }
   ],
   "source": [
    "data_03 |> slice_head(n = 5)"
   ]
  },
  {
   "cell_type": "markdown",
   "metadata": {
    "slideshow": {
     "slide_type": "slide"
    }
   },
   "source": [
    "## ETL Processes"
   ]
  },
  {
   "attachments": {},
   "cell_type": "markdown",
   "metadata": {
    "slideshow": {
     "slide_type": "slide"
    }
   },
   "source": [
    "### Import data from: CSV, Excel, Tab, JSON, SQL, and Parquet files\n",
    "\n",
    "Se han importado en el apartado Data Load anterior:\n",
    "\n",
    "* Listas de espera reales\n",
    "* Catálogo de hospitales"
   ]
  },
  {
   "attachments": {},
   "cell_type": "markdown",
   "metadata": {},
   "source": [
    "Incluir apartados si procede para: Extracción de datos (select, filter), Transformación de datos, (mutate, joins, ...). Si es necesario tratar datos perdidos, indicarlo también en NB 09.2"
   ]
  },
  {
   "attachments": {},
   "cell_type": "markdown",
   "metadata": {},
   "source": [
    "Si no aplica: Estos datos no requieren tareas de este tipo."
   ]
  },
  {
   "attachments": {},
   "cell_type": "markdown",
   "metadata": {},
   "source": [
    "#### Data transformation"
   ]
  },
  {
   "attachments": {},
   "cell_type": "markdown",
   "metadata": {},
   "source": [
    "* Unión de tablas y agrupar por área.\n"
   ]
  },
  {
   "cell_type": "code",
   "execution_count": 19,
   "metadata": {
    "vscode": {
     "languageId": "r"
    }
   },
   "outputs": [
    {
     "name": "stderr",
     "output_type": "stream",
     "text": [
      "\u001b[1m\u001b[22m`summarise()` has grouped output by 'id_area', 'nombre_area', 'Hospital'. You\n",
      "can override using the `.groups` argument.\n"
     ]
    }
   ],
   "source": [
    "tdata_01 <- data_01 |>\n",
    "    inner_join(data_02 |> select(CODCNH, id_area, nombre_area), by = \"CODCNH\") |>\n",
    "    group_by(id_area, nombre_area, Hospital, Especialidad) |> \n",
    "    summarise(total_pacientes = mean(total_pacientes, na.rm = TRUE),\n",
    "            media_tiempo_dias = mean(media_tiempo_dias, na.rm = TRUE)) |>\n",
    "    ungroup()"
   ]
  },
  {
   "cell_type": "code",
   "execution_count": 20,
   "metadata": {
    "vscode": {
     "languageId": "r"
    }
   },
   "outputs": [
    {
     "name": "stdout",
     "output_type": "stream",
     "text": [
      "Rows: 464\n",
      "Columns: 6\n",
      "$ id_area           \u001b[3m\u001b[90m<chr>\u001b[39m\u001b[23m \"01\", \"01\", \"01\", \"01\", \"01\", \"01\", \"01\", \"01\", \"01\"…\n",
      "$ nombre_area       \u001b[3m\u001b[90m<chr>\u001b[39m\u001b[23m \"Sur-Este\", \"Sur-Este\", \"Sur-Este\", \"Sur-Este\", \"Sur…\n",
      "$ Hospital          \u001b[3m\u001b[90m<chr>\u001b[39m\u001b[23m \"HOSPITAL INFANTIL UNIVERSITARIO NIÑO JESUS\", \"HOSPI…\n",
      "$ Especialidad      \u001b[3m\u001b[90m<chr>\u001b[39m\u001b[23m \"Angiología y Cirugía Vascular\", \"Cirugía Cardiaca\",…\n",
      "$ total_pacientes   \u001b[3m\u001b[90m<dbl>\u001b[39m\u001b[23m 0.00000, 0.00000, 0.00000, 41.93277, 315.46218, 93.2…\n",
      "$ media_tiempo_dias \u001b[3m\u001b[90m<dbl>\u001b[39m\u001b[23m 0.00000, 0.00000, 0.00000, 39.46882, 53.02748, 60.17…\n"
     ]
    }
   ],
   "source": [
    "tdata_01 |> glimpse()\n"
   ]
  },
  {
   "cell_type": "code",
   "execution_count": 21,
   "metadata": {
    "vscode": {
     "languageId": "r"
    }
   },
   "outputs": [
    {
     "data": {
      "text/html": [
       "<table class=\"dataframe\">\n",
       "<caption>A tibble: 5 x 6</caption>\n",
       "<thead>\n",
       "\t<tr><th scope=col>id_area</th><th scope=col>nombre_area</th><th scope=col>Hospital</th><th scope=col>Especialidad</th><th scope=col>total_pacientes</th><th scope=col>media_tiempo_dias</th></tr>\n",
       "\t<tr><th scope=col>&lt;chr&gt;</th><th scope=col>&lt;chr&gt;</th><th scope=col>&lt;chr&gt;</th><th scope=col>&lt;chr&gt;</th><th scope=col>&lt;dbl&gt;</th><th scope=col>&lt;dbl&gt;</th></tr>\n",
       "</thead>\n",
       "<tbody>\n",
       "\t<tr><td>01</td><td>Sur-Este</td><td>HOSPITAL INFANTIL UNIVERSITARIO NIÑO JESUS</td><td>Angiología y Cirugía Vascular          </td><td>  0.00000</td><td> 0.00000</td></tr>\n",
       "\t<tr><td>01</td><td>Sur-Este</td><td>HOSPITAL INFANTIL UNIVERSITARIO NIÑO JESUS</td><td>Cirugía Cardiaca                       </td><td>  0.00000</td><td> 0.00000</td></tr>\n",
       "\t<tr><td>01</td><td>Sur-Este</td><td>HOSPITAL INFANTIL UNIVERSITARIO NIÑO JESUS</td><td>Cirugía General y del Aparato Digestivo</td><td>  0.00000</td><td> 0.00000</td></tr>\n",
       "\t<tr><td>01</td><td>Sur-Este</td><td>HOSPITAL INFANTIL UNIVERSITARIO NIÑO JESUS</td><td>Cirugía Oral y Maxilofacial            </td><td> 41.93277</td><td>39.46882</td></tr>\n",
       "\t<tr><td>01</td><td>Sur-Este</td><td>HOSPITAL INFANTIL UNIVERSITARIO NIÑO JESUS</td><td>Cirugía Pediátrica General             </td><td>315.46218</td><td>53.02748</td></tr>\n",
       "</tbody>\n",
       "</table>\n"
      ],
      "text/latex": [
       "A tibble: 5 x 6\n",
       "\\begin{tabular}{llllll}\n",
       " id\\_area & nombre\\_area & Hospital & Especialidad & total\\_pacientes & media\\_tiempo\\_dias\\\\\n",
       " <chr> & <chr> & <chr> & <chr> & <dbl> & <dbl>\\\\\n",
       "\\hline\n",
       "\t 01 & Sur-Este & HOSPITAL INFANTIL UNIVERSITARIO NIÑO JESUS & Angiología y Cirugía Vascular           &   0.00000 &  0.00000\\\\\n",
       "\t 01 & Sur-Este & HOSPITAL INFANTIL UNIVERSITARIO NIÑO JESUS & Cirugía Cardiaca                        &   0.00000 &  0.00000\\\\\n",
       "\t 01 & Sur-Este & HOSPITAL INFANTIL UNIVERSITARIO NIÑO JESUS & Cirugía General y del Aparato Digestivo &   0.00000 &  0.00000\\\\\n",
       "\t 01 & Sur-Este & HOSPITAL INFANTIL UNIVERSITARIO NIÑO JESUS & Cirugía Oral y Maxilofacial             &  41.93277 & 39.46882\\\\\n",
       "\t 01 & Sur-Este & HOSPITAL INFANTIL UNIVERSITARIO NIÑO JESUS & Cirugía Pediátrica General              & 315.46218 & 53.02748\\\\\n",
       "\\end{tabular}\n"
      ],
      "text/markdown": [
       "\n",
       "A tibble: 5 x 6\n",
       "\n",
       "| id_area &lt;chr&gt; | nombre_area &lt;chr&gt; | Hospital &lt;chr&gt; | Especialidad &lt;chr&gt; | total_pacientes &lt;dbl&gt; | media_tiempo_dias &lt;dbl&gt; |\n",
       "|---|---|---|---|---|---|\n",
       "| 01 | Sur-Este | HOSPITAL INFANTIL UNIVERSITARIO NIÑO JESUS | Angiología y Cirugía Vascular           |   0.00000 |  0.00000 |\n",
       "| 01 | Sur-Este | HOSPITAL INFANTIL UNIVERSITARIO NIÑO JESUS | Cirugía Cardiaca                        |   0.00000 |  0.00000 |\n",
       "| 01 | Sur-Este | HOSPITAL INFANTIL UNIVERSITARIO NIÑO JESUS | Cirugía General y del Aparato Digestivo |   0.00000 |  0.00000 |\n",
       "| 01 | Sur-Este | HOSPITAL INFANTIL UNIVERSITARIO NIÑO JESUS | Cirugía Oral y Maxilofacial             |  41.93277 | 39.46882 |\n",
       "| 01 | Sur-Este | HOSPITAL INFANTIL UNIVERSITARIO NIÑO JESUS | Cirugía Pediátrica General              | 315.46218 | 53.02748 |\n",
       "\n"
      ],
      "text/plain": [
       "  id_area nombre_area Hospital                                  \n",
       "1 01      Sur-Este    HOSPITAL INFANTIL UNIVERSITARIO NIÑO JESUS\n",
       "2 01      Sur-Este    HOSPITAL INFANTIL UNIVERSITARIO NIÑO JESUS\n",
       "3 01      Sur-Este    HOSPITAL INFANTIL UNIVERSITARIO NIÑO JESUS\n",
       "4 01      Sur-Este    HOSPITAL INFANTIL UNIVERSITARIO NIÑO JESUS\n",
       "5 01      Sur-Este    HOSPITAL INFANTIL UNIVERSITARIO NIÑO JESUS\n",
       "  Especialidad                            total_pacientes media_tiempo_dias\n",
       "1 Angiología y Cirugía Vascular             0.00000        0.00000         \n",
       "2 Cirugía Cardiaca                          0.00000        0.00000         \n",
       "3 Cirugía General y del Aparato Digestivo   0.00000        0.00000         \n",
       "4 Cirugía Oral y Maxilofacial              41.93277       39.46882         \n",
       "5 Cirugía Pediátrica General              315.46218       53.02748         "
      ]
     },
     "metadata": {},
     "output_type": "display_data"
    }
   ],
   "source": [
    "tdata_01 |> slice_head(n = 5)"
   ]
  },
  {
   "cell_type": "markdown",
   "metadata": {
    "slideshow": {
     "slide_type": "slide"
    }
   },
   "source": [
    "## Synthetic Data Generation"
   ]
  },
  {
   "attachments": {},
   "cell_type": "markdown",
   "metadata": {
    "slideshow": {
     "slide_type": "slide"
    }
   },
   "source": [
    "* Asignar capacidad\n",
    "* Para cada hospital y especialidad, asignar la capacidad. Se asume la misma capacidad en el tiempo, personas / tiempo"
   ]
  },
  {
   "cell_type": "code",
   "execution_count": 22,
   "metadata": {
    "vscode": {
     "languageId": "r"
    }
   },
   "outputs": [],
   "source": [
    "sdata_01 <- tdata_01 |>\n",
    "    mutate(capacidad = ceiling(total_pacientes/media_tiempo_dias)) |> \n",
    "    replace_na(list(capacidad = 0)) "
   ]
  },
  {
   "cell_type": "code",
   "execution_count": 23,
   "metadata": {
    "vscode": {
     "languageId": "r"
    }
   },
   "outputs": [
    {
     "name": "stdout",
     "output_type": "stream",
     "text": [
      "Rows: 464\n",
      "Columns: 7\n",
      "$ id_area           \u001b[3m\u001b[90m<chr>\u001b[39m\u001b[23m \"01\", \"01\", \"01\", \"01\", \"01\", \"01\", \"01\", \"01\", \"01\"…\n",
      "$ nombre_area       \u001b[3m\u001b[90m<chr>\u001b[39m\u001b[23m \"Sur-Este\", \"Sur-Este\", \"Sur-Este\", \"Sur-Este\", \"Sur…\n",
      "$ Hospital          \u001b[3m\u001b[90m<chr>\u001b[39m\u001b[23m \"HOSPITAL INFANTIL UNIVERSITARIO NIÑO JESUS\", \"HOSPI…\n",
      "$ Especialidad      \u001b[3m\u001b[90m<chr>\u001b[39m\u001b[23m \"Angiología y Cirugía Vascular\", \"Cirugía Cardiaca\",…\n",
      "$ total_pacientes   \u001b[3m\u001b[90m<dbl>\u001b[39m\u001b[23m 0.00000, 0.00000, 0.00000, 41.93277, 315.46218, 93.2…\n",
      "$ media_tiempo_dias \u001b[3m\u001b[90m<dbl>\u001b[39m\u001b[23m 0.00000, 0.00000, 0.00000, 39.46882, 53.02748, 60.17…\n",
      "$ capacidad         \u001b[3m\u001b[90m<dbl>\u001b[39m\u001b[23m 0, 0, 0, 2, 6, 2, 0, 0, 0, 1, 4, 2, 3, 23, 5, 3, 0, …\n"
     ]
    }
   ],
   "source": [
    "sdata_01 |> glimpse()"
   ]
  },
  {
   "cell_type": "code",
   "execution_count": 24,
   "metadata": {
    "vscode": {
     "languageId": "r"
    }
   },
   "outputs": [
    {
     "data": {
      "text/html": [
       "<table class=\"dataframe\">\n",
       "<caption>A tibble: 5 x 7</caption>\n",
       "<thead>\n",
       "\t<tr><th scope=col>id_area</th><th scope=col>nombre_area</th><th scope=col>Hospital</th><th scope=col>Especialidad</th><th scope=col>total_pacientes</th><th scope=col>media_tiempo_dias</th><th scope=col>capacidad</th></tr>\n",
       "\t<tr><th scope=col>&lt;chr&gt;</th><th scope=col>&lt;chr&gt;</th><th scope=col>&lt;chr&gt;</th><th scope=col>&lt;chr&gt;</th><th scope=col>&lt;dbl&gt;</th><th scope=col>&lt;dbl&gt;</th><th scope=col>&lt;dbl&gt;</th></tr>\n",
       "</thead>\n",
       "<tbody>\n",
       "\t<tr><td>01</td><td>Sur-Este</td><td>HOSPITAL INFANTIL UNIVERSITARIO NIÑO JESUS</td><td>Angiología y Cirugía Vascular          </td><td>  0.00000</td><td> 0.00000</td><td>0</td></tr>\n",
       "\t<tr><td>01</td><td>Sur-Este</td><td>HOSPITAL INFANTIL UNIVERSITARIO NIÑO JESUS</td><td>Cirugía Cardiaca                       </td><td>  0.00000</td><td> 0.00000</td><td>0</td></tr>\n",
       "\t<tr><td>01</td><td>Sur-Este</td><td>HOSPITAL INFANTIL UNIVERSITARIO NIÑO JESUS</td><td>Cirugía General y del Aparato Digestivo</td><td>  0.00000</td><td> 0.00000</td><td>0</td></tr>\n",
       "\t<tr><td>01</td><td>Sur-Este</td><td>HOSPITAL INFANTIL UNIVERSITARIO NIÑO JESUS</td><td>Cirugía Oral y Maxilofacial            </td><td> 41.93277</td><td>39.46882</td><td>2</td></tr>\n",
       "\t<tr><td>01</td><td>Sur-Este</td><td>HOSPITAL INFANTIL UNIVERSITARIO NIÑO JESUS</td><td>Cirugía Pediátrica General             </td><td>315.46218</td><td>53.02748</td><td>6</td></tr>\n",
       "</tbody>\n",
       "</table>\n"
      ],
      "text/latex": [
       "A tibble: 5 x 7\n",
       "\\begin{tabular}{lllllll}\n",
       " id\\_area & nombre\\_area & Hospital & Especialidad & total\\_pacientes & media\\_tiempo\\_dias & capacidad\\\\\n",
       " <chr> & <chr> & <chr> & <chr> & <dbl> & <dbl> & <dbl>\\\\\n",
       "\\hline\n",
       "\t 01 & Sur-Este & HOSPITAL INFANTIL UNIVERSITARIO NIÑO JESUS & Angiología y Cirugía Vascular           &   0.00000 &  0.00000 & 0\\\\\n",
       "\t 01 & Sur-Este & HOSPITAL INFANTIL UNIVERSITARIO NIÑO JESUS & Cirugía Cardiaca                        &   0.00000 &  0.00000 & 0\\\\\n",
       "\t 01 & Sur-Este & HOSPITAL INFANTIL UNIVERSITARIO NIÑO JESUS & Cirugía General y del Aparato Digestivo &   0.00000 &  0.00000 & 0\\\\\n",
       "\t 01 & Sur-Este & HOSPITAL INFANTIL UNIVERSITARIO NIÑO JESUS & Cirugía Oral y Maxilofacial             &  41.93277 & 39.46882 & 2\\\\\n",
       "\t 01 & Sur-Este & HOSPITAL INFANTIL UNIVERSITARIO NIÑO JESUS & Cirugía Pediátrica General              & 315.46218 & 53.02748 & 6\\\\\n",
       "\\end{tabular}\n"
      ],
      "text/markdown": [
       "\n",
       "A tibble: 5 x 7\n",
       "\n",
       "| id_area &lt;chr&gt; | nombre_area &lt;chr&gt; | Hospital &lt;chr&gt; | Especialidad &lt;chr&gt; | total_pacientes &lt;dbl&gt; | media_tiempo_dias &lt;dbl&gt; | capacidad &lt;dbl&gt; |\n",
       "|---|---|---|---|---|---|---|\n",
       "| 01 | Sur-Este | HOSPITAL INFANTIL UNIVERSITARIO NIÑO JESUS | Angiología y Cirugía Vascular           |   0.00000 |  0.00000 | 0 |\n",
       "| 01 | Sur-Este | HOSPITAL INFANTIL UNIVERSITARIO NIÑO JESUS | Cirugía Cardiaca                        |   0.00000 |  0.00000 | 0 |\n",
       "| 01 | Sur-Este | HOSPITAL INFANTIL UNIVERSITARIO NIÑO JESUS | Cirugía General y del Aparato Digestivo |   0.00000 |  0.00000 | 0 |\n",
       "| 01 | Sur-Este | HOSPITAL INFANTIL UNIVERSITARIO NIÑO JESUS | Cirugía Oral y Maxilofacial             |  41.93277 | 39.46882 | 2 |\n",
       "| 01 | Sur-Este | HOSPITAL INFANTIL UNIVERSITARIO NIÑO JESUS | Cirugía Pediátrica General              | 315.46218 | 53.02748 | 6 |\n",
       "\n"
      ],
      "text/plain": [
       "  id_area nombre_area Hospital                                  \n",
       "1 01      Sur-Este    HOSPITAL INFANTIL UNIVERSITARIO NIÑO JESUS\n",
       "2 01      Sur-Este    HOSPITAL INFANTIL UNIVERSITARIO NIÑO JESUS\n",
       "3 01      Sur-Este    HOSPITAL INFANTIL UNIVERSITARIO NIÑO JESUS\n",
       "4 01      Sur-Este    HOSPITAL INFANTIL UNIVERSITARIO NIÑO JESUS\n",
       "5 01      Sur-Este    HOSPITAL INFANTIL UNIVERSITARIO NIÑO JESUS\n",
       "  Especialidad                            total_pacientes media_tiempo_dias\n",
       "1 Angiología y Cirugía Vascular             0.00000        0.00000         \n",
       "2 Cirugía Cardiaca                          0.00000        0.00000         \n",
       "3 Cirugía General y del Aparato Digestivo   0.00000        0.00000         \n",
       "4 Cirugía Oral y Maxilofacial              41.93277       39.46882         \n",
       "5 Cirugía Pediátrica General              315.46218       53.02748         \n",
       "  capacidad\n",
       "1 0        \n",
       "2 0        \n",
       "3 0        \n",
       "4 2        \n",
       "5 6        "
      ]
     },
     "metadata": {},
     "output_type": "display_data"
    }
   ],
   "source": [
    "sdata_01 |> slice_head(n = 5)"
   ]
  },
  {
   "attachments": {},
   "cell_type": "markdown",
   "metadata": {},
   "source": [
    "### Data transformation"
   ]
  },
  {
   "attachments": {},
   "cell_type": "markdown",
   "metadata": {},
   "source": [
    "* Agrupar capacidad por área"
   ]
  },
  {
   "cell_type": "code",
   "execution_count": 25,
   "metadata": {
    "vscode": {
     "languageId": "r"
    }
   },
   "outputs": [
    {
     "name": "stderr",
     "output_type": "stream",
     "text": [
      "\u001b[1m\u001b[22m`summarise()` has grouped output by 'id_area', 'nombre_area'. You can override\n",
      "using the `.groups` argument.\n"
     ]
    }
   ],
   "source": [
    "tdata_01_area <- sdata_01 |> \n",
    "  group_by(id_area, nombre_area, Especialidad) |> \n",
    "  summarise(capacidad = sum(capacidad)) |>\n",
    "  ungroup()"
   ]
  },
  {
   "cell_type": "code",
   "execution_count": 26,
   "metadata": {
    "vscode": {
     "languageId": "r"
    }
   },
   "outputs": [
    {
     "name": "stdout",
     "output_type": "stream",
     "text": [
      "Rows: 160\n",
      "Columns: 4\n",
      "$ id_area      \u001b[3m\u001b[90m<chr>\u001b[39m\u001b[23m \"01\", \"01\", \"01\", \"01\", \"01\", \"01\", \"01\", \"01\", \"01\", \"01…\n",
      "$ nombre_area  \u001b[3m\u001b[90m<chr>\u001b[39m\u001b[23m \"Sur-Este\", \"Sur-Este\", \"Sur-Este\", \"Sur-Este\", \"Sur-Este…\n",
      "$ Especialidad \u001b[3m\u001b[90m<chr>\u001b[39m\u001b[23m \"Angiología y Cirugía Vascular\", \"Cirugía Cardiaca\", \"Cir…\n",
      "$ capacidad    \u001b[3m\u001b[90m<dbl>\u001b[39m\u001b[23m 0, 0, 20, 2, 6, 2, 0, 9, 6, 1, 4, 27, 11, 99, 18, 14, 6, …\n"
     ]
    }
   ],
   "source": [
    "tdata_01_area |> glimpse()"
   ]
  },
  {
   "cell_type": "code",
   "execution_count": 27,
   "metadata": {
    "vscode": {
     "languageId": "r"
    }
   },
   "outputs": [
    {
     "data": {
      "text/html": [
       "<table class=\"dataframe\">\n",
       "<caption>A tibble: 5 x 4</caption>\n",
       "<thead>\n",
       "\t<tr><th scope=col>id_area</th><th scope=col>nombre_area</th><th scope=col>Especialidad</th><th scope=col>capacidad</th></tr>\n",
       "\t<tr><th scope=col>&lt;chr&gt;</th><th scope=col>&lt;chr&gt;</th><th scope=col>&lt;chr&gt;</th><th scope=col>&lt;dbl&gt;</th></tr>\n",
       "</thead>\n",
       "<tbody>\n",
       "\t<tr><td>01</td><td>Sur-Este</td><td>Angiología y Cirugía Vascular          </td><td> 0</td></tr>\n",
       "\t<tr><td>01</td><td>Sur-Este</td><td>Cirugía Cardiaca                       </td><td> 0</td></tr>\n",
       "\t<tr><td>01</td><td>Sur-Este</td><td>Cirugía General y del Aparato Digestivo</td><td>20</td></tr>\n",
       "\t<tr><td>01</td><td>Sur-Este</td><td>Cirugía Oral y Maxilofacial            </td><td> 2</td></tr>\n",
       "\t<tr><td>01</td><td>Sur-Este</td><td>Cirugía Pediátrica General             </td><td> 6</td></tr>\n",
       "</tbody>\n",
       "</table>\n"
      ],
      "text/latex": [
       "A tibble: 5 x 4\n",
       "\\begin{tabular}{llll}\n",
       " id\\_area & nombre\\_area & Especialidad & capacidad\\\\\n",
       " <chr> & <chr> & <chr> & <dbl>\\\\\n",
       "\\hline\n",
       "\t 01 & Sur-Este & Angiología y Cirugía Vascular           &  0\\\\\n",
       "\t 01 & Sur-Este & Cirugía Cardiaca                        &  0\\\\\n",
       "\t 01 & Sur-Este & Cirugía General y del Aparato Digestivo & 20\\\\\n",
       "\t 01 & Sur-Este & Cirugía Oral y Maxilofacial             &  2\\\\\n",
       "\t 01 & Sur-Este & Cirugía Pediátrica General              &  6\\\\\n",
       "\\end{tabular}\n"
      ],
      "text/markdown": [
       "\n",
       "A tibble: 5 x 4\n",
       "\n",
       "| id_area &lt;chr&gt; | nombre_area &lt;chr&gt; | Especialidad &lt;chr&gt; | capacidad &lt;dbl&gt; |\n",
       "|---|---|---|---|\n",
       "| 01 | Sur-Este | Angiología y Cirugía Vascular           |  0 |\n",
       "| 01 | Sur-Este | Cirugía Cardiaca                        |  0 |\n",
       "| 01 | Sur-Este | Cirugía General y del Aparato Digestivo | 20 |\n",
       "| 01 | Sur-Este | Cirugía Oral y Maxilofacial             |  2 |\n",
       "| 01 | Sur-Este | Cirugía Pediátrica General              |  6 |\n",
       "\n"
      ],
      "text/plain": [
       "  id_area nombre_area Especialidad                            capacidad\n",
       "1 01      Sur-Este    Angiología y Cirugía Vascular            0       \n",
       "2 01      Sur-Este    Cirugía Cardiaca                         0       \n",
       "3 01      Sur-Este    Cirugía General y del Aparato Digestivo 20       \n",
       "4 01      Sur-Este    Cirugía Oral y Maxilofacial              2       \n",
       "5 01      Sur-Este    Cirugía Pediátrica General               6       "
      ]
     },
     "metadata": {},
     "output_type": "display_data"
    }
   ],
   "source": [
    "tdata_01_area |> slice_head(n = 5)"
   ]
  },
  {
   "cell_type": "markdown",
   "metadata": {
    "slideshow": {
     "slide_type": "slide"
    }
   },
   "source": [
    "## Fake Data Generation"
   ]
  },
  {
   "attachments": {},
   "cell_type": "markdown",
   "metadata": {
    "slideshow": {
     "slide_type": "slide"
    }
   },
   "source": [
    "Proceso de simulación de pacientes, consultas y hospitalizaciones:\n",
    "\n",
    "1. Unión de lista con indicadores\n",
    "2. Simulación de pacientes teniendo en cuenta tamaño de la cola y población del área\n",
    "3. Simulación de consultas teniendo en cuenta el tamaño de la cola\n",
    "4. Simulación de hospitalizaciones teneiendo en cuenta el tamaño de la cola\n",
    "5. Quitar información de indicadores"
   ]
  },
  {
   "cell_type": "code",
   "execution_count": 28,
   "metadata": {
    "vscode": {
     "languageId": "r"
    }
   },
   "outputs": [],
   "source": [
    "set.seed(1)\n",
    "tdata_03 <- data_01 |> \n",
    "       inner_join(data_02 |> select(CODCNH, id_area, nombre_area), by = c(\"CODCNH\")) |>\n",
    "  inner_join(data_03, by = c(\"id_area\", \"nombre_area\")) |> \n",
    "  mutate(pacientes = ceiling((max(c(total_pacientes, 10), na.rm = TRUE)/t1_1)*(1+rnorm(n(), 0.6, 0.1))*t1_1*0.1),\n",
    "         consultas = ceiling(total_pacientes*1.5 + sample(c(-1, 1), 1)*ceiling(rnorm(n(), 50, 10))),\n",
    "         hospitalizaciones = ceiling(total_pacientes*runif(n(), 0, 0.05))) |>\n",
    "  select(-(t3_1:t12_1))"
   ]
  },
  {
   "cell_type": "code",
   "execution_count": 29,
   "metadata": {
    "vscode": {
     "languageId": "r"
    }
   },
   "outputs": [
    {
     "name": "stdout",
     "output_type": "stream",
     "text": [
      "Rows: 55,680\n",
      "Columns: 12\n",
      "$ Hospital          \u001b[3m\u001b[90m<chr>\u001b[39m\u001b[23m \"HOSPITAL CENTRAL DE LA CRUZ ROJA SAN JOSE Y SANTA A…\n",
      "$ Especialidad      \u001b[3m\u001b[90m<chr>\u001b[39m\u001b[23m \"Angiología y Cirugía Vascular\", \"Angiología y Cirug…\n",
      "$ total_pacientes   \u001b[3m\u001b[90m<dbl>\u001b[39m\u001b[23m 439, 437, 429, 419, 418, NA, 408, 399, 396, 393, 378…\n",
      "$ media_tiempo_dias \u001b[3m\u001b[90m<dbl>\u001b[39m\u001b[23m 56.29, 55.13, 53.99, 56.29, 55.82, NA, 57.45, 57.61,…\n",
      "$ ano               \u001b[3m\u001b[90m<dbl>\u001b[39m\u001b[23m 2022, 2022, 2022, 2022, 2022, 2022, 2022, 2022, 2022…\n",
      "$ semana            \u001b[3m\u001b[90m<dbl>\u001b[39m\u001b[23m 44, 43, 42, 41, 40, 39, 38, 37, 36, 35, 34, 33, 32, …\n",
      "$ CODCNH            \u001b[3m\u001b[90m<dbl>\u001b[39m\u001b[23m 280148, 280148, 280148, 280148, 280148, 280148, 2801…\n",
      "$ id_area           \u001b[3m\u001b[90m<chr>\u001b[39m\u001b[23m \"05\", \"05\", \"05\", \"05\", \"05\", \"05\", \"05\", \"05\", \"05\"…\n",
      "$ nombre_area       \u001b[3m\u001b[90m<chr>\u001b[39m\u001b[23m \"Norte\", \"Norte\", \"Norte\", \"Norte\", \"Norte\", \"Norte\"…\n",
      "$ pacientes         \u001b[3m\u001b[90m<dbl>\u001b[39m\u001b[23m 1392, 1465, 1373, 1593, 1478, 1374, 1493, 1515, 1501…\n",
      "$ consultas         \u001b[3m\u001b[90m<dbl>\u001b[39m\u001b[23m 717, 703, 684, 686, 682, NA, 656, 657, 646, 641, 625…\n",
      "$ hospitalizaciones \u001b[3m\u001b[90m<dbl>\u001b[39m\u001b[23m 8, 3, 12, 3, 17, NA, 10, 20, 14, 8, 19, 8, 18, 6, 5,…\n"
     ]
    }
   ],
   "source": [
    "tdata_03 |> glimpse()"
   ]
  },
  {
   "attachments": {},
   "cell_type": "markdown",
   "metadata": {},
   "source": [
    "### Data Extract\n",
    "\n",
    "* Consolidar todos los datos en una sola tabla"
   ]
  },
  {
   "cell_type": "code",
   "execution_count": 30,
   "metadata": {
    "vscode": {
     "languageId": "r"
    }
   },
   "outputs": [
    {
     "data": {
      "text/html": [
       "<table class=\"dataframe\">\n",
       "<caption>A tibble: 55680 x 6</caption>\n",
       "<thead>\n",
       "\t<tr><th scope=col>CODCNH</th><th scope=col>pacientes</th><th scope=col>consultas</th><th scope=col>hospitalizaciones</th><th scope=col>ano</th><th scope=col>semana</th></tr>\n",
       "\t<tr><th scope=col>&lt;dbl&gt;</th><th scope=col>&lt;dbl&gt;</th><th scope=col>&lt;dbl&gt;</th><th scope=col>&lt;dbl&gt;</th><th scope=col>&lt;dbl&gt;</th><th scope=col>&lt;dbl&gt;</th></tr>\n",
       "</thead>\n",
       "<tbody>\n",
       "\t<tr><td>280148</td><td>1392</td><td>717</td><td> 8</td><td>2022</td><td>44</td></tr>\n",
       "\t<tr><td>280148</td><td>1465</td><td>703</td><td> 3</td><td>2022</td><td>43</td></tr>\n",
       "\t<tr><td>280148</td><td>1373</td><td>684</td><td>12</td><td>2022</td><td>42</td></tr>\n",
       "\t<tr><td>280148</td><td>1593</td><td>686</td><td> 3</td><td>2022</td><td>41</td></tr>\n",
       "\t<tr><td>280148</td><td>1478</td><td>682</td><td>17</td><td>2022</td><td>40</td></tr>\n",
       "\t<tr><td>280148</td><td>1374</td><td> NA</td><td>NA</td><td>2022</td><td>39</td></tr>\n",
       "\t<tr><td>280148</td><td>1493</td><td>656</td><td>10</td><td>2022</td><td>38</td></tr>\n",
       "\t<tr><td>280148</td><td>1515</td><td>657</td><td>20</td><td>2022</td><td>37</td></tr>\n",
       "\t<tr><td>280148</td><td>1501</td><td>646</td><td>14</td><td>2022</td><td>36</td></tr>\n",
       "\t<tr><td>280148</td><td>1421</td><td>641</td><td> 8</td><td>2022</td><td>35</td></tr>\n",
       "\t<tr><td>280148</td><td>1585</td><td>625</td><td>19</td><td>2022</td><td>34</td></tr>\n",
       "\t<tr><td>280148</td><td>1484</td><td>619</td><td> 8</td><td>2022</td><td>33</td></tr>\n",
       "\t<tr><td>280148</td><td>1392</td><td>607</td><td>18</td><td>2022</td><td>32</td></tr>\n",
       "\t<tr><td>280148</td><td>1248</td><td>581</td><td> 6</td><td>2022</td><td>31</td></tr>\n",
       "\t<tr><td>280148</td><td>1550</td><td>553</td><td> 5</td><td>2022</td><td>30</td></tr>\n",
       "\t<tr><td>280148</td><td>1445</td><td>539</td><td> 8</td><td>2022</td><td>29</td></tr>\n",
       "\t<tr><td>280148</td><td>1447</td><td>496</td><td>15</td><td>2022</td><td>28</td></tr>\n",
       "\t<tr><td>280148</td><td>1534</td><td>495</td><td>14</td><td>2022</td><td>27</td></tr>\n",
       "\t<tr><td>280148</td><td>1523</td><td>484</td><td> 4</td><td>2022</td><td>25</td></tr>\n",
       "\t<tr><td>280148</td><td>1502</td><td>478</td><td> 5</td><td>2022</td><td>24</td></tr>\n",
       "\t<tr><td>280148</td><td>1532</td><td>460</td><td> 6</td><td>2022</td><td>23</td></tr>\n",
       "\t<tr><td>280148</td><td>1519</td><td>478</td><td> 6</td><td>2022</td><td>22</td></tr>\n",
       "\t<tr><td>280148</td><td>1455</td><td>514</td><td> 6</td><td>2022</td><td>21</td></tr>\n",
       "\t<tr><td>280148</td><td>1269</td><td>569</td><td>14</td><td>2022</td><td>20</td></tr>\n",
       "\t<tr><td>280148</td><td>1505</td><td>572</td><td>15</td><td>2022</td><td>19</td></tr>\n",
       "\t<tr><td>280148</td><td>1444</td><td>578</td><td> 6</td><td>2022</td><td>18</td></tr>\n",
       "\t<tr><td>280148</td><td>1435</td><td>598</td><td> 4</td><td>2022</td><td>17</td></tr>\n",
       "\t<tr><td>280148</td><td>1316</td><td>624</td><td> 1</td><td>2022</td><td>16</td></tr>\n",
       "\t<tr><td>280148</td><td>1405</td><td>630</td><td>15</td><td>2022</td><td>15</td></tr>\n",
       "\t<tr><td>280148</td><td>1486</td><td>625</td><td>10</td><td>2022</td><td>14</td></tr>\n",
       "\t<tr><td>...</td><td>...</td><td>...</td><td>...</td><td>...</td><td>...</td></tr>\n",
       "\t<tr><td>280838</td><td>1275</td><td>3742</td><td> 62</td><td>2021</td><td> 1</td></tr>\n",
       "\t<tr><td>280838</td><td>1445</td><td>4156</td><td> 86</td><td>2020</td><td>51</td></tr>\n",
       "\t<tr><td>280838</td><td>1499</td><td>4128</td><td>104</td><td>2020</td><td>50</td></tr>\n",
       "\t<tr><td>280838</td><td>1396</td><td>4017</td><td>  8</td><td>2020</td><td>49</td></tr>\n",
       "\t<tr><td>280838</td><td>1380</td><td>3932</td><td>109</td><td>2020</td><td>48</td></tr>\n",
       "\t<tr><td>280838</td><td>1566</td><td>3884</td><td> 71</td><td>2020</td><td>47</td></tr>\n",
       "\t<tr><td>280838</td><td>1506</td><td>3855</td><td> 56</td><td>2020</td><td>46</td></tr>\n",
       "\t<tr><td>280838</td><td>1317</td><td>3740</td><td>110</td><td>2020</td><td>45</td></tr>\n",
       "\t<tr><td>280838</td><td>1491</td><td>3729</td><td> 81</td><td>2020</td><td>43</td></tr>\n",
       "\t<tr><td>280838</td><td>1439</td><td>3660</td><td> 62</td><td>2020</td><td>42</td></tr>\n",
       "\t<tr><td>280838</td><td>1369</td><td>3588</td><td> 23</td><td>2020</td><td>41</td></tr>\n",
       "\t<tr><td>280838</td><td>1556</td><td>3438</td><td> 65</td><td>2020</td><td>40</td></tr>\n",
       "\t<tr><td>280838</td><td>1471</td><td>3331</td><td> 64</td><td>2020</td><td>39</td></tr>\n",
       "\t<tr><td>280838</td><td>1488</td><td>3254</td><td> 70</td><td>2020</td><td>38</td></tr>\n",
       "\t<tr><td>280838</td><td>1388</td><td>3225</td><td>100</td><td>2020</td><td>37</td></tr>\n",
       "\t<tr><td>280838</td><td>1434</td><td>3187</td><td> 30</td><td>2020</td><td>36</td></tr>\n",
       "\t<tr><td>280838</td><td>1498</td><td>3263</td><td> 22</td><td>2020</td><td>35</td></tr>\n",
       "\t<tr><td>280838</td><td>1620</td><td>3258</td><td> 59</td><td>2020</td><td>34</td></tr>\n",
       "\t<tr><td>280838</td><td>1489</td><td>3254</td><td> 33</td><td>2020</td><td>33</td></tr>\n",
       "\t<tr><td>280838</td><td>1408</td><td>3252</td><td> 66</td><td>2020</td><td>32</td></tr>\n",
       "\t<tr><td>280838</td><td>1455</td><td>3200</td><td> 71</td><td>2020</td><td>31</td></tr>\n",
       "\t<tr><td>280838</td><td>1318</td><td>3172</td><td> 21</td><td>2020</td><td>30</td></tr>\n",
       "\t<tr><td>280838</td><td>1570</td><td>3315</td><td> 27</td><td>2020</td><td>10</td></tr>\n",
       "\t<tr><td>280838</td><td>1488</td><td>3230</td><td> 38</td><td>2020</td><td> 9</td></tr>\n",
       "\t<tr><td>280838</td><td>1505</td><td>3250</td><td> 36</td><td>2020</td><td> 7</td></tr>\n",
       "\t<tr><td>280838</td><td>1424</td><td>3175</td><td> 98</td><td>2020</td><td> 6</td></tr>\n",
       "\t<tr><td>280838</td><td>1462</td><td>3187</td><td> 86</td><td>2020</td><td> 5</td></tr>\n",
       "\t<tr><td>280838</td><td>1461</td><td>3466</td><td> 83</td><td>2020</td><td> 4</td></tr>\n",
       "\t<tr><td>280838</td><td>1436</td><td>3466</td><td>  3</td><td>2020</td><td> 3</td></tr>\n",
       "\t<tr><td>280838</td><td>1352</td><td>3203</td><td> 30</td><td>2020</td><td> 2</td></tr>\n",
       "</tbody>\n",
       "</table>\n"
      ],
      "text/latex": [
       "A tibble: 55680 x 6\n",
       "\\begin{tabular}{llllll}\n",
       " CODCNH & pacientes & consultas & hospitalizaciones & ano & semana\\\\\n",
       " <dbl> & <dbl> & <dbl> & <dbl> & <dbl> & <dbl>\\\\\n",
       "\\hline\n",
       "\t 280148 & 1392 & 717 &  8 & 2022 & 44\\\\\n",
       "\t 280148 & 1465 & 703 &  3 & 2022 & 43\\\\\n",
       "\t 280148 & 1373 & 684 & 12 & 2022 & 42\\\\\n",
       "\t 280148 & 1593 & 686 &  3 & 2022 & 41\\\\\n",
       "\t 280148 & 1478 & 682 & 17 & 2022 & 40\\\\\n",
       "\t 280148 & 1374 &  NA & NA & 2022 & 39\\\\\n",
       "\t 280148 & 1493 & 656 & 10 & 2022 & 38\\\\\n",
       "\t 280148 & 1515 & 657 & 20 & 2022 & 37\\\\\n",
       "\t 280148 & 1501 & 646 & 14 & 2022 & 36\\\\\n",
       "\t 280148 & 1421 & 641 &  8 & 2022 & 35\\\\\n",
       "\t 280148 & 1585 & 625 & 19 & 2022 & 34\\\\\n",
       "\t 280148 & 1484 & 619 &  8 & 2022 & 33\\\\\n",
       "\t 280148 & 1392 & 607 & 18 & 2022 & 32\\\\\n",
       "\t 280148 & 1248 & 581 &  6 & 2022 & 31\\\\\n",
       "\t 280148 & 1550 & 553 &  5 & 2022 & 30\\\\\n",
       "\t 280148 & 1445 & 539 &  8 & 2022 & 29\\\\\n",
       "\t 280148 & 1447 & 496 & 15 & 2022 & 28\\\\\n",
       "\t 280148 & 1534 & 495 & 14 & 2022 & 27\\\\\n",
       "\t 280148 & 1523 & 484 &  4 & 2022 & 25\\\\\n",
       "\t 280148 & 1502 & 478 &  5 & 2022 & 24\\\\\n",
       "\t 280148 & 1532 & 460 &  6 & 2022 & 23\\\\\n",
       "\t 280148 & 1519 & 478 &  6 & 2022 & 22\\\\\n",
       "\t 280148 & 1455 & 514 &  6 & 2022 & 21\\\\\n",
       "\t 280148 & 1269 & 569 & 14 & 2022 & 20\\\\\n",
       "\t 280148 & 1505 & 572 & 15 & 2022 & 19\\\\\n",
       "\t 280148 & 1444 & 578 &  6 & 2022 & 18\\\\\n",
       "\t 280148 & 1435 & 598 &  4 & 2022 & 17\\\\\n",
       "\t 280148 & 1316 & 624 &  1 & 2022 & 16\\\\\n",
       "\t 280148 & 1405 & 630 & 15 & 2022 & 15\\\\\n",
       "\t 280148 & 1486 & 625 & 10 & 2022 & 14\\\\\n",
       "\t ... & ... & ... & ... & ... & ...\\\\\n",
       "\t 280838 & 1275 & 3742 &  62 & 2021 &  1\\\\\n",
       "\t 280838 & 1445 & 4156 &  86 & 2020 & 51\\\\\n",
       "\t 280838 & 1499 & 4128 & 104 & 2020 & 50\\\\\n",
       "\t 280838 & 1396 & 4017 &   8 & 2020 & 49\\\\\n",
       "\t 280838 & 1380 & 3932 & 109 & 2020 & 48\\\\\n",
       "\t 280838 & 1566 & 3884 &  71 & 2020 & 47\\\\\n",
       "\t 280838 & 1506 & 3855 &  56 & 2020 & 46\\\\\n",
       "\t 280838 & 1317 & 3740 & 110 & 2020 & 45\\\\\n",
       "\t 280838 & 1491 & 3729 &  81 & 2020 & 43\\\\\n",
       "\t 280838 & 1439 & 3660 &  62 & 2020 & 42\\\\\n",
       "\t 280838 & 1369 & 3588 &  23 & 2020 & 41\\\\\n",
       "\t 280838 & 1556 & 3438 &  65 & 2020 & 40\\\\\n",
       "\t 280838 & 1471 & 3331 &  64 & 2020 & 39\\\\\n",
       "\t 280838 & 1488 & 3254 &  70 & 2020 & 38\\\\\n",
       "\t 280838 & 1388 & 3225 & 100 & 2020 & 37\\\\\n",
       "\t 280838 & 1434 & 3187 &  30 & 2020 & 36\\\\\n",
       "\t 280838 & 1498 & 3263 &  22 & 2020 & 35\\\\\n",
       "\t 280838 & 1620 & 3258 &  59 & 2020 & 34\\\\\n",
       "\t 280838 & 1489 & 3254 &  33 & 2020 & 33\\\\\n",
       "\t 280838 & 1408 & 3252 &  66 & 2020 & 32\\\\\n",
       "\t 280838 & 1455 & 3200 &  71 & 2020 & 31\\\\\n",
       "\t 280838 & 1318 & 3172 &  21 & 2020 & 30\\\\\n",
       "\t 280838 & 1570 & 3315 &  27 & 2020 & 10\\\\\n",
       "\t 280838 & 1488 & 3230 &  38 & 2020 &  9\\\\\n",
       "\t 280838 & 1505 & 3250 &  36 & 2020 &  7\\\\\n",
       "\t 280838 & 1424 & 3175 &  98 & 2020 &  6\\\\\n",
       "\t 280838 & 1462 & 3187 &  86 & 2020 &  5\\\\\n",
       "\t 280838 & 1461 & 3466 &  83 & 2020 &  4\\\\\n",
       "\t 280838 & 1436 & 3466 &   3 & 2020 &  3\\\\\n",
       "\t 280838 & 1352 & 3203 &  30 & 2020 &  2\\\\\n",
       "\\end{tabular}\n"
      ],
      "text/markdown": [
       "\n",
       "A tibble: 55680 x 6\n",
       "\n",
       "| CODCNH &lt;dbl&gt; | pacientes &lt;dbl&gt; | consultas &lt;dbl&gt; | hospitalizaciones &lt;dbl&gt; | ano &lt;dbl&gt; | semana &lt;dbl&gt; |\n",
       "|---|---|---|---|---|---|\n",
       "| 280148 | 1392 | 717 |  8 | 2022 | 44 |\n",
       "| 280148 | 1465 | 703 |  3 | 2022 | 43 |\n",
       "| 280148 | 1373 | 684 | 12 | 2022 | 42 |\n",
       "| 280148 | 1593 | 686 |  3 | 2022 | 41 |\n",
       "| 280148 | 1478 | 682 | 17 | 2022 | 40 |\n",
       "| 280148 | 1374 |  NA | NA | 2022 | 39 |\n",
       "| 280148 | 1493 | 656 | 10 | 2022 | 38 |\n",
       "| 280148 | 1515 | 657 | 20 | 2022 | 37 |\n",
       "| 280148 | 1501 | 646 | 14 | 2022 | 36 |\n",
       "| 280148 | 1421 | 641 |  8 | 2022 | 35 |\n",
       "| 280148 | 1585 | 625 | 19 | 2022 | 34 |\n",
       "| 280148 | 1484 | 619 |  8 | 2022 | 33 |\n",
       "| 280148 | 1392 | 607 | 18 | 2022 | 32 |\n",
       "| 280148 | 1248 | 581 |  6 | 2022 | 31 |\n",
       "| 280148 | 1550 | 553 |  5 | 2022 | 30 |\n",
       "| 280148 | 1445 | 539 |  8 | 2022 | 29 |\n",
       "| 280148 | 1447 | 496 | 15 | 2022 | 28 |\n",
       "| 280148 | 1534 | 495 | 14 | 2022 | 27 |\n",
       "| 280148 | 1523 | 484 |  4 | 2022 | 25 |\n",
       "| 280148 | 1502 | 478 |  5 | 2022 | 24 |\n",
       "| 280148 | 1532 | 460 |  6 | 2022 | 23 |\n",
       "| 280148 | 1519 | 478 |  6 | 2022 | 22 |\n",
       "| 280148 | 1455 | 514 |  6 | 2022 | 21 |\n",
       "| 280148 | 1269 | 569 | 14 | 2022 | 20 |\n",
       "| 280148 | 1505 | 572 | 15 | 2022 | 19 |\n",
       "| 280148 | 1444 | 578 |  6 | 2022 | 18 |\n",
       "| 280148 | 1435 | 598 |  4 | 2022 | 17 |\n",
       "| 280148 | 1316 | 624 |  1 | 2022 | 16 |\n",
       "| 280148 | 1405 | 630 | 15 | 2022 | 15 |\n",
       "| 280148 | 1486 | 625 | 10 | 2022 | 14 |\n",
       "| ... | ... | ... | ... | ... | ... |\n",
       "| 280838 | 1275 | 3742 |  62 | 2021 |  1 |\n",
       "| 280838 | 1445 | 4156 |  86 | 2020 | 51 |\n",
       "| 280838 | 1499 | 4128 | 104 | 2020 | 50 |\n",
       "| 280838 | 1396 | 4017 |   8 | 2020 | 49 |\n",
       "| 280838 | 1380 | 3932 | 109 | 2020 | 48 |\n",
       "| 280838 | 1566 | 3884 |  71 | 2020 | 47 |\n",
       "| 280838 | 1506 | 3855 |  56 | 2020 | 46 |\n",
       "| 280838 | 1317 | 3740 | 110 | 2020 | 45 |\n",
       "| 280838 | 1491 | 3729 |  81 | 2020 | 43 |\n",
       "| 280838 | 1439 | 3660 |  62 | 2020 | 42 |\n",
       "| 280838 | 1369 | 3588 |  23 | 2020 | 41 |\n",
       "| 280838 | 1556 | 3438 |  65 | 2020 | 40 |\n",
       "| 280838 | 1471 | 3331 |  64 | 2020 | 39 |\n",
       "| 280838 | 1488 | 3254 |  70 | 2020 | 38 |\n",
       "| 280838 | 1388 | 3225 | 100 | 2020 | 37 |\n",
       "| 280838 | 1434 | 3187 |  30 | 2020 | 36 |\n",
       "| 280838 | 1498 | 3263 |  22 | 2020 | 35 |\n",
       "| 280838 | 1620 | 3258 |  59 | 2020 | 34 |\n",
       "| 280838 | 1489 | 3254 |  33 | 2020 | 33 |\n",
       "| 280838 | 1408 | 3252 |  66 | 2020 | 32 |\n",
       "| 280838 | 1455 | 3200 |  71 | 2020 | 31 |\n",
       "| 280838 | 1318 | 3172 |  21 | 2020 | 30 |\n",
       "| 280838 | 1570 | 3315 |  27 | 2020 | 10 |\n",
       "| 280838 | 1488 | 3230 |  38 | 2020 |  9 |\n",
       "| 280838 | 1505 | 3250 |  36 | 2020 |  7 |\n",
       "| 280838 | 1424 | 3175 |  98 | 2020 |  6 |\n",
       "| 280838 | 1462 | 3187 |  86 | 2020 |  5 |\n",
       "| 280838 | 1461 | 3466 |  83 | 2020 |  4 |\n",
       "| 280838 | 1436 | 3466 |   3 | 2020 |  3 |\n",
       "| 280838 | 1352 | 3203 |  30 | 2020 |  2 |\n",
       "\n"
      ],
      "text/plain": [
       "      CODCNH pacientes consultas hospitalizaciones ano  semana\n",
       "1     280148 1392      717        8                2022 44    \n",
       "2     280148 1465      703        3                2022 43    \n",
       "3     280148 1373      684       12                2022 42    \n",
       "4     280148 1593      686        3                2022 41    \n",
       "5     280148 1478      682       17                2022 40    \n",
       "6     280148 1374       NA       NA                2022 39    \n",
       "7     280148 1493      656       10                2022 38    \n",
       "8     280148 1515      657       20                2022 37    \n",
       "9     280148 1501      646       14                2022 36    \n",
       "10    280148 1421      641        8                2022 35    \n",
       "11    280148 1585      625       19                2022 34    \n",
       "12    280148 1484      619        8                2022 33    \n",
       "13    280148 1392      607       18                2022 32    \n",
       "14    280148 1248      581        6                2022 31    \n",
       "15    280148 1550      553        5                2022 30    \n",
       "16    280148 1445      539        8                2022 29    \n",
       "17    280148 1447      496       15                2022 28    \n",
       "18    280148 1534      495       14                2022 27    \n",
       "19    280148 1523      484        4                2022 25    \n",
       "20    280148 1502      478        5                2022 24    \n",
       "21    280148 1532      460        6                2022 23    \n",
       "22    280148 1519      478        6                2022 22    \n",
       "23    280148 1455      514        6                2022 21    \n",
       "24    280148 1269      569       14                2022 20    \n",
       "25    280148 1505      572       15                2022 19    \n",
       "26    280148 1444      578        6                2022 18    \n",
       "27    280148 1435      598        4                2022 17    \n",
       "28    280148 1316      624        1                2022 16    \n",
       "29    280148 1405      630       15                2022 15    \n",
       "30    280148 1486      625       10                2022 14    \n",
       "...   ...    ...       ...       ...               ...  ...   \n",
       "55651 280838 1275      3742       62               2021  1    \n",
       "55652 280838 1445      4156       86               2020 51    \n",
       "55653 280838 1499      4128      104               2020 50    \n",
       "55654 280838 1396      4017        8               2020 49    \n",
       "55655 280838 1380      3932      109               2020 48    \n",
       "55656 280838 1566      3884       71               2020 47    \n",
       "55657 280838 1506      3855       56               2020 46    \n",
       "55658 280838 1317      3740      110               2020 45    \n",
       "55659 280838 1491      3729       81               2020 43    \n",
       "55660 280838 1439      3660       62               2020 42    \n",
       "55661 280838 1369      3588       23               2020 41    \n",
       "55662 280838 1556      3438       65               2020 40    \n",
       "55663 280838 1471      3331       64               2020 39    \n",
       "55664 280838 1488      3254       70               2020 38    \n",
       "55665 280838 1388      3225      100               2020 37    \n",
       "55666 280838 1434      3187       30               2020 36    \n",
       "55667 280838 1498      3263       22               2020 35    \n",
       "55668 280838 1620      3258       59               2020 34    \n",
       "55669 280838 1489      3254       33               2020 33    \n",
       "55670 280838 1408      3252       66               2020 32    \n",
       "55671 280838 1455      3200       71               2020 31    \n",
       "55672 280838 1318      3172       21               2020 30    \n",
       "55673 280838 1570      3315       27               2020 10    \n",
       "55674 280838 1488      3230       38               2020  9    \n",
       "55675 280838 1505      3250       36               2020  7    \n",
       "55676 280838 1424      3175       98               2020  6    \n",
       "55677 280838 1462      3187       86               2020  5    \n",
       "55678 280838 1461      3466       83               2020  4    \n",
       "55679 280838 1436      3466        3               2020  3    \n",
       "55680 280838 1352      3203       30               2020  2    "
      ]
     },
     "metadata": {},
     "output_type": "display_data"
    }
   ],
   "source": [
    "tdata_03 |> select(CODCNH, pacientes:hospitalizaciones, ano, semana)"
   ]
  },
  {
   "cell_type": "code",
   "execution_count": 31,
   "metadata": {
    "vscode": {
     "languageId": "r"
    }
   },
   "outputs": [
    {
     "data": {
      "text/html": [
       "<style>\n",
       ".list-inline {list-style: none; margin:0; padding: 0}\n",
       ".list-inline>li {display: inline-block}\n",
       ".list-inline>li:not(:last-child)::after {content: \"\\00b7\"; padding: 0 .5ex}\n",
       "</style>\n",
       "<ol class=list-inline><li>'Hospital'</li><li>'Especialidad'</li><li>'total_pacientes'</li><li>'media_tiempo_dias'</li><li>'ano'</li><li>'semana'</li><li>'CODCNH'</li><li>'id_area'</li><li>'nombre_area'</li><li>'cmunicipio'</li><li>'Municipio'</li><li>'CAMAS'</li><li>'Clase'</li><li>'Dependencia'</li><li>'TAC'</li><li>'RM'</li><li>'GAM'</li><li>'HEM'</li><li>'ASD'</li><li>'LIT'</li><li>'BCO'</li><li>'ALI'</li><li>'SPECT'</li><li>'PET'</li><li>'MAMOS'</li><li>'DO'</li><li>'DIAL'</li><li>'X'</li><li>'Y'</li><li>'t3_1'</li><li>'t1_1'</li><li>'t2_1'</li><li>'t2_2'</li><li>'t4_1'</li><li>'t4_2'</li><li>'t4_3'</li><li>'t5_1'</li><li>'t6_1'</li><li>'t7_1'</li><li>'t8_1'</li><li>'t9_1'</li><li>'t10_1'</li><li>'t11_1'</li><li>'t12_1'</li><li>'capacidad'</li></ol>\n"
      ],
      "text/latex": [
       "\\begin{enumerate*}\n",
       "\\item 'Hospital'\n",
       "\\item 'Especialidad'\n",
       "\\item 'total\\_pacientes'\n",
       "\\item 'media\\_tiempo\\_dias'\n",
       "\\item 'ano'\n",
       "\\item 'semana'\n",
       "\\item 'CODCNH'\n",
       "\\item 'id\\_area'\n",
       "\\item 'nombre\\_area'\n",
       "\\item 'cmunicipio'\n",
       "\\item 'Municipio'\n",
       "\\item 'CAMAS'\n",
       "\\item 'Clase'\n",
       "\\item 'Dependencia'\n",
       "\\item 'TAC'\n",
       "\\item 'RM'\n",
       "\\item 'GAM'\n",
       "\\item 'HEM'\n",
       "\\item 'ASD'\n",
       "\\item 'LIT'\n",
       "\\item 'BCO'\n",
       "\\item 'ALI'\n",
       "\\item 'SPECT'\n",
       "\\item 'PET'\n",
       "\\item 'MAMOS'\n",
       "\\item 'DO'\n",
       "\\item 'DIAL'\n",
       "\\item 'X'\n",
       "\\item 'Y'\n",
       "\\item 't3\\_1'\n",
       "\\item 't1\\_1'\n",
       "\\item 't2\\_1'\n",
       "\\item 't2\\_2'\n",
       "\\item 't4\\_1'\n",
       "\\item 't4\\_2'\n",
       "\\item 't4\\_3'\n",
       "\\item 't5\\_1'\n",
       "\\item 't6\\_1'\n",
       "\\item 't7\\_1'\n",
       "\\item 't8\\_1'\n",
       "\\item 't9\\_1'\n",
       "\\item 't10\\_1'\n",
       "\\item 't11\\_1'\n",
       "\\item 't12\\_1'\n",
       "\\item 'capacidad'\n",
       "\\end{enumerate*}\n"
      ],
      "text/markdown": [
       "1. 'Hospital'\n",
       "2. 'Especialidad'\n",
       "3. 'total_pacientes'\n",
       "4. 'media_tiempo_dias'\n",
       "5. 'ano'\n",
       "6. 'semana'\n",
       "7. 'CODCNH'\n",
       "8. 'id_area'\n",
       "9. 'nombre_area'\n",
       "10. 'cmunicipio'\n",
       "11. 'Municipio'\n",
       "12. 'CAMAS'\n",
       "13. 'Clase'\n",
       "14. 'Dependencia'\n",
       "15. 'TAC'\n",
       "16. 'RM'\n",
       "17. 'GAM'\n",
       "18. 'HEM'\n",
       "19. 'ASD'\n",
       "20. 'LIT'\n",
       "21. 'BCO'\n",
       "22. 'ALI'\n",
       "23. 'SPECT'\n",
       "24. 'PET'\n",
       "25. 'MAMOS'\n",
       "26. 'DO'\n",
       "27. 'DIAL'\n",
       "28. 'X'\n",
       "29. 'Y'\n",
       "30. 't3_1'\n",
       "31. 't1_1'\n",
       "32. 't2_1'\n",
       "33. 't2_2'\n",
       "34. 't4_1'\n",
       "35. 't4_2'\n",
       "36. 't4_3'\n",
       "37. 't5_1'\n",
       "38. 't6_1'\n",
       "39. 't7_1'\n",
       "40. 't8_1'\n",
       "41. 't9_1'\n",
       "42. 't10_1'\n",
       "43. 't11_1'\n",
       "44. 't12_1'\n",
       "45. 'capacidad'\n",
       "\n",
       "\n"
      ],
      "text/plain": [
       " [1] \"Hospital\"          \"Especialidad\"      \"total_pacientes\"  \n",
       " [4] \"media_tiempo_dias\" \"ano\"               \"semana\"           \n",
       " [7] \"CODCNH\"            \"id_area\"           \"nombre_area\"      \n",
       "[10] \"cmunicipio\"        \"Municipio\"         \"CAMAS\"            \n",
       "[13] \"Clase\"             \"Dependencia\"       \"TAC\"              \n",
       "[16] \"RM\"                \"GAM\"               \"HEM\"              \n",
       "[19] \"ASD\"               \"LIT\"               \"BCO\"              \n",
       "[22] \"ALI\"               \"SPECT\"             \"PET\"              \n",
       "[25] \"MAMOS\"             \"DO\"                \"DIAL\"             \n",
       "[28] \"X\"                 \"Y\"                 \"t3_1\"             \n",
       "[31] \"t1_1\"              \"t2_1\"              \"t2_2\"             \n",
       "[34] \"t4_1\"              \"t4_2\"              \"t4_3\"             \n",
       "[37] \"t5_1\"              \"t6_1\"              \"t7_1\"             \n",
       "[40] \"t8_1\"              \"t9_1\"              \"t10_1\"            \n",
       "[43] \"t11_1\"             \"t12_1\"             \"capacidad\"        "
      ]
     },
     "metadata": {},
     "output_type": "display_data"
    },
    {
     "data": {
      "text/html": [
       "55680"
      ],
      "text/latex": [
       "55680"
      ],
      "text/markdown": [
       "55680"
      ],
      "text/plain": [
       "[1] 55680"
      ]
     },
     "metadata": {},
     "output_type": "display_data"
    },
    {
     "data": {
      "text/html": [
       "<style>\n",
       ".list-inline {list-style: none; margin:0; padding: 0}\n",
       ".list-inline>li {display: inline-block}\n",
       ".list-inline>li:not(:last-child)::after {content: \"\\00b7\"; padding: 0 .5ex}\n",
       "</style>\n",
       "<ol class=list-inline><li>'CODCNH'</li><li>'pacientes'</li><li>'consultas'</li><li>'hospitalizaciones'</li><li>'ano'</li><li>'semana'</li><li>'Especialidad'</li></ol>\n"
      ],
      "text/latex": [
       "\\begin{enumerate*}\n",
       "\\item 'CODCNH'\n",
       "\\item 'pacientes'\n",
       "\\item 'consultas'\n",
       "\\item 'hospitalizaciones'\n",
       "\\item 'ano'\n",
       "\\item 'semana'\n",
       "\\item 'Especialidad'\n",
       "\\end{enumerate*}\n"
      ],
      "text/markdown": [
       "1. 'CODCNH'\n",
       "2. 'pacientes'\n",
       "3. 'consultas'\n",
       "4. 'hospitalizaciones'\n",
       "5. 'ano'\n",
       "6. 'semana'\n",
       "7. 'Especialidad'\n",
       "\n",
       "\n"
      ],
      "text/plain": [
       "[1] \"CODCNH\"            \"pacientes\"         \"consultas\"        \n",
       "[4] \"hospitalizaciones\" \"ano\"               \"semana\"           \n",
       "[7] \"Especialidad\"     "
      ]
     },
     "metadata": {},
     "output_type": "display_data"
    },
    {
     "data": {
      "text/html": [
       "55680"
      ],
      "text/latex": [
       "55680"
      ],
      "text/markdown": [
       "55680"
      ],
      "text/plain": [
       "[1] 55680"
      ]
     },
     "metadata": {},
     "output_type": "display_data"
    },
    {
     "name": "stderr",
     "output_type": "stream",
     "text": [
      "\u001b[1m\u001b[22mJoining, by = c(\"Especialidad\", \"ano\", \"semana\", \"CODCNH\")\n"
     ]
    },
    {
     "data": {
      "text/html": [
       "<style>\n",
       ".list-inline {list-style: none; margin:0; padding: 0}\n",
       ".list-inline>li {display: inline-block}\n",
       ".list-inline>li:not(:last-child)::after {content: \"\\00b7\"; padding: 0 .5ex}\n",
       "</style>\n",
       "<ol class=list-inline><li>'Hospital'</li><li>'Especialidad'</li><li>'total_pacientes'</li><li>'media_tiempo_dias'</li><li>'ano'</li><li>'semana'</li><li>'CODCNH'</li><li>'id_area'</li><li>'nombre_area'</li><li>'cmunicipio'</li><li>'Municipio'</li><li>'CAMAS'</li><li>'Clase'</li><li>'Dependencia'</li><li>'TAC'</li><li>'RM'</li><li>'GAM'</li><li>'HEM'</li><li>'ASD'</li><li>'LIT'</li><li>'BCO'</li><li>'ALI'</li><li>'SPECT'</li><li>'PET'</li><li>'MAMOS'</li><li>'DO'</li><li>'DIAL'</li><li>'X'</li><li>'Y'</li><li>'t3_1'</li><li>'t1_1'</li><li>'t2_1'</li><li>'t2_2'</li><li>'t4_1'</li><li>'t4_2'</li><li>'t4_3'</li><li>'t5_1'</li><li>'t6_1'</li><li>'t7_1'</li><li>'t8_1'</li><li>'t9_1'</li><li>'t10_1'</li><li>'t11_1'</li><li>'t12_1'</li><li>'capacidad'</li><li>'pacientes'</li><li>'consultas'</li><li>'hospitalizaciones'</li></ol>\n"
      ],
      "text/latex": [
       "\\begin{enumerate*}\n",
       "\\item 'Hospital'\n",
       "\\item 'Especialidad'\n",
       "\\item 'total\\_pacientes'\n",
       "\\item 'media\\_tiempo\\_dias'\n",
       "\\item 'ano'\n",
       "\\item 'semana'\n",
       "\\item 'CODCNH'\n",
       "\\item 'id\\_area'\n",
       "\\item 'nombre\\_area'\n",
       "\\item 'cmunicipio'\n",
       "\\item 'Municipio'\n",
       "\\item 'CAMAS'\n",
       "\\item 'Clase'\n",
       "\\item 'Dependencia'\n",
       "\\item 'TAC'\n",
       "\\item 'RM'\n",
       "\\item 'GAM'\n",
       "\\item 'HEM'\n",
       "\\item 'ASD'\n",
       "\\item 'LIT'\n",
       "\\item 'BCO'\n",
       "\\item 'ALI'\n",
       "\\item 'SPECT'\n",
       "\\item 'PET'\n",
       "\\item 'MAMOS'\n",
       "\\item 'DO'\n",
       "\\item 'DIAL'\n",
       "\\item 'X'\n",
       "\\item 'Y'\n",
       "\\item 't3\\_1'\n",
       "\\item 't1\\_1'\n",
       "\\item 't2\\_1'\n",
       "\\item 't2\\_2'\n",
       "\\item 't4\\_1'\n",
       "\\item 't4\\_2'\n",
       "\\item 't4\\_3'\n",
       "\\item 't5\\_1'\n",
       "\\item 't6\\_1'\n",
       "\\item 't7\\_1'\n",
       "\\item 't8\\_1'\n",
       "\\item 't9\\_1'\n",
       "\\item 't10\\_1'\n",
       "\\item 't11\\_1'\n",
       "\\item 't12\\_1'\n",
       "\\item 'capacidad'\n",
       "\\item 'pacientes'\n",
       "\\item 'consultas'\n",
       "\\item 'hospitalizaciones'\n",
       "\\end{enumerate*}\n"
      ],
      "text/markdown": [
       "1. 'Hospital'\n",
       "2. 'Especialidad'\n",
       "3. 'total_pacientes'\n",
       "4. 'media_tiempo_dias'\n",
       "5. 'ano'\n",
       "6. 'semana'\n",
       "7. 'CODCNH'\n",
       "8. 'id_area'\n",
       "9. 'nombre_area'\n",
       "10. 'cmunicipio'\n",
       "11. 'Municipio'\n",
       "12. 'CAMAS'\n",
       "13. 'Clase'\n",
       "14. 'Dependencia'\n",
       "15. 'TAC'\n",
       "16. 'RM'\n",
       "17. 'GAM'\n",
       "18. 'HEM'\n",
       "19. 'ASD'\n",
       "20. 'LIT'\n",
       "21. 'BCO'\n",
       "22. 'ALI'\n",
       "23. 'SPECT'\n",
       "24. 'PET'\n",
       "25. 'MAMOS'\n",
       "26. 'DO'\n",
       "27. 'DIAL'\n",
       "28. 'X'\n",
       "29. 'Y'\n",
       "30. 't3_1'\n",
       "31. 't1_1'\n",
       "32. 't2_1'\n",
       "33. 't2_2'\n",
       "34. 't4_1'\n",
       "35. 't4_2'\n",
       "36. 't4_3'\n",
       "37. 't5_1'\n",
       "38. 't6_1'\n",
       "39. 't7_1'\n",
       "40. 't8_1'\n",
       "41. 't9_1'\n",
       "42. 't10_1'\n",
       "43. 't11_1'\n",
       "44. 't12_1'\n",
       "45. 'capacidad'\n",
       "46. 'pacientes'\n",
       "47. 'consultas'\n",
       "48. 'hospitalizaciones'\n",
       "\n",
       "\n"
      ],
      "text/plain": [
       " [1] \"Hospital\"          \"Especialidad\"      \"total_pacientes\"  \n",
       " [4] \"media_tiempo_dias\" \"ano\"               \"semana\"           \n",
       " [7] \"CODCNH\"            \"id_area\"           \"nombre_area\"      \n",
       "[10] \"cmunicipio\"        \"Municipio\"         \"CAMAS\"            \n",
       "[13] \"Clase\"             \"Dependencia\"       \"TAC\"              \n",
       "[16] \"RM\"                \"GAM\"               \"HEM\"              \n",
       "[19] \"ASD\"               \"LIT\"               \"BCO\"              \n",
       "[22] \"ALI\"               \"SPECT\"             \"PET\"              \n",
       "[25] \"MAMOS\"             \"DO\"                \"DIAL\"             \n",
       "[28] \"X\"                 \"Y\"                 \"t3_1\"             \n",
       "[31] \"t1_1\"              \"t2_1\"              \"t2_2\"             \n",
       "[34] \"t4_1\"              \"t4_2\"              \"t4_3\"             \n",
       "[37] \"t5_1\"              \"t6_1\"              \"t7_1\"             \n",
       "[40] \"t8_1\"              \"t9_1\"              \"t10_1\"            \n",
       "[43] \"t11_1\"             \"t12_1\"             \"capacidad\"        \n",
       "[46] \"pacientes\"         \"consultas\"         \"hospitalizaciones\""
      ]
     },
     "metadata": {},
     "output_type": "display_data"
    },
    {
     "data": {
      "text/html": [
       "55680"
      ],
      "text/latex": [
       "55680"
      ],
      "text/markdown": [
       "55680"
      ],
      "text/plain": [
       "[1] 55680"
      ]
     },
     "metadata": {},
     "output_type": "display_data"
    },
    {
     "data": {
      "text/html": [
       "1"
      ],
      "text/latex": [
       "1"
      ],
      "text/markdown": [
       "1"
      ],
      "text/plain": [
       "[1] 1"
      ]
     },
     "metadata": {},
     "output_type": "display_data"
    },
    {
     "data": {
      "text/html": [
       "16"
      ],
      "text/latex": [
       "16"
      ],
      "text/markdown": [
       "16"
      ],
      "text/plain": [
       "[1] 16"
      ]
     },
     "metadata": {},
     "output_type": "display_data"
    }
   ],
   "source": [
    "a <- data_01 |> \n",
    "  inner_join(data_02 |> select(-Hospital), by = c(\"CODCNH\")) |>\n",
    "  inner_join(data_03, by = c(\"id_area\", \"nombre_area\")) |>\n",
    "  inner_join(tdata_01_area,  by = c(\"id_area\", \"nombre_area\", \"Especialidad\"))\n",
    " b <-  tdata_03 |> select(CODCNH, pacientes:hospitalizaciones, ano, semana, Especialidad)\n",
    " names(a); nrow(a)\n",
    " names(b); nrow(b)\n",
    " c <- inner_join(a, b)\n",
    " names(c); nrow(c)\n",
    " nrow(c)/nrow(b)\n",
    " length(unique(a$Especialidad))"
   ]
  },
  {
   "cell_type": "code",
   "execution_count": 32,
   "metadata": {
    "vscode": {
     "languageId": "r"
    }
   },
   "outputs": [],
   "source": [
    "data_completo <- data_01 |> \n",
    "  inner_join(data_02 |> select(-Hospital), by = c(\"CODCNH\")) |>\n",
    "  inner_join(data_03, by = c(\"id_area\", \"nombre_area\")) |>\n",
    "  inner_join(tdata_01_area,  by = c(\"id_area\", \"nombre_area\", \"Especialidad\")) |> \n",
    "  inner_join(tdata_03 |> select(CODCNH, Especialidad, ano, semana, pacientes:hospitalizaciones),\n",
    "    by = c(\"CODCNH\", \"Especialidad\", \"ano\", \"semana\"))\n",
    "  "
   ]
  },
  {
   "cell_type": "code",
   "execution_count": 33,
   "metadata": {
    "vscode": {
     "languageId": "r"
    }
   },
   "outputs": [
    {
     "name": "stdout",
     "output_type": "stream",
     "text": [
      "Rows: 55,680\n",
      "Columns: 48\n",
      "$ Hospital          \u001b[3m\u001b[90m<chr>\u001b[39m\u001b[23m \"HOSPITAL CENTRAL DE LA CRUZ ROJA SAN JOSE Y SANTA A…\n",
      "$ Especialidad      \u001b[3m\u001b[90m<chr>\u001b[39m\u001b[23m \"Angiología y Cirugía Vascular\", \"Angiología y Cirug…\n",
      "$ total_pacientes   \u001b[3m\u001b[90m<dbl>\u001b[39m\u001b[23m 439, 437, 429, 419, 418, NA, 408, 399, 396, 393, 378…\n",
      "$ media_tiempo_dias \u001b[3m\u001b[90m<dbl>\u001b[39m\u001b[23m 56.29, 55.13, 53.99, 56.29, 55.82, NA, 57.45, 57.61,…\n",
      "$ ano               \u001b[3m\u001b[90m<dbl>\u001b[39m\u001b[23m 2022, 2022, 2022, 2022, 2022, 2022, 2022, 2022, 2022…\n",
      "$ semana            \u001b[3m\u001b[90m<dbl>\u001b[39m\u001b[23m 44, 43, 42, 41, 40, 39, 38, 37, 36, 35, 34, 33, 32, …\n",
      "$ CODCNH            \u001b[3m\u001b[90m<dbl>\u001b[39m\u001b[23m 280148, 280148, 280148, 280148, 280148, 280148, 2801…\n",
      "$ id_area           \u001b[3m\u001b[90m<chr>\u001b[39m\u001b[23m \"05\", \"05\", \"05\", \"05\", \"05\", \"05\", \"05\", \"05\", \"05\"…\n",
      "$ nombre_area       \u001b[3m\u001b[90m<chr>\u001b[39m\u001b[23m \"Norte\", \"Norte\", \"Norte\", \"Norte\", \"Norte\", \"Norte\"…\n",
      "$ cmunicipio        \u001b[3m\u001b[90m<dbl>\u001b[39m\u001b[23m 280796, 280796, 280796, 280796, 280796, 280796, 2807…\n",
      "$ Municipio         \u001b[3m\u001b[90m<chr>\u001b[39m\u001b[23m \"Madrid\", \"Madrid\", \"Madrid\", \"Madrid\", \"Madrid\", \"M…\n",
      "$ CAMAS             \u001b[3m\u001b[90m<dbl>\u001b[39m\u001b[23m 156, 156, 156, 156, 156, 156, 156, 156, 156, 156, 15…\n",
      "$ Clase             \u001b[3m\u001b[90m<chr>\u001b[39m\u001b[23m \"Otros Centros con Internamiento\", \"Otros Centros co…\n",
      "$ Dependencia       \u001b[3m\u001b[90m<chr>\u001b[39m\u001b[23m \"SERVICIOS E INSTITUTOS DE SALUD DE LAS COMUNIDADES …\n",
      "$ TAC               \u001b[3m\u001b[90m<dbl>\u001b[39m\u001b[23m 1, 1, 1, 1, 1, 1, 1, 1, 1, 1, 1, 1, 1, 1, 1, 1, 1, 1…\n",
      "$ RM                \u001b[3m\u001b[90m<dbl>\u001b[39m\u001b[23m 0, 0, 0, 0, 0, 0, 0, 0, 0, 0, 0, 0, 0, 0, 0, 0, 0, 0…\n",
      "$ GAM               \u001b[3m\u001b[90m<dbl>\u001b[39m\u001b[23m 1, 1, 1, 1, 1, 1, 1, 1, 1, 1, 1, 1, 1, 1, 1, 1, 1, 1…\n",
      "$ HEM               \u001b[3m\u001b[90m<dbl>\u001b[39m\u001b[23m 0, 0, 0, 0, 0, 0, 0, 0, 0, 0, 0, 0, 0, 0, 0, 0, 0, 0…\n",
      "$ ASD               \u001b[3m\u001b[90m<dbl>\u001b[39m\u001b[23m 0, 0, 0, 0, 0, 0, 0, 0, 0, 0, 0, 0, 0, 0, 0, 0, 0, 0…\n",
      "$ LIT               \u001b[3m\u001b[90m<dbl>\u001b[39m\u001b[23m 0, 0, 0, 0, 0, 0, 0, 0, 0, 0, 0, 0, 0, 0, 0, 0, 0, 0…\n",
      "$ BCO               \u001b[3m\u001b[90m<dbl>\u001b[39m\u001b[23m 0, 0, 0, 0, 0, 0, 0, 0, 0, 0, 0, 0, 0, 0, 0, 0, 0, 0…\n",
      "$ ALI               \u001b[3m\u001b[90m<dbl>\u001b[39m\u001b[23m 0, 0, 0, 0, 0, 0, 0, 0, 0, 0, 0, 0, 0, 0, 0, 0, 0, 0…\n",
      "$ SPECT             \u001b[3m\u001b[90m<dbl>\u001b[39m\u001b[23m 0, 0, 0, 0, 0, 0, 0, 0, 0, 0, 0, 0, 0, 0, 0, 0, 0, 0…\n",
      "$ PET               \u001b[3m\u001b[90m<dbl>\u001b[39m\u001b[23m 0, 0, 0, 0, 0, 0, 0, 0, 0, 0, 0, 0, 0, 0, 0, 0, 0, 0…\n",
      "$ MAMOS             \u001b[3m\u001b[90m<dbl>\u001b[39m\u001b[23m 1, 1, 1, 1, 1, 1, 1, 1, 1, 1, 1, 1, 1, 1, 1, 1, 1, 1…\n",
      "$ DO                \u001b[3m\u001b[90m<dbl>\u001b[39m\u001b[23m 0, 0, 0, 0, 0, 0, 0, 0, 0, 0, 0, 0, 0, 0, 0, 0, 0, 0…\n",
      "$ DIAL              \u001b[3m\u001b[90m<dbl>\u001b[39m\u001b[23m 0, 0, 0, 0, 0, 0, 0, 0, 0, 0, 0, 0, 0, 0, 0, 0, 0, 0…\n",
      "$ X                 \u001b[3m\u001b[90m<dbl>\u001b[39m\u001b[23m -3.706932, -3.706932, -3.706932, -3.706932, -3.70693…\n",
      "$ Y                 \u001b[3m\u001b[90m<dbl>\u001b[39m\u001b[23m 40.44715, 40.44715, 40.44715, 40.44715, 40.44715, 40…\n",
      "$ t3_1              \u001b[3m\u001b[90m<dbl>\u001b[39m\u001b[23m 41.3884, 41.3884, 41.3884, 41.3884, 41.3884, 41.3884…\n",
      "$ t1_1              \u001b[3m\u001b[90m<dbl>\u001b[39m\u001b[23m 912485, 912485, 912485, 912485, 912485, 912485, 9124…\n",
      "$ t2_1              \u001b[3m\u001b[90m<dbl>\u001b[39m\u001b[23m 0.5202002, 0.5202002, 0.5202002, 0.5202002, 0.520200…\n",
      "$ t2_2              \u001b[3m\u001b[90m<dbl>\u001b[39m\u001b[23m 0.4791324, 0.4791324, 0.4791324, 0.4791324, 0.479132…\n",
      "$ t4_1              \u001b[3m\u001b[90m<dbl>\u001b[39m\u001b[23m 0.1700457, 0.1700457, 0.1700457, 0.1700457, 0.170045…\n",
      "$ t4_2              \u001b[3m\u001b[90m<dbl>\u001b[39m\u001b[23m 0.6590844, 0.6590844, 0.6590844, 0.6590844, 0.659084…\n",
      "$ t4_3              \u001b[3m\u001b[90m<dbl>\u001b[39m\u001b[23m 0.1702033, 0.1702033, 0.1702033, 0.1702033, 0.170203…\n",
      "$ t5_1              \u001b[3m\u001b[90m<dbl>\u001b[39m\u001b[23m 0.1248427, 0.1248427, 0.1248427, 0.1248427, 0.124842…\n",
      "$ t6_1              \u001b[3m\u001b[90m<dbl>\u001b[39m\u001b[23m 0.1950003, 0.1950003, 0.1950003, 0.1950003, 0.195000…\n",
      "$ t7_1              \u001b[3m\u001b[90m<dbl>\u001b[39m\u001b[23m 0.06406634, 0.06406634, 0.06406634, 0.06406634, 0.06…\n",
      "$ t8_1              \u001b[3m\u001b[90m<dbl>\u001b[39m\u001b[23m 0.05318346, 0.05318346, 0.05318346, 0.05318346, 0.05…\n",
      "$ t9_1              \u001b[3m\u001b[90m<dbl>\u001b[39m\u001b[23m 0.4872258, 0.4872258, 0.4872258, 0.4872258, 0.487225…\n",
      "$ t10_1             \u001b[3m\u001b[90m<dbl>\u001b[39m\u001b[23m 0.1032815, 0.1032815, 0.1032815, 0.1032815, 0.103281…\n",
      "$ t11_1             \u001b[3m\u001b[90m<dbl>\u001b[39m\u001b[23m 0.5420084, 0.5420084, 0.5420084, 0.5420084, 0.542008…\n",
      "$ t12_1             \u001b[3m\u001b[90m<dbl>\u001b[39m\u001b[23m 0.6035461, 0.6035461, 0.6035461, 0.6035461, 0.603546…\n",
      "$ capacidad         \u001b[3m\u001b[90m<dbl>\u001b[39m\u001b[23m 14, 14, 14, 14, 14, 14, 14, 14, 14, 14, 14, 14, 14, …\n",
      "$ pacientes         \u001b[3m\u001b[90m<dbl>\u001b[39m\u001b[23m 1392, 1465, 1373, 1593, 1478, 1374, 1493, 1515, 1501…\n",
      "$ consultas         \u001b[3m\u001b[90m<dbl>\u001b[39m\u001b[23m 717, 703, 684, 686, 682, NA, 656, 657, 646, 641, 625…\n",
      "$ hospitalizaciones \u001b[3m\u001b[90m<dbl>\u001b[39m\u001b[23m 8, 3, 12, 3, 17, NA, 10, 20, 14, 8, 19, 8, 18, 6, 5,…\n"
     ]
    }
   ],
   "source": [
    "\n",
    "data_completo |> glimpse()"
   ]
  },
  {
   "cell_type": "code",
   "execution_count": 34,
   "metadata": {
    "vscode": {
     "languageId": "r"
    }
   },
   "outputs": [
    {
     "data": {
      "text/html": [
       "<table class=\"dataframe\">\n",
       "<caption>A spec_tbl_df: 5 x 48</caption>\n",
       "<thead>\n",
       "\t<tr><th scope=col>Hospital</th><th scope=col>Especialidad</th><th scope=col>total_pacientes</th><th scope=col>media_tiempo_dias</th><th scope=col>ano</th><th scope=col>semana</th><th scope=col>CODCNH</th><th scope=col>id_area</th><th scope=col>nombre_area</th><th scope=col>cmunicipio</th><th scope=col>...</th><th scope=col>t7_1</th><th scope=col>t8_1</th><th scope=col>t9_1</th><th scope=col>t10_1</th><th scope=col>t11_1</th><th scope=col>t12_1</th><th scope=col>capacidad</th><th scope=col>pacientes</th><th scope=col>consultas</th><th scope=col>hospitalizaciones</th></tr>\n",
       "\t<tr><th scope=col>&lt;chr&gt;</th><th scope=col>&lt;chr&gt;</th><th scope=col>&lt;dbl&gt;</th><th scope=col>&lt;dbl&gt;</th><th scope=col>&lt;dbl&gt;</th><th scope=col>&lt;dbl&gt;</th><th scope=col>&lt;dbl&gt;</th><th scope=col>&lt;chr&gt;</th><th scope=col>&lt;chr&gt;</th><th scope=col>&lt;dbl&gt;</th><th scope=col>...</th><th scope=col>&lt;dbl&gt;</th><th scope=col>&lt;dbl&gt;</th><th scope=col>&lt;dbl&gt;</th><th scope=col>&lt;dbl&gt;</th><th scope=col>&lt;dbl&gt;</th><th scope=col>&lt;dbl&gt;</th><th scope=col>&lt;dbl&gt;</th><th scope=col>&lt;dbl&gt;</th><th scope=col>&lt;dbl&gt;</th><th scope=col>&lt;dbl&gt;</th></tr>\n",
       "</thead>\n",
       "<tbody>\n",
       "\t<tr><td>HOSPITAL CENTRAL DE LA CRUZ ROJA SAN JOSE Y SANTA ADELA</td><td>Angiología y Cirugía Vascular</td><td>439</td><td>56.29</td><td>2022</td><td>44</td><td>280148</td><td>05</td><td>Norte</td><td>280796</td><td>...</td><td>0.06406634</td><td>0.05318346</td><td>0.4872258</td><td>0.1032815</td><td>0.5420084</td><td>0.6035461</td><td>14</td><td>1392</td><td>717</td><td> 8</td></tr>\n",
       "\t<tr><td>HOSPITAL CENTRAL DE LA CRUZ ROJA SAN JOSE Y SANTA ADELA</td><td>Angiología y Cirugía Vascular</td><td>437</td><td>55.13</td><td>2022</td><td>43</td><td>280148</td><td>05</td><td>Norte</td><td>280796</td><td>...</td><td>0.06406634</td><td>0.05318346</td><td>0.4872258</td><td>0.1032815</td><td>0.5420084</td><td>0.6035461</td><td>14</td><td>1465</td><td>703</td><td> 3</td></tr>\n",
       "\t<tr><td>HOSPITAL CENTRAL DE LA CRUZ ROJA SAN JOSE Y SANTA ADELA</td><td>Angiología y Cirugía Vascular</td><td>429</td><td>53.99</td><td>2022</td><td>42</td><td>280148</td><td>05</td><td>Norte</td><td>280796</td><td>...</td><td>0.06406634</td><td>0.05318346</td><td>0.4872258</td><td>0.1032815</td><td>0.5420084</td><td>0.6035461</td><td>14</td><td>1373</td><td>684</td><td>12</td></tr>\n",
       "\t<tr><td>HOSPITAL CENTRAL DE LA CRUZ ROJA SAN JOSE Y SANTA ADELA</td><td>Angiología y Cirugía Vascular</td><td>419</td><td>56.29</td><td>2022</td><td>41</td><td>280148</td><td>05</td><td>Norte</td><td>280796</td><td>...</td><td>0.06406634</td><td>0.05318346</td><td>0.4872258</td><td>0.1032815</td><td>0.5420084</td><td>0.6035461</td><td>14</td><td>1593</td><td>686</td><td> 3</td></tr>\n",
       "\t<tr><td>HOSPITAL CENTRAL DE LA CRUZ ROJA SAN JOSE Y SANTA ADELA</td><td>Angiología y Cirugía Vascular</td><td>418</td><td>55.82</td><td>2022</td><td>40</td><td>280148</td><td>05</td><td>Norte</td><td>280796</td><td>...</td><td>0.06406634</td><td>0.05318346</td><td>0.4872258</td><td>0.1032815</td><td>0.5420084</td><td>0.6035461</td><td>14</td><td>1478</td><td>682</td><td>17</td></tr>\n",
       "</tbody>\n",
       "</table>\n"
      ],
      "text/latex": [
       "A spec\\_tbl\\_df: 5 x 48\n",
       "\\begin{tabular}{lllllllllllllllllllll}\n",
       " Hospital & Especialidad & total\\_pacientes & media\\_tiempo\\_dias & ano & semana & CODCNH & id\\_area & nombre\\_area & cmunicipio & ... & t7\\_1 & t8\\_1 & t9\\_1 & t10\\_1 & t11\\_1 & t12\\_1 & capacidad & pacientes & consultas & hospitalizaciones\\\\\n",
       " <chr> & <chr> & <dbl> & <dbl> & <dbl> & <dbl> & <dbl> & <chr> & <chr> & <dbl> & ... & <dbl> & <dbl> & <dbl> & <dbl> & <dbl> & <dbl> & <dbl> & <dbl> & <dbl> & <dbl>\\\\\n",
       "\\hline\n",
       "\t HOSPITAL CENTRAL DE LA CRUZ ROJA SAN JOSE Y SANTA ADELA & Angiología y Cirugía Vascular & 439 & 56.29 & 2022 & 44 & 280148 & 05 & Norte & 280796 & ... & 0.06406634 & 0.05318346 & 0.4872258 & 0.1032815 & 0.5420084 & 0.6035461 & 14 & 1392 & 717 &  8\\\\\n",
       "\t HOSPITAL CENTRAL DE LA CRUZ ROJA SAN JOSE Y SANTA ADELA & Angiología y Cirugía Vascular & 437 & 55.13 & 2022 & 43 & 280148 & 05 & Norte & 280796 & ... & 0.06406634 & 0.05318346 & 0.4872258 & 0.1032815 & 0.5420084 & 0.6035461 & 14 & 1465 & 703 &  3\\\\\n",
       "\t HOSPITAL CENTRAL DE LA CRUZ ROJA SAN JOSE Y SANTA ADELA & Angiología y Cirugía Vascular & 429 & 53.99 & 2022 & 42 & 280148 & 05 & Norte & 280796 & ... & 0.06406634 & 0.05318346 & 0.4872258 & 0.1032815 & 0.5420084 & 0.6035461 & 14 & 1373 & 684 & 12\\\\\n",
       "\t HOSPITAL CENTRAL DE LA CRUZ ROJA SAN JOSE Y SANTA ADELA & Angiología y Cirugía Vascular & 419 & 56.29 & 2022 & 41 & 280148 & 05 & Norte & 280796 & ... & 0.06406634 & 0.05318346 & 0.4872258 & 0.1032815 & 0.5420084 & 0.6035461 & 14 & 1593 & 686 &  3\\\\\n",
       "\t HOSPITAL CENTRAL DE LA CRUZ ROJA SAN JOSE Y SANTA ADELA & Angiología y Cirugía Vascular & 418 & 55.82 & 2022 & 40 & 280148 & 05 & Norte & 280796 & ... & 0.06406634 & 0.05318346 & 0.4872258 & 0.1032815 & 0.5420084 & 0.6035461 & 14 & 1478 & 682 & 17\\\\\n",
       "\\end{tabular}\n"
      ],
      "text/markdown": [
       "\n",
       "A spec_tbl_df: 5 x 48\n",
       "\n",
       "| Hospital &lt;chr&gt; | Especialidad &lt;chr&gt; | total_pacientes &lt;dbl&gt; | media_tiempo_dias &lt;dbl&gt; | ano &lt;dbl&gt; | semana &lt;dbl&gt; | CODCNH &lt;dbl&gt; | id_area &lt;chr&gt; | nombre_area &lt;chr&gt; | cmunicipio &lt;dbl&gt; | ... ... | t7_1 &lt;dbl&gt; | t8_1 &lt;dbl&gt; | t9_1 &lt;dbl&gt; | t10_1 &lt;dbl&gt; | t11_1 &lt;dbl&gt; | t12_1 &lt;dbl&gt; | capacidad &lt;dbl&gt; | pacientes &lt;dbl&gt; | consultas &lt;dbl&gt; | hospitalizaciones &lt;dbl&gt; |\n",
       "|---|---|---|---|---|---|---|---|---|---|---|---|---|---|---|---|---|---|---|---|---|\n",
       "| HOSPITAL CENTRAL DE LA CRUZ ROJA SAN JOSE Y SANTA ADELA | Angiología y Cirugía Vascular | 439 | 56.29 | 2022 | 44 | 280148 | 05 | Norte | 280796 | ... | 0.06406634 | 0.05318346 | 0.4872258 | 0.1032815 | 0.5420084 | 0.6035461 | 14 | 1392 | 717 |  8 |\n",
       "| HOSPITAL CENTRAL DE LA CRUZ ROJA SAN JOSE Y SANTA ADELA | Angiología y Cirugía Vascular | 437 | 55.13 | 2022 | 43 | 280148 | 05 | Norte | 280796 | ... | 0.06406634 | 0.05318346 | 0.4872258 | 0.1032815 | 0.5420084 | 0.6035461 | 14 | 1465 | 703 |  3 |\n",
       "| HOSPITAL CENTRAL DE LA CRUZ ROJA SAN JOSE Y SANTA ADELA | Angiología y Cirugía Vascular | 429 | 53.99 | 2022 | 42 | 280148 | 05 | Norte | 280796 | ... | 0.06406634 | 0.05318346 | 0.4872258 | 0.1032815 | 0.5420084 | 0.6035461 | 14 | 1373 | 684 | 12 |\n",
       "| HOSPITAL CENTRAL DE LA CRUZ ROJA SAN JOSE Y SANTA ADELA | Angiología y Cirugía Vascular | 419 | 56.29 | 2022 | 41 | 280148 | 05 | Norte | 280796 | ... | 0.06406634 | 0.05318346 | 0.4872258 | 0.1032815 | 0.5420084 | 0.6035461 | 14 | 1593 | 686 |  3 |\n",
       "| HOSPITAL CENTRAL DE LA CRUZ ROJA SAN JOSE Y SANTA ADELA | Angiología y Cirugía Vascular | 418 | 55.82 | 2022 | 40 | 280148 | 05 | Norte | 280796 | ... | 0.06406634 | 0.05318346 | 0.4872258 | 0.1032815 | 0.5420084 | 0.6035461 | 14 | 1478 | 682 | 17 |\n",
       "\n"
      ],
      "text/plain": [
       "  Hospital                                               \n",
       "1 HOSPITAL CENTRAL DE LA CRUZ ROJA SAN JOSE Y SANTA ADELA\n",
       "2 HOSPITAL CENTRAL DE LA CRUZ ROJA SAN JOSE Y SANTA ADELA\n",
       "3 HOSPITAL CENTRAL DE LA CRUZ ROJA SAN JOSE Y SANTA ADELA\n",
       "4 HOSPITAL CENTRAL DE LA CRUZ ROJA SAN JOSE Y SANTA ADELA\n",
       "5 HOSPITAL CENTRAL DE LA CRUZ ROJA SAN JOSE Y SANTA ADELA\n",
       "  Especialidad                  total_pacientes media_tiempo_dias ano  semana\n",
       "1 Angiología y Cirugía Vascular 439             56.29             2022 44    \n",
       "2 Angiología y Cirugía Vascular 437             55.13             2022 43    \n",
       "3 Angiología y Cirugía Vascular 429             53.99             2022 42    \n",
       "4 Angiología y Cirugía Vascular 419             56.29             2022 41    \n",
       "5 Angiología y Cirugía Vascular 418             55.82             2022 40    \n",
       "  CODCNH id_area nombre_area cmunicipio ... t7_1       t8_1       t9_1     \n",
       "1 280148 05      Norte       280796     ... 0.06406634 0.05318346 0.4872258\n",
       "2 280148 05      Norte       280796     ... 0.06406634 0.05318346 0.4872258\n",
       "3 280148 05      Norte       280796     ... 0.06406634 0.05318346 0.4872258\n",
       "4 280148 05      Norte       280796     ... 0.06406634 0.05318346 0.4872258\n",
       "5 280148 05      Norte       280796     ... 0.06406634 0.05318346 0.4872258\n",
       "  t10_1     t11_1     t12_1     capacidad pacientes consultas hospitalizaciones\n",
       "1 0.1032815 0.5420084 0.6035461 14        1392      717        8               \n",
       "2 0.1032815 0.5420084 0.6035461 14        1465      703        3               \n",
       "3 0.1032815 0.5420084 0.6035461 14        1373      684       12               \n",
       "4 0.1032815 0.5420084 0.6035461 14        1593      686        3               \n",
       "5 0.1032815 0.5420084 0.6035461 14        1478      682       17               "
      ]
     },
     "metadata": {},
     "output_type": "display_data"
    }
   ],
   "source": [
    "data_completo |> slice_head(n = 5)"
   ]
  },
  {
   "cell_type": "markdown",
   "metadata": {
    "slideshow": {
     "slide_type": "slide"
    }
   },
   "source": [
    "## Open Data"
   ]
  },
  {
   "attachments": {},
   "cell_type": "markdown",
   "metadata": {
    "slideshow": {
     "slide_type": "slide"
    }
   },
   "source": [
    "No aplica"
   ]
  },
  {
   "cell_type": "markdown",
   "metadata": {},
   "source": [
    "## <font color='green'>Data Save</font>"
   ]
  },
  {
   "attachments": {},
   "cell_type": "markdown",
   "metadata": {},
   "source": [
    "Este proceso, puede copiarse y repetirse en aquellas partes del notebbok que necesiten guardar datos.\n",
    "Recuerde cambiar las cadenas añadida del fichero para diferenciarlas"
   ]
  },
  {
   "attachments": {},
   "cell_type": "markdown",
   "metadata": {},
   "source": [
    "1. Datos de capacidad (solo por área y especialidad)"
   ]
  },
  {
   "cell_type": "markdown",
   "metadata": {},
   "source": [
    "<font color='tomato'> Identificamos los datos a guardar</font>"
   ]
  },
  {
   "cell_type": "code",
   "execution_count": 35,
   "metadata": {
    "ExecuteTime": {
     "end_time": "2020-12-25T17:59:27.022001Z",
     "start_time": "2020-12-25T17:59:15.986986Z"
    },
    "scrolled": false,
    "vscode": {
     "languageId": "r"
    }
   },
   "outputs": [],
   "source": [
    "data_to_save_01 <- tdata_01_area"
   ]
  },
  {
   "attachments": {},
   "cell_type": "markdown",
   "metadata": {},
   "source": [
    "\n",
    "<font color='tomato'>Estructura de nombre de archivos:</font>\n",
    "\n",
    "* Código del caso de uso, por ejemplo \"CU_04\"\n",
    "* Número del proceso que lo genera, por ejemplo \"_05\".\n",
    "* Número de la tarea que lo genera, por ejemplo \"_01\"\n",
    "* En caso de generarse varios ficheros en la misma tarea, llevarán _01 _02 ... después\n",
    "* Nombre: identificativo de \"properData\", por ejemplo \"_zonasgeo\"\n",
    "* Extensión del archivo\n",
    "\n",
    "Ejemplo: \"CU_04_05_01_01_zonasgeo.json, primer fichero que se genera en la tarea 01 del proceso 05 (Data Collection) para el caso de uso 04 (vacunas)\n",
    "\n",
    "Importante mantener los guiones bajos antes de proceso, tarea, archivo y nombre"
   ]
  },
  {
   "attachments": {},
   "cell_type": "markdown",
   "metadata": {},
   "source": [
    "### Proceso 05"
   ]
  },
  {
   "cell_type": "code",
   "execution_count": 36,
   "metadata": {
    "ExecuteTime": {
     "end_time": "2020-12-25T17:59:27.022001Z",
     "start_time": "2020-12-25T17:59:15.986986Z"
    },
    "scrolled": false,
    "vscode": {
     "languageId": "r"
    }
   },
   "outputs": [],
   "source": [
    "caso <- \"CU_25\"\n",
    "proceso <- '_05'\n",
    "tarea <- \"_07\"\n",
    "archivo <- \"_01\"\n",
    "proper <- \"_capacidad\"\n",
    "extension <- \".csv\""
   ]
  },
  {
   "attachments": {},
   "cell_type": "markdown",
   "metadata": {},
   "source": [
    "<font color='tomato'><b> OPCION A:</b> Uso del paquete \"tcltk\" para mayor comodidad</font>\n",
    "\n",
    "* Buscar carpeta, escribir nombre de archivo SIN extensión (se especifica en el código)\n",
    "* Especificar sufijo2 si es necesario\n",
    "* Cambiar datos por datos_xx si es necesario"
   ]
  },
  {
   "cell_type": "code",
   "execution_count": 37,
   "metadata": {
    "ExecuteTime": {
     "end_time": "2020-12-25T17:59:27.022001Z",
     "start_time": "2020-12-25T17:59:15.986986Z"
    },
    "scrolled": false,
    "vscode": {
     "languageId": "r"
    }
   },
   "outputs": [],
   "source": [
    "# file_save_01 <- paste0(caso, proceso, tarea, tcltk::tkgetSaveFile(), proper, extension) \n",
    "# path_out_01 <- paste0(oPath, file_save_01)\n",
    "# write_csv(data_to_save_01, path_out_01)\n",
    "\n",
    "# cat('File saved as: ')\n",
    "# path_out_02"
   ]
  },
  {
   "attachments": {},
   "cell_type": "markdown",
   "metadata": {},
   "source": [
    "<font color='tomato'><b> OPCION B:</b> Especificar el nombre de archivo</font>"
   ]
  },
  {
   "attachments": {},
   "cell_type": "markdown",
   "metadata": {},
   "source": [
    "- Los ficheros de salida del proceso van siempre a Data/Output/.  "
   ]
  },
  {
   "cell_type": "code",
   "execution_count": 38,
   "metadata": {
    "ExecuteTime": {
     "end_time": "2021-01-26T18:40:31.258294Z",
     "start_time": "2021-01-26T18:40:26.061847Z"
    },
    "slideshow": {
     "slide_type": "subslide"
    },
    "vscode": {
     "languageId": "r"
    }
   },
   "outputs": [
    {
     "name": "stdout",
     "output_type": "stream",
     "text": [
      "File saved as: "
     ]
    },
    {
     "data": {
      "text/html": [
       "'Data/Output/CU_25_05_07_01_capacidad.csv'"
      ],
      "text/latex": [
       "'Data/Output/CU\\_25\\_05\\_07\\_01\\_capacidad.csv'"
      ],
      "text/markdown": [
       "'Data/Output/CU_25_05_07_01_capacidad.csv'"
      ],
      "text/plain": [
       "[1] \"Data/Output/CU_25_05_07_01_capacidad.csv\""
      ]
     },
     "metadata": {},
     "output_type": "display_data"
    }
   ],
   "source": [
    "file_save_01 <- paste0(caso, proceso, tarea, archivo, proper, extension) \n",
    "path_out_01 <- paste0(oPath, file_save_01)\n",
    "write_csv(data_to_save_01, path_out_01)\n",
    "\n",
    "cat('File saved as: ')\n",
    "path_out_01"
   ]
  },
  {
   "attachments": {},
   "cell_type": "markdown",
   "metadata": {},
   "source": [
    "#### Copia del fichero a Input\n",
    "\n",
    "Si el archivo se va a usar en otros notebooks, copiar a la carpeta Input"
   ]
  },
  {
   "cell_type": "code",
   "execution_count": 39,
   "metadata": {
    "vscode": {
     "languageId": "r"
    }
   },
   "outputs": [
    {
     "data": {
      "text/html": [
       "TRUE"
      ],
      "text/latex": [
       "TRUE"
      ],
      "text/markdown": [
       "TRUE"
      ],
      "text/plain": [
       "[1] TRUE"
      ]
     },
     "metadata": {},
     "output_type": "display_data"
    }
   ],
   "source": [
    "path_in_01 <- paste0(iPath, file_save_01)\n",
    "file.copy(path_out_01, path_in_01, overwrite = TRUE)"
   ]
  },
  {
   "attachments": {},
   "cell_type": "markdown",
   "metadata": {},
   "source": [
    "2. Listas de espera con datos sanitarios"
   ]
  },
  {
   "cell_type": "markdown",
   "metadata": {},
   "source": [
    "<font color='tomato'> Identificamos los datos a guardar</font>"
   ]
  },
  {
   "cell_type": "code",
   "execution_count": 40,
   "metadata": {
    "vscode": {
     "languageId": "r"
    }
   },
   "outputs": [],
   "source": [
    "data_to_save_02 <- tdata_03"
   ]
  },
  {
   "cell_type": "markdown",
   "metadata": {},
   "source": [
    "\n",
    "<font color='tomato'>Estructura de nombre de archivos:</font>\n",
    "\n",
    "* Código del caso de uso, por ejemplo \"CU_04\"\n",
    "* Número del proceso que lo genera, por ejemplo \"_05\".\n",
    "* Número de la tarea que lo genera, por ejemplo \"_01\"\n",
    "* En caso de generarse varios ficheros en la misma tarea, llevarán _01 _02 ... después\n",
    "* Nombre: identificativo de \"properData\", por ejemplo \"_zonasgeo\"\n",
    "* Extensión del archivo\n",
    "\n",
    "Ejemplo: \"CU_04_05_01_01_zonasgeo.json, primer fichero que se genera en la tarea 01 del proceso 05 (Data Collection) para el caso de uso 04 (vacunas)\n",
    "\n",
    "Importante mantener los guiones bajos antes de proceso, tarea, archivo y nombre"
   ]
  },
  {
   "cell_type": "markdown",
   "metadata": {},
   "source": [
    "### Proceso 05"
   ]
  },
  {
   "cell_type": "code",
   "execution_count": 41,
   "metadata": {
    "vscode": {
     "languageId": "r"
    }
   },
   "outputs": [],
   "source": [
    "archivo <- \"_02\"\n",
    "proper <- \"_lista_espera\"\n",
    "extension <- \".csv\""
   ]
  },
  {
   "cell_type": "markdown",
   "metadata": {},
   "source": [
    "<font color='tomato'><b> OPCION A:</b> Uso del paquete \"tcltk\" para mayor comodidad</font>\n",
    "\n",
    "* Buscar carpeta, escribir nombre de archivo SIN extensión (se especifica en el código)\n",
    "* Especificar sufijo2 si es necesario\n",
    "* Cambiar datos por datos_xx si es necesario"
   ]
  },
  {
   "cell_type": "code",
   "execution_count": 42,
   "metadata": {
    "vscode": {
     "languageId": "r"
    }
   },
   "outputs": [],
   "source": [
    "# file_save_02 <- paste0(caso, proceso, tarea, tcltk::tkgetSaveFile(), proper, extension) \n",
    "# path_out_02 <- paste0(oPath, file_save_02)\n",
    "# write_csv(data_to_save_02, path_out_02)\n",
    "\n",
    "# cat('File saved as: ')\n",
    "# path_out_02"
   ]
  },
  {
   "cell_type": "markdown",
   "metadata": {},
   "source": [
    "<font color='tomato'><b> OPCION B:</b> Especificar el nombre de archivo</font>"
   ]
  },
  {
   "cell_type": "markdown",
   "metadata": {},
   "source": [
    "- Los ficheros de salida del proceso van siempre a Data/Output/.  "
   ]
  },
  {
   "cell_type": "code",
   "execution_count": 43,
   "metadata": {
    "vscode": {
     "languageId": "r"
    }
   },
   "outputs": [
    {
     "name": "stdout",
     "output_type": "stream",
     "text": [
      "File saved as: "
     ]
    },
    {
     "data": {
      "text/html": [
       "'Data/Output/CU_25_05_07_02_lista_espera.csv'"
      ],
      "text/latex": [
       "'Data/Output/CU\\_25\\_05\\_07\\_02\\_lista\\_espera.csv'"
      ],
      "text/markdown": [
       "'Data/Output/CU_25_05_07_02_lista_espera.csv'"
      ],
      "text/plain": [
       "[1] \"Data/Output/CU_25_05_07_02_lista_espera.csv\""
      ]
     },
     "metadata": {},
     "output_type": "display_data"
    }
   ],
   "source": [
    "file_save_02 <- paste0(caso, proceso, tarea, archivo, proper, extension) \n",
    "path_out_02 <- paste0(oPath, file_save_02)\n",
    "write_csv(data_to_save_02, path_out_02)\n",
    "\n",
    "cat('File saved as: ')\n",
    "path_out_02"
   ]
  },
  {
   "cell_type": "markdown",
   "metadata": {},
   "source": [
    "#### Copia del fichero a Input\n",
    "\n",
    "Si el archivo se va a usar en otros notebooks, copiar a la carpeta Input"
   ]
  },
  {
   "cell_type": "code",
   "execution_count": 44,
   "metadata": {
    "vscode": {
     "languageId": "r"
    }
   },
   "outputs": [
    {
     "data": {
      "text/html": [
       "TRUE"
      ],
      "text/latex": [
       "TRUE"
      ],
      "text/markdown": [
       "TRUE"
      ],
      "text/plain": [
       "[1] TRUE"
      ]
     },
     "metadata": {},
     "output_type": "display_data"
    }
   ],
   "source": [
    "path_in_02 <- paste0(iPath, file_save_02)\n",
    "file.copy(path_out_02, path_in_02, overwrite = TRUE)"
   ]
  },
  {
   "attachments": {},
   "cell_type": "markdown",
   "metadata": {},
   "source": [
    "3. Datos completos en un archivo"
   ]
  },
  {
   "cell_type": "markdown",
   "metadata": {},
   "source": [
    "<font color='tomato'> Identificamos los datos a guardar</font>"
   ]
  },
  {
   "cell_type": "code",
   "execution_count": 45,
   "metadata": {
    "vscode": {
     "languageId": "r"
    }
   },
   "outputs": [],
   "source": [
    "data_to_save_03 <- data_completo"
   ]
  },
  {
   "cell_type": "markdown",
   "metadata": {},
   "source": [
    "\n",
    "<font color='tomato'>Estructura de nombre de archivos:</font>\n",
    "\n",
    "* Código del caso de uso, por ejemplo \"CU_04\"\n",
    "* Número del proceso que lo genera, por ejemplo \"_05\".\n",
    "* Número de la tarea que lo genera, por ejemplo \"_01\"\n",
    "* En caso de generarse varios ficheros en la misma tarea, llevarán _01 _02 ... después\n",
    "* Nombre: identificativo de \"properData\", por ejemplo \"_zonasgeo\"\n",
    "* Extensión del archivo\n",
    "\n",
    "Ejemplo: \"CU_04_05_01_01_zonasgeo.json, primer fichero que se genera en la tarea 01 del proceso 05 (Data Collection) para el caso de uso 04 (vacunas)\n",
    "\n",
    "Importante mantener los guiones bajos antes de proceso, tarea, archivo y nombre"
   ]
  },
  {
   "cell_type": "markdown",
   "metadata": {},
   "source": [
    "### Proceso 05"
   ]
  },
  {
   "cell_type": "code",
   "execution_count": 46,
   "metadata": {
    "vscode": {
     "languageId": "r"
    }
   },
   "outputs": [],
   "source": [
    "archivo <- \"_03\"\n",
    "proper <- \"_lista_espera_completo\"\n",
    "extension <- \".csv\""
   ]
  },
  {
   "cell_type": "markdown",
   "metadata": {},
   "source": [
    "<font color='tomato'><b> OPCION A:</b> Uso del paquete \"tcltk\" para mayor comodidad</font>\n",
    "\n",
    "* Buscar carpeta, escribir nombre de archivo SIN extensión (se especifica en el código)\n",
    "* Especificar sufijo2 si es necesario\n",
    "* Cambiar datos por datos_xx si es necesario"
   ]
  },
  {
   "cell_type": "code",
   "execution_count": 47,
   "metadata": {
    "vscode": {
     "languageId": "r"
    }
   },
   "outputs": [],
   "source": [
    "# file_save_03 <- paste0(caso, proceso, tarea, tcltk::tkgetSaveFile(), proper, extension) \n",
    "# path_out_03 <- paste0(oPath, file_save_03)\n",
    "# write_csv(data_to_save_03, path_out_03)\n",
    "\n",
    "# cat('File saved as: ')\n",
    "# path_out_03"
   ]
  },
  {
   "cell_type": "markdown",
   "metadata": {},
   "source": [
    "<font color='tomato'><b> OPCION B:</b> Especificar el nombre de archivo</font>"
   ]
  },
  {
   "cell_type": "markdown",
   "metadata": {},
   "source": [
    "- Los ficheros de salida del proceso van siempre a Data/Output/.  "
   ]
  },
  {
   "cell_type": "code",
   "execution_count": 48,
   "metadata": {
    "vscode": {
     "languageId": "r"
    }
   },
   "outputs": [
    {
     "name": "stdout",
     "output_type": "stream",
     "text": [
      "File saved as: "
     ]
    },
    {
     "data": {
      "text/html": [
       "'Data/Output/CU_25_05_07_03_lista_espera_completo.csv'"
      ],
      "text/latex": [
       "'Data/Output/CU\\_25\\_05\\_07\\_03\\_lista\\_espera\\_completo.csv'"
      ],
      "text/markdown": [
       "'Data/Output/CU_25_05_07_03_lista_espera_completo.csv'"
      ],
      "text/plain": [
       "[1] \"Data/Output/CU_25_05_07_03_lista_espera_completo.csv\""
      ]
     },
     "metadata": {},
     "output_type": "display_data"
    }
   ],
   "source": [
    "file_save_03 <- paste0(caso, proceso, tarea, archivo, proper, extension) \n",
    "path_out_03 <- paste0(oPath, file_save_03)\n",
    "write_csv(data_to_save_03, path_out_03)\n",
    "\n",
    "cat('File saved as: ')\n",
    "path_out_03"
   ]
  },
  {
   "cell_type": "markdown",
   "metadata": {},
   "source": [
    "#### Copia del fichero a Input\n",
    "\n",
    "Si el archivo se va a usar en otros notebooks, copiar a la carpeta Input"
   ]
  },
  {
   "cell_type": "code",
   "execution_count": 49,
   "metadata": {
    "vscode": {
     "languageId": "r"
    }
   },
   "outputs": [
    {
     "data": {
      "text/html": [
       "TRUE"
      ],
      "text/latex": [
       "TRUE"
      ],
      "text/markdown": [
       "TRUE"
      ],
      "text/plain": [
       "[1] TRUE"
      ]
     },
     "metadata": {},
     "output_type": "display_data"
    }
   ],
   "source": [
    "path_in_03 <- paste0(iPath, file_save_03)\n",
    "file.copy(path_out_03, path_in_03, overwrite = TRUE)"
   ]
  },
  {
   "cell_type": "markdown",
   "metadata": {},
   "source": [
    "## <font color=' #2874a6 '>Main Conclusions</font>"
   ]
  },
  {
   "cell_type": "markdown",
   "metadata": {
    "slideshow": {
     "slide_type": "slide"
    }
   },
   "source": [
    "<font color='steelblue'>List and describe the general conclusions of the analysis carried out​.</font>"
   ]
  },
  {
   "attachments": {},
   "cell_type": "markdown",
   "metadata": {},
   "source": [
    "### Prerequisites\n",
    "\n",
    "Para que funcione este código se necesita:\n",
    "\n",
    "* Las rutas de archivos `Data/Input` y `Data/Output` deben existir (relativas a la ruta del _notebook_)\n",
    "* El paquete tcltk instalado para seleccionar archivos interactivamente. No se necesita en producción.\n",
    "* Los paquetes readr, dplyr, tidyr deben estar instalados.\n"
   ]
  },
  {
   "attachments": {},
   "cell_type": "markdown",
   "metadata": {},
   "source": [
    "### Configuration Management\n",
    "\n",
    "This notebook has been tested with the following versions of R and packages. It cannot be assured that later versions work in the same way:\n",
    "* R 4.2.2\n",
    "* tcltk 4.2.2\n",
    "* readr 2.1.3\n",
    "* dplyr 1.0.10\n",
    "* tidyr 1.3.0"
   ]
  },
  {
   "attachments": {},
   "cell_type": "markdown",
   "metadata": {},
   "source": [
    "### Data structures"
   ]
  },
  {
   "attachments": {},
   "cell_type": "markdown",
   "metadata": {},
   "source": [
    "#### Objeto `tdata_01_area`\n",
    "\n",
    "- Hay 160 filas con información de las siguientes variables:\n",
    "\t* id_area\n",
    "\t* nombre_area\n",
    "\t* Especialidad\n",
    "\t* capacidad\n"
   ]
  },
  {
   "attachments": {},
   "cell_type": "markdown",
   "metadata": {},
   "source": [
    "#### Observaciones generales sobre los datos\n",
    "\n",
    "* Se dispone de la capacidad global para cada especialidad en cada área\n",
    "* Se entiende que la capacidad dependerá de los quirófanos/equipos de especialistas disponibles en los hospitales\n"
   ]
  },
  {
   "attachments": {},
   "cell_type": "markdown",
   "metadata": {},
   "source": [
    "#### Objeto `tdata_03`\n",
    "\n",
    "- Hay 464 filas con información de las siguientes variables:\n",
    "\t* id_area\n",
    "\t* nombre_area\n",
    "\t* Hospital\n",
    "\t* Especialidad\n",
    "\t* total_pacientes\n",
    "\t* media_tiempo_dias\n",
    "\t* capacidad\n",
    "\t* pacientes\n",
    "\t* consultas\n",
    "\t* hospitalizaciones\n"
   ]
  },
  {
   "cell_type": "code",
   "execution_count": 50,
   "metadata": {
    "vscode": {
     "languageId": "r"
    }
   },
   "outputs": [
    {
     "name": "stdout",
     "output_type": "stream",
     "text": [
      "- Hay 55680 filas con información de las siguientes variables:\n",
      "\t* Hospital\n",
      "\t* Especialidad\n",
      "\t* total_pacientes\n",
      "\t* media_tiempo_dias\n",
      "\t* ano\n",
      "\t* semana\n",
      "\t* CODCNH\n",
      "\t* id_area\n",
      "\t* nombre_area\n",
      "\t* pacientes\n",
      "\t* consultas\n",
      "\t* hospitalizaciones"
     ]
    }
   ],
   "source": [
    "cat(\"- Hay\", nrow(data_to_save_02), \"filas con información de las siguientes variables:\\n\\t*\", paste(colnames(data_to_save_02), collapse = \"\\n\\t* \"))"
   ]
  },
  {
   "attachments": {},
   "cell_type": "markdown",
   "metadata": {},
   "source": [
    "#### Objeto `data_completo`\n",
    "\n",
    "- Los datos con distinta granularidad se repiten\n",
    "- Hay 55680 filas con información de las siguientes variables:\n",
    "\t* Hospital\n",
    "\t* Especialidad\n",
    "\t* total_pacientes\n",
    "\t* media_tiempo_dias\n",
    "\t* ano\n",
    "\t* semana\n",
    "\t* CODCNH\n",
    "\t* id_area\n",
    "\t* nombre_area\n",
    "\t* cmunicipio\n",
    "\t* Municipio\n",
    "\t* CAMAS\n",
    "\t* Clase\n",
    "\t* Dependencia\n",
    "\t* TAC\n",
    "\t* RM\n",
    "\t* GAM\n",
    "\t* HEM\n",
    "\t* ASD\n",
    "\t* LIT\n",
    "\t* BCO\n",
    "\t* ALI\n",
    "\t* SPECT\n",
    "\t* PET\n",
    "\t* MAMOS\n",
    "\t* DO\n",
    "\t* DIAL\n",
    "\t* X\n",
    "\t* Y\n",
    "\t* t3_1\n",
    "\t* t1_1\n",
    "\t* t2_1\n",
    "\t* t2_2\n",
    "\t* t4_1\n",
    "\t* t4_2\n",
    "\t* t4_3\n",
    "\t* t5_1\n",
    "\t* t6_1\n",
    "\t* t7_1\n",
    "\t* t8_1\n",
    "\t* t9_1\n",
    "\t* t10_1\n",
    "\t* t11_1\n",
    "\t* t12_1\n",
    "\t* capacidad\n",
    "\t* pacientes\n",
    "\t* consultas\n",
    "\t* hospitalizaciones\n"
   ]
  },
  {
   "cell_type": "markdown",
   "metadata": {},
   "source": [
    "#### Observaciones generales sobre los datos\n",
    "\n",
    "* Se dispone de la capacidad global para cada especialidad en cada área\n",
    "* Se entiende que la capacidad dependerá de los quirófanos/equipos de especialistas disponibles en los hospitales\n"
   ]
  },
  {
   "attachments": {},
   "cell_type": "markdown",
   "metadata": {},
   "source": [
    "### Consideraciones para despliegue en piloto\n",
    "\n",
    "* Los datos con distinta resolución se guardan en archivos distintos. Se han unido también los datos en una tabla completa repitiendo datos en filas cuando procede. A la hora de extraer estos datos hay que estar seguro de la operación de agregación a usar (media, suma, otra)"
   ]
  },
  {
   "attachments": {},
   "cell_type": "markdown",
   "metadata": {},
   "source": [
    "### Consideraciones para despliegue en producción\n",
    "\n",
    "* Se deben crear los procesos ETL en producción necesarios para que los datos de entrada estén actualizados\n",
    "* Se ha asumido el área sanitaria como agregación de hospitales en todo el caso. En el despliegue en producción se podría cambiar modificando los notebooks de la forma adecuada"
   ]
  },
  {
   "cell_type": "markdown",
   "metadata": {},
   "source": [
    "## <font color=' #2874a6 '>Main Actions</font>"
   ]
  },
  {
   "cell_type": "markdown",
   "metadata": {},
   "source": [
    "#### <font color=' #2874a6 '>Acciones done</font>"
   ]
  },
  {
   "cell_type": "markdown",
   "metadata": {
    "slideshow": {
     "slide_type": "slide"
    }
   },
   "source": [
    "<font color='steelblue'>Indicate the actions that have been carried out in this process</font>"
   ]
  },
  {
   "attachments": {},
   "cell_type": "markdown",
   "metadata": {},
   "source": [
    "- Se han asignado capacidades por especialidad y zona\n",
    "- Se han simulado datos sanitarios por zona y semana"
   ]
  },
  {
   "cell_type": "markdown",
   "metadata": {},
   "source": [
    "#### <font color=' #2874a6 '>Acctions to perform</font>"
   ]
  },
  {
   "cell_type": "markdown",
   "metadata": {
    "slideshow": {
     "slide_type": "slide"
    }
   },
   "source": [
    "<font color='steelblue'>Indicate the actions that must be carried out in subsequent processes</font>"
   ]
  },
  {
   "attachments": {},
   "cell_type": "markdown",
   "metadata": {},
   "source": [
    "- Se deben unir los datos a la tabla completa"
   ]
  },
  {
   "attachments": {},
   "cell_type": "markdown",
   "metadata": {},
   "source": [
    "## <font color='RED'>CODE TO DEPLOY (PILOT)</font>\n",
    "\n",
    "A continuación se incluirá el código que deba ser llevado a despliegue para producción, dado que se entiende efectúa operaciones necesarias sobre los datos en la ejecución del prototipo"
   ]
  },
  {
   "attachments": {},
   "cell_type": "markdown",
   "metadata": {},
   "source": [
    "<font color=' red '><b>Description</b></font>\n",
    "\n",
    "- No hay nada que desplegar en el piloto, ya que estos datos son estáticos o en todo caso cambian con muy poca frecuencia, altamente improbable durante el proyecto.\n"
   ]
  },
  {
   "attachments": {},
   "cell_type": "markdown",
   "metadata": {},
   "source": [
    "<font color=' red '><b>CODE</b></font>"
   ]
  },
  {
   "cell_type": "code",
   "execution_count": 52,
   "metadata": {
    "vscode": {
     "languageId": "r"
    }
   },
   "outputs": [],
   "source": [
    "# incluir código"
   ]
  }
 ],
 "metadata": {
  "anaconda-cloud": {},
  "celltoolbar": "Slideshow",
  "hide_input": false,
  "kernelspec": {
   "display_name": "R",
   "language": "R",
   "name": "ir"
  },
  "language_info": {
   "codemirror_mode": "r",
   "file_extension": ".r",
   "mimetype": "text/x-r-source",
   "name": "R",
   "pygments_lexer": "r",
   "version": "4.2.2"
  },
  "latex_envs": {
   "LaTeX_envs_menu_present": true,
   "autoclose": false,
   "autocomplete": true,
   "bibliofile": "biblio.bib",
   "cite_by": "apalike",
   "current_citInitial": 1,
   "eqLabelWithNumbers": true,
   "eqNumInitial": 1,
   "hotkeys": {
    "equation": "Ctrl-E",
    "itemize": "Ctrl-I"
   },
   "labels_anchors": false,
   "latex_user_defs": false,
   "report_style_numbering": true,
   "user_envs_cfg": false
  },
  "toc": {
   "base_numbering": 1,
   "nav_menu": {
    "height": "11.6px",
    "width": "160px"
   },
   "number_sections": false,
   "sideBar": true,
   "skip_h1_title": true,
   "title_cell": "Table of Contents",
   "title_sidebar": "Contents",
   "toc_cell": true,
   "toc_position": {
    "height": "calc(100% - 180px)",
    "left": "10px",
    "top": "150px",
    "width": "209.2px"
   },
   "toc_section_display": true,
   "toc_window_display": true
  },
  "varInspector": {
   "cols": {
    "lenName": 16,
    "lenType": 16,
    "lenVar": 40
   },
   "kernels_config": {
    "python": {
     "delete_cmd_postfix": "",
     "delete_cmd_prefix": "del ",
     "library": "var_list.py",
     "varRefreshCmd": "print(var_dic_list())"
    },
    "r": {
     "delete_cmd_postfix": ") ",
     "delete_cmd_prefix": "rm(",
     "library": "var_list.r",
     "varRefreshCmd": "cat(var_dic_list()) "
    }
   },
   "types_to_exclude": [
    "module",
    "function",
    "builtin_function_or_method",
    "instance",
    "_Feature"
   ],
   "window_display": false
  }
 },
 "nbformat": 4,
 "nbformat_minor": 1
}
