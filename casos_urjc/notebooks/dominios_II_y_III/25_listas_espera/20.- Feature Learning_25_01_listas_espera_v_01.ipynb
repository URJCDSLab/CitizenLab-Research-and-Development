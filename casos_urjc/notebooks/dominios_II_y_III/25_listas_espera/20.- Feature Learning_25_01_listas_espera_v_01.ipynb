{
 "cells": [
  {
   "cell_type": "markdown",
   "metadata": {
    "slideshow": {
     "slide_type": "slide"
    }
   },
   "source": [
    "<img src=\".\\images\\Logo.png\" width=150 align=\"left\" /> <img src=\".\\images\\Logo2.jpg\" width=450 align=\"right\" />"
   ]
  },
  {
   "attachments": {},
   "cell_type": "markdown",
   "metadata": {
    "slideshow": {
     "slide_type": "slide"
    }
   },
   "source": [
    "\n",
    "# <center><font color= #1e8449 > <b>CU25_Modelo de gestión de Lista de Espera Quirúrgica</font></center>"
   ]
  },
  {
   "cell_type": "markdown",
   "metadata": {
    "slideshow": {
     "slide_type": "slide"
    }
   },
   "source": [
    "<font color='steelblue'><b>Citizenlab Data Science Methodology > III - Feature Engineering Domain </font>\n",
    "***\n",
    "> # <font color='steelblue'> <b>20.- Feature Learning</font>"
   ]
  },
  {
   "cell_type": "markdown",
   "metadata": {
    "slideshow": {
     "slide_type": "slide"
    }
   },
   "source": [
    "<font color='steelblue'>Feature learning or representation learning is a set of techniques that allows a system to automatically discover the representations needed for feature detection or classification from raw data.</font>\n"
   ]
  },
  {
   "cell_type": "markdown",
   "metadata": {
    "slideshow": {
     "slide_type": "slide"
    }
   },
   "source": [
    "## <font color='steelblue'>Tasks</font>"
   ]
  },
  {
   "cell_type": "markdown",
   "metadata": {
    "slideshow": {
     "slide_type": "slide"
    }
   },
   "source": [
    "<font color='steelblue'><b>Feature Learning</b>\n",
    "- Explore automatic identification and use of features in raw data\n",
    "\n",
    "    \n"
   ]
  },
  {
   "cell_type": "markdown",
   "metadata": {},
   "source": [
    "## Consideraciones casos CitizenLab programados en R\n",
    "\n",
    "* Algunas de las tareas de este proceso se han realizado en los notebooks del proceso 05 Data Collection porque eran necesarias para las tareas ETL. En esos casos, en este notebook se referencia al notebook del proceso 05 correspondiente\n",
    "* Otras tareas típicas de este proceso se realizan en los notebooks del dominio IV al ser más eficiente realizarlas en el propio pipeline de modelización.\n",
    "* Por tanto en los notebooks de este proceso de manera general se incluyen las comprobaciones necesarias, y comentarios si procede\n",
    "* Las tareas del proceso se van a aplicar solo a los archivos que forman parte del despliegue, ya que hay muchos archivos intermedios que no procede pasar por este proceso\n",
    "* El nombre de archivo del notebook hace referencia al nombre de archivo del proceso 05 al que se aplica este proceso, por eso pueden no ser correlativa la numeración\n",
    "* Las comprobaciones se van a realizar teniendo en cuenta que el lenguaje utilizado en el despliegue de este caso es R"
   ]
  },
  {
   "cell_type": "markdown",
   "metadata": {},
   "source": [
    "## <font color='green'>File</font>"
   ]
  },
  {
   "attachments": {},
   "cell_type": "markdown",
   "metadata": {},
   "source": [
    "- <font color='steelblue'> <b>Input File: CU_25_09.2_01_lista_espera_completo_clean_v_01.csv</font>\n",
    "- <font color='steelblue'> <b>Output File: No aplica</font>"
   ]
  },
  {
   "cell_type": "markdown",
   "metadata": {},
   "source": [
    "### Encoding\n",
    "\n",
    "Con la siguiente expresión se evitan problemas con el encoding al ejecutar el notebook. Es posible que deba ser eliminada o adaptada a la máquina en la que se ejecute el código."
   ]
  },
  {
   "cell_type": "code",
   "execution_count": 1,
   "metadata": {
    "vscode": {
     "languageId": "r"
    }
   },
   "outputs": [
    {
     "data": {
      "text/html": [
       "'LC_COLLATE=es_ES.UTF-8;LC_CTYPE=es_ES.UTF-8;LC_MONETARY=es_ES.UTF-8;LC_NUMERIC=C;LC_TIME=es_ES.UTF-8'"
      ],
      "text/latex": [
       "'LC\\_COLLATE=es\\_ES.UTF-8;LC\\_CTYPE=es\\_ES.UTF-8;LC\\_MONETARY=es\\_ES.UTF-8;LC\\_NUMERIC=C;LC\\_TIME=es\\_ES.UTF-8'"
      ],
      "text/markdown": [
       "'LC_COLLATE=es_ES.UTF-8;LC_CTYPE=es_ES.UTF-8;LC_MONETARY=es_ES.UTF-8;LC_NUMERIC=C;LC_TIME=es_ES.UTF-8'"
      ],
      "text/plain": [
       "[1] \"LC_COLLATE=es_ES.UTF-8;LC_CTYPE=es_ES.UTF-8;LC_MONETARY=es_ES.UTF-8;LC_NUMERIC=C;LC_TIME=es_ES.UTF-8\""
      ]
     },
     "metadata": {},
     "output_type": "display_data"
    }
   ],
   "source": [
    "Sys.setlocale(category = \"LC_ALL\", locale = \"es_ES.UTF-8\")"
   ]
  },
  {
   "cell_type": "markdown",
   "metadata": {},
   "source": [
    "## <font color='green'>Settings</font>"
   ]
  },
  {
   "cell_type": "markdown",
   "metadata": {},
   "source": [
    "### Libraries to use"
   ]
  },
  {
   "cell_type": "code",
   "execution_count": 2,
   "metadata": {
    "vscode": {
     "languageId": "r"
    }
   },
   "outputs": [
    {
     "name": "stderr",
     "output_type": "stream",
     "text": [
      "\n",
      "Attaching package: 'dplyr'\n",
      "\n",
      "\n",
      "The following objects are masked from 'package:stats':\n",
      "\n",
      "    filter, lag\n",
      "\n",
      "\n",
      "The following objects are masked from 'package:base':\n",
      "\n",
      "    intersect, setdiff, setequal, union\n",
      "\n",
      "\n",
      "\n",
      "Attaching package: 'lubridate'\n",
      "\n",
      "\n",
      "The following objects are masked from 'package:base':\n",
      "\n",
      "    date, intersect, setdiff, union\n",
      "\n",
      "\n"
     ]
    }
   ],
   "source": [
    "library(readr)\n",
    "library(dplyr)\n",
    "library(tidyr)\n",
    "library(forcats)\n",
    "library(lubridate)\n"
   ]
  },
  {
   "cell_type": "markdown",
   "metadata": {},
   "source": [
    "### Paths"
   ]
  },
  {
   "cell_type": "code",
   "execution_count": 3,
   "metadata": {
    "vscode": {
     "languageId": "r"
    }
   },
   "outputs": [],
   "source": [
    "iPath <- \"Data/Input/\"\n",
    "oPath <- \"Data/Output/\""
   ]
  },
  {
   "cell_type": "markdown",
   "metadata": {},
   "source": [
    "## <font color='green'>Data Load</font>"
   ]
  },
  {
   "cell_type": "markdown",
   "metadata": {},
   "source": [
    "<font color='tomato'><b> OPCION A:</b> Seleccionar fichero en ventana para mayor comodidad</font> "
   ]
  },
  {
   "cell_type": "markdown",
   "metadata": {},
   "source": [
    "Data load using the {tcltk} package. Ucomment the line if using this option"
   ]
  },
  {
   "cell_type": "code",
   "execution_count": 4,
   "metadata": {
    "vscode": {
     "languageId": "r"
    }
   },
   "outputs": [],
   "source": [
    "# file_data <- tcltk::tk_choose.files(multi = FALSE)"
   ]
  },
  {
   "cell_type": "markdown",
   "metadata": {},
   "source": [
    "<font color='tomato'><b> OPCION B:</b> Especificar el nombre de archivo</font>\n",
    "\n"
   ]
  },
  {
   "cell_type": "code",
   "execution_count": 5,
   "metadata": {
    "vscode": {
     "languageId": "r"
    }
   },
   "outputs": [
    {
     "name": "stdout",
     "output_type": "stream",
     "text": [
      "Se leerán datos del archivo:  Data/Input/CU_25_09.2_01_lista_espera_completo_clean_v_01.csv"
     ]
    }
   ],
   "source": [
    "iFile <- \"CU_25_09.2_01_lista_espera_completo_clean_v_01.csv\"\n",
    "file_data <- paste0(iPath, iFile)\n",
    "\n",
    "if(file.exists(file_data)){\n",
    "    cat(\"Se leerán datos del archivo: \", file_data)\n",
    "} else{\n",
    "    warning(\"Cuidado: el archivo no existe.\")\n",
    "}\n"
   ]
  },
  {
   "cell_type": "markdown",
   "metadata": {},
   "source": [
    "#### Data file to dataframe\n",
    "\n",
    "Usar la función adecuada según el formato de entrada (xlsx, csv, json, ...)"
   ]
  },
  {
   "cell_type": "code",
   "execution_count": 6,
   "metadata": {
    "vscode": {
     "languageId": "r"
    }
   },
   "outputs": [],
   "source": [
    "data <- read.csv(file_data)\n"
   ]
  },
  {
   "cell_type": "markdown",
   "metadata": {},
   "source": [
    "Estructura de  los datos:"
   ]
  },
  {
   "cell_type": "code",
   "execution_count": 7,
   "metadata": {
    "vscode": {
     "languageId": "r"
    }
   },
   "outputs": [
    {
     "name": "stdout",
     "output_type": "stream",
     "text": [
      "Rows: 55,216\n",
      "Columns: 46\n",
      "$ Hospital          \u001b[3m\u001b[90m<chr>\u001b[39m\u001b[23m \"HOSPITAL REY JUAN CARLOS\", \"HOSPITAL CENTRAL DE LA …\n",
      "$ Especialidad      \u001b[3m\u001b[90m<chr>\u001b[39m\u001b[23m \"UROLOGÍA\", \"ODONTOESTOMATOLOGÍA\", \"GINECOLOGÍA\", \"D…\n",
      "$ total_pacientes   \u001b[3m\u001b[90m<int>\u001b[39m\u001b[23m 344, 0, 52, 37, 0, 4, 0, 718, 0, 271, 108, 0, 34, 86…\n",
      "$ ano               \u001b[3m\u001b[90m<int>\u001b[39m\u001b[23m 2021, 2020, 2021, 2021, 2021, 2020, 2021, 2020, 2021…\n",
      "$ semana            \u001b[3m\u001b[90m<int>\u001b[39m\u001b[23m 30, 36, 49, 23, 3, 5, 50, 7, 35, 1, 42, 10, 21, 33, …\n",
      "$ CODCNH            \u001b[3m\u001b[90m<int>\u001b[39m\u001b[23m 281348, 280724, 281292, 281292, 281236, 280724, 2807…\n",
      "$ id_area           \u001b[3m\u001b[90m<int>\u001b[39m\u001b[23m 8, 7, 11, 11, 11, 7, 3, 6, 1, 2, 2, 8, 11, 11, 1, 3,…\n",
      "$ nombre_area       \u001b[3m\u001b[90m<chr>\u001b[39m\u001b[23m \"SUR-OESTE I\", \"CENTRO-OESTE\", \"SUR II\", \"SUR II\", \"…\n",
      "$ cmunicipio        \u001b[3m\u001b[90m<int>\u001b[39m\u001b[23m 280920, 280796, 280133, 280133, 281610, 280796, 2800…\n",
      "$ Municipio         \u001b[3m\u001b[90m<chr>\u001b[39m\u001b[23m \"MÓSTOLES\", \"MADRID\", \"ARANJUEZ\", \"ARANJUEZ\", \"VALDE…\n",
      "$ CAMAS             \u001b[3m\u001b[90m<int>\u001b[39m\u001b[23m 382, 475, 98, 98, 182, 475, 507, 613, 269, 1143, 156…\n",
      "$ Clase             \u001b[3m\u001b[90m<chr>\u001b[39m\u001b[23m \"HOSPITALES GENERALES\", \"HOSPITALES GENERALES\", \"HOS…\n",
      "$ Dependencia       \u001b[3m\u001b[90m<chr>\u001b[39m\u001b[23m \"SERVICIOS E INSTITUTOS DE SALUD DE LAS COMUNIDADES …\n",
      "$ TAC               \u001b[3m\u001b[90m<int>\u001b[39m\u001b[23m 2, 2, 1, 1, 1, 2, 3, 3, 0, 0, 1, 2, 6, 6, 1, 3, 4, 1…\n",
      "$ RM                \u001b[3m\u001b[90m<int>\u001b[39m\u001b[23m 3, 2, 1, 1, 2, 2, 2, 3, 0, 0, 0, 2, 5, 5, 1, 2, 4, 1…\n",
      "$ GAM               \u001b[3m\u001b[90m<int>\u001b[39m\u001b[23m 0, 0, 0, 0, 0, 0, 1, 0, 0, 0, 0, 1, 2, 2, 0, 0, 2, 0…\n",
      "$ HEM               \u001b[3m\u001b[90m<int>\u001b[39m\u001b[23m 1, 2, 0, 0, 1, 2, 1, 2, 0, 0, 0, 1, 3, 3, 0, 1, 1, 0…\n",
      "$ ASD               \u001b[3m\u001b[90m<int>\u001b[39m\u001b[23m 2, 1, 1, 1, 1, 1, 1, 3, 0, 0, 0, 1, 2, 2, 0, 1, 2, 1…\n",
      "$ ALI               \u001b[3m\u001b[90m<int>\u001b[39m\u001b[23m 1, 2, 0, 0, 0, 2, 0, 4, 0, 0, 0, 0, 3, 3, 0, 2, 2, 0…\n",
      "$ SPECT             \u001b[3m\u001b[90m<int>\u001b[39m\u001b[23m 1, 1, 0, 0, 0, 1, 0, 4, 0, 0, 0, 0, 3, 3, 0, 0, 0, 0…\n",
      "$ MAMOS             \u001b[3m\u001b[90m<int>\u001b[39m\u001b[23m 2, 1, 1, 1, 1, 1, 2, 2, 0, 0, 1, 2, 3, 3, 1, 1, 3, 1…\n",
      "$ DO                \u001b[3m\u001b[90m<int>\u001b[39m\u001b[23m 1, 1, 0, 0, 1, 1, 1, 1, 0, 0, 1, 1, 2, 2, 0, 1, 2, 0…\n",
      "$ DIAL              \u001b[3m\u001b[90m<int>\u001b[39m\u001b[23m 20, 24, 13, 13, 17, 24, 28, 31, 0, 0, 0, 28, 43, 43,…\n",
      "$ X                 \u001b[3m\u001b[90m<dbl>\u001b[39m\u001b[23m -3.870412, -3.745529, -3.610795, -3.610795, -3.69744…\n",
      "$ Y                 \u001b[3m\u001b[90m<dbl>\u001b[39m\u001b[23m 40.33920, 40.38791, 40.05726, 40.05726, 40.19884, 40…\n",
      "$ t3_1              \u001b[3m\u001b[90m<dbl>\u001b[39m\u001b[23m 42.34715, 45.37878, 42.06149, 42.06149, 42.06149, 45…\n",
      "$ t1_1              \u001b[3m\u001b[90m<int>\u001b[39m\u001b[23m 532487, 511605, 899702, 899702, 899702, 511605, 3830…\n",
      "$ t2_1              \u001b[3m\u001b[90m<dbl>\u001b[39m\u001b[23m 0.5122493, 0.5296804, 0.5240445, 0.5240445, 0.524044…\n",
      "$ t2_2              \u001b[3m\u001b[90m<dbl>\u001b[39m\u001b[23m 0.4877507, 0.4703198, 0.4759555, 0.4759555, 0.475955…\n",
      "$ t4_1              \u001b[3m\u001b[90m<dbl>\u001b[39m\u001b[23m 0.1659665, 0.1054260, 0.1540793, 0.1540793, 0.154079…\n",
      "$ t4_2              \u001b[3m\u001b[90m<dbl>\u001b[39m\u001b[23m 0.6371549, 0.6742432, 0.6753787, 0.6753787, 0.675378…\n",
      "$ t4_3              \u001b[3m\u001b[90m<dbl>\u001b[39m\u001b[23m 0.1968769, 0.2203341, 0.1705449, 0.1705449, 0.170544…\n",
      "$ t5_1              \u001b[3m\u001b[90m<dbl>\u001b[39m\u001b[23m 0.1137647, 0.1744493, 0.1747059, 0.1747059, 0.174705…\n",
      "$ t6_1              \u001b[3m\u001b[90m<dbl>\u001b[39m\u001b[23m 0.1604646, 0.2629599, 0.2641879, 0.2641879, 0.264187…\n",
      "$ t7_1              \u001b[3m\u001b[90m<dbl>\u001b[39m\u001b[23m 0.05422176, 0.05481008, 0.04898547, 0.04898547, 0.04…\n",
      "$ t8_1              \u001b[3m\u001b[90m<dbl>\u001b[39m\u001b[23m 0.04120012, 0.04653221, 0.03679912, 0.03679912, 0.03…\n",
      "$ t9_1              \u001b[3m\u001b[90m<dbl>\u001b[39m\u001b[23m 0.3348780, 0.4914365, 0.3346063, 0.3346063, 0.334606…\n",
      "$ t10_1             \u001b[3m\u001b[90m<dbl>\u001b[39m\u001b[23m 0.13692541, 0.12170996, 0.15173209, 0.15173209, 0.15…\n",
      "$ t11_1             \u001b[3m\u001b[90m<dbl>\u001b[39m\u001b[23m 0.5072726, 0.4915713, 0.5024130, 0.5024130, 0.502413…\n",
      "$ t12_1             \u001b[3m\u001b[90m<dbl>\u001b[39m\u001b[23m 0.5849309, 0.5597213, 0.5900028, 0.5900028, 0.590002…\n",
      "$ capacidad         \u001b[3m\u001b[90m<int>\u001b[39m\u001b[23m 17, 0, 8, 5, 0, 5, 1, 24, 6, 6, 30, 4, 2, 15, 20, 6,…\n",
      "$ pacientes         \u001b[3m\u001b[90m<int>\u001b[39m\u001b[23m 1447, 1211, 1293, 1501, 1240, 1504, 1502, 1533, 1463…\n",
      "$ consultas         \u001b[3m\u001b[90m<int>\u001b[39m\u001b[23m 573, 45, 108, 103, 44, 42, 36, 1119, 34, 466, 220, 6…\n",
      "$ hospitalizaciones \u001b[3m\u001b[90m<int>\u001b[39m\u001b[23m 12, 0, 2, 2, 0, 1, 0, 4, 0, 12, 3, 0, 2, 4, 1, 2, 15…\n",
      "$ Target            \u001b[3m\u001b[90m<dbl>\u001b[39m\u001b[23m 54.45, 0.00, 37.96, 23.14, 0.00, 6.25, 0.00, 78.20, …\n",
      "$ is_train          \u001b[3m\u001b[90m<lgl>\u001b[39m\u001b[23m TRUE, TRUE, TRUE, TRUE, TRUE, TRUE, TRUE, TRUE, TRUE…\n"
     ]
    }
   ],
   "source": [
    "data |> glimpse()"
   ]
  },
  {
   "cell_type": "markdown",
   "metadata": {},
   "source": [
    "Muestra de los primeros datos:"
   ]
  },
  {
   "cell_type": "code",
   "execution_count": 8,
   "metadata": {
    "vscode": {
     "languageId": "r"
    }
   },
   "outputs": [
    {
     "data": {
      "text/html": [
       "<table class=\"dataframe\">\n",
       "<caption>A data.frame: 5 × 46</caption>\n",
       "<thead>\n",
       "\t<tr><th scope=col>Hospital</th><th scope=col>Especialidad</th><th scope=col>total_pacientes</th><th scope=col>ano</th><th scope=col>semana</th><th scope=col>CODCNH</th><th scope=col>id_area</th><th scope=col>nombre_area</th><th scope=col>cmunicipio</th><th scope=col>Municipio</th><th scope=col>⋯</th><th scope=col>t9_1</th><th scope=col>t10_1</th><th scope=col>t11_1</th><th scope=col>t12_1</th><th scope=col>capacidad</th><th scope=col>pacientes</th><th scope=col>consultas</th><th scope=col>hospitalizaciones</th><th scope=col>Target</th><th scope=col>is_train</th></tr>\n",
       "\t<tr><th scope=col>&lt;chr&gt;</th><th scope=col>&lt;chr&gt;</th><th scope=col>&lt;int&gt;</th><th scope=col>&lt;int&gt;</th><th scope=col>&lt;int&gt;</th><th scope=col>&lt;int&gt;</th><th scope=col>&lt;int&gt;</th><th scope=col>&lt;chr&gt;</th><th scope=col>&lt;int&gt;</th><th scope=col>&lt;chr&gt;</th><th scope=col>⋯</th><th scope=col>&lt;dbl&gt;</th><th scope=col>&lt;dbl&gt;</th><th scope=col>&lt;dbl&gt;</th><th scope=col>&lt;dbl&gt;</th><th scope=col>&lt;int&gt;</th><th scope=col>&lt;int&gt;</th><th scope=col>&lt;int&gt;</th><th scope=col>&lt;int&gt;</th><th scope=col>&lt;dbl&gt;</th><th scope=col>&lt;lgl&gt;</th></tr>\n",
       "</thead>\n",
       "<tbody>\n",
       "\t<tr><td>HOSPITAL REY JUAN CARLOS                 </td><td>UROLOGÍA           </td><td>344</td><td>2021</td><td>30</td><td>281348</td><td> 8</td><td>SUR-OESTE I </td><td>280920</td><td>MÓSTOLES </td><td>⋯</td><td>0.3348780</td><td>0.1369254</td><td>0.5072726</td><td>0.5849309</td><td>17</td><td>1447</td><td>573</td><td>12</td><td>54.45</td><td>TRUE</td></tr>\n",
       "\t<tr><td>HOSPITAL CENTRAL DE LA DEFENSA GOMEZ ULLA</td><td>ODONTOESTOMATOLOGÍA</td><td>  0</td><td>2020</td><td>36</td><td>280724</td><td> 7</td><td>CENTRO-OESTE</td><td>280796</td><td>MADRID   </td><td>⋯</td><td>0.4914365</td><td>0.1217100</td><td>0.4915713</td><td>0.5597213</td><td> 0</td><td>1211</td><td> 45</td><td> 0</td><td> 0.00</td><td>TRUE</td></tr>\n",
       "\t<tr><td>HOSPITAL UNIVERSITARIO DEL TAJO          </td><td>GINECOLOGÍA        </td><td> 52</td><td>2021</td><td>49</td><td>281292</td><td>11</td><td>SUR II      </td><td>280133</td><td>ARANJUEZ </td><td>⋯</td><td>0.3346063</td><td>0.1517321</td><td>0.5024130</td><td>0.5900028</td><td> 8</td><td>1293</td><td>108</td><td> 2</td><td>37.96</td><td>TRUE</td></tr>\n",
       "\t<tr><td>HOSPITAL UNIVERSITARIO DEL TAJO          </td><td>DERMATOLOGÍA       </td><td> 37</td><td>2021</td><td>23</td><td>281292</td><td>11</td><td>SUR II      </td><td>280133</td><td>ARANJUEZ </td><td>⋯</td><td>0.3346063</td><td>0.1517321</td><td>0.5024130</td><td>0.5900028</td><td> 5</td><td>1501</td><td>103</td><td> 2</td><td>23.14</td><td>TRUE</td></tr>\n",
       "\t<tr><td>HOSPITAL UNIVERSITARIO INFANTA ELENA     </td><td>ODONTOESTOMATOLOGÍA</td><td>  0</td><td>2021</td><td> 3</td><td>281236</td><td>11</td><td>SUR II      </td><td>281610</td><td>VALDEMORO</td><td>⋯</td><td>0.3346063</td><td>0.1517321</td><td>0.5024130</td><td>0.5900028</td><td> 0</td><td>1240</td><td> 44</td><td> 0</td><td> 0.00</td><td>TRUE</td></tr>\n",
       "</tbody>\n",
       "</table>\n"
      ],
      "text/latex": [
       "A data.frame: 5 × 46\n",
       "\\begin{tabular}{lllllllllllllllllllll}\n",
       " Hospital & Especialidad & total\\_pacientes & ano & semana & CODCNH & id\\_area & nombre\\_area & cmunicipio & Municipio & ⋯ & t9\\_1 & t10\\_1 & t11\\_1 & t12\\_1 & capacidad & pacientes & consultas & hospitalizaciones & Target & is\\_train\\\\\n",
       " <chr> & <chr> & <int> & <int> & <int> & <int> & <int> & <chr> & <int> & <chr> & ⋯ & <dbl> & <dbl> & <dbl> & <dbl> & <int> & <int> & <int> & <int> & <dbl> & <lgl>\\\\\n",
       "\\hline\n",
       "\t HOSPITAL REY JUAN CARLOS                  & UROLOGÍA            & 344 & 2021 & 30 & 281348 &  8 & SUR-OESTE I  & 280920 & MÓSTOLES  & ⋯ & 0.3348780 & 0.1369254 & 0.5072726 & 0.5849309 & 17 & 1447 & 573 & 12 & 54.45 & TRUE\\\\\n",
       "\t HOSPITAL CENTRAL DE LA DEFENSA GOMEZ ULLA & ODONTOESTOMATOLOGÍA &   0 & 2020 & 36 & 280724 &  7 & CENTRO-OESTE & 280796 & MADRID    & ⋯ & 0.4914365 & 0.1217100 & 0.4915713 & 0.5597213 &  0 & 1211 &  45 &  0 &  0.00 & TRUE\\\\\n",
       "\t HOSPITAL UNIVERSITARIO DEL TAJO           & GINECOLOGÍA         &  52 & 2021 & 49 & 281292 & 11 & SUR II       & 280133 & ARANJUEZ  & ⋯ & 0.3346063 & 0.1517321 & 0.5024130 & 0.5900028 &  8 & 1293 & 108 &  2 & 37.96 & TRUE\\\\\n",
       "\t HOSPITAL UNIVERSITARIO DEL TAJO           & DERMATOLOGÍA        &  37 & 2021 & 23 & 281292 & 11 & SUR II       & 280133 & ARANJUEZ  & ⋯ & 0.3346063 & 0.1517321 & 0.5024130 & 0.5900028 &  5 & 1501 & 103 &  2 & 23.14 & TRUE\\\\\n",
       "\t HOSPITAL UNIVERSITARIO INFANTA ELENA      & ODONTOESTOMATOLOGÍA &   0 & 2021 &  3 & 281236 & 11 & SUR II       & 281610 & VALDEMORO & ⋯ & 0.3346063 & 0.1517321 & 0.5024130 & 0.5900028 &  0 & 1240 &  44 &  0 &  0.00 & TRUE\\\\\n",
       "\\end{tabular}\n"
      ],
      "text/markdown": [
       "\n",
       "A data.frame: 5 × 46\n",
       "\n",
       "| Hospital &lt;chr&gt; | Especialidad &lt;chr&gt; | total_pacientes &lt;int&gt; | ano &lt;int&gt; | semana &lt;int&gt; | CODCNH &lt;int&gt; | id_area &lt;int&gt; | nombre_area &lt;chr&gt; | cmunicipio &lt;int&gt; | Municipio &lt;chr&gt; | ⋯ ⋯ | t9_1 &lt;dbl&gt; | t10_1 &lt;dbl&gt; | t11_1 &lt;dbl&gt; | t12_1 &lt;dbl&gt; | capacidad &lt;int&gt; | pacientes &lt;int&gt; | consultas &lt;int&gt; | hospitalizaciones &lt;int&gt; | Target &lt;dbl&gt; | is_train &lt;lgl&gt; |\n",
       "|---|---|---|---|---|---|---|---|---|---|---|---|---|---|---|---|---|---|---|---|---|\n",
       "| HOSPITAL REY JUAN CARLOS                  | UROLOGÍA            | 344 | 2021 | 30 | 281348 |  8 | SUR-OESTE I  | 280920 | MÓSTOLES  | ⋯ | 0.3348780 | 0.1369254 | 0.5072726 | 0.5849309 | 17 | 1447 | 573 | 12 | 54.45 | TRUE |\n",
       "| HOSPITAL CENTRAL DE LA DEFENSA GOMEZ ULLA | ODONTOESTOMATOLOGÍA |   0 | 2020 | 36 | 280724 |  7 | CENTRO-OESTE | 280796 | MADRID    | ⋯ | 0.4914365 | 0.1217100 | 0.4915713 | 0.5597213 |  0 | 1211 |  45 |  0 |  0.00 | TRUE |\n",
       "| HOSPITAL UNIVERSITARIO DEL TAJO           | GINECOLOGÍA         |  52 | 2021 | 49 | 281292 | 11 | SUR II       | 280133 | ARANJUEZ  | ⋯ | 0.3346063 | 0.1517321 | 0.5024130 | 0.5900028 |  8 | 1293 | 108 |  2 | 37.96 | TRUE |\n",
       "| HOSPITAL UNIVERSITARIO DEL TAJO           | DERMATOLOGÍA        |  37 | 2021 | 23 | 281292 | 11 | SUR II       | 280133 | ARANJUEZ  | ⋯ | 0.3346063 | 0.1517321 | 0.5024130 | 0.5900028 |  5 | 1501 | 103 |  2 | 23.14 | TRUE |\n",
       "| HOSPITAL UNIVERSITARIO INFANTA ELENA      | ODONTOESTOMATOLOGÍA |   0 | 2021 |  3 | 281236 | 11 | SUR II       | 281610 | VALDEMORO | ⋯ | 0.3346063 | 0.1517321 | 0.5024130 | 0.5900028 |  0 | 1240 |  44 |  0 |  0.00 | TRUE |\n",
       "\n"
      ],
      "text/plain": [
       "  Hospital                                  Especialidad        total_pacientes\n",
       "1 HOSPITAL REY JUAN CARLOS                  UROLOGÍA            344            \n",
       "2 HOSPITAL CENTRAL DE LA DEFENSA GOMEZ ULLA ODONTOESTOMATOLOGÍA   0            \n",
       "3 HOSPITAL UNIVERSITARIO DEL TAJO           GINECOLOGÍA          52            \n",
       "4 HOSPITAL UNIVERSITARIO DEL TAJO           DERMATOLOGÍA         37            \n",
       "5 HOSPITAL UNIVERSITARIO INFANTA ELENA      ODONTOESTOMATOLOGÍA   0            \n",
       "  ano  semana CODCNH id_area nombre_area  cmunicipio Municipio ⋯ t9_1     \n",
       "1 2021 30     281348  8      SUR-OESTE I  280920     MÓSTOLES  ⋯ 0.3348780\n",
       "2 2020 36     280724  7      CENTRO-OESTE 280796     MADRID    ⋯ 0.4914365\n",
       "3 2021 49     281292 11      SUR II       280133     ARANJUEZ  ⋯ 0.3346063\n",
       "4 2021 23     281292 11      SUR II       280133     ARANJUEZ  ⋯ 0.3346063\n",
       "5 2021  3     281236 11      SUR II       281610     VALDEMORO ⋯ 0.3346063\n",
       "  t10_1     t11_1     t12_1     capacidad pacientes consultas hospitalizaciones\n",
       "1 0.1369254 0.5072726 0.5849309 17        1447      573       12               \n",
       "2 0.1217100 0.4915713 0.5597213  0        1211       45        0               \n",
       "3 0.1517321 0.5024130 0.5900028  8        1293      108        2               \n",
       "4 0.1517321 0.5024130 0.5900028  5        1501      103        2               \n",
       "5 0.1517321 0.5024130 0.5900028  0        1240       44        0               \n",
       "  Target is_train\n",
       "1 54.45  TRUE    \n",
       "2  0.00  TRUE    \n",
       "3 37.96  TRUE    \n",
       "4 23.14  TRUE    \n",
       "5  0.00  TRUE    "
      ]
     },
     "metadata": {},
     "output_type": "display_data"
    }
   ],
   "source": [
    "data |> slice_head(n = 5)"
   ]
  },
  {
   "cell_type": "markdown",
   "metadata": {
    "slideshow": {
     "slide_type": "slide"
    }
   },
   "source": [
    "## Feature Learning"
   ]
  },
  {
   "attachments": {},
   "cell_type": "markdown",
   "metadata": {},
   "source": [
    "## <font color='green'>Data Save</font>\n",
    "\n",
    "* No aplica"
   ]
  },
  {
   "cell_type": "markdown",
   "metadata": {},
   "source": [
    "<font color='tomato'> Identificamos los datos a guardar</font>"
   ]
  },
  {
   "cell_type": "code",
   "execution_count": null,
   "metadata": {
    "vscode": {
     "languageId": "r"
    }
   },
   "outputs": [],
   "source": [
    "data_to_save <- data"
   ]
  },
  {
   "cell_type": "markdown",
   "metadata": {},
   "source": [
    "\n",
    "<font color='tomato'>Estructura de nombre de archivos:</font>\n",
    "\n",
    "* Código del caso de uso, por ejemplo \"CU_04\"\n",
    "* Número del proceso que lo genera, por ejemplo \"_06\".\n",
    "* Resto del nombre del archivo de entrada\n",
    "* Extensión del archivo\n",
    "\n",
    "Ejemplo: \"CU_04_06_01_01_zonasgeo.json, primer fichero que se genera en la tarea 01 del proceso 05 (Data Collection) para el caso de uso 04 (vacunas) y que se ha transformado en el proceso 06\n",
    "\n",
    "Importante mantener los guiones bajos antes de proceso, tarea, archivo y nombre"
   ]
  },
  {
   "cell_type": "markdown",
   "metadata": {},
   "source": [
    "### Proceso 19"
   ]
  },
  {
   "cell_type": "code",
   "execution_count": null,
   "metadata": {
    "vscode": {
     "languageId": "r"
    }
   },
   "outputs": [],
   "source": [
    "# caso <- \"CU_XX\"\n",
    "# proceso <- '_09.2'\n",
    "# tarea <- \"_XX\"\n",
    "# archivo <- \"\"\n",
    "# proper <- \"_xxxxx\"\n",
    "# extension <- \".csv\""
   ]
  },
  {
   "cell_type": "markdown",
   "metadata": {},
   "source": [
    "<font color='tomato'><b> OPCION A:</b> Uso del paquete \"tcltk\" para mayor comodidad</font>\n",
    "\n",
    "* Buscar carpeta, escribir nombre de archivo SIN extensión (se especifica en el código)\n",
    "* Especificar sufijo2 si es necesario\n",
    "* Cambiar datos por datos_xx si es necesario"
   ]
  },
  {
   "cell_type": "code",
   "execution_count": null,
   "metadata": {
    "vscode": {
     "languageId": "r"
    }
   },
   "outputs": [],
   "source": [
    "# file_save <- paste0(caso, proceso, tarea, tcltk::tkgetSaveFile(), proper, extension) \n",
    "# path_out <- paste0(oPath, file_save)\n",
    "# write_csv(data_to_save_xxxxx, path_out)\n",
    "\n",
    "# cat('File saved as: ')\n",
    "# path_out"
   ]
  },
  {
   "cell_type": "markdown",
   "metadata": {},
   "source": [
    "<font color='tomato'><b> OPCION B:</b> Especificar el nombre de archivo</font>"
   ]
  },
  {
   "cell_type": "markdown",
   "metadata": {},
   "source": [
    "- Los ficheros de salida del proceso van siempre a Data/Output/.  "
   ]
  },
  {
   "cell_type": "code",
   "execution_count": null,
   "metadata": {
    "vscode": {
     "languageId": "r"
    }
   },
   "outputs": [],
   "source": [
    "# file_save <- paste0(caso, proceso, tarea, archivo, proper, extension) \n",
    "# path_out <- paste0(oPath, file_save)\n",
    "# write_csv(data_to_save_xxxxx, path_out)\n",
    "\n",
    "# cat('File saved as: ')\n",
    "# path_out"
   ]
  },
  {
   "cell_type": "markdown",
   "metadata": {},
   "source": [
    "#### Copia del fichero a Input\n",
    "\n",
    "Si el archivo se va a usar en otros notebooks, copiar a la carpeta Input"
   ]
  },
  {
   "cell_type": "code",
   "execution_count": null,
   "metadata": {
    "vscode": {
     "languageId": "r"
    }
   },
   "outputs": [],
   "source": [
    "# path_in <- paste0(iPath, file_save)\n",
    "# file.copy(path_out, path_in, overwrite = TRUE)"
   ]
  },
  {
   "cell_type": "markdown",
   "metadata": {},
   "source": [
    "## <font color='#2874a6'>REPORT</font>"
   ]
  },
  {
   "cell_type": "markdown",
   "metadata": {},
   "source": [
    "A continuación se realizará un informe de las acciones realizadas"
   ]
  },
  {
   "cell_type": "markdown",
   "metadata": {},
   "source": [
    "## <font color=' #2874a6 '>Main Actions Carried Out</font>"
   ]
  },
  {
   "cell_type": "markdown",
   "metadata": {},
   "source": [
    "- Si eran necesarias se han realizado en el proceso 05 por cuestiones de eficiencia\n",
    "- O bien se hacen en el dominio IV o V para integrar en el pipeline de modelización"
   ]
  },
  {
   "cell_type": "markdown",
   "metadata": {},
   "source": [
    "## <font color=' #2874a6 '>Main Conclusions</font>"
   ]
  },
  {
   "cell_type": "markdown",
   "metadata": {},
   "source": [
    "- Los datos están listos para la modelización y despliegue\n"
   ]
  },
  {
   "cell_type": "markdown",
   "metadata": {},
   "source": [
    "## <font color='RED'>CODE TO DEPLOY (PILOT)</font>\n",
    "\n",
    "A continuación se incluirá el código que deba ser llevado a despliegue para producción, dado que se entiende efectúa operaciones necesarias sobre los datos en la ejecución del prototipo"
   ]
  },
  {
   "cell_type": "markdown",
   "metadata": {},
   "source": [
    "<font color=' red '><b>Description</b></font>\n",
    "\n",
    "- No hay nada que desplegar en el piloto, ya que estos datos son estáticos o en todo caso cambian con muy poca frecuencia, altamente improbable durante el proyecto.\n"
   ]
  },
  {
   "cell_type": "markdown",
   "metadata": {},
   "source": [
    "<font color=' red '><b>CODE</b></font>"
   ]
  },
  {
   "cell_type": "code",
   "execution_count": null,
   "metadata": {
    "vscode": {
     "languageId": "r"
    }
   },
   "outputs": [],
   "source": []
  }
 ],
 "metadata": {
  "anaconda-cloud": {},
  "celltoolbar": "Slideshow",
  "hide_input": false,
  "kernelspec": {
   "display_name": "R",
   "language": "R",
   "name": "ir"
  },
  "language_info": {
   "codemirror_mode": "r",
   "file_extension": ".r",
   "mimetype": "text/x-r-source",
   "name": "R",
   "pygments_lexer": "r",
   "version": "4.3.0"
  },
  "latex_envs": {
   "LaTeX_envs_menu_present": true,
   "autoclose": false,
   "autocomplete": true,
   "bibliofile": "biblio.bib",
   "cite_by": "apalike",
   "current_citInitial": 1,
   "eqLabelWithNumbers": true,
   "eqNumInitial": 1,
   "hotkeys": {
    "equation": "Ctrl-E",
    "itemize": "Ctrl-I"
   },
   "labels_anchors": false,
   "latex_user_defs": false,
   "report_style_numbering": true,
   "user_envs_cfg": false
  },
  "toc": {
   "base_numbering": 1,
   "nav_menu": {},
   "number_sections": true,
   "sideBar": true,
   "skip_h1_title": true,
   "title_cell": "Table of Contents",
   "title_sidebar": "Contents",
   "toc_cell": false,
   "toc_position": {
    "height": "calc(100% - 180px)",
    "left": "10px",
    "top": "150px",
    "width": "200.633px"
   },
   "toc_section_display": true,
   "toc_window_display": true
  },
  "varInspector": {
   "cols": {
    "lenName": 16,
    "lenType": 16,
    "lenVar": 40
   },
   "kernels_config": {
    "python": {
     "delete_cmd_postfix": "",
     "delete_cmd_prefix": "del ",
     "library": "var_list.py",
     "varRefreshCmd": "print(var_dic_list())"
    },
    "r": {
     "delete_cmd_postfix": ") ",
     "delete_cmd_prefix": "rm(",
     "library": "var_list.r",
     "varRefreshCmd": "cat(var_dic_list()) "
    }
   },
   "types_to_exclude": [
    "module",
    "function",
    "builtin_function_or_method",
    "instance",
    "_Feature"
   ],
   "window_display": false
  }
 },
 "nbformat": 4,
 "nbformat_minor": 1
}
