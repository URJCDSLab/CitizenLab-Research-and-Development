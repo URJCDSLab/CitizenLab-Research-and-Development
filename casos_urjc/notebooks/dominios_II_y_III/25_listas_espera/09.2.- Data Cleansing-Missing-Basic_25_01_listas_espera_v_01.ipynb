{
 "cells": [
  {
   "cell_type": "markdown",
   "metadata": {
    "slideshow": {
     "slide_type": "slide"
    }
   },
   "source": [
    "<img src=\".\\images\\Logo.png\" width=150 align=\"left\" /> <img src=\".\\images\\Logo2.jpg\" width=450 align=\"right\" />"
   ]
  },
  {
   "attachments": {},
   "cell_type": "markdown",
   "metadata": {
    "slideshow": {
     "slide_type": "slide"
    }
   },
   "source": [
    "\n",
    "# <center><font color= #1e8449 > <b>CU25_Modelo de gestión de Lista de Espera Quirúrgica</font></center>"
   ]
  },
  {
   "cell_type": "markdown",
   "metadata": {
    "slideshow": {
     "slide_type": "slide"
    }
   },
   "source": [
    "<font color='steelblue'><b>Citizenlab Data Science Methodology > II - Data Processing Domain </font>\n",
    "***\n",
    "> # <font color='steelblue'> <b>09.2.- Data Cleansing - Missing</font>"
   ]
  },
  {
   "cell_type": "markdown",
   "metadata": {
    "slideshow": {
     "slide_type": "slide"
    }
   },
   "source": [
    "<font color='steelblue'>Data Cleaning refers to identifying and correcting (or removing) errors in the dataset that may negatively impact a predictive model, replacing, modifying, or deleting the dirty or coarse data.</font>"
   ]
  },
  {
   "cell_type": "markdown",
   "metadata": {
    "slideshow": {
     "slide_type": "slide"
    }
   },
   "source": [
    "## <font color='steelblue'>Tasks</font>"
   ]
  },
  {
   "cell_type": "markdown",
   "metadata": {},
   "source": [
    "## Consideraciones casos CitizenLab programados en R\n",
    "\n",
    "* La mayoría de las tareas de este proceso se han realizado en los notebooks del proceso 05 Data Collection porque eran necesarias para las tareas ETL. En esos casos, en este notebook se referencia al notebook del proceso 05 correspondiente\n",
    "* Por tanto en los notebooks de este proceso de manera general se incluyen las comprobaciones necesarias, y comentarios si procede\n",
    "* Las tareas del proceso se van a aplicar solo a los archivos que forman parte del despliegue, ya que hay muchos archivos intermedios que no procede pasar por este proceso\n",
    "* El nombre de archivo del notebook hace referencia al nombre de archivo del proceso 05 al que se aplica este proceso, por eso pueden no ser correlativa la numeración\n",
    "* Las comprobaciones se van a realizar teniendo en cuenta que el lenguaje utilizado en el despliegue de este caso es R"
   ]
  },
  {
   "cell_type": "markdown",
   "metadata": {},
   "source": [
    "## <font color='green'>File</font>"
   ]
  },
  {
   "attachments": {},
   "cell_type": "markdown",
   "metadata": {},
   "source": [
    "- <font color='steelblue'> <b>Input File: CU_25_09.1_01_lista_espera_completo_clean_v_01.csv</font>\n",
    "- <font color='steelblue'> <b>Output File: No aplica</font>"
   ]
  },
  {
   "cell_type": "markdown",
   "metadata": {},
   "source": [
    "## <font color='green'>Settings</font>"
   ]
  },
  {
   "cell_type": "markdown",
   "metadata": {},
   "source": [
    "### Encoding\n",
    "\n",
    "Con la siguiente expresión se evitan problemas con el encoding al ejecutar el notebook. Es posible que deba ser eliminada o adaptada a la máquina en la que se ejecute el código."
   ]
  },
  {
   "cell_type": "code",
   "execution_count": 27,
   "metadata": {
    "vscode": {
     "languageId": "r"
    }
   },
   "outputs": [
    {
     "data": {
      "text/html": [
       "'LC_COLLATE=es_ES.UTF-8;LC_CTYPE=es_ES.UTF-8;LC_MONETARY=es_ES.UTF-8;LC_NUMERIC=C;LC_TIME=es_ES.UTF-8'"
      ],
      "text/latex": [
       "'LC\\_COLLATE=es\\_ES.UTF-8;LC\\_CTYPE=es\\_ES.UTF-8;LC\\_MONETARY=es\\_ES.UTF-8;LC\\_NUMERIC=C;LC\\_TIME=es\\_ES.UTF-8'"
      ],
      "text/markdown": [
       "'LC_COLLATE=es_ES.UTF-8;LC_CTYPE=es_ES.UTF-8;LC_MONETARY=es_ES.UTF-8;LC_NUMERIC=C;LC_TIME=es_ES.UTF-8'"
      ],
      "text/plain": [
       "[1] \"LC_COLLATE=es_ES.UTF-8;LC_CTYPE=es_ES.UTF-8;LC_MONETARY=es_ES.UTF-8;LC_NUMERIC=C;LC_TIME=es_ES.UTF-8\""
      ]
     },
     "metadata": {},
     "output_type": "display_data"
    }
   ],
   "source": [
    "Sys.setlocale(category = \"LC_ALL\", locale = \"es_ES.UTF-8\")"
   ]
  },
  {
   "cell_type": "markdown",
   "metadata": {},
   "source": [
    "### Libraries to use"
   ]
  },
  {
   "cell_type": "code",
   "execution_count": 28,
   "metadata": {
    "vscode": {
     "languageId": "r"
    }
   },
   "outputs": [],
   "source": [
    "library(readr)\n",
    "library(dplyr)\n",
    "library(sf)\n",
    "library(tidyr)\n",
    "library(stringr)\n",
    "library(zoo)\n",
    "library(imputeTS)"
   ]
  },
  {
   "cell_type": "markdown",
   "metadata": {},
   "source": [
    "### Paths"
   ]
  },
  {
   "cell_type": "code",
   "execution_count": 29,
   "metadata": {
    "vscode": {
     "languageId": "r"
    }
   },
   "outputs": [],
   "source": [
    "iPath <- \"Data/Input/\"\n",
    "oPath <- \"Data/Output/\""
   ]
  },
  {
   "cell_type": "markdown",
   "metadata": {},
   "source": [
    "## <font color='green'>Data Load</font>"
   ]
  },
  {
   "cell_type": "markdown",
   "metadata": {},
   "source": [
    "<font color='tomato'><b> OPCION A:</b> Seleccionar fichero en ventana para mayor comodidad</font> "
   ]
  },
  {
   "cell_type": "markdown",
   "metadata": {},
   "source": [
    "Data load using the {tcltk} package. Ucomment the line if using this option"
   ]
  },
  {
   "cell_type": "code",
   "execution_count": 30,
   "metadata": {
    "vscode": {
     "languageId": "r"
    }
   },
   "outputs": [],
   "source": [
    "# file_data <- tcltk::tk_choose.files(multi = FALSE)"
   ]
  },
  {
   "cell_type": "markdown",
   "metadata": {},
   "source": [
    "<font color='tomato'><b> OPCION B:</b> Especificar el nombre de archivo</font>\n",
    "\n"
   ]
  },
  {
   "cell_type": "code",
   "execution_count": 31,
   "metadata": {
    "vscode": {
     "languageId": "r"
    }
   },
   "outputs": [
    {
     "name": "stdout",
     "output_type": "stream",
     "text": [
      "Se leerán datos del archivo:  Data/Input/CU_25_09.1_01_lista_espera_completo_clean_v_01.csv"
     ]
    }
   ],
   "source": [
    "iFile <- \"CU_25_09.1_01_lista_espera_completo_clean_v_01.csv\"\n",
    "file_data <- paste0(iPath, iFile)\n",
    "\n",
    "if(file.exists(file_data)){\n",
    "    cat(\"Se leerán datos del archivo: \", file_data)\n",
    "} else{\n",
    "    warning(\"Cuidado: el archivo no existe.\")\n",
    "}\n"
   ]
  },
  {
   "cell_type": "markdown",
   "metadata": {},
   "source": [
    "#### Data file to dataframe\n",
    "\n",
    "Usar la función adecuada según el formato de entrada (xlsx, csv, json, ...)"
   ]
  },
  {
   "cell_type": "code",
   "execution_count": 32,
   "metadata": {
    "vscode": {
     "languageId": "r"
    }
   },
   "outputs": [],
   "source": [
    "data <- read.csv(file_data)\n"
   ]
  },
  {
   "cell_type": "markdown",
   "metadata": {},
   "source": [
    "<font color='tomato'>Visualizo los datos.</font>"
   ]
  },
  {
   "cell_type": "markdown",
   "metadata": {},
   "source": [
    "Estructura de  los datos:"
   ]
  },
  {
   "cell_type": "code",
   "execution_count": 33,
   "metadata": {
    "vscode": {
     "languageId": "r"
    }
   },
   "outputs": [
    {
     "name": "stdout",
     "output_type": "stream",
     "text": [
      "Rows: 55,680\n",
      "Columns: 46\n",
      "$ Hospital          \u001b[3m\u001b[90m<chr>\u001b[39m\u001b[23m \"HOSPITAL REY JUAN CARLOS\", \"HOSPITAL CENTRAL DE LA …\n",
      "$ Especialidad      \u001b[3m\u001b[90m<chr>\u001b[39m\u001b[23m \"UROLOGÍA\", \"ODONTOESTOMATOLOGÍA\", \"GINECOLOGÍA\", \"D…\n",
      "$ total_pacientes   \u001b[3m\u001b[90m<int>\u001b[39m\u001b[23m 344, 0, 52, 37, 0, 4, 0, 718, 0, 271, 108, 0, 34, 86…\n",
      "$ ano               \u001b[3m\u001b[90m<int>\u001b[39m\u001b[23m 2021, 2020, 2021, 2021, 2021, 2020, 2021, 2020, 2021…\n",
      "$ semana            \u001b[3m\u001b[90m<int>\u001b[39m\u001b[23m 30, 36, 49, 23, 3, 5, 50, 7, 35, 1, 42, 10, 21, 33, …\n",
      "$ CODCNH            \u001b[3m\u001b[90m<int>\u001b[39m\u001b[23m 281348, 280724, 281292, 281292, 281236, 280724, 2807…\n",
      "$ id_area           \u001b[3m\u001b[90m<int>\u001b[39m\u001b[23m 8, 7, 11, 11, 11, 7, 3, 6, 1, 2, 2, 8, 11, 11, 1, 3,…\n",
      "$ nombre_area       \u001b[3m\u001b[90m<chr>\u001b[39m\u001b[23m \"SUR-OESTE I\", \"CENTRO-OESTE\", \"SUR II\", \"SUR II\", \"…\n",
      "$ cmunicipio        \u001b[3m\u001b[90m<int>\u001b[39m\u001b[23m 280920, 280796, 280133, 280133, 281610, 280796, 2800…\n",
      "$ Municipio         \u001b[3m\u001b[90m<chr>\u001b[39m\u001b[23m \"MÓSTOLES\", \"MADRID\", \"ARANJUEZ\", \"ARANJUEZ\", \"VALDE…\n",
      "$ CAMAS             \u001b[3m\u001b[90m<int>\u001b[39m\u001b[23m 382, 475, 98, 98, 182, 475, 507, 613, 269, 1143, 156…\n",
      "$ Clase             \u001b[3m\u001b[90m<chr>\u001b[39m\u001b[23m \"HOSPITALES GENERALES\", \"HOSPITALES GENERALES\", \"HOS…\n",
      "$ Dependencia       \u001b[3m\u001b[90m<chr>\u001b[39m\u001b[23m \"SERVICIOS E INSTITUTOS DE SALUD DE LAS COMUNIDADES …\n",
      "$ TAC               \u001b[3m\u001b[90m<int>\u001b[39m\u001b[23m 2, 2, 1, 1, 1, 2, 3, 3, 0, 0, 1, 2, 6, 6, 1, 3, 4, 1…\n",
      "$ RM                \u001b[3m\u001b[90m<int>\u001b[39m\u001b[23m 3, 2, 1, 1, 2, 2, 2, 3, 0, 0, 0, 2, 5, 5, 1, 2, 4, 1…\n",
      "$ GAM               \u001b[3m\u001b[90m<int>\u001b[39m\u001b[23m 0, 0, 0, 0, 0, 0, 1, 0, 0, 0, 0, 1, 2, 2, 0, 0, 2, 0…\n",
      "$ HEM               \u001b[3m\u001b[90m<int>\u001b[39m\u001b[23m 1, 2, 0, 0, 1, 2, 1, 2, 0, 0, 0, 1, 3, 3, 0, 1, 1, 0…\n",
      "$ ASD               \u001b[3m\u001b[90m<int>\u001b[39m\u001b[23m 2, 1, 1, 1, 1, 1, 1, 3, 0, 0, 0, 1, 2, 2, 0, 1, 2, 1…\n",
      "$ ALI               \u001b[3m\u001b[90m<int>\u001b[39m\u001b[23m 1, 2, 0, 0, 0, 2, 0, 4, 0, 0, 0, 0, 3, 3, 0, 2, 2, 0…\n",
      "$ SPECT             \u001b[3m\u001b[90m<int>\u001b[39m\u001b[23m 1, 1, 0, 0, 0, 1, 0, 4, 0, 0, 0, 0, 3, 3, 0, 0, 0, 0…\n",
      "$ MAMOS             \u001b[3m\u001b[90m<int>\u001b[39m\u001b[23m 2, 1, 1, 1, 1, 1, 2, 2, 0, 0, 1, 2, 3, 3, 1, 1, 3, 1…\n",
      "$ DO                \u001b[3m\u001b[90m<int>\u001b[39m\u001b[23m 1, 1, 0, 0, 1, 1, 1, 1, 0, 0, 1, 1, 2, 2, 0, 1, 2, 0…\n",
      "$ DIAL              \u001b[3m\u001b[90m<int>\u001b[39m\u001b[23m 20, 24, 13, 13, 17, 24, 28, 31, 0, 0, 0, 28, 43, 43,…\n",
      "$ X                 \u001b[3m\u001b[90m<dbl>\u001b[39m\u001b[23m -3.870412, -3.745529, -3.610795, -3.610795, -3.69744…\n",
      "$ Y                 \u001b[3m\u001b[90m<dbl>\u001b[39m\u001b[23m 40.33920, 40.38791, 40.05726, 40.05726, 40.19884, 40…\n",
      "$ t3_1              \u001b[3m\u001b[90m<dbl>\u001b[39m\u001b[23m 42.34715, 45.37878, 42.06149, 42.06149, 42.06149, 45…\n",
      "$ t1_1              \u001b[3m\u001b[90m<int>\u001b[39m\u001b[23m 532487, 511605, 899702, 899702, 899702, 511605, 3830…\n",
      "$ t2_1              \u001b[3m\u001b[90m<dbl>\u001b[39m\u001b[23m 0.5122493, 0.5296804, 0.5240445, 0.5240445, 0.524044…\n",
      "$ t2_2              \u001b[3m\u001b[90m<dbl>\u001b[39m\u001b[23m 0.4877507, 0.4703198, 0.4759555, 0.4759555, 0.475955…\n",
      "$ t4_1              \u001b[3m\u001b[90m<dbl>\u001b[39m\u001b[23m 0.1659665, 0.1054260, 0.1540793, 0.1540793, 0.154079…\n",
      "$ t4_2              \u001b[3m\u001b[90m<dbl>\u001b[39m\u001b[23m 0.6371549, 0.6742432, 0.6753787, 0.6753787, 0.675378…\n",
      "$ t4_3              \u001b[3m\u001b[90m<dbl>\u001b[39m\u001b[23m 0.1968769, 0.2203341, 0.1705449, 0.1705449, 0.170544…\n",
      "$ t5_1              \u001b[3m\u001b[90m<dbl>\u001b[39m\u001b[23m 0.1137647, 0.1744493, 0.1747059, 0.1747059, 0.174705…\n",
      "$ t6_1              \u001b[3m\u001b[90m<dbl>\u001b[39m\u001b[23m 0.1604646, 0.2629599, 0.2641879, 0.2641879, 0.264187…\n",
      "$ t7_1              \u001b[3m\u001b[90m<dbl>\u001b[39m\u001b[23m 0.05422176, 0.05481008, 0.04898547, 0.04898547, 0.04…\n",
      "$ t8_1              \u001b[3m\u001b[90m<dbl>\u001b[39m\u001b[23m 0.04120012, 0.04653221, 0.03679912, 0.03679912, 0.03…\n",
      "$ t9_1              \u001b[3m\u001b[90m<dbl>\u001b[39m\u001b[23m 0.3348780, 0.4914365, 0.3346063, 0.3346063, 0.334606…\n",
      "$ t10_1             \u001b[3m\u001b[90m<dbl>\u001b[39m\u001b[23m 0.13692541, 0.12170996, 0.15173209, 0.15173209, 0.15…\n",
      "$ t11_1             \u001b[3m\u001b[90m<dbl>\u001b[39m\u001b[23m 0.5072726, 0.4915713, 0.5024130, 0.5024130, 0.502413…\n",
      "$ t12_1             \u001b[3m\u001b[90m<dbl>\u001b[39m\u001b[23m 0.5849309, 0.5597213, 0.5900028, 0.5900028, 0.590002…\n",
      "$ capacidad         \u001b[3m\u001b[90m<int>\u001b[39m\u001b[23m 17, 0, 8, 5, 0, 5, 1, 24, 6, 6, 30, 4, 2, 15, 20, 6,…\n",
      "$ pacientes         \u001b[3m\u001b[90m<int>\u001b[39m\u001b[23m 1447, 1211, 1293, 1501, 1240, 1504, 1502, 1533, 1463…\n",
      "$ consultas         \u001b[3m\u001b[90m<int>\u001b[39m\u001b[23m 573, 45, 108, 103, 44, 42, 36, 1119, 34, 466, 220, 6…\n",
      "$ hospitalizaciones \u001b[3m\u001b[90m<int>\u001b[39m\u001b[23m 12, 0, 2, 2, 0, 1, 0, 4, 0, 12, 3, 0, 2, 4, 1, 2, 15…\n",
      "$ Target            \u001b[3m\u001b[90m<dbl>\u001b[39m\u001b[23m 54.45, 0.00, 37.96, 23.14, 0.00, 6.25, 0.00, 78.20, …\n",
      "$ is_train          \u001b[3m\u001b[90m<lgl>\u001b[39m\u001b[23m TRUE, TRUE, TRUE, TRUE, TRUE, TRUE, TRUE, TRUE, TRUE…\n"
     ]
    }
   ],
   "source": [
    "data |> glimpse()"
   ]
  },
  {
   "cell_type": "markdown",
   "metadata": {},
   "source": [
    "Muestra de los primeros datos:"
   ]
  },
  {
   "cell_type": "code",
   "execution_count": 34,
   "metadata": {
    "vscode": {
     "languageId": "r"
    }
   },
   "outputs": [
    {
     "data": {
      "text/html": [
       "<table class=\"dataframe\">\n",
       "<caption>A data.frame: 5 × 46</caption>\n",
       "<thead>\n",
       "\t<tr><th scope=col>Hospital</th><th scope=col>Especialidad</th><th scope=col>total_pacientes</th><th scope=col>ano</th><th scope=col>semana</th><th scope=col>CODCNH</th><th scope=col>id_area</th><th scope=col>nombre_area</th><th scope=col>cmunicipio</th><th scope=col>Municipio</th><th scope=col>⋯</th><th scope=col>t9_1</th><th scope=col>t10_1</th><th scope=col>t11_1</th><th scope=col>t12_1</th><th scope=col>capacidad</th><th scope=col>pacientes</th><th scope=col>consultas</th><th scope=col>hospitalizaciones</th><th scope=col>Target</th><th scope=col>is_train</th></tr>\n",
       "\t<tr><th scope=col>&lt;chr&gt;</th><th scope=col>&lt;chr&gt;</th><th scope=col>&lt;int&gt;</th><th scope=col>&lt;int&gt;</th><th scope=col>&lt;int&gt;</th><th scope=col>&lt;int&gt;</th><th scope=col>&lt;int&gt;</th><th scope=col>&lt;chr&gt;</th><th scope=col>&lt;int&gt;</th><th scope=col>&lt;chr&gt;</th><th scope=col>⋯</th><th scope=col>&lt;dbl&gt;</th><th scope=col>&lt;dbl&gt;</th><th scope=col>&lt;dbl&gt;</th><th scope=col>&lt;dbl&gt;</th><th scope=col>&lt;int&gt;</th><th scope=col>&lt;int&gt;</th><th scope=col>&lt;int&gt;</th><th scope=col>&lt;int&gt;</th><th scope=col>&lt;dbl&gt;</th><th scope=col>&lt;lgl&gt;</th></tr>\n",
       "</thead>\n",
       "<tbody>\n",
       "\t<tr><td>HOSPITAL REY JUAN CARLOS                 </td><td>UROLOGÍA           </td><td>344</td><td>2021</td><td>30</td><td>281348</td><td> 8</td><td>SUR-OESTE I </td><td>280920</td><td>MÓSTOLES </td><td>⋯</td><td>0.3348780</td><td>0.1369254</td><td>0.5072726</td><td>0.5849309</td><td>17</td><td>1447</td><td>573</td><td>12</td><td>54.45</td><td>TRUE</td></tr>\n",
       "\t<tr><td>HOSPITAL CENTRAL DE LA DEFENSA GOMEZ ULLA</td><td>ODONTOESTOMATOLOGÍA</td><td>  0</td><td>2020</td><td>36</td><td>280724</td><td> 7</td><td>CENTRO-OESTE</td><td>280796</td><td>MADRID   </td><td>⋯</td><td>0.4914365</td><td>0.1217100</td><td>0.4915713</td><td>0.5597213</td><td> 0</td><td>1211</td><td> 45</td><td> 0</td><td> 0.00</td><td>TRUE</td></tr>\n",
       "\t<tr><td>HOSPITAL UNIVERSITARIO DEL TAJO          </td><td>GINECOLOGÍA        </td><td> 52</td><td>2021</td><td>49</td><td>281292</td><td>11</td><td>SUR II      </td><td>280133</td><td>ARANJUEZ </td><td>⋯</td><td>0.3346063</td><td>0.1517321</td><td>0.5024130</td><td>0.5900028</td><td> 8</td><td>1293</td><td>108</td><td> 2</td><td>37.96</td><td>TRUE</td></tr>\n",
       "\t<tr><td>HOSPITAL UNIVERSITARIO DEL TAJO          </td><td>DERMATOLOGÍA       </td><td> 37</td><td>2021</td><td>23</td><td>281292</td><td>11</td><td>SUR II      </td><td>280133</td><td>ARANJUEZ </td><td>⋯</td><td>0.3346063</td><td>0.1517321</td><td>0.5024130</td><td>0.5900028</td><td> 5</td><td>1501</td><td>103</td><td> 2</td><td>23.14</td><td>TRUE</td></tr>\n",
       "\t<tr><td>HOSPITAL UNIVERSITARIO INFANTA ELENA     </td><td>ODONTOESTOMATOLOGÍA</td><td>  0</td><td>2021</td><td> 3</td><td>281236</td><td>11</td><td>SUR II      </td><td>281610</td><td>VALDEMORO</td><td>⋯</td><td>0.3346063</td><td>0.1517321</td><td>0.5024130</td><td>0.5900028</td><td> 0</td><td>1240</td><td> 44</td><td> 0</td><td> 0.00</td><td>TRUE</td></tr>\n",
       "</tbody>\n",
       "</table>\n"
      ],
      "text/latex": [
       "A data.frame: 5 × 46\n",
       "\\begin{tabular}{lllllllllllllllllllll}\n",
       " Hospital & Especialidad & total\\_pacientes & ano & semana & CODCNH & id\\_area & nombre\\_area & cmunicipio & Municipio & ⋯ & t9\\_1 & t10\\_1 & t11\\_1 & t12\\_1 & capacidad & pacientes & consultas & hospitalizaciones & Target & is\\_train\\\\\n",
       " <chr> & <chr> & <int> & <int> & <int> & <int> & <int> & <chr> & <int> & <chr> & ⋯ & <dbl> & <dbl> & <dbl> & <dbl> & <int> & <int> & <int> & <int> & <dbl> & <lgl>\\\\\n",
       "\\hline\n",
       "\t HOSPITAL REY JUAN CARLOS                  & UROLOGÍA            & 344 & 2021 & 30 & 281348 &  8 & SUR-OESTE I  & 280920 & MÓSTOLES  & ⋯ & 0.3348780 & 0.1369254 & 0.5072726 & 0.5849309 & 17 & 1447 & 573 & 12 & 54.45 & TRUE\\\\\n",
       "\t HOSPITAL CENTRAL DE LA DEFENSA GOMEZ ULLA & ODONTOESTOMATOLOGÍA &   0 & 2020 & 36 & 280724 &  7 & CENTRO-OESTE & 280796 & MADRID    & ⋯ & 0.4914365 & 0.1217100 & 0.4915713 & 0.5597213 &  0 & 1211 &  45 &  0 &  0.00 & TRUE\\\\\n",
       "\t HOSPITAL UNIVERSITARIO DEL TAJO           & GINECOLOGÍA         &  52 & 2021 & 49 & 281292 & 11 & SUR II       & 280133 & ARANJUEZ  & ⋯ & 0.3346063 & 0.1517321 & 0.5024130 & 0.5900028 &  8 & 1293 & 108 &  2 & 37.96 & TRUE\\\\\n",
       "\t HOSPITAL UNIVERSITARIO DEL TAJO           & DERMATOLOGÍA        &  37 & 2021 & 23 & 281292 & 11 & SUR II       & 280133 & ARANJUEZ  & ⋯ & 0.3346063 & 0.1517321 & 0.5024130 & 0.5900028 &  5 & 1501 & 103 &  2 & 23.14 & TRUE\\\\\n",
       "\t HOSPITAL UNIVERSITARIO INFANTA ELENA      & ODONTOESTOMATOLOGÍA &   0 & 2021 &  3 & 281236 & 11 & SUR II       & 281610 & VALDEMORO & ⋯ & 0.3346063 & 0.1517321 & 0.5024130 & 0.5900028 &  0 & 1240 &  44 &  0 &  0.00 & TRUE\\\\\n",
       "\\end{tabular}\n"
      ],
      "text/markdown": [
       "\n",
       "A data.frame: 5 × 46\n",
       "\n",
       "| Hospital &lt;chr&gt; | Especialidad &lt;chr&gt; | total_pacientes &lt;int&gt; | ano &lt;int&gt; | semana &lt;int&gt; | CODCNH &lt;int&gt; | id_area &lt;int&gt; | nombre_area &lt;chr&gt; | cmunicipio &lt;int&gt; | Municipio &lt;chr&gt; | ⋯ ⋯ | t9_1 &lt;dbl&gt; | t10_1 &lt;dbl&gt; | t11_1 &lt;dbl&gt; | t12_1 &lt;dbl&gt; | capacidad &lt;int&gt; | pacientes &lt;int&gt; | consultas &lt;int&gt; | hospitalizaciones &lt;int&gt; | Target &lt;dbl&gt; | is_train &lt;lgl&gt; |\n",
       "|---|---|---|---|---|---|---|---|---|---|---|---|---|---|---|---|---|---|---|---|---|\n",
       "| HOSPITAL REY JUAN CARLOS                  | UROLOGÍA            | 344 | 2021 | 30 | 281348 |  8 | SUR-OESTE I  | 280920 | MÓSTOLES  | ⋯ | 0.3348780 | 0.1369254 | 0.5072726 | 0.5849309 | 17 | 1447 | 573 | 12 | 54.45 | TRUE |\n",
       "| HOSPITAL CENTRAL DE LA DEFENSA GOMEZ ULLA | ODONTOESTOMATOLOGÍA |   0 | 2020 | 36 | 280724 |  7 | CENTRO-OESTE | 280796 | MADRID    | ⋯ | 0.4914365 | 0.1217100 | 0.4915713 | 0.5597213 |  0 | 1211 |  45 |  0 |  0.00 | TRUE |\n",
       "| HOSPITAL UNIVERSITARIO DEL TAJO           | GINECOLOGÍA         |  52 | 2021 | 49 | 281292 | 11 | SUR II       | 280133 | ARANJUEZ  | ⋯ | 0.3346063 | 0.1517321 | 0.5024130 | 0.5900028 |  8 | 1293 | 108 |  2 | 37.96 | TRUE |\n",
       "| HOSPITAL UNIVERSITARIO DEL TAJO           | DERMATOLOGÍA        |  37 | 2021 | 23 | 281292 | 11 | SUR II       | 280133 | ARANJUEZ  | ⋯ | 0.3346063 | 0.1517321 | 0.5024130 | 0.5900028 |  5 | 1501 | 103 |  2 | 23.14 | TRUE |\n",
       "| HOSPITAL UNIVERSITARIO INFANTA ELENA      | ODONTOESTOMATOLOGÍA |   0 | 2021 |  3 | 281236 | 11 | SUR II       | 281610 | VALDEMORO | ⋯ | 0.3346063 | 0.1517321 | 0.5024130 | 0.5900028 |  0 | 1240 |  44 |  0 |  0.00 | TRUE |\n",
       "\n"
      ],
      "text/plain": [
       "  Hospital                                  Especialidad        total_pacientes\n",
       "1 HOSPITAL REY JUAN CARLOS                  UROLOGÍA            344            \n",
       "2 HOSPITAL CENTRAL DE LA DEFENSA GOMEZ ULLA ODONTOESTOMATOLOGÍA   0            \n",
       "3 HOSPITAL UNIVERSITARIO DEL TAJO           GINECOLOGÍA          52            \n",
       "4 HOSPITAL UNIVERSITARIO DEL TAJO           DERMATOLOGÍA         37            \n",
       "5 HOSPITAL UNIVERSITARIO INFANTA ELENA      ODONTOESTOMATOLOGÍA   0            \n",
       "  ano  semana CODCNH id_area nombre_area  cmunicipio Municipio ⋯ t9_1     \n",
       "1 2021 30     281348  8      SUR-OESTE I  280920     MÓSTOLES  ⋯ 0.3348780\n",
       "2 2020 36     280724  7      CENTRO-OESTE 280796     MADRID    ⋯ 0.4914365\n",
       "3 2021 49     281292 11      SUR II       280133     ARANJUEZ  ⋯ 0.3346063\n",
       "4 2021 23     281292 11      SUR II       280133     ARANJUEZ  ⋯ 0.3346063\n",
       "5 2021  3     281236 11      SUR II       281610     VALDEMORO ⋯ 0.3346063\n",
       "  t10_1     t11_1     t12_1     capacidad pacientes consultas hospitalizaciones\n",
       "1 0.1369254 0.5072726 0.5849309 17        1447      573       12               \n",
       "2 0.1217100 0.4915713 0.5597213  0        1211       45        0               \n",
       "3 0.1517321 0.5024130 0.5900028  8        1293      108        2               \n",
       "4 0.1517321 0.5024130 0.5900028  5        1501      103        2               \n",
       "5 0.1517321 0.5024130 0.5900028  0        1240       44        0               \n",
       "  Target is_train\n",
       "1 54.45  TRUE    \n",
       "2  0.00  TRUE    \n",
       "3 37.96  TRUE    \n",
       "4 23.14  TRUE    \n",
       "5  0.00  TRUE    "
      ]
     },
     "metadata": {},
     "output_type": "display_data"
    }
   ],
   "source": [
    "data |> slice_head(n = 5)"
   ]
  },
  {
   "cell_type": "markdown",
   "metadata": {
    "slideshow": {
     "slide_type": "slide"
    }
   },
   "source": [
    "## Missing Values"
   ]
  },
  {
   "cell_type": "markdown",
   "metadata": {
    "slideshow": {
     "slide_type": "slide"
    }
   },
   "source": [
    "### Missing Values Identification"
   ]
  },
  {
   "cell_type": "markdown",
   "metadata": {
    "slideshow": {
     "slide_type": "slide"
    }
   },
   "source": [
    "#### Missing Values Per Sample"
   ]
  },
  {
   "cell_type": "code",
   "execution_count": 35,
   "metadata": {
    "ExecuteTime": {
     "end_time": "2020-12-27T08:07:54.668149Z",
     "start_time": "2020-12-27T08:07:54.590061Z"
    },
    "scrolled": true,
    "vscode": {
     "languageId": "r"
    }
   },
   "outputs": [
    {
     "name": "stdout",
     "output_type": "stream",
     "text": [
      "         ID NAs\n",
      "138     138   4\n",
      "241     241   4\n",
      "577     577   4\n",
      "579     579   4\n",
      "614     614   4\n",
      "759     759   4\n",
      "786     786   4\n",
      "951     951   4\n",
      "1087   1087   4\n",
      "1183   1183   4\n",
      "1348   1348   4\n",
      "1487   1487   4\n",
      "1920   1920   4\n",
      "2049   2049   4\n",
      "2081   2081   4\n",
      "2102   2102   4\n",
      "2351   2351   4\n",
      "2414   2414   4\n",
      "2535   2535   4\n",
      "2981   2981   4\n",
      "3115   3115   4\n",
      "3362   3362   4\n",
      "3367   3367   4\n",
      "3445   3445   4\n",
      "3475   3475   4\n",
      "3495   3495   4\n",
      "3542   3542   4\n",
      "3587   3587   4\n",
      "3672   3672   4\n",
      "3745   3745   4\n",
      "3905   3905   4\n",
      "4030   4030   4\n",
      "4166   4166   4\n",
      "4287   4287   4\n",
      "4352   4352   4\n",
      "4611   4611   4\n",
      "4660   4660   4\n",
      "4799   4799   4\n",
      "5021   5021   4\n",
      "5023   5023   4\n",
      "5051   5051   4\n",
      "5073   5073   4\n",
      "5193   5193   4\n",
      "5196   5196   4\n",
      "5199   5199   4\n",
      "5401   5401   4\n",
      "5484   5484   4\n",
      "5709   5709   4\n",
      "5803   5803   4\n",
      "6016   6016   4\n",
      "6092   6092   4\n",
      "6144   6144   4\n",
      "6292   6292   4\n",
      "6391   6391   4\n",
      "6491   6491   4\n",
      "6556   6556   4\n",
      "6661   6661   4\n",
      "6680   6680   4\n",
      "6690   6690   4\n",
      "6757   6757   4\n",
      "7052   7052   4\n",
      "7055   7055   4\n",
      "7260   7260   4\n",
      "7330   7330   4\n",
      "7619   7619   4\n",
      "7668   7668   4\n",
      "7706   7706   4\n",
      "7851   7851   4\n",
      "8077   8077   4\n",
      "8263   8263   4\n",
      "8329   8329   4\n",
      "8341   8341   4\n",
      "8426   8426   4\n",
      "8560   8560   4\n",
      "8599   8599   4\n",
      "8610   8610   4\n",
      "8648   8648   4\n",
      "8756   8756   4\n",
      "8782   8782   4\n",
      "9209   9209   4\n",
      "9213   9213   4\n",
      "9553   9553   4\n",
      "9635   9635   4\n",
      "9934   9934   4\n",
      "10404 10404   4\n",
      "10468 10468   4\n",
      "10512 10512   4\n",
      "10548 10548   4\n",
      "10616 10616   4\n",
      "10729 10729   4\n",
      "10991 10991   4\n",
      "11214 11214   4\n",
      "11218 11218   4\n",
      "11269 11269   4\n",
      "11310 11310   4\n",
      "11768 11768   4\n",
      "11846 11846   4\n",
      "11907 11907   4\n",
      "11943 11943   4\n",
      "12014 12014   4\n",
      "12035 12035   4\n",
      "12065 12065   4\n",
      "12091 12091   4\n",
      "12212 12212   4\n",
      "12247 12247   4\n",
      "12282 12282   4\n",
      "12362 12362   4\n",
      "12558 12558   4\n",
      "12791 12791   4\n",
      "12917 12917   4\n",
      "12926 12926   4\n",
      "12950 12950   4\n",
      "13394 13394   4\n",
      "13579 13579   4\n",
      "13708 13708   4\n",
      "13723 13723   4\n",
      "13739 13739   4\n",
      "13897 13897   4\n",
      "13953 13953   4\n",
      "13979 13979   4\n",
      "14131 14131   4\n",
      "14161 14161   4\n",
      "14419 14419   4\n",
      "14454 14454   4\n",
      "14462 14462   4\n",
      "14589 14589   4\n",
      "14845 14845   4\n",
      "14868 14868   4\n",
      "14950 14950   4\n",
      "15031 15031   4\n",
      "15251 15251   4\n",
      "15365 15365   4\n",
      "15462 15462   4\n",
      "15496 15496   4\n",
      "15562 15562   4\n",
      "15779 15779   4\n",
      "15802 15802   4\n",
      "16098 16098   4\n",
      "16147 16147   4\n",
      "16200 16200   4\n",
      "16310 16310   4\n",
      "16335 16335   4\n",
      "16591 16591   4\n",
      "16720 16720   4\n",
      "16775 16775   4\n",
      "17161 17161   4\n",
      "17233 17233   4\n",
      "17341 17341   4\n",
      "17521 17521   4\n",
      "17709 17709   4\n",
      "17723 17723   4\n",
      "17738 17738   4\n",
      "17832 17832   4\n",
      "17876 17876   4\n",
      "18144 18144   4\n",
      "18204 18204   4\n",
      "18264 18264   4\n",
      "18301 18301   4\n",
      "18351 18351   4\n",
      "18430 18430   4\n",
      "18465 18465   4\n",
      "18580 18580   4\n",
      "18656 18656   4\n",
      "18669 18669   4\n",
      "18835 18835   4\n",
      "19195 19195   4\n",
      "19406 19406   4\n",
      "19808 19808   4\n",
      "19829 19829   4\n",
      "19913 19913   4\n",
      "19968 19968   4\n",
      "20033 20033   4\n",
      "20086 20086   4\n",
      "20170 20170   4\n",
      "20199 20199   4\n",
      "20292 20292   4\n",
      "20373 20373   4\n",
      "20464 20464   4\n",
      "20639 20639   4\n",
      "20704 20704   4\n",
      "20770 20770   4\n",
      "20771 20771   4\n",
      "20958 20958   4\n",
      "21050 21050   4\n",
      "21094 21094   4\n",
      "21130 21130   4\n",
      "21224 21224   4\n",
      "21403 21403   4\n",
      "21551 21551   4\n",
      "21580 21580   4\n",
      "21623 21623   4\n",
      "21632 21632   4\n",
      "21658 21658   4\n",
      "21716 21716   4\n",
      "21754 21754   4\n",
      "21774 21774   4\n",
      "21809 21809   4\n",
      "22119 22119   4\n",
      "22222 22222   4\n",
      "22233 22233   4\n",
      "22396 22396   4\n",
      "22515 22515   4\n",
      "22525 22525   4\n",
      "22572 22572   4\n",
      "22648 22648   4\n",
      "22849 22849   4\n",
      "23045 23045   4\n",
      "23235 23235   4\n",
      "23465 23465   4\n",
      "23468 23468   4\n",
      "23778 23778   4\n",
      "23978 23978   4\n",
      "24003 24003   4\n",
      "24101 24101   4\n",
      "24208 24208   4\n",
      "24217 24217   4\n",
      "24265 24265   4\n",
      "24269 24269   4\n",
      "24405 24405   4\n",
      "24425 24425   4\n",
      "24460 24460   4\n",
      "24491 24491   4\n",
      "24514 24514   4\n",
      "24721 24721   4\n",
      "24730 24730   4\n",
      "24832 24832   4\n",
      "25027 25027   4\n",
      "25190 25190   4\n",
      "25232 25232   4\n",
      "25623 25623   4\n",
      "25684 25684   4\n",
      "25715 25715   4\n",
      "25754 25754   4\n",
      "26083 26083   4\n",
      "26154 26154   4\n",
      "26421 26421   4\n",
      "26579 26579   4\n",
      "27427 27427   4\n",
      "27498 27498   4\n",
      "27644 27644   4\n",
      "27673 27673   4\n",
      "27722 27722   4\n",
      "28097 28097   4\n",
      "28285 28285   4\n",
      "28492 28492   4\n",
      "28648 28648   4\n",
      "28813 28813   4\n",
      "28978 28978   4\n",
      "29002 29002   4\n",
      "29005 29005   4\n",
      "29107 29107   4\n",
      "29125 29125   4\n",
      "29176 29176   4\n",
      "29195 29195   4\n",
      "29218 29218   4\n",
      "29241 29241   4\n",
      "29382 29382   4\n",
      "29400 29400   4\n",
      "29521 29521   4\n",
      "29561 29561   4\n",
      "29815 29815   4\n",
      "29867 29867   4\n",
      "29927 29927   4\n",
      "30083 30083   4\n",
      "30394 30394   4\n",
      "30499 30499   4\n",
      "30920 30920   4\n",
      "30924 30924   4\n",
      "31182 31182   4\n",
      "31350 31350   4\n",
      "31451 31451   4\n",
      "31723 31723   4\n",
      "31746 31746   4\n",
      "31963 31963   4\n",
      "32224 32224   4\n",
      "32286 32286   4\n",
      "32334 32334   4\n",
      "32437 32437   4\n",
      "32767 32767   4\n",
      "32866 32866   4\n",
      "32996 32996   4\n",
      "33228 33228   4\n",
      "33317 33317   4\n",
      "33412 33412   4\n",
      "33502 33502   4\n",
      "33557 33557   4\n",
      "33795 33795   4\n",
      "33828 33828   4\n",
      "34531 34531   4\n",
      "34653 34653   4\n",
      "35002 35002   4\n",
      "35067 35067   4\n",
      "35148 35148   4\n",
      "35223 35223   4\n",
      "35339 35339   4\n",
      "35385 35385   4\n",
      "35939 35939   4\n",
      "35983 35983   4\n",
      "36145 36145   4\n",
      "36226 36226   4\n",
      "36231 36231   4\n",
      "36265 36265   4\n",
      "36349 36349   4\n",
      "36417 36417   4\n",
      "36632 36632   4\n",
      "36708 36708   4\n",
      "36838 36838   4\n",
      "36959 36959   4\n",
      "37047 37047   4\n",
      "37089 37089   4\n",
      "37278 37278   4\n",
      "37431 37431   4\n",
      "37672 37672   4\n",
      "37806 37806   4\n",
      "37950 37950   4\n",
      "38274 38274   4\n",
      "38428 38428   4\n",
      "38590 38590   4\n",
      "38596 38596   4\n",
      "38673 38673   4\n",
      "38683 38683   4\n",
      "38815 38815   4\n",
      "39206 39206   4\n",
      "39390 39390   4\n",
      "39502 39502   4\n",
      "39591 39591   4\n",
      "39661 39661   4\n",
      "39674 39674   4\n",
      "39800 39800   4\n",
      "40114 40114   4\n",
      "40135 40135   4\n",
      "40226 40226   4\n",
      "40366 40366   4\n",
      "40371 40371   4\n",
      "40384 40384   4\n",
      "40430 40430   4\n",
      "40574 40574   4\n",
      "40750 40750   4\n",
      "40787 40787   4\n",
      "40968 40968   4\n",
      "41104 41104   4\n",
      "41282 41282   4\n",
      "41283 41283   4\n",
      "41483 41483   4\n",
      "41793 41793   4\n",
      "41999 41999   4\n",
      "42042 42042   4\n",
      "42267 42267   4\n",
      "42379 42379   4\n",
      "42438 42438   4\n",
      "42560 42560   4\n",
      "42563 42563   4\n",
      "42653 42653   4\n",
      "42665 42665   4\n",
      "42710 42710   4\n",
      "42718 42718   4\n",
      "42861 42861   4\n",
      "42931 42931   4\n",
      "42939 42939   4\n",
      "42963 42963   4\n",
      "43002 43002   4\n",
      "43056 43056   4\n",
      "43069 43069   4\n",
      "43236 43236   4\n",
      "43237 43237   4\n",
      "43285 43285   4\n",
      "43359 43359   4\n",
      "43471 43471   4\n",
      "43857 43857   4\n",
      "43914 43914   4\n",
      "44150 44150   4\n",
      "44218 44218   4\n",
      "44225 44225   4\n",
      "44251 44251   4\n",
      "44725 44725   4\n",
      "44835 44835   4\n",
      "44881 44881   4\n",
      "44919 44919   4\n",
      "45095 45095   4\n",
      "45249 45249   4\n",
      "45271 45271   4\n",
      "45289 45289   4\n",
      "45319 45319   4\n",
      "45402 45402   4\n",
      "45460 45460   4\n",
      "45570 45570   4\n",
      "45614 45614   4\n",
      "45787 45787   4\n",
      "46161 46161   4\n",
      "46194 46194   4\n",
      "46297 46297   4\n",
      "46349 46349   4\n",
      "46394 46394   4\n",
      "46665 46665   4\n",
      "46690 46690   4\n",
      "46863 46863   4\n",
      "46888 46888   4\n",
      "47034 47034   4\n",
      "47131 47131   4\n",
      "47207 47207   4\n",
      "47381 47381   4\n",
      "47504 47504   4\n",
      "47583 47583   4\n",
      "47608 47608   4\n",
      "47658 47658   4\n",
      "47681 47681   4\n",
      "47884 47884   4\n",
      "48110 48110   4\n",
      "48194 48194   4\n",
      "48217 48217   4\n",
      "48262 48262   4\n",
      "48414 48414   4\n",
      "48681 48681   4\n",
      "48706 48706   4\n",
      "48830 48830   4\n",
      "49060 49060   4\n",
      "49085 49085   4\n",
      "49154 49154   4\n",
      "49258 49258   4\n",
      "49287 49287   4\n",
      "49305 49305   4\n",
      "49583 49583   4\n",
      "50036 50036   4\n",
      "50114 50114   4\n",
      "50247 50247   4\n",
      "50275 50275   4\n",
      "50454 50454   4\n",
      "50738 50738   4\n",
      "50833 50833   4\n",
      "51025 51025   4\n",
      "51254 51254   4\n",
      "51418 51418   4\n",
      "51836 51836   4\n",
      "51999 51999   4\n",
      "52050 52050   4\n",
      "52306 52306   4\n",
      "52440 52440   4\n",
      "52582 52582   4\n",
      "52627 52627   4\n",
      "52923 52923   4\n",
      "53175 53175   4\n",
      "53341 53341   4\n",
      "53541 53541   4\n",
      "53565 53565   4\n",
      "53798 53798   4\n",
      "53827 53827   4\n",
      "53997 53997   4\n",
      "54016 54016   4\n",
      "54123 54123   4\n",
      "54150 54150   4\n",
      "54304 54304   4\n",
      "54343 54343   4\n",
      "54621 54621   4\n",
      "54694 54694   4\n",
      "54778 54778   4\n",
      "54967 54967   4\n",
      "55018 55018   4\n",
      "55114 55114   4\n",
      "55248 55248   4\n",
      "55369 55369   4\n",
      "55396 55396   4\n",
      "55432 55432   4\n",
      "55478 55478   4\n",
      "55581 55581   4\n"
     ]
    }
   ],
   "source": [
    "# Create a dataframe with ID and number of missing values per sample\n",
    "missing_per_sample_df <- data.frame(ID = 1:nrow(data), NAs = rowSums(is.na(data)))\n",
    "\n",
    "# Filter rows with more than one missing value\n",
    "filtered_missing_per_sample_df <- missing_per_sample_df[missing_per_sample_df$NAs > 1, ]\n",
    "\n",
    "# Print the filtered dataframe\n",
    "print(filtered_missing_per_sample_df)"
   ]
  },
  {
   "cell_type": "markdown",
   "metadata": {
    "slideshow": {
     "slide_type": "slide"
    }
   },
   "source": [
    "#### Missing Values Per Feature"
   ]
  },
  {
   "cell_type": "code",
   "execution_count": 36,
   "metadata": {
    "ExecuteTime": {
     "end_time": "2020-12-27T08:07:54.668149Z",
     "start_time": "2020-12-27T08:07:54.590061Z"
    },
    "scrolled": true,
    "vscode": {
     "languageId": "r"
    }
   },
   "outputs": [
    {
     "name": "stdout",
     "output_type": "stream",
     "text": [
      "         Hospital      Especialidad   total_pacientes               ano \n",
      "                0                 0               464                 0 \n",
      "           semana            CODCNH           id_area       nombre_area \n",
      "                0                 0                 0                 0 \n",
      "       cmunicipio         Municipio             CAMAS             Clase \n",
      "                0                 0                 0                 0 \n",
      "      Dependencia               TAC                RM               GAM \n",
      "                0                 0                 0                 0 \n",
      "              HEM               ASD               ALI             SPECT \n",
      "                0                 0                 0                 0 \n",
      "            MAMOS                DO              DIAL                 X \n",
      "                0                 0                 0                 0 \n",
      "                Y              t3_1              t1_1              t2_1 \n",
      "                0                 0                 0                 0 \n",
      "             t2_2              t4_1              t4_2              t4_3 \n",
      "                0                 0                 0                 0 \n",
      "             t5_1              t6_1              t7_1              t8_1 \n",
      "                0                 0                 0                 0 \n",
      "             t9_1             t10_1             t11_1             t12_1 \n",
      "                0                 0                 0                 0 \n",
      "        capacidad         pacientes         consultas hospitalizaciones \n",
      "                0                 0               464               464 \n",
      "           Target          is_train \n",
      "              464                 0 \n"
     ]
    }
   ],
   "source": [
    "# Calculate the number of missing values per feature\n",
    "missing_per_feature <- colSums(is.na(data))\n",
    "\n",
    "# Print the number of missing values per feature\n",
    "print(missing_per_feature)"
   ]
  },
  {
   "cell_type": "markdown",
   "metadata": {
    "slideshow": {
     "slide_type": "slide"
    }
   },
   "source": [
    "#### Zero Missing Values"
   ]
  },
  {
   "cell_type": "code",
   "execution_count": 37,
   "metadata": {
    "ExecuteTime": {
     "end_time": "2020-12-27T08:07:54.668149Z",
     "start_time": "2020-12-27T08:07:54.590061Z"
    },
    "vscode": {
     "languageId": "r"
    }
   },
   "outputs": [
    {
     "name": "stdout",
     "output_type": "stream",
     "text": [
      "character(0)\n"
     ]
    }
   ],
   "source": [
    "# Detecting columns with minimum value of zero (0).\n",
    "\n",
    "# Calculate the frequency of zeros in each column\n",
    "zero_counts <- sapply(data, function(x) sum(x == 0, na.rm = TRUE))\n",
    "\n",
    "# Calculate the proportion of zeros in each column\n",
    "zero_proportions <- zero_counts / nrow(data)\n",
    "\n",
    "# Set a threshold for the proportion of zeros\n",
    "zero_threshold <- 0.9  # Adjust as needed\n",
    "\n",
    "# Identify columns with a high proportion of zeros\n",
    "columns_with_high_zeros <- names(zero_proportions[zero_proportions >= zero_threshold])\n",
    "\n",
    "# Print the columns with a high proportion of zeros\n",
    "print(columns_with_high_zeros)"
   ]
  },
  {
   "cell_type": "markdown",
   "metadata": {},
   "source": [
    "<font color='tomato'>Select column to replace</font>"
   ]
  },
  {
   "cell_type": "code",
   "execution_count": 38,
   "metadata": {
    "ExecuteTime": {
     "end_time": "2020-12-27T09:59:08.752646Z",
     "start_time": "2020-12-27T09:59:08.737023Z"
    },
    "vscode": {
     "languageId": "r"
    }
   },
   "outputs": [],
   "source": [
    "# Select column to replace\n",
    "#BCO"
   ]
  },
  {
   "cell_type": "markdown",
   "metadata": {},
   "source": [
    "<font color='darkgrey'><b>Operation</font>"
   ]
  },
  {
   "cell_type": "code",
   "execution_count": 39,
   "metadata": {
    "ExecuteTime": {
     "end_time": "2020-12-27T09:59:09.185080Z",
     "start_time": "2020-12-27T09:59:09.153842Z"
    },
    "vscode": {
     "languageId": "r"
    }
   },
   "outputs": [],
   "source": [
    "# Replace zero missing values by nan\n",
    "# Replace columns with a high proportion of zeros with NaN\n",
    "data[, columns_with_high_zeros] <- NA"
   ]
  },
  {
   "cell_type": "markdown",
   "metadata": {
    "slideshow": {
     "slide_type": "slide"
    }
   },
   "source": [
    "#### Other Missing Values"
   ]
  },
  {
   "cell_type": "markdown",
   "metadata": {},
   "source": [
    "<font color='tomato'>Select column to replace</font>"
   ]
  },
  {
   "cell_type": "code",
   "execution_count": 40,
   "metadata": {
    "ExecuteTime": {
     "end_time": "2020-12-27T09:59:08.752646Z",
     "start_time": "2020-12-27T09:59:08.737023Z"
    },
    "vscode": {
     "languageId": "r"
    }
   },
   "outputs": [],
   "source": [
    "# Select column to replace and missing value\n"
   ]
  },
  {
   "cell_type": "markdown",
   "metadata": {},
   "source": [
    "<font color='darkgrey'><b>Operation</font>"
   ]
  },
  {
   "cell_type": "code",
   "execution_count": 41,
   "metadata": {
    "ExecuteTime": {
     "end_time": "2020-12-27T09:11:15.009572Z",
     "start_time": "2020-12-27T09:11:14.987426Z"
    },
    "vscode": {
     "languageId": "r"
    }
   },
   "outputs": [],
   "source": [
    "# Replace other missing values by nan\n"
   ]
  },
  {
   "cell_type": "markdown",
   "metadata": {
    "slideshow": {
     "slide_type": "slide"
    }
   },
   "source": [
    "#### Null/NaN Missing Values"
   ]
  },
  {
   "cell_type": "code",
   "execution_count": 42,
   "metadata": {
    "ExecuteTime": {
     "end_time": "2020-12-27T08:23:22.961045Z",
     "start_time": "2020-12-27T08:23:22.945379Z"
    },
    "scrolled": true,
    "slideshow": {
     "slide_type": "subslide"
    },
    "vscode": {
     "languageId": "r"
    }
   },
   "outputs": [],
   "source": [
    "# Intuitivamente: miramos nº datos en todas las columnas\n",
    "# los null no los cuenta --> debe hacer el mismo nº por columna\n"
   ]
  },
  {
   "cell_type": "code",
   "execution_count": 43,
   "metadata": {
    "ExecuteTime": {
     "end_time": "2020-12-27T08:23:23.894880Z",
     "start_time": "2020-12-27T08:23:23.847966Z"
    },
    "scrolled": true,
    "slideshow": {
     "slide_type": "subslide"
    },
    "vscode": {
     "languageId": "r"
    }
   },
   "outputs": [],
   "source": [
    "# Podemos mirar directamente info donde viene\n"
   ]
  },
  {
   "cell_type": "code",
   "execution_count": 44,
   "metadata": {
    "ExecuteTime": {
     "end_time": "2020-09-17T18:23:58.829839Z",
     "start_time": "2020-09-17T18:23:58.798594Z"
    },
    "slideshow": {
     "slide_type": "subslide"
    },
    "vscode": {
     "languageId": "r"
    }
   },
   "outputs": [],
   "source": [
    "# Contamos los nulos de forma explícita\n"
   ]
  },
  {
   "cell_type": "code",
   "execution_count": 45,
   "metadata": {
    "ExecuteTime": {
     "end_time": "2020-12-27T11:14:24.772425Z",
     "start_time": "2020-12-27T11:14:24.719006Z"
    },
    "vscode": {
     "languageId": "r"
    }
   },
   "outputs": [],
   "source": [
    "# summarize the number of rows with missing values for each column\n"
   ]
  },
  {
   "cell_type": "markdown",
   "metadata": {
    "slideshow": {
     "slide_type": "slide"
    }
   },
   "source": [
    "### Delete Missing Values"
   ]
  },
  {
   "cell_type": "markdown",
   "metadata": {
    "slideshow": {
     "slide_type": "slide"
    }
   },
   "source": [
    "#### Deleting Rows with Missing Values in Target Column"
   ]
  },
  {
   "cell_type": "code",
   "execution_count": 46,
   "metadata": {
    "ExecuteTime": {
     "end_time": "2020-12-27T09:17:02.687308Z",
     "start_time": "2020-12-27T09:17:02.671652Z"
    },
    "vscode": {
     "languageId": "r"
    }
   },
   "outputs": [],
   "source": [
    "data <- data[!is.na(data$Target), ]"
   ]
  },
  {
   "cell_type": "markdown",
   "metadata": {
    "slideshow": {
     "slide_type": "slide"
    }
   },
   "source": [
    "#### Deleting Rows with Missing Values\n",
    "Only in case of high data size"
   ]
  },
  {
   "cell_type": "code",
   "execution_count": 47,
   "metadata": {
    "ExecuteTime": {
     "end_time": "2020-09-17T18:24:02.008582Z",
     "start_time": "2020-09-17T18:24:01.908323Z"
    },
    "slideshow": {
     "slide_type": "subslide"
    },
    "vscode": {
     "languageId": "r"
    }
   },
   "outputs": [],
   "source": [
    "# Eliminamos las filas con valores nulos\n"
   ]
  },
  {
   "cell_type": "markdown",
   "metadata": {
    "slideshow": {
     "slide_type": "slide"
    }
   },
   "source": [
    "#### Deleting Features with some Missing Values\n",
    "Only with many features and for non-relevant features"
   ]
  },
  {
   "cell_type": "code",
   "execution_count": 48,
   "metadata": {
    "ExecuteTime": {
     "end_time": "2020-09-17T18:24:05.017913Z",
     "start_time": "2020-09-17T18:24:04.980147Z"
    },
    "slideshow": {
     "slide_type": "subslide"
    },
    "vscode": {
     "languageId": "r"
    }
   },
   "outputs": [],
   "source": [
    "# Selecciono las columnas con algún valor missing:\n",
    "# Delete features with missing values\n",
    "clean_data <- data %>%\n",
    "  select(where(~ !any(is.na(.))))"
   ]
  },
  {
   "cell_type": "markdown",
   "metadata": {
    "slideshow": {
     "slide_type": "slide"
    }
   },
   "source": [
    "#### Deleting Features using Rate Missing Values"
   ]
  },
  {
   "cell_type": "code",
   "execution_count": 49,
   "metadata": {
    "ExecuteTime": {
     "end_time": "2020-12-27T09:26:33.708733Z",
     "start_time": "2020-12-27T09:26:33.693100Z"
    },
    "vscode": {
     "languageId": "r"
    }
   },
   "outputs": [],
   "source": [
    "# Number of data\n",
    "# Define the minimum number of non-missing values\n",
    "n <- 10  # For example, at least 10 non-missing values\n",
    "\n",
    "# Count the number of non-missing values for each feature\n",
    "non_missing_counts <- colSums(!is.na(data))\n",
    "\n",
    "# Get the names of features that have fewer than n non-missing values\n",
    "features_to_delete <- names(non_missing_counts[non_missing_counts < n])\n",
    "\n",
    "# Remove the features with fewer than n non-missing values\n",
    "data <- data[, !(names(data) %in% features_to_delete)]"
   ]
  },
  {
   "cell_type": "code",
   "execution_count": 50,
   "metadata": {
    "ExecuteTime": {
     "end_time": "2020-12-27T09:26:59.219027Z",
     "start_time": "2020-12-27T09:26:59.187780Z"
    },
    "vscode": {
     "languageId": "r"
    }
   },
   "outputs": [],
   "source": [
    "# Number of missing data\n",
    "n<- 10  # For example, at least 10 missing values\n",
    "# Count the number of missing values for each feature\n",
    "missing_counts <- colSums(is.na(data))\n",
    "\n",
    "# Get the names of features that have missing values\n",
    "features_to_delete <- names(missing_counts[missing_counts > n])\n",
    "\n",
    "# Remove the features with missing values\n",
    "data <- data[, !(names(data) %in% features_to_delete)]"
   ]
  },
  {
   "cell_type": "code",
   "execution_count": 51,
   "metadata": {
    "ExecuteTime": {
     "end_time": "2020-12-27T09:30:03.230559Z",
     "start_time": "2020-12-27T09:30:03.214965Z"
    },
    "scrolled": true,
    "slideshow": {
     "slide_type": "subslide"
    },
    "vscode": {
     "languageId": "r"
    }
   },
   "outputs": [],
   "source": [
    "# Rate (%) of missing data \n",
    "# Define the rate threshold for missing values\n",
    "rate_threshold <- 0.6  # For example, 60% missing values\n",
    "\n",
    "# Calculate the percentage of missing values for each feature\n",
    "missing_rate <- colMeans(is.na(data))\n",
    "\n",
    "# Get the names of features that exceed the rate threshold\n",
    "features_to_delete <- names(missing_rate[missing_rate > rate_threshold])\n",
    "\n",
    "# Remove the features with high missing value rates\n",
    "data <- data[, !(names(data) %in% features_to_delete)]"
   ]
  },
  {
   "cell_type": "markdown",
   "metadata": {
    "slideshow": {
     "slide_type": "slide"
    }
   },
   "source": [
    "### Basic Imputation"
   ]
  },
  {
   "cell_type": "markdown",
   "metadata": {
    "slideshow": {
     "slide_type": "slide"
    }
   },
   "source": [
    "#### Imputation by Previous Row Value"
   ]
  },
  {
   "cell_type": "code",
   "execution_count": 52,
   "metadata": {
    "vscode": {
     "languageId": "r"
    }
   },
   "outputs": [
    {
     "ename": "ERROR",
     "evalue": "Error in eval(expr, envir, enclos): object 'imputed_data' not found\n",
     "output_type": "error",
     "traceback": [
      "Error in eval(expr, envir, enclos): object 'imputed_data' not found\nTraceback:\n"
     ]
    }
   ],
   "source": [
    "imputed_data"
   ]
  },
  {
   "cell_type": "code",
   "execution_count": null,
   "metadata": {
    "ExecuteTime": {
     "end_time": "2020-09-17T18:24:14.779471Z",
     "start_time": "2020-09-17T18:24:14.694739Z"
    },
    "slideshow": {
     "slide_type": "subslide"
    },
    "vscode": {
     "languageId": "r"
    }
   },
   "outputs": [],
   "source": [
    "# Sustituimos valores null por otro valor: VALOR FILA ANTERIOR\n",
    "\n",
    "# Replace null values with the previous row's value\n",
    "imputed_data <- data %>%\n",
    "  mutate(across(.cols = everything(), .fns = ~ if_else(is.na(.), lag(.), .)))"
   ]
  },
  {
   "cell_type": "markdown",
   "metadata": {
    "slideshow": {
     "slide_type": "slide"
    }
   },
   "source": [
    "#### Imputation by Next Row Value"
   ]
  },
  {
   "cell_type": "code",
   "execution_count": null,
   "metadata": {
    "ExecuteTime": {
     "end_time": "2020-09-17T18:24:17.657215Z",
     "start_time": "2020-09-17T18:24:17.619413Z"
    },
    "slideshow": {
     "slide_type": "subslide"
    },
    "vscode": {
     "languageId": "r"
    }
   },
   "outputs": [],
   "source": [
    "# Sustituimos valores null por otro valor: VALOR FILA SIGUIENTE\n",
    "imputed_data <- data\n",
    "for (col in names(imputed_data)) {\n",
    "  missing_indices <- which(is.na(imputed_data[[col]]))\n",
    "  for (i in missing_indices) {\n",
    "    next_value <- imputed_data[[col]][i+1]\n",
    "    imputed_data[[col]][i] <- next_value\n",
    "  }\n",
    "}\n"
   ]
  },
  {
   "cell_type": "markdown",
   "metadata": {
    "slideshow": {
     "slide_type": "slide"
    }
   },
   "source": [
    "### Statistical Imputation\n",
    "\n",
    "A popular approach for data imputation is to calculate a statistical value for each column (such as a mean) and replace all missing values for that column with the \n",
    "statistic."
   ]
  },
  {
   "cell_type": "markdown",
   "metadata": {
    "slideshow": {
     "slide_type": "slide"
    }
   },
   "source": [
    "#### Selection of Imputation Strategy"
   ]
  },
  {
   "cell_type": "code",
   "execution_count": null,
   "metadata": {
    "ExecuteTime": {
     "end_time": "2020-12-26T19:51:53.741719Z",
     "start_time": "2020-12-26T19:51:36.698077Z"
    },
    "vscode": {
     "languageId": "r"
    }
   },
   "outputs": [],
   "source": [
    "# The mean accuracy of each approach can then be compared.\n",
    "#\n",
    "# Specific results may vary given the stochastic nature of \n",
    "# the learning algorithm, the evaluation procedure, or \n",
    "# differences in numerical precision. Consider running the \n",
    "# example a few times and compare the average performance.\n",
    "#\n"
   ]
  },
  {
   "cell_type": "code",
   "execution_count": null,
   "metadata": {
    "ExecuteTime": {
     "end_time": "2020-12-26T19:48:47.324835Z",
     "start_time": "2020-12-26T19:48:46.939325Z"
    },
    "vscode": {
     "languageId": "r"
    }
   },
   "outputs": [],
   "source": [
    "# Plot model performance for comparison\n",
    "# box and whisker plot is created for each set of results, \n",
    "# allowing the distribution of results to be compared.\n"
   ]
  },
  {
   "cell_type": "markdown",
   "metadata": {
    "slideshow": {
     "slide_type": "slide"
    }
   },
   "source": [
    "#### Constant Imputation"
   ]
  },
  {
   "cell_type": "markdown",
   "metadata": {},
   "source": [
    "<font color='tomato'>Select constant value</font>"
   ]
  },
  {
   "cell_type": "code",
   "execution_count": null,
   "metadata": {
    "ExecuteTime": {
     "end_time": "2020-09-17T18:24:07.889137Z",
     "start_time": "2020-09-17T18:24:07.842263Z"
    },
    "slideshow": {
     "slide_type": "slide"
    },
    "vscode": {
     "languageId": "r"
    }
   },
   "outputs": [],
   "source": [
    "# Constant imputation\n",
    "# Replace missing values with constant values\n",
    "str_impute<- \"impute\"\n",
    "numeric_impute <- 0\n",
    "imputed_data <- data %>%\n",
    "  mutate_if(is.character, ~ifelse(is.na(.), str_impute, .)) %>%\n",
    "  mutate_if(is.numeric, ~ifelse(is.na(.), numeric_impute, .))"
   ]
  },
  {
   "cell_type": "markdown",
   "metadata": {
    "slideshow": {
     "slide_type": "slide"
    }
   },
   "source": [
    "#### Mean Imputation"
   ]
  },
  {
   "cell_type": "code",
   "execution_count": null,
   "metadata": {
    "ExecuteTime": {
     "end_time": "2020-09-17T18:24:10.334438Z",
     "start_time": "2020-09-17T18:24:10.281074Z"
    },
    "scrolled": true,
    "slideshow": {
     "slide_type": "subslide"
    },
    "vscode": {
     "languageId": "r"
    }
   },
   "outputs": [],
   "source": [
    "# Sustituimos valores null por otro valor: MEDIA\n"
   ]
  },
  {
   "cell_type": "code",
   "execution_count": null,
   "metadata": {
    "ExecuteTime": {
     "end_time": "2020-12-27T07:50:04.387064Z",
     "start_time": "2020-12-27T07:50:04.239924Z"
    },
    "scrolled": true,
    "slideshow": {
     "slide_type": "subslide"
    },
    "vscode": {
     "languageId": "r"
    }
   },
   "outputs": [],
   "source": [
    "# Sustituyo\n",
    "# Impute missing values with the column means\n",
    "\n",
    "imputed_data <- data %>%\n",
    "  mutate(across(where(is.numeric), ~ ifelse(is.na(.), mean(., na.rm = TRUE), .)))"
   ]
  },
  {
   "cell_type": "markdown",
   "metadata": {
    "slideshow": {
     "slide_type": "slide"
    }
   },
   "source": [
    "#### Median Imputation"
   ]
  },
  {
   "cell_type": "code",
   "execution_count": null,
   "metadata": {
    "ExecuteTime": {
     "end_time": "2020-12-27T07:51:50.330349Z",
     "start_time": "2020-12-27T07:51:50.299091Z"
    },
    "slideshow": {
     "slide_type": "subslide"
    },
    "vscode": {
     "languageId": "r"
    }
   },
   "outputs": [],
   "source": [
    "# Sustituimos valores null por otro valor: MEDIA\n",
    "# Miro la mediana\n"
   ]
  },
  {
   "cell_type": "code",
   "execution_count": null,
   "metadata": {
    "ExecuteTime": {
     "end_time": "2020-12-27T07:50:04.387064Z",
     "start_time": "2020-12-27T07:50:04.239924Z"
    },
    "scrolled": true,
    "slideshow": {
     "slide_type": "subslide"
    },
    "vscode": {
     "languageId": "r"
    }
   },
   "outputs": [],
   "source": [
    "# Sustituyo\n",
    "\n",
    "imputed_data <- data %>%\n",
    "  mutate(across(where(is.numeric), ~ ifelse(is.na(.), median(., na.rm = TRUE), .)))"
   ]
  },
  {
   "cell_type": "markdown",
   "metadata": {
    "slideshow": {
     "slide_type": "slide"
    }
   },
   "source": [
    "#### Most Frequent Imputation"
   ]
  },
  {
   "cell_type": "code",
   "execution_count": null,
   "metadata": {
    "ExecuteTime": {
     "end_time": "2020-12-27T07:53:33.348007Z",
     "start_time": "2020-12-27T07:53:33.301135Z"
    },
    "scrolled": true,
    "slideshow": {
     "slide_type": "subslide"
    },
    "vscode": {
     "languageId": "r"
    }
   },
   "outputs": [],
   "source": [
    "# Sustituyo\n",
    "get_mode <- function(x) {\n",
    "  freq_table <- table(x)\n",
    "  mode <- as.numeric(names(freq_table)[freq_table == max(freq_table)])\n",
    "  return(mode)\n",
    "}\n",
    "\n",
    "imputed_data <- data %>%\n",
    "  mutate(across(everything(), ~ ifelse(is.na(.),get_mode(.), .)))\n",
    "\n"
   ]
  },
  {
   "cell_type": "markdown",
   "metadata": {
    "slideshow": {
     "slide_type": "slide"
    }
   },
   "source": [
    "#### Interpolation Imputation"
   ]
  },
  {
   "cell_type": "code",
   "execution_count": null,
   "metadata": {
    "ExecuteTime": {
     "end_time": "2020-09-17T18:24:19.663393Z",
     "start_time": "2020-09-17T18:24:19.594377Z"
    },
    "slideshow": {
     "slide_type": "subslide"
    },
    "vscode": {
     "languageId": "r"
    }
   },
   "outputs": [],
   "source": [
    "# Sustituimos valores null por otro valor: INTERPOLANDO\n",
    "# Métodos de interpolación\n",
    "# ‘linear’, ‘time’, ‘index’, ‘values’, ‘nearest’, ‘zero’, ‘slinear’, \n",
    "# ‘quadratic’, ‘cubic’, ‘barycentric’, ‘krogh’, ‘polynomial’, ‘spline’ \n",
    "# ‘piecewise_polynomial’, ‘pchip’\n"
   ]
  },
  {
   "cell_type": "markdown",
   "metadata": {
    "slideshow": {
     "slide_type": "slide"
    }
   },
   "source": [
    "### Prediction Imputation (KNN Imputation )\n",
    "An approach to missing data imputation is to use a model to predict the missing values."
   ]
  },
  {
   "cell_type": "markdown",
   "metadata": {
    "slideshow": {
     "slide_type": "slide"
    }
   },
   "source": [
    "#### Evaluating k-hyperparmeter in KNN Imputation"
   ]
  },
  {
   "cell_type": "markdown",
   "metadata": {},
   "source": [
    "<font color='tomato'>Select numbers of neighbors to evaluate</font>"
   ]
  },
  {
   "cell_type": "code",
   "execution_count": null,
   "metadata": {
    "ExecuteTime": {
     "end_time": "2020-12-27T12:10:28.842276Z",
     "start_time": "2020-12-27T12:10:28.804544Z"
    },
    "vscode": {
     "languageId": "r"
    }
   },
   "outputs": [],
   "source": [
    "# Numbers of neighbors to evaluate\n",
    "k = 5\n"
   ]
  },
  {
   "cell_type": "markdown",
   "metadata": {},
   "source": [
    "<font color='darkgrey'><b>Operation</font>"
   ]
  },
  {
   "cell_type": "code",
   "execution_count": null,
   "metadata": {
    "ExecuteTime": {
     "end_time": "2020-12-27T12:11:01.839941Z",
     "start_time": "2020-12-27T12:10:29.490988Z"
    },
    "vscode": {
     "languageId": "r"
    }
   },
   "outputs": [],
   "source": [
    "\n"
   ]
  },
  {
   "cell_type": "markdown",
   "metadata": {
    "slideshow": {
     "slide_type": "slide"
    }
   },
   "source": [
    "#### Applying KNN Imputation "
   ]
  },
  {
   "cell_type": "code",
   "execution_count": null,
   "metadata": {
    "ExecuteTime": {
     "end_time": "2020-12-27T11:19:22.312408Z",
     "start_time": "2020-12-27T11:19:22.274605Z"
    },
    "scrolled": true,
    "vscode": {
     "languageId": "r"
    }
   },
   "outputs": [],
   "source": [
    "imputed_data <- data %>%\n",
    "  mutate(across(where(is.numeric), ~ ifelse(is.na(.), impute_knn(., k = k), .)))"
   ]
  },
  {
   "cell_type": "markdown",
   "metadata": {},
   "source": [
    "<font color='tomato'>Select numbers of neighbors to evaluate</font>"
   ]
  },
  {
   "cell_type": "code",
   "execution_count": null,
   "metadata": {
    "ExecuteTime": {
     "end_time": "2020-12-27T11:46:59.846320Z",
     "start_time": "2020-12-27T11:46:59.783817Z"
    },
    "vscode": {
     "languageId": "r"
    }
   },
   "outputs": [],
   "source": [
    "# Generating de new Data dataframe\n"
   ]
  },
  {
   "cell_type": "markdown",
   "metadata": {
    "slideshow": {
     "slide_type": "slide"
    }
   },
   "source": [
    "### Iterative Imputation "
   ]
  },
  {
   "cell_type": "markdown",
   "metadata": {
    "slideshow": {
     "slide_type": "slide"
    }
   },
   "source": [
    "#### Evaluating Different Imputation Order\n",
    "We can experiment with different imputation order strategies, such as descending, right-to-left (Arabic), left-to-right (Roman), and random."
   ]
  },
  {
   "cell_type": "code",
   "execution_count": null,
   "metadata": {
    "ExecuteTime": {
     "end_time": "2020-12-27T16:22:53.939930Z",
     "start_time": "2020-12-27T16:22:27.800194Z"
    },
    "vscode": {
     "languageId": "r"
    }
   },
   "outputs": [],
   "source": [
    "# compare iterative imputation strategies for the horse colic dataset\n"
   ]
  },
  {
   "cell_type": "markdown",
   "metadata": {
    "slideshow": {
     "slide_type": "slide"
    }
   },
   "source": [
    "#### Applying Iterative Imputation"
   ]
  },
  {
   "cell_type": "markdown",
   "metadata": {},
   "source": [
    "<font color='tomato'>Select strategie</font>"
   ]
  },
  {
   "cell_type": "code",
   "execution_count": null,
   "metadata": {
    "ExecuteTime": {
     "end_time": "2020-12-27T16:25:04.631738Z",
     "start_time": "2020-12-27T16:25:04.600482Z"
    },
    "vscode": {
     "languageId": "r"
    }
   },
   "outputs": [
    {
     "ename": "ERROR",
     "evalue": "Error in impute_knn(): could not find function \"impute_knn\"\n",
     "output_type": "error",
     "traceback": [
      "Error in impute_knn(): could not find function \"impute_knn\"\nTraceback:\n"
     ]
    }
   ],
   "source": [
    "# Selecting strategie\n",
    "# strategies = ['ascending', 'descending', 'roman', 'arabic', 'random']\n"
   ]
  },
  {
   "cell_type": "markdown",
   "metadata": {},
   "source": [
    "<font color='darkgrey'><b>Operation</font>"
   ]
  },
  {
   "cell_type": "code",
   "execution_count": null,
   "metadata": {
    "ExecuteTime": {
     "end_time": "2020-12-27T16:25:16.669646Z",
     "start_time": "2020-12-27T16:25:16.616257Z"
    },
    "vscode": {
     "languageId": "r"
    }
   },
   "outputs": [],
   "source": [
    "# Generating the new Data dataframe\n"
   ]
  },
  {
   "cell_type": "markdown",
   "metadata": {},
   "source": [
    "## <font color='green'>Data Save</font>\n",
    "\n",
    "* Solo si se han hecho cambios\n",
    "\n",
    "* No aplica"
   ]
  },
  {
   "cell_type": "markdown",
   "metadata": {},
   "source": [
    "<font color='tomato'> Identificamos los datos a guardar</font>"
   ]
  },
  {
   "cell_type": "code",
   "execution_count": 53,
   "metadata": {
    "vscode": {
     "languageId": "r"
    }
   },
   "outputs": [
    {
     "name": "stdout",
     "output_type": "stream",
     "text": [
      "         Hospital      Especialidad   total_pacientes               ano \n",
      "                0                 0                 0                 0 \n",
      "           semana            CODCNH           id_area       nombre_area \n",
      "                0                 0                 0                 0 \n",
      "       cmunicipio         Municipio             CAMAS             Clase \n",
      "                0                 0                 0                 0 \n",
      "      Dependencia               TAC                RM               GAM \n",
      "                0                 0                 0                 0 \n",
      "              HEM               ASD               ALI             SPECT \n",
      "                0                 0                 0                 0 \n",
      "            MAMOS                DO              DIAL                 X \n",
      "                0                 0                 0                 0 \n",
      "                Y              t3_1              t1_1              t2_1 \n",
      "                0                 0                 0                 0 \n",
      "             t2_2              t4_1              t4_2              t4_3 \n",
      "                0                 0                 0                 0 \n",
      "             t5_1              t6_1              t7_1              t8_1 \n",
      "                0                 0                 0                 0 \n",
      "             t9_1             t10_1             t11_1             t12_1 \n",
      "                0                 0                 0                 0 \n",
      "        capacidad         pacientes         consultas hospitalizaciones \n",
      "                0                 0                 0                 0 \n",
      "           Target          is_train \n",
      "                0                 0 \n"
     ]
    }
   ],
   "source": [
    "data_to_save <- data"
   ]
  },
  {
   "cell_type": "markdown",
   "metadata": {},
   "source": [
    "\n",
    "<font color='tomato'>Estructura de nombre de archivos:</font>\n",
    "\n",
    "* Código del caso de uso, por ejemplo \"CU_04\"\n",
    "* Número del proceso que lo genera, por ejemplo \"_06\".\n",
    "* Resto del nombre del archivo de entrada\n",
    "* Extensión del archivo\n",
    "\n",
    "Ejemplo: \"CU_04_06_01_01_zonasgeo.json, primer fichero que se genera en la tarea 01 del proceso 05 (Data Collection) para el caso de uso 04 (vacunas) y que se ha transformado en el proceso 06\n",
    "\n",
    "Importante mantener los guiones bajos antes de proceso, tarea, archivo y nombre"
   ]
  },
  {
   "attachments": {},
   "cell_type": "markdown",
   "metadata": {},
   "source": [
    "### Proceso 09.2"
   ]
  },
  {
   "cell_type": "code",
   "execution_count": 54,
   "metadata": {
    "vscode": {
     "languageId": "r"
    }
   },
   "outputs": [],
   "source": [
    "caso <- \"CU_25\"\n",
    "proceso <- '_09.2'\n",
    "tarea <- \"_01\"\n",
    "archivo <- \"_lista_espera_completo_clean\"\n",
    "proper <- \"_v_01\"\n",
    "extension <- \".csv\""
   ]
  },
  {
   "cell_type": "markdown",
   "metadata": {},
   "source": [
    "<font color='tomato'><b> OPCION A:</b> Uso del paquete \"tcltk\" para mayor comodidad</font>\n",
    "\n",
    "* Buscar carpeta, escribir nombre de archivo SIN extensión (se especifica en el código)\n",
    "* Especificar sufijo2 si es necesario\n",
    "* Cambiar datos por datos_xx si es necesario"
   ]
  },
  {
   "cell_type": "code",
   "execution_count": null,
   "metadata": {
    "vscode": {
     "languageId": "r"
    }
   },
   "outputs": [],
   "source": [
    "# file_save <- paste0(caso, proceso, tarea, tcltk::tkgetSaveFile(), proper, extension) \n",
    "# path_out <- paste0(oPath, file_save)\n",
    "# write_csv(data_to_save_xxxxx, path_out)\n",
    "\n",
    "# cat('File saved as: ')\n",
    "# path_out"
   ]
  },
  {
   "cell_type": "markdown",
   "metadata": {},
   "source": [
    "<font color='tomato'><b> OPCION B:</b> Especificar el nombre de archivo</font>"
   ]
  },
  {
   "cell_type": "markdown",
   "metadata": {},
   "source": [
    "- Los ficheros de salida del proceso van siempre a Data/Output/.  "
   ]
  },
  {
   "cell_type": "code",
   "execution_count": 55,
   "metadata": {
    "vscode": {
     "languageId": "r"
    }
   },
   "outputs": [
    {
     "name": "stdout",
     "output_type": "stream",
     "text": [
      "File saved as: "
     ]
    },
    {
     "data": {
      "text/html": [
       "'Data/Output/CU_25_09.2_01_lista_espera_completo_clean_v_01.csv'"
      ],
      "text/latex": [
       "'Data/Output/CU\\_25\\_09.2\\_01\\_lista\\_espera\\_completo\\_clean\\_v\\_01.csv'"
      ],
      "text/markdown": [
       "'Data/Output/CU_25_09.2_01_lista_espera_completo_clean_v_01.csv'"
      ],
      "text/plain": [
       "[1] \"Data/Output/CU_25_09.2_01_lista_espera_completo_clean_v_01.csv\""
      ]
     },
     "metadata": {},
     "output_type": "display_data"
    }
   ],
   "source": [
    "file_save <- paste0(caso, proceso, tarea, archivo, proper, extension) \n",
    "path_out <- paste0(oPath, file_save)\n",
    "write_csv(data_to_save, path_out)\n",
    "\n",
    "cat('File saved as: ')\n",
    "path_out"
   ]
  },
  {
   "cell_type": "markdown",
   "metadata": {},
   "source": [
    "#### Copia del fichero a Input\n",
    "\n",
    "Si el archivo se va a usar en otros notebooks, copiar a la carpeta Input"
   ]
  },
  {
   "cell_type": "code",
   "execution_count": 56,
   "metadata": {
    "vscode": {
     "languageId": "r"
    }
   },
   "outputs": [
    {
     "data": {
      "text/html": [
       "TRUE"
      ],
      "text/latex": [
       "TRUE"
      ],
      "text/markdown": [
       "TRUE"
      ],
      "text/plain": [
       "[1] TRUE"
      ]
     },
     "metadata": {},
     "output_type": "display_data"
    }
   ],
   "source": [
    "path_in <- paste0(iPath, file_save)\n",
    "file.copy(path_out, path_in, overwrite = TRUE)"
   ]
  },
  {
   "cell_type": "markdown",
   "metadata": {},
   "source": [
    "## <font color='#2874a6'>REPORT</font>"
   ]
  },
  {
   "cell_type": "markdown",
   "metadata": {},
   "source": [
    "A continuación se realizará un informe de las acciones realizadas"
   ]
  },
  {
   "cell_type": "markdown",
   "metadata": {},
   "source": [
    "## <font color=' #2874a6 '>Main Actions Carried Out</font>"
   ]
  },
  {
   "cell_type": "markdown",
   "metadata": {},
   "source": [
    "- Si eran necesarias se han realizado en el proceso 05 por cuestiones de eficiencia"
   ]
  },
  {
   "cell_type": "markdown",
   "metadata": {},
   "source": [
    "## <font color=' #2874a6 '>Main Conclusions</font>"
   ]
  },
  {
   "cell_type": "markdown",
   "metadata": {},
   "source": [
    "- Los datos están limpios para el despliegue\n"
   ]
  },
  {
   "cell_type": "markdown",
   "metadata": {},
   "source": [
    "## <font color='RED'>CODE TO DEPLOY (PILOT)</font>\n",
    "\n",
    "A continuación se incluirá el código que deba ser llevado a despliegue para producción, dado que se entiende efectúa operaciones necesarias sobre los datos en la ejecución del prototipo"
   ]
  },
  {
   "cell_type": "markdown",
   "metadata": {},
   "source": [
    "<font color=' red '><b>Description</b></font>\n",
    "\n",
    "- No hay nada que desplegar en el piloto, ya que estos datos son estáticos o en todo caso cambian con muy poca frecuencia, altamente improbable durante el proyecto.\n"
   ]
  },
  {
   "cell_type": "markdown",
   "metadata": {},
   "source": [
    "<font color=' red '><b>CODE</b></font>"
   ]
  },
  {
   "cell_type": "code",
   "execution_count": null,
   "metadata": {
    "vscode": {
     "languageId": "r"
    }
   },
   "outputs": [],
   "source": []
  }
 ],
 "metadata": {
  "anaconda-cloud": {},
  "celltoolbar": "Slideshow",
  "hide_input": false,
  "kernelspec": {
   "display_name": "R",
   "language": "R",
   "name": "ir"
  },
  "language_info": {
   "codemirror_mode": "r",
   "file_extension": ".r",
   "mimetype": "text/x-r-source",
   "name": "R",
   "pygments_lexer": "r",
   "version": "4.3.0"
  },
  "latex_envs": {
   "LaTeX_envs_menu_present": true,
   "autoclose": false,
   "autocomplete": true,
   "bibliofile": "biblio.bib",
   "cite_by": "apalike",
   "current_citInitial": 1,
   "eqLabelWithNumbers": true,
   "eqNumInitial": 1,
   "hotkeys": {
    "equation": "Ctrl-E",
    "itemize": "Ctrl-I"
   },
   "labels_anchors": false,
   "latex_user_defs": false,
   "report_style_numbering": true,
   "user_envs_cfg": false
  },
  "toc": {
   "base_numbering": 1,
   "nav_menu": {
    "height": "11.6px",
    "width": "160px"
   },
   "number_sections": true,
   "sideBar": true,
   "skip_h1_title": true,
   "title_cell": "Table of Contents",
   "title_sidebar": "Contents",
   "toc_cell": true,
   "toc_position": {
    "height": "calc(100% - 180px)",
    "left": "10px",
    "top": "150px",
    "width": "284.433px"
   },
   "toc_section_display": true,
   "toc_window_display": true
  },
  "varInspector": {
   "cols": {
    "lenName": 16,
    "lenType": 16,
    "lenVar": 40
   },
   "kernels_config": {
    "python": {
     "delete_cmd_postfix": "",
     "delete_cmd_prefix": "del ",
     "library": "var_list.py",
     "varRefreshCmd": "print(var_dic_list())"
    },
    "r": {
     "delete_cmd_postfix": ") ",
     "delete_cmd_prefix": "rm(",
     "library": "var_list.r",
     "varRefreshCmd": "cat(var_dic_list()) "
    }
   },
   "types_to_exclude": [
    "module",
    "function",
    "builtin_function_or_method",
    "instance",
    "_Feature"
   ],
   "window_display": false
  }
 },
 "nbformat": 4,
 "nbformat_minor": 1
}
