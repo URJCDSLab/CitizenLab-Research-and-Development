{
 "cells": [
  {
   "cell_type": "markdown",
   "metadata": {
    "slideshow": {
     "slide_type": "slide"
    }
   },
   "source": [
    "<img src=\".\\images\\Logo.png\" width=150 align=\"left\" /> <img src=\".\\images\\Logo2.jpg\" width=450 align=\"right\" />"
   ]
  },
  {
   "attachments": {},
   "cell_type": "markdown",
   "metadata": {
    "slideshow": {
     "slide_type": "slide"
    }
   },
   "source": [
    "\n",
    "# <center><font color= #1e8449 > <b>CU25_Modelo de gestión de Lista de Espera Quirúrgica</font></center>"
   ]
  },
  {
   "cell_type": "markdown",
   "metadata": {
    "slideshow": {
     "slide_type": "slide"
    }
   },
   "source": [
    "<font color='steelblue'><b>Citizenlab Data Science Methodology > II - Data Processing Domain </font>\n",
    "***\n",
    "> # <font color='steelblue'> <b>09.1.- Data Cleansing - Basic</font>"
   ]
  },
  {
   "cell_type": "markdown",
   "metadata": {
    "slideshow": {
     "slide_type": "slide"
    }
   },
   "source": [
    "<font color='steelblue'>Data Cleaning refers to identifying and correcting (or removing) errors in the dataset that may negatively impact a predictive model, replacing, modifying, or deleting the dirty or coarse data.</font>"
   ]
  },
  {
   "cell_type": "markdown",
   "metadata": {
    "slideshow": {
     "slide_type": "slide"
    }
   },
   "source": [
    "## <font color='steelblue'>Tasks</font>"
   ]
  },
  {
   "cell_type": "markdown",
   "metadata": {},
   "source": [
    "## Consideraciones casos CitizenLab programados en R\n",
    "\n",
    "* La mayoría de las tareas de este proceso se han realizado en los notebooks del proceso 05 Data Collection porque eran necesarias para las tareas ETL. En esos casos, en este notebook se referencia al notebook del proceso 05 correspondiente\n",
    "* Por tanto en los notebooks de este proceso de manera general se incluyen las comprobaciones necesarias, y comentarios si procede\n",
    "* Las tareas del proceso se van a aplicar solo a los archivos que forman parte del despliegue, ya que hay muchos archivos intermedios que no procede pasar por este proceso\n",
    "* El nombre de archivo del notebook hace referencia al nombre de archivo del proceso 05 al que se aplica este proceso, por eso pueden no ser correlativa la numeración\n",
    "* Las comprobaciones se van a realizar teniendo en cuenta que el lenguaje utilizado en el despliegue de este caso es R"
   ]
  },
  {
   "cell_type": "markdown",
   "metadata": {
    "slideshow": {
     "slide_type": "slide"
    }
   },
   "source": [
    "## <font color='green'>File</font>"
   ]
  },
  {
   "attachments": {},
   "cell_type": "markdown",
   "metadata": {
    "slideshow": {
     "slide_type": "slide"
    }
   },
   "source": [
    "- <font color='steelblue'> <b>Input File: CU_25_05_07_03_lista_espera_completo_split.csv</font>\n",
    "- <font color='steelblue'> <b>Output File: No aplica</font>"
   ]
  },
  {
   "cell_type": "markdown",
   "metadata": {
    "slideshow": {
     "slide_type": "slide"
    }
   },
   "source": [
    "## <font color='green'>Settings</font>"
   ]
  },
  {
   "cell_type": "markdown",
   "metadata": {},
   "source": [
    "### Encoding\n",
    "\n",
    "Con la siguiente expresión se evitan problemas con el encoding al ejecutar el notebook. Es posible que deba ser eliminada o adaptada a la máquina en la que se ejecute el código."
   ]
  },
  {
   "cell_type": "code",
   "execution_count": 140,
   "metadata": {
    "vscode": {
     "languageId": "r"
    }
   },
   "outputs": [
    {
     "data": {
      "text/html": [
       "'LC_COLLATE=es_ES.UTF-8;LC_CTYPE=es_ES.UTF-8;LC_MONETARY=es_ES.UTF-8;LC_NUMERIC=C;LC_TIME=es_ES.UTF-8'"
      ],
      "text/latex": [
       "'LC\\_COLLATE=es\\_ES.UTF-8;LC\\_CTYPE=es\\_ES.UTF-8;LC\\_MONETARY=es\\_ES.UTF-8;LC\\_NUMERIC=C;LC\\_TIME=es\\_ES.UTF-8'"
      ],
      "text/markdown": [
       "'LC_COLLATE=es_ES.UTF-8;LC_CTYPE=es_ES.UTF-8;LC_MONETARY=es_ES.UTF-8;LC_NUMERIC=C;LC_TIME=es_ES.UTF-8'"
      ],
      "text/plain": [
       "[1] \"LC_COLLATE=es_ES.UTF-8;LC_CTYPE=es_ES.UTF-8;LC_MONETARY=es_ES.UTF-8;LC_NUMERIC=C;LC_TIME=es_ES.UTF-8\""
      ]
     },
     "metadata": {},
     "output_type": "display_data"
    }
   ],
   "source": [
    "Sys.setlocale(category = \"LC_ALL\", locale = \"es_ES.UTF-8\")"
   ]
  },
  {
   "cell_type": "markdown",
   "metadata": {},
   "source": [
    "### Libraries to use"
   ]
  },
  {
   "cell_type": "code",
   "execution_count": 141,
   "metadata": {
    "ExecuteTime": {
     "end_time": "2020-12-29T10:12:46.053451Z",
     "start_time": "2020-12-29T10:12:44.001002Z"
    },
    "slideshow": {
     "slide_type": "subslide"
    },
    "vscode": {
     "languageId": "r"
    }
   },
   "outputs": [],
   "source": [
    "library(readr)\n",
    "library(dplyr)\n",
    "library(sf)\n",
    "library(tidyr)\n",
    "library(stringr)"
   ]
  },
  {
   "cell_type": "markdown",
   "metadata": {},
   "source": [
    "### Paths"
   ]
  },
  {
   "cell_type": "code",
   "execution_count": 142,
   "metadata": {
    "vscode": {
     "languageId": "r"
    }
   },
   "outputs": [],
   "source": [
    "iPath <- \"Data/Input/\"\n",
    "oPath <- \"Data/Output/\""
   ]
  },
  {
   "cell_type": "markdown",
   "metadata": {
    "slideshow": {
     "slide_type": "slide"
    }
   },
   "source": [
    "## <font color='green'>Data Load</font>"
   ]
  },
  {
   "cell_type": "markdown",
   "metadata": {},
   "source": [
    "<font color='tomato'><b> OPCION A:</b> Seleccionar fichero en ventana para mayor comodidad</font> "
   ]
  },
  {
   "cell_type": "markdown",
   "metadata": {},
   "source": [
    "Data load using the {tcltk} package. Ucomment the line if using this option"
   ]
  },
  {
   "cell_type": "code",
   "execution_count": 143,
   "metadata": {
    "vscode": {
     "languageId": "r"
    }
   },
   "outputs": [],
   "source": [
    "# file_data <- tcltk::tk_choose.files(multi = FALSE)"
   ]
  },
  {
   "cell_type": "markdown",
   "metadata": {},
   "source": [
    "<font color='tomato'><b> OPCION B:</b> Especificar el nombre de archivo</font>\n",
    "\n"
   ]
  },
  {
   "cell_type": "code",
   "execution_count": 144,
   "metadata": {
    "vscode": {
     "languageId": "r"
    }
   },
   "outputs": [
    {
     "name": "stdout",
     "output_type": "stream",
     "text": [
      "Se leerán datos del archivo:  Data/Input/CU_25_08_01_lista_espera_completo_split.csv"
     ]
    }
   ],
   "source": [
    "iFile <- \"CU_25_08_01_lista_espera_completo_split.csv\"\n",
    "file_data <- paste0(iPath, iFile)\n",
    "\n",
    "if(file.exists(file_data)){\n",
    "    cat(\"Se leerán datos del archivo: \", file_data)\n",
    "} else{\n",
    "    warning(\"Cuidado: el archivo no existe.\")\n",
    "}\n"
   ]
  },
  {
   "cell_type": "markdown",
   "metadata": {},
   "source": [
    "#### Data file to dataframe\n",
    "\n",
    "Usar la función adecuada según el formato de entrada (xlsx, csv, json, ...)"
   ]
  },
  {
   "cell_type": "code",
   "execution_count": 145,
   "metadata": {
    "vscode": {
     "languageId": "r"
    }
   },
   "outputs": [
    {
     "data": {
      "text/html": [
       "<style>\n",
       ".list-inline {list-style: none; margin:0; padding: 0}\n",
       ".list-inline>li {display: inline-block}\n",
       ".list-inline>li:not(:last-child)::after {content: \"\\00b7\"; padding: 0 .5ex}\n",
       "</style>\n",
       "<ol class=list-inline><li>'Hospital'</li><li>'Especialidad'</li><li>'total_pacientes'</li><li>'ano'</li><li>'semana'</li><li>'CODCNH'</li><li>'id_area'</li><li>'nombre_area'</li><li>'cmunicipio'</li><li>'Municipio'</li><li>'CAMAS'</li><li>'Clase'</li><li>'Dependencia'</li><li>'TAC'</li><li>'RM'</li><li>'GAM'</li><li>'HEM'</li><li>'ASD'</li><li>'LIT'</li><li>'BCO'</li><li>'ALI'</li><li>'SPECT'</li><li>'PET'</li><li>'MAMOS'</li><li>'DO'</li><li>'DIAL'</li><li>'X'</li><li>'Y'</li><li>'t3_1'</li><li>'t1_1'</li><li>'t2_1'</li><li>'t2_2'</li><li>'t4_1'</li><li>'t4_2'</li><li>'t4_3'</li><li>'t5_1'</li><li>'t6_1'</li><li>'t7_1'</li><li>'t8_1'</li><li>'t9_1'</li><li>'t10_1'</li><li>'t11_1'</li><li>'t12_1'</li><li>'capacidad'</li><li>'pacientes'</li><li>'consultas'</li><li>'hospitalizaciones'</li><li>'Target'</li><li>'is_train'</li></ol>\n"
      ],
      "text/latex": [
       "\\begin{enumerate*}\n",
       "\\item 'Hospital'\n",
       "\\item 'Especialidad'\n",
       "\\item 'total\\_pacientes'\n",
       "\\item 'ano'\n",
       "\\item 'semana'\n",
       "\\item 'CODCNH'\n",
       "\\item 'id\\_area'\n",
       "\\item 'nombre\\_area'\n",
       "\\item 'cmunicipio'\n",
       "\\item 'Municipio'\n",
       "\\item 'CAMAS'\n",
       "\\item 'Clase'\n",
       "\\item 'Dependencia'\n",
       "\\item 'TAC'\n",
       "\\item 'RM'\n",
       "\\item 'GAM'\n",
       "\\item 'HEM'\n",
       "\\item 'ASD'\n",
       "\\item 'LIT'\n",
       "\\item 'BCO'\n",
       "\\item 'ALI'\n",
       "\\item 'SPECT'\n",
       "\\item 'PET'\n",
       "\\item 'MAMOS'\n",
       "\\item 'DO'\n",
       "\\item 'DIAL'\n",
       "\\item 'X'\n",
       "\\item 'Y'\n",
       "\\item 't3\\_1'\n",
       "\\item 't1\\_1'\n",
       "\\item 't2\\_1'\n",
       "\\item 't2\\_2'\n",
       "\\item 't4\\_1'\n",
       "\\item 't4\\_2'\n",
       "\\item 't4\\_3'\n",
       "\\item 't5\\_1'\n",
       "\\item 't6\\_1'\n",
       "\\item 't7\\_1'\n",
       "\\item 't8\\_1'\n",
       "\\item 't9\\_1'\n",
       "\\item 't10\\_1'\n",
       "\\item 't11\\_1'\n",
       "\\item 't12\\_1'\n",
       "\\item 'capacidad'\n",
       "\\item 'pacientes'\n",
       "\\item 'consultas'\n",
       "\\item 'hospitalizaciones'\n",
       "\\item 'Target'\n",
       "\\item 'is\\_train'\n",
       "\\end{enumerate*}\n"
      ],
      "text/markdown": [
       "1. 'Hospital'\n",
       "2. 'Especialidad'\n",
       "3. 'total_pacientes'\n",
       "4. 'ano'\n",
       "5. 'semana'\n",
       "6. 'CODCNH'\n",
       "7. 'id_area'\n",
       "8. 'nombre_area'\n",
       "9. 'cmunicipio'\n",
       "10. 'Municipio'\n",
       "11. 'CAMAS'\n",
       "12. 'Clase'\n",
       "13. 'Dependencia'\n",
       "14. 'TAC'\n",
       "15. 'RM'\n",
       "16. 'GAM'\n",
       "17. 'HEM'\n",
       "18. 'ASD'\n",
       "19. 'LIT'\n",
       "20. 'BCO'\n",
       "21. 'ALI'\n",
       "22. 'SPECT'\n",
       "23. 'PET'\n",
       "24. 'MAMOS'\n",
       "25. 'DO'\n",
       "26. 'DIAL'\n",
       "27. 'X'\n",
       "28. 'Y'\n",
       "29. 't3_1'\n",
       "30. 't1_1'\n",
       "31. 't2_1'\n",
       "32. 't2_2'\n",
       "33. 't4_1'\n",
       "34. 't4_2'\n",
       "35. 't4_3'\n",
       "36. 't5_1'\n",
       "37. 't6_1'\n",
       "38. 't7_1'\n",
       "39. 't8_1'\n",
       "40. 't9_1'\n",
       "41. 't10_1'\n",
       "42. 't11_1'\n",
       "43. 't12_1'\n",
       "44. 'capacidad'\n",
       "45. 'pacientes'\n",
       "46. 'consultas'\n",
       "47. 'hospitalizaciones'\n",
       "48. 'Target'\n",
       "49. 'is_train'\n",
       "\n",
       "\n"
      ],
      "text/plain": [
       " [1] \"Hospital\"          \"Especialidad\"      \"total_pacientes\"  \n",
       " [4] \"ano\"               \"semana\"            \"CODCNH\"           \n",
       " [7] \"id_area\"           \"nombre_area\"       \"cmunicipio\"       \n",
       "[10] \"Municipio\"         \"CAMAS\"             \"Clase\"            \n",
       "[13] \"Dependencia\"       \"TAC\"               \"RM\"               \n",
       "[16] \"GAM\"               \"HEM\"               \"ASD\"              \n",
       "[19] \"LIT\"               \"BCO\"               \"ALI\"              \n",
       "[22] \"SPECT\"             \"PET\"               \"MAMOS\"            \n",
       "[25] \"DO\"                \"DIAL\"              \"X\"                \n",
       "[28] \"Y\"                 \"t3_1\"              \"t1_1\"             \n",
       "[31] \"t2_1\"              \"t2_2\"              \"t4_1\"             \n",
       "[34] \"t4_2\"              \"t4_3\"              \"t5_1\"             \n",
       "[37] \"t6_1\"              \"t7_1\"              \"t8_1\"             \n",
       "[40] \"t9_1\"              \"t10_1\"             \"t11_1\"            \n",
       "[43] \"t12_1\"             \"capacidad\"         \"pacientes\"        \n",
       "[46] \"consultas\"         \"hospitalizaciones\" \"Target\"           \n",
       "[49] \"is_train\"         "
      ]
     },
     "metadata": {},
     "output_type": "display_data"
    }
   ],
   "source": [
    "data <- read.csv(file_data)\n",
    "colnames(data)"
   ]
  },
  {
   "cell_type": "markdown",
   "metadata": {},
   "source": [
    "<font color='tomato'>Visualizo los datos.</font>"
   ]
  },
  {
   "cell_type": "markdown",
   "metadata": {},
   "source": [
    "Estructura de  los datos:"
   ]
  },
  {
   "cell_type": "code",
   "execution_count": 146,
   "metadata": {
    "vscode": {
     "languageId": "r"
    }
   },
   "outputs": [
    {
     "name": "stdout",
     "output_type": "stream",
     "text": [
      "Rows: 55,680\n",
      "Columns: 49\n",
      "$ Hospital          \u001b[3m\u001b[90m<chr>\u001b[39m\u001b[23m \"HOSPITAL REY JUAN CARLOS\", \"HOSPITAL CENTRAL DE LA …\n",
      "$ Especialidad      \u001b[3m\u001b[90m<chr>\u001b[39m\u001b[23m \"Urología\", \"Odontoestomatología\", \"Ginecología\", \"D…\n",
      "$ total_pacientes   \u001b[3m\u001b[90m<int>\u001b[39m\u001b[23m 344, 0, 52, 37, 0, 4, 0, 718, 0, 271, 108, 0, 34, 86…\n",
      "$ ano               \u001b[3m\u001b[90m<int>\u001b[39m\u001b[23m 2021, 2020, 2021, 2021, 2021, 2020, 2021, 2020, 2021…\n",
      "$ semana            \u001b[3m\u001b[90m<int>\u001b[39m\u001b[23m 30, 36, 49, 23, 3, 5, 50, 7, 35, 1, 42, 10, 21, 33, …\n",
      "$ CODCNH            \u001b[3m\u001b[90m<int>\u001b[39m\u001b[23m 281348, 280724, 281292, 281292, 281236, 280724, 2807…\n",
      "$ id_area           \u001b[3m\u001b[90m<int>\u001b[39m\u001b[23m 8, 7, 11, 11, 11, 7, 3, 6, 1, 2, 2, 8, 11, 11, 1, 3,…\n",
      "$ nombre_area       \u001b[3m\u001b[90m<chr>\u001b[39m\u001b[23m \"Sur-Oeste I\", \"Centro-Oeste\", \"Sur Ii\", \"Sur Ii\", \"…\n",
      "$ cmunicipio        \u001b[3m\u001b[90m<int>\u001b[39m\u001b[23m 280920, 280796, 280133, 280133, 281610, 280796, 2800…\n",
      "$ Municipio         \u001b[3m\u001b[90m<chr>\u001b[39m\u001b[23m \"Móstoles\", \"Madrid\", \"Aranjuez\", \"Aranjuez\", \"Valde…\n",
      "$ CAMAS             \u001b[3m\u001b[90m<int>\u001b[39m\u001b[23m 382, 475, 98, 98, 182, 475, 507, 613, 269, 1143, 156…\n",
      "$ Clase             \u001b[3m\u001b[90m<chr>\u001b[39m\u001b[23m \"Hospitales Generales\", \"Hospitales Generales\", \"Hos…\n",
      "$ Dependencia       \u001b[3m\u001b[90m<chr>\u001b[39m\u001b[23m \"SERVICIOS E INSTITUTOS DE SALUD DE LAS COMUNIDADES …\n",
      "$ TAC               \u001b[3m\u001b[90m<int>\u001b[39m\u001b[23m 2, 2, 1, 1, 1, 2, 3, 3, 0, 0, 1, 2, 6, 6, 1, 3, 4, 1…\n",
      "$ RM                \u001b[3m\u001b[90m<int>\u001b[39m\u001b[23m 3, 2, 1, 1, 2, 2, 2, 3, 0, 0, 0, 2, 5, 5, 1, 2, 4, 1…\n",
      "$ GAM               \u001b[3m\u001b[90m<int>\u001b[39m\u001b[23m 0, 0, 0, 0, 0, 0, 1, 0, 0, 0, 0, 1, 2, 2, 0, 0, 2, 0…\n",
      "$ HEM               \u001b[3m\u001b[90m<int>\u001b[39m\u001b[23m 1, 2, 0, 0, 1, 2, 1, 2, 0, 0, 0, 1, 3, 3, 0, 1, 1, 0…\n",
      "$ ASD               \u001b[3m\u001b[90m<int>\u001b[39m\u001b[23m 2, 1, 1, 1, 1, 1, 1, 3, 0, 0, 0, 1, 2, 2, 0, 1, 2, 1…\n",
      "$ LIT               \u001b[3m\u001b[90m<int>\u001b[39m\u001b[23m 0, 1, 0, 0, 0, 1, 0, 1, 0, 0, 0, 1, 1, 1, 0, 0, 1, 0…\n",
      "$ BCO               \u001b[3m\u001b[90m<int>\u001b[39m\u001b[23m 0, 0, 0, 0, 0, 0, 0, 0, 0, 0, 0, 0, 0, 0, 0, 0, 0, 0…\n",
      "$ ALI               \u001b[3m\u001b[90m<int>\u001b[39m\u001b[23m 1, 2, 0, 0, 0, 2, 0, 4, 0, 0, 0, 0, 3, 3, 0, 2, 2, 0…\n",
      "$ SPECT             \u001b[3m\u001b[90m<int>\u001b[39m\u001b[23m 1, 1, 0, 0, 0, 1, 0, 4, 0, 0, 0, 0, 3, 3, 0, 0, 0, 0…\n",
      "$ PET               \u001b[3m\u001b[90m<int>\u001b[39m\u001b[23m 1, 0, 0, 0, 0, 0, 0, 1, 0, 0, 0, 0, 1, 1, 0, 0, 0, 0…\n",
      "$ MAMOS             \u001b[3m\u001b[90m<int>\u001b[39m\u001b[23m 2, 1, 1, 1, 1, 1, 2, 2, 0, 0, 1, 2, 3, 3, 1, 1, 3, 1…\n",
      "$ DO                \u001b[3m\u001b[90m<int>\u001b[39m\u001b[23m 1, 1, 0, 0, 1, 1, 1, 1, 0, 0, 1, 1, 2, 2, 0, 1, 2, 0…\n",
      "$ DIAL              \u001b[3m\u001b[90m<int>\u001b[39m\u001b[23m 20, 24, 13, 13, 17, 24, 28, 31, 0, 0, 0, 28, 43, 43,…\n",
      "$ X                 \u001b[3m\u001b[90m<dbl>\u001b[39m\u001b[23m -3.870412, -3.745529, -3.610795, -3.610795, -3.69744…\n",
      "$ Y                 \u001b[3m\u001b[90m<dbl>\u001b[39m\u001b[23m 40.33920, 40.38791, 40.05726, 40.05726, 40.19884, 40…\n",
      "$ t3_1              \u001b[3m\u001b[90m<dbl>\u001b[39m\u001b[23m 42.34715, 45.37878, 42.06149, 42.06149, 42.06149, 45…\n",
      "$ t1_1              \u001b[3m\u001b[90m<int>\u001b[39m\u001b[23m 532487, 511605, 899702, 899702, 899702, 511605, 3830…\n",
      "$ t2_1              \u001b[3m\u001b[90m<dbl>\u001b[39m\u001b[23m 0.5122493, 0.5296804, 0.5240445, 0.5240445, 0.524044…\n",
      "$ t2_2              \u001b[3m\u001b[90m<dbl>\u001b[39m\u001b[23m 0.4877507, 0.4703198, 0.4759555, 0.4759555, 0.475955…\n",
      "$ t4_1              \u001b[3m\u001b[90m<dbl>\u001b[39m\u001b[23m 0.1659665, 0.1054260, 0.1540793, 0.1540793, 0.154079…\n",
      "$ t4_2              \u001b[3m\u001b[90m<dbl>\u001b[39m\u001b[23m 0.6371549, 0.6742432, 0.6753787, 0.6753787, 0.675378…\n",
      "$ t4_3              \u001b[3m\u001b[90m<dbl>\u001b[39m\u001b[23m 0.1968769, 0.2203341, 0.1705449, 0.1705449, 0.170544…\n",
      "$ t5_1              \u001b[3m\u001b[90m<dbl>\u001b[39m\u001b[23m 0.1137647, 0.1744493, 0.1747059, 0.1747059, 0.174705…\n",
      "$ t6_1              \u001b[3m\u001b[90m<dbl>\u001b[39m\u001b[23m 0.1604646, 0.2629599, 0.2641879, 0.2641879, 0.264187…\n",
      "$ t7_1              \u001b[3m\u001b[90m<dbl>\u001b[39m\u001b[23m 0.05422176, 0.05481008, 0.04898547, 0.04898547, 0.04…\n",
      "$ t8_1              \u001b[3m\u001b[90m<dbl>\u001b[39m\u001b[23m 0.04120012, 0.04653221, 0.03679912, 0.03679912, 0.03…\n",
      "$ t9_1              \u001b[3m\u001b[90m<dbl>\u001b[39m\u001b[23m 0.3348780, 0.4914365, 0.3346063, 0.3346063, 0.334606…\n",
      "$ t10_1             \u001b[3m\u001b[90m<dbl>\u001b[39m\u001b[23m 0.13692541, 0.12170996, 0.15173209, 0.15173209, 0.15…\n",
      "$ t11_1             \u001b[3m\u001b[90m<dbl>\u001b[39m\u001b[23m 0.5072726, 0.4915713, 0.5024130, 0.5024130, 0.502413…\n",
      "$ t12_1             \u001b[3m\u001b[90m<dbl>\u001b[39m\u001b[23m 0.5849309, 0.5597213, 0.5900028, 0.5900028, 0.590002…\n",
      "$ capacidad         \u001b[3m\u001b[90m<int>\u001b[39m\u001b[23m 17, 0, 8, 5, 0, 5, 1, 24, 6, 6, 30, 4, 2, 15, 20, 6,…\n",
      "$ pacientes         \u001b[3m\u001b[90m<int>\u001b[39m\u001b[23m 1447, 1211, 1293, 1501, 1240, 1504, 1502, 1533, 1463…\n",
      "$ consultas         \u001b[3m\u001b[90m<int>\u001b[39m\u001b[23m 573, 45, 108, 103, 44, 42, 36, 1119, 34, 466, 220, 6…\n",
      "$ hospitalizaciones \u001b[3m\u001b[90m<int>\u001b[39m\u001b[23m 12, 0, 2, 2, 0, 1, 0, 4, 0, 12, 3, 0, 2, 4, 1, 2, 15…\n",
      "$ Target            \u001b[3m\u001b[90m<dbl>\u001b[39m\u001b[23m 54.45, 0.00, 37.96, 23.14, 0.00, 6.25, 0.00, 78.20, …\n",
      "$ is_train          \u001b[3m\u001b[90m<lgl>\u001b[39m\u001b[23m TRUE, TRUE, TRUE, TRUE, TRUE, TRUE, TRUE, TRUE, TRUE…\n"
     ]
    }
   ],
   "source": [
    "data |> glimpse()"
   ]
  },
  {
   "cell_type": "markdown",
   "metadata": {},
   "source": [
    "Muestra de los primeros datos:"
   ]
  },
  {
   "cell_type": "code",
   "execution_count": 147,
   "metadata": {
    "vscode": {
     "languageId": "r"
    }
   },
   "outputs": [
    {
     "data": {
      "text/html": [
       "<table class=\"dataframe\">\n",
       "<caption>A data.frame: 5 × 49</caption>\n",
       "<thead>\n",
       "\t<tr><th scope=col>Hospital</th><th scope=col>Especialidad</th><th scope=col>total_pacientes</th><th scope=col>ano</th><th scope=col>semana</th><th scope=col>CODCNH</th><th scope=col>id_area</th><th scope=col>nombre_area</th><th scope=col>cmunicipio</th><th scope=col>Municipio</th><th scope=col>⋯</th><th scope=col>t9_1</th><th scope=col>t10_1</th><th scope=col>t11_1</th><th scope=col>t12_1</th><th scope=col>capacidad</th><th scope=col>pacientes</th><th scope=col>consultas</th><th scope=col>hospitalizaciones</th><th scope=col>Target</th><th scope=col>is_train</th></tr>\n",
       "\t<tr><th scope=col>&lt;chr&gt;</th><th scope=col>&lt;chr&gt;</th><th scope=col>&lt;int&gt;</th><th scope=col>&lt;int&gt;</th><th scope=col>&lt;int&gt;</th><th scope=col>&lt;int&gt;</th><th scope=col>&lt;int&gt;</th><th scope=col>&lt;chr&gt;</th><th scope=col>&lt;int&gt;</th><th scope=col>&lt;chr&gt;</th><th scope=col>⋯</th><th scope=col>&lt;dbl&gt;</th><th scope=col>&lt;dbl&gt;</th><th scope=col>&lt;dbl&gt;</th><th scope=col>&lt;dbl&gt;</th><th scope=col>&lt;int&gt;</th><th scope=col>&lt;int&gt;</th><th scope=col>&lt;int&gt;</th><th scope=col>&lt;int&gt;</th><th scope=col>&lt;dbl&gt;</th><th scope=col>&lt;lgl&gt;</th></tr>\n",
       "</thead>\n",
       "<tbody>\n",
       "\t<tr><td>HOSPITAL REY JUAN CARLOS                 </td><td>Urología           </td><td>344</td><td>2021</td><td>30</td><td>281348</td><td> 8</td><td>Sur-Oeste I </td><td>280920</td><td>Móstoles </td><td>⋯</td><td>0.3348780</td><td>0.1369254</td><td>0.5072726</td><td>0.5849309</td><td>17</td><td>1447</td><td>573</td><td>12</td><td>54.45</td><td>TRUE</td></tr>\n",
       "\t<tr><td>HOSPITAL CENTRAL DE LA DEFENSA GOMEZ ULLA</td><td>Odontoestomatología</td><td>  0</td><td>2020</td><td>36</td><td>280724</td><td> 7</td><td>Centro-Oeste</td><td>280796</td><td>Madrid   </td><td>⋯</td><td>0.4914365</td><td>0.1217100</td><td>0.4915713</td><td>0.5597213</td><td> 0</td><td>1211</td><td> 45</td><td> 0</td><td> 0.00</td><td>TRUE</td></tr>\n",
       "\t<tr><td>HOSPITAL UNIVERSITARIO DEL TAJO          </td><td>Ginecología        </td><td> 52</td><td>2021</td><td>49</td><td>281292</td><td>11</td><td>Sur Ii      </td><td>280133</td><td>Aranjuez </td><td>⋯</td><td>0.3346063</td><td>0.1517321</td><td>0.5024130</td><td>0.5900028</td><td> 8</td><td>1293</td><td>108</td><td> 2</td><td>37.96</td><td>TRUE</td></tr>\n",
       "\t<tr><td>HOSPITAL UNIVERSITARIO DEL TAJO          </td><td>Dermatología       </td><td> 37</td><td>2021</td><td>23</td><td>281292</td><td>11</td><td>Sur Ii      </td><td>280133</td><td>Aranjuez </td><td>⋯</td><td>0.3346063</td><td>0.1517321</td><td>0.5024130</td><td>0.5900028</td><td> 5</td><td>1501</td><td>103</td><td> 2</td><td>23.14</td><td>TRUE</td></tr>\n",
       "\t<tr><td>HOSPITAL UNIVERSITARIO INFANTA ELENA     </td><td>Odontoestomatología</td><td>  0</td><td>2021</td><td> 3</td><td>281236</td><td>11</td><td>Sur Ii      </td><td>281610</td><td>Valdemoro</td><td>⋯</td><td>0.3346063</td><td>0.1517321</td><td>0.5024130</td><td>0.5900028</td><td> 0</td><td>1240</td><td> 44</td><td> 0</td><td> 0.00</td><td>TRUE</td></tr>\n",
       "</tbody>\n",
       "</table>\n"
      ],
      "text/latex": [
       "A data.frame: 5 × 49\n",
       "\\begin{tabular}{lllllllllllllllllllll}\n",
       " Hospital & Especialidad & total\\_pacientes & ano & semana & CODCNH & id\\_area & nombre\\_area & cmunicipio & Municipio & ⋯ & t9\\_1 & t10\\_1 & t11\\_1 & t12\\_1 & capacidad & pacientes & consultas & hospitalizaciones & Target & is\\_train\\\\\n",
       " <chr> & <chr> & <int> & <int> & <int> & <int> & <int> & <chr> & <int> & <chr> & ⋯ & <dbl> & <dbl> & <dbl> & <dbl> & <int> & <int> & <int> & <int> & <dbl> & <lgl>\\\\\n",
       "\\hline\n",
       "\t HOSPITAL REY JUAN CARLOS                  & Urología            & 344 & 2021 & 30 & 281348 &  8 & Sur-Oeste I  & 280920 & Móstoles  & ⋯ & 0.3348780 & 0.1369254 & 0.5072726 & 0.5849309 & 17 & 1447 & 573 & 12 & 54.45 & TRUE\\\\\n",
       "\t HOSPITAL CENTRAL DE LA DEFENSA GOMEZ ULLA & Odontoestomatología &   0 & 2020 & 36 & 280724 &  7 & Centro-Oeste & 280796 & Madrid    & ⋯ & 0.4914365 & 0.1217100 & 0.4915713 & 0.5597213 &  0 & 1211 &  45 &  0 &  0.00 & TRUE\\\\\n",
       "\t HOSPITAL UNIVERSITARIO DEL TAJO           & Ginecología         &  52 & 2021 & 49 & 281292 & 11 & Sur Ii       & 280133 & Aranjuez  & ⋯ & 0.3346063 & 0.1517321 & 0.5024130 & 0.5900028 &  8 & 1293 & 108 &  2 & 37.96 & TRUE\\\\\n",
       "\t HOSPITAL UNIVERSITARIO DEL TAJO           & Dermatología        &  37 & 2021 & 23 & 281292 & 11 & Sur Ii       & 280133 & Aranjuez  & ⋯ & 0.3346063 & 0.1517321 & 0.5024130 & 0.5900028 &  5 & 1501 & 103 &  2 & 23.14 & TRUE\\\\\n",
       "\t HOSPITAL UNIVERSITARIO INFANTA ELENA      & Odontoestomatología &   0 & 2021 &  3 & 281236 & 11 & Sur Ii       & 281610 & Valdemoro & ⋯ & 0.3346063 & 0.1517321 & 0.5024130 & 0.5900028 &  0 & 1240 &  44 &  0 &  0.00 & TRUE\\\\\n",
       "\\end{tabular}\n"
      ],
      "text/markdown": [
       "\n",
       "A data.frame: 5 × 49\n",
       "\n",
       "| Hospital &lt;chr&gt; | Especialidad &lt;chr&gt; | total_pacientes &lt;int&gt; | ano &lt;int&gt; | semana &lt;int&gt; | CODCNH &lt;int&gt; | id_area &lt;int&gt; | nombre_area &lt;chr&gt; | cmunicipio &lt;int&gt; | Municipio &lt;chr&gt; | ⋯ ⋯ | t9_1 &lt;dbl&gt; | t10_1 &lt;dbl&gt; | t11_1 &lt;dbl&gt; | t12_1 &lt;dbl&gt; | capacidad &lt;int&gt; | pacientes &lt;int&gt; | consultas &lt;int&gt; | hospitalizaciones &lt;int&gt; | Target &lt;dbl&gt; | is_train &lt;lgl&gt; |\n",
       "|---|---|---|---|---|---|---|---|---|---|---|---|---|---|---|---|---|---|---|---|---|\n",
       "| HOSPITAL REY JUAN CARLOS                  | Urología            | 344 | 2021 | 30 | 281348 |  8 | Sur-Oeste I  | 280920 | Móstoles  | ⋯ | 0.3348780 | 0.1369254 | 0.5072726 | 0.5849309 | 17 | 1447 | 573 | 12 | 54.45 | TRUE |\n",
       "| HOSPITAL CENTRAL DE LA DEFENSA GOMEZ ULLA | Odontoestomatología |   0 | 2020 | 36 | 280724 |  7 | Centro-Oeste | 280796 | Madrid    | ⋯ | 0.4914365 | 0.1217100 | 0.4915713 | 0.5597213 |  0 | 1211 |  45 |  0 |  0.00 | TRUE |\n",
       "| HOSPITAL UNIVERSITARIO DEL TAJO           | Ginecología         |  52 | 2021 | 49 | 281292 | 11 | Sur Ii       | 280133 | Aranjuez  | ⋯ | 0.3346063 | 0.1517321 | 0.5024130 | 0.5900028 |  8 | 1293 | 108 |  2 | 37.96 | TRUE |\n",
       "| HOSPITAL UNIVERSITARIO DEL TAJO           | Dermatología        |  37 | 2021 | 23 | 281292 | 11 | Sur Ii       | 280133 | Aranjuez  | ⋯ | 0.3346063 | 0.1517321 | 0.5024130 | 0.5900028 |  5 | 1501 | 103 |  2 | 23.14 | TRUE |\n",
       "| HOSPITAL UNIVERSITARIO INFANTA ELENA      | Odontoestomatología |   0 | 2021 |  3 | 281236 | 11 | Sur Ii       | 281610 | Valdemoro | ⋯ | 0.3346063 | 0.1517321 | 0.5024130 | 0.5900028 |  0 | 1240 |  44 |  0 |  0.00 | TRUE |\n",
       "\n"
      ],
      "text/plain": [
       "  Hospital                                  Especialidad        total_pacientes\n",
       "1 HOSPITAL REY JUAN CARLOS                  Urología            344            \n",
       "2 HOSPITAL CENTRAL DE LA DEFENSA GOMEZ ULLA Odontoestomatología   0            \n",
       "3 HOSPITAL UNIVERSITARIO DEL TAJO           Ginecología          52            \n",
       "4 HOSPITAL UNIVERSITARIO DEL TAJO           Dermatología         37            \n",
       "5 HOSPITAL UNIVERSITARIO INFANTA ELENA      Odontoestomatología   0            \n",
       "  ano  semana CODCNH id_area nombre_area  cmunicipio Municipio ⋯ t9_1     \n",
       "1 2021 30     281348  8      Sur-Oeste I  280920     Móstoles  ⋯ 0.3348780\n",
       "2 2020 36     280724  7      Centro-Oeste 280796     Madrid    ⋯ 0.4914365\n",
       "3 2021 49     281292 11      Sur Ii       280133     Aranjuez  ⋯ 0.3346063\n",
       "4 2021 23     281292 11      Sur Ii       280133     Aranjuez  ⋯ 0.3346063\n",
       "5 2021  3     281236 11      Sur Ii       281610     Valdemoro ⋯ 0.3346063\n",
       "  t10_1     t11_1     t12_1     capacidad pacientes consultas hospitalizaciones\n",
       "1 0.1369254 0.5072726 0.5849309 17        1447      573       12               \n",
       "2 0.1217100 0.4915713 0.5597213  0        1211       45        0               \n",
       "3 0.1517321 0.5024130 0.5900028  8        1293      108        2               \n",
       "4 0.1517321 0.5024130 0.5900028  5        1501      103        2               \n",
       "5 0.1517321 0.5024130 0.5900028  0        1240       44        0               \n",
       "  Target is_train\n",
       "1 54.45  TRUE    \n",
       "2  0.00  TRUE    \n",
       "3 37.96  TRUE    \n",
       "4 23.14  TRUE    \n",
       "5  0.00  TRUE    "
      ]
     },
     "metadata": {},
     "output_type": "display_data"
    }
   ],
   "source": [
    "data |> slice_head(n = 5)"
   ]
  },
  {
   "cell_type": "markdown",
   "metadata": {
    "slideshow": {
     "slide_type": "slide"
    }
   },
   "source": [
    "## Text data analysis"
   ]
  },
  {
   "cell_type": "markdown",
   "metadata": {},
   "source": [
    "<font color='tomato'>Select columns</font>"
   ]
  },
  {
   "cell_type": "code",
   "execution_count": 148,
   "metadata": {
    "ExecuteTime": {
     "end_time": "2020-12-27T09:57:49.719834Z",
     "start_time": "2020-12-27T09:57:49.704210Z"
    },
    "vscode": {
     "languageId": "r"
    }
   },
   "outputs": [],
   "source": [
    "# Select column\n",
    "text_columns <- sapply(data, is.character)\n"
   ]
  },
  {
   "cell_type": "markdown",
   "metadata": {},
   "source": [
    "<font color='darkgrey'><b>Operation</font>"
   ]
  },
  {
   "cell_type": "code",
   "execution_count": 149,
   "metadata": {
    "ExecuteTime": {
     "end_time": "2020-09-17T18:24:33.321203Z",
     "start_time": "2020-09-17T18:24:33.289943Z"
    },
    "scrolled": true,
    "vscode": {
     "languageId": "r"
    }
   },
   "outputs": [],
   "source": [
    "# Analizar datos de texto y verificar su corrección\n",
    "# e.g. faltas ortografía, etc\n",
    "# pasar a mayúsculas todas las columnas de texto\n",
    "\n",
    "data[, text_columns] <- lapply(data[, text_columns], function(x) toupper(x))"
   ]
  },
  {
   "cell_type": "markdown",
   "metadata": {
    "slideshow": {
     "slide_type": "slide"
    }
   },
   "source": [
    "## Delete Columns Needless/Irrelevant/Private"
   ]
  },
  {
   "cell_type": "markdown",
   "metadata": {},
   "source": [
    "<font color='tomato'>Select columns</font>"
   ]
  },
  {
   "cell_type": "markdown",
   "metadata": {
    "ExecuteTime": {
     "end_time": "2020-12-27T09:57:49.719834Z",
     "start_time": "2020-12-27T09:57:49.704210Z"
    },
    "vscode": {
     "languageId": "r"
    }
   },
   "source": [
    "No aplica\n"
   ]
  },
  {
   "cell_type": "markdown",
   "metadata": {},
   "source": [
    "<font color='darkgrey'><b>Operation</font>"
   ]
  },
  {
   "cell_type": "code",
   "execution_count": 150,
   "metadata": {
    "ExecuteTime": {
     "end_time": "2020-09-17T18:24:33.321203Z",
     "start_time": "2020-09-17T18:24:33.289943Z"
    },
    "scrolled": true,
    "vscode": {
     "languageId": "r"
    }
   },
   "outputs": [
    {
     "data": {
      "text/html": [
       "<style>\n",
       ".list-inline {list-style: none; margin:0; padding: 0}\n",
       ".list-inline>li {display: inline-block}\n",
       ".list-inline>li:not(:last-child)::after {content: \"\\00b7\"; padding: 0 .5ex}\n",
       "</style>\n",
       "<ol class=list-inline><li>'Hospital'</li><li>'Especialidad'</li><li>'total_pacientes'</li><li>'ano'</li><li>'semana'</li><li>'CODCNH'</li><li>'id_area'</li><li>'nombre_area'</li><li>'cmunicipio'</li><li>'Municipio'</li><li>'CAMAS'</li><li>'Clase'</li><li>'Dependencia'</li><li>'TAC'</li><li>'RM'</li><li>'GAM'</li><li>'HEM'</li><li>'ASD'</li><li>'LIT'</li><li>'BCO'</li><li>'ALI'</li><li>'SPECT'</li><li>'PET'</li><li>'MAMOS'</li><li>'DO'</li><li>'DIAL'</li><li>'X'</li><li>'Y'</li><li>'t3_1'</li><li>'t1_1'</li><li>'t2_1'</li><li>'t2_2'</li><li>'t4_1'</li><li>'t4_2'</li><li>'t4_3'</li><li>'t5_1'</li><li>'t6_1'</li><li>'t7_1'</li><li>'t8_1'</li><li>'t9_1'</li><li>'t10_1'</li><li>'t11_1'</li><li>'t12_1'</li><li>'capacidad'</li><li>'pacientes'</li><li>'consultas'</li><li>'hospitalizaciones'</li><li>'Target'</li><li>'is_train'</li></ol>\n"
      ],
      "text/latex": [
       "\\begin{enumerate*}\n",
       "\\item 'Hospital'\n",
       "\\item 'Especialidad'\n",
       "\\item 'total\\_pacientes'\n",
       "\\item 'ano'\n",
       "\\item 'semana'\n",
       "\\item 'CODCNH'\n",
       "\\item 'id\\_area'\n",
       "\\item 'nombre\\_area'\n",
       "\\item 'cmunicipio'\n",
       "\\item 'Municipio'\n",
       "\\item 'CAMAS'\n",
       "\\item 'Clase'\n",
       "\\item 'Dependencia'\n",
       "\\item 'TAC'\n",
       "\\item 'RM'\n",
       "\\item 'GAM'\n",
       "\\item 'HEM'\n",
       "\\item 'ASD'\n",
       "\\item 'LIT'\n",
       "\\item 'BCO'\n",
       "\\item 'ALI'\n",
       "\\item 'SPECT'\n",
       "\\item 'PET'\n",
       "\\item 'MAMOS'\n",
       "\\item 'DO'\n",
       "\\item 'DIAL'\n",
       "\\item 'X'\n",
       "\\item 'Y'\n",
       "\\item 't3\\_1'\n",
       "\\item 't1\\_1'\n",
       "\\item 't2\\_1'\n",
       "\\item 't2\\_2'\n",
       "\\item 't4\\_1'\n",
       "\\item 't4\\_2'\n",
       "\\item 't4\\_3'\n",
       "\\item 't5\\_1'\n",
       "\\item 't6\\_1'\n",
       "\\item 't7\\_1'\n",
       "\\item 't8\\_1'\n",
       "\\item 't9\\_1'\n",
       "\\item 't10\\_1'\n",
       "\\item 't11\\_1'\n",
       "\\item 't12\\_1'\n",
       "\\item 'capacidad'\n",
       "\\item 'pacientes'\n",
       "\\item 'consultas'\n",
       "\\item 'hospitalizaciones'\n",
       "\\item 'Target'\n",
       "\\item 'is\\_train'\n",
       "\\end{enumerate*}\n"
      ],
      "text/markdown": [
       "1. 'Hospital'\n",
       "2. 'Especialidad'\n",
       "3. 'total_pacientes'\n",
       "4. 'ano'\n",
       "5. 'semana'\n",
       "6. 'CODCNH'\n",
       "7. 'id_area'\n",
       "8. 'nombre_area'\n",
       "9. 'cmunicipio'\n",
       "10. 'Municipio'\n",
       "11. 'CAMAS'\n",
       "12. 'Clase'\n",
       "13. 'Dependencia'\n",
       "14. 'TAC'\n",
       "15. 'RM'\n",
       "16. 'GAM'\n",
       "17. 'HEM'\n",
       "18. 'ASD'\n",
       "19. 'LIT'\n",
       "20. 'BCO'\n",
       "21. 'ALI'\n",
       "22. 'SPECT'\n",
       "23. 'PET'\n",
       "24. 'MAMOS'\n",
       "25. 'DO'\n",
       "26. 'DIAL'\n",
       "27. 'X'\n",
       "28. 'Y'\n",
       "29. 't3_1'\n",
       "30. 't1_1'\n",
       "31. 't2_1'\n",
       "32. 't2_2'\n",
       "33. 't4_1'\n",
       "34. 't4_2'\n",
       "35. 't4_3'\n",
       "36. 't5_1'\n",
       "37. 't6_1'\n",
       "38. 't7_1'\n",
       "39. 't8_1'\n",
       "40. 't9_1'\n",
       "41. 't10_1'\n",
       "42. 't11_1'\n",
       "43. 't12_1'\n",
       "44. 'capacidad'\n",
       "45. 'pacientes'\n",
       "46. 'consultas'\n",
       "47. 'hospitalizaciones'\n",
       "48. 'Target'\n",
       "49. 'is_train'\n",
       "\n",
       "\n"
      ],
      "text/plain": [
       " [1] \"Hospital\"          \"Especialidad\"      \"total_pacientes\"  \n",
       " [4] \"ano\"               \"semana\"            \"CODCNH\"           \n",
       " [7] \"id_area\"           \"nombre_area\"       \"cmunicipio\"       \n",
       "[10] \"Municipio\"         \"CAMAS\"             \"Clase\"            \n",
       "[13] \"Dependencia\"       \"TAC\"               \"RM\"               \n",
       "[16] \"GAM\"               \"HEM\"               \"ASD\"              \n",
       "[19] \"LIT\"               \"BCO\"               \"ALI\"              \n",
       "[22] \"SPECT\"             \"PET\"               \"MAMOS\"            \n",
       "[25] \"DO\"                \"DIAL\"              \"X\"                \n",
       "[28] \"Y\"                 \"t3_1\"              \"t1_1\"             \n",
       "[31] \"t2_1\"              \"t2_2\"              \"t4_1\"             \n",
       "[34] \"t4_2\"              \"t4_3\"              \"t5_1\"             \n",
       "[37] \"t6_1\"              \"t7_1\"              \"t8_1\"             \n",
       "[40] \"t9_1\"              \"t10_1\"             \"t11_1\"            \n",
       "[43] \"t12_1\"             \"capacidad\"         \"pacientes\"        \n",
       "[46] \"consultas\"         \"hospitalizaciones\" \"Target\"           \n",
       "[49] \"is_train\"         "
      ]
     },
     "metadata": {},
     "output_type": "display_data"
    }
   ],
   "source": [
    "# Eliminamos columnas que consideramos irrelevantes o innecesarias\n",
    "column_names <- colnames(data)\n",
    "column_names"
   ]
  },
  {
   "cell_type": "markdown",
   "metadata": {
    "ExecuteTime": {
     "end_time": "2020-09-17T18:24:34.957373Z",
     "start_time": "2020-09-17T18:24:34.910496Z"
    },
    "scrolled": true,
    "vscode": {
     "languageId": "r"
    }
   },
   "source": [
    "Todas las columnas son relevantes, por lo que no se elimina ninguna."
   ]
  },
  {
   "cell_type": "markdown",
   "metadata": {
    "slideshow": {
     "slide_type": "slide"
    }
   },
   "source": [
    "## Inconsistent Data "
   ]
  },
  {
   "cell_type": "markdown",
   "metadata": {
    "ExecuteTime": {
     "end_time": "2020-12-26T19:13:54.180991Z",
     "start_time": "2020-12-26T19:13:54.134152Z"
    },
    "scrolled": true,
    "vscode": {
     "languageId": "r"
    }
   },
   "source": [
    "No aplica"
   ]
  },
  {
   "cell_type": "markdown",
   "metadata": {},
   "source": [
    "<font color='tomato'>Select columns and value</font>"
   ]
  },
  {
   "cell_type": "code",
   "execution_count": null,
   "metadata": {
    "ExecuteTime": {
     "end_time": "2020-12-27T10:10:34.708928Z",
     "start_time": "2020-12-27T10:10:34.693305Z"
    },
    "vscode": {
     "languageId": "r"
    }
   },
   "outputs": [],
   "source": [
    "\n"
   ]
  },
  {
   "cell_type": "markdown",
   "metadata": {},
   "source": [
    "<font color='darkgrey'><b>Operation</font>"
   ]
  },
  {
   "cell_type": "code",
   "execution_count": null,
   "metadata": {
    "ExecuteTime": {
     "end_time": "2020-12-27T10:10:35.141260Z",
     "start_time": "2020-12-27T10:10:35.125635Z"
    },
    "vscode": {
     "languageId": "r"
    }
   },
   "outputs": [],
   "source": []
  },
  {
   "cell_type": "markdown",
   "metadata": {
    "slideshow": {
     "slide_type": "slide"
    }
   },
   "source": [
    "## Expected values"
   ]
  },
  {
   "cell_type": "code",
   "execution_count": null,
   "metadata": {
    "ExecuteTime": {
     "end_time": "2020-12-25T18:22:02.773717Z",
     "start_time": "2020-12-25T18:22:02.742491Z"
    },
    "scrolled": true,
    "slideshow": {
     "slide_type": "subslide"
    },
    "vscode": {
     "languageId": "r"
    }
   },
   "outputs": [],
   "source": []
  },
  {
   "cell_type": "markdown",
   "metadata": {
    "slideshow": {
     "slide_type": "slide"
    }
   },
   "source": [
    "## Zeros"
   ]
  },
  {
   "cell_type": "markdown",
   "metadata": {
    "ExecuteTime": {
     "end_time": "2020-12-25T18:22:02.773717Z",
     "start_time": "2020-12-25T18:22:02.742491Z"
    },
    "scrolled": true,
    "slideshow": {
     "slide_type": "subslide"
    },
    "vscode": {
     "languageId": "r"
    }
   },
   "source": [
    "No aplica. ETL satisface los requisitos de calidad de los datos para valores cero."
   ]
  },
  {
   "cell_type": "markdown",
   "metadata": {
    "slideshow": {
     "slide_type": "slide"
    }
   },
   "source": [
    "## Single Value"
   ]
  },
  {
   "cell_type": "code",
   "execution_count": 151,
   "metadata": {
    "ExecuteTime": {
     "end_time": "2020-12-25T18:22:02.773717Z",
     "start_time": "2020-12-25T18:22:02.742491Z"
    },
    "scrolled": false,
    "slideshow": {
     "slide_type": "subslide"
    },
    "vscode": {
     "languageId": "r"
    }
   },
   "outputs": [
    {
     "data": {
      "text/html": [
       "<style>\n",
       ".dl-inline {width: auto; margin:0; padding: 0}\n",
       ".dl-inline>dt, .dl-inline>dd {float: none; width: auto; display: inline-block}\n",
       ".dl-inline>dt::after {content: \":\\0020\"; padding-right: .5ex}\n",
       ".dl-inline>dt:not(:first-of-type) {padding-left: .5ex}\n",
       "</style><dl class=dl-inline><dt>Hospital</dt><dd>29</dd><dt>Especialidad</dt><dd>16</dd><dt>total_pacientes</dt><dd>3528</dd><dt>ano</dt><dd>3</dd><dt>semana</dt><dd>51</dd><dt>CODCNH</dt><dd>29</dd><dt>id_area</dt><dd>10</dd><dt>nombre_area</dt><dd>10</dd><dt>cmunicipio</dt><dd>16</dd><dt>Municipio</dt><dd>16</dd><dt>CAMAS</dt><dd>28</dd><dt>Clase</dt><dd>3</dd><dt>Dependencia</dt><dd>3</dd><dt>TAC</dt><dd>6</dd><dt>RM</dt><dd>6</dd><dt>GAM</dt><dd>5</dd><dt>HEM</dt><dd>4</dd><dt>ASD</dt><dd>4</dd><dt>LIT</dt><dd>2</dd><dt>BCO</dt><dd>1</dd><dt>ALI</dt><dd>5</dd><dt>SPECT</dt><dd>5</dd><dt>PET</dt><dd>2</dd><dt>MAMOS</dt><dd>5</dd><dt>DO</dt><dd>3</dd><dt>DIAL</dt><dd>15</dd><dt>X</dt><dd>29</dd><dt>Y</dt><dd>29</dd><dt>t3_1</dt><dd>10</dd><dt>t1_1</dt><dd>10</dd><dt>t2_1</dt><dd>10</dd><dt>t2_2</dt><dd>10</dd><dt>t4_1</dt><dd>10</dd><dt>t4_2</dt><dd>10</dd><dt>t4_3</dt><dd>10</dd><dt>t5_1</dt><dd>10</dd><dt>t6_1</dt><dd>10</dd><dt>t7_1</dt><dd>10</dd><dt>t8_1</dt><dd>10</dd><dt>t9_1</dt><dd>10</dd><dt>t10_1</dt><dd>10</dd><dt>t11_1</dt><dd>10</dd><dt>t12_1</dt><dd>10</dd><dt>capacidad</dt><dd>48</dd><dt>pacientes</dt><dd>632</dd><dt>consultas</dt><dd>4475</dd><dt>hospitalizaciones</dt><dd>322</dd><dt>Target</dt><dd>12635</dd><dt>is_train</dt><dd>2</dd></dl>\n"
      ],
      "text/latex": [
       "\\begin{description*}\n",
       "\\item[Hospital] 29\n",
       "\\item[Especialidad] 16\n",
       "\\item[total\\textbackslash{}\\_pacientes] 3528\n",
       "\\item[ano] 3\n",
       "\\item[semana] 51\n",
       "\\item[CODCNH] 29\n",
       "\\item[id\\textbackslash{}\\_area] 10\n",
       "\\item[nombre\\textbackslash{}\\_area] 10\n",
       "\\item[cmunicipio] 16\n",
       "\\item[Municipio] 16\n",
       "\\item[CAMAS] 28\n",
       "\\item[Clase] 3\n",
       "\\item[Dependencia] 3\n",
       "\\item[TAC] 6\n",
       "\\item[RM] 6\n",
       "\\item[GAM] 5\n",
       "\\item[HEM] 4\n",
       "\\item[ASD] 4\n",
       "\\item[LIT] 2\n",
       "\\item[BCO] 1\n",
       "\\item[ALI] 5\n",
       "\\item[SPECT] 5\n",
       "\\item[PET] 2\n",
       "\\item[MAMOS] 5\n",
       "\\item[DO] 3\n",
       "\\item[DIAL] 15\n",
       "\\item[X] 29\n",
       "\\item[Y] 29\n",
       "\\item[t3\\textbackslash{}\\_1] 10\n",
       "\\item[t1\\textbackslash{}\\_1] 10\n",
       "\\item[t2\\textbackslash{}\\_1] 10\n",
       "\\item[t2\\textbackslash{}\\_2] 10\n",
       "\\item[t4\\textbackslash{}\\_1] 10\n",
       "\\item[t4\\textbackslash{}\\_2] 10\n",
       "\\item[t4\\textbackslash{}\\_3] 10\n",
       "\\item[t5\\textbackslash{}\\_1] 10\n",
       "\\item[t6\\textbackslash{}\\_1] 10\n",
       "\\item[t7\\textbackslash{}\\_1] 10\n",
       "\\item[t8\\textbackslash{}\\_1] 10\n",
       "\\item[t9\\textbackslash{}\\_1] 10\n",
       "\\item[t10\\textbackslash{}\\_1] 10\n",
       "\\item[t11\\textbackslash{}\\_1] 10\n",
       "\\item[t12\\textbackslash{}\\_1] 10\n",
       "\\item[capacidad] 48\n",
       "\\item[pacientes] 632\n",
       "\\item[consultas] 4475\n",
       "\\item[hospitalizaciones] 322\n",
       "\\item[Target] 12635\n",
       "\\item[is\\textbackslash{}\\_train] 2\n",
       "\\end{description*}\n"
      ],
      "text/markdown": [
       "Hospital\n",
       ":   29Especialidad\n",
       ":   16total_pacientes\n",
       ":   3528ano\n",
       ":   3semana\n",
       ":   51CODCNH\n",
       ":   29id_area\n",
       ":   10nombre_area\n",
       ":   10cmunicipio\n",
       ":   16Municipio\n",
       ":   16CAMAS\n",
       ":   28Clase\n",
       ":   3Dependencia\n",
       ":   3TAC\n",
       ":   6RM\n",
       ":   6GAM\n",
       ":   5HEM\n",
       ":   4ASD\n",
       ":   4LIT\n",
       ":   2BCO\n",
       ":   1ALI\n",
       ":   5SPECT\n",
       ":   5PET\n",
       ":   2MAMOS\n",
       ":   5DO\n",
       ":   3DIAL\n",
       ":   15X\n",
       ":   29Y\n",
       ":   29t3_1\n",
       ":   10t1_1\n",
       ":   10t2_1\n",
       ":   10t2_2\n",
       ":   10t4_1\n",
       ":   10t4_2\n",
       ":   10t4_3\n",
       ":   10t5_1\n",
       ":   10t6_1\n",
       ":   10t7_1\n",
       ":   10t8_1\n",
       ":   10t9_1\n",
       ":   10t10_1\n",
       ":   10t11_1\n",
       ":   10t12_1\n",
       ":   10capacidad\n",
       ":   48pacientes\n",
       ":   632consultas\n",
       ":   4475hospitalizaciones\n",
       ":   322Target\n",
       ":   12635is_train\n",
       ":   2\n",
       "\n"
      ],
      "text/plain": [
       "         Hospital      Especialidad   total_pacientes               ano \n",
       "               29                16              3528                 3 \n",
       "           semana            CODCNH           id_area       nombre_area \n",
       "               51                29                10                10 \n",
       "       cmunicipio         Municipio             CAMAS             Clase \n",
       "               16                16                28                 3 \n",
       "      Dependencia               TAC                RM               GAM \n",
       "                3                 6                 6                 5 \n",
       "              HEM               ASD               LIT               BCO \n",
       "                4                 4                 2                 1 \n",
       "              ALI             SPECT               PET             MAMOS \n",
       "                5                 5                 2                 5 \n",
       "               DO              DIAL                 X                 Y \n",
       "                3                15                29                29 \n",
       "             t3_1              t1_1              t2_1              t2_2 \n",
       "               10                10                10                10 \n",
       "             t4_1              t4_2              t4_3              t5_1 \n",
       "               10                10                10                10 \n",
       "             t6_1              t7_1              t8_1              t9_1 \n",
       "               10                10                10                10 \n",
       "            t10_1             t11_1             t12_1         capacidad \n",
       "               10                10                10                48 \n",
       "        pacientes         consultas hospitalizaciones            Target \n",
       "              632              4475               322             12635 \n",
       "         is_train \n",
       "                2 "
      ]
     },
     "metadata": {},
     "output_type": "display_data"
    }
   ],
   "source": [
    "# We obtain the number of different values of each column\n",
    "distinct_counts <- sapply(data, function(x) n_distinct(x, na.rm = TRUE))\n",
    "distinct_counts"
   ]
  },
  {
   "cell_type": "code",
   "execution_count": 152,
   "metadata": {
    "ExecuteTime": {
     "end_time": "2020-12-25T18:24:56.516497Z",
     "start_time": "2020-12-25T18:24:56.500900Z"
    },
    "slideshow": {
     "slide_type": "subslide"
    },
    "vscode": {
     "languageId": "r"
    }
   },
   "outputs": [
    {
     "name": "stdout",
     "output_type": "stream",
     "text": [
      "BCO \n",
      " 20 \n"
     ]
    },
    {
     "data": {
      "text/html": [
       "<style>\n",
       ".list-inline {list-style: none; margin:0; padding: 0}\n",
       ".list-inline>li {display: inline-block}\n",
       ".list-inline>li:not(:last-child)::after {content: \"\\00b7\"; padding: 0 .5ex}\n",
       "</style>\n",
       "<ol class=list-inline><li>'Hospital'</li><li>'Especialidad'</li><li>'total_pacientes'</li><li>'ano'</li><li>'semana'</li><li>'CODCNH'</li><li>'id_area'</li><li>'nombre_area'</li><li>'cmunicipio'</li><li>'Municipio'</li><li>'CAMAS'</li><li>'Clase'</li><li>'Dependencia'</li><li>'TAC'</li><li>'RM'</li><li>'GAM'</li><li>'HEM'</li><li>'ASD'</li><li>'LIT'</li><li>'ALI'</li><li>'SPECT'</li><li>'PET'</li><li>'MAMOS'</li><li>'DO'</li><li>'DIAL'</li><li>'X'</li><li>'Y'</li><li>'t3_1'</li><li>'t1_1'</li><li>'t2_1'</li><li>'t2_2'</li><li>'t4_1'</li><li>'t4_2'</li><li>'t4_3'</li><li>'t5_1'</li><li>'t6_1'</li><li>'t7_1'</li><li>'t8_1'</li><li>'t9_1'</li><li>'t10_1'</li><li>'t11_1'</li><li>'t12_1'</li><li>'capacidad'</li><li>'pacientes'</li><li>'consultas'</li><li>'hospitalizaciones'</li><li>'Target'</li><li>'is_train'</li></ol>\n"
      ],
      "text/latex": [
       "\\begin{enumerate*}\n",
       "\\item 'Hospital'\n",
       "\\item 'Especialidad'\n",
       "\\item 'total\\_pacientes'\n",
       "\\item 'ano'\n",
       "\\item 'semana'\n",
       "\\item 'CODCNH'\n",
       "\\item 'id\\_area'\n",
       "\\item 'nombre\\_area'\n",
       "\\item 'cmunicipio'\n",
       "\\item 'Municipio'\n",
       "\\item 'CAMAS'\n",
       "\\item 'Clase'\n",
       "\\item 'Dependencia'\n",
       "\\item 'TAC'\n",
       "\\item 'RM'\n",
       "\\item 'GAM'\n",
       "\\item 'HEM'\n",
       "\\item 'ASD'\n",
       "\\item 'LIT'\n",
       "\\item 'ALI'\n",
       "\\item 'SPECT'\n",
       "\\item 'PET'\n",
       "\\item 'MAMOS'\n",
       "\\item 'DO'\n",
       "\\item 'DIAL'\n",
       "\\item 'X'\n",
       "\\item 'Y'\n",
       "\\item 't3\\_1'\n",
       "\\item 't1\\_1'\n",
       "\\item 't2\\_1'\n",
       "\\item 't2\\_2'\n",
       "\\item 't4\\_1'\n",
       "\\item 't4\\_2'\n",
       "\\item 't4\\_3'\n",
       "\\item 't5\\_1'\n",
       "\\item 't6\\_1'\n",
       "\\item 't7\\_1'\n",
       "\\item 't8\\_1'\n",
       "\\item 't9\\_1'\n",
       "\\item 't10\\_1'\n",
       "\\item 't11\\_1'\n",
       "\\item 't12\\_1'\n",
       "\\item 'capacidad'\n",
       "\\item 'pacientes'\n",
       "\\item 'consultas'\n",
       "\\item 'hospitalizaciones'\n",
       "\\item 'Target'\n",
       "\\item 'is\\_train'\n",
       "\\end{enumerate*}\n"
      ],
      "text/markdown": [
       "1. 'Hospital'\n",
       "2. 'Especialidad'\n",
       "3. 'total_pacientes'\n",
       "4. 'ano'\n",
       "5. 'semana'\n",
       "6. 'CODCNH'\n",
       "7. 'id_area'\n",
       "8. 'nombre_area'\n",
       "9. 'cmunicipio'\n",
       "10. 'Municipio'\n",
       "11. 'CAMAS'\n",
       "12. 'Clase'\n",
       "13. 'Dependencia'\n",
       "14. 'TAC'\n",
       "15. 'RM'\n",
       "16. 'GAM'\n",
       "17. 'HEM'\n",
       "18. 'ASD'\n",
       "19. 'LIT'\n",
       "20. 'ALI'\n",
       "21. 'SPECT'\n",
       "22. 'PET'\n",
       "23. 'MAMOS'\n",
       "24. 'DO'\n",
       "25. 'DIAL'\n",
       "26. 'X'\n",
       "27. 'Y'\n",
       "28. 't3_1'\n",
       "29. 't1_1'\n",
       "30. 't2_1'\n",
       "31. 't2_2'\n",
       "32. 't4_1'\n",
       "33. 't4_2'\n",
       "34. 't4_3'\n",
       "35. 't5_1'\n",
       "36. 't6_1'\n",
       "37. 't7_1'\n",
       "38. 't8_1'\n",
       "39. 't9_1'\n",
       "40. 't10_1'\n",
       "41. 't11_1'\n",
       "42. 't12_1'\n",
       "43. 'capacidad'\n",
       "44. 'pacientes'\n",
       "45. 'consultas'\n",
       "46. 'hospitalizaciones'\n",
       "47. 'Target'\n",
       "48. 'is_train'\n",
       "\n",
       "\n"
      ],
      "text/plain": [
       " [1] \"Hospital\"          \"Especialidad\"      \"total_pacientes\"  \n",
       " [4] \"ano\"               \"semana\"            \"CODCNH\"           \n",
       " [7] \"id_area\"           \"nombre_area\"       \"cmunicipio\"       \n",
       "[10] \"Municipio\"         \"CAMAS\"             \"Clase\"            \n",
       "[13] \"Dependencia\"       \"TAC\"               \"RM\"               \n",
       "[16] \"GAM\"               \"HEM\"               \"ASD\"              \n",
       "[19] \"LIT\"               \"ALI\"               \"SPECT\"            \n",
       "[22] \"PET\"               \"MAMOS\"             \"DO\"               \n",
       "[25] \"DIAL\"              \"X\"                 \"Y\"                \n",
       "[28] \"t3_1\"              \"t1_1\"              \"t2_1\"             \n",
       "[31] \"t2_2\"              \"t4_1\"              \"t4_2\"             \n",
       "[34] \"t4_3\"              \"t5_1\"              \"t6_1\"             \n",
       "[37] \"t7_1\"              \"t8_1\"              \"t9_1\"             \n",
       "[40] \"t10_1\"             \"t11_1\"             \"t12_1\"            \n",
       "[43] \"capacidad\"         \"pacientes\"         \"consultas\"        \n",
       "[46] \"hospitalizaciones\" \"Target\"            \"is_train\"         "
      ]
     },
     "metadata": {},
     "output_type": "display_data"
    }
   ],
   "source": [
    "# Identify columns with a single unique value\n",
    "single_value_columns <- which(distinct_counts == 1)\n",
    "print(single_value_columns)\n",
    "# Remove columns with a single unique value\n",
    "data <- data[, -single_value_columns]\n",
    "colnames(data)\n"
   ]
  },
  {
   "cell_type": "markdown",
   "metadata": {
    "slideshow": {
     "slide_type": "slide"
    }
   },
   "source": [
    "## Very Few Values"
   ]
  },
  {
   "cell_type": "markdown",
   "metadata": {},
   "source": [
    "<font color='tomato'>Select rate\n",
    "</font>"
   ]
  },
  {
   "cell_type": "code",
   "execution_count": 153,
   "metadata": {
    "ExecuteTime": {
     "end_time": "2020-12-27T09:57:49.719834Z",
     "start_time": "2020-12-27T09:57:49.704210Z"
    },
    "vscode": {
     "languageId": "r"
    }
   },
   "outputs": [],
   "source": [
    "rate <- 0.00005"
   ]
  },
  {
   "cell_type": "markdown",
   "metadata": {},
   "source": [
    "<font color='darkgrey'><b>Operation</font>"
   ]
  },
  {
   "cell_type": "code",
   "execution_count": 154,
   "metadata": {
    "ExecuteTime": {
     "end_time": "2020-12-26T19:04:18.889092Z",
     "start_time": "2020-12-26T19:04:18.857853Z"
    },
    "vscode": {
     "languageId": "r"
    }
   },
   "outputs": [
    {
     "name": "stdout",
     "output_type": "stream",
     "text": [
      "[1] \"LIT\" \"PET\"\n"
     ]
    }
   ],
   "source": [
    "# Summarize columns that have unique values that are less than \n",
    "# \"porcentage_threshold\" percent of the number of rows.\n",
    "\n",
    "\n",
    "# Show features with over rate rows being the same value\n",
    "distinct_counts <- sapply(data, function(x) n_distinct(x, na.rm = TRUE))\n",
    "\n",
    "# Calculate the rate of different values\n",
    "distinct_rate <- distinct_counts / nrow(data)\n",
    "\n",
    "# Identify columns with a rate lower than the threshold, excluding 'is_train' and 'Target' columns\n",
    "columns_to_remove <- names(distinct_rate[distinct_rate < rate & !(names(distinct_rate) %in% c(\"is_train\", \"Target\"))])\n",
    "\n",
    "# Print the columns to be removed\n",
    "print(columns_to_remove)\n",
    "\n",
    "# Remove columns with a low rate of different values\n",
    "data <- data[, !(names(data) %in% columns_to_remove)]"
   ]
  },
  {
   "cell_type": "code",
   "execution_count": 155,
   "metadata": {
    "ExecuteTime": {
     "end_time": "2020-12-25T20:02:37.919478Z",
     "start_time": "2020-12-25T20:02:37.881216Z"
    },
    "scrolled": false,
    "slideshow": {
     "slide_type": "subslide"
    },
    "vscode": {
     "languageId": "r"
    }
   },
   "outputs": [
    {
     "name": "stdout",
     "output_type": "stream",
     "text": [
      "                             Column Unique_Count Percentage_Unique\n",
      "Hospital                   Hospital           29       0.052083333\n",
      "Especialidad           Especialidad           16       0.028735632\n",
      "total_pacientes     total_pacientes         3528       6.336206897\n",
      "ano                             ano            3       0.005387931\n",
      "semana                       semana           51       0.091594828\n",
      "CODCNH                       CODCNH           29       0.052083333\n",
      "id_area                     id_area           10       0.017959770\n",
      "nombre_area             nombre_area           10       0.017959770\n",
      "cmunicipio               cmunicipio           16       0.028735632\n",
      "Municipio                 Municipio           16       0.028735632\n",
      "CAMAS                         CAMAS           28       0.050287356\n",
      "Clase                         Clase            3       0.005387931\n",
      "Dependencia             Dependencia            3       0.005387931\n",
      "TAC                             TAC            6       0.010775862\n",
      "RM                               RM            6       0.010775862\n",
      "GAM                             GAM            5       0.008979885\n",
      "HEM                             HEM            4       0.007183908\n",
      "ASD                             ASD            4       0.007183908\n",
      "ALI                             ALI            5       0.008979885\n",
      "SPECT                         SPECT            5       0.008979885\n",
      "MAMOS                         MAMOS            5       0.008979885\n",
      "DO                               DO            3       0.005387931\n",
      "DIAL                           DIAL           15       0.026939655\n",
      "X                                 X           29       0.052083333\n",
      "Y                                 Y           29       0.052083333\n",
      "t3_1                           t3_1           10       0.017959770\n",
      "t1_1                           t1_1           10       0.017959770\n",
      "t2_1                           t2_1           10       0.017959770\n",
      "t2_2                           t2_2           10       0.017959770\n",
      "t4_1                           t4_1           10       0.017959770\n",
      "t4_2                           t4_2           10       0.017959770\n",
      "t4_3                           t4_3           10       0.017959770\n",
      "t5_1                           t5_1           10       0.017959770\n",
      "t6_1                           t6_1           10       0.017959770\n",
      "t7_1                           t7_1           10       0.017959770\n",
      "t8_1                           t8_1           10       0.017959770\n",
      "t9_1                           t9_1           10       0.017959770\n",
      "t10_1                         t10_1           10       0.017959770\n",
      "t11_1                         t11_1           10       0.017959770\n",
      "t12_1                         t12_1           10       0.017959770\n",
      "capacidad                 capacidad           48       0.086206897\n",
      "pacientes                 pacientes          632       1.135057471\n",
      "consultas                 consultas         4475       8.036997126\n",
      "hospitalizaciones hospitalizaciones          322       0.578304598\n",
      "Target                       Target        12635      22.692169540\n",
      "is_train                   is_train            2       0.003591954\n"
     ]
    }
   ],
   "source": [
    "# Summarize the number of unique values in each column\n",
    "# followed by the percentage of unique values for each \n",
    "# variable as a percentage of the total number of rows \n",
    "# in the dataset.\n",
    "\n",
    "# Calculate the number of unique values per column\n",
    "unique_counts <- sapply(data, function(x) n_distinct(x, na.rm = TRUE))\n",
    "\n",
    "# Calculate the percentage of unique values for each variable\n",
    "percentage_unique <- (unique_counts / nrow(data)) * 100\n",
    "\n",
    "# Create a summary data frame\n",
    "summary_df <- data.frame(\n",
    "  Column = names(unique_counts),\n",
    "  Unique_Count = unique_counts,\n",
    "  Percentage_Unique = percentage_unique\n",
    ")\n",
    "\n",
    "# Print the summary data frame\n",
    "print(summary_df)"
   ]
  },
  {
   "cell_type": "markdown",
   "metadata": {},
   "source": [
    "<font color='tomato'>Select percent of the number of rows</font>"
   ]
  },
  {
   "cell_type": "code",
   "execution_count": 156,
   "metadata": {
    "ExecuteTime": {
     "end_time": "2020-12-27T09:57:49.719834Z",
     "start_time": "2020-12-27T09:57:49.704210Z"
    },
    "vscode": {
     "languageId": "r"
    }
   },
   "outputs": [],
   "source": [
    "# Select percent of the number of rows\n",
    "percentage_threshold_value <- 0.0005"
   ]
  },
  {
   "cell_type": "markdown",
   "metadata": {},
   "source": [
    "<font color='darkgrey'><b>Operation</font>"
   ]
  },
  {
   "cell_type": "code",
   "execution_count": 157,
   "metadata": {
    "ExecuteTime": {
     "end_time": "2020-12-25T20:02:38.869038Z",
     "start_time": "2020-12-25T20:02:38.837791Z"
    },
    "scrolled": false,
    "slideshow": {
     "slide_type": "subslide"
    },
    "vscode": {
     "languageId": "r"
    }
   },
   "outputs": [
    {
     "name": "stdout",
     "output_type": "stream",
     "text": [
      "character(0)\n"
     ]
    }
   ],
   "source": [
    "\n",
    "\n",
    "# Get the column names to remove\n",
    "columns_to_remove <- summary_df$Column[summary_df$Percentage_Unique < percentage_threshold_value]\n",
    "print(columns_to_remove)\n",
    "# Remove the columns from the data\n",
    "data <- data[, !(names(data) %in% columns_to_remove)]\n"
   ]
  },
  {
   "cell_type": "markdown",
   "metadata": {},
   "source": [
    "<font color='darkgrey'><b>Check final columns</font>"
   ]
  },
  {
   "cell_type": "code",
   "execution_count": 159,
   "metadata": {
    "ExecuteTime": {
     "end_time": "2020-12-25T20:02:42.812505Z",
     "start_time": "2020-12-25T20:02:42.781250Z"
    },
    "vscode": {
     "languageId": "r"
    }
   },
   "outputs": [
    {
     "data": {
      "text/html": [
       "<style>\n",
       ".list-inline {list-style: none; margin:0; padding: 0}\n",
       ".list-inline>li {display: inline-block}\n",
       ".list-inline>li:not(:last-child)::after {content: \"\\00b7\"; padding: 0 .5ex}\n",
       "</style>\n",
       "<ol class=list-inline><li>'Hospital'</li><li>'Especialidad'</li><li>'total_pacientes'</li><li>'ano'</li><li>'semana'</li><li>'CODCNH'</li><li>'id_area'</li><li>'nombre_area'</li><li>'cmunicipio'</li><li>'Municipio'</li><li>'CAMAS'</li><li>'Clase'</li><li>'Dependencia'</li><li>'TAC'</li><li>'RM'</li><li>'GAM'</li><li>'HEM'</li><li>'ASD'</li><li>'ALI'</li><li>'SPECT'</li><li>'MAMOS'</li><li>'DO'</li><li>'DIAL'</li><li>'X'</li><li>'Y'</li><li>'t3_1'</li><li>'t1_1'</li><li>'t2_1'</li><li>'t2_2'</li><li>'t4_1'</li><li>'t4_2'</li><li>'t4_3'</li><li>'t5_1'</li><li>'t6_1'</li><li>'t7_1'</li><li>'t8_1'</li><li>'t9_1'</li><li>'t10_1'</li><li>'t11_1'</li><li>'t12_1'</li><li>'capacidad'</li><li>'pacientes'</li><li>'consultas'</li><li>'hospitalizaciones'</li><li>'Target'</li><li>'is_train'</li></ol>\n"
      ],
      "text/latex": [
       "\\begin{enumerate*}\n",
       "\\item 'Hospital'\n",
       "\\item 'Especialidad'\n",
       "\\item 'total\\_pacientes'\n",
       "\\item 'ano'\n",
       "\\item 'semana'\n",
       "\\item 'CODCNH'\n",
       "\\item 'id\\_area'\n",
       "\\item 'nombre\\_area'\n",
       "\\item 'cmunicipio'\n",
       "\\item 'Municipio'\n",
       "\\item 'CAMAS'\n",
       "\\item 'Clase'\n",
       "\\item 'Dependencia'\n",
       "\\item 'TAC'\n",
       "\\item 'RM'\n",
       "\\item 'GAM'\n",
       "\\item 'HEM'\n",
       "\\item 'ASD'\n",
       "\\item 'ALI'\n",
       "\\item 'SPECT'\n",
       "\\item 'MAMOS'\n",
       "\\item 'DO'\n",
       "\\item 'DIAL'\n",
       "\\item 'X'\n",
       "\\item 'Y'\n",
       "\\item 't3\\_1'\n",
       "\\item 't1\\_1'\n",
       "\\item 't2\\_1'\n",
       "\\item 't2\\_2'\n",
       "\\item 't4\\_1'\n",
       "\\item 't4\\_2'\n",
       "\\item 't4\\_3'\n",
       "\\item 't5\\_1'\n",
       "\\item 't6\\_1'\n",
       "\\item 't7\\_1'\n",
       "\\item 't8\\_1'\n",
       "\\item 't9\\_1'\n",
       "\\item 't10\\_1'\n",
       "\\item 't11\\_1'\n",
       "\\item 't12\\_1'\n",
       "\\item 'capacidad'\n",
       "\\item 'pacientes'\n",
       "\\item 'consultas'\n",
       "\\item 'hospitalizaciones'\n",
       "\\item 'Target'\n",
       "\\item 'is\\_train'\n",
       "\\end{enumerate*}\n"
      ],
      "text/markdown": [
       "1. 'Hospital'\n",
       "2. 'Especialidad'\n",
       "3. 'total_pacientes'\n",
       "4. 'ano'\n",
       "5. 'semana'\n",
       "6. 'CODCNH'\n",
       "7. 'id_area'\n",
       "8. 'nombre_area'\n",
       "9. 'cmunicipio'\n",
       "10. 'Municipio'\n",
       "11. 'CAMAS'\n",
       "12. 'Clase'\n",
       "13. 'Dependencia'\n",
       "14. 'TAC'\n",
       "15. 'RM'\n",
       "16. 'GAM'\n",
       "17. 'HEM'\n",
       "18. 'ASD'\n",
       "19. 'ALI'\n",
       "20. 'SPECT'\n",
       "21. 'MAMOS'\n",
       "22. 'DO'\n",
       "23. 'DIAL'\n",
       "24. 'X'\n",
       "25. 'Y'\n",
       "26. 't3_1'\n",
       "27. 't1_1'\n",
       "28. 't2_1'\n",
       "29. 't2_2'\n",
       "30. 't4_1'\n",
       "31. 't4_2'\n",
       "32. 't4_3'\n",
       "33. 't5_1'\n",
       "34. 't6_1'\n",
       "35. 't7_1'\n",
       "36. 't8_1'\n",
       "37. 't9_1'\n",
       "38. 't10_1'\n",
       "39. 't11_1'\n",
       "40. 't12_1'\n",
       "41. 'capacidad'\n",
       "42. 'pacientes'\n",
       "43. 'consultas'\n",
       "44. 'hospitalizaciones'\n",
       "45. 'Target'\n",
       "46. 'is_train'\n",
       "\n",
       "\n"
      ],
      "text/plain": [
       " [1] \"Hospital\"          \"Especialidad\"      \"total_pacientes\"  \n",
       " [4] \"ano\"               \"semana\"            \"CODCNH\"           \n",
       " [7] \"id_area\"           \"nombre_area\"       \"cmunicipio\"       \n",
       "[10] \"Municipio\"         \"CAMAS\"             \"Clase\"            \n",
       "[13] \"Dependencia\"       \"TAC\"               \"RM\"               \n",
       "[16] \"GAM\"               \"HEM\"               \"ASD\"              \n",
       "[19] \"ALI\"               \"SPECT\"             \"MAMOS\"            \n",
       "[22] \"DO\"                \"DIAL\"              \"X\"                \n",
       "[25] \"Y\"                 \"t3_1\"              \"t1_1\"             \n",
       "[28] \"t2_1\"              \"t2_2\"              \"t4_1\"             \n",
       "[31] \"t4_2\"              \"t4_3\"              \"t5_1\"             \n",
       "[34] \"t6_1\"              \"t7_1\"              \"t8_1\"             \n",
       "[37] \"t9_1\"              \"t10_1\"             \"t11_1\"            \n",
       "[40] \"t12_1\"             \"capacidad\"         \"pacientes\"        \n",
       "[43] \"consultas\"         \"hospitalizaciones\" \"Target\"           \n",
       "[46] \"is_train\"         "
      ]
     },
     "metadata": {},
     "output_type": "display_data"
    }
   ],
   "source": [
    "# Delete columns that have unique values that are less than \n",
    "# \"porcentage_threshold\" percent of the number of rows.\n",
    "#\n",
    "# NOTE: WE MUST EXCLUDE TARGET COLUMN TO DELETE\n",
    "colnames(data)\n"
   ]
  },
  {
   "cell_type": "markdown",
   "metadata": {
    "slideshow": {
     "slide_type": "slide"
    }
   },
   "source": [
    "## Low Variance"
   ]
  },
  {
   "cell_type": "markdown",
   "metadata": {
    "slideshow": {
     "slide_type": "slide"
    }
   },
   "source": [
    "**A) Calculating variances**"
   ]
  },
  {
   "cell_type": "code",
   "execution_count": 160,
   "metadata": {
    "ExecuteTime": {
     "end_time": "2020-12-26T17:52:44.507125Z",
     "start_time": "2020-12-26T17:52:44.475844Z"
    },
    "scrolled": true,
    "vscode": {
     "languageId": "r"
    }
   },
   "outputs": [
    {
     "name": "stdout",
     "output_type": "stream",
     "text": [
      "  total_pacientes               ano            semana            CODCNH \n",
      "     7.916352e+05      5.799410e-01      2.232348e+02      2.609947e+05 \n",
      "          id_area        cmunicipio             CAMAS               TAC \n",
      "     1.036880e+01      1.348231e+05      9.577061e+04      1.819295e+00 \n",
      "               RM               GAM               HEM               ASD \n",
      "     1.424520e+00      1.008342e+00      9.465093e-01      8.513827e-01 \n",
      "              ALI             SPECT             MAMOS                DO \n",
      "     1.286587e+00      1.005963e+00      9.369966e-01      4.899018e-01 \n",
      "             DIAL                 X                 Y              t3_1 \n",
      "     1.994328e+02      2.441187e-02      1.432827e-02      2.670148e+00 \n",
      "             t1_1              t2_1              t2_2              t4_1 \n",
      "     4.643055e+10      1.081162e-04      1.079681e-04      5.199907e-04 \n",
      "             t4_2              t4_3              t5_1              t6_1 \n",
      "     1.532418e-04      6.024165e-04      5.255911e-04      1.290188e-03 \n",
      "             t7_1              t8_1              t9_1             t10_1 \n",
      "     8.101956e-05      9.758045e-05      1.106921e-02      4.901374e-04 \n",
      "            t11_1             t12_1         capacidad         pacientes \n",
      "     2.525667e-04      3.700791e-04      1.501380e+03      8.276700e+03 \n",
      "        consultas hospitalizaciones            Target \n",
      "     1.781602e+06      6.888084e+02      1.775604e+03 \n"
     ]
    }
   ],
   "source": [
    "# Filter numeric columns\n",
    "numeric_columns <- sapply(data, is.numeric)\n",
    "\n",
    "# Calculate variance for numeric columns\n",
    "variance <- sapply(data[, numeric_columns], var, na.rm = TRUE)\n",
    "\n",
    "# Print the variance values\n",
    "print(variance)"
   ]
  },
  {
   "cell_type": "markdown",
   "metadata": {
    "slideshow": {
     "slide_type": "slide"
    }
   },
   "source": [
    "**B) Automatic calculation and representation of variances**"
   ]
  },
  {
   "cell_type": "markdown",
   "metadata": {},
   "source": [
    "<font color='tomato'>Define thresholds to check</font>"
   ]
  },
  {
   "cell_type": "code",
   "execution_count": 161,
   "metadata": {
    "ExecuteTime": {
     "end_time": "2020-12-27T09:57:49.719834Z",
     "start_time": "2020-12-27T09:57:49.704210Z"
    },
    "vscode": {
     "languageId": "r"
    }
   },
   "outputs": [],
   "source": [
    "# define thresholds to check\n",
    "variance_threshold = 0.00001"
   ]
  },
  {
   "cell_type": "markdown",
   "metadata": {
    "slideshow": {
     "slide_type": "slide"
    }
   },
   "source": [
    "**C) Delete variables with low variance**"
   ]
  },
  {
   "cell_type": "markdown",
   "metadata": {},
   "source": [
    "<font color='tomato'>Select column</font>"
   ]
  },
  {
   "cell_type": "markdown",
   "metadata": {},
   "source": [
    "<font color='darkgrey'><b>Operation</font>"
   ]
  },
  {
   "cell_type": "code",
   "execution_count": 163,
   "metadata": {
    "ExecuteTime": {
     "end_time": "2020-12-26T17:57:10.490674Z",
     "start_time": "2020-12-26T17:57:10.443822Z"
    },
    "vscode": {
     "languageId": "r"
    }
   },
   "outputs": [
    {
     "data": {
      "text/html": [
       "<style>\n",
       ".list-inline {list-style: none; margin:0; padding: 0}\n",
       ".list-inline>li {display: inline-block}\n",
       ".list-inline>li:not(:last-child)::after {content: \"\\00b7\"; padding: 0 .5ex}\n",
       "</style>\n",
       "<ol class=list-inline><li>'Hospital'</li><li>'Especialidad'</li><li>'total_pacientes'</li><li>'ano'</li><li>'semana'</li><li>'CODCNH'</li><li>'id_area'</li><li>'nombre_area'</li><li>'cmunicipio'</li><li>'Municipio'</li><li>'CAMAS'</li><li>'Clase'</li><li>'Dependencia'</li><li>'TAC'</li><li>'RM'</li><li>'GAM'</li><li>'HEM'</li><li>'ASD'</li><li>'ALI'</li><li>'SPECT'</li><li>'MAMOS'</li><li>'DO'</li><li>'DIAL'</li><li>'X'</li><li>'Y'</li><li>'t3_1'</li><li>'t1_1'</li><li>'t2_1'</li><li>'t2_2'</li><li>'t4_1'</li><li>'t4_2'</li><li>'t4_3'</li><li>'t5_1'</li><li>'t6_1'</li><li>'t7_1'</li><li>'t8_1'</li><li>'t9_1'</li><li>'t10_1'</li><li>'t11_1'</li><li>'t12_1'</li><li>'capacidad'</li><li>'pacientes'</li><li>'consultas'</li><li>'hospitalizaciones'</li><li>'Target'</li><li>'is_train'</li></ol>\n"
      ],
      "text/latex": [
       "\\begin{enumerate*}\n",
       "\\item 'Hospital'\n",
       "\\item 'Especialidad'\n",
       "\\item 'total\\_pacientes'\n",
       "\\item 'ano'\n",
       "\\item 'semana'\n",
       "\\item 'CODCNH'\n",
       "\\item 'id\\_area'\n",
       "\\item 'nombre\\_area'\n",
       "\\item 'cmunicipio'\n",
       "\\item 'Municipio'\n",
       "\\item 'CAMAS'\n",
       "\\item 'Clase'\n",
       "\\item 'Dependencia'\n",
       "\\item 'TAC'\n",
       "\\item 'RM'\n",
       "\\item 'GAM'\n",
       "\\item 'HEM'\n",
       "\\item 'ASD'\n",
       "\\item 'ALI'\n",
       "\\item 'SPECT'\n",
       "\\item 'MAMOS'\n",
       "\\item 'DO'\n",
       "\\item 'DIAL'\n",
       "\\item 'X'\n",
       "\\item 'Y'\n",
       "\\item 't3\\_1'\n",
       "\\item 't1\\_1'\n",
       "\\item 't2\\_1'\n",
       "\\item 't2\\_2'\n",
       "\\item 't4\\_1'\n",
       "\\item 't4\\_2'\n",
       "\\item 't4\\_3'\n",
       "\\item 't5\\_1'\n",
       "\\item 't6\\_1'\n",
       "\\item 't7\\_1'\n",
       "\\item 't8\\_1'\n",
       "\\item 't9\\_1'\n",
       "\\item 't10\\_1'\n",
       "\\item 't11\\_1'\n",
       "\\item 't12\\_1'\n",
       "\\item 'capacidad'\n",
       "\\item 'pacientes'\n",
       "\\item 'consultas'\n",
       "\\item 'hospitalizaciones'\n",
       "\\item 'Target'\n",
       "\\item 'is\\_train'\n",
       "\\end{enumerate*}\n"
      ],
      "text/markdown": [
       "1. 'Hospital'\n",
       "2. 'Especialidad'\n",
       "3. 'total_pacientes'\n",
       "4. 'ano'\n",
       "5. 'semana'\n",
       "6. 'CODCNH'\n",
       "7. 'id_area'\n",
       "8. 'nombre_area'\n",
       "9. 'cmunicipio'\n",
       "10. 'Municipio'\n",
       "11. 'CAMAS'\n",
       "12. 'Clase'\n",
       "13. 'Dependencia'\n",
       "14. 'TAC'\n",
       "15. 'RM'\n",
       "16. 'GAM'\n",
       "17. 'HEM'\n",
       "18. 'ASD'\n",
       "19. 'ALI'\n",
       "20. 'SPECT'\n",
       "21. 'MAMOS'\n",
       "22. 'DO'\n",
       "23. 'DIAL'\n",
       "24. 'X'\n",
       "25. 'Y'\n",
       "26. 't3_1'\n",
       "27. 't1_1'\n",
       "28. 't2_1'\n",
       "29. 't2_2'\n",
       "30. 't4_1'\n",
       "31. 't4_2'\n",
       "32. 't4_3'\n",
       "33. 't5_1'\n",
       "34. 't6_1'\n",
       "35. 't7_1'\n",
       "36. 't8_1'\n",
       "37. 't9_1'\n",
       "38. 't10_1'\n",
       "39. 't11_1'\n",
       "40. 't12_1'\n",
       "41. 'capacidad'\n",
       "42. 'pacientes'\n",
       "43. 'consultas'\n",
       "44. 'hospitalizaciones'\n",
       "45. 'Target'\n",
       "46. 'is_train'\n",
       "\n",
       "\n"
      ],
      "text/plain": [
       " [1] \"Hospital\"          \"Especialidad\"      \"total_pacientes\"  \n",
       " [4] \"ano\"               \"semana\"            \"CODCNH\"           \n",
       " [7] \"id_area\"           \"nombre_area\"       \"cmunicipio\"       \n",
       "[10] \"Municipio\"         \"CAMAS\"             \"Clase\"            \n",
       "[13] \"Dependencia\"       \"TAC\"               \"RM\"               \n",
       "[16] \"GAM\"               \"HEM\"               \"ASD\"              \n",
       "[19] \"ALI\"               \"SPECT\"             \"MAMOS\"            \n",
       "[22] \"DO\"                \"DIAL\"              \"X\"                \n",
       "[25] \"Y\"                 \"t3_1\"              \"t1_1\"             \n",
       "[28] \"t2_1\"              \"t2_2\"              \"t4_1\"             \n",
       "[31] \"t4_2\"              \"t4_3\"              \"t5_1\"             \n",
       "[34] \"t6_1\"              \"t7_1\"              \"t8_1\"             \n",
       "[37] \"t9_1\"              \"t10_1\"             \"t11_1\"            \n",
       "[40] \"t12_1\"             \"capacidad\"         \"pacientes\"        \n",
       "[43] \"consultas\"         \"hospitalizaciones\" \"Target\"           \n",
       "[46] \"is_train\"         "
      ]
     },
     "metadata": {},
     "output_type": "display_data"
    }
   ],
   "source": [
    "# drop columns with low variance\n",
    "\n",
    "# Get the column names with variance lower than the threshold\n",
    "low_variance_columns <- names(variance[variance < variance_threshold])\n",
    "\n",
    "# Remove the low variance columns from the dataset\n",
    "data <- data[, !names(data) %in% low_variance_columns]\n",
    "colnames(data)"
   ]
  },
  {
   "cell_type": "markdown",
   "metadata": {
    "slideshow": {
     "slide_type": "slide"
    }
   },
   "source": [
    "## Duplicates"
   ]
  },
  {
   "cell_type": "markdown",
   "metadata": {
    "slideshow": {
     "slide_type": "slide"
    }
   },
   "source": [
    "Entendido como ERROR --> Eliminar duplicados"
   ]
  },
  {
   "cell_type": "markdown",
   "metadata": {
    "slideshow": {
     "slide_type": "slide"
    }
   },
   "source": [
    "### Identificación de Duplicates"
   ]
  },
  {
   "cell_type": "code",
   "execution_count": 166,
   "metadata": {
    "ExecuteTime": {
     "end_time": "2020-09-17T18:24:24.842008Z",
     "start_time": "2020-09-17T18:24:24.779548Z"
    },
    "vscode": {
     "languageId": "r"
    }
   },
   "outputs": [],
   "source": [
    "# Remove duplicated rows\n",
    "data <- data[!duplicated(data), ]"
   ]
  },
  {
   "cell_type": "markdown",
   "metadata": {
    "slideshow": {
     "slide_type": "slide"
    }
   },
   "source": [
    "### Eliminación de primera fila duplicada"
   ]
  },
  {
   "cell_type": "markdown",
   "metadata": {
    "ExecuteTime": {
     "end_time": "2020-09-17T18:24:28.838738Z",
     "start_time": "2020-09-17T18:24:28.807490Z"
    },
    "vscode": {
     "languageId": "r"
    }
   },
   "source": [
    "\n",
    "No aplica"
   ]
  },
  {
   "cell_type": "markdown",
   "metadata": {
    "slideshow": {
     "slide_type": "slide"
    }
   },
   "source": [
    "### Eliminación de todas las filas duplicadas"
   ]
  },
  {
   "attachments": {},
   "cell_type": "markdown",
   "metadata": {
    "ExecuteTime": {
     "end_time": "2020-09-17T18:24:30.296492Z",
     "start_time": "2020-09-17T18:24:30.258749Z"
    },
    "vscode": {
     "languageId": "r"
    }
   },
   "source": [
    "No aplica\n"
   ]
  },
  {
   "cell_type": "markdown",
   "metadata": {
    "slideshow": {
     "slide_type": "slide"
    }
   },
   "source": [
    "### Eliminación de filas duplicadas en columnas concretas"
   ]
  },
  {
   "cell_type": "markdown",
   "metadata": {},
   "source": [
    "<font color='tomato'>Select columns</font>"
   ]
  },
  {
   "cell_type": "markdown",
   "metadata": {
    "ExecuteTime": {
     "end_time": "2020-12-27T09:57:49.719834Z",
     "start_time": "2020-12-27T09:57:49.704210Z"
    },
    "vscode": {
     "languageId": "r"
    }
   },
   "source": [
    "\n",
    "No aplica"
   ]
  },
  {
   "cell_type": "markdown",
   "metadata": {},
   "source": [
    "<font color='darkgrey'><b>Operation</font>"
   ]
  },
  {
   "cell_type": "markdown",
   "metadata": {
    "ExecuteTime": {
     "end_time": "2020-09-17T18:24:31.531313Z",
     "start_time": "2020-09-17T18:24:31.477887Z"
    },
    "scrolled": true,
    "vscode": {
     "languageId": "r"
    }
   },
   "source": [
    "\n",
    "No aplica"
   ]
  },
  {
   "cell_type": "markdown",
   "metadata": {},
   "source": [
    "## <font color='green'>Data Save</font>\n",
    "\n",
    "* Solo si se han hecho cambios\n",
    "\n",
    "* No aplica"
   ]
  },
  {
   "cell_type": "markdown",
   "metadata": {},
   "source": [
    "<font color='tomato'> Identificamos los datos a guardar</font>"
   ]
  },
  {
   "cell_type": "code",
   "execution_count": 168,
   "metadata": {
    "vscode": {
     "languageId": "r"
    }
   },
   "outputs": [],
   "source": [
    "data_to_save <- data"
   ]
  },
  {
   "cell_type": "markdown",
   "metadata": {},
   "source": [
    "\n",
    "<font color='tomato'>Estructura de nombre de archivos:</font>\n",
    "\n",
    "* Código del caso de uso, por ejemplo \"CU_04\"\n",
    "* Número del proceso que lo genera, por ejemplo \"_06\".\n",
    "* Resto del nombre del archivo de entrada\n",
    "* Extensión del archivo\n",
    "\n",
    "Ejemplo: \"CU_04_06_01_01_zonasgeo.json, primer fichero que se genera en la tarea 01 del proceso 05 (Data Collection) para el caso de uso 04 (vacunas) y que se ha transformado en el proceso 06\n",
    "\n",
    "Importante mantener los guiones bajos antes de proceso, tarea, archivo y nombre"
   ]
  },
  {
   "attachments": {},
   "cell_type": "markdown",
   "metadata": {},
   "source": [
    "### Proceso 09.1"
   ]
  },
  {
   "cell_type": "code",
   "execution_count": 33,
   "metadata": {
    "vscode": {
     "languageId": "r"
    }
   },
   "outputs": [],
   "source": [
    "caso <- \"CU_25\"\n",
    "proceso <- '_09.1'\n",
    "tarea <- \"_01\"\n",
    "archivo <- \"_lista_espera_completo_clean\"\n",
    "proper <- \"_v_01\"\n",
    "extension <- \".csv\""
   ]
  },
  {
   "cell_type": "markdown",
   "metadata": {},
   "source": [
    "<font color='tomato'><b> OPCION A:</b> Uso del paquete \"tcltk\" para mayor comodidad</font>\n",
    "\n",
    "* Buscar carpeta, escribir nombre de archivo SIN extensión (se especifica en el código)\n",
    "* Especificar sufijo2 si es necesario\n",
    "* Cambiar datos por datos_xx si es necesario"
   ]
  },
  {
   "cell_type": "code",
   "execution_count": null,
   "metadata": {
    "vscode": {
     "languageId": "r"
    }
   },
   "outputs": [],
   "source": [
    "# file_save <- paste0(caso, proceso, tarea, tcltk::tkgetSaveFile(), proper, extension) \n",
    "# path_out <- paste0(oPath, file_save)\n",
    "# write_csv(data_to_save_xxxxx, path_out)\n",
    "\n",
    "# cat('File saved as: ')\n",
    "# path_out"
   ]
  },
  {
   "cell_type": "markdown",
   "metadata": {},
   "source": [
    "<font color='tomato'><b> OPCION B:</b> Especificar el nombre de archivo</font>"
   ]
  },
  {
   "cell_type": "markdown",
   "metadata": {},
   "source": [
    "- Los ficheros de salida del proceso van siempre a Data/Output/.  "
   ]
  },
  {
   "cell_type": "code",
   "execution_count": 170,
   "metadata": {
    "vscode": {
     "languageId": "r"
    }
   },
   "outputs": [
    {
     "name": "stdout",
     "output_type": "stream",
     "text": [
      "File saved as: "
     ]
    },
    {
     "data": {
      "text/html": [
       "'Data/Output/CU_25_09.1_01_lista_espera_completo_clean_v_01.csv'"
      ],
      "text/latex": [
       "'Data/Output/CU\\_25\\_09.1\\_01\\_lista\\_espera\\_completo\\_clean\\_v\\_01.csv'"
      ],
      "text/markdown": [
       "'Data/Output/CU_25_09.1_01_lista_espera_completo_clean_v_01.csv'"
      ],
      "text/plain": [
       "[1] \"Data/Output/CU_25_09.1_01_lista_espera_completo_clean_v_01.csv\""
      ]
     },
     "metadata": {},
     "output_type": "display_data"
    }
   ],
   "source": [
    "file_save <- paste0(caso, proceso, tarea, archivo, proper, extension) \n",
    "path_out <- paste0(oPath, file_save)\n",
    "write_csv(data_to_save, path_out)\n",
    "\n",
    "cat('File saved as: ')\n",
    "path_out"
   ]
  },
  {
   "cell_type": "markdown",
   "metadata": {},
   "source": [
    "#### Copia del fichero a Input\n",
    "\n",
    "Si el archivo se va a usar en otros notebooks, copiar a la carpeta Input"
   ]
  },
  {
   "cell_type": "code",
   "execution_count": 171,
   "metadata": {
    "vscode": {
     "languageId": "r"
    }
   },
   "outputs": [
    {
     "data": {
      "text/html": [
       "TRUE"
      ],
      "text/latex": [
       "TRUE"
      ],
      "text/markdown": [
       "TRUE"
      ],
      "text/plain": [
       "[1] TRUE"
      ]
     },
     "metadata": {},
     "output_type": "display_data"
    }
   ],
   "source": [
    "path_in <- paste0(iPath, file_save)\n",
    "file.copy(path_out, path_in, overwrite = TRUE)"
   ]
  },
  {
   "cell_type": "markdown",
   "metadata": {},
   "source": [
    "## <font color='#2874a6'>REPORT</font>"
   ]
  },
  {
   "cell_type": "markdown",
   "metadata": {},
   "source": [
    "A continuación se realizará un informe de las acciones realizadas"
   ]
  },
  {
   "cell_type": "markdown",
   "metadata": {},
   "source": [
    "## <font color=' #2874a6 '>Main Actions Carried Out</font>"
   ]
  },
  {
   "attachments": {},
   "cell_type": "markdown",
   "metadata": {},
   "source": [
    "- Si eran necesarias se han realizado en el proceso 05 por cuestiones de eficiencia"
   ]
  },
  {
   "cell_type": "markdown",
   "metadata": {},
   "source": [
    "## <font color=' #2874a6 '>Main Conclusions</font>"
   ]
  },
  {
   "attachments": {},
   "cell_type": "markdown",
   "metadata": {},
   "source": [
    "- Los datos están limpios para el despliegue\n"
   ]
  },
  {
   "cell_type": "markdown",
   "metadata": {},
   "source": [
    "## <font color='RED'>CODE TO DEPLOY (PILOT)</font>\n",
    "\n",
    "A continuación se incluirá el código que deba ser llevado a despliegue para producción, dado que se entiende efectúa operaciones necesarias sobre los datos en la ejecución del prototipo"
   ]
  },
  {
   "cell_type": "markdown",
   "metadata": {},
   "source": [
    "<font color=' red '><b>Description</b></font>\n",
    "\n",
    "- No hay nada que desplegar en el piloto, ya que estos datos son estáticos o en todo caso cambian con muy poca frecuencia, altamente improbable durante el proyecto.\n"
   ]
  },
  {
   "cell_type": "markdown",
   "metadata": {},
   "source": [
    "<font color=' red '><b>CODE</b></font>"
   ]
  },
  {
   "cell_type": "code",
   "execution_count": null,
   "metadata": {
    "vscode": {
     "languageId": "r"
    }
   },
   "outputs": [],
   "source": []
  }
 ],
 "metadata": {
  "anaconda-cloud": {},
  "celltoolbar": "Slideshow",
  "hide_input": false,
  "kernelspec": {
   "display_name": "R",
   "language": "R",
   "name": "ir"
  },
  "language_info": {
   "codemirror_mode": "r",
   "file_extension": ".r",
   "mimetype": "text/x-r-source",
   "name": "R",
   "pygments_lexer": "r",
   "version": "4.3.0"
  },
  "latex_envs": {
   "LaTeX_envs_menu_present": true,
   "autoclose": false,
   "autocomplete": true,
   "bibliofile": "biblio.bib",
   "cite_by": "apalike",
   "current_citInitial": 1,
   "eqLabelWithNumbers": true,
   "eqNumInitial": 1,
   "hotkeys": {
    "equation": "Ctrl-E",
    "itemize": "Ctrl-I"
   },
   "labels_anchors": false,
   "latex_user_defs": false,
   "report_style_numbering": true,
   "user_envs_cfg": false
  },
  "toc": {
   "base_numbering": 1,
   "nav_menu": {
    "height": "11.6px",
    "width": "160px"
   },
   "number_sections": true,
   "sideBar": true,
   "skip_h1_title": true,
   "title_cell": "Table of Contents",
   "title_sidebar": "Contents",
   "toc_cell": true,
   "toc_position": {
    "height": "calc(100% - 180px)",
    "left": "10px",
    "top": "150px",
    "width": "284.433px"
   },
   "toc_section_display": true,
   "toc_window_display": true
  },
  "varInspector": {
   "cols": {
    "lenName": 16,
    "lenType": 16,
    "lenVar": 40
   },
   "kernels_config": {
    "python": {
     "delete_cmd_postfix": "",
     "delete_cmd_prefix": "del ",
     "library": "var_list.py",
     "varRefreshCmd": "print(var_dic_list())"
    },
    "r": {
     "delete_cmd_postfix": ") ",
     "delete_cmd_prefix": "rm(",
     "library": "var_list.r",
     "varRefreshCmd": "cat(var_dic_list()) "
    }
   },
   "types_to_exclude": [
    "module",
    "function",
    "builtin_function_or_method",
    "instance",
    "_Feature"
   ],
   "window_display": false
  }
 },
 "nbformat": 4,
 "nbformat_minor": 1
}
