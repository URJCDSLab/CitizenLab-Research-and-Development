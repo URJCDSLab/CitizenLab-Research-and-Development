{
 "cells": [
  {
   "cell_type": "markdown",
   "metadata": {
    "slideshow": {
     "slide_type": "slide"
    }
   },
   "source": [
    "<img src=\".\\images\\Logo.png\" width=150 align=\"left\" /> <img src=\".\\images\\Logo2.jpg\" width=450 align=\"right\" />"
   ]
  },
  {
   "cell_type": "markdown",
   "metadata": {
    "slideshow": {
     "slide_type": "slide"
    }
   },
   "source": [
    "# <center><font color= #1e8449 > <b>CU55_Modelo agregado de estimación del gasto medio por turista</font></center>"
   ]
  },
  {
   "cell_type": "markdown",
   "metadata": {
    "slideshow": {
     "slide_type": "slide"
    }
   },
   "source": [
    "<font color='steelblue'><b>Citizenlab Data Science Methodology > III - Feature Engineering Domain </font>\n",
    "***\n",
    "> # <font color='steelblue'> <b>16.- Feature Selection</font>"
   ]
  },
  {
   "cell_type": "markdown",
   "metadata": {
    "slideshow": {
     "slide_type": "slide"
    }
   },
   "source": [
    "<font color='steelblue'>Feature Selection is the process where you automatically or manually select the most relevant features which contribute most to the correct output of the model.</font>\n"
   ]
  },
  {
   "cell_type": "markdown",
   "metadata": {
    "slideshow": {
     "slide_type": "slide"
    }
   },
   "source": [
    "## <font color='steelblue'>Tasks</font>"
   ]
  },
  {
   "cell_type": "markdown",
   "metadata": {
    "slideshow": {
     "slide_type": "slide"
    }
   },
   "source": [
    "<font color='steelblue'><b>Perform Selection of Categorical-Input/Categorical-Output</b>\t\n",
    "- Encoding-Categorical-Features\n",
    "- Chi-Squared-Feature-Selection\n",
    "- Mutual-Information-Feature-Selection\n",
    "- Evaluate-a-Logistic-Regression-model\n",
    "    \n",
    "<font color='steelblue'><b>Perform Selection of Numerical-Input/Categorical-Output</b>\t\n",
    "- ANOVA-F-test-Feature-Selection\n",
    "- Mutual-Information-Feature-Selection\n",
    "- Evaluating-a-Logistic-Regression-model\n",
    "- Tuning-the-Number-of-Selected-Features\n",
    "    \n",
    "<font color='steelblue'><b>Perform Selection of Numerical-Input/Numerical-Output</b>\t\n",
    "- Correlation-with-the-outcome-Feature-Selection\n",
    "- Mutual-Information-Feature-Selection\n",
    "- Evaluate-a-Lineal-Regression-model\n",
    "- Tuning-the-Number-of-Selected-Features\n",
    "    \n",
    "<font color='steelblue'><b>Perform Selection of Any-data</b>\t\n",
    "- RFE-(Recursive-Feature-Elimination)\n",
    "- Tuning-the-Number-of-Selected-Features\n",
    "- Automatically-Select-the-Number-of-Features\n",
    "    \n",
    "<font color='steelblue'><b>Explore the use of diferent algorithms wrapped by RFE</b>\t\n",
    "    \n",
    "<font color='steelblue'><b>Explore the use od Hybrid feature selection algorithms</b>\t"
   ]
  },
  {
   "cell_type": "markdown",
   "metadata": {},
   "source": [
    "## Consideraciones casos CitizenLab programados en R\n",
    "\n",
    "* Algunas de las tareas de este proceso se han realizado en los notebooks del proceso 05 Data Collection porque eran necesarias para las tareas ETL. En esos casos, en este notebook se referencia al notebook del proceso 05 correspondiente\n",
    "* Otras tareas típicas de este proceso se realizan en los notebooks del dominio IV al ser más eficiente realizarlas en el propio pipeline de modelización.\n",
    "* Por tanto en los notebooks de este proceso de manera general se incluyen las comprobaciones necesarias, y comentarios si procede\n",
    "* Las tareas del proceso se van a aplicar solo a los archivos que forman parte del despliegue, ya que hay muchos archivos intermedios que no procede pasar por este proceso\n",
    "* El nombre de archivo del notebook hace referencia al nombre de archivo del proceso 05 al que se aplica este proceso, por eso pueden no ser correlativa la numeración\n",
    "* Las comprobaciones se van a realizar teniendo en cuenta que el lenguaje utilizado en el despliegue de este caso es R"
   ]
  },
  {
   "cell_type": "markdown",
   "metadata": {},
   "source": [
    "## <font color='green'>File</font>"
   ]
  },
  {
   "cell_type": "markdown",
   "metadata": {},
   "source": [
    "- <font color='steelblue'> <b>Input File: CU_55_08_03_gasto_municipio.csv</font>\n",
    "- <font color='steelblue'> <b>Sampled Input File: CU_45_07_03_gasto_municipio.csv</font>\n",
    "- <font color='steelblue'> <b>Output File: No aplica</font>"
   ]
  },
  {
   "cell_type": "markdown",
   "metadata": {},
   "source": [
    "### Encoding\n",
    "\n",
    "Con la siguiente expresión se evitan problemas con el encoding al ejecutar el notebook. Es posible que deba ser eliminada o adaptada a la máquina en la que se ejecute el código."
   ]
  },
  {
   "cell_type": "code",
   "execution_count": 1,
   "metadata": {
    "vscode": {
     "languageId": "r"
    }
   },
   "outputs": [
    {
     "data": {
      "text/html": [
       "'LC_COLLATE=es_ES.UTF-8;LC_CTYPE=es_ES.UTF-8;LC_MONETARY=es_ES.UTF-8;LC_NUMERIC=C;LC_TIME=es_ES.UTF-8'"
      ],
      "text/latex": [
       "'LC\\_COLLATE=es\\_ES.UTF-8;LC\\_CTYPE=es\\_ES.UTF-8;LC\\_MONETARY=es\\_ES.UTF-8;LC\\_NUMERIC=C;LC\\_TIME=es\\_ES.UTF-8'"
      ],
      "text/markdown": [
       "'LC_COLLATE=es_ES.UTF-8;LC_CTYPE=es_ES.UTF-8;LC_MONETARY=es_ES.UTF-8;LC_NUMERIC=C;LC_TIME=es_ES.UTF-8'"
      ],
      "text/plain": [
       "[1] \"LC_COLLATE=es_ES.UTF-8;LC_CTYPE=es_ES.UTF-8;LC_MONETARY=es_ES.UTF-8;LC_NUMERIC=C;LC_TIME=es_ES.UTF-8\""
      ]
     },
     "metadata": {},
     "output_type": "display_data"
    }
   ],
   "source": [
    "Sys.setlocale(category = \"LC_ALL\", locale = \"es_ES.UTF-8\")"
   ]
  },
  {
   "cell_type": "markdown",
   "metadata": {},
   "source": [
    "## <font color='green'>Settings</font>"
   ]
  },
  {
   "cell_type": "markdown",
   "metadata": {},
   "source": [
    "### Libraries to use"
   ]
  },
  {
   "cell_type": "code",
   "execution_count": 2,
   "metadata": {
    "vscode": {
     "languageId": "r"
    }
   },
   "outputs": [
    {
     "name": "stderr",
     "output_type": "stream",
     "text": [
      "Loading required package: ggplot2\n",
      "\n",
      "Loading required package: lattice\n",
      "\n",
      "\n",
      "Attaching package: 'dplyr'\n",
      "\n",
      "\n",
      "The following objects are masked from 'package:stats':\n",
      "\n",
      "    filter, lag\n",
      "\n",
      "\n",
      "The following objects are masked from 'package:base':\n",
      "\n",
      "    intersect, setdiff, setequal, union\n",
      "\n",
      "\n",
      "\n",
      "Attaching package: 'lubridate'\n",
      "\n",
      "\n",
      "The following objects are masked from 'package:base':\n",
      "\n",
      "    date, intersect, setdiff, union\n",
      "\n",
      "\n"
     ]
    }
   ],
   "source": [
    "library(caret)\n",
    "library(readr)\n",
    "library(dplyr)\n",
    "library(tidyr)\n",
    "library(forcats)\n",
    "library(lubridate)"
   ]
  },
  {
   "cell_type": "markdown",
   "metadata": {},
   "source": [
    "### Paths"
   ]
  },
  {
   "cell_type": "code",
   "execution_count": 3,
   "metadata": {
    "vscode": {
     "languageId": "r"
    }
   },
   "outputs": [],
   "source": [
    "iPath <- \"Data/Input/\"\n",
    "oPath <- \"Data/Output/\""
   ]
  },
  {
   "cell_type": "markdown",
   "metadata": {},
   "source": [
    "## <font color='green'>Data Load</font>"
   ]
  },
  {
   "cell_type": "markdown",
   "metadata": {},
   "source": [
    "<font color='tomato'><b> OPCION A:</b> Seleccionar fichero en ventana para mayor comodidad</font> "
   ]
  },
  {
   "cell_type": "markdown",
   "metadata": {},
   "source": [
    "Data load using the {tcltk} package. Ucomment the line if using this option"
   ]
  },
  {
   "cell_type": "code",
   "execution_count": 4,
   "metadata": {
    "vscode": {
     "languageId": "r"
    }
   },
   "outputs": [],
   "source": [
    "# file_data <- tcltk::tk_choose.files(multi = FALSE)"
   ]
  },
  {
   "cell_type": "markdown",
   "metadata": {},
   "source": [
    "<font color='tomato'><b> OPCION B:</b> Especificar el nombre de archivo</font>\n",
    "\n"
   ]
  },
  {
   "cell_type": "code",
   "execution_count": 5,
   "metadata": {
    "vscode": {
     "languageId": "r"
    }
   },
   "outputs": [
    {
     "name": "stdout",
     "output_type": "stream",
     "text": [
      "Se leerán datos del archivo:  Data/Input/CU_55_08_03_gasto_municipio.csv"
     ]
    }
   ],
   "source": [
    "iFile <- \"CU_55_08_03_gasto_municipio.csv\"\n",
    "file_data <- paste0(iPath, iFile)\n",
    "\n",
    "if(file.exists(file_data)){\n",
    "    cat(\"Se leerán datos del archivo: \", file_data)\n",
    "} else{\n",
    "    warning(\"Cuidado: el archivo no existe.\")\n",
    "}\n"
   ]
  },
  {
   "cell_type": "markdown",
   "metadata": {},
   "source": [
    "#### Data file to dataframe\n",
    "\n",
    "Usar la función adecuada según el formato de entrada (xlsx, csv, json, ...)"
   ]
  },
  {
   "cell_type": "code",
   "execution_count": 6,
   "metadata": {
    "vscode": {
     "languageId": "r"
    }
   },
   "outputs": [
    {
     "name": "stderr",
     "output_type": "stream",
     "text": [
      "\u001b[1mRows: \u001b[22m\u001b[34m50294\u001b[39m \u001b[1mColumns: \u001b[22m\u001b[34m10\u001b[39m\n",
      "\u001b[36m──\u001b[39m \u001b[1mColumn specification\u001b[22m \u001b[36m─────────────────────────────────────────────────────────────────────────────────────────────────────────────────────────────────────────────────────────────────────────────────────\u001b[39m\n",
      "\u001b[1mDelimiter:\u001b[22m \",\"\n",
      "\u001b[31mchr\u001b[39m (5): mes, pais_orig_cod, pais_orig, mun_dest, CMUN\n",
      "\u001b[32mdbl\u001b[39m (4): mun_dest_cod, turistas, gasto, Target\n",
      "\u001b[33mlgl\u001b[39m (1): is_train\n",
      "\n",
      "\u001b[36mℹ\u001b[39m Use `spec()` to retrieve the full column specification for this data.\n",
      "\u001b[36mℹ\u001b[39m Specify the column types or set `show_col_types = FALSE` to quiet this message.\n"
     ]
    }
   ],
   "source": [
    "data <- read_csv(file_data)\n"
   ]
  },
  {
   "cell_type": "markdown",
   "metadata": {},
   "source": [
    "Estructura de  los datos:"
   ]
  },
  {
   "cell_type": "code",
   "execution_count": 7,
   "metadata": {
    "vscode": {
     "languageId": "r"
    }
   },
   "outputs": [
    {
     "name": "stdout",
     "output_type": "stream",
     "text": [
      "Rows: 50,294\n",
      "Columns: 10\n",
      "$ mes           \u001b[3m\u001b[90m<chr>\u001b[39m\u001b[23m \"2019-08\", \"2021-07\", \"2021-07\", \"2022-01\", \"2019-08\", \"…\n",
      "$ pais_orig_cod \u001b[3m\u001b[90m<chr>\u001b[39m\u001b[23m \"110\", \"010\", \"010\", \"000\", \"128\", \"000\", \"011\", \"126\", …\n",
      "$ pais_orig     \u001b[3m\u001b[90m<chr>\u001b[39m\u001b[23m \"Francia\", \"Total Europa\", \"Total Europa\", \"Total\", \"Rum…\n",
      "$ mun_dest_cod  \u001b[3m\u001b[90m<dbl>\u001b[39m\u001b[23m 28161, 28176, 28132, 28141, 28130, 28126, 28075, 28005, …\n",
      "$ mun_dest      \u001b[3m\u001b[90m<chr>\u001b[39m\u001b[23m \"Valdemoro\", \"Villanueva de la Cañada\", \"San Martín de l…\n",
      "$ turistas      \u001b[3m\u001b[90m<dbl>\u001b[39m\u001b[23m 466, 1375, 465, 54, 135, 30, 285, 768, 31, 1646, 116, 36…\n",
      "$ CMUN          \u001b[3m\u001b[90m<chr>\u001b[39m\u001b[23m \"161\", \"176\", \"132\", \"141\", \"130\", \"126\", \"075\", \"005\", …\n",
      "$ gasto         \u001b[3m\u001b[90m<dbl>\u001b[39m\u001b[23m 76.360, 99.650, 99.650, 107.820, 109.210, 118.230, 118.2…\n",
      "$ Target        \u001b[3m\u001b[90m<dbl>\u001b[39m\u001b[23m 76.360, 99.650, 99.650, 107.820, 109.210, 118.230, 118.2…\n",
      "$ is_train      \u001b[3m\u001b[90m<lgl>\u001b[39m\u001b[23m TRUE, TRUE, TRUE, TRUE, TRUE, TRUE, TRUE, TRUE, TRUE, TR…\n"
     ]
    }
   ],
   "source": [
    "data |> glimpse()"
   ]
  },
  {
   "cell_type": "markdown",
   "metadata": {},
   "source": [
    "Muestra de los primeros datos:"
   ]
  },
  {
   "cell_type": "code",
   "execution_count": 8,
   "metadata": {
    "vscode": {
     "languageId": "r"
    }
   },
   "outputs": [
    {
     "data": {
      "text/html": [
       "<table class=\"dataframe\">\n",
       "<caption>A spec_tbl_df: 5 × 10</caption>\n",
       "<thead>\n",
       "\t<tr><th scope=col>mes</th><th scope=col>pais_orig_cod</th><th scope=col>pais_orig</th><th scope=col>mun_dest_cod</th><th scope=col>mun_dest</th><th scope=col>turistas</th><th scope=col>CMUN</th><th scope=col>gasto</th><th scope=col>Target</th><th scope=col>is_train</th></tr>\n",
       "\t<tr><th scope=col>&lt;chr&gt;</th><th scope=col>&lt;chr&gt;</th><th scope=col>&lt;chr&gt;</th><th scope=col>&lt;dbl&gt;</th><th scope=col>&lt;chr&gt;</th><th scope=col>&lt;dbl&gt;</th><th scope=col>&lt;chr&gt;</th><th scope=col>&lt;dbl&gt;</th><th scope=col>&lt;dbl&gt;</th><th scope=col>&lt;lgl&gt;</th></tr>\n",
       "</thead>\n",
       "<tbody>\n",
       "\t<tr><td>2019-08</td><td>110</td><td>Francia     </td><td>28161</td><td>Valdemoro              </td><td> 466</td><td>161</td><td> 76.36</td><td> 76.36</td><td>TRUE</td></tr>\n",
       "\t<tr><td>2021-07</td><td>010</td><td>Total Europa</td><td>28176</td><td>Villanueva de la Cañada</td><td>1375</td><td>176</td><td> 99.65</td><td> 99.65</td><td>TRUE</td></tr>\n",
       "\t<tr><td>2021-07</td><td>010</td><td>Total Europa</td><td>28132</td><td>San Martín de la Vega  </td><td> 465</td><td>132</td><td> 99.65</td><td> 99.65</td><td>TRUE</td></tr>\n",
       "\t<tr><td>2022-01</td><td>000</td><td>Total       </td><td>28141</td><td>Sevilla la Nueva       </td><td>  54</td><td>141</td><td>107.82</td><td>107.82</td><td>TRUE</td></tr>\n",
       "\t<tr><td>2019-08</td><td>128</td><td>Rumania     </td><td>28130</td><td>San Fernando de Henares</td><td> 135</td><td>130</td><td>109.21</td><td>109.21</td><td>TRUE</td></tr>\n",
       "</tbody>\n",
       "</table>\n"
      ],
      "text/latex": [
       "A spec\\_tbl\\_df: 5 × 10\n",
       "\\begin{tabular}{llllllllll}\n",
       " mes & pais\\_orig\\_cod & pais\\_orig & mun\\_dest\\_cod & mun\\_dest & turistas & CMUN & gasto & Target & is\\_train\\\\\n",
       " <chr> & <chr> & <chr> & <dbl> & <chr> & <dbl> & <chr> & <dbl> & <dbl> & <lgl>\\\\\n",
       "\\hline\n",
       "\t 2019-08 & 110 & Francia      & 28161 & Valdemoro               &  466 & 161 &  76.36 &  76.36 & TRUE\\\\\n",
       "\t 2021-07 & 010 & Total Europa & 28176 & Villanueva de la Cañada & 1375 & 176 &  99.65 &  99.65 & TRUE\\\\\n",
       "\t 2021-07 & 010 & Total Europa & 28132 & San Martín de la Vega   &  465 & 132 &  99.65 &  99.65 & TRUE\\\\\n",
       "\t 2022-01 & 000 & Total        & 28141 & Sevilla la Nueva        &   54 & 141 & 107.82 & 107.82 & TRUE\\\\\n",
       "\t 2019-08 & 128 & Rumania      & 28130 & San Fernando de Henares &  135 & 130 & 109.21 & 109.21 & TRUE\\\\\n",
       "\\end{tabular}\n"
      ],
      "text/markdown": [
       "\n",
       "A spec_tbl_df: 5 × 10\n",
       "\n",
       "| mes &lt;chr&gt; | pais_orig_cod &lt;chr&gt; | pais_orig &lt;chr&gt; | mun_dest_cod &lt;dbl&gt; | mun_dest &lt;chr&gt; | turistas &lt;dbl&gt; | CMUN &lt;chr&gt; | gasto &lt;dbl&gt; | Target &lt;dbl&gt; | is_train &lt;lgl&gt; |\n",
       "|---|---|---|---|---|---|---|---|---|---|\n",
       "| 2019-08 | 110 | Francia      | 28161 | Valdemoro               |  466 | 161 |  76.36 |  76.36 | TRUE |\n",
       "| 2021-07 | 010 | Total Europa | 28176 | Villanueva de la Cañada | 1375 | 176 |  99.65 |  99.65 | TRUE |\n",
       "| 2021-07 | 010 | Total Europa | 28132 | San Martín de la Vega   |  465 | 132 |  99.65 |  99.65 | TRUE |\n",
       "| 2022-01 | 000 | Total        | 28141 | Sevilla la Nueva        |   54 | 141 | 107.82 | 107.82 | TRUE |\n",
       "| 2019-08 | 128 | Rumania      | 28130 | San Fernando de Henares |  135 | 130 | 109.21 | 109.21 | TRUE |\n",
       "\n"
      ],
      "text/plain": [
       "  mes     pais_orig_cod pais_orig    mun_dest_cod mun_dest               \n",
       "1 2019-08 110           Francia      28161        Valdemoro              \n",
       "2 2021-07 010           Total Europa 28176        Villanueva de la Cañada\n",
       "3 2021-07 010           Total Europa 28132        San Martín de la Vega  \n",
       "4 2022-01 000           Total        28141        Sevilla la Nueva       \n",
       "5 2019-08 128           Rumania      28130        San Fernando de Henares\n",
       "  turistas CMUN gasto  Target is_train\n",
       "1  466     161   76.36  76.36 TRUE    \n",
       "2 1375     176   99.65  99.65 TRUE    \n",
       "3  465     132   99.65  99.65 TRUE    \n",
       "4   54     141  107.82 107.82 TRUE    \n",
       "5  135     130  109.21 109.21 TRUE    "
      ]
     },
     "metadata": {},
     "output_type": "display_data"
    }
   ],
   "source": [
    "data |> slice_head(n = 5)"
   ]
  },
  {
   "cell_type": "markdown",
   "metadata": {
    "slideshow": {
     "slide_type": "slide"
    }
   },
   "source": [
    "## Selecting Categorical Input / Categorical Output"
   ]
  },
  {
   "cell_type": "markdown",
   "metadata": {},
   "source": [
    "No aplica ya que el Target no es categórico."
   ]
  },
  {
   "cell_type": "markdown",
   "metadata": {
    "slideshow": {
     "slide_type": "slide"
    }
   },
   "source": [
    "### Encoding Categorical Features"
   ]
  },
  {
   "cell_type": "markdown",
   "metadata": {
    "slideshow": {
     "slide_type": "slide"
    }
   },
   "source": [
    "### Chi-Squared Feature Selection"
   ]
  },
  {
   "cell_type": "markdown",
   "metadata": {
    "slideshow": {
     "slide_type": "slide"
    }
   },
   "source": [
    "### Mutual Information Feature Selection"
   ]
  },
  {
   "cell_type": "markdown",
   "metadata": {
    "slideshow": {
     "slide_type": "slide"
    }
   },
   "source": [
    "### Evaluating a Logistic Regression model"
   ]
  },
  {
   "cell_type": "markdown",
   "metadata": {},
   "source": [
    "<font color='tomato'>Select numer of Features to use</font>"
   ]
  },
  {
   "cell_type": "code",
   "execution_count": 9,
   "metadata": {
    "ExecuteTime": {
     "end_time": "2021-01-06T10:31:14.165744Z",
     "start_time": "2021-01-06T10:31:14.150155Z"
    },
    "vscode": {
     "languageId": "r"
    }
   },
   "outputs": [],
   "source": [
    "# Select numer of Features to use\n"
   ]
  },
  {
   "cell_type": "markdown",
   "metadata": {},
   "source": [
    "<font color='darkgrey'><b>Operation</font>"
   ]
  },
  {
   "cell_type": "markdown",
   "metadata": {
    "slideshow": {
     "slide_type": "slide"
    }
   },
   "source": [
    "## Selecting Numerical Input / Categorical Output"
   ]
  },
  {
   "cell_type": "markdown",
   "metadata": {},
   "source": [
    "No aplica ya que el Target no es categórico."
   ]
  },
  {
   "cell_type": "markdown",
   "metadata": {
    "slideshow": {
     "slide_type": "slide"
    }
   },
   "source": [
    "### ANOVA F-test Feature Selection"
   ]
  },
  {
   "cell_type": "markdown",
   "metadata": {
    "slideshow": {
     "slide_type": "slide"
    }
   },
   "source": [
    "### Mutual Information Feature Selection"
   ]
  },
  {
   "cell_type": "markdown",
   "metadata": {
    "slideshow": {
     "slide_type": "slide"
    }
   },
   "source": [
    "### Evaluating a Logistic Regression model"
   ]
  },
  {
   "cell_type": "markdown",
   "metadata": {},
   "source": [
    "<font color='tomato'>Selecting feature to use</font>"
   ]
  },
  {
   "cell_type": "code",
   "execution_count": 10,
   "metadata": {
    "ExecuteTime": {
     "end_time": "2021-01-06T11:10:23.895871Z",
     "start_time": "2021-01-06T11:10:23.880235Z"
    },
    "vscode": {
     "languageId": "r"
    }
   },
   "outputs": [],
   "source": [
    "# Select numer of Features to use\n"
   ]
  },
  {
   "cell_type": "markdown",
   "metadata": {},
   "source": [
    "<font color='darkgrey'><b>Operation</font>"
   ]
  },
  {
   "cell_type": "markdown",
   "metadata": {
    "slideshow": {
     "slide_type": "slide"
    }
   },
   "source": [
    "### Tuning the Number of Selected Features"
   ]
  },
  {
   "cell_type": "code",
   "execution_count": null,
   "metadata": {
    "vscode": {
     "languageId": "r"
    }
   },
   "outputs": [],
   "source": []
  },
  {
   "cell_type": "markdown",
   "metadata": {
    "slideshow": {
     "slide_type": "slide"
    }
   },
   "source": [
    "#### Know the best number of features to select"
   ]
  },
  {
   "cell_type": "code",
   "execution_count": null,
   "metadata": {
    "vscode": {
     "languageId": "r"
    }
   },
   "outputs": [],
   "source": []
  },
  {
   "cell_type": "markdown",
   "metadata": {
    "slideshow": {
     "slide_type": "slide"
    }
   },
   "source": [
    "#### See the relationship between the number of selected features and accuracy"
   ]
  },
  {
   "cell_type": "code",
   "execution_count": null,
   "metadata": {
    "vscode": {
     "languageId": "r"
    }
   },
   "outputs": [],
   "source": []
  },
  {
   "cell_type": "markdown",
   "metadata": {
    "slideshow": {
     "slide_type": "slide"
    }
   },
   "source": [
    "## Selecting Numerical Input / Numerical Output"
   ]
  },
  {
   "cell_type": "code",
   "execution_count": 11,
   "metadata": {
    "vscode": {
     "languageId": "r"
    }
   },
   "outputs": [],
   "source": [
    "data <- select(data, -gasto)"
   ]
  },
  {
   "cell_type": "markdown",
   "metadata": {
    "slideshow": {
     "slide_type": "slide"
    }
   },
   "source": [
    "### Correlation with the outcome Feature Selection"
   ]
  },
  {
   "cell_type": "code",
   "execution_count": 12,
   "metadata": {
    "vscode": {
     "languageId": "r"
    }
   },
   "outputs": [
    {
     "name": "stdout",
     "output_type": "stream",
     "text": [
      "                  Feature  Correlation\n",
      "mun_dest_cod mun_dest_cod -0.015100812\n",
      "turistas         turistas -0.002260766\n"
     ]
    }
   ],
   "source": [
    "# Calculate the correlation between each feature and the outcome variable\n",
    "correlations <- sapply(select_if(data, is.numeric)[, -which(names(select_if(data, is.numeric)) %in% \"Target\")], function(x) cor(x, data$Target))\n",
    "\n",
    "# Create a dataframe from the correlations\n",
    "correlation_df <- data.frame(Feature = names(correlations), Correlation = correlations)\n",
    "\n",
    "# Sort the dataframe by the absolute values of the correlations in descending order\n",
    "correlation_df <- correlation_df[order(-abs(correlation_df$Correlation)), ]\n",
    "\n",
    "# Print the correlation dataframe\n",
    "print(correlation_df)"
   ]
  },
  {
   "cell_type": "markdown",
   "metadata": {
    "slideshow": {
     "slide_type": "slide"
    }
   },
   "source": [
    "### Mutual Information Feature Selection"
   ]
  },
  {
   "cell_type": "code",
   "execution_count": 13,
   "metadata": {
    "vscode": {
     "languageId": "r"
    }
   },
   "outputs": [
    {
     "name": "stderr",
     "output_type": "stream",
     "text": [
      "Loading required package: FSelectorRcpp\n",
      "\n",
      "Warning message in library(package, lib.loc = lib.loc, character.only = TRUE, logical.return = TRUE, :\n",
      "\"there is no package called 'FSelectorRcpp'\"\n",
      "Installing package into 'C:/Users/Vicente/AppData/Local/R/win-library/4.3'\n",
      "(as 'lib' is unspecified)\n",
      "\n",
      "also installing the dependencies 'BH', 'RcppArmadillo'\n",
      "\n",
      "\n"
     ]
    },
    {
     "name": "stdout",
     "output_type": "stream",
     "text": [
      "package 'BH' successfully unpacked and MD5 sums checked\n",
      "package 'RcppArmadillo' successfully unpacked and MD5 sums checked\n",
      "package 'FSelectorRcpp' successfully unpacked and MD5 sums checked\n",
      "\n",
      "The downloaded binary packages are in\n",
      "\tC:\\Users\\Vicente\\AppData\\Local\\Temp\\RtmpwBEWVa\\downloaded_packages\n"
     ]
    },
    {
     "name": "stderr",
     "output_type": "stream",
     "text": [
      "Warning message in .information_gain.data.frame(formula, data, type = type, equal = equal, :\n",
      "\"Dependent variable is a numeric! It will be converted to factor with simple factor(y). We do not discretize dependent variable in FSelectorRcpp by default! You can choose equal frequency binning discretization by setting equal argument to TRUE.\"\n"
     ]
    },
    {
     "data": {
      "image/png": "[encoded data removed]",
      "text/plain": [
       "plot without title"
      ]
     },
     "metadata": {
      "image/png": {
       "height": 420,
       "width": 420
      }
     },
     "output_type": "display_data"
    }
   ],
   "source": [
    "\n",
    "# install the necessary packages if not already installed\n",
    "if (!require(FSelectorRcpp)) {\n",
    "  install.packages('FSelectorRcpp')\n",
    "}\n",
    "\n",
    "# Load necessary library\n",
    "library(FSelectorRcpp)\n",
    "\n",
    "# Calculate mutual information between each variable and the target\n",
    "mi_scores <- information_gain(data[, setdiff(names(data), \"Target\")], data$Target)\n",
    "\n",
    "# Convert the top_features object into a dataframe\n",
    "mi_scores_df <- as.data.frame(mi_scores)\n",
    "\n",
    "# Rename the columns\n",
    "names(mi_scores_df) <- c(\"Feature\", \"Score\")\n",
    "\n",
    "# Order the dataframe by Score in descending order\n",
    "mi_scores_df <- mi_scores_df[order(-mi_scores_df$Score),]\n",
    "\n",
    "# Create a bar plot\n",
    "ggplot(mi_scores_df, aes(x = reorder(Feature, Score), y = Score)) +\n",
    "  geom_bar(stat = \"identity\", fill = \"steelblue\") +\n",
    "  coord_flip() +\n",
    "  xlab(\"Features\") +\n",
    "  ylab(\"Mutual Information Score\") +\n",
    "  ggtitle(\"Top Features by Mutual Information\") +\n",
    "  theme_minimal()\n",
    "     "
   ]
  },
  {
   "cell_type": "markdown",
   "metadata": {
    "slideshow": {
     "slide_type": "slide"
    }
   },
   "source": [
    "### Evaluating a Lineal Regression model"
   ]
  },
  {
   "cell_type": "code",
   "execution_count": null,
   "metadata": {
    "vscode": {
     "languageId": "r"
    }
   },
   "outputs": [],
   "source": []
  },
  {
   "cell_type": "markdown",
   "metadata": {},
   "source": [
    "<font color='tomato'>Selecting feature to use</font>"
   ]
  },
  {
   "cell_type": "code",
   "execution_count": 16,
   "metadata": {
    "ExecuteTime": {
     "end_time": "2021-01-06T11:10:23.895871Z",
     "start_time": "2021-01-06T11:10:23.880235Z"
    },
    "vscode": {
     "languageId": "r"
    }
   },
   "outputs": [],
   "source": [
    "\n",
    "# Select numer of Features to use\n",
    "k <- 6\n",
    "     "
   ]
  },
  {
   "cell_type": "markdown",
   "metadata": {},
   "source": [
    "<font color='darkgrey'><b>Operation</font>"
   ]
  },
  {
   "cell_type": "code",
   "execution_count": 17,
   "metadata": {
    "vscode": {
     "languageId": "r"
    }
   },
   "outputs": [
    {
     "data": {
      "text/html": [
       "<style>\n",
       ".dl-inline {width: auto; margin:0; padding: 0}\n",
       ".dl-inline>dt, .dl-inline>dd {float: none; width: auto; display: inline-block}\n",
       ".dl-inline>dt::after {content: \":\\0020\"; padding-right: .5ex}\n",
       ".dl-inline>dt:not(:first-of-type) {padding-left: .5ex}\n",
       "</style><dl class=dl-inline><dt>RMSE</dt><dd>28.8994066996986</dd><dt>Rsquared</dt><dd>0.000183249660655082</dd><dt>MAE</dt><dd>16.9653248879882</dd></dl>\n"
      ],
      "text/latex": [
       "\\begin{description*}\n",
       "\\item[RMSE] 28.8994066996986\n",
       "\\item[Rsquared] 0.000183249660655082\n",
       "\\item[MAE] 16.9653248879882\n",
       "\\end{description*}\n"
      ],
      "text/markdown": [
       "RMSE\n",
       ":   28.8994066996986Rsquared\n",
       ":   0.000183249660655082MAE\n",
       ":   16.9653248879882\n",
       "\n"
      ],
      "text/plain": [
       "        RMSE     Rsquared          MAE \n",
       "2.889941e+01 1.832497e-04 1.696532e+01 "
      ]
     },
     "metadata": {},
     "output_type": "display_data"
    }
   ],
   "source": [
    "train_set <- subset(data[data$is_train == TRUE, ], select = -is_train)\n",
    "train_set <- select_if(train_set, is.numeric)\n",
    "test_set <- subset(data[data$is_train == FALSE, ], select = -is_train)\n",
    "test_set <- select_if(test_set, is.numeric)\n",
    "# Fit a linear regression model\n",
    "model_all_features <- lm(Target ~ ., data = train_set)\n",
    "\n",
    "# Predict on the test set\n",
    "predictions <- predict(model_all_features, newdata = test_set)\n",
    "\n",
    "# Evaluate the model\n",
    "postResample(pred = predictions, obs = test_set$Target)\n",
    "     "
   ]
  },
  {
   "cell_type": "markdown",
   "metadata": {
    "slideshow": {
     "slide_type": "slide"
    }
   },
   "source": [
    "## Any data: RFE (Recursive Feature Elimination)"
   ]
  },
  {
   "cell_type": "markdown",
   "metadata": {
    "slideshow": {
     "slide_type": "slide"
    }
   },
   "source": [
    "### RFE for Classification"
   ]
  },
  {
   "cell_type": "markdown",
   "metadata": {},
   "source": [
    "No aplica ya que el Target no es categórico."
   ]
  },
  {
   "cell_type": "markdown",
   "metadata": {},
   "source": [
    "<font color='tomato'>Selecting feature to use</font>"
   ]
  },
  {
   "cell_type": "code",
   "execution_count": 18,
   "metadata": {
    "ExecuteTime": {
     "end_time": "2021-01-07T16:55:23.289784Z",
     "start_time": "2021-01-07T16:55:23.279636Z"
    },
    "vscode": {
     "languageId": "r"
    }
   },
   "outputs": [],
   "source": [
    "# Select numer of Features to use\n"
   ]
  },
  {
   "cell_type": "markdown",
   "metadata": {},
   "source": [
    "<font color='darkgrey'><b>Operation</font>"
   ]
  },
  {
   "cell_type": "code",
   "execution_count": null,
   "metadata": {
    "vscode": {
     "languageId": "r"
    }
   },
   "outputs": [],
   "source": []
  },
  {
   "cell_type": "markdown",
   "metadata": {
    "slideshow": {
     "slide_type": "slide"
    }
   },
   "source": [
    "### RFE for Regression"
   ]
  },
  {
   "cell_type": "markdown",
   "metadata": {},
   "source": [
    "<font color='tomato'>Selecting feature to use</font>"
   ]
  },
  {
   "cell_type": "code",
   "execution_count": 23,
   "metadata": {
    "ExecuteTime": {
     "end_time": "2021-01-07T18:05:21.445531Z",
     "start_time": "2021-01-07T18:05:21.415710Z"
    },
    "vscode": {
     "languageId": "r"
    }
   },
   "outputs": [],
   "source": [
    "\n",
    "# Select numer of Features to use\n",
    "k <- 7"
   ]
  },
  {
   "cell_type": "markdown",
   "metadata": {},
   "source": [
    "<font color='darkgrey'><b>Operation</font>"
   ]
  },
  {
   "cell_type": "code",
   "execution_count": 24,
   "metadata": {
    "ExecuteTime": {
     "end_time": "2021-01-07T18:05:26.686146Z",
     "start_time": "2021-01-07T18:05:22.745684Z"
    },
    "vscode": {
     "languageId": "r"
    }
   },
   "outputs": [
    {
     "name": "stdout",
     "output_type": "stream",
     "text": [
      "\n",
      "Recursive feature selection\n",
      "\n",
      "Outer resampling method: Cross-Validated (10 fold) \n",
      "\n",
      "Resampling performance over subset size:\n",
      "\n",
      " Variables  RMSE  Rsquared   MAE RMSESD RsquaredSD  MAESD Selected\n",
      "         1 29.69 0.0003503 17.35  1.175  0.0003394 0.2545         \n",
      "         2 29.69 0.0003571 17.35  1.175  0.0003540 0.2547        *\n",
      "\n",
      "The top 2 variables (out of 2):\n",
      "   mun_dest_cod, turistas\n",
      "\n"
     ]
    }
   ],
   "source": [
    "\n",
    "# Define control parameters for rfe function\n",
    "ctrl <- rfeControl(functions=lmFuncs, method=\"cv\", number=10)\n",
    "\n",
    "# Determine number of predictors\n",
    "predictors_number <- ncol(train_set) - 1 # Assuming the last column is the target variable\n",
    "\n",
    "# Apply the RFE algorithm with cross validation.\n",
    "result <- rfe(train_set[, !names(train_set) %in% \"Target\"], train_set$Target, sizes=c(1:predictors_number), rfeControl=ctrl)\n",
    "\n",
    "# Print the result\n",
    "print(result)\n",
    "\n",
    "# Top ranking variables in the optimal subset size\n",
    "top_features <- predictors(result, result$optsize)"
   ]
  },
  {
   "cell_type": "code",
   "execution_count": null,
   "metadata": {
    "vscode": {
     "languageId": "r"
    }
   },
   "outputs": [],
   "source": []
  }
 ],
 "metadata": {
  "anaconda-cloud": {},
  "celltoolbar": "Slideshow",
  "hide_input": false,
  "kernelspec": {
   "display_name": "R",
   "language": "R",
   "name": "ir"
  },
  "language_info": {
   "codemirror_mode": "r",
   "file_extension": ".r",
   "mimetype": "text/x-r-source",
   "name": "R",
   "pygments_lexer": "r",
   "version": "4.3.0"
  },
  "latex_envs": {
   "LaTeX_envs_menu_present": true,
   "autoclose": false,
   "autocomplete": true,
   "bibliofile": "biblio.bib",
   "cite_by": "apalike",
   "current_citInitial": 1,
   "eqLabelWithNumbers": true,
   "eqNumInitial": 1,
   "hotkeys": {
    "equation": "Ctrl-E",
    "itemize": "Ctrl-I"
   },
   "labels_anchors": false,
   "latex_user_defs": false,
   "report_style_numbering": true,
   "user_envs_cfg": false
  },
  "toc": {
   "base_numbering": 1,
   "nav_menu": {},
   "number_sections": true,
   "sideBar": true,
   "skip_h1_title": true,
   "title_cell": "Table of Contents",
   "title_sidebar": "Contents",
   "toc_cell": false,
   "toc_position": {
    "height": "calc(100% - 180px)",
    "left": "10px",
    "top": "150px",
    "width": "420.633px"
   },
   "toc_section_display": true,
   "toc_window_display": true
  },
  "varInspector": {
   "cols": {
    "lenName": 16,
    "lenType": 16,
    "lenVar": 40
   },
   "kernels_config": {
    "python": {
     "delete_cmd_postfix": "",
     "delete_cmd_prefix": "del ",
     "library": "var_list.py",
     "varRefreshCmd": "print(var_dic_list())"
    },
    "r": {
     "delete_cmd_postfix": ") ",
     "delete_cmd_prefix": "rm(",
     "library": "var_list.r",
     "varRefreshCmd": "cat(var_dic_list()) "
    }
   },
   "types_to_exclude": [
    "module",
    "function",
    "builtin_function_or_method",
    "instance",
    "_Feature"
   ],
   "window_display": false
  }
 },
 "nbformat": 4,
 "nbformat_minor": 4
}
