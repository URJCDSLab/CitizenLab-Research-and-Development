{
 "cells": [
  {
   "cell_type": "markdown",
   "metadata": {
    "slideshow": {
     "slide_type": "slide"
    }
   },
   "source": [
    "<img src=\".\\images\\Logo.png\" width=150 align=\"left\" /> <img src=\".\\images\\Logo2.jpg\" width=450 align=\"right\" />"
   ]
  },
  {
   "cell_type": "markdown",
   "metadata": {
    "slideshow": {
     "slide_type": "slide"
    }
   },
   "source": [
    "\n",
    "# <center><font color= #1e8449 > <b>CU55_Modelo agregado de estimación del gasto medio por turista</font></center>"
   ]
  },
  {
   "cell_type": "markdown",
   "metadata": {
    "slideshow": {
     "slide_type": "slide"
    }
   },
   "source": [
    "<font color='steelblue'><b>Citizenlab Data Science Methodology > II - Data Processing Domain </font>\n",
    "***\n",
    "> # <font color='steelblue'> <b>07.- Data Sampling</font>"
   ]
  },
  {
   "cell_type": "markdown",
   "metadata": {
    "slideshow": {
     "slide_type": "slide"
    }
   },
   "source": [
    "<font color='steelblue'>Data Sampling is the process to obtain a subset with the appropriate size of data (examples/rows and features/columns) for analysis, maintaining the same statistical significance as raw dataset.</font>"
   ]
  },
  {
   "cell_type": "markdown",
   "metadata": {
    "slideshow": {
     "slide_type": "slide"
    }
   },
   "source": [
    "## <font color='steelblue'>Tasks</font>"
   ]
  },
  {
   "cell_type": "markdown",
   "metadata": {
    "slideshow": {
     "slide_type": "slide"
    }
   },
   "source": [
    "<font color='steelblue'><b>Sampling dataset</b>\n",
    "- Random Sampling Without Replacement\n",
    "- Random Sampling With Replacement\n",
    "- Systematic Sampling\n",
    "- Cluster Sampling\n",
    "\n",
    "<font color='steelblue'><b>Evaluate Subsets</b>\t\n",
    "- Evaluating by Mean\n",
    "- By fit\n",
    "\n",
    "    \n"
   ]
  },
  {
   "cell_type": "markdown",
   "metadata": {},
   "source": [
    "## Consideraciones casos CitizenLab programados en R\n",
    "\n",
    "* Puede que algunas de las tareas de este proceso se realicen en los notebooks de los procesos de deploy al estar relacionadas con otras de esos procesos. En esos casos, en este notebook se referencia al notebook del proceso correspondiente\n",
    "* Puede que el proceso no aplique a los ficheros del caso de uso, y se indique \"No aplica\" de forma generalizada.\n",
    "* Si en el nombre de archivo del notebook no aparece ningún sufijo, el notebook se refiere al caso globalmente"
   ]
  },
  {
   "cell_type": "markdown",
   "metadata": {
    "slideshow": {
     "slide_type": "slide"
    }
   },
   "source": [
    "## <font color='green'>File</font>"
   ]
  },
  {
   "cell_type": "markdown",
   "metadata": {
    "slideshow": {
     "slide_type": "slide"
    }
   },
   "source": [
    "- <font color='steelblue'> <b>Input File: CU_55_06_03_gasto_municipio.csv</font>\n",
    "- <font color='steelblue'> <b>Output File: CU_55_07_03_gasto_municipio.csv</font>"
   ]
  },
  {
   "cell_type": "markdown",
   "metadata": {
    "slideshow": {
     "slide_type": "slide"
    }
   },
   "source": [
    "## <font color='green'>Settings</font>"
   ]
  },
  {
   "cell_type": "markdown",
   "metadata": {},
   "source": [
    "### Encoding\n",
    "\n",
    "Con la siguiente expresión se evitan problemas con el encoding al ejecutar el notebook. Es posible que deba ser eliminada o adaptada a la máquina en la que se ejecute el código."
   ]
  },
  {
   "cell_type": "code",
   "execution_count": 41,
   "metadata": {
    "vscode": {
     "languageId": "r"
    }
   },
   "outputs": [
    {
     "data": {
      "text/html": [
       "'LC_COLLATE=es_ES.UTF-8;LC_CTYPE=es_ES.UTF-8;LC_MONETARY=es_ES.UTF-8;LC_NUMERIC=C;LC_TIME=es_ES.UTF-8'"
      ],
      "text/latex": [
       "'LC\\_COLLATE=es\\_ES.UTF-8;LC\\_CTYPE=es\\_ES.UTF-8;LC\\_MONETARY=es\\_ES.UTF-8;LC\\_NUMERIC=C;LC\\_TIME=es\\_ES.UTF-8'"
      ],
      "text/markdown": [
       "'LC_COLLATE=es_ES.UTF-8;LC_CTYPE=es_ES.UTF-8;LC_MONETARY=es_ES.UTF-8;LC_NUMERIC=C;LC_TIME=es_ES.UTF-8'"
      ],
      "text/plain": [
       "[1] \"LC_COLLATE=es_ES.UTF-8;LC_CTYPE=es_ES.UTF-8;LC_MONETARY=es_ES.UTF-8;LC_NUMERIC=C;LC_TIME=es_ES.UTF-8\""
      ]
     },
     "metadata": {},
     "output_type": "display_data"
    }
   ],
   "source": [
    "Sys.setlocale(category = \"LC_ALL\", locale = \"es_ES.UTF-8\")"
   ]
  },
  {
   "cell_type": "markdown",
   "metadata": {},
   "source": [
    "### Libraries to use"
   ]
  },
  {
   "cell_type": "code",
   "execution_count": 42,
   "metadata": {
    "vscode": {
     "languageId": "r"
    }
   },
   "outputs": [],
   "source": [
    "library(readr)\n",
    "library(dplyr)\n",
    "library(sf)\n",
    "library(tidyr)\n",
    "library(stringr)"
   ]
  },
  {
   "cell_type": "markdown",
   "metadata": {},
   "source": [
    "### Paths"
   ]
  },
  {
   "cell_type": "code",
   "execution_count": 43,
   "metadata": {
    "vscode": {
     "languageId": "r"
    }
   },
   "outputs": [],
   "source": [
    "iPath <- \"Data/Input/\"\n",
    "oPath <- \"Data/Output/\""
   ]
  },
  {
   "cell_type": "markdown",
   "metadata": {},
   "source": [
    "## <font color='green'>Data Load</font>"
   ]
  },
  {
   "cell_type": "markdown",
   "metadata": {},
   "source": [
    "<font color='tomato'><b> OPCION A:</b> Seleccionar fichero en ventana para mayor comodidad</font> "
   ]
  },
  {
   "cell_type": "markdown",
   "metadata": {},
   "source": [
    "Data load using the {tcltk} package. Ucomment the line if using this option"
   ]
  },
  {
   "cell_type": "code",
   "execution_count": 44,
   "metadata": {
    "vscode": {
     "languageId": "r"
    }
   },
   "outputs": [],
   "source": [
    "# file_data <- tcltk::tk_choose.files(multi = FALSE)"
   ]
  },
  {
   "cell_type": "markdown",
   "metadata": {},
   "source": [
    "<font color='tomato'><b> OPCION B:</b> Especificar el nombre de archivo</font>\n",
    "\n"
   ]
  },
  {
   "cell_type": "code",
   "execution_count": 46,
   "metadata": {
    "vscode": {
     "languageId": "r"
    }
   },
   "outputs": [
    {
     "name": "stdout",
     "output_type": "stream",
     "text": [
      "Se leerán datos del archivo:  Data/Input/CU_55_06_03_gasto_municipio.csv"
     ]
    }
   ],
   "source": [
    "iFile <- \"CU_55_06_03_gasto_municipio.csv\"\n",
    "file_data <- paste0(iPath, iFile)\n",
    "\n",
    "if(file.exists(file_data)){\n",
    "    cat(\"Se leerán datos del archivo: \", file_data)\n",
    "} else{\n",
    "    warning(\"Cuidado: el archivo no existe.\")\n",
    "}\n"
   ]
  },
  {
   "cell_type": "markdown",
   "metadata": {},
   "source": [
    "#### Data file to dataframe\n",
    "\n",
    "Usar la función adecuada según el formato de entrada (xlsx, csv, json, ...)"
   ]
  },
  {
   "cell_type": "code",
   "execution_count": 47,
   "metadata": {
    "vscode": {
     "languageId": "r"
    }
   },
   "outputs": [
    {
     "name": "stderr",
     "output_type": "stream",
     "text": [
      "\u001b[1mRows: \u001b[22m\u001b[34m50294\u001b[39m \u001b[1mColumns: \u001b[22m\u001b[34m9\u001b[39m\n",
      "\u001b[36m──\u001b[39m \u001b[1mColumn specification\u001b[22m \u001b[36m──────────────────────────────────────────────────────────────────────────────────────────────────────────────────────────\u001b[39m\n",
      "\u001b[1mDelimiter:\u001b[22m \",\"\n",
      "\u001b[31mchr\u001b[39m (5): mes, pais_orig_cod, pais_orig, mun_dest, CMUN\n",
      "\u001b[32mdbl\u001b[39m (4): mun_dest_cod, turistas, gasto, Target\n",
      "\n",
      "\u001b[36mℹ\u001b[39m Use `spec()` to retrieve the full column specification for this data.\n",
      "\u001b[36mℹ\u001b[39m Specify the column types or set `show_col_types = FALSE` to quiet this message.\n"
     ]
    }
   ],
   "source": [
    "data <- read_csv(file_data)\n"
   ]
  },
  {
   "cell_type": "markdown",
   "metadata": {},
   "source": [
    "<font color='tomato'>Visualizo los datos.</font>"
   ]
  },
  {
   "cell_type": "markdown",
   "metadata": {},
   "source": [
    "Estructura de  los datos:"
   ]
  },
  {
   "cell_type": "code",
   "execution_count": 48,
   "metadata": {
    "vscode": {
     "languageId": "r"
    }
   },
   "outputs": [
    {
     "name": "stdout",
     "output_type": "stream",
     "text": [
      "Rows: 50,294\n",
      "Columns: 9\n",
      "$ mes           \u001b[3m\u001b[90m<chr>\u001b[39m\u001b[23m \"2019-07\", \"2019-07\", \"2019-07\", \"2019-07\", \"2019-07\", \"…\n",
      "$ pais_orig_cod \u001b[3m\u001b[90m<chr>\u001b[39m\u001b[23m \"000\", \"010\", \"011\", \"030\", \"110\", \"121\", \"123\", \"126\", …\n",
      "$ pais_orig     \u001b[3m\u001b[90m<chr>\u001b[39m\u001b[23m \"Total\", \"Total Europa\", \"Total Unión Europea\", \"Total A…\n",
      "$ mun_dest_cod  \u001b[3m\u001b[90m<dbl>\u001b[39m\u001b[23m 28002, 28002, 28002, 28002, 28002, 28002, 28002, 28002, …\n",
      "$ mun_dest      \u001b[3m\u001b[90m<chr>\u001b[39m\u001b[23m \"Ajalvir\", \"Ajalvir\", \"Ajalvir\", \"Ajalvir\", \"Ajalvir\", \"…\n",
      "$ turistas      \u001b[3m\u001b[90m<dbl>\u001b[39m\u001b[23m 338, 290, 268, 37, 56, 54, 37, 40, 157, 116, 109, 8461, …\n",
      "$ CMUN          \u001b[3m\u001b[90m<chr>\u001b[39m\u001b[23m \"002\", \"002\", \"002\", \"002\", \"002\", \"002\", \"002\", \"002\", …\n",
      "$ gasto         \u001b[3m\u001b[90m<dbl>\u001b[39m\u001b[23m 86.78, 86.78, 86.78, 86.78, 76.36, 78.92, 93.65, 102.04,…\n",
      "$ Target        \u001b[3m\u001b[90m<dbl>\u001b[39m\u001b[23m 86.78, 86.78, 86.78, 86.78, 76.36, 78.92, 93.65, 102.04,…\n"
     ]
    }
   ],
   "source": [
    "data |> glimpse()"
   ]
  },
  {
   "cell_type": "markdown",
   "metadata": {},
   "source": [
    "Muestra de los primeros datos:"
   ]
  },
  {
   "cell_type": "code",
   "execution_count": 49,
   "metadata": {
    "vscode": {
     "languageId": "r"
    }
   },
   "outputs": [
    {
     "data": {
      "text/html": [
       "<table class=\"dataframe\">\n",
       "<caption>A spec_tbl_df: 5 × 9</caption>\n",
       "<thead>\n",
       "\t<tr><th scope=col>mes</th><th scope=col>pais_orig_cod</th><th scope=col>pais_orig</th><th scope=col>mun_dest_cod</th><th scope=col>mun_dest</th><th scope=col>turistas</th><th scope=col>CMUN</th><th scope=col>gasto</th><th scope=col>Target</th></tr>\n",
       "\t<tr><th scope=col>&lt;chr&gt;</th><th scope=col>&lt;chr&gt;</th><th scope=col>&lt;chr&gt;</th><th scope=col>&lt;dbl&gt;</th><th scope=col>&lt;chr&gt;</th><th scope=col>&lt;dbl&gt;</th><th scope=col>&lt;chr&gt;</th><th scope=col>&lt;dbl&gt;</th><th scope=col>&lt;dbl&gt;</th></tr>\n",
       "</thead>\n",
       "<tbody>\n",
       "\t<tr><td>2019-07</td><td>000</td><td>Total              </td><td>28002</td><td>Ajalvir</td><td>338</td><td>002</td><td>86.78</td><td>86.78</td></tr>\n",
       "\t<tr><td>2019-07</td><td>010</td><td>Total Europa       </td><td>28002</td><td>Ajalvir</td><td>290</td><td>002</td><td>86.78</td><td>86.78</td></tr>\n",
       "\t<tr><td>2019-07</td><td>011</td><td>Total Unión Europea</td><td>28002</td><td>Ajalvir</td><td>268</td><td>002</td><td>86.78</td><td>86.78</td></tr>\n",
       "\t<tr><td>2019-07</td><td>030</td><td>Total América      </td><td>28002</td><td>Ajalvir</td><td> 37</td><td>002</td><td>86.78</td><td>86.78</td></tr>\n",
       "\t<tr><td>2019-07</td><td>110</td><td>Francia            </td><td>28002</td><td>Ajalvir</td><td> 56</td><td>002</td><td>76.36</td><td>76.36</td></tr>\n",
       "</tbody>\n",
       "</table>\n"
      ],
      "text/latex": [
       "A spec\\_tbl\\_df: 5 × 9\n",
       "\\begin{tabular}{lllllllll}\n",
       " mes & pais\\_orig\\_cod & pais\\_orig & mun\\_dest\\_cod & mun\\_dest & turistas & CMUN & gasto & Target\\\\\n",
       " <chr> & <chr> & <chr> & <dbl> & <chr> & <dbl> & <chr> & <dbl> & <dbl>\\\\\n",
       "\\hline\n",
       "\t 2019-07 & 000 & Total               & 28002 & Ajalvir & 338 & 002 & 86.78 & 86.78\\\\\n",
       "\t 2019-07 & 010 & Total Europa        & 28002 & Ajalvir & 290 & 002 & 86.78 & 86.78\\\\\n",
       "\t 2019-07 & 011 & Total Unión Europea & 28002 & Ajalvir & 268 & 002 & 86.78 & 86.78\\\\\n",
       "\t 2019-07 & 030 & Total América       & 28002 & Ajalvir &  37 & 002 & 86.78 & 86.78\\\\\n",
       "\t 2019-07 & 110 & Francia             & 28002 & Ajalvir &  56 & 002 & 76.36 & 76.36\\\\\n",
       "\\end{tabular}\n"
      ],
      "text/markdown": [
       "\n",
       "A spec_tbl_df: 5 × 9\n",
       "\n",
       "| mes &lt;chr&gt; | pais_orig_cod &lt;chr&gt; | pais_orig &lt;chr&gt; | mun_dest_cod &lt;dbl&gt; | mun_dest &lt;chr&gt; | turistas &lt;dbl&gt; | CMUN &lt;chr&gt; | gasto &lt;dbl&gt; | Target &lt;dbl&gt; |\n",
       "|---|---|---|---|---|---|---|---|---|\n",
       "| 2019-07 | 000 | Total               | 28002 | Ajalvir | 338 | 002 | 86.78 | 86.78 |\n",
       "| 2019-07 | 010 | Total Europa        | 28002 | Ajalvir | 290 | 002 | 86.78 | 86.78 |\n",
       "| 2019-07 | 011 | Total Unión Europea | 28002 | Ajalvir | 268 | 002 | 86.78 | 86.78 |\n",
       "| 2019-07 | 030 | Total América       | 28002 | Ajalvir |  37 | 002 | 86.78 | 86.78 |\n",
       "| 2019-07 | 110 | Francia             | 28002 | Ajalvir |  56 | 002 | 76.36 | 76.36 |\n",
       "\n"
      ],
      "text/plain": [
       "  mes     pais_orig_cod pais_orig           mun_dest_cod mun_dest turistas CMUN\n",
       "1 2019-07 000           Total               28002        Ajalvir  338      002 \n",
       "2 2019-07 010           Total Europa        28002        Ajalvir  290      002 \n",
       "3 2019-07 011           Total Unión Europea 28002        Ajalvir  268      002 \n",
       "4 2019-07 030           Total América       28002        Ajalvir   37      002 \n",
       "5 2019-07 110           Francia             28002        Ajalvir   56      002 \n",
       "  gasto Target\n",
       "1 86.78 86.78 \n",
       "2 86.78 86.78 \n",
       "3 86.78 86.78 \n",
       "4 86.78 86.78 \n",
       "5 76.36 76.36 "
      ]
     },
     "metadata": {},
     "output_type": "display_data"
    }
   ],
   "source": [
    "data |> slice_head(n = 5)"
   ]
  },
  {
   "cell_type": "markdown",
   "metadata": {
    "slideshow": {
     "slide_type": "slide"
    }
   },
   "source": [
    "## Sampling dataset"
   ]
  },
  {
   "cell_type": "markdown",
   "metadata": {
    "slideshow": {
     "slide_type": "slide"
    }
   },
   "source": [
    "### Random Sampling Without Repacement\n",
    "\n",
    "No aplica"
   ]
  },
  {
   "cell_type": "markdown",
   "metadata": {},
   "source": [
    "<font color='tomato'>Data Rate to sampling</font>"
   ]
  },
  {
   "cell_type": "code",
   "execution_count": 50,
   "metadata": {
    "ExecuteTime": {
     "end_time": "2021-01-15T17:04:23.894728Z",
     "start_time": "2021-01-15T17:04:23.879742Z"
    },
    "slideshow": {
     "slide_type": "subslide"
    },
    "vscode": {
     "languageId": "r"
    }
   },
   "outputs": [],
   "source": [
    "rate <- 0.50 "
   ]
  },
  {
   "cell_type": "markdown",
   "metadata": {},
   "source": [
    "<font color='darkgrey'><b>Operation</font>"
   ]
  },
  {
   "cell_type": "code",
   "execution_count": 51,
   "metadata": {
    "ExecuteTime": {
     "end_time": "2021-01-15T17:04:24.444666Z",
     "start_time": "2021-01-15T17:04:24.424929Z"
    },
    "vscode": {
     "languageId": "r"
    }
   },
   "outputs": [],
   "source": [
    "set.seed(1)\n",
    "sdata <- slice_sample(data, prop = rate)"
   ]
  },
  {
   "cell_type": "markdown",
   "metadata": {
    "slideshow": {
     "slide_type": "slide"
    }
   },
   "source": [
    "### Random Sampling With Replacement"
   ]
  },
  {
   "cell_type": "markdown",
   "metadata": {},
   "source": [
    "<font color='tomato'>Data Rate to sampling</font>"
   ]
  },
  {
   "cell_type": "code",
   "execution_count": 52,
   "metadata": {
    "ExecuteTime": {
     "end_time": "2021-01-15T17:04:27.344926Z",
     "start_time": "2021-01-15T17:04:27.334758Z"
    },
    "slideshow": {
     "slide_type": "subslide"
    },
    "vscode": {
     "languageId": "r"
    }
   },
   "outputs": [],
   "source": [
    "# Data Rate to sampling\n",
    "rate <- 0.50 "
   ]
  },
  {
   "cell_type": "markdown",
   "metadata": {},
   "source": [
    "<font color='darkgrey'><b>Operation</font>"
   ]
  },
  {
   "cell_type": "code",
   "execution_count": 53,
   "metadata": {
    "vscode": {
     "languageId": "r"
    }
   },
   "outputs": [],
   "source": [
    "set.seed(1)\n",
    "sdata <- slice_sample(data, prop = rate)"
   ]
  },
  {
   "cell_type": "markdown",
   "metadata": {
    "slideshow": {
     "slide_type": "slide"
    }
   },
   "source": [
    "### Systematic Sampling\n",
    "\n",
    "No aplica"
   ]
  },
  {
   "cell_type": "markdown",
   "metadata": {},
   "source": [
    "<font color='tomato'>Fixed sampling interval</font>"
   ]
  },
  {
   "cell_type": "code",
   "execution_count": 54,
   "metadata": {
    "ExecuteTime": {
     "end_time": "2021-01-15T17:04:29.844626Z",
     "start_time": "2021-01-15T17:04:29.819414Z"
    },
    "slideshow": {
     "slide_type": "subslide"
    },
    "vscode": {
     "languageId": "r"
    }
   },
   "outputs": [],
   "source": [
    "interv <- 3"
   ]
  },
  {
   "cell_type": "markdown",
   "metadata": {},
   "source": [
    "<font color='darkgrey'><b>Operation</font>"
   ]
  },
  {
   "cell_type": "code",
   "execution_count": 55,
   "metadata": {
    "vscode": {
     "languageId": "r"
    }
   },
   "outputs": [],
   "source": [
    "# Código si es neceario"
   ]
  },
  {
   "cell_type": "markdown",
   "metadata": {
    "slideshow": {
     "slide_type": "slide"
    }
   },
   "source": [
    "### Cluster Sampling\n",
    "\n",
    "No aplica"
   ]
  },
  {
   "cell_type": "markdown",
   "metadata": {},
   "source": [
    "<font color='tomato'>Number of clusters</font>"
   ]
  },
  {
   "cell_type": "code",
   "execution_count": 56,
   "metadata": {
    "ExecuteTime": {
     "end_time": "2021-01-15T17:04:33.113936Z",
     "start_time": "2021-01-15T17:04:33.094723Z"
    },
    "slideshow": {
     "slide_type": "subslide"
    },
    "vscode": {
     "languageId": "r"
    }
   },
   "outputs": [],
   "source": [
    "nc <- 2"
   ]
  },
  {
   "cell_type": "markdown",
   "metadata": {},
   "source": [
    "<font color='darkgrey'><b>Operation</font>"
   ]
  },
  {
   "cell_type": "code",
   "execution_count": 57,
   "metadata": {
    "ExecuteTime": {
     "end_time": "2021-01-15T17:04:34.154779Z",
     "start_time": "2021-01-15T17:04:34.114729Z"
    },
    "vscode": {
     "languageId": "r"
    }
   },
   "outputs": [],
   "source": [
    "# Código si es neceario\n"
   ]
  },
  {
   "cell_type": "markdown",
   "metadata": {
    "slideshow": {
     "slide_type": "slide"
    }
   },
   "source": [
    "## Evaluating Subsets Generated\n",
    "\n",
    "No aplica"
   ]
  },
  {
   "cell_type": "markdown",
   "metadata": {
    "slideshow": {
     "slide_type": "slide"
    }
   },
   "source": [
    "### Evaluating by Mean"
   ]
  },
  {
   "cell_type": "markdown",
   "metadata": {
    "slideshow": {
     "slide_type": "slide"
    }
   },
   "source": [
    "### Evaluating by Fit: Classification"
   ]
  },
  {
   "cell_type": "markdown",
   "metadata": {
    "slideshow": {
     "slide_type": "slide"
    }
   },
   "source": [
    "**Random Sampling Without Repacement**"
   ]
  },
  {
   "cell_type": "markdown",
   "metadata": {
    "slideshow": {
     "slide_type": "slide"
    }
   },
   "source": [
    "**Random Sampling With Repacement**"
   ]
  },
  {
   "cell_type": "markdown",
   "metadata": {
    "slideshow": {
     "slide_type": "slide"
    }
   },
   "source": [
    "**Systematic Sampling**"
   ]
  },
  {
   "cell_type": "markdown",
   "metadata": {
    "slideshow": {
     "slide_type": "slide"
    }
   },
   "source": [
    "### Evaluating by Fit: Regression"
   ]
  },
  {
   "cell_type": "markdown",
   "metadata": {
    "slideshow": {
     "slide_type": "slide"
    }
   },
   "source": [
    "**Random Sampling Without Repacement**"
   ]
  },
  {
   "cell_type": "markdown",
   "metadata": {
    "slideshow": {
     "slide_type": "slide"
    }
   },
   "source": [
    "**Random Sampling With Repacement**"
   ]
  },
  {
   "cell_type": "markdown",
   "metadata": {
    "slideshow": {
     "slide_type": "slide"
    }
   },
   "source": [
    "**Systematic Sampling**"
   ]
  },
  {
   "cell_type": "markdown",
   "metadata": {
    "slideshow": {
     "slide_type": "slide"
    }
   },
   "source": [
    "**Cluster Sampling**"
   ]
  },
  {
   "cell_type": "markdown",
   "metadata": {},
   "source": [
    "## <font color='green'>Data Save</font>\n",
    "\n",
    "* Solo si se han hecho cambios\n",
    "\n",
    "* No aplica"
   ]
  },
  {
   "cell_type": "markdown",
   "metadata": {},
   "source": [
    "<font color='tomato'> Identificamos los datos a guardar</font>"
   ]
  },
  {
   "cell_type": "code",
   "execution_count": 58,
   "metadata": {
    "vscode": {
     "languageId": "r"
    }
   },
   "outputs": [],
   "source": [
    "data_to_save <- data"
   ]
  },
  {
   "cell_type": "markdown",
   "metadata": {},
   "source": [
    "\n",
    "<font color='tomato'>Estructura de nombre de archivos:</font>\n",
    "\n",
    "* Código del caso de uso, por ejemplo \"CU_04\"\n",
    "* Número del proceso que lo genera, por ejemplo \"_06\".\n",
    "* Resto del nombre del archivo de entrada\n",
    "* Extensión del archivo\n",
    "\n",
    "Ejemplo: \"CU_04_06_01_01_zonasgeo.json, primer fichero que se genera en la tarea 01 del proceso 05 (Data Collection) para el caso de uso 04 (vacunas) y que se ha transformado en el proceso 06\n",
    "\n",
    "Importante mantener los guiones bajos antes de proceso, tarea, archivo y nombre"
   ]
  },
  {
   "cell_type": "markdown",
   "metadata": {},
   "source": [
    "### Proceso 07"
   ]
  },
  {
   "cell_type": "code",
   "execution_count": 59,
   "metadata": {
    "vscode": {
     "languageId": "r"
    }
   },
   "outputs": [],
   "source": [
    "caso <- \"CU_55\"\n",
    "proceso <- '_07'\n",
    "tarea <- \"_03\"\n",
    "archivo <- \"\"\n",
    "proper <- \"_gasto_municipio\"\n",
    "extension <- \".csv\""
   ]
  },
  {
   "cell_type": "markdown",
   "metadata": {},
   "source": [
    "<font color='tomato'><b> OPCION A:</b> Uso del paquete \"tcltk\" para mayor comodidad</font>\n",
    "\n",
    "* Buscar carpeta, escribir nombre de archivo SIN extensión (se especifica en el código)\n",
    "* Especificar sufijo2 si es necesario\n",
    "* Cambiar datos por datos_xx si es necesario"
   ]
  },
  {
   "cell_type": "code",
   "execution_count": 60,
   "metadata": {
    "vscode": {
     "languageId": "r"
    }
   },
   "outputs": [],
   "source": [
    "# file_save <- paste0(caso, proceso, tarea, tcltk::tkgetSaveFile(), proper, extension) \n",
    "# path_out <- paste0(oPath, file_save)\n",
    "# write_csv(data_to_save_xxxxx, path_out)\n",
    "\n",
    "# cat('File saved as: ')\n",
    "# path_out"
   ]
  },
  {
   "cell_type": "markdown",
   "metadata": {},
   "source": [
    "<font color='tomato'><b> OPCION B:</b> Especificar el nombre de archivo</font>"
   ]
  },
  {
   "cell_type": "markdown",
   "metadata": {},
   "source": [
    "- Los ficheros de salida del proceso van siempre a Data/Output/.  "
   ]
  },
  {
   "cell_type": "code",
   "execution_count": 61,
   "metadata": {
    "vscode": {
     "languageId": "r"
    }
   },
   "outputs": [
    {
     "name": "stdout",
     "output_type": "stream",
     "text": [
      "File saved as: "
     ]
    },
    {
     "data": {
      "text/html": [
       "'Data/Output/CU_55_07_03_gasto_municipio.csv'"
      ],
      "text/latex": [
       "'Data/Output/CU\\_55\\_07\\_03\\_gasto\\_municipio.csv'"
      ],
      "text/markdown": [
       "'Data/Output/CU_55_07_03_gasto_municipio.csv'"
      ],
      "text/plain": [
       "[1] \"Data/Output/CU_55_07_03_gasto_municipio.csv\""
      ]
     },
     "metadata": {},
     "output_type": "display_data"
    }
   ],
   "source": [
    "file_save <- paste0(caso, proceso, tarea, archivo, proper, extension) \n",
    "path_out <- paste0(oPath, file_save)\n",
    "write_csv(data_to_save, path_out)\n",
    "\n",
    "cat('File saved as: ')\n",
    "path_out"
   ]
  },
  {
   "cell_type": "markdown",
   "metadata": {},
   "source": [
    "#### Copia del fichero a Input\n",
    "\n",
    "Si el archivo se va a usar en otros notebooks, copiar a la carpeta Input"
   ]
  },
  {
   "cell_type": "code",
   "execution_count": 62,
   "metadata": {
    "vscode": {
     "languageId": "r"
    }
   },
   "outputs": [
    {
     "data": {
      "text/html": [
       "TRUE"
      ],
      "text/latex": [
       "TRUE"
      ],
      "text/markdown": [
       "TRUE"
      ],
      "text/plain": [
       "[1] TRUE"
      ]
     },
     "metadata": {},
     "output_type": "display_data"
    }
   ],
   "source": [
    "path_in <- paste0(iPath, file_save)\n",
    "file.copy(path_out, path_in, overwrite = TRUE)"
   ]
  },
  {
   "cell_type": "markdown",
   "metadata": {
    "slideshow": {
     "slide_type": "slide"
    }
   },
   "source": [
    "## <font color='#2874a6'>REPORT</font>"
   ]
  },
  {
   "cell_type": "markdown",
   "metadata": {},
   "source": [
    "A continuación se realizará un informe de las acciones realizadas"
   ]
  },
  {
   "cell_type": "markdown",
   "metadata": {},
   "source": [
    "## <font color=' #2874a6 '>Main Actions Carried Out</font>"
   ]
  },
  {
   "cell_type": "markdown",
   "metadata": {},
   "source": [
    "- No aplica el proceso al caso"
   ]
  },
  {
   "cell_type": "markdown",
   "metadata": {},
   "source": [
    "## <font color=' #2874a6 '>Main Conclusions</font>"
   ]
  },
  {
   "cell_type": "markdown",
   "metadata": {},
   "source": [
    "- En este caso no se realiza muestreo"
   ]
  },
  {
   "cell_type": "markdown",
   "metadata": {},
   "source": [
    "## <font color='RED'>CODE TO DEPLOY (PILOT)</font>\n",
    "\n",
    "A continuación se incluirá el código que deba ser llevado a despliegue para producción, dado que se entiende efectúa operaciones necesarias sobre los datos en la ejecución del prototipo"
   ]
  },
  {
   "cell_type": "markdown",
   "metadata": {},
   "source": [
    "<font color=' red '><b>Description</b></font>\n",
    "\n",
    "- No hay nada que desplegar en el piloto, ya que estos datos son estáticos o en todo caso cambian con muy poca frecuencia, altamente improbable durante el proyecto.\n"
   ]
  },
  {
   "cell_type": "markdown",
   "metadata": {},
   "source": [
    "<font color=' red '><b>CODE</b></font>"
   ]
  },
  {
   "cell_type": "code",
   "execution_count": 63,
   "metadata": {
    "vscode": {
     "languageId": "r"
    }
   },
   "outputs": [],
   "source": [
    "# incluir código"
   ]
  },
  {
   "cell_type": "code",
   "execution_count": null,
   "metadata": {},
   "outputs": [],
   "source": []
  }
 ],
 "metadata": {
  "anaconda-cloud": {},
  "celltoolbar": "Slideshow",
  "hide_input": false,
  "kernelspec": {
   "display_name": "R",
   "language": "R",
   "name": "ir"
  },
  "language_info": {
   "codemirror_mode": "r",
   "file_extension": ".r",
   "mimetype": "text/x-r-source",
   "name": "R",
   "pygments_lexer": "r",
   "version": "4.3.0"
  },
  "latex_envs": {
   "LaTeX_envs_menu_present": true,
   "autoclose": false,
   "autocomplete": true,
   "bibliofile": "biblio.bib",
   "cite_by": "apalike",
   "current_citInitial": 1,
   "eqLabelWithNumbers": true,
   "eqNumInitial": 1,
   "hotkeys": {
    "equation": "Ctrl-E",
    "itemize": "Ctrl-I"
   },
   "labels_anchors": false,
   "latex_user_defs": false,
   "report_style_numbering": true,
   "user_envs_cfg": false
  },
  "toc": {
   "base_numbering": 1,
   "nav_menu": {
    "height": "11.6px",
    "width": "160px"
   },
   "number_sections": true,
   "sideBar": true,
   "skip_h1_title": true,
   "title_cell": "Table of Contents",
   "title_sidebar": "Contents",
   "toc_cell": true,
   "toc_position": {
    "height": "calc(100% - 180px)",
    "left": "10px",
    "top": "150px",
    "width": "330.6px"
   },
   "toc_section_display": true,
   "toc_window_display": true
  },
  "varInspector": {
   "cols": {
    "lenName": 16,
    "lenType": 16,
    "lenVar": 40
   },
   "kernels_config": {
    "python": {
     "delete_cmd_postfix": "",
     "delete_cmd_prefix": "del ",
     "library": "var_list.py",
     "varRefreshCmd": "print(var_dic_list())"
    },
    "r": {
     "delete_cmd_postfix": ") ",
     "delete_cmd_prefix": "rm(",
     "library": "var_list.r",
     "varRefreshCmd": "cat(var_dic_list()) "
    }
   },
   "types_to_exclude": [
    "module",
    "function",
    "builtin_function_or_method",
    "instance",
    "_Feature"
   ],
   "window_display": false
  }
 },
 "nbformat": 4,
 "nbformat_minor": 4
}
