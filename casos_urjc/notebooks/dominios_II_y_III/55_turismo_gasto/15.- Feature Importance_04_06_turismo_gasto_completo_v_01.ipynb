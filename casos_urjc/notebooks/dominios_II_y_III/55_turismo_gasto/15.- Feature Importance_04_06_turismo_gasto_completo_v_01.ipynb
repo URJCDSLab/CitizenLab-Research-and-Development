{
 "cells": [
  {
   "cell_type": "markdown",
   "metadata": {
    "slideshow": {
     "slide_type": "slide"
    }
   },
   "source": [
    "<img src=\".\\images\\Logo.png\" width=150 align=\"left\" /> <img src=\".\\images\\Logo2.jpg\" width=450 align=\"right\" />"
   ]
  },
  {
   "cell_type": "markdown",
   "metadata": {
    "slideshow": {
     "slide_type": "slide"
    }
   },
   "source": [
    "# <center><font color= #1e8449 > <b>CU55_Modelo agregado de estimación del gasto medio por turista\n",
    "¶</font></center>"
   ]
  },
  {
   "cell_type": "markdown",
   "metadata": {
    "slideshow": {
     "slide_type": "slide"
    }
   },
   "source": [
    "<font color='steelblue'><b>Citizenlab Data Science Methodology > III - Feature Engineering Domain </font>\n",
    "***\n",
    "> # <font color='steelblue'> <b>15.- Feature Importance</font>"
   ]
  },
  {
   "cell_type": "markdown",
   "metadata": {
    "slideshow": {
     "slide_type": "slide"
    }
   },
   "source": [
    "<font color='steelblue'>Feature Importance is the process that assigns scores to the input characteristics to a model, which indicate the relative importance of each characteristic, in order, for example, to be able to select the most important ones.</font>\n"
   ]
  },
  {
   "cell_type": "markdown",
   "metadata": {
    "slideshow": {
     "slide_type": "slide"
    }
   },
   "source": [
    "## <font color='steelblue'>Tasks</font>"
   ]
  },
  {
   "cell_type": "markdown",
   "metadata": {
    "slideshow": {
     "slide_type": "slide"
    }
   },
   "source": [
    "<font color='steelblue'><b>Perform Feature importance from model coefficients</b>\t\t\t\n",
    "- Linear Regression Feature importance\t\t\n",
    "- Logistic Regression Feature importance\t\t\n",
    "    \n",
    "<font color='steelblue'><b>Perform Feature importance from Decision Tree\t\t\t\n",
    "- CART Feature Importance\t\t\n",
    "- Random Forest Regression Feature Importance\t\t\n",
    "    \n",
    "<font color='steelblue'><b>Perform Feature importance from Permutation testing</b>\t\t\t\n",
    "    \n",
    "<font color='steelblue'><b>Evaluate a Logistic Regression model with feature selection</b>\t\t\t"
   ]
  },
  {
   "cell_type": "markdown",
   "metadata": {},
   "source": [
    "## Consideraciones casos CitizenLab programados en R\n",
    "\n",
    "* Algunas de las tareas de este proceso se han realizado en los notebooks del proceso 05 Data Collection porque eran necesarias para las tareas ETL. En esos casos, en este notebook se referencia al notebook del proceso 05 correspondiente\n",
    "* Otras tareas típicas de este proceso se realizan en los notebooks del dominio IV al ser más eficiente realizarlas en el propio pipeline de modelización.\n",
    "* Por tanto en los notebooks de este proceso de manera general se incluyen las comprobaciones necesarias, y comentarios si procede\n",
    "* Las tareas del proceso se van a aplicar solo a los archivos que forman parte del despliegue, ya que hay muchos archivos intermedios que no procede pasar por este proceso\n",
    "* El nombre de archivo del notebook hace referencia al nombre de archivo del proceso 05 al que se aplica este proceso, por eso pueden no ser correlativa la numeración\n",
    "* Las comprobaciones se van a realizar teniendo en cuenta que el lenguaje utilizado en el despliegue de este caso es R"
   ]
  },
  {
   "cell_type": "markdown",
   "metadata": {},
   "source": [
    "## <font color='green'>File</font>"
   ]
  },
  {
   "cell_type": "markdown",
   "metadata": {},
   "source": [
    "- <font color='steelblue'> <b>Input File: CU_55_08_03_gasto_municipio.csv</font>\n",
    "- <font color='steelblue'> <b>Sampled Input File: CU_55_07_03_gasto_municipio.csv</font>\n",
    "- <font color='steelblue'> <b>Output File: No aplica</font>"
   ]
  },
  {
   "cell_type": "markdown",
   "metadata": {},
   "source": [
    "### Encoding\n",
    "\n",
    "Con la siguiente expresión se evitan problemas con el encoding al ejecutar el notebook. Es posible que deba ser eliminada o adaptada a la máquina en la que se ejecute el código."
   ]
  },
  {
   "cell_type": "code",
   "execution_count": 1,
   "metadata": {
    "vscode": {
     "languageId": "r"
    }
   },
   "outputs": [
    {
     "data": {
      "text/html": [
       "'LC_COLLATE=es_ES.UTF-8;LC_CTYPE=es_ES.UTF-8;LC_MONETARY=es_ES.UTF-8;LC_NUMERIC=C;LC_TIME=es_ES.UTF-8'"
      ],
      "text/latex": [
       "'LC\\_COLLATE=es\\_ES.UTF-8;LC\\_CTYPE=es\\_ES.UTF-8;LC\\_MONETARY=es\\_ES.UTF-8;LC\\_NUMERIC=C;LC\\_TIME=es\\_ES.UTF-8'"
      ],
      "text/markdown": [
       "'LC_COLLATE=es_ES.UTF-8;LC_CTYPE=es_ES.UTF-8;LC_MONETARY=es_ES.UTF-8;LC_NUMERIC=C;LC_TIME=es_ES.UTF-8'"
      ],
      "text/plain": [
       "[1] \"LC_COLLATE=es_ES.UTF-8;LC_CTYPE=es_ES.UTF-8;LC_MONETARY=es_ES.UTF-8;LC_NUMERIC=C;LC_TIME=es_ES.UTF-8\""
      ]
     },
     "metadata": {},
     "output_type": "display_data"
    }
   ],
   "source": [
    "Sys.setlocale(category = \"LC_ALL\", locale = \"es_ES.UTF-8\")"
   ]
  },
  {
   "cell_type": "markdown",
   "metadata": {},
   "source": [
    "## <font color='green'>Settings</font>"
   ]
  },
  {
   "cell_type": "markdown",
   "metadata": {},
   "source": [
    "### Libraries to use"
   ]
  },
  {
   "cell_type": "code",
   "execution_count": 2,
   "metadata": {
    "vscode": {
     "languageId": "r"
    }
   },
   "outputs": [
    {
     "name": "stderr",
     "output_type": "stream",
     "text": [
      "\n",
      "Attaching package: 'dplyr'\n",
      "\n",
      "\n",
      "The following objects are masked from 'package:stats':\n",
      "\n",
      "    filter, lag\n",
      "\n",
      "\n",
      "The following objects are masked from 'package:base':\n",
      "\n",
      "    intersect, setdiff, setequal, union\n",
      "\n",
      "\n",
      "\n",
      "Attaching package: 'lubridate'\n",
      "\n",
      "\n",
      "The following objects are masked from 'package:base':\n",
      "\n",
      "    date, intersect, setdiff, union\n",
      "\n",
      "\n"
     ]
    }
   ],
   "source": [
    "library(readr)\n",
    "library(dplyr)\n",
    "library(tidyr)\n",
    "library(forcats)\n",
    "library(lubridate)\n"
   ]
  },
  {
   "cell_type": "markdown",
   "metadata": {},
   "source": [
    "### Paths"
   ]
  },
  {
   "cell_type": "code",
   "execution_count": 3,
   "metadata": {
    "vscode": {
     "languageId": "r"
    }
   },
   "outputs": [],
   "source": [
    "iPath <- \"Data/Input/\"\n",
    "oPath <- \"Data/Output/\""
   ]
  },
  {
   "cell_type": "markdown",
   "metadata": {},
   "source": [
    "## <font color='green'>Data Load</font>"
   ]
  },
  {
   "cell_type": "markdown",
   "metadata": {},
   "source": [
    "<font color='tomato'><b> OPCION A:</b> Seleccionar fichero en ventana para mayor comodidad</font> "
   ]
  },
  {
   "cell_type": "markdown",
   "metadata": {},
   "source": [
    "Data load using the {tcltk} package. Ucomment the line if using this option"
   ]
  },
  {
   "cell_type": "code",
   "execution_count": 4,
   "metadata": {
    "vscode": {
     "languageId": "r"
    }
   },
   "outputs": [],
   "source": [
    "# file_data <- tcltk::tk_choose.files(multi = FALSE)"
   ]
  },
  {
   "cell_type": "markdown",
   "metadata": {},
   "source": [
    "<font color='tomato'><b> OPCION B:</b> Especificar el nombre de archivo</font>\n",
    "\n"
   ]
  },
  {
   "cell_type": "code",
   "execution_count": 5,
   "metadata": {
    "vscode": {
     "languageId": "r"
    }
   },
   "outputs": [
    {
     "name": "stdout",
     "output_type": "stream",
     "text": [
      "Se leerán datos del archivo:  Data/Input/CU_55_08_03_gasto_municipio.csv"
     ]
    }
   ],
   "source": [
    "iFile <- \"CU_55_08_03_gasto_municipio.csv\"\n",
    "file_data <- paste0(iPath, iFile)\n",
    "\n",
    "if(file.exists(file_data)){\n",
    "    cat(\"Se leerán datos del archivo: \", file_data)\n",
    "} else{\n",
    "    warning(\"Cuidado: el archivo no existe.\")\n",
    "}\n"
   ]
  },
  {
   "cell_type": "markdown",
   "metadata": {},
   "source": [
    "#### Data file to dataframe\n",
    "\n",
    "Usar la función adecuada según el formato de entrada (xlsx, csv, json, ...)"
   ]
  },
  {
   "cell_type": "code",
   "execution_count": 6,
   "metadata": {
    "tags": [],
    "vscode": {
     "languageId": "r"
    }
   },
   "outputs": [
    {
     "name": "stderr",
     "output_type": "stream",
     "text": [
      "\u001b[1mRows: \u001b[22m\u001b[34m50294\u001b[39m \u001b[1mColumns: \u001b[22m\u001b[34m10\u001b[39m\n",
      "\u001b[36m──\u001b[39m \u001b[1mColumn specification\u001b[22m \u001b[36m─────────────────────────────────────────────────────────────────────────────────────────────────────────────────────────────────────────────────────────────────────────────────────\u001b[39m\n",
      "\u001b[1mDelimiter:\u001b[22m \",\"\n",
      "\u001b[31mchr\u001b[39m (5): mes, pais_orig_cod, pais_orig, mun_dest, CMUN\n",
      "\u001b[32mdbl\u001b[39m (4): mun_dest_cod, turistas, gasto, Target\n",
      "\u001b[33mlgl\u001b[39m (1): is_train\n",
      "\n",
      "\u001b[36mℹ\u001b[39m Use `spec()` to retrieve the full column specification for this data.\n",
      "\u001b[36mℹ\u001b[39m Specify the column types or set `show_col_types = FALSE` to quiet this message.\n"
     ]
    }
   ],
   "source": [
    "data <- read_csv(file_data)\n"
   ]
  },
  {
   "cell_type": "markdown",
   "metadata": {},
   "source": [
    "Estructura de  los datos:"
   ]
  },
  {
   "cell_type": "code",
   "execution_count": 7,
   "metadata": {
    "vscode": {
     "languageId": "r"
    }
   },
   "outputs": [
    {
     "name": "stdout",
     "output_type": "stream",
     "text": [
      "Rows: 50,294\n",
      "Columns: 10\n",
      "$ mes           \u001b[3m\u001b[90m<chr>\u001b[39m\u001b[23m \"2019-08\", \"2021-07\", \"2021-07\", \"2022-01\", \"2019-08\", \"…\n",
      "$ pais_orig_cod \u001b[3m\u001b[90m<chr>\u001b[39m\u001b[23m \"110\", \"010\", \"010\", \"000\", \"128\", \"000\", \"011\", \"126\", …\n",
      "$ pais_orig     \u001b[3m\u001b[90m<chr>\u001b[39m\u001b[23m \"Francia\", \"Total Europa\", \"Total Europa\", \"Total\", \"Rum…\n",
      "$ mun_dest_cod  \u001b[3m\u001b[90m<dbl>\u001b[39m\u001b[23m 28161, 28176, 28132, 28141, 28130, 28126, 28075, 28005, …\n",
      "$ mun_dest      \u001b[3m\u001b[90m<chr>\u001b[39m\u001b[23m \"Valdemoro\", \"Villanueva de la Cañada\", \"San Martín de l…\n",
      "$ turistas      \u001b[3m\u001b[90m<dbl>\u001b[39m\u001b[23m 466, 1375, 465, 54, 135, 30, 285, 768, 31, 1646, 116, 36…\n",
      "$ CMUN          \u001b[3m\u001b[90m<chr>\u001b[39m\u001b[23m \"161\", \"176\", \"132\", \"141\", \"130\", \"126\", \"075\", \"005\", …\n",
      "$ gasto         \u001b[3m\u001b[90m<dbl>\u001b[39m\u001b[23m 76.360, 99.650, 99.650, 107.820, 109.210, 118.230, 118.2…\n",
      "$ Target        \u001b[3m\u001b[90m<dbl>\u001b[39m\u001b[23m 76.360, 99.650, 99.650, 107.820, 109.210, 118.230, 118.2…\n",
      "$ is_train      \u001b[3m\u001b[90m<lgl>\u001b[39m\u001b[23m TRUE, TRUE, TRUE, TRUE, TRUE, TRUE, TRUE, TRUE, TRUE, TR…\n"
     ]
    }
   ],
   "source": [
    "data |> glimpse()"
   ]
  },
  {
   "cell_type": "markdown",
   "metadata": {},
   "source": [
    "Muestra de los primeros datos:"
   ]
  },
  {
   "cell_type": "code",
   "execution_count": 8,
   "metadata": {
    "vscode": {
     "languageId": "r"
    }
   },
   "outputs": [
    {
     "data": {
      "text/html": [
       "<table class=\"dataframe\">\n",
       "<caption>A spec_tbl_df: 5 × 10</caption>\n",
       "<thead>\n",
       "\t<tr><th scope=col>mes</th><th scope=col>pais_orig_cod</th><th scope=col>pais_orig</th><th scope=col>mun_dest_cod</th><th scope=col>mun_dest</th><th scope=col>turistas</th><th scope=col>CMUN</th><th scope=col>gasto</th><th scope=col>Target</th><th scope=col>is_train</th></tr>\n",
       "\t<tr><th scope=col>&lt;chr&gt;</th><th scope=col>&lt;chr&gt;</th><th scope=col>&lt;chr&gt;</th><th scope=col>&lt;dbl&gt;</th><th scope=col>&lt;chr&gt;</th><th scope=col>&lt;dbl&gt;</th><th scope=col>&lt;chr&gt;</th><th scope=col>&lt;dbl&gt;</th><th scope=col>&lt;dbl&gt;</th><th scope=col>&lt;lgl&gt;</th></tr>\n",
       "</thead>\n",
       "<tbody>\n",
       "\t<tr><td>2019-08</td><td>110</td><td>Francia     </td><td>28161</td><td>Valdemoro              </td><td> 466</td><td>161</td><td> 76.36</td><td> 76.36</td><td>TRUE</td></tr>\n",
       "\t<tr><td>2021-07</td><td>010</td><td>Total Europa</td><td>28176</td><td>Villanueva de la Cañada</td><td>1375</td><td>176</td><td> 99.65</td><td> 99.65</td><td>TRUE</td></tr>\n",
       "\t<tr><td>2021-07</td><td>010</td><td>Total Europa</td><td>28132</td><td>San Martín de la Vega  </td><td> 465</td><td>132</td><td> 99.65</td><td> 99.65</td><td>TRUE</td></tr>\n",
       "\t<tr><td>2022-01</td><td>000</td><td>Total       </td><td>28141</td><td>Sevilla la Nueva       </td><td>  54</td><td>141</td><td>107.82</td><td>107.82</td><td>TRUE</td></tr>\n",
       "\t<tr><td>2019-08</td><td>128</td><td>Rumania     </td><td>28130</td><td>San Fernando de Henares</td><td> 135</td><td>130</td><td>109.21</td><td>109.21</td><td>TRUE</td></tr>\n",
       "</tbody>\n",
       "</table>\n"
      ],
      "text/latex": [
       "A spec\\_tbl\\_df: 5 × 10\n",
       "\\begin{tabular}{llllllllll}\n",
       " mes & pais\\_orig\\_cod & pais\\_orig & mun\\_dest\\_cod & mun\\_dest & turistas & CMUN & gasto & Target & is\\_train\\\\\n",
       " <chr> & <chr> & <chr> & <dbl> & <chr> & <dbl> & <chr> & <dbl> & <dbl> & <lgl>\\\\\n",
       "\\hline\n",
       "\t 2019-08 & 110 & Francia      & 28161 & Valdemoro               &  466 & 161 &  76.36 &  76.36 & TRUE\\\\\n",
       "\t 2021-07 & 010 & Total Europa & 28176 & Villanueva de la Cañada & 1375 & 176 &  99.65 &  99.65 & TRUE\\\\\n",
       "\t 2021-07 & 010 & Total Europa & 28132 & San Martín de la Vega   &  465 & 132 &  99.65 &  99.65 & TRUE\\\\\n",
       "\t 2022-01 & 000 & Total        & 28141 & Sevilla la Nueva        &   54 & 141 & 107.82 & 107.82 & TRUE\\\\\n",
       "\t 2019-08 & 128 & Rumania      & 28130 & San Fernando de Henares &  135 & 130 & 109.21 & 109.21 & TRUE\\\\\n",
       "\\end{tabular}\n"
      ],
      "text/markdown": [
       "\n",
       "A spec_tbl_df: 5 × 10\n",
       "\n",
       "| mes &lt;chr&gt; | pais_orig_cod &lt;chr&gt; | pais_orig &lt;chr&gt; | mun_dest_cod &lt;dbl&gt; | mun_dest &lt;chr&gt; | turistas &lt;dbl&gt; | CMUN &lt;chr&gt; | gasto &lt;dbl&gt; | Target &lt;dbl&gt; | is_train &lt;lgl&gt; |\n",
       "|---|---|---|---|---|---|---|---|---|---|\n",
       "| 2019-08 | 110 | Francia      | 28161 | Valdemoro               |  466 | 161 |  76.36 |  76.36 | TRUE |\n",
       "| 2021-07 | 010 | Total Europa | 28176 | Villanueva de la Cañada | 1375 | 176 |  99.65 |  99.65 | TRUE |\n",
       "| 2021-07 | 010 | Total Europa | 28132 | San Martín de la Vega   |  465 | 132 |  99.65 |  99.65 | TRUE |\n",
       "| 2022-01 | 000 | Total        | 28141 | Sevilla la Nueva        |   54 | 141 | 107.82 | 107.82 | TRUE |\n",
       "| 2019-08 | 128 | Rumania      | 28130 | San Fernando de Henares |  135 | 130 | 109.21 | 109.21 | TRUE |\n",
       "\n"
      ],
      "text/plain": [
       "  mes     pais_orig_cod pais_orig    mun_dest_cod mun_dest               \n",
       "1 2019-08 110           Francia      28161        Valdemoro              \n",
       "2 2021-07 010           Total Europa 28176        Villanueva de la Cañada\n",
       "3 2021-07 010           Total Europa 28132        San Martín de la Vega  \n",
       "4 2022-01 000           Total        28141        Sevilla la Nueva       \n",
       "5 2019-08 128           Rumania      28130        San Fernando de Henares\n",
       "  turistas CMUN gasto  Target is_train\n",
       "1  466     161   76.36  76.36 TRUE    \n",
       "2 1375     176   99.65  99.65 TRUE    \n",
       "3  465     132   99.65  99.65 TRUE    \n",
       "4   54     141  107.82 107.82 TRUE    \n",
       "5  135     130  109.21 109.21 TRUE    "
      ]
     },
     "metadata": {},
     "output_type": "display_data"
    }
   ],
   "source": [
    "data |> slice_head(n = 5)"
   ]
  },
  {
   "cell_type": "markdown",
   "metadata": {
    "slideshow": {
     "slide_type": "slide"
    }
   },
   "source": [
    "## Feature importance from model coefficients"
   ]
  },
  {
   "cell_type": "code",
   "execution_count": 11,
   "metadata": {},
   "outputs": [],
   "source": [
    "data <- data |>\n",
    "    na.omit()"
   ]
  },
  {
   "cell_type": "markdown",
   "metadata": {
    "slideshow": {
     "slide_type": "slide"
    }
   },
   "source": [
    "### Linear Regression Feature importance"
   ]
  },
  {
   "cell_type": "code",
   "execution_count": 12,
   "metadata": {
    "ExecuteTime": {
     "end_time": "2021-01-05T18:57:59.034208Z",
     "start_time": "2021-01-05T18:57:49.219178Z"
    },
    "vscode": {
     "languageId": "r"
    }
   },
   "outputs": [
    {
     "name": "stderr",
     "output_type": "stream",
     "text": [
      "Loading required package: caret\n",
      "\n",
      "Loading required package: ggplot2\n",
      "\n",
      "Loading required package: lattice\n",
      "\n",
      "Warning message in predict.lm(modelFit, newdata):\n",
      "\"prediction from rank-deficient fit; attr(*, \"non-estim\") has doubtful cases\"\n",
      "Warning message in predict.lm(modelFit, newdata):\n",
      "\"prediction from rank-deficient fit; attr(*, \"non-estim\") has doubtful cases\"\n",
      "Warning message in predict.lm(modelFit, newdata):\n",
      "\"prediction from rank-deficient fit; attr(*, \"non-estim\") has doubtful cases\"\n",
      "Warning message in predict.lm(modelFit, newdata):\n",
      "\"prediction from rank-deficient fit; attr(*, \"non-estim\") has doubtful cases\"\n",
      "Warning message in predict.lm(modelFit, newdata):\n",
      "\"prediction from rank-deficient fit; attr(*, \"non-estim\") has doubtful cases\"\n",
      "Warning message in summary.lm(linear_model$finalModel):\n",
      "\"essentially perfect fit: summary may be unreliable\"\n"
     ]
    },
    {
     "name": "stdout",
     "output_type": "stream",
     "text": [
      "                                                                        Feature\n",
      "gasto                                                                     gasto\n",
      "(Intercept)                                                         (Intercept)\n",
      "pais_orig_cod407                                               pais_orig_cod407\n",
      "pais_orig_cod408                                               pais_orig_cod408\n",
      "pais_orig_cod132                                               pais_orig_cod132\n",
      "pais_orig_cod343                                               pais_orig_cod343\n",
      "pais_orig_cod124                                               pais_orig_cod124\n",
      "pais_orig_cod303                                               pais_orig_cod303\n",
      "pais_orig_cod302                                               pais_orig_cod302\n",
      "`mes2022-05`                                                       `mes2022-05`\n",
      "`mes2022-06`                                                       `mes2022-06`\n",
      "`mes2022-04`                                                       `mes2022-04`\n",
      "pais_orig_cod122                                               pais_orig_cod122\n",
      "`mes2020-05`                                                       `mes2020-05`\n",
      "`mes2020-06`                                                       `mes2020-06`\n",
      "pais_orig_cod430                                               pais_orig_cod430\n",
      "pais_orig_cod342                                               pais_orig_cod342\n",
      "`mes2020-04`                                                       `mes2020-04`\n",
      "`mes2021-05`                                                       `mes2021-05`\n",
      "`mes2021-06`                                                       `mes2021-06`\n",
      "`mes2021-04`                                                       `mes2021-04`\n",
      "pais_orig_cod344                                               pais_orig_cod344\n",
      "`mes2022-10`                                                       `mes2022-10`\n",
      "pais_orig_cod436                                               pais_orig_cod436\n",
      "`mes2022-08`                                                       `mes2022-08`\n",
      "`mes2022-07`                                                       `mes2022-07`\n",
      "`mes2022-09`                                                       `mes2022-09`\n",
      "pais_orig_cod109                                               pais_orig_cod109\n",
      "pais_orig_cod128                                               pais_orig_cod128\n",
      "pais_orig_cod415                                               pais_orig_cod415\n",
      "pais_orig_cod110                                               pais_orig_cod110\n",
      "`mes2020-12`                                                       `mes2020-12`\n",
      "`mes2020-10`                                                       `mes2020-10`\n",
      "`mes2020-11`                                                       `mes2020-11`\n",
      "`mes2021-10`                                                       `mes2021-10`\n",
      "pais_orig_cod301                                               pais_orig_cod301\n",
      "`mes2021-11`                                                       `mes2021-11`\n",
      "`mes2020-07`                                                       `mes2020-07`\n",
      "`mes2020-09`                                                       `mes2020-09`\n",
      "`mes2020-08`                                                       `mes2020-08`\n",
      "`mes2021-12`                                                       `mes2021-12`\n",
      "`mes2019-10`                                                       `mes2019-10`\n",
      "`mes2019-11`                                                       `mes2019-11`\n",
      "pais_orig_cod125                                               pais_orig_cod125\n",
      "pais_orig_cod154                                               pais_orig_cod154\n",
      "pais_orig_cod115                                               pais_orig_cod115\n",
      "`mes2019-12`                                                       `mes2019-12`\n",
      "pais_orig_cod107                                               pais_orig_cod107\n",
      "`mes2022-03`                                                       `mes2022-03`\n",
      "`mes2022-01`                                                       `mes2022-01`\n",
      "`mes2022-02`                                                       `mes2022-02`\n",
      "`mes2021-03`                                                       `mes2021-03`\n",
      "`mes2021-02`                                                       `mes2021-02`\n",
      "`mes2021-01`                                                       `mes2021-01`\n",
      "pais_orig_cod120                                               pais_orig_cod120\n",
      "pais_orig_cod340                                               pais_orig_cod340\n",
      "pais_orig_cod121                                               pais_orig_cod121\n",
      "`mes2021-08`                                                       `mes2021-08`\n",
      "`mes2021-09`                                                       `mes2021-09`\n",
      "`mes2021-07`                                                       `mes2021-07`\n",
      "pais_orig_cod123                                               pais_orig_cod123\n",
      "pais_orig_cod103                                               pais_orig_cod103\n",
      "`mun_destTres Cantos`                                     `mun_destTres Cantos`\n",
      "`mun_destPuentes Viejas`                               `mun_destPuentes Viejas`\n",
      "pais_orig_cod102                                               pais_orig_cod102\n",
      "`mun_destLozoyuela-Navas-Sieteiglesias` `mun_destLozoyuela-Navas-Sieteiglesias`\n",
      "`mun_destOlmeda de las Fuentes`                 `mun_destOlmeda de las Fuentes`\n",
      "`mun_destRozas de Puerto Real`                   `mun_destRozas de Puerto Real`\n",
      "pais_orig_cod404                                               pais_orig_cod404\n",
      "pais_orig_cod424                                               pais_orig_cod424\n",
      "pais_orig_cod327                                               pais_orig_cod327\n",
      "pais_orig_cod433                                               pais_orig_cod433\n",
      "pais_orig_cod113                                               pais_orig_cod113\n",
      "pais_orig_cod226                                               pais_orig_cod226\n",
      "pais_orig_cod233                                               pais_orig_cod233\n",
      "pais_orig_cod246                                               pais_orig_cod246\n",
      "pais_orig_cod204                                               pais_orig_cod204\n",
      "pais_orig_cod247                                               pais_orig_cod247\n",
      "pais_orig_cod215                                               pais_orig_cod215\n",
      "pais_orig_cod210                                               pais_orig_cod210\n",
      "pais_orig_cod229                                               pais_orig_cod229\n",
      "pais_orig_cod502                                               pais_orig_cod502\n",
      "pais_orig_cod417                                               pais_orig_cod417\n",
      "`mun_destTorremocha de Jarama`                   `mun_destTorremocha de Jarama`\n",
      "pais_orig_cod447                                               pais_orig_cod447\n",
      "`mes2020-01`                                                       `mes2020-01`\n",
      "`mun_destAtazar, El`                                       `mun_destAtazar, El`\n",
      "`mun_destTorrejón de la Calzada`               `mun_destTorrejón de la Calzada`\n",
      "`mun_destPiñuécar-Gandullas`                       `mun_destPiñuécar-Gandullas`\n",
      "`mun_destMontejo de la Sierra`                   `mun_destMontejo de la Sierra`\n",
      "pais_orig_cod505                                               pais_orig_cod505\n",
      "mun_destValdemorillo                                       mun_destValdemorillo\n",
      "pais_orig_cod401                                               pais_orig_cod401\n",
      "`mes2020-03`                                                       `mes2020-03`\n",
      "`mes2020-02`                                                       `mes2020-02`\n",
      "mun_destChapinería                                           mun_destChapinería\n",
      "`mun_destVillanueva de Perales`                 `mun_destVillanueva de Perales`\n",
      "mun_destAlcobendas                                           mun_destAlcobendas\n",
      "pais_orig_cod126                                               pais_orig_cod126\n",
      "`mun_destRobledillo de la Jara`                 `mun_destRobledillo de la Jara`\n",
      "`mun_destAlcalá de Henares`                         `mun_destAlcalá de Henares`\n",
      "pais_orig_cod201                                               pais_orig_cod201\n",
      "mun_destNavalafuente                                       mun_destNavalafuente\n",
      "mun_destCorpa                                                     mun_destCorpa\n",
      "`mun_destVillaviciosa de Odón`                   `mun_destVillaviciosa de Odón`\n",
      "`mun_destBoadilla del Monte`                       `mun_destBoadilla del Monte`\n",
      "pais_orig_cod158                                               pais_orig_cod158\n",
      "`mun_destFresnedillas de la Oliva`           `mun_destFresnedillas de la Oliva`\n",
      "mun_destAmbite                                                   mun_destAmbite\n",
      "mun_destGetafe                                                   mun_destGetafe\n",
      "`mun_destSan Agustín del Guadalix`           `mun_destSan Agustín del Guadalix`\n",
      "`mun_destSoto del Real`                                 `mun_destSoto del Real`\n",
      "`mun_destNavarredonda y San Mamés`           `mun_destNavarredonda y San Mamés`\n",
      "`mun_destPrádena del Rincón`                       `mun_destPrádena del Rincón`\n",
      "mun_destFuenlabrada                                         mun_destFuenlabrada\n",
      "`mun_destBerzosa del Lozoya`                       `mun_destBerzosa del Lozoya`\n",
      "`mun_destBrea de Tajo`                                   `mun_destBrea de Tajo`\n",
      "pais_orig_cod249                                               pais_orig_cod249\n",
      "mun_destAlcorcón                                               mun_destAlcorcón\n",
      "mun_destBraojos                                                 mun_destBraojos\n",
      "`mun_destTorres de la Alameda`                   `mun_destTorres de la Alameda`\n",
      "mun_destTorrelaguna                                         mun_destTorrelaguna\n",
      "pais_orig_cod136                                               pais_orig_cod136\n",
      "`mun_destVillanueva del Pardillo`             `mun_destVillanueva del Pardillo`\n",
      "`mun_destVillar del Olmo`                             `mun_destVillar del Olmo`\n",
      "mun_destLoeches                                                 mun_destLoeches\n",
      "mun_destVillamanta                                           mun_destVillamanta\n",
      "mun_destVillamantilla                                     mun_destVillamantilla\n",
      "mun_destLeganés                                                 mun_destLeganés\n",
      "mun_destParla                                                     mun_destParla\n",
      "pais_orig_cod348                                               pais_orig_cod348\n",
      "mun_destValdemaqueda                                       mun_destValdemaqueda\n",
      "mun_destValdeavero                                           mun_destValdeavero\n",
      "pais_orig_cod245                                               pais_orig_cod245\n",
      "mun_destValdepiélagos                                     mun_destValdepiélagos\n",
      "mun_destArroyomolinos                                     mun_destArroyomolinos\n",
      "pais_orig_cod341                                               pais_orig_cod341\n",
      "`mun_destBuitrago del Lozoya`                     `mun_destBuitrago del Lozoya`\n",
      "mun_destMoralzarzal                                         mun_destMoralzarzal\n",
      "`mun_destValverde de Alcalá`                       `mun_destValverde de Alcalá`\n",
      "pais_orig_cod131                                               pais_orig_cod131\n",
      "pais_orig_cod143                                               pais_orig_cod143\n",
      "`mun_destSan Fernando de Henares`             `mun_destSan Fernando de Henares`\n",
      "`mun_destSan Martín de la Vega`                 `mun_destSan Martín de la Vega`\n",
      "pais_orig_cod347                                               pais_orig_cod347\n",
      "pais_orig_cod323                                               pais_orig_cod323\n",
      "`mun_destMolar, El`                                         `mun_destMolar, El`\n",
      "mun_destMeco                                                       mun_destMeco\n",
      "mun_destRibatejada                                           mun_destRibatejada\n",
      "pais_orig_cod326                                               pais_orig_cod326\n",
      "pais_orig_cod345                                               pais_orig_cod345\n",
      "`mun_destPozuelo del Rey`                             `mun_destPozuelo del Rey`\n",
      "`mun_destEscorial, El`                                   `mun_destEscorial, El`\n",
      "pais_orig_cod221                                               pais_orig_cod221\n",
      "`mun_destColmenar Viejo`                               `mun_destColmenar Viejo`\n",
      "`mun_destSantos de la Humosa, Los`           `mun_destSantos de la Humosa, Los`\n",
      "pais_orig_cod414                                               pais_orig_cod414\n",
      "mun_destValdelaguna                                         mun_destValdelaguna\n",
      "`mun_destSan Martín de Valdeiglesias`     `mun_destSan Martín de Valdeiglesias`\n",
      "mun_destGalapagar                                             mun_destGalapagar\n",
      "pais_orig_cod409                                               pais_orig_cod409\n",
      "pais_orig_cod032                                               pais_orig_cod032\n",
      "mun_destVenturada                                             mun_destVenturada\n",
      "pais_orig_cod432                                               pais_orig_cod432\n",
      "pais_orig_cod411                                               pais_orig_cod411\n",
      "pais_orig_cod420                                               pais_orig_cod420\n",
      "pais_orig_cod413                                               pais_orig_cod413\n",
      "pais_orig_cod321                                               pais_orig_cod321\n",
      "pais_orig_cod138                                               pais_orig_cod138\n",
      "`mun_destPuebla de la Sierra`                     `mun_destPuebla de la Sierra`\n",
      "pais_orig_cod144                                               pais_orig_cod144\n",
      "`mun_destVelilla de San Antonio`               `mun_destVelilla de San Antonio`\n",
      "pais_orig_cod157                                               pais_orig_cod157\n",
      "pais_orig_cod434                                               pais_orig_cod434\n",
      "pais_orig_cod239                                               pais_orig_cod239\n",
      "pais_orig_cod437                                               pais_orig_cod437\n",
      "mun_destTielmes                                                 mun_destTielmes\n",
      "`mun_destVilla del Prado`                             `mun_destVilla del Prado`\n",
      "`mun_destPelayos de la Presa`                     `mun_destPelayos de la Presa`\n",
      "mun_destVillalbilla                                         mun_destVillalbilla\n",
      "mun_destCenicientos                                         mun_destCenicientos\n",
      "pais_orig_cod501                                               pais_orig_cod501\n",
      "pais_orig_cod217                                               pais_orig_cod217\n",
      "pais_orig_cod319                                               pais_orig_cod319\n",
      "pais_orig_cod234                                               pais_orig_cod234\n",
      "`mun_destVillarejo de Salvanés`                 `mun_destVillarejo de Salvanés`\n",
      "pais_orig_cod174                                               pais_orig_cod174\n",
      "pais_orig_cod230                                               pais_orig_cod230\n",
      "`mun_destValdetorres de Jarama`                 `mun_destValdetorres de Jarama`\n",
      "`mun_destValdeolmos-Alalpardo`                   `mun_destValdeolmos-Alalpardo`\n",
      "`mun_destHumanes de Madrid`                         `mun_destHumanes de Madrid`\n",
      "pais_orig_cod248                                               pais_orig_cod248\n",
      "`mun_destPozuelo de Alarcón`                       `mun_destPozuelo de Alarcón`\n",
      "mun_destAnchuelo                                               mun_destAnchuelo\n",
      "pais_orig_cod314                                               pais_orig_cod314\n",
      "pais_orig_cod426                                               pais_orig_cod426\n",
      "`mun_destSevilla la Nueva`                           `mun_destSevilla la Nueva`\n",
      "`mun_destCadalso de los Vidrios`               `mun_destCadalso de los Vidrios`\n",
      "mun_destValdemanco                                           mun_destValdemanco\n",
      "pais_orig_cod250                                               pais_orig_cod250\n",
      "pais_orig_cod050                                               pais_orig_cod050\n",
      "`mun_destSan Lorenzo de El Escorial`       `mun_destSan Lorenzo de El Escorial`\n",
      "pais_orig_cod112                                               pais_orig_cod112\n",
      "`mun_destSanta María de la Alameda`         `mun_destSanta María de la Alameda`\n",
      "pais_orig_cod227                                               pais_orig_cod227\n",
      "`mun_destRivas-Vaciamadrid`                         `mun_destRivas-Vaciamadrid`\n",
      "pais_orig_cod137                                               pais_orig_cod137\n",
      "`mun_destNuevo Baztán`                                   `mun_destNuevo Baztán`\n",
      "pais_orig_cod213                                               pais_orig_cod213\n",
      "pais_orig_cod317                                               pais_orig_cod317\n",
      "mun_destRedueña                                                 mun_destRedueña\n",
      "pais_orig_cod504                                               pais_orig_cod504\n",
      "mun_destMadrid                                                   mun_destMadrid\n",
      "pais_orig_cod111                                               pais_orig_cod111\n",
      "mun_destCanencia                                               mun_destCanencia\n",
      "pais_orig_cod412                                               pais_orig_cod412\n",
      "mun_destValdilecha                                           mun_destValdilecha\n",
      "pais_orig_cod146                                               pais_orig_cod146\n",
      "pais_orig_cod410                                               pais_orig_cod410\n",
      "pais_orig_cod236                                               pais_orig_cod236\n",
      "pais_orig_cod203                                               pais_orig_cod203\n",
      "`mun_destCollado Villalba`                           `mun_destCollado Villalba`\n",
      "pais_orig_cod324                                               pais_orig_cod324\n",
      "pais_orig_cod141                                               pais_orig_cod141\n",
      "mun_destGascones                                               mun_destGascones\n",
      "pais_orig_cod142                                               pais_orig_cod142\n",
      "pais_orig_cod224                                               pais_orig_cod224\n",
      "pais_orig_cod118                                               pais_orig_cod118\n",
      "mun_destAlpedrete                                             mun_destAlpedrete\n",
      "`mun_destCubas de la Sagra`                         `mun_destCubas de la Sagra`\n",
      "`mun_destÁlamo, El`                                         `mun_destÁlamo, El`\n",
      "mun_destNavalagamella                                     mun_destNavalagamella\n",
      "`mun_destRobledo de Chavela`                       `mun_destRobledo de Chavela`\n",
      "`mun_destBelmonte de Tajo`                           `mun_destBelmonte de Tajo`\n",
      "mun_destSantorcaz                                             mun_destSantorcaz\n",
      "mun_destLozoya                                                   mun_destLozoya\n",
      "pais_orig_cod403                                               pais_orig_cod403\n",
      "mun_destValdaracete                                         mun_destValdaracete\n",
      "mun_destNavalcarnero                                       mun_destNavalcarnero\n",
      "`mun_destHorcajuelo de la Sierra`             `mun_destHorcajuelo de la Sierra`\n",
      "`mun_destColmenar del Arroyo`                     `mun_destColmenar del Arroyo`\n",
      "pais_orig_cod416                                               pais_orig_cod416\n",
      "pais_orig_cod139                                               pais_orig_cod139\n",
      "`mun_destSerranillos del Valle`                 `mun_destSerranillos del Valle`\n",
      "`mun_destVillamanrique de Tajo`                 `mun_destVillamanrique de Tajo`\n",
      "`mun_destVillanueva de la Cañada`             `mun_destVillanueva de la Cañada`\n",
      "mun_destAlgete                                                   mun_destAlgete\n",
      "pais_orig_cod443                                               pais_orig_cod443\n",
      "pais_orig_cod202                                               pais_orig_cod202\n",
      "pais_orig_cod421                                               pais_orig_cod421\n",
      "pais_orig_cod114                                               pais_orig_cod114\n",
      "pais_orig_cod427                                               pais_orig_cod427\n",
      "pais_orig_cod252                                               pais_orig_cod252\n",
      "`mun_destArganda del Rey`                             `mun_destArganda del Rey`\n",
      "mun_destRascafría                                             mun_destRascafría\n",
      "mun_destTitulcia                                               mun_destTitulcia\n",
      "`mun_destPerales de Tajuña`                         `mun_destPerales de Tajuña`\n",
      "mun_destNavacerrada                                         mun_destNavacerrada\n",
      "mun_destRobregordo                                           mun_destRobregordo\n",
      "mun_destMajadahonda                                         mun_destMajadahonda\n",
      "pais_orig_cod435                                               pais_orig_cod435\n",
      "mun_destCarabaña                                               mun_destCarabaña\n",
      "pais_orig_cod101                                               pais_orig_cod101\n",
      "pais_orig_cod104                                               pais_orig_cod104\n",
      "pais_orig_cod425                                               pais_orig_cod425\n",
      "`mun_destCamarma de Esteruelas`                 `mun_destCamarma de Esteruelas`\n",
      "pais_orig_cod148                                               pais_orig_cod148\n",
      "`mun_destManzanares el Real`                       `mun_destManzanares el Real`\n",
      "`mun_destTorrejón de Ardoz`                         `mun_destTorrejón de Ardoz`\n",
      "`mun_destMiraflores de la Sierra`             `mun_destMiraflores de la Sierra`\n",
      "pais_orig_cod418                                               pais_orig_cod418\n",
      "pais_orig_cod147                                               pais_orig_cod147\n",
      "`mun_destCollado Mediano`                             `mun_destCollado Mediano`\n",
      "pais_orig_cod218                                               pais_orig_cod218\n",
      "pais_orig_cod106                                               pais_orig_cod106\n",
      "pais_orig_cod145                                               pais_orig_cod145\n",
      "mun_destPedrezuela                                           mun_destPedrezuela\n",
      "mun_destCoslada                                                 mun_destCoslada\n",
      "pais_orig_cod211                                               pais_orig_cod211\n",
      "mun_destGriñón                                                   mun_destGriñón\n",
      "pais_orig_cod322                                               pais_orig_cod322\n",
      "mun_destColmenarejo                                         mun_destColmenarejo\n",
      "pais_orig_cod033                                               pais_orig_cod033\n",
      "pais_orig_cod442                                               pais_orig_cod442\n",
      "mun_destPinto                                                     mun_destPinto\n",
      "`mun_destHorcajo de la Sierra-Aoslos`     `mun_destHorcajo de la Sierra-Aoslos`\n",
      "mun_destTorrelodones                                       mun_destTorrelodones\n",
      "pais_orig_cod243                                               pais_orig_cod243\n",
      "pais_orig_cod117                                               pais_orig_cod117\n",
      "mun_destCercedilla                                           mun_destCercedilla\n",
      "mun_destAranjuez                                               mun_destAranjuez\n",
      "pais_orig_cod156                                               pais_orig_cod156\n",
      "`mun_destTorrejón de Velasco`                     `mun_destTorrejón de Velasco`\n",
      "`mun_destFuente el Saz de Jarama`             `mun_destFuente el Saz de Jarama`\n",
      "`mun_destGarganta de los Montes`               `mun_destGarganta de los Montes`\n",
      "`mun_destNavas del Rey`                                 `mun_destNavas del Rey`\n",
      "`mun_destHoyo de Manzanares`                       `mun_destHoyo de Manzanares`\n",
      "`mun_destMoraleja de Enmedio`                     `mun_destMoraleja de Enmedio`\n",
      "`mun_destMejorada del Campo`                       `mun_destMejorada del Campo`\n",
      "`mun_destCabanillas de la Sierra`             `mun_destCabanillas de la Sierra`\n",
      "`mun_destSan Sebastián de los Reyes`       `mun_destSan Sebastián de los Reyes`\n",
      "`mun_destSerna del Monte, La`                     `mun_destSerna del Monte, La`\n",
      "`mun_destParacuellos de Jarama`                 `mun_destParacuellos de Jarama`\n",
      "mun_destEstremera                                             mun_destEstremera\n",
      "mun_destCiempozuelos                                       mun_destCiempozuelos\n",
      "mun_destBustarviejo                                         mun_destBustarviejo\n",
      "mun_destBrunete                                                 mun_destBrunete\n",
      "`mun_destAldea del Fresno`                           `mun_destAldea del Fresno`\n",
      "mun_destValdemoro                                             mun_destValdemoro\n",
      "pais_orig_cod116                                               pais_orig_cod116\n",
      "pais_orig_cod351                                               pais_orig_cod351\n",
      "`mun_destOrusco de Tajuña`                           `mun_destOrusco de Tajuña`\n",
      "mun_destQuijorna                                               mun_destQuijorna\n",
      "`mun_destBoalo, El`                                         `mun_destBoalo, El`\n",
      "`mun_destMorata de Tajuña`                           `mun_destMorata de Tajuña`\n",
      "pais_orig_cod208                                               pais_orig_cod208\n",
      "`mes2019-08`                                                       `mes2019-08`\n",
      "`mun_destFresno de Torote`                           `mun_destFresno de Torote`\n",
      "pais_orig_cod031                                               pais_orig_cod031\n",
      "mun_destSomosierra                                           mun_destSomosierra\n",
      "pais_orig_cod499                                               pais_orig_cod499\n",
      "mun_destCobeña                                                   mun_destCobeña\n",
      "mun_destVillaconejos                                       mun_destVillaconejos\n",
      "`mun_destFuentidueña de Tajo`                     `mun_destFuentidueña de Tajo`\n",
      "`mun_destRozas de Madrid, Las`                   `mun_destRozas de Madrid, Las`\n",
      "`mun_destMolinos, Los`                                   `mun_destMolinos, Los`\n",
      "pais_orig_cod011                                               pais_orig_cod011\n",
      "`mun_destCabrera, La`                                     `mun_destCabrera, La`\n",
      "pais_orig_cod010                                               pais_orig_cod010\n",
      "`mun_destDaganzo de Arriba`                         `mun_destDaganzo de Arriba`\n",
      "pais_orig_cod402                                               pais_orig_cod402\n",
      "`mun_destPezuela de las Torres`                 `mun_destPezuela de las Torres`\n",
      "`mun_destTalamanca de Jarama`                     `mun_destTalamanca de Jarama`\n",
      "`mes2019-09`                                                       `mes2019-09`\n",
      "mun_destMóstoles                                               mun_destMóstoles\n",
      "pais_orig_cod135                                               pais_orig_cod135\n",
      "mun_destBatres                                                   mun_destBatres\n",
      "`mun_destBecerril de la Sierra`                 `mun_destBecerril de la Sierra`\n",
      "`mun_destVellón, El`                                       `mun_destVellón, El`\n",
      "mun_destCasarrubuelos                                     mun_destCasarrubuelos\n",
      "mun_destPatones                                                 mun_destPatones\n",
      "`mun_destCampo Real`                                       `mun_destCampo Real`\n",
      "pais_orig_cod228                                               pais_orig_cod228\n",
      "is_trainTRUE                                                       is_trainTRUE\n",
      "`mun_destPinilla del Valle`                         `mun_destPinilla del Valle`\n",
      "pais_orig_cod020                                               pais_orig_cod020\n",
      "`mun_destBerrueco, El`                                   `mun_destBerrueco, El`\n",
      "`mun_destColmenar de Oreja`                         `mun_destColmenar de Oreja`\n",
      "pais_orig_cod030                                               pais_orig_cod030\n",
      "`mun_destGuadalix de la Sierra`                 `mun_destGuadalix de la Sierra`\n",
      "pais_orig_cod315                                               pais_orig_cod315\n",
      "pais_orig_cod231                                               pais_orig_cod231\n",
      "pais_orig_cod040                                               pais_orig_cod040\n",
      "mun_destChinchón                                               mun_destChinchón\n",
      "pais_orig_cod350                                               pais_orig_cod350\n",
      "pais_orig_cod220                                               pais_orig_cod220\n",
      "mun_dest_cod                                                       mun_dest_cod\n",
      "mun_destGuadarrama                                           mun_destGuadarrama\n",
      "turistas                                                               turistas\n",
      "                                          Coefficient AbsCoefficient\n",
      "gasto                                    1.000000e+00   1.000000e+00\n",
      "(Intercept)                              1.500023e-12   1.500023e-12\n",
      "pais_orig_cod407                         9.531388e-13   9.531388e-13\n",
      "pais_orig_cod408                         6.826868e-13   6.826868e-13\n",
      "pais_orig_cod132                         6.245194e-13   6.245194e-13\n",
      "pais_orig_cod343                         2.982652e-13   2.982652e-13\n",
      "pais_orig_cod124                         2.755192e-13   2.755192e-13\n",
      "pais_orig_cod303                         2.341098e-13   2.341098e-13\n",
      "pais_orig_cod302                         2.220644e-13   2.220644e-13\n",
      "`mes2022-05`                             1.980046e-13   1.980046e-13\n",
      "`mes2022-06`                             1.975939e-13   1.975939e-13\n",
      "`mes2022-04`                             1.971833e-13   1.971833e-13\n",
      "pais_orig_cod122                        -1.788100e-13   1.788100e-13\n",
      "`mes2020-05`                             1.765688e-13   1.765688e-13\n",
      "`mes2020-06`                             1.753883e-13   1.753883e-13\n",
      "pais_orig_cod430                         1.745951e-13   1.745951e-13\n",
      "pais_orig_cod342                         1.710528e-13   1.710528e-13\n",
      "`mes2020-04`                             1.710219e-13   1.710219e-13\n",
      "`mes2021-05`                             1.634879e-13   1.634879e-13\n",
      "`mes2021-06`                             1.628699e-13   1.628699e-13\n",
      "`mes2021-04`                             1.621990e-13   1.621990e-13\n",
      "pais_orig_cod344                         1.559644e-13   1.559644e-13\n",
      "`mes2022-10`                             1.454963e-13   1.454963e-13\n",
      "pais_orig_cod436                         1.422493e-13   1.422493e-13\n",
      "`mes2022-08`                             1.416313e-13   1.416313e-13\n",
      "`mes2022-07`                             1.403799e-13   1.403799e-13\n",
      "`mes2022-09`                             1.399459e-13   1.399459e-13\n",
      "pais_orig_cod109                        -1.373865e-13   1.373865e-13\n",
      "pais_orig_cod128                         1.324804e-13   1.324804e-13\n",
      "pais_orig_cod415                         1.177717e-13   1.177717e-13\n",
      "pais_orig_cod110                        -1.160023e-13   1.160023e-13\n",
      "`mes2020-12`                             9.683792e-14   9.683792e-14\n",
      "`mes2020-10`                             9.554032e-14   9.554032e-14\n",
      "`mes2020-11`                             9.504938e-14   9.504938e-14\n",
      "`mes2021-10`                             9.281135e-14   9.281135e-14\n",
      "pais_orig_cod301                         9.222564e-14   9.222564e-14\n",
      "`mes2021-11`                             9.193031e-14   9.193031e-14\n",
      "`mes2020-07`                             9.122452e-14   9.122452e-14\n",
      "`mes2020-09`                             8.997811e-14   8.997811e-14\n",
      "`mes2020-08`                             8.964076e-14   8.964076e-14\n",
      "`mes2021-12`                             8.920636e-14   8.920636e-14\n",
      "`mes2019-10`                             8.884447e-14   8.884447e-14\n",
      "`mes2019-11`                             8.790509e-14   8.790509e-14\n",
      "pais_orig_cod125                         8.761933e-14   8.761933e-14\n",
      "pais_orig_cod154                         8.650750e-14   8.650750e-14\n",
      "pais_orig_cod115                        -8.580903e-14   8.580903e-14\n",
      "`mes2019-12`                             8.548193e-14   8.548193e-14\n",
      "pais_orig_cod107                        -8.491285e-14   8.491285e-14\n",
      "`mes2022-03`                             8.327821e-14   8.327821e-14\n",
      "`mes2022-01`                             8.295337e-14   8.295337e-14\n",
      "`mes2022-02`                             8.269542e-14   8.269542e-14\n",
      "`mes2021-03`                             7.514188e-14   7.514188e-14\n",
      "`mes2021-02`                             7.474872e-14   7.474872e-14\n",
      "`mes2021-01`                             7.189319e-14   7.189319e-14\n",
      "pais_orig_cod120                         6.841746e-14   6.841746e-14\n",
      "pais_orig_cod340                        -5.735419e-14   5.735419e-14\n",
      "pais_orig_cod121                        -5.299039e-14   5.299039e-14\n",
      "`mes2021-08`                             4.843922e-14   4.843922e-14\n",
      "`mes2021-09`                             4.825460e-14   4.825460e-14\n",
      "`mes2021-07`                             4.678022e-14   4.678022e-14\n",
      "pais_orig_cod123                         4.302493e-14   4.302493e-14\n",
      "pais_orig_cod103                        -3.693480e-14   3.693480e-14\n",
      "`mun_destTres Cantos`                    3.172485e-14   3.172485e-14\n",
      "`mun_destPuentes Viejas`                 3.015047e-14   3.015047e-14\n",
      "pais_orig_cod102                        -2.956676e-14   2.956676e-14\n",
      "`mun_destLozoyuela-Navas-Sieteiglesias`  2.700781e-14   2.700781e-14\n",
      "`mun_destOlmeda de las Fuentes`         -2.598507e-14   2.598507e-14\n",
      "`mun_destRozas de Puerto Real`          -2.544637e-14   2.544637e-14\n",
      "pais_orig_cod404                        -2.403072e-14   2.403072e-14\n",
      "pais_orig_cod424                        -2.398579e-14   2.398579e-14\n",
      "pais_orig_cod327                        -2.334943e-14   2.334943e-14\n",
      "pais_orig_cod433                        -2.324978e-14   2.324978e-14\n",
      "pais_orig_cod113                         2.204816e-14   2.204816e-14\n",
      "pais_orig_cod226                        -2.182810e-14   2.182810e-14\n",
      "pais_orig_cod233                        -2.181936e-14   2.181936e-14\n",
      "pais_orig_cod246                        -2.179447e-14   2.179447e-14\n",
      "pais_orig_cod204                        -2.177562e-14   2.177562e-14\n",
      "pais_orig_cod247                        -2.168978e-14   2.168978e-14\n",
      "pais_orig_cod215                        -2.151922e-14   2.151922e-14\n",
      "pais_orig_cod210                        -2.145479e-14   2.145479e-14\n",
      "pais_orig_cod229                         2.139955e-14   2.139955e-14\n",
      "pais_orig_cod502                        -2.072050e-14   2.072050e-14\n",
      "pais_orig_cod417                        -2.050403e-14   2.050403e-14\n",
      "`mun_destTorremocha de Jarama`          -1.790245e-14   1.790245e-14\n",
      "pais_orig_cod447                         1.733543e-14   1.733543e-14\n",
      "`mes2020-01`                            -1.352954e-14   1.352954e-14\n",
      "`mun_destAtazar, El`                    -1.345304e-14   1.345304e-14\n",
      "`mun_destTorrejón de la Calzada`         1.297678e-14   1.297678e-14\n",
      "`mun_destPiñuécar-Gandullas`             1.288647e-14   1.288647e-14\n",
      "`mun_destMontejo de la Sierra`          -1.249593e-14   1.249593e-14\n",
      "pais_orig_cod505                         1.213894e-14   1.213894e-14\n",
      "mun_destValdemorillo                     1.164045e-14   1.164045e-14\n",
      "pais_orig_cod401                         1.151374e-14   1.151374e-14\n",
      "`mes2020-03`                            -1.145490e-14   1.145490e-14\n",
      "`mes2020-02`                            -1.097810e-14   1.097810e-14\n",
      "mun_destChapinería                      -1.051300e-14   1.051300e-14\n",
      "`mun_destVillanueva de Perales`          9.999816e-15   9.999816e-15\n",
      "mun_destAlcobendas                      -9.838597e-15   9.838597e-15\n",
      "pais_orig_cod126                        -9.741149e-15   9.741149e-15\n",
      "`mun_destRobledillo de la Jara`         -9.028631e-15   9.028631e-15\n",
      "`mun_destAlcalá de Henares`             -8.868132e-15   8.868132e-15\n",
      "pais_orig_cod201                         8.679686e-15   8.679686e-15\n",
      "mun_destNavalafuente                    -8.569918e-15   8.569918e-15\n",
      "mun_destCorpa                           -8.527882e-15   8.527882e-15\n",
      "`mun_destVillaviciosa de Odón`           8.451626e-15   8.451626e-15\n",
      "`mun_destBoadilla del Monte`            -8.142801e-15   8.142801e-15\n",
      "pais_orig_cod158                         8.136762e-15   8.136762e-15\n",
      "`mun_destFresnedillas de la Oliva`      -7.936679e-15   7.936679e-15\n",
      "mun_destAmbite                          -7.318108e-15   7.318108e-15\n",
      "mun_destGetafe                          -7.108653e-15   7.108653e-15\n",
      "`mun_destSan Agustín del Guadalix`       7.091589e-15   7.091589e-15\n",
      "`mun_destSoto del Real`                  6.838919e-15   6.838919e-15\n",
      "`mun_destNavarredonda y San Mamés`       6.614831e-15   6.614831e-15\n",
      "`mun_destPrádena del Rincón`            -6.589327e-15   6.589327e-15\n",
      "mun_destFuenlabrada                     -6.509976e-15   6.509976e-15\n",
      "`mun_destBerzosa del Lozoya`            -6.482617e-15   6.482617e-15\n",
      "`mun_destBrea de Tajo`                  -6.385742e-15   6.385742e-15\n",
      "pais_orig_cod249                        -6.280186e-15   6.280186e-15\n",
      "mun_destAlcorcón                        -6.275233e-15   6.275233e-15\n",
      "mun_destBraojos                          6.245561e-15   6.245561e-15\n",
      "`mun_destTorres de la Alameda`           6.110399e-15   6.110399e-15\n",
      "mun_destTorrelaguna                      6.090656e-15   6.090656e-15\n",
      "pais_orig_cod136                         6.054519e-15   6.054519e-15\n",
      "`mun_destVillanueva del Pardillo`        5.970168e-15   5.970168e-15\n",
      "`mun_destVillar del Olmo`                5.959634e-15   5.959634e-15\n",
      "mun_destLoeches                          5.844337e-15   5.844337e-15\n",
      "mun_destVillamanta                       5.809977e-15   5.809977e-15\n",
      "mun_destVillamantilla                   -5.799414e-15   5.799414e-15\n",
      "mun_destLeganés                         -5.720684e-15   5.720684e-15\n",
      "mun_destParla                           -5.604178e-15   5.604178e-15\n",
      "pais_orig_cod348                         5.535770e-15   5.535770e-15\n",
      "mun_destValdemaqueda                     5.515891e-15   5.515891e-15\n",
      "mun_destValdeavero                       5.464974e-15   5.464974e-15\n",
      "pais_orig_cod245                        -5.414903e-15   5.414903e-15\n",
      "mun_destValdepiélagos                   -5.395649e-15   5.395649e-15\n",
      "mun_destArroyomolinos                    5.377435e-15   5.377435e-15\n",
      "pais_orig_cod341                         5.376937e-15   5.376937e-15\n",
      "`mun_destBuitrago del Lozoya`           -5.366091e-15   5.366091e-15\n",
      "mun_destMoralzarzal                      5.207454e-15   5.207454e-15\n",
      "`mun_destValverde de Alcalá`            -5.184477e-15   5.184477e-15\n",
      "pais_orig_cod131                         5.174242e-15   5.174242e-15\n",
      "pais_orig_cod143                         5.157150e-15   5.157150e-15\n",
      "`mun_destSan Fernando de Henares`        5.156212e-15   5.156212e-15\n",
      "`mun_destSan Martín de la Vega`          5.136978e-15   5.136978e-15\n",
      "pais_orig_cod347                         5.088763e-15   5.088763e-15\n",
      "pais_orig_cod323                         5.071824e-15   5.071824e-15\n",
      "`mun_destMolar, El`                      5.014793e-15   5.014793e-15\n",
      "mun_destMeco                             5.013733e-15   5.013733e-15\n",
      "mun_destRibatejada                       5.002005e-15   5.002005e-15\n",
      "pais_orig_cod326                         4.981122e-15   4.981122e-15\n",
      "pais_orig_cod345                         4.939654e-15   4.939654e-15\n",
      "`mun_destPozuelo del Rey`                4.839658e-15   4.839658e-15\n",
      "`mun_destEscorial, El`                   4.751352e-15   4.751352e-15\n",
      "pais_orig_cod221                         4.716562e-15   4.716562e-15\n",
      "`mun_destColmenar Viejo`                -4.677600e-15   4.677600e-15\n",
      "`mun_destSantos de la Humosa, Los`       4.664939e-15   4.664939e-15\n",
      "pais_orig_cod414                         4.664733e-15   4.664733e-15\n",
      "mun_destValdelaguna                     -4.631033e-15   4.631033e-15\n",
      "`mun_destSan Martín de Valdeiglesias`    4.619885e-15   4.619885e-15\n",
      "mun_destGalapagar                       -4.609919e-15   4.609919e-15\n",
      "pais_orig_cod409                         4.609339e-15   4.609339e-15\n",
      "pais_orig_cod032                         4.585332e-15   4.585332e-15\n",
      "mun_destVenturada                        4.582421e-15   4.582421e-15\n",
      "pais_orig_cod432                         4.578884e-15   4.578884e-15\n",
      "pais_orig_cod411                         4.569923e-15   4.569923e-15\n",
      "pais_orig_cod420                         4.540504e-15   4.540504e-15\n",
      "pais_orig_cod413                         4.508758e-15   4.508758e-15\n",
      "pais_orig_cod321                         4.483174e-15   4.483174e-15\n",
      "pais_orig_cod138                         4.432057e-15   4.432057e-15\n",
      "`mun_destPuebla de la Sierra`            4.394739e-15   4.394739e-15\n",
      "pais_orig_cod144                         4.369957e-15   4.369957e-15\n",
      "`mun_destVelilla de San Antonio`         4.361566e-15   4.361566e-15\n",
      "pais_orig_cod157                         4.334560e-15   4.334560e-15\n",
      "pais_orig_cod434                        -4.325756e-15   4.325756e-15\n",
      "pais_orig_cod239                         4.287717e-15   4.287717e-15\n",
      "pais_orig_cod437                         4.242342e-15   4.242342e-15\n",
      "mun_destTielmes                          4.242086e-15   4.242086e-15\n",
      "`mun_destVilla del Prado`                4.206238e-15   4.206238e-15\n",
      "`mun_destPelayos de la Presa`            4.181054e-15   4.181054e-15\n",
      "mun_destVillalbilla                      4.127229e-15   4.127229e-15\n",
      "mun_destCenicientos                      4.120636e-15   4.120636e-15\n",
      "pais_orig_cod501                        -4.118660e-15   4.118660e-15\n",
      "pais_orig_cod217                         4.082655e-15   4.082655e-15\n",
      "pais_orig_cod319                         4.057087e-15   4.057087e-15\n",
      "pais_orig_cod234                         4.004202e-15   4.004202e-15\n",
      "`mun_destVillarejo de Salvanés`          3.997301e-15   3.997301e-15\n",
      "pais_orig_cod174                         3.991126e-15   3.991126e-15\n",
      "pais_orig_cod230                         3.970256e-15   3.970256e-15\n",
      "`mun_destValdetorres de Jarama`          3.951657e-15   3.951657e-15\n",
      "`mun_destValdeolmos-Alalpardo`           3.941543e-15   3.941543e-15\n",
      "`mun_destHumanes de Madrid`              3.932447e-15   3.932447e-15\n",
      "pais_orig_cod248                         3.917621e-15   3.917621e-15\n",
      "`mun_destPozuelo de Alarcón`            -3.894385e-15   3.894385e-15\n",
      "mun_destAnchuelo                        -3.838302e-15   3.838302e-15\n",
      "pais_orig_cod314                         3.831094e-15   3.831094e-15\n",
      "pais_orig_cod426                         3.826800e-15   3.826800e-15\n",
      "`mun_destSevilla la Nueva`               3.812345e-15   3.812345e-15\n",
      "`mun_destCadalso de los Vidrios`        -3.808306e-15   3.808306e-15\n",
      "mun_destValdemanco                       3.797368e-15   3.797368e-15\n",
      "pais_orig_cod250                        -3.782462e-15   3.782462e-15\n",
      "pais_orig_cod050                         3.749679e-15   3.749679e-15\n",
      "`mun_destSan Lorenzo de El Escorial`     3.743605e-15   3.743605e-15\n",
      "pais_orig_cod112                         3.743182e-15   3.743182e-15\n",
      "`mun_destSanta María de la Alameda`      3.740839e-15   3.740839e-15\n",
      "pais_orig_cod227                         3.736928e-15   3.736928e-15\n",
      "`mun_destRivas-Vaciamadrid`              3.731989e-15   3.731989e-15\n",
      "pais_orig_cod137                         3.687214e-15   3.687214e-15\n",
      "`mun_destNuevo Baztán`                   3.682150e-15   3.682150e-15\n",
      "pais_orig_cod213                         3.673110e-15   3.673110e-15\n",
      "pais_orig_cod317                         3.641800e-15   3.641800e-15\n",
      "mun_destRedueña                          3.641207e-15   3.641207e-15\n",
      "pais_orig_cod504                        -3.558154e-15   3.558154e-15\n",
      "mun_destMadrid                          -3.553047e-15   3.553047e-15\n",
      "pais_orig_cod111                         3.539426e-15   3.539426e-15\n",
      "mun_destCanencia                        -3.518442e-15   3.518442e-15\n",
      "pais_orig_cod412                         3.491612e-15   3.491612e-15\n",
      "mun_destValdilecha                       3.491063e-15   3.491063e-15\n",
      "pais_orig_cod146                         3.367645e-15   3.367645e-15\n",
      "pais_orig_cod410                         3.298937e-15   3.298937e-15\n",
      "pais_orig_cod236                         3.298514e-15   3.298514e-15\n",
      "pais_orig_cod203                         3.291738e-15   3.291738e-15\n",
      "`mun_destCollado Villalba`               3.277444e-15   3.277444e-15\n",
      "pais_orig_cod324                         3.250486e-15   3.250486e-15\n",
      "pais_orig_cod141                         3.231173e-15   3.231173e-15\n",
      "mun_destGascones                         3.193946e-15   3.193946e-15\n",
      "pais_orig_cod142                         3.176564e-15   3.176564e-15\n",
      "pais_orig_cod224                         3.147221e-15   3.147221e-15\n",
      "pais_orig_cod118                         3.143971e-15   3.143971e-15\n",
      "mun_destAlpedrete                       -3.124229e-15   3.124229e-15\n",
      "`mun_destCubas de la Sagra`             -3.118097e-15   3.118097e-15\n",
      "`mun_destÁlamo, El`                     -3.090847e-15   3.090847e-15\n",
      "mun_destNavalagamella                    3.088518e-15   3.088518e-15\n",
      "`mun_destRobledo de Chavela`             3.087642e-15   3.087642e-15\n",
      "`mun_destBelmonte de Tajo`              -3.083777e-15   3.083777e-15\n",
      "mun_destSantorcaz                        3.083601e-15   3.083601e-15\n",
      "mun_destLozoya                           3.022280e-15   3.022280e-15\n",
      "pais_orig_cod403                         3.017139e-15   3.017139e-15\n",
      "mun_destValdaracete                      3.010877e-15   3.010877e-15\n",
      "mun_destNavalcarnero                     2.979666e-15   2.979666e-15\n",
      "`mun_destHorcajuelo de la Sierra`        2.950627e-15   2.950627e-15\n",
      "`mun_destColmenar del Arroyo`           -2.945062e-15   2.945062e-15\n",
      "pais_orig_cod416                         2.917411e-15   2.917411e-15\n",
      "pais_orig_cod139                         2.889318e-15   2.889318e-15\n",
      "`mun_destSerranillos del Valle`          2.883449e-15   2.883449e-15\n",
      "`mun_destVillamanrique de Tajo`         -2.879633e-15   2.879633e-15\n",
      "`mun_destVillanueva de la Cañada`        2.839857e-15   2.839857e-15\n",
      "mun_destAlgete                          -2.798937e-15   2.798937e-15\n",
      "pais_orig_cod443                         2.786570e-15   2.786570e-15\n",
      "pais_orig_cod202                         2.770686e-15   2.770686e-15\n",
      "pais_orig_cod421                         2.765949e-15   2.765949e-15\n",
      "pais_orig_cod114                         2.750564e-15   2.750564e-15\n",
      "pais_orig_cod427                         2.746515e-15   2.746515e-15\n",
      "pais_orig_cod252                        -2.742689e-15   2.742689e-15\n",
      "`mun_destArganda del Rey`               -2.731516e-15   2.731516e-15\n",
      "mun_destRascafría                        2.709957e-15   2.709957e-15\n",
      "mun_destTitulcia                        -2.700285e-15   2.700285e-15\n",
      "`mun_destPerales de Tajuña`              2.658312e-15   2.658312e-15\n",
      "mun_destNavacerrada                      2.604914e-15   2.604914e-15\n",
      "mun_destRobregordo                      -2.598091e-15   2.598091e-15\n",
      "mun_destMajadahonda                      2.576209e-15   2.576209e-15\n",
      "pais_orig_cod435                        -2.566726e-15   2.566726e-15\n",
      "mun_destCarabaña                         2.556334e-15   2.556334e-15\n",
      "pais_orig_cod101                         2.479349e-15   2.479349e-15\n",
      "pais_orig_cod104                         2.474719e-15   2.474719e-15\n",
      "pais_orig_cod425                         2.472175e-15   2.472175e-15\n",
      "`mun_destCamarma de Esteruelas`         -2.439424e-15   2.439424e-15\n",
      "pais_orig_cod148                         2.432449e-15   2.432449e-15\n",
      "`mun_destManzanares el Real`             2.393749e-15   2.393749e-15\n",
      "`mun_destTorrejón de Ardoz`              2.378903e-15   2.378903e-15\n",
      "`mun_destMiraflores de la Sierra`        2.225261e-15   2.225261e-15\n",
      "pais_orig_cod418                         2.155760e-15   2.155760e-15\n",
      "pais_orig_cod147                         2.150097e-15   2.150097e-15\n",
      "`mun_destCollado Mediano`                1.989437e-15   1.989437e-15\n",
      "pais_orig_cod218                         1.918729e-15   1.918729e-15\n",
      "pais_orig_cod106                         1.905113e-15   1.905113e-15\n",
      "pais_orig_cod145                        -1.890727e-15   1.890727e-15\n",
      "mun_destPedrezuela                       1.887171e-15   1.887171e-15\n",
      "mun_destCoslada                          1.861183e-15   1.861183e-15\n",
      "pais_orig_cod211                         1.850583e-15   1.850583e-15\n",
      "mun_destGriñón                          -1.837849e-15   1.837849e-15\n",
      "pais_orig_cod322                        -1.835498e-15   1.835498e-15\n",
      "mun_destColmenarejo                      1.811361e-15   1.811361e-15\n",
      "pais_orig_cod033                         1.809646e-15   1.809646e-15\n",
      "pais_orig_cod442                         1.746580e-15   1.746580e-15\n",
      "mun_destPinto                           -1.693735e-15   1.693735e-15\n",
      "`mun_destHorcajo de la Sierra-Aoslos`   -1.691586e-15   1.691586e-15\n",
      "mun_destTorrelodones                    -1.676233e-15   1.676233e-15\n",
      "pais_orig_cod243                        -1.652783e-15   1.652783e-15\n",
      "pais_orig_cod117                         1.628035e-15   1.628035e-15\n",
      "mun_destCercedilla                       1.618853e-15   1.618853e-15\n",
      "mun_destAranjuez                        -1.604878e-15   1.604878e-15\n",
      "pais_orig_cod156                         1.590320e-15   1.590320e-15\n",
      "`mun_destTorrejón de Velasco`            1.580551e-15   1.580551e-15\n",
      "`mun_destFuente el Saz de Jarama`       -1.533841e-15   1.533841e-15\n",
      "`mun_destGarganta de los Montes`        -1.499691e-15   1.499691e-15\n",
      "`mun_destNavas del Rey`                  1.469781e-15   1.469781e-15\n",
      "`mun_destHoyo de Manzanares`            -1.459998e-15   1.459998e-15\n",
      "`mun_destMoraleja de Enmedio`            1.452222e-15   1.452222e-15\n",
      "`mun_destMejorada del Campo`             1.451261e-15   1.451261e-15\n",
      "`mun_destCabanillas de la Sierra`       -1.387142e-15   1.387142e-15\n",
      "`mun_destSan Sebastián de los Reyes`     1.375873e-15   1.375873e-15\n",
      "`mun_destSerna del Monte, La`           -1.319908e-15   1.319908e-15\n",
      "`mun_destParacuellos de Jarama`          1.315403e-15   1.315403e-15\n",
      "mun_destEstremera                       -1.306579e-15   1.306579e-15\n",
      "mun_destCiempozuelos                     1.290417e-15   1.290417e-15\n",
      "mun_destBustarviejo                     -1.278876e-15   1.278876e-15\n",
      "mun_destBrunete                         -1.275024e-15   1.275024e-15\n",
      "`mun_destAldea del Fresno`              -1.242828e-15   1.242828e-15\n",
      "mun_destValdemoro                        1.215663e-15   1.215663e-15\n",
      "pais_orig_cod116                         1.210305e-15   1.210305e-15\n",
      "pais_orig_cod351                         1.186067e-15   1.186067e-15\n",
      "`mun_destOrusco de Tajuña`              -1.182348e-15   1.182348e-15\n",
      "mun_destQuijorna                         1.159929e-15   1.159929e-15\n",
      "`mun_destBoalo, El`                      1.099043e-15   1.099043e-15\n",
      "`mun_destMorata de Tajuña`              -1.063652e-15   1.063652e-15\n",
      "pais_orig_cod208                         9.933373e-16   9.933373e-16\n",
      "`mes2019-08`                             9.727684e-16   9.727684e-16\n",
      "`mun_destFresno de Torote`              -9.245952e-16   9.245952e-16\n",
      "pais_orig_cod031                         8.919194e-16   8.919194e-16\n",
      "mun_destSomosierra                       8.857891e-16   8.857891e-16\n",
      "pais_orig_cod499                         8.773773e-16   8.773773e-16\n",
      "mun_destCobeña                           8.474892e-16   8.474892e-16\n",
      "mun_destVillaconejos                    -8.437004e-16   8.437004e-16\n",
      "`mun_destFuentidueña de Tajo`           -8.371924e-16   8.371924e-16\n",
      "`mun_destRozas de Madrid, Las`           8.296797e-16   8.296797e-16\n",
      "`mun_destMolinos, Los`                   7.758026e-16   7.758026e-16\n",
      "pais_orig_cod011                        -7.680194e-16   7.680194e-16\n",
      "`mun_destCabrera, La`                   -7.297152e-16   7.297152e-16\n",
      "pais_orig_cod010                        -7.280556e-16   7.280556e-16\n",
      "`mun_destDaganzo de Arriba`             -7.045204e-16   7.045204e-16\n",
      "pais_orig_cod402                         6.952706e-16   6.952706e-16\n",
      "`mun_destPezuela de las Torres`          6.668149e-16   6.668149e-16\n",
      "`mun_destTalamanca de Jarama`           -6.148532e-16   6.148532e-16\n",
      "`mes2019-09`                            -5.976440e-16   5.976440e-16\n",
      "mun_destMóstoles                        -5.595758e-16   5.595758e-16\n",
      "pais_orig_cod135                        -5.536392e-16   5.536392e-16\n",
      "mun_destBatres                           5.393593e-16   5.393593e-16\n",
      "`mun_destBecerril de la Sierra`          5.250212e-16   5.250212e-16\n",
      "`mun_destVellón, El`                    -5.238241e-16   5.238241e-16\n",
      "mun_destCasarrubuelos                   -5.165058e-16   5.165058e-16\n",
      "mun_destPatones                          4.438733e-16   4.438733e-16\n",
      "`mun_destCampo Real`                     4.202284e-16   4.202284e-16\n",
      "pais_orig_cod228                         3.794717e-16   3.794717e-16\n",
      "is_trainTRUE                             3.635690e-16   3.635690e-16\n",
      "`mun_destPinilla del Valle`              3.418669e-16   3.418669e-16\n",
      "pais_orig_cod020                         3.363213e-16   3.363213e-16\n",
      "`mun_destBerrueco, El`                   3.330207e-16   3.330207e-16\n",
      "`mun_destColmenar de Oreja`             -3.240979e-16   3.240979e-16\n",
      "pais_orig_cod030                         3.179765e-16   3.179765e-16\n",
      "`mun_destGuadalix de la Sierra`         -3.066684e-16   3.066684e-16\n",
      "pais_orig_cod315                        -2.942145e-16   2.942145e-16\n",
      "pais_orig_cod231                        -2.452508e-16   2.452508e-16\n",
      "pais_orig_cod040                        -9.067528e-17   9.067528e-17\n",
      "mun_destChinchón                         8.543061e-17   8.543061e-17\n",
      "pais_orig_cod350                        -4.253820e-17   4.253820e-17\n",
      "pais_orig_cod220                        -3.768754e-17   3.768754e-17\n",
      "mun_dest_cod                            -3.413476e-17   3.413476e-17\n",
      "mun_destGuadarrama                      -3.209834e-17   3.209834e-17\n",
      "turistas                                 3.045596e-20   3.045596e-20\n"
     ]
    }
   ],
   "source": [
    "# install the necessary packages if not already installed\n",
    "if (!require(caret)) {\n",
    "  install.packages('caret')\n",
    "}\n",
    "\n",
    "# load the necessary packages\n",
    "library(caret)\n",
    "\n",
    "# create the model\n",
    "set.seed(123)\n",
    "train_control <- trainControl(method = \"cv\", number = 5)\n",
    "linear_model <- train(Target ~ ., data = data, method = \"lm\",\n",
    "                      trControl = train_control)\n",
    "\n",
    "# extract the coefficients\n",
    "coef <- summary(linear_model$finalModel)$coefficients\n",
    "\n",
    "# make a data frame of feature names and their corresponding coefficients\n",
    "feature_importance <- data.frame(Feature = rownames(coef), Coefficient = coef[, \"Estimate\"])\n",
    "\n",
    "# compute the absolute value of the coefficients\n",
    "feature_importance$AbsCoefficient <- abs(feature_importance$Coefficient)\n",
    "\n",
    "# sort the features by the absolute value of their coefficients in descending order\n",
    "feature_importance <- feature_importance[order(-feature_importance$AbsCoefficient), ]\n",
    "\n",
    "# print the feature importance\n",
    "print(feature_importance)"
   ]
  },
  {
   "cell_type": "markdown",
   "metadata": {
    "slideshow": {
     "slide_type": "slide"
    }
   },
   "source": [
    "### Logistic Regression Feature importance"
   ]
  },
  {
   "cell_type": "markdown",
   "metadata": {
    "ExecuteTime": {
     "end_time": "2021-01-05T19:05:13.591950Z",
     "start_time": "2021-01-05T19:05:13.121757Z"
    },
    "vscode": {
     "languageId": "r"
    }
   },
   "source": [
    "No aplica"
   ]
  },
  {
   "cell_type": "markdown",
   "metadata": {
    "slideshow": {
     "slide_type": "slide"
    }
   },
   "source": [
    "## Decision Tree Feature Importance"
   ]
  },
  {
   "cell_type": "markdown",
   "metadata": {
    "slideshow": {
     "slide_type": "slide"
    }
   },
   "source": [
    "### CART Regression Feature Importance"
   ]
  },
  {
   "cell_type": "code",
   "execution_count": 13,
   "metadata": {
    "ExecuteTime": {
     "end_time": "2021-01-05T19:13:00.753678Z",
     "start_time": "2021-01-05T19:12:59.572268Z"
    },
    "vscode": {
     "languageId": "r"
    }
   },
   "outputs": [
    {
     "name": "stdout",
     "output_type": "stream",
     "text": [
      "[1] 5.67630735 2.62202327 2.13426807 2.13426807 0.17940331 0.07349700 0.05738885\n",
      "[8] 0.00000000 0.00000000\n"
     ]
    }
   ],
   "source": [
    "# install the necessary packages if not already installed\n",
    "if (!require(rpart)) {\n",
    "  install.packages('rpart')\n",
    "}\n",
    "\n",
    "# load the necessary packages\n",
    "library(rpart)\n",
    "\n",
    "# fit the model\n",
    "cart_model <- rpart(Target ~ ., data = data, method = \"anova\")\n",
    "\n",
    "# compute feature importances\n",
    "importance <- as.data.frame(varImp(cart_model))\n",
    "\n",
    "# sort by importance\n",
    "importance <- importance[order(-importance$Overall), ]\n",
    "\n",
    "# print the feature importance\n",
    "print(importance)"
   ]
  },
  {
   "cell_type": "markdown",
   "metadata": {
    "slideshow": {
     "slide_type": "slide"
    }
   },
   "source": [
    "### CART Classification Feature Importance"
   ]
  },
  {
   "cell_type": "markdown",
   "metadata": {
    "ExecuteTime": {
     "end_time": "2021-01-05T19:14:06.226914Z",
     "start_time": "2021-01-05T19:14:05.926022Z"
    },
    "vscode": {
     "languageId": "r"
    }
   },
   "source": [
    "No aplica"
   ]
  },
  {
   "cell_type": "markdown",
   "metadata": {
    "slideshow": {
     "slide_type": "slide"
    }
   },
   "source": [
    "### Random Forest Regression Feature Importance"
   ]
  },
  {
   "cell_type": "markdown",
   "metadata": {},
   "source": [
    "ATENCIÓN: Este proceso es costoso en recursos."
   ]
  },
  {
   "cell_type": "code",
   "execution_count": 22,
   "metadata": {
    "ExecuteTime": {
     "end_time": "2021-01-05T19:16:11.587658Z",
     "start_time": "2021-01-05T19:16:10.537917Z"
    },
    "tags": [],
    "vscode": {
     "languageId": "r"
    }
   },
   "outputs": [
    {
     "name": "stdout",
     "output_type": "stream",
     "text": [
      "                    Feature   Importance\n",
      "gasto                 gasto 1.230075e+03\n",
      "pais_orig_cod pais_orig_cod 2.379278e+02\n",
      "pais_orig         pais_orig 1.543369e+02\n",
      "mes                     mes 9.618383e+01\n",
      "mun_dest_cod   mun_dest_cod 7.537540e+00\n",
      "mun_dest           mun_dest 6.805672e+00\n",
      "CMUN                   CMUN 4.384577e+00\n",
      "turistas           turistas 4.053388e+00\n",
      "is_train           is_train 1.930301e-02\n"
     ]
    }
   ],
   "source": [
    "# install the necessary packages if not already installed\n",
    "if (!require(randomForest)) {\n",
    "  install.packages('randomForest')\n",
    "}\n",
    "\n",
    "# load the necessary packages\n",
    "library(randomForest)\n",
    "\n",
    "# fit the model\n",
    "rf_model <- randomForest(Target ~ ., data = data, importance = TRUE)\n",
    "\n",
    "# get feature importances\n",
    "importance <- rf_model$importance\n",
    "\n",
    "# make a data frame of feature names and their corresponding importances\n",
    "feature_importance <- data.frame(Feature = rownames(importance), Importance = importance[,1]) # Adjust the index based on your requirement\n",
    "\n",
    "# sort the features by importance in descending order\n",
    "feature_importance <- feature_importance[order(-feature_importance$Importance), ]\n",
    "\n",
    "# print the feature importance\n",
    "print(feature_importance)"
   ]
  },
  {
   "cell_type": "code",
   "execution_count": 23,
   "metadata": {},
   "outputs": [
    {
     "data": {
      "text/html": [
       "<table class=\"dataframe\">\n",
       "<caption>A matrix: 9 × 2 of type dbl</caption>\n",
       "<thead>\n",
       "\t<tr><th></th><th scope=col>%IncMSE</th><th scope=col>IncNodePurity</th></tr>\n",
       "</thead>\n",
       "<tbody>\n",
       "\t<tr><th scope=row>mes</th><td>9.618383e+01</td><td> 3183867.92</td></tr>\n",
       "\t<tr><th scope=row>pais_orig_cod</th><td>2.379278e+02</td><td> 7095299.65</td></tr>\n",
       "\t<tr><th scope=row>pais_orig</th><td>1.543369e+02</td><td> 3684412.40</td></tr>\n",
       "\t<tr><th scope=row>mun_dest_cod</th><td>7.537540e+00</td><td>  121856.41</td></tr>\n",
       "\t<tr><th scope=row>mun_dest</th><td>6.805672e+00</td><td>  108354.79</td></tr>\n",
       "\t<tr><th scope=row>turistas</th><td>4.053388e+00</td><td>  161926.74</td></tr>\n",
       "\t<tr><th scope=row>CMUN</th><td>4.384577e+00</td><td>  114282.84</td></tr>\n",
       "\t<tr><th scope=row>gasto</th><td>1.230075e+03</td><td>29437663.42</td></tr>\n",
       "\t<tr><th scope=row>is_train</th><td>1.930301e-02</td><td>    6391.69</td></tr>\n",
       "</tbody>\n",
       "</table>\n"
      ],
      "text/latex": [
       "A matrix: 9 × 2 of type dbl\n",
       "\\begin{tabular}{r|ll}\n",
       "  & \\%IncMSE & IncNodePurity\\\\\n",
       "\\hline\n",
       "\tmes & 9.618383e+01 &  3183867.92\\\\\n",
       "\tpais\\_orig\\_cod & 2.379278e+02 &  7095299.65\\\\\n",
       "\tpais\\_orig & 1.543369e+02 &  3684412.40\\\\\n",
       "\tmun\\_dest\\_cod & 7.537540e+00 &   121856.41\\\\\n",
       "\tmun\\_dest & 6.805672e+00 &   108354.79\\\\\n",
       "\tturistas & 4.053388e+00 &   161926.74\\\\\n",
       "\tCMUN & 4.384577e+00 &   114282.84\\\\\n",
       "\tgasto & 1.230075e+03 & 29437663.42\\\\\n",
       "\tis\\_train & 1.930301e-02 &     6391.69\\\\\n",
       "\\end{tabular}\n"
      ],
      "text/markdown": [
       "\n",
       "A matrix: 9 × 2 of type dbl\n",
       "\n",
       "| <!--/--> | %IncMSE | IncNodePurity |\n",
       "|---|---|---|\n",
       "| mes | 9.618383e+01 |  3183867.92 |\n",
       "| pais_orig_cod | 2.379278e+02 |  7095299.65 |\n",
       "| pais_orig | 1.543369e+02 |  3684412.40 |\n",
       "| mun_dest_cod | 7.537540e+00 |   121856.41 |\n",
       "| mun_dest | 6.805672e+00 |   108354.79 |\n",
       "| turistas | 4.053388e+00 |   161926.74 |\n",
       "| CMUN | 4.384577e+00 |   114282.84 |\n",
       "| gasto | 1.230075e+03 | 29437663.42 |\n",
       "| is_train | 1.930301e-02 |     6391.69 |\n",
       "\n"
      ],
      "text/plain": [
       "              %IncMSE      IncNodePurity\n",
       "mes           9.618383e+01  3183867.92  \n",
       "pais_orig_cod 2.379278e+02  7095299.65  \n",
       "pais_orig     1.543369e+02  3684412.40  \n",
       "mun_dest_cod  7.537540e+00   121856.41  \n",
       "mun_dest      6.805672e+00   108354.79  \n",
       "turistas      4.053388e+00   161926.74  \n",
       "CMUN          4.384577e+00   114282.84  \n",
       "gasto         1.230075e+03 29437663.42  \n",
       "is_train      1.930301e-02     6391.69  "
      ]
     },
     "metadata": {},
     "output_type": "display_data"
    }
   ],
   "source": [
    "rf_model$importance"
   ]
  },
  {
   "cell_type": "markdown",
   "metadata": {
    "slideshow": {
     "slide_type": "slide"
    }
   },
   "source": [
    "### Random Forest Classification Feature Importance"
   ]
  },
  {
   "cell_type": "markdown",
   "metadata": {
    "ExecuteTime": {
     "end_time": "2021-01-05T19:17:16.936416Z",
     "start_time": "2021-01-05T19:17:16.319183Z"
    },
    "vscode": {
     "languageId": "r"
    }
   },
   "source": [
    "No aplica"
   ]
  },
  {
   "cell_type": "markdown",
   "metadata": {
    "slideshow": {
     "slide_type": "slide"
    }
   },
   "source": [
    "## Permutation Feature Importance"
   ]
  },
  {
   "cell_type": "markdown",
   "metadata": {
    "slideshow": {
     "slide_type": "slide"
    }
   },
   "source": [
    "### Permutation Feature Importance for Regression"
   ]
  },
  {
   "cell_type": "code",
   "execution_count": 25,
   "metadata": {
    "ExecuteTime": {
     "end_time": "2021-01-05T19:20:52.115927Z",
     "start_time": "2021-01-05T19:20:51.097436Z"
    },
    "vscode": {
     "languageId": "r"
    }
   },
   "outputs": [
    {
     "name": "stdout",
     "output_type": "stream",
     "text": [
      "                    Feature   Importance\n",
      "gasto                 gasto 1.221631e+03\n",
      "pais_orig_cod pais_orig_cod 2.361955e+02\n",
      "pais_orig         pais_orig 1.460621e+02\n",
      "mes                     mes 9.928514e+01\n",
      "mun_dest           mun_dest 4.998603e+00\n",
      "CMUN                   CMUN 4.874211e+00\n",
      "turistas           turistas 4.586304e+00\n",
      "mun_dest_cod   mun_dest_cod 4.228797e+00\n",
      "is_train           is_train 2.197512e-02\n"
     ]
    }
   ],
   "source": [
    "# install the necessary packages if not already installed\n",
    "if (!require(ranger)) {\n",
    "  install.packages('ranger')\n",
    "}\n",
    "\n",
    "# load the necessary packages\n",
    "library(ranger)\n",
    "\n",
    "# fit the model\n",
    "rf_model <- ranger(Target ~ ., data = data, importance = 'permutation')\n",
    "\n",
    "# get feature importances\n",
    "importance <- data.frame(Feature = names(rf_model$variable.importance), Importance = rf_model$variable.importance)\n",
    "\n",
    "# sort the features by importance in descending order\n",
    "importance <- importance[order(-importance$Importance), ]\n",
    "\n",
    "# print the feature importance\n",
    "print(importance)"
   ]
  },
  {
   "cell_type": "markdown",
   "metadata": {
    "slideshow": {
     "slide_type": "slide"
    }
   },
   "source": [
    "### Permutation Feature Importance for Classification"
   ]
  },
  {
   "cell_type": "markdown",
   "metadata": {
    "ExecuteTime": {
     "end_time": "2021-01-05T19:23:45.248360Z",
     "start_time": "2021-01-05T19:23:42.500254Z"
    },
    "vscode": {
     "languageId": "r"
    }
   },
   "source": [
    "No aplica"
   ]
  },
  {
   "cell_type": "markdown",
   "metadata": {
    "slideshow": {
     "slide_type": "slide"
    }
   },
   "source": [
    "## Evaluating a Logistic Regression model with feature selection."
   ]
  },
  {
   "cell_type": "markdown",
   "metadata": {
    "slideshow": {
     "slide_type": "slide"
    }
   },
   "source": [
    "### Evaluating with all selected features."
   ]
  },
  {
   "cell_type": "code",
   "execution_count": null,
   "metadata": {
    "ExecuteTime": {
     "end_time": "2021-01-05T19:31:42.181362Z",
     "start_time": "2021-01-05T19:31:42.065465Z"
    },
    "vscode": {
     "languageId": "r"
    }
   },
   "outputs": [],
   "source": []
  },
  {
   "cell_type": "markdown",
   "metadata": {
    "slideshow": {
     "slide_type": "slide"
    }
   },
   "source": [
    "### Evaluating with feature selection performed using feature importance."
   ]
  },
  {
   "cell_type": "markdown",
   "metadata": {},
   "source": [
    "<font color='tomato'>Select type of Feature Importance to use</font>"
   ]
  },
  {
   "cell_type": "code",
   "execution_count": null,
   "metadata": {
    "ExecuteTime": {
     "end_time": "2021-01-05T20:16:45.894214Z",
     "start_time": "2021-01-05T20:16:45.862960Z"
    },
    "vscode": {
     "languageId": "r"
    }
   },
   "outputs": [],
   "source": []
  },
  {
   "cell_type": "markdown",
   "metadata": {},
   "source": [
    "<font color='darkgrey'><b>Operation</font>"
   ]
  },
  {
   "cell_type": "code",
   "execution_count": null,
   "metadata": {},
   "outputs": [],
   "source": []
  },
  {
   "cell_type": "code",
   "execution_count": null,
   "metadata": {},
   "outputs": [],
   "source": []
  },
  {
   "cell_type": "code",
   "execution_count": null,
   "metadata": {},
   "outputs": [],
   "source": []
  },
  {
   "cell_type": "code",
   "execution_count": null,
   "metadata": {},
   "outputs": [],
   "source": []
  }
 ],
 "metadata": {
  "anaconda-cloud": {},
  "celltoolbar": "Slideshow",
  "hide_input": false,
  "kernelspec": {
   "display_name": "R",
   "language": "R",
   "name": "ir"
  },
  "language_info": {
   "codemirror_mode": "r",
   "file_extension": ".r",
   "mimetype": "text/x-r-source",
   "name": "R",
   "pygments_lexer": "r",
   "version": "4.3.0"
  },
  "latex_envs": {
   "LaTeX_envs_menu_present": true,
   "autoclose": false,
   "autocomplete": true,
   "bibliofile": "biblio.bib",
   "cite_by": "apalike",
   "current_citInitial": 1,
   "eqLabelWithNumbers": true,
   "eqNumInitial": 1,
   "hotkeys": {
    "equation": "Ctrl-E",
    "itemize": "Ctrl-I"
   },
   "labels_anchors": false,
   "latex_user_defs": false,
   "report_style_numbering": true,
   "user_envs_cfg": false
  },
  "toc": {
   "base_numbering": 1,
   "nav_menu": {},
   "number_sections": true,
   "sideBar": true,
   "skip_h1_title": true,
   "title_cell": "Table of Contents",
   "title_sidebar": "Contents",
   "toc_cell": false,
   "toc_position": {
    "height": "calc(100% - 180px)",
    "left": "10px",
    "top": "150px",
    "width": "304.633px"
   },
   "toc_section_display": true,
   "toc_window_display": true
  },
  "varInspector": {
   "cols": {
    "lenName": 16,
    "lenType": 16,
    "lenVar": 40
   },
   "kernels_config": {
    "python": {
     "delete_cmd_postfix": "",
     "delete_cmd_prefix": "del ",
     "library": "var_list.py",
     "varRefreshCmd": "print(var_dic_list())"
    },
    "r": {
     "delete_cmd_postfix": ") ",
     "delete_cmd_prefix": "rm(",
     "library": "var_list.r",
     "varRefreshCmd": "cat(var_dic_list()) "
    }
   },
   "types_to_exclude": [
    "module",
    "function",
    "builtin_function_or_method",
    "instance",
    "_Feature"
   ],
   "window_display": false
  }
 },
 "nbformat": 4,
 "nbformat_minor": 4
}
