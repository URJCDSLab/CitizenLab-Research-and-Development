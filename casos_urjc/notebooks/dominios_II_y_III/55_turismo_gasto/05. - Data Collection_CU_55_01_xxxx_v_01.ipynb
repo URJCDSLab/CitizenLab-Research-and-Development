{
 "cells": [
  {
   "cell_type": "markdown",
   "metadata": {
    "slideshow": {
     "slide_type": "slide"
    }
   },
   "source": [
    "<img src=\".\\images\\Logo.png\" width=150 align=\"left\" /> <img src=\".\\images\\Logo2.jpg\" width=450 align=\"right\" />"
   ]
  },
  {
   "attachments": {},
   "cell_type": "markdown",
   "metadata": {
    "slideshow": {
     "slide_type": "slide"
    }
   },
   "source": [
    "\n",
    "# <center><font color= #1e8449 > <b>CU55_Modelo agregado de estimación del gasto medio por turista</font></center>"
   ]
  },
  {
   "cell_type": "markdown",
   "metadata": {
    "slideshow": {
     "slide_type": "slide"
    }
   },
   "source": [
    "<font color='steelblue'><b>Citizenlab Data Science Methodology > II - Data Processing Domain </font>\n",
    "***\n",
    "> # <font color='steelblue'> <b>05.- Data Collection</font>"
   ]
  },
  {
   "cell_type": "markdown",
   "metadata": {
    "slideshow": {
     "slide_type": "slide"
    }
   },
   "source": [
    "<font color='steelblue'>Data Collection is the process to obtain and generate (if required) necessary data to model the problem.</font>"
   ]
  },
  {
   "attachments": {},
   "cell_type": "markdown",
   "metadata": {},
   "source": [
    "### 01. Obtener datos de gasto turístico\n",
    "\n",
    "* Gasto medio diario por turista según país de origen en la Comunidad de Madrid, trimestral.\n",
    "\n",
    "\n",
    "\n",
    "\n",
    "\n"
   ]
  },
  {
   "cell_type": "markdown",
   "metadata": {
    "toc": true
   },
   "source": [
    "<h1>Table of Contents<span class=\"tocSkip\"></span></h1>\n",
    "<div class=\"toc\"><ul class=\"toc-item\"><li><span><a href=\"#Settings\" data-toc-modified-id=\"Settings-1\"><font color=\"green\">Settings</font></a></span></li><li><span><a href=\"#Data-Load\" data-toc-modified-id=\"Data-Load-2\"><font color=\"green\">Data Load</font></a></span></li><li><span><a href=\"#ETL-Processes\" data-toc-modified-id=\"ETL-Processes-3\">ETL Processes</a></span><ul class=\"toc-item\"><li><span><a href=\"#Import-data-from:-CSV,-Excel,-Tab,-JSON,-SQL,-and-Parquet-files\" data-toc-modified-id=\"Import-data-from:-CSV,-Excel,-Tab,-JSON,-SQL,-and-Parquet-files-3.1\">Import data from: CSV, Excel, Tab, JSON, SQL, and Parquet files</a></span></li></ul></li><li><span><a href=\"#Synthetic-Data-Generation\" data-toc-modified-id=\"Synthetic-Data-Generation-4\">Synthetic Data Generation</a></span></li><li><span><a href=\"#Fake-Data-Generation\" data-toc-modified-id=\"Fake-Data-Generation-5\">Fake Data Generation</a></span></li><li><span><a href=\"#Open-Data\" data-toc-modified-id=\"Open-Data-6\">Open Data</a></span></li><li><span><a href=\"#Data-Save\" data-toc-modified-id=\"Data-Save-7\"><font color=\"green\">Data Save</font></a></span></li><li><span><a href=\"#Main-Conclusions\" data-toc-modified-id=\"Main-Conclusions-8\"><font color=\" #2874a6 \">Main Conclusions</font></a></span></li><li><span><a href=\"#Main-Actions\" data-toc-modified-id=\"Main-Actions-9\"><font color=\" #2874a6 \">Main Actions</font></a></span><ul class=\"toc-item\"><li><ul class=\"toc-item\"><li><span><a href=\"#Acciones-done\" data-toc-modified-id=\"Acciones-done-9.0.1\"><font color=\" #2874a6 \">Acciones done</font></a></span></li><li><span><a href=\"#Acctions-to-perform\" data-toc-modified-id=\"Acctions-to-perform-9.0.2\"><font color=\" #2874a6 \">Acctions to perform</font></a></span></li></ul></li></ul></li></ul></div>"
   ]
  },
  {
   "cell_type": "markdown",
   "metadata": {
    "slideshow": {
     "slide_type": "slide"
    }
   },
   "source": [
    "## <font color='green'>Settings</font>"
   ]
  },
  {
   "attachments": {},
   "cell_type": "markdown",
   "metadata": {},
   "source": [
    "### Encoding\n",
    "\n",
    "Con la siguiente expresión se evitan problemas con el encoding al ejecutar el notebook. Es posible que deba ser eliminada o adaptada a la máquina en la que se ejecute el código."
   ]
  },
  {
   "cell_type": "code",
   "execution_count": 1,
   "metadata": {
    "vscode": {
     "languageId": "r"
    }
   },
   "outputs": [
    {
     "data": {
      "text/html": [
       "'es_ES.UTF-8/es_ES.UTF-8/es_ES.UTF-8/C/es_ES.UTF-8/C'"
      ],
      "text/latex": [
       "'es\\_ES.UTF-8/es\\_ES.UTF-8/es\\_ES.UTF-8/C/es\\_ES.UTF-8/C'"
      ],
      "text/markdown": [
       "'es_ES.UTF-8/es_ES.UTF-8/es_ES.UTF-8/C/es_ES.UTF-8/C'"
      ],
      "text/plain": [
       "[1] \"es_ES.UTF-8/es_ES.UTF-8/es_ES.UTF-8/C/es_ES.UTF-8/C\""
      ]
     },
     "metadata": {},
     "output_type": "display_data"
    }
   ],
   "source": [
    "Sys.setlocale(category = \"LC_ALL\", locale = \"es_ES.UTF-8\")"
   ]
  },
  {
   "attachments": {},
   "cell_type": "markdown",
   "metadata": {},
   "source": [
    "### Packages to use\n",
    "\n",
    "_ELIMINAR O AÑADIR LO QUE TOQUE. COPIAR VERSIONES AL FINAL Y QUITAR CÓDIGO DE VERSIONES_\n",
    "\n",
    "- {tcltk} para selección interactiva de archivos locales\n",
    "- {sf} para trabajar con georeferenciación\n",
    "- {readr} para leer y escribir archivos csv\n",
    "- {dplyr} para explorar datos\n",
    "- {stringr} para manipulación de cadenas de caracteres\n",
    "- {tidyr} para organización de datos\n"
   ]
  },
  {
   "cell_type": "code",
   "execution_count": 2,
   "metadata": {
    "ExecuteTime": {
     "end_time": "2021-12-03T15:23:33.762841Z",
     "start_time": "2021-12-03T15:23:08.580267Z"
    },
    "slideshow": {
     "slide_type": "subslide"
    },
    "vscode": {
     "languageId": "r"
    }
   },
   "outputs": [
    {
     "name": "stderr",
     "output_type": "stream",
     "text": [
      "Registered S3 method overwritten by 'quantmod':\n",
      "  method            from\n",
      "  as.zoo.data.frame zoo \n",
      "\n",
      "\n",
      "Attaching package: ‘dplyr’\n",
      "\n",
      "\n",
      "The following objects are masked from ‘package:stats’:\n",
      "\n",
      "    filter, lag\n",
      "\n",
      "\n",
      "The following objects are masked from ‘package:base’:\n",
      "\n",
      "    intersect, setdiff, setequal, union\n",
      "\n",
      "\n"
     ]
    }
   ],
   "source": [
    "library(INEbaseR)\n",
    "library(dplyr)\n",
    "library(stringr)\n",
    "library(readr)\n",
    "library(tidyr)\n",
    "\n",
    "p <- c(\"tcltk\", \"INEbaseR\", \"readr\", \"dplyr\", \"stringr\", \"tidyr\")\n"
   ]
  },
  {
   "attachments": {},
   "cell_type": "markdown",
   "metadata": {},
   "source": [
    "### Paths"
   ]
  },
  {
   "cell_type": "code",
   "execution_count": 3,
   "metadata": {
    "vscode": {
     "languageId": "r"
    }
   },
   "outputs": [],
   "source": [
    "iPath <- \"Data/Input/\"\n",
    "oPath <- \"Data/Output/\""
   ]
  },
  {
   "attachments": {},
   "cell_type": "markdown",
   "metadata": {
    "slideshow": {
     "slide_type": "slide"
    }
   },
   "source": [
    "## <font color='green'>Data Load</font>\n",
    "\n",
    "No aplica: los datos se descargan a través de la API del INE"
   ]
  },
  {
   "attachments": {},
   "cell_type": "markdown",
   "metadata": {
    "slideshow": {
     "slide_type": "slide"
    }
   },
   "source": [
    "## ETL Processes\n",
    "\n",
    "No aplica"
   ]
  },
  {
   "attachments": {},
   "cell_type": "markdown",
   "metadata": {
    "slideshow": {
     "slide_type": "slide"
    }
   },
   "source": [
    "### Import data from: CSV, Excel, Tab, JSON, SQL, and Parquet files\n",
    "\n"
   ]
  },
  {
   "cell_type": "markdown",
   "metadata": {
    "slideshow": {
     "slide_type": "slide"
    }
   },
   "source": [
    "## Synthetic Data Generation"
   ]
  },
  {
   "attachments": {},
   "cell_type": "markdown",
   "metadata": {
    "slideshow": {
     "slide_type": "slide"
    }
   },
   "source": [
    "No aplica"
   ]
  },
  {
   "cell_type": "markdown",
   "metadata": {
    "slideshow": {
     "slide_type": "slide"
    }
   },
   "source": [
    "## Fake Data Generation"
   ]
  },
  {
   "attachments": {},
   "cell_type": "markdown",
   "metadata": {
    "slideshow": {
     "slide_type": "slide"
    }
   },
   "source": [
    "No aplica"
   ]
  },
  {
   "cell_type": "markdown",
   "metadata": {
    "slideshow": {
     "slide_type": "slide"
    }
   },
   "source": [
    "## Open Data"
   ]
  },
  {
   "attachments": {},
   "cell_type": "markdown",
   "metadata": {
    "slideshow": {
     "slide_type": "slide"
    }
   },
   "source": [
    "Este proceso debe tener como resultado un fichero .csv con los datos a analizar.\n",
    "\n",
    "Se importarán datos \"open\" si es necesario que serán total o parcialmente parte de los datos finales. \n",
    "\n"
   ]
  },
  {
   "attachments": {},
   "cell_type": "markdown",
   "metadata": {},
   "source": [
    "La tabla del INE donde se encuentran estos datos es la 37672"
   ]
  },
  {
   "cell_type": "code",
   "execution_count": 4,
   "metadata": {
    "vscode": {
     "languageId": "r"
    }
   },
   "outputs": [],
   "source": [
    "t <- 37672"
   ]
  },
  {
   "attachments": {},
   "cell_type": "markdown",
   "metadata": {},
   "source": [
    "Se obtienen las series de datos para después hacer la búsqueda y obtener sus metadatos"
   ]
  },
  {
   "cell_type": "code",
   "execution_count": 5,
   "metadata": {
    "vscode": {
     "languageId": "r"
    }
   },
   "outputs": [],
   "source": [
    "data_01 <- get_tables(t, resource = \"data\") |> \n",
    "  filter(str_detect(Nombre, \"Total\", negate = TRUE)) \n"
   ]
  },
  {
   "attachments": {},
   "cell_type": "markdown",
   "metadata": {},
   "source": [
    "Se crea el data.frame donde se guardarán los metadatos para el caso"
   ]
  },
  {
   "cell_type": "code",
   "execution_count": 6,
   "metadata": {
    "vscode": {
     "languageId": "r"
    }
   },
   "outputs": [],
   "source": [
    "data_02 <- data.frame(cod_ccaa = character(),\n",
    "                   cod_pais = character())"
   ]
  },
  {
   "attachments": {},
   "cell_type": "markdown",
   "metadata": {},
   "source": [
    "Se descargan los metadatos de diterés de las series para el caso."
   ]
  },
  {
   "cell_type": "code",
   "execution_count": 7,
   "metadata": {
    "vscode": {
     "languageId": "r"
    }
   },
   "outputs": [
    {
     "name": "stderr",
     "output_type": "stream",
     "text": [
      "Warning message:\n",
      "“\u001b[1m\u001b[22mUsing one column matrices in `filter()` was deprecated in dplyr 1.1.0.\n",
      "\u001b[36mℹ\u001b[39m Please use one dimensional logical vectors instead.\n",
      "\u001b[36mℹ\u001b[39m The deprecated feature was likely used in the \u001b[34mdplyr\u001b[39m package.\n",
      "  Please report the issue at \u001b[3m\u001b[34m<https://github.com/tidyverse/dplyr/issues>\u001b[39m\u001b[23m.”\n"
     ]
    },
    {
     "name": "stdout",
     "output_type": "stream",
     "text": [
      "1 :  GDVE1974 \n",
      "2 :  GDVE1973 \n",
      "3 :  GDVE1972 \n",
      "4 :  GDVE1971 \n",
      "5 :  GDVE1970 \n",
      "6 :  GDVE1969 \n",
      "7 :  GDVE1968 \n",
      "8 :  GDVE1967 \n",
      "9 :  GDVE1966 \n",
      "10 :  GDVE1965 \n",
      "11 :  GDVE1964 \n",
      "12 :  GDVE1963 \n",
      "13 :  GDVE1962 \n",
      "14 :  GDVE1961 \n",
      "15 :  GDVE1960 \n",
      "16 :  GDVE1959 \n",
      "17 :  GDVE1958 \n",
      "18 :  GDVE1957 \n",
      "19 :  GDVE1956 \n",
      "20 :  GDVE1955 \n",
      "21 :  GDVE1954 \n",
      "22 :  GDVE1953 \n",
      "23 :  GDVE1952 \n",
      "24 :  GDVE1951 \n",
      "25 :  GDVE1950 \n",
      "26 :  GDVE1949 \n",
      "27 :  GDVE1948 \n",
      "28 :  GDVE1947 \n",
      "29 :  GDVE1946 \n",
      "30 :  GDVE1945 \n",
      "31 :  GDVE1944 \n",
      "32 :  GDVE1943 \n",
      "33 :  GDVE1942 \n",
      "34 :  GDVE1941 \n",
      "35 :  GDVE1939 \n",
      "36 :  GDVE1938 \n",
      "37 :  GDVE1937 \n",
      "38 :  GDVE1936 \n",
      "39 :  GDVE1935 \n",
      "40 :  GDVE1934 \n",
      "41 :  GDVE1933 \n",
      "42 :  GDVE1932 \n",
      "43 :  GDVE1931 \n",
      "44 :  GDVE1930 \n",
      "45 :  GDVE1929 \n",
      "46 :  GDVE1928 \n",
      "47 :  GDVE1927 \n",
      "48 :  GDVE1926 \n",
      "49 :  GDVE1925 \n",
      "50 :  GDVE1924 \n",
      "51 :  GDVE1923 \n",
      "52 :  GDVE1922 \n",
      "53 :  GDVE1921 \n",
      "54 :  GDVE1920 \n",
      "55 :  GDVE1919 \n",
      "56 :  GDVE1918 \n",
      "57 :  GDVE1917 \n",
      "58 :  GDVE1916 \n",
      "59 :  GDVE1915 \n",
      "60 :  GDVE1914 \n",
      "61 :  GDVE1913 \n",
      "62 :  GDVE1912 \n",
      "63 :  GDVE1911 \n",
      "64 :  GDVE1910 \n",
      "65 :  GDVE1909 \n",
      "66 :  GDVE1908 \n",
      "67 :  GDVE1907 \n",
      "68 :  GDVE1906 \n",
      "69 :  GDVE1904 \n",
      "70 :  GDVE1903 \n",
      "71 :  GDVE1902 \n",
      "72 :  GDVE1901 \n",
      "73 :  GDVE1900 \n",
      "74 :  GDVE1899 \n",
      "75 :  GDVE1898 \n",
      "76 :  GDVE1897 \n",
      "77 :  GDVE1896 \n",
      "78 :  GDVE1895 \n",
      "79 :  GDVE1894 \n",
      "80 :  GDVE1893 \n",
      "81 :  GDVE1892 \n",
      "82 :  GDVE1891 \n",
      "83 :  GDVE1890 \n",
      "84 :  GDVE1889 \n",
      "85 :  GDVE1888 \n",
      "86 :  GDVE1887 \n",
      "87 :  GDVE1886 \n",
      "88 :  GDVE1885 \n",
      "89 :  GDVE1884 \n",
      "90 :  GDVE1883 \n",
      "91 :  GDVE1882 \n",
      "92 :  GDVE1881 \n",
      "93 :  GDVE1880 \n",
      "94 :  GDVE1879 \n",
      "95 :  GDVE1878 \n",
      "96 :  GDVE1877 \n",
      "97 :  GDVE1876 \n",
      "98 :  GDVE1875 \n",
      "99 :  GDVE1874 \n",
      "100 :  GDVE1873 \n",
      "101 :  GDVE1872 \n",
      "102 :  GDVE1871 \n",
      "103 :  GDVE1869 \n",
      "104 :  GDVE1868 \n",
      "105 :  GDVE1867 \n",
      "106 :  GDVE1866 \n",
      "107 :  GDVE1865 \n",
      "108 :  GDVE1864 \n",
      "109 :  GDVE1863 \n",
      "110 :  GDVE1862 \n",
      "111 :  GDVE1861 \n",
      "112 :  GDVE1860 \n",
      "113 :  GDVE1859 \n",
      "114 :  GDVE1858 \n",
      "115 :  GDVE1857 \n",
      "116 :  GDVE1856 \n",
      "117 :  GDVE1855 \n",
      "118 :  GDVE1854 \n",
      "119 :  GDVE1853 \n",
      "120 :  GDVE1852 \n",
      "121 :  GDVE1851 \n",
      "122 :  GDVE1850 \n",
      "123 :  GDVE1849 \n",
      "124 :  GDVE1848 \n",
      "125 :  GDVE1847 \n",
      "126 :  GDVE1846 \n",
      "127 :  GDVE1845 \n",
      "128 :  GDVE1844 \n",
      "129 :  GDVE1843 \n",
      "130 :  GDVE1842 \n",
      "131 :  GDVE1841 \n",
      "132 :  GDVE1840 \n",
      "133 :  GDVE1839 \n",
      "134 :  GDVE1838 \n",
      "135 :  GDVE1837 \n",
      "136 :  GDVE1836 \n",
      "137 :  GDVE1834 \n",
      "138 :  GDVE1833 \n",
      "139 :  GDVE1832 \n",
      "140 :  GDVE1831 \n",
      "141 :  GDVE1830 \n",
      "142 :  GDVE1829 \n",
      "143 :  GDVE1828 \n",
      "144 :  GDVE1827 \n",
      "145 :  GDVE1826 \n",
      "146 :  GDVE1825 \n",
      "147 :  GDVE1824 \n",
      "148 :  GDVE1823 \n",
      "149 :  GDVE1822 \n",
      "150 :  GDVE1821 \n",
      "151 :  GDVE1820 \n",
      "152 :  GDVE1819 \n",
      "153 :  GDVE1818 \n",
      "154 :  GDVE1817 \n",
      "155 :  GDVE1816 \n",
      "156 :  GDVE1815 \n",
      "157 :  GDVE1814 \n",
      "158 :  GDVE1813 \n",
      "159 :  GDVE1812 \n",
      "160 :  GDVE1811 \n",
      "161 :  GDVE1810 \n",
      "162 :  GDVE1809 \n",
      "163 :  GDVE1808 \n",
      "164 :  GDVE1807 \n",
      "165 :  GDVE1806 \n",
      "166 :  GDVE1805 \n",
      "167 :  GDVE1804 \n",
      "168 :  GDVE1803 \n",
      "169 :  GDVE1802 \n",
      "170 :  GDVE1801 \n",
      "171 :  GDVE1799 \n",
      "172 :  GDVE1798 \n",
      "173 :  GDVE1797 \n",
      "174 :  GDVE1796 \n",
      "175 :  GDVE1795 \n",
      "176 :  GDVE1794 \n",
      "177 :  GDVE1793 \n",
      "178 :  GDVE1792 \n",
      "179 :  GDVE1791 \n",
      "180 :  GDVE1790 \n",
      "181 :  GDVE1789 \n",
      "182 :  GDVE1788 \n",
      "183 :  GDVE1787 \n",
      "184 :  GDVE1786 \n",
      "185 :  GDVE1785 \n",
      "186 :  GDVE1784 \n",
      "187 :  GDVE1783 \n",
      "188 :  GDVE1782 \n",
      "189 :  GDVE1781 \n",
      "190 :  GDVE1780 \n",
      "191 :  GDVE1779 \n",
      "192 :  GDVE1778 \n",
      "193 :  GDVE1777 \n",
      "194 :  GDVE1776 \n",
      "195 :  GDVE1775 \n",
      "196 :  GDVE1774 \n",
      "197 :  GDVE1773 \n",
      "198 :  GDVE1772 \n",
      "199 :  GDVE1771 \n",
      "200 :  GDVE1770 \n",
      "201 :  GDVE1769 \n",
      "202 :  GDVE1768 \n",
      "203 :  GDVE1767 \n",
      "204 :  GDVE1766 \n",
      "205 :  GDVE1764 \n",
      "206 :  GDVE1763 \n",
      "207 :  GDVE1762 \n",
      "208 :  GDVE1761 \n",
      "209 :  GDVE1760 \n",
      "210 :  GDVE1759 \n",
      "211 :  GDVE1758 \n",
      "212 :  GDVE1757 \n",
      "213 :  GDVE1756 \n",
      "214 :  GDVE1755 \n",
      "215 :  GDVE1754 \n",
      "216 :  GDVE1753 \n",
      "217 :  GDVE1752 \n",
      "218 :  GDVE1751 \n",
      "219 :  GDVE1750 \n",
      "220 :  GDVE1749 \n",
      "221 :  GDVE1748 \n",
      "222 :  GDVE1747 \n",
      "223 :  GDVE1746 \n",
      "224 :  GDVE1745 \n",
      "225 :  GDVE1744 \n",
      "226 :  GDVE1743 \n",
      "227 :  GDVE1742 \n",
      "228 :  GDVE1741 \n",
      "229 :  GDVE1740 \n",
      "230 :  GDVE1739 \n",
      "231 :  GDVE1738 \n",
      "232 :  GDVE1737 \n",
      "233 :  GDVE1736 \n",
      "234 :  GDVE1735 \n",
      "235 :  GDVE1734 \n",
      "236 :  GDVE1733 \n",
      "237 :  GDVE1732 \n",
      "238 :  GDVE1731 \n",
      "239 :  GDVE1729 \n",
      "240 :  GDVE1728 \n",
      "241 :  GDVE1727 \n",
      "242 :  GDVE1726 \n",
      "243 :  GDVE1725 \n",
      "244 :  GDVE1724 \n",
      "245 :  GDVE1723 \n",
      "246 :  GDVE1722 \n",
      "247 :  GDVE1721 \n",
      "248 :  GDVE1720 \n",
      "249 :  GDVE1719 \n",
      "250 :  GDVE1718 \n",
      "251 :  GDVE1717 \n",
      "252 :  GDVE1716 \n",
      "253 :  GDVE1715 \n",
      "254 :  GDVE1714 \n",
      "255 :  GDVE1713 \n",
      "256 :  GDVE1712 \n",
      "257 :  GDVE1711 \n",
      "258 :  GDVE1710 \n",
      "259 :  GDVE1709 \n",
      "260 :  GDVE1708 \n",
      "261 :  GDVE1707 \n",
      "262 :  GDVE1706 \n",
      "263 :  GDVE1705 \n",
      "264 :  GDVE1704 \n",
      "265 :  GDVE1703 \n",
      "266 :  GDVE1702 \n",
      "267 :  GDVE1701 \n",
      "268 :  GDVE1700 \n",
      "269 :  GDVE1699 \n",
      "270 :  GDVE1698 \n",
      "271 :  GDVE1697 \n",
      "272 :  GDVE1696 \n",
      "273 :  GDVE1694 \n",
      "274 :  GDVE1693 \n",
      "275 :  GDVE1692 \n",
      "276 :  GDVE1691 \n",
      "277 :  GDVE1690 \n",
      "278 :  GDVE1689 \n",
      "279 :  GDVE1688 \n",
      "280 :  GDVE1687 \n",
      "281 :  GDVE1686 \n",
      "282 :  GDVE1685 \n",
      "283 :  GDVE1684 \n",
      "284 :  GDVE1683 \n",
      "285 :  GDVE1682 \n",
      "286 :  GDVE1681 \n",
      "287 :  GDVE1680 \n",
      "288 :  GDVE1679 \n",
      "289 :  GDVE1678 \n",
      "290 :  GDVE1677 \n",
      "291 :  GDVE1676 \n",
      "292 :  GDVE1675 \n",
      "293 :  GDVE1674 \n",
      "294 :  GDVE1673 \n",
      "295 :  GDVE1672 \n",
      "296 :  GDVE1671 \n",
      "297 :  GDVE1670 \n",
      "298 :  GDVE1669 \n",
      "299 :  GDVE1668 \n",
      "300 :  GDVE1667 \n",
      "301 :  GDVE1666 \n",
      "302 :  GDVE1665 \n",
      "303 :  GDVE1664 \n",
      "304 :  GDVE1663 \n",
      "305 :  GDVE1662 \n",
      "306 :  GDVE1661 \n",
      "307 :  GDVE1659 \n",
      "308 :  GDVE1658 \n",
      "309 :  GDVE1657 \n",
      "310 :  GDVE1656 \n",
      "311 :  GDVE1655 \n",
      "312 :  GDVE1654 \n",
      "313 :  GDVE1653 \n",
      "314 :  GDVE1652 \n",
      "315 :  GDVE1651 \n",
      "316 :  GDVE1650 \n",
      "317 :  GDVE1649 \n",
      "318 :  GDVE1648 \n",
      "319 :  GDVE1647 \n",
      "320 :  GDVE1646 \n",
      "321 :  GDVE1645 \n",
      "322 :  GDVE1644 \n",
      "323 :  GDVE1643 \n",
      "324 :  GDVE1642 \n",
      "325 :  GDVE1641 \n",
      "326 :  GDVE1640 \n",
      "327 :  GDVE1639 \n",
      "328 :  GDVE1638 \n",
      "329 :  GDVE1637 \n",
      "330 :  GDVE1636 \n",
      "331 :  GDVE1635 \n",
      "332 :  GDVE1634 \n",
      "333 :  GDVE1633 \n",
      "334 :  GDVE1632 \n",
      "335 :  GDVE1631 \n",
      "336 :  GDVE1630 \n",
      "337 :  GDVE1629 \n",
      "338 :  GDVE1628 \n",
      "339 :  GDVE1627 \n",
      "340 :  GDVE1626 \n",
      "341 :  GDVE1624 \n",
      "342 :  GDVE1623 \n",
      "343 :  GDVE1622 \n",
      "344 :  GDVE1621 \n",
      "345 :  GDVE1620 \n",
      "346 :  GDVE1619 \n",
      "347 :  GDVE1618 \n",
      "348 :  GDVE1617 \n",
      "349 :  GDVE1616 \n",
      "350 :  GDVE1615 \n",
      "351 :  GDVE1614 \n",
      "352 :  GDVE1613 \n",
      "353 :  GDVE1612 \n",
      "354 :  GDVE1611 \n",
      "355 :  GDVE1610 \n",
      "356 :  GDVE1609 \n",
      "357 :  GDVE1608 \n",
      "358 :  GDVE1607 \n",
      "359 :  GDVE1606 \n",
      "360 :  GDVE1605 \n",
      "361 :  GDVE1604 \n",
      "362 :  GDVE1603 \n",
      "363 :  GDVE1602 \n",
      "364 :  GDVE1601 \n",
      "365 :  GDVE1600 \n",
      "366 :  GDVE1599 \n",
      "367 :  GDVE1598 \n",
      "368 :  GDVE1597 \n",
      "369 :  GDVE1596 \n",
      "370 :  GDVE1595 \n",
      "371 :  GDVE1594 \n",
      "372 :  GDVE1593 \n",
      "373 :  GDVE1592 \n",
      "374 :  GDVE1591 \n",
      "375 :  GDVE1589 \n",
      "376 :  GDVE1588 \n",
      "377 :  GDVE1587 \n",
      "378 :  GDVE1586 \n",
      "379 :  GDVE1585 \n",
      "380 :  GDVE1584 \n",
      "381 :  GDVE1583 \n",
      "382 :  GDVE1582 \n",
      "383 :  GDVE1581 \n",
      "384 :  GDVE1580 \n",
      "385 :  GDVE1579 \n",
      "386 :  GDVE1578 \n",
      "387 :  GDVE1577 \n",
      "388 :  GDVE1576 \n",
      "389 :  GDVE1575 \n",
      "390 :  GDVE1574 \n",
      "391 :  GDVE1573 \n",
      "392 :  GDVE1572 \n",
      "393 :  GDVE1571 \n",
      "394 :  GDVE1570 \n",
      "395 :  GDVE1569 \n",
      "396 :  GDVE1568 \n",
      "397 :  GDVE1567 \n",
      "398 :  GDVE1566 \n",
      "399 :  GDVE1565 \n",
      "400 :  GDVE1564 \n",
      "401 :  GDVE1563 \n",
      "402 :  GDVE1562 \n",
      "403 :  GDVE1561 \n",
      "404 :  GDVE1560 \n",
      "405 :  GDVE1559 \n",
      "406 :  GDVE1558 \n",
      "407 :  GDVE1557 \n",
      "408 :  GDVE1556 \n",
      "409 :  GDVE1554 \n",
      "410 :  GDVE1553 \n",
      "411 :  GDVE1552 \n",
      "412 :  GDVE1551 \n",
      "413 :  GDVE1550 \n",
      "414 :  GDVE1549 \n",
      "415 :  GDVE1548 \n",
      "416 :  GDVE1547 \n",
      "417 :  GDVE1546 \n",
      "418 :  GDVE1545 \n",
      "419 :  GDVE1544 \n",
      "420 :  GDVE1543 \n",
      "421 :  GDVE1542 \n",
      "422 :  GDVE1541 \n",
      "423 :  GDVE1540 \n",
      "424 :  GDVE1539 \n",
      "425 :  GDVE1538 \n",
      "426 :  GDVE1537 \n",
      "427 :  GDVE1536 \n",
      "428 :  GDVE1535 \n",
      "429 :  GDVE1534 \n",
      "430 :  GDVE1533 \n",
      "431 :  GDVE1532 \n",
      "432 :  GDVE1531 \n",
      "433 :  GDVE1530 \n",
      "434 :  GDVE1529 \n",
      "435 :  GDVE1528 \n",
      "436 :  GDVE1527 \n",
      "437 :  GDVE1526 \n",
      "438 :  GDVE1525 \n",
      "439 :  GDVE1524 \n",
      "440 :  GDVE1523 \n",
      "441 :  GDVE1522 \n",
      "442 :  GDVE1521 \n",
      "443 :  GDVE1519 \n",
      "444 :  GDVE1518 \n",
      "445 :  GDVE1517 \n",
      "446 :  GDVE1516 \n",
      "447 :  GDVE1515 \n",
      "448 :  GDVE1514 \n",
      "449 :  GDVE1513 \n",
      "450 :  GDVE1512 \n",
      "451 :  GDVE1511 \n",
      "452 :  GDVE1510 \n",
      "453 :  GDVE1509 \n",
      "454 :  GDVE1508 \n",
      "455 :  GDVE1507 \n",
      "456 :  GDVE1506 \n",
      "457 :  GDVE1505 \n",
      "458 :  GDVE1504 \n",
      "459 :  GDVE1503 \n",
      "460 :  GDVE1502 \n",
      "461 :  GDVE1501 \n",
      "462 :  GDVE1500 \n",
      "463 :  GDVE1499 \n",
      "464 :  GDVE1498 \n",
      "465 :  GDVE1497 \n",
      "466 :  GDVE1496 \n",
      "467 :  GDVE1495 \n",
      "468 :  GDVE1494 \n",
      "469 :  GDVE1493 \n",
      "470 :  GDVE1492 \n",
      "471 :  GDVE1491 \n",
      "472 :  GDVE1490 \n",
      "473 :  GDVE1489 \n",
      "474 :  GDVE1488 \n",
      "475 :  GDVE1487 \n",
      "476 :  GDVE1486 \n",
      "477 :  GDVE1484 \n",
      "478 :  GDVE1483 \n",
      "479 :  GDVE1482 \n",
      "480 :  GDVE1481 \n",
      "481 :  GDVE1480 \n",
      "482 :  GDVE1479 \n",
      "483 :  GDVE1478 \n",
      "484 :  GDVE1477 \n",
      "485 :  GDVE1476 \n",
      "486 :  GDVE1475 \n",
      "487 :  GDVE1474 \n",
      "488 :  GDVE1473 \n",
      "489 :  GDVE1472 \n",
      "490 :  GDVE1471 \n",
      "491 :  GDVE1470 \n",
      "492 :  GDVE1469 \n",
      "493 :  GDVE1468 \n",
      "494 :  GDVE1467 \n",
      "495 :  GDVE1466 \n",
      "496 :  GDVE1465 \n",
      "497 :  GDVE1464 \n",
      "498 :  GDVE1463 \n",
      "499 :  GDVE1462 \n",
      "500 :  GDVE1461 \n",
      "501 :  GDVE1460 \n",
      "502 :  GDVE1459 \n",
      "503 :  GDVE1458 \n",
      "504 :  GDVE1457 \n",
      "505 :  GDVE1456 \n",
      "506 :  GDVE1455 \n",
      "507 :  GDVE1454 \n",
      "508 :  GDVE1453 \n",
      "509 :  GDVE1452 \n",
      "510 :  GDVE1451 \n",
      "511 :  GDVE1449 \n",
      "512 :  GDVE1448 \n",
      "513 :  GDVE1447 \n",
      "514 :  GDVE1446 \n",
      "515 :  GDVE1445 \n",
      "516 :  GDVE1444 \n",
      "517 :  GDVE1443 \n",
      "518 :  GDVE1442 \n",
      "519 :  GDVE1441 \n",
      "520 :  GDVE1440 \n",
      "521 :  GDVE1439 \n",
      "522 :  GDVE1438 \n",
      "523 :  GDVE1437 \n",
      "524 :  GDVE1436 \n",
      "525 :  GDVE1435 \n",
      "526 :  GDVE1434 \n",
      "527 :  GDVE1433 \n",
      "528 :  GDVE1432 \n",
      "529 :  GDVE1431 \n",
      "530 :  GDVE1430 \n",
      "531 :  GDVE1429 \n",
      "532 :  GDVE1428 \n",
      "533 :  GDVE1427 \n",
      "534 :  GDVE1426 \n",
      "535 :  GDVE1425 \n",
      "536 :  GDVE1424 \n",
      "537 :  GDVE1423 \n",
      "538 :  GDVE1422 \n",
      "539 :  GDVE1421 \n",
      "540 :  GDVE1420 \n",
      "541 :  GDVE1419 \n",
      "542 :  GDVE1418 \n",
      "543 :  GDVE1417 \n",
      "544 :  GDVE1416 \n",
      "545 :  GDVE1414 \n",
      "546 :  GDVE1413 \n",
      "547 :  GDVE1412 \n",
      "548 :  GDVE1411 \n",
      "549 :  GDVE1410 \n",
      "550 :  GDVE1409 \n",
      "551 :  GDVE1408 \n",
      "552 :  GDVE1407 \n",
      "553 :  GDVE1406 \n",
      "554 :  GDVE1405 \n",
      "555 :  GDVE1404 \n",
      "556 :  GDVE1403 \n",
      "557 :  GDVE1402 \n",
      "558 :  GDVE1401 \n",
      "559 :  GDVE1400 \n",
      "560 :  GDVE1399 \n",
      "561 :  GDVE1398 \n",
      "562 :  GDVE1397 \n",
      "563 :  GDVE1396 \n",
      "564 :  GDVE1395 \n",
      "565 :  GDVE1394 \n",
      "566 :  GDVE1393 \n",
      "567 :  GDVE1392 \n",
      "568 :  GDVE1391 \n",
      "569 :  GDVE1390 \n",
      "570 :  GDVE1389 \n",
      "571 :  GDVE1388 \n",
      "572 :  GDVE1387 \n",
      "573 :  GDVE1386 \n",
      "574 :  GDVE1385 \n",
      "575 :  GDVE1384 \n",
      "576 :  GDVE1383 \n",
      "577 :  GDVE1382 \n",
      "578 :  GDVE1381 \n",
      "579 :  GDVE1379 \n",
      "580 :  GDVE1378 \n",
      "581 :  GDVE1377 \n",
      "582 :  GDVE1376 \n",
      "583 :  GDVE1375 \n",
      "584 :  GDVE1374 \n",
      "585 :  GDVE1373 \n",
      "586 :  GDVE1372 \n",
      "587 :  GDVE1371 \n",
      "588 :  GDVE1370 \n",
      "589 :  GDVE1369 \n",
      "590 :  GDVE1368 \n",
      "591 :  GDVE1367 \n",
      "592 :  GDVE1366 \n",
      "593 :  GDVE1365 \n",
      "594 :  GDVE1364 \n",
      "595 :  GDVE1363 \n",
      "596 :  GDVE1362 \n",
      "597 :  GDVE1361 \n",
      "598 :  GDVE1360 \n",
      "599 :  GDVE1359 \n",
      "600 :  GDVE1358 \n",
      "601 :  GDVE1357 \n",
      "602 :  GDVE1356 \n",
      "603 :  GDVE1355 \n",
      "604 :  GDVE1354 \n",
      "605 :  GDVE1353 \n",
      "606 :  GDVE1352 \n",
      "607 :  GDVE1351 \n",
      "608 :  GDVE1350 \n",
      "609 :  GDVE1349 \n",
      "610 :  GDVE1348 \n",
      "611 :  GDVE1347 \n",
      "612 :  GDVE1346 \n",
      "613 :  GDVE1344 \n",
      "614 :  GDVE1343 \n",
      "615 :  GDVE1342 \n",
      "616 :  GDVE1341 \n",
      "617 :  GDVE1340 \n",
      "618 :  GDVE1339 \n",
      "619 :  GDVE1338 \n",
      "620 :  GDVE1337 \n",
      "621 :  GDVE1336 \n",
      "622 :  GDVE1335 \n",
      "623 :  GDVE1334 \n",
      "624 :  GDVE1333 \n",
      "625 :  GDVE1332 \n",
      "626 :  GDVE1331 \n",
      "627 :  GDVE1330 \n",
      "628 :  GDVE1329 \n",
      "629 :  GDVE1328 \n",
      "630 :  GDVE1327 \n",
      "631 :  GDVE1326 \n",
      "632 :  GDVE1325 \n",
      "633 :  GDVE1324 \n",
      "634 :  GDVE1323 \n",
      "635 :  GDVE1322 \n",
      "636 :  GDVE1321 \n",
      "637 :  GDVE1320 \n",
      "638 :  GDVE1319 \n",
      "639 :  GDVE1318 \n",
      "640 :  GDVE1317 \n",
      "641 :  GDVE1316 \n",
      "642 :  GDVE1315 \n",
      "643 :  GDVE1314 \n",
      "644 :  GDVE1313 \n",
      "645 :  GDVE1312 \n",
      "646 :  GDVE1311 \n"
     ]
    }
   ],
   "source": [
    "series <- data_01$COD\n",
    "for(i in seq_along(series)){\n",
    "  m <- get_series(series[i], resource = \"metadata\", tip = \"M\")$MetaData\n",
    "  data_02[i, 1] <- m |> filter(Variable[1] == 70) |> \n",
    "           pull(Codigo)\n",
    "  data_02[i, 2] <- m |> filter(Variable[1] == 96) |> \n",
    "           pull(Codigo)\n",
    "  #cat(i, \": \", series[i], \"\\n\")\n",
    "}\n"
   ]
  },
  {
   "attachments": {},
   "cell_type": "markdown",
   "metadata": {},
   "source": [
    "Se unen las series a los metadatos, se expanden se quitan las columnas que no hacen falta"
   ]
  },
  {
   "cell_type": "code",
   "execution_count": 8,
   "metadata": {
    "vscode": {
     "languageId": "r"
    }
   },
   "outputs": [],
   "source": [
    "data_03 <- data_01 |> \n",
    "  bind_cols(data_02) |> \n",
    "  select(-c(COD:FK_Escala)) |> \n",
    "  filter(cod_ccaa == 13) |> \n",
    "  unnest(Data) |> \n",
    "  select(-c(cod_ccaa, Secreto, Fecha, FK_TipoDato)) \n"
   ]
  },
  {
   "attachments": {},
   "cell_type": "markdown",
   "metadata": {},
   "source": [
    "Se imputan valores perdidos"
   ]
  },
  {
   "cell_type": "code",
   "execution_count": 9,
   "metadata": {
    "vscode": {
     "languageId": "r"
    }
   },
   "outputs": [],
   "source": [
    "tdata <- data_03 |> \n",
    "  group_by(FK_Periodo) |> \n",
    "  mutate(Valor = if_else(is.na(Valor), median(Valor, na.rm = TRUE), Valor)) |> \n",
    "  ungroup()"
   ]
  },
  {
   "attachments": {},
   "cell_type": "markdown",
   "metadata": {},
   "source": [
    "Estructura de los datos"
   ]
  },
  {
   "cell_type": "code",
   "execution_count": 18,
   "metadata": {
    "vscode": {
     "languageId": "r"
    }
   },
   "outputs": [
    {
     "name": "stdout",
     "output_type": "stream",
     "text": [
      "Rows: 680\n",
      "Columns: 4\n",
      "$ FK_Periodo \u001b[3m\u001b[90m<int>\u001b[39m\u001b[23m 22, 21, 20, 19, 22, 21, 20, 19, 22, 21, 20, 19, 22, 21, 20,…\n",
      "$ Anyo       \u001b[3m\u001b[90m<int>\u001b[39m\u001b[23m 2022, 2022, 2022, 2022, 2021, 2021, 2021, 2021, 2020, 2020,…\n",
      "$ Valor      \u001b[3m\u001b[90m<dbl>\u001b[39m\u001b[23m 101.480, 109.300, 122.010, 97.010, 98.500, 101.140, 112.930…\n",
      "$ cod_pais   \u001b[3m\u001b[90m<chr>\u001b[39m\u001b[23m \"126\", \"126\", \"126\", \"126\", \"126\", \"126\", \"126\", \"126\", \"12…\n"
     ]
    }
   ],
   "source": [
    "tdata |> glimpse()"
   ]
  },
  {
   "attachments": {},
   "cell_type": "markdown",
   "metadata": {},
   "source": [
    "Muestra de los primeros datos"
   ]
  },
  {
   "cell_type": "code",
   "execution_count": 21,
   "metadata": {
    "vscode": {
     "languageId": "r"
    }
   },
   "outputs": [
    {
     "data": {
      "text/html": [
       "<table class=\"dataframe\">\n",
       "<caption>A tibble: 10 x 4</caption>\n",
       "<thead>\n",
       "\t<tr><th scope=col>FK_Periodo</th><th scope=col>Anyo</th><th scope=col>Valor</th><th scope=col>cod_pais</th></tr>\n",
       "\t<tr><th scope=col>&lt;int&gt;</th><th scope=col>&lt;int&gt;</th><th scope=col>&lt;dbl&gt;</th><th scope=col>&lt;chr&gt;</th></tr>\n",
       "</thead>\n",
       "<tbody>\n",
       "\t<tr><td>22</td><td>2022</td><td>101.48</td><td>126</td></tr>\n",
       "\t<tr><td>21</td><td>2022</td><td>109.30</td><td>126</td></tr>\n",
       "\t<tr><td>20</td><td>2022</td><td>122.01</td><td>126</td></tr>\n",
       "\t<tr><td>19</td><td>2022</td><td> 97.01</td><td>126</td></tr>\n",
       "\t<tr><td>22</td><td>2021</td><td> 98.50</td><td>126</td></tr>\n",
       "\t<tr><td>21</td><td>2021</td><td>101.14</td><td>126</td></tr>\n",
       "\t<tr><td>20</td><td>2021</td><td>112.93</td><td>126</td></tr>\n",
       "\t<tr><td>19</td><td>2021</td><td> 94.18</td><td>126</td></tr>\n",
       "\t<tr><td>22</td><td>2020</td><td> 94.73</td><td>126</td></tr>\n",
       "\t<tr><td>21</td><td>2020</td><td>114.79</td><td>126</td></tr>\n",
       "</tbody>\n",
       "</table>\n"
      ],
      "text/latex": [
       "A tibble: 10 x 4\n",
       "\\begin{tabular}{llll}\n",
       " FK\\_Periodo & Anyo & Valor & cod\\_pais\\\\\n",
       " <int> & <int> & <dbl> & <chr>\\\\\n",
       "\\hline\n",
       "\t 22 & 2022 & 101.48 & 126\\\\\n",
       "\t 21 & 2022 & 109.30 & 126\\\\\n",
       "\t 20 & 2022 & 122.01 & 126\\\\\n",
       "\t 19 & 2022 &  97.01 & 126\\\\\n",
       "\t 22 & 2021 &  98.50 & 126\\\\\n",
       "\t 21 & 2021 & 101.14 & 126\\\\\n",
       "\t 20 & 2021 & 112.93 & 126\\\\\n",
       "\t 19 & 2021 &  94.18 & 126\\\\\n",
       "\t 22 & 2020 &  94.73 & 126\\\\\n",
       "\t 21 & 2020 & 114.79 & 126\\\\\n",
       "\\end{tabular}\n"
      ],
      "text/markdown": [
       "\n",
       "A tibble: 10 x 4\n",
       "\n",
       "| FK_Periodo &lt;int&gt; | Anyo &lt;int&gt; | Valor &lt;dbl&gt; | cod_pais &lt;chr&gt; |\n",
       "|---|---|---|---|\n",
       "| 22 | 2022 | 101.48 | 126 |\n",
       "| 21 | 2022 | 109.30 | 126 |\n",
       "| 20 | 2022 | 122.01 | 126 |\n",
       "| 19 | 2022 |  97.01 | 126 |\n",
       "| 22 | 2021 |  98.50 | 126 |\n",
       "| 21 | 2021 | 101.14 | 126 |\n",
       "| 20 | 2021 | 112.93 | 126 |\n",
       "| 19 | 2021 |  94.18 | 126 |\n",
       "| 22 | 2020 |  94.73 | 126 |\n",
       "| 21 | 2020 | 114.79 | 126 |\n",
       "\n"
      ],
      "text/plain": [
       "   FK_Periodo Anyo Valor  cod_pais\n",
       "1  22         2022 101.48 126     \n",
       "2  21         2022 109.30 126     \n",
       "3  20         2022 122.01 126     \n",
       "4  19         2022  97.01 126     \n",
       "5  22         2021  98.50 126     \n",
       "6  21         2021 101.14 126     \n",
       "7  20         2021 112.93 126     \n",
       "8  19         2021  94.18 126     \n",
       "9  22         2020  94.73 126     \n",
       "10 21         2020 114.79 126     "
      ]
     },
     "metadata": {},
     "output_type": "display_data"
    }
   ],
   "source": [
    "tdata |> slice_head(n = 10)"
   ]
  },
  {
   "cell_type": "markdown",
   "metadata": {},
   "source": [
    "## <font color='green'>Data Save</font>"
   ]
  },
  {
   "attachments": {},
   "cell_type": "markdown",
   "metadata": {},
   "source": [
    "Este proceso, puede copiarse y repetirse en aquellas partes del notebbok que necesiten guardar datos.\n",
    "Recuerde cambiar las cadenas añadida del fichero para diferenciarlas"
   ]
  },
  {
   "cell_type": "markdown",
   "metadata": {},
   "source": [
    "<font color='tomato'> Identificamos los datos a guardar</font>"
   ]
  },
  {
   "cell_type": "code",
   "execution_count": 10,
   "metadata": {
    "ExecuteTime": {
     "end_time": "2020-12-25T17:59:27.022001Z",
     "start_time": "2020-12-25T17:59:15.986986Z"
    },
    "scrolled": false,
    "vscode": {
     "languageId": "r"
    }
   },
   "outputs": [],
   "source": [
    "data_to_save <- tdata"
   ]
  },
  {
   "attachments": {},
   "cell_type": "markdown",
   "metadata": {},
   "source": [
    "\n",
    "<font color='tomato'>Estructura de nombre de archivos:</font>\n",
    "\n",
    "* Código del caso de uso, por ejemplo \"CU_04\"\n",
    "* Número del proceso que lo genera, por ejemplo \"_05\".\n",
    "* Número de la tarea que lo genera, por ejemplo \"_01\"\n",
    "* En caso de generarse varios ficheros en la misma tarea, llevarán _01 _02 ... después\n",
    "* Nombre: identificativo de \"properData\", por ejemplo \"_zonasgeo\"\n",
    "* Extensión del archivo\n",
    "\n",
    "Ejemplo: \"CU_04_05_01_01_zonasgeo.json, primer fichero que se genera en la tarea 01 del proceso 05 (Data Collection) para el caso de uso 04 (vacunas)\n",
    "\n",
    "Importante mantener los guiones bajos antes de proceso, tarea, archivo y nombre"
   ]
  },
  {
   "attachments": {},
   "cell_type": "markdown",
   "metadata": {},
   "source": [
    "### Proceso 05"
   ]
  },
  {
   "cell_type": "code",
   "execution_count": 11,
   "metadata": {
    "ExecuteTime": {
     "end_time": "2020-12-25T17:59:27.022001Z",
     "start_time": "2020-12-25T17:59:15.986986Z"
    },
    "scrolled": false,
    "vscode": {
     "languageId": "r"
    }
   },
   "outputs": [],
   "source": [
    "caso <- \"CU_55\"\n",
    "proceso <- '_05'\n",
    "tarea <- \"_01\"\n",
    "archivo <- \"\"\n",
    "proper <- \"_gasto_comunidad\"\n",
    "extension <- \".csv\""
   ]
  },
  {
   "attachments": {},
   "cell_type": "markdown",
   "metadata": {},
   "source": [
    "<font color='tomato'><b> OPCION A:</b> Uso del paquete \"tcltk\" para mayor comodidad</font>\n",
    "\n",
    "* Buscar carpeta, escribir nombre de archivo SIN extensión (se especifica en el código)\n",
    "* Especificar sufijo2 si es necesario\n",
    "* Cambiar datos por datos_xx si es necesario"
   ]
  },
  {
   "cell_type": "code",
   "execution_count": null,
   "metadata": {
    "ExecuteTime": {
     "end_time": "2020-12-25T17:59:27.022001Z",
     "start_time": "2020-12-25T17:59:15.986986Z"
    },
    "scrolled": false,
    "vscode": {
     "languageId": "r"
    }
   },
   "outputs": [],
   "source": [
    "# file_save <- paste0(caso, proceso, tarea, tcltk::tkgetSaveFile(), proper, extension) \n",
    "# path_out <- paste0(oPath, file_save)\n",
    "# write_csv(data_to_save_xxxxx, path_out)\n",
    "\n",
    "# cat('File saved as: ')\n",
    "# path_out"
   ]
  },
  {
   "attachments": {},
   "cell_type": "markdown",
   "metadata": {},
   "source": [
    "<font color='tomato'><b> OPCION B:</b> Especificar el nombre de archivo</font>"
   ]
  },
  {
   "attachments": {},
   "cell_type": "markdown",
   "metadata": {},
   "source": [
    "- Los ficheros de salida del proceso van siempre a Data/Output/.  "
   ]
  },
  {
   "cell_type": "code",
   "execution_count": 13,
   "metadata": {
    "ExecuteTime": {
     "end_time": "2021-01-26T18:40:31.258294Z",
     "start_time": "2021-01-26T18:40:26.061847Z"
    },
    "slideshow": {
     "slide_type": "subslide"
    },
    "vscode": {
     "languageId": "r"
    }
   },
   "outputs": [
    {
     "name": "stdout",
     "output_type": "stream",
     "text": [
      "File saved as: "
     ]
    },
    {
     "data": {
      "text/html": [
       "'Data/Output/CU_55_05_01_gasto_comunidad.csv'"
      ],
      "text/latex": [
       "'Data/Output/CU\\_55\\_05\\_01\\_gasto\\_comunidad.csv'"
      ],
      "text/markdown": [
       "'Data/Output/CU_55_05_01_gasto_comunidad.csv'"
      ],
      "text/plain": [
       "[1] \"Data/Output/CU_55_05_01_gasto_comunidad.csv\""
      ]
     },
     "metadata": {},
     "output_type": "display_data"
    }
   ],
   "source": [
    "file_save <- paste0(caso, proceso, tarea, archivo, proper, extension) \n",
    "path_out <- paste0(oPath, file_save)\n",
    "write_csv(data_to_save, path_out)\n",
    "\n",
    "cat('File saved as: ')\n",
    "path_out"
   ]
  },
  {
   "attachments": {},
   "cell_type": "markdown",
   "metadata": {},
   "source": [
    "#### Copia del fichero a Input\n",
    "\n",
    "Si el archivo se va a usar en otros notebooks, copiar a la carpeta Input"
   ]
  },
  {
   "cell_type": "code",
   "execution_count": 14,
   "metadata": {
    "vscode": {
     "languageId": "r"
    }
   },
   "outputs": [
    {
     "data": {
      "text/html": [
       "TRUE"
      ],
      "text/latex": [
       "TRUE"
      ],
      "text/markdown": [
       "TRUE"
      ],
      "text/plain": [
       "[1] TRUE"
      ]
     },
     "metadata": {},
     "output_type": "display_data"
    }
   ],
   "source": [
    "path_in <- paste0(iPath, file_save)\n",
    "file.copy(path_out, path_in, overwrite = TRUE)"
   ]
  },
  {
   "cell_type": "markdown",
   "metadata": {},
   "source": [
    "## <font color=' #2874a6 '>Main Conclusions</font>"
   ]
  },
  {
   "cell_type": "markdown",
   "metadata": {
    "slideshow": {
     "slide_type": "slide"
    }
   },
   "source": [
    "<font color='steelblue'>List and describe the general conclusions of the analysis carried out​.</font>"
   ]
  },
  {
   "attachments": {},
   "cell_type": "markdown",
   "metadata": {},
   "source": [
    "### Prerequisites\n",
    "\n",
    "Para que funcione este código se necesita:\n",
    "\n",
    "* Las rutas de archivos `Data/Input` y `Data/Output` deben existir (relativas a la ruta del _notebook_)\n",
    "* El paquete tcltk instalado para seleccionar archivos interactivamente. No se necesita en producción.\n",
    "* Los paquetes INEbaseR, readr, dplyr, stringr, tidyr deben estar instalados.\n"
   ]
  },
  {
   "attachments": {},
   "cell_type": "markdown",
   "metadata": {},
   "source": [
    "### Configuration Management\n",
    "\n",
    "This notebook has been tested with the following versions of R and packages. It cannot be assured that later versions work in the same way:\n",
    "* R 4.2.2\n",
    "* tcltk 4.2.3\n",
    "* INEbaseR 0.1.0\n",
    "* readr 2.1.3\n",
    "* dplyr 1.1.0\n",
    "* stringr 1.5.0\n",
    "* tidyr 1.3.0"
   ]
  },
  {
   "attachments": {},
   "cell_type": "markdown",
   "metadata": {},
   "source": [
    "### Data structures"
   ]
  },
  {
   "attachments": {},
   "cell_type": "markdown",
   "metadata": {},
   "source": [
    "#### Objeto `tdata`\n",
    "\n",
    "- Los datos de origen se han descargado directamente del INE y el código funcionaría para tenerlo actualizado a medida que llegaran datos nuevos\n",
    "- Hay 680 filas con información de las siguientes variables:\n",
    "\t* FK_Periodo\n",
    "\t* Anyo\n",
    "\t* Valor\n",
    "\t* cod_pais\n",
    "\n",
    "Tenemos los siguientes trimestres:\n"
   ]
  },
  {
   "cell_type": "code",
   "execution_count": 28,
   "metadata": {
    "vscode": {
     "languageId": "r"
    }
   },
   "outputs": [
    {
     "data": {
      "text/html": [
       "<table class=\"dataframe\">\n",
       "<caption>A tibble: 20 x 3</caption>\n",
       "<thead>\n",
       "\t<tr><th scope=col>Anyo</th><th scope=col>FK_Periodo</th><th scope=col>n</th></tr>\n",
       "\t<tr><th scope=col>&lt;int&gt;</th><th scope=col>&lt;int&gt;</th><th scope=col>&lt;int&gt;</th></tr>\n",
       "</thead>\n",
       "<tbody>\n",
       "\t<tr><td>2018</td><td>19</td><td>34</td></tr>\n",
       "\t<tr><td>2018</td><td>20</td><td>34</td></tr>\n",
       "\t<tr><td>2018</td><td>21</td><td>34</td></tr>\n",
       "\t<tr><td>2018</td><td>22</td><td>34</td></tr>\n",
       "\t<tr><td>2019</td><td>19</td><td>34</td></tr>\n",
       "\t<tr><td>2019</td><td>20</td><td>34</td></tr>\n",
       "\t<tr><td>2019</td><td>21</td><td>34</td></tr>\n",
       "\t<tr><td>2019</td><td>22</td><td>34</td></tr>\n",
       "\t<tr><td>2020</td><td>19</td><td>34</td></tr>\n",
       "\t<tr><td>2020</td><td>20</td><td>34</td></tr>\n",
       "\t<tr><td>2020</td><td>21</td><td>34</td></tr>\n",
       "\t<tr><td>2020</td><td>22</td><td>34</td></tr>\n",
       "\t<tr><td>2021</td><td>19</td><td>34</td></tr>\n",
       "\t<tr><td>2021</td><td>20</td><td>34</td></tr>\n",
       "\t<tr><td>2021</td><td>21</td><td>34</td></tr>\n",
       "\t<tr><td>2021</td><td>22</td><td>34</td></tr>\n",
       "\t<tr><td>2022</td><td>19</td><td>34</td></tr>\n",
       "\t<tr><td>2022</td><td>20</td><td>34</td></tr>\n",
       "\t<tr><td>2022</td><td>21</td><td>34</td></tr>\n",
       "\t<tr><td>2022</td><td>22</td><td>34</td></tr>\n",
       "</tbody>\n",
       "</table>\n"
      ],
      "text/latex": [
       "A tibble: 20 x 3\n",
       "\\begin{tabular}{lll}\n",
       " Anyo & FK\\_Periodo & n\\\\\n",
       " <int> & <int> & <int>\\\\\n",
       "\\hline\n",
       "\t 2018 & 19 & 34\\\\\n",
       "\t 2018 & 20 & 34\\\\\n",
       "\t 2018 & 21 & 34\\\\\n",
       "\t 2018 & 22 & 34\\\\\n",
       "\t 2019 & 19 & 34\\\\\n",
       "\t 2019 & 20 & 34\\\\\n",
       "\t 2019 & 21 & 34\\\\\n",
       "\t 2019 & 22 & 34\\\\\n",
       "\t 2020 & 19 & 34\\\\\n",
       "\t 2020 & 20 & 34\\\\\n",
       "\t 2020 & 21 & 34\\\\\n",
       "\t 2020 & 22 & 34\\\\\n",
       "\t 2021 & 19 & 34\\\\\n",
       "\t 2021 & 20 & 34\\\\\n",
       "\t 2021 & 21 & 34\\\\\n",
       "\t 2021 & 22 & 34\\\\\n",
       "\t 2022 & 19 & 34\\\\\n",
       "\t 2022 & 20 & 34\\\\\n",
       "\t 2022 & 21 & 34\\\\\n",
       "\t 2022 & 22 & 34\\\\\n",
       "\\end{tabular}\n"
      ],
      "text/markdown": [
       "\n",
       "A tibble: 20 x 3\n",
       "\n",
       "| Anyo &lt;int&gt; | FK_Periodo &lt;int&gt; | n &lt;int&gt; |\n",
       "|---|---|---|\n",
       "| 2018 | 19 | 34 |\n",
       "| 2018 | 20 | 34 |\n",
       "| 2018 | 21 | 34 |\n",
       "| 2018 | 22 | 34 |\n",
       "| 2019 | 19 | 34 |\n",
       "| 2019 | 20 | 34 |\n",
       "| 2019 | 21 | 34 |\n",
       "| 2019 | 22 | 34 |\n",
       "| 2020 | 19 | 34 |\n",
       "| 2020 | 20 | 34 |\n",
       "| 2020 | 21 | 34 |\n",
       "| 2020 | 22 | 34 |\n",
       "| 2021 | 19 | 34 |\n",
       "| 2021 | 20 | 34 |\n",
       "| 2021 | 21 | 34 |\n",
       "| 2021 | 22 | 34 |\n",
       "| 2022 | 19 | 34 |\n",
       "| 2022 | 20 | 34 |\n",
       "| 2022 | 21 | 34 |\n",
       "| 2022 | 22 | 34 |\n",
       "\n"
      ],
      "text/plain": [
       "   Anyo FK_Periodo n \n",
       "1  2018 19         34\n",
       "2  2018 20         34\n",
       "3  2018 21         34\n",
       "4  2018 22         34\n",
       "5  2019 19         34\n",
       "6  2019 20         34\n",
       "7  2019 21         34\n",
       "8  2019 22         34\n",
       "9  2020 19         34\n",
       "10 2020 20         34\n",
       "11 2020 21         34\n",
       "12 2020 22         34\n",
       "13 2021 19         34\n",
       "14 2021 20         34\n",
       "15 2021 21         34\n",
       "16 2021 22         34\n",
       "17 2022 19         34\n",
       "18 2022 20         34\n",
       "19 2022 21         34\n",
       "20 2022 22         34"
      ]
     },
     "metadata": {},
     "output_type": "display_data"
    }
   ],
   "source": [
    "tdata |> count(Anyo, FK_Periodo)"
   ]
  },
  {
   "attachments": {},
   "cell_type": "markdown",
   "metadata": {},
   "source": [
    "#### Observaciones generales sobre los datos\n",
    "\n",
    "* Solo hay datos a nivel de comundiad autónoma por trimestre\n"
   ]
  },
  {
   "attachments": {},
   "cell_type": "markdown",
   "metadata": {},
   "source": [
    "### Consideraciones para despliegue en piloto\n",
    "\n",
    "* No aplica, se desplegará con los datos generados en esta tarea"
   ]
  },
  {
   "attachments": {},
   "cell_type": "markdown",
   "metadata": {},
   "source": [
    "### Consideraciones para despliegue en producción\n",
    "\n",
    "* Se deben crear los procesos ETL en producción necesarios para que los datos de entrada estén actualizados"
   ]
  },
  {
   "cell_type": "markdown",
   "metadata": {},
   "source": [
    "## <font color=' #2874a6 '>Main Actions</font>"
   ]
  },
  {
   "cell_type": "markdown",
   "metadata": {},
   "source": [
    "#### <font color=' #2874a6 '>Acciones done</font>"
   ]
  },
  {
   "cell_type": "markdown",
   "metadata": {
    "slideshow": {
     "slide_type": "slide"
    }
   },
   "source": [
    "<font color='steelblue'>Indicate the actions that have been carried out in this process</font>"
   ]
  },
  {
   "attachments": {},
   "cell_type": "markdown",
   "metadata": {},
   "source": [
    "- Se han obtenido los datos de gasto medio en la CM por país y trimestre"
   ]
  },
  {
   "cell_type": "markdown",
   "metadata": {},
   "source": [
    "#### <font color=' #2874a6 '>Acctions to perform</font>"
   ]
  },
  {
   "cell_type": "markdown",
   "metadata": {
    "slideshow": {
     "slide_type": "slide"
    }
   },
   "source": [
    "<font color='steelblue'>Indicate the actions that must be carried out in subsequent processes</font>"
   ]
  },
  {
   "attachments": {},
   "cell_type": "markdown",
   "metadata": {},
   "source": [
    "- Se deben extrapolar estos datos a los datos por municipio receptor"
   ]
  },
  {
   "attachments": {},
   "cell_type": "markdown",
   "metadata": {},
   "source": [
    "## <font color='RED'>CODE TO DEPLOY (PILOT)</font>\n",
    "\n",
    "A continuación se incluirá el código que deba ser llevado a despliegue para producción, dado que se entiende efectúa operaciones necesarias sobre los datos en la ejecución del prototipo"
   ]
  },
  {
   "attachments": {},
   "cell_type": "markdown",
   "metadata": {},
   "source": [
    "<font color=' red '><b>Description</b></font>\n",
    "\n",
    "- No hay nada que desplegar en el piloto, ya que estos datos son estáticos o en todo caso cambian con muy poca frecuencia, altamente improbable durante el proyecto.\n"
   ]
  },
  {
   "attachments": {},
   "cell_type": "markdown",
   "metadata": {},
   "source": [
    "<font color=' red '><b>CODE</b></font>"
   ]
  },
  {
   "cell_type": "code",
   "execution_count": null,
   "metadata": {
    "vscode": {
     "languageId": "r"
    }
   },
   "outputs": [],
   "source": [
    "# incluir código"
   ]
  }
 ],
 "metadata": {
  "anaconda-cloud": {},
  "celltoolbar": "Slideshow",
  "hide_input": false,
  "kernelspec": {
   "display_name": "R",
   "language": "R",
   "name": "ir"
  },
  "language_info": {
   "codemirror_mode": "r",
   "file_extension": ".r",
   "mimetype": "text/x-r-source",
   "name": "R",
   "pygments_lexer": "r",
   "version": "4.2.3"
  },
  "latex_envs": {
   "LaTeX_envs_menu_present": true,
   "autoclose": false,
   "autocomplete": true,
   "bibliofile": "biblio.bib",
   "cite_by": "apalike",
   "current_citInitial": 1,
   "eqLabelWithNumbers": true,
   "eqNumInitial": 1,
   "hotkeys": {
    "equation": "Ctrl-E",
    "itemize": "Ctrl-I"
   },
   "labels_anchors": false,
   "latex_user_defs": false,
   "report_style_numbering": true,
   "user_envs_cfg": false
  },
  "toc": {
   "base_numbering": 1,
   "nav_menu": {
    "height": "11.6px",
    "width": "160px"
   },
   "number_sections": false,
   "sideBar": true,
   "skip_h1_title": true,
   "title_cell": "Table of Contents",
   "title_sidebar": "Contents",
   "toc_cell": true,
   "toc_position": {
    "height": "calc(100% - 180px)",
    "left": "10px",
    "top": "150px",
    "width": "209.2px"
   },
   "toc_section_display": true,
   "toc_window_display": true
  },
  "varInspector": {
   "cols": {
    "lenName": 16,
    "lenType": 16,
    "lenVar": 40
   },
   "kernels_config": {
    "python": {
     "delete_cmd_postfix": "",
     "delete_cmd_prefix": "del ",
     "library": "var_list.py",
     "varRefreshCmd": "print(var_dic_list())"
    },
    "r": {
     "delete_cmd_postfix": ") ",
     "delete_cmd_prefix": "rm(",
     "library": "var_list.r",
     "varRefreshCmd": "cat(var_dic_list()) "
    }
   },
   "types_to_exclude": [
    "module",
    "function",
    "builtin_function_or_method",
    "instance",
    "_Feature"
   ],
   "window_display": false
  }
 },
 "nbformat": 4,
 "nbformat_minor": 1
}
