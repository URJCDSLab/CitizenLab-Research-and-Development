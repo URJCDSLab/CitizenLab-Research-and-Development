{
 "cells": [
  {
   "cell_type": "markdown",
   "metadata": {
    "slideshow": {
     "slide_type": "slide"
    }
   },
   "source": [
    "<img src=\".\\images\\Logo.png\" width=150 align=\"left\" /> <img src=\".\\images\\Logo2.jpg\" width=450 align=\"right\" />"
   ]
  },
  {
   "cell_type": "markdown",
   "metadata": {
    "slideshow": {
     "slide_type": "slide"
    }
   },
   "source": [
    "\n",
    "# <center><font color= #1e8449 > <b>CU55_Modelo agregado de estimación del gasto medio por turista</font></center>"
   ]
  },
  {
   "cell_type": "markdown",
   "metadata": {
    "slideshow": {
     "slide_type": "slide"
    }
   },
   "source": [
    "<font color='steelblue'><b>Citizenlab Data Science Methodology > II - Data Processing Domain </font>\n",
    "***\n",
    "> # <font color='steelblue'> <b>06.- Data Adequacy</font>"
   ]
  },
  {
   "cell_type": "markdown",
   "metadata": {
    "slideshow": {
     "slide_type": "slide"
    }
   },
   "source": [
    "<font color='steelblue'>Data Adequacy is the process to adapt basic and fundamental aspects of the raw data (File Format, Data Separator, Feature Names, Tidy Data, etcetera).</font>"
   ]
  },
  {
   "cell_type": "markdown",
   "metadata": {
    "slideshow": {
     "slide_type": "slide"
    }
   },
   "source": [
    "## <font color='steelblue'>Tasks</font>"
   ]
  },
  {
   "cell_type": "markdown",
   "metadata": {
    "slideshow": {
     "slide_type": "slide"
    }
   },
   "source": [
    "<font color='steelblue'><b>File format</b>\t\n",
    "- Verify/Obtain Tabular CSV (row x column) if is appropriate \n",
    "- Change Data Separator Character in CSV files to “,”\t\n",
    "- Verify decimal point in numeric data is “.”\n",
    "\n",
    "<font color='steelblue'><b>Feature Names\t\n",
    "- Verify names are Simple, Usable and Recognizable</b>\t\n",
    "- Rename Target column name=”Target” and always will be the last column\t\n",
    "- Verify column names are the first row of csv file\t\n",
    "- Remove spaces  others characters in the column names\t\n",
    "    \n",
    "<font color='steelblue'><b>Data Types</b>\n",
    "- Verify data types\t\n",
    "- Change data types\t\n",
    "- Verify that object type is changed\t\n",
    "    \n",
    "<font color='steelblue'><b>Tidy Data</b>\t\t\n",
    "- Verify each variable forms a column \n",
    "- Verify each observation forms a row\t\n",
    "- Verify each type of observational unit forms a table\t"
   ]
  },
  {
   "cell_type": "markdown",
   "metadata": {},
   "source": [
    "## Consideraciones casos CitizenLab programados en R\n",
    "\n",
    "* La mayoría de las tareas de este proceso se han realizado en los notebooks del proceso 05 Data Collection porque eran necesarias para las tareas ETL. En esos casos, en este notebook se referencia al notebook del proceso 05 correspondiente\n",
    "* Por tanto en los notebooks de este proceso de manera general se incluyen las comprobaciones necesarias, y comentarios si procede\n",
    "* Las tareas del proceso se van a aplicar solo a los archivos que forman parte del despliegue, ya que hay muchos archivos intermedios que no procede pasar por este proceso\n",
    "* El nombre de archivo del notebook hace referencia al nombre de archivo del proceso 05 al que se aplica este proceso, por eso pueden no ser correlativa la numeración\n",
    "* Las comprobaciones se van a realizar teniendo en cuenta que el lenguaje utilizado en el despliegue de este caso es R"
   ]
  },
  {
   "cell_type": "markdown",
   "metadata": {
    "slideshow": {
     "slide_type": "slide"
    }
   },
   "source": [
    "## <font color='green'>File</font>"
   ]
  },
  {
   "cell_type": "markdown",
   "metadata": {
    "slideshow": {
     "slide_type": "slide"
    }
   },
   "source": [
    "- <font color='steelblue'> <b>Input File: CU_55_05_02_gasto_municipio</font>\n",
    "- <font color='steelblue'> <b>Output File: CU_55_06_03_gasto_municipio.csv</font>\n"
   ]
  },
  {
   "cell_type": "markdown",
   "metadata": {
    "slideshow": {
     "slide_type": "slide"
    }
   },
   "source": [
    "## <font color='green'>Settings</font>"
   ]
  },
  {
   "cell_type": "markdown",
   "metadata": {},
   "source": [
    "### Encoding\n",
    "\n",
    "Con la siguiente expresión se evitan problemas con el encoding al ejecutar el notebook. Es posible que deba ser eliminada o adaptada a la máquina en la que se ejecute el código."
   ]
  },
  {
   "cell_type": "code",
   "execution_count": 76,
   "metadata": {
    "vscode": {
     "languageId": "r"
    }
   },
   "outputs": [
    {
     "data": {
      "text/html": [
       "'LC_COLLATE=es_ES.UTF-8;LC_CTYPE=es_ES.UTF-8;LC_MONETARY=es_ES.UTF-8;LC_NUMERIC=C;LC_TIME=es_ES.UTF-8'"
      ],
      "text/latex": [
       "'LC\\_COLLATE=es\\_ES.UTF-8;LC\\_CTYPE=es\\_ES.UTF-8;LC\\_MONETARY=es\\_ES.UTF-8;LC\\_NUMERIC=C;LC\\_TIME=es\\_ES.UTF-8'"
      ],
      "text/markdown": [
       "'LC_COLLATE=es_ES.UTF-8;LC_CTYPE=es_ES.UTF-8;LC_MONETARY=es_ES.UTF-8;LC_NUMERIC=C;LC_TIME=es_ES.UTF-8'"
      ],
      "text/plain": [
       "[1] \"LC_COLLATE=es_ES.UTF-8;LC_CTYPE=es_ES.UTF-8;LC_MONETARY=es_ES.UTF-8;LC_NUMERIC=C;LC_TIME=es_ES.UTF-8\""
      ]
     },
     "metadata": {},
     "output_type": "display_data"
    }
   ],
   "source": [
    "Sys.setlocale(category = \"LC_ALL\", locale = \"es_ES.UTF-8\")"
   ]
  },
  {
   "cell_type": "markdown",
   "metadata": {},
   "source": [
    "### Libraries to use"
   ]
  },
  {
   "cell_type": "code",
   "execution_count": 77,
   "metadata": {
    "ExecuteTime": {
     "end_time": "2020-12-25T18:02:52.556732Z",
     "start_time": "2020-12-25T18:02:52.541126Z"
    },
    "slideshow": {
     "slide_type": "subslide"
    },
    "vscode": {
     "languageId": "r"
    }
   },
   "outputs": [
    {
     "name": "stderr",
     "output_type": "stream",
     "text": [
      "Warning message:\n",
      "\"package 'sf' is in use and will not be installed\"\n"
     ]
    }
   ],
   "source": [
    "install.packages(\"sf\")\n",
    "library(readr)\n",
    "library(dplyr)\n",
    "library(sf)\n",
    "library(tidyr)\n",
    "library(stringr)"
   ]
  },
  {
   "cell_type": "markdown",
   "metadata": {},
   "source": [
    "### Paths"
   ]
  },
  {
   "cell_type": "code",
   "execution_count": 78,
   "metadata": {
    "vscode": {
     "languageId": "r"
    }
   },
   "outputs": [],
   "source": [
    "iPath <- \"Data/Input/\"\n",
    "oPath <- \"Data/Output/\""
   ]
  },
  {
   "cell_type": "markdown",
   "metadata": {
    "slideshow": {
     "slide_type": "slide"
    }
   },
   "source": [
    "## <font color='green'>Data Load</font>"
   ]
  },
  {
   "cell_type": "markdown",
   "metadata": {},
   "source": [
    "<font color='tomato'><b> OPCION A:</b> Seleccionar fichero en ventana para mayor comodidad</font> "
   ]
  },
  {
   "cell_type": "markdown",
   "metadata": {},
   "source": [
    "Data load using the {tcltk} package. Ucomment the line if using this option"
   ]
  },
  {
   "cell_type": "code",
   "execution_count": 79,
   "metadata": {
    "vscode": {
     "languageId": "r"
    }
   },
   "outputs": [],
   "source": [
    "# file_data <- tcltk::tk_choose.files(multi = FALSE)"
   ]
  },
  {
   "cell_type": "markdown",
   "metadata": {},
   "source": [
    "<font color='tomato'><b> OPCION B:</b> Especificar el nombre de archivo</font>\n",
    "\n"
   ]
  },
  {
   "cell_type": "code",
   "execution_count": 80,
   "metadata": {
    "vscode": {
     "languageId": "r"
    }
   },
   "outputs": [
    {
     "name": "stdout",
     "output_type": "stream",
     "text": [
      "Se leerán datos del archivo:  Data/Input/CU_55_05_02_gasto_municipio.csv"
     ]
    }
   ],
   "source": [
    "iFile <- \"CU_55_05_02_gasto_municipio.csv\"\n",
    "file_data <- paste0(iPath, iFile)\n",
    "\n",
    "if(file.exists(file_data)){\n",
    "    cat(\"Se leerán datos del archivo: \", file_data)\n",
    "} else{\n",
    "    warning(\"Cuidado: el archivo no existe.\")\n",
    "}\n"
   ]
  },
  {
   "cell_type": "markdown",
   "metadata": {
    "slideshow": {
     "slide_type": "slide"
    }
   },
   "source": [
    "## <font color='green'>Task</font>"
   ]
  },
  {
   "cell_type": "markdown",
   "metadata": {
    "slideshow": {
     "slide_type": "slide"
    }
   },
   "source": [
    "### File format\n"
   ]
  },
  {
   "cell_type": "markdown",
   "metadata": {
    "slideshow": {
     "slide_type": "slide"
    },
    "tags": []
   },
   "source": [
    "#### Verify/Obtain Tabular CSV (row x column) if is appropriate"
   ]
  },
  {
   "cell_type": "markdown",
   "metadata": {},
   "source": [
    "<font color=' #2874a6 '><b>Remarks</b></font>"
   ]
  },
  {
   "cell_type": "markdown",
   "metadata": {},
   "source": [
    "- Se ha verificado que el CSV carga las filas y columnas sin errores\n"
   ]
  },
  {
   "cell_type": "markdown",
   "metadata": {},
   "source": [
    "<font color=' #2874a6 '><b>CODE</b></font>"
   ]
  },
  {
   "cell_type": "code",
   "execution_count": 81,
   "metadata": {},
   "outputs": [
    {
     "name": "stdout",
     "output_type": "stream",
     "text": [
      "\n",
      "El archivo contiene una representación tabular.\n",
      "Número de filas:  50294\n",
      "Número de columnas:  8"
     ]
    }
   ],
   "source": [
    "data <- read.csv(file_data)\n",
    "# Verify if the data is appropriate and obtain its dimensions\n",
    "if (!is.null(dim(data))) {\n",
    "cat(\"\\nEl archivo contiene una representación tabular.\")\n",
    "# Print the dimensions (rows x columns)\n",
    "cat(\"\\nNúmero de filas: \", dim(data)[1])\n",
    "cat(\"\\nNúmero de columnas: \", dim(data)[2])\n",
    "} else {\n",
    "warning(\"Cuidado: el archivo no contiene una representación tabular.\")\n",
    "}"
   ]
  },
  {
   "cell_type": "markdown",
   "metadata": {},
   "source": [
    "#### Data file to dataframe\n",
    "\n",
    "Usar la función adecuada según el formato de entrada (xlsx, csv, json, ...)"
   ]
  },
  {
   "cell_type": "code",
   "execution_count": 82,
   "metadata": {
    "vscode": {
     "languageId": "r"
    }
   },
   "outputs": [
    {
     "name": "stderr",
     "output_type": "stream",
     "text": [
      "\u001b[1mRows: \u001b[22m\u001b[34m50294\u001b[39m \u001b[1mColumns: \u001b[22m\u001b[34m8\u001b[39m\n",
      "\u001b[36m──\u001b[39m \u001b[1mColumn specification\u001b[22m \u001b[36m──────────────────────────────────────────────────────────────────────────────────────────────────────────────────────────\u001b[39m\n",
      "\u001b[1mDelimiter:\u001b[22m \",\"\n",
      "\u001b[31mchr\u001b[39m (5): mes, pais_orig_cod, pais_orig, mun_dest, CMUN\n",
      "\u001b[32mdbl\u001b[39m (3): mun_dest_cod, turistas, gasto\n",
      "\n",
      "\u001b[36mℹ\u001b[39m Use `spec()` to retrieve the full column specification for this data.\n",
      "\u001b[36mℹ\u001b[39m Specify the column types or set `show_col_types = FALSE` to quiet this message.\n"
     ]
    }
   ],
   "source": [
    "data <- read_csv(file_data)\n"
   ]
  },
  {
   "cell_type": "markdown",
   "metadata": {},
   "source": [
    "Estructura de  los datos:"
   ]
  },
  {
   "cell_type": "code",
   "execution_count": 83,
   "metadata": {
    "vscode": {
     "languageId": "r"
    }
   },
   "outputs": [
    {
     "name": "stdout",
     "output_type": "stream",
     "text": [
      "Rows: 50,294\n",
      "Columns: 8\n",
      "$ mes           \u001b[3m\u001b[90m<chr>\u001b[39m\u001b[23m \"2019-07\", \"2019-07\", \"2019-07\", \"2019-07\", \"2019-07\", \"…\n",
      "$ pais_orig_cod \u001b[3m\u001b[90m<chr>\u001b[39m\u001b[23m \"000\", \"010\", \"011\", \"030\", \"110\", \"121\", \"123\", \"126\", …\n",
      "$ pais_orig     \u001b[3m\u001b[90m<chr>\u001b[39m\u001b[23m \"Total\", \"Total Europa\", \"Total Unión Europea\", \"Total A…\n",
      "$ mun_dest_cod  \u001b[3m\u001b[90m<dbl>\u001b[39m\u001b[23m 28002, 28002, 28002, 28002, 28002, 28002, 28002, 28002, …\n",
      "$ mun_dest      \u001b[3m\u001b[90m<chr>\u001b[39m\u001b[23m \"Ajalvir\", \"Ajalvir\", \"Ajalvir\", \"Ajalvir\", \"Ajalvir\", \"…\n",
      "$ turistas      \u001b[3m\u001b[90m<dbl>\u001b[39m\u001b[23m 338, 290, 268, 37, 56, 54, 37, 40, 157, 116, 109, 8461, …\n",
      "$ CMUN          \u001b[3m\u001b[90m<chr>\u001b[39m\u001b[23m \"002\", \"002\", \"002\", \"002\", \"002\", \"002\", \"002\", \"002\", …\n",
      "$ gasto         \u001b[3m\u001b[90m<dbl>\u001b[39m\u001b[23m 86.78, 86.78, 86.78, 86.78, 76.36, 78.92, 93.65, 102.04,…\n"
     ]
    }
   ],
   "source": [
    "data |> glimpse()"
   ]
  },
  {
   "cell_type": "markdown",
   "metadata": {},
   "source": [
    "Muestra de los primeros datos:"
   ]
  },
  {
   "cell_type": "code",
   "execution_count": 84,
   "metadata": {
    "vscode": {
     "languageId": "r"
    }
   },
   "outputs": [
    {
     "data": {
      "text/html": [
       "<table class=\"dataframe\">\n",
       "<caption>A spec_tbl_df: 5 × 8</caption>\n",
       "<thead>\n",
       "\t<tr><th scope=col>mes</th><th scope=col>pais_orig_cod</th><th scope=col>pais_orig</th><th scope=col>mun_dest_cod</th><th scope=col>mun_dest</th><th scope=col>turistas</th><th scope=col>CMUN</th><th scope=col>gasto</th></tr>\n",
       "\t<tr><th scope=col>&lt;chr&gt;</th><th scope=col>&lt;chr&gt;</th><th scope=col>&lt;chr&gt;</th><th scope=col>&lt;dbl&gt;</th><th scope=col>&lt;chr&gt;</th><th scope=col>&lt;dbl&gt;</th><th scope=col>&lt;chr&gt;</th><th scope=col>&lt;dbl&gt;</th></tr>\n",
       "</thead>\n",
       "<tbody>\n",
       "\t<tr><td>2019-07</td><td>000</td><td>Total              </td><td>28002</td><td>Ajalvir</td><td>338</td><td>002</td><td>86.78</td></tr>\n",
       "\t<tr><td>2019-07</td><td>010</td><td>Total Europa       </td><td>28002</td><td>Ajalvir</td><td>290</td><td>002</td><td>86.78</td></tr>\n",
       "\t<tr><td>2019-07</td><td>011</td><td>Total Unión Europea</td><td>28002</td><td>Ajalvir</td><td>268</td><td>002</td><td>86.78</td></tr>\n",
       "\t<tr><td>2019-07</td><td>030</td><td>Total América      </td><td>28002</td><td>Ajalvir</td><td> 37</td><td>002</td><td>86.78</td></tr>\n",
       "\t<tr><td>2019-07</td><td>110</td><td>Francia            </td><td>28002</td><td>Ajalvir</td><td> 56</td><td>002</td><td>76.36</td></tr>\n",
       "</tbody>\n",
       "</table>\n"
      ],
      "text/latex": [
       "A spec\\_tbl\\_df: 5 × 8\n",
       "\\begin{tabular}{llllllll}\n",
       " mes & pais\\_orig\\_cod & pais\\_orig & mun\\_dest\\_cod & mun\\_dest & turistas & CMUN & gasto\\\\\n",
       " <chr> & <chr> & <chr> & <dbl> & <chr> & <dbl> & <chr> & <dbl>\\\\\n",
       "\\hline\n",
       "\t 2019-07 & 000 & Total               & 28002 & Ajalvir & 338 & 002 & 86.78\\\\\n",
       "\t 2019-07 & 010 & Total Europa        & 28002 & Ajalvir & 290 & 002 & 86.78\\\\\n",
       "\t 2019-07 & 011 & Total Unión Europea & 28002 & Ajalvir & 268 & 002 & 86.78\\\\\n",
       "\t 2019-07 & 030 & Total América       & 28002 & Ajalvir &  37 & 002 & 86.78\\\\\n",
       "\t 2019-07 & 110 & Francia             & 28002 & Ajalvir &  56 & 002 & 76.36\\\\\n",
       "\\end{tabular}\n"
      ],
      "text/markdown": [
       "\n",
       "A spec_tbl_df: 5 × 8\n",
       "\n",
       "| mes &lt;chr&gt; | pais_orig_cod &lt;chr&gt; | pais_orig &lt;chr&gt; | mun_dest_cod &lt;dbl&gt; | mun_dest &lt;chr&gt; | turistas &lt;dbl&gt; | CMUN &lt;chr&gt; | gasto &lt;dbl&gt; |\n",
       "|---|---|---|---|---|---|---|---|\n",
       "| 2019-07 | 000 | Total               | 28002 | Ajalvir | 338 | 002 | 86.78 |\n",
       "| 2019-07 | 010 | Total Europa        | 28002 | Ajalvir | 290 | 002 | 86.78 |\n",
       "| 2019-07 | 011 | Total Unión Europea | 28002 | Ajalvir | 268 | 002 | 86.78 |\n",
       "| 2019-07 | 030 | Total América       | 28002 | Ajalvir |  37 | 002 | 86.78 |\n",
       "| 2019-07 | 110 | Francia             | 28002 | Ajalvir |  56 | 002 | 76.36 |\n",
       "\n"
      ],
      "text/plain": [
       "  mes     pais_orig_cod pais_orig           mun_dest_cod mun_dest turistas CMUN\n",
       "1 2019-07 000           Total               28002        Ajalvir  338      002 \n",
       "2 2019-07 010           Total Europa        28002        Ajalvir  290      002 \n",
       "3 2019-07 011           Total Unión Europea 28002        Ajalvir  268      002 \n",
       "4 2019-07 030           Total América       28002        Ajalvir   37      002 \n",
       "5 2019-07 110           Francia             28002        Ajalvir   56      002 \n",
       "  gasto\n",
       "1 86.78\n",
       "2 86.78\n",
       "3 86.78\n",
       "4 86.78\n",
       "5 76.36"
      ]
     },
     "metadata": {},
     "output_type": "display_data"
    }
   ],
   "source": [
    "data |> slice_head(n = 5)"
   ]
  },
  {
   "cell_type": "markdown",
   "metadata": {
    "slideshow": {
     "slide_type": "slide"
    }
   },
   "source": [
    "#### Change Data Separator Character in CSV files to “,” "
   ]
  },
  {
   "cell_type": "markdown",
   "metadata": {},
   "source": [
    "<font color=' #2874a6 '><b>Remarks</b></font>"
   ]
  },
  {
   "cell_type": "markdown",
   "metadata": {},
   "source": [
    "- Se ha comprobado que el separador es \",\" ya que es la opción por defecto de `read_csv()`"
   ]
  },
  {
   "cell_type": "markdown",
   "metadata": {},
   "source": [
    "<font color=' #2874a6 '><b>CODE</b></font>"
   ]
  },
  {
   "cell_type": "code",
   "execution_count": 85,
   "metadata": {
    "ExecuteTime": {
     "end_time": "2021-01-27T11:01:34.878544Z",
     "start_time": "2021-01-27T11:01:34.740511Z"
    },
    "slideshow": {
     "slide_type": "subslide"
    },
    "vscode": {
     "languageId": "r"
    }
   },
   "outputs": [],
   "source": [
    "# \n"
   ]
  },
  {
   "cell_type": "markdown",
   "metadata": {
    "slideshow": {
     "slide_type": "slide"
    }
   },
   "source": [
    "#### Verify decimal point in numeric data is “.”"
   ]
  },
  {
   "cell_type": "markdown",
   "metadata": {},
   "source": [
    "<font color=' #2874a6 '><b>Remarks</b></font>"
   ]
  },
  {
   "cell_type": "markdown",
   "metadata": {},
   "source": [
    "- Se ha comprobado que el símbolo decimal es \".\" ya que es la opción por defecto de `read_csv()`"
   ]
  },
  {
   "cell_type": "markdown",
   "metadata": {},
   "source": [
    "<font color=' #2874a6 '><b>CODE</b></font>"
   ]
  },
  {
   "cell_type": "code",
   "execution_count": 86,
   "metadata": {
    "ExecuteTime": {
     "end_time": "2021-01-27T11:01:34.878544Z",
     "start_time": "2021-01-27T11:01:34.740511Z"
    },
    "slideshow": {
     "slide_type": "subslide"
    },
    "vscode": {
     "languageId": "r"
    }
   },
   "outputs": [],
   "source": [
    "# \n"
   ]
  },
  {
   "cell_type": "markdown",
   "metadata": {
    "slideshow": {
     "slide_type": "slide"
    }
   },
   "source": [
    "### Feature Names\n"
   ]
  },
  {
   "cell_type": "markdown",
   "metadata": {
    "slideshow": {
     "slide_type": "slide"
    }
   },
   "source": [
    "#### Verify names are Simple, Usable and Recognizable "
   ]
  },
  {
   "cell_type": "markdown",
   "metadata": {},
   "source": [
    "<font color=' #2874a6 '><b>Remarks</b></font>"
   ]
  },
  {
   "cell_type": "markdown",
   "metadata": {},
   "source": [
    "- Se ha comprobado que los nombres de columnas son simples, usables y reconocibles\n"
   ]
  },
  {
   "cell_type": "markdown",
   "metadata": {},
   "source": [
    "<font color=' #2874a6 '><b>CODE</b></font>"
   ]
  },
  {
   "cell_type": "markdown",
   "metadata": {},
   "source": [
    "<font color='tomato'>Visualizo el nombre de las columnas (características)</font>"
   ]
  },
  {
   "cell_type": "code",
   "execution_count": 87,
   "metadata": {
    "ExecuteTime": {
     "end_time": "2021-01-27T11:01:34.878544Z",
     "start_time": "2021-01-27T11:01:34.740511Z"
    },
    "slideshow": {
     "slide_type": "subslide"
    },
    "vscode": {
     "languageId": "r"
    }
   },
   "outputs": [
    {
     "data": {
      "text/html": [
       "<style>\n",
       ".list-inline {list-style: none; margin:0; padding: 0}\n",
       ".list-inline>li {display: inline-block}\n",
       ".list-inline>li:not(:last-child)::after {content: \"\\00b7\"; padding: 0 .5ex}\n",
       "</style>\n",
       "<ol class=list-inline><li>'mes'</li><li>'pais_orig_cod'</li><li>'pais_orig'</li><li>'mun_dest_cod'</li><li>'mun_dest'</li><li>'turistas'</li><li>'CMUN'</li><li>'gasto'</li></ol>\n"
      ],
      "text/latex": [
       "\\begin{enumerate*}\n",
       "\\item 'mes'\n",
       "\\item 'pais\\_orig\\_cod'\n",
       "\\item 'pais\\_orig'\n",
       "\\item 'mun\\_dest\\_cod'\n",
       "\\item 'mun\\_dest'\n",
       "\\item 'turistas'\n",
       "\\item 'CMUN'\n",
       "\\item 'gasto'\n",
       "\\end{enumerate*}\n"
      ],
      "text/markdown": [
       "1. 'mes'\n",
       "2. 'pais_orig_cod'\n",
       "3. 'pais_orig'\n",
       "4. 'mun_dest_cod'\n",
       "5. 'mun_dest'\n",
       "6. 'turistas'\n",
       "7. 'CMUN'\n",
       "8. 'gasto'\n",
       "\n",
       "\n"
      ],
      "text/plain": [
       "[1] \"mes\"           \"pais_orig_cod\" \"pais_orig\"     \"mun_dest_cod\" \n",
       "[5] \"mun_dest\"      \"turistas\"      \"CMUN\"          \"gasto\"        "
      ]
     },
     "metadata": {},
     "output_type": "display_data"
    }
   ],
   "source": [
    "colnames(data)"
   ]
  },
  {
   "cell_type": "markdown",
   "metadata": {},
   "source": [
    "<font color='tomato'>Cambio de nombre a columnas (si es necesario) para mejor uso</font>"
   ]
  },
  {
   "cell_type": "code",
   "execution_count": 88,
   "metadata": {
    "ExecuteTime": {
     "end_time": "2020-12-25T17:59:15.833222Z",
     "start_time": "2020-12-25T17:59:15.701702Z"
    },
    "slideshow": {
     "slide_type": "subslide"
    },
    "vscode": {
     "languageId": "r"
    }
   },
   "outputs": [],
   "source": [
    "# colnames(data) <- c(\"\")"
   ]
  },
  {
   "cell_type": "code",
   "execution_count": 89,
   "metadata": {
    "ExecuteTime": {
     "end_time": "2020-12-25T17:59:15.986986Z",
     "start_time": "2020-12-25T17:59:15.833222Z"
    },
    "slideshow": {
     "slide_type": "subslide"
    },
    "vscode": {
     "languageId": "r"
    }
   },
   "outputs": [
    {
     "data": {
      "text/html": [
       "<style>\n",
       ".list-inline {list-style: none; margin:0; padding: 0}\n",
       ".list-inline>li {display: inline-block}\n",
       ".list-inline>li:not(:last-child)::after {content: \"\\00b7\"; padding: 0 .5ex}\n",
       "</style>\n",
       "<ol class=list-inline><li>'mes'</li><li>'pais_orig_cod'</li><li>'pais_orig'</li><li>'mun_dest_cod'</li><li>'mun_dest'</li><li>'turistas'</li><li>'CMUN'</li><li>'gasto'</li></ol>\n"
      ],
      "text/latex": [
       "\\begin{enumerate*}\n",
       "\\item 'mes'\n",
       "\\item 'pais\\_orig\\_cod'\n",
       "\\item 'pais\\_orig'\n",
       "\\item 'mun\\_dest\\_cod'\n",
       "\\item 'mun\\_dest'\n",
       "\\item 'turistas'\n",
       "\\item 'CMUN'\n",
       "\\item 'gasto'\n",
       "\\end{enumerate*}\n"
      ],
      "text/markdown": [
       "1. 'mes'\n",
       "2. 'pais_orig_cod'\n",
       "3. 'pais_orig'\n",
       "4. 'mun_dest_cod'\n",
       "5. 'mun_dest'\n",
       "6. 'turistas'\n",
       "7. 'CMUN'\n",
       "8. 'gasto'\n",
       "\n",
       "\n"
      ],
      "text/plain": [
       "[1] \"mes\"           \"pais_orig_cod\" \"pais_orig\"     \"mun_dest_cod\" \n",
       "[5] \"mun_dest\"      \"turistas\"      \"CMUN\"          \"gasto\"        "
      ]
     },
     "metadata": {},
     "output_type": "display_data"
    }
   ],
   "source": [
    "colnames(data)"
   ]
  },
  {
   "cell_type": "markdown",
   "metadata": {
    "slideshow": {
     "slide_type": "slide"
    },
    "tags": []
   },
   "source": [
    "#### Rename Target column name=”Target” and always will be the last column "
   ]
  },
  {
   "cell_type": "markdown",
   "metadata": {},
   "source": [
    "<font color=' #2874a6 '><b>Remarks</b></font>"
   ]
  },
  {
   "cell_type": "markdown",
   "metadata": {},
   "source": [
    "- La columna a predecir o estimar sería turistas\n",
    "- No procede ya que no es necesario para aplicar los modelos previstos\n"
   ]
  },
  {
   "cell_type": "markdown",
   "metadata": {},
   "source": [
    "<font color=' #2874a6 '><b>CODE</b></font>"
   ]
  },
  {
   "cell_type": "code",
   "execution_count": 90,
   "metadata": {
    "ExecuteTime": {
     "end_time": "2021-01-27T11:01:34.878544Z",
     "start_time": "2021-01-27T11:01:34.740511Z"
    },
    "slideshow": {
     "slide_type": "subslide"
    },
    "vscode": {
     "languageId": "r"
    }
   },
   "outputs": [],
   "source": [
    "data$Target <- data$gasto\n"
   ]
  },
  {
   "cell_type": "markdown",
   "metadata": {
    "slideshow": {
     "slide_type": "slide"
    }
   },
   "source": [
    "#### Verify column names are the first row of csv file "
   ]
  },
  {
   "cell_type": "markdown",
   "metadata": {},
   "source": [
    "<font color=' #2874a6 '><b>Remarks</b></font>"
   ]
  },
  {
   "cell_type": "markdown",
   "metadata": {},
   "source": [
    "- Se ha comprobado que la primera fila del archivo son los nombres de columna, ya que es la opción por defecto de `read_csv()`"
   ]
  },
  {
   "cell_type": "markdown",
   "metadata": {},
   "source": [
    "<font color=' #2874a6 '><b>CODE</b></font>"
   ]
  },
  {
   "cell_type": "code",
   "execution_count": 91,
   "metadata": {
    "ExecuteTime": {
     "end_time": "2021-01-27T11:01:34.878544Z",
     "start_time": "2021-01-27T11:01:34.740511Z"
    },
    "slideshow": {
     "slide_type": "subslide"
    },
    "vscode": {
     "languageId": "r"
    }
   },
   "outputs": [],
   "source": [
    "# \n"
   ]
  },
  {
   "cell_type": "markdown",
   "metadata": {
    "slideshow": {
     "slide_type": "slide"
    }
   },
   "source": [
    "#### Remove spaces and others characters in the column names "
   ]
  },
  {
   "cell_type": "markdown",
   "metadata": {},
   "source": [
    "<font color=' #2874a6 '><b>Remarks</b></font>"
   ]
  },
  {
   "cell_type": "markdown",
   "metadata": {},
   "source": [
    "- Se ha comprobado que los nombres de columna solo tienen caracteres ascii y no tienen espacios"
   ]
  },
  {
   "cell_type": "markdown",
   "metadata": {},
   "source": [
    "<font color=' #2874a6 '><b>CODE</b></font>"
   ]
  },
  {
   "cell_type": "markdown",
   "metadata": {},
   "source": [
    "<font color='tomato'>Visualizo el nombre de las columnas (características)</font>"
   ]
  },
  {
   "cell_type": "code",
   "execution_count": 92,
   "metadata": {
    "ExecuteTime": {
     "end_time": "2021-01-27T11:01:34.878544Z",
     "start_time": "2021-01-27T11:01:34.740511Z"
    },
    "slideshow": {
     "slide_type": "subslide"
    },
    "vscode": {
     "languageId": "r"
    }
   },
   "outputs": [
    {
     "data": {
      "text/html": [
       "<style>\n",
       ".list-inline {list-style: none; margin:0; padding: 0}\n",
       ".list-inline>li {display: inline-block}\n",
       ".list-inline>li:not(:last-child)::after {content: \"\\00b7\"; padding: 0 .5ex}\n",
       "</style>\n",
       "<ol class=list-inline><li>'mes'</li><li>'pais_orig_cod'</li><li>'pais_orig'</li><li>'mun_dest_cod'</li><li>'mun_dest'</li><li>'turistas'</li><li>'CMUN'</li><li>'gasto'</li><li>'Target'</li></ol>\n"
      ],
      "text/latex": [
       "\\begin{enumerate*}\n",
       "\\item 'mes'\n",
       "\\item 'pais\\_orig\\_cod'\n",
       "\\item 'pais\\_orig'\n",
       "\\item 'mun\\_dest\\_cod'\n",
       "\\item 'mun\\_dest'\n",
       "\\item 'turistas'\n",
       "\\item 'CMUN'\n",
       "\\item 'gasto'\n",
       "\\item 'Target'\n",
       "\\end{enumerate*}\n"
      ],
      "text/markdown": [
       "1. 'mes'\n",
       "2. 'pais_orig_cod'\n",
       "3. 'pais_orig'\n",
       "4. 'mun_dest_cod'\n",
       "5. 'mun_dest'\n",
       "6. 'turistas'\n",
       "7. 'CMUN'\n",
       "8. 'gasto'\n",
       "9. 'Target'\n",
       "\n",
       "\n"
      ],
      "text/plain": [
       "[1] \"mes\"           \"pais_orig_cod\" \"pais_orig\"     \"mun_dest_cod\" \n",
       "[5] \"mun_dest\"      \"turistas\"      \"CMUN\"          \"gasto\"        \n",
       "[9] \"Target\"       "
      ]
     },
     "metadata": {},
     "output_type": "display_data"
    }
   ],
   "source": [
    "# Columns names\n",
    "colnames(data)"
   ]
  },
  {
   "cell_type": "markdown",
   "metadata": {},
   "source": [
    "<font color='tomato'>Cambio espacio por '_' en nombres</font> (si procede)"
   ]
  },
  {
   "cell_type": "code",
   "execution_count": 93,
   "metadata": {
    "ExecuteTime": {
     "end_time": "2020-12-25T17:59:15.833222Z",
     "start_time": "2020-12-25T17:59:15.701702Z"
    },
    "slideshow": {
     "slide_type": "subslide"
    },
    "vscode": {
     "languageId": "r"
    }
   },
   "outputs": [],
   "source": [
    "colnames(data) <- str_replace_all(colnames(data), \" \", \"_\")"
   ]
  },
  {
   "cell_type": "code",
   "execution_count": 94,
   "metadata": {
    "ExecuteTime": {
     "end_time": "2020-12-25T17:59:15.986986Z",
     "start_time": "2020-12-25T17:59:15.833222Z"
    },
    "slideshow": {
     "slide_type": "subslide"
    },
    "vscode": {
     "languageId": "r"
    }
   },
   "outputs": [
    {
     "data": {
      "text/html": [
       "<style>\n",
       ".list-inline {list-style: none; margin:0; padding: 0}\n",
       ".list-inline>li {display: inline-block}\n",
       ".list-inline>li:not(:last-child)::after {content: \"\\00b7\"; padding: 0 .5ex}\n",
       "</style>\n",
       "<ol class=list-inline><li>'mes'</li><li>'pais_orig_cod'</li><li>'pais_orig'</li><li>'mun_dest_cod'</li><li>'mun_dest'</li><li>'turistas'</li><li>'CMUN'</li><li>'gasto'</li><li>'Target'</li></ol>\n"
      ],
      "text/latex": [
       "\\begin{enumerate*}\n",
       "\\item 'mes'\n",
       "\\item 'pais\\_orig\\_cod'\n",
       "\\item 'pais\\_orig'\n",
       "\\item 'mun\\_dest\\_cod'\n",
       "\\item 'mun\\_dest'\n",
       "\\item 'turistas'\n",
       "\\item 'CMUN'\n",
       "\\item 'gasto'\n",
       "\\item 'Target'\n",
       "\\end{enumerate*}\n"
      ],
      "text/markdown": [
       "1. 'mes'\n",
       "2. 'pais_orig_cod'\n",
       "3. 'pais_orig'\n",
       "4. 'mun_dest_cod'\n",
       "5. 'mun_dest'\n",
       "6. 'turistas'\n",
       "7. 'CMUN'\n",
       "8. 'gasto'\n",
       "9. 'Target'\n",
       "\n",
       "\n"
      ],
      "text/plain": [
       "[1] \"mes\"           \"pais_orig_cod\" \"pais_orig\"     \"mun_dest_cod\" \n",
       "[5] \"mun_dest\"      \"turistas\"      \"CMUN\"          \"gasto\"        \n",
       "[9] \"Target\"       "
      ]
     },
     "metadata": {},
     "output_type": "display_data"
    }
   ],
   "source": [
    "colnames(data)"
   ]
  },
  {
   "cell_type": "markdown",
   "metadata": {
    "slideshow": {
     "slide_type": "slide"
    }
   },
   "source": [
    "### Data Types\n"
   ]
  },
  {
   "cell_type": "markdown",
   "metadata": {
    "slideshow": {
     "slide_type": "slide"
    }
   },
   "source": [
    "#### Verify data types "
   ]
  },
  {
   "cell_type": "markdown",
   "metadata": {},
   "source": [
    "<font color=' #2874a6 '><b>Remarks</b></font>"
   ]
  },
  {
   "cell_type": "markdown",
   "metadata": {},
   "source": [
    "- Se ha comprobado el tipo de datos adecuados al importar los datos con `read_csv()`\n"
   ]
  },
  {
   "cell_type": "markdown",
   "metadata": {},
   "source": [
    "<font color=' #2874a6 '><b>CODE</b></font>"
   ]
  },
  {
   "cell_type": "markdown",
   "metadata": {},
   "source": [
    "<font color='tomato'>Visualizo el tipo de las columnas (características)</font>"
   ]
  },
  {
   "cell_type": "code",
   "execution_count": 95,
   "metadata": {
    "ExecuteTime": {
     "end_time": "2021-01-27T11:01:34.878544Z",
     "start_time": "2021-01-27T11:01:34.740511Z"
    },
    "slideshow": {
     "slide_type": "subslide"
    },
    "vscode": {
     "languageId": "r"
    }
   },
   "outputs": [
    {
     "data": {
      "text/html": [
       "<style>\n",
       ".dl-inline {width: auto; margin:0; padding: 0}\n",
       ".dl-inline>dt, .dl-inline>dd {float: none; width: auto; display: inline-block}\n",
       ".dl-inline>dt::after {content: \":\\0020\"; padding-right: .5ex}\n",
       ".dl-inline>dt:not(:first-of-type) {padding-left: .5ex}\n",
       "</style><dl class=dl-inline><dt>mes</dt><dd>'character'</dd><dt>pais_orig_cod</dt><dd>'character'</dd><dt>pais_orig</dt><dd>'character'</dd><dt>mun_dest_cod</dt><dd>'numeric'</dd><dt>mun_dest</dt><dd>'character'</dd><dt>turistas</dt><dd>'numeric'</dd><dt>CMUN</dt><dd>'character'</dd><dt>gasto</dt><dd>'numeric'</dd><dt>Target</dt><dd>'numeric'</dd></dl>\n"
      ],
      "text/latex": [
       "\\begin{description*}\n",
       "\\item[mes] 'character'\n",
       "\\item[pais\\textbackslash{}\\_orig\\textbackslash{}\\_cod] 'character'\n",
       "\\item[pais\\textbackslash{}\\_orig] 'character'\n",
       "\\item[mun\\textbackslash{}\\_dest\\textbackslash{}\\_cod] 'numeric'\n",
       "\\item[mun\\textbackslash{}\\_dest] 'character'\n",
       "\\item[turistas] 'numeric'\n",
       "\\item[CMUN] 'character'\n",
       "\\item[gasto] 'numeric'\n",
       "\\item[Target] 'numeric'\n",
       "\\end{description*}\n"
      ],
      "text/markdown": [
       "mes\n",
       ":   'character'pais_orig_cod\n",
       ":   'character'pais_orig\n",
       ":   'character'mun_dest_cod\n",
       ":   'numeric'mun_dest\n",
       ":   'character'turistas\n",
       ":   'numeric'CMUN\n",
       ":   'character'gasto\n",
       ":   'numeric'Target\n",
       ":   'numeric'\n",
       "\n"
      ],
      "text/plain": [
       "          mes pais_orig_cod     pais_orig  mun_dest_cod      mun_dest \n",
       "  \"character\"   \"character\"   \"character\"     \"numeric\"   \"character\" \n",
       "     turistas          CMUN         gasto        Target \n",
       "    \"numeric\"   \"character\"     \"numeric\"     \"numeric\" "
      ]
     },
     "metadata": {},
     "output_type": "display_data"
    },
    {
     "name": "stdout",
     "output_type": "stream",
     "text": [
      "Rows: 50,294\n",
      "Columns: 9\n",
      "$ mes           \u001b[3m\u001b[90m<chr>\u001b[39m\u001b[23m \"2019-07\", \"2019-07\", \"2019-07\", \"2019-07\", \"2019-07\", \"…\n",
      "$ pais_orig_cod \u001b[3m\u001b[90m<chr>\u001b[39m\u001b[23m \"000\", \"010\", \"011\", \"030\", \"110\", \"121\", \"123\", \"126\", …\n",
      "$ pais_orig     \u001b[3m\u001b[90m<chr>\u001b[39m\u001b[23m \"Total\", \"Total Europa\", \"Total Unión Europea\", \"Total A…\n",
      "$ mun_dest_cod  \u001b[3m\u001b[90m<dbl>\u001b[39m\u001b[23m 28002, 28002, 28002, 28002, 28002, 28002, 28002, 28002, …\n",
      "$ mun_dest      \u001b[3m\u001b[90m<chr>\u001b[39m\u001b[23m \"Ajalvir\", \"Ajalvir\", \"Ajalvir\", \"Ajalvir\", \"Ajalvir\", \"…\n",
      "$ turistas      \u001b[3m\u001b[90m<dbl>\u001b[39m\u001b[23m 338, 290, 268, 37, 56, 54, 37, 40, 157, 116, 109, 8461, …\n",
      "$ CMUN          \u001b[3m\u001b[90m<chr>\u001b[39m\u001b[23m \"002\", \"002\", \"002\", \"002\", \"002\", \"002\", \"002\", \"002\", …\n",
      "$ gasto         \u001b[3m\u001b[90m<dbl>\u001b[39m\u001b[23m 86.78, 86.78, 86.78, 86.78, 76.36, 78.92, 93.65, 102.04,…\n",
      "$ Target        \u001b[3m\u001b[90m<dbl>\u001b[39m\u001b[23m 86.78, 86.78, 86.78, 86.78, 76.36, 78.92, 93.65, 102.04,…\n"
     ]
    }
   ],
   "source": [
    "sapply(data, class)\n",
    "glimpse(data)"
   ]
  },
  {
   "cell_type": "markdown",
   "metadata": {
    "slideshow": {
     "slide_type": "slide"
    }
   },
   "source": [
    "#### Change data types "
   ]
  },
  {
   "cell_type": "markdown",
   "metadata": {},
   "source": [
    "<font color=' #2874a6 '><b>Remarks</b></font>"
   ]
  },
  {
   "cell_type": "markdown",
   "metadata": {},
   "source": [
    "- No aplica"
   ]
  },
  {
   "cell_type": "markdown",
   "metadata": {},
   "source": [
    "<font color=' #2874a6 '><b>CODE</b></font>"
   ]
  },
  {
   "cell_type": "code",
   "execution_count": 96,
   "metadata": {
    "ExecuteTime": {
     "end_time": "2021-01-27T11:01:34.878544Z",
     "start_time": "2021-01-27T11:01:34.740511Z"
    },
    "scrolled": true,
    "slideshow": {
     "slide_type": "subslide"
    },
    "vscode": {
     "languageId": "r"
    }
   },
   "outputs": [],
   "source": [
    "# Changing column types\n",
    "# data$xx <- as.xx(data$xx)"
   ]
  },
  {
   "cell_type": "markdown",
   "metadata": {
    "slideshow": {
     "slide_type": "slide"
    }
   },
   "source": [
    "#### Verify that object type is changed "
   ]
  },
  {
   "cell_type": "markdown",
   "metadata": {},
   "source": [
    "<font color=' #2874a6 '><b>Remarks</b></font>"
   ]
  },
  {
   "cell_type": "markdown",
   "metadata": {},
   "source": [
    "- No aplica\n"
   ]
  },
  {
   "cell_type": "markdown",
   "metadata": {},
   "source": [
    "<font color=' #2874a6 '><b>CODE</b></font>"
   ]
  },
  {
   "cell_type": "code",
   "execution_count": 97,
   "metadata": {
    "vscode": {
     "languageId": "r"
    }
   },
   "outputs": [
    {
     "data": {
      "text/html": [
       "<style>\n",
       ".dl-inline {width: auto; margin:0; padding: 0}\n",
       ".dl-inline>dt, .dl-inline>dd {float: none; width: auto; display: inline-block}\n",
       ".dl-inline>dt::after {content: \":\\0020\"; padding-right: .5ex}\n",
       ".dl-inline>dt:not(:first-of-type) {padding-left: .5ex}\n",
       "</style><dl class=dl-inline><dt>mes</dt><dd>'character'</dd><dt>pais_orig_cod</dt><dd>'character'</dd><dt>pais_orig</dt><dd>'character'</dd><dt>mun_dest_cod</dt><dd>'numeric'</dd><dt>mun_dest</dt><dd>'character'</dd><dt>turistas</dt><dd>'numeric'</dd><dt>CMUN</dt><dd>'character'</dd><dt>gasto</dt><dd>'numeric'</dd><dt>Target</dt><dd>'numeric'</dd></dl>\n"
      ],
      "text/latex": [
       "\\begin{description*}\n",
       "\\item[mes] 'character'\n",
       "\\item[pais\\textbackslash{}\\_orig\\textbackslash{}\\_cod] 'character'\n",
       "\\item[pais\\textbackslash{}\\_orig] 'character'\n",
       "\\item[mun\\textbackslash{}\\_dest\\textbackslash{}\\_cod] 'numeric'\n",
       "\\item[mun\\textbackslash{}\\_dest] 'character'\n",
       "\\item[turistas] 'numeric'\n",
       "\\item[CMUN] 'character'\n",
       "\\item[gasto] 'numeric'\n",
       "\\item[Target] 'numeric'\n",
       "\\end{description*}\n"
      ],
      "text/markdown": [
       "mes\n",
       ":   'character'pais_orig_cod\n",
       ":   'character'pais_orig\n",
       ":   'character'mun_dest_cod\n",
       ":   'numeric'mun_dest\n",
       ":   'character'turistas\n",
       ":   'numeric'CMUN\n",
       ":   'character'gasto\n",
       ":   'numeric'Target\n",
       ":   'numeric'\n",
       "\n"
      ],
      "text/plain": [
       "          mes pais_orig_cod     pais_orig  mun_dest_cod      mun_dest \n",
       "  \"character\"   \"character\"   \"character\"     \"numeric\"   \"character\" \n",
       "     turistas          CMUN         gasto        Target \n",
       "    \"numeric\"   \"character\"     \"numeric\"     \"numeric\" "
      ]
     },
     "metadata": {},
     "output_type": "display_data"
    },
    {
     "name": "stdout",
     "output_type": "stream",
     "text": [
      "Rows: 50,294\n",
      "Columns: 9\n",
      "$ mes           \u001b[3m\u001b[90m<chr>\u001b[39m\u001b[23m \"2019-07\", \"2019-07\", \"2019-07\", \"2019-07\", \"2019-07\", \"…\n",
      "$ pais_orig_cod \u001b[3m\u001b[90m<chr>\u001b[39m\u001b[23m \"000\", \"010\", \"011\", \"030\", \"110\", \"121\", \"123\", \"126\", …\n",
      "$ pais_orig     \u001b[3m\u001b[90m<chr>\u001b[39m\u001b[23m \"Total\", \"Total Europa\", \"Total Unión Europea\", \"Total A…\n",
      "$ mun_dest_cod  \u001b[3m\u001b[90m<dbl>\u001b[39m\u001b[23m 28002, 28002, 28002, 28002, 28002, 28002, 28002, 28002, …\n",
      "$ mun_dest      \u001b[3m\u001b[90m<chr>\u001b[39m\u001b[23m \"Ajalvir\", \"Ajalvir\", \"Ajalvir\", \"Ajalvir\", \"Ajalvir\", \"…\n",
      "$ turistas      \u001b[3m\u001b[90m<dbl>\u001b[39m\u001b[23m 338, 290, 268, 37, 56, 54, 37, 40, 157, 116, 109, 8461, …\n",
      "$ CMUN          \u001b[3m\u001b[90m<chr>\u001b[39m\u001b[23m \"002\", \"002\", \"002\", \"002\", \"002\", \"002\", \"002\", \"002\", …\n",
      "$ gasto         \u001b[3m\u001b[90m<dbl>\u001b[39m\u001b[23m 86.78, 86.78, 86.78, 86.78, 76.36, 78.92, 93.65, 102.04,…\n",
      "$ Target        \u001b[3m\u001b[90m<dbl>\u001b[39m\u001b[23m 86.78, 86.78, 86.78, 86.78, 76.36, 78.92, 93.65, 102.04,…\n"
     ]
    }
   ],
   "source": [
    "sapply(data, class)\n",
    "glimpse(data)"
   ]
  },
  {
   "cell_type": "markdown",
   "metadata": {
    "slideshow": {
     "slide_type": "slide"
    }
   },
   "source": [
    "### Tidy Data\n"
   ]
  },
  {
   "cell_type": "markdown",
   "metadata": {
    "slideshow": {
     "slide_type": "slide"
    }
   },
   "source": [
    "#### Verify each variable forms a column "
   ]
  },
  {
   "cell_type": "markdown",
   "metadata": {},
   "source": [
    "<font color=' #2874a6 '><b>Remarks</b></font>"
   ]
  },
  {
   "cell_type": "markdown",
   "metadata": {},
   "source": [
    "- Se ha comprobado que cada columna se refiere a una variable\n"
   ]
  },
  {
   "cell_type": "markdown",
   "metadata": {},
   "source": [
    "<font color=' #2874a6 '><b>CODE</b></font>"
   ]
  },
  {
   "cell_type": "code",
   "execution_count": 98,
   "metadata": {
    "ExecuteTime": {
     "end_time": "2021-01-27T11:01:34.878544Z",
     "start_time": "2021-01-27T11:01:34.740511Z"
    },
    "slideshow": {
     "slide_type": "subslide"
    },
    "vscode": {
     "languageId": "r"
    }
   },
   "outputs": [
    {
     "data": {
      "text/html": [
       "9"
      ],
      "text/latex": [
       "9"
      ],
      "text/markdown": [
       "9"
      ],
      "text/plain": [
       "[1] 9"
      ]
     },
     "metadata": {},
     "output_type": "display_data"
    },
    {
     "name": "stdout",
     "output_type": "stream",
     "text": [
      "Rows: 50,294\n",
      "Columns: 9\n",
      "$ mes           \u001b[3m\u001b[90m<chr>\u001b[39m\u001b[23m \"2019-07\", \"2019-07\", \"2019-07\", \"2019-07\", \"2019-07\", \"…\n",
      "$ pais_orig_cod \u001b[3m\u001b[90m<chr>\u001b[39m\u001b[23m \"000\", \"010\", \"011\", \"030\", \"110\", \"121\", \"123\", \"126\", …\n",
      "$ pais_orig     \u001b[3m\u001b[90m<chr>\u001b[39m\u001b[23m \"Total\", \"Total Europa\", \"Total Unión Europea\", \"Total A…\n",
      "$ mun_dest_cod  \u001b[3m\u001b[90m<dbl>\u001b[39m\u001b[23m 28002, 28002, 28002, 28002, 28002, 28002, 28002, 28002, …\n",
      "$ mun_dest      \u001b[3m\u001b[90m<chr>\u001b[39m\u001b[23m \"Ajalvir\", \"Ajalvir\", \"Ajalvir\", \"Ajalvir\", \"Ajalvir\", \"…\n",
      "$ turistas      \u001b[3m\u001b[90m<dbl>\u001b[39m\u001b[23m 338, 290, 268, 37, 56, 54, 37, 40, 157, 116, 109, 8461, …\n",
      "$ CMUN          \u001b[3m\u001b[90m<chr>\u001b[39m\u001b[23m \"002\", \"002\", \"002\", \"002\", \"002\", \"002\", \"002\", \"002\", …\n",
      "$ gasto         \u001b[3m\u001b[90m<dbl>\u001b[39m\u001b[23m 86.78, 86.78, 86.78, 86.78, 76.36, 78.92, 93.65, 102.04,…\n",
      "$ Target        \u001b[3m\u001b[90m<dbl>\u001b[39m\u001b[23m 86.78, 86.78, 86.78, 86.78, 76.36, 78.92, 93.65, 102.04,…\n"
     ]
    }
   ],
   "source": [
    "# \n",
    "ncol(data)\n",
    "glimpse(data)"
   ]
  },
  {
   "cell_type": "markdown",
   "metadata": {
    "slideshow": {
     "slide_type": "slide"
    }
   },
   "source": [
    "#### Verify each observation forms a row "
   ]
  },
  {
   "cell_type": "markdown",
   "metadata": {},
   "source": [
    "<font color=' #2874a6 '><b>Remarks</b></font>"
   ]
  },
  {
   "cell_type": "markdown",
   "metadata": {},
   "source": [
    "- Se ha comprobado que cada fila se refiere a una observación\n"
   ]
  },
  {
   "cell_type": "markdown",
   "metadata": {},
   "source": [
    "<font color=' #2874a6 '><b>CODE</b></font>"
   ]
  },
  {
   "cell_type": "code",
   "execution_count": 99,
   "metadata": {
    "ExecuteTime": {
     "end_time": "2021-01-27T11:01:34.878544Z",
     "start_time": "2021-01-27T11:01:34.740511Z"
    },
    "slideshow": {
     "slide_type": "subslide"
    },
    "vscode": {
     "languageId": "r"
    }
   },
   "outputs": [
    {
     "data": {
      "text/html": [
       "50294"
      ],
      "text/latex": [
       "50294"
      ],
      "text/markdown": [
       "50294"
      ],
      "text/plain": [
       "[1] 50294"
      ]
     },
     "metadata": {},
     "output_type": "display_data"
    },
    {
     "data": {
      "text/html": [
       "<table class=\"dataframe\">\n",
       "<caption>A tibble: 1 × 9</caption>\n",
       "<thead>\n",
       "\t<tr><th scope=col>mes</th><th scope=col>pais_orig_cod</th><th scope=col>pais_orig</th><th scope=col>mun_dest_cod</th><th scope=col>mun_dest</th><th scope=col>turistas</th><th scope=col>CMUN</th><th scope=col>gasto</th><th scope=col>Target</th></tr>\n",
       "\t<tr><th scope=col>&lt;chr&gt;</th><th scope=col>&lt;chr&gt;</th><th scope=col>&lt;chr&gt;</th><th scope=col>&lt;dbl&gt;</th><th scope=col>&lt;chr&gt;</th><th scope=col>&lt;dbl&gt;</th><th scope=col>&lt;chr&gt;</th><th scope=col>&lt;dbl&gt;</th><th scope=col>&lt;dbl&gt;</th></tr>\n",
       "</thead>\n",
       "<tbody>\n",
       "\t<tr><td>2019-07</td><td>000</td><td>Total</td><td>28002</td><td>Ajalvir</td><td>338</td><td>002</td><td>86.78</td><td>86.78</td></tr>\n",
       "</tbody>\n",
       "</table>\n"
      ],
      "text/latex": [
       "A tibble: 1 × 9\n",
       "\\begin{tabular}{lllllllll}\n",
       " mes & pais\\_orig\\_cod & pais\\_orig & mun\\_dest\\_cod & mun\\_dest & turistas & CMUN & gasto & Target\\\\\n",
       " <chr> & <chr> & <chr> & <dbl> & <chr> & <dbl> & <chr> & <dbl> & <dbl>\\\\\n",
       "\\hline\n",
       "\t 2019-07 & 000 & Total & 28002 & Ajalvir & 338 & 002 & 86.78 & 86.78\\\\\n",
       "\\end{tabular}\n"
      ],
      "text/markdown": [
       "\n",
       "A tibble: 1 × 9\n",
       "\n",
       "| mes &lt;chr&gt; | pais_orig_cod &lt;chr&gt; | pais_orig &lt;chr&gt; | mun_dest_cod &lt;dbl&gt; | mun_dest &lt;chr&gt; | turistas &lt;dbl&gt; | CMUN &lt;chr&gt; | gasto &lt;dbl&gt; | Target &lt;dbl&gt; |\n",
       "|---|---|---|---|---|---|---|---|---|\n",
       "| 2019-07 | 000 | Total | 28002 | Ajalvir | 338 | 002 | 86.78 | 86.78 |\n",
       "\n"
      ],
      "text/plain": [
       "  mes     pais_orig_cod pais_orig mun_dest_cod mun_dest turistas CMUN gasto\n",
       "1 2019-07 000           Total     28002        Ajalvir  338      002  86.78\n",
       "  Target\n",
       "1 86.78 "
      ]
     },
     "metadata": {},
     "output_type": "display_data"
    }
   ],
   "source": [
    "# \n",
    "nrow(data)\n",
    "head(data, 1)"
   ]
  },
  {
   "cell_type": "markdown",
   "metadata": {
    "slideshow": {
     "slide_type": "slide"
    }
   },
   "source": [
    "#### Verify each type of observational unit forms a table "
   ]
  },
  {
   "cell_type": "markdown",
   "metadata": {},
   "source": [
    "<font color=' #2874a6 '><b>Remarks</b></font>"
   ]
  },
  {
   "cell_type": "markdown",
   "metadata": {},
   "source": [
    "- No aplica\n"
   ]
  },
  {
   "cell_type": "markdown",
   "metadata": {},
   "source": [
    "<font color=' #2874a6 '><b>CODE</b></font>"
   ]
  },
  {
   "cell_type": "code",
   "execution_count": 100,
   "metadata": {
    "ExecuteTime": {
     "end_time": "2021-01-27T11:01:34.878544Z",
     "start_time": "2021-01-27T11:01:34.740511Z"
    },
    "slideshow": {
     "slide_type": "subslide"
    },
    "vscode": {
     "languageId": "r"
    }
   },
   "outputs": [],
   "source": [
    "# \n"
   ]
  },
  {
   "cell_type": "markdown",
   "metadata": {},
   "source": [
    "### Additional Actions not Initially Contemplated\n",
    "\n",
    "No aplica"
   ]
  },
  {
   "cell_type": "markdown",
   "metadata": {
    "slideshow": {
     "slide_type": "slide"
    }
   },
   "source": [
    "#### Title"
   ]
  },
  {
   "cell_type": "markdown",
   "metadata": {},
   "source": [
    "<font color=' #2874a6 '><b>Remarks</b></font>"
   ]
  },
  {
   "cell_type": "markdown",
   "metadata": {},
   "source": [
    "- xxxxxx\n",
    "- xxxxxx\n",
    "- xxxxxx"
   ]
  },
  {
   "cell_type": "markdown",
   "metadata": {},
   "source": [
    "<font color=' #2874a6 '><b>CODE</b></font>"
   ]
  },
  {
   "cell_type": "code",
   "execution_count": 101,
   "metadata": {
    "ExecuteTime": {
     "end_time": "2021-01-27T11:01:34.878544Z",
     "start_time": "2021-01-27T11:01:34.740511Z"
    },
    "slideshow": {
     "slide_type": "subslide"
    },
    "vscode": {
     "languageId": "r"
    }
   },
   "outputs": [],
   "source": [
    "# \n"
   ]
  },
  {
   "cell_type": "markdown",
   "metadata": {},
   "source": [
    "## <font color='green'>Data Save</font>\n",
    "\n",
    "* Solo si se han hecho cambios\n",
    "\n",
    "* No aplica"
   ]
  },
  {
   "cell_type": "markdown",
   "metadata": {},
   "source": [
    "<font color='tomato'> Identificamos los datos a guardar</font>"
   ]
  },
  {
   "cell_type": "code",
   "execution_count": 102,
   "metadata": {
    "vscode": {
     "languageId": "r"
    }
   },
   "outputs": [],
   "source": [
    "data_to_save <- data"
   ]
  },
  {
   "cell_type": "markdown",
   "metadata": {},
   "source": [
    "\n",
    "<font color='tomato'>Estructura de nombre de archivos:</font>\n",
    "\n",
    "* Código del caso de uso, por ejemplo \"CU_04\"\n",
    "* Número del proceso que lo genera, por ejemplo \"_06\".\n",
    "* Resto del nombre del archivo de entrada\n",
    "* Extensión del archivo\n",
    "\n",
    "Ejemplo: \"CU_04_06_01_01_zonasgeo.json, primer fichero que se genera en la tarea 01 del proceso 05 (Data Collection) para el caso de uso 04 (vacunas) y que se ha transformado en el proceso 06\n",
    "\n",
    "Importante mantener los guiones bajos antes de proceso, tarea, archivo y nombre"
   ]
  },
  {
   "cell_type": "markdown",
   "metadata": {},
   "source": [
    "### Proceso 06"
   ]
  },
  {
   "cell_type": "code",
   "execution_count": 103,
   "metadata": {
    "vscode": {
     "languageId": "r"
    }
   },
   "outputs": [],
   "source": [
    "caso <- \"CU_55\"\n",
    "proceso <- '_06'\n",
    "tarea <- \"_03\"\n",
    "archivo <- \"\"\n",
    "proper <- \"_gasto_municipio\"\n",
    "extension <- \".csv\""
   ]
  },
  {
   "cell_type": "markdown",
   "metadata": {},
   "source": [
    "<font color='tomato'><b> OPCION A:</b> Uso del paquete \"tcltk\" para mayor comodidad</font>\n",
    "\n",
    "* Buscar carpeta, escribir nombre de archivo SIN extensión (se especifica en el código)\n",
    "* Especificar sufijo2 si es necesario\n",
    "* Cambiar datos por datos_xx si es necesario"
   ]
  },
  {
   "cell_type": "code",
   "execution_count": 104,
   "metadata": {
    "vscode": {
     "languageId": "r"
    }
   },
   "outputs": [],
   "source": [
    "# file_save <- paste0(caso, proceso, tarea, tcltk::tkgetSaveFile(), proper, extension) \n",
    "# path_out <- paste0(oPath, file_save)\n",
    "# write_csv(data_to_save_xxxxx, path_out)\n",
    "\n",
    "# cat('File saved as: ')\n",
    "# path_out"
   ]
  },
  {
   "cell_type": "markdown",
   "metadata": {},
   "source": [
    "<font color='tomato'><b> OPCION B:</b> Especificar el nombre de archivo</font>"
   ]
  },
  {
   "cell_type": "markdown",
   "metadata": {},
   "source": [
    "- Los ficheros de salida del proceso van siempre a Data/Output/.  "
   ]
  },
  {
   "cell_type": "code",
   "execution_count": 105,
   "metadata": {
    "vscode": {
     "languageId": "r"
    }
   },
   "outputs": [
    {
     "name": "stdout",
     "output_type": "stream",
     "text": [
      "File saved as: "
     ]
    },
    {
     "data": {
      "text/html": [
       "'Data/Output/CU_55_06_03_gasto_municipio.csv'"
      ],
      "text/latex": [
       "'Data/Output/CU\\_55\\_06\\_03\\_gasto\\_municipio.csv'"
      ],
      "text/markdown": [
       "'Data/Output/CU_55_06_03_gasto_municipio.csv'"
      ],
      "text/plain": [
       "[1] \"Data/Output/CU_55_06_03_gasto_municipio.csv\""
      ]
     },
     "metadata": {},
     "output_type": "display_data"
    }
   ],
   "source": [
    "file_save <- paste0(caso, proceso, tarea, archivo, proper, extension) \n",
    "path_out <- paste0(oPath, file_save)\n",
    "write_csv(data_to_save, path_out)\n",
    "\n",
    "cat('File saved as: ')\n",
    "path_out"
   ]
  },
  {
   "cell_type": "markdown",
   "metadata": {},
   "source": [
    "#### Copia del fichero a Input\n",
    "\n",
    "Si el archivo se va a usar en otros notebooks, copiar a la carpeta Input"
   ]
  },
  {
   "cell_type": "code",
   "execution_count": 106,
   "metadata": {
    "vscode": {
     "languageId": "r"
    }
   },
   "outputs": [
    {
     "data": {
      "text/html": [
       "TRUE"
      ],
      "text/latex": [
       "TRUE"
      ],
      "text/markdown": [
       "TRUE"
      ],
      "text/plain": [
       "[1] TRUE"
      ]
     },
     "metadata": {},
     "output_type": "display_data"
    }
   ],
   "source": [
    "path_in <- paste0(iPath, file_save)\n",
    "file.copy(path_out, path_in, overwrite = TRUE)"
   ]
  },
  {
   "cell_type": "markdown",
   "metadata": {
    "slideshow": {
     "slide_type": "slide"
    }
   },
   "source": [
    "## <font color='#2874a6'>REPORT</font>"
   ]
  },
  {
   "cell_type": "markdown",
   "metadata": {},
   "source": [
    "A continuación se realizará un informe de las acciones realizadas"
   ]
  },
  {
   "cell_type": "markdown",
   "metadata": {},
   "source": [
    "## <font color=' #2874a6 '>Main Actions Carried Out</font>"
   ]
  },
  {
   "cell_type": "markdown",
   "metadata": {},
   "source": [
    "Ejemplos\n",
    "- Se han comprobado todas las tareas de Data Adecuacy\n",
    "- No se ha tenido que realizar ninguna acción adicional"
   ]
  },
  {
   "cell_type": "markdown",
   "metadata": {},
   "source": [
    "## <font color=' #2874a6 '>Main Conclusions</font>"
   ]
  },
  {
   "cell_type": "markdown",
   "metadata": {},
   "source": [
    "- Los datos ya se habían tratado en el proceso 05 para poder hacer las tareas de ETL y no ha sido necesaria ninguna modificación"
   ]
  },
  {
   "cell_type": "markdown",
   "metadata": {},
   "source": [
    "## <font color='RED'>CODE TO DEPLOY (PILOT)</font>\n",
    "\n",
    "A continuación se incluirá el código que deba ser llevado a despliegue para producción, dado que se entiende efectúa operaciones necesarias sobre los datos en la ejecución del prototipo"
   ]
  },
  {
   "cell_type": "markdown",
   "metadata": {},
   "source": [
    "<font color=' red '><b>Description</b></font>\n",
    "\n",
    "- No hay nada que desplegar en el piloto, ya que estos datos son estáticos o en todo caso cambian con muy poca frecuencia, altamente improbable durante el proyecto.\n"
   ]
  },
  {
   "cell_type": "markdown",
   "metadata": {},
   "source": [
    "<font color=' red '><b>CODE</b></font>"
   ]
  },
  {
   "cell_type": "code",
   "execution_count": 107,
   "metadata": {
    "vscode": {
     "languageId": "r"
    }
   },
   "outputs": [],
   "source": [
    "# incluir código"
   ]
  },
  {
   "cell_type": "code",
   "execution_count": null,
   "metadata": {},
   "outputs": [],
   "source": []
  }
 ],
 "metadata": {
  "anaconda-cloud": {},
  "celltoolbar": "Slideshow",
  "hide_input": false,
  "kernelspec": {
   "display_name": "R",
   "language": "R",
   "name": "ir"
  },
  "language_info": {
   "codemirror_mode": "r",
   "file_extension": ".r",
   "mimetype": "text/x-r-source",
   "name": "R",
   "pygments_lexer": "r",
   "version": "4.3.0"
  },
  "latex_envs": {
   "LaTeX_envs_menu_present": true,
   "autoclose": false,
   "autocomplete": true,
   "bibliofile": "biblio.bib",
   "cite_by": "apalike",
   "current_citInitial": 1,
   "eqLabelWithNumbers": true,
   "eqNumInitial": 1,
   "hotkeys": {
    "equation": "Ctrl-E",
    "itemize": "Ctrl-I"
   },
   "labels_anchors": false,
   "latex_user_defs": false,
   "report_style_numbering": true,
   "user_envs_cfg": false
  },
  "toc": {
   "base_numbering": 1,
   "nav_menu": {
    "height": "11.6px",
    "width": "160px"
   },
   "number_sections": false,
   "sideBar": true,
   "skip_h1_title": true,
   "title_cell": "Table of Contents",
   "title_sidebar": "Contents",
   "toc_cell": true,
   "toc_position": {
    "height": "calc(100% - 180px)",
    "left": "10px",
    "top": "150px",
    "width": "165px"
   },
   "toc_section_display": true,
   "toc_window_display": true
  },
  "varInspector": {
   "cols": {
    "lenName": 16,
    "lenType": 16,
    "lenVar": 40
   },
   "kernels_config": {
    "python": {
     "delete_cmd_postfix": "",
     "delete_cmd_prefix": "del ",
     "library": "var_list.py",
     "varRefreshCmd": "print(var_dic_list())"
    },
    "r": {
     "delete_cmd_postfix": ") ",
     "delete_cmd_prefix": "rm(",
     "library": "var_list.r",
     "varRefreshCmd": "cat(var_dic_list()) "
    }
   },
   "types_to_exclude": [
    "module",
    "function",
    "builtin_function_or_method",
    "instance",
    "_Feature"
   ],
   "window_display": false
  }
 },
 "nbformat": 4,
 "nbformat_minor": 4
}
