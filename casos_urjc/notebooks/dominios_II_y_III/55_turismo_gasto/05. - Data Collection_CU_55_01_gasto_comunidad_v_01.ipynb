{
 "cells": [
  {
   "cell_type": "markdown",
   "metadata": {
    "slideshow": {
     "slide_type": "slide"
    }
   },
   "source": [
    "<img src=\".\\images\\Logo.png\" width=150 align=\"left\" /> <img src=\".\\images\\Logo2.jpg\" width=450 align=\"right\" />"
   ]
  },
  {
   "cell_type": "markdown",
   "metadata": {
    "slideshow": {
     "slide_type": "slide"
    }
   },
   "source": [
    "\n",
    "# <center><font color= #1e8449 > <b>CU55_Modelo agregado de estimación del gasto medio por turista</font></center>"
   ]
  },
  {
   "cell_type": "markdown",
   "metadata": {
    "slideshow": {
     "slide_type": "slide"
    }
   },
   "source": [
    "<font color='steelblue'><b>Citizenlab Data Science Methodology > II - Data Processing Domain </font>\n",
    "***\n",
    "> # <font color='steelblue'> <b>05.- Data Collection</font>"
   ]
  },
  {
   "cell_type": "markdown",
   "metadata": {
    "slideshow": {
     "slide_type": "slide"
    }
   },
   "source": [
    "<font color='steelblue'>Data Collection is the process to obtain and generate (if required) necessary data to model the problem.</font>"
   ]
  },
  {
   "cell_type": "markdown",
   "metadata": {},
   "source": [
    "### 01. Obtener datos de gasto turístico\n",
    "\n",
    "* Gasto medio diario por turista según país de origen en la Comunidad de Madrid, trimestral.\n",
    "\n",
    "\n",
    "\n",
    "\n",
    "\n"
   ]
  },
  {
   "cell_type": "markdown",
   "metadata": {
    "toc": true
   },
   "source": [
    "<h1>Table of Contents<span class=\"tocSkip\"></span></h1>\n",
    "<div class=\"toc\"><ul class=\"toc-item\"><li><span><a href=\"#Settings\" data-toc-modified-id=\"Settings-1\"><font color=\"green\">Settings</font></a></span></li><li><span><a href=\"#Data-Load\" data-toc-modified-id=\"Data-Load-2\"><font color=\"green\">Data Load</font></a></span></li><li><span><a href=\"#ETL-Processes\" data-toc-modified-id=\"ETL-Processes-3\">ETL Processes</a></span><ul class=\"toc-item\"><li><span><a href=\"#Import-data-from:-CSV,-Excel,-Tab,-JSON,-SQL,-and-Parquet-files\" data-toc-modified-id=\"Import-data-from:-CSV,-Excel,-Tab,-JSON,-SQL,-and-Parquet-files-3.1\">Import data from: CSV, Excel, Tab, JSON, SQL, and Parquet files</a></span></li></ul></li><li><span><a href=\"#Synthetic-Data-Generation\" data-toc-modified-id=\"Synthetic-Data-Generation-4\">Synthetic Data Generation</a></span></li><li><span><a href=\"#Fake-Data-Generation\" data-toc-modified-id=\"Fake-Data-Generation-5\">Fake Data Generation</a></span></li><li><span><a href=\"#Open-Data\" data-toc-modified-id=\"Open-Data-6\">Open Data</a></span></li><li><span><a href=\"#Data-Save\" data-toc-modified-id=\"Data-Save-7\"><font color=\"green\">Data Save</font></a></span></li><li><span><a href=\"#Main-Conclusions\" data-toc-modified-id=\"Main-Conclusions-8\"><font color=\" #2874a6 \">Main Conclusions</font></a></span></li><li><span><a href=\"#Main-Actions\" data-toc-modified-id=\"Main-Actions-9\"><font color=\" #2874a6 \">Main Actions</font></a></span><ul class=\"toc-item\"><li><ul class=\"toc-item\"><li><span><a href=\"#Acciones-done\" data-toc-modified-id=\"Acciones-done-9.0.1\"><font color=\" #2874a6 \">Acciones done</font></a></span></li><li><span><a href=\"#Acctions-to-perform\" data-toc-modified-id=\"Acctions-to-perform-9.0.2\"><font color=\" #2874a6 \">Acctions to perform</font></a></span></li></ul></li></ul></li></ul></div>"
   ]
  },
  {
   "cell_type": "markdown",
   "metadata": {
    "slideshow": {
     "slide_type": "slide"
    }
   },
   "source": [
    "## <font color='green'>Settings</font>"
   ]
  },
  {
   "cell_type": "markdown",
   "metadata": {},
   "source": [
    "### Encoding\n",
    "\n",
    "Con la siguiente expresión se evitan problemas con el encoding al ejecutar el notebook. Es posible que deba ser eliminada o adaptada a la máquina en la que se ejecute el código."
   ]
  },
  {
   "cell_type": "code",
   "execution_count": 1,
   "metadata": {},
   "outputs": [
    {
     "data": {
      "text/html": [
       "'LC_COLLATE=es_ES.UTF-8;LC_CTYPE=es_ES.UTF-8;LC_MONETARY=es_ES.UTF-8;LC_NUMERIC=C;LC_TIME=es_ES.UTF-8'"
      ],
      "text/latex": [
       "'LC\\_COLLATE=es\\_ES.UTF-8;LC\\_CTYPE=es\\_ES.UTF-8;LC\\_MONETARY=es\\_ES.UTF-8;LC\\_NUMERIC=C;LC\\_TIME=es\\_ES.UTF-8'"
      ],
      "text/markdown": [
       "'LC_COLLATE=es_ES.UTF-8;LC_CTYPE=es_ES.UTF-8;LC_MONETARY=es_ES.UTF-8;LC_NUMERIC=C;LC_TIME=es_ES.UTF-8'"
      ],
      "text/plain": [
       "[1] \"LC_COLLATE=es_ES.UTF-8;LC_CTYPE=es_ES.UTF-8;LC_MONETARY=es_ES.UTF-8;LC_NUMERIC=C;LC_TIME=es_ES.UTF-8\""
      ]
     },
     "metadata": {},
     "output_type": "display_data"
    }
   ],
   "source": [
    "Sys.setlocale(category = \"LC_ALL\", locale = \"es_ES.UTF-8\")"
   ]
  },
  {
   "cell_type": "markdown",
   "metadata": {},
   "source": [
    "### Packages to use\n",
    "\n",
    "_ELIMINAR O AÑADIR LO QUE TOQUE. COPIAR VERSIONES AL FINAL Y QUITAR CÓDIGO DE VERSIONES_\n",
    "\n",
    "- {tcltk} para selección interactiva de archivos locales\n",
    "- {sf} para trabajar con georeferenciación\n",
    "- {readr} para leer y escribir archivos csv\n",
    "- {dplyr} para explorar datos\n",
    "- {stringr} para manipulación de cadenas de caracteres\n",
    "- {tidyr} para organización de datos\n"
   ]
  },
  {
   "cell_type": "code",
   "execution_count": 3,
   "metadata": {
    "ExecuteTime": {
     "end_time": "2021-12-03T15:23:33.762841Z",
     "start_time": "2021-12-03T15:23:08.580267Z"
    },
    "slideshow": {
     "slide_type": "subslide"
    }
   },
   "outputs": [],
   "source": [
    "library(INEbaseR)\n",
    "library(dplyr)\n",
    "library(stringr)\n",
    "library(readr)\n",
    "library(tidyr)\n",
    "\n",
    "p <- c(\"tcltk\", \"INEbaseR\", \"readr\", \"dplyr\", \"stringr\", \"tidyr\")\n"
   ]
  },
  {
   "cell_type": "markdown",
   "metadata": {},
   "source": [
    "### Paths"
   ]
  },
  {
   "cell_type": "code",
   "execution_count": 4,
   "metadata": {},
   "outputs": [],
   "source": [
    "iPath <- \"Data/Input/\"\n",
    "oPath <- \"Data/Output/\""
   ]
  },
  {
   "cell_type": "markdown",
   "metadata": {
    "slideshow": {
     "slide_type": "slide"
    }
   },
   "source": [
    "## <font color='green'>Data Load</font>\n",
    "\n",
    "No aplica: los datos se descargan a través de la API del INE"
   ]
  },
  {
   "cell_type": "markdown",
   "metadata": {
    "slideshow": {
     "slide_type": "slide"
    }
   },
   "source": [
    "## ETL Processes\n",
    "\n",
    "No aplica"
   ]
  },
  {
   "cell_type": "markdown",
   "metadata": {
    "slideshow": {
     "slide_type": "slide"
    }
   },
   "source": [
    "### Import data from: CSV, Excel, Tab, JSON, SQL, and Parquet files\n",
    "\n"
   ]
  },
  {
   "cell_type": "markdown",
   "metadata": {
    "slideshow": {
     "slide_type": "slide"
    }
   },
   "source": [
    "## Synthetic Data Generation"
   ]
  },
  {
   "cell_type": "markdown",
   "metadata": {
    "slideshow": {
     "slide_type": "slide"
    }
   },
   "source": [
    "No aplica"
   ]
  },
  {
   "cell_type": "markdown",
   "metadata": {
    "slideshow": {
     "slide_type": "slide"
    }
   },
   "source": [
    "## Fake Data Generation"
   ]
  },
  {
   "cell_type": "markdown",
   "metadata": {
    "slideshow": {
     "slide_type": "slide"
    }
   },
   "source": [
    "No aplica"
   ]
  },
  {
   "cell_type": "markdown",
   "metadata": {
    "slideshow": {
     "slide_type": "slide"
    }
   },
   "source": [
    "## Open Data"
   ]
  },
  {
   "cell_type": "markdown",
   "metadata": {
    "slideshow": {
     "slide_type": "slide"
    }
   },
   "source": [
    "Este proceso debe tener como resultado un fichero .csv con los datos a analizar.\n",
    "\n",
    "Se importarán datos \"open\" si es necesario que serán total o parcialmente parte de los datos finales. \n",
    "\n"
   ]
  },
  {
   "cell_type": "markdown",
   "metadata": {},
   "source": [
    "La tabla del INE donde se encuentran estos datos es la 37672"
   ]
  },
  {
   "cell_type": "code",
   "execution_count": 5,
   "metadata": {},
   "outputs": [],
   "source": [
    "t <- 37672"
   ]
  },
  {
   "cell_type": "markdown",
   "metadata": {},
   "source": [
    "Se obtienen las series de datos para después hacer la búsqueda y obtener sus metadatos"
   ]
  },
  {
   "cell_type": "code",
   "execution_count": 6,
   "metadata": {},
   "outputs": [],
   "source": [
    "data_01 <- get_tables(t, resource = \"data\") |> \n",
    "  filter(str_detect(Nombre, \"Total\", negate = TRUE)) \n"
   ]
  },
  {
   "cell_type": "markdown",
   "metadata": {},
   "source": [
    "Se crea el data.frame donde se guardarán los metadatos para el caso"
   ]
  },
  {
   "cell_type": "code",
   "execution_count": 7,
   "metadata": {},
   "outputs": [],
   "source": [
    "data_02 <- data.frame(cod_ccaa = character(),\n",
    "                   cod_pais = character())"
   ]
  },
  {
   "cell_type": "markdown",
   "metadata": {},
   "source": [
    "Se descargan los metadatos de diterés de las series para el caso."
   ]
  },
  {
   "cell_type": "code",
   "execution_count": 8,
   "metadata": {},
   "outputs": [
    {
     "name": "stderr",
     "output_type": "stream",
     "text": [
      "Warning message:\n",
      "\"\u001b[1m\u001b[22mUsing one column matrices in `filter()` was deprecated in dplyr 1.1.0.\n",
      "\u001b[36mℹ\u001b[39m Please use one dimensional logical vectors instead.\"\n"
     ]
    }
   ],
   "source": [
    "series <- data_01$COD\n",
    "for(i in seq_along(series)){\n",
    "  m <- get_series(series[i], resource = \"metadata\", tip = \"M\")$MetaData\n",
    "  data_02[i, 1] <- m |> filter(Variable[1] == 70) |> \n",
    "           pull(Codigo)\n",
    "  data_02[i, 2] <- m |> filter(Variable[1] == 96) |> \n",
    "           pull(Codigo)\n",
    "  #cat(i, \": \", series[i], \"\\n\")\n",
    "}\n"
   ]
  },
  {
   "cell_type": "markdown",
   "metadata": {},
   "source": [
    "Se unen las series a los metadatos, se expanden se quitan las columnas que no hacen falta"
   ]
  },
  {
   "cell_type": "code",
   "execution_count": 9,
   "metadata": {},
   "outputs": [],
   "source": [
    "data_03 <- data_01 |> \n",
    "  bind_cols(data_02) |> \n",
    "  select(-c(COD:FK_Escala)) |> \n",
    "  filter(cod_ccaa == 13) |> \n",
    "  unnest(Data) |> \n",
    "  select(-c(cod_ccaa, Secreto, Fecha, FK_TipoDato)) \n"
   ]
  },
  {
   "cell_type": "markdown",
   "metadata": {},
   "source": [
    "Se imputan valores perdidos"
   ]
  },
  {
   "cell_type": "code",
   "execution_count": 10,
   "metadata": {},
   "outputs": [],
   "source": [
    "tdata <- data_03 |> \n",
    "  group_by(FK_Periodo) |> \n",
    "  mutate(Valor = if_else(is.na(Valor), median(Valor, na.rm = TRUE), Valor)) |> \n",
    "  ungroup()"
   ]
  },
  {
   "cell_type": "markdown",
   "metadata": {},
   "source": [
    "Estructura de los datos"
   ]
  },
  {
   "cell_type": "code",
   "execution_count": 13,
   "metadata": {},
   "outputs": [
    {
     "name": "stdout",
     "output_type": "stream",
     "text": [
      "Rows: 680\n",
      "Columns: 4\n",
      "$ FK_Periodo \u001b[3m\u001b[90m<int>\u001b[39m\u001b[23m 22, 21, 20, 19, 22, 21, 20, 19, 22, 21, 20, 19, 22, 21, 20,…\n",
      "$ Anyo       \u001b[3m\u001b[90m<int>\u001b[39m\u001b[23m 2022, 2022, 2022, 2022, 2021, 2021, 2021, 2021, 2020, 2020,…\n",
      "$ Valor      \u001b[3m\u001b[90m<dbl>\u001b[39m\u001b[23m 101.480, 109.300, 122.010, 97.010, 98.500, 101.140, 112.930…\n",
      "$ cod_pais   \u001b[3m\u001b[90m<chr>\u001b[39m\u001b[23m \"126\", \"126\", \"126\", \"126\", \"126\", \"126\", \"126\", \"126\", \"12…\n"
     ]
    }
   ],
   "source": [
    "tdata |> glimpse()"
   ]
  },
  {
   "cell_type": "markdown",
   "metadata": {},
   "source": [
    "Muestra de los primeros datos"
   ]
  },
  {
   "cell_type": "code",
   "execution_count": 14,
   "metadata": {},
   "outputs": [
    {
     "data": {
      "text/html": [
       "<table class=\"dataframe\">\n",
       "<caption>A tibble: 10 × 4</caption>\n",
       "<thead>\n",
       "\t<tr><th scope=col>FK_Periodo</th><th scope=col>Anyo</th><th scope=col>Valor</th><th scope=col>cod_pais</th></tr>\n",
       "\t<tr><th scope=col>&lt;int&gt;</th><th scope=col>&lt;int&gt;</th><th scope=col>&lt;dbl&gt;</th><th scope=col>&lt;chr&gt;</th></tr>\n",
       "</thead>\n",
       "<tbody>\n",
       "\t<tr><td>22</td><td>2022</td><td>101.48</td><td>126</td></tr>\n",
       "\t<tr><td>21</td><td>2022</td><td>109.30</td><td>126</td></tr>\n",
       "\t<tr><td>20</td><td>2022</td><td>122.01</td><td>126</td></tr>\n",
       "\t<tr><td>19</td><td>2022</td><td> 97.01</td><td>126</td></tr>\n",
       "\t<tr><td>22</td><td>2021</td><td> 98.50</td><td>126</td></tr>\n",
       "\t<tr><td>21</td><td>2021</td><td>101.14</td><td>126</td></tr>\n",
       "\t<tr><td>20</td><td>2021</td><td>112.93</td><td>126</td></tr>\n",
       "\t<tr><td>19</td><td>2021</td><td> 94.18</td><td>126</td></tr>\n",
       "\t<tr><td>22</td><td>2020</td><td> 94.73</td><td>126</td></tr>\n",
       "\t<tr><td>21</td><td>2020</td><td>114.79</td><td>126</td></tr>\n",
       "</tbody>\n",
       "</table>\n"
      ],
      "text/latex": [
       "A tibble: 10 × 4\n",
       "\\begin{tabular}{llll}\n",
       " FK\\_Periodo & Anyo & Valor & cod\\_pais\\\\\n",
       " <int> & <int> & <dbl> & <chr>\\\\\n",
       "\\hline\n",
       "\t 22 & 2022 & 101.48 & 126\\\\\n",
       "\t 21 & 2022 & 109.30 & 126\\\\\n",
       "\t 20 & 2022 & 122.01 & 126\\\\\n",
       "\t 19 & 2022 &  97.01 & 126\\\\\n",
       "\t 22 & 2021 &  98.50 & 126\\\\\n",
       "\t 21 & 2021 & 101.14 & 126\\\\\n",
       "\t 20 & 2021 & 112.93 & 126\\\\\n",
       "\t 19 & 2021 &  94.18 & 126\\\\\n",
       "\t 22 & 2020 &  94.73 & 126\\\\\n",
       "\t 21 & 2020 & 114.79 & 126\\\\\n",
       "\\end{tabular}\n"
      ],
      "text/markdown": [
       "\n",
       "A tibble: 10 × 4\n",
       "\n",
       "| FK_Periodo &lt;int&gt; | Anyo &lt;int&gt; | Valor &lt;dbl&gt; | cod_pais &lt;chr&gt; |\n",
       "|---|---|---|---|\n",
       "| 22 | 2022 | 101.48 | 126 |\n",
       "| 21 | 2022 | 109.30 | 126 |\n",
       "| 20 | 2022 | 122.01 | 126 |\n",
       "| 19 | 2022 |  97.01 | 126 |\n",
       "| 22 | 2021 |  98.50 | 126 |\n",
       "| 21 | 2021 | 101.14 | 126 |\n",
       "| 20 | 2021 | 112.93 | 126 |\n",
       "| 19 | 2021 |  94.18 | 126 |\n",
       "| 22 | 2020 |  94.73 | 126 |\n",
       "| 21 | 2020 | 114.79 | 126 |\n",
       "\n"
      ],
      "text/plain": [
       "   FK_Periodo Anyo Valor  cod_pais\n",
       "1  22         2022 101.48 126     \n",
       "2  21         2022 109.30 126     \n",
       "3  20         2022 122.01 126     \n",
       "4  19         2022  97.01 126     \n",
       "5  22         2021  98.50 126     \n",
       "6  21         2021 101.14 126     \n",
       "7  20         2021 112.93 126     \n",
       "8  19         2021  94.18 126     \n",
       "9  22         2020  94.73 126     \n",
       "10 21         2020 114.79 126     "
      ]
     },
     "metadata": {},
     "output_type": "display_data"
    }
   ],
   "source": [
    "tdata |> slice_head(n = 10)"
   ]
  },
  {
   "cell_type": "markdown",
   "metadata": {},
   "source": [
    "## <font color='green'>Data Save</font>"
   ]
  },
  {
   "cell_type": "markdown",
   "metadata": {},
   "source": [
    "Este proceso, puede copiarse y repetirse en aquellas partes del notebbok que necesiten guardar datos.\n",
    "Recuerde cambiar las cadenas añadida del fichero para diferenciarlas"
   ]
  },
  {
   "cell_type": "markdown",
   "metadata": {},
   "source": [
    "<font color='tomato'> Identificamos los datos a guardar</font>"
   ]
  },
  {
   "cell_type": "code",
   "execution_count": 15,
   "metadata": {
    "ExecuteTime": {
     "end_time": "2020-12-25T17:59:27.022001Z",
     "start_time": "2020-12-25T17:59:15.986986Z"
    }
   },
   "outputs": [],
   "source": [
    "data_to_save <- tdata"
   ]
  },
  {
   "cell_type": "markdown",
   "metadata": {},
   "source": [
    "\n",
    "<font color='tomato'>Estructura de nombre de archivos:</font>\n",
    "\n",
    "* Código del caso de uso, por ejemplo \"CU_04\"\n",
    "* Número del proceso que lo genera, por ejemplo \"_05\".\n",
    "* Número de la tarea que lo genera, por ejemplo \"_01\"\n",
    "* En caso de generarse varios ficheros en la misma tarea, llevarán _01 _02 ... después\n",
    "* Nombre: identificativo de \"properData\", por ejemplo \"_zonasgeo\"\n",
    "* Extensión del archivo\n",
    "\n",
    "Ejemplo: \"CU_04_05_01_01_zonasgeo.json, primer fichero que se genera en la tarea 01 del proceso 05 (Data Collection) para el caso de uso 04 (vacunas)\n",
    "\n",
    "Importante mantener los guiones bajos antes de proceso, tarea, archivo y nombre"
   ]
  },
  {
   "cell_type": "markdown",
   "metadata": {},
   "source": [
    "### Proceso 05"
   ]
  },
  {
   "cell_type": "code",
   "execution_count": 16,
   "metadata": {
    "ExecuteTime": {
     "end_time": "2020-12-25T17:59:27.022001Z",
     "start_time": "2020-12-25T17:59:15.986986Z"
    }
   },
   "outputs": [],
   "source": [
    "caso <- \"CU_55\"\n",
    "proceso <- '_05'\n",
    "tarea <- \"_01\"\n",
    "archivo <- \"\"\n",
    "proper <- \"_gasto_comunidad\"\n",
    "extension <- \".csv\""
   ]
  },
  {
   "cell_type": "markdown",
   "metadata": {},
   "source": [
    "<font color='tomato'><b> OPCION A:</b> Uso del paquete \"tcltk\" para mayor comodidad</font>\n",
    "\n",
    "* Buscar carpeta, escribir nombre de archivo SIN extensión (se especifica en el código)\n",
    "* Especificar sufijo2 si es necesario\n",
    "* Cambiar datos por datos_xx si es necesario"
   ]
  },
  {
   "cell_type": "code",
   "execution_count": 17,
   "metadata": {
    "ExecuteTime": {
     "end_time": "2020-12-25T17:59:27.022001Z",
     "start_time": "2020-12-25T17:59:15.986986Z"
    }
   },
   "outputs": [],
   "source": [
    "# file_save <- paste0(caso, proceso, tarea, tcltk::tkgetSaveFile(), proper, extension) \n",
    "# path_out <- paste0(oPath, file_save)\n",
    "# write_csv(data_to_save_xxxxx, path_out)\n",
    "\n",
    "# cat('File saved as: ')\n",
    "# path_out"
   ]
  },
  {
   "cell_type": "markdown",
   "metadata": {},
   "source": [
    "<font color='tomato'><b> OPCION B:</b> Especificar el nombre de archivo</font>"
   ]
  },
  {
   "cell_type": "markdown",
   "metadata": {},
   "source": [
    "- Los ficheros de salida del proceso van siempre a Data/Output/.  "
   ]
  },
  {
   "cell_type": "code",
   "execution_count": 18,
   "metadata": {
    "ExecuteTime": {
     "end_time": "2021-01-26T18:40:31.258294Z",
     "start_time": "2021-01-26T18:40:26.061847Z"
    },
    "slideshow": {
     "slide_type": "subslide"
    }
   },
   "outputs": [
    {
     "name": "stdout",
     "output_type": "stream",
     "text": [
      "File saved as: "
     ]
    },
    {
     "data": {
      "text/html": [
       "'Data/Output/CU_55_05_01_gasto_comunidad.csv'"
      ],
      "text/latex": [
       "'Data/Output/CU\\_55\\_05\\_01\\_gasto\\_comunidad.csv'"
      ],
      "text/markdown": [
       "'Data/Output/CU_55_05_01_gasto_comunidad.csv'"
      ],
      "text/plain": [
       "[1] \"Data/Output/CU_55_05_01_gasto_comunidad.csv\""
      ]
     },
     "metadata": {},
     "output_type": "display_data"
    }
   ],
   "source": [
    "file_save <- paste0(caso, proceso, tarea, archivo, proper, extension) \n",
    "path_out <- paste0(oPath, file_save)\n",
    "write_csv(data_to_save, path_out)\n",
    "\n",
    "cat('File saved as: ')\n",
    "path_out"
   ]
  },
  {
   "cell_type": "markdown",
   "metadata": {},
   "source": [
    "#### Copia del fichero a Input\n",
    "\n",
    "Si el archivo se va a usar en otros notebooks, copiar a la carpeta Input"
   ]
  },
  {
   "cell_type": "code",
   "execution_count": 19,
   "metadata": {},
   "outputs": [
    {
     "data": {
      "text/html": [
       "TRUE"
      ],
      "text/latex": [
       "TRUE"
      ],
      "text/markdown": [
       "TRUE"
      ],
      "text/plain": [
       "[1] TRUE"
      ]
     },
     "metadata": {},
     "output_type": "display_data"
    }
   ],
   "source": [
    "path_in <- paste0(iPath, file_save)\n",
    "file.copy(path_out, path_in, overwrite = TRUE)"
   ]
  },
  {
   "cell_type": "markdown",
   "metadata": {},
   "source": [
    "## <font color=' #2874a6 '>Main Conclusions</font>"
   ]
  },
  {
   "cell_type": "markdown",
   "metadata": {
    "slideshow": {
     "slide_type": "slide"
    }
   },
   "source": [
    "<font color='steelblue'>List and describe the general conclusions of the analysis carried out​.</font>"
   ]
  },
  {
   "cell_type": "markdown",
   "metadata": {},
   "source": [
    "### Prerequisites\n",
    "\n",
    "Para que funcione este código se necesita:\n",
    "\n",
    "* Las rutas de archivos `Data/Input` y `Data/Output` deben existir (relativas a la ruta del _notebook_)\n",
    "* El paquete tcltk instalado para seleccionar archivos interactivamente. No se necesita en producción.\n",
    "* Los paquetes INEbaseR, readr, dplyr, stringr, tidyr deben estar instalados.\n"
   ]
  },
  {
   "cell_type": "markdown",
   "metadata": {},
   "source": [
    "### Configuration Management\n",
    "\n",
    "This notebook has been tested with the following versions of R and packages. It cannot be assured that later versions work in the same way:\n",
    "* R 4.2.2\n",
    "* tcltk 4.2.3\n",
    "* INEbaseR 0.1.0\n",
    "* readr 2.1.3\n",
    "* dplyr 1.1.0\n",
    "* stringr 1.5.0\n",
    "* tidyr 1.3.0"
   ]
  },
  {
   "cell_type": "markdown",
   "metadata": {},
   "source": [
    "### Data structures"
   ]
  },
  {
   "cell_type": "markdown",
   "metadata": {},
   "source": [
    "#### Objeto `tdata`\n",
    "\n",
    "- Los datos de origen se han descargado directamente del INE y el código funcionaría para tenerlo actualizado a medida que llegaran datos nuevos\n",
    "- Hay 680 filas con información de las siguientes variables:\n",
    "\t* FK_Periodo\n",
    "\t* Anyo\n",
    "\t* Valor\n",
    "\t* cod_pais\n",
    "\n",
    "Tenemos los siguientes trimestres:\n"
   ]
  },
  {
   "cell_type": "code",
   "execution_count": 20,
   "metadata": {},
   "outputs": [
    {
     "data": {
      "text/html": [
       "<table class=\"dataframe\">\n",
       "<caption>A tibble: 20 × 3</caption>\n",
       "<thead>\n",
       "\t<tr><th scope=col>Anyo</th><th scope=col>FK_Periodo</th><th scope=col>n</th></tr>\n",
       "\t<tr><th scope=col>&lt;int&gt;</th><th scope=col>&lt;int&gt;</th><th scope=col>&lt;int&gt;</th></tr>\n",
       "</thead>\n",
       "<tbody>\n",
       "\t<tr><td>2018</td><td>19</td><td>34</td></tr>\n",
       "\t<tr><td>2018</td><td>20</td><td>34</td></tr>\n",
       "\t<tr><td>2018</td><td>21</td><td>34</td></tr>\n",
       "\t<tr><td>2018</td><td>22</td><td>34</td></tr>\n",
       "\t<tr><td>2019</td><td>19</td><td>34</td></tr>\n",
       "\t<tr><td>2019</td><td>20</td><td>34</td></tr>\n",
       "\t<tr><td>2019</td><td>21</td><td>34</td></tr>\n",
       "\t<tr><td>2019</td><td>22</td><td>34</td></tr>\n",
       "\t<tr><td>2020</td><td>19</td><td>34</td></tr>\n",
       "\t<tr><td>2020</td><td>20</td><td>34</td></tr>\n",
       "\t<tr><td>2020</td><td>21</td><td>34</td></tr>\n",
       "\t<tr><td>2020</td><td>22</td><td>34</td></tr>\n",
       "\t<tr><td>2021</td><td>19</td><td>34</td></tr>\n",
       "\t<tr><td>2021</td><td>20</td><td>34</td></tr>\n",
       "\t<tr><td>2021</td><td>21</td><td>34</td></tr>\n",
       "\t<tr><td>2021</td><td>22</td><td>34</td></tr>\n",
       "\t<tr><td>2022</td><td>19</td><td>34</td></tr>\n",
       "\t<tr><td>2022</td><td>20</td><td>34</td></tr>\n",
       "\t<tr><td>2022</td><td>21</td><td>34</td></tr>\n",
       "\t<tr><td>2022</td><td>22</td><td>34</td></tr>\n",
       "</tbody>\n",
       "</table>\n"
      ],
      "text/latex": [
       "A tibble: 20 × 3\n",
       "\\begin{tabular}{lll}\n",
       " Anyo & FK\\_Periodo & n\\\\\n",
       " <int> & <int> & <int>\\\\\n",
       "\\hline\n",
       "\t 2018 & 19 & 34\\\\\n",
       "\t 2018 & 20 & 34\\\\\n",
       "\t 2018 & 21 & 34\\\\\n",
       "\t 2018 & 22 & 34\\\\\n",
       "\t 2019 & 19 & 34\\\\\n",
       "\t 2019 & 20 & 34\\\\\n",
       "\t 2019 & 21 & 34\\\\\n",
       "\t 2019 & 22 & 34\\\\\n",
       "\t 2020 & 19 & 34\\\\\n",
       "\t 2020 & 20 & 34\\\\\n",
       "\t 2020 & 21 & 34\\\\\n",
       "\t 2020 & 22 & 34\\\\\n",
       "\t 2021 & 19 & 34\\\\\n",
       "\t 2021 & 20 & 34\\\\\n",
       "\t 2021 & 21 & 34\\\\\n",
       "\t 2021 & 22 & 34\\\\\n",
       "\t 2022 & 19 & 34\\\\\n",
       "\t 2022 & 20 & 34\\\\\n",
       "\t 2022 & 21 & 34\\\\\n",
       "\t 2022 & 22 & 34\\\\\n",
       "\\end{tabular}\n"
      ],
      "text/markdown": [
       "\n",
       "A tibble: 20 × 3\n",
       "\n",
       "| Anyo &lt;int&gt; | FK_Periodo &lt;int&gt; | n &lt;int&gt; |\n",
       "|---|---|---|\n",
       "| 2018 | 19 | 34 |\n",
       "| 2018 | 20 | 34 |\n",
       "| 2018 | 21 | 34 |\n",
       "| 2018 | 22 | 34 |\n",
       "| 2019 | 19 | 34 |\n",
       "| 2019 | 20 | 34 |\n",
       "| 2019 | 21 | 34 |\n",
       "| 2019 | 22 | 34 |\n",
       "| 2020 | 19 | 34 |\n",
       "| 2020 | 20 | 34 |\n",
       "| 2020 | 21 | 34 |\n",
       "| 2020 | 22 | 34 |\n",
       "| 2021 | 19 | 34 |\n",
       "| 2021 | 20 | 34 |\n",
       "| 2021 | 21 | 34 |\n",
       "| 2021 | 22 | 34 |\n",
       "| 2022 | 19 | 34 |\n",
       "| 2022 | 20 | 34 |\n",
       "| 2022 | 21 | 34 |\n",
       "| 2022 | 22 | 34 |\n",
       "\n"
      ],
      "text/plain": [
       "   Anyo FK_Periodo n \n",
       "1  2018 19         34\n",
       "2  2018 20         34\n",
       "3  2018 21         34\n",
       "4  2018 22         34\n",
       "5  2019 19         34\n",
       "6  2019 20         34\n",
       "7  2019 21         34\n",
       "8  2019 22         34\n",
       "9  2020 19         34\n",
       "10 2020 20         34\n",
       "11 2020 21         34\n",
       "12 2020 22         34\n",
       "13 2021 19         34\n",
       "14 2021 20         34\n",
       "15 2021 21         34\n",
       "16 2021 22         34\n",
       "17 2022 19         34\n",
       "18 2022 20         34\n",
       "19 2022 21         34\n",
       "20 2022 22         34"
      ]
     },
     "metadata": {},
     "output_type": "display_data"
    }
   ],
   "source": [
    "tdata |> count(Anyo, FK_Periodo)"
   ]
  },
  {
   "cell_type": "markdown",
   "metadata": {},
   "source": [
    "#### Observaciones generales sobre los datos\n",
    "\n",
    "* Solo hay datos a nivel de comundiad autónoma por trimestre\n"
   ]
  },
  {
   "cell_type": "markdown",
   "metadata": {},
   "source": [
    "### Consideraciones para despliegue en piloto\n",
    "\n",
    "* No aplica, se desplegará con los datos generados en esta tarea"
   ]
  },
  {
   "cell_type": "markdown",
   "metadata": {},
   "source": [
    "### Consideraciones para despliegue en producción\n",
    "\n",
    "* Se deben crear los procesos ETL en producción necesarios para que los datos de entrada estén actualizados"
   ]
  },
  {
   "cell_type": "markdown",
   "metadata": {},
   "source": [
    "## <font color=' #2874a6 '>Main Actions</font>"
   ]
  },
  {
   "cell_type": "markdown",
   "metadata": {},
   "source": [
    "#### <font color=' #2874a6 '>Acciones done</font>"
   ]
  },
  {
   "cell_type": "markdown",
   "metadata": {
    "slideshow": {
     "slide_type": "slide"
    }
   },
   "source": [
    "<font color='steelblue'>Indicate the actions that have been carried out in this process</font>"
   ]
  },
  {
   "cell_type": "markdown",
   "metadata": {},
   "source": [
    "- Se han obtenido los datos de gasto medio en la CM por país y trimestre"
   ]
  },
  {
   "cell_type": "markdown",
   "metadata": {},
   "source": [
    "#### <font color=' #2874a6 '>Acctions to perform</font>"
   ]
  },
  {
   "cell_type": "markdown",
   "metadata": {
    "slideshow": {
     "slide_type": "slide"
    }
   },
   "source": [
    "<font color='steelblue'>Indicate the actions that must be carried out in subsequent processes</font>"
   ]
  },
  {
   "cell_type": "markdown",
   "metadata": {},
   "source": [
    "- Se deben extrapolar estos datos a los datos por municipio receptor"
   ]
  },
  {
   "cell_type": "markdown",
   "metadata": {},
   "source": [
    "## <font color='RED'>CODE TO DEPLOY (PILOT)</font>\n",
    "\n",
    "A continuación se incluirá el código que deba ser llevado a despliegue para producción, dado que se entiende efectúa operaciones necesarias sobre los datos en la ejecución del prototipo"
   ]
  },
  {
   "cell_type": "markdown",
   "metadata": {},
   "source": [
    "<font color=' red '><b>Description</b></font>\n",
    "\n",
    "- No hay nada que desplegar en el piloto, ya que estos datos son estáticos o en todo caso cambian con muy poca frecuencia, altamente improbable durante el proyecto.\n"
   ]
  },
  {
   "cell_type": "markdown",
   "metadata": {},
   "source": [
    "<font color=' red '><b>CODE</b></font>"
   ]
  },
  {
   "cell_type": "code",
   "execution_count": 21,
   "metadata": {},
   "outputs": [],
   "source": [
    "# incluir código"
   ]
  }
 ],
 "metadata": {
  "anaconda-cloud": {},
  "celltoolbar": "Slideshow",
  "hide_input": false,
  "kernelspec": {
   "display_name": "R",
   "language": "R",
   "name": "ir"
  },
  "language_info": {
   "codemirror_mode": "r",
   "file_extension": ".r",
   "mimetype": "text/x-r-source",
   "name": "R",
   "pygments_lexer": "r",
   "version": "4.3.0"
  },
  "latex_envs": {
   "LaTeX_envs_menu_present": true,
   "autoclose": false,
   "autocomplete": true,
   "bibliofile": "biblio.bib",
   "cite_by": "apalike",
   "current_citInitial": 1,
   "eqLabelWithNumbers": true,
   "eqNumInitial": 1,
   "hotkeys": {
    "equation": "Ctrl-E",
    "itemize": "Ctrl-I"
   },
   "labels_anchors": false,
   "latex_user_defs": false,
   "report_style_numbering": true,
   "user_envs_cfg": false
  },
  "toc": {
   "base_numbering": 1,
   "nav_menu": {
    "height": "11.6px",
    "width": "160px"
   },
   "number_sections": false,
   "sideBar": true,
   "skip_h1_title": true,
   "title_cell": "Table of Contents",
   "title_sidebar": "Contents",
   "toc_cell": true,
   "toc_position": {
    "height": "calc(100% - 180px)",
    "left": "10px",
    "top": "150px",
    "width": "209.2px"
   },
   "toc_section_display": true,
   "toc_window_display": true
  },
  "varInspector": {
   "cols": {
    "lenName": 16,
    "lenType": 16,
    "lenVar": 40
   },
   "kernels_config": {
    "python": {
     "delete_cmd_postfix": "",
     "delete_cmd_prefix": "del ",
     "library": "var_list.py",
     "varRefreshCmd": "print(var_dic_list())"
    },
    "r": {
     "delete_cmd_postfix": ") ",
     "delete_cmd_prefix": "rm(",
     "library": "var_list.r",
     "varRefreshCmd": "cat(var_dic_list()) "
    }
   },
   "types_to_exclude": [
    "module",
    "function",
    "builtin_function_or_method",
    "instance",
    "_Feature"
   ],
   "window_display": false
  }
 },
 "nbformat": 4,
 "nbformat_minor": 4
}
