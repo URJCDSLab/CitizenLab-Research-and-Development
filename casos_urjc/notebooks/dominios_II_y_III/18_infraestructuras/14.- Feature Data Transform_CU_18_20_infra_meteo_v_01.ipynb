{
 "cells": [
  {
   "cell_type": "markdown",
   "metadata": {
    "slideshow": {
     "slide_type": "slide"
    }
   },
   "source": [
    "<img src=\".\\images\\Logo.png\" width=150 align=\"left\" /> <img src=\".\\images\\Logo2.jpg\" width=450 align=\"right\" />"
   ]
  },
  {
   "cell_type": "markdown",
   "metadata": {
    "slideshow": {
     "slide_type": "slide"
    }
   },
   "source": [
    "\n",
    "# <center><font color= #1e8449 > <b>CU18_Infraestructuras_eventos</font></center>"
   ]
  },
  {
   "cell_type": "markdown",
   "metadata": {
    "slideshow": {
     "slide_type": "slide"
    }
   },
   "source": [
    "<font color='steelblue'><b>Citizenlab Data Science Methodology > III - Feature Engineering Domain </font>\n",
    "***\n",
    "> # <font color='steelblue'> <b>14.- Feature Data Transform</font>"
   ]
  },
  {
   "cell_type": "markdown",
   "metadata": {
    "slideshow": {
     "slide_type": "slide"
    }
   },
   "source": [
    "<font color='steelblue'>Feature Data Transform is the process that allows change (if is required) the type and/or distribution of data features (e.g. scaling, normalizing o standardizing data features).</font>\n"
   ]
  },
  {
   "cell_type": "markdown",
   "metadata": {
    "slideshow": {
     "slide_type": "slide"
    }
   },
   "source": [
    "## <font color='steelblue'>Tasks</font>"
   ]
  },
  {
   "cell_type": "markdown",
   "metadata": {
    "slideshow": {
     "slide_type": "slide"
    }
   },
   "source": [
    "<font color='steelblue'><b>Perform Basic Data Transforms\t\t\t\t\t\t\n",
    "    \n",
    "<font color='steelblue'><b>Perform Categorical Variable Transformation\t\t\t\t\t\t\n",
    "- Encode Transformation\t\t\t\t\t\n",
    "    - One-hot encoding\t\t\t\t\n",
    "    - Ordinal encoding\t\t\t\t\n",
    "    - Dummy encoding\t\t\t\t\n",
    "- Evaluate a Logistic Regression model\t\t\t\t\t\n",
    "- Consider Embedding if text mining context\t\t\t\t\t\n",
    "    \n",
    "<font color='steelblue'><b>Perform Numeric Variable Transformation\t\t\t\t\t\t\n",
    "- Scale Transformation\t\t\t\t\t\n",
    "    - Normalization\t\t\t\t\n",
    "    - Standardization\t\t\t\t\n",
    "    - IQR Robust Scaler Transform\t\t\t\t\n",
    "    - Evaluate a KNN model\t\t\t\t\n",
    "- Distribution Transformation\t\t\t\t\t\n",
    "    - Discretization\t\t\t\t\n",
    "        - Uniform\t\t\t\n",
    "        - Clustered(k-Means)\t\t\t\n",
    "        - Quantile\t\t\t\n",
    "            - Normal Quantile\t\t\n",
    "            - Uniform Quantile\t\t\n",
    "            - Evaluate a KNN model\t\t\n",
    "        - Evaluate a KNN model\t\t\t\n",
    "    - Power transforms (Make Distributions More Gaussian)\t\t\t\t\n",
    "        - Box-Cox Transform\t\t\t\n",
    "        - Yeo-Johnson Transform\t\t\t\n",
    "        - Evaluate a KNN model\t\t\t\n"
   ]
  },
  {
   "cell_type": "markdown",
   "metadata": {},
   "source": [
    "## Consideraciones casos CitizenLab programados en R\n",
    "\n",
    "* Algunas de las tareas de este proceso se han realizado en los notebooks del proceso 05 Data Collection porque eran necesarias para las tareas ETL. En esos casos, en este notebook se referencia al notebook del proceso 05 correspondiente\n",
    "* Otras tareas típicas de este proceso se realizan en los notebooks del dominio IV al ser más eficiente realizarlas en el propio pipeline de modelización.\n",
    "* Por tanto en los notebooks de este proceso de manera general se incluyen las comprobaciones necesarias, y comentarios si procede\n",
    "* Las tareas del proceso se van a aplicar solo a los archivos que forman parte del despliegue, ya que hay muchos archivos intermedios que no procede pasar por este proceso\n",
    "* El nombre de archivo del notebook hace referencia al nombre de archivo del proceso 05 al que se aplica este proceso, por eso pueden no ser correlativa la numeración\n",
    "* Las comprobaciones se van a realizar teniendo en cuenta que el lenguaje utilizado en el despliegue de este caso es R"
   ]
  },
  {
   "cell_type": "markdown",
   "metadata": {},
   "source": [
    "## <font color='green'>File</font>"
   ]
  },
  {
   "cell_type": "markdown",
   "metadata": {},
   "source": [
    "- <font color='steelblue'> <b>Input File: CU_18_09.3_20_diario_infra</font>\n",
    "- <font color='steelblue'> <b>Output File: No aplica</font>"
   ]
  },
  {
   "cell_type": "markdown",
   "metadata": {},
   "source": [
    "### Encoding\n",
    "\n",
    "Con la siguiente expresión se evitan problemas con el encoding al ejecutar el notebook. Es posible que deba ser eliminada o adaptada a la máquina en la que se ejecute el código."
   ]
  },
  {
   "cell_type": "code",
   "execution_count": 1,
   "metadata": {
    "vscode": {
     "languageId": "r"
    }
   },
   "outputs": [
    {
     "data": {
      "text/html": [
       "'LC_CTYPE=es_ES.UTF-8;LC_NUMERIC=C;LC_TIME=es_ES.UTF-8;LC_COLLATE=es_ES.UTF-8;LC_MONETARY=es_ES.UTF-8;LC_MESSAGES=en_US.UTF-8;LC_PAPER=es_ES.UTF-8;LC_NAME=C;LC_ADDRESS=C;LC_TELEPHONE=C;LC_MEASUREMENT=es_ES.UTF-8;LC_IDENTIFICATION=C'"
      ],
      "text/latex": [
       "'LC\\_CTYPE=es\\_ES.UTF-8;LC\\_NUMERIC=C;LC\\_TIME=es\\_ES.UTF-8;LC\\_COLLATE=es\\_ES.UTF-8;LC\\_MONETARY=es\\_ES.UTF-8;LC\\_MESSAGES=en\\_US.UTF-8;LC\\_PAPER=es\\_ES.UTF-8;LC\\_NAME=C;LC\\_ADDRESS=C;LC\\_TELEPHONE=C;LC\\_MEASUREMENT=es\\_ES.UTF-8;LC\\_IDENTIFICATION=C'"
      ],
      "text/markdown": [
       "'LC_CTYPE=es_ES.UTF-8;LC_NUMERIC=C;LC_TIME=es_ES.UTF-8;LC_COLLATE=es_ES.UTF-8;LC_MONETARY=es_ES.UTF-8;LC_MESSAGES=en_US.UTF-8;LC_PAPER=es_ES.UTF-8;LC_NAME=C;LC_ADDRESS=C;LC_TELEPHONE=C;LC_MEASUREMENT=es_ES.UTF-8;LC_IDENTIFICATION=C'"
      ],
      "text/plain": [
       "[1] \"LC_CTYPE=es_ES.UTF-8;LC_NUMERIC=C;LC_TIME=es_ES.UTF-8;LC_COLLATE=es_ES.UTF-8;LC_MONETARY=es_ES.UTF-8;LC_MESSAGES=en_US.UTF-8;LC_PAPER=es_ES.UTF-8;LC_NAME=C;LC_ADDRESS=C;LC_TELEPHONE=C;LC_MEASUREMENT=es_ES.UTF-8;LC_IDENTIFICATION=C\""
      ]
     },
     "metadata": {},
     "output_type": "display_data"
    }
   ],
   "source": [
    "Sys.setlocale(category = \"LC_ALL\", locale = \"es_ES.UTF-8\")"
   ]
  },
  {
   "cell_type": "markdown",
   "metadata": {},
   "source": [
    "## <font color='green'>Settings</font>"
   ]
  },
  {
   "cell_type": "markdown",
   "metadata": {},
   "source": [
    "### Libraries to use"
   ]
  },
  {
   "cell_type": "code",
   "execution_count": 2,
   "metadata": {
    "vscode": {
     "languageId": "r"
    }
   },
   "outputs": [
    {
     "name": "stderr",
     "output_type": "stream",
     "text": [
      "\n",
      "Attaching package: ‘dplyr’\n",
      "\n",
      "\n",
      "The following objects are masked from ‘package:stats’:\n",
      "\n",
      "    filter, lag\n",
      "\n",
      "\n",
      "The following objects are masked from ‘package:base’:\n",
      "\n",
      "    intersect, setdiff, setequal, union\n",
      "\n",
      "\n",
      "\n",
      "Attaching package: ‘lubridate’\n",
      "\n",
      "\n",
      "The following objects are masked from ‘package:base’:\n",
      "\n",
      "    date, intersect, setdiff, union\n",
      "\n",
      "\n"
     ]
    }
   ],
   "source": [
    "library(readr)\n",
    "library(dplyr)\n",
    "library(tidyr)\n",
    "library(forcats)\n",
    "library(lubridate)\n"
   ]
  },
  {
   "cell_type": "markdown",
   "metadata": {},
   "source": [
    "### Paths"
   ]
  },
  {
   "cell_type": "code",
   "execution_count": 3,
   "metadata": {
    "vscode": {
     "languageId": "r"
    }
   },
   "outputs": [],
   "source": [
    "iPath <- \"Data/Input/\"\n",
    "oPath <- \"Data/Output/\""
   ]
  },
  {
   "cell_type": "markdown",
   "metadata": {},
   "source": [
    "## <font color='green'>Data Load</font>"
   ]
  },
  {
   "cell_type": "markdown",
   "metadata": {},
   "source": [
    "<font color='tomato'><b> OPCION A:</b> Seleccionar fichero en ventana para mayor comodidad</font> "
   ]
  },
  {
   "cell_type": "markdown",
   "metadata": {},
   "source": [
    "Data load using the {tcltk} package. Ucomment the line if using this option"
   ]
  },
  {
   "cell_type": "code",
   "execution_count": 4,
   "metadata": {
    "vscode": {
     "languageId": "r"
    }
   },
   "outputs": [],
   "source": [
    "# file_data <- tcltk::tk_choose.files(multi = FALSE)"
   ]
  },
  {
   "cell_type": "markdown",
   "metadata": {},
   "source": [
    "<font color='tomato'><b> OPCION B:</b> Especificar el nombre de archivo</font>\n",
    "\n"
   ]
  },
  {
   "cell_type": "code",
   "execution_count": 5,
   "metadata": {
    "vscode": {
     "languageId": "r"
    }
   },
   "outputs": [
    {
     "name": "stdout",
     "output_type": "stream",
     "text": [
      "Se leerán datos del archivo:  Data/Input/CU_18_09.3_20_diario_infra.csv"
     ]
    }
   ],
   "source": [
    "iFile <- \"CU_18_09.3_20_diario_infra.csv\"\n",
    "file_data <- paste0(iPath, iFile)\n",
    "\n",
    "if(file.exists(file_data)){\n",
    "    cat(\"Se leerán datos del archivo: \", file_data)\n",
    "} else{\n",
    "    warning(\"Cuidado: el archivo no existe.\")\n",
    "}\n"
   ]
  },
  {
   "cell_type": "markdown",
   "metadata": {},
   "source": [
    "#### Data file to dataframe\n",
    "\n",
    "Usar la función adecuada según el formato de entrada (xlsx, csv, json, ...)"
   ]
  },
  {
   "cell_type": "code",
   "execution_count": 6,
   "metadata": {
    "vscode": {
     "languageId": "r"
    }
   },
   "outputs": [
    {
     "name": "stderr",
     "output_type": "stream",
     "text": [
      "\u001b[1mRows: \u001b[22m\u001b[34m377727\u001b[39m \u001b[1mColumns: \u001b[22m\u001b[34m10\u001b[39m\n",
      "\u001b[36m──\u001b[39m \u001b[1mColumn specification\u001b[22m \u001b[36m──────────────────────────────────────────────────────────────────\u001b[39m\n",
      "\u001b[1mDelimiter:\u001b[22m \",\"\n",
      "\u001b[32mdbl\u001b[39m  (9): id_inf, capacidad, demanda, evento_infra, evento_zona, tmed, prec,...\n",
      "\u001b[34mdate\u001b[39m (1): fecha\n",
      "\n",
      "\u001b[36mℹ\u001b[39m Use `spec()` to retrieve the full column specification for this data.\n",
      "\u001b[36mℹ\u001b[39m Specify the column types or set `show_col_types = FALSE` to quiet this message.\n"
     ]
    }
   ],
   "source": [
    "data <- read_csv(file_data)\n"
   ]
  },
  {
   "cell_type": "markdown",
   "metadata": {},
   "source": [
    "Estructura de  los datos:"
   ]
  },
  {
   "cell_type": "code",
   "execution_count": 7,
   "metadata": {
    "vscode": {
     "languageId": "r"
    }
   },
   "outputs": [
    {
     "name": "stdout",
     "output_type": "stream",
     "text": [
      "Rows: 377,727\n",
      "Columns: 10\n",
      "$ id_inf       \u001b[3m\u001b[90m<dbl>\u001b[39m\u001b[23m 1, 2, 3, 4, 5, 6, 7, 8, 9, 10, 11, 12, 13, 14, 15, 16, 17…\n",
      "$ fecha        \u001b[3m\u001b[90m<date>\u001b[39m\u001b[23m 2019-01-01, 2019-01-01, 2019-01-01, 2019-01-01, 2019-01-…\n",
      "$ capacidad    \u001b[3m\u001b[90m<dbl>\u001b[39m\u001b[23m 993, 996, 1036, 1020, 992, 1026, 1007, 976, 1037, 972, 94…\n",
      "$ demanda      \u001b[3m\u001b[90m<dbl>\u001b[39m\u001b[23m 883, 888, 922, 1134, 1103, 1139, 897, 1086, 1150, 861, 83…\n",
      "$ evento_infra \u001b[3m\u001b[90m<dbl>\u001b[39m\u001b[23m 1, 0, 0, 1, 1, 0, 0, 1, 1, 0, 1, 1, 0, 0, 0, 1, 0, 1, 1, …\n",
      "$ evento_zona  \u001b[3m\u001b[90m<dbl>\u001b[39m\u001b[23m 1, 0, 0, 0, 1, 1, 0, 0, 1, 1, 0, 0, 0, 1, 1, 1, 1, 0, 1, …\n",
      "$ tmed         \u001b[3m\u001b[90m<dbl>\u001b[39m\u001b[23m 6.953211, 6.196420, 6.483569, 5.875797, 6.212680, 5.87854…\n",
      "$ prec         \u001b[3m\u001b[90m<dbl>\u001b[39m\u001b[23m 0, 0, 0, 0, 0, 0, 0, 0, 0, 0, 0, 0, 0, 0, 0, 0, 0, 0, 0, …\n",
      "$ velmedia     \u001b[3m\u001b[90m<dbl>\u001b[39m\u001b[23m 0.6433886, 0.3417523, 0.4132169, 0.1820178, 0.2118110, 0.…\n",
      "$ presMax      \u001b[3m\u001b[90m<dbl>\u001b[39m\u001b[23m 952.9357, 950.2191, 950.8051, 951.6768, 953.5118, 952.168…\n"
     ]
    }
   ],
   "source": [
    "data |> glimpse()"
   ]
  },
  {
   "cell_type": "markdown",
   "metadata": {},
   "source": [
    "Muestra de los primeros datos:"
   ]
  },
  {
   "cell_type": "code",
   "execution_count": 8,
   "metadata": {
    "vscode": {
     "languageId": "r"
    }
   },
   "outputs": [
    {
     "data": {
      "text/html": [
       "<table class=\"dataframe\">\n",
       "<caption>A spec_tbl_df: 5 × 10</caption>\n",
       "<thead>\n",
       "\t<tr><th scope=col>id_inf</th><th scope=col>fecha</th><th scope=col>capacidad</th><th scope=col>demanda</th><th scope=col>evento_infra</th><th scope=col>evento_zona</th><th scope=col>tmed</th><th scope=col>prec</th><th scope=col>velmedia</th><th scope=col>presMax</th></tr>\n",
       "\t<tr><th scope=col>&lt;dbl&gt;</th><th scope=col>&lt;date&gt;</th><th scope=col>&lt;dbl&gt;</th><th scope=col>&lt;dbl&gt;</th><th scope=col>&lt;dbl&gt;</th><th scope=col>&lt;dbl&gt;</th><th scope=col>&lt;dbl&gt;</th><th scope=col>&lt;dbl&gt;</th><th scope=col>&lt;dbl&gt;</th><th scope=col>&lt;dbl&gt;</th></tr>\n",
       "</thead>\n",
       "<tbody>\n",
       "\t<tr><td>1</td><td>2019-01-01</td><td> 993</td><td> 883</td><td>1</td><td>1</td><td>6.953211</td><td>0</td><td>0.6433886</td><td>952.9357</td></tr>\n",
       "\t<tr><td>2</td><td>2019-01-01</td><td> 996</td><td> 888</td><td>0</td><td>0</td><td>6.196420</td><td>0</td><td>0.3417523</td><td>950.2191</td></tr>\n",
       "\t<tr><td>3</td><td>2019-01-01</td><td>1036</td><td> 922</td><td>0</td><td>0</td><td>6.483569</td><td>0</td><td>0.4132169</td><td>950.8051</td></tr>\n",
       "\t<tr><td>4</td><td>2019-01-01</td><td>1020</td><td>1134</td><td>1</td><td>0</td><td>5.875797</td><td>0</td><td>0.1820178</td><td>951.6768</td></tr>\n",
       "\t<tr><td>5</td><td>2019-01-01</td><td> 992</td><td>1103</td><td>1</td><td>1</td><td>6.212680</td><td>0</td><td>0.2118110</td><td>953.5118</td></tr>\n",
       "</tbody>\n",
       "</table>\n"
      ],
      "text/latex": [
       "A spec\\_tbl\\_df: 5 × 10\n",
       "\\begin{tabular}{llllllllll}\n",
       " id\\_inf & fecha & capacidad & demanda & evento\\_infra & evento\\_zona & tmed & prec & velmedia & presMax\\\\\n",
       " <dbl> & <date> & <dbl> & <dbl> & <dbl> & <dbl> & <dbl> & <dbl> & <dbl> & <dbl>\\\\\n",
       "\\hline\n",
       "\t 1 & 2019-01-01 &  993 &  883 & 1 & 1 & 6.953211 & 0 & 0.6433886 & 952.9357\\\\\n",
       "\t 2 & 2019-01-01 &  996 &  888 & 0 & 0 & 6.196420 & 0 & 0.3417523 & 950.2191\\\\\n",
       "\t 3 & 2019-01-01 & 1036 &  922 & 0 & 0 & 6.483569 & 0 & 0.4132169 & 950.8051\\\\\n",
       "\t 4 & 2019-01-01 & 1020 & 1134 & 1 & 0 & 5.875797 & 0 & 0.1820178 & 951.6768\\\\\n",
       "\t 5 & 2019-01-01 &  992 & 1103 & 1 & 1 & 6.212680 & 0 & 0.2118110 & 953.5118\\\\\n",
       "\\end{tabular}\n"
      ],
      "text/markdown": [
       "\n",
       "A spec_tbl_df: 5 × 10\n",
       "\n",
       "| id_inf &lt;dbl&gt; | fecha &lt;date&gt; | capacidad &lt;dbl&gt; | demanda &lt;dbl&gt; | evento_infra &lt;dbl&gt; | evento_zona &lt;dbl&gt; | tmed &lt;dbl&gt; | prec &lt;dbl&gt; | velmedia &lt;dbl&gt; | presMax &lt;dbl&gt; |\n",
       "|---|---|---|---|---|---|---|---|---|---|\n",
       "| 1 | 2019-01-01 |  993 |  883 | 1 | 1 | 6.953211 | 0 | 0.6433886 | 952.9357 |\n",
       "| 2 | 2019-01-01 |  996 |  888 | 0 | 0 | 6.196420 | 0 | 0.3417523 | 950.2191 |\n",
       "| 3 | 2019-01-01 | 1036 |  922 | 0 | 0 | 6.483569 | 0 | 0.4132169 | 950.8051 |\n",
       "| 4 | 2019-01-01 | 1020 | 1134 | 1 | 0 | 5.875797 | 0 | 0.1820178 | 951.6768 |\n",
       "| 5 | 2019-01-01 |  992 | 1103 | 1 | 1 | 6.212680 | 0 | 0.2118110 | 953.5118 |\n",
       "\n"
      ],
      "text/plain": [
       "  id_inf fecha      capacidad demanda evento_infra evento_zona tmed     prec\n",
       "1 1      2019-01-01  993       883    1            1           6.953211 0   \n",
       "2 2      2019-01-01  996       888    0            0           6.196420 0   \n",
       "3 3      2019-01-01 1036       922    0            0           6.483569 0   \n",
       "4 4      2019-01-01 1020      1134    1            0           5.875797 0   \n",
       "5 5      2019-01-01  992      1103    1            1           6.212680 0   \n",
       "  velmedia  presMax \n",
       "1 0.6433886 952.9357\n",
       "2 0.3417523 950.2191\n",
       "3 0.4132169 950.8051\n",
       "4 0.1820178 951.6768\n",
       "5 0.2118110 953.5118"
      ]
     },
     "metadata": {},
     "output_type": "display_data"
    }
   ],
   "source": [
    "data |> slice_head(n = 5)"
   ]
  },
  {
   "cell_type": "markdown",
   "metadata": {
    "slideshow": {
     "slide_type": "slide"
    }
   },
   "source": [
    "## Basic Data Transforms"
   ]
  },
  {
   "cell_type": "markdown",
   "metadata": {
    "slideshow": {
     "slide_type": "slide"
    }
   },
   "source": [
    "### Data Selecting"
   ]
  },
  {
   "cell_type": "code",
   "execution_count": 9,
   "metadata": {
    "ExecuteTime": {
     "end_time": "2020-06-30T14:33:43.649449Z",
     "start_time": "2020-06-30T14:33:43.611681Z"
    },
    "scrolled": true,
    "slideshow": {
     "slide_type": "subslide"
    },
    "vscode": {
     "languageId": "r"
    }
   },
   "outputs": [
    {
     "data": {
      "text/html": [
       "<table class=\"dataframe\">\n",
       "<caption>A tibble: 377727 × 1</caption>\n",
       "<thead>\n",
       "\t<tr><th scope=col>id_inf</th></tr>\n",
       "\t<tr><th scope=col>&lt;dbl&gt;</th></tr>\n",
       "</thead>\n",
       "<tbody>\n",
       "\t<tr><td> 1</td></tr>\n",
       "\t<tr><td> 2</td></tr>\n",
       "\t<tr><td> 3</td></tr>\n",
       "\t<tr><td> 4</td></tr>\n",
       "\t<tr><td> 5</td></tr>\n",
       "\t<tr><td> 6</td></tr>\n",
       "\t<tr><td> 7</td></tr>\n",
       "\t<tr><td> 8</td></tr>\n",
       "\t<tr><td> 9</td></tr>\n",
       "\t<tr><td>10</td></tr>\n",
       "\t<tr><td>11</td></tr>\n",
       "\t<tr><td>12</td></tr>\n",
       "\t<tr><td>13</td></tr>\n",
       "\t<tr><td>14</td></tr>\n",
       "\t<tr><td>15</td></tr>\n",
       "\t<tr><td>16</td></tr>\n",
       "\t<tr><td>17</td></tr>\n",
       "\t<tr><td>18</td></tr>\n",
       "\t<tr><td>19</td></tr>\n",
       "\t<tr><td>20</td></tr>\n",
       "\t<tr><td>21</td></tr>\n",
       "\t<tr><td>22</td></tr>\n",
       "\t<tr><td>23</td></tr>\n",
       "\t<tr><td>24</td></tr>\n",
       "\t<tr><td>25</td></tr>\n",
       "\t<tr><td>26</td></tr>\n",
       "\t<tr><td>27</td></tr>\n",
       "\t<tr><td>28</td></tr>\n",
       "\t<tr><td>29</td></tr>\n",
       "\t<tr><td>30</td></tr>\n",
       "\t<tr><td>⋮</td></tr>\n",
       "\t<tr><td>1109</td></tr>\n",
       "\t<tr><td>1110</td></tr>\n",
       "\t<tr><td>1111</td></tr>\n",
       "\t<tr><td>1112</td></tr>\n",
       "\t<tr><td>1113</td></tr>\n",
       "\t<tr><td>1114</td></tr>\n",
       "\t<tr><td>1115</td></tr>\n",
       "\t<tr><td>1116</td></tr>\n",
       "\t<tr><td>1117</td></tr>\n",
       "\t<tr><td>1118</td></tr>\n",
       "\t<tr><td>1119</td></tr>\n",
       "\t<tr><td>1120</td></tr>\n",
       "\t<tr><td>1121</td></tr>\n",
       "\t<tr><td>1122</td></tr>\n",
       "\t<tr><td>1123</td></tr>\n",
       "\t<tr><td>1124</td></tr>\n",
       "\t<tr><td>1125</td></tr>\n",
       "\t<tr><td>1126</td></tr>\n",
       "\t<tr><td>1127</td></tr>\n",
       "\t<tr><td>1128</td></tr>\n",
       "\t<tr><td>1129</td></tr>\n",
       "\t<tr><td>1130</td></tr>\n",
       "\t<tr><td>1131</td></tr>\n",
       "\t<tr><td>1132</td></tr>\n",
       "\t<tr><td>1133</td></tr>\n",
       "\t<tr><td>1134</td></tr>\n",
       "\t<tr><td>1135</td></tr>\n",
       "\t<tr><td>1136</td></tr>\n",
       "\t<tr><td>1137</td></tr>\n",
       "\t<tr><td>1138</td></tr>\n",
       "</tbody>\n",
       "</table>\n"
      ],
      "text/latex": [
       "A tibble: 377727 × 1\n",
       "\\begin{tabular}{l}\n",
       " id\\_inf\\\\\n",
       " <dbl>\\\\\n",
       "\\hline\n",
       "\t  1\\\\\n",
       "\t  2\\\\\n",
       "\t  3\\\\\n",
       "\t  4\\\\\n",
       "\t  5\\\\\n",
       "\t  6\\\\\n",
       "\t  7\\\\\n",
       "\t  8\\\\\n",
       "\t  9\\\\\n",
       "\t 10\\\\\n",
       "\t 11\\\\\n",
       "\t 12\\\\\n",
       "\t 13\\\\\n",
       "\t 14\\\\\n",
       "\t 15\\\\\n",
       "\t 16\\\\\n",
       "\t 17\\\\\n",
       "\t 18\\\\\n",
       "\t 19\\\\\n",
       "\t 20\\\\\n",
       "\t 21\\\\\n",
       "\t 22\\\\\n",
       "\t 23\\\\\n",
       "\t 24\\\\\n",
       "\t 25\\\\\n",
       "\t 26\\\\\n",
       "\t 27\\\\\n",
       "\t 28\\\\\n",
       "\t 29\\\\\n",
       "\t 30\\\\\n",
       "\t ⋮\\\\\n",
       "\t 1109\\\\\n",
       "\t 1110\\\\\n",
       "\t 1111\\\\\n",
       "\t 1112\\\\\n",
       "\t 1113\\\\\n",
       "\t 1114\\\\\n",
       "\t 1115\\\\\n",
       "\t 1116\\\\\n",
       "\t 1117\\\\\n",
       "\t 1118\\\\\n",
       "\t 1119\\\\\n",
       "\t 1120\\\\\n",
       "\t 1121\\\\\n",
       "\t 1122\\\\\n",
       "\t 1123\\\\\n",
       "\t 1124\\\\\n",
       "\t 1125\\\\\n",
       "\t 1126\\\\\n",
       "\t 1127\\\\\n",
       "\t 1128\\\\\n",
       "\t 1129\\\\\n",
       "\t 1130\\\\\n",
       "\t 1131\\\\\n",
       "\t 1132\\\\\n",
       "\t 1133\\\\\n",
       "\t 1134\\\\\n",
       "\t 1135\\\\\n",
       "\t 1136\\\\\n",
       "\t 1137\\\\\n",
       "\t 1138\\\\\n",
       "\\end{tabular}\n"
      ],
      "text/markdown": [
       "\n",
       "A tibble: 377727 × 1\n",
       "\n",
       "| id_inf &lt;dbl&gt; |\n",
       "|---|\n",
       "|  1 |\n",
       "|  2 |\n",
       "|  3 |\n",
       "|  4 |\n",
       "|  5 |\n",
       "|  6 |\n",
       "|  7 |\n",
       "|  8 |\n",
       "|  9 |\n",
       "| 10 |\n",
       "| 11 |\n",
       "| 12 |\n",
       "| 13 |\n",
       "| 14 |\n",
       "| 15 |\n",
       "| 16 |\n",
       "| 17 |\n",
       "| 18 |\n",
       "| 19 |\n",
       "| 20 |\n",
       "| 21 |\n",
       "| 22 |\n",
       "| 23 |\n",
       "| 24 |\n",
       "| 25 |\n",
       "| 26 |\n",
       "| 27 |\n",
       "| 28 |\n",
       "| 29 |\n",
       "| 30 |\n",
       "| ⋮ |\n",
       "| 1109 |\n",
       "| 1110 |\n",
       "| 1111 |\n",
       "| 1112 |\n",
       "| 1113 |\n",
       "| 1114 |\n",
       "| 1115 |\n",
       "| 1116 |\n",
       "| 1117 |\n",
       "| 1118 |\n",
       "| 1119 |\n",
       "| 1120 |\n",
       "| 1121 |\n",
       "| 1122 |\n",
       "| 1123 |\n",
       "| 1124 |\n",
       "| 1125 |\n",
       "| 1126 |\n",
       "| 1127 |\n",
       "| 1128 |\n",
       "| 1129 |\n",
       "| 1130 |\n",
       "| 1131 |\n",
       "| 1132 |\n",
       "| 1133 |\n",
       "| 1134 |\n",
       "| 1135 |\n",
       "| 1136 |\n",
       "| 1137 |\n",
       "| 1138 |\n",
       "\n"
      ],
      "text/plain": [
       "       id_inf\n",
       "1       1    \n",
       "2       2    \n",
       "3       3    \n",
       "4       4    \n",
       "5       5    \n",
       "6       6    \n",
       "7       7    \n",
       "8       8    \n",
       "9       9    \n",
       "10     10    \n",
       "11     11    \n",
       "12     12    \n",
       "13     13    \n",
       "14     14    \n",
       "15     15    \n",
       "16     16    \n",
       "17     17    \n",
       "18     18    \n",
       "19     19    \n",
       "20     20    \n",
       "21     21    \n",
       "22     22    \n",
       "23     23    \n",
       "24     24    \n",
       "25     25    \n",
       "26     26    \n",
       "27     27    \n",
       "28     28    \n",
       "29     29    \n",
       "30     30    \n",
       "⋮      ⋮     \n",
       "377698 1109  \n",
       "377699 1110  \n",
       "377700 1111  \n",
       "377701 1112  \n",
       "377702 1113  \n",
       "377703 1114  \n",
       "377704 1115  \n",
       "377705 1116  \n",
       "377706 1117  \n",
       "377707 1118  \n",
       "377708 1119  \n",
       "377709 1120  \n",
       "377710 1121  \n",
       "377711 1122  \n",
       "377712 1123  \n",
       "377713 1124  \n",
       "377714 1125  \n",
       "377715 1126  \n",
       "377716 1127  \n",
       "377717 1128  \n",
       "377718 1129  \n",
       "377719 1130  \n",
       "377720 1131  \n",
       "377721 1132  \n",
       "377722 1133  \n",
       "377723 1134  \n",
       "377724 1135  \n",
       "377725 1136  \n",
       "377726 1137  \n",
       "377727 1138  "
      ]
     },
     "metadata": {},
     "output_type": "display_data"
    }
   ],
   "source": [
    "data |> select(1)"
   ]
  },
  {
   "cell_type": "markdown",
   "metadata": {
    "slideshow": {
     "slide_type": "slide"
    }
   },
   "source": [
    "### Data Filtering"
   ]
  },
  {
   "cell_type": "code",
   "execution_count": 12,
   "metadata": {
    "ExecuteTime": {
     "end_time": "2020-06-30T14:33:43.649449Z",
     "start_time": "2020-06-30T14:33:43.611681Z"
    },
    "scrolled": true,
    "slideshow": {
     "slide_type": "subslide"
    },
    "vscode": {
     "languageId": "r"
    }
   },
   "outputs": [],
   "source": [
    "# data |> filter(ano = 2019)"
   ]
  },
  {
   "cell_type": "markdown",
   "metadata": {
    "slideshow": {
     "slide_type": "slide"
    }
   },
   "source": [
    "### Insert New Column"
   ]
  },
  {
   "cell_type": "code",
   "execution_count": 13,
   "metadata": {
    "ExecuteTime": {
     "end_time": "2020-06-30T14:33:43.649449Z",
     "start_time": "2020-06-30T14:33:43.611681Z"
    },
    "scrolled": true,
    "slideshow": {
     "slide_type": "subslide"
    },
    "vscode": {
     "languageId": "r"
    }
   },
   "outputs": [
    {
     "data": {
      "text/html": [
       "<table class=\"dataframe\">\n",
       "<caption>A tibble: 377727 × 11</caption>\n",
       "<thead>\n",
       "\t<tr><th scope=col>id_inf</th><th scope=col>fecha</th><th scope=col>capacidad</th><th scope=col>demanda</th><th scope=col>evento_infra</th><th scope=col>evento_zona</th><th scope=col>tmed</th><th scope=col>prec</th><th scope=col>velmedia</th><th scope=col>presMax</th><th scope=col>x</th></tr>\n",
       "\t<tr><th scope=col>&lt;dbl&gt;</th><th scope=col>&lt;date&gt;</th><th scope=col>&lt;dbl&gt;</th><th scope=col>&lt;dbl&gt;</th><th scope=col>&lt;dbl&gt;</th><th scope=col>&lt;dbl&gt;</th><th scope=col>&lt;dbl&gt;</th><th scope=col>&lt;dbl&gt;</th><th scope=col>&lt;dbl&gt;</th><th scope=col>&lt;dbl&gt;</th><th scope=col>&lt;lgl&gt;</th></tr>\n",
       "</thead>\n",
       "<tbody>\n",
       "\t<tr><td> 1</td><td>2019-01-01</td><td> 993</td><td> 883</td><td>1</td><td>1</td><td>6.953211</td><td>0</td><td>0.6433886</td><td>952.9357</td><td>TRUE</td></tr>\n",
       "\t<tr><td> 2</td><td>2019-01-01</td><td> 996</td><td> 888</td><td>0</td><td>0</td><td>6.196420</td><td>0</td><td>0.3417523</td><td>950.2191</td><td>TRUE</td></tr>\n",
       "\t<tr><td> 3</td><td>2019-01-01</td><td>1036</td><td> 922</td><td>0</td><td>0</td><td>6.483569</td><td>0</td><td>0.4132169</td><td>950.8051</td><td>TRUE</td></tr>\n",
       "\t<tr><td> 4</td><td>2019-01-01</td><td>1020</td><td>1134</td><td>1</td><td>0</td><td>5.875797</td><td>0</td><td>0.1820178</td><td>951.6768</td><td>TRUE</td></tr>\n",
       "\t<tr><td> 5</td><td>2019-01-01</td><td> 992</td><td>1103</td><td>1</td><td>1</td><td>6.212680</td><td>0</td><td>0.2118110</td><td>953.5118</td><td>TRUE</td></tr>\n",
       "\t<tr><td> 6</td><td>2019-01-01</td><td>1026</td><td>1139</td><td>0</td><td>1</td><td>5.878542</td><td>0</td><td>0.1742736</td><td>952.1681</td><td>TRUE</td></tr>\n",
       "\t<tr><td> 7</td><td>2019-01-01</td><td>1007</td><td> 897</td><td>0</td><td>0</td><td>6.043628</td><td>0</td><td>0.2137601</td><td>951.9106</td><td>TRUE</td></tr>\n",
       "\t<tr><td> 8</td><td>2019-01-01</td><td> 976</td><td>1086</td><td>1</td><td>0</td><td>6.716287</td><td>0</td><td>0.4128750</td><td>953.9489</td><td>TRUE</td></tr>\n",
       "\t<tr><td> 9</td><td>2019-01-01</td><td>1037</td><td>1150</td><td>1</td><td>1</td><td>6.541842</td><td>0</td><td>0.3536813</td><td>951.1342</td><td>TRUE</td></tr>\n",
       "\t<tr><td>10</td><td>2019-01-01</td><td> 972</td><td> 861</td><td>0</td><td>1</td><td>7.274224</td><td>0</td><td>0.9067791</td><td>951.1111</td><td>TRUE</td></tr>\n",
       "\t<tr><td>11</td><td>2019-01-01</td><td> 940</td><td> 837</td><td>1</td><td>0</td><td>6.651713</td><td>0</td><td>0.3511809</td><td>952.8644</td><td>TRUE</td></tr>\n",
       "\t<tr><td>12</td><td>2019-01-01</td><td>1000</td><td>1109</td><td>1</td><td>0</td><td>5.859384</td><td>0</td><td>0.5098901</td><td>963.7404</td><td>TRUE</td></tr>\n",
       "\t<tr><td>13</td><td>2019-01-01</td><td> 993</td><td> 881</td><td>0</td><td>0</td><td>5.870729</td><td>0</td><td>0.3879831</td><td>960.2506</td><td>TRUE</td></tr>\n",
       "\t<tr><td>14</td><td>2019-01-01</td><td>1014</td><td> 901</td><td>0</td><td>1</td><td>6.269831</td><td>0</td><td>0.3583433</td><td>958.9221</td><td>TRUE</td></tr>\n",
       "\t<tr><td>15</td><td>2019-01-01</td><td> 990</td><td> 884</td><td>0</td><td>1</td><td>6.037552</td><td>0</td><td>0.3503836</td><td>960.1441</td><td>TRUE</td></tr>\n",
       "\t<tr><td>16</td><td>2019-01-01</td><td> 989</td><td>1094</td><td>1</td><td>1</td><td>6.184667</td><td>0</td><td>0.2620377</td><td>957.3426</td><td>TRUE</td></tr>\n",
       "\t<tr><td>17</td><td>2019-01-01</td><td> 993</td><td>1103</td><td>0</td><td>1</td><td>7.205027</td><td>0</td><td>0.9095506</td><td>949.7359</td><td>TRUE</td></tr>\n",
       "\t<tr><td>18</td><td>2019-01-01</td><td> 980</td><td>1091</td><td>1</td><td>0</td><td>6.614984</td><td>0</td><td>0.3218564</td><td>954.5476</td><td>TRUE</td></tr>\n",
       "\t<tr><td>19</td><td>2019-01-01</td><td> 985</td><td>1093</td><td>1</td><td>1</td><td>6.805965</td><td>0</td><td>0.4921295</td><td>953.7262</td><td>TRUE</td></tr>\n",
       "\t<tr><td>20</td><td>2019-01-01</td><td> 974</td><td>1084</td><td>1</td><td>0</td><td>5.999183</td><td>0</td><td>0.2413257</td><td>950.9182</td><td>TRUE</td></tr>\n",
       "\t<tr><td>21</td><td>2019-01-01</td><td>1017</td><td> 910</td><td>0</td><td>0</td><td>6.429136</td><td>0</td><td>0.2485806</td><td>953.4412</td><td>TRUE</td></tr>\n",
       "\t<tr><td>22</td><td>2019-01-01</td><td> 953</td><td> 848</td><td>1</td><td>1</td><td>6.425044</td><td>0</td><td>0.3903441</td><td>957.9805</td><td>TRUE</td></tr>\n",
       "\t<tr><td>23</td><td>2019-01-01</td><td> 982</td><td> 871</td><td>0</td><td>0</td><td>6.700994</td><td>0</td><td>0.7412869</td><td>956.7832</td><td>TRUE</td></tr>\n",
       "\t<tr><td>24</td><td>2019-01-01</td><td>1020</td><td>1132</td><td>1</td><td>0</td><td>6.748697</td><td>0</td><td>0.7843370</td><td>956.4892</td><td>TRUE</td></tr>\n",
       "\t<tr><td>25</td><td>2019-01-01</td><td>1042</td><td>1155</td><td>1</td><td>1</td><td>5.879139</td><td>0</td><td>0.5198577</td><td>964.1499</td><td>TRUE</td></tr>\n",
       "\t<tr><td>26</td><td>2019-01-01</td><td>1054</td><td>1169</td><td>1</td><td>1</td><td>7.455467</td><td>0</td><td>1.0719734</td><td>951.9364</td><td>TRUE</td></tr>\n",
       "\t<tr><td>27</td><td>2019-01-01</td><td>1004</td><td>1116</td><td>1</td><td>0</td><td>5.222163</td><td>0</td><td>1.1009824</td><td>960.3314</td><td>TRUE</td></tr>\n",
       "\t<tr><td>28</td><td>2019-01-01</td><td> 973</td><td> 868</td><td>0</td><td>1</td><td>5.105823</td><td>0</td><td>1.2610650</td><td>962.1768</td><td>TRUE</td></tr>\n",
       "\t<tr><td>29</td><td>2019-01-01</td><td>1041</td><td> 929</td><td>1</td><td>1</td><td>5.410022</td><td>0</td><td>0.9756281</td><td>962.9502</td><td>TRUE</td></tr>\n",
       "\t<tr><td>30</td><td>2019-01-01</td><td> 978</td><td> 872</td><td>0</td><td>0</td><td>5.727610</td><td>0</td><td>0.7260299</td><td>964.3442</td><td>TRUE</td></tr>\n",
       "\t<tr><td>⋮</td><td>⋮</td><td>⋮</td><td>⋮</td><td>⋮</td><td>⋮</td><td>⋮</td><td>⋮</td><td>⋮</td><td>⋮</td><td>⋮</td></tr>\n",
       "\t<tr><td>1109</td><td>2019-12-31</td><td>1026</td><td>1139</td><td>1</td><td>1</td><td>6.303931</td><td>0</td><td>0.3277180</td><td>959.0719</td><td>TRUE</td></tr>\n",
       "\t<tr><td>1110</td><td>2019-12-31</td><td>1002</td><td>1111</td><td>1</td><td>0</td><td>6.573342</td><td>0</td><td>0.3888893</td><td>951.2734</td><td>TRUE</td></tr>\n",
       "\t<tr><td>1111</td><td>2019-12-31</td><td> 989</td><td> 879</td><td>0</td><td>0</td><td>6.885949</td><td>0</td><td>0.8257297</td><td>947.7592</td><td>TRUE</td></tr>\n",
       "\t<tr><td>1112</td><td>2019-12-31</td><td> 973</td><td> 865</td><td>0</td><td>1</td><td>6.856195</td><td>0</td><td>0.8075319</td><td>948.3186</td><td>TRUE</td></tr>\n",
       "\t<tr><td>1113</td><td>2019-12-31</td><td> 939</td><td> 836</td><td>0</td><td>0</td><td>6.341240</td><td>0</td><td>0.3432157</td><td>958.8196</td><td>TRUE</td></tr>\n",
       "\t<tr><td>1114</td><td>2019-12-31</td><td>1056</td><td> 941</td><td>1</td><td>1</td><td>6.639703</td><td>0</td><td>0.4324151</td><td>951.4090</td><td>TRUE</td></tr>\n",
       "\t<tr><td>1115</td><td>2019-12-31</td><td> 939</td><td>1041</td><td>1</td><td>0</td><td>6.565606</td><td>0</td><td>0.3890617</td><td>951.4313</td><td>TRUE</td></tr>\n",
       "\t<tr><td>1116</td><td>2019-12-31</td><td>1034</td><td>1145</td><td>0</td><td>1</td><td>6.309946</td><td>0</td><td>0.3632624</td><td>959.8247</td><td>TRUE</td></tr>\n",
       "\t<tr><td>1117</td><td>2019-12-31</td><td> 997</td><td> 889</td><td>1</td><td>1</td><td>6.803234</td><td>0</td><td>0.4832559</td><td>950.1597</td><td>TRUE</td></tr>\n",
       "\t<tr><td>1118</td><td>2019-12-31</td><td>1041</td><td>1154</td><td>1</td><td>1</td><td>6.586504</td><td>0</td><td>0.3870041</td><td>952.1628</td><td>TRUE</td></tr>\n",
       "\t<tr><td>1119</td><td>2019-12-31</td><td>1013</td><td>1122</td><td>1</td><td>1</td><td>6.768358</td><td>0</td><td>0.8807247</td><td>955.3945</td><td>TRUE</td></tr>\n",
       "\t<tr><td>1120</td><td>2019-12-31</td><td> 999</td><td> 890</td><td>0</td><td>0</td><td>6.580942</td><td>0</td><td>0.4808379</td><td>952.5605</td><td>TRUE</td></tr>\n",
       "\t<tr><td>1121</td><td>2019-12-31</td><td>1060</td><td> 940</td><td>0</td><td>0</td><td>6.506678</td><td>0</td><td>0.3918649</td><td>953.7817</td><td>TRUE</td></tr>\n",
       "\t<tr><td>1122</td><td>2019-12-31</td><td> 959</td><td>1064</td><td>1</td><td>1</td><td>6.630664</td><td>0</td><td>0.4301168</td><td>951.6246</td><td>TRUE</td></tr>\n",
       "\t<tr><td>1123</td><td>2019-12-31</td><td> 974</td><td>1080</td><td>1</td><td>1</td><td>6.238223</td><td>0</td><td>0.3156120</td><td>959.5728</td><td>TRUE</td></tr>\n",
       "\t<tr><td>1124</td><td>2019-12-31</td><td> 971</td><td>1080</td><td>1</td><td>1</td><td>6.079000</td><td>0</td><td>0.3901463</td><td>962.5113</td><td>TRUE</td></tr>\n",
       "\t<tr><td>1125</td><td>2019-12-31</td><td>1037</td><td>1151</td><td>1</td><td>1</td><td>6.728930</td><td>0</td><td>0.4867057</td><td>949.7586</td><td>TRUE</td></tr>\n",
       "\t<tr><td>1126</td><td>2019-12-31</td><td> 963</td><td>1069</td><td>1</td><td>0</td><td>6.513794</td><td>0</td><td>0.3282143</td><td>953.0422</td><td>TRUE</td></tr>\n",
       "\t<tr><td>1127</td><td>2019-12-31</td><td>1037</td><td>1152</td><td>1</td><td>1</td><td>6.465050</td><td>0</td><td>0.3107152</td><td>955.1672</td><td>TRUE</td></tr>\n",
       "\t<tr><td>1128</td><td>2019-12-31</td><td> 966</td><td>1071</td><td>1</td><td>0</td><td>6.682220</td><td>0</td><td>0.4401672</td><td>951.3942</td><td>TRUE</td></tr>\n",
       "\t<tr><td>1129</td><td>2019-12-31</td><td>1008</td><td> 896</td><td>1</td><td>0</td><td>6.907790</td><td>0</td><td>0.9394844</td><td>949.1083</td><td>TRUE</td></tr>\n",
       "\t<tr><td>1130</td><td>2019-12-31</td><td> 964</td><td> 857</td><td>1</td><td>1</td><td>6.589525</td><td>0</td><td>0.4386229</td><td>951.3146</td><td>TRUE</td></tr>\n",
       "\t<tr><td>1131</td><td>2019-12-31</td><td>1020</td><td>1132</td><td>1</td><td>1</td><td>6.201140</td><td>0</td><td>0.3445100</td><td>960.5952</td><td>TRUE</td></tr>\n",
       "\t<tr><td>1132</td><td>2019-12-31</td><td>1023</td><td> 912</td><td>0</td><td>0</td><td>6.688063</td><td>0</td><td>0.4783813</td><td>950.2177</td><td>TRUE</td></tr>\n",
       "\t<tr><td>1133</td><td>2019-12-31</td><td>1030</td><td>1142</td><td>1</td><td>1</td><td>6.202671</td><td>0</td><td>0.3171051</td><td>960.0249</td><td>TRUE</td></tr>\n",
       "\t<tr><td>1134</td><td>2019-12-31</td><td>1021</td><td> 905</td><td>0</td><td>1</td><td>6.423698</td><td>0</td><td>0.3636375</td><td>956.9690</td><td>TRUE</td></tr>\n",
       "\t<tr><td>1135</td><td>2019-12-31</td><td> 978</td><td>1084</td><td>1</td><td>1</td><td>6.384618</td><td>0</td><td>0.3267518</td><td>957.0324</td><td>TRUE</td></tr>\n",
       "\t<tr><td>1136</td><td>2019-12-31</td><td>1026</td><td> 915</td><td>0</td><td>0</td><td>6.374303</td><td>0</td><td>0.2821547</td><td>956.6418</td><td>TRUE</td></tr>\n",
       "\t<tr><td>1137</td><td>2019-12-31</td><td> 973</td><td> 867</td><td>0</td><td>0</td><td>6.616900</td><td>0</td><td>0.4311865</td><td>954.2328</td><td>TRUE</td></tr>\n",
       "\t<tr><td>1138</td><td>2019-12-31</td><td>1016</td><td> 904</td><td>0</td><td>0</td><td>6.618524</td><td>0</td><td>0.5555996</td><td>952.2721</td><td>TRUE</td></tr>\n",
       "</tbody>\n",
       "</table>\n"
      ],
      "text/latex": [
       "A tibble: 377727 × 11\n",
       "\\begin{tabular}{lllllllllll}\n",
       " id\\_inf & fecha & capacidad & demanda & evento\\_infra & evento\\_zona & tmed & prec & velmedia & presMax & x\\\\\n",
       " <dbl> & <date> & <dbl> & <dbl> & <dbl> & <dbl> & <dbl> & <dbl> & <dbl> & <dbl> & <lgl>\\\\\n",
       "\\hline\n",
       "\t  1 & 2019-01-01 &  993 &  883 & 1 & 1 & 6.953211 & 0 & 0.6433886 & 952.9357 & TRUE\\\\\n",
       "\t  2 & 2019-01-01 &  996 &  888 & 0 & 0 & 6.196420 & 0 & 0.3417523 & 950.2191 & TRUE\\\\\n",
       "\t  3 & 2019-01-01 & 1036 &  922 & 0 & 0 & 6.483569 & 0 & 0.4132169 & 950.8051 & TRUE\\\\\n",
       "\t  4 & 2019-01-01 & 1020 & 1134 & 1 & 0 & 5.875797 & 0 & 0.1820178 & 951.6768 & TRUE\\\\\n",
       "\t  5 & 2019-01-01 &  992 & 1103 & 1 & 1 & 6.212680 & 0 & 0.2118110 & 953.5118 & TRUE\\\\\n",
       "\t  6 & 2019-01-01 & 1026 & 1139 & 0 & 1 & 5.878542 & 0 & 0.1742736 & 952.1681 & TRUE\\\\\n",
       "\t  7 & 2019-01-01 & 1007 &  897 & 0 & 0 & 6.043628 & 0 & 0.2137601 & 951.9106 & TRUE\\\\\n",
       "\t  8 & 2019-01-01 &  976 & 1086 & 1 & 0 & 6.716287 & 0 & 0.4128750 & 953.9489 & TRUE\\\\\n",
       "\t  9 & 2019-01-01 & 1037 & 1150 & 1 & 1 & 6.541842 & 0 & 0.3536813 & 951.1342 & TRUE\\\\\n",
       "\t 10 & 2019-01-01 &  972 &  861 & 0 & 1 & 7.274224 & 0 & 0.9067791 & 951.1111 & TRUE\\\\\n",
       "\t 11 & 2019-01-01 &  940 &  837 & 1 & 0 & 6.651713 & 0 & 0.3511809 & 952.8644 & TRUE\\\\\n",
       "\t 12 & 2019-01-01 & 1000 & 1109 & 1 & 0 & 5.859384 & 0 & 0.5098901 & 963.7404 & TRUE\\\\\n",
       "\t 13 & 2019-01-01 &  993 &  881 & 0 & 0 & 5.870729 & 0 & 0.3879831 & 960.2506 & TRUE\\\\\n",
       "\t 14 & 2019-01-01 & 1014 &  901 & 0 & 1 & 6.269831 & 0 & 0.3583433 & 958.9221 & TRUE\\\\\n",
       "\t 15 & 2019-01-01 &  990 &  884 & 0 & 1 & 6.037552 & 0 & 0.3503836 & 960.1441 & TRUE\\\\\n",
       "\t 16 & 2019-01-01 &  989 & 1094 & 1 & 1 & 6.184667 & 0 & 0.2620377 & 957.3426 & TRUE\\\\\n",
       "\t 17 & 2019-01-01 &  993 & 1103 & 0 & 1 & 7.205027 & 0 & 0.9095506 & 949.7359 & TRUE\\\\\n",
       "\t 18 & 2019-01-01 &  980 & 1091 & 1 & 0 & 6.614984 & 0 & 0.3218564 & 954.5476 & TRUE\\\\\n",
       "\t 19 & 2019-01-01 &  985 & 1093 & 1 & 1 & 6.805965 & 0 & 0.4921295 & 953.7262 & TRUE\\\\\n",
       "\t 20 & 2019-01-01 &  974 & 1084 & 1 & 0 & 5.999183 & 0 & 0.2413257 & 950.9182 & TRUE\\\\\n",
       "\t 21 & 2019-01-01 & 1017 &  910 & 0 & 0 & 6.429136 & 0 & 0.2485806 & 953.4412 & TRUE\\\\\n",
       "\t 22 & 2019-01-01 &  953 &  848 & 1 & 1 & 6.425044 & 0 & 0.3903441 & 957.9805 & TRUE\\\\\n",
       "\t 23 & 2019-01-01 &  982 &  871 & 0 & 0 & 6.700994 & 0 & 0.7412869 & 956.7832 & TRUE\\\\\n",
       "\t 24 & 2019-01-01 & 1020 & 1132 & 1 & 0 & 6.748697 & 0 & 0.7843370 & 956.4892 & TRUE\\\\\n",
       "\t 25 & 2019-01-01 & 1042 & 1155 & 1 & 1 & 5.879139 & 0 & 0.5198577 & 964.1499 & TRUE\\\\\n",
       "\t 26 & 2019-01-01 & 1054 & 1169 & 1 & 1 & 7.455467 & 0 & 1.0719734 & 951.9364 & TRUE\\\\\n",
       "\t 27 & 2019-01-01 & 1004 & 1116 & 1 & 0 & 5.222163 & 0 & 1.1009824 & 960.3314 & TRUE\\\\\n",
       "\t 28 & 2019-01-01 &  973 &  868 & 0 & 1 & 5.105823 & 0 & 1.2610650 & 962.1768 & TRUE\\\\\n",
       "\t 29 & 2019-01-01 & 1041 &  929 & 1 & 1 & 5.410022 & 0 & 0.9756281 & 962.9502 & TRUE\\\\\n",
       "\t 30 & 2019-01-01 &  978 &  872 & 0 & 0 & 5.727610 & 0 & 0.7260299 & 964.3442 & TRUE\\\\\n",
       "\t ⋮ & ⋮ & ⋮ & ⋮ & ⋮ & ⋮ & ⋮ & ⋮ & ⋮ & ⋮ & ⋮\\\\\n",
       "\t 1109 & 2019-12-31 & 1026 & 1139 & 1 & 1 & 6.303931 & 0 & 0.3277180 & 959.0719 & TRUE\\\\\n",
       "\t 1110 & 2019-12-31 & 1002 & 1111 & 1 & 0 & 6.573342 & 0 & 0.3888893 & 951.2734 & TRUE\\\\\n",
       "\t 1111 & 2019-12-31 &  989 &  879 & 0 & 0 & 6.885949 & 0 & 0.8257297 & 947.7592 & TRUE\\\\\n",
       "\t 1112 & 2019-12-31 &  973 &  865 & 0 & 1 & 6.856195 & 0 & 0.8075319 & 948.3186 & TRUE\\\\\n",
       "\t 1113 & 2019-12-31 &  939 &  836 & 0 & 0 & 6.341240 & 0 & 0.3432157 & 958.8196 & TRUE\\\\\n",
       "\t 1114 & 2019-12-31 & 1056 &  941 & 1 & 1 & 6.639703 & 0 & 0.4324151 & 951.4090 & TRUE\\\\\n",
       "\t 1115 & 2019-12-31 &  939 & 1041 & 1 & 0 & 6.565606 & 0 & 0.3890617 & 951.4313 & TRUE\\\\\n",
       "\t 1116 & 2019-12-31 & 1034 & 1145 & 0 & 1 & 6.309946 & 0 & 0.3632624 & 959.8247 & TRUE\\\\\n",
       "\t 1117 & 2019-12-31 &  997 &  889 & 1 & 1 & 6.803234 & 0 & 0.4832559 & 950.1597 & TRUE\\\\\n",
       "\t 1118 & 2019-12-31 & 1041 & 1154 & 1 & 1 & 6.586504 & 0 & 0.3870041 & 952.1628 & TRUE\\\\\n",
       "\t 1119 & 2019-12-31 & 1013 & 1122 & 1 & 1 & 6.768358 & 0 & 0.8807247 & 955.3945 & TRUE\\\\\n",
       "\t 1120 & 2019-12-31 &  999 &  890 & 0 & 0 & 6.580942 & 0 & 0.4808379 & 952.5605 & TRUE\\\\\n",
       "\t 1121 & 2019-12-31 & 1060 &  940 & 0 & 0 & 6.506678 & 0 & 0.3918649 & 953.7817 & TRUE\\\\\n",
       "\t 1122 & 2019-12-31 &  959 & 1064 & 1 & 1 & 6.630664 & 0 & 0.4301168 & 951.6246 & TRUE\\\\\n",
       "\t 1123 & 2019-12-31 &  974 & 1080 & 1 & 1 & 6.238223 & 0 & 0.3156120 & 959.5728 & TRUE\\\\\n",
       "\t 1124 & 2019-12-31 &  971 & 1080 & 1 & 1 & 6.079000 & 0 & 0.3901463 & 962.5113 & TRUE\\\\\n",
       "\t 1125 & 2019-12-31 & 1037 & 1151 & 1 & 1 & 6.728930 & 0 & 0.4867057 & 949.7586 & TRUE\\\\\n",
       "\t 1126 & 2019-12-31 &  963 & 1069 & 1 & 0 & 6.513794 & 0 & 0.3282143 & 953.0422 & TRUE\\\\\n",
       "\t 1127 & 2019-12-31 & 1037 & 1152 & 1 & 1 & 6.465050 & 0 & 0.3107152 & 955.1672 & TRUE\\\\\n",
       "\t 1128 & 2019-12-31 &  966 & 1071 & 1 & 0 & 6.682220 & 0 & 0.4401672 & 951.3942 & TRUE\\\\\n",
       "\t 1129 & 2019-12-31 & 1008 &  896 & 1 & 0 & 6.907790 & 0 & 0.9394844 & 949.1083 & TRUE\\\\\n",
       "\t 1130 & 2019-12-31 &  964 &  857 & 1 & 1 & 6.589525 & 0 & 0.4386229 & 951.3146 & TRUE\\\\\n",
       "\t 1131 & 2019-12-31 & 1020 & 1132 & 1 & 1 & 6.201140 & 0 & 0.3445100 & 960.5952 & TRUE\\\\\n",
       "\t 1132 & 2019-12-31 & 1023 &  912 & 0 & 0 & 6.688063 & 0 & 0.4783813 & 950.2177 & TRUE\\\\\n",
       "\t 1133 & 2019-12-31 & 1030 & 1142 & 1 & 1 & 6.202671 & 0 & 0.3171051 & 960.0249 & TRUE\\\\\n",
       "\t 1134 & 2019-12-31 & 1021 &  905 & 0 & 1 & 6.423698 & 0 & 0.3636375 & 956.9690 & TRUE\\\\\n",
       "\t 1135 & 2019-12-31 &  978 & 1084 & 1 & 1 & 6.384618 & 0 & 0.3267518 & 957.0324 & TRUE\\\\\n",
       "\t 1136 & 2019-12-31 & 1026 &  915 & 0 & 0 & 6.374303 & 0 & 0.2821547 & 956.6418 & TRUE\\\\\n",
       "\t 1137 & 2019-12-31 &  973 &  867 & 0 & 0 & 6.616900 & 0 & 0.4311865 & 954.2328 & TRUE\\\\\n",
       "\t 1138 & 2019-12-31 & 1016 &  904 & 0 & 0 & 6.618524 & 0 & 0.5555996 & 952.2721 & TRUE\\\\\n",
       "\\end{tabular}\n"
      ],
      "text/markdown": [
       "\n",
       "A tibble: 377727 × 11\n",
       "\n",
       "| id_inf &lt;dbl&gt; | fecha &lt;date&gt; | capacidad &lt;dbl&gt; | demanda &lt;dbl&gt; | evento_infra &lt;dbl&gt; | evento_zona &lt;dbl&gt; | tmed &lt;dbl&gt; | prec &lt;dbl&gt; | velmedia &lt;dbl&gt; | presMax &lt;dbl&gt; | x &lt;lgl&gt; |\n",
       "|---|---|---|---|---|---|---|---|---|---|---|\n",
       "|  1 | 2019-01-01 |  993 |  883 | 1 | 1 | 6.953211 | 0 | 0.6433886 | 952.9357 | TRUE |\n",
       "|  2 | 2019-01-01 |  996 |  888 | 0 | 0 | 6.196420 | 0 | 0.3417523 | 950.2191 | TRUE |\n",
       "|  3 | 2019-01-01 | 1036 |  922 | 0 | 0 | 6.483569 | 0 | 0.4132169 | 950.8051 | TRUE |\n",
       "|  4 | 2019-01-01 | 1020 | 1134 | 1 | 0 | 5.875797 | 0 | 0.1820178 | 951.6768 | TRUE |\n",
       "|  5 | 2019-01-01 |  992 | 1103 | 1 | 1 | 6.212680 | 0 | 0.2118110 | 953.5118 | TRUE |\n",
       "|  6 | 2019-01-01 | 1026 | 1139 | 0 | 1 | 5.878542 | 0 | 0.1742736 | 952.1681 | TRUE |\n",
       "|  7 | 2019-01-01 | 1007 |  897 | 0 | 0 | 6.043628 | 0 | 0.2137601 | 951.9106 | TRUE |\n",
       "|  8 | 2019-01-01 |  976 | 1086 | 1 | 0 | 6.716287 | 0 | 0.4128750 | 953.9489 | TRUE |\n",
       "|  9 | 2019-01-01 | 1037 | 1150 | 1 | 1 | 6.541842 | 0 | 0.3536813 | 951.1342 | TRUE |\n",
       "| 10 | 2019-01-01 |  972 |  861 | 0 | 1 | 7.274224 | 0 | 0.9067791 | 951.1111 | TRUE |\n",
       "| 11 | 2019-01-01 |  940 |  837 | 1 | 0 | 6.651713 | 0 | 0.3511809 | 952.8644 | TRUE |\n",
       "| 12 | 2019-01-01 | 1000 | 1109 | 1 | 0 | 5.859384 | 0 | 0.5098901 | 963.7404 | TRUE |\n",
       "| 13 | 2019-01-01 |  993 |  881 | 0 | 0 | 5.870729 | 0 | 0.3879831 | 960.2506 | TRUE |\n",
       "| 14 | 2019-01-01 | 1014 |  901 | 0 | 1 | 6.269831 | 0 | 0.3583433 | 958.9221 | TRUE |\n",
       "| 15 | 2019-01-01 |  990 |  884 | 0 | 1 | 6.037552 | 0 | 0.3503836 | 960.1441 | TRUE |\n",
       "| 16 | 2019-01-01 |  989 | 1094 | 1 | 1 | 6.184667 | 0 | 0.2620377 | 957.3426 | TRUE |\n",
       "| 17 | 2019-01-01 |  993 | 1103 | 0 | 1 | 7.205027 | 0 | 0.9095506 | 949.7359 | TRUE |\n",
       "| 18 | 2019-01-01 |  980 | 1091 | 1 | 0 | 6.614984 | 0 | 0.3218564 | 954.5476 | TRUE |\n",
       "| 19 | 2019-01-01 |  985 | 1093 | 1 | 1 | 6.805965 | 0 | 0.4921295 | 953.7262 | TRUE |\n",
       "| 20 | 2019-01-01 |  974 | 1084 | 1 | 0 | 5.999183 | 0 | 0.2413257 | 950.9182 | TRUE |\n",
       "| 21 | 2019-01-01 | 1017 |  910 | 0 | 0 | 6.429136 | 0 | 0.2485806 | 953.4412 | TRUE |\n",
       "| 22 | 2019-01-01 |  953 |  848 | 1 | 1 | 6.425044 | 0 | 0.3903441 | 957.9805 | TRUE |\n",
       "| 23 | 2019-01-01 |  982 |  871 | 0 | 0 | 6.700994 | 0 | 0.7412869 | 956.7832 | TRUE |\n",
       "| 24 | 2019-01-01 | 1020 | 1132 | 1 | 0 | 6.748697 | 0 | 0.7843370 | 956.4892 | TRUE |\n",
       "| 25 | 2019-01-01 | 1042 | 1155 | 1 | 1 | 5.879139 | 0 | 0.5198577 | 964.1499 | TRUE |\n",
       "| 26 | 2019-01-01 | 1054 | 1169 | 1 | 1 | 7.455467 | 0 | 1.0719734 | 951.9364 | TRUE |\n",
       "| 27 | 2019-01-01 | 1004 | 1116 | 1 | 0 | 5.222163 | 0 | 1.1009824 | 960.3314 | TRUE |\n",
       "| 28 | 2019-01-01 |  973 |  868 | 0 | 1 | 5.105823 | 0 | 1.2610650 | 962.1768 | TRUE |\n",
       "| 29 | 2019-01-01 | 1041 |  929 | 1 | 1 | 5.410022 | 0 | 0.9756281 | 962.9502 | TRUE |\n",
       "| 30 | 2019-01-01 |  978 |  872 | 0 | 0 | 5.727610 | 0 | 0.7260299 | 964.3442 | TRUE |\n",
       "| ⋮ | ⋮ | ⋮ | ⋮ | ⋮ | ⋮ | ⋮ | ⋮ | ⋮ | ⋮ | ⋮ |\n",
       "| 1109 | 2019-12-31 | 1026 | 1139 | 1 | 1 | 6.303931 | 0 | 0.3277180 | 959.0719 | TRUE |\n",
       "| 1110 | 2019-12-31 | 1002 | 1111 | 1 | 0 | 6.573342 | 0 | 0.3888893 | 951.2734 | TRUE |\n",
       "| 1111 | 2019-12-31 |  989 |  879 | 0 | 0 | 6.885949 | 0 | 0.8257297 | 947.7592 | TRUE |\n",
       "| 1112 | 2019-12-31 |  973 |  865 | 0 | 1 | 6.856195 | 0 | 0.8075319 | 948.3186 | TRUE |\n",
       "| 1113 | 2019-12-31 |  939 |  836 | 0 | 0 | 6.341240 | 0 | 0.3432157 | 958.8196 | TRUE |\n",
       "| 1114 | 2019-12-31 | 1056 |  941 | 1 | 1 | 6.639703 | 0 | 0.4324151 | 951.4090 | TRUE |\n",
       "| 1115 | 2019-12-31 |  939 | 1041 | 1 | 0 | 6.565606 | 0 | 0.3890617 | 951.4313 | TRUE |\n",
       "| 1116 | 2019-12-31 | 1034 | 1145 | 0 | 1 | 6.309946 | 0 | 0.3632624 | 959.8247 | TRUE |\n",
       "| 1117 | 2019-12-31 |  997 |  889 | 1 | 1 | 6.803234 | 0 | 0.4832559 | 950.1597 | TRUE |\n",
       "| 1118 | 2019-12-31 | 1041 | 1154 | 1 | 1 | 6.586504 | 0 | 0.3870041 | 952.1628 | TRUE |\n",
       "| 1119 | 2019-12-31 | 1013 | 1122 | 1 | 1 | 6.768358 | 0 | 0.8807247 | 955.3945 | TRUE |\n",
       "| 1120 | 2019-12-31 |  999 |  890 | 0 | 0 | 6.580942 | 0 | 0.4808379 | 952.5605 | TRUE |\n",
       "| 1121 | 2019-12-31 | 1060 |  940 | 0 | 0 | 6.506678 | 0 | 0.3918649 | 953.7817 | TRUE |\n",
       "| 1122 | 2019-12-31 |  959 | 1064 | 1 | 1 | 6.630664 | 0 | 0.4301168 | 951.6246 | TRUE |\n",
       "| 1123 | 2019-12-31 |  974 | 1080 | 1 | 1 | 6.238223 | 0 | 0.3156120 | 959.5728 | TRUE |\n",
       "| 1124 | 2019-12-31 |  971 | 1080 | 1 | 1 | 6.079000 | 0 | 0.3901463 | 962.5113 | TRUE |\n",
       "| 1125 | 2019-12-31 | 1037 | 1151 | 1 | 1 | 6.728930 | 0 | 0.4867057 | 949.7586 | TRUE |\n",
       "| 1126 | 2019-12-31 |  963 | 1069 | 1 | 0 | 6.513794 | 0 | 0.3282143 | 953.0422 | TRUE |\n",
       "| 1127 | 2019-12-31 | 1037 | 1152 | 1 | 1 | 6.465050 | 0 | 0.3107152 | 955.1672 | TRUE |\n",
       "| 1128 | 2019-12-31 |  966 | 1071 | 1 | 0 | 6.682220 | 0 | 0.4401672 | 951.3942 | TRUE |\n",
       "| 1129 | 2019-12-31 | 1008 |  896 | 1 | 0 | 6.907790 | 0 | 0.9394844 | 949.1083 | TRUE |\n",
       "| 1130 | 2019-12-31 |  964 |  857 | 1 | 1 | 6.589525 | 0 | 0.4386229 | 951.3146 | TRUE |\n",
       "| 1131 | 2019-12-31 | 1020 | 1132 | 1 | 1 | 6.201140 | 0 | 0.3445100 | 960.5952 | TRUE |\n",
       "| 1132 | 2019-12-31 | 1023 |  912 | 0 | 0 | 6.688063 | 0 | 0.4783813 | 950.2177 | TRUE |\n",
       "| 1133 | 2019-12-31 | 1030 | 1142 | 1 | 1 | 6.202671 | 0 | 0.3171051 | 960.0249 | TRUE |\n",
       "| 1134 | 2019-12-31 | 1021 |  905 | 0 | 1 | 6.423698 | 0 | 0.3636375 | 956.9690 | TRUE |\n",
       "| 1135 | 2019-12-31 |  978 | 1084 | 1 | 1 | 6.384618 | 0 | 0.3267518 | 957.0324 | TRUE |\n",
       "| 1136 | 2019-12-31 | 1026 |  915 | 0 | 0 | 6.374303 | 0 | 0.2821547 | 956.6418 | TRUE |\n",
       "| 1137 | 2019-12-31 |  973 |  867 | 0 | 0 | 6.616900 | 0 | 0.4311865 | 954.2328 | TRUE |\n",
       "| 1138 | 2019-12-31 | 1016 |  904 | 0 | 0 | 6.618524 | 0 | 0.5555996 | 952.2721 | TRUE |\n",
       "\n"
      ],
      "text/plain": [
       "       id_inf fecha      capacidad demanda evento_infra evento_zona tmed    \n",
       "1       1     2019-01-01  993       883    1            1           6.953211\n",
       "2       2     2019-01-01  996       888    0            0           6.196420\n",
       "3       3     2019-01-01 1036       922    0            0           6.483569\n",
       "4       4     2019-01-01 1020      1134    1            0           5.875797\n",
       "5       5     2019-01-01  992      1103    1            1           6.212680\n",
       "6       6     2019-01-01 1026      1139    0            1           5.878542\n",
       "7       7     2019-01-01 1007       897    0            0           6.043628\n",
       "8       8     2019-01-01  976      1086    1            0           6.716287\n",
       "9       9     2019-01-01 1037      1150    1            1           6.541842\n",
       "10     10     2019-01-01  972       861    0            1           7.274224\n",
       "11     11     2019-01-01  940       837    1            0           6.651713\n",
       "12     12     2019-01-01 1000      1109    1            0           5.859384\n",
       "13     13     2019-01-01  993       881    0            0           5.870729\n",
       "14     14     2019-01-01 1014       901    0            1           6.269831\n",
       "15     15     2019-01-01  990       884    0            1           6.037552\n",
       "16     16     2019-01-01  989      1094    1            1           6.184667\n",
       "17     17     2019-01-01  993      1103    0            1           7.205027\n",
       "18     18     2019-01-01  980      1091    1            0           6.614984\n",
       "19     19     2019-01-01  985      1093    1            1           6.805965\n",
       "20     20     2019-01-01  974      1084    1            0           5.999183\n",
       "21     21     2019-01-01 1017       910    0            0           6.429136\n",
       "22     22     2019-01-01  953       848    1            1           6.425044\n",
       "23     23     2019-01-01  982       871    0            0           6.700994\n",
       "24     24     2019-01-01 1020      1132    1            0           6.748697\n",
       "25     25     2019-01-01 1042      1155    1            1           5.879139\n",
       "26     26     2019-01-01 1054      1169    1            1           7.455467\n",
       "27     27     2019-01-01 1004      1116    1            0           5.222163\n",
       "28     28     2019-01-01  973       868    0            1           5.105823\n",
       "29     29     2019-01-01 1041       929    1            1           5.410022\n",
       "30     30     2019-01-01  978       872    0            0           5.727610\n",
       "⋮      ⋮      ⋮          ⋮         ⋮       ⋮            ⋮           ⋮       \n",
       "377698 1109   2019-12-31 1026      1139    1            1           6.303931\n",
       "377699 1110   2019-12-31 1002      1111    1            0           6.573342\n",
       "377700 1111   2019-12-31  989       879    0            0           6.885949\n",
       "377701 1112   2019-12-31  973       865    0            1           6.856195\n",
       "377702 1113   2019-12-31  939       836    0            0           6.341240\n",
       "377703 1114   2019-12-31 1056       941    1            1           6.639703\n",
       "377704 1115   2019-12-31  939      1041    1            0           6.565606\n",
       "377705 1116   2019-12-31 1034      1145    0            1           6.309946\n",
       "377706 1117   2019-12-31  997       889    1            1           6.803234\n",
       "377707 1118   2019-12-31 1041      1154    1            1           6.586504\n",
       "377708 1119   2019-12-31 1013      1122    1            1           6.768358\n",
       "377709 1120   2019-12-31  999       890    0            0           6.580942\n",
       "377710 1121   2019-12-31 1060       940    0            0           6.506678\n",
       "377711 1122   2019-12-31  959      1064    1            1           6.630664\n",
       "377712 1123   2019-12-31  974      1080    1            1           6.238223\n",
       "377713 1124   2019-12-31  971      1080    1            1           6.079000\n",
       "377714 1125   2019-12-31 1037      1151    1            1           6.728930\n",
       "377715 1126   2019-12-31  963      1069    1            0           6.513794\n",
       "377716 1127   2019-12-31 1037      1152    1            1           6.465050\n",
       "377717 1128   2019-12-31  966      1071    1            0           6.682220\n",
       "377718 1129   2019-12-31 1008       896    1            0           6.907790\n",
       "377719 1130   2019-12-31  964       857    1            1           6.589525\n",
       "377720 1131   2019-12-31 1020      1132    1            1           6.201140\n",
       "377721 1132   2019-12-31 1023       912    0            0           6.688063\n",
       "377722 1133   2019-12-31 1030      1142    1            1           6.202671\n",
       "377723 1134   2019-12-31 1021       905    0            1           6.423698\n",
       "377724 1135   2019-12-31  978      1084    1            1           6.384618\n",
       "377725 1136   2019-12-31 1026       915    0            0           6.374303\n",
       "377726 1137   2019-12-31  973       867    0            0           6.616900\n",
       "377727 1138   2019-12-31 1016       904    0            0           6.618524\n",
       "       prec velmedia  presMax  x   \n",
       "1      0    0.6433886 952.9357 TRUE\n",
       "2      0    0.3417523 950.2191 TRUE\n",
       "3      0    0.4132169 950.8051 TRUE\n",
       "4      0    0.1820178 951.6768 TRUE\n",
       "5      0    0.2118110 953.5118 TRUE\n",
       "6      0    0.1742736 952.1681 TRUE\n",
       "7      0    0.2137601 951.9106 TRUE\n",
       "8      0    0.4128750 953.9489 TRUE\n",
       "9      0    0.3536813 951.1342 TRUE\n",
       "10     0    0.9067791 951.1111 TRUE\n",
       "11     0    0.3511809 952.8644 TRUE\n",
       "12     0    0.5098901 963.7404 TRUE\n",
       "13     0    0.3879831 960.2506 TRUE\n",
       "14     0    0.3583433 958.9221 TRUE\n",
       "15     0    0.3503836 960.1441 TRUE\n",
       "16     0    0.2620377 957.3426 TRUE\n",
       "17     0    0.9095506 949.7359 TRUE\n",
       "18     0    0.3218564 954.5476 TRUE\n",
       "19     0    0.4921295 953.7262 TRUE\n",
       "20     0    0.2413257 950.9182 TRUE\n",
       "21     0    0.2485806 953.4412 TRUE\n",
       "22     0    0.3903441 957.9805 TRUE\n",
       "23     0    0.7412869 956.7832 TRUE\n",
       "24     0    0.7843370 956.4892 TRUE\n",
       "25     0    0.5198577 964.1499 TRUE\n",
       "26     0    1.0719734 951.9364 TRUE\n",
       "27     0    1.1009824 960.3314 TRUE\n",
       "28     0    1.2610650 962.1768 TRUE\n",
       "29     0    0.9756281 962.9502 TRUE\n",
       "30     0    0.7260299 964.3442 TRUE\n",
       "⋮      ⋮    ⋮         ⋮        ⋮   \n",
       "377698 0    0.3277180 959.0719 TRUE\n",
       "377699 0    0.3888893 951.2734 TRUE\n",
       "377700 0    0.8257297 947.7592 TRUE\n",
       "377701 0    0.8075319 948.3186 TRUE\n",
       "377702 0    0.3432157 958.8196 TRUE\n",
       "377703 0    0.4324151 951.4090 TRUE\n",
       "377704 0    0.3890617 951.4313 TRUE\n",
       "377705 0    0.3632624 959.8247 TRUE\n",
       "377706 0    0.4832559 950.1597 TRUE\n",
       "377707 0    0.3870041 952.1628 TRUE\n",
       "377708 0    0.8807247 955.3945 TRUE\n",
       "377709 0    0.4808379 952.5605 TRUE\n",
       "377710 0    0.3918649 953.7817 TRUE\n",
       "377711 0    0.4301168 951.6246 TRUE\n",
       "377712 0    0.3156120 959.5728 TRUE\n",
       "377713 0    0.3901463 962.5113 TRUE\n",
       "377714 0    0.4867057 949.7586 TRUE\n",
       "377715 0    0.3282143 953.0422 TRUE\n",
       "377716 0    0.3107152 955.1672 TRUE\n",
       "377717 0    0.4401672 951.3942 TRUE\n",
       "377718 0    0.9394844 949.1083 TRUE\n",
       "377719 0    0.4386229 951.3146 TRUE\n",
       "377720 0    0.3445100 960.5952 TRUE\n",
       "377721 0    0.4783813 950.2177 TRUE\n",
       "377722 0    0.3171051 960.0249 TRUE\n",
       "377723 0    0.3636375 956.9690 TRUE\n",
       "377724 0    0.3267518 957.0324 TRUE\n",
       "377725 0    0.2821547 956.6418 TRUE\n",
       "377726 0    0.4311865 954.2328 TRUE\n",
       "377727 0    0.5555996 952.2721 TRUE"
      ]
     },
     "metadata": {},
     "output_type": "display_data"
    }
   ],
   "source": [
    "data |>\n",
    "    mutate(x = TRUE)"
   ]
  },
  {
   "cell_type": "markdown",
   "metadata": {
    "slideshow": {
     "slide_type": "slide"
    }
   },
   "source": [
    "### Delete Column"
   ]
  },
  {
   "cell_type": "code",
   "execution_count": 15,
   "metadata": {
    "ExecuteTime": {
     "end_time": "2020-06-30T14:33:43.649449Z",
     "start_time": "2020-06-30T14:33:43.611681Z"
    },
    "scrolled": true,
    "slideshow": {
     "slide_type": "subslide"
    },
    "vscode": {
     "languageId": "r"
    }
   },
   "outputs": [],
   "source": [
    "# data |> select(-x)"
   ]
  },
  {
   "cell_type": "markdown",
   "metadata": {
    "slideshow": {
     "slide_type": "slide"
    }
   },
   "source": [
    "### Replace Values"
   ]
  },
  {
   "cell_type": "code",
   "execution_count": null,
   "metadata": {
    "ExecuteTime": {
     "end_time": "2020-06-30T14:33:43.649449Z",
     "start_time": "2020-06-30T14:33:43.611681Z"
    },
    "scrolled": true,
    "slideshow": {
     "slide_type": "subslide"
    },
    "vscode": {
     "languageId": "r"
    }
   },
   "outputs": [],
   "source": [
    "# data |> mutate(x = case_when(...))"
   ]
  },
  {
   "cell_type": "markdown",
   "metadata": {
    "slideshow": {
     "slide_type": "slide"
    }
   },
   "source": [
    "### Rank Data"
   ]
  },
  {
   "cell_type": "markdown",
   "metadata": {},
   "source": [
    "<font color='darkgrey'><b>Operation</font>"
   ]
  },
  {
   "cell_type": "code",
   "execution_count": null,
   "metadata": {
    "ExecuteTime": {
     "end_time": "2020-09-18T14:08:51.549157Z",
     "start_time": "2020-09-18T14:08:51.517907Z"
    },
    "scrolled": true,
    "slideshow": {
     "slide_type": "subslide"
    },
    "vscode": {
     "languageId": "r"
    }
   },
   "outputs": [],
   "source": [
    "# data |> mutate(rank = order(n_vacunas))"
   ]
  },
  {
   "cell_type": "markdown",
   "metadata": {
    "slideshow": {
     "slide_type": "slide"
    }
   },
   "source": [
    "## Categorical Variable Transformation"
   ]
  },
  {
   "cell_type": "markdown",
   "metadata": {
    "slideshow": {
     "slide_type": "slide"
    }
   },
   "source": [
    "### Encode Transformation"
   ]
  },
  {
   "cell_type": "code",
   "execution_count": null,
   "metadata": {
    "vscode": {
     "languageId": "r"
    }
   },
   "outputs": [],
   "source": [
    "# data |> mutate(x = if_else(x = 'Yes', 1, 0))"
   ]
  },
  {
   "cell_type": "markdown",
   "metadata": {
    "slideshow": {
     "slide_type": "slide"
    }
   },
   "source": [
    "#### Ordinal Encoding Transform"
   ]
  },
  {
   "cell_type": "code",
   "execution_count": null,
   "metadata": {
    "vscode": {
     "languageId": "r"
    }
   },
   "outputs": [],
   "source": [
    "# data |> mutate(x = fct_reorder(...))"
   ]
  },
  {
   "cell_type": "markdown",
   "metadata": {
    "slideshow": {
     "slide_type": "slide"
    }
   },
   "source": [
    "#### One Hot Encoding Transform"
   ]
  },
  {
   "cell_type": "markdown",
   "metadata": {
    "slideshow": {
     "slide_type": "slide"
    }
   },
   "source": [
    "#### Dummy Variable Encoding Transform"
   ]
  },
  {
   "cell_type": "markdown",
   "metadata": {
    "slideshow": {
     "slide_type": "slide"
    }
   },
   "source": [
    "### Embedding Transformation"
   ]
  },
  {
   "cell_type": "markdown",
   "metadata": {},
   "source": [
    "Specific encode for text mining context. No code here."
   ]
  },
  {
   "cell_type": "markdown",
   "metadata": {
    "slideshow": {
     "slide_type": "slide"
    }
   },
   "source": [
    "## Numeric Variable Transformation: Scale"
   ]
  },
  {
   "cell_type": "markdown",
   "metadata": {
    "slideshow": {
     "slide_type": "slide"
    }
   },
   "source": [
    "### Data to Transform"
   ]
  },
  {
   "cell_type": "markdown",
   "metadata": {
    "slideshow": {
     "slide_type": "slide"
    }
   },
   "source": [
    "#### Evaluating Normalization Tranform"
   ]
  },
  {
   "cell_type": "markdown",
   "metadata": {
    "slideshow": {
     "slide_type": "slide"
    }
   },
   "source": [
    "#### Evaluating Standarization Transform"
   ]
  },
  {
   "cell_type": "markdown",
   "metadata": {
    "slideshow": {
     "slide_type": "slide"
    }
   },
   "source": [
    "### Normalization Transform"
   ]
  },
  {
   "cell_type": "markdown",
   "metadata": {},
   "source": [
    "<font color='tomato'>Select columns</font>"
   ]
  },
  {
   "cell_type": "code",
   "execution_count": null,
   "metadata": {
    "vscode": {
     "languageId": "r"
    }
   },
   "outputs": [],
   "source": [
    "# vars <- c()"
   ]
  },
  {
   "cell_type": "markdown",
   "metadata": {},
   "source": [
    "<font color='darkgrey'><b>Operation</font>"
   ]
  },
  {
   "cell_type": "code",
   "execution_count": null,
   "metadata": {
    "vscode": {
     "languageId": "r"
    }
   },
   "outputs": [],
   "source": []
  },
  {
   "cell_type": "markdown",
   "metadata": {
    "slideshow": {
     "slide_type": "slide"
    }
   },
   "source": [
    "### Standarization Transform"
   ]
  },
  {
   "cell_type": "markdown",
   "metadata": {},
   "source": [
    "<font color='tomato'>Select columns</font>"
   ]
  },
  {
   "cell_type": "code",
   "execution_count": null,
   "metadata": {
    "vscode": {
     "languageId": "r"
    }
   },
   "outputs": [],
   "source": [
    "# vars <- c()"
   ]
  },
  {
   "cell_type": "markdown",
   "metadata": {},
   "source": [
    "<font color='darkgrey'><b>Operation</font>"
   ]
  },
  {
   "cell_type": "code",
   "execution_count": null,
   "metadata": {
    "ExecuteTime": {
     "end_time": "2021-01-02T17:51:47.944300Z",
     "start_time": "2021-01-02T17:51:47.859685Z"
    },
    "vscode": {
     "languageId": "r"
    }
   },
   "outputs": [],
   "source": [
    "# data |> mutate(across(vars), scale)"
   ]
  },
  {
   "cell_type": "markdown",
   "metadata": {
    "slideshow": {
     "slide_type": "slide"
    }
   },
   "source": [
    "## Numeric Variable Transformation: Distribution"
   ]
  },
  {
   "cell_type": "markdown",
   "metadata": {
    "slideshow": {
     "slide_type": "slide"
    }
   },
   "source": [
    "###\tDiscretization Transform"
   ]
  },
  {
   "cell_type": "markdown",
   "metadata": {
    "slideshow": {
     "slide_type": "slide"
    }
   },
   "source": [
    "##### Evaluating Discretization Transformations"
   ]
  },
  {
   "cell_type": "markdown",
   "metadata": {
    "slideshow": {
     "slide_type": "slide"
    }
   },
   "source": [
    "#### Uniform Discretization Transform"
   ]
  },
  {
   "cell_type": "markdown",
   "metadata": {},
   "source": [
    "<font color='tomato'>Select columns</font>"
   ]
  },
  {
   "cell_type": "code",
   "execution_count": null,
   "metadata": {
    "ExecuteTime": {
     "end_time": "2020-12-31T17:31:51.827830Z",
     "start_time": "2020-12-31T17:31:51.812208Z"
    },
    "vscode": {
     "languageId": "r"
    }
   },
   "outputs": [],
   "source": [
    "# retrieve just the numeric input values\n",
    "# vars <- c(...)"
   ]
  },
  {
   "cell_type": "markdown",
   "metadata": {},
   "source": [
    "<font color='darkgrey'><b>Operation</font>"
   ]
  },
  {
   "cell_type": "code",
   "execution_count": null,
   "metadata": {
    "ExecuteTime": {
     "end_time": "2020-12-31T10:45:07.969795Z",
     "start_time": "2020-12-31T10:45:07.938574Z"
    },
    "vscode": {
     "languageId": "r"
    }
   },
   "outputs": [],
   "source": [
    "# data |> mutate(across(vars), cut(breaks = 10))"
   ]
  },
  {
   "cell_type": "markdown",
   "metadata": {
    "slideshow": {
     "slide_type": "slide"
    }
   },
   "source": [
    "### Power Transform"
   ]
  },
  {
   "cell_type": "markdown",
   "metadata": {
    "slideshow": {
     "slide_type": "slide"
    }
   },
   "source": [
    "#### Data to Transform"
   ]
  },
  {
   "cell_type": "markdown",
   "metadata": {
    "slideshow": {
     "slide_type": "slide"
    }
   },
   "source": [
    "##### Evaluating Box-Cox tranform"
   ]
  },
  {
   "cell_type": "markdown",
   "metadata": {
    "slideshow": {
     "slide_type": "slide"
    }
   },
   "source": [
    "##### Evaluating Yeo-Johnson tranform"
   ]
  },
  {
   "cell_type": "markdown",
   "metadata": {
    "slideshow": {
     "slide_type": "slide"
    }
   },
   "source": [
    "#### Box-Cox Transform"
   ]
  },
  {
   "cell_type": "markdown",
   "metadata": {},
   "source": [
    "<font color='tomato'>Select columns</font>"
   ]
  },
  {
   "cell_type": "markdown",
   "metadata": {},
   "source": [
    "<font color='darkgrey'><b>Operation</font>"
   ]
  },
  {
   "cell_type": "code",
   "execution_count": null,
   "metadata": {
    "ExecuteTime": {
     "end_time": "2021-01-04T18:58:42.800879Z",
     "start_time": "2021-01-04T18:58:31.271283Z"
    },
    "scrolled": true,
    "vscode": {
     "languageId": "r"
    }
   },
   "outputs": [],
   "source": []
  },
  {
   "cell_type": "markdown",
   "metadata": {
    "slideshow": {
     "slide_type": "slide"
    }
   },
   "source": [
    "#### Yeo-Johnson Transform"
   ]
  },
  {
   "cell_type": "markdown",
   "metadata": {},
   "source": [
    "<font color='tomato'>Select columns</font>"
   ]
  },
  {
   "cell_type": "markdown",
   "metadata": {},
   "source": [
    "<font color='darkgrey'><b>Operation</font>"
   ]
  },
  {
   "cell_type": "markdown",
   "metadata": {},
   "source": [
    "## <font color='green'>Data Save</font>\n",
    "\n",
    "* Solo si se han hecho cambios\n",
    "\n",
    "* No aplica"
   ]
  },
  {
   "cell_type": "markdown",
   "metadata": {},
   "source": [
    "<font color='tomato'> Identificamos los datos a guardar</font>"
   ]
  },
  {
   "cell_type": "code",
   "execution_count": 16,
   "metadata": {
    "vscode": {
     "languageId": "r"
    }
   },
   "outputs": [],
   "source": [
    "data_to_save <- data"
   ]
  },
  {
   "cell_type": "markdown",
   "metadata": {},
   "source": [
    "\n",
    "<font color='tomato'>Estructura de nombre de archivos:</font>\n",
    "\n",
    "* Código del caso de uso, por ejemplo \"CU_04\"\n",
    "* Número del proceso que lo genera, por ejemplo \"_06\".\n",
    "* Resto del nombre del archivo de entrada\n",
    "* Extensión del archivo\n",
    "\n",
    "Ejemplo: \"CU_04_06_01_01_zonasgeo.json, primer fichero que se genera en la tarea 01 del proceso 05 (Data Collection) para el caso de uso 04 (vacunas) y que se ha transformado en el proceso 06\n",
    "\n",
    "Importante mantener los guiones bajos antes de proceso, tarea, archivo y nombre"
   ]
  },
  {
   "cell_type": "markdown",
   "metadata": {},
   "source": [
    "### Proceso 14"
   ]
  },
  {
   "cell_type": "code",
   "execution_count": 17,
   "metadata": {
    "vscode": {
     "languageId": "r"
    }
   },
   "outputs": [],
   "source": [
    "caso <- \"CU_18\"\n",
    "proceso <- '_014'\n",
    "tarea <- \"_20\"\n",
    "archivo <- \"\"\n",
    "proper <- \"_diario_infra\"\n",
    "extension <- \".csv\""
   ]
  },
  {
   "cell_type": "markdown",
   "metadata": {},
   "source": [
    "<font color='tomato'><b> OPCION A:</b> Uso del paquete \"tcltk\" para mayor comodidad</font>\n",
    "\n",
    "* Buscar carpeta, escribir nombre de archivo SIN extensión (se especifica en el código)\n",
    "* Especificar sufijo2 si es necesario\n",
    "* Cambiar datos por datos_xx si es necesario"
   ]
  },
  {
   "cell_type": "code",
   "execution_count": 18,
   "metadata": {
    "vscode": {
     "languageId": "r"
    }
   },
   "outputs": [],
   "source": [
    "# file_save <- paste0(caso, proceso, tarea, tcltk::tkgetSaveFile(), proper, extension) \n",
    "# path_out <- paste0(oPath, file_save)\n",
    "# write_csv(data_to_save_xxxxx, path_out)\n",
    "\n",
    "# cat('File saved as: ')\n",
    "# path_out"
   ]
  },
  {
   "cell_type": "markdown",
   "metadata": {},
   "source": [
    "<font color='tomato'><b> OPCION B:</b> Especificar el nombre de archivo</font>"
   ]
  },
  {
   "cell_type": "markdown",
   "metadata": {},
   "source": [
    "- Los ficheros de salida del proceso van siempre a Data/Output/.  "
   ]
  },
  {
   "cell_type": "code",
   "execution_count": 19,
   "metadata": {
    "vscode": {
     "languageId": "r"
    }
   },
   "outputs": [],
   "source": [
    "# file_save <- paste0(caso, proceso, tarea, archivo, proper, extension) \n",
    "# path_out <- paste0(oPath, file_save)\n",
    "# write_csv(data_to_save_xxxxx, path_out)\n",
    "\n",
    "# cat('File saved as: ')\n",
    "# path_out"
   ]
  },
  {
   "cell_type": "markdown",
   "metadata": {},
   "source": [
    "#### Copia del fichero a Input\n",
    "\n",
    "Si el archivo se va a usar en otros notebooks, copiar a la carpeta Input"
   ]
  },
  {
   "cell_type": "code",
   "execution_count": 20,
   "metadata": {
    "vscode": {
     "languageId": "r"
    }
   },
   "outputs": [],
   "source": [
    "# path_in <- paste0(iPath, file_save)\n",
    "# file.copy(path_out, path_in, overwrite = TRUE)"
   ]
  },
  {
   "cell_type": "markdown",
   "metadata": {},
   "source": [
    "## <font color='#2874a6'>REPORT</font>"
   ]
  },
  {
   "cell_type": "markdown",
   "metadata": {},
   "source": [
    "A continuación se realizará un informe de las acciones realizadas"
   ]
  },
  {
   "cell_type": "markdown",
   "metadata": {},
   "source": [
    "## <font color=' #2874a6 '>Main Actions Carried Out</font>"
   ]
  },
  {
   "cell_type": "markdown",
   "metadata": {},
   "source": [
    "- Si eran necesarias se han realizado en el proceso 05 por cuestiones de eficiencia\n",
    "- O bien se hacen en el dominio IV o V para integrar en el pipeline de modelización"
   ]
  },
  {
   "cell_type": "markdown",
   "metadata": {},
   "source": [
    "## <font color=' #2874a6 '>Main Conclusions</font>"
   ]
  },
  {
   "cell_type": "markdown",
   "metadata": {},
   "source": [
    "- Los datos están listos para la modelización y despliegue\n"
   ]
  },
  {
   "cell_type": "markdown",
   "metadata": {},
   "source": [
    "## <font color='RED'>CODE TO DEPLOY (PILOT)</font>\n",
    "\n",
    "A continuación se incluirá el código que deba ser llevado a despliegue para producción, dado que se entiende efectúa operaciones necesarias sobre los datos en la ejecución del prototipo"
   ]
  },
  {
   "cell_type": "markdown",
   "metadata": {},
   "source": [
    "<font color=' red '><b>Description</b></font>\n",
    "\n",
    "- No hay nada que desplegar en el piloto, ya que estos datos son estáticos o en todo caso cambian con muy poca frecuencia, altamente improbable durante el proyecto.\n"
   ]
  },
  {
   "cell_type": "markdown",
   "metadata": {},
   "source": [
    "<font color=' red '><b>CODE</b></font>"
   ]
  },
  {
   "cell_type": "code",
   "execution_count": null,
   "metadata": {
    "vscode": {
     "languageId": "r"
    }
   },
   "outputs": [],
   "source": []
  }
 ],
 "metadata": {
  "anaconda-cloud": {},
  "celltoolbar": "Slideshow",
  "hide_input": false,
  "kernelspec": {
   "display_name": "R [conda env:citizenlab] *",
   "language": "R",
   "name": "conda-env-citizenlab-r"
  },
  "language_info": {
   "codemirror_mode": "r",
   "file_extension": ".r",
   "mimetype": "text/x-r-source",
   "name": "R",
   "pygments_lexer": "r",
   "version": "4.2.0"
  },
  "latex_envs": {
   "LaTeX_envs_menu_present": true,
   "autoclose": false,
   "autocomplete": true,
   "bibliofile": "biblio.bib",
   "cite_by": "apalike",
   "current_citInitial": 1,
   "eqLabelWithNumbers": true,
   "eqNumInitial": 1,
   "hotkeys": {
    "equation": "Ctrl-E",
    "itemize": "Ctrl-I"
   },
   "labels_anchors": false,
   "latex_user_defs": false,
   "report_style_numbering": true,
   "user_envs_cfg": false
  },
  "toc": {
   "base_numbering": 1,
   "nav_menu": {},
   "number_sections": true,
   "sideBar": true,
   "skip_h1_title": true,
   "title_cell": "Table of Contents",
   "title_sidebar": "Contents",
   "toc_cell": false,
   "toc_position": {
    "height": "calc(100% - 180px)",
    "left": "10px",
    "top": "150px",
    "width": "450.433px"
   },
   "toc_section_display": true,
   "toc_window_display": true
  },
  "varInspector": {
   "cols": {
    "lenName": 16,
    "lenType": 16,
    "lenVar": 40
   },
   "kernels_config": {
    "python": {
     "delete_cmd_postfix": "",
     "delete_cmd_prefix": "del ",
     "library": "var_list.py",
     "varRefreshCmd": "print(var_dic_list())"
    },
    "r": {
     "delete_cmd_postfix": ") ",
     "delete_cmd_prefix": "rm(",
     "library": "var_list.r",
     "varRefreshCmd": "cat(var_dic_list()) "
    }
   },
   "types_to_exclude": [
    "module",
    "function",
    "builtin_function_or_method",
    "instance",
    "_Feature"
   ],
   "window_display": false
  }
 },
 "nbformat": 4,
 "nbformat_minor": 4
}
