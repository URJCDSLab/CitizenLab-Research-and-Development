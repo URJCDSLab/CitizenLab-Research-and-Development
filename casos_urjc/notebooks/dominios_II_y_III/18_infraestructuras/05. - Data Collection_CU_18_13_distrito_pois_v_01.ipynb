{
 "cells": [
  {
   "cell_type": "markdown",
   "metadata": {
    "slideshow": {
     "slide_type": "slide"
    }
   },
   "source": [
    "<img src=\".\\images\\Logo.png\" width=150 align=\"left\" /> <img src=\".\\images\\Logo2.jpg\" width=450 align=\"right\" />"
   ]
  },
  {
   "cell_type": "markdown",
   "metadata": {
    "slideshow": {
     "slide_type": "slide"
    }
   },
   "source": [
    "\n",
    "# <center><font color= #1e8449 > <b>CU18_Infraestructuras_eventos</font></center>"
   ]
  },
  {
   "cell_type": "markdown",
   "metadata": {
    "slideshow": {
     "slide_type": "slide"
    }
   },
   "source": [
    "<font color='steelblue'><b>Citizenlab Data Science Methodology > II - Data Processing Domain </font>\n",
    "***\n",
    "> # <font color='steelblue'> <b>05.- Data Collection</font>"
   ]
  },
  {
   "cell_type": "markdown",
   "metadata": {
    "slideshow": {
     "slide_type": "slide"
    }
   },
   "source": [
    "<font color='steelblue'>Data Collection is the process to obtain and generate (if required) necessary data to model the problem.</font>"
   ]
  },
  {
   "attachments": {},
   "cell_type": "markdown",
   "metadata": {},
   "source": [
    "### 05. Agrupar datos de POIs por distrito\n",
    "\n",
    "* A partir de los datos puntuales, agregar por distrito censal y contar POIs para hacer mapas de regiones y usar en modelos\n",
    "* Adicionalmente crear metadatos con descripción y agrupamiento de variables.\n",
    "\n",
    "\n",
    "\n",
    "\n",
    "\n",
    "\n"
   ]
  },
  {
   "cell_type": "markdown",
   "metadata": {
    "toc": true
   },
   "source": [
    "<h1>Table of Contents<span class=\"tocSkip\"></span></h1>\n",
    "<div class=\"toc\"><ul class=\"toc-item\"><li><span><a href=\"#Settings\" data-toc-modified-id=\"Settings-1\"><font color=\"green\">Settings</font></a></span></li><li><span><a href=\"#Data-Load\" data-toc-modified-id=\"Data-Load-2\"><font color=\"green\">Data Load</font></a></span></li><li><span><a href=\"#ETL-Processes\" data-toc-modified-id=\"ETL-Processes-3\">ETL Processes</a></span><ul class=\"toc-item\"><li><span><a href=\"#Import-data-from:-CSV,-Excel,-Tab,-JSON,-SQL,-and-Parquet-files\" data-toc-modified-id=\"Import-data-from:-CSV,-Excel,-Tab,-JSON,-SQL,-and-Parquet-files-3.1\">Import data from: CSV, Excel, Tab, JSON, SQL, and Parquet files</a></span></li></ul></li><li><span><a href=\"#Synthetic-Data-Generation\" data-toc-modified-id=\"Synthetic-Data-Generation-4\">Synthetic Data Generation</a></span></li><li><span><a href=\"#Fake-Data-Generation\" data-toc-modified-id=\"Fake-Data-Generation-5\">Fake Data Generation</a></span></li><li><span><a href=\"#Open-Data\" data-toc-modified-id=\"Open-Data-6\">Open Data</a></span></li><li><span><a href=\"#Data-Save\" data-toc-modified-id=\"Data-Save-7\"><font color=\"green\">Data Save</font></a></span></li><li><span><a href=\"#Main-Conclusions\" data-toc-modified-id=\"Main-Conclusions-8\"><font color=\" #2874a6 \">Main Conclusions</font></a></span></li><li><span><a href=\"#Main-Actions\" data-toc-modified-id=\"Main-Actions-9\"><font color=\" #2874a6 \">Main Actions</font></a></span><ul class=\"toc-item\"><li><ul class=\"toc-item\"><li><span><a href=\"#Acciones-done\" data-toc-modified-id=\"Acciones-done-9.0.1\"><font color=\" #2874a6 \">Acciones done</font></a></span></li><li><span><a href=\"#Acctions-to-perform\" data-toc-modified-id=\"Acctions-to-perform-9.0.2\"><font color=\" #2874a6 \">Acctions to perform</font></a></span></li></ul></li></ul></li></ul></div>"
   ]
  },
  {
   "cell_type": "markdown",
   "metadata": {
    "slideshow": {
     "slide_type": "slide"
    }
   },
   "source": [
    "## <font color='green'>Settings</font>"
   ]
  },
  {
   "cell_type": "markdown",
   "metadata": {},
   "source": [
    "### Packages to use\n",
    "\n",
    "- {tcltk} para selección interactiva de archivos locales\n",
    "- {readr} para leer y escribir archivos csv\n",
    "- {dplyr} para explorar datos\n",
    "- {dityr} para tranformar datos\n",
    "- {janitor} para limpiar datos\n"
   ]
  },
  {
   "cell_type": "code",
   "execution_count": 1,
   "metadata": {
    "ExecuteTime": {
     "end_time": "2021-12-03T15:23:33.762841Z",
     "start_time": "2021-12-03T15:23:08.580267Z"
    },
    "slideshow": {
     "slide_type": "subslide"
    },
    "vscode": {
     "languageId": "r"
    }
   },
   "outputs": [
    {
     "name": "stderr",
     "output_type": "stream",
     "text": [
      "\n",
      "Attaching package: 'dplyr'\n",
      "\n",
      "\n",
      "The following objects are masked from 'package:stats':\n",
      "\n",
      "    filter, lag\n",
      "\n",
      "\n",
      "The following objects are masked from 'package:base':\n",
      "\n",
      "    intersect, setdiff, setequal, union\n",
      "\n",
      "\n",
      "\n",
      "Attaching package: 'janitor'\n",
      "\n",
      "\n",
      "The following objects are masked from 'package:stats':\n",
      "\n",
      "    chisq.test, fisher.test\n",
      "\n",
      "\n"
     ]
    }
   ],
   "source": [
    "library(readr)\n",
    "library(dplyr)\n",
    "library(tidyr)\n",
    "library(janitor)\n"
   ]
  },
  {
   "cell_type": "markdown",
   "metadata": {},
   "source": [
    "### Paths"
   ]
  },
  {
   "cell_type": "code",
   "execution_count": 2,
   "metadata": {
    "vscode": {
     "languageId": "r"
    }
   },
   "outputs": [],
   "source": [
    "iPath <- \"Data/Input/\"\n",
    "oPath <- \"Data/Output/\""
   ]
  },
  {
   "cell_type": "markdown",
   "metadata": {
    "slideshow": {
     "slide_type": "slide"
    }
   },
   "source": [
    "## <font color='green'>Data Load</font>\n",
    "\n",
    "If there are more than one input file, make as many sections as files to import."
   ]
  },
  {
   "cell_type": "markdown",
   "metadata": {},
   "source": [
    "Instrucciones\n",
    "- Los ficheros de entrada del proceso están siempre en Data/Input/.   \n",
    "- Si hay más de un fichero de entrada, se crean tantos objetos iFile_xx y file_data_xx como ficheros de entrada (xx número correlativo con dos dígitos, rellenar con ceros a la izquierda)"
   ]
  },
  {
   "cell_type": "markdown",
   "metadata": {},
   "source": [
    "<font color='tomato'><b> OPCION A:</b> Seleccionar fichero en ventana para mayor comodidad</font> "
   ]
  },
  {
   "cell_type": "markdown",
   "metadata": {},
   "source": [
    "Data load using the {tcltk} package. Ucomment the line if not using this option"
   ]
  },
  {
   "cell_type": "code",
   "execution_count": null,
   "metadata": {
    "vscode": {
     "languageId": "r"
    }
   },
   "outputs": [],
   "source": [
    "# file_data <- tcltk::tk_choose.files(multi = FALSE)"
   ]
  },
  {
   "cell_type": "markdown",
   "metadata": {},
   "source": [
    "<font color='tomato'><b> OPCION B:</b> Especificar el nombre de archivo</font>\n",
    "\n"
   ]
  },
  {
   "cell_type": "code",
   "execution_count": 3,
   "metadata": {
    "vscode": {
     "languageId": "r"
    }
   },
   "outputs": [
    {
     "name": "stdout",
     "output_type": "stream",
     "text": [
      "Se leer<U+00E1>n datos del archivo:  Data/Input/CU_18_05_12_pois_distrito.csv"
     ]
    }
   ],
   "source": [
    "iFile <- \"CU_18_05_12_pois_distrito.csv\"\n",
    "file_data <- paste0(iPath, iFile)\n",
    "\n",
    "if(file.exists(file_data)){\n",
    "    cat(\"Se leerán datos del archivo: \", file_data)\n",
    "} else{\n",
    "    warning(\"Cuidado: el archivo no existe.\")\n",
    "}\n"
   ]
  },
  {
   "cell_type": "markdown",
   "metadata": {},
   "source": [
    "#### Data file to dataframe\n",
    "\n",
    "Usar la función adecuada según el formato de entrada (xlsx, csv, json, ...)"
   ]
  },
  {
   "cell_type": "code",
   "execution_count": 4,
   "metadata": {
    "vscode": {
     "languageId": "r"
    }
   },
   "outputs": [
    {
     "name": "stderr",
     "output_type": "stream",
     "text": [
      "\u001b[1mRows: \u001b[22m\u001b[34m24780\u001b[39m \u001b[1mColumns: \u001b[22m\u001b[34m7\u001b[39m\n",
      "\u001b[36m--\u001b[39m \u001b[1mColumn specification\u001b[22m \u001b[36m--------------------------------------------------------\u001b[39m\n",
      "\u001b[1mDelimiter:\u001b[22m \",\"\n",
      "\u001b[31mchr\u001b[39m (5): grupo, tipo, nombre, CMUN, CDIS\n",
      "\u001b[32mdbl\u001b[39m (2): X, Y\n",
      "\n",
      "\u001b[36mi\u001b[39m Use `spec()` to retrieve the full column specification for this data.\n",
      "\u001b[36mi\u001b[39m Specify the column types or set `show_col_types = FALSE` to quiet this message.\n"
     ]
    }
   ],
   "source": [
    "data <- read_csv(file_data)\n"
   ]
  },
  {
   "cell_type": "markdown",
   "metadata": {},
   "source": [
    "Estructura de  los datos:"
   ]
  },
  {
   "cell_type": "code",
   "execution_count": 5,
   "metadata": {
    "vscode": {
     "languageId": "r"
    }
   },
   "outputs": [
    {
     "name": "stdout",
     "output_type": "stream",
     "text": [
      "Rows: 24,780\n",
      "Columns: 7\n",
      "$ grupo  \u001b[3m\u001b[90m<chr>\u001b[39m\u001b[23m \"turismo\", \"hosteleria\", \"hosteleria\", \"hosteleria\", \"comercio\"~\n",
      "$ tipo   \u001b[3m\u001b[90m<chr>\u001b[39m\u001b[23m \"hotel\", \"restaurant\", \"pub\", \"pub\", \"supermarket\", \"fast_food\"~\n",
      "$ nombre \u001b[3m\u001b[90m<chr>\u001b[39m\u001b[23m \"NH Ciudad de la Imagen\", \"Caf<U+00E9> Comercial\", \"Sidrer<U+00ED>a la Camoch~\n",
      "$ X      \u001b[3m\u001b[90m<dbl>\u001b[39m\u001b[23m -3.788176, -3.702002, -3.701686, -3.696329, -3.706888, -3.60722~\n",
      "$ Y      \u001b[3m\u001b[90m<dbl>\u001b[39m\u001b[23m 40.39844, 40.42873, 40.42703, 40.42760, 40.48035, 40.43337, 40.~\n",
      "$ CMUN   \u001b[3m\u001b[90m<chr>\u001b[39m\u001b[23m \"115\", \"079\", \"079\", \"079\", \"079\", \"079\", \"079\", \"079\", \"079\", ~\n",
      "$ CDIS   \u001b[3m\u001b[90m<chr>\u001b[39m\u001b[23m \"01\", \"01\", \"01\", \"01\", \"08\", \"20\", \"01\", \"01\", \"01\", \"01\", \"01~\n"
     ]
    }
   ],
   "source": [
    "glimpse(data)"
   ]
  },
  {
   "cell_type": "markdown",
   "metadata": {},
   "source": [
    "Muestra de datos:"
   ]
  },
  {
   "cell_type": "code",
   "execution_count": 6,
   "metadata": {
    "vscode": {
     "languageId": "r"
    }
   },
   "outputs": [
    {
     "data": {
      "text/html": [
       "<table class=\"dataframe\">\n",
       "<caption>A spec_tbl_df: 5 x 7</caption>\n",
       "<thead>\n",
       "\t<tr><th scope=col>grupo</th><th scope=col>tipo</th><th scope=col>nombre</th><th scope=col>X</th><th scope=col>Y</th><th scope=col>CMUN</th><th scope=col>CDIS</th></tr>\n",
       "\t<tr><th scope=col>&lt;chr&gt;</th><th scope=col>&lt;chr&gt;</th><th scope=col>&lt;chr&gt;</th><th scope=col>&lt;dbl&gt;</th><th scope=col>&lt;dbl&gt;</th><th scope=col>&lt;chr&gt;</th><th scope=col>&lt;chr&gt;</th></tr>\n",
       "</thead>\n",
       "<tbody>\n",
       "\t<tr><td>turismo   </td><td>hotel      </td><td>NH Ciudad de la Imagen    </td><td>-3.788176</td><td>40.39844</td><td>115</td><td>01</td></tr>\n",
       "\t<tr><td>hosteleria</td><td>restaurant </td><td><span style=white-space:pre-wrap>Caf&lt;U+00E9&gt; Comercial     </span></td><td>-3.702002</td><td>40.42873</td><td>079</td><td>01</td></tr>\n",
       "\t<tr><td>hosteleria</td><td><span style=white-space:pre-wrap>pub        </span></td><td>Sidrer&lt;U+00ED&gt;a la Camocha</td><td>-3.701686</td><td>40.42703</td><td>079</td><td>01</td></tr>\n",
       "\t<tr><td>hosteleria</td><td>pub        </td><td>Gran Cafe Santander       </td><td>-3.696329</td><td>40.42760</td><td>079</td><td>01</td></tr>\n",
       "\t<tr><td>comercio  </td><td>supermarket</td><td>Alcampo                   </td><td>-3.706888</td><td>40.48035</td><td>079</td><td>08</td></tr>\n",
       "</tbody>\n",
       "</table>\n"
      ],
      "text/latex": [
       "A spec\\_tbl\\_df: 5 x 7\n",
       "\\begin{tabular}{lllllll}\n",
       " grupo & tipo & nombre & X & Y & CMUN & CDIS\\\\\n",
       " <chr> & <chr> & <chr> & <dbl> & <dbl> & <chr> & <chr>\\\\\n",
       "\\hline\n",
       "\t turismo    & hotel       & NH Ciudad de la Imagen     & -3.788176 & 40.39844 & 115 & 01\\\\\n",
       "\t hosteleria & restaurant  & Caf<U+00E9> Comercial      & -3.702002 & 40.42873 & 079 & 01\\\\\n",
       "\t hosteleria & pub         & Sidrer<U+00ED>a la Camocha & -3.701686 & 40.42703 & 079 & 01\\\\\n",
       "\t hosteleria & pub         & Gran Cafe Santander        & -3.696329 & 40.42760 & 079 & 01\\\\\n",
       "\t comercio   & supermarket & Alcampo                    & -3.706888 & 40.48035 & 079 & 08\\\\\n",
       "\\end{tabular}\n"
      ],
      "text/markdown": [
       "\n",
       "A spec_tbl_df: 5 x 7\n",
       "\n",
       "| grupo &lt;chr&gt; | tipo &lt;chr&gt; | nombre &lt;chr&gt; | X &lt;dbl&gt; | Y &lt;dbl&gt; | CMUN &lt;chr&gt; | CDIS &lt;chr&gt; |\n",
       "|---|---|---|---|---|---|---|\n",
       "| turismo    | hotel       | NH Ciudad de la Imagen     | -3.788176 | 40.39844 | 115 | 01 |\n",
       "| hosteleria | restaurant  | Caf&lt;U+00E9&gt; Comercial      | -3.702002 | 40.42873 | 079 | 01 |\n",
       "| hosteleria | pub         | Sidrer&lt;U+00ED&gt;a la Camocha | -3.701686 | 40.42703 | 079 | 01 |\n",
       "| hosteleria | pub         | Gran Cafe Santander        | -3.696329 | 40.42760 | 079 | 01 |\n",
       "| comercio   | supermarket | Alcampo                    | -3.706888 | 40.48035 | 079 | 08 |\n",
       "\n"
      ],
      "text/plain": [
       "  grupo      tipo        nombre                     X         Y        CMUN\n",
       "1 turismo    hotel       NH Ciudad de la Imagen     -3.788176 40.39844 115 \n",
       "2 hosteleria restaurant  Caf<U+00E9> Comercial      -3.702002 40.42873 079 \n",
       "3 hosteleria pub         Sidrer<U+00ED>a la Camocha -3.701686 40.42703 079 \n",
       "4 hosteleria pub         Gran Cafe Santander        -3.696329 40.42760 079 \n",
       "5 comercio   supermarket Alcampo                    -3.706888 40.48035 079 \n",
       "  CDIS\n",
       "1 01  \n",
       "2 01  \n",
       "3 01  \n",
       "4 01  \n",
       "5 08  "
      ]
     },
     "metadata": {},
     "output_type": "display_data"
    }
   ],
   "source": [
    "slice_head(data, n = 5)"
   ]
  },
  {
   "cell_type": "markdown",
   "metadata": {
    "slideshow": {
     "slide_type": "slide"
    }
   },
   "source": [
    "## ETL Processes"
   ]
  },
  {
   "attachments": {},
   "cell_type": "markdown",
   "metadata": {
    "slideshow": {
     "slide_type": "slide"
    }
   },
   "source": [
    "### Import data from: CSV, Excel, Tab, JSON, SQL, and Parquet files\n",
    "\n",
    "Se han importado en el apartado Data Load anterior:\n",
    "\n",
    "* POIs"
   ]
  },
  {
   "cell_type": "markdown",
   "metadata": {},
   "source": [
    "Incluir apartados si procede para: Extracción de datos (select, filter), Transformación de datos, (mutate, joins, ...). Si es necesario tratar datos perdidos, indicarlo también en NB 09.2"
   ]
  },
  {
   "cell_type": "markdown",
   "metadata": {},
   "source": [
    "#### Data Transform"
   ]
  },
  {
   "cell_type": "markdown",
   "metadata": {},
   "source": [
    "* Contar número de infraestructuras de cada tipo por distrito\n",
    "* Extender en columnas para caracterizar distritos"
   ]
  },
  {
   "cell_type": "code",
   "execution_count": 7,
   "metadata": {
    "vscode": {
     "languageId": "r"
    }
   },
   "outputs": [],
   "source": [
    "tdata_01 <- data |> \n",
    "  count(CMUN, CDIS, tipo) |> \n",
    "  pivot_wider(names_from = tipo,\n",
    "              values_from = n, \n",
    "              values_fill = 0) "
   ]
  },
  {
   "cell_type": "code",
   "execution_count": 8,
   "metadata": {
    "vscode": {
     "languageId": "r"
    }
   },
   "outputs": [
    {
     "name": "stdout",
     "output_type": "stream",
     "text": [
      "Rows: 224\n",
      "Columns: 60\n",
      "$ CMUN              \u001b[3m\u001b[90m<chr>\u001b[39m\u001b[23m \"002\", \"003\", \"004\", \"005\", \"005\", \"005\", \"005\", \"00~\n",
      "$ CDIS              \u001b[3m\u001b[90m<chr>\u001b[39m\u001b[23m \"01\", \"01\", \"01\", \"01\", \"02\", \"03\", \"04\", \"05\", \"01\"~\n",
      "$ bakery            \u001b[3m\u001b[90m<int>\u001b[39m\u001b[23m 2, 0, 0, 4, 5, 1, 2, 7, 4, 1, 1, 0, 2, 0, 0, 1, 0, 0~\n",
      "$ bar               \u001b[3m\u001b[90m<int>\u001b[39m\u001b[23m 2, 0, 1, 22, 10, 2, 3, 11, 7, 1, 1, 2, 6, 0, 2, 17, ~\n",
      "$ butcher           \u001b[3m\u001b[90m<int>\u001b[39m\u001b[23m 1, 0, 0, 2, 2, 0, 1, 2, 0, 0, 1, 0, 0, 0, 0, 2, 0, 0~\n",
      "$ cafe              \u001b[3m\u001b[90m<int>\u001b[39m\u001b[23m 5, 1, 0, 12, 6, 1, 3, 19, 12, 3, 2, 0, 6, 0, 1, 4, 0~\n",
      "$ car_dealership    \u001b[3m\u001b[90m<int>\u001b[39m\u001b[23m 1, 0, 0, 1, 1, 3, 0, 3, 5, 1, 0, 0, 0, 0, 0, 0, 0, 0~\n",
      "$ clothes           \u001b[3m\u001b[90m<int>\u001b[39m\u001b[23m 1, 0, 0, 13, 1, 0, 1, 28, 0, 0, 0, 0, 0, 0, 1, 1, 0,~\n",
      "$ convenience       \u001b[3m\u001b[90m<int>\u001b[39m\u001b[23m 2, 0, 0, 4, 2, 2, 2, 13, 8, 1, 1, 2, 6, 0, 0, 1, 0, ~\n",
      "$ fast_food         \u001b[3m\u001b[90m<int>\u001b[39m\u001b[23m 1, 0, 0, 8, 1, 2, 5, 11, 10, 7, 4, 0, 6, 0, 2, 5, 0,~\n",
      "$ food_court        \u001b[3m\u001b[90m<int>\u001b[39m\u001b[23m 2, 0, 0, 0, 0, 0, 1, 0, 0, 0, 0, 0, 0, 0, 0, 0, 0, 0~\n",
      "$ furniture_shop    \u001b[3m\u001b[90m<int>\u001b[39m\u001b[23m 2, 0, 0, 3, 0, 0, 1, 8, 2, 1, 0, 0, 0, 0, 0, 0, 0, 0~\n",
      "$ gift_shop         \u001b[3m\u001b[90m<int>\u001b[39m\u001b[23m 1, 0, 0, 2, 0, 0, 0, 1, 0, 0, 0, 0, 0, 0, 0, 1, 0, 0~\n",
      "$ greengrocer       \u001b[3m\u001b[90m<int>\u001b[39m\u001b[23m 1, 0, 0, 1, 1, 0, 0, 8, 2, 0, 1, 0, 1, 0, 0, 0, 0, 0~\n",
      "$ guesthouse        \u001b[3m\u001b[90m<int>\u001b[39m\u001b[23m 1, 0, 0, 0, 0, 0, 0, 0, 0, 0, 0, 0, 1, 0, 0, 0, 0, 0~\n",
      "$ hairdresser       \u001b[3m\u001b[90m<int>\u001b[39m\u001b[23m 2, 0, 0, 16, 4, 0, 4, 21, 7, 1, 0, 1, 5, 0, 0, 1, 0,~\n",
      "$ hotel             \u001b[3m\u001b[90m<int>\u001b[39m\u001b[23m 1, 1, 0, 3, 0, 3, 0, 1, 3, 3, 0, 0, 0, 0, 2, 1, 0, 1~\n",
      "$ pub               \u001b[3m\u001b[90m<int>\u001b[39m\u001b[23m 2, 0, 0, 24, 4, 2, 2, 31, 7, 0, 0, 0, 4, 0, 0, 2, 1,~\n",
      "$ restaurant        \u001b[3m\u001b[90m<int>\u001b[39m\u001b[23m 5, 4, 3, 53, 5, 18, 10, 22, 73, 26, 13, 1, 4, 2, 2, ~\n",
      "$ stationery        \u001b[3m\u001b[90m<int>\u001b[39m\u001b[23m 1, 0, 0, 1, 3, 0, 1, 2, 0, 0, 0, 0, 0, 0, 0, 0, 0, 1~\n",
      "$ vending_any       \u001b[3m\u001b[90m<int>\u001b[39m\u001b[23m 1, 0, 0, 0, 0, 0, 0, 2, 0, 0, 0, 0, 0, 0, 0, 0, 0, 0~\n",
      "$ bicycle_rental    \u001b[3m\u001b[90m<int>\u001b[39m\u001b[23m 0, 1, 0, 0, 0, 0, 0, 0, 0, 0, 0, 0, 0, 0, 0, 0, 1, 0~\n",
      "$ hostel            \u001b[3m\u001b[90m<int>\u001b[39m\u001b[23m 0, 2, 0, 0, 2, 0, 0, 0, 0, 0, 1, 0, 0, 0, 0, 1, 0, 0~\n",
      "$ supermarket       \u001b[3m\u001b[90m<int>\u001b[39m\u001b[23m 0, 1, 1, 6, 6, 2, 3, 10, 8, 12, 3, 4, 3, 1, 3, 3, 0,~\n",
      "$ beauty_shop       \u001b[3m\u001b[90m<int>\u001b[39m\u001b[23m 0, 0, 0, 3, 0, 0, 2, 10, 6, 0, 0, 0, 0, 0, 1, 0, 0, ~\n",
      "$ beverages         \u001b[3m\u001b[90m<int>\u001b[39m\u001b[23m 0, 0, 0, 1, 0, 0, 0, 0, 0, 0, 0, 0, 0, 0, 0, 0, 0, 0~\n",
      "$ bicycle_shop      \u001b[3m\u001b[90m<int>\u001b[39m\u001b[23m 0, 0, 0, 3, 1, 1, 0, 2, 4, 0, 1, 1, 1, 0, 0, 2, 0, 0~\n",
      "$ bookshop          \u001b[3m\u001b[90m<int>\u001b[39m\u001b[23m 0, 0, 0, 7, 0, 0, 2, 3, 3, 1, 0, 0, 0, 0, 0, 0, 0, 1~\n",
      "$ chemist           \u001b[3m\u001b[90m<int>\u001b[39m\u001b[23m 0, 0, 0, 1, 0, 0, 0, 0, 1, 0, 0, 0, 0, 0, 0, 0, 0, 0~\n",
      "$ computer_shop     \u001b[3m\u001b[90m<int>\u001b[39m\u001b[23m 0, 0, 0, 3, 3, 0, 0, 2, 0, 0, 0, 0, 0, 0, 1, 0, 0, 0~\n",
      "$ doityourself      \u001b[3m\u001b[90m<int>\u001b[39m\u001b[23m 0, 0, 0, 2, 2, 2, 0, 3, 3, 0, 0, 0, 0, 0, 0, 1, 0, 0~\n",
      "$ florist           \u001b[3m\u001b[90m<int>\u001b[39m\u001b[23m 0, 0, 0, 2, 0, 0, 2, 2, 1, 0, 0, 0, 0, 0, 0, 0, 0, 0~\n",
      "$ jeweller          \u001b[3m\u001b[90m<int>\u001b[39m\u001b[23m 0, 0, 0, 2, 1, 0, 0, 3, 0, 0, 0, 0, 0, 0, 0, 0, 0, 0~\n",
      "$ kiosk             \u001b[3m\u001b[90m<int>\u001b[39m\u001b[23m 0, 0, 0, 1, 0, 0, 0, 0, 0, 0, 0, 0, 0, 0, 0, 0, 0, 0~\n",
      "$ mall              \u001b[3m\u001b[90m<int>\u001b[39m\u001b[23m 0, 0, 0, 1, 0, 0, 0, 0, 0, 0, 0, 0, 0, 0, 0, 0, 0, 0~\n",
      "$ mobile_phone_shop \u001b[3m\u001b[90m<int>\u001b[39m\u001b[23m 0, 0, 0, 2, 1, 0, 0, 7, 1, 0, 0, 0, 0, 0, 0, 0, 0, 0~\n",
      "$ optician          \u001b[3m\u001b[90m<int>\u001b[39m\u001b[23m 0, 0, 0, 4, 1, 0, 2, 6, 2, 1, 1, 0, 0, 0, 0, 0, 0, 2~\n",
      "$ shoe_shop         \u001b[3m\u001b[90m<int>\u001b[39m\u001b[23m 0, 0, 0, 10, 1, 0, 0, 7, 3, 0, 0, 0, 1, 0, 0, 1, 0, ~\n",
      "$ toy_shop          \u001b[3m\u001b[90m<int>\u001b[39m\u001b[23m 0, 0, 0, 1, 1, 0, 0, 4, 3, 0, 0, 0, 0, 0, 0, 0, 0, 0~\n",
      "$ travel_agent      \u001b[3m\u001b[90m<int>\u001b[39m\u001b[23m 0, 0, 0, 3, 0, 0, 0, 1, 1, 1, 0, 0, 0, 0, 0, 0, 0, 0~\n",
      "$ car_rental        \u001b[3m\u001b[90m<int>\u001b[39m\u001b[23m 0, 0, 0, 0, 1, 0, 0, 1, 1, 0, 0, 0, 0, 0, 1, 0, 0, 0~\n",
      "$ car_wash          \u001b[3m\u001b[90m<int>\u001b[39m\u001b[23m 0, 0, 0, 0, 1, 0, 0, 2, 1, 0, 0, 0, 0, 0, 0, 0, 0, 0~\n",
      "$ outdoor_shop      \u001b[3m\u001b[90m<int>\u001b[39m\u001b[23m 0, 0, 0, 0, 0, 1, 0, 0, 0, 0, 0, 0, 0, 0, 0, 0, 0, 0~\n",
      "$ sports_shop       \u001b[3m\u001b[90m<int>\u001b[39m\u001b[23m 0, 0, 0, 0, 0, 1, 1, 4, 1, 2, 0, 0, 0, 0, 0, 0, 0, 0~\n",
      "$ caravan_site      \u001b[3m\u001b[90m<int>\u001b[39m\u001b[23m 0, 0, 0, 0, 0, 0, 1, 0, 0, 0, 0, 0, 0, 0, 0, 0, 0, 0~\n",
      "$ biergarten        \u001b[3m\u001b[90m<int>\u001b[39m\u001b[23m 0, 0, 0, 0, 0, 0, 0, 1, 0, 0, 0, 0, 0, 0, 0, 0, 0, 0~\n",
      "$ garden_centre     \u001b[3m\u001b[90m<int>\u001b[39m\u001b[23m 0, 0, 0, 0, 0, 0, 0, 1, 1, 0, 0, 0, 0, 0, 0, 0, 0, 0~\n",
      "$ laundry           \u001b[3m\u001b[90m<int>\u001b[39m\u001b[23m 0, 0, 0, 0, 0, 0, 0, 2, 4, 0, 0, 0, 0, 0, 1, 0, 0, 0~\n",
      "$ department_store  \u001b[3m\u001b[90m<int>\u001b[39m\u001b[23m 0, 0, 0, 0, 0, 0, 0, 0, 1, 0, 0, 0, 0, 0, 0, 1, 0, 0~\n",
      "$ newsagent         \u001b[3m\u001b[90m<int>\u001b[39m\u001b[23m 0, 0, 0, 0, 0, 0, 0, 0, 2, 0, 0, 0, 0, 0, 0, 0, 0, 1~\n",
      "$ vending_parking   \u001b[3m\u001b[90m<int>\u001b[39m\u001b[23m 0, 0, 0, 0, 0, 0, 0, 0, 2, 0, 0, 0, 0, 0, 0, 0, 0, 0~\n",
      "$ chalet            \u001b[3m\u001b[90m<int>\u001b[39m\u001b[23m 0, 0, 0, 0, 0, 0, 0, 0, 0, 0, 0, 0, 0, 0, 0, 0, 0, 0~\n",
      "$ shelter           \u001b[3m\u001b[90m<int>\u001b[39m\u001b[23m 0, 0, 0, 0, 0, 0, 0, 0, 0, 0, 0, 0, 0, 0, 0, 0, 0, 0~\n",
      "$ motel             \u001b[3m\u001b[90m<int>\u001b[39m\u001b[23m 0, 0, 0, 0, 0, 0, 0, 0, 0, 0, 0, 0, 0, 0, 0, 0, 0, 0~\n",
      "$ camp_site         \u001b[3m\u001b[90m<int>\u001b[39m\u001b[23m 0, 0, 0, 0, 0, 0, 0, 0, 0, 0, 0, 0, 0, 0, 0, 0, 0, 0~\n",
      "$ general           \u001b[3m\u001b[90m<int>\u001b[39m\u001b[23m 0, 0, 0, 0, 0, 0, 0, 0, 0, 0, 0, 0, 0, 0, 0, 0, 0, 0~\n",
      "$ alpine_hut        \u001b[3m\u001b[90m<int>\u001b[39m\u001b[23m 0, 0, 0, 0, 0, 0, 0, 0, 0, 0, 0, 0, 0, 0, 0, 0, 0, 0~\n",
      "$ video_shop        \u001b[3m\u001b[90m<int>\u001b[39m\u001b[23m 0, 0, 0, 0, 0, 0, 0, 0, 0, 0, 0, 0, 0, 0, 0, 0, 0, 0~\n",
      "$ vending_machine   \u001b[3m\u001b[90m<int>\u001b[39m\u001b[23m 0, 0, 0, 0, 0, 0, 0, 0, 0, 0, 0, 0, 0, 0, 0, 0, 0, 0~\n",
      "$ car_sharing       \u001b[3m\u001b[90m<int>\u001b[39m\u001b[23m 0, 0, 0, 0, 0, 0, 0, 0, 0, 0, 0, 0, 0, 0, 0, 0, 0, 0~\n"
     ]
    }
   ],
   "source": [
    "glimpse(tdata_01)"
   ]
  },
  {
   "cell_type": "code",
   "execution_count": 9,
   "metadata": {
    "vscode": {
     "languageId": "r"
    }
   },
   "outputs": [
    {
     "data": {
      "text/html": [
       "<table class=\"dataframe\">\n",
       "<caption>A tibble: 5 x 60</caption>\n",
       "<thead>\n",
       "\t<tr><th scope=col>CMUN</th><th scope=col>CDIS</th><th scope=col>bakery</th><th scope=col>bar</th><th scope=col>butcher</th><th scope=col>cafe</th><th scope=col>car_dealership</th><th scope=col>clothes</th><th scope=col>convenience</th><th scope=col>fast_food</th><th scope=col>...</th><th scope=col>vending_parking</th><th scope=col>chalet</th><th scope=col>shelter</th><th scope=col>motel</th><th scope=col>camp_site</th><th scope=col>general</th><th scope=col>alpine_hut</th><th scope=col>video_shop</th><th scope=col>vending_machine</th><th scope=col>car_sharing</th></tr>\n",
       "\t<tr><th scope=col>&lt;chr&gt;</th><th scope=col>&lt;chr&gt;</th><th scope=col>&lt;int&gt;</th><th scope=col>&lt;int&gt;</th><th scope=col>&lt;int&gt;</th><th scope=col>&lt;int&gt;</th><th scope=col>&lt;int&gt;</th><th scope=col>&lt;int&gt;</th><th scope=col>&lt;int&gt;</th><th scope=col>&lt;int&gt;</th><th scope=col>...</th><th scope=col>&lt;int&gt;</th><th scope=col>&lt;int&gt;</th><th scope=col>&lt;int&gt;</th><th scope=col>&lt;int&gt;</th><th scope=col>&lt;int&gt;</th><th scope=col>&lt;int&gt;</th><th scope=col>&lt;int&gt;</th><th scope=col>&lt;int&gt;</th><th scope=col>&lt;int&gt;</th><th scope=col>&lt;int&gt;</th></tr>\n",
       "</thead>\n",
       "<tbody>\n",
       "\t<tr><td>002</td><td>01</td><td>2</td><td> 2</td><td>1</td><td> 5</td><td>1</td><td> 1</td><td>2</td><td>1</td><td>...</td><td>0</td><td>0</td><td>0</td><td>0</td><td>0</td><td>0</td><td>0</td><td>0</td><td>0</td><td>0</td></tr>\n",
       "\t<tr><td>003</td><td>01</td><td>0</td><td> 0</td><td>0</td><td> 1</td><td>0</td><td> 0</td><td>0</td><td>0</td><td>...</td><td>0</td><td>0</td><td>0</td><td>0</td><td>0</td><td>0</td><td>0</td><td>0</td><td>0</td><td>0</td></tr>\n",
       "\t<tr><td>004</td><td>01</td><td>0</td><td> 1</td><td>0</td><td> 0</td><td>0</td><td> 0</td><td>0</td><td>0</td><td>...</td><td>0</td><td>0</td><td>0</td><td>0</td><td>0</td><td>0</td><td>0</td><td>0</td><td>0</td><td>0</td></tr>\n",
       "\t<tr><td>005</td><td>01</td><td>4</td><td>22</td><td>2</td><td>12</td><td>1</td><td>13</td><td>4</td><td>8</td><td>...</td><td>0</td><td>0</td><td>0</td><td>0</td><td>0</td><td>0</td><td>0</td><td>0</td><td>0</td><td>0</td></tr>\n",
       "\t<tr><td>005</td><td>02</td><td>5</td><td>10</td><td>2</td><td> 6</td><td>1</td><td> 1</td><td>2</td><td>1</td><td>...</td><td>0</td><td>0</td><td>0</td><td>0</td><td>0</td><td>0</td><td>0</td><td>0</td><td>0</td><td>0</td></tr>\n",
       "</tbody>\n",
       "</table>\n"
      ],
      "text/latex": [
       "A tibble: 5 x 60\n",
       "\\begin{tabular}{lllllllllllllllllllll}\n",
       " CMUN & CDIS & bakery & bar & butcher & cafe & car\\_dealership & clothes & convenience & fast\\_food & ... & vending\\_parking & chalet & shelter & motel & camp\\_site & general & alpine\\_hut & video\\_shop & vending\\_machine & car\\_sharing\\\\\n",
       " <chr> & <chr> & <int> & <int> & <int> & <int> & <int> & <int> & <int> & <int> & ... & <int> & <int> & <int> & <int> & <int> & <int> & <int> & <int> & <int> & <int>\\\\\n",
       "\\hline\n",
       "\t 002 & 01 & 2 &  2 & 1 &  5 & 1 &  1 & 2 & 1 & ... & 0 & 0 & 0 & 0 & 0 & 0 & 0 & 0 & 0 & 0\\\\\n",
       "\t 003 & 01 & 0 &  0 & 0 &  1 & 0 &  0 & 0 & 0 & ... & 0 & 0 & 0 & 0 & 0 & 0 & 0 & 0 & 0 & 0\\\\\n",
       "\t 004 & 01 & 0 &  1 & 0 &  0 & 0 &  0 & 0 & 0 & ... & 0 & 0 & 0 & 0 & 0 & 0 & 0 & 0 & 0 & 0\\\\\n",
       "\t 005 & 01 & 4 & 22 & 2 & 12 & 1 & 13 & 4 & 8 & ... & 0 & 0 & 0 & 0 & 0 & 0 & 0 & 0 & 0 & 0\\\\\n",
       "\t 005 & 02 & 5 & 10 & 2 &  6 & 1 &  1 & 2 & 1 & ... & 0 & 0 & 0 & 0 & 0 & 0 & 0 & 0 & 0 & 0\\\\\n",
       "\\end{tabular}\n"
      ],
      "text/markdown": [
       "\n",
       "A tibble: 5 x 60\n",
       "\n",
       "| CMUN &lt;chr&gt; | CDIS &lt;chr&gt; | bakery &lt;int&gt; | bar &lt;int&gt; | butcher &lt;int&gt; | cafe &lt;int&gt; | car_dealership &lt;int&gt; | clothes &lt;int&gt; | convenience &lt;int&gt; | fast_food &lt;int&gt; | ... ... | vending_parking &lt;int&gt; | chalet &lt;int&gt; | shelter &lt;int&gt; | motel &lt;int&gt; | camp_site &lt;int&gt; | general &lt;int&gt; | alpine_hut &lt;int&gt; | video_shop &lt;int&gt; | vending_machine &lt;int&gt; | car_sharing &lt;int&gt; |\n",
       "|---|---|---|---|---|---|---|---|---|---|---|---|---|---|---|---|---|---|---|---|---|\n",
       "| 002 | 01 | 2 |  2 | 1 |  5 | 1 |  1 | 2 | 1 | ... | 0 | 0 | 0 | 0 | 0 | 0 | 0 | 0 | 0 | 0 |\n",
       "| 003 | 01 | 0 |  0 | 0 |  1 | 0 |  0 | 0 | 0 | ... | 0 | 0 | 0 | 0 | 0 | 0 | 0 | 0 | 0 | 0 |\n",
       "| 004 | 01 | 0 |  1 | 0 |  0 | 0 |  0 | 0 | 0 | ... | 0 | 0 | 0 | 0 | 0 | 0 | 0 | 0 | 0 | 0 |\n",
       "| 005 | 01 | 4 | 22 | 2 | 12 | 1 | 13 | 4 | 8 | ... | 0 | 0 | 0 | 0 | 0 | 0 | 0 | 0 | 0 | 0 |\n",
       "| 005 | 02 | 5 | 10 | 2 |  6 | 1 |  1 | 2 | 1 | ... | 0 | 0 | 0 | 0 | 0 | 0 | 0 | 0 | 0 | 0 |\n",
       "\n"
      ],
      "text/plain": [
       "  CMUN CDIS bakery bar butcher cafe car_dealership clothes convenience\n",
       "1 002  01   2       2  1        5   1               1      2          \n",
       "2 003  01   0       0  0        1   0               0      0          \n",
       "3 004  01   0       1  0        0   0               0      0          \n",
       "4 005  01   4      22  2       12   1              13      4          \n",
       "5 005  02   5      10  2        6   1               1      2          \n",
       "  fast_food ... vending_parking chalet shelter motel camp_site general\n",
       "1 1         ... 0               0      0       0     0         0      \n",
       "2 0         ... 0               0      0       0     0         0      \n",
       "3 0         ... 0               0      0       0     0         0      \n",
       "4 8         ... 0               0      0       0     0         0      \n",
       "5 1         ... 0               0      0       0     0         0      \n",
       "  alpine_hut video_shop vending_machine car_sharing\n",
       "1 0          0          0               0          \n",
       "2 0          0          0               0          \n",
       "3 0          0          0               0          \n",
       "4 0          0          0               0          \n",
       "5 0          0          0               0          "
      ]
     },
     "metadata": {},
     "output_type": "display_data"
    }
   ],
   "source": [
    "tdata_01 |> slice_head(n = 5)"
   ]
  },
  {
   "cell_type": "markdown",
   "metadata": {},
   "source": [
    "#### Data Extract\n",
    "\n",
    "\n"
   ]
  },
  {
   "cell_type": "markdown",
   "metadata": {},
   "source": [
    "* Extraer nombres de columnas\n"
   ]
  },
  {
   "cell_type": "code",
   "execution_count": 10,
   "metadata": {
    "vscode": {
     "languageId": "r"
    }
   },
   "outputs": [],
   "source": [
    "tdata_02 <- data.frame(desc_var = colnames(tdata_01)[3:ncol(tdata_01)])"
   ]
  },
  {
   "cell_type": "code",
   "execution_count": 11,
   "metadata": {
    "vscode": {
     "languageId": "r"
    }
   },
   "outputs": [
    {
     "data": {
      "text/html": [
       "<table class=\"dataframe\">\n",
       "<caption>A data.frame: 58 x 1</caption>\n",
       "<thead>\n",
       "\t<tr><th scope=col>desc_var</th></tr>\n",
       "\t<tr><th scope=col>&lt;chr&gt;</th></tr>\n",
       "</thead>\n",
       "<tbody>\n",
       "\t<tr><td>bakery           </td></tr>\n",
       "\t<tr><td>bar              </td></tr>\n",
       "\t<tr><td>butcher          </td></tr>\n",
       "\t<tr><td>cafe             </td></tr>\n",
       "\t<tr><td>car_dealership   </td></tr>\n",
       "\t<tr><td>clothes          </td></tr>\n",
       "\t<tr><td>convenience      </td></tr>\n",
       "\t<tr><td>fast_food        </td></tr>\n",
       "\t<tr><td>food_court       </td></tr>\n",
       "\t<tr><td>furniture_shop   </td></tr>\n",
       "\t<tr><td>gift_shop        </td></tr>\n",
       "\t<tr><td>greengrocer      </td></tr>\n",
       "\t<tr><td>guesthouse       </td></tr>\n",
       "\t<tr><td>hairdresser      </td></tr>\n",
       "\t<tr><td>hotel            </td></tr>\n",
       "\t<tr><td>pub              </td></tr>\n",
       "\t<tr><td>restaurant       </td></tr>\n",
       "\t<tr><td>stationery       </td></tr>\n",
       "\t<tr><td>vending_any      </td></tr>\n",
       "\t<tr><td>bicycle_rental   </td></tr>\n",
       "\t<tr><td>hostel           </td></tr>\n",
       "\t<tr><td>supermarket      </td></tr>\n",
       "\t<tr><td>beauty_shop      </td></tr>\n",
       "\t<tr><td>beverages        </td></tr>\n",
       "\t<tr><td>bicycle_shop     </td></tr>\n",
       "\t<tr><td>bookshop         </td></tr>\n",
       "\t<tr><td>chemist          </td></tr>\n",
       "\t<tr><td>computer_shop    </td></tr>\n",
       "\t<tr><td>doityourself     </td></tr>\n",
       "\t<tr><td>florist          </td></tr>\n",
       "\t<tr><td>jeweller         </td></tr>\n",
       "\t<tr><td>kiosk            </td></tr>\n",
       "\t<tr><td>mall             </td></tr>\n",
       "\t<tr><td>mobile_phone_shop</td></tr>\n",
       "\t<tr><td>optician         </td></tr>\n",
       "\t<tr><td>shoe_shop        </td></tr>\n",
       "\t<tr><td>toy_shop         </td></tr>\n",
       "\t<tr><td>travel_agent     </td></tr>\n",
       "\t<tr><td>car_rental       </td></tr>\n",
       "\t<tr><td>car_wash         </td></tr>\n",
       "\t<tr><td>outdoor_shop     </td></tr>\n",
       "\t<tr><td>sports_shop      </td></tr>\n",
       "\t<tr><td>caravan_site     </td></tr>\n",
       "\t<tr><td>biergarten       </td></tr>\n",
       "\t<tr><td>garden_centre    </td></tr>\n",
       "\t<tr><td>laundry          </td></tr>\n",
       "\t<tr><td>department_store </td></tr>\n",
       "\t<tr><td>newsagent        </td></tr>\n",
       "\t<tr><td>vending_parking  </td></tr>\n",
       "\t<tr><td>chalet           </td></tr>\n",
       "\t<tr><td>shelter          </td></tr>\n",
       "\t<tr><td>motel            </td></tr>\n",
       "\t<tr><td>camp_site        </td></tr>\n",
       "\t<tr><td>general          </td></tr>\n",
       "\t<tr><td>alpine_hut       </td></tr>\n",
       "\t<tr><td>video_shop       </td></tr>\n",
       "\t<tr><td>vending_machine  </td></tr>\n",
       "\t<tr><td>car_sharing      </td></tr>\n",
       "</tbody>\n",
       "</table>\n"
      ],
      "text/latex": [
       "A data.frame: 58 x 1\n",
       "\\begin{tabular}{l}\n",
       " desc\\_var\\\\\n",
       " <chr>\\\\\n",
       "\\hline\n",
       "\t bakery           \\\\\n",
       "\t bar              \\\\\n",
       "\t butcher          \\\\\n",
       "\t cafe             \\\\\n",
       "\t car\\_dealership   \\\\\n",
       "\t clothes          \\\\\n",
       "\t convenience      \\\\\n",
       "\t fast\\_food        \\\\\n",
       "\t food\\_court       \\\\\n",
       "\t furniture\\_shop   \\\\\n",
       "\t gift\\_shop        \\\\\n",
       "\t greengrocer      \\\\\n",
       "\t guesthouse       \\\\\n",
       "\t hairdresser      \\\\\n",
       "\t hotel            \\\\\n",
       "\t pub              \\\\\n",
       "\t restaurant       \\\\\n",
       "\t stationery       \\\\\n",
       "\t vending\\_any      \\\\\n",
       "\t bicycle\\_rental   \\\\\n",
       "\t hostel           \\\\\n",
       "\t supermarket      \\\\\n",
       "\t beauty\\_shop      \\\\\n",
       "\t beverages        \\\\\n",
       "\t bicycle\\_shop     \\\\\n",
       "\t bookshop         \\\\\n",
       "\t chemist          \\\\\n",
       "\t computer\\_shop    \\\\\n",
       "\t doityourself     \\\\\n",
       "\t florist          \\\\\n",
       "\t jeweller         \\\\\n",
       "\t kiosk            \\\\\n",
       "\t mall             \\\\\n",
       "\t mobile\\_phone\\_shop\\\\\n",
       "\t optician         \\\\\n",
       "\t shoe\\_shop        \\\\\n",
       "\t toy\\_shop         \\\\\n",
       "\t travel\\_agent     \\\\\n",
       "\t car\\_rental       \\\\\n",
       "\t car\\_wash         \\\\\n",
       "\t outdoor\\_shop     \\\\\n",
       "\t sports\\_shop      \\\\\n",
       "\t caravan\\_site     \\\\\n",
       "\t biergarten       \\\\\n",
       "\t garden\\_centre    \\\\\n",
       "\t laundry          \\\\\n",
       "\t department\\_store \\\\\n",
       "\t newsagent        \\\\\n",
       "\t vending\\_parking  \\\\\n",
       "\t chalet           \\\\\n",
       "\t shelter          \\\\\n",
       "\t motel            \\\\\n",
       "\t camp\\_site        \\\\\n",
       "\t general          \\\\\n",
       "\t alpine\\_hut       \\\\\n",
       "\t video\\_shop       \\\\\n",
       "\t vending\\_machine  \\\\\n",
       "\t car\\_sharing      \\\\\n",
       "\\end{tabular}\n"
      ],
      "text/markdown": [
       "\n",
       "A data.frame: 58 x 1\n",
       "\n",
       "| desc_var &lt;chr&gt; |\n",
       "|---|\n",
       "| bakery            |\n",
       "| bar               |\n",
       "| butcher           |\n",
       "| cafe              |\n",
       "| car_dealership    |\n",
       "| clothes           |\n",
       "| convenience       |\n",
       "| fast_food         |\n",
       "| food_court        |\n",
       "| furniture_shop    |\n",
       "| gift_shop         |\n",
       "| greengrocer       |\n",
       "| guesthouse        |\n",
       "| hairdresser       |\n",
       "| hotel             |\n",
       "| pub               |\n",
       "| restaurant        |\n",
       "| stationery        |\n",
       "| vending_any       |\n",
       "| bicycle_rental    |\n",
       "| hostel            |\n",
       "| supermarket       |\n",
       "| beauty_shop       |\n",
       "| beverages         |\n",
       "| bicycle_shop      |\n",
       "| bookshop          |\n",
       "| chemist           |\n",
       "| computer_shop     |\n",
       "| doityourself      |\n",
       "| florist           |\n",
       "| jeweller          |\n",
       "| kiosk             |\n",
       "| mall              |\n",
       "| mobile_phone_shop |\n",
       "| optician          |\n",
       "| shoe_shop         |\n",
       "| toy_shop          |\n",
       "| travel_agent      |\n",
       "| car_rental        |\n",
       "| car_wash          |\n",
       "| outdoor_shop      |\n",
       "| sports_shop       |\n",
       "| caravan_site      |\n",
       "| biergarten        |\n",
       "| garden_centre     |\n",
       "| laundry           |\n",
       "| department_store  |\n",
       "| newsagent         |\n",
       "| vending_parking   |\n",
       "| chalet            |\n",
       "| shelter           |\n",
       "| motel             |\n",
       "| camp_site         |\n",
       "| general           |\n",
       "| alpine_hut        |\n",
       "| video_shop        |\n",
       "| vending_machine   |\n",
       "| car_sharing       |\n",
       "\n"
      ],
      "text/plain": [
       "   desc_var         \n",
       "1  bakery           \n",
       "2  bar              \n",
       "3  butcher          \n",
       "4  cafe             \n",
       "5  car_dealership   \n",
       "6  clothes          \n",
       "7  convenience      \n",
       "8  fast_food        \n",
       "9  food_court       \n",
       "10 furniture_shop   \n",
       "11 gift_shop        \n",
       "12 greengrocer      \n",
       "13 guesthouse       \n",
       "14 hairdresser      \n",
       "15 hotel            \n",
       "16 pub              \n",
       "17 restaurant       \n",
       "18 stationery       \n",
       "19 vending_any      \n",
       "20 bicycle_rental   \n",
       "21 hostel           \n",
       "22 supermarket      \n",
       "23 beauty_shop      \n",
       "24 beverages        \n",
       "25 bicycle_shop     \n",
       "26 bookshop         \n",
       "27 chemist          \n",
       "28 computer_shop    \n",
       "29 doityourself     \n",
       "30 florist          \n",
       "31 jeweller         \n",
       "32 kiosk            \n",
       "33 mall             \n",
       "34 mobile_phone_shop\n",
       "35 optician         \n",
       "36 shoe_shop        \n",
       "37 toy_shop         \n",
       "38 travel_agent     \n",
       "39 car_rental       \n",
       "40 car_wash         \n",
       "41 outdoor_shop     \n",
       "42 sports_shop      \n",
       "43 caravan_site     \n",
       "44 biergarten       \n",
       "45 garden_centre    \n",
       "46 laundry          \n",
       "47 department_store \n",
       "48 newsagent        \n",
       "49 vending_parking  \n",
       "50 chalet           \n",
       "51 shelter          \n",
       "52 motel            \n",
       "53 camp_site        \n",
       "54 general          \n",
       "55 alpine_hut       \n",
       "56 video_shop       \n",
       "57 vending_machine  \n",
       "58 car_sharing      "
      ]
     },
     "metadata": {},
     "output_type": "display_data"
    }
   ],
   "source": [
    "tdata_02"
   ]
  },
  {
   "cell_type": "markdown",
   "metadata": {},
   "source": [
    "Data Transform"
   ]
  },
  {
   "cell_type": "markdown",
   "metadata": {},
   "source": [
    "* Completar metadatos"
   ]
  },
  {
   "cell_type": "code",
   "execution_count": 13,
   "metadata": {
    "vscode": {
     "languageId": "r"
    }
   },
   "outputs": [],
   "source": [
    "tdata_02 <- tdata_02 |>\n",
    "    mutate(nombre_var = colnames(tdata_01)[3:ncol(tdata_01)]) |>\n",
    "    left_join(data |> count(grupo, tipo), \n",
    "                by = c(\"desc_var\" = \"tipo\")) "
   ]
  },
  {
   "cell_type": "code",
   "execution_count": 14,
   "metadata": {
    "vscode": {
     "languageId": "r"
    }
   },
   "outputs": [
    {
     "name": "stdout",
     "output_type": "stream",
     "text": [
      "Rows: 58\n",
      "Columns: 4\n",
      "$ desc_var   \u001b[3m\u001b[90m<chr>\u001b[39m\u001b[23m \"bakery\", \"bar\", \"butcher\", \"cafe\", \"car_dealership\", \"clot~\n",
      "$ nombre_var \u001b[3m\u001b[90m<chr>\u001b[39m\u001b[23m \"bakery\", \"bar\", \"butcher\", \"cafe\", \"car_dealership\", \"clot~\n",
      "$ grupo      \u001b[3m\u001b[90m<chr>\u001b[39m\u001b[23m \"comercio\", \"hosteleria\", \"comercio\", \"hosteleria\", \"comerc~\n",
      "$ n          \u001b[3m\u001b[90m<int>\u001b[39m\u001b[23m 627, 2044, 289, 1577, 261, 1435, 1200, 1049, 24, 286, 129, ~\n"
     ]
    }
   ],
   "source": [
    "glimpse(tdata_02)"
   ]
  },
  {
   "cell_type": "code",
   "execution_count": 15,
   "metadata": {
    "vscode": {
     "languageId": "r"
    }
   },
   "outputs": [
    {
     "data": {
      "text/html": [
       "<table class=\"dataframe\">\n",
       "<caption>A data.frame: 58 x 4</caption>\n",
       "<thead>\n",
       "\t<tr><th scope=col>desc_var</th><th scope=col>nombre_var</th><th scope=col>grupo</th><th scope=col>n</th></tr>\n",
       "\t<tr><th scope=col>&lt;chr&gt;</th><th scope=col>&lt;chr&gt;</th><th scope=col>&lt;chr&gt;</th><th scope=col>&lt;int&gt;</th></tr>\n",
       "</thead>\n",
       "<tbody>\n",
       "\t<tr><td>bakery           </td><td>bakery           </td><td>comercio  </td><td> 627</td></tr>\n",
       "\t<tr><td>bar              </td><td>bar              </td><td>hosteleria</td><td>2044</td></tr>\n",
       "\t<tr><td>butcher          </td><td>butcher          </td><td>comercio  </td><td> 289</td></tr>\n",
       "\t<tr><td>cafe             </td><td>cafe             </td><td>hosteleria</td><td>1577</td></tr>\n",
       "\t<tr><td>car_dealership   </td><td>car_dealership   </td><td>comercio  </td><td> 261</td></tr>\n",
       "\t<tr><td>clothes          </td><td>clothes          </td><td>comercio  </td><td>1435</td></tr>\n",
       "\t<tr><td>convenience      </td><td>convenience      </td><td>comercio  </td><td>1200</td></tr>\n",
       "\t<tr><td>fast_food        </td><td>fast_food        </td><td>hosteleria</td><td>1049</td></tr>\n",
       "\t<tr><td>food_court       </td><td>food_court       </td><td>hosteleria</td><td>  24</td></tr>\n",
       "\t<tr><td>furniture_shop   </td><td>furniture_shop   </td><td>comercio  </td><td> 286</td></tr>\n",
       "\t<tr><td>gift_shop        </td><td>gift_shop        </td><td>comercio  </td><td> 129</td></tr>\n",
       "\t<tr><td>greengrocer      </td><td>greengrocer      </td><td>comercio  </td><td> 548</td></tr>\n",
       "\t<tr><td>guesthouse       </td><td>guesthouse       </td><td>turismo   </td><td> 285</td></tr>\n",
       "\t<tr><td>hairdresser      </td><td>hairdresser      </td><td>comercio  </td><td>1366</td></tr>\n",
       "\t<tr><td>hotel            </td><td>hotel            </td><td>turismo   </td><td> 340</td></tr>\n",
       "\t<tr><td>pub              </td><td>pub              </td><td>hosteleria</td><td>1201</td></tr>\n",
       "\t<tr><td>restaurant       </td><td>restaurant       </td><td>hosteleria</td><td>5772</td></tr>\n",
       "\t<tr><td>stationery       </td><td>stationery       </td><td>comercio  </td><td> 190</td></tr>\n",
       "\t<tr><td>vending_any      </td><td>vending_any      </td><td>comercio  </td><td>  55</td></tr>\n",
       "\t<tr><td>bicycle_rental   </td><td>bicycle_rental   </td><td>comercio  </td><td> 235</td></tr>\n",
       "\t<tr><td>hostel           </td><td>hostel           </td><td>turismo   </td><td>  90</td></tr>\n",
       "\t<tr><td>supermarket      </td><td>supermarket      </td><td>comercio  </td><td>1135</td></tr>\n",
       "\t<tr><td>beauty_shop      </td><td>beauty_shop      </td><td>comercio  </td><td> 358</td></tr>\n",
       "\t<tr><td>beverages        </td><td>beverages        </td><td>comercio  </td><td>  62</td></tr>\n",
       "\t<tr><td>bicycle_shop     </td><td>bicycle_shop     </td><td>comercio  </td><td> 146</td></tr>\n",
       "\t<tr><td>bookshop         </td><td>bookshop         </td><td>comercio  </td><td> 252</td></tr>\n",
       "\t<tr><td>chemist          </td><td>chemist          </td><td>comercio  </td><td>  60</td></tr>\n",
       "\t<tr><td>computer_shop    </td><td>computer_shop    </td><td>comercio  </td><td> 131</td></tr>\n",
       "\t<tr><td>doityourself     </td><td>doityourself     </td><td>comercio  </td><td> 354</td></tr>\n",
       "\t<tr><td>florist          </td><td>florist          </td><td>comercio  </td><td> 179</td></tr>\n",
       "\t<tr><td>jeweller         </td><td>jeweller         </td><td>comercio  </td><td> 200</td></tr>\n",
       "\t<tr><td>kiosk            </td><td>kiosk            </td><td>comercio  </td><td> 255</td></tr>\n",
       "\t<tr><td>mall             </td><td>mall             </td><td>comercio  </td><td>  19</td></tr>\n",
       "\t<tr><td>mobile_phone_shop</td><td>mobile_phone_shop</td><td>comercio  </td><td> 213</td></tr>\n",
       "\t<tr><td>optician         </td><td>optician         </td><td>comercio  </td><td> 339</td></tr>\n",
       "\t<tr><td>shoe_shop        </td><td>shoe_shop        </td><td>comercio  </td><td> 411</td></tr>\n",
       "\t<tr><td>toy_shop         </td><td>toy_shop         </td><td>comercio  </td><td> 116</td></tr>\n",
       "\t<tr><td>travel_agent     </td><td>travel_agent     </td><td>comercio  </td><td> 180</td></tr>\n",
       "\t<tr><td>car_rental       </td><td>car_rental       </td><td>comercio  </td><td>  56</td></tr>\n",
       "\t<tr><td>car_wash         </td><td>car_wash         </td><td>comercio  </td><td>  89</td></tr>\n",
       "\t<tr><td>outdoor_shop     </td><td>outdoor_shop     </td><td>comercio  </td><td>  27</td></tr>\n",
       "\t<tr><td>sports_shop      </td><td>sports_shop      </td><td>comercio  </td><td> 111</td></tr>\n",
       "\t<tr><td>caravan_site     </td><td>caravan_site     </td><td>turismo   </td><td>   4</td></tr>\n",
       "\t<tr><td>biergarten       </td><td>biergarten       </td><td>hosteleria</td><td>  28</td></tr>\n",
       "\t<tr><td>garden_centre    </td><td>garden_centre    </td><td>comercio  </td><td>  30</td></tr>\n",
       "\t<tr><td>laundry          </td><td>laundry          </td><td>comercio  </td><td> 197</td></tr>\n",
       "\t<tr><td>department_store </td><td>department_store </td><td>comercio  </td><td>  32</td></tr>\n",
       "\t<tr><td>newsagent        </td><td>newsagent        </td><td>comercio  </td><td>  62</td></tr>\n",
       "\t<tr><td>vending_parking  </td><td>vending_parking  </td><td>comercio  </td><td> 608</td></tr>\n",
       "\t<tr><td>chalet           </td><td>chalet           </td><td>turismo   </td><td>  19</td></tr>\n",
       "\t<tr><td>shelter          </td><td>shelter          </td><td>turismo   </td><td>  54</td></tr>\n",
       "\t<tr><td>motel            </td><td>motel            </td><td>turismo   </td><td>  11</td></tr>\n",
       "\t<tr><td>camp_site        </td><td>camp_site        </td><td>turismo   </td><td>   4</td></tr>\n",
       "\t<tr><td>general          </td><td>general          </td><td>comercio  </td><td>  12</td></tr>\n",
       "\t<tr><td>alpine_hut       </td><td>alpine_hut       </td><td>turismo   </td><td>   1</td></tr>\n",
       "\t<tr><td>video_shop       </td><td>video_shop       </td><td>comercio  </td><td>   9</td></tr>\n",
       "\t<tr><td>vending_machine  </td><td>vending_machine  </td><td>comercio  </td><td>  12</td></tr>\n",
       "\t<tr><td>car_sharing      </td><td>car_sharing      </td><td>comercio  </td><td>   1</td></tr>\n",
       "</tbody>\n",
       "</table>\n"
      ],
      "text/latex": [
       "A data.frame: 58 x 4\n",
       "\\begin{tabular}{llll}\n",
       " desc\\_var & nombre\\_var & grupo & n\\\\\n",
       " <chr> & <chr> & <chr> & <int>\\\\\n",
       "\\hline\n",
       "\t bakery            & bakery            & comercio   &  627\\\\\n",
       "\t bar               & bar               & hosteleria & 2044\\\\\n",
       "\t butcher           & butcher           & comercio   &  289\\\\\n",
       "\t cafe              & cafe              & hosteleria & 1577\\\\\n",
       "\t car\\_dealership    & car\\_dealership    & comercio   &  261\\\\\n",
       "\t clothes           & clothes           & comercio   & 1435\\\\\n",
       "\t convenience       & convenience       & comercio   & 1200\\\\\n",
       "\t fast\\_food         & fast\\_food         & hosteleria & 1049\\\\\n",
       "\t food\\_court        & food\\_court        & hosteleria &   24\\\\\n",
       "\t furniture\\_shop    & furniture\\_shop    & comercio   &  286\\\\\n",
       "\t gift\\_shop         & gift\\_shop         & comercio   &  129\\\\\n",
       "\t greengrocer       & greengrocer       & comercio   &  548\\\\\n",
       "\t guesthouse        & guesthouse        & turismo    &  285\\\\\n",
       "\t hairdresser       & hairdresser       & comercio   & 1366\\\\\n",
       "\t hotel             & hotel             & turismo    &  340\\\\\n",
       "\t pub               & pub               & hosteleria & 1201\\\\\n",
       "\t restaurant        & restaurant        & hosteleria & 5772\\\\\n",
       "\t stationery        & stationery        & comercio   &  190\\\\\n",
       "\t vending\\_any       & vending\\_any       & comercio   &   55\\\\\n",
       "\t bicycle\\_rental    & bicycle\\_rental    & comercio   &  235\\\\\n",
       "\t hostel            & hostel            & turismo    &   90\\\\\n",
       "\t supermarket       & supermarket       & comercio   & 1135\\\\\n",
       "\t beauty\\_shop       & beauty\\_shop       & comercio   &  358\\\\\n",
       "\t beverages         & beverages         & comercio   &   62\\\\\n",
       "\t bicycle\\_shop      & bicycle\\_shop      & comercio   &  146\\\\\n",
       "\t bookshop          & bookshop          & comercio   &  252\\\\\n",
       "\t chemist           & chemist           & comercio   &   60\\\\\n",
       "\t computer\\_shop     & computer\\_shop     & comercio   &  131\\\\\n",
       "\t doityourself      & doityourself      & comercio   &  354\\\\\n",
       "\t florist           & florist           & comercio   &  179\\\\\n",
       "\t jeweller          & jeweller          & comercio   &  200\\\\\n",
       "\t kiosk             & kiosk             & comercio   &  255\\\\\n",
       "\t mall              & mall              & comercio   &   19\\\\\n",
       "\t mobile\\_phone\\_shop & mobile\\_phone\\_shop & comercio   &  213\\\\\n",
       "\t optician          & optician          & comercio   &  339\\\\\n",
       "\t shoe\\_shop         & shoe\\_shop         & comercio   &  411\\\\\n",
       "\t toy\\_shop          & toy\\_shop          & comercio   &  116\\\\\n",
       "\t travel\\_agent      & travel\\_agent      & comercio   &  180\\\\\n",
       "\t car\\_rental        & car\\_rental        & comercio   &   56\\\\\n",
       "\t car\\_wash          & car\\_wash          & comercio   &   89\\\\\n",
       "\t outdoor\\_shop      & outdoor\\_shop      & comercio   &   27\\\\\n",
       "\t sports\\_shop       & sports\\_shop       & comercio   &  111\\\\\n",
       "\t caravan\\_site      & caravan\\_site      & turismo    &    4\\\\\n",
       "\t biergarten        & biergarten        & hosteleria &   28\\\\\n",
       "\t garden\\_centre     & garden\\_centre     & comercio   &   30\\\\\n",
       "\t laundry           & laundry           & comercio   &  197\\\\\n",
       "\t department\\_store  & department\\_store  & comercio   &   32\\\\\n",
       "\t newsagent         & newsagent         & comercio   &   62\\\\\n",
       "\t vending\\_parking   & vending\\_parking   & comercio   &  608\\\\\n",
       "\t chalet            & chalet            & turismo    &   19\\\\\n",
       "\t shelter           & shelter           & turismo    &   54\\\\\n",
       "\t motel             & motel             & turismo    &   11\\\\\n",
       "\t camp\\_site         & camp\\_site         & turismo    &    4\\\\\n",
       "\t general           & general           & comercio   &   12\\\\\n",
       "\t alpine\\_hut        & alpine\\_hut        & turismo    &    1\\\\\n",
       "\t video\\_shop        & video\\_shop        & comercio   &    9\\\\\n",
       "\t vending\\_machine   & vending\\_machine   & comercio   &   12\\\\\n",
       "\t car\\_sharing       & car\\_sharing       & comercio   &    1\\\\\n",
       "\\end{tabular}\n"
      ],
      "text/markdown": [
       "\n",
       "A data.frame: 58 x 4\n",
       "\n",
       "| desc_var &lt;chr&gt; | nombre_var &lt;chr&gt; | grupo &lt;chr&gt; | n &lt;int&gt; |\n",
       "|---|---|---|---|\n",
       "| bakery            | bakery            | comercio   |  627 |\n",
       "| bar               | bar               | hosteleria | 2044 |\n",
       "| butcher           | butcher           | comercio   |  289 |\n",
       "| cafe              | cafe              | hosteleria | 1577 |\n",
       "| car_dealership    | car_dealership    | comercio   |  261 |\n",
       "| clothes           | clothes           | comercio   | 1435 |\n",
       "| convenience       | convenience       | comercio   | 1200 |\n",
       "| fast_food         | fast_food         | hosteleria | 1049 |\n",
       "| food_court        | food_court        | hosteleria |   24 |\n",
       "| furniture_shop    | furniture_shop    | comercio   |  286 |\n",
       "| gift_shop         | gift_shop         | comercio   |  129 |\n",
       "| greengrocer       | greengrocer       | comercio   |  548 |\n",
       "| guesthouse        | guesthouse        | turismo    |  285 |\n",
       "| hairdresser       | hairdresser       | comercio   | 1366 |\n",
       "| hotel             | hotel             | turismo    |  340 |\n",
       "| pub               | pub               | hosteleria | 1201 |\n",
       "| restaurant        | restaurant        | hosteleria | 5772 |\n",
       "| stationery        | stationery        | comercio   |  190 |\n",
       "| vending_any       | vending_any       | comercio   |   55 |\n",
       "| bicycle_rental    | bicycle_rental    | comercio   |  235 |\n",
       "| hostel            | hostel            | turismo    |   90 |\n",
       "| supermarket       | supermarket       | comercio   | 1135 |\n",
       "| beauty_shop       | beauty_shop       | comercio   |  358 |\n",
       "| beverages         | beverages         | comercio   |   62 |\n",
       "| bicycle_shop      | bicycle_shop      | comercio   |  146 |\n",
       "| bookshop          | bookshop          | comercio   |  252 |\n",
       "| chemist           | chemist           | comercio   |   60 |\n",
       "| computer_shop     | computer_shop     | comercio   |  131 |\n",
       "| doityourself      | doityourself      | comercio   |  354 |\n",
       "| florist           | florist           | comercio   |  179 |\n",
       "| jeweller          | jeweller          | comercio   |  200 |\n",
       "| kiosk             | kiosk             | comercio   |  255 |\n",
       "| mall              | mall              | comercio   |   19 |\n",
       "| mobile_phone_shop | mobile_phone_shop | comercio   |  213 |\n",
       "| optician          | optician          | comercio   |  339 |\n",
       "| shoe_shop         | shoe_shop         | comercio   |  411 |\n",
       "| toy_shop          | toy_shop          | comercio   |  116 |\n",
       "| travel_agent      | travel_agent      | comercio   |  180 |\n",
       "| car_rental        | car_rental        | comercio   |   56 |\n",
       "| car_wash          | car_wash          | comercio   |   89 |\n",
       "| outdoor_shop      | outdoor_shop      | comercio   |   27 |\n",
       "| sports_shop       | sports_shop       | comercio   |  111 |\n",
       "| caravan_site      | caravan_site      | turismo    |    4 |\n",
       "| biergarten        | biergarten        | hosteleria |   28 |\n",
       "| garden_centre     | garden_centre     | comercio   |   30 |\n",
       "| laundry           | laundry           | comercio   |  197 |\n",
       "| department_store  | department_store  | comercio   |   32 |\n",
       "| newsagent         | newsagent         | comercio   |   62 |\n",
       "| vending_parking   | vending_parking   | comercio   |  608 |\n",
       "| chalet            | chalet            | turismo    |   19 |\n",
       "| shelter           | shelter           | turismo    |   54 |\n",
       "| motel             | motel             | turismo    |   11 |\n",
       "| camp_site         | camp_site         | turismo    |    4 |\n",
       "| general           | general           | comercio   |   12 |\n",
       "| alpine_hut        | alpine_hut        | turismo    |    1 |\n",
       "| video_shop        | video_shop        | comercio   |    9 |\n",
       "| vending_machine   | vending_machine   | comercio   |   12 |\n",
       "| car_sharing       | car_sharing       | comercio   |    1 |\n",
       "\n"
      ],
      "text/plain": [
       "   desc_var          nombre_var        grupo      n   \n",
       "1  bakery            bakery            comercio    627\n",
       "2  bar               bar               hosteleria 2044\n",
       "3  butcher           butcher           comercio    289\n",
       "4  cafe              cafe              hosteleria 1577\n",
       "5  car_dealership    car_dealership    comercio    261\n",
       "6  clothes           clothes           comercio   1435\n",
       "7  convenience       convenience       comercio   1200\n",
       "8  fast_food         fast_food         hosteleria 1049\n",
       "9  food_court        food_court        hosteleria   24\n",
       "10 furniture_shop    furniture_shop    comercio    286\n",
       "11 gift_shop         gift_shop         comercio    129\n",
       "12 greengrocer       greengrocer       comercio    548\n",
       "13 guesthouse        guesthouse        turismo     285\n",
       "14 hairdresser       hairdresser       comercio   1366\n",
       "15 hotel             hotel             turismo     340\n",
       "16 pub               pub               hosteleria 1201\n",
       "17 restaurant        restaurant        hosteleria 5772\n",
       "18 stationery        stationery        comercio    190\n",
       "19 vending_any       vending_any       comercio     55\n",
       "20 bicycle_rental    bicycle_rental    comercio    235\n",
       "21 hostel            hostel            turismo      90\n",
       "22 supermarket       supermarket       comercio   1135\n",
       "23 beauty_shop       beauty_shop       comercio    358\n",
       "24 beverages         beverages         comercio     62\n",
       "25 bicycle_shop      bicycle_shop      comercio    146\n",
       "26 bookshop          bookshop          comercio    252\n",
       "27 chemist           chemist           comercio     60\n",
       "28 computer_shop     computer_shop     comercio    131\n",
       "29 doityourself      doityourself      comercio    354\n",
       "30 florist           florist           comercio    179\n",
       "31 jeweller          jeweller          comercio    200\n",
       "32 kiosk             kiosk             comercio    255\n",
       "33 mall              mall              comercio     19\n",
       "34 mobile_phone_shop mobile_phone_shop comercio    213\n",
       "35 optician          optician          comercio    339\n",
       "36 shoe_shop         shoe_shop         comercio    411\n",
       "37 toy_shop          toy_shop          comercio    116\n",
       "38 travel_agent      travel_agent      comercio    180\n",
       "39 car_rental        car_rental        comercio     56\n",
       "40 car_wash          car_wash          comercio     89\n",
       "41 outdoor_shop      outdoor_shop      comercio     27\n",
       "42 sports_shop       sports_shop       comercio    111\n",
       "43 caravan_site      caravan_site      turismo       4\n",
       "44 biergarten        biergarten        hosteleria   28\n",
       "45 garden_centre     garden_centre     comercio     30\n",
       "46 laundry           laundry           comercio    197\n",
       "47 department_store  department_store  comercio     32\n",
       "48 newsagent         newsagent         comercio     62\n",
       "49 vending_parking   vending_parking   comercio    608\n",
       "50 chalet            chalet            turismo      19\n",
       "51 shelter           shelter           turismo      54\n",
       "52 motel             motel             turismo      11\n",
       "53 camp_site         camp_site         turismo       4\n",
       "54 general           general           comercio     12\n",
       "55 alpine_hut        alpine_hut        turismo       1\n",
       "56 video_shop        video_shop        comercio      9\n",
       "57 vending_machine   vending_machine   comercio     12\n",
       "58 car_sharing       car_sharing       comercio      1"
      ]
     },
     "metadata": {},
     "output_type": "display_data"
    }
   ],
   "source": [
    "tdata_02"
   ]
  },
  {
   "cell_type": "markdown",
   "metadata": {},
   "source": [
    "Si no aplica: Estos datos no requieren tareas de este tipo."
   ]
  },
  {
   "cell_type": "markdown",
   "metadata": {
    "slideshow": {
     "slide_type": "slide"
    }
   },
   "source": [
    "## Synthetic Data Generation"
   ]
  },
  {
   "cell_type": "markdown",
   "metadata": {},
   "source": [
    "Estos datos no requieren tareas de este tipo."
   ]
  },
  {
   "cell_type": "markdown",
   "metadata": {
    "slideshow": {
     "slide_type": "slide"
    }
   },
   "source": [
    "## Fake Data Generation"
   ]
  },
  {
   "cell_type": "markdown",
   "metadata": {
    "slideshow": {
     "slide_type": "slide"
    }
   },
   "source": [
    "Estos datos no requieren tareas de este tipo."
   ]
  },
  {
   "cell_type": "markdown",
   "metadata": {
    "slideshow": {
     "slide_type": "slide"
    }
   },
   "source": [
    "## Open Data"
   ]
  },
  {
   "cell_type": "markdown",
   "metadata": {
    "slideshow": {
     "slide_type": "slide"
    }
   },
   "source": [
    "Estos datos no requieren tareas de este tipo."
   ]
  },
  {
   "cell_type": "markdown",
   "metadata": {},
   "source": [
    "## <font color='green'>Data Save</font>"
   ]
  },
  {
   "cell_type": "markdown",
   "metadata": {},
   "source": [
    "Este proceso, puede copiarse y repetirse en aquellas partes del notebbok que necesiten guardar datos.\n",
    "Recuerde cambiar las cadenas añadida del fichero para diferenciarlas"
   ]
  },
  {
   "cell_type": "markdown",
   "metadata": {},
   "source": [
    "<font color='tomato'> Identificamos los datos a guardar</font>"
   ]
  },
  {
   "cell_type": "markdown",
   "metadata": {},
   "source": [
    "1. Infraestructuras agregadas por distrito"
   ]
  },
  {
   "cell_type": "code",
   "execution_count": 16,
   "metadata": {
    "ExecuteTime": {
     "end_time": "2020-12-25T17:59:27.022001Z",
     "start_time": "2020-12-25T17:59:15.986986Z"
    },
    "scrolled": false,
    "vscode": {
     "languageId": "r"
    }
   },
   "outputs": [],
   "source": [
    "data_to_save_01 <- tdata_01"
   ]
  },
  {
   "cell_type": "markdown",
   "metadata": {},
   "source": [
    "\n",
    "<font color='tomato'>Estructura de nombre de archivos:</font>\n",
    "\n",
    "* Código del caso de uso, por ejemplo \"CU_04\"\n",
    "* Número del proceso que lo genera, por ejemplo \"_05\".\n",
    "* Número de la tarea que lo genera, por ejemplo \"_01\"\n",
    "* En caso de generarse varios ficheros en la misma tarea, llevarán _01 _02 ... después\n",
    "* Nombre: identificativo de \"properData\", por ejemplo \"_zonasgeo\"\n",
    "* Extensión del archivo\n",
    "\n",
    "Ejemplo: \"CU_04_05_01_01_zonasgeo.json, primer fichero que se genera en la tarea 01 del proceso 05 (Data Collection) para el caso de uso 04 (vacunas)\n",
    "\n",
    "Importante mantener los guiones bajos antes de proceso, tarea, archivo y nombre"
   ]
  },
  {
   "cell_type": "markdown",
   "metadata": {},
   "source": [
    "### Proceso 05"
   ]
  },
  {
   "cell_type": "code",
   "execution_count": 18,
   "metadata": {
    "ExecuteTime": {
     "end_time": "2020-12-25T17:59:27.022001Z",
     "start_time": "2020-12-25T17:59:15.986986Z"
    },
    "scrolled": false,
    "vscode": {
     "languageId": "r"
    }
   },
   "outputs": [],
   "source": [
    "caso <- \"CU_18\"\n",
    "proceso <- '_05'\n",
    "tarea <- \"_13\"\n",
    "archivo <- \"_01\"\n",
    "proper <- \"_ditrito_pois\"\n",
    "extension <- \".csv\""
   ]
  },
  {
   "cell_type": "markdown",
   "metadata": {},
   "source": [
    "<font color='tomato'><b> OPCION A:</b> Uso del paquete \"tcltk\" para mayor comodidad</font>\n",
    "\n",
    "* Buscar carpeta, escribir nombre de archivo SIN extensión (se especifica en el código)\n",
    "* Especificar sufijo2 si es necesario\n",
    "* Cambiar datos por datos_xx si es necesario"
   ]
  },
  {
   "cell_type": "code",
   "execution_count": null,
   "metadata": {
    "ExecuteTime": {
     "end_time": "2020-12-25T17:59:27.022001Z",
     "start_time": "2020-12-25T17:59:15.986986Z"
    },
    "scrolled": false,
    "vscode": {
     "languageId": "r"
    }
   },
   "outputs": [],
   "source": [
    "# file_save_01 <- paste0(caso, proceso, tarea, tcltk::tkgetSaveFile(), proper, extension) \n",
    "# path_out_01 <- paste0(oPath, file_save_01)\n",
    "# write_csv(data_to_save_01, path_out_01)\n",
    "\n",
    "# cat('File saved as: ')\n",
    "# path_out"
   ]
  },
  {
   "cell_type": "markdown",
   "metadata": {},
   "source": [
    "<font color='tomato'><b> OPCION B:</b> Especificar el nombre de archivo</font>"
   ]
  },
  {
   "cell_type": "markdown",
   "metadata": {},
   "source": [
    "- Los ficheros de salida del proceso van siempre a Data/Output/.  "
   ]
  },
  {
   "cell_type": "code",
   "execution_count": 19,
   "metadata": {
    "ExecuteTime": {
     "end_time": "2021-01-26T18:40:31.258294Z",
     "start_time": "2021-01-26T18:40:26.061847Z"
    },
    "slideshow": {
     "slide_type": "-"
    },
    "vscode": {
     "languageId": "r"
    }
   },
   "outputs": [
    {
     "name": "stdout",
     "output_type": "stream",
     "text": [
      "File saved as: "
     ]
    },
    {
     "data": {
      "text/html": [
       "'Data/Output/CU_18_05_13_01_ditrito_pois.csv'"
      ],
      "text/latex": [
       "'Data/Output/CU\\_18\\_05\\_13\\_01\\_ditrito\\_pois.csv'"
      ],
      "text/markdown": [
       "'Data/Output/CU_18_05_13_01_ditrito_pois.csv'"
      ],
      "text/plain": [
       "[1] \"Data/Output/CU_18_05_13_01_ditrito_pois.csv\""
      ]
     },
     "metadata": {},
     "output_type": "display_data"
    }
   ],
   "source": [
    "file_save_01 <- paste0(caso, proceso, tarea, archivo, proper, extension) \n",
    "path_out_01 <- paste0(oPath, file_save_01)\n",
    "write_csv(data_to_save_01, path_out_01)\n",
    "\n",
    "cat('File saved as: ')\n",
    "path_out_01"
   ]
  },
  {
   "cell_type": "markdown",
   "metadata": {},
   "source": [
    "#### Copia del fichero a Input\n",
    "\n",
    "Si el archivo se va a usar en otros notebooks, copiar a la carpeta Input"
   ]
  },
  {
   "cell_type": "code",
   "execution_count": 20,
   "metadata": {
    "vscode": {
     "languageId": "r"
    }
   },
   "outputs": [
    {
     "data": {
      "text/html": [
       "TRUE"
      ],
      "text/latex": [
       "TRUE"
      ],
      "text/markdown": [
       "TRUE"
      ],
      "text/plain": [
       "[1] TRUE"
      ]
     },
     "metadata": {},
     "output_type": "display_data"
    }
   ],
   "source": [
    "path_in_01 <- paste0(iPath, file_save_01)\n",
    "file.copy(path_out_01, path_in_01, overwrite = TRUE)"
   ]
  },
  {
   "cell_type": "markdown",
   "metadata": {},
   "source": [
    "2. Metadatos de infraestructuras"
   ]
  },
  {
   "cell_type": "code",
   "execution_count": 21,
   "metadata": {
    "ExecuteTime": {
     "end_time": "2020-12-25T17:59:27.022001Z",
     "start_time": "2020-12-25T17:59:15.986986Z"
    },
    "scrolled": false,
    "vscode": {
     "languageId": "r"
    }
   },
   "outputs": [],
   "source": [
    "data_to_save_02 <- tdata_02"
   ]
  },
  {
   "cell_type": "code",
   "execution_count": 22,
   "metadata": {
    "ExecuteTime": {
     "end_time": "2020-12-25T17:59:27.022001Z",
     "start_time": "2020-12-25T17:59:15.986986Z"
    },
    "scrolled": false,
    "vscode": {
     "languageId": "r"
    }
   },
   "outputs": [],
   "source": [
    "archivo <- \"_02\"\n",
    "proper <- \"_pois_meta\"\n",
    "extension <- \".csv\""
   ]
  },
  {
   "cell_type": "markdown",
   "metadata": {},
   "source": [
    "<font color='tomato'><b> OPCION A:</b> Uso del paquete \"tcltk\" para mayor comodidad</font>\n",
    "\n",
    "* Buscar carpeta, escribir nombre de archivo SIN extensión (se especifica en el código)\n",
    "* Especificar sufijo2 si es necesario\n",
    "* Cambiar datos por datos_xx si es necesario"
   ]
  },
  {
   "cell_type": "code",
   "execution_count": null,
   "metadata": {
    "ExecuteTime": {
     "end_time": "2020-12-25T17:59:27.022001Z",
     "start_time": "2020-12-25T17:59:15.986986Z"
    },
    "scrolled": false,
    "vscode": {
     "languageId": "r"
    }
   },
   "outputs": [],
   "source": [
    "# file_save_02 <- paste0(caso, proceso, tarea, tcltk::tkgetSaveFile(), proper, extension) \n",
    "# path_out_02 <- paste0(oPath, file_save_02)\n",
    "# write_csv(data_to_save_02, path_out_02)\n",
    "\n",
    "# cat('File saved as: ')\n",
    "# path_out"
   ]
  },
  {
   "cell_type": "markdown",
   "metadata": {},
   "source": [
    "<font color='tomato'><b> OPCION B:</b> Especificar el nombre de archivo</font>"
   ]
  },
  {
   "cell_type": "markdown",
   "metadata": {},
   "source": [
    "- Los ficheros de salida del proceso van siempre a Data/Output/.  "
   ]
  },
  {
   "cell_type": "code",
   "execution_count": 23,
   "metadata": {
    "ExecuteTime": {
     "end_time": "2021-01-26T18:40:31.258294Z",
     "start_time": "2021-01-26T18:40:26.061847Z"
    },
    "slideshow": {
     "slide_type": "-"
    },
    "vscode": {
     "languageId": "r"
    }
   },
   "outputs": [
    {
     "name": "stdout",
     "output_type": "stream",
     "text": [
      "File saved as: "
     ]
    },
    {
     "data": {
      "text/html": [
       "'Data/Output/CU_18_05_13_02_pois_meta.csv'"
      ],
      "text/latex": [
       "'Data/Output/CU\\_18\\_05\\_13\\_02\\_pois\\_meta.csv'"
      ],
      "text/markdown": [
       "'Data/Output/CU_18_05_13_02_pois_meta.csv'"
      ],
      "text/plain": [
       "[1] \"Data/Output/CU_18_05_13_02_pois_meta.csv\""
      ]
     },
     "metadata": {},
     "output_type": "display_data"
    }
   ],
   "source": [
    "file_save_02 <- paste0(caso, proceso, tarea, archivo, proper, extension) \n",
    "path_out_02 <- paste0(oPath, file_save_02)\n",
    "write_csv(data_to_save_02, path_out_02)\n",
    "\n",
    "cat('File saved as: ')\n",
    "path_out_02"
   ]
  },
  {
   "cell_type": "markdown",
   "metadata": {},
   "source": [
    "#### Copia del fichero a Input\n",
    "\n",
    "Si el archivo se va a usar en otros notebooks, copiar a la carpeta Input"
   ]
  },
  {
   "cell_type": "code",
   "execution_count": 24,
   "metadata": {
    "vscode": {
     "languageId": "r"
    }
   },
   "outputs": [
    {
     "data": {
      "text/html": [
       "TRUE"
      ],
      "text/latex": [
       "TRUE"
      ],
      "text/markdown": [
       "TRUE"
      ],
      "text/plain": [
       "[1] TRUE"
      ]
     },
     "metadata": {},
     "output_type": "display_data"
    }
   ],
   "source": [
    "path_in_02 <- paste0(iPath, file_save_02)\n",
    "file.copy(path_out_02, path_in_02, overwrite = TRUE)"
   ]
  },
  {
   "cell_type": "markdown",
   "metadata": {},
   "source": [
    "## <font color=' #2874a6 '>Main Conclusions</font>"
   ]
  },
  {
   "cell_type": "markdown",
   "metadata": {
    "slideshow": {
     "slide_type": "slide"
    }
   },
   "source": [
    "<font color='steelblue'>List and describe the general conclusions of the analysis carried out​.</font>"
   ]
  },
  {
   "cell_type": "markdown",
   "metadata": {},
   "source": [
    "### Prerequisites\n",
    "\n",
    "This working code needs the following conditions:\n",
    "\n",
    "* For using the interactive selection of file, the {tcltk} package must be installed. It is not needed in production.\n",
    "* The {readr}, {dplyr}, {tidyr} and {janitor} packages must be installed. \n",
    "* The data paths `Data/Input` and `Data/Output` must exist (relative to the notebook path)"
   ]
  },
  {
   "cell_type": "markdown",
   "metadata": {},
   "source": [
    "### Configuration Management\n",
    "\n",
    "This notebook has been tested with the following versions of R and packages. It cannot be assured that later versions work in the same way:\n",
    "* R 4.2.2\n",
    "* tcltk 4.2.2\n",
    "* tidyr 1.3.0\n",
    "* dplyr 1.0.10\n",
    "* janitor 2.1.0\n",
    "* readr 2.1.3"
   ]
  },
  {
   "cell_type": "markdown",
   "metadata": {},
   "source": [
    "### Data structures"
   ]
  },
  {
   "attachments": {},
   "cell_type": "markdown",
   "metadata": {},
   "source": [
    "#### Objeto `tdata_01`\n",
    "\n",
    "- Tenemos 224 filas, una por distrito, con los recuentos de cada uno de los tipos de pois (58)\n",
    "\n"
   ]
  },
  {
   "cell_type": "code",
   "execution_count": 25,
   "metadata": {
    "scrolled": true,
    "vscode": {
     "languageId": "r"
    }
   },
   "outputs": [
    {
     "name": "stdout",
     "output_type": "stream",
     "text": [
      "Rows: 224\n",
      "Columns: 60\n",
      "$ cmun              \u001b[3m\u001b[90m<chr>\u001b[39m\u001b[23m \"002\", \"003\", \"004\", \"005\", \"005\", \"005\", \"005\", \"00~\n",
      "$ cdis              \u001b[3m\u001b[90m<chr>\u001b[39m\u001b[23m \"01\", \"01\", \"01\", \"01\", \"02\", \"03\", \"04\", \"05\", \"01\"~\n",
      "$ bakery            \u001b[3m\u001b[90m<int>\u001b[39m\u001b[23m 2, 0, 0, 4, 5, 1, 2, 7, 4, 1, 1, 0, 2, 0, 0, 1, 0, 0~\n",
      "$ bar               \u001b[3m\u001b[90m<int>\u001b[39m\u001b[23m 2, 0, 1, 22, 10, 2, 3, 11, 7, 1, 1, 2, 6, 0, 2, 17, ~\n",
      "$ butcher           \u001b[3m\u001b[90m<int>\u001b[39m\u001b[23m 1, 0, 0, 2, 2, 0, 1, 2, 0, 0, 1, 0, 0, 0, 0, 2, 0, 0~\n",
      "$ cafe              \u001b[3m\u001b[90m<int>\u001b[39m\u001b[23m 5, 1, 0, 12, 6, 1, 3, 19, 12, 3, 2, 0, 6, 0, 1, 4, 0~\n",
      "$ car_dealership    \u001b[3m\u001b[90m<int>\u001b[39m\u001b[23m 1, 0, 0, 1, 1, 3, 0, 3, 5, 1, 0, 0, 0, 0, 0, 0, 0, 0~\n",
      "$ clothes           \u001b[3m\u001b[90m<int>\u001b[39m\u001b[23m 1, 0, 0, 13, 1, 0, 1, 28, 0, 0, 0, 0, 0, 0, 1, 1, 0,~\n",
      "$ convenience       \u001b[3m\u001b[90m<int>\u001b[39m\u001b[23m 2, 0, 0, 4, 2, 2, 2, 13, 8, 1, 1, 2, 6, 0, 0, 1, 0, ~\n",
      "$ fast_food         \u001b[3m\u001b[90m<int>\u001b[39m\u001b[23m 1, 0, 0, 8, 1, 2, 5, 11, 10, 7, 4, 0, 6, 0, 2, 5, 0,~\n",
      "$ food_court        \u001b[3m\u001b[90m<int>\u001b[39m\u001b[23m 2, 0, 0, 0, 0, 0, 1, 0, 0, 0, 0, 0, 0, 0, 0, 0, 0, 0~\n",
      "$ furniture_shop    \u001b[3m\u001b[90m<int>\u001b[39m\u001b[23m 2, 0, 0, 3, 0, 0, 1, 8, 2, 1, 0, 0, 0, 0, 0, 0, 0, 0~\n",
      "$ gift_shop         \u001b[3m\u001b[90m<int>\u001b[39m\u001b[23m 1, 0, 0, 2, 0, 0, 0, 1, 0, 0, 0, 0, 0, 0, 0, 1, 0, 0~\n",
      "$ greengrocer       \u001b[3m\u001b[90m<int>\u001b[39m\u001b[23m 1, 0, 0, 1, 1, 0, 0, 8, 2, 0, 1, 0, 1, 0, 0, 0, 0, 0~\n",
      "$ guesthouse        \u001b[3m\u001b[90m<int>\u001b[39m\u001b[23m 1, 0, 0, 0, 0, 0, 0, 0, 0, 0, 0, 0, 1, 0, 0, 0, 0, 0~\n",
      "$ hairdresser       \u001b[3m\u001b[90m<int>\u001b[39m\u001b[23m 2, 0, 0, 16, 4, 0, 4, 21, 7, 1, 0, 1, 5, 0, 0, 1, 0,~\n",
      "$ hotel             \u001b[3m\u001b[90m<int>\u001b[39m\u001b[23m 1, 1, 0, 3, 0, 3, 0, 1, 3, 3, 0, 0, 0, 0, 2, 1, 0, 1~\n",
      "$ pub               \u001b[3m\u001b[90m<int>\u001b[39m\u001b[23m 2, 0, 0, 24, 4, 2, 2, 31, 7, 0, 0, 0, 4, 0, 0, 2, 1,~\n",
      "$ restaurant        \u001b[3m\u001b[90m<int>\u001b[39m\u001b[23m 5, 4, 3, 53, 5, 18, 10, 22, 73, 26, 13, 1, 4, 2, 2, ~\n",
      "$ stationery        \u001b[3m\u001b[90m<int>\u001b[39m\u001b[23m 1, 0, 0, 1, 3, 0, 1, 2, 0, 0, 0, 0, 0, 0, 0, 0, 0, 1~\n",
      "$ vending_any       \u001b[3m\u001b[90m<int>\u001b[39m\u001b[23m 1, 0, 0, 0, 0, 0, 0, 2, 0, 0, 0, 0, 0, 0, 0, 0, 0, 0~\n",
      "$ bicycle_rental    \u001b[3m\u001b[90m<int>\u001b[39m\u001b[23m 0, 1, 0, 0, 0, 0, 0, 0, 0, 0, 0, 0, 0, 0, 0, 0, 1, 0~\n",
      "$ hostel            \u001b[3m\u001b[90m<int>\u001b[39m\u001b[23m 0, 2, 0, 0, 2, 0, 0, 0, 0, 0, 1, 0, 0, 0, 0, 1, 0, 0~\n",
      "$ supermarket       \u001b[3m\u001b[90m<int>\u001b[39m\u001b[23m 0, 1, 1, 6, 6, 2, 3, 10, 8, 12, 3, 4, 3, 1, 3, 3, 0,~\n",
      "$ beauty_shop       \u001b[3m\u001b[90m<int>\u001b[39m\u001b[23m 0, 0, 0, 3, 0, 0, 2, 10, 6, 0, 0, 0, 0, 0, 1, 0, 0, ~\n",
      "$ beverages         \u001b[3m\u001b[90m<int>\u001b[39m\u001b[23m 0, 0, 0, 1, 0, 0, 0, 0, 0, 0, 0, 0, 0, 0, 0, 0, 0, 0~\n",
      "$ bicycle_shop      \u001b[3m\u001b[90m<int>\u001b[39m\u001b[23m 0, 0, 0, 3, 1, 1, 0, 2, 4, 0, 1, 1, 1, 0, 0, 2, 0, 0~\n",
      "$ bookshop          \u001b[3m\u001b[90m<int>\u001b[39m\u001b[23m 0, 0, 0, 7, 0, 0, 2, 3, 3, 1, 0, 0, 0, 0, 0, 0, 0, 1~\n",
      "$ chemist           \u001b[3m\u001b[90m<int>\u001b[39m\u001b[23m 0, 0, 0, 1, 0, 0, 0, 0, 1, 0, 0, 0, 0, 0, 0, 0, 0, 0~\n",
      "$ computer_shop     \u001b[3m\u001b[90m<int>\u001b[39m\u001b[23m 0, 0, 0, 3, 3, 0, 0, 2, 0, 0, 0, 0, 0, 0, 1, 0, 0, 0~\n",
      "$ doityourself      \u001b[3m\u001b[90m<int>\u001b[39m\u001b[23m 0, 0, 0, 2, 2, 2, 0, 3, 3, 0, 0, 0, 0, 0, 0, 1, 0, 0~\n",
      "$ florist           \u001b[3m\u001b[90m<int>\u001b[39m\u001b[23m 0, 0, 0, 2, 0, 0, 2, 2, 1, 0, 0, 0, 0, 0, 0, 0, 0, 0~\n",
      "$ jeweller          \u001b[3m\u001b[90m<int>\u001b[39m\u001b[23m 0, 0, 0, 2, 1, 0, 0, 3, 0, 0, 0, 0, 0, 0, 0, 0, 0, 0~\n",
      "$ kiosk             \u001b[3m\u001b[90m<int>\u001b[39m\u001b[23m 0, 0, 0, 1, 0, 0, 0, 0, 0, 0, 0, 0, 0, 0, 0, 0, 0, 0~\n",
      "$ mall              \u001b[3m\u001b[90m<int>\u001b[39m\u001b[23m 0, 0, 0, 1, 0, 0, 0, 0, 0, 0, 0, 0, 0, 0, 0, 0, 0, 0~\n",
      "$ mobile_phone_shop \u001b[3m\u001b[90m<int>\u001b[39m\u001b[23m 0, 0, 0, 2, 1, 0, 0, 7, 1, 0, 0, 0, 0, 0, 0, 0, 0, 0~\n",
      "$ optician          \u001b[3m\u001b[90m<int>\u001b[39m\u001b[23m 0, 0, 0, 4, 1, 0, 2, 6, 2, 1, 1, 0, 0, 0, 0, 0, 0, 2~\n",
      "$ shoe_shop         \u001b[3m\u001b[90m<int>\u001b[39m\u001b[23m 0, 0, 0, 10, 1, 0, 0, 7, 3, 0, 0, 0, 1, 0, 0, 1, 0, ~\n",
      "$ toy_shop          \u001b[3m\u001b[90m<int>\u001b[39m\u001b[23m 0, 0, 0, 1, 1, 0, 0, 4, 3, 0, 0, 0, 0, 0, 0, 0, 0, 0~\n",
      "$ travel_agent      \u001b[3m\u001b[90m<int>\u001b[39m\u001b[23m 0, 0, 0, 3, 0, 0, 0, 1, 1, 1, 0, 0, 0, 0, 0, 0, 0, 0~\n",
      "$ car_rental        \u001b[3m\u001b[90m<int>\u001b[39m\u001b[23m 0, 0, 0, 0, 1, 0, 0, 1, 1, 0, 0, 0, 0, 0, 1, 0, 0, 0~\n",
      "$ car_wash          \u001b[3m\u001b[90m<int>\u001b[39m\u001b[23m 0, 0, 0, 0, 1, 0, 0, 2, 1, 0, 0, 0, 0, 0, 0, 0, 0, 0~\n",
      "$ outdoor_shop      \u001b[3m\u001b[90m<int>\u001b[39m\u001b[23m 0, 0, 0, 0, 0, 1, 0, 0, 0, 0, 0, 0, 0, 0, 0, 0, 0, 0~\n",
      "$ sports_shop       \u001b[3m\u001b[90m<int>\u001b[39m\u001b[23m 0, 0, 0, 0, 0, 1, 1, 4, 1, 2, 0, 0, 0, 0, 0, 0, 0, 0~\n",
      "$ caravan_site      \u001b[3m\u001b[90m<int>\u001b[39m\u001b[23m 0, 0, 0, 0, 0, 0, 1, 0, 0, 0, 0, 0, 0, 0, 0, 0, 0, 0~\n",
      "$ biergarten        \u001b[3m\u001b[90m<int>\u001b[39m\u001b[23m 0, 0, 0, 0, 0, 0, 0, 1, 0, 0, 0, 0, 0, 0, 0, 0, 0, 0~\n",
      "$ garden_centre     \u001b[3m\u001b[90m<int>\u001b[39m\u001b[23m 0, 0, 0, 0, 0, 0, 0, 1, 1, 0, 0, 0, 0, 0, 0, 0, 0, 0~\n",
      "$ laundry           \u001b[3m\u001b[90m<int>\u001b[39m\u001b[23m 0, 0, 0, 0, 0, 0, 0, 2, 4, 0, 0, 0, 0, 0, 1, 0, 0, 0~\n",
      "$ department_store  \u001b[3m\u001b[90m<int>\u001b[39m\u001b[23m 0, 0, 0, 0, 0, 0, 0, 0, 1, 0, 0, 0, 0, 0, 0, 1, 0, 0~\n",
      "$ newsagent         \u001b[3m\u001b[90m<int>\u001b[39m\u001b[23m 0, 0, 0, 0, 0, 0, 0, 0, 2, 0, 0, 0, 0, 0, 0, 0, 0, 1~\n",
      "$ vending_parking   \u001b[3m\u001b[90m<int>\u001b[39m\u001b[23m 0, 0, 0, 0, 0, 0, 0, 0, 2, 0, 0, 0, 0, 0, 0, 0, 0, 0~\n",
      "$ chalet            \u001b[3m\u001b[90m<int>\u001b[39m\u001b[23m 0, 0, 0, 0, 0, 0, 0, 0, 0, 0, 0, 0, 0, 0, 0, 0, 0, 0~\n",
      "$ shelter           \u001b[3m\u001b[90m<int>\u001b[39m\u001b[23m 0, 0, 0, 0, 0, 0, 0, 0, 0, 0, 0, 0, 0, 0, 0, 0, 0, 0~\n",
      "$ motel             \u001b[3m\u001b[90m<int>\u001b[39m\u001b[23m 0, 0, 0, 0, 0, 0, 0, 0, 0, 0, 0, 0, 0, 0, 0, 0, 0, 0~\n",
      "$ camp_site         \u001b[3m\u001b[90m<int>\u001b[39m\u001b[23m 0, 0, 0, 0, 0, 0, 0, 0, 0, 0, 0, 0, 0, 0, 0, 0, 0, 0~\n",
      "$ general           \u001b[3m\u001b[90m<int>\u001b[39m\u001b[23m 0, 0, 0, 0, 0, 0, 0, 0, 0, 0, 0, 0, 0, 0, 0, 0, 0, 0~\n",
      "$ alpine_hut        \u001b[3m\u001b[90m<int>\u001b[39m\u001b[23m 0, 0, 0, 0, 0, 0, 0, 0, 0, 0, 0, 0, 0, 0, 0, 0, 0, 0~\n",
      "$ video_shop        \u001b[3m\u001b[90m<int>\u001b[39m\u001b[23m 0, 0, 0, 0, 0, 0, 0, 0, 0, 0, 0, 0, 0, 0, 0, 0, 0, 0~\n",
      "$ vending_machine   \u001b[3m\u001b[90m<int>\u001b[39m\u001b[23m 0, 0, 0, 0, 0, 0, 0, 0, 0, 0, 0, 0, 0, 0, 0, 0, 0, 0~\n",
      "$ car_sharing       \u001b[3m\u001b[90m<int>\u001b[39m\u001b[23m 0, 0, 0, 0, 0, 0, 0, 0, 0, 0, 0, 0, 0, 0, 0, 0, 0, 0~\n"
     ]
    }
   ],
   "source": [
    "glimpse(tdata_01)"
   ]
  },
  {
   "attachments": {},
   "cell_type": "markdown",
   "metadata": {},
   "source": [
    "## Objeto `tdata_02`\n",
    "\n",
    "- Tenemos 58 filas, una por tipo de poi, con sus metadatos\n",
    "\n"
   ]
  },
  {
   "cell_type": "code",
   "execution_count": 26,
   "metadata": {
    "vscode": {
     "languageId": "r"
    }
   },
   "outputs": [
    {
     "name": "stdout",
     "output_type": "stream",
     "text": [
      "Rows: 58\n",
      "Columns: 4\n",
      "$ desc_var   \u001b[3m\u001b[90m<chr>\u001b[39m\u001b[23m \"bakery\", \"bar\", \"butcher\", \"cafe\", \"car_dealership\", \"clot~\n",
      "$ nombre_var \u001b[3m\u001b[90m<chr>\u001b[39m\u001b[23m \"bakery\", \"bar\", \"butcher\", \"cafe\", \"car_dealership\", \"clot~\n",
      "$ grupo      \u001b[3m\u001b[90m<chr>\u001b[39m\u001b[23m \"comercio\", \"hosteleria\", \"comercio\", \"hosteleria\", \"comerc~\n",
      "$ n          \u001b[3m\u001b[90m<int>\u001b[39m\u001b[23m 627, 2044, 289, 1577, 261, 1435, 1200, 1049, 24, 286, 129, ~\n"
     ]
    }
   ],
   "source": [
    "glimpse(tdata_02)"
   ]
  },
  {
   "cell_type": "markdown",
   "metadata": {},
   "source": [
    "#### Observaciones generales sobre los datos\n",
    "\n",
    "* No aplica"
   ]
  },
  {
   "attachments": {},
   "cell_type": "markdown",
   "metadata": {},
   "source": [
    "### Consideraciones para despliegue en piloto\n",
    "\n",
    "* Utilizar los metadatos para agrupar variables si hiciera falta."
   ]
  },
  {
   "cell_type": "markdown",
   "metadata": {},
   "source": [
    "### Consideraciones para despliegue en producción\n",
    "\n",
    "* No aplica"
   ]
  },
  {
   "cell_type": "markdown",
   "metadata": {},
   "source": [
    "## <font color=' #2874a6 '>Main Actions</font>"
   ]
  },
  {
   "cell_type": "markdown",
   "metadata": {},
   "source": [
    "#### <font color=' #2874a6 '>Acciones done</font>"
   ]
  },
  {
   "cell_type": "markdown",
   "metadata": {
    "slideshow": {
     "slide_type": "slide"
    }
   },
   "source": [
    "<font color='steelblue'>Indicate the actions that have been carried out in this process</font>"
   ]
  },
  {
   "cell_type": "markdown",
   "metadata": {},
   "source": [
    "- Se han agrupado las infraesctructuras por distrito\n",
    "- Se han calculado el número de infraestructuras por tipo en cada distrito"
   ]
  },
  {
   "cell_type": "markdown",
   "metadata": {},
   "source": [
    "#### <font color=' #2874a6 '>Acctions to perform</font>"
   ]
  },
  {
   "cell_type": "markdown",
   "metadata": {
    "slideshow": {
     "slide_type": "slide"
    }
   },
   "source": [
    "<font color='steelblue'>Indicate the actions that must be carried out in subsequent processes</font>"
   ]
  },
  {
   "attachments": {},
   "cell_type": "markdown",
   "metadata": {},
   "source": [
    "- Se deben unir al resto de datos por distrito"
   ]
  },
  {
   "cell_type": "markdown",
   "metadata": {},
   "source": [
    "## <font color='RED'>CODE TO DEPLOY (PILOT)</font>\n",
    "\n",
    "A continuación se incluirá el código que deba ser llevado a despliegue para producción, dado que se entiende efectúa operaciones necesarias sobre los datos en la ejecución del prototipo"
   ]
  },
  {
   "cell_type": "markdown",
   "metadata": {},
   "source": [
    "<font color=' red '><b>Description</b></font>\n",
    "\n",
    "- No hay nada que desplegar en el piloto, ya que estos datos son estáticos o en todo caso cambian con muy poca frecuencia, altamente improbable durante el proyecto.\n"
   ]
  },
  {
   "cell_type": "markdown",
   "metadata": {},
   "source": [
    "<font color=' red '><b>CODE</b></font>"
   ]
  },
  {
   "cell_type": "code",
   "execution_count": null,
   "metadata": {
    "vscode": {
     "languageId": "r"
    }
   },
   "outputs": [],
   "source": [
    "# incluir código"
   ]
  }
 ],
 "metadata": {
  "anaconda-cloud": {},
  "celltoolbar": "Slideshow",
  "hide_input": false,
  "kernelspec": {
   "display_name": "R",
   "language": "R",
   "name": "ir"
  },
  "language_info": {
   "codemirror_mode": "r",
   "file_extension": ".r",
   "mimetype": "text/x-r-source",
   "name": "R",
   "pygments_lexer": "r",
   "version": "4.2.2"
  },
  "latex_envs": {
   "LaTeX_envs_menu_present": true,
   "autoclose": false,
   "autocomplete": true,
   "bibliofile": "biblio.bib",
   "cite_by": "apalike",
   "current_citInitial": 1,
   "eqLabelWithNumbers": true,
   "eqNumInitial": 1,
   "hotkeys": {
    "equation": "Ctrl-E",
    "itemize": "Ctrl-I"
   },
   "labels_anchors": false,
   "latex_user_defs": false,
   "report_style_numbering": true,
   "user_envs_cfg": false
  },
  "toc": {
   "base_numbering": 1,
   "nav_menu": {
    "height": "11.6px",
    "width": "160px"
   },
   "number_sections": false,
   "sideBar": true,
   "skip_h1_title": true,
   "title_cell": "Table of Contents",
   "title_sidebar": "Contents",
   "toc_cell": true,
   "toc_position": {
    "height": "calc(100% - 180px)",
    "left": "10px",
    "top": "150px",
    "width": "209.2px"
   },
   "toc_section_display": true,
   "toc_window_display": true
  },
  "varInspector": {
   "cols": {
    "lenName": 16,
    "lenType": 16,
    "lenVar": 40
   },
   "kernels_config": {
    "python": {
     "delete_cmd_postfix": "",
     "delete_cmd_prefix": "del ",
     "library": "var_list.py",
     "varRefreshCmd": "print(var_dic_list())"
    },
    "r": {
     "delete_cmd_postfix": ") ",
     "delete_cmd_prefix": "rm(",
     "library": "var_list.r",
     "varRefreshCmd": "cat(var_dic_list()) "
    }
   },
   "types_to_exclude": [
    "module",
    "function",
    "builtin_function_or_method",
    "instance",
    "_Feature"
   ],
   "window_display": false
  }
 },
 "nbformat": 4,
 "nbformat_minor": 1
}
