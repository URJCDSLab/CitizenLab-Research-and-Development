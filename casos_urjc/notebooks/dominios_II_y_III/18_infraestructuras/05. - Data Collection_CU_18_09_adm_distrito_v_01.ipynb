{
 "cells": [
  {
   "cell_type": "markdown",
   "metadata": {
    "slideshow": {
     "slide_type": "slide"
    }
   },
   "source": [
    "<img src=\".\\images\\Logo.png\" width=150 align=\"left\" /> <img src=\".\\images\\Logo2.jpg\" width=450 align=\"right\" />"
   ]
  },
  {
   "cell_type": "markdown",
   "metadata": {
    "slideshow": {
     "slide_type": "slide"
    }
   },
   "source": [
    "\n",
    "# <center><font color= #1e8449 > <b>CU18_Infraestructuras_eventos</font></center>"
   ]
  },
  {
   "cell_type": "markdown",
   "metadata": {
    "slideshow": {
     "slide_type": "slide"
    }
   },
   "source": [
    "<font color='steelblue'><b>Citizenlab Data Science Methodology > II - Data Processing Domain </font>\n",
    "***\n",
    "> # <font color='steelblue'> <b>05.- Data Collection</font>"
   ]
  },
  {
   "cell_type": "markdown",
   "metadata": {
    "slideshow": {
     "slide_type": "slide"
    }
   },
   "source": [
    "<font color='steelblue'>Data Collection is the process to obtain and generate (if required) necessary data to model the problem.</font>"
   ]
  },
  {
   "cell_type": "markdown",
   "metadata": {},
   "source": [
    "### 05. Agrupar datos de administración y empresas por distrito\n",
    "\n",
    "* A partir de los datos puntuales, agregar por distrito censal y contar infraestructruras para hacer mapas de regiones. \n",
    "* Adicionalmente crear metadatos con descripción y agrupamiento de variables.\n",
    "\n",
    "\n",
    "\n",
    "\n",
    "\n",
    "\n"
   ]
  },
  {
   "cell_type": "markdown",
   "metadata": {
    "toc": true
   },
   "source": [
    "<h1>Table of Contents<span class=\"tocSkip\"></span></h1>\n",
    "<div class=\"toc\"><ul class=\"toc-item\"><li><span><a href=\"#Settings\" data-toc-modified-id=\"Settings-1\"><font color=\"green\">Settings</font></a></span></li><li><span><a href=\"#Data-Load\" data-toc-modified-id=\"Data-Load-2\"><font color=\"green\">Data Load</font></a></span></li><li><span><a href=\"#ETL-Processes\" data-toc-modified-id=\"ETL-Processes-3\">ETL Processes</a></span><ul class=\"toc-item\"><li><span><a href=\"#Import-data-from:-CSV,-Excel,-Tab,-JSON,-SQL,-and-Parquet-files\" data-toc-modified-id=\"Import-data-from:-CSV,-Excel,-Tab,-JSON,-SQL,-and-Parquet-files-3.1\">Import data from: CSV, Excel, Tab, JSON, SQL, and Parquet files</a></span></li></ul></li><li><span><a href=\"#Synthetic-Data-Generation\" data-toc-modified-id=\"Synthetic-Data-Generation-4\">Synthetic Data Generation</a></span></li><li><span><a href=\"#Fake-Data-Generation\" data-toc-modified-id=\"Fake-Data-Generation-5\">Fake Data Generation</a></span></li><li><span><a href=\"#Open-Data\" data-toc-modified-id=\"Open-Data-6\">Open Data</a></span></li><li><span><a href=\"#Data-Save\" data-toc-modified-id=\"Data-Save-7\"><font color=\"green\">Data Save</font></a></span></li><li><span><a href=\"#Main-Conclusions\" data-toc-modified-id=\"Main-Conclusions-8\"><font color=\" #2874a6 \">Main Conclusions</font></a></span></li><li><span><a href=\"#Main-Actions\" data-toc-modified-id=\"Main-Actions-9\"><font color=\" #2874a6 \">Main Actions</font></a></span><ul class=\"toc-item\"><li><ul class=\"toc-item\"><li><span><a href=\"#Acciones-done\" data-toc-modified-id=\"Acciones-done-9.0.1\"><font color=\" #2874a6 \">Acciones done</font></a></span></li><li><span><a href=\"#Acctions-to-perform\" data-toc-modified-id=\"Acctions-to-perform-9.0.2\"><font color=\" #2874a6 \">Acctions to perform</font></a></span></li></ul></li></ul></li></ul></div>"
   ]
  },
  {
   "cell_type": "markdown",
   "metadata": {
    "slideshow": {
     "slide_type": "slide"
    }
   },
   "source": [
    "## <font color='green'>Settings</font>"
   ]
  },
  {
   "cell_type": "markdown",
   "metadata": {},
   "source": [
    "### Packages to use\n",
    "\n",
    "- {tcltk} para selección interactiva de archivos locales\n",
    "- {readr} para leer y escribir archivos csv\n",
    "- {dplyr} para explorar datos\n",
    "- {dityr} para tranformar datos\n",
    "- {janitor} para limpiar datos\n"
   ]
  },
  {
   "cell_type": "code",
   "execution_count": 1,
   "metadata": {
    "ExecuteTime": {
     "end_time": "2021-12-03T15:23:33.762841Z",
     "start_time": "2021-12-03T15:23:08.580267Z"
    },
    "slideshow": {
     "slide_type": "subslide"
    },
    "vscode": {
     "languageId": "r"
    }
   },
   "outputs": [
    {
     "name": "stderr",
     "output_type": "stream",
     "text": [
      "\n",
      "Attaching package: ‘dplyr’\n",
      "\n",
      "\n",
      "The following objects are masked from ‘package:stats’:\n",
      "\n",
      "    filter, lag\n",
      "\n",
      "\n",
      "The following objects are masked from ‘package:base’:\n",
      "\n",
      "    intersect, setdiff, setequal, union\n",
      "\n",
      "\n",
      "\n",
      "Attaching package: ‘janitor’\n",
      "\n",
      "\n",
      "The following objects are masked from ‘package:stats’:\n",
      "\n",
      "    chisq.test, fisher.test\n",
      "\n",
      "\n"
     ]
    }
   ],
   "source": [
    "library(readr)\n",
    "library(dplyr)\n",
    "library(tidyr)\n",
    "library(janitor)\n"
   ]
  },
  {
   "cell_type": "markdown",
   "metadata": {},
   "source": [
    "### Paths"
   ]
  },
  {
   "cell_type": "code",
   "execution_count": 2,
   "metadata": {
    "vscode": {
     "languageId": "r"
    }
   },
   "outputs": [],
   "source": [
    "iPath <- \"Data/Input/\"\n",
    "oPath <- \"Data/Output/\""
   ]
  },
  {
   "cell_type": "markdown",
   "metadata": {
    "slideshow": {
     "slide_type": "slide"
    }
   },
   "source": [
    "## <font color='green'>Data Load</font>\n",
    "\n",
    "If there are more than one input file, make as many sections as files to import."
   ]
  },
  {
   "cell_type": "markdown",
   "metadata": {},
   "source": [
    "Instrucciones\n",
    "- Los ficheros de entrada del proceso están siempre en Data/Input/.   \n",
    "- Si hay más de un fichero de entrada, se crean tantos objetos iFile_xx y file_data_xx como ficheros de entrada (xx número correlativo con dos dígitos, rellenar con ceros a la izquierda)"
   ]
  },
  {
   "cell_type": "markdown",
   "metadata": {},
   "source": [
    "<font color='tomato'><b> OPCION A:</b> Seleccionar fichero en ventana para mayor comodidad</font> "
   ]
  },
  {
   "cell_type": "markdown",
   "metadata": {},
   "source": [
    "Data load using the {tcltk} package. Ucomment the line if not using this option"
   ]
  },
  {
   "cell_type": "code",
   "execution_count": 3,
   "metadata": {
    "vscode": {
     "languageId": "r"
    }
   },
   "outputs": [],
   "source": [
    "# file_data <- tcltk::tk_choose.files(multi = FALSE)"
   ]
  },
  {
   "cell_type": "markdown",
   "metadata": {},
   "source": [
    "<font color='tomato'><b> OPCION B:</b> Especificar el nombre de archivo</font>\n",
    "\n"
   ]
  },
  {
   "cell_type": "code",
   "execution_count": 3,
   "metadata": {
    "vscode": {
     "languageId": "r"
    }
   },
   "outputs": [
    {
     "name": "stdout",
     "output_type": "stream",
     "text": [
      "Se leerán datos del archivo:  Data/Input/CU_18_05_08_adm_distritos.csv"
     ]
    }
   ],
   "source": [
    "iFile <- \"CU_18_05_08_adm_distritos.csv\"\n",
    "file_data <- paste0(iPath, iFile)\n",
    "\n",
    "if(file.exists(file_data)){\n",
    "    cat(\"Se leerán datos del archivo: \", file_data)\n",
    "} else{\n",
    "    warning(\"Cuidado: el archivo no existe.\")\n",
    "}\n"
   ]
  },
  {
   "cell_type": "markdown",
   "metadata": {},
   "source": [
    "#### Data file to dataframe\n",
    "\n",
    "Usar la función adecuada según el formato de entrada (xlsx, csv, json, ...)"
   ]
  },
  {
   "cell_type": "code",
   "execution_count": 4,
   "metadata": {
    "vscode": {
     "languageId": "r"
    }
   },
   "outputs": [
    {
     "name": "stderr",
     "output_type": "stream",
     "text": [
      "\u001b[1mRows: \u001b[22m\u001b[34m120280\u001b[39m \u001b[1mColumns: \u001b[22m\u001b[34m7\u001b[39m\n",
      "\u001b[36m──\u001b[39m \u001b[1mColumn specification\u001b[22m \u001b[36m─────────────────────────────────────────────────────────────────────────────────────\u001b[39m\n",
      "\u001b[1mDelimiter:\u001b[22m \",\"\n",
      "\u001b[31mchr\u001b[39m (5): Grupo, Tipo, ETIQUETA, CMUN, CDIS\n",
      "\u001b[32mdbl\u001b[39m (2): X, Y\n",
      "\n",
      "\u001b[36mℹ\u001b[39m Use `spec()` to retrieve the full column specification for this data.\n",
      "\u001b[36mℹ\u001b[39m Specify the column types or set `show_col_types = FALSE` to quiet this message.\n"
     ]
    }
   ],
   "source": [
    "data <- read_csv(file_data)\n"
   ]
  },
  {
   "cell_type": "markdown",
   "metadata": {},
   "source": [
    "Estructura de  los datos:"
   ]
  },
  {
   "cell_type": "code",
   "execution_count": 5,
   "metadata": {
    "vscode": {
     "languageId": "r"
    }
   },
   "outputs": [
    {
     "name": "stdout",
     "output_type": "stream",
     "text": [
      "Rows: 120,280\n",
      "Columns: 7\n",
      "$ Grupo    \u001b[3m\u001b[90m<chr>\u001b[39m\u001b[23m \"Administración pública\", \"Administración pública\", \"Administ…\n",
      "$ Tipo     \u001b[3m\u001b[90m<chr>\u001b[39m\u001b[23m \"Agencia Tributaria\", \"Agencia Tributaria\", \"Agencia Tributar…\n",
      "$ ETIQUETA \u001b[3m\u001b[90m<chr>\u001b[39m\u001b[23m \"Administración de la Agencia Tributaria Oficina Central\", \"A…\n",
      "$ X        \u001b[3m\u001b[90m<dbl>\u001b[39m\u001b[23m -3.698678, -3.712513, -3.745598, -3.690993, -3.672477, -3.710…\n",
      "$ Y        \u001b[3m\u001b[90m<dbl>\u001b[39m\u001b[23m 40.45554, 40.44553, 40.37049, 40.41795, 40.45483, 40.48316, 4…\n",
      "$ CMUN     \u001b[3m\u001b[90m<chr>\u001b[39m\u001b[23m \"079\", \"079\", \"079\", \"079\", \"079\", \"079\", \"079\", \"079\", \"079\"…\n",
      "$ CDIS     \u001b[3m\u001b[90m<chr>\u001b[39m\u001b[23m \"06\", \"07\", \"11\", \"03\", \"05\", \"08\", \"04\", \"14\", \"20\", \"12\", \"…\n"
     ]
    }
   ],
   "source": [
    "glimpse(data)"
   ]
  },
  {
   "cell_type": "markdown",
   "metadata": {},
   "source": [
    "Muestra de datos:"
   ]
  },
  {
   "cell_type": "code",
   "execution_count": 6,
   "metadata": {
    "vscode": {
     "languageId": "r"
    }
   },
   "outputs": [
    {
     "data": {
      "text/html": [
       "<table class=\"dataframe\">\n",
       "<caption>A spec_tbl_df: 5 × 7</caption>\n",
       "<thead>\n",
       "\t<tr><th scope=col>Grupo</th><th scope=col>Tipo</th><th scope=col>ETIQUETA</th><th scope=col>X</th><th scope=col>Y</th><th scope=col>CMUN</th><th scope=col>CDIS</th></tr>\n",
       "\t<tr><th scope=col>&lt;chr&gt;</th><th scope=col>&lt;chr&gt;</th><th scope=col>&lt;chr&gt;</th><th scope=col>&lt;dbl&gt;</th><th scope=col>&lt;dbl&gt;</th><th scope=col>&lt;chr&gt;</th><th scope=col>&lt;chr&gt;</th></tr>\n",
       "</thead>\n",
       "<tbody>\n",
       "\t<tr><td>Administración pública</td><td>Agencia Tributaria</td><td>Administración de la Agencia Tributaria Oficina Central                       </td><td>-3.698678</td><td>40.45554</td><td>079</td><td>06</td></tr>\n",
       "\t<tr><td>Administración pública</td><td>Agencia Tributaria</td><td>Administración de la Agencia Tributaria Guzmán el Bueno Administración Central</td><td>-3.712513</td><td>40.44553</td><td>079</td><td>07</td></tr>\n",
       "\t<tr><td>Administración pública</td><td>Agencia Tributaria</td><td>Administración de la Agencia Tributaria  Suroeste                             </td><td>-3.745598</td><td>40.37049</td><td>079</td><td>11</td></tr>\n",
       "\t<tr><td>Administración pública</td><td>Agencia Tributaria</td><td>Administración de la Agencia Tributaria Montalbán                             </td><td>-3.690993</td><td>40.41795</td><td>079</td><td>03</td></tr>\n",
       "\t<tr><td>Administración pública</td><td>Agencia Tributaria</td><td>Administración de la Agencia Tributaria Ciudad Lineal                         </td><td>-3.672477</td><td>40.45483</td><td>079</td><td>05</td></tr>\n",
       "</tbody>\n",
       "</table>\n"
      ],
      "text/latex": [
       "A spec\\_tbl\\_df: 5 × 7\n",
       "\\begin{tabular}{lllllll}\n",
       " Grupo & Tipo & ETIQUETA & X & Y & CMUN & CDIS\\\\\n",
       " <chr> & <chr> & <chr> & <dbl> & <dbl> & <chr> & <chr>\\\\\n",
       "\\hline\n",
       "\t Administración pública & Agencia Tributaria & Administración de la Agencia Tributaria Oficina Central                        & -3.698678 & 40.45554 & 079 & 06\\\\\n",
       "\t Administración pública & Agencia Tributaria & Administración de la Agencia Tributaria Guzmán el Bueno Administración Central & -3.712513 & 40.44553 & 079 & 07\\\\\n",
       "\t Administración pública & Agencia Tributaria & Administración de la Agencia Tributaria  Suroeste                              & -3.745598 & 40.37049 & 079 & 11\\\\\n",
       "\t Administración pública & Agencia Tributaria & Administración de la Agencia Tributaria Montalbán                              & -3.690993 & 40.41795 & 079 & 03\\\\\n",
       "\t Administración pública & Agencia Tributaria & Administración de la Agencia Tributaria Ciudad Lineal                          & -3.672477 & 40.45483 & 079 & 05\\\\\n",
       "\\end{tabular}\n"
      ],
      "text/markdown": [
       "\n",
       "A spec_tbl_df: 5 × 7\n",
       "\n",
       "| Grupo &lt;chr&gt; | Tipo &lt;chr&gt; | ETIQUETA &lt;chr&gt; | X &lt;dbl&gt; | Y &lt;dbl&gt; | CMUN &lt;chr&gt; | CDIS &lt;chr&gt; |\n",
       "|---|---|---|---|---|---|---|\n",
       "| Administración pública | Agencia Tributaria | Administración de la Agencia Tributaria Oficina Central                        | -3.698678 | 40.45554 | 079 | 06 |\n",
       "| Administración pública | Agencia Tributaria | Administración de la Agencia Tributaria Guzmán el Bueno Administración Central | -3.712513 | 40.44553 | 079 | 07 |\n",
       "| Administración pública | Agencia Tributaria | Administración de la Agencia Tributaria  Suroeste                              | -3.745598 | 40.37049 | 079 | 11 |\n",
       "| Administración pública | Agencia Tributaria | Administración de la Agencia Tributaria Montalbán                              | -3.690993 | 40.41795 | 079 | 03 |\n",
       "| Administración pública | Agencia Tributaria | Administración de la Agencia Tributaria Ciudad Lineal                          | -3.672477 | 40.45483 | 079 | 05 |\n",
       "\n"
      ],
      "text/plain": [
       "  Grupo                  Tipo              \n",
       "1 Administración pública Agencia Tributaria\n",
       "2 Administración pública Agencia Tributaria\n",
       "3 Administración pública Agencia Tributaria\n",
       "4 Administración pública Agencia Tributaria\n",
       "5 Administración pública Agencia Tributaria\n",
       "  ETIQUETA                                                                      \n",
       "1 Administración de la Agencia Tributaria Oficina Central                       \n",
       "2 Administración de la Agencia Tributaria Guzmán el Bueno Administración Central\n",
       "3 Administración de la Agencia Tributaria  Suroeste                             \n",
       "4 Administración de la Agencia Tributaria Montalbán                             \n",
       "5 Administración de la Agencia Tributaria Ciudad Lineal                         \n",
       "  X         Y        CMUN CDIS\n",
       "1 -3.698678 40.45554 079  06  \n",
       "2 -3.712513 40.44553 079  07  \n",
       "3 -3.745598 40.37049 079  11  \n",
       "4 -3.690993 40.41795 079  03  \n",
       "5 -3.672477 40.45483 079  05  "
      ]
     },
     "metadata": {},
     "output_type": "display_data"
    }
   ],
   "source": [
    "slice_head(data, n = 5)"
   ]
  },
  {
   "cell_type": "markdown",
   "metadata": {
    "slideshow": {
     "slide_type": "slide"
    }
   },
   "source": [
    "## ETL Processes"
   ]
  },
  {
   "cell_type": "markdown",
   "metadata": {
    "slideshow": {
     "slide_type": "slide"
    }
   },
   "source": [
    "### Import data from: CSV, Excel, Tab, JSON, SQL, and Parquet files\n",
    "\n",
    "Se han importado en el apartado Data Load anterior:\n",
    "\n",
    "* Infraestructuras"
   ]
  },
  {
   "cell_type": "markdown",
   "metadata": {},
   "source": [
    "Incluir apartados si procede para: Extracción de datos (select, filter), Transformación de datos, (mutate, joins, ...). Si es necesario tratar datos perdidos, indicarlo también en NB 09.2"
   ]
  },
  {
   "cell_type": "markdown",
   "metadata": {},
   "source": [
    "#### Data Transform"
   ]
  },
  {
   "cell_type": "markdown",
   "metadata": {},
   "source": [
    "* Contar número de infraestructuras de cada tipo por distrito\n",
    "* Extender en columnas para caracterizar distritos"
   ]
  },
  {
   "cell_type": "code",
   "execution_count": 7,
   "metadata": {
    "vscode": {
     "languageId": "r"
    }
   },
   "outputs": [],
   "source": [
    "tdata_01 <- data |> \n",
    "  count(CMUN, CDIS, Tipo) |> \n",
    "  pivot_wider(names_from = Tipo,\n",
    "              values_from = n, \n",
    "              values_fill = 0) "
   ]
  },
  {
   "cell_type": "code",
   "execution_count": 8,
   "metadata": {
    "vscode": {
     "languageId": "r"
    }
   },
   "outputs": [
    {
     "name": "stdout",
     "output_type": "stream",
     "text": [
      "Rows: 246\n",
      "Columns: 49\n",
      "$ CMUN                                                          \u001b[3m\u001b[90m<chr>\u001b[39m\u001b[23m \"001\", \"…\n",
      "$ CDIS                                                          \u001b[3m\u001b[90m<chr>\u001b[39m\u001b[23m \"01\", \"0…\n",
      "$ `Ayuntamientos, Consejerías, Ministerios, etc.`               \u001b[3m\u001b[90m<int>\u001b[39m\u001b[23m 1, 1, 1,…\n",
      "$ `Sanidad y servicios sociales`                                \u001b[3m\u001b[90m<int>\u001b[39m\u001b[23m 1, 8, 0,…\n",
      "$ `Actividades administrativas`                                 \u001b[3m\u001b[90m<int>\u001b[39m\u001b[23m 0, 13, 0…\n",
      "$ `Actividades asociativas y hogares`                           \u001b[3m\u001b[90m<int>\u001b[39m\u001b[23m 0, 2, 0,…\n",
      "$ `Actividades profesionales`                                   \u001b[3m\u001b[90m<int>\u001b[39m\u001b[23m 0, 11, 1…\n",
      "$ `Administraciones públicas`                                   \u001b[3m\u001b[90m<int>\u001b[39m\u001b[23m 0, 2, 2,…\n",
      "$ Alimentación                                                  \u001b[3m\u001b[90m<int>\u001b[39m\u001b[23m 0, 2, 0,…\n",
      "$ `Centros educativos no universitarios - Centros públicos`     \u001b[3m\u001b[90m<int>\u001b[39m\u001b[23m 0, 3, 0,…\n",
      "$ `Comercio mayorista`                                          \u001b[3m\u001b[90m<int>\u001b[39m\u001b[23m 0, 34, 0…\n",
      "$ `Comercio minorista`                                          \u001b[3m\u001b[90m<int>\u001b[39m\u001b[23m 0, 22, 0…\n",
      "$ Construcción                                                  \u001b[3m\u001b[90m<int>\u001b[39m\u001b[23m 0, 22, 0…\n",
      "$ Educación                                                     \u001b[3m\u001b[90m<int>\u001b[39m\u001b[23m 0, 4, 0,…\n",
      "$ Hostelería                                                    \u001b[3m\u001b[90m<int>\u001b[39m\u001b[23m 0, 2, 4,…\n",
      "$ `Industria química y refino`                                  \u001b[3m\u001b[90m<int>\u001b[39m\u001b[23m 0, 3, 0,…\n",
      "$ `Información y comunicaciones`                                \u001b[3m\u001b[90m<int>\u001b[39m\u001b[23m 0, 1, 0,…\n",
      "$ `Maquinaria industrial`                                       \u001b[3m\u001b[90m<int>\u001b[39m\u001b[23m 0, 6, 0,…\n",
      "$ `Material de transporte`                                      \u001b[3m\u001b[90m<int>\u001b[39m\u001b[23m 0, 4, 0,…\n",
      "$ `Material eléctrico y electrónico`                            \u001b[3m\u001b[90m<int>\u001b[39m\u001b[23m 0, 3, 0,…\n",
      "$ Mercadillos                                                   \u001b[3m\u001b[90m<int>\u001b[39m\u001b[23m 0, 1, 0,…\n",
      "$ `Metálicas básicas e intermedias`                             \u001b[3m\u001b[90m<int>\u001b[39m\u001b[23m 0, 25, 0…\n",
      "$ `Minería y suministros`                                       \u001b[3m\u001b[90m<int>\u001b[39m\u001b[23m 0, 1, 0,…\n",
      "$ `Otras manufactureras`                                        \u001b[3m\u001b[90m<int>\u001b[39m\u001b[23m 0, 14, 0…\n",
      "$ `Otros servicios - Bancos`                                    \u001b[3m\u001b[90m<int>\u001b[39m\u001b[23m 0, 3, 0,…\n",
      "$ `Papel y gráficas`                                            \u001b[3m\u001b[90m<int>\u001b[39m\u001b[23m 0, 14, 0…\n",
      "$ `Servicios financieros`                                       \u001b[3m\u001b[90m<int>\u001b[39m\u001b[23m 0, 3, 0,…\n",
      "$ `Servicios personales`                                        \u001b[3m\u001b[90m<int>\u001b[39m\u001b[23m 0, 3, 0,…\n",
      "$ `Servicios recreativos`                                       \u001b[3m\u001b[90m<int>\u001b[39m\u001b[23m 0, 5, 0,…\n",
      "$ `Textil, confección y calzado`                                \u001b[3m\u001b[90m<int>\u001b[39m\u001b[23m 0, 3, 0,…\n",
      "$ `Transporte y almacenamiento`                                 \u001b[3m\u001b[90m<int>\u001b[39m\u001b[23m 0, 8, 0,…\n",
      "$ `Actividades Inmobiliarias`                                   \u001b[3m\u001b[90m<int>\u001b[39m\u001b[23m 0, 0, 0,…\n",
      "$ `Centros educativos no universitarios - Centros privados`     \u001b[3m\u001b[90m<int>\u001b[39m\u001b[23m 0, 0, 0,…\n",
      "$ `Industria no metálica`                                       \u001b[3m\u001b[90m<int>\u001b[39m\u001b[23m 0, 0, 0,…\n",
      "$ `Administración de Justicia`                                  \u001b[3m\u001b[90m<int>\u001b[39m\u001b[23m 0, 0, 0,…\n",
      "$ `Agencia Tributaria`                                          \u001b[3m\u001b[90m<int>\u001b[39m\u001b[23m 0, 0, 0,…\n",
      "$ `Campus universitarios`                                       \u001b[3m\u001b[90m<int>\u001b[39m\u001b[23m 0, 0, 0,…\n",
      "$ `Centros educativos universitarios`                           \u001b[3m\u001b[90m<int>\u001b[39m\u001b[23m 0, 0, 0,…\n",
      "$ `Colegios mayores`                                            \u001b[3m\u001b[90m<int>\u001b[39m\u001b[23m 0, 0, 0,…\n",
      "$ `Galerías de alimentación`                                    \u001b[3m\u001b[90m<int>\u001b[39m\u001b[23m 0, 0, 0,…\n",
      "$ `Grandes superficies especializadas`                          \u001b[3m\u001b[90m<int>\u001b[39m\u001b[23m 0, 0, 0,…\n",
      "$ Hipermercados                                                 \u001b[3m\u001b[90m<int>\u001b[39m\u001b[23m 0, 0, 0,…\n",
      "$ `Mercados de abastos`                                         \u001b[3m\u001b[90m<int>\u001b[39m\u001b[23m 0, 0, 0,…\n",
      "$ `Agricultura y ganadería`                                     \u001b[3m\u001b[90m<int>\u001b[39m\u001b[23m 0, 0, 0,…\n",
      "$ `Centros educativos no universitarios - Servicios educativos` \u001b[3m\u001b[90m<int>\u001b[39m\u001b[23m 0, 0, 0,…\n",
      "$ `Seguridad Social`                                            \u001b[3m\u001b[90m<int>\u001b[39m\u001b[23m 0, 0, 0,…\n",
      "$ `Centros comerciales`                                         \u001b[3m\u001b[90m<int>\u001b[39m\u001b[23m 0, 0, 0,…\n",
      "$ `Oficinas de empleo`                                          \u001b[3m\u001b[90m<int>\u001b[39m\u001b[23m 0, 0, 0,…\n",
      "$ `Embajadas y consulados`                                      \u001b[3m\u001b[90m<int>\u001b[39m\u001b[23m 0, 0, 0,…\n"
     ]
    }
   ],
   "source": [
    "glimpse(tdata_01)"
   ]
  },
  {
   "cell_type": "code",
   "execution_count": 9,
   "metadata": {
    "vscode": {
     "languageId": "r"
    }
   },
   "outputs": [
    {
     "data": {
      "text/html": [
       "<table class=\"dataframe\">\n",
       "<caption>A tibble: 5 × 49</caption>\n",
       "<thead>\n",
       "\t<tr><th scope=col>CMUN</th><th scope=col>CDIS</th><th scope=col>Ayuntamientos, Consejerías, Ministerios, etc.</th><th scope=col>Sanidad y servicios sociales</th><th scope=col>Actividades administrativas</th><th scope=col>Actividades asociativas y hogares</th><th scope=col>Actividades profesionales</th><th scope=col>Administraciones públicas</th><th scope=col>Alimentación</th><th scope=col>Centros educativos no universitarios - Centros públicos</th><th scope=col>⋯</th><th scope=col>Galerías de alimentación</th><th scope=col>Grandes superficies especializadas</th><th scope=col>Hipermercados</th><th scope=col>Mercados de abastos</th><th scope=col>Agricultura y ganadería</th><th scope=col>Centros educativos no universitarios - Servicios educativos</th><th scope=col>Seguridad Social</th><th scope=col>Centros comerciales</th><th scope=col>Oficinas de empleo</th><th scope=col>Embajadas y consulados</th></tr>\n",
       "\t<tr><th scope=col>&lt;chr&gt;</th><th scope=col>&lt;chr&gt;</th><th scope=col>&lt;int&gt;</th><th scope=col>&lt;int&gt;</th><th scope=col>&lt;int&gt;</th><th scope=col>&lt;int&gt;</th><th scope=col>&lt;int&gt;</th><th scope=col>&lt;int&gt;</th><th scope=col>&lt;int&gt;</th><th scope=col>&lt;int&gt;</th><th scope=col>⋯</th><th scope=col>&lt;int&gt;</th><th scope=col>&lt;int&gt;</th><th scope=col>&lt;int&gt;</th><th scope=col>&lt;int&gt;</th><th scope=col>&lt;int&gt;</th><th scope=col>&lt;int&gt;</th><th scope=col>&lt;int&gt;</th><th scope=col>&lt;int&gt;</th><th scope=col>&lt;int&gt;</th><th scope=col>&lt;int&gt;</th></tr>\n",
       "</thead>\n",
       "<tbody>\n",
       "\t<tr><td>001</td><td>01</td><td>1</td><td> 1</td><td> 0</td><td> 0</td><td> 0</td><td>0</td><td>0</td><td>0</td><td>⋯</td><td>0</td><td>0</td><td>0</td><td>0</td><td>0</td><td>0</td><td>0</td><td>0</td><td>0</td><td>0</td></tr>\n",
       "\t<tr><td>002</td><td>01</td><td>1</td><td> 8</td><td>13</td><td> 2</td><td>11</td><td>2</td><td>2</td><td>3</td><td>⋯</td><td>0</td><td>0</td><td>0</td><td>0</td><td>0</td><td>0</td><td>0</td><td>0</td><td>0</td><td>0</td></tr>\n",
       "\t<tr><td>003</td><td>01</td><td>1</td><td> 0</td><td> 0</td><td> 0</td><td> 1</td><td>2</td><td>0</td><td>0</td><td>⋯</td><td>0</td><td>0</td><td>0</td><td>0</td><td>0</td><td>0</td><td>0</td><td>0</td><td>0</td><td>0</td></tr>\n",
       "\t<tr><td>004</td><td>01</td><td>1</td><td>10</td><td> 2</td><td> 2</td><td> 3</td><td>2</td><td>0</td><td>4</td><td>⋯</td><td>0</td><td>0</td><td>0</td><td>0</td><td>0</td><td>0</td><td>0</td><td>0</td><td>0</td><td>0</td></tr>\n",
       "\t<tr><td>005</td><td>01</td><td>1</td><td>42</td><td>36</td><td>14</td><td>56</td><td>5</td><td>4</td><td>8</td><td>⋯</td><td>3</td><td>1</td><td>1</td><td>1</td><td>0</td><td>0</td><td>0</td><td>0</td><td>0</td><td>0</td></tr>\n",
       "</tbody>\n",
       "</table>\n"
      ],
      "text/latex": [
       "A tibble: 5 × 49\n",
       "\\begin{tabular}{lllllllllllllllllllll}\n",
       " CMUN & CDIS & Ayuntamientos, Consejerías, Ministerios, etc. & Sanidad y servicios sociales & Actividades administrativas & Actividades asociativas y hogares & Actividades profesionales & Administraciones públicas & Alimentación & Centros educativos no universitarios - Centros públicos & ⋯ & Galerías de alimentación & Grandes superficies especializadas & Hipermercados & Mercados de abastos & Agricultura y ganadería & Centros educativos no universitarios - Servicios educativos & Seguridad Social & Centros comerciales & Oficinas de empleo & Embajadas y consulados\\\\\n",
       " <chr> & <chr> & <int> & <int> & <int> & <int> & <int> & <int> & <int> & <int> & ⋯ & <int> & <int> & <int> & <int> & <int> & <int> & <int> & <int> & <int> & <int>\\\\\n",
       "\\hline\n",
       "\t 001 & 01 & 1 &  1 &  0 &  0 &  0 & 0 & 0 & 0 & ⋯ & 0 & 0 & 0 & 0 & 0 & 0 & 0 & 0 & 0 & 0\\\\\n",
       "\t 002 & 01 & 1 &  8 & 13 &  2 & 11 & 2 & 2 & 3 & ⋯ & 0 & 0 & 0 & 0 & 0 & 0 & 0 & 0 & 0 & 0\\\\\n",
       "\t 003 & 01 & 1 &  0 &  0 &  0 &  1 & 2 & 0 & 0 & ⋯ & 0 & 0 & 0 & 0 & 0 & 0 & 0 & 0 & 0 & 0\\\\\n",
       "\t 004 & 01 & 1 & 10 &  2 &  2 &  3 & 2 & 0 & 4 & ⋯ & 0 & 0 & 0 & 0 & 0 & 0 & 0 & 0 & 0 & 0\\\\\n",
       "\t 005 & 01 & 1 & 42 & 36 & 14 & 56 & 5 & 4 & 8 & ⋯ & 3 & 1 & 1 & 1 & 0 & 0 & 0 & 0 & 0 & 0\\\\\n",
       "\\end{tabular}\n"
      ],
      "text/markdown": [
       "\n",
       "A tibble: 5 × 49\n",
       "\n",
       "| CMUN &lt;chr&gt; | CDIS &lt;chr&gt; | Ayuntamientos, Consejerías, Ministerios, etc. &lt;int&gt; | Sanidad y servicios sociales &lt;int&gt; | Actividades administrativas &lt;int&gt; | Actividades asociativas y hogares &lt;int&gt; | Actividades profesionales &lt;int&gt; | Administraciones públicas &lt;int&gt; | Alimentación &lt;int&gt; | Centros educativos no universitarios - Centros públicos &lt;int&gt; | ⋯ ⋯ | Galerías de alimentación &lt;int&gt; | Grandes superficies especializadas &lt;int&gt; | Hipermercados &lt;int&gt; | Mercados de abastos &lt;int&gt; | Agricultura y ganadería &lt;int&gt; | Centros educativos no universitarios - Servicios educativos &lt;int&gt; | Seguridad Social &lt;int&gt; | Centros comerciales &lt;int&gt; | Oficinas de empleo &lt;int&gt; | Embajadas y consulados &lt;int&gt; |\n",
       "|---|---|---|---|---|---|---|---|---|---|---|---|---|---|---|---|---|---|---|---|---|\n",
       "| 001 | 01 | 1 |  1 |  0 |  0 |  0 | 0 | 0 | 0 | ⋯ | 0 | 0 | 0 | 0 | 0 | 0 | 0 | 0 | 0 | 0 |\n",
       "| 002 | 01 | 1 |  8 | 13 |  2 | 11 | 2 | 2 | 3 | ⋯ | 0 | 0 | 0 | 0 | 0 | 0 | 0 | 0 | 0 | 0 |\n",
       "| 003 | 01 | 1 |  0 |  0 |  0 |  1 | 2 | 0 | 0 | ⋯ | 0 | 0 | 0 | 0 | 0 | 0 | 0 | 0 | 0 | 0 |\n",
       "| 004 | 01 | 1 | 10 |  2 |  2 |  3 | 2 | 0 | 4 | ⋯ | 0 | 0 | 0 | 0 | 0 | 0 | 0 | 0 | 0 | 0 |\n",
       "| 005 | 01 | 1 | 42 | 36 | 14 | 56 | 5 | 4 | 8 | ⋯ | 3 | 1 | 1 | 1 | 0 | 0 | 0 | 0 | 0 | 0 |\n",
       "\n"
      ],
      "text/plain": [
       "  CMUN CDIS Ayuntamientos, Consejerías, Ministerios, etc.\n",
       "1 001  01   1                                            \n",
       "2 002  01   1                                            \n",
       "3 003  01   1                                            \n",
       "4 004  01   1                                            \n",
       "5 005  01   1                                            \n",
       "  Sanidad y servicios sociales Actividades administrativas\n",
       "1  1                            0                         \n",
       "2  8                           13                         \n",
       "3  0                            0                         \n",
       "4 10                            2                         \n",
       "5 42                           36                         \n",
       "  Actividades asociativas y hogares Actividades profesionales\n",
       "1  0                                 0                       \n",
       "2  2                                11                       \n",
       "3  0                                 1                       \n",
       "4  2                                 3                       \n",
       "5 14                                56                       \n",
       "  Administraciones públicas Alimentación\n",
       "1 0                         0           \n",
       "2 2                         2           \n",
       "3 2                         0           \n",
       "4 2                         0           \n",
       "5 5                         4           \n",
       "  Centros educativos no universitarios - Centros públicos ⋯\n",
       "1 0                                                       ⋯\n",
       "2 3                                                       ⋯\n",
       "3 0                                                       ⋯\n",
       "4 4                                                       ⋯\n",
       "5 8                                                       ⋯\n",
       "  Galerías de alimentación Grandes superficies especializadas Hipermercados\n",
       "1 0                        0                                  0            \n",
       "2 0                        0                                  0            \n",
       "3 0                        0                                  0            \n",
       "4 0                        0                                  0            \n",
       "5 3                        1                                  1            \n",
       "  Mercados de abastos Agricultura y ganadería\n",
       "1 0                   0                      \n",
       "2 0                   0                      \n",
       "3 0                   0                      \n",
       "4 0                   0                      \n",
       "5 1                   0                      \n",
       "  Centros educativos no universitarios - Servicios educativos Seguridad Social\n",
       "1 0                                                           0               \n",
       "2 0                                                           0               \n",
       "3 0                                                           0               \n",
       "4 0                                                           0               \n",
       "5 0                                                           0               \n",
       "  Centros comerciales Oficinas de empleo Embajadas y consulados\n",
       "1 0                   0                  0                     \n",
       "2 0                   0                  0                     \n",
       "3 0                   0                  0                     \n",
       "4 0                   0                  0                     \n",
       "5 0                   0                  0                     "
      ]
     },
     "metadata": {},
     "output_type": "display_data"
    }
   ],
   "source": [
    "tdata_01 |> slice_head(n = 5)"
   ]
  },
  {
   "cell_type": "markdown",
   "metadata": {},
   "source": [
    "#### Data Extract\n",
    "\n",
    "\n"
   ]
  },
  {
   "cell_type": "markdown",
   "metadata": {},
   "source": [
    "* Extraer nombres de columnas\n"
   ]
  },
  {
   "cell_type": "code",
   "execution_count": 44,
   "metadata": {
    "vscode": {
     "languageId": "r"
    }
   },
   "outputs": [],
   "source": [
    "tdata_02 <- data.frame(desc_var = colnames(tdata_01)[3:ncol(tdata_01)])"
   ]
  },
  {
   "cell_type": "code",
   "execution_count": 45,
   "metadata": {
    "vscode": {
     "languageId": "r"
    }
   },
   "outputs": [
    {
     "data": {
      "text/html": [
       "<table class=\"dataframe\">\n",
       "<caption>A data.frame: 47 × 1</caption>\n",
       "<thead>\n",
       "\t<tr><th scope=col>desc_var</th></tr>\n",
       "\t<tr><th scope=col>&lt;chr&gt;</th></tr>\n",
       "</thead>\n",
       "<tbody>\n",
       "\t<tr><td>ayuntamientos_consejerias_ministerios_etc                </td></tr>\n",
       "\t<tr><td>sanidad_y_servicios_sociales                             </td></tr>\n",
       "\t<tr><td>actividades_administrativas                              </td></tr>\n",
       "\t<tr><td>actividades_asociativas_y_hogares                        </td></tr>\n",
       "\t<tr><td>actividades_profesionales                                </td></tr>\n",
       "\t<tr><td>administraciones_publicas                                </td></tr>\n",
       "\t<tr><td>alimentacion                                             </td></tr>\n",
       "\t<tr><td>centros_educativos_no_universitarios_centros_publicos    </td></tr>\n",
       "\t<tr><td>comercio_mayorista                                       </td></tr>\n",
       "\t<tr><td>comercio_minorista                                       </td></tr>\n",
       "\t<tr><td>construccion                                             </td></tr>\n",
       "\t<tr><td>educacion                                                </td></tr>\n",
       "\t<tr><td>hosteleria                                               </td></tr>\n",
       "\t<tr><td>industria_quimica_y_refino                               </td></tr>\n",
       "\t<tr><td>informacion_y_comunicaciones                             </td></tr>\n",
       "\t<tr><td>maquinaria_industrial                                    </td></tr>\n",
       "\t<tr><td>material_de_transporte                                   </td></tr>\n",
       "\t<tr><td>material_electrico_y_electronico                         </td></tr>\n",
       "\t<tr><td>mercadillos                                              </td></tr>\n",
       "\t<tr><td>metalicas_basicas_e_intermedias                          </td></tr>\n",
       "\t<tr><td>mineria_y_suministros                                    </td></tr>\n",
       "\t<tr><td>otras_manufactureras                                     </td></tr>\n",
       "\t<tr><td>otros_servicios_bancos                                   </td></tr>\n",
       "\t<tr><td>papel_y_graficas                                         </td></tr>\n",
       "\t<tr><td>servicios_financieros                                    </td></tr>\n",
       "\t<tr><td>servicios_personales                                     </td></tr>\n",
       "\t<tr><td>servicios_recreativos                                    </td></tr>\n",
       "\t<tr><td>textil_confeccion_y_calzado                              </td></tr>\n",
       "\t<tr><td>transporte_y_almacenamiento                              </td></tr>\n",
       "\t<tr><td>actividades_inmobiliarias                                </td></tr>\n",
       "\t<tr><td>centros_educativos_no_universitarios_centros_privados    </td></tr>\n",
       "\t<tr><td>industria_no_metalica                                    </td></tr>\n",
       "\t<tr><td>administracion_de_justicia                               </td></tr>\n",
       "\t<tr><td>agencia_tributaria                                       </td></tr>\n",
       "\t<tr><td>campus_universitarios                                    </td></tr>\n",
       "\t<tr><td>centros_educativos_universitarios                        </td></tr>\n",
       "\t<tr><td>colegios_mayores                                         </td></tr>\n",
       "\t<tr><td>galerias_de_alimentacion                                 </td></tr>\n",
       "\t<tr><td>grandes_superficies_especializadas                       </td></tr>\n",
       "\t<tr><td>hipermercados                                            </td></tr>\n",
       "\t<tr><td>mercados_de_abastos                                      </td></tr>\n",
       "\t<tr><td>agricultura_y_ganaderia                                  </td></tr>\n",
       "\t<tr><td>centros_educativos_no_universitarios_servicios_educativos</td></tr>\n",
       "\t<tr><td>seguridad_social                                         </td></tr>\n",
       "\t<tr><td>centros_comerciales                                      </td></tr>\n",
       "\t<tr><td>oficinas_de_empleo                                       </td></tr>\n",
       "\t<tr><td>embajadas_y_consulados                                   </td></tr>\n",
       "</tbody>\n",
       "</table>\n"
      ],
      "text/latex": [
       "A data.frame: 47 × 1\n",
       "\\begin{tabular}{l}\n",
       " desc\\_var\\\\\n",
       " <chr>\\\\\n",
       "\\hline\n",
       "\t ayuntamientos\\_consejerias\\_ministerios\\_etc                \\\\\n",
       "\t sanidad\\_y\\_servicios\\_sociales                             \\\\\n",
       "\t actividades\\_administrativas                              \\\\\n",
       "\t actividades\\_asociativas\\_y\\_hogares                        \\\\\n",
       "\t actividades\\_profesionales                                \\\\\n",
       "\t administraciones\\_publicas                                \\\\\n",
       "\t alimentacion                                             \\\\\n",
       "\t centros\\_educativos\\_no\\_universitarios\\_centros\\_publicos    \\\\\n",
       "\t comercio\\_mayorista                                       \\\\\n",
       "\t comercio\\_minorista                                       \\\\\n",
       "\t construccion                                             \\\\\n",
       "\t educacion                                                \\\\\n",
       "\t hosteleria                                               \\\\\n",
       "\t industria\\_quimica\\_y\\_refino                               \\\\\n",
       "\t informacion\\_y\\_comunicaciones                             \\\\\n",
       "\t maquinaria\\_industrial                                    \\\\\n",
       "\t material\\_de\\_transporte                                   \\\\\n",
       "\t material\\_electrico\\_y\\_electronico                         \\\\\n",
       "\t mercadillos                                              \\\\\n",
       "\t metalicas\\_basicas\\_e\\_intermedias                          \\\\\n",
       "\t mineria\\_y\\_suministros                                    \\\\\n",
       "\t otras\\_manufactureras                                     \\\\\n",
       "\t otros\\_servicios\\_bancos                                   \\\\\n",
       "\t papel\\_y\\_graficas                                         \\\\\n",
       "\t servicios\\_financieros                                    \\\\\n",
       "\t servicios\\_personales                                     \\\\\n",
       "\t servicios\\_recreativos                                    \\\\\n",
       "\t textil\\_confeccion\\_y\\_calzado                              \\\\\n",
       "\t transporte\\_y\\_almacenamiento                              \\\\\n",
       "\t actividades\\_inmobiliarias                                \\\\\n",
       "\t centros\\_educativos\\_no\\_universitarios\\_centros\\_privados    \\\\\n",
       "\t industria\\_no\\_metalica                                    \\\\\n",
       "\t administracion\\_de\\_justicia                               \\\\\n",
       "\t agencia\\_tributaria                                       \\\\\n",
       "\t campus\\_universitarios                                    \\\\\n",
       "\t centros\\_educativos\\_universitarios                        \\\\\n",
       "\t colegios\\_mayores                                         \\\\\n",
       "\t galerias\\_de\\_alimentacion                                 \\\\\n",
       "\t grandes\\_superficies\\_especializadas                       \\\\\n",
       "\t hipermercados                                            \\\\\n",
       "\t mercados\\_de\\_abastos                                      \\\\\n",
       "\t agricultura\\_y\\_ganaderia                                  \\\\\n",
       "\t centros\\_educativos\\_no\\_universitarios\\_servicios\\_educativos\\\\\n",
       "\t seguridad\\_social                                         \\\\\n",
       "\t centros\\_comerciales                                      \\\\\n",
       "\t oficinas\\_de\\_empleo                                       \\\\\n",
       "\t embajadas\\_y\\_consulados                                   \\\\\n",
       "\\end{tabular}\n"
      ],
      "text/markdown": [
       "\n",
       "A data.frame: 47 × 1\n",
       "\n",
       "| desc_var &lt;chr&gt; |\n",
       "|---|\n",
       "| ayuntamientos_consejerias_ministerios_etc                 |\n",
       "| sanidad_y_servicios_sociales                              |\n",
       "| actividades_administrativas                               |\n",
       "| actividades_asociativas_y_hogares                         |\n",
       "| actividades_profesionales                                 |\n",
       "| administraciones_publicas                                 |\n",
       "| alimentacion                                              |\n",
       "| centros_educativos_no_universitarios_centros_publicos     |\n",
       "| comercio_mayorista                                        |\n",
       "| comercio_minorista                                        |\n",
       "| construccion                                              |\n",
       "| educacion                                                 |\n",
       "| hosteleria                                                |\n",
       "| industria_quimica_y_refino                                |\n",
       "| informacion_y_comunicaciones                              |\n",
       "| maquinaria_industrial                                     |\n",
       "| material_de_transporte                                    |\n",
       "| material_electrico_y_electronico                          |\n",
       "| mercadillos                                               |\n",
       "| metalicas_basicas_e_intermedias                           |\n",
       "| mineria_y_suministros                                     |\n",
       "| otras_manufactureras                                      |\n",
       "| otros_servicios_bancos                                    |\n",
       "| papel_y_graficas                                          |\n",
       "| servicios_financieros                                     |\n",
       "| servicios_personales                                      |\n",
       "| servicios_recreativos                                     |\n",
       "| textil_confeccion_y_calzado                               |\n",
       "| transporte_y_almacenamiento                               |\n",
       "| actividades_inmobiliarias                                 |\n",
       "| centros_educativos_no_universitarios_centros_privados     |\n",
       "| industria_no_metalica                                     |\n",
       "| administracion_de_justicia                                |\n",
       "| agencia_tributaria                                        |\n",
       "| campus_universitarios                                     |\n",
       "| centros_educativos_universitarios                         |\n",
       "| colegios_mayores                                          |\n",
       "| galerias_de_alimentacion                                  |\n",
       "| grandes_superficies_especializadas                        |\n",
       "| hipermercados                                             |\n",
       "| mercados_de_abastos                                       |\n",
       "| agricultura_y_ganaderia                                   |\n",
       "| centros_educativos_no_universitarios_servicios_educativos |\n",
       "| seguridad_social                                          |\n",
       "| centros_comerciales                                       |\n",
       "| oficinas_de_empleo                                        |\n",
       "| embajadas_y_consulados                                    |\n",
       "\n"
      ],
      "text/plain": [
       "   desc_var                                                 \n",
       "1  ayuntamientos_consejerias_ministerios_etc                \n",
       "2  sanidad_y_servicios_sociales                             \n",
       "3  actividades_administrativas                              \n",
       "4  actividades_asociativas_y_hogares                        \n",
       "5  actividades_profesionales                                \n",
       "6  administraciones_publicas                                \n",
       "7  alimentacion                                             \n",
       "8  centros_educativos_no_universitarios_centros_publicos    \n",
       "9  comercio_mayorista                                       \n",
       "10 comercio_minorista                                       \n",
       "11 construccion                                             \n",
       "12 educacion                                                \n",
       "13 hosteleria                                               \n",
       "14 industria_quimica_y_refino                               \n",
       "15 informacion_y_comunicaciones                             \n",
       "16 maquinaria_industrial                                    \n",
       "17 material_de_transporte                                   \n",
       "18 material_electrico_y_electronico                         \n",
       "19 mercadillos                                              \n",
       "20 metalicas_basicas_e_intermedias                          \n",
       "21 mineria_y_suministros                                    \n",
       "22 otras_manufactureras                                     \n",
       "23 otros_servicios_bancos                                   \n",
       "24 papel_y_graficas                                         \n",
       "25 servicios_financieros                                    \n",
       "26 servicios_personales                                     \n",
       "27 servicios_recreativos                                    \n",
       "28 textil_confeccion_y_calzado                              \n",
       "29 transporte_y_almacenamiento                              \n",
       "30 actividades_inmobiliarias                                \n",
       "31 centros_educativos_no_universitarios_centros_privados    \n",
       "32 industria_no_metalica                                    \n",
       "33 administracion_de_justicia                               \n",
       "34 agencia_tributaria                                       \n",
       "35 campus_universitarios                                    \n",
       "36 centros_educativos_universitarios                        \n",
       "37 colegios_mayores                                         \n",
       "38 galerias_de_alimentacion                                 \n",
       "39 grandes_superficies_especializadas                       \n",
       "40 hipermercados                                            \n",
       "41 mercados_de_abastos                                      \n",
       "42 agricultura_y_ganaderia                                  \n",
       "43 centros_educativos_no_universitarios_servicios_educativos\n",
       "44 seguridad_social                                         \n",
       "45 centros_comerciales                                      \n",
       "46 oficinas_de_empleo                                       \n",
       "47 embajadas_y_consulados                                   "
      ]
     },
     "metadata": {},
     "output_type": "display_data"
    }
   ],
   "source": [
    "tdata_02"
   ]
  },
  {
   "cell_type": "markdown",
   "metadata": {},
   "source": [
    "Data Transform"
   ]
  },
  {
   "cell_type": "markdown",
   "metadata": {},
   "source": [
    "* Limpiar nombres de columnas"
   ]
  },
  {
   "cell_type": "code",
   "execution_count": 12,
   "metadata": {
    "vscode": {
     "languageId": "r"
    }
   },
   "outputs": [],
   "source": [
    "tdata_01 <- tdata_01 |> \n",
    "  clean_names()"
   ]
  },
  {
   "cell_type": "code",
   "execution_count": 13,
   "metadata": {
    "vscode": {
     "languageId": "r"
    }
   },
   "outputs": [
    {
     "name": "stdout",
     "output_type": "stream",
     "text": [
      "Rows: 246\n",
      "Columns: 49\n",
      "$ cmun                                                      \u001b[3m\u001b[90m<chr>\u001b[39m\u001b[23m \"001\", \"002\"…\n",
      "$ cdis                                                      \u001b[3m\u001b[90m<chr>\u001b[39m\u001b[23m \"01\", \"01\", …\n",
      "$ ayuntamientos_consejerias_ministerios_etc                 \u001b[3m\u001b[90m<int>\u001b[39m\u001b[23m 1, 1, 1, 1, …\n",
      "$ sanidad_y_servicios_sociales                              \u001b[3m\u001b[90m<int>\u001b[39m\u001b[23m 1, 8, 0, 10,…\n",
      "$ actividades_administrativas                               \u001b[3m\u001b[90m<int>\u001b[39m\u001b[23m 0, 13, 0, 2,…\n",
      "$ actividades_asociativas_y_hogares                         \u001b[3m\u001b[90m<int>\u001b[39m\u001b[23m 0, 2, 0, 2, …\n",
      "$ actividades_profesionales                                 \u001b[3m\u001b[90m<int>\u001b[39m\u001b[23m 0, 11, 1, 3,…\n",
      "$ administraciones_publicas                                 \u001b[3m\u001b[90m<int>\u001b[39m\u001b[23m 0, 2, 2, 2, …\n",
      "$ alimentacion                                              \u001b[3m\u001b[90m<int>\u001b[39m\u001b[23m 0, 2, 0, 0, …\n",
      "$ centros_educativos_no_universitarios_centros_publicos     \u001b[3m\u001b[90m<int>\u001b[39m\u001b[23m 0, 3, 0, 4, …\n",
      "$ comercio_mayorista                                        \u001b[3m\u001b[90m<int>\u001b[39m\u001b[23m 0, 34, 0, 3,…\n",
      "$ comercio_minorista                                        \u001b[3m\u001b[90m<int>\u001b[39m\u001b[23m 0, 22, 0, 10…\n",
      "$ construccion                                              \u001b[3m\u001b[90m<int>\u001b[39m\u001b[23m 0, 22, 0, 16…\n",
      "$ educacion                                                 \u001b[3m\u001b[90m<int>\u001b[39m\u001b[23m 0, 4, 0, 6, …\n",
      "$ hosteleria                                                \u001b[3m\u001b[90m<int>\u001b[39m\u001b[23m 0, 2, 4, 12,…\n",
      "$ industria_quimica_y_refino                                \u001b[3m\u001b[90m<int>\u001b[39m\u001b[23m 0, 3, 0, 0, …\n",
      "$ informacion_y_comunicaciones                              \u001b[3m\u001b[90m<int>\u001b[39m\u001b[23m 0, 1, 0, 0, …\n",
      "$ maquinaria_industrial                                     \u001b[3m\u001b[90m<int>\u001b[39m\u001b[23m 0, 6, 0, 0, …\n",
      "$ material_de_transporte                                    \u001b[3m\u001b[90m<int>\u001b[39m\u001b[23m 0, 4, 0, 0, …\n",
      "$ material_electrico_y_electronico                          \u001b[3m\u001b[90m<int>\u001b[39m\u001b[23m 0, 3, 0, 0, …\n",
      "$ mercadillos                                               \u001b[3m\u001b[90m<int>\u001b[39m\u001b[23m 0, 1, 0, 1, …\n",
      "$ metalicas_basicas_e_intermedias                           \u001b[3m\u001b[90m<int>\u001b[39m\u001b[23m 0, 25, 0, 1,…\n",
      "$ mineria_y_suministros                                     \u001b[3m\u001b[90m<int>\u001b[39m\u001b[23m 0, 1, 0, 0, …\n",
      "$ otras_manufactureras                                      \u001b[3m\u001b[90m<int>\u001b[39m\u001b[23m 0, 14, 0, 2,…\n",
      "$ otros_servicios_bancos                                    \u001b[3m\u001b[90m<int>\u001b[39m\u001b[23m 0, 3, 0, 2, …\n",
      "$ papel_y_graficas                                          \u001b[3m\u001b[90m<int>\u001b[39m\u001b[23m 0, 14, 0, 0,…\n",
      "$ servicios_financieros                                     \u001b[3m\u001b[90m<int>\u001b[39m\u001b[23m 0, 3, 0, 4, …\n",
      "$ servicios_personales                                      \u001b[3m\u001b[90m<int>\u001b[39m\u001b[23m 0, 3, 0, 5, …\n",
      "$ servicios_recreativos                                     \u001b[3m\u001b[90m<int>\u001b[39m\u001b[23m 0, 5, 0, 4, …\n",
      "$ textil_confeccion_y_calzado                               \u001b[3m\u001b[90m<int>\u001b[39m\u001b[23m 0, 3, 0, 0, …\n",
      "$ transporte_y_almacenamiento                               \u001b[3m\u001b[90m<int>\u001b[39m\u001b[23m 0, 8, 0, 4, …\n",
      "$ actividades_inmobiliarias                                 \u001b[3m\u001b[90m<int>\u001b[39m\u001b[23m 0, 0, 0, 1, …\n",
      "$ centros_educativos_no_universitarios_centros_privados     \u001b[3m\u001b[90m<int>\u001b[39m\u001b[23m 0, 0, 0, 2, …\n",
      "$ industria_no_metalica                                     \u001b[3m\u001b[90m<int>\u001b[39m\u001b[23m 0, 0, 0, 1, …\n",
      "$ administracion_de_justicia                                \u001b[3m\u001b[90m<int>\u001b[39m\u001b[23m 0, 0, 0, 0, …\n",
      "$ agencia_tributaria                                        \u001b[3m\u001b[90m<int>\u001b[39m\u001b[23m 0, 0, 0, 0, …\n",
      "$ campus_universitarios                                     \u001b[3m\u001b[90m<int>\u001b[39m\u001b[23m 0, 0, 0, 0, …\n",
      "$ centros_educativos_universitarios                         \u001b[3m\u001b[90m<int>\u001b[39m\u001b[23m 0, 0, 0, 0, …\n",
      "$ colegios_mayores                                          \u001b[3m\u001b[90m<int>\u001b[39m\u001b[23m 0, 0, 0, 0, …\n",
      "$ galerias_de_alimentacion                                  \u001b[3m\u001b[90m<int>\u001b[39m\u001b[23m 0, 0, 0, 0, …\n",
      "$ grandes_superficies_especializadas                        \u001b[3m\u001b[90m<int>\u001b[39m\u001b[23m 0, 0, 0, 0, …\n",
      "$ hipermercados                                             \u001b[3m\u001b[90m<int>\u001b[39m\u001b[23m 0, 0, 0, 0, …\n",
      "$ mercados_de_abastos                                       \u001b[3m\u001b[90m<int>\u001b[39m\u001b[23m 0, 0, 0, 0, …\n",
      "$ agricultura_y_ganaderia                                   \u001b[3m\u001b[90m<int>\u001b[39m\u001b[23m 0, 0, 0, 0, …\n",
      "$ centros_educativos_no_universitarios_servicios_educativos \u001b[3m\u001b[90m<int>\u001b[39m\u001b[23m 0, 0, 0, 0, …\n",
      "$ seguridad_social                                          \u001b[3m\u001b[90m<int>\u001b[39m\u001b[23m 0, 0, 0, 0, …\n",
      "$ centros_comerciales                                       \u001b[3m\u001b[90m<int>\u001b[39m\u001b[23m 0, 0, 0, 0, …\n",
      "$ oficinas_de_empleo                                        \u001b[3m\u001b[90m<int>\u001b[39m\u001b[23m 0, 0, 0, 0, …\n",
      "$ embajadas_y_consulados                                    \u001b[3m\u001b[90m<int>\u001b[39m\u001b[23m 0, 0, 0, 0, …\n"
     ]
    }
   ],
   "source": [
    "glimpse(tdata_01)"
   ]
  },
  {
   "cell_type": "markdown",
   "metadata": {},
   "source": [
    "* Completar metadatos"
   ]
  },
  {
   "cell_type": "code",
   "execution_count": 46,
   "metadata": {
    "vscode": {
     "languageId": "r"
    }
   },
   "outputs": [],
   "source": [
    "tdata_02 <- tdata_02 |>\n",
    "    mutate(nombre_var = colnames(tdata_01)[3:ncol(tdata_01)]) |>\n",
    "    left_join(data |> count(Grupo, Tipo), \n",
    "                by = c(\"desc_var\" = \"Tipo\")) \n"
   ]
  },
  {
   "cell_type": "code",
   "execution_count": 47,
   "metadata": {
    "vscode": {
     "languageId": "r"
    }
   },
   "outputs": [
    {
     "name": "stdout",
     "output_type": "stream",
     "text": [
      "Rows: 47\n",
      "Columns: 4\n",
      "$ desc_var   \u001b[3m\u001b[90m<chr>\u001b[39m\u001b[23m \"ayuntamientos_consejerias_ministerios_etc\", \"sanidad_y_ser…\n",
      "$ nombre_var \u001b[3m\u001b[90m<chr>\u001b[39m\u001b[23m \"ayuntamientos_consejerias_ministerios_etc\", \"sanidad_y_ser…\n",
      "$ Grupo      \u001b[3m\u001b[90m<chr>\u001b[39m\u001b[23m NA, NA, NA, NA, NA, NA, NA, NA, NA, NA, NA, NA, NA, NA, NA,…\n",
      "$ n          \u001b[3m\u001b[90m<int>\u001b[39m\u001b[23m NA, NA, NA, NA, NA, NA, NA, NA, NA, NA, NA, NA, NA, NA, NA,…\n"
     ]
    }
   ],
   "source": [
    "glimpse(tdata_02)"
   ]
  },
  {
   "cell_type": "code",
   "execution_count": 48,
   "metadata": {
    "vscode": {
     "languageId": "r"
    }
   },
   "outputs": [
    {
     "data": {
      "text/html": [
       "<table class=\"dataframe\">\n",
       "<caption>A data.frame: 47 × 4</caption>\n",
       "<thead>\n",
       "\t<tr><th scope=col>desc_var</th><th scope=col>nombre_var</th><th scope=col>Grupo</th><th scope=col>n</th></tr>\n",
       "\t<tr><th scope=col>&lt;chr&gt;</th><th scope=col>&lt;chr&gt;</th><th scope=col>&lt;chr&gt;</th><th scope=col>&lt;int&gt;</th></tr>\n",
       "</thead>\n",
       "<tbody>\n",
       "\t<tr><td>ayuntamientos_consejerias_ministerios_etc                </td><td>ayuntamientos_consejerias_ministerios_etc                </td><td>NA</td><td>NA</td></tr>\n",
       "\t<tr><td>sanidad_y_servicios_sociales                             </td><td>sanidad_y_servicios_sociales                             </td><td>NA</td><td>NA</td></tr>\n",
       "\t<tr><td>actividades_administrativas                              </td><td>actividades_administrativas                              </td><td>NA</td><td>NA</td></tr>\n",
       "\t<tr><td>actividades_asociativas_y_hogares                        </td><td>actividades_asociativas_y_hogares                        </td><td>NA</td><td>NA</td></tr>\n",
       "\t<tr><td>actividades_profesionales                                </td><td>actividades_profesionales                                </td><td>NA</td><td>NA</td></tr>\n",
       "\t<tr><td>administraciones_publicas                                </td><td>administraciones_publicas                                </td><td>NA</td><td>NA</td></tr>\n",
       "\t<tr><td>alimentacion                                             </td><td>alimentacion                                             </td><td>NA</td><td>NA</td></tr>\n",
       "\t<tr><td>centros_educativos_no_universitarios_centros_publicos    </td><td>centros_educativos_no_universitarios_centros_publicos    </td><td>NA</td><td>NA</td></tr>\n",
       "\t<tr><td>comercio_mayorista                                       </td><td>comercio_mayorista                                       </td><td>NA</td><td>NA</td></tr>\n",
       "\t<tr><td>comercio_minorista                                       </td><td>comercio_minorista                                       </td><td>NA</td><td>NA</td></tr>\n",
       "\t<tr><td>construccion                                             </td><td>construccion                                             </td><td>NA</td><td>NA</td></tr>\n",
       "\t<tr><td>educacion                                                </td><td>educacion                                                </td><td>NA</td><td>NA</td></tr>\n",
       "\t<tr><td>hosteleria                                               </td><td>hosteleria                                               </td><td>NA</td><td>NA</td></tr>\n",
       "\t<tr><td>industria_quimica_y_refino                               </td><td>industria_quimica_y_refino                               </td><td>NA</td><td>NA</td></tr>\n",
       "\t<tr><td>informacion_y_comunicaciones                             </td><td>informacion_y_comunicaciones                             </td><td>NA</td><td>NA</td></tr>\n",
       "\t<tr><td>maquinaria_industrial                                    </td><td>maquinaria_industrial                                    </td><td>NA</td><td>NA</td></tr>\n",
       "\t<tr><td>material_de_transporte                                   </td><td>material_de_transporte                                   </td><td>NA</td><td>NA</td></tr>\n",
       "\t<tr><td>material_electrico_y_electronico                         </td><td>material_electrico_y_electronico                         </td><td>NA</td><td>NA</td></tr>\n",
       "\t<tr><td>mercadillos                                              </td><td>mercadillos                                              </td><td>NA</td><td>NA</td></tr>\n",
       "\t<tr><td>metalicas_basicas_e_intermedias                          </td><td>metalicas_basicas_e_intermedias                          </td><td>NA</td><td>NA</td></tr>\n",
       "\t<tr><td>mineria_y_suministros                                    </td><td>mineria_y_suministros                                    </td><td>NA</td><td>NA</td></tr>\n",
       "\t<tr><td>otras_manufactureras                                     </td><td>otras_manufactureras                                     </td><td>NA</td><td>NA</td></tr>\n",
       "\t<tr><td>otros_servicios_bancos                                   </td><td>otros_servicios_bancos                                   </td><td>NA</td><td>NA</td></tr>\n",
       "\t<tr><td>papel_y_graficas                                         </td><td>papel_y_graficas                                         </td><td>NA</td><td>NA</td></tr>\n",
       "\t<tr><td>servicios_financieros                                    </td><td>servicios_financieros                                    </td><td>NA</td><td>NA</td></tr>\n",
       "\t<tr><td>servicios_personales                                     </td><td>servicios_personales                                     </td><td>NA</td><td>NA</td></tr>\n",
       "\t<tr><td>servicios_recreativos                                    </td><td>servicios_recreativos                                    </td><td>NA</td><td>NA</td></tr>\n",
       "\t<tr><td>textil_confeccion_y_calzado                              </td><td>textil_confeccion_y_calzado                              </td><td>NA</td><td>NA</td></tr>\n",
       "\t<tr><td>transporte_y_almacenamiento                              </td><td>transporte_y_almacenamiento                              </td><td>NA</td><td>NA</td></tr>\n",
       "\t<tr><td>actividades_inmobiliarias                                </td><td>actividades_inmobiliarias                                </td><td>NA</td><td>NA</td></tr>\n",
       "\t<tr><td>centros_educativos_no_universitarios_centros_privados    </td><td>centros_educativos_no_universitarios_centros_privados    </td><td>NA</td><td>NA</td></tr>\n",
       "\t<tr><td>industria_no_metalica                                    </td><td>industria_no_metalica                                    </td><td>NA</td><td>NA</td></tr>\n",
       "\t<tr><td>administracion_de_justicia                               </td><td>administracion_de_justicia                               </td><td>NA</td><td>NA</td></tr>\n",
       "\t<tr><td>agencia_tributaria                                       </td><td>agencia_tributaria                                       </td><td>NA</td><td>NA</td></tr>\n",
       "\t<tr><td>campus_universitarios                                    </td><td>campus_universitarios                                    </td><td>NA</td><td>NA</td></tr>\n",
       "\t<tr><td>centros_educativos_universitarios                        </td><td>centros_educativos_universitarios                        </td><td>NA</td><td>NA</td></tr>\n",
       "\t<tr><td>colegios_mayores                                         </td><td>colegios_mayores                                         </td><td>NA</td><td>NA</td></tr>\n",
       "\t<tr><td>galerias_de_alimentacion                                 </td><td>galerias_de_alimentacion                                 </td><td>NA</td><td>NA</td></tr>\n",
       "\t<tr><td>grandes_superficies_especializadas                       </td><td>grandes_superficies_especializadas                       </td><td>NA</td><td>NA</td></tr>\n",
       "\t<tr><td>hipermercados                                            </td><td>hipermercados                                            </td><td>NA</td><td>NA</td></tr>\n",
       "\t<tr><td>mercados_de_abastos                                      </td><td>mercados_de_abastos                                      </td><td>NA</td><td>NA</td></tr>\n",
       "\t<tr><td>agricultura_y_ganaderia                                  </td><td>agricultura_y_ganaderia                                  </td><td>NA</td><td>NA</td></tr>\n",
       "\t<tr><td>centros_educativos_no_universitarios_servicios_educativos</td><td>centros_educativos_no_universitarios_servicios_educativos</td><td>NA</td><td>NA</td></tr>\n",
       "\t<tr><td>seguridad_social                                         </td><td>seguridad_social                                         </td><td>NA</td><td>NA</td></tr>\n",
       "\t<tr><td>centros_comerciales                                      </td><td>centros_comerciales                                      </td><td>NA</td><td>NA</td></tr>\n",
       "\t<tr><td>oficinas_de_empleo                                       </td><td>oficinas_de_empleo                                       </td><td>NA</td><td>NA</td></tr>\n",
       "\t<tr><td>embajadas_y_consulados                                   </td><td>embajadas_y_consulados                                   </td><td>NA</td><td>NA</td></tr>\n",
       "</tbody>\n",
       "</table>\n"
      ],
      "text/latex": [
       "A data.frame: 47 × 4\n",
       "\\begin{tabular}{llll}\n",
       " desc\\_var & nombre\\_var & Grupo & n\\\\\n",
       " <chr> & <chr> & <chr> & <int>\\\\\n",
       "\\hline\n",
       "\t ayuntamientos\\_consejerias\\_ministerios\\_etc                 & ayuntamientos\\_consejerias\\_ministerios\\_etc                 & NA & NA\\\\\n",
       "\t sanidad\\_y\\_servicios\\_sociales                              & sanidad\\_y\\_servicios\\_sociales                              & NA & NA\\\\\n",
       "\t actividades\\_administrativas                               & actividades\\_administrativas                               & NA & NA\\\\\n",
       "\t actividades\\_asociativas\\_y\\_hogares                         & actividades\\_asociativas\\_y\\_hogares                         & NA & NA\\\\\n",
       "\t actividades\\_profesionales                                 & actividades\\_profesionales                                 & NA & NA\\\\\n",
       "\t administraciones\\_publicas                                 & administraciones\\_publicas                                 & NA & NA\\\\\n",
       "\t alimentacion                                              & alimentacion                                              & NA & NA\\\\\n",
       "\t centros\\_educativos\\_no\\_universitarios\\_centros\\_publicos     & centros\\_educativos\\_no\\_universitarios\\_centros\\_publicos     & NA & NA\\\\\n",
       "\t comercio\\_mayorista                                        & comercio\\_mayorista                                        & NA & NA\\\\\n",
       "\t comercio\\_minorista                                        & comercio\\_minorista                                        & NA & NA\\\\\n",
       "\t construccion                                              & construccion                                              & NA & NA\\\\\n",
       "\t educacion                                                 & educacion                                                 & NA & NA\\\\\n",
       "\t hosteleria                                                & hosteleria                                                & NA & NA\\\\\n",
       "\t industria\\_quimica\\_y\\_refino                                & industria\\_quimica\\_y\\_refino                                & NA & NA\\\\\n",
       "\t informacion\\_y\\_comunicaciones                              & informacion\\_y\\_comunicaciones                              & NA & NA\\\\\n",
       "\t maquinaria\\_industrial                                     & maquinaria\\_industrial                                     & NA & NA\\\\\n",
       "\t material\\_de\\_transporte                                    & material\\_de\\_transporte                                    & NA & NA\\\\\n",
       "\t material\\_electrico\\_y\\_electronico                          & material\\_electrico\\_y\\_electronico                          & NA & NA\\\\\n",
       "\t mercadillos                                               & mercadillos                                               & NA & NA\\\\\n",
       "\t metalicas\\_basicas\\_e\\_intermedias                           & metalicas\\_basicas\\_e\\_intermedias                           & NA & NA\\\\\n",
       "\t mineria\\_y\\_suministros                                     & mineria\\_y\\_suministros                                     & NA & NA\\\\\n",
       "\t otras\\_manufactureras                                      & otras\\_manufactureras                                      & NA & NA\\\\\n",
       "\t otros\\_servicios\\_bancos                                    & otros\\_servicios\\_bancos                                    & NA & NA\\\\\n",
       "\t papel\\_y\\_graficas                                          & papel\\_y\\_graficas                                          & NA & NA\\\\\n",
       "\t servicios\\_financieros                                     & servicios\\_financieros                                     & NA & NA\\\\\n",
       "\t servicios\\_personales                                      & servicios\\_personales                                      & NA & NA\\\\\n",
       "\t servicios\\_recreativos                                     & servicios\\_recreativos                                     & NA & NA\\\\\n",
       "\t textil\\_confeccion\\_y\\_calzado                               & textil\\_confeccion\\_y\\_calzado                               & NA & NA\\\\\n",
       "\t transporte\\_y\\_almacenamiento                               & transporte\\_y\\_almacenamiento                               & NA & NA\\\\\n",
       "\t actividades\\_inmobiliarias                                 & actividades\\_inmobiliarias                                 & NA & NA\\\\\n",
       "\t centros\\_educativos\\_no\\_universitarios\\_centros\\_privados     & centros\\_educativos\\_no\\_universitarios\\_centros\\_privados     & NA & NA\\\\\n",
       "\t industria\\_no\\_metalica                                     & industria\\_no\\_metalica                                     & NA & NA\\\\\n",
       "\t administracion\\_de\\_justicia                                & administracion\\_de\\_justicia                                & NA & NA\\\\\n",
       "\t agencia\\_tributaria                                        & agencia\\_tributaria                                        & NA & NA\\\\\n",
       "\t campus\\_universitarios                                     & campus\\_universitarios                                     & NA & NA\\\\\n",
       "\t centros\\_educativos\\_universitarios                         & centros\\_educativos\\_universitarios                         & NA & NA\\\\\n",
       "\t colegios\\_mayores                                          & colegios\\_mayores                                          & NA & NA\\\\\n",
       "\t galerias\\_de\\_alimentacion                                  & galerias\\_de\\_alimentacion                                  & NA & NA\\\\\n",
       "\t grandes\\_superficies\\_especializadas                        & grandes\\_superficies\\_especializadas                        & NA & NA\\\\\n",
       "\t hipermercados                                             & hipermercados                                             & NA & NA\\\\\n",
       "\t mercados\\_de\\_abastos                                       & mercados\\_de\\_abastos                                       & NA & NA\\\\\n",
       "\t agricultura\\_y\\_ganaderia                                   & agricultura\\_y\\_ganaderia                                   & NA & NA\\\\\n",
       "\t centros\\_educativos\\_no\\_universitarios\\_servicios\\_educativos & centros\\_educativos\\_no\\_universitarios\\_servicios\\_educativos & NA & NA\\\\\n",
       "\t seguridad\\_social                                          & seguridad\\_social                                          & NA & NA\\\\\n",
       "\t centros\\_comerciales                                       & centros\\_comerciales                                       & NA & NA\\\\\n",
       "\t oficinas\\_de\\_empleo                                        & oficinas\\_de\\_empleo                                        & NA & NA\\\\\n",
       "\t embajadas\\_y\\_consulados                                    & embajadas\\_y\\_consulados                                    & NA & NA\\\\\n",
       "\\end{tabular}\n"
      ],
      "text/markdown": [
       "\n",
       "A data.frame: 47 × 4\n",
       "\n",
       "| desc_var &lt;chr&gt; | nombre_var &lt;chr&gt; | Grupo &lt;chr&gt; | n &lt;int&gt; |\n",
       "|---|---|---|---|\n",
       "| ayuntamientos_consejerias_ministerios_etc                 | ayuntamientos_consejerias_ministerios_etc                 | NA | NA |\n",
       "| sanidad_y_servicios_sociales                              | sanidad_y_servicios_sociales                              | NA | NA |\n",
       "| actividades_administrativas                               | actividades_administrativas                               | NA | NA |\n",
       "| actividades_asociativas_y_hogares                         | actividades_asociativas_y_hogares                         | NA | NA |\n",
       "| actividades_profesionales                                 | actividades_profesionales                                 | NA | NA |\n",
       "| administraciones_publicas                                 | administraciones_publicas                                 | NA | NA |\n",
       "| alimentacion                                              | alimentacion                                              | NA | NA |\n",
       "| centros_educativos_no_universitarios_centros_publicos     | centros_educativos_no_universitarios_centros_publicos     | NA | NA |\n",
       "| comercio_mayorista                                        | comercio_mayorista                                        | NA | NA |\n",
       "| comercio_minorista                                        | comercio_minorista                                        | NA | NA |\n",
       "| construccion                                              | construccion                                              | NA | NA |\n",
       "| educacion                                                 | educacion                                                 | NA | NA |\n",
       "| hosteleria                                                | hosteleria                                                | NA | NA |\n",
       "| industria_quimica_y_refino                                | industria_quimica_y_refino                                | NA | NA |\n",
       "| informacion_y_comunicaciones                              | informacion_y_comunicaciones                              | NA | NA |\n",
       "| maquinaria_industrial                                     | maquinaria_industrial                                     | NA | NA |\n",
       "| material_de_transporte                                    | material_de_transporte                                    | NA | NA |\n",
       "| material_electrico_y_electronico                          | material_electrico_y_electronico                          | NA | NA |\n",
       "| mercadillos                                               | mercadillos                                               | NA | NA |\n",
       "| metalicas_basicas_e_intermedias                           | metalicas_basicas_e_intermedias                           | NA | NA |\n",
       "| mineria_y_suministros                                     | mineria_y_suministros                                     | NA | NA |\n",
       "| otras_manufactureras                                      | otras_manufactureras                                      | NA | NA |\n",
       "| otros_servicios_bancos                                    | otros_servicios_bancos                                    | NA | NA |\n",
       "| papel_y_graficas                                          | papel_y_graficas                                          | NA | NA |\n",
       "| servicios_financieros                                     | servicios_financieros                                     | NA | NA |\n",
       "| servicios_personales                                      | servicios_personales                                      | NA | NA |\n",
       "| servicios_recreativos                                     | servicios_recreativos                                     | NA | NA |\n",
       "| textil_confeccion_y_calzado                               | textil_confeccion_y_calzado                               | NA | NA |\n",
       "| transporte_y_almacenamiento                               | transporte_y_almacenamiento                               | NA | NA |\n",
       "| actividades_inmobiliarias                                 | actividades_inmobiliarias                                 | NA | NA |\n",
       "| centros_educativos_no_universitarios_centros_privados     | centros_educativos_no_universitarios_centros_privados     | NA | NA |\n",
       "| industria_no_metalica                                     | industria_no_metalica                                     | NA | NA |\n",
       "| administracion_de_justicia                                | administracion_de_justicia                                | NA | NA |\n",
       "| agencia_tributaria                                        | agencia_tributaria                                        | NA | NA |\n",
       "| campus_universitarios                                     | campus_universitarios                                     | NA | NA |\n",
       "| centros_educativos_universitarios                         | centros_educativos_universitarios                         | NA | NA |\n",
       "| colegios_mayores                                          | colegios_mayores                                          | NA | NA |\n",
       "| galerias_de_alimentacion                                  | galerias_de_alimentacion                                  | NA | NA |\n",
       "| grandes_superficies_especializadas                        | grandes_superficies_especializadas                        | NA | NA |\n",
       "| hipermercados                                             | hipermercados                                             | NA | NA |\n",
       "| mercados_de_abastos                                       | mercados_de_abastos                                       | NA | NA |\n",
       "| agricultura_y_ganaderia                                   | agricultura_y_ganaderia                                   | NA | NA |\n",
       "| centros_educativos_no_universitarios_servicios_educativos | centros_educativos_no_universitarios_servicios_educativos | NA | NA |\n",
       "| seguridad_social                                          | seguridad_social                                          | NA | NA |\n",
       "| centros_comerciales                                       | centros_comerciales                                       | NA | NA |\n",
       "| oficinas_de_empleo                                        | oficinas_de_empleo                                        | NA | NA |\n",
       "| embajadas_y_consulados                                    | embajadas_y_consulados                                    | NA | NA |\n",
       "\n"
      ],
      "text/plain": [
       "   desc_var                                                 \n",
       "1  ayuntamientos_consejerias_ministerios_etc                \n",
       "2  sanidad_y_servicios_sociales                             \n",
       "3  actividades_administrativas                              \n",
       "4  actividades_asociativas_y_hogares                        \n",
       "5  actividades_profesionales                                \n",
       "6  administraciones_publicas                                \n",
       "7  alimentacion                                             \n",
       "8  centros_educativos_no_universitarios_centros_publicos    \n",
       "9  comercio_mayorista                                       \n",
       "10 comercio_minorista                                       \n",
       "11 construccion                                             \n",
       "12 educacion                                                \n",
       "13 hosteleria                                               \n",
       "14 industria_quimica_y_refino                               \n",
       "15 informacion_y_comunicaciones                             \n",
       "16 maquinaria_industrial                                    \n",
       "17 material_de_transporte                                   \n",
       "18 material_electrico_y_electronico                         \n",
       "19 mercadillos                                              \n",
       "20 metalicas_basicas_e_intermedias                          \n",
       "21 mineria_y_suministros                                    \n",
       "22 otras_manufactureras                                     \n",
       "23 otros_servicios_bancos                                   \n",
       "24 papel_y_graficas                                         \n",
       "25 servicios_financieros                                    \n",
       "26 servicios_personales                                     \n",
       "27 servicios_recreativos                                    \n",
       "28 textil_confeccion_y_calzado                              \n",
       "29 transporte_y_almacenamiento                              \n",
       "30 actividades_inmobiliarias                                \n",
       "31 centros_educativos_no_universitarios_centros_privados    \n",
       "32 industria_no_metalica                                    \n",
       "33 administracion_de_justicia                               \n",
       "34 agencia_tributaria                                       \n",
       "35 campus_universitarios                                    \n",
       "36 centros_educativos_universitarios                        \n",
       "37 colegios_mayores                                         \n",
       "38 galerias_de_alimentacion                                 \n",
       "39 grandes_superficies_especializadas                       \n",
       "40 hipermercados                                            \n",
       "41 mercados_de_abastos                                      \n",
       "42 agricultura_y_ganaderia                                  \n",
       "43 centros_educativos_no_universitarios_servicios_educativos\n",
       "44 seguridad_social                                         \n",
       "45 centros_comerciales                                      \n",
       "46 oficinas_de_empleo                                       \n",
       "47 embajadas_y_consulados                                   \n",
       "   nombre_var                                                Grupo n \n",
       "1  ayuntamientos_consejerias_ministerios_etc                 NA    NA\n",
       "2  sanidad_y_servicios_sociales                              NA    NA\n",
       "3  actividades_administrativas                               NA    NA\n",
       "4  actividades_asociativas_y_hogares                         NA    NA\n",
       "5  actividades_profesionales                                 NA    NA\n",
       "6  administraciones_publicas                                 NA    NA\n",
       "7  alimentacion                                              NA    NA\n",
       "8  centros_educativos_no_universitarios_centros_publicos     NA    NA\n",
       "9  comercio_mayorista                                        NA    NA\n",
       "10 comercio_minorista                                        NA    NA\n",
       "11 construccion                                              NA    NA\n",
       "12 educacion                                                 NA    NA\n",
       "13 hosteleria                                                NA    NA\n",
       "14 industria_quimica_y_refino                                NA    NA\n",
       "15 informacion_y_comunicaciones                              NA    NA\n",
       "16 maquinaria_industrial                                     NA    NA\n",
       "17 material_de_transporte                                    NA    NA\n",
       "18 material_electrico_y_electronico                          NA    NA\n",
       "19 mercadillos                                               NA    NA\n",
       "20 metalicas_basicas_e_intermedias                           NA    NA\n",
       "21 mineria_y_suministros                                     NA    NA\n",
       "22 otras_manufactureras                                      NA    NA\n",
       "23 otros_servicios_bancos                                    NA    NA\n",
       "24 papel_y_graficas                                          NA    NA\n",
       "25 servicios_financieros                                     NA    NA\n",
       "26 servicios_personales                                      NA    NA\n",
       "27 servicios_recreativos                                     NA    NA\n",
       "28 textil_confeccion_y_calzado                               NA    NA\n",
       "29 transporte_y_almacenamiento                               NA    NA\n",
       "30 actividades_inmobiliarias                                 NA    NA\n",
       "31 centros_educativos_no_universitarios_centros_privados     NA    NA\n",
       "32 industria_no_metalica                                     NA    NA\n",
       "33 administracion_de_justicia                                NA    NA\n",
       "34 agencia_tributaria                                        NA    NA\n",
       "35 campus_universitarios                                     NA    NA\n",
       "36 centros_educativos_universitarios                         NA    NA\n",
       "37 colegios_mayores                                          NA    NA\n",
       "38 galerias_de_alimentacion                                  NA    NA\n",
       "39 grandes_superficies_especializadas                        NA    NA\n",
       "40 hipermercados                                             NA    NA\n",
       "41 mercados_de_abastos                                       NA    NA\n",
       "42 agricultura_y_ganaderia                                   NA    NA\n",
       "43 centros_educativos_no_universitarios_servicios_educativos NA    NA\n",
       "44 seguridad_social                                          NA    NA\n",
       "45 centros_comerciales                                       NA    NA\n",
       "46 oficinas_de_empleo                                        NA    NA\n",
       "47 embajadas_y_consulados                                    NA    NA"
      ]
     },
     "metadata": {},
     "output_type": "display_data"
    }
   ],
   "source": [
    "tdata_02"
   ]
  },
  {
   "cell_type": "markdown",
   "metadata": {},
   "source": [
    "Si no aplica: Estos datos no requieren tareas de este tipo."
   ]
  },
  {
   "cell_type": "markdown",
   "metadata": {
    "slideshow": {
     "slide_type": "slide"
    }
   },
   "source": [
    "## Synthetic Data Generation"
   ]
  },
  {
   "cell_type": "markdown",
   "metadata": {},
   "source": [
    "Estos datos no requieren tareas de este tipo."
   ]
  },
  {
   "cell_type": "markdown",
   "metadata": {
    "slideshow": {
     "slide_type": "slide"
    }
   },
   "source": [
    "## Fake Data Generation"
   ]
  },
  {
   "cell_type": "markdown",
   "metadata": {
    "slideshow": {
     "slide_type": "slide"
    }
   },
   "source": [
    "Estos datos no requieren tareas de este tipo."
   ]
  },
  {
   "cell_type": "markdown",
   "metadata": {
    "slideshow": {
     "slide_type": "slide"
    }
   },
   "source": [
    "## Open Data"
   ]
  },
  {
   "cell_type": "markdown",
   "metadata": {
    "slideshow": {
     "slide_type": "slide"
    }
   },
   "source": [
    "Estos datos no requieren tareas de este tipo."
   ]
  },
  {
   "cell_type": "markdown",
   "metadata": {},
   "source": [
    "## <font color='green'>Data Save</font>"
   ]
  },
  {
   "cell_type": "markdown",
   "metadata": {},
   "source": [
    "Este proceso, puede copiarse y repetirse en aquellas partes del notebbok que necesiten guardar datos.\n",
    "Recuerde cambiar las cadenas añadida del fichero para diferenciarlas"
   ]
  },
  {
   "cell_type": "markdown",
   "metadata": {},
   "source": [
    "<font color='tomato'> Identificamos los datos a guardar</font>"
   ]
  },
  {
   "cell_type": "markdown",
   "metadata": {},
   "source": [
    "1. Infraestructuras agregadas por distrito"
   ]
  },
  {
   "cell_type": "code",
   "execution_count": 26,
   "metadata": {
    "ExecuteTime": {
     "end_time": "2020-12-25T17:59:27.022001Z",
     "start_time": "2020-12-25T17:59:15.986986Z"
    },
    "scrolled": false,
    "vscode": {
     "languageId": "r"
    }
   },
   "outputs": [],
   "source": [
    "data_to_save <- tdata_01"
   ]
  },
  {
   "cell_type": "markdown",
   "metadata": {},
   "source": [
    "\n",
    "<font color='tomato'>Estructura de nombre de archivos:</font>\n",
    "\n",
    "* Código del caso de uso, por ejemplo \"CU_04\"\n",
    "* Número del proceso que lo genera, por ejemplo \"_05\".\n",
    "* Número de la tarea que lo genera, por ejemplo \"_01\"\n",
    "* En caso de generarse varios ficheros en la misma tarea, llevarán _01 _02 ... después\n",
    "* Nombre: identificativo de \"properData\", por ejemplo \"_zonasgeo\"\n",
    "* Extensión del archivo\n",
    "\n",
    "Ejemplo: \"CU_04_05_01_01_zonasgeo.json, primer fichero que se genera en la tarea 01 del proceso 05 (Data Collection) para el caso de uso 04 (vacunas)\n",
    "\n",
    "Importante mantener los guiones bajos antes de proceso, tarea, archivo y nombre"
   ]
  },
  {
   "cell_type": "markdown",
   "metadata": {},
   "source": [
    "### Proceso 05"
   ]
  },
  {
   "cell_type": "code",
   "execution_count": 30,
   "metadata": {
    "ExecuteTime": {
     "end_time": "2020-12-25T17:59:27.022001Z",
     "start_time": "2020-12-25T17:59:15.986986Z"
    },
    "scrolled": false,
    "vscode": {
     "languageId": "r"
    }
   },
   "outputs": [],
   "source": [
    "caso <- \"CU_18\"\n",
    "proceso <- '_05'\n",
    "tarea <- \"_09\"\n",
    "archivo <- \"_01\"\n",
    "proper <- \"_distritos_adm\"\n",
    "extension <- \".csv\""
   ]
  },
  {
   "cell_type": "markdown",
   "metadata": {},
   "source": [
    "<font color='tomato'><b> OPCION A:</b> Uso del paquete \"tcltk\" para mayor comodidad</font>\n",
    "\n",
    "* Buscar carpeta, escribir nombre de archivo SIN extensión (se especifica en el código)\n",
    "* Especificar sufijo2 si es necesario\n",
    "* Cambiar datos por datos_xx si es necesario"
   ]
  },
  {
   "cell_type": "code",
   "execution_count": null,
   "metadata": {
    "ExecuteTime": {
     "end_time": "2020-12-25T17:59:27.022001Z",
     "start_time": "2020-12-25T17:59:15.986986Z"
    },
    "scrolled": false,
    "vscode": {
     "languageId": "r"
    }
   },
   "outputs": [],
   "source": [
    "# file_save_01 <- paste0(caso, proceso, tarea, tcltk::tkgetSaveFile(), proper, extension) \n",
    "# path_out_01 <- paste0(oPath, file_save_01)\n",
    "# write_csv(data_to_save, path_out_01)\n",
    "\n",
    "# cat('File saved as: ')\n",
    "# path_out"
   ]
  },
  {
   "cell_type": "markdown",
   "metadata": {},
   "source": [
    "<font color='tomato'><b> OPCION B:</b> Especificar el nombre de archivo</font>"
   ]
  },
  {
   "cell_type": "markdown",
   "metadata": {},
   "source": [
    "- Los ficheros de salida del proceso van siempre a Data/Output/.  "
   ]
  },
  {
   "cell_type": "code",
   "execution_count": 31,
   "metadata": {
    "ExecuteTime": {
     "end_time": "2021-01-26T18:40:31.258294Z",
     "start_time": "2021-01-26T18:40:26.061847Z"
    },
    "slideshow": {
     "slide_type": "-"
    },
    "vscode": {
     "languageId": "r"
    }
   },
   "outputs": [
    {
     "name": "stdout",
     "output_type": "stream",
     "text": [
      "File saved as: "
     ]
    },
    {
     "data": {
      "text/html": [
       "'Data/Output/CU_18_05_09_01_distritos_adm.csv'"
      ],
      "text/latex": [
       "'Data/Output/CU\\_18\\_05\\_09\\_01\\_distritos\\_adm.csv'"
      ],
      "text/markdown": [
       "'Data/Output/CU_18_05_09_01_distritos_adm.csv'"
      ],
      "text/plain": [
       "[1] \"Data/Output/CU_18_05_09_01_distritos_adm.csv\""
      ]
     },
     "metadata": {},
     "output_type": "display_data"
    }
   ],
   "source": [
    "file_save_01 <- paste0(caso, proceso, tarea, archivo, proper, extension) \n",
    "path_out_01 <- paste0(oPath, file_save_01)\n",
    "write_csv(data_to_save, path_out_01)\n",
    "\n",
    "cat('File saved as: ')\n",
    "path_out_01"
   ]
  },
  {
   "cell_type": "markdown",
   "metadata": {},
   "source": [
    "#### Copia del fichero a Input\n",
    "\n",
    "Si el archivo se va a usar en otros notebooks, copiar a la carpeta Input"
   ]
  },
  {
   "cell_type": "code",
   "execution_count": 32,
   "metadata": {
    "vscode": {
     "languageId": "r"
    }
   },
   "outputs": [
    {
     "data": {
      "text/html": [
       "TRUE"
      ],
      "text/latex": [
       "TRUE"
      ],
      "text/markdown": [
       "TRUE"
      ],
      "text/plain": [
       "[1] TRUE"
      ]
     },
     "metadata": {},
     "output_type": "display_data"
    }
   ],
   "source": [
    "path_in_01 <- paste0(iPath, file_save_01)\n",
    "file.copy(path_out_01, path_in_01, overwrite = TRUE)"
   ]
  },
  {
   "cell_type": "markdown",
   "metadata": {},
   "source": [
    "2. Metadatos de infraestructuras"
   ]
  },
  {
   "cell_type": "code",
   "execution_count": 49,
   "metadata": {
    "ExecuteTime": {
     "end_time": "2020-12-25T17:59:27.022001Z",
     "start_time": "2020-12-25T17:59:15.986986Z"
    },
    "scrolled": false,
    "vscode": {
     "languageId": "r"
    }
   },
   "outputs": [],
   "source": [
    "data_to_save_02 <- tdata_02"
   ]
  },
  {
   "cell_type": "code",
   "execution_count": 50,
   "metadata": {
    "ExecuteTime": {
     "end_time": "2020-12-25T17:59:27.022001Z",
     "start_time": "2020-12-25T17:59:15.986986Z"
    },
    "scrolled": false,
    "vscode": {
     "languageId": "r"
    }
   },
   "outputs": [],
   "source": [
    "archivo <- \"_02\"\n",
    "proper <- \"_admin_meta\"\n",
    "extension <- \".csv\""
   ]
  },
  {
   "cell_type": "markdown",
   "metadata": {},
   "source": [
    "<font color='tomato'><b> OPCION A:</b> Uso del paquete \"tcltk\" para mayor comodidad</font>\n",
    "\n",
    "* Buscar carpeta, escribir nombre de archivo SIN extensión (se especifica en el código)\n",
    "* Especificar sufijo2 si es necesario\n",
    "* Cambiar datos por datos_xx si es necesario"
   ]
  },
  {
   "cell_type": "code",
   "execution_count": null,
   "metadata": {
    "ExecuteTime": {
     "end_time": "2020-12-25T17:59:27.022001Z",
     "start_time": "2020-12-25T17:59:15.986986Z"
    },
    "scrolled": false,
    "vscode": {
     "languageId": "r"
    }
   },
   "outputs": [],
   "source": [
    "# file_save_02 <- paste0(caso, proceso, tarea, tcltk::tkgetSaveFile(), proper, extension) \n",
    "# path_out_02 <- paste0(oPath, file_save_02)\n",
    "# write_csv(data_to_save_02, path_out_02)\n",
    "\n",
    "# cat('File saved as: ')\n",
    "# path_out"
   ]
  },
  {
   "cell_type": "markdown",
   "metadata": {},
   "source": [
    "<font color='tomato'><b> OPCION B:</b> Especificar el nombre de archivo</font>"
   ]
  },
  {
   "cell_type": "markdown",
   "metadata": {},
   "source": [
    "- Los ficheros de salida del proceso van siempre a Data/Output/.  "
   ]
  },
  {
   "cell_type": "code",
   "execution_count": 51,
   "metadata": {
    "ExecuteTime": {
     "end_time": "2021-01-26T18:40:31.258294Z",
     "start_time": "2021-01-26T18:40:26.061847Z"
    },
    "slideshow": {
     "slide_type": "-"
    },
    "vscode": {
     "languageId": "r"
    }
   },
   "outputs": [
    {
     "name": "stdout",
     "output_type": "stream",
     "text": [
      "File saved as: "
     ]
    },
    {
     "data": {
      "text/html": [
       "'Data/Output/CU_18_05_09_02_admin_meta.csv'"
      ],
      "text/latex": [
       "'Data/Output/CU\\_18\\_05\\_09\\_02\\_admin\\_meta.csv'"
      ],
      "text/markdown": [
       "'Data/Output/CU_18_05_09_02_admin_meta.csv'"
      ],
      "text/plain": [
       "[1] \"Data/Output/CU_18_05_09_02_admin_meta.csv\""
      ]
     },
     "metadata": {},
     "output_type": "display_data"
    }
   ],
   "source": [
    "file_save_02 <- paste0(caso, proceso, tarea, archivo, proper, extension) \n",
    "path_out_02 <- paste0(oPath, file_save_02)\n",
    "write_csv(data_to_save_02, path_out_02)\n",
    "\n",
    "cat('File saved as: ')\n",
    "path_out_02"
   ]
  },
  {
   "cell_type": "markdown",
   "metadata": {},
   "source": [
    "#### Copia del fichero a Input\n",
    "\n",
    "Si el archivo se va a usar en otros notebooks, copiar a la carpeta Input"
   ]
  },
  {
   "cell_type": "code",
   "execution_count": 38,
   "metadata": {
    "vscode": {
     "languageId": "r"
    }
   },
   "outputs": [
    {
     "data": {
      "text/html": [
       "TRUE"
      ],
      "text/latex": [
       "TRUE"
      ],
      "text/markdown": [
       "TRUE"
      ],
      "text/plain": [
       "[1] TRUE"
      ]
     },
     "metadata": {},
     "output_type": "display_data"
    }
   ],
   "source": [
    "path_in_02 <- paste0(iPath, file_save_02)\n",
    "file.copy(path_out_02, path_in_02, overwrite = TRUE)"
   ]
  },
  {
   "cell_type": "markdown",
   "metadata": {},
   "source": [
    "## <font color=' #2874a6 '>Main Conclusions</font>"
   ]
  },
  {
   "cell_type": "markdown",
   "metadata": {
    "slideshow": {
     "slide_type": "slide"
    }
   },
   "source": [
    "<font color='steelblue'>List and describe the general conclusions of the analysis carried out​.</font>"
   ]
  },
  {
   "cell_type": "markdown",
   "metadata": {},
   "source": [
    "### Prerequisites\n",
    "\n",
    "This working code needs the following conditions:\n",
    "\n",
    "* For using the interactive selection of file, the {tcltk} package must be installed. It is not needed in production.\n",
    "* The {readr}, {dplyr}, {tidyr} and {janitor} packages must be installed. \n",
    "* The data paths `Data/Input` and `Data/Output` must exist (relative to the notebook path)"
   ]
  },
  {
   "cell_type": "markdown",
   "metadata": {},
   "source": [
    "### Configuration Management\n",
    "\n",
    "This notebook has been tested with the following versions of R and packages. It cannot be assured that later versions work in the same way:\n",
    "* R 4.2.2\n",
    "* tcltk 4.2.2\n",
    "* tidyr 1.3.0\n",
    "* dplyr 1.0.10\n",
    "* janitor 2.1.0\n",
    "* readr 2.1.3"
   ]
  },
  {
   "cell_type": "markdown",
   "metadata": {},
   "source": [
    "### Data structures"
   ]
  },
  {
   "cell_type": "markdown",
   "metadata": {},
   "source": [
    "#### Objeto `tdata_01`\n",
    "\n",
    "- Tenemos 246 filas, una por distrito, con los recuentos de cada uno de los tipos de infraestructuras (12)\n",
    "\n"
   ]
  },
  {
   "cell_type": "code",
   "execution_count": 41,
   "metadata": {
    "scrolled": true,
    "vscode": {
     "languageId": "r"
    }
   },
   "outputs": [
    {
     "name": "stdout",
     "output_type": "stream",
     "text": [
      "Rows: 246\n",
      "Columns: 49\n",
      "$ cmun                                                      \u001b[3m\u001b[90m<chr>\u001b[39m\u001b[23m \"001\", \"002\"…\n",
      "$ cdis                                                      \u001b[3m\u001b[90m<chr>\u001b[39m\u001b[23m \"01\", \"01\", …\n",
      "$ ayuntamientos_consejerias_ministerios_etc                 \u001b[3m\u001b[90m<int>\u001b[39m\u001b[23m 1, 1, 1, 1, …\n",
      "$ sanidad_y_servicios_sociales                              \u001b[3m\u001b[90m<int>\u001b[39m\u001b[23m 1, 8, 0, 10,…\n",
      "$ actividades_administrativas                               \u001b[3m\u001b[90m<int>\u001b[39m\u001b[23m 0, 13, 0, 2,…\n",
      "$ actividades_asociativas_y_hogares                         \u001b[3m\u001b[90m<int>\u001b[39m\u001b[23m 0, 2, 0, 2, …\n",
      "$ actividades_profesionales                                 \u001b[3m\u001b[90m<int>\u001b[39m\u001b[23m 0, 11, 1, 3,…\n",
      "$ administraciones_publicas                                 \u001b[3m\u001b[90m<int>\u001b[39m\u001b[23m 0, 2, 2, 2, …\n",
      "$ alimentacion                                              \u001b[3m\u001b[90m<int>\u001b[39m\u001b[23m 0, 2, 0, 0, …\n",
      "$ centros_educativos_no_universitarios_centros_publicos     \u001b[3m\u001b[90m<int>\u001b[39m\u001b[23m 0, 3, 0, 4, …\n",
      "$ comercio_mayorista                                        \u001b[3m\u001b[90m<int>\u001b[39m\u001b[23m 0, 34, 0, 3,…\n",
      "$ comercio_minorista                                        \u001b[3m\u001b[90m<int>\u001b[39m\u001b[23m 0, 22, 0, 10…\n",
      "$ construccion                                              \u001b[3m\u001b[90m<int>\u001b[39m\u001b[23m 0, 22, 0, 16…\n",
      "$ educacion                                                 \u001b[3m\u001b[90m<int>\u001b[39m\u001b[23m 0, 4, 0, 6, …\n",
      "$ hosteleria                                                \u001b[3m\u001b[90m<int>\u001b[39m\u001b[23m 0, 2, 4, 12,…\n",
      "$ industria_quimica_y_refino                                \u001b[3m\u001b[90m<int>\u001b[39m\u001b[23m 0, 3, 0, 0, …\n",
      "$ informacion_y_comunicaciones                              \u001b[3m\u001b[90m<int>\u001b[39m\u001b[23m 0, 1, 0, 0, …\n",
      "$ maquinaria_industrial                                     \u001b[3m\u001b[90m<int>\u001b[39m\u001b[23m 0, 6, 0, 0, …\n",
      "$ material_de_transporte                                    \u001b[3m\u001b[90m<int>\u001b[39m\u001b[23m 0, 4, 0, 0, …\n",
      "$ material_electrico_y_electronico                          \u001b[3m\u001b[90m<int>\u001b[39m\u001b[23m 0, 3, 0, 0, …\n",
      "$ mercadillos                                               \u001b[3m\u001b[90m<int>\u001b[39m\u001b[23m 0, 1, 0, 1, …\n",
      "$ metalicas_basicas_e_intermedias                           \u001b[3m\u001b[90m<int>\u001b[39m\u001b[23m 0, 25, 0, 1,…\n",
      "$ mineria_y_suministros                                     \u001b[3m\u001b[90m<int>\u001b[39m\u001b[23m 0, 1, 0, 0, …\n",
      "$ otras_manufactureras                                      \u001b[3m\u001b[90m<int>\u001b[39m\u001b[23m 0, 14, 0, 2,…\n",
      "$ otros_servicios_bancos                                    \u001b[3m\u001b[90m<int>\u001b[39m\u001b[23m 0, 3, 0, 2, …\n",
      "$ papel_y_graficas                                          \u001b[3m\u001b[90m<int>\u001b[39m\u001b[23m 0, 14, 0, 0,…\n",
      "$ servicios_financieros                                     \u001b[3m\u001b[90m<int>\u001b[39m\u001b[23m 0, 3, 0, 4, …\n",
      "$ servicios_personales                                      \u001b[3m\u001b[90m<int>\u001b[39m\u001b[23m 0, 3, 0, 5, …\n",
      "$ servicios_recreativos                                     \u001b[3m\u001b[90m<int>\u001b[39m\u001b[23m 0, 5, 0, 4, …\n",
      "$ textil_confeccion_y_calzado                               \u001b[3m\u001b[90m<int>\u001b[39m\u001b[23m 0, 3, 0, 0, …\n",
      "$ transporte_y_almacenamiento                               \u001b[3m\u001b[90m<int>\u001b[39m\u001b[23m 0, 8, 0, 4, …\n",
      "$ actividades_inmobiliarias                                 \u001b[3m\u001b[90m<int>\u001b[39m\u001b[23m 0, 0, 0, 1, …\n",
      "$ centros_educativos_no_universitarios_centros_privados     \u001b[3m\u001b[90m<int>\u001b[39m\u001b[23m 0, 0, 0, 2, …\n",
      "$ industria_no_metalica                                     \u001b[3m\u001b[90m<int>\u001b[39m\u001b[23m 0, 0, 0, 1, …\n",
      "$ administracion_de_justicia                                \u001b[3m\u001b[90m<int>\u001b[39m\u001b[23m 0, 0, 0, 0, …\n",
      "$ agencia_tributaria                                        \u001b[3m\u001b[90m<int>\u001b[39m\u001b[23m 0, 0, 0, 0, …\n",
      "$ campus_universitarios                                     \u001b[3m\u001b[90m<int>\u001b[39m\u001b[23m 0, 0, 0, 0, …\n",
      "$ centros_educativos_universitarios                         \u001b[3m\u001b[90m<int>\u001b[39m\u001b[23m 0, 0, 0, 0, …\n",
      "$ colegios_mayores                                          \u001b[3m\u001b[90m<int>\u001b[39m\u001b[23m 0, 0, 0, 0, …\n",
      "$ galerias_de_alimentacion                                  \u001b[3m\u001b[90m<int>\u001b[39m\u001b[23m 0, 0, 0, 0, …\n",
      "$ grandes_superficies_especializadas                        \u001b[3m\u001b[90m<int>\u001b[39m\u001b[23m 0, 0, 0, 0, …\n",
      "$ hipermercados                                             \u001b[3m\u001b[90m<int>\u001b[39m\u001b[23m 0, 0, 0, 0, …\n",
      "$ mercados_de_abastos                                       \u001b[3m\u001b[90m<int>\u001b[39m\u001b[23m 0, 0, 0, 0, …\n",
      "$ agricultura_y_ganaderia                                   \u001b[3m\u001b[90m<int>\u001b[39m\u001b[23m 0, 0, 0, 0, …\n",
      "$ centros_educativos_no_universitarios_servicios_educativos \u001b[3m\u001b[90m<int>\u001b[39m\u001b[23m 0, 0, 0, 0, …\n",
      "$ seguridad_social                                          \u001b[3m\u001b[90m<int>\u001b[39m\u001b[23m 0, 0, 0, 0, …\n",
      "$ centros_comerciales                                       \u001b[3m\u001b[90m<int>\u001b[39m\u001b[23m 0, 0, 0, 0, …\n",
      "$ oficinas_de_empleo                                        \u001b[3m\u001b[90m<int>\u001b[39m\u001b[23m 0, 0, 0, 0, …\n",
      "$ embajadas_y_consulados                                    \u001b[3m\u001b[90m<int>\u001b[39m\u001b[23m 0, 0, 0, 0, …\n"
     ]
    }
   ],
   "source": [
    "glimpse(tdata_01)"
   ]
  },
  {
   "cell_type": "markdown",
   "metadata": {},
   "source": [
    "## Objeto `tdata_02`\n",
    "\n",
    "- Tenemos 12 filas, una por tipo de infraestructura, con sus metadatos\n",
    "\n"
   ]
  },
  {
   "cell_type": "code",
   "execution_count": 40,
   "metadata": {
    "vscode": {
     "languageId": "r"
    }
   },
   "outputs": [
    {
     "name": "stdout",
     "output_type": "stream",
     "text": [
      "Rows: 47\n",
      "Columns: 6\n",
      "$ desc_var   \u001b[3m\u001b[90m<chr>\u001b[39m\u001b[23m \"Ayuntamientos, Consejerías, Ministerios, etc.\", \"Sanidad y…\n",
      "$ nombre_var \u001b[3m\u001b[90m<chr>\u001b[39m\u001b[23m \"ayuntamientos_consejerias_ministerios_etc\", \"sanidad_y_ser…\n",
      "$ Grupo.x    \u001b[3m\u001b[90m<chr>\u001b[39m\u001b[23m \"Administración pública\", \"Colectivo empresarial por tamaño…\n",
      "$ n.x        \u001b[3m\u001b[90m<int>\u001b[39m\u001b[23m 245, 6422, 7265, 3103, 10696, 965, 806, 1983, 7391, 16908, …\n",
      "$ Grupo.y    \u001b[3m\u001b[90m<chr>\u001b[39m\u001b[23m \"Administración pública\", \"Colectivo empresarial por tamaño…\n",
      "$ n.y        \u001b[3m\u001b[90m<int>\u001b[39m\u001b[23m 245, 6422, 7265, 3103, 10696, 965, 806, 1983, 7391, 16908, …\n"
     ]
    }
   ],
   "source": [
    "glimpse(tdata_02)"
   ]
  },
  {
   "cell_type": "markdown",
   "metadata": {},
   "source": [
    "#### Observaciones generales sobre los datos\n",
    "\n",
    "* No aplica"
   ]
  },
  {
   "cell_type": "markdown",
   "metadata": {},
   "source": [
    "### Consideraciones para despliegue en piloto\n",
    "\n",
    "* Utilizar los metadatos para etiquetar gráficos y otras salidas."
   ]
  },
  {
   "cell_type": "markdown",
   "metadata": {},
   "source": [
    "### Consideraciones para despliegue en producción\n",
    "\n",
    "* No aplica"
   ]
  },
  {
   "cell_type": "markdown",
   "metadata": {},
   "source": [
    "## <font color=' #2874a6 '>Main Actions</font>"
   ]
  },
  {
   "cell_type": "markdown",
   "metadata": {},
   "source": [
    "#### <font color=' #2874a6 '>Acciones done</font>"
   ]
  },
  {
   "cell_type": "markdown",
   "metadata": {
    "slideshow": {
     "slide_type": "slide"
    }
   },
   "source": [
    "<font color='steelblue'>Indicate the actions that have been carried out in this process</font>"
   ]
  },
  {
   "cell_type": "markdown",
   "metadata": {},
   "source": [
    "- Se han agrupado las infraesctructuras por distrito\n",
    "- Se han calculado el número de infraestructuras por tipo en cada distrito"
   ]
  },
  {
   "cell_type": "markdown",
   "metadata": {},
   "source": [
    "#### <font color=' #2874a6 '>Acctions to perform</font>"
   ]
  },
  {
   "cell_type": "markdown",
   "metadata": {
    "slideshow": {
     "slide_type": "slide"
    }
   },
   "source": [
    "<font color='steelblue'>Indicate the actions that must be carried out in subsequent processes</font>"
   ]
  },
  {
   "cell_type": "markdown",
   "metadata": {},
   "source": [
    "- Los datos se unirán a los de infraestructuras para ajustar los modelos"
   ]
  },
  {
   "cell_type": "markdown",
   "metadata": {},
   "source": [
    "## <font color='RED'>CODE TO DEPLOY (PILOT)</font>\n",
    "\n",
    "A continuación se incluirá el código que deba ser llevado a despliegue para producción, dado que se entiende efectúa operaciones necesarias sobre los datos en la ejecución del prototipo"
   ]
  },
  {
   "cell_type": "markdown",
   "metadata": {},
   "source": [
    "<font color=' red '><b>Description</b></font>\n",
    "\n",
    "- No hay nada que desplegar en el piloto, ya que estos datos son estáticos o en todo caso cambian con muy poca frecuencia, altamente improbable durante el proyecto.\n"
   ]
  },
  {
   "cell_type": "markdown",
   "metadata": {},
   "source": [
    "<font color=' red '><b>CODE</b></font>"
   ]
  },
  {
   "cell_type": "code",
   "execution_count": null,
   "metadata": {
    "vscode": {
     "languageId": "r"
    }
   },
   "outputs": [],
   "source": [
    "# incluir código"
   ]
  }
 ],
 "metadata": {
  "anaconda-cloud": {},
  "celltoolbar": "Slideshow",
  "hide_input": false,
  "kernelspec": {
   "display_name": "R",
   "language": "R",
   "name": "ir"
  },
  "language_info": {
   "codemirror_mode": "r",
   "file_extension": ".r",
   "mimetype": "text/x-r-source",
   "name": "R",
   "pygments_lexer": "r",
   "version": "4.2.2"
  },
  "latex_envs": {
   "LaTeX_envs_menu_present": true,
   "autoclose": false,
   "autocomplete": true,
   "bibliofile": "biblio.bib",
   "cite_by": "apalike",
   "current_citInitial": 1,
   "eqLabelWithNumbers": true,
   "eqNumInitial": 1,
   "hotkeys": {
    "equation": "Ctrl-E",
    "itemize": "Ctrl-I"
   },
   "labels_anchors": false,
   "latex_user_defs": false,
   "report_style_numbering": true,
   "user_envs_cfg": false
  },
  "toc": {
   "base_numbering": 1,
   "nav_menu": {
    "height": "11.6px",
    "width": "160px"
   },
   "number_sections": false,
   "sideBar": true,
   "skip_h1_title": true,
   "title_cell": "Table of Contents",
   "title_sidebar": "Contents",
   "toc_cell": true,
   "toc_position": {
    "height": "calc(100% - 180px)",
    "left": "10px",
    "top": "150px",
    "width": "209.2px"
   },
   "toc_section_display": true,
   "toc_window_display": true
  },
  "varInspector": {
   "cols": {
    "lenName": 16,
    "lenType": 16,
    "lenVar": 40
   },
   "kernels_config": {
    "python": {
     "delete_cmd_postfix": "",
     "delete_cmd_prefix": "del ",
     "library": "var_list.py",
     "varRefreshCmd": "print(var_dic_list())"
    },
    "r": {
     "delete_cmd_postfix": ") ",
     "delete_cmd_prefix": "rm(",
     "library": "var_list.r",
     "varRefreshCmd": "cat(var_dic_list()) "
    }
   },
   "types_to_exclude": [
    "module",
    "function",
    "builtin_function_or_method",
    "instance",
    "_Feature"
   ],
   "window_display": false
  }
 },
 "nbformat": 4,
 "nbformat_minor": 1
}
