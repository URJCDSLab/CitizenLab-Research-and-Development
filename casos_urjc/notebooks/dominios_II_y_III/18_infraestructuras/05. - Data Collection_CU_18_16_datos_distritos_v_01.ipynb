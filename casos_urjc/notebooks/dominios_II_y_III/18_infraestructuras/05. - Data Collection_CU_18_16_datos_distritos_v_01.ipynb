{
 "cells": [
  {
   "attachments": {},
   "cell_type": "markdown",
   "metadata": {
    "slideshow": {
     "slide_type": "slide"
    }
   },
   "source": [
    "<img src=\".\\images\\Logo.png\" width=150 align=\"left\" /> <img src=\".\\images\\Logo2.jpg\" width=450 align=\"right\" />"
   ]
  },
  {
   "attachments": {},
   "cell_type": "markdown",
   "metadata": {
    "slideshow": {
     "slide_type": "slide"
    }
   },
   "source": [
    "\n",
    "# <center><font color= #1e8449 > <b>CU18_Infraestructuras_eventos</font></center>"
   ]
  },
  {
   "attachments": {},
   "cell_type": "markdown",
   "metadata": {
    "slideshow": {
     "slide_type": "slide"
    }
   },
   "source": [
    "<font color='steelblue'><b>Citizenlab Data Science Methodology > II - Data Processing Domain </font>\n",
    "***\n",
    "> # <font color='steelblue'> <b>05.- Data Collection</font>"
   ]
  },
  {
   "attachments": {},
   "cell_type": "markdown",
   "metadata": {
    "slideshow": {
     "slide_type": "slide"
    }
   },
   "source": [
    "<font color='steelblue'>Data Collection is the process to obtain and generate (if required) necessary data to model the problem.</font>"
   ]
  },
  {
   "attachments": {},
   "cell_type": "markdown",
   "metadata": {},
   "source": [
    "### 16. Unión de todos los datos de distritos\n",
    "\n",
    "* Unir todas los ficheros que contienen datos agregados de distritos\n",
    "\n",
    "\n",
    "\n",
    "\n",
    "\n"
   ]
  },
  {
   "attachments": {},
   "cell_type": "markdown",
   "metadata": {
    "toc": true
   },
   "source": [
    "<h1>Table of Contents<span class=\"tocSkip\"></span></h1>\n",
    "<div class=\"toc\"><ul class=\"toc-item\"><li><span><a href=\"#Settings\" data-toc-modified-id=\"Settings-1\"><font color=\"green\">Settings</font></a></span></li><li><span><a href=\"#Data-Load\" data-toc-modified-id=\"Data-Load-2\"><font color=\"green\">Data Load</font></a></span></li><li><span><a href=\"#ETL-Processes\" data-toc-modified-id=\"ETL-Processes-3\">ETL Processes</a></span><ul class=\"toc-item\"><li><span><a href=\"#Import-data-from:-CSV,-Excel,-Tab,-JSON,-SQL,-and-Parquet-files\" data-toc-modified-id=\"Import-data-from:-CSV,-Excel,-Tab,-JSON,-SQL,-and-Parquet-files-3.1\">Import data from: CSV, Excel, Tab, JSON, SQL, and Parquet files</a></span></li></ul></li><li><span><a href=\"#Synthetic-Data-Generation\" data-toc-modified-id=\"Synthetic-Data-Generation-4\">Synthetic Data Generation</a></span></li><li><span><a href=\"#Fake-Data-Generation\" data-toc-modified-id=\"Fake-Data-Generation-5\">Fake Data Generation</a></span></li><li><span><a href=\"#Open-Data\" data-toc-modified-id=\"Open-Data-6\">Open Data</a></span></li><li><span><a href=\"#Data-Save\" data-toc-modified-id=\"Data-Save-7\"><font color=\"green\">Data Save</font></a></span></li><li><span><a href=\"#Main-Conclusions\" data-toc-modified-id=\"Main-Conclusions-8\"><font color=\" #2874a6 \">Main Conclusions</font></a></span></li><li><span><a href=\"#Main-Actions\" data-toc-modified-id=\"Main-Actions-9\"><font color=\" #2874a6 \">Main Actions</font></a></span><ul class=\"toc-item\"><li><ul class=\"toc-item\"><li><span><a href=\"#Acciones-done\" data-toc-modified-id=\"Acciones-done-9.0.1\"><font color=\" #2874a6 \">Acciones done</font></a></span></li><li><span><a href=\"#Acctions-to-perform\" data-toc-modified-id=\"Acctions-to-perform-9.0.2\"><font color=\" #2874a6 \">Acctions to perform</font></a></span></li></ul></li></ul></li></ul></div>"
   ]
  },
  {
   "attachments": {},
   "cell_type": "markdown",
   "metadata": {
    "slideshow": {
     "slide_type": "slide"
    }
   },
   "source": [
    "## <font color='green'>Settings</font>"
   ]
  },
  {
   "attachments": {},
   "cell_type": "markdown",
   "metadata": {},
   "source": [
    "### Encoding\n",
    "\n",
    "Con la siguiente expresión se evitan problemas con el encoding al ejecutar el notebook. Es posible que deba ser eliminada o adaptada a la máquina en la que se ejecute el código."
   ]
  },
  {
   "cell_type": "code",
   "execution_count": 1,
   "metadata": {
    "vscode": {
     "languageId": "r"
    }
   },
   "outputs": [
    {
     "data": {
      "text/html": [
       "'es_ES.UTF-8/es_ES.UTF-8/es_ES.UTF-8/C/es_ES.UTF-8/C'"
      ],
      "text/latex": [
       "'es\\_ES.UTF-8/es\\_ES.UTF-8/es\\_ES.UTF-8/C/es\\_ES.UTF-8/C'"
      ],
      "text/markdown": [
       "'es_ES.UTF-8/es_ES.UTF-8/es_ES.UTF-8/C/es_ES.UTF-8/C'"
      ],
      "text/plain": [
       "[1] \"es_ES.UTF-8/es_ES.UTF-8/es_ES.UTF-8/C/es_ES.UTF-8/C\""
      ]
     },
     "metadata": {},
     "output_type": "display_data"
    }
   ],
   "source": [
    "Sys.setlocale(category = \"LC_ALL\", locale = \"es_ES.UTF-8\")"
   ]
  },
  {
   "attachments": {},
   "cell_type": "markdown",
   "metadata": {},
   "source": [
    "### Packages to use\n",
    "\n",
    "- {tcltk} para selección interactiva de archivos locales\n",
    "- {sf} para trabajar con georeferenciación\n",
    "- {readr} para leer y escribir archivos csv\n",
    "- {dplyr} para explorar datos\n"
   ]
  },
  {
   "cell_type": "code",
   "execution_count": 2,
   "metadata": {
    "ExecuteTime": {
     "end_time": "2021-12-03T15:23:33.762841Z",
     "start_time": "2021-12-03T15:23:08.580267Z"
    },
    "slideshow": {
     "slide_type": "subslide"
    },
    "vscode": {
     "languageId": "r"
    }
   },
   "outputs": [
    {
     "name": "stderr",
     "output_type": "stream",
     "text": [
      "\n",
      "Attaching package: ‘dplyr’\n",
      "\n",
      "\n",
      "The following objects are masked from ‘package:stats’:\n",
      "\n",
      "    filter, lag\n",
      "\n",
      "\n",
      "The following objects are masked from ‘package:base’:\n",
      "\n",
      "    intersect, setdiff, setequal, union\n",
      "\n",
      "\n"
     ]
    }
   ],
   "source": [
    "library(readr)\n",
    "library(dplyr)\n"
   ]
  },
  {
   "attachments": {},
   "cell_type": "markdown",
   "metadata": {},
   "source": [
    "### Paths"
   ]
  },
  {
   "cell_type": "code",
   "execution_count": 3,
   "metadata": {
    "vscode": {
     "languageId": "r"
    }
   },
   "outputs": [],
   "source": [
    "iPath <- \"Data/Input/\"\n",
    "oPath <- \"Data/Output/\""
   ]
  },
  {
   "attachments": {},
   "cell_type": "markdown",
   "metadata": {
    "slideshow": {
     "slide_type": "slide"
    }
   },
   "source": [
    "## <font color='green'>Data Load</font>\n",
    "\n",
    "If there are more than one input file, make as many sections as files to import."
   ]
  },
  {
   "attachments": {},
   "cell_type": "markdown",
   "metadata": {},
   "source": [
    "Instrucciones\n",
    "- Los ficheros de entrada del proceso están siempre en Data/Input/.   \n",
    "- Si hay más de un fichero de entrada, se crean tantos objetos iFile_xx y file_data_xx como ficheros de entrada (xx número correlativo con dos dígitos, rellenar con ceros a la izquierda)"
   ]
  },
  {
   "attachments": {},
   "cell_type": "markdown",
   "metadata": {},
   "source": [
    "1. Infraestructuras"
   ]
  },
  {
   "attachments": {},
   "cell_type": "markdown",
   "metadata": {},
   "source": [
    "<font color='tomato'><b> OPCION A:</b> Seleccionar fichero en ventana para mayor comodidad</font> "
   ]
  },
  {
   "attachments": {},
   "cell_type": "markdown",
   "metadata": {},
   "source": [
    "Data load using the {tcltk} package. Ucomment the line if not using this option"
   ]
  },
  {
   "cell_type": "code",
   "execution_count": 4,
   "metadata": {
    "vscode": {
     "languageId": "r"
    }
   },
   "outputs": [],
   "source": [
    "# file_data_01 <- tcltk::tk_choose.files(multi = FALSE)"
   ]
  },
  {
   "attachments": {},
   "cell_type": "markdown",
   "metadata": {},
   "source": [
    "<font color='tomato'><b> OPCION B:</b> Especificar el nombre de archivo</font>\n",
    "\n"
   ]
  },
  {
   "cell_type": "code",
   "execution_count": 5,
   "metadata": {
    "vscode": {
     "languageId": "r"
    }
   },
   "outputs": [
    {
     "name": "stdout",
     "output_type": "stream",
     "text": [
      "Se leerán datos del archivo:  Data/Input/CU_18_05_05_01_infraestructuras_distrito.csv"
     ]
    }
   ],
   "source": [
    "iFile_01 <- \"CU_18_05_05_01_infraestructuras_distrito.csv\"\n",
    "file_data_01 <- paste0(iPath, iFile_01)\n",
    "\n",
    "if(file.exists(file_data_01)){\n",
    "    cat(\"Se leerán datos del archivo: \", file_data_01)\n",
    "} else{\n",
    "    warning(\"Cuidado: el archivo no existe.\")\n",
    "}\n"
   ]
  },
  {
   "attachments": {},
   "cell_type": "markdown",
   "metadata": {},
   "source": [
    "#### Data file to dataframe\n",
    "\n",
    "Usar la función adecuada según el formato de entrada (xlsx, csv, json, ...)"
   ]
  },
  {
   "cell_type": "code",
   "execution_count": 6,
   "metadata": {
    "vscode": {
     "languageId": "r"
    }
   },
   "outputs": [
    {
     "name": "stderr",
     "output_type": "stream",
     "text": [
      "\u001b[1mRows: \u001b[22m\u001b[34m239\u001b[39m \u001b[1mColumns: \u001b[22m\u001b[34m14\u001b[39m\n",
      "\u001b[36m──\u001b[39m \u001b[1mColumn specification\u001b[22m \u001b[36m────────────────────────────────────────────────────────\u001b[39m\n",
      "\u001b[1mDelimiter:\u001b[22m \",\"\n",
      "\u001b[31mchr\u001b[39m  (2): cmun, cdis\n",
      "\u001b[32mdbl\u001b[39m (12): consultorios_de_salud, helisuperficies, centros_de_atencion_a_drog...\n",
      "\n",
      "\u001b[36mℹ\u001b[39m Use `spec()` to retrieve the full column specification for this data.\n",
      "\u001b[36mℹ\u001b[39m Specify the column types or set `show_col_types = FALSE` to quiet this message.\n"
     ]
    }
   ],
   "source": [
    "data_01 <- read_csv(file_data_01)\n"
   ]
  },
  {
   "attachments": {},
   "cell_type": "markdown",
   "metadata": {},
   "source": [
    "Estructura de  los datos:"
   ]
  },
  {
   "cell_type": "code",
   "execution_count": 7,
   "metadata": {
    "vscode": {
     "languageId": "r"
    }
   },
   "outputs": [
    {
     "name": "stdout",
     "output_type": "stream",
     "text": [
      "Rows: 239\n",
      "Columns: 14\n",
      "$ cmun                                    \u001b[3m\u001b[90m<chr>\u001b[39m\u001b[23m \"001\", \"002\", \"003\", \"004\", \"0…\n",
      "$ cdis                                    \u001b[3m\u001b[90m<chr>\u001b[39m\u001b[23m \"01\", \"01\", \"01\", \"01\", \"01\", …\n",
      "$ consultorios_de_salud                   \u001b[3m\u001b[90m<dbl>\u001b[39m\u001b[23m 1, 1, 1, 1, 0, 0, 0, 0, 0, 0, …\n",
      "$ helisuperficies                         \u001b[3m\u001b[90m<dbl>\u001b[39m\u001b[23m 1, 0, 1, 0, 0, 0, 0, 0, 0, 0, …\n",
      "$ centros_de_atencion_a_drogodependientes \u001b[3m\u001b[90m<dbl>\u001b[39m\u001b[23m 0, 0, 0, 0, 1, 0, 0, 0, 0, 1, …\n",
      "$ centros_de_salud                        \u001b[3m\u001b[90m<dbl>\u001b[39m\u001b[23m 0, 0, 0, 0, 2, 3, 2, 1, 2, 5, …\n",
      "$ estaciones_de_cercanias                 \u001b[3m\u001b[90m<dbl>\u001b[39m\u001b[23m 0, 0, 0, 0, 1, 0, 1, 1, 0, 2, …\n",
      "$ hospitales                              \u001b[3m\u001b[90m<dbl>\u001b[39m\u001b[23m 0, 0, 0, 0, 1, 0, 0, 1, 0, 0, …\n",
      "$ otros_centros_de_salud                  \u001b[3m\u001b[90m<dbl>\u001b[39m\u001b[23m 0, 0, 0, 0, 1, 0, 0, 0, 0, 0, …\n",
      "$ centros_de_salud_mental                 \u001b[3m\u001b[90m<dbl>\u001b[39m\u001b[23m 0, 0, 0, 0, 0, 1, 0, 1, 0, 1, …\n",
      "$ centros_de_especialidades               \u001b[3m\u001b[90m<dbl>\u001b[39m\u001b[23m 0, 0, 0, 0, 0, 0, 0, 1, 0, 1, …\n",
      "$ bocas_de_metro                          \u001b[3m\u001b[90m<dbl>\u001b[39m\u001b[23m 0, 0, 0, 0, 0, 0, 0, 0, 0, 9, …\n",
      "$ intercambiadores                        \u001b[3m\u001b[90m<dbl>\u001b[39m\u001b[23m 0, 0, 0, 0, 0, 0, 0, 0, 0, 0, …\n",
      "$ aeropuertos                             \u001b[3m\u001b[90m<dbl>\u001b[39m\u001b[23m 0, 0, 0, 0, 0, 0, 0, 0, 0, 0, …\n"
     ]
    }
   ],
   "source": [
    "glimpse(data_01)"
   ]
  },
  {
   "attachments": {},
   "cell_type": "markdown",
   "metadata": {},
   "source": [
    "Muestra de datos:"
   ]
  },
  {
   "attachments": {},
   "cell_type": "markdown",
   "metadata": {},
   "source": [
    "2. Servicios"
   ]
  },
  {
   "attachments": {},
   "cell_type": "markdown",
   "metadata": {},
   "source": [
    "<font color='tomato'><b> OPCION A:</b> Seleccionar fichero en ventana para mayor comodidad</font> "
   ]
  },
  {
   "attachments": {},
   "cell_type": "markdown",
   "metadata": {},
   "source": [
    "Data load using the {tcltk} package. Ucomment the line if not using this option"
   ]
  },
  {
   "cell_type": "code",
   "execution_count": 8,
   "metadata": {
    "vscode": {
     "languageId": "r"
    }
   },
   "outputs": [],
   "source": [
    "# file_data_02 <- tcltk::tk_choose.files(multi = FALSE)"
   ]
  },
  {
   "attachments": {},
   "cell_type": "markdown",
   "metadata": {},
   "source": [
    "<font color='tomato'><b> OPCION B:</b> Especificar el nombre de archivo</font>\n",
    "\n"
   ]
  },
  {
   "cell_type": "code",
   "execution_count": 9,
   "metadata": {
    "vscode": {
     "languageId": "r"
    }
   },
   "outputs": [
    {
     "name": "stdout",
     "output_type": "stream",
     "text": [
      "Se leerán datos del archivo:  Data/Input/CU_18_05_09_01_distritos_adm.csv"
     ]
    }
   ],
   "source": [
    "iFile_02 <- \"CU_18_05_09_01_distritos_adm.csv\"\n",
    "file_data_02 <- paste0(iPath, iFile_02)\n",
    "\n",
    "if(file.exists(file_data_02)){\n",
    "    cat(\"Se leerán datos del archivo: \", file_data_02)\n",
    "} else{\n",
    "    warning(\"Cuidado: el archivo no existe.\")\n",
    "}\n"
   ]
  },
  {
   "attachments": {},
   "cell_type": "markdown",
   "metadata": {},
   "source": [
    "#### Data file to dataframe\n",
    "\n",
    "Usar la función adecuada según el formato de entrada (xlsx, csv, json, ...)"
   ]
  },
  {
   "cell_type": "code",
   "execution_count": 10,
   "metadata": {
    "vscode": {
     "languageId": "r"
    }
   },
   "outputs": [
    {
     "name": "stderr",
     "output_type": "stream",
     "text": [
      "\u001b[1mRows: \u001b[22m\u001b[34m246\u001b[39m \u001b[1mColumns: \u001b[22m\u001b[34m49\u001b[39m\n",
      "\u001b[36m──\u001b[39m \u001b[1mColumn specification\u001b[22m \u001b[36m────────────────────────────────────────────────────────\u001b[39m\n",
      "\u001b[1mDelimiter:\u001b[22m \",\"\n",
      "\u001b[31mchr\u001b[39m  (2): cmun, cdis\n",
      "\u001b[32mdbl\u001b[39m (47): ayuntamientos_consejerias_ministerios_etc, sanidad_y_servicios_soc...\n",
      "\n",
      "\u001b[36mℹ\u001b[39m Use `spec()` to retrieve the full column specification for this data.\n",
      "\u001b[36mℹ\u001b[39m Specify the column types or set `show_col_types = FALSE` to quiet this message.\n"
     ]
    }
   ],
   "source": [
    "data_02 <- read_csv(file_data_02)\n"
   ]
  },
  {
   "attachments": {},
   "cell_type": "markdown",
   "metadata": {},
   "source": [
    "Estructura de  los datos:"
   ]
  },
  {
   "cell_type": "code",
   "execution_count": 11,
   "metadata": {
    "vscode": {
     "languageId": "r"
    }
   },
   "outputs": [
    {
     "name": "stdout",
     "output_type": "stream",
     "text": [
      "Rows: 246\n",
      "Columns: 49\n",
      "$ cmun                                                      \u001b[3m\u001b[90m<chr>\u001b[39m\u001b[23m \"001\", \"002\"…\n",
      "$ cdis                                                      \u001b[3m\u001b[90m<chr>\u001b[39m\u001b[23m \"01\", \"01\", …\n",
      "$ ayuntamientos_consejerias_ministerios_etc                 \u001b[3m\u001b[90m<dbl>\u001b[39m\u001b[23m 1, 1, 1, 1, …\n",
      "$ sanidad_y_servicios_sociales                              \u001b[3m\u001b[90m<dbl>\u001b[39m\u001b[23m 1, 8, 0, 10,…\n",
      "$ actividades_administrativas                               \u001b[3m\u001b[90m<dbl>\u001b[39m\u001b[23m 0, 13, 0, 2,…\n",
      "$ actividades_asociativas_y_hogares                         \u001b[3m\u001b[90m<dbl>\u001b[39m\u001b[23m 0, 2, 0, 2, …\n",
      "$ actividades_profesionales                                 \u001b[3m\u001b[90m<dbl>\u001b[39m\u001b[23m 0, 11, 1, 3,…\n",
      "$ administraciones_publicas                                 \u001b[3m\u001b[90m<dbl>\u001b[39m\u001b[23m 0, 2, 2, 2, …\n",
      "$ alimentacion                                              \u001b[3m\u001b[90m<dbl>\u001b[39m\u001b[23m 0, 2, 0, 0, …\n",
      "$ centros_educativos_no_universitarios_centros_publicos     \u001b[3m\u001b[90m<dbl>\u001b[39m\u001b[23m 0, 3, 0, 4, …\n",
      "$ comercio_mayorista                                        \u001b[3m\u001b[90m<dbl>\u001b[39m\u001b[23m 0, 34, 0, 3,…\n",
      "$ comercio_minorista                                        \u001b[3m\u001b[90m<dbl>\u001b[39m\u001b[23m 0, 22, 0, 10…\n",
      "$ construccion                                              \u001b[3m\u001b[90m<dbl>\u001b[39m\u001b[23m 0, 22, 0, 16…\n",
      "$ educacion                                                 \u001b[3m\u001b[90m<dbl>\u001b[39m\u001b[23m 0, 4, 0, 6, …\n",
      "$ hosteleria                                                \u001b[3m\u001b[90m<dbl>\u001b[39m\u001b[23m 0, 2, 4, 12,…\n",
      "$ industria_quimica_y_refino                                \u001b[3m\u001b[90m<dbl>\u001b[39m\u001b[23m 0, 3, 0, 0, …\n",
      "$ informacion_y_comunicaciones                              \u001b[3m\u001b[90m<dbl>\u001b[39m\u001b[23m 0, 1, 0, 0, …\n",
      "$ maquinaria_industrial                                     \u001b[3m\u001b[90m<dbl>\u001b[39m\u001b[23m 0, 6, 0, 0, …\n",
      "$ material_de_transporte                                    \u001b[3m\u001b[90m<dbl>\u001b[39m\u001b[23m 0, 4, 0, 0, …\n",
      "$ material_electrico_y_electronico                          \u001b[3m\u001b[90m<dbl>\u001b[39m\u001b[23m 0, 3, 0, 0, …\n",
      "$ mercadillos                                               \u001b[3m\u001b[90m<dbl>\u001b[39m\u001b[23m 0, 1, 0, 1, …\n",
      "$ metalicas_basicas_e_intermedias                           \u001b[3m\u001b[90m<dbl>\u001b[39m\u001b[23m 0, 25, 0, 1,…\n",
      "$ mineria_y_suministros                                     \u001b[3m\u001b[90m<dbl>\u001b[39m\u001b[23m 0, 1, 0, 0, …\n",
      "$ otras_manufactureras                                      \u001b[3m\u001b[90m<dbl>\u001b[39m\u001b[23m 0, 14, 0, 2,…\n",
      "$ otros_servicios_bancos                                    \u001b[3m\u001b[90m<dbl>\u001b[39m\u001b[23m 0, 3, 0, 2, …\n",
      "$ papel_y_graficas                                          \u001b[3m\u001b[90m<dbl>\u001b[39m\u001b[23m 0, 14, 0, 0,…\n",
      "$ servicios_financieros                                     \u001b[3m\u001b[90m<dbl>\u001b[39m\u001b[23m 0, 3, 0, 4, …\n",
      "$ servicios_personales                                      \u001b[3m\u001b[90m<dbl>\u001b[39m\u001b[23m 0, 3, 0, 5, …\n",
      "$ servicios_recreativos                                     \u001b[3m\u001b[90m<dbl>\u001b[39m\u001b[23m 0, 5, 0, 4, …\n",
      "$ textil_confeccion_y_calzado                               \u001b[3m\u001b[90m<dbl>\u001b[39m\u001b[23m 0, 3, 0, 0, …\n",
      "$ transporte_y_almacenamiento                               \u001b[3m\u001b[90m<dbl>\u001b[39m\u001b[23m 0, 8, 0, 4, …\n",
      "$ actividades_inmobiliarias                                 \u001b[3m\u001b[90m<dbl>\u001b[39m\u001b[23m 0, 0, 0, 1, …\n",
      "$ centros_educativos_no_universitarios_centros_privados     \u001b[3m\u001b[90m<dbl>\u001b[39m\u001b[23m 0, 0, 0, 2, …\n",
      "$ industria_no_metalica                                     \u001b[3m\u001b[90m<dbl>\u001b[39m\u001b[23m 0, 0, 0, 1, …\n",
      "$ administracion_de_justicia                                \u001b[3m\u001b[90m<dbl>\u001b[39m\u001b[23m 0, 0, 0, 0, …\n",
      "$ agencia_tributaria                                        \u001b[3m\u001b[90m<dbl>\u001b[39m\u001b[23m 0, 0, 0, 0, …\n",
      "$ campus_universitarios                                     \u001b[3m\u001b[90m<dbl>\u001b[39m\u001b[23m 0, 0, 0, 0, …\n",
      "$ centros_educativos_universitarios                         \u001b[3m\u001b[90m<dbl>\u001b[39m\u001b[23m 0, 0, 0, 0, …\n",
      "$ colegios_mayores                                          \u001b[3m\u001b[90m<dbl>\u001b[39m\u001b[23m 0, 0, 0, 0, …\n",
      "$ galerias_de_alimentacion                                  \u001b[3m\u001b[90m<dbl>\u001b[39m\u001b[23m 0, 0, 0, 0, …\n",
      "$ grandes_superficies_especializadas                        \u001b[3m\u001b[90m<dbl>\u001b[39m\u001b[23m 0, 0, 0, 0, …\n",
      "$ hipermercados                                             \u001b[3m\u001b[90m<dbl>\u001b[39m\u001b[23m 0, 0, 0, 0, …\n",
      "$ mercados_de_abastos                                       \u001b[3m\u001b[90m<dbl>\u001b[39m\u001b[23m 0, 0, 0, 0, …\n",
      "$ agricultura_y_ganaderia                                   \u001b[3m\u001b[90m<dbl>\u001b[39m\u001b[23m 0, 0, 0, 0, …\n",
      "$ centros_educativos_no_universitarios_servicios_educativos \u001b[3m\u001b[90m<dbl>\u001b[39m\u001b[23m 0, 0, 0, 0, …\n",
      "$ seguridad_social                                          \u001b[3m\u001b[90m<dbl>\u001b[39m\u001b[23m 0, 0, 0, 0, …\n",
      "$ centros_comerciales                                       \u001b[3m\u001b[90m<dbl>\u001b[39m\u001b[23m 0, 0, 0, 0, …\n",
      "$ oficinas_de_empleo                                        \u001b[3m\u001b[90m<dbl>\u001b[39m\u001b[23m 0, 0, 0, 0, …\n",
      "$ embajadas_y_consulados                                    \u001b[3m\u001b[90m<dbl>\u001b[39m\u001b[23m 0, 0, 0, 0, …\n"
     ]
    }
   ],
   "source": [
    "glimpse(data_02)"
   ]
  },
  {
   "attachments": {},
   "cell_type": "markdown",
   "metadata": {},
   "source": [
    "Muestra de datos:"
   ]
  },
  {
   "cell_type": "code",
   "execution_count": 12,
   "metadata": {
    "vscode": {
     "languageId": "r"
    }
   },
   "outputs": [
    {
     "data": {
      "text/html": [
       "<table class=\"dataframe\">\n",
       "<caption>A spec_tbl_df: 5 x 49</caption>\n",
       "<thead>\n",
       "\t<tr><th scope=col>cmun</th><th scope=col>cdis</th><th scope=col>ayuntamientos_consejerias_ministerios_etc</th><th scope=col>sanidad_y_servicios_sociales</th><th scope=col>actividades_administrativas</th><th scope=col>actividades_asociativas_y_hogares</th><th scope=col>actividades_profesionales</th><th scope=col>administraciones_publicas</th><th scope=col>alimentacion</th><th scope=col>centros_educativos_no_universitarios_centros_publicos</th><th scope=col>...</th><th scope=col>galerias_de_alimentacion</th><th scope=col>grandes_superficies_especializadas</th><th scope=col>hipermercados</th><th scope=col>mercados_de_abastos</th><th scope=col>agricultura_y_ganaderia</th><th scope=col>centros_educativos_no_universitarios_servicios_educativos</th><th scope=col>seguridad_social</th><th scope=col>centros_comerciales</th><th scope=col>oficinas_de_empleo</th><th scope=col>embajadas_y_consulados</th></tr>\n",
       "\t<tr><th scope=col>&lt;chr&gt;</th><th scope=col>&lt;chr&gt;</th><th scope=col>&lt;dbl&gt;</th><th scope=col>&lt;dbl&gt;</th><th scope=col>&lt;dbl&gt;</th><th scope=col>&lt;dbl&gt;</th><th scope=col>&lt;dbl&gt;</th><th scope=col>&lt;dbl&gt;</th><th scope=col>&lt;dbl&gt;</th><th scope=col>&lt;dbl&gt;</th><th scope=col>...</th><th scope=col>&lt;dbl&gt;</th><th scope=col>&lt;dbl&gt;</th><th scope=col>&lt;dbl&gt;</th><th scope=col>&lt;dbl&gt;</th><th scope=col>&lt;dbl&gt;</th><th scope=col>&lt;dbl&gt;</th><th scope=col>&lt;dbl&gt;</th><th scope=col>&lt;dbl&gt;</th><th scope=col>&lt;dbl&gt;</th><th scope=col>&lt;dbl&gt;</th></tr>\n",
       "</thead>\n",
       "<tbody>\n",
       "\t<tr><td>001</td><td>01</td><td>1</td><td> 1</td><td> 0</td><td> 0</td><td> 0</td><td>0</td><td>0</td><td>0</td><td>...</td><td>0</td><td>0</td><td>0</td><td>0</td><td>0</td><td>0</td><td>0</td><td>0</td><td>0</td><td>0</td></tr>\n",
       "\t<tr><td>002</td><td>01</td><td>1</td><td> 8</td><td>13</td><td> 2</td><td>11</td><td>2</td><td>2</td><td>3</td><td>...</td><td>0</td><td>0</td><td>0</td><td>0</td><td>0</td><td>0</td><td>0</td><td>0</td><td>0</td><td>0</td></tr>\n",
       "\t<tr><td>003</td><td>01</td><td>1</td><td> 0</td><td> 0</td><td> 0</td><td> 1</td><td>2</td><td>0</td><td>0</td><td>...</td><td>0</td><td>0</td><td>0</td><td>0</td><td>0</td><td>0</td><td>0</td><td>0</td><td>0</td><td>0</td></tr>\n",
       "\t<tr><td>004</td><td>01</td><td>1</td><td>10</td><td> 2</td><td> 2</td><td> 3</td><td>2</td><td>0</td><td>4</td><td>...</td><td>0</td><td>0</td><td>0</td><td>0</td><td>0</td><td>0</td><td>0</td><td>0</td><td>0</td><td>0</td></tr>\n",
       "\t<tr><td>005</td><td>01</td><td>1</td><td>42</td><td>36</td><td>14</td><td>56</td><td>5</td><td>4</td><td>8</td><td>...</td><td>3</td><td>1</td><td>1</td><td>1</td><td>0</td><td>0</td><td>0</td><td>0</td><td>0</td><td>0</td></tr>\n",
       "</tbody>\n",
       "</table>\n"
      ],
      "text/latex": [
       "A spec\\_tbl\\_df: 5 x 49\n",
       "\\begin{tabular}{lllllllllllllllllllll}\n",
       " cmun & cdis & ayuntamientos\\_consejerias\\_ministerios\\_etc & sanidad\\_y\\_servicios\\_sociales & actividades\\_administrativas & actividades\\_asociativas\\_y\\_hogares & actividades\\_profesionales & administraciones\\_publicas & alimentacion & centros\\_educativos\\_no\\_universitarios\\_centros\\_publicos & ... & galerias\\_de\\_alimentacion & grandes\\_superficies\\_especializadas & hipermercados & mercados\\_de\\_abastos & agricultura\\_y\\_ganaderia & centros\\_educativos\\_no\\_universitarios\\_servicios\\_educativos & seguridad\\_social & centros\\_comerciales & oficinas\\_de\\_empleo & embajadas\\_y\\_consulados\\\\\n",
       " <chr> & <chr> & <dbl> & <dbl> & <dbl> & <dbl> & <dbl> & <dbl> & <dbl> & <dbl> & ... & <dbl> & <dbl> & <dbl> & <dbl> & <dbl> & <dbl> & <dbl> & <dbl> & <dbl> & <dbl>\\\\\n",
       "\\hline\n",
       "\t 001 & 01 & 1 &  1 &  0 &  0 &  0 & 0 & 0 & 0 & ... & 0 & 0 & 0 & 0 & 0 & 0 & 0 & 0 & 0 & 0\\\\\n",
       "\t 002 & 01 & 1 &  8 & 13 &  2 & 11 & 2 & 2 & 3 & ... & 0 & 0 & 0 & 0 & 0 & 0 & 0 & 0 & 0 & 0\\\\\n",
       "\t 003 & 01 & 1 &  0 &  0 &  0 &  1 & 2 & 0 & 0 & ... & 0 & 0 & 0 & 0 & 0 & 0 & 0 & 0 & 0 & 0\\\\\n",
       "\t 004 & 01 & 1 & 10 &  2 &  2 &  3 & 2 & 0 & 4 & ... & 0 & 0 & 0 & 0 & 0 & 0 & 0 & 0 & 0 & 0\\\\\n",
       "\t 005 & 01 & 1 & 42 & 36 & 14 & 56 & 5 & 4 & 8 & ... & 3 & 1 & 1 & 1 & 0 & 0 & 0 & 0 & 0 & 0\\\\\n",
       "\\end{tabular}\n"
      ],
      "text/markdown": [
       "\n",
       "A spec_tbl_df: 5 x 49\n",
       "\n",
       "| cmun &lt;chr&gt; | cdis &lt;chr&gt; | ayuntamientos_consejerias_ministerios_etc &lt;dbl&gt; | sanidad_y_servicios_sociales &lt;dbl&gt; | actividades_administrativas &lt;dbl&gt; | actividades_asociativas_y_hogares &lt;dbl&gt; | actividades_profesionales &lt;dbl&gt; | administraciones_publicas &lt;dbl&gt; | alimentacion &lt;dbl&gt; | centros_educativos_no_universitarios_centros_publicos &lt;dbl&gt; | ... ... | galerias_de_alimentacion &lt;dbl&gt; | grandes_superficies_especializadas &lt;dbl&gt; | hipermercados &lt;dbl&gt; | mercados_de_abastos &lt;dbl&gt; | agricultura_y_ganaderia &lt;dbl&gt; | centros_educativos_no_universitarios_servicios_educativos &lt;dbl&gt; | seguridad_social &lt;dbl&gt; | centros_comerciales &lt;dbl&gt; | oficinas_de_empleo &lt;dbl&gt; | embajadas_y_consulados &lt;dbl&gt; |\n",
       "|---|---|---|---|---|---|---|---|---|---|---|---|---|---|---|---|---|---|---|---|---|\n",
       "| 001 | 01 | 1 |  1 |  0 |  0 |  0 | 0 | 0 | 0 | ... | 0 | 0 | 0 | 0 | 0 | 0 | 0 | 0 | 0 | 0 |\n",
       "| 002 | 01 | 1 |  8 | 13 |  2 | 11 | 2 | 2 | 3 | ... | 0 | 0 | 0 | 0 | 0 | 0 | 0 | 0 | 0 | 0 |\n",
       "| 003 | 01 | 1 |  0 |  0 |  0 |  1 | 2 | 0 | 0 | ... | 0 | 0 | 0 | 0 | 0 | 0 | 0 | 0 | 0 | 0 |\n",
       "| 004 | 01 | 1 | 10 |  2 |  2 |  3 | 2 | 0 | 4 | ... | 0 | 0 | 0 | 0 | 0 | 0 | 0 | 0 | 0 | 0 |\n",
       "| 005 | 01 | 1 | 42 | 36 | 14 | 56 | 5 | 4 | 8 | ... | 3 | 1 | 1 | 1 | 0 | 0 | 0 | 0 | 0 | 0 |\n",
       "\n"
      ],
      "text/plain": [
       "  cmun cdis ayuntamientos_consejerias_ministerios_etc\n",
       "1 001  01   1                                        \n",
       "2 002  01   1                                        \n",
       "3 003  01   1                                        \n",
       "4 004  01   1                                        \n",
       "5 005  01   1                                        \n",
       "  sanidad_y_servicios_sociales actividades_administrativas\n",
       "1  1                            0                         \n",
       "2  8                           13                         \n",
       "3  0                            0                         \n",
       "4 10                            2                         \n",
       "5 42                           36                         \n",
       "  actividades_asociativas_y_hogares actividades_profesionales\n",
       "1  0                                 0                       \n",
       "2  2                                11                       \n",
       "3  0                                 1                       \n",
       "4  2                                 3                       \n",
       "5 14                                56                       \n",
       "  administraciones_publicas alimentacion\n",
       "1 0                         0           \n",
       "2 2                         2           \n",
       "3 2                         0           \n",
       "4 2                         0           \n",
       "5 5                         4           \n",
       "  centros_educativos_no_universitarios_centros_publicos ...\n",
       "1 0                                                     ...\n",
       "2 3                                                     ...\n",
       "3 0                                                     ...\n",
       "4 4                                                     ...\n",
       "5 8                                                     ...\n",
       "  galerias_de_alimentacion grandes_superficies_especializadas hipermercados\n",
       "1 0                        0                                  0            \n",
       "2 0                        0                                  0            \n",
       "3 0                        0                                  0            \n",
       "4 0                        0                                  0            \n",
       "5 3                        1                                  1            \n",
       "  mercados_de_abastos agricultura_y_ganaderia\n",
       "1 0                   0                      \n",
       "2 0                   0                      \n",
       "3 0                   0                      \n",
       "4 0                   0                      \n",
       "5 1                   0                      \n",
       "  centros_educativos_no_universitarios_servicios_educativos seguridad_social\n",
       "1 0                                                         0               \n",
       "2 0                                                         0               \n",
       "3 0                                                         0               \n",
       "4 0                                                         0               \n",
       "5 0                                                         0               \n",
       "  centros_comerciales oficinas_de_empleo embajadas_y_consulados\n",
       "1 0                   0                  0                     \n",
       "2 0                   0                  0                     \n",
       "3 0                   0                  0                     \n",
       "4 0                   0                  0                     \n",
       "5 0                   0                  0                     "
      ]
     },
     "metadata": {},
     "output_type": "display_data"
    }
   ],
   "source": [
    "data_02 |> slice_head(n = 5)"
   ]
  },
  {
   "attachments": {},
   "cell_type": "markdown",
   "metadata": {},
   "source": [
    "3. Indicadores"
   ]
  },
  {
   "attachments": {},
   "cell_type": "markdown",
   "metadata": {},
   "source": [
    "<font color='tomato'><b> OPCION A:</b> Seleccionar fichero en ventana para mayor comodidad</font> "
   ]
  },
  {
   "attachments": {},
   "cell_type": "markdown",
   "metadata": {},
   "source": [
    "Data load using the {tcltk} package. Ucomment the line if not using this option"
   ]
  },
  {
   "cell_type": "code",
   "execution_count": 13,
   "metadata": {
    "vscode": {
     "languageId": "r"
    }
   },
   "outputs": [],
   "source": [
    "# file_data_03 <- tcltk::tk_choose.files(multi = FALSE)"
   ]
  },
  {
   "attachments": {},
   "cell_type": "markdown",
   "metadata": {},
   "source": [
    "<font color='tomato'><b> OPCION B:</b> Especificar el nombre de archivo</font>\n",
    "\n"
   ]
  },
  {
   "cell_type": "code",
   "execution_count": 14,
   "metadata": {
    "vscode": {
     "languageId": "r"
    }
   },
   "outputs": [
    {
     "name": "stdout",
     "output_type": "stream",
     "text": [
      "Se leerán datos del archivo:  Data/Input/CU_18_05_10_indicadores_distritos.csv"
     ]
    }
   ],
   "source": [
    "iFile_03 <- \"CU_18_05_10_indicadores_distritos.csv\"\n",
    "file_data_03 <- paste0(iPath, iFile_03)\n",
    "\n",
    "if(file.exists(file_data_03)){\n",
    "    cat(\"Se leerán datos del archivo: \", file_data_03)\n",
    "} else{\n",
    "    warning(\"Cuidado: el archivo no existe.\")\n",
    "}\n"
   ]
  },
  {
   "attachments": {},
   "cell_type": "markdown",
   "metadata": {},
   "source": [
    "#### Data file to dataframe\n",
    "\n",
    "Usar la función adecuada según el formato de entrada (xlsx, csv, json, ...)"
   ]
  },
  {
   "cell_type": "code",
   "execution_count": 15,
   "metadata": {
    "vscode": {
     "languageId": "r"
    }
   },
   "outputs": [
    {
     "name": "stderr",
     "output_type": "stream",
     "text": [
      "\u001b[1mRows: \u001b[22m\u001b[34m246\u001b[39m \u001b[1mColumns: \u001b[22m\u001b[34m22\u001b[39m\n",
      "\u001b[36m──\u001b[39m \u001b[1mColumn specification\u001b[22m \u001b[36m────────────────────────────────────────────────────────\u001b[39m\n",
      "\u001b[1mDelimiter:\u001b[22m \",\"\n",
      "\u001b[31mchr\u001b[39m  (2): CMUN, dist\n",
      "\u001b[32mdbl\u001b[39m (20): nsec, t3_1, t1_1, t2_1, t2_2, t4_1, t4_2, t4_3, t5_1, t6_1, t7_1, ...\n",
      "\n",
      "\u001b[36mℹ\u001b[39m Use `spec()` to retrieve the full column specification for this data.\n",
      "\u001b[36mℹ\u001b[39m Specify the column types or set `show_col_types = FALSE` to quiet this message.\n"
     ]
    }
   ],
   "source": [
    "data_03 <- read_csv(file_data_03)\n"
   ]
  },
  {
   "attachments": {},
   "cell_type": "markdown",
   "metadata": {},
   "source": [
    "Estructura de  los datos:"
   ]
  },
  {
   "cell_type": "code",
   "execution_count": 16,
   "metadata": {
    "vscode": {
     "languageId": "r"
    }
   },
   "outputs": [
    {
     "name": "stdout",
     "output_type": "stream",
     "text": [
      "Rows: 246\n",
      "Columns: 22\n",
      "$ CMUN            \u001b[3m\u001b[90m<chr>\u001b[39m\u001b[23m \"001\", \"002\", \"003\", \"004\", \"005\", \"005\", \"005\", \"005\"…\n",
      "$ dist            \u001b[3m\u001b[90m<chr>\u001b[39m\u001b[23m \"01\", \"01\", \"01\", \"01\", \"01\", \"02\", \"03\", \"04\", \"05\", …\n",
      "$ nsec            \u001b[3m\u001b[90m<dbl>\u001b[39m\u001b[23m 1, 2, 1, 4, 23, 36, 16, 18, 32, 67, 19, 37, 29, 35, 1,…\n",
      "$ t3_1            \u001b[3m\u001b[90m<dbl>\u001b[39m\u001b[23m NA, 39.40747, 47.45970, 41.46662, 45.99877, 42.75131, …\n",
      "$ t1_1            \u001b[3m\u001b[90m<dbl>\u001b[39m\u001b[23m 55, 4793, 248, 9946, 31006, 54049, 28117, 38778, 43620…\n",
      "$ t2_1            \u001b[3m\u001b[90m<dbl>\u001b[39m\u001b[23m NA, 0.4777851, 0.3952000, 0.5015109, 0.5298303, 0.5115…\n",
      "$ t2_2            \u001b[3m\u001b[90m<dbl>\u001b[39m\u001b[23m NA, 0.5222149, 0.6048000, 0.4984891, 0.4701697, 0.4884…\n",
      "$ t4_1            \u001b[3m\u001b[90m<dbl>\u001b[39m\u001b[23m NA, 0.1696289, 0.1371000, 0.1810684, 0.1141978, 0.1468…\n",
      "$ t4_2            \u001b[3m\u001b[90m<dbl>\u001b[39m\u001b[23m NA, 0.7218958, 0.6573000, 0.6420633, 0.6427127, 0.6644…\n",
      "$ t4_3            \u001b[3m\u001b[90m<dbl>\u001b[39m\u001b[23m NA, 0.10847530, 0.20560000, 0.17684664, 0.24307467, 0.…\n",
      "$ t5_1            \u001b[3m\u001b[90m<dbl>\u001b[39m\u001b[23m NA, 0.15562992, 0.11290000, 0.15474242, 0.19647849, 0.…\n",
      "$ t6_1            \u001b[3m\u001b[90m<dbl>\u001b[39m\u001b[23m NA, 0.1959363, 0.1411000, 0.1912543, 0.2400069, 0.2147…\n",
      "$ t7_1            \u001b[3m\u001b[90m<dbl>\u001b[39m\u001b[23m NA, 0.41318314, 0.15420000, 0.15732451, 0.07438075, 0.…\n",
      "$ t8_1            \u001b[3m\u001b[90m<dbl>\u001b[39m\u001b[23m NA, 0.40995322, 0.14490000, 0.15046840, 0.06545227, 0.…\n",
      "$ t9_1            \u001b[3m\u001b[90m<dbl>\u001b[39m\u001b[23m NA, 0.4407990, 0.5280000, 0.2942034, 0.3850913, 0.2235…\n",
      "$ t10_1           \u001b[3m\u001b[90m<dbl>\u001b[39m\u001b[23m NA, 0.10715222, 0.09320000, 0.16675872, 0.14129129, 0.…\n",
      "$ t11_1           \u001b[3m\u001b[90m<dbl>\u001b[39m\u001b[23m NA, 0.6008132, 0.5000000, 0.4777910, 0.4565679, 0.4588…\n",
      "$ t12_1           \u001b[3m\u001b[90m<dbl>\u001b[39m\u001b[23m NA, 0.6730932, 0.5514000, 0.5729139, 0.5316057, 0.5641…\n",
      "$ X               \u001b[3m\u001b[90m<dbl>\u001b[39m\u001b[23m -3.635710, -3.480171, -3.849961, -3.989259, -3.364638,…\n",
      "$ Y               \u001b[3m\u001b[90m<dbl>\u001b[39m\u001b[23m 41.09315, 40.52396, 40.92033, 40.23240, 40.48268, 40.4…\n",
      "$ densidad_hab_km \u001b[3m\u001b[90m<dbl>\u001b[39m\u001b[23m 2.514002, 242.602224, 9.647117, 451.618447, 17549.3832…\n",
      "$ area_km2        \u001b[3m\u001b[90m<dbl>\u001b[39m\u001b[23m 21.877471, 19.756620, 25.707163, 22.023015, 1.766786, …\n"
     ]
    }
   ],
   "source": [
    "glimpse(data_03)"
   ]
  },
  {
   "attachments": {},
   "cell_type": "markdown",
   "metadata": {},
   "source": [
    "Muestra de datos:"
   ]
  },
  {
   "cell_type": "code",
   "execution_count": 17,
   "metadata": {
    "vscode": {
     "languageId": "r"
    }
   },
   "outputs": [
    {
     "data": {
      "text/html": [
       "<table class=\"dataframe\">\n",
       "<caption>A spec_tbl_df: 5 x 22</caption>\n",
       "<thead>\n",
       "\t<tr><th scope=col>CMUN</th><th scope=col>dist</th><th scope=col>nsec</th><th scope=col>t3_1</th><th scope=col>t1_1</th><th scope=col>t2_1</th><th scope=col>t2_2</th><th scope=col>t4_1</th><th scope=col>t4_2</th><th scope=col>t4_3</th><th scope=col>...</th><th scope=col>t7_1</th><th scope=col>t8_1</th><th scope=col>t9_1</th><th scope=col>t10_1</th><th scope=col>t11_1</th><th scope=col>t12_1</th><th scope=col>X</th><th scope=col>Y</th><th scope=col>densidad_hab_km</th><th scope=col>area_km2</th></tr>\n",
       "\t<tr><th scope=col>&lt;chr&gt;</th><th scope=col>&lt;chr&gt;</th><th scope=col>&lt;dbl&gt;</th><th scope=col>&lt;dbl&gt;</th><th scope=col>&lt;dbl&gt;</th><th scope=col>&lt;dbl&gt;</th><th scope=col>&lt;dbl&gt;</th><th scope=col>&lt;dbl&gt;</th><th scope=col>&lt;dbl&gt;</th><th scope=col>&lt;dbl&gt;</th><th scope=col>...</th><th scope=col>&lt;dbl&gt;</th><th scope=col>&lt;dbl&gt;</th><th scope=col>&lt;dbl&gt;</th><th scope=col>&lt;dbl&gt;</th><th scope=col>&lt;dbl&gt;</th><th scope=col>&lt;dbl&gt;</th><th scope=col>&lt;dbl&gt;</th><th scope=col>&lt;dbl&gt;</th><th scope=col>&lt;dbl&gt;</th><th scope=col>&lt;dbl&gt;</th></tr>\n",
       "</thead>\n",
       "<tbody>\n",
       "\t<tr><td>001</td><td>01</td><td> 1</td><td>      NA</td><td>   55</td><td>       NA</td><td>       NA</td><td>       NA</td><td>       NA</td><td>       NA</td><td>...</td><td>        NA</td><td>        NA</td><td>       NA</td><td>       NA</td><td>       NA</td><td>       NA</td><td>-3.635710</td><td>41.09315</td><td>    2.514002</td><td>21.877471</td></tr>\n",
       "\t<tr><td>002</td><td>01</td><td> 2</td><td>39.40747</td><td> 4793</td><td>0.4777851</td><td>0.5222149</td><td>0.1696289</td><td>0.7218958</td><td>0.1084753</td><td>...</td><td>0.41318314</td><td>0.40995322</td><td>0.4407990</td><td>0.1071522</td><td>0.6008132</td><td>0.6730932</td><td>-3.480171</td><td>40.52396</td><td>  242.602224</td><td>19.756620</td></tr>\n",
       "\t<tr><td>003</td><td>01</td><td> 1</td><td>47.45970</td><td>  248</td><td>0.3952000</td><td>0.6048000</td><td>0.1371000</td><td>0.6573000</td><td>0.2056000</td><td>...</td><td>0.15420000</td><td>0.14490000</td><td>0.5280000</td><td>0.0932000</td><td>0.5000000</td><td>0.5514000</td><td>-3.849961</td><td>40.92033</td><td>    9.647117</td><td>25.707163</td></tr>\n",
       "\t<tr><td>004</td><td>01</td><td> 4</td><td>41.46662</td><td> 9946</td><td>0.5015109</td><td>0.4984891</td><td>0.1810684</td><td>0.6420633</td><td>0.1768466</td><td>...</td><td>0.15732451</td><td>0.15046840</td><td>0.2942034</td><td>0.1667587</td><td>0.4777910</td><td>0.5729139</td><td>-3.989259</td><td>40.23240</td><td>  451.618447</td><td>22.023015</td></tr>\n",
       "\t<tr><td>005</td><td>01</td><td>23</td><td>45.99877</td><td>31006</td><td>0.5298303</td><td>0.4701697</td><td>0.1141978</td><td>0.6427127</td><td>0.2430747</td><td>...</td><td>0.07438075</td><td>0.06545227</td><td>0.3850913</td><td>0.1412913</td><td>0.4565679</td><td>0.5316057</td><td>-3.364638</td><td>40.48268</td><td>17549.383203</td><td> 1.766786</td></tr>\n",
       "</tbody>\n",
       "</table>\n"
      ],
      "text/latex": [
       "A spec\\_tbl\\_df: 5 x 22\n",
       "\\begin{tabular}{lllllllllllllllllllll}\n",
       " CMUN & dist & nsec & t3\\_1 & t1\\_1 & t2\\_1 & t2\\_2 & t4\\_1 & t4\\_2 & t4\\_3 & ... & t7\\_1 & t8\\_1 & t9\\_1 & t10\\_1 & t11\\_1 & t12\\_1 & X & Y & densidad\\_hab\\_km & area\\_km2\\\\\n",
       " <chr> & <chr> & <dbl> & <dbl> & <dbl> & <dbl> & <dbl> & <dbl> & <dbl> & <dbl> & ... & <dbl> & <dbl> & <dbl> & <dbl> & <dbl> & <dbl> & <dbl> & <dbl> & <dbl> & <dbl>\\\\\n",
       "\\hline\n",
       "\t 001 & 01 &  1 &       NA &    55 &        NA &        NA &        NA &        NA &        NA & ... &         NA &         NA &        NA &        NA &        NA &        NA & -3.635710 & 41.09315 &     2.514002 & 21.877471\\\\\n",
       "\t 002 & 01 &  2 & 39.40747 &  4793 & 0.4777851 & 0.5222149 & 0.1696289 & 0.7218958 & 0.1084753 & ... & 0.41318314 & 0.40995322 & 0.4407990 & 0.1071522 & 0.6008132 & 0.6730932 & -3.480171 & 40.52396 &   242.602224 & 19.756620\\\\\n",
       "\t 003 & 01 &  1 & 47.45970 &   248 & 0.3952000 & 0.6048000 & 0.1371000 & 0.6573000 & 0.2056000 & ... & 0.15420000 & 0.14490000 & 0.5280000 & 0.0932000 & 0.5000000 & 0.5514000 & -3.849961 & 40.92033 &     9.647117 & 25.707163\\\\\n",
       "\t 004 & 01 &  4 & 41.46662 &  9946 & 0.5015109 & 0.4984891 & 0.1810684 & 0.6420633 & 0.1768466 & ... & 0.15732451 & 0.15046840 & 0.2942034 & 0.1667587 & 0.4777910 & 0.5729139 & -3.989259 & 40.23240 &   451.618447 & 22.023015\\\\\n",
       "\t 005 & 01 & 23 & 45.99877 & 31006 & 0.5298303 & 0.4701697 & 0.1141978 & 0.6427127 & 0.2430747 & ... & 0.07438075 & 0.06545227 & 0.3850913 & 0.1412913 & 0.4565679 & 0.5316057 & -3.364638 & 40.48268 & 17549.383203 &  1.766786\\\\\n",
       "\\end{tabular}\n"
      ],
      "text/markdown": [
       "\n",
       "A spec_tbl_df: 5 x 22\n",
       "\n",
       "| CMUN &lt;chr&gt; | dist &lt;chr&gt; | nsec &lt;dbl&gt; | t3_1 &lt;dbl&gt; | t1_1 &lt;dbl&gt; | t2_1 &lt;dbl&gt; | t2_2 &lt;dbl&gt; | t4_1 &lt;dbl&gt; | t4_2 &lt;dbl&gt; | t4_3 &lt;dbl&gt; | ... ... | t7_1 &lt;dbl&gt; | t8_1 &lt;dbl&gt; | t9_1 &lt;dbl&gt; | t10_1 &lt;dbl&gt; | t11_1 &lt;dbl&gt; | t12_1 &lt;dbl&gt; | X &lt;dbl&gt; | Y &lt;dbl&gt; | densidad_hab_km &lt;dbl&gt; | area_km2 &lt;dbl&gt; |\n",
       "|---|---|---|---|---|---|---|---|---|---|---|---|---|---|---|---|---|---|---|---|---|\n",
       "| 001 | 01 |  1 |       NA |    55 |        NA |        NA |        NA |        NA |        NA | ... |         NA |         NA |        NA |        NA |        NA |        NA | -3.635710 | 41.09315 |     2.514002 | 21.877471 |\n",
       "| 002 | 01 |  2 | 39.40747 |  4793 | 0.4777851 | 0.5222149 | 0.1696289 | 0.7218958 | 0.1084753 | ... | 0.41318314 | 0.40995322 | 0.4407990 | 0.1071522 | 0.6008132 | 0.6730932 | -3.480171 | 40.52396 |   242.602224 | 19.756620 |\n",
       "| 003 | 01 |  1 | 47.45970 |   248 | 0.3952000 | 0.6048000 | 0.1371000 | 0.6573000 | 0.2056000 | ... | 0.15420000 | 0.14490000 | 0.5280000 | 0.0932000 | 0.5000000 | 0.5514000 | -3.849961 | 40.92033 |     9.647117 | 25.707163 |\n",
       "| 004 | 01 |  4 | 41.46662 |  9946 | 0.5015109 | 0.4984891 | 0.1810684 | 0.6420633 | 0.1768466 | ... | 0.15732451 | 0.15046840 | 0.2942034 | 0.1667587 | 0.4777910 | 0.5729139 | -3.989259 | 40.23240 |   451.618447 | 22.023015 |\n",
       "| 005 | 01 | 23 | 45.99877 | 31006 | 0.5298303 | 0.4701697 | 0.1141978 | 0.6427127 | 0.2430747 | ... | 0.07438075 | 0.06545227 | 0.3850913 | 0.1412913 | 0.4565679 | 0.5316057 | -3.364638 | 40.48268 | 17549.383203 |  1.766786 |\n",
       "\n"
      ],
      "text/plain": [
       "  CMUN dist nsec t3_1     t1_1  t2_1      t2_2      t4_1      t4_2     \n",
       "1 001  01    1         NA    55        NA        NA        NA        NA\n",
       "2 002  01    2   39.40747  4793 0.4777851 0.5222149 0.1696289 0.7218958\n",
       "3 003  01    1   47.45970   248 0.3952000 0.6048000 0.1371000 0.6573000\n",
       "4 004  01    4   41.46662  9946 0.5015109 0.4984891 0.1810684 0.6420633\n",
       "5 005  01   23   45.99877 31006 0.5298303 0.4701697 0.1141978 0.6427127\n",
       "  t4_3      ... t7_1       t8_1       t9_1      t10_1     t11_1     t12_1    \n",
       "1        NA ...         NA         NA        NA        NA        NA        NA\n",
       "2 0.1084753 ... 0.41318314 0.40995322 0.4407990 0.1071522 0.6008132 0.6730932\n",
       "3 0.2056000 ... 0.15420000 0.14490000 0.5280000 0.0932000 0.5000000 0.5514000\n",
       "4 0.1768466 ... 0.15732451 0.15046840 0.2942034 0.1667587 0.4777910 0.5729139\n",
       "5 0.2430747 ... 0.07438075 0.06545227 0.3850913 0.1412913 0.4565679 0.5316057\n",
       "  X         Y        densidad_hab_km area_km2 \n",
       "1 -3.635710 41.09315     2.514002    21.877471\n",
       "2 -3.480171 40.52396   242.602224    19.756620\n",
       "3 -3.849961 40.92033     9.647117    25.707163\n",
       "4 -3.989259 40.23240   451.618447    22.023015\n",
       "5 -3.364638 40.48268 17549.383203     1.766786"
      ]
     },
     "metadata": {},
     "output_type": "display_data"
    }
   ],
   "source": [
    "data_03 |> slice_head(n = 5)"
   ]
  },
  {
   "attachments": {},
   "cell_type": "markdown",
   "metadata": {},
   "source": [
    "4. POIS"
   ]
  },
  {
   "attachments": {},
   "cell_type": "markdown",
   "metadata": {},
   "source": [
    "<font color='tomato'><b> OPCION A:</b> Seleccionar fichero en ventana para mayor comodidad</font> "
   ]
  },
  {
   "attachments": {},
   "cell_type": "markdown",
   "metadata": {},
   "source": [
    "Data load using the {tcltk} package. Ucomment the line if not using this option"
   ]
  },
  {
   "cell_type": "code",
   "execution_count": 18,
   "metadata": {
    "vscode": {
     "languageId": "r"
    }
   },
   "outputs": [],
   "source": [
    "# file_data_04 <- tcltk::tk_choose.files(multi = FALSE)"
   ]
  },
  {
   "attachments": {},
   "cell_type": "markdown",
   "metadata": {},
   "source": [
    "<font color='tomato'><b> OPCION B:</b> Especificar el nombre de archivo</font>\n",
    "\n"
   ]
  },
  {
   "cell_type": "code",
   "execution_count": 19,
   "metadata": {
    "vscode": {
     "languageId": "r"
    }
   },
   "outputs": [
    {
     "name": "stdout",
     "output_type": "stream",
     "text": [
      "Se leerán datos del archivo:  Data/Input/CU_18_05_13_01_ditrito_pois.csv"
     ]
    }
   ],
   "source": [
    "iFile_04 <- \"CU_18_05_13_01_ditrito_pois.csv\"\n",
    "file_data_04 <- paste0(iPath, iFile_04)\n",
    "\n",
    "if(file.exists(file_data_04)){\n",
    "    cat(\"Se leerán datos del archivo: \", file_data_04)\n",
    "} else{\n",
    "    warning(\"Cuidado: el archivo no existe.\")\n",
    "}\n"
   ]
  },
  {
   "attachments": {},
   "cell_type": "markdown",
   "metadata": {},
   "source": [
    "#### Data file to dataframe\n",
    "\n",
    "Usar la función adecuada según el formato de entrada (xlsx, csv, json, ...)"
   ]
  },
  {
   "cell_type": "code",
   "execution_count": 20,
   "metadata": {
    "vscode": {
     "languageId": "r"
    }
   },
   "outputs": [
    {
     "name": "stderr",
     "output_type": "stream",
     "text": [
      "\u001b[1mRows: \u001b[22m\u001b[34m224\u001b[39m \u001b[1mColumns: \u001b[22m\u001b[34m60\u001b[39m\n",
      "\u001b[36m──\u001b[39m \u001b[1mColumn specification\u001b[22m \u001b[36m────────────────────────────────────────────────────────\u001b[39m\n",
      "\u001b[1mDelimiter:\u001b[22m \",\"\n",
      "\u001b[31mchr\u001b[39m  (2): cmun, cdis\n",
      "\u001b[32mdbl\u001b[39m (58): bakery, bar, butcher, cafe, car_dealership, clothes, convenience, ...\n",
      "\n",
      "\u001b[36mℹ\u001b[39m Use `spec()` to retrieve the full column specification for this data.\n",
      "\u001b[36mℹ\u001b[39m Specify the column types or set `show_col_types = FALSE` to quiet this message.\n"
     ]
    }
   ],
   "source": [
    "data_04 <- read_csv(file_data_04)\n"
   ]
  },
  {
   "attachments": {},
   "cell_type": "markdown",
   "metadata": {},
   "source": [
    "Estructura de  los datos:"
   ]
  },
  {
   "cell_type": "code",
   "execution_count": 21,
   "metadata": {
    "vscode": {
     "languageId": "r"
    }
   },
   "outputs": [
    {
     "name": "stdout",
     "output_type": "stream",
     "text": [
      "Rows: 224\n",
      "Columns: 60\n",
      "$ cmun              \u001b[3m\u001b[90m<chr>\u001b[39m\u001b[23m \"002\", \"003\", \"004\", \"005\", \"005\", \"005\", \"005\", \"00…\n",
      "$ cdis              \u001b[3m\u001b[90m<chr>\u001b[39m\u001b[23m \"01\", \"01\", \"01\", \"01\", \"02\", \"03\", \"04\", \"05\", \"01\"…\n",
      "$ bakery            \u001b[3m\u001b[90m<dbl>\u001b[39m\u001b[23m 2, 0, 0, 4, 5, 1, 2, 7, 4, 1, 1, 0, 2, 0, 0, 1, 0, 0…\n",
      "$ bar               \u001b[3m\u001b[90m<dbl>\u001b[39m\u001b[23m 2, 0, 1, 22, 10, 2, 3, 11, 7, 1, 1, 2, 6, 0, 2, 17, …\n",
      "$ butcher           \u001b[3m\u001b[90m<dbl>\u001b[39m\u001b[23m 1, 0, 0, 2, 2, 0, 1, 2, 0, 0, 1, 0, 0, 0, 0, 2, 0, 0…\n",
      "$ cafe              \u001b[3m\u001b[90m<dbl>\u001b[39m\u001b[23m 5, 1, 0, 12, 6, 1, 3, 19, 12, 3, 2, 0, 6, 0, 1, 4, 0…\n",
      "$ car_dealership    \u001b[3m\u001b[90m<dbl>\u001b[39m\u001b[23m 1, 0, 0, 1, 1, 3, 0, 3, 5, 1, 0, 0, 0, 0, 0, 0, 0, 0…\n",
      "$ clothes           \u001b[3m\u001b[90m<dbl>\u001b[39m\u001b[23m 1, 0, 0, 13, 1, 0, 1, 28, 0, 0, 0, 0, 0, 0, 1, 1, 0,…\n",
      "$ convenience       \u001b[3m\u001b[90m<dbl>\u001b[39m\u001b[23m 2, 0, 0, 4, 2, 2, 2, 13, 8, 1, 1, 2, 6, 0, 0, 1, 0, …\n",
      "$ fast_food         \u001b[3m\u001b[90m<dbl>\u001b[39m\u001b[23m 1, 0, 0, 8, 1, 2, 5, 11, 10, 7, 4, 0, 6, 0, 2, 5, 0,…\n",
      "$ food_court        \u001b[3m\u001b[90m<dbl>\u001b[39m\u001b[23m 2, 0, 0, 0, 0, 0, 1, 0, 0, 0, 0, 0, 0, 0, 0, 0, 0, 0…\n",
      "$ furniture_shop    \u001b[3m\u001b[90m<dbl>\u001b[39m\u001b[23m 2, 0, 0, 3, 0, 0, 1, 8, 2, 1, 0, 0, 0, 0, 0, 0, 0, 0…\n",
      "$ gift_shop         \u001b[3m\u001b[90m<dbl>\u001b[39m\u001b[23m 1, 0, 0, 2, 0, 0, 0, 1, 0, 0, 0, 0, 0, 0, 0, 1, 0, 0…\n",
      "$ greengrocer       \u001b[3m\u001b[90m<dbl>\u001b[39m\u001b[23m 1, 0, 0, 1, 1, 0, 0, 8, 2, 0, 1, 0, 1, 0, 0, 0, 0, 0…\n",
      "$ guesthouse        \u001b[3m\u001b[90m<dbl>\u001b[39m\u001b[23m 1, 0, 0, 0, 0, 0, 0, 0, 0, 0, 0, 0, 1, 0, 0, 0, 0, 0…\n",
      "$ hairdresser       \u001b[3m\u001b[90m<dbl>\u001b[39m\u001b[23m 2, 0, 0, 16, 4, 0, 4, 21, 7, 1, 0, 1, 5, 0, 0, 1, 0,…\n",
      "$ hotel             \u001b[3m\u001b[90m<dbl>\u001b[39m\u001b[23m 1, 1, 0, 3, 0, 3, 0, 1, 3, 3, 0, 0, 0, 0, 2, 1, 0, 1…\n",
      "$ pub               \u001b[3m\u001b[90m<dbl>\u001b[39m\u001b[23m 2, 0, 0, 24, 4, 2, 2, 31, 7, 0, 0, 0, 4, 0, 0, 2, 1,…\n",
      "$ restaurant        \u001b[3m\u001b[90m<dbl>\u001b[39m\u001b[23m 5, 4, 3, 53, 5, 18, 10, 22, 73, 26, 13, 1, 4, 2, 2, …\n",
      "$ stationery        \u001b[3m\u001b[90m<dbl>\u001b[39m\u001b[23m 1, 0, 0, 1, 3, 0, 1, 2, 0, 0, 0, 0, 0, 0, 0, 0, 0, 1…\n",
      "$ vending_any       \u001b[3m\u001b[90m<dbl>\u001b[39m\u001b[23m 1, 0, 0, 0, 0, 0, 0, 2, 0, 0, 0, 0, 0, 0, 0, 0, 0, 0…\n",
      "$ bicycle_rental    \u001b[3m\u001b[90m<dbl>\u001b[39m\u001b[23m 0, 1, 0, 0, 0, 0, 0, 0, 0, 0, 0, 0, 0, 0, 0, 0, 1, 0…\n",
      "$ hostel            \u001b[3m\u001b[90m<dbl>\u001b[39m\u001b[23m 0, 2, 0, 0, 2, 0, 0, 0, 0, 0, 1, 0, 0, 0, 0, 1, 0, 0…\n",
      "$ supermarket       \u001b[3m\u001b[90m<dbl>\u001b[39m\u001b[23m 0, 1, 1, 6, 6, 2, 3, 10, 8, 12, 3, 4, 3, 1, 3, 3, 0,…\n",
      "$ beauty_shop       \u001b[3m\u001b[90m<dbl>\u001b[39m\u001b[23m 0, 0, 0, 3, 0, 0, 2, 10, 6, 0, 0, 0, 0, 0, 1, 0, 0, …\n",
      "$ beverages         \u001b[3m\u001b[90m<dbl>\u001b[39m\u001b[23m 0, 0, 0, 1, 0, 0, 0, 0, 0, 0, 0, 0, 0, 0, 0, 0, 0, 0…\n",
      "$ bicycle_shop      \u001b[3m\u001b[90m<dbl>\u001b[39m\u001b[23m 0, 0, 0, 3, 1, 1, 0, 2, 4, 0, 1, 1, 1, 0, 0, 2, 0, 0…\n",
      "$ bookshop          \u001b[3m\u001b[90m<dbl>\u001b[39m\u001b[23m 0, 0, 0, 7, 0, 0, 2, 3, 3, 1, 0, 0, 0, 0, 0, 0, 0, 1…\n",
      "$ chemist           \u001b[3m\u001b[90m<dbl>\u001b[39m\u001b[23m 0, 0, 0, 1, 0, 0, 0, 0, 1, 0, 0, 0, 0, 0, 0, 0, 0, 0…\n",
      "$ computer_shop     \u001b[3m\u001b[90m<dbl>\u001b[39m\u001b[23m 0, 0, 0, 3, 3, 0, 0, 2, 0, 0, 0, 0, 0, 0, 1, 0, 0, 0…\n",
      "$ doityourself      \u001b[3m\u001b[90m<dbl>\u001b[39m\u001b[23m 0, 0, 0, 2, 2, 2, 0, 3, 3, 0, 0, 0, 0, 0, 0, 1, 0, 0…\n",
      "$ florist           \u001b[3m\u001b[90m<dbl>\u001b[39m\u001b[23m 0, 0, 0, 2, 0, 0, 2, 2, 1, 0, 0, 0, 0, 0, 0, 0, 0, 0…\n",
      "$ jeweller          \u001b[3m\u001b[90m<dbl>\u001b[39m\u001b[23m 0, 0, 0, 2, 1, 0, 0, 3, 0, 0, 0, 0, 0, 0, 0, 0, 0, 0…\n",
      "$ kiosk             \u001b[3m\u001b[90m<dbl>\u001b[39m\u001b[23m 0, 0, 0, 1, 0, 0, 0, 0, 0, 0, 0, 0, 0, 0, 0, 0, 0, 0…\n",
      "$ mall              \u001b[3m\u001b[90m<dbl>\u001b[39m\u001b[23m 0, 0, 0, 1, 0, 0, 0, 0, 0, 0, 0, 0, 0, 0, 0, 0, 0, 0…\n",
      "$ mobile_phone_shop \u001b[3m\u001b[90m<dbl>\u001b[39m\u001b[23m 0, 0, 0, 2, 1, 0, 0, 7, 1, 0, 0, 0, 0, 0, 0, 0, 0, 0…\n",
      "$ optician          \u001b[3m\u001b[90m<dbl>\u001b[39m\u001b[23m 0, 0, 0, 4, 1, 0, 2, 6, 2, 1, 1, 0, 0, 0, 0, 0, 0, 2…\n",
      "$ shoe_shop         \u001b[3m\u001b[90m<dbl>\u001b[39m\u001b[23m 0, 0, 0, 10, 1, 0, 0, 7, 3, 0, 0, 0, 1, 0, 0, 1, 0, …\n",
      "$ toy_shop          \u001b[3m\u001b[90m<dbl>\u001b[39m\u001b[23m 0, 0, 0, 1, 1, 0, 0, 4, 3, 0, 0, 0, 0, 0, 0, 0, 0, 0…\n",
      "$ travel_agent      \u001b[3m\u001b[90m<dbl>\u001b[39m\u001b[23m 0, 0, 0, 3, 0, 0, 0, 1, 1, 1, 0, 0, 0, 0, 0, 0, 0, 0…\n",
      "$ car_rental        \u001b[3m\u001b[90m<dbl>\u001b[39m\u001b[23m 0, 0, 0, 0, 1, 0, 0, 1, 1, 0, 0, 0, 0, 0, 1, 0, 0, 0…\n",
      "$ car_wash          \u001b[3m\u001b[90m<dbl>\u001b[39m\u001b[23m 0, 0, 0, 0, 1, 0, 0, 2, 1, 0, 0, 0, 0, 0, 0, 0, 0, 0…\n",
      "$ outdoor_shop      \u001b[3m\u001b[90m<dbl>\u001b[39m\u001b[23m 0, 0, 0, 0, 0, 1, 0, 0, 0, 0, 0, 0, 0, 0, 0, 0, 0, 0…\n",
      "$ sports_shop       \u001b[3m\u001b[90m<dbl>\u001b[39m\u001b[23m 0, 0, 0, 0, 0, 1, 1, 4, 1, 2, 0, 0, 0, 0, 0, 0, 0, 0…\n",
      "$ caravan_site      \u001b[3m\u001b[90m<dbl>\u001b[39m\u001b[23m 0, 0, 0, 0, 0, 0, 1, 0, 0, 0, 0, 0, 0, 0, 0, 0, 0, 0…\n",
      "$ biergarten        \u001b[3m\u001b[90m<dbl>\u001b[39m\u001b[23m 0, 0, 0, 0, 0, 0, 0, 1, 0, 0, 0, 0, 0, 0, 0, 0, 0, 0…\n",
      "$ garden_centre     \u001b[3m\u001b[90m<dbl>\u001b[39m\u001b[23m 0, 0, 0, 0, 0, 0, 0, 1, 1, 0, 0, 0, 0, 0, 0, 0, 0, 0…\n",
      "$ laundry           \u001b[3m\u001b[90m<dbl>\u001b[39m\u001b[23m 0, 0, 0, 0, 0, 0, 0, 2, 4, 0, 0, 0, 0, 0, 1, 0, 0, 0…\n",
      "$ department_store  \u001b[3m\u001b[90m<dbl>\u001b[39m\u001b[23m 0, 0, 0, 0, 0, 0, 0, 0, 1, 0, 0, 0, 0, 0, 0, 1, 0, 0…\n",
      "$ newsagent         \u001b[3m\u001b[90m<dbl>\u001b[39m\u001b[23m 0, 0, 0, 0, 0, 0, 0, 0, 2, 0, 0, 0, 0, 0, 0, 0, 0, 1…\n",
      "$ vending_parking   \u001b[3m\u001b[90m<dbl>\u001b[39m\u001b[23m 0, 0, 0, 0, 0, 0, 0, 0, 2, 0, 0, 0, 0, 0, 0, 0, 0, 0…\n",
      "$ chalet            \u001b[3m\u001b[90m<dbl>\u001b[39m\u001b[23m 0, 0, 0, 0, 0, 0, 0, 0, 0, 0, 0, 0, 0, 0, 0, 0, 0, 0…\n",
      "$ shelter           \u001b[3m\u001b[90m<dbl>\u001b[39m\u001b[23m 0, 0, 0, 0, 0, 0, 0, 0, 0, 0, 0, 0, 0, 0, 0, 0, 0, 0…\n",
      "$ motel             \u001b[3m\u001b[90m<dbl>\u001b[39m\u001b[23m 0, 0, 0, 0, 0, 0, 0, 0, 0, 0, 0, 0, 0, 0, 0, 0, 0, 0…\n",
      "$ camp_site         \u001b[3m\u001b[90m<dbl>\u001b[39m\u001b[23m 0, 0, 0, 0, 0, 0, 0, 0, 0, 0, 0, 0, 0, 0, 0, 0, 0, 0…\n",
      "$ general           \u001b[3m\u001b[90m<dbl>\u001b[39m\u001b[23m 0, 0, 0, 0, 0, 0, 0, 0, 0, 0, 0, 0, 0, 0, 0, 0, 0, 0…\n",
      "$ alpine_hut        \u001b[3m\u001b[90m<dbl>\u001b[39m\u001b[23m 0, 0, 0, 0, 0, 0, 0, 0, 0, 0, 0, 0, 0, 0, 0, 0, 0, 0…\n",
      "$ video_shop        \u001b[3m\u001b[90m<dbl>\u001b[39m\u001b[23m 0, 0, 0, 0, 0, 0, 0, 0, 0, 0, 0, 0, 0, 0, 0, 0, 0, 0…\n",
      "$ vending_machine   \u001b[3m\u001b[90m<dbl>\u001b[39m\u001b[23m 0, 0, 0, 0, 0, 0, 0, 0, 0, 0, 0, 0, 0, 0, 0, 0, 0, 0…\n",
      "$ car_sharing       \u001b[3m\u001b[90m<dbl>\u001b[39m\u001b[23m 0, 0, 0, 0, 0, 0, 0, 0, 0, 0, 0, 0, 0, 0, 0, 0, 0, 0…\n"
     ]
    }
   ],
   "source": [
    "glimpse(data_04)"
   ]
  },
  {
   "attachments": {},
   "cell_type": "markdown",
   "metadata": {},
   "source": [
    "Muestra de datos:"
   ]
  },
  {
   "cell_type": "code",
   "execution_count": 22,
   "metadata": {
    "vscode": {
     "languageId": "r"
    }
   },
   "outputs": [
    {
     "data": {
      "text/html": [
       "<table class=\"dataframe\">\n",
       "<caption>A spec_tbl_df: 5 x 60</caption>\n",
       "<thead>\n",
       "\t<tr><th scope=col>cmun</th><th scope=col>cdis</th><th scope=col>bakery</th><th scope=col>bar</th><th scope=col>butcher</th><th scope=col>cafe</th><th scope=col>car_dealership</th><th scope=col>clothes</th><th scope=col>convenience</th><th scope=col>fast_food</th><th scope=col>...</th><th scope=col>vending_parking</th><th scope=col>chalet</th><th scope=col>shelter</th><th scope=col>motel</th><th scope=col>camp_site</th><th scope=col>general</th><th scope=col>alpine_hut</th><th scope=col>video_shop</th><th scope=col>vending_machine</th><th scope=col>car_sharing</th></tr>\n",
       "\t<tr><th scope=col>&lt;chr&gt;</th><th scope=col>&lt;chr&gt;</th><th scope=col>&lt;dbl&gt;</th><th scope=col>&lt;dbl&gt;</th><th scope=col>&lt;dbl&gt;</th><th scope=col>&lt;dbl&gt;</th><th scope=col>&lt;dbl&gt;</th><th scope=col>&lt;dbl&gt;</th><th scope=col>&lt;dbl&gt;</th><th scope=col>&lt;dbl&gt;</th><th scope=col>...</th><th scope=col>&lt;dbl&gt;</th><th scope=col>&lt;dbl&gt;</th><th scope=col>&lt;dbl&gt;</th><th scope=col>&lt;dbl&gt;</th><th scope=col>&lt;dbl&gt;</th><th scope=col>&lt;dbl&gt;</th><th scope=col>&lt;dbl&gt;</th><th scope=col>&lt;dbl&gt;</th><th scope=col>&lt;dbl&gt;</th><th scope=col>&lt;dbl&gt;</th></tr>\n",
       "</thead>\n",
       "<tbody>\n",
       "\t<tr><td>002</td><td>01</td><td>2</td><td> 2</td><td>1</td><td> 5</td><td>1</td><td> 1</td><td>2</td><td>1</td><td>...</td><td>0</td><td>0</td><td>0</td><td>0</td><td>0</td><td>0</td><td>0</td><td>0</td><td>0</td><td>0</td></tr>\n",
       "\t<tr><td>003</td><td>01</td><td>0</td><td> 0</td><td>0</td><td> 1</td><td>0</td><td> 0</td><td>0</td><td>0</td><td>...</td><td>0</td><td>0</td><td>0</td><td>0</td><td>0</td><td>0</td><td>0</td><td>0</td><td>0</td><td>0</td></tr>\n",
       "\t<tr><td>004</td><td>01</td><td>0</td><td> 1</td><td>0</td><td> 0</td><td>0</td><td> 0</td><td>0</td><td>0</td><td>...</td><td>0</td><td>0</td><td>0</td><td>0</td><td>0</td><td>0</td><td>0</td><td>0</td><td>0</td><td>0</td></tr>\n",
       "\t<tr><td>005</td><td>01</td><td>4</td><td>22</td><td>2</td><td>12</td><td>1</td><td>13</td><td>4</td><td>8</td><td>...</td><td>0</td><td>0</td><td>0</td><td>0</td><td>0</td><td>0</td><td>0</td><td>0</td><td>0</td><td>0</td></tr>\n",
       "\t<tr><td>005</td><td>02</td><td>5</td><td>10</td><td>2</td><td> 6</td><td>1</td><td> 1</td><td>2</td><td>1</td><td>...</td><td>0</td><td>0</td><td>0</td><td>0</td><td>0</td><td>0</td><td>0</td><td>0</td><td>0</td><td>0</td></tr>\n",
       "</tbody>\n",
       "</table>\n"
      ],
      "text/latex": [
       "A spec\\_tbl\\_df: 5 x 60\n",
       "\\begin{tabular}{lllllllllllllllllllll}\n",
       " cmun & cdis & bakery & bar & butcher & cafe & car\\_dealership & clothes & convenience & fast\\_food & ... & vending\\_parking & chalet & shelter & motel & camp\\_site & general & alpine\\_hut & video\\_shop & vending\\_machine & car\\_sharing\\\\\n",
       " <chr> & <chr> & <dbl> & <dbl> & <dbl> & <dbl> & <dbl> & <dbl> & <dbl> & <dbl> & ... & <dbl> & <dbl> & <dbl> & <dbl> & <dbl> & <dbl> & <dbl> & <dbl> & <dbl> & <dbl>\\\\\n",
       "\\hline\n",
       "\t 002 & 01 & 2 &  2 & 1 &  5 & 1 &  1 & 2 & 1 & ... & 0 & 0 & 0 & 0 & 0 & 0 & 0 & 0 & 0 & 0\\\\\n",
       "\t 003 & 01 & 0 &  0 & 0 &  1 & 0 &  0 & 0 & 0 & ... & 0 & 0 & 0 & 0 & 0 & 0 & 0 & 0 & 0 & 0\\\\\n",
       "\t 004 & 01 & 0 &  1 & 0 &  0 & 0 &  0 & 0 & 0 & ... & 0 & 0 & 0 & 0 & 0 & 0 & 0 & 0 & 0 & 0\\\\\n",
       "\t 005 & 01 & 4 & 22 & 2 & 12 & 1 & 13 & 4 & 8 & ... & 0 & 0 & 0 & 0 & 0 & 0 & 0 & 0 & 0 & 0\\\\\n",
       "\t 005 & 02 & 5 & 10 & 2 &  6 & 1 &  1 & 2 & 1 & ... & 0 & 0 & 0 & 0 & 0 & 0 & 0 & 0 & 0 & 0\\\\\n",
       "\\end{tabular}\n"
      ],
      "text/markdown": [
       "\n",
       "A spec_tbl_df: 5 x 60\n",
       "\n",
       "| cmun &lt;chr&gt; | cdis &lt;chr&gt; | bakery &lt;dbl&gt; | bar &lt;dbl&gt; | butcher &lt;dbl&gt; | cafe &lt;dbl&gt; | car_dealership &lt;dbl&gt; | clothes &lt;dbl&gt; | convenience &lt;dbl&gt; | fast_food &lt;dbl&gt; | ... ... | vending_parking &lt;dbl&gt; | chalet &lt;dbl&gt; | shelter &lt;dbl&gt; | motel &lt;dbl&gt; | camp_site &lt;dbl&gt; | general &lt;dbl&gt; | alpine_hut &lt;dbl&gt; | video_shop &lt;dbl&gt; | vending_machine &lt;dbl&gt; | car_sharing &lt;dbl&gt; |\n",
       "|---|---|---|---|---|---|---|---|---|---|---|---|---|---|---|---|---|---|---|---|---|\n",
       "| 002 | 01 | 2 |  2 | 1 |  5 | 1 |  1 | 2 | 1 | ... | 0 | 0 | 0 | 0 | 0 | 0 | 0 | 0 | 0 | 0 |\n",
       "| 003 | 01 | 0 |  0 | 0 |  1 | 0 |  0 | 0 | 0 | ... | 0 | 0 | 0 | 0 | 0 | 0 | 0 | 0 | 0 | 0 |\n",
       "| 004 | 01 | 0 |  1 | 0 |  0 | 0 |  0 | 0 | 0 | ... | 0 | 0 | 0 | 0 | 0 | 0 | 0 | 0 | 0 | 0 |\n",
       "| 005 | 01 | 4 | 22 | 2 | 12 | 1 | 13 | 4 | 8 | ... | 0 | 0 | 0 | 0 | 0 | 0 | 0 | 0 | 0 | 0 |\n",
       "| 005 | 02 | 5 | 10 | 2 |  6 | 1 |  1 | 2 | 1 | ... | 0 | 0 | 0 | 0 | 0 | 0 | 0 | 0 | 0 | 0 |\n",
       "\n"
      ],
      "text/plain": [
       "  cmun cdis bakery bar butcher cafe car_dealership clothes convenience\n",
       "1 002  01   2       2  1        5   1               1      2          \n",
       "2 003  01   0       0  0        1   0               0      0          \n",
       "3 004  01   0       1  0        0   0               0      0          \n",
       "4 005  01   4      22  2       12   1              13      4          \n",
       "5 005  02   5      10  2        6   1               1      2          \n",
       "  fast_food ... vending_parking chalet shelter motel camp_site general\n",
       "1 1         ... 0               0      0       0     0         0      \n",
       "2 0         ... 0               0      0       0     0         0      \n",
       "3 0         ... 0               0      0       0     0         0      \n",
       "4 8         ... 0               0      0       0     0         0      \n",
       "5 1         ... 0               0      0       0     0         0      \n",
       "  alpine_hut video_shop vending_machine car_sharing\n",
       "1 0          0          0               0          \n",
       "2 0          0          0               0          \n",
       "3 0          0          0               0          \n",
       "4 0          0          0               0          \n",
       "5 0          0          0               0          "
      ]
     },
     "metadata": {},
     "output_type": "display_data"
    }
   ],
   "source": [
    "data_04 |> slice_head(n = 5)"
   ]
  },
  {
   "attachments": {},
   "cell_type": "markdown",
   "metadata": {},
   "source": [
    "5. AEMET"
   ]
  },
  {
   "attachments": {},
   "cell_type": "markdown",
   "metadata": {},
   "source": [
    "<font color='tomato'><b> OPCION A:</b> Seleccionar fichero en ventana para mayor comodidad</font> "
   ]
  },
  {
   "attachments": {},
   "cell_type": "markdown",
   "metadata": {},
   "source": [
    "Data load using the {tcltk} package. Ucomment the line if not using this option"
   ]
  },
  {
   "cell_type": "code",
   "execution_count": 23,
   "metadata": {
    "vscode": {
     "languageId": "r"
    }
   },
   "outputs": [],
   "source": [
    "# file_data_05 <- tcltk::tk_choose.files(multi = FALSE)"
   ]
  },
  {
   "attachments": {},
   "cell_type": "markdown",
   "metadata": {},
   "source": [
    "<font color='tomato'><b> OPCION B:</b> Especificar el nombre de archivo</font>\n",
    "\n"
   ]
  },
  {
   "cell_type": "code",
   "execution_count": 24,
   "metadata": {
    "vscode": {
     "languageId": "r"
    }
   },
   "outputs": [
    {
     "name": "stdout",
     "output_type": "stream",
     "text": [
      "Se leerán datos del archivo:  Data/Input/CU_18_05_15_distritos_meteo.csv"
     ]
    }
   ],
   "source": [
    "iFile_05 <- \"CU_18_05_15_distritos_meteo.csv\"\n",
    "file_data_05 <- paste0(iPath, iFile_05)\n",
    "\n",
    "if(file.exists(file_data_05)){\n",
    "    cat(\"Se leerán datos del archivo: \", file_data_05)\n",
    "} else{\n",
    "    warning(\"Cuidado: el archivo no existe.\")\n",
    "}\n"
   ]
  },
  {
   "attachments": {},
   "cell_type": "markdown",
   "metadata": {},
   "source": [
    "#### Data file to dataframe\n",
    "\n",
    "Usar la función adecuada según el formato de entrada (xlsx, csv, json, ...)"
   ]
  },
  {
   "cell_type": "code",
   "execution_count": 25,
   "metadata": {
    "vscode": {
     "languageId": "r"
    }
   },
   "outputs": [
    {
     "name": "stderr",
     "output_type": "stream",
     "text": [
      "\u001b[1mRows: \u001b[22m\u001b[34m246\u001b[39m \u001b[1mColumns: \u001b[22m\u001b[34m6\u001b[39m\n",
      "\u001b[36m──\u001b[39m \u001b[1mColumn specification\u001b[22m \u001b[36m────────────────────────────────────────────────────────\u001b[39m\n",
      "\u001b[1mDelimiter:\u001b[22m \",\"\n",
      "\u001b[31mchr\u001b[39m (2): CMUN, CDIS\n",
      "\u001b[32mdbl\u001b[39m (4): tmed, prec, velmedia, presMax\n",
      "\n",
      "\u001b[36mℹ\u001b[39m Use `spec()` to retrieve the full column specification for this data.\n",
      "\u001b[36mℹ\u001b[39m Specify the column types or set `show_col_types = FALSE` to quiet this message.\n"
     ]
    }
   ],
   "source": [
    "data_05 <- read_csv(file_data_05)\n"
   ]
  },
  {
   "attachments": {},
   "cell_type": "markdown",
   "metadata": {},
   "source": [
    "Estructura de  los datos:"
   ]
  },
  {
   "cell_type": "code",
   "execution_count": 26,
   "metadata": {
    "vscode": {
     "languageId": "r"
    }
   },
   "outputs": [
    {
     "name": "stdout",
     "output_type": "stream",
     "text": [
      "Rows: 246\n",
      "Columns: 6\n",
      "$ CMUN     \u001b[3m\u001b[90m<chr>\u001b[39m\u001b[23m \"001\", \"002\", \"003\", \"004\", \"005\", \"005\", \"005\", \"005\", \"005\"…\n",
      "$ CDIS     \u001b[3m\u001b[90m<chr>\u001b[39m\u001b[23m \"01\", \"01\", \"01\", \"01\", \"01\", \"02\", \"03\", \"04\", \"05\", \"01\", \"…\n",
      "$ tmed     \u001b[3m\u001b[90m<dbl>\u001b[39m\u001b[23m 11.47600, 15.31806, 12.00935, 15.13839, 15.27439, 15.31156, 1…\n",
      "$ prec     \u001b[3m\u001b[90m<dbl>\u001b[39m\u001b[23m 3.6992270, 0.8713863, 2.0387942, 1.0548851, 0.8788330, 0.8511…\n",
      "$ velmedia \u001b[3m\u001b[90m<dbl>\u001b[39m\u001b[23m 2.090249, 3.352072, 2.986153, 2.919731, 3.331738, 3.372923, 3…\n",
      "$ presMax  \u001b[3m\u001b[90m<dbl>\u001b[39m\u001b[23m 904.2719, 946.6977, 880.7764, 931.9199, 945.8412, 946.8914, 9…\n"
     ]
    }
   ],
   "source": [
    "glimpse(data_05)"
   ]
  },
  {
   "attachments": {},
   "cell_type": "markdown",
   "metadata": {},
   "source": [
    "Muestra de datos:"
   ]
  },
  {
   "cell_type": "code",
   "execution_count": 27,
   "metadata": {
    "vscode": {
     "languageId": "r"
    }
   },
   "outputs": [
    {
     "data": {
      "text/html": [
       "<table class=\"dataframe\">\n",
       "<caption>A spec_tbl_df: 5 x 6</caption>\n",
       "<thead>\n",
       "\t<tr><th scope=col>CMUN</th><th scope=col>CDIS</th><th scope=col>tmed</th><th scope=col>prec</th><th scope=col>velmedia</th><th scope=col>presMax</th></tr>\n",
       "\t<tr><th scope=col>&lt;chr&gt;</th><th scope=col>&lt;chr&gt;</th><th scope=col>&lt;dbl&gt;</th><th scope=col>&lt;dbl&gt;</th><th scope=col>&lt;dbl&gt;</th><th scope=col>&lt;dbl&gt;</th></tr>\n",
       "</thead>\n",
       "<tbody>\n",
       "\t<tr><td>001</td><td>01</td><td>11.47600</td><td>3.6992270</td><td>2.090249</td><td>904.2719</td></tr>\n",
       "\t<tr><td>002</td><td>01</td><td>15.31806</td><td>0.8713863</td><td>3.352072</td><td>946.6977</td></tr>\n",
       "\t<tr><td>003</td><td>01</td><td>12.00935</td><td>2.0387942</td><td>2.986153</td><td>880.7764</td></tr>\n",
       "\t<tr><td>004</td><td>01</td><td>15.13839</td><td>1.0548851</td><td>2.919731</td><td>931.9199</td></tr>\n",
       "\t<tr><td>005</td><td>01</td><td>15.27439</td><td>0.8788330</td><td>3.331738</td><td>945.8412</td></tr>\n",
       "</tbody>\n",
       "</table>\n"
      ],
      "text/latex": [
       "A spec\\_tbl\\_df: 5 x 6\n",
       "\\begin{tabular}{llllll}\n",
       " CMUN & CDIS & tmed & prec & velmedia & presMax\\\\\n",
       " <chr> & <chr> & <dbl> & <dbl> & <dbl> & <dbl>\\\\\n",
       "\\hline\n",
       "\t 001 & 01 & 11.47600 & 3.6992270 & 2.090249 & 904.2719\\\\\n",
       "\t 002 & 01 & 15.31806 & 0.8713863 & 3.352072 & 946.6977\\\\\n",
       "\t 003 & 01 & 12.00935 & 2.0387942 & 2.986153 & 880.7764\\\\\n",
       "\t 004 & 01 & 15.13839 & 1.0548851 & 2.919731 & 931.9199\\\\\n",
       "\t 005 & 01 & 15.27439 & 0.8788330 & 3.331738 & 945.8412\\\\\n",
       "\\end{tabular}\n"
      ],
      "text/markdown": [
       "\n",
       "A spec_tbl_df: 5 x 6\n",
       "\n",
       "| CMUN &lt;chr&gt; | CDIS &lt;chr&gt; | tmed &lt;dbl&gt; | prec &lt;dbl&gt; | velmedia &lt;dbl&gt; | presMax &lt;dbl&gt; |\n",
       "|---|---|---|---|---|---|\n",
       "| 001 | 01 | 11.47600 | 3.6992270 | 2.090249 | 904.2719 |\n",
       "| 002 | 01 | 15.31806 | 0.8713863 | 3.352072 | 946.6977 |\n",
       "| 003 | 01 | 12.00935 | 2.0387942 | 2.986153 | 880.7764 |\n",
       "| 004 | 01 | 15.13839 | 1.0548851 | 2.919731 | 931.9199 |\n",
       "| 005 | 01 | 15.27439 | 0.8788330 | 3.331738 | 945.8412 |\n",
       "\n"
      ],
      "text/plain": [
       "  CMUN CDIS tmed     prec      velmedia presMax \n",
       "1 001  01   11.47600 3.6992270 2.090249 904.2719\n",
       "2 002  01   15.31806 0.8713863 3.352072 946.6977\n",
       "3 003  01   12.00935 2.0387942 2.986153 880.7764\n",
       "4 004  01   15.13839 1.0548851 2.919731 931.9199\n",
       "5 005  01   15.27439 0.8788330 3.331738 945.8412"
      ]
     },
     "metadata": {},
     "output_type": "display_data"
    }
   ],
   "source": [
    "data_05 |> slice_head(n = 5)"
   ]
  },
  {
   "attachments": {},
   "cell_type": "markdown",
   "metadata": {
    "slideshow": {
     "slide_type": "slide"
    }
   },
   "source": [
    "## ETL Processes"
   ]
  },
  {
   "attachments": {},
   "cell_type": "markdown",
   "metadata": {
    "slideshow": {
     "slide_type": "slide"
    }
   },
   "source": [
    "### Import data from: CSV, Excel, Tab, JSON, SQL, and Parquet files\n",
    "\n",
    "Se han importado en el apartado Data Load anterior:\n",
    "\n",
    "* Infraestructuras (transporte y sanidad)\n",
    "* Administración y servicios\n",
    "* POIS (hostelería, comercio, turismo)\n",
    "* Indicadores INE\n",
    "* Datos meteorológicos\n"
   ]
  },
  {
   "attachments": {},
   "cell_type": "markdown",
   "metadata": {},
   "source": [
    "Incluir apartados si procede para: Extracción de datos (select, filter), Transformación de datos, (mutate, joins, ...). Si es necesario tratar datos perdidos, indicarlo también en NB 09.2"
   ]
  },
  {
   "attachments": {},
   "cell_type": "markdown",
   "metadata": {},
   "source": [
    "#### Data transformation\n",
    "\n",
    "* Nombres de columna para unión consistentes"
   ]
  },
  {
   "cell_type": "code",
   "execution_count": 28,
   "metadata": {
    "vscode": {
     "languageId": "r"
    }
   },
   "outputs": [],
   "source": [
    "tdata_03 <- data_03 |>\n",
    "    rename(cmun = CMUN,\n",
    "            cdis = dist)\n",
    "tdata_05 <- data_05 |>\n",
    "    rename(cmun = CMUN,\n",
    "            cdis = CDIS)\n",
    "\n"
   ]
  },
  {
   "attachments": {},
   "cell_type": "markdown",
   "metadata": {},
   "source": [
    "* Unión de todas las tablas\n"
   ]
  },
  {
   "attachments": {},
   "cell_type": "markdown",
   "metadata": {},
   "source": [
    "Si no aplica: Estos datos no requieren tareas de este tipo."
   ]
  },
  {
   "cell_type": "code",
   "execution_count": 29,
   "metadata": {
    "vscode": {
     "languageId": "r"
    }
   },
   "outputs": [],
   "source": [
    "data <- data_01 |>\n",
    "    full_join(data_02, by = c(\"cmun\", \"cdis\")) |>\n",
    "    full_join(tdata_03, by = c(\"cmun\", \"cdis\")) |>\n",
    "    full_join(data_04, by = c(\"cmun\", \"cdis\")) |>\n",
    "    full_join(tdata_05, by = c(\"cmun\", \"cdis\"))"
   ]
  },
  {
   "cell_type": "code",
   "execution_count": 30,
   "metadata": {
    "vscode": {
     "languageId": "r"
    }
   },
   "outputs": [
    {
     "name": "stdout",
     "output_type": "stream",
     "text": [
      "Rows: 247\n",
      "Columns: 143\n",
      "$ cmun                                                      \u001b[3m\u001b[90m<chr>\u001b[39m\u001b[23m \"001\", \"002\"…\n",
      "$ cdis                                                      \u001b[3m\u001b[90m<chr>\u001b[39m\u001b[23m \"01\", \"01\", …\n",
      "$ consultorios_de_salud                                     \u001b[3m\u001b[90m<dbl>\u001b[39m\u001b[23m 1, 1, 1, 1, …\n",
      "$ helisuperficies                                           \u001b[3m\u001b[90m<dbl>\u001b[39m\u001b[23m 1, 0, 1, 0, …\n",
      "$ centros_de_atencion_a_drogodependientes                   \u001b[3m\u001b[90m<dbl>\u001b[39m\u001b[23m 0, 0, 0, 0, …\n",
      "$ centros_de_salud                                          \u001b[3m\u001b[90m<dbl>\u001b[39m\u001b[23m 0, 0, 0, 0, …\n",
      "$ estaciones_de_cercanias                                   \u001b[3m\u001b[90m<dbl>\u001b[39m\u001b[23m 0, 0, 0, 0, …\n",
      "$ hospitales                                                \u001b[3m\u001b[90m<dbl>\u001b[39m\u001b[23m 0, 0, 0, 0, …\n",
      "$ otros_centros_de_salud                                    \u001b[3m\u001b[90m<dbl>\u001b[39m\u001b[23m 0, 0, 0, 0, …\n",
      "$ centros_de_salud_mental                                   \u001b[3m\u001b[90m<dbl>\u001b[39m\u001b[23m 0, 0, 0, 0, …\n",
      "$ centros_de_especialidades                                 \u001b[3m\u001b[90m<dbl>\u001b[39m\u001b[23m 0, 0, 0, 0, …\n",
      "$ bocas_de_metro                                            \u001b[3m\u001b[90m<dbl>\u001b[39m\u001b[23m 0, 0, 0, 0, …\n",
      "$ intercambiadores                                          \u001b[3m\u001b[90m<dbl>\u001b[39m\u001b[23m 0, 0, 0, 0, …\n",
      "$ aeropuertos                                               \u001b[3m\u001b[90m<dbl>\u001b[39m\u001b[23m 0, 0, 0, 0, …\n",
      "$ ayuntamientos_consejerias_ministerios_etc                 \u001b[3m\u001b[90m<dbl>\u001b[39m\u001b[23m 1, 1, 1, 1, …\n",
      "$ sanidad_y_servicios_sociales                              \u001b[3m\u001b[90m<dbl>\u001b[39m\u001b[23m 1, 8, 0, 10,…\n",
      "$ actividades_administrativas                               \u001b[3m\u001b[90m<dbl>\u001b[39m\u001b[23m 0, 13, 0, 2,…\n",
      "$ actividades_asociativas_y_hogares                         \u001b[3m\u001b[90m<dbl>\u001b[39m\u001b[23m 0, 2, 0, 2, …\n",
      "$ actividades_profesionales                                 \u001b[3m\u001b[90m<dbl>\u001b[39m\u001b[23m 0, 11, 1, 3,…\n",
      "$ administraciones_publicas                                 \u001b[3m\u001b[90m<dbl>\u001b[39m\u001b[23m 0, 2, 2, 2, …\n",
      "$ alimentacion                                              \u001b[3m\u001b[90m<dbl>\u001b[39m\u001b[23m 0, 2, 0, 0, …\n",
      "$ centros_educativos_no_universitarios_centros_publicos     \u001b[3m\u001b[90m<dbl>\u001b[39m\u001b[23m 0, 3, 0, 4, …\n",
      "$ comercio_mayorista                                        \u001b[3m\u001b[90m<dbl>\u001b[39m\u001b[23m 0, 34, 0, 3,…\n",
      "$ comercio_minorista                                        \u001b[3m\u001b[90m<dbl>\u001b[39m\u001b[23m 0, 22, 0, 10…\n",
      "$ construccion                                              \u001b[3m\u001b[90m<dbl>\u001b[39m\u001b[23m 0, 22, 0, 16…\n",
      "$ educacion                                                 \u001b[3m\u001b[90m<dbl>\u001b[39m\u001b[23m 0, 4, 0, 6, …\n",
      "$ hosteleria                                                \u001b[3m\u001b[90m<dbl>\u001b[39m\u001b[23m 0, 2, 4, 12,…\n",
      "$ industria_quimica_y_refino                                \u001b[3m\u001b[90m<dbl>\u001b[39m\u001b[23m 0, 3, 0, 0, …\n",
      "$ informacion_y_comunicaciones                              \u001b[3m\u001b[90m<dbl>\u001b[39m\u001b[23m 0, 1, 0, 0, …\n",
      "$ maquinaria_industrial                                     \u001b[3m\u001b[90m<dbl>\u001b[39m\u001b[23m 0, 6, 0, 0, …\n",
      "$ material_de_transporte                                    \u001b[3m\u001b[90m<dbl>\u001b[39m\u001b[23m 0, 4, 0, 0, …\n",
      "$ material_electrico_y_electronico                          \u001b[3m\u001b[90m<dbl>\u001b[39m\u001b[23m 0, 3, 0, 0, …\n",
      "$ mercadillos                                               \u001b[3m\u001b[90m<dbl>\u001b[39m\u001b[23m 0, 1, 0, 1, …\n",
      "$ metalicas_basicas_e_intermedias                           \u001b[3m\u001b[90m<dbl>\u001b[39m\u001b[23m 0, 25, 0, 1,…\n",
      "$ mineria_y_suministros                                     \u001b[3m\u001b[90m<dbl>\u001b[39m\u001b[23m 0, 1, 0, 0, …\n",
      "$ otras_manufactureras                                      \u001b[3m\u001b[90m<dbl>\u001b[39m\u001b[23m 0, 14, 0, 2,…\n",
      "$ otros_servicios_bancos                                    \u001b[3m\u001b[90m<dbl>\u001b[39m\u001b[23m 0, 3, 0, 2, …\n",
      "$ papel_y_graficas                                          \u001b[3m\u001b[90m<dbl>\u001b[39m\u001b[23m 0, 14, 0, 0,…\n",
      "$ servicios_financieros                                     \u001b[3m\u001b[90m<dbl>\u001b[39m\u001b[23m 0, 3, 0, 4, …\n",
      "$ servicios_personales                                      \u001b[3m\u001b[90m<dbl>\u001b[39m\u001b[23m 0, 3, 0, 5, …\n",
      "$ servicios_recreativos                                     \u001b[3m\u001b[90m<dbl>\u001b[39m\u001b[23m 0, 5, 0, 4, …\n",
      "$ textil_confeccion_y_calzado                               \u001b[3m\u001b[90m<dbl>\u001b[39m\u001b[23m 0, 3, 0, 0, …\n",
      "$ transporte_y_almacenamiento                               \u001b[3m\u001b[90m<dbl>\u001b[39m\u001b[23m 0, 8, 0, 4, …\n",
      "$ actividades_inmobiliarias                                 \u001b[3m\u001b[90m<dbl>\u001b[39m\u001b[23m 0, 0, 0, 1, …\n",
      "$ centros_educativos_no_universitarios_centros_privados     \u001b[3m\u001b[90m<dbl>\u001b[39m\u001b[23m 0, 0, 0, 2, …\n",
      "$ industria_no_metalica                                     \u001b[3m\u001b[90m<dbl>\u001b[39m\u001b[23m 0, 0, 0, 1, …\n",
      "$ administracion_de_justicia                                \u001b[3m\u001b[90m<dbl>\u001b[39m\u001b[23m 0, 0, 0, 0, …\n",
      "$ agencia_tributaria                                        \u001b[3m\u001b[90m<dbl>\u001b[39m\u001b[23m 0, 0, 0, 0, …\n",
      "$ campus_universitarios                                     \u001b[3m\u001b[90m<dbl>\u001b[39m\u001b[23m 0, 0, 0, 0, …\n",
      "$ centros_educativos_universitarios                         \u001b[3m\u001b[90m<dbl>\u001b[39m\u001b[23m 0, 0, 0, 0, …\n",
      "$ colegios_mayores                                          \u001b[3m\u001b[90m<dbl>\u001b[39m\u001b[23m 0, 0, 0, 0, …\n",
      "$ galerias_de_alimentacion                                  \u001b[3m\u001b[90m<dbl>\u001b[39m\u001b[23m 0, 0, 0, 0, …\n",
      "$ grandes_superficies_especializadas                        \u001b[3m\u001b[90m<dbl>\u001b[39m\u001b[23m 0, 0, 0, 0, …\n",
      "$ hipermercados                                             \u001b[3m\u001b[90m<dbl>\u001b[39m\u001b[23m 0, 0, 0, 0, …\n",
      "$ mercados_de_abastos                                       \u001b[3m\u001b[90m<dbl>\u001b[39m\u001b[23m 0, 0, 0, 0, …\n",
      "$ agricultura_y_ganaderia                                   \u001b[3m\u001b[90m<dbl>\u001b[39m\u001b[23m 0, 0, 0, 0, …\n",
      "$ centros_educativos_no_universitarios_servicios_educativos \u001b[3m\u001b[90m<dbl>\u001b[39m\u001b[23m 0, 0, 0, 0, …\n",
      "$ seguridad_social                                          \u001b[3m\u001b[90m<dbl>\u001b[39m\u001b[23m 0, 0, 0, 0, …\n",
      "$ centros_comerciales                                       \u001b[3m\u001b[90m<dbl>\u001b[39m\u001b[23m 0, 0, 0, 0, …\n",
      "$ oficinas_de_empleo                                        \u001b[3m\u001b[90m<dbl>\u001b[39m\u001b[23m 0, 0, 0, 0, …\n",
      "$ embajadas_y_consulados                                    \u001b[3m\u001b[90m<dbl>\u001b[39m\u001b[23m 0, 0, 0, 0, …\n",
      "$ nsec                                                      \u001b[3m\u001b[90m<dbl>\u001b[39m\u001b[23m 1, 2, 1, 4, …\n",
      "$ t3_1                                                      \u001b[3m\u001b[90m<dbl>\u001b[39m\u001b[23m NA, 39.40747…\n",
      "$ t1_1                                                      \u001b[3m\u001b[90m<dbl>\u001b[39m\u001b[23m 55, 4793, 24…\n",
      "$ t2_1                                                      \u001b[3m\u001b[90m<dbl>\u001b[39m\u001b[23m NA, 0.477785…\n",
      "$ t2_2                                                      \u001b[3m\u001b[90m<dbl>\u001b[39m\u001b[23m NA, 0.522214…\n",
      "$ t4_1                                                      \u001b[3m\u001b[90m<dbl>\u001b[39m\u001b[23m NA, 0.169628…\n",
      "$ t4_2                                                      \u001b[3m\u001b[90m<dbl>\u001b[39m\u001b[23m NA, 0.721895…\n",
      "$ t4_3                                                      \u001b[3m\u001b[90m<dbl>\u001b[39m\u001b[23m NA, 0.108475…\n",
      "$ t5_1                                                      \u001b[3m\u001b[90m<dbl>\u001b[39m\u001b[23m NA, 0.155629…\n",
      "$ t6_1                                                      \u001b[3m\u001b[90m<dbl>\u001b[39m\u001b[23m NA, 0.195936…\n",
      "$ t7_1                                                      \u001b[3m\u001b[90m<dbl>\u001b[39m\u001b[23m NA, 0.413183…\n",
      "$ t8_1                                                      \u001b[3m\u001b[90m<dbl>\u001b[39m\u001b[23m NA, 0.409953…\n",
      "$ t9_1                                                      \u001b[3m\u001b[90m<dbl>\u001b[39m\u001b[23m NA, 0.440799…\n",
      "$ t10_1                                                     \u001b[3m\u001b[90m<dbl>\u001b[39m\u001b[23m NA, 0.107152…\n",
      "$ t11_1                                                     \u001b[3m\u001b[90m<dbl>\u001b[39m\u001b[23m NA, 0.600813…\n",
      "$ t12_1                                                     \u001b[3m\u001b[90m<dbl>\u001b[39m\u001b[23m NA, 0.673093…\n",
      "$ X                                                         \u001b[3m\u001b[90m<dbl>\u001b[39m\u001b[23m -3.635710, -…\n",
      "$ Y                                                         \u001b[3m\u001b[90m<dbl>\u001b[39m\u001b[23m 41.09315, 40…\n",
      "$ densidad_hab_km                                           \u001b[3m\u001b[90m<dbl>\u001b[39m\u001b[23m 2.514002, 24…\n",
      "$ area_km2                                                  \u001b[3m\u001b[90m<dbl>\u001b[39m\u001b[23m 21.877471, 1…\n",
      "$ bakery                                                    \u001b[3m\u001b[90m<dbl>\u001b[39m\u001b[23m NA, 2, 0, 0,…\n",
      "$ bar                                                       \u001b[3m\u001b[90m<dbl>\u001b[39m\u001b[23m NA, 2, 0, 1,…\n",
      "$ butcher                                                   \u001b[3m\u001b[90m<dbl>\u001b[39m\u001b[23m NA, 1, 0, 0,…\n",
      "$ cafe                                                      \u001b[3m\u001b[90m<dbl>\u001b[39m\u001b[23m NA, 5, 1, 0,…\n",
      "$ car_dealership                                            \u001b[3m\u001b[90m<dbl>\u001b[39m\u001b[23m NA, 1, 0, 0,…\n",
      "$ clothes                                                   \u001b[3m\u001b[90m<dbl>\u001b[39m\u001b[23m NA, 1, 0, 0,…\n",
      "$ convenience                                               \u001b[3m\u001b[90m<dbl>\u001b[39m\u001b[23m NA, 2, 0, 0,…\n",
      "$ fast_food                                                 \u001b[3m\u001b[90m<dbl>\u001b[39m\u001b[23m NA, 1, 0, 0,…\n",
      "$ food_court                                                \u001b[3m\u001b[90m<dbl>\u001b[39m\u001b[23m NA, 2, 0, 0,…\n",
      "$ furniture_shop                                            \u001b[3m\u001b[90m<dbl>\u001b[39m\u001b[23m NA, 2, 0, 0,…\n",
      "$ gift_shop                                                 \u001b[3m\u001b[90m<dbl>\u001b[39m\u001b[23m NA, 1, 0, 0,…\n",
      "$ greengrocer                                               \u001b[3m\u001b[90m<dbl>\u001b[39m\u001b[23m NA, 1, 0, 0,…\n",
      "$ guesthouse                                                \u001b[3m\u001b[90m<dbl>\u001b[39m\u001b[23m NA, 1, 0, 0,…\n",
      "$ hairdresser                                               \u001b[3m\u001b[90m<dbl>\u001b[39m\u001b[23m NA, 2, 0, 0,…\n",
      "$ hotel                                                     \u001b[3m\u001b[90m<dbl>\u001b[39m\u001b[23m NA, 1, 1, 0,…\n",
      "$ pub                                                       \u001b[3m\u001b[90m<dbl>\u001b[39m\u001b[23m NA, 2, 0, 0,…\n",
      "$ restaurant                                                \u001b[3m\u001b[90m<dbl>\u001b[39m\u001b[23m NA, 5, 4, 3,…\n",
      "$ stationery                                                \u001b[3m\u001b[90m<dbl>\u001b[39m\u001b[23m NA, 1, 0, 0,…\n",
      "$ vending_any                                               \u001b[3m\u001b[90m<dbl>\u001b[39m\u001b[23m NA, 1, 0, 0,…\n",
      "$ bicycle_rental                                            \u001b[3m\u001b[90m<dbl>\u001b[39m\u001b[23m NA, 0, 1, 0,…\n",
      "$ hostel                                                    \u001b[3m\u001b[90m<dbl>\u001b[39m\u001b[23m NA, 0, 2, 0,…\n",
      "$ supermarket                                               \u001b[3m\u001b[90m<dbl>\u001b[39m\u001b[23m NA, 0, 1, 1,…\n",
      "$ beauty_shop                                               \u001b[3m\u001b[90m<dbl>\u001b[39m\u001b[23m NA, 0, 0, 0,…\n",
      "$ beverages                                                 \u001b[3m\u001b[90m<dbl>\u001b[39m\u001b[23m NA, 0, 0, 0,…\n",
      "$ bicycle_shop                                              \u001b[3m\u001b[90m<dbl>\u001b[39m\u001b[23m NA, 0, 0, 0,…\n",
      "$ bookshop                                                  \u001b[3m\u001b[90m<dbl>\u001b[39m\u001b[23m NA, 0, 0, 0,…\n",
      "$ chemist                                                   \u001b[3m\u001b[90m<dbl>\u001b[39m\u001b[23m NA, 0, 0, 0,…\n",
      "$ computer_shop                                             \u001b[3m\u001b[90m<dbl>\u001b[39m\u001b[23m NA, 0, 0, 0,…\n",
      "$ doityourself                                              \u001b[3m\u001b[90m<dbl>\u001b[39m\u001b[23m NA, 0, 0, 0,…\n",
      "$ florist                                                   \u001b[3m\u001b[90m<dbl>\u001b[39m\u001b[23m NA, 0, 0, 0,…\n",
      "$ jeweller                                                  \u001b[3m\u001b[90m<dbl>\u001b[39m\u001b[23m NA, 0, 0, 0,…\n",
      "$ kiosk                                                     \u001b[3m\u001b[90m<dbl>\u001b[39m\u001b[23m NA, 0, 0, 0,…\n",
      "$ mall                                                      \u001b[3m\u001b[90m<dbl>\u001b[39m\u001b[23m NA, 0, 0, 0,…\n",
      "$ mobile_phone_shop                                         \u001b[3m\u001b[90m<dbl>\u001b[39m\u001b[23m NA, 0, 0, 0,…\n",
      "$ optician                                                  \u001b[3m\u001b[90m<dbl>\u001b[39m\u001b[23m NA, 0, 0, 0,…\n",
      "$ shoe_shop                                                 \u001b[3m\u001b[90m<dbl>\u001b[39m\u001b[23m NA, 0, 0, 0,…\n",
      "$ toy_shop                                                  \u001b[3m\u001b[90m<dbl>\u001b[39m\u001b[23m NA, 0, 0, 0,…\n",
      "$ travel_agent                                              \u001b[3m\u001b[90m<dbl>\u001b[39m\u001b[23m NA, 0, 0, 0,…\n",
      "$ car_rental                                                \u001b[3m\u001b[90m<dbl>\u001b[39m\u001b[23m NA, 0, 0, 0,…\n",
      "$ car_wash                                                  \u001b[3m\u001b[90m<dbl>\u001b[39m\u001b[23m NA, 0, 0, 0,…\n",
      "$ outdoor_shop                                              \u001b[3m\u001b[90m<dbl>\u001b[39m\u001b[23m NA, 0, 0, 0,…\n",
      "$ sports_shop                                               \u001b[3m\u001b[90m<dbl>\u001b[39m\u001b[23m NA, 0, 0, 0,…\n",
      "$ caravan_site                                              \u001b[3m\u001b[90m<dbl>\u001b[39m\u001b[23m NA, 0, 0, 0,…\n",
      "$ biergarten                                                \u001b[3m\u001b[90m<dbl>\u001b[39m\u001b[23m NA, 0, 0, 0,…\n",
      "$ garden_centre                                             \u001b[3m\u001b[90m<dbl>\u001b[39m\u001b[23m NA, 0, 0, 0,…\n",
      "$ laundry                                                   \u001b[3m\u001b[90m<dbl>\u001b[39m\u001b[23m NA, 0, 0, 0,…\n",
      "$ department_store                                          \u001b[3m\u001b[90m<dbl>\u001b[39m\u001b[23m NA, 0, 0, 0,…\n",
      "$ newsagent                                                 \u001b[3m\u001b[90m<dbl>\u001b[39m\u001b[23m NA, 0, 0, 0,…\n",
      "$ vending_parking                                           \u001b[3m\u001b[90m<dbl>\u001b[39m\u001b[23m NA, 0, 0, 0,…\n",
      "$ chalet                                                    \u001b[3m\u001b[90m<dbl>\u001b[39m\u001b[23m NA, 0, 0, 0,…\n",
      "$ shelter                                                   \u001b[3m\u001b[90m<dbl>\u001b[39m\u001b[23m NA, 0, 0, 0,…\n",
      "$ motel                                                     \u001b[3m\u001b[90m<dbl>\u001b[39m\u001b[23m NA, 0, 0, 0,…\n",
      "$ camp_site                                                 \u001b[3m\u001b[90m<dbl>\u001b[39m\u001b[23m NA, 0, 0, 0,…\n",
      "$ general                                                   \u001b[3m\u001b[90m<dbl>\u001b[39m\u001b[23m NA, 0, 0, 0,…\n",
      "$ alpine_hut                                                \u001b[3m\u001b[90m<dbl>\u001b[39m\u001b[23m NA, 0, 0, 0,…\n",
      "$ video_shop                                                \u001b[3m\u001b[90m<dbl>\u001b[39m\u001b[23m NA, 0, 0, 0,…\n",
      "$ vending_machine                                           \u001b[3m\u001b[90m<dbl>\u001b[39m\u001b[23m NA, 0, 0, 0,…\n",
      "$ car_sharing                                               \u001b[3m\u001b[90m<dbl>\u001b[39m\u001b[23m NA, 0, 0, 0,…\n",
      "$ tmed                                                      \u001b[3m\u001b[90m<dbl>\u001b[39m\u001b[23m 11.47600, 15…\n",
      "$ prec                                                      \u001b[3m\u001b[90m<dbl>\u001b[39m\u001b[23m 3.6992270, 0…\n",
      "$ velmedia                                                  \u001b[3m\u001b[90m<dbl>\u001b[39m\u001b[23m 2.090249, 3.…\n",
      "$ presMax                                                   \u001b[3m\u001b[90m<dbl>\u001b[39m\u001b[23m 904.2719, 94…\n"
     ]
    }
   ],
   "source": [
    "data |> glimpse()"
   ]
  },
  {
   "cell_type": "code",
   "execution_count": 31,
   "metadata": {
    "vscode": {
     "languageId": "r"
    }
   },
   "outputs": [
    {
     "data": {
      "text/html": [
       "<table class=\"dataframe\">\n",
       "<caption>A spec_tbl_df: 5 x 143</caption>\n",
       "<thead>\n",
       "\t<tr><th scope=col>cmun</th><th scope=col>cdis</th><th scope=col>consultorios_de_salud</th><th scope=col>helisuperficies</th><th scope=col>centros_de_atencion_a_drogodependientes</th><th scope=col>centros_de_salud</th><th scope=col>estaciones_de_cercanias</th><th scope=col>hospitales</th><th scope=col>otros_centros_de_salud</th><th scope=col>centros_de_salud_mental</th><th scope=col>...</th><th scope=col>camp_site</th><th scope=col>general</th><th scope=col>alpine_hut</th><th scope=col>video_shop</th><th scope=col>vending_machine</th><th scope=col>car_sharing</th><th scope=col>tmed</th><th scope=col>prec</th><th scope=col>velmedia</th><th scope=col>presMax</th></tr>\n",
       "\t<tr><th scope=col>&lt;chr&gt;</th><th scope=col>&lt;chr&gt;</th><th scope=col>&lt;dbl&gt;</th><th scope=col>&lt;dbl&gt;</th><th scope=col>&lt;dbl&gt;</th><th scope=col>&lt;dbl&gt;</th><th scope=col>&lt;dbl&gt;</th><th scope=col>&lt;dbl&gt;</th><th scope=col>&lt;dbl&gt;</th><th scope=col>&lt;dbl&gt;</th><th scope=col>...</th><th scope=col>&lt;dbl&gt;</th><th scope=col>&lt;dbl&gt;</th><th scope=col>&lt;dbl&gt;</th><th scope=col>&lt;dbl&gt;</th><th scope=col>&lt;dbl&gt;</th><th scope=col>&lt;dbl&gt;</th><th scope=col>&lt;dbl&gt;</th><th scope=col>&lt;dbl&gt;</th><th scope=col>&lt;dbl&gt;</th><th scope=col>&lt;dbl&gt;</th></tr>\n",
       "</thead>\n",
       "<tbody>\n",
       "\t<tr><td>001</td><td>01</td><td>1</td><td>1</td><td>0</td><td>0</td><td>0</td><td>0</td><td>0</td><td>0</td><td>...</td><td>NA</td><td>NA</td><td>NA</td><td>NA</td><td>NA</td><td>NA</td><td>11.47600</td><td>3.6992270</td><td>2.090249</td><td>904.2719</td></tr>\n",
       "\t<tr><td>002</td><td>01</td><td>1</td><td>0</td><td>0</td><td>0</td><td>0</td><td>0</td><td>0</td><td>0</td><td>...</td><td> 0</td><td> 0</td><td> 0</td><td> 0</td><td> 0</td><td> 0</td><td>15.31806</td><td>0.8713863</td><td>3.352072</td><td>946.6977</td></tr>\n",
       "\t<tr><td>003</td><td>01</td><td>1</td><td>1</td><td>0</td><td>0</td><td>0</td><td>0</td><td>0</td><td>0</td><td>...</td><td> 0</td><td> 0</td><td> 0</td><td> 0</td><td> 0</td><td> 0</td><td>12.00935</td><td>2.0387942</td><td>2.986153</td><td>880.7764</td></tr>\n",
       "\t<tr><td>004</td><td>01</td><td>1</td><td>0</td><td>0</td><td>0</td><td>0</td><td>0</td><td>0</td><td>0</td><td>...</td><td> 0</td><td> 0</td><td> 0</td><td> 0</td><td> 0</td><td> 0</td><td>15.13839</td><td>1.0548851</td><td>2.919731</td><td>931.9199</td></tr>\n",
       "\t<tr><td>005</td><td>01</td><td>0</td><td>0</td><td>1</td><td>2</td><td>1</td><td>1</td><td>1</td><td>0</td><td>...</td><td> 0</td><td> 0</td><td> 0</td><td> 0</td><td> 0</td><td> 0</td><td>15.27439</td><td>0.8788330</td><td>3.331738</td><td>945.8412</td></tr>\n",
       "</tbody>\n",
       "</table>\n"
      ],
      "text/latex": [
       "A spec\\_tbl\\_df: 5 x 143\n",
       "\\begin{tabular}{lllllllllllllllllllll}\n",
       " cmun & cdis & consultorios\\_de\\_salud & helisuperficies & centros\\_de\\_atencion\\_a\\_drogodependientes & centros\\_de\\_salud & estaciones\\_de\\_cercanias & hospitales & otros\\_centros\\_de\\_salud & centros\\_de\\_salud\\_mental & ... & camp\\_site & general & alpine\\_hut & video\\_shop & vending\\_machine & car\\_sharing & tmed & prec & velmedia & presMax\\\\\n",
       " <chr> & <chr> & <dbl> & <dbl> & <dbl> & <dbl> & <dbl> & <dbl> & <dbl> & <dbl> & ... & <dbl> & <dbl> & <dbl> & <dbl> & <dbl> & <dbl> & <dbl> & <dbl> & <dbl> & <dbl>\\\\\n",
       "\\hline\n",
       "\t 001 & 01 & 1 & 1 & 0 & 0 & 0 & 0 & 0 & 0 & ... & NA & NA & NA & NA & NA & NA & 11.47600 & 3.6992270 & 2.090249 & 904.2719\\\\\n",
       "\t 002 & 01 & 1 & 0 & 0 & 0 & 0 & 0 & 0 & 0 & ... &  0 &  0 &  0 &  0 &  0 &  0 & 15.31806 & 0.8713863 & 3.352072 & 946.6977\\\\\n",
       "\t 003 & 01 & 1 & 1 & 0 & 0 & 0 & 0 & 0 & 0 & ... &  0 &  0 &  0 &  0 &  0 &  0 & 12.00935 & 2.0387942 & 2.986153 & 880.7764\\\\\n",
       "\t 004 & 01 & 1 & 0 & 0 & 0 & 0 & 0 & 0 & 0 & ... &  0 &  0 &  0 &  0 &  0 &  0 & 15.13839 & 1.0548851 & 2.919731 & 931.9199\\\\\n",
       "\t 005 & 01 & 0 & 0 & 1 & 2 & 1 & 1 & 1 & 0 & ... &  0 &  0 &  0 &  0 &  0 &  0 & 15.27439 & 0.8788330 & 3.331738 & 945.8412\\\\\n",
       "\\end{tabular}\n"
      ],
      "text/markdown": [
       "\n",
       "A spec_tbl_df: 5 x 143\n",
       "\n",
       "| cmun &lt;chr&gt; | cdis &lt;chr&gt; | consultorios_de_salud &lt;dbl&gt; | helisuperficies &lt;dbl&gt; | centros_de_atencion_a_drogodependientes &lt;dbl&gt; | centros_de_salud &lt;dbl&gt; | estaciones_de_cercanias &lt;dbl&gt; | hospitales &lt;dbl&gt; | otros_centros_de_salud &lt;dbl&gt; | centros_de_salud_mental &lt;dbl&gt; | ... ... | camp_site &lt;dbl&gt; | general &lt;dbl&gt; | alpine_hut &lt;dbl&gt; | video_shop &lt;dbl&gt; | vending_machine &lt;dbl&gt; | car_sharing &lt;dbl&gt; | tmed &lt;dbl&gt; | prec &lt;dbl&gt; | velmedia &lt;dbl&gt; | presMax &lt;dbl&gt; |\n",
       "|---|---|---|---|---|---|---|---|---|---|---|---|---|---|---|---|---|---|---|---|---|\n",
       "| 001 | 01 | 1 | 1 | 0 | 0 | 0 | 0 | 0 | 0 | ... | NA | NA | NA | NA | NA | NA | 11.47600 | 3.6992270 | 2.090249 | 904.2719 |\n",
       "| 002 | 01 | 1 | 0 | 0 | 0 | 0 | 0 | 0 | 0 | ... |  0 |  0 |  0 |  0 |  0 |  0 | 15.31806 | 0.8713863 | 3.352072 | 946.6977 |\n",
       "| 003 | 01 | 1 | 1 | 0 | 0 | 0 | 0 | 0 | 0 | ... |  0 |  0 |  0 |  0 |  0 |  0 | 12.00935 | 2.0387942 | 2.986153 | 880.7764 |\n",
       "| 004 | 01 | 1 | 0 | 0 | 0 | 0 | 0 | 0 | 0 | ... |  0 |  0 |  0 |  0 |  0 |  0 | 15.13839 | 1.0548851 | 2.919731 | 931.9199 |\n",
       "| 005 | 01 | 0 | 0 | 1 | 2 | 1 | 1 | 1 | 0 | ... |  0 |  0 |  0 |  0 |  0 |  0 | 15.27439 | 0.8788330 | 3.331738 | 945.8412 |\n",
       "\n"
      ],
      "text/plain": [
       "  cmun cdis consultorios_de_salud helisuperficies\n",
       "1 001  01   1                     1              \n",
       "2 002  01   1                     0              \n",
       "3 003  01   1                     1              \n",
       "4 004  01   1                     0              \n",
       "5 005  01   0                     0              \n",
       "  centros_de_atencion_a_drogodependientes centros_de_salud\n",
       "1 0                                       0               \n",
       "2 0                                       0               \n",
       "3 0                                       0               \n",
       "4 0                                       0               \n",
       "5 1                                       2               \n",
       "  estaciones_de_cercanias hospitales otros_centros_de_salud\n",
       "1 0                       0          0                     \n",
       "2 0                       0          0                     \n",
       "3 0                       0          0                     \n",
       "4 0                       0          0                     \n",
       "5 1                       1          1                     \n",
       "  centros_de_salud_mental ... camp_site general alpine_hut video_shop\n",
       "1 0                       ... NA        NA      NA         NA        \n",
       "2 0                       ...  0         0       0          0        \n",
       "3 0                       ...  0         0       0          0        \n",
       "4 0                       ...  0         0       0          0        \n",
       "5 0                       ...  0         0       0          0        \n",
       "  vending_machine car_sharing tmed     prec      velmedia presMax \n",
       "1 NA              NA          11.47600 3.6992270 2.090249 904.2719\n",
       "2  0               0          15.31806 0.8713863 3.352072 946.6977\n",
       "3  0               0          12.00935 2.0387942 2.986153 880.7764\n",
       "4  0               0          15.13839 1.0548851 2.919731 931.9199\n",
       "5  0               0          15.27439 0.8788330 3.331738 945.8412"
      ]
     },
     "metadata": {},
     "output_type": "display_data"
    }
   ],
   "source": [
    "data |> slice_head(n = 5)"
   ]
  },
  {
   "attachments": {},
   "cell_type": "markdown",
   "metadata": {
    "slideshow": {
     "slide_type": "slide"
    }
   },
   "source": [
    "## Synthetic Data Generation"
   ]
  },
  {
   "attachments": {},
   "cell_type": "markdown",
   "metadata": {
    "slideshow": {
     "slide_type": "slide"
    }
   },
   "source": [
    "No aplica"
   ]
  },
  {
   "attachments": {},
   "cell_type": "markdown",
   "metadata": {
    "slideshow": {
     "slide_type": "slide"
    }
   },
   "source": [
    "## Fake Data Generation"
   ]
  },
  {
   "attachments": {},
   "cell_type": "markdown",
   "metadata": {
    "slideshow": {
     "slide_type": "slide"
    }
   },
   "source": [
    "No aplica"
   ]
  },
  {
   "attachments": {},
   "cell_type": "markdown",
   "metadata": {
    "slideshow": {
     "slide_type": "slide"
    }
   },
   "source": [
    "## Open Data"
   ]
  },
  {
   "attachments": {},
   "cell_type": "markdown",
   "metadata": {
    "slideshow": {
     "slide_type": "slide"
    }
   },
   "source": [
    "Los datos fueron descargados de datos abiertos (INE, CM, OSM, AEMET)"
   ]
  },
  {
   "attachments": {},
   "cell_type": "markdown",
   "metadata": {},
   "source": [
    "## <font color='green'>Data Save</font>"
   ]
  },
  {
   "attachments": {},
   "cell_type": "markdown",
   "metadata": {},
   "source": [
    "Este proceso, puede copiarse y repetirse en aquellas partes del notebbok que necesiten guardar datos.\n",
    "Recuerde cambiar las cadenas añadida del fichero para diferenciarlas"
   ]
  },
  {
   "attachments": {},
   "cell_type": "markdown",
   "metadata": {},
   "source": [
    "<font color='tomato'> Identificamos los datos a guardar</font>"
   ]
  },
  {
   "cell_type": "code",
   "execution_count": 32,
   "metadata": {
    "ExecuteTime": {
     "end_time": "2020-12-25T17:59:27.022001Z",
     "start_time": "2020-12-25T17:59:15.986986Z"
    },
    "scrolled": false,
    "vscode": {
     "languageId": "r"
    }
   },
   "outputs": [],
   "source": [
    "data_to_save <- data"
   ]
  },
  {
   "attachments": {},
   "cell_type": "markdown",
   "metadata": {},
   "source": [
    "\n",
    "<font color='tomato'>Estructura de nombre de archivos:</font>\n",
    "\n",
    "* Código del caso de uso, por ejemplo \"CU_04\"\n",
    "* Número del proceso que lo genera, por ejemplo \"_05\".\n",
    "* Número de la tarea que lo genera, por ejemplo \"_01\"\n",
    "* En caso de generarse varios ficheros en la misma tarea, llevarán _01 _02 ... después\n",
    "* Nombre: identificativo de \"properData\", por ejemplo \"_zonasgeo\"\n",
    "* Extensión del archivo\n",
    "\n",
    "Ejemplo: \"CU_04_05_01_01_zonasgeo.json, primer fichero que se genera en la tarea 01 del proceso 05 (Data Collection) para el caso de uso 04 (vacunas)\n",
    "\n",
    "Importante mantener los guiones bajos antes de proceso, tarea, archivo y nombre"
   ]
  },
  {
   "attachments": {},
   "cell_type": "markdown",
   "metadata": {},
   "source": [
    "### Proceso 05"
   ]
  },
  {
   "cell_type": "code",
   "execution_count": 33,
   "metadata": {
    "ExecuteTime": {
     "end_time": "2020-12-25T17:59:27.022001Z",
     "start_time": "2020-12-25T17:59:15.986986Z"
    },
    "scrolled": false,
    "vscode": {
     "languageId": "r"
    }
   },
   "outputs": [],
   "source": [
    "caso <- \"CU_18\"\n",
    "proceso <- '_05'\n",
    "tarea <- \"_16\"\n",
    "archivo <- \"\"\n",
    "proper <- \"_distritos_variables\"\n",
    "extension <- \".csv\""
   ]
  },
  {
   "attachments": {},
   "cell_type": "markdown",
   "metadata": {},
   "source": [
    "<font color='tomato'><b> OPCION A:</b> Uso del paquete \"tcltk\" para mayor comodidad</font>\n",
    "\n",
    "* Buscar carpeta, escribir nombre de archivo SIN extensión (se especifica en el código)\n",
    "* Especificar sufijo2 si es necesario\n",
    "* Cambiar datos por datos_xx si es necesario"
   ]
  },
  {
   "cell_type": "code",
   "execution_count": 34,
   "metadata": {
    "ExecuteTime": {
     "end_time": "2020-12-25T17:59:27.022001Z",
     "start_time": "2020-12-25T17:59:15.986986Z"
    },
    "scrolled": false,
    "vscode": {
     "languageId": "r"
    }
   },
   "outputs": [],
   "source": [
    "# file_save <- paste0(caso, proceso, tarea, tcltk::tkgetSaveFile(), proper, extension) \n",
    "# path_out <- paste0(oPath, file_save)\n",
    "# write_csv(data_to_save, path_out)\n",
    "\n",
    "# cat('File saved as: ')\n",
    "# path_out"
   ]
  },
  {
   "attachments": {},
   "cell_type": "markdown",
   "metadata": {},
   "source": [
    "<font color='tomato'><b> OPCION B:</b> Especificar el nombre de archivo</font>"
   ]
  },
  {
   "attachments": {},
   "cell_type": "markdown",
   "metadata": {},
   "source": [
    "- Los ficheros de salida del proceso van siempre a Data/Output/.  "
   ]
  },
  {
   "cell_type": "code",
   "execution_count": 35,
   "metadata": {
    "ExecuteTime": {
     "end_time": "2021-01-26T18:40:31.258294Z",
     "start_time": "2021-01-26T18:40:26.061847Z"
    },
    "slideshow": {
     "slide_type": "subslide"
    },
    "vscode": {
     "languageId": "r"
    }
   },
   "outputs": [
    {
     "name": "stdout",
     "output_type": "stream",
     "text": [
      "File saved as: "
     ]
    },
    {
     "data": {
      "text/html": [
       "'Data/Output/CU_18_05_16_distritos_variables.csv'"
      ],
      "text/latex": [
       "'Data/Output/CU\\_18\\_05\\_16\\_distritos\\_variables.csv'"
      ],
      "text/markdown": [
       "'Data/Output/CU_18_05_16_distritos_variables.csv'"
      ],
      "text/plain": [
       "[1] \"Data/Output/CU_18_05_16_distritos_variables.csv\""
      ]
     },
     "metadata": {},
     "output_type": "display_data"
    }
   ],
   "source": [
    "file_save <- paste0(caso, proceso, tarea, archivo, proper, extension) \n",
    "path_out <- paste0(oPath, file_save)\n",
    "write_csv(data_to_save, path_out)\n",
    "\n",
    "cat('File saved as: ')\n",
    "path_out"
   ]
  },
  {
   "attachments": {},
   "cell_type": "markdown",
   "metadata": {},
   "source": [
    "#### Copia del fichero a Input\n",
    "\n",
    "Si el archivo se va a usar en otros notebooks, copiar a la carpeta Input"
   ]
  },
  {
   "cell_type": "code",
   "execution_count": 36,
   "metadata": {
    "vscode": {
     "languageId": "r"
    }
   },
   "outputs": [
    {
     "data": {
      "text/html": [
       "TRUE"
      ],
      "text/latex": [
       "TRUE"
      ],
      "text/markdown": [
       "TRUE"
      ],
      "text/plain": [
       "[1] TRUE"
      ]
     },
     "metadata": {},
     "output_type": "display_data"
    }
   ],
   "source": [
    "path_in <- paste0(iPath, file_save)\n",
    "file.copy(path_out, path_in, overwrite = TRUE)"
   ]
  },
  {
   "attachments": {},
   "cell_type": "markdown",
   "metadata": {},
   "source": [
    "## <font color=' #2874a6 '>Main Conclusions</font>"
   ]
  },
  {
   "attachments": {},
   "cell_type": "markdown",
   "metadata": {
    "slideshow": {
     "slide_type": "slide"
    }
   },
   "source": [
    "<font color='steelblue'>List and describe the general conclusions of the analysis carried out​.</font>"
   ]
  },
  {
   "attachments": {},
   "cell_type": "markdown",
   "metadata": {},
   "source": [
    "### Prerequisites\n",
    "\n",
    "This working code needs the following conditions:\n",
    "\n",
    "* For using the interactive selection of file, the {tcltk} package must be installed. It is not needed in production.\n",
    "* The {readr} and {dplyr} packages must be installed. \n",
    "* The data paths `Data/Input` and `Data/Output` must exist (relative to the notebook path)"
   ]
  },
  {
   "attachments": {},
   "cell_type": "markdown",
   "metadata": {},
   "source": [
    "### Configuration Management\n",
    "\n",
    "This notebook has been tested with the following versions of R and packages. It cannot be assured that later versions work in the same way:\n",
    "* R 4.2.2\n",
    "* tcltk 4.2.2\n",
    "* readr 2.1.3\n",
    "* dplyr 1.0.10"
   ]
  },
  {
   "attachments": {},
   "cell_type": "markdown",
   "metadata": {},
   "source": [
    "### Data structures"
   ]
  },
  {
   "attachments": {},
   "cell_type": "markdown",
   "metadata": {},
   "source": [
    "#### Objeto `data`\n",
    "\n",
    "- Hay 248 filas con 143 columnas (ver tareas anteriores para detalle)\n"
   ]
  },
  {
   "attachments": {},
   "cell_type": "markdown",
   "metadata": {},
   "source": [
    "#### Observaciones generales sobre los datos\n",
    "\n",
    "* Hay valores perdidos ya que algunos de los distritos no tienen datos en todos los archivos de datos"
   ]
  },
  {
   "attachments": {},
   "cell_type": "markdown",
   "metadata": {},
   "source": [
    "### Consideraciones para despliegue en piloto\n",
    "\n",
    "* Ninguna"
   ]
  },
  {
   "attachments": {},
   "cell_type": "markdown",
   "metadata": {},
   "source": [
    "### Consideraciones para despliegue en producción\n",
    "\n",
    "* Se deben crear los procesos ETL en producción necesarios para que los datos de entrada estén actualizados"
   ]
  },
  {
   "attachments": {},
   "cell_type": "markdown",
   "metadata": {},
   "source": [
    "## <font color=' #2874a6 '>Main Actions</font>"
   ]
  },
  {
   "attachments": {},
   "cell_type": "markdown",
   "metadata": {},
   "source": [
    "#### <font color=' #2874a6 '>Acciones done</font>"
   ]
  },
  {
   "attachments": {},
   "cell_type": "markdown",
   "metadata": {
    "slideshow": {
     "slide_type": "slide"
    }
   },
   "source": [
    "<font color='steelblue'>Indicate the actions that have been carried out in this process</font>"
   ]
  },
  {
   "attachments": {},
   "cell_type": "markdown",
   "metadata": {},
   "source": [
    "- Se han unido las tablas con información por distritos"
   ]
  },
  {
   "attachments": {},
   "cell_type": "markdown",
   "metadata": {},
   "source": [
    "#### <font color=' #2874a6 '>Acctions to perform</font>"
   ]
  },
  {
   "attachments": {},
   "cell_type": "markdown",
   "metadata": {
    "slideshow": {
     "slide_type": "slide"
    }
   },
   "source": [
    "<font color='steelblue'>Indicate the actions that must be carried out in subsequent processes</font>"
   ]
  },
  {
   "attachments": {},
   "cell_type": "markdown",
   "metadata": {},
   "source": [
    "- Se debe decidir si imputar valores perdidos u omitirlos en cada modelo"
   ]
  },
  {
   "attachments": {},
   "cell_type": "markdown",
   "metadata": {},
   "source": [
    "## <font color='RED'>CODE TO DEPLOY (PILOT)</font>\n",
    "\n",
    "A continuación se incluirá el código que deba ser llevado a despliegue para producción, dado que se entiende efectúa operaciones necesarias sobre los datos en la ejecución del prototipo"
   ]
  },
  {
   "attachments": {},
   "cell_type": "markdown",
   "metadata": {},
   "source": [
    "<font color=' red '><b>Description</b></font>\n",
    "\n",
    "- No hay nada que desplegar en el piloto, ya que estos datos son estáticos o en todo caso cambian con muy poca frecuencia, altamente improbable durante el proyecto.\n"
   ]
  },
  {
   "attachments": {},
   "cell_type": "markdown",
   "metadata": {},
   "source": [
    "<font color=' red '><b>CODE</b></font>"
   ]
  },
  {
   "cell_type": "code",
   "execution_count": 37,
   "metadata": {
    "vscode": {
     "languageId": "r"
    }
   },
   "outputs": [],
   "source": [
    "# incluir código"
   ]
  }
 ],
 "metadata": {
  "anaconda-cloud": {},
  "celltoolbar": "Slideshow",
  "hide_input": false,
  "kernelspec": {
   "display_name": "R",
   "language": "R",
   "name": "ir"
  },
  "language_info": {
   "codemirror_mode": "r",
   "file_extension": ".r",
   "mimetype": "text/x-r-source",
   "name": "R",
   "pygments_lexer": "r",
   "version": "4.2.3"
  },
  "latex_envs": {
   "LaTeX_envs_menu_present": true,
   "autoclose": false,
   "autocomplete": true,
   "bibliofile": "biblio.bib",
   "cite_by": "apalike",
   "current_citInitial": 1,
   "eqLabelWithNumbers": true,
   "eqNumInitial": 1,
   "hotkeys": {
    "equation": "Ctrl-E",
    "itemize": "Ctrl-I"
   },
   "labels_anchors": false,
   "latex_user_defs": false,
   "report_style_numbering": true,
   "user_envs_cfg": false
  },
  "toc": {
   "base_numbering": 1,
   "nav_menu": {
    "height": "11.6px",
    "width": "160px"
   },
   "number_sections": false,
   "sideBar": true,
   "skip_h1_title": true,
   "title_cell": "Table of Contents",
   "title_sidebar": "Contents",
   "toc_cell": true,
   "toc_position": {
    "height": "calc(100% - 180px)",
    "left": "10px",
    "top": "150px",
    "width": "209.2px"
   },
   "toc_section_display": true,
   "toc_window_display": true
  },
  "varInspector": {
   "cols": {
    "lenName": 16,
    "lenType": 16,
    "lenVar": 40
   },
   "kernels_config": {
    "python": {
     "delete_cmd_postfix": "",
     "delete_cmd_prefix": "del ",
     "library": "var_list.py",
     "varRefreshCmd": "print(var_dic_list())"
    },
    "r": {
     "delete_cmd_postfix": ") ",
     "delete_cmd_prefix": "rm(",
     "library": "var_list.r",
     "varRefreshCmd": "cat(var_dic_list()) "
    }
   },
   "types_to_exclude": [
    "module",
    "function",
    "builtin_function_or_method",
    "instance",
    "_Feature"
   ],
   "window_display": false
  }
 },
 "nbformat": 4,
 "nbformat_minor": 1
}
