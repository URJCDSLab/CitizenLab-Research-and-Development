{
 "cells": [
  {
   "cell_type": "markdown",
   "metadata": {
    "slideshow": {
     "slide_type": "slide"
    }
   },
   "source": [
    "<img src=\".\\images\\Logo.png\" width=150 align=\"left\" /> <img src=\".\\images\\Logo2.jpg\" width=450 align=\"right\" />"
   ]
  },
  {
   "cell_type": "markdown",
   "metadata": {
    "slideshow": {
     "slide_type": "slide"
    }
   },
   "source": [
    "# <center><font color= #1e8449 > <b>CU45_Planificación y promoción del destino en base a los patrones en origen de los turistas</font></center>"
   ]
  },
  {
   "cell_type": "markdown",
   "metadata": {
    "slideshow": {
     "slide_type": "slide"
    }
   },
   "source": [
    "<font color='steelblue'><b>Citizenlab Data Science Methodology > III - Feature Engineering Domain </font>\n",
    "***\n",
    "> # <font color='steelblue'> <b>15.- Feature Importance</font>"
   ]
  },
  {
   "cell_type": "markdown",
   "metadata": {
    "slideshow": {
     "slide_type": "slide"
    }
   },
   "source": [
    "<font color='steelblue'>Feature Importance is the process that assigns scores to the input characteristics to a model, which indicate the relative importance of each characteristic, in order, for example, to be able to select the most important ones.</font>\n"
   ]
  },
  {
   "cell_type": "markdown",
   "metadata": {
    "slideshow": {
     "slide_type": "slide"
    }
   },
   "source": [
    "## <font color='steelblue'>Tasks</font>"
   ]
  },
  {
   "cell_type": "markdown",
   "metadata": {
    "slideshow": {
     "slide_type": "slide"
    }
   },
   "source": [
    "<font color='steelblue'><b>Perform Feature importance from model coefficients</b>\t\t\t\n",
    "- Linear Regression Feature importance\t\t\n",
    "- Logistic Regression Feature importance\t\t\n",
    "    \n",
    "<font color='steelblue'><b>Perform Feature importance from Decision Tree\t\t\t\n",
    "- CART Feature Importance\t\t\n",
    "- Random Forest Regression Feature Importance\t\t\n",
    "    \n",
    "<font color='steelblue'><b>Perform Feature importance from Permutation testing</b>\t\t\t\n",
    "    \n",
    "<font color='steelblue'><b>Evaluate a Logistic Regression model with feature selection</b>\t\t\t"
   ]
  },
  {
   "cell_type": "markdown",
   "metadata": {},
   "source": [
    "## Consideraciones casos CitizenLab programados en R\n",
    "\n",
    "* Algunas de las tareas de este proceso se han realizado en los notebooks del proceso 05 Data Collection porque eran necesarias para las tareas ETL. En esos casos, en este notebook se referencia al notebook del proceso 05 correspondiente\n",
    "* Otras tareas típicas de este proceso se realizan en los notebooks del dominio IV al ser más eficiente realizarlas en el propio pipeline de modelización.\n",
    "* Por tanto en los notebooks de este proceso de manera general se incluyen las comprobaciones necesarias, y comentarios si procede\n",
    "* Las tareas del proceso se van a aplicar solo a los archivos que forman parte del despliegue, ya que hay muchos archivos intermedios que no procede pasar por este proceso\n",
    "* El nombre de archivo del notebook hace referencia al nombre de archivo del proceso 05 al que se aplica este proceso, por eso pueden no ser correlativa la numeración\n",
    "* Las comprobaciones se van a realizar teniendo en cuenta que el lenguaje utilizado en el despliegue de este caso es R"
   ]
  },
  {
   "cell_type": "markdown",
   "metadata": {},
   "source": [
    "## <font color='green'>File</font>"
   ]
  },
  {
   "cell_type": "markdown",
   "metadata": {},
   "source": [
    "- <font color='steelblue'> <b>Input File: CU_45_08_03_turismo_receptor.csv</font>\n",
    "- <font color='steelblue'> <b>Sampled Input File: CU_45_07_03_turismo_receptor.csv</font>\n",
    "- <font color='steelblue'> <b>Output File: No aplica</font>"
   ]
  },
  {
   "cell_type": "markdown",
   "metadata": {},
   "source": [
    "### Encoding\n",
    "\n",
    "Con la siguiente expresión se evitan problemas con el encoding al ejecutar el notebook. Es posible que deba ser eliminada o adaptada a la máquina en la que se ejecute el código."
   ]
  },
  {
   "cell_type": "code",
   "execution_count": 2,
   "metadata": {
    "vscode": {
     "languageId": "r"
    }
   },
   "outputs": [
    {
     "name": "stderr",
     "output_type": "stream",
     "text": [
      "Warning message in Sys.setlocale(category = \"LC_ALL\", locale = \"es_ES.UTF-8\"):\n",
      "“OS reports request to set locale to \"es_ES.UTF-8\" cannot be honored”\n"
     ]
    },
    {
     "data": {
      "text/html": [
       "''"
      ],
      "text/latex": [
       "''"
      ],
      "text/markdown": [
       "''"
      ],
      "text/plain": [
       "[1] \"\""
      ]
     },
     "metadata": {},
     "output_type": "display_data"
    }
   ],
   "source": [
    "Sys.setlocale(category = \"LC_ALL\", locale = \"es_ES.UTF-8\")"
   ]
  },
  {
   "cell_type": "markdown",
   "metadata": {},
   "source": [
    "## <font color='green'>Settings</font>"
   ]
  },
  {
   "cell_type": "markdown",
   "metadata": {},
   "source": [
    "### Libraries to use"
   ]
  },
  {
   "cell_type": "code",
   "execution_count": 3,
   "metadata": {
    "vscode": {
     "languageId": "r"
    }
   },
   "outputs": [
    {
     "name": "stderr",
     "output_type": "stream",
     "text": [
      "\n",
      "Attaching package: ‘dplyr’\n",
      "\n",
      "\n",
      "The following object is masked from ‘package:randomForest’:\n",
      "\n",
      "    combine\n",
      "\n",
      "\n",
      "The following objects are masked from ‘package:stats’:\n",
      "\n",
      "    filter, lag\n",
      "\n",
      "\n",
      "The following objects are masked from ‘package:base’:\n",
      "\n",
      "    intersect, setdiff, setequal, union\n",
      "\n",
      "\n",
      "\n",
      "Attaching package: ‘lubridate’\n",
      "\n",
      "\n",
      "The following objects are masked from ‘package:base’:\n",
      "\n",
      "    date, intersect, setdiff, union\n",
      "\n",
      "\n"
     ]
    }
   ],
   "source": [
    "library(readr)\n",
    "library(dplyr)\n",
    "library(tidyr)\n",
    "library(forcats)\n",
    "library(lubridate)\n"
   ]
  },
  {
   "cell_type": "markdown",
   "metadata": {},
   "source": [
    "### Paths"
   ]
  },
  {
   "cell_type": "code",
   "execution_count": 4,
   "metadata": {
    "vscode": {
     "languageId": "r"
    }
   },
   "outputs": [],
   "source": [
    "iPath <- \"Data/Input/\"\n",
    "oPath <- \"Data/Output/\""
   ]
  },
  {
   "cell_type": "markdown",
   "metadata": {},
   "source": [
    "## <font color='green'>Data Load</font>"
   ]
  },
  {
   "cell_type": "markdown",
   "metadata": {},
   "source": [
    "<font color='tomato'><b> OPCION A:</b> Seleccionar fichero en ventana para mayor comodidad</font> "
   ]
  },
  {
   "cell_type": "markdown",
   "metadata": {},
   "source": [
    "Data load using the {tcltk} package. Ucomment the line if using this option"
   ]
  },
  {
   "cell_type": "code",
   "execution_count": 5,
   "metadata": {
    "vscode": {
     "languageId": "r"
    }
   },
   "outputs": [],
   "source": [
    "# file_data <- tcltk::tk_choose.files(multi = FALSE)"
   ]
  },
  {
   "cell_type": "markdown",
   "metadata": {},
   "source": [
    "<font color='tomato'><b> OPCION B:</b> Especificar el nombre de archivo</font>\n",
    "\n"
   ]
  },
  {
   "cell_type": "code",
   "execution_count": 6,
   "metadata": {
    "vscode": {
     "languageId": "r"
    }
   },
   "outputs": [
    {
     "name": "stdout",
     "output_type": "stream",
     "text": [
      "Se leerán datos del archivo:  Data/Input/CU_45_08_03_turismo_receptor.csv"
     ]
    }
   ],
   "source": [
    "iFile <- \"CU_45_08_03_turismo_receptor.csv\"\n",
    "file_data <- paste0(iPath, iFile)\n",
    "\n",
    "if(file.exists(file_data)){\n",
    "    cat(\"Se leerán datos del archivo: \", file_data)\n",
    "} else{\n",
    "    warning(\"Cuidado: el archivo no existe.\")\n",
    "}\n"
   ]
  },
  {
   "cell_type": "markdown",
   "metadata": {},
   "source": [
    "#### Data file to dataframe\n",
    "\n",
    "Usar la función adecuada según el formato de entrada (xlsx, csv, json, ...)"
   ]
  },
  {
   "cell_type": "code",
   "execution_count": 7,
   "metadata": {
    "vscode": {
     "languageId": "r"
    }
   },
   "outputs": [
    {
     "name": "stderr",
     "output_type": "stream",
     "text": [
      "\u001b[1mRows: \u001b[22m\u001b[34m50294\u001b[39m \u001b[1mColumns: \u001b[22m\u001b[34m9\u001b[39m\n",
      "\u001b[36m──\u001b[39m \u001b[1mColumn specification\u001b[22m \u001b[36m───────────────────────────────────────────────────────────────────────────────────────────────────────────────────────────────\u001b[39m\n",
      "\u001b[1mDelimiter:\u001b[22m \",\"\n",
      "\u001b[31mchr\u001b[39m (5): mes, pais_orig_cod, pais_orig, mun_dest, CMUN\n",
      "\u001b[32mdbl\u001b[39m (3): mun_dest_cod, turistas, Target\n",
      "\u001b[33mlgl\u001b[39m (1): is_train\n",
      "\n",
      "\u001b[36mℹ\u001b[39m Use `spec()` to retrieve the full column specification for this data.\n",
      "\u001b[36mℹ\u001b[39m Specify the column types or set `show_col_types = FALSE` to quiet this message.\n"
     ]
    }
   ],
   "source": [
    "data <- read_csv(file_data)\n"
   ]
  },
  {
   "cell_type": "markdown",
   "metadata": {},
   "source": [
    "Estructura de  los datos:"
   ]
  },
  {
   "cell_type": "code",
   "execution_count": 8,
   "metadata": {
    "vscode": {
     "languageId": "r"
    }
   },
   "outputs": [
    {
     "name": "stdout",
     "output_type": "stream",
     "text": [
      "Rows: 50,294\n",
      "Columns: 9\n",
      "$ mes           \u001b[3m\u001b[90m<chr>\u001b[39m\u001b[23m \"2019-08\", \"2021-07\", \"2021-07\", \"2022-01\", \"2019-08\", \"…\n",
      "$ pais_orig_cod \u001b[3m\u001b[90m<chr>\u001b[39m\u001b[23m \"110\", \"010\", \"010\", \"000\", \"128\", \"000\", \"011\", \"126\", …\n",
      "$ pais_orig     \u001b[3m\u001b[90m<chr>\u001b[39m\u001b[23m \"Francia\", \"Total Europa\", \"Total Europa\", \"Total\", \"Rum…\n",
      "$ mun_dest_cod  \u001b[3m\u001b[90m<dbl>\u001b[39m\u001b[23m 28161, 28176, 28132, 28141, 28130, 28126, 28075, 28005, …\n",
      "$ mun_dest      \u001b[3m\u001b[90m<chr>\u001b[39m\u001b[23m \"Valdemoro\", \"Villanueva de la Cañada\", \"San Martín de l…\n",
      "$ turistas      \u001b[3m\u001b[90m<dbl>\u001b[39m\u001b[23m 466, 1375, 465, 54, 135, 30, 285, 768, 31, 1646, 116, 36…\n",
      "$ CMUN          \u001b[3m\u001b[90m<chr>\u001b[39m\u001b[23m \"161\", \"176\", \"132\", \"141\", \"130\", \"126\", \"075\", \"005\", …\n",
      "$ Target        \u001b[3m\u001b[90m<dbl>\u001b[39m\u001b[23m 466, 1375, 465, 54, 135, 30, 285, 768, 31, 1646, 116, 36…\n",
      "$ is_train      \u001b[3m\u001b[90m<lgl>\u001b[39m\u001b[23m TRUE, TRUE, TRUE, TRUE, TRUE, TRUE, TRUE, TRUE, TRUE, TR…\n"
     ]
    }
   ],
   "source": [
    "data |> glimpse()"
   ]
  },
  {
   "cell_type": "markdown",
   "metadata": {},
   "source": [
    "Muestra de los primeros datos:"
   ]
  },
  {
   "cell_type": "code",
   "execution_count": 12,
   "metadata": {
    "vscode": {
     "languageId": "r"
    }
   },
   "outputs": [
    {
     "data": {
      "text/html": [
       "<table class=\"dataframe\">\n",
       "<caption>A spec_tbl_df: 5 × 9</caption>\n",
       "<thead>\n",
       "\t<tr><th scope=col>mes</th><th scope=col>pais_orig_cod</th><th scope=col>pais_orig</th><th scope=col>mun_dest_cod</th><th scope=col>mun_dest</th><th scope=col>turistas</th><th scope=col>CMUN</th><th scope=col>Target</th><th scope=col>is_train</th></tr>\n",
       "\t<tr><th scope=col>&lt;chr&gt;</th><th scope=col>&lt;chr&gt;</th><th scope=col>&lt;chr&gt;</th><th scope=col>&lt;dbl&gt;</th><th scope=col>&lt;chr&gt;</th><th scope=col>&lt;dbl&gt;</th><th scope=col>&lt;chr&gt;</th><th scope=col>&lt;dbl&gt;</th><th scope=col>&lt;lgl&gt;</th></tr>\n",
       "</thead>\n",
       "<tbody>\n",
       "\t<tr><td>2019-08</td><td>110</td><td>Francia     </td><td>28161</td><td>Valdemoro              </td><td> 466</td><td>161</td><td> 466</td><td>TRUE</td></tr>\n",
       "\t<tr><td>2021-07</td><td>010</td><td>Total Europa</td><td>28176</td><td>Villanueva de la Cañada</td><td>1375</td><td>176</td><td>1375</td><td>TRUE</td></tr>\n",
       "\t<tr><td>2021-07</td><td>010</td><td>Total Europa</td><td>28132</td><td>San Martín de la Vega  </td><td> 465</td><td>132</td><td> 465</td><td>TRUE</td></tr>\n",
       "\t<tr><td>2022-01</td><td>000</td><td>Total       </td><td>28141</td><td>Sevilla la Nueva       </td><td>  54</td><td>141</td><td>  54</td><td>TRUE</td></tr>\n",
       "\t<tr><td>2019-08</td><td>128</td><td>Rumania     </td><td>28130</td><td>San Fernando de Henares</td><td> 135</td><td>130</td><td> 135</td><td>TRUE</td></tr>\n",
       "</tbody>\n",
       "</table>\n"
      ],
      "text/latex": [
       "A spec\\_tbl\\_df: 5 × 9\n",
       "\\begin{tabular}{lllllllll}\n",
       " mes & pais\\_orig\\_cod & pais\\_orig & mun\\_dest\\_cod & mun\\_dest & turistas & CMUN & Target & is\\_train\\\\\n",
       " <chr> & <chr> & <chr> & <dbl> & <chr> & <dbl> & <chr> & <dbl> & <lgl>\\\\\n",
       "\\hline\n",
       "\t 2019-08 & 110 & Francia      & 28161 & Valdemoro               &  466 & 161 &  466 & TRUE\\\\\n",
       "\t 2021-07 & 010 & Total Europa & 28176 & Villanueva de la Cañada & 1375 & 176 & 1375 & TRUE\\\\\n",
       "\t 2021-07 & 010 & Total Europa & 28132 & San Martín de la Vega   &  465 & 132 &  465 & TRUE\\\\\n",
       "\t 2022-01 & 000 & Total        & 28141 & Sevilla la Nueva        &   54 & 141 &   54 & TRUE\\\\\n",
       "\t 2019-08 & 128 & Rumania      & 28130 & San Fernando de Henares &  135 & 130 &  135 & TRUE\\\\\n",
       "\\end{tabular}\n"
      ],
      "text/markdown": [
       "\n",
       "A spec_tbl_df: 5 × 9\n",
       "\n",
       "| mes &lt;chr&gt; | pais_orig_cod &lt;chr&gt; | pais_orig &lt;chr&gt; | mun_dest_cod &lt;dbl&gt; | mun_dest &lt;chr&gt; | turistas &lt;dbl&gt; | CMUN &lt;chr&gt; | Target &lt;dbl&gt; | is_train &lt;lgl&gt; |\n",
       "|---|---|---|---|---|---|---|---|---|\n",
       "| 2019-08 | 110 | Francia      | 28161 | Valdemoro               |  466 | 161 |  466 | TRUE |\n",
       "| 2021-07 | 010 | Total Europa | 28176 | Villanueva de la Cañada | 1375 | 176 | 1375 | TRUE |\n",
       "| 2021-07 | 010 | Total Europa | 28132 | San Martín de la Vega   |  465 | 132 |  465 | TRUE |\n",
       "| 2022-01 | 000 | Total        | 28141 | Sevilla la Nueva        |   54 | 141 |   54 | TRUE |\n",
       "| 2019-08 | 128 | Rumania      | 28130 | San Fernando de Henares |  135 | 130 |  135 | TRUE |\n",
       "\n"
      ],
      "text/plain": [
       "  mes     pais_orig_cod pais_orig    mun_dest_cod mun_dest               \n",
       "1 2019-08 110           Francia      28161        Valdemoro              \n",
       "2 2021-07 010           Total Europa 28176        Villanueva de la Cañada\n",
       "3 2021-07 010           Total Europa 28132        San Martín de la Vega  \n",
       "4 2022-01 000           Total        28141        Sevilla la Nueva       \n",
       "5 2019-08 128           Rumania      28130        San Fernando de Henares\n",
       "  turistas CMUN Target is_train\n",
       "1  466     161   466   TRUE    \n",
       "2 1375     176  1375   TRUE    \n",
       "3  465     132   465   TRUE    \n",
       "4   54     141    54   TRUE    \n",
       "5  135     130   135   TRUE    "
      ]
     },
     "metadata": {},
     "output_type": "display_data"
    }
   ],
   "source": [
    "data |> slice_head(n = 5)"
   ]
  },
  {
   "cell_type": "markdown",
   "metadata": {
    "slideshow": {
     "slide_type": "slide"
    }
   },
   "source": [
    "## Feature importance from model coefficients"
   ]
  },
  {
   "cell_type": "code",
   "execution_count": 13,
   "metadata": {},
   "outputs": [],
   "source": [
    "data <- data |>\n",
    "    na.omit()"
   ]
  },
  {
   "cell_type": "markdown",
   "metadata": {
    "slideshow": {
     "slide_type": "slide"
    }
   },
   "source": [
    "### Linear Regression Feature importance"
   ]
  },
  {
   "cell_type": "code",
   "execution_count": 14,
   "metadata": {
    "ExecuteTime": {
     "end_time": "2021-01-05T18:57:59.034208Z",
     "start_time": "2021-01-05T18:57:49.219178Z"
    },
    "vscode": {
     "languageId": "r"
    }
   },
   "outputs": [
    {
     "name": "stderr",
     "output_type": "stream",
     "text": [
      "Loading required package: caret\n",
      "\n",
      "Loading required package: ggplot2\n",
      "\n",
      "Loading required package: lattice\n",
      "\n",
      "Warning message in predict.lm(modelFit, newdata):\n",
      "“prediction from a rank-deficient fit may be misleading”\n",
      "Warning message in predict.lm(modelFit, newdata):\n",
      "“prediction from a rank-deficient fit may be misleading”\n",
      "Warning message in predict.lm(modelFit, newdata):\n",
      "“prediction from a rank-deficient fit may be misleading”\n",
      "Warning message in predict.lm(modelFit, newdata):\n",
      "“prediction from a rank-deficient fit may be misleading”\n",
      "Warning message in predict.lm(modelFit, newdata):\n",
      "“prediction from a rank-deficient fit may be misleading”\n"
     ]
    },
    {
     "name": "stdout",
     "output_type": "stream",
     "text": [
      "                                                                        Feature\n",
      "turistas                                                               turistas\n",
      "(Intercept)                                                         (Intercept)\n",
      "pais_orig_cod229                                               pais_orig_cod229\n",
      "pais_orig_cod424                                               pais_orig_cod424\n",
      "pais_orig_cod327                                               pais_orig_cod327\n",
      "pais_orig_cod245                                               pais_orig_cod245\n",
      "pais_orig_cod404                                               pais_orig_cod404\n",
      "pais_orig_cod243                                               pais_orig_cod243\n",
      "pais_orig_cod215                                               pais_orig_cod215\n",
      "pais_orig_cod433                                               pais_orig_cod433\n",
      "pais_orig_cod249                                               pais_orig_cod249\n",
      "pais_orig_cod434                                               pais_orig_cod434\n",
      "pais_orig_cod447                                               pais_orig_cod447\n",
      "pais_orig_cod204                                               pais_orig_cod204\n",
      "pais_orig_cod201                                               pais_orig_cod201\n",
      "pais_orig_cod315                                               pais_orig_cod315\n",
      "pais_orig_cod417                                               pais_orig_cod417\n",
      "pais_orig_cod246                                               pais_orig_cod246\n",
      "pais_orig_cod247                                               pais_orig_cod247\n",
      "pais_orig_cod502                                               pais_orig_cod502\n",
      "pais_orig_cod233                                               pais_orig_cod233\n",
      "pais_orig_cod442                                               pais_orig_cod442\n",
      "pais_orig_cod504                                               pais_orig_cod504\n",
      "pais_orig_cod226                                               pais_orig_cod226\n",
      "pais_orig_cod156                                               pais_orig_cod156\n",
      "pais_orig_cod322                                               pais_orig_cod322\n",
      "pais_orig_cod158                                               pais_orig_cod158\n",
      "pais_orig_cod210                                               pais_orig_cod210\n",
      "pais_orig_cod403                                               pais_orig_cod403\n",
      "pais_orig_cod250                                               pais_orig_cod250\n",
      "pais_orig_cod231                                               pais_orig_cod231\n",
      "pais_orig_cod145                                               pais_orig_cod145\n",
      "pais_orig_cod148                                               pais_orig_cod148\n",
      "pais_orig_cod505                                               pais_orig_cod505\n",
      "pais_orig_cod114                                               pais_orig_cod114\n",
      "pais_orig_cod138                                               pais_orig_cod138\n",
      "pais_orig_cod443                                               pais_orig_cod443\n",
      "pais_orig_cod224                                               pais_orig_cod224\n",
      "pais_orig_cod416                                               pais_orig_cod416\n",
      "pais_orig_cod218                                               pais_orig_cod218\n",
      "pais_orig_cod230                                               pais_orig_cod230\n",
      "pais_orig_cod421                                               pais_orig_cod421\n",
      "pais_orig_cod106                                               pais_orig_cod106\n",
      "pais_orig_cod202                                               pais_orig_cod202\n",
      "pais_orig_cod426                                               pais_orig_cod426\n",
      "pais_orig_cod227                                               pais_orig_cod227\n",
      "pais_orig_cod208                                               pais_orig_cod208\n",
      "pais_orig_cod137                                               pais_orig_cod137\n",
      "pais_orig_cod236                                               pais_orig_cod236\n",
      "pais_orig_cod412                                               pais_orig_cod412\n",
      "pais_orig_cod211                                               pais_orig_cod211\n",
      "pais_orig_cod217                                               pais_orig_cod217\n",
      "pais_orig_cod139                                               pais_orig_cod139\n",
      "pais_orig_cod437                                               pais_orig_cod437\n",
      "pais_orig_cod157                                               pais_orig_cod157\n",
      "pais_orig_cod221                                               pais_orig_cod221\n",
      "pais_orig_cod432                                               pais_orig_cod432\n",
      "pais_orig_cod413                                               pais_orig_cod413\n",
      "pais_orig_cod420                                               pais_orig_cod420\n",
      "pais_orig_cod323                                               pais_orig_cod323\n",
      "pais_orig_cod317                                               pais_orig_cod317\n",
      "pais_orig_cod411                                               pais_orig_cod411\n",
      "pais_orig_cod124                                               pais_orig_cod124\n",
      "pais_orig_cod248                                               pais_orig_cod248\n",
      "pais_orig_cod146                                               pais_orig_cod146\n",
      "pais_orig_cod341                                               pais_orig_cod341\n",
      "pais_orig_cod321                                               pais_orig_cod321\n",
      "pais_orig_cod319                                               pais_orig_cod319\n",
      "pais_orig_cod174                                               pais_orig_cod174\n",
      "pais_orig_cod324                                               pais_orig_cod324\n",
      "pais_orig_cod425                                               pais_orig_cod425\n",
      "pais_orig_cod418                                               pais_orig_cod418\n",
      "pais_orig_cod118                                               pais_orig_cod118\n",
      "pais_orig_cod499                                               pais_orig_cod499\n",
      "pais_orig_cod101                                               pais_orig_cod101\n",
      "pais_orig_cod501                                               pais_orig_cod501\n",
      "pais_orig_cod147                                               pais_orig_cod147\n",
      "pais_orig_cod409                                               pais_orig_cod409\n",
      "pais_orig_cod050                                               pais_orig_cod050\n",
      "pais_orig_cod144                                               pais_orig_cod144\n",
      "pais_orig_cod314                                               pais_orig_cod314\n",
      "pais_orig_cod203                                               pais_orig_cod203\n",
      "pais_orig_cod326                                               pais_orig_cod326\n",
      "pais_orig_cod111                                               pais_orig_cod111\n",
      "pais_orig_cod239                                               pais_orig_cod239\n",
      "mun_destMadrid                                                   mun_destMadrid\n",
      "pais_orig_cod141                                               pais_orig_cod141\n",
      "pais_orig_cod213                                               pais_orig_cod213\n",
      "pais_orig_cod347                                               pais_orig_cod347\n",
      "pais_orig_cod427                                               pais_orig_cod427\n",
      "pais_orig_cod032                                               pais_orig_cod032\n",
      "pais_orig_cod109                                               pais_orig_cod109\n",
      "pais_orig_cod435                                               pais_orig_cod435\n",
      "pais_orig_cod410                                               pais_orig_cod410\n",
      "pais_orig_cod345                                               pais_orig_cod345\n",
      "pais_orig_cod402                                               pais_orig_cod402\n",
      "pais_orig_cod408                                               pais_orig_cod408\n",
      "pais_orig_cod136                                               pais_orig_cod136\n",
      "pais_orig_cod301                                               pais_orig_cod301\n",
      "pais_orig_cod401                                               pais_orig_cod401\n",
      "pais_orig_cod350                                               pais_orig_cod350\n",
      "pais_orig_cod436                                               pais_orig_cod436\n",
      "pais_orig_cod154                                               pais_orig_cod154\n",
      "pais_orig_cod120                                               pais_orig_cod120\n",
      "pais_orig_cod415                                               pais_orig_cod415\n",
      "pais_orig_cod143                                               pais_orig_cod143\n",
      "pais_orig_cod414                                               pais_orig_cod414\n",
      "pais_orig_cod344                                               pais_orig_cod344\n",
      "pais_orig_cod112                                               pais_orig_cod112\n",
      "pais_orig_cod116                                               pais_orig_cod116\n",
      "pais_orig_cod351                                               pais_orig_cod351\n",
      "pais_orig_cod220                                               pais_orig_cod220\n",
      "pais_orig_cod342                                               pais_orig_cod342\n",
      "pais_orig_cod430                                               pais_orig_cod430\n",
      "`mun_destTres Cantos`                                     `mun_destTres Cantos`\n",
      "pais_orig_cod104                                               pais_orig_cod104\n",
      "pais_orig_cod142                                               pais_orig_cod142\n",
      "pais_orig_cod303                                               pais_orig_cod303\n",
      "pais_orig_cod135                                               pais_orig_cod135\n",
      "pais_orig_cod348                                               pais_orig_cod348\n",
      "pais_orig_cod340                                               pais_orig_cod340\n",
      "pais_orig_cod234                                               pais_orig_cod234\n",
      "`mun_destLozoyuela-Navas-Sieteiglesias` `mun_destLozoyuela-Navas-Sieteiglesias`\n",
      "`mun_destPuentes Viejas`                               `mun_destPuentes Viejas`\n",
      "pais_orig_cod113                                               pais_orig_cod113\n",
      "pais_orig_cod132                                               pais_orig_cod132\n",
      "pais_orig_cod228                                               pais_orig_cod228\n",
      "pais_orig_cod343                                               pais_orig_cod343\n",
      "pais_orig_cod407                                               pais_orig_cod407\n",
      "pais_orig_cod128                                               pais_orig_cod128\n",
      "pais_orig_cod020                                               pais_orig_cod020\n",
      "pais_orig_cod122                                               pais_orig_cod122\n",
      "pais_orig_cod117                                               pais_orig_cod117\n",
      "pais_orig_cod107                                               pais_orig_cod107\n",
      "pais_orig_cod103                                               pais_orig_cod103\n",
      "pais_orig_cod252                                               pais_orig_cod252\n",
      "pais_orig_cod040                                               pais_orig_cod040\n",
      "pais_orig_cod033                                               pais_orig_cod033\n",
      "pais_orig_cod123                                               pais_orig_cod123\n",
      "`mun_destAlcalá de Henares`                         `mun_destAlcalá de Henares`\n",
      "pais_orig_cod131                                               pais_orig_cod131\n",
      "pais_orig_cod102                                               pais_orig_cod102\n",
      "pais_orig_cod115                                               pais_orig_cod115\n",
      "pais_orig_cod302                                               pais_orig_cod302\n",
      "mun_destAlcobendas                                           mun_destAlcobendas\n",
      "mun_destGetafe                                                   mun_destGetafe\n",
      "`mun_destTorrejón de Ardoz`                         `mun_destTorrejón de Ardoz`\n",
      "mun_destValdemoro                                             mun_destValdemoro\n",
      "pais_orig_cod125                                               pais_orig_cod125\n",
      "`mun_destSan Sebastián de los Reyes`       `mun_destSan Sebastián de los Reyes`\n",
      "`mun_destRozas de Madrid, Las`                   `mun_destRozas de Madrid, Las`\n",
      "pais_orig_cod031                                               pais_orig_cod031\n",
      "mun_destMóstoles                                               mun_destMóstoles\n",
      "`mun_destSan Fernando de Henares`             `mun_destSan Fernando de Henares`\n",
      "`mun_destPozuelo de Alarcón`                       `mun_destPozuelo de Alarcón`\n",
      "mun_destLeganés                                                 mun_destLeganés\n",
      "pais_orig_cod126                                               pais_orig_cod126\n",
      "mun_destFuenlabrada                                         mun_destFuenlabrada\n",
      "mun_destParla                                                     mun_destParla\n",
      "`mun_destVillaviciosa de Odón`                   `mun_destVillaviciosa de Odón`\n",
      "mun_destPinto                                                     mun_destPinto\n",
      "`mun_destRivas-Vaciamadrid`                         `mun_destRivas-Vaciamadrid`\n",
      "`mun_destParacuellos de Jarama`                 `mun_destParacuellos de Jarama`\n",
      "mun_destMajadahonda                                         mun_destMajadahonda\n",
      "pais_orig_cod030                                               pais_orig_cod030\n",
      "mun_destAlcorcón                                               mun_destAlcorcón\n",
      "mun_destCoslada                                                 mun_destCoslada\n",
      "pais_orig_cod121                                               pais_orig_cod121\n",
      "`mun_destVillanueva de la Cañada`             `mun_destVillanueva de la Cañada`\n",
      "mun_destTorrelodones                                       mun_destTorrelodones\n",
      "`mun_destCollado Villalba`                           `mun_destCollado Villalba`\n",
      "`mun_destBoadilla del Monte`                       `mun_destBoadilla del Monte`\n",
      "mun_destAranjuez                                               mun_destAranjuez\n",
      "`mun_destBerzosa del Lozoya`                       `mun_destBerzosa del Lozoya`\n",
      "pais_orig_cod110                                               pais_orig_cod110\n",
      "`mes2020-04`                                                       `mes2020-04`\n",
      "`mun_destArganda del Rey`                             `mun_destArganda del Rey`\n",
      "`mun_destColmenar Viejo`                               `mun_destColmenar Viejo`\n",
      "`mes2020-05`                                                       `mes2020-05`\n",
      "mun_destCiempozuelos                                       mun_destCiempozuelos\n",
      "`mun_destSan Lorenzo de El Escorial`       `mun_destSan Lorenzo de El Escorial`\n",
      "mun_destGalapagar                                             mun_destGalapagar\n",
      "mun_destNavalcarnero                                       mun_destNavalcarnero\n",
      "`mun_destSantos de la Humosa, Los`           `mun_destSantos de la Humosa, Los`\n",
      "mun_destChapinería                                           mun_destChapinería\n",
      "`mun_destTorres de la Alameda`                   `mun_destTorres de la Alameda`\n",
      "`mun_destOlmeda de las Fuentes`                 `mun_destOlmeda de las Fuentes`\n",
      "`mun_destSan Martín de la Vega`                 `mun_destSan Martín de la Vega`\n",
      "`mes2021-02`                                                       `mes2021-02`\n",
      "`mes2020-06`                                                       `mes2020-06`\n",
      "`mun_destVillanueva del Pardillo`             `mun_destVillanueva del Pardillo`\n",
      "`mun_destVelilla de San Antonio`               `mun_destVelilla de San Antonio`\n",
      "`mes2021-01`                                                       `mes2021-01`\n",
      "`mes2021-04`                                                       `mes2021-04`\n",
      "`mes2020-11`                                                       `mes2020-11`\n",
      "`mun_destBelmonte de Tajo`                           `mun_destBelmonte de Tajo`\n",
      "mun_destMeco                                                       mun_destMeco\n",
      "mun_destGascones                                               mun_destGascones\n",
      "`mun_destRozas de Puerto Real`                   `mun_destRozas de Puerto Real`\n",
      "mun_destBraojos                                                 mun_destBraojos\n",
      "`mun_destColmenar del Arroyo`                     `mun_destColmenar del Arroyo`\n",
      "`mes2020-10`                                                       `mes2020-10`\n",
      "mun_destValdemorillo                                       mun_destValdemorillo\n",
      "mun_destAmbite                                                   mun_destAmbite\n",
      "`mun_destAtazar, El`                                       `mun_destAtazar, El`\n",
      "`mes2021-03`                                                       `mes2021-03`\n",
      "`mun_destMejorada del Campo`                       `mun_destMejorada del Campo`\n",
      "`mes2020-09`                                                       `mes2020-09`\n",
      "`mes2021-05`                                                       `mes2021-05`\n",
      "`mun_destSan Agustín del Guadalix`           `mun_destSan Agustín del Guadalix`\n",
      "`mes2020-12`                                                       `mes2020-12`\n",
      "mun_destAnchuelo                                               mun_destAnchuelo\n",
      "mun_destGuadarrama                                           mun_destGuadarrama\n",
      "mun_destArroyomolinos                                     mun_destArroyomolinos\n",
      "`mes2020-08`                                                       `mes2020-08`\n",
      "`mes2020-07`                                                       `mes2020-07`\n",
      "mun_destBatres                                                   mun_destBatres\n",
      "mun_destVillalbilla                                         mun_destVillalbilla\n",
      "`mun_destCabanillas de la Sierra`             `mun_destCabanillas de la Sierra`\n",
      "mun_destAlgete                                                   mun_destAlgete\n",
      "`mun_destPiñuécar-Gandullas`                       `mun_destPiñuécar-Gandullas`\n",
      "`mun_destBerrueco, El`                                   `mun_destBerrueco, El`\n",
      "`mes2021-06`                                                       `mes2021-06`\n",
      "`mun_destHumanes de Madrid`                         `mun_destHumanes de Madrid`\n",
      "`mun_destBrea de Tajo`                                   `mun_destBrea de Tajo`\n",
      "`mun_destTorremocha de Jarama`                   `mun_destTorremocha de Jarama`\n",
      "`mun_destFresnedillas de la Oliva`           `mun_destFresnedillas de la Oliva`\n",
      "mun_destLoeches                                                 mun_destLoeches\n",
      "`mun_destCadalso de los Vidrios`               `mun_destCadalso de los Vidrios`\n",
      "`mun_destTorrejón de Velasco`                     `mun_destTorrejón de Velasco`\n",
      "`mun_destEscorial, El`                                   `mun_destEscorial, El`\n",
      "`mun_destSoto del Real`                                 `mun_destSoto del Real`\n",
      "mun_destCorpa                                                     mun_destCorpa\n",
      "`mun_destVilla del Prado`                             `mun_destVilla del Prado`\n",
      "`mes2022-02`                                                       `mes2022-02`\n",
      "`mun_destAldea del Fresno`                           `mun_destAldea del Fresno`\n",
      "`mun_destBecerril de la Sierra`                 `mun_destBecerril de la Sierra`\n",
      "mun_destCenicientos                                         mun_destCenicientos\n",
      "`mun_destVillarejo de Salvanés`                 `mun_destVillarejo de Salvanés`\n",
      "`mun_destFresno de Torote`                           `mun_destFresno de Torote`\n",
      "`mun_destNavas del Rey`                                 `mun_destNavas del Rey`\n",
      "`mun_destÁlamo, El`                                         `mun_destÁlamo, El`\n",
      "`mun_destSan Martín de Valdeiglesias`     `mun_destSan Martín de Valdeiglesias`\n",
      "mun_destCanencia                                               mun_destCanencia\n",
      "`mes2021-08`                                                       `mes2021-08`\n",
      "`mes2020-03`                                                       `mes2020-03`\n",
      "`mes2021-07`                                                       `mes2021-07`\n",
      "`mun_destHorcajuelo de la Sierra`             `mun_destHorcajuelo de la Sierra`\n",
      "mun_destCasarrubuelos                                     mun_destCasarrubuelos\n",
      "`mun_destMolar, El`                                         `mun_destMolar, El`\n",
      "mun_destPatones                                                 mun_destPatones\n",
      "mun_destLozoya                                                   mun_destLozoya\n",
      "pais_orig_cod011                                               pais_orig_cod011\n",
      "`mes2021-09`                                                       `mes2021-09`\n",
      "mun_destVillamantilla                                     mun_destVillamantilla\n",
      "`mes2022-01`                                                       `mes2022-01`\n",
      "mun_destBrunete                                                 mun_destBrunete\n",
      "`mun_destDaganzo de Arriba`                         `mun_destDaganzo de Arriba`\n",
      "`mun_destTorrejón de la Calzada`               `mun_destTorrejón de la Calzada`\n",
      "mun_destNavalafuente                                       mun_destNavalafuente\n",
      "`mes2021-12`                                                       `mes2021-12`\n",
      "mun_destCobeña                                                   mun_destCobeña\n",
      "`mun_destNavarredonda y San Mamés`           `mun_destNavarredonda y San Mamés`\n",
      "`mun_destMontejo de la Sierra`                   `mun_destMontejo de la Sierra`\n",
      "mun_destCarabaña                                               mun_destCarabaña\n",
      "`mun_destMolinos, Los`                                   `mun_destMolinos, Los`\n",
      "`mun_destCabrera, La`                                     `mun_destCabrera, La`\n",
      "`mun_destGarganta de los Montes`               `mun_destGarganta de los Montes`\n",
      "pais_orig_cod010                                               pais_orig_cod010\n",
      "mun_destRascafría                                             mun_destRascafría\n",
      "mun_destEstremera                                             mun_destEstremera\n",
      "`mes2022-03`                                                       `mes2022-03`\n",
      "`mes2021-11`                                                       `mes2021-11`\n",
      "mun_destValdepiélagos                                     mun_destValdepiélagos\n",
      "`mun_destRobledo de Chavela`                       `mun_destRobledo de Chavela`\n",
      "`mun_destHorcajo de la Sierra-Aoslos`     `mun_destHorcajo de la Sierra-Aoslos`\n",
      "mun_destValdemaqueda                                       mun_destValdemaqueda\n",
      "`mes2021-10`                                                       `mes2021-10`\n",
      "`mun_destRobledillo de la Jara`                 `mun_destRobledillo de la Jara`\n",
      "`mun_destFuentidueña de Tajo`                     `mun_destFuentidueña de Tajo`\n",
      "`mun_destCamarma de Esteruelas`                 `mun_destCamarma de Esteruelas`\n",
      "`mun_destSevilla la Nueva`                           `mun_destSevilla la Nueva`\n",
      "mun_destTorrelaguna                                         mun_destTorrelaguna\n",
      "`mun_destFuente el Saz de Jarama`             `mun_destFuente el Saz de Jarama`\n",
      "`mun_destOrusco de Tajuña`                           `mun_destOrusco de Tajuña`\n",
      "`mun_destValdetorres de Jarama`                 `mun_destValdetorres de Jarama`\n",
      "`mun_destSerna del Monte, La`                     `mun_destSerna del Monte, La`\n",
      "`mun_destBuitrago del Lozoya`                     `mun_destBuitrago del Lozoya`\n",
      "`mes2022-08`                                                       `mes2022-08`\n",
      "`mes2022-10`                                                       `mes2022-10`\n",
      "`mun_destPelayos de la Presa`                     `mun_destPelayos de la Presa`\n",
      "mun_destBustarviejo                                         mun_destBustarviejo\n",
      "mun_destMoralzarzal                                         mun_destMoralzarzal\n",
      "`mun_destCampo Real`                                       `mun_destCampo Real`\n",
      "`mun_destPrádena del Rincón`                       `mun_destPrádena del Rincón`\n",
      "mun_destValdeavero                                           mun_destValdeavero\n",
      "`mun_destVellón, El`                                       `mun_destVellón, El`\n",
      "`mun_destManzanares el Real`                       `mun_destManzanares el Real`\n",
      "mun_destSantorcaz                                             mun_destSantorcaz\n",
      "`mun_destTalamanca de Jarama`                     `mun_destTalamanca de Jarama`\n",
      "`mun_destPuebla de la Sierra`                     `mun_destPuebla de la Sierra`\n",
      "mun_destPedrezuela                                           mun_destPedrezuela\n",
      "mun_destRibatejada                                           mun_destRibatejada\n",
      "`mes2022-04`                                                       `mes2022-04`\n",
      "`mes2020-02`                                                       `mes2020-02`\n",
      "`mun_destPozuelo del Rey`                             `mun_destPozuelo del Rey`\n",
      "mun_destRedueña                                                 mun_destRedueña\n",
      "mun_destValdelaguna                                         mun_destValdelaguna\n",
      "mun_destNavacerrada                                         mun_destNavacerrada\n",
      "`mes2019-10`                                                       `mes2019-10`\n",
      "`mes2022-09`                                                       `mes2022-09`\n",
      "`mun_destBoalo, El`                                         `mun_destBoalo, El`\n",
      "mun_destVillaconejos                                       mun_destVillaconejos\n",
      "mun_destRobregordo                                           mun_destRobregordo\n",
      "`mun_destGuadalix de la Sierra`                 `mun_destGuadalix de la Sierra`\n",
      "`mun_destVillar del Olmo`                             `mun_destVillar del Olmo`\n",
      "mun_destCercedilla                                           mun_destCercedilla\n",
      "`mes2022-07`                                                       `mes2022-07`\n",
      "`mun_destValverde de Alcalá`                       `mun_destValverde de Alcalá`\n",
      "`mun_destCubas de la Sagra`                         `mun_destCubas de la Sagra`\n",
      "`mes2019-09`                                                       `mes2019-09`\n",
      "`mun_destMorata de Tajuña`                           `mun_destMorata de Tajuña`\n",
      "`mun_destPinilla del Valle`                         `mun_destPinilla del Valle`\n",
      "`mun_destNuevo Baztán`                                   `mun_destNuevo Baztán`\n",
      "`mun_destPerales de Tajuña`                         `mun_destPerales de Tajuña`\n",
      "mun_destAlpedrete                                             mun_destAlpedrete\n",
      "`mun_destMoraleja de Enmedio`                     `mun_destMoraleja de Enmedio`\n",
      "`mes2019-12`                                                       `mes2019-12`\n",
      "mun_destValdaracete                                         mun_destValdaracete\n",
      "`mun_destHoyo de Manzanares`                       `mun_destHoyo de Manzanares`\n",
      "`mun_destColmenar de Oreja`                         `mun_destColmenar de Oreja`\n",
      "mun_destVenturada                                             mun_destVenturada\n",
      "mun_destColmenarejo                                         mun_destColmenarejo\n",
      "`mun_destValdeolmos-Alalpardo`                   `mun_destValdeolmos-Alalpardo`\n",
      "`mun_destCollado Mediano`                             `mun_destCollado Mediano`\n",
      "`mun_destVillamanrique de Tajo`                 `mun_destVillamanrique de Tajo`\n",
      "mun_destValdilecha                                           mun_destValdilecha\n",
      "`mes2022-05`                                                       `mes2022-05`\n",
      "`mun_destSerranillos del Valle`                 `mun_destSerranillos del Valle`\n",
      "mun_destChinchón                                               mun_destChinchón\n",
      "`mes2022-06`                                                       `mes2022-06`\n",
      "mun_destSomosierra                                           mun_destSomosierra\n",
      "mun_destValdemanco                                           mun_destValdemanco\n",
      "`mun_destVillanueva de Perales`                 `mun_destVillanueva de Perales`\n",
      "`mun_destSanta María de la Alameda`         `mun_destSanta María de la Alameda`\n",
      "`mun_destPezuela de las Torres`                 `mun_destPezuela de las Torres`\n",
      "mun_destGriñón                                                   mun_destGriñón\n",
      "is_trainTRUE                                                       is_trainTRUE\n",
      "mun_destVillamanta                                           mun_destVillamanta\n",
      "`mes2020-01`                                                       `mes2020-01`\n",
      "mun_destQuijorna                                               mun_destQuijorna\n",
      "mun_destTitulcia                                               mun_destTitulcia\n",
      "mun_destNavalagamella                                     mun_destNavalagamella\n",
      "`mes2019-08`                                                       `mes2019-08`\n",
      "`mun_destMiraflores de la Sierra`             `mun_destMiraflores de la Sierra`\n",
      "mun_dest_cod                                                       mun_dest_cod\n",
      "`mes2019-11`                                                       `mes2019-11`\n",
      "mun_destTielmes                                                 mun_destTielmes\n",
      "                                          Coefficient AbsCoefficient\n",
      "turistas                                 1.000000e+00   1.000000e+00\n",
      "(Intercept)                              3.331618e-09   3.331618e-09\n",
      "pais_orig_cod229                        -3.360238e-10   3.360238e-10\n",
      "pais_orig_cod424                        -3.338255e-10   3.338255e-10\n",
      "pais_orig_cod327                        -3.325783e-10   3.325783e-10\n",
      "pais_orig_cod245                        -3.313603e-10   3.313603e-10\n",
      "pais_orig_cod404                        -3.310133e-10   3.310133e-10\n",
      "pais_orig_cod243                        -3.302836e-10   3.302836e-10\n",
      "pais_orig_cod215                        -3.302509e-10   3.302509e-10\n",
      "pais_orig_cod433                        -3.301840e-10   3.301840e-10\n",
      "pais_orig_cod249                        -3.288477e-10   3.288477e-10\n",
      "pais_orig_cod434                        -3.286746e-10   3.286746e-10\n",
      "pais_orig_cod447                        -3.284861e-10   3.284861e-10\n",
      "pais_orig_cod204                        -3.284306e-10   3.284306e-10\n",
      "pais_orig_cod201                        -3.284006e-10   3.284006e-10\n",
      "pais_orig_cod315                        -3.283113e-10   3.283113e-10\n",
      "pais_orig_cod417                        -3.281330e-10   3.281330e-10\n",
      "pais_orig_cod246                        -3.277399e-10   3.277399e-10\n",
      "pais_orig_cod247                        -3.277239e-10   3.277239e-10\n",
      "pais_orig_cod502                        -3.276489e-10   3.276489e-10\n",
      "pais_orig_cod233                        -3.276249e-10   3.276249e-10\n",
      "pais_orig_cod442                        -3.275485e-10   3.275485e-10\n",
      "pais_orig_cod504                        -3.275214e-10   3.275214e-10\n",
      "pais_orig_cod226                        -3.274068e-10   3.274068e-10\n",
      "pais_orig_cod156                        -3.273313e-10   3.273313e-10\n",
      "pais_orig_cod322                        -3.271737e-10   3.271737e-10\n",
      "pais_orig_cod158                        -3.271068e-10   3.271068e-10\n",
      "pais_orig_cod210                        -3.267869e-10   3.267869e-10\n",
      "pais_orig_cod403                        -3.267703e-10   3.267703e-10\n",
      "pais_orig_cod250                        -3.264578e-10   3.264578e-10\n",
      "pais_orig_cod231                        -3.264207e-10   3.264207e-10\n",
      "pais_orig_cod145                        -3.261526e-10   3.261526e-10\n",
      "pais_orig_cod148                        -3.261223e-10   3.261223e-10\n",
      "pais_orig_cod505                        -3.254796e-10   3.254796e-10\n",
      "pais_orig_cod114                        -3.241023e-10   3.241023e-10\n",
      "pais_orig_cod138                        -3.237043e-10   3.237043e-10\n",
      "pais_orig_cod443                        -3.234380e-10   3.234380e-10\n",
      "pais_orig_cod224                        -3.231384e-10   3.231384e-10\n",
      "pais_orig_cod416                        -3.230752e-10   3.230752e-10\n",
      "pais_orig_cod218                        -3.225609e-10   3.225609e-10\n",
      "pais_orig_cod230                        -3.222875e-10   3.222875e-10\n",
      "pais_orig_cod421                        -3.215819e-10   3.215819e-10\n",
      "pais_orig_cod106                        -3.215584e-10   3.215584e-10\n",
      "pais_orig_cod202                        -3.215442e-10   3.215442e-10\n",
      "pais_orig_cod426                        -3.214360e-10   3.214360e-10\n",
      "pais_orig_cod227                        -3.210165e-10   3.210165e-10\n",
      "pais_orig_cod208                        -3.208367e-10   3.208367e-10\n",
      "pais_orig_cod137                        -3.206854e-10   3.206854e-10\n",
      "pais_orig_cod236                        -3.204074e-10   3.204074e-10\n",
      "pais_orig_cod412                        -3.202445e-10   3.202445e-10\n",
      "pais_orig_cod211                        -3.198600e-10   3.198600e-10\n",
      "pais_orig_cod217                        -3.197956e-10   3.197956e-10\n",
      "pais_orig_cod139                        -3.195727e-10   3.195727e-10\n",
      "pais_orig_cod437                        -3.188735e-10   3.188735e-10\n",
      "pais_orig_cod157                        -3.184282e-10   3.184282e-10\n",
      "pais_orig_cod221                        -3.182681e-10   3.182681e-10\n",
      "pais_orig_cod432                        -3.182459e-10   3.182459e-10\n",
      "pais_orig_cod413                        -3.176877e-10   3.176877e-10\n",
      "pais_orig_cod420                        -3.176025e-10   3.176025e-10\n",
      "pais_orig_cod323                        -3.175123e-10   3.175123e-10\n",
      "pais_orig_cod317                        -3.174610e-10   3.174610e-10\n",
      "pais_orig_cod411                        -3.173884e-10   3.173884e-10\n",
      "pais_orig_cod124                        -3.171193e-10   3.171193e-10\n",
      "pais_orig_cod248                        -3.165981e-10   3.165981e-10\n",
      "pais_orig_cod146                        -3.164143e-10   3.164143e-10\n",
      "pais_orig_cod341                        -3.160183e-10   3.160183e-10\n",
      "pais_orig_cod321                        -3.158902e-10   3.158902e-10\n",
      "pais_orig_cod319                        -3.150924e-10   3.150924e-10\n",
      "pais_orig_cod174                        -3.150247e-10   3.150247e-10\n",
      "pais_orig_cod324                        -3.148544e-10   3.148544e-10\n",
      "pais_orig_cod425                        -3.144012e-10   3.144012e-10\n",
      "pais_orig_cod418                        -3.139238e-10   3.139238e-10\n",
      "pais_orig_cod118                        -3.138595e-10   3.138595e-10\n",
      "pais_orig_cod499                        -3.137515e-10   3.137515e-10\n",
      "pais_orig_cod101                        -3.135112e-10   3.135112e-10\n",
      "pais_orig_cod501                        -3.134503e-10   3.134503e-10\n",
      "pais_orig_cod147                        -3.133652e-10   3.133652e-10\n",
      "pais_orig_cod409                        -3.133164e-10   3.133164e-10\n",
      "pais_orig_cod050                        -3.126605e-10   3.126605e-10\n",
      "pais_orig_cod144                        -3.119268e-10   3.119268e-10\n",
      "pais_orig_cod314                        -3.114391e-10   3.114391e-10\n",
      "pais_orig_cod203                        -3.102802e-10   3.102802e-10\n",
      "pais_orig_cod326                        -3.091686e-10   3.091686e-10\n",
      "pais_orig_cod111                        -3.081456e-10   3.081456e-10\n",
      "pais_orig_cod239                        -3.057131e-10   3.057131e-10\n",
      "mun_destMadrid                           3.032191e-10   3.032191e-10\n",
      "pais_orig_cod141                        -2.987459e-10   2.987459e-10\n",
      "pais_orig_cod213                        -2.975702e-10   2.975702e-10\n",
      "pais_orig_cod347                        -2.889800e-10   2.889800e-10\n",
      "pais_orig_cod427                        -2.877821e-10   2.877821e-10\n",
      "pais_orig_cod032                        -2.829973e-10   2.829973e-10\n",
      "pais_orig_cod109                        -2.764042e-10   2.764042e-10\n",
      "pais_orig_cod435                        -2.732234e-10   2.732234e-10\n",
      "pais_orig_cod410                        -2.715095e-10   2.715095e-10\n",
      "pais_orig_cod345                        -2.651246e-10   2.651246e-10\n",
      "pais_orig_cod402                        -2.624696e-10   2.624696e-10\n",
      "pais_orig_cod408                        -2.608285e-10   2.608285e-10\n",
      "pais_orig_cod136                        -2.600901e-10   2.600901e-10\n",
      "pais_orig_cod301                        -2.577324e-10   2.577324e-10\n",
      "pais_orig_cod401                        -2.512419e-10   2.512419e-10\n",
      "pais_orig_cod350                        -2.423628e-10   2.423628e-10\n",
      "pais_orig_cod436                        -2.403748e-10   2.403748e-10\n",
      "pais_orig_cod154                        -2.400697e-10   2.400697e-10\n",
      "pais_orig_cod120                        -2.196091e-10   2.196091e-10\n",
      "pais_orig_cod415                        -2.166485e-10   2.166485e-10\n",
      "pais_orig_cod143                        -2.146407e-10   2.146407e-10\n",
      "pais_orig_cod414                        -2.131346e-10   2.131346e-10\n",
      "pais_orig_cod344                        -2.081397e-10   2.081397e-10\n",
      "pais_orig_cod112                        -1.971578e-10   1.971578e-10\n",
      "pais_orig_cod116                        -1.712692e-10   1.712692e-10\n",
      "pais_orig_cod351                        -1.506967e-10   1.506967e-10\n",
      "pais_orig_cod220                        -1.437673e-10   1.437673e-10\n",
      "pais_orig_cod342                        -1.411638e-10   1.411638e-10\n",
      "pais_orig_cod430                        -1.339717e-10   1.339717e-10\n",
      "`mun_destTres Cantos`                    1.320740e-10   1.320740e-10\n",
      "pais_orig_cod104                        -1.297679e-10   1.297679e-10\n",
      "pais_orig_cod142                        -1.296752e-10   1.296752e-10\n",
      "pais_orig_cod303                        -1.281607e-10   1.281607e-10\n",
      "pais_orig_cod135                        -1.262100e-10   1.262100e-10\n",
      "pais_orig_cod348                        -1.120118e-10   1.120118e-10\n",
      "pais_orig_cod340                        -1.097745e-10   1.097745e-10\n",
      "pais_orig_cod234                        -1.077564e-10   1.077564e-10\n",
      "`mun_destLozoyuela-Navas-Sieteiglesias`  9.780540e-11   9.780540e-11\n",
      "`mun_destPuentes Viejas`                 9.704435e-11   9.704435e-11\n",
      "pais_orig_cod113                        -9.147554e-11   9.147554e-11\n",
      "pais_orig_cod132                        -8.927172e-11   8.927172e-11\n",
      "pais_orig_cod228                        -8.186802e-11   8.186802e-11\n",
      "pais_orig_cod343                        -8.156948e-11   8.156948e-11\n",
      "pais_orig_cod407                        -7.902226e-11   7.902226e-11\n",
      "pais_orig_cod128                        -7.806729e-11   7.806729e-11\n",
      "pais_orig_cod020                        -7.499286e-11   7.499286e-11\n",
      "pais_orig_cod122                        -7.411288e-11   7.411288e-11\n",
      "pais_orig_cod117                        -7.207759e-11   7.207759e-11\n",
      "pais_orig_cod107                        -6.972713e-11   6.972713e-11\n",
      "pais_orig_cod103                        -6.956337e-11   6.956337e-11\n",
      "pais_orig_cod252                        -6.908930e-11   6.908930e-11\n",
      "pais_orig_cod040                        -6.777401e-11   6.777401e-11\n",
      "pais_orig_cod033                        -6.326782e-11   6.326782e-11\n",
      "pais_orig_cod123                        -6.294218e-11   6.294218e-11\n",
      "`mun_destAlcalá de Henares`              6.227087e-11   6.227087e-11\n",
      "pais_orig_cod131                        -6.221112e-11   6.221112e-11\n",
      "pais_orig_cod102                        -6.173980e-11   6.173980e-11\n",
      "pais_orig_cod115                        -6.057693e-11   6.057693e-11\n",
      "pais_orig_cod302                        -6.023196e-11   6.023196e-11\n",
      "mun_destAlcobendas                       5.977062e-11   5.977062e-11\n",
      "mun_destGetafe                           5.843262e-11   5.843262e-11\n",
      "`mun_destTorrejón de Ardoz`              5.840486e-11   5.840486e-11\n",
      "mun_destValdemoro                        5.597501e-11   5.597501e-11\n",
      "pais_orig_cod125                        -5.540148e-11   5.540148e-11\n",
      "`mun_destSan Sebastián de los Reyes`     5.443586e-11   5.443586e-11\n",
      "`mun_destRozas de Madrid, Las`           5.405785e-11   5.405785e-11\n",
      "pais_orig_cod031                        -5.327266e-11   5.327266e-11\n",
      "mun_destMóstoles                         5.279971e-11   5.279971e-11\n",
      "`mun_destSan Fernando de Henares`        5.261982e-11   5.261982e-11\n",
      "`mun_destPozuelo de Alarcón`             5.260270e-11   5.260270e-11\n",
      "mun_destLeganés                          5.245154e-11   5.245154e-11\n",
      "pais_orig_cod126                        -5.018820e-11   5.018820e-11\n",
      "mun_destFuenlabrada                      4.975637e-11   4.975637e-11\n",
      "mun_destParla                            4.959018e-11   4.959018e-11\n",
      "`mun_destVillaviciosa de Odón`           4.867228e-11   4.867228e-11\n",
      "mun_destPinto                            4.707179e-11   4.707179e-11\n",
      "`mun_destRivas-Vaciamadrid`              4.668166e-11   4.668166e-11\n",
      "`mun_destParacuellos de Jarama`          4.469855e-11   4.469855e-11\n",
      "mun_destMajadahonda                      4.332316e-11   4.332316e-11\n",
      "pais_orig_cod030                        -4.186663e-11   4.186663e-11\n",
      "mun_destAlcorcón                         4.102149e-11   4.102149e-11\n",
      "mun_destCoslada                          3.902740e-11   3.902740e-11\n",
      "pais_orig_cod121                        -3.787314e-11   3.787314e-11\n",
      "`mun_destVillanueva de la Cañada`        3.684246e-11   3.684246e-11\n",
      "mun_destTorrelodones                     3.651824e-11   3.651824e-11\n",
      "`mun_destCollado Villalba`               3.539101e-11   3.539101e-11\n",
      "`mun_destBoadilla del Monte`             3.453363e-11   3.453363e-11\n",
      "mun_destAranjuez                         3.418050e-11   3.418050e-11\n",
      "`mun_destBerzosa del Lozoya`            -3.389264e-11   3.389264e-11\n",
      "pais_orig_cod110                        -3.338795e-11   3.338795e-11\n",
      "`mes2020-04`                            -3.131057e-11   3.131057e-11\n",
      "`mun_destArganda del Rey`                3.097094e-11   3.097094e-11\n",
      "`mun_destColmenar Viejo`                 3.045771e-11   3.045771e-11\n",
      "`mes2020-05`                            -2.915302e-11   2.915302e-11\n",
      "mun_destCiempozuelos                     2.843907e-11   2.843907e-11\n",
      "`mun_destSan Lorenzo de El Escorial`     2.796640e-11   2.796640e-11\n",
      "mun_destGalapagar                        2.781865e-11   2.781865e-11\n",
      "mun_destNavalcarnero                     2.657282e-11   2.657282e-11\n",
      "`mun_destSantos de la Humosa, Los`       2.536137e-11   2.536137e-11\n",
      "mun_destChapinería                      -2.530783e-11   2.530783e-11\n",
      "`mun_destTorres de la Alameda`           2.527994e-11   2.527994e-11\n",
      "`mun_destOlmeda de las Fuentes`         -2.525351e-11   2.525351e-11\n",
      "`mun_destSan Martín de la Vega`          2.509826e-11   2.509826e-11\n",
      "`mes2021-02`                            -2.474053e-11   2.474053e-11\n",
      "`mes2020-06`                            -2.432327e-11   2.432327e-11\n",
      "`mun_destVillanueva del Pardillo`        2.287154e-11   2.287154e-11\n",
      "`mun_destVelilla de San Antonio`         2.263377e-11   2.263377e-11\n",
      "`mes2021-01`                            -2.259309e-11   2.259309e-11\n",
      "`mes2021-04`                            -2.248222e-11   2.248222e-11\n",
      "`mes2020-11`                            -2.243805e-11   2.243805e-11\n",
      "`mun_destBelmonte de Tajo`              -2.229811e-11   2.229811e-11\n",
      "mun_destMeco                             2.166411e-11   2.166411e-11\n",
      "mun_destGascones                        -2.128808e-11   2.128808e-11\n",
      "`mun_destRozas de Puerto Real`          -2.123250e-11   2.123250e-11\n",
      "mun_destBraojos                         -2.105126e-11   2.105126e-11\n",
      "`mun_destColmenar del Arroyo`           -2.095581e-11   2.095581e-11\n",
      "`mes2020-10`                            -2.086913e-11   2.086913e-11\n",
      "mun_destValdemorillo                     2.070409e-11   2.070409e-11\n",
      "mun_destAmbite                          -2.062160e-11   2.062160e-11\n",
      "`mun_destAtazar, El`                    -2.052543e-11   2.052543e-11\n",
      "`mes2021-03`                            -2.037774e-11   2.037774e-11\n",
      "`mun_destMejorada del Campo`             2.028105e-11   2.028105e-11\n",
      "`mes2020-09`                            -1.993209e-11   1.993209e-11\n",
      "`mes2021-05`                            -1.959315e-11   1.959315e-11\n",
      "`mun_destSan Agustín del Guadalix`       1.958375e-11   1.958375e-11\n",
      "`mes2020-12`                            -1.949790e-11   1.949790e-11\n",
      "mun_destAnchuelo                        -1.907447e-11   1.907447e-11\n",
      "mun_destGuadarrama                       1.899231e-11   1.899231e-11\n",
      "mun_destArroyomolinos                    1.888843e-11   1.888843e-11\n",
      "`mes2020-08`                            -1.868400e-11   1.868400e-11\n",
      "`mes2020-07`                            -1.863680e-11   1.863680e-11\n",
      "mun_destBatres                          -1.847504e-11   1.847504e-11\n",
      "mun_destVillalbilla                      1.740205e-11   1.740205e-11\n",
      "`mun_destCabanillas de la Sierra`       -1.724557e-11   1.724557e-11\n",
      "mun_destAlgete                           1.714067e-11   1.714067e-11\n",
      "`mun_destPiñuécar-Gandullas`            -1.704012e-11   1.704012e-11\n",
      "`mun_destBerrueco, El`                  -1.678564e-11   1.678564e-11\n",
      "`mes2021-06`                            -1.669873e-11   1.669873e-11\n",
      "`mun_destHumanes de Madrid`              1.659974e-11   1.659974e-11\n",
      "`mun_destBrea de Tajo`                  -1.655446e-11   1.655446e-11\n",
      "`mun_destTorremocha de Jarama`          -1.638314e-11   1.638314e-11\n",
      "`mun_destFresnedillas de la Oliva`      -1.623780e-11   1.623780e-11\n",
      "mun_destLoeches                          1.582469e-11   1.582469e-11\n",
      "`mun_destCadalso de los Vidrios`        -1.580343e-11   1.580343e-11\n",
      "`mun_destTorrejón de Velasco`            1.559635e-11   1.559635e-11\n",
      "`mun_destEscorial, El`                   1.454404e-11   1.454404e-11\n",
      "`mun_destSoto del Real`                  1.450528e-11   1.450528e-11\n",
      "mun_destCorpa                           -1.426089e-11   1.426089e-11\n",
      "`mun_destVilla del Prado`                1.423880e-11   1.423880e-11\n",
      "`mes2022-02`                            -1.423220e-11   1.423220e-11\n",
      "`mun_destAldea del Fresno`              -1.423128e-11   1.423128e-11\n",
      "`mun_destBecerril de la Sierra`         -1.417778e-11   1.417778e-11\n",
      "mun_destCenicientos                     -1.401872e-11   1.401872e-11\n",
      "`mun_destVillarejo de Salvanés`          1.363720e-11   1.363720e-11\n",
      "`mun_destFresno de Torote`              -1.354830e-11   1.354830e-11\n",
      "`mun_destNavas del Rey`                 -1.322115e-11   1.322115e-11\n",
      "`mun_destÁlamo, El`                     -1.316508e-11   1.316508e-11\n",
      "`mun_destSan Martín de Valdeiglesias`    1.270799e-11   1.270799e-11\n",
      "mun_destCanencia                        -1.262594e-11   1.262594e-11\n",
      "`mes2021-08`                            -1.254263e-11   1.254263e-11\n",
      "`mes2020-03`                            -1.250347e-11   1.250347e-11\n",
      "`mes2021-07`                            -1.247152e-11   1.247152e-11\n",
      "`mun_destHorcajuelo de la Sierra`       -1.241736e-11   1.241736e-11\n",
      "mun_destCasarrubuelos                   -1.240771e-11   1.240771e-11\n",
      "`mun_destMolar, El`                      1.229920e-11   1.229920e-11\n",
      "mun_destPatones                         -1.184836e-11   1.184836e-11\n",
      "mun_destLozoya                          -1.181081e-11   1.181081e-11\n",
      "pais_orig_cod011                        -1.171946e-11   1.171946e-11\n",
      "`mes2021-09`                            -1.155078e-11   1.155078e-11\n",
      "mun_destVillamantilla                   -1.137429e-11   1.137429e-11\n",
      "`mes2022-01`                            -1.132076e-11   1.132076e-11\n",
      "mun_destBrunete                          1.129733e-11   1.129733e-11\n",
      "`mun_destDaganzo de Arriba`              1.095039e-11   1.095039e-11\n",
      "`mun_destTorrejón de la Calzada`         1.077565e-11   1.077565e-11\n",
      "mun_destNavalafuente                    -1.046934e-11   1.046934e-11\n",
      "`mes2021-12`                            -1.003402e-11   1.003402e-11\n",
      "mun_destCobeña                          -9.678309e-12   9.678309e-12\n",
      "`mun_destNavarredonda y San Mamés`      -9.675837e-12   9.675837e-12\n",
      "`mun_destMontejo de la Sierra`          -9.650894e-12   9.650894e-12\n",
      "mun_destCarabaña                        -9.483817e-12   9.483817e-12\n",
      "`mun_destMolinos, Los`                  -8.949923e-12   8.949923e-12\n",
      "`mun_destCabrera, La`                    8.690315e-12   8.690315e-12\n",
      "`mun_destGarganta de los Montes`        -8.516620e-12   8.516620e-12\n",
      "pais_orig_cod010                        -8.163102e-12   8.163102e-12\n",
      "mun_destRascafría                        8.024024e-12   8.024024e-12\n",
      "mun_destEstremera                       -7.970370e-12   7.970370e-12\n",
      "`mes2022-03`                            -7.945169e-12   7.945169e-12\n",
      "`mes2021-11`                            -7.746986e-12   7.746986e-12\n",
      "mun_destValdepiélagos                   -7.685333e-12   7.685333e-12\n",
      "`mun_destRobledo de Chavela`             7.642873e-12   7.642873e-12\n",
      "`mun_destHorcajo de la Sierra-Aoslos`   -7.601932e-12   7.601932e-12\n",
      "mun_destValdemaqueda                     7.469779e-12   7.469779e-12\n",
      "`mes2021-10`                            -7.211342e-12   7.211342e-12\n",
      "`mun_destRobledillo de la Jara`         -7.187116e-12   7.187116e-12\n",
      "`mun_destFuentidueña de Tajo`           -6.901294e-12   6.901294e-12\n",
      "`mun_destCamarma de Esteruelas`         -6.856676e-12   6.856676e-12\n",
      "`mun_destSevilla la Nueva`               6.849053e-12   6.849053e-12\n",
      "mun_destTorrelaguna                      6.561454e-12   6.561454e-12\n",
      "`mun_destFuente el Saz de Jarama`       -6.277145e-12   6.277145e-12\n",
      "`mun_destOrusco de Tajuña`              -6.213144e-12   6.213144e-12\n",
      "`mun_destValdetorres de Jarama`          6.183162e-12   6.183162e-12\n",
      "`mun_destSerna del Monte, La`           -5.811545e-12   5.811545e-12\n",
      "`mun_destBuitrago del Lozoya`           -5.671375e-12   5.671375e-12\n",
      "`mes2022-08`                            -5.565189e-12   5.565189e-12\n",
      "`mes2022-10`                             5.546414e-12   5.546414e-12\n",
      "`mun_destPelayos de la Presa`           -5.467893e-12   5.467893e-12\n",
      "mun_destBustarviejo                     -5.370556e-12   5.370556e-12\n",
      "mun_destMoralzarzal                      5.234274e-12   5.234274e-12\n",
      "`mun_destCampo Real`                    -5.080403e-12   5.080403e-12\n",
      "`mun_destPrádena del Rincón`            -4.955417e-12   4.955417e-12\n",
      "mun_destValdeavero                      -4.914225e-12   4.914225e-12\n",
      "`mun_destVellón, El`                     4.883862e-12   4.883862e-12\n",
      "`mun_destManzanares el Real`             4.881556e-12   4.881556e-12\n",
      "mun_destSantorcaz                       -4.805541e-12   4.805541e-12\n",
      "`mun_destTalamanca de Jarama`            4.772305e-12   4.772305e-12\n",
      "`mun_destPuebla de la Sierra`           -4.597415e-12   4.597415e-12\n",
      "mun_destPedrezuela                      -4.242360e-12   4.242360e-12\n",
      "mun_destRibatejada                      -4.167757e-12   4.167757e-12\n",
      "`mes2022-04`                            -4.049137e-12   4.049137e-12\n",
      "`mes2020-02`                            -3.947962e-12   3.947962e-12\n",
      "`mun_destPozuelo del Rey`               -3.933339e-12   3.933339e-12\n",
      "mun_destRedueña                         -3.850940e-12   3.850940e-12\n",
      "mun_destValdelaguna                     -3.760160e-12   3.760160e-12\n",
      "mun_destNavacerrada                     -3.671256e-12   3.671256e-12\n",
      "`mes2019-10`                             3.646700e-12   3.646700e-12\n",
      "`mes2022-09`                             3.592261e-12   3.592261e-12\n",
      "`mun_destBoalo, El`                     -3.321890e-12   3.321890e-12\n",
      "mun_destVillaconejos                    -3.110783e-12   3.110783e-12\n",
      "mun_destRobregordo                      -3.061159e-12   3.061159e-12\n",
      "`mun_destGuadalix de la Sierra`         -2.983675e-12   2.983675e-12\n",
      "`mun_destVillar del Olmo`                2.962229e-12   2.962229e-12\n",
      "mun_destCercedilla                      -2.932081e-12   2.932081e-12\n",
      "`mes2022-07`                            -2.887412e-12   2.887412e-12\n",
      "`mun_destValverde de Alcalá`            -2.866136e-12   2.866136e-12\n",
      "`mun_destCubas de la Sagra`             -2.855204e-12   2.855204e-12\n",
      "`mes2019-09`                             2.613004e-12   2.613004e-12\n",
      "`mun_destMorata de Tajuña`              -2.585392e-12   2.585392e-12\n",
      "`mun_destPinilla del Valle`             -2.487361e-12   2.487361e-12\n",
      "`mun_destNuevo Baztán`                  -2.394053e-12   2.394053e-12\n",
      "`mun_destPerales de Tajuña`              2.390958e-12   2.390958e-12\n",
      "mun_destAlpedrete                       -2.347034e-12   2.347034e-12\n",
      "`mun_destMoraleja de Enmedio`            2.342877e-12   2.342877e-12\n",
      "`mes2019-12`                            -2.336594e-12   2.336594e-12\n",
      "mun_destValdaracete                     -2.294792e-12   2.294792e-12\n",
      "`mun_destHoyo de Manzanares`            -2.044179e-12   2.044179e-12\n",
      "`mun_destColmenar de Oreja`             -2.010737e-12   2.010737e-12\n",
      "mun_destVenturada                        1.978063e-12   1.978063e-12\n",
      "mun_destColmenarejo                      1.884649e-12   1.884649e-12\n",
      "`mun_destValdeolmos-Alalpardo`           1.852173e-12   1.852173e-12\n",
      "`mun_destCollado Mediano`                1.752889e-12   1.752889e-12\n",
      "`mun_destVillamanrique de Tajo`          1.749953e-12   1.749953e-12\n",
      "mun_destValdilecha                       1.626710e-12   1.626710e-12\n",
      "`mes2022-05`                            -1.579670e-12   1.579670e-12\n",
      "`mun_destSerranillos del Valle`         -1.450392e-12   1.450392e-12\n",
      "mun_destChinchón                         1.303831e-12   1.303831e-12\n",
      "`mes2022-06`                            -1.168309e-12   1.168309e-12\n",
      "mun_destSomosierra                      -1.095525e-12   1.095525e-12\n",
      "mun_destValdemanco                      -1.036021e-12   1.036021e-12\n",
      "`mun_destVillanueva de Perales`          9.528964e-13   9.528964e-13\n",
      "`mun_destSanta María de la Alameda`      8.806456e-13   8.806456e-13\n",
      "`mun_destPezuela de las Torres`          7.144495e-13   7.144495e-13\n",
      "mun_destGriñón                          -6.766469e-13   6.766469e-13\n",
      "is_trainTRUE                            -5.764220e-13   5.764220e-13\n",
      "mun_destVillamanta                       5.625878e-13   5.625878e-13\n",
      "`mes2020-01`                            -4.845745e-13   4.845745e-13\n",
      "mun_destQuijorna                        -3.124802e-13   3.124802e-13\n",
      "mun_destTitulcia                        -2.425471e-13   2.425471e-13\n",
      "mun_destNavalagamella                   -2.204755e-13   2.204755e-13\n",
      "`mes2019-08`                            -1.594867e-13   1.594867e-13\n",
      "`mun_destMiraflores de la Sierra`       -1.515459e-13   1.515459e-13\n",
      "mun_dest_cod                            -1.176547e-13   1.176547e-13\n",
      "`mes2019-11`                            -1.135663e-13   1.135663e-13\n",
      "mun_destTielmes                          1.098755e-13   1.098755e-13\n"
     ]
    }
   ],
   "source": [
    "# install the necessary packages if not already installed\n",
    "if (!require(caret)) {\n",
    "  install.packages('caret')\n",
    "}\n",
    "\n",
    "# load the necessary packages\n",
    "library(caret)\n",
    "\n",
    "# create the model\n",
    "set.seed(123)\n",
    "train_control <- trainControl(method = \"cv\", number = 5)\n",
    "linear_model <- train(Target ~ ., data = data, method = \"lm\",\n",
    "                      trControl = train_control)\n",
    "\n",
    "# extract the coefficients\n",
    "coef <- summary(linear_model$finalModel)$coefficients\n",
    "\n",
    "# make a data frame of feature names and their corresponding coefficients\n",
    "feature_importance <- data.frame(Feature = rownames(coef), Coefficient = coef[, \"Estimate\"])\n",
    "\n",
    "# compute the absolute value of the coefficients\n",
    "feature_importance$AbsCoefficient <- abs(feature_importance$Coefficient)\n",
    "\n",
    "# sort the features by the absolute value of their coefficients in descending order\n",
    "feature_importance <- feature_importance[order(-feature_importance$AbsCoefficient), ]\n",
    "\n",
    "# print the feature importance\n",
    "print(feature_importance)"
   ]
  },
  {
   "cell_type": "markdown",
   "metadata": {
    "slideshow": {
     "slide_type": "slide"
    }
   },
   "source": [
    "### Logistic Regression Feature importance"
   ]
  },
  {
   "cell_type": "markdown",
   "metadata": {
    "ExecuteTime": {
     "end_time": "2021-01-05T19:05:13.591950Z",
     "start_time": "2021-01-05T19:05:13.121757Z"
    },
    "vscode": {
     "languageId": "r"
    }
   },
   "source": [
    "No aplica"
   ]
  },
  {
   "cell_type": "markdown",
   "metadata": {
    "slideshow": {
     "slide_type": "slide"
    }
   },
   "source": [
    "## Decision Tree Feature Importance"
   ]
  },
  {
   "cell_type": "markdown",
   "metadata": {
    "slideshow": {
     "slide_type": "slide"
    }
   },
   "source": [
    "### CART Regression Feature Importance"
   ]
  },
  {
   "cell_type": "code",
   "execution_count": 15,
   "metadata": {
    "ExecuteTime": {
     "end_time": "2021-01-05T19:13:00.753678Z",
     "start_time": "2021-01-05T19:12:59.572268Z"
    },
    "vscode": {
     "languageId": "r"
    }
   },
   "outputs": [
    {
     "name": "stderr",
     "output_type": "stream",
     "text": [
      "Loading required package: rpart\n",
      "\n"
     ]
    },
    {
     "name": "stdout",
     "output_type": "stream",
     "text": [
      "[1] 4.27540375 0.92840868 0.91951914 0.77648123 0.21746804 0.21746804 0.02441950\n",
      "[8] 0.01244799\n"
     ]
    }
   ],
   "source": [
    "# install the necessary packages if not already installed\n",
    "if (!require(rpart)) {\n",
    "  install.packages('rpart')\n",
    "}\n",
    "\n",
    "# load the necessary packages\n",
    "library(rpart)\n",
    "\n",
    "# fit the model\n",
    "cart_model <- rpart(Target ~ ., data = data, method = \"anova\")\n",
    "\n",
    "# compute feature importances\n",
    "importance <- as.data.frame(varImp(cart_model))\n",
    "\n",
    "# sort by importance\n",
    "importance <- importance[order(-importance$Overall), ]\n",
    "\n",
    "# print the feature importance\n",
    "print(importance)"
   ]
  },
  {
   "cell_type": "markdown",
   "metadata": {
    "slideshow": {
     "slide_type": "slide"
    }
   },
   "source": [
    "### CART Classification Feature Importance"
   ]
  },
  {
   "cell_type": "markdown",
   "metadata": {
    "ExecuteTime": {
     "end_time": "2021-01-05T19:14:06.226914Z",
     "start_time": "2021-01-05T19:14:05.926022Z"
    },
    "vscode": {
     "languageId": "r"
    }
   },
   "source": [
    "No aplica"
   ]
  },
  {
   "cell_type": "markdown",
   "metadata": {
    "slideshow": {
     "slide_type": "slide"
    }
   },
   "source": [
    "### Random Forest Regression Feature Importance"
   ]
  },
  {
   "cell_type": "markdown",
   "metadata": {},
   "source": [
    "ATENCIÓN: Este proceso es costoso en recursos."
   ]
  },
  {
   "cell_type": "code",
   "execution_count": 9,
   "metadata": {
    "ExecuteTime": {
     "end_time": "2021-01-05T19:16:11.587658Z",
     "start_time": "2021-01-05T19:16:10.537917Z"
    },
    "vscode": {
     "languageId": "r"
    }
   },
   "outputs": [
    {
     "name": "stdout",
     "output_type": "stream",
     "text": [
      "                    Feature   Importance\n",
      "mun_dest_cod   mun_dest_cod 346461864.76\n",
      "CMUN                   CMUN 282898525.92\n",
      "mun_dest           mun_dest 212597478.48\n",
      "pais_orig_cod pais_orig_cod 166564554.68\n",
      "turistas           turistas 119379733.50\n",
      "pais_orig         pais_orig  32186340.64\n",
      "mes                     mes   3750848.44\n",
      "is_train           is_train     77949.02\n"
     ]
    }
   ],
   "source": [
    "# install the necessary packages if not already installed\n",
    "if (!require(randomForest)) {\n",
    "  install.packages('randomForest')\n",
    "}\n",
    "\n",
    "# load the necessary packages\n",
    "library(randomForest)\n",
    "\n",
    "# fit the model\n",
    "rf_model <- randomForest(Target ~ ., data = data, importance = TRUE)\n",
    "\n",
    "# get feature importances\n",
    "importance <- rf_model$importance\n",
    "\n",
    "# make a data frame of feature names and their corresponding importances\n",
    "feature_importance <- data.frame(Feature = rownames(importance), Importance = importance[,1]) # Adjust the index based on your requirement\n",
    "\n",
    "# sort the features by importance in descending order\n",
    "feature_importance <- feature_importance[order(-feature_importance$Importance), ]\n",
    "\n",
    "# print the feature importance\n",
    "print(feature_importance)"
   ]
  },
  {
   "cell_type": "code",
   "execution_count": 10,
   "metadata": {},
   "outputs": [
    {
     "data": {
      "text/html": [
       "<table class=\"dataframe\">\n",
       "<caption>A matrix: 8 × 2 of type dbl</caption>\n",
       "<thead>\n",
       "\t<tr><th></th><th scope=col>%IncMSE</th><th scope=col>IncNodePurity</th></tr>\n",
       "</thead>\n",
       "<tbody>\n",
       "\t<tr><th scope=row>mes</th><td>  3750848.44</td><td>1.142556e+11</td></tr>\n",
       "\t<tr><th scope=row>pais_orig_cod</th><td>166564554.68</td><td>6.109093e+11</td></tr>\n",
       "\t<tr><th scope=row>pais_orig</th><td> 32186340.64</td><td>2.365744e+11</td></tr>\n",
       "\t<tr><th scope=row>mun_dest_cod</th><td>346461864.76</td><td>1.922399e+11</td></tr>\n",
       "\t<tr><th scope=row>mun_dest</th><td>212597478.48</td><td>2.086304e+11</td></tr>\n",
       "\t<tr><th scope=row>turistas</th><td>119379733.50</td><td>4.089973e+12</td></tr>\n",
       "\t<tr><th scope=row>CMUN</th><td>282898525.92</td><td>1.714569e+11</td></tr>\n",
       "\t<tr><th scope=row>is_train</th><td>    77949.02</td><td>8.536193e+09</td></tr>\n",
       "</tbody>\n",
       "</table>\n"
      ],
      "text/latex": [
       "A matrix: 8 × 2 of type dbl\n",
       "\\begin{tabular}{r|ll}\n",
       "  & \\%IncMSE & IncNodePurity\\\\\n",
       "\\hline\n",
       "\tmes &   3750848.44 & 1.142556e+11\\\\\n",
       "\tpais\\_orig\\_cod & 166564554.68 & 6.109093e+11\\\\\n",
       "\tpais\\_orig &  32186340.64 & 2.365744e+11\\\\\n",
       "\tmun\\_dest\\_cod & 346461864.76 & 1.922399e+11\\\\\n",
       "\tmun\\_dest & 212597478.48 & 2.086304e+11\\\\\n",
       "\tturistas & 119379733.50 & 4.089973e+12\\\\\n",
       "\tCMUN & 282898525.92 & 1.714569e+11\\\\\n",
       "\tis\\_train &     77949.02 & 8.536193e+09\\\\\n",
       "\\end{tabular}\n"
      ],
      "text/markdown": [
       "\n",
       "A matrix: 8 × 2 of type dbl\n",
       "\n",
       "| <!--/--> | %IncMSE | IncNodePurity |\n",
       "|---|---|---|\n",
       "| mes |   3750848.44 | 1.142556e+11 |\n",
       "| pais_orig_cod | 166564554.68 | 6.109093e+11 |\n",
       "| pais_orig |  32186340.64 | 2.365744e+11 |\n",
       "| mun_dest_cod | 346461864.76 | 1.922399e+11 |\n",
       "| mun_dest | 212597478.48 | 2.086304e+11 |\n",
       "| turistas | 119379733.50 | 4.089973e+12 |\n",
       "| CMUN | 282898525.92 | 1.714569e+11 |\n",
       "| is_train |     77949.02 | 8.536193e+09 |\n",
       "\n"
      ],
      "text/plain": [
       "              %IncMSE      IncNodePurity\n",
       "mes             3750848.44 1.142556e+11 \n",
       "pais_orig_cod 166564554.68 6.109093e+11 \n",
       "pais_orig      32186340.64 2.365744e+11 \n",
       "mun_dest_cod  346461864.76 1.922399e+11 \n",
       "mun_dest      212597478.48 2.086304e+11 \n",
       "turistas      119379733.50 4.089973e+12 \n",
       "CMUN          282898525.92 1.714569e+11 \n",
       "is_train          77949.02 8.536193e+09 "
      ]
     },
     "metadata": {},
     "output_type": "display_data"
    }
   ],
   "source": [
    "rf_model$importance"
   ]
  },
  {
   "cell_type": "markdown",
   "metadata": {
    "slideshow": {
     "slide_type": "slide"
    }
   },
   "source": [
    "### Random Forest Classification Feature Importance"
   ]
  },
  {
   "cell_type": "markdown",
   "metadata": {
    "ExecuteTime": {
     "end_time": "2021-01-05T19:17:16.936416Z",
     "start_time": "2021-01-05T19:17:16.319183Z"
    },
    "vscode": {
     "languageId": "r"
    }
   },
   "source": [
    "No aplica"
   ]
  },
  {
   "cell_type": "markdown",
   "metadata": {
    "slideshow": {
     "slide_type": "slide"
    }
   },
   "source": [
    "## Permutation Feature Importance"
   ]
  },
  {
   "cell_type": "markdown",
   "metadata": {
    "slideshow": {
     "slide_type": "slide"
    }
   },
   "source": [
    "### Permutation Feature Importance for Regression"
   ]
  },
  {
   "cell_type": "code",
   "execution_count": 11,
   "metadata": {
    "ExecuteTime": {
     "end_time": "2021-01-05T19:20:52.115927Z",
     "start_time": "2021-01-05T19:20:51.097436Z"
    },
    "vscode": {
     "languageId": "r"
    }
   },
   "outputs": [
    {
     "name": "stderr",
     "output_type": "stream",
     "text": [
      "Loading required package: ranger\n",
      "\n",
      "\n",
      "Attaching package: ‘ranger’\n",
      "\n",
      "\n",
      "The following object is masked from ‘package:randomForest’:\n",
      "\n",
      "    importance\n",
      "\n",
      "\n"
     ]
    },
    {
     "name": "stdout",
     "output_type": "stream",
     "text": [
      "                    Feature  Importance\n",
      "mun_dest_cod   mun_dest_cod 271146955.1\n",
      "CMUN                   CMUN 258862935.3\n",
      "mun_dest           mun_dest 215161355.5\n",
      "pais_orig_cod pais_orig_cod 197744889.8\n",
      "turistas           turistas 119085138.0\n",
      "pais_orig         pais_orig  37156365.6\n",
      "mes                     mes   3818209.9\n",
      "is_train           is_train    187336.7\n"
     ]
    }
   ],
   "source": [
    "# install the necessary packages if not already installed\n",
    "if (!require(ranger)) {\n",
    "  install.packages('ranger')\n",
    "}\n",
    "\n",
    "# load the necessary packages\n",
    "library(ranger)\n",
    "\n",
    "# fit the model\n",
    "rf_model <- ranger(Target ~ ., data = data, importance = 'permutation')\n",
    "\n",
    "# get feature importances\n",
    "importance <- data.frame(Feature = names(rf_model$variable.importance), Importance = rf_model$variable.importance)\n",
    "\n",
    "# sort the features by importance in descending order\n",
    "importance <- importance[order(-importance$Importance), ]\n",
    "\n",
    "# print the feature importance\n",
    "print(importance)"
   ]
  },
  {
   "cell_type": "markdown",
   "metadata": {
    "slideshow": {
     "slide_type": "slide"
    }
   },
   "source": [
    "### Permutation Feature Importance for Classification"
   ]
  },
  {
   "cell_type": "code",
   "execution_count": null,
   "metadata": {
    "ExecuteTime": {
     "end_time": "2021-01-05T19:23:45.248360Z",
     "start_time": "2021-01-05T19:23:42.500254Z"
    },
    "vscode": {
     "languageId": "r"
    }
   },
   "outputs": [],
   "source": [
    "No aplica"
   ]
  },
  {
   "cell_type": "markdown",
   "metadata": {
    "slideshow": {
     "slide_type": "slide"
    }
   },
   "source": [
    "## Evaluating a Logistic Regression model with feature selection."
   ]
  },
  {
   "cell_type": "markdown",
   "metadata": {
    "slideshow": {
     "slide_type": "slide"
    }
   },
   "source": [
    "### Evaluating with all selected features."
   ]
  },
  {
   "cell_type": "code",
   "execution_count": null,
   "metadata": {
    "ExecuteTime": {
     "end_time": "2021-01-05T19:31:42.181362Z",
     "start_time": "2021-01-05T19:31:42.065465Z"
    },
    "vscode": {
     "languageId": "r"
    }
   },
   "outputs": [],
   "source": []
  },
  {
   "cell_type": "markdown",
   "metadata": {
    "slideshow": {
     "slide_type": "slide"
    }
   },
   "source": [
    "### Evaluating with feature selection performed using feature importance."
   ]
  },
  {
   "cell_type": "markdown",
   "metadata": {},
   "source": [
    "<font color='tomato'>Select type of Feature Importance to use</font>"
   ]
  },
  {
   "cell_type": "code",
   "execution_count": null,
   "metadata": {
    "ExecuteTime": {
     "end_time": "2021-01-05T20:16:45.894214Z",
     "start_time": "2021-01-05T20:16:45.862960Z"
    },
    "vscode": {
     "languageId": "r"
    }
   },
   "outputs": [],
   "source": []
  },
  {
   "cell_type": "markdown",
   "metadata": {},
   "source": [
    "<font color='darkgrey'><b>Operation</font>"
   ]
  },
  {
   "cell_type": "code",
   "execution_count": null,
   "metadata": {},
   "outputs": [],
   "source": []
  },
  {
   "cell_type": "code",
   "execution_count": null,
   "metadata": {},
   "outputs": [],
   "source": []
  },
  {
   "cell_type": "code",
   "execution_count": null,
   "metadata": {},
   "outputs": [],
   "source": []
  }
 ],
 "metadata": {
  "anaconda-cloud": {},
  "celltoolbar": "Slideshow",
  "hide_input": false,
  "kernelspec": {
   "display_name": "R",
   "language": "R",
   "name": "ir"
  },
  "language_info": {
   "codemirror_mode": "r",
   "file_extension": ".r",
   "mimetype": "text/x-r-source",
   "name": "R",
   "pygments_lexer": "r",
   "version": "4.1.2"
  },
  "latex_envs": {
   "LaTeX_envs_menu_present": true,
   "autoclose": false,
   "autocomplete": true,
   "bibliofile": "biblio.bib",
   "cite_by": "apalike",
   "current_citInitial": 1,
   "eqLabelWithNumbers": true,
   "eqNumInitial": 1,
   "hotkeys": {
    "equation": "Ctrl-E",
    "itemize": "Ctrl-I"
   },
   "labels_anchors": false,
   "latex_user_defs": false,
   "report_style_numbering": true,
   "user_envs_cfg": false
  },
  "toc": {
   "base_numbering": 1,
   "nav_menu": {},
   "number_sections": true,
   "sideBar": true,
   "skip_h1_title": true,
   "title_cell": "Table of Contents",
   "title_sidebar": "Contents",
   "toc_cell": false,
   "toc_position": {
    "height": "calc(100% - 180px)",
    "left": "10px",
    "top": "150px",
    "width": "304.633px"
   },
   "toc_section_display": true,
   "toc_window_display": true
  },
  "varInspector": {
   "cols": {
    "lenName": 16,
    "lenType": 16,
    "lenVar": 40
   },
   "kernels_config": {
    "python": {
     "delete_cmd_postfix": "",
     "delete_cmd_prefix": "del ",
     "library": "var_list.py",
     "varRefreshCmd": "print(var_dic_list())"
    },
    "r": {
     "delete_cmd_postfix": ") ",
     "delete_cmd_prefix": "rm(",
     "library": "var_list.r",
     "varRefreshCmd": "cat(var_dic_list()) "
    }
   },
   "types_to_exclude": [
    "module",
    "function",
    "builtin_function_or_method",
    "instance",
    "_Feature"
   ],
   "window_display": false
  }
 },
 "nbformat": 4,
 "nbformat_minor": 4
}
