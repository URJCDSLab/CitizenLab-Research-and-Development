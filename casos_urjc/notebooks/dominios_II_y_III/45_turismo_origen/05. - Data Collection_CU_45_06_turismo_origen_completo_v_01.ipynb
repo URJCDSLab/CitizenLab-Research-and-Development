{
 "cells": [
  {
   "cell_type": "markdown",
   "metadata": {
    "slideshow": {
     "slide_type": "slide"
    }
   },
   "source": [
    "<img src=\".\\images\\Logo.png\" width=150 align=\"left\" /> <img src=\".\\images\\Logo2.jpg\" width=450 align=\"right\" />"
   ]
  },
  {
   "attachments": {},
   "cell_type": "markdown",
   "metadata": {
    "slideshow": {
     "slide_type": "slide"
    }
   },
   "source": [
    "\n",
    "# <center><font color= #1e8449 > <b>CU45_Planificación y promoción del destino en base a los patrones en origen de los turistas</font></center>"
   ]
  },
  {
   "cell_type": "markdown",
   "metadata": {
    "slideshow": {
     "slide_type": "slide"
    }
   },
   "source": [
    "<font color='steelblue'><b>Citizenlab Data Science Methodology > II - Data Processing Domain </font>\n",
    "***\n",
    "> # <font color='steelblue'> <b>05.- Data Collection</font>"
   ]
  },
  {
   "cell_type": "markdown",
   "metadata": {
    "slideshow": {
     "slide_type": "slide"
    }
   },
   "source": [
    "<font color='steelblue'>Data Collection is the process to obtain and generate (if required) necessary data to model the problem.</font>"
   ]
  },
  {
   "attachments": {},
   "cell_type": "markdown",
   "metadata": {},
   "source": [
    "### 06. Consolidación de los datos de turismo por origen\n",
    "\n",
    "* Consolidar en un único archivo los datos obtenidos de turistas por origen (pais, provincia) y los datos de escucha simulados.\n",
    "* No se incluyen los de turistas por municipio de origen y provincia de destino ya que solo analizamos una\n",
    "\n",
    "\n",
    "\n",
    "\n",
    "\n"
   ]
  },
  {
   "cell_type": "markdown",
   "metadata": {
    "toc": true
   },
   "source": [
    "<h1>Table of Contents<span class=\"tocSkip\"></span></h1>\n",
    "<div class=\"toc\"><ul class=\"toc-item\"><li><span><a href=\"#Settings\" data-toc-modified-id=\"Settings-1\"><font color=\"green\">Settings</font></a></span></li><li><span><a href=\"#Data-Load\" data-toc-modified-id=\"Data-Load-2\"><font color=\"green\">Data Load</font></a></span></li><li><span><a href=\"#ETL-Processes\" data-toc-modified-id=\"ETL-Processes-3\">ETL Processes</a></span><ul class=\"toc-item\"><li><span><a href=\"#Import-data-from:-CSV,-Excel,-Tab,-JSON,-SQL,-and-Parquet-files\" data-toc-modified-id=\"Import-data-from:-CSV,-Excel,-Tab,-JSON,-SQL,-and-Parquet-files-3.1\">Import data from: CSV, Excel, Tab, JSON, SQL, and Parquet files</a></span></li></ul></li><li><span><a href=\"#Synthetic-Data-Generation\" data-toc-modified-id=\"Synthetic-Data-Generation-4\">Synthetic Data Generation</a></span></li><li><span><a href=\"#Fake-Data-Generation\" data-toc-modified-id=\"Fake-Data-Generation-5\">Fake Data Generation</a></span></li><li><span><a href=\"#Open-Data\" data-toc-modified-id=\"Open-Data-6\">Open Data</a></span></li><li><span><a href=\"#Data-Save\" data-toc-modified-id=\"Data-Save-7\"><font color=\"green\">Data Save</font></a></span></li><li><span><a href=\"#Main-Conclusions\" data-toc-modified-id=\"Main-Conclusions-8\"><font color=\" #2874a6 \">Main Conclusions</font></a></span></li><li><span><a href=\"#Main-Actions\" data-toc-modified-id=\"Main-Actions-9\"><font color=\" #2874a6 \">Main Actions</font></a></span><ul class=\"toc-item\"><li><ul class=\"toc-item\"><li><span><a href=\"#Acciones-done\" data-toc-modified-id=\"Acciones-done-9.0.1\"><font color=\" #2874a6 \">Acciones done</font></a></span></li><li><span><a href=\"#Acctions-to-perform\" data-toc-modified-id=\"Acctions-to-perform-9.0.2\"><font color=\" #2874a6 \">Acctions to perform</font></a></span></li></ul></li></ul></li></ul></div>"
   ]
  },
  {
   "cell_type": "markdown",
   "metadata": {
    "slideshow": {
     "slide_type": "slide"
    }
   },
   "source": [
    "## <font color='green'>Settings</font>"
   ]
  },
  {
   "attachments": {},
   "cell_type": "markdown",
   "metadata": {},
   "source": [
    "### Encoding\n",
    "\n",
    "Con la siguiente expresión se evitan problemas con el encoding al ejecutar el notebook. Es posible que deba ser eliminada o adaptada a la máquina en la que se ejecute el código."
   ]
  },
  {
   "cell_type": "code",
   "execution_count": 45,
   "metadata": {
    "vscode": {
     "languageId": "r"
    }
   },
   "outputs": [
    {
     "data": {
      "text/html": [
       "'es_ES.UTF-8/es_ES.UTF-8/es_ES.UTF-8/C/es_ES.UTF-8/C'"
      ],
      "text/latex": [
       "'es\\_ES.UTF-8/es\\_ES.UTF-8/es\\_ES.UTF-8/C/es\\_ES.UTF-8/C'"
      ],
      "text/markdown": [
       "'es_ES.UTF-8/es_ES.UTF-8/es_ES.UTF-8/C/es_ES.UTF-8/C'"
      ],
      "text/plain": [
       "[1] \"es_ES.UTF-8/es_ES.UTF-8/es_ES.UTF-8/C/es_ES.UTF-8/C\""
      ]
     },
     "metadata": {},
     "output_type": "display_data"
    }
   ],
   "source": [
    "Sys.setlocale(category = \"LC_ALL\", locale = \"es_ES.UTF-8\")"
   ]
  },
  {
   "attachments": {},
   "cell_type": "markdown",
   "metadata": {},
   "source": [
    "### Packages to use\n",
    "\n",
    "_ELIMINAR O AÑADIR LO QUE TOQUE. COPIAR VERSIONES AL FINAL Y QUITAR CÓDIGO DE VERSIONES_\n",
    "\n",
    "- {tcltk} para selección interactiva de archivos locales\n",
    "- {sf} para trabajar con georeferenciación\n",
    "- {readr} para leer y escribir archivos csv\n",
    "- {dplyr} para explorar datos\n",
    "- {stringr} para manipulación de cadenas de caracteres\n",
    "- {tidyr} para organización de datos\n"
   ]
  },
  {
   "cell_type": "code",
   "execution_count": 72,
   "metadata": {
    "ExecuteTime": {
     "end_time": "2021-12-03T15:23:33.762841Z",
     "start_time": "2021-12-03T15:23:08.580267Z"
    },
    "slideshow": {
     "slide_type": "subslide"
    },
    "vscode": {
     "languageId": "r"
    }
   },
   "outputs": [],
   "source": [
    "\n",
    "library(readr)\n",
    "library(dplyr)\n",
    "\n",
    "p <- c(\"tcltk\",  \"readr\", \"dplyr\")\n"
   ]
  },
  {
   "attachments": {},
   "cell_type": "markdown",
   "metadata": {},
   "source": [
    "### Paths"
   ]
  },
  {
   "cell_type": "code",
   "execution_count": 47,
   "metadata": {
    "vscode": {
     "languageId": "r"
    }
   },
   "outputs": [],
   "source": [
    "iPath <- \"Data/Input/\"\n",
    "oPath <- \"Data/Output/\""
   ]
  },
  {
   "attachments": {},
   "cell_type": "markdown",
   "metadata": {
    "slideshow": {
     "slide_type": "slide"
    }
   },
   "source": [
    "## <font color='green'>Data Load</font>\n",
    "\n",
    "If there are more than one input file, make as many sections as files to import."
   ]
  },
  {
   "attachments": {},
   "cell_type": "markdown",
   "metadata": {},
   "source": [
    "Instrucciones\n",
    "- Los ficheros de entrada del proceso están siempre en Data/Input/.   \n",
    "- Si hay más de un fichero de entrada, se crean tantos objetos iFile_xx y file_data_xx como ficheros de entrada (xx número correlativo con dos dígitos, rellenar con ceros a la izquierda)"
   ]
  },
  {
   "attachments": {},
   "cell_type": "markdown",
   "metadata": {},
   "source": [
    "1. Datos de valoraciones"
   ]
  },
  {
   "attachments": {},
   "cell_type": "markdown",
   "metadata": {},
   "source": [
    "<font color='tomato'><b> OPCION A:</b> Seleccionar fichero en ventana para mayor comodidad</font> "
   ]
  },
  {
   "attachments": {},
   "cell_type": "markdown",
   "metadata": {},
   "source": [
    "Data load using the {tcltk} package. Ucomment the line if not using this option"
   ]
  },
  {
   "cell_type": "code",
   "execution_count": 48,
   "metadata": {
    "vscode": {
     "languageId": "r"
    }
   },
   "outputs": [],
   "source": [
    "# file_data_01 <- tcltk::tk_choose.files(multi = FALSE)"
   ]
  },
  {
   "attachments": {},
   "cell_type": "markdown",
   "metadata": {},
   "source": [
    "<font color='tomato'><b> OPCION B:</b> Especificar el nombre de archivo</font>\n",
    "\n"
   ]
  },
  {
   "cell_type": "code",
   "execution_count": 49,
   "metadata": {
    "vscode": {
     "languageId": "r"
    }
   },
   "outputs": [
    {
     "name": "stdout",
     "output_type": "stream",
     "text": [
      "Se leerán datos del archivo:  Data/Input/CU_45_05_02_valoracion_sim.csv"
     ]
    }
   ],
   "source": [
    "iFile_01 <- \"CU_45_05_02_valoracion_sim.csv\"\n",
    "file_data_01 <- paste0(iPath, iFile_01)\n",
    "\n",
    "if(file.exists(file_data_01)){\n",
    "    cat(\"Se leerán datos del archivo: \", file_data_01)\n",
    "} else{\n",
    "    warning(\"Cuidado: el archivo no existe.\")\n",
    "}\n"
   ]
  },
  {
   "attachments": {},
   "cell_type": "markdown",
   "metadata": {},
   "source": [
    "#### Data file to dataframe\n",
    "\n",
    "Usar la función adecuada según el formato de entrada (xlsx, csv, json, ...)"
   ]
  },
  {
   "cell_type": "code",
   "execution_count": 50,
   "metadata": {
    "vscode": {
     "languageId": "r"
    }
   },
   "outputs": [
    {
     "name": "stderr",
     "output_type": "stream",
     "text": [
      "\u001b[1mRows: \u001b[22m\u001b[34m24780\u001b[39m \u001b[1mColumns: \u001b[22m\u001b[34m9\u001b[39m\n",
      "\u001b[36m──\u001b[39m \u001b[1mColumn specification\u001b[22m \u001b[36m────────────────────────────────────────────────────────\u001b[39m\n",
      "\u001b[1mDelimiter:\u001b[22m \",\"\n",
      "\u001b[31mchr\u001b[39m (5): grupo, tipo, nombre, CMUN, CDIS\n",
      "\u001b[32mdbl\u001b[39m (4): X, Y, t3_1, puntos\n",
      "\n",
      "\u001b[36mℹ\u001b[39m Use `spec()` to retrieve the full column specification for this data.\n",
      "\u001b[36mℹ\u001b[39m Specify the column types or set `show_col_types = FALSE` to quiet this message.\n"
     ]
    }
   ],
   "source": [
    "data_01 <- read_csv(file_data_01)\n"
   ]
  },
  {
   "attachments": {},
   "cell_type": "markdown",
   "metadata": {},
   "source": [
    "Estructura de  los datos:"
   ]
  },
  {
   "cell_type": "code",
   "execution_count": 51,
   "metadata": {
    "vscode": {
     "languageId": "r"
    }
   },
   "outputs": [
    {
     "name": "stdout",
     "output_type": "stream",
     "text": [
      "Rows: 24,780\n",
      "Columns: 9\n",
      "$ grupo  \u001b[3m\u001b[90m<chr>\u001b[39m\u001b[23m \"turismo\", \"hosteleria\", \"hosteleria\", \"hosteleria\", \"comercio\"…\n",
      "$ tipo   \u001b[3m\u001b[90m<chr>\u001b[39m\u001b[23m \"hotel\", \"restaurant\", \"pub\", \"pub\", \"supermarket\", \"fast_food\"…\n",
      "$ nombre \u001b[3m\u001b[90m<chr>\u001b[39m\u001b[23m \"NH Ciudad de la Imagen\", \"Café Comercial\", \"Sidrería la Camoch…\n",
      "$ X      \u001b[3m\u001b[90m<dbl>\u001b[39m\u001b[23m -3.788176, -3.702002, -3.701686, -3.696329, -3.706888, -3.60722…\n",
      "$ Y      \u001b[3m\u001b[90m<dbl>\u001b[39m\u001b[23m 40.39844, 40.42873, 40.42703, 40.42760, 40.48035, 40.43337, 40.…\n",
      "$ CMUN   \u001b[3m\u001b[90m<chr>\u001b[39m\u001b[23m \"115\", \"079\", \"079\", \"079\", \"079\", \"079\", \"079\", \"079\", \"079\", …\n",
      "$ CDIS   \u001b[3m\u001b[90m<chr>\u001b[39m\u001b[23m \"01\", \"01\", \"01\", \"01\", \"08\", \"20\", \"01\", \"01\", \"01\", \"01\", \"01…\n",
      "$ t3_1   \u001b[3m\u001b[90m<dbl>\u001b[39m\u001b[23m 41.46522, 43.76242, 43.76242, 43.76242, 43.76242, 43.76242, 43.…\n",
      "$ puntos \u001b[3m\u001b[90m<dbl>\u001b[39m\u001b[23m 2, 4, 4, 1, 5, 2, 1, 3, 3, 5, 5, 5, 3, 4, 2, 4, 3, 1, 4, 2, 1, …\n"
     ]
    }
   ],
   "source": [
    "data_01 |> glimpse()"
   ]
  },
  {
   "attachments": {},
   "cell_type": "markdown",
   "metadata": {},
   "source": [
    "Muestra de los primeros datos:"
   ]
  },
  {
   "cell_type": "code",
   "execution_count": 52,
   "metadata": {
    "vscode": {
     "languageId": "r"
    }
   },
   "outputs": [
    {
     "data": {
      "text/html": [
       "<table class=\"dataframe\">\n",
       "<caption>A spec_tbl_df: 5 x 9</caption>\n",
       "<thead>\n",
       "\t<tr><th scope=col>grupo</th><th scope=col>tipo</th><th scope=col>nombre</th><th scope=col>X</th><th scope=col>Y</th><th scope=col>CMUN</th><th scope=col>CDIS</th><th scope=col>t3_1</th><th scope=col>puntos</th></tr>\n",
       "\t<tr><th scope=col>&lt;chr&gt;</th><th scope=col>&lt;chr&gt;</th><th scope=col>&lt;chr&gt;</th><th scope=col>&lt;dbl&gt;</th><th scope=col>&lt;dbl&gt;</th><th scope=col>&lt;chr&gt;</th><th scope=col>&lt;chr&gt;</th><th scope=col>&lt;dbl&gt;</th><th scope=col>&lt;dbl&gt;</th></tr>\n",
       "</thead>\n",
       "<tbody>\n",
       "\t<tr><td>turismo   </td><td>hotel      </td><td>NH Ciudad de la Imagen</td><td>-3.788176</td><td>40.39844</td><td>115</td><td>01</td><td>41.46522</td><td>2</td></tr>\n",
       "\t<tr><td>hosteleria</td><td>restaurant </td><td>Café Comercial        </td><td>-3.702002</td><td>40.42873</td><td>079</td><td>01</td><td>43.76242</td><td>4</td></tr>\n",
       "\t<tr><td>hosteleria</td><td>pub        </td><td>Sidrería la Camocha   </td><td>-3.701686</td><td>40.42703</td><td>079</td><td>01</td><td>43.76242</td><td>4</td></tr>\n",
       "\t<tr><td>hosteleria</td><td>pub        </td><td>Gran Cafe Santander   </td><td>-3.696329</td><td>40.42760</td><td>079</td><td>01</td><td>43.76242</td><td>1</td></tr>\n",
       "\t<tr><td>comercio  </td><td>supermarket</td><td>Alcampo               </td><td>-3.706888</td><td>40.48035</td><td>079</td><td>08</td><td>43.76242</td><td>5</td></tr>\n",
       "</tbody>\n",
       "</table>\n"
      ],
      "text/latex": [
       "A spec\\_tbl\\_df: 5 x 9\n",
       "\\begin{tabular}{lllllllll}\n",
       " grupo & tipo & nombre & X & Y & CMUN & CDIS & t3\\_1 & puntos\\\\\n",
       " <chr> & <chr> & <chr> & <dbl> & <dbl> & <chr> & <chr> & <dbl> & <dbl>\\\\\n",
       "\\hline\n",
       "\t turismo    & hotel       & NH Ciudad de la Imagen & -3.788176 & 40.39844 & 115 & 01 & 41.46522 & 2\\\\\n",
       "\t hosteleria & restaurant  & Café Comercial         & -3.702002 & 40.42873 & 079 & 01 & 43.76242 & 4\\\\\n",
       "\t hosteleria & pub         & Sidrería la Camocha    & -3.701686 & 40.42703 & 079 & 01 & 43.76242 & 4\\\\\n",
       "\t hosteleria & pub         & Gran Cafe Santander    & -3.696329 & 40.42760 & 079 & 01 & 43.76242 & 1\\\\\n",
       "\t comercio   & supermarket & Alcampo                & -3.706888 & 40.48035 & 079 & 08 & 43.76242 & 5\\\\\n",
       "\\end{tabular}\n"
      ],
      "text/markdown": [
       "\n",
       "A spec_tbl_df: 5 x 9\n",
       "\n",
       "| grupo &lt;chr&gt; | tipo &lt;chr&gt; | nombre &lt;chr&gt; | X &lt;dbl&gt; | Y &lt;dbl&gt; | CMUN &lt;chr&gt; | CDIS &lt;chr&gt; | t3_1 &lt;dbl&gt; | puntos &lt;dbl&gt; |\n",
       "|---|---|---|---|---|---|---|---|---|\n",
       "| turismo    | hotel       | NH Ciudad de la Imagen | -3.788176 | 40.39844 | 115 | 01 | 41.46522 | 2 |\n",
       "| hosteleria | restaurant  | Café Comercial         | -3.702002 | 40.42873 | 079 | 01 | 43.76242 | 4 |\n",
       "| hosteleria | pub         | Sidrería la Camocha    | -3.701686 | 40.42703 | 079 | 01 | 43.76242 | 4 |\n",
       "| hosteleria | pub         | Gran Cafe Santander    | -3.696329 | 40.42760 | 079 | 01 | 43.76242 | 1 |\n",
       "| comercio   | supermarket | Alcampo                | -3.706888 | 40.48035 | 079 | 08 | 43.76242 | 5 |\n",
       "\n"
      ],
      "text/plain": [
       "  grupo      tipo        nombre                 X         Y        CMUN CDIS\n",
       "1 turismo    hotel       NH Ciudad de la Imagen -3.788176 40.39844 115  01  \n",
       "2 hosteleria restaurant  Café Comercial         -3.702002 40.42873 079  01  \n",
       "3 hosteleria pub         Sidrería la Camocha    -3.701686 40.42703 079  01  \n",
       "4 hosteleria pub         Gran Cafe Santander    -3.696329 40.42760 079  01  \n",
       "5 comercio   supermarket Alcampo                -3.706888 40.48035 079  08  \n",
       "  t3_1     puntos\n",
       "1 41.46522 2     \n",
       "2 43.76242 4     \n",
       "3 43.76242 4     \n",
       "4 43.76242 1     \n",
       "5 43.76242 5     "
      ]
     },
     "metadata": {},
     "output_type": "display_data"
    }
   ],
   "source": [
    "data_01 |> slice_head(n = 5)"
   ]
  },
  {
   "attachments": {},
   "cell_type": "markdown",
   "metadata": {},
   "source": [
    "2. Datos de turismo receptor\n"
   ]
  },
  {
   "cell_type": "markdown",
   "metadata": {},
   "source": [
    "<font color='tomato'><b> OPCION A:</b> Seleccionar fichero en ventana para mayor comodidad</font> "
   ]
  },
  {
   "cell_type": "markdown",
   "metadata": {},
   "source": [
    "Data load using the {tcltk} package. Ucomment the line if not using this option"
   ]
  },
  {
   "cell_type": "code",
   "execution_count": 53,
   "metadata": {
    "vscode": {
     "languageId": "r"
    }
   },
   "outputs": [],
   "source": [
    "# file_data_02 <- tcltk::tk_choose.files(multi = FALSE)"
   ]
  },
  {
   "cell_type": "markdown",
   "metadata": {},
   "source": [
    "<font color='tomato'><b> OPCION B:</b> Especificar el nombre de archivo</font>\n",
    "\n"
   ]
  },
  {
   "cell_type": "code",
   "execution_count": 54,
   "metadata": {
    "vscode": {
     "languageId": "r"
    }
   },
   "outputs": [
    {
     "name": "stdout",
     "output_type": "stream",
     "text": [
      "Se leerán datos del archivo:  Data/Input/CU_45_05_03_receptor.csv"
     ]
    }
   ],
   "source": [
    "iFile_02 <- \"CU_45_05_03_receptor.csv\"\n",
    "file_data_02 <- paste0(iPath, iFile_02)\n",
    "\n",
    "if(file.exists(file_data_02)){\n",
    "    cat(\"Se leerán datos del archivo: \", file_data_02)\n",
    "} else{\n",
    "    warning(\"Cuidado: el archivo no existe.\")\n",
    "}\n"
   ]
  },
  {
   "cell_type": "markdown",
   "metadata": {},
   "source": [
    "#### Data file to dataframe\n",
    "\n",
    "Usar la función adecuada según el formato de entrada (xlsx, csv, json, ...)"
   ]
  },
  {
   "cell_type": "code",
   "execution_count": 55,
   "metadata": {
    "vscode": {
     "languageId": "r"
    }
   },
   "outputs": [
    {
     "name": "stderr",
     "output_type": "stream",
     "text": [
      "\u001b[1mRows: \u001b[22m\u001b[34m50294\u001b[39m \u001b[1mColumns: \u001b[22m\u001b[34m7\u001b[39m\n",
      "\u001b[36m──\u001b[39m \u001b[1mColumn specification\u001b[22m \u001b[36m────────────────────────────────────────────────────────\u001b[39m\n",
      "\u001b[1mDelimiter:\u001b[22m \",\"\n",
      "\u001b[31mchr\u001b[39m (5): mes, pais_orig_cod, pais_orig, mun_dest, CMUN\n",
      "\u001b[32mdbl\u001b[39m (2): mun_dest_cod, turistas\n",
      "\n",
      "\u001b[36mℹ\u001b[39m Use `spec()` to retrieve the full column specification for this data.\n",
      "\u001b[36mℹ\u001b[39m Specify the column types or set `show_col_types = FALSE` to quiet this message.\n"
     ]
    }
   ],
   "source": [
    "data_02 <- read_csv(file_data_02)\n"
   ]
  },
  {
   "cell_type": "markdown",
   "metadata": {},
   "source": [
    "Estructura de  los datos:"
   ]
  },
  {
   "cell_type": "code",
   "execution_count": 56,
   "metadata": {
    "vscode": {
     "languageId": "r"
    }
   },
   "outputs": [
    {
     "name": "stdout",
     "output_type": "stream",
     "text": [
      "Rows: 50,294\n",
      "Columns: 7\n",
      "$ mes           \u001b[3m\u001b[90m<chr>\u001b[39m\u001b[23m \"2019-07\", \"2019-07\", \"2019-07\", \"2019-07\", \"2019-07\", \"…\n",
      "$ pais_orig_cod \u001b[3m\u001b[90m<chr>\u001b[39m\u001b[23m \"000\", \"010\", \"011\", \"030\", \"110\", \"121\", \"123\", \"126\", …\n",
      "$ pais_orig     \u001b[3m\u001b[90m<chr>\u001b[39m\u001b[23m \"Total\", \"Total Europa\", \"Total Unión Europea\", \"Total A…\n",
      "$ mun_dest_cod  \u001b[3m\u001b[90m<dbl>\u001b[39m\u001b[23m 28002, 28002, 28002, 28002, 28002, 28002, 28002, 28002, …\n",
      "$ mun_dest      \u001b[3m\u001b[90m<chr>\u001b[39m\u001b[23m \"Ajalvir\", \"Ajalvir\", \"Ajalvir\", \"Ajalvir\", \"Ajalvir\", \"…\n",
      "$ turistas      \u001b[3m\u001b[90m<dbl>\u001b[39m\u001b[23m 338, 290, 268, 37, 56, 54, 37, 40, 157, 116, 109, 8461, …\n",
      "$ CMUN          \u001b[3m\u001b[90m<chr>\u001b[39m\u001b[23m \"002\", \"002\", \"002\", \"002\", \"002\", \"002\", \"002\", \"002\", …\n"
     ]
    }
   ],
   "source": [
    "data_02 |> glimpse()"
   ]
  },
  {
   "cell_type": "markdown",
   "metadata": {},
   "source": [
    "Muestra de los primeros datos:"
   ]
  },
  {
   "cell_type": "code",
   "execution_count": 57,
   "metadata": {
    "vscode": {
     "languageId": "r"
    }
   },
   "outputs": [
    {
     "data": {
      "text/html": [
       "<table class=\"dataframe\">\n",
       "<caption>A spec_tbl_df: 5 x 7</caption>\n",
       "<thead>\n",
       "\t<tr><th scope=col>mes</th><th scope=col>pais_orig_cod</th><th scope=col>pais_orig</th><th scope=col>mun_dest_cod</th><th scope=col>mun_dest</th><th scope=col>turistas</th><th scope=col>CMUN</th></tr>\n",
       "\t<tr><th scope=col>&lt;chr&gt;</th><th scope=col>&lt;chr&gt;</th><th scope=col>&lt;chr&gt;</th><th scope=col>&lt;dbl&gt;</th><th scope=col>&lt;chr&gt;</th><th scope=col>&lt;dbl&gt;</th><th scope=col>&lt;chr&gt;</th></tr>\n",
       "</thead>\n",
       "<tbody>\n",
       "\t<tr><td>2019-07</td><td>000</td><td>Total              </td><td>28002</td><td>Ajalvir</td><td>338</td><td>002</td></tr>\n",
       "\t<tr><td>2019-07</td><td>010</td><td>Total Europa       </td><td>28002</td><td>Ajalvir</td><td>290</td><td>002</td></tr>\n",
       "\t<tr><td>2019-07</td><td>011</td><td>Total Unión Europea</td><td>28002</td><td>Ajalvir</td><td>268</td><td>002</td></tr>\n",
       "\t<tr><td>2019-07</td><td>030</td><td>Total América      </td><td>28002</td><td>Ajalvir</td><td> 37</td><td>002</td></tr>\n",
       "\t<tr><td>2019-07</td><td>110</td><td>Francia            </td><td>28002</td><td>Ajalvir</td><td> 56</td><td>002</td></tr>\n",
       "</tbody>\n",
       "</table>\n"
      ],
      "text/latex": [
       "A spec\\_tbl\\_df: 5 x 7\n",
       "\\begin{tabular}{lllllll}\n",
       " mes & pais\\_orig\\_cod & pais\\_orig & mun\\_dest\\_cod & mun\\_dest & turistas & CMUN\\\\\n",
       " <chr> & <chr> & <chr> & <dbl> & <chr> & <dbl> & <chr>\\\\\n",
       "\\hline\n",
       "\t 2019-07 & 000 & Total               & 28002 & Ajalvir & 338 & 002\\\\\n",
       "\t 2019-07 & 010 & Total Europa        & 28002 & Ajalvir & 290 & 002\\\\\n",
       "\t 2019-07 & 011 & Total Unión Europea & 28002 & Ajalvir & 268 & 002\\\\\n",
       "\t 2019-07 & 030 & Total América       & 28002 & Ajalvir &  37 & 002\\\\\n",
       "\t 2019-07 & 110 & Francia             & 28002 & Ajalvir &  56 & 002\\\\\n",
       "\\end{tabular}\n"
      ],
      "text/markdown": [
       "\n",
       "A spec_tbl_df: 5 x 7\n",
       "\n",
       "| mes &lt;chr&gt; | pais_orig_cod &lt;chr&gt; | pais_orig &lt;chr&gt; | mun_dest_cod &lt;dbl&gt; | mun_dest &lt;chr&gt; | turistas &lt;dbl&gt; | CMUN &lt;chr&gt; |\n",
       "|---|---|---|---|---|---|---|\n",
       "| 2019-07 | 000 | Total               | 28002 | Ajalvir | 338 | 002 |\n",
       "| 2019-07 | 010 | Total Europa        | 28002 | Ajalvir | 290 | 002 |\n",
       "| 2019-07 | 011 | Total Unión Europea | 28002 | Ajalvir | 268 | 002 |\n",
       "| 2019-07 | 030 | Total América       | 28002 | Ajalvir |  37 | 002 |\n",
       "| 2019-07 | 110 | Francia             | 28002 | Ajalvir |  56 | 002 |\n",
       "\n"
      ],
      "text/plain": [
       "  mes     pais_orig_cod pais_orig           mun_dest_cod mun_dest turistas CMUN\n",
       "1 2019-07 000           Total               28002        Ajalvir  338      002 \n",
       "2 2019-07 010           Total Europa        28002        Ajalvir  290      002 \n",
       "3 2019-07 011           Total Unión Europea 28002        Ajalvir  268      002 \n",
       "4 2019-07 030           Total América       28002        Ajalvir   37      002 \n",
       "5 2019-07 110           Francia             28002        Ajalvir   56      002 "
      ]
     },
     "metadata": {},
     "output_type": "display_data"
    }
   ],
   "source": [
    "data_02 |> slice_head(n = 5)"
   ]
  },
  {
   "attachments": {},
   "cell_type": "markdown",
   "metadata": {},
   "source": [
    "3. Datos de turismo nacional por provincia de origen"
   ]
  },
  {
   "cell_type": "markdown",
   "metadata": {},
   "source": [
    "<font color='tomato'><b> OPCION A:</b> Seleccionar fichero en ventana para mayor comodidad</font> "
   ]
  },
  {
   "cell_type": "markdown",
   "metadata": {},
   "source": [
    "Data load using the {tcltk} package. Ucomment the line if not using this option"
   ]
  },
  {
   "cell_type": "code",
   "execution_count": 58,
   "metadata": {
    "vscode": {
     "languageId": "r"
    }
   },
   "outputs": [],
   "source": [
    "# file_data_03 <- tcltk::tk_choose.files(multi = FALSE)"
   ]
  },
  {
   "cell_type": "markdown",
   "metadata": {},
   "source": [
    "<font color='tomato'><b> OPCION B:</b> Especificar el nombre de archivo</font>\n",
    "\n"
   ]
  },
  {
   "cell_type": "code",
   "execution_count": 59,
   "metadata": {
    "vscode": {
     "languageId": "r"
    }
   },
   "outputs": [
    {
     "name": "stdout",
     "output_type": "stream",
     "text": [
      "Se leerán datos del archivo:  Data/Input/CU_45_05_04_interno_prov.csv"
     ]
    }
   ],
   "source": [
    "iFile_03 <- \"CU_45_05_04_interno_prov.csv\"\n",
    "file_data_03 <- paste0(iPath, iFile_03)\n",
    "\n",
    "if(file.exists(file_data_03)){\n",
    "    cat(\"Se leerán datos del archivo: \", file_data_03)\n",
    "} else{\n",
    "    warning(\"Cuidado: el archivo no existe.\")\n",
    "}\n"
   ]
  },
  {
   "cell_type": "markdown",
   "metadata": {},
   "source": [
    "#### Data file to dataframe\n",
    "\n",
    "Usar la función adecuada según el formato de entrada (xlsx, csv, json, ...)"
   ]
  },
  {
   "cell_type": "code",
   "execution_count": 60,
   "metadata": {
    "vscode": {
     "languageId": "r"
    }
   },
   "outputs": [
    {
     "name": "stderr",
     "output_type": "stream",
     "text": [
      "\u001b[1mRows: \u001b[22m\u001b[34m521280\u001b[39m \u001b[1mColumns: \u001b[22m\u001b[34m8\u001b[39m\n",
      "\u001b[36m──\u001b[39m \u001b[1mColumn specification\u001b[22m \u001b[36m────────────────────────────────────────────────────────\u001b[39m\n",
      "\u001b[1mDelimiter:\u001b[22m \",\"\n",
      "\u001b[31mchr\u001b[39m (6): total_nacional, total_ccaa, provincia, municipio_destino, cmun, mes\n",
      "\u001b[32mdbl\u001b[39m (2): turistas, secreto\n",
      "\n",
      "\u001b[36mℹ\u001b[39m Use `spec()` to retrieve the full column specification for this data.\n",
      "\u001b[36mℹ\u001b[39m Specify the column types or set `show_col_types = FALSE` to quiet this message.\n"
     ]
    }
   ],
   "source": [
    "data_03 <- read_csv(file_data_03)\n"
   ]
  },
  {
   "cell_type": "markdown",
   "metadata": {},
   "source": [
    "Estructura de  los datos:"
   ]
  },
  {
   "cell_type": "code",
   "execution_count": 61,
   "metadata": {
    "vscode": {
     "languageId": "r"
    }
   },
   "outputs": [
    {
     "name": "stdout",
     "output_type": "stream",
     "text": [
      "Rows: 521,280\n",
      "Columns: 8\n",
      "$ total_nacional    \u001b[3m\u001b[90m<chr>\u001b[39m\u001b[23m \"Total Nacional\", \"Total Nacional\", \"Total Nacional\"…\n",
      "$ total_ccaa        \u001b[3m\u001b[90m<chr>\u001b[39m\u001b[23m NA, NA, NA, NA, NA, NA, NA, NA, NA, NA, NA, NA, NA, …\n",
      "$ provincia         \u001b[3m\u001b[90m<chr>\u001b[39m\u001b[23m NA, NA, NA, NA, NA, NA, NA, NA, NA, NA, NA, NA, NA, …\n",
      "$ municipio_destino \u001b[3m\u001b[90m<chr>\u001b[39m\u001b[23m \"Acebeda, La\", \"Acebeda, La\", \"Acebeda, La\", \"Acebed…\n",
      "$ turistas          \u001b[3m\u001b[90m<dbl>\u001b[39m\u001b[23m NA, NA, NA, 39, 125, 31, NA, NA, NA, NA, NA, NA, NA,…\n",
      "$ cmun              \u001b[3m\u001b[90m<chr>\u001b[39m\u001b[23m \"001\", \"001\", \"001\", \"001\", \"001\", \"001\", \"001\", \"00…\n",
      "$ mes               \u001b[3m\u001b[90m<chr>\u001b[39m\u001b[23m \"2022-10\", \"2022-09\", \"2022-08\", \"2022-07\", \"2022-06…\n",
      "$ secreto           \u001b[3m\u001b[90m<dbl>\u001b[39m\u001b[23m NA, NA, NA, 0, 0, 0, NA, NA, NA, 1, NA, NA, NA, NA, …\n"
     ]
    }
   ],
   "source": [
    "data_03 |> glimpse()"
   ]
  },
  {
   "cell_type": "markdown",
   "metadata": {},
   "source": [
    "Muestra de los primeros datos:"
   ]
  },
  {
   "cell_type": "code",
   "execution_count": 62,
   "metadata": {
    "vscode": {
     "languageId": "r"
    }
   },
   "outputs": [
    {
     "data": {
      "text/html": [
       "<table class=\"dataframe\">\n",
       "<caption>A spec_tbl_df: 5 x 8</caption>\n",
       "<thead>\n",
       "\t<tr><th scope=col>total_nacional</th><th scope=col>total_ccaa</th><th scope=col>provincia</th><th scope=col>municipio_destino</th><th scope=col>turistas</th><th scope=col>cmun</th><th scope=col>mes</th><th scope=col>secreto</th></tr>\n",
       "\t<tr><th scope=col>&lt;chr&gt;</th><th scope=col>&lt;chr&gt;</th><th scope=col>&lt;chr&gt;</th><th scope=col>&lt;chr&gt;</th><th scope=col>&lt;dbl&gt;</th><th scope=col>&lt;chr&gt;</th><th scope=col>&lt;chr&gt;</th><th scope=col>&lt;dbl&gt;</th></tr>\n",
       "</thead>\n",
       "<tbody>\n",
       "\t<tr><td>Total Nacional</td><td>NA</td><td>NA</td><td>Acebeda, La</td><td> NA</td><td>001</td><td>2022-10</td><td>NA</td></tr>\n",
       "\t<tr><td>Total Nacional</td><td>NA</td><td>NA</td><td>Acebeda, La</td><td> NA</td><td>001</td><td>2022-09</td><td>NA</td></tr>\n",
       "\t<tr><td>Total Nacional</td><td>NA</td><td>NA</td><td>Acebeda, La</td><td> NA</td><td>001</td><td>2022-08</td><td>NA</td></tr>\n",
       "\t<tr><td>Total Nacional</td><td>NA</td><td>NA</td><td>Acebeda, La</td><td> 39</td><td>001</td><td>2022-07</td><td> 0</td></tr>\n",
       "\t<tr><td>Total Nacional</td><td>NA</td><td>NA</td><td>Acebeda, La</td><td>125</td><td>001</td><td>2022-06</td><td> 0</td></tr>\n",
       "</tbody>\n",
       "</table>\n"
      ],
      "text/latex": [
       "A spec\\_tbl\\_df: 5 x 8\n",
       "\\begin{tabular}{llllllll}\n",
       " total\\_nacional & total\\_ccaa & provincia & municipio\\_destino & turistas & cmun & mes & secreto\\\\\n",
       " <chr> & <chr> & <chr> & <chr> & <dbl> & <chr> & <chr> & <dbl>\\\\\n",
       "\\hline\n",
       "\t Total Nacional & NA & NA & Acebeda, La &  NA & 001 & 2022-10 & NA\\\\\n",
       "\t Total Nacional & NA & NA & Acebeda, La &  NA & 001 & 2022-09 & NA\\\\\n",
       "\t Total Nacional & NA & NA & Acebeda, La &  NA & 001 & 2022-08 & NA\\\\\n",
       "\t Total Nacional & NA & NA & Acebeda, La &  39 & 001 & 2022-07 &  0\\\\\n",
       "\t Total Nacional & NA & NA & Acebeda, La & 125 & 001 & 2022-06 &  0\\\\\n",
       "\\end{tabular}\n"
      ],
      "text/markdown": [
       "\n",
       "A spec_tbl_df: 5 x 8\n",
       "\n",
       "| total_nacional &lt;chr&gt; | total_ccaa &lt;chr&gt; | provincia &lt;chr&gt; | municipio_destino &lt;chr&gt; | turistas &lt;dbl&gt; | cmun &lt;chr&gt; | mes &lt;chr&gt; | secreto &lt;dbl&gt; |\n",
       "|---|---|---|---|---|---|---|---|\n",
       "| Total Nacional | NA | NA | Acebeda, La |  NA | 001 | 2022-10 | NA |\n",
       "| Total Nacional | NA | NA | Acebeda, La |  NA | 001 | 2022-09 | NA |\n",
       "| Total Nacional | NA | NA | Acebeda, La |  NA | 001 | 2022-08 | NA |\n",
       "| Total Nacional | NA | NA | Acebeda, La |  39 | 001 | 2022-07 |  0 |\n",
       "| Total Nacional | NA | NA | Acebeda, La | 125 | 001 | 2022-06 |  0 |\n",
       "\n"
      ],
      "text/plain": [
       "  total_nacional total_ccaa provincia municipio_destino turistas cmun mes    \n",
       "1 Total Nacional NA         NA        Acebeda, La        NA      001  2022-10\n",
       "2 Total Nacional NA         NA        Acebeda, La        NA      001  2022-09\n",
       "3 Total Nacional NA         NA        Acebeda, La        NA      001  2022-08\n",
       "4 Total Nacional NA         NA        Acebeda, La        39      001  2022-07\n",
       "5 Total Nacional NA         NA        Acebeda, La       125      001  2022-06\n",
       "  secreto\n",
       "1 NA     \n",
       "2 NA     \n",
       "3 NA     \n",
       "4  0     \n",
       "5  0     "
      ]
     },
     "metadata": {},
     "output_type": "display_data"
    }
   ],
   "source": [
    "data_03 |> slice_head(n = 5)"
   ]
  },
  {
   "cell_type": "markdown",
   "metadata": {
    "slideshow": {
     "slide_type": "slide"
    }
   },
   "source": [
    "## ETL Processes"
   ]
  },
  {
   "attachments": {},
   "cell_type": "markdown",
   "metadata": {
    "slideshow": {
     "slide_type": "slide"
    }
   },
   "source": [
    "### Import data from: CSV, Excel, Tab, JSON, SQL, and Parquet files\n",
    "\n",
    "Se han importado en el apartado Data Load anterior:\n",
    "\n",
    "* Datos de puntuaciones por POI\n",
    "* Datos de turismo de entrada por país\n",
    "* Datos de turismo de entrada por provincia origen\n",
    "* Datos de turismo de entrada por municipio origen"
   ]
  },
  {
   "attachments": {},
   "cell_type": "markdown",
   "metadata": {},
   "source": [
    "Incluir apartados si procede para: Extracción de datos (select, filter), Transformación de datos, (mutate, joins, ...). Si es necesario tratar datos perdidos, indicarlo también en NB 09.2"
   ]
  },
  {
   "attachments": {},
   "cell_type": "markdown",
   "metadata": {},
   "source": [
    "Si no aplica: Estos datos no requieren tareas de este tipo."
   ]
  },
  {
   "attachments": {},
   "cell_type": "markdown",
   "metadata": {},
   "source": [
    "#### Unión de las tablas"
   ]
  },
  {
   "cell_type": "code",
   "execution_count": 71,
   "metadata": {
    "vscode": {
     "languageId": "r"
    }
   },
   "outputs": [
    {
     "name": "stderr",
     "output_type": "stream",
     "text": [
      "Warning message in full_join(data_01, data_02, by = c(CMUN = \"CMUN\")):\n",
      "“\u001b[1m\u001b[22mEach row in `x` is expected to match at most 1 row in `y`.\n",
      "\u001b[36mℹ\u001b[39m Row 1 of `x` matches multiple rows.\n",
      "\u001b[36mℹ\u001b[39m If multiple matches are expected, set `multiple = \"all\"` to silence this\n",
      "  warning.”\n"
     ]
    },
    {
     "ename": "ERROR",
     "evalue": "\u001b[1m\u001b[33mError\u001b[39m in `vctrs::vec_locate_matches()`:\u001b[22m\n\u001b[33m!\u001b[39m Match procedure results in an allocation larger than 2^31-1 elements. Attempted allocation size was 5511714950.\n\u001b[34mℹ\u001b[39m In file \u001b[34mmatch.c\u001b[39m at line 2411.\n\u001b[34mℹ\u001b[39m This is an internal error that was detected in the \u001b[34mvctrs\u001b[39m package.\n  Please report it at \u001b[3m\u001b[34m<https://github.com/r-lib/vctrs/issues>\u001b[39m\u001b[23m with a reprex (\u001b[3m\u001b[34m<https://https://tidyverse.org/help/>\u001b[39m\u001b[23m) and the full backtrace.\n",
     "output_type": "error",
     "traceback": [
      "\u001b[1m\u001b[33mError\u001b[39m in `vctrs::vec_locate_matches()`:\u001b[22m\n\u001b[33m!\u001b[39m Match procedure results in an allocation larger than 2^31-1 elements. Attempted allocation size was 5511714950.\n\u001b[34mℹ\u001b[39m In file \u001b[34mmatch.c\u001b[39m at line 2411.\n\u001b[34mℹ\u001b[39m This is an internal error that was detected in the \u001b[34mvctrs\u001b[39m package.\n  Please report it at \u001b[3m\u001b[34m<https://github.com/r-lib/vctrs/issues>\u001b[39m\u001b[23m with a reprex (\u001b[3m\u001b[34m<https://https://tidyverse.org/help/>\u001b[39m\u001b[23m) and the full backtrace.\nTraceback:\n",
      "1. full_join(full_join(data_01, data_02, by = c(CMUN = \"CMUN\")), \n .     data_03, by = c(CMUN = \"cmun\", mes = \"mes\"))",
      "2. full_join.data.frame(full_join(data_01, data_02, by = c(CMUN = \"CMUN\")), \n .     data_03, by = c(CMUN = \"cmun\", mes = \"mes\"))",
      "3. join_mutate(x = x, y = y, by = by, type = \"full\", suffix = suffix, \n .     na_matches = na_matches, keep = keep, multiple = multiple, \n .     unmatched = \"drop\", user_env = caller_env())",
      "4. join_rows(x_key = x_key, y_key = y_key, type = type, na_matches = na_matches, \n .     condition = condition, filter = filter, cross = cross, multiple = multiple, \n .     unmatched = unmatched, error_call = error_call, user_env = user_env)",
      "5. dplyr_locate_matches(needles = x_key, haystack = y_key, condition = condition, \n .     filter = filter, incomplete = incomplete, no_match = no_match, \n .     remaining = remaining, multiple = multiple, needles_arg = \"x\", \n .     haystack_arg = \"y\", error_call = error_call)",
      "6. withCallingHandlers(vctrs::vec_locate_matches(needles = needles, \n .     haystack = haystack, condition = condition, filter = filter, \n .     incomplete = incomplete, no_match = no_match, remaining = remaining, \n .     multiple = multiple, needles_arg = needles_arg, haystack_arg = haystack_arg, \n .     nan_distinct = TRUE), vctrs_error_incompatible_type = function(cnd) {\n .     abort(\"`join_cast_common()` should have handled this.\", .internal = TRUE)\n . }, vctrs_error_matches_nothing = function(cnd) {\n .     rethrow_error_join_matches_nothing(cnd, error_call)\n . }, vctrs_error_matches_incomplete = function(cnd) {\n .     rethrow_error_join_matches_incomplete(cnd, error_call)\n . }, vctrs_error_matches_remaining = function(cnd) {\n .     rethrow_error_join_matches_remaining(cnd, error_call)\n . }, vctrs_error_matches_multiple = function(cnd) {\n .     rethrow_error_join_matches_multiple(cnd, error_call)\n . }, vctrs_warning_matches_multiple = function(cnd) {\n .     rethrow_warning_join_matches_multiple(cnd, error_call)\n . })",
      "7. vctrs::vec_locate_matches(needles = needles, haystack = haystack, \n .     condition = condition, filter = filter, incomplete = incomplete, \n .     no_match = no_match, remaining = remaining, multiple = multiple, \n .     needles_arg = needles_arg, haystack_arg = haystack_arg, nan_distinct = TRUE)",
      "8. stop_internal_c_lib(file = file, line = line, call = call, message = message, \n .     frame = frame)",
      "9. abort(message, call = call, .internal = TRUE, .frame = frame)",
      "10. signal_abort(cnd, .file)"
     ]
    }
   ],
   "source": [
    "data <- data_01 |>\n",
    "    full_join(data_02, by = c(\"CMUN\" = \"CMUN\")) |>\n",
    "    full_join(data_03, by = c(\"CMUN\" = \"cmun\",\n",
    "                              \"mes\" = \"mes\"))\n",
    "nrow(data)"
   ]
  },
  {
   "cell_type": "markdown",
   "metadata": {
    "slideshow": {
     "slide_type": "slide"
    }
   },
   "source": [
    "## Synthetic Data Generation"
   ]
  },
  {
   "attachments": {},
   "cell_type": "markdown",
   "metadata": {
    "slideshow": {
     "slide_type": "slide"
    }
   },
   "source": [
    "No aplica"
   ]
  },
  {
   "cell_type": "markdown",
   "metadata": {
    "slideshow": {
     "slide_type": "slide"
    }
   },
   "source": [
    "## Fake Data Generation"
   ]
  },
  {
   "attachments": {},
   "cell_type": "markdown",
   "metadata": {
    "slideshow": {
     "slide_type": "slide"
    }
   },
   "source": [
    "No aplica"
   ]
  },
  {
   "cell_type": "markdown",
   "metadata": {
    "slideshow": {
     "slide_type": "slide"
    }
   },
   "source": [
    "## Open Data"
   ]
  },
  {
   "attachments": {},
   "cell_type": "markdown",
   "metadata": {
    "slideshow": {
     "slide_type": "slide"
    }
   },
   "source": [
    "Los datos se han obtenido de fuentes públicas abiertas"
   ]
  },
  {
   "cell_type": "markdown",
   "metadata": {},
   "source": [
    "## <font color='green'>Data Save</font>"
   ]
  },
  {
   "attachments": {},
   "cell_type": "markdown",
   "metadata": {},
   "source": [
    "No procede porque el conjunto de datos consolidado no se ha podido generar por problemas de tamaño. Se usarán los archivos por separado siempre"
   ]
  },
  {
   "cell_type": "markdown",
   "metadata": {},
   "source": [
    "## <font color=' #2874a6 '>Main Conclusions</font>"
   ]
  },
  {
   "cell_type": "markdown",
   "metadata": {
    "slideshow": {
     "slide_type": "slide"
    }
   },
   "source": [
    "<font color='steelblue'>List and describe the general conclusions of the analysis carried out​.</font>"
   ]
  },
  {
   "attachments": {},
   "cell_type": "markdown",
   "metadata": {},
   "source": [
    "### Configuration Management\n",
    "\n",
    "This notebook has been tested with the following versions of R and packages. It cannot be assured that later versions work in the same way:\n",
    "* R 4.2.2\n",
    "* tcltk 4.2.3\n",
    "* readr 2.1.3\n",
    "* dplyr 1.1.0"
   ]
  },
  {
   "attachments": {},
   "cell_type": "markdown",
   "metadata": {},
   "source": [
    "#### Observaciones generales sobre los datos\n",
    "\n",
    "* El tamaño es demasiado grande para consolidar en un único archivo.\n",
    "* Se usarán siempre los ficheros por separado"
   ]
  },
  {
   "attachments": {},
   "cell_type": "markdown",
   "metadata": {},
   "source": [
    "### Consideraciones para despliegue en piloto\n",
    "\n",
    "* No aplica"
   ]
  },
  {
   "attachments": {},
   "cell_type": "markdown",
   "metadata": {},
   "source": [
    "### Consideraciones para despliegue en producción\n",
    "\n",
    "* No aplica"
   ]
  },
  {
   "cell_type": "markdown",
   "metadata": {},
   "source": [
    "## <font color=' #2874a6 '>Main Actions</font>"
   ]
  },
  {
   "cell_type": "markdown",
   "metadata": {},
   "source": [
    "#### <font color=' #2874a6 '>Acciones done</font>"
   ]
  },
  {
   "cell_type": "markdown",
   "metadata": {
    "slideshow": {
     "slide_type": "slide"
    }
   },
   "source": [
    "<font color='steelblue'>Indicate the actions that have been carried out in this process</font>"
   ]
  },
  {
   "attachments": {},
   "cell_type": "markdown",
   "metadata": {},
   "source": [
    "- Se ha intentado consolidar los datos en un único archivo"
   ]
  },
  {
   "cell_type": "markdown",
   "metadata": {},
   "source": [
    "#### <font color=' #2874a6 '>Acctions to perform</font>"
   ]
  },
  {
   "cell_type": "markdown",
   "metadata": {
    "slideshow": {
     "slide_type": "slide"
    }
   },
   "source": [
    "<font color='steelblue'>Indicate the actions that must be carried out in subsequent processes</font>"
   ]
  },
  {
   "attachments": {},
   "cell_type": "markdown",
   "metadata": {},
   "source": [
    "- Se deben hacer las uniones como corresponda en la modelización y despliegue"
   ]
  },
  {
   "attachments": {},
   "cell_type": "markdown",
   "metadata": {},
   "source": [
    "## <font color='RED'>CODE TO DEPLOY (PILOT)</font>\n",
    "\n",
    "A continuación se incluirá el código que deba ser llevado a despliegue para producción, dado que se entiende efectúa operaciones necesarias sobre los datos en la ejecución del prototipo"
   ]
  },
  {
   "attachments": {},
   "cell_type": "markdown",
   "metadata": {},
   "source": [
    "<font color=' red '><b>Description</b></font>\n",
    "\n",
    "- No hay nada que desplegar en el piloto, ya que estos datos son estáticos o en todo caso cambian con muy poca frecuencia, altamente improbable durante el proyecto.\n"
   ]
  },
  {
   "attachments": {},
   "cell_type": "markdown",
   "metadata": {},
   "source": [
    "<font color=' red '><b>CODE</b></font>"
   ]
  },
  {
   "cell_type": "code",
   "execution_count": null,
   "metadata": {
    "vscode": {
     "languageId": "r"
    }
   },
   "outputs": [],
   "source": [
    "# incluir código"
   ]
  }
 ],
 "metadata": {
  "anaconda-cloud": {},
  "celltoolbar": "Slideshow",
  "hide_input": false,
  "kernelspec": {
   "display_name": "R",
   "language": "R",
   "name": "ir"
  },
  "language_info": {
   "codemirror_mode": "r",
   "file_extension": ".r",
   "mimetype": "text/x-r-source",
   "name": "R",
   "pygments_lexer": "r",
   "version": "4.2.3"
  },
  "latex_envs": {
   "LaTeX_envs_menu_present": true,
   "autoclose": false,
   "autocomplete": true,
   "bibliofile": "biblio.bib",
   "cite_by": "apalike",
   "current_citInitial": 1,
   "eqLabelWithNumbers": true,
   "eqNumInitial": 1,
   "hotkeys": {
    "equation": "Ctrl-E",
    "itemize": "Ctrl-I"
   },
   "labels_anchors": false,
   "latex_user_defs": false,
   "report_style_numbering": true,
   "user_envs_cfg": false
  },
  "toc": {
   "base_numbering": 1,
   "nav_menu": {
    "height": "11.6px",
    "width": "160px"
   },
   "number_sections": false,
   "sideBar": true,
   "skip_h1_title": true,
   "title_cell": "Table of Contents",
   "title_sidebar": "Contents",
   "toc_cell": true,
   "toc_position": {
    "height": "calc(100% - 180px)",
    "left": "10px",
    "top": "150px",
    "width": "209.2px"
   },
   "toc_section_display": true,
   "toc_window_display": true
  },
  "varInspector": {
   "cols": {
    "lenName": 16,
    "lenType": 16,
    "lenVar": 40
   },
   "kernels_config": {
    "python": {
     "delete_cmd_postfix": "",
     "delete_cmd_prefix": "del ",
     "library": "var_list.py",
     "varRefreshCmd": "print(var_dic_list())"
    },
    "r": {
     "delete_cmd_postfix": ") ",
     "delete_cmd_prefix": "rm(",
     "library": "var_list.r",
     "varRefreshCmd": "cat(var_dic_list()) "
    }
   },
   "types_to_exclude": [
    "module",
    "function",
    "builtin_function_or_method",
    "instance",
    "_Feature"
   ],
   "window_display": false
  }
 },
 "nbformat": 4,
 "nbformat_minor": 1
}
