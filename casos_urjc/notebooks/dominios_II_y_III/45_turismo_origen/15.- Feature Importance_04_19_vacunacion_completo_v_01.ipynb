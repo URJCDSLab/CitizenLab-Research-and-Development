{
 "cells": [
  {
   "cell_type": "markdown",
   "metadata": {
    "slideshow": {
     "slide_type": "slide"
    }
   },
   "source": [
    "<img src=\".\\images\\Logo.png\" width=150 align=\"left\" /> <img src=\".\\images\\Logo2.jpg\" width=450 align=\"right\" />"
   ]
  },
  {
   "cell_type": "markdown",
   "metadata": {
    "slideshow": {
     "slide_type": "slide"
    }
   },
   "source": [
    "\n",
    "# <center><font color= #1e8449 > <b>CU04_Optimización de vacunas</font></center>"
   ]
  },
  {
   "cell_type": "markdown",
   "metadata": {
    "slideshow": {
     "slide_type": "slide"
    }
   },
   "source": [
    "<font color='steelblue'><b>Citizenlab Data Science Methodology > III - Feature Engineering Domain </font>\n",
    "***\n",
    "> # <font color='steelblue'> <b>15.- Feature Importance</font>"
   ]
  },
  {
   "cell_type": "markdown",
   "metadata": {
    "slideshow": {
     "slide_type": "slide"
    }
   },
   "source": [
    "<font color='steelblue'>Feature Importance is the process that assigns scores to the input characteristics to a model, which indicate the relative importance of each characteristic, in order, for example, to be able to select the most important ones.</font>\n"
   ]
  },
  {
   "cell_type": "markdown",
   "metadata": {
    "slideshow": {
     "slide_type": "slide"
    }
   },
   "source": [
    "## <font color='steelblue'>Tasks</font>"
   ]
  },
  {
   "cell_type": "markdown",
   "metadata": {
    "slideshow": {
     "slide_type": "slide"
    }
   },
   "source": [
    "<font color='steelblue'><b>Perform Feature importance from model coefficients</b>\t\t\t\n",
    "- Linear Regression Feature importance\t\t\n",
    "- Logistic Regression Feature importance\t\t\n",
    "    \n",
    "<font color='steelblue'><b>Perform Feature importance from Decision Tree\t\t\t\n",
    "- CART Feature Importance\t\t\n",
    "- Random Forest Regression Feature Importance\t\t\n",
    "    \n",
    "<font color='steelblue'><b>Perform Feature importance from Permutation testing</b>\t\t\t\n",
    "    \n",
    "<font color='steelblue'><b>Evaluate a Logistic Regression model with feature selection</b>\t\t\t"
   ]
  },
  {
   "cell_type": "markdown",
   "metadata": {},
   "source": [
    "## Consideraciones casos CitizenLab programados en R\n",
    "\n",
    "* Algunas de las tareas de este proceso se han realizado en los notebooks del proceso 05 Data Collection porque eran necesarias para las tareas ETL. En esos casos, en este notebook se referencia al notebook del proceso 05 correspondiente\n",
    "* Otras tareas típicas de este proceso se realizan en los notebooks del dominio IV al ser más eficiente realizarlas en el propio pipeline de modelización.\n",
    "* Por tanto en los notebooks de este proceso de manera general se incluyen las comprobaciones necesarias, y comentarios si procede\n",
    "* Las tareas del proceso se van a aplicar solo a los archivos que forman parte del despliegue, ya que hay muchos archivos intermedios que no procede pasar por este proceso\n",
    "* El nombre de archivo del notebook hace referencia al nombre de archivo del proceso 05 al que se aplica este proceso, por eso pueden no ser correlativa la numeración\n",
    "* Las comprobaciones se van a realizar teniendo en cuenta que el lenguaje utilizado en el despliegue de este caso es R"
   ]
  },
  {
   "cell_type": "markdown",
   "metadata": {},
   "source": [
    "## <font color='green'>File</font>"
   ]
  },
  {
   "cell_type": "markdown",
   "metadata": {},
   "source": [
    "- <font color='steelblue'> <b>Input File: CU_04_08_20_vacunacion_gripe_train_and_test.csv</font>\n",
    "- <font color='steelblue'> <b>Output File: No aplica</font>"
   ]
  },
  {
   "cell_type": "markdown",
   "metadata": {},
   "source": [
    "### Encoding\n",
    "\n",
    "Con la siguiente expresión se evitan problemas con el encoding al ejecutar el notebook. Es posible que deba ser eliminada o adaptada a la máquina en la que se ejecute el código."
   ]
  },
  {
   "cell_type": "code",
   "execution_count": null,
   "metadata": {
    "vscode": {
     "languageId": "r"
    }
   },
   "outputs": [],
   "source": [
    "Sys.setlocale(category = \"LC_ALL\", locale = \"es_ES.UTF-8\")"
   ]
  },
  {
   "cell_type": "markdown",
   "metadata": {},
   "source": [
    "## <font color='green'>Settings</font>"
   ]
  },
  {
   "cell_type": "markdown",
   "metadata": {},
   "source": [
    "### Libraries to use"
   ]
  },
  {
   "cell_type": "code",
   "execution_count": 1,
   "metadata": {
    "vscode": {
     "languageId": "r"
    }
   },
   "outputs": [
    {
     "name": "stderr",
     "output_type": "stream",
     "text": [
      "\n",
      "Attaching package: ‘dplyr’\n",
      "\n",
      "\n",
      "The following objects are masked from ‘package:stats’:\n",
      "\n",
      "    filter, lag\n",
      "\n",
      "\n",
      "The following objects are masked from ‘package:base’:\n",
      "\n",
      "    intersect, setdiff, setequal, union\n",
      "\n",
      "\n",
      "\n",
      "Attaching package: ‘lubridate’\n",
      "\n",
      "\n",
      "The following objects are masked from ‘package:base’:\n",
      "\n",
      "    date, intersect, setdiff, union\n",
      "\n",
      "\n"
     ]
    }
   ],
   "source": [
    "library(readr)\n",
    "library(dplyr)\n",
    "library(tidyr)\n",
    "library(forcats)\n",
    "library(lubridate)\n"
   ]
  },
  {
   "cell_type": "markdown",
   "metadata": {},
   "source": [
    "### Paths"
   ]
  },
  {
   "cell_type": "code",
   "execution_count": 2,
   "metadata": {
    "vscode": {
     "languageId": "r"
    }
   },
   "outputs": [],
   "source": [
    "iPath <- \"Data/Input/\"\n",
    "oPath <- \"Data/Output/\""
   ]
  },
  {
   "cell_type": "markdown",
   "metadata": {},
   "source": [
    "## <font color='green'>Data Load</font>"
   ]
  },
  {
   "cell_type": "markdown",
   "metadata": {},
   "source": [
    "<font color='tomato'><b> OPCION A:</b> Seleccionar fichero en ventana para mayor comodidad</font> "
   ]
  },
  {
   "cell_type": "markdown",
   "metadata": {},
   "source": [
    "Data load using the {tcltk} package. Ucomment the line if using this option"
   ]
  },
  {
   "cell_type": "code",
   "execution_count": 3,
   "metadata": {
    "vscode": {
     "languageId": "r"
    }
   },
   "outputs": [],
   "source": [
    "# file_data <- tcltk::tk_choose.files(multi = FALSE)"
   ]
  },
  {
   "cell_type": "markdown",
   "metadata": {},
   "source": [
    "<font color='tomato'><b> OPCION B:</b> Especificar el nombre de archivo</font>\n",
    "\n"
   ]
  },
  {
   "cell_type": "code",
   "execution_count": 4,
   "metadata": {
    "vscode": {
     "languageId": "r"
    }
   },
   "outputs": [
    {
     "name": "stdout",
     "output_type": "stream",
     "text": [
      "Se leerán datos del archivo:  Data/Input/CU_04_08_20_vacunacion_gripe_train_and_test.csv"
     ]
    }
   ],
   "source": [
    "iFile <- \"CU_04_08_20_vacunacion_gripe_train_and_test.csv\"\n",
    "file_data <- paste0(iPath, iFile)\n",
    "\n",
    "if(file.exists(file_data)){\n",
    "    cat(\"Se leerán datos del archivo: \", file_data)\n",
    "} else{\n",
    "    warning(\"Cuidado: el archivo no existe.\")\n",
    "}\n"
   ]
  },
  {
   "cell_type": "markdown",
   "metadata": {},
   "source": [
    "#### Data file to dataframe\n",
    "\n",
    "Usar la función adecuada según el formato de entrada (xlsx, csv, json, ...)"
   ]
  },
  {
   "cell_type": "code",
   "execution_count": 5,
   "metadata": {
    "vscode": {
     "languageId": "r"
    }
   },
   "outputs": [
    {
     "name": "stderr",
     "output_type": "stream",
     "text": [
      "\u001b[1mRows: \u001b[22m\u001b[34m21736\u001b[39m \u001b[1mColumns: \u001b[22m\u001b[34m49\u001b[39m\n",
      "\u001b[36m──\u001b[39m \u001b[1mColumn specification\u001b[22m \u001b[36m────────────────────────────────────────────────────────────────────────────────────────────────────────────────\u001b[39m\n",
      "\u001b[1mDelimiter:\u001b[22m \",\"\n",
      "\u001b[31mchr\u001b[39m  (3): GEOCODIGO, DESBDT, nombre_zona\n",
      "\u001b[32mdbl\u001b[39m (45): ano, semana, n_vacunas, n_citas, tmed, prec, velmedia, presMax, be...\n",
      "\u001b[33mlgl\u001b[39m  (1): is_train\n",
      "\n",
      "\u001b[36mℹ\u001b[39m Use `spec()` to retrieve the full column specification for this data.\n",
      "\u001b[36mℹ\u001b[39m Specify the column types or set `show_col_types = FALSE` to quiet this message.\n"
     ]
    }
   ],
   "source": [
    "data <- read_csv(file_data)\n"
   ]
  },
  {
   "cell_type": "markdown",
   "metadata": {},
   "source": [
    "Estructura de  los datos:"
   ]
  },
  {
   "cell_type": "code",
   "execution_count": 6,
   "metadata": {
    "vscode": {
     "languageId": "r"
    }
   },
   "outputs": [
    {
     "name": "stdout",
     "output_type": "stream",
     "text": [
      "Rows: 21,736\n",
      "Columns: 49\n",
      "$ GEOCODIGO         \u001b[3m\u001b[90m<chr>\u001b[39m\u001b[23m \"259\", \"260\", \"041\", \"025\", \"046\", \"159\", \"065\", \"09…\n",
      "$ DESBDT            \u001b[3m\u001b[90m<chr>\u001b[39m\u001b[23m \"V Centenario\", \"Valdeacederas\", \"Canillejas\", \"Bara…\n",
      "$ ano               \u001b[3m\u001b[90m<dbl>\u001b[39m\u001b[23m 2022, 2022, 2022, 2022, 2022, 2022, 2022, 2021, 2023…\n",
      "$ semana            \u001b[3m\u001b[90m<dbl>\u001b[39m\u001b[23m 34, 8, 9, 49, 24, 3, 8, 47, 1, 2, 52, 39, 16, 50, 34…\n",
      "$ n_vacunas         \u001b[3m\u001b[90m<dbl>\u001b[39m\u001b[23m 0, 0, 0, 292, 0, 524, 0, 248, 204, 205, NA, 0, 0, 51…\n",
      "$ n_citas           \u001b[3m\u001b[90m<dbl>\u001b[39m\u001b[23m 0, 0, 0, 280, 0, 498, 0, 228, 198, 187, NA, 0, 0, 51…\n",
      "$ tmed              \u001b[3m\u001b[90m<dbl>\u001b[39m\u001b[23m 27.278748, 9.577289, 8.536554, 9.065363, 29.905728, …\n",
      "$ prec              \u001b[3m\u001b[90m<dbl>\u001b[39m\u001b[23m 0.169955881, 1.264910043, 3.122881160, 7.313886680, …\n",
      "$ velmedia          \u001b[3m\u001b[90m<dbl>\u001b[39m\u001b[23m 2.297067, 1.890425, 2.418071, 1.562328, 2.564749, 1.…\n",
      "$ presMax           \u001b[3m\u001b[90m<dbl>\u001b[39m\u001b[23m 940.0420, 944.1770, 949.7179, 941.8342, 940.5669, 95…\n",
      "$ benzene           \u001b[3m\u001b[90m<dbl>\u001b[39m\u001b[23m 0.1764413, 0.4591543, 0.4099159, 0.4224172, 0.195865…\n",
      "$ co                \u001b[3m\u001b[90m<dbl>\u001b[39m\u001b[23m 0.4987735, 0.3960647, 0.3951587, NA, 0.2891224, 0.50…\n",
      "$ no                \u001b[3m\u001b[90m<dbl>\u001b[39m\u001b[23m NA, 6.611337, 9.331224, 14.007722, 4.063517, 24.4756…\n",
      "$ no2               \u001b[3m\u001b[90m<dbl>\u001b[39m\u001b[23m 14.21113, 34.67671, 30.29999, 32.54832, 26.06913, 44…\n",
      "$ nox               \u001b[3m\u001b[90m<dbl>\u001b[39m\u001b[23m 18.00109, 48.94660, 45.22346, 56.75574, 30.35311, 74…\n",
      "$ o3                \u001b[3m\u001b[90m<dbl>\u001b[39m\u001b[23m 80.90659, 42.06663, 48.88088, 26.68276, 64.55205, 31…\n",
      "$ pm10              \u001b[3m\u001b[90m<dbl>\u001b[39m\u001b[23m 20.117087, 15.042152, 14.002432, 18.032354, 55.79346…\n",
      "$ pm2.5             \u001b[3m\u001b[90m<dbl>\u001b[39m\u001b[23m 10.628064, 5.539590, 7.124192, 6.793868, 19.520373, …\n",
      "$ so2               \u001b[3m\u001b[90m<dbl>\u001b[39m\u001b[23m 2.794934, 3.507164, 2.692125, 2.351139, 3.397640, 2.…\n",
      "$ campana           \u001b[3m\u001b[90m<dbl>\u001b[39m\u001b[23m NA, NA, NA, 2022, NA, 2021, NA, 2021, 2022, 2021, 20…\n",
      "$ scampana          \u001b[3m\u001b[90m<dbl>\u001b[39m\u001b[23m NA, NA, NA, 14, NA, 20, NA, 12, 18, 19, 17, 4, NA, 1…\n",
      "$ capacidad_zona    \u001b[3m\u001b[90m<dbl>\u001b[39m\u001b[23m 7957, 6537, 7167, 5633, 3864, 12583, 8544, 5077, 494…\n",
      "$ prop_riesgo       \u001b[3m\u001b[90m<dbl>\u001b[39m\u001b[23m 0.11393237, 0.15763986, 0.25500690, 0.14452370, 0.26…\n",
      "$ tasa_riesgo       \u001b[3m\u001b[90m<dbl>\u001b[39m\u001b[23m 0.013477754, 0.015731142, 0.009177382, 0.013099129, …\n",
      "$ tasa_mayores      \u001b[3m\u001b[90m<dbl>\u001b[39m\u001b[23m 0.023033610, 0.032817374, 0.028147027, 0.020829657, …\n",
      "$ poblacion_mayores \u001b[3m\u001b[90m<dbl>\u001b[39m\u001b[23m 0.10330662, 0.14362062, 0.23161874, 0.13058449, 0.24…\n",
      "$ nombre_zona       \u001b[3m\u001b[90m<chr>\u001b[39m\u001b[23m \"V Centenario\", \"Valdeacederas\", \"Canillejas\", \"Bara…\n",
      "$ nsec              \u001b[3m\u001b[90m<dbl>\u001b[39m\u001b[23m 17, 18, 22, 13, 14, 42, 32, 13, 17, 11, NA, 15, 15, …\n",
      "$ t3_1              \u001b[3m\u001b[90m<dbl>\u001b[39m\u001b[23m 36.73039, 41.41412, 45.44882, 39.78001, 46.13171, 46…\n",
      "$ t1_1              \u001b[3m\u001b[90m<dbl>\u001b[39m\u001b[23m 31778, 26202, 28658, 22492, 15450, 50478, 34148, 202…\n",
      "$ t2_1              \u001b[3m\u001b[90m<dbl>\u001b[39m\u001b[23m 0.5084658, 0.5329728, 0.5316594, 0.5189021, 0.551191…\n",
      "$ t2_2              \u001b[3m\u001b[90m<dbl>\u001b[39m\u001b[23m 0.4915342, 0.4670272, 0.4683406, 0.4810979, 0.448809…\n",
      "$ t4_1              \u001b[3m\u001b[90m<dbl>\u001b[39m\u001b[23m 0.22551283, 0.12790298, 0.12603707, 0.18104432, 0.11…\n",
      "$ t4_2              \u001b[3m\u001b[90m<dbl>\u001b[39m\u001b[23m 0.6711962, 0.7284970, 0.6423306, 0.6883785, 0.641173…\n",
      "$ t4_3              \u001b[3m\u001b[90m<dbl>\u001b[39m\u001b[23m 0.10330662, 0.14362062, 0.23161874, 0.13058449, 0.24…\n",
      "$ t5_1              \u001b[3m\u001b[90m<dbl>\u001b[39m\u001b[23m 0.1063332, 0.2295250, 0.1655070, 0.1266086, 0.165893…\n",
      "$ t6_1              \u001b[3m\u001b[90m<dbl>\u001b[39m\u001b[23m 0.1706875, 0.3477631, 0.2511757, 0.1998911, 0.261480…\n",
      "$ t7_1              \u001b[3m\u001b[90m<dbl>\u001b[39m\u001b[23m 0.05131106, 0.04606911, 0.04379644, 0.05585777, 0.06…\n",
      "$ t8_1              \u001b[3m\u001b[90m<dbl>\u001b[39m\u001b[23m 0.03892836, 0.03586418, 0.03207779, 0.04434976, 0.05…\n",
      "$ t9_1              \u001b[3m\u001b[90m<dbl>\u001b[39m\u001b[23m 0.5151383, 0.3863876, 0.3129631, 0.4611972, 0.701812…\n",
      "$ t10_1             \u001b[3m\u001b[90m<dbl>\u001b[39m\u001b[23m 0.09258503, 0.13151901, 0.13926119, 0.10460043, 0.06…\n",
      "$ t11_1             \u001b[3m\u001b[90m<dbl>\u001b[39m\u001b[23m 0.6406787, 0.5451465, 0.4600730, 0.5920292, 0.471769…\n",
      "$ t12_1             \u001b[3m\u001b[90m<dbl>\u001b[39m\u001b[23m 0.7028586, 0.6277335, 0.5346482, 0.6590530, 0.502531…\n",
      "$ area              \u001b[3m\u001b[90m<dbl>\u001b[39m\u001b[23m 2100118.9, 1164622.0, 1597474.5, 3816572.0, 870986.8…\n",
      "$ densidad_hab_km   \u001b[3m\u001b[90m<dbl>\u001b[39m\u001b[23m 15131.52443, 22498.28643, 17939.56640, 5893.24662, 1…\n",
      "$ tuits_gripe       \u001b[3m\u001b[90m<dbl>\u001b[39m\u001b[23m 60, 56, 72, 196, 46, 382, 56, 280, 24, 508, NA, 126,…\n",
      "$ interes_gripe     \u001b[3m\u001b[90m<dbl>\u001b[39m\u001b[23m 24, 15, 24, 77, 21, 42, 15, 64, 64, 69, NA, 42, 40, …\n",
      "$ Target            \u001b[3m\u001b[90m<dbl>\u001b[39m\u001b[23m 24, 15, 24, 77, 21, 42, 15, 64, 64, 69, NA, 42, 40, …\n",
      "$ is_train          \u001b[3m\u001b[90m<lgl>\u001b[39m\u001b[23m TRUE, TRUE, TRUE, TRUE, TRUE, TRUE, TRUE, TRUE, TRUE…\n"
     ]
    }
   ],
   "source": [
    "data |> glimpse()"
   ]
  },
  {
   "cell_type": "markdown",
   "metadata": {},
   "source": [
    "Muestra de los primeros datos:"
   ]
  },
  {
   "cell_type": "code",
   "execution_count": 7,
   "metadata": {
    "vscode": {
     "languageId": "r"
    }
   },
   "outputs": [
    {
     "data": {
      "text/html": [
       "<table class=\"dataframe\">\n",
       "<caption>A spec_tbl_df: 5 × 49</caption>\n",
       "<thead>\n",
       "\t<tr><th scope=col>GEOCODIGO</th><th scope=col>DESBDT</th><th scope=col>ano</th><th scope=col>semana</th><th scope=col>n_vacunas</th><th scope=col>n_citas</th><th scope=col>tmed</th><th scope=col>prec</th><th scope=col>velmedia</th><th scope=col>presMax</th><th scope=col>⋯</th><th scope=col>t9_1</th><th scope=col>t10_1</th><th scope=col>t11_1</th><th scope=col>t12_1</th><th scope=col>area</th><th scope=col>densidad_hab_km</th><th scope=col>tuits_gripe</th><th scope=col>interes_gripe</th><th scope=col>Target</th><th scope=col>is_train</th></tr>\n",
       "\t<tr><th scope=col>&lt;chr&gt;</th><th scope=col>&lt;chr&gt;</th><th scope=col>&lt;dbl&gt;</th><th scope=col>&lt;dbl&gt;</th><th scope=col>&lt;dbl&gt;</th><th scope=col>&lt;dbl&gt;</th><th scope=col>&lt;dbl&gt;</th><th scope=col>&lt;dbl&gt;</th><th scope=col>&lt;dbl&gt;</th><th scope=col>&lt;dbl&gt;</th><th scope=col>⋯</th><th scope=col>&lt;dbl&gt;</th><th scope=col>&lt;dbl&gt;</th><th scope=col>&lt;dbl&gt;</th><th scope=col>&lt;dbl&gt;</th><th scope=col>&lt;dbl&gt;</th><th scope=col>&lt;dbl&gt;</th><th scope=col>&lt;dbl&gt;</th><th scope=col>&lt;dbl&gt;</th><th scope=col>&lt;dbl&gt;</th><th scope=col>&lt;lgl&gt;</th></tr>\n",
       "</thead>\n",
       "<tbody>\n",
       "\t<tr><td>259</td><td>V Centenario </td><td>2022</td><td>34</td><td>  0</td><td>  0</td><td>27.278748</td><td>0.16995588</td><td>2.297067</td><td>940.0420</td><td>⋯</td><td>0.5151383</td><td>0.09258503</td><td>0.6406787</td><td>0.7028586</td><td>2100118.9</td><td>15131.524</td><td> 60</td><td>24</td><td>24</td><td>TRUE</td></tr>\n",
       "\t<tr><td>260</td><td>Valdeacederas</td><td>2022</td><td> 8</td><td>  0</td><td>  0</td><td> 9.577289</td><td>1.26491004</td><td>1.890425</td><td>944.1770</td><td>⋯</td><td>0.3863876</td><td>0.13151901</td><td>0.5451465</td><td>0.6277335</td><td>1164622.0</td><td>22498.286</td><td> 56</td><td>15</td><td>15</td><td>TRUE</td></tr>\n",
       "\t<tr><td>041</td><td>Canillejas   </td><td>2022</td><td> 9</td><td>  0</td><td>  0</td><td> 8.536554</td><td>3.12288116</td><td>2.418071</td><td>949.7179</td><td>⋯</td><td>0.3129631</td><td>0.13926119</td><td>0.4600730</td><td>0.5346482</td><td>1597474.5</td><td>17939.566</td><td> 72</td><td>24</td><td>24</td><td>TRUE</td></tr>\n",
       "\t<tr><td>025</td><td>Barajas      </td><td>2022</td><td>49</td><td>292</td><td>280</td><td> 9.065363</td><td>7.31388668</td><td>1.562328</td><td>941.8342</td><td>⋯</td><td>0.4611972</td><td>0.10460043</td><td>0.5920292</td><td>0.6590530</td><td>3816572.0</td><td> 5893.247</td><td>196</td><td>77</td><td>77</td><td>TRUE</td></tr>\n",
       "\t<tr><td>046</td><td>Castelló     </td><td>2022</td><td>24</td><td>  0</td><td>  0</td><td>29.905728</td><td>0.01366852</td><td>2.564749</td><td>940.5669</td><td>⋯</td><td>0.7018126</td><td>0.06114283</td><td>0.4717699</td><td>0.5025317</td><td> 870986.8</td><td>17738.501</td><td> 46</td><td>21</td><td>21</td><td>TRUE</td></tr>\n",
       "</tbody>\n",
       "</table>\n"
      ],
      "text/latex": [
       "A spec\\_tbl\\_df: 5 × 49\n",
       "\\begin{tabular}{lllllllllllllllllllll}\n",
       " GEOCODIGO & DESBDT & ano & semana & n\\_vacunas & n\\_citas & tmed & prec & velmedia & presMax & ⋯ & t9\\_1 & t10\\_1 & t11\\_1 & t12\\_1 & area & densidad\\_hab\\_km & tuits\\_gripe & interes\\_gripe & Target & is\\_train\\\\\n",
       " <chr> & <chr> & <dbl> & <dbl> & <dbl> & <dbl> & <dbl> & <dbl> & <dbl> & <dbl> & ⋯ & <dbl> & <dbl> & <dbl> & <dbl> & <dbl> & <dbl> & <dbl> & <dbl> & <dbl> & <lgl>\\\\\n",
       "\\hline\n",
       "\t 259 & V Centenario  & 2022 & 34 &   0 &   0 & 27.278748 & 0.16995588 & 2.297067 & 940.0420 & ⋯ & 0.5151383 & 0.09258503 & 0.6406787 & 0.7028586 & 2100118.9 & 15131.524 &  60 & 24 & 24 & TRUE\\\\\n",
       "\t 260 & Valdeacederas & 2022 &  8 &   0 &   0 &  9.577289 & 1.26491004 & 1.890425 & 944.1770 & ⋯ & 0.3863876 & 0.13151901 & 0.5451465 & 0.6277335 & 1164622.0 & 22498.286 &  56 & 15 & 15 & TRUE\\\\\n",
       "\t 041 & Canillejas    & 2022 &  9 &   0 &   0 &  8.536554 & 3.12288116 & 2.418071 & 949.7179 & ⋯ & 0.3129631 & 0.13926119 & 0.4600730 & 0.5346482 & 1597474.5 & 17939.566 &  72 & 24 & 24 & TRUE\\\\\n",
       "\t 025 & Barajas       & 2022 & 49 & 292 & 280 &  9.065363 & 7.31388668 & 1.562328 & 941.8342 & ⋯ & 0.4611972 & 0.10460043 & 0.5920292 & 0.6590530 & 3816572.0 &  5893.247 & 196 & 77 & 77 & TRUE\\\\\n",
       "\t 046 & Castelló      & 2022 & 24 &   0 &   0 & 29.905728 & 0.01366852 & 2.564749 & 940.5669 & ⋯ & 0.7018126 & 0.06114283 & 0.4717699 & 0.5025317 &  870986.8 & 17738.501 &  46 & 21 & 21 & TRUE\\\\\n",
       "\\end{tabular}\n"
      ],
      "text/markdown": [
       "\n",
       "A spec_tbl_df: 5 × 49\n",
       "\n",
       "| GEOCODIGO &lt;chr&gt; | DESBDT &lt;chr&gt; | ano &lt;dbl&gt; | semana &lt;dbl&gt; | n_vacunas &lt;dbl&gt; | n_citas &lt;dbl&gt; | tmed &lt;dbl&gt; | prec &lt;dbl&gt; | velmedia &lt;dbl&gt; | presMax &lt;dbl&gt; | ⋯ ⋯ | t9_1 &lt;dbl&gt; | t10_1 &lt;dbl&gt; | t11_1 &lt;dbl&gt; | t12_1 &lt;dbl&gt; | area &lt;dbl&gt; | densidad_hab_km &lt;dbl&gt; | tuits_gripe &lt;dbl&gt; | interes_gripe &lt;dbl&gt; | Target &lt;dbl&gt; | is_train &lt;lgl&gt; |\n",
       "|---|---|---|---|---|---|---|---|---|---|---|---|---|---|---|---|---|---|---|---|---|\n",
       "| 259 | V Centenario  | 2022 | 34 |   0 |   0 | 27.278748 | 0.16995588 | 2.297067 | 940.0420 | ⋯ | 0.5151383 | 0.09258503 | 0.6406787 | 0.7028586 | 2100118.9 | 15131.524 |  60 | 24 | 24 | TRUE |\n",
       "| 260 | Valdeacederas | 2022 |  8 |   0 |   0 |  9.577289 | 1.26491004 | 1.890425 | 944.1770 | ⋯ | 0.3863876 | 0.13151901 | 0.5451465 | 0.6277335 | 1164622.0 | 22498.286 |  56 | 15 | 15 | TRUE |\n",
       "| 041 | Canillejas    | 2022 |  9 |   0 |   0 |  8.536554 | 3.12288116 | 2.418071 | 949.7179 | ⋯ | 0.3129631 | 0.13926119 | 0.4600730 | 0.5346482 | 1597474.5 | 17939.566 |  72 | 24 | 24 | TRUE |\n",
       "| 025 | Barajas       | 2022 | 49 | 292 | 280 |  9.065363 | 7.31388668 | 1.562328 | 941.8342 | ⋯ | 0.4611972 | 0.10460043 | 0.5920292 | 0.6590530 | 3816572.0 |  5893.247 | 196 | 77 | 77 | TRUE |\n",
       "| 046 | Castelló      | 2022 | 24 |   0 |   0 | 29.905728 | 0.01366852 | 2.564749 | 940.5669 | ⋯ | 0.7018126 | 0.06114283 | 0.4717699 | 0.5025317 |  870986.8 | 17738.501 |  46 | 21 | 21 | TRUE |\n",
       "\n"
      ],
      "text/plain": [
       "  GEOCODIGO DESBDT        ano  semana n_vacunas n_citas tmed      prec      \n",
       "1 259       V Centenario  2022 34       0         0     27.278748 0.16995588\n",
       "2 260       Valdeacederas 2022  8       0         0      9.577289 1.26491004\n",
       "3 041       Canillejas    2022  9       0         0      8.536554 3.12288116\n",
       "4 025       Barajas       2022 49     292       280      9.065363 7.31388668\n",
       "5 046       Castelló      2022 24       0         0     29.905728 0.01366852\n",
       "  velmedia presMax  ⋯ t9_1      t10_1      t11_1     t12_1     area     \n",
       "1 2.297067 940.0420 ⋯ 0.5151383 0.09258503 0.6406787 0.7028586 2100118.9\n",
       "2 1.890425 944.1770 ⋯ 0.3863876 0.13151901 0.5451465 0.6277335 1164622.0\n",
       "3 2.418071 949.7179 ⋯ 0.3129631 0.13926119 0.4600730 0.5346482 1597474.5\n",
       "4 1.562328 941.8342 ⋯ 0.4611972 0.10460043 0.5920292 0.6590530 3816572.0\n",
       "5 2.564749 940.5669 ⋯ 0.7018126 0.06114283 0.4717699 0.5025317  870986.8\n",
       "  densidad_hab_km tuits_gripe interes_gripe Target is_train\n",
       "1 15131.524        60         24            24     TRUE    \n",
       "2 22498.286        56         15            15     TRUE    \n",
       "3 17939.566        72         24            24     TRUE    \n",
       "4  5893.247       196         77            77     TRUE    \n",
       "5 17738.501        46         21            21     TRUE    "
      ]
     },
     "metadata": {},
     "output_type": "display_data"
    }
   ],
   "source": [
    "data |> slice_head(n = 5)"
   ]
  },
  {
   "cell_type": "markdown",
   "metadata": {
    "slideshow": {
     "slide_type": "slide"
    }
   },
   "source": [
    "## Feature importance from model coefficients"
   ]
  },
  {
   "cell_type": "code",
   "execution_count": 8,
   "metadata": {},
   "outputs": [],
   "source": [
    "data <- data |>\n",
    "    na.omit()"
   ]
  },
  {
   "cell_type": "markdown",
   "metadata": {
    "slideshow": {
     "slide_type": "slide"
    }
   },
   "source": [
    "### Linear Regression Feature importance"
   ]
  },
  {
   "cell_type": "code",
   "execution_count": 9,
   "metadata": {
    "ExecuteTime": {
     "end_time": "2021-01-05T18:57:59.034208Z",
     "start_time": "2021-01-05T18:57:49.219178Z"
    },
    "vscode": {
     "languageId": "r"
    }
   },
   "outputs": [
    {
     "name": "stderr",
     "output_type": "stream",
     "text": [
      "Loading required package: caret\n",
      "\n",
      "Loading required package: ggplot2\n",
      "\n",
      "Loading required package: lattice\n",
      "\n",
      "Warning message in predict.lm(modelFit, newdata):\n",
      "“prediction from a rank-deficient fit may be misleading”\n",
      "Warning message in predict.lm(modelFit, newdata):\n",
      "“prediction from a rank-deficient fit may be misleading”\n",
      "Warning message in predict.lm(modelFit, newdata):\n",
      "“prediction from a rank-deficient fit may be misleading”\n",
      "Warning message in predict.lm(modelFit, newdata):\n",
      "“prediction from a rank-deficient fit may be misleading”\n",
      "Warning message in predict.lm(modelFit, newdata):\n",
      "“prediction from a rank-deficient fit may be misleading”\n",
      "Warning message in summary.lm(linear_model$finalModel):\n",
      "“essentially perfect fit: summary may be unreliable”\n"
     ]
    },
    {
     "name": "stdout",
     "output_type": "stream",
     "text": [
      "                    Feature   Coefficient AbsCoefficient\n",
      "interes_gripe interes_gripe  1.000000e+00   1.000000e+00\n",
      "(Intercept)     (Intercept) -4.412119e-11   4.412119e-11\n",
      "campana             campana  2.933503e-13   2.933503e-13\n",
      "ano                     ano -2.711501e-13   2.711501e-13\n",
      "GEOCODIGO033   GEOCODIGO033  6.115202e-14   6.115202e-14\n",
      "GEOCODIGO256   GEOCODIGO256  6.094220e-14   6.094220e-14\n",
      "GEOCODIGO279   GEOCODIGO279  5.639716e-14   5.639716e-14\n",
      "GEOCODIGO201   GEOCODIGO201  5.551830e-14   5.551830e-14\n",
      "GEOCODIGO036   GEOCODIGO036  5.539307e-14   5.539307e-14\n",
      "GEOCODIGO228   GEOCODIGO228 -5.041923e-14   5.041923e-14\n",
      "GEOCODIGO085   GEOCODIGO085 -4.936885e-14   4.936885e-14\n",
      "GEOCODIGO275   GEOCODIGO275  4.741706e-14   4.741706e-14\n",
      "GEOCODIGO241   GEOCODIGO241  4.732671e-14   4.732671e-14\n",
      "GEOCODIGO049   GEOCODIGO049 -4.530675e-14   4.530675e-14\n",
      "GEOCODIGO097   GEOCODIGO097 -4.495278e-14   4.495278e-14\n",
      "GEOCODIGO184   GEOCODIGO184  4.483504e-14   4.483504e-14\n",
      "GEOCODIGO118   GEOCODIGO118  4.353739e-14   4.353739e-14\n",
      "GEOCODIGO121   GEOCODIGO121  4.323652e-14   4.323652e-14\n",
      "GEOCODIGO056   GEOCODIGO056 -3.994818e-14   3.994818e-14\n",
      "GEOCODIGO055   GEOCODIGO055 -3.934225e-14   3.934225e-14\n",
      "GEOCODIGO038   GEOCODIGO038  3.822105e-14   3.822105e-14\n",
      "GEOCODIGO030   GEOCODIGO030 -3.634783e-14   3.634783e-14\n",
      "GEOCODIGO108   GEOCODIGO108 -3.589486e-14   3.589486e-14\n",
      "GEOCODIGO059   GEOCODIGO059  3.552827e-14   3.552827e-14\n",
      "GEOCODIGO180   GEOCODIGO180  3.552245e-14   3.552245e-14\n",
      "GEOCODIGO105   GEOCODIGO105 -3.504909e-14   3.504909e-14\n",
      "GEOCODIGO182   GEOCODIGO182  3.498939e-14   3.498939e-14\n",
      "GEOCODIGO013   GEOCODIGO013 -3.438680e-14   3.438680e-14\n",
      "GEOCODIGO138   GEOCODIGO138  3.384073e-14   3.384073e-14\n",
      "GEOCODIGO054   GEOCODIGO054 -3.218474e-14   3.218474e-14\n",
      "GEOCODIGO080   GEOCODIGO080  3.209474e-14   3.209474e-14\n",
      "GEOCODIGO230   GEOCODIGO230  3.081440e-14   3.081440e-14\n",
      "GEOCODIGO215   GEOCODIGO215 -3.038346e-14   3.038346e-14\n",
      "GEOCODIGO282   GEOCODIGO282  3.024473e-14   3.024473e-14\n",
      "GEOCODIGO155   GEOCODIGO155 -2.983943e-14   2.983943e-14\n",
      "GEOCODIGO250   GEOCODIGO250  2.953767e-14   2.953767e-14\n",
      "GEOCODIGO176   GEOCODIGO176  2.951762e-14   2.951762e-14\n",
      "GEOCODIGO257   GEOCODIGO257 -2.906245e-14   2.906245e-14\n",
      "GEOCODIGO168   GEOCODIGO168 -2.905828e-14   2.905828e-14\n",
      "GEOCODIGO159   GEOCODIGO159 -2.826553e-14   2.826553e-14\n",
      "GEOCODIGO156   GEOCODIGO156  2.738223e-14   2.738223e-14\n",
      "GEOCODIGO095   GEOCODIGO095  2.694826e-14   2.694826e-14\n",
      "GEOCODIGO177   GEOCODIGO177 -2.656150e-14   2.656150e-14\n",
      "GEOCODIGO115   GEOCODIGO115  2.647622e-14   2.647622e-14\n",
      "GEOCODIGO120   GEOCODIGO120  2.637973e-14   2.637973e-14\n",
      "GEOCODIGO064   GEOCODIGO064  2.626559e-14   2.626559e-14\n",
      "GEOCODIGO251   GEOCODIGO251 -2.616292e-14   2.616292e-14\n",
      "GEOCODIGO211   GEOCODIGO211  2.600648e-14   2.600648e-14\n",
      "GEOCODIGO196   GEOCODIGO196  2.541676e-14   2.541676e-14\n",
      "GEOCODIGO283   GEOCODIGO283  2.516373e-14   2.516373e-14\n",
      "GEOCODIGO045   GEOCODIGO045  2.457623e-14   2.457623e-14\n",
      "GEOCODIGO174   GEOCODIGO174  2.385072e-14   2.385072e-14\n",
      "GEOCODIGO140   GEOCODIGO140 -2.361619e-14   2.361619e-14\n",
      "GEOCODIGO190   GEOCODIGO190  2.334264e-14   2.334264e-14\n",
      "GEOCODIGO217   GEOCODIGO217 -2.317229e-14   2.317229e-14\n",
      "GEOCODIGO017   GEOCODIGO017  2.292853e-14   2.292853e-14\n",
      "GEOCODIGO046   GEOCODIGO046  2.284804e-14   2.284804e-14\n",
      "GEOCODIGO181   GEOCODIGO181 -2.277713e-14   2.277713e-14\n",
      "GEOCODIGO028   GEOCODIGO028  2.236327e-14   2.236327e-14\n",
      "GEOCODIGO243   GEOCODIGO243 -2.200368e-14   2.200368e-14\n",
      "GEOCODIGO179   GEOCODIGO179 -2.200012e-14   2.200012e-14\n",
      "GEOCODIGO161   GEOCODIGO161  2.195473e-14   2.195473e-14\n",
      "GEOCODIGO144   GEOCODIGO144  2.180516e-14   2.180516e-14\n",
      "GEOCODIGO048   GEOCODIGO048  2.125090e-14   2.125090e-14\n",
      "GEOCODIGO222   GEOCODIGO222  2.094436e-14   2.094436e-14\n",
      "GEOCODIGO089   GEOCODIGO089  2.089226e-14   2.089226e-14\n",
      "GEOCODIGO219   GEOCODIGO219  2.068343e-14   2.068343e-14\n",
      "GEOCODIGO258   GEOCODIGO258  2.066934e-14   2.066934e-14\n",
      "GEOCODIGO267   GEOCODIGO267  2.040372e-14   2.040372e-14\n",
      "GEOCODIGO160   GEOCODIGO160  2.025745e-14   2.025745e-14\n",
      "GEOCODIGO096   GEOCODIGO096  2.018002e-14   2.018002e-14\n",
      "GEOCODIGO212   GEOCODIGO212 -2.011654e-14   2.011654e-14\n",
      "GEOCODIGO132   GEOCODIGO132 -1.988772e-14   1.988772e-14\n",
      "GEOCODIGO101   GEOCODIGO101  1.965666e-14   1.965666e-14\n",
      "GEOCODIGO066   GEOCODIGO066  1.959239e-14   1.959239e-14\n",
      "GEOCODIGO007   GEOCODIGO007  1.958985e-14   1.958985e-14\n",
      "GEOCODIGO139   GEOCODIGO139 -1.944571e-14   1.944571e-14\n",
      "GEOCODIGO135   GEOCODIGO135 -1.916330e-14   1.916330e-14\n",
      "GEOCODIGO218   GEOCODIGO218  1.896370e-14   1.896370e-14\n",
      "GEOCODIGO238   GEOCODIGO238  1.874554e-14   1.874554e-14\n",
      "GEOCODIGO124   GEOCODIGO124  1.861895e-14   1.861895e-14\n",
      "GEOCODIGO002   GEOCODIGO002  1.853664e-14   1.853664e-14\n",
      "GEOCODIGO122   GEOCODIGO122  1.851806e-14   1.851806e-14\n",
      "GEOCODIGO110   GEOCODIGO110  1.849172e-14   1.849172e-14\n",
      "GEOCODIGO216   GEOCODIGO216  1.815378e-14   1.815378e-14\n",
      "GEOCODIGO154   GEOCODIGO154 -1.814361e-14   1.814361e-14\n",
      "GEOCODIGO166   GEOCODIGO166  1.796963e-14   1.796963e-14\n",
      "GEOCODIGO051   GEOCODIGO051  1.755906e-14   1.755906e-14\n",
      "GEOCODIGO070   GEOCODIGO070 -1.738501e-14   1.738501e-14\n",
      "GEOCODIGO015   GEOCODIGO015  1.724818e-14   1.724818e-14\n",
      "GEOCODIGO242   GEOCODIGO242  1.722469e-14   1.722469e-14\n",
      "GEOCODIGO014   GEOCODIGO014 -1.715465e-14   1.715465e-14\n",
      "GEOCODIGO034   GEOCODIGO034  1.704445e-14   1.704445e-14\n",
      "GEOCODIGO072   GEOCODIGO072  1.699151e-14   1.699151e-14\n",
      "GEOCODIGO247   GEOCODIGO247  1.693972e-14   1.693972e-14\n",
      "GEOCODIGO037   GEOCODIGO037  1.679426e-14   1.679426e-14\n",
      "GEOCODIGO126   GEOCODIGO126 -1.661739e-14   1.661739e-14\n",
      "GEOCODIGO094   GEOCODIGO094  1.646378e-14   1.646378e-14\n",
      "GEOCODIGO157   GEOCODIGO157 -1.638246e-14   1.638246e-14\n",
      "GEOCODIGO252   GEOCODIGO252 -1.590439e-14   1.590439e-14\n",
      "GEOCODIGO188   GEOCODIGO188  1.585290e-14   1.585290e-14\n",
      "GEOCODIGO075   GEOCODIGO075  1.574201e-14   1.574201e-14\n",
      "GEOCODIGO004   GEOCODIGO004  1.558974e-14   1.558974e-14\n",
      "GEOCODIGO206   GEOCODIGO206  1.558060e-14   1.558060e-14\n",
      "GEOCODIGO162   GEOCODIGO162  1.556950e-14   1.556950e-14\n",
      "GEOCODIGO114   GEOCODIGO114  1.534182e-14   1.534182e-14\n",
      "GEOCODIGO104   GEOCODIGO104  1.502235e-14   1.502235e-14\n",
      "GEOCODIGO023   GEOCODIGO023  1.476073e-14   1.476073e-14\n",
      "GEOCODIGO203   GEOCODIGO203  1.470438e-14   1.470438e-14\n",
      "GEOCODIGO021   GEOCODIGO021  1.441770e-14   1.441770e-14\n",
      "GEOCODIGO225   GEOCODIGO225  1.421428e-14   1.421428e-14\n",
      "GEOCODIGO187   GEOCODIGO187  1.420487e-14   1.420487e-14\n",
      "GEOCODIGO199   GEOCODIGO199  1.398843e-14   1.398843e-14\n",
      "GEOCODIGO185   GEOCODIGO185  1.397912e-14   1.397912e-14\n",
      "GEOCODIGO073   GEOCODIGO073 -1.373033e-14   1.373033e-14\n",
      "GEOCODIGO009   GEOCODIGO009  1.370698e-14   1.370698e-14\n",
      "GEOCODIGO248   GEOCODIGO248  1.370470e-14   1.370470e-14\n",
      "GEOCODIGO192   GEOCODIGO192  1.368791e-14   1.368791e-14\n",
      "GEOCODIGO129   GEOCODIGO129  1.367978e-14   1.367978e-14\n",
      "GEOCODIGO194   GEOCODIGO194 -1.348813e-14   1.348813e-14\n",
      "GEOCODIGO043   GEOCODIGO043  1.338216e-14   1.338216e-14\n",
      "GEOCODIGO172   GEOCODIGO172  1.322763e-14   1.322763e-14\n",
      "GEOCODIGO164   GEOCODIGO164  1.322676e-14   1.322676e-14\n",
      "GEOCODIGO082   GEOCODIGO082  1.321655e-14   1.321655e-14\n",
      "GEOCODIGO137   GEOCODIGO137  1.293705e-14   1.293705e-14\n",
      "GEOCODIGO204   GEOCODIGO204  1.284380e-14   1.284380e-14\n",
      "GEOCODIGO163   GEOCODIGO163  1.280443e-14   1.280443e-14\n",
      "GEOCODIGO200   GEOCODIGO200  1.270519e-14   1.270519e-14\n",
      "GEOCODIGO268   GEOCODIGO268  1.267619e-14   1.267619e-14\n",
      "GEOCODIGO060   GEOCODIGO060  1.259206e-14   1.259206e-14\n",
      "GEOCODIGO276   GEOCODIGO276  1.231351e-14   1.231351e-14\n",
      "GEOCODIGO240   GEOCODIGO240 -1.227139e-14   1.227139e-14\n",
      "GEOCODIGO074   GEOCODIGO074 -1.224353e-14   1.224353e-14\n",
      "GEOCODIGO175   GEOCODIGO175  1.223487e-14   1.223487e-14\n",
      "GEOCODIGO029   GEOCODIGO029  1.216554e-14   1.216554e-14\n",
      "GEOCODIGO109   GEOCODIGO109  1.211238e-14   1.211238e-14\n",
      "GEOCODIGO209   GEOCODIGO209  1.202868e-14   1.202868e-14\n",
      "GEOCODIGO141   GEOCODIGO141  1.197890e-14   1.197890e-14\n",
      "GEOCODIGO271   GEOCODIGO271  1.191575e-14   1.191575e-14\n",
      "GEOCODIGO285   GEOCODIGO285 -1.182411e-14   1.182411e-14\n",
      "so2                     so2 -1.166616e-14   1.166616e-14\n",
      "GEOCODIGO128   GEOCODIGO128 -1.165566e-14   1.165566e-14\n",
      "GEOCODIGO170   GEOCODIGO170  1.152202e-14   1.152202e-14\n",
      "GEOCODIGO053   GEOCODIGO053  1.131479e-14   1.131479e-14\n",
      "GEOCODIGO058   GEOCODIGO058  1.114406e-14   1.114406e-14\n",
      "GEOCODIGO260   GEOCODIGO260  1.096997e-14   1.096997e-14\n",
      "GEOCODIGO125   GEOCODIGO125  1.090624e-14   1.090624e-14\n",
      "GEOCODIGO117   GEOCODIGO117  1.064512e-14   1.064512e-14\n",
      "GEOCODIGO231   GEOCODIGO231  1.049574e-14   1.049574e-14\n",
      "GEOCODIGO178   GEOCODIGO178  1.044514e-14   1.044514e-14\n",
      "GEOCODIGO261   GEOCODIGO261  1.033291e-14   1.033291e-14\n",
      "GEOCODIGO266   GEOCODIGO266 -1.026916e-14   1.026916e-14\n",
      "GEOCODIGO112   GEOCODIGO112  1.014021e-14   1.014021e-14\n",
      "GEOCODIGO229   GEOCODIGO229  1.013749e-14   1.013749e-14\n",
      "GEOCODIGO236   GEOCODIGO236  1.010615e-14   1.010615e-14\n",
      "GEOCODIGO022   GEOCODIGO022 -1.008301e-14   1.008301e-14\n",
      "GEOCODIGO153   GEOCODIGO153 -1.008064e-14   1.008064e-14\n",
      "GEOCODIGO061   GEOCODIGO061  1.004014e-14   1.004014e-14\n",
      "GEOCODIGO151   GEOCODIGO151  9.974774e-15   9.974774e-15\n",
      "GEOCODIGO039   GEOCODIGO039  9.524276e-15   9.524276e-15\n",
      "GEOCODIGO193   GEOCODIGO193  9.272592e-15   9.272592e-15\n",
      "GEOCODIGO084   GEOCODIGO084  9.267628e-15   9.267628e-15\n",
      "GEOCODIGO173   GEOCODIGO173  9.242158e-15   9.242158e-15\n",
      "GEOCODIGO205   GEOCODIGO205 -9.209576e-15   9.209576e-15\n",
      "GEOCODIGO213   GEOCODIGO213  9.147095e-15   9.147095e-15\n",
      "GEOCODIGO010   GEOCODIGO010  8.974972e-15   8.974972e-15\n",
      "GEOCODIGO098   GEOCODIGO098  8.855665e-15   8.855665e-15\n",
      "GEOCODIGO202   GEOCODIGO202  8.842218e-15   8.842218e-15\n",
      "GEOCODIGO264   GEOCODIGO264 -8.738713e-15   8.738713e-15\n",
      "GEOCODIGO148   GEOCODIGO148  8.733031e-15   8.733031e-15\n",
      "GEOCODIGO068   GEOCODIGO068 -8.709746e-15   8.709746e-15\n",
      "GEOCODIGO134   GEOCODIGO134  8.703883e-15   8.703883e-15\n",
      "GEOCODIGO277   GEOCODIGO277 -8.537276e-15   8.537276e-15\n",
      "GEOCODIGO133   GEOCODIGO133  8.450886e-15   8.450886e-15\n",
      "GEOCODIGO255   GEOCODIGO255  8.408601e-15   8.408601e-15\n",
      "GEOCODIGO093   GEOCODIGO093 -8.306698e-15   8.306698e-15\n",
      "GEOCODIGO102   GEOCODIGO102  8.294903e-15   8.294903e-15\n",
      "GEOCODIGO197   GEOCODIGO197 -8.162224e-15   8.162224e-15\n",
      "GEOCODIGO239   GEOCODIGO239  8.132926e-15   8.132926e-15\n",
      "GEOCODIGO183   GEOCODIGO183 -8.069563e-15   8.069563e-15\n",
      "GEOCODIGO149   GEOCODIGO149  8.042529e-15   8.042529e-15\n",
      "GEOCODIGO091   GEOCODIGO091  7.974849e-15   7.974849e-15\n",
      "GEOCODIGO127   GEOCODIGO127  7.969956e-15   7.969956e-15\n",
      "GEOCODIGO065   GEOCODIGO065 -7.687629e-15   7.687629e-15\n",
      "GEOCODIGO263   GEOCODIGO263  7.687085e-15   7.687085e-15\n",
      "GEOCODIGO143   GEOCODIGO143 -7.679146e-15   7.679146e-15\n",
      "GEOCODIGO186   GEOCODIGO186  7.529804e-15   7.529804e-15\n",
      "velmedia           velmedia  7.468246e-15   7.468246e-15\n",
      "GEOCODIGO052   GEOCODIGO052  7.352651e-15   7.352651e-15\n",
      "GEOCODIGO142   GEOCODIGO142  7.103378e-15   7.103378e-15\n",
      "GEOCODIGO111   GEOCODIGO111  7.032409e-15   7.032409e-15\n",
      "GEOCODIGO130   GEOCODIGO130  7.019133e-15   7.019133e-15\n",
      "GEOCODIGO107   GEOCODIGO107 -6.863170e-15   6.863170e-15\n",
      "GEOCODIGO189   GEOCODIGO189  6.854650e-15   6.854650e-15\n",
      "GEOCODIGO273   GEOCODIGO273  6.722653e-15   6.722653e-15\n",
      "GEOCODIGO005   GEOCODIGO005 -6.649262e-15   6.649262e-15\n",
      "GEOCODIGO006   GEOCODIGO006  6.641116e-15   6.641116e-15\n",
      "GEOCODIGO237   GEOCODIGO237 -6.537978e-15   6.537978e-15\n",
      "GEOCODIGO092   GEOCODIGO092  6.421496e-15   6.421496e-15\n",
      "GEOCODIGO265   GEOCODIGO265 -6.361985e-15   6.361985e-15\n",
      "GEOCODIGO083   GEOCODIGO083  6.357894e-15   6.357894e-15\n",
      "GEOCODIGO026   GEOCODIGO026  6.325071e-15   6.325071e-15\n",
      "GEOCODIGO214   GEOCODIGO214  6.277091e-15   6.277091e-15\n",
      "GEOCODIGO220   GEOCODIGO220  6.097355e-15   6.097355e-15\n",
      "GEOCODIGO227   GEOCODIGO227 -6.075078e-15   6.075078e-15\n",
      "GEOCODIGO076   GEOCODIGO076  6.040635e-15   6.040635e-15\n",
      "GEOCODIGO146   GEOCODIGO146 -6.036466e-15   6.036466e-15\n",
      "GEOCODIGO041   GEOCODIGO041 -5.967446e-15   5.967446e-15\n",
      "GEOCODIGO234   GEOCODIGO234  5.957902e-15   5.957902e-15\n",
      "GEOCODIGO284   GEOCODIGO284  5.835275e-15   5.835275e-15\n",
      "GEOCODIGO119   GEOCODIGO119 -5.826391e-15   5.826391e-15\n",
      "GEOCODIGO062   GEOCODIGO062  5.793850e-15   5.793850e-15\n",
      "GEOCODIGO272   GEOCODIGO272  5.768298e-15   5.768298e-15\n",
      "GEOCODIGO077   GEOCODIGO077 -5.705706e-15   5.705706e-15\n",
      "GEOCODIGO208   GEOCODIGO208  5.653040e-15   5.653040e-15\n",
      "tmed                   tmed -5.645617e-15   5.645617e-15\n",
      "GEOCODIGO008   GEOCODIGO008  5.512154e-15   5.512154e-15\n",
      "GEOCODIGO087   GEOCODIGO087 -5.451613e-15   5.451613e-15\n",
      "GEOCODIGO027   GEOCODIGO027  5.430499e-15   5.430499e-15\n",
      "GEOCODIGO012   GEOCODIGO012  5.367830e-15   5.367830e-15\n",
      "GEOCODIGO207   GEOCODIGO207  5.347509e-15   5.347509e-15\n",
      "GEOCODIGO032   GEOCODIGO032  5.326909e-15   5.326909e-15\n",
      "GEOCODIGO152   GEOCODIGO152 -5.246170e-15   5.246170e-15\n",
      "semana               semana -5.181520e-15   5.181520e-15\n",
      "GEOCODIGO088   GEOCODIGO088 -5.173313e-15   5.173313e-15\n",
      "GEOCODIGO278   GEOCODIGO278  5.169027e-15   5.169027e-15\n",
      "GEOCODIGO167   GEOCODIGO167  5.046559e-15   5.046559e-15\n",
      "GEOCODIGO270   GEOCODIGO270  5.018251e-15   5.018251e-15\n",
      "GEOCODIGO221   GEOCODIGO221  4.927506e-15   4.927506e-15\n",
      "GEOCODIGO281   GEOCODIGO281 -4.825751e-15   4.825751e-15\n",
      "GEOCODIGO103   GEOCODIGO103  4.822206e-15   4.822206e-15\n",
      "GEOCODIGO249   GEOCODIGO249 -4.728840e-15   4.728840e-15\n",
      "GEOCODIGO100   GEOCODIGO100  4.709529e-15   4.709529e-15\n",
      "GEOCODIGO078   GEOCODIGO078  4.577270e-15   4.577270e-15\n",
      "GEOCODIGO044   GEOCODIGO044  4.441032e-15   4.441032e-15\n",
      "GEOCODIGO246   GEOCODIGO246  4.286484e-15   4.286484e-15\n",
      "GEOCODIGO280   GEOCODIGO280  4.184614e-15   4.184614e-15\n",
      "prec                   prec  3.865762e-15   3.865762e-15\n",
      "pm10                   pm10  3.848193e-15   3.848193e-15\n",
      "GEOCODIGO198   GEOCODIGO198 -3.678668e-15   3.678668e-15\n",
      "GEOCODIGO223   GEOCODIGO223  3.609401e-15   3.609401e-15\n",
      "GEOCODIGO147   GEOCODIGO147 -3.601896e-15   3.601896e-15\n",
      "benzene             benzene -3.495366e-15   3.495366e-15\n",
      "GEOCODIGO020   GEOCODIGO020  3.419734e-15   3.419734e-15\n",
      "GEOCODIGO210   GEOCODIGO210  3.418016e-15   3.418016e-15\n",
      "GEOCODIGO090   GEOCODIGO090  3.413952e-15   3.413952e-15\n",
      "GEOCODIGO063   GEOCODIGO063  3.330066e-15   3.330066e-15\n",
      "GEOCODIGO099   GEOCODIGO099  3.269780e-15   3.269780e-15\n",
      "GEOCODIGO269   GEOCODIGO269 -3.027114e-15   3.027114e-15\n",
      "GEOCODIGO233   GEOCODIGO233  2.980871e-15   2.980871e-15\n",
      "GEOCODIGO131   GEOCODIGO131 -2.957958e-15   2.957958e-15\n",
      "GEOCODIGO274   GEOCODIGO274 -2.877303e-15   2.877303e-15\n",
      "GEOCODIGO081   GEOCODIGO081  2.625062e-15   2.625062e-15\n",
      "GEOCODIGO019   GEOCODIGO019 -2.600442e-15   2.600442e-15\n",
      "GEOCODIGO067   GEOCODIGO067 -2.473551e-15   2.473551e-15\n",
      "GEOCODIGO003   GEOCODIGO003  2.463516e-15   2.463516e-15\n",
      "GEOCODIGO145   GEOCODIGO145 -2.426997e-15   2.426997e-15\n",
      "GEOCODIGO235   GEOCODIGO235  2.402835e-15   2.402835e-15\n",
      "GEOCODIGO158   GEOCODIGO158  2.252205e-15   2.252205e-15\n",
      "GEOCODIGO086   GEOCODIGO086  2.054451e-15   2.054451e-15\n",
      "GEOCODIGO050   GEOCODIGO050  2.053475e-15   2.053475e-15\n",
      "GEOCODIGO286   GEOCODIGO286 -1.908625e-15   1.908625e-15\n",
      "o3                       o3 -1.844939e-15   1.844939e-15\n",
      "GEOCODIGO245   GEOCODIGO245  1.791983e-15   1.791983e-15\n",
      "GEOCODIGO106   GEOCODIGO106 -1.535206e-15   1.535206e-15\n",
      "GEOCODIGO195   GEOCODIGO195 -1.469323e-15   1.469323e-15\n",
      "GEOCODIGO025   GEOCODIGO025  1.427787e-15   1.427787e-15\n",
      "GEOCODIGO079   GEOCODIGO079 -1.326788e-15   1.326788e-15\n",
      "GEOCODIGO262   GEOCODIGO262  1.302302e-15   1.302302e-15\n",
      "GEOCODIGO224   GEOCODIGO224 -1.265762e-15   1.265762e-15\n",
      "GEOCODIGO040   GEOCODIGO040 -1.257494e-15   1.257494e-15\n",
      "GEOCODIGO042   GEOCODIGO042 -1.207480e-15   1.207480e-15\n",
      "co                       co -1.120073e-15   1.120073e-15\n",
      "GEOCODIGO011   GEOCODIGO011 -1.118055e-15   1.118055e-15\n",
      "GEOCODIGO169   GEOCODIGO169  1.026639e-15   1.026639e-15\n",
      "GEOCODIGO136   GEOCODIGO136 -9.893035e-16   9.893035e-16\n",
      "GEOCODIGO259   GEOCODIGO259 -8.719533e-16   8.719533e-16\n",
      "GEOCODIGO018   GEOCODIGO018 -8.710594e-16   8.710594e-16\n",
      "GEOCODIGO035   GEOCODIGO035 -6.956178e-16   6.956178e-16\n",
      "GEOCODIGO232   GEOCODIGO232 -5.687241e-16   5.687241e-16\n",
      "GEOCODIGO191   GEOCODIGO191 -5.608885e-16   5.608885e-16\n",
      "GEOCODIGO069   GEOCODIGO069 -5.375048e-16   5.375048e-16\n",
      "GEOCODIGO253   GEOCODIGO253  5.323516e-16   5.323516e-16\n",
      "no2                     no2 -4.960132e-16   4.960132e-16\n",
      "GEOCODIGO047   GEOCODIGO047  4.912500e-16   4.912500e-16\n",
      "GEOCODIGO016   GEOCODIGO016  4.907245e-16   4.907245e-16\n",
      "GEOCODIGO244   GEOCODIGO244 -4.305242e-16   4.305242e-16\n",
      "GEOCODIGO254   GEOCODIGO254  3.896931e-16   3.896931e-16\n",
      "presMax             presMax -3.449334e-16   3.449334e-16\n",
      "GEOCODIGO113   GEOCODIGO113 -3.331622e-16   3.331622e-16\n",
      "is_trainTRUE   is_trainTRUE  3.101909e-16   3.101909e-16\n",
      "GEOCODIGO024   GEOCODIGO024  2.857620e-16   2.857620e-16\n",
      "GEOCODIGO116   GEOCODIGO116 -2.821347e-16   2.821347e-16\n",
      "GEOCODIGO150   GEOCODIGO150  2.797148e-16   2.797148e-16\n",
      "GEOCODIGO031   GEOCODIGO031 -2.019895e-16   2.019895e-16\n",
      "n_vacunas         n_vacunas  1.761763e-16   1.761763e-16\n",
      "tuits_gripe     tuits_gripe  1.528383e-16   1.528383e-16\n",
      "GEOCODIGO057   GEOCODIGO057 -1.477188e-16   1.477188e-16\n",
      "pm2.5                 pm2.5  1.422193e-16   1.422193e-16\n",
      "nox                     nox -5.214295e-17   5.214295e-17\n",
      "no                       no -4.413159e-17   4.413159e-17\n",
      "n_citas             n_citas -1.964112e-17   1.964112e-17\n",
      "GEOCODIGO071   GEOCODIGO071  1.214984e-17   1.214984e-17\n"
     ]
    }
   ],
   "source": [
    "# install the necessary packages if not already installed\n",
    "if (!require(caret)) {\n",
    "  install.packages('caret')\n",
    "}\n",
    "\n",
    "# load the necessary packages\n",
    "library(caret)\n",
    "\n",
    "# create the model\n",
    "set.seed(123)\n",
    "train_control <- trainControl(method = \"cv\", number = 5)\n",
    "linear_model <- train(Target ~ ., data = data, method = \"lm\",\n",
    "                      trControl = train_control)\n",
    "\n",
    "# extract the coefficients\n",
    "coef <- summary(linear_model$finalModel)$coefficients\n",
    "\n",
    "# make a data frame of feature names and their corresponding coefficients\n",
    "feature_importance <- data.frame(Feature = rownames(coef), Coefficient = coef[, \"Estimate\"])\n",
    "\n",
    "# compute the absolute value of the coefficients\n",
    "feature_importance$AbsCoefficient <- abs(feature_importance$Coefficient)\n",
    "\n",
    "# sort the features by the absolute value of their coefficients in descending order\n",
    "feature_importance <- feature_importance[order(-feature_importance$AbsCoefficient), ]\n",
    "\n",
    "# print the feature importance\n",
    "print(feature_importance)"
   ]
  },
  {
   "cell_type": "markdown",
   "metadata": {
    "slideshow": {
     "slide_type": "slide"
    }
   },
   "source": [
    "### Logistic Regression Feature importance"
   ]
  },
  {
   "cell_type": "markdown",
   "metadata": {
    "ExecuteTime": {
     "end_time": "2021-01-05T19:05:13.591950Z",
     "start_time": "2021-01-05T19:05:13.121757Z"
    },
    "vscode": {
     "languageId": "r"
    }
   },
   "source": [
    "No aplica"
   ]
  },
  {
   "cell_type": "markdown",
   "metadata": {
    "slideshow": {
     "slide_type": "slide"
    }
   },
   "source": [
    "## Decision Tree Feature Importance"
   ]
  },
  {
   "cell_type": "markdown",
   "metadata": {
    "slideshow": {
     "slide_type": "slide"
    }
   },
   "source": [
    "### CART Regression Feature Importance"
   ]
  },
  {
   "cell_type": "code",
   "execution_count": 10,
   "metadata": {
    "ExecuteTime": {
     "end_time": "2021-01-05T19:13:00.753678Z",
     "start_time": "2021-01-05T19:12:59.572268Z"
    },
    "vscode": {
     "languageId": "r"
    }
   },
   "outputs": [
    {
     "name": "stderr",
     "output_type": "stream",
     "text": [
      "Loading required package: rpart\n",
      "\n"
     ]
    },
    {
     "name": "stdout",
     "output_type": "stream",
     "text": [
      " [1] 3.1708648 1.4384476 1.2730982 1.1835086 0.5392957 0.5263859 0.4977876\n",
      " [8] 0.4391151 0.3306283 0.2629820 0.1173294 0.0000000 0.0000000 0.0000000\n",
      "[15] 0.0000000 0.0000000 0.0000000 0.0000000 0.0000000 0.0000000 0.0000000\n",
      "[22] 0.0000000 0.0000000 0.0000000 0.0000000 0.0000000 0.0000000 0.0000000\n",
      "[29] 0.0000000 0.0000000 0.0000000 0.0000000 0.0000000 0.0000000 0.0000000\n",
      "[36] 0.0000000 0.0000000 0.0000000 0.0000000 0.0000000 0.0000000 0.0000000\n",
      "[43] 0.0000000 0.0000000 0.0000000 0.0000000 0.0000000 0.0000000\n"
     ]
    }
   ],
   "source": [
    "# install the necessary packages if not already installed\n",
    "if (!require(rpart)) {\n",
    "  install.packages('rpart')\n",
    "}\n",
    "\n",
    "# load the necessary packages\n",
    "library(rpart)\n",
    "\n",
    "# fit the model\n",
    "cart_model <- rpart(Target ~ ., data = data, method = \"anova\")\n",
    "\n",
    "# compute feature importances\n",
    "importance <- as.data.frame(varImp(cart_model))\n",
    "\n",
    "# sort by importance\n",
    "importance <- importance[order(-importance$Overall), ]\n",
    "\n",
    "# print the feature importance\n",
    "print(importance)"
   ]
  },
  {
   "cell_type": "markdown",
   "metadata": {
    "slideshow": {
     "slide_type": "slide"
    }
   },
   "source": [
    "### CART Classification Feature Importance"
   ]
  },
  {
   "cell_type": "markdown",
   "metadata": {
    "ExecuteTime": {
     "end_time": "2021-01-05T19:14:06.226914Z",
     "start_time": "2021-01-05T19:14:05.926022Z"
    },
    "vscode": {
     "languageId": "r"
    }
   },
   "source": [
    "No aplica"
   ]
  },
  {
   "cell_type": "markdown",
   "metadata": {
    "slideshow": {
     "slide_type": "slide"
    }
   },
   "source": [
    "### Random Forest Regression Feature Importance"
   ]
  },
  {
   "cell_type": "code",
   "execution_count": 18,
   "metadata": {
    "ExecuteTime": {
     "end_time": "2021-01-05T19:16:11.587658Z",
     "start_time": "2021-01-05T19:16:10.537917Z"
    },
    "vscode": {
     "languageId": "r"
    }
   },
   "outputs": [
    {
     "name": "stdout",
     "output_type": "stream",
     "text": [
      "                            Feature    Importance\n",
      "interes_gripe         interes_gripe 665.041924825\n",
      "tuits_gripe             tuits_gripe 148.284259879\n",
      "scampana                   scampana 146.581337214\n",
      "semana                       semana  90.136665620\n",
      "n_vacunas                 n_vacunas  61.363162786\n",
      "n_citas                     n_citas  58.783013919\n",
      "prec                           prec  29.412115470\n",
      "benzene                     benzene  12.936875246\n",
      "tmed                           tmed  11.263259346\n",
      "so2                             so2   8.412109795\n",
      "pm10                           pm10   7.820897289\n",
      "ano                             ano   6.614590753\n",
      "pm2.5                         pm2.5   6.428949390\n",
      "campana                     campana   5.185778031\n",
      "o3                               o3   3.662270853\n",
      "no                               no   3.129776410\n",
      "velmedia                   velmedia   2.484920743\n",
      "nox                             nox   1.642691242\n",
      "no2                             no2   1.194571534\n",
      "co                               co   0.696934189\n",
      "GEOCODIGO                 GEOCODIGO   0.317690358\n",
      "DESBDT                       DESBDT   0.265026645\n",
      "nombre_zona             nombre_zona   0.223058360\n",
      "prop_riesgo             prop_riesgo   0.173890498\n",
      "t4_3                           t4_3   0.149066106\n",
      "densidad_hab_km     densidad_hab_km   0.145619155\n",
      "poblacion_mayores poblacion_mayores   0.133757698\n",
      "t2_1                           t2_1   0.080100193\n",
      "area                           area   0.067242660\n",
      "t12_1                         t12_1   0.065372391\n",
      "presMax                     presMax   0.063929068\n",
      "nsec                           nsec   0.063551397\n",
      "capacidad_zona       capacidad_zona   0.053062868\n",
      "t6_1                           t6_1   0.049762605\n",
      "t10_1                         t10_1   0.044360141\n",
      "t4_1                           t4_1   0.043590444\n",
      "t1_1                           t1_1   0.042297268\n",
      "t4_2                           t4_2   0.037693132\n",
      "t7_1                           t7_1   0.034866311\n",
      "t9_1                           t9_1   0.032525707\n",
      "t3_1                           t3_1   0.022146521\n",
      "t8_1                           t8_1   0.015283011\n",
      "t5_1                           t5_1   0.010346115\n",
      "t2_2                           t2_2   0.003709971\n",
      "t11_1                         t11_1  -0.009720072\n",
      "is_train                   is_train  -0.014410352\n",
      "tasa_mayores           tasa_mayores  -0.015156100\n",
      "tasa_riesgo             tasa_riesgo  -0.105808303\n"
     ]
    }
   ],
   "source": [
    "# install the necessary packages if not already installed\n",
    "if (!require(randomForest)) {\n",
    "  install.packages('randomForest')\n",
    "}\n",
    "\n",
    "# load the necessary packages\n",
    "library(randomForest)\n",
    "\n",
    "# fit the model\n",
    "rf_model <- randomForest(Target ~ ., data = data, importance = TRUE)\n",
    "\n",
    "# get feature importances\n",
    "importance <- rf_model$importance\n",
    "\n",
    "# make a data frame of feature names and their corresponding importances\n",
    "feature_importance <- data.frame(Feature = rownames(importance), Importance = importance[,1]) # Adjust the index based on your requirement\n",
    "\n",
    "# sort the features by importance in descending order\n",
    "feature_importance <- feature_importance[order(-feature_importance$Importance), ]\n",
    "\n",
    "# print the feature importance\n",
    "print(feature_importance)"
   ]
  },
  {
   "cell_type": "code",
   "execution_count": 17,
   "metadata": {},
   "outputs": [
    {
     "data": {
      "text/html": [
       "<table class=\"dataframe\">\n",
       "<caption>A matrix: 48 × 2 of type dbl</caption>\n",
       "<thead>\n",
       "\t<tr><th></th><th scope=col>%IncMSE</th><th scope=col>IncNodePurity</th></tr>\n",
       "</thead>\n",
       "<tbody>\n",
       "\t<tr><th scope=row>GEOCODIGO</th><td>  0.317690358</td><td>7.478272e-01</td></tr>\n",
       "\t<tr><th scope=row>DESBDT</th><td>  0.265026645</td><td>5.051162e-01</td></tr>\n",
       "\t<tr><th scope=row>ano</th><td>  6.614590753</td><td>1.931740e+04</td></tr>\n",
       "\t<tr><th scope=row>semana</th><td> 90.136665620</td><td>4.710209e+05</td></tr>\n",
       "\t<tr><th scope=row>n_vacunas</th><td> 61.363162786</td><td>2.002295e+05</td></tr>\n",
       "\t<tr><th scope=row>n_citas</th><td> 58.783013919</td><td>1.984159e+05</td></tr>\n",
       "\t<tr><th scope=row>tmed</th><td> 11.263259346</td><td>4.787210e+04</td></tr>\n",
       "\t<tr><th scope=row>prec</th><td> 29.412115470</td><td>1.168580e+05</td></tr>\n",
       "\t<tr><th scope=row>velmedia</th><td>  2.484920743</td><td>3.490770e+04</td></tr>\n",
       "\t<tr><th scope=row>presMax</th><td>  0.063929068</td><td>1.956558e+02</td></tr>\n",
       "\t<tr><th scope=row>benzene</th><td> 12.936875246</td><td>1.268288e+05</td></tr>\n",
       "\t<tr><th scope=row>co</th><td>  0.696934189</td><td>1.760577e+03</td></tr>\n",
       "\t<tr><th scope=row>no</th><td>  3.129776410</td><td>4.136604e+04</td></tr>\n",
       "\t<tr><th scope=row>no2</th><td>  1.194571534</td><td>6.065672e+03</td></tr>\n",
       "\t<tr><th scope=row>nox</th><td>  1.642691242</td><td>1.287343e+04</td></tr>\n",
       "\t<tr><th scope=row>o3</th><td>  3.662270853</td><td>2.339107e+04</td></tr>\n",
       "\t<tr><th scope=row>pm10</th><td>  7.820897289</td><td>5.183155e+04</td></tr>\n",
       "\t<tr><th scope=row>pm2.5</th><td>  6.428949390</td><td>4.858137e+04</td></tr>\n",
       "\t<tr><th scope=row>so2</th><td>  8.412109795</td><td>4.302407e+04</td></tr>\n",
       "\t<tr><th scope=row>campana</th><td>  5.185778031</td><td>1.414884e+04</td></tr>\n",
       "\t<tr><th scope=row>scampana</th><td>146.581337214</td><td>9.183421e+05</td></tr>\n",
       "\t<tr><th scope=row>capacidad_zona</th><td>  0.053062868</td><td>4.113672e+00</td></tr>\n",
       "\t<tr><th scope=row>prop_riesgo</th><td>  0.173890498</td><td>3.210903e-01</td></tr>\n",
       "\t<tr><th scope=row>tasa_riesgo</th><td> -0.105808303</td><td>2.329904e-01</td></tr>\n",
       "\t<tr><th scope=row>tasa_mayores</th><td> -0.015156100</td><td>6.482611e-02</td></tr>\n",
       "\t<tr><th scope=row>poblacion_mayores</th><td>  0.133757698</td><td>2.669380e+00</td></tr>\n",
       "\t<tr><th scope=row>nombre_zona</th><td>  0.223058360</td><td>2.140744e+00</td></tr>\n",
       "\t<tr><th scope=row>nsec</th><td>  0.063551397</td><td>3.292341e+00</td></tr>\n",
       "\t<tr><th scope=row>t3_1</th><td>  0.022146521</td><td>4.105629e+00</td></tr>\n",
       "\t<tr><th scope=row>t1_1</th><td>  0.042297268</td><td>3.368476e+00</td></tr>\n",
       "\t<tr><th scope=row>t2_1</th><td>  0.080100193</td><td>4.973171e+01</td></tr>\n",
       "\t<tr><th scope=row>t2_2</th><td>  0.003709971</td><td>1.868699e+01</td></tr>\n",
       "\t<tr><th scope=row>t4_1</th><td>  0.043590444</td><td>1.547176e+01</td></tr>\n",
       "\t<tr><th scope=row>t4_2</th><td>  0.037693132</td><td>1.856270e+00</td></tr>\n",
       "\t<tr><th scope=row>t4_3</th><td>  0.149066106</td><td>2.377697e-01</td></tr>\n",
       "\t<tr><th scope=row>t5_1</th><td>  0.010346115</td><td>1.143387e+01</td></tr>\n",
       "\t<tr><th scope=row>t6_1</th><td>  0.049762605</td><td>1.600634e+00</td></tr>\n",
       "\t<tr><th scope=row>t7_1</th><td>  0.034866311</td><td>7.694122e+00</td></tr>\n",
       "\t<tr><th scope=row>t8_1</th><td>  0.015283011</td><td>8.255059e+00</td></tr>\n",
       "\t<tr><th scope=row>t9_1</th><td>  0.032525707</td><td>7.166661e+00</td></tr>\n",
       "\t<tr><th scope=row>t10_1</th><td>  0.044360141</td><td>3.504122e+00</td></tr>\n",
       "\t<tr><th scope=row>t11_1</th><td> -0.009720072</td><td>9.065964e+00</td></tr>\n",
       "\t<tr><th scope=row>t12_1</th><td>  0.065372391</td><td>6.403215e-01</td></tr>\n",
       "\t<tr><th scope=row>area</th><td>  0.067242660</td><td>2.439165e+01</td></tr>\n",
       "\t<tr><th scope=row>densidad_hab_km</th><td>  0.145619155</td><td>6.314780e+01</td></tr>\n",
       "\t<tr><th scope=row>tuits_gripe</th><td>148.284259879</td><td>9.254715e+05</td></tr>\n",
       "\t<tr><th scope=row>interes_gripe</th><td>665.041924825</td><td>2.795582e+06</td></tr>\n",
       "\t<tr><th scope=row>is_train</th><td> -0.014410352</td><td>9.835381e-01</td></tr>\n",
       "</tbody>\n",
       "</table>\n"
      ],
      "text/latex": [
       "A matrix: 48 × 2 of type dbl\n",
       "\\begin{tabular}{r|ll}\n",
       "  & \\%IncMSE & IncNodePurity\\\\\n",
       "\\hline\n",
       "\tGEOCODIGO &   0.317690358 & 7.478272e-01\\\\\n",
       "\tDESBDT &   0.265026645 & 5.051162e-01\\\\\n",
       "\tano &   6.614590753 & 1.931740e+04\\\\\n",
       "\tsemana &  90.136665620 & 4.710209e+05\\\\\n",
       "\tn\\_vacunas &  61.363162786 & 2.002295e+05\\\\\n",
       "\tn\\_citas &  58.783013919 & 1.984159e+05\\\\\n",
       "\ttmed &  11.263259346 & 4.787210e+04\\\\\n",
       "\tprec &  29.412115470 & 1.168580e+05\\\\\n",
       "\tvelmedia &   2.484920743 & 3.490770e+04\\\\\n",
       "\tpresMax &   0.063929068 & 1.956558e+02\\\\\n",
       "\tbenzene &  12.936875246 & 1.268288e+05\\\\\n",
       "\tco &   0.696934189 & 1.760577e+03\\\\\n",
       "\tno &   3.129776410 & 4.136604e+04\\\\\n",
       "\tno2 &   1.194571534 & 6.065672e+03\\\\\n",
       "\tnox &   1.642691242 & 1.287343e+04\\\\\n",
       "\to3 &   3.662270853 & 2.339107e+04\\\\\n",
       "\tpm10 &   7.820897289 & 5.183155e+04\\\\\n",
       "\tpm2.5 &   6.428949390 & 4.858137e+04\\\\\n",
       "\tso2 &   8.412109795 & 4.302407e+04\\\\\n",
       "\tcampana &   5.185778031 & 1.414884e+04\\\\\n",
       "\tscampana & 146.581337214 & 9.183421e+05\\\\\n",
       "\tcapacidad\\_zona &   0.053062868 & 4.113672e+00\\\\\n",
       "\tprop\\_riesgo &   0.173890498 & 3.210903e-01\\\\\n",
       "\ttasa\\_riesgo &  -0.105808303 & 2.329904e-01\\\\\n",
       "\ttasa\\_mayores &  -0.015156100 & 6.482611e-02\\\\\n",
       "\tpoblacion\\_mayores &   0.133757698 & 2.669380e+00\\\\\n",
       "\tnombre\\_zona &   0.223058360 & 2.140744e+00\\\\\n",
       "\tnsec &   0.063551397 & 3.292341e+00\\\\\n",
       "\tt3\\_1 &   0.022146521 & 4.105629e+00\\\\\n",
       "\tt1\\_1 &   0.042297268 & 3.368476e+00\\\\\n",
       "\tt2\\_1 &   0.080100193 & 4.973171e+01\\\\\n",
       "\tt2\\_2 &   0.003709971 & 1.868699e+01\\\\\n",
       "\tt4\\_1 &   0.043590444 & 1.547176e+01\\\\\n",
       "\tt4\\_2 &   0.037693132 & 1.856270e+00\\\\\n",
       "\tt4\\_3 &   0.149066106 & 2.377697e-01\\\\\n",
       "\tt5\\_1 &   0.010346115 & 1.143387e+01\\\\\n",
       "\tt6\\_1 &   0.049762605 & 1.600634e+00\\\\\n",
       "\tt7\\_1 &   0.034866311 & 7.694122e+00\\\\\n",
       "\tt8\\_1 &   0.015283011 & 8.255059e+00\\\\\n",
       "\tt9\\_1 &   0.032525707 & 7.166661e+00\\\\\n",
       "\tt10\\_1 &   0.044360141 & 3.504122e+00\\\\\n",
       "\tt11\\_1 &  -0.009720072 & 9.065964e+00\\\\\n",
       "\tt12\\_1 &   0.065372391 & 6.403215e-01\\\\\n",
       "\tarea &   0.067242660 & 2.439165e+01\\\\\n",
       "\tdensidad\\_hab\\_km &   0.145619155 & 6.314780e+01\\\\\n",
       "\ttuits\\_gripe & 148.284259879 & 9.254715e+05\\\\\n",
       "\tinteres\\_gripe & 665.041924825 & 2.795582e+06\\\\\n",
       "\tis\\_train &  -0.014410352 & 9.835381e-01\\\\\n",
       "\\end{tabular}\n"
      ],
      "text/markdown": [
       "\n",
       "A matrix: 48 × 2 of type dbl\n",
       "\n",
       "| <!--/--> | %IncMSE | IncNodePurity |\n",
       "|---|---|---|\n",
       "| GEOCODIGO |   0.317690358 | 7.478272e-01 |\n",
       "| DESBDT |   0.265026645 | 5.051162e-01 |\n",
       "| ano |   6.614590753 | 1.931740e+04 |\n",
       "| semana |  90.136665620 | 4.710209e+05 |\n",
       "| n_vacunas |  61.363162786 | 2.002295e+05 |\n",
       "| n_citas |  58.783013919 | 1.984159e+05 |\n",
       "| tmed |  11.263259346 | 4.787210e+04 |\n",
       "| prec |  29.412115470 | 1.168580e+05 |\n",
       "| velmedia |   2.484920743 | 3.490770e+04 |\n",
       "| presMax |   0.063929068 | 1.956558e+02 |\n",
       "| benzene |  12.936875246 | 1.268288e+05 |\n",
       "| co |   0.696934189 | 1.760577e+03 |\n",
       "| no |   3.129776410 | 4.136604e+04 |\n",
       "| no2 |   1.194571534 | 6.065672e+03 |\n",
       "| nox |   1.642691242 | 1.287343e+04 |\n",
       "| o3 |   3.662270853 | 2.339107e+04 |\n",
       "| pm10 |   7.820897289 | 5.183155e+04 |\n",
       "| pm2.5 |   6.428949390 | 4.858137e+04 |\n",
       "| so2 |   8.412109795 | 4.302407e+04 |\n",
       "| campana |   5.185778031 | 1.414884e+04 |\n",
       "| scampana | 146.581337214 | 9.183421e+05 |\n",
       "| capacidad_zona |   0.053062868 | 4.113672e+00 |\n",
       "| prop_riesgo |   0.173890498 | 3.210903e-01 |\n",
       "| tasa_riesgo |  -0.105808303 | 2.329904e-01 |\n",
       "| tasa_mayores |  -0.015156100 | 6.482611e-02 |\n",
       "| poblacion_mayores |   0.133757698 | 2.669380e+00 |\n",
       "| nombre_zona |   0.223058360 | 2.140744e+00 |\n",
       "| nsec |   0.063551397 | 3.292341e+00 |\n",
       "| t3_1 |   0.022146521 | 4.105629e+00 |\n",
       "| t1_1 |   0.042297268 | 3.368476e+00 |\n",
       "| t2_1 |   0.080100193 | 4.973171e+01 |\n",
       "| t2_2 |   0.003709971 | 1.868699e+01 |\n",
       "| t4_1 |   0.043590444 | 1.547176e+01 |\n",
       "| t4_2 |   0.037693132 | 1.856270e+00 |\n",
       "| t4_3 |   0.149066106 | 2.377697e-01 |\n",
       "| t5_1 |   0.010346115 | 1.143387e+01 |\n",
       "| t6_1 |   0.049762605 | 1.600634e+00 |\n",
       "| t7_1 |   0.034866311 | 7.694122e+00 |\n",
       "| t8_1 |   0.015283011 | 8.255059e+00 |\n",
       "| t9_1 |   0.032525707 | 7.166661e+00 |\n",
       "| t10_1 |   0.044360141 | 3.504122e+00 |\n",
       "| t11_1 |  -0.009720072 | 9.065964e+00 |\n",
       "| t12_1 |   0.065372391 | 6.403215e-01 |\n",
       "| area |   0.067242660 | 2.439165e+01 |\n",
       "| densidad_hab_km |   0.145619155 | 6.314780e+01 |\n",
       "| tuits_gripe | 148.284259879 | 9.254715e+05 |\n",
       "| interes_gripe | 665.041924825 | 2.795582e+06 |\n",
       "| is_train |  -0.014410352 | 9.835381e-01 |\n",
       "\n"
      ],
      "text/plain": [
       "                  %IncMSE       IncNodePurity\n",
       "GEOCODIGO           0.317690358 7.478272e-01 \n",
       "DESBDT              0.265026645 5.051162e-01 \n",
       "ano                 6.614590753 1.931740e+04 \n",
       "semana             90.136665620 4.710209e+05 \n",
       "n_vacunas          61.363162786 2.002295e+05 \n",
       "n_citas            58.783013919 1.984159e+05 \n",
       "tmed               11.263259346 4.787210e+04 \n",
       "prec               29.412115470 1.168580e+05 \n",
       "velmedia            2.484920743 3.490770e+04 \n",
       "presMax             0.063929068 1.956558e+02 \n",
       "benzene            12.936875246 1.268288e+05 \n",
       "co                  0.696934189 1.760577e+03 \n",
       "no                  3.129776410 4.136604e+04 \n",
       "no2                 1.194571534 6.065672e+03 \n",
       "nox                 1.642691242 1.287343e+04 \n",
       "o3                  3.662270853 2.339107e+04 \n",
       "pm10                7.820897289 5.183155e+04 \n",
       "pm2.5               6.428949390 4.858137e+04 \n",
       "so2                 8.412109795 4.302407e+04 \n",
       "campana             5.185778031 1.414884e+04 \n",
       "scampana          146.581337214 9.183421e+05 \n",
       "capacidad_zona      0.053062868 4.113672e+00 \n",
       "prop_riesgo         0.173890498 3.210903e-01 \n",
       "tasa_riesgo        -0.105808303 2.329904e-01 \n",
       "tasa_mayores       -0.015156100 6.482611e-02 \n",
       "poblacion_mayores   0.133757698 2.669380e+00 \n",
       "nombre_zona         0.223058360 2.140744e+00 \n",
       "nsec                0.063551397 3.292341e+00 \n",
       "t3_1                0.022146521 4.105629e+00 \n",
       "t1_1                0.042297268 3.368476e+00 \n",
       "t2_1                0.080100193 4.973171e+01 \n",
       "t2_2                0.003709971 1.868699e+01 \n",
       "t4_1                0.043590444 1.547176e+01 \n",
       "t4_2                0.037693132 1.856270e+00 \n",
       "t4_3                0.149066106 2.377697e-01 \n",
       "t5_1                0.010346115 1.143387e+01 \n",
       "t6_1                0.049762605 1.600634e+00 \n",
       "t7_1                0.034866311 7.694122e+00 \n",
       "t8_1                0.015283011 8.255059e+00 \n",
       "t9_1                0.032525707 7.166661e+00 \n",
       "t10_1               0.044360141 3.504122e+00 \n",
       "t11_1              -0.009720072 9.065964e+00 \n",
       "t12_1               0.065372391 6.403215e-01 \n",
       "area                0.067242660 2.439165e+01 \n",
       "densidad_hab_km     0.145619155 6.314780e+01 \n",
       "tuits_gripe       148.284259879 9.254715e+05 \n",
       "interes_gripe     665.041924825 2.795582e+06 \n",
       "is_train           -0.014410352 9.835381e-01 "
      ]
     },
     "metadata": {},
     "output_type": "display_data"
    }
   ],
   "source": [
    "rf_model$importance"
   ]
  },
  {
   "cell_type": "markdown",
   "metadata": {
    "slideshow": {
     "slide_type": "slide"
    }
   },
   "source": [
    "### Random Forest Classification Feature Importance"
   ]
  },
  {
   "cell_type": "markdown",
   "metadata": {
    "ExecuteTime": {
     "end_time": "2021-01-05T19:17:16.936416Z",
     "start_time": "2021-01-05T19:17:16.319183Z"
    },
    "vscode": {
     "languageId": "r"
    }
   },
   "source": [
    "No aplica"
   ]
  },
  {
   "cell_type": "markdown",
   "metadata": {
    "slideshow": {
     "slide_type": "slide"
    }
   },
   "source": [
    "## Permutation Feature Importance"
   ]
  },
  {
   "cell_type": "markdown",
   "metadata": {
    "slideshow": {
     "slide_type": "slide"
    }
   },
   "source": [
    "### Permutation Feature Importance for Regression"
   ]
  },
  {
   "cell_type": "code",
   "execution_count": 12,
   "metadata": {
    "ExecuteTime": {
     "end_time": "2021-01-05T19:20:52.115927Z",
     "start_time": "2021-01-05T19:20:51.097436Z"
    },
    "vscode": {
     "languageId": "r"
    }
   },
   "outputs": [
    {
     "name": "stderr",
     "output_type": "stream",
     "text": [
      "Loading required package: ranger\n",
      "\n",
      "\n",
      "Attaching package: ‘ranger’\n",
      "\n",
      "\n",
      "The following object is masked from ‘package:randomForest’:\n",
      "\n",
      "    importance\n",
      "\n",
      "\n"
     ]
    },
    {
     "name": "stdout",
     "output_type": "stream",
     "text": [
      "                            Feature    Importance\n",
      "interes_gripe         interes_gripe  3.589550e+02\n",
      "tuits_gripe             tuits_gripe  1.777444e+02\n",
      "scampana                   scampana  1.741863e+02\n",
      "semana                       semana  1.599750e+02\n",
      "n_vacunas                 n_vacunas  1.032406e+02\n",
      "n_citas                     n_citas  9.647796e+01\n",
      "tmed                           tmed  5.065526e+01\n",
      "prec                           prec  4.564980e+01\n",
      "benzene                     benzene  3.644910e+01\n",
      "ano                             ano  2.478358e+01\n",
      "so2                             so2  2.366207e+01\n",
      "pm10                           pm10  2.044931e+01\n",
      "o3                               o3  1.952931e+01\n",
      "pm2.5                         pm2.5  1.813701e+01\n",
      "no                               no  1.749017e+01\n",
      "campana                     campana  1.630669e+01\n",
      "velmedia                   velmedia  1.574798e+01\n",
      "no2                             no2  1.089645e+01\n",
      "nox                             nox  8.764699e+00\n",
      "co                               co  3.307979e+00\n",
      "presMax                     presMax  1.835227e+00\n",
      "area                           area  4.717773e-01\n",
      "densidad_hab_km     densidad_hab_km  4.399667e-01\n",
      "t2_1                           t2_1  3.219288e-01\n",
      "t2_2                           t2_2  3.056317e-01\n",
      "t1_1                           t1_1  1.566538e-01\n",
      "t4_1                           t4_1  1.097111e-01\n",
      "capacidad_zona       capacidad_zona  1.039774e-01\n",
      "poblacion_mayores poblacion_mayores  9.624182e-02\n",
      "t9_1                           t9_1  9.154759e-02\n",
      "t3_1                           t3_1  6.410058e-02\n",
      "t6_1                           t6_1  5.434363e-02\n",
      "t8_1                           t8_1  5.348162e-02\n",
      "t4_2                           t4_2  4.152267e-02\n",
      "t7_1                           t7_1  3.342118e-02\n",
      "t10_1                         t10_1  2.916619e-02\n",
      "nsec                           nsec  2.334047e-02\n",
      "t4_3                           t4_3  1.915116e-02\n",
      "t5_1                           t5_1  1.833996e-02\n",
      "GEOCODIGO                 GEOCODIGO  1.495837e-02\n",
      "prop_riesgo             prop_riesgo  1.435767e-02\n",
      "t11_1                         t11_1  1.432857e-02\n",
      "t12_1                         t12_1  5.761710e-03\n",
      "tasa_riesgo             tasa_riesgo  4.829077e-03\n",
      "tasa_mayores           tasa_mayores  2.380711e-03\n",
      "nombre_zona             nombre_zona  4.976843e-04\n",
      "is_train                   is_train -8.571006e-03\n",
      "DESBDT                       DESBDT -1.420096e-02\n"
     ]
    }
   ],
   "source": [
    "# install the necessary packages if not already installed\n",
    "if (!require(ranger)) {\n",
    "  install.packages('ranger')\n",
    "}\n",
    "\n",
    "# load the necessary packages\n",
    "library(ranger)\n",
    "\n",
    "# fit the model\n",
    "rf_model <- ranger(Target ~ ., data = data, importance = 'permutation')\n",
    "\n",
    "# get feature importances\n",
    "importance <- data.frame(Feature = names(rf_model$variable.importance), Importance = rf_model$variable.importance)\n",
    "\n",
    "# sort the features by importance in descending order\n",
    "importance <- importance[order(-importance$Importance), ]\n",
    "\n",
    "# print the feature importance\n",
    "print(importance)"
   ]
  },
  {
   "cell_type": "markdown",
   "metadata": {
    "slideshow": {
     "slide_type": "slide"
    }
   },
   "source": [
    "### Permutation Feature Importance for Classification"
   ]
  },
  {
   "cell_type": "code",
   "execution_count": null,
   "metadata": {
    "ExecuteTime": {
     "end_time": "2021-01-05T19:23:45.248360Z",
     "start_time": "2021-01-05T19:23:42.500254Z"
    },
    "vscode": {
     "languageId": "r"
    }
   },
   "outputs": [],
   "source": [
    "No aplica"
   ]
  },
  {
   "cell_type": "markdown",
   "metadata": {
    "slideshow": {
     "slide_type": "slide"
    }
   },
   "source": [
    "## Evaluating a Logistic Regression model with feature selection."
   ]
  },
  {
   "cell_type": "markdown",
   "metadata": {
    "slideshow": {
     "slide_type": "slide"
    }
   },
   "source": [
    "### Evaluating with all selected features."
   ]
  },
  {
   "cell_type": "code",
   "execution_count": null,
   "metadata": {
    "ExecuteTime": {
     "end_time": "2021-01-05T19:31:42.181362Z",
     "start_time": "2021-01-05T19:31:42.065465Z"
    },
    "vscode": {
     "languageId": "r"
    }
   },
   "outputs": [],
   "source": []
  },
  {
   "cell_type": "markdown",
   "metadata": {
    "slideshow": {
     "slide_type": "slide"
    }
   },
   "source": [
    "### Evaluating with feature selection performed using feature importance."
   ]
  },
  {
   "cell_type": "markdown",
   "metadata": {},
   "source": [
    "<font color='tomato'>Select type of Feature Importance to use</font>"
   ]
  },
  {
   "cell_type": "code",
   "execution_count": null,
   "metadata": {
    "ExecuteTime": {
     "end_time": "2021-01-05T20:16:45.894214Z",
     "start_time": "2021-01-05T20:16:45.862960Z"
    },
    "vscode": {
     "languageId": "r"
    }
   },
   "outputs": [],
   "source": []
  },
  {
   "cell_type": "markdown",
   "metadata": {},
   "source": [
    "<font color='darkgrey'><b>Operation</font>"
   ]
  }
 ],
 "metadata": {
  "anaconda-cloud": {},
  "celltoolbar": "Slideshow",
  "hide_input": false,
  "kernelspec": {
   "display_name": "R",
   "language": "R",
   "name": "ir"
  },
  "language_info": {
   "codemirror_mode": "r",
   "file_extension": ".r",
   "mimetype": "text/x-r-source",
   "name": "R",
   "pygments_lexer": "r",
   "version": "4.1.2"
  },
  "latex_envs": {
   "LaTeX_envs_menu_present": true,
   "autoclose": false,
   "autocomplete": true,
   "bibliofile": "biblio.bib",
   "cite_by": "apalike",
   "current_citInitial": 1,
   "eqLabelWithNumbers": true,
   "eqNumInitial": 1,
   "hotkeys": {
    "equation": "Ctrl-E",
    "itemize": "Ctrl-I"
   },
   "labels_anchors": false,
   "latex_user_defs": false,
   "report_style_numbering": true,
   "user_envs_cfg": false
  },
  "toc": {
   "base_numbering": 1,
   "nav_menu": {},
   "number_sections": true,
   "sideBar": true,
   "skip_h1_title": true,
   "title_cell": "Table of Contents",
   "title_sidebar": "Contents",
   "toc_cell": false,
   "toc_position": {
    "height": "calc(100% - 180px)",
    "left": "10px",
    "top": "150px",
    "width": "304.633px"
   },
   "toc_section_display": true,
   "toc_window_display": true
  },
  "varInspector": {
   "cols": {
    "lenName": 16,
    "lenType": 16,
    "lenVar": 40
   },
   "kernels_config": {
    "python": {
     "delete_cmd_postfix": "",
     "delete_cmd_prefix": "del ",
     "library": "var_list.py",
     "varRefreshCmd": "print(var_dic_list())"
    },
    "r": {
     "delete_cmd_postfix": ") ",
     "delete_cmd_prefix": "rm(",
     "library": "var_list.r",
     "varRefreshCmd": "cat(var_dic_list()) "
    }
   },
   "types_to_exclude": [
    "module",
    "function",
    "builtin_function_or_method",
    "instance",
    "_Feature"
   ],
   "window_display": false
  }
 },
 "nbformat": 4,
 "nbformat_minor": 4
}
