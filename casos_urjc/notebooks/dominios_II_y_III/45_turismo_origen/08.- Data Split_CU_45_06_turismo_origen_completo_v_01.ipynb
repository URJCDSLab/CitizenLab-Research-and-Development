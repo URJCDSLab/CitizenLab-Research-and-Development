{
 "cells": [
  {
   "cell_type": "markdown",
   "metadata": {
    "slideshow": {
     "slide_type": "slide"
    }
   },
   "source": [
    "<img src=\".\\images\\Logo.png\" width=150 align=\"left\" /> <img src=\".\\images\\Logo2.jpg\" width=450 align=\"right\" />"
   ]
  },
  {
   "cell_type": "markdown",
   "metadata": {
    "slideshow": {
     "slide_type": "slide"
    }
   },
   "source": [
    "\n",
    "# <center><font color= #1e8449 > <b>CU45_Planificación y promoción del destino en base a los patrones en origen de los turistas</font></center>"
   ]
  },
  {
   "cell_type": "markdown",
   "metadata": {
    "slideshow": {
     "slide_type": "slide"
    }
   },
   "source": [
    "<font color='steelblue'><b>Citizenlab Data Science Methodology > II - Data Processing Domain </font>\n",
    "***\n",
    "> # <font color='steelblue'> <b>08.- Data Split</font>"
   ]
  },
  {
   "cell_type": "markdown",
   "metadata": {
    "slideshow": {
     "slide_type": "slide"
    }
   },
   "source": [
    "<font color='steelblue'>Data Split is the process of selecting the appropriate division of the data set into train, test and validation set.</font>"
   ]
  },
  {
   "cell_type": "markdown",
   "metadata": {
    "slideshow": {
     "slide_type": "slide"
    }
   },
   "source": [
    "## <font color='steelblue'>Tasks</font>"
   ]
  },
  {
   "cell_type": "markdown",
   "metadata": {
    "slideshow": {
     "slide_type": "slide"
    }
   },
   "source": [
    "<font color='steelblue'><b>Train and Test Rate Evaluation</b>\t\n",
    "\n",
    "<font color='steelblue'><b>Split Train and Test Datasets\t\n"
   ]
  },
  {
   "attachments": {},
   "cell_type": "markdown",
   "metadata": {},
   "source": [
    "## Consideraciones casos CitizenLab programados en R\n",
    "\n",
    "* Puede que algunas de las tareas de este proceso se realicen en los notebooks de los procesos de deploy al estar relacionadas con otras de esos procesos. En esos casos, en este notebook se referencia al notebook del proceso correspondiente\n",
    "* Puede que el proceso no aplique a los ficheros del caso de uso, y se indique \"No aplica\" de forma generalizada.\n",
    "* Si en el nombre de archivo del notebook no aparece ningún sufijo, el notebook se refiere al caso globalmente"
   ]
  },
  {
   "cell_type": "markdown",
   "metadata": {
    "slideshow": {
     "slide_type": "slide"
    }
   },
   "source": [
    "## <font color='green'>File</font>"
   ]
  },
  {
   "cell_type": "markdown",
   "metadata": {},
   "source": [
    "Se puede optar por utilizar los datos muestreados, o los completos."
   ]
  },
  {
   "attachments": {},
   "cell_type": "markdown",
   "metadata": {
    "slideshow": {
     "slide_type": "slide"
    }
   },
   "source": [
    "- <font color='steelblue'> <b>Input File: CU_45_06_03_turismo_receptor.csv</font>\n",
    "- <font color='steelblue'> <b>Sampled Input File: CU_45_07_03_turismo_receptor.csv</font>\n",
    "- <font color='steelblue'> <b>Output File: CU_45_08_03_turismo_receptor.csv</font>\n"
   ]
  },
  {
   "cell_type": "markdown",
   "metadata": {
    "slideshow": {
     "slide_type": "slide"
    }
   },
   "source": [
    "## <font color='green'>Settings</font>"
   ]
  },
  {
   "cell_type": "markdown",
   "metadata": {},
   "source": [
    "### Encoding\n",
    "\n",
    "Con la siguiente expresión se evitan problemas con el encoding al ejecutar el notebook. Es posible que deba ser eliminada o adaptada a la máquina en la que se ejecute el código."
   ]
  },
  {
   "cell_type": "code",
   "execution_count": 1,
   "metadata": {
    "vscode": {
     "languageId": "r"
    }
   },
   "outputs": [
    {
     "name": "stderr",
     "output_type": "stream",
     "text": [
      "Warning message in Sys.setlocale(category = \"LC_ALL\", locale = \"es_ES.UTF-8\"):\n",
      "“OS reports request to set locale to \"es_ES.UTF-8\" cannot be honored”\n"
     ]
    },
    {
     "data": {
      "text/html": [
       "''"
      ],
      "text/latex": [
       "''"
      ],
      "text/markdown": [
       "''"
      ],
      "text/plain": [
       "[1] \"\""
      ]
     },
     "metadata": {},
     "output_type": "display_data"
    }
   ],
   "source": [
    "Sys.setlocale(category = \"LC_ALL\", locale = \"es_ES.UTF-8\")"
   ]
  },
  {
   "cell_type": "markdown",
   "metadata": {},
   "source": [
    "### Libraries to use"
   ]
  },
  {
   "cell_type": "code",
   "execution_count": 2,
   "metadata": {
    "vscode": {
     "languageId": "r"
    }
   },
   "outputs": [
    {
     "name": "stderr",
     "output_type": "stream",
     "text": [
      "\n",
      "Attaching package: ‘dplyr’\n",
      "\n",
      "\n",
      "The following objects are masked from ‘package:stats’:\n",
      "\n",
      "    filter, lag\n",
      "\n",
      "\n",
      "The following objects are masked from ‘package:base’:\n",
      "\n",
      "    intersect, setdiff, setequal, union\n",
      "\n",
      "\n"
     ]
    }
   ],
   "source": [
    "library(readr)\n",
    "library(dplyr)\n",
    "library(tidyr)\n",
    "library(stringr)"
   ]
  },
  {
   "cell_type": "markdown",
   "metadata": {},
   "source": [
    "### Paths"
   ]
  },
  {
   "cell_type": "code",
   "execution_count": 4,
   "metadata": {
    "vscode": {
     "languageId": "r"
    }
   },
   "outputs": [],
   "source": [
    "iPath <- \"Data/Input/\"\n",
    "oPath <- \"Data/Output/\""
   ]
  },
  {
   "cell_type": "markdown",
   "metadata": {},
   "source": [
    "## <font color='green'>Data Load</font>"
   ]
  },
  {
   "cell_type": "markdown",
   "metadata": {},
   "source": [
    "<font color='tomato'><b> OPCION A:</b> Seleccionar fichero en ventana para mayor comodidad</font> "
   ]
  },
  {
   "cell_type": "markdown",
   "metadata": {},
   "source": [
    "Data load using the {tcltk} package. Ucomment the line if using this option"
   ]
  },
  {
   "cell_type": "code",
   "execution_count": 5,
   "metadata": {
    "vscode": {
     "languageId": "r"
    }
   },
   "outputs": [],
   "source": [
    "# file_data <- tcltk::tk_choose.files(multi = FALSE)"
   ]
  },
  {
   "cell_type": "markdown",
   "metadata": {},
   "source": [
    "<font color='tomato'><b> OPCION B:</b> Especificar el nombre de archivo</font>\n",
    "\n"
   ]
  },
  {
   "cell_type": "code",
   "execution_count": 6,
   "metadata": {
    "vscode": {
     "languageId": "r"
    }
   },
   "outputs": [
    {
     "name": "stdout",
     "output_type": "stream",
     "text": [
      "Se leerán datos del archivo:  Data/Input/CU_45_06_03_turismo_receptor.csv"
     ]
    }
   ],
   "source": [
    "iFile <- \"CU_45_06_03_turismo_receptor.csv\"\n",
    "file_data <- paste0(iPath, iFile)\n",
    "\n",
    "if(file.exists(file_data)){\n",
    "    cat(\"Se leerán datos del archivo: \", file_data)\n",
    "} else{\n",
    "    warning(\"Cuidado: el archivo no existe.\")\n",
    "}\n"
   ]
  },
  {
   "cell_type": "markdown",
   "metadata": {},
   "source": [
    "#### Data file to dataframe\n",
    "\n",
    "Usar la función adecuada según el formato de entrada (xlsx, csv, json, ...)"
   ]
  },
  {
   "cell_type": "code",
   "execution_count": 7,
   "metadata": {
    "vscode": {
     "languageId": "r"
    }
   },
   "outputs": [
    {
     "name": "stderr",
     "output_type": "stream",
     "text": [
      "\u001b[1mRows: \u001b[22m\u001b[34m50294\u001b[39m \u001b[1mColumns: \u001b[22m\u001b[34m8\u001b[39m\n",
      "\u001b[36m──\u001b[39m \u001b[1mColumn specification\u001b[22m \u001b[36m─────────────────────────────────────────────────────────────────────────────────────────────────────────────────────────\u001b[39m\n",
      "\u001b[1mDelimiter:\u001b[22m \",\"\n",
      "\u001b[31mchr\u001b[39m (5): mes, pais_orig_cod, pais_orig, mun_dest, CMUN\n",
      "\u001b[32mdbl\u001b[39m (3): mun_dest_cod, turistas, Target\n",
      "\n",
      "\u001b[36mℹ\u001b[39m Use `spec()` to retrieve the full column specification for this data.\n",
      "\u001b[36mℹ\u001b[39m Specify the column types or set `show_col_types = FALSE` to quiet this message.\n"
     ]
    }
   ],
   "source": [
    "data <- read_csv(file_data)\n"
   ]
  },
  {
   "cell_type": "markdown",
   "metadata": {},
   "source": [
    "<font color='tomato'>Visualizo los datos.</font>"
   ]
  },
  {
   "cell_type": "markdown",
   "metadata": {},
   "source": [
    "Estructura de  los datos:"
   ]
  },
  {
   "cell_type": "code",
   "execution_count": 8,
   "metadata": {
    "vscode": {
     "languageId": "r"
    }
   },
   "outputs": [
    {
     "name": "stdout",
     "output_type": "stream",
     "text": [
      "Rows: 50,294\n",
      "Columns: 8\n",
      "$ mes           \u001b[3m\u001b[90m<chr>\u001b[39m\u001b[23m \"2019-07\", \"2019-07\", \"2019-07\", \"2019-07\", \"2019-07\", \"…\n",
      "$ pais_orig_cod \u001b[3m\u001b[90m<chr>\u001b[39m\u001b[23m \"000\", \"010\", \"011\", \"030\", \"110\", \"121\", \"123\", \"126\", …\n",
      "$ pais_orig     \u001b[3m\u001b[90m<chr>\u001b[39m\u001b[23m \"Total\", \"Total Europa\", \"Total Unión Europea\", \"Total A…\n",
      "$ mun_dest_cod  \u001b[3m\u001b[90m<dbl>\u001b[39m\u001b[23m 28002, 28002, 28002, 28002, 28002, 28002, 28002, 28002, …\n",
      "$ mun_dest      \u001b[3m\u001b[90m<chr>\u001b[39m\u001b[23m \"Ajalvir\", \"Ajalvir\", \"Ajalvir\", \"Ajalvir\", \"Ajalvir\", \"…\n",
      "$ turistas      \u001b[3m\u001b[90m<dbl>\u001b[39m\u001b[23m 338, 290, 268, 37, 56, 54, 37, 40, 157, 116, 109, 8461, …\n",
      "$ CMUN          \u001b[3m\u001b[90m<chr>\u001b[39m\u001b[23m \"002\", \"002\", \"002\", \"002\", \"002\", \"002\", \"002\", \"002\", …\n",
      "$ Target        \u001b[3m\u001b[90m<dbl>\u001b[39m\u001b[23m 338, 290, 268, 37, 56, 54, 37, 40, 157, 116, 109, 8461, …\n"
     ]
    }
   ],
   "source": [
    "data |> glimpse()"
   ]
  },
  {
   "cell_type": "markdown",
   "metadata": {},
   "source": [
    "Muestra de los primeros datos:"
   ]
  },
  {
   "cell_type": "code",
   "execution_count": 8,
   "metadata": {
    "vscode": {
     "languageId": "r"
    }
   },
   "outputs": [
    {
     "data": {
      "text/html": [
       "<table class=\"dataframe\">\n",
       "<caption>A spec_tbl_df: 5 × 48</caption>\n",
       "<thead>\n",
       "\t<tr><th scope=col>GEOCODIGO</th><th scope=col>DESBDT</th><th scope=col>ano</th><th scope=col>semana</th><th scope=col>n_vacunas</th><th scope=col>n_citas</th><th scope=col>tmed</th><th scope=col>prec</th><th scope=col>velmedia</th><th scope=col>presMax</th><th scope=col>⋯</th><th scope=col>t8_1</th><th scope=col>t9_1</th><th scope=col>t10_1</th><th scope=col>t11_1</th><th scope=col>t12_1</th><th scope=col>area</th><th scope=col>densidad_hab_km</th><th scope=col>tuits_gripe</th><th scope=col>interes_gripe</th><th scope=col>Target</th></tr>\n",
       "\t<tr><th scope=col>&lt;chr&gt;</th><th scope=col>&lt;chr&gt;</th><th scope=col>&lt;dbl&gt;</th><th scope=col>&lt;dbl&gt;</th><th scope=col>&lt;dbl&gt;</th><th scope=col>&lt;dbl&gt;</th><th scope=col>&lt;dbl&gt;</th><th scope=col>&lt;dbl&gt;</th><th scope=col>&lt;dbl&gt;</th><th scope=col>&lt;dbl&gt;</th><th scope=col>⋯</th><th scope=col>&lt;dbl&gt;</th><th scope=col>&lt;dbl&gt;</th><th scope=col>&lt;dbl&gt;</th><th scope=col>&lt;dbl&gt;</th><th scope=col>&lt;dbl&gt;</th><th scope=col>&lt;dbl&gt;</th><th scope=col>&lt;dbl&gt;</th><th scope=col>&lt;dbl&gt;</th><th scope=col>&lt;dbl&gt;</th><th scope=col>&lt;dbl&gt;</th></tr>\n",
       "</thead>\n",
       "<tbody>\n",
       "\t<tr><td>001</td><td>Abrantes</td><td>2021</td><td>36</td><td>0</td><td>0</td><td>23.82223</td><td>-0.006302348</td><td>3.573728</td><td>940.9841</td><td>⋯</td><td>0.02880326</td><td>0.2685716</td><td>0.1665607</td><td>0.4723181</td><td>0.5637381</td><td>1571619</td><td>19007.15</td><td> 97</td><td>13</td><td>0</td></tr>\n",
       "\t<tr><td>001</td><td>Abrantes</td><td>2021</td><td>37</td><td>0</td><td>0</td><td>20.16001</td><td> 3.553725804</td><td>2.494744</td><td>940.7610</td><td>⋯</td><td>0.02880326</td><td>0.2685716</td><td>0.1665607</td><td>0.4723181</td><td>0.5637381</td><td>1571619</td><td>19007.15</td><td> 79</td><td>15</td><td>0</td></tr>\n",
       "\t<tr><td>001</td><td>Abrantes</td><td>2021</td><td>38</td><td>0</td><td>0</td><td>18.55106</td><td> 3.976905218</td><td>3.316148</td><td>943.1540</td><td>⋯</td><td>0.02880326</td><td>0.2685716</td><td>0.1665607</td><td>0.4723181</td><td>0.5637381</td><td>1571619</td><td>19007.15</td><td>112</td><td>19</td><td>0</td></tr>\n",
       "\t<tr><td>001</td><td>Abrantes</td><td>2021</td><td>39</td><td>0</td><td>0</td><td>18.81539</td><td> 1.480647232</td><td>2.384262</td><td>944.6697</td><td>⋯</td><td>0.02880326</td><td>0.2685716</td><td>0.1665607</td><td>0.4723181</td><td>0.5637381</td><td>1571619</td><td>19007.15</td><td>143</td><td>29</td><td>0</td></tr>\n",
       "\t<tr><td>001</td><td>Abrantes</td><td>2021</td><td>40</td><td>0</td><td>0</td><td>17.49447</td><td>-0.033790900</td><td>1.850839</td><td>944.2973</td><td>⋯</td><td>0.02880326</td><td>0.2685716</td><td>0.1665607</td><td>0.4723181</td><td>0.5637381</td><td>1571619</td><td>19007.15</td><td>112</td><td>38</td><td>0</td></tr>\n",
       "</tbody>\n",
       "</table>\n"
      ],
      "text/latex": [
       "A spec\\_tbl\\_df: 5 × 48\n",
       "\\begin{tabular}{lllllllllllllllllllll}\n",
       " GEOCODIGO & DESBDT & ano & semana & n\\_vacunas & n\\_citas & tmed & prec & velmedia & presMax & ⋯ & t8\\_1 & t9\\_1 & t10\\_1 & t11\\_1 & t12\\_1 & area & densidad\\_hab\\_km & tuits\\_gripe & interes\\_gripe & Target\\\\\n",
       " <chr> & <chr> & <dbl> & <dbl> & <dbl> & <dbl> & <dbl> & <dbl> & <dbl> & <dbl> & ⋯ & <dbl> & <dbl> & <dbl> & <dbl> & <dbl> & <dbl> & <dbl> & <dbl> & <dbl> & <dbl>\\\\\n",
       "\\hline\n",
       "\t 001 & Abrantes & 2021 & 36 & 0 & 0 & 23.82223 & -0.006302348 & 3.573728 & 940.9841 & ⋯ & 0.02880326 & 0.2685716 & 0.1665607 & 0.4723181 & 0.5637381 & 1571619 & 19007.15 &  97 & 13 & 0\\\\\n",
       "\t 001 & Abrantes & 2021 & 37 & 0 & 0 & 20.16001 &  3.553725804 & 2.494744 & 940.7610 & ⋯ & 0.02880326 & 0.2685716 & 0.1665607 & 0.4723181 & 0.5637381 & 1571619 & 19007.15 &  79 & 15 & 0\\\\\n",
       "\t 001 & Abrantes & 2021 & 38 & 0 & 0 & 18.55106 &  3.976905218 & 3.316148 & 943.1540 & ⋯ & 0.02880326 & 0.2685716 & 0.1665607 & 0.4723181 & 0.5637381 & 1571619 & 19007.15 & 112 & 19 & 0\\\\\n",
       "\t 001 & Abrantes & 2021 & 39 & 0 & 0 & 18.81539 &  1.480647232 & 2.384262 & 944.6697 & ⋯ & 0.02880326 & 0.2685716 & 0.1665607 & 0.4723181 & 0.5637381 & 1571619 & 19007.15 & 143 & 29 & 0\\\\\n",
       "\t 001 & Abrantes & 2021 & 40 & 0 & 0 & 17.49447 & -0.033790900 & 1.850839 & 944.2973 & ⋯ & 0.02880326 & 0.2685716 & 0.1665607 & 0.4723181 & 0.5637381 & 1571619 & 19007.15 & 112 & 38 & 0\\\\\n",
       "\\end{tabular}\n"
      ],
      "text/markdown": [
       "\n",
       "A spec_tbl_df: 5 × 48\n",
       "\n",
       "| GEOCODIGO &lt;chr&gt; | DESBDT &lt;chr&gt; | ano &lt;dbl&gt; | semana &lt;dbl&gt; | n_vacunas &lt;dbl&gt; | n_citas &lt;dbl&gt; | tmed &lt;dbl&gt; | prec &lt;dbl&gt; | velmedia &lt;dbl&gt; | presMax &lt;dbl&gt; | ⋯ ⋯ | t8_1 &lt;dbl&gt; | t9_1 &lt;dbl&gt; | t10_1 &lt;dbl&gt; | t11_1 &lt;dbl&gt; | t12_1 &lt;dbl&gt; | area &lt;dbl&gt; | densidad_hab_km &lt;dbl&gt; | tuits_gripe &lt;dbl&gt; | interes_gripe &lt;dbl&gt; | Target &lt;dbl&gt; |\n",
       "|---|---|---|---|---|---|---|---|---|---|---|---|---|---|---|---|---|---|---|---|---|\n",
       "| 001 | Abrantes | 2021 | 36 | 0 | 0 | 23.82223 | -0.006302348 | 3.573728 | 940.9841 | ⋯ | 0.02880326 | 0.2685716 | 0.1665607 | 0.4723181 | 0.5637381 | 1571619 | 19007.15 |  97 | 13 | 0 |\n",
       "| 001 | Abrantes | 2021 | 37 | 0 | 0 | 20.16001 |  3.553725804 | 2.494744 | 940.7610 | ⋯ | 0.02880326 | 0.2685716 | 0.1665607 | 0.4723181 | 0.5637381 | 1571619 | 19007.15 |  79 | 15 | 0 |\n",
       "| 001 | Abrantes | 2021 | 38 | 0 | 0 | 18.55106 |  3.976905218 | 3.316148 | 943.1540 | ⋯ | 0.02880326 | 0.2685716 | 0.1665607 | 0.4723181 | 0.5637381 | 1571619 | 19007.15 | 112 | 19 | 0 |\n",
       "| 001 | Abrantes | 2021 | 39 | 0 | 0 | 18.81539 |  1.480647232 | 2.384262 | 944.6697 | ⋯ | 0.02880326 | 0.2685716 | 0.1665607 | 0.4723181 | 0.5637381 | 1571619 | 19007.15 | 143 | 29 | 0 |\n",
       "| 001 | Abrantes | 2021 | 40 | 0 | 0 | 17.49447 | -0.033790900 | 1.850839 | 944.2973 | ⋯ | 0.02880326 | 0.2685716 | 0.1665607 | 0.4723181 | 0.5637381 | 1571619 | 19007.15 | 112 | 38 | 0 |\n",
       "\n"
      ],
      "text/plain": [
       "  GEOCODIGO DESBDT   ano  semana n_vacunas n_citas tmed     prec        \n",
       "1 001       Abrantes 2021 36     0         0       23.82223 -0.006302348\n",
       "2 001       Abrantes 2021 37     0         0       20.16001  3.553725804\n",
       "3 001       Abrantes 2021 38     0         0       18.55106  3.976905218\n",
       "4 001       Abrantes 2021 39     0         0       18.81539  1.480647232\n",
       "5 001       Abrantes 2021 40     0         0       17.49447 -0.033790900\n",
       "  velmedia presMax  ⋯ t8_1       t9_1      t10_1     t11_1     t12_1    \n",
       "1 3.573728 940.9841 ⋯ 0.02880326 0.2685716 0.1665607 0.4723181 0.5637381\n",
       "2 2.494744 940.7610 ⋯ 0.02880326 0.2685716 0.1665607 0.4723181 0.5637381\n",
       "3 3.316148 943.1540 ⋯ 0.02880326 0.2685716 0.1665607 0.4723181 0.5637381\n",
       "4 2.384262 944.6697 ⋯ 0.02880326 0.2685716 0.1665607 0.4723181 0.5637381\n",
       "5 1.850839 944.2973 ⋯ 0.02880326 0.2685716 0.1665607 0.4723181 0.5637381\n",
       "  area    densidad_hab_km tuits_gripe interes_gripe Target\n",
       "1 1571619 19007.15         97         13            0     \n",
       "2 1571619 19007.15         79         15            0     \n",
       "3 1571619 19007.15        112         19            0     \n",
       "4 1571619 19007.15        143         29            0     \n",
       "5 1571619 19007.15        112         38            0     "
      ]
     },
     "metadata": {},
     "output_type": "display_data"
    }
   ],
   "source": [
    "data |> slice_head(n = 5)"
   ]
  },
  {
   "cell_type": "markdown",
   "metadata": {
    "slideshow": {
     "slide_type": "slide"
    }
   },
   "source": [
    "## Split Rate  Evaluation"
   ]
  },
  {
   "cell_type": "markdown",
   "metadata": {},
   "source": [
    "An soft evaluation is performed in order to estimate Split Rate."
   ]
  },
  {
   "cell_type": "markdown",
   "metadata": {
    "slideshow": {
     "slide_type": "slide"
    }
   },
   "source": [
    "### Classification Rate Evaluation"
   ]
  },
  {
   "cell_type": "code",
   "execution_count": 9,
   "metadata": {
    "ExecuteTime": {
     "end_time": "2021-01-26T18:40:36.066116Z",
     "start_time": "2021-01-26T18:40:36.034876Z"
    },
    "vscode": {
     "languageId": "r"
    }
   },
   "outputs": [],
   "source": [
    "# Implementar código solo si aplica\n"
   ]
  },
  {
   "cell_type": "markdown",
   "metadata": {},
   "source": [
    "<font color='tomato'>Métricas para la Soft-Evaluation</font>"
   ]
  },
  {
   "cell_type": "code",
   "execution_count": 10,
   "metadata": {
    "vscode": {
     "languageId": "r"
    }
   },
   "outputs": [],
   "source": [
    "# Implementar código solo si aplica\n"
   ]
  },
  {
   "cell_type": "markdown",
   "metadata": {},
   "source": [
    "<font color='tomato'>Modelos para la Soft-Evaluation</font>"
   ]
  },
  {
   "cell_type": "code",
   "execution_count": 11,
   "metadata": {
    "vscode": {
     "languageId": "r"
    }
   },
   "outputs": [],
   "source": [
    "# Implementar código solo si aplica\n"
   ]
  },
  {
   "cell_type": "markdown",
   "metadata": {},
   "source": [
    "<font color='darkgrey'><b>Operation</font>"
   ]
  },
  {
   "cell_type": "code",
   "execution_count": 12,
   "metadata": {
    "vscode": {
     "languageId": "r"
    }
   },
   "outputs": [],
   "source": [
    "# Implementar código solo si aplica\n"
   ]
  },
  {
   "cell_type": "markdown",
   "metadata": {
    "slideshow": {
     "slide_type": "slide"
    }
   },
   "source": [
    "### Regression Rate Evaluation"
   ]
  },
  {
   "cell_type": "markdown",
   "metadata": {},
   "source": [
    "<font color='tomato'>Parámetros para la Soft-Evaluation</font>"
   ]
  },
  {
   "cell_type": "code",
   "execution_count": 13,
   "metadata": {
    "vscode": {
     "languageId": "r"
    }
   },
   "outputs": [],
   "source": [
    "# Implementar código solo si aplica\n"
   ]
  },
  {
   "cell_type": "markdown",
   "metadata": {},
   "source": [
    "<font color='tomato'>Métricas para la Soft-Evaluation</font>"
   ]
  },
  {
   "cell_type": "code",
   "execution_count": 14,
   "metadata": {
    "vscode": {
     "languageId": "r"
    }
   },
   "outputs": [],
   "source": [
    "# Implementar código solo si aplica\n"
   ]
  },
  {
   "cell_type": "markdown",
   "metadata": {},
   "source": [
    "<font color='tomato'>Modelos para la Soft-Evaluation</font>"
   ]
  },
  {
   "cell_type": "code",
   "execution_count": 15,
   "metadata": {
    "vscode": {
     "languageId": "r"
    }
   },
   "outputs": [],
   "source": [
    "# Implementar código solo si aplica\n"
   ]
  },
  {
   "cell_type": "markdown",
   "metadata": {},
   "source": [
    "<font color='darkgrey'><b>Operation</font>"
   ]
  },
  {
   "cell_type": "code",
   "execution_count": 16,
   "metadata": {
    "vscode": {
     "languageId": "r"
    }
   },
   "outputs": [],
   "source": [
    "# Implementar código solo si aplica\n"
   ]
  },
  {
   "cell_type": "markdown",
   "metadata": {
    "slideshow": {
     "slide_type": "slide"
    }
   },
   "source": [
    "#### Clustering Rate Evaluation"
   ]
  },
  {
   "cell_type": "markdown",
   "metadata": {},
   "source": [
    "<font color='crimson'>You do not use training and valing in unsupervised learning. There is no objective function in unsupervised learning to val the performance of the algorithm.</font>"
   ]
  },
  {
   "cell_type": "markdown",
   "metadata": {
    "slideshow": {
     "slide_type": "slide"
    }
   },
   "source": [
    "## Split Train and Test datasets"
   ]
  },
  {
   "cell_type": "markdown",
   "metadata": {},
   "source": [
    "Estimada el porcentaje de división (Rate of Split) procedemos a realiar la división correspondiente del fichero entre Train y Test."
   ]
  },
  {
   "cell_type": "markdown",
   "metadata": {},
   "source": [
    "<font color='tomato'>Parámetros para el Split</font>"
   ]
  },
  {
   "cell_type": "code",
   "execution_count": 9,
   "metadata": {
    "vscode": {
     "languageId": "r"
    }
   },
   "outputs": [],
   "source": [
    "# Set the seed for reproducibility\n",
    "set.seed(123)\n",
    "\n",
    "# Split train and test datasets\n",
    "train_ratio <- 0.8  # Adjust this value to set the proportion of data for training"
   ]
  },
  {
   "cell_type": "markdown",
   "metadata": {},
   "source": [
    "<font color='darkgrey'><b>Operation</font>"
   ]
  },
  {
   "cell_type": "code",
   "execution_count": 10,
   "metadata": {
    "vscode": {
     "languageId": "r"
    }
   },
   "outputs": [
    {
     "name": "stderr",
     "output_type": "stream",
     "text": [
      "\u001b[1m\u001b[22mJoining with `by = join_by(mes, pais_orig_cod, pais_orig, mun_dest_cod, mun_dest, turistas, CMUN, Target)`\n"
     ]
    }
   ],
   "source": [
    "# Generate the train dataset\n",
    "train_data <- data %>%\n",
    "  slice_sample(prop = train_ratio, replace = FALSE) %>%\n",
    "  mutate(is_train = TRUE)\n",
    "\n",
    "# Generate the test dataset\n",
    "test_data <- data %>%\n",
    "  anti_join(train_data)%>%\n",
    "  mutate(is_train = FALSE)"
   ]
  },
  {
   "cell_type": "markdown",
   "metadata": {},
   "source": [
    "## <font color='green'>Data Save</font>\n",
    "\n",
    "* Solo si se han hecho cambios\n",
    "\n",
    "* No aplica"
   ]
  },
  {
   "cell_type": "markdown",
   "metadata": {},
   "source": [
    "<font color='tomato'> Identificamos los datos a guardar</font>"
   ]
  },
  {
   "cell_type": "code",
   "execution_count": null,
   "metadata": {},
   "outputs": [],
   "source": []
  },
  {
   "cell_type": "code",
   "execution_count": 11,
   "metadata": {
    "vscode": {
     "languageId": "r"
    }
   },
   "outputs": [
    {
     "data": {
      "text/html": [
       "<table class=\"dataframe\">\n",
       "<caption>A tibble: 5 × 9</caption>\n",
       "<thead>\n",
       "\t<tr><th scope=col>mes</th><th scope=col>pais_orig_cod</th><th scope=col>pais_orig</th><th scope=col>mun_dest_cod</th><th scope=col>mun_dest</th><th scope=col>turistas</th><th scope=col>CMUN</th><th scope=col>Target</th><th scope=col>is_train</th></tr>\n",
       "\t<tr><th scope=col>&lt;chr&gt;</th><th scope=col>&lt;chr&gt;</th><th scope=col>&lt;chr&gt;</th><th scope=col>&lt;dbl&gt;</th><th scope=col>&lt;chr&gt;</th><th scope=col>&lt;dbl&gt;</th><th scope=col>&lt;chr&gt;</th><th scope=col>&lt;dbl&gt;</th><th scope=col>&lt;lgl&gt;</th></tr>\n",
       "</thead>\n",
       "<tbody>\n",
       "\t<tr><td>2019-08</td><td>110</td><td>Francia     </td><td>28161</td><td>Valdemoro              </td><td> 466</td><td>161</td><td> 466</td><td>TRUE</td></tr>\n",
       "\t<tr><td>2021-07</td><td>010</td><td>Total Europa</td><td>28176</td><td>Villanueva de la Cañada</td><td>1375</td><td>176</td><td>1375</td><td>TRUE</td></tr>\n",
       "\t<tr><td>2021-07</td><td>010</td><td>Total Europa</td><td>28132</td><td>San Martín de la Vega  </td><td> 465</td><td>132</td><td> 465</td><td>TRUE</td></tr>\n",
       "\t<tr><td>2022-01</td><td>000</td><td>Total       </td><td>28141</td><td>Sevilla la Nueva       </td><td>  54</td><td>141</td><td>  54</td><td>TRUE</td></tr>\n",
       "\t<tr><td>2019-08</td><td>128</td><td>Rumania     </td><td>28130</td><td>San Fernando de Henares</td><td> 135</td><td>130</td><td> 135</td><td>TRUE</td></tr>\n",
       "</tbody>\n",
       "</table>\n"
      ],
      "text/latex": [
       "A tibble: 5 × 9\n",
       "\\begin{tabular}{lllllllll}\n",
       " mes & pais\\_orig\\_cod & pais\\_orig & mun\\_dest\\_cod & mun\\_dest & turistas & CMUN & Target & is\\_train\\\\\n",
       " <chr> & <chr> & <chr> & <dbl> & <chr> & <dbl> & <chr> & <dbl> & <lgl>\\\\\n",
       "\\hline\n",
       "\t 2019-08 & 110 & Francia      & 28161 & Valdemoro               &  466 & 161 &  466 & TRUE\\\\\n",
       "\t 2021-07 & 010 & Total Europa & 28176 & Villanueva de la Cañada & 1375 & 176 & 1375 & TRUE\\\\\n",
       "\t 2021-07 & 010 & Total Europa & 28132 & San Martín de la Vega   &  465 & 132 &  465 & TRUE\\\\\n",
       "\t 2022-01 & 000 & Total        & 28141 & Sevilla la Nueva        &   54 & 141 &   54 & TRUE\\\\\n",
       "\t 2019-08 & 128 & Rumania      & 28130 & San Fernando de Henares &  135 & 130 &  135 & TRUE\\\\\n",
       "\\end{tabular}\n"
      ],
      "text/markdown": [
       "\n",
       "A tibble: 5 × 9\n",
       "\n",
       "| mes &lt;chr&gt; | pais_orig_cod &lt;chr&gt; | pais_orig &lt;chr&gt; | mun_dest_cod &lt;dbl&gt; | mun_dest &lt;chr&gt; | turistas &lt;dbl&gt; | CMUN &lt;chr&gt; | Target &lt;dbl&gt; | is_train &lt;lgl&gt; |\n",
       "|---|---|---|---|---|---|---|---|---|\n",
       "| 2019-08 | 110 | Francia      | 28161 | Valdemoro               |  466 | 161 |  466 | TRUE |\n",
       "| 2021-07 | 010 | Total Europa | 28176 | Villanueva de la Cañada | 1375 | 176 | 1375 | TRUE |\n",
       "| 2021-07 | 010 | Total Europa | 28132 | San Martín de la Vega   |  465 | 132 |  465 | TRUE |\n",
       "| 2022-01 | 000 | Total        | 28141 | Sevilla la Nueva        |   54 | 141 |   54 | TRUE |\n",
       "| 2019-08 | 128 | Rumania      | 28130 | San Fernando de Henares |  135 | 130 |  135 | TRUE |\n",
       "\n"
      ],
      "text/plain": [
       "  mes     pais_orig_cod pais_orig    mun_dest_cod mun_dest               \n",
       "1 2019-08 110           Francia      28161        Valdemoro              \n",
       "2 2021-07 010           Total Europa 28176        Villanueva de la Cañada\n",
       "3 2021-07 010           Total Europa 28132        San Martín de la Vega  \n",
       "4 2022-01 000           Total        28141        Sevilla la Nueva       \n",
       "5 2019-08 128           Rumania      28130        San Fernando de Henares\n",
       "  turistas CMUN Target is_train\n",
       "1  466     161   466   TRUE    \n",
       "2 1375     176  1375   TRUE    \n",
       "3  465     132   465   TRUE    \n",
       "4   54     141    54   TRUE    \n",
       "5  135     130   135   TRUE    "
      ]
     },
     "metadata": {},
     "output_type": "display_data"
    }
   ],
   "source": [
    "data_to_save <- rbind(train_data, test_data)\n",
    "data_to_save |> slice_head(n = 5)"
   ]
  },
  {
   "cell_type": "markdown",
   "metadata": {},
   "source": [
    "\n",
    "<font color='tomato'>Estructura de nombre de archivos:</font>\n",
    "\n",
    "* Código del caso de uso, por ejemplo \"CU_04\"\n",
    "* Número del proceso que lo genera, por ejemplo \"_06\".\n",
    "* Resto del nombre del archivo de entrada\n",
    "* Extensión del archivo\n",
    "\n",
    "Ejemplo: \"CU_04_06_01_01_zonasgeo.json, primer fichero que se genera en la tarea 01 del proceso 05 (Data Collection) para el caso de uso 04 (vacunas) y que se ha transformado en el proceso 06\n",
    "\n",
    "Importante mantener los guiones bajos antes de proceso, tarea, archivo y nombre"
   ]
  },
  {
   "attachments": {},
   "cell_type": "markdown",
   "metadata": {},
   "source": [
    "### Proceso 08"
   ]
  },
  {
   "cell_type": "code",
   "execution_count": 12,
   "metadata": {
    "vscode": {
     "languageId": "r"
    }
   },
   "outputs": [],
   "source": [
    "caso <- \"CU_45\"\n",
    "proceso <- '_08'\n",
    "tarea <- \"_03\"\n",
    "archivo <- \"\"\n",
    "proper <- \"_turismo_receptor\"\n",
    "extension <- \".csv\""
   ]
  },
  {
   "cell_type": "markdown",
   "metadata": {},
   "source": [
    "<font color='tomato'><b> OPCION A:</b> Uso del paquete \"tcltk\" para mayor comodidad</font>\n",
    "\n",
    "* Buscar carpeta, escribir nombre de archivo SIN extensión (se especifica en el código)\n",
    "* Especificar sufijo2 si es necesario\n",
    "* Cambiar datos por datos_xx si es necesario"
   ]
  },
  {
   "cell_type": "code",
   "execution_count": 13,
   "metadata": {
    "vscode": {
     "languageId": "r"
    }
   },
   "outputs": [],
   "source": [
    "# file_save <- paste0(caso, proceso, tarea, tcltk::tkgetSaveFile(), proper, extension) \n",
    "# path_out <- paste0(oPath, file_save)\n",
    "# write_csv(data_to_save_xxxxx, path_out)\n",
    "\n",
    "# cat('File saved as: ')\n",
    "# path_out"
   ]
  },
  {
   "cell_type": "markdown",
   "metadata": {},
   "source": [
    "<font color='tomato'><b> OPCION B:</b> Especificar el nombre de archivo</font>"
   ]
  },
  {
   "cell_type": "markdown",
   "metadata": {},
   "source": [
    "- Los ficheros de salida del proceso van siempre a Data/Output/.  "
   ]
  },
  {
   "cell_type": "code",
   "execution_count": 14,
   "metadata": {
    "vscode": {
     "languageId": "r"
    }
   },
   "outputs": [
    {
     "name": "stdout",
     "output_type": "stream",
     "text": [
      "File saved as: "
     ]
    },
    {
     "data": {
      "text/html": [
       "'Data/Output/CU_45_08_03_turismo_receptor.csv'"
      ],
      "text/latex": [
       "'Data/Output/CU\\_45\\_08\\_03\\_turismo\\_receptor.csv'"
      ],
      "text/markdown": [
       "'Data/Output/CU_45_08_03_turismo_receptor.csv'"
      ],
      "text/plain": [
       "[1] \"Data/Output/CU_45_08_03_turismo_receptor.csv\""
      ]
     },
     "metadata": {},
     "output_type": "display_data"
    }
   ],
   "source": [
    "file_save <- paste0(caso, proceso, tarea, archivo, proper, extension) \n",
    "path_out <- paste0(oPath, file_save)\n",
    "write_csv(data_to_save, path_out)\n",
    "\n",
    "cat('File saved as: ')\n",
    "path_out"
   ]
  },
  {
   "cell_type": "markdown",
   "metadata": {},
   "source": [
    "#### Copia del fichero a Input\n",
    "\n",
    "Si el archivo se va a usar en otros notebooks, copiar a la carpeta Input"
   ]
  },
  {
   "cell_type": "code",
   "execution_count": 15,
   "metadata": {
    "vscode": {
     "languageId": "r"
    }
   },
   "outputs": [
    {
     "data": {
      "text/html": [
       "TRUE"
      ],
      "text/latex": [
       "TRUE"
      ],
      "text/markdown": [
       "TRUE"
      ],
      "text/plain": [
       "[1] TRUE"
      ]
     },
     "metadata": {},
     "output_type": "display_data"
    }
   ],
   "source": [
    "path_in <- paste0(iPath, file_save)\n",
    "file.copy(path_out, path_in, overwrite = TRUE)"
   ]
  },
  {
   "cell_type": "markdown",
   "metadata": {
    "slideshow": {
     "slide_type": "slide"
    }
   },
   "source": [
    "## <font color='#2874a6'>REPORT</font>"
   ]
  },
  {
   "cell_type": "markdown",
   "metadata": {},
   "source": [
    "A continuación se realizará un informe de las acciones realizadas"
   ]
  },
  {
   "cell_type": "markdown",
   "metadata": {},
   "source": [
    "## <font color=' #2874a6 '>Main Actions Carried Out</font>"
   ]
  },
  {
   "attachments": {},
   "cell_type": "markdown",
   "metadata": {},
   "source": [
    "- No aplica el proceso al caso"
   ]
  },
  {
   "cell_type": "markdown",
   "metadata": {},
   "source": [
    "## <font color=' #2874a6 '>Main Conclusions</font>"
   ]
  },
  {
   "attachments": {},
   "cell_type": "markdown",
   "metadata": {},
   "source": [
    "- En este caso no se hace división de datos\n"
   ]
  },
  {
   "cell_type": "markdown",
   "metadata": {},
   "source": [
    "## <font color='RED'>CODE TO DEPLOY (PILOT)</font>\n",
    "\n",
    "A continuación se incluirá el código que deba ser llevado a despliegue para producción, dado que se entiende efectúa operaciones necesarias sobre los datos en la ejecución del prototipo"
   ]
  },
  {
   "cell_type": "markdown",
   "metadata": {},
   "source": [
    "<font color=' red '><b>Description</b></font>\n",
    "\n",
    "- No hay nada que desplegar en el piloto, ya que estos datos son estáticos o en todo caso cambian con muy poca frecuencia, altamente improbable durante el proyecto.\n"
   ]
  },
  {
   "cell_type": "markdown",
   "metadata": {},
   "source": [
    "<font color=' red '><b>CODE</b></font>"
   ]
  },
  {
   "cell_type": "code",
   "execution_count": 24,
   "metadata": {
    "vscode": {
     "languageId": "r"
    }
   },
   "outputs": [],
   "source": [
    "# incluir código"
   ]
  }
 ],
 "metadata": {
  "anaconda-cloud": {},
  "celltoolbar": "Slideshow",
  "hide_input": false,
  "kernelspec": {
   "display_name": "R",
   "language": "R",
   "name": "ir"
  },
  "language_info": {
   "codemirror_mode": "r",
   "file_extension": ".r",
   "mimetype": "text/x-r-source",
   "name": "R",
   "pygments_lexer": "r",
   "version": "4.1.2"
  },
  "latex_envs": {
   "LaTeX_envs_menu_present": true,
   "autoclose": false,
   "autocomplete": true,
   "bibliofile": "biblio.bib",
   "cite_by": "apalike",
   "current_citInitial": 1,
   "eqLabelWithNumbers": true,
   "eqNumInitial": 1,
   "hotkeys": {
    "equation": "Ctrl-E",
    "itemize": "Ctrl-I"
   },
   "labels_anchors": false,
   "latex_user_defs": false,
   "report_style_numbering": true,
   "user_envs_cfg": false
  },
  "toc": {
   "base_numbering": 1,
   "nav_menu": {
    "height": "11.6px",
    "width": "160px"
   },
   "number_sections": true,
   "sideBar": true,
   "skip_h1_title": true,
   "title_cell": "Table of Contents",
   "title_sidebar": "Contents",
   "toc_cell": true,
   "toc_position": {
    "height": "calc(100% - 180px)",
    "left": "10px",
    "top": "150px",
    "width": "165px"
   },
   "toc_section_display": true,
   "toc_window_display": true
  },
  "varInspector": {
   "cols": {
    "lenName": 16,
    "lenType": 16,
    "lenVar": 40
   },
   "kernels_config": {
    "python": {
     "delete_cmd_postfix": "",
     "delete_cmd_prefix": "del ",
     "library": "var_list.py",
     "varRefreshCmd": "print(var_dic_list())"
    },
    "r": {
     "delete_cmd_postfix": ") ",
     "delete_cmd_prefix": "rm(",
     "library": "var_list.r",
     "varRefreshCmd": "cat(var_dic_list()) "
    }
   },
   "types_to_exclude": [
    "module",
    "function",
    "builtin_function_or_method",
    "instance",
    "_Feature"
   ],
   "window_display": false
  }
 },
 "nbformat": 4,
 "nbformat_minor": 4
}
