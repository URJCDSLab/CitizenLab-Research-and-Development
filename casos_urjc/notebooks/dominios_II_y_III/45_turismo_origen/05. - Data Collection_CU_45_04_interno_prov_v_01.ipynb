{
 "cells": [
  {
   "attachments": {},
   "cell_type": "markdown",
   "metadata": {
    "slideshow": {
     "slide_type": "slide"
    }
   },
   "source": [
    "<img src=\".\\images\\Logo.png\" width=150 align=\"left\" /> <img src=\".\\images\\Logo2.jpg\" width=450 align=\"right\" />"
   ]
  },
  {
   "attachments": {},
   "cell_type": "markdown",
   "metadata": {},
   "source": [
    "\n",
    "# <center><font color= #1e8449 > <b>CU45_Planificación y promoción del destino en base a los patrones en origen de los turistas</font></center>"
   ]
  },
  {
   "attachments": {},
   "cell_type": "markdown",
   "metadata": {
    "slideshow": {
     "slide_type": "slide"
    }
   },
   "source": [
    "<font color='steelblue'><b>Citizenlab Data Science Methodology > II - Data Processing Domain </font>\n",
    "***\n",
    "> # <font color='steelblue'> <b>05.- Data Collection</font>"
   ]
  },
  {
   "attachments": {},
   "cell_type": "markdown",
   "metadata": {
    "slideshow": {
     "slide_type": "slide"
    }
   },
   "source": [
    "<font color='steelblue'>Data Collection is the process to obtain and generate (if required) necessary data to model the problem.</font>"
   ]
  },
  {
   "attachments": {},
   "cell_type": "markdown",
   "metadata": {},
   "source": [
    "### 04. Transformar datos de movimiento de turistas nacionales por provincia\n",
    "\n",
    "* Generar csv consolidado de datos de número de turistas por provincia de origen\n",
    "\n",
    "Los datos se descargan de aquí, copiados a Input:\n",
    "\n",
    "- Descarga directa de https://ine.es/dynt3/inebase/es/index.htm?padre=8578&capsel=8579\n",
    "- Archivo: 53001.csv\n",
    "\n",
    "Son datos de turistas nacionales por provincia de origen y municipio de destino a partir de los datos de antenas móviles publicados en INE\n",
    "\n",
    "Se encuentran en INEBASE pero la descarga disrecta completa no es posible por la restricción de volumen. Se puede a futuro automatizar\n",
    "\n",
    "\n",
    "\n",
    "\n",
    "\n",
    "\n",
    "\n"
   ]
  },
  {
   "cell_type": "code",
   "execution_count": 1,
   "metadata": {
    "vscode": {
     "languageId": "r"
    }
   },
   "outputs": [],
   "source": [
    "## 53001: Número de turistas mensuales por CCAA y provincia de origen desagregados por municipio de destino\n",
    "# t <- 53001\n",
    "# groups_id <- get_tables(t, resource = \"group\")\n",
    "# groups_id\n",
    "# s <- get_tables(t, resource = \"data\")\n",
    "# > s\n",
    "# $status\n",
    "# [1] \"No puede mostrarse por restricciones de volumen\""
   ]
  },
  {
   "attachments": {},
   "cell_type": "markdown",
   "metadata": {
    "toc": true
   },
   "source": [
    "<h1>Table of Contents<span class=\"tocSkip\"></span></h1>\n",
    "<div class=\"toc\"><ul class=\"toc-item\"><li><span><a href=\"#Settings\" data-toc-modified-id=\"Settings-1\"><font color=\"green\">Settings</font></a></span></li><li><span><a href=\"#Data-Load\" data-toc-modified-id=\"Data-Load-2\"><font color=\"green\">Data Load</font></a></span></li><li><span><a href=\"#ETL-Processes\" data-toc-modified-id=\"ETL-Processes-3\">ETL Processes</a></span><ul class=\"toc-item\"><li><span><a href=\"#Import-data-from:-CSV,-Excel,-Tab,-JSON,-SQL,-and-Parquet-files\" data-toc-modified-id=\"Import-data-from:-CSV,-Excel,-Tab,-JSON,-SQL,-and-Parquet-files-3.1\">Import data from: CSV, Excel, Tab, JSON, SQL, and Parquet files</a></span></li></ul></li><li><span><a href=\"#Synthetic-Data-Generation\" data-toc-modified-id=\"Synthetic-Data-Generation-4\">Synthetic Data Generation</a></span></li><li><span><a href=\"#Fake-Data-Generation\" data-toc-modified-id=\"Fake-Data-Generation-5\">Fake Data Generation</a></span></li><li><span><a href=\"#Open-Data\" data-toc-modified-id=\"Open-Data-6\">Open Data</a></span></li><li><span><a href=\"#Data-Save\" data-toc-modified-id=\"Data-Save-7\"><font color=\"green\">Data Save</font></a></span></li><li><span><a href=\"#Main-Conclusions\" data-toc-modified-id=\"Main-Conclusions-8\"><font color=\" #2874a6 \">Main Conclusions</font></a></span></li><li><span><a href=\"#Main-Actions\" data-toc-modified-id=\"Main-Actions-9\"><font color=\" #2874a6 \">Main Actions</font></a></span><ul class=\"toc-item\"><li><ul class=\"toc-item\"><li><span><a href=\"#Acciones-done\" data-toc-modified-id=\"Acciones-done-9.0.1\"><font color=\" #2874a6 \">Acciones done</font></a></span></li><li><span><a href=\"#Acctions-to-perform\" data-toc-modified-id=\"Acctions-to-perform-9.0.2\"><font color=\" #2874a6 \">Acctions to perform</font></a></span></li></ul></li></ul></li></ul></div>"
   ]
  },
  {
   "attachments": {},
   "cell_type": "markdown",
   "metadata": {
    "slideshow": {
     "slide_type": "slide"
    }
   },
   "source": [
    "## <font color='green'>Settings</font>"
   ]
  },
  {
   "attachments": {},
   "cell_type": "markdown",
   "metadata": {},
   "source": [
    "### Encoding\n",
    "\n",
    "Con la siguiente expresión se evitan problemas con el encoding al ejecutar el notebook. Es posible que deba ser eliminada o adaptada a la máquina en la que se ejecute el código."
   ]
  },
  {
   "cell_type": "code",
   "execution_count": 2,
   "metadata": {
    "vscode": {
     "languageId": "r"
    }
   },
   "outputs": [
    {
     "data": {
      "text/html": [
       "'es_ES.UTF-8/es_ES.UTF-8/es_ES.UTF-8/C/es_ES.UTF-8/C'"
      ],
      "text/latex": [
       "'es\\_ES.UTF-8/es\\_ES.UTF-8/es\\_ES.UTF-8/C/es\\_ES.UTF-8/C'"
      ],
      "text/markdown": [
       "'es_ES.UTF-8/es_ES.UTF-8/es_ES.UTF-8/C/es_ES.UTF-8/C'"
      ],
      "text/plain": [
       "[1] \"es_ES.UTF-8/es_ES.UTF-8/es_ES.UTF-8/C/es_ES.UTF-8/C\""
      ]
     },
     "metadata": {},
     "output_type": "display_data"
    }
   ],
   "source": [
    "Sys.setlocale(category = \"LC_ALL\", locale = \"es_ES.UTF-8\")"
   ]
  },
  {
   "attachments": {},
   "cell_type": "markdown",
   "metadata": {},
   "source": [
    "### Packages to use\n",
    "\n",
    "\n",
    "- {tcltk} para selección interactiva de archivos locales\n",
    "- {mapSpain} para obtener datos de municipios\n",
    "- {readr} para leer y escribir archivos csv\n",
    "- {dplyr} para explorar datos\n"
   ]
  },
  {
   "cell_type": "code",
   "execution_count": 3,
   "metadata": {
    "ExecuteTime": {
     "end_time": "2021-12-03T15:23:33.762841Z",
     "start_time": "2021-12-03T15:23:08.580267Z"
    },
    "slideshow": {
     "slide_type": "subslide"
    },
    "vscode": {
     "languageId": "r"
    }
   },
   "outputs": [
    {
     "name": "stderr",
     "output_type": "stream",
     "text": [
      "\n",
      "Attaching package: ‘dplyr’\n",
      "\n",
      "\n",
      "The following objects are masked from ‘package:stats’:\n",
      "\n",
      "    filter, lag\n",
      "\n",
      "\n",
      "The following objects are masked from ‘package:base’:\n",
      "\n",
      "    intersect, setdiff, setequal, union\n",
      "\n",
      "\n"
     ]
    }
   ],
   "source": [
    "library(readr)\n",
    "library(mapSpain)\n",
    "library(dplyr)\n",
    "library(stringr)\n",
    "\n",
    "\n"
   ]
  },
  {
   "attachments": {},
   "cell_type": "markdown",
   "metadata": {},
   "source": [
    "### Paths"
   ]
  },
  {
   "cell_type": "code",
   "execution_count": 4,
   "metadata": {
    "vscode": {
     "languageId": "r"
    }
   },
   "outputs": [],
   "source": [
    "iPath <- \"Data/Input/\"\n",
    "oPath <- \"Data/Output/\""
   ]
  },
  {
   "attachments": {},
   "cell_type": "markdown",
   "metadata": {
    "slideshow": {
     "slide_type": "slide"
    }
   },
   "source": [
    "## <font color='green'>Data Load</font>\n",
    "\n",
    "If there are more than one input file, make as many sections as files to import."
   ]
  },
  {
   "attachments": {},
   "cell_type": "markdown",
   "metadata": {},
   "source": [
    "Instrucciones\n",
    "- Los ficheros de entrada del proceso están siempre en Data/Input/.   \n",
    "- Si hay más de un fichero de entrada, se crean tantos objetos iFile_xx y file_data_xx como ficheros de entrada (xx número correlativo con dos dígitos, rellenar con ceros a la izquierda)"
   ]
  },
  {
   "attachments": {},
   "cell_type": "markdown",
   "metadata": {},
   "source": [
    "<font color='tomato'><b> OPCION A:</b> Seleccionar fichero en ventana para mayor comodidad</font> "
   ]
  },
  {
   "attachments": {},
   "cell_type": "markdown",
   "metadata": {},
   "source": [
    "Data load using the {tcltk} package. Ucomment the line if not using this option"
   ]
  },
  {
   "cell_type": "code",
   "execution_count": 5,
   "metadata": {
    "vscode": {
     "languageId": "r"
    }
   },
   "outputs": [],
   "source": [
    "# file_data <- tcltk::tk_choose.files(multi = FALSE)"
   ]
  },
  {
   "attachments": {},
   "cell_type": "markdown",
   "metadata": {},
   "source": [
    "<font color='tomato'><b> OPCION B:</b> Especificar el nombre de archivo</font>\n",
    "\n"
   ]
  },
  {
   "cell_type": "code",
   "execution_count": 6,
   "metadata": {
    "vscode": {
     "languageId": "r"
    }
   },
   "outputs": [
    {
     "name": "stdout",
     "output_type": "stream",
     "text": [
      "Se leerán datos del archivo:  Data/Input/53001.csv"
     ]
    }
   ],
   "source": [
    "iFile <- \"53001.csv\"\n",
    "file_data <- paste0(iPath, iFile)\n",
    "\n",
    "if(file.exists(file_data)){\n",
    "    cat(\"Se leerán datos del archivo: \", file_data)\n",
    "} else{\n",
    "    warning(\"Cuidado: el archivo no existe.\")\n",
    "}\n"
   ]
  },
  {
   "attachments": {},
   "cell_type": "markdown",
   "metadata": {},
   "source": [
    "#### Data file to dataframe\n",
    "\n",
    "Usar la función adecuada según el formato de entrada (xlsx, csv, json, ...)"
   ]
  },
  {
   "cell_type": "code",
   "execution_count": 7,
   "metadata": {
    "vscode": {
     "languageId": "r"
    }
   },
   "outputs": [],
   "source": [
    "data_01 <- read_delim(file_data, delim = \";\", \n",
    "                     skip = 1,\n",
    "                     escape_double = FALSE, trim_ws = TRUE,\n",
    "                     col_types = \"cccc-cc\",\n",
    "                     col_names = c(\"total_nacional\", \"total_ccaa\", \"provincia\", \"municipio_destino\",\n",
    "                        \"periodo\", \"turistas\"))\n"
   ]
  },
  {
   "attachments": {},
   "cell_type": "markdown",
   "metadata": {},
   "source": [
    "Estructura de  los datos:"
   ]
  },
  {
   "cell_type": "code",
   "execution_count": 8,
   "metadata": {
    "vscode": {
     "languageId": "r"
    }
   },
   "outputs": [
    {
     "name": "stdout",
     "output_type": "stream",
     "text": [
      "Rows: 23,420,160\n",
      "Columns: 6\n",
      "$ total_nacional    \u001b[3m\u001b[90m<chr>\u001b[39m\u001b[23m \"Total Nacional\", \"Total Nacional\", \"Total Nacional\"…\n",
      "$ total_ccaa        \u001b[3m\u001b[90m<chr>\u001b[39m\u001b[23m NA, NA, NA, NA, NA, NA, NA, NA, NA, NA, NA, NA, NA, …\n",
      "$ provincia         \u001b[3m\u001b[90m<chr>\u001b[39m\u001b[23m NA, NA, NA, NA, NA, NA, NA, NA, NA, NA, NA, NA, NA, …\n",
      "$ municipio_destino \u001b[3m\u001b[90m<chr>\u001b[39m\u001b[23m \"Ababuj\", \"Ababuj\", \"Ababuj\", \"Ababuj\", \"Ababuj\", \"A…\n",
      "$ periodo           \u001b[3m\u001b[90m<chr>\u001b[39m\u001b[23m \"2022M10\", \"2022M09\", \"2022M08\", \"2022M07\", \"2022M06…\n",
      "$ turistas          \u001b[3m\u001b[90m<chr>\u001b[39m\u001b[23m \"46\", \"74\", \"237\", \"118\", \"148\", \"86\", \"192\", \"48\", …\n"
     ]
    }
   ],
   "source": [
    "data_01 |> glimpse()"
   ]
  },
  {
   "attachments": {},
   "cell_type": "markdown",
   "metadata": {},
   "source": [
    "Muestra de datos:"
   ]
  },
  {
   "cell_type": "code",
   "execution_count": 9,
   "metadata": {
    "vscode": {
     "languageId": "r"
    }
   },
   "outputs": [
    {
     "data": {
      "text/html": [
       "<table class=\"dataframe\">\n",
       "<caption>A spec_tbl_df: 5 x 6</caption>\n",
       "<thead>\n",
       "\t<tr><th scope=col>total_nacional</th><th scope=col>total_ccaa</th><th scope=col>provincia</th><th scope=col>municipio_destino</th><th scope=col>periodo</th><th scope=col>turistas</th></tr>\n",
       "\t<tr><th scope=col>&lt;chr&gt;</th><th scope=col>&lt;chr&gt;</th><th scope=col>&lt;chr&gt;</th><th scope=col>&lt;chr&gt;</th><th scope=col>&lt;chr&gt;</th><th scope=col>&lt;chr&gt;</th></tr>\n",
       "</thead>\n",
       "<tbody>\n",
       "\t<tr><td>Total Nacional</td><td>NA</td><td>NA</td><td>Ababuj</td><td>2022M10</td><td>46 </td></tr>\n",
       "\t<tr><td>Total Nacional</td><td>NA</td><td>NA</td><td>Ababuj</td><td>2022M09</td><td>74 </td></tr>\n",
       "\t<tr><td>Total Nacional</td><td>NA</td><td>NA</td><td>Ababuj</td><td>2022M08</td><td>237</td></tr>\n",
       "\t<tr><td>Total Nacional</td><td>NA</td><td>NA</td><td>Ababuj</td><td>2022M07</td><td>118</td></tr>\n",
       "\t<tr><td>Total Nacional</td><td>NA</td><td>NA</td><td>Ababuj</td><td>2022M06</td><td>148</td></tr>\n",
       "</tbody>\n",
       "</table>\n"
      ],
      "text/latex": [
       "A spec\\_tbl\\_df: 5 x 6\n",
       "\\begin{tabular}{llllll}\n",
       " total\\_nacional & total\\_ccaa & provincia & municipio\\_destino & periodo & turistas\\\\\n",
       " <chr> & <chr> & <chr> & <chr> & <chr> & <chr>\\\\\n",
       "\\hline\n",
       "\t Total Nacional & NA & NA & Ababuj & 2022M10 & 46 \\\\\n",
       "\t Total Nacional & NA & NA & Ababuj & 2022M09 & 74 \\\\\n",
       "\t Total Nacional & NA & NA & Ababuj & 2022M08 & 237\\\\\n",
       "\t Total Nacional & NA & NA & Ababuj & 2022M07 & 118\\\\\n",
       "\t Total Nacional & NA & NA & Ababuj & 2022M06 & 148\\\\\n",
       "\\end{tabular}\n"
      ],
      "text/markdown": [
       "\n",
       "A spec_tbl_df: 5 x 6\n",
       "\n",
       "| total_nacional &lt;chr&gt; | total_ccaa &lt;chr&gt; | provincia &lt;chr&gt; | municipio_destino &lt;chr&gt; | periodo &lt;chr&gt; | turistas &lt;chr&gt; |\n",
       "|---|---|---|---|---|---|\n",
       "| Total Nacional | NA | NA | Ababuj | 2022M10 | 46  |\n",
       "| Total Nacional | NA | NA | Ababuj | 2022M09 | 74  |\n",
       "| Total Nacional | NA | NA | Ababuj | 2022M08 | 237 |\n",
       "| Total Nacional | NA | NA | Ababuj | 2022M07 | 118 |\n",
       "| Total Nacional | NA | NA | Ababuj | 2022M06 | 148 |\n",
       "\n"
      ],
      "text/plain": [
       "  total_nacional total_ccaa provincia municipio_destino periodo turistas\n",
       "1 Total Nacional NA         NA        Ababuj            2022M10 46      \n",
       "2 Total Nacional NA         NA        Ababuj            2022M09 74      \n",
       "3 Total Nacional NA         NA        Ababuj            2022M08 237     \n",
       "4 Total Nacional NA         NA        Ababuj            2022M07 118     \n",
       "5 Total Nacional NA         NA        Ababuj            2022M06 148     "
      ]
     },
     "metadata": {},
     "output_type": "display_data"
    }
   ],
   "source": [
    "data_01 |> slice_head(n = 5)"
   ]
  },
  {
   "attachments": {},
   "cell_type": "markdown",
   "metadata": {
    "slideshow": {
     "slide_type": "slide"
    }
   },
   "source": [
    "## Open Data"
   ]
  },
  {
   "attachments": {},
   "cell_type": "markdown",
   "metadata": {
    "slideshow": {
     "slide_type": "slide"
    }
   },
   "source": [
    "Datos de municipios de {mapSpain} para obtener los códigos"
   ]
  },
  {
   "cell_type": "code",
   "execution_count": 10,
   "metadata": {
    "vscode": {
     "languageId": "r"
    }
   },
   "outputs": [],
   "source": [
    "data_02 <- esp_get_munic()"
   ]
  },
  {
   "cell_type": "code",
   "execution_count": 11,
   "metadata": {
    "vscode": {
     "languageId": "r"
    }
   },
   "outputs": [
    {
     "name": "stdout",
     "output_type": "stream",
     "text": [
      "Rows: 8,131\n",
      "Columns: 8\n",
      "$ codauto       \u001b[3m\u001b[90m<chr>\u001b[39m\u001b[23m \"01\", \"01\", \"01\", \"01\", \"01\", \"01\", \"01\", \"01\", \"01\", \"0…\n",
      "$ ine.ccaa.name \u001b[3m\u001b[90m<chr>\u001b[39m\u001b[23m \"Andalucía\", \"Andalucía\", \"Andalucía\", \"Andalucía\", \"And…\n",
      "$ cpro          \u001b[3m\u001b[90m<chr>\u001b[39m\u001b[23m \"04\", \"04\", \"04\", \"04\", \"04\", \"04\", \"04\", \"04\", \"04\", \"0…\n",
      "$ ine.prov.name \u001b[3m\u001b[90m<chr>\u001b[39m\u001b[23m \"Almería\", \"Almería\", \"Almería\", \"Almería\", \"Almería\", \"…\n",
      "$ cmun          \u001b[3m\u001b[90m<chr>\u001b[39m\u001b[23m \"001\", \"002\", \"003\", \"004\", \"005\", \"006\", \"007\", \"008\", …\n",
      "$ name          \u001b[3m\u001b[90m<chr>\u001b[39m\u001b[23m \"Abla\", \"Abrucena\", \"Adra\", \"Albánchez\", \"Alboloduy\", \"A…\n",
      "$ LAU_CODE      \u001b[3m\u001b[90m<chr>\u001b[39m\u001b[23m \"04001\", \"04002\", \"04003\", \"04004\", \"04005\", \"04006\", \"0…\n",
      "$ geometry      \u001b[3m\u001b[90m<GEOMETRY [°]>\u001b[39m\u001b[23m POLYGON ((-2.77744 37.23836..., POLYGON ((-2.88…\n"
     ]
    }
   ],
   "source": [
    "data_02 |> glimpse()"
   ]
  },
  {
   "cell_type": "code",
   "execution_count": 12,
   "metadata": {
    "vscode": {
     "languageId": "r"
    }
   },
   "outputs": [
    {
     "data": {
      "text/html": [
       "<table class=\"dataframe\">\n",
       "<caption>A tibble: 51 x 8</caption>\n",
       "<thead>\n",
       "\t<tr><th scope=col>codauto</th><th scope=col>ine.ccaa.name</th><th scope=col>cpro</th><th scope=col>ine.prov.name</th><th scope=col>cmun</th><th scope=col>name</th><th scope=col>LAU_CODE</th><th scope=col>geometry</th></tr>\n",
       "\t<tr><th scope=col>&lt;chr&gt;</th><th scope=col>&lt;chr&gt;</th><th scope=col>&lt;chr&gt;</th><th scope=col>&lt;chr&gt;</th><th scope=col>&lt;chr&gt;</th><th scope=col>&lt;chr&gt;</th><th scope=col>&lt;chr&gt;</th><th scope=col>&lt;GEOMETRY [°]&gt;</th></tr>\n",
       "</thead>\n",
       "<tbody>\n",
       "\t<tr><td>16</td><td>País Vasco</td><td>01</td><td>Araba/Álava</td><td>001</td><td>Alegría-Dulantzi                </td><td>01001</td><td>MULTIPOLYGON (((-2.52635 42...</td></tr>\n",
       "\t<tr><td>16</td><td>País Vasco</td><td>01</td><td>Araba/Álava</td><td>002</td><td>Amurrio                         </td><td>01002</td><td>MULTIPOLYGON (((-3.01858 43...</td></tr>\n",
       "\t<tr><td>16</td><td>País Vasco</td><td>01</td><td>Araba/Álava</td><td>003</td><td>Aramaio                         </td><td>01003</td><td>POLYGON ((-2.54726 43.08767...</td></tr>\n",
       "\t<tr><td>16</td><td>País Vasco</td><td>01</td><td>Araba/Álava</td><td>004</td><td>Artziniega                      </td><td>01004</td><td>POLYGON ((-3.13397 43.09718...</td></tr>\n",
       "\t<tr><td>16</td><td>País Vasco</td><td>01</td><td>Araba/Álava</td><td>006</td><td>Armiñón                         </td><td>01006</td><td>MULTIPOLYGON (((-2.88106 42...</td></tr>\n",
       "\t<tr><td>16</td><td>País Vasco</td><td>01</td><td>Araba/Álava</td><td>008</td><td>Arratzua-Ubarrundia             </td><td>01008</td><td>MULTIPOLYGON (((-2.55119 42...</td></tr>\n",
       "\t<tr><td>16</td><td>País Vasco</td><td>01</td><td>Araba/Álava</td><td>009</td><td>Asparrena                       </td><td>01009</td><td>MULTIPOLYGON (((-2.33746 42...</td></tr>\n",
       "\t<tr><td>16</td><td>País Vasco</td><td>01</td><td>Araba/Álava</td><td>010</td><td>Ayala / Aiara                   </td><td>01010</td><td>POLYGON ((-3.10886 43.14327...</td></tr>\n",
       "\t<tr><td>16</td><td>País Vasco</td><td>01</td><td>Araba/Álava</td><td>011</td><td>Baños de Ebro / Mañueta         </td><td>01011</td><td>POLYGON ((-2.69913 42.52747...</td></tr>\n",
       "\t<tr><td>16</td><td>País Vasco</td><td>01</td><td>Araba/Álava</td><td>013</td><td>Barrundia                       </td><td>01013</td><td>POLYGON ((-2.56181 42.89532...</td></tr>\n",
       "\t<tr><td>16</td><td>País Vasco</td><td>01</td><td>Araba/Álava</td><td>014</td><td>Berantevilla                    </td><td>01014</td><td>MULTIPOLYGON (((-2.76792 42...</td></tr>\n",
       "\t<tr><td>16</td><td>País Vasco</td><td>01</td><td>Araba/Álava</td><td>016</td><td>Bernedo                         </td><td>01016</td><td>POLYGON ((-2.54584 42.78551...</td></tr>\n",
       "\t<tr><td>16</td><td>País Vasco</td><td>01</td><td>Araba/Álava</td><td>017</td><td>Campezo / Kanpezu               </td><td>01017</td><td>POLYGON ((-2.37782 42.732, ...</td></tr>\n",
       "\t<tr><td>16</td><td>País Vasco</td><td>01</td><td>Araba/Álava</td><td>018</td><td>Zigoitia                        </td><td>01018</td><td>POLYGON ((-2.68147 42.96138...</td></tr>\n",
       "\t<tr><td>16</td><td>País Vasco</td><td>01</td><td>Araba/Álava</td><td>019</td><td>Kripan                          </td><td>01019</td><td>POLYGON ((-2.52307 42.5704,...</td></tr>\n",
       "\t<tr><td>16</td><td>País Vasco</td><td>01</td><td>Araba/Álava</td><td>020</td><td>Kuartango                       </td><td>01020</td><td>POLYGON ((-2.88567 42.84159...</td></tr>\n",
       "\t<tr><td>16</td><td>País Vasco</td><td>01</td><td>Araba/Álava</td><td>021</td><td>Elburgo / Burgelu               </td><td>01021</td><td>MULTIPOLYGON (((-2.57807 42...</td></tr>\n",
       "\t<tr><td>16</td><td>País Vasco</td><td>01</td><td>Araba/Álava</td><td>022</td><td>Elciego                         </td><td>01022</td><td>POLYGON ((-2.64068 42.52067...</td></tr>\n",
       "\t<tr><td>16</td><td>País Vasco</td><td>01</td><td>Araba/Álava</td><td>023</td><td>Elvillar / Bilar                </td><td>01023</td><td>POLYGON ((-2.53257 42.58844...</td></tr>\n",
       "\t<tr><td>16</td><td>País Vasco</td><td>01</td><td>Araba/Álava</td><td>027</td><td>Iruraiz-Gauna                   </td><td>01027</td><td>MULTIPOLYGON (((-2.49373 42...</td></tr>\n",
       "\t<tr><td>16</td><td>País Vasco</td><td>01</td><td>Araba/Álava</td><td>028</td><td>Labastida / Bastida             </td><td>01028</td><td>POLYGON ((-2.7659 42.62012,...</td></tr>\n",
       "\t<tr><td>16</td><td>País Vasco</td><td>01</td><td>Araba/Álava</td><td>030</td><td>Lagrán                          </td><td>01030</td><td>POLYGON ((-2.6187 42.64859,...</td></tr>\n",
       "\t<tr><td>16</td><td>País Vasco</td><td>01</td><td>Araba/Álava</td><td>031</td><td>Laguardia                       </td><td>01031</td><td>MULTIPOLYGON (((-2.66732 42...</td></tr>\n",
       "\t<tr><td>16</td><td>País Vasco</td><td>01</td><td>Araba/Álava</td><td>032</td><td>Lanciego / Lantziego            </td><td>01032</td><td>POLYGON ((-2.51395 42.51823...</td></tr>\n",
       "\t<tr><td>16</td><td>País Vasco</td><td>01</td><td>Araba/Álava</td><td>033</td><td>Lapuebla de Labarca             </td><td>01033</td><td>POLYGON ((-2.54893 42.48445...</td></tr>\n",
       "\t<tr><td>16</td><td>País Vasco</td><td>01</td><td>Araba/Álava</td><td>034</td><td>Leza                            </td><td>01034</td><td>POLYGON ((-2.65546 42.56108...</td></tr>\n",
       "\t<tr><td>16</td><td>País Vasco</td><td>01</td><td>Araba/Álava</td><td>036</td><td>Laudio / Llodio                 </td><td>01036</td><td>POLYGON ((-2.93885 43.14529...</td></tr>\n",
       "\t<tr><td>16</td><td>País Vasco</td><td>01</td><td>Araba/Álava</td><td>037</td><td>Arraia-Maeztu                   </td><td>01037</td><td>POLYGON ((-2.40907 42.80637...</td></tr>\n",
       "\t<tr><td>16</td><td>País Vasco</td><td>01</td><td>Araba/Álava</td><td>039</td><td>Moreda de Álava / Moreda Araba  </td><td>01039</td><td>POLYGON ((-2.42208 42.51169...</td></tr>\n",
       "\t<tr><td>16</td><td>País Vasco</td><td>01</td><td>Araba/Álava</td><td>041</td><td>Navaridas                       </td><td>01041</td><td>POLYGON ((-2.61668 42.55438...</td></tr>\n",
       "\t<tr><td>16</td><td>País Vasco</td><td>01</td><td>Araba/Álava</td><td>042</td><td>Okondo                          </td><td>01042</td><td>POLYGON ((-3.07474 43.1463,...</td></tr>\n",
       "\t<tr><td>16</td><td>País Vasco</td><td>01</td><td>Araba/Álava</td><td>043</td><td>Oyón-Oion                       </td><td>01043</td><td>POLYGON ((-2.42208 42.51169...</td></tr>\n",
       "\t<tr><td>16</td><td>País Vasco</td><td>01</td><td>Araba/Álava</td><td>044</td><td>Peñacerrada-Urizaharra          </td><td>01044</td><td>POLYGON ((-2.73771 42.66308...</td></tr>\n",
       "\t<tr><td>16</td><td>País Vasco</td><td>01</td><td>Araba/Álava</td><td>046</td><td>Erriberagoitia / Ribera Alta    </td><td>01046</td><td>MULTIPOLYGON (((-2.98547 42...</td></tr>\n",
       "\t<tr><td>16</td><td>País Vasco</td><td>01</td><td>Araba/Álava</td><td>047</td><td>Ribera Baja / Erribera Beitia   </td><td>01047</td><td>POLYGON ((-2.94704 42.70961...</td></tr>\n",
       "\t<tr><td>16</td><td>País Vasco</td><td>01</td><td>Araba/Álava</td><td>049</td><td>Añana                           </td><td>01049</td><td>POLYGON ((-3.00923 42.84099...</td></tr>\n",
       "\t<tr><td>16</td><td>País Vasco</td><td>01</td><td>Araba/Álava</td><td>051</td><td>Agurain / Salvatierra           </td><td>01051</td><td>MULTIPOLYGON (((-2.36932 42...</td></tr>\n",
       "\t<tr><td>16</td><td>País Vasco</td><td>01</td><td>Araba/Álava</td><td>052</td><td>Samaniego                       </td><td>01052</td><td>POLYGON ((-2.65546 42.56108...</td></tr>\n",
       "\t<tr><td>16</td><td>País Vasco</td><td>01</td><td>Araba/Álava</td><td>053</td><td>San Millán / Donemiliaga        </td><td>01053</td><td>MULTIPOLYGON (((-2.33904 42...</td></tr>\n",
       "\t<tr><td>16</td><td>País Vasco</td><td>01</td><td>Araba/Álava</td><td>054</td><td>Urkabustaiz                     </td><td>01054</td><td>POLYGON ((-2.91485 43.02057...</td></tr>\n",
       "\t<tr><td>16</td><td>País Vasco</td><td>01</td><td>Araba/Álava</td><td>055</td><td>Valdegovía / Gaubea             </td><td>01055</td><td>POLYGON ((-3.01617 42.91051...</td></tr>\n",
       "\t<tr><td>16</td><td>País Vasco</td><td>01</td><td>Araba/Álava</td><td>056</td><td>Harana / Valle de Arana         </td><td>01056</td><td>POLYGON ((-2.37782 42.732, ...</td></tr>\n",
       "\t<tr><td>16</td><td>País Vasco</td><td>01</td><td>Araba/Álava</td><td>057</td><td>Villabuena de Álava / Eskuernaga</td><td>01057</td><td>POLYGON ((-2.68613 42.54497...</td></tr>\n",
       "\t<tr><td>16</td><td>País Vasco</td><td>01</td><td>Araba/Álava</td><td>058</td><td>Legutio                         </td><td>01058</td><td>POLYGON ((-2.63362 43.01991...</td></tr>\n",
       "\t<tr><td>16</td><td>País Vasco</td><td>01</td><td>Araba/Álava</td><td>059</td><td>Vitoria-Gasteiz                 </td><td>01059</td><td>POLYGON ((-2.5803 42.90809,...</td></tr>\n",
       "\t<tr><td>16</td><td>País Vasco</td><td>01</td><td>Araba/Álava</td><td>060</td><td>Yécora / Iekora                 </td><td>01060</td><td>POLYGON ((-2.48363 42.51956...</td></tr>\n",
       "\t<tr><td>16</td><td>País Vasco</td><td>01</td><td>Araba/Álava</td><td>061</td><td>Zalduondo                       </td><td>01061</td><td>POLYGON ((-2.32299 42.93156...</td></tr>\n",
       "\t<tr><td>16</td><td>País Vasco</td><td>01</td><td>Araba/Álava</td><td>062</td><td>Zambrana                        </td><td>01062</td><td>POLYGON ((-2.76792 42.66597...</td></tr>\n",
       "\t<tr><td>16</td><td>País Vasco</td><td>01</td><td>Araba/Álava</td><td>063</td><td>Zuia                            </td><td>01063</td><td>POLYGON ((-2.89032 43.04579...</td></tr>\n",
       "\t<tr><td>16</td><td>País Vasco</td><td>01</td><td>Araba/Álava</td><td>901</td><td>Iruña Oka / Iruña de Oca        </td><td>01901</td><td>POLYGON ((-2.7792 42.79271,...</td></tr>\n",
       "\t<tr><td>16</td><td>País Vasco</td><td>01</td><td>Araba/Álava</td><td>902</td><td>Lantarón                        </td><td>01902</td><td>MULTIPOLYGON (((-3.04079 42...</td></tr>\n",
       "</tbody>\n",
       "</table>\n"
      ],
      "text/latex": [
       "A tibble: 51 x 8\n",
       "\\begin{tabular}{llllllll}\n",
       " codauto & ine.ccaa.name & cpro & ine.prov.name & cmun & name & LAU\\_CODE & geometry\\\\\n",
       " <chr> & <chr> & <chr> & <chr> & <chr> & <chr> & <chr> & <GEOMETRY {[}°{]}>\\\\\n",
       "\\hline\n",
       "\t 16 & País Vasco & 01 & Araba/Álava & 001 & Alegría-Dulantzi                 & 01001 & MULTIPOLYGON (((-2.52635 42...\\\\\n",
       "\t 16 & País Vasco & 01 & Araba/Álava & 002 & Amurrio                          & 01002 & MULTIPOLYGON (((-3.01858 43...\\\\\n",
       "\t 16 & País Vasco & 01 & Araba/Álava & 003 & Aramaio                          & 01003 & POLYGON ((-2.54726 43.08767...\\\\\n",
       "\t 16 & País Vasco & 01 & Araba/Álava & 004 & Artziniega                       & 01004 & POLYGON ((-3.13397 43.09718...\\\\\n",
       "\t 16 & País Vasco & 01 & Araba/Álava & 006 & Armiñón                          & 01006 & MULTIPOLYGON (((-2.88106 42...\\\\\n",
       "\t 16 & País Vasco & 01 & Araba/Álava & 008 & Arratzua-Ubarrundia              & 01008 & MULTIPOLYGON (((-2.55119 42...\\\\\n",
       "\t 16 & País Vasco & 01 & Araba/Álava & 009 & Asparrena                        & 01009 & MULTIPOLYGON (((-2.33746 42...\\\\\n",
       "\t 16 & País Vasco & 01 & Araba/Álava & 010 & Ayala / Aiara                    & 01010 & POLYGON ((-3.10886 43.14327...\\\\\n",
       "\t 16 & País Vasco & 01 & Araba/Álava & 011 & Baños de Ebro / Mañueta          & 01011 & POLYGON ((-2.69913 42.52747...\\\\\n",
       "\t 16 & País Vasco & 01 & Araba/Álava & 013 & Barrundia                        & 01013 & POLYGON ((-2.56181 42.89532...\\\\\n",
       "\t 16 & País Vasco & 01 & Araba/Álava & 014 & Berantevilla                     & 01014 & MULTIPOLYGON (((-2.76792 42...\\\\\n",
       "\t 16 & País Vasco & 01 & Araba/Álava & 016 & Bernedo                          & 01016 & POLYGON ((-2.54584 42.78551...\\\\\n",
       "\t 16 & País Vasco & 01 & Araba/Álava & 017 & Campezo / Kanpezu                & 01017 & POLYGON ((-2.37782 42.732, ...\\\\\n",
       "\t 16 & País Vasco & 01 & Araba/Álava & 018 & Zigoitia                         & 01018 & POLYGON ((-2.68147 42.96138...\\\\\n",
       "\t 16 & País Vasco & 01 & Araba/Álava & 019 & Kripan                           & 01019 & POLYGON ((-2.52307 42.5704,...\\\\\n",
       "\t 16 & País Vasco & 01 & Araba/Álava & 020 & Kuartango                        & 01020 & POLYGON ((-2.88567 42.84159...\\\\\n",
       "\t 16 & País Vasco & 01 & Araba/Álava & 021 & Elburgo / Burgelu                & 01021 & MULTIPOLYGON (((-2.57807 42...\\\\\n",
       "\t 16 & País Vasco & 01 & Araba/Álava & 022 & Elciego                          & 01022 & POLYGON ((-2.64068 42.52067...\\\\\n",
       "\t 16 & País Vasco & 01 & Araba/Álava & 023 & Elvillar / Bilar                 & 01023 & POLYGON ((-2.53257 42.58844...\\\\\n",
       "\t 16 & País Vasco & 01 & Araba/Álava & 027 & Iruraiz-Gauna                    & 01027 & MULTIPOLYGON (((-2.49373 42...\\\\\n",
       "\t 16 & País Vasco & 01 & Araba/Álava & 028 & Labastida / Bastida              & 01028 & POLYGON ((-2.7659 42.62012,...\\\\\n",
       "\t 16 & País Vasco & 01 & Araba/Álava & 030 & Lagrán                           & 01030 & POLYGON ((-2.6187 42.64859,...\\\\\n",
       "\t 16 & País Vasco & 01 & Araba/Álava & 031 & Laguardia                        & 01031 & MULTIPOLYGON (((-2.66732 42...\\\\\n",
       "\t 16 & País Vasco & 01 & Araba/Álava & 032 & Lanciego / Lantziego             & 01032 & POLYGON ((-2.51395 42.51823...\\\\\n",
       "\t 16 & País Vasco & 01 & Araba/Álava & 033 & Lapuebla de Labarca              & 01033 & POLYGON ((-2.54893 42.48445...\\\\\n",
       "\t 16 & País Vasco & 01 & Araba/Álava & 034 & Leza                             & 01034 & POLYGON ((-2.65546 42.56108...\\\\\n",
       "\t 16 & País Vasco & 01 & Araba/Álava & 036 & Laudio / Llodio                  & 01036 & POLYGON ((-2.93885 43.14529...\\\\\n",
       "\t 16 & País Vasco & 01 & Araba/Álava & 037 & Arraia-Maeztu                    & 01037 & POLYGON ((-2.40907 42.80637...\\\\\n",
       "\t 16 & País Vasco & 01 & Araba/Álava & 039 & Moreda de Álava / Moreda Araba   & 01039 & POLYGON ((-2.42208 42.51169...\\\\\n",
       "\t 16 & País Vasco & 01 & Araba/Álava & 041 & Navaridas                        & 01041 & POLYGON ((-2.61668 42.55438...\\\\\n",
       "\t 16 & País Vasco & 01 & Araba/Álava & 042 & Okondo                           & 01042 & POLYGON ((-3.07474 43.1463,...\\\\\n",
       "\t 16 & País Vasco & 01 & Araba/Álava & 043 & Oyón-Oion                        & 01043 & POLYGON ((-2.42208 42.51169...\\\\\n",
       "\t 16 & País Vasco & 01 & Araba/Álava & 044 & Peñacerrada-Urizaharra           & 01044 & POLYGON ((-2.73771 42.66308...\\\\\n",
       "\t 16 & País Vasco & 01 & Araba/Álava & 046 & Erriberagoitia / Ribera Alta     & 01046 & MULTIPOLYGON (((-2.98547 42...\\\\\n",
       "\t 16 & País Vasco & 01 & Araba/Álava & 047 & Ribera Baja / Erribera Beitia    & 01047 & POLYGON ((-2.94704 42.70961...\\\\\n",
       "\t 16 & País Vasco & 01 & Araba/Álava & 049 & Añana                            & 01049 & POLYGON ((-3.00923 42.84099...\\\\\n",
       "\t 16 & País Vasco & 01 & Araba/Álava & 051 & Agurain / Salvatierra            & 01051 & MULTIPOLYGON (((-2.36932 42...\\\\\n",
       "\t 16 & País Vasco & 01 & Araba/Álava & 052 & Samaniego                        & 01052 & POLYGON ((-2.65546 42.56108...\\\\\n",
       "\t 16 & País Vasco & 01 & Araba/Álava & 053 & San Millán / Donemiliaga         & 01053 & MULTIPOLYGON (((-2.33904 42...\\\\\n",
       "\t 16 & País Vasco & 01 & Araba/Álava & 054 & Urkabustaiz                      & 01054 & POLYGON ((-2.91485 43.02057...\\\\\n",
       "\t 16 & País Vasco & 01 & Araba/Álava & 055 & Valdegovía / Gaubea              & 01055 & POLYGON ((-3.01617 42.91051...\\\\\n",
       "\t 16 & País Vasco & 01 & Araba/Álava & 056 & Harana / Valle de Arana          & 01056 & POLYGON ((-2.37782 42.732, ...\\\\\n",
       "\t 16 & País Vasco & 01 & Araba/Álava & 057 & Villabuena de Álava / Eskuernaga & 01057 & POLYGON ((-2.68613 42.54497...\\\\\n",
       "\t 16 & País Vasco & 01 & Araba/Álava & 058 & Legutio                          & 01058 & POLYGON ((-2.63362 43.01991...\\\\\n",
       "\t 16 & País Vasco & 01 & Araba/Álava & 059 & Vitoria-Gasteiz                  & 01059 & POLYGON ((-2.5803 42.90809,...\\\\\n",
       "\t 16 & País Vasco & 01 & Araba/Álava & 060 & Yécora / Iekora                  & 01060 & POLYGON ((-2.48363 42.51956...\\\\\n",
       "\t 16 & País Vasco & 01 & Araba/Álava & 061 & Zalduondo                        & 01061 & POLYGON ((-2.32299 42.93156...\\\\\n",
       "\t 16 & País Vasco & 01 & Araba/Álava & 062 & Zambrana                         & 01062 & POLYGON ((-2.76792 42.66597...\\\\\n",
       "\t 16 & País Vasco & 01 & Araba/Álava & 063 & Zuia                             & 01063 & POLYGON ((-2.89032 43.04579...\\\\\n",
       "\t 16 & País Vasco & 01 & Araba/Álava & 901 & Iruña Oka / Iruña de Oca         & 01901 & POLYGON ((-2.7792 42.79271,...\\\\\n",
       "\t 16 & País Vasco & 01 & Araba/Álava & 902 & Lantarón                         & 01902 & MULTIPOLYGON (((-3.04079 42...\\\\\n",
       "\\end{tabular}\n"
      ],
      "text/markdown": [
       "\n",
       "A tibble: 51 x 8\n",
       "\n",
       "| codauto &lt;chr&gt; | ine.ccaa.name &lt;chr&gt; | cpro &lt;chr&gt; | ine.prov.name &lt;chr&gt; | cmun &lt;chr&gt; | name &lt;chr&gt; | LAU_CODE &lt;chr&gt; | geometry &lt;GEOMETRY [°]&gt; |\n",
       "|---|---|---|---|---|---|---|---|\n",
       "| 16 | País Vasco | 01 | Araba/Álava | 001 | Alegría-Dulantzi                 | 01001 | MULTIPOLYGON (((-2.52635 42... |\n",
       "| 16 | País Vasco | 01 | Araba/Álava | 002 | Amurrio                          | 01002 | MULTIPOLYGON (((-3.01858 43... |\n",
       "| 16 | País Vasco | 01 | Araba/Álava | 003 | Aramaio                          | 01003 | POLYGON ((-2.54726 43.08767... |\n",
       "| 16 | País Vasco | 01 | Araba/Álava | 004 | Artziniega                       | 01004 | POLYGON ((-3.13397 43.09718... |\n",
       "| 16 | País Vasco | 01 | Araba/Álava | 006 | Armiñón                          | 01006 | MULTIPOLYGON (((-2.88106 42... |\n",
       "| 16 | País Vasco | 01 | Araba/Álava | 008 | Arratzua-Ubarrundia              | 01008 | MULTIPOLYGON (((-2.55119 42... |\n",
       "| 16 | País Vasco | 01 | Araba/Álava | 009 | Asparrena                        | 01009 | MULTIPOLYGON (((-2.33746 42... |\n",
       "| 16 | País Vasco | 01 | Araba/Álava | 010 | Ayala / Aiara                    | 01010 | POLYGON ((-3.10886 43.14327... |\n",
       "| 16 | País Vasco | 01 | Araba/Álava | 011 | Baños de Ebro / Mañueta          | 01011 | POLYGON ((-2.69913 42.52747... |\n",
       "| 16 | País Vasco | 01 | Araba/Álava | 013 | Barrundia                        | 01013 | POLYGON ((-2.56181 42.89532... |\n",
       "| 16 | País Vasco | 01 | Araba/Álava | 014 | Berantevilla                     | 01014 | MULTIPOLYGON (((-2.76792 42... |\n",
       "| 16 | País Vasco | 01 | Araba/Álava | 016 | Bernedo                          | 01016 | POLYGON ((-2.54584 42.78551... |\n",
       "| 16 | País Vasco | 01 | Araba/Álava | 017 | Campezo / Kanpezu                | 01017 | POLYGON ((-2.37782 42.732, ... |\n",
       "| 16 | País Vasco | 01 | Araba/Álava | 018 | Zigoitia                         | 01018 | POLYGON ((-2.68147 42.96138... |\n",
       "| 16 | País Vasco | 01 | Araba/Álava | 019 | Kripan                           | 01019 | POLYGON ((-2.52307 42.5704,... |\n",
       "| 16 | País Vasco | 01 | Araba/Álava | 020 | Kuartango                        | 01020 | POLYGON ((-2.88567 42.84159... |\n",
       "| 16 | País Vasco | 01 | Araba/Álava | 021 | Elburgo / Burgelu                | 01021 | MULTIPOLYGON (((-2.57807 42... |\n",
       "| 16 | País Vasco | 01 | Araba/Álava | 022 | Elciego                          | 01022 | POLYGON ((-2.64068 42.52067... |\n",
       "| 16 | País Vasco | 01 | Araba/Álava | 023 | Elvillar / Bilar                 | 01023 | POLYGON ((-2.53257 42.58844... |\n",
       "| 16 | País Vasco | 01 | Araba/Álava | 027 | Iruraiz-Gauna                    | 01027 | MULTIPOLYGON (((-2.49373 42... |\n",
       "| 16 | País Vasco | 01 | Araba/Álava | 028 | Labastida / Bastida              | 01028 | POLYGON ((-2.7659 42.62012,... |\n",
       "| 16 | País Vasco | 01 | Araba/Álava | 030 | Lagrán                           | 01030 | POLYGON ((-2.6187 42.64859,... |\n",
       "| 16 | País Vasco | 01 | Araba/Álava | 031 | Laguardia                        | 01031 | MULTIPOLYGON (((-2.66732 42... |\n",
       "| 16 | País Vasco | 01 | Araba/Álava | 032 | Lanciego / Lantziego             | 01032 | POLYGON ((-2.51395 42.51823... |\n",
       "| 16 | País Vasco | 01 | Araba/Álava | 033 | Lapuebla de Labarca              | 01033 | POLYGON ((-2.54893 42.48445... |\n",
       "| 16 | País Vasco | 01 | Araba/Álava | 034 | Leza                             | 01034 | POLYGON ((-2.65546 42.56108... |\n",
       "| 16 | País Vasco | 01 | Araba/Álava | 036 | Laudio / Llodio                  | 01036 | POLYGON ((-2.93885 43.14529... |\n",
       "| 16 | País Vasco | 01 | Araba/Álava | 037 | Arraia-Maeztu                    | 01037 | POLYGON ((-2.40907 42.80637... |\n",
       "| 16 | País Vasco | 01 | Araba/Álava | 039 | Moreda de Álava / Moreda Araba   | 01039 | POLYGON ((-2.42208 42.51169... |\n",
       "| 16 | País Vasco | 01 | Araba/Álava | 041 | Navaridas                        | 01041 | POLYGON ((-2.61668 42.55438... |\n",
       "| 16 | País Vasco | 01 | Araba/Álava | 042 | Okondo                           | 01042 | POLYGON ((-3.07474 43.1463,... |\n",
       "| 16 | País Vasco | 01 | Araba/Álava | 043 | Oyón-Oion                        | 01043 | POLYGON ((-2.42208 42.51169... |\n",
       "| 16 | País Vasco | 01 | Araba/Álava | 044 | Peñacerrada-Urizaharra           | 01044 | POLYGON ((-2.73771 42.66308... |\n",
       "| 16 | País Vasco | 01 | Araba/Álava | 046 | Erriberagoitia / Ribera Alta     | 01046 | MULTIPOLYGON (((-2.98547 42... |\n",
       "| 16 | País Vasco | 01 | Araba/Álava | 047 | Ribera Baja / Erribera Beitia    | 01047 | POLYGON ((-2.94704 42.70961... |\n",
       "| 16 | País Vasco | 01 | Araba/Álava | 049 | Añana                            | 01049 | POLYGON ((-3.00923 42.84099... |\n",
       "| 16 | País Vasco | 01 | Araba/Álava | 051 | Agurain / Salvatierra            | 01051 | MULTIPOLYGON (((-2.36932 42... |\n",
       "| 16 | País Vasco | 01 | Araba/Álava | 052 | Samaniego                        | 01052 | POLYGON ((-2.65546 42.56108... |\n",
       "| 16 | País Vasco | 01 | Araba/Álava | 053 | San Millán / Donemiliaga         | 01053 | MULTIPOLYGON (((-2.33904 42... |\n",
       "| 16 | País Vasco | 01 | Araba/Álava | 054 | Urkabustaiz                      | 01054 | POLYGON ((-2.91485 43.02057... |\n",
       "| 16 | País Vasco | 01 | Araba/Álava | 055 | Valdegovía / Gaubea              | 01055 | POLYGON ((-3.01617 42.91051... |\n",
       "| 16 | País Vasco | 01 | Araba/Álava | 056 | Harana / Valle de Arana          | 01056 | POLYGON ((-2.37782 42.732, ... |\n",
       "| 16 | País Vasco | 01 | Araba/Álava | 057 | Villabuena de Álava / Eskuernaga | 01057 | POLYGON ((-2.68613 42.54497... |\n",
       "| 16 | País Vasco | 01 | Araba/Álava | 058 | Legutio                          | 01058 | POLYGON ((-2.63362 43.01991... |\n",
       "| 16 | País Vasco | 01 | Araba/Álava | 059 | Vitoria-Gasteiz                  | 01059 | POLYGON ((-2.5803 42.90809,... |\n",
       "| 16 | País Vasco | 01 | Araba/Álava | 060 | Yécora / Iekora                  | 01060 | POLYGON ((-2.48363 42.51956... |\n",
       "| 16 | País Vasco | 01 | Araba/Álava | 061 | Zalduondo                        | 01061 | POLYGON ((-2.32299 42.93156... |\n",
       "| 16 | País Vasco | 01 | Araba/Álava | 062 | Zambrana                         | 01062 | POLYGON ((-2.76792 42.66597... |\n",
       "| 16 | País Vasco | 01 | Araba/Álava | 063 | Zuia                             | 01063 | POLYGON ((-2.89032 43.04579... |\n",
       "| 16 | País Vasco | 01 | Araba/Álava | 901 | Iruña Oka / Iruña de Oca         | 01901 | POLYGON ((-2.7792 42.79271,... |\n",
       "| 16 | País Vasco | 01 | Araba/Álava | 902 | Lantarón                         | 01902 | MULTIPOLYGON (((-3.04079 42... |\n",
       "\n"
      ],
      "text/plain": [
       "   codauto ine.ccaa.name cpro ine.prov.name cmun\n",
       "1  16      País Vasco    01   Araba/Álava   001 \n",
       "2  16      País Vasco    01   Araba/Álava   002 \n",
       "3  16      País Vasco    01   Araba/Álava   003 \n",
       "4  16      País Vasco    01   Araba/Álava   004 \n",
       "5  16      País Vasco    01   Araba/Álava   006 \n",
       "6  16      País Vasco    01   Araba/Álava   008 \n",
       "7  16      País Vasco    01   Araba/Álava   009 \n",
       "8  16      País Vasco    01   Araba/Álava   010 \n",
       "9  16      País Vasco    01   Araba/Álava   011 \n",
       "10 16      País Vasco    01   Araba/Álava   013 \n",
       "11 16      País Vasco    01   Araba/Álava   014 \n",
       "12 16      País Vasco    01   Araba/Álava   016 \n",
       "13 16      País Vasco    01   Araba/Álava   017 \n",
       "14 16      País Vasco    01   Araba/Álava   018 \n",
       "15 16      País Vasco    01   Araba/Álava   019 \n",
       "16 16      País Vasco    01   Araba/Álava   020 \n",
       "17 16      País Vasco    01   Araba/Álava   021 \n",
       "18 16      País Vasco    01   Araba/Álava   022 \n",
       "19 16      País Vasco    01   Araba/Álava   023 \n",
       "20 16      País Vasco    01   Araba/Álava   027 \n",
       "21 16      País Vasco    01   Araba/Álava   028 \n",
       "22 16      País Vasco    01   Araba/Álava   030 \n",
       "23 16      País Vasco    01   Araba/Álava   031 \n",
       "24 16      País Vasco    01   Araba/Álava   032 \n",
       "25 16      País Vasco    01   Araba/Álava   033 \n",
       "26 16      País Vasco    01   Araba/Álava   034 \n",
       "27 16      País Vasco    01   Araba/Álava   036 \n",
       "28 16      País Vasco    01   Araba/Álava   037 \n",
       "29 16      País Vasco    01   Araba/Álava   039 \n",
       "30 16      País Vasco    01   Araba/Álava   041 \n",
       "31 16      País Vasco    01   Araba/Álava   042 \n",
       "32 16      País Vasco    01   Araba/Álava   043 \n",
       "33 16      País Vasco    01   Araba/Álava   044 \n",
       "34 16      País Vasco    01   Araba/Álava   046 \n",
       "35 16      País Vasco    01   Araba/Álava   047 \n",
       "36 16      País Vasco    01   Araba/Álava   049 \n",
       "37 16      País Vasco    01   Araba/Álava   051 \n",
       "38 16      País Vasco    01   Araba/Álava   052 \n",
       "39 16      País Vasco    01   Araba/Álava   053 \n",
       "40 16      País Vasco    01   Araba/Álava   054 \n",
       "41 16      País Vasco    01   Araba/Álava   055 \n",
       "42 16      País Vasco    01   Araba/Álava   056 \n",
       "43 16      País Vasco    01   Araba/Álava   057 \n",
       "44 16      País Vasco    01   Araba/Álava   058 \n",
       "45 16      País Vasco    01   Araba/Álava   059 \n",
       "46 16      País Vasco    01   Araba/Álava   060 \n",
       "47 16      País Vasco    01   Araba/Álava   061 \n",
       "48 16      País Vasco    01   Araba/Álava   062 \n",
       "49 16      País Vasco    01   Araba/Álava   063 \n",
       "50 16      País Vasco    01   Araba/Álava   901 \n",
       "51 16      País Vasco    01   Araba/Álava   902 \n",
       "   name                             LAU_CODE geometry                      \n",
       "1  Alegría-Dulantzi                 01001    MULTIPOLYGON (((-2.52635 42...\n",
       "2  Amurrio                          01002    MULTIPOLYGON (((-3.01858 43...\n",
       "3  Aramaio                          01003    POLYGON ((-2.54726 43.08767...\n",
       "4  Artziniega                       01004    POLYGON ((-3.13397 43.09718...\n",
       "5  Armiñón                          01006    MULTIPOLYGON (((-2.88106 42...\n",
       "6  Arratzua-Ubarrundia              01008    MULTIPOLYGON (((-2.55119 42...\n",
       "7  Asparrena                        01009    MULTIPOLYGON (((-2.33746 42...\n",
       "8  Ayala / Aiara                    01010    POLYGON ((-3.10886 43.14327...\n",
       "9  Baños de Ebro / Mañueta          01011    POLYGON ((-2.69913 42.52747...\n",
       "10 Barrundia                        01013    POLYGON ((-2.56181 42.89532...\n",
       "11 Berantevilla                     01014    MULTIPOLYGON (((-2.76792 42...\n",
       "12 Bernedo                          01016    POLYGON ((-2.54584 42.78551...\n",
       "13 Campezo / Kanpezu                01017    POLYGON ((-2.37782 42.732, ...\n",
       "14 Zigoitia                         01018    POLYGON ((-2.68147 42.96138...\n",
       "15 Kripan                           01019    POLYGON ((-2.52307 42.5704,...\n",
       "16 Kuartango                        01020    POLYGON ((-2.88567 42.84159...\n",
       "17 Elburgo / Burgelu                01021    MULTIPOLYGON (((-2.57807 42...\n",
       "18 Elciego                          01022    POLYGON ((-2.64068 42.52067...\n",
       "19 Elvillar / Bilar                 01023    POLYGON ((-2.53257 42.58844...\n",
       "20 Iruraiz-Gauna                    01027    MULTIPOLYGON (((-2.49373 42...\n",
       "21 Labastida / Bastida              01028    POLYGON ((-2.7659 42.62012,...\n",
       "22 Lagrán                           01030    POLYGON ((-2.6187 42.64859,...\n",
       "23 Laguardia                        01031    MULTIPOLYGON (((-2.66732 42...\n",
       "24 Lanciego / Lantziego             01032    POLYGON ((-2.51395 42.51823...\n",
       "25 Lapuebla de Labarca              01033    POLYGON ((-2.54893 42.48445...\n",
       "26 Leza                             01034    POLYGON ((-2.65546 42.56108...\n",
       "27 Laudio / Llodio                  01036    POLYGON ((-2.93885 43.14529...\n",
       "28 Arraia-Maeztu                    01037    POLYGON ((-2.40907 42.80637...\n",
       "29 Moreda de Álava / Moreda Araba   01039    POLYGON ((-2.42208 42.51169...\n",
       "30 Navaridas                        01041    POLYGON ((-2.61668 42.55438...\n",
       "31 Okondo                           01042    POLYGON ((-3.07474 43.1463,...\n",
       "32 Oyón-Oion                        01043    POLYGON ((-2.42208 42.51169...\n",
       "33 Peñacerrada-Urizaharra           01044    POLYGON ((-2.73771 42.66308...\n",
       "34 Erriberagoitia / Ribera Alta     01046    MULTIPOLYGON (((-2.98547 42...\n",
       "35 Ribera Baja / Erribera Beitia    01047    POLYGON ((-2.94704 42.70961...\n",
       "36 Añana                            01049    POLYGON ((-3.00923 42.84099...\n",
       "37 Agurain / Salvatierra            01051    MULTIPOLYGON (((-2.36932 42...\n",
       "38 Samaniego                        01052    POLYGON ((-2.65546 42.56108...\n",
       "39 San Millán / Donemiliaga         01053    MULTIPOLYGON (((-2.33904 42...\n",
       "40 Urkabustaiz                      01054    POLYGON ((-2.91485 43.02057...\n",
       "41 Valdegovía / Gaubea              01055    POLYGON ((-3.01617 42.91051...\n",
       "42 Harana / Valle de Arana          01056    POLYGON ((-2.37782 42.732, ...\n",
       "43 Villabuena de Álava / Eskuernaga 01057    POLYGON ((-2.68613 42.54497...\n",
       "44 Legutio                          01058    POLYGON ((-2.63362 43.01991...\n",
       "45 Vitoria-Gasteiz                  01059    POLYGON ((-2.5803 42.90809,...\n",
       "46 Yécora / Iekora                  01060    POLYGON ((-2.48363 42.51956...\n",
       "47 Zalduondo                        01061    POLYGON ((-2.32299 42.93156...\n",
       "48 Zambrana                         01062    POLYGON ((-2.76792 42.66597...\n",
       "49 Zuia                             01063    POLYGON ((-2.89032 43.04579...\n",
       "50 Iruña Oka / Iruña de Oca         01901    POLYGON ((-2.7792 42.79271,...\n",
       "51 Lantarón                         01902    MULTIPOLYGON (((-3.04079 42..."
      ]
     },
     "metadata": {},
     "output_type": "display_data"
    }
   ],
   "source": [
    "data_02 |> tibble() |> filter(cpro == \"01\")"
   ]
  },
  {
   "attachments": {},
   "cell_type": "markdown",
   "metadata": {
    "slideshow": {
     "slide_type": "slide"
    }
   },
   "source": [
    "## ETL Processes"
   ]
  },
  {
   "attachments": {},
   "cell_type": "markdown",
   "metadata": {
    "slideshow": {
     "slide_type": "slide"
    }
   },
   "source": [
    "### Import data from: CSV, Excel, Tab, JSON, SQL, and Parquet files\n",
    "\n",
    "Se han importado en el apartado Data Load anterior:\n",
    "\n",
    "* Turismo interno por municipio en la comunidad de Madrid"
   ]
  },
  {
   "attachments": {},
   "cell_type": "markdown",
   "metadata": {},
   "source": [
    "Incluir apartados si procede para: Extracción de datos (select, filter), Transformación de datos, (mutate, joins, ...). Si es necesario tratar datos perdidos, indicarlo también en NB 09.2"
   ]
  },
  {
   "attachments": {},
   "cell_type": "markdown",
   "metadata": {},
   "source": [
    "Si no aplica: Estos datos no requieren tareas de este tipo."
   ]
  },
  {
   "attachments": {},
   "cell_type": "markdown",
   "metadata": {},
   "source": [
    "#### Data transformation\n",
    "\n",
    "* Obtener municipios de la Comunidad de Madrid"
   ]
  },
  {
   "cell_type": "code",
   "execution_count": 15,
   "metadata": {
    "vscode": {
     "languageId": "r"
    }
   },
   "outputs": [],
   "source": [
    "edata_02 <- data_02 |>\n",
    "    tibble() |>\n",
    "    filter(cpro == \"28\") |>\n",
    "    select(cmun, name) \n",
    "\n"
   ]
  },
  {
   "attachments": {},
   "cell_type": "markdown",
   "metadata": {},
   "source": [
    "* Unir con municipios coincidentes"
   ]
  },
  {
   "cell_type": "code",
   "execution_count": 16,
   "metadata": {
    "vscode": {
     "languageId": "r"
    }
   },
   "outputs": [],
   "source": [
    "edata_01 <- data_01 |> \n",
    "  inner_join(edata_02,\n",
    "            by = c(\"municipio_destino\" = \"name\")) "
   ]
  },
  {
   "cell_type": "code",
   "execution_count": 49,
   "metadata": {
    "vscode": {
     "languageId": "r"
    }
   },
   "outputs": [
    {
     "name": "stdout",
     "output_type": "stream",
     "text": [
      "Rows: 521,280\n",
      "Columns: 7\n",
      "$ total_nacional    \u001b[3m\u001b[90m<chr>\u001b[39m\u001b[23m \"Total Nacional\", \"Total Nacional\", \"Total Nacional\"…\n",
      "$ total_ccaa        \u001b[3m\u001b[90m<chr>\u001b[39m\u001b[23m NA, NA, NA, NA, NA, NA, NA, NA, NA, NA, NA, NA, NA, …\n",
      "$ provincia         \u001b[3m\u001b[90m<chr>\u001b[39m\u001b[23m NA, NA, NA, NA, NA, NA, NA, NA, NA, NA, NA, NA, NA, …\n",
      "$ municipio_destino \u001b[3m\u001b[90m<chr>\u001b[39m\u001b[23m \"Acebeda, La\", \"Acebeda, La\", \"Acebeda, La\", \"Acebed…\n",
      "$ periodo           \u001b[3m\u001b[90m<chr>\u001b[39m\u001b[23m \"2022M10\", \"2022M09\", \"2022M08\", \"2022M07\", \"2022M06…\n",
      "$ turistas          \u001b[3m\u001b[90m<chr>\u001b[39m\u001b[23m NA, NA, NA, \"39\", \"125\", \"31\", NA, NA, NA, \".\", NA, …\n",
      "$ cmun              \u001b[3m\u001b[90m<chr>\u001b[39m\u001b[23m \"001\", \"001\", \"001\", \"001\", \"001\", \"001\", \"001\", \"00…\n"
     ]
    }
   ],
   "source": [
    "edata_01 |> glimpse()"
   ]
  },
  {
   "cell_type": "code",
   "execution_count": 22,
   "metadata": {
    "vscode": {
     "languageId": "r"
    }
   },
   "outputs": [
    {
     "data": {
      "text/html": [
       "<table class=\"dataframe\">\n",
       "<caption>A spec_tbl_df: 72 x 7</caption>\n",
       "<thead>\n",
       "\t<tr><th scope=col>total_nacional</th><th scope=col>total_ccaa</th><th scope=col>provincia</th><th scope=col>municipio_destino</th><th scope=col>periodo</th><th scope=col>turistas</th><th scope=col>cmun</th></tr>\n",
       "\t<tr><th scope=col>&lt;chr&gt;</th><th scope=col>&lt;chr&gt;</th><th scope=col>&lt;chr&gt;</th><th scope=col>&lt;chr&gt;</th><th scope=col>&lt;chr&gt;</th><th scope=col>&lt;chr&gt;</th><th scope=col>&lt;chr&gt;</th></tr>\n",
       "</thead>\n",
       "<tbody>\n",
       "\t<tr><td>Total Nacional</td><td>NA                     </td><td>NA                    </td><td>Ajalvir</td><td>2022M10</td><td>1.104</td><td>002</td></tr>\n",
       "\t<tr><td>Total Nacional</td><td>Andalucía              </td><td>NA                    </td><td>Ajalvir</td><td>2022M10</td><td>202  </td><td>002</td></tr>\n",
       "\t<tr><td>Total Nacional</td><td>Andalucía              </td><td>Almería               </td><td>Ajalvir</td><td>2022M10</td><td>NA   </td><td>002</td></tr>\n",
       "\t<tr><td>Total Nacional</td><td>Andalucía              </td><td>Cádiz                 </td><td>Ajalvir</td><td>2022M10</td><td>NA   </td><td>002</td></tr>\n",
       "\t<tr><td>Total Nacional</td><td>Andalucía              </td><td>Córdoba               </td><td>Ajalvir</td><td>2022M10</td><td>NA   </td><td>002</td></tr>\n",
       "\t<tr><td>Total Nacional</td><td>Andalucía              </td><td>Granada               </td><td>Ajalvir</td><td>2022M10</td><td>NA   </td><td>002</td></tr>\n",
       "\t<tr><td>Total Nacional</td><td>Andalucía              </td><td>Huelva                </td><td>Ajalvir</td><td>2022M10</td><td>NA   </td><td>002</td></tr>\n",
       "\t<tr><td>Total Nacional</td><td>Andalucía              </td><td>Jaén                  </td><td>Ajalvir</td><td>2022M10</td><td>NA   </td><td>002</td></tr>\n",
       "\t<tr><td>Total Nacional</td><td>Andalucía              </td><td>Málaga                </td><td>Ajalvir</td><td>2022M10</td><td>46   </td><td>002</td></tr>\n",
       "\t<tr><td>Total Nacional</td><td>Andalucía              </td><td>Sevilla               </td><td>Ajalvir</td><td>2022M10</td><td>79   </td><td>002</td></tr>\n",
       "\t<tr><td>Total Nacional</td><td>Aragón                 </td><td>NA                    </td><td>Ajalvir</td><td>2022M10</td><td>39   </td><td>002</td></tr>\n",
       "\t<tr><td>Total Nacional</td><td>Aragón                 </td><td>Huesca                </td><td>Ajalvir</td><td>2022M10</td><td>NA   </td><td>002</td></tr>\n",
       "\t<tr><td>Total Nacional</td><td>Aragón                 </td><td>Teruel                </td><td>Ajalvir</td><td>2022M10</td><td>NA   </td><td>002</td></tr>\n",
       "\t<tr><td>Total Nacional</td><td>Aragón                 </td><td>Zaragoza              </td><td>Ajalvir</td><td>2022M10</td><td>39   </td><td>002</td></tr>\n",
       "\t<tr><td>Total Nacional</td><td>Asturias, Principado de</td><td>NA                    </td><td>Ajalvir</td><td>2022M10</td><td>NA   </td><td>002</td></tr>\n",
       "\t<tr><td>Total Nacional</td><td>Asturias, Principado de</td><td>Asturias              </td><td>Ajalvir</td><td>2022M10</td><td>NA   </td><td>002</td></tr>\n",
       "\t<tr><td>Total Nacional</td><td>Balears, Illes         </td><td>NA                    </td><td>Ajalvir</td><td>2022M10</td><td>NA   </td><td>002</td></tr>\n",
       "\t<tr><td>Total Nacional</td><td>Balears, Illes         </td><td>Balears, Illes        </td><td>Ajalvir</td><td>2022M10</td><td>NA   </td><td>002</td></tr>\n",
       "\t<tr><td>Total Nacional</td><td>Canarias               </td><td>NA                    </td><td>Ajalvir</td><td>2022M10</td><td>NA   </td><td>002</td></tr>\n",
       "\t<tr><td>Total Nacional</td><td>Canarias               </td><td>Palmas, Las           </td><td>Ajalvir</td><td>2022M10</td><td>NA   </td><td>002</td></tr>\n",
       "\t<tr><td>Total Nacional</td><td>Canarias               </td><td>Santa Cruz de Tenerife</td><td>Ajalvir</td><td>2022M10</td><td>NA   </td><td>002</td></tr>\n",
       "\t<tr><td>Total Nacional</td><td>Cantabria              </td><td>NA                    </td><td>Ajalvir</td><td>2022M10</td><td>NA   </td><td>002</td></tr>\n",
       "\t<tr><td>Total Nacional</td><td>Cantabria              </td><td>Cantabria             </td><td>Ajalvir</td><td>2022M10</td><td>NA   </td><td>002</td></tr>\n",
       "\t<tr><td>Total Nacional</td><td>Castilla - La Mancha   </td><td>NA                    </td><td>Ajalvir</td><td>2022M10</td><td>428  </td><td>002</td></tr>\n",
       "\t<tr><td>Total Nacional</td><td>Castilla - La Mancha   </td><td>Albacete              </td><td>Ajalvir</td><td>2022M10</td><td>NA   </td><td>002</td></tr>\n",
       "\t<tr><td>Total Nacional</td><td>Castilla - La Mancha   </td><td>Ciudad Real           </td><td>Ajalvir</td><td>2022M10</td><td>NA   </td><td>002</td></tr>\n",
       "\t<tr><td>Total Nacional</td><td>Castilla - La Mancha   </td><td>Cuenca                </td><td>Ajalvir</td><td>2022M10</td><td>NA   </td><td>002</td></tr>\n",
       "\t<tr><td>Total Nacional</td><td>Castilla - La Mancha   </td><td>Guadalajara           </td><td>Ajalvir</td><td>2022M10</td><td>309  </td><td>002</td></tr>\n",
       "\t<tr><td>Total Nacional</td><td>Castilla - La Mancha   </td><td>Toledo                </td><td>Ajalvir</td><td>2022M10</td><td>63   </td><td>002</td></tr>\n",
       "\t<tr><td>Total Nacional</td><td>Castilla y León        </td><td>NA                    </td><td>Ajalvir</td><td>2022M10</td><td>64   </td><td>002</td></tr>\n",
       "\t<tr><td>...</td><td>...</td><td>...</td><td>...</td><td>...</td><td>...</td><td>...</td></tr>\n",
       "\t<tr><td>Total Nacional</td><td>Cataluña                   </td><td>Lleida            </td><td>Ajalvir</td><td>2022M10</td><td>NA</td><td>002</td></tr>\n",
       "\t<tr><td>Total Nacional</td><td>Cataluña                   </td><td>Tarragona         </td><td>Ajalvir</td><td>2022M10</td><td>NA</td><td>002</td></tr>\n",
       "\t<tr><td>Total Nacional</td><td>Ceuta                      </td><td>NA                </td><td>Ajalvir</td><td>2022M10</td><td>NA</td><td>002</td></tr>\n",
       "\t<tr><td>Total Nacional</td><td>Ceuta                      </td><td>Ceuta             </td><td>Ajalvir</td><td>2022M10</td><td>NA</td><td>002</td></tr>\n",
       "\t<tr><td>Total Nacional</td><td>Comunitat Valenciana       </td><td>NA                </td><td>Ajalvir</td><td>2022M10</td><td>90</td><td>002</td></tr>\n",
       "\t<tr><td>Total Nacional</td><td>Comunitat Valenciana       </td><td>Alicante/Alacant  </td><td>Ajalvir</td><td>2022M10</td><td>43</td><td>002</td></tr>\n",
       "\t<tr><td>Total Nacional</td><td>Comunitat Valenciana       </td><td>Castellón/Castelló</td><td>Ajalvir</td><td>2022M10</td><td>NA</td><td>002</td></tr>\n",
       "\t<tr><td>Total Nacional</td><td>Comunitat Valenciana       </td><td>Valencia/València </td><td>Ajalvir</td><td>2022M10</td><td>40</td><td>002</td></tr>\n",
       "\t<tr><td>Total Nacional</td><td>Extremadura                </td><td>NA                </td><td>Ajalvir</td><td>2022M10</td><td>57</td><td>002</td></tr>\n",
       "\t<tr><td>Total Nacional</td><td>Extremadura                </td><td>Badajoz           </td><td>Ajalvir</td><td>2022M10</td><td>35</td><td>002</td></tr>\n",
       "\t<tr><td>Total Nacional</td><td>Extremadura                </td><td>Cáceres           </td><td>Ajalvir</td><td>2022M10</td><td>NA</td><td>002</td></tr>\n",
       "\t<tr><td>Total Nacional</td><td>Galicia                    </td><td>NA                </td><td>Ajalvir</td><td>2022M10</td><td>39</td><td>002</td></tr>\n",
       "\t<tr><td>Total Nacional</td><td>Galicia                    </td><td>Coruña, A         </td><td>Ajalvir</td><td>2022M10</td><td>NA</td><td>002</td></tr>\n",
       "\t<tr><td>Total Nacional</td><td>Galicia                    </td><td>Lugo              </td><td>Ajalvir</td><td>2022M10</td><td>NA</td><td>002</td></tr>\n",
       "\t<tr><td>Total Nacional</td><td>Galicia                    </td><td>Ourense           </td><td>Ajalvir</td><td>2022M10</td><td>NA</td><td>002</td></tr>\n",
       "\t<tr><td>Total Nacional</td><td>Galicia                    </td><td>Pontevedra        </td><td>Ajalvir</td><td>2022M10</td><td>NA</td><td>002</td></tr>\n",
       "\t<tr><td>Total Nacional</td><td>Madrid, Comunidad de       </td><td>NA                </td><td>Ajalvir</td><td>2022M10</td><td>NA</td><td>002</td></tr>\n",
       "\t<tr><td>Total Nacional</td><td>Madrid, Comunidad de       </td><td>Madrid            </td><td>Ajalvir</td><td>2022M10</td><td>NA</td><td>002</td></tr>\n",
       "\t<tr><td>Total Nacional</td><td>Melilla                    </td><td>NA                </td><td>Ajalvir</td><td>2022M10</td><td>NA</td><td>002</td></tr>\n",
       "\t<tr><td>Total Nacional</td><td>Melilla                    </td><td>Melilla           </td><td>Ajalvir</td><td>2022M10</td><td>NA</td><td>002</td></tr>\n",
       "\t<tr><td>Total Nacional</td><td>Murcia, Región de          </td><td>NA                </td><td>Ajalvir</td><td>2022M10</td><td>NA</td><td>002</td></tr>\n",
       "\t<tr><td>Total Nacional</td><td>Murcia, Región de          </td><td>Murcia            </td><td>Ajalvir</td><td>2022M10</td><td>NA</td><td>002</td></tr>\n",
       "\t<tr><td>Total Nacional</td><td>Navarra, Comunidad Foral de</td><td>NA                </td><td>Ajalvir</td><td>2022M10</td><td>NA</td><td>002</td></tr>\n",
       "\t<tr><td>Total Nacional</td><td>Navarra, Comunidad Foral de</td><td>Navarra           </td><td>Ajalvir</td><td>2022M10</td><td>NA</td><td>002</td></tr>\n",
       "\t<tr><td>Total Nacional</td><td>País Vasco                 </td><td>NA                </td><td>Ajalvir</td><td>2022M10</td><td>58</td><td>002</td></tr>\n",
       "\t<tr><td>Total Nacional</td><td>País Vasco                 </td><td>Araba/Álava       </td><td>Ajalvir</td><td>2022M10</td><td>49</td><td>002</td></tr>\n",
       "\t<tr><td>Total Nacional</td><td>País Vasco                 </td><td>Bizkaia           </td><td>Ajalvir</td><td>2022M10</td><td>NA</td><td>002</td></tr>\n",
       "\t<tr><td>Total Nacional</td><td>País Vasco                 </td><td>Gipuzkoa          </td><td>Ajalvir</td><td>2022M10</td><td>NA</td><td>002</td></tr>\n",
       "\t<tr><td>Total Nacional</td><td>Rioja, La                  </td><td>NA                </td><td>Ajalvir</td><td>2022M10</td><td>NA</td><td>002</td></tr>\n",
       "\t<tr><td>Total Nacional</td><td>Rioja, La                  </td><td>Rioja, La         </td><td>Ajalvir</td><td>2022M10</td><td>NA</td><td>002</td></tr>\n",
       "</tbody>\n",
       "</table>\n"
      ],
      "text/latex": [
       "A spec\\_tbl\\_df: 72 x 7\n",
       "\\begin{tabular}{lllllll}\n",
       " total\\_nacional & total\\_ccaa & provincia & municipio\\_destino & periodo & turistas & cmun\\\\\n",
       " <chr> & <chr> & <chr> & <chr> & <chr> & <chr> & <chr>\\\\\n",
       "\\hline\n",
       "\t Total Nacional & NA                      & NA                     & Ajalvir & 2022M10 & 1.104 & 002\\\\\n",
       "\t Total Nacional & Andalucía               & NA                     & Ajalvir & 2022M10 & 202   & 002\\\\\n",
       "\t Total Nacional & Andalucía               & Almería                & Ajalvir & 2022M10 & NA    & 002\\\\\n",
       "\t Total Nacional & Andalucía               & Cádiz                  & Ajalvir & 2022M10 & NA    & 002\\\\\n",
       "\t Total Nacional & Andalucía               & Córdoba                & Ajalvir & 2022M10 & NA    & 002\\\\\n",
       "\t Total Nacional & Andalucía               & Granada                & Ajalvir & 2022M10 & NA    & 002\\\\\n",
       "\t Total Nacional & Andalucía               & Huelva                 & Ajalvir & 2022M10 & NA    & 002\\\\\n",
       "\t Total Nacional & Andalucía               & Jaén                   & Ajalvir & 2022M10 & NA    & 002\\\\\n",
       "\t Total Nacional & Andalucía               & Málaga                 & Ajalvir & 2022M10 & 46    & 002\\\\\n",
       "\t Total Nacional & Andalucía               & Sevilla                & Ajalvir & 2022M10 & 79    & 002\\\\\n",
       "\t Total Nacional & Aragón                  & NA                     & Ajalvir & 2022M10 & 39    & 002\\\\\n",
       "\t Total Nacional & Aragón                  & Huesca                 & Ajalvir & 2022M10 & NA    & 002\\\\\n",
       "\t Total Nacional & Aragón                  & Teruel                 & Ajalvir & 2022M10 & NA    & 002\\\\\n",
       "\t Total Nacional & Aragón                  & Zaragoza               & Ajalvir & 2022M10 & 39    & 002\\\\\n",
       "\t Total Nacional & Asturias, Principado de & NA                     & Ajalvir & 2022M10 & NA    & 002\\\\\n",
       "\t Total Nacional & Asturias, Principado de & Asturias               & Ajalvir & 2022M10 & NA    & 002\\\\\n",
       "\t Total Nacional & Balears, Illes          & NA                     & Ajalvir & 2022M10 & NA    & 002\\\\\n",
       "\t Total Nacional & Balears, Illes          & Balears, Illes         & Ajalvir & 2022M10 & NA    & 002\\\\\n",
       "\t Total Nacional & Canarias                & NA                     & Ajalvir & 2022M10 & NA    & 002\\\\\n",
       "\t Total Nacional & Canarias                & Palmas, Las            & Ajalvir & 2022M10 & NA    & 002\\\\\n",
       "\t Total Nacional & Canarias                & Santa Cruz de Tenerife & Ajalvir & 2022M10 & NA    & 002\\\\\n",
       "\t Total Nacional & Cantabria               & NA                     & Ajalvir & 2022M10 & NA    & 002\\\\\n",
       "\t Total Nacional & Cantabria               & Cantabria              & Ajalvir & 2022M10 & NA    & 002\\\\\n",
       "\t Total Nacional & Castilla - La Mancha    & NA                     & Ajalvir & 2022M10 & 428   & 002\\\\\n",
       "\t Total Nacional & Castilla - La Mancha    & Albacete               & Ajalvir & 2022M10 & NA    & 002\\\\\n",
       "\t Total Nacional & Castilla - La Mancha    & Ciudad Real            & Ajalvir & 2022M10 & NA    & 002\\\\\n",
       "\t Total Nacional & Castilla - La Mancha    & Cuenca                 & Ajalvir & 2022M10 & NA    & 002\\\\\n",
       "\t Total Nacional & Castilla - La Mancha    & Guadalajara            & Ajalvir & 2022M10 & 309   & 002\\\\\n",
       "\t Total Nacional & Castilla - La Mancha    & Toledo                 & Ajalvir & 2022M10 & 63    & 002\\\\\n",
       "\t Total Nacional & Castilla y León         & NA                     & Ajalvir & 2022M10 & 64    & 002\\\\\n",
       "\t ... & ... & ... & ... & ... & ... & ...\\\\\n",
       "\t Total Nacional & Cataluña                    & Lleida             & Ajalvir & 2022M10 & NA & 002\\\\\n",
       "\t Total Nacional & Cataluña                    & Tarragona          & Ajalvir & 2022M10 & NA & 002\\\\\n",
       "\t Total Nacional & Ceuta                       & NA                 & Ajalvir & 2022M10 & NA & 002\\\\\n",
       "\t Total Nacional & Ceuta                       & Ceuta              & Ajalvir & 2022M10 & NA & 002\\\\\n",
       "\t Total Nacional & Comunitat Valenciana        & NA                 & Ajalvir & 2022M10 & 90 & 002\\\\\n",
       "\t Total Nacional & Comunitat Valenciana        & Alicante/Alacant   & Ajalvir & 2022M10 & 43 & 002\\\\\n",
       "\t Total Nacional & Comunitat Valenciana        & Castellón/Castelló & Ajalvir & 2022M10 & NA & 002\\\\\n",
       "\t Total Nacional & Comunitat Valenciana        & Valencia/València  & Ajalvir & 2022M10 & 40 & 002\\\\\n",
       "\t Total Nacional & Extremadura                 & NA                 & Ajalvir & 2022M10 & 57 & 002\\\\\n",
       "\t Total Nacional & Extremadura                 & Badajoz            & Ajalvir & 2022M10 & 35 & 002\\\\\n",
       "\t Total Nacional & Extremadura                 & Cáceres            & Ajalvir & 2022M10 & NA & 002\\\\\n",
       "\t Total Nacional & Galicia                     & NA                 & Ajalvir & 2022M10 & 39 & 002\\\\\n",
       "\t Total Nacional & Galicia                     & Coruña, A          & Ajalvir & 2022M10 & NA & 002\\\\\n",
       "\t Total Nacional & Galicia                     & Lugo               & Ajalvir & 2022M10 & NA & 002\\\\\n",
       "\t Total Nacional & Galicia                     & Ourense            & Ajalvir & 2022M10 & NA & 002\\\\\n",
       "\t Total Nacional & Galicia                     & Pontevedra         & Ajalvir & 2022M10 & NA & 002\\\\\n",
       "\t Total Nacional & Madrid, Comunidad de        & NA                 & Ajalvir & 2022M10 & NA & 002\\\\\n",
       "\t Total Nacional & Madrid, Comunidad de        & Madrid             & Ajalvir & 2022M10 & NA & 002\\\\\n",
       "\t Total Nacional & Melilla                     & NA                 & Ajalvir & 2022M10 & NA & 002\\\\\n",
       "\t Total Nacional & Melilla                     & Melilla            & Ajalvir & 2022M10 & NA & 002\\\\\n",
       "\t Total Nacional & Murcia, Región de           & NA                 & Ajalvir & 2022M10 & NA & 002\\\\\n",
       "\t Total Nacional & Murcia, Región de           & Murcia             & Ajalvir & 2022M10 & NA & 002\\\\\n",
       "\t Total Nacional & Navarra, Comunidad Foral de & NA                 & Ajalvir & 2022M10 & NA & 002\\\\\n",
       "\t Total Nacional & Navarra, Comunidad Foral de & Navarra            & Ajalvir & 2022M10 & NA & 002\\\\\n",
       "\t Total Nacional & País Vasco                  & NA                 & Ajalvir & 2022M10 & 58 & 002\\\\\n",
       "\t Total Nacional & País Vasco                  & Araba/Álava        & Ajalvir & 2022M10 & 49 & 002\\\\\n",
       "\t Total Nacional & País Vasco                  & Bizkaia            & Ajalvir & 2022M10 & NA & 002\\\\\n",
       "\t Total Nacional & País Vasco                  & Gipuzkoa           & Ajalvir & 2022M10 & NA & 002\\\\\n",
       "\t Total Nacional & Rioja, La                   & NA                 & Ajalvir & 2022M10 & NA & 002\\\\\n",
       "\t Total Nacional & Rioja, La                   & Rioja, La          & Ajalvir & 2022M10 & NA & 002\\\\\n",
       "\\end{tabular}\n"
      ],
      "text/markdown": [
       "\n",
       "A spec_tbl_df: 72 x 7\n",
       "\n",
       "| total_nacional &lt;chr&gt; | total_ccaa &lt;chr&gt; | provincia &lt;chr&gt; | municipio_destino &lt;chr&gt; | periodo &lt;chr&gt; | turistas &lt;chr&gt; | cmun &lt;chr&gt; |\n",
       "|---|---|---|---|---|---|---|\n",
       "| Total Nacional | NA                      | NA                     | Ajalvir | 2022M10 | 1.104 | 002 |\n",
       "| Total Nacional | Andalucía               | NA                     | Ajalvir | 2022M10 | 202   | 002 |\n",
       "| Total Nacional | Andalucía               | Almería                | Ajalvir | 2022M10 | NA    | 002 |\n",
       "| Total Nacional | Andalucía               | Cádiz                  | Ajalvir | 2022M10 | NA    | 002 |\n",
       "| Total Nacional | Andalucía               | Córdoba                | Ajalvir | 2022M10 | NA    | 002 |\n",
       "| Total Nacional | Andalucía               | Granada                | Ajalvir | 2022M10 | NA    | 002 |\n",
       "| Total Nacional | Andalucía               | Huelva                 | Ajalvir | 2022M10 | NA    | 002 |\n",
       "| Total Nacional | Andalucía               | Jaén                   | Ajalvir | 2022M10 | NA    | 002 |\n",
       "| Total Nacional | Andalucía               | Málaga                 | Ajalvir | 2022M10 | 46    | 002 |\n",
       "| Total Nacional | Andalucía               | Sevilla                | Ajalvir | 2022M10 | 79    | 002 |\n",
       "| Total Nacional | Aragón                  | NA                     | Ajalvir | 2022M10 | 39    | 002 |\n",
       "| Total Nacional | Aragón                  | Huesca                 | Ajalvir | 2022M10 | NA    | 002 |\n",
       "| Total Nacional | Aragón                  | Teruel                 | Ajalvir | 2022M10 | NA    | 002 |\n",
       "| Total Nacional | Aragón                  | Zaragoza               | Ajalvir | 2022M10 | 39    | 002 |\n",
       "| Total Nacional | Asturias, Principado de | NA                     | Ajalvir | 2022M10 | NA    | 002 |\n",
       "| Total Nacional | Asturias, Principado de | Asturias               | Ajalvir | 2022M10 | NA    | 002 |\n",
       "| Total Nacional | Balears, Illes          | NA                     | Ajalvir | 2022M10 | NA    | 002 |\n",
       "| Total Nacional | Balears, Illes          | Balears, Illes         | Ajalvir | 2022M10 | NA    | 002 |\n",
       "| Total Nacional | Canarias                | NA                     | Ajalvir | 2022M10 | NA    | 002 |\n",
       "| Total Nacional | Canarias                | Palmas, Las            | Ajalvir | 2022M10 | NA    | 002 |\n",
       "| Total Nacional | Canarias                | Santa Cruz de Tenerife | Ajalvir | 2022M10 | NA    | 002 |\n",
       "| Total Nacional | Cantabria               | NA                     | Ajalvir | 2022M10 | NA    | 002 |\n",
       "| Total Nacional | Cantabria               | Cantabria              | Ajalvir | 2022M10 | NA    | 002 |\n",
       "| Total Nacional | Castilla - La Mancha    | NA                     | Ajalvir | 2022M10 | 428   | 002 |\n",
       "| Total Nacional | Castilla - La Mancha    | Albacete               | Ajalvir | 2022M10 | NA    | 002 |\n",
       "| Total Nacional | Castilla - La Mancha    | Ciudad Real            | Ajalvir | 2022M10 | NA    | 002 |\n",
       "| Total Nacional | Castilla - La Mancha    | Cuenca                 | Ajalvir | 2022M10 | NA    | 002 |\n",
       "| Total Nacional | Castilla - La Mancha    | Guadalajara            | Ajalvir | 2022M10 | 309   | 002 |\n",
       "| Total Nacional | Castilla - La Mancha    | Toledo                 | Ajalvir | 2022M10 | 63    | 002 |\n",
       "| Total Nacional | Castilla y León         | NA                     | Ajalvir | 2022M10 | 64    | 002 |\n",
       "| ... | ... | ... | ... | ... | ... | ... |\n",
       "| Total Nacional | Cataluña                    | Lleida             | Ajalvir | 2022M10 | NA | 002 |\n",
       "| Total Nacional | Cataluña                    | Tarragona          | Ajalvir | 2022M10 | NA | 002 |\n",
       "| Total Nacional | Ceuta                       | NA                 | Ajalvir | 2022M10 | NA | 002 |\n",
       "| Total Nacional | Ceuta                       | Ceuta              | Ajalvir | 2022M10 | NA | 002 |\n",
       "| Total Nacional | Comunitat Valenciana        | NA                 | Ajalvir | 2022M10 | 90 | 002 |\n",
       "| Total Nacional | Comunitat Valenciana        | Alicante/Alacant   | Ajalvir | 2022M10 | 43 | 002 |\n",
       "| Total Nacional | Comunitat Valenciana        | Castellón/Castelló | Ajalvir | 2022M10 | NA | 002 |\n",
       "| Total Nacional | Comunitat Valenciana        | Valencia/València  | Ajalvir | 2022M10 | 40 | 002 |\n",
       "| Total Nacional | Extremadura                 | NA                 | Ajalvir | 2022M10 | 57 | 002 |\n",
       "| Total Nacional | Extremadura                 | Badajoz            | Ajalvir | 2022M10 | 35 | 002 |\n",
       "| Total Nacional | Extremadura                 | Cáceres            | Ajalvir | 2022M10 | NA | 002 |\n",
       "| Total Nacional | Galicia                     | NA                 | Ajalvir | 2022M10 | 39 | 002 |\n",
       "| Total Nacional | Galicia                     | Coruña, A          | Ajalvir | 2022M10 | NA | 002 |\n",
       "| Total Nacional | Galicia                     | Lugo               | Ajalvir | 2022M10 | NA | 002 |\n",
       "| Total Nacional | Galicia                     | Ourense            | Ajalvir | 2022M10 | NA | 002 |\n",
       "| Total Nacional | Galicia                     | Pontevedra         | Ajalvir | 2022M10 | NA | 002 |\n",
       "| Total Nacional | Madrid, Comunidad de        | NA                 | Ajalvir | 2022M10 | NA | 002 |\n",
       "| Total Nacional | Madrid, Comunidad de        | Madrid             | Ajalvir | 2022M10 | NA | 002 |\n",
       "| Total Nacional | Melilla                     | NA                 | Ajalvir | 2022M10 | NA | 002 |\n",
       "| Total Nacional | Melilla                     | Melilla            | Ajalvir | 2022M10 | NA | 002 |\n",
       "| Total Nacional | Murcia, Región de           | NA                 | Ajalvir | 2022M10 | NA | 002 |\n",
       "| Total Nacional | Murcia, Región de           | Murcia             | Ajalvir | 2022M10 | NA | 002 |\n",
       "| Total Nacional | Navarra, Comunidad Foral de | NA                 | Ajalvir | 2022M10 | NA | 002 |\n",
       "| Total Nacional | Navarra, Comunidad Foral de | Navarra            | Ajalvir | 2022M10 | NA | 002 |\n",
       "| Total Nacional | País Vasco                  | NA                 | Ajalvir | 2022M10 | 58 | 002 |\n",
       "| Total Nacional | País Vasco                  | Araba/Álava        | Ajalvir | 2022M10 | 49 | 002 |\n",
       "| Total Nacional | País Vasco                  | Bizkaia            | Ajalvir | 2022M10 | NA | 002 |\n",
       "| Total Nacional | País Vasco                  | Gipuzkoa           | Ajalvir | 2022M10 | NA | 002 |\n",
       "| Total Nacional | Rioja, La                   | NA                 | Ajalvir | 2022M10 | NA | 002 |\n",
       "| Total Nacional | Rioja, La                   | Rioja, La          | Ajalvir | 2022M10 | NA | 002 |\n",
       "\n"
      ],
      "text/plain": [
       "    total_nacional total_ccaa                  provincia             \n",
       "1   Total Nacional NA                          NA                    \n",
       "2   Total Nacional Andalucía                   NA                    \n",
       "3   Total Nacional Andalucía                   Almería               \n",
       "4   Total Nacional Andalucía                   Cádiz                 \n",
       "5   Total Nacional Andalucía                   Córdoba               \n",
       "6   Total Nacional Andalucía                   Granada               \n",
       "7   Total Nacional Andalucía                   Huelva                \n",
       "8   Total Nacional Andalucía                   Jaén                  \n",
       "9   Total Nacional Andalucía                   Málaga                \n",
       "10  Total Nacional Andalucía                   Sevilla               \n",
       "11  Total Nacional Aragón                      NA                    \n",
       "12  Total Nacional Aragón                      Huesca                \n",
       "13  Total Nacional Aragón                      Teruel                \n",
       "14  Total Nacional Aragón                      Zaragoza              \n",
       "15  Total Nacional Asturias, Principado de     NA                    \n",
       "16  Total Nacional Asturias, Principado de     Asturias              \n",
       "17  Total Nacional Balears, Illes              NA                    \n",
       "18  Total Nacional Balears, Illes              Balears, Illes        \n",
       "19  Total Nacional Canarias                    NA                    \n",
       "20  Total Nacional Canarias                    Palmas, Las           \n",
       "21  Total Nacional Canarias                    Santa Cruz de Tenerife\n",
       "22  Total Nacional Cantabria                   NA                    \n",
       "23  Total Nacional Cantabria                   Cantabria             \n",
       "24  Total Nacional Castilla - La Mancha        NA                    \n",
       "25  Total Nacional Castilla - La Mancha        Albacete              \n",
       "26  Total Nacional Castilla - La Mancha        Ciudad Real           \n",
       "27  Total Nacional Castilla - La Mancha        Cuenca                \n",
       "28  Total Nacional Castilla - La Mancha        Guadalajara           \n",
       "29  Total Nacional Castilla - La Mancha        Toledo                \n",
       "30  Total Nacional Castilla y León             NA                    \n",
       "... ...            ...                         ...                   \n",
       "43  Total Nacional Cataluña                    Lleida                \n",
       "44  Total Nacional Cataluña                    Tarragona             \n",
       "45  Total Nacional Ceuta                       NA                    \n",
       "46  Total Nacional Ceuta                       Ceuta                 \n",
       "47  Total Nacional Comunitat Valenciana        NA                    \n",
       "48  Total Nacional Comunitat Valenciana        Alicante/Alacant      \n",
       "49  Total Nacional Comunitat Valenciana        Castellón/Castelló    \n",
       "50  Total Nacional Comunitat Valenciana        Valencia/València     \n",
       "51  Total Nacional Extremadura                 NA                    \n",
       "52  Total Nacional Extremadura                 Badajoz               \n",
       "53  Total Nacional Extremadura                 Cáceres               \n",
       "54  Total Nacional Galicia                     NA                    \n",
       "55  Total Nacional Galicia                     Coruña, A             \n",
       "56  Total Nacional Galicia                     Lugo                  \n",
       "57  Total Nacional Galicia                     Ourense               \n",
       "58  Total Nacional Galicia                     Pontevedra            \n",
       "59  Total Nacional Madrid, Comunidad de        NA                    \n",
       "60  Total Nacional Madrid, Comunidad de        Madrid                \n",
       "61  Total Nacional Melilla                     NA                    \n",
       "62  Total Nacional Melilla                     Melilla               \n",
       "63  Total Nacional Murcia, Región de           NA                    \n",
       "64  Total Nacional Murcia, Región de           Murcia                \n",
       "65  Total Nacional Navarra, Comunidad Foral de NA                    \n",
       "66  Total Nacional Navarra, Comunidad Foral de Navarra               \n",
       "67  Total Nacional País Vasco                  NA                    \n",
       "68  Total Nacional País Vasco                  Araba/Álava           \n",
       "69  Total Nacional País Vasco                  Bizkaia               \n",
       "70  Total Nacional País Vasco                  Gipuzkoa              \n",
       "71  Total Nacional Rioja, La                   NA                    \n",
       "72  Total Nacional Rioja, La                   Rioja, La             \n",
       "    municipio_destino periodo turistas cmun\n",
       "1   Ajalvir           2022M10 1.104    002 \n",
       "2   Ajalvir           2022M10 202      002 \n",
       "3   Ajalvir           2022M10 NA       002 \n",
       "4   Ajalvir           2022M10 NA       002 \n",
       "5   Ajalvir           2022M10 NA       002 \n",
       "6   Ajalvir           2022M10 NA       002 \n",
       "7   Ajalvir           2022M10 NA       002 \n",
       "8   Ajalvir           2022M10 NA       002 \n",
       "9   Ajalvir           2022M10 46       002 \n",
       "10  Ajalvir           2022M10 79       002 \n",
       "11  Ajalvir           2022M10 39       002 \n",
       "12  Ajalvir           2022M10 NA       002 \n",
       "13  Ajalvir           2022M10 NA       002 \n",
       "14  Ajalvir           2022M10 39       002 \n",
       "15  Ajalvir           2022M10 NA       002 \n",
       "16  Ajalvir           2022M10 NA       002 \n",
       "17  Ajalvir           2022M10 NA       002 \n",
       "18  Ajalvir           2022M10 NA       002 \n",
       "19  Ajalvir           2022M10 NA       002 \n",
       "20  Ajalvir           2022M10 NA       002 \n",
       "21  Ajalvir           2022M10 NA       002 \n",
       "22  Ajalvir           2022M10 NA       002 \n",
       "23  Ajalvir           2022M10 NA       002 \n",
       "24  Ajalvir           2022M10 428      002 \n",
       "25  Ajalvir           2022M10 NA       002 \n",
       "26  Ajalvir           2022M10 NA       002 \n",
       "27  Ajalvir           2022M10 NA       002 \n",
       "28  Ajalvir           2022M10 309      002 \n",
       "29  Ajalvir           2022M10 63       002 \n",
       "30  Ajalvir           2022M10 64       002 \n",
       "... ...               ...     ...      ... \n",
       "43  Ajalvir           2022M10 NA       002 \n",
       "44  Ajalvir           2022M10 NA       002 \n",
       "45  Ajalvir           2022M10 NA       002 \n",
       "46  Ajalvir           2022M10 NA       002 \n",
       "47  Ajalvir           2022M10 90       002 \n",
       "48  Ajalvir           2022M10 43       002 \n",
       "49  Ajalvir           2022M10 NA       002 \n",
       "50  Ajalvir           2022M10 40       002 \n",
       "51  Ajalvir           2022M10 57       002 \n",
       "52  Ajalvir           2022M10 35       002 \n",
       "53  Ajalvir           2022M10 NA       002 \n",
       "54  Ajalvir           2022M10 39       002 \n",
       "55  Ajalvir           2022M10 NA       002 \n",
       "56  Ajalvir           2022M10 NA       002 \n",
       "57  Ajalvir           2022M10 NA       002 \n",
       "58  Ajalvir           2022M10 NA       002 \n",
       "59  Ajalvir           2022M10 NA       002 \n",
       "60  Ajalvir           2022M10 NA       002 \n",
       "61  Ajalvir           2022M10 NA       002 \n",
       "62  Ajalvir           2022M10 NA       002 \n",
       "63  Ajalvir           2022M10 NA       002 \n",
       "64  Ajalvir           2022M10 NA       002 \n",
       "65  Ajalvir           2022M10 NA       002 \n",
       "66  Ajalvir           2022M10 NA       002 \n",
       "67  Ajalvir           2022M10 58       002 \n",
       "68  Ajalvir           2022M10 49       002 \n",
       "69  Ajalvir           2022M10 NA       002 \n",
       "70  Ajalvir           2022M10 NA       002 \n",
       "71  Ajalvir           2022M10 NA       002 \n",
       "72  Ajalvir           2022M10 NA       002 "
      ]
     },
     "metadata": {},
     "output_type": "display_data"
    }
   ],
   "source": [
    "edata_01 |> filter(municipio_destino == \"Ajalvir\", periodo == \"2022M10\")"
   ]
  },
  {
   "cell_type": "code",
   "execution_count": 17,
   "metadata": {
    "vscode": {
     "languageId": "r"
    }
   },
   "outputs": [
    {
     "data": {
      "text/html": [
       "<table class=\"dataframe\">\n",
       "<caption>A spec_tbl_df: 5 x 7</caption>\n",
       "<thead>\n",
       "\t<tr><th scope=col>total_nacional</th><th scope=col>total_ccaa</th><th scope=col>provincia</th><th scope=col>municipio_destino</th><th scope=col>periodo</th><th scope=col>turistas</th><th scope=col>cmun</th></tr>\n",
       "\t<tr><th scope=col>&lt;chr&gt;</th><th scope=col>&lt;chr&gt;</th><th scope=col>&lt;chr&gt;</th><th scope=col>&lt;chr&gt;</th><th scope=col>&lt;chr&gt;</th><th scope=col>&lt;chr&gt;</th><th scope=col>&lt;chr&gt;</th></tr>\n",
       "</thead>\n",
       "<tbody>\n",
       "\t<tr><td>Total Nacional</td><td>NA</td><td>NA</td><td>Acebeda, La</td><td>2022M10</td><td>NA </td><td>001</td></tr>\n",
       "\t<tr><td>Total Nacional</td><td>NA</td><td>NA</td><td>Acebeda, La</td><td>2022M09</td><td>NA </td><td>001</td></tr>\n",
       "\t<tr><td>Total Nacional</td><td>NA</td><td>NA</td><td>Acebeda, La</td><td>2022M08</td><td>NA </td><td>001</td></tr>\n",
       "\t<tr><td>Total Nacional</td><td>NA</td><td>NA</td><td>Acebeda, La</td><td>2022M07</td><td>39 </td><td>001</td></tr>\n",
       "\t<tr><td>Total Nacional</td><td>NA</td><td>NA</td><td>Acebeda, La</td><td>2022M06</td><td>125</td><td>001</td></tr>\n",
       "</tbody>\n",
       "</table>\n"
      ],
      "text/latex": [
       "A spec\\_tbl\\_df: 5 x 7\n",
       "\\begin{tabular}{lllllll}\n",
       " total\\_nacional & total\\_ccaa & provincia & municipio\\_destino & periodo & turistas & cmun\\\\\n",
       " <chr> & <chr> & <chr> & <chr> & <chr> & <chr> & <chr>\\\\\n",
       "\\hline\n",
       "\t Total Nacional & NA & NA & Acebeda, La & 2022M10 & NA  & 001\\\\\n",
       "\t Total Nacional & NA & NA & Acebeda, La & 2022M09 & NA  & 001\\\\\n",
       "\t Total Nacional & NA & NA & Acebeda, La & 2022M08 & NA  & 001\\\\\n",
       "\t Total Nacional & NA & NA & Acebeda, La & 2022M07 & 39  & 001\\\\\n",
       "\t Total Nacional & NA & NA & Acebeda, La & 2022M06 & 125 & 001\\\\\n",
       "\\end{tabular}\n"
      ],
      "text/markdown": [
       "\n",
       "A spec_tbl_df: 5 x 7\n",
       "\n",
       "| total_nacional &lt;chr&gt; | total_ccaa &lt;chr&gt; | provincia &lt;chr&gt; | municipio_destino &lt;chr&gt; | periodo &lt;chr&gt; | turistas &lt;chr&gt; | cmun &lt;chr&gt; |\n",
       "|---|---|---|---|---|---|---|\n",
       "| Total Nacional | NA | NA | Acebeda, La | 2022M10 | NA  | 001 |\n",
       "| Total Nacional | NA | NA | Acebeda, La | 2022M09 | NA  | 001 |\n",
       "| Total Nacional | NA | NA | Acebeda, La | 2022M08 | NA  | 001 |\n",
       "| Total Nacional | NA | NA | Acebeda, La | 2022M07 | 39  | 001 |\n",
       "| Total Nacional | NA | NA | Acebeda, La | 2022M06 | 125 | 001 |\n",
       "\n"
      ],
      "text/plain": [
       "  total_nacional total_ccaa provincia municipio_destino periodo turistas cmun\n",
       "1 Total Nacional NA         NA        Acebeda, La       2022M10 NA       001 \n",
       "2 Total Nacional NA         NA        Acebeda, La       2022M09 NA       001 \n",
       "3 Total Nacional NA         NA        Acebeda, La       2022M08 NA       001 \n",
       "4 Total Nacional NA         NA        Acebeda, La       2022M07 39       001 \n",
       "5 Total Nacional NA         NA        Acebeda, La       2022M06 125      001 "
      ]
     },
     "metadata": {},
     "output_type": "display_data"
    }
   ],
   "source": [
    "edata_01 |> slice_head(n = 5)"
   ]
  },
  {
   "attachments": {},
   "cell_type": "markdown",
   "metadata": {},
   "source": [
    "* Transformar periodo a mes para poder unir después, identificar NAs por secreto estadístico y convertir a numérica el número de turistas"
   ]
  },
  {
   "cell_type": "code",
   "execution_count": 32,
   "metadata": {
    "vscode": {
     "languageId": "r"
    }
   },
   "outputs": [],
   "source": [
    "tdata <- edata_01 |>\n",
    "    mutate(mes = str_replace(periodo, \"M\", \"-\")) |>\n",
    "    select(-periodo) |>\n",
    "    mutate(secreto = if_else(turistas == \".\", 1, 0)) |>\n",
    "    mutate(turistas = str_replace_all(turistas, \"\\\\.\", \"\")) |>\n",
    "    mutate(turistas = as.numeric(turistas))"
   ]
  },
  {
   "cell_type": "code",
   "execution_count": 33,
   "metadata": {
    "vscode": {
     "languageId": "r"
    }
   },
   "outputs": [
    {
     "name": "stdout",
     "output_type": "stream",
     "text": [
      "Rows: 521,280\n",
      "Columns: 8\n",
      "$ total_nacional    \u001b[3m\u001b[90m<chr>\u001b[39m\u001b[23m \"Total Nacional\", \"Total Nacional\", \"Total Nacional\"…\n",
      "$ total_ccaa        \u001b[3m\u001b[90m<chr>\u001b[39m\u001b[23m NA, NA, NA, NA, NA, NA, NA, NA, NA, NA, NA, NA, NA, …\n",
      "$ provincia         \u001b[3m\u001b[90m<chr>\u001b[39m\u001b[23m NA, NA, NA, NA, NA, NA, NA, NA, NA, NA, NA, NA, NA, …\n",
      "$ municipio_destino \u001b[3m\u001b[90m<chr>\u001b[39m\u001b[23m \"Acebeda, La\", \"Acebeda, La\", \"Acebeda, La\", \"Acebed…\n",
      "$ turistas          \u001b[3m\u001b[90m<dbl>\u001b[39m\u001b[23m NA, NA, NA, 39, 125, 31, NA, NA, NA, NA, NA, NA, NA,…\n",
      "$ cmun              \u001b[3m\u001b[90m<chr>\u001b[39m\u001b[23m \"001\", \"001\", \"001\", \"001\", \"001\", \"001\", \"001\", \"00…\n",
      "$ mes               \u001b[3m\u001b[90m<chr>\u001b[39m\u001b[23m \"2022-10\", \"2022-09\", \"2022-08\", \"2022-07\", \"2022-06…\n",
      "$ secreto           \u001b[3m\u001b[90m<dbl>\u001b[39m\u001b[23m NA, NA, NA, 0, 0, 0, NA, NA, NA, 1, NA, NA, NA, NA, …\n"
     ]
    }
   ],
   "source": [
    "tdata |> glimpse()"
   ]
  },
  {
   "cell_type": "code",
   "execution_count": 34,
   "metadata": {
    "vscode": {
     "languageId": "r"
    }
   },
   "outputs": [
    {
     "data": {
      "text/html": [
       "<table class=\"dataframe\">\n",
       "<caption>A tibble: 72 x 8</caption>\n",
       "<thead>\n",
       "\t<tr><th scope=col>total_nacional</th><th scope=col>total_ccaa</th><th scope=col>provincia</th><th scope=col>municipio_destino</th><th scope=col>turistas</th><th scope=col>cmun</th><th scope=col>mes</th><th scope=col>secreto</th></tr>\n",
       "\t<tr><th scope=col>&lt;chr&gt;</th><th scope=col>&lt;chr&gt;</th><th scope=col>&lt;chr&gt;</th><th scope=col>&lt;chr&gt;</th><th scope=col>&lt;dbl&gt;</th><th scope=col>&lt;chr&gt;</th><th scope=col>&lt;chr&gt;</th><th scope=col>&lt;dbl&gt;</th></tr>\n",
       "</thead>\n",
       "<tbody>\n",
       "\t<tr><td>Total Nacional</td><td>NA                     </td><td>NA                    </td><td>Ajalvir</td><td>1104</td><td>002</td><td>2022-10</td><td> 0</td></tr>\n",
       "\t<tr><td>Total Nacional</td><td>Andalucía              </td><td>NA                    </td><td>Ajalvir</td><td> 202</td><td>002</td><td>2022-10</td><td> 0</td></tr>\n",
       "\t<tr><td>Total Nacional</td><td>Andalucía              </td><td>Almería               </td><td>Ajalvir</td><td>  NA</td><td>002</td><td>2022-10</td><td>NA</td></tr>\n",
       "\t<tr><td>Total Nacional</td><td>Andalucía              </td><td>Cádiz                 </td><td>Ajalvir</td><td>  NA</td><td>002</td><td>2022-10</td><td>NA</td></tr>\n",
       "\t<tr><td>Total Nacional</td><td>Andalucía              </td><td>Córdoba               </td><td>Ajalvir</td><td>  NA</td><td>002</td><td>2022-10</td><td>NA</td></tr>\n",
       "\t<tr><td>Total Nacional</td><td>Andalucía              </td><td>Granada               </td><td>Ajalvir</td><td>  NA</td><td>002</td><td>2022-10</td><td>NA</td></tr>\n",
       "\t<tr><td>Total Nacional</td><td>Andalucía              </td><td>Huelva                </td><td>Ajalvir</td><td>  NA</td><td>002</td><td>2022-10</td><td>NA</td></tr>\n",
       "\t<tr><td>Total Nacional</td><td>Andalucía              </td><td>Jaén                  </td><td>Ajalvir</td><td>  NA</td><td>002</td><td>2022-10</td><td>NA</td></tr>\n",
       "\t<tr><td>Total Nacional</td><td>Andalucía              </td><td>Málaga                </td><td>Ajalvir</td><td>  46</td><td>002</td><td>2022-10</td><td> 0</td></tr>\n",
       "\t<tr><td>Total Nacional</td><td>Andalucía              </td><td>Sevilla               </td><td>Ajalvir</td><td>  79</td><td>002</td><td>2022-10</td><td> 0</td></tr>\n",
       "\t<tr><td>Total Nacional</td><td>Aragón                 </td><td>NA                    </td><td>Ajalvir</td><td>  39</td><td>002</td><td>2022-10</td><td> 0</td></tr>\n",
       "\t<tr><td>Total Nacional</td><td>Aragón                 </td><td>Huesca                </td><td>Ajalvir</td><td>  NA</td><td>002</td><td>2022-10</td><td>NA</td></tr>\n",
       "\t<tr><td>Total Nacional</td><td>Aragón                 </td><td>Teruel                </td><td>Ajalvir</td><td>  NA</td><td>002</td><td>2022-10</td><td>NA</td></tr>\n",
       "\t<tr><td>Total Nacional</td><td>Aragón                 </td><td>Zaragoza              </td><td>Ajalvir</td><td>  39</td><td>002</td><td>2022-10</td><td> 0</td></tr>\n",
       "\t<tr><td>Total Nacional</td><td>Asturias, Principado de</td><td>NA                    </td><td>Ajalvir</td><td>  NA</td><td>002</td><td>2022-10</td><td>NA</td></tr>\n",
       "\t<tr><td>Total Nacional</td><td>Asturias, Principado de</td><td>Asturias              </td><td>Ajalvir</td><td>  NA</td><td>002</td><td>2022-10</td><td>NA</td></tr>\n",
       "\t<tr><td>Total Nacional</td><td>Balears, Illes         </td><td>NA                    </td><td>Ajalvir</td><td>  NA</td><td>002</td><td>2022-10</td><td>NA</td></tr>\n",
       "\t<tr><td>Total Nacional</td><td>Balears, Illes         </td><td>Balears, Illes        </td><td>Ajalvir</td><td>  NA</td><td>002</td><td>2022-10</td><td>NA</td></tr>\n",
       "\t<tr><td>Total Nacional</td><td>Canarias               </td><td>NA                    </td><td>Ajalvir</td><td>  NA</td><td>002</td><td>2022-10</td><td>NA</td></tr>\n",
       "\t<tr><td>Total Nacional</td><td>Canarias               </td><td>Palmas, Las           </td><td>Ajalvir</td><td>  NA</td><td>002</td><td>2022-10</td><td>NA</td></tr>\n",
       "\t<tr><td>Total Nacional</td><td>Canarias               </td><td>Santa Cruz de Tenerife</td><td>Ajalvir</td><td>  NA</td><td>002</td><td>2022-10</td><td>NA</td></tr>\n",
       "\t<tr><td>Total Nacional</td><td>Cantabria              </td><td>NA                    </td><td>Ajalvir</td><td>  NA</td><td>002</td><td>2022-10</td><td>NA</td></tr>\n",
       "\t<tr><td>Total Nacional</td><td>Cantabria              </td><td>Cantabria             </td><td>Ajalvir</td><td>  NA</td><td>002</td><td>2022-10</td><td>NA</td></tr>\n",
       "\t<tr><td>Total Nacional</td><td>Castilla - La Mancha   </td><td>NA                    </td><td>Ajalvir</td><td> 428</td><td>002</td><td>2022-10</td><td> 0</td></tr>\n",
       "\t<tr><td>Total Nacional</td><td>Castilla - La Mancha   </td><td>Albacete              </td><td>Ajalvir</td><td>  NA</td><td>002</td><td>2022-10</td><td>NA</td></tr>\n",
       "\t<tr><td>Total Nacional</td><td>Castilla - La Mancha   </td><td>Ciudad Real           </td><td>Ajalvir</td><td>  NA</td><td>002</td><td>2022-10</td><td>NA</td></tr>\n",
       "\t<tr><td>Total Nacional</td><td>Castilla - La Mancha   </td><td>Cuenca                </td><td>Ajalvir</td><td>  NA</td><td>002</td><td>2022-10</td><td>NA</td></tr>\n",
       "\t<tr><td>Total Nacional</td><td>Castilla - La Mancha   </td><td>Guadalajara           </td><td>Ajalvir</td><td> 309</td><td>002</td><td>2022-10</td><td> 0</td></tr>\n",
       "\t<tr><td>Total Nacional</td><td>Castilla - La Mancha   </td><td>Toledo                </td><td>Ajalvir</td><td>  63</td><td>002</td><td>2022-10</td><td> 0</td></tr>\n",
       "\t<tr><td>Total Nacional</td><td>Castilla y León        </td><td>NA                    </td><td>Ajalvir</td><td>  64</td><td>002</td><td>2022-10</td><td> 0</td></tr>\n",
       "\t<tr><td>...</td><td>...</td><td>...</td><td>...</td><td>...</td><td>...</td><td>...</td><td>...</td></tr>\n",
       "\t<tr><td>Total Nacional</td><td>Cataluña                   </td><td>Lleida            </td><td>Ajalvir</td><td>NA</td><td>002</td><td>2022-10</td><td>NA</td></tr>\n",
       "\t<tr><td>Total Nacional</td><td>Cataluña                   </td><td>Tarragona         </td><td>Ajalvir</td><td>NA</td><td>002</td><td>2022-10</td><td>NA</td></tr>\n",
       "\t<tr><td>Total Nacional</td><td>Ceuta                      </td><td>NA                </td><td>Ajalvir</td><td>NA</td><td>002</td><td>2022-10</td><td>NA</td></tr>\n",
       "\t<tr><td>Total Nacional</td><td>Ceuta                      </td><td>Ceuta             </td><td>Ajalvir</td><td>NA</td><td>002</td><td>2022-10</td><td>NA</td></tr>\n",
       "\t<tr><td>Total Nacional</td><td>Comunitat Valenciana       </td><td>NA                </td><td>Ajalvir</td><td>90</td><td>002</td><td>2022-10</td><td> 0</td></tr>\n",
       "\t<tr><td>Total Nacional</td><td>Comunitat Valenciana       </td><td>Alicante/Alacant  </td><td>Ajalvir</td><td>43</td><td>002</td><td>2022-10</td><td> 0</td></tr>\n",
       "\t<tr><td>Total Nacional</td><td>Comunitat Valenciana       </td><td>Castellón/Castelló</td><td>Ajalvir</td><td>NA</td><td>002</td><td>2022-10</td><td>NA</td></tr>\n",
       "\t<tr><td>Total Nacional</td><td>Comunitat Valenciana       </td><td>Valencia/València </td><td>Ajalvir</td><td>40</td><td>002</td><td>2022-10</td><td> 0</td></tr>\n",
       "\t<tr><td>Total Nacional</td><td>Extremadura                </td><td>NA                </td><td>Ajalvir</td><td>57</td><td>002</td><td>2022-10</td><td> 0</td></tr>\n",
       "\t<tr><td>Total Nacional</td><td>Extremadura                </td><td>Badajoz           </td><td>Ajalvir</td><td>35</td><td>002</td><td>2022-10</td><td> 0</td></tr>\n",
       "\t<tr><td>Total Nacional</td><td>Extremadura                </td><td>Cáceres           </td><td>Ajalvir</td><td>NA</td><td>002</td><td>2022-10</td><td>NA</td></tr>\n",
       "\t<tr><td>Total Nacional</td><td>Galicia                    </td><td>NA                </td><td>Ajalvir</td><td>39</td><td>002</td><td>2022-10</td><td> 0</td></tr>\n",
       "\t<tr><td>Total Nacional</td><td>Galicia                    </td><td>Coruña, A         </td><td>Ajalvir</td><td>NA</td><td>002</td><td>2022-10</td><td>NA</td></tr>\n",
       "\t<tr><td>Total Nacional</td><td>Galicia                    </td><td>Lugo              </td><td>Ajalvir</td><td>NA</td><td>002</td><td>2022-10</td><td>NA</td></tr>\n",
       "\t<tr><td>Total Nacional</td><td>Galicia                    </td><td>Ourense           </td><td>Ajalvir</td><td>NA</td><td>002</td><td>2022-10</td><td>NA</td></tr>\n",
       "\t<tr><td>Total Nacional</td><td>Galicia                    </td><td>Pontevedra        </td><td>Ajalvir</td><td>NA</td><td>002</td><td>2022-10</td><td>NA</td></tr>\n",
       "\t<tr><td>Total Nacional</td><td>Madrid, Comunidad de       </td><td>NA                </td><td>Ajalvir</td><td>NA</td><td>002</td><td>2022-10</td><td>NA</td></tr>\n",
       "\t<tr><td>Total Nacional</td><td>Madrid, Comunidad de       </td><td>Madrid            </td><td>Ajalvir</td><td>NA</td><td>002</td><td>2022-10</td><td>NA</td></tr>\n",
       "\t<tr><td>Total Nacional</td><td>Melilla                    </td><td>NA                </td><td>Ajalvir</td><td>NA</td><td>002</td><td>2022-10</td><td>NA</td></tr>\n",
       "\t<tr><td>Total Nacional</td><td>Melilla                    </td><td>Melilla           </td><td>Ajalvir</td><td>NA</td><td>002</td><td>2022-10</td><td>NA</td></tr>\n",
       "\t<tr><td>Total Nacional</td><td>Murcia, Región de          </td><td>NA                </td><td>Ajalvir</td><td>NA</td><td>002</td><td>2022-10</td><td>NA</td></tr>\n",
       "\t<tr><td>Total Nacional</td><td>Murcia, Región de          </td><td>Murcia            </td><td>Ajalvir</td><td>NA</td><td>002</td><td>2022-10</td><td>NA</td></tr>\n",
       "\t<tr><td>Total Nacional</td><td>Navarra, Comunidad Foral de</td><td>NA                </td><td>Ajalvir</td><td>NA</td><td>002</td><td>2022-10</td><td>NA</td></tr>\n",
       "\t<tr><td>Total Nacional</td><td>Navarra, Comunidad Foral de</td><td>Navarra           </td><td>Ajalvir</td><td>NA</td><td>002</td><td>2022-10</td><td>NA</td></tr>\n",
       "\t<tr><td>Total Nacional</td><td>País Vasco                 </td><td>NA                </td><td>Ajalvir</td><td>58</td><td>002</td><td>2022-10</td><td> 0</td></tr>\n",
       "\t<tr><td>Total Nacional</td><td>País Vasco                 </td><td>Araba/Álava       </td><td>Ajalvir</td><td>49</td><td>002</td><td>2022-10</td><td> 0</td></tr>\n",
       "\t<tr><td>Total Nacional</td><td>País Vasco                 </td><td>Bizkaia           </td><td>Ajalvir</td><td>NA</td><td>002</td><td>2022-10</td><td>NA</td></tr>\n",
       "\t<tr><td>Total Nacional</td><td>País Vasco                 </td><td>Gipuzkoa          </td><td>Ajalvir</td><td>NA</td><td>002</td><td>2022-10</td><td>NA</td></tr>\n",
       "\t<tr><td>Total Nacional</td><td>Rioja, La                  </td><td>NA                </td><td>Ajalvir</td><td>NA</td><td>002</td><td>2022-10</td><td>NA</td></tr>\n",
       "\t<tr><td>Total Nacional</td><td>Rioja, La                  </td><td>Rioja, La         </td><td>Ajalvir</td><td>NA</td><td>002</td><td>2022-10</td><td>NA</td></tr>\n",
       "</tbody>\n",
       "</table>\n"
      ],
      "text/latex": [
       "A tibble: 72 x 8\n",
       "\\begin{tabular}{llllllll}\n",
       " total\\_nacional & total\\_ccaa & provincia & municipio\\_destino & turistas & cmun & mes & secreto\\\\\n",
       " <chr> & <chr> & <chr> & <chr> & <dbl> & <chr> & <chr> & <dbl>\\\\\n",
       "\\hline\n",
       "\t Total Nacional & NA                      & NA                     & Ajalvir & 1104 & 002 & 2022-10 &  0\\\\\n",
       "\t Total Nacional & Andalucía               & NA                     & Ajalvir &  202 & 002 & 2022-10 &  0\\\\\n",
       "\t Total Nacional & Andalucía               & Almería                & Ajalvir &   NA & 002 & 2022-10 & NA\\\\\n",
       "\t Total Nacional & Andalucía               & Cádiz                  & Ajalvir &   NA & 002 & 2022-10 & NA\\\\\n",
       "\t Total Nacional & Andalucía               & Córdoba                & Ajalvir &   NA & 002 & 2022-10 & NA\\\\\n",
       "\t Total Nacional & Andalucía               & Granada                & Ajalvir &   NA & 002 & 2022-10 & NA\\\\\n",
       "\t Total Nacional & Andalucía               & Huelva                 & Ajalvir &   NA & 002 & 2022-10 & NA\\\\\n",
       "\t Total Nacional & Andalucía               & Jaén                   & Ajalvir &   NA & 002 & 2022-10 & NA\\\\\n",
       "\t Total Nacional & Andalucía               & Málaga                 & Ajalvir &   46 & 002 & 2022-10 &  0\\\\\n",
       "\t Total Nacional & Andalucía               & Sevilla                & Ajalvir &   79 & 002 & 2022-10 &  0\\\\\n",
       "\t Total Nacional & Aragón                  & NA                     & Ajalvir &   39 & 002 & 2022-10 &  0\\\\\n",
       "\t Total Nacional & Aragón                  & Huesca                 & Ajalvir &   NA & 002 & 2022-10 & NA\\\\\n",
       "\t Total Nacional & Aragón                  & Teruel                 & Ajalvir &   NA & 002 & 2022-10 & NA\\\\\n",
       "\t Total Nacional & Aragón                  & Zaragoza               & Ajalvir &   39 & 002 & 2022-10 &  0\\\\\n",
       "\t Total Nacional & Asturias, Principado de & NA                     & Ajalvir &   NA & 002 & 2022-10 & NA\\\\\n",
       "\t Total Nacional & Asturias, Principado de & Asturias               & Ajalvir &   NA & 002 & 2022-10 & NA\\\\\n",
       "\t Total Nacional & Balears, Illes          & NA                     & Ajalvir &   NA & 002 & 2022-10 & NA\\\\\n",
       "\t Total Nacional & Balears, Illes          & Balears, Illes         & Ajalvir &   NA & 002 & 2022-10 & NA\\\\\n",
       "\t Total Nacional & Canarias                & NA                     & Ajalvir &   NA & 002 & 2022-10 & NA\\\\\n",
       "\t Total Nacional & Canarias                & Palmas, Las            & Ajalvir &   NA & 002 & 2022-10 & NA\\\\\n",
       "\t Total Nacional & Canarias                & Santa Cruz de Tenerife & Ajalvir &   NA & 002 & 2022-10 & NA\\\\\n",
       "\t Total Nacional & Cantabria               & NA                     & Ajalvir &   NA & 002 & 2022-10 & NA\\\\\n",
       "\t Total Nacional & Cantabria               & Cantabria              & Ajalvir &   NA & 002 & 2022-10 & NA\\\\\n",
       "\t Total Nacional & Castilla - La Mancha    & NA                     & Ajalvir &  428 & 002 & 2022-10 &  0\\\\\n",
       "\t Total Nacional & Castilla - La Mancha    & Albacete               & Ajalvir &   NA & 002 & 2022-10 & NA\\\\\n",
       "\t Total Nacional & Castilla - La Mancha    & Ciudad Real            & Ajalvir &   NA & 002 & 2022-10 & NA\\\\\n",
       "\t Total Nacional & Castilla - La Mancha    & Cuenca                 & Ajalvir &   NA & 002 & 2022-10 & NA\\\\\n",
       "\t Total Nacional & Castilla - La Mancha    & Guadalajara            & Ajalvir &  309 & 002 & 2022-10 &  0\\\\\n",
       "\t Total Nacional & Castilla - La Mancha    & Toledo                 & Ajalvir &   63 & 002 & 2022-10 &  0\\\\\n",
       "\t Total Nacional & Castilla y León         & NA                     & Ajalvir &   64 & 002 & 2022-10 &  0\\\\\n",
       "\t ... & ... & ... & ... & ... & ... & ... & ...\\\\\n",
       "\t Total Nacional & Cataluña                    & Lleida             & Ajalvir & NA & 002 & 2022-10 & NA\\\\\n",
       "\t Total Nacional & Cataluña                    & Tarragona          & Ajalvir & NA & 002 & 2022-10 & NA\\\\\n",
       "\t Total Nacional & Ceuta                       & NA                 & Ajalvir & NA & 002 & 2022-10 & NA\\\\\n",
       "\t Total Nacional & Ceuta                       & Ceuta              & Ajalvir & NA & 002 & 2022-10 & NA\\\\\n",
       "\t Total Nacional & Comunitat Valenciana        & NA                 & Ajalvir & 90 & 002 & 2022-10 &  0\\\\\n",
       "\t Total Nacional & Comunitat Valenciana        & Alicante/Alacant   & Ajalvir & 43 & 002 & 2022-10 &  0\\\\\n",
       "\t Total Nacional & Comunitat Valenciana        & Castellón/Castelló & Ajalvir & NA & 002 & 2022-10 & NA\\\\\n",
       "\t Total Nacional & Comunitat Valenciana        & Valencia/València  & Ajalvir & 40 & 002 & 2022-10 &  0\\\\\n",
       "\t Total Nacional & Extremadura                 & NA                 & Ajalvir & 57 & 002 & 2022-10 &  0\\\\\n",
       "\t Total Nacional & Extremadura                 & Badajoz            & Ajalvir & 35 & 002 & 2022-10 &  0\\\\\n",
       "\t Total Nacional & Extremadura                 & Cáceres            & Ajalvir & NA & 002 & 2022-10 & NA\\\\\n",
       "\t Total Nacional & Galicia                     & NA                 & Ajalvir & 39 & 002 & 2022-10 &  0\\\\\n",
       "\t Total Nacional & Galicia                     & Coruña, A          & Ajalvir & NA & 002 & 2022-10 & NA\\\\\n",
       "\t Total Nacional & Galicia                     & Lugo               & Ajalvir & NA & 002 & 2022-10 & NA\\\\\n",
       "\t Total Nacional & Galicia                     & Ourense            & Ajalvir & NA & 002 & 2022-10 & NA\\\\\n",
       "\t Total Nacional & Galicia                     & Pontevedra         & Ajalvir & NA & 002 & 2022-10 & NA\\\\\n",
       "\t Total Nacional & Madrid, Comunidad de        & NA                 & Ajalvir & NA & 002 & 2022-10 & NA\\\\\n",
       "\t Total Nacional & Madrid, Comunidad de        & Madrid             & Ajalvir & NA & 002 & 2022-10 & NA\\\\\n",
       "\t Total Nacional & Melilla                     & NA                 & Ajalvir & NA & 002 & 2022-10 & NA\\\\\n",
       "\t Total Nacional & Melilla                     & Melilla            & Ajalvir & NA & 002 & 2022-10 & NA\\\\\n",
       "\t Total Nacional & Murcia, Región de           & NA                 & Ajalvir & NA & 002 & 2022-10 & NA\\\\\n",
       "\t Total Nacional & Murcia, Región de           & Murcia             & Ajalvir & NA & 002 & 2022-10 & NA\\\\\n",
       "\t Total Nacional & Navarra, Comunidad Foral de & NA                 & Ajalvir & NA & 002 & 2022-10 & NA\\\\\n",
       "\t Total Nacional & Navarra, Comunidad Foral de & Navarra            & Ajalvir & NA & 002 & 2022-10 & NA\\\\\n",
       "\t Total Nacional & País Vasco                  & NA                 & Ajalvir & 58 & 002 & 2022-10 &  0\\\\\n",
       "\t Total Nacional & País Vasco                  & Araba/Álava        & Ajalvir & 49 & 002 & 2022-10 &  0\\\\\n",
       "\t Total Nacional & País Vasco                  & Bizkaia            & Ajalvir & NA & 002 & 2022-10 & NA\\\\\n",
       "\t Total Nacional & País Vasco                  & Gipuzkoa           & Ajalvir & NA & 002 & 2022-10 & NA\\\\\n",
       "\t Total Nacional & Rioja, La                   & NA                 & Ajalvir & NA & 002 & 2022-10 & NA\\\\\n",
       "\t Total Nacional & Rioja, La                   & Rioja, La          & Ajalvir & NA & 002 & 2022-10 & NA\\\\\n",
       "\\end{tabular}\n"
      ],
      "text/markdown": [
       "\n",
       "A tibble: 72 x 8\n",
       "\n",
       "| total_nacional &lt;chr&gt; | total_ccaa &lt;chr&gt; | provincia &lt;chr&gt; | municipio_destino &lt;chr&gt; | turistas &lt;dbl&gt; | cmun &lt;chr&gt; | mes &lt;chr&gt; | secreto &lt;dbl&gt; |\n",
       "|---|---|---|---|---|---|---|---|\n",
       "| Total Nacional | NA                      | NA                     | Ajalvir | 1104 | 002 | 2022-10 |  0 |\n",
       "| Total Nacional | Andalucía               | NA                     | Ajalvir |  202 | 002 | 2022-10 |  0 |\n",
       "| Total Nacional | Andalucía               | Almería                | Ajalvir |   NA | 002 | 2022-10 | NA |\n",
       "| Total Nacional | Andalucía               | Cádiz                  | Ajalvir |   NA | 002 | 2022-10 | NA |\n",
       "| Total Nacional | Andalucía               | Córdoba                | Ajalvir |   NA | 002 | 2022-10 | NA |\n",
       "| Total Nacional | Andalucía               | Granada                | Ajalvir |   NA | 002 | 2022-10 | NA |\n",
       "| Total Nacional | Andalucía               | Huelva                 | Ajalvir |   NA | 002 | 2022-10 | NA |\n",
       "| Total Nacional | Andalucía               | Jaén                   | Ajalvir |   NA | 002 | 2022-10 | NA |\n",
       "| Total Nacional | Andalucía               | Málaga                 | Ajalvir |   46 | 002 | 2022-10 |  0 |\n",
       "| Total Nacional | Andalucía               | Sevilla                | Ajalvir |   79 | 002 | 2022-10 |  0 |\n",
       "| Total Nacional | Aragón                  | NA                     | Ajalvir |   39 | 002 | 2022-10 |  0 |\n",
       "| Total Nacional | Aragón                  | Huesca                 | Ajalvir |   NA | 002 | 2022-10 | NA |\n",
       "| Total Nacional | Aragón                  | Teruel                 | Ajalvir |   NA | 002 | 2022-10 | NA |\n",
       "| Total Nacional | Aragón                  | Zaragoza               | Ajalvir |   39 | 002 | 2022-10 |  0 |\n",
       "| Total Nacional | Asturias, Principado de | NA                     | Ajalvir |   NA | 002 | 2022-10 | NA |\n",
       "| Total Nacional | Asturias, Principado de | Asturias               | Ajalvir |   NA | 002 | 2022-10 | NA |\n",
       "| Total Nacional | Balears, Illes          | NA                     | Ajalvir |   NA | 002 | 2022-10 | NA |\n",
       "| Total Nacional | Balears, Illes          | Balears, Illes         | Ajalvir |   NA | 002 | 2022-10 | NA |\n",
       "| Total Nacional | Canarias                | NA                     | Ajalvir |   NA | 002 | 2022-10 | NA |\n",
       "| Total Nacional | Canarias                | Palmas, Las            | Ajalvir |   NA | 002 | 2022-10 | NA |\n",
       "| Total Nacional | Canarias                | Santa Cruz de Tenerife | Ajalvir |   NA | 002 | 2022-10 | NA |\n",
       "| Total Nacional | Cantabria               | NA                     | Ajalvir |   NA | 002 | 2022-10 | NA |\n",
       "| Total Nacional | Cantabria               | Cantabria              | Ajalvir |   NA | 002 | 2022-10 | NA |\n",
       "| Total Nacional | Castilla - La Mancha    | NA                     | Ajalvir |  428 | 002 | 2022-10 |  0 |\n",
       "| Total Nacional | Castilla - La Mancha    | Albacete               | Ajalvir |   NA | 002 | 2022-10 | NA |\n",
       "| Total Nacional | Castilla - La Mancha    | Ciudad Real            | Ajalvir |   NA | 002 | 2022-10 | NA |\n",
       "| Total Nacional | Castilla - La Mancha    | Cuenca                 | Ajalvir |   NA | 002 | 2022-10 | NA |\n",
       "| Total Nacional | Castilla - La Mancha    | Guadalajara            | Ajalvir |  309 | 002 | 2022-10 |  0 |\n",
       "| Total Nacional | Castilla - La Mancha    | Toledo                 | Ajalvir |   63 | 002 | 2022-10 |  0 |\n",
       "| Total Nacional | Castilla y León         | NA                     | Ajalvir |   64 | 002 | 2022-10 |  0 |\n",
       "| ... | ... | ... | ... | ... | ... | ... | ... |\n",
       "| Total Nacional | Cataluña                    | Lleida             | Ajalvir | NA | 002 | 2022-10 | NA |\n",
       "| Total Nacional | Cataluña                    | Tarragona          | Ajalvir | NA | 002 | 2022-10 | NA |\n",
       "| Total Nacional | Ceuta                       | NA                 | Ajalvir | NA | 002 | 2022-10 | NA |\n",
       "| Total Nacional | Ceuta                       | Ceuta              | Ajalvir | NA | 002 | 2022-10 | NA |\n",
       "| Total Nacional | Comunitat Valenciana        | NA                 | Ajalvir | 90 | 002 | 2022-10 |  0 |\n",
       "| Total Nacional | Comunitat Valenciana        | Alicante/Alacant   | Ajalvir | 43 | 002 | 2022-10 |  0 |\n",
       "| Total Nacional | Comunitat Valenciana        | Castellón/Castelló | Ajalvir | NA | 002 | 2022-10 | NA |\n",
       "| Total Nacional | Comunitat Valenciana        | Valencia/València  | Ajalvir | 40 | 002 | 2022-10 |  0 |\n",
       "| Total Nacional | Extremadura                 | NA                 | Ajalvir | 57 | 002 | 2022-10 |  0 |\n",
       "| Total Nacional | Extremadura                 | Badajoz            | Ajalvir | 35 | 002 | 2022-10 |  0 |\n",
       "| Total Nacional | Extremadura                 | Cáceres            | Ajalvir | NA | 002 | 2022-10 | NA |\n",
       "| Total Nacional | Galicia                     | NA                 | Ajalvir | 39 | 002 | 2022-10 |  0 |\n",
       "| Total Nacional | Galicia                     | Coruña, A          | Ajalvir | NA | 002 | 2022-10 | NA |\n",
       "| Total Nacional | Galicia                     | Lugo               | Ajalvir | NA | 002 | 2022-10 | NA |\n",
       "| Total Nacional | Galicia                     | Ourense            | Ajalvir | NA | 002 | 2022-10 | NA |\n",
       "| Total Nacional | Galicia                     | Pontevedra         | Ajalvir | NA | 002 | 2022-10 | NA |\n",
       "| Total Nacional | Madrid, Comunidad de        | NA                 | Ajalvir | NA | 002 | 2022-10 | NA |\n",
       "| Total Nacional | Madrid, Comunidad de        | Madrid             | Ajalvir | NA | 002 | 2022-10 | NA |\n",
       "| Total Nacional | Melilla                     | NA                 | Ajalvir | NA | 002 | 2022-10 | NA |\n",
       "| Total Nacional | Melilla                     | Melilla            | Ajalvir | NA | 002 | 2022-10 | NA |\n",
       "| Total Nacional | Murcia, Región de           | NA                 | Ajalvir | NA | 002 | 2022-10 | NA |\n",
       "| Total Nacional | Murcia, Región de           | Murcia             | Ajalvir | NA | 002 | 2022-10 | NA |\n",
       "| Total Nacional | Navarra, Comunidad Foral de | NA                 | Ajalvir | NA | 002 | 2022-10 | NA |\n",
       "| Total Nacional | Navarra, Comunidad Foral de | Navarra            | Ajalvir | NA | 002 | 2022-10 | NA |\n",
       "| Total Nacional | País Vasco                  | NA                 | Ajalvir | 58 | 002 | 2022-10 |  0 |\n",
       "| Total Nacional | País Vasco                  | Araba/Álava        | Ajalvir | 49 | 002 | 2022-10 |  0 |\n",
       "| Total Nacional | País Vasco                  | Bizkaia            | Ajalvir | NA | 002 | 2022-10 | NA |\n",
       "| Total Nacional | País Vasco                  | Gipuzkoa           | Ajalvir | NA | 002 | 2022-10 | NA |\n",
       "| Total Nacional | Rioja, La                   | NA                 | Ajalvir | NA | 002 | 2022-10 | NA |\n",
       "| Total Nacional | Rioja, La                   | Rioja, La          | Ajalvir | NA | 002 | 2022-10 | NA |\n",
       "\n"
      ],
      "text/plain": [
       "    total_nacional total_ccaa                  provincia             \n",
       "1   Total Nacional NA                          NA                    \n",
       "2   Total Nacional Andalucía                   NA                    \n",
       "3   Total Nacional Andalucía                   Almería               \n",
       "4   Total Nacional Andalucía                   Cádiz                 \n",
       "5   Total Nacional Andalucía                   Córdoba               \n",
       "6   Total Nacional Andalucía                   Granada               \n",
       "7   Total Nacional Andalucía                   Huelva                \n",
       "8   Total Nacional Andalucía                   Jaén                  \n",
       "9   Total Nacional Andalucía                   Málaga                \n",
       "10  Total Nacional Andalucía                   Sevilla               \n",
       "11  Total Nacional Aragón                      NA                    \n",
       "12  Total Nacional Aragón                      Huesca                \n",
       "13  Total Nacional Aragón                      Teruel                \n",
       "14  Total Nacional Aragón                      Zaragoza              \n",
       "15  Total Nacional Asturias, Principado de     NA                    \n",
       "16  Total Nacional Asturias, Principado de     Asturias              \n",
       "17  Total Nacional Balears, Illes              NA                    \n",
       "18  Total Nacional Balears, Illes              Balears, Illes        \n",
       "19  Total Nacional Canarias                    NA                    \n",
       "20  Total Nacional Canarias                    Palmas, Las           \n",
       "21  Total Nacional Canarias                    Santa Cruz de Tenerife\n",
       "22  Total Nacional Cantabria                   NA                    \n",
       "23  Total Nacional Cantabria                   Cantabria             \n",
       "24  Total Nacional Castilla - La Mancha        NA                    \n",
       "25  Total Nacional Castilla - La Mancha        Albacete              \n",
       "26  Total Nacional Castilla - La Mancha        Ciudad Real           \n",
       "27  Total Nacional Castilla - La Mancha        Cuenca                \n",
       "28  Total Nacional Castilla - La Mancha        Guadalajara           \n",
       "29  Total Nacional Castilla - La Mancha        Toledo                \n",
       "30  Total Nacional Castilla y León             NA                    \n",
       "... ...            ...                         ...                   \n",
       "43  Total Nacional Cataluña                    Lleida                \n",
       "44  Total Nacional Cataluña                    Tarragona             \n",
       "45  Total Nacional Ceuta                       NA                    \n",
       "46  Total Nacional Ceuta                       Ceuta                 \n",
       "47  Total Nacional Comunitat Valenciana        NA                    \n",
       "48  Total Nacional Comunitat Valenciana        Alicante/Alacant      \n",
       "49  Total Nacional Comunitat Valenciana        Castellón/Castelló    \n",
       "50  Total Nacional Comunitat Valenciana        Valencia/València     \n",
       "51  Total Nacional Extremadura                 NA                    \n",
       "52  Total Nacional Extremadura                 Badajoz               \n",
       "53  Total Nacional Extremadura                 Cáceres               \n",
       "54  Total Nacional Galicia                     NA                    \n",
       "55  Total Nacional Galicia                     Coruña, A             \n",
       "56  Total Nacional Galicia                     Lugo                  \n",
       "57  Total Nacional Galicia                     Ourense               \n",
       "58  Total Nacional Galicia                     Pontevedra            \n",
       "59  Total Nacional Madrid, Comunidad de        NA                    \n",
       "60  Total Nacional Madrid, Comunidad de        Madrid                \n",
       "61  Total Nacional Melilla                     NA                    \n",
       "62  Total Nacional Melilla                     Melilla               \n",
       "63  Total Nacional Murcia, Región de           NA                    \n",
       "64  Total Nacional Murcia, Región de           Murcia                \n",
       "65  Total Nacional Navarra, Comunidad Foral de NA                    \n",
       "66  Total Nacional Navarra, Comunidad Foral de Navarra               \n",
       "67  Total Nacional País Vasco                  NA                    \n",
       "68  Total Nacional País Vasco                  Araba/Álava           \n",
       "69  Total Nacional País Vasco                  Bizkaia               \n",
       "70  Total Nacional País Vasco                  Gipuzkoa              \n",
       "71  Total Nacional Rioja, La                   NA                    \n",
       "72  Total Nacional Rioja, La                   Rioja, La             \n",
       "    municipio_destino turistas cmun mes     secreto\n",
       "1   Ajalvir           1104     002  2022-10  0     \n",
       "2   Ajalvir            202     002  2022-10  0     \n",
       "3   Ajalvir             NA     002  2022-10 NA     \n",
       "4   Ajalvir             NA     002  2022-10 NA     \n",
       "5   Ajalvir             NA     002  2022-10 NA     \n",
       "6   Ajalvir             NA     002  2022-10 NA     \n",
       "7   Ajalvir             NA     002  2022-10 NA     \n",
       "8   Ajalvir             NA     002  2022-10 NA     \n",
       "9   Ajalvir             46     002  2022-10  0     \n",
       "10  Ajalvir             79     002  2022-10  0     \n",
       "11  Ajalvir             39     002  2022-10  0     \n",
       "12  Ajalvir             NA     002  2022-10 NA     \n",
       "13  Ajalvir             NA     002  2022-10 NA     \n",
       "14  Ajalvir             39     002  2022-10  0     \n",
       "15  Ajalvir             NA     002  2022-10 NA     \n",
       "16  Ajalvir             NA     002  2022-10 NA     \n",
       "17  Ajalvir             NA     002  2022-10 NA     \n",
       "18  Ajalvir             NA     002  2022-10 NA     \n",
       "19  Ajalvir             NA     002  2022-10 NA     \n",
       "20  Ajalvir             NA     002  2022-10 NA     \n",
       "21  Ajalvir             NA     002  2022-10 NA     \n",
       "22  Ajalvir             NA     002  2022-10 NA     \n",
       "23  Ajalvir             NA     002  2022-10 NA     \n",
       "24  Ajalvir            428     002  2022-10  0     \n",
       "25  Ajalvir             NA     002  2022-10 NA     \n",
       "26  Ajalvir             NA     002  2022-10 NA     \n",
       "27  Ajalvir             NA     002  2022-10 NA     \n",
       "28  Ajalvir            309     002  2022-10  0     \n",
       "29  Ajalvir             63     002  2022-10  0     \n",
       "30  Ajalvir             64     002  2022-10  0     \n",
       "... ...               ...      ...  ...     ...    \n",
       "43  Ajalvir           NA       002  2022-10 NA     \n",
       "44  Ajalvir           NA       002  2022-10 NA     \n",
       "45  Ajalvir           NA       002  2022-10 NA     \n",
       "46  Ajalvir           NA       002  2022-10 NA     \n",
       "47  Ajalvir           90       002  2022-10  0     \n",
       "48  Ajalvir           43       002  2022-10  0     \n",
       "49  Ajalvir           NA       002  2022-10 NA     \n",
       "50  Ajalvir           40       002  2022-10  0     \n",
       "51  Ajalvir           57       002  2022-10  0     \n",
       "52  Ajalvir           35       002  2022-10  0     \n",
       "53  Ajalvir           NA       002  2022-10 NA     \n",
       "54  Ajalvir           39       002  2022-10  0     \n",
       "55  Ajalvir           NA       002  2022-10 NA     \n",
       "56  Ajalvir           NA       002  2022-10 NA     \n",
       "57  Ajalvir           NA       002  2022-10 NA     \n",
       "58  Ajalvir           NA       002  2022-10 NA     \n",
       "59  Ajalvir           NA       002  2022-10 NA     \n",
       "60  Ajalvir           NA       002  2022-10 NA     \n",
       "61  Ajalvir           NA       002  2022-10 NA     \n",
       "62  Ajalvir           NA       002  2022-10 NA     \n",
       "63  Ajalvir           NA       002  2022-10 NA     \n",
       "64  Ajalvir           NA       002  2022-10 NA     \n",
       "65  Ajalvir           NA       002  2022-10 NA     \n",
       "66  Ajalvir           NA       002  2022-10 NA     \n",
       "67  Ajalvir           58       002  2022-10  0     \n",
       "68  Ajalvir           49       002  2022-10  0     \n",
       "69  Ajalvir           NA       002  2022-10 NA     \n",
       "70  Ajalvir           NA       002  2022-10 NA     \n",
       "71  Ajalvir           NA       002  2022-10 NA     \n",
       "72  Ajalvir           NA       002  2022-10 NA     "
      ]
     },
     "metadata": {},
     "output_type": "display_data"
    }
   ],
   "source": [
    "tdata |> filter(municipio_destino == \"Ajalvir\", mes == \"2022-10\")"
   ]
  },
  {
   "cell_type": "code",
   "execution_count": 54,
   "metadata": {
    "vscode": {
     "languageId": "r"
    }
   },
   "outputs": [
    {
     "data": {
      "text/html": [
       "<table class=\"dataframe\">\n",
       "<caption>A tibble: 5 x 8</caption>\n",
       "<thead>\n",
       "\t<tr><th scope=col>total_nacional</th><th scope=col>total_ccaa</th><th scope=col>provincia</th><th scope=col>municipio_destino</th><th scope=col>turistas</th><th scope=col>cmun</th><th scope=col>mes</th><th scope=col>secreto</th></tr>\n",
       "\t<tr><th scope=col>&lt;chr&gt;</th><th scope=col>&lt;chr&gt;</th><th scope=col>&lt;chr&gt;</th><th scope=col>&lt;chr&gt;</th><th scope=col>&lt;dbl&gt;</th><th scope=col>&lt;chr&gt;</th><th scope=col>&lt;chr&gt;</th><th scope=col>&lt;dbl&gt;</th></tr>\n",
       "</thead>\n",
       "<tbody>\n",
       "\t<tr><td>Total Nacional</td><td>NA</td><td>NA</td><td>Acebeda, La</td><td> NA</td><td>001</td><td>2022-10</td><td>NA</td></tr>\n",
       "\t<tr><td>Total Nacional</td><td>NA</td><td>NA</td><td>Acebeda, La</td><td> NA</td><td>001</td><td>2022-09</td><td>NA</td></tr>\n",
       "\t<tr><td>Total Nacional</td><td>NA</td><td>NA</td><td>Acebeda, La</td><td> NA</td><td>001</td><td>2022-08</td><td>NA</td></tr>\n",
       "\t<tr><td>Total Nacional</td><td>NA</td><td>NA</td><td>Acebeda, La</td><td> 39</td><td>001</td><td>2022-07</td><td> 0</td></tr>\n",
       "\t<tr><td>Total Nacional</td><td>NA</td><td>NA</td><td>Acebeda, La</td><td>125</td><td>001</td><td>2022-06</td><td> 0</td></tr>\n",
       "</tbody>\n",
       "</table>\n"
      ],
      "text/latex": [
       "A tibble: 5 x 8\n",
       "\\begin{tabular}{llllllll}\n",
       " total\\_nacional & total\\_ccaa & provincia & municipio\\_destino & turistas & cmun & mes & secreto\\\\\n",
       " <chr> & <chr> & <chr> & <chr> & <dbl> & <chr> & <chr> & <dbl>\\\\\n",
       "\\hline\n",
       "\t Total Nacional & NA & NA & Acebeda, La &  NA & 001 & 2022-10 & NA\\\\\n",
       "\t Total Nacional & NA & NA & Acebeda, La &  NA & 001 & 2022-09 & NA\\\\\n",
       "\t Total Nacional & NA & NA & Acebeda, La &  NA & 001 & 2022-08 & NA\\\\\n",
       "\t Total Nacional & NA & NA & Acebeda, La &  39 & 001 & 2022-07 &  0\\\\\n",
       "\t Total Nacional & NA & NA & Acebeda, La & 125 & 001 & 2022-06 &  0\\\\\n",
       "\\end{tabular}\n"
      ],
      "text/markdown": [
       "\n",
       "A tibble: 5 x 8\n",
       "\n",
       "| total_nacional &lt;chr&gt; | total_ccaa &lt;chr&gt; | provincia &lt;chr&gt; | municipio_destino &lt;chr&gt; | turistas &lt;dbl&gt; | cmun &lt;chr&gt; | mes &lt;chr&gt; | secreto &lt;dbl&gt; |\n",
       "|---|---|---|---|---|---|---|---|\n",
       "| Total Nacional | NA | NA | Acebeda, La |  NA | 001 | 2022-10 | NA |\n",
       "| Total Nacional | NA | NA | Acebeda, La |  NA | 001 | 2022-09 | NA |\n",
       "| Total Nacional | NA | NA | Acebeda, La |  NA | 001 | 2022-08 | NA |\n",
       "| Total Nacional | NA | NA | Acebeda, La |  39 | 001 | 2022-07 |  0 |\n",
       "| Total Nacional | NA | NA | Acebeda, La | 125 | 001 | 2022-06 |  0 |\n",
       "\n"
      ],
      "text/plain": [
       "  total_nacional total_ccaa provincia municipio_destino turistas cmun mes    \n",
       "1 Total Nacional NA         NA        Acebeda, La        NA      001  2022-10\n",
       "2 Total Nacional NA         NA        Acebeda, La        NA      001  2022-09\n",
       "3 Total Nacional NA         NA        Acebeda, La        NA      001  2022-08\n",
       "4 Total Nacional NA         NA        Acebeda, La        39      001  2022-07\n",
       "5 Total Nacional NA         NA        Acebeda, La       125      001  2022-06\n",
       "  secreto\n",
       "1 NA     \n",
       "2 NA     \n",
       "3 NA     \n",
       "4  0     \n",
       "5  0     "
      ]
     },
     "metadata": {},
     "output_type": "display_data"
    }
   ],
   "source": [
    "tdata |> slice_head(n = 5)"
   ]
  },
  {
   "attachments": {},
   "cell_type": "markdown",
   "metadata": {
    "slideshow": {
     "slide_type": "slide"
    }
   },
   "source": [
    "## Synthetic Data Generation"
   ]
  },
  {
   "attachments": {},
   "cell_type": "markdown",
   "metadata": {
    "slideshow": {
     "slide_type": "slide"
    }
   },
   "source": [
    "No aplica"
   ]
  },
  {
   "attachments": {},
   "cell_type": "markdown",
   "metadata": {
    "slideshow": {
     "slide_type": "slide"
    }
   },
   "source": [
    "## Fake Data Generation"
   ]
  },
  {
   "attachments": {},
   "cell_type": "markdown",
   "metadata": {
    "slideshow": {
     "slide_type": "slide"
    }
   },
   "source": [
    "No aplica"
   ]
  },
  {
   "attachments": {},
   "cell_type": "markdown",
   "metadata": {},
   "source": [
    "## <font color='green'>Data Save</font>"
   ]
  },
  {
   "attachments": {},
   "cell_type": "markdown",
   "metadata": {},
   "source": [
    "Este proceso, puede copiarse y repetirse en aquellas partes del notebbok que necesiten guardar datos.\n",
    "Recuerde cambiar las cadenas añadida del fichero para diferenciarlas"
   ]
  },
  {
   "attachments": {},
   "cell_type": "markdown",
   "metadata": {},
   "source": [
    "<font color='tomato'> Identificamos los datos a guardar</font>"
   ]
  },
  {
   "cell_type": "code",
   "execution_count": 36,
   "metadata": {
    "ExecuteTime": {
     "end_time": "2020-12-25T17:59:27.022001Z",
     "start_time": "2020-12-25T17:59:15.986986Z"
    },
    "scrolled": false,
    "vscode": {
     "languageId": "r"
    }
   },
   "outputs": [],
   "source": [
    "data_to_save <- tdata"
   ]
  },
  {
   "attachments": {},
   "cell_type": "markdown",
   "metadata": {},
   "source": [
    "\n",
    "<font color='tomato'>Estructura de nombre de archivos:</font>\n",
    "\n",
    "* Código del caso de uso, por ejemplo \"CU_04\"\n",
    "* Número del proceso que lo genera, por ejemplo \"_05\".\n",
    "* Número de la tarea que lo genera, por ejemplo \"_01\"\n",
    "* En caso de generarse varios ficheros en la misma tarea, llevarán _01 _02 ... después\n",
    "* Nombre: identificativo de \"properData\", por ejemplo \"_zonasgeo\"\n",
    "* Extensión del archivo\n",
    "\n",
    "Ejemplo: \"CU_04_05_01_01_zonasgeo.json, primer fichero que se genera en la tarea 01 del proceso 05 (Data Collection) para el caso de uso 04 (vacunas)\n",
    "\n",
    "Importante mantener los guiones bajos antes de proceso, tarea, archivo y nombre"
   ]
  },
  {
   "attachments": {},
   "cell_type": "markdown",
   "metadata": {},
   "source": [
    "### Proceso 05"
   ]
  },
  {
   "cell_type": "code",
   "execution_count": 37,
   "metadata": {
    "ExecuteTime": {
     "end_time": "2020-12-25T17:59:27.022001Z",
     "start_time": "2020-12-25T17:59:15.986986Z"
    },
    "scrolled": false,
    "vscode": {
     "languageId": "r"
    }
   },
   "outputs": [],
   "source": [
    "caso <- \"CU_45\"\n",
    "proceso <- '_05'\n",
    "tarea <- \"_04\"\n",
    "archivo <- \"\"\n",
    "proper <- \"_interno_prov\"\n",
    "extension <- \".csv\""
   ]
  },
  {
   "attachments": {},
   "cell_type": "markdown",
   "metadata": {},
   "source": [
    "<font color='tomato'><b> OPCION A:</b> Uso del paquete \"tcltk\" para mayor comodidad</font>\n",
    "\n",
    "* Buscar carpeta, escribir nombre de archivo SIN extensión (se especifica en el código)\n",
    "* Especificar sufijo2 si es necesario\n",
    "* Cambiar datos por datos_xx si es necesario"
   ]
  },
  {
   "cell_type": "code",
   "execution_count": 38,
   "metadata": {
    "ExecuteTime": {
     "end_time": "2020-12-25T17:59:27.022001Z",
     "start_time": "2020-12-25T17:59:15.986986Z"
    },
    "scrolled": false,
    "vscode": {
     "languageId": "r"
    }
   },
   "outputs": [],
   "source": [
    "# file_save <- paste0(caso, proceso, tarea, tcltk::tkgetSaveFile(), proper, extension) \n",
    "# path_out <- paste0(oPath, file_save)\n",
    "# write_csv(data_to_save, path_out)\n",
    "\n",
    "# cat('File saved as: ')\n",
    "# path_out"
   ]
  },
  {
   "attachments": {},
   "cell_type": "markdown",
   "metadata": {},
   "source": [
    "<font color='tomato'><b> OPCION B:</b> Especificar el nombre de archivo</font>"
   ]
  },
  {
   "attachments": {},
   "cell_type": "markdown",
   "metadata": {},
   "source": [
    "- Los ficheros de salida del proceso van siempre a Data/Output/.  "
   ]
  },
  {
   "cell_type": "code",
   "execution_count": 39,
   "metadata": {
    "ExecuteTime": {
     "end_time": "2021-01-26T18:40:31.258294Z",
     "start_time": "2021-01-26T18:40:26.061847Z"
    },
    "slideshow": {
     "slide_type": "subslide"
    },
    "vscode": {
     "languageId": "r"
    }
   },
   "outputs": [
    {
     "name": "stdout",
     "output_type": "stream",
     "text": [
      "File saved as: "
     ]
    },
    {
     "data": {
      "text/html": [
       "'Data/Output/CU_45_05_04_interno_prov.csv'"
      ],
      "text/latex": [
       "'Data/Output/CU\\_45\\_05\\_04\\_interno\\_prov.csv'"
      ],
      "text/markdown": [
       "'Data/Output/CU_45_05_04_interno_prov.csv'"
      ],
      "text/plain": [
       "[1] \"Data/Output/CU_45_05_04_interno_prov.csv\""
      ]
     },
     "metadata": {},
     "output_type": "display_data"
    }
   ],
   "source": [
    "file_save <- paste0(caso, proceso, tarea, archivo, proper, extension) \n",
    "path_out <- paste0(oPath, file_save)\n",
    "write_csv(data_to_save, path_out)\n",
    "\n",
    "cat('File saved as: ')\n",
    "path_out"
   ]
  },
  {
   "attachments": {},
   "cell_type": "markdown",
   "metadata": {},
   "source": [
    "#### Copia del fichero a Input\n",
    "\n",
    "Si el archivo se va a usar en otros notebooks, copiar a la carpeta Input"
   ]
  },
  {
   "cell_type": "code",
   "execution_count": 40,
   "metadata": {
    "vscode": {
     "languageId": "r"
    }
   },
   "outputs": [
    {
     "data": {
      "text/html": [
       "TRUE"
      ],
      "text/latex": [
       "TRUE"
      ],
      "text/markdown": [
       "TRUE"
      ],
      "text/plain": [
       "[1] TRUE"
      ]
     },
     "metadata": {},
     "output_type": "display_data"
    }
   ],
   "source": [
    "path_in <- paste0(iPath, file_save)\n",
    "file.copy(path_out, path_in, overwrite = TRUE)"
   ]
  },
  {
   "attachments": {},
   "cell_type": "markdown",
   "metadata": {},
   "source": [
    "## <font color=' #2874a6 '>Main Conclusions</font>"
   ]
  },
  {
   "attachments": {},
   "cell_type": "markdown",
   "metadata": {
    "slideshow": {
     "slide_type": "slide"
    }
   },
   "source": [
    "<font color='steelblue'>List and describe the general conclusions of the analysis carried out​.</font>"
   ]
  },
  {
   "attachments": {},
   "cell_type": "markdown",
   "metadata": {},
   "source": [
    "### Prerequisites\n",
    "\n",
    "Para que funcione este código se necesita:\n",
    "\n",
    "* Las rutas de archivos `Data/Input` y `Data/Output` deben existir (relativas a la ruta del _notebook_)\n",
    "* El paquete tcltk instalado para seleccionar archivos interactivamente. No se necesita en producción.\n",
    "* Los paquetes readr, dplyr, readxl, stringr deben estar instalados.\n"
   ]
  },
  {
   "attachments": {},
   "cell_type": "markdown",
   "metadata": {},
   "source": [
    "### Configuration Management\n",
    "\n",
    "This notebook has been tested with the following versions of R and packages. It cannot be assured that later versions work in the same way:\n",
    "* R 4.2.2\n",
    "* tcltk 4.2.2\n",
    "* readr 2.1.3\n",
    "* dplyr 1.1.0\n",
    "* readxl 1.4.1\n",
    "* stringr 1.5.0"
   ]
  },
  {
   "attachments": {},
   "cell_type": "markdown",
   "metadata": {},
   "source": [
    "### Data structures"
   ]
  },
  {
   "attachments": {},
   "cell_type": "markdown",
   "metadata": {},
   "source": [
    "#### Objeto `data`\n",
    "\n",
    "- Hay 521280 filas con información de las siguientes variables:\n",
    "\t* total_nacional\n",
    "\t* total_ccaa\n",
    "\t* provincia\n",
    "\t* municipio_destino\n",
    "\t* periodo\n",
    "\t* turistas\n",
    "\t* cmun\n"
   ]
  },
  {
   "attachments": {},
   "cell_type": "markdown",
   "metadata": {},
   "source": [
    "#### Observaciones generales sobre los datos\n",
    "\n",
    "* Además de los valores de provincias, vienen datos totales por comunidad autónoma y total país\n",
    "* En teoría serían la suma de las provincias que componen las regiones, pero podría no coincidir por el secreto estadístico (pocos datos en ununa provincia determinada, que sí se suman al total pero no se publican)\n",
    "* Vienen dos tipos de valores perdidos: NA y un punto, que es valor no publicado\n",
    "* Los NA es posible que sean cero, pero al no estar seguros se dejan como NA\n",
    "* Los datos disponibles en el archivo utilizado son en este rango de meses"
   ]
  },
  {
   "cell_type": "code",
   "execution_count": 41,
   "metadata": {
    "vscode": {
     "languageId": "r"
    }
   },
   "outputs": [
    {
     "data": {
      "text/html": [
       "<style>\n",
       ".list-inline {list-style: none; margin:0; padding: 0}\n",
       ".list-inline>li {display: inline-block}\n",
       ".list-inline>li:not(:last-child)::after {content: \"\\00b7\"; padding: 0 .5ex}\n",
       "</style>\n",
       "<ol class=list-inline><li>'2019-07'</li><li>'2022-10'</li></ol>\n"
      ],
      "text/latex": [
       "\\begin{enumerate*}\n",
       "\\item '2019-07'\n",
       "\\item '2022-10'\n",
       "\\end{enumerate*}\n"
      ],
      "text/markdown": [
       "1. '2019-07'\n",
       "2. '2022-10'\n",
       "\n",
       "\n"
      ],
      "text/plain": [
       "[1] \"2019-07\" \"2022-10\""
      ]
     },
     "metadata": {},
     "output_type": "display_data"
    }
   ],
   "source": [
    "data_to_save |> pull(mes) |> range()"
   ]
  },
  {
   "attachments": {},
   "cell_type": "markdown",
   "metadata": {},
   "source": [
    "### Consideraciones para despliegue en piloto\n",
    "\n",
    "* No aplica"
   ]
  },
  {
   "attachments": {},
   "cell_type": "markdown",
   "metadata": {},
   "source": [
    "### Consideraciones para despliegue en producción\n",
    "\n",
    "* Se deben crear los procesos ETL en producción necesarios para que los datos de entrada estén actualizados"
   ]
  },
  {
   "attachments": {},
   "cell_type": "markdown",
   "metadata": {},
   "source": [
    "## <font color=' #2874a6 '>Main Actions</font>"
   ]
  },
  {
   "attachments": {},
   "cell_type": "markdown",
   "metadata": {},
   "source": [
    "#### <font color=' #2874a6 '>Acciones done</font>"
   ]
  },
  {
   "attachments": {},
   "cell_type": "markdown",
   "metadata": {
    "slideshow": {
     "slide_type": "slide"
    }
   },
   "source": [
    "<font color='steelblue'>Indicate the actions that have been carried out in this process</font>"
   ]
  },
  {
   "attachments": {},
   "cell_type": "markdown",
   "metadata": {},
   "source": [
    "- Se han guardado los datos de turismo interior por provincia de origen \n",
    "- Se ha creado la variable \"secreto\" para distinguir si es necesario los datos faltantes"
   ]
  },
  {
   "attachments": {},
   "cell_type": "markdown",
   "metadata": {},
   "source": [
    "#### <font color=' #2874a6 '>Acctions to perform</font>"
   ]
  },
  {
   "attachments": {},
   "cell_type": "markdown",
   "metadata": {
    "slideshow": {
     "slide_type": "slide"
    }
   },
   "source": [
    "<font color='steelblue'>Indicate the actions that must be carried out in subsequent processes</font>"
   ]
  },
  {
   "attachments": {},
   "cell_type": "markdown",
   "metadata": {},
   "source": [
    "- Se deben unir a los datos de establecimientos por municipio para los modelos"
   ]
  },
  {
   "attachments": {},
   "cell_type": "markdown",
   "metadata": {},
   "source": [
    "## <font color='RED'>CODE TO DEPLOY (PILOT)</font>\n",
    "\n",
    "A continuación se incluirá el código que deba ser llevado a despliegue para producción, dado que se entiende efectúa operaciones necesarias sobre los datos en la ejecución del prototipo"
   ]
  },
  {
   "attachments": {},
   "cell_type": "markdown",
   "metadata": {},
   "source": [
    "<font color=' red '><b>Description</b></font>\n",
    "\n",
    "- No hay nada que desplegar en el piloto, ya que estos datos son estáticos o en todo caso cambian con muy poca frecuencia, altamente improbable durante el proyecto.\n"
   ]
  },
  {
   "attachments": {},
   "cell_type": "markdown",
   "metadata": {},
   "source": [
    "<font color=' red '><b>CODE</b></font>"
   ]
  },
  {
   "cell_type": "code",
   "execution_count": 42,
   "metadata": {
    "vscode": {
     "languageId": "r"
    }
   },
   "outputs": [],
   "source": [
    "# incluir código"
   ]
  }
 ],
 "metadata": {
  "anaconda-cloud": {},
  "celltoolbar": "Slideshow",
  "hide_input": false,
  "kernelspec": {
   "display_name": "R",
   "language": "R",
   "name": "ir"
  },
  "language_info": {
   "codemirror_mode": "r",
   "file_extension": ".r",
   "mimetype": "text/x-r-source",
   "name": "R",
   "pygments_lexer": "r",
   "version": "4.2.3"
  },
  "latex_envs": {
   "LaTeX_envs_menu_present": true,
   "autoclose": false,
   "autocomplete": true,
   "bibliofile": "biblio.bib",
   "cite_by": "apalike",
   "current_citInitial": 1,
   "eqLabelWithNumbers": true,
   "eqNumInitial": 1,
   "hotkeys": {
    "equation": "Ctrl-E",
    "itemize": "Ctrl-I"
   },
   "labels_anchors": false,
   "latex_user_defs": false,
   "report_style_numbering": true,
   "user_envs_cfg": false
  },
  "toc": {
   "base_numbering": 1,
   "nav_menu": {
    "height": "11.6px",
    "width": "160px"
   },
   "number_sections": false,
   "sideBar": true,
   "skip_h1_title": true,
   "title_cell": "Table of Contents",
   "title_sidebar": "Contents",
   "toc_cell": true,
   "toc_position": {
    "height": "calc(100% - 180px)",
    "left": "10px",
    "top": "150px",
    "width": "209.2px"
   },
   "toc_section_display": true,
   "toc_window_display": true
  },
  "varInspector": {
   "cols": {
    "lenName": 16,
    "lenType": 16,
    "lenVar": 40
   },
   "kernels_config": {
    "python": {
     "delete_cmd_postfix": "",
     "delete_cmd_prefix": "del ",
     "library": "var_list.py",
     "varRefreshCmd": "print(var_dic_list())"
    },
    "r": {
     "delete_cmd_postfix": ") ",
     "delete_cmd_prefix": "rm(",
     "library": "var_list.r",
     "varRefreshCmd": "cat(var_dic_list()) "
    }
   },
   "types_to_exclude": [
    "module",
    "function",
    "builtin_function_or_method",
    "instance",
    "_Feature"
   ],
   "window_display": false
  }
 },
 "nbformat": 4,
 "nbformat_minor": 1
}
