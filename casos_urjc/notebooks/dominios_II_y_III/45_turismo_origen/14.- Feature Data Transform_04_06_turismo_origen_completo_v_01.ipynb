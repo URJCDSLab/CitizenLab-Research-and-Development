{
 "cells": [
  {
   "cell_type": "markdown",
   "metadata": {
    "slideshow": {
     "slide_type": "slide"
    }
   },
   "source": [
    "<img src=\".\\images\\Logo.png\" width=150 align=\"left\" /> <img src=\".\\images\\Logo2.jpg\" width=450 align=\"right\" />"
   ]
  },
  {
   "cell_type": "markdown",
   "metadata": {
    "slideshow": {
     "slide_type": "slide"
    }
   },
   "source": [
    "\n",
    "# <center><font color= #1e8449 > <b>CU45_Planificación y promoción del destino en base a los patrones en origen de los turistas</font></center>"
   ]
  },
  {
   "cell_type": "markdown",
   "metadata": {
    "slideshow": {
     "slide_type": "slide"
    }
   },
   "source": [
    "<font color='steelblue'><b>Citizenlab Data Science Methodology > III - Feature Engineering Domain </font>\n",
    "***\n",
    "> # <font color='steelblue'> <b>14.- Feature Data Transform</font>"
   ]
  },
  {
   "cell_type": "markdown",
   "metadata": {
    "slideshow": {
     "slide_type": "slide"
    }
   },
   "source": [
    "<font color='steelblue'>Feature Data Transform is the process that allows change (if is required) the type and/or distribution of data features (e.g. scaling, normalizing o standardizing data features).</font>\n"
   ]
  },
  {
   "cell_type": "markdown",
   "metadata": {
    "slideshow": {
     "slide_type": "slide"
    }
   },
   "source": [
    "## <font color='steelblue'>Tasks</font>"
   ]
  },
  {
   "cell_type": "markdown",
   "metadata": {
    "slideshow": {
     "slide_type": "slide"
    }
   },
   "source": [
    "<font color='steelblue'><b>Perform Basic Data Transforms\t\t\t\t\t\t\n",
    "    \n",
    "<font color='steelblue'><b>Perform Categorical Variable Transformation\t\t\t\t\t\t\n",
    "- Encode Transformation\t\t\t\t\t\n",
    "    - One-hot encoding\t\t\t\t\n",
    "    - Ordinal encoding\t\t\t\t\n",
    "    - Dummy encoding\t\t\t\t\n",
    "- Evaluate a Logistic Regression model\t\t\t\t\t\n",
    "- Consider Embedding if text mining context\t\t\t\t\t\n",
    "    \n",
    "<font color='steelblue'><b>Perform Numeric Variable Transformation\t\t\t\t\t\t\n",
    "- Scale Transformation\t\t\t\t\t\n",
    "    - Normalization\t\t\t\t\n",
    "    - Standardization\t\t\t\t\n",
    "    - IQR Robust Scaler Transform\t\t\t\t\n",
    "    - Evaluate a KNN model\t\t\t\t\n",
    "- Distribution Transformation\t\t\t\t\t\n",
    "    - Discretization\t\t\t\t\n",
    "        - Uniform\t\t\t\n",
    "        - Clustered(k-Means)\t\t\t\n",
    "        - Quantile\t\t\t\n",
    "            - Normal Quantile\t\t\n",
    "            - Uniform Quantile\t\t\n",
    "            - Evaluate a KNN model\t\t\n",
    "        - Evaluate a KNN model\t\t\t\n",
    "    - Power transforms (Make Distributions More Gaussian)\t\t\t\t\n",
    "        - Box-Cox Transform\t\t\t\n",
    "        - Yeo-Johnson Transform\t\t\t\n",
    "        - Evaluate a KNN model\t\t\t\n"
   ]
  },
  {
   "attachments": {},
   "cell_type": "markdown",
   "metadata": {},
   "source": [
    "## Consideraciones casos CitizenLab programados en R\n",
    "\n",
    "* Algunas de las tareas de este proceso se han realizado en los notebooks del proceso 05 Data Collection porque eran necesarias para las tareas ETL. En esos casos, en este notebook se referencia al notebook del proceso 05 correspondiente\n",
    "* Otras tareas típicas de este proceso se realizan en los notebooks del dominio IV al ser más eficiente realizarlas en el propio pipeline de modelización.\n",
    "* Por tanto en los notebooks de este proceso de manera general se incluyen las comprobaciones necesarias, y comentarios si procede\n",
    "* Las tareas del proceso se van a aplicar solo a los archivos que forman parte del despliegue, ya que hay muchos archivos intermedios que no procede pasar por este proceso\n",
    "* El nombre de archivo del notebook hace referencia al nombre de archivo del proceso 05 al que se aplica este proceso, por eso pueden no ser correlativa la numeración\n",
    "* Las comprobaciones se van a realizar teniendo en cuenta que el lenguaje utilizado en el despliegue de este caso es R"
   ]
  },
  {
   "cell_type": "markdown",
   "metadata": {},
   "source": [
    "## <font color='green'>File</font>"
   ]
  },
  {
   "cell_type": "markdown",
   "metadata": {},
   "source": [
    "- <font color='steelblue'> <b>Input File: CU_45_08_03_turismo_receptor.csv</font>\n",
    "- <font color='steelblue'> <b>Sampled Input File: CU_45_07_03_turismo_receptor.csv</font>\n",
    "- <font color='steelblue'> <b>Output File: No aplica</font>"
   ]
  },
  {
   "cell_type": "markdown",
   "metadata": {},
   "source": [
    "### Encoding\n",
    "\n",
    "Con la siguiente expresión se evitan problemas con el encoding al ejecutar el notebook. Es posible que deba ser eliminada o adaptada a la máquina en la que se ejecute el código."
   ]
  },
  {
   "cell_type": "code",
   "execution_count": 1,
   "metadata": {
    "vscode": {
     "languageId": "r"
    }
   },
   "outputs": [
    {
     "name": "stderr",
     "output_type": "stream",
     "text": [
      "Warning message in Sys.setlocale(category = \"LC_ALL\", locale = \"es_ES.UTF-8\"):\n",
      "“OS reports request to set locale to \"es_ES.UTF-8\" cannot be honored”\n"
     ]
    },
    {
     "data": {
      "text/html": [
       "''"
      ],
      "text/latex": [
       "''"
      ],
      "text/markdown": [
       "''"
      ],
      "text/plain": [
       "[1] \"\""
      ]
     },
     "metadata": {},
     "output_type": "display_data"
    }
   ],
   "source": [
    "Sys.setlocale(category = \"LC_ALL\", locale = \"es_ES.UTF-8\")"
   ]
  },
  {
   "cell_type": "markdown",
   "metadata": {},
   "source": [
    "## <font color='green'>Settings</font>"
   ]
  },
  {
   "cell_type": "markdown",
   "metadata": {},
   "source": [
    "### Libraries to use"
   ]
  },
  {
   "cell_type": "code",
   "execution_count": 2,
   "metadata": {
    "vscode": {
     "languageId": "r"
    }
   },
   "outputs": [
    {
     "name": "stderr",
     "output_type": "stream",
     "text": [
      "\n",
      "Attaching package: ‘dplyr’\n",
      "\n",
      "\n",
      "The following objects are masked from ‘package:stats’:\n",
      "\n",
      "    filter, lag\n",
      "\n",
      "\n",
      "The following objects are masked from ‘package:base’:\n",
      "\n",
      "    intersect, setdiff, setequal, union\n",
      "\n",
      "\n",
      "\n",
      "Attaching package: ‘lubridate’\n",
      "\n",
      "\n",
      "The following objects are masked from ‘package:base’:\n",
      "\n",
      "    date, intersect, setdiff, union\n",
      "\n",
      "\n"
     ]
    }
   ],
   "source": [
    "library(readr)\n",
    "library(dplyr)\n",
    "library(tidyr)\n",
    "library(forcats)\n",
    "library(lubridate)\n"
   ]
  },
  {
   "cell_type": "markdown",
   "metadata": {},
   "source": [
    "### Paths"
   ]
  },
  {
   "cell_type": "code",
   "execution_count": 3,
   "metadata": {
    "vscode": {
     "languageId": "r"
    }
   },
   "outputs": [],
   "source": [
    "iPath <- \"Data/Input/\"\n",
    "oPath <- \"Data/Output/\""
   ]
  },
  {
   "cell_type": "markdown",
   "metadata": {},
   "source": [
    "## <font color='green'>Data Load</font>"
   ]
  },
  {
   "cell_type": "markdown",
   "metadata": {},
   "source": [
    "<font color='tomato'><b> OPCION A:</b> Seleccionar fichero en ventana para mayor comodidad</font> "
   ]
  },
  {
   "cell_type": "markdown",
   "metadata": {},
   "source": [
    "Data load using the {tcltk} package. Ucomment the line if using this option"
   ]
  },
  {
   "cell_type": "code",
   "execution_count": 4,
   "metadata": {
    "vscode": {
     "languageId": "r"
    }
   },
   "outputs": [],
   "source": [
    "# file_data <- tcltk::tk_choose.files(multi = FALSE)"
   ]
  },
  {
   "cell_type": "markdown",
   "metadata": {},
   "source": [
    "<font color='tomato'><b> OPCION B:</b> Especificar el nombre de archivo</font>\n",
    "\n"
   ]
  },
  {
   "cell_type": "code",
   "execution_count": 5,
   "metadata": {
    "vscode": {
     "languageId": "r"
    }
   },
   "outputs": [
    {
     "name": "stdout",
     "output_type": "stream",
     "text": [
      "Se leerán datos del archivo:  Data/Input/CU_45_08_03_turismo_receptor.csv"
     ]
    }
   ],
   "source": [
    "iFile <- \"CU_45_08_03_turismo_receptor.csv\"\n",
    "file_data <- paste0(iPath, iFile)\n",
    "\n",
    "if(file.exists(file_data)){\n",
    "    cat(\"Se leerán datos del archivo: \", file_data)\n",
    "} else{\n",
    "    warning(\"Cuidado: el archivo no existe.\")\n",
    "}\n"
   ]
  },
  {
   "cell_type": "markdown",
   "metadata": {},
   "source": [
    "#### Data file to dataframe\n",
    "\n",
    "Usar la función adecuada según el formato de entrada (xlsx, csv, json, ...)"
   ]
  },
  {
   "cell_type": "code",
   "execution_count": 6,
   "metadata": {
    "vscode": {
     "languageId": "r"
    }
   },
   "outputs": [
    {
     "name": "stderr",
     "output_type": "stream",
     "text": [
      "\u001b[1mRows: \u001b[22m\u001b[34m50294\u001b[39m \u001b[1mColumns: \u001b[22m\u001b[34m9\u001b[39m\n",
      "\u001b[36m──\u001b[39m \u001b[1mColumn specification\u001b[22m \u001b[36m───────────────────────────────────────────────────────────────────────────────────────────────────────────────────────────────\u001b[39m\n",
      "\u001b[1mDelimiter:\u001b[22m \",\"\n",
      "\u001b[31mchr\u001b[39m (5): mes, pais_orig_cod, pais_orig, mun_dest, CMUN\n",
      "\u001b[32mdbl\u001b[39m (3): mun_dest_cod, turistas, Target\n",
      "\u001b[33mlgl\u001b[39m (1): is_train\n",
      "\n",
      "\u001b[36mℹ\u001b[39m Use `spec()` to retrieve the full column specification for this data.\n",
      "\u001b[36mℹ\u001b[39m Specify the column types or set `show_col_types = FALSE` to quiet this message.\n"
     ]
    }
   ],
   "source": [
    "data <- read_csv(file_data)\n"
   ]
  },
  {
   "cell_type": "markdown",
   "metadata": {},
   "source": [
    "Estructura de  los datos:"
   ]
  },
  {
   "cell_type": "code",
   "execution_count": 10,
   "metadata": {
    "vscode": {
     "languageId": "r"
    }
   },
   "outputs": [
    {
     "name": "stdout",
     "output_type": "stream",
     "text": [
      "Rows: 50,294\n",
      "Columns: 9\n",
      "$ mes           \u001b[3m\u001b[90m<chr>\u001b[39m\u001b[23m \"2019-08\", \"2021-07\", \"2021-07\", \"2022-01\", \"2019-08\", \"…\n",
      "$ pais_orig_cod \u001b[3m\u001b[90m<chr>\u001b[39m\u001b[23m \"110\", \"010\", \"010\", \"000\", \"128\", \"000\", \"011\", \"126\", …\n",
      "$ pais_orig     \u001b[3m\u001b[90m<chr>\u001b[39m\u001b[23m \"Francia\", \"Total Europa\", \"Total Europa\", \"Total\", \"Rum…\n",
      "$ mun_dest_cod  \u001b[3m\u001b[90m<dbl>\u001b[39m\u001b[23m 28161, 28176, 28132, 28141, 28130, 28126, 28075, 28005, …\n",
      "$ mun_dest      \u001b[3m\u001b[90m<chr>\u001b[39m\u001b[23m \"Valdemoro\", \"Villanueva de la Cañada\", \"San Martín de l…\n",
      "$ turistas      \u001b[3m\u001b[90m<dbl>\u001b[39m\u001b[23m 466, 1375, 465, 54, 135, 30, 285, 768, 31, 1646, 116, 36…\n",
      "$ CMUN          \u001b[3m\u001b[90m<chr>\u001b[39m\u001b[23m \"161\", \"176\", \"132\", \"141\", \"130\", \"126\", \"075\", \"005\", …\n",
      "$ Target        \u001b[3m\u001b[90m<dbl>\u001b[39m\u001b[23m 466, 1375, 465, 54, 135, 30, 285, 768, 31, 1646, 116, 36…\n",
      "$ is_train      \u001b[3m\u001b[90m<lgl>\u001b[39m\u001b[23m TRUE, TRUE, TRUE, TRUE, TRUE, TRUE, TRUE, TRUE, TRUE, TR…\n"
     ]
    }
   ],
   "source": [
    "data |> glimpse()"
   ]
  },
  {
   "cell_type": "markdown",
   "metadata": {},
   "source": [
    "Muestra de los primeros datos:"
   ]
  },
  {
   "cell_type": "code",
   "execution_count": 11,
   "metadata": {
    "vscode": {
     "languageId": "r"
    }
   },
   "outputs": [
    {
     "data": {
      "text/html": [
       "<table class=\"dataframe\">\n",
       "<caption>A spec_tbl_df: 5 × 9</caption>\n",
       "<thead>\n",
       "\t<tr><th scope=col>mes</th><th scope=col>pais_orig_cod</th><th scope=col>pais_orig</th><th scope=col>mun_dest_cod</th><th scope=col>mun_dest</th><th scope=col>turistas</th><th scope=col>CMUN</th><th scope=col>Target</th><th scope=col>is_train</th></tr>\n",
       "\t<tr><th scope=col>&lt;chr&gt;</th><th scope=col>&lt;chr&gt;</th><th scope=col>&lt;chr&gt;</th><th scope=col>&lt;dbl&gt;</th><th scope=col>&lt;chr&gt;</th><th scope=col>&lt;dbl&gt;</th><th scope=col>&lt;chr&gt;</th><th scope=col>&lt;dbl&gt;</th><th scope=col>&lt;lgl&gt;</th></tr>\n",
       "</thead>\n",
       "<tbody>\n",
       "\t<tr><td>2019-08</td><td>110</td><td>Francia     </td><td>28161</td><td>Valdemoro              </td><td> 466</td><td>161</td><td> 466</td><td>TRUE</td></tr>\n",
       "\t<tr><td>2021-07</td><td>010</td><td>Total Europa</td><td>28176</td><td>Villanueva de la Cañada</td><td>1375</td><td>176</td><td>1375</td><td>TRUE</td></tr>\n",
       "\t<tr><td>2021-07</td><td>010</td><td>Total Europa</td><td>28132</td><td>San Martín de la Vega  </td><td> 465</td><td>132</td><td> 465</td><td>TRUE</td></tr>\n",
       "\t<tr><td>2022-01</td><td>000</td><td>Total       </td><td>28141</td><td>Sevilla la Nueva       </td><td>  54</td><td>141</td><td>  54</td><td>TRUE</td></tr>\n",
       "\t<tr><td>2019-08</td><td>128</td><td>Rumania     </td><td>28130</td><td>San Fernando de Henares</td><td> 135</td><td>130</td><td> 135</td><td>TRUE</td></tr>\n",
       "</tbody>\n",
       "</table>\n"
      ],
      "text/latex": [
       "A spec\\_tbl\\_df: 5 × 9\n",
       "\\begin{tabular}{lllllllll}\n",
       " mes & pais\\_orig\\_cod & pais\\_orig & mun\\_dest\\_cod & mun\\_dest & turistas & CMUN & Target & is\\_train\\\\\n",
       " <chr> & <chr> & <chr> & <dbl> & <chr> & <dbl> & <chr> & <dbl> & <lgl>\\\\\n",
       "\\hline\n",
       "\t 2019-08 & 110 & Francia      & 28161 & Valdemoro               &  466 & 161 &  466 & TRUE\\\\\n",
       "\t 2021-07 & 010 & Total Europa & 28176 & Villanueva de la Cañada & 1375 & 176 & 1375 & TRUE\\\\\n",
       "\t 2021-07 & 010 & Total Europa & 28132 & San Martín de la Vega   &  465 & 132 &  465 & TRUE\\\\\n",
       "\t 2022-01 & 000 & Total        & 28141 & Sevilla la Nueva        &   54 & 141 &   54 & TRUE\\\\\n",
       "\t 2019-08 & 128 & Rumania      & 28130 & San Fernando de Henares &  135 & 130 &  135 & TRUE\\\\\n",
       "\\end{tabular}\n"
      ],
      "text/markdown": [
       "\n",
       "A spec_tbl_df: 5 × 9\n",
       "\n",
       "| mes &lt;chr&gt; | pais_orig_cod &lt;chr&gt; | pais_orig &lt;chr&gt; | mun_dest_cod &lt;dbl&gt; | mun_dest &lt;chr&gt; | turistas &lt;dbl&gt; | CMUN &lt;chr&gt; | Target &lt;dbl&gt; | is_train &lt;lgl&gt; |\n",
       "|---|---|---|---|---|---|---|---|---|\n",
       "| 2019-08 | 110 | Francia      | 28161 | Valdemoro               |  466 | 161 |  466 | TRUE |\n",
       "| 2021-07 | 010 | Total Europa | 28176 | Villanueva de la Cañada | 1375 | 176 | 1375 | TRUE |\n",
       "| 2021-07 | 010 | Total Europa | 28132 | San Martín de la Vega   |  465 | 132 |  465 | TRUE |\n",
       "| 2022-01 | 000 | Total        | 28141 | Sevilla la Nueva        |   54 | 141 |   54 | TRUE |\n",
       "| 2019-08 | 128 | Rumania      | 28130 | San Fernando de Henares |  135 | 130 |  135 | TRUE |\n",
       "\n"
      ],
      "text/plain": [
       "  mes     pais_orig_cod pais_orig    mun_dest_cod mun_dest               \n",
       "1 2019-08 110           Francia      28161        Valdemoro              \n",
       "2 2021-07 010           Total Europa 28176        Villanueva de la Cañada\n",
       "3 2021-07 010           Total Europa 28132        San Martín de la Vega  \n",
       "4 2022-01 000           Total        28141        Sevilla la Nueva       \n",
       "5 2019-08 128           Rumania      28130        San Fernando de Henares\n",
       "  turistas CMUN Target is_train\n",
       "1  466     161   466   TRUE    \n",
       "2 1375     176  1375   TRUE    \n",
       "3  465     132   465   TRUE    \n",
       "4   54     141    54   TRUE    \n",
       "5  135     130   135   TRUE    "
      ]
     },
     "metadata": {},
     "output_type": "display_data"
    }
   ],
   "source": [
    "data |> slice_head(n = 5)"
   ]
  },
  {
   "cell_type": "markdown",
   "metadata": {
    "slideshow": {
     "slide_type": "slide"
    }
   },
   "source": [
    "## Basic Data Transforms"
   ]
  },
  {
   "cell_type": "markdown",
   "metadata": {
    "slideshow": {
     "slide_type": "slide"
    }
   },
   "source": [
    "### Data Selecting"
   ]
  },
  {
   "cell_type": "code",
   "execution_count": 12,
   "metadata": {
    "ExecuteTime": {
     "end_time": "2020-06-30T14:33:43.649449Z",
     "start_time": "2020-06-30T14:33:43.611681Z"
    },
    "scrolled": true,
    "slideshow": {
     "slide_type": "subslide"
    },
    "vscode": {
     "languageId": "r"
    }
   },
   "outputs": [
    {
     "data": {
      "text/html": [
       "<table class=\"dataframe\">\n",
       "<caption>A tibble: 50294 × 1</caption>\n",
       "<thead>\n",
       "\t<tr><th scope=col>mes</th></tr>\n",
       "\t<tr><th scope=col>&lt;chr&gt;</th></tr>\n",
       "</thead>\n",
       "<tbody>\n",
       "\t<tr><td>2019-08</td></tr>\n",
       "\t<tr><td>2021-07</td></tr>\n",
       "\t<tr><td>2021-07</td></tr>\n",
       "\t<tr><td>2022-01</td></tr>\n",
       "\t<tr><td>2019-08</td></tr>\n",
       "\t<tr><td>2022-07</td></tr>\n",
       "\t<tr><td>2022-08</td></tr>\n",
       "\t<tr><td>2022-03</td></tr>\n",
       "\t<tr><td>2020-01</td></tr>\n",
       "\t<tr><td>2021-09</td></tr>\n",
       "\t<tr><td>2020-05</td></tr>\n",
       "\t<tr><td>2020-06</td></tr>\n",
       "\t<tr><td>2021-05</td></tr>\n",
       "\t<tr><td>2021-02</td></tr>\n",
       "\t<tr><td>2020-01</td></tr>\n",
       "\t<tr><td>2021-08</td></tr>\n",
       "\t<tr><td>2021-07</td></tr>\n",
       "\t<tr><td>2019-12</td></tr>\n",
       "\t<tr><td>2020-04</td></tr>\n",
       "\t<tr><td>2022-10</td></tr>\n",
       "\t<tr><td>2021-03</td></tr>\n",
       "\t<tr><td>2019-11</td></tr>\n",
       "\t<tr><td>2020-08</td></tr>\n",
       "\t<tr><td>2021-07</td></tr>\n",
       "\t<tr><td>2021-07</td></tr>\n",
       "\t<tr><td>2022-04</td></tr>\n",
       "\t<tr><td>2019-07</td></tr>\n",
       "\t<tr><td>2020-05</td></tr>\n",
       "\t<tr><td>2022-03</td></tr>\n",
       "\t<tr><td>2019-11</td></tr>\n",
       "\t<tr><td>⋮</td></tr>\n",
       "\t<tr><td>2022-10</td></tr>\n",
       "\t<tr><td>2022-10</td></tr>\n",
       "\t<tr><td>2022-10</td></tr>\n",
       "\t<tr><td>2022-10</td></tr>\n",
       "\t<tr><td>2022-10</td></tr>\n",
       "\t<tr><td>2022-10</td></tr>\n",
       "\t<tr><td>2022-10</td></tr>\n",
       "\t<tr><td>2022-10</td></tr>\n",
       "\t<tr><td>2022-10</td></tr>\n",
       "\t<tr><td>2022-10</td></tr>\n",
       "\t<tr><td>2022-10</td></tr>\n",
       "\t<tr><td>2022-10</td></tr>\n",
       "\t<tr><td>2022-10</td></tr>\n",
       "\t<tr><td>2022-10</td></tr>\n",
       "\t<tr><td>2022-10</td></tr>\n",
       "\t<tr><td>2022-10</td></tr>\n",
       "\t<tr><td>2022-10</td></tr>\n",
       "\t<tr><td>2022-10</td></tr>\n",
       "\t<tr><td>2022-10</td></tr>\n",
       "\t<tr><td>2022-10</td></tr>\n",
       "\t<tr><td>2022-10</td></tr>\n",
       "\t<tr><td>2022-10</td></tr>\n",
       "\t<tr><td>2022-10</td></tr>\n",
       "\t<tr><td>2022-10</td></tr>\n",
       "\t<tr><td>2022-10</td></tr>\n",
       "\t<tr><td>2022-10</td></tr>\n",
       "\t<tr><td>2022-10</td></tr>\n",
       "\t<tr><td>2022-10</td></tr>\n",
       "\t<tr><td>2022-10</td></tr>\n",
       "\t<tr><td>2022-10</td></tr>\n",
       "</tbody>\n",
       "</table>\n"
      ],
      "text/latex": [
       "A tibble: 50294 × 1\n",
       "\\begin{tabular}{l}\n",
       " mes\\\\\n",
       " <chr>\\\\\n",
       "\\hline\n",
       "\t 2019-08\\\\\n",
       "\t 2021-07\\\\\n",
       "\t 2021-07\\\\\n",
       "\t 2022-01\\\\\n",
       "\t 2019-08\\\\\n",
       "\t 2022-07\\\\\n",
       "\t 2022-08\\\\\n",
       "\t 2022-03\\\\\n",
       "\t 2020-01\\\\\n",
       "\t 2021-09\\\\\n",
       "\t 2020-05\\\\\n",
       "\t 2020-06\\\\\n",
       "\t 2021-05\\\\\n",
       "\t 2021-02\\\\\n",
       "\t 2020-01\\\\\n",
       "\t 2021-08\\\\\n",
       "\t 2021-07\\\\\n",
       "\t 2019-12\\\\\n",
       "\t 2020-04\\\\\n",
       "\t 2022-10\\\\\n",
       "\t 2021-03\\\\\n",
       "\t 2019-11\\\\\n",
       "\t 2020-08\\\\\n",
       "\t 2021-07\\\\\n",
       "\t 2021-07\\\\\n",
       "\t 2022-04\\\\\n",
       "\t 2019-07\\\\\n",
       "\t 2020-05\\\\\n",
       "\t 2022-03\\\\\n",
       "\t 2019-11\\\\\n",
       "\t ⋮\\\\\n",
       "\t 2022-10\\\\\n",
       "\t 2022-10\\\\\n",
       "\t 2022-10\\\\\n",
       "\t 2022-10\\\\\n",
       "\t 2022-10\\\\\n",
       "\t 2022-10\\\\\n",
       "\t 2022-10\\\\\n",
       "\t 2022-10\\\\\n",
       "\t 2022-10\\\\\n",
       "\t 2022-10\\\\\n",
       "\t 2022-10\\\\\n",
       "\t 2022-10\\\\\n",
       "\t 2022-10\\\\\n",
       "\t 2022-10\\\\\n",
       "\t 2022-10\\\\\n",
       "\t 2022-10\\\\\n",
       "\t 2022-10\\\\\n",
       "\t 2022-10\\\\\n",
       "\t 2022-10\\\\\n",
       "\t 2022-10\\\\\n",
       "\t 2022-10\\\\\n",
       "\t 2022-10\\\\\n",
       "\t 2022-10\\\\\n",
       "\t 2022-10\\\\\n",
       "\t 2022-10\\\\\n",
       "\t 2022-10\\\\\n",
       "\t 2022-10\\\\\n",
       "\t 2022-10\\\\\n",
       "\t 2022-10\\\\\n",
       "\t 2022-10\\\\\n",
       "\\end{tabular}\n"
      ],
      "text/markdown": [
       "\n",
       "A tibble: 50294 × 1\n",
       "\n",
       "| mes &lt;chr&gt; |\n",
       "|---|\n",
       "| 2019-08 |\n",
       "| 2021-07 |\n",
       "| 2021-07 |\n",
       "| 2022-01 |\n",
       "| 2019-08 |\n",
       "| 2022-07 |\n",
       "| 2022-08 |\n",
       "| 2022-03 |\n",
       "| 2020-01 |\n",
       "| 2021-09 |\n",
       "| 2020-05 |\n",
       "| 2020-06 |\n",
       "| 2021-05 |\n",
       "| 2021-02 |\n",
       "| 2020-01 |\n",
       "| 2021-08 |\n",
       "| 2021-07 |\n",
       "| 2019-12 |\n",
       "| 2020-04 |\n",
       "| 2022-10 |\n",
       "| 2021-03 |\n",
       "| 2019-11 |\n",
       "| 2020-08 |\n",
       "| 2021-07 |\n",
       "| 2021-07 |\n",
       "| 2022-04 |\n",
       "| 2019-07 |\n",
       "| 2020-05 |\n",
       "| 2022-03 |\n",
       "| 2019-11 |\n",
       "| ⋮ |\n",
       "| 2022-10 |\n",
       "| 2022-10 |\n",
       "| 2022-10 |\n",
       "| 2022-10 |\n",
       "| 2022-10 |\n",
       "| 2022-10 |\n",
       "| 2022-10 |\n",
       "| 2022-10 |\n",
       "| 2022-10 |\n",
       "| 2022-10 |\n",
       "| 2022-10 |\n",
       "| 2022-10 |\n",
       "| 2022-10 |\n",
       "| 2022-10 |\n",
       "| 2022-10 |\n",
       "| 2022-10 |\n",
       "| 2022-10 |\n",
       "| 2022-10 |\n",
       "| 2022-10 |\n",
       "| 2022-10 |\n",
       "| 2022-10 |\n",
       "| 2022-10 |\n",
       "| 2022-10 |\n",
       "| 2022-10 |\n",
       "| 2022-10 |\n",
       "| 2022-10 |\n",
       "| 2022-10 |\n",
       "| 2022-10 |\n",
       "| 2022-10 |\n",
       "| 2022-10 |\n",
       "\n"
      ],
      "text/plain": [
       "      mes    \n",
       "1     2019-08\n",
       "2     2021-07\n",
       "3     2021-07\n",
       "4     2022-01\n",
       "5     2019-08\n",
       "6     2022-07\n",
       "7     2022-08\n",
       "8     2022-03\n",
       "9     2020-01\n",
       "10    2021-09\n",
       "11    2020-05\n",
       "12    2020-06\n",
       "13    2021-05\n",
       "14    2021-02\n",
       "15    2020-01\n",
       "16    2021-08\n",
       "17    2021-07\n",
       "18    2019-12\n",
       "19    2020-04\n",
       "20    2022-10\n",
       "21    2021-03\n",
       "22    2019-11\n",
       "23    2020-08\n",
       "24    2021-07\n",
       "25    2021-07\n",
       "26    2022-04\n",
       "27    2019-07\n",
       "28    2020-05\n",
       "29    2022-03\n",
       "30    2019-11\n",
       "⋮     ⋮      \n",
       "50265 2022-10\n",
       "50266 2022-10\n",
       "50267 2022-10\n",
       "50268 2022-10\n",
       "50269 2022-10\n",
       "50270 2022-10\n",
       "50271 2022-10\n",
       "50272 2022-10\n",
       "50273 2022-10\n",
       "50274 2022-10\n",
       "50275 2022-10\n",
       "50276 2022-10\n",
       "50277 2022-10\n",
       "50278 2022-10\n",
       "50279 2022-10\n",
       "50280 2022-10\n",
       "50281 2022-10\n",
       "50282 2022-10\n",
       "50283 2022-10\n",
       "50284 2022-10\n",
       "50285 2022-10\n",
       "50286 2022-10\n",
       "50287 2022-10\n",
       "50288 2022-10\n",
       "50289 2022-10\n",
       "50290 2022-10\n",
       "50291 2022-10\n",
       "50292 2022-10\n",
       "50293 2022-10\n",
       "50294 2022-10"
      ]
     },
     "metadata": {},
     "output_type": "display_data"
    }
   ],
   "source": [
    "data |> select(1)"
   ]
  },
  {
   "cell_type": "markdown",
   "metadata": {
    "slideshow": {
     "slide_type": "slide"
    }
   },
   "source": [
    "### Data Filtering"
   ]
  },
  {
   "cell_type": "code",
   "execution_count": 15,
   "metadata": {
    "ExecuteTime": {
     "end_time": "2020-06-30T14:33:43.649449Z",
     "start_time": "2020-06-30T14:33:43.611681Z"
    },
    "scrolled": true,
    "slideshow": {
     "slide_type": "subslide"
    },
    "vscode": {
     "languageId": "r"
    }
   },
   "outputs": [
    {
     "data": {
      "text/html": [
       "<table class=\"dataframe\">\n",
       "<caption>A spec_tbl_df: 3396 × 9</caption>\n",
       "<thead>\n",
       "\t<tr><th scope=col>mes</th><th scope=col>pais_orig_cod</th><th scope=col>pais_orig</th><th scope=col>mun_dest_cod</th><th scope=col>mun_dest</th><th scope=col>turistas</th><th scope=col>CMUN</th><th scope=col>Target</th><th scope=col>is_train</th></tr>\n",
       "\t<tr><th scope=col>&lt;chr&gt;</th><th scope=col>&lt;chr&gt;</th><th scope=col>&lt;chr&gt;</th><th scope=col>&lt;dbl&gt;</th><th scope=col>&lt;chr&gt;</th><th scope=col>&lt;dbl&gt;</th><th scope=col>&lt;chr&gt;</th><th scope=col>&lt;dbl&gt;</th><th scope=col>&lt;lgl&gt;</th></tr>\n",
       "</thead>\n",
       "<tbody>\n",
       "\t<tr><td>2019-08</td><td>110</td><td>Francia</td><td>28161</td><td>Valdemoro                    </td><td> 466</td><td>161</td><td> 466</td><td>TRUE</td></tr>\n",
       "\t<tr><td>2021-09</td><td>110</td><td>Francia</td><td>28005</td><td>Alcalá de Henares            </td><td>1646</td><td>005</td><td>1646</td><td>TRUE</td></tr>\n",
       "\t<tr><td>2022-10</td><td>110</td><td>Francia</td><td>28066</td><td>Griñón                       </td><td>  37</td><td>066</td><td>  37</td><td>TRUE</td></tr>\n",
       "\t<tr><td>2022-03</td><td>110</td><td>Francia</td><td>28903</td><td>Tres Cantos                  </td><td> 538</td><td>903</td><td> 538</td><td>TRUE</td></tr>\n",
       "\t<tr><td>2020-03</td><td>110</td><td>Francia</td><td>28058</td><td>Fuenlabrada                  </td><td> 950</td><td>058</td><td> 950</td><td>TRUE</td></tr>\n",
       "\t<tr><td>2020-12</td><td>110</td><td>Francia</td><td>28068</td><td>Guadarrama                   </td><td>  96</td><td>068</td><td>  96</td><td>TRUE</td></tr>\n",
       "\t<tr><td>2020-07</td><td>110</td><td>Francia</td><td>28053</td><td>Daganzo de Arriba            </td><td>  54</td><td>053</td><td>  54</td><td>TRUE</td></tr>\n",
       "\t<tr><td>2020-05</td><td>110</td><td>Francia</td><td>28054</td><td>Escorial, El                 </td><td>  41</td><td>054</td><td>  41</td><td>TRUE</td></tr>\n",
       "\t<tr><td>2022-08</td><td>110</td><td>Francia</td><td>28009</td><td>Algete                       </td><td> 100</td><td>009</td><td> 100</td><td>TRUE</td></tr>\n",
       "\t<tr><td>2022-01</td><td>110</td><td>Francia</td><td>28030</td><td>Cabrera, La                  </td><td>  45</td><td>030</td><td>  45</td><td>TRUE</td></tr>\n",
       "\t<tr><td>2021-01</td><td>110</td><td>Francia</td><td>28047</td><td>Collado Villalba             </td><td> 337</td><td>047</td><td> 337</td><td>TRUE</td></tr>\n",
       "\t<tr><td>2020-09</td><td>110</td><td>Francia</td><td>28054</td><td>Escorial, El                 </td><td>  77</td><td>054</td><td>  77</td><td>TRUE</td></tr>\n",
       "\t<tr><td>2022-08</td><td>110</td><td>Francia</td><td>28075</td><td>Loeches                      </td><td>  61</td><td>075</td><td>  61</td><td>TRUE</td></tr>\n",
       "\t<tr><td>2020-08</td><td>110</td><td>Francia</td><td>28109</td><td>Pelayos de la Presa          </td><td>  49</td><td>109</td><td>  49</td><td>TRUE</td></tr>\n",
       "\t<tr><td>2021-07</td><td>110</td><td>Francia</td><td>28058</td><td>Fuenlabrada                  </td><td> 823</td><td>058</td><td> 823</td><td>TRUE</td></tr>\n",
       "\t<tr><td>2021-04</td><td>110</td><td>Francia</td><td>28075</td><td>Loeches                      </td><td>  78</td><td>075</td><td>  78</td><td>TRUE</td></tr>\n",
       "\t<tr><td>2020-10</td><td>110</td><td>Francia</td><td>28083</td><td>Meco                         </td><td> 101</td><td>083</td><td> 101</td><td>TRUE</td></tr>\n",
       "\t<tr><td>2020-08</td><td>110</td><td>Francia</td><td>28901</td><td>Lozoyuela-Navas-Sieteiglesias</td><td>  31</td><td>901</td><td>  31</td><td>TRUE</td></tr>\n",
       "\t<tr><td>2020-04</td><td>110</td><td>Francia</td><td>28065</td><td>Getafe                       </td><td> 404</td><td>065</td><td> 404</td><td>TRUE</td></tr>\n",
       "\t<tr><td>2021-03</td><td>110</td><td>Francia</td><td>28006</td><td>Alcobendas                   </td><td> 810</td><td>006</td><td> 810</td><td>TRUE</td></tr>\n",
       "\t<tr><td>2021-03</td><td>110</td><td>Francia</td><td>28127</td><td>Rozas de Madrid, Las         </td><td> 655</td><td>127</td><td> 655</td><td>TRUE</td></tr>\n",
       "\t<tr><td>2020-01</td><td>110</td><td>Francia</td><td>28137</td><td>Santos de la Humosa, Los     </td><td>  33</td><td>137</td><td>  33</td><td>TRUE</td></tr>\n",
       "\t<tr><td>2021-05</td><td>110</td><td>Francia</td><td>28026</td><td>Brunete                      </td><td> 186</td><td>026</td><td> 186</td><td>TRUE</td></tr>\n",
       "\t<tr><td>2021-05</td><td>110</td><td>Francia</td><td>28032</td><td>Camarma de Esteruelas        </td><td>  32</td><td>032</td><td>  32</td><td>TRUE</td></tr>\n",
       "\t<tr><td>2022-06</td><td>110</td><td>Francia</td><td>28095</td><td>Navalagamella                </td><td>  56</td><td>095</td><td>  56</td><td>TRUE</td></tr>\n",
       "\t<tr><td>2022-07</td><td>110</td><td>Francia</td><td>28144</td><td>Soto del Real                </td><td>  90</td><td>144</td><td>  90</td><td>TRUE</td></tr>\n",
       "\t<tr><td>2019-07</td><td>110</td><td>Francia</td><td>28073</td><td>Humanes de Madrid            </td><td> 200</td><td>073</td><td> 200</td><td>TRUE</td></tr>\n",
       "\t<tr><td>2021-12</td><td>110</td><td>Francia</td><td>28161</td><td>Valdemoro                    </td><td> 527</td><td>161</td><td> 527</td><td>TRUE</td></tr>\n",
       "\t<tr><td>2022-03</td><td>110</td><td>Francia</td><td>28015</td><td>Arroyomolinos                </td><td> 204</td><td>015</td><td> 204</td><td>TRUE</td></tr>\n",
       "\t<tr><td>2020-01</td><td>110</td><td>Francia</td><td>28154</td><td>Torres de la Alameda         </td><td>  64</td><td>154</td><td>  64</td><td>TRUE</td></tr>\n",
       "\t<tr><td>⋮</td><td>⋮</td><td>⋮</td><td>⋮</td><td>⋮</td><td>⋮</td><td>⋮</td><td>⋮</td><td>⋮</td></tr>\n",
       "\t<tr><td>2022-09</td><td>110</td><td>Francia</td><td>28007</td><td>Alcorcón                </td><td>  862</td><td>007</td><td>  862</td><td>FALSE</td></tr>\n",
       "\t<tr><td>2022-09</td><td>110</td><td>Francia</td><td>28009</td><td>Algete                  </td><td>  134</td><td>009</td><td>  134</td><td>FALSE</td></tr>\n",
       "\t<tr><td>2022-09</td><td>110</td><td>Francia</td><td>28026</td><td>Brunete                 </td><td>  237</td><td>026</td><td>  237</td><td>FALSE</td></tr>\n",
       "\t<tr><td>2022-09</td><td>110</td><td>Francia</td><td>28027</td><td>Buitrago del Lozoya     </td><td>   57</td><td>027</td><td>   57</td><td>FALSE</td></tr>\n",
       "\t<tr><td>2022-09</td><td>110</td><td>Francia</td><td>28046</td><td>Collado Mediano         </td><td>   51</td><td>046</td><td>   51</td><td>FALSE</td></tr>\n",
       "\t<tr><td>2022-09</td><td>110</td><td>Francia</td><td>28047</td><td>Collado Villalba        </td><td>  394</td><td>047</td><td>  394</td><td>FALSE</td></tr>\n",
       "\t<tr><td>2022-09</td><td>110</td><td>Francia</td><td>28049</td><td>Coslada                 </td><td>  338</td><td>049</td><td>  338</td><td>FALSE</td></tr>\n",
       "\t<tr><td>2022-09</td><td>110</td><td>Francia</td><td>28053</td><td>Daganzo de Arriba       </td><td>   74</td><td>053</td><td>   74</td><td>FALSE</td></tr>\n",
       "\t<tr><td>2022-09</td><td>110</td><td>Francia</td><td>28065</td><td>Getafe                  </td><td> 1470</td><td>065</td><td> 1470</td><td>FALSE</td></tr>\n",
       "\t<tr><td>2022-09</td><td>110</td><td>Francia</td><td>28073</td><td>Humanes de Madrid       </td><td>   99</td><td>073</td><td>   99</td><td>FALSE</td></tr>\n",
       "\t<tr><td>2022-09</td><td>110</td><td>Francia</td><td>28079</td><td>Madrid                  </td><td>45229</td><td>079</td><td>45229</td><td>FALSE</td></tr>\n",
       "\t<tr><td>2022-09</td><td>110</td><td>Francia</td><td>28113</td><td>Pinto                   </td><td>  539</td><td>113</td><td>  539</td><td>FALSE</td></tr>\n",
       "\t<tr><td>2022-09</td><td>110</td><td>Francia</td><td>28116</td><td>Pozuelo del Rey         </td><td>   31</td><td>116</td><td>   31</td><td>FALSE</td></tr>\n",
       "\t<tr><td>2022-09</td><td>110</td><td>Francia</td><td>28129</td><td>San Agustín del Guadalix</td><td>  148</td><td>129</td><td>  148</td><td>FALSE</td></tr>\n",
       "\t<tr><td>2022-09</td><td>110</td><td>Francia</td><td>28144</td><td>Soto del Real           </td><td>   69</td><td>144</td><td>   69</td><td>FALSE</td></tr>\n",
       "\t<tr><td>2022-09</td><td>110</td><td>Francia</td><td>28154</td><td>Torres de la Alameda    </td><td>  148</td><td>154</td><td>  148</td><td>FALSE</td></tr>\n",
       "\t<tr><td>2022-09</td><td>110</td><td>Francia</td><td>28168</td><td>Vellón, El              </td><td>   48</td><td>168</td><td>   48</td><td>FALSE</td></tr>\n",
       "\t<tr><td>2022-09</td><td>110</td><td>Francia</td><td>28171</td><td>Villa del Prado         </td><td>   93</td><td>171</td><td>   93</td><td>FALSE</td></tr>\n",
       "\t<tr><td>2022-09</td><td>110</td><td>Francia</td><td>28181</td><td>Villaviciosa de Odón    </td><td>  626</td><td>181</td><td>  626</td><td>FALSE</td></tr>\n",
       "\t<tr><td>2022-09</td><td>110</td><td>Francia</td><td>28903</td><td>Tres Cantos             </td><td>  530</td><td>903</td><td>  530</td><td>FALSE</td></tr>\n",
       "\t<tr><td>2022-10</td><td>110</td><td>Francia</td><td>28028</td><td>Bustarviejo             </td><td>   33</td><td>028</td><td>   33</td><td>FALSE</td></tr>\n",
       "\t<tr><td>2022-10</td><td>110</td><td>Francia</td><td>28049</td><td>Coslada                 </td><td>  323</td><td>049</td><td>  323</td><td>FALSE</td></tr>\n",
       "\t<tr><td>2022-10</td><td>110</td><td>Francia</td><td>28052</td><td>Chinchón                </td><td>   42</td><td>052</td><td>   42</td><td>FALSE</td></tr>\n",
       "\t<tr><td>2022-10</td><td>110</td><td>Francia</td><td>28060</td><td>Fuentidueña de Tajo     </td><td>   35</td><td>060</td><td>   35</td><td>FALSE</td></tr>\n",
       "\t<tr><td>2022-10</td><td>110</td><td>Francia</td><td>28075</td><td>Loeches                 </td><td>  106</td><td>075</td><td>  106</td><td>FALSE</td></tr>\n",
       "\t<tr><td>2022-10</td><td>110</td><td>Francia</td><td>28089</td><td>Moraleja de Enmedio     </td><td>   37</td><td>089</td><td>   37</td><td>FALSE</td></tr>\n",
       "\t<tr><td>2022-10</td><td>110</td><td>Francia</td><td>28096</td><td>Navalcarnero            </td><td>  238</td><td>096</td><td>  238</td><td>FALSE</td></tr>\n",
       "\t<tr><td>2022-10</td><td>110</td><td>Francia</td><td>28100</td><td>Nuevo Baztán            </td><td>   32</td><td>100</td><td>   32</td><td>FALSE</td></tr>\n",
       "\t<tr><td>2022-10</td><td>110</td><td>Francia</td><td>28104</td><td>Paracuellos de Jarama   </td><td>  245</td><td>104</td><td>  245</td><td>FALSE</td></tr>\n",
       "\t<tr><td>2022-10</td><td>110</td><td>Francia</td><td>28160</td><td>Valdemorillo            </td><td>  108</td><td>160</td><td>  108</td><td>FALSE</td></tr>\n",
       "</tbody>\n",
       "</table>\n"
      ],
      "text/latex": [
       "A spec\\_tbl\\_df: 3396 × 9\n",
       "\\begin{tabular}{lllllllll}\n",
       " mes & pais\\_orig\\_cod & pais\\_orig & mun\\_dest\\_cod & mun\\_dest & turistas & CMUN & Target & is\\_train\\\\\n",
       " <chr> & <chr> & <chr> & <dbl> & <chr> & <dbl> & <chr> & <dbl> & <lgl>\\\\\n",
       "\\hline\n",
       "\t 2019-08 & 110 & Francia & 28161 & Valdemoro                     &  466 & 161 &  466 & TRUE\\\\\n",
       "\t 2021-09 & 110 & Francia & 28005 & Alcalá de Henares             & 1646 & 005 & 1646 & TRUE\\\\\n",
       "\t 2022-10 & 110 & Francia & 28066 & Griñón                        &   37 & 066 &   37 & TRUE\\\\\n",
       "\t 2022-03 & 110 & Francia & 28903 & Tres Cantos                   &  538 & 903 &  538 & TRUE\\\\\n",
       "\t 2020-03 & 110 & Francia & 28058 & Fuenlabrada                   &  950 & 058 &  950 & TRUE\\\\\n",
       "\t 2020-12 & 110 & Francia & 28068 & Guadarrama                    &   96 & 068 &   96 & TRUE\\\\\n",
       "\t 2020-07 & 110 & Francia & 28053 & Daganzo de Arriba             &   54 & 053 &   54 & TRUE\\\\\n",
       "\t 2020-05 & 110 & Francia & 28054 & Escorial, El                  &   41 & 054 &   41 & TRUE\\\\\n",
       "\t 2022-08 & 110 & Francia & 28009 & Algete                        &  100 & 009 &  100 & TRUE\\\\\n",
       "\t 2022-01 & 110 & Francia & 28030 & Cabrera, La                   &   45 & 030 &   45 & TRUE\\\\\n",
       "\t 2021-01 & 110 & Francia & 28047 & Collado Villalba              &  337 & 047 &  337 & TRUE\\\\\n",
       "\t 2020-09 & 110 & Francia & 28054 & Escorial, El                  &   77 & 054 &   77 & TRUE\\\\\n",
       "\t 2022-08 & 110 & Francia & 28075 & Loeches                       &   61 & 075 &   61 & TRUE\\\\\n",
       "\t 2020-08 & 110 & Francia & 28109 & Pelayos de la Presa           &   49 & 109 &   49 & TRUE\\\\\n",
       "\t 2021-07 & 110 & Francia & 28058 & Fuenlabrada                   &  823 & 058 &  823 & TRUE\\\\\n",
       "\t 2021-04 & 110 & Francia & 28075 & Loeches                       &   78 & 075 &   78 & TRUE\\\\\n",
       "\t 2020-10 & 110 & Francia & 28083 & Meco                          &  101 & 083 &  101 & TRUE\\\\\n",
       "\t 2020-08 & 110 & Francia & 28901 & Lozoyuela-Navas-Sieteiglesias &   31 & 901 &   31 & TRUE\\\\\n",
       "\t 2020-04 & 110 & Francia & 28065 & Getafe                        &  404 & 065 &  404 & TRUE\\\\\n",
       "\t 2021-03 & 110 & Francia & 28006 & Alcobendas                    &  810 & 006 &  810 & TRUE\\\\\n",
       "\t 2021-03 & 110 & Francia & 28127 & Rozas de Madrid, Las          &  655 & 127 &  655 & TRUE\\\\\n",
       "\t 2020-01 & 110 & Francia & 28137 & Santos de la Humosa, Los      &   33 & 137 &   33 & TRUE\\\\\n",
       "\t 2021-05 & 110 & Francia & 28026 & Brunete                       &  186 & 026 &  186 & TRUE\\\\\n",
       "\t 2021-05 & 110 & Francia & 28032 & Camarma de Esteruelas         &   32 & 032 &   32 & TRUE\\\\\n",
       "\t 2022-06 & 110 & Francia & 28095 & Navalagamella                 &   56 & 095 &   56 & TRUE\\\\\n",
       "\t 2022-07 & 110 & Francia & 28144 & Soto del Real                 &   90 & 144 &   90 & TRUE\\\\\n",
       "\t 2019-07 & 110 & Francia & 28073 & Humanes de Madrid             &  200 & 073 &  200 & TRUE\\\\\n",
       "\t 2021-12 & 110 & Francia & 28161 & Valdemoro                     &  527 & 161 &  527 & TRUE\\\\\n",
       "\t 2022-03 & 110 & Francia & 28015 & Arroyomolinos                 &  204 & 015 &  204 & TRUE\\\\\n",
       "\t 2020-01 & 110 & Francia & 28154 & Torres de la Alameda          &   64 & 154 &   64 & TRUE\\\\\n",
       "\t ⋮ & ⋮ & ⋮ & ⋮ & ⋮ & ⋮ & ⋮ & ⋮ & ⋮\\\\\n",
       "\t 2022-09 & 110 & Francia & 28007 & Alcorcón                 &   862 & 007 &   862 & FALSE\\\\\n",
       "\t 2022-09 & 110 & Francia & 28009 & Algete                   &   134 & 009 &   134 & FALSE\\\\\n",
       "\t 2022-09 & 110 & Francia & 28026 & Brunete                  &   237 & 026 &   237 & FALSE\\\\\n",
       "\t 2022-09 & 110 & Francia & 28027 & Buitrago del Lozoya      &    57 & 027 &    57 & FALSE\\\\\n",
       "\t 2022-09 & 110 & Francia & 28046 & Collado Mediano          &    51 & 046 &    51 & FALSE\\\\\n",
       "\t 2022-09 & 110 & Francia & 28047 & Collado Villalba         &   394 & 047 &   394 & FALSE\\\\\n",
       "\t 2022-09 & 110 & Francia & 28049 & Coslada                  &   338 & 049 &   338 & FALSE\\\\\n",
       "\t 2022-09 & 110 & Francia & 28053 & Daganzo de Arriba        &    74 & 053 &    74 & FALSE\\\\\n",
       "\t 2022-09 & 110 & Francia & 28065 & Getafe                   &  1470 & 065 &  1470 & FALSE\\\\\n",
       "\t 2022-09 & 110 & Francia & 28073 & Humanes de Madrid        &    99 & 073 &    99 & FALSE\\\\\n",
       "\t 2022-09 & 110 & Francia & 28079 & Madrid                   & 45229 & 079 & 45229 & FALSE\\\\\n",
       "\t 2022-09 & 110 & Francia & 28113 & Pinto                    &   539 & 113 &   539 & FALSE\\\\\n",
       "\t 2022-09 & 110 & Francia & 28116 & Pozuelo del Rey          &    31 & 116 &    31 & FALSE\\\\\n",
       "\t 2022-09 & 110 & Francia & 28129 & San Agustín del Guadalix &   148 & 129 &   148 & FALSE\\\\\n",
       "\t 2022-09 & 110 & Francia & 28144 & Soto del Real            &    69 & 144 &    69 & FALSE\\\\\n",
       "\t 2022-09 & 110 & Francia & 28154 & Torres de la Alameda     &   148 & 154 &   148 & FALSE\\\\\n",
       "\t 2022-09 & 110 & Francia & 28168 & Vellón, El               &    48 & 168 &    48 & FALSE\\\\\n",
       "\t 2022-09 & 110 & Francia & 28171 & Villa del Prado          &    93 & 171 &    93 & FALSE\\\\\n",
       "\t 2022-09 & 110 & Francia & 28181 & Villaviciosa de Odón     &   626 & 181 &   626 & FALSE\\\\\n",
       "\t 2022-09 & 110 & Francia & 28903 & Tres Cantos              &   530 & 903 &   530 & FALSE\\\\\n",
       "\t 2022-10 & 110 & Francia & 28028 & Bustarviejo              &    33 & 028 &    33 & FALSE\\\\\n",
       "\t 2022-10 & 110 & Francia & 28049 & Coslada                  &   323 & 049 &   323 & FALSE\\\\\n",
       "\t 2022-10 & 110 & Francia & 28052 & Chinchón                 &    42 & 052 &    42 & FALSE\\\\\n",
       "\t 2022-10 & 110 & Francia & 28060 & Fuentidueña de Tajo      &    35 & 060 &    35 & FALSE\\\\\n",
       "\t 2022-10 & 110 & Francia & 28075 & Loeches                  &   106 & 075 &   106 & FALSE\\\\\n",
       "\t 2022-10 & 110 & Francia & 28089 & Moraleja de Enmedio      &    37 & 089 &    37 & FALSE\\\\\n",
       "\t 2022-10 & 110 & Francia & 28096 & Navalcarnero             &   238 & 096 &   238 & FALSE\\\\\n",
       "\t 2022-10 & 110 & Francia & 28100 & Nuevo Baztán             &    32 & 100 &    32 & FALSE\\\\\n",
       "\t 2022-10 & 110 & Francia & 28104 & Paracuellos de Jarama    &   245 & 104 &   245 & FALSE\\\\\n",
       "\t 2022-10 & 110 & Francia & 28160 & Valdemorillo             &   108 & 160 &   108 & FALSE\\\\\n",
       "\\end{tabular}\n"
      ],
      "text/markdown": [
       "\n",
       "A spec_tbl_df: 3396 × 9\n",
       "\n",
       "| mes &lt;chr&gt; | pais_orig_cod &lt;chr&gt; | pais_orig &lt;chr&gt; | mun_dest_cod &lt;dbl&gt; | mun_dest &lt;chr&gt; | turistas &lt;dbl&gt; | CMUN &lt;chr&gt; | Target &lt;dbl&gt; | is_train &lt;lgl&gt; |\n",
       "|---|---|---|---|---|---|---|---|---|\n",
       "| 2019-08 | 110 | Francia | 28161 | Valdemoro                     |  466 | 161 |  466 | TRUE |\n",
       "| 2021-09 | 110 | Francia | 28005 | Alcalá de Henares             | 1646 | 005 | 1646 | TRUE |\n",
       "| 2022-10 | 110 | Francia | 28066 | Griñón                        |   37 | 066 |   37 | TRUE |\n",
       "| 2022-03 | 110 | Francia | 28903 | Tres Cantos                   |  538 | 903 |  538 | TRUE |\n",
       "| 2020-03 | 110 | Francia | 28058 | Fuenlabrada                   |  950 | 058 |  950 | TRUE |\n",
       "| 2020-12 | 110 | Francia | 28068 | Guadarrama                    |   96 | 068 |   96 | TRUE |\n",
       "| 2020-07 | 110 | Francia | 28053 | Daganzo de Arriba             |   54 | 053 |   54 | TRUE |\n",
       "| 2020-05 | 110 | Francia | 28054 | Escorial, El                  |   41 | 054 |   41 | TRUE |\n",
       "| 2022-08 | 110 | Francia | 28009 | Algete                        |  100 | 009 |  100 | TRUE |\n",
       "| 2022-01 | 110 | Francia | 28030 | Cabrera, La                   |   45 | 030 |   45 | TRUE |\n",
       "| 2021-01 | 110 | Francia | 28047 | Collado Villalba              |  337 | 047 |  337 | TRUE |\n",
       "| 2020-09 | 110 | Francia | 28054 | Escorial, El                  |   77 | 054 |   77 | TRUE |\n",
       "| 2022-08 | 110 | Francia | 28075 | Loeches                       |   61 | 075 |   61 | TRUE |\n",
       "| 2020-08 | 110 | Francia | 28109 | Pelayos de la Presa           |   49 | 109 |   49 | TRUE |\n",
       "| 2021-07 | 110 | Francia | 28058 | Fuenlabrada                   |  823 | 058 |  823 | TRUE |\n",
       "| 2021-04 | 110 | Francia | 28075 | Loeches                       |   78 | 075 |   78 | TRUE |\n",
       "| 2020-10 | 110 | Francia | 28083 | Meco                          |  101 | 083 |  101 | TRUE |\n",
       "| 2020-08 | 110 | Francia | 28901 | Lozoyuela-Navas-Sieteiglesias |   31 | 901 |   31 | TRUE |\n",
       "| 2020-04 | 110 | Francia | 28065 | Getafe                        |  404 | 065 |  404 | TRUE |\n",
       "| 2021-03 | 110 | Francia | 28006 | Alcobendas                    |  810 | 006 |  810 | TRUE |\n",
       "| 2021-03 | 110 | Francia | 28127 | Rozas de Madrid, Las          |  655 | 127 |  655 | TRUE |\n",
       "| 2020-01 | 110 | Francia | 28137 | Santos de la Humosa, Los      |   33 | 137 |   33 | TRUE |\n",
       "| 2021-05 | 110 | Francia | 28026 | Brunete                       |  186 | 026 |  186 | TRUE |\n",
       "| 2021-05 | 110 | Francia | 28032 | Camarma de Esteruelas         |   32 | 032 |   32 | TRUE |\n",
       "| 2022-06 | 110 | Francia | 28095 | Navalagamella                 |   56 | 095 |   56 | TRUE |\n",
       "| 2022-07 | 110 | Francia | 28144 | Soto del Real                 |   90 | 144 |   90 | TRUE |\n",
       "| 2019-07 | 110 | Francia | 28073 | Humanes de Madrid             |  200 | 073 |  200 | TRUE |\n",
       "| 2021-12 | 110 | Francia | 28161 | Valdemoro                     |  527 | 161 |  527 | TRUE |\n",
       "| 2022-03 | 110 | Francia | 28015 | Arroyomolinos                 |  204 | 015 |  204 | TRUE |\n",
       "| 2020-01 | 110 | Francia | 28154 | Torres de la Alameda          |   64 | 154 |   64 | TRUE |\n",
       "| ⋮ | ⋮ | ⋮ | ⋮ | ⋮ | ⋮ | ⋮ | ⋮ | ⋮ |\n",
       "| 2022-09 | 110 | Francia | 28007 | Alcorcón                 |   862 | 007 |   862 | FALSE |\n",
       "| 2022-09 | 110 | Francia | 28009 | Algete                   |   134 | 009 |   134 | FALSE |\n",
       "| 2022-09 | 110 | Francia | 28026 | Brunete                  |   237 | 026 |   237 | FALSE |\n",
       "| 2022-09 | 110 | Francia | 28027 | Buitrago del Lozoya      |    57 | 027 |    57 | FALSE |\n",
       "| 2022-09 | 110 | Francia | 28046 | Collado Mediano          |    51 | 046 |    51 | FALSE |\n",
       "| 2022-09 | 110 | Francia | 28047 | Collado Villalba         |   394 | 047 |   394 | FALSE |\n",
       "| 2022-09 | 110 | Francia | 28049 | Coslada                  |   338 | 049 |   338 | FALSE |\n",
       "| 2022-09 | 110 | Francia | 28053 | Daganzo de Arriba        |    74 | 053 |    74 | FALSE |\n",
       "| 2022-09 | 110 | Francia | 28065 | Getafe                   |  1470 | 065 |  1470 | FALSE |\n",
       "| 2022-09 | 110 | Francia | 28073 | Humanes de Madrid        |    99 | 073 |    99 | FALSE |\n",
       "| 2022-09 | 110 | Francia | 28079 | Madrid                   | 45229 | 079 | 45229 | FALSE |\n",
       "| 2022-09 | 110 | Francia | 28113 | Pinto                    |   539 | 113 |   539 | FALSE |\n",
       "| 2022-09 | 110 | Francia | 28116 | Pozuelo del Rey          |    31 | 116 |    31 | FALSE |\n",
       "| 2022-09 | 110 | Francia | 28129 | San Agustín del Guadalix |   148 | 129 |   148 | FALSE |\n",
       "| 2022-09 | 110 | Francia | 28144 | Soto del Real            |    69 | 144 |    69 | FALSE |\n",
       "| 2022-09 | 110 | Francia | 28154 | Torres de la Alameda     |   148 | 154 |   148 | FALSE |\n",
       "| 2022-09 | 110 | Francia | 28168 | Vellón, El               |    48 | 168 |    48 | FALSE |\n",
       "| 2022-09 | 110 | Francia | 28171 | Villa del Prado          |    93 | 171 |    93 | FALSE |\n",
       "| 2022-09 | 110 | Francia | 28181 | Villaviciosa de Odón     |   626 | 181 |   626 | FALSE |\n",
       "| 2022-09 | 110 | Francia | 28903 | Tres Cantos              |   530 | 903 |   530 | FALSE |\n",
       "| 2022-10 | 110 | Francia | 28028 | Bustarviejo              |    33 | 028 |    33 | FALSE |\n",
       "| 2022-10 | 110 | Francia | 28049 | Coslada                  |   323 | 049 |   323 | FALSE |\n",
       "| 2022-10 | 110 | Francia | 28052 | Chinchón                 |    42 | 052 |    42 | FALSE |\n",
       "| 2022-10 | 110 | Francia | 28060 | Fuentidueña de Tajo      |    35 | 060 |    35 | FALSE |\n",
       "| 2022-10 | 110 | Francia | 28075 | Loeches                  |   106 | 075 |   106 | FALSE |\n",
       "| 2022-10 | 110 | Francia | 28089 | Moraleja de Enmedio      |    37 | 089 |    37 | FALSE |\n",
       "| 2022-10 | 110 | Francia | 28096 | Navalcarnero             |   238 | 096 |   238 | FALSE |\n",
       "| 2022-10 | 110 | Francia | 28100 | Nuevo Baztán             |    32 | 100 |    32 | FALSE |\n",
       "| 2022-10 | 110 | Francia | 28104 | Paracuellos de Jarama    |   245 | 104 |   245 | FALSE |\n",
       "| 2022-10 | 110 | Francia | 28160 | Valdemorillo             |   108 | 160 |   108 | FALSE |\n",
       "\n"
      ],
      "text/plain": [
       "     mes     pais_orig_cod pais_orig mun_dest_cod mun_dest                     \n",
       "1    2019-08 110           Francia   28161        Valdemoro                    \n",
       "2    2021-09 110           Francia   28005        Alcalá de Henares            \n",
       "3    2022-10 110           Francia   28066        Griñón                       \n",
       "4    2022-03 110           Francia   28903        Tres Cantos                  \n",
       "5    2020-03 110           Francia   28058        Fuenlabrada                  \n",
       "6    2020-12 110           Francia   28068        Guadarrama                   \n",
       "7    2020-07 110           Francia   28053        Daganzo de Arriba            \n",
       "8    2020-05 110           Francia   28054        Escorial, El                 \n",
       "9    2022-08 110           Francia   28009        Algete                       \n",
       "10   2022-01 110           Francia   28030        Cabrera, La                  \n",
       "11   2021-01 110           Francia   28047        Collado Villalba             \n",
       "12   2020-09 110           Francia   28054        Escorial, El                 \n",
       "13   2022-08 110           Francia   28075        Loeches                      \n",
       "14   2020-08 110           Francia   28109        Pelayos de la Presa          \n",
       "15   2021-07 110           Francia   28058        Fuenlabrada                  \n",
       "16   2021-04 110           Francia   28075        Loeches                      \n",
       "17   2020-10 110           Francia   28083        Meco                         \n",
       "18   2020-08 110           Francia   28901        Lozoyuela-Navas-Sieteiglesias\n",
       "19   2020-04 110           Francia   28065        Getafe                       \n",
       "20   2021-03 110           Francia   28006        Alcobendas                   \n",
       "21   2021-03 110           Francia   28127        Rozas de Madrid, Las         \n",
       "22   2020-01 110           Francia   28137        Santos de la Humosa, Los     \n",
       "23   2021-05 110           Francia   28026        Brunete                      \n",
       "24   2021-05 110           Francia   28032        Camarma de Esteruelas        \n",
       "25   2022-06 110           Francia   28095        Navalagamella                \n",
       "26   2022-07 110           Francia   28144        Soto del Real                \n",
       "27   2019-07 110           Francia   28073        Humanes de Madrid            \n",
       "28   2021-12 110           Francia   28161        Valdemoro                    \n",
       "29   2022-03 110           Francia   28015        Arroyomolinos                \n",
       "30   2020-01 110           Francia   28154        Torres de la Alameda         \n",
       "⋮    ⋮       ⋮             ⋮         ⋮            ⋮                            \n",
       "3367 2022-09 110           Francia   28007        Alcorcón                     \n",
       "3368 2022-09 110           Francia   28009        Algete                       \n",
       "3369 2022-09 110           Francia   28026        Brunete                      \n",
       "3370 2022-09 110           Francia   28027        Buitrago del Lozoya          \n",
       "3371 2022-09 110           Francia   28046        Collado Mediano              \n",
       "3372 2022-09 110           Francia   28047        Collado Villalba             \n",
       "3373 2022-09 110           Francia   28049        Coslada                      \n",
       "3374 2022-09 110           Francia   28053        Daganzo de Arriba            \n",
       "3375 2022-09 110           Francia   28065        Getafe                       \n",
       "3376 2022-09 110           Francia   28073        Humanes de Madrid            \n",
       "3377 2022-09 110           Francia   28079        Madrid                       \n",
       "3378 2022-09 110           Francia   28113        Pinto                        \n",
       "3379 2022-09 110           Francia   28116        Pozuelo del Rey              \n",
       "3380 2022-09 110           Francia   28129        San Agustín del Guadalix     \n",
       "3381 2022-09 110           Francia   28144        Soto del Real                \n",
       "3382 2022-09 110           Francia   28154        Torres de la Alameda         \n",
       "3383 2022-09 110           Francia   28168        Vellón, El                   \n",
       "3384 2022-09 110           Francia   28171        Villa del Prado              \n",
       "3385 2022-09 110           Francia   28181        Villaviciosa de Odón         \n",
       "3386 2022-09 110           Francia   28903        Tres Cantos                  \n",
       "3387 2022-10 110           Francia   28028        Bustarviejo                  \n",
       "3388 2022-10 110           Francia   28049        Coslada                      \n",
       "3389 2022-10 110           Francia   28052        Chinchón                     \n",
       "3390 2022-10 110           Francia   28060        Fuentidueña de Tajo          \n",
       "3391 2022-10 110           Francia   28075        Loeches                      \n",
       "3392 2022-10 110           Francia   28089        Moraleja de Enmedio          \n",
       "3393 2022-10 110           Francia   28096        Navalcarnero                 \n",
       "3394 2022-10 110           Francia   28100        Nuevo Baztán                 \n",
       "3395 2022-10 110           Francia   28104        Paracuellos de Jarama        \n",
       "3396 2022-10 110           Francia   28160        Valdemorillo                 \n",
       "     turistas CMUN Target is_train\n",
       "1     466     161   466   TRUE    \n",
       "2    1646     005  1646   TRUE    \n",
       "3      37     066    37   TRUE    \n",
       "4     538     903   538   TRUE    \n",
       "5     950     058   950   TRUE    \n",
       "6      96     068    96   TRUE    \n",
       "7      54     053    54   TRUE    \n",
       "8      41     054    41   TRUE    \n",
       "9     100     009   100   TRUE    \n",
       "10     45     030    45   TRUE    \n",
       "11    337     047   337   TRUE    \n",
       "12     77     054    77   TRUE    \n",
       "13     61     075    61   TRUE    \n",
       "14     49     109    49   TRUE    \n",
       "15    823     058   823   TRUE    \n",
       "16     78     075    78   TRUE    \n",
       "17    101     083   101   TRUE    \n",
       "18     31     901    31   TRUE    \n",
       "19    404     065   404   TRUE    \n",
       "20    810     006   810   TRUE    \n",
       "21    655     127   655   TRUE    \n",
       "22     33     137    33   TRUE    \n",
       "23    186     026   186   TRUE    \n",
       "24     32     032    32   TRUE    \n",
       "25     56     095    56   TRUE    \n",
       "26     90     144    90   TRUE    \n",
       "27    200     073   200   TRUE    \n",
       "28    527     161   527   TRUE    \n",
       "29    204     015   204   TRUE    \n",
       "30     64     154    64   TRUE    \n",
       "⋮    ⋮        ⋮    ⋮      ⋮       \n",
       "3367   862    007    862  FALSE   \n",
       "3368   134    009    134  FALSE   \n",
       "3369   237    026    237  FALSE   \n",
       "3370    57    027     57  FALSE   \n",
       "3371    51    046     51  FALSE   \n",
       "3372   394    047    394  FALSE   \n",
       "3373   338    049    338  FALSE   \n",
       "3374    74    053     74  FALSE   \n",
       "3375  1470    065   1470  FALSE   \n",
       "3376    99    073     99  FALSE   \n",
       "3377 45229    079  45229  FALSE   \n",
       "3378   539    113    539  FALSE   \n",
       "3379    31    116     31  FALSE   \n",
       "3380   148    129    148  FALSE   \n",
       "3381    69    144     69  FALSE   \n",
       "3382   148    154    148  FALSE   \n",
       "3383    48    168     48  FALSE   \n",
       "3384    93    171     93  FALSE   \n",
       "3385   626    181    626  FALSE   \n",
       "3386   530    903    530  FALSE   \n",
       "3387    33    028     33  FALSE   \n",
       "3388   323    049    323  FALSE   \n",
       "3389    42    052     42  FALSE   \n",
       "3390    35    060     35  FALSE   \n",
       "3391   106    075    106  FALSE   \n",
       "3392    37    089     37  FALSE   \n",
       "3393   238    096    238  FALSE   \n",
       "3394    32    100     32  FALSE   \n",
       "3395   245    104    245  FALSE   \n",
       "3396   108    160    108  FALSE   "
      ]
     },
     "metadata": {},
     "output_type": "display_data"
    }
   ],
   "source": [
    "data |> filter(pais_orig == \"Francia\")"
   ]
  },
  {
   "cell_type": "markdown",
   "metadata": {
    "slideshow": {
     "slide_type": "slide"
    }
   },
   "source": [
    "### Insert New Column"
   ]
  },
  {
   "cell_type": "code",
   "execution_count": 16,
   "metadata": {
    "ExecuteTime": {
     "end_time": "2020-06-30T14:33:43.649449Z",
     "start_time": "2020-06-30T14:33:43.611681Z"
    },
    "scrolled": true,
    "slideshow": {
     "slide_type": "subslide"
    },
    "vscode": {
     "languageId": "r"
    }
   },
   "outputs": [
    {
     "data": {
      "text/html": [
       "<table class=\"dataframe\">\n",
       "<caption>A tibble: 50294 × 10</caption>\n",
       "<thead>\n",
       "\t<tr><th scope=col>mes</th><th scope=col>pais_orig_cod</th><th scope=col>pais_orig</th><th scope=col>mun_dest_cod</th><th scope=col>mun_dest</th><th scope=col>turistas</th><th scope=col>CMUN</th><th scope=col>Target</th><th scope=col>is_train</th><th scope=col>x</th></tr>\n",
       "\t<tr><th scope=col>&lt;chr&gt;</th><th scope=col>&lt;chr&gt;</th><th scope=col>&lt;chr&gt;</th><th scope=col>&lt;dbl&gt;</th><th scope=col>&lt;chr&gt;</th><th scope=col>&lt;dbl&gt;</th><th scope=col>&lt;chr&gt;</th><th scope=col>&lt;dbl&gt;</th><th scope=col>&lt;lgl&gt;</th><th scope=col>&lt;lgl&gt;</th></tr>\n",
       "</thead>\n",
       "<tbody>\n",
       "\t<tr><td>2019-08</td><td>110</td><td>Francia            </td><td>28161</td><td>Valdemoro                 </td><td> 466</td><td>161</td><td> 466</td><td>TRUE</td><td>TRUE</td></tr>\n",
       "\t<tr><td>2021-07</td><td>010</td><td>Total Europa       </td><td>28176</td><td>Villanueva de la Cañada   </td><td>1375</td><td>176</td><td>1375</td><td>TRUE</td><td>TRUE</td></tr>\n",
       "\t<tr><td>2021-07</td><td>010</td><td>Total Europa       </td><td>28132</td><td>San Martín de la Vega     </td><td> 465</td><td>132</td><td> 465</td><td>TRUE</td><td>TRUE</td></tr>\n",
       "\t<tr><td>2022-01</td><td>000</td><td>Total              </td><td>28141</td><td>Sevilla la Nueva          </td><td>  54</td><td>141</td><td>  54</td><td>TRUE</td><td>TRUE</td></tr>\n",
       "\t<tr><td>2019-08</td><td>128</td><td>Rumania            </td><td>28130</td><td>San Fernando de Henares   </td><td> 135</td><td>130</td><td> 135</td><td>TRUE</td><td>TRUE</td></tr>\n",
       "\t<tr><td>2022-07</td><td>000</td><td>Total              </td><td>28126</td><td>Robregordo                </td><td>  30</td><td>126</td><td>  30</td><td>TRUE</td><td>TRUE</td></tr>\n",
       "\t<tr><td>2022-08</td><td>011</td><td>Total Unión Europea</td><td>28075</td><td>Loeches                   </td><td> 285</td><td>075</td><td> 285</td><td>TRUE</td><td>TRUE</td></tr>\n",
       "\t<tr><td>2022-03</td><td>126</td><td>Alemania           </td><td>28005</td><td>Alcalá de Henares         </td><td> 768</td><td>005</td><td> 768</td><td>TRUE</td><td>TRUE</td></tr>\n",
       "\t<tr><td>2020-01</td><td>121</td><td>Países Bajos       </td><td>28066</td><td>Griñón                    </td><td>  31</td><td>066</td><td>  31</td><td>TRUE</td><td>TRUE</td></tr>\n",
       "\t<tr><td>2021-09</td><td>110</td><td>Francia            </td><td>28005</td><td>Alcalá de Henares         </td><td>1646</td><td>005</td><td>1646</td><td>TRUE</td><td>TRUE</td></tr>\n",
       "\t<tr><td>2020-05</td><td>121</td><td>Países Bajos       </td><td>28047</td><td>Collado Villalba          </td><td> 116</td><td>047</td><td> 116</td><td>TRUE</td><td>TRUE</td></tr>\n",
       "\t<tr><td>2020-06</td><td>351</td><td>Venezuela          </td><td>28065</td><td>Getafe                    </td><td>  36</td><td>065</td><td>  36</td><td>TRUE</td><td>TRUE</td></tr>\n",
       "\t<tr><td>2021-05</td><td>010</td><td>Total Europa       </td><td>28100</td><td>Nuevo Baztán              </td><td>  59</td><td>100</td><td>  59</td><td>TRUE</td><td>TRUE</td></tr>\n",
       "\t<tr><td>2021-02</td><td>123</td><td>Portugal           </td><td>28113</td><td>Pinto                     </td><td>  63</td><td>113</td><td>  63</td><td>TRUE</td><td>TRUE</td></tr>\n",
       "\t<tr><td>2020-01</td><td>010</td><td>Total Europa       </td><td>28005</td><td>Alcalá de Henares         </td><td>7242</td><td>005</td><td>7242</td><td>TRUE</td><td>TRUE</td></tr>\n",
       "\t<tr><td>2021-08</td><td>131</td><td>Suecia             </td><td>28074</td><td>Leganés                   </td><td> 143</td><td>074</td><td> 143</td><td>TRUE</td><td>TRUE</td></tr>\n",
       "\t<tr><td>2021-07</td><td>000</td><td>Total              </td><td>28034</td><td>Canencia                  </td><td>  56</td><td>034</td><td>  56</td><td>TRUE</td><td>TRUE</td></tr>\n",
       "\t<tr><td>2019-12</td><td>302</td><td>EE.UU.             </td><td>28047</td><td>Collado Villalba          </td><td>  47</td><td>047</td><td>  47</td><td>TRUE</td><td>TRUE</td></tr>\n",
       "\t<tr><td>2020-04</td><td>213</td><td>Egipto             </td><td>28079</td><td>Madrid                    </td><td> 117</td><td>079</td><td> 117</td><td>TRUE</td><td>TRUE</td></tr>\n",
       "\t<tr><td>2022-10</td><td>110</td><td>Francia            </td><td>28066</td><td>Griñón                    </td><td>  37</td><td>066</td><td>  37</td><td>TRUE</td><td>TRUE</td></tr>\n",
       "\t<tr><td>2021-03</td><td>102</td><td>Austria            </td><td>28007</td><td>Alcorcón                  </td><td> 105</td><td>007</td><td> 105</td><td>TRUE</td><td>TRUE</td></tr>\n",
       "\t<tr><td>2019-11</td><td>126</td><td>Alemania           </td><td>28005</td><td>Alcalá de Henares         </td><td> 977</td><td>005</td><td> 977</td><td>TRUE</td><td>TRUE</td></tr>\n",
       "\t<tr><td>2020-08</td><td>128</td><td>Rumania            </td><td>28148</td><td>Torrejón de Ardoz         </td><td>  85</td><td>148</td><td>  85</td><td>TRUE</td><td>TRUE</td></tr>\n",
       "\t<tr><td>2021-07</td><td>117</td><td>Luxemburgo         </td><td>28080</td><td>Majadahonda               </td><td>  58</td><td>080</td><td>  58</td><td>TRUE</td><td>TRUE</td></tr>\n",
       "\t<tr><td>2021-07</td><td>407</td><td>China              </td><td>28007</td><td>Alcorcón                  </td><td>  54</td><td>007</td><td>  54</td><td>TRUE</td><td>TRUE</td></tr>\n",
       "\t<tr><td>2022-04</td><td>340</td><td>Argentina          </td><td>28134</td><td>San Sebastián de los Reyes</td><td>  40</td><td>134</td><td>  40</td><td>TRUE</td><td>TRUE</td></tr>\n",
       "\t<tr><td>2019-07</td><td>228</td><td>Marruecos          </td><td>28005</td><td>Alcalá de Henares         </td><td>  63</td><td>005</td><td>  63</td><td>TRUE</td><td>TRUE</td></tr>\n",
       "\t<tr><td>2020-05</td><td>117</td><td>Luxemburgo         </td><td>28080</td><td>Majadahonda               </td><td>  34</td><td>080</td><td>  34</td><td>TRUE</td><td>TRUE</td></tr>\n",
       "\t<tr><td>2022-03</td><td>110</td><td>Francia            </td><td>28903</td><td>Tres Cantos               </td><td> 538</td><td>903</td><td> 538</td><td>TRUE</td><td>TRUE</td></tr>\n",
       "\t<tr><td>2019-11</td><td>343</td><td>Colombia           </td><td>28130</td><td>San Fernando de Henares   </td><td>  42</td><td>130</td><td>  42</td><td>TRUE</td><td>TRUE</td></tr>\n",
       "\t<tr><td>⋮</td><td>⋮</td><td>⋮</td><td>⋮</td><td>⋮</td><td>⋮</td><td>⋮</td><td>⋮</td><td>⋮</td><td>⋮</td></tr>\n",
       "\t<tr><td>2022-10</td><td>000</td><td>Total                  </td><td>28162</td><td>Valdeolmos-Alalpardo         </td><td> 101</td><td>162</td><td> 101</td><td>FALSE</td><td>TRUE</td></tr>\n",
       "\t<tr><td>2022-10</td><td>010</td><td>Total Europa           </td><td>28162</td><td>Valdeolmos-Alalpardo         </td><td>  73</td><td>162</td><td>  73</td><td>FALSE</td><td>TRUE</td></tr>\n",
       "\t<tr><td>2022-10</td><td>000</td><td>Total                  </td><td>28164</td><td>Valdetorres de Jarama        </td><td> 126</td><td>164</td><td> 126</td><td>FALSE</td><td>TRUE</td></tr>\n",
       "\t<tr><td>2022-10</td><td>011</td><td>Total Unión Europea    </td><td>28164</td><td>Valdetorres de Jarama        </td><td>  69</td><td>164</td><td>  69</td><td>FALSE</td><td>TRUE</td></tr>\n",
       "\t<tr><td>2022-10</td><td>000</td><td>Total                  </td><td>28167</td><td>Velilla de San Antonio       </td><td> 223</td><td>167</td><td> 223</td><td>FALSE</td><td>TRUE</td></tr>\n",
       "\t<tr><td>2022-10</td><td>000</td><td>Total                  </td><td>28168</td><td>Vellón, El                   </td><td> 248</td><td>168</td><td> 248</td><td>FALSE</td><td>TRUE</td></tr>\n",
       "\t<tr><td>2022-10</td><td>126</td><td>Alemania               </td><td>28168</td><td>Vellón, El                   </td><td>  45</td><td>168</td><td>  45</td><td>FALSE</td><td>TRUE</td></tr>\n",
       "\t<tr><td>2022-10</td><td>000</td><td>Total                  </td><td>28169</td><td>Venturada                    </td><td> 103</td><td>169</td><td> 103</td><td>FALSE</td><td>TRUE</td></tr>\n",
       "\t<tr><td>2022-10</td><td>011</td><td>Total Unión Europea    </td><td>28169</td><td>Venturada                    </td><td>  65</td><td>169</td><td>  65</td><td>FALSE</td><td>TRUE</td></tr>\n",
       "\t<tr><td>2022-10</td><td>000</td><td>Total                  </td><td>28171</td><td>Villa del Prado              </td><td> 211</td><td>171</td><td> 211</td><td>FALSE</td><td>TRUE</td></tr>\n",
       "\t<tr><td>2022-10</td><td>011</td><td>Total Unión Europea    </td><td>28171</td><td>Villa del Prado              </td><td> 127</td><td>171</td><td> 127</td><td>FALSE</td><td>TRUE</td></tr>\n",
       "\t<tr><td>2022-10</td><td>121</td><td>Países Bajos           </td><td>28171</td><td>Villa del Prado              </td><td>  33</td><td>171</td><td>  33</td><td>FALSE</td><td>TRUE</td></tr>\n",
       "\t<tr><td>2022-10</td><td>010</td><td>Total Europa           </td><td>28172</td><td>Villalbilla                  </td><td> 269</td><td>172</td><td> 269</td><td>FALSE</td><td>TRUE</td></tr>\n",
       "\t<tr><td>2022-10</td><td>000</td><td>Total                  </td><td>28174</td><td>Villamanta                   </td><td> 101</td><td>174</td><td> 101</td><td>FALSE</td><td>TRUE</td></tr>\n",
       "\t<tr><td>2022-10</td><td>011</td><td>Total Unión Europea    </td><td>28174</td><td>Villamanta                   </td><td>  71</td><td>174</td><td>  71</td><td>FALSE</td><td>TRUE</td></tr>\n",
       "\t<tr><td>2022-10</td><td>011</td><td>Total Unión Europea    </td><td>28176</td><td>Villanueva de la Cañada      </td><td>1903</td><td>176</td><td>1903</td><td>FALSE</td><td>TRUE</td></tr>\n",
       "\t<tr><td>2022-10</td><td>020</td><td>Total África           </td><td>28176</td><td>Villanueva de la Cañada      </td><td>  39</td><td>176</td><td>  39</td><td>FALSE</td><td>TRUE</td></tr>\n",
       "\t<tr><td>2022-10</td><td>033</td><td>Total Sudamérica       </td><td>28176</td><td>Villanueva de la Cañada      </td><td>  45</td><td>176</td><td>  45</td><td>FALSE</td><td>TRUE</td></tr>\n",
       "\t<tr><td>2022-10</td><td>102</td><td>Austria                </td><td>28176</td><td>Villanueva de la Cañada      </td><td>  64</td><td>176</td><td>  64</td><td>FALSE</td><td>TRUE</td></tr>\n",
       "\t<tr><td>2022-10</td><td>115</td><td>Italia                 </td><td>28176</td><td>Villanueva de la Cañada      </td><td> 137</td><td>176</td><td> 137</td><td>FALSE</td><td>TRUE</td></tr>\n",
       "\t<tr><td>2022-10</td><td>125</td><td>Reino Unido            </td><td>28176</td><td>Villanueva de la Cañada      </td><td>  46</td><td>176</td><td>  46</td><td>FALSE</td><td>TRUE</td></tr>\n",
       "\t<tr><td>2022-10</td><td>010</td><td>Total Europa           </td><td>28177</td><td>Villanueva del Pardillo      </td><td> 453</td><td>177</td><td> 453</td><td>FALSE</td><td>TRUE</td></tr>\n",
       "\t<tr><td>2022-10</td><td>121</td><td>Países Bajos           </td><td>28177</td><td>Villanueva del Pardillo      </td><td> 151</td><td>177</td><td> 151</td><td>FALSE</td><td>TRUE</td></tr>\n",
       "\t<tr><td>2022-10</td><td>020</td><td>Total África           </td><td>28181</td><td>Villaviciosa de Odón         </td><td>  57</td><td>181</td><td>  57</td><td>FALSE</td><td>TRUE</td></tr>\n",
       "\t<tr><td>2022-10</td><td>040</td><td>Total Asia             </td><td>28181</td><td>Villaviciosa de Odón         </td><td>  42</td><td>181</td><td>  42</td><td>FALSE</td><td>TRUE</td></tr>\n",
       "\t<tr><td>2022-10</td><td>000</td><td>Total                  </td><td>28901</td><td>Lozoyuela-Navas-Sieteiglesias</td><td> 168</td><td>901</td><td> 168</td><td>FALSE</td><td>TRUE</td></tr>\n",
       "\t<tr><td>2022-10</td><td>010</td><td>Total Europa           </td><td>28902</td><td>Puentes Viejas               </td><td> 149</td><td>902</td><td> 149</td><td>FALSE</td><td>TRUE</td></tr>\n",
       "\t<tr><td>2022-10</td><td>031</td><td>Total América del Norte</td><td>28903</td><td>Tres Cantos                  </td><td> 200</td><td>903</td><td> 200</td><td>FALSE</td><td>TRUE</td></tr>\n",
       "\t<tr><td>2022-10</td><td>102</td><td>Austria                </td><td>28903</td><td>Tres Cantos                  </td><td>  72</td><td>903</td><td>  72</td><td>FALSE</td><td>TRUE</td></tr>\n",
       "\t<tr><td>2022-10</td><td>121</td><td>Países Bajos           </td><td>28903</td><td>Tres Cantos                  </td><td> 378</td><td>903</td><td> 378</td><td>FALSE</td><td>TRUE</td></tr>\n",
       "</tbody>\n",
       "</table>\n"
      ],
      "text/latex": [
       "A tibble: 50294 × 10\n",
       "\\begin{tabular}{llllllllll}\n",
       " mes & pais\\_orig\\_cod & pais\\_orig & mun\\_dest\\_cod & mun\\_dest & turistas & CMUN & Target & is\\_train & x\\\\\n",
       " <chr> & <chr> & <chr> & <dbl> & <chr> & <dbl> & <chr> & <dbl> & <lgl> & <lgl>\\\\\n",
       "\\hline\n",
       "\t 2019-08 & 110 & Francia             & 28161 & Valdemoro                  &  466 & 161 &  466 & TRUE & TRUE\\\\\n",
       "\t 2021-07 & 010 & Total Europa        & 28176 & Villanueva de la Cañada    & 1375 & 176 & 1375 & TRUE & TRUE\\\\\n",
       "\t 2021-07 & 010 & Total Europa        & 28132 & San Martín de la Vega      &  465 & 132 &  465 & TRUE & TRUE\\\\\n",
       "\t 2022-01 & 000 & Total               & 28141 & Sevilla la Nueva           &   54 & 141 &   54 & TRUE & TRUE\\\\\n",
       "\t 2019-08 & 128 & Rumania             & 28130 & San Fernando de Henares    &  135 & 130 &  135 & TRUE & TRUE\\\\\n",
       "\t 2022-07 & 000 & Total               & 28126 & Robregordo                 &   30 & 126 &   30 & TRUE & TRUE\\\\\n",
       "\t 2022-08 & 011 & Total Unión Europea & 28075 & Loeches                    &  285 & 075 &  285 & TRUE & TRUE\\\\\n",
       "\t 2022-03 & 126 & Alemania            & 28005 & Alcalá de Henares          &  768 & 005 &  768 & TRUE & TRUE\\\\\n",
       "\t 2020-01 & 121 & Países Bajos        & 28066 & Griñón                     &   31 & 066 &   31 & TRUE & TRUE\\\\\n",
       "\t 2021-09 & 110 & Francia             & 28005 & Alcalá de Henares          & 1646 & 005 & 1646 & TRUE & TRUE\\\\\n",
       "\t 2020-05 & 121 & Países Bajos        & 28047 & Collado Villalba           &  116 & 047 &  116 & TRUE & TRUE\\\\\n",
       "\t 2020-06 & 351 & Venezuela           & 28065 & Getafe                     &   36 & 065 &   36 & TRUE & TRUE\\\\\n",
       "\t 2021-05 & 010 & Total Europa        & 28100 & Nuevo Baztán               &   59 & 100 &   59 & TRUE & TRUE\\\\\n",
       "\t 2021-02 & 123 & Portugal            & 28113 & Pinto                      &   63 & 113 &   63 & TRUE & TRUE\\\\\n",
       "\t 2020-01 & 010 & Total Europa        & 28005 & Alcalá de Henares          & 7242 & 005 & 7242 & TRUE & TRUE\\\\\n",
       "\t 2021-08 & 131 & Suecia              & 28074 & Leganés                    &  143 & 074 &  143 & TRUE & TRUE\\\\\n",
       "\t 2021-07 & 000 & Total               & 28034 & Canencia                   &   56 & 034 &   56 & TRUE & TRUE\\\\\n",
       "\t 2019-12 & 302 & EE.UU.              & 28047 & Collado Villalba           &   47 & 047 &   47 & TRUE & TRUE\\\\\n",
       "\t 2020-04 & 213 & Egipto              & 28079 & Madrid                     &  117 & 079 &  117 & TRUE & TRUE\\\\\n",
       "\t 2022-10 & 110 & Francia             & 28066 & Griñón                     &   37 & 066 &   37 & TRUE & TRUE\\\\\n",
       "\t 2021-03 & 102 & Austria             & 28007 & Alcorcón                   &  105 & 007 &  105 & TRUE & TRUE\\\\\n",
       "\t 2019-11 & 126 & Alemania            & 28005 & Alcalá de Henares          &  977 & 005 &  977 & TRUE & TRUE\\\\\n",
       "\t 2020-08 & 128 & Rumania             & 28148 & Torrejón de Ardoz          &   85 & 148 &   85 & TRUE & TRUE\\\\\n",
       "\t 2021-07 & 117 & Luxemburgo          & 28080 & Majadahonda                &   58 & 080 &   58 & TRUE & TRUE\\\\\n",
       "\t 2021-07 & 407 & China               & 28007 & Alcorcón                   &   54 & 007 &   54 & TRUE & TRUE\\\\\n",
       "\t 2022-04 & 340 & Argentina           & 28134 & San Sebastián de los Reyes &   40 & 134 &   40 & TRUE & TRUE\\\\\n",
       "\t 2019-07 & 228 & Marruecos           & 28005 & Alcalá de Henares          &   63 & 005 &   63 & TRUE & TRUE\\\\\n",
       "\t 2020-05 & 117 & Luxemburgo          & 28080 & Majadahonda                &   34 & 080 &   34 & TRUE & TRUE\\\\\n",
       "\t 2022-03 & 110 & Francia             & 28903 & Tres Cantos                &  538 & 903 &  538 & TRUE & TRUE\\\\\n",
       "\t 2019-11 & 343 & Colombia            & 28130 & San Fernando de Henares    &   42 & 130 &   42 & TRUE & TRUE\\\\\n",
       "\t ⋮ & ⋮ & ⋮ & ⋮ & ⋮ & ⋮ & ⋮ & ⋮ & ⋮ & ⋮\\\\\n",
       "\t 2022-10 & 000 & Total                   & 28162 & Valdeolmos-Alalpardo          &  101 & 162 &  101 & FALSE & TRUE\\\\\n",
       "\t 2022-10 & 010 & Total Europa            & 28162 & Valdeolmos-Alalpardo          &   73 & 162 &   73 & FALSE & TRUE\\\\\n",
       "\t 2022-10 & 000 & Total                   & 28164 & Valdetorres de Jarama         &  126 & 164 &  126 & FALSE & TRUE\\\\\n",
       "\t 2022-10 & 011 & Total Unión Europea     & 28164 & Valdetorres de Jarama         &   69 & 164 &   69 & FALSE & TRUE\\\\\n",
       "\t 2022-10 & 000 & Total                   & 28167 & Velilla de San Antonio        &  223 & 167 &  223 & FALSE & TRUE\\\\\n",
       "\t 2022-10 & 000 & Total                   & 28168 & Vellón, El                    &  248 & 168 &  248 & FALSE & TRUE\\\\\n",
       "\t 2022-10 & 126 & Alemania                & 28168 & Vellón, El                    &   45 & 168 &   45 & FALSE & TRUE\\\\\n",
       "\t 2022-10 & 000 & Total                   & 28169 & Venturada                     &  103 & 169 &  103 & FALSE & TRUE\\\\\n",
       "\t 2022-10 & 011 & Total Unión Europea     & 28169 & Venturada                     &   65 & 169 &   65 & FALSE & TRUE\\\\\n",
       "\t 2022-10 & 000 & Total                   & 28171 & Villa del Prado               &  211 & 171 &  211 & FALSE & TRUE\\\\\n",
       "\t 2022-10 & 011 & Total Unión Europea     & 28171 & Villa del Prado               &  127 & 171 &  127 & FALSE & TRUE\\\\\n",
       "\t 2022-10 & 121 & Países Bajos            & 28171 & Villa del Prado               &   33 & 171 &   33 & FALSE & TRUE\\\\\n",
       "\t 2022-10 & 010 & Total Europa            & 28172 & Villalbilla                   &  269 & 172 &  269 & FALSE & TRUE\\\\\n",
       "\t 2022-10 & 000 & Total                   & 28174 & Villamanta                    &  101 & 174 &  101 & FALSE & TRUE\\\\\n",
       "\t 2022-10 & 011 & Total Unión Europea     & 28174 & Villamanta                    &   71 & 174 &   71 & FALSE & TRUE\\\\\n",
       "\t 2022-10 & 011 & Total Unión Europea     & 28176 & Villanueva de la Cañada       & 1903 & 176 & 1903 & FALSE & TRUE\\\\\n",
       "\t 2022-10 & 020 & Total África            & 28176 & Villanueva de la Cañada       &   39 & 176 &   39 & FALSE & TRUE\\\\\n",
       "\t 2022-10 & 033 & Total Sudamérica        & 28176 & Villanueva de la Cañada       &   45 & 176 &   45 & FALSE & TRUE\\\\\n",
       "\t 2022-10 & 102 & Austria                 & 28176 & Villanueva de la Cañada       &   64 & 176 &   64 & FALSE & TRUE\\\\\n",
       "\t 2022-10 & 115 & Italia                  & 28176 & Villanueva de la Cañada       &  137 & 176 &  137 & FALSE & TRUE\\\\\n",
       "\t 2022-10 & 125 & Reino Unido             & 28176 & Villanueva de la Cañada       &   46 & 176 &   46 & FALSE & TRUE\\\\\n",
       "\t 2022-10 & 010 & Total Europa            & 28177 & Villanueva del Pardillo       &  453 & 177 &  453 & FALSE & TRUE\\\\\n",
       "\t 2022-10 & 121 & Países Bajos            & 28177 & Villanueva del Pardillo       &  151 & 177 &  151 & FALSE & TRUE\\\\\n",
       "\t 2022-10 & 020 & Total África            & 28181 & Villaviciosa de Odón          &   57 & 181 &   57 & FALSE & TRUE\\\\\n",
       "\t 2022-10 & 040 & Total Asia              & 28181 & Villaviciosa de Odón          &   42 & 181 &   42 & FALSE & TRUE\\\\\n",
       "\t 2022-10 & 000 & Total                   & 28901 & Lozoyuela-Navas-Sieteiglesias &  168 & 901 &  168 & FALSE & TRUE\\\\\n",
       "\t 2022-10 & 010 & Total Europa            & 28902 & Puentes Viejas                &  149 & 902 &  149 & FALSE & TRUE\\\\\n",
       "\t 2022-10 & 031 & Total América del Norte & 28903 & Tres Cantos                   &  200 & 903 &  200 & FALSE & TRUE\\\\\n",
       "\t 2022-10 & 102 & Austria                 & 28903 & Tres Cantos                   &   72 & 903 &   72 & FALSE & TRUE\\\\\n",
       "\t 2022-10 & 121 & Países Bajos            & 28903 & Tres Cantos                   &  378 & 903 &  378 & FALSE & TRUE\\\\\n",
       "\\end{tabular}\n"
      ],
      "text/markdown": [
       "\n",
       "A tibble: 50294 × 10\n",
       "\n",
       "| mes &lt;chr&gt; | pais_orig_cod &lt;chr&gt; | pais_orig &lt;chr&gt; | mun_dest_cod &lt;dbl&gt; | mun_dest &lt;chr&gt; | turistas &lt;dbl&gt; | CMUN &lt;chr&gt; | Target &lt;dbl&gt; | is_train &lt;lgl&gt; | x &lt;lgl&gt; |\n",
       "|---|---|---|---|---|---|---|---|---|---|\n",
       "| 2019-08 | 110 | Francia             | 28161 | Valdemoro                  |  466 | 161 |  466 | TRUE | TRUE |\n",
       "| 2021-07 | 010 | Total Europa        | 28176 | Villanueva de la Cañada    | 1375 | 176 | 1375 | TRUE | TRUE |\n",
       "| 2021-07 | 010 | Total Europa        | 28132 | San Martín de la Vega      |  465 | 132 |  465 | TRUE | TRUE |\n",
       "| 2022-01 | 000 | Total               | 28141 | Sevilla la Nueva           |   54 | 141 |   54 | TRUE | TRUE |\n",
       "| 2019-08 | 128 | Rumania             | 28130 | San Fernando de Henares    |  135 | 130 |  135 | TRUE | TRUE |\n",
       "| 2022-07 | 000 | Total               | 28126 | Robregordo                 |   30 | 126 |   30 | TRUE | TRUE |\n",
       "| 2022-08 | 011 | Total Unión Europea | 28075 | Loeches                    |  285 | 075 |  285 | TRUE | TRUE |\n",
       "| 2022-03 | 126 | Alemania            | 28005 | Alcalá de Henares          |  768 | 005 |  768 | TRUE | TRUE |\n",
       "| 2020-01 | 121 | Países Bajos        | 28066 | Griñón                     |   31 | 066 |   31 | TRUE | TRUE |\n",
       "| 2021-09 | 110 | Francia             | 28005 | Alcalá de Henares          | 1646 | 005 | 1646 | TRUE | TRUE |\n",
       "| 2020-05 | 121 | Países Bajos        | 28047 | Collado Villalba           |  116 | 047 |  116 | TRUE | TRUE |\n",
       "| 2020-06 | 351 | Venezuela           | 28065 | Getafe                     |   36 | 065 |   36 | TRUE | TRUE |\n",
       "| 2021-05 | 010 | Total Europa        | 28100 | Nuevo Baztán               |   59 | 100 |   59 | TRUE | TRUE |\n",
       "| 2021-02 | 123 | Portugal            | 28113 | Pinto                      |   63 | 113 |   63 | TRUE | TRUE |\n",
       "| 2020-01 | 010 | Total Europa        | 28005 | Alcalá de Henares          | 7242 | 005 | 7242 | TRUE | TRUE |\n",
       "| 2021-08 | 131 | Suecia              | 28074 | Leganés                    |  143 | 074 |  143 | TRUE | TRUE |\n",
       "| 2021-07 | 000 | Total               | 28034 | Canencia                   |   56 | 034 |   56 | TRUE | TRUE |\n",
       "| 2019-12 | 302 | EE.UU.              | 28047 | Collado Villalba           |   47 | 047 |   47 | TRUE | TRUE |\n",
       "| 2020-04 | 213 | Egipto              | 28079 | Madrid                     |  117 | 079 |  117 | TRUE | TRUE |\n",
       "| 2022-10 | 110 | Francia             | 28066 | Griñón                     |   37 | 066 |   37 | TRUE | TRUE |\n",
       "| 2021-03 | 102 | Austria             | 28007 | Alcorcón                   |  105 | 007 |  105 | TRUE | TRUE |\n",
       "| 2019-11 | 126 | Alemania            | 28005 | Alcalá de Henares          |  977 | 005 |  977 | TRUE | TRUE |\n",
       "| 2020-08 | 128 | Rumania             | 28148 | Torrejón de Ardoz          |   85 | 148 |   85 | TRUE | TRUE |\n",
       "| 2021-07 | 117 | Luxemburgo          | 28080 | Majadahonda                |   58 | 080 |   58 | TRUE | TRUE |\n",
       "| 2021-07 | 407 | China               | 28007 | Alcorcón                   |   54 | 007 |   54 | TRUE | TRUE |\n",
       "| 2022-04 | 340 | Argentina           | 28134 | San Sebastián de los Reyes |   40 | 134 |   40 | TRUE | TRUE |\n",
       "| 2019-07 | 228 | Marruecos           | 28005 | Alcalá de Henares          |   63 | 005 |   63 | TRUE | TRUE |\n",
       "| 2020-05 | 117 | Luxemburgo          | 28080 | Majadahonda                |   34 | 080 |   34 | TRUE | TRUE |\n",
       "| 2022-03 | 110 | Francia             | 28903 | Tres Cantos                |  538 | 903 |  538 | TRUE | TRUE |\n",
       "| 2019-11 | 343 | Colombia            | 28130 | San Fernando de Henares    |   42 | 130 |   42 | TRUE | TRUE |\n",
       "| ⋮ | ⋮ | ⋮ | ⋮ | ⋮ | ⋮ | ⋮ | ⋮ | ⋮ | ⋮ |\n",
       "| 2022-10 | 000 | Total                   | 28162 | Valdeolmos-Alalpardo          |  101 | 162 |  101 | FALSE | TRUE |\n",
       "| 2022-10 | 010 | Total Europa            | 28162 | Valdeolmos-Alalpardo          |   73 | 162 |   73 | FALSE | TRUE |\n",
       "| 2022-10 | 000 | Total                   | 28164 | Valdetorres de Jarama         |  126 | 164 |  126 | FALSE | TRUE |\n",
       "| 2022-10 | 011 | Total Unión Europea     | 28164 | Valdetorres de Jarama         |   69 | 164 |   69 | FALSE | TRUE |\n",
       "| 2022-10 | 000 | Total                   | 28167 | Velilla de San Antonio        |  223 | 167 |  223 | FALSE | TRUE |\n",
       "| 2022-10 | 000 | Total                   | 28168 | Vellón, El                    |  248 | 168 |  248 | FALSE | TRUE |\n",
       "| 2022-10 | 126 | Alemania                | 28168 | Vellón, El                    |   45 | 168 |   45 | FALSE | TRUE |\n",
       "| 2022-10 | 000 | Total                   | 28169 | Venturada                     |  103 | 169 |  103 | FALSE | TRUE |\n",
       "| 2022-10 | 011 | Total Unión Europea     | 28169 | Venturada                     |   65 | 169 |   65 | FALSE | TRUE |\n",
       "| 2022-10 | 000 | Total                   | 28171 | Villa del Prado               |  211 | 171 |  211 | FALSE | TRUE |\n",
       "| 2022-10 | 011 | Total Unión Europea     | 28171 | Villa del Prado               |  127 | 171 |  127 | FALSE | TRUE |\n",
       "| 2022-10 | 121 | Países Bajos            | 28171 | Villa del Prado               |   33 | 171 |   33 | FALSE | TRUE |\n",
       "| 2022-10 | 010 | Total Europa            | 28172 | Villalbilla                   |  269 | 172 |  269 | FALSE | TRUE |\n",
       "| 2022-10 | 000 | Total                   | 28174 | Villamanta                    |  101 | 174 |  101 | FALSE | TRUE |\n",
       "| 2022-10 | 011 | Total Unión Europea     | 28174 | Villamanta                    |   71 | 174 |   71 | FALSE | TRUE |\n",
       "| 2022-10 | 011 | Total Unión Europea     | 28176 | Villanueva de la Cañada       | 1903 | 176 | 1903 | FALSE | TRUE |\n",
       "| 2022-10 | 020 | Total África            | 28176 | Villanueva de la Cañada       |   39 | 176 |   39 | FALSE | TRUE |\n",
       "| 2022-10 | 033 | Total Sudamérica        | 28176 | Villanueva de la Cañada       |   45 | 176 |   45 | FALSE | TRUE |\n",
       "| 2022-10 | 102 | Austria                 | 28176 | Villanueva de la Cañada       |   64 | 176 |   64 | FALSE | TRUE |\n",
       "| 2022-10 | 115 | Italia                  | 28176 | Villanueva de la Cañada       |  137 | 176 |  137 | FALSE | TRUE |\n",
       "| 2022-10 | 125 | Reino Unido             | 28176 | Villanueva de la Cañada       |   46 | 176 |   46 | FALSE | TRUE |\n",
       "| 2022-10 | 010 | Total Europa            | 28177 | Villanueva del Pardillo       |  453 | 177 |  453 | FALSE | TRUE |\n",
       "| 2022-10 | 121 | Países Bajos            | 28177 | Villanueva del Pardillo       |  151 | 177 |  151 | FALSE | TRUE |\n",
       "| 2022-10 | 020 | Total África            | 28181 | Villaviciosa de Odón          |   57 | 181 |   57 | FALSE | TRUE |\n",
       "| 2022-10 | 040 | Total Asia              | 28181 | Villaviciosa de Odón          |   42 | 181 |   42 | FALSE | TRUE |\n",
       "| 2022-10 | 000 | Total                   | 28901 | Lozoyuela-Navas-Sieteiglesias |  168 | 901 |  168 | FALSE | TRUE |\n",
       "| 2022-10 | 010 | Total Europa            | 28902 | Puentes Viejas                |  149 | 902 |  149 | FALSE | TRUE |\n",
       "| 2022-10 | 031 | Total América del Norte | 28903 | Tres Cantos                   |  200 | 903 |  200 | FALSE | TRUE |\n",
       "| 2022-10 | 102 | Austria                 | 28903 | Tres Cantos                   |   72 | 903 |   72 | FALSE | TRUE |\n",
       "| 2022-10 | 121 | Países Bajos            | 28903 | Tres Cantos                   |  378 | 903 |  378 | FALSE | TRUE |\n",
       "\n"
      ],
      "text/plain": [
       "      mes     pais_orig_cod pais_orig               mun_dest_cod\n",
       "1     2019-08 110           Francia                 28161       \n",
       "2     2021-07 010           Total Europa            28176       \n",
       "3     2021-07 010           Total Europa            28132       \n",
       "4     2022-01 000           Total                   28141       \n",
       "5     2019-08 128           Rumania                 28130       \n",
       "6     2022-07 000           Total                   28126       \n",
       "7     2022-08 011           Total Unión Europea     28075       \n",
       "8     2022-03 126           Alemania                28005       \n",
       "9     2020-01 121           Países Bajos            28066       \n",
       "10    2021-09 110           Francia                 28005       \n",
       "11    2020-05 121           Países Bajos            28047       \n",
       "12    2020-06 351           Venezuela               28065       \n",
       "13    2021-05 010           Total Europa            28100       \n",
       "14    2021-02 123           Portugal                28113       \n",
       "15    2020-01 010           Total Europa            28005       \n",
       "16    2021-08 131           Suecia                  28074       \n",
       "17    2021-07 000           Total                   28034       \n",
       "18    2019-12 302           EE.UU.                  28047       \n",
       "19    2020-04 213           Egipto                  28079       \n",
       "20    2022-10 110           Francia                 28066       \n",
       "21    2021-03 102           Austria                 28007       \n",
       "22    2019-11 126           Alemania                28005       \n",
       "23    2020-08 128           Rumania                 28148       \n",
       "24    2021-07 117           Luxemburgo              28080       \n",
       "25    2021-07 407           China                   28007       \n",
       "26    2022-04 340           Argentina               28134       \n",
       "27    2019-07 228           Marruecos               28005       \n",
       "28    2020-05 117           Luxemburgo              28080       \n",
       "29    2022-03 110           Francia                 28903       \n",
       "30    2019-11 343           Colombia                28130       \n",
       "⋮     ⋮       ⋮             ⋮                       ⋮           \n",
       "50265 2022-10 000           Total                   28162       \n",
       "50266 2022-10 010           Total Europa            28162       \n",
       "50267 2022-10 000           Total                   28164       \n",
       "50268 2022-10 011           Total Unión Europea     28164       \n",
       "50269 2022-10 000           Total                   28167       \n",
       "50270 2022-10 000           Total                   28168       \n",
       "50271 2022-10 126           Alemania                28168       \n",
       "50272 2022-10 000           Total                   28169       \n",
       "50273 2022-10 011           Total Unión Europea     28169       \n",
       "50274 2022-10 000           Total                   28171       \n",
       "50275 2022-10 011           Total Unión Europea     28171       \n",
       "50276 2022-10 121           Países Bajos            28171       \n",
       "50277 2022-10 010           Total Europa            28172       \n",
       "50278 2022-10 000           Total                   28174       \n",
       "50279 2022-10 011           Total Unión Europea     28174       \n",
       "50280 2022-10 011           Total Unión Europea     28176       \n",
       "50281 2022-10 020           Total África            28176       \n",
       "50282 2022-10 033           Total Sudamérica        28176       \n",
       "50283 2022-10 102           Austria                 28176       \n",
       "50284 2022-10 115           Italia                  28176       \n",
       "50285 2022-10 125           Reino Unido             28176       \n",
       "50286 2022-10 010           Total Europa            28177       \n",
       "50287 2022-10 121           Países Bajos            28177       \n",
       "50288 2022-10 020           Total África            28181       \n",
       "50289 2022-10 040           Total Asia              28181       \n",
       "50290 2022-10 000           Total                   28901       \n",
       "50291 2022-10 010           Total Europa            28902       \n",
       "50292 2022-10 031           Total América del Norte 28903       \n",
       "50293 2022-10 102           Austria                 28903       \n",
       "50294 2022-10 121           Países Bajos            28903       \n",
       "      mun_dest                      turistas CMUN Target is_train x   \n",
       "1     Valdemoro                      466     161   466   TRUE     TRUE\n",
       "2     Villanueva de la Cañada       1375     176  1375   TRUE     TRUE\n",
       "3     San Martín de la Vega          465     132   465   TRUE     TRUE\n",
       "4     Sevilla la Nueva                54     141    54   TRUE     TRUE\n",
       "5     San Fernando de Henares        135     130   135   TRUE     TRUE\n",
       "6     Robregordo                      30     126    30   TRUE     TRUE\n",
       "7     Loeches                        285     075   285   TRUE     TRUE\n",
       "8     Alcalá de Henares              768     005   768   TRUE     TRUE\n",
       "9     Griñón                          31     066    31   TRUE     TRUE\n",
       "10    Alcalá de Henares             1646     005  1646   TRUE     TRUE\n",
       "11    Collado Villalba               116     047   116   TRUE     TRUE\n",
       "12    Getafe                          36     065    36   TRUE     TRUE\n",
       "13    Nuevo Baztán                    59     100    59   TRUE     TRUE\n",
       "14    Pinto                           63     113    63   TRUE     TRUE\n",
       "15    Alcalá de Henares             7242     005  7242   TRUE     TRUE\n",
       "16    Leganés                        143     074   143   TRUE     TRUE\n",
       "17    Canencia                        56     034    56   TRUE     TRUE\n",
       "18    Collado Villalba                47     047    47   TRUE     TRUE\n",
       "19    Madrid                         117     079   117   TRUE     TRUE\n",
       "20    Griñón                          37     066    37   TRUE     TRUE\n",
       "21    Alcorcón                       105     007   105   TRUE     TRUE\n",
       "22    Alcalá de Henares              977     005   977   TRUE     TRUE\n",
       "23    Torrejón de Ardoz               85     148    85   TRUE     TRUE\n",
       "24    Majadahonda                     58     080    58   TRUE     TRUE\n",
       "25    Alcorcón                        54     007    54   TRUE     TRUE\n",
       "26    San Sebastián de los Reyes      40     134    40   TRUE     TRUE\n",
       "27    Alcalá de Henares               63     005    63   TRUE     TRUE\n",
       "28    Majadahonda                     34     080    34   TRUE     TRUE\n",
       "29    Tres Cantos                    538     903   538   TRUE     TRUE\n",
       "30    San Fernando de Henares         42     130    42   TRUE     TRUE\n",
       "⋮     ⋮                             ⋮        ⋮    ⋮      ⋮        ⋮   \n",
       "50265 Valdeolmos-Alalpardo           101     162   101   FALSE    TRUE\n",
       "50266 Valdeolmos-Alalpardo            73     162    73   FALSE    TRUE\n",
       "50267 Valdetorres de Jarama          126     164   126   FALSE    TRUE\n",
       "50268 Valdetorres de Jarama           69     164    69   FALSE    TRUE\n",
       "50269 Velilla de San Antonio         223     167   223   FALSE    TRUE\n",
       "50270 Vellón, El                     248     168   248   FALSE    TRUE\n",
       "50271 Vellón, El                      45     168    45   FALSE    TRUE\n",
       "50272 Venturada                      103     169   103   FALSE    TRUE\n",
       "50273 Venturada                       65     169    65   FALSE    TRUE\n",
       "50274 Villa del Prado                211     171   211   FALSE    TRUE\n",
       "50275 Villa del Prado                127     171   127   FALSE    TRUE\n",
       "50276 Villa del Prado                 33     171    33   FALSE    TRUE\n",
       "50277 Villalbilla                    269     172   269   FALSE    TRUE\n",
       "50278 Villamanta                     101     174   101   FALSE    TRUE\n",
       "50279 Villamanta                      71     174    71   FALSE    TRUE\n",
       "50280 Villanueva de la Cañada       1903     176  1903   FALSE    TRUE\n",
       "50281 Villanueva de la Cañada         39     176    39   FALSE    TRUE\n",
       "50282 Villanueva de la Cañada         45     176    45   FALSE    TRUE\n",
       "50283 Villanueva de la Cañada         64     176    64   FALSE    TRUE\n",
       "50284 Villanueva de la Cañada        137     176   137   FALSE    TRUE\n",
       "50285 Villanueva de la Cañada         46     176    46   FALSE    TRUE\n",
       "50286 Villanueva del Pardillo        453     177   453   FALSE    TRUE\n",
       "50287 Villanueva del Pardillo        151     177   151   FALSE    TRUE\n",
       "50288 Villaviciosa de Odón            57     181    57   FALSE    TRUE\n",
       "50289 Villaviciosa de Odón            42     181    42   FALSE    TRUE\n",
       "50290 Lozoyuela-Navas-Sieteiglesias  168     901   168   FALSE    TRUE\n",
       "50291 Puentes Viejas                 149     902   149   FALSE    TRUE\n",
       "50292 Tres Cantos                    200     903   200   FALSE    TRUE\n",
       "50293 Tres Cantos                     72     903    72   FALSE    TRUE\n",
       "50294 Tres Cantos                    378     903   378   FALSE    TRUE"
      ]
     },
     "metadata": {},
     "output_type": "display_data"
    }
   ],
   "source": [
    "data |>\n",
    "    mutate(x = TRUE)"
   ]
  },
  {
   "cell_type": "markdown",
   "metadata": {
    "slideshow": {
     "slide_type": "slide"
    }
   },
   "source": [
    "### Delete Column"
   ]
  },
  {
   "cell_type": "code",
   "execution_count": 17,
   "metadata": {},
   "outputs": [],
   "source": [
    "col <- \"pais_orig\""
   ]
  },
  {
   "cell_type": "code",
   "execution_count": 18,
   "metadata": {
    "ExecuteTime": {
     "end_time": "2020-06-30T14:33:43.649449Z",
     "start_time": "2020-06-30T14:33:43.611681Z"
    },
    "scrolled": true,
    "slideshow": {
     "slide_type": "subslide"
    },
    "vscode": {
     "languageId": "r"
    }
   },
   "outputs": [
    {
     "data": {
      "text/html": [
       "<table class=\"dataframe\">\n",
       "<caption>A tibble: 50294 × 1</caption>\n",
       "<thead>\n",
       "\t<tr><th scope=col>pais_orig</th></tr>\n",
       "\t<tr><th scope=col>&lt;chr&gt;</th></tr>\n",
       "</thead>\n",
       "<tbody>\n",
       "\t<tr><td>Francia            </td></tr>\n",
       "\t<tr><td>Total Europa       </td></tr>\n",
       "\t<tr><td>Total Europa       </td></tr>\n",
       "\t<tr><td>Total              </td></tr>\n",
       "\t<tr><td>Rumania            </td></tr>\n",
       "\t<tr><td>Total              </td></tr>\n",
       "\t<tr><td>Total Unión Europea</td></tr>\n",
       "\t<tr><td>Alemania           </td></tr>\n",
       "\t<tr><td>Países Bajos       </td></tr>\n",
       "\t<tr><td>Francia            </td></tr>\n",
       "\t<tr><td>Países Bajos       </td></tr>\n",
       "\t<tr><td>Venezuela          </td></tr>\n",
       "\t<tr><td>Total Europa       </td></tr>\n",
       "\t<tr><td>Portugal           </td></tr>\n",
       "\t<tr><td>Total Europa       </td></tr>\n",
       "\t<tr><td>Suecia             </td></tr>\n",
       "\t<tr><td>Total              </td></tr>\n",
       "\t<tr><td>EE.UU.             </td></tr>\n",
       "\t<tr><td>Egipto             </td></tr>\n",
       "\t<tr><td>Francia            </td></tr>\n",
       "\t<tr><td>Austria            </td></tr>\n",
       "\t<tr><td>Alemania           </td></tr>\n",
       "\t<tr><td>Rumania            </td></tr>\n",
       "\t<tr><td>Luxemburgo         </td></tr>\n",
       "\t<tr><td>China              </td></tr>\n",
       "\t<tr><td>Argentina          </td></tr>\n",
       "\t<tr><td>Marruecos          </td></tr>\n",
       "\t<tr><td>Luxemburgo         </td></tr>\n",
       "\t<tr><td>Francia            </td></tr>\n",
       "\t<tr><td>Colombia           </td></tr>\n",
       "\t<tr><td>⋮</td></tr>\n",
       "\t<tr><td>Total                  </td></tr>\n",
       "\t<tr><td>Total Europa           </td></tr>\n",
       "\t<tr><td>Total                  </td></tr>\n",
       "\t<tr><td>Total Unión Europea    </td></tr>\n",
       "\t<tr><td>Total                  </td></tr>\n",
       "\t<tr><td>Total                  </td></tr>\n",
       "\t<tr><td>Alemania               </td></tr>\n",
       "\t<tr><td>Total                  </td></tr>\n",
       "\t<tr><td>Total Unión Europea    </td></tr>\n",
       "\t<tr><td>Total                  </td></tr>\n",
       "\t<tr><td>Total Unión Europea    </td></tr>\n",
       "\t<tr><td>Países Bajos           </td></tr>\n",
       "\t<tr><td>Total Europa           </td></tr>\n",
       "\t<tr><td>Total                  </td></tr>\n",
       "\t<tr><td>Total Unión Europea    </td></tr>\n",
       "\t<tr><td>Total Unión Europea    </td></tr>\n",
       "\t<tr><td>Total África           </td></tr>\n",
       "\t<tr><td>Total Sudamérica       </td></tr>\n",
       "\t<tr><td>Austria                </td></tr>\n",
       "\t<tr><td>Italia                 </td></tr>\n",
       "\t<tr><td>Reino Unido            </td></tr>\n",
       "\t<tr><td>Total Europa           </td></tr>\n",
       "\t<tr><td>Países Bajos           </td></tr>\n",
       "\t<tr><td>Total África           </td></tr>\n",
       "\t<tr><td>Total Asia             </td></tr>\n",
       "\t<tr><td>Total                  </td></tr>\n",
       "\t<tr><td>Total Europa           </td></tr>\n",
       "\t<tr><td>Total América del Norte</td></tr>\n",
       "\t<tr><td>Austria                </td></tr>\n",
       "\t<tr><td>Países Bajos           </td></tr>\n",
       "</tbody>\n",
       "</table>\n"
      ],
      "text/latex": [
       "A tibble: 50294 × 1\n",
       "\\begin{tabular}{l}\n",
       " pais\\_orig\\\\\n",
       " <chr>\\\\\n",
       "\\hline\n",
       "\t Francia            \\\\\n",
       "\t Total Europa       \\\\\n",
       "\t Total Europa       \\\\\n",
       "\t Total              \\\\\n",
       "\t Rumania            \\\\\n",
       "\t Total              \\\\\n",
       "\t Total Unión Europea\\\\\n",
       "\t Alemania           \\\\\n",
       "\t Países Bajos       \\\\\n",
       "\t Francia            \\\\\n",
       "\t Países Bajos       \\\\\n",
       "\t Venezuela          \\\\\n",
       "\t Total Europa       \\\\\n",
       "\t Portugal           \\\\\n",
       "\t Total Europa       \\\\\n",
       "\t Suecia             \\\\\n",
       "\t Total              \\\\\n",
       "\t EE.UU.             \\\\\n",
       "\t Egipto             \\\\\n",
       "\t Francia            \\\\\n",
       "\t Austria            \\\\\n",
       "\t Alemania           \\\\\n",
       "\t Rumania            \\\\\n",
       "\t Luxemburgo         \\\\\n",
       "\t China              \\\\\n",
       "\t Argentina          \\\\\n",
       "\t Marruecos          \\\\\n",
       "\t Luxemburgo         \\\\\n",
       "\t Francia            \\\\\n",
       "\t Colombia           \\\\\n",
       "\t ⋮\\\\\n",
       "\t Total                  \\\\\n",
       "\t Total Europa           \\\\\n",
       "\t Total                  \\\\\n",
       "\t Total Unión Europea    \\\\\n",
       "\t Total                  \\\\\n",
       "\t Total                  \\\\\n",
       "\t Alemania               \\\\\n",
       "\t Total                  \\\\\n",
       "\t Total Unión Europea    \\\\\n",
       "\t Total                  \\\\\n",
       "\t Total Unión Europea    \\\\\n",
       "\t Países Bajos           \\\\\n",
       "\t Total Europa           \\\\\n",
       "\t Total                  \\\\\n",
       "\t Total Unión Europea    \\\\\n",
       "\t Total Unión Europea    \\\\\n",
       "\t Total África           \\\\\n",
       "\t Total Sudamérica       \\\\\n",
       "\t Austria                \\\\\n",
       "\t Italia                 \\\\\n",
       "\t Reino Unido            \\\\\n",
       "\t Total Europa           \\\\\n",
       "\t Países Bajos           \\\\\n",
       "\t Total África           \\\\\n",
       "\t Total Asia             \\\\\n",
       "\t Total                  \\\\\n",
       "\t Total Europa           \\\\\n",
       "\t Total América del Norte\\\\\n",
       "\t Austria                \\\\\n",
       "\t Países Bajos           \\\\\n",
       "\\end{tabular}\n"
      ],
      "text/markdown": [
       "\n",
       "A tibble: 50294 × 1\n",
       "\n",
       "| pais_orig &lt;chr&gt; |\n",
       "|---|\n",
       "| Francia             |\n",
       "| Total Europa        |\n",
       "| Total Europa        |\n",
       "| Total               |\n",
       "| Rumania             |\n",
       "| Total               |\n",
       "| Total Unión Europea |\n",
       "| Alemania            |\n",
       "| Países Bajos        |\n",
       "| Francia             |\n",
       "| Países Bajos        |\n",
       "| Venezuela           |\n",
       "| Total Europa        |\n",
       "| Portugal            |\n",
       "| Total Europa        |\n",
       "| Suecia              |\n",
       "| Total               |\n",
       "| EE.UU.              |\n",
       "| Egipto              |\n",
       "| Francia             |\n",
       "| Austria             |\n",
       "| Alemania            |\n",
       "| Rumania             |\n",
       "| Luxemburgo          |\n",
       "| China               |\n",
       "| Argentina           |\n",
       "| Marruecos           |\n",
       "| Luxemburgo          |\n",
       "| Francia             |\n",
       "| Colombia            |\n",
       "| ⋮ |\n",
       "| Total                   |\n",
       "| Total Europa            |\n",
       "| Total                   |\n",
       "| Total Unión Europea     |\n",
       "| Total                   |\n",
       "| Total                   |\n",
       "| Alemania                |\n",
       "| Total                   |\n",
       "| Total Unión Europea     |\n",
       "| Total                   |\n",
       "| Total Unión Europea     |\n",
       "| Países Bajos            |\n",
       "| Total Europa            |\n",
       "| Total                   |\n",
       "| Total Unión Europea     |\n",
       "| Total Unión Europea     |\n",
       "| Total África            |\n",
       "| Total Sudamérica        |\n",
       "| Austria                 |\n",
       "| Italia                  |\n",
       "| Reino Unido             |\n",
       "| Total Europa            |\n",
       "| Países Bajos            |\n",
       "| Total África            |\n",
       "| Total Asia              |\n",
       "| Total                   |\n",
       "| Total Europa            |\n",
       "| Total América del Norte |\n",
       "| Austria                 |\n",
       "| Países Bajos            |\n",
       "\n"
      ],
      "text/plain": [
       "      pais_orig              \n",
       "1     Francia                \n",
       "2     Total Europa           \n",
       "3     Total Europa           \n",
       "4     Total                  \n",
       "5     Rumania                \n",
       "6     Total                  \n",
       "7     Total Unión Europea    \n",
       "8     Alemania               \n",
       "9     Países Bajos           \n",
       "10    Francia                \n",
       "11    Países Bajos           \n",
       "12    Venezuela              \n",
       "13    Total Europa           \n",
       "14    Portugal               \n",
       "15    Total Europa           \n",
       "16    Suecia                 \n",
       "17    Total                  \n",
       "18    EE.UU.                 \n",
       "19    Egipto                 \n",
       "20    Francia                \n",
       "21    Austria                \n",
       "22    Alemania               \n",
       "23    Rumania                \n",
       "24    Luxemburgo             \n",
       "25    China                  \n",
       "26    Argentina              \n",
       "27    Marruecos              \n",
       "28    Luxemburgo             \n",
       "29    Francia                \n",
       "30    Colombia               \n",
       "⋮     ⋮                      \n",
       "50265 Total                  \n",
       "50266 Total Europa           \n",
       "50267 Total                  \n",
       "50268 Total Unión Europea    \n",
       "50269 Total                  \n",
       "50270 Total                  \n",
       "50271 Alemania               \n",
       "50272 Total                  \n",
       "50273 Total Unión Europea    \n",
       "50274 Total                  \n",
       "50275 Total Unión Europea    \n",
       "50276 Países Bajos           \n",
       "50277 Total Europa           \n",
       "50278 Total                  \n",
       "50279 Total Unión Europea    \n",
       "50280 Total Unión Europea    \n",
       "50281 Total África           \n",
       "50282 Total Sudamérica       \n",
       "50283 Austria                \n",
       "50284 Italia                 \n",
       "50285 Reino Unido            \n",
       "50286 Total Europa           \n",
       "50287 Países Bajos           \n",
       "50288 Total África           \n",
       "50289 Total Asia             \n",
       "50290 Total                  \n",
       "50291 Total Europa           \n",
       "50292 Total América del Norte\n",
       "50293 Austria                \n",
       "50294 Países Bajos           "
      ]
     },
     "metadata": {},
     "output_type": "display_data"
    }
   ],
   "source": [
    "data %>% select(all_of(col))"
   ]
  },
  {
   "cell_type": "markdown",
   "metadata": {
    "slideshow": {
     "slide_type": "slide"
    }
   },
   "source": [
    "### Rank Data"
   ]
  },
  {
   "cell_type": "markdown",
   "metadata": {},
   "source": [
    "<font color='darkgrey'><b>Operation</font>"
   ]
  },
  {
   "cell_type": "code",
   "execution_count": 19,
   "metadata": {
    "ExecuteTime": {
     "end_time": "2020-09-18T14:08:51.549157Z",
     "start_time": "2020-09-18T14:08:51.517907Z"
    },
    "scrolled": true,
    "slideshow": {
     "slide_type": "subslide"
    },
    "vscode": {
     "languageId": "r"
    }
   },
   "outputs": [
    {
     "data": {
      "text/html": [
       "<table class=\"dataframe\">\n",
       "<caption>A tibble: 50294 × 10</caption>\n",
       "<thead>\n",
       "\t<tr><th scope=col>mes</th><th scope=col>pais_orig_cod</th><th scope=col>pais_orig</th><th scope=col>mun_dest_cod</th><th scope=col>mun_dest</th><th scope=col>turistas</th><th scope=col>CMUN</th><th scope=col>Target</th><th scope=col>is_train</th><th scope=col>rank</th></tr>\n",
       "\t<tr><th scope=col>&lt;chr&gt;</th><th scope=col>&lt;chr&gt;</th><th scope=col>&lt;chr&gt;</th><th scope=col>&lt;dbl&gt;</th><th scope=col>&lt;chr&gt;</th><th scope=col>&lt;dbl&gt;</th><th scope=col>&lt;chr&gt;</th><th scope=col>&lt;dbl&gt;</th><th scope=col>&lt;lgl&gt;</th><th scope=col>&lt;int&gt;</th></tr>\n",
       "</thead>\n",
       "<tbody>\n",
       "\t<tr><td>2019-08</td><td>110</td><td>Francia            </td><td>28161</td><td>Valdemoro                 </td><td> 466</td><td>161</td><td> 466</td><td>TRUE</td><td>   6</td></tr>\n",
       "\t<tr><td>2021-07</td><td>010</td><td>Total Europa       </td><td>28176</td><td>Villanueva de la Cañada   </td><td>1375</td><td>176</td><td>1375</td><td>TRUE</td><td>  34</td></tr>\n",
       "\t<tr><td>2021-07</td><td>010</td><td>Total Europa       </td><td>28132</td><td>San Martín de la Vega     </td><td> 465</td><td>132</td><td> 465</td><td>TRUE</td><td> 130</td></tr>\n",
       "\t<tr><td>2022-01</td><td>000</td><td>Total              </td><td>28141</td><td>Sevilla la Nueva          </td><td>  54</td><td>141</td><td>  54</td><td>TRUE</td><td> 134</td></tr>\n",
       "\t<tr><td>2019-08</td><td>128</td><td>Rumania            </td><td>28130</td><td>San Fernando de Henares   </td><td> 135</td><td>130</td><td> 135</td><td>TRUE</td><td> 137</td></tr>\n",
       "\t<tr><td>2022-07</td><td>000</td><td>Total              </td><td>28126</td><td>Robregordo                </td><td>  30</td><td>126</td><td>  30</td><td>TRUE</td><td> 176</td></tr>\n",
       "\t<tr><td>2022-08</td><td>011</td><td>Total Unión Europea</td><td>28075</td><td>Loeches                   </td><td> 285</td><td>075</td><td> 285</td><td>TRUE</td><td> 194</td></tr>\n",
       "\t<tr><td>2022-03</td><td>126</td><td>Alemania           </td><td>28005</td><td>Alcalá de Henares         </td><td> 768</td><td>005</td><td> 768</td><td>TRUE</td><td> 229</td></tr>\n",
       "\t<tr><td>2020-01</td><td>121</td><td>Países Bajos       </td><td>28066</td><td>Griñón                    </td><td>  31</td><td>066</td><td>  31</td><td>TRUE</td><td> 289</td></tr>\n",
       "\t<tr><td>2021-09</td><td>110</td><td>Francia            </td><td>28005</td><td>Alcalá de Henares         </td><td>1646</td><td>005</td><td>1646</td><td>TRUE</td><td> 353</td></tr>\n",
       "\t<tr><td>2020-05</td><td>121</td><td>Países Bajos       </td><td>28047</td><td>Collado Villalba          </td><td> 116</td><td>047</td><td> 116</td><td>TRUE</td><td> 369</td></tr>\n",
       "\t<tr><td>2020-06</td><td>351</td><td>Venezuela          </td><td>28065</td><td>Getafe                    </td><td>  36</td><td>065</td><td>  36</td><td>TRUE</td><td> 375</td></tr>\n",
       "\t<tr><td>2021-05</td><td>010</td><td>Total Europa       </td><td>28100</td><td>Nuevo Baztán              </td><td>  59</td><td>100</td><td>  59</td><td>TRUE</td><td> 413</td></tr>\n",
       "\t<tr><td>2021-02</td><td>123</td><td>Portugal           </td><td>28113</td><td>Pinto                     </td><td>  63</td><td>113</td><td>  63</td><td>TRUE</td><td> 435</td></tr>\n",
       "\t<tr><td>2020-01</td><td>010</td><td>Total Europa       </td><td>28005</td><td>Alcalá de Henares         </td><td>7242</td><td>005</td><td>7242</td><td>TRUE</td><td> 438</td></tr>\n",
       "\t<tr><td>2021-08</td><td>131</td><td>Suecia             </td><td>28074</td><td>Leganés                   </td><td> 143</td><td>074</td><td> 143</td><td>TRUE</td><td> 458</td></tr>\n",
       "\t<tr><td>2021-07</td><td>000</td><td>Total              </td><td>28034</td><td>Canencia                  </td><td>  56</td><td>034</td><td>  56</td><td>TRUE</td><td> 466</td></tr>\n",
       "\t<tr><td>2019-12</td><td>302</td><td>EE.UU.             </td><td>28047</td><td>Collado Villalba          </td><td>  47</td><td>047</td><td>  47</td><td>TRUE</td><td> 604</td></tr>\n",
       "\t<tr><td>2020-04</td><td>213</td><td>Egipto             </td><td>28079</td><td>Madrid                    </td><td> 117</td><td>079</td><td> 117</td><td>TRUE</td><td> 647</td></tr>\n",
       "\t<tr><td>2022-10</td><td>110</td><td>Francia            </td><td>28066</td><td>Griñón                    </td><td>  37</td><td>066</td><td>  37</td><td>TRUE</td><td> 669</td></tr>\n",
       "\t<tr><td>2021-03</td><td>102</td><td>Austria            </td><td>28007</td><td>Alcorcón                  </td><td> 105</td><td>007</td><td> 105</td><td>TRUE</td><td> 711</td></tr>\n",
       "\t<tr><td>2019-11</td><td>126</td><td>Alemania           </td><td>28005</td><td>Alcalá de Henares         </td><td> 977</td><td>005</td><td> 977</td><td>TRUE</td><td> 836</td></tr>\n",
       "\t<tr><td>2020-08</td><td>128</td><td>Rumania            </td><td>28148</td><td>Torrejón de Ardoz         </td><td>  85</td><td>148</td><td>  85</td><td>TRUE</td><td> 843</td></tr>\n",
       "\t<tr><td>2021-07</td><td>117</td><td>Luxemburgo         </td><td>28080</td><td>Majadahonda               </td><td>  58</td><td>080</td><td>  58</td><td>TRUE</td><td> 884</td></tr>\n",
       "\t<tr><td>2021-07</td><td>407</td><td>China              </td><td>28007</td><td>Alcorcón                  </td><td>  54</td><td>007</td><td>  54</td><td>TRUE</td><td> 886</td></tr>\n",
       "\t<tr><td>2022-04</td><td>340</td><td>Argentina          </td><td>28134</td><td>San Sebastián de los Reyes</td><td>  40</td><td>134</td><td>  40</td><td>TRUE</td><td> 946</td></tr>\n",
       "\t<tr><td>2019-07</td><td>228</td><td>Marruecos          </td><td>28005</td><td>Alcalá de Henares         </td><td>  63</td><td>005</td><td>  63</td><td>TRUE</td><td>1174</td></tr>\n",
       "\t<tr><td>2020-05</td><td>117</td><td>Luxemburgo         </td><td>28080</td><td>Majadahonda               </td><td>  34</td><td>080</td><td>  34</td><td>TRUE</td><td>1177</td></tr>\n",
       "\t<tr><td>2022-03</td><td>110</td><td>Francia            </td><td>28903</td><td>Tres Cantos               </td><td> 538</td><td>903</td><td> 538</td><td>TRUE</td><td>1227</td></tr>\n",
       "\t<tr><td>2019-11</td><td>343</td><td>Colombia           </td><td>28130</td><td>San Fernando de Henares   </td><td>  42</td><td>130</td><td>  42</td><td>TRUE</td><td>1230</td></tr>\n",
       "\t<tr><td>⋮</td><td>⋮</td><td>⋮</td><td>⋮</td><td>⋮</td><td>⋮</td><td>⋮</td><td>⋮</td><td>⋮</td><td>⋮</td></tr>\n",
       "\t<tr><td>2022-10</td><td>000</td><td>Total                  </td><td>28162</td><td>Valdeolmos-Alalpardo         </td><td> 101</td><td>162</td><td> 101</td><td>FALSE</td><td>14865</td></tr>\n",
       "\t<tr><td>2022-10</td><td>010</td><td>Total Europa           </td><td>28162</td><td>Valdeolmos-Alalpardo         </td><td>  73</td><td>162</td><td>  73</td><td>FALSE</td><td>30574</td></tr>\n",
       "\t<tr><td>2022-10</td><td>000</td><td>Total                  </td><td>28164</td><td>Valdetorres de Jarama        </td><td> 126</td><td>164</td><td> 126</td><td>FALSE</td><td>31361</td></tr>\n",
       "\t<tr><td>2022-10</td><td>011</td><td>Total Unión Europea    </td><td>28164</td><td>Valdetorres de Jarama        </td><td>  69</td><td>164</td><td>  69</td><td>FALSE</td><td>33620</td></tr>\n",
       "\t<tr><td>2022-10</td><td>000</td><td>Total                  </td><td>28167</td><td>Velilla de San Antonio       </td><td> 223</td><td>167</td><td> 223</td><td>FALSE</td><td>17126</td></tr>\n",
       "\t<tr><td>2022-10</td><td>000</td><td>Total                  </td><td>28168</td><td>Vellón, El                   </td><td> 248</td><td>168</td><td> 248</td><td>FALSE</td><td>42460</td></tr>\n",
       "\t<tr><td>2022-10</td><td>126</td><td>Alemania               </td><td>28168</td><td>Vellón, El                   </td><td>  45</td><td>168</td><td>  45</td><td>FALSE</td><td>28397</td></tr>\n",
       "\t<tr><td>2022-10</td><td>000</td><td>Total                  </td><td>28169</td><td>Venturada                    </td><td> 103</td><td>169</td><td> 103</td><td>FALSE</td><td> 4544</td></tr>\n",
       "\t<tr><td>2022-10</td><td>011</td><td>Total Unión Europea    </td><td>28169</td><td>Venturada                    </td><td>  65</td><td>169</td><td>  65</td><td>FALSE</td><td>49488</td></tr>\n",
       "\t<tr><td>2022-10</td><td>000</td><td>Total                  </td><td>28171</td><td>Villa del Prado              </td><td> 211</td><td>171</td><td> 211</td><td>FALSE</td><td>46870</td></tr>\n",
       "\t<tr><td>2022-10</td><td>011</td><td>Total Unión Europea    </td><td>28171</td><td>Villa del Prado              </td><td> 127</td><td>171</td><td> 127</td><td>FALSE</td><td>26432</td></tr>\n",
       "\t<tr><td>2022-10</td><td>121</td><td>Países Bajos           </td><td>28171</td><td>Villa del Prado              </td><td>  33</td><td>171</td><td>  33</td><td>FALSE</td><td>18612</td></tr>\n",
       "\t<tr><td>2022-10</td><td>010</td><td>Total Europa           </td><td>28172</td><td>Villalbilla                  </td><td> 269</td><td>172</td><td> 269</td><td>FALSE</td><td>19414</td></tr>\n",
       "\t<tr><td>2022-10</td><td>000</td><td>Total                  </td><td>28174</td><td>Villamanta                   </td><td> 101</td><td>174</td><td> 101</td><td>FALSE</td><td>37397</td></tr>\n",
       "\t<tr><td>2022-10</td><td>011</td><td>Total Unión Europea    </td><td>28174</td><td>Villamanta                   </td><td>  71</td><td>174</td><td>  71</td><td>FALSE</td><td>30324</td></tr>\n",
       "\t<tr><td>2022-10</td><td>011</td><td>Total Unión Europea    </td><td>28176</td><td>Villanueva de la Cañada      </td><td>1903</td><td>176</td><td>1903</td><td>FALSE</td><td> 3428</td></tr>\n",
       "\t<tr><td>2022-10</td><td>020</td><td>Total África           </td><td>28176</td><td>Villanueva de la Cañada      </td><td>  39</td><td>176</td><td>  39</td><td>FALSE</td><td>33211</td></tr>\n",
       "\t<tr><td>2022-10</td><td>033</td><td>Total Sudamérica       </td><td>28176</td><td>Villanueva de la Cañada      </td><td>  45</td><td>176</td><td>  45</td><td>FALSE</td><td>37051</td></tr>\n",
       "\t<tr><td>2022-10</td><td>102</td><td>Austria                </td><td>28176</td><td>Villanueva de la Cañada      </td><td>  64</td><td>176</td><td>  64</td><td>FALSE</td><td>21310</td></tr>\n",
       "\t<tr><td>2022-10</td><td>115</td><td>Italia                 </td><td>28176</td><td>Villanueva de la Cañada      </td><td> 137</td><td>176</td><td> 137</td><td>FALSE</td><td>10322</td></tr>\n",
       "\t<tr><td>2022-10</td><td>125</td><td>Reino Unido            </td><td>28176</td><td>Villanueva de la Cañada      </td><td>  46</td><td>176</td><td>  46</td><td>FALSE</td><td> 8284</td></tr>\n",
       "\t<tr><td>2022-10</td><td>010</td><td>Total Europa           </td><td>28177</td><td>Villanueva del Pardillo      </td><td> 453</td><td>177</td><td> 453</td><td>FALSE</td><td>29620</td></tr>\n",
       "\t<tr><td>2022-10</td><td>121</td><td>Países Bajos           </td><td>28177</td><td>Villanueva del Pardillo      </td><td> 151</td><td>177</td><td> 151</td><td>FALSE</td><td>36381</td></tr>\n",
       "\t<tr><td>2022-10</td><td>020</td><td>Total África           </td><td>28181</td><td>Villaviciosa de Odón         </td><td>  57</td><td>181</td><td>  57</td><td>FALSE</td><td> 6112</td></tr>\n",
       "\t<tr><td>2022-10</td><td>040</td><td>Total Asia             </td><td>28181</td><td>Villaviciosa de Odón         </td><td>  42</td><td>181</td><td>  42</td><td>FALSE</td><td> 9930</td></tr>\n",
       "\t<tr><td>2022-10</td><td>000</td><td>Total                  </td><td>28901</td><td>Lozoyuela-Navas-Sieteiglesias</td><td> 168</td><td>901</td><td> 168</td><td>FALSE</td><td>40971</td></tr>\n",
       "\t<tr><td>2022-10</td><td>010</td><td>Total Europa           </td><td>28902</td><td>Puentes Viejas               </td><td> 149</td><td>902</td><td> 149</td><td>FALSE</td><td> 6836</td></tr>\n",
       "\t<tr><td>2022-10</td><td>031</td><td>Total América del Norte</td><td>28903</td><td>Tres Cantos                  </td><td> 200</td><td>903</td><td> 200</td><td>FALSE</td><td>39681</td></tr>\n",
       "\t<tr><td>2022-10</td><td>102</td><td>Austria                </td><td>28903</td><td>Tres Cantos                  </td><td>  72</td><td>903</td><td>  72</td><td>FALSE</td><td>12850</td></tr>\n",
       "\t<tr><td>2022-10</td><td>121</td><td>Países Bajos           </td><td>28903</td><td>Tres Cantos                  </td><td> 378</td><td>903</td><td> 378</td><td>FALSE</td><td> 8561</td></tr>\n",
       "</tbody>\n",
       "</table>\n"
      ],
      "text/latex": [
       "A tibble: 50294 × 10\n",
       "\\begin{tabular}{llllllllll}\n",
       " mes & pais\\_orig\\_cod & pais\\_orig & mun\\_dest\\_cod & mun\\_dest & turistas & CMUN & Target & is\\_train & rank\\\\\n",
       " <chr> & <chr> & <chr> & <dbl> & <chr> & <dbl> & <chr> & <dbl> & <lgl> & <int>\\\\\n",
       "\\hline\n",
       "\t 2019-08 & 110 & Francia             & 28161 & Valdemoro                  &  466 & 161 &  466 & TRUE &    6\\\\\n",
       "\t 2021-07 & 010 & Total Europa        & 28176 & Villanueva de la Cañada    & 1375 & 176 & 1375 & TRUE &   34\\\\\n",
       "\t 2021-07 & 010 & Total Europa        & 28132 & San Martín de la Vega      &  465 & 132 &  465 & TRUE &  130\\\\\n",
       "\t 2022-01 & 000 & Total               & 28141 & Sevilla la Nueva           &   54 & 141 &   54 & TRUE &  134\\\\\n",
       "\t 2019-08 & 128 & Rumania             & 28130 & San Fernando de Henares    &  135 & 130 &  135 & TRUE &  137\\\\\n",
       "\t 2022-07 & 000 & Total               & 28126 & Robregordo                 &   30 & 126 &   30 & TRUE &  176\\\\\n",
       "\t 2022-08 & 011 & Total Unión Europea & 28075 & Loeches                    &  285 & 075 &  285 & TRUE &  194\\\\\n",
       "\t 2022-03 & 126 & Alemania            & 28005 & Alcalá de Henares          &  768 & 005 &  768 & TRUE &  229\\\\\n",
       "\t 2020-01 & 121 & Países Bajos        & 28066 & Griñón                     &   31 & 066 &   31 & TRUE &  289\\\\\n",
       "\t 2021-09 & 110 & Francia             & 28005 & Alcalá de Henares          & 1646 & 005 & 1646 & TRUE &  353\\\\\n",
       "\t 2020-05 & 121 & Países Bajos        & 28047 & Collado Villalba           &  116 & 047 &  116 & TRUE &  369\\\\\n",
       "\t 2020-06 & 351 & Venezuela           & 28065 & Getafe                     &   36 & 065 &   36 & TRUE &  375\\\\\n",
       "\t 2021-05 & 010 & Total Europa        & 28100 & Nuevo Baztán               &   59 & 100 &   59 & TRUE &  413\\\\\n",
       "\t 2021-02 & 123 & Portugal            & 28113 & Pinto                      &   63 & 113 &   63 & TRUE &  435\\\\\n",
       "\t 2020-01 & 010 & Total Europa        & 28005 & Alcalá de Henares          & 7242 & 005 & 7242 & TRUE &  438\\\\\n",
       "\t 2021-08 & 131 & Suecia              & 28074 & Leganés                    &  143 & 074 &  143 & TRUE &  458\\\\\n",
       "\t 2021-07 & 000 & Total               & 28034 & Canencia                   &   56 & 034 &   56 & TRUE &  466\\\\\n",
       "\t 2019-12 & 302 & EE.UU.              & 28047 & Collado Villalba           &   47 & 047 &   47 & TRUE &  604\\\\\n",
       "\t 2020-04 & 213 & Egipto              & 28079 & Madrid                     &  117 & 079 &  117 & TRUE &  647\\\\\n",
       "\t 2022-10 & 110 & Francia             & 28066 & Griñón                     &   37 & 066 &   37 & TRUE &  669\\\\\n",
       "\t 2021-03 & 102 & Austria             & 28007 & Alcorcón                   &  105 & 007 &  105 & TRUE &  711\\\\\n",
       "\t 2019-11 & 126 & Alemania            & 28005 & Alcalá de Henares          &  977 & 005 &  977 & TRUE &  836\\\\\n",
       "\t 2020-08 & 128 & Rumania             & 28148 & Torrejón de Ardoz          &   85 & 148 &   85 & TRUE &  843\\\\\n",
       "\t 2021-07 & 117 & Luxemburgo          & 28080 & Majadahonda                &   58 & 080 &   58 & TRUE &  884\\\\\n",
       "\t 2021-07 & 407 & China               & 28007 & Alcorcón                   &   54 & 007 &   54 & TRUE &  886\\\\\n",
       "\t 2022-04 & 340 & Argentina           & 28134 & San Sebastián de los Reyes &   40 & 134 &   40 & TRUE &  946\\\\\n",
       "\t 2019-07 & 228 & Marruecos           & 28005 & Alcalá de Henares          &   63 & 005 &   63 & TRUE & 1174\\\\\n",
       "\t 2020-05 & 117 & Luxemburgo          & 28080 & Majadahonda                &   34 & 080 &   34 & TRUE & 1177\\\\\n",
       "\t 2022-03 & 110 & Francia             & 28903 & Tres Cantos                &  538 & 903 &  538 & TRUE & 1227\\\\\n",
       "\t 2019-11 & 343 & Colombia            & 28130 & San Fernando de Henares    &   42 & 130 &   42 & TRUE & 1230\\\\\n",
       "\t ⋮ & ⋮ & ⋮ & ⋮ & ⋮ & ⋮ & ⋮ & ⋮ & ⋮ & ⋮\\\\\n",
       "\t 2022-10 & 000 & Total                   & 28162 & Valdeolmos-Alalpardo          &  101 & 162 &  101 & FALSE & 14865\\\\\n",
       "\t 2022-10 & 010 & Total Europa            & 28162 & Valdeolmos-Alalpardo          &   73 & 162 &   73 & FALSE & 30574\\\\\n",
       "\t 2022-10 & 000 & Total                   & 28164 & Valdetorres de Jarama         &  126 & 164 &  126 & FALSE & 31361\\\\\n",
       "\t 2022-10 & 011 & Total Unión Europea     & 28164 & Valdetorres de Jarama         &   69 & 164 &   69 & FALSE & 33620\\\\\n",
       "\t 2022-10 & 000 & Total                   & 28167 & Velilla de San Antonio        &  223 & 167 &  223 & FALSE & 17126\\\\\n",
       "\t 2022-10 & 000 & Total                   & 28168 & Vellón, El                    &  248 & 168 &  248 & FALSE & 42460\\\\\n",
       "\t 2022-10 & 126 & Alemania                & 28168 & Vellón, El                    &   45 & 168 &   45 & FALSE & 28397\\\\\n",
       "\t 2022-10 & 000 & Total                   & 28169 & Venturada                     &  103 & 169 &  103 & FALSE &  4544\\\\\n",
       "\t 2022-10 & 011 & Total Unión Europea     & 28169 & Venturada                     &   65 & 169 &   65 & FALSE & 49488\\\\\n",
       "\t 2022-10 & 000 & Total                   & 28171 & Villa del Prado               &  211 & 171 &  211 & FALSE & 46870\\\\\n",
       "\t 2022-10 & 011 & Total Unión Europea     & 28171 & Villa del Prado               &  127 & 171 &  127 & FALSE & 26432\\\\\n",
       "\t 2022-10 & 121 & Países Bajos            & 28171 & Villa del Prado               &   33 & 171 &   33 & FALSE & 18612\\\\\n",
       "\t 2022-10 & 010 & Total Europa            & 28172 & Villalbilla                   &  269 & 172 &  269 & FALSE & 19414\\\\\n",
       "\t 2022-10 & 000 & Total                   & 28174 & Villamanta                    &  101 & 174 &  101 & FALSE & 37397\\\\\n",
       "\t 2022-10 & 011 & Total Unión Europea     & 28174 & Villamanta                    &   71 & 174 &   71 & FALSE & 30324\\\\\n",
       "\t 2022-10 & 011 & Total Unión Europea     & 28176 & Villanueva de la Cañada       & 1903 & 176 & 1903 & FALSE &  3428\\\\\n",
       "\t 2022-10 & 020 & Total África            & 28176 & Villanueva de la Cañada       &   39 & 176 &   39 & FALSE & 33211\\\\\n",
       "\t 2022-10 & 033 & Total Sudamérica        & 28176 & Villanueva de la Cañada       &   45 & 176 &   45 & FALSE & 37051\\\\\n",
       "\t 2022-10 & 102 & Austria                 & 28176 & Villanueva de la Cañada       &   64 & 176 &   64 & FALSE & 21310\\\\\n",
       "\t 2022-10 & 115 & Italia                  & 28176 & Villanueva de la Cañada       &  137 & 176 &  137 & FALSE & 10322\\\\\n",
       "\t 2022-10 & 125 & Reino Unido             & 28176 & Villanueva de la Cañada       &   46 & 176 &   46 & FALSE &  8284\\\\\n",
       "\t 2022-10 & 010 & Total Europa            & 28177 & Villanueva del Pardillo       &  453 & 177 &  453 & FALSE & 29620\\\\\n",
       "\t 2022-10 & 121 & Países Bajos            & 28177 & Villanueva del Pardillo       &  151 & 177 &  151 & FALSE & 36381\\\\\n",
       "\t 2022-10 & 020 & Total África            & 28181 & Villaviciosa de Odón          &   57 & 181 &   57 & FALSE &  6112\\\\\n",
       "\t 2022-10 & 040 & Total Asia              & 28181 & Villaviciosa de Odón          &   42 & 181 &   42 & FALSE &  9930\\\\\n",
       "\t 2022-10 & 000 & Total                   & 28901 & Lozoyuela-Navas-Sieteiglesias &  168 & 901 &  168 & FALSE & 40971\\\\\n",
       "\t 2022-10 & 010 & Total Europa            & 28902 & Puentes Viejas                &  149 & 902 &  149 & FALSE &  6836\\\\\n",
       "\t 2022-10 & 031 & Total América del Norte & 28903 & Tres Cantos                   &  200 & 903 &  200 & FALSE & 39681\\\\\n",
       "\t 2022-10 & 102 & Austria                 & 28903 & Tres Cantos                   &   72 & 903 &   72 & FALSE & 12850\\\\\n",
       "\t 2022-10 & 121 & Países Bajos            & 28903 & Tres Cantos                   &  378 & 903 &  378 & FALSE &  8561\\\\\n",
       "\\end{tabular}\n"
      ],
      "text/markdown": [
       "\n",
       "A tibble: 50294 × 10\n",
       "\n",
       "| mes &lt;chr&gt; | pais_orig_cod &lt;chr&gt; | pais_orig &lt;chr&gt; | mun_dest_cod &lt;dbl&gt; | mun_dest &lt;chr&gt; | turistas &lt;dbl&gt; | CMUN &lt;chr&gt; | Target &lt;dbl&gt; | is_train &lt;lgl&gt; | rank &lt;int&gt; |\n",
       "|---|---|---|---|---|---|---|---|---|---|\n",
       "| 2019-08 | 110 | Francia             | 28161 | Valdemoro                  |  466 | 161 |  466 | TRUE |    6 |\n",
       "| 2021-07 | 010 | Total Europa        | 28176 | Villanueva de la Cañada    | 1375 | 176 | 1375 | TRUE |   34 |\n",
       "| 2021-07 | 010 | Total Europa        | 28132 | San Martín de la Vega      |  465 | 132 |  465 | TRUE |  130 |\n",
       "| 2022-01 | 000 | Total               | 28141 | Sevilla la Nueva           |   54 | 141 |   54 | TRUE |  134 |\n",
       "| 2019-08 | 128 | Rumania             | 28130 | San Fernando de Henares    |  135 | 130 |  135 | TRUE |  137 |\n",
       "| 2022-07 | 000 | Total               | 28126 | Robregordo                 |   30 | 126 |   30 | TRUE |  176 |\n",
       "| 2022-08 | 011 | Total Unión Europea | 28075 | Loeches                    |  285 | 075 |  285 | TRUE |  194 |\n",
       "| 2022-03 | 126 | Alemania            | 28005 | Alcalá de Henares          |  768 | 005 |  768 | TRUE |  229 |\n",
       "| 2020-01 | 121 | Países Bajos        | 28066 | Griñón                     |   31 | 066 |   31 | TRUE |  289 |\n",
       "| 2021-09 | 110 | Francia             | 28005 | Alcalá de Henares          | 1646 | 005 | 1646 | TRUE |  353 |\n",
       "| 2020-05 | 121 | Países Bajos        | 28047 | Collado Villalba           |  116 | 047 |  116 | TRUE |  369 |\n",
       "| 2020-06 | 351 | Venezuela           | 28065 | Getafe                     |   36 | 065 |   36 | TRUE |  375 |\n",
       "| 2021-05 | 010 | Total Europa        | 28100 | Nuevo Baztán               |   59 | 100 |   59 | TRUE |  413 |\n",
       "| 2021-02 | 123 | Portugal            | 28113 | Pinto                      |   63 | 113 |   63 | TRUE |  435 |\n",
       "| 2020-01 | 010 | Total Europa        | 28005 | Alcalá de Henares          | 7242 | 005 | 7242 | TRUE |  438 |\n",
       "| 2021-08 | 131 | Suecia              | 28074 | Leganés                    |  143 | 074 |  143 | TRUE |  458 |\n",
       "| 2021-07 | 000 | Total               | 28034 | Canencia                   |   56 | 034 |   56 | TRUE |  466 |\n",
       "| 2019-12 | 302 | EE.UU.              | 28047 | Collado Villalba           |   47 | 047 |   47 | TRUE |  604 |\n",
       "| 2020-04 | 213 | Egipto              | 28079 | Madrid                     |  117 | 079 |  117 | TRUE |  647 |\n",
       "| 2022-10 | 110 | Francia             | 28066 | Griñón                     |   37 | 066 |   37 | TRUE |  669 |\n",
       "| 2021-03 | 102 | Austria             | 28007 | Alcorcón                   |  105 | 007 |  105 | TRUE |  711 |\n",
       "| 2019-11 | 126 | Alemania            | 28005 | Alcalá de Henares          |  977 | 005 |  977 | TRUE |  836 |\n",
       "| 2020-08 | 128 | Rumania             | 28148 | Torrejón de Ardoz          |   85 | 148 |   85 | TRUE |  843 |\n",
       "| 2021-07 | 117 | Luxemburgo          | 28080 | Majadahonda                |   58 | 080 |   58 | TRUE |  884 |\n",
       "| 2021-07 | 407 | China               | 28007 | Alcorcón                   |   54 | 007 |   54 | TRUE |  886 |\n",
       "| 2022-04 | 340 | Argentina           | 28134 | San Sebastián de los Reyes |   40 | 134 |   40 | TRUE |  946 |\n",
       "| 2019-07 | 228 | Marruecos           | 28005 | Alcalá de Henares          |   63 | 005 |   63 | TRUE | 1174 |\n",
       "| 2020-05 | 117 | Luxemburgo          | 28080 | Majadahonda                |   34 | 080 |   34 | TRUE | 1177 |\n",
       "| 2022-03 | 110 | Francia             | 28903 | Tres Cantos                |  538 | 903 |  538 | TRUE | 1227 |\n",
       "| 2019-11 | 343 | Colombia            | 28130 | San Fernando de Henares    |   42 | 130 |   42 | TRUE | 1230 |\n",
       "| ⋮ | ⋮ | ⋮ | ⋮ | ⋮ | ⋮ | ⋮ | ⋮ | ⋮ | ⋮ |\n",
       "| 2022-10 | 000 | Total                   | 28162 | Valdeolmos-Alalpardo          |  101 | 162 |  101 | FALSE | 14865 |\n",
       "| 2022-10 | 010 | Total Europa            | 28162 | Valdeolmos-Alalpardo          |   73 | 162 |   73 | FALSE | 30574 |\n",
       "| 2022-10 | 000 | Total                   | 28164 | Valdetorres de Jarama         |  126 | 164 |  126 | FALSE | 31361 |\n",
       "| 2022-10 | 011 | Total Unión Europea     | 28164 | Valdetorres de Jarama         |   69 | 164 |   69 | FALSE | 33620 |\n",
       "| 2022-10 | 000 | Total                   | 28167 | Velilla de San Antonio        |  223 | 167 |  223 | FALSE | 17126 |\n",
       "| 2022-10 | 000 | Total                   | 28168 | Vellón, El                    |  248 | 168 |  248 | FALSE | 42460 |\n",
       "| 2022-10 | 126 | Alemania                | 28168 | Vellón, El                    |   45 | 168 |   45 | FALSE | 28397 |\n",
       "| 2022-10 | 000 | Total                   | 28169 | Venturada                     |  103 | 169 |  103 | FALSE |  4544 |\n",
       "| 2022-10 | 011 | Total Unión Europea     | 28169 | Venturada                     |   65 | 169 |   65 | FALSE | 49488 |\n",
       "| 2022-10 | 000 | Total                   | 28171 | Villa del Prado               |  211 | 171 |  211 | FALSE | 46870 |\n",
       "| 2022-10 | 011 | Total Unión Europea     | 28171 | Villa del Prado               |  127 | 171 |  127 | FALSE | 26432 |\n",
       "| 2022-10 | 121 | Países Bajos            | 28171 | Villa del Prado               |   33 | 171 |   33 | FALSE | 18612 |\n",
       "| 2022-10 | 010 | Total Europa            | 28172 | Villalbilla                   |  269 | 172 |  269 | FALSE | 19414 |\n",
       "| 2022-10 | 000 | Total                   | 28174 | Villamanta                    |  101 | 174 |  101 | FALSE | 37397 |\n",
       "| 2022-10 | 011 | Total Unión Europea     | 28174 | Villamanta                    |   71 | 174 |   71 | FALSE | 30324 |\n",
       "| 2022-10 | 011 | Total Unión Europea     | 28176 | Villanueva de la Cañada       | 1903 | 176 | 1903 | FALSE |  3428 |\n",
       "| 2022-10 | 020 | Total África            | 28176 | Villanueva de la Cañada       |   39 | 176 |   39 | FALSE | 33211 |\n",
       "| 2022-10 | 033 | Total Sudamérica        | 28176 | Villanueva de la Cañada       |   45 | 176 |   45 | FALSE | 37051 |\n",
       "| 2022-10 | 102 | Austria                 | 28176 | Villanueva de la Cañada       |   64 | 176 |   64 | FALSE | 21310 |\n",
       "| 2022-10 | 115 | Italia                  | 28176 | Villanueva de la Cañada       |  137 | 176 |  137 | FALSE | 10322 |\n",
       "| 2022-10 | 125 | Reino Unido             | 28176 | Villanueva de la Cañada       |   46 | 176 |   46 | FALSE |  8284 |\n",
       "| 2022-10 | 010 | Total Europa            | 28177 | Villanueva del Pardillo       |  453 | 177 |  453 | FALSE | 29620 |\n",
       "| 2022-10 | 121 | Países Bajos            | 28177 | Villanueva del Pardillo       |  151 | 177 |  151 | FALSE | 36381 |\n",
       "| 2022-10 | 020 | Total África            | 28181 | Villaviciosa de Odón          |   57 | 181 |   57 | FALSE |  6112 |\n",
       "| 2022-10 | 040 | Total Asia              | 28181 | Villaviciosa de Odón          |   42 | 181 |   42 | FALSE |  9930 |\n",
       "| 2022-10 | 000 | Total                   | 28901 | Lozoyuela-Navas-Sieteiglesias |  168 | 901 |  168 | FALSE | 40971 |\n",
       "| 2022-10 | 010 | Total Europa            | 28902 | Puentes Viejas                |  149 | 902 |  149 | FALSE |  6836 |\n",
       "| 2022-10 | 031 | Total América del Norte | 28903 | Tres Cantos                   |  200 | 903 |  200 | FALSE | 39681 |\n",
       "| 2022-10 | 102 | Austria                 | 28903 | Tres Cantos                   |   72 | 903 |   72 | FALSE | 12850 |\n",
       "| 2022-10 | 121 | Países Bajos            | 28903 | Tres Cantos                   |  378 | 903 |  378 | FALSE |  8561 |\n",
       "\n"
      ],
      "text/plain": [
       "      mes     pais_orig_cod pais_orig               mun_dest_cod\n",
       "1     2019-08 110           Francia                 28161       \n",
       "2     2021-07 010           Total Europa            28176       \n",
       "3     2021-07 010           Total Europa            28132       \n",
       "4     2022-01 000           Total                   28141       \n",
       "5     2019-08 128           Rumania                 28130       \n",
       "6     2022-07 000           Total                   28126       \n",
       "7     2022-08 011           Total Unión Europea     28075       \n",
       "8     2022-03 126           Alemania                28005       \n",
       "9     2020-01 121           Países Bajos            28066       \n",
       "10    2021-09 110           Francia                 28005       \n",
       "11    2020-05 121           Países Bajos            28047       \n",
       "12    2020-06 351           Venezuela               28065       \n",
       "13    2021-05 010           Total Europa            28100       \n",
       "14    2021-02 123           Portugal                28113       \n",
       "15    2020-01 010           Total Europa            28005       \n",
       "16    2021-08 131           Suecia                  28074       \n",
       "17    2021-07 000           Total                   28034       \n",
       "18    2019-12 302           EE.UU.                  28047       \n",
       "19    2020-04 213           Egipto                  28079       \n",
       "20    2022-10 110           Francia                 28066       \n",
       "21    2021-03 102           Austria                 28007       \n",
       "22    2019-11 126           Alemania                28005       \n",
       "23    2020-08 128           Rumania                 28148       \n",
       "24    2021-07 117           Luxemburgo              28080       \n",
       "25    2021-07 407           China                   28007       \n",
       "26    2022-04 340           Argentina               28134       \n",
       "27    2019-07 228           Marruecos               28005       \n",
       "28    2020-05 117           Luxemburgo              28080       \n",
       "29    2022-03 110           Francia                 28903       \n",
       "30    2019-11 343           Colombia                28130       \n",
       "⋮     ⋮       ⋮             ⋮                       ⋮           \n",
       "50265 2022-10 000           Total                   28162       \n",
       "50266 2022-10 010           Total Europa            28162       \n",
       "50267 2022-10 000           Total                   28164       \n",
       "50268 2022-10 011           Total Unión Europea     28164       \n",
       "50269 2022-10 000           Total                   28167       \n",
       "50270 2022-10 000           Total                   28168       \n",
       "50271 2022-10 126           Alemania                28168       \n",
       "50272 2022-10 000           Total                   28169       \n",
       "50273 2022-10 011           Total Unión Europea     28169       \n",
       "50274 2022-10 000           Total                   28171       \n",
       "50275 2022-10 011           Total Unión Europea     28171       \n",
       "50276 2022-10 121           Países Bajos            28171       \n",
       "50277 2022-10 010           Total Europa            28172       \n",
       "50278 2022-10 000           Total                   28174       \n",
       "50279 2022-10 011           Total Unión Europea     28174       \n",
       "50280 2022-10 011           Total Unión Europea     28176       \n",
       "50281 2022-10 020           Total África            28176       \n",
       "50282 2022-10 033           Total Sudamérica        28176       \n",
       "50283 2022-10 102           Austria                 28176       \n",
       "50284 2022-10 115           Italia                  28176       \n",
       "50285 2022-10 125           Reino Unido             28176       \n",
       "50286 2022-10 010           Total Europa            28177       \n",
       "50287 2022-10 121           Países Bajos            28177       \n",
       "50288 2022-10 020           Total África            28181       \n",
       "50289 2022-10 040           Total Asia              28181       \n",
       "50290 2022-10 000           Total                   28901       \n",
       "50291 2022-10 010           Total Europa            28902       \n",
       "50292 2022-10 031           Total América del Norte 28903       \n",
       "50293 2022-10 102           Austria                 28903       \n",
       "50294 2022-10 121           Países Bajos            28903       \n",
       "      mun_dest                      turistas CMUN Target is_train rank \n",
       "1     Valdemoro                      466     161   466   TRUE        6 \n",
       "2     Villanueva de la Cañada       1375     176  1375   TRUE       34 \n",
       "3     San Martín de la Vega          465     132   465   TRUE      130 \n",
       "4     Sevilla la Nueva                54     141    54   TRUE      134 \n",
       "5     San Fernando de Henares        135     130   135   TRUE      137 \n",
       "6     Robregordo                      30     126    30   TRUE      176 \n",
       "7     Loeches                        285     075   285   TRUE      194 \n",
       "8     Alcalá de Henares              768     005   768   TRUE      229 \n",
       "9     Griñón                          31     066    31   TRUE      289 \n",
       "10    Alcalá de Henares             1646     005  1646   TRUE      353 \n",
       "11    Collado Villalba               116     047   116   TRUE      369 \n",
       "12    Getafe                          36     065    36   TRUE      375 \n",
       "13    Nuevo Baztán                    59     100    59   TRUE      413 \n",
       "14    Pinto                           63     113    63   TRUE      435 \n",
       "15    Alcalá de Henares             7242     005  7242   TRUE      438 \n",
       "16    Leganés                        143     074   143   TRUE      458 \n",
       "17    Canencia                        56     034    56   TRUE      466 \n",
       "18    Collado Villalba                47     047    47   TRUE      604 \n",
       "19    Madrid                         117     079   117   TRUE      647 \n",
       "20    Griñón                          37     066    37   TRUE      669 \n",
       "21    Alcorcón                       105     007   105   TRUE      711 \n",
       "22    Alcalá de Henares              977     005   977   TRUE      836 \n",
       "23    Torrejón de Ardoz               85     148    85   TRUE      843 \n",
       "24    Majadahonda                     58     080    58   TRUE      884 \n",
       "25    Alcorcón                        54     007    54   TRUE      886 \n",
       "26    San Sebastián de los Reyes      40     134    40   TRUE      946 \n",
       "27    Alcalá de Henares               63     005    63   TRUE     1174 \n",
       "28    Majadahonda                     34     080    34   TRUE     1177 \n",
       "29    Tres Cantos                    538     903   538   TRUE     1227 \n",
       "30    San Fernando de Henares         42     130    42   TRUE     1230 \n",
       "⋮     ⋮                             ⋮        ⋮    ⋮      ⋮        ⋮    \n",
       "50265 Valdeolmos-Alalpardo           101     162   101   FALSE    14865\n",
       "50266 Valdeolmos-Alalpardo            73     162    73   FALSE    30574\n",
       "50267 Valdetorres de Jarama          126     164   126   FALSE    31361\n",
       "50268 Valdetorres de Jarama           69     164    69   FALSE    33620\n",
       "50269 Velilla de San Antonio         223     167   223   FALSE    17126\n",
       "50270 Vellón, El                     248     168   248   FALSE    42460\n",
       "50271 Vellón, El                      45     168    45   FALSE    28397\n",
       "50272 Venturada                      103     169   103   FALSE     4544\n",
       "50273 Venturada                       65     169    65   FALSE    49488\n",
       "50274 Villa del Prado                211     171   211   FALSE    46870\n",
       "50275 Villa del Prado                127     171   127   FALSE    26432\n",
       "50276 Villa del Prado                 33     171    33   FALSE    18612\n",
       "50277 Villalbilla                    269     172   269   FALSE    19414\n",
       "50278 Villamanta                     101     174   101   FALSE    37397\n",
       "50279 Villamanta                      71     174    71   FALSE    30324\n",
       "50280 Villanueva de la Cañada       1903     176  1903   FALSE     3428\n",
       "50281 Villanueva de la Cañada         39     176    39   FALSE    33211\n",
       "50282 Villanueva de la Cañada         45     176    45   FALSE    37051\n",
       "50283 Villanueva de la Cañada         64     176    64   FALSE    21310\n",
       "50284 Villanueva de la Cañada        137     176   137   FALSE    10322\n",
       "50285 Villanueva de la Cañada         46     176    46   FALSE     8284\n",
       "50286 Villanueva del Pardillo        453     177   453   FALSE    29620\n",
       "50287 Villanueva del Pardillo        151     177   151   FALSE    36381\n",
       "50288 Villaviciosa de Odón            57     181    57   FALSE     6112\n",
       "50289 Villaviciosa de Odón            42     181    42   FALSE     9930\n",
       "50290 Lozoyuela-Navas-Sieteiglesias  168     901   168   FALSE    40971\n",
       "50291 Puentes Viejas                 149     902   149   FALSE     6836\n",
       "50292 Tres Cantos                    200     903   200   FALSE    39681\n",
       "50293 Tres Cantos                     72     903    72   FALSE    12850\n",
       "50294 Tres Cantos                    378     903   378   FALSE     8561"
      ]
     },
     "metadata": {},
     "output_type": "display_data"
    }
   ],
   "source": [
    "data |> mutate(rank = order(Target))"
   ]
  },
  {
   "cell_type": "markdown",
   "metadata": {
    "slideshow": {
     "slide_type": "slide"
    }
   },
   "source": [
    "## Numeric Variable Transformation: Scale"
   ]
  },
  {
   "cell_type": "markdown",
   "metadata": {
    "slideshow": {
     "slide_type": "slide"
    }
   },
   "source": [
    "### Normalization Transform"
   ]
  },
  {
   "cell_type": "markdown",
   "metadata": {},
   "source": [
    "<font color='tomato'>Select columns</font>"
   ]
  },
  {
   "cell_type": "code",
   "execution_count": 25,
   "metadata": {},
   "outputs": [],
   "source": [
    "numeric_cols <- sapply(data, is.numeric)"
   ]
  },
  {
   "cell_type": "markdown",
   "metadata": {},
   "source": [
    "<font color='darkgrey'><b>Operation</font>"
   ]
  },
  {
   "cell_type": "code",
   "execution_count": 26,
   "metadata": {
    "vscode": {
     "languageId": "r"
    }
   },
   "outputs": [
    {
     "name": "stdout",
     "output_type": "stream",
     "text": [
      "Processing column: mun_dest_cod \n"
     ]
    },
    {
     "data": {
      "image/png": "[encoded data removed]",
      "text/plain": [
       "Plot with title “Histogram for mun_dest_cod”"
      ]
     },
     "metadata": {
      "image/png": {
       "height": 420,
       "width": 420
      }
     },
     "output_type": "display_data"
    },
    {
     "name": "stdout",
     "output_type": "stream",
     "text": [
      "NULL\n",
      "Processing column: turistas \n"
     ]
    },
    {
     "data": {
      "image/png": "[encoded data removed]",
      "text/plain": [
       "Plot with title “Histogram of column_data”"
      ]
     },
     "metadata": {
      "image/png": {
       "height": 420,
       "width": 420
      }
     },
     "output_type": "display_data"
    },
    {
     "data": {
      "image/png": "[encoded data removed]",
      "text/plain": [
       "Plot with title “Histogram for turistas”"
      ]
     },
     "metadata": {
      "image/png": {
       "height": 420,
       "width": 420
      }
     },
     "output_type": "display_data"
    },
    {
     "name": "stdout",
     "output_type": "stream",
     "text": [
      "NULL\n",
      "Processing column: Target \n"
     ]
    },
    {
     "data": {
      "image/png": "[encoded data removed]",
      "text/plain": [
       "Plot with title “Histogram of column_data”"
      ]
     },
     "metadata": {
      "image/png": {
       "height": 420,
       "width": 420
      }
     },
     "output_type": "display_data"
    },
    {
     "data": {
      "image/png": "[encoded data removed]",
      "text/plain": [
       "Plot with title “Histogram for Target”"
      ]
     },
     "metadata": {
      "image/png": {
       "height": 420,
       "width": 420
      }
     },
     "output_type": "display_data"
    },
    {
     "name": "stdout",
     "output_type": "stream",
     "text": [
      "NULL\n"
     ]
    },
    {
     "data": {
      "image/png": "[encoded data removed]",
      "text/plain": [
       "Plot with title “Histogram of column_data”"
      ]
     },
     "metadata": {
      "image/png": {
       "height": 420,
       "width": 420
      }
     },
     "output_type": "display_data"
    }
   ],
   "source": [
    "data_normalized <- data\n",
    "for (col_name in names(numeric_cols)[numeric_cols]) {\n",
    "  data_normalized[[col_name]] <- (data[[col_name]] - min(data[[col_name]])) / \n",
    "                                 (max(data[[col_name]]) - min(data[[col_name]]))\n",
    "}\n",
    "\n",
    "for (col_name in names(cols)[cols]) {\n",
    "    cat(\"Processing column:\", col_name, \"\\n\")\n",
    "    column_data <- data_normalized[[col_name]]\n",
    "    hist_plot <- hist(column_data, freq = FALSE, main = paste(\"Histogram for\", col_name))\n",
    "    print(plot(hist_plot))\n",
    "    lines(density(column_data))\n",
    "}"
   ]
  },
  {
   "cell_type": "code",
   "execution_count": null,
   "metadata": {},
   "outputs": [],
   "source": []
  },
  {
   "cell_type": "markdown",
   "metadata": {
    "slideshow": {
     "slide_type": "slide"
    }
   },
   "source": [
    "### Standarization Transform"
   ]
  },
  {
   "cell_type": "markdown",
   "metadata": {},
   "source": [
    "<font color='tomato'>Select columns</font>"
   ]
  },
  {
   "cell_type": "code",
   "execution_count": 27,
   "metadata": {
    "vscode": {
     "languageId": "r"
    }
   },
   "outputs": [],
   "source": [
    "cols <- sapply(data, is.numeric)"
   ]
  },
  {
   "cell_type": "markdown",
   "metadata": {},
   "source": [
    "<font color='darkgrey'><b>Operation</font>"
   ]
  },
  {
   "cell_type": "code",
   "execution_count": 28,
   "metadata": {
    "ExecuteTime": {
     "end_time": "2021-01-02T17:51:47.944300Z",
     "start_time": "2021-01-02T17:51:47.859685Z"
    },
    "vscode": {
     "languageId": "r"
    }
   },
   "outputs": [
    {
     "name": "stdout",
     "output_type": "stream",
     "text": [
      "Processing column: mun_dest_cod \n"
     ]
    },
    {
     "data": {
      "image/png": "[encoded data removed]",
      "text/plain": [
       "Plot with title “Histogram for mun_dest_cod”"
      ]
     },
     "metadata": {
      "image/png": {
       "height": 420,
       "width": 420
      }
     },
     "output_type": "display_data"
    },
    {
     "name": "stdout",
     "output_type": "stream",
     "text": [
      "NULL\n",
      "Processing column: turistas \n"
     ]
    },
    {
     "data": {
      "image/png": "[encoded data removed]",
      "text/plain": [
       "Plot with title “Histogram of column_data”"
      ]
     },
     "metadata": {
      "image/png": {
       "height": 420,
       "width": 420
      }
     },
     "output_type": "display_data"
    },
    {
     "data": {
      "image/png": "[encoded data removed]",
      "text/plain": [
       "Plot with title “Histogram for turistas”"
      ]
     },
     "metadata": {
      "image/png": {
       "height": 420,
       "width": 420
      }
     },
     "output_type": "display_data"
    },
    {
     "name": "stdout",
     "output_type": "stream",
     "text": [
      "NULL\n",
      "Processing column: Target \n"
     ]
    },
    {
     "data": {
      "image/png": "[encoded data removed]",
      "text/plain": [
       "Plot with title “Histogram of column_data”"
      ]
     },
     "metadata": {
      "image/png": {
       "height": 420,
       "width": 420
      }
     },
     "output_type": "display_data"
    },
    {
     "data": {
      "image/png": "[encoded data removed]",
      "text/plain": [
       "Plot with title “Histogram for Target”"
      ]
     },
     "metadata": {
      "image/png": {
       "height": 420,
       "width": 420
      }
     },
     "output_type": "display_data"
    },
    {
     "name": "stdout",
     "output_type": "stream",
     "text": [
      "NULL\n"
     ]
    },
    {
     "data": {
      "image/png": "[encoded data removed]",
      "text/plain": [
       "Plot with title “Histogram of column_data”"
      ]
     },
     "metadata": {
      "image/png": {
       "height": 420,
       "width": 420
      }
     },
     "output_type": "display_data"
    }
   ],
   "source": [
    "data_standardized <- data\n",
    "\n",
    "for (col_name in names(numeric_cols)[numeric_cols]) {\n",
    "  data_standardized[[col_name]] <- scale(data[[col_name]])\n",
    "}\n",
    "for (col_name in names(cols)[cols]) {\n",
    "    cat(\"Processing column:\", col_name, \"\\n\")\n",
    "    column_data <- data_standardized[[col_name]]\n",
    "    hist_plot <- hist(column_data, freq = FALSE, main = paste(\"Histogram for\", col_name))\n",
    "    print(plot(hist_plot))\n",
    "    lines(density(column_data))\n",
    "}"
   ]
  },
  {
   "cell_type": "markdown",
   "metadata": {
    "slideshow": {
     "slide_type": "slide"
    }
   },
   "source": [
    "## Numeric Variable Transformation: Distribution"
   ]
  },
  {
   "cell_type": "markdown",
   "metadata": {
    "slideshow": {
     "slide_type": "slide"
    }
   },
   "source": [
    "###\tDiscretization Transform"
   ]
  },
  {
   "cell_type": "markdown",
   "metadata": {
    "slideshow": {
     "slide_type": "slide"
    }
   },
   "source": [
    "##### Evaluating Discretization Transformations"
   ]
  },
  {
   "cell_type": "markdown",
   "metadata": {
    "slideshow": {
     "slide_type": "slide"
    }
   },
   "source": [
    "#### Uniform Discretization Transform"
   ]
  },
  {
   "cell_type": "markdown",
   "metadata": {},
   "source": [
    "<font color='tomato'>Select columns</font>"
   ]
  },
  {
   "cell_type": "code",
   "execution_count": 29,
   "metadata": {
    "ExecuteTime": {
     "end_time": "2020-12-31T17:31:51.827830Z",
     "start_time": "2020-12-31T17:31:51.812208Z"
    },
    "vscode": {
     "languageId": "r"
    }
   },
   "outputs": [],
   "source": [
    "cols <- sapply(data, is.numeric)"
   ]
  },
  {
   "cell_type": "code",
   "execution_count": null,
   "metadata": {},
   "outputs": [],
   "source": []
  },
  {
   "cell_type": "markdown",
   "metadata": {},
   "source": [
    "<font color='darkgrey'><b>Operation</font>"
   ]
  },
  {
   "cell_type": "code",
   "execution_count": 30,
   "metadata": {
    "ExecuteTime": {
     "end_time": "2020-12-31T10:45:07.969795Z",
     "start_time": "2020-12-31T10:45:07.938574Z"
    },
    "vscode": {
     "languageId": "r"
    }
   },
   "outputs": [
    {
     "name": "stdout",
     "output_type": "stream",
     "text": [
      "Processing column: mun_dest_cod \n"
     ]
    },
    {
     "data": {
      "image/png": "[encoded data removed]",
      "text/plain": [
       "Plot with title “Histogram for mun_dest_cod”"
      ]
     },
     "metadata": {
      "image/png": {
       "height": 420,
       "width": 420
      }
     },
     "output_type": "display_data"
    },
    {
     "name": "stdout",
     "output_type": "stream",
     "text": [
      "NULL\n",
      "Processing column: turistas \n"
     ]
    },
    {
     "data": {
      "image/png": "[encoded data removed]",
      "text/plain": [
       "Plot with title “Histogram of column_data”"
      ]
     },
     "metadata": {
      "image/png": {
       "height": 420,
       "width": 420
      }
     },
     "output_type": "display_data"
    },
    {
     "data": {
      "image/png": "[encoded data removed]",
      "text/plain": [
       "Plot with title “Histogram for turistas”"
      ]
     },
     "metadata": {
      "image/png": {
       "height": 420,
       "width": 420
      }
     },
     "output_type": "display_data"
    },
    {
     "name": "stdout",
     "output_type": "stream",
     "text": [
      "NULL\n",
      "Processing column: Target \n"
     ]
    },
    {
     "data": {
      "image/png": "[encoded data removed]",
      "text/plain": [
       "Plot with title “Histogram of column_data”"
      ]
     },
     "metadata": {
      "image/png": {
       "height": 420,
       "width": 420
      }
     },
     "output_type": "display_data"
    },
    {
     "data": {
      "image/png": "[encoded data removed]",
      "text/plain": [
       "Plot with title “Histogram for Target”"
      ]
     },
     "metadata": {
      "image/png": {
       "height": 420,
       "width": 420
      }
     },
     "output_type": "display_data"
    },
    {
     "name": "stdout",
     "output_type": "stream",
     "text": [
      "NULL\n"
     ]
    },
    {
     "data": {
      "image/png": "[encoded data removed]",
      "text/plain": [
       "Plot with title “Histogram of column_data”"
      ]
     },
     "metadata": {
      "image/png": {
       "height": 420,
       "width": 420
      }
     },
     "output_type": "display_data"
    }
   ],
   "source": [
    "# create a copy of the original data frame\n",
    "data_discretized <- data\n",
    "\n",
    "# number of intervals\n",
    "k <- 10  # change this value according to your needs\n",
    "\n",
    "# discretize each numeric column\n",
    "for (col_name in names(numeric_cols)[numeric_cols]) {\n",
    "  data_discretized[[col_name]] <- cut(data[[col_name]], breaks = k, labels = FALSE)\n",
    "}\n",
    "for (col_name in names(cols)[cols]) {\n",
    "    cat(\"Processing column:\", col_name, \"\\n\")\n",
    "    column_data <- data_discretized[[col_name]]\n",
    "    hist_plot <- hist(column_data, freq = FALSE, main = paste(\"Histogram for\", col_name))\n",
    "    print(plot(hist_plot))\n",
    "    lines(density(column_data))\n",
    "}"
   ]
  },
  {
   "cell_type": "markdown",
   "metadata": {
    "slideshow": {
     "slide_type": "slide"
    }
   },
   "source": [
    "### Power Transform"
   ]
  },
  {
   "cell_type": "markdown",
   "metadata": {
    "slideshow": {
     "slide_type": "slide"
    }
   },
   "source": [
    "#### Data to Transform"
   ]
  },
  {
   "cell_type": "markdown",
   "metadata": {
    "slideshow": {
     "slide_type": "slide"
    }
   },
   "source": [
    "##### Evaluating Yeo-Johnson tranform"
   ]
  },
  {
   "cell_type": "markdown",
   "metadata": {
    "slideshow": {
     "slide_type": "slide"
    }
   },
   "source": [
    "#### Yeo-Johnson Transform"
   ]
  },
  {
   "cell_type": "markdown",
   "metadata": {},
   "source": [
    "<font color='tomato'>Select columns</font>"
   ]
  },
  {
   "cell_type": "code",
   "execution_count": 31,
   "metadata": {},
   "outputs": [],
   "source": [
    "cols <- sapply(data, is.numeric)"
   ]
  },
  {
   "cell_type": "markdown",
   "metadata": {},
   "source": [
    "<font color='darkgrey'><b>Operation</font>"
   ]
  },
  {
   "cell_type": "code",
   "execution_count": 32,
   "metadata": {
    "vscode": {
     "languageId": "r"
    }
   },
   "outputs": [
    {
     "name": "stderr",
     "output_type": "stream",
     "text": [
      "Loading required package: bestNormalize\n",
      "\n"
     ]
    },
    {
     "name": "stdout",
     "output_type": "stream",
     "text": [
      "Processing column: mun_dest_cod \n"
     ]
    },
    {
     "data": {
      "image/png": "[encoded data removed]",
      "text/plain": [
       "Plot with title “Histogram for mun_dest_cod”"
      ]
     },
     "metadata": {
      "image/png": {
       "height": 420,
       "width": 420
      }
     },
     "output_type": "display_data"
    },
    {
     "name": "stdout",
     "output_type": "stream",
     "text": [
      "NULL\n",
      "Processing column: turistas \n"
     ]
    },
    {
     "data": {
      "image/png": "[encoded data removed]",
      "text/plain": [
       "Plot with title “Histogram of column_data”"
      ]
     },
     "metadata": {
      "image/png": {
       "height": 420,
       "width": 420
      }
     },
     "output_type": "display_data"
    },
    {
     "data": {
      "image/png": "[encoded data removed]",
      "text/plain": [
       "Plot with title “Histogram for turistas”"
      ]
     },
     "metadata": {
      "image/png": {
       "height": 420,
       "width": 420
      }
     },
     "output_type": "display_data"
    },
    {
     "name": "stdout",
     "output_type": "stream",
     "text": [
      "NULL\n",
      "Processing column: Target \n"
     ]
    },
    {
     "data": {
      "image/png": "[encoded data removed]",
      "text/plain": [
       "Plot with title “Histogram of column_data”"
      ]
     },
     "metadata": {
      "image/png": {
       "height": 420,
       "width": 420
      }
     },
     "output_type": "display_data"
    },
    {
     "data": {
      "image/png": "[encoded data removed]",
      "text/plain": [
       "Plot with title “Histogram for Target”"
      ]
     },
     "metadata": {
      "image/png": {
       "height": 420,
       "width": 420
      }
     },
     "output_type": "display_data"
    },
    {
     "name": "stdout",
     "output_type": "stream",
     "text": [
      "NULL\n"
     ]
    },
    {
     "data": {
      "image/png": "[encoded data removed]",
      "text/plain": [
       "Plot with title “Histogram of column_data”"
      ]
     },
     "metadata": {
      "image/png": {
       "height": 420,
       "width": 420
      }
     },
     "output_type": "display_data"
    }
   ],
   "source": [
    "if (!require(bestNormalize)) {\n",
    "  install.packages('bestNormalize')\n",
    "}\n",
    "\n",
    "# load the bestNormalize package\n",
    "library(bestNormalize)\n",
    "\n",
    "# assuming 'data' is your data frame\n",
    "\n",
    "# identify the numeric columns\n",
    "numeric_cols <- sapply(data, is.numeric)\n",
    "\n",
    "# create a copy of the original data frame\n",
    "data_yeojohnson <- data\n",
    "\n",
    "# apply the Yeo-Johnson transformation to each numeric column\n",
    "for (col_name in names(numeric_cols)[numeric_cols]) {\n",
    "  yj <- yeojohnson(data[[col_name]])\n",
    "  data_yeojohnson[[col_name]] <- yj$x.t\n",
    "}\n",
    "for (col_name in names(cols)[cols]) {\n",
    "    cat(\"Processing column:\", col_name, \"\\n\")\n",
    "    column_data <- data_yeojohnson[[col_name]]\n",
    "    hist_plot <- hist(column_data, freq = FALSE, main = paste(\"Histogram for\", col_name))\n",
    "    print(plot(hist_plot))\n",
    "    lines(density(column_data))\n",
    "}"
   ]
  }
 ],
 "metadata": {
  "anaconda-cloud": {},
  "celltoolbar": "Slideshow",
  "hide_input": false,
  "kernelspec": {
   "display_name": "R",
   "language": "R",
   "name": "ir"
  },
  "language_info": {
   "codemirror_mode": "r",
   "file_extension": ".r",
   "mimetype": "text/x-r-source",
   "name": "R",
   "pygments_lexer": "r",
   "version": "4.1.2"
  },
  "latex_envs": {
   "LaTeX_envs_menu_present": true,
   "autoclose": false,
   "autocomplete": true,
   "bibliofile": "biblio.bib",
   "cite_by": "apalike",
   "current_citInitial": 1,
   "eqLabelWithNumbers": true,
   "eqNumInitial": 1,
   "hotkeys": {
    "equation": "Ctrl-E",
    "itemize": "Ctrl-I"
   },
   "labels_anchors": false,
   "latex_user_defs": false,
   "report_style_numbering": true,
   "user_envs_cfg": false
  },
  "toc": {
   "base_numbering": 1,
   "nav_menu": {},
   "number_sections": true,
   "sideBar": true,
   "skip_h1_title": true,
   "title_cell": "Table of Contents",
   "title_sidebar": "Contents",
   "toc_cell": false,
   "toc_position": {
    "height": "calc(100% - 180px)",
    "left": "10px",
    "top": "150px",
    "width": "450.433px"
   },
   "toc_section_display": true,
   "toc_window_display": true
  },
  "varInspector": {
   "cols": {
    "lenName": 16,
    "lenType": 16,
    "lenVar": 40
   },
   "kernels_config": {
    "python": {
     "delete_cmd_postfix": "",
     "delete_cmd_prefix": "del ",
     "library": "var_list.py",
     "varRefreshCmd": "print(var_dic_list())"
    },
    "r": {
     "delete_cmd_postfix": ") ",
     "delete_cmd_prefix": "rm(",
     "library": "var_list.r",
     "varRefreshCmd": "cat(var_dic_list()) "
    }
   },
   "types_to_exclude": [
    "module",
    "function",
    "builtin_function_or_method",
    "instance",
    "_Feature"
   ],
   "window_display": false
  }
 },
 "nbformat": 4,
 "nbformat_minor": 4
}
