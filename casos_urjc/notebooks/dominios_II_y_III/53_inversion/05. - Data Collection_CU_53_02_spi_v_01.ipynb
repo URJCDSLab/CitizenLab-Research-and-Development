{
 "cells": [
  {
   "cell_type": "markdown",
   "metadata": {
    "slideshow": {
     "slide_type": "slide"
    }
   },
   "source": [
    "<img src=\".\\images\\Logo.png\" width=150 align=\"left\" /> <img src=\".\\images\\Logo2.jpg\" width=450 align=\"right\" />"
   ]
  },
  {
   "cell_type": "markdown",
   "metadata": {},
   "source": [
    "\n",
    "# <center><font color= #1e8449 > <b>CU53_impacto de las políticas de inversión en sanidad, infraestructuras y promoción turística en el SPI\t\t\t</font></center>"
   ]
  },
  {
   "cell_type": "markdown",
   "metadata": {
    "slideshow": {
     "slide_type": "slide"
    }
   },
   "source": [
    "<font color='steelblue'><b>Citizenlab Data Science Methodology > II - Data Processing Domain </font>\n",
    "***\n",
    "> # <font color='steelblue'> <b>05.- Data Collection</font>"
   ]
  },
  {
   "cell_type": "markdown",
   "metadata": {
    "slideshow": {
     "slide_type": "slide"
    }
   },
   "source": [
    "<font color='steelblue'>Data Collection is the process to obtain and generate (if required) necessary data to model the problem.</font>"
   ]
  },
  {
   "attachments": {},
   "cell_type": "markdown",
   "metadata": {},
   "source": [
    "### 02. Transformar datos del SPI\n",
    "\n",
    "* Convertir a csv los datos del SPI, que vienen en libro Excel con indicadores en columnas\n",
    "\n",
    "\n",
    "\n",
    "\n",
    "\n"
   ]
  },
  {
   "cell_type": "markdown",
   "metadata": {
    "toc": true
   },
   "source": [
    "<h1>Table of Contents<span class=\"tocSkip\"></span></h1>\n",
    "<div class=\"toc\"><ul class=\"toc-item\"><li><span><a href=\"#Settings\" data-toc-modified-id=\"Settings-1\"><font color=\"green\">Settings</font></a></span></li><li><span><a href=\"#Data-Load\" data-toc-modified-id=\"Data-Load-2\"><font color=\"green\">Data Load</font></a></span></li><li><span><a href=\"#ETL-Processes\" data-toc-modified-id=\"ETL-Processes-3\">ETL Processes</a></span><ul class=\"toc-item\"><li><span><a href=\"#Import-data-from:-CSV,-Excel,-Tab,-JSON,-SQL,-and-Parquet-files\" data-toc-modified-id=\"Import-data-from:-CSV,-Excel,-Tab,-JSON,-SQL,-and-Parquet-files-3.1\">Import data from: CSV, Excel, Tab, JSON, SQL, and Parquet files</a></span></li></ul></li><li><span><a href=\"#Synthetic-Data-Generation\" data-toc-modified-id=\"Synthetic-Data-Generation-4\">Synthetic Data Generation</a></span></li><li><span><a href=\"#Fake-Data-Generation\" data-toc-modified-id=\"Fake-Data-Generation-5\">Fake Data Generation</a></span></li><li><span><a href=\"#Open-Data\" data-toc-modified-id=\"Open-Data-6\">Open Data</a></span></li><li><span><a href=\"#Data-Save\" data-toc-modified-id=\"Data-Save-7\"><font color=\"green\">Data Save</font></a></span></li><li><span><a href=\"#Main-Conclusions\" data-toc-modified-id=\"Main-Conclusions-8\"><font color=\" #2874a6 \">Main Conclusions</font></a></span></li><li><span><a href=\"#Main-Actions\" data-toc-modified-id=\"Main-Actions-9\"><font color=\" #2874a6 \">Main Actions</font></a></span><ul class=\"toc-item\"><li><ul class=\"toc-item\"><li><span><a href=\"#Acciones-done\" data-toc-modified-id=\"Acciones-done-9.0.1\"><font color=\" #2874a6 \">Acciones done</font></a></span></li><li><span><a href=\"#Acctions-to-perform\" data-toc-modified-id=\"Acctions-to-perform-9.0.2\"><font color=\" #2874a6 \">Acctions to perform</font></a></span></li></ul></li></ul></li></ul></div>"
   ]
  },
  {
   "cell_type": "markdown",
   "metadata": {
    "slideshow": {
     "slide_type": "slide"
    }
   },
   "source": [
    "## <font color='green'>Settings</font>"
   ]
  },
  {
   "attachments": {},
   "cell_type": "markdown",
   "metadata": {},
   "source": [
    "### Encoding\n",
    "\n",
    "Con la siguiente expresión se evitan problemas con el encoding al ejecutar el notebook. Es posible que deba ser eliminada o adaptada a la máquina en la que se ejecute el código."
   ]
  },
  {
   "cell_type": "code",
   "execution_count": 1,
   "metadata": {
    "vscode": {
     "languageId": "r"
    }
   },
   "outputs": [
    {
     "data": {
      "text/html": [
       "'es_ES.UTF-8/es_ES.UTF-8/es_ES.UTF-8/C/es_ES.UTF-8/C'"
      ],
      "text/latex": [
       "'es\\_ES.UTF-8/es\\_ES.UTF-8/es\\_ES.UTF-8/C/es\\_ES.UTF-8/C'"
      ],
      "text/markdown": [
       "'es_ES.UTF-8/es_ES.UTF-8/es_ES.UTF-8/C/es_ES.UTF-8/C'"
      ],
      "text/plain": [
       "[1] \"es_ES.UTF-8/es_ES.UTF-8/es_ES.UTF-8/C/es_ES.UTF-8/C\""
      ]
     },
     "metadata": {},
     "output_type": "display_data"
    }
   ],
   "source": [
    "Sys.setlocale(category = \"LC_ALL\", locale = \"es_ES.UTF-8\")"
   ]
  },
  {
   "attachments": {},
   "cell_type": "markdown",
   "metadata": {},
   "source": [
    "### Packages to use\n",
    "\n",
    "_ELIMINAR O AÑADIR LO QUE TOQUE. COPIAR VERSIONES AL FINAL Y QUITAR CÓDIGO DE VERSIONES_\n",
    "\n",
    "- {tcltk} para selección interactiva de archivos locales\n",
    "- {sf} para trabajar con georeferenciación\n",
    "- {readr} para leer y escribir archivos csv\n",
    "- {dplyr} para explorar datos\n",
    "- {stringr} para manipulación de cadenas de caracteres\n",
    "- {tidyr} para organización de datos\n"
   ]
  },
  {
   "cell_type": "code",
   "execution_count": 2,
   "metadata": {
    "ExecuteTime": {
     "end_time": "2021-12-03T15:23:33.762841Z",
     "start_time": "2021-12-03T15:23:08.580267Z"
    },
    "slideshow": {
     "slide_type": "subslide"
    },
    "vscode": {
     "languageId": "r"
    }
   },
   "outputs": [
    {
     "name": "stderr",
     "output_type": "stream",
     "text": [
      "\n",
      "Attaching package: ‘dplyr’\n",
      "\n",
      "\n",
      "The following objects are masked from ‘package:stats’:\n",
      "\n",
      "    filter, lag\n",
      "\n",
      "\n",
      "The following objects are masked from ‘package:base’:\n",
      "\n",
      "    intersect, setdiff, setequal, union\n",
      "\n",
      "\n"
     ]
    }
   ],
   "source": [
    "library(readxl)\n",
    "library(readr)\n",
    "library(dplyr)\n",
    "library(stringr)\n",
    "library(tidyr)\n",
    "\n",
    "p <- c(\"tcltk\", \"readxl\", \"readr\", \"dplyr\", \"stringr\", \"tidyr\")\n"
   ]
  },
  {
   "attachments": {},
   "cell_type": "markdown",
   "metadata": {},
   "source": [
    "### Paths"
   ]
  },
  {
   "cell_type": "code",
   "execution_count": 3,
   "metadata": {
    "vscode": {
     "languageId": "r"
    }
   },
   "outputs": [],
   "source": [
    "iPath <- \"Data/Input/\"\n",
    "oPath <- \"Data/Output/\""
   ]
  },
  {
   "attachments": {},
   "cell_type": "markdown",
   "metadata": {
    "slideshow": {
     "slide_type": "slide"
    }
   },
   "source": [
    "## <font color='green'>Data Load</font>\n",
    "\n",
    "If there are more than one input file, make as many sections as files to import."
   ]
  },
  {
   "attachments": {},
   "cell_type": "markdown",
   "metadata": {},
   "source": [
    "Instrucciones\n",
    "- Los ficheros de entrada del proceso están siempre en Data/Input/.   \n",
    "- Si hay más de un fichero de entrada, se crean tantos objetos iFile_xx y file_data_xx como ficheros de entrada (xx número correlativo con dos dígitos, rellenar con ceros a la izquierda)"
   ]
  },
  {
   "attachments": {},
   "cell_type": "markdown",
   "metadata": {},
   "source": [
    "<font color='tomato'><b> OPCION A:</b> Seleccionar fichero en ventana para mayor comodidad</font> "
   ]
  },
  {
   "attachments": {},
   "cell_type": "markdown",
   "metadata": {},
   "source": [
    "Data load using the {tcltk} package. Ucomment the line if not using this option"
   ]
  },
  {
   "cell_type": "code",
   "execution_count": 4,
   "metadata": {
    "vscode": {
     "languageId": "r"
    }
   },
   "outputs": [],
   "source": [
    "# file_data <- tcltk::tk_choose.files(multi = FALSE)"
   ]
  },
  {
   "attachments": {},
   "cell_type": "markdown",
   "metadata": {},
   "source": [
    "<font color='tomato'><b> OPCION B:</b> Especificar el nombre de archivo</font>\n",
    "\n"
   ]
  },
  {
   "cell_type": "code",
   "execution_count": 5,
   "metadata": {
    "vscode": {
     "languageId": "r"
    }
   },
   "outputs": [
    {
     "name": "stdout",
     "output_type": "stream",
     "text": [
      "Se leerán datos del archivo:  Data/Input/2022_social_progress_index_dataset-1663250262.xlsx"
     ]
    }
   ],
   "source": [
    "iFile <- \"2022_social_progress_index_dataset-1663250262.xlsx\"\n",
    "file_data <- paste0(iPath, iFile)\n",
    "\n",
    "if(file.exists(file_data)){\n",
    "    cat(\"Se leerán datos del archivo: \", file_data)\n",
    "} else{\n",
    "    warning(\"Cuidado: el archivo no existe.\")\n",
    "}\n"
   ]
  },
  {
   "attachments": {},
   "cell_type": "markdown",
   "metadata": {},
   "source": [
    "#### Data file to dataframe\n",
    "\n",
    "Usar la función adecuada según el formato de entrada (xlsx, csv, json, ...)"
   ]
  },
  {
   "attachments": {},
   "cell_type": "markdown",
   "metadata": {},
   "source": [
    "* Se leen primero los metadatos de los índices"
   ]
  },
  {
   "cell_type": "code",
   "execution_count": 6,
   "metadata": {
    "vscode": {
     "languageId": "r"
    }
   },
   "outputs": [
    {
     "name": "stderr",
     "output_type": "stream",
     "text": [
      "\u001b[1m\u001b[22mNew names:\n",
      "\u001b[36m•\u001b[39m `` -> `...1`\n",
      "\u001b[36m•\u001b[39m `` -> `...2`\n",
      "\u001b[36m•\u001b[39m `` -> `...3`\n",
      "\u001b[36m•\u001b[39m `` -> `...4`\n",
      "\u001b[36m•\u001b[39m `` -> `...5`\n",
      "\u001b[36m•\u001b[39m `` -> `...6`\n",
      "\u001b[36m•\u001b[39m `` -> `...7`\n",
      "\u001b[36m•\u001b[39m `` -> `...8`\n",
      "\u001b[36m•\u001b[39m `` -> `...9`\n",
      "\u001b[36m•\u001b[39m `` -> `...10`\n",
      "\u001b[36m•\u001b[39m `` -> `...11`\n",
      "\u001b[36m•\u001b[39m `` -> `...12`\n",
      "\u001b[36m•\u001b[39m `` -> `...13`\n",
      "\u001b[36m•\u001b[39m `` -> `...14`\n",
      "\u001b[36m•\u001b[39m `` -> `...15`\n",
      "\u001b[36m•\u001b[39m `` -> `...16`\n",
      "\u001b[36m•\u001b[39m `` -> `...17`\n",
      "\u001b[36m•\u001b[39m `` -> `...18`\n",
      "\u001b[36m•\u001b[39m `` -> `...19`\n",
      "\u001b[36m•\u001b[39m `` -> `...20`\n",
      "\u001b[36m•\u001b[39m `` -> `...21`\n",
      "\u001b[36m•\u001b[39m `` -> `...22`\n",
      "\u001b[36m•\u001b[39m `` -> `...23`\n",
      "\u001b[36m•\u001b[39m `` -> `...24`\n",
      "\u001b[36m•\u001b[39m `` -> `...25`\n",
      "\u001b[36m•\u001b[39m `` -> `...26`\n",
      "\u001b[36m•\u001b[39m `` -> `...27`\n",
      "\u001b[36m•\u001b[39m `` -> `...28`\n",
      "\u001b[36m•\u001b[39m `` -> `...29`\n",
      "\u001b[36m•\u001b[39m `` -> `...30`\n",
      "\u001b[36m•\u001b[39m `` -> `...31`\n",
      "\u001b[36m•\u001b[39m `` -> `...32`\n",
      "\u001b[36m•\u001b[39m `` -> `...33`\n",
      "\u001b[36m•\u001b[39m `` -> `...34`\n",
      "\u001b[36m•\u001b[39m `` -> `...35`\n",
      "\u001b[36m•\u001b[39m `` -> `...36`\n",
      "\u001b[36m•\u001b[39m `` -> `...37`\n",
      "\u001b[36m•\u001b[39m `` -> `...38`\n",
      "\u001b[36m•\u001b[39m `` -> `...39`\n",
      "\u001b[36m•\u001b[39m `` -> `...40`\n",
      "\u001b[36m•\u001b[39m `` -> `...41`\n",
      "\u001b[36m•\u001b[39m `` -> `...42`\n",
      "\u001b[36m•\u001b[39m `` -> `...43`\n",
      "\u001b[36m•\u001b[39m `` -> `...44`\n",
      "\u001b[36m•\u001b[39m `` -> `...45`\n",
      "\u001b[36m•\u001b[39m `` -> `...46`\n",
      "\u001b[36m•\u001b[39m `` -> `...47`\n",
      "\u001b[36m•\u001b[39m `` -> `...48`\n",
      "\u001b[36m•\u001b[39m `` -> `...49`\n",
      "\u001b[36m•\u001b[39m `` -> `...50`\n",
      "\u001b[36m•\u001b[39m `` -> `...51`\n",
      "\u001b[36m•\u001b[39m `` -> `...52`\n",
      "\u001b[36m•\u001b[39m `` -> `...53`\n",
      "\u001b[36m•\u001b[39m `` -> `...54`\n",
      "\u001b[36m•\u001b[39m `` -> `...55`\n",
      "\u001b[36m•\u001b[39m `` -> `...56`\n",
      "\u001b[36m•\u001b[39m `` -> `...57`\n",
      "\u001b[36m•\u001b[39m `` -> `...58`\n",
      "\u001b[36m•\u001b[39m `` -> `...59`\n",
      "\u001b[36m•\u001b[39m `` -> `...60`\n",
      "\u001b[36m•\u001b[39m `` -> `...61`\n",
      "\u001b[36m•\u001b[39m `` -> `...62`\n",
      "\u001b[36m•\u001b[39m `` -> `...63`\n",
      "\u001b[36m•\u001b[39m `` -> `...64`\n",
      "\u001b[36m•\u001b[39m `` -> `...65`\n",
      "\u001b[36m•\u001b[39m `` -> `...66`\n",
      "\u001b[36m•\u001b[39m `` -> `...67`\n",
      "\u001b[36m•\u001b[39m `` -> `...68`\n",
      "\u001b[36m•\u001b[39m `` -> `...69`\n",
      "\u001b[36m•\u001b[39m `` -> `...70`\n",
      "\u001b[36m•\u001b[39m `` -> `...71`\n",
      "\u001b[36m•\u001b[39m `` -> `...72`\n",
      "\u001b[36m•\u001b[39m `` -> `...73`\n",
      "\u001b[36m•\u001b[39m `` -> `...74`\n",
      "\u001b[36m•\u001b[39m `` -> `...75`\n",
      "\u001b[36m•\u001b[39m `` -> `...76`\n",
      "\u001b[36m•\u001b[39m `` -> `...77`\n",
      "\u001b[36m•\u001b[39m `` -> `...78`\n",
      "\u001b[36m•\u001b[39m `` -> `...79`\n",
      "\u001b[36m•\u001b[39m `` -> `...80`\n",
      "\u001b[36m•\u001b[39m `` -> `...81`\n"
     ]
    }
   ],
   "source": [
    "metadata_01 <- read_excel(file_data, \n",
    "                       sheet = \"2011-2022 SPI data\", col_names = FALSE, \n",
    "                       skip = 1, n_max = 2) |> \n",
    "  t() |> as.data.frame(row.names = FALSE, col.names = c(\"id_var\", \"name_var\")) |> \n",
    "  rename(id_var = V1, name_var = V2)"
   ]
  },
  {
   "cell_type": "code",
   "execution_count": 7,
   "metadata": {
    "vscode": {
     "languageId": "r"
    }
   },
   "outputs": [
    {
     "name": "stdout",
     "output_type": "stream",
     "text": [
      "Rows: 81\n",
      "Columns: 2\n",
      "$ id_var   \u001b[3m\u001b[90m<chr>\u001b[39m\u001b[23m \"rank_score_spi\", \"country\", \"spicountrycode\", \"spiyear\", \"st…\n",
      "$ name_var \u001b[3m\u001b[90m<chr>\u001b[39m\u001b[23m \"SPI \\r\\nRank\", \"Country\", \"SPI country code\", \"SPI \\r\\nyear\"…\n"
     ]
    }
   ],
   "source": [
    "metadata_01 |> glimpse()"
   ]
  },
  {
   "cell_type": "code",
   "execution_count": 8,
   "metadata": {
    "vscode": {
     "languageId": "r"
    }
   },
   "outputs": [
    {
     "data": {
      "text/html": [
       "<table class=\"dataframe\">\n",
       "<caption>A data.frame: 10 x 2</caption>\n",
       "<thead>\n",
       "\t<tr><th scope=col>id_var</th><th scope=col>name_var</th></tr>\n",
       "\t<tr><th scope=col>&lt;chr&gt;</th><th scope=col>&lt;chr&gt;</th></tr>\n",
       "</thead>\n",
       "<tbody>\n",
       "\t<tr><td>rank_score_spi</td><td>SPI \r\n",
       "Rank                  </td></tr>\n",
       "\t<tr><td>country       </td><td>Country                       </td></tr>\n",
       "\t<tr><td>spicountrycode</td><td>SPI country code              </td></tr>\n",
       "\t<tr><td>spiyear       </td><td>SPI \r\n",
       "year                  </td></tr>\n",
       "\t<tr><td>status        </td><td>Status                        </td></tr>\n",
       "\t<tr><td>score_spi     </td><td>Social Progress Index         </td></tr>\n",
       "\t<tr><td>score_bhn     </td><td>Basic Human Needs             </td></tr>\n",
       "\t<tr><td>score_fow     </td><td>Foundations of Wellbeing      </td></tr>\n",
       "\t<tr><td>score_opp     </td><td>Opportunity                   </td></tr>\n",
       "\t<tr><td><span style=white-space:pre-wrap>score_nbmc    </span></td><td>Nutrition &amp; Basic Medical Care</td></tr>\n",
       "</tbody>\n",
       "</table>\n"
      ],
      "text/latex": [
       "A data.frame: 10 x 2\n",
       "\\begin{tabular}{ll}\n",
       " id\\_var & name\\_var\\\\\n",
       " <chr> & <chr>\\\\\n",
       "\\hline\n",
       "\t rank\\_score\\_spi & SPI \r\n",
       "Rank                  \\\\\n",
       "\t country        & Country                       \\\\\n",
       "\t spicountrycode & SPI country code              \\\\\n",
       "\t spiyear        & SPI \r\n",
       "year                  \\\\\n",
       "\t status         & Status                        \\\\\n",
       "\t score\\_spi      & Social Progress Index         \\\\\n",
       "\t score\\_bhn      & Basic Human Needs             \\\\\n",
       "\t score\\_fow      & Foundations of Wellbeing      \\\\\n",
       "\t score\\_opp      & Opportunity                   \\\\\n",
       "\t score\\_nbmc     & Nutrition \\& Basic Medical Care\\\\\n",
       "\\end{tabular}\n"
      ],
      "text/markdown": [
       "\n",
       "A data.frame: 10 x 2\n",
       "\n",
       "| id_var &lt;chr&gt; | name_var &lt;chr&gt; |\n",
       "|---|---|\n",
       "| rank_score_spi | SPI \r\n",
       "Rank                   |\n",
       "| country        | Country                        |\n",
       "| spicountrycode | SPI country code               |\n",
       "| spiyear        | SPI \r\n",
       "year                   |\n",
       "| status         | Status                         |\n",
       "| score_spi      | Social Progress Index          |\n",
       "| score_bhn      | Basic Human Needs              |\n",
       "| score_fow      | Foundations of Wellbeing       |\n",
       "| score_opp      | Opportunity                    |\n",
       "| score_nbmc     | Nutrition &amp; Basic Medical Care |\n",
       "\n"
      ],
      "text/plain": [
       "   id_var         name_var                      \n",
       "1  rank_score_spi SPI \\r\\nRank                  \n",
       "2  country        Country                       \n",
       "3  spicountrycode SPI country code              \n",
       "4  spiyear        SPI \\r\\nyear                  \n",
       "5  status         Status                        \n",
       "6  score_spi      Social Progress Index         \n",
       "7  score_bhn      Basic Human Needs             \n",
       "8  score_fow      Foundations of Wellbeing      \n",
       "9  score_opp      Opportunity                   \n",
       "10 score_nbmc     Nutrition & Basic Medical Care"
      ]
     },
     "metadata": {},
     "output_type": "display_data"
    }
   ],
   "source": [
    "metadata_01 |> slice_head(n = 10)"
   ]
  },
  {
   "attachments": {},
   "cell_type": "markdown",
   "metadata": {},
   "source": [
    "* Ahora se leen los índices, con los nombres de columnas de los metadatos"
   ]
  },
  {
   "cell_type": "code",
   "execution_count": 9,
   "metadata": {
    "vscode": {
     "languageId": "r"
    }
   },
   "outputs": [],
   "source": [
    "data <- read_excel(file_data, \n",
    "                  sheet = \"2011-2022 SPI data\", \n",
    "                  col_names = metadata_01$id_var, \n",
    "                  skip = 3)\n"
   ]
  },
  {
   "attachments": {},
   "cell_type": "markdown",
   "metadata": {},
   "source": [
    "Estructura de  los datos:"
   ]
  },
  {
   "cell_type": "code",
   "execution_count": 10,
   "metadata": {
    "vscode": {
     "languageId": "r"
    }
   },
   "outputs": [
    {
     "name": "stdout",
     "output_type": "stream",
     "text": [
      "Rows: 2,364\n",
      "Columns: 81\n",
      "$ rank_score_spi       \u001b[3m\u001b[90m<dbl>\u001b[39m\u001b[23m NA, NA, NA, NA, NA, NA, NA, NA, NA, NA, NA, NA, 1…\n",
      "$ country              \u001b[3m\u001b[90m<chr>\u001b[39m\u001b[23m \"World\", \"World\", \"World\", \"World\", \"World\", \"Wor…\n",
      "$ spicountrycode       \u001b[3m\u001b[90m<chr>\u001b[39m\u001b[23m \"WWW\", \"WWW\", \"WWW\", \"WWW\", \"WWW\", \"WWW\", \"WWW\", …\n",
      "$ spiyear              \u001b[3m\u001b[90m<dbl>\u001b[39m\u001b[23m 2022, 2021, 2020, 2019, 2018, 2017, 2016, 2015, 2…\n",
      "$ status               \u001b[3m\u001b[90m<chr>\u001b[39m\u001b[23m NA, NA, NA, NA, NA, NA, NA, NA, NA, NA, NA, NA, \"…\n",
      "$ score_spi            \u001b[3m\u001b[90m<dbl>\u001b[39m\u001b[23m 65.24, 64.87, 64.55, 64.31, 63.62, 63.29, 62.65, …\n",
      "$ score_bhn            \u001b[3m\u001b[90m<dbl>\u001b[39m\u001b[23m 75.80, 75.35, 74.91, 74.48, 73.98, 73.43, 72.88, …\n",
      "$ score_fow            \u001b[3m\u001b[90m<dbl>\u001b[39m\u001b[23m 63.62, 63.18, 62.91, 62.46, 61.03, 60.52, 59.26, …\n",
      "$ score_opp            \u001b[3m\u001b[90m<dbl>\u001b[39m\u001b[23m 56.28, 56.07, 55.83, 55.98, 55.84, 55.92, 55.80, …\n",
      "$ score_nbmc           \u001b[3m\u001b[90m<dbl>\u001b[39m\u001b[23m 82.09, 82.01, 81.79, 81.53, 81.23, 80.90, 80.53, …\n",
      "$ score_ws             \u001b[3m\u001b[90m<dbl>\u001b[39m\u001b[23m 80.74, 79.84, 78.69, 77.99, 77.20, 76.59, 76.17, …\n",
      "$ score_sh             \u001b[3m\u001b[90m<dbl>\u001b[39m\u001b[23m 79.36, 78.86, 78.50, 77.63, 76.92, 75.92, 74.97, …\n",
      "$ score_ps             \u001b[3m\u001b[90m<dbl>\u001b[39m\u001b[23m 61.02, 60.68, 60.66, 60.78, 60.56, 60.31, 59.86, …\n",
      "$ score_abk            \u001b[3m\u001b[90m<dbl>\u001b[39m\u001b[23m 72.42, 72.50, 72.36, 72.27, 71.90, 71.67, 71.16, …\n",
      "$ score_aic            \u001b[3m\u001b[90m<dbl>\u001b[39m\u001b[23m 75.96, 74.44, 73.71, 72.87, 68.90, 67.40, 63.91, …\n",
      "$ score_hw             \u001b[3m\u001b[90m<dbl>\u001b[39m\u001b[23m 58.21, 57.91, 57.84, 57.25, 56.72, 56.19, 55.78, …\n",
      "$ score_eq             \u001b[3m\u001b[90m<dbl>\u001b[39m\u001b[23m 47.90, 47.87, 47.73, 47.45, 46.58, 46.82, 46.19, …\n",
      "$ score_pr             \u001b[3m\u001b[90m<dbl>\u001b[39m\u001b[23m 60.40, 60.38, 61.01, 61.49, 61.97, 62.86, 63.30, …\n",
      "$ score_pfc            \u001b[3m\u001b[90m<dbl>\u001b[39m\u001b[23m 62.27, 62.36, 62.39, 62.58, 62.46, 62.39, 62.05, …\n",
      "$ score_incl           \u001b[3m\u001b[90m<dbl>\u001b[39m\u001b[23m 42.97, 42.14, 41.39, 41.86, 41.48, 41.62, 41.70, …\n",
      "$ score_aae            \u001b[3m\u001b[90m<dbl>\u001b[39m\u001b[23m 59.50, 59.39, 58.52, 58.00, 57.46, 56.81, 56.17, …\n",
      "$ nbmc_stunting        \u001b[3m\u001b[90m<dbl>\u001b[39m\u001b[23m 13.8027, 14.0202, 14.2332, 14.4525, 14.6888, 14.9…\n",
      "$ nbmc_infectiousdaly  \u001b[3m\u001b[90m<dbl>\u001b[39m\u001b[23m 5412.513, 5585.193, 5808.714, 6038.574, 6314.341,…\n",
      "$ nbmc_matmort         \u001b[3m\u001b[90m<dbl>\u001b[39m\u001b[23m 97.0507, 97.9615, 99.0098, 100.1971, 101.5897, 10…\n",
      "$ nbmc_childmort       \u001b[3m\u001b[90m<dbl>\u001b[39m\u001b[23m 26.2493, 27.0843, 27.9841, 28.9533, 30.0464, 31.1…\n",
      "$ nbmc_undernourish    \u001b[3m\u001b[90m<dbl>\u001b[39m\u001b[23m 9.5083, 8.9530, 8.8949, 8.9118, 8.9593, 9.0725, 9…\n",
      "$ nbmc_dietlowfruitveg \u001b[3m\u001b[90m<dbl>\u001b[39m\u001b[23m 52.4891, 52.5851, 52.7105, 52.8507, 53.0054, 53.1…\n",
      "$ ws_washmortdalys     \u001b[3m\u001b[90m<dbl>\u001b[39m\u001b[23m 1110.5481, 1163.1967, 1226.1396, 1257.8374, 1313.…\n",
      "$ ws_sanitation        \u001b[3m\u001b[90m<dbl>\u001b[39m\u001b[23m 0.7853, 0.7724, 0.7550, 0.7559, 0.7462, 0.7339, 0…\n",
      "$ ws_water             \u001b[3m\u001b[90m<dbl>\u001b[39m\u001b[23m 0.9112, 0.9078, 0.9033, 0.9041, 0.9019, 0.8990, 0…\n",
      "$ ws_watersat          \u001b[3m\u001b[90m<dbl>\u001b[39m\u001b[23m 0.7424, 0.7315, 0.7182, 0.6976, 0.6868, 0.6847, 0…\n",
      "$ sh_hhairpolldalys    \u001b[3m\u001b[90m<dbl>\u001b[39m\u001b[23m 1325.6415, 1400.8573, 1465.7838, 1528.8021, 1596.…\n",
      "$ sh_affhousingdissat  \u001b[3m\u001b[90m<dbl>\u001b[39m\u001b[23m 0.3704, 0.3676, 0.3593, 0.3699, 0.3737, 0.3876, 0…\n",
      "$ sh_electricity       \u001b[3m\u001b[90m<dbl>\u001b[39m\u001b[23m 90.0831, 89.5766, 89.1320, 88.1540, 87.2604, 86.1…\n",
      "$ sh_cleanfuels        \u001b[3m\u001b[90m<dbl>\u001b[39m\u001b[23m 65.6136, 64.5201, 63.2636, 62.1685, 61.0557, 59.9…\n",
      "$ ps_politicalkillings \u001b[3m\u001b[90m<dbl>\u001b[39m\u001b[23m 0.5855, 0.5653, 0.5829, 0.5956, 0.6022, 0.6017, 0…\n",
      "$ ps_intpersvioldaly   \u001b[3m\u001b[90m<dbl>\u001b[39m\u001b[23m 341.1930, 348.6951, 350.5466, 349.5562, 355.8503,…\n",
      "$ ps_transportdaly     \u001b[3m\u001b[90m<dbl>\u001b[39m\u001b[23m 995.2075, 1005.0394, 1008.2297, 1023.3297, 1043.7…\n",
      "$ ps_intimpartnviol    \u001b[3m\u001b[90m<dbl>\u001b[39m\u001b[23m 13.2783, 13.3475, 13.4232, 13.4976, 13.5729, 13.6…\n",
      "$ ps_moneystolen       \u001b[3m\u001b[90m<dbl>\u001b[39m\u001b[23m 0.1319, 0.1308, 0.1345, 0.1319, 0.1340, 0.1355, 0…\n",
      "$ abk_qualeduc         \u001b[3m\u001b[90m<dbl>\u001b[39m\u001b[23m 1.5663, 1.6016, 1.6172, 1.6413, 1.6513, 1.6568, 1…\n",
      "$ abk_propnoeduc       \u001b[3m\u001b[90m<dbl>\u001b[39m\u001b[23m 0.1677, 0.1714, 0.1753, 0.1792, 0.1833, 0.1874, 0…\n",
      "$ abk_popsomesec       \u001b[3m\u001b[90m<dbl>\u001b[39m\u001b[23m 59.3857, 59.3257, 58.9104, 58.7618, 57.9001, 57.5…\n",
      "$ abk_totprimenrol     \u001b[3m\u001b[90m<dbl>\u001b[39m\u001b[23m 92.5845, 92.6930, 92.7453, 92.8029, 92.7666, 92.7…\n",
      "$ abk_educpar          \u001b[3m\u001b[90m<dbl>\u001b[39m\u001b[23m 0.1895, 0.1892, 0.1913, 0.1944, 0.2000, 0.2031, 0…\n",
      "$ aic_altinfo          \u001b[3m\u001b[90m<dbl>\u001b[39m\u001b[23m 0.5581, 0.5581, 0.5619, 0.5620, 0.5664, 0.5837, 0…\n",
      "$ aic_mobiles          \u001b[3m\u001b[90m<dbl>\u001b[39m\u001b[23m 105.7527, 106.1647, 103.5512, 102.5812, 100.4686,…\n",
      "$ aic_internet         \u001b[3m\u001b[90m<dbl>\u001b[39m\u001b[23m 58.4423, 52.9280, 48.5497, 45.4282, 42.9375, 39.9…\n",
      "$ aic_eparticip        \u001b[3m\u001b[90m<dbl>\u001b[39m\u001b[23m 0.7534, 0.7550, 0.7725, 0.7738, 0.6500, 0.6513, 0…\n",
      "$ hw_qualityhealth     \u001b[3m\u001b[90m<dbl>\u001b[39m\u001b[23m 1.5816, 1.5880, 1.6693, 1.6806, 1.6953, 1.7167, 1…\n",
      "$ hw_lifex60           \u001b[3m\u001b[90m<dbl>\u001b[39m\u001b[23m 20.3304, 20.2712, 20.2290, 20.1313, 20.0435, 19.9…\n",
      "$ hw_ncdmort           \u001b[3m\u001b[90m<dbl>\u001b[39m\u001b[23m 374.7873, 380.2000, 386.0096, 392.0828, 398.3793,…\n",
      "$ hw_univhealthcov     \u001b[3m\u001b[90m<dbl>\u001b[39m\u001b[23m 66.4853, 66.0378, 65.5144, 64.9584, 64.5299, 64.2…\n",
      "$ hw_qualhealthsat     \u001b[3m\u001b[90m<dbl>\u001b[39m\u001b[23m 0.6394, 0.6381, 0.6359, 0.6232, 0.6110, 0.5961, 0…\n",
      "$ eq_airpolldalys      \u001b[3m\u001b[90m<dbl>\u001b[39m\u001b[23m 1564.3610, 1551.2358, 1555.8151, 1599.3593, 1647.…\n",
      "$ eq_leadexpdalys      \u001b[3m\u001b[90m<dbl>\u001b[39m\u001b[23m 326.7876, 333.9709, 341.1407, 349.1149, 356.5378,…\n",
      "$ eq_pm25              \u001b[3m\u001b[90m<dbl>\u001b[39m\u001b[23m 45.7065, 45.6731, 45.6643, 45.3535, 47.3430, 45.9…\n",
      "$ eq_spindex           \u001b[3m\u001b[90m<dbl>\u001b[39m\u001b[23m 61.1883, 61.1169, 60.9789, 60.8695, 60.7703, 60.7…\n",
      "$ pr_freerelig         \u001b[3m\u001b[90m<dbl>\u001b[39m\u001b[23m 2.4025, 2.4020, 2.4122, 2.4692, 2.4784, 2.5806, 2…\n",
      "$ pr_proprightswomen   \u001b[3m\u001b[90m<dbl>\u001b[39m\u001b[23m 3.9055, 3.8970, 3.9027, 3.8866, 3.8830, 3.8944, 3…\n",
      "$ pr_peaceassemb       \u001b[3m\u001b[90m<dbl>\u001b[39m\u001b[23m 1.9866, 2.0530, 2.1117, 2.1161, 2.1515, 2.1745, 2…\n",
      "$ pr_accessjustice     \u001b[3m\u001b[90m<dbl>\u001b[39m\u001b[23m 0.5941, 0.5831, 0.5916, 0.5914, 0.5999, 0.5998, 0…\n",
      "$ pr_freediscuss       \u001b[3m\u001b[90m<dbl>\u001b[39m\u001b[23m 0.5978, 0.5849, 0.5917, 0.6027, 0.6100, 0.6179, 0…\n",
      "$ pr_polrights         \u001b[3m\u001b[90m<dbl>\u001b[39m\u001b[23m 19.2707, 19.6530, 19.9072, 20.2304, 20.4150, 20.9…\n",
      "$ pfc_freedomestmov    \u001b[3m\u001b[90m<dbl>\u001b[39m\u001b[23m 0.6054, 0.5953, 0.6169, 0.6535, 0.6467, 0.6577, 0…\n",
      "$ pfc_earlymarriage    \u001b[3m\u001b[90m<dbl>\u001b[39m\u001b[23m 10.3461, 10.5139, 10.6854, 10.8554, 11.0282, 11.2…\n",
      "$ pfc_contracept       \u001b[3m\u001b[90m<dbl>\u001b[39m\u001b[23m 74.4316, 74.1702, 73.9048, 73.6566, 73.3902, 73.2…\n",
      "$ pfc_neet             \u001b[3m\u001b[90m<dbl>\u001b[39m\u001b[23m 22.2264, 20.7324, 20.9768, 20.9641, 20.9421, 20.9…\n",
      "$ pfc_vulnemploy       \u001b[3m\u001b[90m<dbl>\u001b[39m\u001b[23m 46.2278, 46.5302, 46.9376, 47.2727, 47.5735, 47.9…\n",
      "$ pfc_corruption       \u001b[3m\u001b[90m<dbl>\u001b[39m\u001b[23m 41.1208, 40.7652, 40.8253, 40.4453, 40.9192, 40.6…\n",
      "$ incl_equalprotect    \u001b[3m\u001b[90m<dbl>\u001b[39m\u001b[23m 0.5141, 0.5096, 0.5183, 0.5462, 0.5550, 0.5578, 0…\n",
      "$ incl_equalaccess     \u001b[3m\u001b[90m<dbl>\u001b[39m\u001b[23m 0.5446, 0.5460, 0.5225, 0.5603, 0.5557, 0.5666, 0…\n",
      "$ incl_sexualorient    \u001b[3m\u001b[90m<dbl>\u001b[39m\u001b[23m 0.8111, 0.7890, 0.7612, 0.8102, 0.7837, 0.8245, 0…\n",
      "$ incl_accpubsersocgr  \u001b[3m\u001b[90m<dbl>\u001b[39m\u001b[23m 1.9767, 1.9979, 2.0361, 2.0183, 2.0772, 2.0809, 2…\n",
      "$ incl_gayslesb        \u001b[3m\u001b[90m<dbl>\u001b[39m\u001b[23m 0.4127, 0.3851, 0.3506, 0.3064, 0.2839, 0.2645, 0…\n",
      "$ incl_discrimin       \u001b[3m\u001b[90m<dbl>\u001b[39m\u001b[23m 7.1472, 7.3180, 7.2646, 7.4035, 7.5010, 7.5329, 7…\n",
      "$ aae_acadfreed        \u001b[3m\u001b[90m<dbl>\u001b[39m\u001b[23m 0.4374, 0.4784, 0.4647, 0.4733, 0.4836, 0.4861, 0…\n",
      "$ aae_femterteduc      \u001b[3m\u001b[90m<dbl>\u001b[39m\u001b[23m 0.3450, 0.3342, 0.3235, 0.3132, 0.3032, 0.2936, 0…\n",
      "$ aae_tertschlife      \u001b[3m\u001b[90m<dbl>\u001b[39m\u001b[23m 2.1666, 2.1218, 2.0671, 2.0268, 2.0050, 1.9681, 1…\n",
      "$ aae_citabledocs      \u001b[3m\u001b[90m<dbl>\u001b[39m\u001b[23m 0.5862, 0.5438, 0.5146, 0.4859, 0.4609, 0.4489, 0…\n",
      "$ aae_qualuniversities \u001b[3m\u001b[90m<dbl>\u001b[39m\u001b[23m 217.6475, 225.5760, 211.4173, 203.6117, 185.5802,…\n"
     ]
    }
   ],
   "source": [
    "data |> glimpse()"
   ]
  },
  {
   "attachments": {},
   "cell_type": "markdown",
   "metadata": {},
   "source": [
    "Muestra de datos:"
   ]
  },
  {
   "cell_type": "code",
   "execution_count": 11,
   "metadata": {
    "vscode": {
     "languageId": "r"
    }
   },
   "outputs": [
    {
     "data": {
      "text/html": [
       "<table class=\"dataframe\">\n",
       "<caption>A tibble: 5 x 81</caption>\n",
       "<thead>\n",
       "\t<tr><th scope=col>rank_score_spi</th><th scope=col>country</th><th scope=col>spicountrycode</th><th scope=col>spiyear</th><th scope=col>status</th><th scope=col>score_spi</th><th scope=col>score_bhn</th><th scope=col>score_fow</th><th scope=col>score_opp</th><th scope=col>score_nbmc</th><th scope=col>...</th><th scope=col>incl_equalaccess</th><th scope=col>incl_sexualorient</th><th scope=col>incl_accpubsersocgr</th><th scope=col>incl_gayslesb</th><th scope=col>incl_discrimin</th><th scope=col>aae_acadfreed</th><th scope=col>aae_femterteduc</th><th scope=col>aae_tertschlife</th><th scope=col>aae_citabledocs</th><th scope=col>aae_qualuniversities</th></tr>\n",
       "\t<tr><th scope=col>&lt;dbl&gt;</th><th scope=col>&lt;chr&gt;</th><th scope=col>&lt;chr&gt;</th><th scope=col>&lt;dbl&gt;</th><th scope=col>&lt;chr&gt;</th><th scope=col>&lt;dbl&gt;</th><th scope=col>&lt;dbl&gt;</th><th scope=col>&lt;dbl&gt;</th><th scope=col>&lt;dbl&gt;</th><th scope=col>&lt;dbl&gt;</th><th scope=col>...</th><th scope=col>&lt;dbl&gt;</th><th scope=col>&lt;dbl&gt;</th><th scope=col>&lt;dbl&gt;</th><th scope=col>&lt;dbl&gt;</th><th scope=col>&lt;dbl&gt;</th><th scope=col>&lt;dbl&gt;</th><th scope=col>&lt;dbl&gt;</th><th scope=col>&lt;dbl&gt;</th><th scope=col>&lt;dbl&gt;</th><th scope=col>&lt;dbl&gt;</th></tr>\n",
       "</thead>\n",
       "<tbody>\n",
       "\t<tr><td>NA</td><td>World</td><td>WWW</td><td>2022</td><td>NA</td><td>65.24</td><td>75.80</td><td>63.62</td><td>56.28</td><td>82.09</td><td>...</td><td>0.5446</td><td>0.8111</td><td>1.9767</td><td>0.4127</td><td>7.1472</td><td>0.4374</td><td>0.3450</td><td>2.1666</td><td>0.5862</td><td>217.6475</td></tr>\n",
       "\t<tr><td>NA</td><td>World</td><td>WWW</td><td>2021</td><td>NA</td><td>64.87</td><td>75.35</td><td>63.18</td><td>56.07</td><td>82.01</td><td>...</td><td>0.5460</td><td>0.7890</td><td>1.9979</td><td>0.3851</td><td>7.3180</td><td>0.4784</td><td>0.3342</td><td>2.1218</td><td>0.5438</td><td>225.5760</td></tr>\n",
       "\t<tr><td>NA</td><td>World</td><td>WWW</td><td>2020</td><td>NA</td><td>64.55</td><td>74.91</td><td>62.91</td><td>55.83</td><td>81.79</td><td>...</td><td>0.5225</td><td>0.7612</td><td>2.0361</td><td>0.3506</td><td>7.2646</td><td>0.4647</td><td>0.3235</td><td>2.0671</td><td>0.5146</td><td>211.4173</td></tr>\n",
       "\t<tr><td>NA</td><td>World</td><td>WWW</td><td>2019</td><td>NA</td><td>64.31</td><td>74.48</td><td>62.46</td><td>55.98</td><td>81.53</td><td>...</td><td>0.5603</td><td>0.8102</td><td>2.0183</td><td>0.3064</td><td>7.4035</td><td>0.4733</td><td>0.3132</td><td>2.0268</td><td>0.4859</td><td>203.6117</td></tr>\n",
       "\t<tr><td>NA</td><td>World</td><td>WWW</td><td>2018</td><td>NA</td><td>63.62</td><td>73.98</td><td>61.03</td><td>55.84</td><td>81.23</td><td>...</td><td>0.5557</td><td>0.7837</td><td>2.0772</td><td>0.2839</td><td>7.5010</td><td>0.4836</td><td>0.3032</td><td>2.0050</td><td>0.4609</td><td>185.5802</td></tr>\n",
       "</tbody>\n",
       "</table>\n"
      ],
      "text/latex": [
       "A tibble: 5 x 81\n",
       "\\begin{tabular}{lllllllllllllllllllll}\n",
       " rank\\_score\\_spi & country & spicountrycode & spiyear & status & score\\_spi & score\\_bhn & score\\_fow & score\\_opp & score\\_nbmc & ... & incl\\_equalaccess & incl\\_sexualorient & incl\\_accpubsersocgr & incl\\_gayslesb & incl\\_discrimin & aae\\_acadfreed & aae\\_femterteduc & aae\\_tertschlife & aae\\_citabledocs & aae\\_qualuniversities\\\\\n",
       " <dbl> & <chr> & <chr> & <dbl> & <chr> & <dbl> & <dbl> & <dbl> & <dbl> & <dbl> & ... & <dbl> & <dbl> & <dbl> & <dbl> & <dbl> & <dbl> & <dbl> & <dbl> & <dbl> & <dbl>\\\\\n",
       "\\hline\n",
       "\t NA & World & WWW & 2022 & NA & 65.24 & 75.80 & 63.62 & 56.28 & 82.09 & ... & 0.5446 & 0.8111 & 1.9767 & 0.4127 & 7.1472 & 0.4374 & 0.3450 & 2.1666 & 0.5862 & 217.6475\\\\\n",
       "\t NA & World & WWW & 2021 & NA & 64.87 & 75.35 & 63.18 & 56.07 & 82.01 & ... & 0.5460 & 0.7890 & 1.9979 & 0.3851 & 7.3180 & 0.4784 & 0.3342 & 2.1218 & 0.5438 & 225.5760\\\\\n",
       "\t NA & World & WWW & 2020 & NA & 64.55 & 74.91 & 62.91 & 55.83 & 81.79 & ... & 0.5225 & 0.7612 & 2.0361 & 0.3506 & 7.2646 & 0.4647 & 0.3235 & 2.0671 & 0.5146 & 211.4173\\\\\n",
       "\t NA & World & WWW & 2019 & NA & 64.31 & 74.48 & 62.46 & 55.98 & 81.53 & ... & 0.5603 & 0.8102 & 2.0183 & 0.3064 & 7.4035 & 0.4733 & 0.3132 & 2.0268 & 0.4859 & 203.6117\\\\\n",
       "\t NA & World & WWW & 2018 & NA & 63.62 & 73.98 & 61.03 & 55.84 & 81.23 & ... & 0.5557 & 0.7837 & 2.0772 & 0.2839 & 7.5010 & 0.4836 & 0.3032 & 2.0050 & 0.4609 & 185.5802\\\\\n",
       "\\end{tabular}\n"
      ],
      "text/markdown": [
       "\n",
       "A tibble: 5 x 81\n",
       "\n",
       "| rank_score_spi &lt;dbl&gt; | country &lt;chr&gt; | spicountrycode &lt;chr&gt; | spiyear &lt;dbl&gt; | status &lt;chr&gt; | score_spi &lt;dbl&gt; | score_bhn &lt;dbl&gt; | score_fow &lt;dbl&gt; | score_opp &lt;dbl&gt; | score_nbmc &lt;dbl&gt; | ... ... | incl_equalaccess &lt;dbl&gt; | incl_sexualorient &lt;dbl&gt; | incl_accpubsersocgr &lt;dbl&gt; | incl_gayslesb &lt;dbl&gt; | incl_discrimin &lt;dbl&gt; | aae_acadfreed &lt;dbl&gt; | aae_femterteduc &lt;dbl&gt; | aae_tertschlife &lt;dbl&gt; | aae_citabledocs &lt;dbl&gt; | aae_qualuniversities &lt;dbl&gt; |\n",
       "|---|---|---|---|---|---|---|---|---|---|---|---|---|---|---|---|---|---|---|---|---|\n",
       "| NA | World | WWW | 2022 | NA | 65.24 | 75.80 | 63.62 | 56.28 | 82.09 | ... | 0.5446 | 0.8111 | 1.9767 | 0.4127 | 7.1472 | 0.4374 | 0.3450 | 2.1666 | 0.5862 | 217.6475 |\n",
       "| NA | World | WWW | 2021 | NA | 64.87 | 75.35 | 63.18 | 56.07 | 82.01 | ... | 0.5460 | 0.7890 | 1.9979 | 0.3851 | 7.3180 | 0.4784 | 0.3342 | 2.1218 | 0.5438 | 225.5760 |\n",
       "| NA | World | WWW | 2020 | NA | 64.55 | 74.91 | 62.91 | 55.83 | 81.79 | ... | 0.5225 | 0.7612 | 2.0361 | 0.3506 | 7.2646 | 0.4647 | 0.3235 | 2.0671 | 0.5146 | 211.4173 |\n",
       "| NA | World | WWW | 2019 | NA | 64.31 | 74.48 | 62.46 | 55.98 | 81.53 | ... | 0.5603 | 0.8102 | 2.0183 | 0.3064 | 7.4035 | 0.4733 | 0.3132 | 2.0268 | 0.4859 | 203.6117 |\n",
       "| NA | World | WWW | 2018 | NA | 63.62 | 73.98 | 61.03 | 55.84 | 81.23 | ... | 0.5557 | 0.7837 | 2.0772 | 0.2839 | 7.5010 | 0.4836 | 0.3032 | 2.0050 | 0.4609 | 185.5802 |\n",
       "\n"
      ],
      "text/plain": [
       "  rank_score_spi country spicountrycode spiyear status score_spi score_bhn\n",
       "1 NA             World   WWW            2022    NA     65.24     75.80    \n",
       "2 NA             World   WWW            2021    NA     64.87     75.35    \n",
       "3 NA             World   WWW            2020    NA     64.55     74.91    \n",
       "4 NA             World   WWW            2019    NA     64.31     74.48    \n",
       "5 NA             World   WWW            2018    NA     63.62     73.98    \n",
       "  score_fow score_opp score_nbmc ... incl_equalaccess incl_sexualorient\n",
       "1 63.62     56.28     82.09      ... 0.5446           0.8111           \n",
       "2 63.18     56.07     82.01      ... 0.5460           0.7890           \n",
       "3 62.91     55.83     81.79      ... 0.5225           0.7612           \n",
       "4 62.46     55.98     81.53      ... 0.5603           0.8102           \n",
       "5 61.03     55.84     81.23      ... 0.5557           0.7837           \n",
       "  incl_accpubsersocgr incl_gayslesb incl_discrimin aae_acadfreed\n",
       "1 1.9767              0.4127        7.1472         0.4374       \n",
       "2 1.9979              0.3851        7.3180         0.4784       \n",
       "3 2.0361              0.3506        7.2646         0.4647       \n",
       "4 2.0183              0.3064        7.4035         0.4733       \n",
       "5 2.0772              0.2839        7.5010         0.4836       \n",
       "  aae_femterteduc aae_tertschlife aae_citabledocs aae_qualuniversities\n",
       "1 0.3450          2.1666          0.5862          217.6475            \n",
       "2 0.3342          2.1218          0.5438          225.5760            \n",
       "3 0.3235          2.0671          0.5146          211.4173            \n",
       "4 0.3132          2.0268          0.4859          203.6117            \n",
       "5 0.3032          2.0050          0.4609          185.5802            "
      ]
     },
     "metadata": {},
     "output_type": "display_data"
    }
   ],
   "source": [
    "data |> slice_head(n = 5)"
   ]
  },
  {
   "attachments": {},
   "cell_type": "markdown",
   "metadata": {},
   "source": [
    "* Obtenemos una segunda parte de los metadatos"
   ]
  },
  {
   "cell_type": "code",
   "execution_count": 12,
   "metadata": {
    "vscode": {
     "languageId": "r"
    }
   },
   "outputs": [],
   "source": [
    "metadata_02 <- read_excel(file_data, \n",
    "                         sheet = \"DEFINITIONS\") |> \n",
    "  drop_na(`Indicator name`)"
   ]
  },
  {
   "cell_type": "markdown",
   "metadata": {
    "slideshow": {
     "slide_type": "slide"
    }
   },
   "source": [
    "## ETL Processes"
   ]
  },
  {
   "attachments": {},
   "cell_type": "markdown",
   "metadata": {
    "slideshow": {
     "slide_type": "slide"
    }
   },
   "source": [
    "### Import data from: CSV, Excel, Tab, JSON, SQL, and Parquet files\n",
    "\n",
    "Se han importado en el apartado Data Load anterior:\n",
    "\n",
    "* Datos de índices\n",
    "* Metadatos de índices (diccionario de datos)"
   ]
  },
  {
   "attachments": {},
   "cell_type": "markdown",
   "metadata": {},
   "source": [
    "Incluir apartados si procede para: Extracción de datos (select, filter), Transformación de datos, (mutate, joins, ...). Si es necesario tratar datos perdidos, indicarlo también en NB 09.2"
   ]
  },
  {
   "attachments": {},
   "cell_type": "markdown",
   "metadata": {},
   "source": [
    "Si no aplica: Estos datos no requieren tareas de este tipo."
   ]
  },
  {
   "attachments": {},
   "cell_type": "markdown",
   "metadata": {},
   "source": [
    "#### Data transformation"
   ]
  },
  {
   "attachments": {},
   "cell_type": "markdown",
   "metadata": {},
   "source": [
    "* Transformar metadatos:\n",
    "    - Eliminar saltos de línea\n",
    "    - Separar unidades\n",
    "    - Sustituir & por and\n",
    "    - Unir dimensiones\n",
    "    - Añadir indicador del rol del valor"
   ]
  },
  {
   "cell_type": "code",
   "execution_count": 13,
   "metadata": {
    "vscode": {
     "languageId": "r"
    }
   },
   "outputs": [
    {
     "name": "stderr",
     "output_type": "stream",
     "text": [
      "Warning message:\n",
      "“\u001b[1m\u001b[22mExpected 2 pieces. Missing pieces filled with `NA` in 21 rows [1, 2, 3, 4, 5,\n",
      "6, 7, 8, 9, 10, 11, 12, 13, 14, 15, 16, 17, 18, 19, 20, ...].”\n"
     ]
    }
   ],
   "source": [
    "tmetadata <- metadata_01 |> \n",
    "  mutate(name_var = str_remove_all(name_var, \"\\\\r\\\\n\")) |> \n",
    "  separate(name_var, into = c(\"name_var\", \"tmp_units\"), sep = \" \\\\(\") |>  \n",
    "  mutate(name_var = str_trim(name_var)) |> \n",
    "  mutate(name_var = str_replace_all(name_var, \"\\\\&\", \"and\")) |> \n",
    "  select(-tmp_units) |> \n",
    "  mutate(name_var = str_to_sentence(name_var)) |> \n",
    "  left_join(metadata_02 |> select(`Indicator name`, Dimension, \n",
    "                                 Component, `Unit of measurement`,\n",
    "                                 Definition, Source), \n",
    "            by = c(\"name_var\" = \"Indicator name\")) |> \n",
    "  mutate(role = c(rep(\"aux\", 5), \"SPI\", \n",
    "                  rep(\"Dimension\", 3),\n",
    "                  rep(\"Component\", 3*4),\n",
    "                  rep(\"Indicator\", 60)),\n",
    "         .after = \"name_var\")"
   ]
  },
  {
   "cell_type": "code",
   "execution_count": 14,
   "metadata": {
    "vscode": {
     "languageId": "r"
    }
   },
   "outputs": [
    {
     "name": "stdout",
     "output_type": "stream",
     "text": [
      "Rows: 81\n",
      "Columns: 8\n",
      "$ id_var                \u001b[3m\u001b[90m<chr>\u001b[39m\u001b[23m \"rank_score_spi\", \"country\", \"spicountrycode\", \"…\n",
      "$ name_var              \u001b[3m\u001b[90m<chr>\u001b[39m\u001b[23m \"Spi rank\", \"Country\", \"Spi country code\", \"Spi …\n",
      "$ role                  \u001b[3m\u001b[90m<chr>\u001b[39m\u001b[23m \"aux\", \"aux\", \"aux\", \"aux\", \"aux\", \"SPI\", \"Dimen…\n",
      "$ Dimension             \u001b[3m\u001b[90m<chr>\u001b[39m\u001b[23m NA, NA, NA, NA, NA, NA, NA, NA, NA, NA, NA, NA, …\n",
      "$ Component             \u001b[3m\u001b[90m<chr>\u001b[39m\u001b[23m NA, NA, NA, NA, NA, NA, NA, NA, NA, NA, NA, NA, …\n",
      "$ `Unit of measurement` \u001b[3m\u001b[90m<chr>\u001b[39m\u001b[23m NA, NA, NA, NA, NA, NA, NA, NA, NA, NA, NA, NA, …\n",
      "$ Definition            \u001b[3m\u001b[90m<chr>\u001b[39m\u001b[23m NA, NA, NA, NA, NA, NA, NA, NA, NA, NA, NA, NA, …\n",
      "$ Source                \u001b[3m\u001b[90m<chr>\u001b[39m\u001b[23m NA, NA, NA, NA, NA, NA, NA, NA, NA, NA, NA, NA, …\n"
     ]
    }
   ],
   "source": [
    "tmetadata |> glimpse()"
   ]
  },
  {
   "cell_type": "code",
   "execution_count": 15,
   "metadata": {
    "vscode": {
     "languageId": "r"
    }
   },
   "outputs": [
    {
     "data": {
      "text/html": [
       "<table class=\"dataframe\">\n",
       "<caption>A data.frame: 8 x 8</caption>\n",
       "<thead>\n",
       "\t<tr><th scope=col>id_var</th><th scope=col>name_var</th><th scope=col>role</th><th scope=col>Dimension</th><th scope=col>Component</th><th scope=col>Unit of measurement</th><th scope=col>Definition</th><th scope=col>Source</th></tr>\n",
       "\t<tr><th scope=col>&lt;chr&gt;</th><th scope=col>&lt;chr&gt;</th><th scope=col>&lt;chr&gt;</th><th scope=col>&lt;chr&gt;</th><th scope=col>&lt;chr&gt;</th><th scope=col>&lt;chr&gt;</th><th scope=col>&lt;chr&gt;</th><th scope=col>&lt;chr&gt;</th></tr>\n",
       "</thead>\n",
       "<tbody>\n",
       "\t<tr><td>rank_score_spi     </td><td>Spi rank               </td><td>aux      </td><td>NA               </td><td>NA                              </td><td>NA                          </td><td>NA                                                                                                                                                                                                                                                                                                                                                                                                                                                                                                                                                                                                                                                                                         </td><td>NA                                                     </td></tr>\n",
       "\t<tr><td>country            </td><td>Country                </td><td>aux      </td><td>NA               </td><td>NA                              </td><td>NA                          </td><td>NA                                                                                                                                                                                                                                                                                                                                                                                                                                                                                                                                                                                                                                                                                         </td><td>NA                                                     </td></tr>\n",
       "\t<tr><td>spicountrycode     </td><td>Spi country code       </td><td>aux      </td><td>NA               </td><td>NA                              </td><td>NA                          </td><td>NA                                                                                                                                                                                                                                                                                                                                                                                                                                                                                                                                                                                                                                                                                         </td><td>NA                                                     </td></tr>\n",
       "\t<tr><td>nbmc_stunting      </td><td>Child stunting         </td><td>Indicator</td><td>Basic Human Needs</td><td>Nutrition and Basic Medical Care</td><td>(0=low risk; 100=high risk) </td><td>Risk-weighted prevalence of stunting in children under 5 as measured by the summary exposure value (SEV) for child stunting.                                                                                                                                                                                                                                                                                                                                                                                                                                                                                                                                                               </td><td>Institute for Health Metrics and Evaluation            </td></tr>\n",
       "\t<tr><td>nbmc_infectiousdaly</td><td>Infectious diseases    </td><td>Indicator</td><td>Basic Human Needs</td><td>Nutrition and Basic Medical Care</td><td>(DALYs/100,000)             </td><td>Age-standardized Disability-Adjusted Life Years (DALYs) rate caused by HIV/AIDS, tuberculosis, diarrhea, intestinal infections, respiratory infections, otitis media, meningitis, encephalitis, diptheria, whooping cough, tetanus, measles, varicella, herpes zoster, malaria, Chagas disease, leishmaniasis, typanosomiasis, schistosomiasis, cysticercosis, cycstic echinococcosis, lymphatic filariasis, onchocerciasis, trachoma, dengue, yellow feber, rabies, intestinal nematode infections, food-borne trematodiases, leprosy, ebola, zika virus, guinea worm disease, sexually transmitted diseases (excluding HIV), hepatitis, and other infectious diseases per 100,000 people.</td><td>Institute for Health Metrics and Evaluation            </td></tr>\n",
       "\t<tr><td>nbmc_matmort       </td><td>Maternal mortality rate</td><td>Indicator</td><td>Basic Human Needs</td><td>Nutrition and Basic Medical Care</td><td>(deaths/100,000 live births)</td><td>Maternal deaths per 100,000 livebirths in women aged 10-54 years.                                                                                                                                                                                                                                                                                                                                                                                                                                                                                                                                                                                                                          </td><td>Institute for Health Metrics and Evaluation            </td></tr>\n",
       "\t<tr><td>nbmc_childmort     </td><td>Child mortality rate   </td><td>Indicator</td><td>Basic Human Needs</td><td>Nutrition and Basic Medical Care</td><td>(deaths/1,000 live births)  </td><td>Probability of dying between birth and exactly 5 years of age, expressed per 1,000 live births.                                                                                                                                                                                                                                                                                                                                                                                                                                                                                                                                                                                            </td><td>UN Inter-agency Group for Child Mortality Estimation   </td></tr>\n",
       "\t<tr><td>nbmc_undernourish  </td><td>Undernourishment       </td><td>Indicator</td><td>Basic Human Needs</td><td>Nutrition and Basic Medical Care</td><td>(% of pop.)                 </td><td>The prevalence of undernourishment expresses the probability that a randomly selected individual from the population consumes an amount of calories that is insufficient to cover her/his energy requirement for an active and healthy life. The indicator is computed by comparing a probability distribution of habitual daily dietary energy consumption with a threshold level called the minimum dietary energy requirement. Both are based on the notion of an average individual in the reference population.                                                                                                                                                                       </td><td>Food and Agriculture Organization of the United Nations</td></tr>\n",
       "</tbody>\n",
       "</table>\n"
      ],
      "text/latex": [
       "A data.frame: 8 x 8\n",
       "\\begin{tabular}{llllllll}\n",
       " id\\_var & name\\_var & role & Dimension & Component & Unit of measurement & Definition & Source\\\\\n",
       " <chr> & <chr> & <chr> & <chr> & <chr> & <chr> & <chr> & <chr>\\\\\n",
       "\\hline\n",
       "\t rank\\_score\\_spi      & Spi rank                & aux       & NA                & NA                               & NA                           & NA                                                                                                                                                                                                                                                                                                                                                                                                                                                                                                                                                                                                                                                                                          & NA                                                     \\\\\n",
       "\t country             & Country                 & aux       & NA                & NA                               & NA                           & NA                                                                                                                                                                                                                                                                                                                                                                                                                                                                                                                                                                                                                                                                                          & NA                                                     \\\\\n",
       "\t spicountrycode      & Spi country code        & aux       & NA                & NA                               & NA                           & NA                                                                                                                                                                                                                                                                                                                                                                                                                                                                                                                                                                                                                                                                                          & NA                                                     \\\\\n",
       "\t nbmc\\_stunting       & Child stunting          & Indicator & Basic Human Needs & Nutrition and Basic Medical Care & (0=low risk; 100=high risk)  & Risk-weighted prevalence of stunting in children under 5 as measured by the summary exposure value (SEV) for child stunting.                                                                                                                                                                                                                                                                                                                                                                                                                                                                                                                                                                & Institute for Health Metrics and Evaluation            \\\\\n",
       "\t nbmc\\_infectiousdaly & Infectious diseases     & Indicator & Basic Human Needs & Nutrition and Basic Medical Care & (DALYs/100,000)              & Age-standardized Disability-Adjusted Life Years (DALYs) rate caused by HIV/AIDS, tuberculosis, diarrhea, intestinal infections, respiratory infections, otitis media, meningitis, encephalitis, diptheria, whooping cough, tetanus, measles, varicella, herpes zoster, malaria, Chagas disease, leishmaniasis, typanosomiasis, schistosomiasis, cysticercosis, cycstic echinococcosis, lymphatic filariasis, onchocerciasis, trachoma, dengue, yellow feber, rabies, intestinal nematode infections, food-borne trematodiases, leprosy, ebola, zika virus, guinea worm disease, sexually transmitted diseases (excluding HIV), hepatitis, and other infectious diseases per 100,000 people. & Institute for Health Metrics and Evaluation            \\\\\n",
       "\t nbmc\\_matmort        & Maternal mortality rate & Indicator & Basic Human Needs & Nutrition and Basic Medical Care & (deaths/100,000 live births) & Maternal deaths per 100,000 livebirths in women aged 10-54 years.                                                                                                                                                                                                                                                                                                                                                                                                                                                                                                                                                                                                                           & Institute for Health Metrics and Evaluation            \\\\\n",
       "\t nbmc\\_childmort      & Child mortality rate    & Indicator & Basic Human Needs & Nutrition and Basic Medical Care & (deaths/1,000 live births)   & Probability of dying between birth and exactly 5 years of age, expressed per 1,000 live births.                                                                                                                                                                                                                                                                                                                                                                                                                                                                                                                                                                                             & UN Inter-agency Group for Child Mortality Estimation   \\\\\n",
       "\t nbmc\\_undernourish   & Undernourishment        & Indicator & Basic Human Needs & Nutrition and Basic Medical Care & (\\% of pop.)                  & The prevalence of undernourishment expresses the probability that a randomly selected individual from the population consumes an amount of calories that is insufficient to cover her/his energy requirement for an active and healthy life. The indicator is computed by comparing a probability distribution of habitual daily dietary energy consumption with a threshold level called the minimum dietary energy requirement. Both are based on the notion of an average individual in the reference population.                                                                                                                                                                        & Food and Agriculture Organization of the United Nations\\\\\n",
       "\\end{tabular}\n"
      ],
      "text/markdown": [
       "\n",
       "A data.frame: 8 x 8\n",
       "\n",
       "| id_var &lt;chr&gt; | name_var &lt;chr&gt; | role &lt;chr&gt; | Dimension &lt;chr&gt; | Component &lt;chr&gt; | Unit of measurement &lt;chr&gt; | Definition &lt;chr&gt; | Source &lt;chr&gt; |\n",
       "|---|---|---|---|---|---|---|---|\n",
       "| rank_score_spi      | Spi rank                | aux       | NA                | NA                               | NA                           | NA                                                                                                                                                                                                                                                                                                                                                                                                                                                                                                                                                                                                                                                                                          | NA                                                      |\n",
       "| country             | Country                 | aux       | NA                | NA                               | NA                           | NA                                                                                                                                                                                                                                                                                                                                                                                                                                                                                                                                                                                                                                                                                          | NA                                                      |\n",
       "| spicountrycode      | Spi country code        | aux       | NA                | NA                               | NA                           | NA                                                                                                                                                                                                                                                                                                                                                                                                                                                                                                                                                                                                                                                                                          | NA                                                      |\n",
       "| nbmc_stunting       | Child stunting          | Indicator | Basic Human Needs | Nutrition and Basic Medical Care | (0=low risk; 100=high risk)  | Risk-weighted prevalence of stunting in children under 5 as measured by the summary exposure value (SEV) for child stunting.                                                                                                                                                                                                                                                                                                                                                                                                                                                                                                                                                                | Institute for Health Metrics and Evaluation             |\n",
       "| nbmc_infectiousdaly | Infectious diseases     | Indicator | Basic Human Needs | Nutrition and Basic Medical Care | (DALYs/100,000)              | Age-standardized Disability-Adjusted Life Years (DALYs) rate caused by HIV/AIDS, tuberculosis, diarrhea, intestinal infections, respiratory infections, otitis media, meningitis, encephalitis, diptheria, whooping cough, tetanus, measles, varicella, herpes zoster, malaria, Chagas disease, leishmaniasis, typanosomiasis, schistosomiasis, cysticercosis, cycstic echinococcosis, lymphatic filariasis, onchocerciasis, trachoma, dengue, yellow feber, rabies, intestinal nematode infections, food-borne trematodiases, leprosy, ebola, zika virus, guinea worm disease, sexually transmitted diseases (excluding HIV), hepatitis, and other infectious diseases per 100,000 people. | Institute for Health Metrics and Evaluation             |\n",
       "| nbmc_matmort        | Maternal mortality rate | Indicator | Basic Human Needs | Nutrition and Basic Medical Care | (deaths/100,000 live births) | Maternal deaths per 100,000 livebirths in women aged 10-54 years.                                                                                                                                                                                                                                                                                                                                                                                                                                                                                                                                                                                                                           | Institute for Health Metrics and Evaluation             |\n",
       "| nbmc_childmort      | Child mortality rate    | Indicator | Basic Human Needs | Nutrition and Basic Medical Care | (deaths/1,000 live births)   | Probability of dying between birth and exactly 5 years of age, expressed per 1,000 live births.                                                                                                                                                                                                                                                                                                                                                                                                                                                                                                                                                                                             | UN Inter-agency Group for Child Mortality Estimation    |\n",
       "| nbmc_undernourish   | Undernourishment        | Indicator | Basic Human Needs | Nutrition and Basic Medical Care | (% of pop.)                  | The prevalence of undernourishment expresses the probability that a randomly selected individual from the population consumes an amount of calories that is insufficient to cover her/his energy requirement for an active and healthy life. The indicator is computed by comparing a probability distribution of habitual daily dietary energy consumption with a threshold level called the minimum dietary energy requirement. Both are based on the notion of an average individual in the reference population.                                                                                                                                                                        | Food and Agriculture Organization of the United Nations |\n",
       "\n"
      ],
      "text/plain": [
       "  id_var              name_var                role      Dimension        \n",
       "1 rank_score_spi      Spi rank                aux       NA               \n",
       "2 country             Country                 aux       NA               \n",
       "3 spicountrycode      Spi country code        aux       NA               \n",
       "4 nbmc_stunting       Child stunting          Indicator Basic Human Needs\n",
       "5 nbmc_infectiousdaly Infectious diseases     Indicator Basic Human Needs\n",
       "6 nbmc_matmort        Maternal mortality rate Indicator Basic Human Needs\n",
       "7 nbmc_childmort      Child mortality rate    Indicator Basic Human Needs\n",
       "8 nbmc_undernourish   Undernourishment        Indicator Basic Human Needs\n",
       "  Component                        Unit of measurement         \n",
       "1 NA                               NA                          \n",
       "2 NA                               NA                          \n",
       "3 NA                               NA                          \n",
       "4 Nutrition and Basic Medical Care (0=low risk; 100=high risk) \n",
       "5 Nutrition and Basic Medical Care (DALYs/100,000)             \n",
       "6 Nutrition and Basic Medical Care (deaths/100,000 live births)\n",
       "7 Nutrition and Basic Medical Care (deaths/1,000 live births)  \n",
       "8 Nutrition and Basic Medical Care (% of pop.)                 \n",
       "  Definition                                                                                                                                                                                                                                                                                                                                                                                                                                                                                                                                                                                                                                                                                 \n",
       "1 NA                                                                                                                                                                                                                                                                                                                                                                                                                                                                                                                                                                                                                                                                                         \n",
       "2 NA                                                                                                                                                                                                                                                                                                                                                                                                                                                                                                                                                                                                                                                                                         \n",
       "3 NA                                                                                                                                                                                                                                                                                                                                                                                                                                                                                                                                                                                                                                                                                         \n",
       "4 Risk-weighted prevalence of stunting in children under 5 as measured by the summary exposure value (SEV) for child stunting.                                                                                                                                                                                                                                                                                                                                                                                                                                                                                                                                                               \n",
       "5 Age-standardized Disability-Adjusted Life Years (DALYs) rate caused by HIV/AIDS, tuberculosis, diarrhea, intestinal infections, respiratory infections, otitis media, meningitis, encephalitis, diptheria, whooping cough, tetanus, measles, varicella, herpes zoster, malaria, Chagas disease, leishmaniasis, typanosomiasis, schistosomiasis, cysticercosis, cycstic echinococcosis, lymphatic filariasis, onchocerciasis, trachoma, dengue, yellow feber, rabies, intestinal nematode infections, food-borne trematodiases, leprosy, ebola, zika virus, guinea worm disease, sexually transmitted diseases (excluding HIV), hepatitis, and other infectious diseases per 100,000 people.\n",
       "6 Maternal deaths per 100,000 livebirths in women aged 10-54 years.                                                                                                                                                                                                                                                                                                                                                                                                                                                                                                                                                                                                                          \n",
       "7 Probability of dying between birth and exactly 5 years of age, expressed per 1,000 live births.                                                                                                                                                                                                                                                                                                                                                                                                                                                                                                                                                                                            \n",
       "8 The prevalence of undernourishment expresses the probability that a randomly selected individual from the population consumes an amount of calories that is insufficient to cover her/his energy requirement for an active and healthy life. The indicator is computed by comparing a probability distribution of habitual daily dietary energy consumption with a threshold level called the minimum dietary energy requirement. Both are based on the notion of an average individual in the reference population.                                                                                                                                                                       \n",
       "  Source                                                 \n",
       "1 NA                                                     \n",
       "2 NA                                                     \n",
       "3 NA                                                     \n",
       "4 Institute for Health Metrics and Evaluation            \n",
       "5 Institute for Health Metrics and Evaluation            \n",
       "6 Institute for Health Metrics and Evaluation            \n",
       "7 UN Inter-agency Group for Child Mortality Estimation   \n",
       "8 Food and Agriculture Organization of the United Nations"
      ]
     },
     "metadata": {},
     "output_type": "display_data"
    }
   ],
   "source": [
    "tmetadata |> slice(c(1:3, 22:26))\n"
   ]
  },
  {
   "cell_type": "markdown",
   "metadata": {
    "slideshow": {
     "slide_type": "slide"
    }
   },
   "source": [
    "## Synthetic Data Generation"
   ]
  },
  {
   "attachments": {},
   "cell_type": "markdown",
   "metadata": {
    "slideshow": {
     "slide_type": "slide"
    }
   },
   "source": [
    "No Aplica"
   ]
  },
  {
   "cell_type": "markdown",
   "metadata": {
    "slideshow": {
     "slide_type": "slide"
    }
   },
   "source": [
    "## Fake Data Generation"
   ]
  },
  {
   "attachments": {},
   "cell_type": "markdown",
   "metadata": {
    "slideshow": {
     "slide_type": "slide"
    }
   },
   "source": [
    "No aplica\n"
   ]
  },
  {
   "cell_type": "markdown",
   "metadata": {
    "slideshow": {
     "slide_type": "slide"
    }
   },
   "source": [
    "## Open Data"
   ]
  },
  {
   "attachments": {},
   "cell_type": "markdown",
   "metadata": {
    "slideshow": {
     "slide_type": "slide"
    }
   },
   "source": [
    "No aplica"
   ]
  },
  {
   "cell_type": "markdown",
   "metadata": {},
   "source": [
    "## <font color='green'>Data Save</font>"
   ]
  },
  {
   "attachments": {},
   "cell_type": "markdown",
   "metadata": {},
   "source": [
    "Este proceso, puede copiarse y repetirse en aquellas partes del notebbok que necesiten guardar datos.\n",
    "Recuerde cambiar las cadenas añadida del fichero para diferenciarlas"
   ]
  },
  {
   "attachments": {},
   "cell_type": "markdown",
   "metadata": {},
   "source": [
    "1. Datos del SPI"
   ]
  },
  {
   "cell_type": "markdown",
   "metadata": {},
   "source": [
    "<font color='tomato'> Identificamos los datos a guardar</font>"
   ]
  },
  {
   "cell_type": "code",
   "execution_count": 16,
   "metadata": {
    "ExecuteTime": {
     "end_time": "2020-12-25T17:59:27.022001Z",
     "start_time": "2020-12-25T17:59:15.986986Z"
    },
    "scrolled": false,
    "vscode": {
     "languageId": "r"
    }
   },
   "outputs": [],
   "source": [
    "data_to_save_01 <- data"
   ]
  },
  {
   "attachments": {},
   "cell_type": "markdown",
   "metadata": {},
   "source": [
    "\n",
    "<font color='tomato'>Estructura de nombre de archivos:</font>\n",
    "\n",
    "* Código del caso de uso, por ejemplo \"CU_04\"\n",
    "* Número del proceso que lo genera, por ejemplo \"_05\".\n",
    "* Número de la tarea que lo genera, por ejemplo \"_01\"\n",
    "* En caso de generarse varios ficheros en la misma tarea, llevarán _01 _02 ... después\n",
    "* Nombre: identificativo de \"properData\", por ejemplo \"_zonasgeo\"\n",
    "* Extensión del archivo\n",
    "\n",
    "Ejemplo: \"CU_04_05_01_01_zonasgeo.json, primer fichero que se genera en la tarea 01 del proceso 05 (Data Collection) para el caso de uso 04 (vacunas)\n",
    "\n",
    "Importante mantener los guiones bajos antes de proceso, tarea, archivo y nombre"
   ]
  },
  {
   "attachments": {},
   "cell_type": "markdown",
   "metadata": {},
   "source": [
    "### Proceso 05"
   ]
  },
  {
   "cell_type": "code",
   "execution_count": 17,
   "metadata": {
    "ExecuteTime": {
     "end_time": "2020-12-25T17:59:27.022001Z",
     "start_time": "2020-12-25T17:59:15.986986Z"
    },
    "scrolled": false,
    "vscode": {
     "languageId": "r"
    }
   },
   "outputs": [],
   "source": [
    "caso <- \"CU_53\"\n",
    "proceso <- '_05'\n",
    "tarea <- \"_02\"\n",
    "archivo <- \"_01\"\n",
    "proper <- \"_spi\"\n",
    "extension <- \".csv\""
   ]
  },
  {
   "attachments": {},
   "cell_type": "markdown",
   "metadata": {},
   "source": [
    "<font color='tomato'><b> OPCION A:</b> Uso del paquete \"tcltk\" para mayor comodidad</font>\n",
    "\n",
    "* Buscar carpeta, escribir nombre de archivo SIN extensión (se especifica en el código)\n",
    "* Especificar sufijo2 si es necesario\n",
    "* Cambiar datos por datos_xx si es necesario"
   ]
  },
  {
   "cell_type": "code",
   "execution_count": 18,
   "metadata": {
    "ExecuteTime": {
     "end_time": "2020-12-25T17:59:27.022001Z",
     "start_time": "2020-12-25T17:59:15.986986Z"
    },
    "scrolled": false,
    "vscode": {
     "languageId": "r"
    }
   },
   "outputs": [],
   "source": [
    "# file_save_01 <- paste0(caso, proceso, tarea, tcltk::tkgetSaveFile(), proper, extension) \n",
    "# path_out_01 <- paste0(oPath, file_save_01)\n",
    "# write_csv(data_to_save_01, path_out_01)\n",
    "\n",
    "# cat('File saved as: ')\n",
    "# path_out_01"
   ]
  },
  {
   "attachments": {},
   "cell_type": "markdown",
   "metadata": {},
   "source": [
    "<font color='tomato'><b> OPCION B:</b> Especificar el nombre de archivo</font>"
   ]
  },
  {
   "attachments": {},
   "cell_type": "markdown",
   "metadata": {},
   "source": [
    "- Los ficheros de salida del proceso van siempre a Data/Output/.  "
   ]
  },
  {
   "cell_type": "code",
   "execution_count": 19,
   "metadata": {
    "ExecuteTime": {
     "end_time": "2021-01-26T18:40:31.258294Z",
     "start_time": "2021-01-26T18:40:26.061847Z"
    },
    "slideshow": {
     "slide_type": "subslide"
    },
    "vscode": {
     "languageId": "r"
    }
   },
   "outputs": [
    {
     "name": "stdout",
     "output_type": "stream",
     "text": [
      "File saved as: "
     ]
    },
    {
     "data": {
      "text/html": [
       "'Data/Output/CU_53_05_02_01_spi.csv'"
      ],
      "text/latex": [
       "'Data/Output/CU\\_53\\_05\\_02\\_01\\_spi.csv'"
      ],
      "text/markdown": [
       "'Data/Output/CU_53_05_02_01_spi.csv'"
      ],
      "text/plain": [
       "[1] \"Data/Output/CU_53_05_02_01_spi.csv\""
      ]
     },
     "metadata": {},
     "output_type": "display_data"
    }
   ],
   "source": [
    "file_save_01 <- paste0(caso, proceso, tarea, archivo, proper, extension) \n",
    "path_out_01 <- paste0(oPath, file_save_01)\n",
    "write_csv(data_to_save_01, path_out_01)\n",
    "\n",
    "cat('File saved as: ')\n",
    "path_out_01"
   ]
  },
  {
   "attachments": {},
   "cell_type": "markdown",
   "metadata": {},
   "source": [
    "#### Copia del fichero a Input\n",
    "\n",
    "Si el archivo se va a usar en otros notebooks, copiar a la carpeta Input"
   ]
  },
  {
   "cell_type": "code",
   "execution_count": 20,
   "metadata": {
    "vscode": {
     "languageId": "r"
    }
   },
   "outputs": [
    {
     "data": {
      "text/html": [
       "TRUE"
      ],
      "text/latex": [
       "TRUE"
      ],
      "text/markdown": [
       "TRUE"
      ],
      "text/plain": [
       "[1] TRUE"
      ]
     },
     "metadata": {},
     "output_type": "display_data"
    }
   ],
   "source": [
    "path_in_01 <- paste0(iPath, file_save_01)\n",
    "file.copy(path_out_01, path_in_01, overwrite = TRUE)"
   ]
  },
  {
   "attachments": {},
   "cell_type": "markdown",
   "metadata": {},
   "source": [
    "2. Metadatos del SPI"
   ]
  },
  {
   "cell_type": "markdown",
   "metadata": {},
   "source": [
    "<font color='tomato'> Identificamos los datos a guardar</font>"
   ]
  },
  {
   "cell_type": "code",
   "execution_count": 22,
   "metadata": {
    "vscode": {
     "languageId": "r"
    }
   },
   "outputs": [],
   "source": [
    "data_to_save_02 <- tmetadata"
   ]
  },
  {
   "cell_type": "markdown",
   "metadata": {},
   "source": [
    "\n",
    "<font color='tomato'>Estructura de nombre de archivos:</font>\n",
    "\n",
    "* Código del caso de uso, por ejemplo \"CU_04\"\n",
    "* Número del proceso que lo genera, por ejemplo \"_05\".\n",
    "* Número de la tarea que lo genera, por ejemplo \"_01\"\n",
    "* En caso de generarse varios ficheros en la misma tarea, llevarán _01 _02 ... después\n",
    "* Nombre: identificativo de \"properData\", por ejemplo \"_zonasgeo\"\n",
    "* Extensión del archivo\n",
    "\n",
    "Ejemplo: \"CU_04_05_01_01_zonasgeo.json, primer fichero que se genera en la tarea 01 del proceso 05 (Data Collection) para el caso de uso 04 (vacunas)\n",
    "\n",
    "Importante mantener los guiones bajos antes de proceso, tarea, archivo y nombre"
   ]
  },
  {
   "cell_type": "markdown",
   "metadata": {},
   "source": [
    "### Proceso 05"
   ]
  },
  {
   "cell_type": "code",
   "execution_count": 23,
   "metadata": {
    "vscode": {
     "languageId": "r"
    }
   },
   "outputs": [],
   "source": [
    "archivo <- \"_02\"\n",
    "proper <- \"_spi_metadata\"\n",
    "extension <- \".csv\""
   ]
  },
  {
   "cell_type": "markdown",
   "metadata": {},
   "source": [
    "<font color='tomato'><b> OPCION A:</b> Uso del paquete \"tcltk\" para mayor comodidad</font>\n",
    "\n",
    "* Buscar carpeta, escribir nombre de archivo SIN extensión (se especifica en el código)\n",
    "* Especificar sufijo2 si es necesario\n",
    "* Cambiar datos por datos_xx si es necesario"
   ]
  },
  {
   "cell_type": "code",
   "execution_count": 24,
   "metadata": {
    "vscode": {
     "languageId": "r"
    }
   },
   "outputs": [],
   "source": [
    "# file_save_02 <- paste0(caso, proceso, tarea, tcltk::tkgetSaveFile(), proper, extension) \n",
    "# path_out_02 <- paste0(oPath, file_save_02)\n",
    "# write_csv(data_to_save_02, path_out_02)\n",
    "\n",
    "# cat('File saved as: ')\n",
    "# path_out_02"
   ]
  },
  {
   "cell_type": "markdown",
   "metadata": {},
   "source": [
    "<font color='tomato'><b> OPCION B:</b> Especificar el nombre de archivo</font>"
   ]
  },
  {
   "cell_type": "markdown",
   "metadata": {},
   "source": [
    "- Los ficheros de salida del proceso van siempre a Data/Output/.  "
   ]
  },
  {
   "cell_type": "code",
   "execution_count": 25,
   "metadata": {
    "vscode": {
     "languageId": "r"
    }
   },
   "outputs": [
    {
     "name": "stdout",
     "output_type": "stream",
     "text": [
      "File saved as: "
     ]
    },
    {
     "data": {
      "text/html": [
       "'Data/Output/CU_53_05_02_02_spi_metadata.csv'"
      ],
      "text/latex": [
       "'Data/Output/CU\\_53\\_05\\_02\\_02\\_spi\\_metadata.csv'"
      ],
      "text/markdown": [
       "'Data/Output/CU_53_05_02_02_spi_metadata.csv'"
      ],
      "text/plain": [
       "[1] \"Data/Output/CU_53_05_02_02_spi_metadata.csv\""
      ]
     },
     "metadata": {},
     "output_type": "display_data"
    }
   ],
   "source": [
    "file_save_02 <- paste0(caso, proceso, tarea, archivo, proper, extension) \n",
    "path_out_02 <- paste0(oPath, file_save_02)\n",
    "write_csv(data_to_save_02, path_out_02)\n",
    "\n",
    "cat('File saved as: ')\n",
    "path_out_02"
   ]
  },
  {
   "cell_type": "markdown",
   "metadata": {},
   "source": [
    "#### Copia del fichero a Input\n",
    "\n",
    "Si el archivo se va a usar en otros notebooks, copiar a la carpeta Input"
   ]
  },
  {
   "cell_type": "code",
   "execution_count": 26,
   "metadata": {
    "vscode": {
     "languageId": "r"
    }
   },
   "outputs": [
    {
     "data": {
      "text/html": [
       "TRUE"
      ],
      "text/latex": [
       "TRUE"
      ],
      "text/markdown": [
       "TRUE"
      ],
      "text/plain": [
       "[1] TRUE"
      ]
     },
     "metadata": {},
     "output_type": "display_data"
    }
   ],
   "source": [
    "path_in_02 <- paste0(iPath, file_save_02)\n",
    "file.copy(path_out_02, path_in_02, overwrite = TRUE)"
   ]
  },
  {
   "cell_type": "markdown",
   "metadata": {},
   "source": [
    "## <font color=' #2874a6 '>Main Conclusions</font>"
   ]
  },
  {
   "cell_type": "markdown",
   "metadata": {
    "slideshow": {
     "slide_type": "slide"
    }
   },
   "source": [
    "<font color='steelblue'>List and describe the general conclusions of the analysis carried out​.</font>"
   ]
  },
  {
   "attachments": {},
   "cell_type": "markdown",
   "metadata": {},
   "source": [
    "### Prerequisites\n",
    "\n",
    "Para que funcione este código se necesita:\n",
    "\n",
    "* Las rutas de archivos `Data/Input` y `Data/Output` deben existir (relativas a la ruta del _notebook_)\n",
    "* El paquete tcltk instalado para seleccionar archivos interactivamente. No se necesita en producción.\n",
    "* Los paquetes readxl, readr, dplyr, stringr, tidyr deben estar instalados.\n",
    "\n",
    "\n",
    "\n",
    "\n",
    "\n",
    "\n",
    "\n",
    "\n"
   ]
  },
  {
   "attachments": {},
   "cell_type": "markdown",
   "metadata": {},
   "source": [
    "### Configuration Management\n",
    "\n",
    "This notebook has been tested with the following versions of R and packages. It cannot be assured that later versions work in the same way:\n",
    "* R 4.2.2\n",
    "* tcltk 4.2.2\n",
    "* readxl 1.4.1\n",
    "* readr 2.1.3\n",
    "* dplyr 1.0.10\n",
    "* stringr 1.5.0\n",
    "* tidyr 1.3.0"
   ]
  },
  {
   "attachments": {},
   "cell_type": "markdown",
   "metadata": {},
   "source": [
    "### Data structures"
   ]
  },
  {
   "attachments": {},
   "cell_type": "markdown",
   "metadata": {},
   "source": [
    "#### Objeto `data`\n",
    "\n",
    "- Hay 2364 filas con información de las siguientes variables:\n",
    "\t* rank_score_spi\n",
    "\t* country\n",
    "\t* spicountrycode\n",
    "\t* spiyear\n",
    "\t* status\n",
    "\t* score_spi\n",
    "\t* score_bhn\n",
    "\t* score_fow\n",
    "\t* score_opp\n",
    "\t* score_nbmc\n",
    "\t* score_ws\n",
    "\t* score_sh\n",
    "\t* score_ps\n",
    "\t* score_abk\n",
    "\t* score_aic\n",
    "\t* score_hw\n",
    "\t* score_eq\n",
    "\t* score_pr\n",
    "\t* score_pfc\n",
    "\t* score_incl\n",
    "\t* score_aae\n",
    "\t* nbmc_stunting\n",
    "\t* nbmc_infectiousdaly\n",
    "\t* nbmc_matmort\n",
    "\t* nbmc_childmort\n",
    "\t* nbmc_undernourish\n",
    "\t* nbmc_dietlowfruitveg\n",
    "\t* ws_washmortdalys\n",
    "\t* ws_sanitation\n",
    "\t* ws_water\n",
    "\t* ws_watersat\n",
    "\t* sh_hhairpolldalys\n",
    "\t* sh_affhousingdissat\n",
    "\t* sh_electricity\n",
    "\t* sh_cleanfuels\n",
    "\t* ps_politicalkillings\n",
    "\t* ps_intpersvioldaly\n",
    "\t* ps_transportdaly\n",
    "\t* ps_intimpartnviol\n",
    "\t* ps_moneystolen\n",
    "\t* abk_qualeduc\n",
    "\t* abk_propnoeduc\n",
    "\t* abk_popsomesec\n",
    "\t* abk_totprimenrol\n",
    "\t* abk_educpar\n",
    "\t* aic_altinfo\n",
    "\t* aic_mobiles\n",
    "\t* aic_internet\n",
    "\t* aic_eparticip\n",
    "\t* hw_qualityhealth\n",
    "\t* hw_lifex60\n",
    "\t* hw_ncdmort\n",
    "\t* hw_univhealthcov\n",
    "\t* hw_qualhealthsat\n",
    "\t* eq_airpolldalys\n",
    "\t* eq_leadexpdalys\n",
    "\t* eq_pm25\n",
    "\t* eq_spindex\n",
    "\t* pr_freerelig\n",
    "\t* pr_proprightswomen\n",
    "\t* pr_peaceassemb\n",
    "\t* pr_accessjustice\n",
    "\t* pr_freediscuss\n",
    "\t* pr_polrights\n",
    "\t* pfc_freedomestmov\n",
    "\t* pfc_earlymarriage\n",
    "\t* pfc_contracept\n",
    "\t* pfc_neet\n",
    "\t* pfc_vulnemploy\n",
    "\t* pfc_corruption\n",
    "\t* incl_equalprotect\n",
    "\t* incl_equalaccess\n",
    "\t* incl_sexualorient\n",
    "\t* incl_accpubsersocgr\n",
    "\t* incl_gayslesb\n",
    "\t* incl_discrimin\n",
    "\t* aae_acadfreed\n",
    "\t* aae_femterteduc\n",
    "\t* aae_tertschlife\n",
    "\t* aae_citabledocs\n",
    "\t* aae_qualuniversities\n"
   ]
  },
  {
   "attachments": {},
   "cell_type": "markdown",
   "metadata": {},
   "source": [
    "#### Objeto `tmetadata`\n",
    "\n",
    "- Hay 81 filas con información de las siguientes variables:\n",
    "\t* id_var\n",
    "\t* name_var\n",
    "\t* role\n",
    "\t* Dimension\n",
    "\t* Component\n",
    "\t* Unit of measurement\n",
    "\t* Definition\n",
    "\t* Source"
   ]
  },
  {
   "attachments": {},
   "cell_type": "markdown",
   "metadata": {},
   "source": [
    "#### Observaciones generales sobre los datos\n",
    "\n",
    "* Los datos son jerárquicos: los indicadores forman componentes, los componentes dimensiones y las dimensiones el índice."
   ]
  },
  {
   "attachments": {},
   "cell_type": "markdown",
   "metadata": {},
   "source": [
    "### Consideraciones para despliegue en piloto\n",
    "\n",
    "* Los metadatos son útiles para la representación en tablas y gráficos con etiqueteas amigables"
   ]
  },
  {
   "attachments": {},
   "cell_type": "markdown",
   "metadata": {},
   "source": [
    "### Consideraciones para despliegue en producción\n",
    "\n",
    "* Se deben crear los procesos ETL en producción necesarios para que los datos de entrada estén actualizados\n",
    "* Los datos de entrada se deben adquirir para usar en producción"
   ]
  },
  {
   "cell_type": "markdown",
   "metadata": {},
   "source": [
    "## <font color=' #2874a6 '>Main Actions</font>"
   ]
  },
  {
   "cell_type": "markdown",
   "metadata": {},
   "source": [
    "#### <font color=' #2874a6 '>Acciones done</font>"
   ]
  },
  {
   "cell_type": "markdown",
   "metadata": {
    "slideshow": {
     "slide_type": "slide"
    }
   },
   "source": [
    "<font color='steelblue'>Indicate the actions that have been carried out in this process</font>"
   ]
  },
  {
   "attachments": {},
   "cell_type": "markdown",
   "metadata": {},
   "source": [
    "- Se han dispuesto los índices en formato rectangular con nombres de columna adecuados"
   ]
  },
  {
   "cell_type": "markdown",
   "metadata": {},
   "source": [
    "#### <font color=' #2874a6 '>Acctions to perform</font>"
   ]
  },
  {
   "cell_type": "markdown",
   "metadata": {
    "slideshow": {
     "slide_type": "slide"
    }
   },
   "source": [
    "<font color='steelblue'>Indicate the actions that must be carried out in subsequent processes</font>"
   ]
  },
  {
   "attachments": {},
   "cell_type": "markdown",
   "metadata": {},
   "source": [
    "- Se deben relacionar estos datos con los de inversiones"
   ]
  },
  {
   "attachments": {},
   "cell_type": "markdown",
   "metadata": {},
   "source": [
    "## <font color='RED'>CODE TO DEPLOY (PILOT)</font>\n",
    "\n",
    "A continuación se incluirá el código que deba ser llevado a despliegue para producción, dado que se entiende efectúa operaciones necesarias sobre los datos en la ejecución del prototipo"
   ]
  },
  {
   "attachments": {},
   "cell_type": "markdown",
   "metadata": {},
   "source": [
    "<font color=' red '><b>Description</b></font>\n",
    "\n",
    "- No hay nada que desplegar en el piloto, ya que estos datos son estáticos o en todo caso cambian con muy poca frecuencia, altamente improbable durante el proyecto.\n"
   ]
  },
  {
   "attachments": {},
   "cell_type": "markdown",
   "metadata": {},
   "source": [
    "<font color=' red '><b>CODE</b></font>"
   ]
  },
  {
   "cell_type": "code",
   "execution_count": null,
   "metadata": {
    "vscode": {
     "languageId": "r"
    }
   },
   "outputs": [],
   "source": [
    "# incluir código"
   ]
  }
 ],
 "metadata": {
  "anaconda-cloud": {},
  "celltoolbar": "Slideshow",
  "hide_input": false,
  "kernelspec": {
   "display_name": "R",
   "language": "R",
   "name": "ir"
  },
  "language_info": {
   "codemirror_mode": "r",
   "file_extension": ".r",
   "mimetype": "text/x-r-source",
   "name": "R",
   "pygments_lexer": "r",
   "version": "4.2.2"
  },
  "latex_envs": {
   "LaTeX_envs_menu_present": true,
   "autoclose": false,
   "autocomplete": true,
   "bibliofile": "biblio.bib",
   "cite_by": "apalike",
   "current_citInitial": 1,
   "eqLabelWithNumbers": true,
   "eqNumInitial": 1,
   "hotkeys": {
    "equation": "Ctrl-E",
    "itemize": "Ctrl-I"
   },
   "labels_anchors": false,
   "latex_user_defs": false,
   "report_style_numbering": true,
   "user_envs_cfg": false
  },
  "toc": {
   "base_numbering": 1,
   "nav_menu": {
    "height": "11.6px",
    "width": "160px"
   },
   "number_sections": false,
   "sideBar": true,
   "skip_h1_title": true,
   "title_cell": "Table of Contents",
   "title_sidebar": "Contents",
   "toc_cell": true,
   "toc_position": {
    "height": "calc(100% - 180px)",
    "left": "10px",
    "top": "150px",
    "width": "209.2px"
   },
   "toc_section_display": true,
   "toc_window_display": true
  },
  "varInspector": {
   "cols": {
    "lenName": 16,
    "lenType": 16,
    "lenVar": 40
   },
   "kernels_config": {
    "python": {
     "delete_cmd_postfix": "",
     "delete_cmd_prefix": "del ",
     "library": "var_list.py",
     "varRefreshCmd": "print(var_dic_list())"
    },
    "r": {
     "delete_cmd_postfix": ") ",
     "delete_cmd_prefix": "rm(",
     "library": "var_list.r",
     "varRefreshCmd": "cat(var_dic_list()) "
    }
   },
   "types_to_exclude": [
    "module",
    "function",
    "builtin_function_or_method",
    "instance",
    "_Feature"
   ],
   "window_display": false
  }
 },
 "nbformat": 4,
 "nbformat_minor": 1
}
