{
 "cells": [
  {
   "cell_type": "markdown",
   "metadata": {
    "slideshow": {
     "slide_type": "slide"
    }
   },
   "source": [
    "<img src=\".\\images\\Logo.png\" width=150 align=\"left\" /> <img src=\".\\images\\Logo2.jpg\" width=450 align=\"right\" />"
   ]
  },
  {
   "cell_type": "markdown",
   "metadata": {},
   "source": [
    "\n",
    "# <center><font color= #1e8449 > <b>CU53_impacto de las políticas de inversión en sanidad, infraestructuras y promoción turística en el SPI\t\t\t</font></center>"
   ]
  },
  {
   "cell_type": "markdown",
   "metadata": {
    "slideshow": {
     "slide_type": "slide"
    }
   },
   "source": [
    "<font color='steelblue'><b>Citizenlab Data Science Methodology > II - Data Processing Domain </font>\n",
    "***\n",
    "> # <font color='steelblue'> <b>05.- Data Collection</font>"
   ]
  },
  {
   "cell_type": "markdown",
   "metadata": {
    "slideshow": {
     "slide_type": "slide"
    }
   },
   "source": [
    "<font color='steelblue'>Data Collection is the process to obtain and generate (if required) necessary data to model the problem.</font>"
   ]
  },
  {
   "attachments": {},
   "cell_type": "markdown",
   "metadata": {},
   "source": [
    "### 05. Consolidar datos de inversiones en CM\n",
    "\n",
    "* Consolidar los archivos descargados en un csv con las inversiones\n",
    "    totales por área de relevancia.\n",
    "\n",
    "\n",
    "\n",
    "\n",
    "\n"
   ]
  },
  {
   "cell_type": "markdown",
   "metadata": {
    "toc": true
   },
   "source": [
    "<h1>Table of Contents<span class=\"tocSkip\"></span></h1>\n",
    "<div class=\"toc\"><ul class=\"toc-item\"><li><span><a href=\"#Settings\" data-toc-modified-id=\"Settings-1\"><font color=\"green\">Settings</font></a></span></li><li><span><a href=\"#Data-Load\" data-toc-modified-id=\"Data-Load-2\"><font color=\"green\">Data Load</font></a></span></li><li><span><a href=\"#ETL-Processes\" data-toc-modified-id=\"ETL-Processes-3\">ETL Processes</a></span><ul class=\"toc-item\"><li><span><a href=\"#Import-data-from:-CSV,-Excel,-Tab,-JSON,-SQL,-and-Parquet-files\" data-toc-modified-id=\"Import-data-from:-CSV,-Excel,-Tab,-JSON,-SQL,-and-Parquet-files-3.1\">Import data from: CSV, Excel, Tab, JSON, SQL, and Parquet files</a></span></li></ul></li><li><span><a href=\"#Synthetic-Data-Generation\" data-toc-modified-id=\"Synthetic-Data-Generation-4\">Synthetic Data Generation</a></span></li><li><span><a href=\"#Fake-Data-Generation\" data-toc-modified-id=\"Fake-Data-Generation-5\">Fake Data Generation</a></span></li><li><span><a href=\"#Open-Data\" data-toc-modified-id=\"Open-Data-6\">Open Data</a></span></li><li><span><a href=\"#Data-Save\" data-toc-modified-id=\"Data-Save-7\"><font color=\"green\">Data Save</font></a></span></li><li><span><a href=\"#Main-Conclusions\" data-toc-modified-id=\"Main-Conclusions-8\"><font color=\" #2874a6 \">Main Conclusions</font></a></span></li><li><span><a href=\"#Main-Actions\" data-toc-modified-id=\"Main-Actions-9\"><font color=\" #2874a6 \">Main Actions</font></a></span><ul class=\"toc-item\"><li><ul class=\"toc-item\"><li><span><a href=\"#Acciones-done\" data-toc-modified-id=\"Acciones-done-9.0.1\"><font color=\" #2874a6 \">Acciones done</font></a></span></li><li><span><a href=\"#Acctions-to-perform\" data-toc-modified-id=\"Acctions-to-perform-9.0.2\"><font color=\" #2874a6 \">Acctions to perform</font></a></span></li></ul></li></ul></li></ul></div>"
   ]
  },
  {
   "cell_type": "markdown",
   "metadata": {
    "slideshow": {
     "slide_type": "slide"
    }
   },
   "source": [
    "## <font color='green'>Settings</font>"
   ]
  },
  {
   "attachments": {},
   "cell_type": "markdown",
   "metadata": {},
   "source": [
    "### Encoding\n",
    "\n",
    "Con la siguiente expresión se evitan problemas con el encoding al ejecutar el notebook. Es posible que deba ser eliminada o adaptada a la máquina en la que se ejecute el código."
   ]
  },
  {
   "cell_type": "code",
   "execution_count": 1,
   "metadata": {
    "vscode": {
     "languageId": "r"
    }
   },
   "outputs": [
    {
     "data": {
      "text/html": [
       "'es_ES.UTF-8/es_ES.UTF-8/es_ES.UTF-8/C/es_ES.UTF-8/C'"
      ],
      "text/latex": [
       "'es\\_ES.UTF-8/es\\_ES.UTF-8/es\\_ES.UTF-8/C/es\\_ES.UTF-8/C'"
      ],
      "text/markdown": [
       "'es_ES.UTF-8/es_ES.UTF-8/es_ES.UTF-8/C/es_ES.UTF-8/C'"
      ],
      "text/plain": [
       "[1] \"es_ES.UTF-8/es_ES.UTF-8/es_ES.UTF-8/C/es_ES.UTF-8/C\""
      ]
     },
     "metadata": {},
     "output_type": "display_data"
    }
   ],
   "source": [
    "Sys.setlocale(category = \"LC_ALL\", locale = \"es_ES.UTF-8\")"
   ]
  },
  {
   "attachments": {},
   "cell_type": "markdown",
   "metadata": {},
   "source": [
    "### Packages to use\n",
    "\n",
    "_ELIMINAR O AÑADIR LO QUE TOQUE. COPIAR VERSIONES AL FINAL Y QUITAR CÓDIGO DE VERSIONES_\n",
    "\n",
    "- {tcltk} para selección interactiva de archivos locales\n",
    "- {sf} para trabajar con georeferenciación\n",
    "- {readr} para leer y escribir archivos csv\n",
    "- {dplyr} para explorar datos\n",
    "- {stringr} para manipulación de cadenas de caracteres\n",
    "- {tidyr} para organización de datos\n"
   ]
  },
  {
   "cell_type": "code",
   "execution_count": 39,
   "metadata": {
    "ExecuteTime": {
     "end_time": "2021-12-03T15:23:33.762841Z",
     "start_time": "2021-12-03T15:23:08.580267Z"
    },
    "slideshow": {
     "slide_type": "subslide"
    },
    "vscode": {
     "languageId": "r"
    }
   },
   "outputs": [],
   "source": [
    "library(purrr)\n",
    "library(readxl)\n",
    "library(readr)\n",
    "library(dplyr)\n",
    "library(stringr)\n",
    "library(tidyr)\n",
    "\n",
    "p <- c(\"tcltk\", \"purrr\", \"readxl\", \"readr\", \"dplyr\", \"stringr\", \"tidyr\")\n"
   ]
  },
  {
   "attachments": {},
   "cell_type": "markdown",
   "metadata": {},
   "source": [
    "### Paths"
   ]
  },
  {
   "cell_type": "code",
   "execution_count": 3,
   "metadata": {
    "vscode": {
     "languageId": "r"
    }
   },
   "outputs": [],
   "source": [
    "iPath <- \"Data/Input/\"\n",
    "oPath <- \"Data/Output/\""
   ]
  },
  {
   "attachments": {},
   "cell_type": "markdown",
   "metadata": {
    "slideshow": {
     "slide_type": "slide"
    }
   },
   "source": [
    "## <font color='green'>Data Load</font>\n",
    "\n",
    "Son muchos archivos y se realiza en bucle. Se incluye la carge en las tareas ETL"
   ]
  },
  {
   "cell_type": "markdown",
   "metadata": {
    "slideshow": {
     "slide_type": "slide"
    }
   },
   "source": [
    "## ETL Processes"
   ]
  },
  {
   "attachments": {},
   "cell_type": "markdown",
   "metadata": {
    "slideshow": {
     "slide_type": "slide"
    }
   },
   "source": [
    "### Import data from: CSV, Excel, Tab, JSON, SQL, and Parquet files\n",
    "\n"
   ]
  },
  {
   "attachments": {},
   "cell_type": "markdown",
   "metadata": {},
   "source": [
    "Incluir apartados si procede para: Extracción de datos (select, filter), Transformación de datos, (mutate, joins, ...). Si es necesario tratar datos perdidos, indicarlo también en NB 09.2"
   ]
  },
  {
   "attachments": {},
   "cell_type": "markdown",
   "metadata": {},
   "source": [
    "Si no aplica: Estos datos no requieren tareas de este tipo."
   ]
  },
  {
   "attachments": {},
   "cell_type": "markdown",
   "metadata": {},
   "source": [
    "* Se cargan en bucle\n",
    "* Algunos valores de DISPUESTO vienen con totales, que los importa como\n",
    "caracteres, Como el total no nos hace falta, convertimos a numérico, por lo que se\n",
    "crean NA y se eliminan esas filas"
   ]
  },
  {
   "cell_type": "code",
   "execution_count": 15,
   "metadata": {
    "vscode": {
     "languageId": "r"
    }
   },
   "outputs": [
    {
     "name": "stderr",
     "output_type": "stream",
     "text": [
      "Warning message in mask$eval_all_mutate(quo):\n",
      "“NAs introducidos por coerción”\n",
      "Warning message in mask$eval_all_mutate(quo):\n",
      "“NAs introducidos por coerción”\n",
      "Warning message in mask$eval_all_mutate(quo):\n",
      "“NAs introducidos por coerción”\n",
      "Warning message in mask$eval_all_mutate(quo):\n",
      "“NAs introducidos por coerción”\n",
      "Warning message in mask$eval_all_mutate(quo):\n",
      "“NAs introducidos por coerción”\n",
      "Warning message in mask$eval_all_mutate(quo):\n",
      "“NAs introducidos por coerción”\n",
      "Warning message in mask$eval_all_mutate(quo):\n",
      "“NAs introducidos por coerción”\n"
     ]
    }
   ],
   "source": [
    "xlspath <- paste0(iPath, \"xls/\")\n",
    "files <- dir(xlspath)\n",
    "cols <- c(\"PRESUPUESTO\",\"MES\",\"CENTRO\",\"DESC_CENTRO\",\n",
    "          \"SECCION\",\"DESC_SECCION\",\"CENTRO_GESTOR\",\n",
    "          \"DESC_CGESTOR\",\"PROGRAMA\",\"DESC_PROGRAMA\",\"CAPITULO\",\n",
    "          \"DESC_CAPITULO\",\"CREDITO_INICIAL\",\"MODIFICACIONES\",\n",
    "          \"CREDITO_ACTUAL\",\"AUTORIZADO\",\"C_SALDO_PRESUPUESTO\",\n",
    "          \"DISPUESTO\",\"SALDO_AUTORIZACIONES\",\n",
    "          \"OBLIGACIONES_RECONOCIDAS\",\"SALDO_DISPOSICIONES\")\n",
    "\n",
    "\n",
    "\n",
    "data <- map_dfr(files, \n",
    "              ~{read_excel(paste0(ipath, .x), skip = 4,\n",
    "                           col_names = cols) |> \n",
    "                select(DESC_SECCION, DESC_CAPITULO, DISPUESTO) |> \n",
    "                mutate(DISPUESTO = as.numeric(DISPUESTO),\n",
    "                       mes = str_sub(.x, -6, -5),\n",
    "                       anyo = str_sub(.x, 11, 14)) |> \n",
    "                  drop_na(DISPUESTO)})"
   ]
  },
  {
   "cell_type": "code",
   "execution_count": 14,
   "metadata": {
    "vscode": {
     "languageId": "r"
    }
   },
   "outputs": [
    {
     "name": "stdout",
     "output_type": "stream",
     "text": [
      "Rows: 29,661\n",
      "Columns: 5\n",
      "$ DESC_SECCION  \u001b[3m\u001b[90m<chr>\u001b[39m\u001b[23m \"PRESIDENCIA DE LA COMUNIDAD DE MADRID\", \"PRESIDENCIA DE…\n",
      "$ DESC_CAPITULO \u001b[3m\u001b[90m<chr>\u001b[39m\u001b[23m \"GASTOS DE PERSONAL\", \"GASTOS CORRIENTES EN BIENES Y SER…\n",
      "$ DISPUESTO     \u001b[3m\u001b[90m<dbl>\u001b[39m\u001b[23m 93078.87, 0.00, 0.00, 654249.43, 2115219.80, 0.00, 0.00,…\n",
      "$ mes           \u001b[3m\u001b[90m<chr>\u001b[39m\u001b[23m \"01\", \"01\", \"01\", \"01\", \"01\", \"01\", \"01\", \"01\", \"01\", \"0…\n",
      "$ anyo          \u001b[3m\u001b[90m<chr>\u001b[39m\u001b[23m \"2017\", \"2017\", \"2017\", \"2017\", \"2017\", \"2017\", \"2017\", …\n"
     ]
    }
   ],
   "source": [
    "data |> glimpse()\n"
   ]
  },
  {
   "cell_type": "code",
   "execution_count": 16,
   "metadata": {
    "vscode": {
     "languageId": "r"
    }
   },
   "outputs": [
    {
     "data": {
      "text/html": [
       "<table class=\"dataframe\">\n",
       "<caption>A tibble: 5 x 5</caption>\n",
       "<thead>\n",
       "\t<tr><th scope=col>DESC_SECCION</th><th scope=col>DESC_CAPITULO</th><th scope=col>DISPUESTO</th><th scope=col>mes</th><th scope=col>anyo</th></tr>\n",
       "\t<tr><th scope=col>&lt;chr&gt;</th><th scope=col>&lt;chr&gt;</th><th scope=col>&lt;dbl&gt;</th><th scope=col>&lt;chr&gt;</th><th scope=col>&lt;chr&gt;</th></tr>\n",
       "</thead>\n",
       "<tbody>\n",
       "\t<tr><td>PRESIDENCIA DE LA COMUNIDAD DE MADRID</td><td>GASTOS DE PERSONAL                     </td><td>  93078.87</td><td>01</td><td>2017</td></tr>\n",
       "\t<tr><td>PRESIDENCIA DE LA COMUNIDAD DE MADRID</td><td>GASTOS CORRIENTES EN BIENES Y SERVICIOS</td><td>      0.00</td><td>01</td><td>2017</td></tr>\n",
       "\t<tr><td>PRESIDENCIA DE LA COMUNIDAD DE MADRID</td><td>ACTIVOS FINANCIEROS                    </td><td>      0.00</td><td>01</td><td>2017</td></tr>\n",
       "\t<tr><td>CULTURA Y TURISMO                    </td><td>GASTOS DE PERSONAL                     </td><td> 654249.43</td><td>01</td><td>2017</td></tr>\n",
       "\t<tr><td>CULTURA Y TURISMO                    </td><td>GASTOS CORRIENTES EN BIENES Y SERVICIOS</td><td>2115219.80</td><td>01</td><td>2017</td></tr>\n",
       "</tbody>\n",
       "</table>\n"
      ],
      "text/latex": [
       "A tibble: 5 x 5\n",
       "\\begin{tabular}{lllll}\n",
       " DESC\\_SECCION & DESC\\_CAPITULO & DISPUESTO & mes & anyo\\\\\n",
       " <chr> & <chr> & <dbl> & <chr> & <chr>\\\\\n",
       "\\hline\n",
       "\t PRESIDENCIA DE LA COMUNIDAD DE MADRID & GASTOS DE PERSONAL                      &   93078.87 & 01 & 2017\\\\\n",
       "\t PRESIDENCIA DE LA COMUNIDAD DE MADRID & GASTOS CORRIENTES EN BIENES Y SERVICIOS &       0.00 & 01 & 2017\\\\\n",
       "\t PRESIDENCIA DE LA COMUNIDAD DE MADRID & ACTIVOS FINANCIEROS                     &       0.00 & 01 & 2017\\\\\n",
       "\t CULTURA Y TURISMO                     & GASTOS DE PERSONAL                      &  654249.43 & 01 & 2017\\\\\n",
       "\t CULTURA Y TURISMO                     & GASTOS CORRIENTES EN BIENES Y SERVICIOS & 2115219.80 & 01 & 2017\\\\\n",
       "\\end{tabular}\n"
      ],
      "text/markdown": [
       "\n",
       "A tibble: 5 x 5\n",
       "\n",
       "| DESC_SECCION &lt;chr&gt; | DESC_CAPITULO &lt;chr&gt; | DISPUESTO &lt;dbl&gt; | mes &lt;chr&gt; | anyo &lt;chr&gt; |\n",
       "|---|---|---|---|---|\n",
       "| PRESIDENCIA DE LA COMUNIDAD DE MADRID | GASTOS DE PERSONAL                      |   93078.87 | 01 | 2017 |\n",
       "| PRESIDENCIA DE LA COMUNIDAD DE MADRID | GASTOS CORRIENTES EN BIENES Y SERVICIOS |       0.00 | 01 | 2017 |\n",
       "| PRESIDENCIA DE LA COMUNIDAD DE MADRID | ACTIVOS FINANCIEROS                     |       0.00 | 01 | 2017 |\n",
       "| CULTURA Y TURISMO                     | GASTOS DE PERSONAL                      |  654249.43 | 01 | 2017 |\n",
       "| CULTURA Y TURISMO                     | GASTOS CORRIENTES EN BIENES Y SERVICIOS | 2115219.80 | 01 | 2017 |\n",
       "\n"
      ],
      "text/plain": [
       "  DESC_SECCION                          DESC_CAPITULO                          \n",
       "1 PRESIDENCIA DE LA COMUNIDAD DE MADRID GASTOS DE PERSONAL                     \n",
       "2 PRESIDENCIA DE LA COMUNIDAD DE MADRID GASTOS CORRIENTES EN BIENES Y SERVICIOS\n",
       "3 PRESIDENCIA DE LA COMUNIDAD DE MADRID ACTIVOS FINANCIEROS                    \n",
       "4 CULTURA Y TURISMO                     GASTOS DE PERSONAL                     \n",
       "5 CULTURA Y TURISMO                     GASTOS CORRIENTES EN BIENES Y SERVICIOS\n",
       "  DISPUESTO  mes anyo\n",
       "1   93078.87 01  2017\n",
       "2       0.00 01  2017\n",
       "3       0.00 01  2017\n",
       "4  654249.43 01  2017\n",
       "5 2115219.80 01  2017"
      ]
     },
     "metadata": {},
     "output_type": "display_data"
    }
   ],
   "source": [
    "data |> slice_head(n = 5)"
   ]
  },
  {
   "attachments": {},
   "cell_type": "markdown",
   "metadata": {},
   "source": [
    "#### Data transformation\n",
    "\n",
    "* Agrupar datos de inversiones"
   ]
  },
  {
   "cell_type": "code",
   "execution_count": 25,
   "metadata": {
    "vscode": {
     "languageId": "r"
    }
   },
   "outputs": [],
   "source": [
    "tdata <- data |> \n",
    "  filter(str_detect(DESC_CAPITULO, \"INVERS\")) |> \n",
    "  group_by(DESC_SECCION, anyo) |> \n",
    "  summarise(inversion = sum(DISPUESTO), .groups = \"drop\")"
   ]
  },
  {
   "cell_type": "code",
   "execution_count": 26,
   "metadata": {
    "vscode": {
     "languageId": "r"
    }
   },
   "outputs": [
    {
     "name": "stdout",
     "output_type": "stream",
     "text": [
      "Rows: 85\n",
      "Columns: 3\n",
      "$ DESC_SECCION \u001b[3m\u001b[90m<chr>\u001b[39m\u001b[23m \"ADMINISTRACIÓN LOCAL Y DIGITALIZACIÓN\", \"ASAMBLEA DE MAD…\n",
      "$ anyo         \u001b[3m\u001b[90m<chr>\u001b[39m\u001b[23m \"2022\", \"2019\", \"2020\", \"2021\", \"2022\", \"2019\", \"2020\", \"…\n",
      "$ inversion    \u001b[3m\u001b[90m<dbl>\u001b[39m\u001b[23m 191225660.24, 5379677.43, 6550082.19, 3091085.72, 4625906…\n"
     ]
    }
   ],
   "source": [
    "glimpse(tdata)"
   ]
  },
  {
   "cell_type": "code",
   "execution_count": 27,
   "metadata": {
    "vscode": {
     "languageId": "r"
    }
   },
   "outputs": [
    {
     "data": {
      "text/html": [
       "<table class=\"dataframe\">\n",
       "<caption>A tibble: 5 x 3</caption>\n",
       "<thead>\n",
       "\t<tr><th scope=col>DESC_SECCION</th><th scope=col>anyo</th><th scope=col>inversion</th></tr>\n",
       "\t<tr><th scope=col>&lt;chr&gt;</th><th scope=col>&lt;chr&gt;</th><th scope=col>&lt;dbl&gt;</th></tr>\n",
       "</thead>\n",
       "<tbody>\n",
       "\t<tr><td>ADMINISTRACIÓN LOCAL Y DIGITALIZACIÓN</td><td>2022</td><td>191225660</td></tr>\n",
       "\t<tr><td>ASAMBLEA DE MADRID                   </td><td>2019</td><td>  5379677</td></tr>\n",
       "\t<tr><td>ASAMBLEA DE MADRID                   </td><td>2020</td><td>  6550082</td></tr>\n",
       "\t<tr><td>ASAMBLEA DE MADRID                   </td><td>2021</td><td>  3091086</td></tr>\n",
       "\t<tr><td>ASAMBLEA DE MADRID                   </td><td>2022</td><td>  4625906</td></tr>\n",
       "</tbody>\n",
       "</table>\n"
      ],
      "text/latex": [
       "A tibble: 5 x 3\n",
       "\\begin{tabular}{lll}\n",
       " DESC\\_SECCION & anyo & inversion\\\\\n",
       " <chr> & <chr> & <dbl>\\\\\n",
       "\\hline\n",
       "\t ADMINISTRACIÓN LOCAL Y DIGITALIZACIÓN & 2022 & 191225660\\\\\n",
       "\t ASAMBLEA DE MADRID                    & 2019 &   5379677\\\\\n",
       "\t ASAMBLEA DE MADRID                    & 2020 &   6550082\\\\\n",
       "\t ASAMBLEA DE MADRID                    & 2021 &   3091086\\\\\n",
       "\t ASAMBLEA DE MADRID                    & 2022 &   4625906\\\\\n",
       "\\end{tabular}\n"
      ],
      "text/markdown": [
       "\n",
       "A tibble: 5 x 3\n",
       "\n",
       "| DESC_SECCION &lt;chr&gt; | anyo &lt;chr&gt; | inversion &lt;dbl&gt; |\n",
       "|---|---|---|\n",
       "| ADMINISTRACIÓN LOCAL Y DIGITALIZACIÓN | 2022 | 191225660 |\n",
       "| ASAMBLEA DE MADRID                    | 2019 |   5379677 |\n",
       "| ASAMBLEA DE MADRID                    | 2020 |   6550082 |\n",
       "| ASAMBLEA DE MADRID                    | 2021 |   3091086 |\n",
       "| ASAMBLEA DE MADRID                    | 2022 |   4625906 |\n",
       "\n"
      ],
      "text/plain": [
       "  DESC_SECCION                          anyo inversion\n",
       "1 ADMINISTRACIÓN LOCAL Y DIGITALIZACIÓN 2022 191225660\n",
       "2 ASAMBLEA DE MADRID                    2019   5379677\n",
       "3 ASAMBLEA DE MADRID                    2020   6550082\n",
       "4 ASAMBLEA DE MADRID                    2021   3091086\n",
       "5 ASAMBLEA DE MADRID                    2022   4625906"
      ]
     },
     "metadata": {},
     "output_type": "display_data"
    }
   ],
   "source": [
    "tdata |> slice_head(n = 5)"
   ]
  },
  {
   "attachments": {},
   "cell_type": "markdown",
   "metadata": {},
   "source": [
    "* Hay secciones que van cambiando, detectamos los tres grupos y agregamos"
   ]
  },
  {
   "cell_type": "code",
   "execution_count": 31,
   "metadata": {
    "vscode": {
     "languageId": "r"
    }
   },
   "outputs": [],
   "source": [
    "tdata_out <- tdata |> \n",
    "  mutate(grupo = if_else(str_detect(DESC_SECCION, \"SAN\"), \n",
    "                         \"SANIDAD\",\n",
    "                         if_else(str_detect(DESC_SECCION, \"TURISMO|TUR\\\\.\"), \n",
    "                                            \"TURISMO\",\n",
    "                                            if_else(str_detect(DESC_SECCION, \"INFR\"), \n",
    "                                                               \"INFRAESTRUCTURAS\",\n",
    "                                                               \"RESTO\")))) |> \n",
    "  group_by(grupo, anyo) |> \n",
    "  summarise(inversion = sum(inversion), .groups = \"drop\")"
   ]
  },
  {
   "cell_type": "code",
   "execution_count": 32,
   "metadata": {
    "vscode": {
     "languageId": "r"
    }
   },
   "outputs": [
    {
     "name": "stdout",
     "output_type": "stream",
     "text": [
      "Rows: 24\n",
      "Columns: 3\n",
      "$ grupo     \u001b[3m\u001b[90m<chr>\u001b[39m\u001b[23m \"INFRAESTRUCTURAS\", \"INFRAESTRUCTURAS\", \"INFRAESTRUCTURAS\", …\n",
      "$ anyo      \u001b[3m\u001b[90m<chr>\u001b[39m\u001b[23m \"2017\", \"2018\", \"2019\", \"2020\", \"2021\", \"2022\", \"2017\", \"201…\n",
      "$ inversion \u001b[3m\u001b[90m<dbl>\u001b[39m\u001b[23m 1055334365, 1208736964, 1635747073, 797650078, 910113153, 11…\n"
     ]
    }
   ],
   "source": [
    "tdata_out |> glimpse()"
   ]
  },
  {
   "cell_type": "code",
   "execution_count": 33,
   "metadata": {
    "vscode": {
     "languageId": "r"
    }
   },
   "outputs": [
    {
     "data": {
      "text/html": [
       "<table class=\"dataframe\">\n",
       "<caption>A tibble: 5 x 3</caption>\n",
       "<thead>\n",
       "\t<tr><th scope=col>grupo</th><th scope=col>anyo</th><th scope=col>inversion</th></tr>\n",
       "\t<tr><th scope=col>&lt;chr&gt;</th><th scope=col>&lt;chr&gt;</th><th scope=col>&lt;dbl&gt;</th></tr>\n",
       "</thead>\n",
       "<tbody>\n",
       "\t<tr><td>INFRAESTRUCTURAS</td><td>2017</td><td>1055334365</td></tr>\n",
       "\t<tr><td>INFRAESTRUCTURAS</td><td>2018</td><td>1208736964</td></tr>\n",
       "\t<tr><td>INFRAESTRUCTURAS</td><td>2019</td><td>1635747073</td></tr>\n",
       "\t<tr><td>INFRAESTRUCTURAS</td><td>2020</td><td> 797650078</td></tr>\n",
       "\t<tr><td>INFRAESTRUCTURAS</td><td>2021</td><td> 910113153</td></tr>\n",
       "</tbody>\n",
       "</table>\n"
      ],
      "text/latex": [
       "A tibble: 5 x 3\n",
       "\\begin{tabular}{lll}\n",
       " grupo & anyo & inversion\\\\\n",
       " <chr> & <chr> & <dbl>\\\\\n",
       "\\hline\n",
       "\t INFRAESTRUCTURAS & 2017 & 1055334365\\\\\n",
       "\t INFRAESTRUCTURAS & 2018 & 1208736964\\\\\n",
       "\t INFRAESTRUCTURAS & 2019 & 1635747073\\\\\n",
       "\t INFRAESTRUCTURAS & 2020 &  797650078\\\\\n",
       "\t INFRAESTRUCTURAS & 2021 &  910113153\\\\\n",
       "\\end{tabular}\n"
      ],
      "text/markdown": [
       "\n",
       "A tibble: 5 x 3\n",
       "\n",
       "| grupo &lt;chr&gt; | anyo &lt;chr&gt; | inversion &lt;dbl&gt; |\n",
       "|---|---|---|\n",
       "| INFRAESTRUCTURAS | 2017 | 1055334365 |\n",
       "| INFRAESTRUCTURAS | 2018 | 1208736964 |\n",
       "| INFRAESTRUCTURAS | 2019 | 1635747073 |\n",
       "| INFRAESTRUCTURAS | 2020 |  797650078 |\n",
       "| INFRAESTRUCTURAS | 2021 |  910113153 |\n",
       "\n"
      ],
      "text/plain": [
       "  grupo            anyo inversion \n",
       "1 INFRAESTRUCTURAS 2017 1055334365\n",
       "2 INFRAESTRUCTURAS 2018 1208736964\n",
       "3 INFRAESTRUCTURAS 2019 1635747073\n",
       "4 INFRAESTRUCTURAS 2020  797650078\n",
       "5 INFRAESTRUCTURAS 2021  910113153"
      ]
     },
     "metadata": {},
     "output_type": "display_data"
    }
   ],
   "source": [
    "tdata_out |> slice_head(n = 5)"
   ]
  },
  {
   "cell_type": "markdown",
   "metadata": {
    "slideshow": {
     "slide_type": "slide"
    }
   },
   "source": [
    "## Synthetic Data Generation"
   ]
  },
  {
   "attachments": {},
   "cell_type": "markdown",
   "metadata": {
    "slideshow": {
     "slide_type": "slide"
    }
   },
   "source": [
    "No aplica\n"
   ]
  },
  {
   "cell_type": "markdown",
   "metadata": {
    "slideshow": {
     "slide_type": "slide"
    }
   },
   "source": [
    "## Fake Data Generation"
   ]
  },
  {
   "attachments": {},
   "cell_type": "markdown",
   "metadata": {
    "slideshow": {
     "slide_type": "slide"
    }
   },
   "source": [
    "No aplica"
   ]
  },
  {
   "cell_type": "markdown",
   "metadata": {
    "slideshow": {
     "slide_type": "slide"
    }
   },
   "source": [
    "## Open Data"
   ]
  },
  {
   "attachments": {},
   "cell_type": "markdown",
   "metadata": {
    "slideshow": {
     "slide_type": "slide"
    }
   },
   "source": [
    "Los datos de entrada se descargaron de fuentes abiertas"
   ]
  },
  {
   "cell_type": "markdown",
   "metadata": {},
   "source": [
    "## <font color='green'>Data Save</font>"
   ]
  },
  {
   "attachments": {},
   "cell_type": "markdown",
   "metadata": {},
   "source": [
    "Este proceso, puede copiarse y repetirse en aquellas partes del notebbok que necesiten guardar datos.\n",
    "Recuerde cambiar las cadenas añadida del fichero para diferenciarlas"
   ]
  },
  {
   "cell_type": "markdown",
   "metadata": {},
   "source": [
    "<font color='tomato'> Identificamos los datos a guardar</font>"
   ]
  },
  {
   "cell_type": "code",
   "execution_count": 34,
   "metadata": {
    "ExecuteTime": {
     "end_time": "2020-12-25T17:59:27.022001Z",
     "start_time": "2020-12-25T17:59:15.986986Z"
    },
    "scrolled": false,
    "vscode": {
     "languageId": "r"
    }
   },
   "outputs": [],
   "source": [
    "data_to_save <- tdata_out"
   ]
  },
  {
   "attachments": {},
   "cell_type": "markdown",
   "metadata": {},
   "source": [
    "\n",
    "<font color='tomato'>Estructura de nombre de archivos:</font>\n",
    "\n",
    "* Código del caso de uso, por ejemplo \"CU_04\"\n",
    "* Número del proceso que lo genera, por ejemplo \"_05\".\n",
    "* Número de la tarea que lo genera, por ejemplo \"_01\"\n",
    "* En caso de generarse varios ficheros en la misma tarea, llevarán _01 _02 ... después\n",
    "* Nombre: identificativo de \"properData\", por ejemplo \"_zonasgeo\"\n",
    "* Extensión del archivo\n",
    "\n",
    "Ejemplo: \"CU_04_05_01_01_zonasgeo.json, primer fichero que se genera en la tarea 01 del proceso 05 (Data Collection) para el caso de uso 04 (vacunas)\n",
    "\n",
    "Importante mantener los guiones bajos antes de proceso, tarea, archivo y nombre"
   ]
  },
  {
   "attachments": {},
   "cell_type": "markdown",
   "metadata": {},
   "source": [
    "### Proceso 05"
   ]
  },
  {
   "cell_type": "code",
   "execution_count": 35,
   "metadata": {
    "ExecuteTime": {
     "end_time": "2020-12-25T17:59:27.022001Z",
     "start_time": "2020-12-25T17:59:15.986986Z"
    },
    "scrolled": false,
    "vscode": {
     "languageId": "r"
    }
   },
   "outputs": [],
   "source": [
    "caso <- \"CU_53\"\n",
    "proceso <- '_05'\n",
    "tarea <- \"_05\"\n",
    "archivo <- \"\"\n",
    "proper <- \"_inversiones_cm\"\n",
    "extension <- \".csv\""
   ]
  },
  {
   "attachments": {},
   "cell_type": "markdown",
   "metadata": {},
   "source": [
    "<font color='tomato'><b> OPCION A:</b> Uso del paquete \"tcltk\" para mayor comodidad</font>\n",
    "\n",
    "* Buscar carpeta, escribir nombre de archivo SIN extensión (se especifica en el código)\n",
    "* Especificar sufijo2 si es necesario\n",
    "* Cambiar datos por datos_xx si es necesario"
   ]
  },
  {
   "cell_type": "code",
   "execution_count": null,
   "metadata": {
    "ExecuteTime": {
     "end_time": "2020-12-25T17:59:27.022001Z",
     "start_time": "2020-12-25T17:59:15.986986Z"
    },
    "scrolled": false,
    "vscode": {
     "languageId": "r"
    }
   },
   "outputs": [],
   "source": [
    "# file_save <- paste0(caso, proceso, tarea, tcltk::tkgetSaveFile(), proper, extension) \n",
    "# path_out <- paste0(oPath, file_save)\n",
    "# write_csv(data_to_save, path_out)\n",
    "\n",
    "# cat('File saved as: ')\n",
    "# path_out"
   ]
  },
  {
   "attachments": {},
   "cell_type": "markdown",
   "metadata": {},
   "source": [
    "<font color='tomato'><b> OPCION B:</b> Especificar el nombre de archivo</font>"
   ]
  },
  {
   "attachments": {},
   "cell_type": "markdown",
   "metadata": {},
   "source": [
    "- Los ficheros de salida del proceso van siempre a Data/Output/.  "
   ]
  },
  {
   "cell_type": "code",
   "execution_count": 36,
   "metadata": {
    "ExecuteTime": {
     "end_time": "2021-01-26T18:40:31.258294Z",
     "start_time": "2021-01-26T18:40:26.061847Z"
    },
    "slideshow": {
     "slide_type": "subslide"
    },
    "vscode": {
     "languageId": "r"
    }
   },
   "outputs": [
    {
     "name": "stdout",
     "output_type": "stream",
     "text": [
      "File saved as: "
     ]
    },
    {
     "data": {
      "text/html": [
       "'Data/Output/CU_53_05_05_inversiones_cm.csv'"
      ],
      "text/latex": [
       "'Data/Output/CU\\_53\\_05\\_05\\_inversiones\\_cm.csv'"
      ],
      "text/markdown": [
       "'Data/Output/CU_53_05_05_inversiones_cm.csv'"
      ],
      "text/plain": [
       "[1] \"Data/Output/CU_53_05_05_inversiones_cm.csv\""
      ]
     },
     "metadata": {},
     "output_type": "display_data"
    }
   ],
   "source": [
    "file_save <- paste0(caso, proceso, tarea, archivo, proper, extension) \n",
    "path_out <- paste0(oPath, file_save)\n",
    "write_csv(data_to_save, path_out)\n",
    "\n",
    "cat('File saved as: ')\n",
    "path_out"
   ]
  },
  {
   "attachments": {},
   "cell_type": "markdown",
   "metadata": {},
   "source": [
    "#### Copia del fichero a Input\n",
    "\n",
    "Si el archivo se va a usar en otros notebooks, copiar a la carpeta Input"
   ]
  },
  {
   "cell_type": "code",
   "execution_count": 37,
   "metadata": {
    "vscode": {
     "languageId": "r"
    }
   },
   "outputs": [
    {
     "data": {
      "text/html": [
       "TRUE"
      ],
      "text/latex": [
       "TRUE"
      ],
      "text/markdown": [
       "TRUE"
      ],
      "text/plain": [
       "[1] TRUE"
      ]
     },
     "metadata": {},
     "output_type": "display_data"
    }
   ],
   "source": [
    "path_in <- paste0(iPath, file_save)\n",
    "file.copy(path_out, path_in, overwrite = TRUE)"
   ]
  },
  {
   "cell_type": "markdown",
   "metadata": {},
   "source": [
    "## <font color=' #2874a6 '>Main Conclusions</font>"
   ]
  },
  {
   "cell_type": "markdown",
   "metadata": {
    "slideshow": {
     "slide_type": "slide"
    }
   },
   "source": [
    "<font color='steelblue'>List and describe the general conclusions of the analysis carried out​.</font>"
   ]
  },
  {
   "attachments": {},
   "cell_type": "markdown",
   "metadata": {},
   "source": [
    "### Prerequisites\n",
    "\n",
    "Para que funcione este código se necesita:\n",
    "\n",
    "* Las rutas de archivos `Data/Input` y `Data/Output` deben existir (relativas a la ruta del _notebook_)\n",
    "* Los archivos descargados deben estar en Data/Input/xls\n",
    "* Los paquetes purrr, readxl, readr, dplyr, stringr, tidyr deben estar instalados.\n"
   ]
  },
  {
   "attachments": {},
   "cell_type": "markdown",
   "metadata": {},
   "source": [
    "### Configuration Management\n",
    "\n",
    "This notebook has been tested with the following versions of R and packages. It cannot be assured that later versions work in the same way:\n",
    "* R 4.2.2\n",
    "* purrr 1.0.1\n",
    "* readxl 1.4.1\n",
    "* readr 2.1.3\n",
    "* dplyr 1.0.10\n",
    "* stringr 1.5.0\n",
    "* tidyr 1.3.0"
   ]
  },
  {
   "attachments": {},
   "cell_type": "markdown",
   "metadata": {},
   "source": [
    "### Data structures"
   ]
  },
  {
   "attachments": {},
   "cell_type": "markdown",
   "metadata": {},
   "source": [
    "#### Objeto `tdata_out`\n",
    "\n",
    "- Hay 24 filas con información de las siguientes variables:\n",
    "\t* grupo\n",
    "\t* anyo\n",
    "\t* inversion\n"
   ]
  },
  {
   "attachments": {},
   "cell_type": "markdown",
   "metadata": {},
   "source": [
    "#### Observaciones generales sobre los datos\n",
    "\n",
    "* Los datos no incluyen la ejecución de diciembre porque no hay datos consistentes a lo largo de los años. Se podría estudiar cómo completar este dato.\n"
   ]
  },
  {
   "attachments": {},
   "cell_type": "markdown",
   "metadata": {},
   "source": [
    "### Consideraciones para despliegue en piloto\n",
    "\n",
    "* No aplica"
   ]
  },
  {
   "attachments": {},
   "cell_type": "markdown",
   "metadata": {},
   "source": [
    "### Consideraciones para despliegue en producción\n",
    "\n",
    "* Se deben crear los procesos ETL en producción necesarios para que los datos de entrada estén actualizados"
   ]
  },
  {
   "cell_type": "markdown",
   "metadata": {},
   "source": [
    "## <font color=' #2874a6 '>Main Actions</font>"
   ]
  },
  {
   "cell_type": "markdown",
   "metadata": {},
   "source": [
    "#### <font color=' #2874a6 '>Acciones done</font>"
   ]
  },
  {
   "cell_type": "markdown",
   "metadata": {
    "slideshow": {
     "slide_type": "slide"
    }
   },
   "source": [
    "<font color='steelblue'>Indicate the actions that have been carried out in this process</font>"
   ]
  },
  {
   "attachments": {},
   "cell_type": "markdown",
   "metadata": {},
   "source": [
    "- Se han consolidado los datos de ejecución presupuestaria en un archivo\n",
    "- Se han normalizado las descripciones de las categorías para poder agrupar\n"
   ]
  },
  {
   "cell_type": "markdown",
   "metadata": {},
   "source": [
    "#### <font color=' #2874a6 '>Acctions to perform</font>"
   ]
  },
  {
   "cell_type": "markdown",
   "metadata": {
    "slideshow": {
     "slide_type": "slide"
    }
   },
   "source": [
    "<font color='steelblue'>Indicate the actions that must be carried out in subsequent processes</font>"
   ]
  },
  {
   "cell_type": "markdown",
   "metadata": {},
   "source": [
    "- Se deben relacionar las inversiones con el SPI\n",
    "- Como no hay datos relacionados directamente, hay que buscar qué indicadores están más correlacionados y hacer un modelo de regresión con aquellos que se puedan tener de la Comunidad de Madrid. De ahí hacer predicciones y simulaciones."
   ]
  },
  {
   "attachments": {},
   "cell_type": "markdown",
   "metadata": {},
   "source": [
    "## <font color='RED'>CODE TO DEPLOY (PILOT)</font>\n",
    "\n",
    "A continuación se incluirá el código que deba ser llevado a despliegue para producción, dado que se entiende efectúa operaciones necesarias sobre los datos en la ejecución del prototipo"
   ]
  },
  {
   "attachments": {},
   "cell_type": "markdown",
   "metadata": {},
   "source": [
    "<font color=' red '><b>Description</b></font>\n",
    "\n",
    "- No hay nada que desplegar en el piloto, ya que estos datos son estáticos o en todo caso cambian con muy poca frecuencia, altamente improbable durante el proyecto.\n"
   ]
  },
  {
   "attachments": {},
   "cell_type": "markdown",
   "metadata": {},
   "source": [
    "<font color=' red '><b>CODE</b></font>"
   ]
  },
  {
   "cell_type": "code",
   "execution_count": null,
   "metadata": {
    "vscode": {
     "languageId": "r"
    }
   },
   "outputs": [],
   "source": [
    "# incluir código"
   ]
  }
 ],
 "metadata": {
  "anaconda-cloud": {},
  "celltoolbar": "Slideshow",
  "hide_input": false,
  "kernelspec": {
   "display_name": "R",
   "language": "R",
   "name": "ir"
  },
  "language_info": {
   "codemirror_mode": "r",
   "file_extension": ".r",
   "mimetype": "text/x-r-source",
   "name": "R",
   "pygments_lexer": "r",
   "version": "4.2.2"
  },
  "latex_envs": {
   "LaTeX_envs_menu_present": true,
   "autoclose": false,
   "autocomplete": true,
   "bibliofile": "biblio.bib",
   "cite_by": "apalike",
   "current_citInitial": 1,
   "eqLabelWithNumbers": true,
   "eqNumInitial": 1,
   "hotkeys": {
    "equation": "Ctrl-E",
    "itemize": "Ctrl-I"
   },
   "labels_anchors": false,
   "latex_user_defs": false,
   "report_style_numbering": true,
   "user_envs_cfg": false
  },
  "toc": {
   "base_numbering": 1,
   "nav_menu": {
    "height": "11.6px",
    "width": "160px"
   },
   "number_sections": false,
   "sideBar": true,
   "skip_h1_title": true,
   "title_cell": "Table of Contents",
   "title_sidebar": "Contents",
   "toc_cell": true,
   "toc_position": {
    "height": "calc(100% - 180px)",
    "left": "10px",
    "top": "150px",
    "width": "209.2px"
   },
   "toc_section_display": true,
   "toc_window_display": true
  },
  "varInspector": {
   "cols": {
    "lenName": 16,
    "lenType": 16,
    "lenVar": 40
   },
   "kernels_config": {
    "python": {
     "delete_cmd_postfix": "",
     "delete_cmd_prefix": "del ",
     "library": "var_list.py",
     "varRefreshCmd": "print(var_dic_list())"
    },
    "r": {
     "delete_cmd_postfix": ") ",
     "delete_cmd_prefix": "rm(",
     "library": "var_list.r",
     "varRefreshCmd": "cat(var_dic_list()) "
    }
   },
   "types_to_exclude": [
    "module",
    "function",
    "builtin_function_or_method",
    "instance",
    "_Feature"
   ],
   "window_display": false
  }
 },
 "nbformat": 4,
 "nbformat_minor": 1
}
