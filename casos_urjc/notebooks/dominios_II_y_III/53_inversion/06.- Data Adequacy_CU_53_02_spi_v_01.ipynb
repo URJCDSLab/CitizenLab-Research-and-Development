{
 "cells": [
  {
   "cell_type": "markdown",
   "metadata": {
    "slideshow": {
     "slide_type": "slide"
    }
   },
   "source": [
    "<img src=\".\\images\\Logo.png\" width=150 align=\"left\" /> <img src=\".\\images\\Logo2.jpg\" width=450 align=\"right\" />"
   ]
  },
  {
   "cell_type": "markdown",
   "metadata": {
    "slideshow": {
     "slide_type": "slide"
    }
   },
   "source": [
    "\n",
    "# <center><font color= #1e8449 > <b>CU53_impacto de las políticas de inversión en sanidad, infraestructuras y promoción turística en el SPI\t\t\t</font></center>"
   ]
  },
  {
   "cell_type": "markdown",
   "metadata": {
    "slideshow": {
     "slide_type": "slide"
    }
   },
   "source": [
    "<font color='steelblue'><b>Citizenlab Data Science Methodology > II - Data Processing Domain </font>\n",
    "***\n",
    "> # <font color='steelblue'> <b>06.- Data Adequacy</font>"
   ]
  },
  {
   "cell_type": "markdown",
   "metadata": {
    "slideshow": {
     "slide_type": "slide"
    }
   },
   "source": [
    "<font color='steelblue'>Data Adequacy is the process to adapt basic and fundamental aspects of the raw data (File Format, Data Separator, Feature Names, Tidy Data, etcetera).</font>"
   ]
  },
  {
   "cell_type": "markdown",
   "metadata": {
    "slideshow": {
     "slide_type": "slide"
    }
   },
   "source": [
    "## <font color='steelblue'>Tasks</font>"
   ]
  },
  {
   "cell_type": "markdown",
   "metadata": {
    "slideshow": {
     "slide_type": "slide"
    }
   },
   "source": [
    "<font color='steelblue'><b>File format</b>\t\n",
    "- Verify/Obtain Tabular CSV (row x column) if is appropriate \n",
    "- Change Data Separator Character in CSV files to “,”\t\n",
    "- Verify decimal point in numeric data is “.”\n",
    "\n",
    "<font color='steelblue'><b>Feature Names\t\n",
    "- Verify names are Simple, Usable and Recognizable</b>\t\n",
    "- Rename Target column name=”Target” and always will be the last column\t\n",
    "- Verify column names are the first row of csv file\t\n",
    "- Remove spaces  others characters in the column names\t\n",
    "    \n",
    "<font color='steelblue'><b>Data Types</b>\n",
    "- Verify data types\t\n",
    "- Change data types\t\n",
    "- Verify that object type is changed\t\n",
    "    \n",
    "<font color='steelblue'><b>Tidy Data</b>\t\t\n",
    "- Verify each variable forms a column \n",
    "- Verify each observation forms a row\t\n",
    "- Verify each type of observational unit forms a table\t"
   ]
  },
  {
   "cell_type": "markdown",
   "metadata": {},
   "source": [
    "## Consideraciones casos CitizenLab programados en R\n",
    "\n",
    "* La mayoría de las tareas de este proceso se han realizado en los notebooks del proceso 05 Data Collection porque eran necesarias para las tareas ETL. En esos casos, en este notebook se referencia al notebook del proceso 05 correspondiente\n",
    "* Por tanto en los notebooks de este proceso de manera general se incluyen las comprobaciones necesarias, y comentarios si procede\n",
    "* Las tareas del proceso se van a aplicar solo a los archivos que forman parte del despliegue, ya que hay muchos archivos intermedios que no procede pasar por este proceso\n",
    "* El nombre de archivo del notebook hace referencia al nombre de archivo del proceso 05 al que se aplica este proceso, por eso pueden no ser correlativa la numeración\n",
    "* Las comprobaciones se van a realizar teniendo en cuenta que el lenguaje utilizado en el despliegue de este caso es R"
   ]
  },
  {
   "cell_type": "markdown",
   "metadata": {
    "slideshow": {
     "slide_type": "slide"
    }
   },
   "source": [
    "## <font color='green'>File</font>"
   ]
  },
  {
   "cell_type": "markdown",
   "metadata": {
    "slideshow": {
     "slide_type": "slide"
    }
   },
   "source": [
    "- <font color='steelblue'> <b>Input File: CU_53_05_02_01_spi</font>\n",
    "- <font color='steelblue'> <b>Output File: CU_53_06_02_spi</font>"
   ]
  },
  {
   "cell_type": "markdown",
   "metadata": {
    "slideshow": {
     "slide_type": "slide"
    }
   },
   "source": [
    "## <font color='green'>Settings</font>"
   ]
  },
  {
   "cell_type": "markdown",
   "metadata": {},
   "source": [
    "### Encoding\n",
    "\n",
    "Con la siguiente expresión se evitan problemas con el encoding al ejecutar el notebook. Es posible que deba ser eliminada o adaptada a la máquina en la que se ejecute el código."
   ]
  },
  {
   "cell_type": "code",
   "execution_count": 1,
   "metadata": {
    "vscode": {
     "languageId": "r"
    }
   },
   "outputs": [
    {
     "data": {
      "text/html": [
       "'LC_CTYPE=es_ES.UTF-8;LC_NUMERIC=C;LC_TIME=es_ES.UTF-8;LC_COLLATE=es_ES.UTF-8;LC_MONETARY=es_ES.UTF-8;LC_MESSAGES=en_US.UTF-8;LC_PAPER=es_ES.UTF-8;LC_NAME=C;LC_ADDRESS=C;LC_TELEPHONE=C;LC_MEASUREMENT=es_ES.UTF-8;LC_IDENTIFICATION=C'"
      ],
      "text/latex": [
       "'LC\\_CTYPE=es\\_ES.UTF-8;LC\\_NUMERIC=C;LC\\_TIME=es\\_ES.UTF-8;LC\\_COLLATE=es\\_ES.UTF-8;LC\\_MONETARY=es\\_ES.UTF-8;LC\\_MESSAGES=en\\_US.UTF-8;LC\\_PAPER=es\\_ES.UTF-8;LC\\_NAME=C;LC\\_ADDRESS=C;LC\\_TELEPHONE=C;LC\\_MEASUREMENT=es\\_ES.UTF-8;LC\\_IDENTIFICATION=C'"
      ],
      "text/markdown": [
       "'LC_CTYPE=es_ES.UTF-8;LC_NUMERIC=C;LC_TIME=es_ES.UTF-8;LC_COLLATE=es_ES.UTF-8;LC_MONETARY=es_ES.UTF-8;LC_MESSAGES=en_US.UTF-8;LC_PAPER=es_ES.UTF-8;LC_NAME=C;LC_ADDRESS=C;LC_TELEPHONE=C;LC_MEASUREMENT=es_ES.UTF-8;LC_IDENTIFICATION=C'"
      ],
      "text/plain": [
       "[1] \"LC_CTYPE=es_ES.UTF-8;LC_NUMERIC=C;LC_TIME=es_ES.UTF-8;LC_COLLATE=es_ES.UTF-8;LC_MONETARY=es_ES.UTF-8;LC_MESSAGES=en_US.UTF-8;LC_PAPER=es_ES.UTF-8;LC_NAME=C;LC_ADDRESS=C;LC_TELEPHONE=C;LC_MEASUREMENT=es_ES.UTF-8;LC_IDENTIFICATION=C\""
      ]
     },
     "metadata": {},
     "output_type": "display_data"
    }
   ],
   "source": [
    "Sys.setlocale(category = \"LC_ALL\", locale = \"es_ES.UTF-8\")"
   ]
  },
  {
   "cell_type": "markdown",
   "metadata": {},
   "source": [
    "### Libraries to use"
   ]
  },
  {
   "cell_type": "code",
   "execution_count": 2,
   "metadata": {
    "ExecuteTime": {
     "end_time": "2020-12-25T18:02:52.556732Z",
     "start_time": "2020-12-25T18:02:52.541126Z"
    },
    "slideshow": {
     "slide_type": "subslide"
    },
    "vscode": {
     "languageId": "r"
    }
   },
   "outputs": [
    {
     "name": "stderr",
     "output_type": "stream",
     "text": [
      "\n",
      "Attaching package: ‘dplyr’\n",
      "\n",
      "\n",
      "The following objects are masked from ‘package:stats’:\n",
      "\n",
      "    filter, lag\n",
      "\n",
      "\n",
      "The following objects are masked from ‘package:base’:\n",
      "\n",
      "    intersect, setdiff, setequal, union\n",
      "\n",
      "\n"
     ]
    }
   ],
   "source": [
    "library(readr)\n",
    "library(dplyr)\n",
    "# library(sf)\n",
    "library(tidyr)\n",
    "library(stringr)"
   ]
  },
  {
   "cell_type": "markdown",
   "metadata": {},
   "source": [
    "### Paths"
   ]
  },
  {
   "cell_type": "code",
   "execution_count": 3,
   "metadata": {
    "vscode": {
     "languageId": "r"
    }
   },
   "outputs": [],
   "source": [
    "iPath <- \"Data/Input/\"\n",
    "oPath <- \"Data/Output/\""
   ]
  },
  {
   "cell_type": "markdown",
   "metadata": {
    "slideshow": {
     "slide_type": "slide"
    }
   },
   "source": [
    "## <font color='green'>Data Load</font>"
   ]
  },
  {
   "cell_type": "markdown",
   "metadata": {},
   "source": [
    "<font color='tomato'><b> OPCION A:</b> Seleccionar fichero en ventana para mayor comodidad</font> "
   ]
  },
  {
   "cell_type": "markdown",
   "metadata": {},
   "source": [
    "Data load using the {tcltk} package. Ucomment the line if using this option"
   ]
  },
  {
   "cell_type": "code",
   "execution_count": 4,
   "metadata": {
    "vscode": {
     "languageId": "r"
    }
   },
   "outputs": [],
   "source": [
    "# file_data <- tcltk::tk_choose.files(multi = FALSE)"
   ]
  },
  {
   "cell_type": "markdown",
   "metadata": {},
   "source": [
    "<font color='tomato'><b> OPCION B:</b> Especificar el nombre de archivo</font>\n",
    "\n"
   ]
  },
  {
   "cell_type": "code",
   "execution_count": 5,
   "metadata": {
    "vscode": {
     "languageId": "r"
    }
   },
   "outputs": [
    {
     "name": "stdout",
     "output_type": "stream",
     "text": [
      "Se leerán datos del archivo:  Data/Input/CU_53_05_02_01_spi.csv"
     ]
    }
   ],
   "source": [
    "iFile <- \"CU_53_05_02_01_spi.csv\"\n",
    "file_data <- paste0(iPath, iFile)\n",
    "\n",
    "if(file.exists(file_data)){\n",
    "    cat(\"Se leerán datos del archivo: \", file_data)\n",
    "} else{\n",
    "    warning(\"Cuidado: el archivo no existe.\")\n",
    "}\n"
   ]
  },
  {
   "cell_type": "markdown",
   "metadata": {
    "slideshow": {
     "slide_type": "slide"
    }
   },
   "source": [
    "## <font color='green'>Task</font>"
   ]
  },
  {
   "cell_type": "markdown",
   "metadata": {
    "slideshow": {
     "slide_type": "slide"
    }
   },
   "source": [
    "### File format\n"
   ]
  },
  {
   "cell_type": "markdown",
   "metadata": {
    "slideshow": {
     "slide_type": "slide"
    }
   },
   "source": [
    "#### Verify/Obtain Tabular CSV (row x column) if is appropriate"
   ]
  },
  {
   "cell_type": "markdown",
   "metadata": {},
   "source": [
    "<font color=' #2874a6 '><b>Remarks</b></font>"
   ]
  },
  {
   "cell_type": "markdown",
   "metadata": {},
   "source": [
    "- Se ha verificado que el CSV carga las filas y columnas sin errores\n"
   ]
  },
  {
   "cell_type": "markdown",
   "metadata": {},
   "source": [
    "<font color=' #2874a6 '><b>CODE</b></font>"
   ]
  },
  {
   "cell_type": "markdown",
   "metadata": {},
   "source": [
    "#### Data file to dataframe\n",
    "\n",
    "Usar la función adecuada según el formato de entrada (xlsx, csv, json, ...)"
   ]
  },
  {
   "cell_type": "code",
   "execution_count": 6,
   "metadata": {
    "vscode": {
     "languageId": "r"
    }
   },
   "outputs": [
    {
     "name": "stderr",
     "output_type": "stream",
     "text": [
      "\u001b[1mRows: \u001b[22m\u001b[34m2364\u001b[39m \u001b[1mColumns: \u001b[22m\u001b[34m81\u001b[39m\n",
      "\u001b[36m──\u001b[39m \u001b[1mColumn specification\u001b[22m \u001b[36m───────────────────────────────────────────────────────────────────────────────────────────────────────────────────────────────────────────────────────────────────\u001b[39m\n",
      "\u001b[1mDelimiter:\u001b[22m \",\"\n",
      "\u001b[31mchr\u001b[39m  (3): country, spicountrycode, status\n",
      "\u001b[32mdbl\u001b[39m (78): rank_score_spi, spiyear, score_spi, score_bhn, score_fow, score_op...\n",
      "\n",
      "\u001b[36mℹ\u001b[39m Use `spec()` to retrieve the full column specification for this data.\n",
      "\u001b[36mℹ\u001b[39m Specify the column types or set `show_col_types = FALSE` to quiet this message.\n"
     ]
    }
   ],
   "source": [
    "data <- read_csv(file_data)\n"
   ]
  },
  {
   "cell_type": "markdown",
   "metadata": {},
   "source": [
    "Estructura de  los datos:"
   ]
  },
  {
   "cell_type": "code",
   "execution_count": 7,
   "metadata": {
    "vscode": {
     "languageId": "r"
    }
   },
   "outputs": [
    {
     "name": "stdout",
     "output_type": "stream",
     "text": [
      "Rows: 2,364\n",
      "Columns: 81\n",
      "$ rank_score_spi       \u001b[3m\u001b[90m<dbl>\u001b[39m\u001b[23m NA, NA, NA, NA, NA, NA, NA, NA, NA, NA, NA, NA, 1…\n",
      "$ country              \u001b[3m\u001b[90m<chr>\u001b[39m\u001b[23m \"World\", \"World\", \"World\", \"World\", \"World\", \"Wor…\n",
      "$ spicountrycode       \u001b[3m\u001b[90m<chr>\u001b[39m\u001b[23m \"WWW\", \"WWW\", \"WWW\", \"WWW\", \"WWW\", \"WWW\", \"WWW\", …\n",
      "$ spiyear              \u001b[3m\u001b[90m<dbl>\u001b[39m\u001b[23m 2022, 2021, 2020, 2019, 2018, 2017, 2016, 2015, 2…\n",
      "$ status               \u001b[3m\u001b[90m<chr>\u001b[39m\u001b[23m NA, NA, NA, NA, NA, NA, NA, NA, NA, NA, NA, NA, \"…\n",
      "$ score_spi            \u001b[3m\u001b[90m<dbl>\u001b[39m\u001b[23m 65.24, 64.87, 64.55, 64.31, 63.62, 63.29, 62.65, …\n",
      "$ score_bhn            \u001b[3m\u001b[90m<dbl>\u001b[39m\u001b[23m 75.80, 75.35, 74.91, 74.48, 73.98, 73.43, 72.88, …\n",
      "$ score_fow            \u001b[3m\u001b[90m<dbl>\u001b[39m\u001b[23m 63.62, 63.18, 62.91, 62.46, 61.03, 60.52, 59.26, …\n",
      "$ score_opp            \u001b[3m\u001b[90m<dbl>\u001b[39m\u001b[23m 56.28, 56.07, 55.83, 55.98, 55.84, 55.92, 55.80, …\n",
      "$ score_nbmc           \u001b[3m\u001b[90m<dbl>\u001b[39m\u001b[23m 82.09, 82.01, 81.79, 81.53, 81.23, 80.90, 80.53, …\n",
      "$ score_ws             \u001b[3m\u001b[90m<dbl>\u001b[39m\u001b[23m 80.74, 79.84, 78.69, 77.99, 77.20, 76.59, 76.17, …\n",
      "$ score_sh             \u001b[3m\u001b[90m<dbl>\u001b[39m\u001b[23m 79.36, 78.86, 78.50, 77.63, 76.92, 75.92, 74.97, …\n",
      "$ score_ps             \u001b[3m\u001b[90m<dbl>\u001b[39m\u001b[23m 61.02, 60.68, 60.66, 60.78, 60.56, 60.31, 59.86, …\n",
      "$ score_abk            \u001b[3m\u001b[90m<dbl>\u001b[39m\u001b[23m 72.42, 72.50, 72.36, 72.27, 71.90, 71.67, 71.16, …\n",
      "$ score_aic            \u001b[3m\u001b[90m<dbl>\u001b[39m\u001b[23m 75.96, 74.44, 73.71, 72.87, 68.90, 67.40, 63.91, …\n",
      "$ score_hw             \u001b[3m\u001b[90m<dbl>\u001b[39m\u001b[23m 58.21, 57.91, 57.84, 57.25, 56.72, 56.19, 55.78, …\n",
      "$ score_eq             \u001b[3m\u001b[90m<dbl>\u001b[39m\u001b[23m 47.90, 47.87, 47.73, 47.45, 46.58, 46.82, 46.19, …\n",
      "$ score_pr             \u001b[3m\u001b[90m<dbl>\u001b[39m\u001b[23m 60.40, 60.38, 61.01, 61.49, 61.97, 62.86, 63.30, …\n",
      "$ score_pfc            \u001b[3m\u001b[90m<dbl>\u001b[39m\u001b[23m 62.27, 62.36, 62.39, 62.58, 62.46, 62.39, 62.05, …\n",
      "$ score_incl           \u001b[3m\u001b[90m<dbl>\u001b[39m\u001b[23m 42.97, 42.14, 41.39, 41.86, 41.48, 41.62, 41.70, …\n",
      "$ score_aae            \u001b[3m\u001b[90m<dbl>\u001b[39m\u001b[23m 59.50, 59.39, 58.52, 58.00, 57.46, 56.81, 56.17, …\n",
      "$ nbmc_stunting        \u001b[3m\u001b[90m<dbl>\u001b[39m\u001b[23m 13.8027, 14.0202, 14.2332, 14.4525, 14.6888, 14.9…\n",
      "$ nbmc_infectiousdaly  \u001b[3m\u001b[90m<dbl>\u001b[39m\u001b[23m 5412.513, 5585.193, 5808.714, 6038.574, 6314.341,…\n",
      "$ nbmc_matmort         \u001b[3m\u001b[90m<dbl>\u001b[39m\u001b[23m 97.0507, 97.9615, 99.0098, 100.1971, 101.5897, 10…\n",
      "$ nbmc_childmort       \u001b[3m\u001b[90m<dbl>\u001b[39m\u001b[23m 26.2493, 27.0843, 27.9841, 28.9533, 30.0464, 31.1…\n",
      "$ nbmc_undernourish    \u001b[3m\u001b[90m<dbl>\u001b[39m\u001b[23m 9.5083, 8.9530, 8.8949, 8.9118, 8.9593, 9.0725, 9…\n",
      "$ nbmc_dietlowfruitveg \u001b[3m\u001b[90m<dbl>\u001b[39m\u001b[23m 52.4891, 52.5851, 52.7105, 52.8507, 53.0054, 53.1…\n",
      "$ ws_washmortdalys     \u001b[3m\u001b[90m<dbl>\u001b[39m\u001b[23m 1110.5481, 1163.1967, 1226.1396, 1257.8374, 1313.…\n",
      "$ ws_sanitation        \u001b[3m\u001b[90m<dbl>\u001b[39m\u001b[23m 0.7853, 0.7724, 0.7550, 0.7559, 0.7462, 0.7339, 0…\n",
      "$ ws_water             \u001b[3m\u001b[90m<dbl>\u001b[39m\u001b[23m 0.9112, 0.9078, 0.9033, 0.9041, 0.9019, 0.8990, 0…\n",
      "$ ws_watersat          \u001b[3m\u001b[90m<dbl>\u001b[39m\u001b[23m 0.7424, 0.7315, 0.7182, 0.6976, 0.6868, 0.6847, 0…\n",
      "$ sh_hhairpolldalys    \u001b[3m\u001b[90m<dbl>\u001b[39m\u001b[23m 1325.6415, 1400.8573, 1465.7838, 1528.8021, 1596.…\n",
      "$ sh_affhousingdissat  \u001b[3m\u001b[90m<dbl>\u001b[39m\u001b[23m 0.3704, 0.3676, 0.3593, 0.3699, 0.3737, 0.3876, 0…\n",
      "$ sh_electricity       \u001b[3m\u001b[90m<dbl>\u001b[39m\u001b[23m 90.0831, 89.5766, 89.1320, 88.1540, 87.2604, 86.1…\n",
      "$ sh_cleanfuels        \u001b[3m\u001b[90m<dbl>\u001b[39m\u001b[23m 65.6136, 64.5201, 63.2636, 62.1685, 61.0557, 59.9…\n",
      "$ ps_politicalkillings \u001b[3m\u001b[90m<dbl>\u001b[39m\u001b[23m 0.5855, 0.5653, 0.5829, 0.5956, 0.6022, 0.6017, 0…\n",
      "$ ps_intpersvioldaly   \u001b[3m\u001b[90m<dbl>\u001b[39m\u001b[23m 341.1930, 348.6951, 350.5466, 349.5562, 355.8503,…\n",
      "$ ps_transportdaly     \u001b[3m\u001b[90m<dbl>\u001b[39m\u001b[23m 995.2075, 1005.0394, 1008.2297, 1023.3297, 1043.7…\n",
      "$ ps_intimpartnviol    \u001b[3m\u001b[90m<dbl>\u001b[39m\u001b[23m 13.2783, 13.3475, 13.4232, 13.4976, 13.5729, 13.6…\n",
      "$ ps_moneystolen       \u001b[3m\u001b[90m<dbl>\u001b[39m\u001b[23m 0.1319, 0.1308, 0.1345, 0.1319, 0.1340, 0.1355, 0…\n",
      "$ abk_qualeduc         \u001b[3m\u001b[90m<dbl>\u001b[39m\u001b[23m 1.5663, 1.6016, 1.6172, 1.6413, 1.6513, 1.6568, 1…\n",
      "$ abk_propnoeduc       \u001b[3m\u001b[90m<dbl>\u001b[39m\u001b[23m 0.1677, 0.1714, 0.1753, 0.1792, 0.1833, 0.1874, 0…\n",
      "$ abk_popsomesec       \u001b[3m\u001b[90m<dbl>\u001b[39m\u001b[23m 59.3857, 59.3257, 58.9104, 58.7618, 57.9001, 57.5…\n",
      "$ abk_totprimenrol     \u001b[3m\u001b[90m<dbl>\u001b[39m\u001b[23m 92.5845, 92.6930, 92.7453, 92.8029, 92.7666, 92.7…\n",
      "$ abk_educpar          \u001b[3m\u001b[90m<dbl>\u001b[39m\u001b[23m 0.1895, 0.1892, 0.1913, 0.1944, 0.2000, 0.2031, 0…\n",
      "$ aic_altinfo          \u001b[3m\u001b[90m<dbl>\u001b[39m\u001b[23m 0.5581, 0.5581, 0.5619, 0.5620, 0.5664, 0.5837, 0…\n",
      "$ aic_mobiles          \u001b[3m\u001b[90m<dbl>\u001b[39m\u001b[23m 105.7527, 106.1647, 103.5512, 102.5812, 100.4686,…\n",
      "$ aic_internet         \u001b[3m\u001b[90m<dbl>\u001b[39m\u001b[23m 58.4423, 52.9280, 48.5497, 45.4282, 42.9375, 39.9…\n",
      "$ aic_eparticip        \u001b[3m\u001b[90m<dbl>\u001b[39m\u001b[23m 0.7534, 0.7550, 0.7725, 0.7738, 0.6500, 0.6513, 0…\n",
      "$ hw_qualityhealth     \u001b[3m\u001b[90m<dbl>\u001b[39m\u001b[23m 1.5816, 1.5880, 1.6693, 1.6806, 1.6953, 1.7167, 1…\n",
      "$ hw_lifex60           \u001b[3m\u001b[90m<dbl>\u001b[39m\u001b[23m 20.3304, 20.2712, 20.2290, 20.1313, 20.0435, 19.9…\n",
      "$ hw_ncdmort           \u001b[3m\u001b[90m<dbl>\u001b[39m\u001b[23m 374.7873, 380.2000, 386.0096, 392.0828, 398.3793,…\n",
      "$ hw_univhealthcov     \u001b[3m\u001b[90m<dbl>\u001b[39m\u001b[23m 66.4853, 66.0378, 65.5144, 64.9584, 64.5299, 64.2…\n",
      "$ hw_qualhealthsat     \u001b[3m\u001b[90m<dbl>\u001b[39m\u001b[23m 0.6394, 0.6381, 0.6359, 0.6232, 0.6110, 0.5961, 0…\n",
      "$ eq_airpolldalys      \u001b[3m\u001b[90m<dbl>\u001b[39m\u001b[23m 1564.3610, 1551.2358, 1555.8151, 1599.3593, 1647.…\n",
      "$ eq_leadexpdalys      \u001b[3m\u001b[90m<dbl>\u001b[39m\u001b[23m 326.7876, 333.9709, 341.1407, 349.1149, 356.5378,…\n",
      "$ eq_pm25              \u001b[3m\u001b[90m<dbl>\u001b[39m\u001b[23m 45.7065, 45.6731, 45.6643, 45.3535, 47.3430, 45.9…\n",
      "$ eq_spindex           \u001b[3m\u001b[90m<dbl>\u001b[39m\u001b[23m 61.1883, 61.1169, 60.9789, 60.8695, 60.7703, 60.7…\n",
      "$ pr_freerelig         \u001b[3m\u001b[90m<dbl>\u001b[39m\u001b[23m 2.4025, 2.4020, 2.4122, 2.4692, 2.4784, 2.5806, 2…\n",
      "$ pr_proprightswomen   \u001b[3m\u001b[90m<dbl>\u001b[39m\u001b[23m 3.9055, 3.8970, 3.9027, 3.8866, 3.8830, 3.8944, 3…\n",
      "$ pr_peaceassemb       \u001b[3m\u001b[90m<dbl>\u001b[39m\u001b[23m 1.9866, 2.0530, 2.1117, 2.1161, 2.1515, 2.1745, 2…\n",
      "$ pr_accessjustice     \u001b[3m\u001b[90m<dbl>\u001b[39m\u001b[23m 0.5941, 0.5831, 0.5916, 0.5914, 0.5999, 0.5998, 0…\n",
      "$ pr_freediscuss       \u001b[3m\u001b[90m<dbl>\u001b[39m\u001b[23m 0.5978, 0.5849, 0.5917, 0.6027, 0.6100, 0.6179, 0…\n",
      "$ pr_polrights         \u001b[3m\u001b[90m<dbl>\u001b[39m\u001b[23m 19.2707, 19.6530, 19.9072, 20.2304, 20.4150, 20.9…\n",
      "$ pfc_freedomestmov    \u001b[3m\u001b[90m<dbl>\u001b[39m\u001b[23m 0.6054, 0.5953, 0.6169, 0.6535, 0.6467, 0.6577, 0…\n",
      "$ pfc_earlymarriage    \u001b[3m\u001b[90m<dbl>\u001b[39m\u001b[23m 10.3461, 10.5139, 10.6854, 10.8554, 11.0282, 11.2…\n",
      "$ pfc_contracept       \u001b[3m\u001b[90m<dbl>\u001b[39m\u001b[23m 74.4316, 74.1702, 73.9048, 73.6566, 73.3902, 73.2…\n",
      "$ pfc_neet             \u001b[3m\u001b[90m<dbl>\u001b[39m\u001b[23m 22.2264, 20.7324, 20.9768, 20.9641, 20.9421, 20.9…\n",
      "$ pfc_vulnemploy       \u001b[3m\u001b[90m<dbl>\u001b[39m\u001b[23m 46.2278, 46.5302, 46.9376, 47.2727, 47.5735, 47.9…\n",
      "$ pfc_corruption       \u001b[3m\u001b[90m<dbl>\u001b[39m\u001b[23m 41.1208, 40.7652, 40.8253, 40.4453, 40.9192, 40.6…\n",
      "$ incl_equalprotect    \u001b[3m\u001b[90m<dbl>\u001b[39m\u001b[23m 0.5141, 0.5096, 0.5183, 0.5462, 0.5550, 0.5578, 0…\n",
      "$ incl_equalaccess     \u001b[3m\u001b[90m<dbl>\u001b[39m\u001b[23m 0.5446, 0.5460, 0.5225, 0.5603, 0.5557, 0.5666, 0…\n",
      "$ incl_sexualorient    \u001b[3m\u001b[90m<dbl>\u001b[39m\u001b[23m 0.8111, 0.7890, 0.7612, 0.8102, 0.7837, 0.8245, 0…\n",
      "$ incl_accpubsersocgr  \u001b[3m\u001b[90m<dbl>\u001b[39m\u001b[23m 1.9767, 1.9979, 2.0361, 2.0183, 2.0772, 2.0809, 2…\n",
      "$ incl_gayslesb        \u001b[3m\u001b[90m<dbl>\u001b[39m\u001b[23m 0.4127, 0.3851, 0.3506, 0.3064, 0.2839, 0.2645, 0…\n",
      "$ incl_discrimin       \u001b[3m\u001b[90m<dbl>\u001b[39m\u001b[23m 7.1472, 7.3180, 7.2646, 7.4035, 7.5010, 7.5329, 7…\n",
      "$ aae_acadfreed        \u001b[3m\u001b[90m<dbl>\u001b[39m\u001b[23m 0.4374, 0.4784, 0.4647, 0.4733, 0.4836, 0.4861, 0…\n",
      "$ aae_femterteduc      \u001b[3m\u001b[90m<dbl>\u001b[39m\u001b[23m 0.3450, 0.3342, 0.3235, 0.3132, 0.3032, 0.2936, 0…\n",
      "$ aae_tertschlife      \u001b[3m\u001b[90m<dbl>\u001b[39m\u001b[23m 2.1666, 2.1218, 2.0671, 2.0268, 2.0050, 1.9681, 1…\n",
      "$ aae_citabledocs      \u001b[3m\u001b[90m<dbl>\u001b[39m\u001b[23m 0.5862, 0.5438, 0.5146, 0.4859, 0.4609, 0.4489, 0…\n",
      "$ aae_qualuniversities \u001b[3m\u001b[90m<dbl>\u001b[39m\u001b[23m 217.6475, 225.5760, 211.4173, 203.6117, 185.5802,…\n"
     ]
    }
   ],
   "source": [
    "data |> glimpse()"
   ]
  },
  {
   "cell_type": "markdown",
   "metadata": {},
   "source": [
    "Muestra de los primeros datos:"
   ]
  },
  {
   "cell_type": "code",
   "execution_count": 8,
   "metadata": {
    "vscode": {
     "languageId": "r"
    }
   },
   "outputs": [
    {
     "data": {
      "text/html": [
       "<table class=\"dataframe\">\n",
       "<caption>A spec_tbl_df: 5 × 81</caption>\n",
       "<thead>\n",
       "\t<tr><th scope=col>rank_score_spi</th><th scope=col>country</th><th scope=col>spicountrycode</th><th scope=col>spiyear</th><th scope=col>status</th><th scope=col>score_spi</th><th scope=col>score_bhn</th><th scope=col>score_fow</th><th scope=col>score_opp</th><th scope=col>score_nbmc</th><th scope=col>⋯</th><th scope=col>incl_equalaccess</th><th scope=col>incl_sexualorient</th><th scope=col>incl_accpubsersocgr</th><th scope=col>incl_gayslesb</th><th scope=col>incl_discrimin</th><th scope=col>aae_acadfreed</th><th scope=col>aae_femterteduc</th><th scope=col>aae_tertschlife</th><th scope=col>aae_citabledocs</th><th scope=col>aae_qualuniversities</th></tr>\n",
       "\t<tr><th scope=col>&lt;dbl&gt;</th><th scope=col>&lt;chr&gt;</th><th scope=col>&lt;chr&gt;</th><th scope=col>&lt;dbl&gt;</th><th scope=col>&lt;chr&gt;</th><th scope=col>&lt;dbl&gt;</th><th scope=col>&lt;dbl&gt;</th><th scope=col>&lt;dbl&gt;</th><th scope=col>&lt;dbl&gt;</th><th scope=col>&lt;dbl&gt;</th><th scope=col>⋯</th><th scope=col>&lt;dbl&gt;</th><th scope=col>&lt;dbl&gt;</th><th scope=col>&lt;dbl&gt;</th><th scope=col>&lt;dbl&gt;</th><th scope=col>&lt;dbl&gt;</th><th scope=col>&lt;dbl&gt;</th><th scope=col>&lt;dbl&gt;</th><th scope=col>&lt;dbl&gt;</th><th scope=col>&lt;dbl&gt;</th><th scope=col>&lt;dbl&gt;</th></tr>\n",
       "</thead>\n",
       "<tbody>\n",
       "\t<tr><td>NA</td><td>World</td><td>WWW</td><td>2022</td><td>NA</td><td>65.24</td><td>75.80</td><td>63.62</td><td>56.28</td><td>82.09</td><td>⋯</td><td>0.5446</td><td>0.8111</td><td>1.9767</td><td>0.4127</td><td>7.1472</td><td>0.4374</td><td>0.3450</td><td>2.1666</td><td>0.5862</td><td>217.6475</td></tr>\n",
       "\t<tr><td>NA</td><td>World</td><td>WWW</td><td>2021</td><td>NA</td><td>64.87</td><td>75.35</td><td>63.18</td><td>56.07</td><td>82.01</td><td>⋯</td><td>0.5460</td><td>0.7890</td><td>1.9979</td><td>0.3851</td><td>7.3180</td><td>0.4784</td><td>0.3342</td><td>2.1218</td><td>0.5438</td><td>225.5760</td></tr>\n",
       "\t<tr><td>NA</td><td>World</td><td>WWW</td><td>2020</td><td>NA</td><td>64.55</td><td>74.91</td><td>62.91</td><td>55.83</td><td>81.79</td><td>⋯</td><td>0.5225</td><td>0.7612</td><td>2.0361</td><td>0.3506</td><td>7.2646</td><td>0.4647</td><td>0.3235</td><td>2.0671</td><td>0.5146</td><td>211.4173</td></tr>\n",
       "\t<tr><td>NA</td><td>World</td><td>WWW</td><td>2019</td><td>NA</td><td>64.31</td><td>74.48</td><td>62.46</td><td>55.98</td><td>81.53</td><td>⋯</td><td>0.5603</td><td>0.8102</td><td>2.0183</td><td>0.3064</td><td>7.4035</td><td>0.4733</td><td>0.3132</td><td>2.0268</td><td>0.4859</td><td>203.6117</td></tr>\n",
       "\t<tr><td>NA</td><td>World</td><td>WWW</td><td>2018</td><td>NA</td><td>63.62</td><td>73.98</td><td>61.03</td><td>55.84</td><td>81.23</td><td>⋯</td><td>0.5557</td><td>0.7837</td><td>2.0772</td><td>0.2839</td><td>7.5010</td><td>0.4836</td><td>0.3032</td><td>2.0050</td><td>0.4609</td><td>185.5802</td></tr>\n",
       "</tbody>\n",
       "</table>\n"
      ],
      "text/latex": [
       "A spec\\_tbl\\_df: 5 × 81\n",
       "\\begin{tabular}{lllllllllllllllllllll}\n",
       " rank\\_score\\_spi & country & spicountrycode & spiyear & status & score\\_spi & score\\_bhn & score\\_fow & score\\_opp & score\\_nbmc & ⋯ & incl\\_equalaccess & incl\\_sexualorient & incl\\_accpubsersocgr & incl\\_gayslesb & incl\\_discrimin & aae\\_acadfreed & aae\\_femterteduc & aae\\_tertschlife & aae\\_citabledocs & aae\\_qualuniversities\\\\\n",
       " <dbl> & <chr> & <chr> & <dbl> & <chr> & <dbl> & <dbl> & <dbl> & <dbl> & <dbl> & ⋯ & <dbl> & <dbl> & <dbl> & <dbl> & <dbl> & <dbl> & <dbl> & <dbl> & <dbl> & <dbl>\\\\\n",
       "\\hline\n",
       "\t NA & World & WWW & 2022 & NA & 65.24 & 75.80 & 63.62 & 56.28 & 82.09 & ⋯ & 0.5446 & 0.8111 & 1.9767 & 0.4127 & 7.1472 & 0.4374 & 0.3450 & 2.1666 & 0.5862 & 217.6475\\\\\n",
       "\t NA & World & WWW & 2021 & NA & 64.87 & 75.35 & 63.18 & 56.07 & 82.01 & ⋯ & 0.5460 & 0.7890 & 1.9979 & 0.3851 & 7.3180 & 0.4784 & 0.3342 & 2.1218 & 0.5438 & 225.5760\\\\\n",
       "\t NA & World & WWW & 2020 & NA & 64.55 & 74.91 & 62.91 & 55.83 & 81.79 & ⋯ & 0.5225 & 0.7612 & 2.0361 & 0.3506 & 7.2646 & 0.4647 & 0.3235 & 2.0671 & 0.5146 & 211.4173\\\\\n",
       "\t NA & World & WWW & 2019 & NA & 64.31 & 74.48 & 62.46 & 55.98 & 81.53 & ⋯ & 0.5603 & 0.8102 & 2.0183 & 0.3064 & 7.4035 & 0.4733 & 0.3132 & 2.0268 & 0.4859 & 203.6117\\\\\n",
       "\t NA & World & WWW & 2018 & NA & 63.62 & 73.98 & 61.03 & 55.84 & 81.23 & ⋯ & 0.5557 & 0.7837 & 2.0772 & 0.2839 & 7.5010 & 0.4836 & 0.3032 & 2.0050 & 0.4609 & 185.5802\\\\\n",
       "\\end{tabular}\n"
      ],
      "text/markdown": [
       "\n",
       "A spec_tbl_df: 5 × 81\n",
       "\n",
       "| rank_score_spi &lt;dbl&gt; | country &lt;chr&gt; | spicountrycode &lt;chr&gt; | spiyear &lt;dbl&gt; | status &lt;chr&gt; | score_spi &lt;dbl&gt; | score_bhn &lt;dbl&gt; | score_fow &lt;dbl&gt; | score_opp &lt;dbl&gt; | score_nbmc &lt;dbl&gt; | ⋯ ⋯ | incl_equalaccess &lt;dbl&gt; | incl_sexualorient &lt;dbl&gt; | incl_accpubsersocgr &lt;dbl&gt; | incl_gayslesb &lt;dbl&gt; | incl_discrimin &lt;dbl&gt; | aae_acadfreed &lt;dbl&gt; | aae_femterteduc &lt;dbl&gt; | aae_tertschlife &lt;dbl&gt; | aae_citabledocs &lt;dbl&gt; | aae_qualuniversities &lt;dbl&gt; |\n",
       "|---|---|---|---|---|---|---|---|---|---|---|---|---|---|---|---|---|---|---|---|---|\n",
       "| NA | World | WWW | 2022 | NA | 65.24 | 75.80 | 63.62 | 56.28 | 82.09 | ⋯ | 0.5446 | 0.8111 | 1.9767 | 0.4127 | 7.1472 | 0.4374 | 0.3450 | 2.1666 | 0.5862 | 217.6475 |\n",
       "| NA | World | WWW | 2021 | NA | 64.87 | 75.35 | 63.18 | 56.07 | 82.01 | ⋯ | 0.5460 | 0.7890 | 1.9979 | 0.3851 | 7.3180 | 0.4784 | 0.3342 | 2.1218 | 0.5438 | 225.5760 |\n",
       "| NA | World | WWW | 2020 | NA | 64.55 | 74.91 | 62.91 | 55.83 | 81.79 | ⋯ | 0.5225 | 0.7612 | 2.0361 | 0.3506 | 7.2646 | 0.4647 | 0.3235 | 2.0671 | 0.5146 | 211.4173 |\n",
       "| NA | World | WWW | 2019 | NA | 64.31 | 74.48 | 62.46 | 55.98 | 81.53 | ⋯ | 0.5603 | 0.8102 | 2.0183 | 0.3064 | 7.4035 | 0.4733 | 0.3132 | 2.0268 | 0.4859 | 203.6117 |\n",
       "| NA | World | WWW | 2018 | NA | 63.62 | 73.98 | 61.03 | 55.84 | 81.23 | ⋯ | 0.5557 | 0.7837 | 2.0772 | 0.2839 | 7.5010 | 0.4836 | 0.3032 | 2.0050 | 0.4609 | 185.5802 |\n",
       "\n"
      ],
      "text/plain": [
       "  rank_score_spi country spicountrycode spiyear status score_spi score_bhn\n",
       "1 NA             World   WWW            2022    NA     65.24     75.80    \n",
       "2 NA             World   WWW            2021    NA     64.87     75.35    \n",
       "3 NA             World   WWW            2020    NA     64.55     74.91    \n",
       "4 NA             World   WWW            2019    NA     64.31     74.48    \n",
       "5 NA             World   WWW            2018    NA     63.62     73.98    \n",
       "  score_fow score_opp score_nbmc ⋯ incl_equalaccess incl_sexualorient\n",
       "1 63.62     56.28     82.09      ⋯ 0.5446           0.8111           \n",
       "2 63.18     56.07     82.01      ⋯ 0.5460           0.7890           \n",
       "3 62.91     55.83     81.79      ⋯ 0.5225           0.7612           \n",
       "4 62.46     55.98     81.53      ⋯ 0.5603           0.8102           \n",
       "5 61.03     55.84     81.23      ⋯ 0.5557           0.7837           \n",
       "  incl_accpubsersocgr incl_gayslesb incl_discrimin aae_acadfreed\n",
       "1 1.9767              0.4127        7.1472         0.4374       \n",
       "2 1.9979              0.3851        7.3180         0.4784       \n",
       "3 2.0361              0.3506        7.2646         0.4647       \n",
       "4 2.0183              0.3064        7.4035         0.4733       \n",
       "5 2.0772              0.2839        7.5010         0.4836       \n",
       "  aae_femterteduc aae_tertschlife aae_citabledocs aae_qualuniversities\n",
       "1 0.3450          2.1666          0.5862          217.6475            \n",
       "2 0.3342          2.1218          0.5438          225.5760            \n",
       "3 0.3235          2.0671          0.5146          211.4173            \n",
       "4 0.3132          2.0268          0.4859          203.6117            \n",
       "5 0.3032          2.0050          0.4609          185.5802            "
      ]
     },
     "metadata": {},
     "output_type": "display_data"
    }
   ],
   "source": [
    "data |> slice_head(n = 5)"
   ]
  },
  {
   "cell_type": "markdown",
   "metadata": {
    "slideshow": {
     "slide_type": "slide"
    }
   },
   "source": [
    "#### Change Data Separator Character in CSV files to “,” "
   ]
  },
  {
   "cell_type": "markdown",
   "metadata": {},
   "source": [
    "<font color=' #2874a6 '><b>Remarks</b></font>"
   ]
  },
  {
   "cell_type": "markdown",
   "metadata": {},
   "source": [
    "- Se ha comprobado que el separador es \",\" ya que es la opción por defecto de `read_csv()`"
   ]
  },
  {
   "cell_type": "code",
   "execution_count": 9,
   "metadata": {},
   "outputs": [
    {
     "data": {
      "text/html": [
       "<style>\n",
       ".list-inline {list-style: none; margin:0; padding: 0}\n",
       ".list-inline>li {display: inline-block}\n",
       ".list-inline>li:not(:last-child)::after {content: \"\\00b7\"; padding: 0 .5ex}\n",
       "</style>\n",
       "<ol class=list-inline><li>'rank_score_spi'</li><li>'country'</li><li>'spicountrycode'</li><li>'spiyear'</li><li>'status'</li><li>'score_spi'</li><li>'score_bhn'</li><li>'score_fow'</li><li>'score_opp'</li><li>'score_nbmc'</li><li>'score_ws'</li><li>'score_sh'</li><li>'score_ps'</li><li>'score_abk'</li><li>'score_aic'</li><li>'score_hw'</li><li>'score_eq'</li><li>'score_pr'</li><li>'score_pfc'</li><li>'score_incl'</li><li>'score_aae'</li><li>'nbmc_stunting'</li><li>'nbmc_infectiousdaly'</li><li>'nbmc_matmort'</li><li>'nbmc_childmort'</li><li>'nbmc_undernourish'</li><li>'nbmc_dietlowfruitveg'</li><li>'ws_washmortdalys'</li><li>'ws_sanitation'</li><li>'ws_water'</li><li>'ws_watersat'</li><li>'sh_hhairpolldalys'</li><li>'sh_affhousingdissat'</li><li>'sh_electricity'</li><li>'sh_cleanfuels'</li><li>'ps_politicalkillings'</li><li>'ps_intpersvioldaly'</li><li>'ps_transportdaly'</li><li>'ps_intimpartnviol'</li><li>'ps_moneystolen'</li><li>'abk_qualeduc'</li><li>'abk_propnoeduc'</li><li>'abk_popsomesec'</li><li>'abk_totprimenrol'</li><li>'abk_educpar'</li><li>'aic_altinfo'</li><li>'aic_mobiles'</li><li>'aic_internet'</li><li>'aic_eparticip'</li><li>'hw_qualityhealth'</li><li>'hw_lifex60'</li><li>'hw_ncdmort'</li><li>'hw_univhealthcov'</li><li>'hw_qualhealthsat'</li><li>'eq_airpolldalys'</li><li>'eq_leadexpdalys'</li><li>'eq_pm25'</li><li>'eq_spindex'</li><li>'pr_freerelig'</li><li>'pr_proprightswomen'</li><li>'pr_peaceassemb'</li><li>'pr_accessjustice'</li><li>'pr_freediscuss'</li><li>'pr_polrights'</li><li>'pfc_freedomestmov'</li><li>'pfc_earlymarriage'</li><li>'pfc_contracept'</li><li>'pfc_neet'</li><li>'pfc_vulnemploy'</li><li>'pfc_corruption'</li><li>'incl_equalprotect'</li><li>'incl_equalaccess'</li><li>'incl_sexualorient'</li><li>'incl_accpubsersocgr'</li><li>'incl_gayslesb'</li><li>'incl_discrimin'</li><li>'aae_acadfreed'</li><li>'aae_femterteduc'</li><li>'aae_tertschlife'</li><li>'aae_citabledocs'</li><li>'aae_qualuniversities'</li></ol>\n"
      ],
      "text/latex": [
       "\\begin{enumerate*}\n",
       "\\item 'rank\\_score\\_spi'\n",
       "\\item 'country'\n",
       "\\item 'spicountrycode'\n",
       "\\item 'spiyear'\n",
       "\\item 'status'\n",
       "\\item 'score\\_spi'\n",
       "\\item 'score\\_bhn'\n",
       "\\item 'score\\_fow'\n",
       "\\item 'score\\_opp'\n",
       "\\item 'score\\_nbmc'\n",
       "\\item 'score\\_ws'\n",
       "\\item 'score\\_sh'\n",
       "\\item 'score\\_ps'\n",
       "\\item 'score\\_abk'\n",
       "\\item 'score\\_aic'\n",
       "\\item 'score\\_hw'\n",
       "\\item 'score\\_eq'\n",
       "\\item 'score\\_pr'\n",
       "\\item 'score\\_pfc'\n",
       "\\item 'score\\_incl'\n",
       "\\item 'score\\_aae'\n",
       "\\item 'nbmc\\_stunting'\n",
       "\\item 'nbmc\\_infectiousdaly'\n",
       "\\item 'nbmc\\_matmort'\n",
       "\\item 'nbmc\\_childmort'\n",
       "\\item 'nbmc\\_undernourish'\n",
       "\\item 'nbmc\\_dietlowfruitveg'\n",
       "\\item 'ws\\_washmortdalys'\n",
       "\\item 'ws\\_sanitation'\n",
       "\\item 'ws\\_water'\n",
       "\\item 'ws\\_watersat'\n",
       "\\item 'sh\\_hhairpolldalys'\n",
       "\\item 'sh\\_affhousingdissat'\n",
       "\\item 'sh\\_electricity'\n",
       "\\item 'sh\\_cleanfuels'\n",
       "\\item 'ps\\_politicalkillings'\n",
       "\\item 'ps\\_intpersvioldaly'\n",
       "\\item 'ps\\_transportdaly'\n",
       "\\item 'ps\\_intimpartnviol'\n",
       "\\item 'ps\\_moneystolen'\n",
       "\\item 'abk\\_qualeduc'\n",
       "\\item 'abk\\_propnoeduc'\n",
       "\\item 'abk\\_popsomesec'\n",
       "\\item 'abk\\_totprimenrol'\n",
       "\\item 'abk\\_educpar'\n",
       "\\item 'aic\\_altinfo'\n",
       "\\item 'aic\\_mobiles'\n",
       "\\item 'aic\\_internet'\n",
       "\\item 'aic\\_eparticip'\n",
       "\\item 'hw\\_qualityhealth'\n",
       "\\item 'hw\\_lifex60'\n",
       "\\item 'hw\\_ncdmort'\n",
       "\\item 'hw\\_univhealthcov'\n",
       "\\item 'hw\\_qualhealthsat'\n",
       "\\item 'eq\\_airpolldalys'\n",
       "\\item 'eq\\_leadexpdalys'\n",
       "\\item 'eq\\_pm25'\n",
       "\\item 'eq\\_spindex'\n",
       "\\item 'pr\\_freerelig'\n",
       "\\item 'pr\\_proprightswomen'\n",
       "\\item 'pr\\_peaceassemb'\n",
       "\\item 'pr\\_accessjustice'\n",
       "\\item 'pr\\_freediscuss'\n",
       "\\item 'pr\\_polrights'\n",
       "\\item 'pfc\\_freedomestmov'\n",
       "\\item 'pfc\\_earlymarriage'\n",
       "\\item 'pfc\\_contracept'\n",
       "\\item 'pfc\\_neet'\n",
       "\\item 'pfc\\_vulnemploy'\n",
       "\\item 'pfc\\_corruption'\n",
       "\\item 'incl\\_equalprotect'\n",
       "\\item 'incl\\_equalaccess'\n",
       "\\item 'incl\\_sexualorient'\n",
       "\\item 'incl\\_accpubsersocgr'\n",
       "\\item 'incl\\_gayslesb'\n",
       "\\item 'incl\\_discrimin'\n",
       "\\item 'aae\\_acadfreed'\n",
       "\\item 'aae\\_femterteduc'\n",
       "\\item 'aae\\_tertschlife'\n",
       "\\item 'aae\\_citabledocs'\n",
       "\\item 'aae\\_qualuniversities'\n",
       "\\end{enumerate*}\n"
      ],
      "text/markdown": [
       "1. 'rank_score_spi'\n",
       "2. 'country'\n",
       "3. 'spicountrycode'\n",
       "4. 'spiyear'\n",
       "5. 'status'\n",
       "6. 'score_spi'\n",
       "7. 'score_bhn'\n",
       "8. 'score_fow'\n",
       "9. 'score_opp'\n",
       "10. 'score_nbmc'\n",
       "11. 'score_ws'\n",
       "12. 'score_sh'\n",
       "13. 'score_ps'\n",
       "14. 'score_abk'\n",
       "15. 'score_aic'\n",
       "16. 'score_hw'\n",
       "17. 'score_eq'\n",
       "18. 'score_pr'\n",
       "19. 'score_pfc'\n",
       "20. 'score_incl'\n",
       "21. 'score_aae'\n",
       "22. 'nbmc_stunting'\n",
       "23. 'nbmc_infectiousdaly'\n",
       "24. 'nbmc_matmort'\n",
       "25. 'nbmc_childmort'\n",
       "26. 'nbmc_undernourish'\n",
       "27. 'nbmc_dietlowfruitveg'\n",
       "28. 'ws_washmortdalys'\n",
       "29. 'ws_sanitation'\n",
       "30. 'ws_water'\n",
       "31. 'ws_watersat'\n",
       "32. 'sh_hhairpolldalys'\n",
       "33. 'sh_affhousingdissat'\n",
       "34. 'sh_electricity'\n",
       "35. 'sh_cleanfuels'\n",
       "36. 'ps_politicalkillings'\n",
       "37. 'ps_intpersvioldaly'\n",
       "38. 'ps_transportdaly'\n",
       "39. 'ps_intimpartnviol'\n",
       "40. 'ps_moneystolen'\n",
       "41. 'abk_qualeduc'\n",
       "42. 'abk_propnoeduc'\n",
       "43. 'abk_popsomesec'\n",
       "44. 'abk_totprimenrol'\n",
       "45. 'abk_educpar'\n",
       "46. 'aic_altinfo'\n",
       "47. 'aic_mobiles'\n",
       "48. 'aic_internet'\n",
       "49. 'aic_eparticip'\n",
       "50. 'hw_qualityhealth'\n",
       "51. 'hw_lifex60'\n",
       "52. 'hw_ncdmort'\n",
       "53. 'hw_univhealthcov'\n",
       "54. 'hw_qualhealthsat'\n",
       "55. 'eq_airpolldalys'\n",
       "56. 'eq_leadexpdalys'\n",
       "57. 'eq_pm25'\n",
       "58. 'eq_spindex'\n",
       "59. 'pr_freerelig'\n",
       "60. 'pr_proprightswomen'\n",
       "61. 'pr_peaceassemb'\n",
       "62. 'pr_accessjustice'\n",
       "63. 'pr_freediscuss'\n",
       "64. 'pr_polrights'\n",
       "65. 'pfc_freedomestmov'\n",
       "66. 'pfc_earlymarriage'\n",
       "67. 'pfc_contracept'\n",
       "68. 'pfc_neet'\n",
       "69. 'pfc_vulnemploy'\n",
       "70. 'pfc_corruption'\n",
       "71. 'incl_equalprotect'\n",
       "72. 'incl_equalaccess'\n",
       "73. 'incl_sexualorient'\n",
       "74. 'incl_accpubsersocgr'\n",
       "75. 'incl_gayslesb'\n",
       "76. 'incl_discrimin'\n",
       "77. 'aae_acadfreed'\n",
       "78. 'aae_femterteduc'\n",
       "79. 'aae_tertschlife'\n",
       "80. 'aae_citabledocs'\n",
       "81. 'aae_qualuniversities'\n",
       "\n",
       "\n"
      ],
      "text/plain": [
       " [1] \"rank_score_spi\"       \"country\"              \"spicountrycode\"      \n",
       " [4] \"spiyear\"              \"status\"               \"score_spi\"           \n",
       " [7] \"score_bhn\"            \"score_fow\"            \"score_opp\"           \n",
       "[10] \"score_nbmc\"           \"score_ws\"             \"score_sh\"            \n",
       "[13] \"score_ps\"             \"score_abk\"            \"score_aic\"           \n",
       "[16] \"score_hw\"             \"score_eq\"             \"score_pr\"            \n",
       "[19] \"score_pfc\"            \"score_incl\"           \"score_aae\"           \n",
       "[22] \"nbmc_stunting\"        \"nbmc_infectiousdaly\"  \"nbmc_matmort\"        \n",
       "[25] \"nbmc_childmort\"       \"nbmc_undernourish\"    \"nbmc_dietlowfruitveg\"\n",
       "[28] \"ws_washmortdalys\"     \"ws_sanitation\"        \"ws_water\"            \n",
       "[31] \"ws_watersat\"          \"sh_hhairpolldalys\"    \"sh_affhousingdissat\" \n",
       "[34] \"sh_electricity\"       \"sh_cleanfuels\"        \"ps_politicalkillings\"\n",
       "[37] \"ps_intpersvioldaly\"   \"ps_transportdaly\"     \"ps_intimpartnviol\"   \n",
       "[40] \"ps_moneystolen\"       \"abk_qualeduc\"         \"abk_propnoeduc\"      \n",
       "[43] \"abk_popsomesec\"       \"abk_totprimenrol\"     \"abk_educpar\"         \n",
       "[46] \"aic_altinfo\"          \"aic_mobiles\"          \"aic_internet\"        \n",
       "[49] \"aic_eparticip\"        \"hw_qualityhealth\"     \"hw_lifex60\"          \n",
       "[52] \"hw_ncdmort\"           \"hw_univhealthcov\"     \"hw_qualhealthsat\"    \n",
       "[55] \"eq_airpolldalys\"      \"eq_leadexpdalys\"      \"eq_pm25\"             \n",
       "[58] \"eq_spindex\"           \"pr_freerelig\"         \"pr_proprightswomen\"  \n",
       "[61] \"pr_peaceassemb\"       \"pr_accessjustice\"     \"pr_freediscuss\"      \n",
       "[64] \"pr_polrights\"         \"pfc_freedomestmov\"    \"pfc_earlymarriage\"   \n",
       "[67] \"pfc_contracept\"       \"pfc_neet\"             \"pfc_vulnemploy\"      \n",
       "[70] \"pfc_corruption\"       \"incl_equalprotect\"    \"incl_equalaccess\"    \n",
       "[73] \"incl_sexualorient\"    \"incl_accpubsersocgr\"  \"incl_gayslesb\"       \n",
       "[76] \"incl_discrimin\"       \"aae_acadfreed\"        \"aae_femterteduc\"     \n",
       "[79] \"aae_tertschlife\"      \"aae_citabledocs\"      \"aae_qualuniversities\""
      ]
     },
     "metadata": {},
     "output_type": "display_data"
    }
   ],
   "source": [
    "names(data)"
   ]
  },
  {
   "cell_type": "markdown",
   "metadata": {},
   "source": [
    "<font color=' #2874a6 '><b>CODE</b></font>"
   ]
  },
  {
   "cell_type": "code",
   "execution_count": 10,
   "metadata": {
    "ExecuteTime": {
     "end_time": "2021-01-27T11:01:34.878544Z",
     "start_time": "2021-01-27T11:01:34.740511Z"
    },
    "slideshow": {
     "slide_type": "subslide"
    },
    "vscode": {
     "languageId": "r"
    }
   },
   "outputs": [
    {
     "name": "stdout",
     "output_type": "stream",
     "text": [
      "[1] \"El formato del punto decimal no es '.' en las siguientes variables: rank_score_spi, score_spi, score_bhn, score_fow, score_opp, score_nbmc, score_ws, score_sh, score_ps, score_abk, score_aic, score_hw, score_eq, score_pr, score_pfc, score_incl, score_aae\"\n"
     ]
    }
   ],
   "source": [
    "# Filtramos las variables de interés para este caso\n",
    "data <- data %>% select(contains(\"score\"))\n",
    "\n",
    "# Verificar formato del punto decimal en variables específicas\n",
    "variables <- names(data)\n",
    "decimal_point <- sapply(data[variables], function(x) all(grepl(\"\\\\.\", as.character(x))))\n",
    "variables_without_decimal <- variables[!decimal_point]\n",
    "if (length(variables_without_decimal) > 0) {\n",
    "  print(paste(\"El formato del punto decimal no es '.' en las siguientes variables:\", paste(variables_without_decimal, collapse = \", \")))\n",
    "} else {\n",
    "  print(\"El formato del punto decimal es '.' en todas las variables especificadas.\")\n",
    "}"
   ]
  },
  {
   "cell_type": "markdown",
   "metadata": {
    "slideshow": {
     "slide_type": "slide"
    }
   },
   "source": [
    "#### Verify decimal point in numeric data is “.”"
   ]
  },
  {
   "cell_type": "markdown",
   "metadata": {},
   "source": [
    "<font color=' #2874a6 '><b>Remarks</b></font>"
   ]
  },
  {
   "cell_type": "markdown",
   "metadata": {},
   "source": [
    "- Se ha comprobado que el símbolo decimal es \".\" ya que es la opción por defecto de `read_csv()`"
   ]
  },
  {
   "cell_type": "markdown",
   "metadata": {},
   "source": [
    "<font color=' #2874a6 '><b>CODE</b></font>"
   ]
  },
  {
   "cell_type": "code",
   "execution_count": 11,
   "metadata": {
    "ExecuteTime": {
     "end_time": "2021-01-27T11:01:34.878544Z",
     "start_time": "2021-01-27T11:01:34.740511Z"
    },
    "slideshow": {
     "slide_type": "subslide"
    },
    "vscode": {
     "languageId": "r"
    }
   },
   "outputs": [],
   "source": [
    " # Corregir formato del punto decimal en variables específicas\n",
    "for (variable in variables) {\n",
    "  if (!all(grepl(\"\\\\.\", as.character(data[[variable]])))) {\n",
    "    data[[variable]] <- as.numeric(gsub(\",\", \".\", as.character(data[[variable]])))\n",
    "  }\n",
    "}"
   ]
  },
  {
   "cell_type": "markdown",
   "metadata": {
    "slideshow": {
     "slide_type": "slide"
    }
   },
   "source": [
    "### Feature Names\n"
   ]
  },
  {
   "cell_type": "markdown",
   "metadata": {
    "slideshow": {
     "slide_type": "slide"
    }
   },
   "source": [
    "#### Verify names are Simple, Usable and Recognizable "
   ]
  },
  {
   "cell_type": "markdown",
   "metadata": {},
   "source": [
    "<font color=' #2874a6 '><b>Remarks</b></font>"
   ]
  },
  {
   "cell_type": "markdown",
   "metadata": {},
   "source": [
    "- Se ha comprobado que los nombres de columnas son simples, usables y reconocibles\n"
   ]
  },
  {
   "cell_type": "markdown",
   "metadata": {},
   "source": [
    "<font color=' #2874a6 '><b>CODE</b></font>"
   ]
  },
  {
   "cell_type": "markdown",
   "metadata": {},
   "source": [
    "<font color='tomato'>Visualizo el nombre de las columnas (características)</font>"
   ]
  },
  {
   "cell_type": "code",
   "execution_count": 12,
   "metadata": {
    "ExecuteTime": {
     "end_time": "2021-01-27T11:01:34.878544Z",
     "start_time": "2021-01-27T11:01:34.740511Z"
    },
    "slideshow": {
     "slide_type": "subslide"
    },
    "vscode": {
     "languageId": "r"
    }
   },
   "outputs": [
    {
     "data": {
      "text/html": [
       "<style>\n",
       ".list-inline {list-style: none; margin:0; padding: 0}\n",
       ".list-inline>li {display: inline-block}\n",
       ".list-inline>li:not(:last-child)::after {content: \"\\00b7\"; padding: 0 .5ex}\n",
       "</style>\n",
       "<ol class=list-inline><li>'rank_score_spi'</li><li>'score_spi'</li><li>'score_bhn'</li><li>'score_fow'</li><li>'score_opp'</li><li>'score_nbmc'</li><li>'score_ws'</li><li>'score_sh'</li><li>'score_ps'</li><li>'score_abk'</li><li>'score_aic'</li><li>'score_hw'</li><li>'score_eq'</li><li>'score_pr'</li><li>'score_pfc'</li><li>'score_incl'</li><li>'score_aae'</li></ol>\n"
      ],
      "text/latex": [
       "\\begin{enumerate*}\n",
       "\\item 'rank\\_score\\_spi'\n",
       "\\item 'score\\_spi'\n",
       "\\item 'score\\_bhn'\n",
       "\\item 'score\\_fow'\n",
       "\\item 'score\\_opp'\n",
       "\\item 'score\\_nbmc'\n",
       "\\item 'score\\_ws'\n",
       "\\item 'score\\_sh'\n",
       "\\item 'score\\_ps'\n",
       "\\item 'score\\_abk'\n",
       "\\item 'score\\_aic'\n",
       "\\item 'score\\_hw'\n",
       "\\item 'score\\_eq'\n",
       "\\item 'score\\_pr'\n",
       "\\item 'score\\_pfc'\n",
       "\\item 'score\\_incl'\n",
       "\\item 'score\\_aae'\n",
       "\\end{enumerate*}\n"
      ],
      "text/markdown": [
       "1. 'rank_score_spi'\n",
       "2. 'score_spi'\n",
       "3. 'score_bhn'\n",
       "4. 'score_fow'\n",
       "5. 'score_opp'\n",
       "6. 'score_nbmc'\n",
       "7. 'score_ws'\n",
       "8. 'score_sh'\n",
       "9. 'score_ps'\n",
       "10. 'score_abk'\n",
       "11. 'score_aic'\n",
       "12. 'score_hw'\n",
       "13. 'score_eq'\n",
       "14. 'score_pr'\n",
       "15. 'score_pfc'\n",
       "16. 'score_incl'\n",
       "17. 'score_aae'\n",
       "\n",
       "\n"
      ],
      "text/plain": [
       " [1] \"rank_score_spi\" \"score_spi\"      \"score_bhn\"      \"score_fow\"     \n",
       " [5] \"score_opp\"      \"score_nbmc\"     \"score_ws\"       \"score_sh\"      \n",
       " [9] \"score_ps\"       \"score_abk\"      \"score_aic\"      \"score_hw\"      \n",
       "[13] \"score_eq\"       \"score_pr\"       \"score_pfc\"      \"score_incl\"    \n",
       "[17] \"score_aae\"     "
      ]
     },
     "metadata": {},
     "output_type": "display_data"
    }
   ],
   "source": [
    "colnames(data)"
   ]
  },
  {
   "cell_type": "markdown",
   "metadata": {},
   "source": [
    "<font color='tomato'>Cambio de nombre a columnas (si es necesario) para mejor uso</font>"
   ]
  },
  {
   "cell_type": "code",
   "execution_count": 13,
   "metadata": {
    "ExecuteTime": {
     "end_time": "2020-12-25T17:59:15.833222Z",
     "start_time": "2020-12-25T17:59:15.701702Z"
    },
    "slideshow": {
     "slide_type": "subslide"
    },
    "vscode": {
     "languageId": "r"
    }
   },
   "outputs": [],
   "source": [
    "# colnames(data) <- c(\"\")"
   ]
  },
  {
   "cell_type": "code",
   "execution_count": 14,
   "metadata": {
    "ExecuteTime": {
     "end_time": "2020-12-25T17:59:15.986986Z",
     "start_time": "2020-12-25T17:59:15.833222Z"
    },
    "slideshow": {
     "slide_type": "subslide"
    },
    "vscode": {
     "languageId": "r"
    }
   },
   "outputs": [
    {
     "data": {
      "text/html": [
       "<style>\n",
       ".list-inline {list-style: none; margin:0; padding: 0}\n",
       ".list-inline>li {display: inline-block}\n",
       ".list-inline>li:not(:last-child)::after {content: \"\\00b7\"; padding: 0 .5ex}\n",
       "</style>\n",
       "<ol class=list-inline><li>'rank_score_spi'</li><li>'score_spi'</li><li>'score_bhn'</li><li>'score_fow'</li><li>'score_opp'</li><li>'score_nbmc'</li><li>'score_ws'</li><li>'score_sh'</li><li>'score_ps'</li><li>'score_abk'</li><li>'score_aic'</li><li>'score_hw'</li><li>'score_eq'</li><li>'score_pr'</li><li>'score_pfc'</li><li>'score_incl'</li><li>'score_aae'</li></ol>\n"
      ],
      "text/latex": [
       "\\begin{enumerate*}\n",
       "\\item 'rank\\_score\\_spi'\n",
       "\\item 'score\\_spi'\n",
       "\\item 'score\\_bhn'\n",
       "\\item 'score\\_fow'\n",
       "\\item 'score\\_opp'\n",
       "\\item 'score\\_nbmc'\n",
       "\\item 'score\\_ws'\n",
       "\\item 'score\\_sh'\n",
       "\\item 'score\\_ps'\n",
       "\\item 'score\\_abk'\n",
       "\\item 'score\\_aic'\n",
       "\\item 'score\\_hw'\n",
       "\\item 'score\\_eq'\n",
       "\\item 'score\\_pr'\n",
       "\\item 'score\\_pfc'\n",
       "\\item 'score\\_incl'\n",
       "\\item 'score\\_aae'\n",
       "\\end{enumerate*}\n"
      ],
      "text/markdown": [
       "1. 'rank_score_spi'\n",
       "2. 'score_spi'\n",
       "3. 'score_bhn'\n",
       "4. 'score_fow'\n",
       "5. 'score_opp'\n",
       "6. 'score_nbmc'\n",
       "7. 'score_ws'\n",
       "8. 'score_sh'\n",
       "9. 'score_ps'\n",
       "10. 'score_abk'\n",
       "11. 'score_aic'\n",
       "12. 'score_hw'\n",
       "13. 'score_eq'\n",
       "14. 'score_pr'\n",
       "15. 'score_pfc'\n",
       "16. 'score_incl'\n",
       "17. 'score_aae'\n",
       "\n",
       "\n"
      ],
      "text/plain": [
       " [1] \"rank_score_spi\" \"score_spi\"      \"score_bhn\"      \"score_fow\"     \n",
       " [5] \"score_opp\"      \"score_nbmc\"     \"score_ws\"       \"score_sh\"      \n",
       " [9] \"score_ps\"       \"score_abk\"      \"score_aic\"      \"score_hw\"      \n",
       "[13] \"score_eq\"       \"score_pr\"       \"score_pfc\"      \"score_incl\"    \n",
       "[17] \"score_aae\"     "
      ]
     },
     "metadata": {},
     "output_type": "display_data"
    }
   ],
   "source": [
    "colnames(data)"
   ]
  },
  {
   "cell_type": "markdown",
   "metadata": {
    "slideshow": {
     "slide_type": "slide"
    }
   },
   "source": [
    "#### Rename Target column name=”Target” and always will be the last column "
   ]
  },
  {
   "cell_type": "markdown",
   "metadata": {},
   "source": [
    "<font color=' #2874a6 '><b>Remarks</b></font>"
   ]
  },
  {
   "cell_type": "markdown",
   "metadata": {},
   "source": [
    "- La columna a predecir o estimar sería xxx\n",
    "- No procede ya que no es necesario para aplicar los modelos previstos\n"
   ]
  },
  {
   "cell_type": "markdown",
   "metadata": {},
   "source": [
    "<font color=' #2874a6 '><b>CODE</b></font>"
   ]
  },
  {
   "cell_type": "code",
   "execution_count": 15,
   "metadata": {
    "ExecuteTime": {
     "end_time": "2021-01-27T11:01:34.878544Z",
     "start_time": "2021-01-27T11:01:34.740511Z"
    },
    "slideshow": {
     "slide_type": "subslide"
    },
    "vscode": {
     "languageId": "r"
    }
   },
   "outputs": [],
   "source": [
    "# \n"
   ]
  },
  {
   "cell_type": "markdown",
   "metadata": {
    "slideshow": {
     "slide_type": "slide"
    }
   },
   "source": [
    "#### Verify column names are the first row of csv file "
   ]
  },
  {
   "cell_type": "markdown",
   "metadata": {},
   "source": [
    "<font color=' #2874a6 '><b>Remarks</b></font>"
   ]
  },
  {
   "cell_type": "markdown",
   "metadata": {},
   "source": [
    "- Se ha comprobado que la primera fila del archivo son los nombres de columna, ya que es la opción por defecto de `read_csv()`"
   ]
  },
  {
   "cell_type": "markdown",
   "metadata": {},
   "source": [
    "<font color=' #2874a6 '><b>CODE</b></font>"
   ]
  },
  {
   "cell_type": "code",
   "execution_count": 16,
   "metadata": {
    "ExecuteTime": {
     "end_time": "2021-01-27T11:01:34.878544Z",
     "start_time": "2021-01-27T11:01:34.740511Z"
    },
    "slideshow": {
     "slide_type": "subslide"
    },
    "vscode": {
     "languageId": "r"
    }
   },
   "outputs": [],
   "source": [
    "# \n"
   ]
  },
  {
   "cell_type": "markdown",
   "metadata": {
    "slideshow": {
     "slide_type": "slide"
    }
   },
   "source": [
    "#### Remove spaces and others characters in the column names "
   ]
  },
  {
   "cell_type": "markdown",
   "metadata": {},
   "source": [
    "<font color=' #2874a6 '><b>Remarks</b></font>"
   ]
  },
  {
   "cell_type": "markdown",
   "metadata": {},
   "source": [
    "- Se ha comprobado que los nombres de columna solo tienen caracteres ascii y no tienen espacios"
   ]
  },
  {
   "cell_type": "markdown",
   "metadata": {},
   "source": [
    "<font color=' #2874a6 '><b>CODE</b></font>"
   ]
  },
  {
   "cell_type": "markdown",
   "metadata": {},
   "source": [
    "<font color='tomato'>Visualizo el nombre de las columnas (características)</font>"
   ]
  },
  {
   "cell_type": "code",
   "execution_count": 17,
   "metadata": {
    "ExecuteTime": {
     "end_time": "2021-01-27T11:01:34.878544Z",
     "start_time": "2021-01-27T11:01:34.740511Z"
    },
    "slideshow": {
     "slide_type": "subslide"
    },
    "vscode": {
     "languageId": "r"
    }
   },
   "outputs": [
    {
     "data": {
      "text/html": [
       "<style>\n",
       ".list-inline {list-style: none; margin:0; padding: 0}\n",
       ".list-inline>li {display: inline-block}\n",
       ".list-inline>li:not(:last-child)::after {content: \"\\00b7\"; padding: 0 .5ex}\n",
       "</style>\n",
       "<ol class=list-inline><li>'rank_score_spi'</li><li>'score_spi'</li><li>'score_bhn'</li><li>'score_fow'</li><li>'score_opp'</li><li>'score_nbmc'</li><li>'score_ws'</li><li>'score_sh'</li><li>'score_ps'</li><li>'score_abk'</li><li>'score_aic'</li><li>'score_hw'</li><li>'score_eq'</li><li>'score_pr'</li><li>'score_pfc'</li><li>'score_incl'</li><li>'score_aae'</li></ol>\n"
      ],
      "text/latex": [
       "\\begin{enumerate*}\n",
       "\\item 'rank\\_score\\_spi'\n",
       "\\item 'score\\_spi'\n",
       "\\item 'score\\_bhn'\n",
       "\\item 'score\\_fow'\n",
       "\\item 'score\\_opp'\n",
       "\\item 'score\\_nbmc'\n",
       "\\item 'score\\_ws'\n",
       "\\item 'score\\_sh'\n",
       "\\item 'score\\_ps'\n",
       "\\item 'score\\_abk'\n",
       "\\item 'score\\_aic'\n",
       "\\item 'score\\_hw'\n",
       "\\item 'score\\_eq'\n",
       "\\item 'score\\_pr'\n",
       "\\item 'score\\_pfc'\n",
       "\\item 'score\\_incl'\n",
       "\\item 'score\\_aae'\n",
       "\\end{enumerate*}\n"
      ],
      "text/markdown": [
       "1. 'rank_score_spi'\n",
       "2. 'score_spi'\n",
       "3. 'score_bhn'\n",
       "4. 'score_fow'\n",
       "5. 'score_opp'\n",
       "6. 'score_nbmc'\n",
       "7. 'score_ws'\n",
       "8. 'score_sh'\n",
       "9. 'score_ps'\n",
       "10. 'score_abk'\n",
       "11. 'score_aic'\n",
       "12. 'score_hw'\n",
       "13. 'score_eq'\n",
       "14. 'score_pr'\n",
       "15. 'score_pfc'\n",
       "16. 'score_incl'\n",
       "17. 'score_aae'\n",
       "\n",
       "\n"
      ],
      "text/plain": [
       " [1] \"rank_score_spi\" \"score_spi\"      \"score_bhn\"      \"score_fow\"     \n",
       " [5] \"score_opp\"      \"score_nbmc\"     \"score_ws\"       \"score_sh\"      \n",
       " [9] \"score_ps\"       \"score_abk\"      \"score_aic\"      \"score_hw\"      \n",
       "[13] \"score_eq\"       \"score_pr\"       \"score_pfc\"      \"score_incl\"    \n",
       "[17] \"score_aae\"     "
      ]
     },
     "metadata": {},
     "output_type": "display_data"
    }
   ],
   "source": [
    "# Columns names\n",
    "colnames(data)"
   ]
  },
  {
   "cell_type": "markdown",
   "metadata": {},
   "source": [
    "<font color='tomato'>Cambio espacio por '_' en nombres</font> (si procede)"
   ]
  },
  {
   "cell_type": "code",
   "execution_count": 18,
   "metadata": {
    "ExecuteTime": {
     "end_time": "2020-12-25T17:59:15.833222Z",
     "start_time": "2020-12-25T17:59:15.701702Z"
    },
    "slideshow": {
     "slide_type": "subslide"
    },
    "vscode": {
     "languageId": "r"
    }
   },
   "outputs": [],
   "source": [
    "# colnames(data) <- str_replace_all(colnames(data), \" \", \"_\")"
   ]
  },
  {
   "cell_type": "code",
   "execution_count": 19,
   "metadata": {
    "ExecuteTime": {
     "end_time": "2020-12-25T17:59:15.986986Z",
     "start_time": "2020-12-25T17:59:15.833222Z"
    },
    "slideshow": {
     "slide_type": "subslide"
    },
    "vscode": {
     "languageId": "r"
    }
   },
   "outputs": [
    {
     "data": {
      "text/html": [
       "<style>\n",
       ".list-inline {list-style: none; margin:0; padding: 0}\n",
       ".list-inline>li {display: inline-block}\n",
       ".list-inline>li:not(:last-child)::after {content: \"\\00b7\"; padding: 0 .5ex}\n",
       "</style>\n",
       "<ol class=list-inline><li>'rank_score_spi'</li><li>'score_spi'</li><li>'score_bhn'</li><li>'score_fow'</li><li>'score_opp'</li><li>'score_nbmc'</li><li>'score_ws'</li><li>'score_sh'</li><li>'score_ps'</li><li>'score_abk'</li><li>'score_aic'</li><li>'score_hw'</li><li>'score_eq'</li><li>'score_pr'</li><li>'score_pfc'</li><li>'score_incl'</li><li>'score_aae'</li></ol>\n"
      ],
      "text/latex": [
       "\\begin{enumerate*}\n",
       "\\item 'rank\\_score\\_spi'\n",
       "\\item 'score\\_spi'\n",
       "\\item 'score\\_bhn'\n",
       "\\item 'score\\_fow'\n",
       "\\item 'score\\_opp'\n",
       "\\item 'score\\_nbmc'\n",
       "\\item 'score\\_ws'\n",
       "\\item 'score\\_sh'\n",
       "\\item 'score\\_ps'\n",
       "\\item 'score\\_abk'\n",
       "\\item 'score\\_aic'\n",
       "\\item 'score\\_hw'\n",
       "\\item 'score\\_eq'\n",
       "\\item 'score\\_pr'\n",
       "\\item 'score\\_pfc'\n",
       "\\item 'score\\_incl'\n",
       "\\item 'score\\_aae'\n",
       "\\end{enumerate*}\n"
      ],
      "text/markdown": [
       "1. 'rank_score_spi'\n",
       "2. 'score_spi'\n",
       "3. 'score_bhn'\n",
       "4. 'score_fow'\n",
       "5. 'score_opp'\n",
       "6. 'score_nbmc'\n",
       "7. 'score_ws'\n",
       "8. 'score_sh'\n",
       "9. 'score_ps'\n",
       "10. 'score_abk'\n",
       "11. 'score_aic'\n",
       "12. 'score_hw'\n",
       "13. 'score_eq'\n",
       "14. 'score_pr'\n",
       "15. 'score_pfc'\n",
       "16. 'score_incl'\n",
       "17. 'score_aae'\n",
       "\n",
       "\n"
      ],
      "text/plain": [
       " [1] \"rank_score_spi\" \"score_spi\"      \"score_bhn\"      \"score_fow\"     \n",
       " [5] \"score_opp\"      \"score_nbmc\"     \"score_ws\"       \"score_sh\"      \n",
       " [9] \"score_ps\"       \"score_abk\"      \"score_aic\"      \"score_hw\"      \n",
       "[13] \"score_eq\"       \"score_pr\"       \"score_pfc\"      \"score_incl\"    \n",
       "[17] \"score_aae\"     "
      ]
     },
     "metadata": {},
     "output_type": "display_data"
    }
   ],
   "source": [
    "colnames(data)"
   ]
  },
  {
   "cell_type": "markdown",
   "metadata": {
    "slideshow": {
     "slide_type": "slide"
    }
   },
   "source": [
    "### Data Types\n"
   ]
  },
  {
   "cell_type": "markdown",
   "metadata": {
    "slideshow": {
     "slide_type": "slide"
    }
   },
   "source": [
    "#### Verify data types "
   ]
  },
  {
   "cell_type": "markdown",
   "metadata": {},
   "source": [
    "<font color=' #2874a6 '><b>Remarks</b></font>"
   ]
  },
  {
   "cell_type": "markdown",
   "metadata": {},
   "source": [
    "- Se ha comprobado el tipo de datos adecuados al importar los datos con `read_csv()`\n"
   ]
  },
  {
   "cell_type": "markdown",
   "metadata": {},
   "source": [
    "<font color=' #2874a6 '><b>CODE</b></font>"
   ]
  },
  {
   "cell_type": "markdown",
   "metadata": {},
   "source": [
    "<font color='tomato'>Visualizo el tipo de las columnas (características)</font>"
   ]
  },
  {
   "cell_type": "code",
   "execution_count": 20,
   "metadata": {
    "ExecuteTime": {
     "end_time": "2021-01-27T11:01:34.878544Z",
     "start_time": "2021-01-27T11:01:34.740511Z"
    },
    "slideshow": {
     "slide_type": "subslide"
    },
    "vscode": {
     "languageId": "r"
    }
   },
   "outputs": [
    {
     "data": {
      "text/html": [
       "<style>\n",
       ".dl-inline {width: auto; margin:0; padding: 0}\n",
       ".dl-inline>dt, .dl-inline>dd {float: none; width: auto; display: inline-block}\n",
       ".dl-inline>dt::after {content: \":\\0020\"; padding-right: .5ex}\n",
       ".dl-inline>dt:not(:first-of-type) {padding-left: .5ex}\n",
       "</style><dl class=dl-inline><dt>rank_score_spi</dt><dd>'numeric'</dd><dt>score_spi</dt><dd>'numeric'</dd><dt>score_bhn</dt><dd>'numeric'</dd><dt>score_fow</dt><dd>'numeric'</dd><dt>score_opp</dt><dd>'numeric'</dd><dt>score_nbmc</dt><dd>'numeric'</dd><dt>score_ws</dt><dd>'numeric'</dd><dt>score_sh</dt><dd>'numeric'</dd><dt>score_ps</dt><dd>'numeric'</dd><dt>score_abk</dt><dd>'numeric'</dd><dt>score_aic</dt><dd>'numeric'</dd><dt>score_hw</dt><dd>'numeric'</dd><dt>score_eq</dt><dd>'numeric'</dd><dt>score_pr</dt><dd>'numeric'</dd><dt>score_pfc</dt><dd>'numeric'</dd><dt>score_incl</dt><dd>'numeric'</dd><dt>score_aae</dt><dd>'numeric'</dd></dl>\n"
      ],
      "text/latex": [
       "\\begin{description*}\n",
       "\\item[rank\\textbackslash{}\\_score\\textbackslash{}\\_spi] 'numeric'\n",
       "\\item[score\\textbackslash{}\\_spi] 'numeric'\n",
       "\\item[score\\textbackslash{}\\_bhn] 'numeric'\n",
       "\\item[score\\textbackslash{}\\_fow] 'numeric'\n",
       "\\item[score\\textbackslash{}\\_opp] 'numeric'\n",
       "\\item[score\\textbackslash{}\\_nbmc] 'numeric'\n",
       "\\item[score\\textbackslash{}\\_ws] 'numeric'\n",
       "\\item[score\\textbackslash{}\\_sh] 'numeric'\n",
       "\\item[score\\textbackslash{}\\_ps] 'numeric'\n",
       "\\item[score\\textbackslash{}\\_abk] 'numeric'\n",
       "\\item[score\\textbackslash{}\\_aic] 'numeric'\n",
       "\\item[score\\textbackslash{}\\_hw] 'numeric'\n",
       "\\item[score\\textbackslash{}\\_eq] 'numeric'\n",
       "\\item[score\\textbackslash{}\\_pr] 'numeric'\n",
       "\\item[score\\textbackslash{}\\_pfc] 'numeric'\n",
       "\\item[score\\textbackslash{}\\_incl] 'numeric'\n",
       "\\item[score\\textbackslash{}\\_aae] 'numeric'\n",
       "\\end{description*}\n"
      ],
      "text/markdown": [
       "rank_score_spi\n",
       ":   'numeric'score_spi\n",
       ":   'numeric'score_bhn\n",
       ":   'numeric'score_fow\n",
       ":   'numeric'score_opp\n",
       ":   'numeric'score_nbmc\n",
       ":   'numeric'score_ws\n",
       ":   'numeric'score_sh\n",
       ":   'numeric'score_ps\n",
       ":   'numeric'score_abk\n",
       ":   'numeric'score_aic\n",
       ":   'numeric'score_hw\n",
       ":   'numeric'score_eq\n",
       ":   'numeric'score_pr\n",
       ":   'numeric'score_pfc\n",
       ":   'numeric'score_incl\n",
       ":   'numeric'score_aae\n",
       ":   'numeric'\n",
       "\n"
      ],
      "text/plain": [
       "rank_score_spi      score_spi      score_bhn      score_fow      score_opp \n",
       "     \"numeric\"      \"numeric\"      \"numeric\"      \"numeric\"      \"numeric\" \n",
       "    score_nbmc       score_ws       score_sh       score_ps      score_abk \n",
       "     \"numeric\"      \"numeric\"      \"numeric\"      \"numeric\"      \"numeric\" \n",
       "     score_aic       score_hw       score_eq       score_pr      score_pfc \n",
       "     \"numeric\"      \"numeric\"      \"numeric\"      \"numeric\"      \"numeric\" \n",
       "    score_incl      score_aae \n",
       "     \"numeric\"      \"numeric\" "
      ]
     },
     "metadata": {},
     "output_type": "display_data"
    },
    {
     "name": "stdout",
     "output_type": "stream",
     "text": [
      "Rows: 2,364\n",
      "Columns: 17\n",
      "$ rank_score_spi \u001b[3m\u001b[90m<dbl>\u001b[39m\u001b[23m NA, NA, NA, NA, NA, NA, NA, NA, NA, NA, NA, NA, 164, 16…\n",
      "$ score_spi      \u001b[3m\u001b[90m<dbl>\u001b[39m\u001b[23m 65.24, 64.87, 64.55, 64.31, 63.62, 63.29, 62.65, 62.32,…\n",
      "$ score_bhn      \u001b[3m\u001b[90m<dbl>\u001b[39m\u001b[23m 75.80, 75.35, 74.91, 74.48, 73.98, 73.43, 72.88, 72.35,…\n",
      "$ score_fow      \u001b[3m\u001b[90m<dbl>\u001b[39m\u001b[23m 63.62, 63.18, 62.91, 62.46, 61.03, 60.52, 59.26, 58.70,…\n",
      "$ score_opp      \u001b[3m\u001b[90m<dbl>\u001b[39m\u001b[23m 56.28, 56.07, 55.83, 55.98, 55.84, 55.92, 55.80, 55.92,…\n",
      "$ score_nbmc     \u001b[3m\u001b[90m<dbl>\u001b[39m\u001b[23m 82.09, 82.01, 81.79, 81.53, 81.23, 80.90, 80.53, 80.09,…\n",
      "$ score_ws       \u001b[3m\u001b[90m<dbl>\u001b[39m\u001b[23m 80.74, 79.84, 78.69, 77.99, 77.20, 76.59, 76.17, 75.89,…\n",
      "$ score_sh       \u001b[3m\u001b[90m<dbl>\u001b[39m\u001b[23m 79.36, 78.86, 78.50, 77.63, 76.92, 75.92, 74.97, 74.06,…\n",
      "$ score_ps       \u001b[3m\u001b[90m<dbl>\u001b[39m\u001b[23m 61.02, 60.68, 60.66, 60.78, 60.56, 60.31, 59.86, 59.37,…\n",
      "$ score_abk      \u001b[3m\u001b[90m<dbl>\u001b[39m\u001b[23m 72.42, 72.50, 72.36, 72.27, 71.90, 71.67, 71.16, 70.61,…\n",
      "$ score_aic      \u001b[3m\u001b[90m<dbl>\u001b[39m\u001b[23m 75.96, 74.44, 73.71, 72.87, 68.90, 67.40, 63.91, 62.46,…\n",
      "$ score_hw       \u001b[3m\u001b[90m<dbl>\u001b[39m\u001b[23m 58.21, 57.91, 57.84, 57.25, 56.72, 56.19, 55.78, 55.39,…\n",
      "$ score_eq       \u001b[3m\u001b[90m<dbl>\u001b[39m\u001b[23m 47.90, 47.87, 47.73, 47.45, 46.58, 46.82, 46.19, 46.33,…\n",
      "$ score_pr       \u001b[3m\u001b[90m<dbl>\u001b[39m\u001b[23m 60.40, 60.38, 61.01, 61.49, 61.97, 62.86, 63.30, 64.26,…\n",
      "$ score_pfc      \u001b[3m\u001b[90m<dbl>\u001b[39m\u001b[23m 62.27, 62.36, 62.39, 62.58, 62.46, 62.39, 62.05, 61.84,…\n",
      "$ score_incl     \u001b[3m\u001b[90m<dbl>\u001b[39m\u001b[23m 42.97, 42.14, 41.39, 41.86, 41.48, 41.62, 41.70, 42.00,…\n",
      "$ score_aae      \u001b[3m\u001b[90m<dbl>\u001b[39m\u001b[23m 59.50, 59.39, 58.52, 58.00, 57.46, 56.81, 56.17, 55.59,…\n"
     ]
    }
   ],
   "source": [
    "sapply(data, class)\n",
    "glimpse(data)"
   ]
  },
  {
   "cell_type": "markdown",
   "metadata": {
    "slideshow": {
     "slide_type": "slide"
    }
   },
   "source": [
    "#### Change data types "
   ]
  },
  {
   "cell_type": "markdown",
   "metadata": {},
   "source": [
    "<font color=' #2874a6 '><b>Remarks</b></font>"
   ]
  },
  {
   "cell_type": "markdown",
   "metadata": {},
   "source": [
    "- No aplica"
   ]
  },
  {
   "cell_type": "markdown",
   "metadata": {},
   "source": [
    "<font color=' #2874a6 '><b>CODE</b></font>"
   ]
  },
  {
   "cell_type": "code",
   "execution_count": 21,
   "metadata": {
    "ExecuteTime": {
     "end_time": "2021-01-27T11:01:34.878544Z",
     "start_time": "2021-01-27T11:01:34.740511Z"
    },
    "scrolled": true,
    "slideshow": {
     "slide_type": "subslide"
    },
    "vscode": {
     "languageId": "r"
    }
   },
   "outputs": [],
   "source": [
    "# Changing column types\n",
    "# data$xx <- as.xx(data$xx)"
   ]
  },
  {
   "cell_type": "markdown",
   "metadata": {
    "slideshow": {
     "slide_type": "slide"
    }
   },
   "source": [
    "#### Verify that object type is changed "
   ]
  },
  {
   "cell_type": "markdown",
   "metadata": {},
   "source": [
    "<font color=' #2874a6 '><b>Remarks</b></font>"
   ]
  },
  {
   "cell_type": "markdown",
   "metadata": {},
   "source": [
    "- No aplica\n"
   ]
  },
  {
   "cell_type": "markdown",
   "metadata": {},
   "source": [
    "<font color=' #2874a6 '><b>CODE</b></font>"
   ]
  },
  {
   "cell_type": "code",
   "execution_count": 22,
   "metadata": {
    "vscode": {
     "languageId": "r"
    }
   },
   "outputs": [
    {
     "data": {
      "text/html": [
       "<style>\n",
       ".dl-inline {width: auto; margin:0; padding: 0}\n",
       ".dl-inline>dt, .dl-inline>dd {float: none; width: auto; display: inline-block}\n",
       ".dl-inline>dt::after {content: \":\\0020\"; padding-right: .5ex}\n",
       ".dl-inline>dt:not(:first-of-type) {padding-left: .5ex}\n",
       "</style><dl class=dl-inline><dt>rank_score_spi</dt><dd>'numeric'</dd><dt>score_spi</dt><dd>'numeric'</dd><dt>score_bhn</dt><dd>'numeric'</dd><dt>score_fow</dt><dd>'numeric'</dd><dt>score_opp</dt><dd>'numeric'</dd><dt>score_nbmc</dt><dd>'numeric'</dd><dt>score_ws</dt><dd>'numeric'</dd><dt>score_sh</dt><dd>'numeric'</dd><dt>score_ps</dt><dd>'numeric'</dd><dt>score_abk</dt><dd>'numeric'</dd><dt>score_aic</dt><dd>'numeric'</dd><dt>score_hw</dt><dd>'numeric'</dd><dt>score_eq</dt><dd>'numeric'</dd><dt>score_pr</dt><dd>'numeric'</dd><dt>score_pfc</dt><dd>'numeric'</dd><dt>score_incl</dt><dd>'numeric'</dd><dt>score_aae</dt><dd>'numeric'</dd></dl>\n"
      ],
      "text/latex": [
       "\\begin{description*}\n",
       "\\item[rank\\textbackslash{}\\_score\\textbackslash{}\\_spi] 'numeric'\n",
       "\\item[score\\textbackslash{}\\_spi] 'numeric'\n",
       "\\item[score\\textbackslash{}\\_bhn] 'numeric'\n",
       "\\item[score\\textbackslash{}\\_fow] 'numeric'\n",
       "\\item[score\\textbackslash{}\\_opp] 'numeric'\n",
       "\\item[score\\textbackslash{}\\_nbmc] 'numeric'\n",
       "\\item[score\\textbackslash{}\\_ws] 'numeric'\n",
       "\\item[score\\textbackslash{}\\_sh] 'numeric'\n",
       "\\item[score\\textbackslash{}\\_ps] 'numeric'\n",
       "\\item[score\\textbackslash{}\\_abk] 'numeric'\n",
       "\\item[score\\textbackslash{}\\_aic] 'numeric'\n",
       "\\item[score\\textbackslash{}\\_hw] 'numeric'\n",
       "\\item[score\\textbackslash{}\\_eq] 'numeric'\n",
       "\\item[score\\textbackslash{}\\_pr] 'numeric'\n",
       "\\item[score\\textbackslash{}\\_pfc] 'numeric'\n",
       "\\item[score\\textbackslash{}\\_incl] 'numeric'\n",
       "\\item[score\\textbackslash{}\\_aae] 'numeric'\n",
       "\\end{description*}\n"
      ],
      "text/markdown": [
       "rank_score_spi\n",
       ":   'numeric'score_spi\n",
       ":   'numeric'score_bhn\n",
       ":   'numeric'score_fow\n",
       ":   'numeric'score_opp\n",
       ":   'numeric'score_nbmc\n",
       ":   'numeric'score_ws\n",
       ":   'numeric'score_sh\n",
       ":   'numeric'score_ps\n",
       ":   'numeric'score_abk\n",
       ":   'numeric'score_aic\n",
       ":   'numeric'score_hw\n",
       ":   'numeric'score_eq\n",
       ":   'numeric'score_pr\n",
       ":   'numeric'score_pfc\n",
       ":   'numeric'score_incl\n",
       ":   'numeric'score_aae\n",
       ":   'numeric'\n",
       "\n"
      ],
      "text/plain": [
       "rank_score_spi      score_spi      score_bhn      score_fow      score_opp \n",
       "     \"numeric\"      \"numeric\"      \"numeric\"      \"numeric\"      \"numeric\" \n",
       "    score_nbmc       score_ws       score_sh       score_ps      score_abk \n",
       "     \"numeric\"      \"numeric\"      \"numeric\"      \"numeric\"      \"numeric\" \n",
       "     score_aic       score_hw       score_eq       score_pr      score_pfc \n",
       "     \"numeric\"      \"numeric\"      \"numeric\"      \"numeric\"      \"numeric\" \n",
       "    score_incl      score_aae \n",
       "     \"numeric\"      \"numeric\" "
      ]
     },
     "metadata": {},
     "output_type": "display_data"
    },
    {
     "name": "stdout",
     "output_type": "stream",
     "text": [
      "Rows: 2,364\n",
      "Columns: 17\n",
      "$ rank_score_spi \u001b[3m\u001b[90m<dbl>\u001b[39m\u001b[23m NA, NA, NA, NA, NA, NA, NA, NA, NA, NA, NA, NA, 164, 16…\n",
      "$ score_spi      \u001b[3m\u001b[90m<dbl>\u001b[39m\u001b[23m 65.24, 64.87, 64.55, 64.31, 63.62, 63.29, 62.65, 62.32,…\n",
      "$ score_bhn      \u001b[3m\u001b[90m<dbl>\u001b[39m\u001b[23m 75.80, 75.35, 74.91, 74.48, 73.98, 73.43, 72.88, 72.35,…\n",
      "$ score_fow      \u001b[3m\u001b[90m<dbl>\u001b[39m\u001b[23m 63.62, 63.18, 62.91, 62.46, 61.03, 60.52, 59.26, 58.70,…\n",
      "$ score_opp      \u001b[3m\u001b[90m<dbl>\u001b[39m\u001b[23m 56.28, 56.07, 55.83, 55.98, 55.84, 55.92, 55.80, 55.92,…\n",
      "$ score_nbmc     \u001b[3m\u001b[90m<dbl>\u001b[39m\u001b[23m 82.09, 82.01, 81.79, 81.53, 81.23, 80.90, 80.53, 80.09,…\n",
      "$ score_ws       \u001b[3m\u001b[90m<dbl>\u001b[39m\u001b[23m 80.74, 79.84, 78.69, 77.99, 77.20, 76.59, 76.17, 75.89,…\n",
      "$ score_sh       \u001b[3m\u001b[90m<dbl>\u001b[39m\u001b[23m 79.36, 78.86, 78.50, 77.63, 76.92, 75.92, 74.97, 74.06,…\n",
      "$ score_ps       \u001b[3m\u001b[90m<dbl>\u001b[39m\u001b[23m 61.02, 60.68, 60.66, 60.78, 60.56, 60.31, 59.86, 59.37,…\n",
      "$ score_abk      \u001b[3m\u001b[90m<dbl>\u001b[39m\u001b[23m 72.42, 72.50, 72.36, 72.27, 71.90, 71.67, 71.16, 70.61,…\n",
      "$ score_aic      \u001b[3m\u001b[90m<dbl>\u001b[39m\u001b[23m 75.96, 74.44, 73.71, 72.87, 68.90, 67.40, 63.91, 62.46,…\n",
      "$ score_hw       \u001b[3m\u001b[90m<dbl>\u001b[39m\u001b[23m 58.21, 57.91, 57.84, 57.25, 56.72, 56.19, 55.78, 55.39,…\n",
      "$ score_eq       \u001b[3m\u001b[90m<dbl>\u001b[39m\u001b[23m 47.90, 47.87, 47.73, 47.45, 46.58, 46.82, 46.19, 46.33,…\n",
      "$ score_pr       \u001b[3m\u001b[90m<dbl>\u001b[39m\u001b[23m 60.40, 60.38, 61.01, 61.49, 61.97, 62.86, 63.30, 64.26,…\n",
      "$ score_pfc      \u001b[3m\u001b[90m<dbl>\u001b[39m\u001b[23m 62.27, 62.36, 62.39, 62.58, 62.46, 62.39, 62.05, 61.84,…\n",
      "$ score_incl     \u001b[3m\u001b[90m<dbl>\u001b[39m\u001b[23m 42.97, 42.14, 41.39, 41.86, 41.48, 41.62, 41.70, 42.00,…\n",
      "$ score_aae      \u001b[3m\u001b[90m<dbl>\u001b[39m\u001b[23m 59.50, 59.39, 58.52, 58.00, 57.46, 56.81, 56.17, 55.59,…\n"
     ]
    }
   ],
   "source": [
    "sapply(data, class)\n",
    "glimpse(data)"
   ]
  },
  {
   "cell_type": "markdown",
   "metadata": {
    "slideshow": {
     "slide_type": "slide"
    }
   },
   "source": [
    "### Tidy Data\n"
   ]
  },
  {
   "cell_type": "markdown",
   "metadata": {
    "slideshow": {
     "slide_type": "slide"
    }
   },
   "source": [
    "#### Verify each variable forms a column "
   ]
  },
  {
   "cell_type": "markdown",
   "metadata": {},
   "source": [
    "<font color=' #2874a6 '><b>Remarks</b></font>"
   ]
  },
  {
   "cell_type": "markdown",
   "metadata": {},
   "source": [
    "- Se ha comprobado que cada columna se refiere a una variable\n"
   ]
  },
  {
   "cell_type": "markdown",
   "metadata": {},
   "source": [
    "<font color=' #2874a6 '><b>CODE</b></font>"
   ]
  },
  {
   "cell_type": "code",
   "execution_count": 23,
   "metadata": {
    "ExecuteTime": {
     "end_time": "2021-01-27T11:01:34.878544Z",
     "start_time": "2021-01-27T11:01:34.740511Z"
    },
    "slideshow": {
     "slide_type": "subslide"
    },
    "vscode": {
     "languageId": "r"
    }
   },
   "outputs": [
    {
     "data": {
      "text/html": [
       "17"
      ],
      "text/latex": [
       "17"
      ],
      "text/markdown": [
       "17"
      ],
      "text/plain": [
       "[1] 17"
      ]
     },
     "metadata": {},
     "output_type": "display_data"
    },
    {
     "name": "stdout",
     "output_type": "stream",
     "text": [
      "Rows: 2,364\n",
      "Columns: 17\n",
      "$ rank_score_spi \u001b[3m\u001b[90m<dbl>\u001b[39m\u001b[23m NA, NA, NA, NA, NA, NA, NA, NA, NA, NA, NA, NA, 164, 16…\n",
      "$ score_spi      \u001b[3m\u001b[90m<dbl>\u001b[39m\u001b[23m 65.24, 64.87, 64.55, 64.31, 63.62, 63.29, 62.65, 62.32,…\n",
      "$ score_bhn      \u001b[3m\u001b[90m<dbl>\u001b[39m\u001b[23m 75.80, 75.35, 74.91, 74.48, 73.98, 73.43, 72.88, 72.35,…\n",
      "$ score_fow      \u001b[3m\u001b[90m<dbl>\u001b[39m\u001b[23m 63.62, 63.18, 62.91, 62.46, 61.03, 60.52, 59.26, 58.70,…\n",
      "$ score_opp      \u001b[3m\u001b[90m<dbl>\u001b[39m\u001b[23m 56.28, 56.07, 55.83, 55.98, 55.84, 55.92, 55.80, 55.92,…\n",
      "$ score_nbmc     \u001b[3m\u001b[90m<dbl>\u001b[39m\u001b[23m 82.09, 82.01, 81.79, 81.53, 81.23, 80.90, 80.53, 80.09,…\n",
      "$ score_ws       \u001b[3m\u001b[90m<dbl>\u001b[39m\u001b[23m 80.74, 79.84, 78.69, 77.99, 77.20, 76.59, 76.17, 75.89,…\n",
      "$ score_sh       \u001b[3m\u001b[90m<dbl>\u001b[39m\u001b[23m 79.36, 78.86, 78.50, 77.63, 76.92, 75.92, 74.97, 74.06,…\n",
      "$ score_ps       \u001b[3m\u001b[90m<dbl>\u001b[39m\u001b[23m 61.02, 60.68, 60.66, 60.78, 60.56, 60.31, 59.86, 59.37,…\n",
      "$ score_abk      \u001b[3m\u001b[90m<dbl>\u001b[39m\u001b[23m 72.42, 72.50, 72.36, 72.27, 71.90, 71.67, 71.16, 70.61,…\n",
      "$ score_aic      \u001b[3m\u001b[90m<dbl>\u001b[39m\u001b[23m 75.96, 74.44, 73.71, 72.87, 68.90, 67.40, 63.91, 62.46,…\n",
      "$ score_hw       \u001b[3m\u001b[90m<dbl>\u001b[39m\u001b[23m 58.21, 57.91, 57.84, 57.25, 56.72, 56.19, 55.78, 55.39,…\n",
      "$ score_eq       \u001b[3m\u001b[90m<dbl>\u001b[39m\u001b[23m 47.90, 47.87, 47.73, 47.45, 46.58, 46.82, 46.19, 46.33,…\n",
      "$ score_pr       \u001b[3m\u001b[90m<dbl>\u001b[39m\u001b[23m 60.40, 60.38, 61.01, 61.49, 61.97, 62.86, 63.30, 64.26,…\n",
      "$ score_pfc      \u001b[3m\u001b[90m<dbl>\u001b[39m\u001b[23m 62.27, 62.36, 62.39, 62.58, 62.46, 62.39, 62.05, 61.84,…\n",
      "$ score_incl     \u001b[3m\u001b[90m<dbl>\u001b[39m\u001b[23m 42.97, 42.14, 41.39, 41.86, 41.48, 41.62, 41.70, 42.00,…\n",
      "$ score_aae      \u001b[3m\u001b[90m<dbl>\u001b[39m\u001b[23m 59.50, 59.39, 58.52, 58.00, 57.46, 56.81, 56.17, 55.59,…\n"
     ]
    }
   ],
   "source": [
    "# \n",
    "ncol(data)\n",
    "glimpse(data)"
   ]
  },
  {
   "cell_type": "markdown",
   "metadata": {
    "slideshow": {
     "slide_type": "slide"
    }
   },
   "source": [
    "#### Verify each observation forms a row "
   ]
  },
  {
   "cell_type": "markdown",
   "metadata": {},
   "source": [
    "<font color=' #2874a6 '><b>Remarks</b></font>"
   ]
  },
  {
   "cell_type": "markdown",
   "metadata": {},
   "source": [
    "- Se ha comprobado que cada fila se refiere a una observación\n"
   ]
  },
  {
   "cell_type": "markdown",
   "metadata": {},
   "source": [
    "<font color=' #2874a6 '><b>CODE</b></font>"
   ]
  },
  {
   "cell_type": "code",
   "execution_count": 24,
   "metadata": {
    "ExecuteTime": {
     "end_time": "2021-01-27T11:01:34.878544Z",
     "start_time": "2021-01-27T11:01:34.740511Z"
    },
    "slideshow": {
     "slide_type": "subslide"
    },
    "vscode": {
     "languageId": "r"
    }
   },
   "outputs": [
    {
     "data": {
      "text/html": [
       "2364"
      ],
      "text/latex": [
       "2364"
      ],
      "text/markdown": [
       "2364"
      ],
      "text/plain": [
       "[1] 2364"
      ]
     },
     "metadata": {},
     "output_type": "display_data"
    },
    {
     "data": {
      "text/html": [
       "<table class=\"dataframe\">\n",
       "<caption>A tibble: 1 × 17</caption>\n",
       "<thead>\n",
       "\t<tr><th scope=col>rank_score_spi</th><th scope=col>score_spi</th><th scope=col>score_bhn</th><th scope=col>score_fow</th><th scope=col>score_opp</th><th scope=col>score_nbmc</th><th scope=col>score_ws</th><th scope=col>score_sh</th><th scope=col>score_ps</th><th scope=col>score_abk</th><th scope=col>score_aic</th><th scope=col>score_hw</th><th scope=col>score_eq</th><th scope=col>score_pr</th><th scope=col>score_pfc</th><th scope=col>score_incl</th><th scope=col>score_aae</th></tr>\n",
       "\t<tr><th scope=col>&lt;dbl&gt;</th><th scope=col>&lt;dbl&gt;</th><th scope=col>&lt;dbl&gt;</th><th scope=col>&lt;dbl&gt;</th><th scope=col>&lt;dbl&gt;</th><th scope=col>&lt;dbl&gt;</th><th scope=col>&lt;dbl&gt;</th><th scope=col>&lt;dbl&gt;</th><th scope=col>&lt;dbl&gt;</th><th scope=col>&lt;dbl&gt;</th><th scope=col>&lt;dbl&gt;</th><th scope=col>&lt;dbl&gt;</th><th scope=col>&lt;dbl&gt;</th><th scope=col>&lt;dbl&gt;</th><th scope=col>&lt;dbl&gt;</th><th scope=col>&lt;dbl&gt;</th><th scope=col>&lt;dbl&gt;</th></tr>\n",
       "</thead>\n",
       "<tbody>\n",
       "\t<tr><td>NA</td><td>65.24</td><td>75.8</td><td>63.62</td><td>56.28</td><td>82.09</td><td>80.74</td><td>79.36</td><td>61.02</td><td>72.42</td><td>75.96</td><td>58.21</td><td>47.9</td><td>60.4</td><td>62.27</td><td>42.97</td><td>59.5</td></tr>\n",
       "</tbody>\n",
       "</table>\n"
      ],
      "text/latex": [
       "A tibble: 1 × 17\n",
       "\\begin{tabular}{lllllllllllllllll}\n",
       " rank\\_score\\_spi & score\\_spi & score\\_bhn & score\\_fow & score\\_opp & score\\_nbmc & score\\_ws & score\\_sh & score\\_ps & score\\_abk & score\\_aic & score\\_hw & score\\_eq & score\\_pr & score\\_pfc & score\\_incl & score\\_aae\\\\\n",
       " <dbl> & <dbl> & <dbl> & <dbl> & <dbl> & <dbl> & <dbl> & <dbl> & <dbl> & <dbl> & <dbl> & <dbl> & <dbl> & <dbl> & <dbl> & <dbl> & <dbl>\\\\\n",
       "\\hline\n",
       "\t NA & 65.24 & 75.8 & 63.62 & 56.28 & 82.09 & 80.74 & 79.36 & 61.02 & 72.42 & 75.96 & 58.21 & 47.9 & 60.4 & 62.27 & 42.97 & 59.5\\\\\n",
       "\\end{tabular}\n"
      ],
      "text/markdown": [
       "\n",
       "A tibble: 1 × 17\n",
       "\n",
       "| rank_score_spi &lt;dbl&gt; | score_spi &lt;dbl&gt; | score_bhn &lt;dbl&gt; | score_fow &lt;dbl&gt; | score_opp &lt;dbl&gt; | score_nbmc &lt;dbl&gt; | score_ws &lt;dbl&gt; | score_sh &lt;dbl&gt; | score_ps &lt;dbl&gt; | score_abk &lt;dbl&gt; | score_aic &lt;dbl&gt; | score_hw &lt;dbl&gt; | score_eq &lt;dbl&gt; | score_pr &lt;dbl&gt; | score_pfc &lt;dbl&gt; | score_incl &lt;dbl&gt; | score_aae &lt;dbl&gt; |\n",
       "|---|---|---|---|---|---|---|---|---|---|---|---|---|---|---|---|---|\n",
       "| NA | 65.24 | 75.8 | 63.62 | 56.28 | 82.09 | 80.74 | 79.36 | 61.02 | 72.42 | 75.96 | 58.21 | 47.9 | 60.4 | 62.27 | 42.97 | 59.5 |\n",
       "\n"
      ],
      "text/plain": [
       "  rank_score_spi score_spi score_bhn score_fow score_opp score_nbmc score_ws\n",
       "1 NA             65.24     75.8      63.62     56.28     82.09      80.74   \n",
       "  score_sh score_ps score_abk score_aic score_hw score_eq score_pr score_pfc\n",
       "1 79.36    61.02    72.42     75.96     58.21    47.9     60.4     62.27    \n",
       "  score_incl score_aae\n",
       "1 42.97      59.5     "
      ]
     },
     "metadata": {},
     "output_type": "display_data"
    }
   ],
   "source": [
    "# \n",
    "nrow(data)\n",
    "head(data, 1)"
   ]
  },
  {
   "cell_type": "markdown",
   "metadata": {
    "slideshow": {
     "slide_type": "slide"
    }
   },
   "source": [
    "#### Verify each type of observational unit forms a table "
   ]
  },
  {
   "cell_type": "markdown",
   "metadata": {},
   "source": [
    "<font color=' #2874a6 '><b>Remarks</b></font>"
   ]
  },
  {
   "cell_type": "markdown",
   "metadata": {},
   "source": [
    "- No aplica\n"
   ]
  },
  {
   "cell_type": "markdown",
   "metadata": {},
   "source": [
    "<font color=' #2874a6 '><b>CODE</b></font>"
   ]
  },
  {
   "cell_type": "code",
   "execution_count": 25,
   "metadata": {
    "ExecuteTime": {
     "end_time": "2021-01-27T11:01:34.878544Z",
     "start_time": "2021-01-27T11:01:34.740511Z"
    },
    "slideshow": {
     "slide_type": "subslide"
    },
    "vscode": {
     "languageId": "r"
    }
   },
   "outputs": [],
   "source": [
    "# \n"
   ]
  },
  {
   "cell_type": "markdown",
   "metadata": {},
   "source": [
    "### Additional Actions not Initially Contemplated\n",
    "\n",
    "No aplica"
   ]
  },
  {
   "cell_type": "markdown",
   "metadata": {
    "slideshow": {
     "slide_type": "slide"
    }
   },
   "source": [
    "#### Title"
   ]
  },
  {
   "cell_type": "markdown",
   "metadata": {},
   "source": [
    "<font color=' #2874a6 '><b>Remarks</b></font>"
   ]
  },
  {
   "cell_type": "markdown",
   "metadata": {},
   "source": [
    "- xxxxxx\n",
    "- xxxxxx\n",
    "- xxxxxx"
   ]
  },
  {
   "cell_type": "markdown",
   "metadata": {},
   "source": [
    "<font color=' #2874a6 '><b>CODE</b></font>"
   ]
  },
  {
   "cell_type": "code",
   "execution_count": 26,
   "metadata": {
    "ExecuteTime": {
     "end_time": "2021-01-27T11:01:34.878544Z",
     "start_time": "2021-01-27T11:01:34.740511Z"
    },
    "slideshow": {
     "slide_type": "subslide"
    },
    "vscode": {
     "languageId": "r"
    }
   },
   "outputs": [],
   "source": [
    "# \n"
   ]
  },
  {
   "cell_type": "markdown",
   "metadata": {},
   "source": [
    "## <font color='green'>Data Save</font>\n",
    "\n",
    "* Solo si se han hecho cambios\n",
    "\n",
    "* No aplica"
   ]
  },
  {
   "cell_type": "markdown",
   "metadata": {},
   "source": [
    "<font color='tomato'> Identificamos los datos a guardar</font>"
   ]
  },
  {
   "cell_type": "code",
   "execution_count": 27,
   "metadata": {
    "vscode": {
     "languageId": "r"
    }
   },
   "outputs": [],
   "source": [
    "data_to_save <- data"
   ]
  },
  {
   "cell_type": "markdown",
   "metadata": {},
   "source": [
    "\n",
    "<font color='tomato'>Estructura de nombre de archivos:</font>\n",
    "\n",
    "* Código del caso de uso, por ejemplo \"CU_04\"\n",
    "* Número del proceso que lo genera, por ejemplo \"_06\".\n",
    "* Resto del nombre del archivo de entrada\n",
    "* Extensión del archivo\n",
    "\n",
    "Ejemplo: \"CU_04_06_01_01_zonasgeo.json, primer fichero que se genera en la tarea 01 del proceso 05 (Data Collection) para el caso de uso 04 (vacunas) y que se ha transformado en el proceso 06\n",
    "\n",
    "Importante mantener los guiones bajos antes de proceso, tarea, archivo y nombre"
   ]
  },
  {
   "cell_type": "markdown",
   "metadata": {},
   "source": [
    "### Proceso 06"
   ]
  },
  {
   "cell_type": "code",
   "execution_count": 28,
   "metadata": {
    "vscode": {
     "languageId": "r"
    }
   },
   "outputs": [],
   "source": [
    "caso <- \"CU_53\"\n",
    "proceso <- '_06'\n",
    "tarea <- \"_02\"\n",
    "archivo <- \"\"\n",
    "proper <- \"_spi\"\n",
    "extension <- \".csv\""
   ]
  },
  {
   "cell_type": "markdown",
   "metadata": {},
   "source": [
    "<font color='tomato'><b> OPCION A:</b> Uso del paquete \"tcltk\" para mayor comodidad</font>\n",
    "\n",
    "* Buscar carpeta, escribir nombre de archivo SIN extensión (se especifica en el código)\n",
    "* Especificar sufijo2 si es necesario\n",
    "* Cambiar datos por datos_xx si es necesario"
   ]
  },
  {
   "cell_type": "code",
   "execution_count": 29,
   "metadata": {
    "vscode": {
     "languageId": "r"
    }
   },
   "outputs": [],
   "source": [
    "# file_save <- paste0(caso, proceso, tarea, tcltk::tkgetSaveFile(), proper, extension) \n",
    "# path_out <- paste0(oPath, file_save)\n",
    "# write_csv(data_to_save_xxxxx, path_out)\n",
    "\n",
    "# cat('File saved as: ')\n",
    "# path_out"
   ]
  },
  {
   "cell_type": "markdown",
   "metadata": {},
   "source": [
    "<font color='tomato'><b> OPCION B:</b> Especificar el nombre de archivo</font>"
   ]
  },
  {
   "cell_type": "markdown",
   "metadata": {},
   "source": [
    "- Los ficheros de salida del proceso van siempre a Data/Output/.  "
   ]
  },
  {
   "cell_type": "code",
   "execution_count": 30,
   "metadata": {
    "vscode": {
     "languageId": "r"
    }
   },
   "outputs": [
    {
     "name": "stdout",
     "output_type": "stream",
     "text": [
      "File saved as: "
     ]
    },
    {
     "data": {
      "text/html": [
       "'Data/Output/CU_53_06_02_spi.csv'"
      ],
      "text/latex": [
       "'Data/Output/CU\\_53\\_06\\_02\\_spi.csv'"
      ],
      "text/markdown": [
       "'Data/Output/CU_53_06_02_spi.csv'"
      ],
      "text/plain": [
       "[1] \"Data/Output/CU_53_06_02_spi.csv\""
      ]
     },
     "metadata": {},
     "output_type": "display_data"
    }
   ],
   "source": [
    "file_save <- paste0(caso, proceso, tarea, archivo, proper, extension) \n",
    "path_out <- paste0(oPath, file_save)\n",
    "write_csv(data_to_save, path_out)\n",
    "\n",
    "cat('File saved as: ')\n",
    "path_out"
   ]
  },
  {
   "cell_type": "markdown",
   "metadata": {},
   "source": [
    "#### Copia del fichero a Input\n",
    "\n",
    "Si el archivo se va a usar en otros notebooks, copiar a la carpeta Input"
   ]
  },
  {
   "cell_type": "code",
   "execution_count": 31,
   "metadata": {
    "vscode": {
     "languageId": "r"
    }
   },
   "outputs": [
    {
     "data": {
      "text/html": [
       "TRUE"
      ],
      "text/latex": [
       "TRUE"
      ],
      "text/markdown": [
       "TRUE"
      ],
      "text/plain": [
       "[1] TRUE"
      ]
     },
     "metadata": {},
     "output_type": "display_data"
    }
   ],
   "source": [
    "path_in <- paste0(iPath, file_save)\n",
    "file.copy(path_out, path_in, overwrite = TRUE)"
   ]
  },
  {
   "cell_type": "markdown",
   "metadata": {
    "slideshow": {
     "slide_type": "slide"
    }
   },
   "source": [
    "## <font color='#2874a6'>REPORT</font>"
   ]
  },
  {
   "cell_type": "markdown",
   "metadata": {},
   "source": [
    "A continuación se realizará un informe de las acciones realizadas"
   ]
  },
  {
   "cell_type": "markdown",
   "metadata": {},
   "source": [
    "## <font color=' #2874a6 '>Main Actions Carried Out</font>"
   ]
  },
  {
   "cell_type": "markdown",
   "metadata": {},
   "source": [
    "Ejemplos\n",
    "- Se han comprobado todas las tareas de Data Adecuacy\n",
    "- No se ha tenido que realizar ninguna acción adicional"
   ]
  },
  {
   "cell_type": "markdown",
   "metadata": {},
   "source": [
    "## <font color=' #2874a6 '>Main Conclusions</font>"
   ]
  },
  {
   "cell_type": "markdown",
   "metadata": {},
   "source": [
    "- Los datos ya se habían tratado en el proceso 05 para poder hacer las tareas de ETL y no ha sido necesaria ninguna modificación"
   ]
  },
  {
   "cell_type": "markdown",
   "metadata": {},
   "source": [
    "## <font color='RED'>CODE TO DEPLOY (PILOT)</font>\n",
    "\n",
    "A continuación se incluirá el código que deba ser llevado a despliegue para producción, dado que se entiende efectúa operaciones necesarias sobre los datos en la ejecución del prototipo"
   ]
  },
  {
   "cell_type": "markdown",
   "metadata": {},
   "source": [
    "<font color=' red '><b>Description</b></font>\n",
    "\n",
    "- No hay nada que desplegar en el piloto, ya que estos datos son estáticos o en todo caso cambian con muy poca frecuencia, altamente improbable durante el proyecto.\n"
   ]
  },
  {
   "cell_type": "markdown",
   "metadata": {},
   "source": [
    "<font color=' red '><b>CODE</b></font>"
   ]
  },
  {
   "cell_type": "code",
   "execution_count": 32,
   "metadata": {
    "vscode": {
     "languageId": "r"
    }
   },
   "outputs": [],
   "source": [
    "# incluir código"
   ]
  }
 ],
 "metadata": {
  "anaconda-cloud": {},
  "celltoolbar": "Slideshow",
  "hide_input": false,
  "kernelspec": {
   "display_name": "R",
   "language": "R",
   "name": "ir"
  },
  "language_info": {
   "codemirror_mode": "r",
   "file_extension": ".r",
   "mimetype": "text/x-r-source",
   "name": "R",
   "pygments_lexer": "r",
   "version": "4.2.0"
  },
  "latex_envs": {
   "LaTeX_envs_menu_present": true,
   "autoclose": false,
   "autocomplete": true,
   "bibliofile": "biblio.bib",
   "cite_by": "apalike",
   "current_citInitial": 1,
   "eqLabelWithNumbers": true,
   "eqNumInitial": 1,
   "hotkeys": {
    "equation": "Ctrl-E",
    "itemize": "Ctrl-I"
   },
   "labels_anchors": false,
   "latex_user_defs": false,
   "report_style_numbering": true,
   "user_envs_cfg": false
  },
  "toc": {
   "base_numbering": 1,
   "nav_menu": {
    "height": "11.6px",
    "width": "160px"
   },
   "number_sections": false,
   "sideBar": true,
   "skip_h1_title": true,
   "title_cell": "Table of Contents",
   "title_sidebar": "Contents",
   "toc_cell": true,
   "toc_position": {
    "height": "calc(100% - 180px)",
    "left": "10px",
    "top": "150px",
    "width": "165px"
   },
   "toc_section_display": true,
   "toc_window_display": true
  },
  "varInspector": {
   "cols": {
    "lenName": 16,
    "lenType": 16,
    "lenVar": 40
   },
   "kernels_config": {
    "python": {
     "delete_cmd_postfix": "",
     "delete_cmd_prefix": "del ",
     "library": "var_list.py",
     "varRefreshCmd": "print(var_dic_list())"
    },
    "r": {
     "delete_cmd_postfix": ") ",
     "delete_cmd_prefix": "rm(",
     "library": "var_list.r",
     "varRefreshCmd": "cat(var_dic_list()) "
    }
   },
   "types_to_exclude": [
    "module",
    "function",
    "builtin_function_or_method",
    "instance",
    "_Feature"
   ],
   "window_display": false
  }
 },
 "nbformat": 4,
 "nbformat_minor": 4
}
