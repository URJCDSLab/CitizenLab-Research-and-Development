{
 "cells": [
  {
   "cell_type": "markdown",
   "metadata": {
    "slideshow": {
     "slide_type": "slide"
    }
   },
   "source": [
    "<img src=\".\\images\\Logo.png\" width=150 align=\"left\" /> <img src=\".\\images\\Logo2.jpg\" width=450 align=\"right\" />"
   ]
  },
  {
   "cell_type": "markdown",
   "metadata": {
    "slideshow": {
     "slide_type": "slide"
    }
   },
   "source": [
    "\n",
    "# <center><font color= #1e8449 > <b>CU18_Infraestructuras_eventos</font></center>"
   ]
  },
  {
   "cell_type": "markdown",
   "metadata": {
    "slideshow": {
     "slide_type": "slide"
    }
   },
   "source": [
    "<font color='steelblue'><b>Citizenlab Data Science Methodology > II - Data Processing Domain </font>\n",
    "***\n",
    "> # <font color='steelblue'> <b>08.- Data Split</font>"
   ]
  },
  {
   "cell_type": "markdown",
   "metadata": {
    "slideshow": {
     "slide_type": "slide"
    }
   },
   "source": [
    "<font color='steelblue'>Data Split is the process of selecting the appropriate division of the data set into train, test and validation set.</font>"
   ]
  },
  {
   "cell_type": "markdown",
   "metadata": {
    "slideshow": {
     "slide_type": "slide"
    }
   },
   "source": [
    "## <font color='steelblue'>Tasks</font>"
   ]
  },
  {
   "cell_type": "markdown",
   "metadata": {
    "slideshow": {
     "slide_type": "slide"
    }
   },
   "source": [
    "<font color='steelblue'><b>Train and Test Rate Evaluation</b>\t\n",
    "\n",
    "<font color='steelblue'><b>Split Train and Test Datasets\t\n"
   ]
  },
  {
   "cell_type": "markdown",
   "metadata": {},
   "source": [
    "## Consideraciones casos CitizenLab programados en R\n",
    "\n",
    "* Puede que algunas de las tareas de este proceso se realicen en los notebooks de los procesos de deploy al estar relacionadas con otras de esos procesos. En esos casos, en este notebook se referencia al notebook del proceso correspondiente\n",
    "* Puede que el proceso no aplique a los ficheros del caso de uso, y se indique \"No aplica\" de forma generalizada.\n",
    "* Si en el nombre de archivo del notebook no aparece ningún sufijo, el notebook se refiere al caso globalmente"
   ]
  },
  {
   "cell_type": "markdown",
   "metadata": {
    "slideshow": {
     "slide_type": "slide"
    }
   },
   "source": [
    "## <font color='green'>File</font>"
   ]
  },
  {
   "cell_type": "markdown",
   "metadata": {
    "slideshow": {
     "slide_type": "slide"
    }
   },
   "source": [
    "- <font color='steelblue'> <b>Input File: CU_53_06_02_spi</font>\n",
    "- <font color='steelblue'> <b>Output File: CU_53_08_02_spi</font>"
   ]
  },
  {
   "cell_type": "markdown",
   "metadata": {
    "slideshow": {
     "slide_type": "slide"
    }
   },
   "source": [
    "## <font color='green'>Settings</font>"
   ]
  },
  {
   "cell_type": "markdown",
   "metadata": {},
   "source": [
    "### Encoding\n",
    "\n",
    "Con la siguiente expresión se evitan problemas con el encoding al ejecutar el notebook. Es posible que deba ser eliminada o adaptada a la máquina en la que se ejecute el código."
   ]
  },
  {
   "cell_type": "code",
   "execution_count": 1,
   "metadata": {
    "vscode": {
     "languageId": "r"
    }
   },
   "outputs": [
    {
     "data": {
      "text/html": [
       "'LC_CTYPE=es_ES.UTF-8;LC_NUMERIC=C;LC_TIME=es_ES.UTF-8;LC_COLLATE=es_ES.UTF-8;LC_MONETARY=es_ES.UTF-8;LC_MESSAGES=en_US.UTF-8;LC_PAPER=es_ES.UTF-8;LC_NAME=C;LC_ADDRESS=C;LC_TELEPHONE=C;LC_MEASUREMENT=es_ES.UTF-8;LC_IDENTIFICATION=C'"
      ],
      "text/latex": [
       "'LC\\_CTYPE=es\\_ES.UTF-8;LC\\_NUMERIC=C;LC\\_TIME=es\\_ES.UTF-8;LC\\_COLLATE=es\\_ES.UTF-8;LC\\_MONETARY=es\\_ES.UTF-8;LC\\_MESSAGES=en\\_US.UTF-8;LC\\_PAPER=es\\_ES.UTF-8;LC\\_NAME=C;LC\\_ADDRESS=C;LC\\_TELEPHONE=C;LC\\_MEASUREMENT=es\\_ES.UTF-8;LC\\_IDENTIFICATION=C'"
      ],
      "text/markdown": [
       "'LC_CTYPE=es_ES.UTF-8;LC_NUMERIC=C;LC_TIME=es_ES.UTF-8;LC_COLLATE=es_ES.UTF-8;LC_MONETARY=es_ES.UTF-8;LC_MESSAGES=en_US.UTF-8;LC_PAPER=es_ES.UTF-8;LC_NAME=C;LC_ADDRESS=C;LC_TELEPHONE=C;LC_MEASUREMENT=es_ES.UTF-8;LC_IDENTIFICATION=C'"
      ],
      "text/plain": [
       "[1] \"LC_CTYPE=es_ES.UTF-8;LC_NUMERIC=C;LC_TIME=es_ES.UTF-8;LC_COLLATE=es_ES.UTF-8;LC_MONETARY=es_ES.UTF-8;LC_MESSAGES=en_US.UTF-8;LC_PAPER=es_ES.UTF-8;LC_NAME=C;LC_ADDRESS=C;LC_TELEPHONE=C;LC_MEASUREMENT=es_ES.UTF-8;LC_IDENTIFICATION=C\""
      ]
     },
     "metadata": {},
     "output_type": "display_data"
    }
   ],
   "source": [
    "Sys.setlocale(category = \"LC_ALL\", locale = \"es_ES.UTF-8\")"
   ]
  },
  {
   "cell_type": "markdown",
   "metadata": {},
   "source": [
    "### Libraries to use"
   ]
  },
  {
   "cell_type": "code",
   "execution_count": 2,
   "metadata": {
    "vscode": {
     "languageId": "r"
    }
   },
   "outputs": [
    {
     "name": "stderr",
     "output_type": "stream",
     "text": [
      "\n",
      "Attaching package: ‘dplyr’\n",
      "\n",
      "\n",
      "The following objects are masked from ‘package:stats’:\n",
      "\n",
      "    filter, lag\n",
      "\n",
      "\n",
      "The following objects are masked from ‘package:base’:\n",
      "\n",
      "    intersect, setdiff, setequal, union\n",
      "\n",
      "\n"
     ]
    }
   ],
   "source": [
    "library(readr)\n",
    "library(dplyr)\n",
    "# library(sf)\n",
    "library(tidyr)\n",
    "library(stringr)"
   ]
  },
  {
   "cell_type": "markdown",
   "metadata": {},
   "source": [
    "### Paths"
   ]
  },
  {
   "cell_type": "code",
   "execution_count": 3,
   "metadata": {
    "vscode": {
     "languageId": "r"
    }
   },
   "outputs": [],
   "source": [
    "iPath <- \"Data/Input/\"\n",
    "oPath <- \"Data/Output/\""
   ]
  },
  {
   "cell_type": "markdown",
   "metadata": {},
   "source": [
    "## <font color='green'>Data Load</font>"
   ]
  },
  {
   "cell_type": "markdown",
   "metadata": {},
   "source": [
    "<font color='tomato'><b> OPCION A:</b> Seleccionar fichero en ventana para mayor comodidad</font> "
   ]
  },
  {
   "cell_type": "markdown",
   "metadata": {},
   "source": [
    "Data load using the {tcltk} package. Ucomment the line if using this option"
   ]
  },
  {
   "cell_type": "code",
   "execution_count": 4,
   "metadata": {
    "vscode": {
     "languageId": "r"
    }
   },
   "outputs": [],
   "source": [
    "# file_data <- tcltk::tk_choose.files(multi = FALSE)"
   ]
  },
  {
   "cell_type": "markdown",
   "metadata": {},
   "source": [
    "<font color='tomato'><b> OPCION B:</b> Especificar el nombre de archivo</font>\n",
    "\n"
   ]
  },
  {
   "cell_type": "code",
   "execution_count": 5,
   "metadata": {
    "vscode": {
     "languageId": "r"
    }
   },
   "outputs": [
    {
     "name": "stdout",
     "output_type": "stream",
     "text": [
      "Se leerán datos del archivo:  Data/Input/CU_53_06_02_spi.csv"
     ]
    }
   ],
   "source": [
    "iFile <- \"CU_53_06_02_spi.csv\"\n",
    "file_data <- paste0(iPath, iFile)\n",
    "\n",
    "if(file.exists(file_data)){\n",
    "    cat(\"Se leerán datos del archivo: \", file_data)\n",
    "} else{\n",
    "    warning(\"Cuidado: el archivo no existe.\")\n",
    "}\n"
   ]
  },
  {
   "cell_type": "markdown",
   "metadata": {},
   "source": [
    "#### Data file to dataframe\n",
    "\n",
    "Usar la función adecuada según el formato de entrada (xlsx, csv, json, ...)"
   ]
  },
  {
   "cell_type": "code",
   "execution_count": 6,
   "metadata": {
    "vscode": {
     "languageId": "r"
    }
   },
   "outputs": [
    {
     "name": "stderr",
     "output_type": "stream",
     "text": [
      "\u001b[1mRows: \u001b[22m\u001b[34m2364\u001b[39m \u001b[1mColumns: \u001b[22m\u001b[34m17\u001b[39m\n",
      "\u001b[36m──\u001b[39m \u001b[1mColumn specification\u001b[22m \u001b[36m───────────────────────────────────────────────────────────────────────────────────────────────\u001b[39m\n",
      "\u001b[1mDelimiter:\u001b[22m \",\"\n",
      "\u001b[32mdbl\u001b[39m (17): rank_score_spi, score_spi, score_bhn, score_fow, score_opp, score_...\n",
      "\n",
      "\u001b[36mℹ\u001b[39m Use `spec()` to retrieve the full column specification for this data.\n",
      "\u001b[36mℹ\u001b[39m Specify the column types or set `show_col_types = FALSE` to quiet this message.\n"
     ]
    }
   ],
   "source": [
    "data <- read_csv(file_data)"
   ]
  },
  {
   "cell_type": "markdown",
   "metadata": {},
   "source": [
    "<font color='tomato'>Visualizo los datos.</font>"
   ]
  },
  {
   "cell_type": "markdown",
   "metadata": {},
   "source": [
    "Estructura de  los datos:"
   ]
  },
  {
   "cell_type": "code",
   "execution_count": 7,
   "metadata": {
    "vscode": {
     "languageId": "r"
    }
   },
   "outputs": [
    {
     "name": "stdout",
     "output_type": "stream",
     "text": [
      "Rows: 2,364\n",
      "Columns: 17\n",
      "$ rank_score_spi \u001b[3m\u001b[90m<dbl>\u001b[39m\u001b[23m NA, NA, NA, NA, NA, NA, NA, NA, NA, NA, NA, NA, 164, 16…\n",
      "$ score_spi      \u001b[3m\u001b[90m<dbl>\u001b[39m\u001b[23m 65.24, 64.87, 64.55, 64.31, 63.62, 63.29, 62.65, 62.32,…\n",
      "$ score_bhn      \u001b[3m\u001b[90m<dbl>\u001b[39m\u001b[23m 75.80, 75.35, 74.91, 74.48, 73.98, 73.43, 72.88, 72.35,…\n",
      "$ score_fow      \u001b[3m\u001b[90m<dbl>\u001b[39m\u001b[23m 63.62, 63.18, 62.91, 62.46, 61.03, 60.52, 59.26, 58.70,…\n",
      "$ score_opp      \u001b[3m\u001b[90m<dbl>\u001b[39m\u001b[23m 56.28, 56.07, 55.83, 55.98, 55.84, 55.92, 55.80, 55.92,…\n",
      "$ score_nbmc     \u001b[3m\u001b[90m<dbl>\u001b[39m\u001b[23m 82.09, 82.01, 81.79, 81.53, 81.23, 80.90, 80.53, 80.09,…\n",
      "$ score_ws       \u001b[3m\u001b[90m<dbl>\u001b[39m\u001b[23m 80.74, 79.84, 78.69, 77.99, 77.20, 76.59, 76.17, 75.89,…\n",
      "$ score_sh       \u001b[3m\u001b[90m<dbl>\u001b[39m\u001b[23m 79.36, 78.86, 78.50, 77.63, 76.92, 75.92, 74.97, 74.06,…\n",
      "$ score_ps       \u001b[3m\u001b[90m<dbl>\u001b[39m\u001b[23m 61.02, 60.68, 60.66, 60.78, 60.56, 60.31, 59.86, 59.37,…\n",
      "$ score_abk      \u001b[3m\u001b[90m<dbl>\u001b[39m\u001b[23m 72.42, 72.50, 72.36, 72.27, 71.90, 71.67, 71.16, 70.61,…\n",
      "$ score_aic      \u001b[3m\u001b[90m<dbl>\u001b[39m\u001b[23m 75.96, 74.44, 73.71, 72.87, 68.90, 67.40, 63.91, 62.46,…\n",
      "$ score_hw       \u001b[3m\u001b[90m<dbl>\u001b[39m\u001b[23m 58.21, 57.91, 57.84, 57.25, 56.72, 56.19, 55.78, 55.39,…\n",
      "$ score_eq       \u001b[3m\u001b[90m<dbl>\u001b[39m\u001b[23m 47.90, 47.87, 47.73, 47.45, 46.58, 46.82, 46.19, 46.33,…\n",
      "$ score_pr       \u001b[3m\u001b[90m<dbl>\u001b[39m\u001b[23m 60.40, 60.38, 61.01, 61.49, 61.97, 62.86, 63.30, 64.26,…\n",
      "$ score_pfc      \u001b[3m\u001b[90m<dbl>\u001b[39m\u001b[23m 62.27, 62.36, 62.39, 62.58, 62.46, 62.39, 62.05, 61.84,…\n",
      "$ score_incl     \u001b[3m\u001b[90m<dbl>\u001b[39m\u001b[23m 42.97, 42.14, 41.39, 41.86, 41.48, 41.62, 41.70, 42.00,…\n",
      "$ score_aae      \u001b[3m\u001b[90m<dbl>\u001b[39m\u001b[23m 59.50, 59.39, 58.52, 58.00, 57.46, 56.81, 56.17, 55.59,…\n"
     ]
    }
   ],
   "source": [
    "data |> glimpse()"
   ]
  },
  {
   "cell_type": "markdown",
   "metadata": {},
   "source": [
    "Muestra de los primeros datos:"
   ]
  },
  {
   "cell_type": "code",
   "execution_count": 8,
   "metadata": {
    "vscode": {
     "languageId": "r"
    }
   },
   "outputs": [
    {
     "data": {
      "text/html": [
       "<table class=\"dataframe\">\n",
       "<caption>A spec_tbl_df: 5 × 17</caption>\n",
       "<thead>\n",
       "\t<tr><th scope=col>rank_score_spi</th><th scope=col>score_spi</th><th scope=col>score_bhn</th><th scope=col>score_fow</th><th scope=col>score_opp</th><th scope=col>score_nbmc</th><th scope=col>score_ws</th><th scope=col>score_sh</th><th scope=col>score_ps</th><th scope=col>score_abk</th><th scope=col>score_aic</th><th scope=col>score_hw</th><th scope=col>score_eq</th><th scope=col>score_pr</th><th scope=col>score_pfc</th><th scope=col>score_incl</th><th scope=col>score_aae</th></tr>\n",
       "\t<tr><th scope=col>&lt;dbl&gt;</th><th scope=col>&lt;dbl&gt;</th><th scope=col>&lt;dbl&gt;</th><th scope=col>&lt;dbl&gt;</th><th scope=col>&lt;dbl&gt;</th><th scope=col>&lt;dbl&gt;</th><th scope=col>&lt;dbl&gt;</th><th scope=col>&lt;dbl&gt;</th><th scope=col>&lt;dbl&gt;</th><th scope=col>&lt;dbl&gt;</th><th scope=col>&lt;dbl&gt;</th><th scope=col>&lt;dbl&gt;</th><th scope=col>&lt;dbl&gt;</th><th scope=col>&lt;dbl&gt;</th><th scope=col>&lt;dbl&gt;</th><th scope=col>&lt;dbl&gt;</th><th scope=col>&lt;dbl&gt;</th></tr>\n",
       "</thead>\n",
       "<tbody>\n",
       "\t<tr><td>NA</td><td>65.24</td><td>75.80</td><td>63.62</td><td>56.28</td><td>82.09</td><td>80.74</td><td>79.36</td><td>61.02</td><td>72.42</td><td>75.96</td><td>58.21</td><td>47.90</td><td>60.40</td><td>62.27</td><td>42.97</td><td>59.50</td></tr>\n",
       "\t<tr><td>NA</td><td>64.87</td><td>75.35</td><td>63.18</td><td>56.07</td><td>82.01</td><td>79.84</td><td>78.86</td><td>60.68</td><td>72.50</td><td>74.44</td><td>57.91</td><td>47.87</td><td>60.38</td><td>62.36</td><td>42.14</td><td>59.39</td></tr>\n",
       "\t<tr><td>NA</td><td>64.55</td><td>74.91</td><td>62.91</td><td>55.83</td><td>81.79</td><td>78.69</td><td>78.50</td><td>60.66</td><td>72.36</td><td>73.71</td><td>57.84</td><td>47.73</td><td>61.01</td><td>62.39</td><td>41.39</td><td>58.52</td></tr>\n",
       "\t<tr><td>NA</td><td>64.31</td><td>74.48</td><td>62.46</td><td>55.98</td><td>81.53</td><td>77.99</td><td>77.63</td><td>60.78</td><td>72.27</td><td>72.87</td><td>57.25</td><td>47.45</td><td>61.49</td><td>62.58</td><td>41.86</td><td>58.00</td></tr>\n",
       "\t<tr><td>NA</td><td>63.62</td><td>73.98</td><td>61.03</td><td>55.84</td><td>81.23</td><td>77.20</td><td>76.92</td><td>60.56</td><td>71.90</td><td>68.90</td><td>56.72</td><td>46.58</td><td>61.97</td><td>62.46</td><td>41.48</td><td>57.46</td></tr>\n",
       "</tbody>\n",
       "</table>\n"
      ],
      "text/latex": [
       "A spec\\_tbl\\_df: 5 × 17\n",
       "\\begin{tabular}{lllllllllllllllll}\n",
       " rank\\_score\\_spi & score\\_spi & score\\_bhn & score\\_fow & score\\_opp & score\\_nbmc & score\\_ws & score\\_sh & score\\_ps & score\\_abk & score\\_aic & score\\_hw & score\\_eq & score\\_pr & score\\_pfc & score\\_incl & score\\_aae\\\\\n",
       " <dbl> & <dbl> & <dbl> & <dbl> & <dbl> & <dbl> & <dbl> & <dbl> & <dbl> & <dbl> & <dbl> & <dbl> & <dbl> & <dbl> & <dbl> & <dbl> & <dbl>\\\\\n",
       "\\hline\n",
       "\t NA & 65.24 & 75.80 & 63.62 & 56.28 & 82.09 & 80.74 & 79.36 & 61.02 & 72.42 & 75.96 & 58.21 & 47.90 & 60.40 & 62.27 & 42.97 & 59.50\\\\\n",
       "\t NA & 64.87 & 75.35 & 63.18 & 56.07 & 82.01 & 79.84 & 78.86 & 60.68 & 72.50 & 74.44 & 57.91 & 47.87 & 60.38 & 62.36 & 42.14 & 59.39\\\\\n",
       "\t NA & 64.55 & 74.91 & 62.91 & 55.83 & 81.79 & 78.69 & 78.50 & 60.66 & 72.36 & 73.71 & 57.84 & 47.73 & 61.01 & 62.39 & 41.39 & 58.52\\\\\n",
       "\t NA & 64.31 & 74.48 & 62.46 & 55.98 & 81.53 & 77.99 & 77.63 & 60.78 & 72.27 & 72.87 & 57.25 & 47.45 & 61.49 & 62.58 & 41.86 & 58.00\\\\\n",
       "\t NA & 63.62 & 73.98 & 61.03 & 55.84 & 81.23 & 77.20 & 76.92 & 60.56 & 71.90 & 68.90 & 56.72 & 46.58 & 61.97 & 62.46 & 41.48 & 57.46\\\\\n",
       "\\end{tabular}\n"
      ],
      "text/markdown": [
       "\n",
       "A spec_tbl_df: 5 × 17\n",
       "\n",
       "| rank_score_spi &lt;dbl&gt; | score_spi &lt;dbl&gt; | score_bhn &lt;dbl&gt; | score_fow &lt;dbl&gt; | score_opp &lt;dbl&gt; | score_nbmc &lt;dbl&gt; | score_ws &lt;dbl&gt; | score_sh &lt;dbl&gt; | score_ps &lt;dbl&gt; | score_abk &lt;dbl&gt; | score_aic &lt;dbl&gt; | score_hw &lt;dbl&gt; | score_eq &lt;dbl&gt; | score_pr &lt;dbl&gt; | score_pfc &lt;dbl&gt; | score_incl &lt;dbl&gt; | score_aae &lt;dbl&gt; |\n",
       "|---|---|---|---|---|---|---|---|---|---|---|---|---|---|---|---|---|\n",
       "| NA | 65.24 | 75.80 | 63.62 | 56.28 | 82.09 | 80.74 | 79.36 | 61.02 | 72.42 | 75.96 | 58.21 | 47.90 | 60.40 | 62.27 | 42.97 | 59.50 |\n",
       "| NA | 64.87 | 75.35 | 63.18 | 56.07 | 82.01 | 79.84 | 78.86 | 60.68 | 72.50 | 74.44 | 57.91 | 47.87 | 60.38 | 62.36 | 42.14 | 59.39 |\n",
       "| NA | 64.55 | 74.91 | 62.91 | 55.83 | 81.79 | 78.69 | 78.50 | 60.66 | 72.36 | 73.71 | 57.84 | 47.73 | 61.01 | 62.39 | 41.39 | 58.52 |\n",
       "| NA | 64.31 | 74.48 | 62.46 | 55.98 | 81.53 | 77.99 | 77.63 | 60.78 | 72.27 | 72.87 | 57.25 | 47.45 | 61.49 | 62.58 | 41.86 | 58.00 |\n",
       "| NA | 63.62 | 73.98 | 61.03 | 55.84 | 81.23 | 77.20 | 76.92 | 60.56 | 71.90 | 68.90 | 56.72 | 46.58 | 61.97 | 62.46 | 41.48 | 57.46 |\n",
       "\n"
      ],
      "text/plain": [
       "  rank_score_spi score_spi score_bhn score_fow score_opp score_nbmc score_ws\n",
       "1 NA             65.24     75.80     63.62     56.28     82.09      80.74   \n",
       "2 NA             64.87     75.35     63.18     56.07     82.01      79.84   \n",
       "3 NA             64.55     74.91     62.91     55.83     81.79      78.69   \n",
       "4 NA             64.31     74.48     62.46     55.98     81.53      77.99   \n",
       "5 NA             63.62     73.98     61.03     55.84     81.23      77.20   \n",
       "  score_sh score_ps score_abk score_aic score_hw score_eq score_pr score_pfc\n",
       "1 79.36    61.02    72.42     75.96     58.21    47.90    60.40    62.27    \n",
       "2 78.86    60.68    72.50     74.44     57.91    47.87    60.38    62.36    \n",
       "3 78.50    60.66    72.36     73.71     57.84    47.73    61.01    62.39    \n",
       "4 77.63    60.78    72.27     72.87     57.25    47.45    61.49    62.58    \n",
       "5 76.92    60.56    71.90     68.90     56.72    46.58    61.97    62.46    \n",
       "  score_incl score_aae\n",
       "1 42.97      59.50    \n",
       "2 42.14      59.39    \n",
       "3 41.39      58.52    \n",
       "4 41.86      58.00    \n",
       "5 41.48      57.46    "
      ]
     },
     "metadata": {},
     "output_type": "display_data"
    }
   ],
   "source": [
    "data |> slice_head(n = 5)"
   ]
  },
  {
   "cell_type": "markdown",
   "metadata": {
    "slideshow": {
     "slide_type": "slide"
    }
   },
   "source": [
    "## Split Rate  Evaluation"
   ]
  },
  {
   "cell_type": "markdown",
   "metadata": {},
   "source": [
    "An soft evaluation is performed in order to estimate Split Rate."
   ]
  },
  {
   "cell_type": "markdown",
   "metadata": {
    "slideshow": {
     "slide_type": "slide"
    }
   },
   "source": [
    "### Classification Rate Evaluation"
   ]
  },
  {
   "cell_type": "code",
   "execution_count": 9,
   "metadata": {
    "ExecuteTime": {
     "end_time": "2021-01-26T18:40:36.066116Z",
     "start_time": "2021-01-26T18:40:36.034876Z"
    },
    "vscode": {
     "languageId": "r"
    }
   },
   "outputs": [],
   "source": [
    "# Implementar código solo si aplica\n"
   ]
  },
  {
   "cell_type": "markdown",
   "metadata": {},
   "source": [
    "<font color='tomato'>Métricas para la Soft-Evaluation</font>"
   ]
  },
  {
   "cell_type": "code",
   "execution_count": 10,
   "metadata": {
    "vscode": {
     "languageId": "r"
    }
   },
   "outputs": [],
   "source": [
    "# Implementar código solo si aplica\n"
   ]
  },
  {
   "cell_type": "markdown",
   "metadata": {},
   "source": [
    "<font color='tomato'>Modelos para la Soft-Evaluation</font>"
   ]
  },
  {
   "cell_type": "code",
   "execution_count": 11,
   "metadata": {
    "vscode": {
     "languageId": "r"
    }
   },
   "outputs": [],
   "source": [
    "# Implementar código solo si aplica\n"
   ]
  },
  {
   "cell_type": "markdown",
   "metadata": {},
   "source": [
    "<font color='darkgrey'><b>Operation</font>"
   ]
  },
  {
   "cell_type": "code",
   "execution_count": 12,
   "metadata": {
    "vscode": {
     "languageId": "r"
    }
   },
   "outputs": [],
   "source": [
    "# Implementar código solo si aplica\n"
   ]
  },
  {
   "cell_type": "markdown",
   "metadata": {
    "slideshow": {
     "slide_type": "slide"
    }
   },
   "source": [
    "### Regression Rate Evaluation"
   ]
  },
  {
   "cell_type": "markdown",
   "metadata": {},
   "source": [
    "<font color='tomato'>Parámetros para la Soft-Evaluation</font>"
   ]
  },
  {
   "cell_type": "code",
   "execution_count": 13,
   "metadata": {
    "vscode": {
     "languageId": "r"
    }
   },
   "outputs": [],
   "source": [
    "# Implementar código solo si aplica\n"
   ]
  },
  {
   "cell_type": "markdown",
   "metadata": {},
   "source": [
    "<font color='tomato'>Métricas para la Soft-Evaluation</font>"
   ]
  },
  {
   "cell_type": "code",
   "execution_count": 14,
   "metadata": {
    "vscode": {
     "languageId": "r"
    }
   },
   "outputs": [],
   "source": [
    "# Implementar código solo si aplica\n"
   ]
  },
  {
   "cell_type": "markdown",
   "metadata": {},
   "source": [
    "<font color='tomato'>Modelos para la Soft-Evaluation</font>"
   ]
  },
  {
   "cell_type": "code",
   "execution_count": 15,
   "metadata": {
    "vscode": {
     "languageId": "r"
    }
   },
   "outputs": [],
   "source": [
    "# Implementar código solo si aplica\n"
   ]
  },
  {
   "cell_type": "markdown",
   "metadata": {},
   "source": [
    "<font color='darkgrey'><b>Operation</font>"
   ]
  },
  {
   "cell_type": "code",
   "execution_count": 16,
   "metadata": {
    "vscode": {
     "languageId": "r"
    }
   },
   "outputs": [],
   "source": [
    "# Implementar código solo si aplica\n"
   ]
  },
  {
   "cell_type": "markdown",
   "metadata": {
    "slideshow": {
     "slide_type": "slide"
    }
   },
   "source": [
    "#### Clustering Rate Evaluation"
   ]
  },
  {
   "cell_type": "markdown",
   "metadata": {},
   "source": [
    "<font color='crimson'>You do not use training and valing in unsupervised learning. There is no objective function in unsupervised learning to val the performance of the algorithm.</font>"
   ]
  },
  {
   "cell_type": "markdown",
   "metadata": {
    "slideshow": {
     "slide_type": "slide"
    }
   },
   "source": [
    "## Split Train and Test datasets"
   ]
  },
  {
   "cell_type": "markdown",
   "metadata": {},
   "source": [
    "Estimada el porcentaje de división (Rate of Split) procedemos a realiar la división correspondiente del fichero entre Train y Test."
   ]
  },
  {
   "cell_type": "markdown",
   "metadata": {},
   "source": [
    "<font color='tomato'>Parámetros para el Split</font>"
   ]
  },
  {
   "cell_type": "code",
   "execution_count": 17,
   "metadata": {
    "vscode": {
     "languageId": "r"
    }
   },
   "outputs": [],
   "source": [
    "# Establecer la semilla aleatoria para reproducibilidad\n",
    "set.seed(123)\n",
    "\n",
    "# Proporción de división (porcentaje)\n",
    "split_rate <- 0.8  # 80% para entrenamiento, 20% para prueba"
   ]
  },
  {
   "cell_type": "markdown",
   "metadata": {},
   "source": [
    "<font color='darkgrey'><b>Operation</font>"
   ]
  },
  {
   "cell_type": "code",
   "execution_count": 18,
   "metadata": {
    "vscode": {
     "languageId": "r"
    }
   },
   "outputs": [
    {
     "name": "stderr",
     "output_type": "stream",
     "text": [
      "\u001b[1m\u001b[22mJoining with `by = join_by(rank_score_spi, score_spi, score_bhn, score_fow, score_opp, score_nbmc, score_ws, score_sh,\n",
      "score_ps, score_abk, score_aic, score_hw, score_eq, score_pr, score_pfc, score_incl, score_aae)`\n"
     ]
    }
   ],
   "source": [
    "# Generate the train dataset\n",
    "train_data <- data %>%\n",
    "  slice_sample(prop = split_rate, replace = FALSE) %>%\n",
    "  mutate(is_train = TRUE)\n",
    "\n",
    "# Generate the test dataset\n",
    "test_data <- data %>%\n",
    "  anti_join(train_data)%>%\n",
    "  mutate(is_train = FALSE)\n",
    "\n",
    "data_to_save <- rbind(train_data, test_data)"
   ]
  },
  {
   "cell_type": "code",
   "execution_count": 19,
   "metadata": {},
   "outputs": [
    {
     "data": {
      "text/html": [
       "<table class=\"dataframe\">\n",
       "<caption>A tibble: 2362 × 18</caption>\n",
       "<thead>\n",
       "\t<tr><th scope=col>rank_score_spi</th><th scope=col>score_spi</th><th scope=col>score_bhn</th><th scope=col>score_fow</th><th scope=col>score_opp</th><th scope=col>score_nbmc</th><th scope=col>score_ws</th><th scope=col>score_sh</th><th scope=col>score_ps</th><th scope=col>score_abk</th><th scope=col>score_aic</th><th scope=col>score_hw</th><th scope=col>score_eq</th><th scope=col>score_pr</th><th scope=col>score_pfc</th><th scope=col>score_incl</th><th scope=col>score_aae</th><th scope=col>is_train</th></tr>\n",
       "\t<tr><th scope=col>&lt;dbl&gt;</th><th scope=col>&lt;dbl&gt;</th><th scope=col>&lt;dbl&gt;</th><th scope=col>&lt;dbl&gt;</th><th scope=col>&lt;dbl&gt;</th><th scope=col>&lt;dbl&gt;</th><th scope=col>&lt;dbl&gt;</th><th scope=col>&lt;dbl&gt;</th><th scope=col>&lt;dbl&gt;</th><th scope=col>&lt;dbl&gt;</th><th scope=col>&lt;dbl&gt;</th><th scope=col>&lt;dbl&gt;</th><th scope=col>&lt;dbl&gt;</th><th scope=col>&lt;dbl&gt;</th><th scope=col>&lt;dbl&gt;</th><th scope=col>&lt;dbl&gt;</th><th scope=col>&lt;dbl&gt;</th><th scope=col>&lt;lgl&gt;</th></tr>\n",
       "</thead>\n",
       "<tbody>\n",
       "\t<tr><td> NA</td><td>   NA</td><td>   NA</td><td>   NA</td><td>   NA</td><td>75.01</td><td>83.09</td><td>73.63</td><td>   NA</td><td>84.43</td><td>28.35</td><td>   NA</td><td>62.42</td><td>   NA</td><td>   NA</td><td>   NA</td><td>   NA</td><td>TRUE</td></tr>\n",
       "\t<tr><td> 80</td><td>67.59</td><td>79.16</td><td>65.40</td><td>58.22</td><td>86.67</td><td>86.44</td><td>87.69</td><td>55.85</td><td>74.20</td><td>74.19</td><td>53.55</td><td>59.66</td><td>81.60</td><td>60.29</td><td>40.24</td><td>50.73</td><td>TRUE</td></tr>\n",
       "\t<tr><td> 97</td><td>60.10</td><td>74.55</td><td>51.25</td><td>54.49</td><td>72.88</td><td>83.35</td><td>77.17</td><td>64.81</td><td>47.04</td><td>37.15</td><td>64.58</td><td>56.22</td><td>71.05</td><td>64.77</td><td>56.12</td><td>26.03</td><td>TRUE</td></tr>\n",
       "\t<tr><td> 46</td><td>73.96</td><td>81.88</td><td>70.69</td><td>69.32</td><td>86.33</td><td>88.07</td><td>89.59</td><td>63.55</td><td>89.07</td><td>68.14</td><td>61.41</td><td>64.13</td><td>90.28</td><td>67.65</td><td>68.48</td><td>50.87</td><td>TRUE</td></tr>\n",
       "\t<tr><td> 84</td><td>62.86</td><td>79.45</td><td>61.22</td><td>47.92</td><td>83.91</td><td>77.71</td><td>85.11</td><td>71.08</td><td>65.15</td><td>51.25</td><td>62.00</td><td>66.47</td><td>61.56</td><td>56.51</td><td>48.70</td><td>24.90</td><td>TRUE</td></tr>\n",
       "\t<tr><td> 99</td><td>61.43</td><td>77.84</td><td>57.63</td><td>48.83</td><td>87.72</td><td>78.15</td><td>86.61</td><td>58.87</td><td>55.79</td><td>78.17</td><td>45.35</td><td>51.22</td><td>60.41</td><td>58.62</td><td>35.57</td><td>40.72</td><td>TRUE</td></tr>\n",
       "\t<tr><td>150</td><td>45.57</td><td>47.15</td><td>45.21</td><td>44.34</td><td>54.66</td><td>47.82</td><td>36.59</td><td>49.53</td><td>50.36</td><td>33.84</td><td>36.99</td><td>59.66</td><td>69.20</td><td>40.61</td><td>41.81</td><td>25.72</td><td>TRUE</td></tr>\n",
       "\t<tr><td> 74</td><td>66.56</td><td>80.41</td><td>62.82</td><td>56.46</td><td>92.38</td><td>78.47</td><td>85.21</td><td>65.57</td><td>81.61</td><td>61.95</td><td>61.64</td><td>46.07</td><td>70.02</td><td>62.49</td><td>36.89</td><td>56.45</td><td>TRUE</td></tr>\n",
       "\t<tr><td>105</td><td>59.45</td><td>66.16</td><td>54.62</td><td>57.56</td><td>72.21</td><td>66.32</td><td>75.91</td><td>50.21</td><td>68.71</td><td>56.61</td><td>41.87</td><td>51.28</td><td>74.13</td><td>59.83</td><td>55.73</td><td>40.54</td><td>TRUE</td></tr>\n",
       "\t<tr><td> 36</td><td>79.93</td><td>88.01</td><td>77.07</td><td>74.71</td><td>91.17</td><td>94.88</td><td>91.84</td><td>74.16</td><td>91.56</td><td>80.30</td><td>67.85</td><td>68.58</td><td>93.79</td><td>78.63</td><td>58.23</td><td>68.19</td><td>TRUE</td></tr>\n",
       "\t<tr><td>143</td><td>44.25</td><td>54.20</td><td>46.20</td><td>32.34</td><td>66.70</td><td>55.90</td><td>46.54</td><td>47.67</td><td>58.51</td><td>30.33</td><td>39.95</td><td>56.00</td><td>19.40</td><td>50.77</td><td>36.76</td><td>22.42</td><td>TRUE</td></tr>\n",
       "\t<tr><td>154</td><td>46.58</td><td>44.86</td><td>48.63</td><td>46.24</td><td>55.91</td><td>30.89</td><td>40.36</td><td>52.27</td><td>66.72</td><td>36.98</td><td>33.67</td><td>57.17</td><td>69.13</td><td>50.94</td><td>35.03</td><td>29.85</td><td>TRUE</td></tr>\n",
       "\t<tr><td> 69</td><td>67.71</td><td>80.42</td><td>69.13</td><td>53.59</td><td>91.56</td><td>82.05</td><td>86.87</td><td>61.20</td><td>94.69</td><td>74.48</td><td>49.48</td><td>57.87</td><td>53.29</td><td>70.34</td><td>38.38</td><td>52.35</td><td>TRUE</td></tr>\n",
       "\t<tr><td>168</td><td>32.39</td><td>28.96</td><td>33.29</td><td>34.91</td><td>36.38</td><td>21.97</td><td>21.13</td><td>36.37</td><td>38.48</td><td>27.79</td><td>18.21</td><td>48.68</td><td>56.58</td><td>29.20</td><td>30.39</td><td>23.47</td><td>TRUE</td></tr>\n",
       "\t<tr><td>141</td><td>48.89</td><td>63.31</td><td>48.66</td><td>34.69</td><td>74.23</td><td>63.23</td><td>60.94</td><td>54.82</td><td>60.98</td><td>29.20</td><td>45.09</td><td>59.38</td><td>22.02</td><td>55.11</td><td>38.55</td><td>23.10</td><td>TRUE</td></tr>\n",
       "\t<tr><td>164</td><td>37.97</td><td>56.86</td><td>35.38</td><td>21.67</td><td>60.12</td><td>54.29</td><td>70.65</td><td>42.38</td><td>42.40</td><td>30.58</td><td>34.27</td><td>34.28</td><td>20.36</td><td>36.70</td><td> 5.20</td><td>24.44</td><td>TRUE</td></tr>\n",
       "\t<tr><td>  1</td><td>90.53</td><td>91.18</td><td>90.79</td><td>89.61</td><td>93.87</td><td>98.79</td><td>91.31</td><td>80.76</td><td>98.69</td><td>96.25</td><td>88.44</td><td>79.78</td><td>95.63</td><td>88.77</td><td>90.78</td><td>83.26</td><td>TRUE</td></tr>\n",
       "\t<tr><td> NA</td><td>   NA</td><td>82.28</td><td>66.73</td><td>   NA</td><td>85.51</td><td>88.71</td><td>89.93</td><td>64.98</td><td>88.66</td><td>52.84</td><td>60.83</td><td>64.58</td><td>73.64</td><td>   NA</td><td>63.16</td><td>37.58</td><td>TRUE</td></tr>\n",
       "\t<tr><td> 64</td><td>70.85</td><td>79.02</td><td>71.16</td><td>62.36</td><td>85.50</td><td>83.44</td><td>83.89</td><td>63.25</td><td>74.73</td><td>82.22</td><td>63.24</td><td>64.46</td><td>85.49</td><td>63.10</td><td>41.77</td><td>59.06</td><td>TRUE</td></tr>\n",
       "\t<tr><td> 75</td><td>66.15</td><td>68.20</td><td>62.45</td><td>67.78</td><td>73.34</td><td>71.66</td><td>80.32</td><td>47.49</td><td>79.84</td><td>65.67</td><td>49.76</td><td>54.55</td><td>89.48</td><td>71.72</td><td>57.10</td><td>52.82</td><td>TRUE</td></tr>\n",
       "\t<tr><td>125</td><td>47.13</td><td>44.10</td><td>46.95</td><td>50.33</td><td>57.05</td><td>41.28</td><td>29.44</td><td>48.61</td><td>55.42</td><td>27.79</td><td>44.15</td><td>60.44</td><td>73.29</td><td>52.01</td><td>46.61</td><td>29.40</td><td>TRUE</td></tr>\n",
       "\t<tr><td> 86</td><td>65.13</td><td>75.15</td><td>61.19</td><td>59.06</td><td>77.30</td><td>83.87</td><td>80.99</td><td>58.45</td><td>69.87</td><td>65.24</td><td>49.51</td><td>60.15</td><td>77.00</td><td>60.99</td><td>53.60</td><td>44.64</td><td>TRUE</td></tr>\n",
       "\t<tr><td> 27</td><td>82.26</td><td>92.60</td><td>83.01</td><td>71.16</td><td>95.39</td><td>98.89</td><td>93.62</td><td>82.51</td><td>89.83</td><td>83.35</td><td>87.47</td><td>71.39</td><td>64.30</td><td>88.45</td><td>65.15</td><td>66.72</td><td>TRUE</td></tr>\n",
       "\t<tr><td> 81</td><td>63.98</td><td>76.05</td><td>61.00</td><td>54.90</td><td>84.32</td><td>79.66</td><td>83.72</td><td>56.48</td><td>68.71</td><td>62.92</td><td>61.11</td><td>51.25</td><td>76.94</td><td>62.43</td><td>41.95</td><td>38.29</td><td>TRUE</td></tr>\n",
       "\t<tr><td>144</td><td>48.89</td><td>52.80</td><td>54.34</td><td>39.54</td><td>74.38</td><td>56.89</td><td>44.24</td><td>35.66</td><td>68.75</td><td>47.66</td><td>44.92</td><td>56.01</td><td>46.80</td><td>50.00</td><td>28.36</td><td>32.99</td><td>TRUE</td></tr>\n",
       "\t<tr><td>102</td><td>57.05</td><td>78.17</td><td>50.37</td><td>42.62</td><td>91.17</td><td>80.63</td><td>80.73</td><td>60.17</td><td>73.60</td><td>37.21</td><td>57.78</td><td>32.89</td><td>35.15</td><td>63.44</td><td>24.89</td><td>46.99</td><td>TRUE</td></tr>\n",
       "\t<tr><td> 30</td><td>79.96</td><td>89.24</td><td>75.67</td><td>74.96</td><td>95.15</td><td>89.88</td><td>93.06</td><td>78.88</td><td>89.43</td><td>69.12</td><td>80.28</td><td>63.87</td><td>94.80</td><td>78.05</td><td>75.50</td><td>51.50</td><td>TRUE</td></tr>\n",
       "\t<tr><td>126</td><td>54.08</td><td>54.01</td><td>57.65</td><td>50.59</td><td>66.19</td><td>55.23</td><td>44.42</td><td>50.21</td><td>60.96</td><td>55.47</td><td>52.18</td><td>61.98</td><td>60.94</td><td>53.10</td><td>57.41</td><td>30.90</td><td>TRUE</td></tr>\n",
       "\t<tr><td> 25</td><td>83.02</td><td>87.77</td><td>81.22</td><td>80.07</td><td>96.34</td><td>90.46</td><td>89.62</td><td>74.65</td><td>91.26</td><td>81.27</td><td>79.68</td><td>72.67</td><td>96.13</td><td>72.63</td><td>79.74</td><td>71.78</td><td>TRUE</td></tr>\n",
       "\t<tr><td> 78</td><td>66.45</td><td>83.38</td><td>61.98</td><td>54.01</td><td>94.83</td><td>83.59</td><td>90.46</td><td>64.64</td><td>70.86</td><td>62.24</td><td>69.04</td><td>45.77</td><td>50.86</td><td>61.19</td><td>40.63</td><td>63.34</td><td>TRUE</td></tr>\n",
       "\t<tr><td>⋮</td><td>⋮</td><td>⋮</td><td>⋮</td><td>⋮</td><td>⋮</td><td>⋮</td><td>⋮</td><td>⋮</td><td>⋮</td><td>⋮</td><td>⋮</td><td>⋮</td><td>⋮</td><td>⋮</td><td>⋮</td><td>⋮</td><td>⋮</td></tr>\n",
       "\t<tr><td>NA</td><td>NA</td><td>NA</td><td>NA</td><td>NA</td><td>73.55</td><td>62.47</td><td>50.82</td><td>NA</td><td>83.37</td><td>28.18</td><td>NA</td><td>62.69</td><td>   NA</td><td>   NA</td><td>   NA</td><td>NA</td><td>FALSE</td></tr>\n",
       "\t<tr><td>NA</td><td>NA</td><td>NA</td><td>NA</td><td>NA</td><td>73.11</td><td>61.69</td><td>48.74</td><td>NA</td><td>83.36</td><td>25.10</td><td>NA</td><td>62.52</td><td>   NA</td><td>   NA</td><td>   NA</td><td>NA</td><td>FALSE</td></tr>\n",
       "\t<tr><td>NA</td><td>NA</td><td>NA</td><td>NA</td><td>NA</td><td>72.85</td><td>60.80</td><td>47.50</td><td>NA</td><td>83.34</td><td>16.97</td><td>NA</td><td>62.23</td><td>   NA</td><td>   NA</td><td>   NA</td><td>NA</td><td>FALSE</td></tr>\n",
       "\t<tr><td>NA</td><td>NA</td><td>NA</td><td>NA</td><td>NA</td><td>72.52</td><td>60.08</td><td>46.43</td><td>NA</td><td>83.32</td><td>15.54</td><td>NA</td><td>62.15</td><td>   NA</td><td>   NA</td><td>   NA</td><td>NA</td><td>FALSE</td></tr>\n",
       "\t<tr><td>NA</td><td>NA</td><td>NA</td><td>NA</td><td>NA</td><td>   NA</td><td>   NA</td><td>   NA</td><td>NA</td><td>   NA</td><td>   NA</td><td>NA</td><td>   NA</td><td>67.79</td><td>   NA</td><td>44.58</td><td>NA</td><td>FALSE</td></tr>\n",
       "\t<tr><td>NA</td><td>NA</td><td>NA</td><td>NA</td><td>NA</td><td>74.09</td><td>80.55</td><td>71.14</td><td>NA</td><td>91.30</td><td>16.52</td><td>NA</td><td>61.70</td><td>   NA</td><td>   NA</td><td>   NA</td><td>NA</td><td>FALSE</td></tr>\n",
       "\t<tr><td>NA</td><td>NA</td><td>NA</td><td>NA</td><td>NA</td><td>78.49</td><td>88.46</td><td>64.05</td><td>NA</td><td>75.96</td><td>28.57</td><td>NA</td><td>60.22</td><td>   NA</td><td>   NA</td><td>   NA</td><td>NA</td><td>FALSE</td></tr>\n",
       "\t<tr><td>NA</td><td>NA</td><td>NA</td><td>NA</td><td>NA</td><td>   NA</td><td>92.19</td><td>90.61</td><td>NA</td><td>   NA</td><td>82.13</td><td>NA</td><td>75.75</td><td>   NA</td><td>   NA</td><td>   NA</td><td>NA</td><td>FALSE</td></tr>\n",
       "\t<tr><td>NA</td><td>NA</td><td>NA</td><td>NA</td><td>NA</td><td>   NA</td><td>90.10</td><td>89.81</td><td>NA</td><td>   NA</td><td>61.43</td><td>NA</td><td>68.61</td><td>   NA</td><td>   NA</td><td>   NA</td><td>NA</td><td>FALSE</td></tr>\n",
       "\t<tr><td>NA</td><td>NA</td><td>NA</td><td>NA</td><td>NA</td><td>   NA</td><td>90.02</td><td>89.72</td><td>NA</td><td>   NA</td><td>61.62</td><td>NA</td><td>68.32</td><td>   NA</td><td>   NA</td><td>   NA</td><td>NA</td><td>FALSE</td></tr>\n",
       "\t<tr><td>NA</td><td>NA</td><td>NA</td><td>NA</td><td>NA</td><td>   NA</td><td>87.61</td><td>87.76</td><td>NA</td><td>   NA</td><td>43.98</td><td>NA</td><td>65.63</td><td>   NA</td><td>   NA</td><td>   NA</td><td>NA</td><td>FALSE</td></tr>\n",
       "\t<tr><td>NA</td><td>NA</td><td>NA</td><td>NA</td><td>NA</td><td>   NA</td><td>90.73</td><td>90.61</td><td>NA</td><td>94.13</td><td>   NA</td><td>NA</td><td>75.74</td><td>   NA</td><td>   NA</td><td>   NA</td><td>NA</td><td>FALSE</td></tr>\n",
       "\t<tr><td>NA</td><td>NA</td><td>NA</td><td>NA</td><td>NA</td><td>   NA</td><td>90.70</td><td>90.61</td><td>NA</td><td>93.95</td><td>   NA</td><td>NA</td><td>75.42</td><td>   NA</td><td>   NA</td><td>   NA</td><td>NA</td><td>FALSE</td></tr>\n",
       "\t<tr><td>NA</td><td>NA</td><td>NA</td><td>NA</td><td>NA</td><td>   NA</td><td>90.57</td><td>90.21</td><td>NA</td><td>92.35</td><td>   NA</td><td>NA</td><td>75.41</td><td>   NA</td><td>   NA</td><td>   NA</td><td>NA</td><td>FALSE</td></tr>\n",
       "\t<tr><td>NA</td><td>NA</td><td>NA</td><td>NA</td><td>NA</td><td>85.79</td><td>89.11</td><td>69.36</td><td>NA</td><td>87.97</td><td>42.53</td><td>NA</td><td>69.01</td><td>   NA</td><td>   NA</td><td>   NA</td><td>NA</td><td>FALSE</td></tr>\n",
       "\t<tr><td>NA</td><td>NA</td><td>NA</td><td>NA</td><td>NA</td><td>85.64</td><td>88.89</td><td>68.39</td><td>NA</td><td>87.81</td><td>28.49</td><td>NA</td><td>68.64</td><td>   NA</td><td>   NA</td><td>   NA</td><td>NA</td><td>FALSE</td></tr>\n",
       "\t<tr><td>NA</td><td>NA</td><td>NA</td><td>NA</td><td>NA</td><td>   NA</td><td>92.14</td><td>90.61</td><td>NA</td><td>   NA</td><td>68.51</td><td>NA</td><td>76.62</td><td>   NA</td><td>   NA</td><td>   NA</td><td>NA</td><td>FALSE</td></tr>\n",
       "\t<tr><td>NA</td><td>NA</td><td>NA</td><td>NA</td><td>NA</td><td>   NA</td><td>90.85</td><td>90.47</td><td>NA</td><td>84.92</td><td>79.89</td><td>NA</td><td>67.83</td><td>   NA</td><td>   NA</td><td>   NA</td><td>NA</td><td>FALSE</td></tr>\n",
       "\t<tr><td>NA</td><td>NA</td><td>NA</td><td>NA</td><td>NA</td><td>   NA</td><td>90.52</td><td>90.31</td><td>NA</td><td>82.14</td><td>58.91</td><td>NA</td><td>66.34</td><td>   NA</td><td>   NA</td><td>   NA</td><td>NA</td><td>FALSE</td></tr>\n",
       "\t<tr><td>NA</td><td>NA</td><td>NA</td><td>NA</td><td>NA</td><td>   NA</td><td>90.42</td><td>89.53</td><td>NA</td><td>81.96</td><td>56.73</td><td>NA</td><td>66.14</td><td>   NA</td><td>   NA</td><td>   NA</td><td>NA</td><td>FALSE</td></tr>\n",
       "\t<tr><td>NA</td><td>NA</td><td>NA</td><td>NA</td><td>NA</td><td>86.54</td><td>89.40</td><td>89.90</td><td>NA</td><td>77.26</td><td>66.43</td><td>NA</td><td>61.13</td><td>   NA</td><td>69.74</td><td>   NA</td><td>NA</td><td>FALSE</td></tr>\n",
       "\t<tr><td>NA</td><td>NA</td><td>NA</td><td>NA</td><td>NA</td><td>86.56</td><td>89.22</td><td>89.28</td><td>NA</td><td>78.49</td><td>58.70</td><td>NA</td><td>60.69</td><td>   NA</td><td>69.15</td><td>   NA</td><td>NA</td><td>FALSE</td></tr>\n",
       "\t<tr><td>NA</td><td>NA</td><td>NA</td><td>NA</td><td>NA</td><td>86.61</td><td>88.91</td><td>89.06</td><td>NA</td><td>78.31</td><td>58.70</td><td>NA</td><td>60.51</td><td>   NA</td><td>68.80</td><td>   NA</td><td>NA</td><td>FALSE</td></tr>\n",
       "\t<tr><td>NA</td><td>NA</td><td>NA</td><td>NA</td><td>NA</td><td>86.68</td><td>87.60</td><td>88.34</td><td>NA</td><td>77.73</td><td>58.02</td><td>NA</td><td>60.51</td><td>   NA</td><td>71.90</td><td>   NA</td><td>NA</td><td>FALSE</td></tr>\n",
       "\t<tr><td>NA</td><td>NA</td><td>NA</td><td>NA</td><td>NA</td><td>86.49</td><td>86.50</td><td>87.83</td><td>NA</td><td>77.22</td><td>52.76</td><td>NA</td><td>60.03</td><td>   NA</td><td>73.20</td><td>   NA</td><td>NA</td><td>FALSE</td></tr>\n",
       "\t<tr><td>NA</td><td>NA</td><td>NA</td><td>NA</td><td>NA</td><td>87.43</td><td>87.93</td><td>89.52</td><td>NA</td><td>85.29</td><td>70.65</td><td>NA</td><td>55.92</td><td>   NA</td><td>69.34</td><td>   NA</td><td>NA</td><td>FALSE</td></tr>\n",
       "\t<tr><td>NA</td><td>NA</td><td>NA</td><td>NA</td><td>NA</td><td>86.83</td><td>86.69</td><td>86.62</td><td>NA</td><td>84.86</td><td>49.35</td><td>NA</td><td>54.94</td><td>   NA</td><td>69.34</td><td>   NA</td><td>NA</td><td>FALSE</td></tr>\n",
       "\t<tr><td>NA</td><td>NA</td><td>NA</td><td>NA</td><td>NA</td><td>   NA</td><td>89.49</td><td>84.33</td><td>NA</td><td>   NA</td><td>52.45</td><td>NA</td><td>69.26</td><td>   NA</td><td>   NA</td><td>   NA</td><td>NA</td><td>FALSE</td></tr>\n",
       "\t<tr><td>NA</td><td>NA</td><td>NA</td><td>NA</td><td>NA</td><td>   NA</td><td>89.39</td><td>83.99</td><td>NA</td><td>   NA</td><td>52.76</td><td>NA</td><td>69.09</td><td>   NA</td><td>   NA</td><td>   NA</td><td>NA</td><td>FALSE</td></tr>\n",
       "\t<tr><td>NA</td><td>NA</td><td>NA</td><td>NA</td><td>NA</td><td>   NA</td><td>88.21</td><td>77.80</td><td>NA</td><td>   NA</td><td>16.84</td><td>NA</td><td>67.89</td><td>   NA</td><td>   NA</td><td>   NA</td><td>NA</td><td>FALSE</td></tr>\n",
       "</tbody>\n",
       "</table>\n"
      ],
      "text/latex": [
       "A tibble: 2362 × 18\n",
       "\\begin{tabular}{llllllllllllllllll}\n",
       " rank\\_score\\_spi & score\\_spi & score\\_bhn & score\\_fow & score\\_opp & score\\_nbmc & score\\_ws & score\\_sh & score\\_ps & score\\_abk & score\\_aic & score\\_hw & score\\_eq & score\\_pr & score\\_pfc & score\\_incl & score\\_aae & is\\_train\\\\\n",
       " <dbl> & <dbl> & <dbl> & <dbl> & <dbl> & <dbl> & <dbl> & <dbl> & <dbl> & <dbl> & <dbl> & <dbl> & <dbl> & <dbl> & <dbl> & <dbl> & <dbl> & <lgl>\\\\\n",
       "\\hline\n",
       "\t  NA &    NA &    NA &    NA &    NA & 75.01 & 83.09 & 73.63 &    NA & 84.43 & 28.35 &    NA & 62.42 &    NA &    NA &    NA &    NA & TRUE\\\\\n",
       "\t  80 & 67.59 & 79.16 & 65.40 & 58.22 & 86.67 & 86.44 & 87.69 & 55.85 & 74.20 & 74.19 & 53.55 & 59.66 & 81.60 & 60.29 & 40.24 & 50.73 & TRUE\\\\\n",
       "\t  97 & 60.10 & 74.55 & 51.25 & 54.49 & 72.88 & 83.35 & 77.17 & 64.81 & 47.04 & 37.15 & 64.58 & 56.22 & 71.05 & 64.77 & 56.12 & 26.03 & TRUE\\\\\n",
       "\t  46 & 73.96 & 81.88 & 70.69 & 69.32 & 86.33 & 88.07 & 89.59 & 63.55 & 89.07 & 68.14 & 61.41 & 64.13 & 90.28 & 67.65 & 68.48 & 50.87 & TRUE\\\\\n",
       "\t  84 & 62.86 & 79.45 & 61.22 & 47.92 & 83.91 & 77.71 & 85.11 & 71.08 & 65.15 & 51.25 & 62.00 & 66.47 & 61.56 & 56.51 & 48.70 & 24.90 & TRUE\\\\\n",
       "\t  99 & 61.43 & 77.84 & 57.63 & 48.83 & 87.72 & 78.15 & 86.61 & 58.87 & 55.79 & 78.17 & 45.35 & 51.22 & 60.41 & 58.62 & 35.57 & 40.72 & TRUE\\\\\n",
       "\t 150 & 45.57 & 47.15 & 45.21 & 44.34 & 54.66 & 47.82 & 36.59 & 49.53 & 50.36 & 33.84 & 36.99 & 59.66 & 69.20 & 40.61 & 41.81 & 25.72 & TRUE\\\\\n",
       "\t  74 & 66.56 & 80.41 & 62.82 & 56.46 & 92.38 & 78.47 & 85.21 & 65.57 & 81.61 & 61.95 & 61.64 & 46.07 & 70.02 & 62.49 & 36.89 & 56.45 & TRUE\\\\\n",
       "\t 105 & 59.45 & 66.16 & 54.62 & 57.56 & 72.21 & 66.32 & 75.91 & 50.21 & 68.71 & 56.61 & 41.87 & 51.28 & 74.13 & 59.83 & 55.73 & 40.54 & TRUE\\\\\n",
       "\t  36 & 79.93 & 88.01 & 77.07 & 74.71 & 91.17 & 94.88 & 91.84 & 74.16 & 91.56 & 80.30 & 67.85 & 68.58 & 93.79 & 78.63 & 58.23 & 68.19 & TRUE\\\\\n",
       "\t 143 & 44.25 & 54.20 & 46.20 & 32.34 & 66.70 & 55.90 & 46.54 & 47.67 & 58.51 & 30.33 & 39.95 & 56.00 & 19.40 & 50.77 & 36.76 & 22.42 & TRUE\\\\\n",
       "\t 154 & 46.58 & 44.86 & 48.63 & 46.24 & 55.91 & 30.89 & 40.36 & 52.27 & 66.72 & 36.98 & 33.67 & 57.17 & 69.13 & 50.94 & 35.03 & 29.85 & TRUE\\\\\n",
       "\t  69 & 67.71 & 80.42 & 69.13 & 53.59 & 91.56 & 82.05 & 86.87 & 61.20 & 94.69 & 74.48 & 49.48 & 57.87 & 53.29 & 70.34 & 38.38 & 52.35 & TRUE\\\\\n",
       "\t 168 & 32.39 & 28.96 & 33.29 & 34.91 & 36.38 & 21.97 & 21.13 & 36.37 & 38.48 & 27.79 & 18.21 & 48.68 & 56.58 & 29.20 & 30.39 & 23.47 & TRUE\\\\\n",
       "\t 141 & 48.89 & 63.31 & 48.66 & 34.69 & 74.23 & 63.23 & 60.94 & 54.82 & 60.98 & 29.20 & 45.09 & 59.38 & 22.02 & 55.11 & 38.55 & 23.10 & TRUE\\\\\n",
       "\t 164 & 37.97 & 56.86 & 35.38 & 21.67 & 60.12 & 54.29 & 70.65 & 42.38 & 42.40 & 30.58 & 34.27 & 34.28 & 20.36 & 36.70 &  5.20 & 24.44 & TRUE\\\\\n",
       "\t   1 & 90.53 & 91.18 & 90.79 & 89.61 & 93.87 & 98.79 & 91.31 & 80.76 & 98.69 & 96.25 & 88.44 & 79.78 & 95.63 & 88.77 & 90.78 & 83.26 & TRUE\\\\\n",
       "\t  NA &    NA & 82.28 & 66.73 &    NA & 85.51 & 88.71 & 89.93 & 64.98 & 88.66 & 52.84 & 60.83 & 64.58 & 73.64 &    NA & 63.16 & 37.58 & TRUE\\\\\n",
       "\t  64 & 70.85 & 79.02 & 71.16 & 62.36 & 85.50 & 83.44 & 83.89 & 63.25 & 74.73 & 82.22 & 63.24 & 64.46 & 85.49 & 63.10 & 41.77 & 59.06 & TRUE\\\\\n",
       "\t  75 & 66.15 & 68.20 & 62.45 & 67.78 & 73.34 & 71.66 & 80.32 & 47.49 & 79.84 & 65.67 & 49.76 & 54.55 & 89.48 & 71.72 & 57.10 & 52.82 & TRUE\\\\\n",
       "\t 125 & 47.13 & 44.10 & 46.95 & 50.33 & 57.05 & 41.28 & 29.44 & 48.61 & 55.42 & 27.79 & 44.15 & 60.44 & 73.29 & 52.01 & 46.61 & 29.40 & TRUE\\\\\n",
       "\t  86 & 65.13 & 75.15 & 61.19 & 59.06 & 77.30 & 83.87 & 80.99 & 58.45 & 69.87 & 65.24 & 49.51 & 60.15 & 77.00 & 60.99 & 53.60 & 44.64 & TRUE\\\\\n",
       "\t  27 & 82.26 & 92.60 & 83.01 & 71.16 & 95.39 & 98.89 & 93.62 & 82.51 & 89.83 & 83.35 & 87.47 & 71.39 & 64.30 & 88.45 & 65.15 & 66.72 & TRUE\\\\\n",
       "\t  81 & 63.98 & 76.05 & 61.00 & 54.90 & 84.32 & 79.66 & 83.72 & 56.48 & 68.71 & 62.92 & 61.11 & 51.25 & 76.94 & 62.43 & 41.95 & 38.29 & TRUE\\\\\n",
       "\t 144 & 48.89 & 52.80 & 54.34 & 39.54 & 74.38 & 56.89 & 44.24 & 35.66 & 68.75 & 47.66 & 44.92 & 56.01 & 46.80 & 50.00 & 28.36 & 32.99 & TRUE\\\\\n",
       "\t 102 & 57.05 & 78.17 & 50.37 & 42.62 & 91.17 & 80.63 & 80.73 & 60.17 & 73.60 & 37.21 & 57.78 & 32.89 & 35.15 & 63.44 & 24.89 & 46.99 & TRUE\\\\\n",
       "\t  30 & 79.96 & 89.24 & 75.67 & 74.96 & 95.15 & 89.88 & 93.06 & 78.88 & 89.43 & 69.12 & 80.28 & 63.87 & 94.80 & 78.05 & 75.50 & 51.50 & TRUE\\\\\n",
       "\t 126 & 54.08 & 54.01 & 57.65 & 50.59 & 66.19 & 55.23 & 44.42 & 50.21 & 60.96 & 55.47 & 52.18 & 61.98 & 60.94 & 53.10 & 57.41 & 30.90 & TRUE\\\\\n",
       "\t  25 & 83.02 & 87.77 & 81.22 & 80.07 & 96.34 & 90.46 & 89.62 & 74.65 & 91.26 & 81.27 & 79.68 & 72.67 & 96.13 & 72.63 & 79.74 & 71.78 & TRUE\\\\\n",
       "\t  78 & 66.45 & 83.38 & 61.98 & 54.01 & 94.83 & 83.59 & 90.46 & 64.64 & 70.86 & 62.24 & 69.04 & 45.77 & 50.86 & 61.19 & 40.63 & 63.34 & TRUE\\\\\n",
       "\t ⋮ & ⋮ & ⋮ & ⋮ & ⋮ & ⋮ & ⋮ & ⋮ & ⋮ & ⋮ & ⋮ & ⋮ & ⋮ & ⋮ & ⋮ & ⋮ & ⋮ & ⋮\\\\\n",
       "\t NA & NA & NA & NA & NA & 73.55 & 62.47 & 50.82 & NA & 83.37 & 28.18 & NA & 62.69 &    NA &    NA &    NA & NA & FALSE\\\\\n",
       "\t NA & NA & NA & NA & NA & 73.11 & 61.69 & 48.74 & NA & 83.36 & 25.10 & NA & 62.52 &    NA &    NA &    NA & NA & FALSE\\\\\n",
       "\t NA & NA & NA & NA & NA & 72.85 & 60.80 & 47.50 & NA & 83.34 & 16.97 & NA & 62.23 &    NA &    NA &    NA & NA & FALSE\\\\\n",
       "\t NA & NA & NA & NA & NA & 72.52 & 60.08 & 46.43 & NA & 83.32 & 15.54 & NA & 62.15 &    NA &    NA &    NA & NA & FALSE\\\\\n",
       "\t NA & NA & NA & NA & NA &    NA &    NA &    NA & NA &    NA &    NA & NA &    NA & 67.79 &    NA & 44.58 & NA & FALSE\\\\\n",
       "\t NA & NA & NA & NA & NA & 74.09 & 80.55 & 71.14 & NA & 91.30 & 16.52 & NA & 61.70 &    NA &    NA &    NA & NA & FALSE\\\\\n",
       "\t NA & NA & NA & NA & NA & 78.49 & 88.46 & 64.05 & NA & 75.96 & 28.57 & NA & 60.22 &    NA &    NA &    NA & NA & FALSE\\\\\n",
       "\t NA & NA & NA & NA & NA &    NA & 92.19 & 90.61 & NA &    NA & 82.13 & NA & 75.75 &    NA &    NA &    NA & NA & FALSE\\\\\n",
       "\t NA & NA & NA & NA & NA &    NA & 90.10 & 89.81 & NA &    NA & 61.43 & NA & 68.61 &    NA &    NA &    NA & NA & FALSE\\\\\n",
       "\t NA & NA & NA & NA & NA &    NA & 90.02 & 89.72 & NA &    NA & 61.62 & NA & 68.32 &    NA &    NA &    NA & NA & FALSE\\\\\n",
       "\t NA & NA & NA & NA & NA &    NA & 87.61 & 87.76 & NA &    NA & 43.98 & NA & 65.63 &    NA &    NA &    NA & NA & FALSE\\\\\n",
       "\t NA & NA & NA & NA & NA &    NA & 90.73 & 90.61 & NA & 94.13 &    NA & NA & 75.74 &    NA &    NA &    NA & NA & FALSE\\\\\n",
       "\t NA & NA & NA & NA & NA &    NA & 90.70 & 90.61 & NA & 93.95 &    NA & NA & 75.42 &    NA &    NA &    NA & NA & FALSE\\\\\n",
       "\t NA & NA & NA & NA & NA &    NA & 90.57 & 90.21 & NA & 92.35 &    NA & NA & 75.41 &    NA &    NA &    NA & NA & FALSE\\\\\n",
       "\t NA & NA & NA & NA & NA & 85.79 & 89.11 & 69.36 & NA & 87.97 & 42.53 & NA & 69.01 &    NA &    NA &    NA & NA & FALSE\\\\\n",
       "\t NA & NA & NA & NA & NA & 85.64 & 88.89 & 68.39 & NA & 87.81 & 28.49 & NA & 68.64 &    NA &    NA &    NA & NA & FALSE\\\\\n",
       "\t NA & NA & NA & NA & NA &    NA & 92.14 & 90.61 & NA &    NA & 68.51 & NA & 76.62 &    NA &    NA &    NA & NA & FALSE\\\\\n",
       "\t NA & NA & NA & NA & NA &    NA & 90.85 & 90.47 & NA & 84.92 & 79.89 & NA & 67.83 &    NA &    NA &    NA & NA & FALSE\\\\\n",
       "\t NA & NA & NA & NA & NA &    NA & 90.52 & 90.31 & NA & 82.14 & 58.91 & NA & 66.34 &    NA &    NA &    NA & NA & FALSE\\\\\n",
       "\t NA & NA & NA & NA & NA &    NA & 90.42 & 89.53 & NA & 81.96 & 56.73 & NA & 66.14 &    NA &    NA &    NA & NA & FALSE\\\\\n",
       "\t NA & NA & NA & NA & NA & 86.54 & 89.40 & 89.90 & NA & 77.26 & 66.43 & NA & 61.13 &    NA & 69.74 &    NA & NA & FALSE\\\\\n",
       "\t NA & NA & NA & NA & NA & 86.56 & 89.22 & 89.28 & NA & 78.49 & 58.70 & NA & 60.69 &    NA & 69.15 &    NA & NA & FALSE\\\\\n",
       "\t NA & NA & NA & NA & NA & 86.61 & 88.91 & 89.06 & NA & 78.31 & 58.70 & NA & 60.51 &    NA & 68.80 &    NA & NA & FALSE\\\\\n",
       "\t NA & NA & NA & NA & NA & 86.68 & 87.60 & 88.34 & NA & 77.73 & 58.02 & NA & 60.51 &    NA & 71.90 &    NA & NA & FALSE\\\\\n",
       "\t NA & NA & NA & NA & NA & 86.49 & 86.50 & 87.83 & NA & 77.22 & 52.76 & NA & 60.03 &    NA & 73.20 &    NA & NA & FALSE\\\\\n",
       "\t NA & NA & NA & NA & NA & 87.43 & 87.93 & 89.52 & NA & 85.29 & 70.65 & NA & 55.92 &    NA & 69.34 &    NA & NA & FALSE\\\\\n",
       "\t NA & NA & NA & NA & NA & 86.83 & 86.69 & 86.62 & NA & 84.86 & 49.35 & NA & 54.94 &    NA & 69.34 &    NA & NA & FALSE\\\\\n",
       "\t NA & NA & NA & NA & NA &    NA & 89.49 & 84.33 & NA &    NA & 52.45 & NA & 69.26 &    NA &    NA &    NA & NA & FALSE\\\\\n",
       "\t NA & NA & NA & NA & NA &    NA & 89.39 & 83.99 & NA &    NA & 52.76 & NA & 69.09 &    NA &    NA &    NA & NA & FALSE\\\\\n",
       "\t NA & NA & NA & NA & NA &    NA & 88.21 & 77.80 & NA &    NA & 16.84 & NA & 67.89 &    NA &    NA &    NA & NA & FALSE\\\\\n",
       "\\end{tabular}\n"
      ],
      "text/markdown": [
       "\n",
       "A tibble: 2362 × 18\n",
       "\n",
       "| rank_score_spi &lt;dbl&gt; | score_spi &lt;dbl&gt; | score_bhn &lt;dbl&gt; | score_fow &lt;dbl&gt; | score_opp &lt;dbl&gt; | score_nbmc &lt;dbl&gt; | score_ws &lt;dbl&gt; | score_sh &lt;dbl&gt; | score_ps &lt;dbl&gt; | score_abk &lt;dbl&gt; | score_aic &lt;dbl&gt; | score_hw &lt;dbl&gt; | score_eq &lt;dbl&gt; | score_pr &lt;dbl&gt; | score_pfc &lt;dbl&gt; | score_incl &lt;dbl&gt; | score_aae &lt;dbl&gt; | is_train &lt;lgl&gt; |\n",
       "|---|---|---|---|---|---|---|---|---|---|---|---|---|---|---|---|---|---|\n",
       "|  NA |    NA |    NA |    NA |    NA | 75.01 | 83.09 | 73.63 |    NA | 84.43 | 28.35 |    NA | 62.42 |    NA |    NA |    NA |    NA | TRUE |\n",
       "|  80 | 67.59 | 79.16 | 65.40 | 58.22 | 86.67 | 86.44 | 87.69 | 55.85 | 74.20 | 74.19 | 53.55 | 59.66 | 81.60 | 60.29 | 40.24 | 50.73 | TRUE |\n",
       "|  97 | 60.10 | 74.55 | 51.25 | 54.49 | 72.88 | 83.35 | 77.17 | 64.81 | 47.04 | 37.15 | 64.58 | 56.22 | 71.05 | 64.77 | 56.12 | 26.03 | TRUE |\n",
       "|  46 | 73.96 | 81.88 | 70.69 | 69.32 | 86.33 | 88.07 | 89.59 | 63.55 | 89.07 | 68.14 | 61.41 | 64.13 | 90.28 | 67.65 | 68.48 | 50.87 | TRUE |\n",
       "|  84 | 62.86 | 79.45 | 61.22 | 47.92 | 83.91 | 77.71 | 85.11 | 71.08 | 65.15 | 51.25 | 62.00 | 66.47 | 61.56 | 56.51 | 48.70 | 24.90 | TRUE |\n",
       "|  99 | 61.43 | 77.84 | 57.63 | 48.83 | 87.72 | 78.15 | 86.61 | 58.87 | 55.79 | 78.17 | 45.35 | 51.22 | 60.41 | 58.62 | 35.57 | 40.72 | TRUE |\n",
       "| 150 | 45.57 | 47.15 | 45.21 | 44.34 | 54.66 | 47.82 | 36.59 | 49.53 | 50.36 | 33.84 | 36.99 | 59.66 | 69.20 | 40.61 | 41.81 | 25.72 | TRUE |\n",
       "|  74 | 66.56 | 80.41 | 62.82 | 56.46 | 92.38 | 78.47 | 85.21 | 65.57 | 81.61 | 61.95 | 61.64 | 46.07 | 70.02 | 62.49 | 36.89 | 56.45 | TRUE |\n",
       "| 105 | 59.45 | 66.16 | 54.62 | 57.56 | 72.21 | 66.32 | 75.91 | 50.21 | 68.71 | 56.61 | 41.87 | 51.28 | 74.13 | 59.83 | 55.73 | 40.54 | TRUE |\n",
       "|  36 | 79.93 | 88.01 | 77.07 | 74.71 | 91.17 | 94.88 | 91.84 | 74.16 | 91.56 | 80.30 | 67.85 | 68.58 | 93.79 | 78.63 | 58.23 | 68.19 | TRUE |\n",
       "| 143 | 44.25 | 54.20 | 46.20 | 32.34 | 66.70 | 55.90 | 46.54 | 47.67 | 58.51 | 30.33 | 39.95 | 56.00 | 19.40 | 50.77 | 36.76 | 22.42 | TRUE |\n",
       "| 154 | 46.58 | 44.86 | 48.63 | 46.24 | 55.91 | 30.89 | 40.36 | 52.27 | 66.72 | 36.98 | 33.67 | 57.17 | 69.13 | 50.94 | 35.03 | 29.85 | TRUE |\n",
       "|  69 | 67.71 | 80.42 | 69.13 | 53.59 | 91.56 | 82.05 | 86.87 | 61.20 | 94.69 | 74.48 | 49.48 | 57.87 | 53.29 | 70.34 | 38.38 | 52.35 | TRUE |\n",
       "| 168 | 32.39 | 28.96 | 33.29 | 34.91 | 36.38 | 21.97 | 21.13 | 36.37 | 38.48 | 27.79 | 18.21 | 48.68 | 56.58 | 29.20 | 30.39 | 23.47 | TRUE |\n",
       "| 141 | 48.89 | 63.31 | 48.66 | 34.69 | 74.23 | 63.23 | 60.94 | 54.82 | 60.98 | 29.20 | 45.09 | 59.38 | 22.02 | 55.11 | 38.55 | 23.10 | TRUE |\n",
       "| 164 | 37.97 | 56.86 | 35.38 | 21.67 | 60.12 | 54.29 | 70.65 | 42.38 | 42.40 | 30.58 | 34.27 | 34.28 | 20.36 | 36.70 |  5.20 | 24.44 | TRUE |\n",
       "|   1 | 90.53 | 91.18 | 90.79 | 89.61 | 93.87 | 98.79 | 91.31 | 80.76 | 98.69 | 96.25 | 88.44 | 79.78 | 95.63 | 88.77 | 90.78 | 83.26 | TRUE |\n",
       "|  NA |    NA | 82.28 | 66.73 |    NA | 85.51 | 88.71 | 89.93 | 64.98 | 88.66 | 52.84 | 60.83 | 64.58 | 73.64 |    NA | 63.16 | 37.58 | TRUE |\n",
       "|  64 | 70.85 | 79.02 | 71.16 | 62.36 | 85.50 | 83.44 | 83.89 | 63.25 | 74.73 | 82.22 | 63.24 | 64.46 | 85.49 | 63.10 | 41.77 | 59.06 | TRUE |\n",
       "|  75 | 66.15 | 68.20 | 62.45 | 67.78 | 73.34 | 71.66 | 80.32 | 47.49 | 79.84 | 65.67 | 49.76 | 54.55 | 89.48 | 71.72 | 57.10 | 52.82 | TRUE |\n",
       "| 125 | 47.13 | 44.10 | 46.95 | 50.33 | 57.05 | 41.28 | 29.44 | 48.61 | 55.42 | 27.79 | 44.15 | 60.44 | 73.29 | 52.01 | 46.61 | 29.40 | TRUE |\n",
       "|  86 | 65.13 | 75.15 | 61.19 | 59.06 | 77.30 | 83.87 | 80.99 | 58.45 | 69.87 | 65.24 | 49.51 | 60.15 | 77.00 | 60.99 | 53.60 | 44.64 | TRUE |\n",
       "|  27 | 82.26 | 92.60 | 83.01 | 71.16 | 95.39 | 98.89 | 93.62 | 82.51 | 89.83 | 83.35 | 87.47 | 71.39 | 64.30 | 88.45 | 65.15 | 66.72 | TRUE |\n",
       "|  81 | 63.98 | 76.05 | 61.00 | 54.90 | 84.32 | 79.66 | 83.72 | 56.48 | 68.71 | 62.92 | 61.11 | 51.25 | 76.94 | 62.43 | 41.95 | 38.29 | TRUE |\n",
       "| 144 | 48.89 | 52.80 | 54.34 | 39.54 | 74.38 | 56.89 | 44.24 | 35.66 | 68.75 | 47.66 | 44.92 | 56.01 | 46.80 | 50.00 | 28.36 | 32.99 | TRUE |\n",
       "| 102 | 57.05 | 78.17 | 50.37 | 42.62 | 91.17 | 80.63 | 80.73 | 60.17 | 73.60 | 37.21 | 57.78 | 32.89 | 35.15 | 63.44 | 24.89 | 46.99 | TRUE |\n",
       "|  30 | 79.96 | 89.24 | 75.67 | 74.96 | 95.15 | 89.88 | 93.06 | 78.88 | 89.43 | 69.12 | 80.28 | 63.87 | 94.80 | 78.05 | 75.50 | 51.50 | TRUE |\n",
       "| 126 | 54.08 | 54.01 | 57.65 | 50.59 | 66.19 | 55.23 | 44.42 | 50.21 | 60.96 | 55.47 | 52.18 | 61.98 | 60.94 | 53.10 | 57.41 | 30.90 | TRUE |\n",
       "|  25 | 83.02 | 87.77 | 81.22 | 80.07 | 96.34 | 90.46 | 89.62 | 74.65 | 91.26 | 81.27 | 79.68 | 72.67 | 96.13 | 72.63 | 79.74 | 71.78 | TRUE |\n",
       "|  78 | 66.45 | 83.38 | 61.98 | 54.01 | 94.83 | 83.59 | 90.46 | 64.64 | 70.86 | 62.24 | 69.04 | 45.77 | 50.86 | 61.19 | 40.63 | 63.34 | TRUE |\n",
       "| ⋮ | ⋮ | ⋮ | ⋮ | ⋮ | ⋮ | ⋮ | ⋮ | ⋮ | ⋮ | ⋮ | ⋮ | ⋮ | ⋮ | ⋮ | ⋮ | ⋮ | ⋮ |\n",
       "| NA | NA | NA | NA | NA | 73.55 | 62.47 | 50.82 | NA | 83.37 | 28.18 | NA | 62.69 |    NA |    NA |    NA | NA | FALSE |\n",
       "| NA | NA | NA | NA | NA | 73.11 | 61.69 | 48.74 | NA | 83.36 | 25.10 | NA | 62.52 |    NA |    NA |    NA | NA | FALSE |\n",
       "| NA | NA | NA | NA | NA | 72.85 | 60.80 | 47.50 | NA | 83.34 | 16.97 | NA | 62.23 |    NA |    NA |    NA | NA | FALSE |\n",
       "| NA | NA | NA | NA | NA | 72.52 | 60.08 | 46.43 | NA | 83.32 | 15.54 | NA | 62.15 |    NA |    NA |    NA | NA | FALSE |\n",
       "| NA | NA | NA | NA | NA |    NA |    NA |    NA | NA |    NA |    NA | NA |    NA | 67.79 |    NA | 44.58 | NA | FALSE |\n",
       "| NA | NA | NA | NA | NA | 74.09 | 80.55 | 71.14 | NA | 91.30 | 16.52 | NA | 61.70 |    NA |    NA |    NA | NA | FALSE |\n",
       "| NA | NA | NA | NA | NA | 78.49 | 88.46 | 64.05 | NA | 75.96 | 28.57 | NA | 60.22 |    NA |    NA |    NA | NA | FALSE |\n",
       "| NA | NA | NA | NA | NA |    NA | 92.19 | 90.61 | NA |    NA | 82.13 | NA | 75.75 |    NA |    NA |    NA | NA | FALSE |\n",
       "| NA | NA | NA | NA | NA |    NA | 90.10 | 89.81 | NA |    NA | 61.43 | NA | 68.61 |    NA |    NA |    NA | NA | FALSE |\n",
       "| NA | NA | NA | NA | NA |    NA | 90.02 | 89.72 | NA |    NA | 61.62 | NA | 68.32 |    NA |    NA |    NA | NA | FALSE |\n",
       "| NA | NA | NA | NA | NA |    NA | 87.61 | 87.76 | NA |    NA | 43.98 | NA | 65.63 |    NA |    NA |    NA | NA | FALSE |\n",
       "| NA | NA | NA | NA | NA |    NA | 90.73 | 90.61 | NA | 94.13 |    NA | NA | 75.74 |    NA |    NA |    NA | NA | FALSE |\n",
       "| NA | NA | NA | NA | NA |    NA | 90.70 | 90.61 | NA | 93.95 |    NA | NA | 75.42 |    NA |    NA |    NA | NA | FALSE |\n",
       "| NA | NA | NA | NA | NA |    NA | 90.57 | 90.21 | NA | 92.35 |    NA | NA | 75.41 |    NA |    NA |    NA | NA | FALSE |\n",
       "| NA | NA | NA | NA | NA | 85.79 | 89.11 | 69.36 | NA | 87.97 | 42.53 | NA | 69.01 |    NA |    NA |    NA | NA | FALSE |\n",
       "| NA | NA | NA | NA | NA | 85.64 | 88.89 | 68.39 | NA | 87.81 | 28.49 | NA | 68.64 |    NA |    NA |    NA | NA | FALSE |\n",
       "| NA | NA | NA | NA | NA |    NA | 92.14 | 90.61 | NA |    NA | 68.51 | NA | 76.62 |    NA |    NA |    NA | NA | FALSE |\n",
       "| NA | NA | NA | NA | NA |    NA | 90.85 | 90.47 | NA | 84.92 | 79.89 | NA | 67.83 |    NA |    NA |    NA | NA | FALSE |\n",
       "| NA | NA | NA | NA | NA |    NA | 90.52 | 90.31 | NA | 82.14 | 58.91 | NA | 66.34 |    NA |    NA |    NA | NA | FALSE |\n",
       "| NA | NA | NA | NA | NA |    NA | 90.42 | 89.53 | NA | 81.96 | 56.73 | NA | 66.14 |    NA |    NA |    NA | NA | FALSE |\n",
       "| NA | NA | NA | NA | NA | 86.54 | 89.40 | 89.90 | NA | 77.26 | 66.43 | NA | 61.13 |    NA | 69.74 |    NA | NA | FALSE |\n",
       "| NA | NA | NA | NA | NA | 86.56 | 89.22 | 89.28 | NA | 78.49 | 58.70 | NA | 60.69 |    NA | 69.15 |    NA | NA | FALSE |\n",
       "| NA | NA | NA | NA | NA | 86.61 | 88.91 | 89.06 | NA | 78.31 | 58.70 | NA | 60.51 |    NA | 68.80 |    NA | NA | FALSE |\n",
       "| NA | NA | NA | NA | NA | 86.68 | 87.60 | 88.34 | NA | 77.73 | 58.02 | NA | 60.51 |    NA | 71.90 |    NA | NA | FALSE |\n",
       "| NA | NA | NA | NA | NA | 86.49 | 86.50 | 87.83 | NA | 77.22 | 52.76 | NA | 60.03 |    NA | 73.20 |    NA | NA | FALSE |\n",
       "| NA | NA | NA | NA | NA | 87.43 | 87.93 | 89.52 | NA | 85.29 | 70.65 | NA | 55.92 |    NA | 69.34 |    NA | NA | FALSE |\n",
       "| NA | NA | NA | NA | NA | 86.83 | 86.69 | 86.62 | NA | 84.86 | 49.35 | NA | 54.94 |    NA | 69.34 |    NA | NA | FALSE |\n",
       "| NA | NA | NA | NA | NA |    NA | 89.49 | 84.33 | NA |    NA | 52.45 | NA | 69.26 |    NA |    NA |    NA | NA | FALSE |\n",
       "| NA | NA | NA | NA | NA |    NA | 89.39 | 83.99 | NA |    NA | 52.76 | NA | 69.09 |    NA |    NA |    NA | NA | FALSE |\n",
       "| NA | NA | NA | NA | NA |    NA | 88.21 | 77.80 | NA |    NA | 16.84 | NA | 67.89 |    NA |    NA |    NA | NA | FALSE |\n",
       "\n"
      ],
      "text/plain": [
       "     rank_score_spi score_spi score_bhn score_fow score_opp score_nbmc score_ws\n",
       "1     NA               NA        NA        NA        NA     75.01      83.09   \n",
       "2     80            67.59     79.16     65.40     58.22     86.67      86.44   \n",
       "3     97            60.10     74.55     51.25     54.49     72.88      83.35   \n",
       "4     46            73.96     81.88     70.69     69.32     86.33      88.07   \n",
       "5     84            62.86     79.45     61.22     47.92     83.91      77.71   \n",
       "6     99            61.43     77.84     57.63     48.83     87.72      78.15   \n",
       "7    150            45.57     47.15     45.21     44.34     54.66      47.82   \n",
       "8     74            66.56     80.41     62.82     56.46     92.38      78.47   \n",
       "9    105            59.45     66.16     54.62     57.56     72.21      66.32   \n",
       "10    36            79.93     88.01     77.07     74.71     91.17      94.88   \n",
       "11   143            44.25     54.20     46.20     32.34     66.70      55.90   \n",
       "12   154            46.58     44.86     48.63     46.24     55.91      30.89   \n",
       "13    69            67.71     80.42     69.13     53.59     91.56      82.05   \n",
       "14   168            32.39     28.96     33.29     34.91     36.38      21.97   \n",
       "15   141            48.89     63.31     48.66     34.69     74.23      63.23   \n",
       "16   164            37.97     56.86     35.38     21.67     60.12      54.29   \n",
       "17     1            90.53     91.18     90.79     89.61     93.87      98.79   \n",
       "18    NA               NA     82.28     66.73        NA     85.51      88.71   \n",
       "19    64            70.85     79.02     71.16     62.36     85.50      83.44   \n",
       "20    75            66.15     68.20     62.45     67.78     73.34      71.66   \n",
       "21   125            47.13     44.10     46.95     50.33     57.05      41.28   \n",
       "22    86            65.13     75.15     61.19     59.06     77.30      83.87   \n",
       "23    27            82.26     92.60     83.01     71.16     95.39      98.89   \n",
       "24    81            63.98     76.05     61.00     54.90     84.32      79.66   \n",
       "25   144            48.89     52.80     54.34     39.54     74.38      56.89   \n",
       "26   102            57.05     78.17     50.37     42.62     91.17      80.63   \n",
       "27    30            79.96     89.24     75.67     74.96     95.15      89.88   \n",
       "28   126            54.08     54.01     57.65     50.59     66.19      55.23   \n",
       "29    25            83.02     87.77     81.22     80.07     96.34      90.46   \n",
       "30    78            66.45     83.38     61.98     54.01     94.83      83.59   \n",
       "⋮    ⋮              ⋮         ⋮         ⋮         ⋮         ⋮          ⋮       \n",
       "2333 NA             NA        NA        NA        NA        73.55      62.47   \n",
       "2334 NA             NA        NA        NA        NA        73.11      61.69   \n",
       "2335 NA             NA        NA        NA        NA        72.85      60.80   \n",
       "2336 NA             NA        NA        NA        NA        72.52      60.08   \n",
       "2337 NA             NA        NA        NA        NA           NA         NA   \n",
       "2338 NA             NA        NA        NA        NA        74.09      80.55   \n",
       "2339 NA             NA        NA        NA        NA        78.49      88.46   \n",
       "2340 NA             NA        NA        NA        NA           NA      92.19   \n",
       "2341 NA             NA        NA        NA        NA           NA      90.10   \n",
       "2342 NA             NA        NA        NA        NA           NA      90.02   \n",
       "2343 NA             NA        NA        NA        NA           NA      87.61   \n",
       "2344 NA             NA        NA        NA        NA           NA      90.73   \n",
       "2345 NA             NA        NA        NA        NA           NA      90.70   \n",
       "2346 NA             NA        NA        NA        NA           NA      90.57   \n",
       "2347 NA             NA        NA        NA        NA        85.79      89.11   \n",
       "2348 NA             NA        NA        NA        NA        85.64      88.89   \n",
       "2349 NA             NA        NA        NA        NA           NA      92.14   \n",
       "2350 NA             NA        NA        NA        NA           NA      90.85   \n",
       "2351 NA             NA        NA        NA        NA           NA      90.52   \n",
       "2352 NA             NA        NA        NA        NA           NA      90.42   \n",
       "2353 NA             NA        NA        NA        NA        86.54      89.40   \n",
       "2354 NA             NA        NA        NA        NA        86.56      89.22   \n",
       "2355 NA             NA        NA        NA        NA        86.61      88.91   \n",
       "2356 NA             NA        NA        NA        NA        86.68      87.60   \n",
       "2357 NA             NA        NA        NA        NA        86.49      86.50   \n",
       "2358 NA             NA        NA        NA        NA        87.43      87.93   \n",
       "2359 NA             NA        NA        NA        NA        86.83      86.69   \n",
       "2360 NA             NA        NA        NA        NA           NA      89.49   \n",
       "2361 NA             NA        NA        NA        NA           NA      89.39   \n",
       "2362 NA             NA        NA        NA        NA           NA      88.21   \n",
       "     score_sh score_ps score_abk score_aic score_hw score_eq score_pr score_pfc\n",
       "1    73.63       NA    84.43     28.35        NA    62.42       NA       NA    \n",
       "2    87.69    55.85    74.20     74.19     53.55    59.66    81.60    60.29    \n",
       "3    77.17    64.81    47.04     37.15     64.58    56.22    71.05    64.77    \n",
       "4    89.59    63.55    89.07     68.14     61.41    64.13    90.28    67.65    \n",
       "5    85.11    71.08    65.15     51.25     62.00    66.47    61.56    56.51    \n",
       "6    86.61    58.87    55.79     78.17     45.35    51.22    60.41    58.62    \n",
       "7    36.59    49.53    50.36     33.84     36.99    59.66    69.20    40.61    \n",
       "8    85.21    65.57    81.61     61.95     61.64    46.07    70.02    62.49    \n",
       "9    75.91    50.21    68.71     56.61     41.87    51.28    74.13    59.83    \n",
       "10   91.84    74.16    91.56     80.30     67.85    68.58    93.79    78.63    \n",
       "11   46.54    47.67    58.51     30.33     39.95    56.00    19.40    50.77    \n",
       "12   40.36    52.27    66.72     36.98     33.67    57.17    69.13    50.94    \n",
       "13   86.87    61.20    94.69     74.48     49.48    57.87    53.29    70.34    \n",
       "14   21.13    36.37    38.48     27.79     18.21    48.68    56.58    29.20    \n",
       "15   60.94    54.82    60.98     29.20     45.09    59.38    22.02    55.11    \n",
       "16   70.65    42.38    42.40     30.58     34.27    34.28    20.36    36.70    \n",
       "17   91.31    80.76    98.69     96.25     88.44    79.78    95.63    88.77    \n",
       "18   89.93    64.98    88.66     52.84     60.83    64.58    73.64       NA    \n",
       "19   83.89    63.25    74.73     82.22     63.24    64.46    85.49    63.10    \n",
       "20   80.32    47.49    79.84     65.67     49.76    54.55    89.48    71.72    \n",
       "21   29.44    48.61    55.42     27.79     44.15    60.44    73.29    52.01    \n",
       "22   80.99    58.45    69.87     65.24     49.51    60.15    77.00    60.99    \n",
       "23   93.62    82.51    89.83     83.35     87.47    71.39    64.30    88.45    \n",
       "24   83.72    56.48    68.71     62.92     61.11    51.25    76.94    62.43    \n",
       "25   44.24    35.66    68.75     47.66     44.92    56.01    46.80    50.00    \n",
       "26   80.73    60.17    73.60     37.21     57.78    32.89    35.15    63.44    \n",
       "27   93.06    78.88    89.43     69.12     80.28    63.87    94.80    78.05    \n",
       "28   44.42    50.21    60.96     55.47     52.18    61.98    60.94    53.10    \n",
       "29   89.62    74.65    91.26     81.27     79.68    72.67    96.13    72.63    \n",
       "30   90.46    64.64    70.86     62.24     69.04    45.77    50.86    61.19    \n",
       "⋮    ⋮        ⋮        ⋮         ⋮         ⋮        ⋮        ⋮        ⋮        \n",
       "2333 50.82    NA       83.37     28.18     NA       62.69       NA       NA    \n",
       "2334 48.74    NA       83.36     25.10     NA       62.52       NA       NA    \n",
       "2335 47.50    NA       83.34     16.97     NA       62.23       NA       NA    \n",
       "2336 46.43    NA       83.32     15.54     NA       62.15       NA       NA    \n",
       "2337    NA    NA          NA        NA     NA          NA    67.79       NA    \n",
       "2338 71.14    NA       91.30     16.52     NA       61.70       NA       NA    \n",
       "2339 64.05    NA       75.96     28.57     NA       60.22       NA       NA    \n",
       "2340 90.61    NA          NA     82.13     NA       75.75       NA       NA    \n",
       "2341 89.81    NA          NA     61.43     NA       68.61       NA       NA    \n",
       "2342 89.72    NA          NA     61.62     NA       68.32       NA       NA    \n",
       "2343 87.76    NA          NA     43.98     NA       65.63       NA       NA    \n",
       "2344 90.61    NA       94.13        NA     NA       75.74       NA       NA    \n",
       "2345 90.61    NA       93.95        NA     NA       75.42       NA       NA    \n",
       "2346 90.21    NA       92.35        NA     NA       75.41       NA       NA    \n",
       "2347 69.36    NA       87.97     42.53     NA       69.01       NA       NA    \n",
       "2348 68.39    NA       87.81     28.49     NA       68.64       NA       NA    \n",
       "2349 90.61    NA          NA     68.51     NA       76.62       NA       NA    \n",
       "2350 90.47    NA       84.92     79.89     NA       67.83       NA       NA    \n",
       "2351 90.31    NA       82.14     58.91     NA       66.34       NA       NA    \n",
       "2352 89.53    NA       81.96     56.73     NA       66.14       NA       NA    \n",
       "2353 89.90    NA       77.26     66.43     NA       61.13       NA    69.74    \n",
       "2354 89.28    NA       78.49     58.70     NA       60.69       NA    69.15    \n",
       "2355 89.06    NA       78.31     58.70     NA       60.51       NA    68.80    \n",
       "2356 88.34    NA       77.73     58.02     NA       60.51       NA    71.90    \n",
       "2357 87.83    NA       77.22     52.76     NA       60.03       NA    73.20    \n",
       "2358 89.52    NA       85.29     70.65     NA       55.92       NA    69.34    \n",
       "2359 86.62    NA       84.86     49.35     NA       54.94       NA    69.34    \n",
       "2360 84.33    NA          NA     52.45     NA       69.26       NA       NA    \n",
       "2361 83.99    NA          NA     52.76     NA       69.09       NA       NA    \n",
       "2362 77.80    NA          NA     16.84     NA       67.89       NA       NA    \n",
       "     score_incl score_aae is_train\n",
       "1       NA         NA     TRUE    \n",
       "2    40.24      50.73     TRUE    \n",
       "3    56.12      26.03     TRUE    \n",
       "4    68.48      50.87     TRUE    \n",
       "5    48.70      24.90     TRUE    \n",
       "6    35.57      40.72     TRUE    \n",
       "7    41.81      25.72     TRUE    \n",
       "8    36.89      56.45     TRUE    \n",
       "9    55.73      40.54     TRUE    \n",
       "10   58.23      68.19     TRUE    \n",
       "11   36.76      22.42     TRUE    \n",
       "12   35.03      29.85     TRUE    \n",
       "13   38.38      52.35     TRUE    \n",
       "14   30.39      23.47     TRUE    \n",
       "15   38.55      23.10     TRUE    \n",
       "16    5.20      24.44     TRUE    \n",
       "17   90.78      83.26     TRUE    \n",
       "18   63.16      37.58     TRUE    \n",
       "19   41.77      59.06     TRUE    \n",
       "20   57.10      52.82     TRUE    \n",
       "21   46.61      29.40     TRUE    \n",
       "22   53.60      44.64     TRUE    \n",
       "23   65.15      66.72     TRUE    \n",
       "24   41.95      38.29     TRUE    \n",
       "25   28.36      32.99     TRUE    \n",
       "26   24.89      46.99     TRUE    \n",
       "27   75.50      51.50     TRUE    \n",
       "28   57.41      30.90     TRUE    \n",
       "29   79.74      71.78     TRUE    \n",
       "30   40.63      63.34     TRUE    \n",
       "⋮    ⋮          ⋮         ⋮       \n",
       "2333    NA      NA        FALSE   \n",
       "2334    NA      NA        FALSE   \n",
       "2335    NA      NA        FALSE   \n",
       "2336    NA      NA        FALSE   \n",
       "2337 44.58      NA        FALSE   \n",
       "2338    NA      NA        FALSE   \n",
       "2339    NA      NA        FALSE   \n",
       "2340    NA      NA        FALSE   \n",
       "2341    NA      NA        FALSE   \n",
       "2342    NA      NA        FALSE   \n",
       "2343    NA      NA        FALSE   \n",
       "2344    NA      NA        FALSE   \n",
       "2345    NA      NA        FALSE   \n",
       "2346    NA      NA        FALSE   \n",
       "2347    NA      NA        FALSE   \n",
       "2348    NA      NA        FALSE   \n",
       "2349    NA      NA        FALSE   \n",
       "2350    NA      NA        FALSE   \n",
       "2351    NA      NA        FALSE   \n",
       "2352    NA      NA        FALSE   \n",
       "2353    NA      NA        FALSE   \n",
       "2354    NA      NA        FALSE   \n",
       "2355    NA      NA        FALSE   \n",
       "2356    NA      NA        FALSE   \n",
       "2357    NA      NA        FALSE   \n",
       "2358    NA      NA        FALSE   \n",
       "2359    NA      NA        FALSE   \n",
       "2360    NA      NA        FALSE   \n",
       "2361    NA      NA        FALSE   \n",
       "2362    NA      NA        FALSE   "
      ]
     },
     "metadata": {},
     "output_type": "display_data"
    }
   ],
   "source": [
    "data_to_save"
   ]
  },
  {
   "cell_type": "markdown",
   "metadata": {},
   "source": [
    "## <font color='green'>Data Save</font>\n",
    "\n",
    "* Solo si se han hecho cambios\n",
    "\n",
    "* No aplica"
   ]
  },
  {
   "cell_type": "markdown",
   "metadata": {},
   "source": [
    "<font color='tomato'> Identificamos los datos a guardar</font>"
   ]
  },
  {
   "cell_type": "markdown",
   "metadata": {},
   "source": [
    "\n",
    "<font color='tomato'>Estructura de nombre de archivos:</font>\n",
    "\n",
    "* Código del caso de uso, por ejemplo \"CU_04\"\n",
    "* Número del proceso que lo genera, por ejemplo \"_06\".\n",
    "* Resto del nombre del archivo de entrada\n",
    "* Extensión del archivo\n",
    "\n",
    "Ejemplo: \"CU_04_06_01_01_zonasgeo.json, primer fichero que se genera en la tarea 01 del proceso 05 (Data Collection) para el caso de uso 04 (vacunas) y que se ha transformado en el proceso 06\n",
    "\n",
    "Importante mantener los guiones bajos antes de proceso, tarea, archivo y nombre"
   ]
  },
  {
   "cell_type": "markdown",
   "metadata": {},
   "source": [
    "### Proceso 08"
   ]
  },
  {
   "cell_type": "code",
   "execution_count": 20,
   "metadata": {
    "vscode": {
     "languageId": "r"
    }
   },
   "outputs": [],
   "source": [
    "caso <- \"CU_53\"\n",
    "proceso <- '_08'\n",
    "tarea <- \"_02\"\n",
    "archivo <- \"\"\n",
    "proper <- \"_spi\"\n",
    "extension <- \".csv\""
   ]
  },
  {
   "cell_type": "markdown",
   "metadata": {},
   "source": [
    "<font color='tomato'><b> OPCION A:</b> Uso del paquete \"tcltk\" para mayor comodidad</font>\n",
    "\n",
    "* Buscar carpeta, escribir nombre de archivo SIN extensión (se especifica en el código)\n",
    "* Especificar sufijo2 si es necesario\n",
    "* Cambiar datos por datos_xx si es necesario"
   ]
  },
  {
   "cell_type": "code",
   "execution_count": 21,
   "metadata": {
    "vscode": {
     "languageId": "r"
    }
   },
   "outputs": [],
   "source": [
    "# file_save <- paste0(caso, proceso, tarea, tcltk::tkgetSaveFile(), proper, extension) \n",
    "# path_out <- paste0(oPath, file_save)\n",
    "# write_csv(data_to_save_xxxxx, path_out)\n",
    "\n",
    "# cat('File saved as: ')\n",
    "# path_out"
   ]
  },
  {
   "cell_type": "markdown",
   "metadata": {},
   "source": [
    "<font color='tomato'><b> OPCION B:</b> Especificar el nombre de archivo</font>"
   ]
  },
  {
   "cell_type": "markdown",
   "metadata": {},
   "source": [
    "- Los ficheros de salida del proceso van siempre a Data/Output/.  "
   ]
  },
  {
   "cell_type": "code",
   "execution_count": 22,
   "metadata": {
    "vscode": {
     "languageId": "r"
    }
   },
   "outputs": [
    {
     "name": "stdout",
     "output_type": "stream",
     "text": [
      "File saved as: "
     ]
    },
    {
     "data": {
      "text/html": [
       "'Data/Output/CU_53_08_02_spi.csv'"
      ],
      "text/latex": [
       "'Data/Output/CU\\_53\\_08\\_02\\_spi.csv'"
      ],
      "text/markdown": [
       "'Data/Output/CU_53_08_02_spi.csv'"
      ],
      "text/plain": [
       "[1] \"Data/Output/CU_53_08_02_spi.csv\""
      ]
     },
     "metadata": {},
     "output_type": "display_data"
    }
   ],
   "source": [
    "file_save <- paste0(caso, proceso, tarea, archivo, proper, extension) \n",
    "path_out <- paste0(oPath, file_save)\n",
    "write_csv(data_to_save, path_out)\n",
    "\n",
    "cat('File saved as: ')\n",
    "path_out"
   ]
  },
  {
   "cell_type": "markdown",
   "metadata": {},
   "source": [
    "#### Copia del fichero a Input\n",
    "\n",
    "Si el archivo se va a usar en otros notebooks, copiar a la carpeta Input"
   ]
  },
  {
   "cell_type": "code",
   "execution_count": 23,
   "metadata": {
    "vscode": {
     "languageId": "r"
    }
   },
   "outputs": [
    {
     "data": {
      "text/html": [
       "TRUE"
      ],
      "text/latex": [
       "TRUE"
      ],
      "text/markdown": [
       "TRUE"
      ],
      "text/plain": [
       "[1] TRUE"
      ]
     },
     "metadata": {},
     "output_type": "display_data"
    }
   ],
   "source": [
    "path_in <- paste0(iPath, file_save)\n",
    "file.copy(path_out, path_in, overwrite = TRUE)"
   ]
  },
  {
   "cell_type": "markdown",
   "metadata": {
    "slideshow": {
     "slide_type": "slide"
    }
   },
   "source": [
    "## <font color='#2874a6'>REPORT</font>"
   ]
  },
  {
   "cell_type": "markdown",
   "metadata": {},
   "source": [
    "A continuación se realizará un informe de las acciones realizadas"
   ]
  },
  {
   "cell_type": "markdown",
   "metadata": {},
   "source": [
    "## <font color=' #2874a6 '>Main Actions Carried Out</font>"
   ]
  },
  {
   "cell_type": "markdown",
   "metadata": {},
   "source": [
    "- No aplica el proceso al caso\n",
    "- En caso de ser necesaria la división en train y test, el código queda preparado"
   ]
  },
  {
   "cell_type": "markdown",
   "metadata": {},
   "source": [
    "## <font color=' #2874a6 '>Main Conclusions</font>"
   ]
  },
  {
   "cell_type": "markdown",
   "metadata": {},
   "source": [
    "- En este caso no se hace división de datos\n"
   ]
  },
  {
   "cell_type": "markdown",
   "metadata": {},
   "source": [
    "## <font color='RED'>CODE TO DEPLOY (PILOT)</font>\n",
    "\n",
    "A continuación se incluirá el código que deba ser llevado a despliegue para producción, dado que se entiende efectúa operaciones necesarias sobre los datos en la ejecución del prototipo"
   ]
  },
  {
   "cell_type": "markdown",
   "metadata": {},
   "source": [
    "<font color=' red '><b>Description</b></font>\n",
    "\n",
    "- No hay nada que desplegar en el piloto, ya que estos datos son estáticos o en todo caso cambian con muy poca frecuencia, altamente improbable durante el proyecto.\n"
   ]
  },
  {
   "cell_type": "markdown",
   "metadata": {},
   "source": [
    "<font color=' red '><b>CODE</b></font>"
   ]
  },
  {
   "cell_type": "code",
   "execution_count": 24,
   "metadata": {
    "vscode": {
     "languageId": "r"
    }
   },
   "outputs": [],
   "source": [
    "# incluir código"
   ]
  }
 ],
 "metadata": {
  "anaconda-cloud": {},
  "celltoolbar": "Slideshow",
  "hide_input": false,
  "kernelspec": {
   "display_name": "R",
   "language": "R",
   "name": "ir"
  },
  "language_info": {
   "codemirror_mode": "r",
   "file_extension": ".r",
   "mimetype": "text/x-r-source",
   "name": "R",
   "pygments_lexer": "r",
   "version": "4.2.0"
  },
  "latex_envs": {
   "LaTeX_envs_menu_present": true,
   "autoclose": false,
   "autocomplete": true,
   "bibliofile": "biblio.bib",
   "cite_by": "apalike",
   "current_citInitial": 1,
   "eqLabelWithNumbers": true,
   "eqNumInitial": 1,
   "hotkeys": {
    "equation": "Ctrl-E",
    "itemize": "Ctrl-I"
   },
   "labels_anchors": false,
   "latex_user_defs": false,
   "report_style_numbering": true,
   "user_envs_cfg": false
  },
  "toc": {
   "base_numbering": 1,
   "nav_menu": {
    "height": "11.6px",
    "width": "160px"
   },
   "number_sections": true,
   "sideBar": true,
   "skip_h1_title": true,
   "title_cell": "Table of Contents",
   "title_sidebar": "Contents",
   "toc_cell": true,
   "toc_position": {
    "height": "calc(100% - 180px)",
    "left": "10px",
    "top": "150px",
    "width": "165px"
   },
   "toc_section_display": true,
   "toc_window_display": true
  },
  "varInspector": {
   "cols": {
    "lenName": 16,
    "lenType": 16,
    "lenVar": 40
   },
   "kernels_config": {
    "python": {
     "delete_cmd_postfix": "",
     "delete_cmd_prefix": "del ",
     "library": "var_list.py",
     "varRefreshCmd": "print(var_dic_list())"
    },
    "r": {
     "delete_cmd_postfix": ") ",
     "delete_cmd_prefix": "rm(",
     "library": "var_list.r",
     "varRefreshCmd": "cat(var_dic_list()) "
    }
   },
   "types_to_exclude": [
    "module",
    "function",
    "builtin_function_or_method",
    "instance",
    "_Feature"
   ],
   "window_display": false
  }
 },
 "nbformat": 4,
 "nbformat_minor": 4
}
