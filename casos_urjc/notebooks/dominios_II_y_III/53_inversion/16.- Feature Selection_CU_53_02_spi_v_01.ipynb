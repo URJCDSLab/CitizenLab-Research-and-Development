{
 "cells": [
  {
   "cell_type": "markdown",
   "metadata": {
    "slideshow": {
     "slide_type": "slide"
    }
   },
   "source": [
    "<img src=\".\\images\\Logo.png\" width=150 align=\"left\" /> <img src=\".\\images\\Logo2.jpg\" width=450 align=\"right\" />"
   ]
  },
  {
   "cell_type": "markdown",
   "metadata": {
    "slideshow": {
     "slide_type": "slide"
    }
   },
   "source": [
    "\n",
    "# <center><font color= #1e8449 > <b>CU53_impacto de las políticas de inversión en sanidad, infraestructuras y promoción turística en el SPI\t\t\t</font></center>"
   ]
  },
  {
   "cell_type": "markdown",
   "metadata": {
    "slideshow": {
     "slide_type": "slide"
    }
   },
   "source": [
    "<font color='steelblue'><b>Citizenlab Data Science Methodology > III - Feature Engineering Domain </font>\n",
    "***\n",
    "> # <font color='steelblue'> <b>16.- Feature Selection</font>"
   ]
  },
  {
   "cell_type": "markdown",
   "metadata": {
    "slideshow": {
     "slide_type": "slide"
    }
   },
   "source": [
    "<font color='steelblue'>Feature Selection is the process where you automatically or manually select the most relevant features which contribute most to the correct output of the model.</font>\n"
   ]
  },
  {
   "cell_type": "markdown",
   "metadata": {
    "slideshow": {
     "slide_type": "slide"
    }
   },
   "source": [
    "## <font color='steelblue'>Tasks</font>"
   ]
  },
  {
   "cell_type": "markdown",
   "metadata": {
    "slideshow": {
     "slide_type": "slide"
    }
   },
   "source": [
    "<font color='steelblue'><b>Perform Selection of Categorical-Input/Categorical-Output</b>\t\n",
    "- Encoding-Categorical-Features\n",
    "- Chi-Squared-Feature-Selection\n",
    "- Mutual-Information-Feature-Selection\n",
    "- Evaluate-a-Logistic-Regression-model\n",
    "    \n",
    "<font color='steelblue'><b>Perform Selection of Numerical-Input/Categorical-Output</b>\t\n",
    "- ANOVA-F-test-Feature-Selection\n",
    "- Mutual-Information-Feature-Selection\n",
    "- Evaluating-a-Logistic-Regression-model\n",
    "- Tuning-the-Number-of-Selected-Features\n",
    "    \n",
    "<font color='steelblue'><b>Perform Selection of Numerical-Input/Numerical-Output</b>\t\n",
    "- Correlation-with-the-outcome-Feature-Selection\n",
    "- Mutual-Information-Feature-Selection\n",
    "- Evaluate-a-Lineal-Regression-model\n",
    "- Tuning-the-Number-of-Selected-Features\n",
    "    \n",
    "<font color='steelblue'><b>Perform Selection of Any-data</b>\t\n",
    "- RFE-(Recursive-Feature-Elimination)\n",
    "- Tuning-the-Number-of-Selected-Features\n",
    "- Automatically-Select-the-Number-of-Features\n",
    "    \n",
    "<font color='steelblue'><b>Explore the use of diferent algorithms wrapped by RFE</b>\t\n",
    "    \n",
    "<font color='steelblue'><b>Explore the use od Hybrid feature selection algorithms</b>\t"
   ]
  },
  {
   "cell_type": "markdown",
   "metadata": {},
   "source": [
    "## Consideraciones casos CitizenLab programados en R\n",
    "\n",
    "* Algunas de las tareas de este proceso se han realizado en los notebooks del proceso 05 Data Collection porque eran necesarias para las tareas ETL. En esos casos, en este notebook se referencia al notebook del proceso 05 correspondiente\n",
    "* Otras tareas típicas de este proceso se realizan en los notebooks del dominio IV al ser más eficiente realizarlas en el propio pipeline de modelización.\n",
    "* Por tanto en los notebooks de este proceso de manera general se incluyen las comprobaciones necesarias, y comentarios si procede\n",
    "* Las tareas del proceso se van a aplicar solo a los archivos que forman parte del despliegue, ya que hay muchos archivos intermedios que no procede pasar por este proceso\n",
    "* El nombre de archivo del notebook hace referencia al nombre de archivo del proceso 05 al que se aplica este proceso, por eso pueden no ser correlativa la numeración\n",
    "* Las comprobaciones se van a realizar teniendo en cuenta que el lenguaje utilizado en el despliegue de este caso es R"
   ]
  },
  {
   "cell_type": "markdown",
   "metadata": {},
   "source": [
    "## <font color='green'>File</font>"
   ]
  },
  {
   "cell_type": "markdown",
   "metadata": {},
   "source": [
    "- <font color='steelblue'> <b>Input File: CU_53_14_02_spi</font>\n",
    "- <font color='steelblue'> <b>Output File: No aplica</font>"
   ]
  },
  {
   "cell_type": "markdown",
   "metadata": {},
   "source": [
    "### Encoding\n",
    "\n",
    "Con la siguiente expresión se evitan problemas con el encoding al ejecutar el notebook. Es posible que deba ser eliminada o adaptada a la máquina en la que se ejecute el código."
   ]
  },
  {
   "cell_type": "code",
   "execution_count": 1,
   "metadata": {
    "vscode": {
     "languageId": "r"
    }
   },
   "outputs": [
    {
     "data": {
      "text/html": [
       "'LC_CTYPE=es_ES.UTF-8;LC_NUMERIC=C;LC_TIME=es_ES.UTF-8;LC_COLLATE=es_ES.UTF-8;LC_MONETARY=es_ES.UTF-8;LC_MESSAGES=en_US.UTF-8;LC_PAPER=es_ES.UTF-8;LC_NAME=C;LC_ADDRESS=C;LC_TELEPHONE=C;LC_MEASUREMENT=es_ES.UTF-8;LC_IDENTIFICATION=C'"
      ],
      "text/latex": [
       "'LC\\_CTYPE=es\\_ES.UTF-8;LC\\_NUMERIC=C;LC\\_TIME=es\\_ES.UTF-8;LC\\_COLLATE=es\\_ES.UTF-8;LC\\_MONETARY=es\\_ES.UTF-8;LC\\_MESSAGES=en\\_US.UTF-8;LC\\_PAPER=es\\_ES.UTF-8;LC\\_NAME=C;LC\\_ADDRESS=C;LC\\_TELEPHONE=C;LC\\_MEASUREMENT=es\\_ES.UTF-8;LC\\_IDENTIFICATION=C'"
      ],
      "text/markdown": [
       "'LC_CTYPE=es_ES.UTF-8;LC_NUMERIC=C;LC_TIME=es_ES.UTF-8;LC_COLLATE=es_ES.UTF-8;LC_MONETARY=es_ES.UTF-8;LC_MESSAGES=en_US.UTF-8;LC_PAPER=es_ES.UTF-8;LC_NAME=C;LC_ADDRESS=C;LC_TELEPHONE=C;LC_MEASUREMENT=es_ES.UTF-8;LC_IDENTIFICATION=C'"
      ],
      "text/plain": [
       "[1] \"LC_CTYPE=es_ES.UTF-8;LC_NUMERIC=C;LC_TIME=es_ES.UTF-8;LC_COLLATE=es_ES.UTF-8;LC_MONETARY=es_ES.UTF-8;LC_MESSAGES=en_US.UTF-8;LC_PAPER=es_ES.UTF-8;LC_NAME=C;LC_ADDRESS=C;LC_TELEPHONE=C;LC_MEASUREMENT=es_ES.UTF-8;LC_IDENTIFICATION=C\""
      ]
     },
     "metadata": {},
     "output_type": "display_data"
    }
   ],
   "source": [
    "Sys.setlocale(category = \"LC_ALL\", locale = \"es_ES.UTF-8\")"
   ]
  },
  {
   "cell_type": "markdown",
   "metadata": {},
   "source": [
    "## <font color='green'>Settings</font>"
   ]
  },
  {
   "cell_type": "markdown",
   "metadata": {},
   "source": [
    "### Libraries to use"
   ]
  },
  {
   "cell_type": "code",
   "execution_count": 2,
   "metadata": {
    "vscode": {
     "languageId": "r"
    }
   },
   "outputs": [
    {
     "name": "stderr",
     "output_type": "stream",
     "text": [
      "\n",
      "Attaching package: ‘dplyr’\n",
      "\n",
      "\n",
      "The following objects are masked from ‘package:stats’:\n",
      "\n",
      "    filter, lag\n",
      "\n",
      "\n",
      "The following objects are masked from ‘package:base’:\n",
      "\n",
      "    intersect, setdiff, setequal, union\n",
      "\n",
      "\n",
      "\n",
      "Attaching package: ‘lubridate’\n",
      "\n",
      "\n",
      "The following objects are masked from ‘package:base’:\n",
      "\n",
      "    date, intersect, setdiff, union\n",
      "\n",
      "\n"
     ]
    }
   ],
   "source": [
    "library(readr)\n",
    "library(dplyr)\n",
    "library(tidyr)\n",
    "library(forcats)\n",
    "library(lubridate)\n"
   ]
  },
  {
   "cell_type": "markdown",
   "metadata": {},
   "source": [
    "### Paths"
   ]
  },
  {
   "cell_type": "code",
   "execution_count": 3,
   "metadata": {
    "vscode": {
     "languageId": "r"
    }
   },
   "outputs": [],
   "source": [
    "iPath <- \"Data/Input/\"\n",
    "oPath <- \"Data/Output/\""
   ]
  },
  {
   "cell_type": "markdown",
   "metadata": {},
   "source": [
    "## <font color='green'>Data Load</font>"
   ]
  },
  {
   "cell_type": "markdown",
   "metadata": {},
   "source": [
    "<font color='tomato'><b> OPCION A:</b> Seleccionar fichero en ventana para mayor comodidad</font> "
   ]
  },
  {
   "cell_type": "markdown",
   "metadata": {},
   "source": [
    "Data load using the {tcltk} package. Ucomment the line if using this option"
   ]
  },
  {
   "cell_type": "code",
   "execution_count": 4,
   "metadata": {
    "vscode": {
     "languageId": "r"
    }
   },
   "outputs": [],
   "source": [
    "# file_data <- tcltk::tk_choose.files(multi = FALSE)"
   ]
  },
  {
   "cell_type": "markdown",
   "metadata": {},
   "source": [
    "<font color='tomato'><b> OPCION B:</b> Especificar el nombre de archivo</font>\n",
    "\n"
   ]
  },
  {
   "cell_type": "code",
   "execution_count": 4,
   "metadata": {
    "vscode": {
     "languageId": "r"
    }
   },
   "outputs": [
    {
     "name": "stdout",
     "output_type": "stream",
     "text": [
      "Se leerán datos del archivo:  Data/Input/CU_53_14_02_spi.csv"
     ]
    }
   ],
   "source": [
    "iFile <- \"CU_53_14_02_spi.csv\"\n",
    "file_data <- paste0(iPath, iFile)\n",
    "\n",
    "if(file.exists(file_data)){\n",
    "    cat(\"Se leerán datos del archivo: \", file_data)\n",
    "} else{\n",
    "    warning(\"Cuidado: el archivo no existe.\")\n",
    "}\n"
   ]
  },
  {
   "cell_type": "markdown",
   "metadata": {},
   "source": [
    "#### Data file to dataframe\n",
    "\n",
    "Usar la función adecuada según el formato de entrada (xlsx, csv, json, ...)"
   ]
  },
  {
   "cell_type": "code",
   "execution_count": 5,
   "metadata": {
    "vscode": {
     "languageId": "r"
    }
   },
   "outputs": [
    {
     "name": "stderr",
     "output_type": "stream",
     "text": [
      "\u001b[1mRows: \u001b[22m\u001b[34m2028\u001b[39m \u001b[1mColumns: \u001b[22m\u001b[34m18\u001b[39m\n",
      "\u001b[36m──\u001b[39m \u001b[1mColumn specification\u001b[22m \u001b[36m────────────────────────────────────────────────────────────────────────────────────────────────────────────────────\u001b[39m\n",
      "\u001b[1mDelimiter:\u001b[22m \",\"\n",
      "\u001b[32mdbl\u001b[39m (17): rank_score_spi, score_spi, score_bhn, score_fow, score_opp, score_...\n",
      "\u001b[33mlgl\u001b[39m  (1): is_train\n",
      "\n",
      "\u001b[36mℹ\u001b[39m Use `spec()` to retrieve the full column specification for this data.\n",
      "\u001b[36mℹ\u001b[39m Specify the column types or set `show_col_types = FALSE` to quiet this message.\n"
     ]
    }
   ],
   "source": [
    "data <- read_csv(file_data)\n"
   ]
  },
  {
   "cell_type": "markdown",
   "metadata": {},
   "source": [
    "Estructura de  los datos:"
   ]
  },
  {
   "cell_type": "code",
   "execution_count": 6,
   "metadata": {
    "vscode": {
     "languageId": "r"
    }
   },
   "outputs": [
    {
     "name": "stdout",
     "output_type": "stream",
     "text": [
      "Rows: 2,028\n",
      "Columns: 18\n",
      "$ rank_score_spi \u001b[3m\u001b[90m<dbl>\u001b[39m\u001b[23m 80, 97, 46, 84, 99, 150, 74, 105, 36, 143, 154, 69, 168…\n",
      "$ score_spi      \u001b[3m\u001b[90m<dbl>\u001b[39m\u001b[23m 0.234430921, -0.247745795, 0.644506738, -0.070067671, -…\n",
      "$ score_bhn      \u001b[3m\u001b[90m<dbl>\u001b[39m\u001b[23m 0.4097479, 0.1290857, 0.5753443, 0.4274030, 0.3293843, …\n",
      "$ score_fow      \u001b[3m\u001b[90m<dbl>\u001b[39m\u001b[23m 0.22131225, -0.67087093, 0.55485637, -0.04224433, -0.26…\n",
      "$ score_opp      \u001b[3m\u001b[90m<dbl>\u001b[39m\u001b[23m 0.040287945, -0.176082184, 0.684177595, -0.557195503, -…\n",
      "$ score_nbmc     \u001b[3m\u001b[90m<dbl>\u001b[39m\u001b[23m 0.4417846, -0.4611703, 0.4195220, 0.2610630, 0.5105377,…\n",
      "$ score_ws       \u001b[3m\u001b[90m<dbl>\u001b[39m\u001b[23m 0.5398626, 0.3861578, 0.6209430, 0.1056095, 0.1274964, …\n",
      "$ score_sh       \u001b[3m\u001b[90m<dbl>\u001b[39m\u001b[23m 0.6722671, 0.1921862, 0.7589734, 0.5545286, 0.6229812, …\n",
      "$ score_ps       \u001b[3m\u001b[90m<dbl>\u001b[39m\u001b[23m -0.451618611, 0.297686264, 0.192315395, 0.822032832, -0…\n",
      "$ score_abk      \u001b[3m\u001b[90m<dbl>\u001b[39m\u001b[23m 0.038575928, -1.291936532, 0.767026841, -0.404764773, -…\n",
      "$ score_aic      \u001b[3m\u001b[90m<dbl>\u001b[39m\u001b[23m 0.65139291, -1.02544160, 0.37750377, -0.38712186, 0.831…\n",
      "$ score_hw       \u001b[3m\u001b[90m<dbl>\u001b[39m\u001b[23m -0.17460539, 0.46862381, 0.28376095, 0.31816759, -0.652…\n",
      "$ score_eq       \u001b[3m\u001b[90m<dbl>\u001b[39m\u001b[23m 0.145913492, -0.124265238, 0.496988695, 0.680773448, -0…\n",
      "$ score_pr       \u001b[3m\u001b[90m<dbl>\u001b[39m\u001b[23m 0.49893581, 0.02236525, 0.89103387, -0.40632266, -0.458…\n",
      "$ score_pfc      \u001b[3m\u001b[90m<dbl>\u001b[39m\u001b[23m -0.17705492, 0.12172033, 0.31379064, -0.42914696, -0.28…\n",
      "$ score_incl     \u001b[3m\u001b[90m<dbl>\u001b[39m\u001b[23m -0.412651603, 0.380048297, 0.997036708, 0.009655802, -0…\n",
      "$ score_aae      \u001b[3m\u001b[90m<dbl>\u001b[39m\u001b[23m 0.13726735, -1.14969465, 0.14456184, -1.20857192, -0.38…\n",
      "$ is_train       \u001b[3m\u001b[90m<lgl>\u001b[39m\u001b[23m TRUE, TRUE, TRUE, TRUE, TRUE, TRUE, TRUE, TRUE, TRUE, T…\n"
     ]
    }
   ],
   "source": [
    "data |> glimpse()"
   ]
  },
  {
   "cell_type": "markdown",
   "metadata": {},
   "source": [
    "Muestra de los primeros datos:"
   ]
  },
  {
   "cell_type": "code",
   "execution_count": 7,
   "metadata": {
    "vscode": {
     "languageId": "r"
    }
   },
   "outputs": [
    {
     "data": {
      "text/html": [
       "<table class=\"dataframe\">\n",
       "<caption>A spec_tbl_df: 5 × 18</caption>\n",
       "<thead>\n",
       "\t<tr><th scope=col>rank_score_spi</th><th scope=col>score_spi</th><th scope=col>score_bhn</th><th scope=col>score_fow</th><th scope=col>score_opp</th><th scope=col>score_nbmc</th><th scope=col>score_ws</th><th scope=col>score_sh</th><th scope=col>score_ps</th><th scope=col>score_abk</th><th scope=col>score_aic</th><th scope=col>score_hw</th><th scope=col>score_eq</th><th scope=col>score_pr</th><th scope=col>score_pfc</th><th scope=col>score_incl</th><th scope=col>score_aae</th><th scope=col>is_train</th></tr>\n",
       "\t<tr><th scope=col>&lt;dbl&gt;</th><th scope=col>&lt;dbl&gt;</th><th scope=col>&lt;dbl&gt;</th><th scope=col>&lt;dbl&gt;</th><th scope=col>&lt;dbl&gt;</th><th scope=col>&lt;dbl&gt;</th><th scope=col>&lt;dbl&gt;</th><th scope=col>&lt;dbl&gt;</th><th scope=col>&lt;dbl&gt;</th><th scope=col>&lt;dbl&gt;</th><th scope=col>&lt;dbl&gt;</th><th scope=col>&lt;dbl&gt;</th><th scope=col>&lt;dbl&gt;</th><th scope=col>&lt;dbl&gt;</th><th scope=col>&lt;dbl&gt;</th><th scope=col>&lt;dbl&gt;</th><th scope=col>&lt;dbl&gt;</th><th scope=col>&lt;lgl&gt;</th></tr>\n",
       "</thead>\n",
       "<tbody>\n",
       "\t<tr><td>80</td><td> 0.23443092</td><td>0.4097479</td><td> 0.22131225</td><td> 0.04028795</td><td> 0.4417846</td><td>0.5398626</td><td>0.6722671</td><td>-0.4516186</td><td> 0.03857593</td><td> 0.6513929</td><td>-0.1746054</td><td> 0.1459135</td><td> 0.49893581</td><td>-0.1770549</td><td>-0.412651603</td><td> 0.1372673</td><td>TRUE</td></tr>\n",
       "\t<tr><td>97</td><td>-0.24774579</td><td>0.1290857</td><td>-0.67087093</td><td>-0.17608218</td><td>-0.4611703</td><td>0.3861578</td><td>0.1921862</td><td> 0.2976863</td><td>-1.29193653</td><td>-1.0254416</td><td> 0.4686238</td><td>-0.1242652</td><td> 0.02236525</td><td> 0.1217203</td><td> 0.380048297</td><td>-1.1496947</td><td>TRUE</td></tr>\n",
       "\t<tr><td>46</td><td> 0.64450674</td><td>0.5753443</td><td> 0.55485637</td><td> 0.68417760</td><td> 0.4195220</td><td>0.6209430</td><td>0.7589734</td><td> 0.1923154</td><td> 0.76702684</td><td> 0.3775038</td><td> 0.2837610</td><td> 0.4969887</td><td> 0.89103387</td><td> 0.3137906</td><td> 0.997036708</td><td> 0.1445618</td><td>TRUE</td></tr>\n",
       "\t<tr><td>84</td><td>-0.07006767</td><td>0.4274030</td><td>-0.04224433</td><td>-0.55719550</td><td> 0.2610630</td><td>0.1056095</td><td>0.5545286</td><td> 0.8220328</td><td>-0.40476477</td><td>-0.3871219</td><td> 0.3181676</td><td> 0.6807734</td><td>-0.40632266</td><td>-0.4291470</td><td> 0.009655802</td><td>-1.2085719</td><td>TRUE</td></tr>\n",
       "\t<tr><td>99</td><td>-0.16212549</td><td>0.3293843</td><td>-0.26860033</td><td>-0.50440793</td><td> 0.5105377</td><td>0.1274964</td><td>0.6229812</td><td>-0.1990627</td><td>-0.86329199</td><td> 0.8315709</td><td>-0.6527993</td><td>-0.5169670</td><td>-0.45827120</td><td>-0.2884290</td><td>-0.645769408</td><td>-0.3842909</td><td>TRUE</td></tr>\n",
       "</tbody>\n",
       "</table>\n"
      ],
      "text/latex": [
       "A spec\\_tbl\\_df: 5 × 18\n",
       "\\begin{tabular}{llllllllllllllllll}\n",
       " rank\\_score\\_spi & score\\_spi & score\\_bhn & score\\_fow & score\\_opp & score\\_nbmc & score\\_ws & score\\_sh & score\\_ps & score\\_abk & score\\_aic & score\\_hw & score\\_eq & score\\_pr & score\\_pfc & score\\_incl & score\\_aae & is\\_train\\\\\n",
       " <dbl> & <dbl> & <dbl> & <dbl> & <dbl> & <dbl> & <dbl> & <dbl> & <dbl> & <dbl> & <dbl> & <dbl> & <dbl> & <dbl> & <dbl> & <dbl> & <dbl> & <lgl>\\\\\n",
       "\\hline\n",
       "\t 80 &  0.23443092 & 0.4097479 &  0.22131225 &  0.04028795 &  0.4417846 & 0.5398626 & 0.6722671 & -0.4516186 &  0.03857593 &  0.6513929 & -0.1746054 &  0.1459135 &  0.49893581 & -0.1770549 & -0.412651603 &  0.1372673 & TRUE\\\\\n",
       "\t 97 & -0.24774579 & 0.1290857 & -0.67087093 & -0.17608218 & -0.4611703 & 0.3861578 & 0.1921862 &  0.2976863 & -1.29193653 & -1.0254416 &  0.4686238 & -0.1242652 &  0.02236525 &  0.1217203 &  0.380048297 & -1.1496947 & TRUE\\\\\n",
       "\t 46 &  0.64450674 & 0.5753443 &  0.55485637 &  0.68417760 &  0.4195220 & 0.6209430 & 0.7589734 &  0.1923154 &  0.76702684 &  0.3775038 &  0.2837610 &  0.4969887 &  0.89103387 &  0.3137906 &  0.997036708 &  0.1445618 & TRUE\\\\\n",
       "\t 84 & -0.07006767 & 0.4274030 & -0.04224433 & -0.55719550 &  0.2610630 & 0.1056095 & 0.5545286 &  0.8220328 & -0.40476477 & -0.3871219 &  0.3181676 &  0.6807734 & -0.40632266 & -0.4291470 &  0.009655802 & -1.2085719 & TRUE\\\\\n",
       "\t 99 & -0.16212549 & 0.3293843 & -0.26860033 & -0.50440793 &  0.5105377 & 0.1274964 & 0.6229812 & -0.1990627 & -0.86329199 &  0.8315709 & -0.6527993 & -0.5169670 & -0.45827120 & -0.2884290 & -0.645769408 & -0.3842909 & TRUE\\\\\n",
       "\\end{tabular}\n"
      ],
      "text/markdown": [
       "\n",
       "A spec_tbl_df: 5 × 18\n",
       "\n",
       "| rank_score_spi &lt;dbl&gt; | score_spi &lt;dbl&gt; | score_bhn &lt;dbl&gt; | score_fow &lt;dbl&gt; | score_opp &lt;dbl&gt; | score_nbmc &lt;dbl&gt; | score_ws &lt;dbl&gt; | score_sh &lt;dbl&gt; | score_ps &lt;dbl&gt; | score_abk &lt;dbl&gt; | score_aic &lt;dbl&gt; | score_hw &lt;dbl&gt; | score_eq &lt;dbl&gt; | score_pr &lt;dbl&gt; | score_pfc &lt;dbl&gt; | score_incl &lt;dbl&gt; | score_aae &lt;dbl&gt; | is_train &lt;lgl&gt; |\n",
       "|---|---|---|---|---|---|---|---|---|---|---|---|---|---|---|---|---|---|\n",
       "| 80 |  0.23443092 | 0.4097479 |  0.22131225 |  0.04028795 |  0.4417846 | 0.5398626 | 0.6722671 | -0.4516186 |  0.03857593 |  0.6513929 | -0.1746054 |  0.1459135 |  0.49893581 | -0.1770549 | -0.412651603 |  0.1372673 | TRUE |\n",
       "| 97 | -0.24774579 | 0.1290857 | -0.67087093 | -0.17608218 | -0.4611703 | 0.3861578 | 0.1921862 |  0.2976863 | -1.29193653 | -1.0254416 |  0.4686238 | -0.1242652 |  0.02236525 |  0.1217203 |  0.380048297 | -1.1496947 | TRUE |\n",
       "| 46 |  0.64450674 | 0.5753443 |  0.55485637 |  0.68417760 |  0.4195220 | 0.6209430 | 0.7589734 |  0.1923154 |  0.76702684 |  0.3775038 |  0.2837610 |  0.4969887 |  0.89103387 |  0.3137906 |  0.997036708 |  0.1445618 | TRUE |\n",
       "| 84 | -0.07006767 | 0.4274030 | -0.04224433 | -0.55719550 |  0.2610630 | 0.1056095 | 0.5545286 |  0.8220328 | -0.40476477 | -0.3871219 |  0.3181676 |  0.6807734 | -0.40632266 | -0.4291470 |  0.009655802 | -1.2085719 | TRUE |\n",
       "| 99 | -0.16212549 | 0.3293843 | -0.26860033 | -0.50440793 |  0.5105377 | 0.1274964 | 0.6229812 | -0.1990627 | -0.86329199 |  0.8315709 | -0.6527993 | -0.5169670 | -0.45827120 | -0.2884290 | -0.645769408 | -0.3842909 | TRUE |\n",
       "\n"
      ],
      "text/plain": [
       "  rank_score_spi score_spi   score_bhn score_fow   score_opp   score_nbmc\n",
       "1 80              0.23443092 0.4097479  0.22131225  0.04028795  0.4417846\n",
       "2 97             -0.24774579 0.1290857 -0.67087093 -0.17608218 -0.4611703\n",
       "3 46              0.64450674 0.5753443  0.55485637  0.68417760  0.4195220\n",
       "4 84             -0.07006767 0.4274030 -0.04224433 -0.55719550  0.2610630\n",
       "5 99             -0.16212549 0.3293843 -0.26860033 -0.50440793  0.5105377\n",
       "  score_ws  score_sh  score_ps   score_abk   score_aic  score_hw   score_eq  \n",
       "1 0.5398626 0.6722671 -0.4516186  0.03857593  0.6513929 -0.1746054  0.1459135\n",
       "2 0.3861578 0.1921862  0.2976863 -1.29193653 -1.0254416  0.4686238 -0.1242652\n",
       "3 0.6209430 0.7589734  0.1923154  0.76702684  0.3775038  0.2837610  0.4969887\n",
       "4 0.1056095 0.5545286  0.8220328 -0.40476477 -0.3871219  0.3181676  0.6807734\n",
       "5 0.1274964 0.6229812 -0.1990627 -0.86329199  0.8315709 -0.6527993 -0.5169670\n",
       "  score_pr    score_pfc  score_incl   score_aae  is_train\n",
       "1  0.49893581 -0.1770549 -0.412651603  0.1372673 TRUE    \n",
       "2  0.02236525  0.1217203  0.380048297 -1.1496947 TRUE    \n",
       "3  0.89103387  0.3137906  0.997036708  0.1445618 TRUE    \n",
       "4 -0.40632266 -0.4291470  0.009655802 -1.2085719 TRUE    \n",
       "5 -0.45827120 -0.2884290 -0.645769408 -0.3842909 TRUE    "
      ]
     },
     "metadata": {},
     "output_type": "display_data"
    }
   ],
   "source": [
    "data |> slice_head(n = 5)"
   ]
  },
  {
   "cell_type": "markdown",
   "metadata": {
    "slideshow": {
     "slide_type": "slide"
    }
   },
   "source": [
    "## Selecting Categorical Input / Categorical Output"
   ]
  },
  {
   "cell_type": "code",
   "execution_count": null,
   "metadata": {},
   "outputs": [],
   "source": []
  },
  {
   "cell_type": "markdown",
   "metadata": {
    "slideshow": {
     "slide_type": "slide"
    }
   },
   "source": [
    "### Encoding Categorical Features"
   ]
  },
  {
   "cell_type": "markdown",
   "metadata": {
    "slideshow": {
     "slide_type": "slide"
    }
   },
   "source": [
    "### Chi-Squared Feature Selection"
   ]
  },
  {
   "cell_type": "markdown",
   "metadata": {
    "slideshow": {
     "slide_type": "slide"
    }
   },
   "source": [
    "### Mutual Information Feature Selection"
   ]
  },
  {
   "cell_type": "markdown",
   "metadata": {
    "slideshow": {
     "slide_type": "slide"
    }
   },
   "source": [
    "### Evaluating a Logistic Regression model"
   ]
  },
  {
   "cell_type": "markdown",
   "metadata": {},
   "source": [
    "<font color='tomato'>Select numer of Features to use</font>"
   ]
  },
  {
   "cell_type": "code",
   "execution_count": 9,
   "metadata": {
    "ExecuteTime": {
     "end_time": "2021-01-06T10:31:14.165744Z",
     "start_time": "2021-01-06T10:31:14.150155Z"
    },
    "vscode": {
     "languageId": "r"
    }
   },
   "outputs": [],
   "source": [
    "# Select numer of Features to use\n"
   ]
  },
  {
   "cell_type": "markdown",
   "metadata": {},
   "source": [
    "<font color='darkgrey'><b>Operation</font>"
   ]
  },
  {
   "cell_type": "markdown",
   "metadata": {
    "slideshow": {
     "slide_type": "slide"
    }
   },
   "source": [
    "## Selecting Numerical Input / Categorical Output"
   ]
  },
  {
   "cell_type": "markdown",
   "metadata": {
    "slideshow": {
     "slide_type": "slide"
    }
   },
   "source": [
    "### ANOVA F-test Feature Selection"
   ]
  },
  {
   "cell_type": "markdown",
   "metadata": {
    "slideshow": {
     "slide_type": "slide"
    }
   },
   "source": [
    "### Mutual Information Feature Selection"
   ]
  },
  {
   "cell_type": "markdown",
   "metadata": {
    "slideshow": {
     "slide_type": "slide"
    }
   },
   "source": [
    "### Evaluating a Logistic Regression model"
   ]
  },
  {
   "cell_type": "markdown",
   "metadata": {},
   "source": [
    "<font color='tomato'>Selecting feature to use</font>"
   ]
  },
  {
   "cell_type": "code",
   "execution_count": 10,
   "metadata": {
    "ExecuteTime": {
     "end_time": "2021-01-06T11:10:23.895871Z",
     "start_time": "2021-01-06T11:10:23.880235Z"
    },
    "vscode": {
     "languageId": "r"
    }
   },
   "outputs": [],
   "source": [
    "# Select numer of Features to use\n"
   ]
  },
  {
   "cell_type": "markdown",
   "metadata": {},
   "source": [
    "<font color='darkgrey'><b>Operation</font>"
   ]
  },
  {
   "cell_type": "markdown",
   "metadata": {
    "slideshow": {
     "slide_type": "slide"
    }
   },
   "source": [
    "### Tuning the Number of Selected Features"
   ]
  },
  {
   "cell_type": "code",
   "execution_count": null,
   "metadata": {
    "vscode": {
     "languageId": "r"
    }
   },
   "outputs": [],
   "source": []
  },
  {
   "cell_type": "markdown",
   "metadata": {
    "slideshow": {
     "slide_type": "slide"
    }
   },
   "source": [
    "#### Know the best number of features to select"
   ]
  },
  {
   "cell_type": "code",
   "execution_count": null,
   "metadata": {
    "vscode": {
     "languageId": "r"
    }
   },
   "outputs": [],
   "source": []
  },
  {
   "cell_type": "markdown",
   "metadata": {
    "slideshow": {
     "slide_type": "slide"
    }
   },
   "source": [
    "#### See the relationship between the number of selected features and accuracy"
   ]
  },
  {
   "cell_type": "code",
   "execution_count": null,
   "metadata": {
    "vscode": {
     "languageId": "r"
    }
   },
   "outputs": [],
   "source": []
  },
  {
   "cell_type": "markdown",
   "metadata": {
    "slideshow": {
     "slide_type": "slide"
    }
   },
   "source": [
    "## Selecting Numerical Input / Numerical Output"
   ]
  },
  {
   "cell_type": "code",
   "execution_count": 8,
   "metadata": {},
   "outputs": [],
   "source": [
    "train_set <- subset(data[data$is_train == TRUE, ], select = -is_train)\n",
    "train_set <- select_if(train_set, is.numeric)\n",
    "test_set <- subset(data[data$is_train == FALSE, ], select = -is_train)\n",
    "test_set <- select_if(test_set, is.numeric)"
   ]
  },
  {
   "cell_type": "markdown",
   "metadata": {
    "slideshow": {
     "slide_type": "slide"
    }
   },
   "source": [
    "### Correlation with the outcome Feature Selection"
   ]
  },
  {
   "cell_type": "code",
   "execution_count": 10,
   "metadata": {
    "vscode": {
     "languageId": "r"
    }
   },
   "outputs": [
    {
     "name": "stdout",
     "output_type": "stream",
     "text": [
      "              Feature Correlation\n",
      "score_spi   score_spi  -0.9877809\n",
      "score_fow   score_fow  -0.9629153\n",
      "score_aae   score_aae  -0.9306451\n",
      "score_opp   score_opp  -0.9262783\n",
      "score_pfc   score_pfc  -0.9198194\n",
      "score_hw     score_hw  -0.9048625\n",
      "score_bhn   score_bhn  -0.9030321\n",
      "score_abk   score_abk  -0.8851855\n",
      "score_ws     score_ws  -0.8697752\n",
      "score_ps     score_ps  -0.8652805\n",
      "score_nbmc score_nbmc  -0.8575689\n",
      "score_aic   score_aic  -0.8574032\n",
      "score_sh     score_sh  -0.8374892\n",
      "score_incl score_incl  -0.8161920\n",
      "score_pr     score_pr  -0.7163100\n",
      "score_eq     score_eq  -0.6775241\n"
     ]
    }
   ],
   "source": [
    "# Calculate the correlation between each feature and the outcome variable\n",
    "correlations <- sapply(select_if(train_set, is.numeric)[, -which(names(select_if(train_set, is.numeric)) %in% \"rank_score_spi\")], function(x) cor(x, train_set$rank_score_spi))\n",
    "\n",
    "# Create a dataframe from the correlations\n",
    "correlation_df <- data.frame(Feature = names(correlations), Correlation = correlations)\n",
    "\n",
    "# Sort the dataframe by the absolute values of the correlations in descending order\n",
    "correlation_df <- correlation_df[order(-abs(correlation_df$Correlation)), ]\n",
    "\n",
    "# Print the correlation dataframe\n",
    "print(correlation_df)"
   ]
  },
  {
   "cell_type": "markdown",
   "metadata": {
    "slideshow": {
     "slide_type": "slide"
    }
   },
   "source": [
    "### Mutual Information Feature Selection"
   ]
  },
  {
   "cell_type": "code",
   "execution_count": 22,
   "metadata": {
    "vscode": {
     "languageId": "r"
    }
   },
   "outputs": [],
   "source": [
    "# Instala el paquete necesario si aún no está instalado\n",
    "# Verifica si el paquete FSelectorRcpp ya está instalado.\n",
    "# Si no está instalado, entonces lo instala.\n",
    "#if (!require(FSelectorRcpp)) {\n",
    "#  install.packages('FSelectorRcpp')\n",
    "#}\n",
    "\n",
    "# Carga la biblioteca necesaria\n",
    "# library(FSelectorRcpp)\n",
    "\n",
    "# Calcula la información mutua entre cada variable y el objetivo\n",
    "# mi_scores <- information_gain(train_data[, setdiff(names(train_data), \"rank_score_spi\")], train_data$Target)\n",
    "\n",
    "# Convierte el objeto top_features en un marco de datos\n",
    "# mi_scores_df <- as.data.frame(mi_scores)\n",
    "\n",
    "# Renombra las columnas\n",
    "# names(mi_scores_df) <- c(\"Feature\", \"Score\")\n",
    "\n",
    "# Ordena el marco de datos por Score en orden descendente\n",
    "# mi_scores_df <- mi_scores_df[order(-mi_scores_df$Score),]\n",
    "\n",
    "# Crea un gráfico de barras\n",
    "# ggplot(mi_scores_df, aes(x = reorder(Feature, Score), y = Score)) +\n",
    "#  geom_bar(stat = \"identity\", fill = \"steelblue\") +\n",
    "#  coord_flip() +\n",
    "#  xlab(\"Features\") +\n",
    "#  ylab(\"Mutual Information Score\") +\n",
    "#  ggtitle(\"Top Features by Mutual Information\") +\n",
    "#  theme_minimal()\n"
   ]
  },
  {
   "cell_type": "markdown",
   "metadata": {
    "slideshow": {
     "slide_type": "slide"
    }
   },
   "source": [
    "### Evaluating a Lineal Regression model"
   ]
  },
  {
   "cell_type": "code",
   "execution_count": 23,
   "metadata": {
    "ExecuteTime": {
     "end_time": "2021-01-06T11:10:23.895871Z",
     "start_time": "2021-01-06T11:10:23.880235Z"
    },
    "vscode": {
     "languageId": "r"
    }
   },
   "outputs": [],
   "source": [
    "# Select numer of Features to use\n",
    "k <- 5"
   ]
  },
  {
   "cell_type": "markdown",
   "metadata": {},
   "source": [
    "<font color='darkgrey'><b>Operation</font>"
   ]
  },
  {
   "cell_type": "code",
   "execution_count": 19,
   "metadata": {
    "vscode": {
     "languageId": "r"
    }
   },
   "outputs": [
    {
     "data": {
      "text/html": [
       "<style>\n",
       ".dl-inline {width: auto; margin:0; padding: 0}\n",
       ".dl-inline>dt, .dl-inline>dd {float: none; width: auto; display: inline-block}\n",
       ".dl-inline>dt::after {content: \":\\0020\"; padding-right: .5ex}\n",
       ".dl-inline>dt:not(:first-of-type) {padding-left: .5ex}\n",
       "</style><dl class=dl-inline><dt>RMSE</dt><dd>6.46463812889704</dd><dt>Rsquared</dt><dd>0.982435210421272</dd><dt>MAE</dt><dd>4.84989747978453</dd></dl>\n"
      ],
      "text/latex": [
       "\\begin{description*}\n",
       "\\item[RMSE] 6.46463812889704\n",
       "\\item[Rsquared] 0.982435210421272\n",
       "\\item[MAE] 4.84989747978453\n",
       "\\end{description*}\n"
      ],
      "text/markdown": [
       "RMSE\n",
       ":   6.46463812889704Rsquared\n",
       ":   0.982435210421272MAE\n",
       ":   4.84989747978453\n",
       "\n"
      ],
      "text/plain": [
       "     RMSE  Rsquared       MAE \n",
       "6.4646381 0.9824352 4.8498975 "
      ]
     },
     "metadata": {},
     "output_type": "display_data"
    }
   ],
   "source": [
    "# Instala el paquete 'caret' si no está ya instalado\n",
    "if (!require(caret)) {\n",
    "  install.packages('caret')\n",
    "}\n",
    "\n",
    "# Carga la biblioteca 'caret'\n",
    "library(caret)\n",
    "\n",
    "# Luego puedes usar la función postResample\n",
    "result <- postResample(pred = predictions, obs = test_set$rank_score_spi)\n",
    "\n",
    "# Fit a linear regression model\n",
    "model_all_features <- lm(rank_score_spi ~ ., data = train_set)\n",
    "\n",
    "# Predict on the test set\n",
    "predictions <- predict(model_all_features, newdata = test_set)\n",
    "\n",
    "# Evaluate the model\n",
    "postResample(pred = predictions, obs = test_set$rank_score_spi)"
   ]
  },
  {
   "cell_type": "code",
   "execution_count": null,
   "metadata": {
    "vscode": {
     "languageId": "r"
    }
   },
   "outputs": [],
   "source": []
  },
  {
   "cell_type": "markdown",
   "metadata": {},
   "source": [
    "<font color='tomato'>Selecting feature to use</font>"
   ]
  },
  {
   "cell_type": "code",
   "execution_count": 11,
   "metadata": {
    "ExecuteTime": {
     "end_time": "2021-01-06T11:10:23.895871Z",
     "start_time": "2021-01-06T11:10:23.880235Z"
    },
    "vscode": {
     "languageId": "r"
    }
   },
   "outputs": [],
   "source": [
    "# Select numer of Features to use\n"
   ]
  },
  {
   "cell_type": "markdown",
   "metadata": {},
   "source": [
    "<font color='darkgrey'><b>Operation</font>"
   ]
  },
  {
   "cell_type": "code",
   "execution_count": null,
   "metadata": {
    "vscode": {
     "languageId": "r"
    }
   },
   "outputs": [],
   "source": []
  },
  {
   "cell_type": "markdown",
   "metadata": {
    "slideshow": {
     "slide_type": "slide"
    }
   },
   "source": [
    "### Tuning the Number of Selected Features"
   ]
  },
  {
   "cell_type": "markdown",
   "metadata": {
    "slideshow": {
     "slide_type": "slide"
    }
   },
   "source": [
    "#### Know the best number of features to select"
   ]
  },
  {
   "cell_type": "markdown",
   "metadata": {
    "slideshow": {
     "slide_type": "slide"
    }
   },
   "source": [
    "#### See the relationship between the number of selected features and MAE"
   ]
  },
  {
   "cell_type": "markdown",
   "metadata": {
    "slideshow": {
     "slide_type": "slide"
    }
   },
   "source": [
    "## Any data: RFE (Recursive Feature Elimination)"
   ]
  },
  {
   "cell_type": "markdown",
   "metadata": {
    "slideshow": {
     "slide_type": "slide"
    }
   },
   "source": [
    "### RFE for Classification"
   ]
  },
  {
   "cell_type": "markdown",
   "metadata": {},
   "source": [
    "<font color='tomato'>Selecting feature to use</font>"
   ]
  },
  {
   "cell_type": "code",
   "execution_count": 12,
   "metadata": {
    "ExecuteTime": {
     "end_time": "2021-01-07T16:55:23.289784Z",
     "start_time": "2021-01-07T16:55:23.279636Z"
    },
    "vscode": {
     "languageId": "r"
    }
   },
   "outputs": [],
   "source": [
    "# Select numer of Features to use\n"
   ]
  },
  {
   "cell_type": "markdown",
   "metadata": {},
   "source": [
    "<font color='darkgrey'><b>Operation</font>"
   ]
  },
  {
   "cell_type": "code",
   "execution_count": null,
   "metadata": {
    "vscode": {
     "languageId": "r"
    }
   },
   "outputs": [],
   "source": []
  },
  {
   "cell_type": "markdown",
   "metadata": {
    "slideshow": {
     "slide_type": "slide"
    }
   },
   "source": [
    "### RFE for Regression"
   ]
  },
  {
   "cell_type": "markdown",
   "metadata": {},
   "source": [
    "<font color='tomato'>Selecting feature to use</font>"
   ]
  },
  {
   "cell_type": "code",
   "execution_count": 13,
   "metadata": {
    "ExecuteTime": {
     "end_time": "2021-01-07T18:05:21.445531Z",
     "start_time": "2021-01-07T18:05:21.415710Z"
    },
    "vscode": {
     "languageId": "r"
    }
   },
   "outputs": [],
   "source": [
    "# Select numer of Features to use\n"
   ]
  },
  {
   "cell_type": "markdown",
   "metadata": {},
   "source": [
    "<font color='darkgrey'><b>Operation</font>"
   ]
  },
  {
   "cell_type": "code",
   "execution_count": 25,
   "metadata": {
    "ExecuteTime": {
     "end_time": "2021-01-07T18:05:26.686146Z",
     "start_time": "2021-01-07T18:05:22.745684Z"
    },
    "vscode": {
     "languageId": "r"
    }
   },
   "outputs": [
    {
     "name": "stdout",
     "output_type": "stream",
     "text": [
      "\n",
      "Recursive feature selection\n",
      "\n",
      "Outer resampling method: Cross-Validated (10 fold) \n",
      "\n",
      "Resampling performance over subset size:\n",
      "\n",
      " Variables  RMSE Rsquared   MAE RMSESD RsquaredSD  MAESD Selected\n",
      "         1 7.600   0.9760 5.935 0.5291   0.003103 0.3390         \n",
      "         2 7.549   0.9763 5.842 0.6117   0.003604 0.3482         \n",
      "         3 7.286   0.9778 5.594 0.7704   0.004589 0.5326         \n",
      "         4 6.964   0.9799 5.312 0.6802   0.003950 0.5471         \n",
      "         5 6.888   0.9804 5.250 0.6565   0.003818 0.5285         \n",
      "         6 6.822   0.9807 5.163 0.6721   0.003889 0.5432         \n",
      "         7 6.707   0.9814 5.050 0.6659   0.003781 0.5021         \n",
      "         8 6.630   0.9818 4.992 0.6656   0.003814 0.4988         \n",
      "         9 6.629   0.9818 4.982 0.6595   0.003792 0.5042         \n",
      "        10 6.349   0.9834 4.768 0.4688   0.002212 0.2785         \n",
      "        11 6.315   0.9835 4.732 0.4787   0.002228 0.2812         \n",
      "        12 6.297   0.9836 4.718 0.5062   0.002350 0.3259         \n",
      "        13 6.263   0.9838 4.685 0.4843   0.002252 0.3122         \n",
      "        14 6.242   0.9839 4.668 0.4874   0.002244 0.3153        *\n",
      "        15 6.250   0.9839 4.675 0.5013   0.002287 0.3294         \n",
      "        16 6.251   0.9839 4.677 0.5035   0.002294 0.3323         \n",
      "\n",
      "The top 5 variables (out of 14):\n",
      "   score_spi, score_fow, score_opp, score_aic, score_bhn\n",
      "\n"
     ]
    }
   ],
   "source": [
    "# Define control parameters for rfe function\n",
    "ctrl <- rfeControl(functions=lmFuncs, method=\"cv\", number=10)\n",
    "\n",
    "# Determine number of predictors\n",
    "predictors_number <- ncol(train_set) - 1 # Assuming the last column is the target variable\n",
    "\n",
    "# Apply the RFE algorithm with cross validation.\n",
    "result <- rfe(train_set[, !names(train_set) %in% \"rank_score_spi\"], train_set$rank_score_spi, sizes=c(1:predictors_number), rfeControl=ctrl)\n",
    "\n",
    "# Print the result\n",
    "print(result)\n",
    "\n",
    "# Top ranking variables in the optimal subset size\n",
    "top_features <- predictors(result, result$optsize)"
   ]
  },
  {
   "cell_type": "markdown",
   "metadata": {
    "slideshow": {
     "slide_type": "slide"
    }
   },
   "source": [
    "### Tuning the Number of Selected Features"
   ]
  },
  {
   "cell_type": "markdown",
   "metadata": {
    "slideshow": {
     "slide_type": "slide"
    }
   },
   "source": [
    "####  RFE for Classification"
   ]
  },
  {
   "cell_type": "markdown",
   "metadata": {},
   "source": [
    "Use dataset as example: diabetes"
   ]
  },
  {
   "cell_type": "markdown",
   "metadata": {},
   "source": [
    "<font color='tomato'>Selecting feature to use</font>"
   ]
  },
  {
   "cell_type": "code",
   "execution_count": 14,
   "metadata": {
    "ExecuteTime": {
     "end_time": "2021-01-07T17:33:41.693293Z",
     "start_time": "2021-01-07T17:33:41.686750Z"
    },
    "vscode": {
     "languageId": "r"
    }
   },
   "outputs": [],
   "source": [
    "# Select range [f..l] of Features to evaluate\n",
    "f=2\n",
    "l=10"
   ]
  },
  {
   "cell_type": "markdown",
   "metadata": {},
   "source": [
    "<font color='darkgrey'><b>Operation</font>"
   ]
  },
  {
   "cell_type": "code",
   "execution_count": null,
   "metadata": {
    "ExecuteTime": {
     "end_time": "2021-01-07T17:33:48.842936Z",
     "start_time": "2021-01-07T17:33:42.393136Z"
    },
    "vscode": {
     "languageId": "r"
    }
   },
   "outputs": [],
   "source": []
  },
  {
   "cell_type": "markdown",
   "metadata": {
    "slideshow": {
     "slide_type": "slide"
    }
   },
   "source": [
    "####  RFE for Regression"
   ]
  },
  {
   "cell_type": "markdown",
   "metadata": {},
   "source": [
    "<font color='tomato'>Selecting feature to use</font>"
   ]
  },
  {
   "cell_type": "code",
   "execution_count": 15,
   "metadata": {
    "ExecuteTime": {
     "end_time": "2021-01-07T17:40:27.064039Z",
     "start_time": "2021-01-07T17:40:27.044017Z"
    },
    "vscode": {
     "languageId": "r"
    }
   },
   "outputs": [],
   "source": [
    "# Select range [f..l] of Features to evaluate\n",
    "f=2\n",
    "l=10"
   ]
  },
  {
   "cell_type": "markdown",
   "metadata": {},
   "source": [
    "<font color='darkgrey'><b>Operation</font>"
   ]
  },
  {
   "cell_type": "code",
   "execution_count": null,
   "metadata": {
    "ExecuteTime": {
     "end_time": "2021-01-07T17:46:35.008156Z",
     "start_time": "2021-01-07T17:46:26.228253Z"
    },
    "scrolled": true,
    "vscode": {
     "languageId": "r"
    }
   },
   "outputs": [],
   "source": []
  },
  {
   "cell_type": "markdown",
   "metadata": {
    "slideshow": {
     "slide_type": "slide"
    }
   },
   "source": [
    "### Automatically Select the Number of Features"
   ]
  },
  {
   "cell_type": "markdown",
   "metadata": {
    "slideshow": {
     "slide_type": "slide"
    }
   },
   "source": [
    "####  RFE for Classification"
   ]
  },
  {
   "cell_type": "code",
   "execution_count": null,
   "metadata": {
    "ExecuteTime": {
     "end_time": "2021-01-07T17:54:51.464594Z",
     "start_time": "2021-01-07T17:54:45.966897Z"
    },
    "scrolled": true,
    "vscode": {
     "languageId": "r"
    }
   },
   "outputs": [],
   "source": []
  },
  {
   "cell_type": "markdown",
   "metadata": {
    "slideshow": {
     "slide_type": "slide"
    }
   },
   "source": [
    "####  RFE for Regression"
   ]
  },
  {
   "cell_type": "code",
   "execution_count": null,
   "metadata": {
    "ExecuteTime": {
     "end_time": "2021-01-07T18:02:46.795824Z",
     "start_time": "2021-01-07T18:02:46.430809Z"
    },
    "vscode": {
     "languageId": "r"
    }
   },
   "outputs": [],
   "source": []
  },
  {
   "cell_type": "markdown",
   "metadata": {
    "slideshow": {
     "slide_type": "slide"
    }
   },
   "source": [
    "## Exploring the use of diferent algorithms wrapped by RFE"
   ]
  },
  {
   "cell_type": "markdown",
   "metadata": {
    "slideshow": {
     "slide_type": "slide"
    }
   },
   "source": [
    "####  RFE for Classification"
   ]
  },
  {
   "cell_type": "code",
   "execution_count": null,
   "metadata": {
    "ExecuteTime": {
     "end_time": "2021-01-07T18:12:18.210619Z",
     "start_time": "2021-01-07T18:11:46.070585Z"
    },
    "scrolled": true,
    "vscode": {
     "languageId": "r"
    }
   },
   "outputs": [],
   "source": []
  },
  {
   "cell_type": "markdown",
   "metadata": {
    "slideshow": {
     "slide_type": "slide"
    }
   },
   "source": [
    "####  RFE for Regression"
   ]
  },
  {
   "cell_type": "markdown",
   "metadata": {},
   "source": [
    "Use dataset as example: Boston houses"
   ]
  },
  {
   "cell_type": "code",
   "execution_count": null,
   "metadata": {
    "ExecuteTime": {
     "end_time": "2021-01-07T18:21:42.484672Z",
     "start_time": "2021-01-07T18:20:37.372701Z"
    },
    "vscode": {
     "languageId": "r"
    }
   },
   "outputs": [],
   "source": []
  },
  {
   "cell_type": "markdown",
   "metadata": {},
   "source": [
    "## <font color='green'>Data Save</font>\n",
    "\n",
    "* Solo si se han hecho cambios\n",
    "\n",
    "* No aplica"
   ]
  },
  {
   "cell_type": "markdown",
   "metadata": {},
   "source": [
    "<font color='tomato'> Identificamos los datos a guardar</font>"
   ]
  },
  {
   "cell_type": "code",
   "execution_count": 16,
   "metadata": {
    "vscode": {
     "languageId": "r"
    }
   },
   "outputs": [],
   "source": [
    "data_to_save <- data"
   ]
  },
  {
   "cell_type": "markdown",
   "metadata": {},
   "source": [
    "\n",
    "<font color='tomato'>Estructura de nombre de archivos:</font>\n",
    "\n",
    "* Código del caso de uso, por ejemplo \"CU_04\"\n",
    "* Número del proceso que lo genera, por ejemplo \"_06\".\n",
    "* Resto del nombre del archivo de entrada\n",
    "* Extensión del archivo\n",
    "\n",
    "Ejemplo: \"CU_04_06_01_01_zonasgeo.json, primer fichero que se genera en la tarea 01 del proceso 05 (Data Collection) para el caso de uso 04 (vacunas) y que se ha transformado en el proceso 06\n",
    "\n",
    "Importante mantener los guiones bajos antes de proceso, tarea, archivo y nombre"
   ]
  },
  {
   "cell_type": "markdown",
   "metadata": {},
   "source": [
    "### Proceso 16"
   ]
  },
  {
   "cell_type": "code",
   "execution_count": 26,
   "metadata": {
    "vscode": {
     "languageId": "r"
    }
   },
   "outputs": [],
   "source": [
    "caso <- \"CU_53\"\n",
    "proceso <- '_16'\n",
    "tarea <- \"_02\"\n",
    "archivo <- \"\"\n",
    "proper <- \"_spi\"\n",
    "extension <- \".csv\""
   ]
  },
  {
   "cell_type": "markdown",
   "metadata": {},
   "source": [
    "<font color='tomato'><b> OPCION A:</b> Uso del paquete \"tcltk\" para mayor comodidad</font>\n",
    "\n",
    "* Buscar carpeta, escribir nombre de archivo SIN extensión (se especifica en el código)\n",
    "* Especificar sufijo2 si es necesario\n",
    "* Cambiar datos por datos_xx si es necesario"
   ]
  },
  {
   "cell_type": "code",
   "execution_count": 27,
   "metadata": {
    "vscode": {
     "languageId": "r"
    }
   },
   "outputs": [],
   "source": [
    "# file_save <- paste0(caso, proceso, tarea, tcltk::tkgetSaveFile(), proper, extension) \n",
    "# path_out <- paste0(oPath, file_save)\n",
    "# write_csv(data_to_save_xxxxx, path_out)\n",
    "\n",
    "# cat('File saved as: ')\n",
    "# path_out"
   ]
  },
  {
   "cell_type": "markdown",
   "metadata": {},
   "source": [
    "<font color='tomato'><b> OPCION B:</b> Especificar el nombre de archivo</font>"
   ]
  },
  {
   "cell_type": "markdown",
   "metadata": {},
   "source": [
    "- Los ficheros de salida del proceso van siempre a Data/Output/.  "
   ]
  },
  {
   "cell_type": "code",
   "execution_count": 28,
   "metadata": {
    "vscode": {
     "languageId": "r"
    }
   },
   "outputs": [],
   "source": [
    "# file_save <- paste0(caso, proceso, tarea, archivo, proper, extension) \n",
    "# path_out <- paste0(oPath, file_save)\n",
    "# write_csv(data_to_save_xxxxx, path_out)\n",
    "\n",
    "# cat('File saved as: ')\n",
    "# path_out"
   ]
  },
  {
   "cell_type": "markdown",
   "metadata": {},
   "source": [
    "#### Copia del fichero a Input\n",
    "\n",
    "Si el archivo se va a usar en otros notebooks, copiar a la carpeta Input"
   ]
  },
  {
   "cell_type": "code",
   "execution_count": 29,
   "metadata": {
    "vscode": {
     "languageId": "r"
    }
   },
   "outputs": [],
   "source": [
    "# path_in <- paste0(iPath, file_save)\n",
    "# file.copy(path_out, path_in, overwrite = TRUE)"
   ]
  },
  {
   "cell_type": "markdown",
   "metadata": {},
   "source": [
    "## <font color='#2874a6'>REPORT</font>"
   ]
  },
  {
   "cell_type": "markdown",
   "metadata": {},
   "source": [
    "A continuación se realizará un informe de las acciones realizadas"
   ]
  },
  {
   "cell_type": "markdown",
   "metadata": {},
   "source": [
    "## <font color=' #2874a6 '>Main Actions Carried Out</font>"
   ]
  },
  {
   "cell_type": "markdown",
   "metadata": {},
   "source": [
    "- Si eran necesarias se han realizado en el proceso 05 por cuestiones de eficiencia\n",
    "- En el proceso 05 se realizó un cluster, y los pasos en este notebook no aplican\n",
    "- O bien se hacen en el dominio IV o V para integrar en el pipeline de modelización"
   ]
  },
  {
   "cell_type": "markdown",
   "metadata": {},
   "source": [
    "## <font color=' #2874a6 '>Main Conclusions</font>"
   ]
  },
  {
   "cell_type": "markdown",
   "metadata": {},
   "source": [
    "- Los datos están listos para la modelización y despliegue\n"
   ]
  },
  {
   "cell_type": "markdown",
   "metadata": {},
   "source": [
    "## <font color='RED'>CODE TO DEPLOY (PILOT)</font>\n",
    "\n",
    "A continuación se incluirá el código que deba ser llevado a despliegue para producción, dado que se entiende efectúa operaciones necesarias sobre los datos en la ejecución del prototipo"
   ]
  },
  {
   "cell_type": "markdown",
   "metadata": {},
   "source": [
    "<font color=' red '><b>Description</b></font>\n",
    "\n",
    "- No hay nada que desplegar en el piloto, ya que estos datos son estáticos o en todo caso cambian con muy poca frecuencia, altamente improbable durante el proyecto.\n"
   ]
  },
  {
   "cell_type": "markdown",
   "metadata": {},
   "source": [
    "<font color=' red '><b>CODE</b></font>"
   ]
  },
  {
   "cell_type": "code",
   "execution_count": null,
   "metadata": {
    "vscode": {
     "languageId": "r"
    }
   },
   "outputs": [],
   "source": []
  }
 ],
 "metadata": {
  "anaconda-cloud": {},
  "celltoolbar": "Slideshow",
  "hide_input": false,
  "kernelspec": {
   "display_name": "R [conda env:citizenlab] *",
   "language": "R",
   "name": "conda-env-citizenlab-r"
  },
  "language_info": {
   "codemirror_mode": "r",
   "file_extension": ".r",
   "mimetype": "text/x-r-source",
   "name": "R",
   "pygments_lexer": "r",
   "version": "4.2.0"
  },
  "latex_envs": {
   "LaTeX_envs_menu_present": true,
   "autoclose": false,
   "autocomplete": true,
   "bibliofile": "biblio.bib",
   "cite_by": "apalike",
   "current_citInitial": 1,
   "eqLabelWithNumbers": true,
   "eqNumInitial": 1,
   "hotkeys": {
    "equation": "Ctrl-E",
    "itemize": "Ctrl-I"
   },
   "labels_anchors": false,
   "latex_user_defs": false,
   "report_style_numbering": true,
   "user_envs_cfg": false
  },
  "toc": {
   "base_numbering": 1,
   "nav_menu": {},
   "number_sections": true,
   "sideBar": true,
   "skip_h1_title": true,
   "title_cell": "Table of Contents",
   "title_sidebar": "Contents",
   "toc_cell": false,
   "toc_position": {
    "height": "calc(100% - 180px)",
    "left": "10px",
    "top": "150px",
    "width": "420.633px"
   },
   "toc_section_display": true,
   "toc_window_display": true
  },
  "varInspector": {
   "cols": {
    "lenName": 16,
    "lenType": 16,
    "lenVar": 40
   },
   "kernels_config": {
    "python": {
     "delete_cmd_postfix": "",
     "delete_cmd_prefix": "del ",
     "library": "var_list.py",
     "varRefreshCmd": "print(var_dic_list())"
    },
    "r": {
     "delete_cmd_postfix": ") ",
     "delete_cmd_prefix": "rm(",
     "library": "var_list.r",
     "varRefreshCmd": "cat(var_dic_list()) "
    }
   },
   "types_to_exclude": [
    "module",
    "function",
    "builtin_function_or_method",
    "instance",
    "_Feature"
   ],
   "window_display": false
  }
 },
 "nbformat": 4,
 "nbformat_minor": 4
}
