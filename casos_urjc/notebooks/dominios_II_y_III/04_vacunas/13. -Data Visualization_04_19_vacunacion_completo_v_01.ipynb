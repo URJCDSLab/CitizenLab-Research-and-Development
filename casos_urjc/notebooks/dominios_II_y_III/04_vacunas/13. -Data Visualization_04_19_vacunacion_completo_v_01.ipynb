{
 "cells": [
  {
   "cell_type": "markdown",
   "metadata": {
    "slideshow": {
     "slide_type": "slide"
    }
   },
   "source": [
    "<img src=\".\\images\\Logo.png\" width=150 align=\"left\" /> <img src=\".\\images\\Logo2.jpg\" width=450 align=\"right\" />"
   ]
  },
  {
   "cell_type": "markdown",
   "metadata": {
    "slideshow": {
     "slide_type": "slide"
    }
   },
   "source": [
    "\n",
    "# <center><font color= #1e8449 > <b>CU04_Optimización de vacunas</font></center>"
   ]
  },
  {
   "attachments": {},
   "cell_type": "markdown",
   "metadata": {
    "slideshow": {
     "slide_type": "slide"
    }
   },
   "source": [
    "<font color='steelblue'><b>Citizenlab Data Science Methodology > II - Data Processing Domain </font>\n",
    "***\n",
    "> # <font color='steelblue'> <b>13.- Data Visualization</font>"
   ]
  },
  {
   "cell_type": "markdown",
   "metadata": {
    "slideshow": {
     "slide_type": "slide"
    }
   },
   "source": [
    "<font color='steelblue'>Data Visualization is the process of performing a statistical graphical analysis of the data."
   ]
  },
  {
   "attachments": {},
   "cell_type": "markdown",
   "metadata": {},
   "source": [
    "## Notas\n",
    "\n",
    "* La visualización es parte del análisis exploratorio de datos\n",
    "* En los notebooks del proceso 12 se incluyen gráficos que constituyen la visualización de los datos del caso de uso, y no se repiten aquí\n",
    "* En los notebooks del proceso 13 se añaden algunas visualizaciones espaciales no incuidas en el proceso 12"
   ]
  },
  {
   "attachments": {},
   "cell_type": "markdown",
   "metadata": {},
   "source": [
    "## <font color='green'>File</font>\n",
    "\n",
    "En este notebook se importan dos archivos: el csv con los datos y el json con las geometrías"
   ]
  },
  {
   "cell_type": "markdown",
   "metadata": {},
   "source": [
    "- <font color='steelblue'> <b>Input File: CU_04_08_20_vacunacion_gripe_train_and_test.csv</font>\n",
    "- <font color='steelblue'> <b>No aplica</font>"
   ]
  },
  {
   "cell_type": "markdown",
   "metadata": {},
   "source": [
    "### Encoding\n",
    "\n",
    "Con la siguiente expresión se evitan problemas con el encoding al ejecutar el notebook. Es posible que deba ser eliminada o adaptada a la máquina en la que se ejecute el código."
   ]
  },
  {
   "cell_type": "code",
   "execution_count": 22,
   "metadata": {
    "vscode": {
     "languageId": "r"
    }
   },
   "outputs": [
    {
     "name": "stderr",
     "output_type": "stream",
     "text": [
      "Warning message in Sys.setlocale(category = \"LC_ALL\", locale = \"es_ES.UTF-8\"):\n",
      "“OS reports request to set locale to \"es_ES.UTF-8\" cannot be honored”\n"
     ]
    },
    {
     "data": {
      "text/html": [
       "''"
      ],
      "text/latex": [
       "''"
      ],
      "text/markdown": [
       "''"
      ],
      "text/plain": [
       "[1] \"\""
      ]
     },
     "metadata": {},
     "output_type": "display_data"
    }
   ],
   "source": [
    "Sys.setlocale(category = \"LC_ALL\", locale = \"es_ES.UTF-8\")"
   ]
  },
  {
   "cell_type": "markdown",
   "metadata": {},
   "source": [
    "## <font color='green'>Settings</font>"
   ]
  },
  {
   "cell_type": "markdown",
   "metadata": {},
   "source": [
    "### Libraries to use"
   ]
  },
  {
   "cell_type": "code",
   "execution_count": 51,
   "metadata": {
    "vscode": {
     "languageId": "r"
    }
   },
   "outputs": [
    {
     "name": "stderr",
     "output_type": "stream",
     "text": [
      "Linking to GEOS 3.10.2, GDAL 3.4.1, PROJ 8.2.1; sf_use_s2() is TRUE\n",
      "\n"
     ]
    }
   ],
   "source": [
    "library(readr)\n",
    "library(dplyr)\n",
    "library(tidyr)\n",
    "library(ggplot2)\n",
    "library(summarytools)\n",
    "library(GGally)\n",
    "library(sf)\n",
    "library(nortest)\n",
    "library(lubridate)\n",
    "library(leaflet)\n"
   ]
  },
  {
   "cell_type": "markdown",
   "metadata": {},
   "source": [
    "### Paths"
   ]
  },
  {
   "cell_type": "code",
   "execution_count": 40,
   "metadata": {
    "vscode": {
     "languageId": "r"
    }
   },
   "outputs": [],
   "source": [
    "iPath <- \"Data/Input/\"\n",
    "oPath <- \"Data/Output/\""
   ]
  },
  {
   "cell_type": "markdown",
   "metadata": {},
   "source": [
    "## <font color='green'>Data Load</font>"
   ]
  },
  {
   "attachments": {},
   "cell_type": "markdown",
   "metadata": {},
   "source": [
    "1. Archivo de datos CSV"
   ]
  },
  {
   "cell_type": "markdown",
   "metadata": {},
   "source": [
    "<font color='tomato'><b> OPCION A:</b> Seleccionar fichero en ventana para mayor comodidad</font> "
   ]
  },
  {
   "cell_type": "markdown",
   "metadata": {},
   "source": [
    "Data load using the {tcltk} package. Ucomment the line if using this option"
   ]
  },
  {
   "cell_type": "code",
   "execution_count": 41,
   "metadata": {
    "vscode": {
     "languageId": "r"
    }
   },
   "outputs": [],
   "source": [
    "# file_data <- tcltk::tk_choose.files(multi = FALSE)"
   ]
  },
  {
   "cell_type": "markdown",
   "metadata": {},
   "source": [
    "<font color='tomato'><b> OPCION B:</b> Especificar el nombre de archivo</font>\n",
    "\n"
   ]
  },
  {
   "cell_type": "code",
   "execution_count": 42,
   "metadata": {
    "vscode": {
     "languageId": "r"
    }
   },
   "outputs": [
    {
     "name": "stdout",
     "output_type": "stream",
     "text": [
      "Se leerán datos del archivo:  Data/Input/CU_04_08_20_vacunacion_gripe_train_and_test.csv"
     ]
    }
   ],
   "source": [
    "iFile <- \"CU_04_08_20_vacunacion_gripe_train_and_test.csv\"\n",
    "file_data <- paste0(iPath, iFile)\n",
    "\n",
    "if(file.exists(file_data)){\n",
    "    cat(\"Se leerán datos del archivo: \", file_data)\n",
    "} else{\n",
    "    warning(\"Cuidado: el archivo no existe.\")\n",
    "}\n"
   ]
  },
  {
   "cell_type": "markdown",
   "metadata": {},
   "source": [
    "#### Data file to dataframe\n",
    "\n",
    "Usar la función adecuada según el formato de entrada (xlsx, csv, json, ...)"
   ]
  },
  {
   "cell_type": "code",
   "execution_count": 43,
   "metadata": {
    "vscode": {
     "languageId": "r"
    }
   },
   "outputs": [
    {
     "name": "stderr",
     "output_type": "stream",
     "text": [
      "\u001b[1mRows: \u001b[22m\u001b[34m21736\u001b[39m \u001b[1mColumns: \u001b[22m\u001b[34m49\u001b[39m\n",
      "\u001b[36m──\u001b[39m \u001b[1mColumn specification\u001b[22m \u001b[36m────────────────────────────────────────────────────────────────────────────────────────────────────────────────\u001b[39m\n",
      "\u001b[1mDelimiter:\u001b[22m \",\"\n",
      "\u001b[31mchr\u001b[39m  (3): GEOCODIGO, DESBDT, nombre_zona\n",
      "\u001b[32mdbl\u001b[39m (45): ano, semana, n_vacunas, n_citas, tmed, prec, velmedia, presMax, be...\n",
      "\u001b[33mlgl\u001b[39m  (1): is_train\n",
      "\n",
      "\u001b[36mℹ\u001b[39m Use `spec()` to retrieve the full column specification for this data.\n",
      "\u001b[36mℹ\u001b[39m Specify the column types or set `show_col_types = FALSE` to quiet this message.\n"
     ]
    }
   ],
   "source": [
    "data <- read_csv(file_data)\n"
   ]
  },
  {
   "attachments": {},
   "cell_type": "markdown",
   "metadata": {},
   "source": [
    "2. Archivo de geometrías JSON"
   ]
  },
  {
   "cell_type": "markdown",
   "metadata": {},
   "source": [
    "<font color='tomato'><b> OPCION A:</b> Seleccionar fichero en ventana para mayor comodidad</font> "
   ]
  },
  {
   "cell_type": "markdown",
   "metadata": {},
   "source": [
    "Data load using the {tcltk} package. Ucomment the line if using this option"
   ]
  },
  {
   "cell_type": "code",
   "execution_count": 44,
   "metadata": {
    "vscode": {
     "languageId": "r"
    }
   },
   "outputs": [],
   "source": [
    "# file_data <- tcltk::tk_choose.files(multi = FALSE)"
   ]
  },
  {
   "cell_type": "markdown",
   "metadata": {},
   "source": [
    "<font color='tomato'><b> OPCION B:</b> Especificar el nombre de archivo</font>\n",
    "\n"
   ]
  },
  {
   "cell_type": "code",
   "execution_count": 53,
   "metadata": {
    "vscode": {
     "languageId": "r"
    }
   },
   "outputs": [
    {
     "name": "stdout",
     "output_type": "stream",
     "text": [
      "Se leerán datos del archivo:  Data/Input/CU_04_05_01_zonasgeo.json"
     ]
    }
   ],
   "source": [
    "iFileg <- \"CU_04_05_01_zonasgeo.json\"\n",
    "file_geo <- paste0(iPath, iFileg)\n",
    "\n",
    "if(file.exists(file_geo)){\n",
    "    cat(\"Se leerán datos del archivo: \", file_geo)\n",
    "} else{\n",
    "    warning(\"Cuidado: el archivo no existe.\")\n",
    "}\n"
   ]
  },
  {
   "cell_type": "markdown",
   "metadata": {},
   "source": [
    "#### Data file to dataframe\n",
    "\n",
    "Usar la función adecuada según el formato de entrada (xlsx, csv, json, ...)"
   ]
  },
  {
   "cell_type": "code",
   "execution_count": 54,
   "metadata": {
    "vscode": {
     "languageId": "r"
    }
   },
   "outputs": [
    {
     "name": "stdout",
     "output_type": "stream",
     "text": [
      "Reading layer `CU_04_05_01_zonasgeo' from data source \n",
      "  `/home/cegf/Workspace/CITY/CitizenLab-Research-and-Development/casos_urjc/notebooks/dominios_II_y_III/04_vacunas/Data/Input/CU_04_05_01_zonasgeo.json' \n",
      "  using driver `GeoJSON'\n",
      "Simple feature collection with 286 features and 3 fields\n",
      "Geometry type: MULTIPOLYGON\n",
      "Dimension:     XY\n",
      "Bounding box:  xmin: -4.579396 ymin: 39.8848 xmax: -3.052977 ymax: 41.16584\n",
      "Geodetic CRS:  WGS 84\n"
     ]
    }
   ],
   "source": [
    "datageo <- st_read(file_geo)\n"
   ]
  },
  {
   "attachments": {},
   "cell_type": "markdown",
   "metadata": {},
   "source": [
    "## Data join\n",
    "\n",
    "Unimos los dos data frames"
   ]
  },
  {
   "cell_type": "code",
   "execution_count": 55,
   "metadata": {
    "vscode": {
     "languageId": "r"
    }
   },
   "outputs": [],
   "source": [
    "dataj <- data |> \n",
    "    full_join(datageo, by = c(\"GEOCODIGO\", \"DESBDT\"))\n"
   ]
  },
  {
   "cell_type": "markdown",
   "metadata": {},
   "source": [
    "## Data Structure"
   ]
  },
  {
   "cell_type": "markdown",
   "metadata": {},
   "source": [
    "Estructura de  los datos:"
   ]
  },
  {
   "cell_type": "code",
   "execution_count": 56,
   "metadata": {
    "vscode": {
     "languageId": "r"
    }
   },
   "outputs": [
    {
     "name": "stdout",
     "output_type": "stream",
     "text": [
      "Rows: 21,740\n",
      "Columns: 51\n",
      "$ GEOCODIGO         \u001b[3m\u001b[90m<chr>\u001b[39m\u001b[23m \"259\", \"260\", \"041\", \"025\", \"046\", \"159\", \"065\", \"09…\n",
      "$ DESBDT            \u001b[3m\u001b[90m<chr>\u001b[39m\u001b[23m \"V Centenario\", \"Valdeacederas\", \"Canillejas\", \"Bara…\n",
      "$ ano               \u001b[3m\u001b[90m<dbl>\u001b[39m\u001b[23m 2022, 2022, 2022, 2022, 2022, 2022, 2022, 2021, 2023…\n",
      "$ semana            \u001b[3m\u001b[90m<dbl>\u001b[39m\u001b[23m 34, 8, 9, 49, 24, 3, 8, 47, 1, 2, 52, 39, 16, 50, 34…\n",
      "$ n_vacunas         \u001b[3m\u001b[90m<dbl>\u001b[39m\u001b[23m 0, 0, 0, 292, 0, 524, 0, 248, 204, 205, NA, 0, 0, 51…\n",
      "$ n_citas           \u001b[3m\u001b[90m<dbl>\u001b[39m\u001b[23m 0, 0, 0, 280, 0, 498, 0, 228, 198, 187, NA, 0, 0, 51…\n",
      "$ tmed              \u001b[3m\u001b[90m<dbl>\u001b[39m\u001b[23m 27.278748, 9.577289, 8.536554, 9.065363, 29.905728, …\n",
      "$ prec              \u001b[3m\u001b[90m<dbl>\u001b[39m\u001b[23m 0.169955881, 1.264910043, 3.122881160, 7.313886680, …\n",
      "$ velmedia          \u001b[3m\u001b[90m<dbl>\u001b[39m\u001b[23m 2.297067, 1.890425, 2.418071, 1.562328, 2.564749, 1.…\n",
      "$ presMax           \u001b[3m\u001b[90m<dbl>\u001b[39m\u001b[23m 940.0420, 944.1770, 949.7179, 941.8342, 940.5669, 95…\n",
      "$ benzene           \u001b[3m\u001b[90m<dbl>\u001b[39m\u001b[23m 0.1764413, 0.4591543, 0.4099159, 0.4224172, 0.195865…\n",
      "$ co                \u001b[3m\u001b[90m<dbl>\u001b[39m\u001b[23m 0.4987735, 0.3960647, 0.3951587, NA, 0.2891224, 0.50…\n",
      "$ no                \u001b[3m\u001b[90m<dbl>\u001b[39m\u001b[23m NA, 6.611337, 9.331224, 14.007722, 4.063517, 24.4756…\n",
      "$ no2               \u001b[3m\u001b[90m<dbl>\u001b[39m\u001b[23m 14.21113, 34.67671, 30.29999, 32.54832, 26.06913, 44…\n",
      "$ nox               \u001b[3m\u001b[90m<dbl>\u001b[39m\u001b[23m 18.00109, 48.94660, 45.22346, 56.75574, 30.35311, 74…\n",
      "$ o3                \u001b[3m\u001b[90m<dbl>\u001b[39m\u001b[23m 80.90659, 42.06663, 48.88088, 26.68276, 64.55205, 31…\n",
      "$ pm10              \u001b[3m\u001b[90m<dbl>\u001b[39m\u001b[23m 20.117087, 15.042152, 14.002432, 18.032354, 55.79346…\n",
      "$ pm2.5             \u001b[3m\u001b[90m<dbl>\u001b[39m\u001b[23m 10.628064, 5.539590, 7.124192, 6.793868, 19.520373, …\n",
      "$ so2               \u001b[3m\u001b[90m<dbl>\u001b[39m\u001b[23m 2.794934, 3.507164, 2.692125, 2.351139, 3.397640, 2.…\n",
      "$ campana           \u001b[3m\u001b[90m<dbl>\u001b[39m\u001b[23m NA, NA, NA, 2022, NA, 2021, NA, 2021, 2022, 2021, 20…\n",
      "$ scampana          \u001b[3m\u001b[90m<dbl>\u001b[39m\u001b[23m NA, NA, NA, 14, NA, 20, NA, 12, 18, 19, 17, 4, NA, 1…\n",
      "$ capacidad_zona    \u001b[3m\u001b[90m<dbl>\u001b[39m\u001b[23m 7957, 6537, 7167, 5633, 3864, 12583, 8544, 5077, 494…\n",
      "$ prop_riesgo       \u001b[3m\u001b[90m<dbl>\u001b[39m\u001b[23m 0.11393237, 0.15763986, 0.25500690, 0.14452370, 0.26…\n",
      "$ tasa_riesgo       \u001b[3m\u001b[90m<dbl>\u001b[39m\u001b[23m 0.013477754, 0.015731142, 0.009177382, 0.013099129, …\n",
      "$ tasa_mayores      \u001b[3m\u001b[90m<dbl>\u001b[39m\u001b[23m 0.023033610, 0.032817374, 0.028147027, 0.020829657, …\n",
      "$ poblacion_mayores \u001b[3m\u001b[90m<dbl>\u001b[39m\u001b[23m 0.10330662, 0.14362062, 0.23161874, 0.13058449, 0.24…\n",
      "$ nombre_zona       \u001b[3m\u001b[90m<chr>\u001b[39m\u001b[23m \"V Centenario\", \"Valdeacederas\", \"Canillejas\", \"Bara…\n",
      "$ nsec              \u001b[3m\u001b[90m<dbl>\u001b[39m\u001b[23m 17, 18, 22, 13, 14, 42, 32, 13, 17, 11, NA, 15, 15, …\n",
      "$ t3_1              \u001b[3m\u001b[90m<dbl>\u001b[39m\u001b[23m 36.73039, 41.41412, 45.44882, 39.78001, 46.13171, 46…\n",
      "$ t1_1              \u001b[3m\u001b[90m<dbl>\u001b[39m\u001b[23m 31778, 26202, 28658, 22492, 15450, 50478, 34148, 202…\n",
      "$ t2_1              \u001b[3m\u001b[90m<dbl>\u001b[39m\u001b[23m 0.5084658, 0.5329728, 0.5316594, 0.5189021, 0.551191…\n",
      "$ t2_2              \u001b[3m\u001b[90m<dbl>\u001b[39m\u001b[23m 0.4915342, 0.4670272, 0.4683406, 0.4810979, 0.448809…\n",
      "$ t4_1              \u001b[3m\u001b[90m<dbl>\u001b[39m\u001b[23m 0.22551283, 0.12790298, 0.12603707, 0.18104432, 0.11…\n",
      "$ t4_2              \u001b[3m\u001b[90m<dbl>\u001b[39m\u001b[23m 0.6711962, 0.7284970, 0.6423306, 0.6883785, 0.641173…\n",
      "$ t4_3              \u001b[3m\u001b[90m<dbl>\u001b[39m\u001b[23m 0.10330662, 0.14362062, 0.23161874, 0.13058449, 0.24…\n",
      "$ t5_1              \u001b[3m\u001b[90m<dbl>\u001b[39m\u001b[23m 0.1063332, 0.2295250, 0.1655070, 0.1266086, 0.165893…\n",
      "$ t6_1              \u001b[3m\u001b[90m<dbl>\u001b[39m\u001b[23m 0.1706875, 0.3477631, 0.2511757, 0.1998911, 0.261480…\n",
      "$ t7_1              \u001b[3m\u001b[90m<dbl>\u001b[39m\u001b[23m 0.05131106, 0.04606911, 0.04379644, 0.05585777, 0.06…\n",
      "$ t8_1              \u001b[3m\u001b[90m<dbl>\u001b[39m\u001b[23m 0.03892836, 0.03586418, 0.03207779, 0.04434976, 0.05…\n",
      "$ t9_1              \u001b[3m\u001b[90m<dbl>\u001b[39m\u001b[23m 0.5151383, 0.3863876, 0.3129631, 0.4611972, 0.701812…\n",
      "$ t10_1             \u001b[3m\u001b[90m<dbl>\u001b[39m\u001b[23m 0.09258503, 0.13151901, 0.13926119, 0.10460043, 0.06…\n",
      "$ t11_1             \u001b[3m\u001b[90m<dbl>\u001b[39m\u001b[23m 0.6406787, 0.5451465, 0.4600730, 0.5920292, 0.471769…\n",
      "$ t12_1             \u001b[3m\u001b[90m<dbl>\u001b[39m\u001b[23m 0.7028586, 0.6277335, 0.5346482, 0.6590530, 0.502531…\n",
      "$ area              \u001b[3m\u001b[90m<dbl>\u001b[39m\u001b[23m 2100118.9, 1164622.0, 1597474.5, 3816572.0, 870986.8…\n",
      "$ densidad_hab_km   \u001b[3m\u001b[90m<dbl>\u001b[39m\u001b[23m 15131.52443, 22498.28643, 17939.56640, 5893.24662, 1…\n",
      "$ tuits_gripe       \u001b[3m\u001b[90m<dbl>\u001b[39m\u001b[23m 60, 56, 72, 196, 46, 382, 56, 280, 24, 508, NA, 126,…\n",
      "$ interes_gripe     \u001b[3m\u001b[90m<dbl>\u001b[39m\u001b[23m 24, 15, 24, 77, 21, 42, 15, 64, 64, 69, NA, 42, 40, …\n",
      "$ Target            \u001b[3m\u001b[90m<dbl>\u001b[39m\u001b[23m 24, 15, 24, 77, 21, 42, 15, 64, 64, 69, NA, 42, 40, …\n",
      "$ is_train          \u001b[3m\u001b[90m<lgl>\u001b[39m\u001b[23m TRUE, TRUE, TRUE, TRUE, TRUE, TRUE, TRUE, TRUE, TRUE…\n",
      "$ CODBDT            \u001b[3m\u001b[90m<int>\u001b[39m\u001b[23m 686471, 686472, 686253, 686237, 686258, 686371, 6862…\n",
      "$ geometry          \u001b[3m\u001b[90m<MULTIPOLYGON [°]>\u001b[39m\u001b[23m MULTIPOLYGON (((-3.613203 4..., MULTIPO…\n"
     ]
    }
   ],
   "source": [
    "dataj |> glimpse()"
   ]
  },
  {
   "cell_type": "markdown",
   "metadata": {},
   "source": [
    "Muestra de los primeros datos:"
   ]
  },
  {
   "cell_type": "code",
   "execution_count": 57,
   "metadata": {
    "vscode": {
     "languageId": "r"
    }
   },
   "outputs": [
    {
     "data": {
      "text/html": [
       "<table class=\"dataframe\">\n",
       "<caption>A spec_tbl_df: 5 × 51</caption>\n",
       "<thead>\n",
       "\t<tr><th scope=col>GEOCODIGO</th><th scope=col>DESBDT</th><th scope=col>ano</th><th scope=col>semana</th><th scope=col>n_vacunas</th><th scope=col>n_citas</th><th scope=col>tmed</th><th scope=col>prec</th><th scope=col>velmedia</th><th scope=col>presMax</th><th scope=col>⋯</th><th scope=col>t11_1</th><th scope=col>t12_1</th><th scope=col>area</th><th scope=col>densidad_hab_km</th><th scope=col>tuits_gripe</th><th scope=col>interes_gripe</th><th scope=col>Target</th><th scope=col>is_train</th><th scope=col>CODBDT</th><th scope=col>geometry</th></tr>\n",
       "\t<tr><th scope=col>&lt;chr&gt;</th><th scope=col>&lt;chr&gt;</th><th scope=col>&lt;dbl&gt;</th><th scope=col>&lt;dbl&gt;</th><th scope=col>&lt;dbl&gt;</th><th scope=col>&lt;dbl&gt;</th><th scope=col>&lt;dbl&gt;</th><th scope=col>&lt;dbl&gt;</th><th scope=col>&lt;dbl&gt;</th><th scope=col>&lt;dbl&gt;</th><th scope=col>⋯</th><th scope=col>&lt;dbl&gt;</th><th scope=col>&lt;dbl&gt;</th><th scope=col>&lt;dbl&gt;</th><th scope=col>&lt;dbl&gt;</th><th scope=col>&lt;dbl&gt;</th><th scope=col>&lt;dbl&gt;</th><th scope=col>&lt;dbl&gt;</th><th scope=col>&lt;lgl&gt;</th><th scope=col>&lt;int&gt;</th><th scope=col>&lt;MULTIPOLYGON [°]&gt;</th></tr>\n",
       "</thead>\n",
       "<tbody>\n",
       "\t<tr><td>259</td><td>V Centenario </td><td>2022</td><td>34</td><td>  0</td><td>  0</td><td>27.278748</td><td>0.16995588</td><td>2.297067</td><td>940.0420</td><td>⋯</td><td>0.6406787</td><td>0.7028586</td><td>2100118.9</td><td>15131.524</td><td> 60</td><td>24</td><td>24</td><td>TRUE</td><td>686471</td><td>MULTIPOLYGON (((-3.613203 4...</td></tr>\n",
       "\t<tr><td>260</td><td>Valdeacederas</td><td>2022</td><td> 8</td><td>  0</td><td>  0</td><td> 9.577289</td><td>1.26491004</td><td>1.890425</td><td>944.1770</td><td>⋯</td><td>0.5451465</td><td>0.6277335</td><td>1164622.0</td><td>22498.286</td><td> 56</td><td>15</td><td>15</td><td>TRUE</td><td>686472</td><td>MULTIPOLYGON (((-3.695806 4...</td></tr>\n",
       "\t<tr><td>041</td><td>Canillejas   </td><td>2022</td><td> 9</td><td>  0</td><td>  0</td><td> 8.536554</td><td>3.12288116</td><td>2.418071</td><td>949.7179</td><td>⋯</td><td>0.4600730</td><td>0.5346482</td><td>1597474.5</td><td>17939.566</td><td> 72</td><td>24</td><td>24</td><td>TRUE</td><td>686253</td><td>MULTIPOLYGON (((-3.618131 4...</td></tr>\n",
       "\t<tr><td>025</td><td>Barajas      </td><td>2022</td><td>49</td><td>292</td><td>280</td><td> 9.065363</td><td>7.31388668</td><td>1.562328</td><td>941.8342</td><td>⋯</td><td>0.5920292</td><td>0.6590530</td><td>3816572.0</td><td> 5893.247</td><td>196</td><td>77</td><td>77</td><td>TRUE</td><td>686237</td><td>MULTIPOLYGON (((-3.600012 4...</td></tr>\n",
       "\t<tr><td>046</td><td>Castelló     </td><td>2022</td><td>24</td><td>  0</td><td>  0</td><td>29.905728</td><td>0.01366852</td><td>2.564749</td><td>940.5669</td><td>⋯</td><td>0.4717699</td><td>0.5025317</td><td> 870986.8</td><td>17738.501</td><td> 46</td><td>21</td><td>21</td><td>TRUE</td><td>686258</td><td>MULTIPOLYGON (((-3.691478 4...</td></tr>\n",
       "</tbody>\n",
       "</table>\n"
      ],
      "text/latex": [
       "A spec\\_tbl\\_df: 5 × 51\n",
       "\\begin{tabular}{lllllllllllllllllllll}\n",
       " GEOCODIGO & DESBDT & ano & semana & n\\_vacunas & n\\_citas & tmed & prec & velmedia & presMax & ⋯ & t11\\_1 & t12\\_1 & area & densidad\\_hab\\_km & tuits\\_gripe & interes\\_gripe & Target & is\\_train & CODBDT & geometry\\\\\n",
       " <chr> & <chr> & <dbl> & <dbl> & <dbl> & <dbl> & <dbl> & <dbl> & <dbl> & <dbl> & ⋯ & <dbl> & <dbl> & <dbl> & <dbl> & <dbl> & <dbl> & <dbl> & <lgl> & <int> & <MULTIPOLYGON {[}°{]}>\\\\\n",
       "\\hline\n",
       "\t 259 & V Centenario  & 2022 & 34 &   0 &   0 & 27.278748 & 0.16995588 & 2.297067 & 940.0420 & ⋯ & 0.6406787 & 0.7028586 & 2100118.9 & 15131.524 &  60 & 24 & 24 & TRUE & 686471 & MULTIPOLYGON (((-3.613203 4...\\\\\n",
       "\t 260 & Valdeacederas & 2022 &  8 &   0 &   0 &  9.577289 & 1.26491004 & 1.890425 & 944.1770 & ⋯ & 0.5451465 & 0.6277335 & 1164622.0 & 22498.286 &  56 & 15 & 15 & TRUE & 686472 & MULTIPOLYGON (((-3.695806 4...\\\\\n",
       "\t 041 & Canillejas    & 2022 &  9 &   0 &   0 &  8.536554 & 3.12288116 & 2.418071 & 949.7179 & ⋯ & 0.4600730 & 0.5346482 & 1597474.5 & 17939.566 &  72 & 24 & 24 & TRUE & 686253 & MULTIPOLYGON (((-3.618131 4...\\\\\n",
       "\t 025 & Barajas       & 2022 & 49 & 292 & 280 &  9.065363 & 7.31388668 & 1.562328 & 941.8342 & ⋯ & 0.5920292 & 0.6590530 & 3816572.0 &  5893.247 & 196 & 77 & 77 & TRUE & 686237 & MULTIPOLYGON (((-3.600012 4...\\\\\n",
       "\t 046 & Castelló      & 2022 & 24 &   0 &   0 & 29.905728 & 0.01366852 & 2.564749 & 940.5669 & ⋯ & 0.4717699 & 0.5025317 &  870986.8 & 17738.501 &  46 & 21 & 21 & TRUE & 686258 & MULTIPOLYGON (((-3.691478 4...\\\\\n",
       "\\end{tabular}\n"
      ],
      "text/markdown": [
       "\n",
       "A spec_tbl_df: 5 × 51\n",
       "\n",
       "| GEOCODIGO &lt;chr&gt; | DESBDT &lt;chr&gt; | ano &lt;dbl&gt; | semana &lt;dbl&gt; | n_vacunas &lt;dbl&gt; | n_citas &lt;dbl&gt; | tmed &lt;dbl&gt; | prec &lt;dbl&gt; | velmedia &lt;dbl&gt; | presMax &lt;dbl&gt; | ⋯ ⋯ | t11_1 &lt;dbl&gt; | t12_1 &lt;dbl&gt; | area &lt;dbl&gt; | densidad_hab_km &lt;dbl&gt; | tuits_gripe &lt;dbl&gt; | interes_gripe &lt;dbl&gt; | Target &lt;dbl&gt; | is_train &lt;lgl&gt; | CODBDT &lt;int&gt; | geometry &lt;MULTIPOLYGON [°]&gt; |\n",
       "|---|---|---|---|---|---|---|---|---|---|---|---|---|---|---|---|---|---|---|---|---|\n",
       "| 259 | V Centenario  | 2022 | 34 |   0 |   0 | 27.278748 | 0.16995588 | 2.297067 | 940.0420 | ⋯ | 0.6406787 | 0.7028586 | 2100118.9 | 15131.524 |  60 | 24 | 24 | TRUE | 686471 | MULTIPOLYGON (((-3.613203 4... |\n",
       "| 260 | Valdeacederas | 2022 |  8 |   0 |   0 |  9.577289 | 1.26491004 | 1.890425 | 944.1770 | ⋯ | 0.5451465 | 0.6277335 | 1164622.0 | 22498.286 |  56 | 15 | 15 | TRUE | 686472 | MULTIPOLYGON (((-3.695806 4... |\n",
       "| 041 | Canillejas    | 2022 |  9 |   0 |   0 |  8.536554 | 3.12288116 | 2.418071 | 949.7179 | ⋯ | 0.4600730 | 0.5346482 | 1597474.5 | 17939.566 |  72 | 24 | 24 | TRUE | 686253 | MULTIPOLYGON (((-3.618131 4... |\n",
       "| 025 | Barajas       | 2022 | 49 | 292 | 280 |  9.065363 | 7.31388668 | 1.562328 | 941.8342 | ⋯ | 0.5920292 | 0.6590530 | 3816572.0 |  5893.247 | 196 | 77 | 77 | TRUE | 686237 | MULTIPOLYGON (((-3.600012 4... |\n",
       "| 046 | Castelló      | 2022 | 24 |   0 |   0 | 29.905728 | 0.01366852 | 2.564749 | 940.5669 | ⋯ | 0.4717699 | 0.5025317 |  870986.8 | 17738.501 |  46 | 21 | 21 | TRUE | 686258 | MULTIPOLYGON (((-3.691478 4... |\n",
       "\n"
      ],
      "text/plain": [
       "  GEOCODIGO DESBDT        ano  semana n_vacunas n_citas tmed      prec      \n",
       "1 259       V Centenario  2022 34       0         0     27.278748 0.16995588\n",
       "2 260       Valdeacederas 2022  8       0         0      9.577289 1.26491004\n",
       "3 041       Canillejas    2022  9       0         0      8.536554 3.12288116\n",
       "4 025       Barajas       2022 49     292       280      9.065363 7.31388668\n",
       "5 046       Castelló      2022 24       0         0     29.905728 0.01366852\n",
       "  velmedia presMax  ⋯ t11_1     t12_1     area      densidad_hab_km tuits_gripe\n",
       "1 2.297067 940.0420 ⋯ 0.6406787 0.7028586 2100118.9 15131.524        60        \n",
       "2 1.890425 944.1770 ⋯ 0.5451465 0.6277335 1164622.0 22498.286        56        \n",
       "3 2.418071 949.7179 ⋯ 0.4600730 0.5346482 1597474.5 17939.566        72        \n",
       "4 1.562328 941.8342 ⋯ 0.5920292 0.6590530 3816572.0  5893.247       196        \n",
       "5 2.564749 940.5669 ⋯ 0.4717699 0.5025317  870986.8 17738.501        46        \n",
       "  interes_gripe Target is_train CODBDT geometry                      \n",
       "1 24            24     TRUE     686471 MULTIPOLYGON (((-3.613203 4...\n",
       "2 15            15     TRUE     686472 MULTIPOLYGON (((-3.695806 4...\n",
       "3 24            24     TRUE     686253 MULTIPOLYGON (((-3.618131 4...\n",
       "4 77            77     TRUE     686237 MULTIPOLYGON (((-3.600012 4...\n",
       "5 21            21     TRUE     686258 MULTIPOLYGON (((-3.691478 4..."
      ]
     },
     "metadata": {},
     "output_type": "display_data"
    }
   ],
   "source": [
    "dataj |> slice_head(n = 5)"
   ]
  },
  {
   "cell_type": "markdown",
   "metadata": {
    "slideshow": {
     "slide_type": "slide"
    }
   },
   "source": [
    "## Data Visualization"
   ]
  },
  {
   "attachments": {},
   "cell_type": "markdown",
   "metadata": {
    "slideshow": {
     "slide_type": "slide"
    }
   },
   "source": [
    "### Map"
   ]
  },
  {
   "attachments": {},
   "cell_type": "markdown",
   "metadata": {},
   "source": [
    "Filtrar y agrupar los datos a mostrar en el mapa"
   ]
  },
  {
   "cell_type": "code",
   "execution_count": 58,
   "metadata": {
    "vscode": {
     "languageId": "r"
    }
   },
   "outputs": [],
   "source": [
    "mdata <- dataj |> \n",
    "  group_by(geometry) |> \n",
    "  summarise(valor = sum(n_vacunas, na.rm = TRUE))\n"
   ]
  },
  {
   "cell_type": "code",
   "execution_count": 59,
   "metadata": {
    "ExecuteTime": {
     "end_time": "2020-09-18T13:58:05.403726Z",
     "start_time": "2020-09-18T13:58:04.532379Z"
    },
    "slideshow": {
     "slide_type": "subslide"
    },
    "vscode": {
     "languageId": "r"
    }
   },
   "outputs": [
    {
     "ename": "ERROR",
     "evalue": "Error in polygonData.default(data): Don't know how to get path data from object of class tbl_df\n",
     "output_type": "error",
     "traceback": [
      "Error in polygonData.default(data): Don't know how to get path data from object of class tbl_df\nTraceback:\n",
      "1. addLegend(addPolygons(addTiles(leaflet(mdata)), color = \"#444444\", \n .     weight = 1, smoothFactor = 0.5, fillOpacity = 1, fillColor = ~pal(valor), \n .     highlightOptions = highlightOptions(color = \"white\", weight = 2, \n .         bringToFront = TRUE), label = ~paste0(valor, \" vacunas\")), \n .     \"bottomright\", pal = pal, values = ~valor, title = \"Número de vacunas\", \n .     labFormat = labelFormat(big.mark = \" \"), opacity = 1)",
      "2. evalFormula(values, data)",
      "3. evalAll(list)",
      "4. resolveFormula(x, data)",
      "5. eval(f[[2]], metaData(data), environment(f))",
      "6. metaData(data)",
      "7. getMapData(map)",
      "8. addPolygons(addTiles(leaflet(mdata)), color = \"#444444\", weight = 1, \n .     smoothFactor = 0.5, fillOpacity = 1, fillColor = ~pal(valor), \n .     highlightOptions = highlightOptions(color = \"white\", weight = 2, \n .         bringToFront = TRUE), label = ~paste0(valor, \" vacunas\"))",
      "9. derivePolygons(data, lng, lat, missing(lng), missing(lat), \"addPolygons\")",
      "10. polygonData(data)",
      "11. polygonData.default(data)",
      "12. stop(\"Don't know how to get path data from object of class \", \n  .     class(obj)[[1]])"
     ]
    }
   ],
   "source": [
    "\n",
    "pal <- colorNumeric(palette = \"Blues\", \n",
    "                    domain = mdata$valor)\n",
    "\n",
    "mdata |> \n",
    "  leaflet() |> \n",
    "  addTiles() |> \n",
    "  addPolygons(color = \"#444444\", \n",
    "              weight = 1, \n",
    "              smoothFactor = 0.5,\n",
    "              fillOpacity = 1,\n",
    "              fillColor = ~pal(valor),\n",
    "              highlightOptions = highlightOptions(color = \"white\", weight = 2,\n",
    "                                                  bringToFront = TRUE),\n",
    "              # popup = ~paste0(DESBDT, \" (\", GEOCODIGO, \")\"),\n",
    "              label = ~paste0(valor, \" vacunas\")) |> \n",
    "  addLegend(\"bottomright\", \n",
    "            pal = pal, \n",
    "            values = ~valor,\n",
    "            title = \"Número de vacunas\",\n",
    "            labFormat = labelFormat(big.mark = \" \"),\n",
    "            opacity = 1\n",
    "  )\n"
   ]
  },
  {
   "cell_type": "code",
   "execution_count": 60,
   "metadata": {},
   "outputs": [
    {
     "data": {
      "text/html": [
       "<table class=\"dataframe\">\n",
       "<caption>A tibble: 287 × 2</caption>\n",
       "<thead>\n",
       "\t<tr><th scope=col>geometry</th><th scope=col>valor</th></tr>\n",
       "\t<tr><th scope=col>&lt;MULTIPOLYGON [°]&gt;</th><th scope=col>&lt;dbl&gt;</th></tr>\n",
       "</thead>\n",
       "<tbody>\n",
       "\t<tr><td>MULTIPOLYGON (((-3.613203 4...</td><td>12135</td></tr>\n",
       "\t<tr><td>MULTIPOLYGON (((-3.695806 4...</td><td>10043</td></tr>\n",
       "\t<tr><td>MULTIPOLYGON (((-3.618131 4...</td><td>10910</td></tr>\n",
       "\t<tr><td>MULTIPOLYGON (((-3.600012 4...</td><td> 8649</td></tr>\n",
       "\t<tr><td>MULTIPOLYGON (((-3.691478 4...</td><td> 6048</td></tr>\n",
       "\t<tr><td>MULTIPOLYGON (((-3.614098 4...</td><td>19450</td></tr>\n",
       "\t<tr><td>MULTIPOLYGON (((-3.646656 4...</td><td>13013</td></tr>\n",
       "\t<tr><td>MULTIPOLYGON (((-3.848886 4...</td><td> 7868</td></tr>\n",
       "\t<tr><td>MULTIPOLYGON (((-3.817904 4...</td><td> 7547</td></tr>\n",
       "\t<tr><td>MULTIPOLYGON (((-3.228713 4...</td><td> 7930</td></tr>\n",
       "\t<tr><td>MULTIPOLYGON EMPTY</td><td>    0</td></tr>\n",
       "\t<tr><td>MULTIPOLYGON (((-3.713705 4...</td><td> 6073</td></tr>\n",
       "\t<tr><td>MULTIPOLYGON (((-3.437456 4...</td><td>12709</td></tr>\n",
       "\t<tr><td>MULTIPOLYGON (((-3.866129 4...</td><td>14707</td></tr>\n",
       "\t<tr><td>MULTIPOLYGON (((-3.723906 4...</td><td> 7382</td></tr>\n",
       "\t<tr><td>MULTIPOLYGON (((-3.644925 4...</td><td>11781</td></tr>\n",
       "\t<tr><td>MULTIPOLYGON (((-3.692871 4...</td><td> 9827</td></tr>\n",
       "\t<tr><td>MULTIPOLYGON (((-3.623951 4...</td><td> 6211</td></tr>\n",
       "\t<tr><td>MULTIPOLYGON (((-3.771248 4...</td><td>18232</td></tr>\n",
       "\t<tr><td>MULTIPOLYGON (((-3.641624 4...</td><td> 8263</td></tr>\n",
       "\t<tr><td>MULTIPOLYGON (((-3.751712 4...</td><td>16930</td></tr>\n",
       "\t<tr><td>MULTIPOLYGON (((-3.428912 4...</td><td>13627</td></tr>\n",
       "\t<tr><td>MULTIPOLYGON (((-3.796306 4...</td><td>11094</td></tr>\n",
       "\t<tr><td>MULTIPOLYGON (((-3.548646 4...</td><td>10207</td></tr>\n",
       "\t<tr><td>MULTIPOLYGON (((-3.705723 4...</td><td>12271</td></tr>\n",
       "\t<tr><td>MULTIPOLYGON (((-3.650465 4...</td><td> 6832</td></tr>\n",
       "\t<tr><td>MULTIPOLYGON (((-3.833568 4...</td><td>13005</td></tr>\n",
       "\t<tr><td>MULTIPOLYGON (((-3.88887 40...</td><td> 2571</td></tr>\n",
       "\t<tr><td>MULTIPOLYGON (((-3.856334 4...</td><td> 4660</td></tr>\n",
       "\t<tr><td>MULTIPOLYGON (((-3.672373 4...</td><td>11282</td></tr>\n",
       "\t<tr><td>⋮</td><td>⋮</td></tr>\n",
       "\t<tr><td>MULTIPOLYGON (((-4.069496 4...</td><td>16789</td></tr>\n",
       "\t<tr><td>MULTIPOLYGON (((-3.628678 4...</td><td> 7816</td></tr>\n",
       "\t<tr><td>MULTIPOLYGON (((-3.673603 4...</td><td> 8101</td></tr>\n",
       "\t<tr><td>MULTIPOLYGON (((-3.643048 4...</td><td> 8451</td></tr>\n",
       "\t<tr><td>MULTIPOLYGON (((-3.633037 4...</td><td> 7515</td></tr>\n",
       "\t<tr><td>MULTIPOLYGON (((-3.561629 4...</td><td>10498</td></tr>\n",
       "\t<tr><td>MULTIPOLYGON (((-3.497782 4...</td><td> 7963</td></tr>\n",
       "\t<tr><td>MULTIPOLYGON (((-3.672677 4...</td><td>12164</td></tr>\n",
       "\t<tr><td>MULTIPOLYGON (((-3.699509 4...</td><td> 7745</td></tr>\n",
       "\t<tr><td>MULTIPOLYGON (((-3.74983 40...</td><td> 7218</td></tr>\n",
       "\t<tr><td>MULTIPOLYGON (((-3.825949 4...</td><td> 4013</td></tr>\n",
       "\t<tr><td>MULTIPOLYGON (((-3.757539 4...</td><td> 5302</td></tr>\n",
       "\t<tr><td>MULTIPOLYGON (((-3.900817 4...</td><td>14582</td></tr>\n",
       "\t<tr><td>MULTIPOLYGON (((-3.756946 4...</td><td>10477</td></tr>\n",
       "\t<tr><td>MULTIPOLYGON (((-3.773429 4...</td><td> 5088</td></tr>\n",
       "\t<tr><td>MULTIPOLYGON (((-4.056387 4...</td><td> 5110</td></tr>\n",
       "\t<tr><td>MULTIPOLYGON (((-3.703501 4...</td><td> 6125</td></tr>\n",
       "\t<tr><td>MULTIPOLYGON (((-3.707012 4...</td><td>10820</td></tr>\n",
       "\t<tr><td>MULTIPOLYGON (((-3.741272 4...</td><td> 7055</td></tr>\n",
       "\t<tr><td>MULTIPOLYGON (((-3.636978 4...</td><td> 7422</td></tr>\n",
       "\t<tr><td>MULTIPOLYGON (((-3.456032 4...</td><td> 3079</td></tr>\n",
       "\t<tr><td>MULTIPOLYGON (((-3.772913 4...</td><td> 5917</td></tr>\n",
       "\t<tr><td>MULTIPOLYGON (((-4.187815 4...</td><td> 3823</td></tr>\n",
       "\t<tr><td>MULTIPOLYGON (((-3.72475 40...</td><td> 6726</td></tr>\n",
       "\t<tr><td>MULTIPOLYGON (((-3.544072 4...</td><td> 7602</td></tr>\n",
       "\t<tr><td>MULTIPOLYGON (((-4.012264 4...</td><td> 5263</td></tr>\n",
       "\t<tr><td>MULTIPOLYGON (((-3.422942 4...</td><td>    0</td></tr>\n",
       "\t<tr><td>MULTIPOLYGON (((-3.30024 40...</td><td>    0</td></tr>\n",
       "\t<tr><td>MULTIPOLYGON (((-3.30475 40...</td><td>    0</td></tr>\n",
       "\t<tr><td>MULTIPOLYGON (((-3.42463 40...</td><td>    0</td></tr>\n",
       "</tbody>\n",
       "</table>\n"
      ],
      "text/latex": [
       "A tibble: 287 × 2\n",
       "\\begin{tabular}{ll}\n",
       " geometry & valor\\\\\n",
       " <MULTIPOLYGON {[}°{]}> & <dbl>\\\\\n",
       "\\hline\n",
       "\t MULTIPOLYGON (((-3.613203 4... & 12135\\\\\n",
       "\t MULTIPOLYGON (((-3.695806 4... & 10043\\\\\n",
       "\t MULTIPOLYGON (((-3.618131 4... & 10910\\\\\n",
       "\t MULTIPOLYGON (((-3.600012 4... &  8649\\\\\n",
       "\t MULTIPOLYGON (((-3.691478 4... &  6048\\\\\n",
       "\t MULTIPOLYGON (((-3.614098 4... & 19450\\\\\n",
       "\t MULTIPOLYGON (((-3.646656 4... & 13013\\\\\n",
       "\t MULTIPOLYGON (((-3.848886 4... &  7868\\\\\n",
       "\t MULTIPOLYGON (((-3.817904 4... &  7547\\\\\n",
       "\t MULTIPOLYGON (((-3.228713 4... &  7930\\\\\n",
       "\t MULTIPOLYGON EMPTY &     0\\\\\n",
       "\t MULTIPOLYGON (((-3.713705 4... &  6073\\\\\n",
       "\t MULTIPOLYGON (((-3.437456 4... & 12709\\\\\n",
       "\t MULTIPOLYGON (((-3.866129 4... & 14707\\\\\n",
       "\t MULTIPOLYGON (((-3.723906 4... &  7382\\\\\n",
       "\t MULTIPOLYGON (((-3.644925 4... & 11781\\\\\n",
       "\t MULTIPOLYGON (((-3.692871 4... &  9827\\\\\n",
       "\t MULTIPOLYGON (((-3.623951 4... &  6211\\\\\n",
       "\t MULTIPOLYGON (((-3.771248 4... & 18232\\\\\n",
       "\t MULTIPOLYGON (((-3.641624 4... &  8263\\\\\n",
       "\t MULTIPOLYGON (((-3.751712 4... & 16930\\\\\n",
       "\t MULTIPOLYGON (((-3.428912 4... & 13627\\\\\n",
       "\t MULTIPOLYGON (((-3.796306 4... & 11094\\\\\n",
       "\t MULTIPOLYGON (((-3.548646 4... & 10207\\\\\n",
       "\t MULTIPOLYGON (((-3.705723 4... & 12271\\\\\n",
       "\t MULTIPOLYGON (((-3.650465 4... &  6832\\\\\n",
       "\t MULTIPOLYGON (((-3.833568 4... & 13005\\\\\n",
       "\t MULTIPOLYGON (((-3.88887 40... &  2571\\\\\n",
       "\t MULTIPOLYGON (((-3.856334 4... &  4660\\\\\n",
       "\t MULTIPOLYGON (((-3.672373 4... & 11282\\\\\n",
       "\t ⋮ & ⋮\\\\\n",
       "\t MULTIPOLYGON (((-4.069496 4... & 16789\\\\\n",
       "\t MULTIPOLYGON (((-3.628678 4... &  7816\\\\\n",
       "\t MULTIPOLYGON (((-3.673603 4... &  8101\\\\\n",
       "\t MULTIPOLYGON (((-3.643048 4... &  8451\\\\\n",
       "\t MULTIPOLYGON (((-3.633037 4... &  7515\\\\\n",
       "\t MULTIPOLYGON (((-3.561629 4... & 10498\\\\\n",
       "\t MULTIPOLYGON (((-3.497782 4... &  7963\\\\\n",
       "\t MULTIPOLYGON (((-3.672677 4... & 12164\\\\\n",
       "\t MULTIPOLYGON (((-3.699509 4... &  7745\\\\\n",
       "\t MULTIPOLYGON (((-3.74983 40... &  7218\\\\\n",
       "\t MULTIPOLYGON (((-3.825949 4... &  4013\\\\\n",
       "\t MULTIPOLYGON (((-3.757539 4... &  5302\\\\\n",
       "\t MULTIPOLYGON (((-3.900817 4... & 14582\\\\\n",
       "\t MULTIPOLYGON (((-3.756946 4... & 10477\\\\\n",
       "\t MULTIPOLYGON (((-3.773429 4... &  5088\\\\\n",
       "\t MULTIPOLYGON (((-4.056387 4... &  5110\\\\\n",
       "\t MULTIPOLYGON (((-3.703501 4... &  6125\\\\\n",
       "\t MULTIPOLYGON (((-3.707012 4... & 10820\\\\\n",
       "\t MULTIPOLYGON (((-3.741272 4... &  7055\\\\\n",
       "\t MULTIPOLYGON (((-3.636978 4... &  7422\\\\\n",
       "\t MULTIPOLYGON (((-3.456032 4... &  3079\\\\\n",
       "\t MULTIPOLYGON (((-3.772913 4... &  5917\\\\\n",
       "\t MULTIPOLYGON (((-4.187815 4... &  3823\\\\\n",
       "\t MULTIPOLYGON (((-3.72475 40... &  6726\\\\\n",
       "\t MULTIPOLYGON (((-3.544072 4... &  7602\\\\\n",
       "\t MULTIPOLYGON (((-4.012264 4... &  5263\\\\\n",
       "\t MULTIPOLYGON (((-3.422942 4... &     0\\\\\n",
       "\t MULTIPOLYGON (((-3.30024 40... &     0\\\\\n",
       "\t MULTIPOLYGON (((-3.30475 40... &     0\\\\\n",
       "\t MULTIPOLYGON (((-3.42463 40... &     0\\\\\n",
       "\\end{tabular}\n"
      ],
      "text/markdown": [
       "\n",
       "A tibble: 287 × 2\n",
       "\n",
       "| geometry &lt;MULTIPOLYGON [°]&gt; | valor &lt;dbl&gt; |\n",
       "|---|---|\n",
       "| MULTIPOLYGON (((-3.613203 4... | 12135 |\n",
       "| MULTIPOLYGON (((-3.695806 4... | 10043 |\n",
       "| MULTIPOLYGON (((-3.618131 4... | 10910 |\n",
       "| MULTIPOLYGON (((-3.600012 4... |  8649 |\n",
       "| MULTIPOLYGON (((-3.691478 4... |  6048 |\n",
       "| MULTIPOLYGON (((-3.614098 4... | 19450 |\n",
       "| MULTIPOLYGON (((-3.646656 4... | 13013 |\n",
       "| MULTIPOLYGON (((-3.848886 4... |  7868 |\n",
       "| MULTIPOLYGON (((-3.817904 4... |  7547 |\n",
       "| MULTIPOLYGON (((-3.228713 4... |  7930 |\n",
       "| MULTIPOLYGON EMPTY |     0 |\n",
       "| MULTIPOLYGON (((-3.713705 4... |  6073 |\n",
       "| MULTIPOLYGON (((-3.437456 4... | 12709 |\n",
       "| MULTIPOLYGON (((-3.866129 4... | 14707 |\n",
       "| MULTIPOLYGON (((-3.723906 4... |  7382 |\n",
       "| MULTIPOLYGON (((-3.644925 4... | 11781 |\n",
       "| MULTIPOLYGON (((-3.692871 4... |  9827 |\n",
       "| MULTIPOLYGON (((-3.623951 4... |  6211 |\n",
       "| MULTIPOLYGON (((-3.771248 4... | 18232 |\n",
       "| MULTIPOLYGON (((-3.641624 4... |  8263 |\n",
       "| MULTIPOLYGON (((-3.751712 4... | 16930 |\n",
       "| MULTIPOLYGON (((-3.428912 4... | 13627 |\n",
       "| MULTIPOLYGON (((-3.796306 4... | 11094 |\n",
       "| MULTIPOLYGON (((-3.548646 4... | 10207 |\n",
       "| MULTIPOLYGON (((-3.705723 4... | 12271 |\n",
       "| MULTIPOLYGON (((-3.650465 4... |  6832 |\n",
       "| MULTIPOLYGON (((-3.833568 4... | 13005 |\n",
       "| MULTIPOLYGON (((-3.88887 40... |  2571 |\n",
       "| MULTIPOLYGON (((-3.856334 4... |  4660 |\n",
       "| MULTIPOLYGON (((-3.672373 4... | 11282 |\n",
       "| ⋮ | ⋮ |\n",
       "| MULTIPOLYGON (((-4.069496 4... | 16789 |\n",
       "| MULTIPOLYGON (((-3.628678 4... |  7816 |\n",
       "| MULTIPOLYGON (((-3.673603 4... |  8101 |\n",
       "| MULTIPOLYGON (((-3.643048 4... |  8451 |\n",
       "| MULTIPOLYGON (((-3.633037 4... |  7515 |\n",
       "| MULTIPOLYGON (((-3.561629 4... | 10498 |\n",
       "| MULTIPOLYGON (((-3.497782 4... |  7963 |\n",
       "| MULTIPOLYGON (((-3.672677 4... | 12164 |\n",
       "| MULTIPOLYGON (((-3.699509 4... |  7745 |\n",
       "| MULTIPOLYGON (((-3.74983 40... |  7218 |\n",
       "| MULTIPOLYGON (((-3.825949 4... |  4013 |\n",
       "| MULTIPOLYGON (((-3.757539 4... |  5302 |\n",
       "| MULTIPOLYGON (((-3.900817 4... | 14582 |\n",
       "| MULTIPOLYGON (((-3.756946 4... | 10477 |\n",
       "| MULTIPOLYGON (((-3.773429 4... |  5088 |\n",
       "| MULTIPOLYGON (((-4.056387 4... |  5110 |\n",
       "| MULTIPOLYGON (((-3.703501 4... |  6125 |\n",
       "| MULTIPOLYGON (((-3.707012 4... | 10820 |\n",
       "| MULTIPOLYGON (((-3.741272 4... |  7055 |\n",
       "| MULTIPOLYGON (((-3.636978 4... |  7422 |\n",
       "| MULTIPOLYGON (((-3.456032 4... |  3079 |\n",
       "| MULTIPOLYGON (((-3.772913 4... |  5917 |\n",
       "| MULTIPOLYGON (((-4.187815 4... |  3823 |\n",
       "| MULTIPOLYGON (((-3.72475 40... |  6726 |\n",
       "| MULTIPOLYGON (((-3.544072 4... |  7602 |\n",
       "| MULTIPOLYGON (((-4.012264 4... |  5263 |\n",
       "| MULTIPOLYGON (((-3.422942 4... |     0 |\n",
       "| MULTIPOLYGON (((-3.30024 40... |     0 |\n",
       "| MULTIPOLYGON (((-3.30475 40... |     0 |\n",
       "| MULTIPOLYGON (((-3.42463 40... |     0 |\n",
       "\n"
      ],
      "text/plain": [
       "    geometry                       valor\n",
       "1   MULTIPOLYGON (((-3.613203 4... 12135\n",
       "2   MULTIPOLYGON (((-3.695806 4... 10043\n",
       "3   MULTIPOLYGON (((-3.618131 4... 10910\n",
       "4   MULTIPOLYGON (((-3.600012 4...  8649\n",
       "5   MULTIPOLYGON (((-3.691478 4...  6048\n",
       "6   MULTIPOLYGON (((-3.614098 4... 19450\n",
       "7   MULTIPOLYGON (((-3.646656 4... 13013\n",
       "8   MULTIPOLYGON (((-3.848886 4...  7868\n",
       "9   MULTIPOLYGON (((-3.817904 4...  7547\n",
       "10  MULTIPOLYGON (((-3.228713 4...  7930\n",
       "11  MULTIPOLYGON EMPTY                 0\n",
       "12  MULTIPOLYGON (((-3.713705 4...  6073\n",
       "13  MULTIPOLYGON (((-3.437456 4... 12709\n",
       "14  MULTIPOLYGON (((-3.866129 4... 14707\n",
       "15  MULTIPOLYGON (((-3.723906 4...  7382\n",
       "16  MULTIPOLYGON (((-3.644925 4... 11781\n",
       "17  MULTIPOLYGON (((-3.692871 4...  9827\n",
       "18  MULTIPOLYGON (((-3.623951 4...  6211\n",
       "19  MULTIPOLYGON (((-3.771248 4... 18232\n",
       "20  MULTIPOLYGON (((-3.641624 4...  8263\n",
       "21  MULTIPOLYGON (((-3.751712 4... 16930\n",
       "22  MULTIPOLYGON (((-3.428912 4... 13627\n",
       "23  MULTIPOLYGON (((-3.796306 4... 11094\n",
       "24  MULTIPOLYGON (((-3.548646 4... 10207\n",
       "25  MULTIPOLYGON (((-3.705723 4... 12271\n",
       "26  MULTIPOLYGON (((-3.650465 4...  6832\n",
       "27  MULTIPOLYGON (((-3.833568 4... 13005\n",
       "28  MULTIPOLYGON (((-3.88887 40...  2571\n",
       "29  MULTIPOLYGON (((-3.856334 4...  4660\n",
       "30  MULTIPOLYGON (((-3.672373 4... 11282\n",
       "⋮   ⋮                              ⋮    \n",
       "258 MULTIPOLYGON (((-4.069496 4... 16789\n",
       "259 MULTIPOLYGON (((-3.628678 4...  7816\n",
       "260 MULTIPOLYGON (((-3.673603 4...  8101\n",
       "261 MULTIPOLYGON (((-3.643048 4...  8451\n",
       "262 MULTIPOLYGON (((-3.633037 4...  7515\n",
       "263 MULTIPOLYGON (((-3.561629 4... 10498\n",
       "264 MULTIPOLYGON (((-3.497782 4...  7963\n",
       "265 MULTIPOLYGON (((-3.672677 4... 12164\n",
       "266 MULTIPOLYGON (((-3.699509 4...  7745\n",
       "267 MULTIPOLYGON (((-3.74983 40...  7218\n",
       "268 MULTIPOLYGON (((-3.825949 4...  4013\n",
       "269 MULTIPOLYGON (((-3.757539 4...  5302\n",
       "270 MULTIPOLYGON (((-3.900817 4... 14582\n",
       "271 MULTIPOLYGON (((-3.756946 4... 10477\n",
       "272 MULTIPOLYGON (((-3.773429 4...  5088\n",
       "273 MULTIPOLYGON (((-4.056387 4...  5110\n",
       "274 MULTIPOLYGON (((-3.703501 4...  6125\n",
       "275 MULTIPOLYGON (((-3.707012 4... 10820\n",
       "276 MULTIPOLYGON (((-3.741272 4...  7055\n",
       "277 MULTIPOLYGON (((-3.636978 4...  7422\n",
       "278 MULTIPOLYGON (((-3.456032 4...  3079\n",
       "279 MULTIPOLYGON (((-3.772913 4...  5917\n",
       "280 MULTIPOLYGON (((-4.187815 4...  3823\n",
       "281 MULTIPOLYGON (((-3.72475 40...  6726\n",
       "282 MULTIPOLYGON (((-3.544072 4...  7602\n",
       "283 MULTIPOLYGON (((-4.012264 4...  5263\n",
       "284 MULTIPOLYGON (((-3.422942 4...     0\n",
       "285 MULTIPOLYGON (((-3.30024 40...     0\n",
       "286 MULTIPOLYGON (((-3.30475 40...     0\n",
       "287 MULTIPOLYGON (((-3.42463 40...     0"
      ]
     },
     "metadata": {},
     "output_type": "display_data"
    }
   ],
   "source": [
    "mdata"
   ]
  },
  {
   "cell_type": "markdown",
   "metadata": {},
   "source": [
    "## <font color='#2874a6'>REPORT</font>"
   ]
  },
  {
   "cell_type": "markdown",
   "metadata": {},
   "source": [
    "A continuación se realizará un informe de las acciones realizadas"
   ]
  },
  {
   "cell_type": "markdown",
   "metadata": {},
   "source": [
    "## <font color=' #2874a6 '>Main Actions Carried Out</font>"
   ]
  },
  {
   "attachments": {},
   "cell_type": "markdown",
   "metadata": {},
   "source": [
    "- Se han realizado visualizaciones adicionales de los datos del caso de uso"
   ]
  },
  {
   "cell_type": "markdown",
   "metadata": {},
   "source": [
    "## <font color=' #2874a6 '>Main Conclusions</font>"
   ]
  },
  {
   "cell_type": "markdown",
   "metadata": {},
   "source": [
    "- Los datos son adecuados para el caso de uso\n"
   ]
  },
  {
   "cell_type": "markdown",
   "metadata": {},
   "source": [
    "## <font color='RED'>CODE TO DEPLOY (PILOT)</font>\n",
    "\n",
    "A continuación se incluirá el código que deba ser llevado a despliegue para producción, dado que se entiende efectúa operaciones necesarias sobre los datos en la ejecución del prototipo"
   ]
  },
  {
   "cell_type": "markdown",
   "metadata": {},
   "source": [
    "<font color=' red '><b>Description</b></font>\n",
    "\n",
    "- No hay nada que desplegar en el piloto, ya que estos datos son estáticos o en todo caso cambian con muy poca frecuencia, altamente improbable durante el proyecto.\n"
   ]
  },
  {
   "cell_type": "markdown",
   "metadata": {},
   "source": [
    "<font color=' red '><b>CODE</b></font>"
   ]
  },
  {
   "cell_type": "code",
   "execution_count": null,
   "metadata": {
    "vscode": {
     "languageId": "r"
    }
   },
   "outputs": [],
   "source": []
  },
  {
   "cell_type": "code",
   "execution_count": null,
   "metadata": {},
   "outputs": [],
   "source": []
  },
  {
   "cell_type": "code",
   "execution_count": null,
   "metadata": {},
   "outputs": [],
   "source": []
  },
  {
   "cell_type": "code",
   "execution_count": null,
   "metadata": {},
   "outputs": [],
   "source": []
  },
  {
   "cell_type": "code",
   "execution_count": null,
   "metadata": {},
   "outputs": [],
   "source": []
  },
  {
   "cell_type": "code",
   "execution_count": null,
   "metadata": {},
   "outputs": [],
   "source": []
  },
  {
   "cell_type": "code",
   "execution_count": null,
   "metadata": {},
   "outputs": [],
   "source": []
  },
  {
   "cell_type": "code",
   "execution_count": null,
   "metadata": {},
   "outputs": [],
   "source": []
  },
  {
   "cell_type": "code",
   "execution_count": null,
   "metadata": {},
   "outputs": [],
   "source": []
  }
 ],
 "metadata": {
  "anaconda-cloud": {},
  "celltoolbar": "Slideshow",
  "hide_input": false,
  "kernelspec": {
   "display_name": "R",
   "language": "R",
   "name": "ir"
  },
  "language_info": {
   "codemirror_mode": "r",
   "file_extension": ".r",
   "mimetype": "text/x-r-source",
   "name": "R",
   "pygments_lexer": "r",
   "version": "4.1.2"
  },
  "latex_envs": {
   "LaTeX_envs_menu_present": true,
   "autoclose": false,
   "autocomplete": true,
   "bibliofile": "biblio.bib",
   "cite_by": "apalike",
   "current_citInitial": 1,
   "eqLabelWithNumbers": true,
   "eqNumInitial": 1,
   "hotkeys": {
    "equation": "Ctrl-E",
    "itemize": "Ctrl-I"
   },
   "labels_anchors": false,
   "latex_user_defs": false,
   "report_style_numbering": true,
   "user_envs_cfg": false
  },
  "toc": {
   "base_numbering": 1,
   "nav_menu": {},
   "number_sections": true,
   "sideBar": true,
   "skip_h1_title": true,
   "title_cell": "Table of Contents",
   "title_sidebar": "Contents",
   "toc_cell": true,
   "toc_position": {
    "height": "calc(100% - 180px)",
    "left": "10px",
    "top": "150px",
    "width": "201.6px"
   },
   "toc_section_display": true,
   "toc_window_display": true
  },
  "varInspector": {
   "cols": {
    "lenName": 16,
    "lenType": 16,
    "lenVar": 40
   },
   "kernels_config": {
    "python": {
     "delete_cmd_postfix": "",
     "delete_cmd_prefix": "del ",
     "library": "var_list.py",
     "varRefreshCmd": "print(var_dic_list())"
    },
    "r": {
     "delete_cmd_postfix": ") ",
     "delete_cmd_prefix": "rm(",
     "library": "var_list.r",
     "varRefreshCmd": "cat(var_dic_list()) "
    }
   },
   "types_to_exclude": [
    "module",
    "function",
    "builtin_function_or_method",
    "instance",
    "_Feature"
   ],
   "window_display": false
  }
 },
 "nbformat": 4,
 "nbformat_minor": 4
}
