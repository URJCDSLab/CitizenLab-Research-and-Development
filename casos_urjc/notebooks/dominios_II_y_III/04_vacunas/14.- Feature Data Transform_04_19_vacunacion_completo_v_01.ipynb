{
 "cells": [
  {
   "cell_type": "markdown",
   "metadata": {
    "slideshow": {
     "slide_type": "slide"
    }
   },
   "source": [
    "<img src=\".\\images\\Logo.png\" width=150 align=\"left\" /> <img src=\".\\images\\Logo2.jpg\" width=450 align=\"right\" />"
   ]
  },
  {
   "cell_type": "markdown",
   "metadata": {
    "slideshow": {
     "slide_type": "slide"
    }
   },
   "source": [
    "\n",
    "# <center><font color= #1e8449 > <b>CU04_Optimización de vacunas</font></center>"
   ]
  },
  {
   "cell_type": "markdown",
   "metadata": {
    "slideshow": {
     "slide_type": "slide"
    }
   },
   "source": [
    "<font color='steelblue'><b>Citizenlab Data Science Methodology > III - Feature Engineering Domain </font>\n",
    "***\n",
    "> # <font color='steelblue'> <b>14.- Feature Data Transform</font>"
   ]
  },
  {
   "cell_type": "markdown",
   "metadata": {
    "slideshow": {
     "slide_type": "slide"
    }
   },
   "source": [
    "<font color='steelblue'>Feature Data Transform is the process that allows change (if is required) the type and/or distribution of data features (e.g. scaling, normalizing o standardizing data features).</font>\n"
   ]
  },
  {
   "cell_type": "markdown",
   "metadata": {
    "slideshow": {
     "slide_type": "slide"
    }
   },
   "source": [
    "## <font color='steelblue'>Tasks</font>"
   ]
  },
  {
   "cell_type": "markdown",
   "metadata": {
    "slideshow": {
     "slide_type": "slide"
    }
   },
   "source": [
    "<font color='steelblue'><b>Perform Basic Data Transforms\t\t\t\t\t\t\n",
    "    \n",
    "<font color='steelblue'><b>Perform Categorical Variable Transformation\t\t\t\t\t\t\n",
    "- Encode Transformation\t\t\t\t\t\n",
    "    - One-hot encoding\t\t\t\t\n",
    "    - Ordinal encoding\t\t\t\t\n",
    "    - Dummy encoding\t\t\t\t\n",
    "- Evaluate a Logistic Regression model\t\t\t\t\t\n",
    "- Consider Embedding if text mining context\t\t\t\t\t\n",
    "    \n",
    "<font color='steelblue'><b>Perform Numeric Variable Transformation\t\t\t\t\t\t\n",
    "- Scale Transformation\t\t\t\t\t\n",
    "    - Normalization\t\t\t\t\n",
    "    - Standardization\t\t\t\t\n",
    "    - IQR Robust Scaler Transform\t\t\t\t\n",
    "    - Evaluate a KNN model\t\t\t\t\n",
    "- Distribution Transformation\t\t\t\t\t\n",
    "    - Discretization\t\t\t\t\n",
    "        - Uniform\t\t\t\n",
    "        - Clustered(k-Means)\t\t\t\n",
    "        - Quantile\t\t\t\n",
    "            - Normal Quantile\t\t\n",
    "            - Uniform Quantile\t\t\n",
    "            - Evaluate a KNN model\t\t\n",
    "        - Evaluate a KNN model\t\t\t\n",
    "    - Power transforms (Make Distributions More Gaussian)\t\t\t\t\n",
    "        - Box-Cox Transform\t\t\t\n",
    "        - Yeo-Johnson Transform\t\t\t\n",
    "        - Evaluate a KNN model\t\t\t\n"
   ]
  },
  {
   "attachments": {},
   "cell_type": "markdown",
   "metadata": {},
   "source": [
    "## Consideraciones casos CitizenLab programados en R\n",
    "\n",
    "* Algunas de las tareas de este proceso se han realizado en los notebooks del proceso 05 Data Collection porque eran necesarias para las tareas ETL. En esos casos, en este notebook se referencia al notebook del proceso 05 correspondiente\n",
    "* Otras tareas típicas de este proceso se realizan en los notebooks del dominio IV al ser más eficiente realizarlas en el propio pipeline de modelización.\n",
    "* Por tanto en los notebooks de este proceso de manera general se incluyen las comprobaciones necesarias, y comentarios si procede\n",
    "* Las tareas del proceso se van a aplicar solo a los archivos que forman parte del despliegue, ya que hay muchos archivos intermedios que no procede pasar por este proceso\n",
    "* El nombre de archivo del notebook hace referencia al nombre de archivo del proceso 05 al que se aplica este proceso, por eso pueden no ser correlativa la numeración\n",
    "* Las comprobaciones se van a realizar teniendo en cuenta que el lenguaje utilizado en el despliegue de este caso es R"
   ]
  },
  {
   "cell_type": "markdown",
   "metadata": {},
   "source": [
    "## <font color='green'>File</font>"
   ]
  },
  {
   "cell_type": "markdown",
   "metadata": {},
   "source": [
    "- <font color='steelblue'> <b>Input File: CU_04_08_20_vacunacion_gripe_train_and_test.csv</font>\n",
    "- <font color='steelblue'> <b>Output File: No aplica</font>"
   ]
  },
  {
   "cell_type": "markdown",
   "metadata": {},
   "source": [
    "### Encoding\n",
    "\n",
    "Con la siguiente expresión se evitan problemas con el encoding al ejecutar el notebook. Es posible que deba ser eliminada o adaptada a la máquina en la que se ejecute el código."
   ]
  },
  {
   "cell_type": "code",
   "execution_count": 1,
   "metadata": {
    "vscode": {
     "languageId": "r"
    }
   },
   "outputs": [
    {
     "name": "stderr",
     "output_type": "stream",
     "text": [
      "Warning message in Sys.setlocale(category = \"LC_ALL\", locale = \"es_ES.UTF-8\"):\n",
      "“OS reports request to set locale to \"es_ES.UTF-8\" cannot be honored”\n"
     ]
    },
    {
     "data": {
      "text/html": [
       "''"
      ],
      "text/latex": [
       "''"
      ],
      "text/markdown": [
       "''"
      ],
      "text/plain": [
       "[1] \"\""
      ]
     },
     "metadata": {},
     "output_type": "display_data"
    }
   ],
   "source": [
    "Sys.setlocale(category = \"LC_ALL\", locale = \"es_ES.UTF-8\")"
   ]
  },
  {
   "cell_type": "markdown",
   "metadata": {},
   "source": [
    "## <font color='green'>Settings</font>"
   ]
  },
  {
   "cell_type": "markdown",
   "metadata": {},
   "source": [
    "### Libraries to use"
   ]
  },
  {
   "cell_type": "code",
   "execution_count": 2,
   "metadata": {
    "vscode": {
     "languageId": "r"
    }
   },
   "outputs": [
    {
     "name": "stderr",
     "output_type": "stream",
     "text": [
      "\n",
      "Attaching package: ‘dplyr’\n",
      "\n",
      "\n",
      "The following objects are masked from ‘package:stats’:\n",
      "\n",
      "    filter, lag\n",
      "\n",
      "\n",
      "The following objects are masked from ‘package:base’:\n",
      "\n",
      "    intersect, setdiff, setequal, union\n",
      "\n",
      "\n",
      "\n",
      "Attaching package: ‘lubridate’\n",
      "\n",
      "\n",
      "The following objects are masked from ‘package:base’:\n",
      "\n",
      "    date, intersect, setdiff, union\n",
      "\n",
      "\n"
     ]
    }
   ],
   "source": [
    "library(readr)\n",
    "library(dplyr)\n",
    "library(tidyr)\n",
    "library(forcats)\n",
    "library(lubridate)\n"
   ]
  },
  {
   "cell_type": "markdown",
   "metadata": {},
   "source": [
    "### Paths"
   ]
  },
  {
   "cell_type": "code",
   "execution_count": 3,
   "metadata": {
    "vscode": {
     "languageId": "r"
    }
   },
   "outputs": [],
   "source": [
    "iPath <- \"Data/Input/\"\n",
    "oPath <- \"Data/Output/\""
   ]
  },
  {
   "cell_type": "markdown",
   "metadata": {},
   "source": [
    "## <font color='green'>Data Load</font>"
   ]
  },
  {
   "cell_type": "markdown",
   "metadata": {},
   "source": [
    "<font color='tomato'><b> OPCION A:</b> Seleccionar fichero en ventana para mayor comodidad</font> "
   ]
  },
  {
   "cell_type": "markdown",
   "metadata": {},
   "source": [
    "Data load using the {tcltk} package. Ucomment the line if using this option"
   ]
  },
  {
   "cell_type": "code",
   "execution_count": 4,
   "metadata": {
    "vscode": {
     "languageId": "r"
    }
   },
   "outputs": [],
   "source": [
    "# file_data <- tcltk::tk_choose.files(multi = FALSE)"
   ]
  },
  {
   "cell_type": "markdown",
   "metadata": {},
   "source": [
    "<font color='tomato'><b> OPCION B:</b> Especificar el nombre de archivo</font>\n",
    "\n"
   ]
  },
  {
   "cell_type": "code",
   "execution_count": 5,
   "metadata": {
    "vscode": {
     "languageId": "r"
    }
   },
   "outputs": [
    {
     "name": "stdout",
     "output_type": "stream",
     "text": [
      "Se leerán datos del archivo:  Data/Input/CU_04_08_20_vacunacion_gripe_train_and_test.csv"
     ]
    }
   ],
   "source": [
    "iFile <- \"CU_04_08_20_vacunacion_gripe_train_and_test.csv\"\n",
    "file_data <- paste0(iPath, iFile)\n",
    "\n",
    "if(file.exists(file_data)){\n",
    "    cat(\"Se leerán datos del archivo: \", file_data)\n",
    "} else{\n",
    "    warning(\"Cuidado: el archivo no existe.\")\n",
    "}\n"
   ]
  },
  {
   "cell_type": "markdown",
   "metadata": {},
   "source": [
    "#### Data file to dataframe\n",
    "\n",
    "Usar la función adecuada según el formato de entrada (xlsx, csv, json, ...)"
   ]
  },
  {
   "cell_type": "code",
   "execution_count": 6,
   "metadata": {
    "vscode": {
     "languageId": "r"
    }
   },
   "outputs": [
    {
     "name": "stderr",
     "output_type": "stream",
     "text": [
      "\u001b[1mRows: \u001b[22m\u001b[34m21736\u001b[39m \u001b[1mColumns: \u001b[22m\u001b[34m49\u001b[39m\n",
      "\u001b[36m──\u001b[39m \u001b[1mColumn specification\u001b[22m \u001b[36m───────────────────────────────────────────────────────────────────────────────────────────────────────────────────────────────\u001b[39m\n",
      "\u001b[1mDelimiter:\u001b[22m \",\"\n",
      "\u001b[31mchr\u001b[39m  (3): GEOCODIGO, DESBDT, nombre_zona\n",
      "\u001b[32mdbl\u001b[39m (45): ano, semana, n_vacunas, n_citas, tmed, prec, velmedia, presMax, be...\n",
      "\u001b[33mlgl\u001b[39m  (1): is_train\n",
      "\n",
      "\u001b[36mℹ\u001b[39m Use `spec()` to retrieve the full column specification for this data.\n",
      "\u001b[36mℹ\u001b[39m Specify the column types or set `show_col_types = FALSE` to quiet this message.\n"
     ]
    }
   ],
   "source": [
    "data <- read_csv(file_data)\n"
   ]
  },
  {
   "cell_type": "markdown",
   "metadata": {},
   "source": [
    "Estructura de  los datos:"
   ]
  },
  {
   "cell_type": "code",
   "execution_count": 7,
   "metadata": {
    "vscode": {
     "languageId": "r"
    }
   },
   "outputs": [
    {
     "name": "stdout",
     "output_type": "stream",
     "text": [
      "Rows: 21,736\n",
      "Columns: 49\n",
      "$ GEOCODIGO         \u001b[3m\u001b[90m<chr>\u001b[39m\u001b[23m \"259\", \"260\", \"041\", \"025\", \"046\", \"159\", \"065\", \"09…\n",
      "$ DESBDT            \u001b[3m\u001b[90m<chr>\u001b[39m\u001b[23m \"V Centenario\", \"Valdeacederas\", \"Canillejas\", \"Bara…\n",
      "$ ano               \u001b[3m\u001b[90m<dbl>\u001b[39m\u001b[23m 2022, 2022, 2022, 2022, 2022, 2022, 2022, 2021, 2023…\n",
      "$ semana            \u001b[3m\u001b[90m<dbl>\u001b[39m\u001b[23m 34, 8, 9, 49, 24, 3, 8, 47, 1, 2, 52, 39, 16, 50, 34…\n",
      "$ n_vacunas         \u001b[3m\u001b[90m<dbl>\u001b[39m\u001b[23m 0, 0, 0, 292, 0, 524, 0, 248, 204, 205, NA, 0, 0, 51…\n",
      "$ n_citas           \u001b[3m\u001b[90m<dbl>\u001b[39m\u001b[23m 0, 0, 0, 280, 0, 498, 0, 228, 198, 187, NA, 0, 0, 51…\n",
      "$ tmed              \u001b[3m\u001b[90m<dbl>\u001b[39m\u001b[23m 27.278748, 9.577289, 8.536554, 9.065363, 29.905728, …\n",
      "$ prec              \u001b[3m\u001b[90m<dbl>\u001b[39m\u001b[23m 0.169955881, 1.264910043, 3.122881160, 7.313886680, …\n",
      "$ velmedia          \u001b[3m\u001b[90m<dbl>\u001b[39m\u001b[23m 2.297067, 1.890425, 2.418071, 1.562328, 2.564749, 1.…\n",
      "$ presMax           \u001b[3m\u001b[90m<dbl>\u001b[39m\u001b[23m 940.0420, 944.1770, 949.7179, 941.8342, 940.5669, 95…\n",
      "$ benzene           \u001b[3m\u001b[90m<dbl>\u001b[39m\u001b[23m 0.1764413, 0.4591543, 0.4099159, 0.4224172, 0.195865…\n",
      "$ co                \u001b[3m\u001b[90m<dbl>\u001b[39m\u001b[23m 0.4987735, 0.3960647, 0.3951587, NA, 0.2891224, 0.50…\n",
      "$ no                \u001b[3m\u001b[90m<dbl>\u001b[39m\u001b[23m NA, 6.611337, 9.331224, 14.007722, 4.063517, 24.4756…\n",
      "$ no2               \u001b[3m\u001b[90m<dbl>\u001b[39m\u001b[23m 14.21113, 34.67671, 30.29999, 32.54832, 26.06913, 44…\n",
      "$ nox               \u001b[3m\u001b[90m<dbl>\u001b[39m\u001b[23m 18.00109, 48.94660, 45.22346, 56.75574, 30.35311, 74…\n",
      "$ o3                \u001b[3m\u001b[90m<dbl>\u001b[39m\u001b[23m 80.90659, 42.06663, 48.88088, 26.68276, 64.55205, 31…\n",
      "$ pm10              \u001b[3m\u001b[90m<dbl>\u001b[39m\u001b[23m 20.117087, 15.042152, 14.002432, 18.032354, 55.79346…\n",
      "$ pm2.5             \u001b[3m\u001b[90m<dbl>\u001b[39m\u001b[23m 10.628064, 5.539590, 7.124192, 6.793868, 19.520373, …\n",
      "$ so2               \u001b[3m\u001b[90m<dbl>\u001b[39m\u001b[23m 2.794934, 3.507164, 2.692125, 2.351139, 3.397640, 2.…\n",
      "$ campana           \u001b[3m\u001b[90m<dbl>\u001b[39m\u001b[23m NA, NA, NA, 2022, NA, 2021, NA, 2021, 2022, 2021, 20…\n",
      "$ scampana          \u001b[3m\u001b[90m<dbl>\u001b[39m\u001b[23m NA, NA, NA, 14, NA, 20, NA, 12, 18, 19, 17, 4, NA, 1…\n",
      "$ capacidad_zona    \u001b[3m\u001b[90m<dbl>\u001b[39m\u001b[23m 7957, 6537, 7167, 5633, 3864, 12583, 8544, 5077, 494…\n",
      "$ prop_riesgo       \u001b[3m\u001b[90m<dbl>\u001b[39m\u001b[23m 0.11393237, 0.15763986, 0.25500690, 0.14452370, 0.26…\n",
      "$ tasa_riesgo       \u001b[3m\u001b[90m<dbl>\u001b[39m\u001b[23m 0.013477754, 0.015731142, 0.009177382, 0.013099129, …\n",
      "$ tasa_mayores      \u001b[3m\u001b[90m<dbl>\u001b[39m\u001b[23m 0.023033610, 0.032817374, 0.028147027, 0.020829657, …\n",
      "$ poblacion_mayores \u001b[3m\u001b[90m<dbl>\u001b[39m\u001b[23m 0.10330662, 0.14362062, 0.23161874, 0.13058449, 0.24…\n",
      "$ nombre_zona       \u001b[3m\u001b[90m<chr>\u001b[39m\u001b[23m \"V Centenario\", \"Valdeacederas\", \"Canillejas\", \"Bara…\n",
      "$ nsec              \u001b[3m\u001b[90m<dbl>\u001b[39m\u001b[23m 17, 18, 22, 13, 14, 42, 32, 13, 17, 11, NA, 15, 15, …\n",
      "$ t3_1              \u001b[3m\u001b[90m<dbl>\u001b[39m\u001b[23m 36.73039, 41.41412, 45.44882, 39.78001, 46.13171, 46…\n",
      "$ t1_1              \u001b[3m\u001b[90m<dbl>\u001b[39m\u001b[23m 31778, 26202, 28658, 22492, 15450, 50478, 34148, 202…\n",
      "$ t2_1              \u001b[3m\u001b[90m<dbl>\u001b[39m\u001b[23m 0.5084658, 0.5329728, 0.5316594, 0.5189021, 0.551191…\n",
      "$ t2_2              \u001b[3m\u001b[90m<dbl>\u001b[39m\u001b[23m 0.4915342, 0.4670272, 0.4683406, 0.4810979, 0.448809…\n",
      "$ t4_1              \u001b[3m\u001b[90m<dbl>\u001b[39m\u001b[23m 0.22551283, 0.12790298, 0.12603707, 0.18104432, 0.11…\n",
      "$ t4_2              \u001b[3m\u001b[90m<dbl>\u001b[39m\u001b[23m 0.6711962, 0.7284970, 0.6423306, 0.6883785, 0.641173…\n",
      "$ t4_3              \u001b[3m\u001b[90m<dbl>\u001b[39m\u001b[23m 0.10330662, 0.14362062, 0.23161874, 0.13058449, 0.24…\n",
      "$ t5_1              \u001b[3m\u001b[90m<dbl>\u001b[39m\u001b[23m 0.1063332, 0.2295250, 0.1655070, 0.1266086, 0.165893…\n",
      "$ t6_1              \u001b[3m\u001b[90m<dbl>\u001b[39m\u001b[23m 0.1706875, 0.3477631, 0.2511757, 0.1998911, 0.261480…\n",
      "$ t7_1              \u001b[3m\u001b[90m<dbl>\u001b[39m\u001b[23m 0.05131106, 0.04606911, 0.04379644, 0.05585777, 0.06…\n",
      "$ t8_1              \u001b[3m\u001b[90m<dbl>\u001b[39m\u001b[23m 0.03892836, 0.03586418, 0.03207779, 0.04434976, 0.05…\n",
      "$ t9_1              \u001b[3m\u001b[90m<dbl>\u001b[39m\u001b[23m 0.5151383, 0.3863876, 0.3129631, 0.4611972, 0.701812…\n",
      "$ t10_1             \u001b[3m\u001b[90m<dbl>\u001b[39m\u001b[23m 0.09258503, 0.13151901, 0.13926119, 0.10460043, 0.06…\n",
      "$ t11_1             \u001b[3m\u001b[90m<dbl>\u001b[39m\u001b[23m 0.6406787, 0.5451465, 0.4600730, 0.5920292, 0.471769…\n",
      "$ t12_1             \u001b[3m\u001b[90m<dbl>\u001b[39m\u001b[23m 0.7028586, 0.6277335, 0.5346482, 0.6590530, 0.502531…\n",
      "$ area              \u001b[3m\u001b[90m<dbl>\u001b[39m\u001b[23m 2100118.9, 1164622.0, 1597474.5, 3816572.0, 870986.8…\n",
      "$ densidad_hab_km   \u001b[3m\u001b[90m<dbl>\u001b[39m\u001b[23m 15131.52443, 22498.28643, 17939.56640, 5893.24662, 1…\n",
      "$ tuits_gripe       \u001b[3m\u001b[90m<dbl>\u001b[39m\u001b[23m 60, 56, 72, 196, 46, 382, 56, 280, 24, 508, NA, 126,…\n",
      "$ interes_gripe     \u001b[3m\u001b[90m<dbl>\u001b[39m\u001b[23m 24, 15, 24, 77, 21, 42, 15, 64, 64, 69, NA, 42, 40, …\n",
      "$ Target            \u001b[3m\u001b[90m<dbl>\u001b[39m\u001b[23m 0, 0, 0, 292, 0, 524, 0, 248, 204, 205, NA, 0, 0, 51…\n",
      "$ is_train          \u001b[3m\u001b[90m<lgl>\u001b[39m\u001b[23m TRUE, TRUE, TRUE, TRUE, TRUE, TRUE, TRUE, TRUE, TRUE…\n"
     ]
    }
   ],
   "source": [
    "data |> glimpse()"
   ]
  },
  {
   "cell_type": "markdown",
   "metadata": {},
   "source": [
    "Muestra de los primeros datos:"
   ]
  },
  {
   "cell_type": "code",
   "execution_count": 8,
   "metadata": {
    "vscode": {
     "languageId": "r"
    }
   },
   "outputs": [
    {
     "data": {
      "text/html": [
       "<table class=\"dataframe\">\n",
       "<caption>A spec_tbl_df: 5 × 49</caption>\n",
       "<thead>\n",
       "\t<tr><th scope=col>GEOCODIGO</th><th scope=col>DESBDT</th><th scope=col>ano</th><th scope=col>semana</th><th scope=col>n_vacunas</th><th scope=col>n_citas</th><th scope=col>tmed</th><th scope=col>prec</th><th scope=col>velmedia</th><th scope=col>presMax</th><th scope=col>⋯</th><th scope=col>t9_1</th><th scope=col>t10_1</th><th scope=col>t11_1</th><th scope=col>t12_1</th><th scope=col>area</th><th scope=col>densidad_hab_km</th><th scope=col>tuits_gripe</th><th scope=col>interes_gripe</th><th scope=col>Target</th><th scope=col>is_train</th></tr>\n",
       "\t<tr><th scope=col>&lt;chr&gt;</th><th scope=col>&lt;chr&gt;</th><th scope=col>&lt;dbl&gt;</th><th scope=col>&lt;dbl&gt;</th><th scope=col>&lt;dbl&gt;</th><th scope=col>&lt;dbl&gt;</th><th scope=col>&lt;dbl&gt;</th><th scope=col>&lt;dbl&gt;</th><th scope=col>&lt;dbl&gt;</th><th scope=col>&lt;dbl&gt;</th><th scope=col>⋯</th><th scope=col>&lt;dbl&gt;</th><th scope=col>&lt;dbl&gt;</th><th scope=col>&lt;dbl&gt;</th><th scope=col>&lt;dbl&gt;</th><th scope=col>&lt;dbl&gt;</th><th scope=col>&lt;dbl&gt;</th><th scope=col>&lt;dbl&gt;</th><th scope=col>&lt;dbl&gt;</th><th scope=col>&lt;dbl&gt;</th><th scope=col>&lt;lgl&gt;</th></tr>\n",
       "</thead>\n",
       "<tbody>\n",
       "\t<tr><td>259</td><td>V Centenario </td><td>2022</td><td>34</td><td>  0</td><td>  0</td><td>27.278748</td><td>0.16995588</td><td>2.297067</td><td>940.0420</td><td>⋯</td><td>0.5151383</td><td>0.09258503</td><td>0.6406787</td><td>0.7028586</td><td>2100118.9</td><td>15131.524</td><td> 60</td><td>24</td><td>  0</td><td>TRUE</td></tr>\n",
       "\t<tr><td>260</td><td>Valdeacederas</td><td>2022</td><td> 8</td><td>  0</td><td>  0</td><td> 9.577289</td><td>1.26491004</td><td>1.890425</td><td>944.1770</td><td>⋯</td><td>0.3863876</td><td>0.13151901</td><td>0.5451465</td><td>0.6277335</td><td>1164622.0</td><td>22498.286</td><td> 56</td><td>15</td><td>  0</td><td>TRUE</td></tr>\n",
       "\t<tr><td>041</td><td>Canillejas   </td><td>2022</td><td> 9</td><td>  0</td><td>  0</td><td> 8.536554</td><td>3.12288116</td><td>2.418071</td><td>949.7179</td><td>⋯</td><td>0.3129631</td><td>0.13926119</td><td>0.4600730</td><td>0.5346482</td><td>1597474.5</td><td>17939.566</td><td> 72</td><td>24</td><td>  0</td><td>TRUE</td></tr>\n",
       "\t<tr><td>025</td><td>Barajas      </td><td>2022</td><td>49</td><td>292</td><td>280</td><td> 9.065363</td><td>7.31388668</td><td>1.562328</td><td>941.8342</td><td>⋯</td><td>0.4611972</td><td>0.10460043</td><td>0.5920292</td><td>0.6590530</td><td>3816572.0</td><td> 5893.247</td><td>196</td><td>77</td><td>292</td><td>TRUE</td></tr>\n",
       "\t<tr><td>046</td><td>Castelló     </td><td>2022</td><td>24</td><td>  0</td><td>  0</td><td>29.905728</td><td>0.01366852</td><td>2.564749</td><td>940.5669</td><td>⋯</td><td>0.7018126</td><td>0.06114283</td><td>0.4717699</td><td>0.5025317</td><td> 870986.8</td><td>17738.501</td><td> 46</td><td>21</td><td>  0</td><td>TRUE</td></tr>\n",
       "</tbody>\n",
       "</table>\n"
      ],
      "text/latex": [
       "A spec\\_tbl\\_df: 5 × 49\n",
       "\\begin{tabular}{lllllllllllllllllllll}\n",
       " GEOCODIGO & DESBDT & ano & semana & n\\_vacunas & n\\_citas & tmed & prec & velmedia & presMax & ⋯ & t9\\_1 & t10\\_1 & t11\\_1 & t12\\_1 & area & densidad\\_hab\\_km & tuits\\_gripe & interes\\_gripe & Target & is\\_train\\\\\n",
       " <chr> & <chr> & <dbl> & <dbl> & <dbl> & <dbl> & <dbl> & <dbl> & <dbl> & <dbl> & ⋯ & <dbl> & <dbl> & <dbl> & <dbl> & <dbl> & <dbl> & <dbl> & <dbl> & <dbl> & <lgl>\\\\\n",
       "\\hline\n",
       "\t 259 & V Centenario  & 2022 & 34 &   0 &   0 & 27.278748 & 0.16995588 & 2.297067 & 940.0420 & ⋯ & 0.5151383 & 0.09258503 & 0.6406787 & 0.7028586 & 2100118.9 & 15131.524 &  60 & 24 &   0 & TRUE\\\\\n",
       "\t 260 & Valdeacederas & 2022 &  8 &   0 &   0 &  9.577289 & 1.26491004 & 1.890425 & 944.1770 & ⋯ & 0.3863876 & 0.13151901 & 0.5451465 & 0.6277335 & 1164622.0 & 22498.286 &  56 & 15 &   0 & TRUE\\\\\n",
       "\t 041 & Canillejas    & 2022 &  9 &   0 &   0 &  8.536554 & 3.12288116 & 2.418071 & 949.7179 & ⋯ & 0.3129631 & 0.13926119 & 0.4600730 & 0.5346482 & 1597474.5 & 17939.566 &  72 & 24 &   0 & TRUE\\\\\n",
       "\t 025 & Barajas       & 2022 & 49 & 292 & 280 &  9.065363 & 7.31388668 & 1.562328 & 941.8342 & ⋯ & 0.4611972 & 0.10460043 & 0.5920292 & 0.6590530 & 3816572.0 &  5893.247 & 196 & 77 & 292 & TRUE\\\\\n",
       "\t 046 & Castelló      & 2022 & 24 &   0 &   0 & 29.905728 & 0.01366852 & 2.564749 & 940.5669 & ⋯ & 0.7018126 & 0.06114283 & 0.4717699 & 0.5025317 &  870986.8 & 17738.501 &  46 & 21 &   0 & TRUE\\\\\n",
       "\\end{tabular}\n"
      ],
      "text/markdown": [
       "\n",
       "A spec_tbl_df: 5 × 49\n",
       "\n",
       "| GEOCODIGO &lt;chr&gt; | DESBDT &lt;chr&gt; | ano &lt;dbl&gt; | semana &lt;dbl&gt; | n_vacunas &lt;dbl&gt; | n_citas &lt;dbl&gt; | tmed &lt;dbl&gt; | prec &lt;dbl&gt; | velmedia &lt;dbl&gt; | presMax &lt;dbl&gt; | ⋯ ⋯ | t9_1 &lt;dbl&gt; | t10_1 &lt;dbl&gt; | t11_1 &lt;dbl&gt; | t12_1 &lt;dbl&gt; | area &lt;dbl&gt; | densidad_hab_km &lt;dbl&gt; | tuits_gripe &lt;dbl&gt; | interes_gripe &lt;dbl&gt; | Target &lt;dbl&gt; | is_train &lt;lgl&gt; |\n",
       "|---|---|---|---|---|---|---|---|---|---|---|---|---|---|---|---|---|---|---|---|---|\n",
       "| 259 | V Centenario  | 2022 | 34 |   0 |   0 | 27.278748 | 0.16995588 | 2.297067 | 940.0420 | ⋯ | 0.5151383 | 0.09258503 | 0.6406787 | 0.7028586 | 2100118.9 | 15131.524 |  60 | 24 |   0 | TRUE |\n",
       "| 260 | Valdeacederas | 2022 |  8 |   0 |   0 |  9.577289 | 1.26491004 | 1.890425 | 944.1770 | ⋯ | 0.3863876 | 0.13151901 | 0.5451465 | 0.6277335 | 1164622.0 | 22498.286 |  56 | 15 |   0 | TRUE |\n",
       "| 041 | Canillejas    | 2022 |  9 |   0 |   0 |  8.536554 | 3.12288116 | 2.418071 | 949.7179 | ⋯ | 0.3129631 | 0.13926119 | 0.4600730 | 0.5346482 | 1597474.5 | 17939.566 |  72 | 24 |   0 | TRUE |\n",
       "| 025 | Barajas       | 2022 | 49 | 292 | 280 |  9.065363 | 7.31388668 | 1.562328 | 941.8342 | ⋯ | 0.4611972 | 0.10460043 | 0.5920292 | 0.6590530 | 3816572.0 |  5893.247 | 196 | 77 | 292 | TRUE |\n",
       "| 046 | Castelló      | 2022 | 24 |   0 |   0 | 29.905728 | 0.01366852 | 2.564749 | 940.5669 | ⋯ | 0.7018126 | 0.06114283 | 0.4717699 | 0.5025317 |  870986.8 | 17738.501 |  46 | 21 |   0 | TRUE |\n",
       "\n"
      ],
      "text/plain": [
       "  GEOCODIGO DESBDT        ano  semana n_vacunas n_citas tmed      prec      \n",
       "1 259       V Centenario  2022 34       0         0     27.278748 0.16995588\n",
       "2 260       Valdeacederas 2022  8       0         0      9.577289 1.26491004\n",
       "3 041       Canillejas    2022  9       0         0      8.536554 3.12288116\n",
       "4 025       Barajas       2022 49     292       280      9.065363 7.31388668\n",
       "5 046       Castelló      2022 24       0         0     29.905728 0.01366852\n",
       "  velmedia presMax  ⋯ t9_1      t10_1      t11_1     t12_1     area     \n",
       "1 2.297067 940.0420 ⋯ 0.5151383 0.09258503 0.6406787 0.7028586 2100118.9\n",
       "2 1.890425 944.1770 ⋯ 0.3863876 0.13151901 0.5451465 0.6277335 1164622.0\n",
       "3 2.418071 949.7179 ⋯ 0.3129631 0.13926119 0.4600730 0.5346482 1597474.5\n",
       "4 1.562328 941.8342 ⋯ 0.4611972 0.10460043 0.5920292 0.6590530 3816572.0\n",
       "5 2.564749 940.5669 ⋯ 0.7018126 0.06114283 0.4717699 0.5025317  870986.8\n",
       "  densidad_hab_km tuits_gripe interes_gripe Target is_train\n",
       "1 15131.524        60         24              0    TRUE    \n",
       "2 22498.286        56         15              0    TRUE    \n",
       "3 17939.566        72         24              0    TRUE    \n",
       "4  5893.247       196         77            292    TRUE    \n",
       "5 17738.501        46         21              0    TRUE    "
      ]
     },
     "metadata": {},
     "output_type": "display_data"
    }
   ],
   "source": [
    "data |> slice_head(n = 5)"
   ]
  },
  {
   "cell_type": "markdown",
   "metadata": {
    "slideshow": {
     "slide_type": "slide"
    }
   },
   "source": [
    "## Basic Data Transforms"
   ]
  },
  {
   "cell_type": "markdown",
   "metadata": {
    "slideshow": {
     "slide_type": "slide"
    }
   },
   "source": [
    "### Data Selecting"
   ]
  },
  {
   "cell_type": "code",
   "execution_count": 9,
   "metadata": {
    "ExecuteTime": {
     "end_time": "2020-06-30T14:33:43.649449Z",
     "start_time": "2020-06-30T14:33:43.611681Z"
    },
    "scrolled": true,
    "slideshow": {
     "slide_type": "subslide"
    },
    "vscode": {
     "languageId": "r"
    }
   },
   "outputs": [
    {
     "data": {
      "text/html": [
       "<table class=\"dataframe\">\n",
       "<caption>A tibble: 21736 × 1</caption>\n",
       "<thead>\n",
       "\t<tr><th scope=col>GEOCODIGO</th></tr>\n",
       "\t<tr><th scope=col>&lt;chr&gt;</th></tr>\n",
       "</thead>\n",
       "<tbody>\n",
       "\t<tr><td>259</td></tr>\n",
       "\t<tr><td>260</td></tr>\n",
       "\t<tr><td>041</td></tr>\n",
       "\t<tr><td>025</td></tr>\n",
       "\t<tr><td>046</td></tr>\n",
       "\t<tr><td>159</td></tr>\n",
       "\t<tr><td>065</td></tr>\n",
       "\t<tr><td>092</td></tr>\n",
       "\t<tr><td>221</td></tr>\n",
       "\t<tr><td>038</td></tr>\n",
       "\t<tr><td>041</td></tr>\n",
       "\t<tr><td>174</td></tr>\n",
       "\t<tr><td>126</td></tr>\n",
       "\t<tr><td>139</td></tr>\n",
       "\t<tr><td>188</td></tr>\n",
       "\t<tr><td>040</td></tr>\n",
       "\t<tr><td>084</td></tr>\n",
       "\t<tr><td>261</td></tr>\n",
       "\t<tr><td>132</td></tr>\n",
       "\t<tr><td>172</td></tr>\n",
       "\t<tr><td>266</td></tr>\n",
       "\t<tr><td>022</td></tr>\n",
       "\t<tr><td>233</td></tr>\n",
       "\t<tr><td>195</td></tr>\n",
       "\t<tr><td>286</td></tr>\n",
       "\t<tr><td>209</td></tr>\n",
       "\t<tr><td>128</td></tr>\n",
       "\t<tr><td>137</td></tr>\n",
       "\t<tr><td>124</td></tr>\n",
       "\t<tr><td>210</td></tr>\n",
       "\t<tr><td>⋮</td></tr>\n",
       "\t<tr><td>121</td></tr>\n",
       "\t<tr><td>123</td></tr>\n",
       "\t<tr><td>125</td></tr>\n",
       "\t<tr><td>141</td></tr>\n",
       "\t<tr><td>143</td></tr>\n",
       "\t<tr><td>145</td></tr>\n",
       "\t<tr><td>154</td></tr>\n",
       "\t<tr><td>155</td></tr>\n",
       "\t<tr><td>163</td></tr>\n",
       "\t<tr><td>166</td></tr>\n",
       "\t<tr><td>175</td></tr>\n",
       "\t<tr><td>178</td></tr>\n",
       "\t<tr><td>180</td></tr>\n",
       "\t<tr><td>183</td></tr>\n",
       "\t<tr><td>186</td></tr>\n",
       "\t<tr><td>190</td></tr>\n",
       "\t<tr><td>196</td></tr>\n",
       "\t<tr><td>197</td></tr>\n",
       "\t<tr><td>211</td></tr>\n",
       "\t<tr><td>215</td></tr>\n",
       "\t<tr><td>217</td></tr>\n",
       "\t<tr><td>222</td></tr>\n",
       "\t<tr><td>234</td></tr>\n",
       "\t<tr><td>239</td></tr>\n",
       "\t<tr><td>242</td></tr>\n",
       "\t<tr><td>247</td></tr>\n",
       "\t<tr><td>265</td></tr>\n",
       "\t<tr><td>268</td></tr>\n",
       "\t<tr><td>270</td></tr>\n",
       "\t<tr><td>276</td></tr>\n",
       "</tbody>\n",
       "</table>\n"
      ],
      "text/latex": [
       "A tibble: 21736 × 1\n",
       "\\begin{tabular}{l}\n",
       " GEOCODIGO\\\\\n",
       " <chr>\\\\\n",
       "\\hline\n",
       "\t 259\\\\\n",
       "\t 260\\\\\n",
       "\t 041\\\\\n",
       "\t 025\\\\\n",
       "\t 046\\\\\n",
       "\t 159\\\\\n",
       "\t 065\\\\\n",
       "\t 092\\\\\n",
       "\t 221\\\\\n",
       "\t 038\\\\\n",
       "\t 041\\\\\n",
       "\t 174\\\\\n",
       "\t 126\\\\\n",
       "\t 139\\\\\n",
       "\t 188\\\\\n",
       "\t 040\\\\\n",
       "\t 084\\\\\n",
       "\t 261\\\\\n",
       "\t 132\\\\\n",
       "\t 172\\\\\n",
       "\t 266\\\\\n",
       "\t 022\\\\\n",
       "\t 233\\\\\n",
       "\t 195\\\\\n",
       "\t 286\\\\\n",
       "\t 209\\\\\n",
       "\t 128\\\\\n",
       "\t 137\\\\\n",
       "\t 124\\\\\n",
       "\t 210\\\\\n",
       "\t ⋮\\\\\n",
       "\t 121\\\\\n",
       "\t 123\\\\\n",
       "\t 125\\\\\n",
       "\t 141\\\\\n",
       "\t 143\\\\\n",
       "\t 145\\\\\n",
       "\t 154\\\\\n",
       "\t 155\\\\\n",
       "\t 163\\\\\n",
       "\t 166\\\\\n",
       "\t 175\\\\\n",
       "\t 178\\\\\n",
       "\t 180\\\\\n",
       "\t 183\\\\\n",
       "\t 186\\\\\n",
       "\t 190\\\\\n",
       "\t 196\\\\\n",
       "\t 197\\\\\n",
       "\t 211\\\\\n",
       "\t 215\\\\\n",
       "\t 217\\\\\n",
       "\t 222\\\\\n",
       "\t 234\\\\\n",
       "\t 239\\\\\n",
       "\t 242\\\\\n",
       "\t 247\\\\\n",
       "\t 265\\\\\n",
       "\t 268\\\\\n",
       "\t 270\\\\\n",
       "\t 276\\\\\n",
       "\\end{tabular}\n"
      ],
      "text/markdown": [
       "\n",
       "A tibble: 21736 × 1\n",
       "\n",
       "| GEOCODIGO &lt;chr&gt; |\n",
       "|---|\n",
       "| 259 |\n",
       "| 260 |\n",
       "| 041 |\n",
       "| 025 |\n",
       "| 046 |\n",
       "| 159 |\n",
       "| 065 |\n",
       "| 092 |\n",
       "| 221 |\n",
       "| 038 |\n",
       "| 041 |\n",
       "| 174 |\n",
       "| 126 |\n",
       "| 139 |\n",
       "| 188 |\n",
       "| 040 |\n",
       "| 084 |\n",
       "| 261 |\n",
       "| 132 |\n",
       "| 172 |\n",
       "| 266 |\n",
       "| 022 |\n",
       "| 233 |\n",
       "| 195 |\n",
       "| 286 |\n",
       "| 209 |\n",
       "| 128 |\n",
       "| 137 |\n",
       "| 124 |\n",
       "| 210 |\n",
       "| ⋮ |\n",
       "| 121 |\n",
       "| 123 |\n",
       "| 125 |\n",
       "| 141 |\n",
       "| 143 |\n",
       "| 145 |\n",
       "| 154 |\n",
       "| 155 |\n",
       "| 163 |\n",
       "| 166 |\n",
       "| 175 |\n",
       "| 178 |\n",
       "| 180 |\n",
       "| 183 |\n",
       "| 186 |\n",
       "| 190 |\n",
       "| 196 |\n",
       "| 197 |\n",
       "| 211 |\n",
       "| 215 |\n",
       "| 217 |\n",
       "| 222 |\n",
       "| 234 |\n",
       "| 239 |\n",
       "| 242 |\n",
       "| 247 |\n",
       "| 265 |\n",
       "| 268 |\n",
       "| 270 |\n",
       "| 276 |\n",
       "\n"
      ],
      "text/plain": [
       "      GEOCODIGO\n",
       "1     259      \n",
       "2     260      \n",
       "3     041      \n",
       "4     025      \n",
       "5     046      \n",
       "6     159      \n",
       "7     065      \n",
       "8     092      \n",
       "9     221      \n",
       "10    038      \n",
       "11    041      \n",
       "12    174      \n",
       "13    126      \n",
       "14    139      \n",
       "15    188      \n",
       "16    040      \n",
       "17    084      \n",
       "18    261      \n",
       "19    132      \n",
       "20    172      \n",
       "21    266      \n",
       "22    022      \n",
       "23    233      \n",
       "24    195      \n",
       "25    286      \n",
       "26    209      \n",
       "27    128      \n",
       "28    137      \n",
       "29    124      \n",
       "30    210      \n",
       "⋮     ⋮        \n",
       "21707 121      \n",
       "21708 123      \n",
       "21709 125      \n",
       "21710 141      \n",
       "21711 143      \n",
       "21712 145      \n",
       "21713 154      \n",
       "21714 155      \n",
       "21715 163      \n",
       "21716 166      \n",
       "21717 175      \n",
       "21718 178      \n",
       "21719 180      \n",
       "21720 183      \n",
       "21721 186      \n",
       "21722 190      \n",
       "21723 196      \n",
       "21724 197      \n",
       "21725 211      \n",
       "21726 215      \n",
       "21727 217      \n",
       "21728 222      \n",
       "21729 234      \n",
       "21730 239      \n",
       "21731 242      \n",
       "21732 247      \n",
       "21733 265      \n",
       "21734 268      \n",
       "21735 270      \n",
       "21736 276      "
      ]
     },
     "metadata": {},
     "output_type": "display_data"
    }
   ],
   "source": [
    "data |> select(1)"
   ]
  },
  {
   "cell_type": "markdown",
   "metadata": {
    "slideshow": {
     "slide_type": "slide"
    }
   },
   "source": [
    "### Data Filtering"
   ]
  },
  {
   "cell_type": "code",
   "execution_count": 10,
   "metadata": {
    "ExecuteTime": {
     "end_time": "2020-06-30T14:33:43.649449Z",
     "start_time": "2020-06-30T14:33:43.611681Z"
    },
    "scrolled": true,
    "slideshow": {
     "slide_type": "subslide"
    },
    "vscode": {
     "languageId": "r"
    }
   },
   "outputs": [
    {
     "data": {
      "text/html": [
       "<table class=\"dataframe\">\n",
       "<caption>A spec_tbl_df: 5148 × 49</caption>\n",
       "<thead>\n",
       "\t<tr><th scope=col>GEOCODIGO</th><th scope=col>DESBDT</th><th scope=col>ano</th><th scope=col>semana</th><th scope=col>n_vacunas</th><th scope=col>n_citas</th><th scope=col>tmed</th><th scope=col>prec</th><th scope=col>velmedia</th><th scope=col>presMax</th><th scope=col>⋯</th><th scope=col>t9_1</th><th scope=col>t10_1</th><th scope=col>t11_1</th><th scope=col>t12_1</th><th scope=col>area</th><th scope=col>densidad_hab_km</th><th scope=col>tuits_gripe</th><th scope=col>interes_gripe</th><th scope=col>Target</th><th scope=col>is_train</th></tr>\n",
       "\t<tr><th scope=col>&lt;chr&gt;</th><th scope=col>&lt;chr&gt;</th><th scope=col>&lt;dbl&gt;</th><th scope=col>&lt;dbl&gt;</th><th scope=col>&lt;dbl&gt;</th><th scope=col>&lt;dbl&gt;</th><th scope=col>&lt;dbl&gt;</th><th scope=col>&lt;dbl&gt;</th><th scope=col>&lt;dbl&gt;</th><th scope=col>&lt;dbl&gt;</th><th scope=col>⋯</th><th scope=col>&lt;dbl&gt;</th><th scope=col>&lt;dbl&gt;</th><th scope=col>&lt;dbl&gt;</th><th scope=col>&lt;dbl&gt;</th><th scope=col>&lt;dbl&gt;</th><th scope=col>&lt;dbl&gt;</th><th scope=col>&lt;dbl&gt;</th><th scope=col>&lt;dbl&gt;</th><th scope=col>&lt;dbl&gt;</th><th scope=col>&lt;lgl&gt;</th></tr>\n",
       "</thead>\n",
       "<tbody>\n",
       "\t<tr><td>092</td><td>Felipe II           </td><td>2021</td><td>47</td><td>248</td><td>228</td><td> 6.078661</td><td> 1.0719805983</td><td>2.700305</td><td>938.7558</td><td>⋯</td><td>0.2594908</td><td>0.14516249</td><td>0.4759882</td><td>0.5564819</td><td>   916183.4</td><td>22138.5806</td><td>280</td><td> 64</td><td>248</td><td>TRUE</td></tr>\n",
       "\t<tr><td>040</td><td>Canal de Panamá     </td><td>2021</td><td>37</td><td>  0</td><td>  0</td><td>19.878869</td><td> 4.1447802375</td><td>2.575349</td><td>943.0739</td><td>⋯</td><td>0.4866866</td><td>0.12070471</td><td>0.4696157</td><td>0.5343907</td><td>  1394676.1</td><td>22029.4879</td><td> 79</td><td> 15</td><td>  0</td><td>TRUE</td></tr>\n",
       "\t<tr><td>261</td><td>Valdebernardo       </td><td>2021</td><td>42</td><td>185</td><td>183</td><td>15.813806</td><td> 0.0000000000</td><td>2.116845</td><td>951.1437</td><td>⋯</td><td>0.4213997</td><td>0.15339911</td><td>0.5117686</td><td>0.6048410</td><td>  1452762.2</td><td>11210.3689</td><td>254</td><td>100</td><td>185</td><td>TRUE</td></tr>\n",
       "\t<tr><td>209</td><td>Portazgo            </td><td>2021</td><td>45</td><td>215</td><td>213</td><td>10.457078</td><td>-0.0014319311</td><td>1.568141</td><td>944.8039</td><td>⋯</td><td>0.2192226</td><td>0.17912995</td><td>0.4312525</td><td>0.5261093</td><td>  1165705.1</td><td>15269.7276</td><td>160</td><td> 70</td><td>215</td><td>TRUE</td></tr>\n",
       "\t<tr><td>137</td><td>Las Matas           </td><td>2021</td><td>36</td><td>  0</td><td>  0</td><td>21.968429</td><td> 0.0611860341</td><td>3.079440</td><td>913.7501</td><td>⋯</td><td>0.5515307</td><td>0.08716812</td><td>0.4943178</td><td>0.5414490</td><td>  7951396.5</td><td>  837.8402</td><td> 97</td><td> 13</td><td>  0</td><td>TRUE</td></tr>\n",
       "\t<tr><td>148</td><td>Los Cármenes        </td><td>2021</td><td>52</td><td>314</td><td>305</td><td>10.799898</td><td>-0.0874709189</td><td>3.199149</td><td>945.0250</td><td>⋯</td><td>0.2588885</td><td>0.19712587</td><td>0.4428873</td><td>0.5510904</td><td>  1597376.5</td><td>15830.3315</td><td>780</td><td> 88</td><td>314</td><td>TRUE</td></tr>\n",
       "\t<tr><td>248</td><td>Segovia             </td><td>2021</td><td>36</td><td>  0</td><td>  0</td><td>23.617478</td><td> 0.0039819559</td><td>3.473189</td><td>939.5955</td><td>⋯</td><td>0.6033543</td><td>0.13499734</td><td>0.5297775</td><td>0.6125977</td><td>   802151.4</td><td>29061.8456</td><td> 97</td><td> 13</td><td>  0</td><td>TRUE</td></tr>\n",
       "\t<tr><td>190</td><td>Orcasur             </td><td>2021</td><td>46</td><td>131</td><td>119</td><td>10.204537</td><td> 0.0450972341</td><td>2.319521</td><td>946.0922</td><td>⋯</td><td>0.1755605</td><td>0.24707340</td><td>0.4146549</td><td>0.5496564</td><td>  1423084.5</td><td> 7693.8507</td><td>206</td><td> 64</td><td>131</td><td>TRUE</td></tr>\n",
       "\t<tr><td>092</td><td>Felipe II           </td><td>2021</td><td>43</td><td>226</td><td>215</td><td>14.797959</td><td> 6.9555518894</td><td>2.814061</td><td>944.3144</td><td>⋯</td><td>0.2594908</td><td>0.14516249</td><td>0.4759882</td><td>0.5564819</td><td>   916183.4</td><td>22138.5806</td><td>190</td><td> 94</td><td>226</td><td>TRUE</td></tr>\n",
       "\t<tr><td>157</td><td>Manzanares El Real  </td><td>2021</td><td>38</td><td>  0</td><td>  0</td><td>12.402842</td><td> 4.1292397434</td><td>3.330442</td><td>862.0792</td><td>⋯</td><td>0.4593845</td><td>0.11571153</td><td>0.5753021</td><td>0.6505048</td><td>167919762.5</td><td>  102.6026</td><td>112</td><td> 19</td><td>  0</td><td>TRUE</td></tr>\n",
       "\t<tr><td>128</td><td>NA                  </td><td>2021</td><td>35</td><td> NA</td><td> NA</td><td>22.529323</td><td> 1.0684071398</td><td>2.083048</td><td>942.5243</td><td>⋯</td><td>       NA</td><td>        NA</td><td>       NA</td><td>       NA</td><td>         NA</td><td>        NA</td><td> NA</td><td> NA</td><td> NA</td><td>TRUE</td></tr>\n",
       "\t<tr><td>169</td><td>Mendiguchía Carriche</td><td>2021</td><td>52</td><td>246</td><td>241</td><td>10.256255</td><td>-0.0015043215</td><td>3.249914</td><td>950.7763</td><td>⋯</td><td>0.2208037</td><td>0.15819436</td><td>0.4317924</td><td>0.5129976</td><td>  2967108.7</td><td> 6996.0363</td><td>780</td><td> 88</td><td>246</td><td>TRUE</td></tr>\n",
       "\t<tr><td>255</td><td>Sánchez Morate      </td><td>2021</td><td>36</td><td>  0</td><td>  0</td><td>24.205270</td><td>-0.0048675728</td><td>4.021131</td><td>946.1944</td><td>⋯</td><td>0.2018453</td><td>0.17395414</td><td>0.4097815</td><td>0.4961929</td><td>   448426.0</td><td>36302.5316</td><td> 97</td><td> 13</td><td>  0</td><td>TRUE</td></tr>\n",
       "\t<tr><td>011</td><td>Alicante            </td><td>2021</td><td>50</td><td>286</td><td>269</td><td> 7.071310</td><td> 0.0017423334</td><td>1.521070</td><td>955.7281</td><td>⋯</td><td>0.1804427</td><td>0.17310543</td><td>0.4762972</td><td>0.5749265</td><td>   823484.1</td><td>30013.9354</td><td>262</td><td> 78</td><td>286</td><td>TRUE</td></tr>\n",
       "\t<tr><td>128</td><td>La Ribota           </td><td>2021</td><td>37</td><td>  0</td><td>  0</td><td>20.244794</td><td> 3.3733587327</td><td>2.172163</td><td>942.6322</td><td>⋯</td><td>0.4406703</td><td>0.11272335</td><td>0.6094153</td><td>0.6814646</td><td>  1364369.5</td><td>24969.7749</td><td> 79</td><td> 15</td><td>  0</td><td>TRUE</td></tr>\n",
       "\t<tr><td>092</td><td>NA                  </td><td>2021</td><td>35</td><td> NA</td><td> NA</td><td>22.619476</td><td> 1.0330022190</td><td>2.059874</td><td>944.4853</td><td>⋯</td><td>       NA</td><td>        NA</td><td>       NA</td><td>       NA</td><td>         NA</td><td>        NA</td><td> NA</td><td> NA</td><td> NA</td><td>TRUE</td></tr>\n",
       "\t<tr><td>155</td><td>Majadahonda         </td><td>2021</td><td>51</td><td>622</td><td>585</td><td> 8.346388</td><td> 3.5765342561</td><td>1.792176</td><td>923.8810</td><td>⋯</td><td>0.5570257</td><td>0.08802468</td><td>0.5018791</td><td>0.5505073</td><td> 30837796.0</td><td> 1658.4843</td><td>300</td><td> 88</td><td>622</td><td>TRUE</td></tr>\n",
       "\t<tr><td>222</td><td>NA                  </td><td>2021</td><td>35</td><td> NA</td><td> NA</td><td>16.530520</td><td> 2.6088701769</td><td>2.329809</td><td>842.0219</td><td>⋯</td><td>       NA</td><td>        NA</td><td>       NA</td><td>       NA</td><td>         NA</td><td>        NA</td><td> NA</td><td> NA</td><td> NA</td><td>TRUE</td></tr>\n",
       "\t<tr><td>281</td><td>Vinateros - Torito  </td><td>2021</td><td>39</td><td>  0</td><td>  0</td><td>18.460882</td><td> 1.5596533986</td><td>2.401577</td><td>948.1907</td><td>⋯</td><td>0.3698405</td><td>0.12624232</td><td>0.4421018</td><td>0.5068520</td><td>  1062141.5</td><td>28668.4977</td><td>143</td><td> 29</td><td>  0</td><td>TRUE</td></tr>\n",
       "\t<tr><td>196</td><td>Parque Coimbra      </td><td>2021</td><td>42</td><td>146</td><td>133</td><td>16.723220</td><td> 0.0000000000</td><td>1.701915</td><td>951.2311</td><td>⋯</td><td>0.3466252</td><td>0.13851782</td><td>0.5154398</td><td>0.5971826</td><td>  3641612.0</td><td> 3588.5207</td><td>254</td><td>100</td><td>146</td><td>TRUE</td></tr>\n",
       "\t<tr><td>197</td><td>Parque Europa       </td><td>2021</td><td>40</td><td>  0</td><td>  0</td><td>17.917016</td><td> 0.2022836300</td><td>2.102423</td><td>956.4119</td><td>⋯</td><td>0.3674682</td><td>0.12162583</td><td>0.6098299</td><td>0.6903435</td><td> 30038715.9</td><td> 1205.8438</td><td>112</td><td> 38</td><td>  0</td><td>TRUE</td></tr>\n",
       "\t<tr><td>003</td><td>Adelfas             </td><td>2021</td><td>38</td><td>  0</td><td>  0</td><td>18.195824</td><td> 7.0192269742</td><td>3.277010</td><td>944.0148</td><td>⋯</td><td>0.6031800</td><td>0.08766432</td><td>0.5262385</td><td>0.5770966</td><td>   854805.6</td><td>33847.4619</td><td>112</td><td> 19</td><td>  0</td><td>TRUE</td></tr>\n",
       "\t<tr><td>116</td><td>Isabel II           </td><td>2021</td><td>43</td><td>342</td><td>332</td><td>14.934212</td><td> 8.3140678910</td><td>2.655667</td><td>953.1482</td><td>⋯</td><td>0.1610540</td><td>0.18873647</td><td>0.4709613</td><td>0.5793636</td><td>  2726568.3</td><td>10870.4410</td><td>190</td><td> 94</td><td>342</td><td>TRUE</td></tr>\n",
       "\t<tr><td>151</td><td>Los Rosales         </td><td>2021</td><td>38</td><td>  0</td><td>  0</td><td>18.563257</td><td> 3.9867298413</td><td>3.370376</td><td>946.6045</td><td>⋯</td><td>0.2278640</td><td>0.16555562</td><td>0.4841712</td><td>0.5783214</td><td>   712586.5</td><td>26330.8385</td><td>112</td><td> 19</td><td>  0</td><td>TRUE</td></tr>\n",
       "\t<tr><td>058</td><td>Colmenar Viejo Sur  </td><td>2021</td><td>50</td><td>283</td><td>266</td><td> 8.565213</td><td> 0.0009752468</td><td>1.089799</td><td>921.4667</td><td>⋯</td><td>0.3580930</td><td>0.11659373</td><td>0.5555971</td><td>0.6281389</td><td>180448629.9</td><td>  127.5931</td><td>262</td><td> 78</td><td>283</td><td>TRUE</td></tr>\n",
       "\t<tr><td>201</td><td>NA                  </td><td>2021</td><td>35</td><td> NA</td><td> NA</td><td>22.205122</td><td> 1.9679372319</td><td>2.307824</td><td>965.1670</td><td>⋯</td><td>       NA</td><td>        NA</td><td>       NA</td><td>       NA</td><td>         NA</td><td>        NA</td><td> NA</td><td> NA</td><td> NA</td><td>TRUE</td></tr>\n",
       "\t<tr><td>143</td><td>Legazpi             </td><td>2021</td><td>37</td><td>  0</td><td>  0</td><td>20.098471</td><td> 3.8121722852</td><td>2.635214</td><td>940.1752</td><td>⋯</td><td>0.6449177</td><td>0.07693369</td><td>0.6229555</td><td>0.6733482</td><td>  1625284.2</td><td>22909.8387</td><td> 79</td><td> 15</td><td>  0</td><td>TRUE</td></tr>\n",
       "\t<tr><td>153</td><td>Lucero              </td><td>2021</td><td>45</td><td>466</td><td>433</td><td>11.120366</td><td> 0.0014767707</td><td>1.217276</td><td>938.8872</td><td>⋯</td><td>0.3368303</td><td>0.14562330</td><td>0.4692433</td><td>0.5492776</td><td>  1665138.2</td><td>23405.8652</td><td>160</td><td> 70</td><td>466</td><td>TRUE</td></tr>\n",
       "\t<tr><td>229</td><td>Rivas - 1º de Mayo  </td><td>2021</td><td>38</td><td>  0</td><td>  0</td><td>18.450369</td><td> 4.0559133888</td><td>3.208864</td><td>955.3291</td><td>⋯</td><td>0.4023244</td><td>0.16057805</td><td>0.5537022</td><td>0.6564475</td><td> 59967601.3</td><td>  201.5922</td><td>112</td><td> 19</td><td>  0</td><td>TRUE</td></tr>\n",
       "\t<tr><td>043</td><td>Caramuel            </td><td>2021</td><td>51</td><td>274</td><td>258</td><td> 9.552974</td><td> 3.3888599260</td><td>2.006684</td><td>937.3509</td><td>⋯</td><td>0.4229065</td><td>0.14810841</td><td>0.4774402</td><td>0.5607036</td><td>   834946.1</td><td>27193.3713</td><td>300</td><td> 88</td><td>274</td><td>TRUE</td></tr>\n",
       "\t<tr><td>⋮</td><td>⋮</td><td>⋮</td><td>⋮</td><td>⋮</td><td>⋮</td><td>⋮</td><td>⋮</td><td>⋮</td><td>⋮</td><td>⋱</td><td>⋮</td><td>⋮</td><td>⋮</td><td>⋮</td><td>⋮</td><td>⋮</td><td>⋮</td><td>⋮</td><td>⋮</td><td>⋮</td></tr>\n",
       "\t<tr><td>202</td><td>NA</td><td>2021</td><td>35</td><td>NA</td><td>NA</td><td>22.969466</td><td>1.24435565</td><td>2.458646</td><td>949.8860</td><td>⋯</td><td>NA</td><td>NA</td><td>NA</td><td>NA</td><td>      NA</td><td>NA</td><td> NA</td><td>NA</td><td>NA</td><td>FALSE</td></tr>\n",
       "\t<tr><td>204</td><td>NA</td><td>2021</td><td>35</td><td>NA</td><td>NA</td><td>21.924340</td><td>1.10551950</td><td>2.179596</td><td>936.2129</td><td>⋯</td><td>NA</td><td>NA</td><td>NA</td><td>NA</td><td>      NA</td><td>NA</td><td> NA</td><td>NA</td><td>NA</td><td>FALSE</td></tr>\n",
       "\t<tr><td>209</td><td>NA</td><td>2021</td><td>35</td><td>NA</td><td>NA</td><td>22.467562</td><td>1.28397485</td><td>2.430293</td><td>943.9598</td><td>⋯</td><td>NA</td><td>NA</td><td>NA</td><td>NA</td><td>      NA</td><td>NA</td><td> NA</td><td>NA</td><td>NA</td><td>FALSE</td></tr>\n",
       "\t<tr><td>212</td><td>NA</td><td>2021</td><td>35</td><td>NA</td><td>NA</td><td>21.890695</td><td>1.05973625</td><td>2.088924</td><td>933.2166</td><td>⋯</td><td>NA</td><td>NA</td><td>NA</td><td>NA</td><td>      NA</td><td>NA</td><td> NA</td><td>NA</td><td>NA</td><td>FALSE</td></tr>\n",
       "\t<tr><td>214</td><td>NA</td><td>2021</td><td>35</td><td>NA</td><td>NA</td><td>22.413373</td><td>0.99409713</td><td>2.000645</td><td>942.2064</td><td>⋯</td><td>NA</td><td>NA</td><td>NA</td><td>NA</td><td>      NA</td><td>NA</td><td> NA</td><td>NA</td><td>NA</td><td>FALSE</td></tr>\n",
       "\t<tr><td>215</td><td>NA</td><td>2021</td><td>35</td><td>NA</td><td>NA</td><td>22.152775</td><td>1.23047008</td><td>2.323143</td><td>941.4096</td><td>⋯</td><td>NA</td><td>NA</td><td>NA</td><td>NA</td><td>      NA</td><td>NA</td><td> NA</td><td>NA</td><td>NA</td><td>FALSE</td></tr>\n",
       "\t<tr><td>221</td><td>NA</td><td>2021</td><td>35</td><td>NA</td><td>NA</td><td>22.499177</td><td>1.12191798</td><td>2.111668</td><td>941.5749</td><td>⋯</td><td>NA</td><td>NA</td><td>NA</td><td>NA</td><td>      NA</td><td>NA</td><td> NA</td><td>NA</td><td>NA</td><td>FALSE</td></tr>\n",
       "\t<tr><td>233</td><td>NA</td><td>2021</td><td>35</td><td>NA</td><td>NA</td><td>23.114142</td><td>1.13370735</td><td>2.119205</td><td>952.9198</td><td>⋯</td><td>NA</td><td>NA</td><td>NA</td><td>NA</td><td>      NA</td><td>NA</td><td> NA</td><td>NA</td><td>NA</td><td>FALSE</td></tr>\n",
       "\t<tr><td>236</td><td>NA</td><td>2021</td><td>35</td><td>NA</td><td>NA</td><td>22.631666</td><td>1.18877040</td><td>2.389127</td><td>942.7700</td><td>⋯</td><td>NA</td><td>NA</td><td>NA</td><td>NA</td><td>      NA</td><td>NA</td><td> NA</td><td>NA</td><td>NA</td><td>FALSE</td></tr>\n",
       "\t<tr><td>239</td><td>NA</td><td>2021</td><td>35</td><td>NA</td><td>NA</td><td>21.852826</td><td>1.00990796</td><td>2.050195</td><td>932.8206</td><td>⋯</td><td>NA</td><td>NA</td><td>NA</td><td>NA</td><td>      NA</td><td>NA</td><td> NA</td><td>NA</td><td>NA</td><td>FALSE</td></tr>\n",
       "\t<tr><td>245</td><td>NA</td><td>2021</td><td>35</td><td>NA</td><td>NA</td><td>21.269987</td><td>0.99635534</td><td>1.931698</td><td>925.1955</td><td>⋯</td><td>NA</td><td>NA</td><td>NA</td><td>NA</td><td>      NA</td><td>NA</td><td> NA</td><td>NA</td><td>NA</td><td>FALSE</td></tr>\n",
       "\t<tr><td>264</td><td>NA</td><td>2021</td><td>35</td><td>NA</td><td>NA</td><td>23.217141</td><td>1.72818176</td><td>2.151684</td><td>957.9959</td><td>⋯</td><td>NA</td><td>NA</td><td>NA</td><td>NA</td><td>      NA</td><td>NA</td><td> NA</td><td>NA</td><td>NA</td><td>FALSE</td></tr>\n",
       "\t<tr><td>269</td><td>NA</td><td>2021</td><td>35</td><td>NA</td><td>NA</td><td>22.006057</td><td>1.39961828</td><td>2.548777</td><td>951.2437</td><td>⋯</td><td>NA</td><td>NA</td><td>NA</td><td>NA</td><td>      NA</td><td>NA</td><td> NA</td><td>NA</td><td>NA</td><td>FALSE</td></tr>\n",
       "\t<tr><td>274</td><td>NA</td><td>2021</td><td>35</td><td>NA</td><td>NA</td><td>22.522162</td><td>1.32234421</td><td>2.489400</td><td>946.7203</td><td>⋯</td><td>NA</td><td>NA</td><td>NA</td><td>NA</td><td>      NA</td><td>NA</td><td> NA</td><td>NA</td><td>NA</td><td>FALSE</td></tr>\n",
       "\t<tr><td>226</td><td>NA</td><td>2021</td><td>38</td><td>NA</td><td>NA</td><td>18.162218</td><td>3.61698860</td><td>3.264317</td><td>950.9148</td><td>⋯</td><td>NA</td><td>NA</td><td>NA</td><td>NA</td><td>13276063</td><td>NA</td><td>112</td><td>19</td><td>NA</td><td>FALSE</td></tr>\n",
       "\t<tr><td>171</td><td>NA</td><td>2021</td><td>39</td><td>NA</td><td>NA</td><td>17.517369</td><td>1.96385103</td><td>2.000563</td><td>954.2091</td><td>⋯</td><td>NA</td><td>NA</td><td>NA</td><td>NA</td><td>14391146</td><td>NA</td><td>143</td><td>29</td><td>NA</td><td>FALSE</td></tr>\n",
       "\t<tr><td>226</td><td>NA</td><td>2021</td><td>39</td><td>NA</td><td>NA</td><td>17.487348</td><td>1.76548684</td><td>2.044655</td><td>952.3971</td><td>⋯</td><td>NA</td><td>NA</td><td>NA</td><td>NA</td><td>13276063</td><td>NA</td><td>143</td><td>29</td><td>NA</td><td>FALSE</td></tr>\n",
       "\t<tr><td>171</td><td>NA</td><td>2021</td><td>40</td><td>NA</td><td>NA</td><td>16.204214</td><td>0.11658780</td><td>1.950645</td><td>953.7785</td><td>⋯</td><td>NA</td><td>NA</td><td>NA</td><td>NA</td><td>14391146</td><td>NA</td><td>112</td><td>38</td><td>NA</td><td>FALSE</td></tr>\n",
       "\t<tr><td>165</td><td>NA</td><td>2021</td><td>41</td><td>NA</td><td>NA</td><td>16.754649</td><td>0.24196077</td><td>1.481461</td><td>953.6901</td><td>⋯</td><td>NA</td><td>NA</td><td>NA</td><td>NA</td><td> 4387189</td><td>NA</td><td>130</td><td>65</td><td>NA</td><td>FALSE</td></tr>\n",
       "\t<tr><td>165</td><td>NA</td><td>2021</td><td>44</td><td>NA</td><td>NA</td><td> 8.954554</td><td>1.50369557</td><td>3.906924</td><td>951.8316</td><td>⋯</td><td>NA</td><td>NA</td><td>NA</td><td>NA</td><td> 4387189</td><td>NA</td><td>198</td><td>63</td><td>NA</td><td>FALSE</td></tr>\n",
       "\t<tr><td>226</td><td>NA</td><td>2021</td><td>44</td><td>NA</td><td>NA</td><td> 8.783140</td><td>0.94162507</td><td>4.074255</td><td>948.9526</td><td>⋯</td><td>NA</td><td>NA</td><td>NA</td><td>NA</td><td>13276063</td><td>NA</td><td>198</td><td>63</td><td>NA</td><td>FALSE</td></tr>\n",
       "\t<tr><td>165</td><td>NA</td><td>2021</td><td>45</td><td>NA</td><td>NA</td><td>11.092149</td><td>0.00737205</td><td>2.548101</td><td>952.1452</td><td>⋯</td><td>NA</td><td>NA</td><td>NA</td><td>NA</td><td> 4387189</td><td>NA</td><td>160</td><td>70</td><td>NA</td><td>FALSE</td></tr>\n",
       "\t<tr><td>123</td><td>NA</td><td>2021</td><td>47</td><td>NA</td><td>NA</td><td> 5.032878</td><td>2.06061537</td><td>3.492399</td><td>942.1227</td><td>⋯</td><td>NA</td><td>NA</td><td>NA</td><td>NA</td><td>17069020</td><td>NA</td><td>280</td><td>64</td><td>NA</td><td>FALSE</td></tr>\n",
       "\t<tr><td>165</td><td>NA</td><td>2021</td><td>48</td><td>NA</td><td>NA</td><td> 5.981794</td><td>1.05245886</td><td>3.460360</td><td>955.6220</td><td>⋯</td><td>NA</td><td>NA</td><td>NA</td><td>NA</td><td> 4387189</td><td>NA</td><td>312</td><td>57</td><td>NA</td><td>FALSE</td></tr>\n",
       "\t<tr><td>171</td><td>NA</td><td>2021</td><td>48</td><td>NA</td><td>NA</td><td> 6.039139</td><td>0.82760389</td><td>3.455709</td><td>954.5451</td><td>⋯</td><td>NA</td><td>NA</td><td>NA</td><td>NA</td><td>14391146</td><td>NA</td><td>312</td><td>57</td><td>NA</td><td>FALSE</td></tr>\n",
       "\t<tr><td>165</td><td>NA</td><td>2021</td><td>51</td><td>NA</td><td>NA</td><td> 8.521118</td><td>2.71474525</td><td>1.546797</td><td>950.2471</td><td>⋯</td><td>NA</td><td>NA</td><td>NA</td><td>NA</td><td> 4387189</td><td>NA</td><td>300</td><td>88</td><td>NA</td><td>FALSE</td></tr>\n",
       "\t<tr><td>171</td><td>NA</td><td>2021</td><td>51</td><td>NA</td><td>NA</td><td> 8.496815</td><td>2.80484592</td><td>1.534041</td><td>949.1712</td><td>⋯</td><td>NA</td><td>NA</td><td>NA</td><td>NA</td><td>14391146</td><td>NA</td><td>300</td><td>88</td><td>NA</td><td>FALSE</td></tr>\n",
       "\t<tr><td>226</td><td>NA</td><td>2021</td><td>51</td><td>NA</td><td>NA</td><td> 8.472849</td><td>2.93737825</td><td>1.574764</td><td>947.3486</td><td>⋯</td><td>NA</td><td>NA</td><td>NA</td><td>NA</td><td>13276063</td><td>NA</td><td>300</td><td>88</td><td>NA</td><td>FALSE</td></tr>\n",
       "\t<tr><td>165</td><td>NA</td><td>2021</td><td>52</td><td>NA</td><td>NA</td><td> 9.305814</td><td>0.28359256</td><td>2.401445</td><td>957.5610</td><td>⋯</td><td>NA</td><td>NA</td><td>NA</td><td>NA</td><td> 4387189</td><td>NA</td><td>780</td><td>88</td><td>NA</td><td>FALSE</td></tr>\n",
       "\t<tr><td>226</td><td>NA</td><td>2021</td><td>52</td><td>NA</td><td>NA</td><td> 9.207452</td><td>0.09308302</td><td>2.515882</td><td>954.7164</td><td>⋯</td><td>NA</td><td>NA</td><td>NA</td><td>NA</td><td>13276063</td><td>NA</td><td>780</td><td>88</td><td>NA</td><td>FALSE</td></tr>\n",
       "</tbody>\n",
       "</table>\n"
      ],
      "text/latex": [
       "A spec\\_tbl\\_df: 5148 × 49\n",
       "\\begin{tabular}{lllllllllllllllllllll}\n",
       " GEOCODIGO & DESBDT & ano & semana & n\\_vacunas & n\\_citas & tmed & prec & velmedia & presMax & ⋯ & t9\\_1 & t10\\_1 & t11\\_1 & t12\\_1 & area & densidad\\_hab\\_km & tuits\\_gripe & interes\\_gripe & Target & is\\_train\\\\\n",
       " <chr> & <chr> & <dbl> & <dbl> & <dbl> & <dbl> & <dbl> & <dbl> & <dbl> & <dbl> & ⋯ & <dbl> & <dbl> & <dbl> & <dbl> & <dbl> & <dbl> & <dbl> & <dbl> & <dbl> & <lgl>\\\\\n",
       "\\hline\n",
       "\t 092 & Felipe II            & 2021 & 47 & 248 & 228 &  6.078661 &  1.0719805983 & 2.700305 & 938.7558 & ⋯ & 0.2594908 & 0.14516249 & 0.4759882 & 0.5564819 &    916183.4 & 22138.5806 & 280 &  64 & 248 & TRUE\\\\\n",
       "\t 040 & Canal de Panamá      & 2021 & 37 &   0 &   0 & 19.878869 &  4.1447802375 & 2.575349 & 943.0739 & ⋯ & 0.4866866 & 0.12070471 & 0.4696157 & 0.5343907 &   1394676.1 & 22029.4879 &  79 &  15 &   0 & TRUE\\\\\n",
       "\t 261 & Valdebernardo        & 2021 & 42 & 185 & 183 & 15.813806 &  0.0000000000 & 2.116845 & 951.1437 & ⋯ & 0.4213997 & 0.15339911 & 0.5117686 & 0.6048410 &   1452762.2 & 11210.3689 & 254 & 100 & 185 & TRUE\\\\\n",
       "\t 209 & Portazgo             & 2021 & 45 & 215 & 213 & 10.457078 & -0.0014319311 & 1.568141 & 944.8039 & ⋯ & 0.2192226 & 0.17912995 & 0.4312525 & 0.5261093 &   1165705.1 & 15269.7276 & 160 &  70 & 215 & TRUE\\\\\n",
       "\t 137 & Las Matas            & 2021 & 36 &   0 &   0 & 21.968429 &  0.0611860341 & 3.079440 & 913.7501 & ⋯ & 0.5515307 & 0.08716812 & 0.4943178 & 0.5414490 &   7951396.5 &   837.8402 &  97 &  13 &   0 & TRUE\\\\\n",
       "\t 148 & Los Cármenes         & 2021 & 52 & 314 & 305 & 10.799898 & -0.0874709189 & 3.199149 & 945.0250 & ⋯ & 0.2588885 & 0.19712587 & 0.4428873 & 0.5510904 &   1597376.5 & 15830.3315 & 780 &  88 & 314 & TRUE\\\\\n",
       "\t 248 & Segovia              & 2021 & 36 &   0 &   0 & 23.617478 &  0.0039819559 & 3.473189 & 939.5955 & ⋯ & 0.6033543 & 0.13499734 & 0.5297775 & 0.6125977 &    802151.4 & 29061.8456 &  97 &  13 &   0 & TRUE\\\\\n",
       "\t 190 & Orcasur              & 2021 & 46 & 131 & 119 & 10.204537 &  0.0450972341 & 2.319521 & 946.0922 & ⋯ & 0.1755605 & 0.24707340 & 0.4146549 & 0.5496564 &   1423084.5 &  7693.8507 & 206 &  64 & 131 & TRUE\\\\\n",
       "\t 092 & Felipe II            & 2021 & 43 & 226 & 215 & 14.797959 &  6.9555518894 & 2.814061 & 944.3144 & ⋯ & 0.2594908 & 0.14516249 & 0.4759882 & 0.5564819 &    916183.4 & 22138.5806 & 190 &  94 & 226 & TRUE\\\\\n",
       "\t 157 & Manzanares El Real   & 2021 & 38 &   0 &   0 & 12.402842 &  4.1292397434 & 3.330442 & 862.0792 & ⋯ & 0.4593845 & 0.11571153 & 0.5753021 & 0.6505048 & 167919762.5 &   102.6026 & 112 &  19 &   0 & TRUE\\\\\n",
       "\t 128 & NA                   & 2021 & 35 &  NA &  NA & 22.529323 &  1.0684071398 & 2.083048 & 942.5243 & ⋯ &        NA &         NA &        NA &        NA &          NA &         NA &  NA &  NA &  NA & TRUE\\\\\n",
       "\t 169 & Mendiguchía Carriche & 2021 & 52 & 246 & 241 & 10.256255 & -0.0015043215 & 3.249914 & 950.7763 & ⋯ & 0.2208037 & 0.15819436 & 0.4317924 & 0.5129976 &   2967108.7 &  6996.0363 & 780 &  88 & 246 & TRUE\\\\\n",
       "\t 255 & Sánchez Morate       & 2021 & 36 &   0 &   0 & 24.205270 & -0.0048675728 & 4.021131 & 946.1944 & ⋯ & 0.2018453 & 0.17395414 & 0.4097815 & 0.4961929 &    448426.0 & 36302.5316 &  97 &  13 &   0 & TRUE\\\\\n",
       "\t 011 & Alicante             & 2021 & 50 & 286 & 269 &  7.071310 &  0.0017423334 & 1.521070 & 955.7281 & ⋯ & 0.1804427 & 0.17310543 & 0.4762972 & 0.5749265 &    823484.1 & 30013.9354 & 262 &  78 & 286 & TRUE\\\\\n",
       "\t 128 & La Ribota            & 2021 & 37 &   0 &   0 & 20.244794 &  3.3733587327 & 2.172163 & 942.6322 & ⋯ & 0.4406703 & 0.11272335 & 0.6094153 & 0.6814646 &   1364369.5 & 24969.7749 &  79 &  15 &   0 & TRUE\\\\\n",
       "\t 092 & NA                   & 2021 & 35 &  NA &  NA & 22.619476 &  1.0330022190 & 2.059874 & 944.4853 & ⋯ &        NA &         NA &        NA &        NA &          NA &         NA &  NA &  NA &  NA & TRUE\\\\\n",
       "\t 155 & Majadahonda          & 2021 & 51 & 622 & 585 &  8.346388 &  3.5765342561 & 1.792176 & 923.8810 & ⋯ & 0.5570257 & 0.08802468 & 0.5018791 & 0.5505073 &  30837796.0 &  1658.4843 & 300 &  88 & 622 & TRUE\\\\\n",
       "\t 222 & NA                   & 2021 & 35 &  NA &  NA & 16.530520 &  2.6088701769 & 2.329809 & 842.0219 & ⋯ &        NA &         NA &        NA &        NA &          NA &         NA &  NA &  NA &  NA & TRUE\\\\\n",
       "\t 281 & Vinateros - Torito   & 2021 & 39 &   0 &   0 & 18.460882 &  1.5596533986 & 2.401577 & 948.1907 & ⋯ & 0.3698405 & 0.12624232 & 0.4421018 & 0.5068520 &   1062141.5 & 28668.4977 & 143 &  29 &   0 & TRUE\\\\\n",
       "\t 196 & Parque Coimbra       & 2021 & 42 & 146 & 133 & 16.723220 &  0.0000000000 & 1.701915 & 951.2311 & ⋯ & 0.3466252 & 0.13851782 & 0.5154398 & 0.5971826 &   3641612.0 &  3588.5207 & 254 & 100 & 146 & TRUE\\\\\n",
       "\t 197 & Parque Europa        & 2021 & 40 &   0 &   0 & 17.917016 &  0.2022836300 & 2.102423 & 956.4119 & ⋯ & 0.3674682 & 0.12162583 & 0.6098299 & 0.6903435 &  30038715.9 &  1205.8438 & 112 &  38 &   0 & TRUE\\\\\n",
       "\t 003 & Adelfas              & 2021 & 38 &   0 &   0 & 18.195824 &  7.0192269742 & 3.277010 & 944.0148 & ⋯ & 0.6031800 & 0.08766432 & 0.5262385 & 0.5770966 &    854805.6 & 33847.4619 & 112 &  19 &   0 & TRUE\\\\\n",
       "\t 116 & Isabel II            & 2021 & 43 & 342 & 332 & 14.934212 &  8.3140678910 & 2.655667 & 953.1482 & ⋯ & 0.1610540 & 0.18873647 & 0.4709613 & 0.5793636 &   2726568.3 & 10870.4410 & 190 &  94 & 342 & TRUE\\\\\n",
       "\t 151 & Los Rosales          & 2021 & 38 &   0 &   0 & 18.563257 &  3.9867298413 & 3.370376 & 946.6045 & ⋯ & 0.2278640 & 0.16555562 & 0.4841712 & 0.5783214 &    712586.5 & 26330.8385 & 112 &  19 &   0 & TRUE\\\\\n",
       "\t 058 & Colmenar Viejo Sur   & 2021 & 50 & 283 & 266 &  8.565213 &  0.0009752468 & 1.089799 & 921.4667 & ⋯ & 0.3580930 & 0.11659373 & 0.5555971 & 0.6281389 & 180448629.9 &   127.5931 & 262 &  78 & 283 & TRUE\\\\\n",
       "\t 201 & NA                   & 2021 & 35 &  NA &  NA & 22.205122 &  1.9679372319 & 2.307824 & 965.1670 & ⋯ &        NA &         NA &        NA &        NA &          NA &         NA &  NA &  NA &  NA & TRUE\\\\\n",
       "\t 143 & Legazpi              & 2021 & 37 &   0 &   0 & 20.098471 &  3.8121722852 & 2.635214 & 940.1752 & ⋯ & 0.6449177 & 0.07693369 & 0.6229555 & 0.6733482 &   1625284.2 & 22909.8387 &  79 &  15 &   0 & TRUE\\\\\n",
       "\t 153 & Lucero               & 2021 & 45 & 466 & 433 & 11.120366 &  0.0014767707 & 1.217276 & 938.8872 & ⋯ & 0.3368303 & 0.14562330 & 0.4692433 & 0.5492776 &   1665138.2 & 23405.8652 & 160 &  70 & 466 & TRUE\\\\\n",
       "\t 229 & Rivas - 1º de Mayo   & 2021 & 38 &   0 &   0 & 18.450369 &  4.0559133888 & 3.208864 & 955.3291 & ⋯ & 0.4023244 & 0.16057805 & 0.5537022 & 0.6564475 &  59967601.3 &   201.5922 & 112 &  19 &   0 & TRUE\\\\\n",
       "\t 043 & Caramuel             & 2021 & 51 & 274 & 258 &  9.552974 &  3.3888599260 & 2.006684 & 937.3509 & ⋯ & 0.4229065 & 0.14810841 & 0.4774402 & 0.5607036 &    834946.1 & 27193.3713 & 300 &  88 & 274 & TRUE\\\\\n",
       "\t ⋮ & ⋮ & ⋮ & ⋮ & ⋮ & ⋮ & ⋮ & ⋮ & ⋮ & ⋮ & ⋱ & ⋮ & ⋮ & ⋮ & ⋮ & ⋮ & ⋮ & ⋮ & ⋮ & ⋮ & ⋮\\\\\n",
       "\t 202 & NA & 2021 & 35 & NA & NA & 22.969466 & 1.24435565 & 2.458646 & 949.8860 & ⋯ & NA & NA & NA & NA &       NA & NA &  NA & NA & NA & FALSE\\\\\n",
       "\t 204 & NA & 2021 & 35 & NA & NA & 21.924340 & 1.10551950 & 2.179596 & 936.2129 & ⋯ & NA & NA & NA & NA &       NA & NA &  NA & NA & NA & FALSE\\\\\n",
       "\t 209 & NA & 2021 & 35 & NA & NA & 22.467562 & 1.28397485 & 2.430293 & 943.9598 & ⋯ & NA & NA & NA & NA &       NA & NA &  NA & NA & NA & FALSE\\\\\n",
       "\t 212 & NA & 2021 & 35 & NA & NA & 21.890695 & 1.05973625 & 2.088924 & 933.2166 & ⋯ & NA & NA & NA & NA &       NA & NA &  NA & NA & NA & FALSE\\\\\n",
       "\t 214 & NA & 2021 & 35 & NA & NA & 22.413373 & 0.99409713 & 2.000645 & 942.2064 & ⋯ & NA & NA & NA & NA &       NA & NA &  NA & NA & NA & FALSE\\\\\n",
       "\t 215 & NA & 2021 & 35 & NA & NA & 22.152775 & 1.23047008 & 2.323143 & 941.4096 & ⋯ & NA & NA & NA & NA &       NA & NA &  NA & NA & NA & FALSE\\\\\n",
       "\t 221 & NA & 2021 & 35 & NA & NA & 22.499177 & 1.12191798 & 2.111668 & 941.5749 & ⋯ & NA & NA & NA & NA &       NA & NA &  NA & NA & NA & FALSE\\\\\n",
       "\t 233 & NA & 2021 & 35 & NA & NA & 23.114142 & 1.13370735 & 2.119205 & 952.9198 & ⋯ & NA & NA & NA & NA &       NA & NA &  NA & NA & NA & FALSE\\\\\n",
       "\t 236 & NA & 2021 & 35 & NA & NA & 22.631666 & 1.18877040 & 2.389127 & 942.7700 & ⋯ & NA & NA & NA & NA &       NA & NA &  NA & NA & NA & FALSE\\\\\n",
       "\t 239 & NA & 2021 & 35 & NA & NA & 21.852826 & 1.00990796 & 2.050195 & 932.8206 & ⋯ & NA & NA & NA & NA &       NA & NA &  NA & NA & NA & FALSE\\\\\n",
       "\t 245 & NA & 2021 & 35 & NA & NA & 21.269987 & 0.99635534 & 1.931698 & 925.1955 & ⋯ & NA & NA & NA & NA &       NA & NA &  NA & NA & NA & FALSE\\\\\n",
       "\t 264 & NA & 2021 & 35 & NA & NA & 23.217141 & 1.72818176 & 2.151684 & 957.9959 & ⋯ & NA & NA & NA & NA &       NA & NA &  NA & NA & NA & FALSE\\\\\n",
       "\t 269 & NA & 2021 & 35 & NA & NA & 22.006057 & 1.39961828 & 2.548777 & 951.2437 & ⋯ & NA & NA & NA & NA &       NA & NA &  NA & NA & NA & FALSE\\\\\n",
       "\t 274 & NA & 2021 & 35 & NA & NA & 22.522162 & 1.32234421 & 2.489400 & 946.7203 & ⋯ & NA & NA & NA & NA &       NA & NA &  NA & NA & NA & FALSE\\\\\n",
       "\t 226 & NA & 2021 & 38 & NA & NA & 18.162218 & 3.61698860 & 3.264317 & 950.9148 & ⋯ & NA & NA & NA & NA & 13276063 & NA & 112 & 19 & NA & FALSE\\\\\n",
       "\t 171 & NA & 2021 & 39 & NA & NA & 17.517369 & 1.96385103 & 2.000563 & 954.2091 & ⋯ & NA & NA & NA & NA & 14391146 & NA & 143 & 29 & NA & FALSE\\\\\n",
       "\t 226 & NA & 2021 & 39 & NA & NA & 17.487348 & 1.76548684 & 2.044655 & 952.3971 & ⋯ & NA & NA & NA & NA & 13276063 & NA & 143 & 29 & NA & FALSE\\\\\n",
       "\t 171 & NA & 2021 & 40 & NA & NA & 16.204214 & 0.11658780 & 1.950645 & 953.7785 & ⋯ & NA & NA & NA & NA & 14391146 & NA & 112 & 38 & NA & FALSE\\\\\n",
       "\t 165 & NA & 2021 & 41 & NA & NA & 16.754649 & 0.24196077 & 1.481461 & 953.6901 & ⋯ & NA & NA & NA & NA &  4387189 & NA & 130 & 65 & NA & FALSE\\\\\n",
       "\t 165 & NA & 2021 & 44 & NA & NA &  8.954554 & 1.50369557 & 3.906924 & 951.8316 & ⋯ & NA & NA & NA & NA &  4387189 & NA & 198 & 63 & NA & FALSE\\\\\n",
       "\t 226 & NA & 2021 & 44 & NA & NA &  8.783140 & 0.94162507 & 4.074255 & 948.9526 & ⋯ & NA & NA & NA & NA & 13276063 & NA & 198 & 63 & NA & FALSE\\\\\n",
       "\t 165 & NA & 2021 & 45 & NA & NA & 11.092149 & 0.00737205 & 2.548101 & 952.1452 & ⋯ & NA & NA & NA & NA &  4387189 & NA & 160 & 70 & NA & FALSE\\\\\n",
       "\t 123 & NA & 2021 & 47 & NA & NA &  5.032878 & 2.06061537 & 3.492399 & 942.1227 & ⋯ & NA & NA & NA & NA & 17069020 & NA & 280 & 64 & NA & FALSE\\\\\n",
       "\t 165 & NA & 2021 & 48 & NA & NA &  5.981794 & 1.05245886 & 3.460360 & 955.6220 & ⋯ & NA & NA & NA & NA &  4387189 & NA & 312 & 57 & NA & FALSE\\\\\n",
       "\t 171 & NA & 2021 & 48 & NA & NA &  6.039139 & 0.82760389 & 3.455709 & 954.5451 & ⋯ & NA & NA & NA & NA & 14391146 & NA & 312 & 57 & NA & FALSE\\\\\n",
       "\t 165 & NA & 2021 & 51 & NA & NA &  8.521118 & 2.71474525 & 1.546797 & 950.2471 & ⋯ & NA & NA & NA & NA &  4387189 & NA & 300 & 88 & NA & FALSE\\\\\n",
       "\t 171 & NA & 2021 & 51 & NA & NA &  8.496815 & 2.80484592 & 1.534041 & 949.1712 & ⋯ & NA & NA & NA & NA & 14391146 & NA & 300 & 88 & NA & FALSE\\\\\n",
       "\t 226 & NA & 2021 & 51 & NA & NA &  8.472849 & 2.93737825 & 1.574764 & 947.3486 & ⋯ & NA & NA & NA & NA & 13276063 & NA & 300 & 88 & NA & FALSE\\\\\n",
       "\t 165 & NA & 2021 & 52 & NA & NA &  9.305814 & 0.28359256 & 2.401445 & 957.5610 & ⋯ & NA & NA & NA & NA &  4387189 & NA & 780 & 88 & NA & FALSE\\\\\n",
       "\t 226 & NA & 2021 & 52 & NA & NA &  9.207452 & 0.09308302 & 2.515882 & 954.7164 & ⋯ & NA & NA & NA & NA & 13276063 & NA & 780 & 88 & NA & FALSE\\\\\n",
       "\\end{tabular}\n"
      ],
      "text/markdown": [
       "\n",
       "A spec_tbl_df: 5148 × 49\n",
       "\n",
       "| GEOCODIGO &lt;chr&gt; | DESBDT &lt;chr&gt; | ano &lt;dbl&gt; | semana &lt;dbl&gt; | n_vacunas &lt;dbl&gt; | n_citas &lt;dbl&gt; | tmed &lt;dbl&gt; | prec &lt;dbl&gt; | velmedia &lt;dbl&gt; | presMax &lt;dbl&gt; | ⋯ ⋯ | t9_1 &lt;dbl&gt; | t10_1 &lt;dbl&gt; | t11_1 &lt;dbl&gt; | t12_1 &lt;dbl&gt; | area &lt;dbl&gt; | densidad_hab_km &lt;dbl&gt; | tuits_gripe &lt;dbl&gt; | interes_gripe &lt;dbl&gt; | Target &lt;dbl&gt; | is_train &lt;lgl&gt; |\n",
       "|---|---|---|---|---|---|---|---|---|---|---|---|---|---|---|---|---|---|---|---|---|\n",
       "| 092 | Felipe II            | 2021 | 47 | 248 | 228 |  6.078661 |  1.0719805983 | 2.700305 | 938.7558 | ⋯ | 0.2594908 | 0.14516249 | 0.4759882 | 0.5564819 |    916183.4 | 22138.5806 | 280 |  64 | 248 | TRUE |\n",
       "| 040 | Canal de Panamá      | 2021 | 37 |   0 |   0 | 19.878869 |  4.1447802375 | 2.575349 | 943.0739 | ⋯ | 0.4866866 | 0.12070471 | 0.4696157 | 0.5343907 |   1394676.1 | 22029.4879 |  79 |  15 |   0 | TRUE |\n",
       "| 261 | Valdebernardo        | 2021 | 42 | 185 | 183 | 15.813806 |  0.0000000000 | 2.116845 | 951.1437 | ⋯ | 0.4213997 | 0.15339911 | 0.5117686 | 0.6048410 |   1452762.2 | 11210.3689 | 254 | 100 | 185 | TRUE |\n",
       "| 209 | Portazgo             | 2021 | 45 | 215 | 213 | 10.457078 | -0.0014319311 | 1.568141 | 944.8039 | ⋯ | 0.2192226 | 0.17912995 | 0.4312525 | 0.5261093 |   1165705.1 | 15269.7276 | 160 |  70 | 215 | TRUE |\n",
       "| 137 | Las Matas            | 2021 | 36 |   0 |   0 | 21.968429 |  0.0611860341 | 3.079440 | 913.7501 | ⋯ | 0.5515307 | 0.08716812 | 0.4943178 | 0.5414490 |   7951396.5 |   837.8402 |  97 |  13 |   0 | TRUE |\n",
       "| 148 | Los Cármenes         | 2021 | 52 | 314 | 305 | 10.799898 | -0.0874709189 | 3.199149 | 945.0250 | ⋯ | 0.2588885 | 0.19712587 | 0.4428873 | 0.5510904 |   1597376.5 | 15830.3315 | 780 |  88 | 314 | TRUE |\n",
       "| 248 | Segovia              | 2021 | 36 |   0 |   0 | 23.617478 |  0.0039819559 | 3.473189 | 939.5955 | ⋯ | 0.6033543 | 0.13499734 | 0.5297775 | 0.6125977 |    802151.4 | 29061.8456 |  97 |  13 |   0 | TRUE |\n",
       "| 190 | Orcasur              | 2021 | 46 | 131 | 119 | 10.204537 |  0.0450972341 | 2.319521 | 946.0922 | ⋯ | 0.1755605 | 0.24707340 | 0.4146549 | 0.5496564 |   1423084.5 |  7693.8507 | 206 |  64 | 131 | TRUE |\n",
       "| 092 | Felipe II            | 2021 | 43 | 226 | 215 | 14.797959 |  6.9555518894 | 2.814061 | 944.3144 | ⋯ | 0.2594908 | 0.14516249 | 0.4759882 | 0.5564819 |    916183.4 | 22138.5806 | 190 |  94 | 226 | TRUE |\n",
       "| 157 | Manzanares El Real   | 2021 | 38 |   0 |   0 | 12.402842 |  4.1292397434 | 3.330442 | 862.0792 | ⋯ | 0.4593845 | 0.11571153 | 0.5753021 | 0.6505048 | 167919762.5 |   102.6026 | 112 |  19 |   0 | TRUE |\n",
       "| 128 | NA                   | 2021 | 35 |  NA |  NA | 22.529323 |  1.0684071398 | 2.083048 | 942.5243 | ⋯ |        NA |         NA |        NA |        NA |          NA |         NA |  NA |  NA |  NA | TRUE |\n",
       "| 169 | Mendiguchía Carriche | 2021 | 52 | 246 | 241 | 10.256255 | -0.0015043215 | 3.249914 | 950.7763 | ⋯ | 0.2208037 | 0.15819436 | 0.4317924 | 0.5129976 |   2967108.7 |  6996.0363 | 780 |  88 | 246 | TRUE |\n",
       "| 255 | Sánchez Morate       | 2021 | 36 |   0 |   0 | 24.205270 | -0.0048675728 | 4.021131 | 946.1944 | ⋯ | 0.2018453 | 0.17395414 | 0.4097815 | 0.4961929 |    448426.0 | 36302.5316 |  97 |  13 |   0 | TRUE |\n",
       "| 011 | Alicante             | 2021 | 50 | 286 | 269 |  7.071310 |  0.0017423334 | 1.521070 | 955.7281 | ⋯ | 0.1804427 | 0.17310543 | 0.4762972 | 0.5749265 |    823484.1 | 30013.9354 | 262 |  78 | 286 | TRUE |\n",
       "| 128 | La Ribota            | 2021 | 37 |   0 |   0 | 20.244794 |  3.3733587327 | 2.172163 | 942.6322 | ⋯ | 0.4406703 | 0.11272335 | 0.6094153 | 0.6814646 |   1364369.5 | 24969.7749 |  79 |  15 |   0 | TRUE |\n",
       "| 092 | NA                   | 2021 | 35 |  NA |  NA | 22.619476 |  1.0330022190 | 2.059874 | 944.4853 | ⋯ |        NA |         NA |        NA |        NA |          NA |         NA |  NA |  NA |  NA | TRUE |\n",
       "| 155 | Majadahonda          | 2021 | 51 | 622 | 585 |  8.346388 |  3.5765342561 | 1.792176 | 923.8810 | ⋯ | 0.5570257 | 0.08802468 | 0.5018791 | 0.5505073 |  30837796.0 |  1658.4843 | 300 |  88 | 622 | TRUE |\n",
       "| 222 | NA                   | 2021 | 35 |  NA |  NA | 16.530520 |  2.6088701769 | 2.329809 | 842.0219 | ⋯ |        NA |         NA |        NA |        NA |          NA |         NA |  NA |  NA |  NA | TRUE |\n",
       "| 281 | Vinateros - Torito   | 2021 | 39 |   0 |   0 | 18.460882 |  1.5596533986 | 2.401577 | 948.1907 | ⋯ | 0.3698405 | 0.12624232 | 0.4421018 | 0.5068520 |   1062141.5 | 28668.4977 | 143 |  29 |   0 | TRUE |\n",
       "| 196 | Parque Coimbra       | 2021 | 42 | 146 | 133 | 16.723220 |  0.0000000000 | 1.701915 | 951.2311 | ⋯ | 0.3466252 | 0.13851782 | 0.5154398 | 0.5971826 |   3641612.0 |  3588.5207 | 254 | 100 | 146 | TRUE |\n",
       "| 197 | Parque Europa        | 2021 | 40 |   0 |   0 | 17.917016 |  0.2022836300 | 2.102423 | 956.4119 | ⋯ | 0.3674682 | 0.12162583 | 0.6098299 | 0.6903435 |  30038715.9 |  1205.8438 | 112 |  38 |   0 | TRUE |\n",
       "| 003 | Adelfas              | 2021 | 38 |   0 |   0 | 18.195824 |  7.0192269742 | 3.277010 | 944.0148 | ⋯ | 0.6031800 | 0.08766432 | 0.5262385 | 0.5770966 |    854805.6 | 33847.4619 | 112 |  19 |   0 | TRUE |\n",
       "| 116 | Isabel II            | 2021 | 43 | 342 | 332 | 14.934212 |  8.3140678910 | 2.655667 | 953.1482 | ⋯ | 0.1610540 | 0.18873647 | 0.4709613 | 0.5793636 |   2726568.3 | 10870.4410 | 190 |  94 | 342 | TRUE |\n",
       "| 151 | Los Rosales          | 2021 | 38 |   0 |   0 | 18.563257 |  3.9867298413 | 3.370376 | 946.6045 | ⋯ | 0.2278640 | 0.16555562 | 0.4841712 | 0.5783214 |    712586.5 | 26330.8385 | 112 |  19 |   0 | TRUE |\n",
       "| 058 | Colmenar Viejo Sur   | 2021 | 50 | 283 | 266 |  8.565213 |  0.0009752468 | 1.089799 | 921.4667 | ⋯ | 0.3580930 | 0.11659373 | 0.5555971 | 0.6281389 | 180448629.9 |   127.5931 | 262 |  78 | 283 | TRUE |\n",
       "| 201 | NA                   | 2021 | 35 |  NA |  NA | 22.205122 |  1.9679372319 | 2.307824 | 965.1670 | ⋯ |        NA |         NA |        NA |        NA |          NA |         NA |  NA |  NA |  NA | TRUE |\n",
       "| 143 | Legazpi              | 2021 | 37 |   0 |   0 | 20.098471 |  3.8121722852 | 2.635214 | 940.1752 | ⋯ | 0.6449177 | 0.07693369 | 0.6229555 | 0.6733482 |   1625284.2 | 22909.8387 |  79 |  15 |   0 | TRUE |\n",
       "| 153 | Lucero               | 2021 | 45 | 466 | 433 | 11.120366 |  0.0014767707 | 1.217276 | 938.8872 | ⋯ | 0.3368303 | 0.14562330 | 0.4692433 | 0.5492776 |   1665138.2 | 23405.8652 | 160 |  70 | 466 | TRUE |\n",
       "| 229 | Rivas - 1º de Mayo   | 2021 | 38 |   0 |   0 | 18.450369 |  4.0559133888 | 3.208864 | 955.3291 | ⋯ | 0.4023244 | 0.16057805 | 0.5537022 | 0.6564475 |  59967601.3 |   201.5922 | 112 |  19 |   0 | TRUE |\n",
       "| 043 | Caramuel             | 2021 | 51 | 274 | 258 |  9.552974 |  3.3888599260 | 2.006684 | 937.3509 | ⋯ | 0.4229065 | 0.14810841 | 0.4774402 | 0.5607036 |    834946.1 | 27193.3713 | 300 |  88 | 274 | TRUE |\n",
       "| ⋮ | ⋮ | ⋮ | ⋮ | ⋮ | ⋮ | ⋮ | ⋮ | ⋮ | ⋮ | ⋱ | ⋮ | ⋮ | ⋮ | ⋮ | ⋮ | ⋮ | ⋮ | ⋮ | ⋮ | ⋮ |\n",
       "| 202 | NA | 2021 | 35 | NA | NA | 22.969466 | 1.24435565 | 2.458646 | 949.8860 | ⋯ | NA | NA | NA | NA |       NA | NA |  NA | NA | NA | FALSE |\n",
       "| 204 | NA | 2021 | 35 | NA | NA | 21.924340 | 1.10551950 | 2.179596 | 936.2129 | ⋯ | NA | NA | NA | NA |       NA | NA |  NA | NA | NA | FALSE |\n",
       "| 209 | NA | 2021 | 35 | NA | NA | 22.467562 | 1.28397485 | 2.430293 | 943.9598 | ⋯ | NA | NA | NA | NA |       NA | NA |  NA | NA | NA | FALSE |\n",
       "| 212 | NA | 2021 | 35 | NA | NA | 21.890695 | 1.05973625 | 2.088924 | 933.2166 | ⋯ | NA | NA | NA | NA |       NA | NA |  NA | NA | NA | FALSE |\n",
       "| 214 | NA | 2021 | 35 | NA | NA | 22.413373 | 0.99409713 | 2.000645 | 942.2064 | ⋯ | NA | NA | NA | NA |       NA | NA |  NA | NA | NA | FALSE |\n",
       "| 215 | NA | 2021 | 35 | NA | NA | 22.152775 | 1.23047008 | 2.323143 | 941.4096 | ⋯ | NA | NA | NA | NA |       NA | NA |  NA | NA | NA | FALSE |\n",
       "| 221 | NA | 2021 | 35 | NA | NA | 22.499177 | 1.12191798 | 2.111668 | 941.5749 | ⋯ | NA | NA | NA | NA |       NA | NA |  NA | NA | NA | FALSE |\n",
       "| 233 | NA | 2021 | 35 | NA | NA | 23.114142 | 1.13370735 | 2.119205 | 952.9198 | ⋯ | NA | NA | NA | NA |       NA | NA |  NA | NA | NA | FALSE |\n",
       "| 236 | NA | 2021 | 35 | NA | NA | 22.631666 | 1.18877040 | 2.389127 | 942.7700 | ⋯ | NA | NA | NA | NA |       NA | NA |  NA | NA | NA | FALSE |\n",
       "| 239 | NA | 2021 | 35 | NA | NA | 21.852826 | 1.00990796 | 2.050195 | 932.8206 | ⋯ | NA | NA | NA | NA |       NA | NA |  NA | NA | NA | FALSE |\n",
       "| 245 | NA | 2021 | 35 | NA | NA | 21.269987 | 0.99635534 | 1.931698 | 925.1955 | ⋯ | NA | NA | NA | NA |       NA | NA |  NA | NA | NA | FALSE |\n",
       "| 264 | NA | 2021 | 35 | NA | NA | 23.217141 | 1.72818176 | 2.151684 | 957.9959 | ⋯ | NA | NA | NA | NA |       NA | NA |  NA | NA | NA | FALSE |\n",
       "| 269 | NA | 2021 | 35 | NA | NA | 22.006057 | 1.39961828 | 2.548777 | 951.2437 | ⋯ | NA | NA | NA | NA |       NA | NA |  NA | NA | NA | FALSE |\n",
       "| 274 | NA | 2021 | 35 | NA | NA | 22.522162 | 1.32234421 | 2.489400 | 946.7203 | ⋯ | NA | NA | NA | NA |       NA | NA |  NA | NA | NA | FALSE |\n",
       "| 226 | NA | 2021 | 38 | NA | NA | 18.162218 | 3.61698860 | 3.264317 | 950.9148 | ⋯ | NA | NA | NA | NA | 13276063 | NA | 112 | 19 | NA | FALSE |\n",
       "| 171 | NA | 2021 | 39 | NA | NA | 17.517369 | 1.96385103 | 2.000563 | 954.2091 | ⋯ | NA | NA | NA | NA | 14391146 | NA | 143 | 29 | NA | FALSE |\n",
       "| 226 | NA | 2021 | 39 | NA | NA | 17.487348 | 1.76548684 | 2.044655 | 952.3971 | ⋯ | NA | NA | NA | NA | 13276063 | NA | 143 | 29 | NA | FALSE |\n",
       "| 171 | NA | 2021 | 40 | NA | NA | 16.204214 | 0.11658780 | 1.950645 | 953.7785 | ⋯ | NA | NA | NA | NA | 14391146 | NA | 112 | 38 | NA | FALSE |\n",
       "| 165 | NA | 2021 | 41 | NA | NA | 16.754649 | 0.24196077 | 1.481461 | 953.6901 | ⋯ | NA | NA | NA | NA |  4387189 | NA | 130 | 65 | NA | FALSE |\n",
       "| 165 | NA | 2021 | 44 | NA | NA |  8.954554 | 1.50369557 | 3.906924 | 951.8316 | ⋯ | NA | NA | NA | NA |  4387189 | NA | 198 | 63 | NA | FALSE |\n",
       "| 226 | NA | 2021 | 44 | NA | NA |  8.783140 | 0.94162507 | 4.074255 | 948.9526 | ⋯ | NA | NA | NA | NA | 13276063 | NA | 198 | 63 | NA | FALSE |\n",
       "| 165 | NA | 2021 | 45 | NA | NA | 11.092149 | 0.00737205 | 2.548101 | 952.1452 | ⋯ | NA | NA | NA | NA |  4387189 | NA | 160 | 70 | NA | FALSE |\n",
       "| 123 | NA | 2021 | 47 | NA | NA |  5.032878 | 2.06061537 | 3.492399 | 942.1227 | ⋯ | NA | NA | NA | NA | 17069020 | NA | 280 | 64 | NA | FALSE |\n",
       "| 165 | NA | 2021 | 48 | NA | NA |  5.981794 | 1.05245886 | 3.460360 | 955.6220 | ⋯ | NA | NA | NA | NA |  4387189 | NA | 312 | 57 | NA | FALSE |\n",
       "| 171 | NA | 2021 | 48 | NA | NA |  6.039139 | 0.82760389 | 3.455709 | 954.5451 | ⋯ | NA | NA | NA | NA | 14391146 | NA | 312 | 57 | NA | FALSE |\n",
       "| 165 | NA | 2021 | 51 | NA | NA |  8.521118 | 2.71474525 | 1.546797 | 950.2471 | ⋯ | NA | NA | NA | NA |  4387189 | NA | 300 | 88 | NA | FALSE |\n",
       "| 171 | NA | 2021 | 51 | NA | NA |  8.496815 | 2.80484592 | 1.534041 | 949.1712 | ⋯ | NA | NA | NA | NA | 14391146 | NA | 300 | 88 | NA | FALSE |\n",
       "| 226 | NA | 2021 | 51 | NA | NA |  8.472849 | 2.93737825 | 1.574764 | 947.3486 | ⋯ | NA | NA | NA | NA | 13276063 | NA | 300 | 88 | NA | FALSE |\n",
       "| 165 | NA | 2021 | 52 | NA | NA |  9.305814 | 0.28359256 | 2.401445 | 957.5610 | ⋯ | NA | NA | NA | NA |  4387189 | NA | 780 | 88 | NA | FALSE |\n",
       "| 226 | NA | 2021 | 52 | NA | NA |  9.207452 | 0.09308302 | 2.515882 | 954.7164 | ⋯ | NA | NA | NA | NA | 13276063 | NA | 780 | 88 | NA | FALSE |\n",
       "\n"
      ],
      "text/plain": [
       "     GEOCODIGO DESBDT               ano  semana n_vacunas n_citas tmed     \n",
       "1    092       Felipe II            2021 47     248       228      6.078661\n",
       "2    040       Canal de Panamá      2021 37       0         0     19.878869\n",
       "3    261       Valdebernardo        2021 42     185       183     15.813806\n",
       "4    209       Portazgo             2021 45     215       213     10.457078\n",
       "5    137       Las Matas            2021 36       0         0     21.968429\n",
       "6    148       Los Cármenes         2021 52     314       305     10.799898\n",
       "7    248       Segovia              2021 36       0         0     23.617478\n",
       "8    190       Orcasur              2021 46     131       119     10.204537\n",
       "9    092       Felipe II            2021 43     226       215     14.797959\n",
       "10   157       Manzanares El Real   2021 38       0         0     12.402842\n",
       "11   128       NA                   2021 35      NA        NA     22.529323\n",
       "12   169       Mendiguchía Carriche 2021 52     246       241     10.256255\n",
       "13   255       Sánchez Morate       2021 36       0         0     24.205270\n",
       "14   011       Alicante             2021 50     286       269      7.071310\n",
       "15   128       La Ribota            2021 37       0         0     20.244794\n",
       "16   092       NA                   2021 35      NA        NA     22.619476\n",
       "17   155       Majadahonda          2021 51     622       585      8.346388\n",
       "18   222       NA                   2021 35      NA        NA     16.530520\n",
       "19   281       Vinateros - Torito   2021 39       0         0     18.460882\n",
       "20   196       Parque Coimbra       2021 42     146       133     16.723220\n",
       "21   197       Parque Europa        2021 40       0         0     17.917016\n",
       "22   003       Adelfas              2021 38       0         0     18.195824\n",
       "23   116       Isabel II            2021 43     342       332     14.934212\n",
       "24   151       Los Rosales          2021 38       0         0     18.563257\n",
       "25   058       Colmenar Viejo Sur   2021 50     283       266      8.565213\n",
       "26   201       NA                   2021 35      NA        NA     22.205122\n",
       "27   143       Legazpi              2021 37       0         0     20.098471\n",
       "28   153       Lucero               2021 45     466       433     11.120366\n",
       "29   229       Rivas - 1º de Mayo   2021 38       0         0     18.450369\n",
       "30   043       Caramuel             2021 51     274       258      9.552974\n",
       "⋮    ⋮         ⋮                    ⋮    ⋮      ⋮         ⋮       ⋮        \n",
       "5119 202       NA                   2021 35     NA        NA      22.969466\n",
       "5120 204       NA                   2021 35     NA        NA      21.924340\n",
       "5121 209       NA                   2021 35     NA        NA      22.467562\n",
       "5122 212       NA                   2021 35     NA        NA      21.890695\n",
       "5123 214       NA                   2021 35     NA        NA      22.413373\n",
       "5124 215       NA                   2021 35     NA        NA      22.152775\n",
       "5125 221       NA                   2021 35     NA        NA      22.499177\n",
       "5126 233       NA                   2021 35     NA        NA      23.114142\n",
       "5127 236       NA                   2021 35     NA        NA      22.631666\n",
       "5128 239       NA                   2021 35     NA        NA      21.852826\n",
       "5129 245       NA                   2021 35     NA        NA      21.269987\n",
       "5130 264       NA                   2021 35     NA        NA      23.217141\n",
       "5131 269       NA                   2021 35     NA        NA      22.006057\n",
       "5132 274       NA                   2021 35     NA        NA      22.522162\n",
       "5133 226       NA                   2021 38     NA        NA      18.162218\n",
       "5134 171       NA                   2021 39     NA        NA      17.517369\n",
       "5135 226       NA                   2021 39     NA        NA      17.487348\n",
       "5136 171       NA                   2021 40     NA        NA      16.204214\n",
       "5137 165       NA                   2021 41     NA        NA      16.754649\n",
       "5138 165       NA                   2021 44     NA        NA       8.954554\n",
       "5139 226       NA                   2021 44     NA        NA       8.783140\n",
       "5140 165       NA                   2021 45     NA        NA      11.092149\n",
       "5141 123       NA                   2021 47     NA        NA       5.032878\n",
       "5142 165       NA                   2021 48     NA        NA       5.981794\n",
       "5143 171       NA                   2021 48     NA        NA       6.039139\n",
       "5144 165       NA                   2021 51     NA        NA       8.521118\n",
       "5145 171       NA                   2021 51     NA        NA       8.496815\n",
       "5146 226       NA                   2021 51     NA        NA       8.472849\n",
       "5147 165       NA                   2021 52     NA        NA       9.305814\n",
       "5148 226       NA                   2021 52     NA        NA       9.207452\n",
       "     prec          velmedia presMax  ⋯ t9_1      t10_1      t11_1     t12_1    \n",
       "1     1.0719805983 2.700305 938.7558 ⋯ 0.2594908 0.14516249 0.4759882 0.5564819\n",
       "2     4.1447802375 2.575349 943.0739 ⋯ 0.4866866 0.12070471 0.4696157 0.5343907\n",
       "3     0.0000000000 2.116845 951.1437 ⋯ 0.4213997 0.15339911 0.5117686 0.6048410\n",
       "4    -0.0014319311 1.568141 944.8039 ⋯ 0.2192226 0.17912995 0.4312525 0.5261093\n",
       "5     0.0611860341 3.079440 913.7501 ⋯ 0.5515307 0.08716812 0.4943178 0.5414490\n",
       "6    -0.0874709189 3.199149 945.0250 ⋯ 0.2588885 0.19712587 0.4428873 0.5510904\n",
       "7     0.0039819559 3.473189 939.5955 ⋯ 0.6033543 0.13499734 0.5297775 0.6125977\n",
       "8     0.0450972341 2.319521 946.0922 ⋯ 0.1755605 0.24707340 0.4146549 0.5496564\n",
       "9     6.9555518894 2.814061 944.3144 ⋯ 0.2594908 0.14516249 0.4759882 0.5564819\n",
       "10    4.1292397434 3.330442 862.0792 ⋯ 0.4593845 0.11571153 0.5753021 0.6505048\n",
       "11    1.0684071398 2.083048 942.5243 ⋯        NA         NA        NA        NA\n",
       "12   -0.0015043215 3.249914 950.7763 ⋯ 0.2208037 0.15819436 0.4317924 0.5129976\n",
       "13   -0.0048675728 4.021131 946.1944 ⋯ 0.2018453 0.17395414 0.4097815 0.4961929\n",
       "14    0.0017423334 1.521070 955.7281 ⋯ 0.1804427 0.17310543 0.4762972 0.5749265\n",
       "15    3.3733587327 2.172163 942.6322 ⋯ 0.4406703 0.11272335 0.6094153 0.6814646\n",
       "16    1.0330022190 2.059874 944.4853 ⋯        NA         NA        NA        NA\n",
       "17    3.5765342561 1.792176 923.8810 ⋯ 0.5570257 0.08802468 0.5018791 0.5505073\n",
       "18    2.6088701769 2.329809 842.0219 ⋯        NA         NA        NA        NA\n",
       "19    1.5596533986 2.401577 948.1907 ⋯ 0.3698405 0.12624232 0.4421018 0.5068520\n",
       "20    0.0000000000 1.701915 951.2311 ⋯ 0.3466252 0.13851782 0.5154398 0.5971826\n",
       "21    0.2022836300 2.102423 956.4119 ⋯ 0.3674682 0.12162583 0.6098299 0.6903435\n",
       "22    7.0192269742 3.277010 944.0148 ⋯ 0.6031800 0.08766432 0.5262385 0.5770966\n",
       "23    8.3140678910 2.655667 953.1482 ⋯ 0.1610540 0.18873647 0.4709613 0.5793636\n",
       "24    3.9867298413 3.370376 946.6045 ⋯ 0.2278640 0.16555562 0.4841712 0.5783214\n",
       "25    0.0009752468 1.089799 921.4667 ⋯ 0.3580930 0.11659373 0.5555971 0.6281389\n",
       "26    1.9679372319 2.307824 965.1670 ⋯        NA         NA        NA        NA\n",
       "27    3.8121722852 2.635214 940.1752 ⋯ 0.6449177 0.07693369 0.6229555 0.6733482\n",
       "28    0.0014767707 1.217276 938.8872 ⋯ 0.3368303 0.14562330 0.4692433 0.5492776\n",
       "29    4.0559133888 3.208864 955.3291 ⋯ 0.4023244 0.16057805 0.5537022 0.6564475\n",
       "30    3.3888599260 2.006684 937.3509 ⋯ 0.4229065 0.14810841 0.4774402 0.5607036\n",
       "⋮    ⋮             ⋮        ⋮        ⋱ ⋮         ⋮          ⋮         ⋮        \n",
       "5119 1.24435565    2.458646 949.8860 ⋯ NA        NA         NA        NA       \n",
       "5120 1.10551950    2.179596 936.2129 ⋯ NA        NA         NA        NA       \n",
       "5121 1.28397485    2.430293 943.9598 ⋯ NA        NA         NA        NA       \n",
       "5122 1.05973625    2.088924 933.2166 ⋯ NA        NA         NA        NA       \n",
       "5123 0.99409713    2.000645 942.2064 ⋯ NA        NA         NA        NA       \n",
       "5124 1.23047008    2.323143 941.4096 ⋯ NA        NA         NA        NA       \n",
       "5125 1.12191798    2.111668 941.5749 ⋯ NA        NA         NA        NA       \n",
       "5126 1.13370735    2.119205 952.9198 ⋯ NA        NA         NA        NA       \n",
       "5127 1.18877040    2.389127 942.7700 ⋯ NA        NA         NA        NA       \n",
       "5128 1.00990796    2.050195 932.8206 ⋯ NA        NA         NA        NA       \n",
       "5129 0.99635534    1.931698 925.1955 ⋯ NA        NA         NA        NA       \n",
       "5130 1.72818176    2.151684 957.9959 ⋯ NA        NA         NA        NA       \n",
       "5131 1.39961828    2.548777 951.2437 ⋯ NA        NA         NA        NA       \n",
       "5132 1.32234421    2.489400 946.7203 ⋯ NA        NA         NA        NA       \n",
       "5133 3.61698860    3.264317 950.9148 ⋯ NA        NA         NA        NA       \n",
       "5134 1.96385103    2.000563 954.2091 ⋯ NA        NA         NA        NA       \n",
       "5135 1.76548684    2.044655 952.3971 ⋯ NA        NA         NA        NA       \n",
       "5136 0.11658780    1.950645 953.7785 ⋯ NA        NA         NA        NA       \n",
       "5137 0.24196077    1.481461 953.6901 ⋯ NA        NA         NA        NA       \n",
       "5138 1.50369557    3.906924 951.8316 ⋯ NA        NA         NA        NA       \n",
       "5139 0.94162507    4.074255 948.9526 ⋯ NA        NA         NA        NA       \n",
       "5140 0.00737205    2.548101 952.1452 ⋯ NA        NA         NA        NA       \n",
       "5141 2.06061537    3.492399 942.1227 ⋯ NA        NA         NA        NA       \n",
       "5142 1.05245886    3.460360 955.6220 ⋯ NA        NA         NA        NA       \n",
       "5143 0.82760389    3.455709 954.5451 ⋯ NA        NA         NA        NA       \n",
       "5144 2.71474525    1.546797 950.2471 ⋯ NA        NA         NA        NA       \n",
       "5145 2.80484592    1.534041 949.1712 ⋯ NA        NA         NA        NA       \n",
       "5146 2.93737825    1.574764 947.3486 ⋯ NA        NA         NA        NA       \n",
       "5147 0.28359256    2.401445 957.5610 ⋯ NA        NA         NA        NA       \n",
       "5148 0.09308302    2.515882 954.7164 ⋯ NA        NA         NA        NA       \n",
       "     area        densidad_hab_km tuits_gripe interes_gripe Target is_train\n",
       "1       916183.4 22138.5806      280          64           248    TRUE    \n",
       "2      1394676.1 22029.4879       79          15             0    TRUE    \n",
       "3      1452762.2 11210.3689      254         100           185    TRUE    \n",
       "4      1165705.1 15269.7276      160          70           215    TRUE    \n",
       "5      7951396.5   837.8402       97          13             0    TRUE    \n",
       "6      1597376.5 15830.3315      780          88           314    TRUE    \n",
       "7       802151.4 29061.8456       97          13             0    TRUE    \n",
       "8      1423084.5  7693.8507      206          64           131    TRUE    \n",
       "9       916183.4 22138.5806      190          94           226    TRUE    \n",
       "10   167919762.5   102.6026      112          19             0    TRUE    \n",
       "11            NA         NA       NA          NA            NA    TRUE    \n",
       "12     2967108.7  6996.0363      780          88           246    TRUE    \n",
       "13      448426.0 36302.5316       97          13             0    TRUE    \n",
       "14      823484.1 30013.9354      262          78           286    TRUE    \n",
       "15     1364369.5 24969.7749       79          15             0    TRUE    \n",
       "16            NA         NA       NA          NA            NA    TRUE    \n",
       "17    30837796.0  1658.4843      300          88           622    TRUE    \n",
       "18            NA         NA       NA          NA            NA    TRUE    \n",
       "19     1062141.5 28668.4977      143          29             0    TRUE    \n",
       "20     3641612.0  3588.5207      254         100           146    TRUE    \n",
       "21    30038715.9  1205.8438      112          38             0    TRUE    \n",
       "22      854805.6 33847.4619      112          19             0    TRUE    \n",
       "23     2726568.3 10870.4410      190          94           342    TRUE    \n",
       "24      712586.5 26330.8385      112          19             0    TRUE    \n",
       "25   180448629.9   127.5931      262          78           283    TRUE    \n",
       "26            NA         NA       NA          NA            NA    TRUE    \n",
       "27     1625284.2 22909.8387       79          15             0    TRUE    \n",
       "28     1665138.2 23405.8652      160          70           466    TRUE    \n",
       "29    59967601.3   201.5922      112          19             0    TRUE    \n",
       "30      834946.1 27193.3713      300          88           274    TRUE    \n",
       "⋮    ⋮           ⋮               ⋮           ⋮             ⋮      ⋮       \n",
       "5119       NA    NA               NA         NA            NA     FALSE   \n",
       "5120       NA    NA               NA         NA            NA     FALSE   \n",
       "5121       NA    NA               NA         NA            NA     FALSE   \n",
       "5122       NA    NA               NA         NA            NA     FALSE   \n",
       "5123       NA    NA               NA         NA            NA     FALSE   \n",
       "5124       NA    NA               NA         NA            NA     FALSE   \n",
       "5125       NA    NA               NA         NA            NA     FALSE   \n",
       "5126       NA    NA               NA         NA            NA     FALSE   \n",
       "5127       NA    NA               NA         NA            NA     FALSE   \n",
       "5128       NA    NA               NA         NA            NA     FALSE   \n",
       "5129       NA    NA               NA         NA            NA     FALSE   \n",
       "5130       NA    NA               NA         NA            NA     FALSE   \n",
       "5131       NA    NA               NA         NA            NA     FALSE   \n",
       "5132       NA    NA               NA         NA            NA     FALSE   \n",
       "5133 13276063    NA              112         19            NA     FALSE   \n",
       "5134 14391146    NA              143         29            NA     FALSE   \n",
       "5135 13276063    NA              143         29            NA     FALSE   \n",
       "5136 14391146    NA              112         38            NA     FALSE   \n",
       "5137  4387189    NA              130         65            NA     FALSE   \n",
       "5138  4387189    NA              198         63            NA     FALSE   \n",
       "5139 13276063    NA              198         63            NA     FALSE   \n",
       "5140  4387189    NA              160         70            NA     FALSE   \n",
       "5141 17069020    NA              280         64            NA     FALSE   \n",
       "5142  4387189    NA              312         57            NA     FALSE   \n",
       "5143 14391146    NA              312         57            NA     FALSE   \n",
       "5144  4387189    NA              300         88            NA     FALSE   \n",
       "5145 14391146    NA              300         88            NA     FALSE   \n",
       "5146 13276063    NA              300         88            NA     FALSE   \n",
       "5147  4387189    NA              780         88            NA     FALSE   \n",
       "5148 13276063    NA              780         88            NA     FALSE   "
      ]
     },
     "metadata": {},
     "output_type": "display_data"
    }
   ],
   "source": [
    "data |> filter(ano == 2021)"
   ]
  },
  {
   "cell_type": "markdown",
   "metadata": {
    "slideshow": {
     "slide_type": "slide"
    }
   },
   "source": [
    "### Insert New Column"
   ]
  },
  {
   "cell_type": "code",
   "execution_count": 11,
   "metadata": {
    "ExecuteTime": {
     "end_time": "2020-06-30T14:33:43.649449Z",
     "start_time": "2020-06-30T14:33:43.611681Z"
    },
    "scrolled": true,
    "slideshow": {
     "slide_type": "subslide"
    },
    "vscode": {
     "languageId": "r"
    }
   },
   "outputs": [
    {
     "data": {
      "text/html": [
       "<table class=\"dataframe\">\n",
       "<caption>A tibble: 21736 × 50</caption>\n",
       "<thead>\n",
       "\t<tr><th scope=col>GEOCODIGO</th><th scope=col>DESBDT</th><th scope=col>ano</th><th scope=col>semana</th><th scope=col>n_vacunas</th><th scope=col>n_citas</th><th scope=col>tmed</th><th scope=col>prec</th><th scope=col>velmedia</th><th scope=col>presMax</th><th scope=col>⋯</th><th scope=col>t10_1</th><th scope=col>t11_1</th><th scope=col>t12_1</th><th scope=col>area</th><th scope=col>densidad_hab_km</th><th scope=col>tuits_gripe</th><th scope=col>interes_gripe</th><th scope=col>Target</th><th scope=col>is_train</th><th scope=col>x</th></tr>\n",
       "\t<tr><th scope=col>&lt;chr&gt;</th><th scope=col>&lt;chr&gt;</th><th scope=col>&lt;dbl&gt;</th><th scope=col>&lt;dbl&gt;</th><th scope=col>&lt;dbl&gt;</th><th scope=col>&lt;dbl&gt;</th><th scope=col>&lt;dbl&gt;</th><th scope=col>&lt;dbl&gt;</th><th scope=col>&lt;dbl&gt;</th><th scope=col>&lt;dbl&gt;</th><th scope=col>⋯</th><th scope=col>&lt;dbl&gt;</th><th scope=col>&lt;dbl&gt;</th><th scope=col>&lt;dbl&gt;</th><th scope=col>&lt;dbl&gt;</th><th scope=col>&lt;dbl&gt;</th><th scope=col>&lt;dbl&gt;</th><th scope=col>&lt;dbl&gt;</th><th scope=col>&lt;dbl&gt;</th><th scope=col>&lt;lgl&gt;</th><th scope=col>&lt;lgl&gt;</th></tr>\n",
       "</thead>\n",
       "<tbody>\n",
       "\t<tr><td>259</td><td>V Centenario          </td><td>2022</td><td>34</td><td>  0</td><td>  0</td><td>27.278748</td><td> 0.169955881</td><td>2.297067</td><td>940.0420</td><td>⋯</td><td>0.09258503</td><td>0.6406787</td><td>0.7028586</td><td>  2100118.9</td><td>15131.52443</td><td> 60</td><td> 24</td><td>  0</td><td>TRUE</td><td>TRUE</td></tr>\n",
       "\t<tr><td>260</td><td>Valdeacederas         </td><td>2022</td><td> 8</td><td>  0</td><td>  0</td><td> 9.577289</td><td> 1.264910043</td><td>1.890425</td><td>944.1770</td><td>⋯</td><td>0.13151901</td><td>0.5451465</td><td>0.6277335</td><td>  1164622.0</td><td>22498.28643</td><td> 56</td><td> 15</td><td>  0</td><td>TRUE</td><td>TRUE</td></tr>\n",
       "\t<tr><td>041</td><td>Canillejas            </td><td>2022</td><td> 9</td><td>  0</td><td>  0</td><td> 8.536554</td><td> 3.122881160</td><td>2.418071</td><td>949.7179</td><td>⋯</td><td>0.13926119</td><td>0.4600730</td><td>0.5346482</td><td>  1597474.5</td><td>17939.56640</td><td> 72</td><td> 24</td><td>  0</td><td>TRUE</td><td>TRUE</td></tr>\n",
       "\t<tr><td>025</td><td>Barajas               </td><td>2022</td><td>49</td><td>292</td><td>280</td><td> 9.065363</td><td> 7.313886680</td><td>1.562328</td><td>941.8342</td><td>⋯</td><td>0.10460043</td><td>0.5920292</td><td>0.6590530</td><td>  3816572.0</td><td> 5893.24662</td><td>196</td><td> 77</td><td>292</td><td>TRUE</td><td>TRUE</td></tr>\n",
       "\t<tr><td>046</td><td>Castelló              </td><td>2022</td><td>24</td><td>  0</td><td>  0</td><td>29.905728</td><td> 0.013668517</td><td>2.564749</td><td>940.5669</td><td>⋯</td><td>0.06114283</td><td>0.4717699</td><td>0.5025317</td><td>   870986.8</td><td>17738.50106</td><td> 46</td><td> 21</td><td>  0</td><td>TRUE</td><td>TRUE</td></tr>\n",
       "\t<tr><td>159</td><td>Mar Báltico           </td><td>2022</td><td> 3</td><td>524</td><td>498</td><td> 4.717205</td><td> 0.000000000</td><td>1.494957</td><td>953.5196</td><td>⋯</td><td>0.13207313</td><td>0.4690937</td><td>0.5405803</td><td> 15368327.1</td><td> 3284.54748</td><td>382</td><td> 42</td><td>524</td><td>TRUE</td><td>TRUE</td></tr>\n",
       "\t<tr><td>065</td><td>Daroca                </td><td>2022</td><td> 8</td><td>  0</td><td>  0</td><td>10.233853</td><td> 1.145128991</td><td>2.067554</td><td>948.1804</td><td>⋯</td><td>0.13304421</td><td>0.4726520</td><td>0.5453497</td><td>  2813686.8</td><td>12136.39007</td><td> 56</td><td> 15</td><td>  0</td><td>TRUE</td><td>TRUE</td></tr>\n",
       "\t<tr><td>092</td><td>Felipe II             </td><td>2021</td><td>47</td><td>248</td><td>228</td><td> 6.078661</td><td> 1.071980598</td><td>2.700305</td><td>938.7558</td><td>⋯</td><td>0.14516249</td><td>0.4759882</td><td>0.5564819</td><td>   916183.4</td><td>22138.58056</td><td>280</td><td> 64</td><td>248</td><td>TRUE</td><td>TRUE</td></tr>\n",
       "\t<tr><td>221</td><td>Ramón y Cajal         </td><td>2023</td><td> 1</td><td>204</td><td>198</td><td> 8.145987</td><td> 1.089500548</td><td>2.556688</td><td>950.0602</td><td>⋯</td><td>0.14429658</td><td>0.3978026</td><td>0.4660208</td><td>   459459.2</td><td>43017.96960</td><td> 24</td><td> 64</td><td>204</td><td>TRUE</td><td>TRUE</td></tr>\n",
       "\t<tr><td>038</td><td>Campo Real            </td><td>2022</td><td> 2</td><td>205</td><td>187</td><td> 4.245075</td><td> 0.079651638</td><td>2.094226</td><td>994.1550</td><td>⋯</td><td>0.15408513</td><td>0.5310793</td><td>0.6272654</td><td>225744024.2</td><td>   91.30696</td><td>508</td><td> 69</td><td>205</td><td>TRUE</td><td>TRUE</td></tr>\n",
       "\t<tr><td>041</td><td>NA                    </td><td>2023</td><td>52</td><td> NA</td><td> NA</td><td>10.700753</td><td> 0.113597507</td><td>1.425011</td><td>954.5998</td><td>⋯</td><td>        NA</td><td>       NA</td><td>       NA</td><td>         NA</td><td>         NA</td><td> NA</td><td> NA</td><td> NA</td><td>TRUE</td><td>TRUE</td></tr>\n",
       "\t<tr><td>174</td><td>Monforte de Lemos     </td><td>2022</td><td>39</td><td>  0</td><td>  0</td><td>16.474803</td><td> 0.840109889</td><td>2.205335</td><td>938.5389</td><td>⋯</td><td>0.11991115</td><td>0.4965663</td><td>0.5642990</td><td>   320266.1</td><td>49299.63515</td><td>126</td><td> 42</td><td>  0</td><td>TRUE</td><td>TRUE</td></tr>\n",
       "\t<tr><td>126</td><td>La Plata              </td><td>2022</td><td>16</td><td>  0</td><td>  0</td><td>10.784243</td><td> 3.840456676</td><td>4.668837</td><td>941.8737</td><td>⋯</td><td>0.12101854</td><td>0.6555124</td><td>0.7415345</td><td>  3463767.7</td><td> 9571.08065</td><td> 94</td><td> 40</td><td>  0</td><td>TRUE</td><td>TRUE</td></tr>\n",
       "\t<tr><td>139</td><td>Las Rozas             </td><td>2022</td><td>50</td><td>515</td><td>510</td><td> 8.842833</td><td> 8.831183413</td><td>3.270584</td><td>915.2308</td><td>⋯</td><td>0.07948112</td><td>0.5871316</td><td>0.6370746</td><td> 15354532.3</td><td> 2485.52019</td><td>182</td><td> 81</td><td>515</td><td>TRUE</td><td>TRUE</td></tr>\n",
       "\t<tr><td>188</td><td>Opañel                </td><td>2022</td><td>34</td><td>  0</td><td>  0</td><td>28.005122</td><td> 0.152008212</td><td>2.306659</td><td>938.3107</td><td>⋯</td><td>0.14839521</td><td>0.4668539</td><td>0.5481580</td><td>   623385.2</td><td>31091.52988</td><td> 60</td><td> 24</td><td>  0</td><td>TRUE</td><td>TRUE</td></tr>\n",
       "\t<tr><td>040</td><td>Canal de Panamá       </td><td>2021</td><td>37</td><td>  0</td><td>  0</td><td>19.878869</td><td> 4.144780238</td><td>2.575349</td><td>943.0739</td><td>⋯</td><td>0.12070471</td><td>0.4696157</td><td>0.5343907</td><td>  1394676.1</td><td>22029.48792</td><td> 79</td><td> 15</td><td>  0</td><td>TRUE</td><td>TRUE</td></tr>\n",
       "\t<tr><td>084</td><td>Embajadores           </td><td>2022</td><td>11</td><td>  0</td><td>  0</td><td>10.896991</td><td> 1.783350985</td><td>3.705408</td><td>945.3577</td><td>⋯</td><td>0.10910315</td><td>0.5304332</td><td>0.5954684</td><td>   647263.5</td><td>39371.91141</td><td> 78</td><td> 27</td><td>  0</td><td>TRUE</td><td>TRUE</td></tr>\n",
       "\t<tr><td>261</td><td>Valdebernardo         </td><td>2021</td><td>42</td><td>185</td><td>183</td><td>15.813806</td><td> 0.000000000</td><td>2.116845</td><td>951.1437</td><td>⋯</td><td>0.15339911</td><td>0.5117686</td><td>0.6048410</td><td>  1452762.2</td><td>11210.36886</td><td>254</td><td>100</td><td>185</td><td>TRUE</td><td>TRUE</td></tr>\n",
       "\t<tr><td>132</td><td>Las Américas          </td><td>2022</td><td> 5</td><td>409</td><td>397</td><td> 9.641141</td><td> 0.000000000</td><td>1.953802</td><td>962.9932</td><td>⋯</td><td>0.14121552</td><td>0.6162060</td><td>0.7155478</td><td> 10261640.8</td><td> 4678.88138</td><td>144</td><td> 20</td><td>409</td><td>TRUE</td><td>TRUE</td></tr>\n",
       "\t<tr><td>172</td><td>Miraflores            </td><td>2022</td><td>50</td><td>291</td><td>265</td><td>10.074072</td><td>10.994886653</td><td>3.087636</td><td>935.0695</td><td>⋯</td><td>0.13376605</td><td>0.4788441</td><td>0.5522430</td><td>   673171.0</td><td>31876.00392</td><td>182</td><td> 81</td><td>291</td><td>TRUE</td><td>TRUE</td></tr>\n",
       "\t<tr><td>266</td><td>Valdezarza            </td><td>2022</td><td>33</td><td>  0</td><td>  0</td><td>24.314646</td><td> 0.086326357</td><td>2.123322</td><td>935.3358</td><td>⋯</td><td>0.10282242</td><td>0.4712815</td><td>0.5253661</td><td> 15590900.9</td><td> 2800.80030</td><td> 34</td><td> 11</td><td>  0</td><td>TRUE</td><td>TRUE</td></tr>\n",
       "\t<tr><td>022</td><td>Arganda - Felicidad   </td><td>2022</td><td>43</td><td>418</td><td>393</td><td>18.313136</td><td> 0.004713176</td><td>2.617470</td><td>959.8764</td><td>⋯</td><td>0.14831801</td><td>0.5751955</td><td>0.6725509</td><td> 62928443.1</td><td>  556.98184</td><td>270</td><td> 69</td><td>418</td><td>TRUE</td><td>TRUE</td></tr>\n",
       "\t<tr><td>233</td><td>San Blas              </td><td>2022</td><td>50</td><td>333</td><td>326</td><td>10.574115</td><td> 9.682059178</td><td>2.733725</td><td>947.5894</td><td>⋯</td><td>0.19425533</td><td>0.4605699</td><td>0.5694285</td><td>  7633175.5</td><td> 3793.17888</td><td>182</td><td> 81</td><td>333</td><td>TRUE</td><td>TRUE</td></tr>\n",
       "\t<tr><td>195</td><td>Paracuellos del Jarama</td><td>2022</td><td>32</td><td>  0</td><td>  0</td><td>28.061744</td><td> 0.003560555</td><td>3.695964</td><td>947.2270</td><td>⋯</td><td>0.08264704</td><td>0.6529238</td><td>0.7102701</td><td> 43812815.4</td><td>  600.12121</td><td> 34</td><td> 10</td><td>  0</td><td>TRUE</td><td>TRUE</td></tr>\n",
       "\t<tr><td>286</td><td>Zofío                 </td><td>2022</td><td>42</td><td>368</td><td>357</td><td>18.393992</td><td> 2.394857359</td><td>3.107041</td><td>942.6759</td><td>⋯</td><td>0.17766065</td><td>0.4448489</td><td>0.5405693</td><td>  1871142.8</td><td>16836.23510</td><td>180</td><td>100</td><td>368</td><td>TRUE</td><td>TRUE</td></tr>\n",
       "\t<tr><td>209</td><td>Portazgo              </td><td>2021</td><td>45</td><td>215</td><td>213</td><td>10.457078</td><td>-0.001431931</td><td>1.568141</td><td>944.8039</td><td>⋯</td><td>0.17912995</td><td>0.4312525</td><td>0.5261093</td><td>  1165705.1</td><td>15269.72763</td><td>160</td><td> 70</td><td>215</td><td>TRUE</td><td>TRUE</td></tr>\n",
       "\t<tr><td>128</td><td>La Ribota             </td><td>2022</td><td>18</td><td>  0</td><td>  0</td><td>16.293292</td><td> 1.755478391</td><td>2.641612</td><td>942.6558</td><td>⋯</td><td>0.11272335</td><td>0.6094153</td><td>0.6814646</td><td>  1364369.5</td><td>24969.77491</td><td>122</td><td> 36</td><td>  0</td><td>TRUE</td><td>TRUE</td></tr>\n",
       "\t<tr><td>137</td><td>Las Matas             </td><td>2021</td><td>36</td><td>  0</td><td>  0</td><td>21.968429</td><td> 0.061186034</td><td>3.079440</td><td>913.7501</td><td>⋯</td><td>0.08716812</td><td>0.4943178</td><td>0.5414490</td><td>  7951396.5</td><td>  837.84024</td><td> 97</td><td> 13</td><td>  0</td><td>TRUE</td><td>TRUE</td></tr>\n",
       "\t<tr><td>124</td><td>La Marazuela          </td><td>2022</td><td>52</td><td>151</td><td>149</td><td> 8.411680</td><td> 0.177250054</td><td>1.998273</td><td>      NA</td><td>⋯</td><td>0.08368767</td><td>0.5459855</td><td>0.5957059</td><td>  8997541.1</td><td> 1345.25642</td><td>204</td><td> 70</td><td>151</td><td>TRUE</td><td>TRUE</td></tr>\n",
       "\t<tr><td>210</td><td>Potosí                </td><td>2022</td><td>12</td><td>  0</td><td>  0</td><td>10.009513</td><td> 6.265043165</td><td>3.503190</td><td>941.7438</td><td>⋯</td><td>0.07197837</td><td>0.5120776</td><td>0.5518168</td><td>  1753252.0</td><td>16485.36507</td><td>134</td><td> 43</td><td>  0</td><td>TRUE</td><td>TRUE</td></tr>\n",
       "\t<tr><td>⋮</td><td>⋮</td><td>⋮</td><td>⋮</td><td>⋮</td><td>⋮</td><td>⋮</td><td>⋮</td><td>⋮</td><td>⋮</td><td>⋱</td><td>⋮</td><td>⋮</td><td>⋮</td><td>⋮</td><td>⋮</td><td>⋮</td><td>⋮</td><td>⋮</td><td>⋮</td><td>⋮</td></tr>\n",
       "\t<tr><td>121</td><td>NA</td><td>2023</td><td>52</td><td>NA</td><td>NA</td><td> 7.306716</td><td> 0.128150649</td><td>1.1548026</td><td>906.4534</td><td>⋯</td><td>NA</td><td>NA</td><td>NA</td><td>      NA</td><td>NA</td><td>NA</td><td>NA</td><td>NA</td><td>FALSE</td><td>TRUE</td></tr>\n",
       "\t<tr><td>123</td><td>NA</td><td>2023</td><td>52</td><td>NA</td><td>NA</td><td>10.211300</td><td>-0.005418091</td><td>1.3682419</td><td>954.5679</td><td>⋯</td><td>NA</td><td>NA</td><td>NA</td><td>17069020</td><td>NA</td><td>NA</td><td>NA</td><td>NA</td><td>FALSE</td><td>TRUE</td></tr>\n",
       "\t<tr><td>125</td><td>NA</td><td>2023</td><td>52</td><td>NA</td><td>NA</td><td>10.545031</td><td> 0.129075612</td><td>1.9666051</td><td>952.1866</td><td>⋯</td><td>NA</td><td>NA</td><td>NA</td><td>      NA</td><td>NA</td><td>NA</td><td>NA</td><td>NA</td><td>FALSE</td><td>TRUE</td></tr>\n",
       "\t<tr><td>141</td><td>NA</td><td>2023</td><td>52</td><td>NA</td><td>NA</td><td>11.357062</td><td> 0.110700024</td><td>1.0160656</td><td>946.6940</td><td>⋯</td><td>NA</td><td>NA</td><td>NA</td><td>      NA</td><td>NA</td><td>NA</td><td>NA</td><td>NA</td><td>FALSE</td><td>TRUE</td></tr>\n",
       "\t<tr><td>143</td><td>NA</td><td>2023</td><td>52</td><td>NA</td><td>NA</td><td>11.203006</td><td> 0.075128787</td><td>1.3629539</td><td>948.6422</td><td>⋯</td><td>NA</td><td>NA</td><td>NA</td><td>      NA</td><td>NA</td><td>NA</td><td>NA</td><td>NA</td><td>FALSE</td><td>TRUE</td></tr>\n",
       "\t<tr><td>145</td><td>NA</td><td>2023</td><td>52</td><td>NA</td><td>NA</td><td>10.166632</td><td> 0.043369205</td><td>1.7868957</td><td>958.0803</td><td>⋯</td><td>NA</td><td>NA</td><td>NA</td><td>      NA</td><td>NA</td><td>NA</td><td>NA</td><td>NA</td><td>FALSE</td><td>TRUE</td></tr>\n",
       "\t<tr><td>154</td><td>NA</td><td>2023</td><td>52</td><td>NA</td><td>NA</td><td>10.225257</td><td> 0.016289705</td><td>1.3407377</td><td>956.2241</td><td>⋯</td><td>NA</td><td>NA</td><td>NA</td><td>      NA</td><td>NA</td><td>NA</td><td>NA</td><td>NA</td><td>FALSE</td><td>TRUE</td></tr>\n",
       "\t<tr><td>155</td><td>NA</td><td>2023</td><td>52</td><td>NA</td><td>NA</td><td>11.044462</td><td> 0.331696059</td><td>3.1559050</td><td>928.9975</td><td>⋯</td><td>NA</td><td>NA</td><td>NA</td><td>      NA</td><td>NA</td><td>NA</td><td>NA</td><td>NA</td><td>FALSE</td><td>TRUE</td></tr>\n",
       "\t<tr><td>163</td><td>NA</td><td>2023</td><td>52</td><td>NA</td><td>NA</td><td>11.014089</td><td> 0.063385787</td><td>1.9253572</td><td>948.2070</td><td>⋯</td><td>NA</td><td>NA</td><td>NA</td><td>      NA</td><td>NA</td><td>NA</td><td>NA</td><td>NA</td><td>FALSE</td><td>TRUE</td></tr>\n",
       "\t<tr><td>166</td><td>NA</td><td>2023</td><td>52</td><td>NA</td><td>NA</td><td>10.142910</td><td> 0.023016148</td><td>2.3889124</td><td>956.9007</td><td>⋯</td><td>NA</td><td>NA</td><td>NA</td><td>      NA</td><td>NA</td><td>NA</td><td>NA</td><td>NA</td><td>FALSE</td><td>TRUE</td></tr>\n",
       "\t<tr><td>175</td><td>NA</td><td>2023</td><td>52</td><td>NA</td><td>NA</td><td>11.012679</td><td> 0.167191841</td><td>0.9345523</td><td>949.1661</td><td>⋯</td><td>NA</td><td>NA</td><td>NA</td><td>      NA</td><td>NA</td><td>NA</td><td>NA</td><td>NA</td><td>FALSE</td><td>TRUE</td></tr>\n",
       "\t<tr><td>178</td><td>NA</td><td>2023</td><td>52</td><td>NA</td><td>NA</td><td>11.259098</td><td> 0.130901716</td><td>0.9007216</td><td>948.3606</td><td>⋯</td><td>NA</td><td>NA</td><td>NA</td><td>      NA</td><td>NA</td><td>NA</td><td>NA</td><td>NA</td><td>FALSE</td><td>TRUE</td></tr>\n",
       "\t<tr><td>180</td><td>NA</td><td>2023</td><td>52</td><td>NA</td><td>NA</td><td>10.654319</td><td> 0.115703210</td><td>3.0056868</td><td>965.2384</td><td>⋯</td><td>NA</td><td>NA</td><td>NA</td><td>      NA</td><td>NA</td><td>NA</td><td>NA</td><td>NA</td><td>FALSE</td><td>TRUE</td></tr>\n",
       "\t<tr><td>183</td><td>NA</td><td>2023</td><td>52</td><td>NA</td><td>NA</td><td>11.527141</td><td> 0.052346915</td><td>2.4312266</td><td>960.6209</td><td>⋯</td><td>NA</td><td>NA</td><td>NA</td><td>      NA</td><td>NA</td><td>NA</td><td>NA</td><td>NA</td><td>FALSE</td><td>TRUE</td></tr>\n",
       "\t<tr><td>186</td><td>NA</td><td>2023</td><td>52</td><td>NA</td><td>NA</td><td>11.146386</td><td> 0.080628546</td><td>1.4025629</td><td>950.1638</td><td>⋯</td><td>NA</td><td>NA</td><td>NA</td><td>      NA</td><td>NA</td><td>NA</td><td>NA</td><td>NA</td><td>FALSE</td><td>TRUE</td></tr>\n",
       "\t<tr><td>190</td><td>NA</td><td>2023</td><td>52</td><td>NA</td><td>NA</td><td>11.068404</td><td> 0.057635073</td><td>1.5819001</td><td>949.1403</td><td>⋯</td><td>NA</td><td>NA</td><td>NA</td><td>      NA</td><td>NA</td><td>NA</td><td>NA</td><td>NA</td><td>FALSE</td><td>TRUE</td></tr>\n",
       "\t<tr><td>196</td><td>NA</td><td>2023</td><td>52</td><td>NA</td><td>NA</td><td>11.219301</td><td> 0.067613842</td><td>3.4378131</td><td>954.1926</td><td>⋯</td><td>NA</td><td>NA</td><td>NA</td><td>      NA</td><td>NA</td><td>NA</td><td>NA</td><td>NA</td><td>FALSE</td><td>TRUE</td></tr>\n",
       "\t<tr><td>197</td><td>NA</td><td>2023</td><td>52</td><td>NA</td><td>NA</td><td>10.361258</td><td> 0.011666925</td><td>2.4640036</td><td>958.5473</td><td>⋯</td><td>NA</td><td>NA</td><td>NA</td><td>      NA</td><td>NA</td><td>NA</td><td>NA</td><td>NA</td><td>FALSE</td><td>TRUE</td></tr>\n",
       "\t<tr><td>211</td><td>NA</td><td>2023</td><td>52</td><td>NA</td><td>NA</td><td>10.965211</td><td> 0.051475465</td><td>1.8636783</td><td>951.2371</td><td>⋯</td><td>NA</td><td>NA</td><td>NA</td><td>      NA</td><td>NA</td><td>NA</td><td>NA</td><td>NA</td><td>FALSE</td><td>TRUE</td></tr>\n",
       "\t<tr><td>215</td><td>NA</td><td>2023</td><td>52</td><td>NA</td><td>NA</td><td>11.205836</td><td> 0.147135970</td><td>0.8374458</td><td>948.4432</td><td>⋯</td><td>NA</td><td>NA</td><td>NA</td><td>      NA</td><td>NA</td><td>NA</td><td>NA</td><td>NA</td><td>FALSE</td><td>TRUE</td></tr>\n",
       "\t<tr><td>217</td><td>NA</td><td>2023</td><td>52</td><td>NA</td><td>NA</td><td>10.212181</td><td> 0.006669498</td><td>1.2822661</td><td>955.6029</td><td>⋯</td><td>NA</td><td>NA</td><td>NA</td><td>      NA</td><td>NA</td><td>NA</td><td>NA</td><td>NA</td><td>FALSE</td><td>TRUE</td></tr>\n",
       "\t<tr><td>222</td><td>NA</td><td>2023</td><td>52</td><td>NA</td><td>NA</td><td> 5.354266</td><td> 1.059873094</td><td>3.0555966</td><td>849.0465</td><td>⋯</td><td>NA</td><td>NA</td><td>NA</td><td>      NA</td><td>NA</td><td>NA</td><td>NA</td><td>NA</td><td>FALSE</td><td>TRUE</td></tr>\n",
       "\t<tr><td>234</td><td>NA</td><td>2023</td><td>52</td><td>NA</td><td>NA</td><td>10.678634</td><td> 0.020101581</td><td>2.0813710</td><td>951.6213</td><td>⋯</td><td>NA</td><td>NA</td><td>NA</td><td>      NA</td><td>NA</td><td>NA</td><td>NA</td><td>NA</td><td>FALSE</td><td>TRUE</td></tr>\n",
       "\t<tr><td>239</td><td>NA</td><td>2023</td><td>52</td><td>NA</td><td>NA</td><td>11.332115</td><td> 0.228918417</td><td>2.1074142</td><td>938.0312</td><td>⋯</td><td>NA</td><td>NA</td><td>NA</td><td>      NA</td><td>NA</td><td>NA</td><td>NA</td><td>NA</td><td>FALSE</td><td>TRUE</td></tr>\n",
       "\t<tr><td>242</td><td>NA</td><td>2023</td><td>52</td><td>NA</td><td>NA</td><td>10.518028</td><td> 0.056162165</td><td>3.0487715</td><td>962.2087</td><td>⋯</td><td>NA</td><td>NA</td><td>NA</td><td>      NA</td><td>NA</td><td>NA</td><td>NA</td><td>NA</td><td>FALSE</td><td>TRUE</td></tr>\n",
       "\t<tr><td>247</td><td>NA</td><td>2023</td><td>52</td><td>NA</td><td>NA</td><td>10.714625</td><td> 0.245488122</td><td>1.3169438</td><td>932.7038</td><td>⋯</td><td>NA</td><td>NA</td><td>NA</td><td>      NA</td><td>NA</td><td>NA</td><td>NA</td><td>NA</td><td>FALSE</td><td>TRUE</td></tr>\n",
       "\t<tr><td>265</td><td>NA</td><td>2023</td><td>52</td><td>NA</td><td>NA</td><td>10.553600</td><td> 0.057099405</td><td>2.6110787</td><td>956.5085</td><td>⋯</td><td>NA</td><td>NA</td><td>NA</td><td>      NA</td><td>NA</td><td>NA</td><td>NA</td><td>NA</td><td>FALSE</td><td>TRUE</td></tr>\n",
       "\t<tr><td>268</td><td>NA</td><td>2023</td><td>52</td><td>NA</td><td>NA</td><td>11.230386</td><td> 0.280945419</td><td>2.4422730</td><td>933.8724</td><td>⋯</td><td>NA</td><td>NA</td><td>NA</td><td>      NA</td><td>NA</td><td>NA</td><td>NA</td><td>NA</td><td>FALSE</td><td>TRUE</td></tr>\n",
       "\t<tr><td>270</td><td>NA</td><td>2023</td><td>52</td><td>NA</td><td>NA</td><td>10.958116</td><td> 0.082934650</td><td>1.5836603</td><td>952.3942</td><td>⋯</td><td>NA</td><td>NA</td><td>NA</td><td>      NA</td><td>NA</td><td>NA</td><td>NA</td><td>NA</td><td>FALSE</td><td>TRUE</td></tr>\n",
       "\t<tr><td>276</td><td>NA</td><td>2023</td><td>52</td><td>NA</td><td>NA</td><td>11.317297</td><td> 0.193495530</td><td>0.5928780</td><td>944.9237</td><td>⋯</td><td>NA</td><td>NA</td><td>NA</td><td>      NA</td><td>NA</td><td>NA</td><td>NA</td><td>NA</td><td>FALSE</td><td>TRUE</td></tr>\n",
       "</tbody>\n",
       "</table>\n"
      ],
      "text/latex": [
       "A tibble: 21736 × 50\n",
       "\\begin{tabular}{lllllllllllllllllllll}\n",
       " GEOCODIGO & DESBDT & ano & semana & n\\_vacunas & n\\_citas & tmed & prec & velmedia & presMax & ⋯ & t10\\_1 & t11\\_1 & t12\\_1 & area & densidad\\_hab\\_km & tuits\\_gripe & interes\\_gripe & Target & is\\_train & x\\\\\n",
       " <chr> & <chr> & <dbl> & <dbl> & <dbl> & <dbl> & <dbl> & <dbl> & <dbl> & <dbl> & ⋯ & <dbl> & <dbl> & <dbl> & <dbl> & <dbl> & <dbl> & <dbl> & <dbl> & <lgl> & <lgl>\\\\\n",
       "\\hline\n",
       "\t 259 & V Centenario           & 2022 & 34 &   0 &   0 & 27.278748 &  0.169955881 & 2.297067 & 940.0420 & ⋯ & 0.09258503 & 0.6406787 & 0.7028586 &   2100118.9 & 15131.52443 &  60 &  24 &   0 & TRUE & TRUE\\\\\n",
       "\t 260 & Valdeacederas          & 2022 &  8 &   0 &   0 &  9.577289 &  1.264910043 & 1.890425 & 944.1770 & ⋯ & 0.13151901 & 0.5451465 & 0.6277335 &   1164622.0 & 22498.28643 &  56 &  15 &   0 & TRUE & TRUE\\\\\n",
       "\t 041 & Canillejas             & 2022 &  9 &   0 &   0 &  8.536554 &  3.122881160 & 2.418071 & 949.7179 & ⋯ & 0.13926119 & 0.4600730 & 0.5346482 &   1597474.5 & 17939.56640 &  72 &  24 &   0 & TRUE & TRUE\\\\\n",
       "\t 025 & Barajas                & 2022 & 49 & 292 & 280 &  9.065363 &  7.313886680 & 1.562328 & 941.8342 & ⋯ & 0.10460043 & 0.5920292 & 0.6590530 &   3816572.0 &  5893.24662 & 196 &  77 & 292 & TRUE & TRUE\\\\\n",
       "\t 046 & Castelló               & 2022 & 24 &   0 &   0 & 29.905728 &  0.013668517 & 2.564749 & 940.5669 & ⋯ & 0.06114283 & 0.4717699 & 0.5025317 &    870986.8 & 17738.50106 &  46 &  21 &   0 & TRUE & TRUE\\\\\n",
       "\t 159 & Mar Báltico            & 2022 &  3 & 524 & 498 &  4.717205 &  0.000000000 & 1.494957 & 953.5196 & ⋯ & 0.13207313 & 0.4690937 & 0.5405803 &  15368327.1 &  3284.54748 & 382 &  42 & 524 & TRUE & TRUE\\\\\n",
       "\t 065 & Daroca                 & 2022 &  8 &   0 &   0 & 10.233853 &  1.145128991 & 2.067554 & 948.1804 & ⋯ & 0.13304421 & 0.4726520 & 0.5453497 &   2813686.8 & 12136.39007 &  56 &  15 &   0 & TRUE & TRUE\\\\\n",
       "\t 092 & Felipe II              & 2021 & 47 & 248 & 228 &  6.078661 &  1.071980598 & 2.700305 & 938.7558 & ⋯ & 0.14516249 & 0.4759882 & 0.5564819 &    916183.4 & 22138.58056 & 280 &  64 & 248 & TRUE & TRUE\\\\\n",
       "\t 221 & Ramón y Cajal          & 2023 &  1 & 204 & 198 &  8.145987 &  1.089500548 & 2.556688 & 950.0602 & ⋯ & 0.14429658 & 0.3978026 & 0.4660208 &    459459.2 & 43017.96960 &  24 &  64 & 204 & TRUE & TRUE\\\\\n",
       "\t 038 & Campo Real             & 2022 &  2 & 205 & 187 &  4.245075 &  0.079651638 & 2.094226 & 994.1550 & ⋯ & 0.15408513 & 0.5310793 & 0.6272654 & 225744024.2 &    91.30696 & 508 &  69 & 205 & TRUE & TRUE\\\\\n",
       "\t 041 & NA                     & 2023 & 52 &  NA &  NA & 10.700753 &  0.113597507 & 1.425011 & 954.5998 & ⋯ &         NA &        NA &        NA &          NA &          NA &  NA &  NA &  NA & TRUE & TRUE\\\\\n",
       "\t 174 & Monforte de Lemos      & 2022 & 39 &   0 &   0 & 16.474803 &  0.840109889 & 2.205335 & 938.5389 & ⋯ & 0.11991115 & 0.4965663 & 0.5642990 &    320266.1 & 49299.63515 & 126 &  42 &   0 & TRUE & TRUE\\\\\n",
       "\t 126 & La Plata               & 2022 & 16 &   0 &   0 & 10.784243 &  3.840456676 & 4.668837 & 941.8737 & ⋯ & 0.12101854 & 0.6555124 & 0.7415345 &   3463767.7 &  9571.08065 &  94 &  40 &   0 & TRUE & TRUE\\\\\n",
       "\t 139 & Las Rozas              & 2022 & 50 & 515 & 510 &  8.842833 &  8.831183413 & 3.270584 & 915.2308 & ⋯ & 0.07948112 & 0.5871316 & 0.6370746 &  15354532.3 &  2485.52019 & 182 &  81 & 515 & TRUE & TRUE\\\\\n",
       "\t 188 & Opañel                 & 2022 & 34 &   0 &   0 & 28.005122 &  0.152008212 & 2.306659 & 938.3107 & ⋯ & 0.14839521 & 0.4668539 & 0.5481580 &    623385.2 & 31091.52988 &  60 &  24 &   0 & TRUE & TRUE\\\\\n",
       "\t 040 & Canal de Panamá        & 2021 & 37 &   0 &   0 & 19.878869 &  4.144780238 & 2.575349 & 943.0739 & ⋯ & 0.12070471 & 0.4696157 & 0.5343907 &   1394676.1 & 22029.48792 &  79 &  15 &   0 & TRUE & TRUE\\\\\n",
       "\t 084 & Embajadores            & 2022 & 11 &   0 &   0 & 10.896991 &  1.783350985 & 3.705408 & 945.3577 & ⋯ & 0.10910315 & 0.5304332 & 0.5954684 &    647263.5 & 39371.91141 &  78 &  27 &   0 & TRUE & TRUE\\\\\n",
       "\t 261 & Valdebernardo          & 2021 & 42 & 185 & 183 & 15.813806 &  0.000000000 & 2.116845 & 951.1437 & ⋯ & 0.15339911 & 0.5117686 & 0.6048410 &   1452762.2 & 11210.36886 & 254 & 100 & 185 & TRUE & TRUE\\\\\n",
       "\t 132 & Las Américas           & 2022 &  5 & 409 & 397 &  9.641141 &  0.000000000 & 1.953802 & 962.9932 & ⋯ & 0.14121552 & 0.6162060 & 0.7155478 &  10261640.8 &  4678.88138 & 144 &  20 & 409 & TRUE & TRUE\\\\\n",
       "\t 172 & Miraflores             & 2022 & 50 & 291 & 265 & 10.074072 & 10.994886653 & 3.087636 & 935.0695 & ⋯ & 0.13376605 & 0.4788441 & 0.5522430 &    673171.0 & 31876.00392 & 182 &  81 & 291 & TRUE & TRUE\\\\\n",
       "\t 266 & Valdezarza             & 2022 & 33 &   0 &   0 & 24.314646 &  0.086326357 & 2.123322 & 935.3358 & ⋯ & 0.10282242 & 0.4712815 & 0.5253661 &  15590900.9 &  2800.80030 &  34 &  11 &   0 & TRUE & TRUE\\\\\n",
       "\t 022 & Arganda - Felicidad    & 2022 & 43 & 418 & 393 & 18.313136 &  0.004713176 & 2.617470 & 959.8764 & ⋯ & 0.14831801 & 0.5751955 & 0.6725509 &  62928443.1 &   556.98184 & 270 &  69 & 418 & TRUE & TRUE\\\\\n",
       "\t 233 & San Blas               & 2022 & 50 & 333 & 326 & 10.574115 &  9.682059178 & 2.733725 & 947.5894 & ⋯ & 0.19425533 & 0.4605699 & 0.5694285 &   7633175.5 &  3793.17888 & 182 &  81 & 333 & TRUE & TRUE\\\\\n",
       "\t 195 & Paracuellos del Jarama & 2022 & 32 &   0 &   0 & 28.061744 &  0.003560555 & 3.695964 & 947.2270 & ⋯ & 0.08264704 & 0.6529238 & 0.7102701 &  43812815.4 &   600.12121 &  34 &  10 &   0 & TRUE & TRUE\\\\\n",
       "\t 286 & Zofío                  & 2022 & 42 & 368 & 357 & 18.393992 &  2.394857359 & 3.107041 & 942.6759 & ⋯ & 0.17766065 & 0.4448489 & 0.5405693 &   1871142.8 & 16836.23510 & 180 & 100 & 368 & TRUE & TRUE\\\\\n",
       "\t 209 & Portazgo               & 2021 & 45 & 215 & 213 & 10.457078 & -0.001431931 & 1.568141 & 944.8039 & ⋯ & 0.17912995 & 0.4312525 & 0.5261093 &   1165705.1 & 15269.72763 & 160 &  70 & 215 & TRUE & TRUE\\\\\n",
       "\t 128 & La Ribota              & 2022 & 18 &   0 &   0 & 16.293292 &  1.755478391 & 2.641612 & 942.6558 & ⋯ & 0.11272335 & 0.6094153 & 0.6814646 &   1364369.5 & 24969.77491 & 122 &  36 &   0 & TRUE & TRUE\\\\\n",
       "\t 137 & Las Matas              & 2021 & 36 &   0 &   0 & 21.968429 &  0.061186034 & 3.079440 & 913.7501 & ⋯ & 0.08716812 & 0.4943178 & 0.5414490 &   7951396.5 &   837.84024 &  97 &  13 &   0 & TRUE & TRUE\\\\\n",
       "\t 124 & La Marazuela           & 2022 & 52 & 151 & 149 &  8.411680 &  0.177250054 & 1.998273 &       NA & ⋯ & 0.08368767 & 0.5459855 & 0.5957059 &   8997541.1 &  1345.25642 & 204 &  70 & 151 & TRUE & TRUE\\\\\n",
       "\t 210 & Potosí                 & 2022 & 12 &   0 &   0 & 10.009513 &  6.265043165 & 3.503190 & 941.7438 & ⋯ & 0.07197837 & 0.5120776 & 0.5518168 &   1753252.0 & 16485.36507 & 134 &  43 &   0 & TRUE & TRUE\\\\\n",
       "\t ⋮ & ⋮ & ⋮ & ⋮ & ⋮ & ⋮ & ⋮ & ⋮ & ⋮ & ⋮ & ⋱ & ⋮ & ⋮ & ⋮ & ⋮ & ⋮ & ⋮ & ⋮ & ⋮ & ⋮ & ⋮\\\\\n",
       "\t 121 & NA & 2023 & 52 & NA & NA &  7.306716 &  0.128150649 & 1.1548026 & 906.4534 & ⋯ & NA & NA & NA &       NA & NA & NA & NA & NA & FALSE & TRUE\\\\\n",
       "\t 123 & NA & 2023 & 52 & NA & NA & 10.211300 & -0.005418091 & 1.3682419 & 954.5679 & ⋯ & NA & NA & NA & 17069020 & NA & NA & NA & NA & FALSE & TRUE\\\\\n",
       "\t 125 & NA & 2023 & 52 & NA & NA & 10.545031 &  0.129075612 & 1.9666051 & 952.1866 & ⋯ & NA & NA & NA &       NA & NA & NA & NA & NA & FALSE & TRUE\\\\\n",
       "\t 141 & NA & 2023 & 52 & NA & NA & 11.357062 &  0.110700024 & 1.0160656 & 946.6940 & ⋯ & NA & NA & NA &       NA & NA & NA & NA & NA & FALSE & TRUE\\\\\n",
       "\t 143 & NA & 2023 & 52 & NA & NA & 11.203006 &  0.075128787 & 1.3629539 & 948.6422 & ⋯ & NA & NA & NA &       NA & NA & NA & NA & NA & FALSE & TRUE\\\\\n",
       "\t 145 & NA & 2023 & 52 & NA & NA & 10.166632 &  0.043369205 & 1.7868957 & 958.0803 & ⋯ & NA & NA & NA &       NA & NA & NA & NA & NA & FALSE & TRUE\\\\\n",
       "\t 154 & NA & 2023 & 52 & NA & NA & 10.225257 &  0.016289705 & 1.3407377 & 956.2241 & ⋯ & NA & NA & NA &       NA & NA & NA & NA & NA & FALSE & TRUE\\\\\n",
       "\t 155 & NA & 2023 & 52 & NA & NA & 11.044462 &  0.331696059 & 3.1559050 & 928.9975 & ⋯ & NA & NA & NA &       NA & NA & NA & NA & NA & FALSE & TRUE\\\\\n",
       "\t 163 & NA & 2023 & 52 & NA & NA & 11.014089 &  0.063385787 & 1.9253572 & 948.2070 & ⋯ & NA & NA & NA &       NA & NA & NA & NA & NA & FALSE & TRUE\\\\\n",
       "\t 166 & NA & 2023 & 52 & NA & NA & 10.142910 &  0.023016148 & 2.3889124 & 956.9007 & ⋯ & NA & NA & NA &       NA & NA & NA & NA & NA & FALSE & TRUE\\\\\n",
       "\t 175 & NA & 2023 & 52 & NA & NA & 11.012679 &  0.167191841 & 0.9345523 & 949.1661 & ⋯ & NA & NA & NA &       NA & NA & NA & NA & NA & FALSE & TRUE\\\\\n",
       "\t 178 & NA & 2023 & 52 & NA & NA & 11.259098 &  0.130901716 & 0.9007216 & 948.3606 & ⋯ & NA & NA & NA &       NA & NA & NA & NA & NA & FALSE & TRUE\\\\\n",
       "\t 180 & NA & 2023 & 52 & NA & NA & 10.654319 &  0.115703210 & 3.0056868 & 965.2384 & ⋯ & NA & NA & NA &       NA & NA & NA & NA & NA & FALSE & TRUE\\\\\n",
       "\t 183 & NA & 2023 & 52 & NA & NA & 11.527141 &  0.052346915 & 2.4312266 & 960.6209 & ⋯ & NA & NA & NA &       NA & NA & NA & NA & NA & FALSE & TRUE\\\\\n",
       "\t 186 & NA & 2023 & 52 & NA & NA & 11.146386 &  0.080628546 & 1.4025629 & 950.1638 & ⋯ & NA & NA & NA &       NA & NA & NA & NA & NA & FALSE & TRUE\\\\\n",
       "\t 190 & NA & 2023 & 52 & NA & NA & 11.068404 &  0.057635073 & 1.5819001 & 949.1403 & ⋯ & NA & NA & NA &       NA & NA & NA & NA & NA & FALSE & TRUE\\\\\n",
       "\t 196 & NA & 2023 & 52 & NA & NA & 11.219301 &  0.067613842 & 3.4378131 & 954.1926 & ⋯ & NA & NA & NA &       NA & NA & NA & NA & NA & FALSE & TRUE\\\\\n",
       "\t 197 & NA & 2023 & 52 & NA & NA & 10.361258 &  0.011666925 & 2.4640036 & 958.5473 & ⋯ & NA & NA & NA &       NA & NA & NA & NA & NA & FALSE & TRUE\\\\\n",
       "\t 211 & NA & 2023 & 52 & NA & NA & 10.965211 &  0.051475465 & 1.8636783 & 951.2371 & ⋯ & NA & NA & NA &       NA & NA & NA & NA & NA & FALSE & TRUE\\\\\n",
       "\t 215 & NA & 2023 & 52 & NA & NA & 11.205836 &  0.147135970 & 0.8374458 & 948.4432 & ⋯ & NA & NA & NA &       NA & NA & NA & NA & NA & FALSE & TRUE\\\\\n",
       "\t 217 & NA & 2023 & 52 & NA & NA & 10.212181 &  0.006669498 & 1.2822661 & 955.6029 & ⋯ & NA & NA & NA &       NA & NA & NA & NA & NA & FALSE & TRUE\\\\\n",
       "\t 222 & NA & 2023 & 52 & NA & NA &  5.354266 &  1.059873094 & 3.0555966 & 849.0465 & ⋯ & NA & NA & NA &       NA & NA & NA & NA & NA & FALSE & TRUE\\\\\n",
       "\t 234 & NA & 2023 & 52 & NA & NA & 10.678634 &  0.020101581 & 2.0813710 & 951.6213 & ⋯ & NA & NA & NA &       NA & NA & NA & NA & NA & FALSE & TRUE\\\\\n",
       "\t 239 & NA & 2023 & 52 & NA & NA & 11.332115 &  0.228918417 & 2.1074142 & 938.0312 & ⋯ & NA & NA & NA &       NA & NA & NA & NA & NA & FALSE & TRUE\\\\\n",
       "\t 242 & NA & 2023 & 52 & NA & NA & 10.518028 &  0.056162165 & 3.0487715 & 962.2087 & ⋯ & NA & NA & NA &       NA & NA & NA & NA & NA & FALSE & TRUE\\\\\n",
       "\t 247 & NA & 2023 & 52 & NA & NA & 10.714625 &  0.245488122 & 1.3169438 & 932.7038 & ⋯ & NA & NA & NA &       NA & NA & NA & NA & NA & FALSE & TRUE\\\\\n",
       "\t 265 & NA & 2023 & 52 & NA & NA & 10.553600 &  0.057099405 & 2.6110787 & 956.5085 & ⋯ & NA & NA & NA &       NA & NA & NA & NA & NA & FALSE & TRUE\\\\\n",
       "\t 268 & NA & 2023 & 52 & NA & NA & 11.230386 &  0.280945419 & 2.4422730 & 933.8724 & ⋯ & NA & NA & NA &       NA & NA & NA & NA & NA & FALSE & TRUE\\\\\n",
       "\t 270 & NA & 2023 & 52 & NA & NA & 10.958116 &  0.082934650 & 1.5836603 & 952.3942 & ⋯ & NA & NA & NA &       NA & NA & NA & NA & NA & FALSE & TRUE\\\\\n",
       "\t 276 & NA & 2023 & 52 & NA & NA & 11.317297 &  0.193495530 & 0.5928780 & 944.9237 & ⋯ & NA & NA & NA &       NA & NA & NA & NA & NA & FALSE & TRUE\\\\\n",
       "\\end{tabular}\n"
      ],
      "text/markdown": [
       "\n",
       "A tibble: 21736 × 50\n",
       "\n",
       "| GEOCODIGO &lt;chr&gt; | DESBDT &lt;chr&gt; | ano &lt;dbl&gt; | semana &lt;dbl&gt; | n_vacunas &lt;dbl&gt; | n_citas &lt;dbl&gt; | tmed &lt;dbl&gt; | prec &lt;dbl&gt; | velmedia &lt;dbl&gt; | presMax &lt;dbl&gt; | ⋯ ⋯ | t10_1 &lt;dbl&gt; | t11_1 &lt;dbl&gt; | t12_1 &lt;dbl&gt; | area &lt;dbl&gt; | densidad_hab_km &lt;dbl&gt; | tuits_gripe &lt;dbl&gt; | interes_gripe &lt;dbl&gt; | Target &lt;dbl&gt; | is_train &lt;lgl&gt; | x &lt;lgl&gt; |\n",
       "|---|---|---|---|---|---|---|---|---|---|---|---|---|---|---|---|---|---|---|---|---|\n",
       "| 259 | V Centenario           | 2022 | 34 |   0 |   0 | 27.278748 |  0.169955881 | 2.297067 | 940.0420 | ⋯ | 0.09258503 | 0.6406787 | 0.7028586 |   2100118.9 | 15131.52443 |  60 |  24 |   0 | TRUE | TRUE |\n",
       "| 260 | Valdeacederas          | 2022 |  8 |   0 |   0 |  9.577289 |  1.264910043 | 1.890425 | 944.1770 | ⋯ | 0.13151901 | 0.5451465 | 0.6277335 |   1164622.0 | 22498.28643 |  56 |  15 |   0 | TRUE | TRUE |\n",
       "| 041 | Canillejas             | 2022 |  9 |   0 |   0 |  8.536554 |  3.122881160 | 2.418071 | 949.7179 | ⋯ | 0.13926119 | 0.4600730 | 0.5346482 |   1597474.5 | 17939.56640 |  72 |  24 |   0 | TRUE | TRUE |\n",
       "| 025 | Barajas                | 2022 | 49 | 292 | 280 |  9.065363 |  7.313886680 | 1.562328 | 941.8342 | ⋯ | 0.10460043 | 0.5920292 | 0.6590530 |   3816572.0 |  5893.24662 | 196 |  77 | 292 | TRUE | TRUE |\n",
       "| 046 | Castelló               | 2022 | 24 |   0 |   0 | 29.905728 |  0.013668517 | 2.564749 | 940.5669 | ⋯ | 0.06114283 | 0.4717699 | 0.5025317 |    870986.8 | 17738.50106 |  46 |  21 |   0 | TRUE | TRUE |\n",
       "| 159 | Mar Báltico            | 2022 |  3 | 524 | 498 |  4.717205 |  0.000000000 | 1.494957 | 953.5196 | ⋯ | 0.13207313 | 0.4690937 | 0.5405803 |  15368327.1 |  3284.54748 | 382 |  42 | 524 | TRUE | TRUE |\n",
       "| 065 | Daroca                 | 2022 |  8 |   0 |   0 | 10.233853 |  1.145128991 | 2.067554 | 948.1804 | ⋯ | 0.13304421 | 0.4726520 | 0.5453497 |   2813686.8 | 12136.39007 |  56 |  15 |   0 | TRUE | TRUE |\n",
       "| 092 | Felipe II              | 2021 | 47 | 248 | 228 |  6.078661 |  1.071980598 | 2.700305 | 938.7558 | ⋯ | 0.14516249 | 0.4759882 | 0.5564819 |    916183.4 | 22138.58056 | 280 |  64 | 248 | TRUE | TRUE |\n",
       "| 221 | Ramón y Cajal          | 2023 |  1 | 204 | 198 |  8.145987 |  1.089500548 | 2.556688 | 950.0602 | ⋯ | 0.14429658 | 0.3978026 | 0.4660208 |    459459.2 | 43017.96960 |  24 |  64 | 204 | TRUE | TRUE |\n",
       "| 038 | Campo Real             | 2022 |  2 | 205 | 187 |  4.245075 |  0.079651638 | 2.094226 | 994.1550 | ⋯ | 0.15408513 | 0.5310793 | 0.6272654 | 225744024.2 |    91.30696 | 508 |  69 | 205 | TRUE | TRUE |\n",
       "| 041 | NA                     | 2023 | 52 |  NA |  NA | 10.700753 |  0.113597507 | 1.425011 | 954.5998 | ⋯ |         NA |        NA |        NA |          NA |          NA |  NA |  NA |  NA | TRUE | TRUE |\n",
       "| 174 | Monforte de Lemos      | 2022 | 39 |   0 |   0 | 16.474803 |  0.840109889 | 2.205335 | 938.5389 | ⋯ | 0.11991115 | 0.4965663 | 0.5642990 |    320266.1 | 49299.63515 | 126 |  42 |   0 | TRUE | TRUE |\n",
       "| 126 | La Plata               | 2022 | 16 |   0 |   0 | 10.784243 |  3.840456676 | 4.668837 | 941.8737 | ⋯ | 0.12101854 | 0.6555124 | 0.7415345 |   3463767.7 |  9571.08065 |  94 |  40 |   0 | TRUE | TRUE |\n",
       "| 139 | Las Rozas              | 2022 | 50 | 515 | 510 |  8.842833 |  8.831183413 | 3.270584 | 915.2308 | ⋯ | 0.07948112 | 0.5871316 | 0.6370746 |  15354532.3 |  2485.52019 | 182 |  81 | 515 | TRUE | TRUE |\n",
       "| 188 | Opañel                 | 2022 | 34 |   0 |   0 | 28.005122 |  0.152008212 | 2.306659 | 938.3107 | ⋯ | 0.14839521 | 0.4668539 | 0.5481580 |    623385.2 | 31091.52988 |  60 |  24 |   0 | TRUE | TRUE |\n",
       "| 040 | Canal de Panamá        | 2021 | 37 |   0 |   0 | 19.878869 |  4.144780238 | 2.575349 | 943.0739 | ⋯ | 0.12070471 | 0.4696157 | 0.5343907 |   1394676.1 | 22029.48792 |  79 |  15 |   0 | TRUE | TRUE |\n",
       "| 084 | Embajadores            | 2022 | 11 |   0 |   0 | 10.896991 |  1.783350985 | 3.705408 | 945.3577 | ⋯ | 0.10910315 | 0.5304332 | 0.5954684 |    647263.5 | 39371.91141 |  78 |  27 |   0 | TRUE | TRUE |\n",
       "| 261 | Valdebernardo          | 2021 | 42 | 185 | 183 | 15.813806 |  0.000000000 | 2.116845 | 951.1437 | ⋯ | 0.15339911 | 0.5117686 | 0.6048410 |   1452762.2 | 11210.36886 | 254 | 100 | 185 | TRUE | TRUE |\n",
       "| 132 | Las Américas           | 2022 |  5 | 409 | 397 |  9.641141 |  0.000000000 | 1.953802 | 962.9932 | ⋯ | 0.14121552 | 0.6162060 | 0.7155478 |  10261640.8 |  4678.88138 | 144 |  20 | 409 | TRUE | TRUE |\n",
       "| 172 | Miraflores             | 2022 | 50 | 291 | 265 | 10.074072 | 10.994886653 | 3.087636 | 935.0695 | ⋯ | 0.13376605 | 0.4788441 | 0.5522430 |    673171.0 | 31876.00392 | 182 |  81 | 291 | TRUE | TRUE |\n",
       "| 266 | Valdezarza             | 2022 | 33 |   0 |   0 | 24.314646 |  0.086326357 | 2.123322 | 935.3358 | ⋯ | 0.10282242 | 0.4712815 | 0.5253661 |  15590900.9 |  2800.80030 |  34 |  11 |   0 | TRUE | TRUE |\n",
       "| 022 | Arganda - Felicidad    | 2022 | 43 | 418 | 393 | 18.313136 |  0.004713176 | 2.617470 | 959.8764 | ⋯ | 0.14831801 | 0.5751955 | 0.6725509 |  62928443.1 |   556.98184 | 270 |  69 | 418 | TRUE | TRUE |\n",
       "| 233 | San Blas               | 2022 | 50 | 333 | 326 | 10.574115 |  9.682059178 | 2.733725 | 947.5894 | ⋯ | 0.19425533 | 0.4605699 | 0.5694285 |   7633175.5 |  3793.17888 | 182 |  81 | 333 | TRUE | TRUE |\n",
       "| 195 | Paracuellos del Jarama | 2022 | 32 |   0 |   0 | 28.061744 |  0.003560555 | 3.695964 | 947.2270 | ⋯ | 0.08264704 | 0.6529238 | 0.7102701 |  43812815.4 |   600.12121 |  34 |  10 |   0 | TRUE | TRUE |\n",
       "| 286 | Zofío                  | 2022 | 42 | 368 | 357 | 18.393992 |  2.394857359 | 3.107041 | 942.6759 | ⋯ | 0.17766065 | 0.4448489 | 0.5405693 |   1871142.8 | 16836.23510 | 180 | 100 | 368 | TRUE | TRUE |\n",
       "| 209 | Portazgo               | 2021 | 45 | 215 | 213 | 10.457078 | -0.001431931 | 1.568141 | 944.8039 | ⋯ | 0.17912995 | 0.4312525 | 0.5261093 |   1165705.1 | 15269.72763 | 160 |  70 | 215 | TRUE | TRUE |\n",
       "| 128 | La Ribota              | 2022 | 18 |   0 |   0 | 16.293292 |  1.755478391 | 2.641612 | 942.6558 | ⋯ | 0.11272335 | 0.6094153 | 0.6814646 |   1364369.5 | 24969.77491 | 122 |  36 |   0 | TRUE | TRUE |\n",
       "| 137 | Las Matas              | 2021 | 36 |   0 |   0 | 21.968429 |  0.061186034 | 3.079440 | 913.7501 | ⋯ | 0.08716812 | 0.4943178 | 0.5414490 |   7951396.5 |   837.84024 |  97 |  13 |   0 | TRUE | TRUE |\n",
       "| 124 | La Marazuela           | 2022 | 52 | 151 | 149 |  8.411680 |  0.177250054 | 1.998273 |       NA | ⋯ | 0.08368767 | 0.5459855 | 0.5957059 |   8997541.1 |  1345.25642 | 204 |  70 | 151 | TRUE | TRUE |\n",
       "| 210 | Potosí                 | 2022 | 12 |   0 |   0 | 10.009513 |  6.265043165 | 3.503190 | 941.7438 | ⋯ | 0.07197837 | 0.5120776 | 0.5518168 |   1753252.0 | 16485.36507 | 134 |  43 |   0 | TRUE | TRUE |\n",
       "| ⋮ | ⋮ | ⋮ | ⋮ | ⋮ | ⋮ | ⋮ | ⋮ | ⋮ | ⋮ | ⋱ | ⋮ | ⋮ | ⋮ | ⋮ | ⋮ | ⋮ | ⋮ | ⋮ | ⋮ | ⋮ |\n",
       "| 121 | NA | 2023 | 52 | NA | NA |  7.306716 |  0.128150649 | 1.1548026 | 906.4534 | ⋯ | NA | NA | NA |       NA | NA | NA | NA | NA | FALSE | TRUE |\n",
       "| 123 | NA | 2023 | 52 | NA | NA | 10.211300 | -0.005418091 | 1.3682419 | 954.5679 | ⋯ | NA | NA | NA | 17069020 | NA | NA | NA | NA | FALSE | TRUE |\n",
       "| 125 | NA | 2023 | 52 | NA | NA | 10.545031 |  0.129075612 | 1.9666051 | 952.1866 | ⋯ | NA | NA | NA |       NA | NA | NA | NA | NA | FALSE | TRUE |\n",
       "| 141 | NA | 2023 | 52 | NA | NA | 11.357062 |  0.110700024 | 1.0160656 | 946.6940 | ⋯ | NA | NA | NA |       NA | NA | NA | NA | NA | FALSE | TRUE |\n",
       "| 143 | NA | 2023 | 52 | NA | NA | 11.203006 |  0.075128787 | 1.3629539 | 948.6422 | ⋯ | NA | NA | NA |       NA | NA | NA | NA | NA | FALSE | TRUE |\n",
       "| 145 | NA | 2023 | 52 | NA | NA | 10.166632 |  0.043369205 | 1.7868957 | 958.0803 | ⋯ | NA | NA | NA |       NA | NA | NA | NA | NA | FALSE | TRUE |\n",
       "| 154 | NA | 2023 | 52 | NA | NA | 10.225257 |  0.016289705 | 1.3407377 | 956.2241 | ⋯ | NA | NA | NA |       NA | NA | NA | NA | NA | FALSE | TRUE |\n",
       "| 155 | NA | 2023 | 52 | NA | NA | 11.044462 |  0.331696059 | 3.1559050 | 928.9975 | ⋯ | NA | NA | NA |       NA | NA | NA | NA | NA | FALSE | TRUE |\n",
       "| 163 | NA | 2023 | 52 | NA | NA | 11.014089 |  0.063385787 | 1.9253572 | 948.2070 | ⋯ | NA | NA | NA |       NA | NA | NA | NA | NA | FALSE | TRUE |\n",
       "| 166 | NA | 2023 | 52 | NA | NA | 10.142910 |  0.023016148 | 2.3889124 | 956.9007 | ⋯ | NA | NA | NA |       NA | NA | NA | NA | NA | FALSE | TRUE |\n",
       "| 175 | NA | 2023 | 52 | NA | NA | 11.012679 |  0.167191841 | 0.9345523 | 949.1661 | ⋯ | NA | NA | NA |       NA | NA | NA | NA | NA | FALSE | TRUE |\n",
       "| 178 | NA | 2023 | 52 | NA | NA | 11.259098 |  0.130901716 | 0.9007216 | 948.3606 | ⋯ | NA | NA | NA |       NA | NA | NA | NA | NA | FALSE | TRUE |\n",
       "| 180 | NA | 2023 | 52 | NA | NA | 10.654319 |  0.115703210 | 3.0056868 | 965.2384 | ⋯ | NA | NA | NA |       NA | NA | NA | NA | NA | FALSE | TRUE |\n",
       "| 183 | NA | 2023 | 52 | NA | NA | 11.527141 |  0.052346915 | 2.4312266 | 960.6209 | ⋯ | NA | NA | NA |       NA | NA | NA | NA | NA | FALSE | TRUE |\n",
       "| 186 | NA | 2023 | 52 | NA | NA | 11.146386 |  0.080628546 | 1.4025629 | 950.1638 | ⋯ | NA | NA | NA |       NA | NA | NA | NA | NA | FALSE | TRUE |\n",
       "| 190 | NA | 2023 | 52 | NA | NA | 11.068404 |  0.057635073 | 1.5819001 | 949.1403 | ⋯ | NA | NA | NA |       NA | NA | NA | NA | NA | FALSE | TRUE |\n",
       "| 196 | NA | 2023 | 52 | NA | NA | 11.219301 |  0.067613842 | 3.4378131 | 954.1926 | ⋯ | NA | NA | NA |       NA | NA | NA | NA | NA | FALSE | TRUE |\n",
       "| 197 | NA | 2023 | 52 | NA | NA | 10.361258 |  0.011666925 | 2.4640036 | 958.5473 | ⋯ | NA | NA | NA |       NA | NA | NA | NA | NA | FALSE | TRUE |\n",
       "| 211 | NA | 2023 | 52 | NA | NA | 10.965211 |  0.051475465 | 1.8636783 | 951.2371 | ⋯ | NA | NA | NA |       NA | NA | NA | NA | NA | FALSE | TRUE |\n",
       "| 215 | NA | 2023 | 52 | NA | NA | 11.205836 |  0.147135970 | 0.8374458 | 948.4432 | ⋯ | NA | NA | NA |       NA | NA | NA | NA | NA | FALSE | TRUE |\n",
       "| 217 | NA | 2023 | 52 | NA | NA | 10.212181 |  0.006669498 | 1.2822661 | 955.6029 | ⋯ | NA | NA | NA |       NA | NA | NA | NA | NA | FALSE | TRUE |\n",
       "| 222 | NA | 2023 | 52 | NA | NA |  5.354266 |  1.059873094 | 3.0555966 | 849.0465 | ⋯ | NA | NA | NA |       NA | NA | NA | NA | NA | FALSE | TRUE |\n",
       "| 234 | NA | 2023 | 52 | NA | NA | 10.678634 |  0.020101581 | 2.0813710 | 951.6213 | ⋯ | NA | NA | NA |       NA | NA | NA | NA | NA | FALSE | TRUE |\n",
       "| 239 | NA | 2023 | 52 | NA | NA | 11.332115 |  0.228918417 | 2.1074142 | 938.0312 | ⋯ | NA | NA | NA |       NA | NA | NA | NA | NA | FALSE | TRUE |\n",
       "| 242 | NA | 2023 | 52 | NA | NA | 10.518028 |  0.056162165 | 3.0487715 | 962.2087 | ⋯ | NA | NA | NA |       NA | NA | NA | NA | NA | FALSE | TRUE |\n",
       "| 247 | NA | 2023 | 52 | NA | NA | 10.714625 |  0.245488122 | 1.3169438 | 932.7038 | ⋯ | NA | NA | NA |       NA | NA | NA | NA | NA | FALSE | TRUE |\n",
       "| 265 | NA | 2023 | 52 | NA | NA | 10.553600 |  0.057099405 | 2.6110787 | 956.5085 | ⋯ | NA | NA | NA |       NA | NA | NA | NA | NA | FALSE | TRUE |\n",
       "| 268 | NA | 2023 | 52 | NA | NA | 11.230386 |  0.280945419 | 2.4422730 | 933.8724 | ⋯ | NA | NA | NA |       NA | NA | NA | NA | NA | FALSE | TRUE |\n",
       "| 270 | NA | 2023 | 52 | NA | NA | 10.958116 |  0.082934650 | 1.5836603 | 952.3942 | ⋯ | NA | NA | NA |       NA | NA | NA | NA | NA | FALSE | TRUE |\n",
       "| 276 | NA | 2023 | 52 | NA | NA | 11.317297 |  0.193495530 | 0.5928780 | 944.9237 | ⋯ | NA | NA | NA |       NA | NA | NA | NA | NA | FALSE | TRUE |\n",
       "\n"
      ],
      "text/plain": [
       "      GEOCODIGO DESBDT                 ano  semana n_vacunas n_citas tmed     \n",
       "1     259       V Centenario           2022 34       0         0     27.278748\n",
       "2     260       Valdeacederas          2022  8       0         0      9.577289\n",
       "3     041       Canillejas             2022  9       0         0      8.536554\n",
       "4     025       Barajas                2022 49     292       280      9.065363\n",
       "5     046       Castelló               2022 24       0         0     29.905728\n",
       "6     159       Mar Báltico            2022  3     524       498      4.717205\n",
       "7     065       Daroca                 2022  8       0         0     10.233853\n",
       "8     092       Felipe II              2021 47     248       228      6.078661\n",
       "9     221       Ramón y Cajal          2023  1     204       198      8.145987\n",
       "10    038       Campo Real             2022  2     205       187      4.245075\n",
       "11    041       NA                     2023 52      NA        NA     10.700753\n",
       "12    174       Monforte de Lemos      2022 39       0         0     16.474803\n",
       "13    126       La Plata               2022 16       0         0     10.784243\n",
       "14    139       Las Rozas              2022 50     515       510      8.842833\n",
       "15    188       Opañel                 2022 34       0         0     28.005122\n",
       "16    040       Canal de Panamá        2021 37       0         0     19.878869\n",
       "17    084       Embajadores            2022 11       0         0     10.896991\n",
       "18    261       Valdebernardo          2021 42     185       183     15.813806\n",
       "19    132       Las Américas           2022  5     409       397      9.641141\n",
       "20    172       Miraflores             2022 50     291       265     10.074072\n",
       "21    266       Valdezarza             2022 33       0         0     24.314646\n",
       "22    022       Arganda - Felicidad    2022 43     418       393     18.313136\n",
       "23    233       San Blas               2022 50     333       326     10.574115\n",
       "24    195       Paracuellos del Jarama 2022 32       0         0     28.061744\n",
       "25    286       Zofío                  2022 42     368       357     18.393992\n",
       "26    209       Portazgo               2021 45     215       213     10.457078\n",
       "27    128       La Ribota              2022 18       0         0     16.293292\n",
       "28    137       Las Matas              2021 36       0         0     21.968429\n",
       "29    124       La Marazuela           2022 52     151       149      8.411680\n",
       "30    210       Potosí                 2022 12       0         0     10.009513\n",
       "⋮     ⋮         ⋮                      ⋮    ⋮      ⋮         ⋮       ⋮        \n",
       "21707 121       NA                     2023 52     NA        NA       7.306716\n",
       "21708 123       NA                     2023 52     NA        NA      10.211300\n",
       "21709 125       NA                     2023 52     NA        NA      10.545031\n",
       "21710 141       NA                     2023 52     NA        NA      11.357062\n",
       "21711 143       NA                     2023 52     NA        NA      11.203006\n",
       "21712 145       NA                     2023 52     NA        NA      10.166632\n",
       "21713 154       NA                     2023 52     NA        NA      10.225257\n",
       "21714 155       NA                     2023 52     NA        NA      11.044462\n",
       "21715 163       NA                     2023 52     NA        NA      11.014089\n",
       "21716 166       NA                     2023 52     NA        NA      10.142910\n",
       "21717 175       NA                     2023 52     NA        NA      11.012679\n",
       "21718 178       NA                     2023 52     NA        NA      11.259098\n",
       "21719 180       NA                     2023 52     NA        NA      10.654319\n",
       "21720 183       NA                     2023 52     NA        NA      11.527141\n",
       "21721 186       NA                     2023 52     NA        NA      11.146386\n",
       "21722 190       NA                     2023 52     NA        NA      11.068404\n",
       "21723 196       NA                     2023 52     NA        NA      11.219301\n",
       "21724 197       NA                     2023 52     NA        NA      10.361258\n",
       "21725 211       NA                     2023 52     NA        NA      10.965211\n",
       "21726 215       NA                     2023 52     NA        NA      11.205836\n",
       "21727 217       NA                     2023 52     NA        NA      10.212181\n",
       "21728 222       NA                     2023 52     NA        NA       5.354266\n",
       "21729 234       NA                     2023 52     NA        NA      10.678634\n",
       "21730 239       NA                     2023 52     NA        NA      11.332115\n",
       "21731 242       NA                     2023 52     NA        NA      10.518028\n",
       "21732 247       NA                     2023 52     NA        NA      10.714625\n",
       "21733 265       NA                     2023 52     NA        NA      10.553600\n",
       "21734 268       NA                     2023 52     NA        NA      11.230386\n",
       "21735 270       NA                     2023 52     NA        NA      10.958116\n",
       "21736 276       NA                     2023 52     NA        NA      11.317297\n",
       "      prec         velmedia  presMax  ⋯ t10_1      t11_1     t12_1    \n",
       "1      0.169955881 2.297067  940.0420 ⋯ 0.09258503 0.6406787 0.7028586\n",
       "2      1.264910043 1.890425  944.1770 ⋯ 0.13151901 0.5451465 0.6277335\n",
       "3      3.122881160 2.418071  949.7179 ⋯ 0.13926119 0.4600730 0.5346482\n",
       "4      7.313886680 1.562328  941.8342 ⋯ 0.10460043 0.5920292 0.6590530\n",
       "5      0.013668517 2.564749  940.5669 ⋯ 0.06114283 0.4717699 0.5025317\n",
       "6      0.000000000 1.494957  953.5196 ⋯ 0.13207313 0.4690937 0.5405803\n",
       "7      1.145128991 2.067554  948.1804 ⋯ 0.13304421 0.4726520 0.5453497\n",
       "8      1.071980598 2.700305  938.7558 ⋯ 0.14516249 0.4759882 0.5564819\n",
       "9      1.089500548 2.556688  950.0602 ⋯ 0.14429658 0.3978026 0.4660208\n",
       "10     0.079651638 2.094226  994.1550 ⋯ 0.15408513 0.5310793 0.6272654\n",
       "11     0.113597507 1.425011  954.5998 ⋯         NA        NA        NA\n",
       "12     0.840109889 2.205335  938.5389 ⋯ 0.11991115 0.4965663 0.5642990\n",
       "13     3.840456676 4.668837  941.8737 ⋯ 0.12101854 0.6555124 0.7415345\n",
       "14     8.831183413 3.270584  915.2308 ⋯ 0.07948112 0.5871316 0.6370746\n",
       "15     0.152008212 2.306659  938.3107 ⋯ 0.14839521 0.4668539 0.5481580\n",
       "16     4.144780238 2.575349  943.0739 ⋯ 0.12070471 0.4696157 0.5343907\n",
       "17     1.783350985 3.705408  945.3577 ⋯ 0.10910315 0.5304332 0.5954684\n",
       "18     0.000000000 2.116845  951.1437 ⋯ 0.15339911 0.5117686 0.6048410\n",
       "19     0.000000000 1.953802  962.9932 ⋯ 0.14121552 0.6162060 0.7155478\n",
       "20    10.994886653 3.087636  935.0695 ⋯ 0.13376605 0.4788441 0.5522430\n",
       "21     0.086326357 2.123322  935.3358 ⋯ 0.10282242 0.4712815 0.5253661\n",
       "22     0.004713176 2.617470  959.8764 ⋯ 0.14831801 0.5751955 0.6725509\n",
       "23     9.682059178 2.733725  947.5894 ⋯ 0.19425533 0.4605699 0.5694285\n",
       "24     0.003560555 3.695964  947.2270 ⋯ 0.08264704 0.6529238 0.7102701\n",
       "25     2.394857359 3.107041  942.6759 ⋯ 0.17766065 0.4448489 0.5405693\n",
       "26    -0.001431931 1.568141  944.8039 ⋯ 0.17912995 0.4312525 0.5261093\n",
       "27     1.755478391 2.641612  942.6558 ⋯ 0.11272335 0.6094153 0.6814646\n",
       "28     0.061186034 3.079440  913.7501 ⋯ 0.08716812 0.4943178 0.5414490\n",
       "29     0.177250054 1.998273        NA ⋯ 0.08368767 0.5459855 0.5957059\n",
       "30     6.265043165 3.503190  941.7438 ⋯ 0.07197837 0.5120776 0.5518168\n",
       "⋮     ⋮            ⋮         ⋮        ⋱ ⋮          ⋮         ⋮        \n",
       "21707  0.128150649 1.1548026 906.4534 ⋯ NA         NA        NA       \n",
       "21708 -0.005418091 1.3682419 954.5679 ⋯ NA         NA        NA       \n",
       "21709  0.129075612 1.9666051 952.1866 ⋯ NA         NA        NA       \n",
       "21710  0.110700024 1.0160656 946.6940 ⋯ NA         NA        NA       \n",
       "21711  0.075128787 1.3629539 948.6422 ⋯ NA         NA        NA       \n",
       "21712  0.043369205 1.7868957 958.0803 ⋯ NA         NA        NA       \n",
       "21713  0.016289705 1.3407377 956.2241 ⋯ NA         NA        NA       \n",
       "21714  0.331696059 3.1559050 928.9975 ⋯ NA         NA        NA       \n",
       "21715  0.063385787 1.9253572 948.2070 ⋯ NA         NA        NA       \n",
       "21716  0.023016148 2.3889124 956.9007 ⋯ NA         NA        NA       \n",
       "21717  0.167191841 0.9345523 949.1661 ⋯ NA         NA        NA       \n",
       "21718  0.130901716 0.9007216 948.3606 ⋯ NA         NA        NA       \n",
       "21719  0.115703210 3.0056868 965.2384 ⋯ NA         NA        NA       \n",
       "21720  0.052346915 2.4312266 960.6209 ⋯ NA         NA        NA       \n",
       "21721  0.080628546 1.4025629 950.1638 ⋯ NA         NA        NA       \n",
       "21722  0.057635073 1.5819001 949.1403 ⋯ NA         NA        NA       \n",
       "21723  0.067613842 3.4378131 954.1926 ⋯ NA         NA        NA       \n",
       "21724  0.011666925 2.4640036 958.5473 ⋯ NA         NA        NA       \n",
       "21725  0.051475465 1.8636783 951.2371 ⋯ NA         NA        NA       \n",
       "21726  0.147135970 0.8374458 948.4432 ⋯ NA         NA        NA       \n",
       "21727  0.006669498 1.2822661 955.6029 ⋯ NA         NA        NA       \n",
       "21728  1.059873094 3.0555966 849.0465 ⋯ NA         NA        NA       \n",
       "21729  0.020101581 2.0813710 951.6213 ⋯ NA         NA        NA       \n",
       "21730  0.228918417 2.1074142 938.0312 ⋯ NA         NA        NA       \n",
       "21731  0.056162165 3.0487715 962.2087 ⋯ NA         NA        NA       \n",
       "21732  0.245488122 1.3169438 932.7038 ⋯ NA         NA        NA       \n",
       "21733  0.057099405 2.6110787 956.5085 ⋯ NA         NA        NA       \n",
       "21734  0.280945419 2.4422730 933.8724 ⋯ NA         NA        NA       \n",
       "21735  0.082934650 1.5836603 952.3942 ⋯ NA         NA        NA       \n",
       "21736  0.193495530 0.5928780 944.9237 ⋯ NA         NA        NA       \n",
       "      area        densidad_hab_km tuits_gripe interes_gripe Target is_train\n",
       "1       2100118.9 15131.52443      60          24             0    TRUE    \n",
       "2       1164622.0 22498.28643      56          15             0    TRUE    \n",
       "3       1597474.5 17939.56640      72          24             0    TRUE    \n",
       "4       3816572.0  5893.24662     196          77           292    TRUE    \n",
       "5        870986.8 17738.50106      46          21             0    TRUE    \n",
       "6      15368327.1  3284.54748     382          42           524    TRUE    \n",
       "7       2813686.8 12136.39007      56          15             0    TRUE    \n",
       "8        916183.4 22138.58056     280          64           248    TRUE    \n",
       "9        459459.2 43017.96960      24          64           204    TRUE    \n",
       "10    225744024.2    91.30696     508          69           205    TRUE    \n",
       "11             NA          NA      NA          NA            NA    TRUE    \n",
       "12       320266.1 49299.63515     126          42             0    TRUE    \n",
       "13      3463767.7  9571.08065      94          40             0    TRUE    \n",
       "14     15354532.3  2485.52019     182          81           515    TRUE    \n",
       "15       623385.2 31091.52988      60          24             0    TRUE    \n",
       "16      1394676.1 22029.48792      79          15             0    TRUE    \n",
       "17       647263.5 39371.91141      78          27             0    TRUE    \n",
       "18      1452762.2 11210.36886     254         100           185    TRUE    \n",
       "19     10261640.8  4678.88138     144          20           409    TRUE    \n",
       "20       673171.0 31876.00392     182          81           291    TRUE    \n",
       "21     15590900.9  2800.80030      34          11             0    TRUE    \n",
       "22     62928443.1   556.98184     270          69           418    TRUE    \n",
       "23      7633175.5  3793.17888     182          81           333    TRUE    \n",
       "24     43812815.4   600.12121      34          10             0    TRUE    \n",
       "25      1871142.8 16836.23510     180         100           368    TRUE    \n",
       "26      1165705.1 15269.72763     160          70           215    TRUE    \n",
       "27      1364369.5 24969.77491     122          36             0    TRUE    \n",
       "28      7951396.5   837.84024      97          13             0    TRUE    \n",
       "29      8997541.1  1345.25642     204          70           151    TRUE    \n",
       "30      1753252.0 16485.36507     134          43             0    TRUE    \n",
       "⋮     ⋮           ⋮               ⋮           ⋮             ⋮      ⋮       \n",
       "21707       NA    NA              NA          NA            NA     FALSE   \n",
       "21708 17069020    NA              NA          NA            NA     FALSE   \n",
       "21709       NA    NA              NA          NA            NA     FALSE   \n",
       "21710       NA    NA              NA          NA            NA     FALSE   \n",
       "21711       NA    NA              NA          NA            NA     FALSE   \n",
       "21712       NA    NA              NA          NA            NA     FALSE   \n",
       "21713       NA    NA              NA          NA            NA     FALSE   \n",
       "21714       NA    NA              NA          NA            NA     FALSE   \n",
       "21715       NA    NA              NA          NA            NA     FALSE   \n",
       "21716       NA    NA              NA          NA            NA     FALSE   \n",
       "21717       NA    NA              NA          NA            NA     FALSE   \n",
       "21718       NA    NA              NA          NA            NA     FALSE   \n",
       "21719       NA    NA              NA          NA            NA     FALSE   \n",
       "21720       NA    NA              NA          NA            NA     FALSE   \n",
       "21721       NA    NA              NA          NA            NA     FALSE   \n",
       "21722       NA    NA              NA          NA            NA     FALSE   \n",
       "21723       NA    NA              NA          NA            NA     FALSE   \n",
       "21724       NA    NA              NA          NA            NA     FALSE   \n",
       "21725       NA    NA              NA          NA            NA     FALSE   \n",
       "21726       NA    NA              NA          NA            NA     FALSE   \n",
       "21727       NA    NA              NA          NA            NA     FALSE   \n",
       "21728       NA    NA              NA          NA            NA     FALSE   \n",
       "21729       NA    NA              NA          NA            NA     FALSE   \n",
       "21730       NA    NA              NA          NA            NA     FALSE   \n",
       "21731       NA    NA              NA          NA            NA     FALSE   \n",
       "21732       NA    NA              NA          NA            NA     FALSE   \n",
       "21733       NA    NA              NA          NA            NA     FALSE   \n",
       "21734       NA    NA              NA          NA            NA     FALSE   \n",
       "21735       NA    NA              NA          NA            NA     FALSE   \n",
       "21736       NA    NA              NA          NA            NA     FALSE   \n",
       "      x   \n",
       "1     TRUE\n",
       "2     TRUE\n",
       "3     TRUE\n",
       "4     TRUE\n",
       "5     TRUE\n",
       "6     TRUE\n",
       "7     TRUE\n",
       "8     TRUE\n",
       "9     TRUE\n",
       "10    TRUE\n",
       "11    TRUE\n",
       "12    TRUE\n",
       "13    TRUE\n",
       "14    TRUE\n",
       "15    TRUE\n",
       "16    TRUE\n",
       "17    TRUE\n",
       "18    TRUE\n",
       "19    TRUE\n",
       "20    TRUE\n",
       "21    TRUE\n",
       "22    TRUE\n",
       "23    TRUE\n",
       "24    TRUE\n",
       "25    TRUE\n",
       "26    TRUE\n",
       "27    TRUE\n",
       "28    TRUE\n",
       "29    TRUE\n",
       "30    TRUE\n",
       "⋮     ⋮   \n",
       "21707 TRUE\n",
       "21708 TRUE\n",
       "21709 TRUE\n",
       "21710 TRUE\n",
       "21711 TRUE\n",
       "21712 TRUE\n",
       "21713 TRUE\n",
       "21714 TRUE\n",
       "21715 TRUE\n",
       "21716 TRUE\n",
       "21717 TRUE\n",
       "21718 TRUE\n",
       "21719 TRUE\n",
       "21720 TRUE\n",
       "21721 TRUE\n",
       "21722 TRUE\n",
       "21723 TRUE\n",
       "21724 TRUE\n",
       "21725 TRUE\n",
       "21726 TRUE\n",
       "21727 TRUE\n",
       "21728 TRUE\n",
       "21729 TRUE\n",
       "21730 TRUE\n",
       "21731 TRUE\n",
       "21732 TRUE\n",
       "21733 TRUE\n",
       "21734 TRUE\n",
       "21735 TRUE\n",
       "21736 TRUE"
      ]
     },
     "metadata": {},
     "output_type": "display_data"
    }
   ],
   "source": [
    "data |>\n",
    "    mutate(x = TRUE)"
   ]
  },
  {
   "cell_type": "markdown",
   "metadata": {
    "slideshow": {
     "slide_type": "slide"
    }
   },
   "source": [
    "### Delete Column"
   ]
  },
  {
   "cell_type": "code",
   "execution_count": 14,
   "metadata": {},
   "outputs": [],
   "source": [
    "col <- \"DESBDT\""
   ]
  },
  {
   "cell_type": "code",
   "execution_count": 16,
   "metadata": {
    "ExecuteTime": {
     "end_time": "2020-06-30T14:33:43.649449Z",
     "start_time": "2020-06-30T14:33:43.611681Z"
    },
    "scrolled": true,
    "slideshow": {
     "slide_type": "subslide"
    },
    "vscode": {
     "languageId": "r"
    }
   },
   "outputs": [
    {
     "data": {
      "text/html": [
       "<table class=\"dataframe\">\n",
       "<caption>A tibble: 21736 × 1</caption>\n",
       "<thead>\n",
       "\t<tr><th scope=col>DESBDT</th></tr>\n",
       "\t<tr><th scope=col>&lt;chr&gt;</th></tr>\n",
       "</thead>\n",
       "<tbody>\n",
       "\t<tr><td>V Centenario          </td></tr>\n",
       "\t<tr><td>Valdeacederas         </td></tr>\n",
       "\t<tr><td>Canillejas            </td></tr>\n",
       "\t<tr><td>Barajas               </td></tr>\n",
       "\t<tr><td>Castelló              </td></tr>\n",
       "\t<tr><td>Mar Báltico           </td></tr>\n",
       "\t<tr><td>Daroca                </td></tr>\n",
       "\t<tr><td>Felipe II             </td></tr>\n",
       "\t<tr><td>Ramón y Cajal         </td></tr>\n",
       "\t<tr><td>Campo Real            </td></tr>\n",
       "\t<tr><td>NA                    </td></tr>\n",
       "\t<tr><td>Monforte de Lemos     </td></tr>\n",
       "\t<tr><td>La Plata              </td></tr>\n",
       "\t<tr><td>Las Rozas             </td></tr>\n",
       "\t<tr><td>Opañel                </td></tr>\n",
       "\t<tr><td>Canal de Panamá       </td></tr>\n",
       "\t<tr><td>Embajadores           </td></tr>\n",
       "\t<tr><td>Valdebernardo         </td></tr>\n",
       "\t<tr><td>Las Américas          </td></tr>\n",
       "\t<tr><td>Miraflores            </td></tr>\n",
       "\t<tr><td>Valdezarza            </td></tr>\n",
       "\t<tr><td>Arganda - Felicidad   </td></tr>\n",
       "\t<tr><td>San Blas              </td></tr>\n",
       "\t<tr><td>Paracuellos del Jarama</td></tr>\n",
       "\t<tr><td>Zofío                 </td></tr>\n",
       "\t<tr><td>Portazgo              </td></tr>\n",
       "\t<tr><td>La Ribota             </td></tr>\n",
       "\t<tr><td>Las Matas             </td></tr>\n",
       "\t<tr><td>La Marazuela          </td></tr>\n",
       "\t<tr><td>Potosí                </td></tr>\n",
       "\t<tr><td>⋮</td></tr>\n",
       "\t<tr><td>NA</td></tr>\n",
       "\t<tr><td>NA</td></tr>\n",
       "\t<tr><td>NA</td></tr>\n",
       "\t<tr><td>NA</td></tr>\n",
       "\t<tr><td>NA</td></tr>\n",
       "\t<tr><td>NA</td></tr>\n",
       "\t<tr><td>NA</td></tr>\n",
       "\t<tr><td>NA</td></tr>\n",
       "\t<tr><td>NA</td></tr>\n",
       "\t<tr><td>NA</td></tr>\n",
       "\t<tr><td>NA</td></tr>\n",
       "\t<tr><td>NA</td></tr>\n",
       "\t<tr><td>NA</td></tr>\n",
       "\t<tr><td>NA</td></tr>\n",
       "\t<tr><td>NA</td></tr>\n",
       "\t<tr><td>NA</td></tr>\n",
       "\t<tr><td>NA</td></tr>\n",
       "\t<tr><td>NA</td></tr>\n",
       "\t<tr><td>NA</td></tr>\n",
       "\t<tr><td>NA</td></tr>\n",
       "\t<tr><td>NA</td></tr>\n",
       "\t<tr><td>NA</td></tr>\n",
       "\t<tr><td>NA</td></tr>\n",
       "\t<tr><td>NA</td></tr>\n",
       "\t<tr><td>NA</td></tr>\n",
       "\t<tr><td>NA</td></tr>\n",
       "\t<tr><td>NA</td></tr>\n",
       "\t<tr><td>NA</td></tr>\n",
       "\t<tr><td>NA</td></tr>\n",
       "\t<tr><td>NA</td></tr>\n",
       "</tbody>\n",
       "</table>\n"
      ],
      "text/latex": [
       "A tibble: 21736 × 1\n",
       "\\begin{tabular}{l}\n",
       " DESBDT\\\\\n",
       " <chr>\\\\\n",
       "\\hline\n",
       "\t V Centenario          \\\\\n",
       "\t Valdeacederas         \\\\\n",
       "\t Canillejas            \\\\\n",
       "\t Barajas               \\\\\n",
       "\t Castelló              \\\\\n",
       "\t Mar Báltico           \\\\\n",
       "\t Daroca                \\\\\n",
       "\t Felipe II             \\\\\n",
       "\t Ramón y Cajal         \\\\\n",
       "\t Campo Real            \\\\\n",
       "\t NA                    \\\\\n",
       "\t Monforte de Lemos     \\\\\n",
       "\t La Plata              \\\\\n",
       "\t Las Rozas             \\\\\n",
       "\t Opañel                \\\\\n",
       "\t Canal de Panamá       \\\\\n",
       "\t Embajadores           \\\\\n",
       "\t Valdebernardo         \\\\\n",
       "\t Las Américas          \\\\\n",
       "\t Miraflores            \\\\\n",
       "\t Valdezarza            \\\\\n",
       "\t Arganda - Felicidad   \\\\\n",
       "\t San Blas              \\\\\n",
       "\t Paracuellos del Jarama\\\\\n",
       "\t Zofío                 \\\\\n",
       "\t Portazgo              \\\\\n",
       "\t La Ribota             \\\\\n",
       "\t Las Matas             \\\\\n",
       "\t La Marazuela          \\\\\n",
       "\t Potosí                \\\\\n",
       "\t ⋮\\\\\n",
       "\t NA\\\\\n",
       "\t NA\\\\\n",
       "\t NA\\\\\n",
       "\t NA\\\\\n",
       "\t NA\\\\\n",
       "\t NA\\\\\n",
       "\t NA\\\\\n",
       "\t NA\\\\\n",
       "\t NA\\\\\n",
       "\t NA\\\\\n",
       "\t NA\\\\\n",
       "\t NA\\\\\n",
       "\t NA\\\\\n",
       "\t NA\\\\\n",
       "\t NA\\\\\n",
       "\t NA\\\\\n",
       "\t NA\\\\\n",
       "\t NA\\\\\n",
       "\t NA\\\\\n",
       "\t NA\\\\\n",
       "\t NA\\\\\n",
       "\t NA\\\\\n",
       "\t NA\\\\\n",
       "\t NA\\\\\n",
       "\t NA\\\\\n",
       "\t NA\\\\\n",
       "\t NA\\\\\n",
       "\t NA\\\\\n",
       "\t NA\\\\\n",
       "\t NA\\\\\n",
       "\\end{tabular}\n"
      ],
      "text/markdown": [
       "\n",
       "A tibble: 21736 × 1\n",
       "\n",
       "| DESBDT &lt;chr&gt; |\n",
       "|---|\n",
       "| V Centenario           |\n",
       "| Valdeacederas          |\n",
       "| Canillejas             |\n",
       "| Barajas                |\n",
       "| Castelló               |\n",
       "| Mar Báltico            |\n",
       "| Daroca                 |\n",
       "| Felipe II              |\n",
       "| Ramón y Cajal          |\n",
       "| Campo Real             |\n",
       "| NA                     |\n",
       "| Monforte de Lemos      |\n",
       "| La Plata               |\n",
       "| Las Rozas              |\n",
       "| Opañel                 |\n",
       "| Canal de Panamá        |\n",
       "| Embajadores            |\n",
       "| Valdebernardo          |\n",
       "| Las Américas           |\n",
       "| Miraflores             |\n",
       "| Valdezarza             |\n",
       "| Arganda - Felicidad    |\n",
       "| San Blas               |\n",
       "| Paracuellos del Jarama |\n",
       "| Zofío                  |\n",
       "| Portazgo               |\n",
       "| La Ribota              |\n",
       "| Las Matas              |\n",
       "| La Marazuela           |\n",
       "| Potosí                 |\n",
       "| ⋮ |\n",
       "| NA |\n",
       "| NA |\n",
       "| NA |\n",
       "| NA |\n",
       "| NA |\n",
       "| NA |\n",
       "| NA |\n",
       "| NA |\n",
       "| NA |\n",
       "| NA |\n",
       "| NA |\n",
       "| NA |\n",
       "| NA |\n",
       "| NA |\n",
       "| NA |\n",
       "| NA |\n",
       "| NA |\n",
       "| NA |\n",
       "| NA |\n",
       "| NA |\n",
       "| NA |\n",
       "| NA |\n",
       "| NA |\n",
       "| NA |\n",
       "| NA |\n",
       "| NA |\n",
       "| NA |\n",
       "| NA |\n",
       "| NA |\n",
       "| NA |\n",
       "\n"
      ],
      "text/plain": [
       "      DESBDT                \n",
       "1     V Centenario          \n",
       "2     Valdeacederas         \n",
       "3     Canillejas            \n",
       "4     Barajas               \n",
       "5     Castelló              \n",
       "6     Mar Báltico           \n",
       "7     Daroca                \n",
       "8     Felipe II             \n",
       "9     Ramón y Cajal         \n",
       "10    Campo Real            \n",
       "11    NA                    \n",
       "12    Monforte de Lemos     \n",
       "13    La Plata              \n",
       "14    Las Rozas             \n",
       "15    Opañel                \n",
       "16    Canal de Panamá       \n",
       "17    Embajadores           \n",
       "18    Valdebernardo         \n",
       "19    Las Américas          \n",
       "20    Miraflores            \n",
       "21    Valdezarza            \n",
       "22    Arganda - Felicidad   \n",
       "23    San Blas              \n",
       "24    Paracuellos del Jarama\n",
       "25    Zofío                 \n",
       "26    Portazgo              \n",
       "27    La Ribota             \n",
       "28    Las Matas             \n",
       "29    La Marazuela          \n",
       "30    Potosí                \n",
       "⋮     ⋮                     \n",
       "21707 NA                    \n",
       "21708 NA                    \n",
       "21709 NA                    \n",
       "21710 NA                    \n",
       "21711 NA                    \n",
       "21712 NA                    \n",
       "21713 NA                    \n",
       "21714 NA                    \n",
       "21715 NA                    \n",
       "21716 NA                    \n",
       "21717 NA                    \n",
       "21718 NA                    \n",
       "21719 NA                    \n",
       "21720 NA                    \n",
       "21721 NA                    \n",
       "21722 NA                    \n",
       "21723 NA                    \n",
       "21724 NA                    \n",
       "21725 NA                    \n",
       "21726 NA                    \n",
       "21727 NA                    \n",
       "21728 NA                    \n",
       "21729 NA                    \n",
       "21730 NA                    \n",
       "21731 NA                    \n",
       "21732 NA                    \n",
       "21733 NA                    \n",
       "21734 NA                    \n",
       "21735 NA                    \n",
       "21736 NA                    "
      ]
     },
     "metadata": {},
     "output_type": "display_data"
    }
   ],
   "source": [
    "data %>% select(all_of(col))"
   ]
  },
  {
   "cell_type": "markdown",
   "metadata": {
    "slideshow": {
     "slide_type": "slide"
    }
   },
   "source": [
    "### Rank Data"
   ]
  },
  {
   "cell_type": "markdown",
   "metadata": {},
   "source": [
    "<font color='darkgrey'><b>Operation</font>"
   ]
  },
  {
   "cell_type": "code",
   "execution_count": 13,
   "metadata": {
    "ExecuteTime": {
     "end_time": "2020-09-18T14:08:51.549157Z",
     "start_time": "2020-09-18T14:08:51.517907Z"
    },
    "scrolled": true,
    "slideshow": {
     "slide_type": "subslide"
    },
    "vscode": {
     "languageId": "r"
    }
   },
   "outputs": [
    {
     "data": {
      "text/html": [
       "<table class=\"dataframe\">\n",
       "<caption>A tibble: 21736 × 50</caption>\n",
       "<thead>\n",
       "\t<tr><th scope=col>GEOCODIGO</th><th scope=col>DESBDT</th><th scope=col>ano</th><th scope=col>semana</th><th scope=col>n_vacunas</th><th scope=col>n_citas</th><th scope=col>tmed</th><th scope=col>prec</th><th scope=col>velmedia</th><th scope=col>presMax</th><th scope=col>⋯</th><th scope=col>t10_1</th><th scope=col>t11_1</th><th scope=col>t12_1</th><th scope=col>area</th><th scope=col>densidad_hab_km</th><th scope=col>tuits_gripe</th><th scope=col>interes_gripe</th><th scope=col>Target</th><th scope=col>is_train</th><th scope=col>rank</th></tr>\n",
       "\t<tr><th scope=col>&lt;chr&gt;</th><th scope=col>&lt;chr&gt;</th><th scope=col>&lt;dbl&gt;</th><th scope=col>&lt;dbl&gt;</th><th scope=col>&lt;dbl&gt;</th><th scope=col>&lt;dbl&gt;</th><th scope=col>&lt;dbl&gt;</th><th scope=col>&lt;dbl&gt;</th><th scope=col>&lt;dbl&gt;</th><th scope=col>&lt;dbl&gt;</th><th scope=col>⋯</th><th scope=col>&lt;dbl&gt;</th><th scope=col>&lt;dbl&gt;</th><th scope=col>&lt;dbl&gt;</th><th scope=col>&lt;dbl&gt;</th><th scope=col>&lt;dbl&gt;</th><th scope=col>&lt;dbl&gt;</th><th scope=col>&lt;dbl&gt;</th><th scope=col>&lt;dbl&gt;</th><th scope=col>&lt;lgl&gt;</th><th scope=col>&lt;int&gt;</th></tr>\n",
       "</thead>\n",
       "<tbody>\n",
       "\t<tr><td>259</td><td>V Centenario          </td><td>2022</td><td>34</td><td>  0</td><td>  0</td><td>27.278748</td><td> 0.169955881</td><td>2.297067</td><td>940.0420</td><td>⋯</td><td>0.09258503</td><td>0.6406787</td><td>0.7028586</td><td>  2100118.9</td><td>15131.52443</td><td> 60</td><td> 24</td><td>  0</td><td>TRUE</td><td> 1</td></tr>\n",
       "\t<tr><td>260</td><td>Valdeacederas         </td><td>2022</td><td> 8</td><td>  0</td><td>  0</td><td> 9.577289</td><td> 1.264910043</td><td>1.890425</td><td>944.1770</td><td>⋯</td><td>0.13151901</td><td>0.5451465</td><td>0.6277335</td><td>  1164622.0</td><td>22498.28643</td><td> 56</td><td> 15</td><td>  0</td><td>TRUE</td><td> 2</td></tr>\n",
       "\t<tr><td>041</td><td>Canillejas            </td><td>2022</td><td> 9</td><td>  0</td><td>  0</td><td> 8.536554</td><td> 3.122881160</td><td>2.418071</td><td>949.7179</td><td>⋯</td><td>0.13926119</td><td>0.4600730</td><td>0.5346482</td><td>  1597474.5</td><td>17939.56640</td><td> 72</td><td> 24</td><td>  0</td><td>TRUE</td><td> 3</td></tr>\n",
       "\t<tr><td>025</td><td>Barajas               </td><td>2022</td><td>49</td><td>292</td><td>280</td><td> 9.065363</td><td> 7.313886680</td><td>1.562328</td><td>941.8342</td><td>⋯</td><td>0.10460043</td><td>0.5920292</td><td>0.6590530</td><td>  3816572.0</td><td> 5893.24662</td><td>196</td><td> 77</td><td>292</td><td>TRUE</td><td> 5</td></tr>\n",
       "\t<tr><td>046</td><td>Castelló              </td><td>2022</td><td>24</td><td>  0</td><td>  0</td><td>29.905728</td><td> 0.013668517</td><td>2.564749</td><td>940.5669</td><td>⋯</td><td>0.06114283</td><td>0.4717699</td><td>0.5025317</td><td>   870986.8</td><td>17738.50106</td><td> 46</td><td> 21</td><td>  0</td><td>TRUE</td><td> 7</td></tr>\n",
       "\t<tr><td>159</td><td>Mar Báltico           </td><td>2022</td><td> 3</td><td>524</td><td>498</td><td> 4.717205</td><td> 0.000000000</td><td>1.494957</td><td>953.5196</td><td>⋯</td><td>0.13207313</td><td>0.4690937</td><td>0.5405803</td><td> 15368327.1</td><td> 3284.54748</td><td>382</td><td> 42</td><td>524</td><td>TRUE</td><td>12</td></tr>\n",
       "\t<tr><td>065</td><td>Daroca                </td><td>2022</td><td> 8</td><td>  0</td><td>  0</td><td>10.233853</td><td> 1.145128991</td><td>2.067554</td><td>948.1804</td><td>⋯</td><td>0.13304421</td><td>0.4726520</td><td>0.5453497</td><td>  2813686.8</td><td>12136.39007</td><td> 56</td><td> 15</td><td>  0</td><td>TRUE</td><td>13</td></tr>\n",
       "\t<tr><td>092</td><td>Felipe II             </td><td>2021</td><td>47</td><td>248</td><td>228</td><td> 6.078661</td><td> 1.071980598</td><td>2.700305</td><td>938.7558</td><td>⋯</td><td>0.14516249</td><td>0.4759882</td><td>0.5564819</td><td>   916183.4</td><td>22138.58056</td><td>280</td><td> 64</td><td>248</td><td>TRUE</td><td>15</td></tr>\n",
       "\t<tr><td>221</td><td>Ramón y Cajal         </td><td>2023</td><td> 1</td><td>204</td><td>198</td><td> 8.145987</td><td> 1.089500548</td><td>2.556688</td><td>950.0602</td><td>⋯</td><td>0.14429658</td><td>0.3978026</td><td>0.4660208</td><td>   459459.2</td><td>43017.96960</td><td> 24</td><td> 64</td><td>204</td><td>TRUE</td><td>16</td></tr>\n",
       "\t<tr><td>038</td><td>Campo Real            </td><td>2022</td><td> 2</td><td>205</td><td>187</td><td> 4.245075</td><td> 0.079651638</td><td>2.094226</td><td>994.1550</td><td>⋯</td><td>0.15408513</td><td>0.5310793</td><td>0.6272654</td><td>225744024.2</td><td>   91.30696</td><td>508</td><td> 69</td><td>205</td><td>TRUE</td><td>17</td></tr>\n",
       "\t<tr><td>041</td><td>NA                    </td><td>2023</td><td>52</td><td> NA</td><td> NA</td><td>10.700753</td><td> 0.113597507</td><td>1.425011</td><td>954.5998</td><td>⋯</td><td>        NA</td><td>       NA</td><td>       NA</td><td>         NA</td><td>         NA</td><td> NA</td><td> NA</td><td> NA</td><td>TRUE</td><td>21</td></tr>\n",
       "\t<tr><td>174</td><td>Monforte de Lemos     </td><td>2022</td><td>39</td><td>  0</td><td>  0</td><td>16.474803</td><td> 0.840109889</td><td>2.205335</td><td>938.5389</td><td>⋯</td><td>0.11991115</td><td>0.4965663</td><td>0.5642990</td><td>   320266.1</td><td>49299.63515</td><td>126</td><td> 42</td><td>  0</td><td>TRUE</td><td>24</td></tr>\n",
       "\t<tr><td>126</td><td>La Plata              </td><td>2022</td><td>16</td><td>  0</td><td>  0</td><td>10.784243</td><td> 3.840456676</td><td>4.668837</td><td>941.8737</td><td>⋯</td><td>0.12101854</td><td>0.6555124</td><td>0.7415345</td><td>  3463767.7</td><td> 9571.08065</td><td> 94</td><td> 40</td><td>  0</td><td>TRUE</td><td>27</td></tr>\n",
       "\t<tr><td>139</td><td>Las Rozas             </td><td>2022</td><td>50</td><td>515</td><td>510</td><td> 8.842833</td><td> 8.831183413</td><td>3.270584</td><td>915.2308</td><td>⋯</td><td>0.07948112</td><td>0.5871316</td><td>0.6370746</td><td> 15354532.3</td><td> 2485.52019</td><td>182</td><td> 81</td><td>515</td><td>TRUE</td><td>28</td></tr>\n",
       "\t<tr><td>188</td><td>Opañel                </td><td>2022</td><td>34</td><td>  0</td><td>  0</td><td>28.005122</td><td> 0.152008212</td><td>2.306659</td><td>938.3107</td><td>⋯</td><td>0.14839521</td><td>0.4668539</td><td>0.5481580</td><td>   623385.2</td><td>31091.52988</td><td> 60</td><td> 24</td><td>  0</td><td>TRUE</td><td>30</td></tr>\n",
       "\t<tr><td>040</td><td>Canal de Panamá       </td><td>2021</td><td>37</td><td>  0</td><td>  0</td><td>19.878869</td><td> 4.144780238</td><td>2.575349</td><td>943.0739</td><td>⋯</td><td>0.12070471</td><td>0.4696157</td><td>0.5343907</td><td>  1394676.1</td><td>22029.48792</td><td> 79</td><td> 15</td><td>  0</td><td>TRUE</td><td>31</td></tr>\n",
       "\t<tr><td>084</td><td>Embajadores           </td><td>2022</td><td>11</td><td>  0</td><td>  0</td><td>10.896991</td><td> 1.783350985</td><td>3.705408</td><td>945.3577</td><td>⋯</td><td>0.10910315</td><td>0.5304332</td><td>0.5954684</td><td>   647263.5</td><td>39371.91141</td><td> 78</td><td> 27</td><td>  0</td><td>TRUE</td><td>32</td></tr>\n",
       "\t<tr><td>261</td><td>Valdebernardo         </td><td>2021</td><td>42</td><td>185</td><td>183</td><td>15.813806</td><td> 0.000000000</td><td>2.116845</td><td>951.1437</td><td>⋯</td><td>0.15339911</td><td>0.5117686</td><td>0.6048410</td><td>  1452762.2</td><td>11210.36886</td><td>254</td><td>100</td><td>185</td><td>TRUE</td><td>33</td></tr>\n",
       "\t<tr><td>132</td><td>Las Américas          </td><td>2022</td><td> 5</td><td>409</td><td>397</td><td> 9.641141</td><td> 0.000000000</td><td>1.953802</td><td>962.9932</td><td>⋯</td><td>0.14121552</td><td>0.6162060</td><td>0.7155478</td><td> 10261640.8</td><td> 4678.88138</td><td>144</td><td> 20</td><td>409</td><td>TRUE</td><td>38</td></tr>\n",
       "\t<tr><td>172</td><td>Miraflores            </td><td>2022</td><td>50</td><td>291</td><td>265</td><td>10.074072</td><td>10.994886653</td><td>3.087636</td><td>935.0695</td><td>⋯</td><td>0.13376605</td><td>0.4788441</td><td>0.5522430</td><td>   673171.0</td><td>31876.00392</td><td>182</td><td> 81</td><td>291</td><td>TRUE</td><td>41</td></tr>\n",
       "\t<tr><td>266</td><td>Valdezarza            </td><td>2022</td><td>33</td><td>  0</td><td>  0</td><td>24.314646</td><td> 0.086326357</td><td>2.123322</td><td>935.3358</td><td>⋯</td><td>0.10282242</td><td>0.4712815</td><td>0.5253661</td><td> 15590900.9</td><td> 2800.80030</td><td> 34</td><td> 11</td><td>  0</td><td>TRUE</td><td>42</td></tr>\n",
       "\t<tr><td>022</td><td>Arganda - Felicidad   </td><td>2022</td><td>43</td><td>418</td><td>393</td><td>18.313136</td><td> 0.004713176</td><td>2.617470</td><td>959.8764</td><td>⋯</td><td>0.14831801</td><td>0.5751955</td><td>0.6725509</td><td> 62928443.1</td><td>  556.98184</td><td>270</td><td> 69</td><td>418</td><td>TRUE</td><td>43</td></tr>\n",
       "\t<tr><td>233</td><td>San Blas              </td><td>2022</td><td>50</td><td>333</td><td>326</td><td>10.574115</td><td> 9.682059178</td><td>2.733725</td><td>947.5894</td><td>⋯</td><td>0.19425533</td><td>0.4605699</td><td>0.5694285</td><td>  7633175.5</td><td> 3793.17888</td><td>182</td><td> 81</td><td>333</td><td>TRUE</td><td>44</td></tr>\n",
       "\t<tr><td>195</td><td>Paracuellos del Jarama</td><td>2022</td><td>32</td><td>  0</td><td>  0</td><td>28.061744</td><td> 0.003560555</td><td>3.695964</td><td>947.2270</td><td>⋯</td><td>0.08264704</td><td>0.6529238</td><td>0.7102701</td><td> 43812815.4</td><td>  600.12121</td><td> 34</td><td> 10</td><td>  0</td><td>TRUE</td><td>45</td></tr>\n",
       "\t<tr><td>286</td><td>Zofío                 </td><td>2022</td><td>42</td><td>368</td><td>357</td><td>18.393992</td><td> 2.394857359</td><td>3.107041</td><td>942.6759</td><td>⋯</td><td>0.17766065</td><td>0.4448489</td><td>0.5405693</td><td>  1871142.8</td><td>16836.23510</td><td>180</td><td>100</td><td>368</td><td>TRUE</td><td>46</td></tr>\n",
       "\t<tr><td>209</td><td>Portazgo              </td><td>2021</td><td>45</td><td>215</td><td>213</td><td>10.457078</td><td>-0.001431931</td><td>1.568141</td><td>944.8039</td><td>⋯</td><td>0.17912995</td><td>0.4312525</td><td>0.5261093</td><td>  1165705.1</td><td>15269.72763</td><td>160</td><td> 70</td><td>215</td><td>TRUE</td><td>47</td></tr>\n",
       "\t<tr><td>128</td><td>La Ribota             </td><td>2022</td><td>18</td><td>  0</td><td>  0</td><td>16.293292</td><td> 1.755478391</td><td>2.641612</td><td>942.6558</td><td>⋯</td><td>0.11272335</td><td>0.6094153</td><td>0.6814646</td><td>  1364369.5</td><td>24969.77491</td><td>122</td><td> 36</td><td>  0</td><td>TRUE</td><td>49</td></tr>\n",
       "\t<tr><td>137</td><td>Las Matas             </td><td>2021</td><td>36</td><td>  0</td><td>  0</td><td>21.968429</td><td> 0.061186034</td><td>3.079440</td><td>913.7501</td><td>⋯</td><td>0.08716812</td><td>0.4943178</td><td>0.5414490</td><td>  7951396.5</td><td>  837.84024</td><td> 97</td><td> 13</td><td>  0</td><td>TRUE</td><td>52</td></tr>\n",
       "\t<tr><td>124</td><td>La Marazuela          </td><td>2022</td><td>52</td><td>151</td><td>149</td><td> 8.411680</td><td> 0.177250054</td><td>1.998273</td><td>      NA</td><td>⋯</td><td>0.08368767</td><td>0.5459855</td><td>0.5957059</td><td>  8997541.1</td><td> 1345.25642</td><td>204</td><td> 70</td><td>151</td><td>TRUE</td><td>53</td></tr>\n",
       "\t<tr><td>210</td><td>Potosí                </td><td>2022</td><td>12</td><td>  0</td><td>  0</td><td>10.009513</td><td> 6.265043165</td><td>3.503190</td><td>941.7438</td><td>⋯</td><td>0.07197837</td><td>0.5120776</td><td>0.5518168</td><td>  1753252.0</td><td>16485.36507</td><td>134</td><td> 43</td><td>  0</td><td>TRUE</td><td>57</td></tr>\n",
       "\t<tr><td>⋮</td><td>⋮</td><td>⋮</td><td>⋮</td><td>⋮</td><td>⋮</td><td>⋮</td><td>⋮</td><td>⋮</td><td>⋮</td><td>⋱</td><td>⋮</td><td>⋮</td><td>⋮</td><td>⋮</td><td>⋮</td><td>⋮</td><td>⋮</td><td>⋮</td><td>⋮</td><td>⋮</td></tr>\n",
       "\t<tr><td>121</td><td>NA</td><td>2023</td><td>52</td><td>NA</td><td>NA</td><td> 7.306716</td><td> 0.128150649</td><td>1.1548026</td><td>906.4534</td><td>⋯</td><td>NA</td><td>NA</td><td>NA</td><td>      NA</td><td>NA</td><td>NA</td><td>NA</td><td>NA</td><td>FALSE</td><td>21707</td></tr>\n",
       "\t<tr><td>123</td><td>NA</td><td>2023</td><td>52</td><td>NA</td><td>NA</td><td>10.211300</td><td>-0.005418091</td><td>1.3682419</td><td>954.5679</td><td>⋯</td><td>NA</td><td>NA</td><td>NA</td><td>17069020</td><td>NA</td><td>NA</td><td>NA</td><td>NA</td><td>FALSE</td><td>21708</td></tr>\n",
       "\t<tr><td>125</td><td>NA</td><td>2023</td><td>52</td><td>NA</td><td>NA</td><td>10.545031</td><td> 0.129075612</td><td>1.9666051</td><td>952.1866</td><td>⋯</td><td>NA</td><td>NA</td><td>NA</td><td>      NA</td><td>NA</td><td>NA</td><td>NA</td><td>NA</td><td>FALSE</td><td>21709</td></tr>\n",
       "\t<tr><td>141</td><td>NA</td><td>2023</td><td>52</td><td>NA</td><td>NA</td><td>11.357062</td><td> 0.110700024</td><td>1.0160656</td><td>946.6940</td><td>⋯</td><td>NA</td><td>NA</td><td>NA</td><td>      NA</td><td>NA</td><td>NA</td><td>NA</td><td>NA</td><td>FALSE</td><td>21710</td></tr>\n",
       "\t<tr><td>143</td><td>NA</td><td>2023</td><td>52</td><td>NA</td><td>NA</td><td>11.203006</td><td> 0.075128787</td><td>1.3629539</td><td>948.6422</td><td>⋯</td><td>NA</td><td>NA</td><td>NA</td><td>      NA</td><td>NA</td><td>NA</td><td>NA</td><td>NA</td><td>FALSE</td><td>21711</td></tr>\n",
       "\t<tr><td>145</td><td>NA</td><td>2023</td><td>52</td><td>NA</td><td>NA</td><td>10.166632</td><td> 0.043369205</td><td>1.7868957</td><td>958.0803</td><td>⋯</td><td>NA</td><td>NA</td><td>NA</td><td>      NA</td><td>NA</td><td>NA</td><td>NA</td><td>NA</td><td>FALSE</td><td>21712</td></tr>\n",
       "\t<tr><td>154</td><td>NA</td><td>2023</td><td>52</td><td>NA</td><td>NA</td><td>10.225257</td><td> 0.016289705</td><td>1.3407377</td><td>956.2241</td><td>⋯</td><td>NA</td><td>NA</td><td>NA</td><td>      NA</td><td>NA</td><td>NA</td><td>NA</td><td>NA</td><td>FALSE</td><td>21713</td></tr>\n",
       "\t<tr><td>155</td><td>NA</td><td>2023</td><td>52</td><td>NA</td><td>NA</td><td>11.044462</td><td> 0.331696059</td><td>3.1559050</td><td>928.9975</td><td>⋯</td><td>NA</td><td>NA</td><td>NA</td><td>      NA</td><td>NA</td><td>NA</td><td>NA</td><td>NA</td><td>FALSE</td><td>21714</td></tr>\n",
       "\t<tr><td>163</td><td>NA</td><td>2023</td><td>52</td><td>NA</td><td>NA</td><td>11.014089</td><td> 0.063385787</td><td>1.9253572</td><td>948.2070</td><td>⋯</td><td>NA</td><td>NA</td><td>NA</td><td>      NA</td><td>NA</td><td>NA</td><td>NA</td><td>NA</td><td>FALSE</td><td>21715</td></tr>\n",
       "\t<tr><td>166</td><td>NA</td><td>2023</td><td>52</td><td>NA</td><td>NA</td><td>10.142910</td><td> 0.023016148</td><td>2.3889124</td><td>956.9007</td><td>⋯</td><td>NA</td><td>NA</td><td>NA</td><td>      NA</td><td>NA</td><td>NA</td><td>NA</td><td>NA</td><td>FALSE</td><td>21716</td></tr>\n",
       "\t<tr><td>175</td><td>NA</td><td>2023</td><td>52</td><td>NA</td><td>NA</td><td>11.012679</td><td> 0.167191841</td><td>0.9345523</td><td>949.1661</td><td>⋯</td><td>NA</td><td>NA</td><td>NA</td><td>      NA</td><td>NA</td><td>NA</td><td>NA</td><td>NA</td><td>FALSE</td><td>21717</td></tr>\n",
       "\t<tr><td>178</td><td>NA</td><td>2023</td><td>52</td><td>NA</td><td>NA</td><td>11.259098</td><td> 0.130901716</td><td>0.9007216</td><td>948.3606</td><td>⋯</td><td>NA</td><td>NA</td><td>NA</td><td>      NA</td><td>NA</td><td>NA</td><td>NA</td><td>NA</td><td>FALSE</td><td>21718</td></tr>\n",
       "\t<tr><td>180</td><td>NA</td><td>2023</td><td>52</td><td>NA</td><td>NA</td><td>10.654319</td><td> 0.115703210</td><td>3.0056868</td><td>965.2384</td><td>⋯</td><td>NA</td><td>NA</td><td>NA</td><td>      NA</td><td>NA</td><td>NA</td><td>NA</td><td>NA</td><td>FALSE</td><td>21719</td></tr>\n",
       "\t<tr><td>183</td><td>NA</td><td>2023</td><td>52</td><td>NA</td><td>NA</td><td>11.527141</td><td> 0.052346915</td><td>2.4312266</td><td>960.6209</td><td>⋯</td><td>NA</td><td>NA</td><td>NA</td><td>      NA</td><td>NA</td><td>NA</td><td>NA</td><td>NA</td><td>FALSE</td><td>21720</td></tr>\n",
       "\t<tr><td>186</td><td>NA</td><td>2023</td><td>52</td><td>NA</td><td>NA</td><td>11.146386</td><td> 0.080628546</td><td>1.4025629</td><td>950.1638</td><td>⋯</td><td>NA</td><td>NA</td><td>NA</td><td>      NA</td><td>NA</td><td>NA</td><td>NA</td><td>NA</td><td>FALSE</td><td>21721</td></tr>\n",
       "\t<tr><td>190</td><td>NA</td><td>2023</td><td>52</td><td>NA</td><td>NA</td><td>11.068404</td><td> 0.057635073</td><td>1.5819001</td><td>949.1403</td><td>⋯</td><td>NA</td><td>NA</td><td>NA</td><td>      NA</td><td>NA</td><td>NA</td><td>NA</td><td>NA</td><td>FALSE</td><td>21722</td></tr>\n",
       "\t<tr><td>196</td><td>NA</td><td>2023</td><td>52</td><td>NA</td><td>NA</td><td>11.219301</td><td> 0.067613842</td><td>3.4378131</td><td>954.1926</td><td>⋯</td><td>NA</td><td>NA</td><td>NA</td><td>      NA</td><td>NA</td><td>NA</td><td>NA</td><td>NA</td><td>FALSE</td><td>21723</td></tr>\n",
       "\t<tr><td>197</td><td>NA</td><td>2023</td><td>52</td><td>NA</td><td>NA</td><td>10.361258</td><td> 0.011666925</td><td>2.4640036</td><td>958.5473</td><td>⋯</td><td>NA</td><td>NA</td><td>NA</td><td>      NA</td><td>NA</td><td>NA</td><td>NA</td><td>NA</td><td>FALSE</td><td>21724</td></tr>\n",
       "\t<tr><td>211</td><td>NA</td><td>2023</td><td>52</td><td>NA</td><td>NA</td><td>10.965211</td><td> 0.051475465</td><td>1.8636783</td><td>951.2371</td><td>⋯</td><td>NA</td><td>NA</td><td>NA</td><td>      NA</td><td>NA</td><td>NA</td><td>NA</td><td>NA</td><td>FALSE</td><td>21725</td></tr>\n",
       "\t<tr><td>215</td><td>NA</td><td>2023</td><td>52</td><td>NA</td><td>NA</td><td>11.205836</td><td> 0.147135970</td><td>0.8374458</td><td>948.4432</td><td>⋯</td><td>NA</td><td>NA</td><td>NA</td><td>      NA</td><td>NA</td><td>NA</td><td>NA</td><td>NA</td><td>FALSE</td><td>21726</td></tr>\n",
       "\t<tr><td>217</td><td>NA</td><td>2023</td><td>52</td><td>NA</td><td>NA</td><td>10.212181</td><td> 0.006669498</td><td>1.2822661</td><td>955.6029</td><td>⋯</td><td>NA</td><td>NA</td><td>NA</td><td>      NA</td><td>NA</td><td>NA</td><td>NA</td><td>NA</td><td>FALSE</td><td>21727</td></tr>\n",
       "\t<tr><td>222</td><td>NA</td><td>2023</td><td>52</td><td>NA</td><td>NA</td><td> 5.354266</td><td> 1.059873094</td><td>3.0555966</td><td>849.0465</td><td>⋯</td><td>NA</td><td>NA</td><td>NA</td><td>      NA</td><td>NA</td><td>NA</td><td>NA</td><td>NA</td><td>FALSE</td><td>21728</td></tr>\n",
       "\t<tr><td>234</td><td>NA</td><td>2023</td><td>52</td><td>NA</td><td>NA</td><td>10.678634</td><td> 0.020101581</td><td>2.0813710</td><td>951.6213</td><td>⋯</td><td>NA</td><td>NA</td><td>NA</td><td>      NA</td><td>NA</td><td>NA</td><td>NA</td><td>NA</td><td>FALSE</td><td>21729</td></tr>\n",
       "\t<tr><td>239</td><td>NA</td><td>2023</td><td>52</td><td>NA</td><td>NA</td><td>11.332115</td><td> 0.228918417</td><td>2.1074142</td><td>938.0312</td><td>⋯</td><td>NA</td><td>NA</td><td>NA</td><td>      NA</td><td>NA</td><td>NA</td><td>NA</td><td>NA</td><td>FALSE</td><td>21730</td></tr>\n",
       "\t<tr><td>242</td><td>NA</td><td>2023</td><td>52</td><td>NA</td><td>NA</td><td>10.518028</td><td> 0.056162165</td><td>3.0487715</td><td>962.2087</td><td>⋯</td><td>NA</td><td>NA</td><td>NA</td><td>      NA</td><td>NA</td><td>NA</td><td>NA</td><td>NA</td><td>FALSE</td><td>21731</td></tr>\n",
       "\t<tr><td>247</td><td>NA</td><td>2023</td><td>52</td><td>NA</td><td>NA</td><td>10.714625</td><td> 0.245488122</td><td>1.3169438</td><td>932.7038</td><td>⋯</td><td>NA</td><td>NA</td><td>NA</td><td>      NA</td><td>NA</td><td>NA</td><td>NA</td><td>NA</td><td>FALSE</td><td>21732</td></tr>\n",
       "\t<tr><td>265</td><td>NA</td><td>2023</td><td>52</td><td>NA</td><td>NA</td><td>10.553600</td><td> 0.057099405</td><td>2.6110787</td><td>956.5085</td><td>⋯</td><td>NA</td><td>NA</td><td>NA</td><td>      NA</td><td>NA</td><td>NA</td><td>NA</td><td>NA</td><td>FALSE</td><td>21733</td></tr>\n",
       "\t<tr><td>268</td><td>NA</td><td>2023</td><td>52</td><td>NA</td><td>NA</td><td>11.230386</td><td> 0.280945419</td><td>2.4422730</td><td>933.8724</td><td>⋯</td><td>NA</td><td>NA</td><td>NA</td><td>      NA</td><td>NA</td><td>NA</td><td>NA</td><td>NA</td><td>FALSE</td><td>21734</td></tr>\n",
       "\t<tr><td>270</td><td>NA</td><td>2023</td><td>52</td><td>NA</td><td>NA</td><td>10.958116</td><td> 0.082934650</td><td>1.5836603</td><td>952.3942</td><td>⋯</td><td>NA</td><td>NA</td><td>NA</td><td>      NA</td><td>NA</td><td>NA</td><td>NA</td><td>NA</td><td>FALSE</td><td>21735</td></tr>\n",
       "\t<tr><td>276</td><td>NA</td><td>2023</td><td>52</td><td>NA</td><td>NA</td><td>11.317297</td><td> 0.193495530</td><td>0.5928780</td><td>944.9237</td><td>⋯</td><td>NA</td><td>NA</td><td>NA</td><td>      NA</td><td>NA</td><td>NA</td><td>NA</td><td>NA</td><td>FALSE</td><td>21736</td></tr>\n",
       "</tbody>\n",
       "</table>\n"
      ],
      "text/latex": [
       "A tibble: 21736 × 50\n",
       "\\begin{tabular}{lllllllllllllllllllll}\n",
       " GEOCODIGO & DESBDT & ano & semana & n\\_vacunas & n\\_citas & tmed & prec & velmedia & presMax & ⋯ & t10\\_1 & t11\\_1 & t12\\_1 & area & densidad\\_hab\\_km & tuits\\_gripe & interes\\_gripe & Target & is\\_train & rank\\\\\n",
       " <chr> & <chr> & <dbl> & <dbl> & <dbl> & <dbl> & <dbl> & <dbl> & <dbl> & <dbl> & ⋯ & <dbl> & <dbl> & <dbl> & <dbl> & <dbl> & <dbl> & <dbl> & <dbl> & <lgl> & <int>\\\\\n",
       "\\hline\n",
       "\t 259 & V Centenario           & 2022 & 34 &   0 &   0 & 27.278748 &  0.169955881 & 2.297067 & 940.0420 & ⋯ & 0.09258503 & 0.6406787 & 0.7028586 &   2100118.9 & 15131.52443 &  60 &  24 &   0 & TRUE &  1\\\\\n",
       "\t 260 & Valdeacederas          & 2022 &  8 &   0 &   0 &  9.577289 &  1.264910043 & 1.890425 & 944.1770 & ⋯ & 0.13151901 & 0.5451465 & 0.6277335 &   1164622.0 & 22498.28643 &  56 &  15 &   0 & TRUE &  2\\\\\n",
       "\t 041 & Canillejas             & 2022 &  9 &   0 &   0 &  8.536554 &  3.122881160 & 2.418071 & 949.7179 & ⋯ & 0.13926119 & 0.4600730 & 0.5346482 &   1597474.5 & 17939.56640 &  72 &  24 &   0 & TRUE &  3\\\\\n",
       "\t 025 & Barajas                & 2022 & 49 & 292 & 280 &  9.065363 &  7.313886680 & 1.562328 & 941.8342 & ⋯ & 0.10460043 & 0.5920292 & 0.6590530 &   3816572.0 &  5893.24662 & 196 &  77 & 292 & TRUE &  5\\\\\n",
       "\t 046 & Castelló               & 2022 & 24 &   0 &   0 & 29.905728 &  0.013668517 & 2.564749 & 940.5669 & ⋯ & 0.06114283 & 0.4717699 & 0.5025317 &    870986.8 & 17738.50106 &  46 &  21 &   0 & TRUE &  7\\\\\n",
       "\t 159 & Mar Báltico            & 2022 &  3 & 524 & 498 &  4.717205 &  0.000000000 & 1.494957 & 953.5196 & ⋯ & 0.13207313 & 0.4690937 & 0.5405803 &  15368327.1 &  3284.54748 & 382 &  42 & 524 & TRUE & 12\\\\\n",
       "\t 065 & Daroca                 & 2022 &  8 &   0 &   0 & 10.233853 &  1.145128991 & 2.067554 & 948.1804 & ⋯ & 0.13304421 & 0.4726520 & 0.5453497 &   2813686.8 & 12136.39007 &  56 &  15 &   0 & TRUE & 13\\\\\n",
       "\t 092 & Felipe II              & 2021 & 47 & 248 & 228 &  6.078661 &  1.071980598 & 2.700305 & 938.7558 & ⋯ & 0.14516249 & 0.4759882 & 0.5564819 &    916183.4 & 22138.58056 & 280 &  64 & 248 & TRUE & 15\\\\\n",
       "\t 221 & Ramón y Cajal          & 2023 &  1 & 204 & 198 &  8.145987 &  1.089500548 & 2.556688 & 950.0602 & ⋯ & 0.14429658 & 0.3978026 & 0.4660208 &    459459.2 & 43017.96960 &  24 &  64 & 204 & TRUE & 16\\\\\n",
       "\t 038 & Campo Real             & 2022 &  2 & 205 & 187 &  4.245075 &  0.079651638 & 2.094226 & 994.1550 & ⋯ & 0.15408513 & 0.5310793 & 0.6272654 & 225744024.2 &    91.30696 & 508 &  69 & 205 & TRUE & 17\\\\\n",
       "\t 041 & NA                     & 2023 & 52 &  NA &  NA & 10.700753 &  0.113597507 & 1.425011 & 954.5998 & ⋯ &         NA &        NA &        NA &          NA &          NA &  NA &  NA &  NA & TRUE & 21\\\\\n",
       "\t 174 & Monforte de Lemos      & 2022 & 39 &   0 &   0 & 16.474803 &  0.840109889 & 2.205335 & 938.5389 & ⋯ & 0.11991115 & 0.4965663 & 0.5642990 &    320266.1 & 49299.63515 & 126 &  42 &   0 & TRUE & 24\\\\\n",
       "\t 126 & La Plata               & 2022 & 16 &   0 &   0 & 10.784243 &  3.840456676 & 4.668837 & 941.8737 & ⋯ & 0.12101854 & 0.6555124 & 0.7415345 &   3463767.7 &  9571.08065 &  94 &  40 &   0 & TRUE & 27\\\\\n",
       "\t 139 & Las Rozas              & 2022 & 50 & 515 & 510 &  8.842833 &  8.831183413 & 3.270584 & 915.2308 & ⋯ & 0.07948112 & 0.5871316 & 0.6370746 &  15354532.3 &  2485.52019 & 182 &  81 & 515 & TRUE & 28\\\\\n",
       "\t 188 & Opañel                 & 2022 & 34 &   0 &   0 & 28.005122 &  0.152008212 & 2.306659 & 938.3107 & ⋯ & 0.14839521 & 0.4668539 & 0.5481580 &    623385.2 & 31091.52988 &  60 &  24 &   0 & TRUE & 30\\\\\n",
       "\t 040 & Canal de Panamá        & 2021 & 37 &   0 &   0 & 19.878869 &  4.144780238 & 2.575349 & 943.0739 & ⋯ & 0.12070471 & 0.4696157 & 0.5343907 &   1394676.1 & 22029.48792 &  79 &  15 &   0 & TRUE & 31\\\\\n",
       "\t 084 & Embajadores            & 2022 & 11 &   0 &   0 & 10.896991 &  1.783350985 & 3.705408 & 945.3577 & ⋯ & 0.10910315 & 0.5304332 & 0.5954684 &    647263.5 & 39371.91141 &  78 &  27 &   0 & TRUE & 32\\\\\n",
       "\t 261 & Valdebernardo          & 2021 & 42 & 185 & 183 & 15.813806 &  0.000000000 & 2.116845 & 951.1437 & ⋯ & 0.15339911 & 0.5117686 & 0.6048410 &   1452762.2 & 11210.36886 & 254 & 100 & 185 & TRUE & 33\\\\\n",
       "\t 132 & Las Américas           & 2022 &  5 & 409 & 397 &  9.641141 &  0.000000000 & 1.953802 & 962.9932 & ⋯ & 0.14121552 & 0.6162060 & 0.7155478 &  10261640.8 &  4678.88138 & 144 &  20 & 409 & TRUE & 38\\\\\n",
       "\t 172 & Miraflores             & 2022 & 50 & 291 & 265 & 10.074072 & 10.994886653 & 3.087636 & 935.0695 & ⋯ & 0.13376605 & 0.4788441 & 0.5522430 &    673171.0 & 31876.00392 & 182 &  81 & 291 & TRUE & 41\\\\\n",
       "\t 266 & Valdezarza             & 2022 & 33 &   0 &   0 & 24.314646 &  0.086326357 & 2.123322 & 935.3358 & ⋯ & 0.10282242 & 0.4712815 & 0.5253661 &  15590900.9 &  2800.80030 &  34 &  11 &   0 & TRUE & 42\\\\\n",
       "\t 022 & Arganda - Felicidad    & 2022 & 43 & 418 & 393 & 18.313136 &  0.004713176 & 2.617470 & 959.8764 & ⋯ & 0.14831801 & 0.5751955 & 0.6725509 &  62928443.1 &   556.98184 & 270 &  69 & 418 & TRUE & 43\\\\\n",
       "\t 233 & San Blas               & 2022 & 50 & 333 & 326 & 10.574115 &  9.682059178 & 2.733725 & 947.5894 & ⋯ & 0.19425533 & 0.4605699 & 0.5694285 &   7633175.5 &  3793.17888 & 182 &  81 & 333 & TRUE & 44\\\\\n",
       "\t 195 & Paracuellos del Jarama & 2022 & 32 &   0 &   0 & 28.061744 &  0.003560555 & 3.695964 & 947.2270 & ⋯ & 0.08264704 & 0.6529238 & 0.7102701 &  43812815.4 &   600.12121 &  34 &  10 &   0 & TRUE & 45\\\\\n",
       "\t 286 & Zofío                  & 2022 & 42 & 368 & 357 & 18.393992 &  2.394857359 & 3.107041 & 942.6759 & ⋯ & 0.17766065 & 0.4448489 & 0.5405693 &   1871142.8 & 16836.23510 & 180 & 100 & 368 & TRUE & 46\\\\\n",
       "\t 209 & Portazgo               & 2021 & 45 & 215 & 213 & 10.457078 & -0.001431931 & 1.568141 & 944.8039 & ⋯ & 0.17912995 & 0.4312525 & 0.5261093 &   1165705.1 & 15269.72763 & 160 &  70 & 215 & TRUE & 47\\\\\n",
       "\t 128 & La Ribota              & 2022 & 18 &   0 &   0 & 16.293292 &  1.755478391 & 2.641612 & 942.6558 & ⋯ & 0.11272335 & 0.6094153 & 0.6814646 &   1364369.5 & 24969.77491 & 122 &  36 &   0 & TRUE & 49\\\\\n",
       "\t 137 & Las Matas              & 2021 & 36 &   0 &   0 & 21.968429 &  0.061186034 & 3.079440 & 913.7501 & ⋯ & 0.08716812 & 0.4943178 & 0.5414490 &   7951396.5 &   837.84024 &  97 &  13 &   0 & TRUE & 52\\\\\n",
       "\t 124 & La Marazuela           & 2022 & 52 & 151 & 149 &  8.411680 &  0.177250054 & 1.998273 &       NA & ⋯ & 0.08368767 & 0.5459855 & 0.5957059 &   8997541.1 &  1345.25642 & 204 &  70 & 151 & TRUE & 53\\\\\n",
       "\t 210 & Potosí                 & 2022 & 12 &   0 &   0 & 10.009513 &  6.265043165 & 3.503190 & 941.7438 & ⋯ & 0.07197837 & 0.5120776 & 0.5518168 &   1753252.0 & 16485.36507 & 134 &  43 &   0 & TRUE & 57\\\\\n",
       "\t ⋮ & ⋮ & ⋮ & ⋮ & ⋮ & ⋮ & ⋮ & ⋮ & ⋮ & ⋮ & ⋱ & ⋮ & ⋮ & ⋮ & ⋮ & ⋮ & ⋮ & ⋮ & ⋮ & ⋮ & ⋮\\\\\n",
       "\t 121 & NA & 2023 & 52 & NA & NA &  7.306716 &  0.128150649 & 1.1548026 & 906.4534 & ⋯ & NA & NA & NA &       NA & NA & NA & NA & NA & FALSE & 21707\\\\\n",
       "\t 123 & NA & 2023 & 52 & NA & NA & 10.211300 & -0.005418091 & 1.3682419 & 954.5679 & ⋯ & NA & NA & NA & 17069020 & NA & NA & NA & NA & FALSE & 21708\\\\\n",
       "\t 125 & NA & 2023 & 52 & NA & NA & 10.545031 &  0.129075612 & 1.9666051 & 952.1866 & ⋯ & NA & NA & NA &       NA & NA & NA & NA & NA & FALSE & 21709\\\\\n",
       "\t 141 & NA & 2023 & 52 & NA & NA & 11.357062 &  0.110700024 & 1.0160656 & 946.6940 & ⋯ & NA & NA & NA &       NA & NA & NA & NA & NA & FALSE & 21710\\\\\n",
       "\t 143 & NA & 2023 & 52 & NA & NA & 11.203006 &  0.075128787 & 1.3629539 & 948.6422 & ⋯ & NA & NA & NA &       NA & NA & NA & NA & NA & FALSE & 21711\\\\\n",
       "\t 145 & NA & 2023 & 52 & NA & NA & 10.166632 &  0.043369205 & 1.7868957 & 958.0803 & ⋯ & NA & NA & NA &       NA & NA & NA & NA & NA & FALSE & 21712\\\\\n",
       "\t 154 & NA & 2023 & 52 & NA & NA & 10.225257 &  0.016289705 & 1.3407377 & 956.2241 & ⋯ & NA & NA & NA &       NA & NA & NA & NA & NA & FALSE & 21713\\\\\n",
       "\t 155 & NA & 2023 & 52 & NA & NA & 11.044462 &  0.331696059 & 3.1559050 & 928.9975 & ⋯ & NA & NA & NA &       NA & NA & NA & NA & NA & FALSE & 21714\\\\\n",
       "\t 163 & NA & 2023 & 52 & NA & NA & 11.014089 &  0.063385787 & 1.9253572 & 948.2070 & ⋯ & NA & NA & NA &       NA & NA & NA & NA & NA & FALSE & 21715\\\\\n",
       "\t 166 & NA & 2023 & 52 & NA & NA & 10.142910 &  0.023016148 & 2.3889124 & 956.9007 & ⋯ & NA & NA & NA &       NA & NA & NA & NA & NA & FALSE & 21716\\\\\n",
       "\t 175 & NA & 2023 & 52 & NA & NA & 11.012679 &  0.167191841 & 0.9345523 & 949.1661 & ⋯ & NA & NA & NA &       NA & NA & NA & NA & NA & FALSE & 21717\\\\\n",
       "\t 178 & NA & 2023 & 52 & NA & NA & 11.259098 &  0.130901716 & 0.9007216 & 948.3606 & ⋯ & NA & NA & NA &       NA & NA & NA & NA & NA & FALSE & 21718\\\\\n",
       "\t 180 & NA & 2023 & 52 & NA & NA & 10.654319 &  0.115703210 & 3.0056868 & 965.2384 & ⋯ & NA & NA & NA &       NA & NA & NA & NA & NA & FALSE & 21719\\\\\n",
       "\t 183 & NA & 2023 & 52 & NA & NA & 11.527141 &  0.052346915 & 2.4312266 & 960.6209 & ⋯ & NA & NA & NA &       NA & NA & NA & NA & NA & FALSE & 21720\\\\\n",
       "\t 186 & NA & 2023 & 52 & NA & NA & 11.146386 &  0.080628546 & 1.4025629 & 950.1638 & ⋯ & NA & NA & NA &       NA & NA & NA & NA & NA & FALSE & 21721\\\\\n",
       "\t 190 & NA & 2023 & 52 & NA & NA & 11.068404 &  0.057635073 & 1.5819001 & 949.1403 & ⋯ & NA & NA & NA &       NA & NA & NA & NA & NA & FALSE & 21722\\\\\n",
       "\t 196 & NA & 2023 & 52 & NA & NA & 11.219301 &  0.067613842 & 3.4378131 & 954.1926 & ⋯ & NA & NA & NA &       NA & NA & NA & NA & NA & FALSE & 21723\\\\\n",
       "\t 197 & NA & 2023 & 52 & NA & NA & 10.361258 &  0.011666925 & 2.4640036 & 958.5473 & ⋯ & NA & NA & NA &       NA & NA & NA & NA & NA & FALSE & 21724\\\\\n",
       "\t 211 & NA & 2023 & 52 & NA & NA & 10.965211 &  0.051475465 & 1.8636783 & 951.2371 & ⋯ & NA & NA & NA &       NA & NA & NA & NA & NA & FALSE & 21725\\\\\n",
       "\t 215 & NA & 2023 & 52 & NA & NA & 11.205836 &  0.147135970 & 0.8374458 & 948.4432 & ⋯ & NA & NA & NA &       NA & NA & NA & NA & NA & FALSE & 21726\\\\\n",
       "\t 217 & NA & 2023 & 52 & NA & NA & 10.212181 &  0.006669498 & 1.2822661 & 955.6029 & ⋯ & NA & NA & NA &       NA & NA & NA & NA & NA & FALSE & 21727\\\\\n",
       "\t 222 & NA & 2023 & 52 & NA & NA &  5.354266 &  1.059873094 & 3.0555966 & 849.0465 & ⋯ & NA & NA & NA &       NA & NA & NA & NA & NA & FALSE & 21728\\\\\n",
       "\t 234 & NA & 2023 & 52 & NA & NA & 10.678634 &  0.020101581 & 2.0813710 & 951.6213 & ⋯ & NA & NA & NA &       NA & NA & NA & NA & NA & FALSE & 21729\\\\\n",
       "\t 239 & NA & 2023 & 52 & NA & NA & 11.332115 &  0.228918417 & 2.1074142 & 938.0312 & ⋯ & NA & NA & NA &       NA & NA & NA & NA & NA & FALSE & 21730\\\\\n",
       "\t 242 & NA & 2023 & 52 & NA & NA & 10.518028 &  0.056162165 & 3.0487715 & 962.2087 & ⋯ & NA & NA & NA &       NA & NA & NA & NA & NA & FALSE & 21731\\\\\n",
       "\t 247 & NA & 2023 & 52 & NA & NA & 10.714625 &  0.245488122 & 1.3169438 & 932.7038 & ⋯ & NA & NA & NA &       NA & NA & NA & NA & NA & FALSE & 21732\\\\\n",
       "\t 265 & NA & 2023 & 52 & NA & NA & 10.553600 &  0.057099405 & 2.6110787 & 956.5085 & ⋯ & NA & NA & NA &       NA & NA & NA & NA & NA & FALSE & 21733\\\\\n",
       "\t 268 & NA & 2023 & 52 & NA & NA & 11.230386 &  0.280945419 & 2.4422730 & 933.8724 & ⋯ & NA & NA & NA &       NA & NA & NA & NA & NA & FALSE & 21734\\\\\n",
       "\t 270 & NA & 2023 & 52 & NA & NA & 10.958116 &  0.082934650 & 1.5836603 & 952.3942 & ⋯ & NA & NA & NA &       NA & NA & NA & NA & NA & FALSE & 21735\\\\\n",
       "\t 276 & NA & 2023 & 52 & NA & NA & 11.317297 &  0.193495530 & 0.5928780 & 944.9237 & ⋯ & NA & NA & NA &       NA & NA & NA & NA & NA & FALSE & 21736\\\\\n",
       "\\end{tabular}\n"
      ],
      "text/markdown": [
       "\n",
       "A tibble: 21736 × 50\n",
       "\n",
       "| GEOCODIGO &lt;chr&gt; | DESBDT &lt;chr&gt; | ano &lt;dbl&gt; | semana &lt;dbl&gt; | n_vacunas &lt;dbl&gt; | n_citas &lt;dbl&gt; | tmed &lt;dbl&gt; | prec &lt;dbl&gt; | velmedia &lt;dbl&gt; | presMax &lt;dbl&gt; | ⋯ ⋯ | t10_1 &lt;dbl&gt; | t11_1 &lt;dbl&gt; | t12_1 &lt;dbl&gt; | area &lt;dbl&gt; | densidad_hab_km &lt;dbl&gt; | tuits_gripe &lt;dbl&gt; | interes_gripe &lt;dbl&gt; | Target &lt;dbl&gt; | is_train &lt;lgl&gt; | rank &lt;int&gt; |\n",
       "|---|---|---|---|---|---|---|---|---|---|---|---|---|---|---|---|---|---|---|---|---|\n",
       "| 259 | V Centenario           | 2022 | 34 |   0 |   0 | 27.278748 |  0.169955881 | 2.297067 | 940.0420 | ⋯ | 0.09258503 | 0.6406787 | 0.7028586 |   2100118.9 | 15131.52443 |  60 |  24 |   0 | TRUE |  1 |\n",
       "| 260 | Valdeacederas          | 2022 |  8 |   0 |   0 |  9.577289 |  1.264910043 | 1.890425 | 944.1770 | ⋯ | 0.13151901 | 0.5451465 | 0.6277335 |   1164622.0 | 22498.28643 |  56 |  15 |   0 | TRUE |  2 |\n",
       "| 041 | Canillejas             | 2022 |  9 |   0 |   0 |  8.536554 |  3.122881160 | 2.418071 | 949.7179 | ⋯ | 0.13926119 | 0.4600730 | 0.5346482 |   1597474.5 | 17939.56640 |  72 |  24 |   0 | TRUE |  3 |\n",
       "| 025 | Barajas                | 2022 | 49 | 292 | 280 |  9.065363 |  7.313886680 | 1.562328 | 941.8342 | ⋯ | 0.10460043 | 0.5920292 | 0.6590530 |   3816572.0 |  5893.24662 | 196 |  77 | 292 | TRUE |  5 |\n",
       "| 046 | Castelló               | 2022 | 24 |   0 |   0 | 29.905728 |  0.013668517 | 2.564749 | 940.5669 | ⋯ | 0.06114283 | 0.4717699 | 0.5025317 |    870986.8 | 17738.50106 |  46 |  21 |   0 | TRUE |  7 |\n",
       "| 159 | Mar Báltico            | 2022 |  3 | 524 | 498 |  4.717205 |  0.000000000 | 1.494957 | 953.5196 | ⋯ | 0.13207313 | 0.4690937 | 0.5405803 |  15368327.1 |  3284.54748 | 382 |  42 | 524 | TRUE | 12 |\n",
       "| 065 | Daroca                 | 2022 |  8 |   0 |   0 | 10.233853 |  1.145128991 | 2.067554 | 948.1804 | ⋯ | 0.13304421 | 0.4726520 | 0.5453497 |   2813686.8 | 12136.39007 |  56 |  15 |   0 | TRUE | 13 |\n",
       "| 092 | Felipe II              | 2021 | 47 | 248 | 228 |  6.078661 |  1.071980598 | 2.700305 | 938.7558 | ⋯ | 0.14516249 | 0.4759882 | 0.5564819 |    916183.4 | 22138.58056 | 280 |  64 | 248 | TRUE | 15 |\n",
       "| 221 | Ramón y Cajal          | 2023 |  1 | 204 | 198 |  8.145987 |  1.089500548 | 2.556688 | 950.0602 | ⋯ | 0.14429658 | 0.3978026 | 0.4660208 |    459459.2 | 43017.96960 |  24 |  64 | 204 | TRUE | 16 |\n",
       "| 038 | Campo Real             | 2022 |  2 | 205 | 187 |  4.245075 |  0.079651638 | 2.094226 | 994.1550 | ⋯ | 0.15408513 | 0.5310793 | 0.6272654 | 225744024.2 |    91.30696 | 508 |  69 | 205 | TRUE | 17 |\n",
       "| 041 | NA                     | 2023 | 52 |  NA |  NA | 10.700753 |  0.113597507 | 1.425011 | 954.5998 | ⋯ |         NA |        NA |        NA |          NA |          NA |  NA |  NA |  NA | TRUE | 21 |\n",
       "| 174 | Monforte de Lemos      | 2022 | 39 |   0 |   0 | 16.474803 |  0.840109889 | 2.205335 | 938.5389 | ⋯ | 0.11991115 | 0.4965663 | 0.5642990 |    320266.1 | 49299.63515 | 126 |  42 |   0 | TRUE | 24 |\n",
       "| 126 | La Plata               | 2022 | 16 |   0 |   0 | 10.784243 |  3.840456676 | 4.668837 | 941.8737 | ⋯ | 0.12101854 | 0.6555124 | 0.7415345 |   3463767.7 |  9571.08065 |  94 |  40 |   0 | TRUE | 27 |\n",
       "| 139 | Las Rozas              | 2022 | 50 | 515 | 510 |  8.842833 |  8.831183413 | 3.270584 | 915.2308 | ⋯ | 0.07948112 | 0.5871316 | 0.6370746 |  15354532.3 |  2485.52019 | 182 |  81 | 515 | TRUE | 28 |\n",
       "| 188 | Opañel                 | 2022 | 34 |   0 |   0 | 28.005122 |  0.152008212 | 2.306659 | 938.3107 | ⋯ | 0.14839521 | 0.4668539 | 0.5481580 |    623385.2 | 31091.52988 |  60 |  24 |   0 | TRUE | 30 |\n",
       "| 040 | Canal de Panamá        | 2021 | 37 |   0 |   0 | 19.878869 |  4.144780238 | 2.575349 | 943.0739 | ⋯ | 0.12070471 | 0.4696157 | 0.5343907 |   1394676.1 | 22029.48792 |  79 |  15 |   0 | TRUE | 31 |\n",
       "| 084 | Embajadores            | 2022 | 11 |   0 |   0 | 10.896991 |  1.783350985 | 3.705408 | 945.3577 | ⋯ | 0.10910315 | 0.5304332 | 0.5954684 |    647263.5 | 39371.91141 |  78 |  27 |   0 | TRUE | 32 |\n",
       "| 261 | Valdebernardo          | 2021 | 42 | 185 | 183 | 15.813806 |  0.000000000 | 2.116845 | 951.1437 | ⋯ | 0.15339911 | 0.5117686 | 0.6048410 |   1452762.2 | 11210.36886 | 254 | 100 | 185 | TRUE | 33 |\n",
       "| 132 | Las Américas           | 2022 |  5 | 409 | 397 |  9.641141 |  0.000000000 | 1.953802 | 962.9932 | ⋯ | 0.14121552 | 0.6162060 | 0.7155478 |  10261640.8 |  4678.88138 | 144 |  20 | 409 | TRUE | 38 |\n",
       "| 172 | Miraflores             | 2022 | 50 | 291 | 265 | 10.074072 | 10.994886653 | 3.087636 | 935.0695 | ⋯ | 0.13376605 | 0.4788441 | 0.5522430 |    673171.0 | 31876.00392 | 182 |  81 | 291 | TRUE | 41 |\n",
       "| 266 | Valdezarza             | 2022 | 33 |   0 |   0 | 24.314646 |  0.086326357 | 2.123322 | 935.3358 | ⋯ | 0.10282242 | 0.4712815 | 0.5253661 |  15590900.9 |  2800.80030 |  34 |  11 |   0 | TRUE | 42 |\n",
       "| 022 | Arganda - Felicidad    | 2022 | 43 | 418 | 393 | 18.313136 |  0.004713176 | 2.617470 | 959.8764 | ⋯ | 0.14831801 | 0.5751955 | 0.6725509 |  62928443.1 |   556.98184 | 270 |  69 | 418 | TRUE | 43 |\n",
       "| 233 | San Blas               | 2022 | 50 | 333 | 326 | 10.574115 |  9.682059178 | 2.733725 | 947.5894 | ⋯ | 0.19425533 | 0.4605699 | 0.5694285 |   7633175.5 |  3793.17888 | 182 |  81 | 333 | TRUE | 44 |\n",
       "| 195 | Paracuellos del Jarama | 2022 | 32 |   0 |   0 | 28.061744 |  0.003560555 | 3.695964 | 947.2270 | ⋯ | 0.08264704 | 0.6529238 | 0.7102701 |  43812815.4 |   600.12121 |  34 |  10 |   0 | TRUE | 45 |\n",
       "| 286 | Zofío                  | 2022 | 42 | 368 | 357 | 18.393992 |  2.394857359 | 3.107041 | 942.6759 | ⋯ | 0.17766065 | 0.4448489 | 0.5405693 |   1871142.8 | 16836.23510 | 180 | 100 | 368 | TRUE | 46 |\n",
       "| 209 | Portazgo               | 2021 | 45 | 215 | 213 | 10.457078 | -0.001431931 | 1.568141 | 944.8039 | ⋯ | 0.17912995 | 0.4312525 | 0.5261093 |   1165705.1 | 15269.72763 | 160 |  70 | 215 | TRUE | 47 |\n",
       "| 128 | La Ribota              | 2022 | 18 |   0 |   0 | 16.293292 |  1.755478391 | 2.641612 | 942.6558 | ⋯ | 0.11272335 | 0.6094153 | 0.6814646 |   1364369.5 | 24969.77491 | 122 |  36 |   0 | TRUE | 49 |\n",
       "| 137 | Las Matas              | 2021 | 36 |   0 |   0 | 21.968429 |  0.061186034 | 3.079440 | 913.7501 | ⋯ | 0.08716812 | 0.4943178 | 0.5414490 |   7951396.5 |   837.84024 |  97 |  13 |   0 | TRUE | 52 |\n",
       "| 124 | La Marazuela           | 2022 | 52 | 151 | 149 |  8.411680 |  0.177250054 | 1.998273 |       NA | ⋯ | 0.08368767 | 0.5459855 | 0.5957059 |   8997541.1 |  1345.25642 | 204 |  70 | 151 | TRUE | 53 |\n",
       "| 210 | Potosí                 | 2022 | 12 |   0 |   0 | 10.009513 |  6.265043165 | 3.503190 | 941.7438 | ⋯ | 0.07197837 | 0.5120776 | 0.5518168 |   1753252.0 | 16485.36507 | 134 |  43 |   0 | TRUE | 57 |\n",
       "| ⋮ | ⋮ | ⋮ | ⋮ | ⋮ | ⋮ | ⋮ | ⋮ | ⋮ | ⋮ | ⋱ | ⋮ | ⋮ | ⋮ | ⋮ | ⋮ | ⋮ | ⋮ | ⋮ | ⋮ | ⋮ |\n",
       "| 121 | NA | 2023 | 52 | NA | NA |  7.306716 |  0.128150649 | 1.1548026 | 906.4534 | ⋯ | NA | NA | NA |       NA | NA | NA | NA | NA | FALSE | 21707 |\n",
       "| 123 | NA | 2023 | 52 | NA | NA | 10.211300 | -0.005418091 | 1.3682419 | 954.5679 | ⋯ | NA | NA | NA | 17069020 | NA | NA | NA | NA | FALSE | 21708 |\n",
       "| 125 | NA | 2023 | 52 | NA | NA | 10.545031 |  0.129075612 | 1.9666051 | 952.1866 | ⋯ | NA | NA | NA |       NA | NA | NA | NA | NA | FALSE | 21709 |\n",
       "| 141 | NA | 2023 | 52 | NA | NA | 11.357062 |  0.110700024 | 1.0160656 | 946.6940 | ⋯ | NA | NA | NA |       NA | NA | NA | NA | NA | FALSE | 21710 |\n",
       "| 143 | NA | 2023 | 52 | NA | NA | 11.203006 |  0.075128787 | 1.3629539 | 948.6422 | ⋯ | NA | NA | NA |       NA | NA | NA | NA | NA | FALSE | 21711 |\n",
       "| 145 | NA | 2023 | 52 | NA | NA | 10.166632 |  0.043369205 | 1.7868957 | 958.0803 | ⋯ | NA | NA | NA |       NA | NA | NA | NA | NA | FALSE | 21712 |\n",
       "| 154 | NA | 2023 | 52 | NA | NA | 10.225257 |  0.016289705 | 1.3407377 | 956.2241 | ⋯ | NA | NA | NA |       NA | NA | NA | NA | NA | FALSE | 21713 |\n",
       "| 155 | NA | 2023 | 52 | NA | NA | 11.044462 |  0.331696059 | 3.1559050 | 928.9975 | ⋯ | NA | NA | NA |       NA | NA | NA | NA | NA | FALSE | 21714 |\n",
       "| 163 | NA | 2023 | 52 | NA | NA | 11.014089 |  0.063385787 | 1.9253572 | 948.2070 | ⋯ | NA | NA | NA |       NA | NA | NA | NA | NA | FALSE | 21715 |\n",
       "| 166 | NA | 2023 | 52 | NA | NA | 10.142910 |  0.023016148 | 2.3889124 | 956.9007 | ⋯ | NA | NA | NA |       NA | NA | NA | NA | NA | FALSE | 21716 |\n",
       "| 175 | NA | 2023 | 52 | NA | NA | 11.012679 |  0.167191841 | 0.9345523 | 949.1661 | ⋯ | NA | NA | NA |       NA | NA | NA | NA | NA | FALSE | 21717 |\n",
       "| 178 | NA | 2023 | 52 | NA | NA | 11.259098 |  0.130901716 | 0.9007216 | 948.3606 | ⋯ | NA | NA | NA |       NA | NA | NA | NA | NA | FALSE | 21718 |\n",
       "| 180 | NA | 2023 | 52 | NA | NA | 10.654319 |  0.115703210 | 3.0056868 | 965.2384 | ⋯ | NA | NA | NA |       NA | NA | NA | NA | NA | FALSE | 21719 |\n",
       "| 183 | NA | 2023 | 52 | NA | NA | 11.527141 |  0.052346915 | 2.4312266 | 960.6209 | ⋯ | NA | NA | NA |       NA | NA | NA | NA | NA | FALSE | 21720 |\n",
       "| 186 | NA | 2023 | 52 | NA | NA | 11.146386 |  0.080628546 | 1.4025629 | 950.1638 | ⋯ | NA | NA | NA |       NA | NA | NA | NA | NA | FALSE | 21721 |\n",
       "| 190 | NA | 2023 | 52 | NA | NA | 11.068404 |  0.057635073 | 1.5819001 | 949.1403 | ⋯ | NA | NA | NA |       NA | NA | NA | NA | NA | FALSE | 21722 |\n",
       "| 196 | NA | 2023 | 52 | NA | NA | 11.219301 |  0.067613842 | 3.4378131 | 954.1926 | ⋯ | NA | NA | NA |       NA | NA | NA | NA | NA | FALSE | 21723 |\n",
       "| 197 | NA | 2023 | 52 | NA | NA | 10.361258 |  0.011666925 | 2.4640036 | 958.5473 | ⋯ | NA | NA | NA |       NA | NA | NA | NA | NA | FALSE | 21724 |\n",
       "| 211 | NA | 2023 | 52 | NA | NA | 10.965211 |  0.051475465 | 1.8636783 | 951.2371 | ⋯ | NA | NA | NA |       NA | NA | NA | NA | NA | FALSE | 21725 |\n",
       "| 215 | NA | 2023 | 52 | NA | NA | 11.205836 |  0.147135970 | 0.8374458 | 948.4432 | ⋯ | NA | NA | NA |       NA | NA | NA | NA | NA | FALSE | 21726 |\n",
       "| 217 | NA | 2023 | 52 | NA | NA | 10.212181 |  0.006669498 | 1.2822661 | 955.6029 | ⋯ | NA | NA | NA |       NA | NA | NA | NA | NA | FALSE | 21727 |\n",
       "| 222 | NA | 2023 | 52 | NA | NA |  5.354266 |  1.059873094 | 3.0555966 | 849.0465 | ⋯ | NA | NA | NA |       NA | NA | NA | NA | NA | FALSE | 21728 |\n",
       "| 234 | NA | 2023 | 52 | NA | NA | 10.678634 |  0.020101581 | 2.0813710 | 951.6213 | ⋯ | NA | NA | NA |       NA | NA | NA | NA | NA | FALSE | 21729 |\n",
       "| 239 | NA | 2023 | 52 | NA | NA | 11.332115 |  0.228918417 | 2.1074142 | 938.0312 | ⋯ | NA | NA | NA |       NA | NA | NA | NA | NA | FALSE | 21730 |\n",
       "| 242 | NA | 2023 | 52 | NA | NA | 10.518028 |  0.056162165 | 3.0487715 | 962.2087 | ⋯ | NA | NA | NA |       NA | NA | NA | NA | NA | FALSE | 21731 |\n",
       "| 247 | NA | 2023 | 52 | NA | NA | 10.714625 |  0.245488122 | 1.3169438 | 932.7038 | ⋯ | NA | NA | NA |       NA | NA | NA | NA | NA | FALSE | 21732 |\n",
       "| 265 | NA | 2023 | 52 | NA | NA | 10.553600 |  0.057099405 | 2.6110787 | 956.5085 | ⋯ | NA | NA | NA |       NA | NA | NA | NA | NA | FALSE | 21733 |\n",
       "| 268 | NA | 2023 | 52 | NA | NA | 11.230386 |  0.280945419 | 2.4422730 | 933.8724 | ⋯ | NA | NA | NA |       NA | NA | NA | NA | NA | FALSE | 21734 |\n",
       "| 270 | NA | 2023 | 52 | NA | NA | 10.958116 |  0.082934650 | 1.5836603 | 952.3942 | ⋯ | NA | NA | NA |       NA | NA | NA | NA | NA | FALSE | 21735 |\n",
       "| 276 | NA | 2023 | 52 | NA | NA | 11.317297 |  0.193495530 | 0.5928780 | 944.9237 | ⋯ | NA | NA | NA |       NA | NA | NA | NA | NA | FALSE | 21736 |\n",
       "\n"
      ],
      "text/plain": [
       "      GEOCODIGO DESBDT                 ano  semana n_vacunas n_citas tmed     \n",
       "1     259       V Centenario           2022 34       0         0     27.278748\n",
       "2     260       Valdeacederas          2022  8       0         0      9.577289\n",
       "3     041       Canillejas             2022  9       0         0      8.536554\n",
       "4     025       Barajas                2022 49     292       280      9.065363\n",
       "5     046       Castelló               2022 24       0         0     29.905728\n",
       "6     159       Mar Báltico            2022  3     524       498      4.717205\n",
       "7     065       Daroca                 2022  8       0         0     10.233853\n",
       "8     092       Felipe II              2021 47     248       228      6.078661\n",
       "9     221       Ramón y Cajal          2023  1     204       198      8.145987\n",
       "10    038       Campo Real             2022  2     205       187      4.245075\n",
       "11    041       NA                     2023 52      NA        NA     10.700753\n",
       "12    174       Monforte de Lemos      2022 39       0         0     16.474803\n",
       "13    126       La Plata               2022 16       0         0     10.784243\n",
       "14    139       Las Rozas              2022 50     515       510      8.842833\n",
       "15    188       Opañel                 2022 34       0         0     28.005122\n",
       "16    040       Canal de Panamá        2021 37       0         0     19.878869\n",
       "17    084       Embajadores            2022 11       0         0     10.896991\n",
       "18    261       Valdebernardo          2021 42     185       183     15.813806\n",
       "19    132       Las Américas           2022  5     409       397      9.641141\n",
       "20    172       Miraflores             2022 50     291       265     10.074072\n",
       "21    266       Valdezarza             2022 33       0         0     24.314646\n",
       "22    022       Arganda - Felicidad    2022 43     418       393     18.313136\n",
       "23    233       San Blas               2022 50     333       326     10.574115\n",
       "24    195       Paracuellos del Jarama 2022 32       0         0     28.061744\n",
       "25    286       Zofío                  2022 42     368       357     18.393992\n",
       "26    209       Portazgo               2021 45     215       213     10.457078\n",
       "27    128       La Ribota              2022 18       0         0     16.293292\n",
       "28    137       Las Matas              2021 36       0         0     21.968429\n",
       "29    124       La Marazuela           2022 52     151       149      8.411680\n",
       "30    210       Potosí                 2022 12       0         0     10.009513\n",
       "⋮     ⋮         ⋮                      ⋮    ⋮      ⋮         ⋮       ⋮        \n",
       "21707 121       NA                     2023 52     NA        NA       7.306716\n",
       "21708 123       NA                     2023 52     NA        NA      10.211300\n",
       "21709 125       NA                     2023 52     NA        NA      10.545031\n",
       "21710 141       NA                     2023 52     NA        NA      11.357062\n",
       "21711 143       NA                     2023 52     NA        NA      11.203006\n",
       "21712 145       NA                     2023 52     NA        NA      10.166632\n",
       "21713 154       NA                     2023 52     NA        NA      10.225257\n",
       "21714 155       NA                     2023 52     NA        NA      11.044462\n",
       "21715 163       NA                     2023 52     NA        NA      11.014089\n",
       "21716 166       NA                     2023 52     NA        NA      10.142910\n",
       "21717 175       NA                     2023 52     NA        NA      11.012679\n",
       "21718 178       NA                     2023 52     NA        NA      11.259098\n",
       "21719 180       NA                     2023 52     NA        NA      10.654319\n",
       "21720 183       NA                     2023 52     NA        NA      11.527141\n",
       "21721 186       NA                     2023 52     NA        NA      11.146386\n",
       "21722 190       NA                     2023 52     NA        NA      11.068404\n",
       "21723 196       NA                     2023 52     NA        NA      11.219301\n",
       "21724 197       NA                     2023 52     NA        NA      10.361258\n",
       "21725 211       NA                     2023 52     NA        NA      10.965211\n",
       "21726 215       NA                     2023 52     NA        NA      11.205836\n",
       "21727 217       NA                     2023 52     NA        NA      10.212181\n",
       "21728 222       NA                     2023 52     NA        NA       5.354266\n",
       "21729 234       NA                     2023 52     NA        NA      10.678634\n",
       "21730 239       NA                     2023 52     NA        NA      11.332115\n",
       "21731 242       NA                     2023 52     NA        NA      10.518028\n",
       "21732 247       NA                     2023 52     NA        NA      10.714625\n",
       "21733 265       NA                     2023 52     NA        NA      10.553600\n",
       "21734 268       NA                     2023 52     NA        NA      11.230386\n",
       "21735 270       NA                     2023 52     NA        NA      10.958116\n",
       "21736 276       NA                     2023 52     NA        NA      11.317297\n",
       "      prec         velmedia  presMax  ⋯ t10_1      t11_1     t12_1    \n",
       "1      0.169955881 2.297067  940.0420 ⋯ 0.09258503 0.6406787 0.7028586\n",
       "2      1.264910043 1.890425  944.1770 ⋯ 0.13151901 0.5451465 0.6277335\n",
       "3      3.122881160 2.418071  949.7179 ⋯ 0.13926119 0.4600730 0.5346482\n",
       "4      7.313886680 1.562328  941.8342 ⋯ 0.10460043 0.5920292 0.6590530\n",
       "5      0.013668517 2.564749  940.5669 ⋯ 0.06114283 0.4717699 0.5025317\n",
       "6      0.000000000 1.494957  953.5196 ⋯ 0.13207313 0.4690937 0.5405803\n",
       "7      1.145128991 2.067554  948.1804 ⋯ 0.13304421 0.4726520 0.5453497\n",
       "8      1.071980598 2.700305  938.7558 ⋯ 0.14516249 0.4759882 0.5564819\n",
       "9      1.089500548 2.556688  950.0602 ⋯ 0.14429658 0.3978026 0.4660208\n",
       "10     0.079651638 2.094226  994.1550 ⋯ 0.15408513 0.5310793 0.6272654\n",
       "11     0.113597507 1.425011  954.5998 ⋯         NA        NA        NA\n",
       "12     0.840109889 2.205335  938.5389 ⋯ 0.11991115 0.4965663 0.5642990\n",
       "13     3.840456676 4.668837  941.8737 ⋯ 0.12101854 0.6555124 0.7415345\n",
       "14     8.831183413 3.270584  915.2308 ⋯ 0.07948112 0.5871316 0.6370746\n",
       "15     0.152008212 2.306659  938.3107 ⋯ 0.14839521 0.4668539 0.5481580\n",
       "16     4.144780238 2.575349  943.0739 ⋯ 0.12070471 0.4696157 0.5343907\n",
       "17     1.783350985 3.705408  945.3577 ⋯ 0.10910315 0.5304332 0.5954684\n",
       "18     0.000000000 2.116845  951.1437 ⋯ 0.15339911 0.5117686 0.6048410\n",
       "19     0.000000000 1.953802  962.9932 ⋯ 0.14121552 0.6162060 0.7155478\n",
       "20    10.994886653 3.087636  935.0695 ⋯ 0.13376605 0.4788441 0.5522430\n",
       "21     0.086326357 2.123322  935.3358 ⋯ 0.10282242 0.4712815 0.5253661\n",
       "22     0.004713176 2.617470  959.8764 ⋯ 0.14831801 0.5751955 0.6725509\n",
       "23     9.682059178 2.733725  947.5894 ⋯ 0.19425533 0.4605699 0.5694285\n",
       "24     0.003560555 3.695964  947.2270 ⋯ 0.08264704 0.6529238 0.7102701\n",
       "25     2.394857359 3.107041  942.6759 ⋯ 0.17766065 0.4448489 0.5405693\n",
       "26    -0.001431931 1.568141  944.8039 ⋯ 0.17912995 0.4312525 0.5261093\n",
       "27     1.755478391 2.641612  942.6558 ⋯ 0.11272335 0.6094153 0.6814646\n",
       "28     0.061186034 3.079440  913.7501 ⋯ 0.08716812 0.4943178 0.5414490\n",
       "29     0.177250054 1.998273        NA ⋯ 0.08368767 0.5459855 0.5957059\n",
       "30     6.265043165 3.503190  941.7438 ⋯ 0.07197837 0.5120776 0.5518168\n",
       "⋮     ⋮            ⋮         ⋮        ⋱ ⋮          ⋮         ⋮        \n",
       "21707  0.128150649 1.1548026 906.4534 ⋯ NA         NA        NA       \n",
       "21708 -0.005418091 1.3682419 954.5679 ⋯ NA         NA        NA       \n",
       "21709  0.129075612 1.9666051 952.1866 ⋯ NA         NA        NA       \n",
       "21710  0.110700024 1.0160656 946.6940 ⋯ NA         NA        NA       \n",
       "21711  0.075128787 1.3629539 948.6422 ⋯ NA         NA        NA       \n",
       "21712  0.043369205 1.7868957 958.0803 ⋯ NA         NA        NA       \n",
       "21713  0.016289705 1.3407377 956.2241 ⋯ NA         NA        NA       \n",
       "21714  0.331696059 3.1559050 928.9975 ⋯ NA         NA        NA       \n",
       "21715  0.063385787 1.9253572 948.2070 ⋯ NA         NA        NA       \n",
       "21716  0.023016148 2.3889124 956.9007 ⋯ NA         NA        NA       \n",
       "21717  0.167191841 0.9345523 949.1661 ⋯ NA         NA        NA       \n",
       "21718  0.130901716 0.9007216 948.3606 ⋯ NA         NA        NA       \n",
       "21719  0.115703210 3.0056868 965.2384 ⋯ NA         NA        NA       \n",
       "21720  0.052346915 2.4312266 960.6209 ⋯ NA         NA        NA       \n",
       "21721  0.080628546 1.4025629 950.1638 ⋯ NA         NA        NA       \n",
       "21722  0.057635073 1.5819001 949.1403 ⋯ NA         NA        NA       \n",
       "21723  0.067613842 3.4378131 954.1926 ⋯ NA         NA        NA       \n",
       "21724  0.011666925 2.4640036 958.5473 ⋯ NA         NA        NA       \n",
       "21725  0.051475465 1.8636783 951.2371 ⋯ NA         NA        NA       \n",
       "21726  0.147135970 0.8374458 948.4432 ⋯ NA         NA        NA       \n",
       "21727  0.006669498 1.2822661 955.6029 ⋯ NA         NA        NA       \n",
       "21728  1.059873094 3.0555966 849.0465 ⋯ NA         NA        NA       \n",
       "21729  0.020101581 2.0813710 951.6213 ⋯ NA         NA        NA       \n",
       "21730  0.228918417 2.1074142 938.0312 ⋯ NA         NA        NA       \n",
       "21731  0.056162165 3.0487715 962.2087 ⋯ NA         NA        NA       \n",
       "21732  0.245488122 1.3169438 932.7038 ⋯ NA         NA        NA       \n",
       "21733  0.057099405 2.6110787 956.5085 ⋯ NA         NA        NA       \n",
       "21734  0.280945419 2.4422730 933.8724 ⋯ NA         NA        NA       \n",
       "21735  0.082934650 1.5836603 952.3942 ⋯ NA         NA        NA       \n",
       "21736  0.193495530 0.5928780 944.9237 ⋯ NA         NA        NA       \n",
       "      area        densidad_hab_km tuits_gripe interes_gripe Target is_train\n",
       "1       2100118.9 15131.52443      60          24             0    TRUE    \n",
       "2       1164622.0 22498.28643      56          15             0    TRUE    \n",
       "3       1597474.5 17939.56640      72          24             0    TRUE    \n",
       "4       3816572.0  5893.24662     196          77           292    TRUE    \n",
       "5        870986.8 17738.50106      46          21             0    TRUE    \n",
       "6      15368327.1  3284.54748     382          42           524    TRUE    \n",
       "7       2813686.8 12136.39007      56          15             0    TRUE    \n",
       "8        916183.4 22138.58056     280          64           248    TRUE    \n",
       "9        459459.2 43017.96960      24          64           204    TRUE    \n",
       "10    225744024.2    91.30696     508          69           205    TRUE    \n",
       "11             NA          NA      NA          NA            NA    TRUE    \n",
       "12       320266.1 49299.63515     126          42             0    TRUE    \n",
       "13      3463767.7  9571.08065      94          40             0    TRUE    \n",
       "14     15354532.3  2485.52019     182          81           515    TRUE    \n",
       "15       623385.2 31091.52988      60          24             0    TRUE    \n",
       "16      1394676.1 22029.48792      79          15             0    TRUE    \n",
       "17       647263.5 39371.91141      78          27             0    TRUE    \n",
       "18      1452762.2 11210.36886     254         100           185    TRUE    \n",
       "19     10261640.8  4678.88138     144          20           409    TRUE    \n",
       "20       673171.0 31876.00392     182          81           291    TRUE    \n",
       "21     15590900.9  2800.80030      34          11             0    TRUE    \n",
       "22     62928443.1   556.98184     270          69           418    TRUE    \n",
       "23      7633175.5  3793.17888     182          81           333    TRUE    \n",
       "24     43812815.4   600.12121      34          10             0    TRUE    \n",
       "25      1871142.8 16836.23510     180         100           368    TRUE    \n",
       "26      1165705.1 15269.72763     160          70           215    TRUE    \n",
       "27      1364369.5 24969.77491     122          36             0    TRUE    \n",
       "28      7951396.5   837.84024      97          13             0    TRUE    \n",
       "29      8997541.1  1345.25642     204          70           151    TRUE    \n",
       "30      1753252.0 16485.36507     134          43             0    TRUE    \n",
       "⋮     ⋮           ⋮               ⋮           ⋮             ⋮      ⋮       \n",
       "21707       NA    NA              NA          NA            NA     FALSE   \n",
       "21708 17069020    NA              NA          NA            NA     FALSE   \n",
       "21709       NA    NA              NA          NA            NA     FALSE   \n",
       "21710       NA    NA              NA          NA            NA     FALSE   \n",
       "21711       NA    NA              NA          NA            NA     FALSE   \n",
       "21712       NA    NA              NA          NA            NA     FALSE   \n",
       "21713       NA    NA              NA          NA            NA     FALSE   \n",
       "21714       NA    NA              NA          NA            NA     FALSE   \n",
       "21715       NA    NA              NA          NA            NA     FALSE   \n",
       "21716       NA    NA              NA          NA            NA     FALSE   \n",
       "21717       NA    NA              NA          NA            NA     FALSE   \n",
       "21718       NA    NA              NA          NA            NA     FALSE   \n",
       "21719       NA    NA              NA          NA            NA     FALSE   \n",
       "21720       NA    NA              NA          NA            NA     FALSE   \n",
       "21721       NA    NA              NA          NA            NA     FALSE   \n",
       "21722       NA    NA              NA          NA            NA     FALSE   \n",
       "21723       NA    NA              NA          NA            NA     FALSE   \n",
       "21724       NA    NA              NA          NA            NA     FALSE   \n",
       "21725       NA    NA              NA          NA            NA     FALSE   \n",
       "21726       NA    NA              NA          NA            NA     FALSE   \n",
       "21727       NA    NA              NA          NA            NA     FALSE   \n",
       "21728       NA    NA              NA          NA            NA     FALSE   \n",
       "21729       NA    NA              NA          NA            NA     FALSE   \n",
       "21730       NA    NA              NA          NA            NA     FALSE   \n",
       "21731       NA    NA              NA          NA            NA     FALSE   \n",
       "21732       NA    NA              NA          NA            NA     FALSE   \n",
       "21733       NA    NA              NA          NA            NA     FALSE   \n",
       "21734       NA    NA              NA          NA            NA     FALSE   \n",
       "21735       NA    NA              NA          NA            NA     FALSE   \n",
       "21736       NA    NA              NA          NA            NA     FALSE   \n",
       "      rank \n",
       "1      1   \n",
       "2      2   \n",
       "3      3   \n",
       "4      5   \n",
       "5      7   \n",
       "6     12   \n",
       "7     13   \n",
       "8     15   \n",
       "9     16   \n",
       "10    17   \n",
       "11    21   \n",
       "12    24   \n",
       "13    27   \n",
       "14    28   \n",
       "15    30   \n",
       "16    31   \n",
       "17    32   \n",
       "18    33   \n",
       "19    38   \n",
       "20    41   \n",
       "21    42   \n",
       "22    43   \n",
       "23    44   \n",
       "24    45   \n",
       "25    46   \n",
       "26    47   \n",
       "27    49   \n",
       "28    52   \n",
       "29    53   \n",
       "30    57   \n",
       "⋮     ⋮    \n",
       "21707 21707\n",
       "21708 21708\n",
       "21709 21709\n",
       "21710 21710\n",
       "21711 21711\n",
       "21712 21712\n",
       "21713 21713\n",
       "21714 21714\n",
       "21715 21715\n",
       "21716 21716\n",
       "21717 21717\n",
       "21718 21718\n",
       "21719 21719\n",
       "21720 21720\n",
       "21721 21721\n",
       "21722 21722\n",
       "21723 21723\n",
       "21724 21724\n",
       "21725 21725\n",
       "21726 21726\n",
       "21727 21727\n",
       "21728 21728\n",
       "21729 21729\n",
       "21730 21730\n",
       "21731 21731\n",
       "21732 21732\n",
       "21733 21733\n",
       "21734 21734\n",
       "21735 21735\n",
       "21736 21736"
      ]
     },
     "metadata": {},
     "output_type": "display_data"
    }
   ],
   "source": [
    "data |> mutate(rank = order(Target))"
   ]
  },
  {
   "cell_type": "markdown",
   "metadata": {
    "slideshow": {
     "slide_type": "slide"
    }
   },
   "source": [
    "## Numeric Variable Transformation: Scale"
   ]
  },
  {
   "cell_type": "markdown",
   "metadata": {
    "slideshow": {
     "slide_type": "slide"
    }
   },
   "source": [
    "### Normalization Transform"
   ]
  },
  {
   "cell_type": "markdown",
   "metadata": {},
   "source": [
    "<font color='tomato'>Select columns</font>"
   ]
  },
  {
   "cell_type": "code",
   "execution_count": 21,
   "metadata": {},
   "outputs": [],
   "source": [
    "cols <- sapply(data, is.numeric)"
   ]
  },
  {
   "cell_type": "markdown",
   "metadata": {},
   "source": [
    "<font color='darkgrey'><b>Operation</font>"
   ]
  },
  {
   "cell_type": "code",
   "execution_count": 25,
   "metadata": {
    "vscode": {
     "languageId": "r"
    }
   },
   "outputs": [
    {
     "name": "stdout",
     "output_type": "stream",
     "text": [
      "Processing column: ano \n"
     ]
    },
    {
     "data": {
      "image/png": "[encoded data removed]",
      "text/plain": [
       "Plot with title “Histogram for ano”"
      ]
     },
     "metadata": {
      "image/png": {
       "height": 420,
       "width": 420
      }
     },
     "output_type": "display_data"
    },
    {
     "name": "stdout",
     "output_type": "stream",
     "text": [
      "NULL\n",
      "Processing column: semana \n"
     ]
    },
    {
     "data": {
      "image/png": "[encoded data removed]",
      "text/plain": [
       "Plot with title “Histogram of column_data”"
      ]
     },
     "metadata": {
      "image/png": {
       "height": 420,
       "width": 420
      }
     },
     "output_type": "display_data"
    },
    {
     "name": "stdout",
     "output_type": "stream",
     "text": [
      "NULL\n",
      "Processing column: n_vacunas \n"
     ]
    },
    {
     "ename": "ERROR",
     "evalue": "Error in hist.default(column_data, freq = FALSE, main = paste(\"Histogram for\", : invalid number of 'breaks'\n",
     "output_type": "error",
     "traceback": [
      "Error in hist.default(column_data, freq = FALSE, main = paste(\"Histogram for\", : invalid number of 'breaks'\nTraceback:\n",
      "1. hist(column_data, freq = FALSE, main = paste(\"Histogram for\", \n .     col_name))",
      "2. hist.default(column_data, freq = FALSE, main = paste(\"Histogram for\", \n .     col_name))",
      "3. stop(\"invalid number of 'breaks'\")"
     ]
    },
    {
     "data": {
      "image/png": "[encoded data removed]",
      "text/plain": [
       "Plot with title “Histogram for semana”"
      ]
     },
     "metadata": {
      "image/png": {
       "height": 420,
       "width": 420
      }
     },
     "output_type": "display_data"
    },
    {
     "data": {
      "image/png": "[encoded data removed]",
      "text/plain": [
       "Plot with title “Histogram of column_data”"
      ]
     },
     "metadata": {
      "image/png": {
       "height": 420,
       "width": 420
      }
     },
     "output_type": "display_data"
    }
   ],
   "source": [
    "data_normalized <- data\n",
    "for (col_name in names(numeric_cols)[numeric_cols]) {\n",
    "  data_normalized[[col_name]] <- (data[[col_name]] - min(data[[col_name]])) / \n",
    "                                 (max(data[[col_name]]) - min(data[[col_name]]))\n",
    "}\n",
    "\n",
    "for (col_name in names(cols)[cols]) {\n",
    "    cat(\"Processing column:\", col_name, \"\\n\")\n",
    "    column_data <- data_normalized[[col_name]]\n",
    "    hist_plot <- hist(column_data, freq = FALSE, main = paste(\"Histogram for\", col_name))\n",
    "    print(plot(hist_plot))\n",
    "    lines(density(column_data))\n",
    "}"
   ]
  },
  {
   "cell_type": "code",
   "execution_count": null,
   "metadata": {},
   "outputs": [],
   "source": []
  },
  {
   "cell_type": "markdown",
   "metadata": {
    "slideshow": {
     "slide_type": "slide"
    }
   },
   "source": [
    "### Standarization Transform"
   ]
  },
  {
   "cell_type": "markdown",
   "metadata": {},
   "source": [
    "<font color='tomato'>Select columns</font>"
   ]
  },
  {
   "cell_type": "code",
   "execution_count": 27,
   "metadata": {
    "vscode": {
     "languageId": "r"
    }
   },
   "outputs": [],
   "source": [
    "cols <- sapply(data, is.numeric)"
   ]
  },
  {
   "cell_type": "markdown",
   "metadata": {},
   "source": [
    "<font color='darkgrey'><b>Operation</font>"
   ]
  },
  {
   "cell_type": "code",
   "execution_count": 26,
   "metadata": {
    "ExecuteTime": {
     "end_time": "2021-01-02T17:51:47.944300Z",
     "start_time": "2021-01-02T17:51:47.859685Z"
    },
    "vscode": {
     "languageId": "r"
    }
   },
   "outputs": [
    {
     "name": "stdout",
     "output_type": "stream",
     "text": [
      "Processing column: ano \n"
     ]
    },
    {
     "data": {
      "image/png": "[encoded data removed]",
      "text/plain": [
       "Plot with title “Histogram for ano”"
      ]
     },
     "metadata": {
      "image/png": {
       "height": 420,
       "width": 420
      }
     },
     "output_type": "display_data"
    },
    {
     "name": "stdout",
     "output_type": "stream",
     "text": [
      "NULL\n",
      "Processing column: semana \n"
     ]
    },
    {
     "data": {
      "image/png": "[encoded data removed]",
      "text/plain": [
       "Plot with title “Histogram of column_data”"
      ]
     },
     "metadata": {
      "image/png": {
       "height": 420,
       "width": 420
      }
     },
     "output_type": "display_data"
    },
    {
     "data": {
      "image/png": "[encoded data removed]",
      "text/plain": [
       "Plot with title “Histogram for semana”"
      ]
     },
     "metadata": {
      "image/png": {
       "height": 420,
       "width": 420
      }
     },
     "output_type": "display_data"
    },
    {
     "name": "stdout",
     "output_type": "stream",
     "text": [
      "NULL\n",
      "Processing column: n_vacunas \n"
     ]
    },
    {
     "data": {
      "image/png": "[encoded data removed]",
      "text/plain": [
       "Plot with title “Histogram of column_data”"
      ]
     },
     "metadata": {
      "image/png": {
       "height": 420,
       "width": 420
      }
     },
     "output_type": "display_data"
    },
    {
     "name": "stdout",
     "output_type": "stream",
     "text": [
      "NULL\n"
     ]
    },
    {
     "ename": "ERROR",
     "evalue": "Error in density.default(column_data): 'x' contains missing values\n",
     "output_type": "error",
     "traceback": [
      "Error in density.default(column_data): 'x' contains missing values\nTraceback:\n",
      "1. lines(density(column_data))",
      "2. density(column_data)",
      "3. density.default(column_data)",
      "4. stop(\"'x' contains missing values\")"
     ]
    },
    {
     "data": {
      "image/png": "[encoded data removed]",
      "text/plain": [
       "Plot with title “Histogram for n_vacunas”"
      ]
     },
     "metadata": {
      "image/png": {
       "height": 420,
       "width": 420
      }
     },
     "output_type": "display_data"
    },
    {
     "data": {
      "image/png": "[encoded data removed]",
      "text/plain": [
       "Plot with title “Histogram of column_data”"
      ]
     },
     "metadata": {
      "image/png": {
       "height": 420,
       "width": 420
      }
     },
     "output_type": "display_data"
    }
   ],
   "source": [
    "data_standardized <- data\n",
    "\n",
    "for (col_name in names(numeric_cols)[numeric_cols]) {\n",
    "  data_standardized[[col_name]] <- scale(data[[col_name]])\n",
    "}\n",
    "for (col_name in names(cols)[cols]) {\n",
    "    cat(\"Processing column:\", col_name, \"\\n\")\n",
    "    column_data <- data_standardized[[col_name]]\n",
    "    hist_plot <- hist(column_data, freq = FALSE, main = paste(\"Histogram for\", col_name))\n",
    "    print(plot(hist_plot))\n",
    "    lines(density(column_data))\n",
    "}"
   ]
  },
  {
   "cell_type": "markdown",
   "metadata": {
    "slideshow": {
     "slide_type": "slide"
    }
   },
   "source": [
    "## Numeric Variable Transformation: Distribution"
   ]
  },
  {
   "cell_type": "markdown",
   "metadata": {
    "slideshow": {
     "slide_type": "slide"
    }
   },
   "source": [
    "###\tDiscretization Transform"
   ]
  },
  {
   "cell_type": "markdown",
   "metadata": {
    "slideshow": {
     "slide_type": "slide"
    }
   },
   "source": [
    "##### Evaluating Discretization Transformations"
   ]
  },
  {
   "cell_type": "markdown",
   "metadata": {
    "slideshow": {
     "slide_type": "slide"
    }
   },
   "source": [
    "#### Uniform Discretization Transform"
   ]
  },
  {
   "cell_type": "markdown",
   "metadata": {},
   "source": [
    "<font color='tomato'>Select columns</font>"
   ]
  },
  {
   "cell_type": "code",
   "execution_count": 28,
   "metadata": {
    "ExecuteTime": {
     "end_time": "2020-12-31T17:31:51.827830Z",
     "start_time": "2020-12-31T17:31:51.812208Z"
    },
    "vscode": {
     "languageId": "r"
    }
   },
   "outputs": [],
   "source": [
    "cols <- sapply(data, is.numeric)"
   ]
  },
  {
   "cell_type": "code",
   "execution_count": null,
   "metadata": {},
   "outputs": [],
   "source": []
  },
  {
   "cell_type": "markdown",
   "metadata": {},
   "source": [
    "<font color='darkgrey'><b>Operation</font>"
   ]
  },
  {
   "cell_type": "code",
   "execution_count": 32,
   "metadata": {
    "ExecuteTime": {
     "end_time": "2020-12-31T10:45:07.969795Z",
     "start_time": "2020-12-31T10:45:07.938574Z"
    },
    "vscode": {
     "languageId": "r"
    }
   },
   "outputs": [
    {
     "name": "stdout",
     "output_type": "stream",
     "text": [
      "Processing column: ano \n"
     ]
    },
    {
     "data": {
      "image/png": "[encoded data removed]",
      "text/plain": [
       "Plot with title “Histogram for ano”"
      ]
     },
     "metadata": {
      "image/png": {
       "height": 420,
       "width": 420
      }
     },
     "output_type": "display_data"
    },
    {
     "name": "stdout",
     "output_type": "stream",
     "text": [
      "NULL\n",
      "Processing column: semana \n"
     ]
    },
    {
     "data": {
      "image/png": "[encoded data removed]",
      "text/plain": [
       "Plot with title “Histogram of column_data”"
      ]
     },
     "metadata": {
      "image/png": {
       "height": 420,
       "width": 420
      }
     },
     "output_type": "display_data"
    },
    {
     "data": {
      "image/png": "[encoded data removed]",
      "text/plain": [
       "Plot with title “Histogram for semana”"
      ]
     },
     "metadata": {
      "image/png": {
       "height": 420,
       "width": 420
      }
     },
     "output_type": "display_data"
    },
    {
     "name": "stdout",
     "output_type": "stream",
     "text": [
      "NULL\n",
      "Processing column: n_vacunas \n"
     ]
    },
    {
     "data": {
      "image/png": "[encoded data removed]",
      "text/plain": [
       "Plot with title “Histogram of column_data”"
      ]
     },
     "metadata": {
      "image/png": {
       "height": 420,
       "width": 420
      }
     },
     "output_type": "display_data"
    },
    {
     "name": "stdout",
     "output_type": "stream",
     "text": [
      "NULL\n"
     ]
    },
    {
     "ename": "ERROR",
     "evalue": "Error in density.default(column_data): 'x' contains missing values\n",
     "output_type": "error",
     "traceback": [
      "Error in density.default(column_data): 'x' contains missing values\nTraceback:\n",
      "1. lines(density(column_data))",
      "2. density(column_data)",
      "3. density.default(column_data)",
      "4. stop(\"'x' contains missing values\")"
     ]
    },
    {
     "data": {
      "image/png": "[encoded data removed]",
      "text/plain": [
       "Plot with title “Histogram for n_vacunas”"
      ]
     },
     "metadata": {
      "image/png": {
       "height": 420,
       "width": 420
      }
     },
     "output_type": "display_data"
    },
    {
     "data": {
      "image/png": "[encoded data removed]",
      "text/plain": [
       "Plot with title “Histogram of column_data”"
      ]
     },
     "metadata": {
      "image/png": {
       "height": 420,
       "width": 420
      }
     },
     "output_type": "display_data"
    }
   ],
   "source": [
    "# create a copy of the original data frame\n",
    "data_discretized <- data\n",
    "\n",
    "# number of intervals\n",
    "k <- 10  # change this value according to your needs\n",
    "\n",
    "# discretize each numeric column\n",
    "for (col_name in names(numeric_cols)[numeric_cols]) {\n",
    "  data_discretized[[col_name]] <- cut(data[[col_name]], breaks = k, labels = FALSE)\n",
    "}\n",
    "for (col_name in names(cols)[cols]) {\n",
    "    cat(\"Processing column:\", col_name, \"\\n\")\n",
    "    column_data <- data_discretized[[col_name]]\n",
    "    hist_plot <- hist(column_data, freq = FALSE, main = paste(\"Histogram for\", col_name))\n",
    "    print(plot(hist_plot))\n",
    "    lines(density(column_data))\n",
    "}"
   ]
  },
  {
   "cell_type": "markdown",
   "metadata": {
    "slideshow": {
     "slide_type": "slide"
    }
   },
   "source": [
    "### Power Transform"
   ]
  },
  {
   "cell_type": "markdown",
   "metadata": {
    "slideshow": {
     "slide_type": "slide"
    }
   },
   "source": [
    "#### Data to Transform"
   ]
  },
  {
   "cell_type": "markdown",
   "metadata": {
    "slideshow": {
     "slide_type": "slide"
    }
   },
   "source": [
    "##### Evaluating Yeo-Johnson tranform"
   ]
  },
  {
   "cell_type": "markdown",
   "metadata": {
    "slideshow": {
     "slide_type": "slide"
    }
   },
   "source": [
    "#### Yeo-Johnson Transform"
   ]
  },
  {
   "cell_type": "markdown",
   "metadata": {},
   "source": [
    "<font color='tomato'>Select columns</font>"
   ]
  },
  {
   "cell_type": "code",
   "execution_count": 37,
   "metadata": {},
   "outputs": [],
   "source": [
    "cols <- sapply(data, is.numeric)"
   ]
  },
  {
   "cell_type": "markdown",
   "metadata": {},
   "source": [
    "<font color='darkgrey'><b>Operation</font>"
   ]
  },
  {
   "cell_type": "code",
   "execution_count": 39,
   "metadata": {
    "vscode": {
     "languageId": "r"
    }
   },
   "outputs": [
    {
     "name": "stderr",
     "output_type": "stream",
     "text": [
      "Warning message in optimize(yj_loglik, lower = lower, upper = upper, maximum = TRUE, :\n",
      "“NA/Inf replaced by maximum positive value”\n",
      "Warning message in optimize(yj_loglik, lower = lower, upper = upper, maximum = TRUE, :\n",
      "“NA/Inf replaced by maximum positive value”\n",
      "Warning message in optimize(yj_loglik, lower = lower, upper = upper, maximum = TRUE, :\n",
      "“NA/Inf replaced by maximum positive value”\n",
      "Warning message in optimize(yj_loglik, lower = lower, upper = upper, maximum = TRUE, :\n",
      "“NA/Inf replaced by maximum positive value”\n",
      "Warning message in optimize(yj_loglik, lower = lower, upper = upper, maximum = TRUE, :\n",
      "“NA/Inf replaced by maximum positive value”\n",
      "Warning message in optimize(yj_loglik, lower = lower, upper = upper, maximum = TRUE, :\n",
      "“NA/Inf replaced by maximum positive value”\n",
      "Warning message in optimize(yj_loglik, lower = lower, upper = upper, maximum = TRUE, :\n",
      "“NA/Inf replaced by maximum positive value”\n",
      "Warning message in optimize(yj_loglik, lower = lower, upper = upper, maximum = TRUE, :\n",
      "“NA/Inf replaced by maximum positive value”\n",
      "Warning message in optimize(yj_loglik, lower = lower, upper = upper, maximum = TRUE, :\n",
      "“NA/Inf replaced by maximum positive value”\n",
      "Warning message in optimize(yj_loglik, lower = lower, upper = upper, maximum = TRUE, :\n",
      "“NA/Inf replaced by maximum positive value”\n",
      "Warning message in optimize(yj_loglik, lower = lower, upper = upper, maximum = TRUE, :\n",
      "“NA/Inf replaced by maximum positive value”\n",
      "Warning message in optimize(yj_loglik, lower = lower, upper = upper, maximum = TRUE, :\n",
      "“NA/Inf replaced by maximum positive value”\n",
      "Warning message in optimize(yj_loglik, lower = lower, upper = upper, maximum = TRUE, :\n",
      "“NA/Inf replaced by maximum positive value”\n",
      "Warning message in optimize(yj_loglik, lower = lower, upper = upper, maximum = TRUE, :\n",
      "“NA/Inf replaced by maximum positive value”\n"
     ]
    },
    {
     "name": "stdout",
     "output_type": "stream",
     "text": [
      "Processing column: ano \n"
     ]
    },
    {
     "data": {
      "image/png": "[encoded data removed]",
      "text/plain": [
       "Plot with title “Histogram for ano”"
      ]
     },
     "metadata": {
      "image/png": {
       "height": 420,
       "width": 420
      }
     },
     "output_type": "display_data"
    },
    {
     "name": "stdout",
     "output_type": "stream",
     "text": [
      "NULL\n",
      "Processing column: semana \n"
     ]
    },
    {
     "data": {
      "image/png": "[encoded data removed]",
      "text/plain": [
       "Plot with title “Histogram of column_data”"
      ]
     },
     "metadata": {
      "image/png": {
       "height": 420,
       "width": 420
      }
     },
     "output_type": "display_data"
    },
    {
     "data": {
      "image/png": "[encoded data removed]",
      "text/plain": [
       "Plot with title “Histogram for semana”"
      ]
     },
     "metadata": {
      "image/png": {
       "height": 420,
       "width": 420
      }
     },
     "output_type": "display_data"
    },
    {
     "name": "stdout",
     "output_type": "stream",
     "text": [
      "NULL\n",
      "Processing column: n_vacunas \n"
     ]
    },
    {
     "data": {
      "image/png": "[encoded data removed]",
      "text/plain": [
       "Plot with title “Histogram of column_data”"
      ]
     },
     "metadata": {
      "image/png": {
       "height": 420,
       "width": 420
      }
     },
     "output_type": "display_data"
    },
    {
     "name": "stdout",
     "output_type": "stream",
     "text": [
      "NULL\n"
     ]
    },
    {
     "ename": "ERROR",
     "evalue": "Error in density.default(column_data): 'x' contains missing values\n",
     "output_type": "error",
     "traceback": [
      "Error in density.default(column_data): 'x' contains missing values\nTraceback:\n",
      "1. lines(density(column_data))",
      "2. density(column_data)",
      "3. density.default(column_data)",
      "4. stop(\"'x' contains missing values\")"
     ]
    },
    {
     "data": {
      "image/png": "[encoded data removed]",
      "text/plain": [
       "Plot with title “Histogram for n_vacunas”"
      ]
     },
     "metadata": {
      "image/png": {
       "height": 420,
       "width": 420
      }
     },
     "output_type": "display_data"
    },
    {
     "data": {
      "image/png": "[encoded data removed]",
      "text/plain": [
       "Plot with title “Histogram of column_data”"
      ]
     },
     "metadata": {
      "image/png": {
       "height": 420,
       "width": 420
      }
     },
     "output_type": "display_data"
    }
   ],
   "source": [
    "if (!require(bestNormalize)) {\n",
    "  install.packages('bestNormalize')\n",
    "}\n",
    "\n",
    "# load the bestNormalize package\n",
    "library(bestNormalize)\n",
    "\n",
    "# assuming 'data' is your data frame\n",
    "\n",
    "# identify the numeric columns\n",
    "numeric_cols <- sapply(data, is.numeric)\n",
    "\n",
    "# create a copy of the original data frame\n",
    "data_yeojohnson <- data\n",
    "\n",
    "# apply the Yeo-Johnson transformation to each numeric column\n",
    "for (col_name in names(numeric_cols)[numeric_cols]) {\n",
    "  yj <- yeojohnson(data[[col_name]])\n",
    "  data_yeojohnson[[col_name]] <- yj$x.t\n",
    "}\n",
    "for (col_name in names(cols)[cols]) {\n",
    "    cat(\"Processing column:\", col_name, \"\\n\")\n",
    "    column_data <- data_yeojohnson[[col_name]]\n",
    "    hist_plot <- hist(column_data, freq = FALSE, main = paste(\"Histogram for\", col_name))\n",
    "    print(plot(hist_plot))\n",
    "    lines(density(column_data))\n",
    "}"
   ]
  },
  {
   "cell_type": "code",
   "execution_count": null,
   "metadata": {},
   "outputs": [],
   "source": []
  }
 ],
 "metadata": {
  "anaconda-cloud": {},
  "celltoolbar": "Slideshow",
  "hide_input": false,
  "kernelspec": {
   "display_name": "R",
   "language": "R",
   "name": "ir"
  },
  "language_info": {
   "codemirror_mode": "r",
   "file_extension": ".r",
   "mimetype": "text/x-r-source",
   "name": "R",
   "pygments_lexer": "r",
   "version": "4.1.2"
  },
  "latex_envs": {
   "LaTeX_envs_menu_present": true,
   "autoclose": false,
   "autocomplete": true,
   "bibliofile": "biblio.bib",
   "cite_by": "apalike",
   "current_citInitial": 1,
   "eqLabelWithNumbers": true,
   "eqNumInitial": 1,
   "hotkeys": {
    "equation": "Ctrl-E",
    "itemize": "Ctrl-I"
   },
   "labels_anchors": false,
   "latex_user_defs": false,
   "report_style_numbering": true,
   "user_envs_cfg": false
  },
  "toc": {
   "base_numbering": 1,
   "nav_menu": {},
   "number_sections": true,
   "sideBar": true,
   "skip_h1_title": true,
   "title_cell": "Table of Contents",
   "title_sidebar": "Contents",
   "toc_cell": false,
   "toc_position": {
    "height": "calc(100% - 180px)",
    "left": "10px",
    "top": "150px",
    "width": "450.433px"
   },
   "toc_section_display": true,
   "toc_window_display": true
  },
  "varInspector": {
   "cols": {
    "lenName": 16,
    "lenType": 16,
    "lenVar": 40
   },
   "kernels_config": {
    "python": {
     "delete_cmd_postfix": "",
     "delete_cmd_prefix": "del ",
     "library": "var_list.py",
     "varRefreshCmd": "print(var_dic_list())"
    },
    "r": {
     "delete_cmd_postfix": ") ",
     "delete_cmd_prefix": "rm(",
     "library": "var_list.r",
     "varRefreshCmd": "cat(var_dic_list()) "
    }
   },
   "types_to_exclude": [
    "module",
    "function",
    "builtin_function_or_method",
    "instance",
    "_Feature"
   ],
   "window_display": false
  }
 },
 "nbformat": 4,
 "nbformat_minor": 4
}
