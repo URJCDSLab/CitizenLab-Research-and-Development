{
 "cells": [
  {
   "cell_type": "code",
   "execution_count": 1,
   "metadata": {},
   "outputs": [],
   "source": [
    "from pytrends.request import TrendReq\n",
    "import pandas as pd"
   ]
  },
  {
   "cell_type": "code",
   "execution_count": 2,
   "metadata": {},
   "outputs": [],
   "source": [
    "# Iniciar sesión en Google Trends\n",
    "pytrend = TrendReq()\n",
    "\n"
   ]
  },
  {
   "cell_type": "code",
   "execution_count": 3,
   "metadata": {},
   "outputs": [],
   "source": [
    "# Especificar la palabra clave a buscar\n",
    "keyword = 'gripe'\n",
    "\n"
   ]
  },
  {
   "cell_type": "code",
   "execution_count": 4,
   "metadata": {},
   "outputs": [],
   "source": [
    "# Establecer la región de búsqueda\n",
    "pytrend.build_payload(kw_list=[keyword], geo='ES-MD')\n",
    "\n"
   ]
  },
  {
   "cell_type": "code",
   "execution_count": 5,
   "metadata": {},
   "outputs": [
    {
     "ename": "NotImplementedError",
     "evalue": "This method has been removed for incorrectness. It will be removed completely in v5.\nIf you'd like similar functionality, please try implementing it yourself and consider submitting a pull request to add it to pytrends.\n          \nThere is discussion at:\nhttps://github.com/GeneralMills/pytrends/pull/542",
     "output_type": "error",
     "traceback": [
      "\u001b[0;31m---------------------------------------------------------------------------\u001b[0m",
      "\u001b[0;31mNotImplementedError\u001b[0m                       Traceback (most recent call last)",
      "\u001b[0;32m<ipython-input-5-d768b1b16211>\u001b[0m in \u001b[0;36m<module>\u001b[0;34m\u001b[0m\n\u001b[1;32m      1\u001b[0m \u001b[0;31m# Obtener los datos de tendencias de búsqueda por día\u001b[0m\u001b[0;34m\u001b[0m\u001b[0;34m\u001b[0m\u001b[0;34m\u001b[0m\u001b[0m\n\u001b[0;32m----> 2\u001b[0;31m \u001b[0mtrend_daily\u001b[0m \u001b[0;34m=\u001b[0m \u001b[0mpytrend\u001b[0m\u001b[0;34m.\u001b[0m\u001b[0mget_historical_interest\u001b[0m\u001b[0;34m(\u001b[0m\u001b[0;34m[\u001b[0m\u001b[0mkeyword\u001b[0m\u001b[0;34m]\u001b[0m\u001b[0;34m,\u001b[0m \u001b[0myear_start\u001b[0m\u001b[0;34m=\u001b[0m\u001b[0;36m2021\u001b[0m\u001b[0;34m,\u001b[0m \u001b[0mmonth_start\u001b[0m\u001b[0;34m=\u001b[0m\u001b[0;36m9\u001b[0m\u001b[0;34m,\u001b[0m \u001b[0mday_start\u001b[0m\u001b[0;34m=\u001b[0m\u001b[0;36m1\u001b[0m\u001b[0;34m,\u001b[0m \u001b[0myear_end\u001b[0m\u001b[0;34m=\u001b[0m\u001b[0;36m2023\u001b[0m\u001b[0;34m,\u001b[0m \u001b[0mmonth_end\u001b[0m\u001b[0;34m=\u001b[0m\u001b[0;36m1\u001b[0m\u001b[0;34m,\u001b[0m \u001b[0mday_end\u001b[0m\u001b[0;34m=\u001b[0m\u001b[0;36m31\u001b[0m\u001b[0;34m,\u001b[0m \u001b[0mcat\u001b[0m\u001b[0;34m=\u001b[0m\u001b[0;36m0\u001b[0m\u001b[0;34m,\u001b[0m \u001b[0mgeo\u001b[0m\u001b[0;34m=\u001b[0m\u001b[0;34m'ES-MD'\u001b[0m\u001b[0;34m,\u001b[0m \u001b[0mgprop\u001b[0m\u001b[0;34m=\u001b[0m\u001b[0;34m''\u001b[0m\u001b[0;34m,\u001b[0m \u001b[0msleep\u001b[0m\u001b[0;34m=\u001b[0m\u001b[0;36m0\u001b[0m\u001b[0;34m)\u001b[0m\u001b[0;34m\u001b[0m\u001b[0;34m\u001b[0m\u001b[0m\n\u001b[0m\u001b[1;32m      3\u001b[0m \u001b[0;34m\u001b[0m\u001b[0m\n",
      "\u001b[0;32m~/opt/anaconda3/lib/python3.8/site-packages/pytrends/request.py\u001b[0m in \u001b[0;36mget_historical_interest\u001b[0;34m(self, *args, **kwargs)\u001b[0m\n\u001b[1;32m    586\u001b[0m \u001b[0;34m\u001b[0m\u001b[0m\n\u001b[1;32m    587\u001b[0m     \u001b[0;32mdef\u001b[0m \u001b[0mget_historical_interest\u001b[0m\u001b[0;34m(\u001b[0m\u001b[0mself\u001b[0m\u001b[0;34m,\u001b[0m \u001b[0;34m*\u001b[0m\u001b[0margs\u001b[0m\u001b[0;34m,\u001b[0m \u001b[0;34m**\u001b[0m\u001b[0mkwargs\u001b[0m\u001b[0;34m)\u001b[0m\u001b[0;34m:\u001b[0m\u001b[0;34m\u001b[0m\u001b[0;34m\u001b[0m\u001b[0m\n\u001b[0;32m--> 588\u001b[0;31m         raise NotImplementedError(\n\u001b[0m\u001b[1;32m    589\u001b[0m             \"\"\"This method has been removed for incorrectness. It will be removed completely in v5.\n\u001b[1;32m    590\u001b[0m \u001b[0mIf\u001b[0m \u001b[0myou\u001b[0m\u001b[0;31m'\u001b[0m\u001b[0md\u001b[0m \u001b[0mlike\u001b[0m \u001b[0msimilar\u001b[0m \u001b[0mfunctionality\u001b[0m\u001b[0;34m,\u001b[0m \u001b[0mplease\u001b[0m \u001b[0;32mtry\u001b[0m \u001b[0mimplementing\u001b[0m \u001b[0mit\u001b[0m \u001b[0myourself\u001b[0m \u001b[0;32mand\u001b[0m \u001b[0mconsider\u001b[0m \u001b[0msubmitting\u001b[0m \u001b[0ma\u001b[0m \u001b[0mpull\u001b[0m \u001b[0mrequest\u001b[0m \u001b[0mto\u001b[0m \u001b[0madd\u001b[0m \u001b[0mit\u001b[0m \u001b[0mto\u001b[0m \u001b[0mpytrends\u001b[0m\u001b[0;34m.\u001b[0m\u001b[0;34m\u001b[0m\u001b[0;34m\u001b[0m\u001b[0m\n",
      "\u001b[0;31mNotImplementedError\u001b[0m: This method has been removed for incorrectness. It will be removed completely in v5.\nIf you'd like similar functionality, please try implementing it yourself and consider submitting a pull request to add it to pytrends.\n          \nThere is discussion at:\nhttps://github.com/GeneralMills/pytrends/pull/542"
     ]
    }
   ],
   "source": [
    "# Obtener los datos de tendencias de búsqueda por día\n",
    "trend_daily = pytrend.get_historical_interest([keyword], year_start=2021, month_start=9, day_start=1, year_end=2023, month_end=1, day_end=31, cat=0, geo='ES-MD', gprop='', sleep=0)\n",
    "\n"
   ]
  },
  {
   "cell_type": "code",
   "execution_count": null,
   "metadata": {},
   "outputs": [],
   "source": [
    "# Seleccionar solo los datos correspondientes al período septiembre 2021 - enero 2023\n",
    "start_date = '2021-09-01'\n",
    "end_date = '2023-01-31'\n",
    "trend_daily = trend_daily.loc[start_date:end_date]\n",
    "\n",
    "# Convertir los datos a un formato de marco de datos\n",
    "trend_daily = pd.DataFrame(trend_daily.stack(), columns=['busquedas_gripe']).reset_index()\n",
    "\n",
    "# Agrupar los datos por fecha y calcular el número de búsquedas por zona de la Comunidad de Madrid\n",
    "trend_daily = trend_daily.groupby(['date', 'geoName']).sum()\n",
    "\n",
    "# Guardar los datos en un archivo CSV\n",
    "trend_daily.to_csv('busquedas_diarias_gripe_zonas_CAM.csv')"
   ]
  }
 ],
 "metadata": {
  "kernelspec": {
   "display_name": "base",
   "language": "python",
   "name": "python3"
  },
  "language_info": {
   "codemirror_mode": {
    "name": "ipython",
    "version": 3
   },
   "file_extension": ".py",
   "mimetype": "text/x-python",
   "name": "python",
   "nbconvert_exporter": "python",
   "pygments_lexer": "ipython3",
   "version": "3.8.3"
  },
  "orig_nbformat": 4,
  "vscode": {
   "interpreter": {
    "hash": "8c56b91e2f07a06320e41890e2e1ca5ee555d36a1cd13f5aa3eab89c36b37370"
   }
  }
 },
 "nbformat": 4,
 "nbformat_minor": 2
}
