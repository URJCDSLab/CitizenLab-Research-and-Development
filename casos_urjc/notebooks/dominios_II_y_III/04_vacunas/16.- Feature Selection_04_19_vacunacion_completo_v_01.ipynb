{
 "cells": [
  {
   "cell_type": "markdown",
   "metadata": {
    "slideshow": {
     "slide_type": "slide"
    }
   },
   "source": [
    "<img src=\".\\images\\Logo.png\" width=150 align=\"left\" /> <img src=\".\\images\\Logo2.jpg\" width=450 align=\"right\" />"
   ]
  },
  {
   "cell_type": "markdown",
   "metadata": {
    "slideshow": {
     "slide_type": "slide"
    }
   },
   "source": [
    "\n",
    "# <center><font color= #1e8449 > <b>CU04_Optimización de vacunas</font></center>"
   ]
  },
  {
   "cell_type": "markdown",
   "metadata": {
    "slideshow": {
     "slide_type": "slide"
    }
   },
   "source": [
    "<font color='steelblue'><b>Citizenlab Data Science Methodology > III - Feature Engineering Domain </font>\n",
    "***\n",
    "> # <font color='steelblue'> <b>16.- Feature Selection</font>"
   ]
  },
  {
   "cell_type": "markdown",
   "metadata": {
    "slideshow": {
     "slide_type": "slide"
    }
   },
   "source": [
    "<font color='steelblue'>Feature Selection is the process where you automatically or manually select the most relevant features which contribute most to the correct output of the model.</font>\n"
   ]
  },
  {
   "cell_type": "markdown",
   "metadata": {
    "slideshow": {
     "slide_type": "slide"
    }
   },
   "source": [
    "## <font color='steelblue'>Tasks</font>"
   ]
  },
  {
   "cell_type": "markdown",
   "metadata": {
    "slideshow": {
     "slide_type": "slide"
    }
   },
   "source": [
    "<font color='steelblue'><b>Perform Selection of Categorical-Input/Categorical-Output</b>\t\n",
    "- Encoding-Categorical-Features\n",
    "- Chi-Squared-Feature-Selection\n",
    "- Mutual-Information-Feature-Selection\n",
    "- Evaluate-a-Logistic-Regression-model\n",
    "    \n",
    "<font color='steelblue'><b>Perform Selection of Numerical-Input/Categorical-Output</b>\t\n",
    "- ANOVA-F-test-Feature-Selection\n",
    "- Mutual-Information-Feature-Selection\n",
    "- Evaluating-a-Logistic-Regression-model\n",
    "- Tuning-the-Number-of-Selected-Features\n",
    "    \n",
    "<font color='steelblue'><b>Perform Selection of Numerical-Input/Numerical-Output</b>\t\n",
    "- Correlation-with-the-outcome-Feature-Selection\n",
    "- Mutual-Information-Feature-Selection\n",
    "- Evaluate-a-Lineal-Regression-model\n",
    "- Tuning-the-Number-of-Selected-Features\n",
    "    \n",
    "<font color='steelblue'><b>Perform Selection of Any-data</b>\t\n",
    "- RFE-(Recursive-Feature-Elimination)\n",
    "- Tuning-the-Number-of-Selected-Features\n",
    "- Automatically-Select-the-Number-of-Features\n",
    "    \n",
    "<font color='steelblue'><b>Explore the use of diferent algorithms wrapped by RFE</b>\t\n",
    "    \n",
    "<font color='steelblue'><b>Explore the use od Hybrid feature selection algorithms</b>\t"
   ]
  },
  {
   "cell_type": "markdown",
   "metadata": {},
   "source": [
    "## Consideraciones casos CitizenLab programados en R\n",
    "\n",
    "* Algunas de las tareas de este proceso se han realizado en los notebooks del proceso 05 Data Collection porque eran necesarias para las tareas ETL. En esos casos, en este notebook se referencia al notebook del proceso 05 correspondiente\n",
    "* Otras tareas típicas de este proceso se realizan en los notebooks del dominio IV al ser más eficiente realizarlas en el propio pipeline de modelización.\n",
    "* Por tanto en los notebooks de este proceso de manera general se incluyen las comprobaciones necesarias, y comentarios si procede\n",
    "* Las tareas del proceso se van a aplicar solo a los archivos que forman parte del despliegue, ya que hay muchos archivos intermedios que no procede pasar por este proceso\n",
    "* El nombre de archivo del notebook hace referencia al nombre de archivo del proceso 05 al que se aplica este proceso, por eso pueden no ser correlativa la numeración\n",
    "* Las comprobaciones se van a realizar teniendo en cuenta que el lenguaje utilizado en el despliegue de este caso es R"
   ]
  },
  {
   "cell_type": "markdown",
   "metadata": {},
   "source": [
    "## <font color='green'>File</font>"
   ]
  },
  {
   "cell_type": "markdown",
   "metadata": {},
   "source": [
    "- <font color='steelblue'> <b>Input File: CU_04_08_20_vacunacion_gripe_train_and_test.csv</font>\n",
    "- <font color='steelblue'> <b>Output File: No aplica</font>"
   ]
  },
  {
   "cell_type": "markdown",
   "metadata": {},
   "source": [
    "### Encoding\n",
    "\n",
    "Con la siguiente expresión se evitan problemas con el encoding al ejecutar el notebook. Es posible que deba ser eliminada o adaptada a la máquina en la que se ejecute el código."
   ]
  },
  {
   "cell_type": "code",
   "execution_count": 1,
   "metadata": {
    "vscode": {
     "languageId": "r"
    }
   },
   "outputs": [
    {
     "name": "stderr",
     "output_type": "stream",
     "text": [
      "Warning message in Sys.setlocale(category = \"LC_ALL\", locale = \"es_ES.UTF-8\"):\n",
      "“OS reports request to set locale to \"es_ES.UTF-8\" cannot be honored”\n"
     ]
    },
    {
     "data": {
      "text/html": [
       "''"
      ],
      "text/latex": [
       "''"
      ],
      "text/markdown": [
       "''"
      ],
      "text/plain": [
       "[1] \"\""
      ]
     },
     "metadata": {},
     "output_type": "display_data"
    }
   ],
   "source": [
    "Sys.setlocale(category = \"LC_ALL\", locale = \"es_ES.UTF-8\")"
   ]
  },
  {
   "cell_type": "markdown",
   "metadata": {},
   "source": [
    "## <font color='green'>Settings</font>"
   ]
  },
  {
   "cell_type": "markdown",
   "metadata": {},
   "source": [
    "### Libraries to use"
   ]
  },
  {
   "cell_type": "code",
   "execution_count": 9,
   "metadata": {
    "vscode": {
     "languageId": "r"
    }
   },
   "outputs": [
    {
     "name": "stderr",
     "output_type": "stream",
     "text": [
      "Loading required package: ggplot2\n",
      "\n",
      "Loading required package: lattice\n",
      "\n"
     ]
    }
   ],
   "source": [
    "library(caret)\n",
    "library(readr)\n",
    "library(dplyr)\n",
    "library(tidyr)\n",
    "library(forcats)\n",
    "library(lubridate)\n"
   ]
  },
  {
   "cell_type": "markdown",
   "metadata": {},
   "source": [
    "### Paths"
   ]
  },
  {
   "cell_type": "code",
   "execution_count": 3,
   "metadata": {
    "vscode": {
     "languageId": "r"
    }
   },
   "outputs": [],
   "source": [
    "iPath <- \"Data/Input/\"\n",
    "oPath <- \"Data/Output/\""
   ]
  },
  {
   "cell_type": "markdown",
   "metadata": {},
   "source": [
    "## <font color='green'>Data Load</font>"
   ]
  },
  {
   "cell_type": "markdown",
   "metadata": {},
   "source": [
    "<font color='tomato'><b> OPCION A:</b> Seleccionar fichero en ventana para mayor comodidad</font> "
   ]
  },
  {
   "cell_type": "markdown",
   "metadata": {},
   "source": [
    "Data load using the {tcltk} package. Ucomment the line if using this option"
   ]
  },
  {
   "cell_type": "code",
   "execution_count": 4,
   "metadata": {
    "vscode": {
     "languageId": "r"
    }
   },
   "outputs": [],
   "source": [
    "# file_data <- tcltk::tk_choose.files(multi = FALSE)"
   ]
  },
  {
   "cell_type": "markdown",
   "metadata": {},
   "source": [
    "<font color='tomato'><b> OPCION B:</b> Especificar el nombre de archivo</font>\n",
    "\n"
   ]
  },
  {
   "cell_type": "code",
   "execution_count": 28,
   "metadata": {
    "vscode": {
     "languageId": "r"
    }
   },
   "outputs": [
    {
     "name": "stdout",
     "output_type": "stream",
     "text": [
      "Se leerán datos del archivo:  Data/Input/CU_04_08_20_vacunacion_gripe_train_and_test.csv"
     ]
    }
   ],
   "source": [
    "iFile <- \"CU_04_08_20_vacunacion_gripe_train_and_test.csv\"\n",
    "file_data <- paste0(iPath, iFile)\n",
    "\n",
    "if(file.exists(file_data)){\n",
    "    cat(\"Se leerán datos del archivo: \", file_data)\n",
    "} else{\n",
    "    warning(\"Cuidado: el archivo no existe.\")\n",
    "}\n"
   ]
  },
  {
   "cell_type": "markdown",
   "metadata": {},
   "source": [
    "#### Data file to dataframe\n",
    "\n",
    "Usar la función adecuada según el formato de entrada (xlsx, csv, json, ...)"
   ]
  },
  {
   "cell_type": "code",
   "execution_count": 29,
   "metadata": {
    "vscode": {
     "languageId": "r"
    }
   },
   "outputs": [
    {
     "name": "stderr",
     "output_type": "stream",
     "text": [
      "\u001b[1mRows: \u001b[22m\u001b[34m21736\u001b[39m \u001b[1mColumns: \u001b[22m\u001b[34m49\u001b[39m\n",
      "\u001b[36m──\u001b[39m \u001b[1mColumn specification\u001b[22m \u001b[36m─────────────────────────────────────────────────────────────────────────────────────────────────────────────────────────\u001b[39m\n",
      "\u001b[1mDelimiter:\u001b[22m \",\"\n",
      "\u001b[31mchr\u001b[39m  (3): GEOCODIGO, DESBDT, nombre_zona\n",
      "\u001b[32mdbl\u001b[39m (45): ano, semana, n_vacunas, n_citas, tmed, prec, velmedia, presMax, be...\n",
      "\u001b[33mlgl\u001b[39m  (1): is_train\n",
      "\n",
      "\u001b[36mℹ\u001b[39m Use `spec()` to retrieve the full column specification for this data.\n",
      "\u001b[36mℹ\u001b[39m Specify the column types or set `show_col_types = FALSE` to quiet this message.\n"
     ]
    }
   ],
   "source": [
    "data <- read_csv(file_data)\n"
   ]
  },
  {
   "cell_type": "markdown",
   "metadata": {},
   "source": [
    "Estructura de  los datos:"
   ]
  },
  {
   "cell_type": "code",
   "execution_count": 30,
   "metadata": {
    "vscode": {
     "languageId": "r"
    }
   },
   "outputs": [
    {
     "name": "stdout",
     "output_type": "stream",
     "text": [
      "Rows: 21,736\n",
      "Columns: 49\n",
      "$ GEOCODIGO         \u001b[3m\u001b[90m<chr>\u001b[39m\u001b[23m \"259\", \"260\", \"041\", \"025\", \"046\", \"159\", \"065\", \"09…\n",
      "$ DESBDT            \u001b[3m\u001b[90m<chr>\u001b[39m\u001b[23m \"V Centenario\", \"Valdeacederas\", \"Canillejas\", \"Bara…\n",
      "$ ano               \u001b[3m\u001b[90m<dbl>\u001b[39m\u001b[23m 2022, 2022, 2022, 2022, 2022, 2022, 2022, 2021, 2023…\n",
      "$ semana            \u001b[3m\u001b[90m<dbl>\u001b[39m\u001b[23m 34, 8, 9, 49, 24, 3, 8, 47, 1, 2, 52, 39, 16, 50, 34…\n",
      "$ n_vacunas         \u001b[3m\u001b[90m<dbl>\u001b[39m\u001b[23m 0, 0, 0, 292, 0, 524, 0, 248, 204, 205, NA, 0, 0, 51…\n",
      "$ n_citas           \u001b[3m\u001b[90m<dbl>\u001b[39m\u001b[23m 0, 0, 0, 280, 0, 498, 0, 228, 198, 187, NA, 0, 0, 51…\n",
      "$ tmed              \u001b[3m\u001b[90m<dbl>\u001b[39m\u001b[23m 27.278748, 9.577289, 8.536554, 9.065363, 29.905728, …\n",
      "$ prec              \u001b[3m\u001b[90m<dbl>\u001b[39m\u001b[23m 0.169955881, 1.264910043, 3.122881160, 7.313886680, …\n",
      "$ velmedia          \u001b[3m\u001b[90m<dbl>\u001b[39m\u001b[23m 2.297067, 1.890425, 2.418071, 1.562328, 2.564749, 1.…\n",
      "$ presMax           \u001b[3m\u001b[90m<dbl>\u001b[39m\u001b[23m 940.0420, 944.1770, 949.7179, 941.8342, 940.5669, 95…\n",
      "$ benzene           \u001b[3m\u001b[90m<dbl>\u001b[39m\u001b[23m 0.1764413, 0.4591543, 0.4099159, 0.4224172, 0.195865…\n",
      "$ co                \u001b[3m\u001b[90m<dbl>\u001b[39m\u001b[23m 0.4987735, 0.3960647, 0.3951587, NA, 0.2891224, 0.50…\n",
      "$ no                \u001b[3m\u001b[90m<dbl>\u001b[39m\u001b[23m NA, 6.611337, 9.331224, 14.007722, 4.063517, 24.4756…\n",
      "$ no2               \u001b[3m\u001b[90m<dbl>\u001b[39m\u001b[23m 14.21113, 34.67671, 30.29999, 32.54832, 26.06913, 44…\n",
      "$ nox               \u001b[3m\u001b[90m<dbl>\u001b[39m\u001b[23m 18.00109, 48.94660, 45.22346, 56.75574, 30.35311, 74…\n",
      "$ o3                \u001b[3m\u001b[90m<dbl>\u001b[39m\u001b[23m 80.90659, 42.06663, 48.88088, 26.68276, 64.55205, 31…\n",
      "$ pm10              \u001b[3m\u001b[90m<dbl>\u001b[39m\u001b[23m 20.117087, 15.042152, 14.002432, 18.032354, 55.79346…\n",
      "$ pm2.5             \u001b[3m\u001b[90m<dbl>\u001b[39m\u001b[23m 10.628064, 5.539590, 7.124192, 6.793868, 19.520373, …\n",
      "$ so2               \u001b[3m\u001b[90m<dbl>\u001b[39m\u001b[23m 2.794934, 3.507164, 2.692125, 2.351139, 3.397640, 2.…\n",
      "$ campana           \u001b[3m\u001b[90m<dbl>\u001b[39m\u001b[23m NA, NA, NA, 2022, NA, 2021, NA, 2021, 2022, 2021, 20…\n",
      "$ scampana          \u001b[3m\u001b[90m<dbl>\u001b[39m\u001b[23m NA, NA, NA, 14, NA, 20, NA, 12, 18, 19, 17, 4, NA, 1…\n",
      "$ capacidad_zona    \u001b[3m\u001b[90m<dbl>\u001b[39m\u001b[23m 7957, 6537, 7167, 5633, 3864, 12583, 8544, 5077, 494…\n",
      "$ prop_riesgo       \u001b[3m\u001b[90m<dbl>\u001b[39m\u001b[23m 0.11393237, 0.15763986, 0.25500690, 0.14452370, 0.26…\n",
      "$ tasa_riesgo       \u001b[3m\u001b[90m<dbl>\u001b[39m\u001b[23m 0.013477754, 0.015731142, 0.009177382, 0.013099129, …\n",
      "$ tasa_mayores      \u001b[3m\u001b[90m<dbl>\u001b[39m\u001b[23m 0.023033610, 0.032817374, 0.028147027, 0.020829657, …\n",
      "$ poblacion_mayores \u001b[3m\u001b[90m<dbl>\u001b[39m\u001b[23m 0.10330662, 0.14362062, 0.23161874, 0.13058449, 0.24…\n",
      "$ nombre_zona       \u001b[3m\u001b[90m<chr>\u001b[39m\u001b[23m \"V Centenario\", \"Valdeacederas\", \"Canillejas\", \"Bara…\n",
      "$ nsec              \u001b[3m\u001b[90m<dbl>\u001b[39m\u001b[23m 17, 18, 22, 13, 14, 42, 32, 13, 17, 11, NA, 15, 15, …\n",
      "$ t3_1              \u001b[3m\u001b[90m<dbl>\u001b[39m\u001b[23m 36.73039, 41.41412, 45.44882, 39.78001, 46.13171, 46…\n",
      "$ t1_1              \u001b[3m\u001b[90m<dbl>\u001b[39m\u001b[23m 31778, 26202, 28658, 22492, 15450, 50478, 34148, 202…\n",
      "$ t2_1              \u001b[3m\u001b[90m<dbl>\u001b[39m\u001b[23m 0.5084658, 0.5329728, 0.5316594, 0.5189021, 0.551191…\n",
      "$ t2_2              \u001b[3m\u001b[90m<dbl>\u001b[39m\u001b[23m 0.4915342, 0.4670272, 0.4683406, 0.4810979, 0.448809…\n",
      "$ t4_1              \u001b[3m\u001b[90m<dbl>\u001b[39m\u001b[23m 0.22551283, 0.12790298, 0.12603707, 0.18104432, 0.11…\n",
      "$ t4_2              \u001b[3m\u001b[90m<dbl>\u001b[39m\u001b[23m 0.6711962, 0.7284970, 0.6423306, 0.6883785, 0.641173…\n",
      "$ t4_3              \u001b[3m\u001b[90m<dbl>\u001b[39m\u001b[23m 0.10330662, 0.14362062, 0.23161874, 0.13058449, 0.24…\n",
      "$ t5_1              \u001b[3m\u001b[90m<dbl>\u001b[39m\u001b[23m 0.1063332, 0.2295250, 0.1655070, 0.1266086, 0.165893…\n",
      "$ t6_1              \u001b[3m\u001b[90m<dbl>\u001b[39m\u001b[23m 0.1706875, 0.3477631, 0.2511757, 0.1998911, 0.261480…\n",
      "$ t7_1              \u001b[3m\u001b[90m<dbl>\u001b[39m\u001b[23m 0.05131106, 0.04606911, 0.04379644, 0.05585777, 0.06…\n",
      "$ t8_1              \u001b[3m\u001b[90m<dbl>\u001b[39m\u001b[23m 0.03892836, 0.03586418, 0.03207779, 0.04434976, 0.05…\n",
      "$ t9_1              \u001b[3m\u001b[90m<dbl>\u001b[39m\u001b[23m 0.5151383, 0.3863876, 0.3129631, 0.4611972, 0.701812…\n",
      "$ t10_1             \u001b[3m\u001b[90m<dbl>\u001b[39m\u001b[23m 0.09258503, 0.13151901, 0.13926119, 0.10460043, 0.06…\n",
      "$ t11_1             \u001b[3m\u001b[90m<dbl>\u001b[39m\u001b[23m 0.6406787, 0.5451465, 0.4600730, 0.5920292, 0.471769…\n",
      "$ t12_1             \u001b[3m\u001b[90m<dbl>\u001b[39m\u001b[23m 0.7028586, 0.6277335, 0.5346482, 0.6590530, 0.502531…\n",
      "$ area              \u001b[3m\u001b[90m<dbl>\u001b[39m\u001b[23m 2100118.9, 1164622.0, 1597474.5, 3816572.0, 870986.8…\n",
      "$ densidad_hab_km   \u001b[3m\u001b[90m<dbl>\u001b[39m\u001b[23m 15131.52443, 22498.28643, 17939.56640, 5893.24662, 1…\n",
      "$ tuits_gripe       \u001b[3m\u001b[90m<dbl>\u001b[39m\u001b[23m 60, 56, 72, 196, 46, 382, 56, 280, 24, 508, NA, 126,…\n",
      "$ interes_gripe     \u001b[3m\u001b[90m<dbl>\u001b[39m\u001b[23m 24, 15, 24, 77, 21, 42, 15, 64, 64, 69, NA, 42, 40, …\n",
      "$ Target            \u001b[3m\u001b[90m<dbl>\u001b[39m\u001b[23m 0, 0, 0, 292, 0, 524, 0, 248, 204, 205, NA, 0, 0, 51…\n",
      "$ is_train          \u001b[3m\u001b[90m<lgl>\u001b[39m\u001b[23m TRUE, TRUE, TRUE, TRUE, TRUE, TRUE, TRUE, TRUE, TRUE…\n"
     ]
    }
   ],
   "source": [
    "data |> glimpse()"
   ]
  },
  {
   "cell_type": "markdown",
   "metadata": {},
   "source": [
    "Muestra de los primeros datos:"
   ]
  },
  {
   "cell_type": "code",
   "execution_count": 31,
   "metadata": {
    "vscode": {
     "languageId": "r"
    }
   },
   "outputs": [
    {
     "data": {
      "text/html": [
       "<table class=\"dataframe\">\n",
       "<caption>A spec_tbl_df: 5 × 49</caption>\n",
       "<thead>\n",
       "\t<tr><th scope=col>GEOCODIGO</th><th scope=col>DESBDT</th><th scope=col>ano</th><th scope=col>semana</th><th scope=col>n_vacunas</th><th scope=col>n_citas</th><th scope=col>tmed</th><th scope=col>prec</th><th scope=col>velmedia</th><th scope=col>presMax</th><th scope=col>⋯</th><th scope=col>t9_1</th><th scope=col>t10_1</th><th scope=col>t11_1</th><th scope=col>t12_1</th><th scope=col>area</th><th scope=col>densidad_hab_km</th><th scope=col>tuits_gripe</th><th scope=col>interes_gripe</th><th scope=col>Target</th><th scope=col>is_train</th></tr>\n",
       "\t<tr><th scope=col>&lt;chr&gt;</th><th scope=col>&lt;chr&gt;</th><th scope=col>&lt;dbl&gt;</th><th scope=col>&lt;dbl&gt;</th><th scope=col>&lt;dbl&gt;</th><th scope=col>&lt;dbl&gt;</th><th scope=col>&lt;dbl&gt;</th><th scope=col>&lt;dbl&gt;</th><th scope=col>&lt;dbl&gt;</th><th scope=col>&lt;dbl&gt;</th><th scope=col>⋯</th><th scope=col>&lt;dbl&gt;</th><th scope=col>&lt;dbl&gt;</th><th scope=col>&lt;dbl&gt;</th><th scope=col>&lt;dbl&gt;</th><th scope=col>&lt;dbl&gt;</th><th scope=col>&lt;dbl&gt;</th><th scope=col>&lt;dbl&gt;</th><th scope=col>&lt;dbl&gt;</th><th scope=col>&lt;dbl&gt;</th><th scope=col>&lt;lgl&gt;</th></tr>\n",
       "</thead>\n",
       "<tbody>\n",
       "\t<tr><td>259</td><td>V Centenario </td><td>2022</td><td>34</td><td>  0</td><td>  0</td><td>27.278748</td><td>0.16995588</td><td>2.297067</td><td>940.0420</td><td>⋯</td><td>0.5151383</td><td>0.09258503</td><td>0.6406787</td><td>0.7028586</td><td>2100118.9</td><td>15131.524</td><td> 60</td><td>24</td><td>  0</td><td>TRUE</td></tr>\n",
       "\t<tr><td>260</td><td>Valdeacederas</td><td>2022</td><td> 8</td><td>  0</td><td>  0</td><td> 9.577289</td><td>1.26491004</td><td>1.890425</td><td>944.1770</td><td>⋯</td><td>0.3863876</td><td>0.13151901</td><td>0.5451465</td><td>0.6277335</td><td>1164622.0</td><td>22498.286</td><td> 56</td><td>15</td><td>  0</td><td>TRUE</td></tr>\n",
       "\t<tr><td>041</td><td>Canillejas   </td><td>2022</td><td> 9</td><td>  0</td><td>  0</td><td> 8.536554</td><td>3.12288116</td><td>2.418071</td><td>949.7179</td><td>⋯</td><td>0.3129631</td><td>0.13926119</td><td>0.4600730</td><td>0.5346482</td><td>1597474.5</td><td>17939.566</td><td> 72</td><td>24</td><td>  0</td><td>TRUE</td></tr>\n",
       "\t<tr><td>025</td><td>Barajas      </td><td>2022</td><td>49</td><td>292</td><td>280</td><td> 9.065363</td><td>7.31388668</td><td>1.562328</td><td>941.8342</td><td>⋯</td><td>0.4611972</td><td>0.10460043</td><td>0.5920292</td><td>0.6590530</td><td>3816572.0</td><td> 5893.247</td><td>196</td><td>77</td><td>292</td><td>TRUE</td></tr>\n",
       "\t<tr><td>046</td><td>Castelló     </td><td>2022</td><td>24</td><td>  0</td><td>  0</td><td>29.905728</td><td>0.01366852</td><td>2.564749</td><td>940.5669</td><td>⋯</td><td>0.7018126</td><td>0.06114283</td><td>0.4717699</td><td>0.5025317</td><td> 870986.8</td><td>17738.501</td><td> 46</td><td>21</td><td>  0</td><td>TRUE</td></tr>\n",
       "</tbody>\n",
       "</table>\n"
      ],
      "text/latex": [
       "A spec\\_tbl\\_df: 5 × 49\n",
       "\\begin{tabular}{lllllllllllllllllllll}\n",
       " GEOCODIGO & DESBDT & ano & semana & n\\_vacunas & n\\_citas & tmed & prec & velmedia & presMax & ⋯ & t9\\_1 & t10\\_1 & t11\\_1 & t12\\_1 & area & densidad\\_hab\\_km & tuits\\_gripe & interes\\_gripe & Target & is\\_train\\\\\n",
       " <chr> & <chr> & <dbl> & <dbl> & <dbl> & <dbl> & <dbl> & <dbl> & <dbl> & <dbl> & ⋯ & <dbl> & <dbl> & <dbl> & <dbl> & <dbl> & <dbl> & <dbl> & <dbl> & <dbl> & <lgl>\\\\\n",
       "\\hline\n",
       "\t 259 & V Centenario  & 2022 & 34 &   0 &   0 & 27.278748 & 0.16995588 & 2.297067 & 940.0420 & ⋯ & 0.5151383 & 0.09258503 & 0.6406787 & 0.7028586 & 2100118.9 & 15131.524 &  60 & 24 &   0 & TRUE\\\\\n",
       "\t 260 & Valdeacederas & 2022 &  8 &   0 &   0 &  9.577289 & 1.26491004 & 1.890425 & 944.1770 & ⋯ & 0.3863876 & 0.13151901 & 0.5451465 & 0.6277335 & 1164622.0 & 22498.286 &  56 & 15 &   0 & TRUE\\\\\n",
       "\t 041 & Canillejas    & 2022 &  9 &   0 &   0 &  8.536554 & 3.12288116 & 2.418071 & 949.7179 & ⋯ & 0.3129631 & 0.13926119 & 0.4600730 & 0.5346482 & 1597474.5 & 17939.566 &  72 & 24 &   0 & TRUE\\\\\n",
       "\t 025 & Barajas       & 2022 & 49 & 292 & 280 &  9.065363 & 7.31388668 & 1.562328 & 941.8342 & ⋯ & 0.4611972 & 0.10460043 & 0.5920292 & 0.6590530 & 3816572.0 &  5893.247 & 196 & 77 & 292 & TRUE\\\\\n",
       "\t 046 & Castelló      & 2022 & 24 &   0 &   0 & 29.905728 & 0.01366852 & 2.564749 & 940.5669 & ⋯ & 0.7018126 & 0.06114283 & 0.4717699 & 0.5025317 &  870986.8 & 17738.501 &  46 & 21 &   0 & TRUE\\\\\n",
       "\\end{tabular}\n"
      ],
      "text/markdown": [
       "\n",
       "A spec_tbl_df: 5 × 49\n",
       "\n",
       "| GEOCODIGO &lt;chr&gt; | DESBDT &lt;chr&gt; | ano &lt;dbl&gt; | semana &lt;dbl&gt; | n_vacunas &lt;dbl&gt; | n_citas &lt;dbl&gt; | tmed &lt;dbl&gt; | prec &lt;dbl&gt; | velmedia &lt;dbl&gt; | presMax &lt;dbl&gt; | ⋯ ⋯ | t9_1 &lt;dbl&gt; | t10_1 &lt;dbl&gt; | t11_1 &lt;dbl&gt; | t12_1 &lt;dbl&gt; | area &lt;dbl&gt; | densidad_hab_km &lt;dbl&gt; | tuits_gripe &lt;dbl&gt; | interes_gripe &lt;dbl&gt; | Target &lt;dbl&gt; | is_train &lt;lgl&gt; |\n",
       "|---|---|---|---|---|---|---|---|---|---|---|---|---|---|---|---|---|---|---|---|---|\n",
       "| 259 | V Centenario  | 2022 | 34 |   0 |   0 | 27.278748 | 0.16995588 | 2.297067 | 940.0420 | ⋯ | 0.5151383 | 0.09258503 | 0.6406787 | 0.7028586 | 2100118.9 | 15131.524 |  60 | 24 |   0 | TRUE |\n",
       "| 260 | Valdeacederas | 2022 |  8 |   0 |   0 |  9.577289 | 1.26491004 | 1.890425 | 944.1770 | ⋯ | 0.3863876 | 0.13151901 | 0.5451465 | 0.6277335 | 1164622.0 | 22498.286 |  56 | 15 |   0 | TRUE |\n",
       "| 041 | Canillejas    | 2022 |  9 |   0 |   0 |  8.536554 | 3.12288116 | 2.418071 | 949.7179 | ⋯ | 0.3129631 | 0.13926119 | 0.4600730 | 0.5346482 | 1597474.5 | 17939.566 |  72 | 24 |   0 | TRUE |\n",
       "| 025 | Barajas       | 2022 | 49 | 292 | 280 |  9.065363 | 7.31388668 | 1.562328 | 941.8342 | ⋯ | 0.4611972 | 0.10460043 | 0.5920292 | 0.6590530 | 3816572.0 |  5893.247 | 196 | 77 | 292 | TRUE |\n",
       "| 046 | Castelló      | 2022 | 24 |   0 |   0 | 29.905728 | 0.01366852 | 2.564749 | 940.5669 | ⋯ | 0.7018126 | 0.06114283 | 0.4717699 | 0.5025317 |  870986.8 | 17738.501 |  46 | 21 |   0 | TRUE |\n",
       "\n"
      ],
      "text/plain": [
       "  GEOCODIGO DESBDT        ano  semana n_vacunas n_citas tmed      prec      \n",
       "1 259       V Centenario  2022 34       0         0     27.278748 0.16995588\n",
       "2 260       Valdeacederas 2022  8       0         0      9.577289 1.26491004\n",
       "3 041       Canillejas    2022  9       0         0      8.536554 3.12288116\n",
       "4 025       Barajas       2022 49     292       280      9.065363 7.31388668\n",
       "5 046       Castelló      2022 24       0         0     29.905728 0.01366852\n",
       "  velmedia presMax  ⋯ t9_1      t10_1      t11_1     t12_1     area     \n",
       "1 2.297067 940.0420 ⋯ 0.5151383 0.09258503 0.6406787 0.7028586 2100118.9\n",
       "2 1.890425 944.1770 ⋯ 0.3863876 0.13151901 0.5451465 0.6277335 1164622.0\n",
       "3 2.418071 949.7179 ⋯ 0.3129631 0.13926119 0.4600730 0.5346482 1597474.5\n",
       "4 1.562328 941.8342 ⋯ 0.4611972 0.10460043 0.5920292 0.6590530 3816572.0\n",
       "5 2.564749 940.5669 ⋯ 0.7018126 0.06114283 0.4717699 0.5025317  870986.8\n",
       "  densidad_hab_km tuits_gripe interes_gripe Target is_train\n",
       "1 15131.524        60         24              0    TRUE    \n",
       "2 22498.286        56         15              0    TRUE    \n",
       "3 17939.566        72         24              0    TRUE    \n",
       "4  5893.247       196         77            292    TRUE    \n",
       "5 17738.501        46         21              0    TRUE    "
      ]
     },
     "metadata": {},
     "output_type": "display_data"
    }
   ],
   "source": [
    "data |> slice_head(n = 5)"
   ]
  },
  {
   "cell_type": "markdown",
   "metadata": {
    "slideshow": {
     "slide_type": "slide"
    }
   },
   "source": [
    "## Selecting Categorical Input / Categorical Output"
   ]
  },
  {
   "cell_type": "markdown",
   "metadata": {
    "slideshow": {
     "slide_type": "slide"
    }
   },
   "source": [
    "### Encoding Categorical Features"
   ]
  },
  {
   "cell_type": "code",
   "execution_count": 61,
   "metadata": {},
   "outputs": [],
   "source": [
    "# Convert all character columns to factors\n",
    "data <- mutate_if(data, is.character, as.factor)\n",
    "data <- na.omit(data)\n",
    "\n",
    "train_set <- subset(data[data$is_train == TRUE, ], select = -is_train)\n",
    "train_set <- select_if(train_set, is.numeric)\n",
    "test_set <- subset(data[data$is_train == FALSE, ], select = -is_train)\n",
    "test_set <- select_if(test_set, is.numeric)"
   ]
  },
  {
   "cell_type": "code",
   "execution_count": null,
   "metadata": {},
   "outputs": [],
   "source": []
  },
  {
   "cell_type": "markdown",
   "metadata": {
    "slideshow": {
     "slide_type": "slide"
    }
   },
   "source": [
    "### Chi-Squared Feature Selection"
   ]
  },
  {
   "cell_type": "markdown",
   "metadata": {},
   "source": [
    "No aplica ya que el Target no es categórico."
   ]
  },
  {
   "cell_type": "code",
   "execution_count": 62,
   "metadata": {},
   "outputs": [],
   "source": [
    "# # Set the threshold\n",
    "# threshold = 0.05\n",
    "\n",
    "# # Create an empty vector to store p-values\n",
    "# p_values <- sapply(train_data[ , -which(names(train_data) == \"Target\")], function(x) {\n",
    "#   chisq <- chisq.test(table(x, train_data$Target))\n",
    "#   return(chisq$p.value)\n",
    "# })\n",
    "\n",
    "# # Select variables with p-values less than a certain threshold (for example, 0.05)\n",
    "# selected_features <- names(p_values)[p_values < threshold]\n",
    "\n",
    "# # Print selected features\n",
    "# print(selected_features)"
   ]
  },
  {
   "cell_type": "markdown",
   "metadata": {
    "slideshow": {
     "slide_type": "slide"
    }
   },
   "source": [
    "### Mutual Information Feature Selection"
   ]
  },
  {
   "cell_type": "markdown",
   "metadata": {},
   "source": [
    "No aplica ya que el Target no es categórico."
   ]
  },
  {
   "cell_type": "code",
   "execution_count": 63,
   "metadata": {},
   "outputs": [],
   "source": [
    "# # install the necessary packages if not already installed\n",
    "# if (!require(FSelectorRcpp)) {\n",
    "#   install.packages('FSelectorRcpp')\n",
    "# }\n",
    "\n",
    "# # Load necessary library\n",
    "# library(FSelectorRcpp)\n",
    "\n",
    "# # Calculate mutual information between each variable and the target\n",
    "# mi_scores <- information_gain(train_data[, setdiff(names(train_data), \"Target\")], train_data$Target)\n",
    "\n",
    "# # Convert the top_features object into a dataframe\n",
    "# mi_scores_df <- as.data.frame(mi_scores)\n",
    "\n",
    "# # Rename the columns\n",
    "# names(mi_scores_df) <- c(\"Feature\", \"Score\")\n",
    "\n",
    "# # Order the dataframe by Score in descending order\n",
    "# mi_scores_df <- mi_scores_df[order(-mi_scores_df$Score),]\n",
    "\n",
    "# # Create a bar plot\n",
    "# ggplot(mi_scores_df, aes(x = reorder(Feature, Score), y = Score)) +\n",
    "#   geom_bar(stat = \"identity\", fill = \"steelblue\") +\n",
    "#   coord_flip() +\n",
    "#   xlab(\"Features\") +\n",
    "#   ylab(\"Mutual Information Score\") +\n",
    "#   ggtitle(\"Top Features by Mutual Information\") +\n",
    "#   theme_minimal()"
   ]
  },
  {
   "cell_type": "markdown",
   "metadata": {
    "slideshow": {
     "slide_type": "slide"
    }
   },
   "source": [
    "### Evaluating a Logistic Regression model"
   ]
  },
  {
   "cell_type": "markdown",
   "metadata": {},
   "source": [
    "No aplica ya que el Target no es categórico."
   ]
  },
  {
   "cell_type": "markdown",
   "metadata": {},
   "source": [
    "<font color='tomato'>Select numer of Features to use</font>"
   ]
  },
  {
   "cell_type": "code",
   "execution_count": 64,
   "metadata": {
    "ExecuteTime": {
     "end_time": "2021-01-06T10:31:14.165744Z",
     "start_time": "2021-01-06T10:31:14.150155Z"
    },
    "vscode": {
     "languageId": "r"
    }
   },
   "outputs": [],
   "source": [
    "# Select numer of Features to use\n",
    "k <- 5"
   ]
  },
  {
   "cell_type": "markdown",
   "metadata": {},
   "source": [
    "<font color='darkgrey'><b>Operation</font>"
   ]
  },
  {
   "cell_type": "code",
   "execution_count": 65,
   "metadata": {},
   "outputs": [],
   "source": [
    "# # Fit a linear regression model\n",
    "# model_all_features <- glm(Target ~ ., data = select_if(train_set, is.numeric))\n",
    "\n",
    "# # Predict on the test set\n",
    "# predictions <- predict(model_all_features, newdata = test_set)\n",
    "\n",
    "# # Evaluate the model\n",
    "# postResample(pred = predictions, obs = test_set$Target)"
   ]
  },
  {
   "cell_type": "code",
   "execution_count": 66,
   "metadata": {},
   "outputs": [],
   "source": [
    "# # Select the top k features\n",
    "# top_features <- names(top_features)[1:k]\n",
    "\n",
    "# # Fit a linear regression model with only the top k features\n",
    "# model_top_features <- glm(Target ~ ., data = select_if(train_set, is.numeric)[, c(top_features, \"Target\")])\n",
    "\n",
    "# # Predict on the test set\n",
    "# predictions_top_features <- predict(model_top_features, newdata = test_set[, top_features])\n",
    "\n",
    "# # Evaluate the model\n",
    "# postResample(pred = predictions_top_features, obs = test_set$Target)"
   ]
  },
  {
   "cell_type": "markdown",
   "metadata": {
    "slideshow": {
     "slide_type": "slide"
    }
   },
   "source": [
    "## Selecting Numerical Input / Categorical Output"
   ]
  },
  {
   "cell_type": "markdown",
   "metadata": {},
   "source": [
    "No aplica ya que el Target no es categórico."
   ]
  },
  {
   "cell_type": "markdown",
   "metadata": {},
   "source": [
    "<font color='darkgrey'><b>Operation</font>"
   ]
  },
  {
   "cell_type": "markdown",
   "metadata": {
    "slideshow": {
     "slide_type": "slide"
    }
   },
   "source": [
    "### ANOVA F-test Feature Selection"
   ]
  },
  {
   "cell_type": "markdown",
   "metadata": {
    "slideshow": {
     "slide_type": "slide"
    }
   },
   "source": [
    "### Mutual Information Feature Selection"
   ]
  },
  {
   "cell_type": "markdown",
   "metadata": {
    "slideshow": {
     "slide_type": "slide"
    }
   },
   "source": [
    "### Evaluating a Logistic Regression model"
   ]
  },
  {
   "cell_type": "markdown",
   "metadata": {},
   "source": [
    "<font color='tomato'>Selecting feature to use</font>"
   ]
  },
  {
   "cell_type": "code",
   "execution_count": 67,
   "metadata": {
    "ExecuteTime": {
     "end_time": "2021-01-06T11:10:23.895871Z",
     "start_time": "2021-01-06T11:10:23.880235Z"
    },
    "vscode": {
     "languageId": "r"
    }
   },
   "outputs": [],
   "source": [
    "# Select numer of Features to use\n"
   ]
  },
  {
   "cell_type": "markdown",
   "metadata": {},
   "source": [
    "<font color='darkgrey'><b>Operation</font>"
   ]
  },
  {
   "cell_type": "markdown",
   "metadata": {
    "slideshow": {
     "slide_type": "slide"
    }
   },
   "source": [
    "### Tuning the Number of Selected Features"
   ]
  },
  {
   "cell_type": "code",
   "execution_count": null,
   "metadata": {
    "vscode": {
     "languageId": "r"
    }
   },
   "outputs": [],
   "source": []
  },
  {
   "cell_type": "markdown",
   "metadata": {
    "slideshow": {
     "slide_type": "slide"
    }
   },
   "source": [
    "#### Know the best number of features to select"
   ]
  },
  {
   "cell_type": "code",
   "execution_count": null,
   "metadata": {
    "vscode": {
     "languageId": "r"
    }
   },
   "outputs": [],
   "source": []
  },
  {
   "cell_type": "markdown",
   "metadata": {
    "slideshow": {
     "slide_type": "slide"
    }
   },
   "source": [
    "#### See the relationship between the number of selected features and accuracy"
   ]
  },
  {
   "cell_type": "code",
   "execution_count": null,
   "metadata": {
    "vscode": {
     "languageId": "r"
    }
   },
   "outputs": [],
   "source": []
  },
  {
   "cell_type": "markdown",
   "metadata": {
    "slideshow": {
     "slide_type": "slide"
    }
   },
   "source": [
    "## Selecting Numerical Input / Numerical Output"
   ]
  },
  {
   "cell_type": "code",
   "execution_count": null,
   "metadata": {},
   "outputs": [],
   "source": []
  },
  {
   "cell_type": "markdown",
   "metadata": {
    "slideshow": {
     "slide_type": "slide"
    }
   },
   "source": [
    "### Correlation with the outcome Feature Selection"
   ]
  },
  {
   "cell_type": "code",
   "execution_count": 68,
   "metadata": {
    "vscode": {
     "languageId": "r"
    }
   },
   "outputs": [
    {
     "name": "stdout",
     "output_type": "stream",
     "text": [
      "                            Feature  Correlation\n",
      "n_vacunas                 n_vacunas  1.000000000\n",
      "n_citas                     n_citas  0.999130400\n",
      "interes_gripe         interes_gripe  0.586498046\n",
      "tmed                           tmed -0.585515629\n",
      "scampana                   scampana  0.539384124\n",
      "capacidad_zona       capacidad_zona  0.518963147\n",
      "t1_1                           t1_1  0.518958470\n",
      "o3                               o3 -0.515131533\n",
      "nsec                           nsec  0.415394240\n",
      "benzene                     benzene  0.403689076\n",
      "tuits_gripe             tuits_gripe  0.375181698\n",
      "nox                             nox  0.282164710\n",
      "no                               no  0.272879071\n",
      "no2                             no2  0.259185375\n",
      "so2                             so2 -0.201351922\n",
      "t11_1                         t11_1  0.162866925\n",
      "t3_1                           t3_1 -0.136262423\n",
      "co                               co  0.135689359\n",
      "t12_1                         t12_1  0.135599031\n",
      "pm10                           pm10 -0.130991898\n",
      "t4_1                           t4_1  0.130901447\n",
      "t10_1                         t10_1 -0.130502874\n",
      "t9_1                           t9_1  0.120369455\n",
      "campana                     campana -0.115730085\n",
      "presMax                     presMax  0.108626452\n",
      "prop_riesgo             prop_riesgo -0.105426121\n",
      "poblacion_mayores poblacion_mayores -0.105092360\n",
      "t4_3                           t4_3 -0.105092360\n",
      "t8_1                           t8_1  0.088204743\n",
      "t2_1                           t2_1  0.080789290\n",
      "t7_1                           t7_1  0.078949266\n",
      "area                           area -0.072657104\n",
      "prec                           prec  0.068205501\n",
      "t2_2                           t2_2 -0.066609878\n",
      "semana                       semana  0.060823010\n",
      "t5_1                           t5_1 -0.055804528\n",
      "velmedia                   velmedia  0.055028022\n",
      "tasa_riesgo             tasa_riesgo  0.041871987\n",
      "t4_2                           t4_2  0.030293108\n",
      "t6_1                           t6_1 -0.023654562\n",
      "ano                             ano -0.015855092\n",
      "pm2.5                         pm2.5 -0.009172425\n",
      "densidad_hab_km     densidad_hab_km  0.004522135\n",
      "tasa_mayores           tasa_mayores  0.002162538\n"
     ]
    }
   ],
   "source": [
    "# Calculate the correlation between each feature and the outcome variable\n",
    "correlations <- sapply(select_if(train_set, is.numeric)[, -which(names(select_if(train_set, is.numeric)) %in% \"Target\")], function(x) cor(x, train_set$Target))\n",
    "\n",
    "# Create a dataframe from the correlations\n",
    "correlation_df <- data.frame(Feature = names(correlations), Correlation = correlations)\n",
    "\n",
    "# Sort the dataframe by the absolute values of the correlations in descending order\n",
    "correlation_df <- correlation_df[order(-abs(correlation_df$Correlation)), ]\n",
    "\n",
    "# Print the correlation dataframe\n",
    "print(correlation_df)"
   ]
  },
  {
   "cell_type": "markdown",
   "metadata": {
    "slideshow": {
     "slide_type": "slide"
    }
   },
   "source": [
    "### Mutual Information Feature Selection"
   ]
  },
  {
   "cell_type": "code",
   "execution_count": 69,
   "metadata": {
    "vscode": {
     "languageId": "r"
    }
   },
   "outputs": [
    {
     "name": "stderr",
     "output_type": "stream",
     "text": [
      "Warning message in .information_gain.data.frame(formula, data, type = type, equal = equal, :\n",
      "“There are missing values in the dependent variable information_gain will remove them.”\n",
      "Warning message in .information_gain.data.frame(formula, data, type = type, equal = equal, :\n",
      "“Dependent variable is a numeric! It will be converted to factor with simple factor(y). We do not discretize dependent variable in FSelectorRcpp by default! You can choose equal frequency binning discretization by setting equal argument to TRUE.”\n"
     ]
    },
    {
     "data": {
      "image/png": "[encoded data removed]",
      "text/plain": [
       "plot without title"
      ]
     },
     "metadata": {
      "image/png": {
       "height": 420,
       "width": 420
      }
     },
     "output_type": "display_data"
    }
   ],
   "source": [
    "# install the necessary packages if not already installed\n",
    "if (!require(FSelectorRcpp)) {\n",
    "  install.packages('FSelectorRcpp')\n",
    "}\n",
    "\n",
    "# Load necessary library\n",
    "library(FSelectorRcpp)\n",
    "\n",
    "# Calculate mutual information between each variable and the target\n",
    "mi_scores <- information_gain(train_data[, setdiff(names(train_data), \"Target\")], train_data$Target)\n",
    "\n",
    "# Convert the top_features object into a dataframe\n",
    "mi_scores_df <- as.data.frame(mi_scores)\n",
    "\n",
    "# Rename the columns\n",
    "names(mi_scores_df) <- c(\"Feature\", \"Score\")\n",
    "\n",
    "# Order the dataframe by Score in descending order\n",
    "mi_scores_df <- mi_scores_df[order(-mi_scores_df$Score),]\n",
    "\n",
    "# Create a bar plot\n",
    "ggplot(mi_scores_df, aes(x = reorder(Feature, Score), y = Score)) +\n",
    "  geom_bar(stat = \"identity\", fill = \"steelblue\") +\n",
    "  coord_flip() +\n",
    "  xlab(\"Features\") +\n",
    "  ylab(\"Mutual Information Score\") +\n",
    "  ggtitle(\"Top Features by Mutual Information\") +\n",
    "  theme_minimal()"
   ]
  },
  {
   "cell_type": "markdown",
   "metadata": {
    "slideshow": {
     "slide_type": "slide"
    }
   },
   "source": [
    "### Evaluating a Lineal Regression model"
   ]
  },
  {
   "cell_type": "code",
   "execution_count": null,
   "metadata": {
    "vscode": {
     "languageId": "r"
    }
   },
   "outputs": [],
   "source": []
  },
  {
   "cell_type": "markdown",
   "metadata": {},
   "source": [
    "<font color='tomato'>Selecting feature to use</font>"
   ]
  },
  {
   "cell_type": "code",
   "execution_count": 70,
   "metadata": {
    "ExecuteTime": {
     "end_time": "2021-01-06T11:10:23.895871Z",
     "start_time": "2021-01-06T11:10:23.880235Z"
    },
    "vscode": {
     "languageId": "r"
    }
   },
   "outputs": [],
   "source": [
    "# Select numer of Features to use\n",
    "k <- 5"
   ]
  },
  {
   "cell_type": "markdown",
   "metadata": {},
   "source": [
    "<font color='darkgrey'><b>Operation</font>"
   ]
  },
  {
   "cell_type": "code",
   "execution_count": 71,
   "metadata": {
    "vscode": {
     "languageId": "r"
    }
   },
   "outputs": [
    {
     "name": "stderr",
     "output_type": "stream",
     "text": [
      "Warning message in predict.lm(model_all_features, newdata = test_set):\n",
      "“prediction from a rank-deficient fit may be misleading”\n"
     ]
    },
    {
     "data": {
      "text/html": [
       "<style>\n",
       ".dl-inline {width: auto; margin:0; padding: 0}\n",
       ".dl-inline>dt, .dl-inline>dd {float: none; width: auto; display: inline-block}\n",
       ".dl-inline>dt::after {content: \":\\0020\"; padding-right: .5ex}\n",
       ".dl-inline>dt:not(:first-of-type) {padding-left: .5ex}\n",
       "</style><dl class=dl-inline><dt>RMSE</dt><dd>8.93086012220612e-13</dd><dt>Rsquared</dt><dd>1</dd><dt>MAE</dt><dd>7.18003164589858e-13</dd></dl>\n"
      ],
      "text/latex": [
       "\\begin{description*}\n",
       "\\item[RMSE] 8.93086012220612e-13\n",
       "\\item[Rsquared] 1\n",
       "\\item[MAE] 7.18003164589858e-13\n",
       "\\end{description*}\n"
      ],
      "text/markdown": [
       "RMSE\n",
       ":   8.93086012220612e-13Rsquared\n",
       ":   1MAE\n",
       ":   7.18003164589858e-13\n",
       "\n"
      ],
      "text/plain": [
       "        RMSE     Rsquared          MAE \n",
       "8.930860e-13 1.000000e+00 7.180032e-13 "
      ]
     },
     "metadata": {},
     "output_type": "display_data"
    }
   ],
   "source": [
    "# Fit a linear regression model\n",
    "model_all_features <- lm(Target ~ ., data = train_set)\n",
    "\n",
    "# Predict on the test set\n",
    "predictions <- predict(model_all_features, newdata = test_set)\n",
    "\n",
    "# Evaluate the model\n",
    "postResample(pred = predictions, obs = test_set$Target)"
   ]
  },
  {
   "cell_type": "code",
   "execution_count": 72,
   "metadata": {},
   "outputs": [
    {
     "ename": "ERROR",
     "evalue": "\u001b[1m\u001b[33mError\u001b[39m in `train_set[, c(top_features, \"Target\")]`:\u001b[22m\n\u001b[33m!\u001b[39m Can't subset columns that don't exist.\n\u001b[31m✖\u001b[39m Columns NA don't exist.\n",
     "output_type": "error",
     "traceback": [
      "\u001b[1m\u001b[33mError\u001b[39m in `train_set[, c(top_features, \"Target\")]`:\u001b[22m\n\u001b[33m!\u001b[39m Can't subset columns that don't exist.\n\u001b[31m✖\u001b[39m Columns NA don't exist.\nTraceback:\n",
      "1. lm(Target ~ ., data = train_set[, c(top_features, \"Target\")])",
      "2. eval(mf, parent.frame())",
      "3. eval(mf, parent.frame())",
      "4. stats::model.frame(formula = Target ~ ., data = train_set[, c(top_features, \n .     \"Target\")], drop.unused.levels = TRUE)",
      "5. model.frame.default(formula = Target ~ ., data = train_set[, \n .     c(top_features, \"Target\")], drop.unused.levels = TRUE)",
      "6. is.data.frame(data)",
      "7. train_set[, c(top_features, \"Target\")]",
      "8. `[.tbl_df`(train_set, , c(top_features, \"Target\"))",
      "9. vectbl_as_col_location(j, length(x), names(x), j_arg = j_arg, \n .     assign = FALSE)",
      "10. subclass_col_index_errors(vec_as_location(j, n, names, missing = \"error\", \n  .     call = call), j_arg = j_arg, assign = assign)",
      "11. withCallingHandlers(expr, vctrs_error_subscript = function(cnd) {\n  .     cnd$subscript_arg <- j_arg\n  .     cnd$subscript_elt <- \"column\"\n  .     if (isTRUE(assign) && !isTRUE(cnd$subscript_action %in% c(\"negate\"))) {\n  .         cnd$subscript_action <- \"assign\"\n  .     }\n  .     cnd_signal(cnd)\n  . })",
      "12. vec_as_location(j, n, names, missing = \"error\", call = call)",
      "13. (function () \n  . stop_subscript_oob(i = i, subscript_type = subscript_type, names = names, \n  .     subscript_action = subscript_action, subscript_arg = subscript_arg, \n  .     call = call))()",
      "14. stop_subscript_oob(i = i, subscript_type = subscript_type, names = names, \n  .     subscript_action = subscript_action, subscript_arg = subscript_arg, \n  .     call = call)",
      "15. stop_subscript(class = \"vctrs_error_subscript_oob\", i = i, subscript_type = subscript_type, \n  .     ..., call = call)",
      "16. abort(class = c(class, \"vctrs_error_subscript\"), i = i, ..., \n  .     call = call)",
      "17. signal_abort(cnd, .file)",
      "18. signalCondition(cnd)",
      "19. (function (cnd) \n  . {\n  .     cnd$subscript_arg <- j_arg\n  .     cnd$subscript_elt <- \"column\"\n  .     if (isTRUE(assign) && !isTRUE(cnd$subscript_action %in% c(\"negate\"))) {\n  .         cnd$subscript_action <- \"assign\"\n  .     }\n  .     cnd_signal(cnd)\n  . })(structure(list(message = \"\", trace = structure(list(call = list(\n  .     IRkernel::main(), kernel$run(), handle_shell(), executor$execute(msg), \n  .     tryCatch(evaluate(request$content$code, envir = .GlobalEnv, \n  .         output_handler = oh, stop_on_error = 1L), interrupt = function(cond) {\n  .         log_debug(\"Interrupt during execution\")\n  .         interrupted <<- TRUE\n  .     }, error = .self$handle_error), tryCatchList(expr, classes, \n  .         parentenv, handlers), tryCatchOne(tryCatchList(expr, \n  .         names[-nh], parentenv, handlers[-nh]), names[nh], parentenv, \n  .         handlers[[nh]]), doTryCatch(return(expr), name, parentenv, \n  .         handler), tryCatchList(expr, names[-nh], parentenv, handlers[-nh]), \n  .     tryCatchOne(expr, names, parentenv, handlers[[1L]]), doTryCatch(return(expr), \n  .         name, parentenv, handler), evaluate(request$content$code, \n  .         envir = .GlobalEnv, output_handler = oh, stop_on_error = 1L), \n  .     evaluate_call(expr, parsed$src[[i]], envir = envir, enclos = enclos, \n  .         debug = debug, last = i == length(out), use_try = stop_on_error != \n  .             2L, keep_warning = keep_warning, keep_message = keep_message, \n  .         log_echo = log_echo, log_warning = log_warning, output_handler = output_handler, \n  .         include_timing = include_timing), timing_fn(handle(ev <- withCallingHandlers(withVisible(eval_with_user_handlers(expr, \n  .         envir, enclos, user_handlers)), warning = wHandler, error = eHandler, \n  .         message = mHandler))), handle(ev <- withCallingHandlers(withVisible(eval_with_user_handlers(expr, \n  .         envir, enclos, user_handlers)), warning = wHandler, error = eHandler, \n  .         message = mHandler)), try(f, silent = TRUE), tryCatch(expr, \n  .         error = function(e) {\n  .             call <- conditionCall(e)\n  .             if (!is.null(call)) {\n  .                 if (identical(call[[1L]], quote(doTryCatch))) \n  .                   call <- sys.call(-4L)\n  .                 dcall <- deparse(call, nlines = 1L)\n  .                 prefix <- paste(\"Error in\", dcall, \": \")\n  .                 LONG <- 75L\n  .                 sm <- strsplit(conditionMessage(e), \"\\n\")[[1L]]\n  .                 w <- 14L + nchar(dcall, type = \"w\") + nchar(sm[1L], \n  .                   type = \"w\")\n  .                 if (is.na(w)) \n  .                   w <- 14L + nchar(dcall, type = \"b\") + nchar(sm[1L], \n  .                     type = \"b\")\n  .                 if (w > LONG) \n  .                   prefix <- paste0(prefix, \"\\n  \")\n  .             }\n  .             else prefix <- \"Error : \"\n  .             msg <- paste0(prefix, conditionMessage(e), \"\\n\")\n  .             .Internal(seterrmessage(msg[1L]))\n  .             if (!silent && isTRUE(getOption(\"show.error.messages\"))) {\n  .                 cat(msg, file = outFile)\n  .                 .Internal(printDeferredWarnings())\n  .             }\n  .             invisible(structure(msg, class = \"try-error\", condition = e))\n  .         }), tryCatchList(expr, classes, parentenv, handlers), \n  .     tryCatchOne(expr, names, parentenv, handlers[[1L]]), doTryCatch(return(expr), \n  .         name, parentenv, handler), withCallingHandlers(withVisible(eval_with_user_handlers(expr, \n  .         envir, enclos, user_handlers)), warning = wHandler, error = eHandler, \n  .         message = mHandler), withVisible(eval_with_user_handlers(expr, \n  .         envir, enclos, user_handlers)), eval_with_user_handlers(expr, \n  .         envir, enclos, user_handlers), eval(expr, envir, enclos), \n  .     eval(expr, envir, enclos), lm(Target ~ ., data = train_set[, \n  .         c(top_features, \"Target\")]), eval(mf, parent.frame()), \n  .     eval(mf, parent.frame()), stats::model.frame(formula = Target ~ \n  .         ., data = train_set[, c(top_features, \"Target\")], drop.unused.levels = TRUE), \n  .     model.frame.default(formula = Target ~ ., data = train_set[, \n  .         c(top_features, \"Target\")], drop.unused.levels = TRUE), \n  .     is.data.frame(data), train_set[, c(top_features, \"Target\")], \n  .     `[.tbl_df`(train_set, , c(top_features, \"Target\")), vectbl_as_col_location(j, \n  .         length(x), names(x), j_arg = j_arg, assign = FALSE), \n  .     subclass_col_index_errors(vec_as_location(j, n, names, missing = \"error\", \n  .         call = call), j_arg = j_arg, assign = assign), withCallingHandlers(expr, \n  .         vctrs_error_subscript = function(cnd) {\n  .             cnd$subscript_arg <- j_arg\n  .             cnd$subscript_elt <- \"column\"\n  .             if (isTRUE(assign) && !isTRUE(cnd$subscript_action %in% \n  .                 c(\"negate\"))) {\n  .                 cnd$subscript_action <- \"assign\"\n  .             }\n  .             cnd_signal(cnd)\n  .         }), vec_as_location(j, n, names, missing = \"error\", call = call), \n  .     `<fn>`(), stop_subscript_oob(i = i, subscript_type = subscript_type, \n  .         names = names, subscript_action = subscript_action, subscript_arg = subscript_arg, \n  .         call = call), stop_subscript(class = \"vctrs_error_subscript_oob\", \n  .         i = i, subscript_type = subscript_type, ..., call = call), \n  .     abort(class = c(class, \"vctrs_error_subscript\"), i = i, ..., \n  .         call = call)), parent = c(0L, 1L, 2L, 3L, 4L, 5L, 6L, \n  . 7L, 6L, 9L, 10L, 4L, 12L, 13L, 13L, 15L, 16L, 17L, 18L, 19L, \n  . 13L, 13L, 13L, 23L, 24L, 0L, 26L, 27L, 0L, 0L, 30L, 0L, 0L, 33L, \n  . 34L, 35L, 34L, 0L, 38L, 39L, 40L), visible = c(TRUE, TRUE, TRUE, \n  . TRUE, TRUE, TRUE, TRUE, TRUE, TRUE, TRUE, TRUE, TRUE, TRUE, TRUE, \n  . TRUE, TRUE, TRUE, TRUE, TRUE, TRUE, TRUE, TRUE, TRUE, TRUE, TRUE, \n  . TRUE, TRUE, TRUE, TRUE, TRUE, TRUE, TRUE, TRUE, FALSE, FALSE, \n  . FALSE, FALSE, FALSE, FALSE, FALSE, FALSE), namespace = c(\"IRkernel\", \n  . NA, \"IRkernel\", NA, \"base\", \"base\", \"base\", \"base\", \"base\", \"base\", \n  . \"base\", \"evaluate\", \"evaluate\", \"evaluate\", \"evaluate\", \"base\", \n  . \"base\", \"base\", \"base\", \"base\", \"base\", \"base\", \"evaluate\", \"base\", \n  . \"base\", \"stats\", \"base\", \"base\", \"stats\", \"stats\", \"base\", NA, \n  . \"tibble\", \"tibble\", \"tibble\", \"base\", \"vctrs\", \"vctrs\", \"vctrs\", \n  . \"vctrs\", \"rlang\"), scope = c(\"::\", NA, \"local\", NA, \"::\", \"local\", \n  . \"local\", \"local\", \"local\", \"local\", \"local\", \"::\", \":::\", \"local\", \n  . \"local\", \"::\", \"::\", \"local\", \"local\", \"local\", \"::\", \"::\", \":::\", \n  . \"::\", \"::\", \"::\", \"::\", \"::\", \"::\", \"::\", \"::\", NA, \":::\", \":::\", \n  . \":::\", \"::\", \"::\", \"local\", \":::\", \":::\", \"::\"), error_frame = c(FALSE, \n  . FALSE, FALSE, FALSE, FALSE, FALSE, FALSE, FALSE, FALSE, FALSE, \n  . FALSE, FALSE, FALSE, FALSE, FALSE, FALSE, FALSE, FALSE, FALSE, \n  . FALSE, FALSE, FALSE, FALSE, FALSE, FALSE, FALSE, FALSE, FALSE, \n  . FALSE, FALSE, FALSE, FALSE, TRUE, FALSE, FALSE, FALSE, FALSE, \n  . FALSE, FALSE, FALSE, FALSE)), row.names = c(NA, -41L), version = 2L, class = c(\"rlang_trace\", \n  . \"rlib_trace\", \"tbl\", \"data.frame\")), parent = NULL, i = c(\"attributes\", \n  . \"importance\", NA, NA, NA, \"Target\"), subscript_type = \"character\", \n  .     names = c(\"ano\", \"semana\", \"n_vacunas\", \"n_citas\", \"tmed\", \n  .     \"prec\", \"velmedia\", \"presMax\", \"benzene\", \"co\", \"no\", \"no2\", \n  .     \"nox\", \"o3\", \"pm10\", \"pm2.5\", \"so2\", \"campana\", \"scampana\", \n  .     \"capacidad_zona\", \"prop_riesgo\", \"tasa_riesgo\", \"tasa_mayores\", \n  .     \"poblacion_mayores\", \"nsec\", \"t3_1\", \"t1_1\", \"t2_1\", \"t2_2\", \n  .     \"t4_1\", \"t4_2\", \"t4_3\", \"t5_1\", \"t6_1\", \"t7_1\", \"t8_1\", \"t9_1\", \n  .     \"t10_1\", \"t11_1\", \"t12_1\", \"area\", \"densidad_hab_km\", \"tuits_gripe\", \n  .     \"interes_gripe\", \"Target\"), subscript_action = NULL, subscript_arg = \"j\", \n  .     rlang = list(inherit = TRUE), call = train_set[, c(top_features, \n  .         \"Target\")]), class = c(\"vctrs_error_subscript_oob\", \"vctrs_error_subscript\", \n  . \"rlang_error\", \"error\", \"condition\")))",
      "20. cnd_signal(cnd)",
      "21. signal_abort(cnd)"
     ]
    }
   ],
   "source": [
    "# Select the top k features\n",
    "top_features <- names(mi_scores)[1:k]\n",
    "\n",
    "# Fit a linear regression model with only the top k features\n",
    "model_top_features <- lm(Target ~ ., data = train_set[, c(top_features, \"Target\")])\n",
    "\n",
    "# Predict on the test set\n",
    "predictions_top_features <- predict(model_top_features, newdata = test_set[, top_features])\n",
    "\n",
    "# Evaluate the model\n",
    "postResample(pred = predictions_top_features, obs = test_set$Target)"
   ]
  },
  {
   "cell_type": "markdown",
   "metadata": {
    "slideshow": {
     "slide_type": "slide"
    }
   },
   "source": [
    "## Any data: RFE (Recursive Feature Elimination)"
   ]
  },
  {
   "cell_type": "markdown",
   "metadata": {
    "slideshow": {
     "slide_type": "slide"
    }
   },
   "source": [
    "### RFE for Classification"
   ]
  },
  {
   "cell_type": "markdown",
   "metadata": {},
   "source": [
    "No aplica ya que el Target no es categórico."
   ]
  },
  {
   "cell_type": "markdown",
   "metadata": {},
   "source": [
    "<font color='tomato'>Selecting feature to use</font>"
   ]
  },
  {
   "cell_type": "code",
   "execution_count": null,
   "metadata": {
    "ExecuteTime": {
     "end_time": "2021-01-07T16:55:23.289784Z",
     "start_time": "2021-01-07T16:55:23.279636Z"
    },
    "vscode": {
     "languageId": "r"
    }
   },
   "outputs": [],
   "source": [
    "# Select numer of Features to use\n"
   ]
  },
  {
   "cell_type": "markdown",
   "metadata": {},
   "source": [
    "<font color='darkgrey'><b>Operation</font>"
   ]
  },
  {
   "cell_type": "code",
   "execution_count": null,
   "metadata": {
    "vscode": {
     "languageId": "r"
    }
   },
   "outputs": [],
   "source": []
  },
  {
   "cell_type": "markdown",
   "metadata": {
    "slideshow": {
     "slide_type": "slide"
    }
   },
   "source": [
    "### RFE for Regression"
   ]
  },
  {
   "cell_type": "markdown",
   "metadata": {},
   "source": [
    "<font color='tomato'>Selecting feature to use</font>"
   ]
  },
  {
   "cell_type": "code",
   "execution_count": 73,
   "metadata": {
    "ExecuteTime": {
     "end_time": "2021-01-07T18:05:21.445531Z",
     "start_time": "2021-01-07T18:05:21.415710Z"
    },
    "vscode": {
     "languageId": "r"
    }
   },
   "outputs": [],
   "source": [
    "# Select numer of Features to use\n",
    "k <- 5"
   ]
  },
  {
   "cell_type": "markdown",
   "metadata": {},
   "source": [
    "<font color='darkgrey'><b>Operation</font>"
   ]
  },
  {
   "cell_type": "code",
   "execution_count": 74,
   "metadata": {
    "ExecuteTime": {
     "end_time": "2021-01-07T18:05:26.686146Z",
     "start_time": "2021-01-07T18:05:22.745684Z"
    },
    "vscode": {
     "languageId": "r"
    }
   },
   "outputs": [
    {
     "name": "stderr",
     "output_type": "stream",
     "text": [
      "Warning message in predict.lm(object, x):\n",
      "“prediction from a rank-deficient fit may be misleading”\n",
      "Warning message in predict.lm(object, x):\n",
      "“prediction from a rank-deficient fit may be misleading”\n",
      "Warning message in predict.lm(object, x):\n",
      "“prediction from a rank-deficient fit may be misleading”\n",
      "Warning message in predict.lm(object, x):\n",
      "“prediction from a rank-deficient fit may be misleading”\n",
      "Warning message in predict.lm(object, x):\n",
      "“prediction from a rank-deficient fit may be misleading”\n",
      "Warning message in predict.lm(object, x):\n",
      "“prediction from a rank-deficient fit may be misleading”\n",
      "Warning message in predict.lm(object, x):\n",
      "“prediction from a rank-deficient fit may be misleading”\n",
      "Warning message in predict.lm(object, x):\n",
      "“prediction from a rank-deficient fit may be misleading”\n",
      "Warning message in predict.lm(object, x):\n",
      "“prediction from a rank-deficient fit may be misleading”\n",
      "Warning message in predict.lm(object, x):\n",
      "“prediction from a rank-deficient fit may be misleading”\n",
      "Warning message in predict.lm(object, x):\n",
      "“prediction from a rank-deficient fit may be misleading”\n",
      "Warning message in predict.lm(object, x):\n",
      "“prediction from a rank-deficient fit may be misleading”\n",
      "Warning message in predict.lm(object, x):\n",
      "“prediction from a rank-deficient fit may be misleading”\n",
      "Warning message in predict.lm(object, x):\n",
      "“prediction from a rank-deficient fit may be misleading”\n",
      "Warning message in predict.lm(object, x):\n",
      "“prediction from a rank-deficient fit may be misleading”\n",
      "Warning message in predict.lm(object, x):\n",
      "“prediction from a rank-deficient fit may be misleading”\n",
      "Warning message in predict.lm(object, x):\n",
      "“prediction from a rank-deficient fit may be misleading”\n",
      "Warning message in predict.lm(object, x):\n",
      "“prediction from a rank-deficient fit may be misleading”\n",
      "Warning message in predict.lm(object, x):\n",
      "“prediction from a rank-deficient fit may be misleading”\n",
      "Warning message in predict.lm(object, x):\n",
      "“prediction from a rank-deficient fit may be misleading”\n"
     ]
    },
    {
     "name": "stdout",
     "output_type": "stream",
     "text": [
      "\n",
      "Recursive feature selection\n",
      "\n",
      "Outer resampling method: Cross-Validated (10 fold) \n",
      "\n",
      "Resampling performance over subset size:\n",
      "\n",
      " Variables      RMSE Rsquared       MAE    RMSESD RsquaredSD     MAESD Selected\n",
      "         1 3.308e-12        1 2.705e-12 4.069e-12          0 3.326e-12         \n",
      "         2 3.307e-12        1 2.706e-12 4.065e-12          0 3.326e-12         \n",
      "         3 3.306e-12        1 2.703e-12 4.070e-12          0 3.328e-12         \n",
      "         4 3.306e-12        1 2.702e-12 4.069e-12          0 3.327e-12         \n",
      "         5 3.304e-12        1 2.703e-12 4.062e-12          0 3.320e-12         \n",
      "         6 3.306e-12        1 2.705e-12 4.071e-12          0 3.328e-12         \n",
      "         7 3.308e-12        1 2.704e-12 4.071e-12          0 3.328e-12         \n",
      "         8 3.306e-12        1 2.703e-12 4.077e-12          0 3.334e-12         \n",
      "         9 3.303e-12        1 2.700e-12 4.066e-12          0 3.325e-12         \n",
      "        10 3.305e-12        1 2.702e-12 4.068e-12          0 3.326e-12         \n",
      "        11 3.299e-12        1 2.698e-12 4.053e-12          0 3.314e-12         \n",
      "        12 3.315e-12        1 2.711e-12 4.066e-12          0 3.326e-12         \n",
      "        13 3.322e-12        1 2.716e-12 4.064e-12          0 3.325e-12         \n",
      "        14 3.308e-12        1 2.707e-12 4.066e-12          0 3.326e-12         \n",
      "        15 3.320e-12        1 2.717e-12 4.062e-12          0 3.321e-12         \n",
      "        16 3.309e-12        1 2.707e-12 4.080e-12          0 3.338e-12         \n",
      "        17 3.313e-12        1 2.712e-12 4.076e-12          0 3.333e-12         \n",
      "        18 3.312e-12        1 2.709e-12 4.061e-12          0 3.324e-12         \n",
      "        19 3.316e-12        1 2.713e-12 4.075e-12          0 3.339e-12         \n",
      "        20 3.321e-12        1 2.718e-12 4.079e-12          0 3.341e-12         \n",
      "        21 3.311e-12        1 2.710e-12 4.067e-12          0 3.332e-12         \n",
      "        22 3.309e-12        1 2.708e-12 4.057e-12          0 3.324e-12         \n",
      "        23 3.326e-12        1 2.724e-12 4.073e-12          0 3.339e-12         \n",
      "        24 3.317e-12        1 2.717e-12 4.054e-12          0 3.324e-12         \n",
      "        25 3.318e-12        1 2.719e-12 4.061e-12          0 3.331e-12         \n",
      "        26 3.327e-12        1 2.722e-12 4.077e-12          0 3.342e-12         \n",
      "        27 3.319e-12        1 2.719e-12 4.053e-12          0 3.322e-12         \n",
      "        28 3.317e-12        1 2.719e-12 4.047e-12          0 3.317e-12         \n",
      "        29 3.322e-12        1 2.722e-12 4.042e-12          0 3.315e-12         \n",
      "        30 3.312e-12        1 2.715e-12 4.047e-12          0 3.319e-12         \n",
      "        31 3.309e-12        1 2.709e-12 4.061e-12          0 3.333e-12         \n",
      "        32 3.320e-12        1 2.717e-12 4.054e-12          0 3.326e-12         \n",
      "        33 3.323e-12        1 2.720e-12 4.054e-12          0 3.324e-12         \n",
      "        34 3.308e-12        1 2.708e-12 4.053e-12          0 3.322e-12         \n",
      "        35 3.320e-12        1 2.717e-12 4.058e-12          0 3.325e-12         \n",
      "        36 3.316e-12        1 2.711e-12 4.060e-12          0 3.327e-12         \n",
      "        37 3.315e-12        1 2.712e-12 4.054e-12          0 3.322e-12         \n",
      "        38 3.317e-12        1 2.715e-12 4.052e-12          0 3.320e-12         \n",
      "        39 3.314e-12        1 2.710e-12 4.053e-12          0 3.320e-12         \n",
      "        40 3.323e-12        1 2.719e-12 4.048e-12          0 3.315e-12         \n",
      "        41 3.323e-12        1 2.722e-12 4.051e-12          0 3.320e-12         \n",
      "        42 3.312e-12        1 2.712e-12 4.053e-12          0 3.320e-12         \n",
      "        43 3.312e-12        1 2.712e-12 4.053e-12          0 3.320e-12         \n",
      "        44 1.302e-12        1 1.060e-12 1.018e-12          0 8.380e-13        *\n",
      "\n",
      "The top 5 variables (out of 44):\n",
      "   n_vacunas, t2_1, t4_2, t2_2, t4_1\n",
      "\n"
     ]
    }
   ],
   "source": [
    "# Define control parameters for rfe function\n",
    "ctrl <- rfeControl(functions=lmFuncs, method=\"cv\", number=10)\n",
    "\n",
    "# Determine number of predictors\n",
    "predictors_number <- ncol(train_set) - 1 # Assuming the last column is the target variable\n",
    "\n",
    "# Apply the RFE algorithm with cross validation.\n",
    "result <- rfe(train_set[, !names(train_set) %in% \"Target\"], train_set$Target, sizes=c(1:predictors_number), rfeControl=ctrl)\n",
    "\n",
    "# Print the result\n",
    "print(result)\n",
    "\n",
    "# Top ranking variables in the optimal subset size\n",
    "top_features <- predictors(result, result$optsize)"
   ]
  },
  {
   "cell_type": "code",
   "execution_count": null,
   "metadata": {},
   "outputs": [],
   "source": []
  },
  {
   "cell_type": "code",
   "execution_count": null,
   "metadata": {},
   "outputs": [],
   "source": []
  }
 ],
 "metadata": {
  "anaconda-cloud": {},
  "celltoolbar": "Slideshow",
  "hide_input": false,
  "kernelspec": {
   "display_name": "R",
   "language": "R",
   "name": "ir"
  },
  "language_info": {
   "codemirror_mode": "r",
   "file_extension": ".r",
   "mimetype": "text/x-r-source",
   "name": "R",
   "pygments_lexer": "r",
   "version": "4.1.2"
  },
  "latex_envs": {
   "LaTeX_envs_menu_present": true,
   "autoclose": false,
   "autocomplete": true,
   "bibliofile": "biblio.bib",
   "cite_by": "apalike",
   "current_citInitial": 1,
   "eqLabelWithNumbers": true,
   "eqNumInitial": 1,
   "hotkeys": {
    "equation": "Ctrl-E",
    "itemize": "Ctrl-I"
   },
   "labels_anchors": false,
   "latex_user_defs": false,
   "report_style_numbering": true,
   "user_envs_cfg": false
  },
  "toc": {
   "base_numbering": 1,
   "nav_menu": {},
   "number_sections": true,
   "sideBar": true,
   "skip_h1_title": true,
   "title_cell": "Table of Contents",
   "title_sidebar": "Contents",
   "toc_cell": false,
   "toc_position": {
    "height": "calc(100% - 180px)",
    "left": "10px",
    "top": "150px",
    "width": "420.633px"
   },
   "toc_section_display": true,
   "toc_window_display": true
  },
  "varInspector": {
   "cols": {
    "lenName": 16,
    "lenType": 16,
    "lenVar": 40
   },
   "kernels_config": {
    "python": {
     "delete_cmd_postfix": "",
     "delete_cmd_prefix": "del ",
     "library": "var_list.py",
     "varRefreshCmd": "print(var_dic_list())"
    },
    "r": {
     "delete_cmd_postfix": ") ",
     "delete_cmd_prefix": "rm(",
     "library": "var_list.r",
     "varRefreshCmd": "cat(var_dic_list()) "
    }
   },
   "types_to_exclude": [
    "module",
    "function",
    "builtin_function_or_method",
    "instance",
    "_Feature"
   ],
   "window_display": false
  }
 },
 "nbformat": 4,
 "nbformat_minor": 4
}
