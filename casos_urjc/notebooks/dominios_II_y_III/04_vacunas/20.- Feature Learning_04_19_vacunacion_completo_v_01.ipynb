{
 "cells": [
  {
   "cell_type": "markdown",
   "metadata": {
    "slideshow": {
     "slide_type": "slide"
    }
   },
   "source": [
    "<img src=\".\\images\\Logo.png\" width=150 align=\"left\" /> <img src=\".\\images\\Logo2.jpg\" width=450 align=\"right\" />"
   ]
  },
  {
   "cell_type": "markdown",
   "metadata": {
    "slideshow": {
     "slide_type": "slide"
    }
   },
   "source": [
    "\n",
    "# <center><font color= #1e8449 > <b>CU04_Optimización de vacunas</font></center>"
   ]
  },
  {
   "cell_type": "markdown",
   "metadata": {
    "slideshow": {
     "slide_type": "slide"
    }
   },
   "source": [
    "<font color='steelblue'><b>Citizenlab Data Science Methodology > III - Feature Engineering Domain </font>\n",
    "***\n",
    "> # <font color='steelblue'> <b>20.- Feature Learning</font>"
   ]
  },
  {
   "cell_type": "markdown",
   "metadata": {
    "slideshow": {
     "slide_type": "slide"
    }
   },
   "source": [
    "<font color='steelblue'>Feature learning or representation learning is a set of techniques that allows a system to automatically discover the representations needed for feature detection or classification from raw data.</font>\n"
   ]
  },
  {
   "cell_type": "markdown",
   "metadata": {
    "slideshow": {
     "slide_type": "slide"
    }
   },
   "source": [
    "## <font color='steelblue'>Tasks</font>"
   ]
  },
  {
   "cell_type": "markdown",
   "metadata": {
    "slideshow": {
     "slide_type": "slide"
    }
   },
   "source": [
    "<font color='steelblue'><b>Feature Learning</b>\n",
    "- Explore automatic identification and use of features in raw data\n",
    "\n",
    "    \n"
   ]
  },
  {
   "cell_type": "markdown",
   "metadata": {},
   "source": [
    "## Consideraciones casos CitizenLab programados en R\n",
    "\n",
    "* Algunas de las tareas de este proceso se han realizado en los notebooks del proceso 05 Data Collection porque eran necesarias para las tareas ETL. En esos casos, en este notebook se referencia al notebook del proceso 05 correspondiente\n",
    "* Otras tareas típicas de este proceso se realizan en los notebooks del dominio IV al ser más eficiente realizarlas en el propio pipeline de modelización.\n",
    "* Por tanto en los notebooks de este proceso de manera general se incluyen las comprobaciones necesarias, y comentarios si procede\n",
    "* Las tareas del proceso se van a aplicar solo a los archivos que forman parte del despliegue, ya que hay muchos archivos intermedios que no procede pasar por este proceso\n",
    "* El nombre de archivo del notebook hace referencia al nombre de archivo del proceso 05 al que se aplica este proceso, por eso pueden no ser correlativa la numeración\n",
    "* Las comprobaciones se van a realizar teniendo en cuenta que el lenguaje utilizado en el despliegue de este caso es R"
   ]
  },
  {
   "cell_type": "markdown",
   "metadata": {},
   "source": [
    "## <font color='green'>File</font>"
   ]
  },
  {
   "cell_type": "markdown",
   "metadata": {},
   "source": [
    "- <font color='steelblue'> <b>Input File: CU_04_08_20_vacunacion_gripe_train_and_test.csv</font>\n",
    "- <font color='steelblue'> <b>Output File: No aplica</font>"
   ]
  },
  {
   "cell_type": "markdown",
   "metadata": {},
   "source": [
    "### Encoding\n",
    "\n",
    "Con la siguiente expresión se evitan problemas con el encoding al ejecutar el notebook. Es posible que deba ser eliminada o adaptada a la máquina en la que se ejecute el código."
   ]
  },
  {
   "cell_type": "code",
   "execution_count": 102,
   "metadata": {
    "vscode": {
     "languageId": "r"
    }
   },
   "outputs": [
    {
     "name": "stderr",
     "output_type": "stream",
     "text": [
      "Warning message in Sys.setlocale(category = \"LC_ALL\", locale = \"es_ES.UTF-8\"):\n",
      "“OS reports request to set locale to \"es_ES.UTF-8\" cannot be honored”\n"
     ]
    },
    {
     "data": {
      "text/html": [
       "''"
      ],
      "text/latex": [
       "''"
      ],
      "text/markdown": [
       "''"
      ],
      "text/plain": [
       "[1] \"\""
      ]
     },
     "metadata": {},
     "output_type": "display_data"
    }
   ],
   "source": [
    "Sys.setlocale(category = \"LC_ALL\", locale = \"es_ES.UTF-8\")"
   ]
  },
  {
   "cell_type": "markdown",
   "metadata": {},
   "source": [
    "## <font color='green'>Settings</font>"
   ]
  },
  {
   "cell_type": "markdown",
   "metadata": {},
   "source": [
    "### Libraries to use"
   ]
  },
  {
   "cell_type": "code",
   "execution_count": 103,
   "metadata": {
    "vscode": {
     "languageId": "r"
    }
   },
   "outputs": [],
   "source": [
    "library(readr)\n",
    "library(dplyr)\n",
    "library(tidyr)\n",
    "library(forcats)\n",
    "library(lubridate)\n"
   ]
  },
  {
   "cell_type": "markdown",
   "metadata": {},
   "source": [
    "### Paths"
   ]
  },
  {
   "cell_type": "code",
   "execution_count": 104,
   "metadata": {
    "vscode": {
     "languageId": "r"
    }
   },
   "outputs": [],
   "source": [
    "iPath <- \"Data/Input/\"\n",
    "oPath <- \"Data/Output/\""
   ]
  },
  {
   "cell_type": "markdown",
   "metadata": {},
   "source": [
    "## <font color='green'>Data Load</font>"
   ]
  },
  {
   "cell_type": "markdown",
   "metadata": {},
   "source": [
    "<font color='tomato'><b> OPCION A:</b> Seleccionar fichero en ventana para mayor comodidad</font> "
   ]
  },
  {
   "cell_type": "markdown",
   "metadata": {},
   "source": [
    "Data load using the {tcltk} package. Ucomment the line if using this option"
   ]
  },
  {
   "cell_type": "code",
   "execution_count": 105,
   "metadata": {
    "vscode": {
     "languageId": "r"
    }
   },
   "outputs": [],
   "source": [
    "# file_data <- tcltk::tk_choose.files(multi = FALSE)"
   ]
  },
  {
   "cell_type": "markdown",
   "metadata": {},
   "source": [
    "<font color='tomato'><b> OPCION B:</b> Especificar el nombre de archivo</font>\n",
    "\n"
   ]
  },
  {
   "cell_type": "code",
   "execution_count": 106,
   "metadata": {
    "vscode": {
     "languageId": "r"
    }
   },
   "outputs": [
    {
     "name": "stdout",
     "output_type": "stream",
     "text": [
      "Se leerán datos del archivo:  Data/Input/CU_04_08_20_vacunacion_gripe_train_and_test.csv"
     ]
    }
   ],
   "source": [
    "iFile <- \"CU_04_08_20_vacunacion_gripe_train_and_test.csv\"\n",
    "file_data <- paste0(iPath, iFile)\n",
    "\n",
    "if(file.exists(file_data)){\n",
    "    cat(\"Se leerán datos del archivo: \", file_data)\n",
    "} else{\n",
    "    warning(\"Cuidado: el archivo no existe.\")\n",
    "}\n"
   ]
  },
  {
   "cell_type": "markdown",
   "metadata": {},
   "source": [
    "#### Data file to dataframe\n",
    "\n",
    "Usar la función adecuada según el formato de entrada (xlsx, csv, json, ...)"
   ]
  },
  {
   "cell_type": "code",
   "execution_count": 107,
   "metadata": {
    "vscode": {
     "languageId": "r"
    }
   },
   "outputs": [
    {
     "name": "stderr",
     "output_type": "stream",
     "text": [
      "\u001b[1mRows: \u001b[22m\u001b[34m21736\u001b[39m \u001b[1mColumns: \u001b[22m\u001b[34m49\u001b[39m\n",
      "\u001b[36m──\u001b[39m \u001b[1mColumn specification\u001b[22m \u001b[36m─────────────────────────────────────────────────────────────────────────────────────────────────────────────────────────\u001b[39m\n",
      "\u001b[1mDelimiter:\u001b[22m \",\"\n",
      "\u001b[31mchr\u001b[39m  (3): GEOCODIGO, DESBDT, nombre_zona\n",
      "\u001b[32mdbl\u001b[39m (45): ano, semana, n_vacunas, n_citas, tmed, prec, velmedia, presMax, be...\n",
      "\u001b[33mlgl\u001b[39m  (1): is_train\n",
      "\n",
      "\u001b[36mℹ\u001b[39m Use `spec()` to retrieve the full column specification for this data.\n",
      "\u001b[36mℹ\u001b[39m Specify the column types or set `show_col_types = FALSE` to quiet this message.\n"
     ]
    }
   ],
   "source": [
    "data <- read_csv(file_data)\n"
   ]
  },
  {
   "cell_type": "markdown",
   "metadata": {},
   "source": [
    "Estructura de  los datos:"
   ]
  },
  {
   "cell_type": "code",
   "execution_count": 108,
   "metadata": {
    "vscode": {
     "languageId": "r"
    }
   },
   "outputs": [
    {
     "name": "stdout",
     "output_type": "stream",
     "text": [
      "Rows: 21,736\n",
      "Columns: 49\n",
      "$ GEOCODIGO         \u001b[3m\u001b[90m<chr>\u001b[39m\u001b[23m \"259\", \"260\", \"041\", \"025\", \"046\", \"159\", \"065\", \"09…\n",
      "$ DESBDT            \u001b[3m\u001b[90m<chr>\u001b[39m\u001b[23m \"V Centenario\", \"Valdeacederas\", \"Canillejas\", \"Bara…\n",
      "$ ano               \u001b[3m\u001b[90m<dbl>\u001b[39m\u001b[23m 2022, 2022, 2022, 2022, 2022, 2022, 2022, 2021, 2023…\n",
      "$ semana            \u001b[3m\u001b[90m<dbl>\u001b[39m\u001b[23m 34, 8, 9, 49, 24, 3, 8, 47, 1, 2, 52, 39, 16, 50, 34…\n",
      "$ n_vacunas         \u001b[3m\u001b[90m<dbl>\u001b[39m\u001b[23m 0, 0, 0, 292, 0, 524, 0, 248, 204, 205, NA, 0, 0, 51…\n",
      "$ n_citas           \u001b[3m\u001b[90m<dbl>\u001b[39m\u001b[23m 0, 0, 0, 280, 0, 498, 0, 228, 198, 187, NA, 0, 0, 51…\n",
      "$ tmed              \u001b[3m\u001b[90m<dbl>\u001b[39m\u001b[23m 27.278748, 9.577289, 8.536554, 9.065363, 29.905728, …\n",
      "$ prec              \u001b[3m\u001b[90m<dbl>\u001b[39m\u001b[23m 0.169955881, 1.264910043, 3.122881160, 7.313886680, …\n",
      "$ velmedia          \u001b[3m\u001b[90m<dbl>\u001b[39m\u001b[23m 2.297067, 1.890425, 2.418071, 1.562328, 2.564749, 1.…\n",
      "$ presMax           \u001b[3m\u001b[90m<dbl>\u001b[39m\u001b[23m 940.0420, 944.1770, 949.7179, 941.8342, 940.5669, 95…\n",
      "$ benzene           \u001b[3m\u001b[90m<dbl>\u001b[39m\u001b[23m 0.1764413, 0.4591543, 0.4099159, 0.4224172, 0.195865…\n",
      "$ co                \u001b[3m\u001b[90m<dbl>\u001b[39m\u001b[23m 0.4987735, 0.3960647, 0.3951587, NA, 0.2891224, 0.50…\n",
      "$ no                \u001b[3m\u001b[90m<dbl>\u001b[39m\u001b[23m NA, 6.611337, 9.331224, 14.007722, 4.063517, 24.4756…\n",
      "$ no2               \u001b[3m\u001b[90m<dbl>\u001b[39m\u001b[23m 14.21113, 34.67671, 30.29999, 32.54832, 26.06913, 44…\n",
      "$ nox               \u001b[3m\u001b[90m<dbl>\u001b[39m\u001b[23m 18.00109, 48.94660, 45.22346, 56.75574, 30.35311, 74…\n",
      "$ o3                \u001b[3m\u001b[90m<dbl>\u001b[39m\u001b[23m 80.90659, 42.06663, 48.88088, 26.68276, 64.55205, 31…\n",
      "$ pm10              \u001b[3m\u001b[90m<dbl>\u001b[39m\u001b[23m 20.117087, 15.042152, 14.002432, 18.032354, 55.79346…\n",
      "$ pm2.5             \u001b[3m\u001b[90m<dbl>\u001b[39m\u001b[23m 10.628064, 5.539590, 7.124192, 6.793868, 19.520373, …\n",
      "$ so2               \u001b[3m\u001b[90m<dbl>\u001b[39m\u001b[23m 2.794934, 3.507164, 2.692125, 2.351139, 3.397640, 2.…\n",
      "$ campana           \u001b[3m\u001b[90m<dbl>\u001b[39m\u001b[23m NA, NA, NA, 2022, NA, 2021, NA, 2021, 2022, 2021, 20…\n",
      "$ scampana          \u001b[3m\u001b[90m<dbl>\u001b[39m\u001b[23m NA, NA, NA, 14, NA, 20, NA, 12, 18, 19, 17, 4, NA, 1…\n",
      "$ capacidad_zona    \u001b[3m\u001b[90m<dbl>\u001b[39m\u001b[23m 7957, 6537, 7167, 5633, 3864, 12583, 8544, 5077, 494…\n",
      "$ prop_riesgo       \u001b[3m\u001b[90m<dbl>\u001b[39m\u001b[23m 0.11393237, 0.15763986, 0.25500690, 0.14452370, 0.26…\n",
      "$ tasa_riesgo       \u001b[3m\u001b[90m<dbl>\u001b[39m\u001b[23m 0.013477754, 0.015731142, 0.009177382, 0.013099129, …\n",
      "$ tasa_mayores      \u001b[3m\u001b[90m<dbl>\u001b[39m\u001b[23m 0.023033610, 0.032817374, 0.028147027, 0.020829657, …\n",
      "$ poblacion_mayores \u001b[3m\u001b[90m<dbl>\u001b[39m\u001b[23m 0.10330662, 0.14362062, 0.23161874, 0.13058449, 0.24…\n",
      "$ nombre_zona       \u001b[3m\u001b[90m<chr>\u001b[39m\u001b[23m \"V Centenario\", \"Valdeacederas\", \"Canillejas\", \"Bara…\n",
      "$ nsec              \u001b[3m\u001b[90m<dbl>\u001b[39m\u001b[23m 17, 18, 22, 13, 14, 42, 32, 13, 17, 11, NA, 15, 15, …\n",
      "$ t3_1              \u001b[3m\u001b[90m<dbl>\u001b[39m\u001b[23m 36.73039, 41.41412, 45.44882, 39.78001, 46.13171, 46…\n",
      "$ t1_1              \u001b[3m\u001b[90m<dbl>\u001b[39m\u001b[23m 31778, 26202, 28658, 22492, 15450, 50478, 34148, 202…\n",
      "$ t2_1              \u001b[3m\u001b[90m<dbl>\u001b[39m\u001b[23m 0.5084658, 0.5329728, 0.5316594, 0.5189021, 0.551191…\n",
      "$ t2_2              \u001b[3m\u001b[90m<dbl>\u001b[39m\u001b[23m 0.4915342, 0.4670272, 0.4683406, 0.4810979, 0.448809…\n",
      "$ t4_1              \u001b[3m\u001b[90m<dbl>\u001b[39m\u001b[23m 0.22551283, 0.12790298, 0.12603707, 0.18104432, 0.11…\n",
      "$ t4_2              \u001b[3m\u001b[90m<dbl>\u001b[39m\u001b[23m 0.6711962, 0.7284970, 0.6423306, 0.6883785, 0.641173…\n",
      "$ t4_3              \u001b[3m\u001b[90m<dbl>\u001b[39m\u001b[23m 0.10330662, 0.14362062, 0.23161874, 0.13058449, 0.24…\n",
      "$ t5_1              \u001b[3m\u001b[90m<dbl>\u001b[39m\u001b[23m 0.1063332, 0.2295250, 0.1655070, 0.1266086, 0.165893…\n",
      "$ t6_1              \u001b[3m\u001b[90m<dbl>\u001b[39m\u001b[23m 0.1706875, 0.3477631, 0.2511757, 0.1998911, 0.261480…\n",
      "$ t7_1              \u001b[3m\u001b[90m<dbl>\u001b[39m\u001b[23m 0.05131106, 0.04606911, 0.04379644, 0.05585777, 0.06…\n",
      "$ t8_1              \u001b[3m\u001b[90m<dbl>\u001b[39m\u001b[23m 0.03892836, 0.03586418, 0.03207779, 0.04434976, 0.05…\n",
      "$ t9_1              \u001b[3m\u001b[90m<dbl>\u001b[39m\u001b[23m 0.5151383, 0.3863876, 0.3129631, 0.4611972, 0.701812…\n",
      "$ t10_1             \u001b[3m\u001b[90m<dbl>\u001b[39m\u001b[23m 0.09258503, 0.13151901, 0.13926119, 0.10460043, 0.06…\n",
      "$ t11_1             \u001b[3m\u001b[90m<dbl>\u001b[39m\u001b[23m 0.6406787, 0.5451465, 0.4600730, 0.5920292, 0.471769…\n",
      "$ t12_1             \u001b[3m\u001b[90m<dbl>\u001b[39m\u001b[23m 0.7028586, 0.6277335, 0.5346482, 0.6590530, 0.502531…\n",
      "$ area              \u001b[3m\u001b[90m<dbl>\u001b[39m\u001b[23m 2100118.9, 1164622.0, 1597474.5, 3816572.0, 870986.8…\n",
      "$ densidad_hab_km   \u001b[3m\u001b[90m<dbl>\u001b[39m\u001b[23m 15131.52443, 22498.28643, 17939.56640, 5893.24662, 1…\n",
      "$ tuits_gripe       \u001b[3m\u001b[90m<dbl>\u001b[39m\u001b[23m 60, 56, 72, 196, 46, 382, 56, 280, 24, 508, NA, 126,…\n",
      "$ interes_gripe     \u001b[3m\u001b[90m<dbl>\u001b[39m\u001b[23m 24, 15, 24, 77, 21, 42, 15, 64, 64, 69, NA, 42, 40, …\n",
      "$ Target            \u001b[3m\u001b[90m<dbl>\u001b[39m\u001b[23m 0, 0, 0, 292, 0, 524, 0, 248, 204, 205, NA, 0, 0, 51…\n",
      "$ is_train          \u001b[3m\u001b[90m<lgl>\u001b[39m\u001b[23m TRUE, TRUE, TRUE, TRUE, TRUE, TRUE, TRUE, TRUE, TRUE…\n"
     ]
    }
   ],
   "source": [
    "data |> glimpse()"
   ]
  },
  {
   "cell_type": "markdown",
   "metadata": {},
   "source": [
    "Muestra de los primeros datos:"
   ]
  },
  {
   "cell_type": "code",
   "execution_count": 109,
   "metadata": {
    "vscode": {
     "languageId": "r"
    }
   },
   "outputs": [
    {
     "data": {
      "text/html": [
       "<table class=\"dataframe\">\n",
       "<caption>A spec_tbl_df: 5 × 49</caption>\n",
       "<thead>\n",
       "\t<tr><th scope=col>GEOCODIGO</th><th scope=col>DESBDT</th><th scope=col>ano</th><th scope=col>semana</th><th scope=col>n_vacunas</th><th scope=col>n_citas</th><th scope=col>tmed</th><th scope=col>prec</th><th scope=col>velmedia</th><th scope=col>presMax</th><th scope=col>⋯</th><th scope=col>t9_1</th><th scope=col>t10_1</th><th scope=col>t11_1</th><th scope=col>t12_1</th><th scope=col>area</th><th scope=col>densidad_hab_km</th><th scope=col>tuits_gripe</th><th scope=col>interes_gripe</th><th scope=col>Target</th><th scope=col>is_train</th></tr>\n",
       "\t<tr><th scope=col>&lt;chr&gt;</th><th scope=col>&lt;chr&gt;</th><th scope=col>&lt;dbl&gt;</th><th scope=col>&lt;dbl&gt;</th><th scope=col>&lt;dbl&gt;</th><th scope=col>&lt;dbl&gt;</th><th scope=col>&lt;dbl&gt;</th><th scope=col>&lt;dbl&gt;</th><th scope=col>&lt;dbl&gt;</th><th scope=col>&lt;dbl&gt;</th><th scope=col>⋯</th><th scope=col>&lt;dbl&gt;</th><th scope=col>&lt;dbl&gt;</th><th scope=col>&lt;dbl&gt;</th><th scope=col>&lt;dbl&gt;</th><th scope=col>&lt;dbl&gt;</th><th scope=col>&lt;dbl&gt;</th><th scope=col>&lt;dbl&gt;</th><th scope=col>&lt;dbl&gt;</th><th scope=col>&lt;dbl&gt;</th><th scope=col>&lt;lgl&gt;</th></tr>\n",
       "</thead>\n",
       "<tbody>\n",
       "\t<tr><td>259</td><td>V Centenario </td><td>2022</td><td>34</td><td>  0</td><td>  0</td><td>27.278748</td><td>0.16995588</td><td>2.297067</td><td>940.0420</td><td>⋯</td><td>0.5151383</td><td>0.09258503</td><td>0.6406787</td><td>0.7028586</td><td>2100118.9</td><td>15131.524</td><td> 60</td><td>24</td><td>  0</td><td>TRUE</td></tr>\n",
       "\t<tr><td>260</td><td>Valdeacederas</td><td>2022</td><td> 8</td><td>  0</td><td>  0</td><td> 9.577289</td><td>1.26491004</td><td>1.890425</td><td>944.1770</td><td>⋯</td><td>0.3863876</td><td>0.13151901</td><td>0.5451465</td><td>0.6277335</td><td>1164622.0</td><td>22498.286</td><td> 56</td><td>15</td><td>  0</td><td>TRUE</td></tr>\n",
       "\t<tr><td>041</td><td>Canillejas   </td><td>2022</td><td> 9</td><td>  0</td><td>  0</td><td> 8.536554</td><td>3.12288116</td><td>2.418071</td><td>949.7179</td><td>⋯</td><td>0.3129631</td><td>0.13926119</td><td>0.4600730</td><td>0.5346482</td><td>1597474.5</td><td>17939.566</td><td> 72</td><td>24</td><td>  0</td><td>TRUE</td></tr>\n",
       "\t<tr><td>025</td><td>Barajas      </td><td>2022</td><td>49</td><td>292</td><td>280</td><td> 9.065363</td><td>7.31388668</td><td>1.562328</td><td>941.8342</td><td>⋯</td><td>0.4611972</td><td>0.10460043</td><td>0.5920292</td><td>0.6590530</td><td>3816572.0</td><td> 5893.247</td><td>196</td><td>77</td><td>292</td><td>TRUE</td></tr>\n",
       "\t<tr><td>046</td><td>Castelló     </td><td>2022</td><td>24</td><td>  0</td><td>  0</td><td>29.905728</td><td>0.01366852</td><td>2.564749</td><td>940.5669</td><td>⋯</td><td>0.7018126</td><td>0.06114283</td><td>0.4717699</td><td>0.5025317</td><td> 870986.8</td><td>17738.501</td><td> 46</td><td>21</td><td>  0</td><td>TRUE</td></tr>\n",
       "</tbody>\n",
       "</table>\n"
      ],
      "text/latex": [
       "A spec\\_tbl\\_df: 5 × 49\n",
       "\\begin{tabular}{lllllllllllllllllllll}\n",
       " GEOCODIGO & DESBDT & ano & semana & n\\_vacunas & n\\_citas & tmed & prec & velmedia & presMax & ⋯ & t9\\_1 & t10\\_1 & t11\\_1 & t12\\_1 & area & densidad\\_hab\\_km & tuits\\_gripe & interes\\_gripe & Target & is\\_train\\\\\n",
       " <chr> & <chr> & <dbl> & <dbl> & <dbl> & <dbl> & <dbl> & <dbl> & <dbl> & <dbl> & ⋯ & <dbl> & <dbl> & <dbl> & <dbl> & <dbl> & <dbl> & <dbl> & <dbl> & <dbl> & <lgl>\\\\\n",
       "\\hline\n",
       "\t 259 & V Centenario  & 2022 & 34 &   0 &   0 & 27.278748 & 0.16995588 & 2.297067 & 940.0420 & ⋯ & 0.5151383 & 0.09258503 & 0.6406787 & 0.7028586 & 2100118.9 & 15131.524 &  60 & 24 &   0 & TRUE\\\\\n",
       "\t 260 & Valdeacederas & 2022 &  8 &   0 &   0 &  9.577289 & 1.26491004 & 1.890425 & 944.1770 & ⋯ & 0.3863876 & 0.13151901 & 0.5451465 & 0.6277335 & 1164622.0 & 22498.286 &  56 & 15 &   0 & TRUE\\\\\n",
       "\t 041 & Canillejas    & 2022 &  9 &   0 &   0 &  8.536554 & 3.12288116 & 2.418071 & 949.7179 & ⋯ & 0.3129631 & 0.13926119 & 0.4600730 & 0.5346482 & 1597474.5 & 17939.566 &  72 & 24 &   0 & TRUE\\\\\n",
       "\t 025 & Barajas       & 2022 & 49 & 292 & 280 &  9.065363 & 7.31388668 & 1.562328 & 941.8342 & ⋯ & 0.4611972 & 0.10460043 & 0.5920292 & 0.6590530 & 3816572.0 &  5893.247 & 196 & 77 & 292 & TRUE\\\\\n",
       "\t 046 & Castelló      & 2022 & 24 &   0 &   0 & 29.905728 & 0.01366852 & 2.564749 & 940.5669 & ⋯ & 0.7018126 & 0.06114283 & 0.4717699 & 0.5025317 &  870986.8 & 17738.501 &  46 & 21 &   0 & TRUE\\\\\n",
       "\\end{tabular}\n"
      ],
      "text/markdown": [
       "\n",
       "A spec_tbl_df: 5 × 49\n",
       "\n",
       "| GEOCODIGO &lt;chr&gt; | DESBDT &lt;chr&gt; | ano &lt;dbl&gt; | semana &lt;dbl&gt; | n_vacunas &lt;dbl&gt; | n_citas &lt;dbl&gt; | tmed &lt;dbl&gt; | prec &lt;dbl&gt; | velmedia &lt;dbl&gt; | presMax &lt;dbl&gt; | ⋯ ⋯ | t9_1 &lt;dbl&gt; | t10_1 &lt;dbl&gt; | t11_1 &lt;dbl&gt; | t12_1 &lt;dbl&gt; | area &lt;dbl&gt; | densidad_hab_km &lt;dbl&gt; | tuits_gripe &lt;dbl&gt; | interes_gripe &lt;dbl&gt; | Target &lt;dbl&gt; | is_train &lt;lgl&gt; |\n",
       "|---|---|---|---|---|---|---|---|---|---|---|---|---|---|---|---|---|---|---|---|---|\n",
       "| 259 | V Centenario  | 2022 | 34 |   0 |   0 | 27.278748 | 0.16995588 | 2.297067 | 940.0420 | ⋯ | 0.5151383 | 0.09258503 | 0.6406787 | 0.7028586 | 2100118.9 | 15131.524 |  60 | 24 |   0 | TRUE |\n",
       "| 260 | Valdeacederas | 2022 |  8 |   0 |   0 |  9.577289 | 1.26491004 | 1.890425 | 944.1770 | ⋯ | 0.3863876 | 0.13151901 | 0.5451465 | 0.6277335 | 1164622.0 | 22498.286 |  56 | 15 |   0 | TRUE |\n",
       "| 041 | Canillejas    | 2022 |  9 |   0 |   0 |  8.536554 | 3.12288116 | 2.418071 | 949.7179 | ⋯ | 0.3129631 | 0.13926119 | 0.4600730 | 0.5346482 | 1597474.5 | 17939.566 |  72 | 24 |   0 | TRUE |\n",
       "| 025 | Barajas       | 2022 | 49 | 292 | 280 |  9.065363 | 7.31388668 | 1.562328 | 941.8342 | ⋯ | 0.4611972 | 0.10460043 | 0.5920292 | 0.6590530 | 3816572.0 |  5893.247 | 196 | 77 | 292 | TRUE |\n",
       "| 046 | Castelló      | 2022 | 24 |   0 |   0 | 29.905728 | 0.01366852 | 2.564749 | 940.5669 | ⋯ | 0.7018126 | 0.06114283 | 0.4717699 | 0.5025317 |  870986.8 | 17738.501 |  46 | 21 |   0 | TRUE |\n",
       "\n"
      ],
      "text/plain": [
       "  GEOCODIGO DESBDT        ano  semana n_vacunas n_citas tmed      prec      \n",
       "1 259       V Centenario  2022 34       0         0     27.278748 0.16995588\n",
       "2 260       Valdeacederas 2022  8       0         0      9.577289 1.26491004\n",
       "3 041       Canillejas    2022  9       0         0      8.536554 3.12288116\n",
       "4 025       Barajas       2022 49     292       280      9.065363 7.31388668\n",
       "5 046       Castelló      2022 24       0         0     29.905728 0.01366852\n",
       "  velmedia presMax  ⋯ t9_1      t10_1      t11_1     t12_1     area     \n",
       "1 2.297067 940.0420 ⋯ 0.5151383 0.09258503 0.6406787 0.7028586 2100118.9\n",
       "2 1.890425 944.1770 ⋯ 0.3863876 0.13151901 0.5451465 0.6277335 1164622.0\n",
       "3 2.418071 949.7179 ⋯ 0.3129631 0.13926119 0.4600730 0.5346482 1597474.5\n",
       "4 1.562328 941.8342 ⋯ 0.4611972 0.10460043 0.5920292 0.6590530 3816572.0\n",
       "5 2.564749 940.5669 ⋯ 0.7018126 0.06114283 0.4717699 0.5025317  870986.8\n",
       "  densidad_hab_km tuits_gripe interes_gripe Target is_train\n",
       "1 15131.524        60         24              0    TRUE    \n",
       "2 22498.286        56         15              0    TRUE    \n",
       "3 17939.566        72         24              0    TRUE    \n",
       "4  5893.247       196         77            292    TRUE    \n",
       "5 17738.501        46         21              0    TRUE    "
      ]
     },
     "metadata": {},
     "output_type": "display_data"
    }
   ],
   "source": [
    "data |> slice_head(n = 5)"
   ]
  },
  {
   "cell_type": "markdown",
   "metadata": {
    "slideshow": {
     "slide_type": "slide"
    }
   },
   "source": [
    "## Feature Learning"
   ]
  },
  {
   "cell_type": "code",
   "execution_count": null,
   "metadata": {},
   "outputs": [],
   "source": []
  }
 ],
 "metadata": {
  "anaconda-cloud": {},
  "celltoolbar": "Slideshow",
  "hide_input": false,
  "kernelspec": {
   "display_name": "R",
   "language": "R",
   "name": "ir"
  },
  "language_info": {
   "codemirror_mode": "r",
   "file_extension": ".r",
   "mimetype": "text/x-r-source",
   "name": "R",
   "pygments_lexer": "r",
   "version": "4.1.2"
  },
  "latex_envs": {
   "LaTeX_envs_menu_present": true,
   "autoclose": false,
   "autocomplete": true,
   "bibliofile": "biblio.bib",
   "cite_by": "apalike",
   "current_citInitial": 1,
   "eqLabelWithNumbers": true,
   "eqNumInitial": 1,
   "hotkeys": {
    "equation": "Ctrl-E",
    "itemize": "Ctrl-I"
   },
   "labels_anchors": false,
   "latex_user_defs": false,
   "report_style_numbering": true,
   "user_envs_cfg": false
  },
  "toc": {
   "base_numbering": 1,
   "nav_menu": {},
   "number_sections": true,
   "sideBar": true,
   "skip_h1_title": true,
   "title_cell": "Table of Contents",
   "title_sidebar": "Contents",
   "toc_cell": false,
   "toc_position": {
    "height": "calc(100% - 180px)",
    "left": "10px",
    "top": "150px",
    "width": "200.633px"
   },
   "toc_section_display": true,
   "toc_window_display": true
  },
  "varInspector": {
   "cols": {
    "lenName": 16,
    "lenType": 16,
    "lenVar": 40
   },
   "kernels_config": {
    "python": {
     "delete_cmd_postfix": "",
     "delete_cmd_prefix": "del ",
     "library": "var_list.py",
     "varRefreshCmd": "print(var_dic_list())"
    },
    "r": {
     "delete_cmd_postfix": ") ",
     "delete_cmd_prefix": "rm(",
     "library": "var_list.r",
     "varRefreshCmd": "cat(var_dic_list()) "
    }
   },
   "types_to_exclude": [
    "module",
    "function",
    "builtin_function_or_method",
    "instance",
    "_Feature"
   ],
   "window_display": false
  }
 },
 "nbformat": 4,
 "nbformat_minor": 4
}
