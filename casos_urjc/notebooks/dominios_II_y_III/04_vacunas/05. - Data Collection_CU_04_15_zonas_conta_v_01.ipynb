{
 "cells": [
  {
   "cell_type": "markdown",
   "metadata": {
    "slideshow": {
     "slide_type": "slide"
    }
   },
   "source": [
    "<img src=\".\\images\\Logo.png\" width=150 align=\"left\" /> <img src=\".\\images\\Logo2.jpg\" width=450 align=\"right\" />"
   ]
  },
  {
   "attachments": {},
   "cell_type": "markdown",
   "metadata": {
    "slideshow": {
     "slide_type": "slide"
    }
   },
   "source": [
    "\n",
    "# <center><font color= #1e8449 > <b>CU04_Optimización de vacunas</font></center>"
   ]
  },
  {
   "cell_type": "markdown",
   "metadata": {
    "slideshow": {
     "slide_type": "slide"
    }
   },
   "source": [
    "<font color='steelblue'><b>Citizenlab Data Science Methodology > II - Data Processing Domain </font>\n",
    "***\n",
    "> # <font color='steelblue'> <b>05.- Data Collection</font>"
   ]
  },
  {
   "cell_type": "markdown",
   "metadata": {
    "slideshow": {
     "slide_type": "slide"
    }
   },
   "source": [
    "<font color='steelblue'>Data Collection is the process to obtain and generate (if required) necessary data to model the problem.</font>"
   ]
  },
  {
   "attachments": {},
   "cell_type": "markdown",
   "metadata": {},
   "source": [
    "### 15. Interpolar variables contaminación a zonas\n",
    "\n",
    "* Dados los datos de las estaciones, interpolar por kriging a las zonas de salud del caso\n",
    "\n",
    "\n",
    "\n",
    "\n",
    "\n"
   ]
  },
  {
   "cell_type": "markdown",
   "metadata": {
    "toc": true
   },
   "source": [
    "<h1>Table of Contents<span class=\"tocSkip\"></span></h1>\n",
    "<div class=\"toc\"><ul class=\"toc-item\"><li><span><a href=\"#Settings\" data-toc-modified-id=\"Settings-1\"><font color=\"green\">Settings</font></a></span></li><li><span><a href=\"#Data-Load\" data-toc-modified-id=\"Data-Load-2\"><font color=\"green\">Data Load</font></a></span></li><li><span><a href=\"#ETL-Processes\" data-toc-modified-id=\"ETL-Processes-3\">ETL Processes</a></span><ul class=\"toc-item\"><li><span><a href=\"#Import-data-from:-CSV,-Excel,-Tab,-JSON,-SQL,-and-Parquet-files\" data-toc-modified-id=\"Import-data-from:-CSV,-Excel,-Tab,-JSON,-SQL,-and-Parquet-files-3.1\">Import data from: CSV, Excel, Tab, JSON, SQL, and Parquet files</a></span></li></ul></li><li><span><a href=\"#Synthetic-Data-Generation\" data-toc-modified-id=\"Synthetic-Data-Generation-4\">Synthetic Data Generation</a></span></li><li><span><a href=\"#Fake-Data-Generation\" data-toc-modified-id=\"Fake-Data-Generation-5\">Fake Data Generation</a></span></li><li><span><a href=\"#Open-Data\" data-toc-modified-id=\"Open-Data-6\">Open Data</a></span></li><li><span><a href=\"#Data-Save\" data-toc-modified-id=\"Data-Save-7\"><font color=\"green\">Data Save</font></a></span></li><li><span><a href=\"#Main-Conclusions\" data-toc-modified-id=\"Main-Conclusions-8\"><font color=\" #2874a6 \">Main Conclusions</font></a></span></li><li><span><a href=\"#Main-Actions\" data-toc-modified-id=\"Main-Actions-9\"><font color=\" #2874a6 \">Main Actions</font></a></span><ul class=\"toc-item\"><li><ul class=\"toc-item\"><li><span><a href=\"#Acciones-done\" data-toc-modified-id=\"Acciones-done-9.0.1\"><font color=\" #2874a6 \">Acciones done</font></a></span></li><li><span><a href=\"#Acctions-to-perform\" data-toc-modified-id=\"Acctions-to-perform-9.0.2\"><font color=\" #2874a6 \">Acctions to perform</font></a></span></li></ul></li></ul></li></ul></div>"
   ]
  },
  {
   "cell_type": "markdown",
   "metadata": {
    "slideshow": {
     "slide_type": "slide"
    }
   },
   "source": [
    "## <font color='green'>Settings</font>"
   ]
  },
  {
   "attachments": {},
   "cell_type": "markdown",
   "metadata": {},
   "source": [
    "### Packages to use\n",
    "\n",
    "_ELIMINAR O AÑADIR LO QUE TOQUE. COPIAR VERSIONES AL FINAL Y QUITAR CÓDIGO DE VERSIONES_\n",
    "\n",
    "- {tcltk} para selección interactiva de archivos locales\n",
    "- {sf} para trabajar con georeferenciación\n",
    "- {readr} para leer y escribir archivos csv\n",
    "- {dplyr} para explorar datos\n",
    "- {tidyr} para organización de datos\n",
    "- {gstat} para operaciones geoestadísticas\n"
   ]
  },
  {
   "cell_type": "code",
   "execution_count": 24,
   "metadata": {
    "ExecuteTime": {
     "end_time": "2021-12-03T15:23:33.762841Z",
     "start_time": "2021-12-03T15:23:08.580267Z"
    },
    "slideshow": {
     "slide_type": "subslide"
    },
    "vscode": {
     "languageId": "r"
    }
   },
   "outputs": [],
   "source": [
    "library(readr)\n",
    "library(dplyr)\n",
    "library(tidyr)\n",
    "library(sf)\n",
    "library(gstat)\n",
    "library(stringr)\n",
    "\n",
    "p <- c(\"tcltk\", \"sf\", \"readr\", \"dplyr\", \"tidyr\", \"gstat\", \"stringr\")\n"
   ]
  },
  {
   "attachments": {},
   "cell_type": "markdown",
   "metadata": {},
   "source": [
    "### Paths"
   ]
  },
  {
   "cell_type": "code",
   "execution_count": 2,
   "metadata": {
    "vscode": {
     "languageId": "r"
    }
   },
   "outputs": [],
   "source": [
    "iPath <- \"Data/Input/\"\n",
    "oPath <- \"Data/Output/\""
   ]
  },
  {
   "attachments": {},
   "cell_type": "markdown",
   "metadata": {
    "slideshow": {
     "slide_type": "slide"
    }
   },
   "source": [
    "## <font color='green'>Data Load</font>\n",
    "\n",
    "If there are more than one input file, make as many sections as files to import."
   ]
  },
  {
   "attachments": {},
   "cell_type": "markdown",
   "metadata": {},
   "source": [
    "Instrucciones\n",
    "- Los ficheros de entrada del proceso están siempre en Data/Input/.   \n",
    "- Si hay más de un fichero de entrada, se crean tantos objetos iFile_xx y file_data_xx como ficheros de entrada (xx número correlativo con dos dígitos, rellenar con ceros a la izquierda)"
   ]
  },
  {
   "attachments": {},
   "cell_type": "markdown",
   "metadata": {},
   "source": [
    "1. Datos de estaciones de medición contaminación"
   ]
  },
  {
   "attachments": {},
   "cell_type": "markdown",
   "metadata": {},
   "source": [
    "<font color='tomato'><b> OPCION A:</b> Seleccionar fichero en ventana para mayor comodidad</font> "
   ]
  },
  {
   "attachments": {},
   "cell_type": "markdown",
   "metadata": {},
   "source": [
    "Data load using the {tcltk} package. Ucomment the line if not using this option"
   ]
  },
  {
   "cell_type": "code",
   "execution_count": 3,
   "metadata": {
    "vscode": {
     "languageId": "r"
    }
   },
   "outputs": [],
   "source": [
    "# file_data_01 <- tcltk::tk_choose.files(multi = FALSE)"
   ]
  },
  {
   "attachments": {},
   "cell_type": "markdown",
   "metadata": {},
   "source": [
    "<font color='tomato'><b> OPCION B:</b> Especificar el nombre de archivo</font>\n",
    "\n"
   ]
  },
  {
   "cell_type": "code",
   "execution_count": 4,
   "metadata": {
    "vscode": {
     "languageId": "r"
    }
   },
   "outputs": [
    {
     "name": "stdout",
     "output_type": "stream",
     "text": [
      "Se leer<U+00E1>n datos del archivo:  Data/Input/CU_04_05_14_contaminacion.csv"
     ]
    }
   ],
   "source": [
    "iFile_01 <- \"CU_04_05_14_contaminacion.csv\"\n",
    "file_data_01 <- paste0(iPath, iFile_01)\n",
    "\n",
    "if(file.exists(file_data_01)){\n",
    "    cat(\"Se leerán datos del archivo: \", file_data_01)\n",
    "} else{\n",
    "    warning(\"Cuidado: el archivo no existe.\")\n",
    "}\n"
   ]
  },
  {
   "attachments": {},
   "cell_type": "markdown",
   "metadata": {},
   "source": [
    "#### Data file to dataframe\n",
    "\n",
    "Usar la función adecuada según el formato de entrada (xlsx, csv, json, ...)"
   ]
  },
  {
   "cell_type": "code",
   "execution_count": 5,
   "metadata": {
    "vscode": {
     "languageId": "r"
    }
   },
   "outputs": [
    {
     "name": "stderr",
     "output_type": "stream",
     "text": [
      "\u001b[1mRows: \u001b[22m\u001b[34m3517\u001b[39m \u001b[1mColumns: \u001b[22m\u001b[34m15\u001b[39m\n",
      "\u001b[36m--\u001b[39m \u001b[1mColumn specification\u001b[22m \u001b[36m--------------------------------------------------------\u001b[39m\n",
      "\u001b[1mDelimiter:\u001b[22m \",\"\n",
      "\u001b[31mchr\u001b[39m  (2): site, site_name\n",
      "\u001b[32mdbl\u001b[39m (13): ano, semana, benzene, co, no, no2, nox, o3, pm10, pm2.5, so2, X, Y\n",
      "\n",
      "\u001b[36mi\u001b[39m Use `spec()` to retrieve the full column specification for this data.\n",
      "\u001b[36mi\u001b[39m Specify the column types or set `show_col_types = FALSE` to quiet this message.\n"
     ]
    }
   ],
   "source": [
    "data_01 <- read_csv(file_data_01)\n"
   ]
  },
  {
   "attachments": {},
   "cell_type": "markdown",
   "metadata": {},
   "source": [
    "Estructura de  los datos:"
   ]
  },
  {
   "cell_type": "code",
   "execution_count": 6,
   "metadata": {
    "vscode": {
     "languageId": "r"
    }
   },
   "outputs": [
    {
     "name": "stdout",
     "output_type": "stream",
     "text": [
      "Rows: 3,517\n",
      "Columns: 15\n",
      "$ ano       \u001b[3m\u001b[90m<dbl>\u001b[39m\u001b[23m 2021, 2021, 2021, 2021, 2021, 2021, 2021, 2021, 2021, 2021, ~\n",
      "$ semana    \u001b[3m\u001b[90m<dbl>\u001b[39m\u001b[23m 35, 35, 35, 35, 35, 35, 35, 35, 35, 35, 35, 35, 35, 35, 35, ~\n",
      "$ site      \u001b[3m\u001b[90m<chr>\u001b[39m\u001b[23m \"es0115a\", \"es0118a\", \"es0120a\", \"es0124a\", \"es0125a\", \"es01~\n",
      "$ benzene   \u001b[3m\u001b[90m<dbl>\u001b[39m\u001b[23m NA, 0.2134454, 0.2889831, NA, NA, 0.1726496, 0.1705882, NA, ~\n",
      "$ co        \u001b[3m\u001b[90m<dbl>\u001b[39m\u001b[23m 0.2750000, 0.2436975, NA, NA, NA, NA, NA, 0.3117647, NA, NA,~\n",
      "$ no        \u001b[3m\u001b[90m<dbl>\u001b[39m\u001b[23m 8.250000, 6.050420, 5.816667, 3.375000, 10.629630, 5.428571,~\n",
      "$ no2       \u001b[3m\u001b[90m<dbl>\u001b[39m\u001b[23m 20.541667, 36.630252, 35.516667, 25.866667, 43.638889, 30.06~\n",
      "$ nox       \u001b[3m\u001b[90m<dbl>\u001b[39m\u001b[23m 33.175000, 45.966387, 44.533333, 31.050000, 59.935185, 38.44~\n",
      "$ o3        \u001b[3m\u001b[90m<dbl>\u001b[39m\u001b[23m NA, 58.64034, NA, 67.25833, 49.82202, 51.81076, 54.88100, 61~\n",
      "$ pm10      \u001b[3m\u001b[90m<dbl>\u001b[39m\u001b[23m NA, 24.983193, NA, NA, NA, 17.857143, 14.750000, NA, 14.5833~\n",
      "$ pm2.5     \u001b[3m\u001b[90m<dbl>\u001b[39m\u001b[23m NA, 20.369748, NA, NA, NA, NA, 8.983333, NA, NA, NA, 12.6083~\n",
      "$ so2       \u001b[3m\u001b[90m<dbl>\u001b[39m\u001b[23m 10.116667, 6.075630, NA, NA, NA, NA, NA, 7.983193, 5.725000,~\n",
      "$ site_name \u001b[3m\u001b[90m<chr>\u001b[39m\u001b[23m \"PLAZA DE ESPA<U+00D1>A\", \"ESCUELAS AGUIRRE\", \"RAM<U+00D3>N Y CAJAL\", \"ART~\n",
      "$ X         \u001b[3m\u001b[90m<dbl>\u001b[39m\u001b[23m -3.712222, -3.682222, -3.677222, -3.639167, -3.705000, -3.73~\n",
      "$ Y         \u001b[3m\u001b[90m<dbl>\u001b[39m\u001b[23m 40.42417, 40.42167, 40.45167, 40.44000, 40.34694, 40.39472, ~\n"
     ]
    }
   ],
   "source": [
    "data_01 |> glimpse()"
   ]
  },
  {
   "attachments": {},
   "cell_type": "markdown",
   "metadata": {},
   "source": [
    "Muestra de datos:"
   ]
  },
  {
   "cell_type": "code",
   "execution_count": 7,
   "metadata": {
    "vscode": {
     "languageId": "r"
    }
   },
   "outputs": [
    {
     "data": {
      "text/html": [
       "<table class=\"dataframe\">\n",
       "<caption>A spec_tbl_df: 5 x 15</caption>\n",
       "<thead>\n",
       "\t<tr><th scope=col>ano</th><th scope=col>semana</th><th scope=col>site</th><th scope=col>benzene</th><th scope=col>co</th><th scope=col>no</th><th scope=col>no2</th><th scope=col>nox</th><th scope=col>o3</th><th scope=col>pm10</th><th scope=col>pm2.5</th><th scope=col>so2</th><th scope=col>site_name</th><th scope=col>X</th><th scope=col>Y</th></tr>\n",
       "\t<tr><th scope=col>&lt;dbl&gt;</th><th scope=col>&lt;dbl&gt;</th><th scope=col>&lt;chr&gt;</th><th scope=col>&lt;dbl&gt;</th><th scope=col>&lt;dbl&gt;</th><th scope=col>&lt;dbl&gt;</th><th scope=col>&lt;dbl&gt;</th><th scope=col>&lt;dbl&gt;</th><th scope=col>&lt;dbl&gt;</th><th scope=col>&lt;dbl&gt;</th><th scope=col>&lt;dbl&gt;</th><th scope=col>&lt;dbl&gt;</th><th scope=col>&lt;chr&gt;</th><th scope=col>&lt;dbl&gt;</th><th scope=col>&lt;dbl&gt;</th></tr>\n",
       "</thead>\n",
       "<tbody>\n",
       "\t<tr><td>2021</td><td>35</td><td>es0115a</td><td><span style=white-space:pre-wrap>       NA</span></td><td>0.2750000</td><td> 8.250000</td><td>20.54167</td><td>33.17500</td><td><span style=white-space:pre-wrap>      NA</span></td><td><span style=white-space:pre-wrap>      NA</span></td><td><span style=white-space:pre-wrap>      NA</span></td><td>10.11667</td><td>PLAZA DE ESPA&lt;U+00D1&gt;A</td><td>-3.712222</td><td>40.42417</td></tr>\n",
       "\t<tr><td>2021</td><td>35</td><td>es0118a</td><td>0.2134454</td><td>0.2436975</td><td> 6.050420</td><td>36.63025</td><td>45.96639</td><td>58.64034</td><td>24.98319</td><td>20.36975</td><td> 6.07563</td><td>ESCUELAS AGUIRRE      </td><td>-3.682222</td><td>40.42167</td></tr>\n",
       "\t<tr><td>2021</td><td>35</td><td>es0120a</td><td>0.2889831</td><td><span style=white-space:pre-wrap>       NA</span></td><td> 5.816667</td><td>35.51667</td><td>44.53333</td><td><span style=white-space:pre-wrap>      NA</span></td><td><span style=white-space:pre-wrap>      NA</span></td><td><span style=white-space:pre-wrap>      NA</span></td><td><span style=white-space:pre-wrap>      NA</span></td><td><span style=white-space:pre-wrap>RAM&lt;U+00D3&gt;N Y CAJAL  </span></td><td>-3.677222</td><td>40.45167</td></tr>\n",
       "\t<tr><td>2021</td><td>35</td><td>es0124a</td><td>       NA</td><td>       NA</td><td> 3.375000</td><td>25.86667</td><td>31.05000</td><td>67.25833</td><td>      NA</td><td>      NA</td><td>      NA</td><td>ARTURO SORIA          </td><td>-3.639167</td><td>40.44000</td></tr>\n",
       "\t<tr><td>2021</td><td>35</td><td>es0125a</td><td>       NA</td><td>       NA</td><td>10.629630</td><td>43.63889</td><td>59.93519</td><td>49.82202</td><td>      NA</td><td>      NA</td><td>      NA</td><td>VILLAVERDE            </td><td>-3.705000</td><td>40.34694</td></tr>\n",
       "</tbody>\n",
       "</table>\n"
      ],
      "text/latex": [
       "A spec\\_tbl\\_df: 5 x 15\n",
       "\\begin{tabular}{lllllllllllllll}\n",
       " ano & semana & site & benzene & co & no & no2 & nox & o3 & pm10 & pm2.5 & so2 & site\\_name & X & Y\\\\\n",
       " <dbl> & <dbl> & <chr> & <dbl> & <dbl> & <dbl> & <dbl> & <dbl> & <dbl> & <dbl> & <dbl> & <dbl> & <chr> & <dbl> & <dbl>\\\\\n",
       "\\hline\n",
       "\t 2021 & 35 & es0115a &        NA & 0.2750000 &  8.250000 & 20.54167 & 33.17500 &       NA &       NA &       NA & 10.11667 & PLAZA DE ESPA<U+00D1>A & -3.712222 & 40.42417\\\\\n",
       "\t 2021 & 35 & es0118a & 0.2134454 & 0.2436975 &  6.050420 & 36.63025 & 45.96639 & 58.64034 & 24.98319 & 20.36975 &  6.07563 & ESCUELAS AGUIRRE       & -3.682222 & 40.42167\\\\\n",
       "\t 2021 & 35 & es0120a & 0.2889831 &        NA &  5.816667 & 35.51667 & 44.53333 &       NA &       NA &       NA &       NA & RAM<U+00D3>N Y CAJAL   & -3.677222 & 40.45167\\\\\n",
       "\t 2021 & 35 & es0124a &        NA &        NA &  3.375000 & 25.86667 & 31.05000 & 67.25833 &       NA &       NA &       NA & ARTURO SORIA           & -3.639167 & 40.44000\\\\\n",
       "\t 2021 & 35 & es0125a &        NA &        NA & 10.629630 & 43.63889 & 59.93519 & 49.82202 &       NA &       NA &       NA & VILLAVERDE             & -3.705000 & 40.34694\\\\\n",
       "\\end{tabular}\n"
      ],
      "text/markdown": [
       "\n",
       "A spec_tbl_df: 5 x 15\n",
       "\n",
       "| ano &lt;dbl&gt; | semana &lt;dbl&gt; | site &lt;chr&gt; | benzene &lt;dbl&gt; | co &lt;dbl&gt; | no &lt;dbl&gt; | no2 &lt;dbl&gt; | nox &lt;dbl&gt; | o3 &lt;dbl&gt; | pm10 &lt;dbl&gt; | pm2.5 &lt;dbl&gt; | so2 &lt;dbl&gt; | site_name &lt;chr&gt; | X &lt;dbl&gt; | Y &lt;dbl&gt; |\n",
       "|---|---|---|---|---|---|---|---|---|---|---|---|---|---|---|\n",
       "| 2021 | 35 | es0115a |        NA | 0.2750000 |  8.250000 | 20.54167 | 33.17500 |       NA |       NA |       NA | 10.11667 | PLAZA DE ESPA&lt;U+00D1&gt;A | -3.712222 | 40.42417 |\n",
       "| 2021 | 35 | es0118a | 0.2134454 | 0.2436975 |  6.050420 | 36.63025 | 45.96639 | 58.64034 | 24.98319 | 20.36975 |  6.07563 | ESCUELAS AGUIRRE       | -3.682222 | 40.42167 |\n",
       "| 2021 | 35 | es0120a | 0.2889831 |        NA |  5.816667 | 35.51667 | 44.53333 |       NA |       NA |       NA |       NA | RAM&lt;U+00D3&gt;N Y CAJAL   | -3.677222 | 40.45167 |\n",
       "| 2021 | 35 | es0124a |        NA |        NA |  3.375000 | 25.86667 | 31.05000 | 67.25833 |       NA |       NA |       NA | ARTURO SORIA           | -3.639167 | 40.44000 |\n",
       "| 2021 | 35 | es0125a |        NA |        NA | 10.629630 | 43.63889 | 59.93519 | 49.82202 |       NA |       NA |       NA | VILLAVERDE             | -3.705000 | 40.34694 |\n",
       "\n"
      ],
      "text/plain": [
       "  ano  semana site    benzene   co        no        no2      nox      o3      \n",
       "1 2021 35     es0115a        NA 0.2750000  8.250000 20.54167 33.17500       NA\n",
       "2 2021 35     es0118a 0.2134454 0.2436975  6.050420 36.63025 45.96639 58.64034\n",
       "3 2021 35     es0120a 0.2889831        NA  5.816667 35.51667 44.53333       NA\n",
       "4 2021 35     es0124a        NA        NA  3.375000 25.86667 31.05000 67.25833\n",
       "5 2021 35     es0125a        NA        NA 10.629630 43.63889 59.93519 49.82202\n",
       "  pm10     pm2.5    so2      site_name              X         Y       \n",
       "1       NA       NA 10.11667 PLAZA DE ESPA<U+00D1>A -3.712222 40.42417\n",
       "2 24.98319 20.36975  6.07563 ESCUELAS AGUIRRE       -3.682222 40.42167\n",
       "3       NA       NA       NA RAM<U+00D3>N Y CAJAL   -3.677222 40.45167\n",
       "4       NA       NA       NA ARTURO SORIA           -3.639167 40.44000\n",
       "5       NA       NA       NA VILLAVERDE             -3.705000 40.34694"
      ]
     },
     "metadata": {},
     "output_type": "display_data"
    }
   ],
   "source": [
    "data_01 |> slice_head(n = 5)"
   ]
  },
  {
   "attachments": {},
   "cell_type": "markdown",
   "metadata": {},
   "source": [
    "2. Datos de zonas"
   ]
  },
  {
   "cell_type": "markdown",
   "metadata": {},
   "source": [
    "<font color='tomato'><b> OPCION A:</b> Seleccionar fichero en ventana para mayor comodidad</font> "
   ]
  },
  {
   "cell_type": "markdown",
   "metadata": {},
   "source": [
    "Data load using the {tcltk} package. Ucomment the line if not using this option"
   ]
  },
  {
   "cell_type": "code",
   "execution_count": 8,
   "metadata": {
    "vscode": {
     "languageId": "r"
    }
   },
   "outputs": [],
   "source": [
    "# file_data_02 <- tcltk::tk_choose.files(multi = FALSE)"
   ]
  },
  {
   "cell_type": "markdown",
   "metadata": {},
   "source": [
    "<font color='tomato'><b> OPCION B:</b> Especificar el nombre de archivo</font>\n",
    "\n"
   ]
  },
  {
   "cell_type": "code",
   "execution_count": 9,
   "metadata": {
    "vscode": {
     "languageId": "r"
    }
   },
   "outputs": [
    {
     "name": "stdout",
     "output_type": "stream",
     "text": [
      "Se leer<U+00E1>n datos del archivo:  Data/Input/CU_04_05_01_zonasgeo.json"
     ]
    }
   ],
   "source": [
    "iFile_02 <- \"CU_04_05_01_zonasgeo.json\"\n",
    "file_data_02 <- paste0(iPath, iFile_02)\n",
    "\n",
    "if(file.exists(file_data_02)){\n",
    "    cat(\"Se leerán datos del archivo: \", file_data_02)\n",
    "} else{\n",
    "    warning(\"Cuidado: el archivo no existe.\")\n",
    "}\n"
   ]
  },
  {
   "cell_type": "markdown",
   "metadata": {},
   "source": [
    "#### Data file to dataframe\n",
    "\n",
    "Usar la función adecuada según el formato de entrada (xlsx, csv, json, ...)"
   ]
  },
  {
   "cell_type": "code",
   "execution_count": 10,
   "metadata": {
    "vscode": {
     "languageId": "r"
    }
   },
   "outputs": [
    {
     "name": "stdout",
     "output_type": "stream",
     "text": [
      "Reading layer `CU_04_05_01_zonasgeo' from data source \n",
      "  `/Users/emilio.lcano/academico/gh_repos/__transferencia/citizenlab/CitizenLab-Research-and-Development/casos_urjc/notebooks/II_data_processing/04_vacunas/Data/Input/CU_04_05_01_zonasgeo.json' \n",
      "  using driver `GeoJSON'\n",
      "Simple feature collection with 286 features and 3 fields\n",
      "Geometry type: MULTIPOLYGON\n",
      "Dimension:     XY\n",
      "Bounding box:  xmin: -4.579396 ymin: 39.8848 xmax: -3.052977 ymax: 41.16584\n",
      "Geodetic CRS:  WGS 84\n"
     ]
    }
   ],
   "source": [
    "data_02 <- st_read(file_data_02)\n"
   ]
  },
  {
   "cell_type": "markdown",
   "metadata": {},
   "source": [
    "Estructura de  los datos:"
   ]
  },
  {
   "cell_type": "code",
   "execution_count": 11,
   "metadata": {
    "vscode": {
     "languageId": "r"
    }
   },
   "outputs": [
    {
     "name": "stdout",
     "output_type": "stream",
     "text": [
      "Rows: 286\n",
      "Columns: 4\n",
      "$ CODBDT    \u001b[3m\u001b[90m<int>\u001b[39m\u001b[23m 686213, 686214, 686215, 686216, 686217, 686218, 686219, 6862~\n",
      "$ GEOCODIGO \u001b[3m\u001b[90m<chr>\u001b[39m\u001b[23m \"001\", \"002\", \"003\", \"004\", \"005\", \"006\", \"007\", \"008\", \"009~\n",
      "$ DESBDT    \u001b[3m\u001b[90m<chr>\u001b[39m\u001b[23m \"Abrantes\", \"Acacias\", \"Adelfas\", \"Alameda\", \"Alameda de Osu~\n",
      "$ geometry  \u001b[3m\u001b[90m<MULTIPOLYGON [arc_degree]>\u001b[39m\u001b[23m MULTIPOLYGON (((-3.718306 4..., MULTIP~\n"
     ]
    }
   ],
   "source": [
    "data_02 |> glimpse()"
   ]
  },
  {
   "cell_type": "markdown",
   "metadata": {},
   "source": [
    "Muestra de datos:"
   ]
  },
  {
   "cell_type": "code",
   "execution_count": 14,
   "metadata": {
    "vscode": {
     "languageId": "r"
    }
   },
   "outputs": [
    {
     "data": {
      "text/html": [
       "<table class=\"dataframe\">\n",
       "<caption>A tibble: 5 x 4</caption>\n",
       "<thead>\n",
       "\t<tr><th scope=col>CODBDT</th><th scope=col>GEOCODIGO</th><th scope=col>DESBDT</th><th scope=col>geometry</th></tr>\n",
       "\t<tr><th scope=col>&lt;int&gt;</th><th scope=col>&lt;chr&gt;</th><th scope=col>&lt;chr&gt;</th><th scope=col>&lt;MULTIPOLYGON [arc_degree]&gt;</th></tr>\n",
       "</thead>\n",
       "<tbody>\n",
       "\t<tr><td>686213</td><td>001</td><td>Abrantes        </td><td>MULTIPOLYGON (((-3.718306 4...</td></tr>\n",
       "\t<tr><td>686214</td><td>002</td><td>Acacias         </td><td>MULTIPOLYGON (((-3.707966 4...</td></tr>\n",
       "\t<tr><td>686215</td><td>003</td><td>Adelfas         </td><td>MULTIPOLYGON (((-3.666363 4...</td></tr>\n",
       "\t<tr><td>686216</td><td>004</td><td>Alameda         </td><td>MULTIPOLYGON (((-3.69947 40...</td></tr>\n",
       "\t<tr><td>686217</td><td>005</td><td>Alameda de Osuna</td><td>MULTIPOLYGON (((-3.561629 4...</td></tr>\n",
       "</tbody>\n",
       "</table>\n"
      ],
      "text/latex": [
       "A tibble: 5 x 4\n",
       "\\begin{tabular}{llll}\n",
       " CODBDT & GEOCODIGO & DESBDT & geometry\\\\\n",
       " <int> & <chr> & <chr> & <MULTIPOLYGON {[}arc\\_degree{]}>\\\\\n",
       "\\hline\n",
       "\t 686213 & 001 & Abrantes         & MULTIPOLYGON (((-3.718306 4...\\\\\n",
       "\t 686214 & 002 & Acacias          & MULTIPOLYGON (((-3.707966 4...\\\\\n",
       "\t 686215 & 003 & Adelfas          & MULTIPOLYGON (((-3.666363 4...\\\\\n",
       "\t 686216 & 004 & Alameda          & MULTIPOLYGON (((-3.69947 40...\\\\\n",
       "\t 686217 & 005 & Alameda de Osuna & MULTIPOLYGON (((-3.561629 4...\\\\\n",
       "\\end{tabular}\n"
      ],
      "text/markdown": [
       "\n",
       "A tibble: 5 x 4\n",
       "\n",
       "| CODBDT &lt;int&gt; | GEOCODIGO &lt;chr&gt; | DESBDT &lt;chr&gt; | geometry &lt;MULTIPOLYGON [arc_degree]&gt; |\n",
       "|---|---|---|---|\n",
       "| 686213 | 001 | Abrantes         | MULTIPOLYGON (((-3.718306 4... |\n",
       "| 686214 | 002 | Acacias          | MULTIPOLYGON (((-3.707966 4... |\n",
       "| 686215 | 003 | Adelfas          | MULTIPOLYGON (((-3.666363 4... |\n",
       "| 686216 | 004 | Alameda          | MULTIPOLYGON (((-3.69947 40... |\n",
       "| 686217 | 005 | Alameda de Osuna | MULTIPOLYGON (((-3.561629 4... |\n",
       "\n"
      ],
      "text/plain": [
       "  CODBDT GEOCODIGO DESBDT           geometry                      \n",
       "1 686213 001       Abrantes         MULTIPOLYGON (((-3.718306 4...\n",
       "2 686214 002       Acacias          MULTIPOLYGON (((-3.707966 4...\n",
       "3 686215 003       Adelfas          MULTIPOLYGON (((-3.666363 4...\n",
       "4 686216 004       Alameda          MULTIPOLYGON (((-3.69947 40...\n",
       "5 686217 005       Alameda de Osuna MULTIPOLYGON (((-3.561629 4..."
      ]
     },
     "metadata": {},
     "output_type": "display_data"
    }
   ],
   "source": [
    "data_02 |> tibble() |> slice_head(n = 5)"
   ]
  },
  {
   "cell_type": "markdown",
   "metadata": {
    "slideshow": {
     "slide_type": "slide"
    }
   },
   "source": [
    "## ETL Processes"
   ]
  },
  {
   "attachments": {},
   "cell_type": "markdown",
   "metadata": {
    "slideshow": {
     "slide_type": "slide"
    }
   },
   "source": [
    "### Import data from: CSV, Excel, Tab, JSON, SQL, and Parquet files\n",
    "\n",
    "Se han importado en el apartado Data Load anterior:\n",
    "\n",
    "* Datos de estaciones\n",
    "* Geometrías de zonas"
   ]
  },
  {
   "attachments": {},
   "cell_type": "markdown",
   "metadata": {},
   "source": [
    "Incluir apartados si procede para: Extracción de datos (select, filter), Transformación de datos, (mutate, joins, ...). Si es necesario tratar datos perdidos, indicarlo también en NB 09.2"
   ]
  },
  {
   "attachments": {},
   "cell_type": "markdown",
   "metadata": {},
   "source": [
    "Si no aplica: Estos datos no requieren tareas de este tipo."
   ]
  },
  {
   "attachments": {},
   "cell_type": "markdown",
   "metadata": {},
   "source": [
    "#### Data transform"
   ]
  },
  {
   "attachments": {},
   "cell_type": "markdown",
   "metadata": {},
   "source": [
    "Convertir estaciones a objeto sf"
   ]
  },
  {
   "cell_type": "code",
   "execution_count": 16,
   "metadata": {
    "vscode": {
     "languageId": "r"
    }
   },
   "outputs": [],
   "source": [
    "tdata_01 <- data_01 |> \n",
    "    st_as_sf(coords = c(\"X\", \"Y\"), crs = 4326)"
   ]
  },
  {
   "cell_type": "code",
   "execution_count": 17,
   "metadata": {
    "vscode": {
     "languageId": "r"
    }
   },
   "outputs": [
    {
     "name": "stdout",
     "output_type": "stream",
     "text": [
      "Rows: 3,517\n",
      "Columns: 14\n",
      "$ ano       \u001b[3m\u001b[90m<dbl>\u001b[39m\u001b[23m 2021, 2021, 2021, 2021, 2021, 2021, 2021, 2021, 2021, 2021, ~\n",
      "$ semana    \u001b[3m\u001b[90m<dbl>\u001b[39m\u001b[23m 35, 35, 35, 35, 35, 35, 35, 35, 35, 35, 35, 35, 35, 35, 35, ~\n",
      "$ site      \u001b[3m\u001b[90m<chr>\u001b[39m\u001b[23m \"es0115a\", \"es0118a\", \"es0120a\", \"es0124a\", \"es0125a\", \"es01~\n",
      "$ benzene   \u001b[3m\u001b[90m<dbl>\u001b[39m\u001b[23m NA, 0.2134454, 0.2889831, NA, NA, 0.1726496, 0.1705882, NA, ~\n",
      "$ co        \u001b[3m\u001b[90m<dbl>\u001b[39m\u001b[23m 0.2750000, 0.2436975, NA, NA, NA, NA, NA, 0.3117647, NA, NA,~\n",
      "$ no        \u001b[3m\u001b[90m<dbl>\u001b[39m\u001b[23m 8.250000, 6.050420, 5.816667, 3.375000, 10.629630, 5.428571,~\n",
      "$ no2       \u001b[3m\u001b[90m<dbl>\u001b[39m\u001b[23m 20.541667, 36.630252, 35.516667, 25.866667, 43.638889, 30.06~\n",
      "$ nox       \u001b[3m\u001b[90m<dbl>\u001b[39m\u001b[23m 33.175000, 45.966387, 44.533333, 31.050000, 59.935185, 38.44~\n",
      "$ o3        \u001b[3m\u001b[90m<dbl>\u001b[39m\u001b[23m NA, 58.64034, NA, 67.25833, 49.82202, 51.81076, 54.88100, 61~\n",
      "$ pm10      \u001b[3m\u001b[90m<dbl>\u001b[39m\u001b[23m NA, 24.983193, NA, NA, NA, 17.857143, 14.750000, NA, 14.5833~\n",
      "$ pm2.5     \u001b[3m\u001b[90m<dbl>\u001b[39m\u001b[23m NA, 20.369748, NA, NA, NA, NA, 8.983333, NA, NA, NA, 12.6083~\n",
      "$ so2       \u001b[3m\u001b[90m<dbl>\u001b[39m\u001b[23m 10.116667, 6.075630, NA, NA, NA, NA, NA, 7.983193, 5.725000,~\n",
      "$ site_name \u001b[3m\u001b[90m<chr>\u001b[39m\u001b[23m \"PLAZA DE ESPA<U+00D1>A\", \"ESCUELAS AGUIRRE\", \"RAM<U+00D3>N Y CAJAL\", \"ART~\n",
      "$ geometry  \u001b[3m\u001b[90m<POINT [arc_degree]>\u001b[39m\u001b[23m POINT (-3.712222 40.42417), POINT (-3.682222 ~\n"
     ]
    }
   ],
   "source": [
    "tdata_01 |> glimpse()"
   ]
  },
  {
   "attachments": {},
   "cell_type": "markdown",
   "metadata": {},
   "source": [
    "* Interpolar variables a las zonas\n",
    "\n",
    "NOTA: esta operación puede tardar varios minutos."
   ]
  },
  {
   "cell_type": "code",
   "execution_count": 25,
   "metadata": {
    "vscode": {
     "languageId": "r"
    }
   },
   "outputs": [
    {
     "name": "stderr",
     "output_type": "stream",
     "text": [
      "Warning message in st_centroid.sf(data_02):\n",
      "\"st_centroid assumes attributes are constant over geometries of x\"\n"
     ]
    }
   ],
   "source": [
    "contavars <- c(\"benzene\", \"co\", \"no\", \"no2\", \"nox\", \"o3\", \"pm10\", \"pm2.5\", \"so2\")\n",
    "semanas <- paste(tdata_01$ano, tdata_01$semana, sep = \"-\") |> unique()\n",
    "resl <- list()\n",
    "data_02_centroid <- data_02 |> st_centroid()\n",
    "\n",
    "for (i in seq_along(semanas)){\n",
    "  f <- semanas[i]\n",
    "  a <- str_sub(f, 1, 4)\n",
    "  s <- str_sub(f, 6,7)\n",
    "  contad <- tdata_01 |> \n",
    "    filter(ano == a,\n",
    "           semana == s) |> \n",
    "    select(all_of(contavars)) \n",
    "  \n",
    "    res <- data_02 |> select(GEOCODIGO) |> st_drop_geometry()\n",
    "    for (j in seq_along(contavars)){\n",
    "      thisvar <- contavars[j]\n",
    "      contadc <- contad |>\n",
    "        drop_na(all_of(thisvar))\n",
    "  \n",
    "      if(all(contadc |> pull(thisvar) == 0)){\n",
    "        res <- res |>\n",
    "          mutate(!!thisvar := 0)\n",
    "      } else{\n",
    "  \n",
    "        fo <- as.formula(paste0(thisvar, \" ~ 1\"))\n",
    "        v0 <- variogram(fo, contadc)\n",
    "        v.m <- suppressWarnings(fit.variogram(v0,\n",
    "          vgm(c(\"Exp\", \"Mat\", \"Sph\", \"Log\", \"Wav\", \"Bes\", \"Lin\", \"Leg\"))))\n",
    "        if(any(v.m$range < 0)){\n",
    "          res <- res |>\n",
    "            mutate(!!thisvar := NA)\n",
    "        } else{\n",
    "          invisible(\n",
    "            capture.output(\n",
    "              suppressWarnings(\n",
    "                krg <- krige(fo,\n",
    "                             locations = contadc,\n",
    "                             newdata = data_02_centroid,\n",
    "                             model = v.m))))\n",
    "          res <- res |>\n",
    "            mutate(!!thisvar := krg$var1.pred)\n",
    "        }\n",
    "      }\n",
    "    }\n",
    "    res <- res |>\n",
    "      mutate(ano = a,\n",
    "             semana = s)\n",
    "    resl[[i]] <- res\n",
    "}\n",
    "\n",
    "data <- bind_rows(resl)"
   ]
  },
  {
   "cell_type": "code",
   "execution_count": 37,
   "metadata": {
    "vscode": {
     "languageId": "r"
    }
   },
   "outputs": [
    {
     "name": "stdout",
     "output_type": "stream",
     "text": [
      "Rows: 21,164\n",
      "Columns: 12\n",
      "$ GEOCODIGO \u001b[3m\u001b[90m<chr>\u001b[39m\u001b[23m \"001\", \"002\", \"003\", \"004\", \"005\", \"006\", \"007\", \"008\", \"009~\n",
      "$ benzene   \u001b[3m\u001b[90m<dbl>\u001b[39m\u001b[23m 0.2478896, 0.2351470, 0.2438505, 0.2311297, 0.2582252, 0.326~\n",
      "$ co        \u001b[3m\u001b[90m<dbl>\u001b[39m\u001b[23m 0.2783157, 0.2720947, 0.2564127, 0.2704844, 0.3730037, 0.422~\n",
      "$ no        \u001b[3m\u001b[90m<dbl>\u001b[39m\u001b[23m 4.277267, 4.277267, 4.277267, 4.277267, 4.277267, 4.277267, ~\n",
      "$ no2       \u001b[3m\u001b[90m<dbl>\u001b[39m\u001b[23m 30.81135, 30.34314, 30.12568, 30.05632, 25.87842, 27.88230, ~\n",
      "$ nox       \u001b[3m\u001b[90m<dbl>\u001b[39m\u001b[23m 38.70242, 38.26907, 37.77193, 37.77965, 32.30093, 35.32128, ~\n",
      "$ o3        \u001b[3m\u001b[90m<dbl>\u001b[39m\u001b[23m 53.41865, 55.30295, 55.55106, 57.16719, 57.60870, 59.73277, ~\n",
      "$ pm10      \u001b[3m\u001b[90m<dbl>\u001b[39m\u001b[23m 17.55392, 21.35499, 22.63530, 23.80635, 22.43009, 17.30619, ~\n",
      "$ pm2.5     \u001b[3m\u001b[90m<dbl>\u001b[39m\u001b[23m 12.77851, 12.84574, 12.85695, 12.86689, 12.18365, 12.24123, ~\n",
      "$ so2       \u001b[3m\u001b[90m<dbl>\u001b[39m\u001b[23m 6.747270, 7.411119, 6.654251, 7.439685, 2.376795, 1.334976, ~\n",
      "$ ano       \u001b[3m\u001b[90m<chr>\u001b[39m\u001b[23m \"2021\", \"2021\", \"2021\", \"2021\", \"2021\", \"2021\", \"2021\", \"202~\n",
      "$ semana    \u001b[3m\u001b[90m<chr>\u001b[39m\u001b[23m \"35\", \"35\", \"35\", \"35\", \"35\", \"35\", \"35\", \"35\", \"35\", \"35\", ~\n"
     ]
    }
   ],
   "source": [
    "data |> glimpse()"
   ]
  },
  {
   "cell_type": "code",
   "execution_count": 38,
   "metadata": {
    "vscode": {
     "languageId": "r"
    }
   },
   "outputs": [
    {
     "data": {
      "text/html": [
       "<table class=\"dataframe\">\n",
       "<caption>A data.frame: 5 x 12</caption>\n",
       "<thead>\n",
       "\t<tr><th scope=col>GEOCODIGO</th><th scope=col>benzene</th><th scope=col>co</th><th scope=col>no</th><th scope=col>no2</th><th scope=col>nox</th><th scope=col>o3</th><th scope=col>pm10</th><th scope=col>pm2.5</th><th scope=col>so2</th><th scope=col>ano</th><th scope=col>semana</th></tr>\n",
       "\t<tr><th scope=col>&lt;chr&gt;</th><th scope=col>&lt;dbl&gt;</th><th scope=col>&lt;dbl&gt;</th><th scope=col>&lt;dbl&gt;</th><th scope=col>&lt;dbl&gt;</th><th scope=col>&lt;dbl&gt;</th><th scope=col>&lt;dbl&gt;</th><th scope=col>&lt;dbl&gt;</th><th scope=col>&lt;dbl&gt;</th><th scope=col>&lt;dbl&gt;</th><th scope=col>&lt;chr&gt;</th><th scope=col>&lt;chr&gt;</th></tr>\n",
       "</thead>\n",
       "<tbody>\n",
       "\t<tr><td>001</td><td>0.2478896</td><td>0.2783157</td><td>4.277267</td><td>30.81135</td><td>38.70242</td><td>53.41865</td><td>17.55392</td><td>12.77851</td><td>6.747270</td><td>2021</td><td>35</td></tr>\n",
       "\t<tr><td>002</td><td>0.2351470</td><td>0.2720947</td><td>4.277267</td><td>30.34314</td><td>38.26907</td><td>55.30295</td><td>21.35499</td><td>12.84574</td><td>7.411119</td><td>2021</td><td>35</td></tr>\n",
       "\t<tr><td>003</td><td>0.2438505</td><td>0.2564127</td><td>4.277267</td><td>30.12568</td><td>37.77193</td><td>55.55106</td><td>22.63530</td><td>12.85695</td><td>6.654251</td><td>2021</td><td>35</td></tr>\n",
       "\t<tr><td>004</td><td>0.2311297</td><td>0.2704844</td><td>4.277267</td><td>30.05632</td><td>37.77965</td><td>57.16719</td><td>23.80635</td><td>12.86689</td><td>7.439685</td><td>2021</td><td>35</td></tr>\n",
       "\t<tr><td>005</td><td>0.2582252</td><td>0.3730037</td><td>4.277267</td><td>25.87842</td><td>32.30093</td><td>57.60870</td><td>22.43009</td><td>12.18365</td><td>2.376795</td><td>2021</td><td>35</td></tr>\n",
       "</tbody>\n",
       "</table>\n"
      ],
      "text/latex": [
       "A data.frame: 5 x 12\n",
       "\\begin{tabular}{llllllllllll}\n",
       " GEOCODIGO & benzene & co & no & no2 & nox & o3 & pm10 & pm2.5 & so2 & ano & semana\\\\\n",
       " <chr> & <dbl> & <dbl> & <dbl> & <dbl> & <dbl> & <dbl> & <dbl> & <dbl> & <dbl> & <chr> & <chr>\\\\\n",
       "\\hline\n",
       "\t 001 & 0.2478896 & 0.2783157 & 4.277267 & 30.81135 & 38.70242 & 53.41865 & 17.55392 & 12.77851 & 6.747270 & 2021 & 35\\\\\n",
       "\t 002 & 0.2351470 & 0.2720947 & 4.277267 & 30.34314 & 38.26907 & 55.30295 & 21.35499 & 12.84574 & 7.411119 & 2021 & 35\\\\\n",
       "\t 003 & 0.2438505 & 0.2564127 & 4.277267 & 30.12568 & 37.77193 & 55.55106 & 22.63530 & 12.85695 & 6.654251 & 2021 & 35\\\\\n",
       "\t 004 & 0.2311297 & 0.2704844 & 4.277267 & 30.05632 & 37.77965 & 57.16719 & 23.80635 & 12.86689 & 7.439685 & 2021 & 35\\\\\n",
       "\t 005 & 0.2582252 & 0.3730037 & 4.277267 & 25.87842 & 32.30093 & 57.60870 & 22.43009 & 12.18365 & 2.376795 & 2021 & 35\\\\\n",
       "\\end{tabular}\n"
      ],
      "text/markdown": [
       "\n",
       "A data.frame: 5 x 12\n",
       "\n",
       "| GEOCODIGO &lt;chr&gt; | benzene &lt;dbl&gt; | co &lt;dbl&gt; | no &lt;dbl&gt; | no2 &lt;dbl&gt; | nox &lt;dbl&gt; | o3 &lt;dbl&gt; | pm10 &lt;dbl&gt; | pm2.5 &lt;dbl&gt; | so2 &lt;dbl&gt; | ano &lt;chr&gt; | semana &lt;chr&gt; |\n",
       "|---|---|---|---|---|---|---|---|---|---|---|---|\n",
       "| 001 | 0.2478896 | 0.2783157 | 4.277267 | 30.81135 | 38.70242 | 53.41865 | 17.55392 | 12.77851 | 6.747270 | 2021 | 35 |\n",
       "| 002 | 0.2351470 | 0.2720947 | 4.277267 | 30.34314 | 38.26907 | 55.30295 | 21.35499 | 12.84574 | 7.411119 | 2021 | 35 |\n",
       "| 003 | 0.2438505 | 0.2564127 | 4.277267 | 30.12568 | 37.77193 | 55.55106 | 22.63530 | 12.85695 | 6.654251 | 2021 | 35 |\n",
       "| 004 | 0.2311297 | 0.2704844 | 4.277267 | 30.05632 | 37.77965 | 57.16719 | 23.80635 | 12.86689 | 7.439685 | 2021 | 35 |\n",
       "| 005 | 0.2582252 | 0.3730037 | 4.277267 | 25.87842 | 32.30093 | 57.60870 | 22.43009 | 12.18365 | 2.376795 | 2021 | 35 |\n",
       "\n"
      ],
      "text/plain": [
       "  GEOCODIGO benzene   co        no       no2      nox      o3       pm10    \n",
       "1 001       0.2478896 0.2783157 4.277267 30.81135 38.70242 53.41865 17.55392\n",
       "2 002       0.2351470 0.2720947 4.277267 30.34314 38.26907 55.30295 21.35499\n",
       "3 003       0.2438505 0.2564127 4.277267 30.12568 37.77193 55.55106 22.63530\n",
       "4 004       0.2311297 0.2704844 4.277267 30.05632 37.77965 57.16719 23.80635\n",
       "5 005       0.2582252 0.3730037 4.277267 25.87842 32.30093 57.60870 22.43009\n",
       "  pm2.5    so2      ano  semana\n",
       "1 12.77851 6.747270 2021 35    \n",
       "2 12.84574 7.411119 2021 35    \n",
       "3 12.85695 6.654251 2021 35    \n",
       "4 12.86689 7.439685 2021 35    \n",
       "5 12.18365 2.376795 2021 35    "
      ]
     },
     "metadata": {},
     "output_type": "display_data"
    }
   ],
   "source": [
    "data |> slice_head(n = 5)"
   ]
  },
  {
   "cell_type": "markdown",
   "metadata": {
    "slideshow": {
     "slide_type": "slide"
    }
   },
   "source": [
    "## Synthetic Data Generation"
   ]
  },
  {
   "attachments": {},
   "cell_type": "markdown",
   "metadata": {
    "slideshow": {
     "slide_type": "slide"
    }
   },
   "source": [
    "No aplica"
   ]
  },
  {
   "cell_type": "markdown",
   "metadata": {
    "slideshow": {
     "slide_type": "slide"
    }
   },
   "source": [
    "## Fake Data Generation"
   ]
  },
  {
   "attachments": {},
   "cell_type": "markdown",
   "metadata": {
    "slideshow": {
     "slide_type": "slide"
    }
   },
   "source": [
    "No aplica"
   ]
  },
  {
   "cell_type": "markdown",
   "metadata": {
    "slideshow": {
     "slide_type": "slide"
    }
   },
   "source": [
    "## Open Data"
   ]
  },
  {
   "attachments": {},
   "cell_type": "markdown",
   "metadata": {
    "slideshow": {
     "slide_type": "slide"
    }
   },
   "source": [
    "Los datos originales fueron descargados de fuentes abiertas"
   ]
  },
  {
   "cell_type": "markdown",
   "metadata": {},
   "source": [
    "## <font color='green'>Data Save</font>"
   ]
  },
  {
   "attachments": {},
   "cell_type": "markdown",
   "metadata": {},
   "source": [
    "Este proceso, puede copiarse y repetirse en aquellas partes del notebbok que necesiten guardar datos.\n",
    "Recuerde cambiar las cadenas añadida del fichero para diferenciarlas"
   ]
  },
  {
   "cell_type": "markdown",
   "metadata": {},
   "source": [
    "<font color='tomato'> Identificamos los datos a guardar</font>"
   ]
  },
  {
   "cell_type": "code",
   "execution_count": 28,
   "metadata": {
    "ExecuteTime": {
     "end_time": "2020-12-25T17:59:27.022001Z",
     "start_time": "2020-12-25T17:59:15.986986Z"
    },
    "scrolled": false,
    "vscode": {
     "languageId": "r"
    }
   },
   "outputs": [],
   "source": [
    "data_to_save <- data"
   ]
  },
  {
   "attachments": {},
   "cell_type": "markdown",
   "metadata": {},
   "source": [
    "\n",
    "<font color='tomato'>Estructura de nombre de archivos:</font>\n",
    "\n",
    "* Código del caso de uso, por ejemplo \"CU_04\"\n",
    "* Número del proceso que lo genera, por ejemplo \"_05\".\n",
    "* Número de la tarea que lo genera, por ejemplo \"_01\"\n",
    "* En caso de generarse varios ficheros en la misma tarea, llevarán _01 _02 ... después\n",
    "* Nombre: identificativo de \"properData\", por ejemplo \"_zonasgeo\"\n",
    "* Extensión del archivo\n",
    "\n",
    "Ejemplo: \"CU_04_05_01_01_zonasgeo.json, primer fichero que se genera en la tarea 01 del proceso 05 (Data Collection) para el caso de uso 04 (vacunas)\n",
    "\n",
    "Importante mantener los guiones bajos antes de proceso, tarea, archivo y nombre"
   ]
  },
  {
   "attachments": {},
   "cell_type": "markdown",
   "metadata": {},
   "source": [
    "### Proceso 05"
   ]
  },
  {
   "cell_type": "code",
   "execution_count": 26,
   "metadata": {
    "ExecuteTime": {
     "end_time": "2020-12-25T17:59:27.022001Z",
     "start_time": "2020-12-25T17:59:15.986986Z"
    },
    "scrolled": false,
    "vscode": {
     "languageId": "r"
    }
   },
   "outputs": [],
   "source": [
    "caso <- \"CU_04\"\n",
    "proceso <- '_05'\n",
    "tarea <- \"_15\"\n",
    "archivo <- \"\"\n",
    "proper <- \"_zonas_contaminacion\"\n",
    "extension <- \".csv\""
   ]
  },
  {
   "attachments": {},
   "cell_type": "markdown",
   "metadata": {},
   "source": [
    "<font color='tomato'><b> OPCION A:</b> Uso del paquete \"tcltk\" para mayor comodidad</font>\n",
    "\n",
    "* Buscar carpeta, escribir nombre de archivo SIN extensión (se especifica en el código)\n",
    "* Especificar sufijo2 si es necesario\n",
    "* Cambiar datos por datos_xx si es necesario"
   ]
  },
  {
   "cell_type": "code",
   "execution_count": null,
   "metadata": {
    "ExecuteTime": {
     "end_time": "2020-12-25T17:59:27.022001Z",
     "start_time": "2020-12-25T17:59:15.986986Z"
    },
    "scrolled": false,
    "vscode": {
     "languageId": "r"
    }
   },
   "outputs": [],
   "source": [
    "# file_save <- paste0(caso, proceso, tarea, tcltk::tkgetSaveFile(), proper, extension) \n",
    "# path_out <- paste0(oPath, file_save)\n",
    "# write_csv(data_to_save, path_out)\n",
    "\n",
    "# cat('File saved as: ')\n",
    "# path_out"
   ]
  },
  {
   "attachments": {},
   "cell_type": "markdown",
   "metadata": {},
   "source": [
    "<font color='tomato'><b> OPCION B:</b> Especificar el nombre de archivo</font>"
   ]
  },
  {
   "attachments": {},
   "cell_type": "markdown",
   "metadata": {},
   "source": [
    "- Los ficheros de salida del proceso van siempre a Data/Output/.  "
   ]
  },
  {
   "cell_type": "code",
   "execution_count": 29,
   "metadata": {
    "ExecuteTime": {
     "end_time": "2021-01-26T18:40:31.258294Z",
     "start_time": "2021-01-26T18:40:26.061847Z"
    },
    "slideshow": {
     "slide_type": "subslide"
    },
    "vscode": {
     "languageId": "r"
    }
   },
   "outputs": [
    {
     "name": "stdout",
     "output_type": "stream",
     "text": [
      "File saved as: "
     ]
    },
    {
     "data": {
      "text/html": [
       "'Data/Output/CU_04_05_15_zonas_contaminacion.csv'"
      ],
      "text/latex": [
       "'Data/Output/CU\\_04\\_05\\_15\\_zonas\\_contaminacion.csv'"
      ],
      "text/markdown": [
       "'Data/Output/CU_04_05_15_zonas_contaminacion.csv'"
      ],
      "text/plain": [
       "[1] \"Data/Output/CU_04_05_15_zonas_contaminacion.csv\""
      ]
     },
     "metadata": {},
     "output_type": "display_data"
    }
   ],
   "source": [
    "file_save <- paste0(caso, proceso, tarea, archivo, proper, extension) \n",
    "path_out <- paste0(oPath, file_save)\n",
    "write_csv(data_to_save, path_out)\n",
    "\n",
    "cat('File saved as: ')\n",
    "path_out"
   ]
  },
  {
   "attachments": {},
   "cell_type": "markdown",
   "metadata": {},
   "source": [
    "#### Copia del fichero a Input\n",
    "\n",
    "Si el archivo se va a usar en otros notebooks, copiar a la carpeta Input"
   ]
  },
  {
   "cell_type": "code",
   "execution_count": 30,
   "metadata": {
    "vscode": {
     "languageId": "r"
    }
   },
   "outputs": [
    {
     "data": {
      "text/html": [
       "TRUE"
      ],
      "text/latex": [
       "TRUE"
      ],
      "text/markdown": [
       "TRUE"
      ],
      "text/plain": [
       "[1] TRUE"
      ]
     },
     "metadata": {},
     "output_type": "display_data"
    }
   ],
   "source": [
    "path_in <- paste0(iPath, file_save)\n",
    "file.copy(path_out, path_in, overwrite = TRUE)"
   ]
  },
  {
   "cell_type": "markdown",
   "metadata": {},
   "source": [
    "## <font color=' #2874a6 '>Main Conclusions</font>"
   ]
  },
  {
   "cell_type": "markdown",
   "metadata": {
    "slideshow": {
     "slide_type": "slide"
    }
   },
   "source": [
    "<font color='steelblue'>List and describe the general conclusions of the analysis carried out​.</font>"
   ]
  },
  {
   "attachments": {},
   "cell_type": "markdown",
   "metadata": {},
   "source": [
    "### Prerequisites\n",
    "\n",
    "Para que funcione este código se necesita:\n",
    "\n",
    "* Las rutas de archivos `Data/Input` y `Data/Output` deben existir (relativas a la ruta del _notebook_)\n",
    "* El paquete tcltk instalado para seleccionar archivos interactivamente. No se necesita en producción.\n",
    "* Los paquetes sf, readr, dplyr, tidyr, gstat, stringr deben estar instalados.\n",
    "\n"
   ]
  },
  {
   "attachments": {},
   "cell_type": "markdown",
   "metadata": {},
   "source": [
    "### Configuration Management\n",
    "\n",
    "This notebook has been tested with the following versions of R and packages. It cannot be assured that later versions work in the same way:\n",
    "* R 4.2.2\n",
    "* tcltk 4.2.2\n",
    "* sf 1.0.9\n",
    "* readr 2.1.3\n",
    "* dplyr 1.0.10\n",
    "* tidyr 1.3.0\n",
    "* gstat 2.1.0\n",
    "* stringr 1.5.0"
   ]
  },
  {
   "attachments": {},
   "cell_type": "markdown",
   "metadata": {},
   "source": [
    "### Data structures"
   ]
  },
  {
   "attachments": {},
   "cell_type": "markdown",
   "metadata": {},
   "source": [
    "#### Objeto `data`\n",
    "\n",
    "- Hay 21164 filas\n",
    "\t* GEOCODIGO\n",
    "\t* benzene\n",
    "\t* co\n",
    "\t* no\n",
    "\t* no2\n",
    "\t* nox\n",
    "\t* o3\n",
    "\t* pm10\n",
    "\t* pm2.5\n",
    "\t* so2\n",
    "\t* ano\n",
    "\t* semana\n"
   ]
  },
  {
   "attachments": {},
   "cell_type": "markdown",
   "metadata": {},
   "source": [
    "#### Observaciones generales sobre los datos\n",
    "\n",
    "* La interpolación se ha hecho sobre los centroides de las zonas ya que la función no admite interpolar a polígonos\n",
    "* En los casos en que la correlación espacial era negativa se ha asignado NA porque se producían errores"
   ]
  },
  {
   "attachments": {},
   "cell_type": "markdown",
   "metadata": {},
   "source": [
    "### Consideraciones para despliegue en piloto\n",
    "\n",
    "* Ninguna"
   ]
  },
  {
   "attachments": {},
   "cell_type": "markdown",
   "metadata": {},
   "source": [
    "### Consideraciones para despliegue en producción\n",
    "\n",
    "* Se deben crear los procesos ETL en producción necesarios para que los datos de entrada estén actualizados"
   ]
  },
  {
   "cell_type": "markdown",
   "metadata": {},
   "source": [
    "## <font color=' #2874a6 '>Main Actions</font>"
   ]
  },
  {
   "cell_type": "markdown",
   "metadata": {},
   "source": [
    "#### <font color=' #2874a6 '>Acciones done</font>"
   ]
  },
  {
   "cell_type": "markdown",
   "metadata": {
    "slideshow": {
     "slide_type": "slide"
    }
   },
   "source": [
    "<font color='steelblue'>Indicate the actions that have been carried out in this process</font>"
   ]
  },
  {
   "attachments": {},
   "cell_type": "markdown",
   "metadata": {},
   "source": [
    "- Se han calculado los centroides de las zonas\n",
    "- Se han interpolado los datos de contaminación a las zonas\n"
   ]
  },
  {
   "cell_type": "markdown",
   "metadata": {},
   "source": [
    "#### <font color=' #2874a6 '>Acctions to perform</font>"
   ]
  },
  {
   "cell_type": "markdown",
   "metadata": {
    "slideshow": {
     "slide_type": "slide"
    }
   },
   "source": [
    "<font color='steelblue'>Indicate the actions that must be carried out in subsequent processes</font>"
   ]
  },
  {
   "attachments": {},
   "cell_type": "markdown",
   "metadata": {},
   "source": [
    "- Se deben unir estos datos a los datos de vacunación y sanitarios para incluir en los modelos"
   ]
  },
  {
   "attachments": {},
   "cell_type": "markdown",
   "metadata": {},
   "source": [
    "## <font color='RED'>CODE TO DEPLOY (PILOT)</font>\n",
    "\n",
    "A continuación se incluirá el código que deba ser llevado a despliegue para producción, dado que se entiende efectúa operaciones necesarias sobre los datos en la ejecución del prototipo"
   ]
  },
  {
   "attachments": {},
   "cell_type": "markdown",
   "metadata": {},
   "source": [
    "<font color=' red '><b>Description</b></font>\n",
    "\n",
    "- No hay nada que desplegar en el piloto, ya que estos datos son estáticos o en todo caso cambian con muy poca frecuencia, altamente improbable durante el proyecto.\n"
   ]
  },
  {
   "attachments": {},
   "cell_type": "markdown",
   "metadata": {},
   "source": [
    "<font color=' red '><b>CODE</b></font>"
   ]
  },
  {
   "cell_type": "code",
   "execution_count": null,
   "metadata": {
    "vscode": {
     "languageId": "r"
    }
   },
   "outputs": [],
   "source": [
    "# incluir código"
   ]
  }
 ],
 "metadata": {
  "anaconda-cloud": {},
  "celltoolbar": "Slideshow",
  "hide_input": false,
  "kernelspec": {
   "display_name": "R",
   "language": "R",
   "name": "ir"
  },
  "language_info": {
   "codemirror_mode": "r",
   "file_extension": ".r",
   "mimetype": "text/x-r-source",
   "name": "R",
   "pygments_lexer": "r",
   "version": "4.2.2"
  },
  "latex_envs": {
   "LaTeX_envs_menu_present": true,
   "autoclose": false,
   "autocomplete": true,
   "bibliofile": "biblio.bib",
   "cite_by": "apalike",
   "current_citInitial": 1,
   "eqLabelWithNumbers": true,
   "eqNumInitial": 1,
   "hotkeys": {
    "equation": "Ctrl-E",
    "itemize": "Ctrl-I"
   },
   "labels_anchors": false,
   "latex_user_defs": false,
   "report_style_numbering": true,
   "user_envs_cfg": false
  },
  "toc": {
   "base_numbering": 1,
   "nav_menu": {
    "height": "11.6px",
    "width": "160px"
   },
   "number_sections": false,
   "sideBar": true,
   "skip_h1_title": true,
   "title_cell": "Table of Contents",
   "title_sidebar": "Contents",
   "toc_cell": true,
   "toc_position": {
    "height": "calc(100% - 180px)",
    "left": "10px",
    "top": "150px",
    "width": "209.2px"
   },
   "toc_section_display": true,
   "toc_window_display": true
  },
  "varInspector": {
   "cols": {
    "lenName": 16,
    "lenType": 16,
    "lenVar": 40
   },
   "kernels_config": {
    "python": {
     "delete_cmd_postfix": "",
     "delete_cmd_prefix": "del ",
     "library": "var_list.py",
     "varRefreshCmd": "print(var_dic_list())"
    },
    "r": {
     "delete_cmd_postfix": ") ",
     "delete_cmd_prefix": "rm(",
     "library": "var_list.r",
     "varRefreshCmd": "cat(var_dic_list()) "
    }
   },
   "types_to_exclude": [
    "module",
    "function",
    "builtin_function_or_method",
    "instance",
    "_Feature"
   ],
   "window_display": false
  }
 },
 "nbformat": 4,
 "nbformat_minor": 1
}
