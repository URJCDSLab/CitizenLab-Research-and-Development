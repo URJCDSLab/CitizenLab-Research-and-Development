{
 "cells": [
  {
   "cell_type": "markdown",
   "metadata": {
    "slideshow": {
     "slide_type": "slide"
    }
   },
   "source": [
    "<img src=\".\\images\\Logo.png\" width=150 align=\"left\" /> <img src=\".\\images\\Logo2.jpg\" width=450 align=\"right\" />"
   ]
  },
  {
   "cell_type": "markdown",
   "metadata": {
    "slideshow": {
     "slide_type": "slide"
    }
   },
   "source": [
    "\n",
    "# <center><font color= #1e8449 > <b>CU04_Optimización de vacunas</font></center>"
   ]
  },
  {
   "cell_type": "markdown",
   "metadata": {
    "slideshow": {
     "slide_type": "slide"
    }
   },
   "source": [
    "<font color='steelblue'><b>Citizenlab Data Science Methodology > II - Data Processing Domain </font>\n",
    "***\n",
    "> # <font color='steelblue'> <b>06.- Data Adequacy</font>"
   ]
  },
  {
   "cell_type": "markdown",
   "metadata": {
    "slideshow": {
     "slide_type": "slide"
    }
   },
   "source": [
    "<font color='steelblue'>Data Adequacy is the process to adapt basic and fundamental aspects of the raw data (File Format, Data Separator, Feature Names, Tidy Data, etcetera).</font>"
   ]
  },
  {
   "cell_type": "markdown",
   "metadata": {
    "slideshow": {
     "slide_type": "slide"
    }
   },
   "source": [
    "## <font color='steelblue'>Tasks</font>"
   ]
  },
  {
   "cell_type": "markdown",
   "metadata": {
    "slideshow": {
     "slide_type": "slide"
    }
   },
   "source": [
    "<font color='steelblue'><b>File format</b>\t\n",
    "- Verify/Obtain Tabular CSV (row x column) if is appropriate \n",
    "- Change Data Separator Character in CSV files to “,”\t\n",
    "- Verify decimal point in numeric data is “.”\n",
    "\n",
    "<font color='steelblue'><b>Feature Names\t\n",
    "- Verify names are Simple, Usable and Recognizable</b>\t\n",
    "- Rename Target column name=”Target” and always will be the last column\t\n",
    "- Verify column names are the first row of csv file\t\n",
    "- Remove spaces  others characters in the column names\t\n",
    "    \n",
    "<font color='steelblue'><b>Data Types</b>\n",
    "- Verify data types\t\n",
    "- Change data types\t\n",
    "- Verify that object type is changed\t\n",
    "    \n",
    "<font color='steelblue'><b>Tidy Data</b>\t\t\n",
    "- Verify each variable forms a column \n",
    "- Verify each observation forms a row\t\n",
    "- Verify each type of observational unit forms a table\t"
   ]
  },
  {
   "attachments": {},
   "cell_type": "markdown",
   "metadata": {},
   "source": [
    "## Consideraciones casos CitizenLab programados en R\n",
    "\n",
    "* La mayoría de las tareas de este proceso se han realizado en los notebooks del proceso 05 Data Collection porque eran necesarias para las tareas ETL. En esos casos, en este notebook se referencia al notebook del proceso 05 correspondiente\n",
    "* Por tanto en los notebooks de este proceso de manera general se incluyen las comprobaciones necesarias, y comentarios si procede\n",
    "* Las tareas del proceso se van a aplicar solo a los archivos que forman parte del despliegue, ya que hay muchos archivos intermedios que no procede pasar por este proceso\n",
    "* El nombre de archivo del notebook hace referencia al nombre de archivo del proceso 05 al que se aplica este proceso, por eso pueden no ser correlativa la numeración\n",
    "* Las comprobaciones se van a realizar teniendo en cuenta que el lenguaje utilizado en el despliegue de este caso es R"
   ]
  },
  {
   "cell_type": "markdown",
   "metadata": {
    "slideshow": {
     "slide_type": "slide"
    }
   },
   "source": [
    "## <font color='green'>File</font>"
   ]
  },
  {
   "attachments": {},
   "cell_type": "markdown",
   "metadata": {
    "slideshow": {
     "slide_type": "slide"
    }
   },
   "source": [
    "- <font color='steelblue'> <b>Input File: CU_04_05_19_vacunacion_gripe_completo.csv</font>\n",
    "- <font color='steelblue'> <b>Output File: CU_04_06_19_vacunacion_gripe_completo.csv</font>\n"
   ]
  },
  {
   "cell_type": "markdown",
   "metadata": {
    "slideshow": {
     "slide_type": "slide"
    }
   },
   "source": [
    "## <font color='green'>Settings</font>"
   ]
  },
  {
   "cell_type": "markdown",
   "metadata": {},
   "source": [
    "### Encoding\n",
    "\n",
    "Con la siguiente expresión se evitan problemas con el encoding al ejecutar el notebook. Es posible que deba ser eliminada o adaptada a la máquina en la que se ejecute el código."
   ]
  },
  {
   "cell_type": "code",
   "execution_count": 2,
   "metadata": {
    "vscode": {
     "languageId": "r"
    }
   },
   "outputs": [
    {
     "name": "stderr",
     "output_type": "stream",
     "text": [
      "Warning message in Sys.setlocale(category = \"LC_ALL\", locale = \"es_ES.UTF-8\"):\n",
      "“OS reports request to set locale to \"es_ES.UTF-8\" cannot be honored”\n"
     ]
    },
    {
     "data": {
      "text/html": [
       "''"
      ],
      "text/latex": [
       "''"
      ],
      "text/markdown": [
       "''"
      ],
      "text/plain": [
       "[1] \"\""
      ]
     },
     "metadata": {},
     "output_type": "display_data"
    }
   ],
   "source": [
    "Sys.setlocale(category = \"LC_ALL\", locale = \"es_ES.UTF-8\")"
   ]
  },
  {
   "attachments": {},
   "cell_type": "markdown",
   "metadata": {},
   "source": [
    "### Libraries to use"
   ]
  },
  {
   "cell_type": "code",
   "execution_count": 3,
   "metadata": {
    "ExecuteTime": {
     "end_time": "2020-12-25T18:02:52.556732Z",
     "start_time": "2020-12-25T18:02:52.541126Z"
    },
    "slideshow": {
     "slide_type": "subslide"
    },
    "vscode": {
     "languageId": "r"
    }
   },
   "outputs": [
    {
     "name": "stderr",
     "output_type": "stream",
     "text": [
      "\n",
      "Attaching package: ‘dplyr’\n",
      "\n",
      "\n",
      "The following objects are masked from ‘package:stats’:\n",
      "\n",
      "    filter, lag\n",
      "\n",
      "\n",
      "The following objects are masked from ‘package:base’:\n",
      "\n",
      "    intersect, setdiff, setequal, union\n",
      "\n",
      "\n"
     ]
    }
   ],
   "source": [
    "library(readr)\n",
    "library(dplyr)\n",
    "library(tidyr)\n",
    "library(stringr)"
   ]
  },
  {
   "cell_type": "markdown",
   "metadata": {},
   "source": [
    "### Paths"
   ]
  },
  {
   "cell_type": "code",
   "execution_count": 4,
   "metadata": {
    "vscode": {
     "languageId": "r"
    }
   },
   "outputs": [],
   "source": [
    "iPath <- \"Data/Input/\"\n",
    "oPath <- \"Data/Output/\""
   ]
  },
  {
   "cell_type": "markdown",
   "metadata": {
    "slideshow": {
     "slide_type": "slide"
    }
   },
   "source": [
    "## <font color='green'>Data Load</font>"
   ]
  },
  {
   "cell_type": "markdown",
   "metadata": {},
   "source": [
    "<font color='tomato'><b> OPCION A:</b> Seleccionar fichero en ventana para mayor comodidad</font> "
   ]
  },
  {
   "attachments": {},
   "cell_type": "markdown",
   "metadata": {},
   "source": [
    "Data load using the {tcltk} package. Ucomment the line if using this option"
   ]
  },
  {
   "cell_type": "code",
   "execution_count": 5,
   "metadata": {
    "vscode": {
     "languageId": "r"
    }
   },
   "outputs": [],
   "source": [
    "# file_data <- tcltk::tk_choose.files(multi = FALSE)"
   ]
  },
  {
   "cell_type": "markdown",
   "metadata": {},
   "source": [
    "<font color='tomato'><b> OPCION B:</b> Especificar el nombre de archivo</font>\n",
    "\n"
   ]
  },
  {
   "cell_type": "code",
   "execution_count": 6,
   "metadata": {
    "vscode": {
     "languageId": "r"
    }
   },
   "outputs": [
    {
     "name": "stdout",
     "output_type": "stream",
     "text": [
      "Se leerán datos del archivo:  Data/Input/CU_04_05_19_vacunacion_gripe_completo.csv"
     ]
    }
   ],
   "source": [
    "iFile <- \"CU_04_05_19_vacunacion_gripe_completo.csv\"\n",
    "file_data <- paste0(iPath, iFile)\n",
    "\n",
    "if(file.exists(file_data)){\n",
    "    cat(\"Se leerán datos del archivo: \", file_data)\n",
    "} else{\n",
    "    warning(\"Cuidado: el archivo no existe.\")\n",
    "}\n"
   ]
  },
  {
   "cell_type": "markdown",
   "metadata": {
    "slideshow": {
     "slide_type": "slide"
    }
   },
   "source": [
    "## <font color='green'>Task</font>"
   ]
  },
  {
   "cell_type": "markdown",
   "metadata": {
    "slideshow": {
     "slide_type": "slide"
    }
   },
   "source": [
    "### File format\n"
   ]
  },
  {
   "cell_type": "markdown",
   "metadata": {
    "slideshow": {
     "slide_type": "slide"
    }
   },
   "source": [
    "#### Verify/Obtain Tabular CSV (row x column) if is appropriate"
   ]
  },
  {
   "cell_type": "code",
   "execution_count": 7,
   "metadata": {},
   "outputs": [
    {
     "name": "stdout",
     "output_type": "stream",
     "text": [
      "\n",
      "El archivo contiene una representación tabular.\n",
      "Número de filas:  21736\n",
      "Número de columnas:  47"
     ]
    }
   ],
   "source": [
    "data <- read.csv(file_data)\n",
    "    \n",
    "    # Verify if the data is appropriate and obtain its dimensions\n",
    "    if (!is.null(dim(data))) {\n",
    "      cat(\"\\nEl archivo contiene una representación tabular.\")\n",
    "      \n",
    "      # Print the dimensions (rows x columns)\n",
    "      cat(\"\\nNúmero de filas: \", dim(data)[1])\n",
    "      cat(\"\\nNúmero de columnas: \", dim(data)[2])\n",
    "      \n",
    "    } else {\n",
    "      warning(\"Cuidado: el archivo no contiene una representación tabular.\")\n",
    "    }"
   ]
  },
  {
   "cell_type": "markdown",
   "metadata": {},
   "source": [
    "<font color=' #2874a6 '><b>Remarks</b></font>"
   ]
  },
  {
   "attachments": {},
   "cell_type": "markdown",
   "metadata": {},
   "source": [
    "- Se ha verificado que el CSV carga las filas y columnas sin errores\n"
   ]
  },
  {
   "cell_type": "markdown",
   "metadata": {},
   "source": [
    "<font color=' #2874a6 '><b>CODE</b></font>"
   ]
  },
  {
   "cell_type": "markdown",
   "metadata": {},
   "source": [
    "#### Data file to dataframe\n",
    "\n",
    "Usar la función adecuada según el formato de entrada (xlsx, csv, json, ...)"
   ]
  },
  {
   "cell_type": "code",
   "execution_count": 8,
   "metadata": {
    "vscode": {
     "languageId": "r"
    }
   },
   "outputs": [
    {
     "name": "stderr",
     "output_type": "stream",
     "text": [
      "\u001b[1mRows: \u001b[22m\u001b[34m21736\u001b[39m \u001b[1mColumns: \u001b[22m\u001b[34m47\u001b[39m\n",
      "\u001b[36m──\u001b[39m \u001b[1mColumn specification\u001b[22m \u001b[36m────────────────────────────────────────────────────────────────────────────────────────────────────────────────\u001b[39m\n",
      "\u001b[1mDelimiter:\u001b[22m \",\"\n",
      "\u001b[31mchr\u001b[39m  (3): GEOCODIGO, DESBDT, nombre_zona\n",
      "\u001b[32mdbl\u001b[39m (44): ano, semana, n_vacunas, n_citas, tmed, prec, velmedia, presMax, be...\n",
      "\n",
      "\u001b[36mℹ\u001b[39m Use `spec()` to retrieve the full column specification for this data.\n",
      "\u001b[36mℹ\u001b[39m Specify the column types or set `show_col_types = FALSE` to quiet this message.\n"
     ]
    }
   ],
   "source": [
    "data <- read_csv(file_data)\n"
   ]
  },
  {
   "cell_type": "markdown",
   "metadata": {},
   "source": [
    "Estructura de  los datos:"
   ]
  },
  {
   "cell_type": "code",
   "execution_count": 9,
   "metadata": {
    "vscode": {
     "languageId": "r"
    }
   },
   "outputs": [
    {
     "name": "stdout",
     "output_type": "stream",
     "text": [
      "Rows: 21,736\n",
      "Columns: 47\n",
      "$ GEOCODIGO         \u001b[3m\u001b[90m<chr>\u001b[39m\u001b[23m \"001\", \"001\", \"001\", \"001\", \"001\", \"001\", \"001\", \"00…\n",
      "$ DESBDT            \u001b[3m\u001b[90m<chr>\u001b[39m\u001b[23m \"Abrantes\", \"Abrantes\", \"Abrantes\", \"Abrantes\", \"Abr…\n",
      "$ ano               \u001b[3m\u001b[90m<dbl>\u001b[39m\u001b[23m 2021, 2021, 2021, 2021, 2021, 2021, 2021, 2021, 2021…\n",
      "$ semana            \u001b[3m\u001b[90m<dbl>\u001b[39m\u001b[23m 36, 37, 38, 39, 40, 41, 42, 43, 44, 45, 46, 47, 48, …\n",
      "$ n_vacunas         \u001b[3m\u001b[90m<dbl>\u001b[39m\u001b[23m 0, 0, 0, 0, 0, 328, 344, 353, 371, 341, 389, 349, 40…\n",
      "$ n_citas           \u001b[3m\u001b[90m<dbl>\u001b[39m\u001b[23m 0, 0, 0, 0, 0, 305, 327, 328, 341, 334, 373, 332, 37…\n",
      "$ tmed              \u001b[3m\u001b[90m<dbl>\u001b[39m\u001b[23m 23.822231, 20.160014, 18.551058, 18.815387, 17.49447…\n",
      "$ prec              \u001b[3m\u001b[90m<dbl>\u001b[39m\u001b[23m -0.0063023484, 3.5537258042, 3.9769052178, 1.4806472…\n",
      "$ velmedia          \u001b[3m\u001b[90m<dbl>\u001b[39m\u001b[23m 3.573728, 2.494744, 3.316148, 2.384262, 1.850839, 1.…\n",
      "$ presMax           \u001b[3m\u001b[90m<dbl>\u001b[39m\u001b[23m 940.9841, 940.7610, 943.1540, 944.6697, 944.2973, 94…\n",
      "$ benzene           \u001b[3m\u001b[90m<dbl>\u001b[39m\u001b[23m 0.1713567, 0.1573829, 0.1858059, 0.1486437, 0.142803…\n",
      "$ co                \u001b[3m\u001b[90m<dbl>\u001b[39m\u001b[23m 0.1680325, 0.2138607, 0.2034376, 0.2399882, 0.269345…\n",
      "$ no                \u001b[3m\u001b[90m<dbl>\u001b[39m\u001b[23m 4.098371, 6.515572, 5.477654, 9.593391, 18.860535, 1…\n",
      "$ no2               \u001b[3m\u001b[90m<dbl>\u001b[39m\u001b[23m 20.09480, 27.42594, 20.74836, 37.08524, 40.19475, 44…\n",
      "$ nox               \u001b[3m\u001b[90m<dbl>\u001b[39m\u001b[23m 26.48135, 37.45944, 25.61128, 52.43745, 74.04903, 75…\n",
      "$ o3                \u001b[3m\u001b[90m<dbl>\u001b[39m\u001b[23m 50.03434, 42.41281, 56.29918, 46.79483, 41.06600, 44…\n",
      "$ pm10              \u001b[3m\u001b[90m<dbl>\u001b[39m\u001b[23m 17.447652, 17.658399, 12.844436, 16.395896, 14.90938…\n",
      "$ pm2.5             \u001b[3m\u001b[90m<dbl>\u001b[39m\u001b[23m 3.008675, 10.083070, 7.218588, 9.426029, 8.131753, 1…\n",
      "$ so2               \u001b[3m\u001b[90m<dbl>\u001b[39m\u001b[23m 6.861545, 6.589638, 4.364304, 3.123598, 1.291137, 1.…\n",
      "$ campana           \u001b[3m\u001b[90m<dbl>\u001b[39m\u001b[23m 2021, 2021, 2021, 2021, 2021, 2021, 2021, 2021, 2021…\n",
      "$ scampana          \u001b[3m\u001b[90m<dbl>\u001b[39m\u001b[23m 1, 2, 3, 4, 5, 6, 7, 8, 9, 10, 11, 12, 13, 14, 15, 1…\n",
      "$ capacidad_zona    \u001b[3m\u001b[90m<dbl>\u001b[39m\u001b[23m 7477, 7477, 7477, 7477, 7477, 7477, 7477, 7477, 7477…\n",
      "$ prop_riesgo       \u001b[3m\u001b[90m<dbl>\u001b[39m\u001b[23m 0.1953542, 0.1953542, 0.1953542, 0.1953542, 0.195354…\n",
      "$ tasa_riesgo       \u001b[3m\u001b[90m<dbl>\u001b[39m\u001b[23m 0.006867731, 0.006867731, 0.006867731, 0.006867731, …\n",
      "$ tasa_mayores      \u001b[3m\u001b[90m<dbl>\u001b[39m\u001b[23m 0.03324259, 0.03324259, 0.03324259, 0.03324259, 0.03…\n",
      "$ poblacion_mayores \u001b[3m\u001b[90m<dbl>\u001b[39m\u001b[23m 0.1781619, 0.1781619, 0.1781619, 0.1781619, 0.178161…\n",
      "$ nombre_zona       \u001b[3m\u001b[90m<chr>\u001b[39m\u001b[23m \"Abrantes\", \"Abrantes\", \"Abrantes\", \"Abrantes\", \"Abr…\n",
      "$ nsec              \u001b[3m\u001b[90m<dbl>\u001b[39m\u001b[23m 23, 23, 23, 23, 23, 23, 23, 23, 23, 23, 23, 23, 23, …\n",
      "$ t3_1              \u001b[3m\u001b[90m<dbl>\u001b[39m\u001b[23m 42.31249, 42.31249, 42.31249, 42.31249, 42.31249, 42…\n",
      "$ t1_1              \u001b[3m\u001b[90m<dbl>\u001b[39m\u001b[23m 29872, 29872, 29872, 29872, 29872, 29872, 29872, 298…\n",
      "$ t2_1              \u001b[3m\u001b[90m<dbl>\u001b[39m\u001b[23m 0.5345094, 0.5345094, 0.5345094, 0.5345094, 0.534509…\n",
      "$ t2_2              \u001b[3m\u001b[90m<dbl>\u001b[39m\u001b[23m 0.4654906, 0.4654906, 0.4654906, 0.4654906, 0.465490…\n",
      "$ t4_1              \u001b[3m\u001b[90m<dbl>\u001b[39m\u001b[23m 0.1561935, 0.1561935, 0.1561935, 0.1561935, 0.156193…\n",
      "$ t4_2              \u001b[3m\u001b[90m<dbl>\u001b[39m\u001b[23m 0.6656459, 0.6656459, 0.6656459, 0.6656459, 0.665645…\n",
      "$ t4_3              \u001b[3m\u001b[90m<dbl>\u001b[39m\u001b[23m 0.1781619, 0.1781619, 0.1781619, 0.1781619, 0.178161…\n",
      "$ t5_1              \u001b[3m\u001b[90m<dbl>\u001b[39m\u001b[23m 0.2183993, 0.2183993, 0.2183993, 0.2183993, 0.218399…\n",
      "$ t6_1              \u001b[3m\u001b[90m<dbl>\u001b[39m\u001b[23m 0.3450855, 0.3450855, 0.3450855, 0.3450855, 0.345085…\n",
      "$ t7_1              \u001b[3m\u001b[90m<dbl>\u001b[39m\u001b[23m 0.04090796, 0.04090796, 0.04090796, 0.04090796, 0.04…\n",
      "$ t8_1              \u001b[3m\u001b[90m<dbl>\u001b[39m\u001b[23m 0.02880326, 0.02880326, 0.02880326, 0.02880326, 0.02…\n",
      "$ t9_1              \u001b[3m\u001b[90m<dbl>\u001b[39m\u001b[23m 0.2685716, 0.2685716, 0.2685716, 0.2685716, 0.268571…\n",
      "$ t10_1             \u001b[3m\u001b[90m<dbl>\u001b[39m\u001b[23m 0.1665607, 0.1665607, 0.1665607, 0.1665607, 0.166560…\n",
      "$ t11_1             \u001b[3m\u001b[90m<dbl>\u001b[39m\u001b[23m 0.4723181, 0.4723181, 0.4723181, 0.4723181, 0.472318…\n",
      "$ t12_1             \u001b[3m\u001b[90m<dbl>\u001b[39m\u001b[23m 0.5637381, 0.5637381, 0.5637381, 0.5637381, 0.563738…\n",
      "$ area              \u001b[3m\u001b[90m<dbl>\u001b[39m\u001b[23m 1571619, 1571619, 1571619, 1571619, 1571619, 1571619…\n",
      "$ densidad_hab_km   \u001b[3m\u001b[90m<dbl>\u001b[39m\u001b[23m 19007.15, 19007.15, 19007.15, 19007.15, 19007.15, 19…\n",
      "$ tuits_gripe       \u001b[3m\u001b[90m<dbl>\u001b[39m\u001b[23m 97, 79, 112, 143, 112, 130, 254, 190, 198, 160, 206,…\n",
      "$ interes_gripe     \u001b[3m\u001b[90m<dbl>\u001b[39m\u001b[23m 13, 15, 19, 29, 38, 65, 100, 94, 63, 70, 64, 64, 57,…\n"
     ]
    }
   ],
   "source": [
    "data |> glimpse()"
   ]
  },
  {
   "cell_type": "markdown",
   "metadata": {},
   "source": [
    "Muestra de los primeros datos:"
   ]
  },
  {
   "cell_type": "code",
   "execution_count": 10,
   "metadata": {
    "vscode": {
     "languageId": "r"
    }
   },
   "outputs": [
    {
     "data": {
      "text/html": [
       "<table class=\"dataframe\">\n",
       "<caption>A spec_tbl_df: 5 × 47</caption>\n",
       "<thead>\n",
       "\t<tr><th scope=col>GEOCODIGO</th><th scope=col>DESBDT</th><th scope=col>ano</th><th scope=col>semana</th><th scope=col>n_vacunas</th><th scope=col>n_citas</th><th scope=col>tmed</th><th scope=col>prec</th><th scope=col>velmedia</th><th scope=col>presMax</th><th scope=col>⋯</th><th scope=col>t7_1</th><th scope=col>t8_1</th><th scope=col>t9_1</th><th scope=col>t10_1</th><th scope=col>t11_1</th><th scope=col>t12_1</th><th scope=col>area</th><th scope=col>densidad_hab_km</th><th scope=col>tuits_gripe</th><th scope=col>interes_gripe</th></tr>\n",
       "\t<tr><th scope=col>&lt;chr&gt;</th><th scope=col>&lt;chr&gt;</th><th scope=col>&lt;dbl&gt;</th><th scope=col>&lt;dbl&gt;</th><th scope=col>&lt;dbl&gt;</th><th scope=col>&lt;dbl&gt;</th><th scope=col>&lt;dbl&gt;</th><th scope=col>&lt;dbl&gt;</th><th scope=col>&lt;dbl&gt;</th><th scope=col>&lt;dbl&gt;</th><th scope=col>⋯</th><th scope=col>&lt;dbl&gt;</th><th scope=col>&lt;dbl&gt;</th><th scope=col>&lt;dbl&gt;</th><th scope=col>&lt;dbl&gt;</th><th scope=col>&lt;dbl&gt;</th><th scope=col>&lt;dbl&gt;</th><th scope=col>&lt;dbl&gt;</th><th scope=col>&lt;dbl&gt;</th><th scope=col>&lt;dbl&gt;</th><th scope=col>&lt;dbl&gt;</th></tr>\n",
       "</thead>\n",
       "<tbody>\n",
       "\t<tr><td>001</td><td>Abrantes</td><td>2021</td><td>36</td><td>0</td><td>0</td><td>23.82223</td><td>-0.006302348</td><td>3.573728</td><td>940.9841</td><td>⋯</td><td>0.04090796</td><td>0.02880326</td><td>0.2685716</td><td>0.1665607</td><td>0.4723181</td><td>0.5637381</td><td>1571619</td><td>19007.15</td><td> 97</td><td>13</td></tr>\n",
       "\t<tr><td>001</td><td>Abrantes</td><td>2021</td><td>37</td><td>0</td><td>0</td><td>20.16001</td><td> 3.553725804</td><td>2.494744</td><td>940.7610</td><td>⋯</td><td>0.04090796</td><td>0.02880326</td><td>0.2685716</td><td>0.1665607</td><td>0.4723181</td><td>0.5637381</td><td>1571619</td><td>19007.15</td><td> 79</td><td>15</td></tr>\n",
       "\t<tr><td>001</td><td>Abrantes</td><td>2021</td><td>38</td><td>0</td><td>0</td><td>18.55106</td><td> 3.976905218</td><td>3.316148</td><td>943.1540</td><td>⋯</td><td>0.04090796</td><td>0.02880326</td><td>0.2685716</td><td>0.1665607</td><td>0.4723181</td><td>0.5637381</td><td>1571619</td><td>19007.15</td><td>112</td><td>19</td></tr>\n",
       "\t<tr><td>001</td><td>Abrantes</td><td>2021</td><td>39</td><td>0</td><td>0</td><td>18.81539</td><td> 1.480647232</td><td>2.384262</td><td>944.6697</td><td>⋯</td><td>0.04090796</td><td>0.02880326</td><td>0.2685716</td><td>0.1665607</td><td>0.4723181</td><td>0.5637381</td><td>1571619</td><td>19007.15</td><td>143</td><td>29</td></tr>\n",
       "\t<tr><td>001</td><td>Abrantes</td><td>2021</td><td>40</td><td>0</td><td>0</td><td>17.49447</td><td>-0.033790900</td><td>1.850839</td><td>944.2973</td><td>⋯</td><td>0.04090796</td><td>0.02880326</td><td>0.2685716</td><td>0.1665607</td><td>0.4723181</td><td>0.5637381</td><td>1571619</td><td>19007.15</td><td>112</td><td>38</td></tr>\n",
       "</tbody>\n",
       "</table>\n"
      ],
      "text/latex": [
       "A spec\\_tbl\\_df: 5 × 47\n",
       "\\begin{tabular}{lllllllllllllllllllll}\n",
       " GEOCODIGO & DESBDT & ano & semana & n\\_vacunas & n\\_citas & tmed & prec & velmedia & presMax & ⋯ & t7\\_1 & t8\\_1 & t9\\_1 & t10\\_1 & t11\\_1 & t12\\_1 & area & densidad\\_hab\\_km & tuits\\_gripe & interes\\_gripe\\\\\n",
       " <chr> & <chr> & <dbl> & <dbl> & <dbl> & <dbl> & <dbl> & <dbl> & <dbl> & <dbl> & ⋯ & <dbl> & <dbl> & <dbl> & <dbl> & <dbl> & <dbl> & <dbl> & <dbl> & <dbl> & <dbl>\\\\\n",
       "\\hline\n",
       "\t 001 & Abrantes & 2021 & 36 & 0 & 0 & 23.82223 & -0.006302348 & 3.573728 & 940.9841 & ⋯ & 0.04090796 & 0.02880326 & 0.2685716 & 0.1665607 & 0.4723181 & 0.5637381 & 1571619 & 19007.15 &  97 & 13\\\\\n",
       "\t 001 & Abrantes & 2021 & 37 & 0 & 0 & 20.16001 &  3.553725804 & 2.494744 & 940.7610 & ⋯ & 0.04090796 & 0.02880326 & 0.2685716 & 0.1665607 & 0.4723181 & 0.5637381 & 1571619 & 19007.15 &  79 & 15\\\\\n",
       "\t 001 & Abrantes & 2021 & 38 & 0 & 0 & 18.55106 &  3.976905218 & 3.316148 & 943.1540 & ⋯ & 0.04090796 & 0.02880326 & 0.2685716 & 0.1665607 & 0.4723181 & 0.5637381 & 1571619 & 19007.15 & 112 & 19\\\\\n",
       "\t 001 & Abrantes & 2021 & 39 & 0 & 0 & 18.81539 &  1.480647232 & 2.384262 & 944.6697 & ⋯ & 0.04090796 & 0.02880326 & 0.2685716 & 0.1665607 & 0.4723181 & 0.5637381 & 1571619 & 19007.15 & 143 & 29\\\\\n",
       "\t 001 & Abrantes & 2021 & 40 & 0 & 0 & 17.49447 & -0.033790900 & 1.850839 & 944.2973 & ⋯ & 0.04090796 & 0.02880326 & 0.2685716 & 0.1665607 & 0.4723181 & 0.5637381 & 1571619 & 19007.15 & 112 & 38\\\\\n",
       "\\end{tabular}\n"
      ],
      "text/markdown": [
       "\n",
       "A spec_tbl_df: 5 × 47\n",
       "\n",
       "| GEOCODIGO &lt;chr&gt; | DESBDT &lt;chr&gt; | ano &lt;dbl&gt; | semana &lt;dbl&gt; | n_vacunas &lt;dbl&gt; | n_citas &lt;dbl&gt; | tmed &lt;dbl&gt; | prec &lt;dbl&gt; | velmedia &lt;dbl&gt; | presMax &lt;dbl&gt; | ⋯ ⋯ | t7_1 &lt;dbl&gt; | t8_1 &lt;dbl&gt; | t9_1 &lt;dbl&gt; | t10_1 &lt;dbl&gt; | t11_1 &lt;dbl&gt; | t12_1 &lt;dbl&gt; | area &lt;dbl&gt; | densidad_hab_km &lt;dbl&gt; | tuits_gripe &lt;dbl&gt; | interes_gripe &lt;dbl&gt; |\n",
       "|---|---|---|---|---|---|---|---|---|---|---|---|---|---|---|---|---|---|---|---|---|\n",
       "| 001 | Abrantes | 2021 | 36 | 0 | 0 | 23.82223 | -0.006302348 | 3.573728 | 940.9841 | ⋯ | 0.04090796 | 0.02880326 | 0.2685716 | 0.1665607 | 0.4723181 | 0.5637381 | 1571619 | 19007.15 |  97 | 13 |\n",
       "| 001 | Abrantes | 2021 | 37 | 0 | 0 | 20.16001 |  3.553725804 | 2.494744 | 940.7610 | ⋯ | 0.04090796 | 0.02880326 | 0.2685716 | 0.1665607 | 0.4723181 | 0.5637381 | 1571619 | 19007.15 |  79 | 15 |\n",
       "| 001 | Abrantes | 2021 | 38 | 0 | 0 | 18.55106 |  3.976905218 | 3.316148 | 943.1540 | ⋯ | 0.04090796 | 0.02880326 | 0.2685716 | 0.1665607 | 0.4723181 | 0.5637381 | 1571619 | 19007.15 | 112 | 19 |\n",
       "| 001 | Abrantes | 2021 | 39 | 0 | 0 | 18.81539 |  1.480647232 | 2.384262 | 944.6697 | ⋯ | 0.04090796 | 0.02880326 | 0.2685716 | 0.1665607 | 0.4723181 | 0.5637381 | 1571619 | 19007.15 | 143 | 29 |\n",
       "| 001 | Abrantes | 2021 | 40 | 0 | 0 | 17.49447 | -0.033790900 | 1.850839 | 944.2973 | ⋯ | 0.04090796 | 0.02880326 | 0.2685716 | 0.1665607 | 0.4723181 | 0.5637381 | 1571619 | 19007.15 | 112 | 38 |\n",
       "\n"
      ],
      "text/plain": [
       "  GEOCODIGO DESBDT   ano  semana n_vacunas n_citas tmed     prec        \n",
       "1 001       Abrantes 2021 36     0         0       23.82223 -0.006302348\n",
       "2 001       Abrantes 2021 37     0         0       20.16001  3.553725804\n",
       "3 001       Abrantes 2021 38     0         0       18.55106  3.976905218\n",
       "4 001       Abrantes 2021 39     0         0       18.81539  1.480647232\n",
       "5 001       Abrantes 2021 40     0         0       17.49447 -0.033790900\n",
       "  velmedia presMax  ⋯ t7_1       t8_1       t9_1      t10_1     t11_1    \n",
       "1 3.573728 940.9841 ⋯ 0.04090796 0.02880326 0.2685716 0.1665607 0.4723181\n",
       "2 2.494744 940.7610 ⋯ 0.04090796 0.02880326 0.2685716 0.1665607 0.4723181\n",
       "3 3.316148 943.1540 ⋯ 0.04090796 0.02880326 0.2685716 0.1665607 0.4723181\n",
       "4 2.384262 944.6697 ⋯ 0.04090796 0.02880326 0.2685716 0.1665607 0.4723181\n",
       "5 1.850839 944.2973 ⋯ 0.04090796 0.02880326 0.2685716 0.1665607 0.4723181\n",
       "  t12_1     area    densidad_hab_km tuits_gripe interes_gripe\n",
       "1 0.5637381 1571619 19007.15         97         13           \n",
       "2 0.5637381 1571619 19007.15         79         15           \n",
       "3 0.5637381 1571619 19007.15        112         19           \n",
       "4 0.5637381 1571619 19007.15        143         29           \n",
       "5 0.5637381 1571619 19007.15        112         38           "
      ]
     },
     "metadata": {},
     "output_type": "display_data"
    }
   ],
   "source": [
    "data |> slice_head(n = 5)"
   ]
  },
  {
   "cell_type": "markdown",
   "metadata": {
    "slideshow": {
     "slide_type": "slide"
    }
   },
   "source": [
    "#### Change Data Separator Character in CSV files to “,” "
   ]
  },
  {
   "cell_type": "markdown",
   "metadata": {},
   "source": [
    "<font color=' #2874a6 '><b>Remarks</b></font>"
   ]
  },
  {
   "attachments": {},
   "cell_type": "markdown",
   "metadata": {},
   "source": [
    "- Se ha comprobado que el separador es \",\" ya que es la opción por defecto de `read_csv()`"
   ]
  },
  {
   "cell_type": "markdown",
   "metadata": {},
   "source": [
    "<font color=' #2874a6 '><b>CODE</b></font>"
   ]
  },
  {
   "cell_type": "code",
   "execution_count": 11,
   "metadata": {
    "ExecuteTime": {
     "end_time": "2021-01-27T11:01:34.878544Z",
     "start_time": "2021-01-27T11:01:34.740511Z"
    },
    "slideshow": {
     "slide_type": "subslide"
    },
    "vscode": {
     "languageId": "r"
    }
   },
   "outputs": [],
   "source": [
    "# \n"
   ]
  },
  {
   "cell_type": "markdown",
   "metadata": {
    "slideshow": {
     "slide_type": "slide"
    }
   },
   "source": [
    "#### Verify decimal point in numeric data is “.”"
   ]
  },
  {
   "cell_type": "markdown",
   "metadata": {},
   "source": [
    "<font color=' #2874a6 '><b>Remarks</b></font>"
   ]
  },
  {
   "attachments": {},
   "cell_type": "markdown",
   "metadata": {},
   "source": [
    "- Se ha comprobado que el símbolo decimal es \".\" ya que es la opción por defecto de `read_csv()`"
   ]
  },
  {
   "cell_type": "markdown",
   "metadata": {},
   "source": [
    "<font color=' #2874a6 '><b>CODE</b></font>"
   ]
  },
  {
   "cell_type": "code",
   "execution_count": 12,
   "metadata": {
    "ExecuteTime": {
     "end_time": "2021-01-27T11:01:34.878544Z",
     "start_time": "2021-01-27T11:01:34.740511Z"
    },
    "slideshow": {
     "slide_type": "subslide"
    },
    "vscode": {
     "languageId": "r"
    }
   },
   "outputs": [],
   "source": [
    "# \n"
   ]
  },
  {
   "cell_type": "markdown",
   "metadata": {
    "slideshow": {
     "slide_type": "slide"
    }
   },
   "source": [
    "### Feature Names\n"
   ]
  },
  {
   "cell_type": "markdown",
   "metadata": {
    "slideshow": {
     "slide_type": "slide"
    }
   },
   "source": [
    "#### Verify names are Simple, Usable and Recognizable "
   ]
  },
  {
   "cell_type": "markdown",
   "metadata": {},
   "source": [
    "<font color=' #2874a6 '><b>Remarks</b></font>"
   ]
  },
  {
   "attachments": {},
   "cell_type": "markdown",
   "metadata": {},
   "source": [
    "- Se ha comprobado que los nombres de columnas son simples, usables y reconocibles\n"
   ]
  },
  {
   "cell_type": "markdown",
   "metadata": {},
   "source": [
    "<font color=' #2874a6 '><b>CODE</b></font>"
   ]
  },
  {
   "cell_type": "markdown",
   "metadata": {},
   "source": [
    "<font color='tomato'>Visualizo el nombre de las columnas (características)</font>"
   ]
  },
  {
   "cell_type": "code",
   "execution_count": 13,
   "metadata": {
    "ExecuteTime": {
     "end_time": "2021-01-27T11:01:34.878544Z",
     "start_time": "2021-01-27T11:01:34.740511Z"
    },
    "slideshow": {
     "slide_type": "subslide"
    },
    "vscode": {
     "languageId": "r"
    }
   },
   "outputs": [
    {
     "data": {
      "text/html": [
       "<style>\n",
       ".list-inline {list-style: none; margin:0; padding: 0}\n",
       ".list-inline>li {display: inline-block}\n",
       ".list-inline>li:not(:last-child)::after {content: \"\\00b7\"; padding: 0 .5ex}\n",
       "</style>\n",
       "<ol class=list-inline><li>'GEOCODIGO'</li><li>'DESBDT'</li><li>'ano'</li><li>'semana'</li><li>'n_vacunas'</li><li>'n_citas'</li><li>'tmed'</li><li>'prec'</li><li>'velmedia'</li><li>'presMax'</li><li>'benzene'</li><li>'co'</li><li>'no'</li><li>'no2'</li><li>'nox'</li><li>'o3'</li><li>'pm10'</li><li>'pm2.5'</li><li>'so2'</li><li>'campana'</li><li>'scampana'</li><li>'capacidad_zona'</li><li>'prop_riesgo'</li><li>'tasa_riesgo'</li><li>'tasa_mayores'</li><li>'poblacion_mayores'</li><li>'nombre_zona'</li><li>'nsec'</li><li>'t3_1'</li><li>'t1_1'</li><li>'t2_1'</li><li>'t2_2'</li><li>'t4_1'</li><li>'t4_2'</li><li>'t4_3'</li><li>'t5_1'</li><li>'t6_1'</li><li>'t7_1'</li><li>'t8_1'</li><li>'t9_1'</li><li>'t10_1'</li><li>'t11_1'</li><li>'t12_1'</li><li>'area'</li><li>'densidad_hab_km'</li><li>'tuits_gripe'</li><li>'interes_gripe'</li></ol>\n"
      ],
      "text/latex": [
       "\\begin{enumerate*}\n",
       "\\item 'GEOCODIGO'\n",
       "\\item 'DESBDT'\n",
       "\\item 'ano'\n",
       "\\item 'semana'\n",
       "\\item 'n\\_vacunas'\n",
       "\\item 'n\\_citas'\n",
       "\\item 'tmed'\n",
       "\\item 'prec'\n",
       "\\item 'velmedia'\n",
       "\\item 'presMax'\n",
       "\\item 'benzene'\n",
       "\\item 'co'\n",
       "\\item 'no'\n",
       "\\item 'no2'\n",
       "\\item 'nox'\n",
       "\\item 'o3'\n",
       "\\item 'pm10'\n",
       "\\item 'pm2.5'\n",
       "\\item 'so2'\n",
       "\\item 'campana'\n",
       "\\item 'scampana'\n",
       "\\item 'capacidad\\_zona'\n",
       "\\item 'prop\\_riesgo'\n",
       "\\item 'tasa\\_riesgo'\n",
       "\\item 'tasa\\_mayores'\n",
       "\\item 'poblacion\\_mayores'\n",
       "\\item 'nombre\\_zona'\n",
       "\\item 'nsec'\n",
       "\\item 't3\\_1'\n",
       "\\item 't1\\_1'\n",
       "\\item 't2\\_1'\n",
       "\\item 't2\\_2'\n",
       "\\item 't4\\_1'\n",
       "\\item 't4\\_2'\n",
       "\\item 't4\\_3'\n",
       "\\item 't5\\_1'\n",
       "\\item 't6\\_1'\n",
       "\\item 't7\\_1'\n",
       "\\item 't8\\_1'\n",
       "\\item 't9\\_1'\n",
       "\\item 't10\\_1'\n",
       "\\item 't11\\_1'\n",
       "\\item 't12\\_1'\n",
       "\\item 'area'\n",
       "\\item 'densidad\\_hab\\_km'\n",
       "\\item 'tuits\\_gripe'\n",
       "\\item 'interes\\_gripe'\n",
       "\\end{enumerate*}\n"
      ],
      "text/markdown": [
       "1. 'GEOCODIGO'\n",
       "2. 'DESBDT'\n",
       "3. 'ano'\n",
       "4. 'semana'\n",
       "5. 'n_vacunas'\n",
       "6. 'n_citas'\n",
       "7. 'tmed'\n",
       "8. 'prec'\n",
       "9. 'velmedia'\n",
       "10. 'presMax'\n",
       "11. 'benzene'\n",
       "12. 'co'\n",
       "13. 'no'\n",
       "14. 'no2'\n",
       "15. 'nox'\n",
       "16. 'o3'\n",
       "17. 'pm10'\n",
       "18. 'pm2.5'\n",
       "19. 'so2'\n",
       "20. 'campana'\n",
       "21. 'scampana'\n",
       "22. 'capacidad_zona'\n",
       "23. 'prop_riesgo'\n",
       "24. 'tasa_riesgo'\n",
       "25. 'tasa_mayores'\n",
       "26. 'poblacion_mayores'\n",
       "27. 'nombre_zona'\n",
       "28. 'nsec'\n",
       "29. 't3_1'\n",
       "30. 't1_1'\n",
       "31. 't2_1'\n",
       "32. 't2_2'\n",
       "33. 't4_1'\n",
       "34. 't4_2'\n",
       "35. 't4_3'\n",
       "36. 't5_1'\n",
       "37. 't6_1'\n",
       "38. 't7_1'\n",
       "39. 't8_1'\n",
       "40. 't9_1'\n",
       "41. 't10_1'\n",
       "42. 't11_1'\n",
       "43. 't12_1'\n",
       "44. 'area'\n",
       "45. 'densidad_hab_km'\n",
       "46. 'tuits_gripe'\n",
       "47. 'interes_gripe'\n",
       "\n",
       "\n"
      ],
      "text/plain": [
       " [1] \"GEOCODIGO\"         \"DESBDT\"            \"ano\"              \n",
       " [4] \"semana\"            \"n_vacunas\"         \"n_citas\"          \n",
       " [7] \"tmed\"              \"prec\"              \"velmedia\"         \n",
       "[10] \"presMax\"           \"benzene\"           \"co\"               \n",
       "[13] \"no\"                \"no2\"               \"nox\"              \n",
       "[16] \"o3\"                \"pm10\"              \"pm2.5\"            \n",
       "[19] \"so2\"               \"campana\"           \"scampana\"         \n",
       "[22] \"capacidad_zona\"    \"prop_riesgo\"       \"tasa_riesgo\"      \n",
       "[25] \"tasa_mayores\"      \"poblacion_mayores\" \"nombre_zona\"      \n",
       "[28] \"nsec\"              \"t3_1\"              \"t1_1\"             \n",
       "[31] \"t2_1\"              \"t2_2\"              \"t4_1\"             \n",
       "[34] \"t4_2\"              \"t4_3\"              \"t5_1\"             \n",
       "[37] \"t6_1\"              \"t7_1\"              \"t8_1\"             \n",
       "[40] \"t9_1\"              \"t10_1\"             \"t11_1\"            \n",
       "[43] \"t12_1\"             \"area\"              \"densidad_hab_km\"  \n",
       "[46] \"tuits_gripe\"       \"interes_gripe\"    "
      ]
     },
     "metadata": {},
     "output_type": "display_data"
    }
   ],
   "source": [
    "colnames(data)"
   ]
  },
  {
   "cell_type": "markdown",
   "metadata": {},
   "source": [
    "<font color='tomato'>Cambio de nombre a columnas (si es necesario) para mejor uso</font>"
   ]
  },
  {
   "cell_type": "code",
   "execution_count": 14,
   "metadata": {
    "ExecuteTime": {
     "end_time": "2020-12-25T17:59:15.833222Z",
     "start_time": "2020-12-25T17:59:15.701702Z"
    },
    "slideshow": {
     "slide_type": "subslide"
    },
    "vscode": {
     "languageId": "r"
    }
   },
   "outputs": [],
   "source": [
    "# colnames(data) <- c(\"\")"
   ]
  },
  {
   "cell_type": "code",
   "execution_count": 15,
   "metadata": {
    "ExecuteTime": {
     "end_time": "2020-12-25T17:59:15.986986Z",
     "start_time": "2020-12-25T17:59:15.833222Z"
    },
    "slideshow": {
     "slide_type": "subslide"
    },
    "vscode": {
     "languageId": "r"
    }
   },
   "outputs": [
    {
     "data": {
      "text/html": [
       "<style>\n",
       ".list-inline {list-style: none; margin:0; padding: 0}\n",
       ".list-inline>li {display: inline-block}\n",
       ".list-inline>li:not(:last-child)::after {content: \"\\00b7\"; padding: 0 .5ex}\n",
       "</style>\n",
       "<ol class=list-inline><li>'GEOCODIGO'</li><li>'DESBDT'</li><li>'ano'</li><li>'semana'</li><li>'n_vacunas'</li><li>'n_citas'</li><li>'tmed'</li><li>'prec'</li><li>'velmedia'</li><li>'presMax'</li><li>'benzene'</li><li>'co'</li><li>'no'</li><li>'no2'</li><li>'nox'</li><li>'o3'</li><li>'pm10'</li><li>'pm2.5'</li><li>'so2'</li><li>'campana'</li><li>'scampana'</li><li>'capacidad_zona'</li><li>'prop_riesgo'</li><li>'tasa_riesgo'</li><li>'tasa_mayores'</li><li>'poblacion_mayores'</li><li>'nombre_zona'</li><li>'nsec'</li><li>'t3_1'</li><li>'t1_1'</li><li>'t2_1'</li><li>'t2_2'</li><li>'t4_1'</li><li>'t4_2'</li><li>'t4_3'</li><li>'t5_1'</li><li>'t6_1'</li><li>'t7_1'</li><li>'t8_1'</li><li>'t9_1'</li><li>'t10_1'</li><li>'t11_1'</li><li>'t12_1'</li><li>'area'</li><li>'densidad_hab_km'</li><li>'tuits_gripe'</li><li>'interes_gripe'</li></ol>\n"
      ],
      "text/latex": [
       "\\begin{enumerate*}\n",
       "\\item 'GEOCODIGO'\n",
       "\\item 'DESBDT'\n",
       "\\item 'ano'\n",
       "\\item 'semana'\n",
       "\\item 'n\\_vacunas'\n",
       "\\item 'n\\_citas'\n",
       "\\item 'tmed'\n",
       "\\item 'prec'\n",
       "\\item 'velmedia'\n",
       "\\item 'presMax'\n",
       "\\item 'benzene'\n",
       "\\item 'co'\n",
       "\\item 'no'\n",
       "\\item 'no2'\n",
       "\\item 'nox'\n",
       "\\item 'o3'\n",
       "\\item 'pm10'\n",
       "\\item 'pm2.5'\n",
       "\\item 'so2'\n",
       "\\item 'campana'\n",
       "\\item 'scampana'\n",
       "\\item 'capacidad\\_zona'\n",
       "\\item 'prop\\_riesgo'\n",
       "\\item 'tasa\\_riesgo'\n",
       "\\item 'tasa\\_mayores'\n",
       "\\item 'poblacion\\_mayores'\n",
       "\\item 'nombre\\_zona'\n",
       "\\item 'nsec'\n",
       "\\item 't3\\_1'\n",
       "\\item 't1\\_1'\n",
       "\\item 't2\\_1'\n",
       "\\item 't2\\_2'\n",
       "\\item 't4\\_1'\n",
       "\\item 't4\\_2'\n",
       "\\item 't4\\_3'\n",
       "\\item 't5\\_1'\n",
       "\\item 't6\\_1'\n",
       "\\item 't7\\_1'\n",
       "\\item 't8\\_1'\n",
       "\\item 't9\\_1'\n",
       "\\item 't10\\_1'\n",
       "\\item 't11\\_1'\n",
       "\\item 't12\\_1'\n",
       "\\item 'area'\n",
       "\\item 'densidad\\_hab\\_km'\n",
       "\\item 'tuits\\_gripe'\n",
       "\\item 'interes\\_gripe'\n",
       "\\end{enumerate*}\n"
      ],
      "text/markdown": [
       "1. 'GEOCODIGO'\n",
       "2. 'DESBDT'\n",
       "3. 'ano'\n",
       "4. 'semana'\n",
       "5. 'n_vacunas'\n",
       "6. 'n_citas'\n",
       "7. 'tmed'\n",
       "8. 'prec'\n",
       "9. 'velmedia'\n",
       "10. 'presMax'\n",
       "11. 'benzene'\n",
       "12. 'co'\n",
       "13. 'no'\n",
       "14. 'no2'\n",
       "15. 'nox'\n",
       "16. 'o3'\n",
       "17. 'pm10'\n",
       "18. 'pm2.5'\n",
       "19. 'so2'\n",
       "20. 'campana'\n",
       "21. 'scampana'\n",
       "22. 'capacidad_zona'\n",
       "23. 'prop_riesgo'\n",
       "24. 'tasa_riesgo'\n",
       "25. 'tasa_mayores'\n",
       "26. 'poblacion_mayores'\n",
       "27. 'nombre_zona'\n",
       "28. 'nsec'\n",
       "29. 't3_1'\n",
       "30. 't1_1'\n",
       "31. 't2_1'\n",
       "32. 't2_2'\n",
       "33. 't4_1'\n",
       "34. 't4_2'\n",
       "35. 't4_3'\n",
       "36. 't5_1'\n",
       "37. 't6_1'\n",
       "38. 't7_1'\n",
       "39. 't8_1'\n",
       "40. 't9_1'\n",
       "41. 't10_1'\n",
       "42. 't11_1'\n",
       "43. 't12_1'\n",
       "44. 'area'\n",
       "45. 'densidad_hab_km'\n",
       "46. 'tuits_gripe'\n",
       "47. 'interes_gripe'\n",
       "\n",
       "\n"
      ],
      "text/plain": [
       " [1] \"GEOCODIGO\"         \"DESBDT\"            \"ano\"              \n",
       " [4] \"semana\"            \"n_vacunas\"         \"n_citas\"          \n",
       " [7] \"tmed\"              \"prec\"              \"velmedia\"         \n",
       "[10] \"presMax\"           \"benzene\"           \"co\"               \n",
       "[13] \"no\"                \"no2\"               \"nox\"              \n",
       "[16] \"o3\"                \"pm10\"              \"pm2.5\"            \n",
       "[19] \"so2\"               \"campana\"           \"scampana\"         \n",
       "[22] \"capacidad_zona\"    \"prop_riesgo\"       \"tasa_riesgo\"      \n",
       "[25] \"tasa_mayores\"      \"poblacion_mayores\" \"nombre_zona\"      \n",
       "[28] \"nsec\"              \"t3_1\"              \"t1_1\"             \n",
       "[31] \"t2_1\"              \"t2_2\"              \"t4_1\"             \n",
       "[34] \"t4_2\"              \"t4_3\"              \"t5_1\"             \n",
       "[37] \"t6_1\"              \"t7_1\"              \"t8_1\"             \n",
       "[40] \"t9_1\"              \"t10_1\"             \"t11_1\"            \n",
       "[43] \"t12_1\"             \"area\"              \"densidad_hab_km\"  \n",
       "[46] \"tuits_gripe\"       \"interes_gripe\"    "
      ]
     },
     "metadata": {},
     "output_type": "display_data"
    }
   ],
   "source": [
    "colnames(data)"
   ]
  },
  {
   "cell_type": "markdown",
   "metadata": {
    "slideshow": {
     "slide_type": "slide"
    }
   },
   "source": [
    "#### Rename Target column name=”Target” and always will be the last column "
   ]
  },
  {
   "cell_type": "markdown",
   "metadata": {},
   "source": [
    "<font color=' #2874a6 '><b>Remarks</b></font>"
   ]
  },
  {
   "attachments": {},
   "cell_type": "markdown",
   "metadata": {},
   "source": [
    "- La columna a predecir o estimar sería **interes_gripe** \n",
    "- No procede ya que no es necesario para aplicar los modelos previstos\n"
   ]
  },
  {
   "cell_type": "markdown",
   "metadata": {},
   "source": [
    "<font color=' #2874a6 '><b>CODE</b></font>"
   ]
  },
  {
   "cell_type": "code",
   "execution_count": 16,
   "metadata": {
    "ExecuteTime": {
     "end_time": "2021-01-27T11:01:34.878544Z",
     "start_time": "2021-01-27T11:01:34.740511Z"
    },
    "slideshow": {
     "slide_type": "subslide"
    },
    "vscode": {
     "languageId": "r"
    }
   },
   "outputs": [],
   "source": [
    "data$Target <- data$interes_gripe"
   ]
  },
  {
   "cell_type": "markdown",
   "metadata": {
    "slideshow": {
     "slide_type": "slide"
    }
   },
   "source": [
    "#### Verify column names are the first row of csv file "
   ]
  },
  {
   "cell_type": "markdown",
   "metadata": {},
   "source": [
    "<font color=' #2874a6 '><b>Remarks</b></font>"
   ]
  },
  {
   "attachments": {},
   "cell_type": "markdown",
   "metadata": {},
   "source": [
    "- Se ha comprobado que la primera fila del archivo son los nombres de columna, ya que es la opción por defecto de `read_csv()`"
   ]
  },
  {
   "cell_type": "markdown",
   "metadata": {},
   "source": [
    "<font color=' #2874a6 '><b>CODE</b></font>"
   ]
  },
  {
   "cell_type": "code",
   "execution_count": 17,
   "metadata": {
    "ExecuteTime": {
     "end_time": "2021-01-27T11:01:34.878544Z",
     "start_time": "2021-01-27T11:01:34.740511Z"
    },
    "slideshow": {
     "slide_type": "subslide"
    },
    "vscode": {
     "languageId": "r"
    }
   },
   "outputs": [],
   "source": [
    "# \n"
   ]
  },
  {
   "cell_type": "markdown",
   "metadata": {
    "slideshow": {
     "slide_type": "slide"
    }
   },
   "source": [
    "#### Remove spaces and others characters in the column names "
   ]
  },
  {
   "cell_type": "markdown",
   "metadata": {},
   "source": [
    "<font color=' #2874a6 '><b>Remarks</b></font>"
   ]
  },
  {
   "attachments": {},
   "cell_type": "markdown",
   "metadata": {},
   "source": [
    "- Se ha comprobado que los nombres de columna solo tienen caracteres ascii y no tienen espacios"
   ]
  },
  {
   "cell_type": "markdown",
   "metadata": {},
   "source": [
    "<font color=' #2874a6 '><b>CODE</b></font>"
   ]
  },
  {
   "cell_type": "markdown",
   "metadata": {},
   "source": [
    "<font color='tomato'>Visualizo el nombre de las columnas (características)</font>"
   ]
  },
  {
   "cell_type": "code",
   "execution_count": 18,
   "metadata": {
    "ExecuteTime": {
     "end_time": "2021-01-27T11:01:34.878544Z",
     "start_time": "2021-01-27T11:01:34.740511Z"
    },
    "slideshow": {
     "slide_type": "subslide"
    },
    "vscode": {
     "languageId": "r"
    }
   },
   "outputs": [
    {
     "data": {
      "text/html": [
       "<style>\n",
       ".list-inline {list-style: none; margin:0; padding: 0}\n",
       ".list-inline>li {display: inline-block}\n",
       ".list-inline>li:not(:last-child)::after {content: \"\\00b7\"; padding: 0 .5ex}\n",
       "</style>\n",
       "<ol class=list-inline><li>'GEOCODIGO'</li><li>'DESBDT'</li><li>'ano'</li><li>'semana'</li><li>'n_vacunas'</li><li>'n_citas'</li><li>'tmed'</li><li>'prec'</li><li>'velmedia'</li><li>'presMax'</li><li>'benzene'</li><li>'co'</li><li>'no'</li><li>'no2'</li><li>'nox'</li><li>'o3'</li><li>'pm10'</li><li>'pm2.5'</li><li>'so2'</li><li>'campana'</li><li>'scampana'</li><li>'capacidad_zona'</li><li>'prop_riesgo'</li><li>'tasa_riesgo'</li><li>'tasa_mayores'</li><li>'poblacion_mayores'</li><li>'nombre_zona'</li><li>'nsec'</li><li>'t3_1'</li><li>'t1_1'</li><li>'t2_1'</li><li>'t2_2'</li><li>'t4_1'</li><li>'t4_2'</li><li>'t4_3'</li><li>'t5_1'</li><li>'t6_1'</li><li>'t7_1'</li><li>'t8_1'</li><li>'t9_1'</li><li>'t10_1'</li><li>'t11_1'</li><li>'t12_1'</li><li>'area'</li><li>'densidad_hab_km'</li><li>'tuits_gripe'</li><li>'interes_gripe'</li><li>'Target'</li></ol>\n"
      ],
      "text/latex": [
       "\\begin{enumerate*}\n",
       "\\item 'GEOCODIGO'\n",
       "\\item 'DESBDT'\n",
       "\\item 'ano'\n",
       "\\item 'semana'\n",
       "\\item 'n\\_vacunas'\n",
       "\\item 'n\\_citas'\n",
       "\\item 'tmed'\n",
       "\\item 'prec'\n",
       "\\item 'velmedia'\n",
       "\\item 'presMax'\n",
       "\\item 'benzene'\n",
       "\\item 'co'\n",
       "\\item 'no'\n",
       "\\item 'no2'\n",
       "\\item 'nox'\n",
       "\\item 'o3'\n",
       "\\item 'pm10'\n",
       "\\item 'pm2.5'\n",
       "\\item 'so2'\n",
       "\\item 'campana'\n",
       "\\item 'scampana'\n",
       "\\item 'capacidad\\_zona'\n",
       "\\item 'prop\\_riesgo'\n",
       "\\item 'tasa\\_riesgo'\n",
       "\\item 'tasa\\_mayores'\n",
       "\\item 'poblacion\\_mayores'\n",
       "\\item 'nombre\\_zona'\n",
       "\\item 'nsec'\n",
       "\\item 't3\\_1'\n",
       "\\item 't1\\_1'\n",
       "\\item 't2\\_1'\n",
       "\\item 't2\\_2'\n",
       "\\item 't4\\_1'\n",
       "\\item 't4\\_2'\n",
       "\\item 't4\\_3'\n",
       "\\item 't5\\_1'\n",
       "\\item 't6\\_1'\n",
       "\\item 't7\\_1'\n",
       "\\item 't8\\_1'\n",
       "\\item 't9\\_1'\n",
       "\\item 't10\\_1'\n",
       "\\item 't11\\_1'\n",
       "\\item 't12\\_1'\n",
       "\\item 'area'\n",
       "\\item 'densidad\\_hab\\_km'\n",
       "\\item 'tuits\\_gripe'\n",
       "\\item 'interes\\_gripe'\n",
       "\\item 'Target'\n",
       "\\end{enumerate*}\n"
      ],
      "text/markdown": [
       "1. 'GEOCODIGO'\n",
       "2. 'DESBDT'\n",
       "3. 'ano'\n",
       "4. 'semana'\n",
       "5. 'n_vacunas'\n",
       "6. 'n_citas'\n",
       "7. 'tmed'\n",
       "8. 'prec'\n",
       "9. 'velmedia'\n",
       "10. 'presMax'\n",
       "11. 'benzene'\n",
       "12. 'co'\n",
       "13. 'no'\n",
       "14. 'no2'\n",
       "15. 'nox'\n",
       "16. 'o3'\n",
       "17. 'pm10'\n",
       "18. 'pm2.5'\n",
       "19. 'so2'\n",
       "20. 'campana'\n",
       "21. 'scampana'\n",
       "22. 'capacidad_zona'\n",
       "23. 'prop_riesgo'\n",
       "24. 'tasa_riesgo'\n",
       "25. 'tasa_mayores'\n",
       "26. 'poblacion_mayores'\n",
       "27. 'nombre_zona'\n",
       "28. 'nsec'\n",
       "29. 't3_1'\n",
       "30. 't1_1'\n",
       "31. 't2_1'\n",
       "32. 't2_2'\n",
       "33. 't4_1'\n",
       "34. 't4_2'\n",
       "35. 't4_3'\n",
       "36. 't5_1'\n",
       "37. 't6_1'\n",
       "38. 't7_1'\n",
       "39. 't8_1'\n",
       "40. 't9_1'\n",
       "41. 't10_1'\n",
       "42. 't11_1'\n",
       "43. 't12_1'\n",
       "44. 'area'\n",
       "45. 'densidad_hab_km'\n",
       "46. 'tuits_gripe'\n",
       "47. 'interes_gripe'\n",
       "48. 'Target'\n",
       "\n",
       "\n"
      ],
      "text/plain": [
       " [1] \"GEOCODIGO\"         \"DESBDT\"            \"ano\"              \n",
       " [4] \"semana\"            \"n_vacunas\"         \"n_citas\"          \n",
       " [7] \"tmed\"              \"prec\"              \"velmedia\"         \n",
       "[10] \"presMax\"           \"benzene\"           \"co\"               \n",
       "[13] \"no\"                \"no2\"               \"nox\"              \n",
       "[16] \"o3\"                \"pm10\"              \"pm2.5\"            \n",
       "[19] \"so2\"               \"campana\"           \"scampana\"         \n",
       "[22] \"capacidad_zona\"    \"prop_riesgo\"       \"tasa_riesgo\"      \n",
       "[25] \"tasa_mayores\"      \"poblacion_mayores\" \"nombre_zona\"      \n",
       "[28] \"nsec\"              \"t3_1\"              \"t1_1\"             \n",
       "[31] \"t2_1\"              \"t2_2\"              \"t4_1\"             \n",
       "[34] \"t4_2\"              \"t4_3\"              \"t5_1\"             \n",
       "[37] \"t6_1\"              \"t7_1\"              \"t8_1\"             \n",
       "[40] \"t9_1\"              \"t10_1\"             \"t11_1\"            \n",
       "[43] \"t12_1\"             \"area\"              \"densidad_hab_km\"  \n",
       "[46] \"tuits_gripe\"       \"interes_gripe\"     \"Target\"           "
      ]
     },
     "metadata": {},
     "output_type": "display_data"
    }
   ],
   "source": [
    "# Columns names\n",
    "colnames(data)"
   ]
  },
  {
   "attachments": {},
   "cell_type": "markdown",
   "metadata": {},
   "source": [
    "<font color='tomato'>Cambio espacio por '_' en nombres</font> (si procede)"
   ]
  },
  {
   "cell_type": "code",
   "execution_count": 19,
   "metadata": {
    "ExecuteTime": {
     "end_time": "2020-12-25T17:59:15.833222Z",
     "start_time": "2020-12-25T17:59:15.701702Z"
    },
    "slideshow": {
     "slide_type": "subslide"
    },
    "vscode": {
     "languageId": "r"
    }
   },
   "outputs": [],
   "source": [
    "colnames(data) <- str_replace_all(colnames(data), \" \", \"_\")"
   ]
  },
  {
   "cell_type": "code",
   "execution_count": 20,
   "metadata": {
    "ExecuteTime": {
     "end_time": "2020-12-25T17:59:15.986986Z",
     "start_time": "2020-12-25T17:59:15.833222Z"
    },
    "slideshow": {
     "slide_type": "subslide"
    },
    "vscode": {
     "languageId": "r"
    }
   },
   "outputs": [
    {
     "data": {
      "text/html": [
       "<style>\n",
       ".list-inline {list-style: none; margin:0; padding: 0}\n",
       ".list-inline>li {display: inline-block}\n",
       ".list-inline>li:not(:last-child)::after {content: \"\\00b7\"; padding: 0 .5ex}\n",
       "</style>\n",
       "<ol class=list-inline><li>'GEOCODIGO'</li><li>'DESBDT'</li><li>'ano'</li><li>'semana'</li><li>'n_vacunas'</li><li>'n_citas'</li><li>'tmed'</li><li>'prec'</li><li>'velmedia'</li><li>'presMax'</li><li>'benzene'</li><li>'co'</li><li>'no'</li><li>'no2'</li><li>'nox'</li><li>'o3'</li><li>'pm10'</li><li>'pm2.5'</li><li>'so2'</li><li>'campana'</li><li>'scampana'</li><li>'capacidad_zona'</li><li>'prop_riesgo'</li><li>'tasa_riesgo'</li><li>'tasa_mayores'</li><li>'poblacion_mayores'</li><li>'nombre_zona'</li><li>'nsec'</li><li>'t3_1'</li><li>'t1_1'</li><li>'t2_1'</li><li>'t2_2'</li><li>'t4_1'</li><li>'t4_2'</li><li>'t4_3'</li><li>'t5_1'</li><li>'t6_1'</li><li>'t7_1'</li><li>'t8_1'</li><li>'t9_1'</li><li>'t10_1'</li><li>'t11_1'</li><li>'t12_1'</li><li>'area'</li><li>'densidad_hab_km'</li><li>'tuits_gripe'</li><li>'interes_gripe'</li><li>'Target'</li></ol>\n"
      ],
      "text/latex": [
       "\\begin{enumerate*}\n",
       "\\item 'GEOCODIGO'\n",
       "\\item 'DESBDT'\n",
       "\\item 'ano'\n",
       "\\item 'semana'\n",
       "\\item 'n\\_vacunas'\n",
       "\\item 'n\\_citas'\n",
       "\\item 'tmed'\n",
       "\\item 'prec'\n",
       "\\item 'velmedia'\n",
       "\\item 'presMax'\n",
       "\\item 'benzene'\n",
       "\\item 'co'\n",
       "\\item 'no'\n",
       "\\item 'no2'\n",
       "\\item 'nox'\n",
       "\\item 'o3'\n",
       "\\item 'pm10'\n",
       "\\item 'pm2.5'\n",
       "\\item 'so2'\n",
       "\\item 'campana'\n",
       "\\item 'scampana'\n",
       "\\item 'capacidad\\_zona'\n",
       "\\item 'prop\\_riesgo'\n",
       "\\item 'tasa\\_riesgo'\n",
       "\\item 'tasa\\_mayores'\n",
       "\\item 'poblacion\\_mayores'\n",
       "\\item 'nombre\\_zona'\n",
       "\\item 'nsec'\n",
       "\\item 't3\\_1'\n",
       "\\item 't1\\_1'\n",
       "\\item 't2\\_1'\n",
       "\\item 't2\\_2'\n",
       "\\item 't4\\_1'\n",
       "\\item 't4\\_2'\n",
       "\\item 't4\\_3'\n",
       "\\item 't5\\_1'\n",
       "\\item 't6\\_1'\n",
       "\\item 't7\\_1'\n",
       "\\item 't8\\_1'\n",
       "\\item 't9\\_1'\n",
       "\\item 't10\\_1'\n",
       "\\item 't11\\_1'\n",
       "\\item 't12\\_1'\n",
       "\\item 'area'\n",
       "\\item 'densidad\\_hab\\_km'\n",
       "\\item 'tuits\\_gripe'\n",
       "\\item 'interes\\_gripe'\n",
       "\\item 'Target'\n",
       "\\end{enumerate*}\n"
      ],
      "text/markdown": [
       "1. 'GEOCODIGO'\n",
       "2. 'DESBDT'\n",
       "3. 'ano'\n",
       "4. 'semana'\n",
       "5. 'n_vacunas'\n",
       "6. 'n_citas'\n",
       "7. 'tmed'\n",
       "8. 'prec'\n",
       "9. 'velmedia'\n",
       "10. 'presMax'\n",
       "11. 'benzene'\n",
       "12. 'co'\n",
       "13. 'no'\n",
       "14. 'no2'\n",
       "15. 'nox'\n",
       "16. 'o3'\n",
       "17. 'pm10'\n",
       "18. 'pm2.5'\n",
       "19. 'so2'\n",
       "20. 'campana'\n",
       "21. 'scampana'\n",
       "22. 'capacidad_zona'\n",
       "23. 'prop_riesgo'\n",
       "24. 'tasa_riesgo'\n",
       "25. 'tasa_mayores'\n",
       "26. 'poblacion_mayores'\n",
       "27. 'nombre_zona'\n",
       "28. 'nsec'\n",
       "29. 't3_1'\n",
       "30. 't1_1'\n",
       "31. 't2_1'\n",
       "32. 't2_2'\n",
       "33. 't4_1'\n",
       "34. 't4_2'\n",
       "35. 't4_3'\n",
       "36. 't5_1'\n",
       "37. 't6_1'\n",
       "38. 't7_1'\n",
       "39. 't8_1'\n",
       "40. 't9_1'\n",
       "41. 't10_1'\n",
       "42. 't11_1'\n",
       "43. 't12_1'\n",
       "44. 'area'\n",
       "45. 'densidad_hab_km'\n",
       "46. 'tuits_gripe'\n",
       "47. 'interes_gripe'\n",
       "48. 'Target'\n",
       "\n",
       "\n"
      ],
      "text/plain": [
       " [1] \"GEOCODIGO\"         \"DESBDT\"            \"ano\"              \n",
       " [4] \"semana\"            \"n_vacunas\"         \"n_citas\"          \n",
       " [7] \"tmed\"              \"prec\"              \"velmedia\"         \n",
       "[10] \"presMax\"           \"benzene\"           \"co\"               \n",
       "[13] \"no\"                \"no2\"               \"nox\"              \n",
       "[16] \"o3\"                \"pm10\"              \"pm2.5\"            \n",
       "[19] \"so2\"               \"campana\"           \"scampana\"         \n",
       "[22] \"capacidad_zona\"    \"prop_riesgo\"       \"tasa_riesgo\"      \n",
       "[25] \"tasa_mayores\"      \"poblacion_mayores\" \"nombre_zona\"      \n",
       "[28] \"nsec\"              \"t3_1\"              \"t1_1\"             \n",
       "[31] \"t2_1\"              \"t2_2\"              \"t4_1\"             \n",
       "[34] \"t4_2\"              \"t4_3\"              \"t5_1\"             \n",
       "[37] \"t6_1\"              \"t7_1\"              \"t8_1\"             \n",
       "[40] \"t9_1\"              \"t10_1\"             \"t11_1\"            \n",
       "[43] \"t12_1\"             \"area\"              \"densidad_hab_km\"  \n",
       "[46] \"tuits_gripe\"       \"interes_gripe\"     \"Target\"           "
      ]
     },
     "metadata": {},
     "output_type": "display_data"
    }
   ],
   "source": [
    "colnames(data)"
   ]
  },
  {
   "cell_type": "markdown",
   "metadata": {
    "slideshow": {
     "slide_type": "slide"
    }
   },
   "source": [
    "### Data Types\n"
   ]
  },
  {
   "cell_type": "markdown",
   "metadata": {
    "slideshow": {
     "slide_type": "slide"
    }
   },
   "source": [
    "#### Verify data types "
   ]
  },
  {
   "cell_type": "markdown",
   "metadata": {},
   "source": [
    "<font color=' #2874a6 '><b>Remarks</b></font>"
   ]
  },
  {
   "attachments": {},
   "cell_type": "markdown",
   "metadata": {},
   "source": [
    "- Se ha comprobado el tipo de datos adecuados al importar los datos con `read_csv()`\n"
   ]
  },
  {
   "cell_type": "markdown",
   "metadata": {},
   "source": [
    "<font color=' #2874a6 '><b>CODE</b></font>"
   ]
  },
  {
   "cell_type": "markdown",
   "metadata": {},
   "source": [
    "<font color='tomato'>Visualizo el tipo de las columnas (características)</font>"
   ]
  },
  {
   "cell_type": "code",
   "execution_count": 21,
   "metadata": {
    "ExecuteTime": {
     "end_time": "2021-01-27T11:01:34.878544Z",
     "start_time": "2021-01-27T11:01:34.740511Z"
    },
    "slideshow": {
     "slide_type": "subslide"
    },
    "vscode": {
     "languageId": "r"
    }
   },
   "outputs": [
    {
     "data": {
      "text/html": [
       "<style>\n",
       ".dl-inline {width: auto; margin:0; padding: 0}\n",
       ".dl-inline>dt, .dl-inline>dd {float: none; width: auto; display: inline-block}\n",
       ".dl-inline>dt::after {content: \":\\0020\"; padding-right: .5ex}\n",
       ".dl-inline>dt:not(:first-of-type) {padding-left: .5ex}\n",
       "</style><dl class=dl-inline><dt>GEOCODIGO</dt><dd>'character'</dd><dt>DESBDT</dt><dd>'character'</dd><dt>ano</dt><dd>'numeric'</dd><dt>semana</dt><dd>'numeric'</dd><dt>n_vacunas</dt><dd>'numeric'</dd><dt>n_citas</dt><dd>'numeric'</dd><dt>tmed</dt><dd>'numeric'</dd><dt>prec</dt><dd>'numeric'</dd><dt>velmedia</dt><dd>'numeric'</dd><dt>presMax</dt><dd>'numeric'</dd><dt>benzene</dt><dd>'numeric'</dd><dt>co</dt><dd>'numeric'</dd><dt>no</dt><dd>'numeric'</dd><dt>no2</dt><dd>'numeric'</dd><dt>nox</dt><dd>'numeric'</dd><dt>o3</dt><dd>'numeric'</dd><dt>pm10</dt><dd>'numeric'</dd><dt>pm2.5</dt><dd>'numeric'</dd><dt>so2</dt><dd>'numeric'</dd><dt>campana</dt><dd>'numeric'</dd><dt>scampana</dt><dd>'numeric'</dd><dt>capacidad_zona</dt><dd>'numeric'</dd><dt>prop_riesgo</dt><dd>'numeric'</dd><dt>tasa_riesgo</dt><dd>'numeric'</dd><dt>tasa_mayores</dt><dd>'numeric'</dd><dt>poblacion_mayores</dt><dd>'numeric'</dd><dt>nombre_zona</dt><dd>'character'</dd><dt>nsec</dt><dd>'numeric'</dd><dt>t3_1</dt><dd>'numeric'</dd><dt>t1_1</dt><dd>'numeric'</dd><dt>t2_1</dt><dd>'numeric'</dd><dt>t2_2</dt><dd>'numeric'</dd><dt>t4_1</dt><dd>'numeric'</dd><dt>t4_2</dt><dd>'numeric'</dd><dt>t4_3</dt><dd>'numeric'</dd><dt>t5_1</dt><dd>'numeric'</dd><dt>t6_1</dt><dd>'numeric'</dd><dt>t7_1</dt><dd>'numeric'</dd><dt>t8_1</dt><dd>'numeric'</dd><dt>t9_1</dt><dd>'numeric'</dd><dt>t10_1</dt><dd>'numeric'</dd><dt>t11_1</dt><dd>'numeric'</dd><dt>t12_1</dt><dd>'numeric'</dd><dt>area</dt><dd>'numeric'</dd><dt>densidad_hab_km</dt><dd>'numeric'</dd><dt>tuits_gripe</dt><dd>'numeric'</dd><dt>interes_gripe</dt><dd>'numeric'</dd><dt>Target</dt><dd>'numeric'</dd></dl>\n"
      ],
      "text/latex": [
       "\\begin{description*}\n",
       "\\item[GEOCODIGO] 'character'\n",
       "\\item[DESBDT] 'character'\n",
       "\\item[ano] 'numeric'\n",
       "\\item[semana] 'numeric'\n",
       "\\item[n\\textbackslash{}\\_vacunas] 'numeric'\n",
       "\\item[n\\textbackslash{}\\_citas] 'numeric'\n",
       "\\item[tmed] 'numeric'\n",
       "\\item[prec] 'numeric'\n",
       "\\item[velmedia] 'numeric'\n",
       "\\item[presMax] 'numeric'\n",
       "\\item[benzene] 'numeric'\n",
       "\\item[co] 'numeric'\n",
       "\\item[no] 'numeric'\n",
       "\\item[no2] 'numeric'\n",
       "\\item[nox] 'numeric'\n",
       "\\item[o3] 'numeric'\n",
       "\\item[pm10] 'numeric'\n",
       "\\item[pm2.5] 'numeric'\n",
       "\\item[so2] 'numeric'\n",
       "\\item[campana] 'numeric'\n",
       "\\item[scampana] 'numeric'\n",
       "\\item[capacidad\\textbackslash{}\\_zona] 'numeric'\n",
       "\\item[prop\\textbackslash{}\\_riesgo] 'numeric'\n",
       "\\item[tasa\\textbackslash{}\\_riesgo] 'numeric'\n",
       "\\item[tasa\\textbackslash{}\\_mayores] 'numeric'\n",
       "\\item[poblacion\\textbackslash{}\\_mayores] 'numeric'\n",
       "\\item[nombre\\textbackslash{}\\_zona] 'character'\n",
       "\\item[nsec] 'numeric'\n",
       "\\item[t3\\textbackslash{}\\_1] 'numeric'\n",
       "\\item[t1\\textbackslash{}\\_1] 'numeric'\n",
       "\\item[t2\\textbackslash{}\\_1] 'numeric'\n",
       "\\item[t2\\textbackslash{}\\_2] 'numeric'\n",
       "\\item[t4\\textbackslash{}\\_1] 'numeric'\n",
       "\\item[t4\\textbackslash{}\\_2] 'numeric'\n",
       "\\item[t4\\textbackslash{}\\_3] 'numeric'\n",
       "\\item[t5\\textbackslash{}\\_1] 'numeric'\n",
       "\\item[t6\\textbackslash{}\\_1] 'numeric'\n",
       "\\item[t7\\textbackslash{}\\_1] 'numeric'\n",
       "\\item[t8\\textbackslash{}\\_1] 'numeric'\n",
       "\\item[t9\\textbackslash{}\\_1] 'numeric'\n",
       "\\item[t10\\textbackslash{}\\_1] 'numeric'\n",
       "\\item[t11\\textbackslash{}\\_1] 'numeric'\n",
       "\\item[t12\\textbackslash{}\\_1] 'numeric'\n",
       "\\item[area] 'numeric'\n",
       "\\item[densidad\\textbackslash{}\\_hab\\textbackslash{}\\_km] 'numeric'\n",
       "\\item[tuits\\textbackslash{}\\_gripe] 'numeric'\n",
       "\\item[interes\\textbackslash{}\\_gripe] 'numeric'\n",
       "\\item[Target] 'numeric'\n",
       "\\end{description*}\n"
      ],
      "text/markdown": [
       "GEOCODIGO\n",
       ":   'character'DESBDT\n",
       ":   'character'ano\n",
       ":   'numeric'semana\n",
       ":   'numeric'n_vacunas\n",
       ":   'numeric'n_citas\n",
       ":   'numeric'tmed\n",
       ":   'numeric'prec\n",
       ":   'numeric'velmedia\n",
       ":   'numeric'presMax\n",
       ":   'numeric'benzene\n",
       ":   'numeric'co\n",
       ":   'numeric'no\n",
       ":   'numeric'no2\n",
       ":   'numeric'nox\n",
       ":   'numeric'o3\n",
       ":   'numeric'pm10\n",
       ":   'numeric'pm2.5\n",
       ":   'numeric'so2\n",
       ":   'numeric'campana\n",
       ":   'numeric'scampana\n",
       ":   'numeric'capacidad_zona\n",
       ":   'numeric'prop_riesgo\n",
       ":   'numeric'tasa_riesgo\n",
       ":   'numeric'tasa_mayores\n",
       ":   'numeric'poblacion_mayores\n",
       ":   'numeric'nombre_zona\n",
       ":   'character'nsec\n",
       ":   'numeric't3_1\n",
       ":   'numeric't1_1\n",
       ":   'numeric't2_1\n",
       ":   'numeric't2_2\n",
       ":   'numeric't4_1\n",
       ":   'numeric't4_2\n",
       ":   'numeric't4_3\n",
       ":   'numeric't5_1\n",
       ":   'numeric't6_1\n",
       ":   'numeric't7_1\n",
       ":   'numeric't8_1\n",
       ":   'numeric't9_1\n",
       ":   'numeric't10_1\n",
       ":   'numeric't11_1\n",
       ":   'numeric't12_1\n",
       ":   'numeric'area\n",
       ":   'numeric'densidad_hab_km\n",
       ":   'numeric'tuits_gripe\n",
       ":   'numeric'interes_gripe\n",
       ":   'numeric'Target\n",
       ":   'numeric'\n",
       "\n"
      ],
      "text/plain": [
       "        GEOCODIGO            DESBDT               ano            semana \n",
       "      \"character\"       \"character\"         \"numeric\"         \"numeric\" \n",
       "        n_vacunas           n_citas              tmed              prec \n",
       "        \"numeric\"         \"numeric\"         \"numeric\"         \"numeric\" \n",
       "         velmedia           presMax           benzene                co \n",
       "        \"numeric\"         \"numeric\"         \"numeric\"         \"numeric\" \n",
       "               no               no2               nox                o3 \n",
       "        \"numeric\"         \"numeric\"         \"numeric\"         \"numeric\" \n",
       "             pm10             pm2.5               so2           campana \n",
       "        \"numeric\"         \"numeric\"         \"numeric\"         \"numeric\" \n",
       "         scampana    capacidad_zona       prop_riesgo       tasa_riesgo \n",
       "        \"numeric\"         \"numeric\"         \"numeric\"         \"numeric\" \n",
       "     tasa_mayores poblacion_mayores       nombre_zona              nsec \n",
       "        \"numeric\"         \"numeric\"       \"character\"         \"numeric\" \n",
       "             t3_1              t1_1              t2_1              t2_2 \n",
       "        \"numeric\"         \"numeric\"         \"numeric\"         \"numeric\" \n",
       "             t4_1              t4_2              t4_3              t5_1 \n",
       "        \"numeric\"         \"numeric\"         \"numeric\"         \"numeric\" \n",
       "             t6_1              t7_1              t8_1              t9_1 \n",
       "        \"numeric\"         \"numeric\"         \"numeric\"         \"numeric\" \n",
       "            t10_1             t11_1             t12_1              area \n",
       "        \"numeric\"         \"numeric\"         \"numeric\"         \"numeric\" \n",
       "  densidad_hab_km       tuits_gripe     interes_gripe            Target \n",
       "        \"numeric\"         \"numeric\"         \"numeric\"         \"numeric\" "
      ]
     },
     "metadata": {},
     "output_type": "display_data"
    },
    {
     "name": "stdout",
     "output_type": "stream",
     "text": [
      "Rows: 21,736\n",
      "Columns: 48\n",
      "$ GEOCODIGO         \u001b[3m\u001b[90m<chr>\u001b[39m\u001b[23m \"001\", \"001\", \"001\", \"001\", \"001\", \"001\", \"001\", \"00…\n",
      "$ DESBDT            \u001b[3m\u001b[90m<chr>\u001b[39m\u001b[23m \"Abrantes\", \"Abrantes\", \"Abrantes\", \"Abrantes\", \"Abr…\n",
      "$ ano               \u001b[3m\u001b[90m<dbl>\u001b[39m\u001b[23m 2021, 2021, 2021, 2021, 2021, 2021, 2021, 2021, 2021…\n",
      "$ semana            \u001b[3m\u001b[90m<dbl>\u001b[39m\u001b[23m 36, 37, 38, 39, 40, 41, 42, 43, 44, 45, 46, 47, 48, …\n",
      "$ n_vacunas         \u001b[3m\u001b[90m<dbl>\u001b[39m\u001b[23m 0, 0, 0, 0, 0, 328, 344, 353, 371, 341, 389, 349, 40…\n",
      "$ n_citas           \u001b[3m\u001b[90m<dbl>\u001b[39m\u001b[23m 0, 0, 0, 0, 0, 305, 327, 328, 341, 334, 373, 332, 37…\n",
      "$ tmed              \u001b[3m\u001b[90m<dbl>\u001b[39m\u001b[23m 23.822231, 20.160014, 18.551058, 18.815387, 17.49447…\n",
      "$ prec              \u001b[3m\u001b[90m<dbl>\u001b[39m\u001b[23m -0.0063023484, 3.5537258042, 3.9769052178, 1.4806472…\n",
      "$ velmedia          \u001b[3m\u001b[90m<dbl>\u001b[39m\u001b[23m 3.573728, 2.494744, 3.316148, 2.384262, 1.850839, 1.…\n",
      "$ presMax           \u001b[3m\u001b[90m<dbl>\u001b[39m\u001b[23m 940.9841, 940.7610, 943.1540, 944.6697, 944.2973, 94…\n",
      "$ benzene           \u001b[3m\u001b[90m<dbl>\u001b[39m\u001b[23m 0.1713567, 0.1573829, 0.1858059, 0.1486437, 0.142803…\n",
      "$ co                \u001b[3m\u001b[90m<dbl>\u001b[39m\u001b[23m 0.1680325, 0.2138607, 0.2034376, 0.2399882, 0.269345…\n",
      "$ no                \u001b[3m\u001b[90m<dbl>\u001b[39m\u001b[23m 4.098371, 6.515572, 5.477654, 9.593391, 18.860535, 1…\n",
      "$ no2               \u001b[3m\u001b[90m<dbl>\u001b[39m\u001b[23m 20.09480, 27.42594, 20.74836, 37.08524, 40.19475, 44…\n",
      "$ nox               \u001b[3m\u001b[90m<dbl>\u001b[39m\u001b[23m 26.48135, 37.45944, 25.61128, 52.43745, 74.04903, 75…\n",
      "$ o3                \u001b[3m\u001b[90m<dbl>\u001b[39m\u001b[23m 50.03434, 42.41281, 56.29918, 46.79483, 41.06600, 44…\n",
      "$ pm10              \u001b[3m\u001b[90m<dbl>\u001b[39m\u001b[23m 17.447652, 17.658399, 12.844436, 16.395896, 14.90938…\n",
      "$ pm2.5             \u001b[3m\u001b[90m<dbl>\u001b[39m\u001b[23m 3.008675, 10.083070, 7.218588, 9.426029, 8.131753, 1…\n",
      "$ so2               \u001b[3m\u001b[90m<dbl>\u001b[39m\u001b[23m 6.861545, 6.589638, 4.364304, 3.123598, 1.291137, 1.…\n",
      "$ campana           \u001b[3m\u001b[90m<dbl>\u001b[39m\u001b[23m 2021, 2021, 2021, 2021, 2021, 2021, 2021, 2021, 2021…\n",
      "$ scampana          \u001b[3m\u001b[90m<dbl>\u001b[39m\u001b[23m 1, 2, 3, 4, 5, 6, 7, 8, 9, 10, 11, 12, 13, 14, 15, 1…\n",
      "$ capacidad_zona    \u001b[3m\u001b[90m<dbl>\u001b[39m\u001b[23m 7477, 7477, 7477, 7477, 7477, 7477, 7477, 7477, 7477…\n",
      "$ prop_riesgo       \u001b[3m\u001b[90m<dbl>\u001b[39m\u001b[23m 0.1953542, 0.1953542, 0.1953542, 0.1953542, 0.195354…\n",
      "$ tasa_riesgo       \u001b[3m\u001b[90m<dbl>\u001b[39m\u001b[23m 0.006867731, 0.006867731, 0.006867731, 0.006867731, …\n",
      "$ tasa_mayores      \u001b[3m\u001b[90m<dbl>\u001b[39m\u001b[23m 0.03324259, 0.03324259, 0.03324259, 0.03324259, 0.03…\n",
      "$ poblacion_mayores \u001b[3m\u001b[90m<dbl>\u001b[39m\u001b[23m 0.1781619, 0.1781619, 0.1781619, 0.1781619, 0.178161…\n",
      "$ nombre_zona       \u001b[3m\u001b[90m<chr>\u001b[39m\u001b[23m \"Abrantes\", \"Abrantes\", \"Abrantes\", \"Abrantes\", \"Abr…\n",
      "$ nsec              \u001b[3m\u001b[90m<dbl>\u001b[39m\u001b[23m 23, 23, 23, 23, 23, 23, 23, 23, 23, 23, 23, 23, 23, …\n",
      "$ t3_1              \u001b[3m\u001b[90m<dbl>\u001b[39m\u001b[23m 42.31249, 42.31249, 42.31249, 42.31249, 42.31249, 42…\n",
      "$ t1_1              \u001b[3m\u001b[90m<dbl>\u001b[39m\u001b[23m 29872, 29872, 29872, 29872, 29872, 29872, 29872, 298…\n",
      "$ t2_1              \u001b[3m\u001b[90m<dbl>\u001b[39m\u001b[23m 0.5345094, 0.5345094, 0.5345094, 0.5345094, 0.534509…\n",
      "$ t2_2              \u001b[3m\u001b[90m<dbl>\u001b[39m\u001b[23m 0.4654906, 0.4654906, 0.4654906, 0.4654906, 0.465490…\n",
      "$ t4_1              \u001b[3m\u001b[90m<dbl>\u001b[39m\u001b[23m 0.1561935, 0.1561935, 0.1561935, 0.1561935, 0.156193…\n",
      "$ t4_2              \u001b[3m\u001b[90m<dbl>\u001b[39m\u001b[23m 0.6656459, 0.6656459, 0.6656459, 0.6656459, 0.665645…\n",
      "$ t4_3              \u001b[3m\u001b[90m<dbl>\u001b[39m\u001b[23m 0.1781619, 0.1781619, 0.1781619, 0.1781619, 0.178161…\n",
      "$ t5_1              \u001b[3m\u001b[90m<dbl>\u001b[39m\u001b[23m 0.2183993, 0.2183993, 0.2183993, 0.2183993, 0.218399…\n",
      "$ t6_1              \u001b[3m\u001b[90m<dbl>\u001b[39m\u001b[23m 0.3450855, 0.3450855, 0.3450855, 0.3450855, 0.345085…\n",
      "$ t7_1              \u001b[3m\u001b[90m<dbl>\u001b[39m\u001b[23m 0.04090796, 0.04090796, 0.04090796, 0.04090796, 0.04…\n",
      "$ t8_1              \u001b[3m\u001b[90m<dbl>\u001b[39m\u001b[23m 0.02880326, 0.02880326, 0.02880326, 0.02880326, 0.02…\n",
      "$ t9_1              \u001b[3m\u001b[90m<dbl>\u001b[39m\u001b[23m 0.2685716, 0.2685716, 0.2685716, 0.2685716, 0.268571…\n",
      "$ t10_1             \u001b[3m\u001b[90m<dbl>\u001b[39m\u001b[23m 0.1665607, 0.1665607, 0.1665607, 0.1665607, 0.166560…\n",
      "$ t11_1             \u001b[3m\u001b[90m<dbl>\u001b[39m\u001b[23m 0.4723181, 0.4723181, 0.4723181, 0.4723181, 0.472318…\n",
      "$ t12_1             \u001b[3m\u001b[90m<dbl>\u001b[39m\u001b[23m 0.5637381, 0.5637381, 0.5637381, 0.5637381, 0.563738…\n",
      "$ area              \u001b[3m\u001b[90m<dbl>\u001b[39m\u001b[23m 1571619, 1571619, 1571619, 1571619, 1571619, 1571619…\n",
      "$ densidad_hab_km   \u001b[3m\u001b[90m<dbl>\u001b[39m\u001b[23m 19007.15, 19007.15, 19007.15, 19007.15, 19007.15, 19…\n",
      "$ tuits_gripe       \u001b[3m\u001b[90m<dbl>\u001b[39m\u001b[23m 97, 79, 112, 143, 112, 130, 254, 190, 198, 160, 206,…\n",
      "$ interes_gripe     \u001b[3m\u001b[90m<dbl>\u001b[39m\u001b[23m 13, 15, 19, 29, 38, 65, 100, 94, 63, 70, 64, 64, 57,…\n",
      "$ Target            \u001b[3m\u001b[90m<dbl>\u001b[39m\u001b[23m 13, 15, 19, 29, 38, 65, 100, 94, 63, 70, 64, 64, 57,…\n"
     ]
    }
   ],
   "source": [
    "sapply(data, class)\n",
    "glimpse(data)"
   ]
  },
  {
   "cell_type": "markdown",
   "metadata": {
    "slideshow": {
     "slide_type": "slide"
    }
   },
   "source": [
    "#### Change data types "
   ]
  },
  {
   "cell_type": "markdown",
   "metadata": {},
   "source": [
    "<font color=' #2874a6 '><b>Remarks</b></font>"
   ]
  },
  {
   "attachments": {},
   "cell_type": "markdown",
   "metadata": {},
   "source": [
    "- No aplica"
   ]
  },
  {
   "cell_type": "markdown",
   "metadata": {},
   "source": [
    "<font color=' #2874a6 '><b>CODE</b></font>"
   ]
  },
  {
   "cell_type": "code",
   "execution_count": 22,
   "metadata": {
    "ExecuteTime": {
     "end_time": "2021-01-27T11:01:34.878544Z",
     "start_time": "2021-01-27T11:01:34.740511Z"
    },
    "scrolled": true,
    "slideshow": {
     "slide_type": "subslide"
    },
    "vscode": {
     "languageId": "r"
    }
   },
   "outputs": [],
   "source": [
    "# Changing column types\n",
    "# data$xx <- as.xx(data$xx)"
   ]
  },
  {
   "cell_type": "markdown",
   "metadata": {
    "slideshow": {
     "slide_type": "slide"
    }
   },
   "source": [
    "#### Verify that object type is changed "
   ]
  },
  {
   "cell_type": "markdown",
   "metadata": {},
   "source": [
    "<font color=' #2874a6 '><b>Remarks</b></font>"
   ]
  },
  {
   "attachments": {},
   "cell_type": "markdown",
   "metadata": {},
   "source": [
    "- No aplica\n"
   ]
  },
  {
   "cell_type": "markdown",
   "metadata": {},
   "source": [
    "<font color=' #2874a6 '><b>CODE</b></font>"
   ]
  },
  {
   "cell_type": "code",
   "execution_count": 23,
   "metadata": {
    "vscode": {
     "languageId": "r"
    }
   },
   "outputs": [
    {
     "data": {
      "text/html": [
       "<style>\n",
       ".dl-inline {width: auto; margin:0; padding: 0}\n",
       ".dl-inline>dt, .dl-inline>dd {float: none; width: auto; display: inline-block}\n",
       ".dl-inline>dt::after {content: \":\\0020\"; padding-right: .5ex}\n",
       ".dl-inline>dt:not(:first-of-type) {padding-left: .5ex}\n",
       "</style><dl class=dl-inline><dt>GEOCODIGO</dt><dd>'character'</dd><dt>DESBDT</dt><dd>'character'</dd><dt>ano</dt><dd>'numeric'</dd><dt>semana</dt><dd>'numeric'</dd><dt>n_vacunas</dt><dd>'numeric'</dd><dt>n_citas</dt><dd>'numeric'</dd><dt>tmed</dt><dd>'numeric'</dd><dt>prec</dt><dd>'numeric'</dd><dt>velmedia</dt><dd>'numeric'</dd><dt>presMax</dt><dd>'numeric'</dd><dt>benzene</dt><dd>'numeric'</dd><dt>co</dt><dd>'numeric'</dd><dt>no</dt><dd>'numeric'</dd><dt>no2</dt><dd>'numeric'</dd><dt>nox</dt><dd>'numeric'</dd><dt>o3</dt><dd>'numeric'</dd><dt>pm10</dt><dd>'numeric'</dd><dt>pm2.5</dt><dd>'numeric'</dd><dt>so2</dt><dd>'numeric'</dd><dt>campana</dt><dd>'numeric'</dd><dt>scampana</dt><dd>'numeric'</dd><dt>capacidad_zona</dt><dd>'numeric'</dd><dt>prop_riesgo</dt><dd>'numeric'</dd><dt>tasa_riesgo</dt><dd>'numeric'</dd><dt>tasa_mayores</dt><dd>'numeric'</dd><dt>poblacion_mayores</dt><dd>'numeric'</dd><dt>nombre_zona</dt><dd>'character'</dd><dt>nsec</dt><dd>'numeric'</dd><dt>t3_1</dt><dd>'numeric'</dd><dt>t1_1</dt><dd>'numeric'</dd><dt>t2_1</dt><dd>'numeric'</dd><dt>t2_2</dt><dd>'numeric'</dd><dt>t4_1</dt><dd>'numeric'</dd><dt>t4_2</dt><dd>'numeric'</dd><dt>t4_3</dt><dd>'numeric'</dd><dt>t5_1</dt><dd>'numeric'</dd><dt>t6_1</dt><dd>'numeric'</dd><dt>t7_1</dt><dd>'numeric'</dd><dt>t8_1</dt><dd>'numeric'</dd><dt>t9_1</dt><dd>'numeric'</dd><dt>t10_1</dt><dd>'numeric'</dd><dt>t11_1</dt><dd>'numeric'</dd><dt>t12_1</dt><dd>'numeric'</dd><dt>area</dt><dd>'numeric'</dd><dt>densidad_hab_km</dt><dd>'numeric'</dd><dt>tuits_gripe</dt><dd>'numeric'</dd><dt>interes_gripe</dt><dd>'numeric'</dd><dt>Target</dt><dd>'numeric'</dd></dl>\n"
      ],
      "text/latex": [
       "\\begin{description*}\n",
       "\\item[GEOCODIGO] 'character'\n",
       "\\item[DESBDT] 'character'\n",
       "\\item[ano] 'numeric'\n",
       "\\item[semana] 'numeric'\n",
       "\\item[n\\textbackslash{}\\_vacunas] 'numeric'\n",
       "\\item[n\\textbackslash{}\\_citas] 'numeric'\n",
       "\\item[tmed] 'numeric'\n",
       "\\item[prec] 'numeric'\n",
       "\\item[velmedia] 'numeric'\n",
       "\\item[presMax] 'numeric'\n",
       "\\item[benzene] 'numeric'\n",
       "\\item[co] 'numeric'\n",
       "\\item[no] 'numeric'\n",
       "\\item[no2] 'numeric'\n",
       "\\item[nox] 'numeric'\n",
       "\\item[o3] 'numeric'\n",
       "\\item[pm10] 'numeric'\n",
       "\\item[pm2.5] 'numeric'\n",
       "\\item[so2] 'numeric'\n",
       "\\item[campana] 'numeric'\n",
       "\\item[scampana] 'numeric'\n",
       "\\item[capacidad\\textbackslash{}\\_zona] 'numeric'\n",
       "\\item[prop\\textbackslash{}\\_riesgo] 'numeric'\n",
       "\\item[tasa\\textbackslash{}\\_riesgo] 'numeric'\n",
       "\\item[tasa\\textbackslash{}\\_mayores] 'numeric'\n",
       "\\item[poblacion\\textbackslash{}\\_mayores] 'numeric'\n",
       "\\item[nombre\\textbackslash{}\\_zona] 'character'\n",
       "\\item[nsec] 'numeric'\n",
       "\\item[t3\\textbackslash{}\\_1] 'numeric'\n",
       "\\item[t1\\textbackslash{}\\_1] 'numeric'\n",
       "\\item[t2\\textbackslash{}\\_1] 'numeric'\n",
       "\\item[t2\\textbackslash{}\\_2] 'numeric'\n",
       "\\item[t4\\textbackslash{}\\_1] 'numeric'\n",
       "\\item[t4\\textbackslash{}\\_2] 'numeric'\n",
       "\\item[t4\\textbackslash{}\\_3] 'numeric'\n",
       "\\item[t5\\textbackslash{}\\_1] 'numeric'\n",
       "\\item[t6\\textbackslash{}\\_1] 'numeric'\n",
       "\\item[t7\\textbackslash{}\\_1] 'numeric'\n",
       "\\item[t8\\textbackslash{}\\_1] 'numeric'\n",
       "\\item[t9\\textbackslash{}\\_1] 'numeric'\n",
       "\\item[t10\\textbackslash{}\\_1] 'numeric'\n",
       "\\item[t11\\textbackslash{}\\_1] 'numeric'\n",
       "\\item[t12\\textbackslash{}\\_1] 'numeric'\n",
       "\\item[area] 'numeric'\n",
       "\\item[densidad\\textbackslash{}\\_hab\\textbackslash{}\\_km] 'numeric'\n",
       "\\item[tuits\\textbackslash{}\\_gripe] 'numeric'\n",
       "\\item[interes\\textbackslash{}\\_gripe] 'numeric'\n",
       "\\item[Target] 'numeric'\n",
       "\\end{description*}\n"
      ],
      "text/markdown": [
       "GEOCODIGO\n",
       ":   'character'DESBDT\n",
       ":   'character'ano\n",
       ":   'numeric'semana\n",
       ":   'numeric'n_vacunas\n",
       ":   'numeric'n_citas\n",
       ":   'numeric'tmed\n",
       ":   'numeric'prec\n",
       ":   'numeric'velmedia\n",
       ":   'numeric'presMax\n",
       ":   'numeric'benzene\n",
       ":   'numeric'co\n",
       ":   'numeric'no\n",
       ":   'numeric'no2\n",
       ":   'numeric'nox\n",
       ":   'numeric'o3\n",
       ":   'numeric'pm10\n",
       ":   'numeric'pm2.5\n",
       ":   'numeric'so2\n",
       ":   'numeric'campana\n",
       ":   'numeric'scampana\n",
       ":   'numeric'capacidad_zona\n",
       ":   'numeric'prop_riesgo\n",
       ":   'numeric'tasa_riesgo\n",
       ":   'numeric'tasa_mayores\n",
       ":   'numeric'poblacion_mayores\n",
       ":   'numeric'nombre_zona\n",
       ":   'character'nsec\n",
       ":   'numeric't3_1\n",
       ":   'numeric't1_1\n",
       ":   'numeric't2_1\n",
       ":   'numeric't2_2\n",
       ":   'numeric't4_1\n",
       ":   'numeric't4_2\n",
       ":   'numeric't4_3\n",
       ":   'numeric't5_1\n",
       ":   'numeric't6_1\n",
       ":   'numeric't7_1\n",
       ":   'numeric't8_1\n",
       ":   'numeric't9_1\n",
       ":   'numeric't10_1\n",
       ":   'numeric't11_1\n",
       ":   'numeric't12_1\n",
       ":   'numeric'area\n",
       ":   'numeric'densidad_hab_km\n",
       ":   'numeric'tuits_gripe\n",
       ":   'numeric'interes_gripe\n",
       ":   'numeric'Target\n",
       ":   'numeric'\n",
       "\n"
      ],
      "text/plain": [
       "        GEOCODIGO            DESBDT               ano            semana \n",
       "      \"character\"       \"character\"         \"numeric\"         \"numeric\" \n",
       "        n_vacunas           n_citas              tmed              prec \n",
       "        \"numeric\"         \"numeric\"         \"numeric\"         \"numeric\" \n",
       "         velmedia           presMax           benzene                co \n",
       "        \"numeric\"         \"numeric\"         \"numeric\"         \"numeric\" \n",
       "               no               no2               nox                o3 \n",
       "        \"numeric\"         \"numeric\"         \"numeric\"         \"numeric\" \n",
       "             pm10             pm2.5               so2           campana \n",
       "        \"numeric\"         \"numeric\"         \"numeric\"         \"numeric\" \n",
       "         scampana    capacidad_zona       prop_riesgo       tasa_riesgo \n",
       "        \"numeric\"         \"numeric\"         \"numeric\"         \"numeric\" \n",
       "     tasa_mayores poblacion_mayores       nombre_zona              nsec \n",
       "        \"numeric\"         \"numeric\"       \"character\"         \"numeric\" \n",
       "             t3_1              t1_1              t2_1              t2_2 \n",
       "        \"numeric\"         \"numeric\"         \"numeric\"         \"numeric\" \n",
       "             t4_1              t4_2              t4_3              t5_1 \n",
       "        \"numeric\"         \"numeric\"         \"numeric\"         \"numeric\" \n",
       "             t6_1              t7_1              t8_1              t9_1 \n",
       "        \"numeric\"         \"numeric\"         \"numeric\"         \"numeric\" \n",
       "            t10_1             t11_1             t12_1              area \n",
       "        \"numeric\"         \"numeric\"         \"numeric\"         \"numeric\" \n",
       "  densidad_hab_km       tuits_gripe     interes_gripe            Target \n",
       "        \"numeric\"         \"numeric\"         \"numeric\"         \"numeric\" "
      ]
     },
     "metadata": {},
     "output_type": "display_data"
    },
    {
     "name": "stdout",
     "output_type": "stream",
     "text": [
      "Rows: 21,736\n",
      "Columns: 48\n",
      "$ GEOCODIGO         \u001b[3m\u001b[90m<chr>\u001b[39m\u001b[23m \"001\", \"001\", \"001\", \"001\", \"001\", \"001\", \"001\", \"00…\n",
      "$ DESBDT            \u001b[3m\u001b[90m<chr>\u001b[39m\u001b[23m \"Abrantes\", \"Abrantes\", \"Abrantes\", \"Abrantes\", \"Abr…\n",
      "$ ano               \u001b[3m\u001b[90m<dbl>\u001b[39m\u001b[23m 2021, 2021, 2021, 2021, 2021, 2021, 2021, 2021, 2021…\n",
      "$ semana            \u001b[3m\u001b[90m<dbl>\u001b[39m\u001b[23m 36, 37, 38, 39, 40, 41, 42, 43, 44, 45, 46, 47, 48, …\n",
      "$ n_vacunas         \u001b[3m\u001b[90m<dbl>\u001b[39m\u001b[23m 0, 0, 0, 0, 0, 328, 344, 353, 371, 341, 389, 349, 40…\n",
      "$ n_citas           \u001b[3m\u001b[90m<dbl>\u001b[39m\u001b[23m 0, 0, 0, 0, 0, 305, 327, 328, 341, 334, 373, 332, 37…\n",
      "$ tmed              \u001b[3m\u001b[90m<dbl>\u001b[39m\u001b[23m 23.822231, 20.160014, 18.551058, 18.815387, 17.49447…\n",
      "$ prec              \u001b[3m\u001b[90m<dbl>\u001b[39m\u001b[23m -0.0063023484, 3.5537258042, 3.9769052178, 1.4806472…\n",
      "$ velmedia          \u001b[3m\u001b[90m<dbl>\u001b[39m\u001b[23m 3.573728, 2.494744, 3.316148, 2.384262, 1.850839, 1.…\n",
      "$ presMax           \u001b[3m\u001b[90m<dbl>\u001b[39m\u001b[23m 940.9841, 940.7610, 943.1540, 944.6697, 944.2973, 94…\n",
      "$ benzene           \u001b[3m\u001b[90m<dbl>\u001b[39m\u001b[23m 0.1713567, 0.1573829, 0.1858059, 0.1486437, 0.142803…\n",
      "$ co                \u001b[3m\u001b[90m<dbl>\u001b[39m\u001b[23m 0.1680325, 0.2138607, 0.2034376, 0.2399882, 0.269345…\n",
      "$ no                \u001b[3m\u001b[90m<dbl>\u001b[39m\u001b[23m 4.098371, 6.515572, 5.477654, 9.593391, 18.860535, 1…\n",
      "$ no2               \u001b[3m\u001b[90m<dbl>\u001b[39m\u001b[23m 20.09480, 27.42594, 20.74836, 37.08524, 40.19475, 44…\n",
      "$ nox               \u001b[3m\u001b[90m<dbl>\u001b[39m\u001b[23m 26.48135, 37.45944, 25.61128, 52.43745, 74.04903, 75…\n",
      "$ o3                \u001b[3m\u001b[90m<dbl>\u001b[39m\u001b[23m 50.03434, 42.41281, 56.29918, 46.79483, 41.06600, 44…\n",
      "$ pm10              \u001b[3m\u001b[90m<dbl>\u001b[39m\u001b[23m 17.447652, 17.658399, 12.844436, 16.395896, 14.90938…\n",
      "$ pm2.5             \u001b[3m\u001b[90m<dbl>\u001b[39m\u001b[23m 3.008675, 10.083070, 7.218588, 9.426029, 8.131753, 1…\n",
      "$ so2               \u001b[3m\u001b[90m<dbl>\u001b[39m\u001b[23m 6.861545, 6.589638, 4.364304, 3.123598, 1.291137, 1.…\n",
      "$ campana           \u001b[3m\u001b[90m<dbl>\u001b[39m\u001b[23m 2021, 2021, 2021, 2021, 2021, 2021, 2021, 2021, 2021…\n",
      "$ scampana          \u001b[3m\u001b[90m<dbl>\u001b[39m\u001b[23m 1, 2, 3, 4, 5, 6, 7, 8, 9, 10, 11, 12, 13, 14, 15, 1…\n",
      "$ capacidad_zona    \u001b[3m\u001b[90m<dbl>\u001b[39m\u001b[23m 7477, 7477, 7477, 7477, 7477, 7477, 7477, 7477, 7477…\n",
      "$ prop_riesgo       \u001b[3m\u001b[90m<dbl>\u001b[39m\u001b[23m 0.1953542, 0.1953542, 0.1953542, 0.1953542, 0.195354…\n",
      "$ tasa_riesgo       \u001b[3m\u001b[90m<dbl>\u001b[39m\u001b[23m 0.006867731, 0.006867731, 0.006867731, 0.006867731, …\n",
      "$ tasa_mayores      \u001b[3m\u001b[90m<dbl>\u001b[39m\u001b[23m 0.03324259, 0.03324259, 0.03324259, 0.03324259, 0.03…\n",
      "$ poblacion_mayores \u001b[3m\u001b[90m<dbl>\u001b[39m\u001b[23m 0.1781619, 0.1781619, 0.1781619, 0.1781619, 0.178161…\n",
      "$ nombre_zona       \u001b[3m\u001b[90m<chr>\u001b[39m\u001b[23m \"Abrantes\", \"Abrantes\", \"Abrantes\", \"Abrantes\", \"Abr…\n",
      "$ nsec              \u001b[3m\u001b[90m<dbl>\u001b[39m\u001b[23m 23, 23, 23, 23, 23, 23, 23, 23, 23, 23, 23, 23, 23, …\n",
      "$ t3_1              \u001b[3m\u001b[90m<dbl>\u001b[39m\u001b[23m 42.31249, 42.31249, 42.31249, 42.31249, 42.31249, 42…\n",
      "$ t1_1              \u001b[3m\u001b[90m<dbl>\u001b[39m\u001b[23m 29872, 29872, 29872, 29872, 29872, 29872, 29872, 298…\n",
      "$ t2_1              \u001b[3m\u001b[90m<dbl>\u001b[39m\u001b[23m 0.5345094, 0.5345094, 0.5345094, 0.5345094, 0.534509…\n",
      "$ t2_2              \u001b[3m\u001b[90m<dbl>\u001b[39m\u001b[23m 0.4654906, 0.4654906, 0.4654906, 0.4654906, 0.465490…\n",
      "$ t4_1              \u001b[3m\u001b[90m<dbl>\u001b[39m\u001b[23m 0.1561935, 0.1561935, 0.1561935, 0.1561935, 0.156193…\n",
      "$ t4_2              \u001b[3m\u001b[90m<dbl>\u001b[39m\u001b[23m 0.6656459, 0.6656459, 0.6656459, 0.6656459, 0.665645…\n",
      "$ t4_3              \u001b[3m\u001b[90m<dbl>\u001b[39m\u001b[23m 0.1781619, 0.1781619, 0.1781619, 0.1781619, 0.178161…\n",
      "$ t5_1              \u001b[3m\u001b[90m<dbl>\u001b[39m\u001b[23m 0.2183993, 0.2183993, 0.2183993, 0.2183993, 0.218399…\n",
      "$ t6_1              \u001b[3m\u001b[90m<dbl>\u001b[39m\u001b[23m 0.3450855, 0.3450855, 0.3450855, 0.3450855, 0.345085…\n",
      "$ t7_1              \u001b[3m\u001b[90m<dbl>\u001b[39m\u001b[23m 0.04090796, 0.04090796, 0.04090796, 0.04090796, 0.04…\n",
      "$ t8_1              \u001b[3m\u001b[90m<dbl>\u001b[39m\u001b[23m 0.02880326, 0.02880326, 0.02880326, 0.02880326, 0.02…\n",
      "$ t9_1              \u001b[3m\u001b[90m<dbl>\u001b[39m\u001b[23m 0.2685716, 0.2685716, 0.2685716, 0.2685716, 0.268571…\n",
      "$ t10_1             \u001b[3m\u001b[90m<dbl>\u001b[39m\u001b[23m 0.1665607, 0.1665607, 0.1665607, 0.1665607, 0.166560…\n",
      "$ t11_1             \u001b[3m\u001b[90m<dbl>\u001b[39m\u001b[23m 0.4723181, 0.4723181, 0.4723181, 0.4723181, 0.472318…\n",
      "$ t12_1             \u001b[3m\u001b[90m<dbl>\u001b[39m\u001b[23m 0.5637381, 0.5637381, 0.5637381, 0.5637381, 0.563738…\n",
      "$ area              \u001b[3m\u001b[90m<dbl>\u001b[39m\u001b[23m 1571619, 1571619, 1571619, 1571619, 1571619, 1571619…\n",
      "$ densidad_hab_km   \u001b[3m\u001b[90m<dbl>\u001b[39m\u001b[23m 19007.15, 19007.15, 19007.15, 19007.15, 19007.15, 19…\n",
      "$ tuits_gripe       \u001b[3m\u001b[90m<dbl>\u001b[39m\u001b[23m 97, 79, 112, 143, 112, 130, 254, 190, 198, 160, 206,…\n",
      "$ interes_gripe     \u001b[3m\u001b[90m<dbl>\u001b[39m\u001b[23m 13, 15, 19, 29, 38, 65, 100, 94, 63, 70, 64, 64, 57,…\n",
      "$ Target            \u001b[3m\u001b[90m<dbl>\u001b[39m\u001b[23m 13, 15, 19, 29, 38, 65, 100, 94, 63, 70, 64, 64, 57,…\n"
     ]
    }
   ],
   "source": [
    "sapply(data, class)\n",
    "glimpse(data)"
   ]
  },
  {
   "cell_type": "markdown",
   "metadata": {
    "slideshow": {
     "slide_type": "slide"
    }
   },
   "source": [
    "### Tidy Data\n"
   ]
  },
  {
   "cell_type": "markdown",
   "metadata": {
    "slideshow": {
     "slide_type": "slide"
    }
   },
   "source": [
    "#### Verify each variable forms a column "
   ]
  },
  {
   "cell_type": "markdown",
   "metadata": {},
   "source": [
    "<font color=' #2874a6 '><b>Remarks</b></font>"
   ]
  },
  {
   "attachments": {},
   "cell_type": "markdown",
   "metadata": {},
   "source": [
    "- Se ha comprobado que cada columna se refiere a una variable\n"
   ]
  },
  {
   "cell_type": "markdown",
   "metadata": {},
   "source": [
    "<font color=' #2874a6 '><b>CODE</b></font>"
   ]
  },
  {
   "cell_type": "code",
   "execution_count": 24,
   "metadata": {
    "ExecuteTime": {
     "end_time": "2021-01-27T11:01:34.878544Z",
     "start_time": "2021-01-27T11:01:34.740511Z"
    },
    "slideshow": {
     "slide_type": "subslide"
    },
    "vscode": {
     "languageId": "r"
    }
   },
   "outputs": [
    {
     "data": {
      "text/html": [
       "48"
      ],
      "text/latex": [
       "48"
      ],
      "text/markdown": [
       "48"
      ],
      "text/plain": [
       "[1] 48"
      ]
     },
     "metadata": {},
     "output_type": "display_data"
    },
    {
     "name": "stdout",
     "output_type": "stream",
     "text": [
      "Rows: 21,736\n",
      "Columns: 48\n",
      "$ GEOCODIGO         \u001b[3m\u001b[90m<chr>\u001b[39m\u001b[23m \"001\", \"001\", \"001\", \"001\", \"001\", \"001\", \"001\", \"00…\n",
      "$ DESBDT            \u001b[3m\u001b[90m<chr>\u001b[39m\u001b[23m \"Abrantes\", \"Abrantes\", \"Abrantes\", \"Abrantes\", \"Abr…\n",
      "$ ano               \u001b[3m\u001b[90m<dbl>\u001b[39m\u001b[23m 2021, 2021, 2021, 2021, 2021, 2021, 2021, 2021, 2021…\n",
      "$ semana            \u001b[3m\u001b[90m<dbl>\u001b[39m\u001b[23m 36, 37, 38, 39, 40, 41, 42, 43, 44, 45, 46, 47, 48, …\n",
      "$ n_vacunas         \u001b[3m\u001b[90m<dbl>\u001b[39m\u001b[23m 0, 0, 0, 0, 0, 328, 344, 353, 371, 341, 389, 349, 40…\n",
      "$ n_citas           \u001b[3m\u001b[90m<dbl>\u001b[39m\u001b[23m 0, 0, 0, 0, 0, 305, 327, 328, 341, 334, 373, 332, 37…\n",
      "$ tmed              \u001b[3m\u001b[90m<dbl>\u001b[39m\u001b[23m 23.822231, 20.160014, 18.551058, 18.815387, 17.49447…\n",
      "$ prec              \u001b[3m\u001b[90m<dbl>\u001b[39m\u001b[23m -0.0063023484, 3.5537258042, 3.9769052178, 1.4806472…\n",
      "$ velmedia          \u001b[3m\u001b[90m<dbl>\u001b[39m\u001b[23m 3.573728, 2.494744, 3.316148, 2.384262, 1.850839, 1.…\n",
      "$ presMax           \u001b[3m\u001b[90m<dbl>\u001b[39m\u001b[23m 940.9841, 940.7610, 943.1540, 944.6697, 944.2973, 94…\n",
      "$ benzene           \u001b[3m\u001b[90m<dbl>\u001b[39m\u001b[23m 0.1713567, 0.1573829, 0.1858059, 0.1486437, 0.142803…\n",
      "$ co                \u001b[3m\u001b[90m<dbl>\u001b[39m\u001b[23m 0.1680325, 0.2138607, 0.2034376, 0.2399882, 0.269345…\n",
      "$ no                \u001b[3m\u001b[90m<dbl>\u001b[39m\u001b[23m 4.098371, 6.515572, 5.477654, 9.593391, 18.860535, 1…\n",
      "$ no2               \u001b[3m\u001b[90m<dbl>\u001b[39m\u001b[23m 20.09480, 27.42594, 20.74836, 37.08524, 40.19475, 44…\n",
      "$ nox               \u001b[3m\u001b[90m<dbl>\u001b[39m\u001b[23m 26.48135, 37.45944, 25.61128, 52.43745, 74.04903, 75…\n",
      "$ o3                \u001b[3m\u001b[90m<dbl>\u001b[39m\u001b[23m 50.03434, 42.41281, 56.29918, 46.79483, 41.06600, 44…\n",
      "$ pm10              \u001b[3m\u001b[90m<dbl>\u001b[39m\u001b[23m 17.447652, 17.658399, 12.844436, 16.395896, 14.90938…\n",
      "$ pm2.5             \u001b[3m\u001b[90m<dbl>\u001b[39m\u001b[23m 3.008675, 10.083070, 7.218588, 9.426029, 8.131753, 1…\n",
      "$ so2               \u001b[3m\u001b[90m<dbl>\u001b[39m\u001b[23m 6.861545, 6.589638, 4.364304, 3.123598, 1.291137, 1.…\n",
      "$ campana           \u001b[3m\u001b[90m<dbl>\u001b[39m\u001b[23m 2021, 2021, 2021, 2021, 2021, 2021, 2021, 2021, 2021…\n",
      "$ scampana          \u001b[3m\u001b[90m<dbl>\u001b[39m\u001b[23m 1, 2, 3, 4, 5, 6, 7, 8, 9, 10, 11, 12, 13, 14, 15, 1…\n",
      "$ capacidad_zona    \u001b[3m\u001b[90m<dbl>\u001b[39m\u001b[23m 7477, 7477, 7477, 7477, 7477, 7477, 7477, 7477, 7477…\n",
      "$ prop_riesgo       \u001b[3m\u001b[90m<dbl>\u001b[39m\u001b[23m 0.1953542, 0.1953542, 0.1953542, 0.1953542, 0.195354…\n",
      "$ tasa_riesgo       \u001b[3m\u001b[90m<dbl>\u001b[39m\u001b[23m 0.006867731, 0.006867731, 0.006867731, 0.006867731, …\n",
      "$ tasa_mayores      \u001b[3m\u001b[90m<dbl>\u001b[39m\u001b[23m 0.03324259, 0.03324259, 0.03324259, 0.03324259, 0.03…\n",
      "$ poblacion_mayores \u001b[3m\u001b[90m<dbl>\u001b[39m\u001b[23m 0.1781619, 0.1781619, 0.1781619, 0.1781619, 0.178161…\n",
      "$ nombre_zona       \u001b[3m\u001b[90m<chr>\u001b[39m\u001b[23m \"Abrantes\", \"Abrantes\", \"Abrantes\", \"Abrantes\", \"Abr…\n",
      "$ nsec              \u001b[3m\u001b[90m<dbl>\u001b[39m\u001b[23m 23, 23, 23, 23, 23, 23, 23, 23, 23, 23, 23, 23, 23, …\n",
      "$ t3_1              \u001b[3m\u001b[90m<dbl>\u001b[39m\u001b[23m 42.31249, 42.31249, 42.31249, 42.31249, 42.31249, 42…\n",
      "$ t1_1              \u001b[3m\u001b[90m<dbl>\u001b[39m\u001b[23m 29872, 29872, 29872, 29872, 29872, 29872, 29872, 298…\n",
      "$ t2_1              \u001b[3m\u001b[90m<dbl>\u001b[39m\u001b[23m 0.5345094, 0.5345094, 0.5345094, 0.5345094, 0.534509…\n",
      "$ t2_2              \u001b[3m\u001b[90m<dbl>\u001b[39m\u001b[23m 0.4654906, 0.4654906, 0.4654906, 0.4654906, 0.465490…\n",
      "$ t4_1              \u001b[3m\u001b[90m<dbl>\u001b[39m\u001b[23m 0.1561935, 0.1561935, 0.1561935, 0.1561935, 0.156193…\n",
      "$ t4_2              \u001b[3m\u001b[90m<dbl>\u001b[39m\u001b[23m 0.6656459, 0.6656459, 0.6656459, 0.6656459, 0.665645…\n",
      "$ t4_3              \u001b[3m\u001b[90m<dbl>\u001b[39m\u001b[23m 0.1781619, 0.1781619, 0.1781619, 0.1781619, 0.178161…\n",
      "$ t5_1              \u001b[3m\u001b[90m<dbl>\u001b[39m\u001b[23m 0.2183993, 0.2183993, 0.2183993, 0.2183993, 0.218399…\n",
      "$ t6_1              \u001b[3m\u001b[90m<dbl>\u001b[39m\u001b[23m 0.3450855, 0.3450855, 0.3450855, 0.3450855, 0.345085…\n",
      "$ t7_1              \u001b[3m\u001b[90m<dbl>\u001b[39m\u001b[23m 0.04090796, 0.04090796, 0.04090796, 0.04090796, 0.04…\n",
      "$ t8_1              \u001b[3m\u001b[90m<dbl>\u001b[39m\u001b[23m 0.02880326, 0.02880326, 0.02880326, 0.02880326, 0.02…\n",
      "$ t9_1              \u001b[3m\u001b[90m<dbl>\u001b[39m\u001b[23m 0.2685716, 0.2685716, 0.2685716, 0.2685716, 0.268571…\n",
      "$ t10_1             \u001b[3m\u001b[90m<dbl>\u001b[39m\u001b[23m 0.1665607, 0.1665607, 0.1665607, 0.1665607, 0.166560…\n",
      "$ t11_1             \u001b[3m\u001b[90m<dbl>\u001b[39m\u001b[23m 0.4723181, 0.4723181, 0.4723181, 0.4723181, 0.472318…\n",
      "$ t12_1             \u001b[3m\u001b[90m<dbl>\u001b[39m\u001b[23m 0.5637381, 0.5637381, 0.5637381, 0.5637381, 0.563738…\n",
      "$ area              \u001b[3m\u001b[90m<dbl>\u001b[39m\u001b[23m 1571619, 1571619, 1571619, 1571619, 1571619, 1571619…\n",
      "$ densidad_hab_km   \u001b[3m\u001b[90m<dbl>\u001b[39m\u001b[23m 19007.15, 19007.15, 19007.15, 19007.15, 19007.15, 19…\n",
      "$ tuits_gripe       \u001b[3m\u001b[90m<dbl>\u001b[39m\u001b[23m 97, 79, 112, 143, 112, 130, 254, 190, 198, 160, 206,…\n",
      "$ interes_gripe     \u001b[3m\u001b[90m<dbl>\u001b[39m\u001b[23m 13, 15, 19, 29, 38, 65, 100, 94, 63, 70, 64, 64, 57,…\n",
      "$ Target            \u001b[3m\u001b[90m<dbl>\u001b[39m\u001b[23m 13, 15, 19, 29, 38, 65, 100, 94, 63, 70, 64, 64, 57,…\n"
     ]
    }
   ],
   "source": [
    "# \n",
    "ncol(data)\n",
    "glimpse(data)"
   ]
  },
  {
   "cell_type": "markdown",
   "metadata": {
    "slideshow": {
     "slide_type": "slide"
    }
   },
   "source": [
    "#### Verify each observation forms a row "
   ]
  },
  {
   "cell_type": "markdown",
   "metadata": {},
   "source": [
    "<font color=' #2874a6 '><b>Remarks</b></font>"
   ]
  },
  {
   "attachments": {},
   "cell_type": "markdown",
   "metadata": {},
   "source": [
    "- Se ha comprobado que cada fila se refiere a una observación\n"
   ]
  },
  {
   "cell_type": "markdown",
   "metadata": {},
   "source": [
    "<font color=' #2874a6 '><b>CODE</b></font>"
   ]
  },
  {
   "cell_type": "code",
   "execution_count": 25,
   "metadata": {
    "ExecuteTime": {
     "end_time": "2021-01-27T11:01:34.878544Z",
     "start_time": "2021-01-27T11:01:34.740511Z"
    },
    "slideshow": {
     "slide_type": "subslide"
    },
    "vscode": {
     "languageId": "r"
    }
   },
   "outputs": [
    {
     "data": {
      "text/html": [
       "21736"
      ],
      "text/latex": [
       "21736"
      ],
      "text/markdown": [
       "21736"
      ],
      "text/plain": [
       "[1] 21736"
      ]
     },
     "metadata": {},
     "output_type": "display_data"
    },
    {
     "data": {
      "text/html": [
       "<table class=\"dataframe\">\n",
       "<caption>A tibble: 1 × 48</caption>\n",
       "<thead>\n",
       "\t<tr><th scope=col>GEOCODIGO</th><th scope=col>DESBDT</th><th scope=col>ano</th><th scope=col>semana</th><th scope=col>n_vacunas</th><th scope=col>n_citas</th><th scope=col>tmed</th><th scope=col>prec</th><th scope=col>velmedia</th><th scope=col>presMax</th><th scope=col>⋯</th><th scope=col>t8_1</th><th scope=col>t9_1</th><th scope=col>t10_1</th><th scope=col>t11_1</th><th scope=col>t12_1</th><th scope=col>area</th><th scope=col>densidad_hab_km</th><th scope=col>tuits_gripe</th><th scope=col>interes_gripe</th><th scope=col>Target</th></tr>\n",
       "\t<tr><th scope=col>&lt;chr&gt;</th><th scope=col>&lt;chr&gt;</th><th scope=col>&lt;dbl&gt;</th><th scope=col>&lt;dbl&gt;</th><th scope=col>&lt;dbl&gt;</th><th scope=col>&lt;dbl&gt;</th><th scope=col>&lt;dbl&gt;</th><th scope=col>&lt;dbl&gt;</th><th scope=col>&lt;dbl&gt;</th><th scope=col>&lt;dbl&gt;</th><th scope=col>⋯</th><th scope=col>&lt;dbl&gt;</th><th scope=col>&lt;dbl&gt;</th><th scope=col>&lt;dbl&gt;</th><th scope=col>&lt;dbl&gt;</th><th scope=col>&lt;dbl&gt;</th><th scope=col>&lt;dbl&gt;</th><th scope=col>&lt;dbl&gt;</th><th scope=col>&lt;dbl&gt;</th><th scope=col>&lt;dbl&gt;</th><th scope=col>&lt;dbl&gt;</th></tr>\n",
       "</thead>\n",
       "<tbody>\n",
       "\t<tr><td>001</td><td>Abrantes</td><td>2021</td><td>36</td><td>0</td><td>0</td><td>23.82223</td><td>-0.006302348</td><td>3.573728</td><td>940.9841</td><td>⋯</td><td>0.02880326</td><td>0.2685716</td><td>0.1665607</td><td>0.4723181</td><td>0.5637381</td><td>1571619</td><td>19007.15</td><td>97</td><td>13</td><td>13</td></tr>\n",
       "</tbody>\n",
       "</table>\n"
      ],
      "text/latex": [
       "A tibble: 1 × 48\n",
       "\\begin{tabular}{lllllllllllllllllllll}\n",
       " GEOCODIGO & DESBDT & ano & semana & n\\_vacunas & n\\_citas & tmed & prec & velmedia & presMax & ⋯ & t8\\_1 & t9\\_1 & t10\\_1 & t11\\_1 & t12\\_1 & area & densidad\\_hab\\_km & tuits\\_gripe & interes\\_gripe & Target\\\\\n",
       " <chr> & <chr> & <dbl> & <dbl> & <dbl> & <dbl> & <dbl> & <dbl> & <dbl> & <dbl> & ⋯ & <dbl> & <dbl> & <dbl> & <dbl> & <dbl> & <dbl> & <dbl> & <dbl> & <dbl> & <dbl>\\\\\n",
       "\\hline\n",
       "\t 001 & Abrantes & 2021 & 36 & 0 & 0 & 23.82223 & -0.006302348 & 3.573728 & 940.9841 & ⋯ & 0.02880326 & 0.2685716 & 0.1665607 & 0.4723181 & 0.5637381 & 1571619 & 19007.15 & 97 & 13 & 13\\\\\n",
       "\\end{tabular}\n"
      ],
      "text/markdown": [
       "\n",
       "A tibble: 1 × 48\n",
       "\n",
       "| GEOCODIGO &lt;chr&gt; | DESBDT &lt;chr&gt; | ano &lt;dbl&gt; | semana &lt;dbl&gt; | n_vacunas &lt;dbl&gt; | n_citas &lt;dbl&gt; | tmed &lt;dbl&gt; | prec &lt;dbl&gt; | velmedia &lt;dbl&gt; | presMax &lt;dbl&gt; | ⋯ ⋯ | t8_1 &lt;dbl&gt; | t9_1 &lt;dbl&gt; | t10_1 &lt;dbl&gt; | t11_1 &lt;dbl&gt; | t12_1 &lt;dbl&gt; | area &lt;dbl&gt; | densidad_hab_km &lt;dbl&gt; | tuits_gripe &lt;dbl&gt; | interes_gripe &lt;dbl&gt; | Target &lt;dbl&gt; |\n",
       "|---|---|---|---|---|---|---|---|---|---|---|---|---|---|---|---|---|---|---|---|---|\n",
       "| 001 | Abrantes | 2021 | 36 | 0 | 0 | 23.82223 | -0.006302348 | 3.573728 | 940.9841 | ⋯ | 0.02880326 | 0.2685716 | 0.1665607 | 0.4723181 | 0.5637381 | 1571619 | 19007.15 | 97 | 13 | 13 |\n",
       "\n"
      ],
      "text/plain": [
       "  GEOCODIGO DESBDT   ano  semana n_vacunas n_citas tmed     prec        \n",
       "1 001       Abrantes 2021 36     0         0       23.82223 -0.006302348\n",
       "  velmedia presMax  ⋯ t8_1       t9_1      t10_1     t11_1     t12_1    \n",
       "1 3.573728 940.9841 ⋯ 0.02880326 0.2685716 0.1665607 0.4723181 0.5637381\n",
       "  area    densidad_hab_km tuits_gripe interes_gripe Target\n",
       "1 1571619 19007.15        97          13            13    "
      ]
     },
     "metadata": {},
     "output_type": "display_data"
    }
   ],
   "source": [
    "# \n",
    "nrow(data)\n",
    "head(data, 1)"
   ]
  },
  {
   "cell_type": "markdown",
   "metadata": {
    "slideshow": {
     "slide_type": "slide"
    }
   },
   "source": [
    "#### Verify each type of observational unit forms a table "
   ]
  },
  {
   "cell_type": "markdown",
   "metadata": {},
   "source": [
    "<font color=' #2874a6 '><b>Remarks</b></font>"
   ]
  },
  {
   "attachments": {},
   "cell_type": "markdown",
   "metadata": {},
   "source": [
    "- No aplica\n"
   ]
  },
  {
   "cell_type": "markdown",
   "metadata": {},
   "source": [
    "<font color=' #2874a6 '><b>CODE</b></font>"
   ]
  },
  {
   "cell_type": "code",
   "execution_count": 26,
   "metadata": {
    "ExecuteTime": {
     "end_time": "2021-01-27T11:01:34.878544Z",
     "start_time": "2021-01-27T11:01:34.740511Z"
    },
    "slideshow": {
     "slide_type": "subslide"
    },
    "vscode": {
     "languageId": "r"
    }
   },
   "outputs": [],
   "source": [
    "# \n"
   ]
  },
  {
   "attachments": {},
   "cell_type": "markdown",
   "metadata": {},
   "source": [
    "## <font color='green'>Data Save</font>\n",
    "\n",
    "* Solo si se han hecho cambios\n",
    "\n",
    "* No aplica"
   ]
  },
  {
   "cell_type": "markdown",
   "metadata": {},
   "source": [
    "<font color='tomato'> Identificamos los datos a guardar</font>"
   ]
  },
  {
   "cell_type": "code",
   "execution_count": 27,
   "metadata": {
    "vscode": {
     "languageId": "r"
    }
   },
   "outputs": [],
   "source": [
    "data_to_save <- data"
   ]
  },
  {
   "attachments": {},
   "cell_type": "markdown",
   "metadata": {},
   "source": [
    "\n",
    "<font color='tomato'>Estructura de nombre de archivos:</font>\n",
    "\n",
    "* Código del caso de uso, por ejemplo \"CU_04\"\n",
    "* Número del proceso que lo genera, por ejemplo \"_06\".\n",
    "* Resto del nombre del archivo de entrada\n",
    "* Extensión del archivo\n",
    "\n",
    "Ejemplo: \"CU_04_06_01_01_zonasgeo.json, primer fichero que se genera en la tarea 01 del proceso 05 (Data Collection) para el caso de uso 04 (vacunas) y que se ha transformado en el proceso 06\n",
    "\n",
    "Importante mantener los guiones bajos antes de proceso, tarea, archivo y nombre"
   ]
  },
  {
   "attachments": {},
   "cell_type": "markdown",
   "metadata": {},
   "source": [
    "### Proceso 06"
   ]
  },
  {
   "cell_type": "code",
   "execution_count": 28,
   "metadata": {
    "vscode": {
     "languageId": "r"
    }
   },
   "outputs": [],
   "source": [
    "caso <- \"CU_04\"\n",
    "proceso <- '_06'\n",
    "tarea <- \"_19\"\n",
    "archivo <- \"\"\n",
    "proper <- \"_vacunacion_gripe_completo\"\n",
    "extension <- \".csv\""
   ]
  },
  {
   "cell_type": "markdown",
   "metadata": {},
   "source": [
    "<font color='tomato'><b> OPCION A:</b> Uso del paquete \"tcltk\" para mayor comodidad</font>\n",
    "\n",
    "* Buscar carpeta, escribir nombre de archivo SIN extensión (se especifica en el código)\n",
    "* Especificar sufijo2 si es necesario\n",
    "* Cambiar datos por datos_xx si es necesario"
   ]
  },
  {
   "cell_type": "code",
   "execution_count": 29,
   "metadata": {
    "vscode": {
     "languageId": "r"
    }
   },
   "outputs": [],
   "source": [
    "# file_save <- paste0(caso, proceso, tarea, tcltk::tkgetSaveFile(), proper, extension) \n",
    "# path_out <- paste0(oPath, file_save)\n",
    "# write_csv(data_to_save_xxxxx, path_out)\n",
    "\n",
    "# cat('File saved as: ')\n",
    "# path_out"
   ]
  },
  {
   "cell_type": "markdown",
   "metadata": {},
   "source": [
    "<font color='tomato'><b> OPCION B:</b> Especificar el nombre de archivo</font>"
   ]
  },
  {
   "cell_type": "markdown",
   "metadata": {},
   "source": [
    "- Los ficheros de salida del proceso van siempre a Data/Output/.  "
   ]
  },
  {
   "cell_type": "code",
   "execution_count": 30,
   "metadata": {
    "vscode": {
     "languageId": "r"
    }
   },
   "outputs": [
    {
     "name": "stdout",
     "output_type": "stream",
     "text": [
      "File saved as: "
     ]
    },
    {
     "data": {
      "text/html": [
       "'Data/Output/CU_04_06_19_vacunacion_gripe_completo.csv'"
      ],
      "text/latex": [
       "'Data/Output/CU\\_04\\_06\\_19\\_vacunacion\\_gripe\\_completo.csv'"
      ],
      "text/markdown": [
       "'Data/Output/CU_04_06_19_vacunacion_gripe_completo.csv'"
      ],
      "text/plain": [
       "[1] \"Data/Output/CU_04_06_19_vacunacion_gripe_completo.csv\""
      ]
     },
     "metadata": {},
     "output_type": "display_data"
    }
   ],
   "source": [
    "file_save <- paste0(caso, proceso, tarea, archivo, proper, extension) \n",
    "path_out <- paste0(oPath, file_save)\n",
    "write_csv(data_to_save, path_out)\n",
    "\n",
    "cat('File saved as: ')\n",
    "path_out"
   ]
  },
  {
   "cell_type": "markdown",
   "metadata": {},
   "source": [
    "#### Copia del fichero a Input\n",
    "\n",
    "Si el archivo se va a usar en otros notebooks, copiar a la carpeta Input"
   ]
  },
  {
   "cell_type": "code",
   "execution_count": 31,
   "metadata": {
    "vscode": {
     "languageId": "r"
    }
   },
   "outputs": [
    {
     "data": {
      "text/html": [
       "TRUE"
      ],
      "text/latex": [
       "TRUE"
      ],
      "text/markdown": [
       "TRUE"
      ],
      "text/plain": [
       "[1] TRUE"
      ]
     },
     "metadata": {},
     "output_type": "display_data"
    }
   ],
   "source": [
    "path_in <- paste0(iPath, file_save)\n",
    "file.copy(path_out, path_in, overwrite = TRUE)"
   ]
  },
  {
   "cell_type": "markdown",
   "metadata": {
    "slideshow": {
     "slide_type": "slide"
    }
   },
   "source": [
    "## <font color='#2874a6'>REPORT</font>"
   ]
  },
  {
   "cell_type": "markdown",
   "metadata": {},
   "source": [
    "A continuación se realizará un informe de las acciones realizadas"
   ]
  },
  {
   "cell_type": "markdown",
   "metadata": {},
   "source": [
    "## <font color=' #2874a6 '>Main Actions Carried Out</font>"
   ]
  },
  {
   "attachments": {},
   "cell_type": "markdown",
   "metadata": {},
   "source": [
    "Ejemplos\n",
    "- Se han comprobado todas las tareas de Data Adecuacy\n",
    "- No se ha tenido que realizar ninguna acción adicional"
   ]
  },
  {
   "cell_type": "markdown",
   "metadata": {},
   "source": [
    "## <font color=' #2874a6 '>Main Conclusions</font>"
   ]
  },
  {
   "attachments": {},
   "cell_type": "markdown",
   "metadata": {},
   "source": [
    "- Los datos ya se habían tratado en el proceso 05 para poder hacer las tareas de ETL y no ha sido necesaria ninguna modificación"
   ]
  },
  {
   "cell_type": "markdown",
   "metadata": {},
   "source": [
    "## <font color='RED'>CODE TO DEPLOY (PILOT)</font>\n",
    "\n",
    "A continuación se incluirá el código que deba ser llevado a despliegue para producción, dado que se entiende efectúa operaciones necesarias sobre los datos en la ejecución del prototipo"
   ]
  },
  {
   "cell_type": "markdown",
   "metadata": {},
   "source": [
    "<font color=' red '><b>Description</b></font>\n",
    "\n",
    "- No hay nada que desplegar en el piloto, ya que estos datos son estáticos o en todo caso cambian con muy poca frecuencia, altamente improbable durante el proyecto.\n"
   ]
  },
  {
   "cell_type": "markdown",
   "metadata": {},
   "source": [
    "<font color=' red '><b>CODE</b></font>"
   ]
  },
  {
   "cell_type": "code",
   "execution_count": null,
   "metadata": {
    "vscode": {
     "languageId": "r"
    }
   },
   "outputs": [],
   "source": [
    "# incluir código"
   ]
  }
 ],
 "metadata": {
  "anaconda-cloud": {},
  "celltoolbar": "Slideshow",
  "hide_input": false,
  "kernelspec": {
   "display_name": "R",
   "language": "R",
   "name": "ir"
  },
  "language_info": {
   "codemirror_mode": "r",
   "file_extension": ".r",
   "mimetype": "text/x-r-source",
   "name": "R",
   "pygments_lexer": "r",
   "version": "4.1.2"
  },
  "latex_envs": {
   "LaTeX_envs_menu_present": true,
   "autoclose": false,
   "autocomplete": true,
   "bibliofile": "biblio.bib",
   "cite_by": "apalike",
   "current_citInitial": 1,
   "eqLabelWithNumbers": true,
   "eqNumInitial": 1,
   "hotkeys": {
    "equation": "Ctrl-E",
    "itemize": "Ctrl-I"
   },
   "labels_anchors": false,
   "latex_user_defs": false,
   "report_style_numbering": true,
   "user_envs_cfg": false
  },
  "toc": {
   "base_numbering": 1,
   "nav_menu": {
    "height": "11.6px",
    "width": "160px"
   },
   "number_sections": false,
   "sideBar": true,
   "skip_h1_title": true,
   "title_cell": "Table of Contents",
   "title_sidebar": "Contents",
   "toc_cell": true,
   "toc_position": {
    "height": "calc(100% - 180px)",
    "left": "10px",
    "top": "150px",
    "width": "165px"
   },
   "toc_section_display": true,
   "toc_window_display": true
  },
  "varInspector": {
   "cols": {
    "lenName": 16,
    "lenType": 16,
    "lenVar": 40
   },
   "kernels_config": {
    "python": {
     "delete_cmd_postfix": "",
     "delete_cmd_prefix": "del ",
     "library": "var_list.py",
     "varRefreshCmd": "print(var_dic_list())"
    },
    "r": {
     "delete_cmd_postfix": ") ",
     "delete_cmd_prefix": "rm(",
     "library": "var_list.r",
     "varRefreshCmd": "cat(var_dic_list()) "
    }
   },
   "types_to_exclude": [
    "module",
    "function",
    "builtin_function_or_method",
    "instance",
    "_Feature"
   ],
   "window_display": false
  }
 },
 "nbformat": 4,
 "nbformat_minor": 4
}
