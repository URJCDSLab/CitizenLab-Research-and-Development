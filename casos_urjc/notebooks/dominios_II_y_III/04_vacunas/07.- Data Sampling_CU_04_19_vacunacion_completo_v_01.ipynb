{
 "cells": [
  {
   "cell_type": "markdown",
   "metadata": {
    "slideshow": {
     "slide_type": "slide"
    }
   },
   "source": [
    "<img src=\".\\images\\Logo.png\" width=150 align=\"left\" /> <img src=\".\\images\\Logo2.jpg\" width=450 align=\"right\" />"
   ]
  },
  {
   "cell_type": "markdown",
   "metadata": {
    "slideshow": {
     "slide_type": "slide"
    }
   },
   "source": [
    "\n",
    "# <center><font color= #1e8449 > <b>CU04_Optimización de vacunas</font></center>"
   ]
  },
  {
   "cell_type": "markdown",
   "metadata": {
    "slideshow": {
     "slide_type": "slide"
    }
   },
   "source": [
    "<font color='steelblue'><b>Citizenlab Data Science Methodology > II - Data Processing Domain </font>\n",
    "***\n",
    "> # <font color='steelblue'> <b>07.- Data Sampling</font>"
   ]
  },
  {
   "cell_type": "markdown",
   "metadata": {
    "slideshow": {
     "slide_type": "slide"
    }
   },
   "source": [
    "<font color='steelblue'>Data Sampling is the process to obtain a subset with the appropriate size of data (examples/rows and features/columns) for analysis, maintaining the same statistical significance as raw dataset.</font>"
   ]
  },
  {
   "cell_type": "markdown",
   "metadata": {
    "slideshow": {
     "slide_type": "slide"
    }
   },
   "source": [
    "## <font color='steelblue'>Tasks</font>"
   ]
  },
  {
   "cell_type": "markdown",
   "metadata": {
    "slideshow": {
     "slide_type": "slide"
    }
   },
   "source": [
    "<font color='steelblue'><b>Sampling dataset</b>\n",
    "- Random Sampling Without Replacement\n",
    "- Random Sampling With Replacement\n",
    "- Systematic Sampling\n",
    "- Cluster Sampling\n",
    "\n",
    "<font color='steelblue'><b>Evaluate Subsets</b>\t\n",
    "- Evaluating by Mean\n",
    "- By fit\n",
    "\n",
    "    \n"
   ]
  },
  {
   "attachments": {},
   "cell_type": "markdown",
   "metadata": {},
   "source": [
    "## Consideraciones casos CitizenLab programados en R\n",
    "\n",
    "* Puede que algunas de las tareas de este proceso se realicen en los notebooks de los procesos de deploy al estar relacionadas con otras de esos procesos. En esos casos, en este notebook se referencia al notebook del proceso correspondiente\n",
    "* Puede que el proceso no aplique a los ficheros del caso de uso, y se indique \"No aplica\" de forma generalizada.\n",
    "* Si en el nombre de archivo del notebook no aparece ningún sufijo, el notebook se refiere al caso globalmente"
   ]
  },
  {
   "cell_type": "markdown",
   "metadata": {
    "slideshow": {
     "slide_type": "slide"
    }
   },
   "source": [
    "## <font color='green'>File</font>"
   ]
  },
  {
   "attachments": {},
   "cell_type": "markdown",
   "metadata": {
    "slideshow": {
     "slide_type": "slide"
    }
   },
   "source": [
    "- <font color='steelblue'> <b>Input File: CU_04_06_19_vacunacion_gripe_completo</font>\n",
    "- <font color='steelblue'> <b>Output File: CU_04_07_20_vacunacion_gripe_completo</font>"
   ]
  },
  {
   "cell_type": "markdown",
   "metadata": {
    "slideshow": {
     "slide_type": "slide"
    }
   },
   "source": [
    "## <font color='green'>Settings</font>"
   ]
  },
  {
   "cell_type": "markdown",
   "metadata": {},
   "source": [
    "### Encoding\n",
    "\n",
    "Con la siguiente expresión se evitan problemas con el encoding al ejecutar el notebook. Es posible que deba ser eliminada o adaptada a la máquina en la que se ejecute el código."
   ]
  },
  {
   "cell_type": "code",
   "execution_count": 36,
   "metadata": {
    "vscode": {
     "languageId": "r"
    }
   },
   "outputs": [
    {
     "name": "stderr",
     "output_type": "stream",
     "text": [
      "Warning message in Sys.setlocale(category = \"LC_ALL\", locale = \"es_ES.UTF-8\"):\n",
      "“OS reports request to set locale to \"es_ES.UTF-8\" cannot be honored”\n"
     ]
    },
    {
     "data": {
      "text/html": [
       "''"
      ],
      "text/latex": [
       "''"
      ],
      "text/markdown": [
       "''"
      ],
      "text/plain": [
       "[1] \"\""
      ]
     },
     "metadata": {},
     "output_type": "display_data"
    }
   ],
   "source": [
    "Sys.setlocale(category = \"LC_ALL\", locale = \"es_ES.UTF-8\")"
   ]
  },
  {
   "cell_type": "markdown",
   "metadata": {},
   "source": [
    "### Libraries to use"
   ]
  },
  {
   "cell_type": "code",
   "execution_count": 38,
   "metadata": {
    "vscode": {
     "languageId": "r"
    }
   },
   "outputs": [],
   "source": [
    "library(readr)\n",
    "library(dplyr)\n",
    "library(tidyr)\n",
    "library(stringr)"
   ]
  },
  {
   "cell_type": "markdown",
   "metadata": {},
   "source": [
    "### Paths"
   ]
  },
  {
   "cell_type": "code",
   "execution_count": 39,
   "metadata": {
    "vscode": {
     "languageId": "r"
    }
   },
   "outputs": [],
   "source": [
    "iPath <- \"Data/Input/\"\n",
    "oPath <- \"Data/Output/\""
   ]
  },
  {
   "cell_type": "markdown",
   "metadata": {},
   "source": [
    "## <font color='green'>Data Load</font>"
   ]
  },
  {
   "cell_type": "markdown",
   "metadata": {},
   "source": [
    "<font color='tomato'><b> OPCION A:</b> Seleccionar fichero en ventana para mayor comodidad</font> "
   ]
  },
  {
   "cell_type": "markdown",
   "metadata": {},
   "source": [
    "Data load using the {tcltk} package. Ucomment the line if using this option"
   ]
  },
  {
   "cell_type": "code",
   "execution_count": 40,
   "metadata": {
    "vscode": {
     "languageId": "r"
    }
   },
   "outputs": [],
   "source": [
    "# file_data <- tcltk::tk_choose.files(multi = FALSE)"
   ]
  },
  {
   "cell_type": "markdown",
   "metadata": {},
   "source": [
    "<font color='tomato'><b> OPCION B:</b> Especificar el nombre de archivo</font>\n",
    "\n"
   ]
  },
  {
   "cell_type": "code",
   "execution_count": 41,
   "metadata": {
    "vscode": {
     "languageId": "r"
    }
   },
   "outputs": [
    {
     "name": "stdout",
     "output_type": "stream",
     "text": [
      "Se leerán datos del archivo:  Data/Input/CU_04_06_19_vacunacion_gripe_completo.csv"
     ]
    }
   ],
   "source": [
    "iFile <- \"CU_04_06_19_vacunacion_gripe_completo.csv\"\n",
    "file_data <- paste0(iPath, iFile)\n",
    "\n",
    "if(file.exists(file_data)){\n",
    "    cat(\"Se leerán datos del archivo: \", file_data)\n",
    "} else{\n",
    "    warning(\"Cuidado: el archivo no existe.\")\n",
    "}\n"
   ]
  },
  {
   "cell_type": "markdown",
   "metadata": {},
   "source": [
    "#### Data file to dataframe\n",
    "\n",
    "Usar la función adecuada según el formato de entrada (xlsx, csv, json, ...)"
   ]
  },
  {
   "cell_type": "code",
   "execution_count": 42,
   "metadata": {
    "vscode": {
     "languageId": "r"
    }
   },
   "outputs": [
    {
     "name": "stderr",
     "output_type": "stream",
     "text": [
      "\u001b[1mRows: \u001b[22m\u001b[34m21736\u001b[39m \u001b[1mColumns: \u001b[22m\u001b[34m47\u001b[39m\n",
      "\u001b[36m──\u001b[39m \u001b[1mColumn specification\u001b[22m \u001b[36m───────────────────────────────────────────────────────────────────────────\u001b[39m\n",
      "\u001b[1mDelimiter:\u001b[22m \",\"\n",
      "\u001b[31mchr\u001b[39m  (3): GEOCODIGO, DESBDT, nombre_zona\n",
      "\u001b[32mdbl\u001b[39m (44): ano, semana, n_vacunas, n_citas, tmed, prec, velmedia, presMax, be...\n",
      "\n",
      "\u001b[36mℹ\u001b[39m Use `spec()` to retrieve the full column specification for this data.\n",
      "\u001b[36mℹ\u001b[39m Specify the column types or set `show_col_types = FALSE` to quiet this message.\n"
     ]
    }
   ],
   "source": [
    "data <- read_csv(file_data)\n"
   ]
  },
  {
   "cell_type": "markdown",
   "metadata": {},
   "source": [
    "<font color='tomato'>Visualizo los datos.</font>"
   ]
  },
  {
   "cell_type": "markdown",
   "metadata": {},
   "source": [
    "Estructura de  los datos:"
   ]
  },
  {
   "cell_type": "code",
   "execution_count": 43,
   "metadata": {
    "vscode": {
     "languageId": "r"
    }
   },
   "outputs": [
    {
     "name": "stdout",
     "output_type": "stream",
     "text": [
      "Rows: 21,736\n",
      "Columns: 47\n",
      "$ GEOCODIGO         \u001b[3m\u001b[90m<chr>\u001b[39m\u001b[23m \"001\", \"001\", \"001\", \"001\", \"001\", \"001\", \"001\", \"00…\n",
      "$ DESBDT            \u001b[3m\u001b[90m<chr>\u001b[39m\u001b[23m \"Abrantes\", \"Abrantes\", \"Abrantes\", \"Abrantes\", \"Abr…\n",
      "$ ano               \u001b[3m\u001b[90m<dbl>\u001b[39m\u001b[23m 2021, 2021, 2021, 2021, 2021, 2021, 2021, 2021, 2021…\n",
      "$ semana            \u001b[3m\u001b[90m<dbl>\u001b[39m\u001b[23m 36, 37, 38, 39, 40, 41, 42, 43, 44, 45, 46, 47, 48, …\n",
      "$ n_vacunas         \u001b[3m\u001b[90m<dbl>\u001b[39m\u001b[23m 0, 0, 0, 0, 0, 328, 344, 353, 371, 341, 389, 349, 40…\n",
      "$ n_citas           \u001b[3m\u001b[90m<dbl>\u001b[39m\u001b[23m 0, 0, 0, 0, 0, 305, 327, 328, 341, 334, 373, 332, 37…\n",
      "$ tmed              \u001b[3m\u001b[90m<dbl>\u001b[39m\u001b[23m 23.822231, 20.160014, 18.551058, 18.815387, 17.49447…\n",
      "$ prec              \u001b[3m\u001b[90m<dbl>\u001b[39m\u001b[23m -0.0063023484, 3.5537258042, 3.9769052178, 1.4806472…\n",
      "$ velmedia          \u001b[3m\u001b[90m<dbl>\u001b[39m\u001b[23m 3.573728, 2.494744, 3.316148, 2.384262, 1.850839, 1.…\n",
      "$ presMax           \u001b[3m\u001b[90m<dbl>\u001b[39m\u001b[23m 940.9841, 940.7610, 943.1540, 944.6697, 944.2973, 94…\n",
      "$ benzene           \u001b[3m\u001b[90m<dbl>\u001b[39m\u001b[23m 0.1713567, 0.1573829, 0.1858059, 0.1486437, 0.142803…\n",
      "$ co                \u001b[3m\u001b[90m<dbl>\u001b[39m\u001b[23m 0.1680325, 0.2138607, 0.2034376, 0.2399882, 0.269345…\n",
      "$ no                \u001b[3m\u001b[90m<dbl>\u001b[39m\u001b[23m 4.098371, 6.515572, 5.477654, 9.593391, 18.860535, 1…\n",
      "$ no2               \u001b[3m\u001b[90m<dbl>\u001b[39m\u001b[23m 20.09480, 27.42594, 20.74836, 37.08524, 40.19475, 44…\n",
      "$ nox               \u001b[3m\u001b[90m<dbl>\u001b[39m\u001b[23m 26.48135, 37.45944, 25.61128, 52.43745, 74.04903, 75…\n",
      "$ o3                \u001b[3m\u001b[90m<dbl>\u001b[39m\u001b[23m 50.03434, 42.41281, 56.29918, 46.79483, 41.06600, 44…\n",
      "$ pm10              \u001b[3m\u001b[90m<dbl>\u001b[39m\u001b[23m 17.447652, 17.658399, 12.844436, 16.395896, 14.90938…\n",
      "$ pm2.5             \u001b[3m\u001b[90m<dbl>\u001b[39m\u001b[23m 3.008675, 10.083070, 7.218588, 9.426029, 8.131753, 1…\n",
      "$ so2               \u001b[3m\u001b[90m<dbl>\u001b[39m\u001b[23m 6.861545, 6.589638, 4.364304, 3.123598, 1.291137, 1.…\n",
      "$ campana           \u001b[3m\u001b[90m<dbl>\u001b[39m\u001b[23m 2021, 2021, 2021, 2021, 2021, 2021, 2021, 2021, 2021…\n",
      "$ scampana          \u001b[3m\u001b[90m<dbl>\u001b[39m\u001b[23m 1, 2, 3, 4, 5, 6, 7, 8, 9, 10, 11, 12, 13, 14, 15, 1…\n",
      "$ capacidad_zona    \u001b[3m\u001b[90m<dbl>\u001b[39m\u001b[23m 7477, 7477, 7477, 7477, 7477, 7477, 7477, 7477, 7477…\n",
      "$ prop_riesgo       \u001b[3m\u001b[90m<dbl>\u001b[39m\u001b[23m 0.1953542, 0.1953542, 0.1953542, 0.1953542, 0.195354…\n",
      "$ tasa_riesgo       \u001b[3m\u001b[90m<dbl>\u001b[39m\u001b[23m 0.006867731, 0.006867731, 0.006867731, 0.006867731, …\n",
      "$ tasa_mayores      \u001b[3m\u001b[90m<dbl>\u001b[39m\u001b[23m 0.03324259, 0.03324259, 0.03324259, 0.03324259, 0.03…\n",
      "$ poblacion_mayores \u001b[3m\u001b[90m<dbl>\u001b[39m\u001b[23m 0.1781619, 0.1781619, 0.1781619, 0.1781619, 0.178161…\n",
      "$ nombre_zona       \u001b[3m\u001b[90m<chr>\u001b[39m\u001b[23m \"Abrantes\", \"Abrantes\", \"Abrantes\", \"Abrantes\", \"Abr…\n",
      "$ nsec              \u001b[3m\u001b[90m<dbl>\u001b[39m\u001b[23m 23, 23, 23, 23, 23, 23, 23, 23, 23, 23, 23, 23, 23, …\n",
      "$ t3_1              \u001b[3m\u001b[90m<dbl>\u001b[39m\u001b[23m 42.31249, 42.31249, 42.31249, 42.31249, 42.31249, 42…\n",
      "$ t1_1              \u001b[3m\u001b[90m<dbl>\u001b[39m\u001b[23m 29872, 29872, 29872, 29872, 29872, 29872, 29872, 298…\n",
      "$ t2_1              \u001b[3m\u001b[90m<dbl>\u001b[39m\u001b[23m 0.5345094, 0.5345094, 0.5345094, 0.5345094, 0.534509…\n",
      "$ t2_2              \u001b[3m\u001b[90m<dbl>\u001b[39m\u001b[23m 0.4654906, 0.4654906, 0.4654906, 0.4654906, 0.465490…\n",
      "$ t4_1              \u001b[3m\u001b[90m<dbl>\u001b[39m\u001b[23m 0.1561935, 0.1561935, 0.1561935, 0.1561935, 0.156193…\n",
      "$ t4_2              \u001b[3m\u001b[90m<dbl>\u001b[39m\u001b[23m 0.6656459, 0.6656459, 0.6656459, 0.6656459, 0.665645…\n",
      "$ t4_3              \u001b[3m\u001b[90m<dbl>\u001b[39m\u001b[23m 0.1781619, 0.1781619, 0.1781619, 0.1781619, 0.178161…\n",
      "$ t5_1              \u001b[3m\u001b[90m<dbl>\u001b[39m\u001b[23m 0.2183993, 0.2183993, 0.2183993, 0.2183993, 0.218399…\n",
      "$ t6_1              \u001b[3m\u001b[90m<dbl>\u001b[39m\u001b[23m 0.3450855, 0.3450855, 0.3450855, 0.3450855, 0.345085…\n",
      "$ t7_1              \u001b[3m\u001b[90m<dbl>\u001b[39m\u001b[23m 0.04090796, 0.04090796, 0.04090796, 0.04090796, 0.04…\n",
      "$ t8_1              \u001b[3m\u001b[90m<dbl>\u001b[39m\u001b[23m 0.02880326, 0.02880326, 0.02880326, 0.02880326, 0.02…\n",
      "$ t9_1              \u001b[3m\u001b[90m<dbl>\u001b[39m\u001b[23m 0.2685716, 0.2685716, 0.2685716, 0.2685716, 0.268571…\n",
      "$ t10_1             \u001b[3m\u001b[90m<dbl>\u001b[39m\u001b[23m 0.1665607, 0.1665607, 0.1665607, 0.1665607, 0.166560…\n",
      "$ t11_1             \u001b[3m\u001b[90m<dbl>\u001b[39m\u001b[23m 0.4723181, 0.4723181, 0.4723181, 0.4723181, 0.472318…\n",
      "$ t12_1             \u001b[3m\u001b[90m<dbl>\u001b[39m\u001b[23m 0.5637381, 0.5637381, 0.5637381, 0.5637381, 0.563738…\n",
      "$ area              \u001b[3m\u001b[90m<dbl>\u001b[39m\u001b[23m 1571619, 1571619, 1571619, 1571619, 1571619, 1571619…\n",
      "$ densidad_hab_km   \u001b[3m\u001b[90m<dbl>\u001b[39m\u001b[23m 19007.15, 19007.15, 19007.15, 19007.15, 19007.15, 19…\n",
      "$ tuits_gripe       \u001b[3m\u001b[90m<dbl>\u001b[39m\u001b[23m 97, 79, 112, 143, 112, 130, 254, 190, 198, 160, 206,…\n",
      "$ interes_gripe     \u001b[3m\u001b[90m<dbl>\u001b[39m\u001b[23m 13, 15, 19, 29, 38, 65, 100, 94, 63, 70, 64, 64, 57,…\n"
     ]
    }
   ],
   "source": [
    "data |> glimpse()"
   ]
  },
  {
   "cell_type": "markdown",
   "metadata": {},
   "source": [
    "Muestra de los primeros datos:"
   ]
  },
  {
   "cell_type": "code",
   "execution_count": 44,
   "metadata": {
    "vscode": {
     "languageId": "r"
    }
   },
   "outputs": [
    {
     "data": {
      "text/html": [
       "<table class=\"dataframe\">\n",
       "<caption>A spec_tbl_df: 5 × 47</caption>\n",
       "<thead>\n",
       "\t<tr><th scope=col>GEOCODIGO</th><th scope=col>DESBDT</th><th scope=col>ano</th><th scope=col>semana</th><th scope=col>n_vacunas</th><th scope=col>n_citas</th><th scope=col>tmed</th><th scope=col>prec</th><th scope=col>velmedia</th><th scope=col>presMax</th><th scope=col>⋯</th><th scope=col>t7_1</th><th scope=col>t8_1</th><th scope=col>t9_1</th><th scope=col>t10_1</th><th scope=col>t11_1</th><th scope=col>t12_1</th><th scope=col>area</th><th scope=col>densidad_hab_km</th><th scope=col>tuits_gripe</th><th scope=col>interes_gripe</th></tr>\n",
       "\t<tr><th scope=col>&lt;chr&gt;</th><th scope=col>&lt;chr&gt;</th><th scope=col>&lt;dbl&gt;</th><th scope=col>&lt;dbl&gt;</th><th scope=col>&lt;dbl&gt;</th><th scope=col>&lt;dbl&gt;</th><th scope=col>&lt;dbl&gt;</th><th scope=col>&lt;dbl&gt;</th><th scope=col>&lt;dbl&gt;</th><th scope=col>&lt;dbl&gt;</th><th scope=col>⋯</th><th scope=col>&lt;dbl&gt;</th><th scope=col>&lt;dbl&gt;</th><th scope=col>&lt;dbl&gt;</th><th scope=col>&lt;dbl&gt;</th><th scope=col>&lt;dbl&gt;</th><th scope=col>&lt;dbl&gt;</th><th scope=col>&lt;dbl&gt;</th><th scope=col>&lt;dbl&gt;</th><th scope=col>&lt;dbl&gt;</th><th scope=col>&lt;dbl&gt;</th></tr>\n",
       "</thead>\n",
       "<tbody>\n",
       "\t<tr><td>001</td><td>Abrantes</td><td>2021</td><td>36</td><td>0</td><td>0</td><td>23.82223</td><td>-0.006302348</td><td>3.573728</td><td>940.9841</td><td>⋯</td><td>0.04090796</td><td>0.02880326</td><td>0.2685716</td><td>0.1665607</td><td>0.4723181</td><td>0.5637381</td><td>1571619</td><td>19007.15</td><td> 97</td><td>13</td></tr>\n",
       "\t<tr><td>001</td><td>Abrantes</td><td>2021</td><td>37</td><td>0</td><td>0</td><td>20.16001</td><td> 3.553725804</td><td>2.494744</td><td>940.7610</td><td>⋯</td><td>0.04090796</td><td>0.02880326</td><td>0.2685716</td><td>0.1665607</td><td>0.4723181</td><td>0.5637381</td><td>1571619</td><td>19007.15</td><td> 79</td><td>15</td></tr>\n",
       "\t<tr><td>001</td><td>Abrantes</td><td>2021</td><td>38</td><td>0</td><td>0</td><td>18.55106</td><td> 3.976905218</td><td>3.316148</td><td>943.1540</td><td>⋯</td><td>0.04090796</td><td>0.02880326</td><td>0.2685716</td><td>0.1665607</td><td>0.4723181</td><td>0.5637381</td><td>1571619</td><td>19007.15</td><td>112</td><td>19</td></tr>\n",
       "\t<tr><td>001</td><td>Abrantes</td><td>2021</td><td>39</td><td>0</td><td>0</td><td>18.81539</td><td> 1.480647232</td><td>2.384262</td><td>944.6697</td><td>⋯</td><td>0.04090796</td><td>0.02880326</td><td>0.2685716</td><td>0.1665607</td><td>0.4723181</td><td>0.5637381</td><td>1571619</td><td>19007.15</td><td>143</td><td>29</td></tr>\n",
       "\t<tr><td>001</td><td>Abrantes</td><td>2021</td><td>40</td><td>0</td><td>0</td><td>17.49447</td><td>-0.033790900</td><td>1.850839</td><td>944.2973</td><td>⋯</td><td>0.04090796</td><td>0.02880326</td><td>0.2685716</td><td>0.1665607</td><td>0.4723181</td><td>0.5637381</td><td>1571619</td><td>19007.15</td><td>112</td><td>38</td></tr>\n",
       "</tbody>\n",
       "</table>\n"
      ],
      "text/latex": [
       "A spec\\_tbl\\_df: 5 × 47\n",
       "\\begin{tabular}{lllllllllllllllllllll}\n",
       " GEOCODIGO & DESBDT & ano & semana & n\\_vacunas & n\\_citas & tmed & prec & velmedia & presMax & ⋯ & t7\\_1 & t8\\_1 & t9\\_1 & t10\\_1 & t11\\_1 & t12\\_1 & area & densidad\\_hab\\_km & tuits\\_gripe & interes\\_gripe\\\\\n",
       " <chr> & <chr> & <dbl> & <dbl> & <dbl> & <dbl> & <dbl> & <dbl> & <dbl> & <dbl> & ⋯ & <dbl> & <dbl> & <dbl> & <dbl> & <dbl> & <dbl> & <dbl> & <dbl> & <dbl> & <dbl>\\\\\n",
       "\\hline\n",
       "\t 001 & Abrantes & 2021 & 36 & 0 & 0 & 23.82223 & -0.006302348 & 3.573728 & 940.9841 & ⋯ & 0.04090796 & 0.02880326 & 0.2685716 & 0.1665607 & 0.4723181 & 0.5637381 & 1571619 & 19007.15 &  97 & 13\\\\\n",
       "\t 001 & Abrantes & 2021 & 37 & 0 & 0 & 20.16001 &  3.553725804 & 2.494744 & 940.7610 & ⋯ & 0.04090796 & 0.02880326 & 0.2685716 & 0.1665607 & 0.4723181 & 0.5637381 & 1571619 & 19007.15 &  79 & 15\\\\\n",
       "\t 001 & Abrantes & 2021 & 38 & 0 & 0 & 18.55106 &  3.976905218 & 3.316148 & 943.1540 & ⋯ & 0.04090796 & 0.02880326 & 0.2685716 & 0.1665607 & 0.4723181 & 0.5637381 & 1571619 & 19007.15 & 112 & 19\\\\\n",
       "\t 001 & Abrantes & 2021 & 39 & 0 & 0 & 18.81539 &  1.480647232 & 2.384262 & 944.6697 & ⋯ & 0.04090796 & 0.02880326 & 0.2685716 & 0.1665607 & 0.4723181 & 0.5637381 & 1571619 & 19007.15 & 143 & 29\\\\\n",
       "\t 001 & Abrantes & 2021 & 40 & 0 & 0 & 17.49447 & -0.033790900 & 1.850839 & 944.2973 & ⋯ & 0.04090796 & 0.02880326 & 0.2685716 & 0.1665607 & 0.4723181 & 0.5637381 & 1571619 & 19007.15 & 112 & 38\\\\\n",
       "\\end{tabular}\n"
      ],
      "text/markdown": [
       "\n",
       "A spec_tbl_df: 5 × 47\n",
       "\n",
       "| GEOCODIGO &lt;chr&gt; | DESBDT &lt;chr&gt; | ano &lt;dbl&gt; | semana &lt;dbl&gt; | n_vacunas &lt;dbl&gt; | n_citas &lt;dbl&gt; | tmed &lt;dbl&gt; | prec &lt;dbl&gt; | velmedia &lt;dbl&gt; | presMax &lt;dbl&gt; | ⋯ ⋯ | t7_1 &lt;dbl&gt; | t8_1 &lt;dbl&gt; | t9_1 &lt;dbl&gt; | t10_1 &lt;dbl&gt; | t11_1 &lt;dbl&gt; | t12_1 &lt;dbl&gt; | area &lt;dbl&gt; | densidad_hab_km &lt;dbl&gt; | tuits_gripe &lt;dbl&gt; | interes_gripe &lt;dbl&gt; |\n",
       "|---|---|---|---|---|---|---|---|---|---|---|---|---|---|---|---|---|---|---|---|---|\n",
       "| 001 | Abrantes | 2021 | 36 | 0 | 0 | 23.82223 | -0.006302348 | 3.573728 | 940.9841 | ⋯ | 0.04090796 | 0.02880326 | 0.2685716 | 0.1665607 | 0.4723181 | 0.5637381 | 1571619 | 19007.15 |  97 | 13 |\n",
       "| 001 | Abrantes | 2021 | 37 | 0 | 0 | 20.16001 |  3.553725804 | 2.494744 | 940.7610 | ⋯ | 0.04090796 | 0.02880326 | 0.2685716 | 0.1665607 | 0.4723181 | 0.5637381 | 1571619 | 19007.15 |  79 | 15 |\n",
       "| 001 | Abrantes | 2021 | 38 | 0 | 0 | 18.55106 |  3.976905218 | 3.316148 | 943.1540 | ⋯ | 0.04090796 | 0.02880326 | 0.2685716 | 0.1665607 | 0.4723181 | 0.5637381 | 1571619 | 19007.15 | 112 | 19 |\n",
       "| 001 | Abrantes | 2021 | 39 | 0 | 0 | 18.81539 |  1.480647232 | 2.384262 | 944.6697 | ⋯ | 0.04090796 | 0.02880326 | 0.2685716 | 0.1665607 | 0.4723181 | 0.5637381 | 1571619 | 19007.15 | 143 | 29 |\n",
       "| 001 | Abrantes | 2021 | 40 | 0 | 0 | 17.49447 | -0.033790900 | 1.850839 | 944.2973 | ⋯ | 0.04090796 | 0.02880326 | 0.2685716 | 0.1665607 | 0.4723181 | 0.5637381 | 1571619 | 19007.15 | 112 | 38 |\n",
       "\n"
      ],
      "text/plain": [
       "  GEOCODIGO DESBDT   ano  semana n_vacunas n_citas tmed     prec        \n",
       "1 001       Abrantes 2021 36     0         0       23.82223 -0.006302348\n",
       "2 001       Abrantes 2021 37     0         0       20.16001  3.553725804\n",
       "3 001       Abrantes 2021 38     0         0       18.55106  3.976905218\n",
       "4 001       Abrantes 2021 39     0         0       18.81539  1.480647232\n",
       "5 001       Abrantes 2021 40     0         0       17.49447 -0.033790900\n",
       "  velmedia presMax  ⋯ t7_1       t8_1       t9_1      t10_1     t11_1    \n",
       "1 3.573728 940.9841 ⋯ 0.04090796 0.02880326 0.2685716 0.1665607 0.4723181\n",
       "2 2.494744 940.7610 ⋯ 0.04090796 0.02880326 0.2685716 0.1665607 0.4723181\n",
       "3 3.316148 943.1540 ⋯ 0.04090796 0.02880326 0.2685716 0.1665607 0.4723181\n",
       "4 2.384262 944.6697 ⋯ 0.04090796 0.02880326 0.2685716 0.1665607 0.4723181\n",
       "5 1.850839 944.2973 ⋯ 0.04090796 0.02880326 0.2685716 0.1665607 0.4723181\n",
       "  t12_1     area    densidad_hab_km tuits_gripe interes_gripe\n",
       "1 0.5637381 1571619 19007.15         97         13           \n",
       "2 0.5637381 1571619 19007.15         79         15           \n",
       "3 0.5637381 1571619 19007.15        112         19           \n",
       "4 0.5637381 1571619 19007.15        143         29           \n",
       "5 0.5637381 1571619 19007.15        112         38           "
      ]
     },
     "metadata": {},
     "output_type": "display_data"
    }
   ],
   "source": [
    "data |> slice_head(n = 5)"
   ]
  },
  {
   "cell_type": "markdown",
   "metadata": {
    "slideshow": {
     "slide_type": "slide"
    }
   },
   "source": [
    "## Sampling dataset"
   ]
  },
  {
   "attachments": {},
   "cell_type": "markdown",
   "metadata": {
    "slideshow": {
     "slide_type": "slide"
    }
   },
   "source": [
    "### Random Sampling Without Repacement\n",
    "\n",
    "No aplica"
   ]
  },
  {
   "cell_type": "markdown",
   "metadata": {},
   "source": [
    "<font color='tomato'>Data Rate to sampling</font>"
   ]
  },
  {
   "cell_type": "code",
   "execution_count": 45,
   "metadata": {
    "ExecuteTime": {
     "end_time": "2021-01-15T17:04:23.894728Z",
     "start_time": "2021-01-15T17:04:23.879742Z"
    },
    "slideshow": {
     "slide_type": "subslide"
    },
    "vscode": {
     "languageId": "r"
    }
   },
   "outputs": [],
   "source": [
    "rate <- 0.50 "
   ]
  },
  {
   "cell_type": "markdown",
   "metadata": {},
   "source": [
    "<font color='darkgrey'><b>Operation</font>"
   ]
  },
  {
   "cell_type": "code",
   "execution_count": 47,
   "metadata": {
    "ExecuteTime": {
     "end_time": "2021-01-15T17:04:24.444666Z",
     "start_time": "2021-01-15T17:04:24.424929Z"
    },
    "vscode": {
     "languageId": "r"
    }
   },
   "outputs": [],
   "source": [
    "set.seed(1)\n",
    "sdata <- slice_sample(data, prop = rate)"
   ]
  },
  {
   "cell_type": "markdown",
   "metadata": {
    "slideshow": {
     "slide_type": "slide"
    }
   },
   "source": [
    "### Random Sampling With Replacement"
   ]
  },
  {
   "cell_type": "markdown",
   "metadata": {},
   "source": [
    "<font color='tomato'>Data Rate to sampling</font>"
   ]
  },
  {
   "cell_type": "code",
   "execution_count": 48,
   "metadata": {
    "ExecuteTime": {
     "end_time": "2021-01-15T17:04:27.344926Z",
     "start_time": "2021-01-15T17:04:27.334758Z"
    },
    "slideshow": {
     "slide_type": "subslide"
    },
    "vscode": {
     "languageId": "r"
    }
   },
   "outputs": [],
   "source": [
    "# Data Rate to sampling\n",
    "rate <- 0.50 "
   ]
  },
  {
   "cell_type": "markdown",
   "metadata": {},
   "source": [
    "<font color='darkgrey'><b>Operation</font>"
   ]
  },
  {
   "cell_type": "code",
   "execution_count": 50,
   "metadata": {
    "vscode": {
     "languageId": "r"
    }
   },
   "outputs": [],
   "source": [
    "set.seed(1)\n",
    "sdata <- slice_sample(data, prop = rate)"
   ]
  },
  {
   "attachments": {},
   "cell_type": "markdown",
   "metadata": {
    "slideshow": {
     "slide_type": "slide"
    }
   },
   "source": [
    "### Systematic Sampling\n",
    "\n",
    "No aplica"
   ]
  },
  {
   "cell_type": "markdown",
   "metadata": {},
   "source": [
    "<font color='tomato'>Fixed sampling interval</font>"
   ]
  },
  {
   "cell_type": "code",
   "execution_count": 51,
   "metadata": {
    "ExecuteTime": {
     "end_time": "2021-01-15T17:04:29.844626Z",
     "start_time": "2021-01-15T17:04:29.819414Z"
    },
    "slideshow": {
     "slide_type": "subslide"
    },
    "vscode": {
     "languageId": "r"
    }
   },
   "outputs": [],
   "source": [
    "interv <- 3"
   ]
  },
  {
   "cell_type": "markdown",
   "metadata": {},
   "source": [
    "<font color='darkgrey'><b>Operation</font>"
   ]
  },
  {
   "cell_type": "code",
   "execution_count": null,
   "metadata": {
    "vscode": {
     "languageId": "r"
    }
   },
   "outputs": [],
   "source": [
    "# Código si es neceario"
   ]
  },
  {
   "attachments": {},
   "cell_type": "markdown",
   "metadata": {
    "slideshow": {
     "slide_type": "slide"
    }
   },
   "source": [
    "### Cluster Sampling\n",
    "\n",
    "No aplica"
   ]
  },
  {
   "cell_type": "markdown",
   "metadata": {},
   "source": [
    "<font color='tomato'>Number of clusters</font>"
   ]
  },
  {
   "cell_type": "code",
   "execution_count": 52,
   "metadata": {
    "ExecuteTime": {
     "end_time": "2021-01-15T17:04:33.113936Z",
     "start_time": "2021-01-15T17:04:33.094723Z"
    },
    "slideshow": {
     "slide_type": "subslide"
    },
    "vscode": {
     "languageId": "r"
    }
   },
   "outputs": [],
   "source": [
    "nc <- 2"
   ]
  },
  {
   "cell_type": "markdown",
   "metadata": {},
   "source": [
    "<font color='darkgrey'><b>Operation</font>"
   ]
  },
  {
   "cell_type": "code",
   "execution_count": null,
   "metadata": {
    "ExecuteTime": {
     "end_time": "2021-01-15T17:04:34.154779Z",
     "start_time": "2021-01-15T17:04:34.114729Z"
    },
    "vscode": {
     "languageId": "r"
    }
   },
   "outputs": [],
   "source": [
    "# Código si es neceario\n"
   ]
  },
  {
   "attachments": {},
   "cell_type": "markdown",
   "metadata": {
    "slideshow": {
     "slide_type": "slide"
    }
   },
   "source": [
    "## Evaluating Subsets Generated\n",
    "\n",
    "No aplica"
   ]
  },
  {
   "cell_type": "markdown",
   "metadata": {
    "slideshow": {
     "slide_type": "slide"
    }
   },
   "source": [
    "### Evaluating by Mean"
   ]
  },
  {
   "cell_type": "markdown",
   "metadata": {
    "slideshow": {
     "slide_type": "slide"
    }
   },
   "source": [
    "### Evaluating by Fit: Classification"
   ]
  },
  {
   "cell_type": "markdown",
   "metadata": {
    "slideshow": {
     "slide_type": "slide"
    }
   },
   "source": [
    "**Random Sampling Without Repacement**"
   ]
  },
  {
   "cell_type": "markdown",
   "metadata": {
    "slideshow": {
     "slide_type": "slide"
    }
   },
   "source": [
    "**Random Sampling With Repacement**"
   ]
  },
  {
   "cell_type": "markdown",
   "metadata": {
    "slideshow": {
     "slide_type": "slide"
    }
   },
   "source": [
    "**Systematic Sampling**"
   ]
  },
  {
   "cell_type": "markdown",
   "metadata": {
    "slideshow": {
     "slide_type": "slide"
    }
   },
   "source": [
    "### Evaluating by Fit: Regression"
   ]
  },
  {
   "cell_type": "markdown",
   "metadata": {
    "slideshow": {
     "slide_type": "slide"
    }
   },
   "source": [
    "**Random Sampling Without Repacement**"
   ]
  },
  {
   "cell_type": "markdown",
   "metadata": {
    "slideshow": {
     "slide_type": "slide"
    }
   },
   "source": [
    "**Random Sampling With Repacement**"
   ]
  },
  {
   "cell_type": "markdown",
   "metadata": {
    "slideshow": {
     "slide_type": "slide"
    }
   },
   "source": [
    "**Systematic Sampling**"
   ]
  },
  {
   "cell_type": "markdown",
   "metadata": {
    "slideshow": {
     "slide_type": "slide"
    }
   },
   "source": [
    "**Cluster Sampling**"
   ]
  },
  {
   "cell_type": "markdown",
   "metadata": {},
   "source": [
    "## <font color='green'>Data Save</font>\n",
    "\n",
    "* Solo si se han hecho cambios\n",
    "\n",
    "* No aplica"
   ]
  },
  {
   "cell_type": "markdown",
   "metadata": {},
   "source": [
    "<font color='tomato'> Identificamos los datos a guardar</font>"
   ]
  },
  {
   "cell_type": "code",
   "execution_count": null,
   "metadata": {
    "vscode": {
     "languageId": "r"
    }
   },
   "outputs": [],
   "source": [
    "data_to_save <- data"
   ]
  },
  {
   "cell_type": "markdown",
   "metadata": {},
   "source": [
    "\n",
    "<font color='tomato'>Estructura de nombre de archivos:</font>\n",
    "\n",
    "* Código del caso de uso, por ejemplo \"CU_04\"\n",
    "* Número del proceso que lo genera, por ejemplo \"_06\".\n",
    "* Resto del nombre del archivo de entrada\n",
    "* Extensión del archivo\n",
    "\n",
    "Ejemplo: \"CU_04_06_01_01_zonasgeo.json, primer fichero que se genera en la tarea 01 del proceso 05 (Data Collection) para el caso de uso 04 (vacunas) y que se ha transformado en el proceso 06\n",
    "\n",
    "Importante mantener los guiones bajos antes de proceso, tarea, archivo y nombre"
   ]
  },
  {
   "attachments": {},
   "cell_type": "markdown",
   "metadata": {},
   "source": [
    "### Proceso 07"
   ]
  },
  {
   "cell_type": "code",
   "execution_count": 1,
   "metadata": {
    "vscode": {
     "languageId": "r"
    }
   },
   "outputs": [],
   "source": [
    "caso <- \"CU_04\"\n",
    "proceso <- '_07'\n",
    "tarea <- \"_20\"\n",
    "archivo <- \"\"\n",
    "proper <- \"_vacunacion_gripe_completo\"\n",
    "extension <- \".csv\""
   ]
  },
  {
   "cell_type": "markdown",
   "metadata": {},
   "source": [
    "<font color='tomato'><b> OPCION A:</b> Uso del paquete \"tcltk\" para mayor comodidad</font>\n",
    "\n",
    "* Buscar carpeta, escribir nombre de archivo SIN extensión (se especifica en el código)\n",
    "* Especificar sufijo2 si es necesario\n",
    "* Cambiar datos por datos_xx si es necesario"
   ]
  },
  {
   "cell_type": "code",
   "execution_count": 58,
   "metadata": {
    "vscode": {
     "languageId": "r"
    }
   },
   "outputs": [],
   "source": [
    "# file_save <- paste0(caso, proceso, tarea, tcltk::tkgetSaveFile(), proper, extension) \n",
    "# path_out <- paste0(oPath, file_save)\n",
    "# write_csv(data_to_save_xxxxx, path_out)\n",
    "\n",
    "# cat('File saved as: ')\n",
    "# path_out"
   ]
  },
  {
   "cell_type": "markdown",
   "metadata": {},
   "source": [
    "<font color='tomato'><b> OPCION B:</b> Especificar el nombre de archivo</font>"
   ]
  },
  {
   "cell_type": "markdown",
   "metadata": {},
   "source": [
    "- Los ficheros de salida del proceso van siempre a Data/Output/.  "
   ]
  },
  {
   "cell_type": "code",
   "execution_count": 59,
   "metadata": {
    "vscode": {
     "languageId": "r"
    }
   },
   "outputs": [
    {
     "name": "stdout",
     "output_type": "stream",
     "text": [
      "File saved as: "
     ]
    },
    {
     "data": {
      "text/html": [
       "'Data/Output/CU_04_07_20_vacunacion_gripe_completo.csv'"
      ],
      "text/latex": [
       "'Data/Output/CU\\_04\\_07\\_20\\_vacunacion\\_gripe\\_completo.csv'"
      ],
      "text/markdown": [
       "'Data/Output/CU_04_07_20_vacunacion_gripe_completo.csv'"
      ],
      "text/plain": [
       "[1] \"Data/Output/CU_04_07_20_vacunacion_gripe_completo.csv\""
      ]
     },
     "metadata": {},
     "output_type": "display_data"
    }
   ],
   "source": [
    "file_save <- paste0(caso, proceso, tarea, archivo, proper, extension) \n",
    "path_out <- paste0(oPath, file_save)\n",
    "write_csv(data_to_save, path_out)\n",
    "\n",
    "cat('File saved as: ')\n",
    "path_out"
   ]
  },
  {
   "cell_type": "markdown",
   "metadata": {},
   "source": [
    "#### Copia del fichero a Input\n",
    "\n",
    "Si el archivo se va a usar en otros notebooks, copiar a la carpeta Input"
   ]
  },
  {
   "cell_type": "code",
   "execution_count": 60,
   "metadata": {
    "vscode": {
     "languageId": "r"
    }
   },
   "outputs": [
    {
     "data": {
      "text/html": [
       "TRUE"
      ],
      "text/latex": [
       "TRUE"
      ],
      "text/markdown": [
       "TRUE"
      ],
      "text/plain": [
       "[1] TRUE"
      ]
     },
     "metadata": {},
     "output_type": "display_data"
    }
   ],
   "source": [
    "path_in <- paste0(iPath, file_save)\n",
    "file.copy(path_out, path_in, overwrite = TRUE)"
   ]
  },
  {
   "cell_type": "markdown",
   "metadata": {
    "slideshow": {
     "slide_type": "slide"
    }
   },
   "source": [
    "## <font color='#2874a6'>REPORT</font>"
   ]
  },
  {
   "cell_type": "markdown",
   "metadata": {},
   "source": [
    "A continuación se realizará un informe de las acciones realizadas"
   ]
  },
  {
   "cell_type": "markdown",
   "metadata": {},
   "source": [
    "## <font color=' #2874a6 '>Main Actions Carried Out</font>"
   ]
  },
  {
   "attachments": {},
   "cell_type": "markdown",
   "metadata": {},
   "source": [
    "- No aplica el proceso al caso"
   ]
  },
  {
   "cell_type": "markdown",
   "metadata": {},
   "source": [
    "## <font color=' #2874a6 '>Main Conclusions</font>"
   ]
  },
  {
   "attachments": {},
   "cell_type": "markdown",
   "metadata": {},
   "source": [
    "- En este caso no se realiza muestreo"
   ]
  },
  {
   "cell_type": "markdown",
   "metadata": {},
   "source": [
    "## <font color='RED'>CODE TO DEPLOY (PILOT)</font>\n",
    "\n",
    "A continuación se incluirá el código que deba ser llevado a despliegue para producción, dado que se entiende efectúa operaciones necesarias sobre los datos en la ejecución del prototipo"
   ]
  },
  {
   "cell_type": "markdown",
   "metadata": {},
   "source": [
    "<font color=' red '><b>Description</b></font>\n",
    "\n",
    "- No hay nada que desplegar en el piloto, ya que estos datos son estáticos o en todo caso cambian con muy poca frecuencia, altamente improbable durante el proyecto.\n"
   ]
  },
  {
   "cell_type": "markdown",
   "metadata": {},
   "source": [
    "<font color=' red '><b>CODE</b></font>"
   ]
  },
  {
   "cell_type": "code",
   "execution_count": null,
   "metadata": {
    "vscode": {
     "languageId": "r"
    }
   },
   "outputs": [],
   "source": [
    "# incluir código"
   ]
  }
 ],
 "metadata": {
  "anaconda-cloud": {},
  "celltoolbar": "Slideshow",
  "hide_input": false,
  "kernelspec": {
   "display_name": "R",
   "language": "R",
   "name": "ir"
  },
  "language_info": {
   "codemirror_mode": "r",
   "file_extension": ".r",
   "mimetype": "text/x-r-source",
   "name": "R",
   "pygments_lexer": "r",
   "version": "4.1.2"
  },
  "latex_envs": {
   "LaTeX_envs_menu_present": true,
   "autoclose": false,
   "autocomplete": true,
   "bibliofile": "biblio.bib",
   "cite_by": "apalike",
   "current_citInitial": 1,
   "eqLabelWithNumbers": true,
   "eqNumInitial": 1,
   "hotkeys": {
    "equation": "Ctrl-E",
    "itemize": "Ctrl-I"
   },
   "labels_anchors": false,
   "latex_user_defs": false,
   "report_style_numbering": true,
   "user_envs_cfg": false
  },
  "toc": {
   "base_numbering": 1,
   "nav_menu": {
    "height": "11.6px",
    "width": "160px"
   },
   "number_sections": true,
   "sideBar": true,
   "skip_h1_title": true,
   "title_cell": "Table of Contents",
   "title_sidebar": "Contents",
   "toc_cell": true,
   "toc_position": {
    "height": "calc(100% - 180px)",
    "left": "10px",
    "top": "150px",
    "width": "330.6px"
   },
   "toc_section_display": true,
   "toc_window_display": true
  },
  "varInspector": {
   "cols": {
    "lenName": 16,
    "lenType": 16,
    "lenVar": 40
   },
   "kernels_config": {
    "python": {
     "delete_cmd_postfix": "",
     "delete_cmd_prefix": "del ",
     "library": "var_list.py",
     "varRefreshCmd": "print(var_dic_list())"
    },
    "r": {
     "delete_cmd_postfix": ") ",
     "delete_cmd_prefix": "rm(",
     "library": "var_list.r",
     "varRefreshCmd": "cat(var_dic_list()) "
    }
   },
   "types_to_exclude": [
    "module",
    "function",
    "builtin_function_or_method",
    "instance",
    "_Feature"
   ],
   "window_display": false
  }
 },
 "nbformat": 4,
 "nbformat_minor": 4
}
