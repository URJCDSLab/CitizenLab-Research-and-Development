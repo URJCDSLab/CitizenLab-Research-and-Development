{
 "cells": [
  {
   "cell_type": "markdown",
   "metadata": {
    "slideshow": {
     "slide_type": "slide"
    }
   },
   "source": [
    "\n",
    "# <center><font color= #F08080 > <b>CU04_Optimización de vacunas</font></center>"
   ]
  },
  {
   "attachments": {},
   "cell_type": "markdown",
   "metadata": {
    "heading_collapsed": true
   },
   "source": [
    "#  <font color='green'>(7) CÁLCULO DE LA INTERPOLACIÓN DEL RIESGO</font>\n",
    "\n",
    "Tipo de notebook: Procesamiento, con script de R.\n",
    "\n"
   ]
  },
  {
   "attachments": {},
   "cell_type": "markdown",
   "metadata": {
    "hidden": true,
    "slideshow": {
     "slide_type": "slide"
    }
   },
   "source": [
    "#### FUNCIONAMIENTO\n",
    "\n",
    "\n",
    "- Se usan los datos de zonas y capacidad campaña actual cargados en el paso 1.\n",
    "\n",
    "- También las proyecciones y/o predicciones de los pasos anteriores\n",
    "\n",
    "- También el archivo de variables\n",
    "\n",
    "- Se estima el variograma \n",
    "\n",
    "- Se realiza la extrapolación por kriging\n",
    "\n",
    "- Se guardan los archivos con la extrapolación para su representación y una imagen para su posible uso por otras aplicaciones"
   ]
  },
  {
   "attachments": {},
   "cell_type": "markdown",
   "metadata": {},
   "source": [
    "#### CARPETAS"
   ]
  },
  {
   "attachments": {},
   "cell_type": "markdown",
   "metadata": {},
   "source": [
    "Valores por defecto para que funcione el notebook\n",
    "\n",
    "Los nombres de las carpetas se deben pasar como argumentos en la llamada a Rscript, en este orden (entrada, salida, maestros)\n"
   ]
  },
  {
   "cell_type": "code",
   "execution_count": null,
   "metadata": {
    "vscode": {
     "languageId": "r"
    }
   },
   "outputs": [],
   "source": [
    "carpeta_entrada <- \"cu_04_step_05_output\"\n",
    "carpeta_salida <- \"cu_04_step_07_output\"\n",
    "carpeta_maestros <- \"cu_04_maestros\"\n"
   ]
  },
  {
   "attachments": {},
   "cell_type": "markdown",
   "metadata": {
    "hidden": true,
    "slideshow": {
     "slide_type": "slide"
    }
   },
   "source": [
    "#### LIBRERÍAS\n",
    "\n",
    "En este notebook solo se usan las siguientes:\n",
    "\n",
    "```\n",
    "\n",
    "library(dplyr)\n",
    "library(tidyr)\n",
    "library(readr)\n",
    "library(sf)\n",
    "library(stars)\n",
    "library(gstat)\n",
    "\n",
    "```\n",
    "\n",
    "Se cargan en el propio script. Como referencia:\n",
    "\n",
    "- LIBRERIAS.R carga todos los paquetes usados en el caso\n",
    "- R_paquetes.txt contiene la información de las versiones usadas de cada paquete\n",
    "- R_session_info.txt contienen la información de la sesión en la que se han desarrollado y probado las apps y aplicaciones\n"
   ]
  },
  {
   "cell_type": "code",
   "execution_count": 4,
   "metadata": {
    "vscode": {
     "languageId": "r"
    }
   },
   "outputs": [],
   "source": [
    "## No hace falta ejecutar\n",
    "# source(\"LIBRERIAS.R\")"
   ]
  },
  {
   "attachments": {},
   "cell_type": "markdown",
   "metadata": {},
   "source": [
    "#### LANZAR SCRIPT DE ESTIMACIÓN DE MODELOS E INTERPOLACIÓN"
   ]
  },
  {
   "attachments": {},
   "cell_type": "markdown",
   "metadata": {},
   "source": [
    "NOTA: Preparado para Lanzar en terminal. Para lanzar desde el notebook, habría que eliminar de la línea 1 a la 25 del script\n",
    "\n",
    "`$ Rscript cu_04_step_07_script.R cu_04_step_05_output cu_04_step_07_output cu_04_maestros`"
   ]
  },
  {
   "cell_type": "code",
   "execution_count": 1,
   "metadata": {
    "vscode": {
     "languageId": "r"
    }
   },
   "outputs": [],
   "source": [
    "# source(\"cu_04_step_07_script.R\")\n"
   ]
  },
  {
   "attachments": {},
   "cell_type": "markdown",
   "metadata": {},
   "source": [
    "NOTAS PARA EL CONTENEDOR:\n",
    "\n",
    "* Necesita las carpetas como se indica en la url y los paquetes instalados del caso (o al menos los de este paso)\n"
   ]
  }
 ],
 "metadata": {
  "anaconda-cloud": {},
  "celltoolbar": "Slideshow",
  "hide_input": false,
  "kernelspec": {
   "display_name": "R",
   "language": "R",
   "name": "ir"
  },
  "language_info": {
   "codemirror_mode": "r",
   "file_extension": ".r",
   "mimetype": "text/x-r-source",
   "name": "R",
   "pygments_lexer": "r",
   "version": "4.2.3"
  },
  "latex_envs": {
   "LaTeX_envs_menu_present": true,
   "autoclose": false,
   "autocomplete": true,
   "bibliofile": "biblio.bib",
   "cite_by": "apalike",
   "current_citInitial": 1,
   "eqLabelWithNumbers": true,
   "eqNumInitial": 1,
   "hotkeys": {
    "equation": "Ctrl-E",
    "itemize": "Ctrl-I"
   },
   "labels_anchors": false,
   "latex_user_defs": false,
   "report_style_numbering": true,
   "user_envs_cfg": false
  },
  "varInspector": {
   "cols": {
    "lenName": 16,
    "lenType": 16,
    "lenVar": 40
   },
   "kernels_config": {
    "python": {
     "delete_cmd_postfix": "",
     "delete_cmd_prefix": "del ",
     "library": "var_list.py",
     "varRefreshCmd": "print(var_dic_list())"
    },
    "r": {
     "delete_cmd_postfix": ") ",
     "delete_cmd_prefix": "rm(",
     "library": "var_list.r",
     "varRefreshCmd": "cat(var_dic_list()) "
    }
   },
   "types_to_exclude": [
    "module",
    "function",
    "builtin_function_or_method",
    "instance",
    "_Feature"
   ],
   "window_display": false
  },
  "widgets": {
   "application/vnd.jupyter.widget-state+json": {
    "state": {},
    "version_major": 2,
    "version_minor": 0
   }
  }
 },
 "nbformat": 4,
 "nbformat_minor": 1
}
