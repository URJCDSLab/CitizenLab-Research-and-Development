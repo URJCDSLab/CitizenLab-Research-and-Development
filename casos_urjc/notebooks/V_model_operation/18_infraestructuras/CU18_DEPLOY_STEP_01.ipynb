{
 "cells": [
  {
   "attachments": {},
   "cell_type": "markdown",
   "metadata": {
    "slideshow": {
     "slide_type": "slide"
    }
   },
   "source": [
    "\n",
    "# <center><font color= #F08080 > <b>CU18_Infraestructuras</font></center>"
   ]
  },
  {
   "attachments": {},
   "cell_type": "markdown",
   "metadata": {
    "slideshow": {
     "slide_type": "slide"
    }
   },
   "source": [
    "***\n",
    "> # <font color='steelblue'> <b>DEPLOY</font>"
   ]
  },
  {
   "attachments": {},
   "cell_type": "markdown",
   "metadata": {
    "heading_collapsed": true
   },
   "source": [
    "# <font color='green'>(1) CARGA DE FICHEROS</font>\n",
    "\n",
    "Tipo de notebook: parametrización, con interfaz web vía ShinyApp\n"
   ]
  },
  {
   "attachments": {},
   "cell_type": "markdown",
   "metadata": {
    "hidden": true,
    "slideshow": {
     "slide_type": "slide"
    }
   },
   "source": [
    "FUNCIONAMIENTO\n",
    "\n",
    "- Permite cargar los ficheros necesarios para el caso que no sean maestros\n",
    "\n",
    "- Se lanza una shiny app en el puerto 4000 (se podría parametrizar en fichero maestro)\n",
    "\n",
    "- Si no vienen o no existen las carpetas indicadas en la url se muestra mensaje modal y se para la aplicación\n",
    "\n",
    "- Se proporciona archivo de ejemplo a seleccionar de un desplegable\n",
    "\n",
    "- Se prepara infraestructura para subir ficheros, pero de momento no se permite\n",
    "\n",
    "- El interface es una app shiny en la que deben venir en la querystring los nombres de las carpetas de entrada, salida y maestros.\n",
    "\n",
    "- Al cargar los archivos se muestran los datos en tablas paginadas (limitado a 1000 filas aunque se podría parametrizar otro número en fichero maestro).\n",
    "\n",
    "- Una vez cargados todos los archivos, se guardan en la carpeta de salida con el botón \"Guardar datos\".\n",
    "\n",
    "- Se puede pasar al siguiente paso.\n",
    "\n",
    "NOTA: De momento he puesto todos obligatorios, pero podría ser que el usuario solo qusiera ejecutar la proyección en la nueva campaña (antes de empezar) o la predicción de la campaña en curso (con datos de la campaña iniciada).\n",
    "\n",
    "PENDIENTE DE VER:\n",
    "\n",
    "- Cómo parar la aplicación una vez que están los ficheros guardados. ¿Desde terminal, o botón en la App?\n",
    " \n",
    "\n",
    "\n",
    "\n",
    "    "
   ]
  },
  {
   "attachments": {},
   "cell_type": "markdown",
   "metadata": {
    "hidden": true,
    "slideshow": {
     "slide_type": "slide"
    }
   },
   "source": [
    "#### LIBRERÍAS\n",
    "\n",
    "En este notebook solo se usan los siguientes paquetes de R:\n",
    "\n",
    "```\n",
    "library(shiny)\n",
    "library(shinyWidgets)\n",
    "library(bslib)\n",
    "library(DT)\n",
    "\n",
    "\n",
    "library(sf)\n",
    "library(readr)\n",
    "```\n",
    "\n",
    "Se cargan en el propio script de la App. Como referencia:\n",
    "\n",
    "- LIBRERIAS.R carga todos los paquetes usados en el caso\n",
    "- R_paquetes.txt contiene la información de las versiones usadas de cada paquete\n",
    "- R_session_info.txt contienen la información de la sesión en la que se han desarrollado y probado las apps y aplicaciones"
   ]
  },
  {
   "cell_type": "code",
   "execution_count": 2,
   "metadata": {
    "ExecuteTime": {
     "end_time": "2021-01-27T11:09:36.740543Z",
     "start_time": "2021-01-27T11:09:31.569966Z"
    },
    "hidden": true,
    "scrolled": true,
    "slideshow": {
     "slide_type": "subslide"
    },
    "vscode": {
     "languageId": "r"
    }
   },
   "outputs": [],
   "source": [
    "## No hace falta ejecutar\n",
    "# source(\"LIBRERIAS.R\")"
   ]
  },
  {
   "attachments": {},
   "cell_type": "markdown",
   "metadata": {},
   "source": [
    "#### CARPETAS"
   ]
  },
  {
   "attachments": {},
   "cell_type": "markdown",
   "metadata": {},
   "source": [
    "Valores por defecto para que funcione la app\n"
   ]
  },
  {
   "cell_type": "code",
   "execution_count": 4,
   "metadata": {
    "vscode": {
     "languageId": "r"
    }
   },
   "outputs": [],
   "source": [
    "carpeta_entrada <- \"cu_18_step_01_input\"\n",
    "carpeta_salida <- \"cu_18_step_01_output\"\n",
    "carpeta_maestros <- \"cu_18_maestros\""
   ]
  },
  {
   "attachments": {},
   "cell_type": "markdown",
   "metadata": {
    "hidden": true,
    "slideshow": {
     "slide_type": "slide"
    }
   },
   "source": [
    "#### LANZAR APP DE CARGA DE FICHEROS"
   ]
  },
  {
   "attachments": {},
   "cell_type": "markdown",
   "metadata": {},
   "source": [
    "NOTA: Lanzar en terminal, no en el notebook porque quedaría a la espera de cerrarla. Se deja comentado en el notebook para eventuales pruebas.\n",
    "\n",
    "`$ Rscript -e 'shiny::runApp(\"cu_18_step_01_app.R\", port = 4000)'`"
   ]
  },
  {
   "cell_type": "code",
   "execution_count": 5,
   "metadata": {
    "hidden": true,
    "scrolled": true,
    "vscode": {
     "languageId": "r"
    }
   },
   "outputs": [],
   "source": [
    "# shiny::runApp(\"cu_18_step_01_app.R\", port = 4000)\n"
   ]
  },
  {
   "attachments": {},
   "cell_type": "markdown",
   "metadata": {},
   "source": [
    "2. LLAMADA A LA APP\n",
    "\n",
    "http://127.0.0.1:4000/?carpeta_entrada=cu_18_step_01_input&carpeta_salida=cu_18_step_01_output&carpeta_maestros=cu_18_maestros\n",
    "\n"
   ]
  },
  {
   "attachments": {},
   "cell_type": "markdown",
   "metadata": {},
   "source": [
    "NOTAS PARA EL CONTENEDOR:\n",
    "\n",
    "* Necesita las carpetas como se indica en la url y los paquetes instalados del caso (o al menos los de este paso)\n",
    "* Llamar con la IP del contenedor"
   ]
  }
 ],
 "metadata": {
  "anaconda-cloud": {},
  "celltoolbar": "Slideshow",
  "hide_input": false,
  "kernelspec": {
   "display_name": "R",
   "language": "R",
   "name": "ir"
  },
  "language_info": {
   "codemirror_mode": "r",
   "file_extension": ".r",
   "mimetype": "text/x-r-source",
   "name": "R",
   "pygments_lexer": "r",
   "version": "4.2.3"
  },
  "latex_envs": {
   "LaTeX_envs_menu_present": true,
   "autoclose": false,
   "autocomplete": true,
   "bibliofile": "biblio.bib",
   "cite_by": "apalike",
   "current_citInitial": 1,
   "eqLabelWithNumbers": true,
   "eqNumInitial": 1,
   "hotkeys": {
    "equation": "Ctrl-E",
    "itemize": "Ctrl-I"
   },
   "labels_anchors": false,
   "latex_user_defs": false,
   "report_style_numbering": true,
   "user_envs_cfg": false
  },
  "varInspector": {
   "cols": {
    "lenName": 16,
    "lenType": 16,
    "lenVar": 40
   },
   "kernels_config": {
    "python": {
     "delete_cmd_postfix": "",
     "delete_cmd_prefix": "del ",
     "library": "var_list.py",
     "varRefreshCmd": "print(var_dic_list())"
    },
    "r": {
     "delete_cmd_postfix": ") ",
     "delete_cmd_prefix": "rm(",
     "library": "var_list.r",
     "varRefreshCmd": "cat(var_dic_list()) "
    }
   },
   "types_to_exclude": [
    "module",
    "function",
    "builtin_function_or_method",
    "instance",
    "_Feature"
   ],
   "window_display": false
  },
  "widgets": {
   "application/vnd.jupyter.widget-state+json": {
    "state": {},
    "version_major": 2,
    "version_minor": 0
   }
  }
 },
 "nbformat": 4,
 "nbformat_minor": 1
}
