{
 "cells": [
  {
   "attachments": {},
   "cell_type": "markdown",
   "metadata": {
    "slideshow": {
     "slide_type": "slide"
    }
   },
   "source": [
    "\n",
    "# <center><font color= #F08080 > <b>CU04_Optimización de vacunas</font></center>"
   ]
  },
  {
   "attachments": {},
   "cell_type": "markdown",
   "metadata": {
    "heading_collapsed": true
   },
   "source": [
    "#  <font color='green'>(4) PROYECCIÓN CAMPAÑA</font>\n",
    "\n",
    "Tipo de notebook: visualización, con interfaz web vía ShinyApp.\n",
    "\n",
    "Incluye algo de procesamiento (predicción a partir del modelo) pero tarda muy pocos segundos y creo que no merece la pena hacer un notebook.\n",
    "\n",
    "Algunos mapas tardan en cargar y se ha incluido botón y spinner para mejor experiencia de usuario."
   ]
  },
  {
   "attachments": {},
   "cell_type": "markdown",
   "metadata": {
    "hidden": true,
    "slideshow": {
     "slide_type": "slide"
    }
   },
   "source": [
    "#### FUNCIONAMIENTO\n",
    "\n",
    "- Se usan los datos de zonas y escenario próxima campaña de pasos anteriores. Se muestra el escenario\n",
    "\n",
    "- Se carga el modelo GAM entrenado. Se muestran métricas del modelo, parámetros y gráficos de efectos\n",
    "\n",
    "- Se realiza la estimación con un botón (tarda menos de 5 segundos). \n",
    "\n",
    "- Después se puede cargar el mapa (con botón y spinner), visualizar la serie temporal (agregada o de una zona) y la tabla de datos de la predicción.\n",
    "\n",
    "- Se guarda la tabla de datos de la predicción (aunque no se usa en otras partes del caso)\n",
    "\n",
    "- Tres  mini-páginas en esta app: Escenario, modelo y proyección.\n",
    "\n"
   ]
  },
  {
   "attachments": {},
   "cell_type": "markdown",
   "metadata": {},
   "source": [
    "#### CARPETAS"
   ]
  },
  {
   "attachments": {},
   "cell_type": "markdown",
   "metadata": {},
   "source": [
    "Valores por defecto para que funcione el notebook\n",
    "\n",
    "NOTA: En la carpeta output se guardan los datos de la proyección, y se copian los de la entrada para los siguientes pasos"
   ]
  },
  {
   "cell_type": "code",
   "execution_count": 1,
   "metadata": {
    "vscode": {
     "languageId": "r"
    }
   },
   "outputs": [],
   "source": [
    "carpeta_entrada <- \"cu_18_step_02_output\"\n",
    "carpeta_salida <- \"cu_18_step_04_output\"\n",
    "carpeta_maestros <- \"cu_18_maestros\"\n"
   ]
  },
  {
   "attachments": {},
   "cell_type": "markdown",
   "metadata": {
    "hidden": true,
    "slideshow": {
     "slide_type": "slide"
    }
   },
   "source": [
    "#### LIBRERÍAS\n",
    "\n",
    "En este notebook solo se usan las siguientes:\n",
    "\n",
    "```\n",
    "## Paquetes\n",
    "library(shiny)\n",
    "\n",
    "## UI\n",
    "library(bslib)\n",
    "library(shinycssloaders)\n",
    "library(shinydashboard)\n",
    "library(shinyWidgets)\n",
    "library(DT)\n",
    "library(ggplot2)\n",
    "library(plotly)\n",
    "library(gratia)\n",
    "library(leaflet)\n",
    "library(waiter)\n",
    "\n",
    "\n",
    "## Server\n",
    "library(readr)\n",
    "library(mgcv)\n",
    "library(dplyr)\n",
    "library(sf)\n",
    "library(lubridate)\n",
    "library(tidyr)\n",
    "```\n",
    "\n",
    "Se cargan en el propio script de la App. Como referencia:\n",
    "\n",
    "- LIBRERIAS.R carga todos los paquetes usados en el caso\n",
    "- R_paquetes.txt contiene la información de las versiones usadas de cada paquete\n",
    "- R_session_info.txt contienen la información de la sesión en la que se han desarrollado y probado las apps y aplicaciones\n"
   ]
  },
  {
   "cell_type": "code",
   "execution_count": 2,
   "metadata": {
    "vscode": {
     "languageId": "r"
    }
   },
   "outputs": [],
   "source": [
    "## No hace falta ejecutar\n",
    "# source(\"LIBRERIAS.R\")"
   ]
  },
  {
   "attachments": {},
   "cell_type": "markdown",
   "metadata": {},
   "source": [
    "#### LANZAR APP DE VISUALIZACIÓN DE FICHEROS"
   ]
  },
  {
   "attachments": {},
   "cell_type": "markdown",
   "metadata": {},
   "source": [
    "NOTA: Lanzar en terminal, no en el notebook porque quedaría a la espera de cerrarla. Se deja comentado en el notebook para eventuales pruebas.\n",
    "\n",
    "`$ Rscript -e 'shiny::runApp(\"cu_04_step_04_app.R\", port = 4000)'`"
   ]
  },
  {
   "cell_type": "code",
   "execution_count": 1,
   "metadata": {
    "vscode": {
     "languageId": "r"
    }
   },
   "outputs": [],
   "source": [
    "# shiny::runApp(\"cu_18_step_04_app.R\", port = 4000)\n"
   ]
  },
  {
   "attachments": {},
   "cell_type": "markdown",
   "metadata": {},
   "source": [
    "2. LLAMADA A LA APP\n",
    "\n",
    "IMPORTANTE: la carpeta de entrada es la de salida del paso 2 (la de salida del paso 3 está vacía)\n",
    "\n",
    "http://127.0.0.1:4000/?carpeta_entrada=cu_18_step_02_output&carpeta_salida=cu_18_step_04_output&carpeta_maestros=cu_18_maestros\n"
   ]
  },
  {
   "attachments": {},
   "cell_type": "markdown",
   "metadata": {},
   "source": [
    "NOTAS PARA EL CONTENEDOR:\n",
    "\n",
    "* Necesita las carpetas como se indica en la url y los paquetes instalados del caso (o al menos los de este paso)\n",
    "* LLamar con la IP del contenedor"
   ]
  }
 ],
 "metadata": {
  "anaconda-cloud": {},
  "celltoolbar": "Slideshow",
  "hide_input": false,
  "kernelspec": {
   "display_name": "R",
   "language": "R",
   "name": "ir"
  },
  "language_info": {
   "codemirror_mode": "r",
   "file_extension": ".r",
   "mimetype": "text/x-r-source",
   "name": "R",
   "pygments_lexer": "r",
   "version": "4.2.3"
  },
  "latex_envs": {
   "LaTeX_envs_menu_present": true,
   "autoclose": false,
   "autocomplete": true,
   "bibliofile": "biblio.bib",
   "cite_by": "apalike",
   "current_citInitial": 1,
   "eqLabelWithNumbers": true,
   "eqNumInitial": 1,
   "hotkeys": {
    "equation": "Ctrl-E",
    "itemize": "Ctrl-I"
   },
   "labels_anchors": false,
   "latex_user_defs": false,
   "report_style_numbering": true,
   "user_envs_cfg": false
  },
  "varInspector": {
   "cols": {
    "lenName": 16,
    "lenType": 16,
    "lenVar": 40
   },
   "kernels_config": {
    "python": {
     "delete_cmd_postfix": "",
     "delete_cmd_prefix": "del ",
     "library": "var_list.py",
     "varRefreshCmd": "print(var_dic_list())"
    },
    "r": {
     "delete_cmd_postfix": ") ",
     "delete_cmd_prefix": "rm(",
     "library": "var_list.r",
     "varRefreshCmd": "cat(var_dic_list()) "
    }
   },
   "types_to_exclude": [
    "module",
    "function",
    "builtin_function_or_method",
    "instance",
    "_Feature"
   ],
   "window_display": false
  },
  "widgets": {
   "application/vnd.jupyter.widget-state+json": {
    "state": {},
    "version_major": 2,
    "version_minor": 0
   }
  }
 },
 "nbformat": 4,
 "nbformat_minor": 1
}
