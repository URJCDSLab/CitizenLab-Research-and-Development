{
 "cells": [
  {
   "cell_type": "markdown",
   "metadata": {
    "slideshow": {
     "slide_type": "slide"
    }
   },
   "source": [
    "\n",
    "# <center><font color= #F08080 > <b>CU04_Optimización de vacunas</font></center>"
   ]
  },
  {
   "attachments": {},
   "cell_type": "markdown",
   "metadata": {
    "heading_collapsed": true
   },
   "source": [
    "#  <font color='green'>(2) PARÁMETROS DE CONFIGURACIÓN</font>\n",
    "\n",
    "Tipo de notebook: parametrización, con interfaz web vía ShinyApp"
   ]
  },
  {
   "attachments": {},
   "cell_type": "markdown",
   "metadata": {
    "hidden": true,
    "slideshow": {
     "slide_type": "slide"
    }
   },
   "source": [
    "#### FUNCIONAMIENTO\n",
    "\n",
    "- Carga los parámetros de configuración por defecto que se usan en el caso\n",
    "\n",
    "- Se leen del fichero VARIABLES.csv\n",
    "\n",
    "- Permite modificar estos valores y guardarlos para el siguiente paso.\n",
    "\n",
    "- Se lanza una shiny app en el puerto 4000 (se podría parametrizar en fichero maestro)\n",
    "\n",
    "- Si no vienen o no existen las carpetas indicadas en la url se muestra mensaje modal y se para la aplicación\n",
    "\n",
    "- El interface es una app shiny en la que deben venir en la querystring los nombres de las carpetas de entrada, salida y maestros.\n",
    "\n",
    "- Una vez cargados todos los archivos, se guardan en la carpeta de salida con el botón \"Guardar datos\".\n",
    "\n",
    "- Se puede pasar al siguiente paso.\n",
    "\n",
    "- CARPETAS: Entrada/salida según requerimientos plataforma. Llegarán como parámetros en la petición GET a la app.\n",
    "\n",
    "- LIBRERÍAS: necesarias para todo el caso.\n",
    "\n",
    "- VARIABLES DE USUARIO: \n",
    "    - El usuario las configura.\n",
    "    - Se ofrece un valor por defecto al usuario en archivo VARIABLES.csv\n",
    "    - Se ofrece explicación textual de ellas al usuario.\n",
    "    - Necesarias para todo el caso.\n",
    "    - Alguna puede cambiar en sucesivas pestañas a efectos de visualización\n",
    "    - En la pantalla incial se pueden guardar los nuevos valores que seleccione el usuario\n",
    "\n",
    "PENDIENTE DE VER:\n",
    "\n",
    "- Cómo parar la aplicación una vez que están los ficheros guardados. ¿Desde terminal, o botón en la App?\n"
   ]
  },
  {
   "attachments": {},
   "cell_type": "markdown",
   "metadata": {},
   "source": [
    "#### CARPETAS"
   ]
  },
  {
   "attachments": {},
   "cell_type": "markdown",
   "metadata": {},
   "source": [
    "Valores por defecto para que funcione el notebook"
   ]
  },
  {
   "cell_type": "code",
   "execution_count": 1,
   "metadata": {
    "vscode": {
     "languageId": "r"
    }
   },
   "outputs": [],
   "source": [
    "carpeta_entrada <- \"cu_04_step_01_output\"\n",
    "carpeta_salida <- \"cu_04_step_02_output\"\n",
    "carpeta_maestros <- \"cu_04_maestros\""
   ]
  },
  {
   "attachments": {},
   "cell_type": "markdown",
   "metadata": {
    "hidden": true,
    "slideshow": {
     "slide_type": "slide"
    }
   },
   "source": [
    "#### LIBRERÍAS\n",
    "\n",
    "En este notebook solo se usan las siguientes:\n",
    "\n",
    "```\n",
    "library(shiny)\n",
    "library(shinyWidgets)\n",
    "library(bslib)\n",
    "\n",
    "library(sf)\n",
    "library(readr)\n",
    "library(dplyr)\n",
    "```\n",
    "\n",
    "Se cargan en el propio script de la App. Como referencia:\n",
    "\n",
    "- LIBRERIAS.R carga todos los paquetes usados en el caso\n",
    "- R_paquetes.txt contiene la información de las versiones usadas de cada paquete\n",
    "- R_session_info.txt contienen la información de la sesión en la que se han desarrollado y probado las apps y aplicaciones\n"
   ]
  },
  {
   "cell_type": "code",
   "execution_count": 2,
   "metadata": {
    "vscode": {
     "languageId": "r"
    }
   },
   "outputs": [],
   "source": [
    "## No hace falta ejecutar\n",
    "# source(\"LIBRERIAS.R\")"
   ]
  },
  {
   "cell_type": "markdown",
   "metadata": {},
   "source": [
    "#### LANZAR APP DE CARGA DE FICHEROS"
   ]
  },
  {
   "attachments": {},
   "cell_type": "markdown",
   "metadata": {},
   "source": [
    "NOTA: Lanzar en terminal, no en el notebook porque quedaría a la espera de cerrarla. Se deja comentado en el notebook para eventuales pruebas.\n",
    "\n",
    "`$ Rscript -e 'shiny::runApp(\"cu_04_step_02_app.R\", port = 4000)'`"
   ]
  },
  {
   "cell_type": "code",
   "execution_count": 3,
   "metadata": {
    "vscode": {
     "languageId": "r"
    }
   },
   "outputs": [],
   "source": [
    "# shiny::runApp(\"cu_04_step_02_app.R\", port = 4000)\n"
   ]
  },
  {
   "attachments": {},
   "cell_type": "markdown",
   "metadata": {},
   "source": [
    "2. LLAMADA A LA APP\n",
    "\n",
    "http://127.0.0.1:4000/?carpeta_entrada=cu_04_step_01_output&carpeta_salida=cu_04_step_02_output&carpeta_maestros=cu_04_maestros\n",
    "\n"
   ]
  },
  {
   "attachments": {},
   "cell_type": "markdown",
   "metadata": {},
   "source": [
    "NOTAS PARA EL CONTENEDOR:\n",
    "\n",
    "* Necesita las carpetas como se indica en la url y los paquetes instalados del caso (o al menos los de este paso)\n",
    "* LLamar con la IP del contenedor"
   ]
  }
 ],
 "metadata": {
  "anaconda-cloud": {},
  "celltoolbar": "Slideshow",
  "hide_input": false,
  "kernelspec": {
   "display_name": "R",
   "language": "R",
   "name": "ir"
  },
  "language_info": {
   "codemirror_mode": "r",
   "file_extension": ".r",
   "mimetype": "text/x-r-source",
   "name": "R",
   "pygments_lexer": "r",
   "version": "4.2.3"
  },
  "latex_envs": {
   "LaTeX_envs_menu_present": true,
   "autoclose": false,
   "autocomplete": true,
   "bibliofile": "biblio.bib",
   "cite_by": "apalike",
   "current_citInitial": 1,
   "eqLabelWithNumbers": true,
   "eqNumInitial": 1,
   "hotkeys": {
    "equation": "Ctrl-E",
    "itemize": "Ctrl-I"
   },
   "labels_anchors": false,
   "latex_user_defs": false,
   "report_style_numbering": true,
   "user_envs_cfg": false
  },
  "varInspector": {
   "cols": {
    "lenName": 16,
    "lenType": 16,
    "lenVar": 40
   },
   "kernels_config": {
    "python": {
     "delete_cmd_postfix": "",
     "delete_cmd_prefix": "del ",
     "library": "var_list.py",
     "varRefreshCmd": "print(var_dic_list())"
    },
    "r": {
     "delete_cmd_postfix": ") ",
     "delete_cmd_prefix": "rm(",
     "library": "var_list.r",
     "varRefreshCmd": "cat(var_dic_list()) "
    }
   },
   "types_to_exclude": [
    "module",
    "function",
    "builtin_function_or_method",
    "instance",
    "_Feature"
   ],
   "window_display": false
  },
  "widgets": {
   "application/vnd.jupyter.widget-state+json": {
    "state": {},
    "version_major": 2,
    "version_minor": 0
   }
  }
 },
 "nbformat": 4,
 "nbformat_minor": 1
}
