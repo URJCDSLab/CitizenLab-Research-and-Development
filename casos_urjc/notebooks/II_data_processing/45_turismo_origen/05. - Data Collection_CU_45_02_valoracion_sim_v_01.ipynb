{
 "cells": [
  {
   "cell_type": "markdown",
   "metadata": {
    "slideshow": {
     "slide_type": "slide"
    }
   },
   "source": [
    "<img src=\".\\images\\Logo.png\" width=150 align=\"left\" /> <img src=\".\\images\\Logo2.jpg\" width=450 align=\"right\" />"
   ]
  },
  {
   "cell_type": "markdown",
   "metadata": {},
   "source": [
    "\n",
    "# <center><font color= #1e8449 > <b>CU45_Planificación y promoción del destino en base a los patrones en origen de los turistas</font></center>"
   ]
  },
  {
   "cell_type": "markdown",
   "metadata": {
    "slideshow": {
     "slide_type": "slide"
    }
   },
   "source": [
    "<font color='steelblue'><b>Citizenlab Data Science Methodology > II - Data Processing Domain </font>\n",
    "***\n",
    "> # <font color='steelblue'> <b>05.- Data Collection</font>"
   ]
  },
  {
   "cell_type": "markdown",
   "metadata": {
    "slideshow": {
     "slide_type": "slide"
    }
   },
   "source": [
    "<font color='steelblue'>Data Collection is the process to obtain and generate (if required) necessary data to model the problem.</font>"
   ]
  },
  {
   "attachments": {},
   "cell_type": "markdown",
   "metadata": {},
   "source": [
    "### 02. Simular datos de puntuaciones de establecimiento\n",
    "\n",
    "* Para cada establecimiento de los obtenidos en pois, simular su puntuación mientras se obtienen los datos reales de puntuaciones.\n",
    "\n",
    "\n",
    "\n",
    "\n",
    "\n"
   ]
  },
  {
   "cell_type": "markdown",
   "metadata": {
    "toc": true
   },
   "source": [
    "<h1>Table of Contents<span class=\"tocSkip\"></span></h1>\n",
    "<div class=\"toc\"><ul class=\"toc-item\"><li><span><a href=\"#Settings\" data-toc-modified-id=\"Settings-1\"><font color=\"green\">Settings</font></a></span></li><li><span><a href=\"#Data-Load\" data-toc-modified-id=\"Data-Load-2\"><font color=\"green\">Data Load</font></a></span></li><li><span><a href=\"#ETL-Processes\" data-toc-modified-id=\"ETL-Processes-3\">ETL Processes</a></span><ul class=\"toc-item\"><li><span><a href=\"#Import-data-from:-CSV,-Excel,-Tab,-JSON,-SQL,-and-Parquet-files\" data-toc-modified-id=\"Import-data-from:-CSV,-Excel,-Tab,-JSON,-SQL,-and-Parquet-files-3.1\">Import data from: CSV, Excel, Tab, JSON, SQL, and Parquet files</a></span></li></ul></li><li><span><a href=\"#Synthetic-Data-Generation\" data-toc-modified-id=\"Synthetic-Data-Generation-4\">Synthetic Data Generation</a></span></li><li><span><a href=\"#Fake-Data-Generation\" data-toc-modified-id=\"Fake-Data-Generation-5\">Fake Data Generation</a></span></li><li><span><a href=\"#Open-Data\" data-toc-modified-id=\"Open-Data-6\">Open Data</a></span></li><li><span><a href=\"#Data-Save\" data-toc-modified-id=\"Data-Save-7\"><font color=\"green\">Data Save</font></a></span></li><li><span><a href=\"#Main-Conclusions\" data-toc-modified-id=\"Main-Conclusions-8\"><font color=\" #2874a6 \">Main Conclusions</font></a></span></li><li><span><a href=\"#Main-Actions\" data-toc-modified-id=\"Main-Actions-9\"><font color=\" #2874a6 \">Main Actions</font></a></span><ul class=\"toc-item\"><li><ul class=\"toc-item\"><li><span><a href=\"#Acciones-done\" data-toc-modified-id=\"Acciones-done-9.0.1\"><font color=\" #2874a6 \">Acciones done</font></a></span></li><li><span><a href=\"#Acctions-to-perform\" data-toc-modified-id=\"Acctions-to-perform-9.0.2\"><font color=\" #2874a6 \">Acctions to perform</font></a></span></li></ul></li></ul></li></ul></div>"
   ]
  },
  {
   "cell_type": "markdown",
   "metadata": {
    "slideshow": {
     "slide_type": "slide"
    }
   },
   "source": [
    "## <font color='green'>Settings</font>"
   ]
  },
  {
   "attachments": {},
   "cell_type": "markdown",
   "metadata": {},
   "source": [
    "### Encoding\n",
    "\n",
    "Con la siguiente expresión se evitan problemas con el encoding al ejecutar el notebook. Es posible que deba ser eliminada o adaptada a la máquina en la que se ejecute el código."
   ]
  },
  {
   "cell_type": "code",
   "execution_count": 1,
   "metadata": {
    "vscode": {
     "languageId": "r"
    }
   },
   "outputs": [
    {
     "data": {
      "text/html": [
       "'es_ES.UTF-8/es_ES.UTF-8/es_ES.UTF-8/C/es_ES.UTF-8/C'"
      ],
      "text/latex": [
       "'es\\_ES.UTF-8/es\\_ES.UTF-8/es\\_ES.UTF-8/C/es\\_ES.UTF-8/C'"
      ],
      "text/markdown": [
       "'es_ES.UTF-8/es_ES.UTF-8/es_ES.UTF-8/C/es_ES.UTF-8/C'"
      ],
      "text/plain": [
       "[1] \"es_ES.UTF-8/es_ES.UTF-8/es_ES.UTF-8/C/es_ES.UTF-8/C\""
      ]
     },
     "metadata": {},
     "output_type": "display_data"
    }
   ],
   "source": [
    "Sys.setlocale(category = \"LC_ALL\", locale = \"es_ES.UTF-8\")"
   ]
  },
  {
   "attachments": {},
   "cell_type": "markdown",
   "metadata": {},
   "source": [
    "### Packages to use\n",
    "\n",
    "_ELIMINAR O AÑADIR LO QUE TOQUE. COPIAR VERSIONES AL FINAL Y QUITAR CÓDIGO DE VERSIONES_\n",
    "\n",
    "- {tcltk} para selección interactiva de archivos locales\n",
    "- {sf} para trabajar con georeferenciación\n",
    "- {readr} para leer y escribir archivos csv\n",
    "- {dplyr} para explorar datos\n",
    "- {stringr} para manipulación de cadenas de caracteres\n",
    "- {tidyr} para organización de datos\n"
   ]
  },
  {
   "cell_type": "code",
   "execution_count": 2,
   "metadata": {
    "ExecuteTime": {
     "end_time": "2021-12-03T15:23:33.762841Z",
     "start_time": "2021-12-03T15:23:08.580267Z"
    },
    "slideshow": {
     "slide_type": "subslide"
    },
    "vscode": {
     "languageId": "r"
    }
   },
   "outputs": [
    {
     "name": "stderr",
     "output_type": "stream",
     "text": [
      "\n",
      "Attaching package: ‘dplyr’\n",
      "\n",
      "\n",
      "The following objects are masked from ‘package:stats’:\n",
      "\n",
      "    filter, lag\n",
      "\n",
      "\n",
      "The following objects are masked from ‘package:base’:\n",
      "\n",
      "    intersect, setdiff, setequal, union\n",
      "\n",
      "\n"
     ]
    }
   ],
   "source": [
    "# library(sf)\n",
    "library(readr)\n",
    "library(dplyr)\n",
    "# library(stringr)\n",
    "library(tidyr)\n",
    "\n",
    "p <- c(\"tcltk\", \"sf\", \"readr\", \"dplyr\", \"stringr\", \"tidyr\")\n"
   ]
  },
  {
   "attachments": {},
   "cell_type": "markdown",
   "metadata": {},
   "source": [
    "### Paths"
   ]
  },
  {
   "cell_type": "code",
   "execution_count": 3,
   "metadata": {
    "vscode": {
     "languageId": "r"
    }
   },
   "outputs": [],
   "source": [
    "iPath <- \"Data/Input/\"\n",
    "oPath <- \"Data/Output/\""
   ]
  },
  {
   "attachments": {},
   "cell_type": "markdown",
   "metadata": {
    "slideshow": {
     "slide_type": "slide"
    }
   },
   "source": [
    "## <font color='green'>Data Load</font>\n",
    "\n",
    "If there are more than one input file, make as many sections as files to import."
   ]
  },
  {
   "attachments": {},
   "cell_type": "markdown",
   "metadata": {},
   "source": [
    "Instrucciones\n",
    "- Los ficheros de entrada del proceso están siempre en Data/Input/.   \n",
    "- Si hay más de un fichero de entrada, se crean tantos objetos iFile_xx y file_data_xx como ficheros de entrada (xx número correlativo con dos dígitos, rellenar con ceros a la izquierda)"
   ]
  },
  {
   "attachments": {},
   "cell_type": "markdown",
   "metadata": {},
   "source": [
    "1. Datos de establecimientos turísticos"
   ]
  },
  {
   "attachments": {},
   "cell_type": "markdown",
   "metadata": {},
   "source": [
    "<font color='tomato'><b> OPCION A:</b> Seleccionar fichero en ventana para mayor comodidad</font> "
   ]
  },
  {
   "attachments": {},
   "cell_type": "markdown",
   "metadata": {},
   "source": [
    "Data load using the {tcltk} package. Ucomment the line if not using this option"
   ]
  },
  {
   "cell_type": "code",
   "execution_count": 4,
   "metadata": {
    "vscode": {
     "languageId": "r"
    }
   },
   "outputs": [],
   "source": [
    "# file_data_01 <- tcltk::tk_choose.files(multi = FALSE)"
   ]
  },
  {
   "attachments": {},
   "cell_type": "markdown",
   "metadata": {},
   "source": [
    "<font color='tomato'><b> OPCION B:</b> Especificar el nombre de archivo</font>\n",
    "\n"
   ]
  },
  {
   "cell_type": "code",
   "execution_count": 5,
   "metadata": {
    "vscode": {
     "languageId": "r"
    }
   },
   "outputs": [
    {
     "name": "stdout",
     "output_type": "stream",
     "text": [
      "Se leerán datos del archivo:  Data/Input/CU_18_05_12_pois_distrito.csv"
     ]
    }
   ],
   "source": [
    "iFile_01 <- \"CU_18_05_12_pois_distrito.csv\"\n",
    "file_data_01 <- paste0(iPath, iFile_01)\n",
    "\n",
    "if(file.exists(file_data_01)){\n",
    "    cat(\"Se leerán datos del archivo: \", file_data_01)\n",
    "} else{\n",
    "    warning(\"Cuidado: el archivo no existe.\")\n",
    "}\n"
   ]
  },
  {
   "attachments": {},
   "cell_type": "markdown",
   "metadata": {},
   "source": [
    "#### Data file to dataframe\n",
    "\n",
    "Usar la función adecuada según el formato de entrada (xlsx, csv, json, ...)"
   ]
  },
  {
   "cell_type": "code",
   "execution_count": 6,
   "metadata": {
    "vscode": {
     "languageId": "r"
    }
   },
   "outputs": [
    {
     "name": "stderr",
     "output_type": "stream",
     "text": [
      "\u001b[1mRows: \u001b[22m\u001b[34m24780\u001b[39m \u001b[1mColumns: \u001b[22m\u001b[34m7\u001b[39m\n",
      "\u001b[36m──\u001b[39m \u001b[1mColumn specification\u001b[22m \u001b[36m────────────────────────────────────────────────────────\u001b[39m\n",
      "\u001b[1mDelimiter:\u001b[22m \",\"\n",
      "\u001b[31mchr\u001b[39m (5): grupo, tipo, nombre, CMUN, CDIS\n",
      "\u001b[32mdbl\u001b[39m (2): X, Y\n",
      "\n",
      "\u001b[36mℹ\u001b[39m Use `spec()` to retrieve the full column specification for this data.\n",
      "\u001b[36mℹ\u001b[39m Specify the column types or set `show_col_types = FALSE` to quiet this message.\n"
     ]
    }
   ],
   "source": [
    "data_01 <- read_csv(file_data_01)\n"
   ]
  },
  {
   "attachments": {},
   "cell_type": "markdown",
   "metadata": {},
   "source": [
    "Estructura de  los datos:"
   ]
  },
  {
   "cell_type": "code",
   "execution_count": 7,
   "metadata": {
    "vscode": {
     "languageId": "r"
    }
   },
   "outputs": [
    {
     "name": "stdout",
     "output_type": "stream",
     "text": [
      "Rows: 24,780\n",
      "Columns: 7\n",
      "$ grupo  \u001b[3m\u001b[90m<chr>\u001b[39m\u001b[23m \"turismo\", \"hosteleria\", \"hosteleria\", \"hosteleria\", \"comercio\"…\n",
      "$ tipo   \u001b[3m\u001b[90m<chr>\u001b[39m\u001b[23m \"hotel\", \"restaurant\", \"pub\", \"pub\", \"supermarket\", \"fast_food\"…\n",
      "$ nombre \u001b[3m\u001b[90m<chr>\u001b[39m\u001b[23m \"NH Ciudad de la Imagen\", \"Café Comercial\", \"Sidrería la Camoch…\n",
      "$ X      \u001b[3m\u001b[90m<dbl>\u001b[39m\u001b[23m -3.788176, -3.702002, -3.701686, -3.696329, -3.706888, -3.60722…\n",
      "$ Y      \u001b[3m\u001b[90m<dbl>\u001b[39m\u001b[23m 40.39844, 40.42873, 40.42703, 40.42760, 40.48035, 40.43337, 40.…\n",
      "$ CMUN   \u001b[3m\u001b[90m<chr>\u001b[39m\u001b[23m \"115\", \"079\", \"079\", \"079\", \"079\", \"079\", \"079\", \"079\", \"079\", …\n",
      "$ CDIS   \u001b[3m\u001b[90m<chr>\u001b[39m\u001b[23m \"01\", \"01\", \"01\", \"01\", \"08\", \"20\", \"01\", \"01\", \"01\", \"01\", \"01…\n"
     ]
    }
   ],
   "source": [
    "data_01 |> glimpse()"
   ]
  },
  {
   "attachments": {},
   "cell_type": "markdown",
   "metadata": {},
   "source": [
    "Muestra de datos:"
   ]
  },
  {
   "cell_type": "code",
   "execution_count": 8,
   "metadata": {
    "vscode": {
     "languageId": "r"
    }
   },
   "outputs": [
    {
     "data": {
      "text/html": [
       "<table class=\"dataframe\">\n",
       "<caption>A spec_tbl_df: 5 x 7</caption>\n",
       "<thead>\n",
       "\t<tr><th scope=col>grupo</th><th scope=col>tipo</th><th scope=col>nombre</th><th scope=col>X</th><th scope=col>Y</th><th scope=col>CMUN</th><th scope=col>CDIS</th></tr>\n",
       "\t<tr><th scope=col>&lt;chr&gt;</th><th scope=col>&lt;chr&gt;</th><th scope=col>&lt;chr&gt;</th><th scope=col>&lt;dbl&gt;</th><th scope=col>&lt;dbl&gt;</th><th scope=col>&lt;chr&gt;</th><th scope=col>&lt;chr&gt;</th></tr>\n",
       "</thead>\n",
       "<tbody>\n",
       "\t<tr><td>turismo   </td><td>hotel      </td><td>NH Ciudad de la Imagen</td><td>-3.788176</td><td>40.39844</td><td>115</td><td>01</td></tr>\n",
       "\t<tr><td>hosteleria</td><td>restaurant </td><td>Café Comercial        </td><td>-3.702002</td><td>40.42873</td><td>079</td><td>01</td></tr>\n",
       "\t<tr><td>hosteleria</td><td>pub        </td><td>Sidrería la Camocha   </td><td>-3.701686</td><td>40.42703</td><td>079</td><td>01</td></tr>\n",
       "\t<tr><td>hosteleria</td><td>pub        </td><td>Gran Cafe Santander   </td><td>-3.696329</td><td>40.42760</td><td>079</td><td>01</td></tr>\n",
       "\t<tr><td>comercio  </td><td>supermarket</td><td>Alcampo               </td><td>-3.706888</td><td>40.48035</td><td>079</td><td>08</td></tr>\n",
       "</tbody>\n",
       "</table>\n"
      ],
      "text/latex": [
       "A spec\\_tbl\\_df: 5 x 7\n",
       "\\begin{tabular}{lllllll}\n",
       " grupo & tipo & nombre & X & Y & CMUN & CDIS\\\\\n",
       " <chr> & <chr> & <chr> & <dbl> & <dbl> & <chr> & <chr>\\\\\n",
       "\\hline\n",
       "\t turismo    & hotel       & NH Ciudad de la Imagen & -3.788176 & 40.39844 & 115 & 01\\\\\n",
       "\t hosteleria & restaurant  & Café Comercial         & -3.702002 & 40.42873 & 079 & 01\\\\\n",
       "\t hosteleria & pub         & Sidrería la Camocha    & -3.701686 & 40.42703 & 079 & 01\\\\\n",
       "\t hosteleria & pub         & Gran Cafe Santander    & -3.696329 & 40.42760 & 079 & 01\\\\\n",
       "\t comercio   & supermarket & Alcampo                & -3.706888 & 40.48035 & 079 & 08\\\\\n",
       "\\end{tabular}\n"
      ],
      "text/markdown": [
       "\n",
       "A spec_tbl_df: 5 x 7\n",
       "\n",
       "| grupo &lt;chr&gt; | tipo &lt;chr&gt; | nombre &lt;chr&gt; | X &lt;dbl&gt; | Y &lt;dbl&gt; | CMUN &lt;chr&gt; | CDIS &lt;chr&gt; |\n",
       "|---|---|---|---|---|---|---|\n",
       "| turismo    | hotel       | NH Ciudad de la Imagen | -3.788176 | 40.39844 | 115 | 01 |\n",
       "| hosteleria | restaurant  | Café Comercial         | -3.702002 | 40.42873 | 079 | 01 |\n",
       "| hosteleria | pub         | Sidrería la Camocha    | -3.701686 | 40.42703 | 079 | 01 |\n",
       "| hosteleria | pub         | Gran Cafe Santander    | -3.696329 | 40.42760 | 079 | 01 |\n",
       "| comercio   | supermarket | Alcampo                | -3.706888 | 40.48035 | 079 | 08 |\n",
       "\n"
      ],
      "text/plain": [
       "  grupo      tipo        nombre                 X         Y        CMUN CDIS\n",
       "1 turismo    hotel       NH Ciudad de la Imagen -3.788176 40.39844 115  01  \n",
       "2 hosteleria restaurant  Café Comercial         -3.702002 40.42873 079  01  \n",
       "3 hosteleria pub         Sidrería la Camocha    -3.701686 40.42703 079  01  \n",
       "4 hosteleria pub         Gran Cafe Santander    -3.696329 40.42760 079  01  \n",
       "5 comercio   supermarket Alcampo                -3.706888 40.48035 079  08  "
      ]
     },
     "metadata": {},
     "output_type": "display_data"
    }
   ],
   "source": [
    "data_01 |> slice_head(n = 5)"
   ]
  },
  {
   "attachments": {},
   "cell_type": "markdown",
   "metadata": {},
   "source": [
    "2. Datos de indicadores INE"
   ]
  },
  {
   "cell_type": "markdown",
   "metadata": {},
   "source": [
    "<font color='tomato'><b> OPCION A:</b> Seleccionar fichero en ventana para mayor comodidad</font> "
   ]
  },
  {
   "cell_type": "markdown",
   "metadata": {},
   "source": [
    "Data load using the {tcltk} package. Ucomment the line if not using this option"
   ]
  },
  {
   "cell_type": "code",
   "execution_count": 9,
   "metadata": {
    "vscode": {
     "languageId": "r"
    }
   },
   "outputs": [],
   "source": [
    "# file_data_02 <- tcltk::tk_choose.files(multi = FALSE)"
   ]
  },
  {
   "cell_type": "markdown",
   "metadata": {},
   "source": [
    "<font color='tomato'><b> OPCION B:</b> Especificar el nombre de archivo</font>\n",
    "\n"
   ]
  },
  {
   "cell_type": "code",
   "execution_count": 10,
   "metadata": {
    "vscode": {
     "languageId": "r"
    }
   },
   "outputs": [
    {
     "name": "stdout",
     "output_type": "stream",
     "text": [
      "Se leerán datos del archivo:  Data/Input/CU_18_05_10_indicadores_distritos.csv"
     ]
    }
   ],
   "source": [
    "iFile_02 <- \"CU_18_05_10_indicadores_distritos.csv\"\n",
    "file_data_02 <- paste0(iPath, iFile_02)\n",
    "\n",
    "if(file.exists(file_data_02)){\n",
    "    cat(\"Se leerán datos del archivo: \", file_data_02)\n",
    "} else{\n",
    "    warning(\"Cuidado: el archivo no existe.\")\n",
    "}\n"
   ]
  },
  {
   "cell_type": "markdown",
   "metadata": {},
   "source": [
    "#### Data file to dataframe\n",
    "\n",
    "Usar la función adecuada según el formato de entrada (xlsx, csv, json, ...)"
   ]
  },
  {
   "cell_type": "code",
   "execution_count": 11,
   "metadata": {
    "vscode": {
     "languageId": "r"
    }
   },
   "outputs": [
    {
     "name": "stderr",
     "output_type": "stream",
     "text": [
      "\u001b[1mRows: \u001b[22m\u001b[34m247\u001b[39m \u001b[1mColumns: \u001b[22m\u001b[34m22\u001b[39m\n",
      "\u001b[36m──\u001b[39m \u001b[1mColumn specification\u001b[22m \u001b[36m────────────────────────────────────────────────────────\u001b[39m\n",
      "\u001b[1mDelimiter:\u001b[22m \",\"\n",
      "\u001b[31mchr\u001b[39m  (2): CMUN, dist\n",
      "\u001b[32mdbl\u001b[39m (20): nsec, t3_1, t1_1, t2_1, t2_2, t4_1, t4_2, t4_3, t5_1, t6_1, t7_1, ...\n",
      "\n",
      "\u001b[36mℹ\u001b[39m Use `spec()` to retrieve the full column specification for this data.\n",
      "\u001b[36mℹ\u001b[39m Specify the column types or set `show_col_types = FALSE` to quiet this message.\n"
     ]
    }
   ],
   "source": [
    "data_02 <- read_csv(file_data_02)\n"
   ]
  },
  {
   "cell_type": "markdown",
   "metadata": {},
   "source": [
    "Estructura de  los datos:"
   ]
  },
  {
   "cell_type": "code",
   "execution_count": 12,
   "metadata": {
    "vscode": {
     "languageId": "r"
    }
   },
   "outputs": [
    {
     "name": "stdout",
     "output_type": "stream",
     "text": [
      "Rows: 247\n",
      "Columns: 22\n",
      "$ CMUN            \u001b[3m\u001b[90m<chr>\u001b[39m\u001b[23m \"001\", \"002\", \"003\", \"004\", \"005\", \"005\", \"005\", \"005\"…\n",
      "$ dist            \u001b[3m\u001b[90m<chr>\u001b[39m\u001b[23m \"01\", \"01\", \"01\", \"01\", \"01\", \"02\", \"03\", \"04\", \"05\", …\n",
      "$ nsec            \u001b[3m\u001b[90m<dbl>\u001b[39m\u001b[23m 1, 2, 1, 4, 23, 36, 16, 18, 32, 67, 19, 37, 29, 35, 1,…\n",
      "$ t3_1            \u001b[3m\u001b[90m<dbl>\u001b[39m\u001b[23m NA, 39.40747, 47.45970, 41.46662, 45.99877, 42.75131, …\n",
      "$ t1_1            \u001b[3m\u001b[90m<dbl>\u001b[39m\u001b[23m 55, 4793, 248, 9946, 31006, 54049, 28117, 38778, 43620…\n",
      "$ t2_1            \u001b[3m\u001b[90m<dbl>\u001b[39m\u001b[23m NA, 0.4777851, 0.3952000, 0.5015109, 0.5298303, 0.5115…\n",
      "$ t2_2            \u001b[3m\u001b[90m<dbl>\u001b[39m\u001b[23m NA, 0.5222149, 0.6048000, 0.4984891, 0.4701697, 0.4884…\n",
      "$ t4_1            \u001b[3m\u001b[90m<dbl>\u001b[39m\u001b[23m NA, 0.1696289, 0.1371000, 0.1810684, 0.1141978, 0.1468…\n",
      "$ t4_2            \u001b[3m\u001b[90m<dbl>\u001b[39m\u001b[23m NA, 0.7218958, 0.6573000, 0.6420633, 0.6427127, 0.6644…\n",
      "$ t4_3            \u001b[3m\u001b[90m<dbl>\u001b[39m\u001b[23m NA, 0.10847530, 0.20560000, 0.17684664, 0.24307467, 0.…\n",
      "$ t5_1            \u001b[3m\u001b[90m<dbl>\u001b[39m\u001b[23m NA, 0.15562992, 0.11290000, 0.15474242, 0.19647849, 0.…\n",
      "$ t6_1            \u001b[3m\u001b[90m<dbl>\u001b[39m\u001b[23m NA, 0.1959363, 0.1411000, 0.1912543, 0.2400069, 0.2147…\n",
      "$ t7_1            \u001b[3m\u001b[90m<dbl>\u001b[39m\u001b[23m NA, 0.41318314, 0.15420000, 0.15732451, 0.07438075, 0.…\n",
      "$ t8_1            \u001b[3m\u001b[90m<dbl>\u001b[39m\u001b[23m NA, 0.40995322, 0.14490000, 0.15046840, 0.06545227, 0.…\n",
      "$ t9_1            \u001b[3m\u001b[90m<dbl>\u001b[39m\u001b[23m NA, 0.4407990, 0.5280000, 0.2942034, 0.3850913, 0.2235…\n",
      "$ t10_1           \u001b[3m\u001b[90m<dbl>\u001b[39m\u001b[23m NA, 0.10715222, 0.09320000, 0.16675872, 0.14129129, 0.…\n",
      "$ t11_1           \u001b[3m\u001b[90m<dbl>\u001b[39m\u001b[23m NA, 0.6008132, 0.5000000, 0.4777910, 0.4565679, 0.4588…\n",
      "$ t12_1           \u001b[3m\u001b[90m<dbl>\u001b[39m\u001b[23m NA, 0.6730932, 0.5514000, 0.5729139, 0.5316057, 0.5641…\n",
      "$ X               \u001b[3m\u001b[90m<dbl>\u001b[39m\u001b[23m -3.635710, -3.480171, -3.849961, -3.989259, -3.364638,…\n",
      "$ Y               \u001b[3m\u001b[90m<dbl>\u001b[39m\u001b[23m 41.09315, 40.52396, 40.92033, 40.23240, 40.48268, 40.4…\n",
      "$ densidad_hab_km \u001b[3m\u001b[90m<dbl>\u001b[39m\u001b[23m 2.514002, 242.602224, 9.647117, 451.618447, 17549.3832…\n",
      "$ area_km2        \u001b[3m\u001b[90m<dbl>\u001b[39m\u001b[23m 21.877471, 19.756620, 25.707163, 22.023015, 1.766786, …\n"
     ]
    }
   ],
   "source": [
    "data_02 |> glimpse()"
   ]
  },
  {
   "cell_type": "markdown",
   "metadata": {},
   "source": [
    "Muestra de datos:"
   ]
  },
  {
   "cell_type": "code",
   "execution_count": 13,
   "metadata": {
    "vscode": {
     "languageId": "r"
    }
   },
   "outputs": [
    {
     "data": {
      "text/html": [
       "<table class=\"dataframe\">\n",
       "<caption>A spec_tbl_df: 5 x 22</caption>\n",
       "<thead>\n",
       "\t<tr><th scope=col>CMUN</th><th scope=col>dist</th><th scope=col>nsec</th><th scope=col>t3_1</th><th scope=col>t1_1</th><th scope=col>t2_1</th><th scope=col>t2_2</th><th scope=col>t4_1</th><th scope=col>t4_2</th><th scope=col>t4_3</th><th scope=col>...</th><th scope=col>t7_1</th><th scope=col>t8_1</th><th scope=col>t9_1</th><th scope=col>t10_1</th><th scope=col>t11_1</th><th scope=col>t12_1</th><th scope=col>X</th><th scope=col>Y</th><th scope=col>densidad_hab_km</th><th scope=col>area_km2</th></tr>\n",
       "\t<tr><th scope=col>&lt;chr&gt;</th><th scope=col>&lt;chr&gt;</th><th scope=col>&lt;dbl&gt;</th><th scope=col>&lt;dbl&gt;</th><th scope=col>&lt;dbl&gt;</th><th scope=col>&lt;dbl&gt;</th><th scope=col>&lt;dbl&gt;</th><th scope=col>&lt;dbl&gt;</th><th scope=col>&lt;dbl&gt;</th><th scope=col>&lt;dbl&gt;</th><th scope=col>...</th><th scope=col>&lt;dbl&gt;</th><th scope=col>&lt;dbl&gt;</th><th scope=col>&lt;dbl&gt;</th><th scope=col>&lt;dbl&gt;</th><th scope=col>&lt;dbl&gt;</th><th scope=col>&lt;dbl&gt;</th><th scope=col>&lt;dbl&gt;</th><th scope=col>&lt;dbl&gt;</th><th scope=col>&lt;dbl&gt;</th><th scope=col>&lt;dbl&gt;</th></tr>\n",
       "</thead>\n",
       "<tbody>\n",
       "\t<tr><td>001</td><td>01</td><td> 1</td><td>      NA</td><td>   55</td><td>       NA</td><td>       NA</td><td>       NA</td><td>       NA</td><td>       NA</td><td>...</td><td>        NA</td><td>        NA</td><td>       NA</td><td>       NA</td><td>       NA</td><td>       NA</td><td>-3.635710</td><td>41.09315</td><td>    2.514002</td><td>21.877471</td></tr>\n",
       "\t<tr><td>002</td><td>01</td><td> 2</td><td>39.40747</td><td> 4793</td><td>0.4777851</td><td>0.5222149</td><td>0.1696289</td><td>0.7218958</td><td>0.1084753</td><td>...</td><td>0.41318314</td><td>0.40995322</td><td>0.4407990</td><td>0.1071522</td><td>0.6008132</td><td>0.6730932</td><td>-3.480171</td><td>40.52396</td><td>  242.602224</td><td>19.756620</td></tr>\n",
       "\t<tr><td>003</td><td>01</td><td> 1</td><td>47.45970</td><td>  248</td><td>0.3952000</td><td>0.6048000</td><td>0.1371000</td><td>0.6573000</td><td>0.2056000</td><td>...</td><td>0.15420000</td><td>0.14490000</td><td>0.5280000</td><td>0.0932000</td><td>0.5000000</td><td>0.5514000</td><td>-3.849961</td><td>40.92033</td><td>    9.647117</td><td>25.707163</td></tr>\n",
       "\t<tr><td>004</td><td>01</td><td> 4</td><td>41.46662</td><td> 9946</td><td>0.5015109</td><td>0.4984891</td><td>0.1810684</td><td>0.6420633</td><td>0.1768466</td><td>...</td><td>0.15732451</td><td>0.15046840</td><td>0.2942034</td><td>0.1667587</td><td>0.4777910</td><td>0.5729139</td><td>-3.989259</td><td>40.23240</td><td>  451.618447</td><td>22.023015</td></tr>\n",
       "\t<tr><td>005</td><td>01</td><td>23</td><td>45.99877</td><td>31006</td><td>0.5298303</td><td>0.4701697</td><td>0.1141978</td><td>0.6427127</td><td>0.2430747</td><td>...</td><td>0.07438075</td><td>0.06545227</td><td>0.3850913</td><td>0.1412913</td><td>0.4565679</td><td>0.5316057</td><td>-3.364638</td><td>40.48268</td><td>17549.383204</td><td> 1.766786</td></tr>\n",
       "</tbody>\n",
       "</table>\n"
      ],
      "text/latex": [
       "A spec\\_tbl\\_df: 5 x 22\n",
       "\\begin{tabular}{lllllllllllllllllllll}\n",
       " CMUN & dist & nsec & t3\\_1 & t1\\_1 & t2\\_1 & t2\\_2 & t4\\_1 & t4\\_2 & t4\\_3 & ... & t7\\_1 & t8\\_1 & t9\\_1 & t10\\_1 & t11\\_1 & t12\\_1 & X & Y & densidad\\_hab\\_km & area\\_km2\\\\\n",
       " <chr> & <chr> & <dbl> & <dbl> & <dbl> & <dbl> & <dbl> & <dbl> & <dbl> & <dbl> & ... & <dbl> & <dbl> & <dbl> & <dbl> & <dbl> & <dbl> & <dbl> & <dbl> & <dbl> & <dbl>\\\\\n",
       "\\hline\n",
       "\t 001 & 01 &  1 &       NA &    55 &        NA &        NA &        NA &        NA &        NA & ... &         NA &         NA &        NA &        NA &        NA &        NA & -3.635710 & 41.09315 &     2.514002 & 21.877471\\\\\n",
       "\t 002 & 01 &  2 & 39.40747 &  4793 & 0.4777851 & 0.5222149 & 0.1696289 & 0.7218958 & 0.1084753 & ... & 0.41318314 & 0.40995322 & 0.4407990 & 0.1071522 & 0.6008132 & 0.6730932 & -3.480171 & 40.52396 &   242.602224 & 19.756620\\\\\n",
       "\t 003 & 01 &  1 & 47.45970 &   248 & 0.3952000 & 0.6048000 & 0.1371000 & 0.6573000 & 0.2056000 & ... & 0.15420000 & 0.14490000 & 0.5280000 & 0.0932000 & 0.5000000 & 0.5514000 & -3.849961 & 40.92033 &     9.647117 & 25.707163\\\\\n",
       "\t 004 & 01 &  4 & 41.46662 &  9946 & 0.5015109 & 0.4984891 & 0.1810684 & 0.6420633 & 0.1768466 & ... & 0.15732451 & 0.15046840 & 0.2942034 & 0.1667587 & 0.4777910 & 0.5729139 & -3.989259 & 40.23240 &   451.618447 & 22.023015\\\\\n",
       "\t 005 & 01 & 23 & 45.99877 & 31006 & 0.5298303 & 0.4701697 & 0.1141978 & 0.6427127 & 0.2430747 & ... & 0.07438075 & 0.06545227 & 0.3850913 & 0.1412913 & 0.4565679 & 0.5316057 & -3.364638 & 40.48268 & 17549.383204 &  1.766786\\\\\n",
       "\\end{tabular}\n"
      ],
      "text/markdown": [
       "\n",
       "A spec_tbl_df: 5 x 22\n",
       "\n",
       "| CMUN &lt;chr&gt; | dist &lt;chr&gt; | nsec &lt;dbl&gt; | t3_1 &lt;dbl&gt; | t1_1 &lt;dbl&gt; | t2_1 &lt;dbl&gt; | t2_2 &lt;dbl&gt; | t4_1 &lt;dbl&gt; | t4_2 &lt;dbl&gt; | t4_3 &lt;dbl&gt; | ... ... | t7_1 &lt;dbl&gt; | t8_1 &lt;dbl&gt; | t9_1 &lt;dbl&gt; | t10_1 &lt;dbl&gt; | t11_1 &lt;dbl&gt; | t12_1 &lt;dbl&gt; | X &lt;dbl&gt; | Y &lt;dbl&gt; | densidad_hab_km &lt;dbl&gt; | area_km2 &lt;dbl&gt; |\n",
       "|---|---|---|---|---|---|---|---|---|---|---|---|---|---|---|---|---|---|---|---|---|\n",
       "| 001 | 01 |  1 |       NA |    55 |        NA |        NA |        NA |        NA |        NA | ... |         NA |         NA |        NA |        NA |        NA |        NA | -3.635710 | 41.09315 |     2.514002 | 21.877471 |\n",
       "| 002 | 01 |  2 | 39.40747 |  4793 | 0.4777851 | 0.5222149 | 0.1696289 | 0.7218958 | 0.1084753 | ... | 0.41318314 | 0.40995322 | 0.4407990 | 0.1071522 | 0.6008132 | 0.6730932 | -3.480171 | 40.52396 |   242.602224 | 19.756620 |\n",
       "| 003 | 01 |  1 | 47.45970 |   248 | 0.3952000 | 0.6048000 | 0.1371000 | 0.6573000 | 0.2056000 | ... | 0.15420000 | 0.14490000 | 0.5280000 | 0.0932000 | 0.5000000 | 0.5514000 | -3.849961 | 40.92033 |     9.647117 | 25.707163 |\n",
       "| 004 | 01 |  4 | 41.46662 |  9946 | 0.5015109 | 0.4984891 | 0.1810684 | 0.6420633 | 0.1768466 | ... | 0.15732451 | 0.15046840 | 0.2942034 | 0.1667587 | 0.4777910 | 0.5729139 | -3.989259 | 40.23240 |   451.618447 | 22.023015 |\n",
       "| 005 | 01 | 23 | 45.99877 | 31006 | 0.5298303 | 0.4701697 | 0.1141978 | 0.6427127 | 0.2430747 | ... | 0.07438075 | 0.06545227 | 0.3850913 | 0.1412913 | 0.4565679 | 0.5316057 | -3.364638 | 40.48268 | 17549.383204 |  1.766786 |\n",
       "\n"
      ],
      "text/plain": [
       "  CMUN dist nsec t3_1     t1_1  t2_1      t2_2      t4_1      t4_2     \n",
       "1 001  01    1         NA    55        NA        NA        NA        NA\n",
       "2 002  01    2   39.40747  4793 0.4777851 0.5222149 0.1696289 0.7218958\n",
       "3 003  01    1   47.45970   248 0.3952000 0.6048000 0.1371000 0.6573000\n",
       "4 004  01    4   41.46662  9946 0.5015109 0.4984891 0.1810684 0.6420633\n",
       "5 005  01   23   45.99877 31006 0.5298303 0.4701697 0.1141978 0.6427127\n",
       "  t4_3      ... t7_1       t8_1       t9_1      t10_1     t11_1     t12_1    \n",
       "1        NA ...         NA         NA        NA        NA        NA        NA\n",
       "2 0.1084753 ... 0.41318314 0.40995322 0.4407990 0.1071522 0.6008132 0.6730932\n",
       "3 0.2056000 ... 0.15420000 0.14490000 0.5280000 0.0932000 0.5000000 0.5514000\n",
       "4 0.1768466 ... 0.15732451 0.15046840 0.2942034 0.1667587 0.4777910 0.5729139\n",
       "5 0.2430747 ... 0.07438075 0.06545227 0.3850913 0.1412913 0.4565679 0.5316057\n",
       "  X         Y        densidad_hab_km area_km2 \n",
       "1 -3.635710 41.09315     2.514002    21.877471\n",
       "2 -3.480171 40.52396   242.602224    19.756620\n",
       "3 -3.849961 40.92033     9.647117    25.707163\n",
       "4 -3.989259 40.23240   451.618447    22.023015\n",
       "5 -3.364638 40.48268 17549.383204     1.766786"
      ]
     },
     "metadata": {},
     "output_type": "display_data"
    }
   ],
   "source": [
    "data_02 |> slice_head(n = 5)"
   ]
  },
  {
   "cell_type": "markdown",
   "metadata": {
    "slideshow": {
     "slide_type": "slide"
    }
   },
   "source": [
    "## ETL Processes"
   ]
  },
  {
   "attachments": {},
   "cell_type": "markdown",
   "metadata": {
    "slideshow": {
     "slide_type": "slide"
    }
   },
   "source": [
    "### Import data from: CSV, Excel, Tab, JSON, SQL, and Parquet files\n",
    "\n",
    "Se han importado en el apartado Data Load anterior:\n",
    "\n",
    "* Datos de POIs de hostelería, comercio y turismo"
   ]
  },
  {
   "attachments": {},
   "cell_type": "markdown",
   "metadata": {},
   "source": [
    "Incluir apartados si procede para: Extracción de datos (select, filter), Transformación de datos, (mutate, joins, ...). Si es necesario tratar datos perdidos, indicarlo también en NB 09.2"
   ]
  },
  {
   "attachments": {},
   "cell_type": "markdown",
   "metadata": {},
   "source": [
    "Si no aplica: Estos datos no requieren tareas de este tipo."
   ]
  },
  {
   "attachments": {},
   "cell_type": "markdown",
   "metadata": {},
   "source": [
    "#### Data transformation\n",
    "\n",
    "* Calcular indicadores del INE por municipios\n"
   ]
  },
  {
   "cell_type": "code",
   "execution_count": 14,
   "metadata": {
    "vscode": {
     "languageId": "r"
    }
   },
   "outputs": [],
   "source": [
    "tdata_02 <- data_02 |> \n",
    "  mutate(across(c(t2_1:t2_2, t4_1:t12_1), ~ .x*t1_1)) |> \n",
    "  group_by(CMUN) |> \n",
    "  summarise(t3_1 = weighted.mean(x = t3_1, w = t1_1, na.rm = TRUE),\n",
    "            t1_1 = sum(t1_1),\n",
    "            across(c(t2_1:t2_2, t4_1:t12_1), ~sum(.x, na.rm = TRUE)/sum(t1_1, na.rm = TRUE)),\n",
    "            .groups = \"keep\")"
   ]
  },
  {
   "cell_type": "code",
   "execution_count": 15,
   "metadata": {
    "vscode": {
     "languageId": "r"
    }
   },
   "outputs": [
    {
     "name": "stdout",
     "output_type": "stream",
     "text": [
      "Rows: 179\n",
      "Columns: 16\n",
      "Groups: CMUN [179]\n",
      "$ CMUN  \u001b[3m\u001b[90m<chr>\u001b[39m\u001b[23m \"001\", \"002\", \"003\", \"004\", \"005\", \"006\", \"007\", \"008\", \"009\", \"…\n",
      "$ t3_1  \u001b[3m\u001b[90m<dbl>\u001b[39m\u001b[23m NaN, 39.40747, 47.45970, 41.46662, 42.62488, 40.89541, 43.98716,…\n",
      "$ t1_1  \u001b[3m\u001b[90m<dbl>\u001b[39m\u001b[23m 55, 4793, 248, 9946, 195570, 116895, 171575, 3078, 20704, 15178,…\n",
      "$ t2_1  \u001b[3m\u001b[90m<dbl>\u001b[39m\u001b[23m 0.0000000, 0.4777851, 0.3952000, 0.5015109, 0.5145997, 0.5220080…\n",
      "$ t2_2  \u001b[3m\u001b[90m<dbl>\u001b[39m\u001b[23m 0.0000000, 0.5222149, 0.6048000, 0.4984891, 0.4854003, 0.4779920…\n",
      "$ t4_1  \u001b[3m\u001b[90m<dbl>\u001b[39m\u001b[23m 0.0000000, 0.1696289, 0.1371000, 0.1810684, 0.1522553, 0.1733979…\n",
      "$ t4_2  \u001b[3m\u001b[90m<dbl>\u001b[39m\u001b[23m 0.0000000, 0.7218958, 0.6573000, 0.6420633, 0.6621785, 0.6579805…\n",
      "$ t4_3  \u001b[3m\u001b[90m<dbl>\u001b[39m\u001b[23m 0.00000000, 0.10847530, 0.20560000, 0.17684664, 0.18556448, 0.16…\n",
      "$ t5_1  \u001b[3m\u001b[90m<dbl>\u001b[39m\u001b[23m 0.00000000, 0.15562992, 0.11290000, 0.15474242, 0.15881821, 0.14…\n",
      "$ t6_1  \u001b[3m\u001b[90m<dbl>\u001b[39m\u001b[23m 0.0000000, 0.1959363, 0.1411000, 0.1912543, 0.1905063, 0.2271027…\n",
      "$ t7_1  \u001b[3m\u001b[90m<dbl>\u001b[39m\u001b[23m 0.00000000, 0.41318314, 0.15420000, 0.15732451, 0.06873490, 0.06…\n",
      "$ t8_1  \u001b[3m\u001b[90m<dbl>\u001b[39m\u001b[23m 0.00000000, 0.40995322, 0.14490000, 0.15046840, 0.05804835, 0.05…\n",
      "$ t9_1  \u001b[3m\u001b[90m<dbl>\u001b[39m\u001b[23m 0.0000000, 0.4407990, 0.5280000, 0.2942034, 0.3385710, 0.4468360…\n",
      "$ t10_1 \u001b[3m\u001b[90m<dbl>\u001b[39m\u001b[23m 0.00000000, 0.10715222, 0.09320000, 0.16675872, 0.15005627, 0.10…\n",
      "$ t11_1 \u001b[3m\u001b[90m<dbl>\u001b[39m\u001b[23m 0.0000000, 0.6008132, 0.5000000, 0.4777910, 0.4955043, 0.5243721…\n",
      "$ t12_1 \u001b[3m\u001b[90m<dbl>\u001b[39m\u001b[23m 0.0000000, 0.6730932, 0.5514000, 0.5729139, 0.5799657, 0.5837953…\n"
     ]
    }
   ],
   "source": [
    "tdata_02 |> glimpse()"
   ]
  },
  {
   "cell_type": "code",
   "execution_count": 16,
   "metadata": {
    "vscode": {
     "languageId": "r"
    }
   },
   "outputs": [
    {
     "data": {
      "text/html": [
       "<table class=\"dataframe\">\n",
       "<caption>A grouped_df: 179 x 16</caption>\n",
       "<thead>\n",
       "\t<tr><th scope=col>CMUN</th><th scope=col>t3_1</th><th scope=col>t1_1</th><th scope=col>t2_1</th><th scope=col>t2_2</th><th scope=col>t4_1</th><th scope=col>t4_2</th><th scope=col>t4_3</th><th scope=col>t5_1</th><th scope=col>t6_1</th><th scope=col>t7_1</th><th scope=col>t8_1</th><th scope=col>t9_1</th><th scope=col>t10_1</th><th scope=col>t11_1</th><th scope=col>t12_1</th></tr>\n",
       "\t<tr><th scope=col>&lt;chr&gt;</th><th scope=col>&lt;dbl&gt;</th><th scope=col>&lt;dbl&gt;</th><th scope=col>&lt;dbl&gt;</th><th scope=col>&lt;dbl&gt;</th><th scope=col>&lt;dbl&gt;</th><th scope=col>&lt;dbl&gt;</th><th scope=col>&lt;dbl&gt;</th><th scope=col>&lt;dbl&gt;</th><th scope=col>&lt;dbl&gt;</th><th scope=col>&lt;dbl&gt;</th><th scope=col>&lt;dbl&gt;</th><th scope=col>&lt;dbl&gt;</th><th scope=col>&lt;dbl&gt;</th><th scope=col>&lt;dbl&gt;</th><th scope=col>&lt;dbl&gt;</th></tr>\n",
       "</thead>\n",
       "<tbody>\n",
       "\t<tr><td>001</td><td>     NaN</td><td>    55</td><td>0.0000000</td><td>0.0000000</td><td>0.0000000</td><td>0.0000000</td><td>0.00000000</td><td>0.00000000</td><td>0.0000000</td><td>0.00000000</td><td>0.00000000</td><td>0.0000000</td><td>0.00000000</td><td>0.0000000</td><td>0.0000000</td></tr>\n",
       "\t<tr><td>002</td><td>39.40747</td><td>  4793</td><td>0.4777851</td><td>0.5222149</td><td>0.1696289</td><td>0.7218958</td><td>0.10847530</td><td>0.15562992</td><td>0.1959363</td><td>0.41318314</td><td>0.40995322</td><td>0.4407990</td><td>0.10715222</td><td>0.6008132</td><td>0.6730932</td></tr>\n",
       "\t<tr><td>003</td><td>47.45970</td><td>   248</td><td>0.3952000</td><td>0.6048000</td><td>0.1371000</td><td>0.6573000</td><td>0.20560000</td><td>0.11290000</td><td>0.1411000</td><td>0.15420000</td><td>0.14490000</td><td>0.5280000</td><td>0.09320000</td><td>0.5000000</td><td>0.5514000</td></tr>\n",
       "\t<tr><td>004</td><td>41.46662</td><td>  9946</td><td>0.5015109</td><td>0.4984891</td><td>0.1810684</td><td>0.6420633</td><td>0.17684664</td><td>0.15474242</td><td>0.1912543</td><td>0.15732451</td><td>0.15046840</td><td>0.2942034</td><td>0.16675872</td><td>0.4777910</td><td>0.5729139</td></tr>\n",
       "\t<tr><td>005</td><td>42.62488</td><td>195570</td><td>0.5145997</td><td>0.4854003</td><td>0.1522553</td><td>0.6621785</td><td>0.18556448</td><td>0.15881821</td><td>0.1905063</td><td>0.06873490</td><td>0.05804835</td><td>0.3385710</td><td>0.15005627</td><td>0.4955043</td><td>0.5799657</td></tr>\n",
       "\t<tr><td>006</td><td>40.89541</td><td>116895</td><td>0.5220080</td><td>0.4779920</td><td>0.1733979</td><td>0.6579805</td><td>0.16861498</td><td>0.14532846</td><td>0.2271027</td><td>0.06842997</td><td>0.05762466</td><td>0.4468360</td><td>0.10299495</td><td>0.5243721</td><td>0.5837953</td></tr>\n",
       "\t<tr><td>007</td><td>43.98716</td><td>171575</td><td>0.5197152</td><td>0.4802848</td><td>0.1534518</td><td>0.6221151</td><td>0.22443538</td><td>0.10576175</td><td>0.1579031</td><td>0.05592808</td><td>0.04298878</td><td>0.3815176</td><td>0.13025910</td><td>0.4980104</td><td>0.5693722</td></tr>\n",
       "\t<tr><td>008</td><td>42.32070</td><td>  3078</td><td>0.4899000</td><td>0.5101000</td><td>0.1780000</td><td>0.6313000</td><td>0.19070000</td><td>0.16280000</td><td>0.1878000</td><td>0.03440000</td><td>0.02450000</td><td>0.2245000</td><td>0.20280000</td><td>0.4490000</td><td>0.5632000</td></tr>\n",
       "\t<tr><td>009</td><td>39.85821</td><td> 20704</td><td>0.5094248</td><td>0.4905752</td><td>0.1771307</td><td>0.6895597</td><td>0.13330534</td><td>0.11217029</td><td>0.1725385</td><td>0.07715483</td><td>0.06054939</td><td>0.4045589</td><td>0.10367784</td><td>0.5341627</td><td>0.5973146</td></tr>\n",
       "\t<tr><td>010</td><td>40.57497</td><td> 15178</td><td>0.5095979</td><td>0.4904021</td><td>0.1794548</td><td>0.6811853</td><td>0.13935584</td><td>0.09019803</td><td>0.1359170</td><td>0.07535911</td><td>0.05609451</td><td>0.5401627</td><td>0.10915472</td><td>0.5449263</td><td>0.6118954</td></tr>\n",
       "\t<tr><td>011</td><td>45.52490</td><td>   663</td><td>0.4992000</td><td>0.5008000</td><td>0.1357000</td><td>0.6561000</td><td>0.20810000</td><td>0.18700000</td><td>0.2021000</td><td>0.01570000</td><td>0.01220000</td><td>0.2321000</td><td>0.24840000</td><td>0.4171000</td><td>0.5550000</td></tr>\n",
       "\t<tr><td>012</td><td>39.29520</td><td>  1365</td><td>0.4842000</td><td>0.5158000</td><td>0.1978000</td><td>0.6696000</td><td>0.13260000</td><td>0.09890000</td><td>0.1136000</td><td>0.05570000</td><td>0.04660000</td><td>0.2922000</td><td>0.15450000</td><td>0.5397000</td><td>0.6384000</td></tr>\n",
       "\t<tr><td>013</td><td>41.10474</td><td> 60156</td><td>0.5124696</td><td>0.4875304</td><td>0.1778163</td><td>0.6541860</td><td>0.16800147</td><td>0.13760129</td><td>0.1757019</td><td>0.05792298</td><td>0.04424817</td><td>0.3597347</td><td>0.15958173</td><td>0.4850179</td><td>0.5749832</td></tr>\n",
       "\t<tr><td>014</td><td>38.91674</td><td> 56315</td><td>0.5001971</td><td>0.4998029</td><td>0.1917218</td><td>0.6824303</td><td>0.12584480</td><td>0.21791139</td><td>0.2324647</td><td>0.04511229</td><td>0.03277233</td><td>0.2757077</td><td>0.16285282</td><td>0.5498173</td><td>0.6541104</td></tr>\n",
       "\t<tr><td>015</td><td>33.82565</td><td> 33757</td><td>0.5017270</td><td>0.4982730</td><td>0.2666313</td><td>0.6700695</td><td>0.06326855</td><td>0.06608401</td><td>0.1107042</td><td>0.06464216</td><td>0.04943018</td><td>0.4523822</td><td>0.09520449</td><td>0.6695271</td><td>0.7373458</td></tr>\n",
       "\t<tr><td>016</td><td>47.65140</td><td>   109</td><td>0.4404000</td><td>0.5596000</td><td>0.0917000</td><td>0.7064000</td><td>0.20180000</td><td>0.08260000</td><td>0.0734000</td><td>0.05050000</td><td>0.03030000</td><td>0.3434000</td><td>0.21430000</td><td>0.4444000</td><td>0.5657000</td></tr>\n",
       "\t<tr><td>017</td><td>41.85640</td><td>  1818</td><td>0.4934000</td><td>0.5066000</td><td>0.1529000</td><td>0.6947000</td><td>0.15240000</td><td>0.08640000</td><td>0.1221000</td><td>0.06170000</td><td>0.04350000</td><td>0.3877000</td><td>0.10650000</td><td>0.5500000</td><td>0.6156000</td></tr>\n",
       "\t<tr><td>018</td><td>41.98571</td><td>  6096</td><td>0.5014386</td><td>0.4985614</td><td>0.1651801</td><td>0.6741785</td><td>0.16059178</td><td>0.11528784</td><td>0.1443643</td><td>0.05865856</td><td>0.04649651</td><td>0.4199914</td><td>0.12228081</td><td>0.5169771</td><td>0.5887648</td></tr>\n",
       "\t<tr><td>019</td><td>42.17040</td><td>  1749</td><td>0.4837000</td><td>0.5163000</td><td>0.1618000</td><td>0.6650000</td><td>0.17320000</td><td>0.09830000</td><td>0.1155000</td><td>0.03410000</td><td>0.02250000</td><td>0.2094000</td><td>0.14470000</td><td>0.5321000</td><td>0.6221000</td></tr>\n",
       "\t<tr><td>020</td><td>49.36620</td><td>   213</td><td>0.4225000</td><td>0.5775000</td><td>0.1127000</td><td>0.6056000</td><td>0.28170000</td><td>0.07980000</td><td>0.1080000</td><td>0.05290000</td><td>0.05290000</td><td>0.2963000</td><td>0.13330000</td><td>0.3439000</td><td>0.3968000</td></tr>\n",
       "\t<tr><td>021</td><td>45.07410</td><td>   810</td><td>0.4877000</td><td>0.5123000</td><td>0.1704000</td><td>0.5951000</td><td>0.23460000</td><td>0.10860000</td><td>0.1420000</td><td>0.03870000</td><td>0.02680000</td><td>0.3452000</td><td>0.11140000</td><td>0.4866000</td><td>0.5476000</td></tr>\n",
       "\t<tr><td>022</td><td>37.44676</td><td> 59000</td><td>0.5114951</td><td>0.4885049</td><td>0.2280971</td><td>0.6606521</td><td>0.11123665</td><td>0.07787534</td><td>0.1331063</td><td>0.09425565</td><td>0.08371367</td><td>0.6247956</td><td>0.06574559</td><td>0.5897892</td><td>0.6309332</td></tr>\n",
       "\t<tr><td>023</td><td>39.36300</td><td>  8006</td><td>0.4969797</td><td>0.5030203</td><td>0.2083559</td><td>0.6696437</td><td>0.12205784</td><td>0.09916599</td><td>0.1336542</td><td>0.05414670</td><td>0.04153952</td><td>0.4640783</td><td>0.11376995</td><td>0.5774596</td><td>0.6516385</td></tr>\n",
       "\t<tr><td>024</td><td>44.58720</td><td>   218</td><td>0.3945000</td><td>0.6055000</td><td>0.0917000</td><td>0.7202000</td><td>0.18810000</td><td>0.08720000</td><td>0.1055000</td><td>0.09090000</td><td>0.07070000</td><td>0.3586000</td><td>0.07870000</td><td>0.5909000</td><td>0.6414000</td></tr>\n",
       "\t<tr><td>025</td><td>48.10590</td><td>   529</td><td>0.4178000</td><td>0.5822000</td><td>0.0888000</td><td>0.6144000</td><td>0.29680000</td><td>0.12290000</td><td>0.1456000</td><td>0.01660000</td><td>0.01450000</td><td>0.1639000</td><td>0.24050000</td><td>0.3734000</td><td>0.4917000</td></tr>\n",
       "\t<tr><td>026</td><td>39.35909</td><td> 10699</td><td>0.5074452</td><td>0.4925548</td><td>0.1829349</td><td>0.6909112</td><td>0.12618557</td><td>0.19162050</td><td>0.2251622</td><td>0.06476576</td><td>0.04858597</td><td>0.3871028</td><td>0.11737789</td><td>0.5409448</td><td>0.6127925</td></tr>\n",
       "\t<tr><td>027</td><td>42.50080</td><td>  1943</td><td>0.5229000</td><td>0.4771000</td><td>0.1714000</td><td>0.6366000</td><td>0.19200000</td><td>0.23570000</td><td>0.2532000</td><td>0.05470000</td><td>0.03290000</td><td>0.2981000</td><td>0.13060000</td><td>0.4963000</td><td>0.5708000</td></tr>\n",
       "\t<tr><td>028</td><td>42.46490</td><td>  2706</td><td>0.4948000</td><td>0.5052000</td><td>0.1693000</td><td>0.6763000</td><td>0.15450000</td><td>0.09130000</td><td>0.1386000</td><td>0.04760000</td><td>0.03250000</td><td>0.4195000</td><td>0.13560000</td><td>0.5387000</td><td>0.6232000</td></tr>\n",
       "\t<tr><td>029</td><td>42.15580</td><td>   841</td><td>0.4839000</td><td>0.5161000</td><td>0.1653000</td><td>0.6825000</td><td>0.15220000</td><td>0.08090000</td><td>0.1213000</td><td>0.05410000</td><td>0.03420000</td><td>0.4231000</td><td>0.11630000</td><td>0.5627000</td><td>0.6368000</td></tr>\n",
       "\t<tr><td>030</td><td>42.66860</td><td>  2776</td><td>0.5112000</td><td>0.4888000</td><td>0.1520000</td><td>0.6726000</td><td>0.17540000</td><td>0.17110000</td><td>0.1920000</td><td>0.05480000</td><td>0.03570000</td><td>0.3280000</td><td>0.14450000</td><td>0.5030000</td><td>0.5879000</td></tr>\n",
       "\t<tr><td>...</td><td>...</td><td>...</td><td>...</td><td>...</td><td>...</td><td>...</td><td>...</td><td>...</td><td>...</td><td>...</td><td>...</td><td>...</td><td>...</td><td>...</td><td>...</td></tr>\n",
       "\t<tr><td>157</td><td>42.54150</td><td> 1023</td><td>0.4976000</td><td>0.5024000</td><td>0.1623000</td><td>0.6500000</td><td>0.18770000</td><td>0.13200000</td><td>0.1584000</td><td>0.04320000</td><td>0.02920000</td><td>0.2217000</td><td>0.14060000</td><td>0.4994000</td><td>0.5811000</td></tr>\n",
       "\t<tr><td>158</td><td>43.83660</td><td> 1022</td><td>0.4824000</td><td>0.5176000</td><td>0.1624000</td><td>0.6331000</td><td>0.20450000</td><td>0.11250000</td><td>0.1399000</td><td>0.03500000</td><td>0.01870000</td><td>0.3575000</td><td>0.13930000</td><td>0.4836000</td><td>0.5619000</td></tr>\n",
       "\t<tr><td>159</td><td>44.92680</td><td>  792</td><td>0.4836000</td><td>0.5164000</td><td>0.1616000</td><td>0.6174000</td><td>0.22100000</td><td>0.07200000</td><td>0.0934000</td><td>0.02110000</td><td>0.01660000</td><td>0.2485000</td><td>0.19780000</td><td>0.4398000</td><td>0.5482000</td></tr>\n",
       "\t<tr><td>160</td><td>40.63154</td><td>13254</td><td>0.4943692</td><td>0.5056308</td><td>0.1799224</td><td>0.6784545</td><td>0.14159840</td><td>0.12727967</td><td>0.1777543</td><td>0.06263813</td><td>0.04576922</td><td>0.4463716</td><td>0.12289061</td><td>0.5333881</td><td>0.6078883</td></tr>\n",
       "\t<tr><td>161</td><td>37.54293</td><td>77931</td><td>0.5078077</td><td>0.4921923</td><td>0.2101806</td><td>0.6897520</td><td>0.10007736</td><td>0.10101058</td><td>0.1584359</td><td>0.05979328</td><td>0.04299703</td><td>0.3458258</td><td>0.12419747</td><td>0.5933741</td><td>0.6753342</td></tr>\n",
       "\t<tr><td>162</td><td>37.51653</td><td> 4306</td><td>0.4854155</td><td>0.5145845</td><td>0.2199235</td><td>0.6667516</td><td>0.11332494</td><td>0.10385279</td><td>0.1635147</td><td>0.05770592</td><td>0.04234563</td><td>0.4446092</td><td>0.08974043</td><td>0.5952587</td><td>0.6544255</td></tr>\n",
       "\t<tr><td>163</td><td>41.91280</td><td>  619</td><td>0.4830000</td><td>0.5170000</td><td>0.1535000</td><td>0.6947000</td><td>0.15190000</td><td>0.10340000</td><td>0.1260000</td><td>0.05530000</td><td>0.03050000</td><td>0.3569000</td><td>0.10570000</td><td>0.5649000</td><td>0.6317000</td></tr>\n",
       "\t<tr><td>164</td><td>41.55260</td><td> 4705</td><td>0.5001097</td><td>0.4998903</td><td>0.1700330</td><td>0.6675695</td><td>0.16239753</td><td>0.12304531</td><td>0.1485348</td><td>0.04596959</td><td>0.03132861</td><td>0.2984182</td><td>0.14418491</td><td>0.5202830</td><td>0.6083401</td></tr>\n",
       "\t<tr><td>165</td><td>40.16640</td><td> 3065</td><td>0.4861000</td><td>0.5139000</td><td>0.1762000</td><td>0.6799000</td><td>0.14390000</td><td>0.20820000</td><td>0.2196000</td><td>0.03050000</td><td>0.02060000</td><td>0.2048000</td><td>0.16750000</td><td>0.5176000</td><td>0.6218000</td></tr>\n",
       "\t<tr><td>166</td><td>43.30490</td><td>  515</td><td>0.4660000</td><td>0.5340000</td><td>0.1301000</td><td>0.6990000</td><td>0.17090000</td><td>0.15150000</td><td>0.1728000</td><td>0.04240000</td><td>0.02460000</td><td>0.2076000</td><td>0.09200000</td><td>0.5290000</td><td>0.5826000</td></tr>\n",
       "\t<tr><td>167</td><td>38.13674</td><td>12542</td><td>0.4979184</td><td>0.5020816</td><td>0.1831998</td><td>0.7227704</td><td>0.09401216</td><td>0.09847162</td><td>0.1263650</td><td>0.05854097</td><td>0.03812773</td><td>0.2998506</td><td>0.12308045</td><td>0.5932604</td><td>0.6765171</td></tr>\n",
       "\t<tr><td>168</td><td>41.30110</td><td> 2086</td><td>0.4779000</td><td>0.5221000</td><td>0.1663000</td><td>0.6702000</td><td>0.16350000</td><td>0.19180000</td><td>0.2416000</td><td>0.04200000</td><td>0.02820000</td><td>0.3491000</td><td>0.15250000</td><td>0.5175000</td><td>0.6107000</td></tr>\n",
       "\t<tr><td>169</td><td>41.06150</td><td> 2392</td><td>0.4812000</td><td>0.5188000</td><td>0.1660000</td><td>0.7007000</td><td>0.13340000</td><td>0.09240000</td><td>0.1434000</td><td>0.07570000</td><td>0.05810000</td><td>0.5619000</td><td>0.10540000</td><td>0.5574000</td><td>0.6231000</td></tr>\n",
       "\t<tr><td>170</td><td>42.30861</td><td> 3438</td><td>0.4892354</td><td>0.5107646</td><td>0.1576937</td><td>0.6570668</td><td>0.18528162</td><td>0.10703863</td><td>0.1244735</td><td>0.03033511</td><td>0.01927752</td><td>0.1443538</td><td>0.18415035</td><td>0.4679814</td><td>0.5738156</td></tr>\n",
       "\t<tr><td>171</td><td>41.33609</td><td> 6775</td><td>0.4900346</td><td>0.5099654</td><td>0.1734372</td><td>0.6546015</td><td>0.17193725</td><td>0.19553619</td><td>0.2168211</td><td>0.03965013</td><td>0.02648822</td><td>0.1980369</td><td>0.14964415</td><td>0.4844587</td><td>0.5698173</td></tr>\n",
       "\t<tr><td>172</td><td>36.80356</td><td>15046</td><td>0.4947329</td><td>0.5052671</td><td>0.2179169</td><td>0.6832198</td><td>0.09883311</td><td>0.06930549</td><td>0.1065832</td><td>0.05919363</td><td>0.04625949</td><td>0.4488054</td><td>0.09407471</td><td>0.6353801</td><td>0.7002156</td></tr>\n",
       "\t<tr><td>173</td><td>44.78390</td><td>  768</td><td>0.4818000</td><td>0.5182000</td><td>0.1328000</td><td>0.6549000</td><td>0.21220000</td><td>0.13540000</td><td>0.1471000</td><td>0.01800000</td><td>0.01200000</td><td>0.1802000</td><td>0.15920000</td><td>0.4760000</td><td>0.5661000</td></tr>\n",
       "\t<tr><td>174</td><td>43.23110</td><td> 2648</td><td>0.4943000</td><td>0.5057000</td><td>0.1605000</td><td>0.6420000</td><td>0.19750000</td><td>0.14430000</td><td>0.1601000</td><td>0.03960000</td><td>0.02790000</td><td>0.2285000</td><td>0.15960000</td><td>0.4737000</td><td>0.5637000</td></tr>\n",
       "\t<tr><td>175</td><td>38.82900</td><td> 1515</td><td>0.5083000</td><td>0.4917000</td><td>0.2158000</td><td>0.6627000</td><td>0.12150000</td><td>0.15250000</td><td>0.1855000</td><td>0.04210000</td><td>0.03110000</td><td>0.3779000</td><td>0.14830000</td><td>0.5657000</td><td>0.6641000</td></tr>\n",
       "\t<tr><td>176</td><td>37.91979</td><td>22453</td><td>0.5120099</td><td>0.4879901</td><td>0.1941522</td><td>0.6916640</td><td>0.11419262</td><td>0.16061388</td><td>0.2326980</td><td>0.09492445</td><td>0.08103544</td><td>0.5397404</td><td>0.08741585</td><td>0.5256221</td><td>0.5758471</td></tr>\n",
       "\t<tr><td>177</td><td>36.41800</td><td>17266</td><td>0.5145328</td><td>0.4854672</td><td>0.2345295</td><td>0.6793058</td><td>0.08618254</td><td>0.11421018</td><td>0.1766369</td><td>0.07977169</td><td>0.06536005</td><td>0.4977333</td><td>0.09143582</td><td>0.5996081</td><td>0.6599077</td></tr>\n",
       "\t<tr><td>178</td><td>40.11320</td><td> 1608</td><td>0.4838000</td><td>0.5162000</td><td>0.1766000</td><td>0.6903000</td><td>0.13310000</td><td>0.09640000</td><td>0.1256000</td><td>0.05210000</td><td>0.03100000</td><td>0.3097000</td><td>0.15030000</td><td>0.5506000</td><td>0.6480000</td></tr>\n",
       "\t<tr><td>179</td><td>41.31300</td><td> 2192</td><td>0.5014000</td><td>0.4986000</td><td>0.1592000</td><td>0.7067000</td><td>0.13410000</td><td>0.14230000</td><td>0.1565000</td><td>0.05210000</td><td>0.03580000</td><td>0.3521000</td><td>0.15360000</td><td>0.5144000</td><td>0.6077000</td></tr>\n",
       "\t<tr><td>180</td><td>41.20369</td><td> 7546</td><td>0.5014574</td><td>0.4985426</td><td>0.1742629</td><td>0.6616756</td><td>0.16403713</td><td>0.11117563</td><td>0.1187572</td><td>0.03909177</td><td>0.02410722</td><td>0.2115700</td><td>0.17088920</td><td>0.5077590</td><td>0.6117915</td></tr>\n",
       "\t<tr><td>181</td><td>42.67386</td><td>28016</td><td>0.5162773</td><td>0.4837227</td><td>0.1527120</td><td>0.6493520</td><td>0.19795238</td><td>0.09566387</td><td>0.1391086</td><td>0.09605374</td><td>0.08572532</td><td>0.4929269</td><td>0.08842233</td><td>0.4893192</td><td>0.5363683</td></tr>\n",
       "\t<tr><td>182</td><td>46.75000</td><td>  280</td><td>0.4571000</td><td>0.5429000</td><td>0.1000000</td><td>0.7000000</td><td>0.20000000</td><td>0.07140000</td><td>0.0964000</td><td>0.05160000</td><td>0.04760000</td><td>0.3611000</td><td>0.12240000</td><td>0.5119000</td><td>0.5833000</td></tr>\n",
       "\t<tr><td>183</td><td>42.15420</td><td> 1771</td><td>0.4862000</td><td>0.5138000</td><td>0.1824000</td><td>0.6488000</td><td>0.16880000</td><td>0.14910000</td><td>0.1937000</td><td>0.05180000</td><td>0.03520000</td><td>0.3363000</td><td>0.19100000</td><td>0.4448000</td><td>0.5497000</td></tr>\n",
       "\t<tr><td>901</td><td>44.26060</td><td> 1412</td><td>0.4816000</td><td>0.5184000</td><td>0.1487000</td><td>0.6523000</td><td>0.19900000</td><td>0.20540000</td><td>0.2103000</td><td>0.03580000</td><td>0.02160000</td><td>0.2995000</td><td>0.19880000</td><td>0.4293000</td><td>0.5358000</td></tr>\n",
       "\t<tr><td>902</td><td>45.19830</td><td>  716</td><td>0.4483000</td><td>0.5517000</td><td>0.1494000</td><td>0.6453000</td><td>0.20530000</td><td>0.08940000</td><td>0.1103000</td><td>0.03780000</td><td>0.02460000</td><td>0.3711000</td><td>0.14210000</td><td>0.5452000</td><td>0.6355000</td></tr>\n",
       "\t<tr><td>903</td><td>39.94342</td><td>48726</td><td>0.5144877</td><td>0.4855123</td><td>0.1746257</td><td>0.6877769</td><td>0.13760393</td><td>0.07045555</td><td>0.1288219</td><td>0.08736570</td><td>0.07555967</td><td>0.6360119</td><td>0.07781167</td><td>0.5829719</td><td>0.6307085</td></tr>\n",
       "</tbody>\n",
       "</table>\n"
      ],
      "text/latex": [
       "A grouped\\_df: 179 x 16\n",
       "\\begin{tabular}{llllllllllllllll}\n",
       " CMUN & t3\\_1 & t1\\_1 & t2\\_1 & t2\\_2 & t4\\_1 & t4\\_2 & t4\\_3 & t5\\_1 & t6\\_1 & t7\\_1 & t8\\_1 & t9\\_1 & t10\\_1 & t11\\_1 & t12\\_1\\\\\n",
       " <chr> & <dbl> & <dbl> & <dbl> & <dbl> & <dbl> & <dbl> & <dbl> & <dbl> & <dbl> & <dbl> & <dbl> & <dbl> & <dbl> & <dbl> & <dbl>\\\\\n",
       "\\hline\n",
       "\t 001 &      NaN &     55 & 0.0000000 & 0.0000000 & 0.0000000 & 0.0000000 & 0.00000000 & 0.00000000 & 0.0000000 & 0.00000000 & 0.00000000 & 0.0000000 & 0.00000000 & 0.0000000 & 0.0000000\\\\\n",
       "\t 002 & 39.40747 &   4793 & 0.4777851 & 0.5222149 & 0.1696289 & 0.7218958 & 0.10847530 & 0.15562992 & 0.1959363 & 0.41318314 & 0.40995322 & 0.4407990 & 0.10715222 & 0.6008132 & 0.6730932\\\\\n",
       "\t 003 & 47.45970 &    248 & 0.3952000 & 0.6048000 & 0.1371000 & 0.6573000 & 0.20560000 & 0.11290000 & 0.1411000 & 0.15420000 & 0.14490000 & 0.5280000 & 0.09320000 & 0.5000000 & 0.5514000\\\\\n",
       "\t 004 & 41.46662 &   9946 & 0.5015109 & 0.4984891 & 0.1810684 & 0.6420633 & 0.17684664 & 0.15474242 & 0.1912543 & 0.15732451 & 0.15046840 & 0.2942034 & 0.16675872 & 0.4777910 & 0.5729139\\\\\n",
       "\t 005 & 42.62488 & 195570 & 0.5145997 & 0.4854003 & 0.1522553 & 0.6621785 & 0.18556448 & 0.15881821 & 0.1905063 & 0.06873490 & 0.05804835 & 0.3385710 & 0.15005627 & 0.4955043 & 0.5799657\\\\\n",
       "\t 006 & 40.89541 & 116895 & 0.5220080 & 0.4779920 & 0.1733979 & 0.6579805 & 0.16861498 & 0.14532846 & 0.2271027 & 0.06842997 & 0.05762466 & 0.4468360 & 0.10299495 & 0.5243721 & 0.5837953\\\\\n",
       "\t 007 & 43.98716 & 171575 & 0.5197152 & 0.4802848 & 0.1534518 & 0.6221151 & 0.22443538 & 0.10576175 & 0.1579031 & 0.05592808 & 0.04298878 & 0.3815176 & 0.13025910 & 0.4980104 & 0.5693722\\\\\n",
       "\t 008 & 42.32070 &   3078 & 0.4899000 & 0.5101000 & 0.1780000 & 0.6313000 & 0.19070000 & 0.16280000 & 0.1878000 & 0.03440000 & 0.02450000 & 0.2245000 & 0.20280000 & 0.4490000 & 0.5632000\\\\\n",
       "\t 009 & 39.85821 &  20704 & 0.5094248 & 0.4905752 & 0.1771307 & 0.6895597 & 0.13330534 & 0.11217029 & 0.1725385 & 0.07715483 & 0.06054939 & 0.4045589 & 0.10367784 & 0.5341627 & 0.5973146\\\\\n",
       "\t 010 & 40.57497 &  15178 & 0.5095979 & 0.4904021 & 0.1794548 & 0.6811853 & 0.13935584 & 0.09019803 & 0.1359170 & 0.07535911 & 0.05609451 & 0.5401627 & 0.10915472 & 0.5449263 & 0.6118954\\\\\n",
       "\t 011 & 45.52490 &    663 & 0.4992000 & 0.5008000 & 0.1357000 & 0.6561000 & 0.20810000 & 0.18700000 & 0.2021000 & 0.01570000 & 0.01220000 & 0.2321000 & 0.24840000 & 0.4171000 & 0.5550000\\\\\n",
       "\t 012 & 39.29520 &   1365 & 0.4842000 & 0.5158000 & 0.1978000 & 0.6696000 & 0.13260000 & 0.09890000 & 0.1136000 & 0.05570000 & 0.04660000 & 0.2922000 & 0.15450000 & 0.5397000 & 0.6384000\\\\\n",
       "\t 013 & 41.10474 &  60156 & 0.5124696 & 0.4875304 & 0.1778163 & 0.6541860 & 0.16800147 & 0.13760129 & 0.1757019 & 0.05792298 & 0.04424817 & 0.3597347 & 0.15958173 & 0.4850179 & 0.5749832\\\\\n",
       "\t 014 & 38.91674 &  56315 & 0.5001971 & 0.4998029 & 0.1917218 & 0.6824303 & 0.12584480 & 0.21791139 & 0.2324647 & 0.04511229 & 0.03277233 & 0.2757077 & 0.16285282 & 0.5498173 & 0.6541104\\\\\n",
       "\t 015 & 33.82565 &  33757 & 0.5017270 & 0.4982730 & 0.2666313 & 0.6700695 & 0.06326855 & 0.06608401 & 0.1107042 & 0.06464216 & 0.04943018 & 0.4523822 & 0.09520449 & 0.6695271 & 0.7373458\\\\\n",
       "\t 016 & 47.65140 &    109 & 0.4404000 & 0.5596000 & 0.0917000 & 0.7064000 & 0.20180000 & 0.08260000 & 0.0734000 & 0.05050000 & 0.03030000 & 0.3434000 & 0.21430000 & 0.4444000 & 0.5657000\\\\\n",
       "\t 017 & 41.85640 &   1818 & 0.4934000 & 0.5066000 & 0.1529000 & 0.6947000 & 0.15240000 & 0.08640000 & 0.1221000 & 0.06170000 & 0.04350000 & 0.3877000 & 0.10650000 & 0.5500000 & 0.6156000\\\\\n",
       "\t 018 & 41.98571 &   6096 & 0.5014386 & 0.4985614 & 0.1651801 & 0.6741785 & 0.16059178 & 0.11528784 & 0.1443643 & 0.05865856 & 0.04649651 & 0.4199914 & 0.12228081 & 0.5169771 & 0.5887648\\\\\n",
       "\t 019 & 42.17040 &   1749 & 0.4837000 & 0.5163000 & 0.1618000 & 0.6650000 & 0.17320000 & 0.09830000 & 0.1155000 & 0.03410000 & 0.02250000 & 0.2094000 & 0.14470000 & 0.5321000 & 0.6221000\\\\\n",
       "\t 020 & 49.36620 &    213 & 0.4225000 & 0.5775000 & 0.1127000 & 0.6056000 & 0.28170000 & 0.07980000 & 0.1080000 & 0.05290000 & 0.05290000 & 0.2963000 & 0.13330000 & 0.3439000 & 0.3968000\\\\\n",
       "\t 021 & 45.07410 &    810 & 0.4877000 & 0.5123000 & 0.1704000 & 0.5951000 & 0.23460000 & 0.10860000 & 0.1420000 & 0.03870000 & 0.02680000 & 0.3452000 & 0.11140000 & 0.4866000 & 0.5476000\\\\\n",
       "\t 022 & 37.44676 &  59000 & 0.5114951 & 0.4885049 & 0.2280971 & 0.6606521 & 0.11123665 & 0.07787534 & 0.1331063 & 0.09425565 & 0.08371367 & 0.6247956 & 0.06574559 & 0.5897892 & 0.6309332\\\\\n",
       "\t 023 & 39.36300 &   8006 & 0.4969797 & 0.5030203 & 0.2083559 & 0.6696437 & 0.12205784 & 0.09916599 & 0.1336542 & 0.05414670 & 0.04153952 & 0.4640783 & 0.11376995 & 0.5774596 & 0.6516385\\\\\n",
       "\t 024 & 44.58720 &    218 & 0.3945000 & 0.6055000 & 0.0917000 & 0.7202000 & 0.18810000 & 0.08720000 & 0.1055000 & 0.09090000 & 0.07070000 & 0.3586000 & 0.07870000 & 0.5909000 & 0.6414000\\\\\n",
       "\t 025 & 48.10590 &    529 & 0.4178000 & 0.5822000 & 0.0888000 & 0.6144000 & 0.29680000 & 0.12290000 & 0.1456000 & 0.01660000 & 0.01450000 & 0.1639000 & 0.24050000 & 0.3734000 & 0.4917000\\\\\n",
       "\t 026 & 39.35909 &  10699 & 0.5074452 & 0.4925548 & 0.1829349 & 0.6909112 & 0.12618557 & 0.19162050 & 0.2251622 & 0.06476576 & 0.04858597 & 0.3871028 & 0.11737789 & 0.5409448 & 0.6127925\\\\\n",
       "\t 027 & 42.50080 &   1943 & 0.5229000 & 0.4771000 & 0.1714000 & 0.6366000 & 0.19200000 & 0.23570000 & 0.2532000 & 0.05470000 & 0.03290000 & 0.2981000 & 0.13060000 & 0.4963000 & 0.5708000\\\\\n",
       "\t 028 & 42.46490 &   2706 & 0.4948000 & 0.5052000 & 0.1693000 & 0.6763000 & 0.15450000 & 0.09130000 & 0.1386000 & 0.04760000 & 0.03250000 & 0.4195000 & 0.13560000 & 0.5387000 & 0.6232000\\\\\n",
       "\t 029 & 42.15580 &    841 & 0.4839000 & 0.5161000 & 0.1653000 & 0.6825000 & 0.15220000 & 0.08090000 & 0.1213000 & 0.05410000 & 0.03420000 & 0.4231000 & 0.11630000 & 0.5627000 & 0.6368000\\\\\n",
       "\t 030 & 42.66860 &   2776 & 0.5112000 & 0.4888000 & 0.1520000 & 0.6726000 & 0.17540000 & 0.17110000 & 0.1920000 & 0.05480000 & 0.03570000 & 0.3280000 & 0.14450000 & 0.5030000 & 0.5879000\\\\\n",
       "\t ... & ... & ... & ... & ... & ... & ... & ... & ... & ... & ... & ... & ... & ... & ... & ...\\\\\n",
       "\t 157 & 42.54150 &  1023 & 0.4976000 & 0.5024000 & 0.1623000 & 0.6500000 & 0.18770000 & 0.13200000 & 0.1584000 & 0.04320000 & 0.02920000 & 0.2217000 & 0.14060000 & 0.4994000 & 0.5811000\\\\\n",
       "\t 158 & 43.83660 &  1022 & 0.4824000 & 0.5176000 & 0.1624000 & 0.6331000 & 0.20450000 & 0.11250000 & 0.1399000 & 0.03500000 & 0.01870000 & 0.3575000 & 0.13930000 & 0.4836000 & 0.5619000\\\\\n",
       "\t 159 & 44.92680 &   792 & 0.4836000 & 0.5164000 & 0.1616000 & 0.6174000 & 0.22100000 & 0.07200000 & 0.0934000 & 0.02110000 & 0.01660000 & 0.2485000 & 0.19780000 & 0.4398000 & 0.5482000\\\\\n",
       "\t 160 & 40.63154 & 13254 & 0.4943692 & 0.5056308 & 0.1799224 & 0.6784545 & 0.14159840 & 0.12727967 & 0.1777543 & 0.06263813 & 0.04576922 & 0.4463716 & 0.12289061 & 0.5333881 & 0.6078883\\\\\n",
       "\t 161 & 37.54293 & 77931 & 0.5078077 & 0.4921923 & 0.2101806 & 0.6897520 & 0.10007736 & 0.10101058 & 0.1584359 & 0.05979328 & 0.04299703 & 0.3458258 & 0.12419747 & 0.5933741 & 0.6753342\\\\\n",
       "\t 162 & 37.51653 &  4306 & 0.4854155 & 0.5145845 & 0.2199235 & 0.6667516 & 0.11332494 & 0.10385279 & 0.1635147 & 0.05770592 & 0.04234563 & 0.4446092 & 0.08974043 & 0.5952587 & 0.6544255\\\\\n",
       "\t 163 & 41.91280 &   619 & 0.4830000 & 0.5170000 & 0.1535000 & 0.6947000 & 0.15190000 & 0.10340000 & 0.1260000 & 0.05530000 & 0.03050000 & 0.3569000 & 0.10570000 & 0.5649000 & 0.6317000\\\\\n",
       "\t 164 & 41.55260 &  4705 & 0.5001097 & 0.4998903 & 0.1700330 & 0.6675695 & 0.16239753 & 0.12304531 & 0.1485348 & 0.04596959 & 0.03132861 & 0.2984182 & 0.14418491 & 0.5202830 & 0.6083401\\\\\n",
       "\t 165 & 40.16640 &  3065 & 0.4861000 & 0.5139000 & 0.1762000 & 0.6799000 & 0.14390000 & 0.20820000 & 0.2196000 & 0.03050000 & 0.02060000 & 0.2048000 & 0.16750000 & 0.5176000 & 0.6218000\\\\\n",
       "\t 166 & 43.30490 &   515 & 0.4660000 & 0.5340000 & 0.1301000 & 0.6990000 & 0.17090000 & 0.15150000 & 0.1728000 & 0.04240000 & 0.02460000 & 0.2076000 & 0.09200000 & 0.5290000 & 0.5826000\\\\\n",
       "\t 167 & 38.13674 & 12542 & 0.4979184 & 0.5020816 & 0.1831998 & 0.7227704 & 0.09401216 & 0.09847162 & 0.1263650 & 0.05854097 & 0.03812773 & 0.2998506 & 0.12308045 & 0.5932604 & 0.6765171\\\\\n",
       "\t 168 & 41.30110 &  2086 & 0.4779000 & 0.5221000 & 0.1663000 & 0.6702000 & 0.16350000 & 0.19180000 & 0.2416000 & 0.04200000 & 0.02820000 & 0.3491000 & 0.15250000 & 0.5175000 & 0.6107000\\\\\n",
       "\t 169 & 41.06150 &  2392 & 0.4812000 & 0.5188000 & 0.1660000 & 0.7007000 & 0.13340000 & 0.09240000 & 0.1434000 & 0.07570000 & 0.05810000 & 0.5619000 & 0.10540000 & 0.5574000 & 0.6231000\\\\\n",
       "\t 170 & 42.30861 &  3438 & 0.4892354 & 0.5107646 & 0.1576937 & 0.6570668 & 0.18528162 & 0.10703863 & 0.1244735 & 0.03033511 & 0.01927752 & 0.1443538 & 0.18415035 & 0.4679814 & 0.5738156\\\\\n",
       "\t 171 & 41.33609 &  6775 & 0.4900346 & 0.5099654 & 0.1734372 & 0.6546015 & 0.17193725 & 0.19553619 & 0.2168211 & 0.03965013 & 0.02648822 & 0.1980369 & 0.14964415 & 0.4844587 & 0.5698173\\\\\n",
       "\t 172 & 36.80356 & 15046 & 0.4947329 & 0.5052671 & 0.2179169 & 0.6832198 & 0.09883311 & 0.06930549 & 0.1065832 & 0.05919363 & 0.04625949 & 0.4488054 & 0.09407471 & 0.6353801 & 0.7002156\\\\\n",
       "\t 173 & 44.78390 &   768 & 0.4818000 & 0.5182000 & 0.1328000 & 0.6549000 & 0.21220000 & 0.13540000 & 0.1471000 & 0.01800000 & 0.01200000 & 0.1802000 & 0.15920000 & 0.4760000 & 0.5661000\\\\\n",
       "\t 174 & 43.23110 &  2648 & 0.4943000 & 0.5057000 & 0.1605000 & 0.6420000 & 0.19750000 & 0.14430000 & 0.1601000 & 0.03960000 & 0.02790000 & 0.2285000 & 0.15960000 & 0.4737000 & 0.5637000\\\\\n",
       "\t 175 & 38.82900 &  1515 & 0.5083000 & 0.4917000 & 0.2158000 & 0.6627000 & 0.12150000 & 0.15250000 & 0.1855000 & 0.04210000 & 0.03110000 & 0.3779000 & 0.14830000 & 0.5657000 & 0.6641000\\\\\n",
       "\t 176 & 37.91979 & 22453 & 0.5120099 & 0.4879901 & 0.1941522 & 0.6916640 & 0.11419262 & 0.16061388 & 0.2326980 & 0.09492445 & 0.08103544 & 0.5397404 & 0.08741585 & 0.5256221 & 0.5758471\\\\\n",
       "\t 177 & 36.41800 & 17266 & 0.5145328 & 0.4854672 & 0.2345295 & 0.6793058 & 0.08618254 & 0.11421018 & 0.1766369 & 0.07977169 & 0.06536005 & 0.4977333 & 0.09143582 & 0.5996081 & 0.6599077\\\\\n",
       "\t 178 & 40.11320 &  1608 & 0.4838000 & 0.5162000 & 0.1766000 & 0.6903000 & 0.13310000 & 0.09640000 & 0.1256000 & 0.05210000 & 0.03100000 & 0.3097000 & 0.15030000 & 0.5506000 & 0.6480000\\\\\n",
       "\t 179 & 41.31300 &  2192 & 0.5014000 & 0.4986000 & 0.1592000 & 0.7067000 & 0.13410000 & 0.14230000 & 0.1565000 & 0.05210000 & 0.03580000 & 0.3521000 & 0.15360000 & 0.5144000 & 0.6077000\\\\\n",
       "\t 180 & 41.20369 &  7546 & 0.5014574 & 0.4985426 & 0.1742629 & 0.6616756 & 0.16403713 & 0.11117563 & 0.1187572 & 0.03909177 & 0.02410722 & 0.2115700 & 0.17088920 & 0.5077590 & 0.6117915\\\\\n",
       "\t 181 & 42.67386 & 28016 & 0.5162773 & 0.4837227 & 0.1527120 & 0.6493520 & 0.19795238 & 0.09566387 & 0.1391086 & 0.09605374 & 0.08572532 & 0.4929269 & 0.08842233 & 0.4893192 & 0.5363683\\\\\n",
       "\t 182 & 46.75000 &   280 & 0.4571000 & 0.5429000 & 0.1000000 & 0.7000000 & 0.20000000 & 0.07140000 & 0.0964000 & 0.05160000 & 0.04760000 & 0.3611000 & 0.12240000 & 0.5119000 & 0.5833000\\\\\n",
       "\t 183 & 42.15420 &  1771 & 0.4862000 & 0.5138000 & 0.1824000 & 0.6488000 & 0.16880000 & 0.14910000 & 0.1937000 & 0.05180000 & 0.03520000 & 0.3363000 & 0.19100000 & 0.4448000 & 0.5497000\\\\\n",
       "\t 901 & 44.26060 &  1412 & 0.4816000 & 0.5184000 & 0.1487000 & 0.6523000 & 0.19900000 & 0.20540000 & 0.2103000 & 0.03580000 & 0.02160000 & 0.2995000 & 0.19880000 & 0.4293000 & 0.5358000\\\\\n",
       "\t 902 & 45.19830 &   716 & 0.4483000 & 0.5517000 & 0.1494000 & 0.6453000 & 0.20530000 & 0.08940000 & 0.1103000 & 0.03780000 & 0.02460000 & 0.3711000 & 0.14210000 & 0.5452000 & 0.6355000\\\\\n",
       "\t 903 & 39.94342 & 48726 & 0.5144877 & 0.4855123 & 0.1746257 & 0.6877769 & 0.13760393 & 0.07045555 & 0.1288219 & 0.08736570 & 0.07555967 & 0.6360119 & 0.07781167 & 0.5829719 & 0.6307085\\\\\n",
       "\\end{tabular}\n"
      ],
      "text/markdown": [
       "\n",
       "A grouped_df: 179 x 16\n",
       "\n",
       "| CMUN &lt;chr&gt; | t3_1 &lt;dbl&gt; | t1_1 &lt;dbl&gt; | t2_1 &lt;dbl&gt; | t2_2 &lt;dbl&gt; | t4_1 &lt;dbl&gt; | t4_2 &lt;dbl&gt; | t4_3 &lt;dbl&gt; | t5_1 &lt;dbl&gt; | t6_1 &lt;dbl&gt; | t7_1 &lt;dbl&gt; | t8_1 &lt;dbl&gt; | t9_1 &lt;dbl&gt; | t10_1 &lt;dbl&gt; | t11_1 &lt;dbl&gt; | t12_1 &lt;dbl&gt; |\n",
       "|---|---|---|---|---|---|---|---|---|---|---|---|---|---|---|---|\n",
       "| 001 |      NaN |     55 | 0.0000000 | 0.0000000 | 0.0000000 | 0.0000000 | 0.00000000 | 0.00000000 | 0.0000000 | 0.00000000 | 0.00000000 | 0.0000000 | 0.00000000 | 0.0000000 | 0.0000000 |\n",
       "| 002 | 39.40747 |   4793 | 0.4777851 | 0.5222149 | 0.1696289 | 0.7218958 | 0.10847530 | 0.15562992 | 0.1959363 | 0.41318314 | 0.40995322 | 0.4407990 | 0.10715222 | 0.6008132 | 0.6730932 |\n",
       "| 003 | 47.45970 |    248 | 0.3952000 | 0.6048000 | 0.1371000 | 0.6573000 | 0.20560000 | 0.11290000 | 0.1411000 | 0.15420000 | 0.14490000 | 0.5280000 | 0.09320000 | 0.5000000 | 0.5514000 |\n",
       "| 004 | 41.46662 |   9946 | 0.5015109 | 0.4984891 | 0.1810684 | 0.6420633 | 0.17684664 | 0.15474242 | 0.1912543 | 0.15732451 | 0.15046840 | 0.2942034 | 0.16675872 | 0.4777910 | 0.5729139 |\n",
       "| 005 | 42.62488 | 195570 | 0.5145997 | 0.4854003 | 0.1522553 | 0.6621785 | 0.18556448 | 0.15881821 | 0.1905063 | 0.06873490 | 0.05804835 | 0.3385710 | 0.15005627 | 0.4955043 | 0.5799657 |\n",
       "| 006 | 40.89541 | 116895 | 0.5220080 | 0.4779920 | 0.1733979 | 0.6579805 | 0.16861498 | 0.14532846 | 0.2271027 | 0.06842997 | 0.05762466 | 0.4468360 | 0.10299495 | 0.5243721 | 0.5837953 |\n",
       "| 007 | 43.98716 | 171575 | 0.5197152 | 0.4802848 | 0.1534518 | 0.6221151 | 0.22443538 | 0.10576175 | 0.1579031 | 0.05592808 | 0.04298878 | 0.3815176 | 0.13025910 | 0.4980104 | 0.5693722 |\n",
       "| 008 | 42.32070 |   3078 | 0.4899000 | 0.5101000 | 0.1780000 | 0.6313000 | 0.19070000 | 0.16280000 | 0.1878000 | 0.03440000 | 0.02450000 | 0.2245000 | 0.20280000 | 0.4490000 | 0.5632000 |\n",
       "| 009 | 39.85821 |  20704 | 0.5094248 | 0.4905752 | 0.1771307 | 0.6895597 | 0.13330534 | 0.11217029 | 0.1725385 | 0.07715483 | 0.06054939 | 0.4045589 | 0.10367784 | 0.5341627 | 0.5973146 |\n",
       "| 010 | 40.57497 |  15178 | 0.5095979 | 0.4904021 | 0.1794548 | 0.6811853 | 0.13935584 | 0.09019803 | 0.1359170 | 0.07535911 | 0.05609451 | 0.5401627 | 0.10915472 | 0.5449263 | 0.6118954 |\n",
       "| 011 | 45.52490 |    663 | 0.4992000 | 0.5008000 | 0.1357000 | 0.6561000 | 0.20810000 | 0.18700000 | 0.2021000 | 0.01570000 | 0.01220000 | 0.2321000 | 0.24840000 | 0.4171000 | 0.5550000 |\n",
       "| 012 | 39.29520 |   1365 | 0.4842000 | 0.5158000 | 0.1978000 | 0.6696000 | 0.13260000 | 0.09890000 | 0.1136000 | 0.05570000 | 0.04660000 | 0.2922000 | 0.15450000 | 0.5397000 | 0.6384000 |\n",
       "| 013 | 41.10474 |  60156 | 0.5124696 | 0.4875304 | 0.1778163 | 0.6541860 | 0.16800147 | 0.13760129 | 0.1757019 | 0.05792298 | 0.04424817 | 0.3597347 | 0.15958173 | 0.4850179 | 0.5749832 |\n",
       "| 014 | 38.91674 |  56315 | 0.5001971 | 0.4998029 | 0.1917218 | 0.6824303 | 0.12584480 | 0.21791139 | 0.2324647 | 0.04511229 | 0.03277233 | 0.2757077 | 0.16285282 | 0.5498173 | 0.6541104 |\n",
       "| 015 | 33.82565 |  33757 | 0.5017270 | 0.4982730 | 0.2666313 | 0.6700695 | 0.06326855 | 0.06608401 | 0.1107042 | 0.06464216 | 0.04943018 | 0.4523822 | 0.09520449 | 0.6695271 | 0.7373458 |\n",
       "| 016 | 47.65140 |    109 | 0.4404000 | 0.5596000 | 0.0917000 | 0.7064000 | 0.20180000 | 0.08260000 | 0.0734000 | 0.05050000 | 0.03030000 | 0.3434000 | 0.21430000 | 0.4444000 | 0.5657000 |\n",
       "| 017 | 41.85640 |   1818 | 0.4934000 | 0.5066000 | 0.1529000 | 0.6947000 | 0.15240000 | 0.08640000 | 0.1221000 | 0.06170000 | 0.04350000 | 0.3877000 | 0.10650000 | 0.5500000 | 0.6156000 |\n",
       "| 018 | 41.98571 |   6096 | 0.5014386 | 0.4985614 | 0.1651801 | 0.6741785 | 0.16059178 | 0.11528784 | 0.1443643 | 0.05865856 | 0.04649651 | 0.4199914 | 0.12228081 | 0.5169771 | 0.5887648 |\n",
       "| 019 | 42.17040 |   1749 | 0.4837000 | 0.5163000 | 0.1618000 | 0.6650000 | 0.17320000 | 0.09830000 | 0.1155000 | 0.03410000 | 0.02250000 | 0.2094000 | 0.14470000 | 0.5321000 | 0.6221000 |\n",
       "| 020 | 49.36620 |    213 | 0.4225000 | 0.5775000 | 0.1127000 | 0.6056000 | 0.28170000 | 0.07980000 | 0.1080000 | 0.05290000 | 0.05290000 | 0.2963000 | 0.13330000 | 0.3439000 | 0.3968000 |\n",
       "| 021 | 45.07410 |    810 | 0.4877000 | 0.5123000 | 0.1704000 | 0.5951000 | 0.23460000 | 0.10860000 | 0.1420000 | 0.03870000 | 0.02680000 | 0.3452000 | 0.11140000 | 0.4866000 | 0.5476000 |\n",
       "| 022 | 37.44676 |  59000 | 0.5114951 | 0.4885049 | 0.2280971 | 0.6606521 | 0.11123665 | 0.07787534 | 0.1331063 | 0.09425565 | 0.08371367 | 0.6247956 | 0.06574559 | 0.5897892 | 0.6309332 |\n",
       "| 023 | 39.36300 |   8006 | 0.4969797 | 0.5030203 | 0.2083559 | 0.6696437 | 0.12205784 | 0.09916599 | 0.1336542 | 0.05414670 | 0.04153952 | 0.4640783 | 0.11376995 | 0.5774596 | 0.6516385 |\n",
       "| 024 | 44.58720 |    218 | 0.3945000 | 0.6055000 | 0.0917000 | 0.7202000 | 0.18810000 | 0.08720000 | 0.1055000 | 0.09090000 | 0.07070000 | 0.3586000 | 0.07870000 | 0.5909000 | 0.6414000 |\n",
       "| 025 | 48.10590 |    529 | 0.4178000 | 0.5822000 | 0.0888000 | 0.6144000 | 0.29680000 | 0.12290000 | 0.1456000 | 0.01660000 | 0.01450000 | 0.1639000 | 0.24050000 | 0.3734000 | 0.4917000 |\n",
       "| 026 | 39.35909 |  10699 | 0.5074452 | 0.4925548 | 0.1829349 | 0.6909112 | 0.12618557 | 0.19162050 | 0.2251622 | 0.06476576 | 0.04858597 | 0.3871028 | 0.11737789 | 0.5409448 | 0.6127925 |\n",
       "| 027 | 42.50080 |   1943 | 0.5229000 | 0.4771000 | 0.1714000 | 0.6366000 | 0.19200000 | 0.23570000 | 0.2532000 | 0.05470000 | 0.03290000 | 0.2981000 | 0.13060000 | 0.4963000 | 0.5708000 |\n",
       "| 028 | 42.46490 |   2706 | 0.4948000 | 0.5052000 | 0.1693000 | 0.6763000 | 0.15450000 | 0.09130000 | 0.1386000 | 0.04760000 | 0.03250000 | 0.4195000 | 0.13560000 | 0.5387000 | 0.6232000 |\n",
       "| 029 | 42.15580 |    841 | 0.4839000 | 0.5161000 | 0.1653000 | 0.6825000 | 0.15220000 | 0.08090000 | 0.1213000 | 0.05410000 | 0.03420000 | 0.4231000 | 0.11630000 | 0.5627000 | 0.6368000 |\n",
       "| 030 | 42.66860 |   2776 | 0.5112000 | 0.4888000 | 0.1520000 | 0.6726000 | 0.17540000 | 0.17110000 | 0.1920000 | 0.05480000 | 0.03570000 | 0.3280000 | 0.14450000 | 0.5030000 | 0.5879000 |\n",
       "| ... | ... | ... | ... | ... | ... | ... | ... | ... | ... | ... | ... | ... | ... | ... | ... |\n",
       "| 157 | 42.54150 |  1023 | 0.4976000 | 0.5024000 | 0.1623000 | 0.6500000 | 0.18770000 | 0.13200000 | 0.1584000 | 0.04320000 | 0.02920000 | 0.2217000 | 0.14060000 | 0.4994000 | 0.5811000 |\n",
       "| 158 | 43.83660 |  1022 | 0.4824000 | 0.5176000 | 0.1624000 | 0.6331000 | 0.20450000 | 0.11250000 | 0.1399000 | 0.03500000 | 0.01870000 | 0.3575000 | 0.13930000 | 0.4836000 | 0.5619000 |\n",
       "| 159 | 44.92680 |   792 | 0.4836000 | 0.5164000 | 0.1616000 | 0.6174000 | 0.22100000 | 0.07200000 | 0.0934000 | 0.02110000 | 0.01660000 | 0.2485000 | 0.19780000 | 0.4398000 | 0.5482000 |\n",
       "| 160 | 40.63154 | 13254 | 0.4943692 | 0.5056308 | 0.1799224 | 0.6784545 | 0.14159840 | 0.12727967 | 0.1777543 | 0.06263813 | 0.04576922 | 0.4463716 | 0.12289061 | 0.5333881 | 0.6078883 |\n",
       "| 161 | 37.54293 | 77931 | 0.5078077 | 0.4921923 | 0.2101806 | 0.6897520 | 0.10007736 | 0.10101058 | 0.1584359 | 0.05979328 | 0.04299703 | 0.3458258 | 0.12419747 | 0.5933741 | 0.6753342 |\n",
       "| 162 | 37.51653 |  4306 | 0.4854155 | 0.5145845 | 0.2199235 | 0.6667516 | 0.11332494 | 0.10385279 | 0.1635147 | 0.05770592 | 0.04234563 | 0.4446092 | 0.08974043 | 0.5952587 | 0.6544255 |\n",
       "| 163 | 41.91280 |   619 | 0.4830000 | 0.5170000 | 0.1535000 | 0.6947000 | 0.15190000 | 0.10340000 | 0.1260000 | 0.05530000 | 0.03050000 | 0.3569000 | 0.10570000 | 0.5649000 | 0.6317000 |\n",
       "| 164 | 41.55260 |  4705 | 0.5001097 | 0.4998903 | 0.1700330 | 0.6675695 | 0.16239753 | 0.12304531 | 0.1485348 | 0.04596959 | 0.03132861 | 0.2984182 | 0.14418491 | 0.5202830 | 0.6083401 |\n",
       "| 165 | 40.16640 |  3065 | 0.4861000 | 0.5139000 | 0.1762000 | 0.6799000 | 0.14390000 | 0.20820000 | 0.2196000 | 0.03050000 | 0.02060000 | 0.2048000 | 0.16750000 | 0.5176000 | 0.6218000 |\n",
       "| 166 | 43.30490 |   515 | 0.4660000 | 0.5340000 | 0.1301000 | 0.6990000 | 0.17090000 | 0.15150000 | 0.1728000 | 0.04240000 | 0.02460000 | 0.2076000 | 0.09200000 | 0.5290000 | 0.5826000 |\n",
       "| 167 | 38.13674 | 12542 | 0.4979184 | 0.5020816 | 0.1831998 | 0.7227704 | 0.09401216 | 0.09847162 | 0.1263650 | 0.05854097 | 0.03812773 | 0.2998506 | 0.12308045 | 0.5932604 | 0.6765171 |\n",
       "| 168 | 41.30110 |  2086 | 0.4779000 | 0.5221000 | 0.1663000 | 0.6702000 | 0.16350000 | 0.19180000 | 0.2416000 | 0.04200000 | 0.02820000 | 0.3491000 | 0.15250000 | 0.5175000 | 0.6107000 |\n",
       "| 169 | 41.06150 |  2392 | 0.4812000 | 0.5188000 | 0.1660000 | 0.7007000 | 0.13340000 | 0.09240000 | 0.1434000 | 0.07570000 | 0.05810000 | 0.5619000 | 0.10540000 | 0.5574000 | 0.6231000 |\n",
       "| 170 | 42.30861 |  3438 | 0.4892354 | 0.5107646 | 0.1576937 | 0.6570668 | 0.18528162 | 0.10703863 | 0.1244735 | 0.03033511 | 0.01927752 | 0.1443538 | 0.18415035 | 0.4679814 | 0.5738156 |\n",
       "| 171 | 41.33609 |  6775 | 0.4900346 | 0.5099654 | 0.1734372 | 0.6546015 | 0.17193725 | 0.19553619 | 0.2168211 | 0.03965013 | 0.02648822 | 0.1980369 | 0.14964415 | 0.4844587 | 0.5698173 |\n",
       "| 172 | 36.80356 | 15046 | 0.4947329 | 0.5052671 | 0.2179169 | 0.6832198 | 0.09883311 | 0.06930549 | 0.1065832 | 0.05919363 | 0.04625949 | 0.4488054 | 0.09407471 | 0.6353801 | 0.7002156 |\n",
       "| 173 | 44.78390 |   768 | 0.4818000 | 0.5182000 | 0.1328000 | 0.6549000 | 0.21220000 | 0.13540000 | 0.1471000 | 0.01800000 | 0.01200000 | 0.1802000 | 0.15920000 | 0.4760000 | 0.5661000 |\n",
       "| 174 | 43.23110 |  2648 | 0.4943000 | 0.5057000 | 0.1605000 | 0.6420000 | 0.19750000 | 0.14430000 | 0.1601000 | 0.03960000 | 0.02790000 | 0.2285000 | 0.15960000 | 0.4737000 | 0.5637000 |\n",
       "| 175 | 38.82900 |  1515 | 0.5083000 | 0.4917000 | 0.2158000 | 0.6627000 | 0.12150000 | 0.15250000 | 0.1855000 | 0.04210000 | 0.03110000 | 0.3779000 | 0.14830000 | 0.5657000 | 0.6641000 |\n",
       "| 176 | 37.91979 | 22453 | 0.5120099 | 0.4879901 | 0.1941522 | 0.6916640 | 0.11419262 | 0.16061388 | 0.2326980 | 0.09492445 | 0.08103544 | 0.5397404 | 0.08741585 | 0.5256221 | 0.5758471 |\n",
       "| 177 | 36.41800 | 17266 | 0.5145328 | 0.4854672 | 0.2345295 | 0.6793058 | 0.08618254 | 0.11421018 | 0.1766369 | 0.07977169 | 0.06536005 | 0.4977333 | 0.09143582 | 0.5996081 | 0.6599077 |\n",
       "| 178 | 40.11320 |  1608 | 0.4838000 | 0.5162000 | 0.1766000 | 0.6903000 | 0.13310000 | 0.09640000 | 0.1256000 | 0.05210000 | 0.03100000 | 0.3097000 | 0.15030000 | 0.5506000 | 0.6480000 |\n",
       "| 179 | 41.31300 |  2192 | 0.5014000 | 0.4986000 | 0.1592000 | 0.7067000 | 0.13410000 | 0.14230000 | 0.1565000 | 0.05210000 | 0.03580000 | 0.3521000 | 0.15360000 | 0.5144000 | 0.6077000 |\n",
       "| 180 | 41.20369 |  7546 | 0.5014574 | 0.4985426 | 0.1742629 | 0.6616756 | 0.16403713 | 0.11117563 | 0.1187572 | 0.03909177 | 0.02410722 | 0.2115700 | 0.17088920 | 0.5077590 | 0.6117915 |\n",
       "| 181 | 42.67386 | 28016 | 0.5162773 | 0.4837227 | 0.1527120 | 0.6493520 | 0.19795238 | 0.09566387 | 0.1391086 | 0.09605374 | 0.08572532 | 0.4929269 | 0.08842233 | 0.4893192 | 0.5363683 |\n",
       "| 182 | 46.75000 |   280 | 0.4571000 | 0.5429000 | 0.1000000 | 0.7000000 | 0.20000000 | 0.07140000 | 0.0964000 | 0.05160000 | 0.04760000 | 0.3611000 | 0.12240000 | 0.5119000 | 0.5833000 |\n",
       "| 183 | 42.15420 |  1771 | 0.4862000 | 0.5138000 | 0.1824000 | 0.6488000 | 0.16880000 | 0.14910000 | 0.1937000 | 0.05180000 | 0.03520000 | 0.3363000 | 0.19100000 | 0.4448000 | 0.5497000 |\n",
       "| 901 | 44.26060 |  1412 | 0.4816000 | 0.5184000 | 0.1487000 | 0.6523000 | 0.19900000 | 0.20540000 | 0.2103000 | 0.03580000 | 0.02160000 | 0.2995000 | 0.19880000 | 0.4293000 | 0.5358000 |\n",
       "| 902 | 45.19830 |   716 | 0.4483000 | 0.5517000 | 0.1494000 | 0.6453000 | 0.20530000 | 0.08940000 | 0.1103000 | 0.03780000 | 0.02460000 | 0.3711000 | 0.14210000 | 0.5452000 | 0.6355000 |\n",
       "| 903 | 39.94342 | 48726 | 0.5144877 | 0.4855123 | 0.1746257 | 0.6877769 | 0.13760393 | 0.07045555 | 0.1288219 | 0.08736570 | 0.07555967 | 0.6360119 | 0.07781167 | 0.5829719 | 0.6307085 |\n",
       "\n"
      ],
      "text/plain": [
       "    CMUN t3_1     t1_1   t2_1      t2_2      t4_1      t4_2      t4_3      \n",
       "1   001       NaN     55 0.0000000 0.0000000 0.0000000 0.0000000 0.00000000\n",
       "2   002  39.40747   4793 0.4777851 0.5222149 0.1696289 0.7218958 0.10847530\n",
       "3   003  47.45970    248 0.3952000 0.6048000 0.1371000 0.6573000 0.20560000\n",
       "4   004  41.46662   9946 0.5015109 0.4984891 0.1810684 0.6420633 0.17684664\n",
       "5   005  42.62488 195570 0.5145997 0.4854003 0.1522553 0.6621785 0.18556448\n",
       "6   006  40.89541 116895 0.5220080 0.4779920 0.1733979 0.6579805 0.16861498\n",
       "7   007  43.98716 171575 0.5197152 0.4802848 0.1534518 0.6221151 0.22443538\n",
       "8   008  42.32070   3078 0.4899000 0.5101000 0.1780000 0.6313000 0.19070000\n",
       "9   009  39.85821  20704 0.5094248 0.4905752 0.1771307 0.6895597 0.13330534\n",
       "10  010  40.57497  15178 0.5095979 0.4904021 0.1794548 0.6811853 0.13935584\n",
       "11  011  45.52490    663 0.4992000 0.5008000 0.1357000 0.6561000 0.20810000\n",
       "12  012  39.29520   1365 0.4842000 0.5158000 0.1978000 0.6696000 0.13260000\n",
       "13  013  41.10474  60156 0.5124696 0.4875304 0.1778163 0.6541860 0.16800147\n",
       "14  014  38.91674  56315 0.5001971 0.4998029 0.1917218 0.6824303 0.12584480\n",
       "15  015  33.82565  33757 0.5017270 0.4982730 0.2666313 0.6700695 0.06326855\n",
       "16  016  47.65140    109 0.4404000 0.5596000 0.0917000 0.7064000 0.20180000\n",
       "17  017  41.85640   1818 0.4934000 0.5066000 0.1529000 0.6947000 0.15240000\n",
       "18  018  41.98571   6096 0.5014386 0.4985614 0.1651801 0.6741785 0.16059178\n",
       "19  019  42.17040   1749 0.4837000 0.5163000 0.1618000 0.6650000 0.17320000\n",
       "20  020  49.36620    213 0.4225000 0.5775000 0.1127000 0.6056000 0.28170000\n",
       "21  021  45.07410    810 0.4877000 0.5123000 0.1704000 0.5951000 0.23460000\n",
       "22  022  37.44676  59000 0.5114951 0.4885049 0.2280971 0.6606521 0.11123665\n",
       "23  023  39.36300   8006 0.4969797 0.5030203 0.2083559 0.6696437 0.12205784\n",
       "24  024  44.58720    218 0.3945000 0.6055000 0.0917000 0.7202000 0.18810000\n",
       "25  025  48.10590    529 0.4178000 0.5822000 0.0888000 0.6144000 0.29680000\n",
       "26  026  39.35909  10699 0.5074452 0.4925548 0.1829349 0.6909112 0.12618557\n",
       "27  027  42.50080   1943 0.5229000 0.4771000 0.1714000 0.6366000 0.19200000\n",
       "28  028  42.46490   2706 0.4948000 0.5052000 0.1693000 0.6763000 0.15450000\n",
       "29  029  42.15580    841 0.4839000 0.5161000 0.1653000 0.6825000 0.15220000\n",
       "30  030  42.66860   2776 0.5112000 0.4888000 0.1520000 0.6726000 0.17540000\n",
       "... ...  ...      ...    ...       ...       ...       ...       ...       \n",
       "150 157  42.54150  1023  0.4976000 0.5024000 0.1623000 0.6500000 0.18770000\n",
       "151 158  43.83660  1022  0.4824000 0.5176000 0.1624000 0.6331000 0.20450000\n",
       "152 159  44.92680   792  0.4836000 0.5164000 0.1616000 0.6174000 0.22100000\n",
       "153 160  40.63154 13254  0.4943692 0.5056308 0.1799224 0.6784545 0.14159840\n",
       "154 161  37.54293 77931  0.5078077 0.4921923 0.2101806 0.6897520 0.10007736\n",
       "155 162  37.51653  4306  0.4854155 0.5145845 0.2199235 0.6667516 0.11332494\n",
       "156 163  41.91280   619  0.4830000 0.5170000 0.1535000 0.6947000 0.15190000\n",
       "157 164  41.55260  4705  0.5001097 0.4998903 0.1700330 0.6675695 0.16239753\n",
       "158 165  40.16640  3065  0.4861000 0.5139000 0.1762000 0.6799000 0.14390000\n",
       "159 166  43.30490   515  0.4660000 0.5340000 0.1301000 0.6990000 0.17090000\n",
       "160 167  38.13674 12542  0.4979184 0.5020816 0.1831998 0.7227704 0.09401216\n",
       "161 168  41.30110  2086  0.4779000 0.5221000 0.1663000 0.6702000 0.16350000\n",
       "162 169  41.06150  2392  0.4812000 0.5188000 0.1660000 0.7007000 0.13340000\n",
       "163 170  42.30861  3438  0.4892354 0.5107646 0.1576937 0.6570668 0.18528162\n",
       "164 171  41.33609  6775  0.4900346 0.5099654 0.1734372 0.6546015 0.17193725\n",
       "165 172  36.80356 15046  0.4947329 0.5052671 0.2179169 0.6832198 0.09883311\n",
       "166 173  44.78390   768  0.4818000 0.5182000 0.1328000 0.6549000 0.21220000\n",
       "167 174  43.23110  2648  0.4943000 0.5057000 0.1605000 0.6420000 0.19750000\n",
       "168 175  38.82900  1515  0.5083000 0.4917000 0.2158000 0.6627000 0.12150000\n",
       "169 176  37.91979 22453  0.5120099 0.4879901 0.1941522 0.6916640 0.11419262\n",
       "170 177  36.41800 17266  0.5145328 0.4854672 0.2345295 0.6793058 0.08618254\n",
       "171 178  40.11320  1608  0.4838000 0.5162000 0.1766000 0.6903000 0.13310000\n",
       "172 179  41.31300  2192  0.5014000 0.4986000 0.1592000 0.7067000 0.13410000\n",
       "173 180  41.20369  7546  0.5014574 0.4985426 0.1742629 0.6616756 0.16403713\n",
       "174 181  42.67386 28016  0.5162773 0.4837227 0.1527120 0.6493520 0.19795238\n",
       "175 182  46.75000   280  0.4571000 0.5429000 0.1000000 0.7000000 0.20000000\n",
       "176 183  42.15420  1771  0.4862000 0.5138000 0.1824000 0.6488000 0.16880000\n",
       "177 901  44.26060  1412  0.4816000 0.5184000 0.1487000 0.6523000 0.19900000\n",
       "178 902  45.19830   716  0.4483000 0.5517000 0.1494000 0.6453000 0.20530000\n",
       "179 903  39.94342 48726  0.5144877 0.4855123 0.1746257 0.6877769 0.13760393\n",
       "    t5_1       t6_1      t7_1       t8_1       t9_1      t10_1      t11_1    \n",
       "1   0.00000000 0.0000000 0.00000000 0.00000000 0.0000000 0.00000000 0.0000000\n",
       "2   0.15562992 0.1959363 0.41318314 0.40995322 0.4407990 0.10715222 0.6008132\n",
       "3   0.11290000 0.1411000 0.15420000 0.14490000 0.5280000 0.09320000 0.5000000\n",
       "4   0.15474242 0.1912543 0.15732451 0.15046840 0.2942034 0.16675872 0.4777910\n",
       "5   0.15881821 0.1905063 0.06873490 0.05804835 0.3385710 0.15005627 0.4955043\n",
       "6   0.14532846 0.2271027 0.06842997 0.05762466 0.4468360 0.10299495 0.5243721\n",
       "7   0.10576175 0.1579031 0.05592808 0.04298878 0.3815176 0.13025910 0.4980104\n",
       "8   0.16280000 0.1878000 0.03440000 0.02450000 0.2245000 0.20280000 0.4490000\n",
       "9   0.11217029 0.1725385 0.07715483 0.06054939 0.4045589 0.10367784 0.5341627\n",
       "10  0.09019803 0.1359170 0.07535911 0.05609451 0.5401627 0.10915472 0.5449263\n",
       "11  0.18700000 0.2021000 0.01570000 0.01220000 0.2321000 0.24840000 0.4171000\n",
       "12  0.09890000 0.1136000 0.05570000 0.04660000 0.2922000 0.15450000 0.5397000\n",
       "13  0.13760129 0.1757019 0.05792298 0.04424817 0.3597347 0.15958173 0.4850179\n",
       "14  0.21791139 0.2324647 0.04511229 0.03277233 0.2757077 0.16285282 0.5498173\n",
       "15  0.06608401 0.1107042 0.06464216 0.04943018 0.4523822 0.09520449 0.6695271\n",
       "16  0.08260000 0.0734000 0.05050000 0.03030000 0.3434000 0.21430000 0.4444000\n",
       "17  0.08640000 0.1221000 0.06170000 0.04350000 0.3877000 0.10650000 0.5500000\n",
       "18  0.11528784 0.1443643 0.05865856 0.04649651 0.4199914 0.12228081 0.5169771\n",
       "19  0.09830000 0.1155000 0.03410000 0.02250000 0.2094000 0.14470000 0.5321000\n",
       "20  0.07980000 0.1080000 0.05290000 0.05290000 0.2963000 0.13330000 0.3439000\n",
       "21  0.10860000 0.1420000 0.03870000 0.02680000 0.3452000 0.11140000 0.4866000\n",
       "22  0.07787534 0.1331063 0.09425565 0.08371367 0.6247956 0.06574559 0.5897892\n",
       "23  0.09916599 0.1336542 0.05414670 0.04153952 0.4640783 0.11376995 0.5774596\n",
       "24  0.08720000 0.1055000 0.09090000 0.07070000 0.3586000 0.07870000 0.5909000\n",
       "25  0.12290000 0.1456000 0.01660000 0.01450000 0.1639000 0.24050000 0.3734000\n",
       "26  0.19162050 0.2251622 0.06476576 0.04858597 0.3871028 0.11737789 0.5409448\n",
       "27  0.23570000 0.2532000 0.05470000 0.03290000 0.2981000 0.13060000 0.4963000\n",
       "28  0.09130000 0.1386000 0.04760000 0.03250000 0.4195000 0.13560000 0.5387000\n",
       "29  0.08090000 0.1213000 0.05410000 0.03420000 0.4231000 0.11630000 0.5627000\n",
       "30  0.17110000 0.1920000 0.05480000 0.03570000 0.3280000 0.14450000 0.5030000\n",
       "... ...        ...       ...        ...        ...       ...        ...      \n",
       "150 0.13200000 0.1584000 0.04320000 0.02920000 0.2217000 0.14060000 0.4994000\n",
       "151 0.11250000 0.1399000 0.03500000 0.01870000 0.3575000 0.13930000 0.4836000\n",
       "152 0.07200000 0.0934000 0.02110000 0.01660000 0.2485000 0.19780000 0.4398000\n",
       "153 0.12727967 0.1777543 0.06263813 0.04576922 0.4463716 0.12289061 0.5333881\n",
       "154 0.10101058 0.1584359 0.05979328 0.04299703 0.3458258 0.12419747 0.5933741\n",
       "155 0.10385279 0.1635147 0.05770592 0.04234563 0.4446092 0.08974043 0.5952587\n",
       "156 0.10340000 0.1260000 0.05530000 0.03050000 0.3569000 0.10570000 0.5649000\n",
       "157 0.12304531 0.1485348 0.04596959 0.03132861 0.2984182 0.14418491 0.5202830\n",
       "158 0.20820000 0.2196000 0.03050000 0.02060000 0.2048000 0.16750000 0.5176000\n",
       "159 0.15150000 0.1728000 0.04240000 0.02460000 0.2076000 0.09200000 0.5290000\n",
       "160 0.09847162 0.1263650 0.05854097 0.03812773 0.2998506 0.12308045 0.5932604\n",
       "161 0.19180000 0.2416000 0.04200000 0.02820000 0.3491000 0.15250000 0.5175000\n",
       "162 0.09240000 0.1434000 0.07570000 0.05810000 0.5619000 0.10540000 0.5574000\n",
       "163 0.10703863 0.1244735 0.03033511 0.01927752 0.1443538 0.18415035 0.4679814\n",
       "164 0.19553619 0.2168211 0.03965013 0.02648822 0.1980369 0.14964415 0.4844587\n",
       "165 0.06930549 0.1065832 0.05919363 0.04625949 0.4488054 0.09407471 0.6353801\n",
       "166 0.13540000 0.1471000 0.01800000 0.01200000 0.1802000 0.15920000 0.4760000\n",
       "167 0.14430000 0.1601000 0.03960000 0.02790000 0.2285000 0.15960000 0.4737000\n",
       "168 0.15250000 0.1855000 0.04210000 0.03110000 0.3779000 0.14830000 0.5657000\n",
       "169 0.16061388 0.2326980 0.09492445 0.08103544 0.5397404 0.08741585 0.5256221\n",
       "170 0.11421018 0.1766369 0.07977169 0.06536005 0.4977333 0.09143582 0.5996081\n",
       "171 0.09640000 0.1256000 0.05210000 0.03100000 0.3097000 0.15030000 0.5506000\n",
       "172 0.14230000 0.1565000 0.05210000 0.03580000 0.3521000 0.15360000 0.5144000\n",
       "173 0.11117563 0.1187572 0.03909177 0.02410722 0.2115700 0.17088920 0.5077590\n",
       "174 0.09566387 0.1391086 0.09605374 0.08572532 0.4929269 0.08842233 0.4893192\n",
       "175 0.07140000 0.0964000 0.05160000 0.04760000 0.3611000 0.12240000 0.5119000\n",
       "176 0.14910000 0.1937000 0.05180000 0.03520000 0.3363000 0.19100000 0.4448000\n",
       "177 0.20540000 0.2103000 0.03580000 0.02160000 0.2995000 0.19880000 0.4293000\n",
       "178 0.08940000 0.1103000 0.03780000 0.02460000 0.3711000 0.14210000 0.5452000\n",
       "179 0.07045555 0.1288219 0.08736570 0.07555967 0.6360119 0.07781167 0.5829719\n",
       "    t12_1    \n",
       "1   0.0000000\n",
       "2   0.6730932\n",
       "3   0.5514000\n",
       "4   0.5729139\n",
       "5   0.5799657\n",
       "6   0.5837953\n",
       "7   0.5693722\n",
       "8   0.5632000\n",
       "9   0.5973146\n",
       "10  0.6118954\n",
       "11  0.5550000\n",
       "12  0.6384000\n",
       "13  0.5749832\n",
       "14  0.6541104\n",
       "15  0.7373458\n",
       "16  0.5657000\n",
       "17  0.6156000\n",
       "18  0.5887648\n",
       "19  0.6221000\n",
       "20  0.3968000\n",
       "21  0.5476000\n",
       "22  0.6309332\n",
       "23  0.6516385\n",
       "24  0.6414000\n",
       "25  0.4917000\n",
       "26  0.6127925\n",
       "27  0.5708000\n",
       "28  0.6232000\n",
       "29  0.6368000\n",
       "30  0.5879000\n",
       "... ...      \n",
       "150 0.5811000\n",
       "151 0.5619000\n",
       "152 0.5482000\n",
       "153 0.6078883\n",
       "154 0.6753342\n",
       "155 0.6544255\n",
       "156 0.6317000\n",
       "157 0.6083401\n",
       "158 0.6218000\n",
       "159 0.5826000\n",
       "160 0.6765171\n",
       "161 0.6107000\n",
       "162 0.6231000\n",
       "163 0.5738156\n",
       "164 0.5698173\n",
       "165 0.7002156\n",
       "166 0.5661000\n",
       "167 0.5637000\n",
       "168 0.6641000\n",
       "169 0.5758471\n",
       "170 0.6599077\n",
       "171 0.6480000\n",
       "172 0.6077000\n",
       "173 0.6117915\n",
       "174 0.5363683\n",
       "175 0.5833000\n",
       "176 0.5497000\n",
       "177 0.5358000\n",
       "178 0.6355000\n",
       "179 0.6307085"
      ]
     },
     "metadata": {},
     "output_type": "display_data"
    }
   ],
   "source": [
    "tdata_02 |> slice_head(n = 5)"
   ]
  },
  {
   "attachments": {},
   "cell_type": "markdown",
   "metadata": {},
   "source": [
    "* Añadir indicadores a la tabla de POIs"
   ]
  },
  {
   "cell_type": "markdown",
   "metadata": {
    "slideshow": {
     "slide_type": "slide"
    }
   },
   "source": [
    "## Synthetic Data Generation"
   ]
  },
  {
   "cell_type": "code",
   "execution_count": 18,
   "metadata": {
    "vscode": {
     "languageId": "r"
    }
   },
   "outputs": [],
   "source": [
    "tdata_01 <- data_01 |> \n",
    "  left_join(tdata_02 |> select(CMUN, t3_1), by = \"CMUN\") |> \n",
    "  replace_na(list(t3_1 = 100))"
   ]
  },
  {
   "cell_type": "code",
   "execution_count": 20,
   "metadata": {
    "vscode": {
     "languageId": "r"
    }
   },
   "outputs": [
    {
     "name": "stdout",
     "output_type": "stream",
     "text": [
      "Rows: 24,780\n",
      "Columns: 8\n",
      "$ grupo  \u001b[3m\u001b[90m<chr>\u001b[39m\u001b[23m \"turismo\", \"hosteleria\", \"hosteleria\", \"hosteleria\", \"comercio\"…\n",
      "$ tipo   \u001b[3m\u001b[90m<chr>\u001b[39m\u001b[23m \"hotel\", \"restaurant\", \"pub\", \"pub\", \"supermarket\", \"fast_food\"…\n",
      "$ nombre \u001b[3m\u001b[90m<chr>\u001b[39m\u001b[23m \"NH Ciudad de la Imagen\", \"Café Comercial\", \"Sidrería la Camoch…\n",
      "$ X      \u001b[3m\u001b[90m<dbl>\u001b[39m\u001b[23m -3.788176, -3.702002, -3.701686, -3.696329, -3.706888, -3.60722…\n",
      "$ Y      \u001b[3m\u001b[90m<dbl>\u001b[39m\u001b[23m 40.39844, 40.42873, 40.42703, 40.42760, 40.48035, 40.43337, 40.…\n",
      "$ CMUN   \u001b[3m\u001b[90m<chr>\u001b[39m\u001b[23m \"115\", \"079\", \"079\", \"079\", \"079\", \"079\", \"079\", \"079\", \"079\", …\n",
      "$ CDIS   \u001b[3m\u001b[90m<chr>\u001b[39m\u001b[23m \"01\", \"01\", \"01\", \"01\", \"08\", \"20\", \"01\", \"01\", \"01\", \"01\", \"01…\n",
      "$ t3_1   \u001b[3m\u001b[90m<dbl>\u001b[39m\u001b[23m 41.46522, 43.76242, 43.76242, 43.76242, 43.76242, 43.76242, 43.…\n"
     ]
    }
   ],
   "source": [
    "tdata_01 |> glimpse()\n"
   ]
  },
  {
   "cell_type": "code",
   "execution_count": 21,
   "metadata": {
    "vscode": {
     "languageId": "r"
    }
   },
   "outputs": [
    {
     "data": {
      "text/html": [
       "<table class=\"dataframe\">\n",
       "<caption>A spec_tbl_df: 5 x 8</caption>\n",
       "<thead>\n",
       "\t<tr><th scope=col>grupo</th><th scope=col>tipo</th><th scope=col>nombre</th><th scope=col>X</th><th scope=col>Y</th><th scope=col>CMUN</th><th scope=col>CDIS</th><th scope=col>t3_1</th></tr>\n",
       "\t<tr><th scope=col>&lt;chr&gt;</th><th scope=col>&lt;chr&gt;</th><th scope=col>&lt;chr&gt;</th><th scope=col>&lt;dbl&gt;</th><th scope=col>&lt;dbl&gt;</th><th scope=col>&lt;chr&gt;</th><th scope=col>&lt;chr&gt;</th><th scope=col>&lt;dbl&gt;</th></tr>\n",
       "</thead>\n",
       "<tbody>\n",
       "\t<tr><td>turismo   </td><td>hotel      </td><td>NH Ciudad de la Imagen</td><td>-3.788176</td><td>40.39844</td><td>115</td><td>01</td><td>41.46522</td></tr>\n",
       "\t<tr><td>hosteleria</td><td>restaurant </td><td>Café Comercial        </td><td>-3.702002</td><td>40.42873</td><td>079</td><td>01</td><td>43.76242</td></tr>\n",
       "\t<tr><td>hosteleria</td><td>pub        </td><td>Sidrería la Camocha   </td><td>-3.701686</td><td>40.42703</td><td>079</td><td>01</td><td>43.76242</td></tr>\n",
       "\t<tr><td>hosteleria</td><td>pub        </td><td>Gran Cafe Santander   </td><td>-3.696329</td><td>40.42760</td><td>079</td><td>01</td><td>43.76242</td></tr>\n",
       "\t<tr><td>comercio  </td><td>supermarket</td><td>Alcampo               </td><td>-3.706888</td><td>40.48035</td><td>079</td><td>08</td><td>43.76242</td></tr>\n",
       "</tbody>\n",
       "</table>\n"
      ],
      "text/latex": [
       "A spec\\_tbl\\_df: 5 x 8\n",
       "\\begin{tabular}{llllllll}\n",
       " grupo & tipo & nombre & X & Y & CMUN & CDIS & t3\\_1\\\\\n",
       " <chr> & <chr> & <chr> & <dbl> & <dbl> & <chr> & <chr> & <dbl>\\\\\n",
       "\\hline\n",
       "\t turismo    & hotel       & NH Ciudad de la Imagen & -3.788176 & 40.39844 & 115 & 01 & 41.46522\\\\\n",
       "\t hosteleria & restaurant  & Café Comercial         & -3.702002 & 40.42873 & 079 & 01 & 43.76242\\\\\n",
       "\t hosteleria & pub         & Sidrería la Camocha    & -3.701686 & 40.42703 & 079 & 01 & 43.76242\\\\\n",
       "\t hosteleria & pub         & Gran Cafe Santander    & -3.696329 & 40.42760 & 079 & 01 & 43.76242\\\\\n",
       "\t comercio   & supermarket & Alcampo                & -3.706888 & 40.48035 & 079 & 08 & 43.76242\\\\\n",
       "\\end{tabular}\n"
      ],
      "text/markdown": [
       "\n",
       "A spec_tbl_df: 5 x 8\n",
       "\n",
       "| grupo &lt;chr&gt; | tipo &lt;chr&gt; | nombre &lt;chr&gt; | X &lt;dbl&gt; | Y &lt;dbl&gt; | CMUN &lt;chr&gt; | CDIS &lt;chr&gt; | t3_1 &lt;dbl&gt; |\n",
       "|---|---|---|---|---|---|---|---|\n",
       "| turismo    | hotel       | NH Ciudad de la Imagen | -3.788176 | 40.39844 | 115 | 01 | 41.46522 |\n",
       "| hosteleria | restaurant  | Café Comercial         | -3.702002 | 40.42873 | 079 | 01 | 43.76242 |\n",
       "| hosteleria | pub         | Sidrería la Camocha    | -3.701686 | 40.42703 | 079 | 01 | 43.76242 |\n",
       "| hosteleria | pub         | Gran Cafe Santander    | -3.696329 | 40.42760 | 079 | 01 | 43.76242 |\n",
       "| comercio   | supermarket | Alcampo                | -3.706888 | 40.48035 | 079 | 08 | 43.76242 |\n",
       "\n"
      ],
      "text/plain": [
       "  grupo      tipo        nombre                 X         Y        CMUN CDIS\n",
       "1 turismo    hotel       NH Ciudad de la Imagen -3.788176 40.39844 115  01  \n",
       "2 hosteleria restaurant  Café Comercial         -3.702002 40.42873 079  01  \n",
       "3 hosteleria pub         Sidrería la Camocha    -3.701686 40.42703 079  01  \n",
       "4 hosteleria pub         Gran Cafe Santander    -3.696329 40.42760 079  01  \n",
       "5 comercio   supermarket Alcampo                -3.706888 40.48035 079  08  \n",
       "  t3_1    \n",
       "1 41.46522\n",
       "2 43.76242\n",
       "3 43.76242\n",
       "4 43.76242\n",
       "5 43.76242"
      ]
     },
     "metadata": {},
     "output_type": "display_data"
    }
   ],
   "source": [
    "tdata_01 |> slice_head(n = 5)"
   ]
  },
  {
   "attachments": {},
   "cell_type": "markdown",
   "metadata": {
    "slideshow": {
     "slide_type": "slide"
    }
   },
   "source": [
    "No aplica"
   ]
  },
  {
   "cell_type": "markdown",
   "metadata": {
    "slideshow": {
     "slide_type": "slide"
    }
   },
   "source": [
    "## Fake Data Generation"
   ]
  },
  {
   "attachments": {},
   "cell_type": "markdown",
   "metadata": {
    "slideshow": {
     "slide_type": "slide"
    }
   },
   "source": [
    "Ante la falta de datos, se simulan. Se podría intentar obtenerlos por webscrapping de webs de turismo como tripadvisor\n",
    "\n",
    "La simulación se basa en la población del INE\n",
    "\n",
    "Se asume puntuación media del alojamiento"
   ]
  },
  {
   "cell_type": "code",
   "execution_count": 23,
   "metadata": {
    "vscode": {
     "languageId": "r"
    }
   },
   "outputs": [],
   "source": [
    "set.seed(1)\n",
    "tdata_01$puntos <- sapply(seq_along(tdata_01$nombre),\n",
    "       function(x){\n",
    "         qq <- quantile(tdata_01$t3_1, probs = 0.5, na.rm = TRUE)\n",
    "         if(tdata_01$t3_1[x] < qq){\n",
    "           p <- c(0.1, 0.3, 0.3, 0.15, 0.15)\n",
    "         } else{\n",
    "           p <- c(0.1, 0.15, 0.15, 0.3, 0.3)\n",
    "         }\n",
    "         sample(1:5, 1, prob = p)\n",
    "       })"
   ]
  },
  {
   "cell_type": "code",
   "execution_count": 24,
   "metadata": {
    "vscode": {
     "languageId": "r"
    }
   },
   "outputs": [
    {
     "name": "stdout",
     "output_type": "stream",
     "text": [
      "Rows: 24,780\n",
      "Columns: 9\n",
      "$ grupo  \u001b[3m\u001b[90m<chr>\u001b[39m\u001b[23m \"turismo\", \"hosteleria\", \"hosteleria\", \"hosteleria\", \"comercio\"…\n",
      "$ tipo   \u001b[3m\u001b[90m<chr>\u001b[39m\u001b[23m \"hotel\", \"restaurant\", \"pub\", \"pub\", \"supermarket\", \"fast_food\"…\n",
      "$ nombre \u001b[3m\u001b[90m<chr>\u001b[39m\u001b[23m \"NH Ciudad de la Imagen\", \"Café Comercial\", \"Sidrería la Camoch…\n",
      "$ X      \u001b[3m\u001b[90m<dbl>\u001b[39m\u001b[23m -3.788176, -3.702002, -3.701686, -3.696329, -3.706888, -3.60722…\n",
      "$ Y      \u001b[3m\u001b[90m<dbl>\u001b[39m\u001b[23m 40.39844, 40.42873, 40.42703, 40.42760, 40.48035, 40.43337, 40.…\n",
      "$ CMUN   \u001b[3m\u001b[90m<chr>\u001b[39m\u001b[23m \"115\", \"079\", \"079\", \"079\", \"079\", \"079\", \"079\", \"079\", \"079\", …\n",
      "$ CDIS   \u001b[3m\u001b[90m<chr>\u001b[39m\u001b[23m \"01\", \"01\", \"01\", \"01\", \"08\", \"20\", \"01\", \"01\", \"01\", \"01\", \"01…\n",
      "$ t3_1   \u001b[3m\u001b[90m<dbl>\u001b[39m\u001b[23m 41.46522, 43.76242, 43.76242, 43.76242, 43.76242, 43.76242, 43.…\n",
      "$ puntos \u001b[3m\u001b[90m<int>\u001b[39m\u001b[23m 2, 4, 4, 1, 5, 2, 1, 3, 3, 5, 5, 5, 3, 4, 2, 4, 3, 1, 4, 2, 1, …\n"
     ]
    }
   ],
   "source": [
    "tdata_01 |> glimpse()"
   ]
  },
  {
   "cell_type": "code",
   "execution_count": 25,
   "metadata": {
    "vscode": {
     "languageId": "r"
    }
   },
   "outputs": [
    {
     "data": {
      "text/html": [
       "<table class=\"dataframe\">\n",
       "<caption>A spec_tbl_df: 5 x 9</caption>\n",
       "<thead>\n",
       "\t<tr><th scope=col>grupo</th><th scope=col>tipo</th><th scope=col>nombre</th><th scope=col>X</th><th scope=col>Y</th><th scope=col>CMUN</th><th scope=col>CDIS</th><th scope=col>t3_1</th><th scope=col>puntos</th></tr>\n",
       "\t<tr><th scope=col>&lt;chr&gt;</th><th scope=col>&lt;chr&gt;</th><th scope=col>&lt;chr&gt;</th><th scope=col>&lt;dbl&gt;</th><th scope=col>&lt;dbl&gt;</th><th scope=col>&lt;chr&gt;</th><th scope=col>&lt;chr&gt;</th><th scope=col>&lt;dbl&gt;</th><th scope=col>&lt;int&gt;</th></tr>\n",
       "</thead>\n",
       "<tbody>\n",
       "\t<tr><td>turismo   </td><td>hotel      </td><td>NH Ciudad de la Imagen</td><td>-3.788176</td><td>40.39844</td><td>115</td><td>01</td><td>41.46522</td><td>2</td></tr>\n",
       "\t<tr><td>hosteleria</td><td>restaurant </td><td>Café Comercial        </td><td>-3.702002</td><td>40.42873</td><td>079</td><td>01</td><td>43.76242</td><td>4</td></tr>\n",
       "\t<tr><td>hosteleria</td><td>pub        </td><td>Sidrería la Camocha   </td><td>-3.701686</td><td>40.42703</td><td>079</td><td>01</td><td>43.76242</td><td>4</td></tr>\n",
       "\t<tr><td>hosteleria</td><td>pub        </td><td>Gran Cafe Santander   </td><td>-3.696329</td><td>40.42760</td><td>079</td><td>01</td><td>43.76242</td><td>1</td></tr>\n",
       "\t<tr><td>comercio  </td><td>supermarket</td><td>Alcampo               </td><td>-3.706888</td><td>40.48035</td><td>079</td><td>08</td><td>43.76242</td><td>5</td></tr>\n",
       "</tbody>\n",
       "</table>\n"
      ],
      "text/latex": [
       "A spec\\_tbl\\_df: 5 x 9\n",
       "\\begin{tabular}{lllllllll}\n",
       " grupo & tipo & nombre & X & Y & CMUN & CDIS & t3\\_1 & puntos\\\\\n",
       " <chr> & <chr> & <chr> & <dbl> & <dbl> & <chr> & <chr> & <dbl> & <int>\\\\\n",
       "\\hline\n",
       "\t turismo    & hotel       & NH Ciudad de la Imagen & -3.788176 & 40.39844 & 115 & 01 & 41.46522 & 2\\\\\n",
       "\t hosteleria & restaurant  & Café Comercial         & -3.702002 & 40.42873 & 079 & 01 & 43.76242 & 4\\\\\n",
       "\t hosteleria & pub         & Sidrería la Camocha    & -3.701686 & 40.42703 & 079 & 01 & 43.76242 & 4\\\\\n",
       "\t hosteleria & pub         & Gran Cafe Santander    & -3.696329 & 40.42760 & 079 & 01 & 43.76242 & 1\\\\\n",
       "\t comercio   & supermarket & Alcampo                & -3.706888 & 40.48035 & 079 & 08 & 43.76242 & 5\\\\\n",
       "\\end{tabular}\n"
      ],
      "text/markdown": [
       "\n",
       "A spec_tbl_df: 5 x 9\n",
       "\n",
       "| grupo &lt;chr&gt; | tipo &lt;chr&gt; | nombre &lt;chr&gt; | X &lt;dbl&gt; | Y &lt;dbl&gt; | CMUN &lt;chr&gt; | CDIS &lt;chr&gt; | t3_1 &lt;dbl&gt; | puntos &lt;int&gt; |\n",
       "|---|---|---|---|---|---|---|---|---|\n",
       "| turismo    | hotel       | NH Ciudad de la Imagen | -3.788176 | 40.39844 | 115 | 01 | 41.46522 | 2 |\n",
       "| hosteleria | restaurant  | Café Comercial         | -3.702002 | 40.42873 | 079 | 01 | 43.76242 | 4 |\n",
       "| hosteleria | pub         | Sidrería la Camocha    | -3.701686 | 40.42703 | 079 | 01 | 43.76242 | 4 |\n",
       "| hosteleria | pub         | Gran Cafe Santander    | -3.696329 | 40.42760 | 079 | 01 | 43.76242 | 1 |\n",
       "| comercio   | supermarket | Alcampo                | -3.706888 | 40.48035 | 079 | 08 | 43.76242 | 5 |\n",
       "\n"
      ],
      "text/plain": [
       "  grupo      tipo        nombre                 X         Y        CMUN CDIS\n",
       "1 turismo    hotel       NH Ciudad de la Imagen -3.788176 40.39844 115  01  \n",
       "2 hosteleria restaurant  Café Comercial         -3.702002 40.42873 079  01  \n",
       "3 hosteleria pub         Sidrería la Camocha    -3.701686 40.42703 079  01  \n",
       "4 hosteleria pub         Gran Cafe Santander    -3.696329 40.42760 079  01  \n",
       "5 comercio   supermarket Alcampo                -3.706888 40.48035 079  08  \n",
       "  t3_1     puntos\n",
       "1 41.46522 2     \n",
       "2 43.76242 4     \n",
       "3 43.76242 4     \n",
       "4 43.76242 1     \n",
       "5 43.76242 5     "
      ]
     },
     "metadata": {},
     "output_type": "display_data"
    }
   ],
   "source": [
    "tdata_01 |> slice_head(n = 5)"
   ]
  },
  {
   "cell_type": "markdown",
   "metadata": {
    "slideshow": {
     "slide_type": "slide"
    }
   },
   "source": [
    "## Open Data"
   ]
  },
  {
   "attachments": {},
   "cell_type": "markdown",
   "metadata": {
    "slideshow": {
     "slide_type": "slide"
    }
   },
   "source": [
    "No aplica\n"
   ]
  },
  {
   "cell_type": "markdown",
   "metadata": {},
   "source": [
    "## <font color='green'>Data Save</font>"
   ]
  },
  {
   "attachments": {},
   "cell_type": "markdown",
   "metadata": {},
   "source": [
    "Este proceso, puede copiarse y repetirse en aquellas partes del notebbok que necesiten guardar datos.\n",
    "Recuerde cambiar las cadenas añadida del fichero para diferenciarlas"
   ]
  },
  {
   "cell_type": "markdown",
   "metadata": {},
   "source": [
    "<font color='tomato'> Identificamos los datos a guardar</font>"
   ]
  },
  {
   "cell_type": "code",
   "execution_count": 26,
   "metadata": {
    "ExecuteTime": {
     "end_time": "2020-12-25T17:59:27.022001Z",
     "start_time": "2020-12-25T17:59:15.986986Z"
    },
    "scrolled": false,
    "vscode": {
     "languageId": "r"
    }
   },
   "outputs": [],
   "source": [
    "data_to_save <- tdata_01"
   ]
  },
  {
   "attachments": {},
   "cell_type": "markdown",
   "metadata": {},
   "source": [
    "\n",
    "<font color='tomato'>Estructura de nombre de archivos:</font>\n",
    "\n",
    "* Código del caso de uso, por ejemplo \"CU_04\"\n",
    "* Número del proceso que lo genera, por ejemplo \"_05\".\n",
    "* Número de la tarea que lo genera, por ejemplo \"_01\"\n",
    "* En caso de generarse varios ficheros en la misma tarea, llevarán _01 _02 ... después\n",
    "* Nombre: identificativo de \"properData\", por ejemplo \"_zonasgeo\"\n",
    "* Extensión del archivo\n",
    "\n",
    "Ejemplo: \"CU_04_05_01_01_zonasgeo.json, primer fichero que se genera en la tarea 01 del proceso 05 (Data Collection) para el caso de uso 04 (vacunas)\n",
    "\n",
    "Importante mantener los guiones bajos antes de proceso, tarea, archivo y nombre"
   ]
  },
  {
   "attachments": {},
   "cell_type": "markdown",
   "metadata": {},
   "source": [
    "### Proceso 05"
   ]
  },
  {
   "cell_type": "code",
   "execution_count": 27,
   "metadata": {
    "ExecuteTime": {
     "end_time": "2020-12-25T17:59:27.022001Z",
     "start_time": "2020-12-25T17:59:15.986986Z"
    },
    "scrolled": false,
    "vscode": {
     "languageId": "r"
    }
   },
   "outputs": [],
   "source": [
    "caso <- \"CU_45\"\n",
    "proceso <- '_05'\n",
    "tarea <- \"_02\"\n",
    "archivo <- \"\"\n",
    "proper <- \"_valoracion_sim\"\n",
    "extension <- \".csv\""
   ]
  },
  {
   "attachments": {},
   "cell_type": "markdown",
   "metadata": {},
   "source": [
    "<font color='tomato'><b> OPCION A:</b> Uso del paquete \"tcltk\" para mayor comodidad</font>\n",
    "\n",
    "* Buscar carpeta, escribir nombre de archivo SIN extensión (se especifica en el código)\n",
    "* Especificar sufijo2 si es necesario\n",
    "* Cambiar datos por datos_xx si es necesario"
   ]
  },
  {
   "cell_type": "code",
   "execution_count": null,
   "metadata": {
    "ExecuteTime": {
     "end_time": "2020-12-25T17:59:27.022001Z",
     "start_time": "2020-12-25T17:59:15.986986Z"
    },
    "scrolled": false,
    "vscode": {
     "languageId": "r"
    }
   },
   "outputs": [],
   "source": [
    "# file_save <- paste0(caso, proceso, tarea, tcltk::tkgetSaveFile(), proper, extension) \n",
    "# path_out <- paste0(oPath, file_save)\n",
    "# write_csv(data_to_save, path_out)\n",
    "\n",
    "# cat('File saved as: ')\n",
    "# path_out"
   ]
  },
  {
   "attachments": {},
   "cell_type": "markdown",
   "metadata": {},
   "source": [
    "<font color='tomato'><b> OPCION B:</b> Especificar el nombre de archivo</font>"
   ]
  },
  {
   "attachments": {},
   "cell_type": "markdown",
   "metadata": {},
   "source": [
    "- Los ficheros de salida del proceso van siempre a Data/Output/.  "
   ]
  },
  {
   "cell_type": "code",
   "execution_count": 28,
   "metadata": {
    "ExecuteTime": {
     "end_time": "2021-01-26T18:40:31.258294Z",
     "start_time": "2021-01-26T18:40:26.061847Z"
    },
    "slideshow": {
     "slide_type": "subslide"
    },
    "vscode": {
     "languageId": "r"
    }
   },
   "outputs": [
    {
     "name": "stdout",
     "output_type": "stream",
     "text": [
      "File saved as: "
     ]
    },
    {
     "data": {
      "text/html": [
       "'Data/Output/CU_45_05_02_valoracion_sim.csv'"
      ],
      "text/latex": [
       "'Data/Output/CU\\_45\\_05\\_02\\_valoracion\\_sim.csv'"
      ],
      "text/markdown": [
       "'Data/Output/CU_45_05_02_valoracion_sim.csv'"
      ],
      "text/plain": [
       "[1] \"Data/Output/CU_45_05_02_valoracion_sim.csv\""
      ]
     },
     "metadata": {},
     "output_type": "display_data"
    }
   ],
   "source": [
    "file_save <- paste0(caso, proceso, tarea, archivo, proper, extension) \n",
    "path_out <- paste0(oPath, file_save)\n",
    "write_csv(data_to_save, path_out)\n",
    "\n",
    "cat('File saved as: ')\n",
    "path_out"
   ]
  },
  {
   "attachments": {},
   "cell_type": "markdown",
   "metadata": {},
   "source": [
    "#### Copia del fichero a Input\n",
    "\n",
    "Si el archivo se va a usar en otros notebooks, copiar a la carpeta Input"
   ]
  },
  {
   "cell_type": "code",
   "execution_count": 29,
   "metadata": {
    "vscode": {
     "languageId": "r"
    }
   },
   "outputs": [
    {
     "data": {
      "text/html": [
       "TRUE"
      ],
      "text/latex": [
       "TRUE"
      ],
      "text/markdown": [
       "TRUE"
      ],
      "text/plain": [
       "[1] TRUE"
      ]
     },
     "metadata": {},
     "output_type": "display_data"
    }
   ],
   "source": [
    "path_in <- paste0(iPath, file_save)\n",
    "file.copy(path_out, path_in, overwrite = TRUE)"
   ]
  },
  {
   "cell_type": "markdown",
   "metadata": {},
   "source": [
    "## <font color=' #2874a6 '>Main Conclusions</font>"
   ]
  },
  {
   "cell_type": "markdown",
   "metadata": {
    "slideshow": {
     "slide_type": "slide"
    }
   },
   "source": [
    "<font color='steelblue'>List and describe the general conclusions of the analysis carried out​.</font>"
   ]
  },
  {
   "attachments": {},
   "cell_type": "markdown",
   "metadata": {},
   "source": [
    "### Prerequisites\n",
    "\n",
    "Para que funcione este código se necesita:\n",
    "\n",
    "* Las rutas de archivos `Data/Input` y `Data/Output` deben existir (relativas a la ruta del _notebook_)\n",
    "* El paquete tcltk instalado para seleccionar archivos interactivamente. No se necesita en producción.\n",
    "* ---------------->\n"
   ]
  },
  {
   "cell_type": "code",
   "execution_count": null,
   "metadata": {
    "vscode": {
     "languageId": "r"
    }
   },
   "outputs": [],
   "source": [
    "cat(\"Los paquetes\", paste(p[-1], collapse = \", \"), \"deben estar instalados.\")"
   ]
  },
  {
   "attachments": {},
   "cell_type": "markdown",
   "metadata": {},
   "source": [
    "### Configuration Management\n",
    "\n",
    "This notebook has been tested with the following versions of R and packages. It cannot be assured that later versions work in the same way:\n",
    "* R 4.2.2\n",
    "* tcltk 4.2.2\n",
    "* xxx x.x.x"
   ]
  },
  {
   "cell_type": "code",
   "execution_count": null,
   "metadata": {
    "vscode": {
     "languageId": "r"
    }
   },
   "outputs": [],
   "source": [
    "v <- sapply(p, function(x){\n",
    "    as.character(packageVersion(x))})\n",
    "cat(\"*\", paste(p, unlist(v), collapse = \"\\n* \"))\n"
   ]
  },
  {
   "attachments": {},
   "cell_type": "markdown",
   "metadata": {},
   "source": [
    "### Data structures"
   ]
  },
  {
   "attachments": {},
   "cell_type": "markdown",
   "metadata": {},
   "source": [
    "#### Objeto `data`\n",
    "\n",
    "- Los datos de origen \n",
    "- Hay xxx filas con las variables:\n",
    "    * xxx\n"
   ]
  },
  {
   "cell_type": "code",
   "execution_count": null,
   "metadata": {
    "vscode": {
     "languageId": "r"
    }
   },
   "outputs": [],
   "source": [
    "cat(\"- Hay\", nrow(data_to_save), \"filas con información de las siguientes variables:\\n\\t*\", paste(colnames(data_to_save), collapse = \"\\n\\t* \"))"
   ]
  },
  {
   "attachments": {},
   "cell_type": "markdown",
   "metadata": {},
   "source": [
    "#### Observaciones generales sobre los datos\n",
    "\n",
    "* xxx"
   ]
  },
  {
   "attachments": {},
   "cell_type": "markdown",
   "metadata": {},
   "source": [
    "### Consideraciones para despliegue en piloto\n",
    "\n",
    "* xxx"
   ]
  },
  {
   "attachments": {},
   "cell_type": "markdown",
   "metadata": {},
   "source": [
    "### Consideraciones para despliegue en producción\n",
    "\n",
    "* Se deben crear los procesos ETL en producción necesarios para que los datos de entrada estén actualizados"
   ]
  },
  {
   "cell_type": "markdown",
   "metadata": {},
   "source": [
    "## <font color=' #2874a6 '>Main Actions</font>"
   ]
  },
  {
   "cell_type": "markdown",
   "metadata": {},
   "source": [
    "#### <font color=' #2874a6 '>Acciones done</font>"
   ]
  },
  {
   "cell_type": "markdown",
   "metadata": {
    "slideshow": {
     "slide_type": "slide"
    }
   },
   "source": [
    "<font color='steelblue'>Indicate the actions that have been carried out in this process</font>"
   ]
  },
  {
   "attachments": {},
   "cell_type": "markdown",
   "metadata": {},
   "source": [
    "- Se han xxxx"
   ]
  },
  {
   "cell_type": "markdown",
   "metadata": {},
   "source": [
    "#### <font color=' #2874a6 '>Acctions to perform</font>"
   ]
  },
  {
   "cell_type": "markdown",
   "metadata": {
    "slideshow": {
     "slide_type": "slide"
    }
   },
   "source": [
    "<font color='steelblue'>Indicate the actions that must be carried out in subsequent processes</font>"
   ]
  },
  {
   "attachments": {},
   "cell_type": "markdown",
   "metadata": {},
   "source": [
    "- Se debe xxxx"
   ]
  },
  {
   "attachments": {},
   "cell_type": "markdown",
   "metadata": {},
   "source": [
    "## <font color='RED'>CODE TO DEPLOY (PILOT)</font>\n",
    "\n",
    "A continuación se incluirá el código que deba ser llevado a despliegue para producción, dado que se entiende efectúa operaciones necesarias sobre los datos en la ejecución del prototipo"
   ]
  },
  {
   "attachments": {},
   "cell_type": "markdown",
   "metadata": {},
   "source": [
    "<font color=' red '><b>Description</b></font>\n",
    "\n",
    "- No hay nada que desplegar en el piloto, ya que estos datos son estáticos o en todo caso cambian con muy poca frecuencia, altamente improbable durante el proyecto.\n"
   ]
  },
  {
   "attachments": {},
   "cell_type": "markdown",
   "metadata": {},
   "source": [
    "<font color=' red '><b>CODE</b></font>"
   ]
  },
  {
   "cell_type": "code",
   "execution_count": null,
   "metadata": {
    "vscode": {
     "languageId": "r"
    }
   },
   "outputs": [],
   "source": [
    "# incluir código"
   ]
  }
 ],
 "metadata": {
  "anaconda-cloud": {},
  "celltoolbar": "Slideshow",
  "hide_input": false,
  "kernelspec": {
   "display_name": "R",
   "language": "R",
   "name": "ir"
  },
  "language_info": {
   "codemirror_mode": "r",
   "file_extension": ".r",
   "mimetype": "text/x-r-source",
   "name": "R",
   "pygments_lexer": "r",
   "version": "4.2.2"
  },
  "latex_envs": {
   "LaTeX_envs_menu_present": true,
   "autoclose": false,
   "autocomplete": true,
   "bibliofile": "biblio.bib",
   "cite_by": "apalike",
   "current_citInitial": 1,
   "eqLabelWithNumbers": true,
   "eqNumInitial": 1,
   "hotkeys": {
    "equation": "Ctrl-E",
    "itemize": "Ctrl-I"
   },
   "labels_anchors": false,
   "latex_user_defs": false,
   "report_style_numbering": true,
   "user_envs_cfg": false
  },
  "toc": {
   "base_numbering": 1,
   "nav_menu": {
    "height": "11.6px",
    "width": "160px"
   },
   "number_sections": false,
   "sideBar": true,
   "skip_h1_title": true,
   "title_cell": "Table of Contents",
   "title_sidebar": "Contents",
   "toc_cell": true,
   "toc_position": {
    "height": "calc(100% - 180px)",
    "left": "10px",
    "top": "150px",
    "width": "209.2px"
   },
   "toc_section_display": true,
   "toc_window_display": true
  },
  "varInspector": {
   "cols": {
    "lenName": 16,
    "lenType": 16,
    "lenVar": 40
   },
   "kernels_config": {
    "python": {
     "delete_cmd_postfix": "",
     "delete_cmd_prefix": "del ",
     "library": "var_list.py",
     "varRefreshCmd": "print(var_dic_list())"
    },
    "r": {
     "delete_cmd_postfix": ") ",
     "delete_cmd_prefix": "rm(",
     "library": "var_list.r",
     "varRefreshCmd": "cat(var_dic_list()) "
    }
   },
   "types_to_exclude": [
    "module",
    "function",
    "builtin_function_or_method",
    "instance",
    "_Feature"
   ],
   "window_display": false
  }
 },
 "nbformat": 4,
 "nbformat_minor": 1
}
