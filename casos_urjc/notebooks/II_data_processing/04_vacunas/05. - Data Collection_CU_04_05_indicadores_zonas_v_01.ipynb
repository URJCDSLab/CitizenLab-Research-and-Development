{
 "cells": [
  {
   "cell_type": "markdown",
   "metadata": {
    "slideshow": {
     "slide_type": "slide"
    }
   },
   "source": [
    "<img src=\".\\images\\Logo.png\" width=150 align=\"left\" /> <img src=\".\\images\\Logo2.jpg\" width=450 align=\"right\" />"
   ]
  },
  {
   "attachments": {},
   "cell_type": "markdown",
   "metadata": {
    "slideshow": {
     "slide_type": "slide"
    }
   },
   "source": [
    "\n",
    "# <center><font color= #1e8449 > <b>CU04_Optimización de vacunas</font></center>"
   ]
  },
  {
   "cell_type": "markdown",
   "metadata": {
    "slideshow": {
     "slide_type": "slide"
    }
   },
   "source": [
    "<font color='steelblue'><b>Citizenlab Data Science Methodology > II - Data Processing Domain </font>\n",
    "***\n",
    "> # <font color='steelblue'> <b>05.- Data Collection</font>"
   ]
  },
  {
   "cell_type": "markdown",
   "metadata": {
    "slideshow": {
     "slide_type": "slide"
    }
   },
   "source": [
    "<font color='steelblue'>Data Collection is the process to obtain and generate (if required) necessary data to model the problem.</font>"
   ]
  },
  {
   "attachments": {},
   "cell_type": "markdown",
   "metadata": {},
   "source": [
    "### 05. Indicadores por zona de salud"
   ]
  },
  {
   "cell_type": "markdown",
   "metadata": {
    "toc": true
   },
   "source": [
    "<h1>Table of Contents<span class=\"tocSkip\"></span></h1>\n",
    "<div class=\"toc\"><ul class=\"toc-item\"><li><span><a href=\"#Settings\" data-toc-modified-id=\"Settings-1\"><font color=\"green\">Settings</font></a></span></li><li><span><a href=\"#Data-Load\" data-toc-modified-id=\"Data-Load-2\"><font color=\"green\">Data Load</font></a></span></li><li><span><a href=\"#ETL-Processes\" data-toc-modified-id=\"ETL-Processes-3\">ETL Processes</a></span><ul class=\"toc-item\"><li><span><a href=\"#Import-data-from:-CSV,-Excel,-Tab,-JSON,-SQL,-and-Parquet-files\" data-toc-modified-id=\"Import-data-from:-CSV,-Excel,-Tab,-JSON,-SQL,-and-Parquet-files-3.1\">Import data from: CSV, Excel, Tab, JSON, SQL, and Parquet files</a></span></li></ul></li><li><span><a href=\"#Synthetic-Data-Generation\" data-toc-modified-id=\"Synthetic-Data-Generation-4\">Synthetic Data Generation</a></span></li><li><span><a href=\"#Fake-Data-Generation\" data-toc-modified-id=\"Fake-Data-Generation-5\">Fake Data Generation</a></span></li><li><span><a href=\"#Open-Data\" data-toc-modified-id=\"Open-Data-6\">Open Data</a></span></li><li><span><a href=\"#Data-Save\" data-toc-modified-id=\"Data-Save-7\"><font color=\"green\">Data Save</font></a></span></li><li><span><a href=\"#Main-Conclusions\" data-toc-modified-id=\"Main-Conclusions-8\"><font color=\" #2874a6 \">Main Conclusions</font></a></span></li><li><span><a href=\"#Main-Actions\" data-toc-modified-id=\"Main-Actions-9\"><font color=\" #2874a6 \">Main Actions</font></a></span><ul class=\"toc-item\"><li><ul class=\"toc-item\"><li><span><a href=\"#Acciones-done\" data-toc-modified-id=\"Acciones-done-9.0.1\"><font color=\" #2874a6 \">Acciones done</font></a></span></li><li><span><a href=\"#Acctions-to-perform\" data-toc-modified-id=\"Acctions-to-perform-9.0.2\"><font color=\" #2874a6 \">Acctions to perform</font></a></span></li></ul></li></ul></li></ul></div>"
   ]
  },
  {
   "cell_type": "markdown",
   "metadata": {
    "slideshow": {
     "slide_type": "slide"
    }
   },
   "source": [
    "## <font color='green'>Settings</font>"
   ]
  },
  {
   "attachments": {},
   "cell_type": "markdown",
   "metadata": {},
   "source": [
    "### Packages to use\n",
    "\n",
    "- {readr} from _tidyverse_ for reading and writing csv files\n",
    "- {tcltk} for selecting files and paths (if needed)\n",
    "- {dplyr} for data exploration\n",
    "- {tidyr} for missing data imputation\n",
    "- {readxl} for reading excel files\n",
    "- {stringr} for manipulating strings"
   ]
  },
  {
   "cell_type": "code",
   "execution_count": 1,
   "metadata": {
    "ExecuteTime": {
     "end_time": "2021-12-03T15:23:33.762841Z",
     "start_time": "2021-12-03T15:23:08.580267Z"
    },
    "slideshow": {
     "slide_type": "subslide"
    },
    "vscode": {
     "languageId": "r"
    }
   },
   "outputs": [
    {
     "name": "stderr",
     "output_type": "stream",
     "text": [
      "\n",
      "Attaching package: ‘dplyr’\n",
      "\n",
      "\n",
      "The following objects are masked from ‘package:stats’:\n",
      "\n",
      "    filter, lag\n",
      "\n",
      "\n",
      "The following objects are masked from ‘package:base’:\n",
      "\n",
      "    intersect, setdiff, setequal, union\n",
      "\n",
      "\n"
     ]
    }
   ],
   "source": [
    "library(readr)\n",
    "library(tcltk)\n",
    "library(dplyr)\n",
    "library(tidyr)"
   ]
  },
  {
   "attachments": {},
   "cell_type": "markdown",
   "metadata": {},
   "source": [
    "### Paths"
   ]
  },
  {
   "cell_type": "code",
   "execution_count": 2,
   "metadata": {
    "vscode": {
     "languageId": "r"
    }
   },
   "outputs": [],
   "source": [
    "iPath <- \"Data/Input/\"\n",
    "oPath <- \"Data/Output/\""
   ]
  },
  {
   "attachments": {},
   "cell_type": "markdown",
   "metadata": {
    "slideshow": {
     "slide_type": "slide"
    }
   },
   "source": [
    "## <font color='green'>Data Load</font>\n",
    "\n",
    "If there are more than one input file, make as many sections as files to import."
   ]
  },
  {
   "attachments": {},
   "cell_type": "markdown",
   "metadata": {},
   "source": [
    "#### 1. Indicadores por sección censal"
   ]
  },
  {
   "attachments": {},
   "cell_type": "markdown",
   "metadata": {},
   "source": [
    "<font color='tomato'><b> OPCION A:</b> Seleccionar fichero en ventana para mayor comodidad</font> "
   ]
  },
  {
   "attachments": {},
   "cell_type": "markdown",
   "metadata": {},
   "source": [
    "Data load using the {tcltk} package. Ucomment the line if not using this option"
   ]
  },
  {
   "cell_type": "code",
   "execution_count": 3,
   "metadata": {
    "vscode": {
     "languageId": "r"
    }
   },
   "outputs": [],
   "source": [
    "# file_data_01 <- tcltk::tk_choose.files(multi = FALSE)"
   ]
  },
  {
   "attachments": {},
   "cell_type": "markdown",
   "metadata": {},
   "source": [
    "<font color='tomato'><b> OPCION B:</b> Especificar el nombre de archivo</font>\n",
    "\n",
    "Instrucciones\n",
    "- Los ficheros de entrada del proceso están siempre en Data/Input/.   \n",
    "- Si hay más de un fichero de entrada, se crean tantos objetos iFile_xx y file_data_xx como ficheros de entrada (xx número correlativo con dos dígitos, rellenar con ceros a la izquierda)"
   ]
  },
  {
   "cell_type": "code",
   "execution_count": 4,
   "metadata": {
    "vscode": {
     "languageId": "r"
    }
   },
   "outputs": [
    {
     "name": "stdout",
     "output_type": "stream",
     "text": [
      "Se leerán datos del archivo:  Data/Input/CU_04_05_03_01_indicadores_secciones.csv"
     ]
    }
   ],
   "source": [
    "iFile_01 <- \"CU_04_05_03_01_indicadores_secciones.csv\"\n",
    "file_data_01 <- paste0(iPath, iFile_01)\n",
    "\n",
    "if(file.exists(file_data_01)){\n",
    "    cat(\"Se leerán datos del archivo: \", file_data_01)\n",
    "} else{\n",
    "    warning(\"Cuidado: el archivo no existe.\")\n",
    "}\n"
   ]
  },
  {
   "attachments": {},
   "cell_type": "markdown",
   "metadata": {},
   "source": [
    "#### Data file to dataframe"
   ]
  },
  {
   "cell_type": "code",
   "execution_count": 5,
   "metadata": {
    "vscode": {
     "languageId": "r"
    }
   },
   "outputs": [
    {
     "name": "stderr",
     "output_type": "stream",
     "text": [
      "\u001b[1mRows: \u001b[22m\u001b[34m4417\u001b[39m \u001b[1mColumns: \u001b[22m\u001b[34m20\u001b[39m\n",
      "\u001b[36m──\u001b[39m \u001b[1mColumn specification\u001b[22m \u001b[36m────────────────────────────────────────────────────────\u001b[39m\n",
      "\u001b[1mDelimiter:\u001b[22m \",\"\n",
      "\u001b[31mchr\u001b[39m  (3): CMUN, dist, secc\n",
      "\u001b[32mdbl\u001b[39m (17): ccaa, CPRO, t1_1, t2_1, t2_2, t3_1, t4_1, t4_2, t4_3, t5_1, t6_1, ...\n",
      "\n",
      "\u001b[36mℹ\u001b[39m Use `spec()` to retrieve the full column specification for this data.\n",
      "\u001b[36mℹ\u001b[39m Specify the column types or set `show_col_types = FALSE` to quiet this message.\n"
     ]
    }
   ],
   "source": [
    "data_01_indicadores <- read_csv(file_data_01)"
   ]
  },
  {
   "attachments": {},
   "cell_type": "markdown",
   "metadata": {},
   "source": [
    "Estructura de los datos:"
   ]
  },
  {
   "cell_type": "code",
   "execution_count": 6,
   "metadata": {
    "vscode": {
     "languageId": "r"
    }
   },
   "outputs": [
    {
     "name": "stdout",
     "output_type": "stream",
     "text": [
      "Rows: 4,417\n",
      "Columns: 20\n",
      "$ ccaa  \u001b[3m\u001b[90m<dbl>\u001b[39m\u001b[23m 13, 13, 13, 13, 13, 13, 13, 13, 13, 13, 13, 13, 13, 13, 13, 13, …\n",
      "$ CPRO  \u001b[3m\u001b[90m<dbl>\u001b[39m\u001b[23m 28, 28, 28, 28, 28, 28, 28, 28, 28, 28, 28, 28, 28, 28, 28, 28, …\n",
      "$ CMUN  \u001b[3m\u001b[90m<chr>\u001b[39m\u001b[23m \"001\", \"002\", \"002\", \"003\", \"004\", \"004\", \"004\", \"004\", \"005\", \"…\n",
      "$ dist  \u001b[3m\u001b[90m<chr>\u001b[39m\u001b[23m \"01\", \"01\", \"01\", \"01\", \"01\", \"01\", \"01\", \"01\", \"01\", \"01\", \"01\"…\n",
      "$ secc  \u001b[3m\u001b[90m<chr>\u001b[39m\u001b[23m \"001\", \"001\", \"002\", \"001\", \"001\", \"002\", \"003\", \"004\", \"001\", \"…\n",
      "$ t1_1  \u001b[3m\u001b[90m<dbl>\u001b[39m\u001b[23m 55, 2358, 2435, 248, 2886, 3376, 2161, 1523, 1648, 1015, 1728, 1…\n",
      "$ t2_1  \u001b[3m\u001b[90m<dbl>\u001b[39m\u001b[23m NA, 0.4724, 0.4830, 0.3952, 0.5135, 0.4793, 0.5016, 0.5279, 0.54…\n",
      "$ t2_2  \u001b[3m\u001b[90m<dbl>\u001b[39m\u001b[23m NA, 0.5276, 0.5170, 0.6048, 0.4865, 0.5207, 0.4984, 0.4721, 0.45…\n",
      "$ t3_1  \u001b[3m\u001b[90m<dbl>\u001b[39m\u001b[23m NA, 40.5161, 38.3339, 47.4597, 44.4099, 40.6810, 38.0088, 42.537…\n",
      "$ t4_1  \u001b[3m\u001b[90m<dbl>\u001b[39m\u001b[23m NA, 0.1425, 0.1959, 0.1371, 0.1611, 0.1739, 0.2230, 0.1753, 0.11…\n",
      "$ t4_2  \u001b[3m\u001b[90m<dbl>\u001b[39m\u001b[23m NA, 0.7443, 0.7002, 0.6573, 0.6067, 0.6727, 0.6395, 0.6448, 0.69…\n",
      "$ t4_3  \u001b[3m\u001b[90m<dbl>\u001b[39m\u001b[23m NA, 0.1132, 0.1039, 0.2056, 0.2322, 0.1534, 0.1374, 0.1799, 0.18…\n",
      "$ t5_1  \u001b[3m\u001b[90m<dbl>\u001b[39m\u001b[23m NA, 0.1569, 0.1544, 0.1129, 0.1639, 0.1440, 0.1749, 0.1326, 0.16…\n",
      "$ t6_1  \u001b[3m\u001b[90m<dbl>\u001b[39m\u001b[23m NA, 0.1968, 0.1951, 0.1411, 0.2128, 0.1730, 0.2138, 0.1589, 0.22…\n",
      "$ t7_1  \u001b[3m\u001b[90m<dbl>\u001b[39m\u001b[23m NA, 0.4016, 0.4244, 0.1542, 0.1470, 0.1596, 0.1668, 0.1584, 0.09…\n",
      "$ t8_1  \u001b[3m\u001b[90m<dbl>\u001b[39m\u001b[23m NA, 0.3971, 0.4224, 0.1449, 0.1409, 0.1506, 0.1602, 0.1545, 0.09…\n",
      "$ t9_1  \u001b[3m\u001b[90m<dbl>\u001b[39m\u001b[23m NA, 0.4377, 0.4438, 0.5280, 0.2602, 0.3234, 0.2859, 0.3057, 0.51…\n",
      "$ t10_1 \u001b[3m\u001b[90m<dbl>\u001b[39m\u001b[23m NA, 0.0912, 0.1226, 0.0932, 0.1814, 0.1478, 0.1658, 0.1824, 0.10…\n",
      "$ t11_1 \u001b[3m\u001b[90m<dbl>\u001b[39m\u001b[23m NA, 0.6063, 0.5955, 0.5000, 0.4213, 0.5170, 0.4943, 0.4745, 0.52…\n",
      "$ t12_1 \u001b[3m\u001b[90m<dbl>\u001b[39m\u001b[23m NA, 0.6672, 0.6788, 0.5514, 0.5147, 0.6067, 0.5926, 0.5804, 0.58…\n"
     ]
    }
   ],
   "source": [
    "glimpse(data_01_indicadores)"
   ]
  },
  {
   "attachments": {},
   "cell_type": "markdown",
   "metadata": {},
   "source": [
    "Muestra de primeros datos:"
   ]
  },
  {
   "cell_type": "code",
   "execution_count": 7,
   "metadata": {
    "vscode": {
     "languageId": "r"
    }
   },
   "outputs": [
    {
     "data": {
      "text/html": [
       "<table class=\"dataframe\">\n",
       "<caption>A spec_tbl_df: 5 × 20</caption>\n",
       "<thead>\n",
       "\t<tr><th scope=col>ccaa</th><th scope=col>CPRO</th><th scope=col>CMUN</th><th scope=col>dist</th><th scope=col>secc</th><th scope=col>t1_1</th><th scope=col>t2_1</th><th scope=col>t2_2</th><th scope=col>t3_1</th><th scope=col>t4_1</th><th scope=col>t4_2</th><th scope=col>t4_3</th><th scope=col>t5_1</th><th scope=col>t6_1</th><th scope=col>t7_1</th><th scope=col>t8_1</th><th scope=col>t9_1</th><th scope=col>t10_1</th><th scope=col>t11_1</th><th scope=col>t12_1</th></tr>\n",
       "\t<tr><th scope=col>&lt;dbl&gt;</th><th scope=col>&lt;dbl&gt;</th><th scope=col>&lt;chr&gt;</th><th scope=col>&lt;chr&gt;</th><th scope=col>&lt;chr&gt;</th><th scope=col>&lt;dbl&gt;</th><th scope=col>&lt;dbl&gt;</th><th scope=col>&lt;dbl&gt;</th><th scope=col>&lt;dbl&gt;</th><th scope=col>&lt;dbl&gt;</th><th scope=col>&lt;dbl&gt;</th><th scope=col>&lt;dbl&gt;</th><th scope=col>&lt;dbl&gt;</th><th scope=col>&lt;dbl&gt;</th><th scope=col>&lt;dbl&gt;</th><th scope=col>&lt;dbl&gt;</th><th scope=col>&lt;dbl&gt;</th><th scope=col>&lt;dbl&gt;</th><th scope=col>&lt;dbl&gt;</th><th scope=col>&lt;dbl&gt;</th></tr>\n",
       "</thead>\n",
       "<tbody>\n",
       "\t<tr><td>13</td><td>28</td><td>001</td><td>01</td><td>001</td><td>  55</td><td>    NA</td><td>    NA</td><td>     NA</td><td>    NA</td><td>    NA</td><td>    NA</td><td>    NA</td><td>    NA</td><td>    NA</td><td>    NA</td><td>    NA</td><td>    NA</td><td>    NA</td><td>    NA</td></tr>\n",
       "\t<tr><td>13</td><td>28</td><td>002</td><td>01</td><td>001</td><td>2358</td><td>0.4724</td><td>0.5276</td><td>40.5161</td><td>0.1425</td><td>0.7443</td><td>0.1132</td><td>0.1569</td><td>0.1968</td><td>0.4016</td><td>0.3971</td><td>0.4377</td><td>0.0912</td><td>0.6063</td><td>0.6672</td></tr>\n",
       "\t<tr><td>13</td><td>28</td><td>002</td><td>01</td><td>002</td><td>2435</td><td>0.4830</td><td>0.5170</td><td>38.3339</td><td>0.1959</td><td>0.7002</td><td>0.1039</td><td>0.1544</td><td>0.1951</td><td>0.4244</td><td>0.4224</td><td>0.4438</td><td>0.1226</td><td>0.5955</td><td>0.6788</td></tr>\n",
       "\t<tr><td>13</td><td>28</td><td>003</td><td>01</td><td>001</td><td> 248</td><td>0.3952</td><td>0.6048</td><td>47.4597</td><td>0.1371</td><td>0.6573</td><td>0.2056</td><td>0.1129</td><td>0.1411</td><td>0.1542</td><td>0.1449</td><td>0.5280</td><td>0.0932</td><td>0.5000</td><td>0.5514</td></tr>\n",
       "\t<tr><td>13</td><td>28</td><td>004</td><td>01</td><td>001</td><td>2886</td><td>0.5135</td><td>0.4865</td><td>44.4099</td><td>0.1611</td><td>0.6067</td><td>0.2322</td><td>0.1639</td><td>0.2128</td><td>0.1470</td><td>0.1409</td><td>0.2602</td><td>0.1814</td><td>0.4213</td><td>0.5147</td></tr>\n",
       "</tbody>\n",
       "</table>\n"
      ],
      "text/latex": [
       "A spec\\_tbl\\_df: 5 × 20\n",
       "\\begin{tabular}{llllllllllllllllllll}\n",
       " ccaa & CPRO & CMUN & dist & secc & t1\\_1 & t2\\_1 & t2\\_2 & t3\\_1 & t4\\_1 & t4\\_2 & t4\\_3 & t5\\_1 & t6\\_1 & t7\\_1 & t8\\_1 & t9\\_1 & t10\\_1 & t11\\_1 & t12\\_1\\\\\n",
       " <dbl> & <dbl> & <chr> & <chr> & <chr> & <dbl> & <dbl> & <dbl> & <dbl> & <dbl> & <dbl> & <dbl> & <dbl> & <dbl> & <dbl> & <dbl> & <dbl> & <dbl> & <dbl> & <dbl>\\\\\n",
       "\\hline\n",
       "\t 13 & 28 & 001 & 01 & 001 &   55 &     NA &     NA &      NA &     NA &     NA &     NA &     NA &     NA &     NA &     NA &     NA &     NA &     NA &     NA\\\\\n",
       "\t 13 & 28 & 002 & 01 & 001 & 2358 & 0.4724 & 0.5276 & 40.5161 & 0.1425 & 0.7443 & 0.1132 & 0.1569 & 0.1968 & 0.4016 & 0.3971 & 0.4377 & 0.0912 & 0.6063 & 0.6672\\\\\n",
       "\t 13 & 28 & 002 & 01 & 002 & 2435 & 0.4830 & 0.5170 & 38.3339 & 0.1959 & 0.7002 & 0.1039 & 0.1544 & 0.1951 & 0.4244 & 0.4224 & 0.4438 & 0.1226 & 0.5955 & 0.6788\\\\\n",
       "\t 13 & 28 & 003 & 01 & 001 &  248 & 0.3952 & 0.6048 & 47.4597 & 0.1371 & 0.6573 & 0.2056 & 0.1129 & 0.1411 & 0.1542 & 0.1449 & 0.5280 & 0.0932 & 0.5000 & 0.5514\\\\\n",
       "\t 13 & 28 & 004 & 01 & 001 & 2886 & 0.5135 & 0.4865 & 44.4099 & 0.1611 & 0.6067 & 0.2322 & 0.1639 & 0.2128 & 0.1470 & 0.1409 & 0.2602 & 0.1814 & 0.4213 & 0.5147\\\\\n",
       "\\end{tabular}\n"
      ],
      "text/markdown": [
       "\n",
       "A spec_tbl_df: 5 × 20\n",
       "\n",
       "| ccaa &lt;dbl&gt; | CPRO &lt;dbl&gt; | CMUN &lt;chr&gt; | dist &lt;chr&gt; | secc &lt;chr&gt; | t1_1 &lt;dbl&gt; | t2_1 &lt;dbl&gt; | t2_2 &lt;dbl&gt; | t3_1 &lt;dbl&gt; | t4_1 &lt;dbl&gt; | t4_2 &lt;dbl&gt; | t4_3 &lt;dbl&gt; | t5_1 &lt;dbl&gt; | t6_1 &lt;dbl&gt; | t7_1 &lt;dbl&gt; | t8_1 &lt;dbl&gt; | t9_1 &lt;dbl&gt; | t10_1 &lt;dbl&gt; | t11_1 &lt;dbl&gt; | t12_1 &lt;dbl&gt; |\n",
       "|---|---|---|---|---|---|---|---|---|---|---|---|---|---|---|---|---|---|---|---|\n",
       "| 13 | 28 | 001 | 01 | 001 |   55 |     NA |     NA |      NA |     NA |     NA |     NA |     NA |     NA |     NA |     NA |     NA |     NA |     NA |     NA |\n",
       "| 13 | 28 | 002 | 01 | 001 | 2358 | 0.4724 | 0.5276 | 40.5161 | 0.1425 | 0.7443 | 0.1132 | 0.1569 | 0.1968 | 0.4016 | 0.3971 | 0.4377 | 0.0912 | 0.6063 | 0.6672 |\n",
       "| 13 | 28 | 002 | 01 | 002 | 2435 | 0.4830 | 0.5170 | 38.3339 | 0.1959 | 0.7002 | 0.1039 | 0.1544 | 0.1951 | 0.4244 | 0.4224 | 0.4438 | 0.1226 | 0.5955 | 0.6788 |\n",
       "| 13 | 28 | 003 | 01 | 001 |  248 | 0.3952 | 0.6048 | 47.4597 | 0.1371 | 0.6573 | 0.2056 | 0.1129 | 0.1411 | 0.1542 | 0.1449 | 0.5280 | 0.0932 | 0.5000 | 0.5514 |\n",
       "| 13 | 28 | 004 | 01 | 001 | 2886 | 0.5135 | 0.4865 | 44.4099 | 0.1611 | 0.6067 | 0.2322 | 0.1639 | 0.2128 | 0.1470 | 0.1409 | 0.2602 | 0.1814 | 0.4213 | 0.5147 |\n",
       "\n"
      ],
      "text/plain": [
       "  ccaa CPRO CMUN dist secc t1_1 t2_1   t2_2   t3_1    t4_1   t4_2   t4_3  \n",
       "1 13   28   001  01   001    55     NA     NA      NA     NA     NA     NA\n",
       "2 13   28   002  01   001  2358 0.4724 0.5276 40.5161 0.1425 0.7443 0.1132\n",
       "3 13   28   002  01   002  2435 0.4830 0.5170 38.3339 0.1959 0.7002 0.1039\n",
       "4 13   28   003  01   001   248 0.3952 0.6048 47.4597 0.1371 0.6573 0.2056\n",
       "5 13   28   004  01   001  2886 0.5135 0.4865 44.4099 0.1611 0.6067 0.2322\n",
       "  t5_1   t6_1   t7_1   t8_1   t9_1   t10_1  t11_1  t12_1 \n",
       "1     NA     NA     NA     NA     NA     NA     NA     NA\n",
       "2 0.1569 0.1968 0.4016 0.3971 0.4377 0.0912 0.6063 0.6672\n",
       "3 0.1544 0.1951 0.4244 0.4224 0.4438 0.1226 0.5955 0.6788\n",
       "4 0.1129 0.1411 0.1542 0.1449 0.5280 0.0932 0.5000 0.5514\n",
       "5 0.1639 0.2128 0.1470 0.1409 0.2602 0.1814 0.4213 0.5147"
      ]
     },
     "metadata": {},
     "output_type": "display_data"
    }
   ],
   "source": [
    "slice_head(data_01_indicadores, n = 5)"
   ]
  },
  {
   "attachments": {},
   "cell_type": "markdown",
   "metadata": {},
   "source": [
    "#### 2. Correspondencia secciones censales y zonas sanitarias"
   ]
  },
  {
   "attachments": {},
   "cell_type": "markdown",
   "metadata": {},
   "source": [
    "<font color='tomato'><b> OPCION A:</b> Seleccionar fichero en ventana para mayor comodidad</font> "
   ]
  },
  {
   "attachments": {},
   "cell_type": "markdown",
   "metadata": {},
   "source": [
    "Data load using the {tcltk} package"
   ]
  },
  {
   "cell_type": "code",
   "execution_count": 8,
   "metadata": {
    "vscode": {
     "languageId": "r"
    }
   },
   "outputs": [],
   "source": [
    "# file_data_02 <- tcltk::tk_choose.files(multi = FALSE)"
   ]
  },
  {
   "attachments": {},
   "cell_type": "markdown",
   "metadata": {},
   "source": [
    "<font color='tomato'><b> OPCION B:</b> Especificar el nombre de archivo</font>\n",
    "\n",
    "Instrucciones\n",
    "- Los ficheros de entrada del proceso están siempre en Data/Input/.   \n",
    "- Si hay más de un fichero de entrada, se crean tantos objetos iFile_xx y file_data_xx como ficheros de entrada (xx número correlativo con dos dígitos, rellenar con ceros a la izquierda)"
   ]
  },
  {
   "cell_type": "code",
   "execution_count": 9,
   "metadata": {
    "vscode": {
     "languageId": "r"
    }
   },
   "outputs": [
    {
     "name": "stdout",
     "output_type": "stream",
     "text": [
      "Se leerán datos del archivo:  Data/Input/CU_04_05_04_zonas_secciones.csv"
     ]
    }
   ],
   "source": [
    "iFile_02 <- \"CU_04_05_04_zonas_secciones.csv\"\n",
    "file_data_02 <- paste0(iPath, iFile_02)\n",
    "\n",
    "if(file.exists(file_data_02)){\n",
    "    cat(\"Se leerán datos del archivo: \", file_data_02)\n",
    "} else{\n",
    "    warning(\"Cuidado: el archivo no existe.\")\n",
    "}\n"
   ]
  },
  {
   "attachments": {},
   "cell_type": "markdown",
   "metadata": {},
   "source": [
    "Data file to dataframe:"
   ]
  },
  {
   "cell_type": "code",
   "execution_count": 10,
   "metadata": {
    "vscode": {
     "languageId": "r"
    }
   },
   "outputs": [
    {
     "name": "stderr",
     "output_type": "stream",
     "text": [
      "\u001b[1mRows: \u001b[22m\u001b[34m4194\u001b[39m \u001b[1mColumns: \u001b[22m\u001b[34m5\u001b[39m\n",
      "\u001b[36m──\u001b[39m \u001b[1mColumn specification\u001b[22m \u001b[36m────────────────────────────────────────────────────────\u001b[39m\n",
      "\u001b[1mDelimiter:\u001b[22m \",\"\n",
      "\u001b[31mchr\u001b[39m (5): id_zona, nombre_zona, CMUN, dist, secc\n",
      "\n",
      "\u001b[36mℹ\u001b[39m Use `spec()` to retrieve the full column specification for this data.\n",
      "\u001b[36mℹ\u001b[39m Specify the column types or set `show_col_types = FALSE` to quiet this message.\n"
     ]
    }
   ],
   "source": [
    "data_02_zonasec <- read_csv(file_data_02)\n"
   ]
  },
  {
   "attachments": {},
   "cell_type": "markdown",
   "metadata": {},
   "source": [
    "Estructura de los datos:"
   ]
  },
  {
   "cell_type": "code",
   "execution_count": 11,
   "metadata": {
    "vscode": {
     "languageId": "r"
    }
   },
   "outputs": [
    {
     "name": "stdout",
     "output_type": "stream",
     "text": [
      "Rows: 4,194\n",
      "Columns: 5\n",
      "$ id_zona     \u001b[3m\u001b[90m<chr>\u001b[39m\u001b[23m \"001\", \"001\", \"001\", \"001\", \"001\", \"001\", \"001\", \"001\", \"0…\n",
      "$ nombre_zona \u001b[3m\u001b[90m<chr>\u001b[39m\u001b[23m \"Abrantes\", \"Abrantes\", \"Abrantes\", \"Abrantes\", \"Abrantes\"…\n",
      "$ CMUN        \u001b[3m\u001b[90m<chr>\u001b[39m\u001b[23m \"079\", \"079\", \"079\", \"079\", \"079\", \"079\", \"079\", \"079\", \"0…\n",
      "$ dist        \u001b[3m\u001b[90m<chr>\u001b[39m\u001b[23m \"11\", \"11\", \"11\", \"11\", \"11\", \"11\", \"11\", \"11\", \"11\", \"11\"…\n",
      "$ secc        \u001b[3m\u001b[90m<chr>\u001b[39m\u001b[23m \"157\", \"158\", \"159\", \"160\", \"161\", \"162\", \"163\", \"165\", \"1…\n"
     ]
    }
   ],
   "source": [
    "glimpse(data_02_zonasec)"
   ]
  },
  {
   "attachments": {},
   "cell_type": "markdown",
   "metadata": {},
   "source": [
    "Muestra de datos:"
   ]
  },
  {
   "cell_type": "code",
   "execution_count": 12,
   "metadata": {
    "vscode": {
     "languageId": "r"
    }
   },
   "outputs": [
    {
     "data": {
      "text/html": [
       "<table class=\"dataframe\">\n",
       "<caption>A spec_tbl_df: 5 × 5</caption>\n",
       "<thead>\n",
       "\t<tr><th scope=col>id_zona</th><th scope=col>nombre_zona</th><th scope=col>CMUN</th><th scope=col>dist</th><th scope=col>secc</th></tr>\n",
       "\t<tr><th scope=col>&lt;chr&gt;</th><th scope=col>&lt;chr&gt;</th><th scope=col>&lt;chr&gt;</th><th scope=col>&lt;chr&gt;</th><th scope=col>&lt;chr&gt;</th></tr>\n",
       "</thead>\n",
       "<tbody>\n",
       "\t<tr><td>001</td><td>Abrantes</td><td>079</td><td>11</td><td>157</td></tr>\n",
       "\t<tr><td>001</td><td>Abrantes</td><td>079</td><td>11</td><td>158</td></tr>\n",
       "\t<tr><td>001</td><td>Abrantes</td><td>079</td><td>11</td><td>159</td></tr>\n",
       "\t<tr><td>001</td><td>Abrantes</td><td>079</td><td>11</td><td>160</td></tr>\n",
       "\t<tr><td>001</td><td>Abrantes</td><td>079</td><td>11</td><td>161</td></tr>\n",
       "</tbody>\n",
       "</table>\n"
      ],
      "text/latex": [
       "A spec\\_tbl\\_df: 5 × 5\n",
       "\\begin{tabular}{lllll}\n",
       " id\\_zona & nombre\\_zona & CMUN & dist & secc\\\\\n",
       " <chr> & <chr> & <chr> & <chr> & <chr>\\\\\n",
       "\\hline\n",
       "\t 001 & Abrantes & 079 & 11 & 157\\\\\n",
       "\t 001 & Abrantes & 079 & 11 & 158\\\\\n",
       "\t 001 & Abrantes & 079 & 11 & 159\\\\\n",
       "\t 001 & Abrantes & 079 & 11 & 160\\\\\n",
       "\t 001 & Abrantes & 079 & 11 & 161\\\\\n",
       "\\end{tabular}\n"
      ],
      "text/markdown": [
       "\n",
       "A spec_tbl_df: 5 × 5\n",
       "\n",
       "| id_zona &lt;chr&gt; | nombre_zona &lt;chr&gt; | CMUN &lt;chr&gt; | dist &lt;chr&gt; | secc &lt;chr&gt; |\n",
       "|---|---|---|---|---|\n",
       "| 001 | Abrantes | 079 | 11 | 157 |\n",
       "| 001 | Abrantes | 079 | 11 | 158 |\n",
       "| 001 | Abrantes | 079 | 11 | 159 |\n",
       "| 001 | Abrantes | 079 | 11 | 160 |\n",
       "| 001 | Abrantes | 079 | 11 | 161 |\n",
       "\n"
      ],
      "text/plain": [
       "  id_zona nombre_zona CMUN dist secc\n",
       "1 001     Abrantes    079  11   157 \n",
       "2 001     Abrantes    079  11   158 \n",
       "3 001     Abrantes    079  11   159 \n",
       "4 001     Abrantes    079  11   160 \n",
       "5 001     Abrantes    079  11   161 "
      ]
     },
     "metadata": {},
     "output_type": "display_data"
    }
   ],
   "source": [
    "slice_head(data_02_zonasec, n = 5)"
   ]
  },
  {
   "attachments": {},
   "cell_type": "markdown",
   "metadata": {},
   "source": [
    "#### 3. Zonas sanitarias para extraer el área"
   ]
  },
  {
   "attachments": {},
   "cell_type": "markdown",
   "metadata": {},
   "source": [
    "<font color='tomato'><b> OPCION A:</b> Seleccionar fichero en ventana para mayor comodidad</font> "
   ]
  },
  {
   "attachments": {},
   "cell_type": "markdown",
   "metadata": {},
   "source": [
    "Data load using the {tcltk} package. Uncomment if not using this option"
   ]
  },
  {
   "cell_type": "code",
   "execution_count": 13,
   "metadata": {
    "vscode": {
     "languageId": "r"
    }
   },
   "outputs": [],
   "source": [
    "# file_data_03 <- tcltk::tk_choose.files(multi = FALSE)"
   ]
  },
  {
   "attachments": {},
   "cell_type": "markdown",
   "metadata": {},
   "source": [
    "<font color='tomato'><b> OPCION B:</b> Especificar el nombre de archivo</font>\n",
    "\n",
    "Instrucciones\n",
    "- Los ficheros de entrada del proceso están siempre en Data/Input/.   \n",
    "- Si hay más de un fichero de entrada, se crean tantos objetos iFile_xx y file_data_xx como ficheros de entrada (xx número correlativo con dos dígitos, rellenar con ceros a la izquierda)\n",
    "- Comentar si se usa la opción anterior"
   ]
  },
  {
   "cell_type": "code",
   "execution_count": 14,
   "metadata": {
    "vscode": {
     "languageId": "r"
    }
   },
   "outputs": [
    {
     "name": "stdout",
     "output_type": "stream",
     "text": [
      "Se leerán datos del archivo:  Data/Input/CU_04_05_02_zonas.csv"
     ]
    }
   ],
   "source": [
    "iFile_03 <- \"CU_04_05_02_zonas.csv\"\n",
    "file_data_03 <- paste0(iPath, iFile_03)\n",
    "\n",
    "if(file.exists(file_data_03)){\n",
    "    cat(\"Se leerán datos del archivo: \", file_data_03)\n",
    "} else{\n",
    "    warning(\"Cuidado: el archivo no existe.\")\n",
    "}\n"
   ]
  },
  {
   "attachments": {},
   "cell_type": "markdown",
   "metadata": {},
   "source": [
    "Data file to dataframe:"
   ]
  },
  {
   "cell_type": "code",
   "execution_count": 15,
   "metadata": {
    "vscode": {
     "languageId": "r"
    }
   },
   "outputs": [
    {
     "name": "stderr",
     "output_type": "stream",
     "text": [
      "\u001b[1mRows: \u001b[22m\u001b[34m286\u001b[39m \u001b[1mColumns: \u001b[22m\u001b[34m6\u001b[39m\n",
      "\u001b[36m──\u001b[39m \u001b[1mColumn specification\u001b[22m \u001b[36m────────────────────────────────────────────────────────\u001b[39m\n",
      "\u001b[1mDelimiter:\u001b[22m \",\"\n",
      "\u001b[31mchr\u001b[39m (2): GEOCODIGO, DESBDT\n",
      "\u001b[32mdbl\u001b[39m (4): CODBDT, area, X, Y\n",
      "\n",
      "\u001b[36mℹ\u001b[39m Use `spec()` to retrieve the full column specification for this data.\n",
      "\u001b[36mℹ\u001b[39m Specify the column types or set `show_col_types = FALSE` to quiet this message.\n"
     ]
    }
   ],
   "source": [
    "data_03_zonas <- read_csv(file_data_03)"
   ]
  },
  {
   "attachments": {},
   "cell_type": "markdown",
   "metadata": {},
   "source": [
    "Estructura de los datos:"
   ]
  },
  {
   "cell_type": "code",
   "execution_count": 16,
   "metadata": {
    "vscode": {
     "languageId": "r"
    }
   },
   "outputs": [
    {
     "name": "stdout",
     "output_type": "stream",
     "text": [
      "Rows: 286\n",
      "Columns: 6\n",
      "$ CODBDT    \u001b[3m\u001b[90m<dbl>\u001b[39m\u001b[23m 686213, 686214, 686215, 686216, 686217, 686218, 686219, 6862…\n",
      "$ GEOCODIGO \u001b[3m\u001b[90m<chr>\u001b[39m\u001b[23m \"001\", \"002\", \"003\", \"004\", \"005\", \"006\", \"007\", \"008\", \"009…\n",
      "$ DESBDT    \u001b[3m\u001b[90m<chr>\u001b[39m\u001b[23m \"Abrantes\", \"Acacias\", \"Adelfas\", \"Alameda\", \"Alameda de Osu…\n",
      "$ area      \u001b[3m\u001b[90m<dbl>\u001b[39m\u001b[23m 1571618.8, 771569.7, 854805.6, 547596.1, 35137989.9, 661765.…\n",
      "$ X         \u001b[3m\u001b[90m<dbl>\u001b[39m\u001b[23m -3.726140, -3.708702, -3.672841, -3.697291, -3.569774, -3.86…\n",
      "$ Y         \u001b[3m\u001b[90m<dbl>\u001b[39m\u001b[23m 40.37898, 40.40045, 40.40145, 40.41036, 40.47516, 40.32250, …\n"
     ]
    }
   ],
   "source": [
    "glimpse(data_03_zonas)\n"
   ]
  },
  {
   "attachments": {},
   "cell_type": "markdown",
   "metadata": {},
   "source": [
    "Muestra de datos"
   ]
  },
  {
   "cell_type": "code",
   "execution_count": 17,
   "metadata": {
    "vscode": {
     "languageId": "r"
    }
   },
   "outputs": [
    {
     "data": {
      "text/html": [
       "<table class=\"dataframe\">\n",
       "<caption>A spec_tbl_df: 5 × 6</caption>\n",
       "<thead>\n",
       "\t<tr><th scope=col>CODBDT</th><th scope=col>GEOCODIGO</th><th scope=col>DESBDT</th><th scope=col>area</th><th scope=col>X</th><th scope=col>Y</th></tr>\n",
       "\t<tr><th scope=col>&lt;dbl&gt;</th><th scope=col>&lt;chr&gt;</th><th scope=col>&lt;chr&gt;</th><th scope=col>&lt;dbl&gt;</th><th scope=col>&lt;dbl&gt;</th><th scope=col>&lt;dbl&gt;</th></tr>\n",
       "</thead>\n",
       "<tbody>\n",
       "\t<tr><td>686213</td><td>001</td><td>Abrantes        </td><td> 1571618.8</td><td>-3.726140</td><td>40.37898</td></tr>\n",
       "\t<tr><td>686214</td><td>002</td><td>Acacias         </td><td>  771569.7</td><td>-3.708702</td><td>40.40045</td></tr>\n",
       "\t<tr><td>686215</td><td>003</td><td>Adelfas         </td><td>  854805.6</td><td>-3.672841</td><td>40.40145</td></tr>\n",
       "\t<tr><td>686216</td><td>004</td><td>Alameda         </td><td>  547596.1</td><td>-3.697291</td><td>40.41036</td></tr>\n",
       "\t<tr><td>686217</td><td>005</td><td>Alameda de Osuna</td><td>35137989.9</td><td>-3.569774</td><td>40.47516</td></tr>\n",
       "</tbody>\n",
       "</table>\n"
      ],
      "text/latex": [
       "A spec\\_tbl\\_df: 5 × 6\n",
       "\\begin{tabular}{llllll}\n",
       " CODBDT & GEOCODIGO & DESBDT & area & X & Y\\\\\n",
       " <dbl> & <chr> & <chr> & <dbl> & <dbl> & <dbl>\\\\\n",
       "\\hline\n",
       "\t 686213 & 001 & Abrantes         &  1571618.8 & -3.726140 & 40.37898\\\\\n",
       "\t 686214 & 002 & Acacias          &   771569.7 & -3.708702 & 40.40045\\\\\n",
       "\t 686215 & 003 & Adelfas          &   854805.6 & -3.672841 & 40.40145\\\\\n",
       "\t 686216 & 004 & Alameda          &   547596.1 & -3.697291 & 40.41036\\\\\n",
       "\t 686217 & 005 & Alameda de Osuna & 35137989.9 & -3.569774 & 40.47516\\\\\n",
       "\\end{tabular}\n"
      ],
      "text/markdown": [
       "\n",
       "A spec_tbl_df: 5 × 6\n",
       "\n",
       "| CODBDT &lt;dbl&gt; | GEOCODIGO &lt;chr&gt; | DESBDT &lt;chr&gt; | area &lt;dbl&gt; | X &lt;dbl&gt; | Y &lt;dbl&gt; |\n",
       "|---|---|---|---|---|---|\n",
       "| 686213 | 001 | Abrantes         |  1571618.8 | -3.726140 | 40.37898 |\n",
       "| 686214 | 002 | Acacias          |   771569.7 | -3.708702 | 40.40045 |\n",
       "| 686215 | 003 | Adelfas          |   854805.6 | -3.672841 | 40.40145 |\n",
       "| 686216 | 004 | Alameda          |   547596.1 | -3.697291 | 40.41036 |\n",
       "| 686217 | 005 | Alameda de Osuna | 35137989.9 | -3.569774 | 40.47516 |\n",
       "\n"
      ],
      "text/plain": [
       "  CODBDT GEOCODIGO DESBDT           area       X         Y       \n",
       "1 686213 001       Abrantes          1571618.8 -3.726140 40.37898\n",
       "2 686214 002       Acacias            771569.7 -3.708702 40.40045\n",
       "3 686215 003       Adelfas            854805.6 -3.672841 40.40145\n",
       "4 686216 004       Alameda            547596.1 -3.697291 40.41036\n",
       "5 686217 005       Alameda de Osuna 35137989.9 -3.569774 40.47516"
      ]
     },
     "metadata": {},
     "output_type": "display_data"
    }
   ],
   "source": [
    "data_03_zonas |> slice_head(n = 5)"
   ]
  },
  {
   "cell_type": "markdown",
   "metadata": {
    "slideshow": {
     "slide_type": "slide"
    }
   },
   "source": [
    "## ETL Processes"
   ]
  },
  {
   "attachments": {},
   "cell_type": "markdown",
   "metadata": {
    "slideshow": {
     "slide_type": "slide"
    }
   },
   "source": [
    "### Import data from: CSV, Excel, Tab, JSON, SQL, and Parquet files\n",
    "\n",
    "Se han importado en el apartado Data Load anterior:\n",
    "\n",
    "* Indicadores del INE por sección censal\n",
    "* Correspondencia de zonas básicas de salud y secciones censales de la Comunidad de Madrid\n",
    "* Localizaciones y áreas de zonas básicas de salud"
   ]
  },
  {
   "attachments": {},
   "cell_type": "markdown",
   "metadata": {},
   "source": [
    "### Transform data\n",
    "\n",
    "Para asegurar la trazabilidad, guardar las transformaciones en un objeto diferente con el prefijo 't'."
   ]
  },
  {
   "attachments": {},
   "cell_type": "markdown",
   "metadata": {},
   "source": [
    "#### Añadir a la tabla de indicadores la zona sanitaria a la que pertenece\n",
    "\n",
    "* Comprobar discrepancias"
   ]
  },
  {
   "attachments": {},
   "cell_type": "markdown",
   "metadata": {},
   "source": [
    "Municipios de los indicadores que no están en las zonas sanitarias"
   ]
  },
  {
   "cell_type": "code",
   "execution_count": 18,
   "metadata": {
    "vscode": {
     "languageId": "r"
    }
   },
   "outputs": [
    {
     "data": {
      "text/html": [
       "TRUE"
      ],
      "text/latex": [
       "TRUE"
      ],
      "text/markdown": [
       "TRUE"
      ],
      "text/plain": [
       "[1] TRUE"
      ]
     },
     "metadata": {},
     "output_type": "display_data"
    },
    {
     "data": {
      "text/html": [
       "TRUE"
      ],
      "text/latex": [
       "TRUE"
      ],
      "text/markdown": [
       "TRUE"
      ],
      "text/plain": [
       "[1] TRUE"
      ]
     },
     "metadata": {},
     "output_type": "display_data"
    }
   ],
   "source": [
    "m1 <- data_01_indicadores |> \n",
    "    count(CMUN) |> pull(CMUN)\n",
    "m2 <- data_02_zonasec |>\n",
    "    count(CMUN) |> pull(CMUN)\n",
    "all(m1 %in% m2)\n",
    "all(m2 %in% m1)"
   ]
  },
  {
   "attachments": {},
   "cell_type": "markdown",
   "metadata": {},
   "source": [
    "Todos los municipios están en ambos archivos"
   ]
  },
  {
   "attachments": {},
   "cell_type": "markdown",
   "metadata": {},
   "source": [
    "Secciones censales en fichero del INE que no tienen asignada una zona sanitaria en la Comunidad de Madrid"
   ]
  },
  {
   "cell_type": "code",
   "execution_count": 19,
   "metadata": {
    "vscode": {
     "languageId": "r"
    }
   },
   "outputs": [
    {
     "data": {
      "text/html": [
       "<table class=\"dataframe\">\n",
       "<caption>A spec_tbl_df: 1 × 1</caption>\n",
       "<thead>\n",
       "\t<tr><th scope=col>n</th></tr>\n",
       "\t<tr><th scope=col>&lt;int&gt;</th></tr>\n",
       "</thead>\n",
       "<tbody>\n",
       "\t<tr><td>345</td></tr>\n",
       "</tbody>\n",
       "</table>\n"
      ],
      "text/latex": [
       "A spec\\_tbl\\_df: 1 × 1\n",
       "\\begin{tabular}{l}\n",
       " n\\\\\n",
       " <int>\\\\\n",
       "\\hline\n",
       "\t 345\\\\\n",
       "\\end{tabular}\n"
      ],
      "text/markdown": [
       "\n",
       "A spec_tbl_df: 1 × 1\n",
       "\n",
       "| n &lt;int&gt; |\n",
       "|---|\n",
       "| 345 |\n",
       "\n"
      ],
      "text/plain": [
       "  n  \n",
       "1 345"
      ]
     },
     "metadata": {},
     "output_type": "display_data"
    }
   ],
   "source": [
    "data_01_indicadores |>\n",
    "    anti_join(data_02_zonasec,\n",
    "    by = c(\"CMUN\", \"dist\", \"secc\")) |>\n",
    "    count()"
   ]
  },
  {
   "attachments": {},
   "cell_type": "markdown",
   "metadata": {},
   "source": [
    "Zonas básicas de Salud que tienen secciones censales que no aparecen en los indicadores del INE"
   ]
  },
  {
   "cell_type": "code",
   "execution_count": 20,
   "metadata": {
    "vscode": {
     "languageId": "r"
    }
   },
   "outputs": [
    {
     "data": {
      "text/html": [
       "<table class=\"dataframe\">\n",
       "<caption>A spec_tbl_df: 1 × 1</caption>\n",
       "<thead>\n",
       "\t<tr><th scope=col>n</th></tr>\n",
       "\t<tr><th scope=col>&lt;int&gt;</th></tr>\n",
       "</thead>\n",
       "<tbody>\n",
       "\t<tr><td>122</td></tr>\n",
       "</tbody>\n",
       "</table>\n"
      ],
      "text/latex": [
       "A spec\\_tbl\\_df: 1 × 1\n",
       "\\begin{tabular}{l}\n",
       " n\\\\\n",
       " <int>\\\\\n",
       "\\hline\n",
       "\t 122\\\\\n",
       "\\end{tabular}\n"
      ],
      "text/markdown": [
       "\n",
       "A spec_tbl_df: 1 × 1\n",
       "\n",
       "| n &lt;int&gt; |\n",
       "|---|\n",
       "| 122 |\n",
       "\n"
      ],
      "text/plain": [
       "  n  \n",
       "1 122"
      ]
     },
     "metadata": {},
     "output_type": "display_data"
    }
   ],
   "source": [
    "data_02_zonasec |>\n",
    "    anti_join(data_01_indicadores,\n",
    "    by = c(\"CMUN\", \"dist\", \"secc\")) |>\n",
    "    count()"
   ]
  },
  {
   "attachments": {},
   "cell_type": "markdown",
   "metadata": {},
   "source": [
    "Unión de las tablas. Se asignan a las secciones censales las zonas de salud, dejando como NA las secciones que no tienen zona de salud. Se hace full join para no perder ningún dato."
   ]
  },
  {
   "cell_type": "code",
   "execution_count": 21,
   "metadata": {
    "vscode": {
     "languageId": "r"
    }
   },
   "outputs": [
    {
     "data": {
      "text/html": [
       "<table class=\"dataframe\">\n",
       "<caption>A spec_tbl_df: 12 × 22</caption>\n",
       "<thead>\n",
       "\t<tr><th scope=col>ccaa</th><th scope=col>CPRO</th><th scope=col>CMUN</th><th scope=col>dist</th><th scope=col>secc</th><th scope=col>t1_1</th><th scope=col>t2_1</th><th scope=col>t2_2</th><th scope=col>t3_1</th><th scope=col>t4_1</th><th scope=col>⋯</th><th scope=col>t5_1</th><th scope=col>t6_1</th><th scope=col>t7_1</th><th scope=col>t8_1</th><th scope=col>t9_1</th><th scope=col>t10_1</th><th scope=col>t11_1</th><th scope=col>t12_1</th><th scope=col>id_zona</th><th scope=col>nombre_zona</th></tr>\n",
       "\t<tr><th scope=col>&lt;dbl&gt;</th><th scope=col>&lt;dbl&gt;</th><th scope=col>&lt;chr&gt;</th><th scope=col>&lt;chr&gt;</th><th scope=col>&lt;chr&gt;</th><th scope=col>&lt;dbl&gt;</th><th scope=col>&lt;dbl&gt;</th><th scope=col>&lt;dbl&gt;</th><th scope=col>&lt;dbl&gt;</th><th scope=col>&lt;dbl&gt;</th><th scope=col>⋯</th><th scope=col>&lt;dbl&gt;</th><th scope=col>&lt;dbl&gt;</th><th scope=col>&lt;dbl&gt;</th><th scope=col>&lt;dbl&gt;</th><th scope=col>&lt;dbl&gt;</th><th scope=col>&lt;dbl&gt;</th><th scope=col>&lt;dbl&gt;</th><th scope=col>&lt;dbl&gt;</th><th scope=col>&lt;chr&gt;</th><th scope=col>&lt;chr&gt;</th></tr>\n",
       "</thead>\n",
       "<tbody>\n",
       "\t<tr><td>13</td><td>28</td><td>001</td><td>01</td><td>001</td><td>  55</td><td>    NA</td><td>    NA</td><td>     NA</td><td>    NA</td><td>⋯</td><td>    NA</td><td>    NA</td><td>    NA</td><td>    NA</td><td>    NA</td><td>    NA</td><td>    NA</td><td>    NA</td><td>033</td><td>Buitrago de Lozoya</td></tr>\n",
       "\t<tr><td>13</td><td>28</td><td>002</td><td>01</td><td>001</td><td>2358</td><td>0.4724</td><td>0.5276</td><td>40.5161</td><td>0.1425</td><td>⋯</td><td>0.1569</td><td>0.1968</td><td>0.4016</td><td>0.3971</td><td>0.4377</td><td>0.0912</td><td>0.6063</td><td>0.6672</td><td>064</td><td>Daganzo de Arriba </td></tr>\n",
       "\t<tr><td>13</td><td>28</td><td>002</td><td>01</td><td>002</td><td>2435</td><td>0.4830</td><td>0.5170</td><td>38.3339</td><td>0.1959</td><td>⋯</td><td>0.1544</td><td>0.1951</td><td>0.4244</td><td>0.4224</td><td>0.4438</td><td>0.1226</td><td>0.5955</td><td>0.6788</td><td>064</td><td>Daganzo de Arriba </td></tr>\n",
       "\t<tr><td>13</td><td>28</td><td>003</td><td>01</td><td>001</td><td> 248</td><td>0.3952</td><td>0.6048</td><td>47.4597</td><td>0.1371</td><td>⋯</td><td>0.1129</td><td>0.1411</td><td>0.1542</td><td>0.1449</td><td>0.5280</td><td>0.0932</td><td>0.5000</td><td>0.5514</td><td>222</td><td>Rascafría         </td></tr>\n",
       "\t<tr><td>13</td><td>28</td><td>004</td><td>01</td><td>001</td><td>2886</td><td>0.5135</td><td>0.4865</td><td>44.4099</td><td>0.1611</td><td>⋯</td><td>0.1639</td><td>0.2128</td><td>0.1470</td><td>0.1409</td><td>0.2602</td><td>0.1814</td><td>0.4213</td><td>0.5147</td><td>183</td><td>Navalcarnero      </td></tr>\n",
       "\t<tr><td>13</td><td>28</td><td>004</td><td>01</td><td>002</td><td>3376</td><td>0.4793</td><td>0.5207</td><td>40.6810</td><td>0.1739</td><td>⋯</td><td>0.1440</td><td>0.1730</td><td>0.1596</td><td>0.1506</td><td>0.3234</td><td>0.1478</td><td>0.5170</td><td>0.6067</td><td>183</td><td>Navalcarnero      </td></tr>\n",
       "\t<tr><td>13</td><td>28</td><td>004</td><td>01</td><td>003</td><td>2161</td><td>0.5016</td><td>0.4984</td><td>38.0088</td><td>0.2230</td><td>⋯</td><td>0.1749</td><td>0.2138</td><td>0.1668</td><td>0.1602</td><td>0.2859</td><td>0.1658</td><td>0.4943</td><td>0.5926</td><td>183</td><td>Navalcarnero      </td></tr>\n",
       "\t<tr><td>13</td><td>28</td><td>004</td><td>01</td><td>004</td><td>1523</td><td>0.5279</td><td>0.4721</td><td>42.5371</td><td>0.1753</td><td>⋯</td><td>0.1326</td><td>0.1589</td><td>0.1584</td><td>0.1545</td><td>0.3057</td><td>0.1824</td><td>0.4745</td><td>0.5804</td><td>NA </td><td>NA                </td></tr>\n",
       "\t<tr><td>13</td><td>28</td><td>005</td><td>01</td><td>001</td><td>1648</td><td>0.5461</td><td>0.4539</td><td>43.7360</td><td>0.1195</td><td>⋯</td><td>0.1608</td><td>0.2227</td><td>0.0979</td><td>0.0917</td><td>0.5134</td><td>0.1079</td><td>0.5245</td><td>0.5879</td><td>044</td><td>Carmen Calzado    </td></tr>\n",
       "\t<tr><td>13</td><td>28</td><td>005</td><td>01</td><td>002</td><td>1015</td><td>0.5399</td><td>0.4601</td><td>42.0837</td><td>0.1379</td><td>⋯</td><td>0.1852</td><td>0.2345</td><td>0.1074</td><td>0.0949</td><td>0.4709</td><td>0.1599</td><td>0.4983</td><td>0.5931</td><td>044</td><td>Carmen Calzado    </td></tr>\n",
       "\t<tr><td>13</td><td>28</td><td>005</td><td>01</td><td>003</td><td>1728</td><td>0.5046</td><td>0.4954</td><td>42.9693</td><td>0.1181</td><td>⋯</td><td>0.1649</td><td>0.2083</td><td>0.0919</td><td>0.0827</td><td>0.4436</td><td>0.1490</td><td>0.5098</td><td>0.5991</td><td>044</td><td>Carmen Calzado    </td></tr>\n",
       "\t<tr><td>13</td><td>28</td><td>005</td><td>01</td><td>004</td><td>1349</td><td>0.5441</td><td>0.4559</td><td>48.5871</td><td>0.1097</td><td>⋯</td><td>0.1623</td><td>0.2216</td><td>0.0683</td><td>0.0600</td><td>0.4371</td><td>0.1424</td><td>0.4163</td><td>0.4854</td><td>044</td><td>Carmen Calzado    </td></tr>\n",
       "</tbody>\n",
       "</table>\n"
      ],
      "text/latex": [
       "A spec\\_tbl\\_df: 12 × 22\n",
       "\\begin{tabular}{lllllllllllllllllllll}\n",
       " ccaa & CPRO & CMUN & dist & secc & t1\\_1 & t2\\_1 & t2\\_2 & t3\\_1 & t4\\_1 & ⋯ & t5\\_1 & t6\\_1 & t7\\_1 & t8\\_1 & t9\\_1 & t10\\_1 & t11\\_1 & t12\\_1 & id\\_zona & nombre\\_zona\\\\\n",
       " <dbl> & <dbl> & <chr> & <chr> & <chr> & <dbl> & <dbl> & <dbl> & <dbl> & <dbl> & ⋯ & <dbl> & <dbl> & <dbl> & <dbl> & <dbl> & <dbl> & <dbl> & <dbl> & <chr> & <chr>\\\\\n",
       "\\hline\n",
       "\t 13 & 28 & 001 & 01 & 001 &   55 &     NA &     NA &      NA &     NA & ⋯ &     NA &     NA &     NA &     NA &     NA &     NA &     NA &     NA & 033 & Buitrago de Lozoya\\\\\n",
       "\t 13 & 28 & 002 & 01 & 001 & 2358 & 0.4724 & 0.5276 & 40.5161 & 0.1425 & ⋯ & 0.1569 & 0.1968 & 0.4016 & 0.3971 & 0.4377 & 0.0912 & 0.6063 & 0.6672 & 064 & Daganzo de Arriba \\\\\n",
       "\t 13 & 28 & 002 & 01 & 002 & 2435 & 0.4830 & 0.5170 & 38.3339 & 0.1959 & ⋯ & 0.1544 & 0.1951 & 0.4244 & 0.4224 & 0.4438 & 0.1226 & 0.5955 & 0.6788 & 064 & Daganzo de Arriba \\\\\n",
       "\t 13 & 28 & 003 & 01 & 001 &  248 & 0.3952 & 0.6048 & 47.4597 & 0.1371 & ⋯ & 0.1129 & 0.1411 & 0.1542 & 0.1449 & 0.5280 & 0.0932 & 0.5000 & 0.5514 & 222 & Rascafría         \\\\\n",
       "\t 13 & 28 & 004 & 01 & 001 & 2886 & 0.5135 & 0.4865 & 44.4099 & 0.1611 & ⋯ & 0.1639 & 0.2128 & 0.1470 & 0.1409 & 0.2602 & 0.1814 & 0.4213 & 0.5147 & 183 & Navalcarnero      \\\\\n",
       "\t 13 & 28 & 004 & 01 & 002 & 3376 & 0.4793 & 0.5207 & 40.6810 & 0.1739 & ⋯ & 0.1440 & 0.1730 & 0.1596 & 0.1506 & 0.3234 & 0.1478 & 0.5170 & 0.6067 & 183 & Navalcarnero      \\\\\n",
       "\t 13 & 28 & 004 & 01 & 003 & 2161 & 0.5016 & 0.4984 & 38.0088 & 0.2230 & ⋯ & 0.1749 & 0.2138 & 0.1668 & 0.1602 & 0.2859 & 0.1658 & 0.4943 & 0.5926 & 183 & Navalcarnero      \\\\\n",
       "\t 13 & 28 & 004 & 01 & 004 & 1523 & 0.5279 & 0.4721 & 42.5371 & 0.1753 & ⋯ & 0.1326 & 0.1589 & 0.1584 & 0.1545 & 0.3057 & 0.1824 & 0.4745 & 0.5804 & NA  & NA                \\\\\n",
       "\t 13 & 28 & 005 & 01 & 001 & 1648 & 0.5461 & 0.4539 & 43.7360 & 0.1195 & ⋯ & 0.1608 & 0.2227 & 0.0979 & 0.0917 & 0.5134 & 0.1079 & 0.5245 & 0.5879 & 044 & Carmen Calzado    \\\\\n",
       "\t 13 & 28 & 005 & 01 & 002 & 1015 & 0.5399 & 0.4601 & 42.0837 & 0.1379 & ⋯ & 0.1852 & 0.2345 & 0.1074 & 0.0949 & 0.4709 & 0.1599 & 0.4983 & 0.5931 & 044 & Carmen Calzado    \\\\\n",
       "\t 13 & 28 & 005 & 01 & 003 & 1728 & 0.5046 & 0.4954 & 42.9693 & 0.1181 & ⋯ & 0.1649 & 0.2083 & 0.0919 & 0.0827 & 0.4436 & 0.1490 & 0.5098 & 0.5991 & 044 & Carmen Calzado    \\\\\n",
       "\t 13 & 28 & 005 & 01 & 004 & 1349 & 0.5441 & 0.4559 & 48.5871 & 0.1097 & ⋯ & 0.1623 & 0.2216 & 0.0683 & 0.0600 & 0.4371 & 0.1424 & 0.4163 & 0.4854 & 044 & Carmen Calzado    \\\\\n",
       "\\end{tabular}\n"
      ],
      "text/markdown": [
       "\n",
       "A spec_tbl_df: 12 × 22\n",
       "\n",
       "| ccaa &lt;dbl&gt; | CPRO &lt;dbl&gt; | CMUN &lt;chr&gt; | dist &lt;chr&gt; | secc &lt;chr&gt; | t1_1 &lt;dbl&gt; | t2_1 &lt;dbl&gt; | t2_2 &lt;dbl&gt; | t3_1 &lt;dbl&gt; | t4_1 &lt;dbl&gt; | ⋯ ⋯ | t5_1 &lt;dbl&gt; | t6_1 &lt;dbl&gt; | t7_1 &lt;dbl&gt; | t8_1 &lt;dbl&gt; | t9_1 &lt;dbl&gt; | t10_1 &lt;dbl&gt; | t11_1 &lt;dbl&gt; | t12_1 &lt;dbl&gt; | id_zona &lt;chr&gt; | nombre_zona &lt;chr&gt; |\n",
       "|---|---|---|---|---|---|---|---|---|---|---|---|---|---|---|---|---|---|---|---|---|\n",
       "| 13 | 28 | 001 | 01 | 001 |   55 |     NA |     NA |      NA |     NA | ⋯ |     NA |     NA |     NA |     NA |     NA |     NA |     NA |     NA | 033 | Buitrago de Lozoya |\n",
       "| 13 | 28 | 002 | 01 | 001 | 2358 | 0.4724 | 0.5276 | 40.5161 | 0.1425 | ⋯ | 0.1569 | 0.1968 | 0.4016 | 0.3971 | 0.4377 | 0.0912 | 0.6063 | 0.6672 | 064 | Daganzo de Arriba  |\n",
       "| 13 | 28 | 002 | 01 | 002 | 2435 | 0.4830 | 0.5170 | 38.3339 | 0.1959 | ⋯ | 0.1544 | 0.1951 | 0.4244 | 0.4224 | 0.4438 | 0.1226 | 0.5955 | 0.6788 | 064 | Daganzo de Arriba  |\n",
       "| 13 | 28 | 003 | 01 | 001 |  248 | 0.3952 | 0.6048 | 47.4597 | 0.1371 | ⋯ | 0.1129 | 0.1411 | 0.1542 | 0.1449 | 0.5280 | 0.0932 | 0.5000 | 0.5514 | 222 | Rascafría          |\n",
       "| 13 | 28 | 004 | 01 | 001 | 2886 | 0.5135 | 0.4865 | 44.4099 | 0.1611 | ⋯ | 0.1639 | 0.2128 | 0.1470 | 0.1409 | 0.2602 | 0.1814 | 0.4213 | 0.5147 | 183 | Navalcarnero       |\n",
       "| 13 | 28 | 004 | 01 | 002 | 3376 | 0.4793 | 0.5207 | 40.6810 | 0.1739 | ⋯ | 0.1440 | 0.1730 | 0.1596 | 0.1506 | 0.3234 | 0.1478 | 0.5170 | 0.6067 | 183 | Navalcarnero       |\n",
       "| 13 | 28 | 004 | 01 | 003 | 2161 | 0.5016 | 0.4984 | 38.0088 | 0.2230 | ⋯ | 0.1749 | 0.2138 | 0.1668 | 0.1602 | 0.2859 | 0.1658 | 0.4943 | 0.5926 | 183 | Navalcarnero       |\n",
       "| 13 | 28 | 004 | 01 | 004 | 1523 | 0.5279 | 0.4721 | 42.5371 | 0.1753 | ⋯ | 0.1326 | 0.1589 | 0.1584 | 0.1545 | 0.3057 | 0.1824 | 0.4745 | 0.5804 | NA  | NA                 |\n",
       "| 13 | 28 | 005 | 01 | 001 | 1648 | 0.5461 | 0.4539 | 43.7360 | 0.1195 | ⋯ | 0.1608 | 0.2227 | 0.0979 | 0.0917 | 0.5134 | 0.1079 | 0.5245 | 0.5879 | 044 | Carmen Calzado     |\n",
       "| 13 | 28 | 005 | 01 | 002 | 1015 | 0.5399 | 0.4601 | 42.0837 | 0.1379 | ⋯ | 0.1852 | 0.2345 | 0.1074 | 0.0949 | 0.4709 | 0.1599 | 0.4983 | 0.5931 | 044 | Carmen Calzado     |\n",
       "| 13 | 28 | 005 | 01 | 003 | 1728 | 0.5046 | 0.4954 | 42.9693 | 0.1181 | ⋯ | 0.1649 | 0.2083 | 0.0919 | 0.0827 | 0.4436 | 0.1490 | 0.5098 | 0.5991 | 044 | Carmen Calzado     |\n",
       "| 13 | 28 | 005 | 01 | 004 | 1349 | 0.5441 | 0.4559 | 48.5871 | 0.1097 | ⋯ | 0.1623 | 0.2216 | 0.0683 | 0.0600 | 0.4371 | 0.1424 | 0.4163 | 0.4854 | 044 | Carmen Calzado     |\n",
       "\n"
      ],
      "text/plain": [
       "   ccaa CPRO CMUN dist secc t1_1 t2_1   t2_2   t3_1    t4_1   ⋯ t5_1   t6_1  \n",
       "1  13   28   001  01   001    55     NA     NA      NA     NA ⋯     NA     NA\n",
       "2  13   28   002  01   001  2358 0.4724 0.5276 40.5161 0.1425 ⋯ 0.1569 0.1968\n",
       "3  13   28   002  01   002  2435 0.4830 0.5170 38.3339 0.1959 ⋯ 0.1544 0.1951\n",
       "4  13   28   003  01   001   248 0.3952 0.6048 47.4597 0.1371 ⋯ 0.1129 0.1411\n",
       "5  13   28   004  01   001  2886 0.5135 0.4865 44.4099 0.1611 ⋯ 0.1639 0.2128\n",
       "6  13   28   004  01   002  3376 0.4793 0.5207 40.6810 0.1739 ⋯ 0.1440 0.1730\n",
       "7  13   28   004  01   003  2161 0.5016 0.4984 38.0088 0.2230 ⋯ 0.1749 0.2138\n",
       "8  13   28   004  01   004  1523 0.5279 0.4721 42.5371 0.1753 ⋯ 0.1326 0.1589\n",
       "9  13   28   005  01   001  1648 0.5461 0.4539 43.7360 0.1195 ⋯ 0.1608 0.2227\n",
       "10 13   28   005  01   002  1015 0.5399 0.4601 42.0837 0.1379 ⋯ 0.1852 0.2345\n",
       "11 13   28   005  01   003  1728 0.5046 0.4954 42.9693 0.1181 ⋯ 0.1649 0.2083\n",
       "12 13   28   005  01   004  1349 0.5441 0.4559 48.5871 0.1097 ⋯ 0.1623 0.2216\n",
       "   t7_1   t8_1   t9_1   t10_1  t11_1  t12_1  id_zona nombre_zona       \n",
       "1      NA     NA     NA     NA     NA     NA 033     Buitrago de Lozoya\n",
       "2  0.4016 0.3971 0.4377 0.0912 0.6063 0.6672 064     Daganzo de Arriba \n",
       "3  0.4244 0.4224 0.4438 0.1226 0.5955 0.6788 064     Daganzo de Arriba \n",
       "4  0.1542 0.1449 0.5280 0.0932 0.5000 0.5514 222     Rascafría         \n",
       "5  0.1470 0.1409 0.2602 0.1814 0.4213 0.5147 183     Navalcarnero      \n",
       "6  0.1596 0.1506 0.3234 0.1478 0.5170 0.6067 183     Navalcarnero      \n",
       "7  0.1668 0.1602 0.2859 0.1658 0.4943 0.5926 183     Navalcarnero      \n",
       "8  0.1584 0.1545 0.3057 0.1824 0.4745 0.5804 NA      NA                \n",
       "9  0.0979 0.0917 0.5134 0.1079 0.5245 0.5879 044     Carmen Calzado    \n",
       "10 0.1074 0.0949 0.4709 0.1599 0.4983 0.5931 044     Carmen Calzado    \n",
       "11 0.0919 0.0827 0.4436 0.1490 0.5098 0.5991 044     Carmen Calzado    \n",
       "12 0.0683 0.0600 0.4371 0.1424 0.4163 0.4854 044     Carmen Calzado    "
      ]
     },
     "metadata": {},
     "output_type": "display_data"
    }
   ],
   "source": [
    "tdata_01_indicadores_join <- data_01_indicadores |> \n",
    "    full_join(data_02_zonasec,\n",
    "               by = c(\"CMUN\", \"dist\", \"secc\")) |>\n",
    "    arrange(CMUN, dist, secc)\n",
    "slice_head(tdata_01_indicadores_join, n = 12)"
   ]
  },
  {
   "attachments": {},
   "cell_type": "markdown",
   "metadata": {},
   "source": [
    "#### Imputación zona de salud a secciones censales que no la tienen\n",
    "\n",
    "Para no perder los indicadores de las secciones censales que no tienen zona básica, se le asigna la inmediatamente anterior (están ordenadas por municipio y zona)"
   ]
  },
  {
   "cell_type": "code",
   "execution_count": 22,
   "metadata": {
    "vscode": {
     "languageId": "r"
    }
   },
   "outputs": [],
   "source": [
    "tdata_01_indicadores_fill <- tdata_01_indicadores_join |>\n",
    "    fill(id_zona, nombre_zona)"
   ]
  },
  {
   "attachments": {},
   "cell_type": "markdown",
   "metadata": {},
   "source": [
    "Muestra primeros datos"
   ]
  },
  {
   "cell_type": "code",
   "execution_count": 23,
   "metadata": {
    "vscode": {
     "languageId": "r"
    }
   },
   "outputs": [
    {
     "data": {
      "text/html": [
       "<table class=\"dataframe\">\n",
       "<caption>A tibble: 10 × 22</caption>\n",
       "<thead>\n",
       "\t<tr><th scope=col>ccaa</th><th scope=col>CPRO</th><th scope=col>CMUN</th><th scope=col>dist</th><th scope=col>secc</th><th scope=col>t1_1</th><th scope=col>t2_1</th><th scope=col>t2_2</th><th scope=col>t3_1</th><th scope=col>t4_1</th><th scope=col>⋯</th><th scope=col>t5_1</th><th scope=col>t6_1</th><th scope=col>t7_1</th><th scope=col>t8_1</th><th scope=col>t9_1</th><th scope=col>t10_1</th><th scope=col>t11_1</th><th scope=col>t12_1</th><th scope=col>id_zona</th><th scope=col>nombre_zona</th></tr>\n",
       "\t<tr><th scope=col>&lt;dbl&gt;</th><th scope=col>&lt;dbl&gt;</th><th scope=col>&lt;chr&gt;</th><th scope=col>&lt;chr&gt;</th><th scope=col>&lt;chr&gt;</th><th scope=col>&lt;dbl&gt;</th><th scope=col>&lt;dbl&gt;</th><th scope=col>&lt;dbl&gt;</th><th scope=col>&lt;dbl&gt;</th><th scope=col>&lt;dbl&gt;</th><th scope=col>⋯</th><th scope=col>&lt;dbl&gt;</th><th scope=col>&lt;dbl&gt;</th><th scope=col>&lt;dbl&gt;</th><th scope=col>&lt;dbl&gt;</th><th scope=col>&lt;dbl&gt;</th><th scope=col>&lt;dbl&gt;</th><th scope=col>&lt;dbl&gt;</th><th scope=col>&lt;dbl&gt;</th><th scope=col>&lt;chr&gt;</th><th scope=col>&lt;chr&gt;</th></tr>\n",
       "</thead>\n",
       "<tbody>\n",
       "\t<tr><td>13</td><td>28</td><td>001</td><td>01</td><td>001</td><td>  55</td><td>    NA</td><td>    NA</td><td>     NA</td><td>    NA</td><td>⋯</td><td>    NA</td><td>    NA</td><td>    NA</td><td>    NA</td><td>    NA</td><td>    NA</td><td>    NA</td><td>    NA</td><td>033</td><td>Buitrago de Lozoya</td></tr>\n",
       "\t<tr><td>13</td><td>28</td><td>002</td><td>01</td><td>001</td><td>2358</td><td>0.4724</td><td>0.5276</td><td>40.5161</td><td>0.1425</td><td>⋯</td><td>0.1569</td><td>0.1968</td><td>0.4016</td><td>0.3971</td><td>0.4377</td><td>0.0912</td><td>0.6063</td><td>0.6672</td><td>064</td><td>Daganzo de Arriba </td></tr>\n",
       "\t<tr><td>13</td><td>28</td><td>002</td><td>01</td><td>002</td><td>2435</td><td>0.4830</td><td>0.5170</td><td>38.3339</td><td>0.1959</td><td>⋯</td><td>0.1544</td><td>0.1951</td><td>0.4244</td><td>0.4224</td><td>0.4438</td><td>0.1226</td><td>0.5955</td><td>0.6788</td><td>064</td><td>Daganzo de Arriba </td></tr>\n",
       "\t<tr><td>13</td><td>28</td><td>003</td><td>01</td><td>001</td><td> 248</td><td>0.3952</td><td>0.6048</td><td>47.4597</td><td>0.1371</td><td>⋯</td><td>0.1129</td><td>0.1411</td><td>0.1542</td><td>0.1449</td><td>0.5280</td><td>0.0932</td><td>0.5000</td><td>0.5514</td><td>222</td><td>Rascafría         </td></tr>\n",
       "\t<tr><td>13</td><td>28</td><td>004</td><td>01</td><td>001</td><td>2886</td><td>0.5135</td><td>0.4865</td><td>44.4099</td><td>0.1611</td><td>⋯</td><td>0.1639</td><td>0.2128</td><td>0.1470</td><td>0.1409</td><td>0.2602</td><td>0.1814</td><td>0.4213</td><td>0.5147</td><td>183</td><td>Navalcarnero      </td></tr>\n",
       "\t<tr><td>13</td><td>28</td><td>004</td><td>01</td><td>002</td><td>3376</td><td>0.4793</td><td>0.5207</td><td>40.6810</td><td>0.1739</td><td>⋯</td><td>0.1440</td><td>0.1730</td><td>0.1596</td><td>0.1506</td><td>0.3234</td><td>0.1478</td><td>0.5170</td><td>0.6067</td><td>183</td><td>Navalcarnero      </td></tr>\n",
       "\t<tr><td>13</td><td>28</td><td>004</td><td>01</td><td>003</td><td>2161</td><td>0.5016</td><td>0.4984</td><td>38.0088</td><td>0.2230</td><td>⋯</td><td>0.1749</td><td>0.2138</td><td>0.1668</td><td>0.1602</td><td>0.2859</td><td>0.1658</td><td>0.4943</td><td>0.5926</td><td>183</td><td>Navalcarnero      </td></tr>\n",
       "\t<tr><td>13</td><td>28</td><td>004</td><td>01</td><td>004</td><td>1523</td><td>0.5279</td><td>0.4721</td><td>42.5371</td><td>0.1753</td><td>⋯</td><td>0.1326</td><td>0.1589</td><td>0.1584</td><td>0.1545</td><td>0.3057</td><td>0.1824</td><td>0.4745</td><td>0.5804</td><td>183</td><td>Navalcarnero      </td></tr>\n",
       "\t<tr><td>13</td><td>28</td><td>005</td><td>01</td><td>001</td><td>1648</td><td>0.5461</td><td>0.4539</td><td>43.7360</td><td>0.1195</td><td>⋯</td><td>0.1608</td><td>0.2227</td><td>0.0979</td><td>0.0917</td><td>0.5134</td><td>0.1079</td><td>0.5245</td><td>0.5879</td><td>044</td><td>Carmen Calzado    </td></tr>\n",
       "\t<tr><td>13</td><td>28</td><td>005</td><td>01</td><td>002</td><td>1015</td><td>0.5399</td><td>0.4601</td><td>42.0837</td><td>0.1379</td><td>⋯</td><td>0.1852</td><td>0.2345</td><td>0.1074</td><td>0.0949</td><td>0.4709</td><td>0.1599</td><td>0.4983</td><td>0.5931</td><td>044</td><td>Carmen Calzado    </td></tr>\n",
       "</tbody>\n",
       "</table>\n"
      ],
      "text/latex": [
       "A tibble: 10 × 22\n",
       "\\begin{tabular}{lllllllllllllllllllll}\n",
       " ccaa & CPRO & CMUN & dist & secc & t1\\_1 & t2\\_1 & t2\\_2 & t3\\_1 & t4\\_1 & ⋯ & t5\\_1 & t6\\_1 & t7\\_1 & t8\\_1 & t9\\_1 & t10\\_1 & t11\\_1 & t12\\_1 & id\\_zona & nombre\\_zona\\\\\n",
       " <dbl> & <dbl> & <chr> & <chr> & <chr> & <dbl> & <dbl> & <dbl> & <dbl> & <dbl> & ⋯ & <dbl> & <dbl> & <dbl> & <dbl> & <dbl> & <dbl> & <dbl> & <dbl> & <chr> & <chr>\\\\\n",
       "\\hline\n",
       "\t 13 & 28 & 001 & 01 & 001 &   55 &     NA &     NA &      NA &     NA & ⋯ &     NA &     NA &     NA &     NA &     NA &     NA &     NA &     NA & 033 & Buitrago de Lozoya\\\\\n",
       "\t 13 & 28 & 002 & 01 & 001 & 2358 & 0.4724 & 0.5276 & 40.5161 & 0.1425 & ⋯ & 0.1569 & 0.1968 & 0.4016 & 0.3971 & 0.4377 & 0.0912 & 0.6063 & 0.6672 & 064 & Daganzo de Arriba \\\\\n",
       "\t 13 & 28 & 002 & 01 & 002 & 2435 & 0.4830 & 0.5170 & 38.3339 & 0.1959 & ⋯ & 0.1544 & 0.1951 & 0.4244 & 0.4224 & 0.4438 & 0.1226 & 0.5955 & 0.6788 & 064 & Daganzo de Arriba \\\\\n",
       "\t 13 & 28 & 003 & 01 & 001 &  248 & 0.3952 & 0.6048 & 47.4597 & 0.1371 & ⋯ & 0.1129 & 0.1411 & 0.1542 & 0.1449 & 0.5280 & 0.0932 & 0.5000 & 0.5514 & 222 & Rascafría         \\\\\n",
       "\t 13 & 28 & 004 & 01 & 001 & 2886 & 0.5135 & 0.4865 & 44.4099 & 0.1611 & ⋯ & 0.1639 & 0.2128 & 0.1470 & 0.1409 & 0.2602 & 0.1814 & 0.4213 & 0.5147 & 183 & Navalcarnero      \\\\\n",
       "\t 13 & 28 & 004 & 01 & 002 & 3376 & 0.4793 & 0.5207 & 40.6810 & 0.1739 & ⋯ & 0.1440 & 0.1730 & 0.1596 & 0.1506 & 0.3234 & 0.1478 & 0.5170 & 0.6067 & 183 & Navalcarnero      \\\\\n",
       "\t 13 & 28 & 004 & 01 & 003 & 2161 & 0.5016 & 0.4984 & 38.0088 & 0.2230 & ⋯ & 0.1749 & 0.2138 & 0.1668 & 0.1602 & 0.2859 & 0.1658 & 0.4943 & 0.5926 & 183 & Navalcarnero      \\\\\n",
       "\t 13 & 28 & 004 & 01 & 004 & 1523 & 0.5279 & 0.4721 & 42.5371 & 0.1753 & ⋯ & 0.1326 & 0.1589 & 0.1584 & 0.1545 & 0.3057 & 0.1824 & 0.4745 & 0.5804 & 183 & Navalcarnero      \\\\\n",
       "\t 13 & 28 & 005 & 01 & 001 & 1648 & 0.5461 & 0.4539 & 43.7360 & 0.1195 & ⋯ & 0.1608 & 0.2227 & 0.0979 & 0.0917 & 0.5134 & 0.1079 & 0.5245 & 0.5879 & 044 & Carmen Calzado    \\\\\n",
       "\t 13 & 28 & 005 & 01 & 002 & 1015 & 0.5399 & 0.4601 & 42.0837 & 0.1379 & ⋯ & 0.1852 & 0.2345 & 0.1074 & 0.0949 & 0.4709 & 0.1599 & 0.4983 & 0.5931 & 044 & Carmen Calzado    \\\\\n",
       "\\end{tabular}\n"
      ],
      "text/markdown": [
       "\n",
       "A tibble: 10 × 22\n",
       "\n",
       "| ccaa &lt;dbl&gt; | CPRO &lt;dbl&gt; | CMUN &lt;chr&gt; | dist &lt;chr&gt; | secc &lt;chr&gt; | t1_1 &lt;dbl&gt; | t2_1 &lt;dbl&gt; | t2_2 &lt;dbl&gt; | t3_1 &lt;dbl&gt; | t4_1 &lt;dbl&gt; | ⋯ ⋯ | t5_1 &lt;dbl&gt; | t6_1 &lt;dbl&gt; | t7_1 &lt;dbl&gt; | t8_1 &lt;dbl&gt; | t9_1 &lt;dbl&gt; | t10_1 &lt;dbl&gt; | t11_1 &lt;dbl&gt; | t12_1 &lt;dbl&gt; | id_zona &lt;chr&gt; | nombre_zona &lt;chr&gt; |\n",
       "|---|---|---|---|---|---|---|---|---|---|---|---|---|---|---|---|---|---|---|---|---|\n",
       "| 13 | 28 | 001 | 01 | 001 |   55 |     NA |     NA |      NA |     NA | ⋯ |     NA |     NA |     NA |     NA |     NA |     NA |     NA |     NA | 033 | Buitrago de Lozoya |\n",
       "| 13 | 28 | 002 | 01 | 001 | 2358 | 0.4724 | 0.5276 | 40.5161 | 0.1425 | ⋯ | 0.1569 | 0.1968 | 0.4016 | 0.3971 | 0.4377 | 0.0912 | 0.6063 | 0.6672 | 064 | Daganzo de Arriba  |\n",
       "| 13 | 28 | 002 | 01 | 002 | 2435 | 0.4830 | 0.5170 | 38.3339 | 0.1959 | ⋯ | 0.1544 | 0.1951 | 0.4244 | 0.4224 | 0.4438 | 0.1226 | 0.5955 | 0.6788 | 064 | Daganzo de Arriba  |\n",
       "| 13 | 28 | 003 | 01 | 001 |  248 | 0.3952 | 0.6048 | 47.4597 | 0.1371 | ⋯ | 0.1129 | 0.1411 | 0.1542 | 0.1449 | 0.5280 | 0.0932 | 0.5000 | 0.5514 | 222 | Rascafría          |\n",
       "| 13 | 28 | 004 | 01 | 001 | 2886 | 0.5135 | 0.4865 | 44.4099 | 0.1611 | ⋯ | 0.1639 | 0.2128 | 0.1470 | 0.1409 | 0.2602 | 0.1814 | 0.4213 | 0.5147 | 183 | Navalcarnero       |\n",
       "| 13 | 28 | 004 | 01 | 002 | 3376 | 0.4793 | 0.5207 | 40.6810 | 0.1739 | ⋯ | 0.1440 | 0.1730 | 0.1596 | 0.1506 | 0.3234 | 0.1478 | 0.5170 | 0.6067 | 183 | Navalcarnero       |\n",
       "| 13 | 28 | 004 | 01 | 003 | 2161 | 0.5016 | 0.4984 | 38.0088 | 0.2230 | ⋯ | 0.1749 | 0.2138 | 0.1668 | 0.1602 | 0.2859 | 0.1658 | 0.4943 | 0.5926 | 183 | Navalcarnero       |\n",
       "| 13 | 28 | 004 | 01 | 004 | 1523 | 0.5279 | 0.4721 | 42.5371 | 0.1753 | ⋯ | 0.1326 | 0.1589 | 0.1584 | 0.1545 | 0.3057 | 0.1824 | 0.4745 | 0.5804 | 183 | Navalcarnero       |\n",
       "| 13 | 28 | 005 | 01 | 001 | 1648 | 0.5461 | 0.4539 | 43.7360 | 0.1195 | ⋯ | 0.1608 | 0.2227 | 0.0979 | 0.0917 | 0.5134 | 0.1079 | 0.5245 | 0.5879 | 044 | Carmen Calzado     |\n",
       "| 13 | 28 | 005 | 01 | 002 | 1015 | 0.5399 | 0.4601 | 42.0837 | 0.1379 | ⋯ | 0.1852 | 0.2345 | 0.1074 | 0.0949 | 0.4709 | 0.1599 | 0.4983 | 0.5931 | 044 | Carmen Calzado     |\n",
       "\n"
      ],
      "text/plain": [
       "   ccaa CPRO CMUN dist secc t1_1 t2_1   t2_2   t3_1    t4_1   ⋯ t5_1   t6_1  \n",
       "1  13   28   001  01   001    55     NA     NA      NA     NA ⋯     NA     NA\n",
       "2  13   28   002  01   001  2358 0.4724 0.5276 40.5161 0.1425 ⋯ 0.1569 0.1968\n",
       "3  13   28   002  01   002  2435 0.4830 0.5170 38.3339 0.1959 ⋯ 0.1544 0.1951\n",
       "4  13   28   003  01   001   248 0.3952 0.6048 47.4597 0.1371 ⋯ 0.1129 0.1411\n",
       "5  13   28   004  01   001  2886 0.5135 0.4865 44.4099 0.1611 ⋯ 0.1639 0.2128\n",
       "6  13   28   004  01   002  3376 0.4793 0.5207 40.6810 0.1739 ⋯ 0.1440 0.1730\n",
       "7  13   28   004  01   003  2161 0.5016 0.4984 38.0088 0.2230 ⋯ 0.1749 0.2138\n",
       "8  13   28   004  01   004  1523 0.5279 0.4721 42.5371 0.1753 ⋯ 0.1326 0.1589\n",
       "9  13   28   005  01   001  1648 0.5461 0.4539 43.7360 0.1195 ⋯ 0.1608 0.2227\n",
       "10 13   28   005  01   002  1015 0.5399 0.4601 42.0837 0.1379 ⋯ 0.1852 0.2345\n",
       "   t7_1   t8_1   t9_1   t10_1  t11_1  t12_1  id_zona nombre_zona       \n",
       "1      NA     NA     NA     NA     NA     NA 033     Buitrago de Lozoya\n",
       "2  0.4016 0.3971 0.4377 0.0912 0.6063 0.6672 064     Daganzo de Arriba \n",
       "3  0.4244 0.4224 0.4438 0.1226 0.5955 0.6788 064     Daganzo de Arriba \n",
       "4  0.1542 0.1449 0.5280 0.0932 0.5000 0.5514 222     Rascafría         \n",
       "5  0.1470 0.1409 0.2602 0.1814 0.4213 0.5147 183     Navalcarnero      \n",
       "6  0.1596 0.1506 0.3234 0.1478 0.5170 0.6067 183     Navalcarnero      \n",
       "7  0.1668 0.1602 0.2859 0.1658 0.4943 0.5926 183     Navalcarnero      \n",
       "8  0.1584 0.1545 0.3057 0.1824 0.4745 0.5804 183     Navalcarnero      \n",
       "9  0.0979 0.0917 0.5134 0.1079 0.5245 0.5879 044     Carmen Calzado    \n",
       "10 0.1074 0.0949 0.4709 0.1599 0.4983 0.5931 044     Carmen Calzado    "
      ]
     },
     "metadata": {},
     "output_type": "display_data"
    }
   ],
   "source": [
    "slice_head(tdata_01_indicadores_fill, n = 10)"
   ]
  },
  {
   "attachments": {},
   "cell_type": "markdown",
   "metadata": {},
   "source": [
    "#### Calcular indicadores por zona sanitaria\n",
    "\n",
    "* Una zona sanitaria se corresponde con varias secciones censales\n",
    "* Para calcular los datos agregados, hay que transformar los porcentajes a números absolutos, sumar y después volver a calcular el porcentaje\n",
    "* Al agregar, si todos los datos son NA queda cero, y hay que volver a asignar NA"
   ]
  },
  {
   "cell_type": "code",
   "execution_count": 24,
   "metadata": {
    "vscode": {
     "languageId": "r"
    }
   },
   "outputs": [
    {
     "data": {
      "text/html": [
       "<table class=\"dataframe\">\n",
       "<caption>A tibble: 10 × 18</caption>\n",
       "<thead>\n",
       "\t<tr><th scope=col>id_zona</th><th scope=col>nombre_zona</th><th scope=col>nsec</th><th scope=col>t3_1</th><th scope=col>t1_1</th><th scope=col>t2_1</th><th scope=col>t2_2</th><th scope=col>t4_1</th><th scope=col>t4_2</th><th scope=col>t4_3</th><th scope=col>t5_1</th><th scope=col>t6_1</th><th scope=col>t7_1</th><th scope=col>t8_1</th><th scope=col>t9_1</th><th scope=col>t10_1</th><th scope=col>t11_1</th><th scope=col>t12_1</th></tr>\n",
       "\t<tr><th scope=col>&lt;chr&gt;</th><th scope=col>&lt;chr&gt;</th><th scope=col>&lt;int&gt;</th><th scope=col>&lt;dbl&gt;</th><th scope=col>&lt;dbl&gt;</th><th scope=col>&lt;dbl&gt;</th><th scope=col>&lt;dbl&gt;</th><th scope=col>&lt;dbl&gt;</th><th scope=col>&lt;dbl&gt;</th><th scope=col>&lt;dbl&gt;</th><th scope=col>&lt;dbl&gt;</th><th scope=col>&lt;dbl&gt;</th><th scope=col>&lt;dbl&gt;</th><th scope=col>&lt;dbl&gt;</th><th scope=col>&lt;dbl&gt;</th><th scope=col>&lt;dbl&gt;</th><th scope=col>&lt;dbl&gt;</th><th scope=col>&lt;dbl&gt;</th></tr>\n",
       "</thead>\n",
       "<tbody>\n",
       "\t<tr><td>001</td><td>Abrantes                  </td><td>23</td><td>42.31249</td><td>29872</td><td>0.5345094</td><td>0.4654906</td><td>0.15619346</td><td>0.6656459</td><td>0.1781619</td><td>0.21839930</td><td>0.34508551</td><td>0.04090796</td><td>0.02880326</td><td>0.2685716</td><td>0.16656066</td><td>0.4723181</td><td>0.5637381</td></tr>\n",
       "\t<tr><td>002</td><td>Acacias                   </td><td>11</td><td>46.15717</td><td>17961</td><td>0.5328775</td><td>0.4671225</td><td>0.10929873</td><td>0.6516215</td><td>0.2390941</td><td>0.04313645</td><td>0.07700825</td><td>0.08494593</td><td>0.07576304</td><td>0.6368488</td><td>0.08377987</td><td>0.5083022</td><td>0.5548573</td></tr>\n",
       "\t<tr><td>003</td><td>Adelfas                   </td><td>19</td><td>45.30472</td><td>28933</td><td>0.5383134</td><td>0.4616866</td><td>0.12408817</td><td>0.6541986</td><td>0.2217328</td><td>0.07236948</td><td>0.12420792</td><td>0.07195008</td><td>0.06532400</td><td>0.6031800</td><td>0.08766432</td><td>0.5262385</td><td>0.5770966</td></tr>\n",
       "\t<tr><td>004</td><td>Alameda                   </td><td>18</td><td>43.70575</td><td>21393</td><td>0.4919805</td><td>0.5080195</td><td>0.07409008</td><td>0.7685363</td><td>0.1574029</td><td>0.26145728</td><td>0.35309699</td><td>0.04949630</td><td>0.04323113</td><td>0.5672350</td><td>0.12302998</td><td>0.5410470</td><td>0.6171510</td></tr>\n",
       "\t<tr><td>005</td><td>Alameda de Osuna          </td><td>18</td><td>43.31968</td><td>27259</td><td>0.5153616</td><td>0.4846384</td><td>0.17427654</td><td>0.6063697</td><td>0.2193419</td><td>0.07059011</td><td>0.12803028</td><td>0.07156026</td><td>0.06267665</td><td>0.5862647</td><td>0.08518132</td><td>0.5028547</td><td>0.5490471</td></tr>\n",
       "\t<tr><td>006</td><td>Alcalde Bartolomé González</td><td>15</td><td>44.26034</td><td>21186</td><td>0.5120957</td><td>0.4879043</td><td>0.13291248</td><td>0.6370983</td><td>0.2299524</td><td>0.20101468</td><td>0.26753677</td><td>0.03280560</td><td>0.02074304</td><td>0.1852615</td><td>0.18264006</td><td>0.4279288</td><td>0.5236781</td></tr>\n",
       "\t<tr><td>007</td><td>Alcalá  de Guadaira       </td><td>10</td><td>44.97266</td><td>12367</td><td>0.5392504</td><td>0.4607496</td><td>0.12266048</td><td>0.6599792</td><td>0.2173468</td><td>0.18880300</td><td>0.30080681</td><td>0.04468144</td><td>0.03374930</td><td>0.2591666</td><td>0.14870522</td><td>0.4618907</td><td>0.5430907</td></tr>\n",
       "\t<tr><td>008</td><td>Alcobendas - Chopera      </td><td>17</td><td>42.93862</td><td>27448</td><td>0.5282667</td><td>0.4717333</td><td>0.13861856</td><td>0.6563967</td><td>0.2049690</td><td>0.22332569</td><td>0.33780250</td><td>0.05416036</td><td>0.04193885</td><td>0.2819676</td><td>0.13412835</td><td>0.4738721</td><td>0.5474459</td></tr>\n",
       "\t<tr><td>009</td><td>Alcocer                   </td><td>11</td><td>42.05643</td><td>15096</td><td>0.5237922</td><td>0.4762078</td><td>0.15022895</td><td>0.6844287</td><td>0.1653453</td><td>0.17746808</td><td>0.26602496</td><td>0.04107322</td><td>0.02798725</td><td>0.2196678</td><td>0.22170092</td><td>0.4555100</td><td>0.5830294</td></tr>\n",
       "\t<tr><td>010</td><td>Algete                    </td><td>12</td><td>39.13500</td><td>28128</td><td>0.5093169</td><td>0.4906831</td><td>0.18857426</td><td>0.6896536</td><td>0.1217598</td><td>0.11367372</td><td>0.16909605</td><td>0.07704286</td><td>0.06070795</td><td>0.4297046</td><td>0.09993557</td><td>0.5496031</td><td>0.6114399</td></tr>\n",
       "</tbody>\n",
       "</table>\n"
      ],
      "text/latex": [
       "A tibble: 10 × 18\n",
       "\\begin{tabular}{llllllllllllllllll}\n",
       " id\\_zona & nombre\\_zona & nsec & t3\\_1 & t1\\_1 & t2\\_1 & t2\\_2 & t4\\_1 & t4\\_2 & t4\\_3 & t5\\_1 & t6\\_1 & t7\\_1 & t8\\_1 & t9\\_1 & t10\\_1 & t11\\_1 & t12\\_1\\\\\n",
       " <chr> & <chr> & <int> & <dbl> & <dbl> & <dbl> & <dbl> & <dbl> & <dbl> & <dbl> & <dbl> & <dbl> & <dbl> & <dbl> & <dbl> & <dbl> & <dbl> & <dbl>\\\\\n",
       "\\hline\n",
       "\t 001 & Abrantes                   & 23 & 42.31249 & 29872 & 0.5345094 & 0.4654906 & 0.15619346 & 0.6656459 & 0.1781619 & 0.21839930 & 0.34508551 & 0.04090796 & 0.02880326 & 0.2685716 & 0.16656066 & 0.4723181 & 0.5637381\\\\\n",
       "\t 002 & Acacias                    & 11 & 46.15717 & 17961 & 0.5328775 & 0.4671225 & 0.10929873 & 0.6516215 & 0.2390941 & 0.04313645 & 0.07700825 & 0.08494593 & 0.07576304 & 0.6368488 & 0.08377987 & 0.5083022 & 0.5548573\\\\\n",
       "\t 003 & Adelfas                    & 19 & 45.30472 & 28933 & 0.5383134 & 0.4616866 & 0.12408817 & 0.6541986 & 0.2217328 & 0.07236948 & 0.12420792 & 0.07195008 & 0.06532400 & 0.6031800 & 0.08766432 & 0.5262385 & 0.5770966\\\\\n",
       "\t 004 & Alameda                    & 18 & 43.70575 & 21393 & 0.4919805 & 0.5080195 & 0.07409008 & 0.7685363 & 0.1574029 & 0.26145728 & 0.35309699 & 0.04949630 & 0.04323113 & 0.5672350 & 0.12302998 & 0.5410470 & 0.6171510\\\\\n",
       "\t 005 & Alameda de Osuna           & 18 & 43.31968 & 27259 & 0.5153616 & 0.4846384 & 0.17427654 & 0.6063697 & 0.2193419 & 0.07059011 & 0.12803028 & 0.07156026 & 0.06267665 & 0.5862647 & 0.08518132 & 0.5028547 & 0.5490471\\\\\n",
       "\t 006 & Alcalde Bartolomé González & 15 & 44.26034 & 21186 & 0.5120957 & 0.4879043 & 0.13291248 & 0.6370983 & 0.2299524 & 0.20101468 & 0.26753677 & 0.03280560 & 0.02074304 & 0.1852615 & 0.18264006 & 0.4279288 & 0.5236781\\\\\n",
       "\t 007 & Alcalá  de Guadaira        & 10 & 44.97266 & 12367 & 0.5392504 & 0.4607496 & 0.12266048 & 0.6599792 & 0.2173468 & 0.18880300 & 0.30080681 & 0.04468144 & 0.03374930 & 0.2591666 & 0.14870522 & 0.4618907 & 0.5430907\\\\\n",
       "\t 008 & Alcobendas - Chopera       & 17 & 42.93862 & 27448 & 0.5282667 & 0.4717333 & 0.13861856 & 0.6563967 & 0.2049690 & 0.22332569 & 0.33780250 & 0.05416036 & 0.04193885 & 0.2819676 & 0.13412835 & 0.4738721 & 0.5474459\\\\\n",
       "\t 009 & Alcocer                    & 11 & 42.05643 & 15096 & 0.5237922 & 0.4762078 & 0.15022895 & 0.6844287 & 0.1653453 & 0.17746808 & 0.26602496 & 0.04107322 & 0.02798725 & 0.2196678 & 0.22170092 & 0.4555100 & 0.5830294\\\\\n",
       "\t 010 & Algete                     & 12 & 39.13500 & 28128 & 0.5093169 & 0.4906831 & 0.18857426 & 0.6896536 & 0.1217598 & 0.11367372 & 0.16909605 & 0.07704286 & 0.06070795 & 0.4297046 & 0.09993557 & 0.5496031 & 0.6114399\\\\\n",
       "\\end{tabular}\n"
      ],
      "text/markdown": [
       "\n",
       "A tibble: 10 × 18\n",
       "\n",
       "| id_zona &lt;chr&gt; | nombre_zona &lt;chr&gt; | nsec &lt;int&gt; | t3_1 &lt;dbl&gt; | t1_1 &lt;dbl&gt; | t2_1 &lt;dbl&gt; | t2_2 &lt;dbl&gt; | t4_1 &lt;dbl&gt; | t4_2 &lt;dbl&gt; | t4_3 &lt;dbl&gt; | t5_1 &lt;dbl&gt; | t6_1 &lt;dbl&gt; | t7_1 &lt;dbl&gt; | t8_1 &lt;dbl&gt; | t9_1 &lt;dbl&gt; | t10_1 &lt;dbl&gt; | t11_1 &lt;dbl&gt; | t12_1 &lt;dbl&gt; |\n",
       "|---|---|---|---|---|---|---|---|---|---|---|---|---|---|---|---|---|---|\n",
       "| 001 | Abrantes                   | 23 | 42.31249 | 29872 | 0.5345094 | 0.4654906 | 0.15619346 | 0.6656459 | 0.1781619 | 0.21839930 | 0.34508551 | 0.04090796 | 0.02880326 | 0.2685716 | 0.16656066 | 0.4723181 | 0.5637381 |\n",
       "| 002 | Acacias                    | 11 | 46.15717 | 17961 | 0.5328775 | 0.4671225 | 0.10929873 | 0.6516215 | 0.2390941 | 0.04313645 | 0.07700825 | 0.08494593 | 0.07576304 | 0.6368488 | 0.08377987 | 0.5083022 | 0.5548573 |\n",
       "| 003 | Adelfas                    | 19 | 45.30472 | 28933 | 0.5383134 | 0.4616866 | 0.12408817 | 0.6541986 | 0.2217328 | 0.07236948 | 0.12420792 | 0.07195008 | 0.06532400 | 0.6031800 | 0.08766432 | 0.5262385 | 0.5770966 |\n",
       "| 004 | Alameda                    | 18 | 43.70575 | 21393 | 0.4919805 | 0.5080195 | 0.07409008 | 0.7685363 | 0.1574029 | 0.26145728 | 0.35309699 | 0.04949630 | 0.04323113 | 0.5672350 | 0.12302998 | 0.5410470 | 0.6171510 |\n",
       "| 005 | Alameda de Osuna           | 18 | 43.31968 | 27259 | 0.5153616 | 0.4846384 | 0.17427654 | 0.6063697 | 0.2193419 | 0.07059011 | 0.12803028 | 0.07156026 | 0.06267665 | 0.5862647 | 0.08518132 | 0.5028547 | 0.5490471 |\n",
       "| 006 | Alcalde Bartolomé González | 15 | 44.26034 | 21186 | 0.5120957 | 0.4879043 | 0.13291248 | 0.6370983 | 0.2299524 | 0.20101468 | 0.26753677 | 0.03280560 | 0.02074304 | 0.1852615 | 0.18264006 | 0.4279288 | 0.5236781 |\n",
       "| 007 | Alcalá  de Guadaira        | 10 | 44.97266 | 12367 | 0.5392504 | 0.4607496 | 0.12266048 | 0.6599792 | 0.2173468 | 0.18880300 | 0.30080681 | 0.04468144 | 0.03374930 | 0.2591666 | 0.14870522 | 0.4618907 | 0.5430907 |\n",
       "| 008 | Alcobendas - Chopera       | 17 | 42.93862 | 27448 | 0.5282667 | 0.4717333 | 0.13861856 | 0.6563967 | 0.2049690 | 0.22332569 | 0.33780250 | 0.05416036 | 0.04193885 | 0.2819676 | 0.13412835 | 0.4738721 | 0.5474459 |\n",
       "| 009 | Alcocer                    | 11 | 42.05643 | 15096 | 0.5237922 | 0.4762078 | 0.15022895 | 0.6844287 | 0.1653453 | 0.17746808 | 0.26602496 | 0.04107322 | 0.02798725 | 0.2196678 | 0.22170092 | 0.4555100 | 0.5830294 |\n",
       "| 010 | Algete                     | 12 | 39.13500 | 28128 | 0.5093169 | 0.4906831 | 0.18857426 | 0.6896536 | 0.1217598 | 0.11367372 | 0.16909605 | 0.07704286 | 0.06070795 | 0.4297046 | 0.09993557 | 0.5496031 | 0.6114399 |\n",
       "\n"
      ],
      "text/plain": [
       "   id_zona nombre_zona                nsec t3_1     t1_1  t2_1      t2_2     \n",
       "1  001     Abrantes                   23   42.31249 29872 0.5345094 0.4654906\n",
       "2  002     Acacias                    11   46.15717 17961 0.5328775 0.4671225\n",
       "3  003     Adelfas                    19   45.30472 28933 0.5383134 0.4616866\n",
       "4  004     Alameda                    18   43.70575 21393 0.4919805 0.5080195\n",
       "5  005     Alameda de Osuna           18   43.31968 27259 0.5153616 0.4846384\n",
       "6  006     Alcalde Bartolomé González 15   44.26034 21186 0.5120957 0.4879043\n",
       "7  007     Alcalá  de Guadaira        10   44.97266 12367 0.5392504 0.4607496\n",
       "8  008     Alcobendas - Chopera       17   42.93862 27448 0.5282667 0.4717333\n",
       "9  009     Alcocer                    11   42.05643 15096 0.5237922 0.4762078\n",
       "10 010     Algete                     12   39.13500 28128 0.5093169 0.4906831\n",
       "   t4_1       t4_2      t4_3      t5_1       t6_1       t7_1       t8_1      \n",
       "1  0.15619346 0.6656459 0.1781619 0.21839930 0.34508551 0.04090796 0.02880326\n",
       "2  0.10929873 0.6516215 0.2390941 0.04313645 0.07700825 0.08494593 0.07576304\n",
       "3  0.12408817 0.6541986 0.2217328 0.07236948 0.12420792 0.07195008 0.06532400\n",
       "4  0.07409008 0.7685363 0.1574029 0.26145728 0.35309699 0.04949630 0.04323113\n",
       "5  0.17427654 0.6063697 0.2193419 0.07059011 0.12803028 0.07156026 0.06267665\n",
       "6  0.13291248 0.6370983 0.2299524 0.20101468 0.26753677 0.03280560 0.02074304\n",
       "7  0.12266048 0.6599792 0.2173468 0.18880300 0.30080681 0.04468144 0.03374930\n",
       "8  0.13861856 0.6563967 0.2049690 0.22332569 0.33780250 0.05416036 0.04193885\n",
       "9  0.15022895 0.6844287 0.1653453 0.17746808 0.26602496 0.04107322 0.02798725\n",
       "10 0.18857426 0.6896536 0.1217598 0.11367372 0.16909605 0.07704286 0.06070795\n",
       "   t9_1      t10_1      t11_1     t12_1    \n",
       "1  0.2685716 0.16656066 0.4723181 0.5637381\n",
       "2  0.6368488 0.08377987 0.5083022 0.5548573\n",
       "3  0.6031800 0.08766432 0.5262385 0.5770966\n",
       "4  0.5672350 0.12302998 0.5410470 0.6171510\n",
       "5  0.5862647 0.08518132 0.5028547 0.5490471\n",
       "6  0.1852615 0.18264006 0.4279288 0.5236781\n",
       "7  0.2591666 0.14870522 0.4618907 0.5430907\n",
       "8  0.2819676 0.13412835 0.4738721 0.5474459\n",
       "9  0.2196678 0.22170092 0.4555100 0.5830294\n",
       "10 0.4297046 0.09993557 0.5496031 0.6114399"
      ]
     },
     "metadata": {},
     "output_type": "display_data"
    }
   ],
   "source": [
    "data_04_zonas_ind <- tdata_01_indicadores_fill |>\n",
    "  mutate(across(c(t2_1:t2_2, t4_1:t12_1), ~ .x*t1_1)) |> \n",
    "  group_by(id_zona, nombre_zona) |> \n",
    "  summarise(nsec = n(),\n",
    "            t3_1 = weighted.mean(x = t3_1, w = t1_1, na.rm = TRUE),\n",
    "            t1_1 = sum(t1_1, na.rm = TRUE),\n",
    "            across(c(t2_1:t2_2, t4_1:t12_1), ~sum(.x, na.rm = TRUE)/sum(t1_1, na.rm = TRUE)),\n",
    "            .groups = \"keep\") |>\n",
    "  mutate(across(t3_1:t12_1, ~ if_else(.x == 0, NA_real_, .x))) |>\n",
    "  arrange(id_zona) |>\n",
    "  ungroup()\n",
    "data_04_zonas_ind |> slice_head(n = 10)\n"
   ]
  },
  {
   "attachments": {},
   "cell_type": "markdown",
   "metadata": {},
   "source": [
    "Comprobar que no se repiten zonas"
   ]
  },
  {
   "cell_type": "code",
   "execution_count": 25,
   "metadata": {
    "vscode": {
     "languageId": "r"
    }
   },
   "outputs": [
    {
     "data": {
      "text/html": [
       "286"
      ],
      "text/latex": [
       "286"
      ],
      "text/markdown": [
       "286"
      ],
      "text/plain": [
       "[1] 286"
      ]
     },
     "metadata": {},
     "output_type": "display_data"
    },
    {
     "data": {
      "text/html": [
       "286"
      ],
      "text/latex": [
       "286"
      ],
      "text/markdown": [
       "286"
      ],
      "text/plain": [
       "[1] 286"
      ]
     },
     "metadata": {},
     "output_type": "display_data"
    }
   ],
   "source": [
    "\n",
    "length(unique(data_04_zonas_ind$id_zona))\n",
    "nrow(data_04_zonas_ind)"
   ]
  },
  {
   "attachments": {},
   "cell_type": "markdown",
   "metadata": {},
   "source": [
    "Análisis de los valores perdidos"
   ]
  },
  {
   "cell_type": "code",
   "execution_count": 26,
   "metadata": {
    "vscode": {
     "languageId": "r"
    }
   },
   "outputs": [
    {
     "data": {
      "text/html": [
       "<table class=\"dataframe\">\n",
       "<caption>A spec_tbl_df: 3 × 5</caption>\n",
       "<thead>\n",
       "\t<tr><th scope=col>id_zona</th><th scope=col>nombre_zona</th><th scope=col>CMUN</th><th scope=col>dist</th><th scope=col>secc</th></tr>\n",
       "\t<tr><th scope=col>&lt;chr&gt;</th><th scope=col>&lt;chr&gt;</th><th scope=col>&lt;chr&gt;</th><th scope=col>&lt;chr&gt;</th><th scope=col>&lt;chr&gt;</th></tr>\n",
       "</thead>\n",
       "<tbody>\n",
       "\t<tr><td>123</td><td>La Garena</td><td>005</td><td>08</td><td>013</td></tr>\n",
       "\t<tr><td>123</td><td>La Garena</td><td>005</td><td>08</td><td>024</td></tr>\n",
       "\t<tr><td>123</td><td>La Garena</td><td>005</td><td>08</td><td>029</td></tr>\n",
       "</tbody>\n",
       "</table>\n"
      ],
      "text/latex": [
       "A spec\\_tbl\\_df: 3 × 5\n",
       "\\begin{tabular}{lllll}\n",
       " id\\_zona & nombre\\_zona & CMUN & dist & secc\\\\\n",
       " <chr> & <chr> & <chr> & <chr> & <chr>\\\\\n",
       "\\hline\n",
       "\t 123 & La Garena & 005 & 08 & 013\\\\\n",
       "\t 123 & La Garena & 005 & 08 & 024\\\\\n",
       "\t 123 & La Garena & 005 & 08 & 029\\\\\n",
       "\\end{tabular}\n"
      ],
      "text/markdown": [
       "\n",
       "A spec_tbl_df: 3 × 5\n",
       "\n",
       "| id_zona &lt;chr&gt; | nombre_zona &lt;chr&gt; | CMUN &lt;chr&gt; | dist &lt;chr&gt; | secc &lt;chr&gt; |\n",
       "|---|---|---|---|---|\n",
       "| 123 | La Garena | 005 | 08 | 013 |\n",
       "| 123 | La Garena | 005 | 08 | 024 |\n",
       "| 123 | La Garena | 005 | 08 | 029 |\n",
       "\n"
      ],
      "text/plain": [
       "  id_zona nombre_zona CMUN dist secc\n",
       "1 123     La Garena   005  08   013 \n",
       "2 123     La Garena   005  08   024 \n",
       "3 123     La Garena   005  08   029 "
      ]
     },
     "metadata": {},
     "output_type": "display_data"
    },
    {
     "data": {
      "text/html": [
       "<table class=\"dataframe\">\n",
       "<caption>A spec_tbl_df: 0 × 20</caption>\n",
       "<thead>\n",
       "\t<tr><th scope=col>ccaa</th><th scope=col>CPRO</th><th scope=col>CMUN</th><th scope=col>dist</th><th scope=col>secc</th><th scope=col>t1_1</th><th scope=col>t2_1</th><th scope=col>t2_2</th><th scope=col>t3_1</th><th scope=col>t4_1</th><th scope=col>t4_2</th><th scope=col>t4_3</th><th scope=col>t5_1</th><th scope=col>t6_1</th><th scope=col>t7_1</th><th scope=col>t8_1</th><th scope=col>t9_1</th><th scope=col>t10_1</th><th scope=col>t11_1</th><th scope=col>t12_1</th></tr>\n",
       "\t<tr><th scope=col>&lt;dbl&gt;</th><th scope=col>&lt;dbl&gt;</th><th scope=col>&lt;chr&gt;</th><th scope=col>&lt;chr&gt;</th><th scope=col>&lt;chr&gt;</th><th scope=col>&lt;dbl&gt;</th><th scope=col>&lt;dbl&gt;</th><th scope=col>&lt;dbl&gt;</th><th scope=col>&lt;dbl&gt;</th><th scope=col>&lt;dbl&gt;</th><th scope=col>&lt;dbl&gt;</th><th scope=col>&lt;dbl&gt;</th><th scope=col>&lt;dbl&gt;</th><th scope=col>&lt;dbl&gt;</th><th scope=col>&lt;dbl&gt;</th><th scope=col>&lt;dbl&gt;</th><th scope=col>&lt;dbl&gt;</th><th scope=col>&lt;dbl&gt;</th><th scope=col>&lt;dbl&gt;</th><th scope=col>&lt;dbl&gt;</th></tr>\n",
       "</thead>\n",
       "<tbody>\n",
       "</tbody>\n",
       "</table>\n"
      ],
      "text/latex": [
       "A spec\\_tbl\\_df: 0 × 20\n",
       "\\begin{tabular}{llllllllllllllllllll}\n",
       " ccaa & CPRO & CMUN & dist & secc & t1\\_1 & t2\\_1 & t2\\_2 & t3\\_1 & t4\\_1 & t4\\_2 & t4\\_3 & t5\\_1 & t6\\_1 & t7\\_1 & t8\\_1 & t9\\_1 & t10\\_1 & t11\\_1 & t12\\_1\\\\\n",
       " <dbl> & <dbl> & <chr> & <chr> & <chr> & <dbl> & <dbl> & <dbl> & <dbl> & <dbl> & <dbl> & <dbl> & <dbl> & <dbl> & <dbl> & <dbl> & <dbl> & <dbl> & <dbl> & <dbl>\\\\\n",
       "\\hline\n",
       "\\end{tabular}\n"
      ],
      "text/markdown": [
       "\n",
       "A spec_tbl_df: 0 × 20\n",
       "\n",
       "| ccaa &lt;dbl&gt; | CPRO &lt;dbl&gt; | CMUN &lt;chr&gt; | dist &lt;chr&gt; | secc &lt;chr&gt; | t1_1 &lt;dbl&gt; | t2_1 &lt;dbl&gt; | t2_2 &lt;dbl&gt; | t3_1 &lt;dbl&gt; | t4_1 &lt;dbl&gt; | t4_2 &lt;dbl&gt; | t4_3 &lt;dbl&gt; | t5_1 &lt;dbl&gt; | t6_1 &lt;dbl&gt; | t7_1 &lt;dbl&gt; | t8_1 &lt;dbl&gt; | t9_1 &lt;dbl&gt; | t10_1 &lt;dbl&gt; | t11_1 &lt;dbl&gt; | t12_1 &lt;dbl&gt; |\n",
       "|---|---|---|---|---|---|---|---|---|---|---|---|---|---|---|---|---|---|---|---|\n",
       "\n"
      ],
      "text/plain": [
       "     ccaa CPRO CMUN dist secc t1_1 t2_1 t2_2 t3_1 t4_1 t4_2 t4_3 t5_1 t6_1 t7_1\n",
       "     t8_1 t9_1 t10_1 t11_1 t12_1"
      ]
     },
     "metadata": {},
     "output_type": "display_data"
    }
   ],
   "source": [
    "data_02_zonasec |> filter(id_zona == \"123\")\n",
    "data_01_indicadores |> filter(CMUN == \"005\", dist == \"08\")"
   ]
  },
  {
   "attachments": {},
   "cell_type": "markdown",
   "metadata": {},
   "source": [
    "Hay distritos en la correspondencia de zonas de salud que no existen en los indicadores del INE. Algunos forman una zona completa, por lo que se quedará esa zona sin los indicadores."
   ]
  },
  {
   "attachments": {},
   "cell_type": "markdown",
   "metadata": {},
   "source": [
    "#### Asignación de la superficie a las zonas de salud y cálculo de densidad de población"
   ]
  },
  {
   "cell_type": "code",
   "execution_count": 27,
   "metadata": {
    "vscode": {
     "languageId": "r"
    }
   },
   "outputs": [],
   "source": [
    "tdata_04_zonas_dens <- data_04_zonas_ind |>\n",
    "    inner_join(data_03_zonas |> select(GEOCODIGO, area), \n",
    "                by = c(\"id_zona\" = \"GEOCODIGO\")) |>\n",
    "    mutate(densidad_hab_km = t1_1/(area*10^(-6)))"
   ]
  },
  {
   "attachments": {},
   "cell_type": "markdown",
   "metadata": {},
   "source": [
    "Estructura de los datos:"
   ]
  },
  {
   "cell_type": "code",
   "execution_count": 28,
   "metadata": {
    "vscode": {
     "languageId": "r"
    }
   },
   "outputs": [
    {
     "name": "stdout",
     "output_type": "stream",
     "text": [
      "Rows: 286\n",
      "Columns: 20\n",
      "$ id_zona         \u001b[3m\u001b[90m<chr>\u001b[39m\u001b[23m \"001\", \"002\", \"003\", \"004\", \"005\", \"006\", \"007\", \"008\"…\n",
      "$ nombre_zona     \u001b[3m\u001b[90m<chr>\u001b[39m\u001b[23m \"Abrantes\", \"Acacias\", \"Adelfas\", \"Alameda\", \"Alameda …\n",
      "$ nsec            \u001b[3m\u001b[90m<int>\u001b[39m\u001b[23m 23, 11, 19, 18, 18, 15, 10, 17, 11, 12, 14, 17, 8, 20,…\n",
      "$ t3_1            \u001b[3m\u001b[90m<dbl>\u001b[39m\u001b[23m 42.31249, 46.15717, 45.30472, 43.70575, 43.31968, 44.2…\n",
      "$ t1_1            \u001b[3m\u001b[90m<dbl>\u001b[39m\u001b[23m 29872, 17961, 28933, 21393, 27259, 21186, 12367, 27448…\n",
      "$ t2_1            \u001b[3m\u001b[90m<dbl>\u001b[39m\u001b[23m 0.5345094, 0.5328775, 0.5383134, 0.4919805, 0.5153616,…\n",
      "$ t2_2            \u001b[3m\u001b[90m<dbl>\u001b[39m\u001b[23m 0.4654906, 0.4671225, 0.4616866, 0.5080195, 0.4846384,…\n",
      "$ t4_1            \u001b[3m\u001b[90m<dbl>\u001b[39m\u001b[23m 0.15619346, 0.10929873, 0.12408817, 0.07409008, 0.1742…\n",
      "$ t4_2            \u001b[3m\u001b[90m<dbl>\u001b[39m\u001b[23m 0.6656459, 0.6516215, 0.6541986, 0.7685363, 0.6063697,…\n",
      "$ t4_3            \u001b[3m\u001b[90m<dbl>\u001b[39m\u001b[23m 0.17816190, 0.23909411, 0.22173279, 0.15740288, 0.2193…\n",
      "$ t5_1            \u001b[3m\u001b[90m<dbl>\u001b[39m\u001b[23m 0.21839930, 0.04313645, 0.07236948, 0.26145728, 0.0705…\n",
      "$ t6_1            \u001b[3m\u001b[90m<dbl>\u001b[39m\u001b[23m 0.34508551, 0.07700825, 0.12420792, 0.35309699, 0.1280…\n",
      "$ t7_1            \u001b[3m\u001b[90m<dbl>\u001b[39m\u001b[23m 0.04090796, 0.08494593, 0.07195008, 0.04949630, 0.0715…\n",
      "$ t8_1            \u001b[3m\u001b[90m<dbl>\u001b[39m\u001b[23m 0.02880326, 0.07576304, 0.06532400, 0.04323113, 0.0626…\n",
      "$ t9_1            \u001b[3m\u001b[90m<dbl>\u001b[39m\u001b[23m 0.2685716, 0.6368488, 0.6031800, 0.5672350, 0.5862647,…\n",
      "$ t10_1           \u001b[3m\u001b[90m<dbl>\u001b[39m\u001b[23m 0.16656066, 0.08377987, 0.08766432, 0.12302998, 0.0851…\n",
      "$ t11_1           \u001b[3m\u001b[90m<dbl>\u001b[39m\u001b[23m 0.4723181, 0.5083022, 0.5262385, 0.5410470, 0.5028547,…\n",
      "$ t12_1           \u001b[3m\u001b[90m<dbl>\u001b[39m\u001b[23m 0.5637381, 0.5548573, 0.5770966, 0.6171510, 0.5490471,…\n",
      "$ area            \u001b[3m\u001b[90m<dbl>\u001b[39m\u001b[23m 1571618.8, 771569.7, 854805.6, 547596.1, 35137989.9, 6…\n",
      "$ densidad_hab_km \u001b[3m\u001b[90m<dbl>\u001b[39m\u001b[23m 19007.1534, 23278.5190, 33847.4619, 39067.1135, 775.77…\n"
     ]
    }
   ],
   "source": [
    "glimpse(tdata_04_zonas_dens)"
   ]
  },
  {
   "attachments": {},
   "cell_type": "markdown",
   "metadata": {},
   "source": [
    "Muestra primeros datos:"
   ]
  },
  {
   "cell_type": "code",
   "execution_count": 29,
   "metadata": {
    "vscode": {
     "languageId": "r"
    }
   },
   "outputs": [
    {
     "data": {
      "text/html": [
       "<table class=\"dataframe\">\n",
       "<caption>A tibble: 10 × 20</caption>\n",
       "<thead>\n",
       "\t<tr><th scope=col>id_zona</th><th scope=col>nombre_zona</th><th scope=col>nsec</th><th scope=col>t3_1</th><th scope=col>t1_1</th><th scope=col>t2_1</th><th scope=col>t2_2</th><th scope=col>t4_1</th><th scope=col>t4_2</th><th scope=col>t4_3</th><th scope=col>t5_1</th><th scope=col>t6_1</th><th scope=col>t7_1</th><th scope=col>t8_1</th><th scope=col>t9_1</th><th scope=col>t10_1</th><th scope=col>t11_1</th><th scope=col>t12_1</th><th scope=col>area</th><th scope=col>densidad_hab_km</th></tr>\n",
       "\t<tr><th scope=col>&lt;chr&gt;</th><th scope=col>&lt;chr&gt;</th><th scope=col>&lt;int&gt;</th><th scope=col>&lt;dbl&gt;</th><th scope=col>&lt;dbl&gt;</th><th scope=col>&lt;dbl&gt;</th><th scope=col>&lt;dbl&gt;</th><th scope=col>&lt;dbl&gt;</th><th scope=col>&lt;dbl&gt;</th><th scope=col>&lt;dbl&gt;</th><th scope=col>&lt;dbl&gt;</th><th scope=col>&lt;dbl&gt;</th><th scope=col>&lt;dbl&gt;</th><th scope=col>&lt;dbl&gt;</th><th scope=col>&lt;dbl&gt;</th><th scope=col>&lt;dbl&gt;</th><th scope=col>&lt;dbl&gt;</th><th scope=col>&lt;dbl&gt;</th><th scope=col>&lt;dbl&gt;</th><th scope=col>&lt;dbl&gt;</th></tr>\n",
       "</thead>\n",
       "<tbody>\n",
       "\t<tr><td>001</td><td>Abrantes                  </td><td>23</td><td>42.31249</td><td>29872</td><td>0.5345094</td><td>0.4654906</td><td>0.15619346</td><td>0.6656459</td><td>0.1781619</td><td>0.21839930</td><td>0.34508551</td><td>0.04090796</td><td>0.02880326</td><td>0.2685716</td><td>0.16656066</td><td>0.4723181</td><td>0.5637381</td><td> 1571618.8</td><td>19007.1534</td></tr>\n",
       "\t<tr><td>002</td><td>Acacias                   </td><td>11</td><td>46.15717</td><td>17961</td><td>0.5328775</td><td>0.4671225</td><td>0.10929873</td><td>0.6516215</td><td>0.2390941</td><td>0.04313645</td><td>0.07700825</td><td>0.08494593</td><td>0.07576304</td><td>0.6368488</td><td>0.08377987</td><td>0.5083022</td><td>0.5548573</td><td>  771569.7</td><td>23278.5190</td></tr>\n",
       "\t<tr><td>003</td><td>Adelfas                   </td><td>19</td><td>45.30472</td><td>28933</td><td>0.5383134</td><td>0.4616866</td><td>0.12408817</td><td>0.6541986</td><td>0.2217328</td><td>0.07236948</td><td>0.12420792</td><td>0.07195008</td><td>0.06532400</td><td>0.6031800</td><td>0.08766432</td><td>0.5262385</td><td>0.5770966</td><td>  854805.6</td><td>33847.4619</td></tr>\n",
       "\t<tr><td>004</td><td>Alameda                   </td><td>18</td><td>43.70575</td><td>21393</td><td>0.4919805</td><td>0.5080195</td><td>0.07409008</td><td>0.7685363</td><td>0.1574029</td><td>0.26145728</td><td>0.35309699</td><td>0.04949630</td><td>0.04323113</td><td>0.5672350</td><td>0.12302998</td><td>0.5410470</td><td>0.6171510</td><td>  547596.1</td><td>39067.1135</td></tr>\n",
       "\t<tr><td>005</td><td>Alameda de Osuna          </td><td>18</td><td>43.31968</td><td>27259</td><td>0.5153616</td><td>0.4846384</td><td>0.17427654</td><td>0.6063697</td><td>0.2193419</td><td>0.07059011</td><td>0.12803028</td><td>0.07156026</td><td>0.06267665</td><td>0.5862647</td><td>0.08518132</td><td>0.5028547</td><td>0.5490471</td><td>35137989.9</td><td>  775.7700</td></tr>\n",
       "\t<tr><td>006</td><td>Alcalde Bartolomé González</td><td>15</td><td>44.26034</td><td>21186</td><td>0.5120957</td><td>0.4879043</td><td>0.13291248</td><td>0.6370983</td><td>0.2299524</td><td>0.20101468</td><td>0.26753677</td><td>0.03280560</td><td>0.02074304</td><td>0.1852615</td><td>0.18264006</td><td>0.4279288</td><td>0.5236781</td><td>  661765.0</td><td>32014.3856</td></tr>\n",
       "\t<tr><td>007</td><td>Alcalá  de Guadaira       </td><td>10</td><td>44.97266</td><td>12367</td><td>0.5392504</td><td>0.4607496</td><td>0.12266048</td><td>0.6599792</td><td>0.2173468</td><td>0.18880300</td><td>0.30080681</td><td>0.04468144</td><td>0.03374930</td><td>0.2591666</td><td>0.14870522</td><td>0.4618907</td><td>0.5430907</td><td>  504815.5</td><td>24498.0604</td></tr>\n",
       "\t<tr><td>008</td><td>Alcobendas - Chopera      </td><td>17</td><td>42.93862</td><td>27448</td><td>0.5282667</td><td>0.4717333</td><td>0.13861856</td><td>0.6563967</td><td>0.2049690</td><td>0.22332569</td><td>0.33780250</td><td>0.05416036</td><td>0.04193885</td><td>0.2819676</td><td>0.13412835</td><td>0.4738721</td><td>0.5474459</td><td>  811208.4</td><td>33835.9417</td></tr>\n",
       "\t<tr><td>009</td><td>Alcocer                   </td><td>11</td><td>42.05643</td><td>15096</td><td>0.5237922</td><td>0.4762078</td><td>0.15022895</td><td>0.6844287</td><td>0.1653453</td><td>0.17746808</td><td>0.26602496</td><td>0.04107322</td><td>0.02798725</td><td>0.2196678</td><td>0.22170092</td><td>0.4555100</td><td>0.5830294</td><td> 3837912.7</td><td> 3933.3881</td></tr>\n",
       "\t<tr><td>010</td><td>Algete                    </td><td>12</td><td>39.13500</td><td>28128</td><td>0.5093169</td><td>0.4906831</td><td>0.18857426</td><td>0.6896536</td><td>0.1217598</td><td>0.11367372</td><td>0.16909605</td><td>0.07704286</td><td>0.06070795</td><td>0.4297046</td><td>0.09993557</td><td>0.5496031</td><td>0.6114399</td><td>58724766.6</td><td>  478.9802</td></tr>\n",
       "</tbody>\n",
       "</table>\n"
      ],
      "text/latex": [
       "A tibble: 10 × 20\n",
       "\\begin{tabular}{llllllllllllllllllll}\n",
       " id\\_zona & nombre\\_zona & nsec & t3\\_1 & t1\\_1 & t2\\_1 & t2\\_2 & t4\\_1 & t4\\_2 & t4\\_3 & t5\\_1 & t6\\_1 & t7\\_1 & t8\\_1 & t9\\_1 & t10\\_1 & t11\\_1 & t12\\_1 & area & densidad\\_hab\\_km\\\\\n",
       " <chr> & <chr> & <int> & <dbl> & <dbl> & <dbl> & <dbl> & <dbl> & <dbl> & <dbl> & <dbl> & <dbl> & <dbl> & <dbl> & <dbl> & <dbl> & <dbl> & <dbl> & <dbl> & <dbl>\\\\\n",
       "\\hline\n",
       "\t 001 & Abrantes                   & 23 & 42.31249 & 29872 & 0.5345094 & 0.4654906 & 0.15619346 & 0.6656459 & 0.1781619 & 0.21839930 & 0.34508551 & 0.04090796 & 0.02880326 & 0.2685716 & 0.16656066 & 0.4723181 & 0.5637381 &  1571618.8 & 19007.1534\\\\\n",
       "\t 002 & Acacias                    & 11 & 46.15717 & 17961 & 0.5328775 & 0.4671225 & 0.10929873 & 0.6516215 & 0.2390941 & 0.04313645 & 0.07700825 & 0.08494593 & 0.07576304 & 0.6368488 & 0.08377987 & 0.5083022 & 0.5548573 &   771569.7 & 23278.5190\\\\\n",
       "\t 003 & Adelfas                    & 19 & 45.30472 & 28933 & 0.5383134 & 0.4616866 & 0.12408817 & 0.6541986 & 0.2217328 & 0.07236948 & 0.12420792 & 0.07195008 & 0.06532400 & 0.6031800 & 0.08766432 & 0.5262385 & 0.5770966 &   854805.6 & 33847.4619\\\\\n",
       "\t 004 & Alameda                    & 18 & 43.70575 & 21393 & 0.4919805 & 0.5080195 & 0.07409008 & 0.7685363 & 0.1574029 & 0.26145728 & 0.35309699 & 0.04949630 & 0.04323113 & 0.5672350 & 0.12302998 & 0.5410470 & 0.6171510 &   547596.1 & 39067.1135\\\\\n",
       "\t 005 & Alameda de Osuna           & 18 & 43.31968 & 27259 & 0.5153616 & 0.4846384 & 0.17427654 & 0.6063697 & 0.2193419 & 0.07059011 & 0.12803028 & 0.07156026 & 0.06267665 & 0.5862647 & 0.08518132 & 0.5028547 & 0.5490471 & 35137989.9 &   775.7700\\\\\n",
       "\t 006 & Alcalde Bartolomé González & 15 & 44.26034 & 21186 & 0.5120957 & 0.4879043 & 0.13291248 & 0.6370983 & 0.2299524 & 0.20101468 & 0.26753677 & 0.03280560 & 0.02074304 & 0.1852615 & 0.18264006 & 0.4279288 & 0.5236781 &   661765.0 & 32014.3856\\\\\n",
       "\t 007 & Alcalá  de Guadaira        & 10 & 44.97266 & 12367 & 0.5392504 & 0.4607496 & 0.12266048 & 0.6599792 & 0.2173468 & 0.18880300 & 0.30080681 & 0.04468144 & 0.03374930 & 0.2591666 & 0.14870522 & 0.4618907 & 0.5430907 &   504815.5 & 24498.0604\\\\\n",
       "\t 008 & Alcobendas - Chopera       & 17 & 42.93862 & 27448 & 0.5282667 & 0.4717333 & 0.13861856 & 0.6563967 & 0.2049690 & 0.22332569 & 0.33780250 & 0.05416036 & 0.04193885 & 0.2819676 & 0.13412835 & 0.4738721 & 0.5474459 &   811208.4 & 33835.9417\\\\\n",
       "\t 009 & Alcocer                    & 11 & 42.05643 & 15096 & 0.5237922 & 0.4762078 & 0.15022895 & 0.6844287 & 0.1653453 & 0.17746808 & 0.26602496 & 0.04107322 & 0.02798725 & 0.2196678 & 0.22170092 & 0.4555100 & 0.5830294 &  3837912.7 &  3933.3881\\\\\n",
       "\t 010 & Algete                     & 12 & 39.13500 & 28128 & 0.5093169 & 0.4906831 & 0.18857426 & 0.6896536 & 0.1217598 & 0.11367372 & 0.16909605 & 0.07704286 & 0.06070795 & 0.4297046 & 0.09993557 & 0.5496031 & 0.6114399 & 58724766.6 &   478.9802\\\\\n",
       "\\end{tabular}\n"
      ],
      "text/markdown": [
       "\n",
       "A tibble: 10 × 20\n",
       "\n",
       "| id_zona &lt;chr&gt; | nombre_zona &lt;chr&gt; | nsec &lt;int&gt; | t3_1 &lt;dbl&gt; | t1_1 &lt;dbl&gt; | t2_1 &lt;dbl&gt; | t2_2 &lt;dbl&gt; | t4_1 &lt;dbl&gt; | t4_2 &lt;dbl&gt; | t4_3 &lt;dbl&gt; | t5_1 &lt;dbl&gt; | t6_1 &lt;dbl&gt; | t7_1 &lt;dbl&gt; | t8_1 &lt;dbl&gt; | t9_1 &lt;dbl&gt; | t10_1 &lt;dbl&gt; | t11_1 &lt;dbl&gt; | t12_1 &lt;dbl&gt; | area &lt;dbl&gt; | densidad_hab_km &lt;dbl&gt; |\n",
       "|---|---|---|---|---|---|---|---|---|---|---|---|---|---|---|---|---|---|---|---|\n",
       "| 001 | Abrantes                   | 23 | 42.31249 | 29872 | 0.5345094 | 0.4654906 | 0.15619346 | 0.6656459 | 0.1781619 | 0.21839930 | 0.34508551 | 0.04090796 | 0.02880326 | 0.2685716 | 0.16656066 | 0.4723181 | 0.5637381 |  1571618.8 | 19007.1534 |\n",
       "| 002 | Acacias                    | 11 | 46.15717 | 17961 | 0.5328775 | 0.4671225 | 0.10929873 | 0.6516215 | 0.2390941 | 0.04313645 | 0.07700825 | 0.08494593 | 0.07576304 | 0.6368488 | 0.08377987 | 0.5083022 | 0.5548573 |   771569.7 | 23278.5190 |\n",
       "| 003 | Adelfas                    | 19 | 45.30472 | 28933 | 0.5383134 | 0.4616866 | 0.12408817 | 0.6541986 | 0.2217328 | 0.07236948 | 0.12420792 | 0.07195008 | 0.06532400 | 0.6031800 | 0.08766432 | 0.5262385 | 0.5770966 |   854805.6 | 33847.4619 |\n",
       "| 004 | Alameda                    | 18 | 43.70575 | 21393 | 0.4919805 | 0.5080195 | 0.07409008 | 0.7685363 | 0.1574029 | 0.26145728 | 0.35309699 | 0.04949630 | 0.04323113 | 0.5672350 | 0.12302998 | 0.5410470 | 0.6171510 |   547596.1 | 39067.1135 |\n",
       "| 005 | Alameda de Osuna           | 18 | 43.31968 | 27259 | 0.5153616 | 0.4846384 | 0.17427654 | 0.6063697 | 0.2193419 | 0.07059011 | 0.12803028 | 0.07156026 | 0.06267665 | 0.5862647 | 0.08518132 | 0.5028547 | 0.5490471 | 35137989.9 |   775.7700 |\n",
       "| 006 | Alcalde Bartolomé González | 15 | 44.26034 | 21186 | 0.5120957 | 0.4879043 | 0.13291248 | 0.6370983 | 0.2299524 | 0.20101468 | 0.26753677 | 0.03280560 | 0.02074304 | 0.1852615 | 0.18264006 | 0.4279288 | 0.5236781 |   661765.0 | 32014.3856 |\n",
       "| 007 | Alcalá  de Guadaira        | 10 | 44.97266 | 12367 | 0.5392504 | 0.4607496 | 0.12266048 | 0.6599792 | 0.2173468 | 0.18880300 | 0.30080681 | 0.04468144 | 0.03374930 | 0.2591666 | 0.14870522 | 0.4618907 | 0.5430907 |   504815.5 | 24498.0604 |\n",
       "| 008 | Alcobendas - Chopera       | 17 | 42.93862 | 27448 | 0.5282667 | 0.4717333 | 0.13861856 | 0.6563967 | 0.2049690 | 0.22332569 | 0.33780250 | 0.05416036 | 0.04193885 | 0.2819676 | 0.13412835 | 0.4738721 | 0.5474459 |   811208.4 | 33835.9417 |\n",
       "| 009 | Alcocer                    | 11 | 42.05643 | 15096 | 0.5237922 | 0.4762078 | 0.15022895 | 0.6844287 | 0.1653453 | 0.17746808 | 0.26602496 | 0.04107322 | 0.02798725 | 0.2196678 | 0.22170092 | 0.4555100 | 0.5830294 |  3837912.7 |  3933.3881 |\n",
       "| 010 | Algete                     | 12 | 39.13500 | 28128 | 0.5093169 | 0.4906831 | 0.18857426 | 0.6896536 | 0.1217598 | 0.11367372 | 0.16909605 | 0.07704286 | 0.06070795 | 0.4297046 | 0.09993557 | 0.5496031 | 0.6114399 | 58724766.6 |   478.9802 |\n",
       "\n"
      ],
      "text/plain": [
       "   id_zona nombre_zona                nsec t3_1     t1_1  t2_1      t2_2     \n",
       "1  001     Abrantes                   23   42.31249 29872 0.5345094 0.4654906\n",
       "2  002     Acacias                    11   46.15717 17961 0.5328775 0.4671225\n",
       "3  003     Adelfas                    19   45.30472 28933 0.5383134 0.4616866\n",
       "4  004     Alameda                    18   43.70575 21393 0.4919805 0.5080195\n",
       "5  005     Alameda de Osuna           18   43.31968 27259 0.5153616 0.4846384\n",
       "6  006     Alcalde Bartolomé González 15   44.26034 21186 0.5120957 0.4879043\n",
       "7  007     Alcalá  de Guadaira        10   44.97266 12367 0.5392504 0.4607496\n",
       "8  008     Alcobendas - Chopera       17   42.93862 27448 0.5282667 0.4717333\n",
       "9  009     Alcocer                    11   42.05643 15096 0.5237922 0.4762078\n",
       "10 010     Algete                     12   39.13500 28128 0.5093169 0.4906831\n",
       "   t4_1       t4_2      t4_3      t5_1       t6_1       t7_1       t8_1      \n",
       "1  0.15619346 0.6656459 0.1781619 0.21839930 0.34508551 0.04090796 0.02880326\n",
       "2  0.10929873 0.6516215 0.2390941 0.04313645 0.07700825 0.08494593 0.07576304\n",
       "3  0.12408817 0.6541986 0.2217328 0.07236948 0.12420792 0.07195008 0.06532400\n",
       "4  0.07409008 0.7685363 0.1574029 0.26145728 0.35309699 0.04949630 0.04323113\n",
       "5  0.17427654 0.6063697 0.2193419 0.07059011 0.12803028 0.07156026 0.06267665\n",
       "6  0.13291248 0.6370983 0.2299524 0.20101468 0.26753677 0.03280560 0.02074304\n",
       "7  0.12266048 0.6599792 0.2173468 0.18880300 0.30080681 0.04468144 0.03374930\n",
       "8  0.13861856 0.6563967 0.2049690 0.22332569 0.33780250 0.05416036 0.04193885\n",
       "9  0.15022895 0.6844287 0.1653453 0.17746808 0.26602496 0.04107322 0.02798725\n",
       "10 0.18857426 0.6896536 0.1217598 0.11367372 0.16909605 0.07704286 0.06070795\n",
       "   t9_1      t10_1      t11_1     t12_1     area       densidad_hab_km\n",
       "1  0.2685716 0.16656066 0.4723181 0.5637381  1571618.8 19007.1534     \n",
       "2  0.6368488 0.08377987 0.5083022 0.5548573   771569.7 23278.5190     \n",
       "3  0.6031800 0.08766432 0.5262385 0.5770966   854805.6 33847.4619     \n",
       "4  0.5672350 0.12302998 0.5410470 0.6171510   547596.1 39067.1135     \n",
       "5  0.5862647 0.08518132 0.5028547 0.5490471 35137989.9   775.7700     \n",
       "6  0.1852615 0.18264006 0.4279288 0.5236781   661765.0 32014.3856     \n",
       "7  0.2591666 0.14870522 0.4618907 0.5430907   504815.5 24498.0604     \n",
       "8  0.2819676 0.13412835 0.4738721 0.5474459   811208.4 33835.9417     \n",
       "9  0.2196678 0.22170092 0.4555100 0.5830294  3837912.7  3933.3881     \n",
       "10 0.4297046 0.09993557 0.5496031 0.6114399 58724766.6   478.9802     "
      ]
     },
     "metadata": {},
     "output_type": "display_data"
    }
   ],
   "source": [
    "tdata_04_zonas_dens |> \n",
    "    slice_head(n = 10)"
   ]
  },
  {
   "cell_type": "markdown",
   "metadata": {
    "slideshow": {
     "slide_type": "slide"
    }
   },
   "source": [
    "## Synthetic Data Generation"
   ]
  },
  {
   "attachments": {},
   "cell_type": "markdown",
   "metadata": {
    "slideshow": {
     "slide_type": "slide"
    }
   },
   "source": [
    "Estos datos no requieren tareas de este tipo."
   ]
  },
  {
   "cell_type": "markdown",
   "metadata": {
    "slideshow": {
     "slide_type": "slide"
    }
   },
   "source": [
    "## Fake Data Generation"
   ]
  },
  {
   "attachments": {},
   "cell_type": "markdown",
   "metadata": {
    "slideshow": {
     "slide_type": "slide"
    }
   },
   "source": [
    "Estos datos no requieren tareas de este tipo."
   ]
  },
  {
   "cell_type": "markdown",
   "metadata": {
    "slideshow": {
     "slide_type": "slide"
    }
   },
   "source": [
    "## Open Data"
   ]
  },
  {
   "attachments": {},
   "cell_type": "markdown",
   "metadata": {
    "slideshow": {
     "slide_type": "slide"
    }
   },
   "source": [
    "Estos datos no requieren tareas de este tipo."
   ]
  },
  {
   "cell_type": "markdown",
   "metadata": {},
   "source": [
    "## <font color='green'>Data Save</font>"
   ]
  },
  {
   "cell_type": "markdown",
   "metadata": {},
   "source": [
    "Este proceso, puede copiarse y repetirse en aquellas partes del notebbok que necesiten guardar datos.\n",
    "Recuerde cambiar la extensión añadida del fichero para diferenciarlas"
   ]
  },
  {
   "cell_type": "markdown",
   "metadata": {},
   "source": [
    "<font color='tomato'> Identificamos los datos a guardar</font>"
   ]
  },
  {
   "cell_type": "code",
   "execution_count": 30,
   "metadata": {
    "ExecuteTime": {
     "end_time": "2020-12-25T17:59:27.022001Z",
     "start_time": "2020-12-25T17:59:15.986986Z"
    },
    "scrolled": false,
    "vscode": {
     "languageId": "r"
    }
   },
   "outputs": [
    {
     "ename": "ERROR",
     "evalue": "Error in eval(expr, envir, enclos): objeto 'tdata_04_zonas_ind' no encontrado\n",
     "output_type": "error",
     "traceback": [
      "Error in eval(expr, envir, enclos): objeto 'tdata_04_zonas_ind' no encontrado\nTraceback:\n"
     ]
    }
   ],
   "source": [
    "data_to_save_01 <- tdata_01_indicadores_fill\n",
    "data_to_save_02 <- tdata_04_zonas_ind"
   ]
  },
  {
   "attachments": {},
   "cell_type": "markdown",
   "metadata": {},
   "source": [
    "\n",
    "<font color='tomato'>Estructura de nombre de archivos:</font>\n",
    "\n",
    "* Código del caso de uso, por ejemplo \"CU_04\"\n",
    "* Número del proceso que lo genera, por ejemplo \"_05\".\n",
    "* Número de la tarea que lo genera, por ejemplo \"_01\"\n",
    "* En caso de generarse varios ficheros en la misma tarea, llevarán _01 _02 ... después\n",
    "* Nombre: identificativo de \"properData\", por ejemplo \"_zonasgeo\"\n",
    "* Extensión del archivo\n",
    "\n",
    "Ejemplo: \"CU_04_05_01_01_zonasgeo.json, primer fichero que se genera en la tarea 01 del proceso 05 (Data Collection) para el caso de uso 04 (vacunas)\n",
    "\n",
    "Importante mantener los guiones bajos antes de proceso, tarea, archivo y nombre"
   ]
  },
  {
   "attachments": {},
   "cell_type": "markdown",
   "metadata": {},
   "source": [
    "### Proceso 05"
   ]
  },
  {
   "attachments": {},
   "cell_type": "markdown",
   "metadata": {},
   "source": [
    "Archivo de indicadores con la zona sanitaria asignada"
   ]
  },
  {
   "cell_type": "code",
   "execution_count": null,
   "metadata": {
    "ExecuteTime": {
     "end_time": "2020-12-25T17:59:27.022001Z",
     "start_time": "2020-12-25T17:59:15.986986Z"
    },
    "scrolled": false,
    "vscode": {
     "languageId": "r"
    }
   },
   "outputs": [],
   "source": [
    "caso <- \"CU_04\"\n",
    "proceso <- '_05'\n",
    "tarea <- \"_05\"\n",
    "archivo <- \"_01\"\n",
    "proper <- \"_indicadores_secciones\"\n",
    "extension <- \".csv\""
   ]
  },
  {
   "attachments": {},
   "cell_type": "markdown",
   "metadata": {},
   "source": [
    "<font color='tomato'><b> OPCION A:</b> Uso del paquete \"tcltk\" para mayor comodidad</font>\n",
    "\n",
    "* Buscar carpeta, escribir nombre de archivo SIN extensión (se especifica en el código)\n",
    "* Especificar sufijo2 si es necesario\n",
    "* Cambiar datos por datos_xx si es necesario"
   ]
  },
  {
   "cell_type": "code",
   "execution_count": null,
   "metadata": {
    "ExecuteTime": {
     "end_time": "2020-12-25T17:59:27.022001Z",
     "start_time": "2020-12-25T17:59:15.986986Z"
    },
    "scrolled": false,
    "vscode": {
     "languageId": "r"
    }
   },
   "outputs": [],
   "source": [
    "# file_save_01 <- paste0(caso, proceso, tarea, tcltk::tkgetSaveFile(), proper, extension) \n",
    "# path_out <- paste0(oPath, file_save_01)\n",
    "# write_csv(data_to_save_01, path_out)\n",
    "\n",
    "# cat('File saved as: ')\n",
    "# path_out"
   ]
  },
  {
   "attachments": {},
   "cell_type": "markdown",
   "metadata": {},
   "source": [
    "<font color='tomato'><b> OPCION B:</b> Especificar el nombre de archivo</font>"
   ]
  },
  {
   "attachments": {},
   "cell_type": "markdown",
   "metadata": {},
   "source": [
    "- Los ficheros de salida del proceso van siempre a Data/Output/.  "
   ]
  },
  {
   "cell_type": "code",
   "execution_count": null,
   "metadata": {
    "ExecuteTime": {
     "end_time": "2021-01-26T18:40:31.258294Z",
     "start_time": "2021-01-26T18:40:26.061847Z"
    },
    "slideshow": {
     "slide_type": "subslide"
    },
    "vscode": {
     "languageId": "r"
    }
   },
   "outputs": [],
   "source": [
    "file_save <- paste0(caso, proceso, tarea, archivo, proper, extension) \n",
    "path_out <- paste0(oPath, file_save)\n",
    "write_csv(data_to_save_01, path_out)\n",
    "\n",
    "cat('File saved as: ')\n",
    "path_out"
   ]
  },
  {
   "attachments": {},
   "cell_type": "markdown",
   "metadata": {},
   "source": [
    "Archivo de indicadores por zona sanitaria"
   ]
  },
  {
   "cell_type": "code",
   "execution_count": null,
   "metadata": {
    "vscode": {
     "languageId": "r"
    }
   },
   "outputs": [],
   "source": [
    "archivo <- \"_02\"\n",
    "proper <- \"_indicadores_zonas\"\n",
    "extension <- \".csv\""
   ]
  },
  {
   "attachments": {},
   "cell_type": "markdown",
   "metadata": {},
   "source": [
    "<font color='tomato'><b> OPCION A:</b> Uso del paquete \"tcltk\" para mayor comodidad</font>\n",
    "\n",
    "* Buscar carpeta, escribir nombre de archivo SIN extensión (se especifica en el código)\n",
    "* Especificar sufijo2 si es necesario\n",
    "* Cambiar datos por datos_xx si es necesario"
   ]
  },
  {
   "cell_type": "code",
   "execution_count": null,
   "metadata": {
    "vscode": {
     "languageId": "r"
    }
   },
   "outputs": [],
   "source": [
    "# file_save_02 <- paste0(caso, proceso, tarea, tcltk::tkgetSaveFile(), proper, extension) \n",
    "# path_out <- paste0(oPath, file_save_02)\n",
    "# write_csv(data_to_save_02, path_out)\n",
    "\n",
    "# cat('File saved as: ')\n",
    "# path_out"
   ]
  },
  {
   "attachments": {},
   "cell_type": "markdown",
   "metadata": {},
   "source": [
    "<font color='tomato'><b> OPCION B:</b> Especificar el nombre de archivo</font>"
   ]
  },
  {
   "cell_type": "code",
   "execution_count": null,
   "metadata": {
    "vscode": {
     "languageId": "r"
    }
   },
   "outputs": [],
   "source": [
    "file_save <- paste0(caso, proceso, tarea, archivo, proper, extension) \n",
    "path_out <- paste0(oPath, file_save)\n",
    "write_csv(data_to_save_02, path_out)\n",
    "\n",
    "cat('File saved as: ')\n",
    "path_out"
   ]
  },
  {
   "cell_type": "markdown",
   "metadata": {},
   "source": [
    "## <font color=' #2874a6 '>Main Conclusions</font>"
   ]
  },
  {
   "cell_type": "markdown",
   "metadata": {
    "slideshow": {
     "slide_type": "slide"
    }
   },
   "source": [
    "<font color='steelblue'>List and describe the general conclusions of the analysis carried out​.</font>"
   ]
  },
  {
   "attachments": {},
   "cell_type": "markdown",
   "metadata": {},
   "source": [
    "### Prerequisites\n",
    "\n",
    "This working code needs the following conditions:\n",
    "\n",
    "* For using the interactive selection of file, the {tcltk} package must be installed. It is not needed in production.\n",
    "* The {readr}, {tidyr} and {dplyr} packages must be installed. They is part of the _tidyverse_.\n",
    "* The data paths `Data/Input` and `Data/Output` must exist (relative to the notebook path)"
   ]
  },
  {
   "attachments": {},
   "cell_type": "markdown",
   "metadata": {},
   "source": [
    "### Configuration Management\n",
    "\n",
    "This notebook has been tested with the following versions of R and packages. It cannot be assured that later versions work in the same way:\n",
    "* R 4.2.2\n",
    "* tcltk 4.2.2\n",
    "* readr 2.1.3\n",
    "* dplyr 1.0.10\n",
    "* tidyr 1.2.1"
   ]
  },
  {
   "attachments": {},
   "cell_type": "markdown",
   "metadata": {},
   "source": [
    "### Data structures"
   ]
  },
  {
   "cell_type": "code",
   "execution_count": null,
   "metadata": {
    "vscode": {
     "languageId": "r"
    }
   },
   "outputs": [],
   "source": [
    "glimpse(tdata_04_zonas_ind)"
   ]
  },
  {
   "attachments": {},
   "cell_type": "markdown",
   "metadata": {},
   "source": [
    "#### Objeto `tdata_01_indicadores_fill` (indicadores por sección censal)\n",
    "\n",
    "* Los mismos datos de entrada a los que se le añade el código y nombre de zona básica de salud que le corresponde a la sección censal"
   ]
  },
  {
   "attachments": {},
   "cell_type": "markdown",
   "metadata": {},
   "source": [
    "#### Objeto `tdata_04_zonas_ind` (indicadores por zona básica de salud)\n",
    "\n",
    "* Indicadores de las 286 zonas básicas de salud\n",
    "* Número de secciones censales que la componen\n",
    "* Área en m^2 y Densidad de población de cada área en hab/km^2\n",
    "* Hay valores perdidos por haber secciones censales en el archivo de zonas que no existen en el archivo del INE"
   ]
  },
  {
   "attachments": {},
   "cell_type": "markdown",
   "metadata": {},
   "source": [
    "#### Observaciones generales sobre los datos\n",
    "\n",
    "* Hay 345 secciones censales en el fichero de indicadores del INE que no se corresponden con ninguna zona sanitaria de la Comunidad de Madrid\n",
    "* Hay 122 secciones censales en el fichero de zonas básicas de salud que no aparecen en el fichero de indicadores del INE\n",
    "* Como los indicadores están en porcentajes, para agrupar datos hay que transformar primero a valores absolutos y después volver a calcular el porcentaje\n",
    "* Los valores que se calculan como cero deben tratarse como NA\n",
    "* El código de municipio en la tabla de correspondencias no se ha correspondido con el código de municipio en los datos de geolocalización en algunas zonas"
   ]
  },
  {
   "attachments": {},
   "cell_type": "markdown",
   "metadata": {},
   "source": [
    "## Consideraciones para despliegue en piloto\n",
    "\n",
    "* Los datos del INE son posteriores a los datos de las zonas sanitarias, lo que puede afectar a los modelos"
   ]
  },
  {
   "attachments": {},
   "cell_type": "markdown",
   "metadata": {},
   "source": [
    "## Consideraciones para despliegue en producción\n",
    "\n",
    "* Se deben crear los procesos ETL en producción necesarios para que los datos de entrada estén actualizados y tengan su correspondencia en las dos fuentes (INE, CM)"
   ]
  },
  {
   "cell_type": "markdown",
   "metadata": {},
   "source": [
    "## <font color=' #2874a6 '>Main Actions</font>"
   ]
  },
  {
   "cell_type": "markdown",
   "metadata": {},
   "source": [
    "#### <font color=' #2874a6 '>Acciones done</font>"
   ]
  },
  {
   "cell_type": "markdown",
   "metadata": {
    "slideshow": {
     "slide_type": "slide"
    }
   },
   "source": [
    "<font color='steelblue'>Indicate the actions that have been carried out in this process</font>"
   ]
  },
  {
   "attachments": {},
   "cell_type": "markdown",
   "metadata": {},
   "source": [
    "- Se han unido las tablas de zonas sanitarias con secciones censales\n",
    "- Se han calculado los indicadores del INE por zona sanitaria\n",
    "- Se ha calculado la densidad de población de cada zona sanitaria\n",
    "- Se ha asignado la zona sanitaria inmediatamente anterior a las secciones censales que no tenían"
   ]
  },
  {
   "cell_type": "markdown",
   "metadata": {},
   "source": [
    "#### <font color=' #2874a6 '>Acctions to perform</font>"
   ]
  },
  {
   "cell_type": "markdown",
   "metadata": {
    "slideshow": {
     "slide_type": "slide"
    }
   },
   "source": [
    "<font color='steelblue'>Indicate the actions that must be carried out in subsequent processes</font>"
   ]
  },
  {
   "attachments": {},
   "cell_type": "markdown",
   "metadata": {},
   "source": [
    "- Se debe comprobar por qué hay secciones censales sin correspondencia con zona sanitaria.\n",
    "- Se debe comprobar por qué no coincide el código de municipio"
   ]
  },
  {
   "attachments": {},
   "cell_type": "markdown",
   "metadata": {},
   "source": [
    "## <font color='RED'>CODE TO DEPLOY (PILOT)</font>\n",
    "\n",
    "A continuación se incluirá el código que deba ser llevado a despliegue para producción, dado que se entiende efectúa operaciones necesarias sobre los datos en la ejecución del prototipo"
   ]
  },
  {
   "attachments": {},
   "cell_type": "markdown",
   "metadata": {},
   "source": [
    "<font color=' red '><b>Description</b></font>\n",
    "\n",
    "- No hay nada que desplegar en el piloto, ya que estos datos son estáticos o en todo caso cambian con muy poca frecuencia, altamente improbable durante el proyecto.\n"
   ]
  },
  {
   "attachments": {},
   "cell_type": "markdown",
   "metadata": {},
   "source": [
    "<font color=' red '><b>CODE</b></font>"
   ]
  },
  {
   "cell_type": "code",
   "execution_count": null,
   "metadata": {
    "vscode": {
     "languageId": "r"
    }
   },
   "outputs": [],
   "source": [
    "# incluir código"
   ]
  }
 ],
 "metadata": {
  "anaconda-cloud": {},
  "celltoolbar": "Slideshow",
  "hide_input": false,
  "kernelspec": {
   "display_name": "R",
   "language": "R",
   "name": "ir"
  },
  "language_info": {
   "codemirror_mode": "r",
   "file_extension": ".r",
   "mimetype": "text/x-r-source",
   "name": "R",
   "pygments_lexer": "r",
   "version": "4.2.2"
  },
  "latex_envs": {
   "LaTeX_envs_menu_present": true,
   "autoclose": false,
   "autocomplete": true,
   "bibliofile": "biblio.bib",
   "cite_by": "apalike",
   "current_citInitial": 1,
   "eqLabelWithNumbers": true,
   "eqNumInitial": 1,
   "hotkeys": {
    "equation": "Ctrl-E",
    "itemize": "Ctrl-I"
   },
   "labels_anchors": false,
   "latex_user_defs": false,
   "report_style_numbering": true,
   "user_envs_cfg": false
  },
  "toc": {
   "base_numbering": 1,
   "nav_menu": {
    "height": "11.6px",
    "width": "160px"
   },
   "number_sections": false,
   "sideBar": true,
   "skip_h1_title": true,
   "title_cell": "Table of Contents",
   "title_sidebar": "Contents",
   "toc_cell": true,
   "toc_position": {
    "height": "calc(100% - 180px)",
    "left": "10px",
    "top": "150px",
    "width": "209.2px"
   },
   "toc_section_display": true,
   "toc_window_display": true
  },
  "varInspector": {
   "cols": {
    "lenName": 16,
    "lenType": 16,
    "lenVar": 40
   },
   "kernels_config": {
    "python": {
     "delete_cmd_postfix": "",
     "delete_cmd_prefix": "del ",
     "library": "var_list.py",
     "varRefreshCmd": "print(var_dic_list())"
    },
    "r": {
     "delete_cmd_postfix": ") ",
     "delete_cmd_prefix": "rm(",
     "library": "var_list.r",
     "varRefreshCmd": "cat(var_dic_list()) "
    }
   },
   "types_to_exclude": [
    "module",
    "function",
    "builtin_function_or_method",
    "instance",
    "_Feature"
   ],
   "window_display": false
  }
 },
 "nbformat": 4,
 "nbformat_minor": 1
}
