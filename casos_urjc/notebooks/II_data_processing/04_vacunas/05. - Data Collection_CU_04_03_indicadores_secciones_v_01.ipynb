{
 "cells": [
  {
   "cell_type": "markdown",
   "metadata": {
    "slideshow": {
     "slide_type": "slide"
    }
   },
   "source": [
    "<img src=\".\\images\\Logo.png\" width=150 align=\"left\" /> <img src=\".\\images\\Logo2.jpg\" width=450 align=\"right\" />"
   ]
  },
  {
   "attachments": {},
   "cell_type": "markdown",
   "metadata": {
    "slideshow": {
     "slide_type": "slide"
    }
   },
   "source": [
    "\n",
    "# <center><font color= #1e8449 > <b>CU04_Optimización de vacunas</font></center>"
   ]
  },
  {
   "cell_type": "markdown",
   "metadata": {
    "slideshow": {
     "slide_type": "slide"
    }
   },
   "source": [
    "<font color='steelblue'><b>Citizenlab Data Science Methodology > II - Data Processing Domain </font>\n",
    "***\n",
    "> # <font color='steelblue'> <b>05.- Data Collection</font>"
   ]
  },
  {
   "cell_type": "markdown",
   "metadata": {
    "slideshow": {
     "slide_type": "slide"
    }
   },
   "source": [
    "<font color='steelblue'>Data Collection is the process to obtain and generate (if required) necessary data to model the problem.</font>"
   ]
  },
  {
   "attachments": {},
   "cell_type": "markdown",
   "metadata": {},
   "source": [
    "### 03. Secciones censales y variables socioeconómicas"
   ]
  },
  {
   "cell_type": "markdown",
   "metadata": {
    "toc": true
   },
   "source": [
    "<h1>Table of Contents<span class=\"tocSkip\"></span></h1>\n",
    "<div class=\"toc\"><ul class=\"toc-item\"><li><span><a href=\"#Settings\" data-toc-modified-id=\"Settings-1\"><font color=\"green\">Settings</font></a></span></li><li><span><a href=\"#Data-Load\" data-toc-modified-id=\"Data-Load-2\"><font color=\"green\">Data Load</font></a></span></li><li><span><a href=\"#ETL-Processes\" data-toc-modified-id=\"ETL-Processes-3\">ETL Processes</a></span><ul class=\"toc-item\"><li><span><a href=\"#Import-data-from:-CSV,-Excel,-Tab,-JSON,-SQL,-and-Parquet-files\" data-toc-modified-id=\"Import-data-from:-CSV,-Excel,-Tab,-JSON,-SQL,-and-Parquet-files-3.1\">Import data from: CSV, Excel, Tab, JSON, SQL, and Parquet files</a></span></li></ul></li><li><span><a href=\"#Synthetic-Data-Generation\" data-toc-modified-id=\"Synthetic-Data-Generation-4\">Synthetic Data Generation</a></span></li><li><span><a href=\"#Fake-Data-Generation\" data-toc-modified-id=\"Fake-Data-Generation-5\">Fake Data Generation</a></span></li><li><span><a href=\"#Open-Data\" data-toc-modified-id=\"Open-Data-6\">Open Data</a></span></li><li><span><a href=\"#Data-Save\" data-toc-modified-id=\"Data-Save-7\"><font color=\"green\">Data Save</font></a></span></li><li><span><a href=\"#Main-Conclusions\" data-toc-modified-id=\"Main-Conclusions-8\"><font color=\" #2874a6 \">Main Conclusions</font></a></span></li><li><span><a href=\"#Main-Actions\" data-toc-modified-id=\"Main-Actions-9\"><font color=\" #2874a6 \">Main Actions</font></a></span><ul class=\"toc-item\"><li><ul class=\"toc-item\"><li><span><a href=\"#Acciones-done\" data-toc-modified-id=\"Acciones-done-9.0.1\"><font color=\" #2874a6 \">Acciones done</font></a></span></li><li><span><a href=\"#Acctions-to-perform\" data-toc-modified-id=\"Acctions-to-perform-9.0.2\"><font color=\" #2874a6 \">Acctions to perform</font></a></span></li></ul></li></ul></li></ul></div>"
   ]
  },
  {
   "cell_type": "markdown",
   "metadata": {
    "slideshow": {
     "slide_type": "slide"
    }
   },
   "source": [
    "## <font color='green'>Settings</font>"
   ]
  },
  {
   "attachments": {},
   "cell_type": "markdown",
   "metadata": {},
   "source": [
    "### Packages to use\n",
    "\n",
    "- {readr} from _tidyverse_ for reading and writing csv files\n",
    "- {tcltk} for selecting files and paths (if needed)\n",
    "- {dplyr} for data exploration\n",
    "- {readxl} for reading excel files\n",
    "- {stringr} for manipulating strings"
   ]
  },
  {
   "cell_type": "code",
   "execution_count": 19,
   "metadata": {
    "ExecuteTime": {
     "end_time": "2021-12-03T15:23:33.762841Z",
     "start_time": "2021-12-03T15:23:08.580267Z"
    },
    "slideshow": {
     "slide_type": "subslide"
    },
    "vscode": {
     "languageId": "r"
    }
   },
   "outputs": [],
   "source": [
    "library(readr)\n",
    "library(tcltk)\n",
    "library(dplyr)\n",
    "library(readxl)\n",
    "library(stringr)"
   ]
  },
  {
   "attachments": {},
   "cell_type": "markdown",
   "metadata": {},
   "source": [
    "### Paths"
   ]
  },
  {
   "cell_type": "code",
   "execution_count": 20,
   "metadata": {
    "vscode": {
     "languageId": "r"
    }
   },
   "outputs": [],
   "source": [
    "iPath <- \"Data/Input/\"\n",
    "oPath <- \"Data/Output/\""
   ]
  },
  {
   "attachments": {},
   "cell_type": "markdown",
   "metadata": {
    "slideshow": {
     "slide_type": "slide"
    }
   },
   "source": [
    "## <font color='green'>Data Load</font>\n",
    "\n",
    "If there are more than one input file, make as many sections as files to import."
   ]
  },
  {
   "attachments": {},
   "cell_type": "markdown",
   "metadata": {},
   "source": [
    "#### 1. Indicadores por sección censal 2021"
   ]
  },
  {
   "attachments": {},
   "cell_type": "markdown",
   "metadata": {},
   "source": [
    "<font color='tomato'><b> OPCION A:</b> Seleccionar fichero en ventana para mayor comodidad</font> "
   ]
  },
  {
   "attachments": {},
   "cell_type": "markdown",
   "metadata": {},
   "source": [
    "Data load using the {tcltk} package. Uncomment the line if not using this option"
   ]
  },
  {
   "cell_type": "code",
   "execution_count": 21,
   "metadata": {
    "vscode": {
     "languageId": "r"
    }
   },
   "outputs": [],
   "source": [
    "# file_data_01 <- tcltk::tk_choose.files(multi = FALSE)"
   ]
  },
  {
   "attachments": {},
   "cell_type": "markdown",
   "metadata": {},
   "source": [
    "<font color='tomato'><b> OPCION B:</b> Especificar el nombre de archivo</font>\n",
    "\n",
    "Instrucciones\n",
    "- Los ficheros de entrada del proceso están siempre en Data/Input/.   \n",
    "- Si hay más de un fichero de entrada, se crean tantos objetos iFile_xx y file_data_xx como ficheros de entrada (xx número correlativo con dos dígitos, rellenar con ceros a la izquierda)"
   ]
  },
  {
   "cell_type": "code",
   "execution_count": 22,
   "metadata": {
    "vscode": {
     "languageId": "r"
    }
   },
   "outputs": [
    {
     "name": "stdout",
     "output_type": "stream",
     "text": [
      "Se leerán datos del archivo:  Data/Input/C2021_indicadores.csv"
     ]
    }
   ],
   "source": [
    "iFile_01 <- \"C2021_indicadores.csv\"\n",
    "file_data_01 <- paste0(iPath, iFile_01)\n",
    "\n",
    "if(file.exists(file_data_01)){\n",
    "    cat(\"Se leerán datos del archivo: \", file_data_01)\n",
    "} else{\n",
    "    warning(\"Cuidado: el archivo no existe.\")\n",
    "}\n"
   ]
  },
  {
   "attachments": {},
   "cell_type": "markdown",
   "metadata": {},
   "source": [
    "#### Data file to dataframe"
   ]
  },
  {
   "cell_type": "code",
   "execution_count": 23,
   "metadata": {
    "vscode": {
     "languageId": "r"
    }
   },
   "outputs": [
    {
     "name": "stderr",
     "output_type": "stream",
     "text": [
      "\u001b[1mRows: \u001b[22m\u001b[34m36333\u001b[39m \u001b[1mColumns: \u001b[22m\u001b[34m20\u001b[39m\n",
      "\u001b[36m──\u001b[39m \u001b[1mColumn specification\u001b[22m \u001b[36m────────────────────────────────────────────────────────\u001b[39m\n",
      "\u001b[1mDelimiter:\u001b[22m \",\"\n",
      "\u001b[31mchr\u001b[39m  (5): ccaa, CPRO, CMUN, dist, secc\n",
      "\u001b[32mdbl\u001b[39m (15): t1_1, t2_1, t2_2, t3_1, t4_1, t4_2, t4_3, t5_1, t6_1, t7_1, t8_1, ...\n",
      "\n",
      "\u001b[36mℹ\u001b[39m Use `spec()` to retrieve the full column specification for this data.\n",
      "\u001b[36mℹ\u001b[39m Specify the column types or set `show_col_types = FALSE` to quiet this message.\n"
     ]
    }
   ],
   "source": [
    "data_01_secciones <- read_csv(file_data_01)\n"
   ]
  },
  {
   "attachments": {},
   "cell_type": "markdown",
   "metadata": {},
   "source": [
    "Estructura de  los datos:"
   ]
  },
  {
   "cell_type": "code",
   "execution_count": 24,
   "metadata": {
    "vscode": {
     "languageId": "r"
    }
   },
   "outputs": [
    {
     "name": "stdout",
     "output_type": "stream",
     "text": [
      "Rows: 36,333\n",
      "Columns: 20\n",
      "$ ccaa  \u001b[3m\u001b[90m<chr>\u001b[39m\u001b[23m \"01\", \"01\", \"01\", \"01\", \"01\", \"01\", \"01\", \"01\", \"01\", \"01\", \"01\"…\n",
      "$ CPRO  \u001b[3m\u001b[90m<chr>\u001b[39m\u001b[23m \"04\", \"04\", \"04\", \"04\", \"04\", \"04\", \"04\", \"04\", \"04\", \"04\", \"04\"…\n",
      "$ CMUN  \u001b[3m\u001b[90m<chr>\u001b[39m\u001b[23m \"001\", \"002\", \"003\", \"003\", \"003\", \"003\", \"003\", \"003\", \"003\", \"…\n",
      "$ dist  \u001b[3m\u001b[90m<chr>\u001b[39m\u001b[23m \"01\", \"01\", \"01\", \"01\", \"01\", \"01\", \"01\", \"01\", \"01\", \"02\", \"02\"…\n",
      "$ secc  \u001b[3m\u001b[90m<chr>\u001b[39m\u001b[23m \"001\", \"001\", \"001\", \"002\", \"003\", \"004\", \"005\", \"006\", \"007\", \"…\n",
      "$ t1_1  \u001b[3m\u001b[90m<dbl>\u001b[39m\u001b[23m 1260, 1212, 869, 1765, 2239, 2528, 2040, 1519, 888, 1190, 1463, …\n",
      "$ t2_1  \u001b[3m\u001b[90m<dbl>\u001b[39m\u001b[23m 0.4857, 0.4719, 0.5086, 0.5008, 0.5092, 0.4869, 0.5015, 0.5069, …\n",
      "$ t2_2  \u001b[3m\u001b[90m<dbl>\u001b[39m\u001b[23m 0.5143, 0.5281, 0.4914, 0.4992, 0.4908, 0.5131, 0.4985, 0.4931, …\n",
      "$ t3_1  \u001b[3m\u001b[90m<dbl>\u001b[39m\u001b[23m 49.0008, 48.9695, 44.5984, 39.7705, 37.5775, 36.9256, 38.7466, 4…\n",
      "$ t4_1  \u001b[3m\u001b[90m<dbl>\u001b[39m\u001b[23m 0.1048, 0.0891, 0.1208, 0.1773, 0.1894, 0.1998, 0.1730, 0.1646, …\n",
      "$ t4_2  \u001b[3m\u001b[90m<dbl>\u001b[39m\u001b[23m 0.6008, 0.6287, 0.6789, 0.6929, 0.7034, 0.7017, 0.6941, 0.6471, …\n",
      "$ t4_3  \u001b[3m\u001b[90m<dbl>\u001b[39m\u001b[23m 0.2944, 0.2822, 0.2002, 0.1297, 0.1072, 0.0985, 0.1328, 0.1883, …\n",
      "$ t5_1  \u001b[3m\u001b[90m<dbl>\u001b[39m\u001b[23m 0.0984, 0.0941, 0.1231, 0.0793, 0.1215, 0.1250, 0.0912, 0.1238, …\n",
      "$ t6_1  \u001b[3m\u001b[90m<dbl>\u001b[39m\u001b[23m 0.0984, 0.0899, 0.1277, 0.0782, 0.1170, 0.1274, 0.1010, 0.1284, …\n",
      "$ t7_1  \u001b[3m\u001b[90m<dbl>\u001b[39m\u001b[23m 0.0833, 0.0598, 0.0759, 0.0482, 0.0562, 0.0302, 0.0670, 0.0654, …\n",
      "$ t8_1  \u001b[3m\u001b[90m<dbl>\u001b[39m\u001b[23m 0.0762, 0.0498, 0.0628, 0.0386, 0.0435, 0.0222, 0.0433, 0.0512, …\n",
      "$ t9_1  \u001b[3m\u001b[90m<dbl>\u001b[39m\u001b[23m 0.2163, 0.1812, 0.2356, 0.2231, 0.1730, 0.1265, 0.2116, 0.2648, …\n",
      "$ t10_1 \u001b[3m\u001b[90m<dbl>\u001b[39m\u001b[23m 0.1951, 0.2052, 0.1576, 0.1258, 0.1432, 0.1705, 0.1561, 0.1438, …\n",
      "$ t11_1 \u001b[3m\u001b[90m<dbl>\u001b[39m\u001b[23m 0.3768, 0.3614, 0.4686, 0.5455, 0.5802, 0.5289, 0.5513, 0.4925, …\n",
      "$ t12_1 \u001b[3m\u001b[90m<dbl>\u001b[39m\u001b[23m 0.4681, 0.4547, 0.5563, 0.6240, 0.6771, 0.6377, 0.6532, 0.5753, …\n"
     ]
    }
   ],
   "source": [
    "glimpse(data_01_secciones)"
   ]
  },
  {
   "attachments": {},
   "cell_type": "markdown",
   "metadata": {},
   "source": [
    "Muestra de datos:"
   ]
  },
  {
   "cell_type": "code",
   "execution_count": 25,
   "metadata": {
    "vscode": {
     "languageId": "r"
    }
   },
   "outputs": [
    {
     "data": {
      "text/html": [
       "<table class=\"dataframe\">\n",
       "<caption>A spec_tbl_df: 5 × 20</caption>\n",
       "<thead>\n",
       "\t<tr><th scope=col>ccaa</th><th scope=col>CPRO</th><th scope=col>CMUN</th><th scope=col>dist</th><th scope=col>secc</th><th scope=col>t1_1</th><th scope=col>t2_1</th><th scope=col>t2_2</th><th scope=col>t3_1</th><th scope=col>t4_1</th><th scope=col>t4_2</th><th scope=col>t4_3</th><th scope=col>t5_1</th><th scope=col>t6_1</th><th scope=col>t7_1</th><th scope=col>t8_1</th><th scope=col>t9_1</th><th scope=col>t10_1</th><th scope=col>t11_1</th><th scope=col>t12_1</th></tr>\n",
       "\t<tr><th scope=col>&lt;chr&gt;</th><th scope=col>&lt;chr&gt;</th><th scope=col>&lt;chr&gt;</th><th scope=col>&lt;chr&gt;</th><th scope=col>&lt;chr&gt;</th><th scope=col>&lt;dbl&gt;</th><th scope=col>&lt;dbl&gt;</th><th scope=col>&lt;dbl&gt;</th><th scope=col>&lt;dbl&gt;</th><th scope=col>&lt;dbl&gt;</th><th scope=col>&lt;dbl&gt;</th><th scope=col>&lt;dbl&gt;</th><th scope=col>&lt;dbl&gt;</th><th scope=col>&lt;dbl&gt;</th><th scope=col>&lt;dbl&gt;</th><th scope=col>&lt;dbl&gt;</th><th scope=col>&lt;dbl&gt;</th><th scope=col>&lt;dbl&gt;</th><th scope=col>&lt;dbl&gt;</th><th scope=col>&lt;dbl&gt;</th></tr>\n",
       "</thead>\n",
       "<tbody>\n",
       "\t<tr><td>01</td><td>04</td><td>001</td><td>01</td><td>001</td><td>1260</td><td>0.4857</td><td>0.5143</td><td>49.0008</td><td>0.1048</td><td>0.6008</td><td>0.2944</td><td>0.0984</td><td>0.0984</td><td>0.0833</td><td>0.0762</td><td>0.2163</td><td>0.1951</td><td>0.3768</td><td>0.4681</td></tr>\n",
       "\t<tr><td>01</td><td>04</td><td>002</td><td>01</td><td>001</td><td>1212</td><td>0.4719</td><td>0.5281</td><td>48.9695</td><td>0.0891</td><td>0.6287</td><td>0.2822</td><td>0.0941</td><td>0.0899</td><td>0.0598</td><td>0.0498</td><td>0.1812</td><td>0.2052</td><td>0.3614</td><td>0.4547</td></tr>\n",
       "\t<tr><td>01</td><td>04</td><td>003</td><td>01</td><td>001</td><td> 869</td><td>0.5086</td><td>0.4914</td><td>44.5984</td><td>0.1208</td><td>0.6789</td><td>0.2002</td><td>0.1231</td><td>0.1277</td><td>0.0759</td><td>0.0628</td><td>0.2356</td><td>0.1576</td><td>0.4686</td><td>0.5563</td></tr>\n",
       "\t<tr><td>01</td><td>04</td><td>003</td><td>01</td><td>002</td><td>1765</td><td>0.5008</td><td>0.4992</td><td>39.7705</td><td>0.1773</td><td>0.6929</td><td>0.1297</td><td>0.0793</td><td>0.0782</td><td>0.0482</td><td>0.0386</td><td>0.2231</td><td>0.1258</td><td>0.5455</td><td>0.6240</td></tr>\n",
       "\t<tr><td>01</td><td>04</td><td>003</td><td>01</td><td>003</td><td>2239</td><td>0.5092</td><td>0.4908</td><td>37.5775</td><td>0.1894</td><td>0.7034</td><td>0.1072</td><td>0.1215</td><td>0.1170</td><td>0.0562</td><td>0.0435</td><td>0.1730</td><td>0.1432</td><td>0.5802</td><td>0.6771</td></tr>\n",
       "</tbody>\n",
       "</table>\n"
      ],
      "text/latex": [
       "A spec\\_tbl\\_df: 5 × 20\n",
       "\\begin{tabular}{llllllllllllllllllll}\n",
       " ccaa & CPRO & CMUN & dist & secc & t1\\_1 & t2\\_1 & t2\\_2 & t3\\_1 & t4\\_1 & t4\\_2 & t4\\_3 & t5\\_1 & t6\\_1 & t7\\_1 & t8\\_1 & t9\\_1 & t10\\_1 & t11\\_1 & t12\\_1\\\\\n",
       " <chr> & <chr> & <chr> & <chr> & <chr> & <dbl> & <dbl> & <dbl> & <dbl> & <dbl> & <dbl> & <dbl> & <dbl> & <dbl> & <dbl> & <dbl> & <dbl> & <dbl> & <dbl> & <dbl>\\\\\n",
       "\\hline\n",
       "\t 01 & 04 & 001 & 01 & 001 & 1260 & 0.4857 & 0.5143 & 49.0008 & 0.1048 & 0.6008 & 0.2944 & 0.0984 & 0.0984 & 0.0833 & 0.0762 & 0.2163 & 0.1951 & 0.3768 & 0.4681\\\\\n",
       "\t 01 & 04 & 002 & 01 & 001 & 1212 & 0.4719 & 0.5281 & 48.9695 & 0.0891 & 0.6287 & 0.2822 & 0.0941 & 0.0899 & 0.0598 & 0.0498 & 0.1812 & 0.2052 & 0.3614 & 0.4547\\\\\n",
       "\t 01 & 04 & 003 & 01 & 001 &  869 & 0.5086 & 0.4914 & 44.5984 & 0.1208 & 0.6789 & 0.2002 & 0.1231 & 0.1277 & 0.0759 & 0.0628 & 0.2356 & 0.1576 & 0.4686 & 0.5563\\\\\n",
       "\t 01 & 04 & 003 & 01 & 002 & 1765 & 0.5008 & 0.4992 & 39.7705 & 0.1773 & 0.6929 & 0.1297 & 0.0793 & 0.0782 & 0.0482 & 0.0386 & 0.2231 & 0.1258 & 0.5455 & 0.6240\\\\\n",
       "\t 01 & 04 & 003 & 01 & 003 & 2239 & 0.5092 & 0.4908 & 37.5775 & 0.1894 & 0.7034 & 0.1072 & 0.1215 & 0.1170 & 0.0562 & 0.0435 & 0.1730 & 0.1432 & 0.5802 & 0.6771\\\\\n",
       "\\end{tabular}\n"
      ],
      "text/markdown": [
       "\n",
       "A spec_tbl_df: 5 × 20\n",
       "\n",
       "| ccaa &lt;chr&gt; | CPRO &lt;chr&gt; | CMUN &lt;chr&gt; | dist &lt;chr&gt; | secc &lt;chr&gt; | t1_1 &lt;dbl&gt; | t2_1 &lt;dbl&gt; | t2_2 &lt;dbl&gt; | t3_1 &lt;dbl&gt; | t4_1 &lt;dbl&gt; | t4_2 &lt;dbl&gt; | t4_3 &lt;dbl&gt; | t5_1 &lt;dbl&gt; | t6_1 &lt;dbl&gt; | t7_1 &lt;dbl&gt; | t8_1 &lt;dbl&gt; | t9_1 &lt;dbl&gt; | t10_1 &lt;dbl&gt; | t11_1 &lt;dbl&gt; | t12_1 &lt;dbl&gt; |\n",
       "|---|---|---|---|---|---|---|---|---|---|---|---|---|---|---|---|---|---|---|---|\n",
       "| 01 | 04 | 001 | 01 | 001 | 1260 | 0.4857 | 0.5143 | 49.0008 | 0.1048 | 0.6008 | 0.2944 | 0.0984 | 0.0984 | 0.0833 | 0.0762 | 0.2163 | 0.1951 | 0.3768 | 0.4681 |\n",
       "| 01 | 04 | 002 | 01 | 001 | 1212 | 0.4719 | 0.5281 | 48.9695 | 0.0891 | 0.6287 | 0.2822 | 0.0941 | 0.0899 | 0.0598 | 0.0498 | 0.1812 | 0.2052 | 0.3614 | 0.4547 |\n",
       "| 01 | 04 | 003 | 01 | 001 |  869 | 0.5086 | 0.4914 | 44.5984 | 0.1208 | 0.6789 | 0.2002 | 0.1231 | 0.1277 | 0.0759 | 0.0628 | 0.2356 | 0.1576 | 0.4686 | 0.5563 |\n",
       "| 01 | 04 | 003 | 01 | 002 | 1765 | 0.5008 | 0.4992 | 39.7705 | 0.1773 | 0.6929 | 0.1297 | 0.0793 | 0.0782 | 0.0482 | 0.0386 | 0.2231 | 0.1258 | 0.5455 | 0.6240 |\n",
       "| 01 | 04 | 003 | 01 | 003 | 2239 | 0.5092 | 0.4908 | 37.5775 | 0.1894 | 0.7034 | 0.1072 | 0.1215 | 0.1170 | 0.0562 | 0.0435 | 0.1730 | 0.1432 | 0.5802 | 0.6771 |\n",
       "\n"
      ],
      "text/plain": [
       "  ccaa CPRO CMUN dist secc t1_1 t2_1   t2_2   t3_1    t4_1   t4_2   t4_3  \n",
       "1 01   04   001  01   001  1260 0.4857 0.5143 49.0008 0.1048 0.6008 0.2944\n",
       "2 01   04   002  01   001  1212 0.4719 0.5281 48.9695 0.0891 0.6287 0.2822\n",
       "3 01   04   003  01   001   869 0.5086 0.4914 44.5984 0.1208 0.6789 0.2002\n",
       "4 01   04   003  01   002  1765 0.5008 0.4992 39.7705 0.1773 0.6929 0.1297\n",
       "5 01   04   003  01   003  2239 0.5092 0.4908 37.5775 0.1894 0.7034 0.1072\n",
       "  t5_1   t6_1   t7_1   t8_1   t9_1   t10_1  t11_1  t12_1 \n",
       "1 0.0984 0.0984 0.0833 0.0762 0.2163 0.1951 0.3768 0.4681\n",
       "2 0.0941 0.0899 0.0598 0.0498 0.1812 0.2052 0.3614 0.4547\n",
       "3 0.1231 0.1277 0.0759 0.0628 0.2356 0.1576 0.4686 0.5563\n",
       "4 0.0793 0.0782 0.0482 0.0386 0.2231 0.1258 0.5455 0.6240\n",
       "5 0.1215 0.1170 0.0562 0.0435 0.1730 0.1432 0.5802 0.6771"
      ]
     },
     "metadata": {},
     "output_type": "display_data"
    }
   ],
   "source": [
    "slice_head(data_01_secciones, n = 5)"
   ]
  },
  {
   "attachments": {},
   "cell_type": "markdown",
   "metadata": {},
   "source": [
    "### 2. Nombres de indicadores socioeconómicos"
   ]
  },
  {
   "attachments": {},
   "cell_type": "markdown",
   "metadata": {},
   "source": [
    "<font color='tomato'><b> OPCION A:</b> Seleccionar fichero en ventana para mayor comodidad</font> "
   ]
  },
  {
   "attachments": {},
   "cell_type": "markdown",
   "metadata": {},
   "source": [
    "Data load using the {tcltk} package. Uncomment if using this option."
   ]
  },
  {
   "cell_type": "code",
   "execution_count": 26,
   "metadata": {
    "vscode": {
     "languageId": "r"
    }
   },
   "outputs": [],
   "source": [
    "# file_data_02 <- tcltk::tk_choose.files(multi = FALSE)"
   ]
  },
  {
   "attachments": {},
   "cell_type": "markdown",
   "metadata": {},
   "source": [
    "<font color='tomato'><b> OPCION B:</b> Especificar el nombre de archivo</font>\n",
    "\n",
    "Instrucciones\n",
    "- Los ficheros de entrada del proceso están siempre en Data/Input/.   \n",
    "- Si hay más de un fichero de entrada, se crean tantos objetos iFile_xx y file_data_xx como ficheros de entrada (xx número correlativo con dos dígitos, rellenar con ceros a la izquierda)\n",
    "- Comentar si se usa la opción anterior"
   ]
  },
  {
   "cell_type": "code",
   "execution_count": 27,
   "metadata": {
    "vscode": {
     "languageId": "r"
    }
   },
   "outputs": [
    {
     "name": "stdout",
     "output_type": "stream",
     "text": [
      "Se leerán datos del archivo:  Data/Input/indicadores_seccen_c2021.xlsx"
     ]
    }
   ],
   "source": [
    "iFile_02 <- \"indicadores_seccen_c2021.xlsx\"\n",
    "file_data_02 <- paste0(iPath, iFile_02)\n",
    "\n",
    "if(file.exists(file_data_02)){\n",
    "    cat(\"Se leerán datos del archivo: \", file_data_02)\n",
    "} else{\n",
    "    warning(\"Cuidado: el archivo no existe.\")\n",
    "}\n"
   ]
  },
  {
   "attachments": {},
   "cell_type": "markdown",
   "metadata": {},
   "source": [
    "#### Data file to dataframe"
   ]
  },
  {
   "cell_type": "code",
   "execution_count": 28,
   "metadata": {
    "vscode": {
     "languageId": "r"
    }
   },
   "outputs": [],
   "source": [
    "data_02_indicadores <- read_excel(file_data_02,\n",
    "                                  sheet = \"indicadores\",\n",
    "                                  range = \"A8:B23\")"
   ]
  },
  {
   "attachments": {},
   "cell_type": "markdown",
   "metadata": {},
   "source": [
    "Estructura de los datos:"
   ]
  },
  {
   "cell_type": "code",
   "execution_count": 29,
   "metadata": {
    "vscode": {
     "languageId": "r"
    }
   },
   "outputs": [
    {
     "name": "stdout",
     "output_type": "stream",
     "text": [
      "Rows: 15\n",
      "Columns: 2\n",
      "$ Tabla     \u001b[3m\u001b[90m<chr>\u001b[39m\u001b[23m \"t1_1\", \"t2_1\", \"t2_2\", \"t3_1\", \"t4_1\", \"t4_2\", \"t4_3\", \"t5_…\n",
      "$ Indicador \u001b[3m\u001b[90m<chr>\u001b[39m\u001b[23m \"Total Personas\", \"Porcentaje de mujeres\", \"Porcentaje de ho…\n"
     ]
    }
   ],
   "source": [
    "glimpse(data_02_indicadores)"
   ]
  },
  {
   "attachments": {},
   "cell_type": "markdown",
   "metadata": {},
   "source": [
    "Muestra de datos:"
   ]
  },
  {
   "cell_type": "code",
   "execution_count": 30,
   "metadata": {
    "vscode": {
     "languageId": "r"
    }
   },
   "outputs": [
    {
     "data": {
      "text/html": [
       "<table class=\"dataframe\">\n",
       "<caption>A tibble: 5 × 2</caption>\n",
       "<thead>\n",
       "\t<tr><th scope=col>Tabla</th><th scope=col>Indicador</th></tr>\n",
       "\t<tr><th scope=col>&lt;chr&gt;</th><th scope=col>&lt;chr&gt;</th></tr>\n",
       "</thead>\n",
       "<tbody>\n",
       "\t<tr><td>t1_1</td><td>Total Personas                           </td></tr>\n",
       "\t<tr><td>t2_1</td><td>Porcentaje de mujeres                    </td></tr>\n",
       "\t<tr><td>t2_2</td><td>Porcentaje de hombres                    </td></tr>\n",
       "\t<tr><td>t3_1</td><td>Edad media                               </td></tr>\n",
       "\t<tr><td>t4_1</td><td>Porcentaje de personas menores de 16 años</td></tr>\n",
       "</tbody>\n",
       "</table>\n"
      ],
      "text/latex": [
       "A tibble: 5 × 2\n",
       "\\begin{tabular}{ll}\n",
       " Tabla & Indicador\\\\\n",
       " <chr> & <chr>\\\\\n",
       "\\hline\n",
       "\t t1\\_1 & Total Personas                           \\\\\n",
       "\t t2\\_1 & Porcentaje de mujeres                    \\\\\n",
       "\t t2\\_2 & Porcentaje de hombres                    \\\\\n",
       "\t t3\\_1 & Edad media                               \\\\\n",
       "\t t4\\_1 & Porcentaje de personas menores de 16 años\\\\\n",
       "\\end{tabular}\n"
      ],
      "text/markdown": [
       "\n",
       "A tibble: 5 × 2\n",
       "\n",
       "| Tabla &lt;chr&gt; | Indicador &lt;chr&gt; |\n",
       "|---|---|\n",
       "| t1_1 | Total Personas                            |\n",
       "| t2_1 | Porcentaje de mujeres                     |\n",
       "| t2_2 | Porcentaje de hombres                     |\n",
       "| t3_1 | Edad media                                |\n",
       "| t4_1 | Porcentaje de personas menores de 16 años |\n",
       "\n"
      ],
      "text/plain": [
       "  Tabla Indicador                                \n",
       "1 t1_1  Total Personas                           \n",
       "2 t2_1  Porcentaje de mujeres                    \n",
       "3 t2_2  Porcentaje de hombres                    \n",
       "4 t3_1  Edad media                               \n",
       "5 t4_1  Porcentaje de personas menores de 16 años"
      ]
     },
     "metadata": {},
     "output_type": "display_data"
    }
   ],
   "source": [
    "slice_head(data_02_indicadores, n = 5)"
   ]
  },
  {
   "cell_type": "markdown",
   "metadata": {
    "slideshow": {
     "slide_type": "slide"
    }
   },
   "source": [
    "## ETL Processes"
   ]
  },
  {
   "attachments": {},
   "cell_type": "markdown",
   "metadata": {
    "slideshow": {
     "slide_type": "slide"
    }
   },
   "source": [
    "### Import data from: CSV, Excel, Tab, JSON, SQL, and Parquet files\n",
    "\n",
    "Se han importado en el apartado Data Load anterior:\n",
    "\n",
    "* Indicadores del INE por sección censal\n",
    "* Descripciones de indicadores del INE de tabla publicada en Excel\n"
   ]
  },
  {
   "attachments": {},
   "cell_type": "markdown",
   "metadata": {
    "slideshow": {
     "slide_type": "slide"
    }
   },
   "source": [
    "### Extract data\n",
    "\n",
    "* Filtrar datos de indicadores solo de la Comunidad de Madrid"
   ]
  },
  {
   "cell_type": "code",
   "execution_count": 31,
   "metadata": {
    "vscode": {
     "languageId": "r"
    }
   },
   "outputs": [],
   "source": [
    "data_01_secciones <- data_01_secciones |>\n",
    "    filter(ccaa == 13)"
   ]
  },
  {
   "attachments": {},
   "cell_type": "markdown",
   "metadata": {},
   "source": [
    "Datos extraídos:"
   ]
  },
  {
   "cell_type": "code",
   "execution_count": 32,
   "metadata": {
    "vscode": {
     "languageId": "r"
    }
   },
   "outputs": [
    {
     "name": "stdout",
     "output_type": "stream",
     "text": [
      "Rows: 4,417\n",
      "Columns: 20\n",
      "$ ccaa  \u001b[3m\u001b[90m<chr>\u001b[39m\u001b[23m \"13\", \"13\", \"13\", \"13\", \"13\", \"13\", \"13\", \"13\", \"13\", \"13\", \"13\"…\n",
      "$ CPRO  \u001b[3m\u001b[90m<chr>\u001b[39m\u001b[23m \"28\", \"28\", \"28\", \"28\", \"28\", \"28\", \"28\", \"28\", \"28\", \"28\", \"28\"…\n",
      "$ CMUN  \u001b[3m\u001b[90m<chr>\u001b[39m\u001b[23m \"001\", \"002\", \"002\", \"003\", \"004\", \"004\", \"004\", \"004\", \"005\", \"…\n",
      "$ dist  \u001b[3m\u001b[90m<chr>\u001b[39m\u001b[23m \"01\", \"01\", \"01\", \"01\", \"01\", \"01\", \"01\", \"01\", \"01\", \"01\", \"01\"…\n",
      "$ secc  \u001b[3m\u001b[90m<chr>\u001b[39m\u001b[23m \"001\", \"001\", \"002\", \"001\", \"001\", \"002\", \"003\", \"004\", \"001\", \"…\n",
      "$ t1_1  \u001b[3m\u001b[90m<dbl>\u001b[39m\u001b[23m 55, 2358, 2435, 248, 2886, 3376, 2161, 1523, 1648, 1015, 1728, 1…\n",
      "$ t2_1  \u001b[3m\u001b[90m<dbl>\u001b[39m\u001b[23m NA, 0.4724, 0.4830, 0.3952, 0.5135, 0.4793, 0.5016, 0.5279, 0.54…\n",
      "$ t2_2  \u001b[3m\u001b[90m<dbl>\u001b[39m\u001b[23m NA, 0.5276, 0.5170, 0.6048, 0.4865, 0.5207, 0.4984, 0.4721, 0.45…\n",
      "$ t3_1  \u001b[3m\u001b[90m<dbl>\u001b[39m\u001b[23m NA, 40.5161, 38.3339, 47.4597, 44.4099, 40.6810, 38.0088, 42.537…\n",
      "$ t4_1  \u001b[3m\u001b[90m<dbl>\u001b[39m\u001b[23m NA, 0.1425, 0.1959, 0.1371, 0.1611, 0.1739, 0.2230, 0.1753, 0.11…\n",
      "$ t4_2  \u001b[3m\u001b[90m<dbl>\u001b[39m\u001b[23m NA, 0.7443, 0.7002, 0.6573, 0.6067, 0.6727, 0.6395, 0.6448, 0.69…\n",
      "$ t4_3  \u001b[3m\u001b[90m<dbl>\u001b[39m\u001b[23m NA, 0.1132, 0.1039, 0.2056, 0.2322, 0.1534, 0.1374, 0.1799, 0.18…\n",
      "$ t5_1  \u001b[3m\u001b[90m<dbl>\u001b[39m\u001b[23m NA, 0.1569, 0.1544, 0.1129, 0.1639, 0.1440, 0.1749, 0.1326, 0.16…\n",
      "$ t6_1  \u001b[3m\u001b[90m<dbl>\u001b[39m\u001b[23m NA, 0.1968, 0.1951, 0.1411, 0.2128, 0.1730, 0.2138, 0.1589, 0.22…\n",
      "$ t7_1  \u001b[3m\u001b[90m<dbl>\u001b[39m\u001b[23m NA, 0.4016, 0.4244, 0.1542, 0.1470, 0.1596, 0.1668, 0.1584, 0.09…\n",
      "$ t8_1  \u001b[3m\u001b[90m<dbl>\u001b[39m\u001b[23m NA, 0.3971, 0.4224, 0.1449, 0.1409, 0.1506, 0.1602, 0.1545, 0.09…\n",
      "$ t9_1  \u001b[3m\u001b[90m<dbl>\u001b[39m\u001b[23m NA, 0.4377, 0.4438, 0.5280, 0.2602, 0.3234, 0.2859, 0.3057, 0.51…\n",
      "$ t10_1 \u001b[3m\u001b[90m<dbl>\u001b[39m\u001b[23m NA, 0.0912, 0.1226, 0.0932, 0.1814, 0.1478, 0.1658, 0.1824, 0.10…\n",
      "$ t11_1 \u001b[3m\u001b[90m<dbl>\u001b[39m\u001b[23m NA, 0.6063, 0.5955, 0.5000, 0.4213, 0.5170, 0.4943, 0.4745, 0.52…\n",
      "$ t12_1 \u001b[3m\u001b[90m<dbl>\u001b[39m\u001b[23m NA, 0.6672, 0.6788, 0.5514, 0.5147, 0.6067, 0.5926, 0.5804, 0.58…\n"
     ]
    }
   ],
   "source": [
    "glimpse(data_01_secciones)"
   ]
  },
  {
   "cell_type": "markdown",
   "metadata": {
    "slideshow": {
     "slide_type": "slide"
    }
   },
   "source": [
    "## Synthetic Data Generation"
   ]
  },
  {
   "attachments": {},
   "cell_type": "markdown",
   "metadata": {
    "slideshow": {
     "slide_type": "slide"
    }
   },
   "source": [
    "Estos datos no requieren tareas de este tipo."
   ]
  },
  {
   "cell_type": "markdown",
   "metadata": {
    "slideshow": {
     "slide_type": "slide"
    }
   },
   "source": [
    "## Fake Data Generation"
   ]
  },
  {
   "attachments": {},
   "cell_type": "markdown",
   "metadata": {
    "slideshow": {
     "slide_type": "slide"
    }
   },
   "source": [
    "Estos datos no requieren tareas de este tipo."
   ]
  },
  {
   "cell_type": "markdown",
   "metadata": {
    "slideshow": {
     "slide_type": "slide"
    }
   },
   "source": [
    "## Open Data"
   ]
  },
  {
   "cell_type": "markdown",
   "metadata": {
    "slideshow": {
     "slide_type": "slide"
    }
   },
   "source": [
    "El archivo se ha obtenido de una fuente pública, ver apartado conclusiones"
   ]
  },
  {
   "cell_type": "markdown",
   "metadata": {},
   "source": [
    "## <font color='green'>Data Save</font>"
   ]
  },
  {
   "cell_type": "markdown",
   "metadata": {},
   "source": [
    "Este proceso, puede copiarse y repetirse en aquellas partes del notebbok que necesiten guardar datos.\n",
    "Recuerde cambiar la extensión añadida del fichero para diferenciarlas"
   ]
  },
  {
   "cell_type": "markdown",
   "metadata": {},
   "source": [
    "<font color='tomato'> Identificamos los datos a guardar</font>"
   ]
  },
  {
   "attachments": {},
   "cell_type": "markdown",
   "metadata": {},
   "source": [
    "### 1. Archivo de indicadores"
   ]
  },
  {
   "cell_type": "code",
   "execution_count": 33,
   "metadata": {
    "ExecuteTime": {
     "end_time": "2020-12-25T17:59:27.022001Z",
     "start_time": "2020-12-25T17:59:15.986986Z"
    },
    "scrolled": false,
    "vscode": {
     "languageId": "r"
    }
   },
   "outputs": [],
   "source": [
    "data_to_save_01 <- data_01_secciones"
   ]
  },
  {
   "cell_type": "markdown",
   "metadata": {},
   "source": [
    "\n",
    "<font color='tomato'>Estructura de nombre de archivos:</font>\n",
    "\n",
    "* Código del caso de uso, por ejemplo \"CU_04\"\n",
    "* Número del proceso que lo genera, por ejemplo \"_05\".\n",
    "* Número de la tarea que lo genera, por ejemplo \"_01\"\n",
    "* En caso de generarse varios ficheros en la misma tarea, llevarán _01 _02 ... después\n",
    "* Nombre: identificativo de \"properData\", por ejemplo \"_zonasgeo\"\n",
    "* Extensión del archivo\n",
    "\n",
    "Ejemplo: \"CU_04_05_01_01_zonasgeo.json, primer fichero que se genera en la tarea 01 del proceso 05 (Data Collection) para el caso de uso 04 (vacunas)\n",
    "\n",
    "Importante mantener los guiones bajos antes de proceso, tarea, archivo y nombre"
   ]
  },
  {
   "attachments": {},
   "cell_type": "markdown",
   "metadata": {},
   "source": [
    "### Proceso 05"
   ]
  },
  {
   "cell_type": "code",
   "execution_count": 34,
   "metadata": {
    "ExecuteTime": {
     "end_time": "2020-12-25T17:59:27.022001Z",
     "start_time": "2020-12-25T17:59:15.986986Z"
    },
    "scrolled": false,
    "vscode": {
     "languageId": "r"
    }
   },
   "outputs": [],
   "source": [
    "caso <- \"CU_04\"\n",
    "proceso <- '_05'\n",
    "tarea <- \"_03\"\n",
    "archivo <- \"_01\"\n",
    "proper <- \"_indicadores_secciones\"\n",
    "extension <- \".csv\""
   ]
  },
  {
   "attachments": {},
   "cell_type": "markdown",
   "metadata": {},
   "source": [
    "<font color='tomato'><b> OPCION A:</b> Uso del paquete \"tcltk\" para mayor comodidad</font>\n",
    "\n",
    "* Buscar carpeta, escribir nombre de archivo SIN extensión (se especifica en el código)\n",
    "* Especificar sufijo2 si es necesario\n",
    "* Cambiar datos por datos_xx si es necesario\n",
    "* Descomentar líneas si se usa esta opción"
   ]
  },
  {
   "cell_type": "code",
   "execution_count": 35,
   "metadata": {
    "ExecuteTime": {
     "end_time": "2020-12-25T17:59:27.022001Z",
     "start_time": "2020-12-25T17:59:15.986986Z"
    },
    "scrolled": false,
    "vscode": {
     "languageId": "r"
    }
   },
   "outputs": [],
   "source": [
    "# file_save_01 <- paste0(caso, proceso, tarea, tcltk::tkgetSaveFile(), proper, extension) \n",
    "# path_out_01 <- paste0(oPath, file_save_01)\n",
    "# write_csv(datos, path_out_01)\n",
    "\n",
    "# cat('File saved as: ')\n",
    "# path_out_01"
   ]
  },
  {
   "attachments": {},
   "cell_type": "markdown",
   "metadata": {},
   "source": [
    "<font color='tomato'><b> OPCION B:</b> Especificar el nombre de archivo</font>"
   ]
  },
  {
   "attachments": {},
   "cell_type": "markdown",
   "metadata": {},
   "source": [
    "- Los ficheros de salida del proceso van siempre a Data/Output/.  "
   ]
  },
  {
   "cell_type": "code",
   "execution_count": 36,
   "metadata": {
    "ExecuteTime": {
     "end_time": "2021-01-26T18:40:31.258294Z",
     "start_time": "2021-01-26T18:40:26.061847Z"
    },
    "slideshow": {
     "slide_type": "subslide"
    },
    "vscode": {
     "languageId": "r"
    }
   },
   "outputs": [
    {
     "name": "stdout",
     "output_type": "stream",
     "text": [
      "File saved as: "
     ]
    },
    {
     "data": {
      "text/html": [
       "'Data/Output/CU_04_05_03_01_indicadores_secciones.csv'"
      ],
      "text/latex": [
       "'Data/Output/CU\\_04\\_05\\_03\\_01\\_indicadores\\_secciones.csv'"
      ],
      "text/markdown": [
       "'Data/Output/CU_04_05_03_01_indicadores_secciones.csv'"
      ],
      "text/plain": [
       "[1] \"Data/Output/CU_04_05_03_01_indicadores_secciones.csv\""
      ]
     },
     "metadata": {},
     "output_type": "display_data"
    }
   ],
   "source": [
    "file_save_01 <- paste0(caso, proceso, tarea, archivo, proper, extension) \n",
    "path_out_01 <- paste0(oPath, file_save_01)\n",
    "write_csv(data_to_save_01, path_out_01)\n",
    "\n",
    "cat('File saved as: ')\n",
    "path_out_01"
   ]
  },
  {
   "attachments": {},
   "cell_type": "markdown",
   "metadata": {},
   "source": [
    "#### Copia del fichero a Input\n",
    "\n",
    "Será usado en otros notebooks"
   ]
  },
  {
   "cell_type": "code",
   "execution_count": 37,
   "metadata": {
    "vscode": {
     "languageId": "r"
    }
   },
   "outputs": [
    {
     "data": {
      "text/html": [
       "TRUE"
      ],
      "text/latex": [
       "TRUE"
      ],
      "text/markdown": [
       "TRUE"
      ],
      "text/plain": [
       "[1] TRUE"
      ]
     },
     "metadata": {},
     "output_type": "display_data"
    }
   ],
   "source": [
    "path_in_01 <- paste0(iPath, file_save_01)\n",
    "file.copy(path_out_01, path_in_01)"
   ]
  },
  {
   "attachments": {},
   "cell_type": "markdown",
   "metadata": {},
   "source": [
    "### 2. Descripción indicadores"
   ]
  },
  {
   "cell_type": "code",
   "execution_count": 38,
   "metadata": {
    "vscode": {
     "languageId": "r"
    }
   },
   "outputs": [],
   "source": [
    "data_to_save_02 <- data_02_indicadores"
   ]
  },
  {
   "cell_type": "code",
   "execution_count": 39,
   "metadata": {
    "vscode": {
     "languageId": "r"
    }
   },
   "outputs": [],
   "source": [
    "archivo <- \"_02\"\n",
    "proper <- \"_indicadores_nombres\"\n",
    "extension <- \".csv\""
   ]
  },
  {
   "attachments": {},
   "cell_type": "markdown",
   "metadata": {},
   "source": [
    "<font color='tomato'><b> OPCION A:</b> Uso del paquete \"tcltk\" para mayor comodidad</font>\n",
    "\n",
    "* Buscar carpeta, escribir nombre de archivo SIN extensión (se especifica en el código)\n",
    "* Especificar sufijo2 si es necesario\n",
    "* Cambiar datos por datos_xx si es necesario\n",
    "* Descomentar líneas si se usa esta opción"
   ]
  },
  {
   "cell_type": "code",
   "execution_count": 40,
   "metadata": {
    "vscode": {
     "languageId": "r"
    }
   },
   "outputs": [],
   "source": [
    "# file_save_02 <- paste0(caso, proceso, tarea, tcltk::tkgetSaveFile(), proper, extension) \n",
    "# path_out_02 <- paste0(oPath, file_save_02)\n",
    "# write_csv(datos, path_out_02)\n",
    "\n",
    "# cat('File saved as: ')\n",
    "# path_out_02"
   ]
  },
  {
   "attachments": {},
   "cell_type": "markdown",
   "metadata": {},
   "source": [
    "<font color='tomato'><b> OPCION B:</b> Especificar el nombre de archivo</font>"
   ]
  },
  {
   "attachments": {},
   "cell_type": "markdown",
   "metadata": {},
   "source": [
    "- Los ficheros de salida del proceso van siempre a Data/Output/.  "
   ]
  },
  {
   "cell_type": "code",
   "execution_count": 41,
   "metadata": {
    "vscode": {
     "languageId": "r"
    }
   },
   "outputs": [
    {
     "name": "stdout",
     "output_type": "stream",
     "text": [
      "File saved as: "
     ]
    },
    {
     "data": {
      "text/html": [
       "'Data/Output/CU_04_05_03_02_indicadores_nombres.csv'"
      ],
      "text/latex": [
       "'Data/Output/CU\\_04\\_05\\_03\\_02\\_indicadores\\_nombres.csv'"
      ],
      "text/markdown": [
       "'Data/Output/CU_04_05_03_02_indicadores_nombres.csv'"
      ],
      "text/plain": [
       "[1] \"Data/Output/CU_04_05_03_02_indicadores_nombres.csv\""
      ]
     },
     "metadata": {},
     "output_type": "display_data"
    }
   ],
   "source": [
    "file_save_02 <- paste0(caso, proceso, tarea, archivo, proper, extension) \n",
    "path_out_02 <- paste0(oPath, file_save_02)\n",
    "write_csv(data_to_save_02, path_out_02)\n",
    "\n",
    "cat('File saved as: ')\n",
    "path_out_02"
   ]
  },
  {
   "attachments": {},
   "cell_type": "markdown",
   "metadata": {},
   "source": [
    "#### Copia del fichero a Input\n",
    "\n",
    "Será usado en otros notebooks"
   ]
  },
  {
   "cell_type": "code",
   "execution_count": 42,
   "metadata": {
    "vscode": {
     "languageId": "r"
    }
   },
   "outputs": [
    {
     "data": {
      "text/html": [
       "TRUE"
      ],
      "text/latex": [
       "TRUE"
      ],
      "text/markdown": [
       "TRUE"
      ],
      "text/plain": [
       "[1] TRUE"
      ]
     },
     "metadata": {},
     "output_type": "display_data"
    }
   ],
   "source": [
    "path_in_02 <- paste0(iPath, file_save_02)\n",
    "file.copy(path_out_02, path_in_02)"
   ]
  },
  {
   "cell_type": "markdown",
   "metadata": {},
   "source": [
    "## <font color=' #2874a6 '>Main Conclusions</font>"
   ]
  },
  {
   "cell_type": "markdown",
   "metadata": {
    "slideshow": {
     "slide_type": "slide"
    }
   },
   "source": [
    "<font color='steelblue'>List and describe the general conclusions of the analysis carried out​.</font>"
   ]
  },
  {
   "attachments": {},
   "cell_type": "markdown",
   "metadata": {},
   "source": [
    "### Prerequisites\n",
    "\n",
    "This working code needs the following conditions:\n",
    "\n",
    "* For using the interactive selection of file, the {tcltk} package must be installed. It is not needed in production.\n",
    "* The {readr}, {dplyr}, {readxl} and {stringr} packages must be installed. They are part of the _tidyverse_.\n",
    "* The {sf} package must be installed. It needs some system requierements, check the package documentation at https://r-spatial.github.io/sf/\n",
    "* The data paths `Data/Input` and `Data/Output` must exist (relative to the notebook path)"
   ]
  },
  {
   "attachments": {},
   "cell_type": "markdown",
   "metadata": {},
   "source": [
    "### Configuration Management\n",
    "\n",
    "This notebook has been tested with the following versions of R and packages. It cannot be assured that later versions work in the same way:\n",
    "* R 4.2.2\n",
    "* tcltk 4.2.2\n",
    "* readr 2.1.3\n",
    "* sf 1.0.9\n",
    "* dplyr 1.0.10\n",
    "* readxl 1.4.1\n",
    "* stringr 1.5.0"
   ]
  },
  {
   "attachments": {},
   "cell_type": "markdown",
   "metadata": {},
   "source": [
    "### Data structures"
   ]
  },
  {
   "attachments": {},
   "cell_type": "markdown",
   "metadata": {},
   "source": [
    "#### Objeto `data_01_secciones` (Indicadores INE por sección censal)\n",
    "\n",
    "  * Los datos de origen fueron descargados de https://www.ine.es/dyngs/INEbase/es/operacion.htm?c=Estadistica_C&cid=1254736176992&menu=resultados&idp=1254735572981, csv con todas las comunidades, archivo `C2021_Indicadores.csv'. Indicadores por sección censal Comunidad de Madrid censo 2021. \n",
    "  * Hay 15 indicadores numéricos de 36.233 secciones censales de toda España (4.147 de la Comunidad de Madrid), más 5 columnas indicadoras de comunidad autónoma, provincia, municipio, distrito y sección censal.\n"
   ]
  },
  {
   "attachments": {},
   "cell_type": "markdown",
   "metadata": {},
   "source": [
    "#### Objeto `data_02_indicadores` (descripciones indicadores INE)\n",
    "\n",
    "- Los datos fueron obtenidos de https://www.ine.es/dyngs/INEbase/es/operacion.htm?c=Estadistica_C&cid=1254736176992&menu=resultados&idp=1254735572981. Archivo `indicadores_seccen_c2021.xlsx`: Códigos y nombres de indicadores censo 2021 en hoja indicadores (desde fila 8, 15 indicadores); tablas disponibles en hoja 'Tablas disponibles'.\n",
    "- Hay 15 filas con las descripciones de los indicadores y el código que se utiliza como encabezado de columna en la tabla de indicadores."
   ]
  },
  {
   "attachments": {},
   "cell_type": "markdown",
   "metadata": {},
   "source": [
    "### Consideraciones para despliegue en producción\n",
    "\n",
    "* Se deben crear los procesos ETL en producción necesarios para que los datos de entrada estén actualizados"
   ]
  },
  {
   "cell_type": "markdown",
   "metadata": {},
   "source": [
    "## <font color=' #2874a6 '>Main Actions</font>"
   ]
  },
  {
   "cell_type": "markdown",
   "metadata": {},
   "source": [
    "#### <font color=' #2874a6 '>Acciones done</font>"
   ]
  },
  {
   "cell_type": "markdown",
   "metadata": {
    "slideshow": {
     "slide_type": "slide"
    }
   },
   "source": [
    "<font color='steelblue'>Indicate the actions that have been carried out in this process</font>"
   ]
  },
  {
   "attachments": {},
   "cell_type": "markdown",
   "metadata": {},
   "source": [
    "- Se han filtrado los datos de indicadores del INE solo de la Comunidad de Madrid, ya que de vacunas no tendremos de otras comunidades\n"
   ]
  },
  {
   "cell_type": "markdown",
   "metadata": {},
   "source": [
    "#### <font color=' #2874a6 '>Acctions to perform</font>"
   ]
  },
  {
   "cell_type": "markdown",
   "metadata": {
    "slideshow": {
     "slide_type": "slide"
    }
   },
   "source": [
    "<font color='steelblue'>Indicate the actions that must be carried out in subsequent processes</font>"
   ]
  },
  {
   "attachments": {},
   "cell_type": "markdown",
   "metadata": {},
   "source": [
    "- Se deben unir los datos de indicadores a las zonas sanitarias básicas\n",
    "- Se deben agregar los datos por zonas sanitarias"
   ]
  },
  {
   "attachments": {},
   "cell_type": "markdown",
   "metadata": {},
   "source": [
    "## <font color='RED'>CODE TO DEPLOY (PILOT)</font>\n",
    "\n",
    "A continuación se incluirá el código que deba ser llevado a despliegue para producción, dado que se entiende efectúa operaciones necesarias sobre los datos en la ejecución del prototipo"
   ]
  },
  {
   "attachments": {},
   "cell_type": "markdown",
   "metadata": {},
   "source": [
    "<font color=' red '><b>Description</b></font>\n",
    "\n",
    "- No hay nada que desplegar en el piloto, ya que estos datos son estáticos o en todo caso cambian con muy poca frecuencia, altamente improbable durante el proyecto.\n"
   ]
  },
  {
   "attachments": {},
   "cell_type": "markdown",
   "metadata": {},
   "source": [
    "<font color=' red '><b>CODE</b></font>"
   ]
  },
  {
   "cell_type": "code",
   "execution_count": 43,
   "metadata": {
    "vscode": {
     "languageId": "r"
    }
   },
   "outputs": [],
   "source": [
    "# incluir código"
   ]
  }
 ],
 "metadata": {
  "anaconda-cloud": {},
  "celltoolbar": "Slideshow",
  "hide_input": false,
  "kernelspec": {
   "display_name": "R",
   "language": "R",
   "name": "ir"
  },
  "language_info": {
   "codemirror_mode": "r",
   "file_extension": ".r",
   "mimetype": "text/x-r-source",
   "name": "R",
   "pygments_lexer": "r",
   "version": "4.2.2"
  },
  "latex_envs": {
   "LaTeX_envs_menu_present": true,
   "autoclose": false,
   "autocomplete": true,
   "bibliofile": "biblio.bib",
   "cite_by": "apalike",
   "current_citInitial": 1,
   "eqLabelWithNumbers": true,
   "eqNumInitial": 1,
   "hotkeys": {
    "equation": "Ctrl-E",
    "itemize": "Ctrl-I"
   },
   "labels_anchors": false,
   "latex_user_defs": false,
   "report_style_numbering": true,
   "user_envs_cfg": false
  },
  "toc": {
   "base_numbering": 1,
   "nav_menu": {
    "height": "11.6px",
    "width": "160px"
   },
   "number_sections": false,
   "sideBar": true,
   "skip_h1_title": true,
   "title_cell": "Table of Contents",
   "title_sidebar": "Contents",
   "toc_cell": true,
   "toc_position": {
    "height": "calc(100% - 180px)",
    "left": "10px",
    "top": "150px",
    "width": "209.2px"
   },
   "toc_section_display": true,
   "toc_window_display": true
  },
  "varInspector": {
   "cols": {
    "lenName": 16,
    "lenType": 16,
    "lenVar": 40
   },
   "kernels_config": {
    "python": {
     "delete_cmd_postfix": "",
     "delete_cmd_prefix": "del ",
     "library": "var_list.py",
     "varRefreshCmd": "print(var_dic_list())"
    },
    "r": {
     "delete_cmd_postfix": ") ",
     "delete_cmd_prefix": "rm(",
     "library": "var_list.r",
     "varRefreshCmd": "cat(var_dic_list()) "
    }
   },
   "types_to_exclude": [
    "module",
    "function",
    "builtin_function_or_method",
    "instance",
    "_Feature"
   ],
   "window_display": false
  }
 },
 "nbformat": 4,
 "nbformat_minor": 1
}
