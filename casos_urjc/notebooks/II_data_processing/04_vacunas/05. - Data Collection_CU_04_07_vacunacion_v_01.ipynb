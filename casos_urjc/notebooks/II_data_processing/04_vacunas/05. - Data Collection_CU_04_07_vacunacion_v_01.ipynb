{
 "cells": [
  {
   "cell_type": "markdown",
   "metadata": {
    "slideshow": {
     "slide_type": "slide"
    }
   },
   "source": [
    "<img src=\".\\images\\Logo.png\" width=150 align=\"left\" /> <img src=\".\\images\\Logo2.jpg\" width=450 align=\"right\" />"
   ]
  },
  {
   "attachments": {},
   "cell_type": "markdown",
   "metadata": {
    "slideshow": {
     "slide_type": "slide"
    }
   },
   "source": [
    "\n",
    "# <center><font color= #1e8449 > <b>CU04_Optimización de vacunas</font></center>"
   ]
  },
  {
   "cell_type": "markdown",
   "metadata": {
    "slideshow": {
     "slide_type": "slide"
    }
   },
   "source": [
    "<font color='steelblue'><b>Citizenlab Data Science Methodology > II - Data Processing Domain </font>\n",
    "***\n",
    "> # <font color='steelblue'> <b>05.- Data Collection</font>"
   ]
  },
  {
   "cell_type": "markdown",
   "metadata": {
    "slideshow": {
     "slide_type": "slide"
    }
   },
   "source": [
    "<font color='steelblue'>Data Collection is the process to obtain and generate (if required) necessary data to model the problem.</font>"
   ]
  },
  {
   "attachments": {},
   "cell_type": "markdown",
   "metadata": {},
   "source": [
    "### 07. Datos de vacunación\n",
    "\n",
    "* En este notebook se simulan los datos\n",
    "* Cuanto estén disponibles los datos reales, se debe implementar según corresponda\n",
    "\n",
    "\n",
    "**Condiciones de la simulación**:\n",
    "\n",
    "1. Simular dos campañas: desde septiembre de 2021 hasta enero 2023\n",
    "2. La campaña empieza en la semana 41 y termina en la semana 5 del año siguiente\n",
    "3. Las zonas son las 286 que están en el archivo cu_04_05_02_zonas.csv\n",
    "3. Se simulan las siguientes variables para cada zona sanitaria y semana:\n",
    "    * `nvacunas` - Número de vacunas en cada zona y semana. El número total de vacunas en todas las semanas es aproximadamente el 20% de la población. Para cada zona, elegir aleatoriamente por ejemplo simulando una normal de media 0.2 y desv. típica 0.03 (una para cada campaña). Después, repartir en las semanas que dura la campaña de forma que las primeras semanas crezca, después se mantenga, y las últimas semanas decrezca, pero con cierta aleatoriedad. Cada resultado debe ser entero positivo. La población de cada zona está en cu_04_05_02_indicadores_zonas.csv\n",
    "    * `ncitas` - Número de citas solicitadas. Correlacionadas con la variable `nvacunas` y en promedio algo menor. Entero positivo.\n",
    "\n",
    "\n"
   ]
  },
  {
   "cell_type": "markdown",
   "metadata": {
    "toc": true
   },
   "source": [
    "<h1>Table of Contents<span class=\"tocSkip\"></span></h1>\n",
    "<div class=\"toc\"><ul class=\"toc-item\"><li><span><a href=\"#Settings\" data-toc-modified-id=\"Settings-1\"><font color=\"green\">Settings</font></a></span></li><li><span><a href=\"#Data-Load\" data-toc-modified-id=\"Data-Load-2\"><font color=\"green\">Data Load</font></a></span></li><li><span><a href=\"#ETL-Processes\" data-toc-modified-id=\"ETL-Processes-3\">ETL Processes</a></span><ul class=\"toc-item\"><li><span><a href=\"#Import-data-from:-CSV,-Excel,-Tab,-JSON,-SQL,-and-Parquet-files\" data-toc-modified-id=\"Import-data-from:-CSV,-Excel,-Tab,-JSON,-SQL,-and-Parquet-files-3.1\">Import data from: CSV, Excel, Tab, JSON, SQL, and Parquet files</a></span></li></ul></li><li><span><a href=\"#Synthetic-Data-Generation\" data-toc-modified-id=\"Synthetic-Data-Generation-4\">Synthetic Data Generation</a></span></li><li><span><a href=\"#Fake-Data-Generation\" data-toc-modified-id=\"Fake-Data-Generation-5\">Fake Data Generation</a></span></li><li><span><a href=\"#Open-Data\" data-toc-modified-id=\"Open-Data-6\">Open Data</a></span></li><li><span><a href=\"#Data-Save\" data-toc-modified-id=\"Data-Save-7\"><font color=\"green\">Data Save</font></a></span></li><li><span><a href=\"#Main-Conclusions\" data-toc-modified-id=\"Main-Conclusions-8\"><font color=\" #2874a6 \">Main Conclusions</font></a></span></li><li><span><a href=\"#Main-Actions\" data-toc-modified-id=\"Main-Actions-9\"><font color=\" #2874a6 \">Main Actions</font></a></span><ul class=\"toc-item\"><li><ul class=\"toc-item\"><li><span><a href=\"#Acciones-done\" data-toc-modified-id=\"Acciones-done-9.0.1\"><font color=\" #2874a6 \">Acciones done</font></a></span></li><li><span><a href=\"#Acctions-to-perform\" data-toc-modified-id=\"Acctions-to-perform-9.0.2\"><font color=\" #2874a6 \">Acctions to perform</font></a></span></li></ul></li></ul></li></ul></div>"
   ]
  },
  {
   "cell_type": "markdown",
   "metadata": {
    "slideshow": {
     "slide_type": "slide"
    }
   },
   "source": [
    "## <font color='green'>Settings</font>"
   ]
  },
  {
   "cell_type": "markdown",
   "metadata": {},
   "source": [
    "### Encoding\n",
    "\n",
    "Con la siguiente expresión se evitan problemas con el encoding al ejecutar el notebook. Es posible que deba ser eliminada o adaptada a la máquina en la que se ejecute el código."
   ]
  },
  {
   "cell_type": "code",
   "execution_count": null,
   "metadata": {
    "vscode": {
     "languageId": "r"
    }
   },
   "outputs": [
    {
     "data": {
      "text/html": [
       "'es_ES.UTF-8/es_ES.UTF-8/es_ES.UTF-8/C/es_ES.UTF-8/C'"
      ],
      "text/latex": [
       "'es\\_ES.UTF-8/es\\_ES.UTF-8/es\\_ES.UTF-8/C/es\\_ES.UTF-8/C'"
      ],
      "text/markdown": [
       "'es_ES.UTF-8/es_ES.UTF-8/es_ES.UTF-8/C/es_ES.UTF-8/C'"
      ],
      "text/plain": [
       "[1] \"es_ES.UTF-8/es_ES.UTF-8/es_ES.UTF-8/C/es_ES.UTF-8/C\""
      ]
     },
     "metadata": {},
     "output_type": "display_data"
    }
   ],
   "source": [
    "Sys.setlocale(category = \"LC_ALL\", locale = \"es_ES.UTF-8\")"
   ]
  },
  {
   "attachments": {},
   "cell_type": "markdown",
   "metadata": {},
   "source": [
    "No aplica"
   ]
  },
  {
   "attachments": {},
   "cell_type": "markdown",
   "metadata": {
    "slideshow": {
     "slide_type": "slide"
    }
   },
   "source": [
    "## <font color='green'>Data Load</font>\n",
    "\n",
    "No aplica"
   ]
  },
  {
   "cell_type": "markdown",
   "metadata": {
    "slideshow": {
     "slide_type": "slide"
    }
   },
   "source": [
    "## Synthetic Data Generation"
   ]
  },
  {
   "attachments": {},
   "cell_type": "markdown",
   "metadata": {
    "slideshow": {
     "slide_type": "slide"
    }
   },
   "source": [
    "* Se han generado los datos según la especificación utilizando herramientas de Microsoft (Power Query, Excel, Power BI)\n"
   ]
  },
  {
   "cell_type": "markdown",
   "metadata": {
    "slideshow": {
     "slide_type": "slide"
    }
   },
   "source": [
    "## Fake Data Generation"
   ]
  },
  {
   "attachments": {},
   "cell_type": "markdown",
   "metadata": {
    "slideshow": {
     "slide_type": "slide"
    }
   },
   "source": [
    "No aplica"
   ]
  },
  {
   "cell_type": "markdown",
   "metadata": {
    "slideshow": {
     "slide_type": "slide"
    }
   },
   "source": [
    "## Open Data"
   ]
  },
  {
   "attachments": {},
   "cell_type": "markdown",
   "metadata": {
    "slideshow": {
     "slide_type": "slide"
    }
   },
   "source": [
    "No aplica"
   ]
  },
  {
   "cell_type": "markdown",
   "metadata": {},
   "source": [
    "## <font color='green'>Data Save</font>"
   ]
  },
  {
   "attachments": {},
   "cell_type": "markdown",
   "metadata": {},
   "source": [
    "El archivo generado (output.xlsx) se ha copiado a la carpeta Data/Input, y será utilizado en otras tareas."
   ]
  },
  {
   "cell_type": "markdown",
   "metadata": {},
   "source": [
    "## <font color=' #2874a6 '>Main Conclusions</font>"
   ]
  },
  {
   "cell_type": "markdown",
   "metadata": {
    "slideshow": {
     "slide_type": "slide"
    }
   },
   "source": [
    "<font color='steelblue'>List and describe the general conclusions of the analysis carried out​.</font>"
   ]
  },
  {
   "attachments": {},
   "cell_type": "markdown",
   "metadata": {},
   "source": [
    "### Prerequisites\n",
    "\n",
    "No aplica"
   ]
  },
  {
   "attachments": {},
   "cell_type": "markdown",
   "metadata": {},
   "source": [
    "### Configuration Management\n",
    "\n",
    "No aplica"
   ]
  },
  {
   "attachments": {},
   "cell_type": "markdown",
   "metadata": {},
   "source": [
    "### Data structures"
   ]
  },
  {
   "attachments": {},
   "cell_type": "markdown",
   "metadata": {},
   "source": [
    "Se mostrarán en las tareas de importación\n"
   ]
  },
  {
   "attachments": {},
   "cell_type": "markdown",
   "metadata": {},
   "source": [
    "#### Observaciones generales sobre los datos\n",
    "\n",
    "* El archivo incluye los datos sanitarios y de vacunación"
   ]
  },
  {
   "attachments": {},
   "cell_type": "markdown",
   "metadata": {},
   "source": [
    "### Consideraciones para despliegue en piloto\n",
    "\n",
    "* Ninguna: se usarán los datos resultantes de la unión final"
   ]
  },
  {
   "attachments": {},
   "cell_type": "markdown",
   "metadata": {},
   "source": [
    "### Consideraciones para despliegue en producción\n",
    "\n",
    "* Se deben crear los procesos ETL en producción necesarios para que los datos de entrada estén actualizados\n",
    "* Se deben conseguir los datos reales y sustituir los simulados"
   ]
  },
  {
   "cell_type": "markdown",
   "metadata": {},
   "source": [
    "## <font color=' #2874a6 '>Main Actions</font>"
   ]
  },
  {
   "cell_type": "markdown",
   "metadata": {},
   "source": [
    "#### <font color=' #2874a6 '>Acciones done</font>"
   ]
  },
  {
   "cell_type": "markdown",
   "metadata": {
    "slideshow": {
     "slide_type": "slide"
    }
   },
   "source": [
    "<font color='steelblue'>Indicate the actions that have been carried out in this process</font>"
   ]
  },
  {
   "attachments": {},
   "cell_type": "markdown",
   "metadata": {},
   "source": [
    "- Se ha guardado el archivo simulado"
   ]
  },
  {
   "cell_type": "markdown",
   "metadata": {},
   "source": [
    "#### <font color=' #2874a6 '>Acctions to perform</font>"
   ]
  },
  {
   "cell_type": "markdown",
   "metadata": {
    "slideshow": {
     "slide_type": "slide"
    }
   },
   "source": [
    "<font color='steelblue'>Indicate the actions that must be carried out in subsequent processes</font>"
   ]
  },
  {
   "attachments": {},
   "cell_type": "markdown",
   "metadata": {},
   "source": [
    "- Se deben unir los datos al resto de datos por zona"
   ]
  },
  {
   "attachments": {},
   "cell_type": "markdown",
   "metadata": {},
   "source": [
    "## <font color='RED'>CODE TO DEPLOY (PILOT)</font>\n",
    "\n",
    "A continuación se incluirá el código que deba ser llevado a despliegue para producción, dado que se entiende efectúa operaciones necesarias sobre los datos en la ejecución del prototipo"
   ]
  },
  {
   "attachments": {},
   "cell_type": "markdown",
   "metadata": {},
   "source": [
    "<font color=' red '><b>Description</b></font>\n",
    "\n",
    "- No hay nada que desplegar en el piloto, ya que estos datos son estáticos o en todo caso cambian con muy poca frecuencia, altamente improbable durante el proyecto.\n"
   ]
  },
  {
   "attachments": {},
   "cell_type": "markdown",
   "metadata": {},
   "source": [
    "<font color=' red '><b>CODE</b></font>"
   ]
  },
  {
   "cell_type": "code",
   "execution_count": null,
   "metadata": {
    "vscode": {
     "languageId": "r"
    }
   },
   "outputs": [],
   "source": [
    "# incluir código"
   ]
  }
 ],
 "metadata": {
  "anaconda-cloud": {},
  "celltoolbar": "Slideshow",
  "hide_input": false,
  "kernelspec": {
   "display_name": "R",
   "language": "R",
   "name": "ir"
  },
  "language_info": {
   "codemirror_mode": "r",
   "file_extension": ".r",
   "mimetype": "text/x-r-source",
   "name": "R",
   "pygments_lexer": "r",
   "version": "4.2.2"
  },
  "latex_envs": {
   "LaTeX_envs_menu_present": true,
   "autoclose": false,
   "autocomplete": true,
   "bibliofile": "biblio.bib",
   "cite_by": "apalike",
   "current_citInitial": 1,
   "eqLabelWithNumbers": true,
   "eqNumInitial": 1,
   "hotkeys": {
    "equation": "Ctrl-E",
    "itemize": "Ctrl-I"
   },
   "labels_anchors": false,
   "latex_user_defs": false,
   "report_style_numbering": true,
   "user_envs_cfg": false
  },
  "toc": {
   "base_numbering": 1,
   "nav_menu": {
    "height": "11.6px",
    "width": "160px"
   },
   "number_sections": false,
   "sideBar": true,
   "skip_h1_title": true,
   "title_cell": "Table of Contents",
   "title_sidebar": "Contents",
   "toc_cell": true,
   "toc_position": {
    "height": "calc(100% - 180px)",
    "left": "10px",
    "top": "150px",
    "width": "209.2px"
   },
   "toc_section_display": true,
   "toc_window_display": true
  },
  "varInspector": {
   "cols": {
    "lenName": 16,
    "lenType": 16,
    "lenVar": 40
   },
   "kernels_config": {
    "python": {
     "delete_cmd_postfix": "",
     "delete_cmd_prefix": "del ",
     "library": "var_list.py",
     "varRefreshCmd": "print(var_dic_list())"
    },
    "r": {
     "delete_cmd_postfix": ") ",
     "delete_cmd_prefix": "rm(",
     "library": "var_list.r",
     "varRefreshCmd": "cat(var_dic_list()) "
    }
   },
   "types_to_exclude": [
    "module",
    "function",
    "builtin_function_or_method",
    "instance",
    "_Feature"
   ],
   "window_display": false
  }
 },
 "nbformat": 4,
 "nbformat_minor": 1
}
