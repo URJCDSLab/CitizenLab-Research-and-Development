{
 "cells": [
  {
   "cell_type": "markdown",
   "metadata": {
    "slideshow": {
     "slide_type": "slide"
    }
   },
   "source": [
    "<img src=\".\\images\\Logo.png\" width=150 align=\"left\" /> <img src=\".\\images\\Logo2.jpg\" width=450 align=\"right\" />"
   ]
  },
  {
   "attachments": {},
   "cell_type": "markdown",
   "metadata": {
    "slideshow": {
     "slide_type": "slide"
    }
   },
   "source": [
    "\n",
    "# <center><font color= #1e8449 > <b>CUxx_xxxxx</font></center>"
   ]
  },
  {
   "cell_type": "markdown",
   "metadata": {
    "slideshow": {
     "slide_type": "slide"
    }
   },
   "source": [
    "<font color='steelblue'><b>Citizenlab Data Science Methodology > II - Data Processing Domain </font>\n",
    "***\n",
    "> # <font color='steelblue'> <b>05.- Data Collection</font>"
   ]
  },
  {
   "cell_type": "markdown",
   "metadata": {
    "slideshow": {
     "slide_type": "slide"
    }
   },
   "source": [
    "<font color='steelblue'>Data Collection is the process to obtain and generate (if required) necessary data to model the problem.</font>"
   ]
  },
  {
   "attachments": {},
   "cell_type": "markdown",
   "metadata": {},
   "source": [
    "### 14. Obtener datos de contaminación \n",
    "\n",
    "* Importar datos de contaminiación de las estaciones (datos horarios)\n",
    "* Resumir por día\n",
    "\n",
    "\n",
    "\n",
    "\n",
    "\n"
   ]
  },
  {
   "cell_type": "markdown",
   "metadata": {
    "toc": true
   },
   "source": [
    "<h1>Table of Contents<span class=\"tocSkip\"></span></h1>\n",
    "<div class=\"toc\"><ul class=\"toc-item\"><li><span><a href=\"#Settings\" data-toc-modified-id=\"Settings-1\"><font color=\"green\">Settings</font></a></span></li><li><span><a href=\"#Data-Load\" data-toc-modified-id=\"Data-Load-2\"><font color=\"green\">Data Load</font></a></span></li><li><span><a href=\"#ETL-Processes\" data-toc-modified-id=\"ETL-Processes-3\">ETL Processes</a></span><ul class=\"toc-item\"><li><span><a href=\"#Import-data-from:-CSV,-Excel,-Tab,-JSON,-SQL,-and-Parquet-files\" data-toc-modified-id=\"Import-data-from:-CSV,-Excel,-Tab,-JSON,-SQL,-and-Parquet-files-3.1\">Import data from: CSV, Excel, Tab, JSON, SQL, and Parquet files</a></span></li></ul></li><li><span><a href=\"#Synthetic-Data-Generation\" data-toc-modified-id=\"Synthetic-Data-Generation-4\">Synthetic Data Generation</a></span></li><li><span><a href=\"#Fake-Data-Generation\" data-toc-modified-id=\"Fake-Data-Generation-5\">Fake Data Generation</a></span></li><li><span><a href=\"#Open-Data\" data-toc-modified-id=\"Open-Data-6\">Open Data</a></span></li><li><span><a href=\"#Data-Save\" data-toc-modified-id=\"Data-Save-7\"><font color=\"green\">Data Save</font></a></span></li><li><span><a href=\"#Main-Conclusions\" data-toc-modified-id=\"Main-Conclusions-8\"><font color=\" #2874a6 \">Main Conclusions</font></a></span></li><li><span><a href=\"#Main-Actions\" data-toc-modified-id=\"Main-Actions-9\"><font color=\" #2874a6 \">Main Actions</font></a></span><ul class=\"toc-item\"><li><ul class=\"toc-item\"><li><span><a href=\"#Acciones-done\" data-toc-modified-id=\"Acciones-done-9.0.1\"><font color=\" #2874a6 \">Acciones done</font></a></span></li><li><span><a href=\"#Acctions-to-perform\" data-toc-modified-id=\"Acctions-to-perform-9.0.2\"><font color=\" #2874a6 \">Acctions to perform</font></a></span></li></ul></li></ul></li></ul></div>"
   ]
  },
  {
   "cell_type": "markdown",
   "metadata": {
    "slideshow": {
     "slide_type": "slide"
    }
   },
   "source": [
    "## <font color='green'>Settings</font>"
   ]
  },
  {
   "attachments": {},
   "cell_type": "markdown",
   "metadata": {},
   "source": [
    "### Packages to use\n",
    "\n",
    "_ELIMINAR O AÑADIR LO QUE TOQUE. COPIAR VERSIONES AL FINAL Y QUITAR CÓDIGO DE VERSIONES_\n",
    "\n",
    "- {tcltk} para selección interactiva de archivos locales\n",
    "- {sf} para trabajar con georeferenciación\n",
    "- {readr} para leer y escribir archivos csv\n",
    "- {dplyr} para explorar datos\n",
    "- {tidyr} para organización de datos\n",
    "- {lubridate} para manipulación de fecha\n",
    "- {saqgter} para obtener datos de contaminación\n",
    "- {mapSpain} para obtener el contorno de la CM \n"
   ]
  },
  {
   "cell_type": "code",
   "execution_count": 1,
   "metadata": {
    "ExecuteTime": {
     "end_time": "2021-12-03T15:23:33.762841Z",
     "start_time": "2021-12-03T15:23:08.580267Z"
    },
    "slideshow": {
     "slide_type": "subslide"
    },
    "vscode": {
     "languageId": "r"
    }
   },
   "outputs": [
    {
     "name": "stderr",
     "output_type": "stream",
     "text": [
      "Linking to GEOS 3.10.2, GDAL 3.4.2, PROJ 8.2.1; sf_use_s2() is TRUE\n",
      "\n",
      "\n",
      "Attaching package: 'dplyr'\n",
      "\n",
      "\n",
      "The following objects are masked from 'package:stats':\n",
      "\n",
      "    filter, lag\n",
      "\n",
      "\n",
      "The following objects are masked from 'package:base':\n",
      "\n",
      "    intersect, setdiff, setequal, union\n",
      "\n",
      "\n",
      "\n",
      "Attaching package: 'lubridate'\n",
      "\n",
      "\n",
      "The following objects are masked from 'package:base':\n",
      "\n",
      "    date, intersect, setdiff, union\n",
      "\n",
      "\n"
     ]
    }
   ],
   "source": [
    "library(sf)\n",
    "library(readr)\n",
    "library(dplyr)\n",
    "library(stringr)\n",
    "library(tidyr)\n",
    "library(lubridate)\n",
    "library(saqgetr)\n",
    "library(mapSpain)\n",
    "\n",
    "p <- c(\"tcltk\", \"sf\", \"readr\", \"dplyr\", \"tidyr\", \"lubridate\", \"saqgetr\", \"mapSpain\")\n"
   ]
  },
  {
   "attachments": {},
   "cell_type": "markdown",
   "metadata": {},
   "source": [
    "### Paths"
   ]
  },
  {
   "cell_type": "code",
   "execution_count": 2,
   "metadata": {
    "vscode": {
     "languageId": "r"
    }
   },
   "outputs": [],
   "source": [
    "iPath <- \"Data/Input/\"\n",
    "oPath <- \"Data/Output/\""
   ]
  },
  {
   "attachments": {},
   "cell_type": "markdown",
   "metadata": {
    "slideshow": {
     "slide_type": "slide"
    }
   },
   "source": [
    "## <font color='green'>Data Load</font>\n",
    "\n",
    "No aplica"
   ]
  },
  {
   "attachments": {},
   "cell_type": "markdown",
   "metadata": {},
   "source": [
    "## Open Data\n",
    "\n",
    "* Obtener contornos de la comunidad de Madrid"
   ]
  },
  {
   "cell_type": "code",
   "execution_count": 4,
   "metadata": {
    "vscode": {
     "languageId": "r"
    }
   },
   "outputs": [],
   "source": [
    "data_01 <- esp_get_ccaa(13, epsg = 4326) "
   ]
  },
  {
   "attachments": {},
   "cell_type": "markdown",
   "metadata": {},
   "source": [
    "* Obtener estaciones de medición de contaminación de España, sin coordenadas nulas y transformados a objetos sf"
   ]
  },
  {
   "cell_type": "code",
   "execution_count": 5,
   "metadata": {
    "vscode": {
     "languageId": "r"
    }
   },
   "outputs": [],
   "source": [
    "data_02 <- get_saq_sites() |> \n",
    "  filter(country_iso_code == \"ES\") |> \n",
    "  drop_na(longitude, latitude) |> \n",
    "  st_as_sf(coords = c(\"longitude\", \"latitude\"), \n",
    "           crs = 4326) "
   ]
  },
  {
   "cell_type": "markdown",
   "metadata": {
    "slideshow": {
     "slide_type": "slide"
    }
   },
   "source": [
    "## ETL Processes"
   ]
  },
  {
   "attachments": {},
   "cell_type": "markdown",
   "metadata": {
    "slideshow": {
     "slide_type": "slide"
    }
   },
   "source": [
    "### Import data from: CSV, Excel, Tab, JSON, SQL, and Parquet files\n"
   ]
  },
  {
   "attachments": {},
   "cell_type": "markdown",
   "metadata": {},
   "source": [
    "Incluir apartados si procede para: Extracción de datos (select, filter), Transformación de datos, (mutate, joins, ...). Si es necesario tratar datos perdidos, indicarlo también en NB 09.2"
   ]
  },
  {
   "attachments": {},
   "cell_type": "markdown",
   "metadata": {},
   "source": [
    "Si no aplica: Estos datos no requieren tareas de este tipo."
   ]
  },
  {
   "attachments": {},
   "cell_type": "markdown",
   "metadata": {},
   "source": [
    "#### Data extract\n",
    "\n",
    "* Filtrar sites que están dentro del contorno de la CM y tienen datos necesarios para el caso (septiembre 2021)\n",
    "* Extraer solo columnas relevantes"
   ]
  },
  {
   "cell_type": "code",
   "execution_count": 38,
   "metadata": {
    "vscode": {
     "languageId": "r"
    }
   },
   "outputs": [],
   "source": [
    "edata_02 <- st_join(data_02, cm, left = FALSE) |> \n",
    "  filter(date_end >= \"2021-09-01\") |>\n",
    "  select(site, site_name)"
   ]
  },
  {
   "cell_type": "code",
   "execution_count": 40,
   "metadata": {
    "vscode": {
     "languageId": "r"
    }
   },
   "outputs": [
    {
     "name": "stdout",
     "output_type": "stream",
     "text": [
      "Rows: 48\n",
      "Columns: 3\n",
      "$ site      \u001b[3m\u001b[90m<chr>\u001b[39m\u001b[23m \"es0115a\", \"es0118a\", \"es0120a\", \"es0124a\", \"es0125a\", \"es01~\n",
      "$ site_name \u001b[3m\u001b[90m<chr>\u001b[39m\u001b[23m \"PLAZA DE ESPA<U+00D1>A\", \"ESCUELAS AGUIRRE\", \"RAM<U+00D3>N Y CAJAL\", \"ART~\n",
      "$ geometry  \u001b[3m\u001b[90m<POINT [arc_degree]>\u001b[39m\u001b[23m POINT (-3.712222 40.42417), POINT (-3.682222 ~\n"
     ]
    }
   ],
   "source": [
    "edata_02 |> glimpse()"
   ]
  },
  {
   "cell_type": "code",
   "execution_count": 41,
   "metadata": {
    "vscode": {
     "languageId": "r"
    }
   },
   "outputs": [
    {
     "data": {
      "text/html": [
       "<table class=\"dataframe\">\n",
       "<caption>A tibble: 5 x 3</caption>\n",
       "<thead>\n",
       "\t<tr><th scope=col>site</th><th scope=col>site_name</th><th scope=col>geometry</th></tr>\n",
       "\t<tr><th scope=col>&lt;chr&gt;</th><th scope=col>&lt;chr&gt;</th><th scope=col>&lt;POINT [arc_degree]&gt;</th></tr>\n",
       "</thead>\n",
       "<tbody>\n",
       "\t<tr><td>es0115a</td><td>PLAZA DE ESPA&lt;U+00D1&gt;A</td><td>POINT (-3.712222 40.42417)</td></tr>\n",
       "\t<tr><td>es0118a</td><td>ESCUELAS AGUIRRE      </td><td>POINT (-3.682222 40.42167)</td></tr>\n",
       "\t<tr><td>es0120a</td><td><span style=white-space:pre-wrap>RAM&lt;U+00D3&gt;N Y CAJAL  </span></td><td>POINT (-3.677222 40.45167)</td></tr>\n",
       "\t<tr><td>es0124a</td><td>ARTURO SORIA          </td><td>POINT (-3.639167 40.44)</td></tr>\n",
       "\t<tr><td>es0125a</td><td>VILLAVERDE            </td><td>POINT (-3.705 40.34694)</td></tr>\n",
       "</tbody>\n",
       "</table>\n"
      ],
      "text/latex": [
       "A tibble: 5 x 3\n",
       "\\begin{tabular}{lll}\n",
       " site & site\\_name & geometry\\\\\n",
       " <chr> & <chr> & <POINT {[}arc\\_degree{]}>\\\\\n",
       "\\hline\n",
       "\t es0115a & PLAZA DE ESPA<U+00D1>A & POINT (-3.712222 40.42417)\\\\\n",
       "\t es0118a & ESCUELAS AGUIRRE       & POINT (-3.682222 40.42167)\\\\\n",
       "\t es0120a & RAM<U+00D3>N Y CAJAL   & POINT (-3.677222 40.45167)\\\\\n",
       "\t es0124a & ARTURO SORIA           & POINT (-3.639167 40.44)\\\\\n",
       "\t es0125a & VILLAVERDE             & POINT (-3.705 40.34694)\\\\\n",
       "\\end{tabular}\n"
      ],
      "text/markdown": [
       "\n",
       "A tibble: 5 x 3\n",
       "\n",
       "| site &lt;chr&gt; | site_name &lt;chr&gt; | geometry &lt;POINT [arc_degree]&gt; |\n",
       "|---|---|---|\n",
       "| es0115a | PLAZA DE ESPA&lt;U+00D1&gt;A | POINT (-3.712222 40.42417) |\n",
       "| es0118a | ESCUELAS AGUIRRE       | POINT (-3.682222 40.42167) |\n",
       "| es0120a | RAM&lt;U+00D3&gt;N Y CAJAL   | POINT (-3.677222 40.45167) |\n",
       "| es0124a | ARTURO SORIA           | POINT (-3.639167 40.44) |\n",
       "| es0125a | VILLAVERDE             | POINT (-3.705 40.34694) |\n",
       "\n"
      ],
      "text/plain": [
       "  site    site_name              geometry                  \n",
       "1 es0115a PLAZA DE ESPA<U+00D1>A POINT (-3.712222 40.42417)\n",
       "2 es0118a ESCUELAS AGUIRRE       POINT (-3.682222 40.42167)\n",
       "3 es0120a RAM<U+00D3>N Y CAJAL   POINT (-3.677222 40.45167)\n",
       "4 es0124a ARTURO SORIA           POINT (-3.639167 40.44)   \n",
       "5 es0125a VILLAVERDE             POINT (-3.705 40.34694)   "
      ]
     },
     "metadata": {},
     "output_type": "display_data"
    }
   ],
   "source": [
    "edata_02 |> tibble() |> slice_head(n = 5)"
   ]
  },
  {
   "attachments": {},
   "cell_type": "markdown",
   "metadata": {},
   "source": [
    "## Open Data\n",
    "\n",
    "* Obtener datos de las estaciones"
   ]
  },
  {
   "cell_type": "code",
   "execution_count": 42,
   "metadata": {
    "vscode": {
     "languageId": "r"
    }
   },
   "outputs": [],
   "source": [
    "data <- get_saq_observations(site = tdata_02 |> pull(site), \n",
    "                              start = \"2021-09-01\")"
   ]
  },
  {
   "cell_type": "code",
   "execution_count": 34,
   "metadata": {
    "vscode": {
     "languageId": "r"
    }
   },
   "outputs": [
    {
     "name": "stdout",
     "output_type": "stream",
     "text": [
      "Rows: 3,118,601\n",
      "Columns: 9\n",
      "$ date     \u001b[3m\u001b[90m<dttm>\u001b[39m\u001b[23m 2021-09-01 00:00:00, 2021-09-01 01:00:00, 2021-09-01 02:00:0~\n",
      "$ date_end \u001b[3m\u001b[90m<dttm>\u001b[39m\u001b[23m 2021-09-01 01:00:00, 2021-09-01 02:00:00, 2021-09-01 03:00:0~\n",
      "$ site     \u001b[3m\u001b[90m<chr>\u001b[39m\u001b[23m \"es0115a\", \"es0115a\", \"es0115a\", \"es0115a\", \"es0115a\", \"es011~\n",
      "$ variable \u001b[3m\u001b[90m<chr>\u001b[39m\u001b[23m \"so2\", \"so2\", \"so2\", \"so2\", \"so2\", \"so2\", \"so2\", \"so2\", \"so2\"~\n",
      "$ process  \u001b[3m\u001b[90m<int>\u001b[39m\u001b[23m 305559, 305559, 305559, 305559, 305559, 305559, 305559, 30555~\n",
      "$ summary  \u001b[3m\u001b[90m<int>\u001b[39m\u001b[23m 1, 1, 1, 1, 1, 1, 1, 1, 1, 1, 1, 1, 1, 1, 1, 1, 1, 1, 1, 1, 1~\n",
      "$ validity \u001b[3m\u001b[90m<int>\u001b[39m\u001b[23m 1, 1, 1, 1, 1, 1, 1, 1, 1, 1, 1, 1, 1, 1, 1, 1, 1, 1, 1, 1, 1~\n",
      "$ unit     \u001b[3m\u001b[90m<chr>\u001b[39m\u001b[23m \"ug.m-3\", \"ug.m-3\", \"ug.m-3\", \"ug.m-3\", \"ug.m-3\", \"ug.m-3\", \"~\n",
      "$ value    \u001b[3m\u001b[90m<dbl>\u001b[39m\u001b[23m 10, 10, 10, 11, 11, 11, 11, 11, 12, 11, 10, 10, 9, 9, 9, 10, ~\n"
     ]
    }
   ],
   "source": [
    "data |> glimpse()"
   ]
  },
  {
   "attachments": {},
   "cell_type": "markdown",
   "metadata": {},
   "source": [
    "Verificación unidades (una variable no debería tener más de una unidad porque después vamos a agregar)"
   ]
  },
  {
   "cell_type": "code",
   "execution_count": 37,
   "metadata": {
    "vscode": {
     "languageId": "r"
    }
   },
   "outputs": [
    {
     "data": {
      "text/html": [
       "<table class=\"dataframe\">\n",
       "<caption>A tibble: 9 x 3</caption>\n",
       "<thead>\n",
       "\t<tr><th scope=col>variable</th><th scope=col>unit</th><th scope=col>n</th></tr>\n",
       "\t<tr><th scope=col>&lt;chr&gt;</th><th scope=col>&lt;chr&gt;</th><th scope=col>&lt;int&gt;</th></tr>\n",
       "</thead>\n",
       "<tbody>\n",
       "\t<tr><td>benzene</td><td>ug.m-3</td><td>118776</td></tr>\n",
       "\t<tr><td>co     </td><td>mg.m-3</td><td>115890</td></tr>\n",
       "\t<tr><td>no     </td><td>ug.m-3</td><td>566414</td></tr>\n",
       "\t<tr><td>no2    </td><td>ug.m-3</td><td>566415</td></tr>\n",
       "\t<tr><td>nox    </td><td>ug.m-3</td><td>566405</td></tr>\n",
       "\t<tr><td>o3     </td><td>ug.m-3</td><td>439971</td></tr>\n",
       "\t<tr><td>pm10   </td><td>ug.m-3</td><td>381684</td></tr>\n",
       "\t<tr><td>pm2.5  </td><td>ug.m-3</td><td>247298</td></tr>\n",
       "\t<tr><td>so2    </td><td>ug.m-3</td><td>115748</td></tr>\n",
       "</tbody>\n",
       "</table>\n"
      ],
      "text/latex": [
       "A tibble: 9 x 3\n",
       "\\begin{tabular}{lll}\n",
       " variable & unit & n\\\\\n",
       " <chr> & <chr> & <int>\\\\\n",
       "\\hline\n",
       "\t benzene & ug.m-3 & 118776\\\\\n",
       "\t co      & mg.m-3 & 115890\\\\\n",
       "\t no      & ug.m-3 & 566414\\\\\n",
       "\t no2     & ug.m-3 & 566415\\\\\n",
       "\t nox     & ug.m-3 & 566405\\\\\n",
       "\t o3      & ug.m-3 & 439971\\\\\n",
       "\t pm10    & ug.m-3 & 381684\\\\\n",
       "\t pm2.5   & ug.m-3 & 247298\\\\\n",
       "\t so2     & ug.m-3 & 115748\\\\\n",
       "\\end{tabular}\n"
      ],
      "text/markdown": [
       "\n",
       "A tibble: 9 x 3\n",
       "\n",
       "| variable &lt;chr&gt; | unit &lt;chr&gt; | n &lt;int&gt; |\n",
       "|---|---|---|\n",
       "| benzene | ug.m-3 | 118776 |\n",
       "| co      | mg.m-3 | 115890 |\n",
       "| no      | ug.m-3 | 566414 |\n",
       "| no2     | ug.m-3 | 566415 |\n",
       "| nox     | ug.m-3 | 566405 |\n",
       "| o3      | ug.m-3 | 439971 |\n",
       "| pm10    | ug.m-3 | 381684 |\n",
       "| pm2.5   | ug.m-3 | 247298 |\n",
       "| so2     | ug.m-3 | 115748 |\n",
       "\n"
      ],
      "text/plain": [
       "  variable unit   n     \n",
       "1 benzene  ug.m-3 118776\n",
       "2 co       mg.m-3 115890\n",
       "3 no       ug.m-3 566414\n",
       "4 no2      ug.m-3 566415\n",
       "5 nox      ug.m-3 566405\n",
       "6 o3       ug.m-3 439971\n",
       "7 pm10     ug.m-3 381684\n",
       "8 pm2.5    ug.m-3 247298\n",
       "9 so2      ug.m-3 115748"
      ]
     },
     "metadata": {},
     "output_type": "display_data"
    }
   ],
   "source": [
    "data |> count(variable, unit)"
   ]
  },
  {
   "attachments": {},
   "cell_type": "markdown",
   "metadata": {},
   "source": [
    "#### Data transform\n",
    "\n",
    "* Agrupar por semana y extender datos en columnas"
   ]
  },
  {
   "cell_type": "code",
   "execution_count": 19,
   "metadata": {
    "vscode": {
     "languageId": "r"
    }
   },
   "outputs": [
    {
     "name": "stderr",
     "output_type": "stream",
     "text": [
      "\u001b[1m\u001b[22m`summarise()` has grouped output by 'ano', 'semana'. You can override using the\n",
      "`.groups` argument.\n"
     ]
    }
   ],
   "source": [
    "tdata <-  data |> \n",
    "  saq_clean_observations(summary = \"hour\",\n",
    "                         spread = TRUE) |> \n",
    "  mutate(semana = isoweek(date),\n",
    "            ano = year(date)) |> \n",
    "  select(-date, -date_end) |> \n",
    "  group_by(ano, semana, site) |> \n",
    "  summarise(across(everything(), ~mean(.x, na.rm = TRUE))) |> \n",
    "  ungroup()"
   ]
  },
  {
   "cell_type": "code",
   "execution_count": 20,
   "metadata": {
    "vscode": {
     "languageId": "r"
    }
   },
   "outputs": [
    {
     "name": "stdout",
     "output_type": "stream",
     "text": [
      "Rows: 3,517\n",
      "Columns: 12\n",
      "$ ano     \u001b[3m\u001b[90m<dbl>\u001b[39m\u001b[23m 2021, 2021, 2021, 2021, 2021, 2021, 2021, 2021, 2021, 2021, 20~\n",
      "$ semana  \u001b[3m\u001b[90m<dbl>\u001b[39m\u001b[23m 35, 35, 35, 35, 35, 35, 35, 35, 35, 35, 35, 35, 35, 35, 35, 35~\n",
      "$ site    \u001b[3m\u001b[90m<chr>\u001b[39m\u001b[23m \"es0115a\", \"es0118a\", \"es0120a\", \"es0124a\", \"es0125a\", \"es0126~\n",
      "$ benzene \u001b[3m\u001b[90m<dbl>\u001b[39m\u001b[23m NaN, 0.2134454, 0.2889831, NaN, NaN, 0.1726496, 0.1705882, NaN~\n",
      "$ co      \u001b[3m\u001b[90m<dbl>\u001b[39m\u001b[23m 0.2750000, 0.2436975, NaN, NaN, NaN, NaN, NaN, 0.3117647, NaN,~\n",
      "$ no      \u001b[3m\u001b[90m<dbl>\u001b[39m\u001b[23m 8.250000, 6.050420, 5.816667, 3.375000, 10.629630, 5.428571, 2~\n",
      "$ no2     \u001b[3m\u001b[90m<dbl>\u001b[39m\u001b[23m 20.541667, 36.630252, 35.516667, 25.866667, 43.638889, 30.0672~\n",
      "$ nox     \u001b[3m\u001b[90m<dbl>\u001b[39m\u001b[23m 33.175000, 45.966387, 44.533333, 31.050000, 59.935185, 38.4453~\n",
      "$ o3      \u001b[3m\u001b[90m<dbl>\u001b[39m\u001b[23m NaN, 58.64034, NaN, 67.25833, 49.82202, 51.81076, 54.88100, 61~\n",
      "$ pm10    \u001b[3m\u001b[90m<dbl>\u001b[39m\u001b[23m NaN, 24.983193, NaN, NaN, NaN, 17.857143, 14.750000, NaN, 14.5~\n",
      "$ pm2.5   \u001b[3m\u001b[90m<dbl>\u001b[39m\u001b[23m NaN, 20.369748, NaN, NaN, NaN, NaN, 8.983333, NaN, NaN, NaN, 1~\n",
      "$ so2     \u001b[3m\u001b[90m<dbl>\u001b[39m\u001b[23m 10.116667, 6.075630, NaN, NaN, NaN, NaN, NaN, 7.983193, 5.7250~\n"
     ]
    }
   ],
   "source": [
    "tdata |> glimpse()"
   ]
  },
  {
   "cell_type": "code",
   "execution_count": 21,
   "metadata": {
    "vscode": {
     "languageId": "r"
    }
   },
   "outputs": [
    {
     "data": {
      "text/html": [
       "<table class=\"dataframe\">\n",
       "<caption>A tibble: 10 x 12</caption>\n",
       "<thead>\n",
       "\t<tr><th scope=col>ano</th><th scope=col>semana</th><th scope=col>site</th><th scope=col>benzene</th><th scope=col>co</th><th scope=col>no</th><th scope=col>no2</th><th scope=col>nox</th><th scope=col>o3</th><th scope=col>pm10</th><th scope=col>pm2.5</th><th scope=col>so2</th></tr>\n",
       "\t<tr><th scope=col>&lt;dbl&gt;</th><th scope=col>&lt;dbl&gt;</th><th scope=col>&lt;chr&gt;</th><th scope=col>&lt;dbl&gt;</th><th scope=col>&lt;dbl&gt;</th><th scope=col>&lt;dbl&gt;</th><th scope=col>&lt;dbl&gt;</th><th scope=col>&lt;dbl&gt;</th><th scope=col>&lt;dbl&gt;</th><th scope=col>&lt;dbl&gt;</th><th scope=col>&lt;dbl&gt;</th><th scope=col>&lt;dbl&gt;</th></tr>\n",
       "</thead>\n",
       "<tbody>\n",
       "\t<tr><td>2021</td><td>35</td><td>es0115a</td><td>      NaN</td><td>0.2750000</td><td> 8.250000</td><td>20.54167</td><td>33.17500</td><td>     NaN</td><td>     NaN</td><td>      NaN</td><td>10.116667</td></tr>\n",
       "\t<tr><td>2021</td><td>35</td><td>es0118a</td><td>0.2134454</td><td>0.2436975</td><td> 6.050420</td><td>36.63025</td><td>45.96639</td><td>58.64034</td><td>24.98319</td><td>20.369748</td><td> 6.075630</td></tr>\n",
       "\t<tr><td>2021</td><td>35</td><td>es0120a</td><td>0.2889831</td><td>      NaN</td><td> 5.816667</td><td>35.51667</td><td>44.53333</td><td>     NaN</td><td>     NaN</td><td>      NaN</td><td>      NaN</td></tr>\n",
       "\t<tr><td>2021</td><td>35</td><td>es0124a</td><td>      NaN</td><td>      NaN</td><td> 3.375000</td><td>25.86667</td><td>31.05000</td><td>67.25833</td><td>     NaN</td><td>      NaN</td><td>      NaN</td></tr>\n",
       "\t<tr><td>2021</td><td>35</td><td>es0125a</td><td>      NaN</td><td>      NaN</td><td>10.629630</td><td>43.63889</td><td>59.93519</td><td>49.82202</td><td>     NaN</td><td>      NaN</td><td>      NaN</td></tr>\n",
       "\t<tr><td>2021</td><td>35</td><td>es0126a</td><td>0.1726496</td><td>      NaN</td><td> 5.428571</td><td>30.06723</td><td>38.44538</td><td>51.81076</td><td>17.85714</td><td>      NaN</td><td>      NaN</td></tr>\n",
       "\t<tr><td>2021</td><td>35</td><td>es1193a</td><td>0.1705882</td><td>      NaN</td><td> 2.858333</td><td>19.26667</td><td>23.70833</td><td>54.88100</td><td>14.75000</td><td> 8.983333</td><td>      NaN</td></tr>\n",
       "\t<tr><td>2021</td><td>35</td><td>es1422a</td><td>      NaN</td><td>0.3117647</td><td> 5.638655</td><td>30.89916</td><td>39.47059</td><td>61.85992</td><td>     NaN</td><td>      NaN</td><td> 7.983193</td></tr>\n",
       "\t<tr><td>2021</td><td>35</td><td>es1426a</td><td>      NaN</td><td>      NaN</td><td> 3.625000</td><td>30.29167</td><td>35.83333</td><td>     NaN</td><td>14.58333</td><td>      NaN</td><td> 5.725000</td></tr>\n",
       "\t<tr><td>2021</td><td>35</td><td>es1521a</td><td>      NaN</td><td>      NaN</td><td> 8.508333</td><td>32.55000</td><td>45.52500</td><td>58.43633</td><td>     NaN</td><td>      NaN</td><td>      NaN</td></tr>\n",
       "</tbody>\n",
       "</table>\n"
      ],
      "text/latex": [
       "A tibble: 10 x 12\n",
       "\\begin{tabular}{llllllllllll}\n",
       " ano & semana & site & benzene & co & no & no2 & nox & o3 & pm10 & pm2.5 & so2\\\\\n",
       " <dbl> & <dbl> & <chr> & <dbl> & <dbl> & <dbl> & <dbl> & <dbl> & <dbl> & <dbl> & <dbl> & <dbl>\\\\\n",
       "\\hline\n",
       "\t 2021 & 35 & es0115a &       NaN & 0.2750000 &  8.250000 & 20.54167 & 33.17500 &      NaN &      NaN &       NaN & 10.116667\\\\\n",
       "\t 2021 & 35 & es0118a & 0.2134454 & 0.2436975 &  6.050420 & 36.63025 & 45.96639 & 58.64034 & 24.98319 & 20.369748 &  6.075630\\\\\n",
       "\t 2021 & 35 & es0120a & 0.2889831 &       NaN &  5.816667 & 35.51667 & 44.53333 &      NaN &      NaN &       NaN &       NaN\\\\\n",
       "\t 2021 & 35 & es0124a &       NaN &       NaN &  3.375000 & 25.86667 & 31.05000 & 67.25833 &      NaN &       NaN &       NaN\\\\\n",
       "\t 2021 & 35 & es0125a &       NaN &       NaN & 10.629630 & 43.63889 & 59.93519 & 49.82202 &      NaN &       NaN &       NaN\\\\\n",
       "\t 2021 & 35 & es0126a & 0.1726496 &       NaN &  5.428571 & 30.06723 & 38.44538 & 51.81076 & 17.85714 &       NaN &       NaN\\\\\n",
       "\t 2021 & 35 & es1193a & 0.1705882 &       NaN &  2.858333 & 19.26667 & 23.70833 & 54.88100 & 14.75000 &  8.983333 &       NaN\\\\\n",
       "\t 2021 & 35 & es1422a &       NaN & 0.3117647 &  5.638655 & 30.89916 & 39.47059 & 61.85992 &      NaN &       NaN &  7.983193\\\\\n",
       "\t 2021 & 35 & es1426a &       NaN &       NaN &  3.625000 & 30.29167 & 35.83333 &      NaN & 14.58333 &       NaN &  5.725000\\\\\n",
       "\t 2021 & 35 & es1521a &       NaN &       NaN &  8.508333 & 32.55000 & 45.52500 & 58.43633 &      NaN &       NaN &       NaN\\\\\n",
       "\\end{tabular}\n"
      ],
      "text/markdown": [
       "\n",
       "A tibble: 10 x 12\n",
       "\n",
       "| ano &lt;dbl&gt; | semana &lt;dbl&gt; | site &lt;chr&gt; | benzene &lt;dbl&gt; | co &lt;dbl&gt; | no &lt;dbl&gt; | no2 &lt;dbl&gt; | nox &lt;dbl&gt; | o3 &lt;dbl&gt; | pm10 &lt;dbl&gt; | pm2.5 &lt;dbl&gt; | so2 &lt;dbl&gt; |\n",
       "|---|---|---|---|---|---|---|---|---|---|---|---|\n",
       "| 2021 | 35 | es0115a |       NaN | 0.2750000 |  8.250000 | 20.54167 | 33.17500 |      NaN |      NaN |       NaN | 10.116667 |\n",
       "| 2021 | 35 | es0118a | 0.2134454 | 0.2436975 |  6.050420 | 36.63025 | 45.96639 | 58.64034 | 24.98319 | 20.369748 |  6.075630 |\n",
       "| 2021 | 35 | es0120a | 0.2889831 |       NaN |  5.816667 | 35.51667 | 44.53333 |      NaN |      NaN |       NaN |       NaN |\n",
       "| 2021 | 35 | es0124a |       NaN |       NaN |  3.375000 | 25.86667 | 31.05000 | 67.25833 |      NaN |       NaN |       NaN |\n",
       "| 2021 | 35 | es0125a |       NaN |       NaN | 10.629630 | 43.63889 | 59.93519 | 49.82202 |      NaN |       NaN |       NaN |\n",
       "| 2021 | 35 | es0126a | 0.1726496 |       NaN |  5.428571 | 30.06723 | 38.44538 | 51.81076 | 17.85714 |       NaN |       NaN |\n",
       "| 2021 | 35 | es1193a | 0.1705882 |       NaN |  2.858333 | 19.26667 | 23.70833 | 54.88100 | 14.75000 |  8.983333 |       NaN |\n",
       "| 2021 | 35 | es1422a |       NaN | 0.3117647 |  5.638655 | 30.89916 | 39.47059 | 61.85992 |      NaN |       NaN |  7.983193 |\n",
       "| 2021 | 35 | es1426a |       NaN |       NaN |  3.625000 | 30.29167 | 35.83333 |      NaN | 14.58333 |       NaN |  5.725000 |\n",
       "| 2021 | 35 | es1521a |       NaN |       NaN |  8.508333 | 32.55000 | 45.52500 | 58.43633 |      NaN |       NaN |       NaN |\n",
       "\n"
      ],
      "text/plain": [
       "   ano  semana site    benzene   co        no        no2      nox      o3      \n",
       "1  2021 35     es0115a       NaN 0.2750000  8.250000 20.54167 33.17500      NaN\n",
       "2  2021 35     es0118a 0.2134454 0.2436975  6.050420 36.63025 45.96639 58.64034\n",
       "3  2021 35     es0120a 0.2889831       NaN  5.816667 35.51667 44.53333      NaN\n",
       "4  2021 35     es0124a       NaN       NaN  3.375000 25.86667 31.05000 67.25833\n",
       "5  2021 35     es0125a       NaN       NaN 10.629630 43.63889 59.93519 49.82202\n",
       "6  2021 35     es0126a 0.1726496       NaN  5.428571 30.06723 38.44538 51.81076\n",
       "7  2021 35     es1193a 0.1705882       NaN  2.858333 19.26667 23.70833 54.88100\n",
       "8  2021 35     es1422a       NaN 0.3117647  5.638655 30.89916 39.47059 61.85992\n",
       "9  2021 35     es1426a       NaN       NaN  3.625000 30.29167 35.83333      NaN\n",
       "10 2021 35     es1521a       NaN       NaN  8.508333 32.55000 45.52500 58.43633\n",
       "   pm10     pm2.5     so2      \n",
       "1       NaN       NaN 10.116667\n",
       "2  24.98319 20.369748  6.075630\n",
       "3       NaN       NaN       NaN\n",
       "4       NaN       NaN       NaN\n",
       "5       NaN       NaN       NaN\n",
       "6  17.85714       NaN       NaN\n",
       "7  14.75000  8.983333       NaN\n",
       "8       NaN       NaN  7.983193\n",
       "9  14.58333       NaN  5.725000\n",
       "10      NaN       NaN       NaN"
      ]
     },
     "metadata": {},
     "output_type": "display_data"
    }
   ],
   "source": [
    "tdata |> tibble() |> slice_head(n = 10)"
   ]
  },
  {
   "attachments": {},
   "cell_type": "markdown",
   "metadata": {},
   "source": [
    "* Quitar geometría a estaciones y poner coordenadas como columnas numéricas"
   ]
  },
  {
   "cell_type": "code",
   "execution_count": 45,
   "metadata": {
    "vscode": {
     "languageId": "r"
    }
   },
   "outputs": [],
   "source": [
    "tdata_02 <- edata_02 |>\n",
    "    bind_cols(st_coordinates(edata_02)) |>\n",
    "    st_drop_geometry()"
   ]
  },
  {
   "cell_type": "code",
   "execution_count": 47,
   "metadata": {
    "vscode": {
     "languageId": "r"
    }
   },
   "outputs": [
    {
     "data": {
      "text/html": [
       "<table class=\"dataframe\">\n",
       "<caption>A tibble: 5 x 4</caption>\n",
       "<thead>\n",
       "\t<tr><th scope=col>site</th><th scope=col>site_name</th><th scope=col>X</th><th scope=col>Y</th></tr>\n",
       "\t<tr><th scope=col>&lt;chr&gt;</th><th scope=col>&lt;chr&gt;</th><th scope=col>&lt;dbl&gt;</th><th scope=col>&lt;dbl&gt;</th></tr>\n",
       "</thead>\n",
       "<tbody>\n",
       "\t<tr><td>es0115a</td><td>PLAZA DE ESPA&lt;U+00D1&gt;A</td><td>-3.712222</td><td>40.42417</td></tr>\n",
       "\t<tr><td>es0118a</td><td>ESCUELAS AGUIRRE      </td><td>-3.682222</td><td>40.42167</td></tr>\n",
       "\t<tr><td>es0120a</td><td><span style=white-space:pre-wrap>RAM&lt;U+00D3&gt;N Y CAJAL  </span></td><td>-3.677222</td><td>40.45167</td></tr>\n",
       "\t<tr><td>es0124a</td><td>ARTURO SORIA          </td><td>-3.639167</td><td>40.44000</td></tr>\n",
       "\t<tr><td>es0125a</td><td>VILLAVERDE            </td><td>-3.705000</td><td>40.34694</td></tr>\n",
       "</tbody>\n",
       "</table>\n"
      ],
      "text/latex": [
       "A tibble: 5 x 4\n",
       "\\begin{tabular}{llll}\n",
       " site & site\\_name & X & Y\\\\\n",
       " <chr> & <chr> & <dbl> & <dbl>\\\\\n",
       "\\hline\n",
       "\t es0115a & PLAZA DE ESPA<U+00D1>A & -3.712222 & 40.42417\\\\\n",
       "\t es0118a & ESCUELAS AGUIRRE       & -3.682222 & 40.42167\\\\\n",
       "\t es0120a & RAM<U+00D3>N Y CAJAL   & -3.677222 & 40.45167\\\\\n",
       "\t es0124a & ARTURO SORIA           & -3.639167 & 40.44000\\\\\n",
       "\t es0125a & VILLAVERDE             & -3.705000 & 40.34694\\\\\n",
       "\\end{tabular}\n"
      ],
      "text/markdown": [
       "\n",
       "A tibble: 5 x 4\n",
       "\n",
       "| site &lt;chr&gt; | site_name &lt;chr&gt; | X &lt;dbl&gt; | Y &lt;dbl&gt; |\n",
       "|---|---|---|---|\n",
       "| es0115a | PLAZA DE ESPA&lt;U+00D1&gt;A | -3.712222 | 40.42417 |\n",
       "| es0118a | ESCUELAS AGUIRRE       | -3.682222 | 40.42167 |\n",
       "| es0120a | RAM&lt;U+00D3&gt;N Y CAJAL   | -3.677222 | 40.45167 |\n",
       "| es0124a | ARTURO SORIA           | -3.639167 | 40.44000 |\n",
       "| es0125a | VILLAVERDE             | -3.705000 | 40.34694 |\n",
       "\n"
      ],
      "text/plain": [
       "  site    site_name              X         Y       \n",
       "1 es0115a PLAZA DE ESPA<U+00D1>A -3.712222 40.42417\n",
       "2 es0118a ESCUELAS AGUIRRE       -3.682222 40.42167\n",
       "3 es0120a RAM<U+00D3>N Y CAJAL   -3.677222 40.45167\n",
       "4 es0124a ARTURO SORIA           -3.639167 40.44000\n",
       "5 es0125a VILLAVERDE             -3.705000 40.34694"
      ]
     },
     "metadata": {},
     "output_type": "display_data"
    }
   ],
   "source": [
    "tdata_02 |> slice_head(n = 5)"
   ]
  },
  {
   "attachments": {},
   "cell_type": "markdown",
   "metadata": {},
   "source": [
    "* Agregar coordenadas y nombre de la estación\n"
   ]
  },
  {
   "cell_type": "code",
   "execution_count": 48,
   "metadata": {
    "vscode": {
     "languageId": "r"
    }
   },
   "outputs": [
    {
     "name": "stderr",
     "output_type": "stream",
     "text": [
      "\u001b[1m\u001b[22mJoining, by = \"site\"\n"
     ]
    }
   ],
   "source": [
    "tdata_out <- tdata |> \n",
    "    inner_join(tdata_02)"
   ]
  },
  {
   "cell_type": "code",
   "execution_count": 49,
   "metadata": {
    "vscode": {
     "languageId": "r"
    }
   },
   "outputs": [
    {
     "name": "stdout",
     "output_type": "stream",
     "text": [
      "Rows: 3,517\n",
      "Columns: 15\n",
      "$ ano       \u001b[3m\u001b[90m<dbl>\u001b[39m\u001b[23m 2021, 2021, 2021, 2021, 2021, 2021, 2021, 2021, 2021, 2021, ~\n",
      "$ semana    \u001b[3m\u001b[90m<dbl>\u001b[39m\u001b[23m 35, 35, 35, 35, 35, 35, 35, 35, 35, 35, 35, 35, 35, 35, 35, ~\n",
      "$ site      \u001b[3m\u001b[90m<chr>\u001b[39m\u001b[23m \"es0115a\", \"es0118a\", \"es0120a\", \"es0124a\", \"es0125a\", \"es01~\n",
      "$ benzene   \u001b[3m\u001b[90m<dbl>\u001b[39m\u001b[23m NaN, 0.2134454, 0.2889831, NaN, NaN, 0.1726496, 0.1705882, N~\n",
      "$ co        \u001b[3m\u001b[90m<dbl>\u001b[39m\u001b[23m 0.2750000, 0.2436975, NaN, NaN, NaN, NaN, NaN, 0.3117647, Na~\n",
      "$ no        \u001b[3m\u001b[90m<dbl>\u001b[39m\u001b[23m 8.250000, 6.050420, 5.816667, 3.375000, 10.629630, 5.428571,~\n",
      "$ no2       \u001b[3m\u001b[90m<dbl>\u001b[39m\u001b[23m 20.541667, 36.630252, 35.516667, 25.866667, 43.638889, 30.06~\n",
      "$ nox       \u001b[3m\u001b[90m<dbl>\u001b[39m\u001b[23m 33.175000, 45.966387, 44.533333, 31.050000, 59.935185, 38.44~\n",
      "$ o3        \u001b[3m\u001b[90m<dbl>\u001b[39m\u001b[23m NaN, 58.64034, NaN, 67.25833, 49.82202, 51.81076, 54.88100, ~\n",
      "$ pm10      \u001b[3m\u001b[90m<dbl>\u001b[39m\u001b[23m NaN, 24.983193, NaN, NaN, NaN, 17.857143, 14.750000, NaN, 14~\n",
      "$ pm2.5     \u001b[3m\u001b[90m<dbl>\u001b[39m\u001b[23m NaN, 20.369748, NaN, NaN, NaN, NaN, 8.983333, NaN, NaN, NaN,~\n",
      "$ so2       \u001b[3m\u001b[90m<dbl>\u001b[39m\u001b[23m 10.116667, 6.075630, NaN, NaN, NaN, NaN, NaN, 7.983193, 5.72~\n",
      "$ site_name \u001b[3m\u001b[90m<chr>\u001b[39m\u001b[23m \"PLAZA DE ESPA<U+00D1>A\", \"ESCUELAS AGUIRRE\", \"RAM<U+00D3>N Y CAJAL\", \"ART~\n",
      "$ X         \u001b[3m\u001b[90m<dbl>\u001b[39m\u001b[23m -3.712222, -3.682222, -3.677222, -3.639167, -3.705000, -3.73~\n",
      "$ Y         \u001b[3m\u001b[90m<dbl>\u001b[39m\u001b[23m 40.42417, 40.42167, 40.45167, 40.44000, 40.34694, 40.39472, ~\n"
     ]
    }
   ],
   "source": [
    "tdata_out |> glimpse()"
   ]
  },
  {
   "cell_type": "code",
   "execution_count": 50,
   "metadata": {
    "vscode": {
     "languageId": "r"
    }
   },
   "outputs": [
    {
     "data": {
      "text/html": [
       "<table class=\"dataframe\">\n",
       "<caption>A tibble: 5 x 15</caption>\n",
       "<thead>\n",
       "\t<tr><th scope=col>ano</th><th scope=col>semana</th><th scope=col>site</th><th scope=col>benzene</th><th scope=col>co</th><th scope=col>no</th><th scope=col>no2</th><th scope=col>nox</th><th scope=col>o3</th><th scope=col>pm10</th><th scope=col>pm2.5</th><th scope=col>so2</th><th scope=col>site_name</th><th scope=col>X</th><th scope=col>Y</th></tr>\n",
       "\t<tr><th scope=col>&lt;dbl&gt;</th><th scope=col>&lt;dbl&gt;</th><th scope=col>&lt;chr&gt;</th><th scope=col>&lt;dbl&gt;</th><th scope=col>&lt;dbl&gt;</th><th scope=col>&lt;dbl&gt;</th><th scope=col>&lt;dbl&gt;</th><th scope=col>&lt;dbl&gt;</th><th scope=col>&lt;dbl&gt;</th><th scope=col>&lt;dbl&gt;</th><th scope=col>&lt;dbl&gt;</th><th scope=col>&lt;dbl&gt;</th><th scope=col>&lt;chr&gt;</th><th scope=col>&lt;dbl&gt;</th><th scope=col>&lt;dbl&gt;</th></tr>\n",
       "</thead>\n",
       "<tbody>\n",
       "\t<tr><td>2021</td><td>35</td><td>es0115a</td><td><span style=white-space:pre-wrap>      NaN</span></td><td>0.2750000</td><td> 8.250000</td><td>20.54167</td><td>33.17500</td><td><span style=white-space:pre-wrap>     NaN</span></td><td><span style=white-space:pre-wrap>     NaN</span></td><td><span style=white-space:pre-wrap>     NaN</span></td><td>10.11667</td><td>PLAZA DE ESPA&lt;U+00D1&gt;A</td><td>-3.712222</td><td>40.42417</td></tr>\n",
       "\t<tr><td>2021</td><td>35</td><td>es0118a</td><td>0.2134454</td><td>0.2436975</td><td> 6.050420</td><td>36.63025</td><td>45.96639</td><td>58.64034</td><td>24.98319</td><td>20.36975</td><td> 6.07563</td><td>ESCUELAS AGUIRRE      </td><td>-3.682222</td><td>40.42167</td></tr>\n",
       "\t<tr><td>2021</td><td>35</td><td>es0120a</td><td>0.2889831</td><td><span style=white-space:pre-wrap>      NaN</span></td><td> 5.816667</td><td>35.51667</td><td>44.53333</td><td><span style=white-space:pre-wrap>     NaN</span></td><td><span style=white-space:pre-wrap>     NaN</span></td><td><span style=white-space:pre-wrap>     NaN</span></td><td><span style=white-space:pre-wrap>     NaN</span></td><td><span style=white-space:pre-wrap>RAM&lt;U+00D3&gt;N Y CAJAL  </span></td><td>-3.677222</td><td>40.45167</td></tr>\n",
       "\t<tr><td>2021</td><td>35</td><td>es0124a</td><td>      NaN</td><td>      NaN</td><td> 3.375000</td><td>25.86667</td><td>31.05000</td><td>67.25833</td><td>     NaN</td><td>     NaN</td><td>     NaN</td><td>ARTURO SORIA          </td><td>-3.639167</td><td>40.44000</td></tr>\n",
       "\t<tr><td>2021</td><td>35</td><td>es0125a</td><td>      NaN</td><td>      NaN</td><td>10.629630</td><td>43.63889</td><td>59.93519</td><td>49.82202</td><td>     NaN</td><td>     NaN</td><td>     NaN</td><td>VILLAVERDE            </td><td>-3.705000</td><td>40.34694</td></tr>\n",
       "</tbody>\n",
       "</table>\n"
      ],
      "text/latex": [
       "A tibble: 5 x 15\n",
       "\\begin{tabular}{lllllllllllllll}\n",
       " ano & semana & site & benzene & co & no & no2 & nox & o3 & pm10 & pm2.5 & so2 & site\\_name & X & Y\\\\\n",
       " <dbl> & <dbl> & <chr> & <dbl> & <dbl> & <dbl> & <dbl> & <dbl> & <dbl> & <dbl> & <dbl> & <dbl> & <chr> & <dbl> & <dbl>\\\\\n",
       "\\hline\n",
       "\t 2021 & 35 & es0115a &       NaN & 0.2750000 &  8.250000 & 20.54167 & 33.17500 &      NaN &      NaN &      NaN & 10.11667 & PLAZA DE ESPA<U+00D1>A & -3.712222 & 40.42417\\\\\n",
       "\t 2021 & 35 & es0118a & 0.2134454 & 0.2436975 &  6.050420 & 36.63025 & 45.96639 & 58.64034 & 24.98319 & 20.36975 &  6.07563 & ESCUELAS AGUIRRE       & -3.682222 & 40.42167\\\\\n",
       "\t 2021 & 35 & es0120a & 0.2889831 &       NaN &  5.816667 & 35.51667 & 44.53333 &      NaN &      NaN &      NaN &      NaN & RAM<U+00D3>N Y CAJAL   & -3.677222 & 40.45167\\\\\n",
       "\t 2021 & 35 & es0124a &       NaN &       NaN &  3.375000 & 25.86667 & 31.05000 & 67.25833 &      NaN &      NaN &      NaN & ARTURO SORIA           & -3.639167 & 40.44000\\\\\n",
       "\t 2021 & 35 & es0125a &       NaN &       NaN & 10.629630 & 43.63889 & 59.93519 & 49.82202 &      NaN &      NaN &      NaN & VILLAVERDE             & -3.705000 & 40.34694\\\\\n",
       "\\end{tabular}\n"
      ],
      "text/markdown": [
       "\n",
       "A tibble: 5 x 15\n",
       "\n",
       "| ano &lt;dbl&gt; | semana &lt;dbl&gt; | site &lt;chr&gt; | benzene &lt;dbl&gt; | co &lt;dbl&gt; | no &lt;dbl&gt; | no2 &lt;dbl&gt; | nox &lt;dbl&gt; | o3 &lt;dbl&gt; | pm10 &lt;dbl&gt; | pm2.5 &lt;dbl&gt; | so2 &lt;dbl&gt; | site_name &lt;chr&gt; | X &lt;dbl&gt; | Y &lt;dbl&gt; |\n",
       "|---|---|---|---|---|---|---|---|---|---|---|---|---|---|---|\n",
       "| 2021 | 35 | es0115a |       NaN | 0.2750000 |  8.250000 | 20.54167 | 33.17500 |      NaN |      NaN |      NaN | 10.11667 | PLAZA DE ESPA&lt;U+00D1&gt;A | -3.712222 | 40.42417 |\n",
       "| 2021 | 35 | es0118a | 0.2134454 | 0.2436975 |  6.050420 | 36.63025 | 45.96639 | 58.64034 | 24.98319 | 20.36975 |  6.07563 | ESCUELAS AGUIRRE       | -3.682222 | 40.42167 |\n",
       "| 2021 | 35 | es0120a | 0.2889831 |       NaN |  5.816667 | 35.51667 | 44.53333 |      NaN |      NaN |      NaN |      NaN | RAM&lt;U+00D3&gt;N Y CAJAL   | -3.677222 | 40.45167 |\n",
       "| 2021 | 35 | es0124a |       NaN |       NaN |  3.375000 | 25.86667 | 31.05000 | 67.25833 |      NaN |      NaN |      NaN | ARTURO SORIA           | -3.639167 | 40.44000 |\n",
       "| 2021 | 35 | es0125a |       NaN |       NaN | 10.629630 | 43.63889 | 59.93519 | 49.82202 |      NaN |      NaN |      NaN | VILLAVERDE             | -3.705000 | 40.34694 |\n",
       "\n"
      ],
      "text/plain": [
       "  ano  semana site    benzene   co        no        no2      nox      o3      \n",
       "1 2021 35     es0115a       NaN 0.2750000  8.250000 20.54167 33.17500      NaN\n",
       "2 2021 35     es0118a 0.2134454 0.2436975  6.050420 36.63025 45.96639 58.64034\n",
       "3 2021 35     es0120a 0.2889831       NaN  5.816667 35.51667 44.53333      NaN\n",
       "4 2021 35     es0124a       NaN       NaN  3.375000 25.86667 31.05000 67.25833\n",
       "5 2021 35     es0125a       NaN       NaN 10.629630 43.63889 59.93519 49.82202\n",
       "  pm10     pm2.5    so2      site_name              X         Y       \n",
       "1      NaN      NaN 10.11667 PLAZA DE ESPA<U+00D1>A -3.712222 40.42417\n",
       "2 24.98319 20.36975  6.07563 ESCUELAS AGUIRRE       -3.682222 40.42167\n",
       "3      NaN      NaN      NaN RAM<U+00D3>N Y CAJAL   -3.677222 40.45167\n",
       "4      NaN      NaN      NaN ARTURO SORIA           -3.639167 40.44000\n",
       "5      NaN      NaN      NaN VILLAVERDE             -3.705000 40.34694"
      ]
     },
     "metadata": {},
     "output_type": "display_data"
    }
   ],
   "source": [
    "tdata_out |> slice_head(n = 5)"
   ]
  },
  {
   "cell_type": "markdown",
   "metadata": {
    "slideshow": {
     "slide_type": "slide"
    }
   },
   "source": [
    "## Synthetic Data Generation"
   ]
  },
  {
   "attachments": {},
   "cell_type": "markdown",
   "metadata": {
    "slideshow": {
     "slide_type": "slide"
    }
   },
   "source": [
    "No aplica"
   ]
  },
  {
   "cell_type": "markdown",
   "metadata": {
    "slideshow": {
     "slide_type": "slide"
    }
   },
   "source": [
    "## Fake Data Generation"
   ]
  },
  {
   "attachments": {},
   "cell_type": "markdown",
   "metadata": {
    "slideshow": {
     "slide_type": "slide"
    }
   },
   "source": [
    "No aplica"
   ]
  },
  {
   "cell_type": "markdown",
   "metadata": {},
   "source": [
    "## <font color='green'>Data Save</font>"
   ]
  },
  {
   "attachments": {},
   "cell_type": "markdown",
   "metadata": {},
   "source": [
    "Este proceso, puede copiarse y repetirse en aquellas partes del notebbok que necesiten guardar datos.\n",
    "Recuerde cambiar las cadenas añadida del fichero para diferenciarlas"
   ]
  },
  {
   "cell_type": "markdown",
   "metadata": {},
   "source": [
    "<font color='tomato'> Identificamos los datos a guardar</font>"
   ]
  },
  {
   "cell_type": "code",
   "execution_count": 51,
   "metadata": {
    "ExecuteTime": {
     "end_time": "2020-12-25T17:59:27.022001Z",
     "start_time": "2020-12-25T17:59:15.986986Z"
    },
    "scrolled": false,
    "vscode": {
     "languageId": "r"
    }
   },
   "outputs": [],
   "source": [
    "data_to_save <- tdata_out"
   ]
  },
  {
   "attachments": {},
   "cell_type": "markdown",
   "metadata": {},
   "source": [
    "\n",
    "<font color='tomato'>Estructura de nombre de archivos:</font>\n",
    "\n",
    "* Código del caso de uso, por ejemplo \"CU_04\"\n",
    "* Número del proceso que lo genera, por ejemplo \"_05\".\n",
    "* Número de la tarea que lo genera, por ejemplo \"_01\"\n",
    "* En caso de generarse varios ficheros en la misma tarea, llevarán _01 _02 ... después\n",
    "* Nombre: identificativo de \"properData\", por ejemplo \"_zonasgeo\"\n",
    "* Extensión del archivo\n",
    "\n",
    "Ejemplo: \"CU_04_05_01_01_zonasgeo.json, primer fichero que se genera en la tarea 01 del proceso 05 (Data Collection) para el caso de uso 04 (vacunas)\n",
    "\n",
    "Importante mantener los guiones bajos antes de proceso, tarea, archivo y nombre"
   ]
  },
  {
   "attachments": {},
   "cell_type": "markdown",
   "metadata": {},
   "source": [
    "### Proceso 05"
   ]
  },
  {
   "cell_type": "code",
   "execution_count": 52,
   "metadata": {
    "ExecuteTime": {
     "end_time": "2020-12-25T17:59:27.022001Z",
     "start_time": "2020-12-25T17:59:15.986986Z"
    },
    "scrolled": false,
    "vscode": {
     "languageId": "r"
    }
   },
   "outputs": [],
   "source": [
    "caso <- \"CU_04\"\n",
    "proceso <- '_05'\n",
    "tarea <- \"_14\"\n",
    "archivo <- \"\"\n",
    "proper <- \"_contaminacion\"\n",
    "extension <- \".csv\""
   ]
  },
  {
   "attachments": {},
   "cell_type": "markdown",
   "metadata": {},
   "source": [
    "<font color='tomato'><b> OPCION A:</b> Uso del paquete \"tcltk\" para mayor comodidad</font>\n",
    "\n",
    "* Buscar carpeta, escribir nombre de archivo SIN extensión (se especifica en el código)\n",
    "* Especificar sufijo2 si es necesario\n",
    "* Cambiar datos por datos_xx si es necesario"
   ]
  },
  {
   "cell_type": "code",
   "execution_count": null,
   "metadata": {
    "ExecuteTime": {
     "end_time": "2020-12-25T17:59:27.022001Z",
     "start_time": "2020-12-25T17:59:15.986986Z"
    },
    "scrolled": false,
    "vscode": {
     "languageId": "r"
    }
   },
   "outputs": [],
   "source": [
    "# file_save <- paste0(caso, proceso, tarea, tcltk::tkgetSaveFile(), proper, extension) \n",
    "# path_out <- paste0(oPath, file_save)\n",
    "# write_csv(data_to_save, path_out)\n",
    "\n",
    "# cat('File saved as: ')\n",
    "# path_out"
   ]
  },
  {
   "attachments": {},
   "cell_type": "markdown",
   "metadata": {},
   "source": [
    "<font color='tomato'><b> OPCION B:</b> Especificar el nombre de archivo</font>"
   ]
  },
  {
   "attachments": {},
   "cell_type": "markdown",
   "metadata": {},
   "source": [
    "- Los ficheros de salida del proceso van siempre a Data/Output/.  "
   ]
  },
  {
   "cell_type": "code",
   "execution_count": 53,
   "metadata": {
    "ExecuteTime": {
     "end_time": "2021-01-26T18:40:31.258294Z",
     "start_time": "2021-01-26T18:40:26.061847Z"
    },
    "slideshow": {
     "slide_type": "subslide"
    },
    "vscode": {
     "languageId": "r"
    }
   },
   "outputs": [
    {
     "name": "stdout",
     "output_type": "stream",
     "text": [
      "File saved as: "
     ]
    },
    {
     "data": {
      "text/html": [
       "'Data/Output/CU_04_05_14_contaminacion.csv'"
      ],
      "text/latex": [
       "'Data/Output/CU\\_04\\_05\\_14\\_contaminacion.csv'"
      ],
      "text/markdown": [
       "'Data/Output/CU_04_05_14_contaminacion.csv'"
      ],
      "text/plain": [
       "[1] \"Data/Output/CU_04_05_14_contaminacion.csv\""
      ]
     },
     "metadata": {},
     "output_type": "display_data"
    }
   ],
   "source": [
    "file_save <- paste0(caso, proceso, tarea, archivo, proper, extension) \n",
    "path_out <- paste0(oPath, file_save)\n",
    "write_csv(data_to_save, path_out)\n",
    "\n",
    "cat('File saved as: ')\n",
    "path_out"
   ]
  },
  {
   "attachments": {},
   "cell_type": "markdown",
   "metadata": {},
   "source": [
    "#### Copia del fichero a Input\n",
    "\n",
    "Si el archivo se va a usar en otros notebooks, copiar a la carpeta Input"
   ]
  },
  {
   "cell_type": "code",
   "execution_count": 54,
   "metadata": {
    "vscode": {
     "languageId": "r"
    }
   },
   "outputs": [
    {
     "data": {
      "text/html": [
       "TRUE"
      ],
      "text/latex": [
       "TRUE"
      ],
      "text/markdown": [
       "TRUE"
      ],
      "text/plain": [
       "[1] TRUE"
      ]
     },
     "metadata": {},
     "output_type": "display_data"
    }
   ],
   "source": [
    "path_in <- paste0(iPath, file_save)\n",
    "file.copy(path_out, path_in, overwrite = TRUE)"
   ]
  },
  {
   "cell_type": "markdown",
   "metadata": {},
   "source": [
    "## <font color=' #2874a6 '>Main Conclusions</font>"
   ]
  },
  {
   "cell_type": "markdown",
   "metadata": {
    "slideshow": {
     "slide_type": "slide"
    }
   },
   "source": [
    "<font color='steelblue'>List and describe the general conclusions of the analysis carried out​.</font>"
   ]
  },
  {
   "attachments": {},
   "cell_type": "markdown",
   "metadata": {},
   "source": [
    "### Prerequisites\n",
    "\n",
    "Para que funcione este código se necesita:\n",
    "\n",
    "* Las rutas de archivos `Data/Input` y `Data/Output` deben existir (relativas a la ruta del _notebook_)\n",
    "* El paquete tcltk instalado para seleccionar archivos interactivamente. No se necesita en producción.\n",
    "* Los paquetes tcltk, sf, readr, dplyr, tidyr, lubridate, saqgetr, mapSpain deben estar instalados.\n"
   ]
  },
  {
   "attachments": {},
   "cell_type": "markdown",
   "metadata": {},
   "source": [
    "### Configuration Management\n",
    "\n",
    "This notebook has been tested with the following versions of R and packages. It cannot be assured that later versions work in the same way:\n",
    "* R 4.2.2\n",
    "* tcltk 4.2.2\n",
    "* sf 1.0.9\n",
    "* readr 2.1.3\n",
    "* dplyr 1.0.10\n",
    "* tidyr 1.3.0\n",
    "* lubridate 1.9.1\n",
    "* saqgetr 0.2.21\n",
    "* mapSpain 0.7.0"
   ]
  },
  {
   "attachments": {},
   "cell_type": "markdown",
   "metadata": {},
   "source": [
    "### Data structures"
   ]
  },
  {
   "attachments": {},
   "cell_type": "markdown",
   "metadata": {},
   "source": [
    "#### Objeto `data`\n",
    "\n",
    "- Los datos de origen se han obtenido de distintas bases de datos que maneja el paquete `saqgetr`\n",
    "- Hay 3517 filas con las sigientes variables: \n",
    "\t* ano\n",
    "\t* semana\n",
    "\t* site\n",
    "\t* benzene\n",
    "\t* co\n",
    "\t* no\n",
    "\t* no2\n",
    "\t* nox\n",
    "\t* o3\n",
    "\t* pm10\n",
    "\t* pm2.5\n",
    "\t* so2\n"
   ]
  },
  {
   "attachments": {},
   "cell_type": "markdown",
   "metadata": {},
   "source": [
    "#### Observaciones generales sobre los datos\n",
    "\n",
    "* No todas las estaciones tienen información de todas las variables\n",
    "* Sin embargo, todas tienen de no, no2 y nox\n",
    "* nox es una medida conjunta de no y no2\n"
   ]
  },
  {
   "attachments": {},
   "cell_type": "markdown",
   "metadata": {},
   "source": [
    "### Consideraciones para despliegue en piloto\n",
    "\n",
    "* Como es un periodo estático el del caso de uso, no hay que actualizar nada. Si hubiera datos en tiempo real de años anteriores, se podría también automatizar esta importación."
   ]
  },
  {
   "attachments": {},
   "cell_type": "markdown",
   "metadata": {},
   "source": [
    "### Consideraciones para despliegue en producción\n",
    "\n",
    "* Se deben elegir las fechas de acuerdo al momento en que se ejecute el caso de uso"
   ]
  },
  {
   "cell_type": "markdown",
   "metadata": {},
   "source": [
    "## <font color=' #2874a6 '>Main Actions</font>"
   ]
  },
  {
   "cell_type": "markdown",
   "metadata": {},
   "source": [
    "#### <font color=' #2874a6 '>Acciones done</font>"
   ]
  },
  {
   "cell_type": "markdown",
   "metadata": {
    "slideshow": {
     "slide_type": "slide"
    }
   },
   "source": [
    "<font color='steelblue'>Indicate the actions that have been carried out in this process</font>"
   ]
  },
  {
   "attachments": {},
   "cell_type": "markdown",
   "metadata": {},
   "source": [
    "- Se han comprobado las unidades de las variables\n",
    "- Se han filtrado las estaciones de la CM\n",
    "- Se han agrupado los datos por semana"
   ]
  },
  {
   "cell_type": "markdown",
   "metadata": {},
   "source": [
    "#### <font color=' #2874a6 '>Acctions to perform</font>"
   ]
  },
  {
   "cell_type": "markdown",
   "metadata": {
    "slideshow": {
     "slide_type": "slide"
    }
   },
   "source": [
    "<font color='steelblue'>Indicate the actions that must be carried out in subsequent processes</font>"
   ]
  },
  {
   "attachments": {},
   "cell_type": "markdown",
   "metadata": {},
   "source": [
    "- Se debe interpolar el dato de nox a las zonas sanitarias"
   ]
  },
  {
   "attachments": {},
   "cell_type": "markdown",
   "metadata": {},
   "source": [
    "## <font color='RED'>CODE TO DEPLOY (PILOT)</font>\n",
    "\n",
    "A continuación se incluirá el código que deba ser llevado a despliegue para producción, dado que se entiende efectúa operaciones necesarias sobre los datos en la ejecución del prototipo"
   ]
  },
  {
   "attachments": {},
   "cell_type": "markdown",
   "metadata": {},
   "source": [
    "<font color=' red '><b>Description</b></font>\n",
    "\n",
    "- No hay nada que desplegar en el piloto, ya que estos datos son estáticos o en todo caso cambian con muy poca frecuencia, altamente improbable durante el proyecto.\n"
   ]
  },
  {
   "attachments": {},
   "cell_type": "markdown",
   "metadata": {},
   "source": [
    "<font color=' red '><b>CODE</b></font>"
   ]
  },
  {
   "cell_type": "code",
   "execution_count": null,
   "metadata": {
    "vscode": {
     "languageId": "r"
    }
   },
   "outputs": [],
   "source": [
    "# incluir código"
   ]
  }
 ],
 "metadata": {
  "anaconda-cloud": {},
  "celltoolbar": "Slideshow",
  "hide_input": false,
  "kernelspec": {
   "display_name": "R",
   "language": "R",
   "name": "ir"
  },
  "language_info": {
   "codemirror_mode": "r",
   "file_extension": ".r",
   "mimetype": "text/x-r-source",
   "name": "R",
   "pygments_lexer": "r",
   "version": "4.2.2"
  },
  "latex_envs": {
   "LaTeX_envs_menu_present": true,
   "autoclose": false,
   "autocomplete": true,
   "bibliofile": "biblio.bib",
   "cite_by": "apalike",
   "current_citInitial": 1,
   "eqLabelWithNumbers": true,
   "eqNumInitial": 1,
   "hotkeys": {
    "equation": "Ctrl-E",
    "itemize": "Ctrl-I"
   },
   "labels_anchors": false,
   "latex_user_defs": false,
   "report_style_numbering": true,
   "user_envs_cfg": false
  },
  "toc": {
   "base_numbering": 1,
   "nav_menu": {
    "height": "11.6px",
    "width": "160px"
   },
   "number_sections": false,
   "sideBar": true,
   "skip_h1_title": true,
   "title_cell": "Table of Contents",
   "title_sidebar": "Contents",
   "toc_cell": true,
   "toc_position": {
    "height": "calc(100% - 180px)",
    "left": "10px",
    "top": "150px",
    "width": "209.2px"
   },
   "toc_section_display": true,
   "toc_window_display": true
  },
  "varInspector": {
   "cols": {
    "lenName": 16,
    "lenType": 16,
    "lenVar": 40
   },
   "kernels_config": {
    "python": {
     "delete_cmd_postfix": "",
     "delete_cmd_prefix": "del ",
     "library": "var_list.py",
     "varRefreshCmd": "print(var_dic_list())"
    },
    "r": {
     "delete_cmd_postfix": ") ",
     "delete_cmd_prefix": "rm(",
     "library": "var_list.r",
     "varRefreshCmd": "cat(var_dic_list()) "
    }
   },
   "types_to_exclude": [
    "module",
    "function",
    "builtin_function_or_method",
    "instance",
    "_Feature"
   ],
   "window_display": false
  }
 },
 "nbformat": 4,
 "nbformat_minor": 1
}
