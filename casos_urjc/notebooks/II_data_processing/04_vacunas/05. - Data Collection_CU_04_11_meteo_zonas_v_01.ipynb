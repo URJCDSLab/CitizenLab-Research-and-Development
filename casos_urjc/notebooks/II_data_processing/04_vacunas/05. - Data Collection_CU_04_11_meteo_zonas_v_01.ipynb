{
 "cells": [
  {
   "cell_type": "markdown",
   "metadata": {
    "slideshow": {
     "slide_type": "slide"
    }
   },
   "source": [
    "<img src=\".\\images\\Logo.png\" width=150 align=\"left\" /> <img src=\".\\images\\Logo2.jpg\" width=450 align=\"right\" />"
   ]
  },
  {
   "attachments": {},
   "cell_type": "markdown",
   "metadata": {
    "slideshow": {
     "slide_type": "slide"
    }
   },
   "source": [
    "\n",
    "# <center><font color= #1e8449 > <b>CU04_Optimización de vacunas</font></center>"
   ]
  },
  {
   "cell_type": "markdown",
   "metadata": {
    "slideshow": {
     "slide_type": "slide"
    }
   },
   "source": [
    "<font color='steelblue'><b>Citizenlab Data Science Methodology > II - Data Processing Domain </font>\n",
    "***\n",
    "> # <font color='steelblue'> <b>05.- Data Collection</font>"
   ]
  },
  {
   "cell_type": "markdown",
   "metadata": {
    "slideshow": {
     "slide_type": "slide"
    }
   },
   "source": [
    "<font color='steelblue'>Data Collection is the process to obtain and generate (if required) necessary data to model the problem.</font>"
   ]
  },
  {
   "attachments": {},
   "cell_type": "markdown",
   "metadata": {},
   "source": [
    "### 11. Estimar datos meteorológicos en zonas sanitarias\n",
    "\n",
    "* Estimar variables en zonas\n",
    "* Agrupar promedios semanales de las zonas en las variables meteorológicas\n",
    "* Eliminando variables que no se usarán en modelos\n",
    "\n",
    "\n"
   ]
  },
  {
   "cell_type": "markdown",
   "metadata": {
    "toc": true
   },
   "source": [
    "<h1>Table of Contents<span class=\"tocSkip\"></span></h1>\n",
    "<div class=\"toc\"><ul class=\"toc-item\"><li><span><a href=\"#Settings\" data-toc-modified-id=\"Settings-1\"><font color=\"green\">Settings</font></a></span></li><li><span><a href=\"#Data-Load\" data-toc-modified-id=\"Data-Load-2\"><font color=\"green\">Data Load</font></a></span></li><li><span><a href=\"#ETL-Processes\" data-toc-modified-id=\"ETL-Processes-3\">ETL Processes</a></span><ul class=\"toc-item\"><li><span><a href=\"#Import-data-from:-CSV,-Excel,-Tab,-JSON,-SQL,-and-Parquet-files\" data-toc-modified-id=\"Import-data-from:-CSV,-Excel,-Tab,-JSON,-SQL,-and-Parquet-files-3.1\">Import data from: CSV, Excel, Tab, JSON, SQL, and Parquet files</a></span></li></ul></li><li><span><a href=\"#Synthetic-Data-Generation\" data-toc-modified-id=\"Synthetic-Data-Generation-4\">Synthetic Data Generation</a></span></li><li><span><a href=\"#Fake-Data-Generation\" data-toc-modified-id=\"Fake-Data-Generation-5\">Fake Data Generation</a></span></li><li><span><a href=\"#Open-Data\" data-toc-modified-id=\"Open-Data-6\">Open Data</a></span></li><li><span><a href=\"#Data-Save\" data-toc-modified-id=\"Data-Save-7\"><font color=\"green\">Data Save</font></a></span></li><li><span><a href=\"#Main-Conclusions\" data-toc-modified-id=\"Main-Conclusions-8\"><font color=\" #2874a6 \">Main Conclusions</font></a></span></li><li><span><a href=\"#Main-Actions\" data-toc-modified-id=\"Main-Actions-9\"><font color=\" #2874a6 \">Main Actions</font></a></span><ul class=\"toc-item\"><li><ul class=\"toc-item\"><li><span><a href=\"#Acciones-done\" data-toc-modified-id=\"Acciones-done-9.0.1\"><font color=\" #2874a6 \">Acciones done</font></a></span></li><li><span><a href=\"#Acctions-to-perform\" data-toc-modified-id=\"Acctions-to-perform-9.0.2\"><font color=\" #2874a6 \">Acctions to perform</font></a></span></li></ul></li></ul></li></ul></div>"
   ]
  },
  {
   "cell_type": "markdown",
   "metadata": {
    "slideshow": {
     "slide_type": "slide"
    }
   },
   "source": [
    "## <font color='green'>Settings</font>"
   ]
  },
  {
   "cell_type": "markdown",
   "metadata": {},
   "source": [
    "### Encoding\n",
    "\n",
    "Con la siguiente expresión se evitan problemas con el encoding al ejecutar el notebook. Es posible que deba ser eliminada o adaptada a la máquina en la que se ejecute el código."
   ]
  },
  {
   "cell_type": "code",
   "execution_count": null,
   "metadata": {
    "vscode": {
     "languageId": "r"
    }
   },
   "outputs": [
    {
     "data": {
      "text/html": [
       "'es_ES.UTF-8/es_ES.UTF-8/es_ES.UTF-8/C/es_ES.UTF-8/C'"
      ],
      "text/latex": [
       "'es\\_ES.UTF-8/es\\_ES.UTF-8/es\\_ES.UTF-8/C/es\\_ES.UTF-8/C'"
      ],
      "text/markdown": [
       "'es_ES.UTF-8/es_ES.UTF-8/es_ES.UTF-8/C/es_ES.UTF-8/C'"
      ],
      "text/plain": [
       "[1] \"es_ES.UTF-8/es_ES.UTF-8/es_ES.UTF-8/C/es_ES.UTF-8/C\""
      ]
     },
     "metadata": {},
     "output_type": "display_data"
    }
   ],
   "source": [
    "Sys.setlocale(category = \"LC_ALL\", locale = \"es_ES.UTF-8\")"
   ]
  },
  {
   "attachments": {},
   "cell_type": "markdown",
   "metadata": {},
   "source": [
    "### Packages to use\n",
    "\n",
    "- {tcltk} para selección interactiva de archivos locales\n",
    "- {sf} para trabajar con georeferenciación\n",
    "- {gstat} para cálculos geoestadísticos\n",
    "- {readr} para leer y escribir archivos csv\n",
    "- {dplyr} para explorar datos\n",
    "- {stringr} para manipulación de cadenas de caracteres\n",
    "- {tidyr} para quitar perdidos\n",
    "- {lubridate} para manipulación de fechas\n"
   ]
  },
  {
   "cell_type": "code",
   "execution_count": 13,
   "metadata": {
    "vscode": {
     "languageId": "r"
    }
   },
   "outputs": [
    {
     "name": "stderr",
     "output_type": "stream",
     "text": [
      "\n",
      "Attaching package: 'lubridate'\n",
      "\n",
      "\n",
      "The following objects are masked from 'package:base':\n",
      "\n",
      "    date, intersect, setdiff, union\n",
      "\n",
      "\n"
     ]
    }
   ],
   "source": [
    "library(readr)\n",
    "library(dplyr)\n",
    "library(sf)\n",
    "library(gstat)\n",
    "library(stringr)\n",
    "library(tidyr)\n",
    "library(lubridate)\n"
   ]
  },
  {
   "attachments": {},
   "cell_type": "markdown",
   "metadata": {},
   "source": [
    "### Paths"
   ]
  },
  {
   "cell_type": "code",
   "execution_count": 2,
   "metadata": {
    "vscode": {
     "languageId": "r"
    }
   },
   "outputs": [],
   "source": [
    "iPath <- \"Data/Input/\"\n",
    "oPath <- \"Data/Output/\""
   ]
  },
  {
   "attachments": {},
   "cell_type": "markdown",
   "metadata": {
    "slideshow": {
     "slide_type": "slide"
    }
   },
   "source": [
    "## <font color='green'>Data Load</font>\n",
    "\n",
    "If there are more than one input file, make as many sections as files to import."
   ]
  },
  {
   "cell_type": "markdown",
   "metadata": {},
   "source": [
    "1. Datos meteorológicos de estaciones"
   ]
  },
  {
   "cell_type": "markdown",
   "metadata": {},
   "source": [
    "<font color='tomato'><b> OPCION A:</b> Seleccionar fichero en ventana para mayor comodidad</font> "
   ]
  },
  {
   "cell_type": "markdown",
   "metadata": {},
   "source": [
    "Data load using the {tcltk} package. Ucomment the line if not using this option"
   ]
  },
  {
   "cell_type": "code",
   "execution_count": null,
   "metadata": {
    "vscode": {
     "languageId": "r"
    }
   },
   "outputs": [],
   "source": [
    "# file_data_01 <- tcltk::tk_choose.files(multi = FALSE)"
   ]
  },
  {
   "cell_type": "markdown",
   "metadata": {},
   "source": [
    "<font color='tomato'><b> OPCION B:</b> Especificar el nombre de archivo</font>\n",
    "\n"
   ]
  },
  {
   "cell_type": "code",
   "execution_count": 3,
   "metadata": {
    "vscode": {
     "languageId": "r"
    }
   },
   "outputs": [
    {
     "name": "stdout",
     "output_type": "stream",
     "text": [
      "Se leer<U+00E1>n datos del archivo:  Data/Input/CU_04_05_10_aemet.csv"
     ]
    }
   ],
   "source": [
    "iFile_01 <- \"CU_04_05_10_aemet.csv\"\n",
    "file_data_01 <- paste0(iPath, iFile_01)\n",
    "\n",
    "if(file.exists(file_data_01)){\n",
    "    cat(\"Se leerán datos del archivo: \", file_data_01)\n",
    "} else{\n",
    "    warning(\"Cuidado: el archivo no existe.\")\n",
    "}\n"
   ]
  },
  {
   "cell_type": "markdown",
   "metadata": {},
   "source": [
    "#### Data file to dataframe\n",
    "\n",
    "Usar la función adecuada según el formato de entrada (xlsx, csv, json, ...)"
   ]
  },
  {
   "cell_type": "code",
   "execution_count": 4,
   "metadata": {
    "vscode": {
     "languageId": "r"
    }
   },
   "outputs": [
    {
     "name": "stderr",
     "output_type": "stream",
     "text": [
      "\u001b[1mRows: \u001b[22m\u001b[34m6143\u001b[39m \u001b[1mColumns: \u001b[22m\u001b[34m22\u001b[39m\n",
      "\u001b[36m--\u001b[39m \u001b[1mColumn specification\u001b[22m \u001b[36m--------------------------------------------------------\u001b[39m\n",
      "\u001b[1mDelimiter:\u001b[22m \",\"\n",
      "\u001b[31mchr\u001b[39m   (9): indicativo, nombre, provincia, horatmin, horatmax, dir, horaracha...\n",
      "\u001b[32mdbl\u001b[39m  (12): altitud, tmed, prec, tmin, tmax, velmedia, racha, sol, presMax, p...\n",
      "\u001b[34mdate\u001b[39m  (1): fecha\n",
      "\n",
      "\u001b[36mi\u001b[39m Use `spec()` to retrieve the full column specification for this data.\n",
      "\u001b[36mi\u001b[39m Specify the column types or set `show_col_types = FALSE` to quiet this message.\n"
     ]
    }
   ],
   "source": [
    "data_01 <- read_csv(file_data_01)\n"
   ]
  },
  {
   "cell_type": "markdown",
   "metadata": {},
   "source": [
    "Estructura de  los datos:"
   ]
  },
  {
   "cell_type": "code",
   "execution_count": 5,
   "metadata": {
    "vscode": {
     "languageId": "r"
    }
   },
   "outputs": [
    {
     "name": "stdout",
     "output_type": "stream",
     "text": [
      "Rows: 6,143\n",
      "Columns: 22\n",
      "$ fecha       \u001b[3m\u001b[90m<date>\u001b[39m\u001b[23m 2021-09-01, 2021-09-02, 2021-09-03, 2021-09-04, 2021-09-0~\n",
      "$ indicativo  \u001b[3m\u001b[90m<chr>\u001b[39m\u001b[23m \"2462\", \"2462\", \"2462\", \"2462\", \"2462\", \"2462\", \"2462\", \"2~\n",
      "$ nombre      \u001b[3m\u001b[90m<chr>\u001b[39m\u001b[23m \"PUERTO DE NAVACERRADA\", \"PUERTO DE NAVACERRADA\", \"PUERTO ~\n",
      "$ provincia   \u001b[3m\u001b[90m<chr>\u001b[39m\u001b[23m \"MADRID\", \"MADRID\", \"MADRID\", \"MADRID\", \"MADRID\", \"MADRID\"~\n",
      "$ altitud     \u001b[3m\u001b[90m<dbl>\u001b[39m\u001b[23m 1894, 1894, 1894, 1894, 1894, 1894, 1894, 1894, 1894, 1894~\n",
      "$ tmed        \u001b[3m\u001b[90m<dbl>\u001b[39m\u001b[23m 13.2, 11.8, 13.8, 16.7, 18.0, 19.4, 17.1, 13.8, 12.6, 12.6~\n",
      "$ prec        \u001b[3m\u001b[90m<dbl>\u001b[39m\u001b[23m 2.8, 3.2, 0.0, 0.0, 0.0, 0.0, 0.0, 0.0, 0.3, 0.0, 0.0, 0.0~\n",
      "$ tmin        \u001b[3m\u001b[90m<dbl>\u001b[39m\u001b[23m 8.2, 8.5, 9.4, 11.4, 13.1, 16.3, 13.9, 10.3, 9.5, 8.8, 9.9~\n",
      "$ horatmin    \u001b[3m\u001b[90m<chr>\u001b[39m\u001b[23m \"01:00\", \"02:00\", \"04:50\", \"05:20\", \"03:30\", \"02:30\", \"23:~\n",
      "$ tmax        \u001b[3m\u001b[90m<dbl>\u001b[39m\u001b[23m 18.3, 15.2, 18.3, 22.0, 22.9, 22.5, 20.3, 17.3, 15.6, 16.5~\n",
      "$ horatmax    \u001b[3m\u001b[90m<chr>\u001b[39m\u001b[23m \"11:50\", \"14:40\", \"16:10\", \"13:20\", \"12:00\", \"13:20\", \"14:~\n",
      "$ dir         \u001b[3m\u001b[90m<chr>\u001b[39m\u001b[23m \"16\", \"24\", \"21\", \"19\", \"17\", \"15\", \"14\", \"21\", \"27\", \"32\"~\n",
      "$ velmedia    \u001b[3m\u001b[90m<dbl>\u001b[39m\u001b[23m 3.1, 2.2, 2.2, 3.3, 3.6, 2.8, 6.4, 2.5, 1.9, 1.7, 4.2, 4.4~\n",
      "$ racha       \u001b[3m\u001b[90m<dbl>\u001b[39m\u001b[23m 15.6, 8.3, 6.7, 8.3, 11.1, 19.4, 21.4, 12.8, 10.3, 9.2, 15~\n",
      "$ horaracha   \u001b[3m\u001b[90m<chr>\u001b[39m\u001b[23m \"00:30\", \"19:50\", \"06:00\", \"09:10\", \"23:40\", \"23:40\", \"06:~\n",
      "$ sol         \u001b[3m\u001b[90m<dbl>\u001b[39m\u001b[23m 5.1, 2.9, 7.5, 12.1, 11.7, 2.9, 7.6, 7.5, 2.5, 6.8, 5.9, 1~\n",
      "$ presMax     \u001b[3m\u001b[90m<dbl>\u001b[39m\u001b[23m 816.6, 816.4, 816.4, 816.3, 819.5, 820.1, 817.8, 814.8, 81~\n",
      "$ horaPresMax \u001b[3m\u001b[90m<chr>\u001b[39m\u001b[23m \"01\", \"23\", \"11\", \"Varias\", \"24\", \"12\", \"00\", \"00\", \"23\", ~\n",
      "$ presMin     \u001b[3m\u001b[90m<dbl>\u001b[39m\u001b[23m 813.4, 813.5, 815.1, 814.7, 815.9, 817.8, 814.7, 813.2, 81~\n",
      "$ horaPresMin \u001b[3m\u001b[90m<chr>\u001b[39m\u001b[23m \"04\", \"03\", \"06\", \"05\", \"04\", \"24\", \"06\", \"06\", \"Varias\", ~\n",
      "$ X           \u001b[3m\u001b[90m<dbl>\u001b[39m\u001b[23m -4.010556, -4.010556, -4.010556, -4.010556, -4.010556, -4.~\n",
      "$ Y           \u001b[3m\u001b[90m<dbl>\u001b[39m\u001b[23m 40.79306, 40.79306, 40.79306, 40.79306, 40.79306, 40.79306~\n"
     ]
    }
   ],
   "source": [
    "glimpse(data_01)"
   ]
  },
  {
   "cell_type": "markdown",
   "metadata": {},
   "source": [
    "Muestra de datos:"
   ]
  },
  {
   "cell_type": "code",
   "execution_count": 6,
   "metadata": {
    "vscode": {
     "languageId": "r"
    }
   },
   "outputs": [
    {
     "data": {
      "text/html": [
       "<table class=\"dataframe\">\n",
       "<caption>A spec_tbl_df: 5 x 22</caption>\n",
       "<thead>\n",
       "\t<tr><th scope=col>fecha</th><th scope=col>indicativo</th><th scope=col>nombre</th><th scope=col>provincia</th><th scope=col>altitud</th><th scope=col>tmed</th><th scope=col>prec</th><th scope=col>tmin</th><th scope=col>horatmin</th><th scope=col>tmax</th><th scope=col>...</th><th scope=col>velmedia</th><th scope=col>racha</th><th scope=col>horaracha</th><th scope=col>sol</th><th scope=col>presMax</th><th scope=col>horaPresMax</th><th scope=col>presMin</th><th scope=col>horaPresMin</th><th scope=col>X</th><th scope=col>Y</th></tr>\n",
       "\t<tr><th scope=col>&lt;date&gt;</th><th scope=col>&lt;chr&gt;</th><th scope=col>&lt;chr&gt;</th><th scope=col>&lt;chr&gt;</th><th scope=col>&lt;dbl&gt;</th><th scope=col>&lt;dbl&gt;</th><th scope=col>&lt;dbl&gt;</th><th scope=col>&lt;dbl&gt;</th><th scope=col>&lt;chr&gt;</th><th scope=col>&lt;dbl&gt;</th><th scope=col>...</th><th scope=col>&lt;dbl&gt;</th><th scope=col>&lt;dbl&gt;</th><th scope=col>&lt;chr&gt;</th><th scope=col>&lt;dbl&gt;</th><th scope=col>&lt;dbl&gt;</th><th scope=col>&lt;chr&gt;</th><th scope=col>&lt;dbl&gt;</th><th scope=col>&lt;chr&gt;</th><th scope=col>&lt;dbl&gt;</th><th scope=col>&lt;dbl&gt;</th></tr>\n",
       "</thead>\n",
       "<tbody>\n",
       "\t<tr><td>2021-09-01</td><td>2462</td><td>PUERTO DE NAVACERRADA</td><td>MADRID</td><td>1894</td><td>13.2</td><td>2.8</td><td> 8.2</td><td>01:00</td><td>18.3</td><td>...</td><td>3.1</td><td>15.6</td><td>00:30</td><td> 5.1</td><td>816.6</td><td>01    </td><td>813.4</td><td>04</td><td>-4.010556</td><td>40.79306</td></tr>\n",
       "\t<tr><td>2021-09-02</td><td>2462</td><td>PUERTO DE NAVACERRADA</td><td>MADRID</td><td>1894</td><td>11.8</td><td>3.2</td><td> 8.5</td><td>02:00</td><td>15.2</td><td>...</td><td>2.2</td><td> 8.3</td><td>19:50</td><td> 2.9</td><td>816.4</td><td>23    </td><td>813.5</td><td>03</td><td>-4.010556</td><td>40.79306</td></tr>\n",
       "\t<tr><td>2021-09-03</td><td>2462</td><td>PUERTO DE NAVACERRADA</td><td>MADRID</td><td>1894</td><td>13.8</td><td>0.0</td><td> 9.4</td><td>04:50</td><td>18.3</td><td>...</td><td>2.2</td><td> 6.7</td><td>06:00</td><td> 7.5</td><td>816.4</td><td>11    </td><td>815.1</td><td>06</td><td>-4.010556</td><td>40.79306</td></tr>\n",
       "\t<tr><td>2021-09-04</td><td>2462</td><td>PUERTO DE NAVACERRADA</td><td>MADRID</td><td>1894</td><td>16.7</td><td>0.0</td><td>11.4</td><td>05:20</td><td>22.0</td><td>...</td><td>3.3</td><td> 8.3</td><td>09:10</td><td>12.1</td><td>816.3</td><td>Varias</td><td>814.7</td><td>05</td><td>-4.010556</td><td>40.79306</td></tr>\n",
       "\t<tr><td>2021-09-05</td><td>2462</td><td>PUERTO DE NAVACERRADA</td><td>MADRID</td><td>1894</td><td>18.0</td><td>0.0</td><td>13.1</td><td>03:30</td><td>22.9</td><td>...</td><td>3.6</td><td>11.1</td><td>23:40</td><td>11.7</td><td>819.5</td><td>24    </td><td>815.9</td><td>04</td><td>-4.010556</td><td>40.79306</td></tr>\n",
       "</tbody>\n",
       "</table>\n"
      ],
      "text/latex": [
       "A spec\\_tbl\\_df: 5 x 22\n",
       "\\begin{tabular}{lllllllllllllllllllll}\n",
       " fecha & indicativo & nombre & provincia & altitud & tmed & prec & tmin & horatmin & tmax & ... & velmedia & racha & horaracha & sol & presMax & horaPresMax & presMin & horaPresMin & X & Y\\\\\n",
       " <date> & <chr> & <chr> & <chr> & <dbl> & <dbl> & <dbl> & <dbl> & <chr> & <dbl> & ... & <dbl> & <dbl> & <chr> & <dbl> & <dbl> & <chr> & <dbl> & <chr> & <dbl> & <dbl>\\\\\n",
       "\\hline\n",
       "\t 2021-09-01 & 2462 & PUERTO DE NAVACERRADA & MADRID & 1894 & 13.2 & 2.8 &  8.2 & 01:00 & 18.3 & ... & 3.1 & 15.6 & 00:30 &  5.1 & 816.6 & 01     & 813.4 & 04 & -4.010556 & 40.79306\\\\\n",
       "\t 2021-09-02 & 2462 & PUERTO DE NAVACERRADA & MADRID & 1894 & 11.8 & 3.2 &  8.5 & 02:00 & 15.2 & ... & 2.2 &  8.3 & 19:50 &  2.9 & 816.4 & 23     & 813.5 & 03 & -4.010556 & 40.79306\\\\\n",
       "\t 2021-09-03 & 2462 & PUERTO DE NAVACERRADA & MADRID & 1894 & 13.8 & 0.0 &  9.4 & 04:50 & 18.3 & ... & 2.2 &  6.7 & 06:00 &  7.5 & 816.4 & 11     & 815.1 & 06 & -4.010556 & 40.79306\\\\\n",
       "\t 2021-09-04 & 2462 & PUERTO DE NAVACERRADA & MADRID & 1894 & 16.7 & 0.0 & 11.4 & 05:20 & 22.0 & ... & 3.3 &  8.3 & 09:10 & 12.1 & 816.3 & Varias & 814.7 & 05 & -4.010556 & 40.79306\\\\\n",
       "\t 2021-09-05 & 2462 & PUERTO DE NAVACERRADA & MADRID & 1894 & 18.0 & 0.0 & 13.1 & 03:30 & 22.9 & ... & 3.6 & 11.1 & 23:40 & 11.7 & 819.5 & 24     & 815.9 & 04 & -4.010556 & 40.79306\\\\\n",
       "\\end{tabular}\n"
      ],
      "text/markdown": [
       "\n",
       "A spec_tbl_df: 5 x 22\n",
       "\n",
       "| fecha &lt;date&gt; | indicativo &lt;chr&gt; | nombre &lt;chr&gt; | provincia &lt;chr&gt; | altitud &lt;dbl&gt; | tmed &lt;dbl&gt; | prec &lt;dbl&gt; | tmin &lt;dbl&gt; | horatmin &lt;chr&gt; | tmax &lt;dbl&gt; | ... ... | velmedia &lt;dbl&gt; | racha &lt;dbl&gt; | horaracha &lt;chr&gt; | sol &lt;dbl&gt; | presMax &lt;dbl&gt; | horaPresMax &lt;chr&gt; | presMin &lt;dbl&gt; | horaPresMin &lt;chr&gt; | X &lt;dbl&gt; | Y &lt;dbl&gt; |\n",
       "|---|---|---|---|---|---|---|---|---|---|---|---|---|---|---|---|---|---|---|---|---|\n",
       "| 2021-09-01 | 2462 | PUERTO DE NAVACERRADA | MADRID | 1894 | 13.2 | 2.8 |  8.2 | 01:00 | 18.3 | ... | 3.1 | 15.6 | 00:30 |  5.1 | 816.6 | 01     | 813.4 | 04 | -4.010556 | 40.79306 |\n",
       "| 2021-09-02 | 2462 | PUERTO DE NAVACERRADA | MADRID | 1894 | 11.8 | 3.2 |  8.5 | 02:00 | 15.2 | ... | 2.2 |  8.3 | 19:50 |  2.9 | 816.4 | 23     | 813.5 | 03 | -4.010556 | 40.79306 |\n",
       "| 2021-09-03 | 2462 | PUERTO DE NAVACERRADA | MADRID | 1894 | 13.8 | 0.0 |  9.4 | 04:50 | 18.3 | ... | 2.2 |  6.7 | 06:00 |  7.5 | 816.4 | 11     | 815.1 | 06 | -4.010556 | 40.79306 |\n",
       "| 2021-09-04 | 2462 | PUERTO DE NAVACERRADA | MADRID | 1894 | 16.7 | 0.0 | 11.4 | 05:20 | 22.0 | ... | 3.3 |  8.3 | 09:10 | 12.1 | 816.3 | Varias | 814.7 | 05 | -4.010556 | 40.79306 |\n",
       "| 2021-09-05 | 2462 | PUERTO DE NAVACERRADA | MADRID | 1894 | 18.0 | 0.0 | 13.1 | 03:30 | 22.9 | ... | 3.6 | 11.1 | 23:40 | 11.7 | 819.5 | 24     | 815.9 | 04 | -4.010556 | 40.79306 |\n",
       "\n"
      ],
      "text/plain": [
       "  fecha      indicativo nombre                provincia altitud tmed prec tmin\n",
       "1 2021-09-01 2462       PUERTO DE NAVACERRADA MADRID    1894    13.2 2.8   8.2\n",
       "2 2021-09-02 2462       PUERTO DE NAVACERRADA MADRID    1894    11.8 3.2   8.5\n",
       "3 2021-09-03 2462       PUERTO DE NAVACERRADA MADRID    1894    13.8 0.0   9.4\n",
       "4 2021-09-04 2462       PUERTO DE NAVACERRADA MADRID    1894    16.7 0.0  11.4\n",
       "5 2021-09-05 2462       PUERTO DE NAVACERRADA MADRID    1894    18.0 0.0  13.1\n",
       "  horatmin tmax ... velmedia racha horaracha sol  presMax horaPresMax presMin\n",
       "1 01:00    18.3 ... 3.1      15.6  00:30      5.1 816.6   01          813.4  \n",
       "2 02:00    15.2 ... 2.2       8.3  19:50      2.9 816.4   23          813.5  \n",
       "3 04:50    18.3 ... 2.2       6.7  06:00      7.5 816.4   11          815.1  \n",
       "4 05:20    22.0 ... 3.3       8.3  09:10     12.1 816.3   Varias      814.7  \n",
       "5 03:30    22.9 ... 3.6      11.1  23:40     11.7 819.5   24          815.9  \n",
       "  horaPresMin X         Y       \n",
       "1 04          -4.010556 40.79306\n",
       "2 03          -4.010556 40.79306\n",
       "3 06          -4.010556 40.79306\n",
       "4 05          -4.010556 40.79306\n",
       "5 04          -4.010556 40.79306"
      ]
     },
     "metadata": {},
     "output_type": "display_data"
    }
   ],
   "source": [
    "slice_head(data_01, n = 5)"
   ]
  },
  {
   "attachments": {},
   "cell_type": "markdown",
   "metadata": {},
   "source": [
    "2. Datos de contornos zonas"
   ]
  },
  {
   "cell_type": "markdown",
   "metadata": {},
   "source": [
    "<font color='tomato'><b> OPCION A:</b> Seleccionar fichero en ventana para mayor comodidad</font> "
   ]
  },
  {
   "cell_type": "markdown",
   "metadata": {},
   "source": [
    "Data load using the {tcltk} package. Ucomment the line if not using this option"
   ]
  },
  {
   "cell_type": "code",
   "execution_count": null,
   "metadata": {
    "vscode": {
     "languageId": "r"
    }
   },
   "outputs": [],
   "source": [
    "# file_data_02 <- tcltk::tk_choose.files(multi = FALSE)"
   ]
  },
  {
   "cell_type": "markdown",
   "metadata": {},
   "source": [
    "<font color='tomato'><b> OPCION B:</b> Especificar el nombre de archivo</font>\n",
    "\n"
   ]
  },
  {
   "cell_type": "code",
   "execution_count": 8,
   "metadata": {
    "vscode": {
     "languageId": "r"
    }
   },
   "outputs": [
    {
     "name": "stdout",
     "output_type": "stream",
     "text": [
      "Se leer<U+00E1>n datos del archivo:  Data/Input/CU_04_05_01_zonasgeo.json"
     ]
    }
   ],
   "source": [
    "iFile_02 <- \"CU_04_05_01_zonasgeo.json\"\n",
    "file_data_02 <- paste0(iPath, iFile_02)\n",
    "\n",
    "if(file.exists(file_data_02)){\n",
    "    cat(\"Se leerán datos del archivo: \", file_data_02)\n",
    "} else{\n",
    "    warning(\"Cuidado: el archivo no existe.\")\n",
    "}\n"
   ]
  },
  {
   "cell_type": "markdown",
   "metadata": {},
   "source": [
    "#### Data file to dataframe\n",
    "\n",
    "Usar la función adecuada según el formato de entrada (xlsx, csv, json, ...)"
   ]
  },
  {
   "cell_type": "code",
   "execution_count": 9,
   "metadata": {
    "vscode": {
     "languageId": "r"
    }
   },
   "outputs": [
    {
     "name": "stdout",
     "output_type": "stream",
     "text": [
      "Reading layer `CU_04_05_01_zonasgeo' from data source \n",
      "  `/Users/emilio.lcano/academico/gh_repos/__transferencia/citizenlab/CitizenLab-Research-and-Development/casos_urjc/notebooks/II_data_processing/04_vacunas/Data/Input/CU_04_05_01_zonasgeo.json' \n",
      "  using driver `GeoJSON'\n",
      "Simple feature collection with 286 features and 3 fields\n",
      "Geometry type: MULTIPOLYGON\n",
      "Dimension:     XY\n",
      "Bounding box:  xmin: -4.579396 ymin: 39.8848 xmax: -3.052977 ymax: 41.16584\n",
      "Geodetic CRS:  WGS 84\n"
     ]
    }
   ],
   "source": [
    "data_02 <- st_read(file_data_02)\n"
   ]
  },
  {
   "cell_type": "markdown",
   "metadata": {},
   "source": [
    "Estructura de  los datos:"
   ]
  },
  {
   "cell_type": "code",
   "execution_count": 10,
   "metadata": {
    "vscode": {
     "languageId": "r"
    }
   },
   "outputs": [
    {
     "name": "stdout",
     "output_type": "stream",
     "text": [
      "Rows: 286\n",
      "Columns: 4\n",
      "$ CODBDT    \u001b[3m\u001b[90m<int>\u001b[39m\u001b[23m 686213, 686214, 686215, 686216, 686217, 686218, 686219, 6862~\n",
      "$ GEOCODIGO \u001b[3m\u001b[90m<chr>\u001b[39m\u001b[23m \"001\", \"002\", \"003\", \"004\", \"005\", \"006\", \"007\", \"008\", \"009~\n",
      "$ DESBDT    \u001b[3m\u001b[90m<chr>\u001b[39m\u001b[23m \"Abrantes\", \"Acacias\", \"Adelfas\", \"Alameda\", \"Alameda de Osu~\n",
      "$ geometry  \u001b[3m\u001b[90m<MULTIPOLYGON [arc_degree]>\u001b[39m\u001b[23m MULTIPOLYGON (((-3.718306 4..., MULTIP~\n"
     ]
    }
   ],
   "source": [
    "glimpse(data_02)"
   ]
  },
  {
   "cell_type": "markdown",
   "metadata": {},
   "source": [
    "Muestra de datos:"
   ]
  },
  {
   "cell_type": "code",
   "execution_count": 11,
   "metadata": {
    "vscode": {
     "languageId": "r"
    }
   },
   "outputs": [
    {
     "data": {
      "text/html": [
       "<table class=\"dataframe\">\n",
       "<caption>A tibble: 5 x 4</caption>\n",
       "<thead>\n",
       "\t<tr><th scope=col>CODBDT</th><th scope=col>GEOCODIGO</th><th scope=col>DESBDT</th><th scope=col>geometry</th></tr>\n",
       "\t<tr><th scope=col>&lt;int&gt;</th><th scope=col>&lt;chr&gt;</th><th scope=col>&lt;chr&gt;</th><th scope=col>&lt;MULTIPOLYGON [arc_degree]&gt;</th></tr>\n",
       "</thead>\n",
       "<tbody>\n",
       "\t<tr><td>686213</td><td>001</td><td>Abrantes        </td><td>MULTIPOLYGON (((-3.718306 4...</td></tr>\n",
       "\t<tr><td>686214</td><td>002</td><td>Acacias         </td><td>MULTIPOLYGON (((-3.707966 4...</td></tr>\n",
       "\t<tr><td>686215</td><td>003</td><td>Adelfas         </td><td>MULTIPOLYGON (((-3.666363 4...</td></tr>\n",
       "\t<tr><td>686216</td><td>004</td><td>Alameda         </td><td>MULTIPOLYGON (((-3.69947 40...</td></tr>\n",
       "\t<tr><td>686217</td><td>005</td><td>Alameda de Osuna</td><td>MULTIPOLYGON (((-3.561629 4...</td></tr>\n",
       "</tbody>\n",
       "</table>\n"
      ],
      "text/latex": [
       "A tibble: 5 x 4\n",
       "\\begin{tabular}{llll}\n",
       " CODBDT & GEOCODIGO & DESBDT & geometry\\\\\n",
       " <int> & <chr> & <chr> & <MULTIPOLYGON {[}arc\\_degree{]}>\\\\\n",
       "\\hline\n",
       "\t 686213 & 001 & Abrantes         & MULTIPOLYGON (((-3.718306 4...\\\\\n",
       "\t 686214 & 002 & Acacias          & MULTIPOLYGON (((-3.707966 4...\\\\\n",
       "\t 686215 & 003 & Adelfas          & MULTIPOLYGON (((-3.666363 4...\\\\\n",
       "\t 686216 & 004 & Alameda          & MULTIPOLYGON (((-3.69947 40...\\\\\n",
       "\t 686217 & 005 & Alameda de Osuna & MULTIPOLYGON (((-3.561629 4...\\\\\n",
       "\\end{tabular}\n"
      ],
      "text/markdown": [
       "\n",
       "A tibble: 5 x 4\n",
       "\n",
       "| CODBDT &lt;int&gt; | GEOCODIGO &lt;chr&gt; | DESBDT &lt;chr&gt; | geometry &lt;MULTIPOLYGON [arc_degree]&gt; |\n",
       "|---|---|---|---|\n",
       "| 686213 | 001 | Abrantes         | MULTIPOLYGON (((-3.718306 4... |\n",
       "| 686214 | 002 | Acacias          | MULTIPOLYGON (((-3.707966 4... |\n",
       "| 686215 | 003 | Adelfas          | MULTIPOLYGON (((-3.666363 4... |\n",
       "| 686216 | 004 | Alameda          | MULTIPOLYGON (((-3.69947 40... |\n",
       "| 686217 | 005 | Alameda de Osuna | MULTIPOLYGON (((-3.561629 4... |\n",
       "\n"
      ],
      "text/plain": [
       "  CODBDT GEOCODIGO DESBDT           geometry                      \n",
       "1 686213 001       Abrantes         MULTIPOLYGON (((-3.718306 4...\n",
       "2 686214 002       Acacias          MULTIPOLYGON (((-3.707966 4...\n",
       "3 686215 003       Adelfas          MULTIPOLYGON (((-3.666363 4...\n",
       "4 686216 004       Alameda          MULTIPOLYGON (((-3.69947 40...\n",
       "5 686217 005       Alameda de Osuna MULTIPOLYGON (((-3.561629 4..."
      ]
     },
     "metadata": {},
     "output_type": "display_data"
    }
   ],
   "source": [
    "data_02 |> tibble() |> slice_head(n = 5)"
   ]
  },
  {
   "cell_type": "markdown",
   "metadata": {},
   "source": [
    "## ETL Processes"
   ]
  },
  {
   "attachments": {},
   "cell_type": "markdown",
   "metadata": {},
   "source": [
    "### Import data from: CSV, Excel, Tab, JSON, SQL, and Parquet files\n",
    "\n",
    "Se han importado en el apartado Data Load anterior:\n",
    "\n",
    "* Datos diarios meteorológicos por estación\n",
    "* Contornos de zonas sanitarias"
   ]
  },
  {
   "cell_type": "markdown",
   "metadata": {},
   "source": [
    "Incluir apartados si procede para: Extracción de datos (select, filter), Transformación de datos, (mutate, joins, ...). Si es necesario tratar datos perdidos, indicarlo también en NB 09.2"
   ]
  },
  {
   "cell_type": "markdown",
   "metadata": {},
   "source": [
    "Si no aplica: Estos datos no requieren tareas de este tipo."
   ]
  },
  {
   "attachments": {},
   "cell_type": "markdown",
   "metadata": {},
   "source": [
    "#### Data transformation"
   ]
  },
  {
   "attachments": {},
   "cell_type": "markdown",
   "metadata": {},
   "source": [
    "* Convertir zonas a centroide para poder interpolar"
   ]
  },
  {
   "cell_type": "code",
   "execution_count": 27,
   "metadata": {
    "vscode": {
     "languageId": "r"
    }
   },
   "outputs": [
    {
     "name": "stderr",
     "output_type": "stream",
     "text": [
      "Warning message in st_centroid.sf(data_02):\n",
      "\"st_centroid assumes attributes are constant over geometries of x\"\n"
     ]
    }
   ],
   "source": [
    "tdata_02 <- data_02 |> st_centroid() "
   ]
  },
  {
   "cell_type": "code",
   "execution_count": 36,
   "metadata": {
    "vscode": {
     "languageId": "r"
    }
   },
   "outputs": [
    {
     "name": "stdout",
     "output_type": "stream",
     "text": [
      "Rows: 286\n",
      "Columns: 4\n",
      "$ CODBDT    \u001b[3m\u001b[90m<int>\u001b[39m\u001b[23m 686213, 686214, 686215, 686216, 686217, 686218, 686219, 6862~\n",
      "$ GEOCODIGO \u001b[3m\u001b[90m<chr>\u001b[39m\u001b[23m \"001\", \"002\", \"003\", \"004\", \"005\", \"006\", \"007\", \"008\", \"009~\n",
      "$ DESBDT    \u001b[3m\u001b[90m<chr>\u001b[39m\u001b[23m \"Abrantes\", \"Acacias\", \"Adelfas\", \"Alameda\", \"Alameda de Osu~\n",
      "$ geometry  \u001b[3m\u001b[90m<POINT [arc_degree]>\u001b[39m\u001b[23m POINT (-3.72614 40.37898), POINT (-3.708702 4~\n"
     ]
    }
   ],
   "source": [
    "glimpse(tdata_02)"
   ]
  },
  {
   "cell_type": "code",
   "execution_count": 37,
   "metadata": {
    "vscode": {
     "languageId": "r"
    }
   },
   "outputs": [
    {
     "data": {
      "text/html": [
       "<table class=\"dataframe\">\n",
       "<caption>A tibble: 5 x 4</caption>\n",
       "<thead>\n",
       "\t<tr><th scope=col>CODBDT</th><th scope=col>GEOCODIGO</th><th scope=col>DESBDT</th><th scope=col>geometry</th></tr>\n",
       "\t<tr><th scope=col>&lt;int&gt;</th><th scope=col>&lt;chr&gt;</th><th scope=col>&lt;chr&gt;</th><th scope=col>&lt;POINT [arc_degree]&gt;</th></tr>\n",
       "</thead>\n",
       "<tbody>\n",
       "\t<tr><td>686213</td><td>001</td><td>Abrantes        </td><td>POINT (-3.72614 40.37898)</td></tr>\n",
       "\t<tr><td>686214</td><td>002</td><td>Acacias         </td><td>POINT (-3.708702 40.40045)</td></tr>\n",
       "\t<tr><td>686215</td><td>003</td><td>Adelfas         </td><td>POINT (-3.672841 40.40145)</td></tr>\n",
       "\t<tr><td>686216</td><td>004</td><td>Alameda         </td><td>POINT (-3.697291 40.41036)</td></tr>\n",
       "\t<tr><td>686217</td><td>005</td><td>Alameda de Osuna</td><td>POINT (-3.569774 40.47515)</td></tr>\n",
       "</tbody>\n",
       "</table>\n"
      ],
      "text/latex": [
       "A tibble: 5 x 4\n",
       "\\begin{tabular}{llll}\n",
       " CODBDT & GEOCODIGO & DESBDT & geometry\\\\\n",
       " <int> & <chr> & <chr> & <POINT {[}arc\\_degree{]}>\\\\\n",
       "\\hline\n",
       "\t 686213 & 001 & Abrantes         & POINT (-3.72614 40.37898)\\\\\n",
       "\t 686214 & 002 & Acacias          & POINT (-3.708702 40.40045)\\\\\n",
       "\t 686215 & 003 & Adelfas          & POINT (-3.672841 40.40145)\\\\\n",
       "\t 686216 & 004 & Alameda          & POINT (-3.697291 40.41036)\\\\\n",
       "\t 686217 & 005 & Alameda de Osuna & POINT (-3.569774 40.47515)\\\\\n",
       "\\end{tabular}\n"
      ],
      "text/markdown": [
       "\n",
       "A tibble: 5 x 4\n",
       "\n",
       "| CODBDT &lt;int&gt; | GEOCODIGO &lt;chr&gt; | DESBDT &lt;chr&gt; | geometry &lt;POINT [arc_degree]&gt; |\n",
       "|---|---|---|---|\n",
       "| 686213 | 001 | Abrantes         | POINT (-3.72614 40.37898) |\n",
       "| 686214 | 002 | Acacias          | POINT (-3.708702 40.40045) |\n",
       "| 686215 | 003 | Adelfas          | POINT (-3.672841 40.40145) |\n",
       "| 686216 | 004 | Alameda          | POINT (-3.697291 40.41036) |\n",
       "| 686217 | 005 | Alameda de Osuna | POINT (-3.569774 40.47515) |\n",
       "\n"
      ],
      "text/plain": [
       "  CODBDT GEOCODIGO DESBDT           geometry                  \n",
       "1 686213 001       Abrantes         POINT (-3.72614 40.37898) \n",
       "2 686214 002       Acacias          POINT (-3.708702 40.40045)\n",
       "3 686215 003       Adelfas          POINT (-3.672841 40.40145)\n",
       "4 686216 004       Alameda          POINT (-3.697291 40.41036)\n",
       "5 686217 005       Alameda de Osuna POINT (-3.569774 40.47515)"
      ]
     },
     "metadata": {},
     "output_type": "display_data"
    }
   ],
   "source": [
    "tdata_02 |> tibble() |> slice_head(n = 5)"
   ]
  },
  {
   "attachments": {},
   "cell_type": "markdown",
   "metadata": {},
   "source": [
    "#### Data extract\n",
    "\n",
    "* Seleccionar variables temperatura, precipitaciones y presión\n",
    "* Agrupar por semana"
   ]
  },
  {
   "cell_type": "code",
   "execution_count": 29,
   "metadata": {
    "vscode": {
     "languageId": "r"
    }
   },
   "outputs": [
    {
     "name": "stderr",
     "output_type": "stream",
     "text": [
      "\u001b[1m\u001b[22m`summarise()` has grouped output by 'ano', 'semana', 'nombre', 'X'. You can\n",
      "override using the `.groups` argument.\n"
     ]
    }
   ],
   "source": [
    "edata_01 <- data_01 |>\n",
    "    mutate(ano = year(fecha),\n",
    "        semana = isoweek(fecha)) |> \n",
    "    select(ano, semana, nombre, tmed, prec, velmedia, presMax, X, Y) |>\n",
    "    group_by(ano, semana, nombre, X, Y) |>\n",
    "    summarise(across(everything(), ~mean(.x, na.rm = TRUE)))"
   ]
  },
  {
   "attachments": {},
   "cell_type": "markdown",
   "metadata": {},
   "source": [
    "#### Data transformation\n",
    "\n",
    "* Convertir datos a objeto espacial para poder interpolar\n"
   ]
  },
  {
   "cell_type": "code",
   "execution_count": 58,
   "metadata": {
    "vscode": {
     "languageId": "r"
    }
   },
   "outputs": [],
   "source": [
    "tdata_01 <- edata_01 |>\n",
    "    st_as_sf(coords = c(\"X\", \"Y\"), crs = 4326)"
   ]
  },
  {
   "cell_type": "code",
   "execution_count": 59,
   "metadata": {
    "vscode": {
     "languageId": "r"
    }
   },
   "outputs": [
    {
     "name": "stdout",
     "output_type": "stream",
     "text": [
      "Rows: 909\n",
      "Columns: 8\n",
      "Groups: ano, semana, nombre [909]\n",
      "$ ano      \u001b[3m\u001b[90m<dbl>\u001b[39m\u001b[23m 2021, 2021, 2021, 2021, 2021, 2021, 2021, 2021, 2021, 2021, 2~\n",
      "$ semana   \u001b[3m\u001b[90m<dbl>\u001b[39m\u001b[23m 35, 35, 35, 35, 35, 35, 35, 35, 35, 35, 35, 35, 36, 36, 36, 3~\n",
      "$ nombre   \u001b[3m\u001b[90m<chr>\u001b[39m\u001b[23m \"ARANJUEZ\", \"BUITRAGO DEL LOZOYA\", \"COLMENAR VIEJO\", \"GETAFE\"~\n",
      "$ tmed     \u001b[3m\u001b[90m<dbl>\u001b[39m\u001b[23m 23.08000, 19.00000, 20.40000, 23.04000, 21.84000, 22.40000, 2~\n",
      "$ prec     \u001b[3m\u001b[90m<dbl>\u001b[39m\u001b[23m 2.96000000, NaN, 1.60000000, 0.22000000, 1.24000000, 1.680000~\n",
      "$ velmedia \u001b[3m\u001b[90m<dbl>\u001b[39m\u001b[23m 1.600000, 1.560000, 1.840000, 2.380000, 2.500000, 2.160000, N~\n",
      "$ presMax  \u001b[3m\u001b[90m<dbl>\u001b[39m\u001b[23m NaN, 906.1400, 906.1400, 947.2600, 951.1800, 939.5800, 941.20~\n",
      "$ geometry \u001b[3m\u001b[90m<POINT [arc_degree]>\u001b[39m\u001b[23m POINT (-3.546111 40.06722), POINT (-3.613611 4~\n"
     ]
    }
   ],
   "source": [
    "glimpse(tdata_01)"
   ]
  },
  {
   "cell_type": "code",
   "execution_count": 35,
   "metadata": {
    "vscode": {
     "languageId": "r"
    }
   },
   "outputs": [
    {
     "data": {
      "text/html": [
       "<table class=\"dataframe\">\n",
       "<caption>A tibble: 5 x 8</caption>\n",
       "<thead>\n",
       "\t<tr><th scope=col>ano</th><th scope=col>semana</th><th scope=col>nombre</th><th scope=col>tmed</th><th scope=col>prec</th><th scope=col>velmedia</th><th scope=col>presMax</th><th scope=col>geometry</th></tr>\n",
       "\t<tr><th scope=col>&lt;dbl&gt;</th><th scope=col>&lt;dbl&gt;</th><th scope=col>&lt;chr&gt;</th><th scope=col>&lt;dbl&gt;</th><th scope=col>&lt;dbl&gt;</th><th scope=col>&lt;dbl&gt;</th><th scope=col>&lt;dbl&gt;</th><th scope=col>&lt;POINT&gt;</th></tr>\n",
       "</thead>\n",
       "<tbody>\n",
       "\t<tr><td>2021</td><td>35</td><td>ARANJUEZ           </td><td>23.08</td><td>2.96</td><td>1.60</td><td>   NaN</td><td>POINT (-3.546111 40.06722)</td></tr>\n",
       "\t<tr><td>2021</td><td>35</td><td>BUITRAGO DEL LOZOYA</td><td>19.00</td><td> NaN</td><td>1.56</td><td>906.14</td><td>POINT (-3.613611 41.00694)</td></tr>\n",
       "\t<tr><td>2021</td><td>35</td><td>COLMENAR VIEJO     </td><td>20.40</td><td>1.60</td><td>1.84</td><td>906.14</td><td>POINT (-3.765 40.69611)</td></tr>\n",
       "\t<tr><td>2021</td><td>35</td><td>GETAFE             </td><td>23.04</td><td>0.22</td><td>2.38</td><td>947.26</td><td>POINT (-3.722222 40.29944)</td></tr>\n",
       "\t<tr><td>2021</td><td>35</td><td>MADRID AEROPUERTO  </td><td>21.84</td><td>1.24</td><td>2.50</td><td>951.18</td><td>POINT (-3.555556 40.46667)</td></tr>\n",
       "</tbody>\n",
       "</table>\n"
      ],
      "text/latex": [
       "A tibble: 5 x 8\n",
       "\\begin{tabular}{llllllll}\n",
       " ano & semana & nombre & tmed & prec & velmedia & presMax & geometry\\\\\n",
       " <dbl> & <dbl> & <chr> & <dbl> & <dbl> & <dbl> & <dbl> & <POINT>\\\\\n",
       "\\hline\n",
       "\t 2021 & 35 & ARANJUEZ            & 23.08 & 2.96 & 1.60 &    NaN & POINT (-3.546111 40.06722)\\\\\n",
       "\t 2021 & 35 & BUITRAGO DEL LOZOYA & 19.00 &  NaN & 1.56 & 906.14 & POINT (-3.613611 41.00694)\\\\\n",
       "\t 2021 & 35 & COLMENAR VIEJO      & 20.40 & 1.60 & 1.84 & 906.14 & POINT (-3.765 40.69611)\\\\\n",
       "\t 2021 & 35 & GETAFE              & 23.04 & 0.22 & 2.38 & 947.26 & POINT (-3.722222 40.29944)\\\\\n",
       "\t 2021 & 35 & MADRID AEROPUERTO   & 21.84 & 1.24 & 2.50 & 951.18 & POINT (-3.555556 40.46667)\\\\\n",
       "\\end{tabular}\n"
      ],
      "text/markdown": [
       "\n",
       "A tibble: 5 x 8\n",
       "\n",
       "| ano &lt;dbl&gt; | semana &lt;dbl&gt; | nombre &lt;chr&gt; | tmed &lt;dbl&gt; | prec &lt;dbl&gt; | velmedia &lt;dbl&gt; | presMax &lt;dbl&gt; | geometry &lt;POINT&gt; |\n",
       "|---|---|---|---|---|---|---|---|\n",
       "| 2021 | 35 | ARANJUEZ            | 23.08 | 2.96 | 1.60 |    NaN | POINT (-3.546111 40.06722) |\n",
       "| 2021 | 35 | BUITRAGO DEL LOZOYA | 19.00 |  NaN | 1.56 | 906.14 | POINT (-3.613611 41.00694) |\n",
       "| 2021 | 35 | COLMENAR VIEJO      | 20.40 | 1.60 | 1.84 | 906.14 | POINT (-3.765 40.69611) |\n",
       "| 2021 | 35 | GETAFE              | 23.04 | 0.22 | 2.38 | 947.26 | POINT (-3.722222 40.29944) |\n",
       "| 2021 | 35 | MADRID AEROPUERTO   | 21.84 | 1.24 | 2.50 | 951.18 | POINT (-3.555556 40.46667) |\n",
       "\n"
      ],
      "text/plain": [
       "  ano  semana nombre              tmed  prec velmedia presMax\n",
       "1 2021 35     ARANJUEZ            23.08 2.96 1.60        NaN \n",
       "2 2021 35     BUITRAGO DEL LOZOYA 19.00  NaN 1.56     906.14 \n",
       "3 2021 35     COLMENAR VIEJO      20.40 1.60 1.84     906.14 \n",
       "4 2021 35     GETAFE              23.04 0.22 2.38     947.26 \n",
       "5 2021 35     MADRID AEROPUERTO   21.84 1.24 2.50     951.18 \n",
       "  geometry                  \n",
       "1 POINT (-3.546111 40.06722)\n",
       "2 POINT (-3.613611 41.00694)\n",
       "3 POINT (-3.765 40.69611)   \n",
       "4 POINT (-3.722222 40.29944)\n",
       "5 POINT (-3.555556 40.46667)"
      ]
     },
     "metadata": {},
     "output_type": "display_data"
    }
   ],
   "source": [
    "tdata_01 |> tibble() |> slice_head(n = 5)"
   ]
  },
  {
   "cell_type": "markdown",
   "metadata": {},
   "source": [
    "* Interpolar temperatura media, precipitación, velocidad media del viento y presión máxima en las coordenadas de cada infraestructura.\n",
    "\n",
    "NOTA: esta operación puede tardar varios minutos."
   ]
  },
  {
   "cell_type": "code",
   "execution_count": 65,
   "metadata": {
    "vscode": {
     "languageId": "r"
    }
   },
   "outputs": [],
   "source": [
    "meteovars <- c(\"tmed\", \"prec\", \"velmedia\", \"presMax\")\n",
    "semanas <- paste(tdata_01$ano, tdata_01$semana, sep = \"-\") |> unique()\n",
    "resl <- list()\n",
    "\n",
    "for (i in seq_along(semanas)){\n",
    "  f <- semanas[i]\n",
    "  a <- str_sub(f, 1, 4)\n",
    "  s <- str_sub(f, 6,7)\n",
    "  meteod <- tdata_01 |> \n",
    "    filter(ano == a,\n",
    "           semana == s) |> \n",
    "    select(all_of(meteovars)) \n",
    "  \n",
    "  res <- data_02 |> select(GEOCODIGO) |> st_drop_geometry()\n",
    "  for (j in seq_along(meteovars)){\n",
    "    thisvar <- meteovars[j] \n",
    "    meteodc <- meteod |> \n",
    "      drop_na(all_of(thisvar))\n",
    "    \n",
    "    if(all(meteodc |> pull(thisvar) == 0)){\n",
    "      res <- res |> \n",
    "        mutate(!!thisvar := 0)\n",
    "    } else{\n",
    "      \n",
    "      fo <- as.formula(paste0(thisvar, \" ~ 1\"))\n",
    "      v0 <- variogram(fo, meteodc)\n",
    "      v.m <- suppressWarnings(fit.variogram(v0, \n",
    "        vgm(c(\"Exp\", \"Mat\", \"Sph\", \"Log\", \"Wav\", \"Bes\", \"Lin\", \"Leg\"))))\n",
    "      invisible(capture.output(suppressWarnings(krg <- krige(fo, \n",
    "                   locations = meteodc,\n",
    "                   newdata = tdata_02,\n",
    "                   model = v.m))))\n",
    "      res <- res |> \n",
    "        mutate(!!thisvar := krg$var1.pred)\n",
    "    }\n",
    "  }\n",
    "    res <- res |>\n",
    "      mutate(ano = a,\n",
    "             semana = s)\n",
    "  resl[[i]] <- res\n",
    "}\n",
    "\n",
    "data <- bind_rows(resl)"
   ]
  },
  {
   "cell_type": "code",
   "execution_count": 66,
   "metadata": {
    "vscode": {
     "languageId": "r"
    }
   },
   "outputs": [
    {
     "name": "stdout",
     "output_type": "stream",
     "text": [
      "Rows: 21,736\n",
      "Columns: 7\n",
      "$ GEOCODIGO \u001b[3m\u001b[90m<chr>\u001b[39m\u001b[23m \"001\", \"002\", \"003\", \"004\", \"005\", \"006\", \"007\", \"008\", \"009~\n",
      "$ tmed      \u001b[3m\u001b[90m<dbl>\u001b[39m\u001b[23m 22.53414, 22.42739, 22.44443, 22.37906, 21.83238, 22.57096, ~\n",
      "$ prec      \u001b[3m\u001b[90m<dbl>\u001b[39m\u001b[23m 1.2086417, 1.2461203, 1.2778878, 1.2615862, 1.2790072, 1.019~\n",
      "$ velmedia  \u001b[3m\u001b[90m<dbl>\u001b[39m\u001b[23m 2.299920, 2.310469, 2.382023, 2.321377, 2.461297, 2.029950, ~\n",
      "$ presMax   \u001b[3m\u001b[90m<dbl>\u001b[39m\u001b[23m 940.7107, 938.2132, 941.6089, 939.4657, 951.1882, 944.2638, ~\n",
      "$ ano       \u001b[3m\u001b[90m<chr>\u001b[39m\u001b[23m \"2021\", \"2021\", \"2021\", \"2021\", \"2021\", \"2021\", \"2021\", \"202~\n",
      "$ semana    \u001b[3m\u001b[90m<chr>\u001b[39m\u001b[23m \"35\", \"35\", \"35\", \"35\", \"35\", \"35\", \"35\", \"35\", \"35\", \"35\", ~\n"
     ]
    }
   ],
   "source": [
    "glimpse(data)"
   ]
  },
  {
   "cell_type": "markdown",
   "metadata": {
    "slideshow": {
     "slide_type": "slide"
    }
   },
   "source": [
    "## Synthetic Data Generation"
   ]
  },
  {
   "attachments": {},
   "cell_type": "markdown",
   "metadata": {
    "slideshow": {
     "slide_type": "slide"
    }
   },
   "source": [
    "No aplica"
   ]
  },
  {
   "cell_type": "markdown",
   "metadata": {
    "slideshow": {
     "slide_type": "slide"
    }
   },
   "source": [
    "## Fake Data Generation"
   ]
  },
  {
   "attachments": {},
   "cell_type": "markdown",
   "metadata": {
    "slideshow": {
     "slide_type": "slide"
    }
   },
   "source": [
    "No aplica"
   ]
  },
  {
   "cell_type": "markdown",
   "metadata": {
    "slideshow": {
     "slide_type": "slide"
    }
   },
   "source": [
    "## Open Data"
   ]
  },
  {
   "attachments": {},
   "cell_type": "markdown",
   "metadata": {
    "slideshow": {
     "slide_type": "slide"
    }
   },
   "source": [
    "Los datos se obtuvieron de fuentes abiertas en la tarea anterior"
   ]
  },
  {
   "cell_type": "markdown",
   "metadata": {},
   "source": [
    "## <font color='green'>Data Save</font>"
   ]
  },
  {
   "cell_type": "markdown",
   "metadata": {},
   "source": [
    "Este proceso, puede copiarse y repetirse en aquellas partes del notebbok que necesiten guardar datos.\n",
    "Recuerde cambiar la extensión añadida del fichero para diferenciarlas"
   ]
  },
  {
   "cell_type": "markdown",
   "metadata": {},
   "source": [
    "<font color='tomato'> Identificamos los datos a guardar</font>"
   ]
  },
  {
   "cell_type": "code",
   "execution_count": 70,
   "metadata": {
    "ExecuteTime": {
     "end_time": "2020-12-25T17:59:27.022001Z",
     "start_time": "2020-12-25T17:59:15.986986Z"
    },
    "scrolled": false,
    "vscode": {
     "languageId": "r"
    }
   },
   "outputs": [],
   "source": [
    "data_to_save <- data"
   ]
  },
  {
   "attachments": {},
   "cell_type": "markdown",
   "metadata": {},
   "source": [
    "\n",
    "<font color='tomato'>Estructura de nombre de archivos:</font>\n",
    "\n",
    "* Código del caso de uso, por ejemplo \"CU_04\"\n",
    "* Número del proceso que lo genera, por ejemplo \"_05\".\n",
    "* Número de la tarea que lo genera, por ejemplo \"_01\"\n",
    "* En caso de generarse varios ficheros en la misma tarea, llevarán _01 _02 ... después\n",
    "* Nombre: identificativo de \"properData\", por ejemplo \"_zonasgeo\"\n",
    "* Extensión del archivo\n",
    "\n",
    "Ejemplo: \"CU_04_05_01_01_zonasgeo.json, primer fichero que se genera en la tarea 01 del proceso 05 (Data Collection) para el caso de uso 04 (vacunas)\n",
    "\n",
    "Importante mantener los guiones bajos antes de proceso, tarea, archivo y nombre"
   ]
  },
  {
   "attachments": {},
   "cell_type": "markdown",
   "metadata": {},
   "source": [
    "### Proceso 05"
   ]
  },
  {
   "cell_type": "code",
   "execution_count": 67,
   "metadata": {
    "ExecuteTime": {
     "end_time": "2020-12-25T17:59:27.022001Z",
     "start_time": "2020-12-25T17:59:15.986986Z"
    },
    "scrolled": false,
    "vscode": {
     "languageId": "r"
    }
   },
   "outputs": [],
   "source": [
    "caso <- \"CU_04\"\n",
    "proceso <- '_05'\n",
    "tarea <- \"_11\"\n",
    "archivo <- \"\"\n",
    "proper <- \"_meteo_zonas\"\n",
    "extension <- \".csv\""
   ]
  },
  {
   "attachments": {},
   "cell_type": "markdown",
   "metadata": {},
   "source": [
    "<font color='tomato'><b> OPCION A:</b> Uso del paquete \"tcltk\" para mayor comodidad</font>\n",
    "\n",
    "* Buscar carpeta, escribir nombre de archivo SIN extensión (se especifica en el código)\n",
    "* Especificar sufijo2 si es necesario\n",
    "* Cambiar datos por datos_xx si es necesario"
   ]
  },
  {
   "cell_type": "code",
   "execution_count": 68,
   "metadata": {
    "ExecuteTime": {
     "end_time": "2020-12-25T17:59:27.022001Z",
     "start_time": "2020-12-25T17:59:15.986986Z"
    },
    "scrolled": false,
    "vscode": {
     "languageId": "r"
    }
   },
   "outputs": [],
   "source": [
    "# file_save <- paste0(caso, proceso, tarea, tcltk::tkgetSaveFile(), proper, extension) \n",
    "# path_out <- paste0(oPath, file_save)\n",
    "# write_csv(data_to_save, path_out)\n",
    "\n",
    "# cat('File saved as: ')\n",
    "# path_out"
   ]
  },
  {
   "attachments": {},
   "cell_type": "markdown",
   "metadata": {},
   "source": [
    "<font color='tomato'><b> OPCION B:</b> Especificar el nombre de archivo</font>"
   ]
  },
  {
   "attachments": {},
   "cell_type": "markdown",
   "metadata": {},
   "source": [
    "- Los ficheros de salida del proceso van siempre a Data/Output/.  "
   ]
  },
  {
   "cell_type": "code",
   "execution_count": 71,
   "metadata": {
    "ExecuteTime": {
     "end_time": "2021-01-26T18:40:31.258294Z",
     "start_time": "2021-01-26T18:40:26.061847Z"
    },
    "slideshow": {
     "slide_type": "subslide"
    },
    "vscode": {
     "languageId": "r"
    }
   },
   "outputs": [
    {
     "name": "stdout",
     "output_type": "stream",
     "text": [
      "File saved as: "
     ]
    },
    {
     "data": {
      "text/html": [
       "'Data/Output/CU_04_05_11_meteo_zonas.csv'"
      ],
      "text/latex": [
       "'Data/Output/CU\\_04\\_05\\_11\\_meteo\\_zonas.csv'"
      ],
      "text/markdown": [
       "'Data/Output/CU_04_05_11_meteo_zonas.csv'"
      ],
      "text/plain": [
       "[1] \"Data/Output/CU_04_05_11_meteo_zonas.csv\""
      ]
     },
     "metadata": {},
     "output_type": "display_data"
    }
   ],
   "source": [
    "file_save <- paste0(caso, proceso, tarea, archivo, proper, extension) \n",
    "path_out <- paste0(oPath, file_save)\n",
    "write_csv(data_to_save, path_out)\n",
    "\n",
    "cat('File saved as: ')\n",
    "path_out"
   ]
  },
  {
   "cell_type": "markdown",
   "metadata": {},
   "source": [
    "#### Copia del fichero a Input\n",
    "\n",
    "Si el archivo se va a usar en otros notebooks, copiar a la carpeta Input"
   ]
  },
  {
   "cell_type": "code",
   "execution_count": 72,
   "metadata": {
    "vscode": {
     "languageId": "r"
    }
   },
   "outputs": [
    {
     "data": {
      "text/html": [
       "TRUE"
      ],
      "text/latex": [
       "TRUE"
      ],
      "text/markdown": [
       "TRUE"
      ],
      "text/plain": [
       "[1] TRUE"
      ]
     },
     "metadata": {},
     "output_type": "display_data"
    }
   ],
   "source": [
    "path_in <- paste0(iPath, file_save)\n",
    "file.copy(path_out, path_in, overwrite = TRUE)"
   ]
  },
  {
   "cell_type": "markdown",
   "metadata": {},
   "source": [
    "## <font color=' #2874a6 '>Main Conclusions</font>"
   ]
  },
  {
   "cell_type": "markdown",
   "metadata": {
    "slideshow": {
     "slide_type": "slide"
    }
   },
   "source": [
    "<font color='steelblue'>List and describe the general conclusions of the analysis carried out​.</font>"
   ]
  },
  {
   "attachments": {},
   "cell_type": "markdown",
   "metadata": {},
   "source": [
    "### Prerequisites\n",
    "\n",
    "Para que funcione este código se necesita:\n",
    "\n",
    "* Las rutas de archivos `Data/Input` y `Data/Output` deben existir (relativas a la ruta del _notebook_)\n",
    "* El paquete tcltk instalado para seleccionar archivos interactivamente. No se necesita en producción.\n",
    "* Los paquetes sf, readr, dplyr, tidyr, gstat, stringr y lubridate deben estar instalados.\n",
    "\n"
   ]
  },
  {
   "attachments": {},
   "cell_type": "markdown",
   "metadata": {},
   "source": [
    "### Configuration Management\n",
    "\n",
    "This notebook has been tested with the following versions of R and packages. It cannot be assured that later versions work in the same way:\n",
    "* R 4.2.2\n",
    "* tcltk 4.2.2\n",
    "* sf 1.0.9\n",
    "* readr 2.1.3\n",
    "* dplyr 1.0.10\n",
    "* tidyr 1.3.0\n",
    "* gstat 2.1.0\n",
    "* stringr 1.5.0\n",
    "* lubridate 1.9.1"
   ]
  },
  {
   "attachments": {},
   "cell_type": "markdown",
   "metadata": {},
   "source": [
    "### Data structures"
   ]
  },
  {
   "attachments": {},
   "cell_type": "markdown",
   "metadata": {},
   "source": [
    "#### Objeto `data`\n",
    "\n",
    "- Hay 21736 filas\n",
    "\t* GEOCODIGO\n",
    "\t* tmed\n",
    "\t* prec\n",
    "\t* velmedia\n",
    "\t* presMax\n",
    "\t* ano\n",
    "\t* semana\n"
   ]
  },
  {
   "attachments": {},
   "cell_type": "markdown",
   "metadata": {},
   "source": [
    "#### Observaciones generales sobre los datos\n",
    "\n",
    "* Los datos se han promediado por zona sanitaria y semana\n",
    "* Se incluyen cuatro variables meteorológicas\n",
    "* En vez de la humedad que estaba prevista en el MVP, se incluye la precipitación"
   ]
  },
  {
   "attachments": {},
   "cell_type": "markdown",
   "metadata": {},
   "source": [
    "### Consideraciones para despliegue en piloto\n",
    "\n",
    "* Ninguna"
   ]
  },
  {
   "attachments": {},
   "cell_type": "markdown",
   "metadata": {},
   "source": [
    "### Consideraciones para despliegue en producción\n",
    "\n",
    "* Se deben crear los procesos ETL en producción necesarios para que los datos de entrada estén actualizados"
   ]
  },
  {
   "cell_type": "markdown",
   "metadata": {},
   "source": [
    "## <font color=' #2874a6 '>Main Actions</font>"
   ]
  },
  {
   "cell_type": "markdown",
   "metadata": {},
   "source": [
    "#### <font color=' #2874a6 '>Acciones done</font>"
   ]
  },
  {
   "cell_type": "markdown",
   "metadata": {
    "slideshow": {
     "slide_type": "slide"
    }
   },
   "source": [
    "<font color='steelblue'>Indicate the actions that have been carried out in this process</font>"
   ]
  },
  {
   "attachments": {},
   "cell_type": "markdown",
   "metadata": {},
   "source": [
    "- Se han calculado los centroides de las zonas\n",
    "- Se han interpolado los datos de meteorología a las zonas"
   ]
  },
  {
   "cell_type": "markdown",
   "metadata": {},
   "source": [
    "#### <font color=' #2874a6 '>Acctions to perform</font>"
   ]
  },
  {
   "cell_type": "markdown",
   "metadata": {
    "slideshow": {
     "slide_type": "slide"
    }
   },
   "source": [
    "<font color='steelblue'>Indicate the actions that must be carried out in subsequent processes</font>"
   ]
  },
  {
   "attachments": {},
   "cell_type": "markdown",
   "metadata": {},
   "source": [
    "- Se debe comprobar por qué se crea una seman 2023-52"
   ]
  },
  {
   "attachments": {},
   "cell_type": "markdown",
   "metadata": {},
   "source": [
    "## <font color='RED'>CODE TO DEPLOY (PILOT)</font>\n",
    "\n",
    "A continuación se incluirá el código que deba ser llevado a despliegue para producción, dado que se entiende efectúa operaciones necesarias sobre los datos en la ejecución del prototipo"
   ]
  },
  {
   "attachments": {},
   "cell_type": "markdown",
   "metadata": {},
   "source": [
    "<font color=' red '><b>Description</b></font>\n",
    "\n",
    "- No hay nada que desplegar en el piloto, ya que estos datos son estáticos o en todo caso cambian con muy poca frecuencia, altamente improbable durante el proyecto.\n"
   ]
  },
  {
   "attachments": {},
   "cell_type": "markdown",
   "metadata": {},
   "source": [
    "<font color=' red '><b>CODE</b></font>"
   ]
  },
  {
   "cell_type": "code",
   "execution_count": null,
   "metadata": {
    "vscode": {
     "languageId": "r"
    }
   },
   "outputs": [],
   "source": [
    "# incluir código"
   ]
  }
 ],
 "metadata": {
  "anaconda-cloud": {},
  "celltoolbar": "Slideshow",
  "hide_input": false,
  "kernelspec": {
   "display_name": "R",
   "language": "R",
   "name": "ir"
  },
  "language_info": {
   "codemirror_mode": "r",
   "file_extension": ".r",
   "mimetype": "text/x-r-source",
   "name": "R",
   "pygments_lexer": "r",
   "version": "4.2.2"
  },
  "latex_envs": {
   "LaTeX_envs_menu_present": true,
   "autoclose": false,
   "autocomplete": true,
   "bibliofile": "biblio.bib",
   "cite_by": "apalike",
   "current_citInitial": 1,
   "eqLabelWithNumbers": true,
   "eqNumInitial": 1,
   "hotkeys": {
    "equation": "Ctrl-E",
    "itemize": "Ctrl-I"
   },
   "labels_anchors": false,
   "latex_user_defs": false,
   "report_style_numbering": true,
   "user_envs_cfg": false
  },
  "toc": {
   "base_numbering": 1,
   "nav_menu": {
    "height": "11.6px",
    "width": "160px"
   },
   "number_sections": false,
   "sideBar": true,
   "skip_h1_title": true,
   "title_cell": "Table of Contents",
   "title_sidebar": "Contents",
   "toc_cell": true,
   "toc_position": {
    "height": "calc(100% - 180px)",
    "left": "10px",
    "top": "150px",
    "width": "209.2px"
   },
   "toc_section_display": true,
   "toc_window_display": true
  },
  "varInspector": {
   "cols": {
    "lenName": 16,
    "lenType": 16,
    "lenVar": 40
   },
   "kernels_config": {
    "python": {
     "delete_cmd_postfix": "",
     "delete_cmd_prefix": "del ",
     "library": "var_list.py",
     "varRefreshCmd": "print(var_dic_list())"
    },
    "r": {
     "delete_cmd_postfix": ") ",
     "delete_cmd_prefix": "rm(",
     "library": "var_list.r",
     "varRefreshCmd": "cat(var_dic_list()) "
    }
   },
   "types_to_exclude": [
    "module",
    "function",
    "builtin_function_or_method",
    "instance",
    "_Feature"
   ],
   "window_display": false
  }
 },
 "nbformat": 4,
 "nbformat_minor": 1
}
