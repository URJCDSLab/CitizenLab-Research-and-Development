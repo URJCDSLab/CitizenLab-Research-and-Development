{
 "cells": [
  {
   "cell_type": "markdown",
   "metadata": {
    "slideshow": {
     "slide_type": "slide"
    }
   },
   "source": [
    "<img src=\".\\images\\Logo.png\" width=150 align=\"left\" /> <img src=\".\\images\\Logo2.jpg\" width=450 align=\"right\" />"
   ]
  },
  {
   "attachments": {},
   "cell_type": "markdown",
   "metadata": {
    "slideshow": {
     "slide_type": "slide"
    }
   },
   "source": [
    "\n",
    "# <center><font color= #1e8449 > <b>CU04_Optimización de vacunas</font></center>"
   ]
  },
  {
   "cell_type": "markdown",
   "metadata": {
    "slideshow": {
     "slide_type": "slide"
    }
   },
   "source": [
    "<font color='steelblue'><b>Citizenlab Data Science Methodology > II - Data Processing Domain </font>\n",
    "***\n",
    "> # <font color='steelblue'> <b>05.- Data Collection</font>"
   ]
  },
  {
   "cell_type": "markdown",
   "metadata": {
    "slideshow": {
     "slide_type": "slide"
    }
   },
   "source": [
    "<font color='steelblue'>Data Collection is the process to obtain and generate (if required) necessary data to model the problem.</font>"
   ]
  },
  {
   "attachments": {},
   "cell_type": "markdown",
   "metadata": {},
   "source": [
    "### 02. Zonas básicas de salud"
   ]
  },
  {
   "cell_type": "markdown",
   "metadata": {
    "toc": true
   },
   "source": [
    "<h1>Table of Contents<span class=\"tocSkip\"></span></h1>\n",
    "<div class=\"toc\"><ul class=\"toc-item\"><li><span><a href=\"#Settings\" data-toc-modified-id=\"Settings-1\"><font color=\"green\">Settings</font></a></span></li><li><span><a href=\"#Data-Load\" data-toc-modified-id=\"Data-Load-2\"><font color=\"green\">Data Load</font></a></span></li><li><span><a href=\"#ETL-Processes\" data-toc-modified-id=\"ETL-Processes-3\">ETL Processes</a></span><ul class=\"toc-item\"><li><span><a href=\"#Import-data-from:-CSV,-Excel,-Tab,-JSON,-SQL,-and-Parquet-files\" data-toc-modified-id=\"Import-data-from:-CSV,-Excel,-Tab,-JSON,-SQL,-and-Parquet-files-3.1\">Import data from: CSV, Excel, Tab, JSON, SQL, and Parquet files</a></span></li></ul></li><li><span><a href=\"#Synthetic-Data-Generation\" data-toc-modified-id=\"Synthetic-Data-Generation-4\">Synthetic Data Generation</a></span></li><li><span><a href=\"#Fake-Data-Generation\" data-toc-modified-id=\"Fake-Data-Generation-5\">Fake Data Generation</a></span></li><li><span><a href=\"#Open-Data\" data-toc-modified-id=\"Open-Data-6\">Open Data</a></span></li><li><span><a href=\"#Data-Save\" data-toc-modified-id=\"Data-Save-7\"><font color=\"green\">Data Save</font></a></span></li><li><span><a href=\"#Main-Conclusions\" data-toc-modified-id=\"Main-Conclusions-8\"><font color=\" #2874a6 \">Main Conclusions</font></a></span></li><li><span><a href=\"#Main-Actions\" data-toc-modified-id=\"Main-Actions-9\"><font color=\" #2874a6 \">Main Actions</font></a></span><ul class=\"toc-item\"><li><ul class=\"toc-item\"><li><span><a href=\"#Acciones-done\" data-toc-modified-id=\"Acciones-done-9.0.1\"><font color=\" #2874a6 \">Acciones done</font></a></span></li><li><span><a href=\"#Acctions-to-perform\" data-toc-modified-id=\"Acctions-to-perform-9.0.2\"><font color=\" #2874a6 \">Acctions to perform</font></a></span></li></ul></li></ul></li></ul></div>"
   ]
  },
  {
   "cell_type": "markdown",
   "metadata": {
    "slideshow": {
     "slide_type": "slide"
    }
   },
   "source": [
    "## <font color='green'>Settings</font>"
   ]
  },
  {
   "cell_type": "markdown",
   "metadata": {},
   "source": [
    "### Encoding\n",
    "\n",
    "Con la siguiente expresión se evitan problemas con el encoding al ejecutar el notebook. Es posible que deba ser eliminada o adaptada a la máquina en la que se ejecute el código."
   ]
  },
  {
   "cell_type": "code",
   "execution_count": null,
   "metadata": {
    "vscode": {
     "languageId": "r"
    }
   },
   "outputs": [
    {
     "data": {
      "text/html": [
       "'es_ES.UTF-8/es_ES.UTF-8/es_ES.UTF-8/C/es_ES.UTF-8/C'"
      ],
      "text/latex": [
       "'es\\_ES.UTF-8/es\\_ES.UTF-8/es\\_ES.UTF-8/C/es\\_ES.UTF-8/C'"
      ],
      "text/markdown": [
       "'es_ES.UTF-8/es_ES.UTF-8/es_ES.UTF-8/C/es_ES.UTF-8/C'"
      ],
      "text/plain": [
       "[1] \"es_ES.UTF-8/es_ES.UTF-8/es_ES.UTF-8/C/es_ES.UTF-8/C\""
      ]
     },
     "metadata": {},
     "output_type": "display_data"
    }
   ],
   "source": [
    "Sys.setlocale(category = \"LC_ALL\", locale = \"es_ES.UTF-8\")"
   ]
  },
  {
   "attachments": {},
   "cell_type": "markdown",
   "metadata": {},
   "source": [
    "### Packages to use\n",
    "\n",
    "- {readr} from _tidyverse_ for reading and writing csv files\n",
    "- {tcltk} for selecting files and paths (if needed)\n",
    "- {sf} for reading and writing files with spatial information \n",
    "- {dplyr} for data exploration"
   ]
  },
  {
   "cell_type": "code",
   "execution_count": 82,
   "metadata": {
    "ExecuteTime": {
     "end_time": "2021-12-03T15:23:33.762841Z",
     "start_time": "2021-12-03T15:23:08.580267Z"
    },
    "slideshow": {
     "slide_type": "subslide"
    },
    "vscode": {
     "languageId": "r"
    }
   },
   "outputs": [],
   "source": [
    "library(readr)\n",
    "library(tcltk)\n",
    "library(sf)\n",
    "library(dplyr)\n"
   ]
  },
  {
   "attachments": {},
   "cell_type": "markdown",
   "metadata": {},
   "source": [
    "### Paths"
   ]
  },
  {
   "cell_type": "code",
   "execution_count": 83,
   "metadata": {
    "vscode": {
     "languageId": "r"
    }
   },
   "outputs": [],
   "source": [
    "iPath <- \"Data/Input/\"\n",
    "oPath <- \"Data/Output/\""
   ]
  },
  {
   "attachments": {},
   "cell_type": "markdown",
   "metadata": {
    "slideshow": {
     "slide_type": "slide"
    }
   },
   "source": [
    "## <font color='green'>Data Load</font>\n",
    "\n",
    "If there are more than one input file, make as many sections as files to import."
   ]
  },
  {
   "attachments": {},
   "cell_type": "markdown",
   "metadata": {},
   "source": [
    "<font color='tomato'><b> OPCION A:</b> Seleccionar fichero en ventana para mayor comodidad</font> "
   ]
  },
  {
   "attachments": {},
   "cell_type": "markdown",
   "metadata": {},
   "source": [
    "Data load using the {tcltk} package (uncomment for using this option)"
   ]
  },
  {
   "cell_type": "code",
   "execution_count": 84,
   "metadata": {
    "ExecuteTime": {
     "end_time": "2021-01-26T18:40:31.258294Z",
     "start_time": "2021-01-26T18:40:26.061847Z"
    },
    "slideshow": {
     "slide_type": "subslide"
    },
    "vscode": {
     "languageId": "r"
    }
   },
   "outputs": [],
   "source": [
    "# file_data_01 <- tcltk::tk_choose.files(multi = FALSE)"
   ]
  },
  {
   "attachments": {},
   "cell_type": "markdown",
   "metadata": {},
   "source": [
    "<font color='tomato'><b> OPCION B:</b> Especificar el nombre de archivo</font>\n",
    "\n",
    "Instrucciones\n",
    "- Los ficheros de entrada del proceso están siempre en Data/Input/.   \n",
    "- Si hay más de un fichero de entrada, se crean tantos objetos iFile_xx y file_data_xx como ficheros de entrada (xx número correlativo con dos dígitos, rellenar con ceros a la izquierda)\n",
    "- Comentar si se usa la opción A"
   ]
  },
  {
   "cell_type": "code",
   "execution_count": 85,
   "metadata": {
    "vscode": {
     "languageId": "r"
    }
   },
   "outputs": [
    {
     "name": "stdout",
     "output_type": "stream",
     "text": [
      "Se leerán datos del archivo:  Data/Input/CU_04_05_01_zonasgeo.json"
     ]
    }
   ],
   "source": [
    "iFile <- \"CU_04_05_01_zonasgeo.json\"\n",
    "file_data <- paste0(iPath, iFile)\n",
    "\n",
    "if(file.exists(file_data)){\n",
    "    cat(\"Se leerán datos del archivo: \", file_data)\n",
    "} else{\n",
    "    warning(\"Cuidado: el archivo no existe.\")\n",
    "}\n"
   ]
  },
  {
   "attachments": {},
   "cell_type": "markdown",
   "metadata": {},
   "source": [
    "#### Data file to dataframe"
   ]
  },
  {
   "attachments": {},
   "cell_type": "markdown",
   "metadata": {},
   "source": [
    "<font color='tomato'>Utilizamos en todos los notebooks SIEMPRE <b>data</b> como nombre de la matriz (dataframe) principal donde cargamos los datos. Si se importan más ficheros, se le pone un sufijo con número correlativo en dos cifras y una palabra informativa. Por ejemplo, data_01_poblacion. Se repiten las celdas de estructura y muestra de datos para dataframe.</font>"
   ]
  },
  {
   "cell_type": "code",
   "execution_count": 86,
   "metadata": {
    "ExecuteTime": {
     "end_time": "2021-01-26T18:40:31.258294Z",
     "start_time": "2021-01-26T18:40:26.061847Z"
    },
    "slideshow": {
     "slide_type": "subslide"
    },
    "vscode": {
     "languageId": "r"
    }
   },
   "outputs": [
    {
     "name": "stdout",
     "output_type": "stream",
     "text": [
      "Reading layer `CU_04_05_01_zonasgeo' from data source \n",
      "  `/Users/emilio.lcano/academico/gh_repos/__transferencia/citizenlab/notebooks/II_data_processing/04_vacunas/Data/Input/CU_04_05_01_zonasgeo.json' \n",
      "  using driver `GeoJSON'\n",
      "Simple feature collection with 286 features and 3 fields\n",
      "Geometry type: MULTIPOLYGON\n",
      "Dimension:     XY\n",
      "Bounding box:  xmin: -4.579396 ymin: 39.8848 xmax: -3.052977 ymax: 41.16584\n",
      "Geodetic CRS:  WGS 84\n"
     ]
    }
   ],
   "source": [
    "data <- st_read(file_data)"
   ]
  },
  {
   "attachments": {},
   "cell_type": "markdown",
   "metadata": {},
   "source": [
    "**NOTE**: This object is a special type of dataframe that includes the geometry of each observation. "
   ]
  },
  {
   "attachments": {},
   "cell_type": "markdown",
   "metadata": {},
   "source": [
    "Estructura de los datos:"
   ]
  },
  {
   "cell_type": "code",
   "execution_count": 87,
   "metadata": {
    "ExecuteTime": {
     "end_time": "2021-01-26T18:40:31.258294Z",
     "start_time": "2021-01-26T18:40:26.061847Z"
    },
    "slideshow": {
     "slide_type": "subslide"
    },
    "vscode": {
     "languageId": "r"
    }
   },
   "outputs": [
    {
     "name": "stdout",
     "output_type": "stream",
     "text": [
      "Rows: 286\n",
      "Columns: 4\n",
      "$ CODBDT    \u001b[3m\u001b[90m<int>\u001b[39m\u001b[23m 686213, 686214, 686215, 686216, 686217, 686218, 686219, 6862…\n",
      "$ GEOCODIGO \u001b[3m\u001b[90m<chr>\u001b[39m\u001b[23m \"001\", \"002\", \"003\", \"004\", \"005\", \"006\", \"007\", \"008\", \"009…\n",
      "$ DESBDT    \u001b[3m\u001b[90m<chr>\u001b[39m\u001b[23m \"Abrantes\", \"Acacias\", \"Adelfas\", \"Alameda\", \"Alameda de Osu…\n",
      "$ geometry  \u001b[3m\u001b[90m<MULTIPOLYGON [°]>\u001b[39m\u001b[23m MULTIPOLYGON (((-3.718306 4..., MULTIPOLYGON ((…\n"
     ]
    }
   ],
   "source": [
    "glimpse(data)"
   ]
  },
  {
   "attachments": {},
   "cell_type": "markdown",
   "metadata": {},
   "source": [
    "Muestra de datos:"
   ]
  },
  {
   "cell_type": "code",
   "execution_count": 88,
   "metadata": {
    "vscode": {
     "languageId": "r"
    }
   },
   "outputs": [
    {
     "data": {
      "application/geo+json": {
       "features": [
        {
         "geometry": {
          "coordinates": [
           [
            [
             [
              -3.7183,
              40.3852
             ],
             [
              -3.7181,
              40.3852
             ],
             [
              -3.7176,
              40.3852
             ],
             [
              -3.7175,
              40.3849
             ],
             [
              -3.7181,
              40.3833
             ],
             [
              -3.7184,
              40.3826
             ],
             [
              -3.7187,
              40.3814
             ],
             [
              -3.7189,
              40.3804
             ],
             [
              -3.7189,
              40.3803
             ],
             [
              -3.7189,
              40.3798
             ],
             [
              -3.7191,
              40.3784
             ],
             [
              -3.7196,
              40.3743
             ],
             [
              -3.7197,
              40.3737
             ],
             [
              -3.72,
              40.3737
             ],
             [
              -3.7219,
              40.3736
             ],
             [
              -3.7221,
              40.3736
             ],
             [
              -3.7222,
              40.3736
             ],
             [
              -3.7224,
              40.3736
             ],
             [
              -3.7226,
              40.3736
             ],
             [
              -3.7227,
              40.3736
             ],
             [
              -3.7227,
              40.3736
             ],
             [
              -3.7228,
              40.3736
             ],
             [
              -3.7228,
              40.3736
             ],
             [
              -3.723,
              40.3736
             ],
             [
              -3.7231,
              40.3735
             ],
             [
              -3.7233,
              40.3735
             ],
             [
              -3.7234,
              40.3735
             ],
             [
              -3.7237,
              40.3735
             ],
             [
              -3.7238,
              40.3735
             ],
             [
              -3.7239,
              40.3735
             ],
             [
              -3.724,
              40.3735
             ],
             [
              -3.7241,
              40.3735
             ],
             [
              -3.7242,
              40.3735
             ],
             [
              -3.7244,
              40.3735
             ],
             [
              -3.7245,
              40.3735
             ],
             [
              -3.7246,
              40.3735
             ],
             [
              -3.7247,
              40.3734
             ],
             [
              -3.7247,
              40.3735
             ],
             [
              -3.7249,
              40.3734
             ],
             [
              -3.7262,
              40.3734
             ],
             [
              -3.7276,
              40.3733
             ],
             [
              -3.7283,
              40.3732
             ],
             [
              -3.7284,
              40.3732
             ],
             [
              -3.7285,
              40.3732
             ],
             [
              -3.7287,
              40.3732
             ],
             [
              -3.7287,
              40.3732
             ],
             [
              -3.7288,
              40.3732
             ],
             [
              -3.729,
              40.3732
             ],
             [
              -3.7292,
              40.3733
             ],
             [
              -3.7294,
              40.3733
             ],
             [
              -3.73,
              40.3733
             ],
             [
              -3.7313,
              40.3734
             ],
             [
              -3.7327,
              40.3736
             ],
             [
              -3.7329,
              40.3736
             ],
             [
              -3.7329,
              40.3736
             ],
             [
              -3.7339,
              40.3737
             ],
             [
              -3.7344,
              40.3737
             ],
             [
              -3.7364,
              40.3739
             ],
             [
              -3.7364,
              40.374
             ],
             [
              -3.7363,
              40.374
             ],
             [
              -3.7362,
              40.3742
             ],
             [
              -3.7357,
              40.3747
             ],
             [
              -3.7356,
              40.3748
             ],
             [
              -3.7345,
              40.3758
             ],
             [
              -3.7344,
              40.3759
             ],
             [
              -3.7345,
              40.3759
             ],
             [
              -3.7354,
              40.3766
             ],
             [
              -3.7359,
              40.3769
             ],
             [
              -3.7366,
              40.3774
             ],
             [
              -3.7369,
              40.3776
             ],
             [
              -3.7371,
              40.3778
             ],
             [
              -3.7372,
              40.3778
             ],
             [
              -3.7364,
              40.3781
             ],
             [
              -3.7354,
              40.3784
             ],
             [
              -3.7353,
              40.3785
             ],
             [
              -3.735,
              40.3785
             ],
             [
              -3.7342,
              40.3788
             ],
             [
              -3.7336,
              40.379
             ],
             [
              -3.7326,
              40.3793
             ],
             [
              -3.7325,
              40.3795
             ],
             [
              -3.7323,
              40.3798
             ],
             [
              -3.7322,
              40.3799
             ],
             [
              -3.732,
              40.3801
             ],
             [
              -3.7313,
              40.3811
             ],
             [
              -3.7312,
              40.3811
             ],
             [
              -3.7308,
              40.3817
             ],
             [
              -3.7306,
              40.3819
             ],
             [
              -3.7304,
              40.3821
             ],
             [
              -3.7303,
              40.3822
             ],
             [
              -3.7301,
              40.3825
             ],
             [
              -3.73,
              40.3826
             ],
             [
              -3.7299,
              40.3827
             ],
             [
              -3.7298,
              40.3828
             ],
             [
              -3.7296,
              40.3832
             ],
             [
              -3.7293,
              40.3836
             ],
             [
              -3.7293,
              40.3836
             ],
             [
              -3.7292,
              40.3837
             ],
             [
              -3.7287,
              40.3845
             ],
             [
              -3.7286,
              40.3847
             ],
             [
              -3.7283,
              40.3851
             ],
             [
              -3.728,
              40.3856
             ],
             [
              -3.7279,
              40.3856
             ],
             [
              -3.7279,
              40.3857
             ],
             [
              -3.7278,
              40.3861
             ],
             [
              -3.7278,
              40.3861
             ],
             [
              -3.7277,
              40.3863
             ],
             [
              -3.7276,
              40.3862
             ],
             [
              -3.7275,
              40.3862
             ],
             [
              -3.7273,
              40.3861
             ],
             [
              -3.7272,
              40.3861
             ],
             [
              -3.7271,
              40.386
             ],
             [
              -3.7269,
              40.386
             ],
             [
              -3.7267,
              40.3859
             ],
             [
              -3.7266,
              40.3859
             ],
             [
              -3.726,
              40.3858
             ],
             [
              -3.726,
              40.3858
             ],
             [
              -3.7258,
              40.3858
             ],
             [
              -3.725,
              40.3856
             ],
             [
              -3.7247,
              40.3856
             ],
             [
              -3.7244,
              40.3855
             ],
             [
              -3.7239,
              40.3855
             ],
             [
              -3.7237,
              40.3854
             ],
             [
              -3.7236,
              40.3854
             ],
             [
              -3.7234,
              40.3854
             ],
             [
              -3.7228,
              40.3853
             ],
             [
              -3.7225,
              40.3853
             ],
             [
              -3.7218,
              40.3852
             ],
             [
              -3.7215,
              40.3852
             ],
             [
              -3.7208,
              40.3852
             ],
             [
              -3.7199,
              40.3852
             ],
             [
              -3.7198,
              40.3852
             ],
             [
              -3.7192,
              40.3852
             ],
             [
              -3.7183,
              40.3852
             ]
            ]
           ]
          ],
          "type": "MultiPolygon"
         },
         "properties": {
          "CODBDT": 686213,
          "DESBDT": "Abrantes",
          "GEOCODIGO": "001"
         },
         "type": "Feature"
        },
        {
         "geometry": {
          "coordinates": [
           [
            [
             [
              -3.708,
              40.4036
             ],
             [
              -3.7079,
              40.4035
             ],
             [
              -3.7072,
              40.4037
             ],
             [
              -3.7065,
              40.4039
             ],
             [
              -3.7064,
              40.4037
             ],
             [
              -3.7062,
              40.4034
             ],
             [
              -3.7058,
              40.4029
             ],
             [
              -3.7056,
              40.4026
             ],
             [
              -3.7051,
              40.4018
             ],
             [
              -3.705,
              40.4018
             ],
             [
              -3.7047,
              40.4013
             ],
             [
              -3.7046,
              40.4012
             ],
             [
              -3.7045,
              40.4011
             ],
             [
              -3.7044,
              40.401
             ],
             [
              -3.7041,
              40.4005
             ],
             [
              -3.704,
              40.4004
             ],
             [
              -3.7032,
              40.3993
             ],
             [
              -3.7031,
              40.3992
             ],
             [
              -3.7026,
              40.3984
             ],
             [
              -3.7023,
              40.398
             ],
             [
              -3.7023,
              40.398
             ],
             [
              -3.7021,
              40.3978
             ],
             [
              -3.7023,
              40.3977
             ],
             [
              -3.7026,
              40.3973
             ],
             [
              -3.7027,
              40.3972
             ],
             [
              -3.7032,
              40.3967
             ],
             [
              -3.7034,
              40.3964
             ],
             [
              -3.7039,
              40.3959
             ],
             [
              -3.7044,
              40.3953
             ],
             [
              -3.7046,
              40.3951
             ],
             [
              -3.7057,
              40.3954
             ],
             [
              -3.7066,
              40.3956
             ],
             [
              -3.7073,
              40.3958
             ],
             [
              -3.7075,
              40.3959
             ],
             [
              -3.7089,
              40.3963
             ],
             [
              -3.7103,
              40.3968
             ],
             [
              -3.7114,
              40.3973
             ],
             [
              -3.7121,
              40.3979
             ],
             [
              -3.7141,
              40.3994
             ],
             [
              -3.7149,
              40.3997
             ],
             [
              -3.7147,
              40.4
             ],
             [
              -3.7146,
              40.4002
             ],
             [
              -3.7145,
              40.4004
             ],
             [
              -3.7145,
              40.4005
             ],
             [
              -3.7142,
              40.4011
             ],
             [
              -3.7142,
              40.4012
             ],
             [
              -3.7137,
              40.4021
             ],
             [
              -3.7132,
              40.4033
             ],
             [
              -3.7131,
              40.4035
             ],
             [
              -3.7125,
              40.4047
             ],
             [
              -3.7125,
              40.4047
             ],
             [
              -3.7125,
              40.4048
             ],
             [
              -3.7119,
              40.4061
             ],
             [
              -3.7118,
              40.4063
             ],
             [
              -3.7116,
              40.4067
             ],
             [
              -3.7112,
              40.4065
             ],
             [
              -3.7109,
              40.4065
             ],
             [
              -3.7095,
              40.4062
             ],
             [
              -3.7083,
              40.406
             ],
             [
              -3.7084,
              40.4059
             ],
             [
              -3.7083,
              40.4054
             ],
             [
              -3.7082,
              40.4051
             ],
             [
              -3.7082,
              40.4049
             ],
             [
              -3.7082,
              40.4048
             ],
             [
              -3.708,
              40.4036
             ]
            ]
           ]
          ],
          "type": "MultiPolygon"
         },
         "properties": {
          "CODBDT": 686214,
          "DESBDT": "Acacias",
          "GEOCODIGO": "002"
         },
         "type": "Feature"
        },
        {
         "geometry": {
          "coordinates": [
           [
            [
             [
              -3.6664,
              40.4042
             ],
             [
              -3.6669,
              40.4032
             ],
             [
              -3.6675,
              40.4014
             ],
             [
              -3.6677,
              40.4007
             ],
             [
              -3.6678,
              40.4006
             ],
             [
              -3.6679,
              40.4002
             ],
             [
              -3.6683,
              40.3996
             ],
             [
              -3.6684,
              40.3995
             ],
             [
              -3.6684,
              40.3995
             ],
             [
              -3.669,
              40.3988
             ],
             [
              -3.6691,
              40.3986
             ],
             [
              -3.6693,
              40.3984
             ],
             [
              -3.6695,
              40.3981
             ],
             [
              -3.6699,
              40.3977
             ],
             [
              -3.6699,
              40.3976
             ],
             [
              -3.6704,
              40.397
             ],
             [
              -3.6705,
              40.3969
             ],
             [
              -3.6708,
              40.3966
             ],
             [
              -3.6709,
              40.3964
             ],
             [
              -3.6711,
              40.3963
             ],
             [
              -3.6714,
              40.3959
             ],
             [
              -3.6719,
              40.3955
             ],
             [
              -3.6719,
              40.3955
             ],
             [
              -3.672,
              40.3954
             ],
             [
              -3.6723,
              40.3951
             ],
             [
              -3.6727,
              40.3949
             ],
             [
              -3.6731,
              40.3946
             ],
             [
              -3.6735,
              40.3944
             ],
             [
              -3.6736,
              40.3946
             ],
             [
              -3.6736,
              40.3948
             ],
             [
              -3.6738,
              40.3952
             ],
             [
              -3.6739,
              40.3954
             ],
             [
              -3.6744,
              40.397
             ],
             [
              -3.6748,
              40.3975
             ],
             [
              -3.6749,
              40.3977
             ],
             [
              -3.6751,
              40.3979
             ],
             [
              -3.6766,
              40.3993
             ],
             [
              -3.6773,
              40.3998
             ],
             [
              -3.6783,
              40.4003
             ],
             [
              -3.679,
              40.401
             ],
             [
              -3.6795,
              40.4011
             ],
             [
              -3.681,
              40.4019
             ],
             [
              -3.6811,
              40.4019
             ],
             [
              -3.6822,
              40.4023
             ],
             [
              -3.6844,
              40.4032
             ],
             [
              -3.6846,
              40.4033
             ],
             [
              -3.684,
              40.4042
             ],
             [
              -3.6839,
              40.4042
             ],
             [
              -3.6835,
              40.404
             ],
             [
              -3.6817,
              40.4033
             ],
             [
              -3.6816,
              40.4033
             ],
             [
              -3.6814,
              40.4032
             ],
             [
              -3.681,
              40.403
             ],
             [
              -3.6805,
              40.4028
             ],
             [
              -3.6794,
              40.4023
             ],
             [
              -3.6787,
              40.4031
             ],
             [
              -3.6786,
              40.4032
             ],
             [
              -3.6785,
              40.4034
             ],
             [
              -3.6778,
              40.4042
             ],
             [
              -3.6777,
              40.4041
             ],
             [
              -3.6768,
              40.4037
             ],
             [
              -3.6767,
              40.4036
             ],
             [
              -3.6759,
              40.4046
             ],
             [
              -3.6757,
              40.4045
             ],
             [
              -3.6752,
              40.4043
             ],
             [
              -3.675,
              40.4042
             ],
             [
              -3.6748,
              40.4041
             ],
             [
              -3.6747,
              40.404
             ],
             [
              -3.6746,
              40.4039
             ],
             [
              -3.6733,
              40.4033
             ],
             [
              -3.6731,
              40.4032
             ],
             [
              -3.673,
              40.4033
             ],
             [
              -3.673,
              40.4033
             ],
             [
              -3.673,
              40.4033
             ],
             [
              -3.6723,
              40.404
             ],
             [
              -3.6721,
              40.4042
             ],
             [
              -3.672,
              40.4043
             ],
             [
              -3.6713,
              40.4051
             ],
             [
              -3.671,
              40.4055
             ],
             [
              -3.6708,
              40.4057
             ],
             [
              -3.6704,
              40.4062
             ],
             [
              -3.6703,
              40.4064
             ],
             [
              -3.6702,
              40.4067
             ],
             [
              -3.6695,
              40.4066
             ],
             [
              -3.6689,
              40.4066
             ],
             [
              -3.6658,
              40.4064
             ],
             [
              -3.6652,
              40.4063
             ],
             [
              -3.6654,
              40.4059
             ],
             [
              -3.6657,
              40.4054
             ],
             [
              -3.666,
              40.4049
             ],
             [
              -3.666,
              40.4048
             ],
             [
              -3.6661,
              40.4047
             ],
             [
              -3.6661,
              40.4046
             ],
             [
              -3.6662,
              40.4045
             ],
             [
              -3.6662,
              40.4044
             ],
             [
              -3.6664,
              40.4042
             ]
            ]
           ]
          ],
          "type": "MultiPolygon"
         },
         "properties": {
          "CODBDT": 686215,
          "DESBDT": "Adelfas",
          "GEOCODIGO": "003"
         },
         "type": "Feature"
        },
        {
         "geometry": {
          "coordinates": [
           [
            [
             [
              -3.6995,
              40.4126
             ],
             [
              -3.6992,
              40.4124
             ],
             [
              -3.6991,
              40.4124
             ],
             [
              -3.6987,
              40.4122
             ],
             [
              -3.6986,
              40.4123
             ],
             [
              -3.6983,
              40.4132
             ],
             [
              -3.6982,
              40.4132
             ],
             [
              -3.6979,
              40.4131
             ],
             [
              -3.6974,
              40.413
             ],
             [
              -3.6971,
              40.4129
             ],
             [
              -3.6971,
              40.4129
             ],
             [
              -3.6971,
              40.4129
             ],
             [
              -3.697,
              40.4132
             ],
             [
              -3.697,
              40.4133
             ],
             [
              -3.6969,
              40.4133
             ],
             [
              -3.6969,
              40.4136
             ],
             [
              -3.6969,
              40.4137
             ],
             [
              -3.6969,
              40.4137
             ],
             [
              -3.6967,
              40.4137
             ],
             [
              -3.6958,
              40.4137
             ],
             [
              -3.6957,
              40.4137
             ],
             [
              -3.6956,
              40.4137
             ],
             [
              -3.6956,
              40.4137
             ],
             [
              -3.6955,
              40.4137
             ],
             [
              -3.6954,
              40.4137
             ],
             [
              -3.6954,
              40.4137
             ],
             [
              -3.6949,
              40.4137
             ],
             [
              -3.6947,
              40.4138
             ],
             [
              -3.6941,
              40.4139
             ],
             [
              -3.694,
              40.4139
             ],
             [
              -3.6932,
              40.414
             ],
             [
              -3.693,
              40.4126
             ],
             [
              -3.6927,
              40.4115
             ],
             [
              -3.6925,
              40.4109
             ],
             [
              -3.6923,
              40.41
             ],
             [
              -3.6922,
              40.4097
             ],
             [
              -3.6925,
              40.4097
             ],
             [
              -3.6923,
              40.4092
             ],
             [
              -3.6922,
              40.409
             ],
             [
              -3.6929,
              40.4082
             ],
             [
              -3.6931,
              40.4079
             ],
             [
              -3.6932,
              40.4078
             ],
             [
              -3.694,
              40.4074
             ],
             [
              -3.6943,
              40.4073
             ],
             [
              -3.6955,
              40.407
             ],
             [
              -3.6962,
              40.4068
             ],
             [
              -3.6979,
              40.4063
             ],
             [
              -3.6994,
              40.4059
             ],
             [
              -3.6994,
              40.406
             ],
             [
              -3.6999,
              40.4068
             ],
             [
              -3.7,
              40.4069
             ],
             [
              -3.7003,
              40.4074
             ],
             [
              -3.7002,
              40.4074
             ],
             [
              -3.7001,
              40.4074
             ],
             [
              -3.7001,
              40.4074
             ],
             [
              -3.7001,
              40.4075
             ],
             [
              -3.7001,
              40.4075
             ],
             [
              -3.6999,
              40.4078
             ],
             [
              -3.6997,
              40.4082
             ],
             [
              -3.6997,
              40.4083
             ],
             [
              -3.6996,
              40.4084
             ],
             [
              -3.6994,
              40.4088
             ],
             [
              -3.6993,
              40.4089
             ],
             [
              -3.6993,
              40.4089
             ],
             [
              -3.6993,
              40.4089
             ],
             [
              -3.6998,
              40.4089
             ],
             [
              -3.6999,
              40.409
             ],
             [
              -3.6999,
              40.409
             ],
             [
              -3.6999,
              40.409
             ],
             [
              -3.7001,
              40.409
             ],
             [
              -3.7001,
              40.409
             ],
             [
              -3.7001,
              40.409
             ],
             [
              -3.6999,
              40.4092
             ],
             [
              -3.6996,
              40.4095
             ],
             [
              -3.6995,
              40.4097
             ],
             [
              -3.6992,
              40.41
             ],
             [
              -3.6991,
              40.41
             ],
             [
              -3.6991,
              40.41
             ],
             [
              -3.6991,
              40.41
             ],
             [
              -3.6993,
              40.4101
             ],
             [
              -3.6994,
              40.4102
             ],
             [
              -3.6994,
              40.4103
             ],
             [
              -3.6994,
              40.4103
             ],
             [
              -3.6995,
              40.4103
             ],
             [
              -3.6996,
              40.4102
             ],
             [
              -3.6996,
              40.4101
             ],
             [
              -3.6998,
              40.41
             ],
             [
              -3.6999,
              40.4099
             ],
             [
              -3.6999,
              40.4099
             ],
             [
              -3.7004,
              40.4099
             ],
             [
              -3.7004,
              40.4099
             ],
             [
              -3.7005,
              40.4092
             ],
             [
              -3.7005,
              40.4092
             ],
             [
              -3.7009,
              40.4092
             ],
             [
              -3.701,
              40.4092
             ],
             [
              -3.701,
              40.41
             ],
             [
              -3.701,
              40.4102
             ],
             [
              -3.701,
              40.4102
             ],
             [
              -3.7009,
              40.4105
             ],
             [
              -3.701,
              40.4105
             ],
             [
              -3.7016,
              40.4104
             ],
             [
              -3.7017,
              40.4104
             ],
             [
              -3.7021,
              40.4103
             ],
             [
              -3.7024,
              40.4103
             ],
             [
              -3.7025,
              40.4102
             ],
             [
              -3.7027,
              40.4102
             ],
             [
              -3.7028,
              40.4105
             ],
             [
              -3.7032,
              40.4109
             ],
             [
              -3.7033,
              40.411
             ],
             [
              -3.7033,
              40.4109
             ],
             [
              -3.7039,
              40.4108
             ],
             [
              -3.7039,
              40.4108
             ],
             [
              -3.7039,
              40.4108
             ],
             [
              -3.7043,
              40.4111
             ],
             [
              -3.7043,
              40.4112
             ],
             [
              -3.7043,
              40.4112
             ],
             [
              -3.7042,
              40.4112
             ],
             [
              -3.7041,
              40.4113
             ],
             [
              -3.704,
              40.4114
             ],
             [
              -3.7039,
              40.4114
             ],
             [
              -3.7039,
              40.4114
             ],
             [
              -3.7036,
              40.4112
             ],
             [
              -3.7036,
              40.4112
             ],
             [
              -3.7036,
              40.4112
             ],
             [
              -3.7034,
              40.4113
             ],
             [
              -3.703,
              40.4114
             ],
             [
              -3.7029,
              40.4114
             ],
             [
              -3.7029,
              40.4114
             ],
             [
              -3.7031,
              40.4118
             ],
             [
              -3.7031,
              40.4119
             ],
             [
              -3.7031,
              40.4119
             ],
             [
              -3.7032,
              40.4122
             ],
             [
              -3.7032,
              40.4124
             ],
             [
              -3.7032,
              40.4124
             ],
             [
              -3.7033,
              40.4125
             ],
             [
              -3.7035,
              40.4124
             ],
             [
              -3.7034,
              40.4126
             ],
             [
              -3.7029,
              40.4137
             ],
             [
              -3.7029,
              40.4138
             ],
             [
              -3.7028,
              40.4139
             ],
             [
              -3.7022,
              40.4137
             ],
             [
              -3.7017,
              40.4135
             ],
             [
              -3.7015,
              40.4134
             ],
             [
              -3.7008,
              40.4132
             ],
             [
              -3.7001,
              40.4129
             ],
             [
              -3.6999,
              40.4128
             ],
             [
              -3.6997,
              40.4127
             ],
             [
              -3.6995,
              40.4126
             ]
            ]
           ]
          ],
          "type": "MultiPolygon"
         },
         "properties": {
          "CODBDT": 686216,
          "DESBDT": "Alameda",
          "GEOCODIGO": "004"
         },
         "type": "Feature"
        },
        {
         "geometry": {
          "coordinates": [
           [
            [
             [
              -3.5616,
              40.5107
             ],
             [
              -3.5616,
              40.5107
             ],
             [
              -3.5616,
              40.5107
             ],
             [
              -3.5616,
              40.5107
             ],
             [
              -3.5607,
              40.5109
             ],
             [
              -3.5602,
              40.5109
             ],
             [
              -3.559,
              40.5112
             ],
             [
              -3.5585,
              40.5112
             ],
             [
              -3.5577,
              40.5113
             ],
             [
              -3.5569,
              40.5113
             ],
             [
              -3.5561,
              40.5113
             ],
             [
              -3.5554,
              40.5113
             ],
             [
              -3.5548,
              40.5113
             ],
             [
              -3.5543,
              40.5113
             ],
             [
              -3.5544,
              40.5108
             ],
             [
              -3.5551,
              40.5088
             ],
             [
              -3.5551,
              40.5086
             ],
             [
              -3.5551,
              40.5084
             ],
             [
              -3.5549,
              40.5055
             ],
             [
              -3.5552,
              40.5032
             ],
             [
              -3.5548,
              40.503
             ],
             [
              -3.5534,
              40.5025
             ],
             [
              -3.5536,
              40.5022
             ],
             [
              -3.5536,
              40.5021
             ],
             [
              -3.5536,
              40.5021
             ],
             [
              -3.5536,
              40.502
             ],
             [
              -3.5536,
              40.5019
             ],
             [
              -3.5536,
              40.5018
             ],
             [
              -3.5535,
              40.5016
             ],
             [
              -3.5535,
              40.5016
             ],
             [
              -3.5535,
              40.5015
             ],
             [
              -3.5535,
              40.5013
             ],
             [
              -3.5534,
              40.5011
             ],
             [
              -3.5534,
              40.501
             ],
             [
              -3.5534,
              40.501
             ],
             [
              -3.5534,
              40.5006
             ],
             [
              -3.5533,
              40.5002
             ],
             [
              -3.5533,
              40.5001
             ],
             [
              -3.5533,
              40.5
             ],
             [
              -3.5533,
              40.4999
             ],
             [
              -3.5532,
              40.4998
             ],
             [
              -3.5532,
              40.4997
             ],
             [
              -3.5531,
              40.4997
             ],
             [
              -3.553,
              40.4996
             ],
             [
              -3.553,
              40.4996
             ],
             [
              -3.5529,
              40.4995
             ],
             [
              -3.5528,
              40.4993
             ],
             [
              -3.5528,
              40.4993
             ],
             [
              -3.5524,
              40.499
             ],
             [
              -3.552,
              40.4988
             ],
             [
              -3.5518,
              40.4986
             ],
             [
              -3.5511,
              40.4982
             ],
             [
              -3.5506,
              40.4979
             ],
             [
              -3.5502,
              40.4978
             ],
             [
              -3.5497,
              40.4976
             ],
             [
              -3.549,
              40.4974
             ],
             [
              -3.5486,
              40.4972
             ],
             [
              -3.5485,
              40.4972
             ],
             [
              -3.5479,
              40.497
             ],
             [
              -3.5475,
              40.4969
             ],
             [
              -3.5472,
              40.4968
             ],
             [
              -3.5469,
              40.4967
             ],
             [
              -3.5465,
              40.4966
             ],
             [
              -3.5461,
              40.4964
             ],
             [
              -3.5459,
              40.4963
             ],
             [
              -3.5455,
              40.4961
             ],
             [
              -3.5452,
              40.496
             ],
             [
              -3.5446,
              40.4958
             ],
             [
              -3.5445,
              40.4958
             ],
             [
              -3.5443,
              40.4957
             ],
             [
              -3.5442,
              40.4957
             ],
             [
              -3.544,
              40.4956
             ],
             [
              -3.544,
              40.4956
             ],
             [
              -3.5436,
              40.4954
             ],
             [
              -3.5433,
              40.4951
             ],
             [
              -3.543,
              40.4949
             ],
             [
              -3.5427,
              40.4947
             ],
             [
              -3.5425,
              40.4946
             ],
             [
              -3.5422,
              40.4945
             ],
             [
              -3.5421,
              40.4944
             ],
             [
              -3.542,
              40.4943
             ],
             [
              -3.5419,
              40.4942
             ],
             [
              -3.5418,
              40.4941
             ],
             [
              -3.5417,
              40.494
             ],
             [
              -3.5417,
              40.4939
             ],
             [
              -3.5417,
              40.4938
             ],
             [
              -3.5417,
              40.4937
             ],
             [
              -3.5417,
              40.4937
             ],
             [
              -3.5418,
              40.4933
             ],
             [
              -3.5418,
              40.4933
             ],
             [
              -3.5418,
              40.4931
             ],
             [
              -3.5418,
              40.4929
             ],
             [
              -3.5418,
              40.4928
             ],
             [
              -3.5418,
              40.4926
             ],
             [
              -3.5417,
              40.4924
             ],
             [
              -3.5417,
              40.4923
             ],
             [
              -3.5416,
              40.4922
             ],
             [
              -3.5415,
              40.4921
             ],
             [
              -3.5415,
              40.492
             ],
             [
              -3.5414,
              40.4919
             ],
             [
              -3.5414,
              40.4918
             ],
             [
              -3.5413,
              40.4917
             ],
             [
              -3.5413,
              40.4916
             ],
             [
              -3.5412,
              40.4915
             ],
             [
              -3.5412,
              40.4914
             ],
             [
              -3.5412,
              40.4913
             ],
             [
              -3.5412,
              40.491
             ],
             [
              -3.5412,
              40.491
             ],
             [
              -3.5412,
              40.4908
             ],
             [
              -3.5412,
              40.4905
             ],
             [
              -3.5412,
              40.4902
             ],
             [
              -3.5412,
              40.4901
             ],
             [
              -3.5412,
              40.4897
             ],
             [
              -3.5411,
              40.4893
             ],
             [
              -3.5411,
              40.4891
             ],
             [
              -3.5411,
              40.4888
             ],
             [
              -3.541,
              40.4887
             ],
             [
              -3.541,
              40.4886
             ],
             [
              -3.541,
              40.4886
             ],
             [
              -3.5409,
              40.4885
             ],
             [
              -3.5409,
              40.4885
             ],
             [
              -3.5409,
              40.4885
             ],
             [
              -3.5409,
              40.4885
             ],
             [
              -3.5408,
              40.4884
             ],
             [
              -3.5408,
              40.4884
             ],
             [
              -3.5405,
              40.4883
             ],
             [
              -3.5401,
              40.4882
             ],
             [
              -3.54,
              40.4882
             ],
             [
              -3.5399,
              40.4881
             ],
             [
              -3.5395,
              40.4879
             ],
             [
              -3.5394,
              40.4878
             ],
             [
              -3.5387,
              40.4875
             ],
             [
              -3.5383,
              40.4873
             ],
             [
              -3.5382,
              40.4872
             ],
             [
              -3.5375,
              40.4869
             ],
             [
              -3.5374,
              40.4868
             ],
             [
              -3.5373,
              40.4867
             ],
             [
              -3.5371,
              40.4866
             ],
             [
              -3.537,
              40.4865
             ],
             [
              -3.537,
              40.4865
             ],
             [
              -3.5369,
              40.4864
             ],
             [
              -3.5369,
              40.4864
             ],
             [
              -3.5369,
              40.4863
             ],
             [
              -3.5369,
              40.4863
             ],
             [
              -3.5369,
              40.4862
             ],
             [
              -3.5369,
              40.4861
             ],
             [
              -3.537,
              40.4861
             ],
             [
              -3.537,
              40.4859
             ],
             [
              -3.5371,
              40.4857
             ],
             [
              -3.5372,
              40.4855
             ],
             [
              -3.5372,
              40.4852
             ],
             [
              -3.5373,
              40.4848
             ],
             [
              -3.5373,
              40.4848
             ],
             [
              -3.5373,
              40.4847
             ],
             [
              -3.5373,
              40.4845
             ],
             [
              -3.5373,
              40.4844
             ],
             [
              -3.5373,
              40.4843
             ],
             [
              -3.5372,
              40.4843
             ],
             [
              -3.5372,
              40.4842
             ],
             [
              -3.5371,
              40.4841
             ],
             [
              -3.5371,
              40.4839
             ],
             [
              -3.5368,
              40.4835
             ],
             [
              -3.536,
              40.4825
             ],
             [
              -3.5359,
              40.4823
             ],
             [
              -3.5358,
              40.4822
             ],
             [
              -3.5356,
              40.4818
             ],
             [
              -3.5354,
              40.4813
             ],
             [
              -3.5351,
              40.4807
             ],
             [
              -3.535,
              40.4804
             ],
             [
              -3.5349,
              40.4799
             ],
             [
              -3.5348,
              40.4797
             ],
             [
              -3.5348,
              40.4797
             ],
             [
              -3.5348,
              40.4797
             ],
             [
              -3.5349,
              40.4796
             ],
             [
              -3.5349,
              40.4794
             ],
             [
              -3.5349,
              40.4793
             ],
             [
              -3.5349,
              40.4793
             ],
             [
              -3.5349,
              40.4792
             ],
             [
              -3.5349,
              40.4792
             ],
             [
              -3.5348,
              40.479
             ],
             [
              -3.5348,
              40.4789
             ],
             [
              -3.5348,
              40.4788
             ],
             [
              -3.5347,
              40.4787
             ],
             [
              -3.5347,
              40.4786
             ],
             [
              -3.5347,
              40.4786
             ],
             [
              -3.5347,
              40.4786
             ],
             [
              -3.5348,
              40.4785
             ],
             [
              -3.5348,
              40.4784
             ],
             [
              -3.5348,
              40.4783
             ],
             [
              -3.5348,
              40.4781
             ],
             [
              -3.5348,
              40.4779
             ],
             [
              -3.5347,
              40.4778
             ],
             [
              -3.5347,
              40.4775
             ],
             [
              -3.5346,
              40.4773
             ],
             [
              -3.5346,
              40.4773
             ],
             [
              -3.5346,
              40.4772
             ],
             [
              -3.5346,
              40.4769
             ],
             [
              -3.5345,
              40.4765
             ],
             [
              -3.5345,
              40.4756
             ],
             [
              -3.5345,
              40.475
             ],
             [
              -3.5344,
              40.4743
             ],
             [
              -3.5344,
              40.4738
             ],
             [
              -3.5344,
              40.4732
             ],
             [
              -3.5343,
              40.473
             ],
             [
              -3.5343,
              40.4728
             ],
             [
              -3.5343,
              40.4727
             ],
             [
              -3.5343,
              40.4726
             ],
             [
              -3.5342,
              40.4724
             ],
             [
              -3.5341,
              40.4723
             ],
             [
              -3.534,
              40.4721
             ],
             [
              -3.5339,
              40.472
             ],
             [
              -3.5339,
              40.4719
             ],
             [
              -3.5337,
              40.4718
             ],
             [
              -3.5335,
              40.4717
             ],
             [
              -3.5334,
              40.4716
             ],
             [
              -3.5333,
              40.4715
             ],
             [
              -3.5331,
              40.4715
             ],
             [
              -3.5329,
              40.4714
             ],
             [
              -3.5326,
              40.4714
             ],
             [
              -3.5324,
              40.4714
             ],
             [
              -3.5317,
              40.4713
             ],
             [
              -3.5312,
              40.4713
             ],
             [
              -3.5308,
              40.4713
             ],
             [
              -3.5304,
              40.4712
             ],
             [
              -3.53,
              40.471
             ],
             [
              -3.5296,
              40.4709
             ],
             [
              -3.5292,
              40.4708
             ],
             [
              -3.5288,
              40.4708
             ],
             [
              -3.5285,
              40.4707
             ],
             [
              -3.5281,
              40.4706
             ],
             [
              -3.5276,
              40.4706
             ],
             [
              -3.5273,
              40.4705
             ],
             [
              -3.5271,
              40.4705
             ],
             [
              -3.5269,
              40.4704
             ],
             [
              -3.5268,
              40.4704
             ],
             [
              -3.5266,
              40.4703
             ],
             [
              -3.5263,
              40.4701
             ],
             [
              -3.526,
              40.47
             ],
             [
              -3.5258,
              40.4698
             ],
             [
              -3.5256,
              40.4697
             ],
             [
              -3.5254,
              40.4695
             ],
             [
              -3.5252,
              40.4694
             ],
             [
              -3.5251,
              40.4693
             ],
             [
              -3.525,
              40.4693
             ],
             [
              -3.525,
              40.4692
             ],
             [
              -3.525,
              40.4691
             ],
             [
              -3.5249,
              40.469
             ],
             [
              -3.5249,
              40.469
             ],
             [
              -3.5249,
              40.4689
             ],
             [
              -3.5249,
              40.4688
             ],
             [
              -3.5249,
              40.4685
             ],
             [
              -3.5249,
              40.4685
             ],
             [
              -3.525,
              40.4682
             ],
             [
              -3.525,
              40.4679
             ],
             [
              -3.5251,
              40.4677
             ],
             [
              -3.5251,
              40.4676
             ],
             [
              -3.5252,
              40.4675
             ],
             [
              -3.5253,
              40.4674
             ],
             [
              -3.5254,
              40.4672
             ],
             [
              -3.5256,
              40.467
             ],
             [
              -3.5259,
              40.4666
             ],
             [
              -3.5261,
              40.4664
             ],
             [
              -3.5263,
              40.4661
             ],
             [
              -3.5265,
              40.466
             ],
             [
              -3.5266,
              40.4659
             ],
             [
              -3.5269,
              40.4657
             ],
             [
              -3.5271,
              40.4654
             ],
             [
              -3.5275,
              40.4652
             ],
             [
              -3.5277,
              40.465
             ],
             [
              -3.5278,
              40.4648
             ],
             [
              -3.528,
              40.4645
             ],
             [
              -3.5283,
              40.4642
             ],
             [
              -3.5285,
              40.4638
             ],
             [
              -3.5287,
              40.4636
             ],
             [
              -3.5288,
              40.4635
             ],
             [
              -3.5288,
              40.4633
             ],
             [
              -3.5289,
              40.4631
             ],
             [
              -3.529,
              40.463
             ],
             [
              -3.5291,
              40.4625
             ],
             [
              -3.5292,
              40.462
             ],
             [
              -3.5293,
              40.4617
             ],
             [
              -3.5294,
              40.4613
             ],
             [
              -3.5295,
              40.461
             ],
             [
              -3.5296,
              40.4607
             ],
             [
              -3.5296,
              40.4605
             ],
             [
              -3.5296,
              40.4604
             ],
             [
              -3.5295,
              40.4603
             ],
             [
              -3.5295,
              40.4601
             ],
             [
              -3.5294,
              40.4596
             ],
             [
              -3.5293,
              40.4592
             ],
             [
              -3.5292,
              40.4588
             ],
             [
              -3.5291,
              40.4585
             ],
             [
              -3.529,
              40.4584
             ],
             [
              -3.5286,
              40.4581
             ],
             [
              -3.5281,
              40.4576
             ],
             [
              -3.5277,
              40.4573
             ],
             [
              -3.5276,
              40.4572
             ],
             [
              -3.5274,
              40.457
             ],
             [
              -3.5272,
              40.4569
             ],
             [
              -3.5272,
              40.4569
             ],
             [
              -3.5272,
              40.4568
             ],
             [
              -3.527,
              40.4567
             ],
             [
              -3.5269,
              40.4566
             ],
             [
              -3.5267,
              40.4563
             ],
             [
              -3.5266,
              40.4561
             ],
             [
              -3.5266,
              40.456
             ],
             [
              -3.5266,
              40.456
             ],
             [
              -3.5265,
              40.4558
             ],
             [
              -3.5265,
              40.4557
             ],
             [
              -3.5265,
              40.4557
             ],
             [
              -3.5264,
              40.4556
             ],
             [
              -3.5264,
              40.4555
             ],
             [
              -3.5265,
              40.4554
             ],
             [
              -3.5265,
              40.4554
             ],
             [
              -3.5265,
              40.4553
             ],
             [
              -3.5265,
              40.4553
             ],
             [
              -3.5266,
              40.4552
             ],
             [
              -3.5267,
              40.4551
             ],
             [
              -3.5267,
              40.455
             ],
             [
              -3.5267,
              40.455
             ],
             [
              -3.5268,
              40.455
             ],
             [
              -3.5269,
              40.455
             ],
             [
              -3.5271,
              40.4548
             ],
             [
              -3.5272,
              40.4548
             ],
             [
              -3.5273,
              40.4547
             ],
             [
              -3.5275,
              40.4546
             ],
             [
              -3.5276,
              40.4546
             ],
             [
              -3.5278,
              40.4545
             ],
             [
              -3.5279,
              40.4545
             ],
             [
              -3.5281,
              40.4545
             ],
             [
              -3.5282,
              40.4544
             ],
             [
              -3.5284,
              40.4544
             ],
             [
              -3.5288,
              40.4544
             ],
             [
              -3.5291,
              40.4543
             ],
             [
              -3.5291,
              40.4543
             ],
             [
              -3.5294,
              40.4543
             ],
             [
              -3.5298,
              40.4543
             ],
             [
              -3.5299,
              40.4543
             ],
             [
              -3.53,
              40.4543
             ],
             [
              -3.5301,
              40.4544
             ],
             [
              -3.5302,
              40.4544
             ],
             [
              -3.5304,
              40.4544
             ],
             [
              -3.5305,
              40.4544
             ],
             [
              -3.5305,
              40.4545
             ],
             [
              -3.5308,
              40.4546
             ],
             [
              -3.5309,
              40.4547
             ],
             [
              -3.531,
              40.4547
             ],
             [
              -3.5311,
              40.4547
             ],
             [
              -3.5311,
              40.4547
             ],
             [
              -3.5312,
              40.4547
             ],
             [
              -3.5313,
              40.4547
             ],
             [
              -3.5315,
              40.4547
             ],
             [
              -3.5318,
              40.4547
             ],
             [
              -3.5319,
              40.4547
             ],
             [
              -3.532,
              40.4547
             ],
             [
              -3.5321,
              40.4547
             ],
             [
              -3.5322,
              40.4547
             ],
             [
              -3.5323,
              40.4546
             ],
             [
              -3.5324,
              40.4546
             ],
             [
              -3.5326,
              40.4545
             ],
             [
              -3.5327,
              40.4544
             ],
             [
              -3.5328,
              40.4543
             ],
             [
              -3.5329,
              40.4542
             ],
             [
              -3.5332,
              40.454
             ],
             [
              -3.5336,
              40.4536
             ],
             [
              -3.534,
              40.4532
             ],
             [
              -3.5342,
              40.4529
             ],
             [
              -3.5344,
              40.4527
             ],
             [
              -3.5344,
              40.4527
             ],
             [
              -3.5345,
              40.4525
             ],
             [
              -3.5345,
              40.4524
             ],
             [
              -3.5345,
              40.4524
             ],
             [
              -3.5345,
              40.4524
             ],
             [
              -3.5346,
              40.4523
             ],
             [
              -3.5346,
              40.4522
             ],
             [
              -3.5345,
              40.452
             ],
             [
              -3.5345,
              40.452
             ],
             [
              -3.5345,
              40.4519
             ],
             [
              -3.5345,
              40.4519
             ],
             [
              -3.5344,
              40.4518
             ],
             [
              -3.5344,
              40.4517
             ],
             [
              -3.5342,
              40.4515
             ],
             [
              -3.5339,
              40.4511
             ],
             [
              -3.5335,
              40.4507
             ],
             [
              -3.5334,
              40.4506
             ],
             [
              -3.5334,
              40.4506
             ],
             [
              -3.5333,
              40.4504
             ],
             [
              -3.5332,
              40.4501
             ],
             [
              -3.5331,
              40.4498
             ],
             [
              -3.533,
              40.4495
             ],
             [
              -3.5328,
              40.4492
             ],
             [
              -3.5326,
              40.4488
             ],
             [
              -3.5323,
              40.4484
             ],
             [
              -3.5322,
              40.4481
             ],
             [
              -3.532,
              40.4478
             ],
             [
              -3.5318,
              40.4476
             ],
             [
              -3.5318,
              40.4476
             ],
             [
              -3.5315,
              40.4473
             ],
             [
              -3.5315,
              40.4473
             ],
             [
              -3.5313,
              40.447
             ],
             [
              -3.5323,
              40.4467
             ],
             [
              -3.5324,
              40.4467
             ],
             [
              -3.5331,
              40.4467
             ],
             [
              -3.5336,
              40.4466
             ],
             [
              -3.5343,
              40.4467
             ],
             [
              -3.5349,
              40.4467
             ],
             [
              -3.5354,
              40.4468
             ],
             [
              -3.536,
              40.447
             ],
             [
              -3.5373,
              40.4472
             ],
             [
              -3.5389,
              40.4474
             ],
             [
              -3.5402,
              40.4476
             ],
             [
              -3.5404,
              40.4476
             ],
             [
              -3.5422,
              40.4478
             ],
             [
              -3.5475,
              40.4484
             ],
             [
              -3.5505,
              40.4488
             ],
             [
              -3.5511,
              40.4488
             ],
             [
              -3.5514,
              40.4489
             ],
             [
              -3.5521,
              40.449
             ],
             [
              -3.5541,
              40.4492
             ],
             [
              -3.5554,
              40.4493
             ],
             [
              -3.5576,
              40.4495
             ],
             [
              -3.5577,
              40.4495
             ],
             [
              -3.5597,
              40.4495
             ],
             [
              -3.5602,
              40.4495
             ],
             [
              -3.5625,
              40.4496
             ],
             [
              -3.5636,
              40.4496
             ],
             [
              -3.5649,
              40.4496
             ],
             [
              -3.5665,
              40.4496
             ],
             [
              -3.5671,
              40.4497
             ],
             [
              -3.5677,
              40.4496
             ],
             [
              -3.5687,
              40.4497
             ],
             [
              -3.569,
              40.4497
             ],
             [
              -3.5704,
              40.4497
             ],
             [
              -3.5714,
              40.4497
             ],
             [
              -3.573,
              40.4497
             ],
             [
              -3.5737,
              40.4497
             ],
             [
              -3.5758,
              40.4497
             ],
             [
              -3.5802,
              40.4498
             ],
             [
              -3.5811,
              40.4498
             ],
             [
              -3.5823,
              40.4498
             ],
             [
              -3.5874,
              40.4499
             ],
             [
              -3.5884,
              40.4499
             ],
             [
              -3.5894,
              40.45
             ],
             [
              -3.5902,
              40.45
             ],
             [
              -3.5929,
              40.45
             ],
             [
              -3.5933,
              40.45
             ],
             [
              -3.595,
              40.4501
             ],
             [
              -3.5957,
              40.4501
             ],
             [
              -3.597,
              40.4501
             ],
             [
              -3.5977,
              40.4501
             ],
             [
              -3.6009,
              40.4501
             ],
             [
              -3.6034,
              40.4499
             ],
             [
              -3.6034,
              40.45
             ],
             [
              -3.6034,
              40.4501
             ],
             [
              -3.6034,
              40.4501
             ],
             [
              -3.6034,
              40.4502
             ],
             [
              -3.6035,
              40.4504
             ],
             [
              -3.6037,
              40.4514
             ],
             [
              -3.6038,
              40.4521
             ],
             [
              -3.6039,
              40.4522
             ],
             [
              -3.6039,
              40.4523
             ],
             [
              -3.6039,
              40.4523
             ],
             [
              -3.604,
              40.4524
             ],
             [
              -3.604,
              40.4525
             ],
             [
              -3.6041,
              40.4526
             ],
             [
              -3.6041,
              40.4526
             ],
             [
              -3.6041,
              40.4527
             ],
             [
              -3.6041,
              40.4527
             ],
             [
              -3.6042,
              40.4528
             ],
             [
              -3.6043,
              40.4529
             ],
             [
              -3.6043,
              40.453
             ],
             [
              -3.6044,
              40.453
             ],
             [
              -3.6044,
              40.4531
             ],
             [
              -3.6044,
              40.4531
             ],
             [
              -3.6045,
              40.4532
             ],
             [
              -3.6045,
              40.4533
             ],
             [
              -3.6046,
              40.4533
             ],
             [
              -3.6047,
              40.4534
             ],
             [
              -3.605,
              40.4532
             ],
             [
              -3.6052,
              40.4529
             ],
             [
              -3.6054,
              40.4528
             ],
             [
              -3.6062,
              40.4533
             ],
             [
              -3.6073,
              40.4537
             ],
             [
              -3.6075,
              40.4538
             ],
             [
              -3.6086,
              40.4542
             ],
             [
              -3.6091,
              40.4544
             ],
             [
              -3.6117,
              40.4552
             ],
             [
              -3.6121,
              40.4554
             ],
             [
              -3.6126,
              40.4556
             ],
             [
              -3.6136,
              40.4561
             ],
             [
              -3.6144,
              40.4566
             ],
             [
              -3.6168,
              40.458
             ],
             [
              -3.6173,
              40.4583
             ],
             [
              -3.6196,
              40.4595
             ],
             [
              -3.62,
              40.4597
             ],
             [
              -3.6206,
              40.4601
             ],
             [
              -3.6214,
              40.4607
             ],
             [
              -3.622,
              40.4612
             ],
             [
              -3.6224,
              40.4616
             ],
             [
              -3.6228,
              40.4621
             ],
             [
              -3.6232,
              40.4625
             ],
             [
              -3.6232,
              40.4626
             ],
             [
              -3.6234,
              40.4628
             ],
             [
              -3.6236,
              40.4631
             ],
             [
              -3.6237,
              40.4632
             ],
             [
              -3.624,
              40.4636
             ],
             [
              -3.6242,
              40.4639
             ],
             [
              -3.6256,
              40.4654
             ],
             [
              -3.6278,
              40.4682
             ],
             [
              -3.628,
              40.4685
             ],
             [
              -3.6274,
              40.4685
             ],
             [
              -3.6263,
              40.4686
             ],
             [
              -3.6259,
              40.4686
             ],
             [
              -3.6247,
              40.4687
             ],
             [
              -3.6246,
              40.4688
             ],
             [
              -3.6246,
              40.4688
             ],
             [
              -3.6245,
              40.4689
             ],
             [
              -3.6246,
              40.4692
             ],
             [
              -3.6247,
              40.4697
             ],
             [
              -3.6247,
              40.4699
             ],
             [
              -3.6244,
              40.471
             ],
             [
              -3.6239,
              40.4717
             ],
             [
              -3.6233,
              40.4724
             ],
             [
              -3.6181,
              40.4722
             ],
             [
              -3.6154,
              40.4721
             ],
             [
              -3.612,
              40.472
             ],
             [
              -3.6094,
              40.4719
             ],
             [
              -3.6082,
              40.4719
             ],
             [
              -3.6064,
              40.4716
             ],
             [
              -3.605,
              40.4711
             ],
             [
              -3.6042,
              40.4707
             ],
             [
              -3.6027,
              40.4702
             ],
             [
              -3.6009,
              40.4698
             ],
             [
              -3.599,
              40.4693
             ],
             [
              -3.5966,
              40.469
             ],
             [
              -3.5952,
              40.4689
             ],
             [
              -3.5946,
              40.4688
             ],
             [
              -3.592,
              40.4687
             ],
             [
              -3.5916,
              40.4687
             ],
             [
              -3.5911,
              40.4687
             ],
             [
              -3.5888,
              40.4686
             ],
             [
              -3.5864,
              40.4687
             ],
             [
              -3.5857,
              40.4686
             ],
             [
              -3.5847,
              40.4685
             ],
             [
              -3.5838,
              40.4684
             ],
             [
              -3.5833,
              40.4682
             ],
             [
              -3.5829,
              40.468
             ],
             [
              -3.5826,
              40.4678
             ],
             [
              -3.5822,
              40.4676
             ],
             [
              -3.5819,
              40.4673
             ],
             [
              -3.5818,
              40.4674
             ],
             [
              -3.5817,
              40.4677
             ],
             [
              -3.5814,
              40.4674
             ],
             [
              -3.5807,
              40.4677
             ],
             [
              -3.5806,
              40.4679
             ],
             [
              -3.5802,
              40.4682
             ],
             [
              -3.58,
              40.4686
             ],
             [
              -3.5799,
              40.4687
             ],
             [
              -3.5798,
              40.4689
             ],
             [
              -3.5797,
              40.4692
             ],
             [
              -3.5795,
              40.4694
             ],
             [
              -3.5794,
              40.4695
             ],
             [
              -3.5793,
              40.4697
             ],
             [
              -3.5792,
              40.4699
             ],
             [
              -3.579,
              40.47
             ],
             [
              -3.5788,
              40.4701
             ],
             [
              -3.5786,
              40.4703
             ],
             [
              -3.5785,
              40.4704
             ],
             [
              -3.5784,
              40.4705
             ],
             [
              -3.5776,
              40.4711
             ],
             [
              -3.5772,
              40.4714
             ],
             [
              -3.5769,
              40.4717
             ],
             [
              -3.5769,
              40.4716
             ],
             [
              -3.5768,
              40.4716
             ],
             [
              -3.5765,
              40.4715
             ],
             [
              -3.5764,
              40.4714
             ],
             [
              -3.576,
              40.4713
             ],
             [
              -3.5748,
              40.4716
             ],
             [
              -3.5748,
              40.472
             ],
             [
              -3.5746,
              40.4726
             ],
             [
              -3.5744,
              40.4734
             ],
             [
              -3.5744,
              40.4734
             ],
             [
              -3.5744,
              40.4735
             ],
             [
              -3.5744,
              40.4736
             ],
             [
              -3.5744,
              40.4737
             ],
             [
              -3.5744,
              40.4738
             ],
             [
              -3.5744,
              40.4739
             ],
             [
              -3.5744,
              40.4739
             ],
             [
              -3.5745,
              40.4743
             ],
             [
              -3.5746,
              40.4746
             ],
             [
              -3.5747,
              40.475
             ],
             [
              -3.5748,
              40.4753
             ],
             [
              -3.5749,
              40.4753
             ],
             [
              -3.5749,
              40.4754
             ],
             [
              -3.5751,
              40.4756
             ],
             [
              -3.575,
              40.4757
             ],
             [
              -3.575,
              40.4757
             ],
             [
              -3.5753,
              40.476
             ],
             [
              -3.5758,
              40.4765
             ],
             [
              -3.576,
              40.4767
             ],
             [
              -3.576,
              40.4767
             ],
             [
              -3.5768,
              40.4773
             ],
             [
              -3.5768,
              40.4773
             ],
             [
              -3.5779,
              40.4785
             ],
             [
              -3.5785,
              40.4792
             ],
             [
              -3.5784,
              40.4799
             ],
             [
              -3.5787,
              40.4815
             ],
             [
              -3.5791,
              40.482
             ],
             [
              -3.5795,
              40.4821
             ],
             [
              -3.5797,
              40.4825
             ],
             [
              -3.5796,
              40.4827
             ],
             [
              -3.5793,
              40.4828
             ],
             [
              -3.5794,
              40.4831
             ],
             [
              -3.5795,
              40.4835
             ],
             [
              -3.5798,
              40.4841
             ],
             [
              -3.5802,
              40.4841
             ],
             [
              -3.5804,
              40.4836
             ],
             [
              -3.581,
              40.4815
             ],
             [
              -3.5811,
              40.4809
             ],
             [
              -3.5817,
              40.4814
             ],
             [
              -3.5819,
              40.4816
             ],
             [
              -3.5821,
              40.4818
             ],
             [
              -3.5826,
              40.4821
             ],
             [
              -3.5835,
              40.4826
             ],
             [
              -3.5839,
              40.4827
             ],
             [
              -3.5847,
              40.4829
             ],
             [
              -3.5855,
              40.483
             ],
             [
              -3.5864,
              40.4831
             ],
             [
              -3.5891,
              40.4831
             ],
             [
              -3.59,
              40.4831
             ],
             [
              -3.5936,
              40.4831
             ],
             [
              -3.5985,
              40.4829
             ],
             [
              -3.5985,
              40.4849
             ],
             [
              -3.5985,
              40.4858
             ],
             [
              -3.5989,
              40.4862
             ],
             [
              -3.5991,
              40.4867
             ],
             [
              -3.599,
              40.4878
             ],
             [
              -3.5992,
              40.4961
             ],
             [
              -3.5991,
              40.4968
             ],
             [
              -3.5978,
              40.4976
             ],
             [
              -3.5978,
              40.4983
             ],
             [
              -3.5979,
              40.5008
             ],
             [
              -3.5979,
              40.5012
             ],
             [
              -3.5979,
              40.5012
             ],
             [
              -3.5978,
              40.5012
             ],
             [
              -3.5977,
              40.5012
             ],
             [
              -3.5977,
              40.5012
             ],
             [
              -3.5976,
              40.5012
             ],
             [
              -3.5975,
              40.5012
             ],
             [
              -3.5975,
              40.5012
             ],
             [
              -3.5973,
              40.5012
             ],
             [
              -3.5973,
              40.5012
             ],
             [
              -3.597,
              40.5012
             ],
             [
              -3.597,
              40.5012
             ],
             [
              -3.5969,
              40.5012
             ],
             [
              -3.5967,
              40.5012
             ],
             [
              -3.5967,
              40.5012
             ],
             [
              -3.5965,
              40.5012
             ],
             [
              -3.5963,
              40.5012
             ],
             [
              -3.5963,
              40.5012
             ],
             [
              -3.5962,
              40.5012
             ],
             [
              -3.5962,
              40.5012
             ],
             [
              -3.5962,
              40.5012
             ],
             [
              -3.596,
              40.5013
             ],
             [
              -3.5959,
              40.5013
             ],
             [
              -3.5958,
              40.5013
             ],
             [
              -3.5958,
              40.5013
             ],
             [
              -3.5958,
              40.5013
             ],
             [
              -3.5957,
              40.5013
             ],
             [
              -3.5957,
              40.5013
             ],
             [
              -3.5957,
              40.5013
             ],
             [
              -3.5956,
              40.5013
             ],
             [
              -3.5955,
              40.5013
             ],
             [
              -3.5954,
              40.5013
             ],
             [
              -3.5953,
              40.5013
             ],
             [
              -3.5952,
              40.5013
             ],
             [
              -3.5952,
              40.5013
             ],
             [
              -3.5951,
              40.5013
             ],
             [
              -3.595,
              40.5012
             ],
             [
              -3.5949,
              40.5012
             ],
             [
              -3.5949,
              40.5012
             ],
             [
              -3.5949,
              40.5012
             ],
             [
              -3.5949,
              40.5012
             ],
             [
              -3.5948,
              40.5012
             ],
             [
              -3.5948,
              40.5012
             ],
             [
              -3.5948,
              40.5012
             ],
             [
              -3.5948,
              40.5012
             ],
             [
              -3.5948,
              40.5012
             ],
             [
              -3.5947,
              40.5012
             ],
             [
              -3.5946,
              40.5012
             ],
             [
              -3.5946,
              40.5012
             ],
             [
              -3.5945,
              40.5012
             ],
             [
              -3.5945,
              40.5012
             ],
             [
              -3.5943,
              40.5012
             ],
             [
              -3.5943,
              40.5012
             ],
             [
              -3.5943,
              40.5012
             ],
             [
              -3.5943,
              40.5012
             ],
             [
              -3.5942,
              40.5012
             ],
             [
              -3.5942,
              40.5012
             ],
             [
              -3.5942,
              40.5013
             ],
             [
              -3.5942,
              40.5013
             ],
             [
              -3.5942,
              40.5013
             ],
             [
              -3.5942,
              40.5013
             ],
             [
              -3.5941,
              40.5014
             ],
             [
              -3.5941,
              40.5014
             ],
             [
              -3.5941,
              40.5014
             ],
             [
              -3.5941,
              40.5014
             ],
             [
              -3.5941,
              40.5014
             ],
             [
              -3.5941,
              40.5014
             ],
             [
              -3.594,
              40.5014
             ],
             [
              -3.5939,
              40.5014
             ],
             [
              -3.5938,
              40.5015
             ],
             [
              -3.5938,
              40.5015
             ],
             [
              -3.5938,
              40.5015
             ],
             [
              -3.5937,
              40.5015
             ],
             [
              -3.5937,
              40.5015
             ],
             [
              -3.5936,
              40.5014
             ],
             [
              -3.5933,
              40.5014
             ],
             [
              -3.5933,
              40.5016
             ],
             [
              -3.5931,
              40.5017
             ],
             [
              -3.5931,
              40.5017
             ],
             [
              -3.5921,
              40.5024
             ],
             [
              -3.5892,
              40.5045
             ],
             [
              -3.5891,
              40.5045
             ],
             [
              -3.5869,
              40.5053
             ],
             [
              -3.5847,
              40.5067
             ],
             [
              -3.583,
              40.5085
             ],
             [
              -3.583,
              40.5085
             ],
             [
              -3.5829,
              40.5085
             ],
             [
              -3.5829,
              40.5085
             ],
             [
              -3.5795,
              40.5098
             ],
             [
              -3.5779,
              40.5104
             ],
             [
              -3.5759,
              40.5104
             ],
             [
              -3.5721,
              40.5124
             ],
             [
              -3.5719,
              40.5124
             ],
             [
              -3.5719,
              40.5124
             ],
             [
              -3.5711,
              40.5123
             ],
             [
              -3.5663,
              40.5121
             ],
             [
              -3.565,
              40.5121
             ],
             [
              -3.5632,
              40.5116
             ],
             [
              -3.5626,
              40.5114
             ],
             [
              -3.562,
              40.5112
             ],
             [
              -3.5617,
              40.5112
             ],
             [
              -3.5616,
              40.5107
             ]
            ]
           ]
          ],
          "type": "MultiPolygon"
         },
         "properties": {
          "CODBDT": 686217,
          "DESBDT": "Alameda de Osuna",
          "GEOCODIGO": "005"
         },
         "type": "Feature"
        }
       ],
       "type": "FeatureCollection"
      },
      "text/html": [
       "<table class=\"dataframe\">\n",
       "<caption>A sf: 5 × 4</caption>\n",
       "<thead>\n",
       "\t<tr><th scope=col>CODBDT</th><th scope=col>GEOCODIGO</th><th scope=col>DESBDT</th><th scope=col>geometry</th></tr>\n",
       "\t<tr><th scope=col>&lt;int&gt;</th><th scope=col>&lt;chr&gt;</th><th scope=col>&lt;chr&gt;</th><th scope=col>&lt;MULTIPOLYGON [°]&gt;</th></tr>\n",
       "</thead>\n",
       "<tbody>\n",
       "\t<tr><td>686213</td><td>001</td><td>Abrantes        </td><td>MULTIPOLYGON (((-3.718306 4...</td></tr>\n",
       "\t<tr><td>686214</td><td>002</td><td>Acacias         </td><td>MULTIPOLYGON (((-3.707966 4...</td></tr>\n",
       "\t<tr><td>686215</td><td>003</td><td>Adelfas         </td><td>MULTIPOLYGON (((-3.666363 4...</td></tr>\n",
       "\t<tr><td>686216</td><td>004</td><td>Alameda         </td><td>MULTIPOLYGON (((-3.69947 40...</td></tr>\n",
       "\t<tr><td>686217</td><td>005</td><td>Alameda de Osuna</td><td>MULTIPOLYGON (((-3.561629 4...</td></tr>\n",
       "</tbody>\n",
       "</table>\n"
      ],
      "text/latex": [
       "A sf: 5 × 4\n",
       "\\begin{tabular}{llll}\n",
       " CODBDT & GEOCODIGO & DESBDT & geometry\\\\\n",
       " <int> & <chr> & <chr> & <MULTIPOLYGON {[}°{]}>\\\\\n",
       "\\hline\n",
       "\t 686213 & 001 & Abrantes         & MULTIPOLYGON (((-3.718306 4...\\\\\n",
       "\t 686214 & 002 & Acacias          & MULTIPOLYGON (((-3.707966 4...\\\\\n",
       "\t 686215 & 003 & Adelfas          & MULTIPOLYGON (((-3.666363 4...\\\\\n",
       "\t 686216 & 004 & Alameda          & MULTIPOLYGON (((-3.69947 40...\\\\\n",
       "\t 686217 & 005 & Alameda de Osuna & MULTIPOLYGON (((-3.561629 4...\\\\\n",
       "\\end{tabular}\n"
      ],
      "text/markdown": [
       "\n",
       "A sf: 5 × 4\n",
       "\n",
       "| CODBDT &lt;int&gt; | GEOCODIGO &lt;chr&gt; | DESBDT &lt;chr&gt; | geometry &lt;MULTIPOLYGON [°]&gt; |\n",
       "|---|---|---|---|\n",
       "| 686213 | 001 | Abrantes         | MULTIPOLYGON (((-3.718306 4... |\n",
       "| 686214 | 002 | Acacias          | MULTIPOLYGON (((-3.707966 4... |\n",
       "| 686215 | 003 | Adelfas          | MULTIPOLYGON (((-3.666363 4... |\n",
       "| 686216 | 004 | Alameda          | MULTIPOLYGON (((-3.69947 40... |\n",
       "| 686217 | 005 | Alameda de Osuna | MULTIPOLYGON (((-3.561629 4... |\n",
       "\n"
      ],
      "text/plain": [
       "  CODBDT GEOCODIGO DESBDT           geometry                      \n",
       "1 686213 001       Abrantes         MULTIPOLYGON (((-3.718306 4...\n",
       "2 686214 002       Acacias          MULTIPOLYGON (((-3.707966 4...\n",
       "3 686215 003       Adelfas          MULTIPOLYGON (((-3.666363 4...\n",
       "4 686216 004       Alameda          MULTIPOLYGON (((-3.69947 40...\n",
       "5 686217 005       Alameda de Osuna MULTIPOLYGON (((-3.561629 4..."
      ]
     },
     "metadata": {},
     "output_type": "display_data"
    }
   ],
   "source": [
    "slice_head(data, n = 5)"
   ]
  },
  {
   "cell_type": "markdown",
   "metadata": {
    "slideshow": {
     "slide_type": "slide"
    }
   },
   "source": [
    "## ETL Processes"
   ]
  },
  {
   "attachments": {},
   "cell_type": "markdown",
   "metadata": {
    "slideshow": {
     "slide_type": "slide"
    }
   },
   "source": [
    "### Transform data\n",
    "\n",
    "* Para asegurar la trazabilidad, se guardan las transformaciones en un objeto diferente con el prefijo t\n",
    "* Convertir los datos erróneos a válidos\n",
    "* Calcular coordenadas del centroide de la zona sanitaria y guardar en columnas\n",
    "* Calcular superficie de la zona para posteriormente calcular la densidad de población\n",
    "* Eliminar información de área (polígonos)"
   ]
  },
  {
   "attachments": {},
   "cell_type": "markdown",
   "metadata": {},
   "source": [
    "#### Calcular área de la zona\n"
   ]
  },
  {
   "cell_type": "code",
   "execution_count": 89,
   "metadata": {
    "vscode": {
     "languageId": "r"
    }
   },
   "outputs": [
    {
     "name": "stderr",
     "output_type": "stream",
     "text": [
      "Warning message in st_centroid.sf(data):\n",
      "“st_centroid assumes attributes are constant over geometries of x”\n",
      "Warning message in st_centroid.sfc(st_geometry(x), of_largest_polygon = of_largest_polygon):\n",
      "“st_centroid does not give correct centroids for longitude/latitude data”\n"
     ]
    }
   ],
   "source": [
    "sf_use_s2(FALSE)\n",
    "tdata <- data |> \n",
    "    st_centroid()  \n",
    "tdata <- tdata |>\n",
    "    mutate(area = st_area(data)) |>\n",
    "    bind_cols(st_coordinates(tdata)) |>\n",
    "    st_drop_geometry()\n"
   ]
  },
  {
   "attachments": {},
   "cell_type": "markdown",
   "metadata": {},
   "source": [
    "Muestra datos transformados:"
   ]
  },
  {
   "cell_type": "code",
   "execution_count": 90,
   "metadata": {
    "vscode": {
     "languageId": "r"
    }
   },
   "outputs": [
    {
     "data": {
      "text/html": [
       "<table class=\"dataframe\">\n",
       "<caption>A data.frame: 5 × 6</caption>\n",
       "<thead>\n",
       "\t<tr><th scope=col>CODBDT</th><th scope=col>GEOCODIGO</th><th scope=col>DESBDT</th><th scope=col>area</th><th scope=col>X</th><th scope=col>Y</th></tr>\n",
       "\t<tr><th scope=col>&lt;int&gt;</th><th scope=col>&lt;chr&gt;</th><th scope=col>&lt;chr&gt;</th><th scope=col>&lt;[m^2]&gt;</th><th scope=col>&lt;dbl&gt;</th><th scope=col>&lt;dbl&gt;</th></tr>\n",
       "</thead>\n",
       "<tbody>\n",
       "\t<tr><td>686213</td><td>001</td><td>Abrantes        </td><td> 1571618.8 [m^2]</td><td>-3.726140</td><td>40.37898</td></tr>\n",
       "\t<tr><td>686214</td><td>002</td><td>Acacias         </td><td>  771569.7 [m^2]</td><td>-3.708702</td><td>40.40045</td></tr>\n",
       "\t<tr><td>686215</td><td>003</td><td>Adelfas         </td><td>  854805.6 [m^2]</td><td>-3.672841</td><td>40.40145</td></tr>\n",
       "\t<tr><td>686216</td><td>004</td><td>Alameda         </td><td>  547596.1 [m^2]</td><td>-3.697291</td><td>40.41036</td></tr>\n",
       "\t<tr><td>686217</td><td>005</td><td>Alameda de Osuna</td><td>35137989.9 [m^2]</td><td>-3.569774</td><td>40.47516</td></tr>\n",
       "</tbody>\n",
       "</table>\n"
      ],
      "text/latex": [
       "A data.frame: 5 × 6\n",
       "\\begin{tabular}{llllll}\n",
       " CODBDT & GEOCODIGO & DESBDT & area & X & Y\\\\\n",
       " <int> & <chr> & <chr> & <{[}m\\textasciicircum{}2{]}> & <dbl> & <dbl>\\\\\n",
       "\\hline\n",
       "\t 686213 & 001 & Abrantes         &  1571618.8 {[}m\\textasciicircum{}2{]} & -3.726140 & 40.37898\\\\\n",
       "\t 686214 & 002 & Acacias          &   771569.7 {[}m\\textasciicircum{}2{]} & -3.708702 & 40.40045\\\\\n",
       "\t 686215 & 003 & Adelfas          &   854805.6 {[}m\\textasciicircum{}2{]} & -3.672841 & 40.40145\\\\\n",
       "\t 686216 & 004 & Alameda          &   547596.1 {[}m\\textasciicircum{}2{]} & -3.697291 & 40.41036\\\\\n",
       "\t 686217 & 005 & Alameda de Osuna & 35137989.9 {[}m\\textasciicircum{}2{]} & -3.569774 & 40.47516\\\\\n",
       "\\end{tabular}\n"
      ],
      "text/markdown": [
       "\n",
       "A data.frame: 5 × 6\n",
       "\n",
       "| CODBDT &lt;int&gt; | GEOCODIGO &lt;chr&gt; | DESBDT &lt;chr&gt; | area &lt;[m^2]&gt; | X &lt;dbl&gt; | Y &lt;dbl&gt; |\n",
       "|---|---|---|---|---|---|\n",
       "| 686213 | 001 | Abrantes         |  1571618.8 [m^2] | -3.726140 | 40.37898 |\n",
       "| 686214 | 002 | Acacias          |   771569.7 [m^2] | -3.708702 | 40.40045 |\n",
       "| 686215 | 003 | Adelfas          |   854805.6 [m^2] | -3.672841 | 40.40145 |\n",
       "| 686216 | 004 | Alameda          |   547596.1 [m^2] | -3.697291 | 40.41036 |\n",
       "| 686217 | 005 | Alameda de Osuna | 35137989.9 [m^2] | -3.569774 | 40.47516 |\n",
       "\n"
      ],
      "text/plain": [
       "  CODBDT GEOCODIGO DESBDT           area             X         Y       \n",
       "1 686213 001       Abrantes          1571618.8 [m^2] -3.726140 40.37898\n",
       "2 686214 002       Acacias            771569.7 [m^2] -3.708702 40.40045\n",
       "3 686215 003       Adelfas            854805.6 [m^2] -3.672841 40.40145\n",
       "4 686216 004       Alameda            547596.1 [m^2] -3.697291 40.41036\n",
       "5 686217 005       Alameda de Osuna 35137989.9 [m^2] -3.569774 40.47516"
      ]
     },
     "metadata": {},
     "output_type": "display_data"
    }
   ],
   "source": [
    "tdata |> slice_head(n = 5)"
   ]
  },
  {
   "attachments": {},
   "cell_type": "markdown",
   "metadata": {
    "slideshow": {
     "slide_type": "slide"
    }
   },
   "source": [
    "## Synthetic Data Generation\n",
    "\n",
    "Estos datos no requieren tareas de este tipo."
   ]
  },
  {
   "attachments": {},
   "cell_type": "markdown",
   "metadata": {
    "slideshow": {
     "slide_type": "slide"
    }
   },
   "source": [
    "## Fake Data Generation\n",
    "\n",
    "Estos datos no requieren tareas de este tipo."
   ]
  },
  {
   "attachments": {},
   "cell_type": "markdown",
   "metadata": {
    "slideshow": {
     "slide_type": "slide"
    }
   },
   "source": [
    "## Open Data\n",
    "\n",
    "Los datos de origen fueron descargados de una fuente abierta, pero ya están preparados como fichero de entrada"
   ]
  },
  {
   "cell_type": "markdown",
   "metadata": {},
   "source": [
    "## <font color='green'>Data Save</font>"
   ]
  },
  {
   "cell_type": "markdown",
   "metadata": {},
   "source": [
    "<font color='tomato'> Identificamos los datos a guardar</font>"
   ]
  },
  {
   "cell_type": "code",
   "execution_count": 91,
   "metadata": {
    "ExecuteTime": {
     "end_time": "2020-12-25T17:59:27.022001Z",
     "start_time": "2020-12-25T17:59:15.986986Z"
    },
    "scrolled": false,
    "vscode": {
     "languageId": "r"
    }
   },
   "outputs": [],
   "source": [
    "data_to_save <- tdata"
   ]
  },
  {
   "attachments": {},
   "cell_type": "markdown",
   "metadata": {},
   "source": [
    "\n",
    "<font color='tomato'>Estructura de nombre de archivos:</font>\n",
    "\n",
    "* Código del caso de uso, por ejemplo \"CU_04\"\n",
    "* Número del proceso que lo genera, por ejemplo \"_05\".\n",
    "* Número de la tarea que lo genera, por ejemplo \"_01\"\n",
    "* En caso de generarse varios ficheros en la misma tarea, llevarán _01 _02 ... después\n",
    "* Nombre: identificativo de \"properData\", por ejemplo \"_zonasgeo\"\n",
    "* Extensión del archivo\n",
    "\n",
    "Ejemplo: \"CU_04_05_01_01_zonasgeo.json, primer fichero que se genera en la tarea 01 del proceso 05 (Data Collection) para el caso de uso 04 (vacunas)\n",
    "\n",
    "Importante mantener los guiones bajos antes de proceso, tarea, archivo y nombre"
   ]
  },
  {
   "attachments": {},
   "cell_type": "markdown",
   "metadata": {},
   "source": [
    "### Proceso 05"
   ]
  },
  {
   "cell_type": "code",
   "execution_count": 92,
   "metadata": {
    "ExecuteTime": {
     "end_time": "2020-12-25T17:59:27.022001Z",
     "start_time": "2020-12-25T17:59:15.986986Z"
    },
    "scrolled": false,
    "vscode": {
     "languageId": "r"
    }
   },
   "outputs": [],
   "source": [
    "caso <- \"CU_04\"\n",
    "proceso <- '_05'\n",
    "tarea <- \"_02\"\n",
    "archivo <- \"\"\n",
    "proper <- \"_zonas\"\n",
    "extension <- \".csv\""
   ]
  },
  {
   "attachments": {},
   "cell_type": "markdown",
   "metadata": {},
   "source": [
    "<font color='tomato'><b> OPCION A:</b> Uso del paquete \"tcltk\" para mayor comodidad</font>\n",
    "\n",
    "* Buscar carpeta, escribir nombre de archivo SIN extensión (se especifica en el código)\n",
    "* Especificar sufijo2 si es necesario\n",
    "* Cambiar datos por datos_xx si es necesario\n",
    "* Descomentar si se usa esta opción"
   ]
  },
  {
   "cell_type": "code",
   "execution_count": 93,
   "metadata": {
    "ExecuteTime": {
     "end_time": "2020-12-25T17:59:27.022001Z",
     "start_time": "2020-12-25T17:59:15.986986Z"
    },
    "scrolled": false,
    "vscode": {
     "languageId": "r"
    }
   },
   "outputs": [],
   "source": [
    "# file_save <- paste0(caso, proceso, tarea, tcltk::tkgetSaveFile(), proper, extension) \n",
    "# path_out <- paste0(oPath, file_save)\n",
    "# write_csv(datos, path_out)\n",
    "\n",
    "# cat('File saved as: ')\n",
    "# path_out"
   ]
  },
  {
   "attachments": {},
   "cell_type": "markdown",
   "metadata": {},
   "source": [
    "<font color='tomato'><b> OPCION B:</b> Especificar el nombre de archivo</font>"
   ]
  },
  {
   "attachments": {},
   "cell_type": "markdown",
   "metadata": {},
   "source": [
    "- Los ficheros de salida del proceso van siempre a Data/Output/.  "
   ]
  },
  {
   "cell_type": "code",
   "execution_count": 94,
   "metadata": {
    "ExecuteTime": {
     "end_time": "2021-01-26T18:40:31.258294Z",
     "start_time": "2021-01-26T18:40:26.061847Z"
    },
    "slideshow": {
     "slide_type": "subslide"
    },
    "vscode": {
     "languageId": "r"
    }
   },
   "outputs": [
    {
     "name": "stdout",
     "output_type": "stream",
     "text": [
      "File saved as: "
     ]
    },
    {
     "data": {
      "text/html": [
       "'Data/Output/CU_04_05_02_zonas.csv'"
      ],
      "text/latex": [
       "'Data/Output/CU\\_04\\_05\\_02\\_zonas.csv'"
      ],
      "text/markdown": [
       "'Data/Output/CU_04_05_02_zonas.csv'"
      ],
      "text/plain": [
       "[1] \"Data/Output/CU_04_05_02_zonas.csv\""
      ]
     },
     "metadata": {},
     "output_type": "display_data"
    }
   ],
   "source": [
    "file_save <- paste0(caso, proceso, tarea, archivo, proper, extension) \n",
    "path_out <- paste0(oPath, file_save)\n",
    "write_csv(tdata, path_out)\n",
    "\n",
    "cat('File saved as: ')\n",
    "path_out"
   ]
  },
  {
   "attachments": {},
   "cell_type": "markdown",
   "metadata": {},
   "source": [
    "#### Copia del fichero a Input\n",
    "\n",
    "Será usado en otros notebooks"
   ]
  },
  {
   "cell_type": "code",
   "execution_count": 95,
   "metadata": {
    "vscode": {
     "languageId": "r"
    }
   },
   "outputs": [
    {
     "data": {
      "text/html": [
       "TRUE"
      ],
      "text/latex": [
       "TRUE"
      ],
      "text/markdown": [
       "TRUE"
      ],
      "text/plain": [
       "[1] TRUE"
      ]
     },
     "metadata": {},
     "output_type": "display_data"
    }
   ],
   "source": [
    "path_in <- paste0(iPath, file_save)\n",
    "file.copy(path_out, path_in, overwrite = TRUE)"
   ]
  },
  {
   "cell_type": "markdown",
   "metadata": {},
   "source": [
    "## <font color=' #2874a6 '>Main Conclusions</font>"
   ]
  },
  {
   "cell_type": "markdown",
   "metadata": {
    "slideshow": {
     "slide_type": "slide"
    }
   },
   "source": [
    "<font color='steelblue'>List and describe the general conclusions of the analysis carried out​.</font>"
   ]
  },
  {
   "attachments": {},
   "cell_type": "markdown",
   "metadata": {},
   "source": [
    "### Prerequisites\n",
    "\n",
    "This working code needs the following conditions:\n",
    "\n",
    "* For using the interactive selection of file, the {tcltk} package must be installed. It is not needed in production.\n",
    "* The {readr} and {dplyr} packages must be installed. They are part of the _tidyverse_.\n",
    "* The {sf} package must be installed. It needs some system requierements, check the package documentation at https://r-spatial.github.io/sf/\n",
    "* The data paths `Data/Input` and `Data/Output` must exist (relative to the notebook path), as well as the input file"
   ]
  },
  {
   "attachments": {},
   "cell_type": "markdown",
   "metadata": {},
   "source": [
    "### Configuration Management\n",
    "\n",
    "This notebook has been tested with the following versions of R and packages. It cannot be assured that later versions work in the same way:\n",
    "* R 4.2.2\n",
    "* tcltk 4.2.2\n",
    "* readr 2.1.3\n",
    "* sf 1.0.9\n",
    "* dplyr 1.0.10\n"
   ]
  },
  {
   "attachments": {},
   "cell_type": "markdown",
   "metadata": {},
   "source": [
    "### Data structures"
   ]
  },
  {
   "attachments": {},
   "cell_type": "markdown",
   "metadata": {},
   "source": [
    "- Los datos de origen fueron obtenidos de https://gestiona.comunidad.madrid/nomecalles/DescargaBDTCorte.icm#delimitacionesterritoriales y transformados previamente a un archivo .json, formato GeoJSON. Si la información geográfica cambia, se debería actualizar el fichero y volver a ejecutar todos los procesos.\n",
    "- Los datos geográficos en el fichero JSON vienen con la proyección CRS WGS 84 (código 4326)\n",
    "- Hay 286 zonas básicas de salud de las que se dispone de:\n",
    "    * GEOCODIGO, string de tamaño tres con el código de la zona básica sanitaria que después se puede unir a otras tablas.\n",
    "    * DESBDT, string de tamaño variable que contiene el nombre de la zona básica sanitaria y se usará para describir la zona.\n",
    "    * CODBDT, entero que no utilizamos y no está claro para qué puede servir\n"
   ]
  },
  {
   "cell_type": "markdown",
   "metadata": {},
   "source": [
    "## <font color=' #2874a6 '>Main Actions</font>"
   ]
  },
  {
   "cell_type": "markdown",
   "metadata": {},
   "source": [
    "#### <font color=' #2874a6 '>Acciones done</font>"
   ]
  },
  {
   "attachments": {},
   "cell_type": "markdown",
   "metadata": {},
   "source": [
    "- Se han calculado las coordenadas de los centroides de las zonas de salud por si son útiles en futuros procesos"
   ]
  },
  {
   "cell_type": "markdown",
   "metadata": {},
   "source": [
    "#### <font color=' #2874a6 '>Acctions to perform</font>"
   ]
  },
  {
   "cell_type": "markdown",
   "metadata": {
    "slideshow": {
     "slide_type": "slide"
    }
   },
   "source": [
    "<font color='steelblue'>Indicate the actions that must be carried out in subsequent processes</font>"
   ]
  },
  {
   "attachments": {},
   "cell_type": "markdown",
   "metadata": {},
   "source": [
    "- Se deben unir a estos datos los de indicadores del INE\n",
    "- Se debe calcular la densidad de población de cada zona\n",
    "- Los datos estarán relacionados con los de vacunación, meteorológicos y contaminación, de los que habrá varios registros por cada zona (uno por semana)\n",
    "- También se relacionarán a través del municipio con los de tendencias en internet"
   ]
  },
  {
   "attachments": {},
   "cell_type": "markdown",
   "metadata": {},
   "source": [
    "## <font color='RED'>CODE TO DEPLOY (PILOT)</font>\n",
    "\n",
    "A continuación se incluirá el código que deba ser llevado a despliegue para producción, dado que se entiende efectúa operaciones necesarias sobre los datos en la ejecución del prototipo"
   ]
  },
  {
   "attachments": {},
   "cell_type": "markdown",
   "metadata": {},
   "source": [
    "<font color=' red '><b>Description</b></font>\n",
    "\n",
    "- No hay nada que desplegar en el piloto, ya que estos datos son estáticos o en todo caso cambian con muy poca frecuencia, altamente improbable durante el proyecto.\n"
   ]
  },
  {
   "attachments": {},
   "cell_type": "markdown",
   "metadata": {},
   "source": [
    "<font color=' red '><b>CODE</b></font>"
   ]
  },
  {
   "cell_type": "code",
   "execution_count": 96,
   "metadata": {
    "vscode": {
     "languageId": "r"
    }
   },
   "outputs": [],
   "source": [
    "# incluir código"
   ]
  },
  {
   "attachments": {},
   "cell_type": "markdown",
   "metadata": {},
   "source": [
    "## Consideraciones para despliegue en piloto\n",
    "\n",
    "* El archivo de entrada se utilizará para la representación de mapas."
   ]
  },
  {
   "attachments": {},
   "cell_type": "markdown",
   "metadata": {},
   "source": [
    "## Consideraciones para despliegue en producción\n",
    "\n",
    "* Se deben crear los procesos ETL en producción necesarios para que los datos de entrada estén actualizados"
   ]
  }
 ],
 "metadata": {
  "anaconda-cloud": {},
  "celltoolbar": "Slideshow",
  "hide_input": false,
  "kernelspec": {
   "display_name": "R",
   "language": "R",
   "name": "ir"
  },
  "language_info": {
   "codemirror_mode": "r",
   "file_extension": ".r",
   "mimetype": "text/x-r-source",
   "name": "R",
   "pygments_lexer": "r",
   "version": "4.2.2"
  },
  "latex_envs": {
   "LaTeX_envs_menu_present": true,
   "autoclose": false,
   "autocomplete": true,
   "bibliofile": "biblio.bib",
   "cite_by": "apalike",
   "current_citInitial": 1,
   "eqLabelWithNumbers": true,
   "eqNumInitial": 1,
   "hotkeys": {
    "equation": "Ctrl-E",
    "itemize": "Ctrl-I"
   },
   "labels_anchors": false,
   "latex_user_defs": false,
   "report_style_numbering": true,
   "user_envs_cfg": false
  },
  "toc": {
   "base_numbering": 1,
   "nav_menu": {
    "height": "11.6px",
    "width": "160px"
   },
   "number_sections": false,
   "sideBar": true,
   "skip_h1_title": true,
   "title_cell": "Table of Contents",
   "title_sidebar": "Contents",
   "toc_cell": true,
   "toc_position": {
    "height": "calc(100% - 180px)",
    "left": "10px",
    "top": "150px",
    "width": "209.2px"
   },
   "toc_section_display": true,
   "toc_window_display": true
  },
  "varInspector": {
   "cols": {
    "lenName": 16,
    "lenType": 16,
    "lenVar": 40
   },
   "kernels_config": {
    "python": {
     "delete_cmd_postfix": "",
     "delete_cmd_prefix": "del ",
     "library": "var_list.py",
     "varRefreshCmd": "print(var_dic_list())"
    },
    "r": {
     "delete_cmd_postfix": ") ",
     "delete_cmd_prefix": "rm(",
     "library": "var_list.r",
     "varRefreshCmd": "cat(var_dic_list()) "
    }
   },
   "types_to_exclude": [
    "module",
    "function",
    "builtin_function_or_method",
    "instance",
    "_Feature"
   ],
   "window_display": false
  }
 },
 "nbformat": 4,
 "nbformat_minor": 1
}
