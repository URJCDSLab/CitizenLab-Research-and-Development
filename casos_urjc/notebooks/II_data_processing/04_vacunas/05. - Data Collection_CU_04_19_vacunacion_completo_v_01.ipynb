{
 "cells": [
  {
   "cell_type": "markdown",
   "metadata": {
    "slideshow": {
     "slide_type": "slide"
    }
   },
   "source": [
    "<img src=\".\\images\\Logo.png\" width=150 align=\"left\" /> <img src=\".\\images\\Logo2.jpg\" width=450 align=\"right\" />"
   ]
  },
  {
   "attachments": {},
   "cell_type": "markdown",
   "metadata": {
    "slideshow": {
     "slide_type": "slide"
    }
   },
   "source": [
    "\n",
    "# <center><font color= #1e8449 > <b>CUxx_xxxxx</font></center>"
   ]
  },
  {
   "cell_type": "markdown",
   "metadata": {
    "slideshow": {
     "slide_type": "slide"
    }
   },
   "source": [
    "<font color='steelblue'><b>Citizenlab Data Science Methodology > II - Data Processing Domain </font>\n",
    "***\n",
    "> # <font color='steelblue'> <b>05.- Data Collection</font>"
   ]
  },
  {
   "cell_type": "markdown",
   "metadata": {
    "slideshow": {
     "slide_type": "slide"
    }
   },
   "source": [
    "<font color='steelblue'>Data Collection is the process to obtain and generate (if required) necessary data to model the problem.</font>"
   ]
  },
  {
   "attachments": {},
   "cell_type": "markdown",
   "metadata": {},
   "source": [
    "### 19. Unir todos los datos en un data.frame con repeticiones\n",
    "\n",
    "* Unión de todas las tablas donde se reptirán los datos que no tengan la máxima resolución\n",
    "\n",
    "\n",
    "\n",
    "\n",
    "\n"
   ]
  },
  {
   "cell_type": "markdown",
   "metadata": {
    "toc": true
   },
   "source": [
    "<h1>Table of Contents<span class=\"tocSkip\"></span></h1>\n",
    "<div class=\"toc\"><ul class=\"toc-item\"><li><span><a href=\"#Settings\" data-toc-modified-id=\"Settings-1\"><font color=\"green\">Settings</font></a></span></li><li><span><a href=\"#Data-Load\" data-toc-modified-id=\"Data-Load-2\"><font color=\"green\">Data Load</font></a></span></li><li><span><a href=\"#ETL-Processes\" data-toc-modified-id=\"ETL-Processes-3\">ETL Processes</a></span><ul class=\"toc-item\"><li><span><a href=\"#Import-data-from:-CSV,-Excel,-Tab,-JSON,-SQL,-and-Parquet-files\" data-toc-modified-id=\"Import-data-from:-CSV,-Excel,-Tab,-JSON,-SQL,-and-Parquet-files-3.1\">Import data from: CSV, Excel, Tab, JSON, SQL, and Parquet files</a></span></li></ul></li><li><span><a href=\"#Synthetic-Data-Generation\" data-toc-modified-id=\"Synthetic-Data-Generation-4\">Synthetic Data Generation</a></span></li><li><span><a href=\"#Fake-Data-Generation\" data-toc-modified-id=\"Fake-Data-Generation-5\">Fake Data Generation</a></span></li><li><span><a href=\"#Open-Data\" data-toc-modified-id=\"Open-Data-6\">Open Data</a></span></li><li><span><a href=\"#Data-Save\" data-toc-modified-id=\"Data-Save-7\"><font color=\"green\">Data Save</font></a></span></li><li><span><a href=\"#Main-Conclusions\" data-toc-modified-id=\"Main-Conclusions-8\"><font color=\" #2874a6 \">Main Conclusions</font></a></span></li><li><span><a href=\"#Main-Actions\" data-toc-modified-id=\"Main-Actions-9\"><font color=\" #2874a6 \">Main Actions</font></a></span><ul class=\"toc-item\"><li><ul class=\"toc-item\"><li><span><a href=\"#Acciones-done\" data-toc-modified-id=\"Acciones-done-9.0.1\"><font color=\" #2874a6 \">Acciones done</font></a></span></li><li><span><a href=\"#Acctions-to-perform\" data-toc-modified-id=\"Acctions-to-perform-9.0.2\"><font color=\" #2874a6 \">Acctions to perform</font></a></span></li></ul></li></ul></li></ul></div>"
   ]
  },
  {
   "cell_type": "markdown",
   "metadata": {
    "slideshow": {
     "slide_type": "slide"
    }
   },
   "source": [
    "## <font color='green'>Settings</font>"
   ]
  },
  {
   "attachments": {},
   "cell_type": "markdown",
   "metadata": {},
   "source": [
    "### Packages to use\n",
    "\n",
    "\n",
    "- {tcltk} para selección interactiva de archivos locales\n",
    "- {readr} para leer y escribir archivos csv\n",
    "- {dplyr} para explorar datos\n"
   ]
  },
  {
   "cell_type": "code",
   "execution_count": 1,
   "metadata": {
    "ExecuteTime": {
     "end_time": "2021-12-03T15:23:33.762841Z",
     "start_time": "2021-12-03T15:23:08.580267Z"
    },
    "slideshow": {
     "slide_type": "subslide"
    },
    "vscode": {
     "languageId": "r"
    }
   },
   "outputs": [
    {
     "name": "stderr",
     "output_type": "stream",
     "text": [
      "\n",
      "Attaching package: 'dplyr'\n",
      "\n",
      "\n",
      "The following objects are masked from 'package:stats':\n",
      "\n",
      "    filter, lag\n",
      "\n",
      "\n",
      "The following objects are masked from 'package:base':\n",
      "\n",
      "    intersect, setdiff, setequal, union\n",
      "\n",
      "\n"
     ]
    }
   ],
   "source": [
    "library(readr)\n",
    "library(dplyr)\n",
    "\n",
    "\n"
   ]
  },
  {
   "attachments": {},
   "cell_type": "markdown",
   "metadata": {},
   "source": [
    "### Paths"
   ]
  },
  {
   "cell_type": "code",
   "execution_count": 2,
   "metadata": {
    "vscode": {
     "languageId": "r"
    }
   },
   "outputs": [],
   "source": [
    "iPath <- \"Data/Input/\"\n",
    "oPath <- \"Data/Output/\""
   ]
  },
  {
   "attachments": {},
   "cell_type": "markdown",
   "metadata": {
    "slideshow": {
     "slide_type": "slide"
    }
   },
   "source": [
    "## <font color='green'>Data Load</font>\n",
    "\n",
    "If there are more than one input file, make as many sections as files to import."
   ]
  },
  {
   "attachments": {},
   "cell_type": "markdown",
   "metadata": {},
   "source": [
    "Instrucciones\n",
    "- Los ficheros de entrada del proceso están siempre en Data/Input/.   \n",
    "- Si hay más de un fichero de entrada, se crean tantos objetos iFile_xx y file_data_xx como ficheros de entrada (xx número correlativo con dos dígitos, rellenar con ceros a la izquierda)"
   ]
  },
  {
   "attachments": {},
   "cell_type": "markdown",
   "metadata": {},
   "source": [
    "1. Datos por zona y semana"
   ]
  },
  {
   "attachments": {},
   "cell_type": "markdown",
   "metadata": {},
   "source": [
    "<font color='tomato'><b> OPCION A:</b> Seleccionar fichero en ventana para mayor comodidad</font> "
   ]
  },
  {
   "attachments": {},
   "cell_type": "markdown",
   "metadata": {},
   "source": [
    "Data load using the {tcltk} package. Ucomment the line if not using this option"
   ]
  },
  {
   "cell_type": "code",
   "execution_count": null,
   "metadata": {
    "vscode": {
     "languageId": "r"
    }
   },
   "outputs": [],
   "source": [
    "# file_data_01 <- tcltk::tk_choose.files(multi = FALSE)"
   ]
  },
  {
   "attachments": {},
   "cell_type": "markdown",
   "metadata": {},
   "source": [
    "<font color='tomato'><b> OPCION B:</b> Especificar el nombre de archivo</font>\n",
    "\n"
   ]
  },
  {
   "cell_type": "code",
   "execution_count": 3,
   "metadata": {
    "vscode": {
     "languageId": "r"
    }
   },
   "outputs": [
    {
     "name": "stdout",
     "output_type": "stream",
     "text": [
      "Se leer<U+00E1>n datos del archivo:  Data/Input/CU_04_05_16_vacunacion_gripe.csv"
     ]
    }
   ],
   "source": [
    "iFile_01 <- \"CU_04_05_16_vacunacion_gripe.csv\"\n",
    "file_data_01 <- paste0(iPath, iFile_01)\n",
    "\n",
    "if(file.exists(file_data_01)){\n",
    "    cat(\"Se leerán datos del archivo: \", file_data_01)\n",
    "} else{\n",
    "    warning(\"Cuidado: el archivo no existe.\")\n",
    "}\n"
   ]
  },
  {
   "attachments": {},
   "cell_type": "markdown",
   "metadata": {},
   "source": [
    "#### Data file to dataframe\n",
    "\n",
    "Usar la función adecuada según el formato de entrada (xlsx, csv, json, ...)"
   ]
  },
  {
   "cell_type": "code",
   "execution_count": 4,
   "metadata": {
    "vscode": {
     "languageId": "r"
    }
   },
   "outputs": [
    {
     "name": "stderr",
     "output_type": "stream",
     "text": [
      "\u001b[1mRows: \u001b[22m\u001b[34m21736\u001b[39m \u001b[1mColumns: \u001b[22m\u001b[34m19\u001b[39m\n",
      "\u001b[36m--\u001b[39m \u001b[1mColumn specification\u001b[22m \u001b[36m--------------------------------------------------------\u001b[39m\n",
      "\u001b[1mDelimiter:\u001b[22m \",\"\n",
      "\u001b[31mchr\u001b[39m  (2): GEOCODIGO, DESBDT\n",
      "\u001b[32mdbl\u001b[39m (17): ano, semana, n_vacunas, n_citas, tmed, prec, velmedia, presMax, be...\n",
      "\n",
      "\u001b[36mi\u001b[39m Use `spec()` to retrieve the full column specification for this data.\n",
      "\u001b[36mi\u001b[39m Specify the column types or set `show_col_types = FALSE` to quiet this message.\n"
     ]
    }
   ],
   "source": [
    "data_01 <- read_csv(file_data_01)\n"
   ]
  },
  {
   "attachments": {},
   "cell_type": "markdown",
   "metadata": {},
   "source": [
    "Estructura de  los datos:"
   ]
  },
  {
   "cell_type": "code",
   "execution_count": 5,
   "metadata": {
    "vscode": {
     "languageId": "r"
    }
   },
   "outputs": [
    {
     "name": "stdout",
     "output_type": "stream",
     "text": [
      "Rows: 21,736\n",
      "Columns: 19\n",
      "$ GEOCODIGO \u001b[3m\u001b[90m<chr>\u001b[39m\u001b[23m \"001\", \"001\", \"001\", \"001\", \"001\", \"001\", \"001\", \"001\", \"001~\n",
      "$ DESBDT    \u001b[3m\u001b[90m<chr>\u001b[39m\u001b[23m \"Abrantes\", \"Abrantes\", \"Abrantes\", \"Abrantes\", \"Abrantes\", ~\n",
      "$ ano       \u001b[3m\u001b[90m<dbl>\u001b[39m\u001b[23m 2021, 2021, 2021, 2021, 2021, 2021, 2021, 2021, 2021, 2021, ~\n",
      "$ semana    \u001b[3m\u001b[90m<dbl>\u001b[39m\u001b[23m 36, 37, 38, 39, 40, 41, 42, 43, 44, 45, 46, 47, 48, 49, 50, ~\n",
      "$ n_vacunas \u001b[3m\u001b[90m<dbl>\u001b[39m\u001b[23m 0, 0, 0, 0, 0, 328, 344, 353, 371, 341, 389, 349, 402, 350, ~\n",
      "$ n_citas   \u001b[3m\u001b[90m<dbl>\u001b[39m\u001b[23m 0, 0, 0, 0, 0, 305, 327, 328, 341, 334, 373, 332, 370, 336, ~\n",
      "$ tmed      \u001b[3m\u001b[90m<dbl>\u001b[39m\u001b[23m 23.822231, 20.160014, 18.551058, 18.815387, 17.494475, 17.56~\n",
      "$ prec      \u001b[3m\u001b[90m<dbl>\u001b[39m\u001b[23m -0.0063023484, 3.5537258042, 3.9769052178, 1.4806472324, -0.~\n",
      "$ velmedia  \u001b[3m\u001b[90m<dbl>\u001b[39m\u001b[23m 3.573728, 2.494744, 3.316148, 2.384262, 1.850839, 1.527085, ~\n",
      "$ presMax   \u001b[3m\u001b[90m<dbl>\u001b[39m\u001b[23m 940.9841, 940.7610, 943.1540, 944.6697, 944.2973, 943.0733, ~\n",
      "$ benzene   \u001b[3m\u001b[90m<dbl>\u001b[39m\u001b[23m 0.1713567, 0.1573829, 0.1858059, 0.1486437, 0.1428037, 0.141~\n",
      "$ co        \u001b[3m\u001b[90m<dbl>\u001b[39m\u001b[23m 0.1680325, 0.2138607, 0.2034376, 0.2399882, 0.2693450, 0.283~\n",
      "$ no        \u001b[3m\u001b[90m<dbl>\u001b[39m\u001b[23m 4.098371, 6.515572, 5.477654, 9.593391, 18.860535, 17.000221~\n",
      "$ no2       \u001b[3m\u001b[90m<dbl>\u001b[39m\u001b[23m 20.09480, 27.42594, 20.74836, 37.08524, 40.19475, 44.42785, ~\n",
      "$ nox       \u001b[3m\u001b[90m<dbl>\u001b[39m\u001b[23m 26.48135, 37.45944, 25.61128, 52.43745, 74.04903, 75.16833, ~\n",
      "$ o3        \u001b[3m\u001b[90m<dbl>\u001b[39m\u001b[23m 50.03434, 42.41281, 56.29918, 46.79483, 41.06600, 44.01453, ~\n",
      "$ pm10      \u001b[3m\u001b[90m<dbl>\u001b[39m\u001b[23m 17.447652, 17.658399, 12.844436, 16.395896, 14.909384, 21.12~\n",
      "$ pm2.5     \u001b[3m\u001b[90m<dbl>\u001b[39m\u001b[23m 3.008675, 10.083070, 7.218588, 9.426029, 8.131753, 12.378902~\n",
      "$ so2       \u001b[3m\u001b[90m<dbl>\u001b[39m\u001b[23m 6.861545, 6.589638, 4.364304, 3.123598, 1.291137, 1.841904, ~\n"
     ]
    }
   ],
   "source": [
    "data_01 |> glimpse()"
   ]
  },
  {
   "attachments": {},
   "cell_type": "markdown",
   "metadata": {},
   "source": [
    "Muestra de datos:"
   ]
  },
  {
   "cell_type": "code",
   "execution_count": 6,
   "metadata": {
    "vscode": {
     "languageId": "r"
    }
   },
   "outputs": [
    {
     "data": {
      "text/html": [
       "<table class=\"dataframe\">\n",
       "<caption>A spec_tbl_df: 5 x 19</caption>\n",
       "<thead>\n",
       "\t<tr><th scope=col>GEOCODIGO</th><th scope=col>DESBDT</th><th scope=col>ano</th><th scope=col>semana</th><th scope=col>n_vacunas</th><th scope=col>n_citas</th><th scope=col>tmed</th><th scope=col>prec</th><th scope=col>velmedia</th><th scope=col>presMax</th><th scope=col>benzene</th><th scope=col>co</th><th scope=col>no</th><th scope=col>no2</th><th scope=col>nox</th><th scope=col>o3</th><th scope=col>pm10</th><th scope=col>pm2.5</th><th scope=col>so2</th></tr>\n",
       "\t<tr><th scope=col>&lt;chr&gt;</th><th scope=col>&lt;chr&gt;</th><th scope=col>&lt;dbl&gt;</th><th scope=col>&lt;dbl&gt;</th><th scope=col>&lt;dbl&gt;</th><th scope=col>&lt;dbl&gt;</th><th scope=col>&lt;dbl&gt;</th><th scope=col>&lt;dbl&gt;</th><th scope=col>&lt;dbl&gt;</th><th scope=col>&lt;dbl&gt;</th><th scope=col>&lt;dbl&gt;</th><th scope=col>&lt;dbl&gt;</th><th scope=col>&lt;dbl&gt;</th><th scope=col>&lt;dbl&gt;</th><th scope=col>&lt;dbl&gt;</th><th scope=col>&lt;dbl&gt;</th><th scope=col>&lt;dbl&gt;</th><th scope=col>&lt;dbl&gt;</th><th scope=col>&lt;dbl&gt;</th></tr>\n",
       "</thead>\n",
       "<tbody>\n",
       "\t<tr><td>001</td><td>Abrantes</td><td>2021</td><td>36</td><td>0</td><td>0</td><td>23.82223</td><td>-0.006302348</td><td>3.573728</td><td>940.9841</td><td>0.1713567</td><td>0.1680325</td><td> 4.098371</td><td>20.09480</td><td>26.48135</td><td>50.03434</td><td>17.44765</td><td> 3.008675</td><td>6.861545</td></tr>\n",
       "\t<tr><td>001</td><td>Abrantes</td><td>2021</td><td>37</td><td>0</td><td>0</td><td>20.16001</td><td> 3.553725804</td><td>2.494744</td><td>940.7610</td><td>0.1573829</td><td>0.2138607</td><td> 6.515572</td><td>27.42594</td><td>37.45944</td><td>42.41281</td><td>17.65840</td><td>10.083070</td><td>6.589638</td></tr>\n",
       "\t<tr><td>001</td><td>Abrantes</td><td>2021</td><td>38</td><td>0</td><td>0</td><td>18.55106</td><td> 3.976905218</td><td>3.316148</td><td>943.1540</td><td>0.1858059</td><td>0.2034376</td><td> 5.477654</td><td>20.74836</td><td>25.61128</td><td>56.29918</td><td>12.84444</td><td> 7.218588</td><td>4.364304</td></tr>\n",
       "\t<tr><td>001</td><td>Abrantes</td><td>2021</td><td>39</td><td>0</td><td>0</td><td>18.81539</td><td> 1.480647232</td><td>2.384262</td><td>944.6697</td><td>0.1486437</td><td>0.2399882</td><td> 9.593391</td><td>37.08524</td><td>52.43745</td><td>46.79483</td><td>16.39590</td><td> 9.426029</td><td>3.123598</td></tr>\n",
       "\t<tr><td>001</td><td>Abrantes</td><td>2021</td><td>40</td><td>0</td><td>0</td><td>17.49447</td><td>-0.033790900</td><td>1.850839</td><td>944.2973</td><td>0.1428037</td><td>0.2693450</td><td>18.860535</td><td>40.19475</td><td>74.04903</td><td>41.06600</td><td>14.90938</td><td> 8.131753</td><td>1.291137</td></tr>\n",
       "</tbody>\n",
       "</table>\n"
      ],
      "text/latex": [
       "A spec\\_tbl\\_df: 5 x 19\n",
       "\\begin{tabular}{lllllllllllllllllll}\n",
       " GEOCODIGO & DESBDT & ano & semana & n\\_vacunas & n\\_citas & tmed & prec & velmedia & presMax & benzene & co & no & no2 & nox & o3 & pm10 & pm2.5 & so2\\\\\n",
       " <chr> & <chr> & <dbl> & <dbl> & <dbl> & <dbl> & <dbl> & <dbl> & <dbl> & <dbl> & <dbl> & <dbl> & <dbl> & <dbl> & <dbl> & <dbl> & <dbl> & <dbl> & <dbl>\\\\\n",
       "\\hline\n",
       "\t 001 & Abrantes & 2021 & 36 & 0 & 0 & 23.82223 & -0.006302348 & 3.573728 & 940.9841 & 0.1713567 & 0.1680325 &  4.098371 & 20.09480 & 26.48135 & 50.03434 & 17.44765 &  3.008675 & 6.861545\\\\\n",
       "\t 001 & Abrantes & 2021 & 37 & 0 & 0 & 20.16001 &  3.553725804 & 2.494744 & 940.7610 & 0.1573829 & 0.2138607 &  6.515572 & 27.42594 & 37.45944 & 42.41281 & 17.65840 & 10.083070 & 6.589638\\\\\n",
       "\t 001 & Abrantes & 2021 & 38 & 0 & 0 & 18.55106 &  3.976905218 & 3.316148 & 943.1540 & 0.1858059 & 0.2034376 &  5.477654 & 20.74836 & 25.61128 & 56.29918 & 12.84444 &  7.218588 & 4.364304\\\\\n",
       "\t 001 & Abrantes & 2021 & 39 & 0 & 0 & 18.81539 &  1.480647232 & 2.384262 & 944.6697 & 0.1486437 & 0.2399882 &  9.593391 & 37.08524 & 52.43745 & 46.79483 & 16.39590 &  9.426029 & 3.123598\\\\\n",
       "\t 001 & Abrantes & 2021 & 40 & 0 & 0 & 17.49447 & -0.033790900 & 1.850839 & 944.2973 & 0.1428037 & 0.2693450 & 18.860535 & 40.19475 & 74.04903 & 41.06600 & 14.90938 &  8.131753 & 1.291137\\\\\n",
       "\\end{tabular}\n"
      ],
      "text/markdown": [
       "\n",
       "A spec_tbl_df: 5 x 19\n",
       "\n",
       "| GEOCODIGO &lt;chr&gt; | DESBDT &lt;chr&gt; | ano &lt;dbl&gt; | semana &lt;dbl&gt; | n_vacunas &lt;dbl&gt; | n_citas &lt;dbl&gt; | tmed &lt;dbl&gt; | prec &lt;dbl&gt; | velmedia &lt;dbl&gt; | presMax &lt;dbl&gt; | benzene &lt;dbl&gt; | co &lt;dbl&gt; | no &lt;dbl&gt; | no2 &lt;dbl&gt; | nox &lt;dbl&gt; | o3 &lt;dbl&gt; | pm10 &lt;dbl&gt; | pm2.5 &lt;dbl&gt; | so2 &lt;dbl&gt; |\n",
       "|---|---|---|---|---|---|---|---|---|---|---|---|---|---|---|---|---|---|---|\n",
       "| 001 | Abrantes | 2021 | 36 | 0 | 0 | 23.82223 | -0.006302348 | 3.573728 | 940.9841 | 0.1713567 | 0.1680325 |  4.098371 | 20.09480 | 26.48135 | 50.03434 | 17.44765 |  3.008675 | 6.861545 |\n",
       "| 001 | Abrantes | 2021 | 37 | 0 | 0 | 20.16001 |  3.553725804 | 2.494744 | 940.7610 | 0.1573829 | 0.2138607 |  6.515572 | 27.42594 | 37.45944 | 42.41281 | 17.65840 | 10.083070 | 6.589638 |\n",
       "| 001 | Abrantes | 2021 | 38 | 0 | 0 | 18.55106 |  3.976905218 | 3.316148 | 943.1540 | 0.1858059 | 0.2034376 |  5.477654 | 20.74836 | 25.61128 | 56.29918 | 12.84444 |  7.218588 | 4.364304 |\n",
       "| 001 | Abrantes | 2021 | 39 | 0 | 0 | 18.81539 |  1.480647232 | 2.384262 | 944.6697 | 0.1486437 | 0.2399882 |  9.593391 | 37.08524 | 52.43745 | 46.79483 | 16.39590 |  9.426029 | 3.123598 |\n",
       "| 001 | Abrantes | 2021 | 40 | 0 | 0 | 17.49447 | -0.033790900 | 1.850839 | 944.2973 | 0.1428037 | 0.2693450 | 18.860535 | 40.19475 | 74.04903 | 41.06600 | 14.90938 |  8.131753 | 1.291137 |\n",
       "\n"
      ],
      "text/plain": [
       "  GEOCODIGO DESBDT   ano  semana n_vacunas n_citas tmed     prec        \n",
       "1 001       Abrantes 2021 36     0         0       23.82223 -0.006302348\n",
       "2 001       Abrantes 2021 37     0         0       20.16001  3.553725804\n",
       "3 001       Abrantes 2021 38     0         0       18.55106  3.976905218\n",
       "4 001       Abrantes 2021 39     0         0       18.81539  1.480647232\n",
       "5 001       Abrantes 2021 40     0         0       17.49447 -0.033790900\n",
       "  velmedia presMax  benzene   co        no        no2      nox      o3      \n",
       "1 3.573728 940.9841 0.1713567 0.1680325  4.098371 20.09480 26.48135 50.03434\n",
       "2 2.494744 940.7610 0.1573829 0.2138607  6.515572 27.42594 37.45944 42.41281\n",
       "3 3.316148 943.1540 0.1858059 0.2034376  5.477654 20.74836 25.61128 56.29918\n",
       "4 2.384262 944.6697 0.1486437 0.2399882  9.593391 37.08524 52.43745 46.79483\n",
       "5 1.850839 944.2973 0.1428037 0.2693450 18.860535 40.19475 74.04903 41.06600\n",
       "  pm10     pm2.5     so2     \n",
       "1 17.44765  3.008675 6.861545\n",
       "2 17.65840 10.083070 6.589638\n",
       "3 12.84444  7.218588 4.364304\n",
       "4 16.39590  9.426029 3.123598\n",
       "5 14.90938  8.131753 1.291137"
      ]
     },
     "metadata": {},
     "output_type": "display_data"
    }
   ],
   "source": [
    "data_01 |> slice_head(n = 5)"
   ]
  },
  {
   "cell_type": "markdown",
   "metadata": {},
   "source": [
    "<font color='tomato'><b> OPCION A:</b> Seleccionar fichero en ventana para mayor comodidad</font> "
   ]
  },
  {
   "cell_type": "markdown",
   "metadata": {},
   "source": [
    "Data load using the {tcltk} package. Ucomment the line if not using this option"
   ]
  },
  {
   "cell_type": "code",
   "execution_count": null,
   "metadata": {
    "vscode": {
     "languageId": "r"
    }
   },
   "outputs": [],
   "source": [
    "# file_data <- tcltk::tk_choose.files(multi = FALSE)"
   ]
  },
  {
   "attachments": {},
   "cell_type": "markdown",
   "metadata": {},
   "source": [
    "2. Datos por zona"
   ]
  },
  {
   "cell_type": "markdown",
   "metadata": {},
   "source": [
    "<font color='tomato'><b> OPCION B:</b> Especificar el nombre de archivo</font>\n",
    "\n"
   ]
  },
  {
   "cell_type": "code",
   "execution_count": 7,
   "metadata": {
    "vscode": {
     "languageId": "r"
    }
   },
   "outputs": [
    {
     "name": "stdout",
     "output_type": "stream",
     "text": [
      "Se leer<U+00E1>n datos del archivo:  Data/Input/CU_04_05_17_indicadores_vacunacion.csv"
     ]
    }
   ],
   "source": [
    "iFile_02 <- \"CU_04_05_17_indicadores_vacunacion.csv\"\n",
    "file_data_02 <- paste0(iPath, iFile_02)\n",
    "\n",
    "if(file.exists(file_data_02)){\n",
    "    cat(\"Se leerán datos del archivo: \", file_data_02)\n",
    "} else{\n",
    "    warning(\"Cuidado: el archivo no existe.\")\n",
    "}\n"
   ]
  },
  {
   "cell_type": "markdown",
   "metadata": {},
   "source": [
    "#### Data file to dataframe\n",
    "\n",
    "Usar la función adecuada según el formato de entrada (xlsx, csv, json, ...)"
   ]
  },
  {
   "cell_type": "code",
   "execution_count": 19,
   "metadata": {
    "vscode": {
     "languageId": "r"
    }
   },
   "outputs": [
    {
     "name": "stderr",
     "output_type": "stream",
     "text": [
      "\u001b[1mRows: \u001b[22m\u001b[34m286\u001b[39m \u001b[1mColumns: \u001b[22m\u001b[34m26\u001b[39m\n",
      "\u001b[36m--\u001b[39m \u001b[1mColumn specification\u001b[22m \u001b[36m--------------------------------------------------------\u001b[39m\n",
      "\u001b[1mDelimiter:\u001b[22m \",\"\n",
      "\u001b[31mchr\u001b[39m  (3): GEOCODIGO, DESBDT, nombre_zona\n",
      "\u001b[32mdbl\u001b[39m (23): capacidad_zona, prop_riesgo, tasa_riesgo, tasa_mayores, poblacion_...\n",
      "\n",
      "\u001b[36mi\u001b[39m Use `spec()` to retrieve the full column specification for this data.\n",
      "\u001b[36mi\u001b[39m Specify the column types or set `show_col_types = FALSE` to quiet this message.\n"
     ]
    }
   ],
   "source": [
    "data_02 <- read_csv(file_data_02)\n"
   ]
  },
  {
   "cell_type": "markdown",
   "metadata": {},
   "source": [
    "Estructura de  los datos:"
   ]
  },
  {
   "cell_type": "code",
   "execution_count": 20,
   "metadata": {
    "vscode": {
     "languageId": "r"
    }
   },
   "outputs": [
    {
     "name": "stdout",
     "output_type": "stream",
     "text": [
      "Rows: 286\n",
      "Columns: 26\n",
      "$ GEOCODIGO         \u001b[3m\u001b[90m<chr>\u001b[39m\u001b[23m \"001\", \"002\", \"003\", \"004\", \"005\", \"006\", \"007\", \"00~\n",
      "$ DESBDT            \u001b[3m\u001b[90m<chr>\u001b[39m\u001b[23m \"Abrantes\", \"Acacias\", \"Adelfas\", \"Alameda\", \"Alamed~\n",
      "$ capacidad_zona    \u001b[3m\u001b[90m<dbl>\u001b[39m\u001b[23m 7477, 4482, 7235, 5343, 6816, 5318, 3081, 6843, 3776~\n",
      "$ prop_riesgo       \u001b[3m\u001b[90m<dbl>\u001b[39m\u001b[23m 0.19535423, 0.26312125, 0.24362661, 0.17253854, 0.24~\n",
      "$ tasa_riesgo       \u001b[3m\u001b[90m<dbl>\u001b[39m\u001b[23m 6.867731e-03, 1.091822e-02, 5.821857e-03, 1.797640e-~\n",
      "$ tasa_mayores      \u001b[3m\u001b[90m<dbl>\u001b[39m\u001b[23m 0.033242586, 0.012987683, 0.014193857, 0.009989278, ~\n",
      "$ poblacion_mayores \u001b[3m\u001b[90m<dbl>\u001b[39m\u001b[23m 0.17816190, 0.23909411, 0.22173279, 0.15740288, 0.21~\n",
      "$ nombre_zona       \u001b[3m\u001b[90m<chr>\u001b[39m\u001b[23m \"Abrantes\", \"Acacias\", \"Adelfas\", \"Alameda\", \"Alamed~\n",
      "$ nsec              \u001b[3m\u001b[90m<dbl>\u001b[39m\u001b[23m 23, 11, 19, 18, 18, 15, 10, 17, 11, 12, 14, 17, 8, 2~\n",
      "$ t3_1              \u001b[3m\u001b[90m<dbl>\u001b[39m\u001b[23m 42.31249, 46.15717, 45.30472, 43.70575, 43.31968, 44~\n",
      "$ t1_1              \u001b[3m\u001b[90m<dbl>\u001b[39m\u001b[23m 29872, 17961, 28933, 21393, 27259, 21186, 12367, 274~\n",
      "$ t2_1              \u001b[3m\u001b[90m<dbl>\u001b[39m\u001b[23m 0.5345094, 0.5328775, 0.5383134, 0.4919805, 0.515361~\n",
      "$ t2_2              \u001b[3m\u001b[90m<dbl>\u001b[39m\u001b[23m 0.4654906, 0.4671225, 0.4616866, 0.5080195, 0.484638~\n",
      "$ t4_1              \u001b[3m\u001b[90m<dbl>\u001b[39m\u001b[23m 0.15619346, 0.10929873, 0.12408817, 0.07409008, 0.17~\n",
      "$ t4_2              \u001b[3m\u001b[90m<dbl>\u001b[39m\u001b[23m 0.6656459, 0.6516215, 0.6541986, 0.7685363, 0.606369~\n",
      "$ t4_3              \u001b[3m\u001b[90m<dbl>\u001b[39m\u001b[23m 0.17816190, 0.23909411, 0.22173279, 0.15740288, 0.21~\n",
      "$ t5_1              \u001b[3m\u001b[90m<dbl>\u001b[39m\u001b[23m 0.21839930, 0.04313645, 0.07236948, 0.26145728, 0.07~\n",
      "$ t6_1              \u001b[3m\u001b[90m<dbl>\u001b[39m\u001b[23m 0.34508551, 0.07700825, 0.12420792, 0.35309699, 0.12~\n",
      "$ t7_1              \u001b[3m\u001b[90m<dbl>\u001b[39m\u001b[23m 0.04090796, 0.08494593, 0.07195008, 0.04949630, 0.07~\n",
      "$ t8_1              \u001b[3m\u001b[90m<dbl>\u001b[39m\u001b[23m 0.02880326, 0.07576304, 0.06532400, 0.04323113, 0.06~\n",
      "$ t9_1              \u001b[3m\u001b[90m<dbl>\u001b[39m\u001b[23m 0.2685716, 0.6368488, 0.6031800, 0.5672350, 0.586264~\n",
      "$ t10_1             \u001b[3m\u001b[90m<dbl>\u001b[39m\u001b[23m 0.16656066, 0.08377987, 0.08766432, 0.12302998, 0.08~\n",
      "$ t11_1             \u001b[3m\u001b[90m<dbl>\u001b[39m\u001b[23m 0.4723181, 0.5083022, 0.5262385, 0.5410470, 0.502854~\n",
      "$ t12_1             \u001b[3m\u001b[90m<dbl>\u001b[39m\u001b[23m 0.5637381, 0.5548573, 0.5770966, 0.6171510, 0.549047~\n",
      "$ area              \u001b[3m\u001b[90m<dbl>\u001b[39m\u001b[23m 1571618.8, 771569.7, 854805.6, 547596.1, 35137989.9,~\n",
      "$ densidad_hab_km   \u001b[3m\u001b[90m<dbl>\u001b[39m\u001b[23m 19007.1534, 23278.5190, 33847.4619, 39067.1135, 775.~\n"
     ]
    }
   ],
   "source": [
    "data_02 |> glimpse()"
   ]
  },
  {
   "cell_type": "markdown",
   "metadata": {},
   "source": [
    "Muestra de datos:"
   ]
  },
  {
   "cell_type": "code",
   "execution_count": 12,
   "metadata": {
    "vscode": {
     "languageId": "r"
    }
   },
   "outputs": [
    {
     "data": {
      "text/html": [
       "<table class=\"dataframe\">\n",
       "<caption>A spec_tbl_df: 5 x 19</caption>\n",
       "<thead>\n",
       "\t<tr><th scope=col>GEOCODIGO</th><th scope=col>DESBDT</th><th scope=col>ano</th><th scope=col>semana</th><th scope=col>n_vacunas</th><th scope=col>n_citas</th><th scope=col>tmed</th><th scope=col>prec</th><th scope=col>velmedia</th><th scope=col>presMax</th><th scope=col>benzene</th><th scope=col>co</th><th scope=col>no</th><th scope=col>no2</th><th scope=col>nox</th><th scope=col>o3</th><th scope=col>pm10</th><th scope=col>pm2.5</th><th scope=col>so2</th></tr>\n",
       "\t<tr><th scope=col>&lt;chr&gt;</th><th scope=col>&lt;chr&gt;</th><th scope=col>&lt;dbl&gt;</th><th scope=col>&lt;dbl&gt;</th><th scope=col>&lt;dbl&gt;</th><th scope=col>&lt;dbl&gt;</th><th scope=col>&lt;dbl&gt;</th><th scope=col>&lt;dbl&gt;</th><th scope=col>&lt;dbl&gt;</th><th scope=col>&lt;dbl&gt;</th><th scope=col>&lt;dbl&gt;</th><th scope=col>&lt;dbl&gt;</th><th scope=col>&lt;dbl&gt;</th><th scope=col>&lt;dbl&gt;</th><th scope=col>&lt;dbl&gt;</th><th scope=col>&lt;dbl&gt;</th><th scope=col>&lt;dbl&gt;</th><th scope=col>&lt;dbl&gt;</th><th scope=col>&lt;dbl&gt;</th></tr>\n",
       "</thead>\n",
       "<tbody>\n",
       "\t<tr><td>001</td><td>Abrantes</td><td>2021</td><td>36</td><td>0</td><td>0</td><td>23.82223</td><td>-0.006302348</td><td>3.573728</td><td>940.9841</td><td>0.1713567</td><td>0.1680325</td><td> 4.098371</td><td>20.09480</td><td>26.48135</td><td>50.03434</td><td>17.44765</td><td> 3.008675</td><td>6.861545</td></tr>\n",
       "\t<tr><td>001</td><td>Abrantes</td><td>2021</td><td>37</td><td>0</td><td>0</td><td>20.16001</td><td> 3.553725804</td><td>2.494744</td><td>940.7610</td><td>0.1573829</td><td>0.2138607</td><td> 6.515572</td><td>27.42594</td><td>37.45944</td><td>42.41281</td><td>17.65840</td><td>10.083070</td><td>6.589638</td></tr>\n",
       "\t<tr><td>001</td><td>Abrantes</td><td>2021</td><td>38</td><td>0</td><td>0</td><td>18.55106</td><td> 3.976905218</td><td>3.316148</td><td>943.1540</td><td>0.1858059</td><td>0.2034376</td><td> 5.477654</td><td>20.74836</td><td>25.61128</td><td>56.29918</td><td>12.84444</td><td> 7.218588</td><td>4.364304</td></tr>\n",
       "\t<tr><td>001</td><td>Abrantes</td><td>2021</td><td>39</td><td>0</td><td>0</td><td>18.81539</td><td> 1.480647232</td><td>2.384262</td><td>944.6697</td><td>0.1486437</td><td>0.2399882</td><td> 9.593391</td><td>37.08524</td><td>52.43745</td><td>46.79483</td><td>16.39590</td><td> 9.426029</td><td>3.123598</td></tr>\n",
       "\t<tr><td>001</td><td>Abrantes</td><td>2021</td><td>40</td><td>0</td><td>0</td><td>17.49447</td><td>-0.033790900</td><td>1.850839</td><td>944.2973</td><td>0.1428037</td><td>0.2693450</td><td>18.860535</td><td>40.19475</td><td>74.04903</td><td>41.06600</td><td>14.90938</td><td> 8.131753</td><td>1.291137</td></tr>\n",
       "</tbody>\n",
       "</table>\n"
      ],
      "text/latex": [
       "A spec\\_tbl\\_df: 5 x 19\n",
       "\\begin{tabular}{lllllllllllllllllll}\n",
       " GEOCODIGO & DESBDT & ano & semana & n\\_vacunas & n\\_citas & tmed & prec & velmedia & presMax & benzene & co & no & no2 & nox & o3 & pm10 & pm2.5 & so2\\\\\n",
       " <chr> & <chr> & <dbl> & <dbl> & <dbl> & <dbl> & <dbl> & <dbl> & <dbl> & <dbl> & <dbl> & <dbl> & <dbl> & <dbl> & <dbl> & <dbl> & <dbl> & <dbl> & <dbl>\\\\\n",
       "\\hline\n",
       "\t 001 & Abrantes & 2021 & 36 & 0 & 0 & 23.82223 & -0.006302348 & 3.573728 & 940.9841 & 0.1713567 & 0.1680325 &  4.098371 & 20.09480 & 26.48135 & 50.03434 & 17.44765 &  3.008675 & 6.861545\\\\\n",
       "\t 001 & Abrantes & 2021 & 37 & 0 & 0 & 20.16001 &  3.553725804 & 2.494744 & 940.7610 & 0.1573829 & 0.2138607 &  6.515572 & 27.42594 & 37.45944 & 42.41281 & 17.65840 & 10.083070 & 6.589638\\\\\n",
       "\t 001 & Abrantes & 2021 & 38 & 0 & 0 & 18.55106 &  3.976905218 & 3.316148 & 943.1540 & 0.1858059 & 0.2034376 &  5.477654 & 20.74836 & 25.61128 & 56.29918 & 12.84444 &  7.218588 & 4.364304\\\\\n",
       "\t 001 & Abrantes & 2021 & 39 & 0 & 0 & 18.81539 &  1.480647232 & 2.384262 & 944.6697 & 0.1486437 & 0.2399882 &  9.593391 & 37.08524 & 52.43745 & 46.79483 & 16.39590 &  9.426029 & 3.123598\\\\\n",
       "\t 001 & Abrantes & 2021 & 40 & 0 & 0 & 17.49447 & -0.033790900 & 1.850839 & 944.2973 & 0.1428037 & 0.2693450 & 18.860535 & 40.19475 & 74.04903 & 41.06600 & 14.90938 &  8.131753 & 1.291137\\\\\n",
       "\\end{tabular}\n"
      ],
      "text/markdown": [
       "\n",
       "A spec_tbl_df: 5 x 19\n",
       "\n",
       "| GEOCODIGO &lt;chr&gt; | DESBDT &lt;chr&gt; | ano &lt;dbl&gt; | semana &lt;dbl&gt; | n_vacunas &lt;dbl&gt; | n_citas &lt;dbl&gt; | tmed &lt;dbl&gt; | prec &lt;dbl&gt; | velmedia &lt;dbl&gt; | presMax &lt;dbl&gt; | benzene &lt;dbl&gt; | co &lt;dbl&gt; | no &lt;dbl&gt; | no2 &lt;dbl&gt; | nox &lt;dbl&gt; | o3 &lt;dbl&gt; | pm10 &lt;dbl&gt; | pm2.5 &lt;dbl&gt; | so2 &lt;dbl&gt; |\n",
       "|---|---|---|---|---|---|---|---|---|---|---|---|---|---|---|---|---|---|---|\n",
       "| 001 | Abrantes | 2021 | 36 | 0 | 0 | 23.82223 | -0.006302348 | 3.573728 | 940.9841 | 0.1713567 | 0.1680325 |  4.098371 | 20.09480 | 26.48135 | 50.03434 | 17.44765 |  3.008675 | 6.861545 |\n",
       "| 001 | Abrantes | 2021 | 37 | 0 | 0 | 20.16001 |  3.553725804 | 2.494744 | 940.7610 | 0.1573829 | 0.2138607 |  6.515572 | 27.42594 | 37.45944 | 42.41281 | 17.65840 | 10.083070 | 6.589638 |\n",
       "| 001 | Abrantes | 2021 | 38 | 0 | 0 | 18.55106 |  3.976905218 | 3.316148 | 943.1540 | 0.1858059 | 0.2034376 |  5.477654 | 20.74836 | 25.61128 | 56.29918 | 12.84444 |  7.218588 | 4.364304 |\n",
       "| 001 | Abrantes | 2021 | 39 | 0 | 0 | 18.81539 |  1.480647232 | 2.384262 | 944.6697 | 0.1486437 | 0.2399882 |  9.593391 | 37.08524 | 52.43745 | 46.79483 | 16.39590 |  9.426029 | 3.123598 |\n",
       "| 001 | Abrantes | 2021 | 40 | 0 | 0 | 17.49447 | -0.033790900 | 1.850839 | 944.2973 | 0.1428037 | 0.2693450 | 18.860535 | 40.19475 | 74.04903 | 41.06600 | 14.90938 |  8.131753 | 1.291137 |\n",
       "\n"
      ],
      "text/plain": [
       "  GEOCODIGO DESBDT   ano  semana n_vacunas n_citas tmed     prec        \n",
       "1 001       Abrantes 2021 36     0         0       23.82223 -0.006302348\n",
       "2 001       Abrantes 2021 37     0         0       20.16001  3.553725804\n",
       "3 001       Abrantes 2021 38     0         0       18.55106  3.976905218\n",
       "4 001       Abrantes 2021 39     0         0       18.81539  1.480647232\n",
       "5 001       Abrantes 2021 40     0         0       17.49447 -0.033790900\n",
       "  velmedia presMax  benzene   co        no        no2      nox      o3      \n",
       "1 3.573728 940.9841 0.1713567 0.1680325  4.098371 20.09480 26.48135 50.03434\n",
       "2 2.494744 940.7610 0.1573829 0.2138607  6.515572 27.42594 37.45944 42.41281\n",
       "3 3.316148 943.1540 0.1858059 0.2034376  5.477654 20.74836 25.61128 56.29918\n",
       "4 2.384262 944.6697 0.1486437 0.2399882  9.593391 37.08524 52.43745 46.79483\n",
       "5 1.850839 944.2973 0.1428037 0.2693450 18.860535 40.19475 74.04903 41.06600\n",
       "  pm10     pm2.5     so2     \n",
       "1 17.44765  3.008675 6.861545\n",
       "2 17.65840 10.083070 6.589638\n",
       "3 12.84444  7.218588 4.364304\n",
       "4 16.39590  9.426029 3.123598\n",
       "5 14.90938  8.131753 1.291137"
      ]
     },
     "metadata": {},
     "output_type": "display_data"
    }
   ],
   "source": [
    "data_02 |> slice_head(n = 5)"
   ]
  },
  {
   "attachments": {},
   "cell_type": "markdown",
   "metadata": {},
   "source": [
    "3. Datos por semana"
   ]
  },
  {
   "cell_type": "markdown",
   "metadata": {},
   "source": [
    "<font color='tomato'><b> OPCION A:</b> Seleccionar fichero en ventana para mayor comodidad</font> "
   ]
  },
  {
   "cell_type": "markdown",
   "metadata": {},
   "source": [
    "Data load using the {tcltk} package. Ucomment the line if not using this option"
   ]
  },
  {
   "cell_type": "code",
   "execution_count": null,
   "metadata": {
    "vscode": {
     "languageId": "r"
    }
   },
   "outputs": [],
   "source": [
    "# file_data_03 <- tcltk::tk_choose.files(multi = FALSE)"
   ]
  },
  {
   "cell_type": "markdown",
   "metadata": {},
   "source": [
    "<font color='tomato'><b> OPCION B:</b> Especificar el nombre de archivo</font>\n",
    "\n"
   ]
  },
  {
   "cell_type": "code",
   "execution_count": 15,
   "metadata": {
    "vscode": {
     "languageId": "r"
    }
   },
   "outputs": [
    {
     "name": "stdout",
     "output_type": "stream",
     "text": [
      "Se leer<U+00E1>n datos del archivo:  Data/Input/CU_04_05_18_escucha_gripe.csv"
     ]
    }
   ],
   "source": [
    "iFile_03 <- \"CU_04_05_18_escucha_gripe.csv\"\n",
    "file_data_03 <- paste0(iPath, iFile_03)\n",
    "\n",
    "if(file.exists(file_data_03)){\n",
    "    cat(\"Se leerán datos del archivo: \", file_data_03)\n",
    "} else{\n",
    "    warning(\"Cuidado: el archivo no existe.\")\n",
    "}\n"
   ]
  },
  {
   "cell_type": "markdown",
   "metadata": {},
   "source": [
    "#### Data file to dataframe\n",
    "\n",
    "Usar la función adecuada según el formato de entrada (xlsx, csv, json, ...)"
   ]
  },
  {
   "cell_type": "code",
   "execution_count": 16,
   "metadata": {
    "vscode": {
     "languageId": "r"
    }
   },
   "outputs": [
    {
     "name": "stderr",
     "output_type": "stream",
     "text": [
      "\u001b[1mRows: \u001b[22m\u001b[34m74\u001b[39m \u001b[1mColumns: \u001b[22m\u001b[34m4\u001b[39m\n",
      "\u001b[36m--\u001b[39m \u001b[1mColumn specification\u001b[22m \u001b[36m--------------------------------------------------------\u001b[39m\n",
      "\u001b[1mDelimiter:\u001b[22m \",\"\n",
      "\u001b[32mdbl\u001b[39m (4): ano, semana, tuits_gripe, interes_gripe\n",
      "\n",
      "\u001b[36mi\u001b[39m Use `spec()` to retrieve the full column specification for this data.\n",
      "\u001b[36mi\u001b[39m Specify the column types or set `show_col_types = FALSE` to quiet this message.\n"
     ]
    }
   ],
   "source": [
    "data_03 <- read_csv(file_data_03)\n"
   ]
  },
  {
   "cell_type": "markdown",
   "metadata": {},
   "source": [
    "Estructura de  los datos:"
   ]
  },
  {
   "cell_type": "code",
   "execution_count": 17,
   "metadata": {
    "vscode": {
     "languageId": "r"
    }
   },
   "outputs": [
    {
     "name": "stdout",
     "output_type": "stream",
     "text": [
      "Rows: 74\n",
      "Columns: 4\n",
      "$ ano           \u001b[3m\u001b[90m<dbl>\u001b[39m\u001b[23m 2021, 2021, 2021, 2021, 2021, 2021, 2021, 2021, 2021, 20~\n",
      "$ semana        \u001b[3m\u001b[90m<dbl>\u001b[39m\u001b[23m 36, 37, 38, 39, 40, 41, 42, 43, 44, 45, 46, 47, 48, 49, ~\n",
      "$ tuits_gripe   \u001b[3m\u001b[90m<dbl>\u001b[39m\u001b[23m 97, 79, 112, 143, 112, 130, 254, 190, 198, 160, 206, 280~\n",
      "$ interes_gripe \u001b[3m\u001b[90m<dbl>\u001b[39m\u001b[23m 13, 15, 19, 29, 38, 65, 100, 94, 63, 70, 64, 64, 57, 67,~\n"
     ]
    }
   ],
   "source": [
    "data_03 |> glimpse()"
   ]
  },
  {
   "cell_type": "markdown",
   "metadata": {},
   "source": [
    "Muestra de datos:"
   ]
  },
  {
   "cell_type": "code",
   "execution_count": 18,
   "metadata": {
    "vscode": {
     "languageId": "r"
    }
   },
   "outputs": [
    {
     "data": {
      "text/html": [
       "<table class=\"dataframe\">\n",
       "<caption>A spec_tbl_df: 5 x 4</caption>\n",
       "<thead>\n",
       "\t<tr><th scope=col>ano</th><th scope=col>semana</th><th scope=col>tuits_gripe</th><th scope=col>interes_gripe</th></tr>\n",
       "\t<tr><th scope=col>&lt;dbl&gt;</th><th scope=col>&lt;dbl&gt;</th><th scope=col>&lt;dbl&gt;</th><th scope=col>&lt;dbl&gt;</th></tr>\n",
       "</thead>\n",
       "<tbody>\n",
       "\t<tr><td>2021</td><td>36</td><td> 97</td><td>13</td></tr>\n",
       "\t<tr><td>2021</td><td>37</td><td> 79</td><td>15</td></tr>\n",
       "\t<tr><td>2021</td><td>38</td><td>112</td><td>19</td></tr>\n",
       "\t<tr><td>2021</td><td>39</td><td>143</td><td>29</td></tr>\n",
       "\t<tr><td>2021</td><td>40</td><td>112</td><td>38</td></tr>\n",
       "</tbody>\n",
       "</table>\n"
      ],
      "text/latex": [
       "A spec\\_tbl\\_df: 5 x 4\n",
       "\\begin{tabular}{llll}\n",
       " ano & semana & tuits\\_gripe & interes\\_gripe\\\\\n",
       " <dbl> & <dbl> & <dbl> & <dbl>\\\\\n",
       "\\hline\n",
       "\t 2021 & 36 &  97 & 13\\\\\n",
       "\t 2021 & 37 &  79 & 15\\\\\n",
       "\t 2021 & 38 & 112 & 19\\\\\n",
       "\t 2021 & 39 & 143 & 29\\\\\n",
       "\t 2021 & 40 & 112 & 38\\\\\n",
       "\\end{tabular}\n"
      ],
      "text/markdown": [
       "\n",
       "A spec_tbl_df: 5 x 4\n",
       "\n",
       "| ano &lt;dbl&gt; | semana &lt;dbl&gt; | tuits_gripe &lt;dbl&gt; | interes_gripe &lt;dbl&gt; |\n",
       "|---|---|---|---|\n",
       "| 2021 | 36 |  97 | 13 |\n",
       "| 2021 | 37 |  79 | 15 |\n",
       "| 2021 | 38 | 112 | 19 |\n",
       "| 2021 | 39 | 143 | 29 |\n",
       "| 2021 | 40 | 112 | 38 |\n",
       "\n"
      ],
      "text/plain": [
       "  ano  semana tuits_gripe interes_gripe\n",
       "1 2021 36      97         13           \n",
       "2 2021 37      79         15           \n",
       "3 2021 38     112         19           \n",
       "4 2021 39     143         29           \n",
       "5 2021 40     112         38           "
      ]
     },
     "metadata": {},
     "output_type": "display_data"
    }
   ],
   "source": [
    "data_03 |> slice_head(n = 5)"
   ]
  },
  {
   "cell_type": "markdown",
   "metadata": {
    "slideshow": {
     "slide_type": "slide"
    }
   },
   "source": [
    "## ETL Processes"
   ]
  },
  {
   "attachments": {},
   "cell_type": "markdown",
   "metadata": {
    "slideshow": {
     "slide_type": "slide"
    }
   },
   "source": [
    "### Import data from: CSV, Excel, Tab, JSON, SQL, and Parquet files\n",
    "\n",
    "Se han importado en el apartado Data Load anterior:\n",
    "\n",
    "* Datos por semana y zona (vacunación, meteo y conta)\n",
    "* Datos por zona (indicadores socieconómicos y sanitarias)\n",
    "* Datos por semana (búsquedas y tuits)"
   ]
  },
  {
   "attachments": {},
   "cell_type": "markdown",
   "metadata": {},
   "source": [
    "Incluir apartados si procede para: Extracción de datos (select, filter), Transformación de datos, (mutate, joins, ...). Si es necesario tratar datos perdidos, indicarlo también en NB 09.2"
   ]
  },
  {
   "attachments": {},
   "cell_type": "markdown",
   "metadata": {},
   "source": [
    "Si no aplica: Estos datos no requieren tareas de este tipo."
   ]
  },
  {
   "attachments": {},
   "cell_type": "markdown",
   "metadata": {},
   "source": [
    "#### Data transformation"
   ]
  },
  {
   "cell_type": "code",
   "execution_count": 24,
   "metadata": {
    "vscode": {
     "languageId": "r"
    }
   },
   "outputs": [],
   "source": [
    "data <- data_01 |> \n",
    "    full_join(data_02, by = c(\"GEOCODIGO\", \"DESBDT\")) |>\n",
    "    full_join(data_03, by = c(\"ano\", \"semana\"))"
   ]
  },
  {
   "cell_type": "code",
   "execution_count": 25,
   "metadata": {
    "vscode": {
     "languageId": "r"
    }
   },
   "outputs": [
    {
     "name": "stdout",
     "output_type": "stream",
     "text": [
      "Rows: 21,736\n",
      "Columns: 45\n",
      "$ GEOCODIGO         \u001b[3m\u001b[90m<chr>\u001b[39m\u001b[23m \"001\", \"001\", \"001\", \"001\", \"001\", \"001\", \"001\", \"00~\n",
      "$ DESBDT            \u001b[3m\u001b[90m<chr>\u001b[39m\u001b[23m \"Abrantes\", \"Abrantes\", \"Abrantes\", \"Abrantes\", \"Abr~\n",
      "$ ano               \u001b[3m\u001b[90m<dbl>\u001b[39m\u001b[23m 2021, 2021, 2021, 2021, 2021, 2021, 2021, 2021, 2021~\n",
      "$ semana            \u001b[3m\u001b[90m<dbl>\u001b[39m\u001b[23m 36, 37, 38, 39, 40, 41, 42, 43, 44, 45, 46, 47, 48, ~\n",
      "$ n_vacunas         \u001b[3m\u001b[90m<dbl>\u001b[39m\u001b[23m 0, 0, 0, 0, 0, 328, 344, 353, 371, 341, 389, 349, 40~\n",
      "$ n_citas           \u001b[3m\u001b[90m<dbl>\u001b[39m\u001b[23m 0, 0, 0, 0, 0, 305, 327, 328, 341, 334, 373, 332, 37~\n",
      "$ tmed              \u001b[3m\u001b[90m<dbl>\u001b[39m\u001b[23m 23.822231, 20.160014, 18.551058, 18.815387, 17.49447~\n",
      "$ prec              \u001b[3m\u001b[90m<dbl>\u001b[39m\u001b[23m -0.0063023484, 3.5537258042, 3.9769052178, 1.4806472~\n",
      "$ velmedia          \u001b[3m\u001b[90m<dbl>\u001b[39m\u001b[23m 3.573728, 2.494744, 3.316148, 2.384262, 1.850839, 1.~\n",
      "$ presMax           \u001b[3m\u001b[90m<dbl>\u001b[39m\u001b[23m 940.9841, 940.7610, 943.1540, 944.6697, 944.2973, 94~\n",
      "$ benzene           \u001b[3m\u001b[90m<dbl>\u001b[39m\u001b[23m 0.1713567, 0.1573829, 0.1858059, 0.1486437, 0.142803~\n",
      "$ co                \u001b[3m\u001b[90m<dbl>\u001b[39m\u001b[23m 0.1680325, 0.2138607, 0.2034376, 0.2399882, 0.269345~\n",
      "$ no                \u001b[3m\u001b[90m<dbl>\u001b[39m\u001b[23m 4.098371, 6.515572, 5.477654, 9.593391, 18.860535, 1~\n",
      "$ no2               \u001b[3m\u001b[90m<dbl>\u001b[39m\u001b[23m 20.09480, 27.42594, 20.74836, 37.08524, 40.19475, 44~\n",
      "$ nox               \u001b[3m\u001b[90m<dbl>\u001b[39m\u001b[23m 26.48135, 37.45944, 25.61128, 52.43745, 74.04903, 75~\n",
      "$ o3                \u001b[3m\u001b[90m<dbl>\u001b[39m\u001b[23m 50.03434, 42.41281, 56.29918, 46.79483, 41.06600, 44~\n",
      "$ pm10              \u001b[3m\u001b[90m<dbl>\u001b[39m\u001b[23m 17.447652, 17.658399, 12.844436, 16.395896, 14.90938~\n",
      "$ pm2.5             \u001b[3m\u001b[90m<dbl>\u001b[39m\u001b[23m 3.008675, 10.083070, 7.218588, 9.426029, 8.131753, 1~\n",
      "$ so2               \u001b[3m\u001b[90m<dbl>\u001b[39m\u001b[23m 6.861545, 6.589638, 4.364304, 3.123598, 1.291137, 1.~\n",
      "$ capacidad_zona    \u001b[3m\u001b[90m<dbl>\u001b[39m\u001b[23m 7477, 7477, 7477, 7477, 7477, 7477, 7477, 7477, 7477~\n",
      "$ prop_riesgo       \u001b[3m\u001b[90m<dbl>\u001b[39m\u001b[23m 0.1953542, 0.1953542, 0.1953542, 0.1953542, 0.195354~\n",
      "$ tasa_riesgo       \u001b[3m\u001b[90m<dbl>\u001b[39m\u001b[23m 0.006867731, 0.006867731, 0.006867731, 0.006867731, ~\n",
      "$ tasa_mayores      \u001b[3m\u001b[90m<dbl>\u001b[39m\u001b[23m 0.03324259, 0.03324259, 0.03324259, 0.03324259, 0.03~\n",
      "$ poblacion_mayores \u001b[3m\u001b[90m<dbl>\u001b[39m\u001b[23m 0.1781619, 0.1781619, 0.1781619, 0.1781619, 0.178161~\n",
      "$ nombre_zona       \u001b[3m\u001b[90m<chr>\u001b[39m\u001b[23m \"Abrantes\", \"Abrantes\", \"Abrantes\", \"Abrantes\", \"Abr~\n",
      "$ nsec              \u001b[3m\u001b[90m<dbl>\u001b[39m\u001b[23m 23, 23, 23, 23, 23, 23, 23, 23, 23, 23, 23, 23, 23, ~\n",
      "$ t3_1              \u001b[3m\u001b[90m<dbl>\u001b[39m\u001b[23m 42.31249, 42.31249, 42.31249, 42.31249, 42.31249, 42~\n",
      "$ t1_1              \u001b[3m\u001b[90m<dbl>\u001b[39m\u001b[23m 29872, 29872, 29872, 29872, 29872, 29872, 29872, 298~\n",
      "$ t2_1              \u001b[3m\u001b[90m<dbl>\u001b[39m\u001b[23m 0.5345094, 0.5345094, 0.5345094, 0.5345094, 0.534509~\n",
      "$ t2_2              \u001b[3m\u001b[90m<dbl>\u001b[39m\u001b[23m 0.4654906, 0.4654906, 0.4654906, 0.4654906, 0.465490~\n",
      "$ t4_1              \u001b[3m\u001b[90m<dbl>\u001b[39m\u001b[23m 0.1561935, 0.1561935, 0.1561935, 0.1561935, 0.156193~\n",
      "$ t4_2              \u001b[3m\u001b[90m<dbl>\u001b[39m\u001b[23m 0.6656459, 0.6656459, 0.6656459, 0.6656459, 0.665645~\n",
      "$ t4_3              \u001b[3m\u001b[90m<dbl>\u001b[39m\u001b[23m 0.1781619, 0.1781619, 0.1781619, 0.1781619, 0.178161~\n",
      "$ t5_1              \u001b[3m\u001b[90m<dbl>\u001b[39m\u001b[23m 0.2183993, 0.2183993, 0.2183993, 0.2183993, 0.218399~\n",
      "$ t6_1              \u001b[3m\u001b[90m<dbl>\u001b[39m\u001b[23m 0.3450855, 0.3450855, 0.3450855, 0.3450855, 0.345085~\n",
      "$ t7_1              \u001b[3m\u001b[90m<dbl>\u001b[39m\u001b[23m 0.04090796, 0.04090796, 0.04090796, 0.04090796, 0.04~\n",
      "$ t8_1              \u001b[3m\u001b[90m<dbl>\u001b[39m\u001b[23m 0.02880326, 0.02880326, 0.02880326, 0.02880326, 0.02~\n",
      "$ t9_1              \u001b[3m\u001b[90m<dbl>\u001b[39m\u001b[23m 0.2685716, 0.2685716, 0.2685716, 0.2685716, 0.268571~\n",
      "$ t10_1             \u001b[3m\u001b[90m<dbl>\u001b[39m\u001b[23m 0.1665607, 0.1665607, 0.1665607, 0.1665607, 0.166560~\n",
      "$ t11_1             \u001b[3m\u001b[90m<dbl>\u001b[39m\u001b[23m 0.4723181, 0.4723181, 0.4723181, 0.4723181, 0.472318~\n",
      "$ t12_1             \u001b[3m\u001b[90m<dbl>\u001b[39m\u001b[23m 0.5637381, 0.5637381, 0.5637381, 0.5637381, 0.563738~\n",
      "$ area              \u001b[3m\u001b[90m<dbl>\u001b[39m\u001b[23m 1571619, 1571619, 1571619, 1571619, 1571619, 1571619~\n",
      "$ densidad_hab_km   \u001b[3m\u001b[90m<dbl>\u001b[39m\u001b[23m 19007.15, 19007.15, 19007.15, 19007.15, 19007.15, 19~\n",
      "$ tuits_gripe       \u001b[3m\u001b[90m<dbl>\u001b[39m\u001b[23m 97, 79, 112, 143, 112, 130, 254, 190, 198, 160, 206,~\n",
      "$ interes_gripe     \u001b[3m\u001b[90m<dbl>\u001b[39m\u001b[23m 13, 15, 19, 29, 38, 65, 100, 94, 63, 70, 64, 64, 57,~\n"
     ]
    }
   ],
   "source": [
    "data |> glimpse()"
   ]
  },
  {
   "cell_type": "code",
   "execution_count": 27,
   "metadata": {
    "vscode": {
     "languageId": "r"
    }
   },
   "outputs": [
    {
     "data": {
      "text/html": [
       "<table class=\"dataframe\">\n",
       "<caption>A spec_tbl_df: 5 x 45</caption>\n",
       "<thead>\n",
       "\t<tr><th scope=col>GEOCODIGO</th><th scope=col>DESBDT</th><th scope=col>ano</th><th scope=col>semana</th><th scope=col>n_vacunas</th><th scope=col>n_citas</th><th scope=col>tmed</th><th scope=col>prec</th><th scope=col>velmedia</th><th scope=col>presMax</th><th scope=col>...</th><th scope=col>t7_1</th><th scope=col>t8_1</th><th scope=col>t9_1</th><th scope=col>t10_1</th><th scope=col>t11_1</th><th scope=col>t12_1</th><th scope=col>area</th><th scope=col>densidad_hab_km</th><th scope=col>tuits_gripe</th><th scope=col>interes_gripe</th></tr>\n",
       "\t<tr><th scope=col>&lt;chr&gt;</th><th scope=col>&lt;chr&gt;</th><th scope=col>&lt;dbl&gt;</th><th scope=col>&lt;dbl&gt;</th><th scope=col>&lt;dbl&gt;</th><th scope=col>&lt;dbl&gt;</th><th scope=col>&lt;dbl&gt;</th><th scope=col>&lt;dbl&gt;</th><th scope=col>&lt;dbl&gt;</th><th scope=col>&lt;dbl&gt;</th><th scope=col>...</th><th scope=col>&lt;dbl&gt;</th><th scope=col>&lt;dbl&gt;</th><th scope=col>&lt;dbl&gt;</th><th scope=col>&lt;dbl&gt;</th><th scope=col>&lt;dbl&gt;</th><th scope=col>&lt;dbl&gt;</th><th scope=col>&lt;dbl&gt;</th><th scope=col>&lt;dbl&gt;</th><th scope=col>&lt;dbl&gt;</th><th scope=col>&lt;dbl&gt;</th></tr>\n",
       "</thead>\n",
       "<tbody>\n",
       "\t<tr><td>001</td><td>Abrantes</td><td>2021</td><td>36</td><td>0</td><td>0</td><td>23.82223</td><td>-0.006302348</td><td>3.573728</td><td>940.9841</td><td>...</td><td>0.04090796</td><td>0.02880326</td><td>0.2685716</td><td>0.1665607</td><td>0.4723181</td><td>0.5637381</td><td>1571619</td><td>19007.15</td><td> 97</td><td>13</td></tr>\n",
       "\t<tr><td>001</td><td>Abrantes</td><td>2021</td><td>37</td><td>0</td><td>0</td><td>20.16001</td><td> 3.553725804</td><td>2.494744</td><td>940.7610</td><td>...</td><td>0.04090796</td><td>0.02880326</td><td>0.2685716</td><td>0.1665607</td><td>0.4723181</td><td>0.5637381</td><td>1571619</td><td>19007.15</td><td> 79</td><td>15</td></tr>\n",
       "\t<tr><td>001</td><td>Abrantes</td><td>2021</td><td>38</td><td>0</td><td>0</td><td>18.55106</td><td> 3.976905218</td><td>3.316148</td><td>943.1540</td><td>...</td><td>0.04090796</td><td>0.02880326</td><td>0.2685716</td><td>0.1665607</td><td>0.4723181</td><td>0.5637381</td><td>1571619</td><td>19007.15</td><td>112</td><td>19</td></tr>\n",
       "\t<tr><td>001</td><td>Abrantes</td><td>2021</td><td>39</td><td>0</td><td>0</td><td>18.81539</td><td> 1.480647232</td><td>2.384262</td><td>944.6697</td><td>...</td><td>0.04090796</td><td>0.02880326</td><td>0.2685716</td><td>0.1665607</td><td>0.4723181</td><td>0.5637381</td><td>1571619</td><td>19007.15</td><td>143</td><td>29</td></tr>\n",
       "\t<tr><td>001</td><td>Abrantes</td><td>2021</td><td>40</td><td>0</td><td>0</td><td>17.49447</td><td>-0.033790900</td><td>1.850839</td><td>944.2973</td><td>...</td><td>0.04090796</td><td>0.02880326</td><td>0.2685716</td><td>0.1665607</td><td>0.4723181</td><td>0.5637381</td><td>1571619</td><td>19007.15</td><td>112</td><td>38</td></tr>\n",
       "</tbody>\n",
       "</table>\n"
      ],
      "text/latex": [
       "A spec\\_tbl\\_df: 5 x 45\n",
       "\\begin{tabular}{lllllllllllllllllllll}\n",
       " GEOCODIGO & DESBDT & ano & semana & n\\_vacunas & n\\_citas & tmed & prec & velmedia & presMax & ... & t7\\_1 & t8\\_1 & t9\\_1 & t10\\_1 & t11\\_1 & t12\\_1 & area & densidad\\_hab\\_km & tuits\\_gripe & interes\\_gripe\\\\\n",
       " <chr> & <chr> & <dbl> & <dbl> & <dbl> & <dbl> & <dbl> & <dbl> & <dbl> & <dbl> & ... & <dbl> & <dbl> & <dbl> & <dbl> & <dbl> & <dbl> & <dbl> & <dbl> & <dbl> & <dbl>\\\\\n",
       "\\hline\n",
       "\t 001 & Abrantes & 2021 & 36 & 0 & 0 & 23.82223 & -0.006302348 & 3.573728 & 940.9841 & ... & 0.04090796 & 0.02880326 & 0.2685716 & 0.1665607 & 0.4723181 & 0.5637381 & 1571619 & 19007.15 &  97 & 13\\\\\n",
       "\t 001 & Abrantes & 2021 & 37 & 0 & 0 & 20.16001 &  3.553725804 & 2.494744 & 940.7610 & ... & 0.04090796 & 0.02880326 & 0.2685716 & 0.1665607 & 0.4723181 & 0.5637381 & 1571619 & 19007.15 &  79 & 15\\\\\n",
       "\t 001 & Abrantes & 2021 & 38 & 0 & 0 & 18.55106 &  3.976905218 & 3.316148 & 943.1540 & ... & 0.04090796 & 0.02880326 & 0.2685716 & 0.1665607 & 0.4723181 & 0.5637381 & 1571619 & 19007.15 & 112 & 19\\\\\n",
       "\t 001 & Abrantes & 2021 & 39 & 0 & 0 & 18.81539 &  1.480647232 & 2.384262 & 944.6697 & ... & 0.04090796 & 0.02880326 & 0.2685716 & 0.1665607 & 0.4723181 & 0.5637381 & 1571619 & 19007.15 & 143 & 29\\\\\n",
       "\t 001 & Abrantes & 2021 & 40 & 0 & 0 & 17.49447 & -0.033790900 & 1.850839 & 944.2973 & ... & 0.04090796 & 0.02880326 & 0.2685716 & 0.1665607 & 0.4723181 & 0.5637381 & 1571619 & 19007.15 & 112 & 38\\\\\n",
       "\\end{tabular}\n"
      ],
      "text/markdown": [
       "\n",
       "A spec_tbl_df: 5 x 45\n",
       "\n",
       "| GEOCODIGO &lt;chr&gt; | DESBDT &lt;chr&gt; | ano &lt;dbl&gt; | semana &lt;dbl&gt; | n_vacunas &lt;dbl&gt; | n_citas &lt;dbl&gt; | tmed &lt;dbl&gt; | prec &lt;dbl&gt; | velmedia &lt;dbl&gt; | presMax &lt;dbl&gt; | ... ... | t7_1 &lt;dbl&gt; | t8_1 &lt;dbl&gt; | t9_1 &lt;dbl&gt; | t10_1 &lt;dbl&gt; | t11_1 &lt;dbl&gt; | t12_1 &lt;dbl&gt; | area &lt;dbl&gt; | densidad_hab_km &lt;dbl&gt; | tuits_gripe &lt;dbl&gt; | interes_gripe &lt;dbl&gt; |\n",
       "|---|---|---|---|---|---|---|---|---|---|---|---|---|---|---|---|---|---|---|---|---|\n",
       "| 001 | Abrantes | 2021 | 36 | 0 | 0 | 23.82223 | -0.006302348 | 3.573728 | 940.9841 | ... | 0.04090796 | 0.02880326 | 0.2685716 | 0.1665607 | 0.4723181 | 0.5637381 | 1571619 | 19007.15 |  97 | 13 |\n",
       "| 001 | Abrantes | 2021 | 37 | 0 | 0 | 20.16001 |  3.553725804 | 2.494744 | 940.7610 | ... | 0.04090796 | 0.02880326 | 0.2685716 | 0.1665607 | 0.4723181 | 0.5637381 | 1571619 | 19007.15 |  79 | 15 |\n",
       "| 001 | Abrantes | 2021 | 38 | 0 | 0 | 18.55106 |  3.976905218 | 3.316148 | 943.1540 | ... | 0.04090796 | 0.02880326 | 0.2685716 | 0.1665607 | 0.4723181 | 0.5637381 | 1571619 | 19007.15 | 112 | 19 |\n",
       "| 001 | Abrantes | 2021 | 39 | 0 | 0 | 18.81539 |  1.480647232 | 2.384262 | 944.6697 | ... | 0.04090796 | 0.02880326 | 0.2685716 | 0.1665607 | 0.4723181 | 0.5637381 | 1571619 | 19007.15 | 143 | 29 |\n",
       "| 001 | Abrantes | 2021 | 40 | 0 | 0 | 17.49447 | -0.033790900 | 1.850839 | 944.2973 | ... | 0.04090796 | 0.02880326 | 0.2685716 | 0.1665607 | 0.4723181 | 0.5637381 | 1571619 | 19007.15 | 112 | 38 |\n",
       "\n"
      ],
      "text/plain": [
       "  GEOCODIGO DESBDT   ano  semana n_vacunas n_citas tmed     prec        \n",
       "1 001       Abrantes 2021 36     0         0       23.82223 -0.006302348\n",
       "2 001       Abrantes 2021 37     0         0       20.16001  3.553725804\n",
       "3 001       Abrantes 2021 38     0         0       18.55106  3.976905218\n",
       "4 001       Abrantes 2021 39     0         0       18.81539  1.480647232\n",
       "5 001       Abrantes 2021 40     0         0       17.49447 -0.033790900\n",
       "  velmedia presMax  ... t7_1       t8_1       t9_1      t10_1     t11_1    \n",
       "1 3.573728 940.9841 ... 0.04090796 0.02880326 0.2685716 0.1665607 0.4723181\n",
       "2 2.494744 940.7610 ... 0.04090796 0.02880326 0.2685716 0.1665607 0.4723181\n",
       "3 3.316148 943.1540 ... 0.04090796 0.02880326 0.2685716 0.1665607 0.4723181\n",
       "4 2.384262 944.6697 ... 0.04090796 0.02880326 0.2685716 0.1665607 0.4723181\n",
       "5 1.850839 944.2973 ... 0.04090796 0.02880326 0.2685716 0.1665607 0.4723181\n",
       "  t12_1     area    densidad_hab_km tuits_gripe interes_gripe\n",
       "1 0.5637381 1571619 19007.15         97         13           \n",
       "2 0.5637381 1571619 19007.15         79         15           \n",
       "3 0.5637381 1571619 19007.15        112         19           \n",
       "4 0.5637381 1571619 19007.15        143         29           \n",
       "5 0.5637381 1571619 19007.15        112         38           "
      ]
     },
     "metadata": {},
     "output_type": "display_data"
    }
   ],
   "source": [
    "data |> slice_head(n = 5)"
   ]
  },
  {
   "cell_type": "markdown",
   "metadata": {
    "slideshow": {
     "slide_type": "slide"
    }
   },
   "source": [
    "## Synthetic Data Generation"
   ]
  },
  {
   "attachments": {},
   "cell_type": "markdown",
   "metadata": {
    "slideshow": {
     "slide_type": "slide"
    }
   },
   "source": [
    "No aplica"
   ]
  },
  {
   "cell_type": "markdown",
   "metadata": {
    "slideshow": {
     "slide_type": "slide"
    }
   },
   "source": [
    "## Fake Data Generation"
   ]
  },
  {
   "attachments": {},
   "cell_type": "markdown",
   "metadata": {
    "slideshow": {
     "slide_type": "slide"
    }
   },
   "source": [
    "No aplica"
   ]
  },
  {
   "cell_type": "markdown",
   "metadata": {
    "slideshow": {
     "slide_type": "slide"
    }
   },
   "source": [
    "## Open Data"
   ]
  },
  {
   "attachments": {},
   "cell_type": "markdown",
   "metadata": {
    "slideshow": {
     "slide_type": "slide"
    }
   },
   "source": [
    "No aplica"
   ]
  },
  {
   "cell_type": "markdown",
   "metadata": {},
   "source": [
    "## <font color='green'>Data Save</font>"
   ]
  },
  {
   "attachments": {},
   "cell_type": "markdown",
   "metadata": {},
   "source": [
    "Este proceso, puede copiarse y repetirse en aquellas partes del notebbok que necesiten guardar datos.\n",
    "Recuerde cambiar las cadenas añadida del fichero para diferenciarlas"
   ]
  },
  {
   "cell_type": "markdown",
   "metadata": {},
   "source": [
    "<font color='tomato'> Identificamos los datos a guardar</font>"
   ]
  },
  {
   "cell_type": "code",
   "execution_count": 28,
   "metadata": {
    "ExecuteTime": {
     "end_time": "2020-12-25T17:59:27.022001Z",
     "start_time": "2020-12-25T17:59:15.986986Z"
    },
    "scrolled": false,
    "vscode": {
     "languageId": "r"
    }
   },
   "outputs": [],
   "source": [
    "data_to_save <- data"
   ]
  },
  {
   "attachments": {},
   "cell_type": "markdown",
   "metadata": {},
   "source": [
    "\n",
    "<font color='tomato'>Estructura de nombre de archivos:</font>\n",
    "\n",
    "* Código del caso de uso, por ejemplo \"CU_04\"\n",
    "* Número del proceso que lo genera, por ejemplo \"_05\".\n",
    "* Número de la tarea que lo genera, por ejemplo \"_01\"\n",
    "* En caso de generarse varios ficheros en la misma tarea, llevarán _01 _02 ... después\n",
    "* Nombre: identificativo de \"properData\", por ejemplo \"_zonasgeo\"\n",
    "* Extensión del archivo\n",
    "\n",
    "Ejemplo: \"CU_04_05_01_01_zonasgeo.json, primer fichero que se genera en la tarea 01 del proceso 05 (Data Collection) para el caso de uso 04 (vacunas)\n",
    "\n",
    "Importante mantener los guiones bajos antes de proceso, tarea, archivo y nombre"
   ]
  },
  {
   "attachments": {},
   "cell_type": "markdown",
   "metadata": {},
   "source": [
    "### Proceso 05"
   ]
  },
  {
   "cell_type": "code",
   "execution_count": 29,
   "metadata": {
    "ExecuteTime": {
     "end_time": "2020-12-25T17:59:27.022001Z",
     "start_time": "2020-12-25T17:59:15.986986Z"
    },
    "scrolled": false,
    "vscode": {
     "languageId": "r"
    }
   },
   "outputs": [],
   "source": [
    "caso <- \"CU_04\"\n",
    "proceso <- '_05'\n",
    "tarea <- \"_19\"\n",
    "archivo <- \"\"\n",
    "proper <- \"_vacunacion_gripe_completo\"\n",
    "extension <- \".csv\""
   ]
  },
  {
   "attachments": {},
   "cell_type": "markdown",
   "metadata": {},
   "source": [
    "<font color='tomato'><b> OPCION A:</b> Uso del paquete \"tcltk\" para mayor comodidad</font>\n",
    "\n",
    "* Buscar carpeta, escribir nombre de archivo SIN extensión (se especifica en el código)\n",
    "* Especificar sufijo2 si es necesario\n",
    "* Cambiar datos por datos_xx si es necesario"
   ]
  },
  {
   "cell_type": "code",
   "execution_count": null,
   "metadata": {
    "ExecuteTime": {
     "end_time": "2020-12-25T17:59:27.022001Z",
     "start_time": "2020-12-25T17:59:15.986986Z"
    },
    "scrolled": false,
    "vscode": {
     "languageId": "r"
    }
   },
   "outputs": [],
   "source": [
    "# file_save <- paste0(caso, proceso, tarea, tcltk::tkgetSaveFile(), proper, extension) \n",
    "# path_out <- paste0(oPath, file_save)\n",
    "# write_csv(data_to_save, path_out)\n",
    "\n",
    "# cat('File saved as: ')\n",
    "# path_out"
   ]
  },
  {
   "attachments": {},
   "cell_type": "markdown",
   "metadata": {},
   "source": [
    "<font color='tomato'><b> OPCION B:</b> Especificar el nombre de archivo</font>"
   ]
  },
  {
   "attachments": {},
   "cell_type": "markdown",
   "metadata": {},
   "source": [
    "- Los ficheros de salida del proceso van siempre a Data/Output/.  "
   ]
  },
  {
   "cell_type": "code",
   "execution_count": 30,
   "metadata": {
    "ExecuteTime": {
     "end_time": "2021-01-26T18:40:31.258294Z",
     "start_time": "2021-01-26T18:40:26.061847Z"
    },
    "slideshow": {
     "slide_type": "subslide"
    },
    "vscode": {
     "languageId": "r"
    }
   },
   "outputs": [
    {
     "name": "stdout",
     "output_type": "stream",
     "text": [
      "File saved as: "
     ]
    },
    {
     "data": {
      "text/html": [
       "'Data/Output/CU_04_05_19_vacunacion_gripe_completo.csv'"
      ],
      "text/latex": [
       "'Data/Output/CU\\_04\\_05\\_19\\_vacunacion\\_gripe\\_completo.csv'"
      ],
      "text/markdown": [
       "'Data/Output/CU_04_05_19_vacunacion_gripe_completo.csv'"
      ],
      "text/plain": [
       "[1] \"Data/Output/CU_04_05_19_vacunacion_gripe_completo.csv\""
      ]
     },
     "metadata": {},
     "output_type": "display_data"
    }
   ],
   "source": [
    "file_save <- paste0(caso, proceso, tarea, archivo, proper, extension) \n",
    "path_out <- paste0(oPath, file_save)\n",
    "write_csv(data_to_save, path_out)\n",
    "\n",
    "cat('File saved as: ')\n",
    "path_out"
   ]
  },
  {
   "attachments": {},
   "cell_type": "markdown",
   "metadata": {},
   "source": [
    "#### Copia del fichero a Input\n",
    "\n",
    "Si el archivo se va a usar en otros notebooks, copiar a la carpeta Input"
   ]
  },
  {
   "cell_type": "code",
   "execution_count": 31,
   "metadata": {
    "vscode": {
     "languageId": "r"
    }
   },
   "outputs": [
    {
     "data": {
      "text/html": [
       "TRUE"
      ],
      "text/latex": [
       "TRUE"
      ],
      "text/markdown": [
       "TRUE"
      ],
      "text/plain": [
       "[1] TRUE"
      ]
     },
     "metadata": {},
     "output_type": "display_data"
    }
   ],
   "source": [
    "path_in <- paste0(iPath, file_save)\n",
    "file.copy(path_out, path_in, overwrite = TRUE)"
   ]
  },
  {
   "cell_type": "markdown",
   "metadata": {},
   "source": [
    "## <font color=' #2874a6 '>Main Conclusions</font>"
   ]
  },
  {
   "cell_type": "markdown",
   "metadata": {
    "slideshow": {
     "slide_type": "slide"
    }
   },
   "source": [
    "<font color='steelblue'>List and describe the general conclusions of the analysis carried out​.</font>"
   ]
  },
  {
   "attachments": {},
   "cell_type": "markdown",
   "metadata": {},
   "source": [
    "### Prerequisites\n",
    "\n",
    "Para que funcione este código se necesita:\n",
    "\n",
    "* Las rutas de archivos `Data/Input` y `Data/Output` deben existir (relativas a la ruta del _notebook_)\n",
    "* El paquete tcltk instalado para seleccionar archivos interactivamente. No se necesita en producción.\n",
    "* Los paquetes readr, dplyr deben estar instalados.\n"
   ]
  },
  {
   "attachments": {},
   "cell_type": "markdown",
   "metadata": {},
   "source": [
    "### Configuration Management\n",
    "\n",
    "This notebook has been tested with the following versions of R and packages. It cannot be assured that later versions work in the same way:\n",
    "* R 4.2.2\n",
    "* tcltk 4.2.2\n",
    "* readr 2.1.3\n",
    "* dplyr 1.0.10"
   ]
  },
  {
   "attachments": {},
   "cell_type": "markdown",
   "metadata": {},
   "source": [
    "### Data structures"
   ]
  },
  {
   "attachments": {},
   "cell_type": "markdown",
   "metadata": {},
   "source": [
    "#### Objeto `data`\n",
    "\n",
    "- Hay 21736 filas con informaci<U+00F3>n de las siguientes variables:\n",
    "\tGEOCODIGO, DESBDT, ano, semana, n_vacunas, n_citas, tmed, prec, velmedia, presMax, benzene, co, no, no2, nox, o3, pm10, pm2.5, so2, capacidad_zona, prop_riesgo, tasa_riesgo, tasa_mayores, poblacion_mayores, nombre_zona, nsec, t3_1, t1_1, t2_1, t2_2, t4_1, t4_2, t4_3, t5_1, t6_1, t7_1, t8_1, t9_1, t10_1, t11_1, t12_1, area, densidad_hab_km, tuits_gripe, interes_gripe\n"
   ]
  },
  {
   "attachments": {},
   "cell_type": "markdown",
   "metadata": {},
   "source": [
    "#### Observaciones generales sobre los datos\n",
    "\n",
    "- Los datos se repiten en aquellas columnas que no tienen la misma resolución que el conjunto más amplio, es decir:\n",
    "    - Los datos de escucha son los mismos para todas las zonas la misma semana\n",
    "    - Los datos de indicadores son los mismos para todas las semanas en cada zona\n",
    "- El fichero incluye algunos datos reales y otros sintéticos\n",
    "- Algunas tareas del resto de procesos de la dimensión Data Processing se han realizado en este proceso de Data Collection por motivos de eficiencia. En los procesos correspondientes se reportarán estas acciones realizadas"
   ]
  },
  {
   "attachments": {},
   "cell_type": "markdown",
   "metadata": {},
   "source": [
    "### Consideraciones para despliegue en piloto\n",
    "\n",
    "* Este es el fichero principal que contiene todos los datos del caso\n",
    "* Si llegaran datos reales solicitados a la empresa, habría que sustituir los sintéticos por los reales\n",
    "* Para la representación en mapas, se deben combinar los datos del csv con los datos del json en la implementación que se haga"
   ]
  },
  {
   "attachments": {},
   "cell_type": "markdown",
   "metadata": {},
   "source": [
    "### Consideraciones para despliegue en producción\n",
    "\n",
    "* Se deben crear los procesos ETL en producción necesarios para que los datos de entrada estén actualizados\n",
    "* Se deben conseguir datos reales para sustituir los sintéticos\n",
    "* Para la representación en mapas, se deben combinar los datos del csv con los datos del json de la primera trea en la implementación que se haga"
   ]
  },
  {
   "cell_type": "markdown",
   "metadata": {},
   "source": [
    "## <font color=' #2874a6 '>Main Actions</font>"
   ]
  },
  {
   "cell_type": "markdown",
   "metadata": {},
   "source": [
    "#### <font color=' #2874a6 '>Acciones done</font>"
   ]
  },
  {
   "cell_type": "markdown",
   "metadata": {
    "slideshow": {
     "slide_type": "slide"
    }
   },
   "source": [
    "<font color='steelblue'>Indicate the actions that have been carried out in this process</font>"
   ]
  },
  {
   "attachments": {},
   "cell_type": "markdown",
   "metadata": {},
   "source": [
    "- Se han unido las tablas de datos del caso de uso en un único archivo"
   ]
  },
  {
   "cell_type": "markdown",
   "metadata": {},
   "source": [
    "#### <font color=' #2874a6 '>Acctions to perform</font>"
   ]
  },
  {
   "cell_type": "markdown",
   "metadata": {
    "slideshow": {
     "slide_type": "slide"
    }
   },
   "source": [
    "<font color='steelblue'>Indicate the actions that must be carried out in subsequent processes</font>"
   ]
  },
  {
   "attachments": {},
   "cell_type": "markdown",
   "metadata": {},
   "source": [
    "- Se deben realizar el resto de procesos de la dimensión Data Processing"
   ]
  },
  {
   "attachments": {},
   "cell_type": "markdown",
   "metadata": {},
   "source": [
    "## <font color='RED'>CODE TO DEPLOY (PILOT)</font>\n",
    "\n",
    "A continuación se incluirá el código que deba ser llevado a despliegue para producción, dado que se entiende efectúa operaciones necesarias sobre los datos en la ejecución del prototipo"
   ]
  },
  {
   "attachments": {},
   "cell_type": "markdown",
   "metadata": {},
   "source": [
    "<font color=' red '><b>Description</b></font>\n",
    "\n",
    "- No hay código que desplegar en el piloto, ya que estos datos son estáticos o en todo caso cambian con muy poca frecuencia, altamente improbable durante el proyecto.\n",
    "- El fichero deberá estar incluido en la ruta de datos de la implementación\n"
   ]
  },
  {
   "attachments": {},
   "cell_type": "markdown",
   "metadata": {},
   "source": [
    "<font color=' red '><b>CODE</b></font>"
   ]
  },
  {
   "cell_type": "code",
   "execution_count": null,
   "metadata": {
    "vscode": {
     "languageId": "r"
    }
   },
   "outputs": [],
   "source": [
    "# incluir código"
   ]
  }
 ],
 "metadata": {
  "anaconda-cloud": {},
  "celltoolbar": "Slideshow",
  "hide_input": false,
  "kernelspec": {
   "display_name": "R",
   "language": "R",
   "name": "ir"
  },
  "language_info": {
   "codemirror_mode": "r",
   "file_extension": ".r",
   "mimetype": "text/x-r-source",
   "name": "R",
   "pygments_lexer": "r",
   "version": "4.2.2"
  },
  "latex_envs": {
   "LaTeX_envs_menu_present": true,
   "autoclose": false,
   "autocomplete": true,
   "bibliofile": "biblio.bib",
   "cite_by": "apalike",
   "current_citInitial": 1,
   "eqLabelWithNumbers": true,
   "eqNumInitial": 1,
   "hotkeys": {
    "equation": "Ctrl-E",
    "itemize": "Ctrl-I"
   },
   "labels_anchors": false,
   "latex_user_defs": false,
   "report_style_numbering": true,
   "user_envs_cfg": false
  },
  "toc": {
   "base_numbering": 1,
   "nav_menu": {
    "height": "11.6px",
    "width": "160px"
   },
   "number_sections": false,
   "sideBar": true,
   "skip_h1_title": true,
   "title_cell": "Table of Contents",
   "title_sidebar": "Contents",
   "toc_cell": true,
   "toc_position": {
    "height": "calc(100% - 180px)",
    "left": "10px",
    "top": "150px",
    "width": "209.2px"
   },
   "toc_section_display": true,
   "toc_window_display": true
  },
  "varInspector": {
   "cols": {
    "lenName": 16,
    "lenType": 16,
    "lenVar": 40
   },
   "kernels_config": {
    "python": {
     "delete_cmd_postfix": "",
     "delete_cmd_prefix": "del ",
     "library": "var_list.py",
     "varRefreshCmd": "print(var_dic_list())"
    },
    "r": {
     "delete_cmd_postfix": ") ",
     "delete_cmd_prefix": "rm(",
     "library": "var_list.r",
     "varRefreshCmd": "cat(var_dic_list()) "
    }
   },
   "types_to_exclude": [
    "module",
    "function",
    "builtin_function_or_method",
    "instance",
    "_Feature"
   ],
   "window_display": false
  }
 },
 "nbformat": 4,
 "nbformat_minor": 1
}
