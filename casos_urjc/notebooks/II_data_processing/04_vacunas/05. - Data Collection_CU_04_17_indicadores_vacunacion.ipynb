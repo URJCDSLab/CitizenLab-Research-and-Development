{
 "cells": [
  {
   "cell_type": "markdown",
   "metadata": {
    "slideshow": {
     "slide_type": "slide"
    }
   },
   "source": [
    "<img src=\".\\images\\Logo.png\" width=150 align=\"left\" /> <img src=\".\\images\\Logo2.jpg\" width=450 align=\"right\" />"
   ]
  },
  {
   "attachments": {},
   "cell_type": "markdown",
   "metadata": {
    "slideshow": {
     "slide_type": "slide"
    }
   },
   "source": [
    "\n",
    "# <center><font color= #1e8449 > <b>CUxx_xxxxx</font></center>"
   ]
  },
  {
   "cell_type": "markdown",
   "metadata": {
    "slideshow": {
     "slide_type": "slide"
    }
   },
   "source": [
    "<font color='steelblue'><b>Citizenlab Data Science Methodology > II - Data Processing Domain </font>\n",
    "***\n",
    "> # <font color='steelblue'> <b>05.- Data Collection</font>"
   ]
  },
  {
   "cell_type": "markdown",
   "metadata": {
    "slideshow": {
     "slide_type": "slide"
    }
   },
   "source": [
    "<font color='steelblue'>Data Collection is the process to obtain and generate (if required) necessary data to model the problem.</font>"
   ]
  },
  {
   "attachments": {},
   "cell_type": "markdown",
   "metadata": {},
   "source": [
    "### 16. Unión de datos globales por zonas de vacunación\n",
    "\n",
    "* Consolidación de todas las variables por zona sin detalle de la semana del caso de uso\n",
    "* Sanitarias, indicadores INE\n",
    "\n",
    "\n",
    "\n",
    "\n",
    "\n"
   ]
  },
  {
   "cell_type": "markdown",
   "metadata": {
    "toc": true
   },
   "source": [
    "<h1>Table of Contents<span class=\"tocSkip\"></span></h1>\n",
    "<div class=\"toc\"><ul class=\"toc-item\"><li><span><a href=\"#Settings\" data-toc-modified-id=\"Settings-1\"><font color=\"green\">Settings</font></a></span></li><li><span><a href=\"#Data-Load\" data-toc-modified-id=\"Data-Load-2\"><font color=\"green\">Data Load</font></a></span></li><li><span><a href=\"#ETL-Processes\" data-toc-modified-id=\"ETL-Processes-3\">ETL Processes</a></span><ul class=\"toc-item\"><li><span><a href=\"#Import-data-from:-CSV,-Excel,-Tab,-JSON,-SQL,-and-Parquet-files\" data-toc-modified-id=\"Import-data-from:-CSV,-Excel,-Tab,-JSON,-SQL,-and-Parquet-files-3.1\">Import data from: CSV, Excel, Tab, JSON, SQL, and Parquet files</a></span></li></ul></li><li><span><a href=\"#Synthetic-Data-Generation\" data-toc-modified-id=\"Synthetic-Data-Generation-4\">Synthetic Data Generation</a></span></li><li><span><a href=\"#Fake-Data-Generation\" data-toc-modified-id=\"Fake-Data-Generation-5\">Fake Data Generation</a></span></li><li><span><a href=\"#Open-Data\" data-toc-modified-id=\"Open-Data-6\">Open Data</a></span></li><li><span><a href=\"#Data-Save\" data-toc-modified-id=\"Data-Save-7\"><font color=\"green\">Data Save</font></a></span></li><li><span><a href=\"#Main-Conclusions\" data-toc-modified-id=\"Main-Conclusions-8\"><font color=\" #2874a6 \">Main Conclusions</font></a></span></li><li><span><a href=\"#Main-Actions\" data-toc-modified-id=\"Main-Actions-9\"><font color=\" #2874a6 \">Main Actions</font></a></span><ul class=\"toc-item\"><li><ul class=\"toc-item\"><li><span><a href=\"#Acciones-done\" data-toc-modified-id=\"Acciones-done-9.0.1\"><font color=\" #2874a6 \">Acciones done</font></a></span></li><li><span><a href=\"#Acctions-to-perform\" data-toc-modified-id=\"Acctions-to-perform-9.0.2\"><font color=\" #2874a6 \">Acctions to perform</font></a></span></li></ul></li></ul></li></ul></div>"
   ]
  },
  {
   "cell_type": "markdown",
   "metadata": {
    "slideshow": {
     "slide_type": "slide"
    }
   },
   "source": [
    "## <font color='green'>Settings</font>"
   ]
  },
  {
   "attachments": {},
   "cell_type": "markdown",
   "metadata": {},
   "source": [
    "### Packages to use\n",
    "\n",
    "\n",
    "- {tcltk} para selección interactiva de archivos locales\n",
    "- {readxl} para leer archivos de Excel\n",
    "- {readr} para leer y escribir archivos csv\n",
    "- {dplyr} para explorar datos\n",
    "\n"
   ]
  },
  {
   "cell_type": "code",
   "execution_count": 1,
   "metadata": {
    "ExecuteTime": {
     "end_time": "2021-12-03T15:23:33.762841Z",
     "start_time": "2021-12-03T15:23:08.580267Z"
    },
    "slideshow": {
     "slide_type": "subslide"
    },
    "vscode": {
     "languageId": "r"
    }
   },
   "outputs": [
    {
     "name": "stderr",
     "output_type": "stream",
     "text": [
      "\n",
      "Attaching package: 'dplyr'\n",
      "\n",
      "\n",
      "The following objects are masked from 'package:stats':\n",
      "\n",
      "    filter, lag\n",
      "\n",
      "\n",
      "The following objects are masked from 'package:base':\n",
      "\n",
      "    intersect, setdiff, setequal, union\n",
      "\n",
      "\n"
     ]
    }
   ],
   "source": [
    "library(readxl)\n",
    "library(readr)\n",
    "library(dplyr)\n",
    "\n",
    "\n"
   ]
  },
  {
   "attachments": {},
   "cell_type": "markdown",
   "metadata": {},
   "source": [
    "### Paths"
   ]
  },
  {
   "cell_type": "code",
   "execution_count": 2,
   "metadata": {
    "vscode": {
     "languageId": "r"
    }
   },
   "outputs": [],
   "source": [
    "iPath <- \"Data/Input/\"\n",
    "oPath <- \"Data/Output/\""
   ]
  },
  {
   "attachments": {},
   "cell_type": "markdown",
   "metadata": {
    "slideshow": {
     "slide_type": "slide"
    }
   },
   "source": [
    "## <font color='green'>Data Load</font>\n",
    "\n",
    "If there are more than one input file, make as many sections as files to import."
   ]
  },
  {
   "attachments": {},
   "cell_type": "markdown",
   "metadata": {},
   "source": [
    "Instrucciones\n",
    "- Los ficheros de entrada del proceso están siempre en Data/Input/.   \n",
    "- Si hay más de un fichero de entrada, se crean tantos objetos iFile_xx y file_data_xx como ficheros de entrada (xx número correlativo con dos dígitos, rellenar con ceros a la izquierda)"
   ]
  },
  {
   "attachments": {},
   "cell_type": "markdown",
   "metadata": {},
   "source": [
    "1. Datos de vacunación y capacidad"
   ]
  },
  {
   "attachments": {},
   "cell_type": "markdown",
   "metadata": {},
   "source": [
    "<font color='tomato'><b> OPCION A:</b> Seleccionar fichero en ventana para mayor comodidad</font> "
   ]
  },
  {
   "attachments": {},
   "cell_type": "markdown",
   "metadata": {},
   "source": [
    "Data load using the {tcltk} package. Ucomment the line if not using this option"
   ]
  },
  {
   "cell_type": "code",
   "execution_count": 7,
   "metadata": {
    "vscode": {
     "languageId": "r"
    }
   },
   "outputs": [],
   "source": [
    "# file_data_01 <- tcltk::tk_choose.files(multi = FALSE)"
   ]
  },
  {
   "attachments": {},
   "cell_type": "markdown",
   "metadata": {},
   "source": [
    "<font color='tomato'><b> OPCION B:</b> Especificar el nombre de archivo</font>\n",
    "\n"
   ]
  },
  {
   "cell_type": "code",
   "execution_count": 3,
   "metadata": {
    "vscode": {
     "languageId": "r"
    }
   },
   "outputs": [
    {
     "name": "stdout",
     "output_type": "stream",
     "text": [
      "Se leer<U+00E1>n datos del archivo:  Data/Input/Output.xlsx"
     ]
    }
   ],
   "source": [
    "iFile_01 <- \"Output.xlsx\"\n",
    "file_data_01 <- paste0(iPath, iFile_01)\n",
    "\n",
    "if(file.exists(file_data_01)){\n",
    "    cat(\"Se leerán datos del archivo: \", file_data_01)\n",
    "} else{\n",
    "    warning(\"Cuidado: el archivo no existe.\")\n",
    "}\n"
   ]
  },
  {
   "attachments": {},
   "cell_type": "markdown",
   "metadata": {},
   "source": [
    "#### Data file to dataframe\n",
    "\n",
    "Usar la función adecuada según el formato de entrada (xlsx, csv, json, ...)"
   ]
  },
  {
   "cell_type": "code",
   "execution_count": 4,
   "metadata": {
    "vscode": {
     "languageId": "r"
    }
   },
   "outputs": [],
   "source": [
    "data_01 <- read_excel(file_data_01)\n"
   ]
  },
  {
   "attachments": {},
   "cell_type": "markdown",
   "metadata": {},
   "source": [
    "Estructura de  los datos:"
   ]
  },
  {
   "cell_type": "code",
   "execution_count": 5,
   "metadata": {
    "vscode": {
     "languageId": "r"
    }
   },
   "outputs": [
    {
     "name": "stdout",
     "output_type": "stream",
     "text": [
      "Rows: 20,868\n",
      "Columns: 22\n",
      "$ ID                   \u001b[3m\u001b[90m<chr>\u001b[39m\u001b[23m \"1\", \"2\", \"3\", \"4\", \"5\", \"6\", \"7\", \"8\", \"9\", \"10\"~\n",
      "$ CODBDT               \u001b[3m\u001b[90m<chr>\u001b[39m\u001b[23m \"686213\", \"686213\", \"686213\", \"686213\", \"686213\",~\n",
      "$ GEOCODIGO            \u001b[3m\u001b[90m<chr>\u001b[39m\u001b[23m \"001\", \"001\", \"001\", \"001\", \"001\", \"001\", \"001\", ~\n",
      "$ DESBDT               \u001b[3m\u001b[90m<chr>\u001b[39m\u001b[23m \"Abrantes\", \"Abrantes\", \"Abrantes\", \"Abrantes\", \"~\n",
      "$ semana               \u001b[3m\u001b[90m<dbl>\u001b[39m\u001b[23m 36, 37, 38, 39, 40, 41, 42, 43, 44, 45, 46, 47, 4~\n",
      "$ ano                  \u001b[3m\u001b[90m<dbl>\u001b[39m\u001b[23m 2021, 2021, 2021, 2021, 2021, 2021, 2021, 2021, 2~\n",
      "$ n_vacunas            \u001b[3m\u001b[90m<dbl>\u001b[39m\u001b[23m 0, 0, 0, 0, 0, 328, 344, 353, 371, 341, 389, 349,~\n",
      "$ n_citas              \u001b[3m\u001b[90m<dbl>\u001b[39m\u001b[23m 0, 0, 0, 0, 0, 305, 327, 328, 341, 334, 373, 332,~\n",
      "$ capacidad_zona       \u001b[3m\u001b[90m<dbl>\u001b[39m\u001b[23m 7742, 7654, 7425, 7189, 7566, 7417, 7638, 7711, 7~\n",
      "$ prop_riesgo          \u001b[3m\u001b[90m<dbl>\u001b[39m\u001b[23m 0.1954797, 0.1906348, 0.1930880, 0.1918070, 0.185~\n",
      "$ tasa_riesgo          \u001b[3m\u001b[90m<dbl>\u001b[39m\u001b[23m 0.1950852, 0.1870784, 0.1874322, 0.2031197, 0.188~\n",
      "$ poblacion_total      \u001b[3m\u001b[90m<dbl>\u001b[39m\u001b[23m 29872, 29872, 29872, 29872, 29872, 29872, 29872, ~\n",
      "$ poblacion_mujeres    \u001b[3m\u001b[90m<dbl>\u001b[39m\u001b[23m 0.5345094, 0.5345094, 0.5345094, 0.5345094, 0.534~\n",
      "$ poblacion_mayores    \u001b[3m\u001b[90m<dbl>\u001b[39m\u001b[23m 0.1781619, 0.1781619, 0.1781619, 0.1781619, 0.178~\n",
      "$ poblacion_inmigrante \u001b[3m\u001b[90m<dbl>\u001b[39m\u001b[23m 0.2183993, 0.2183993, 0.2183993, 0.2183993, 0.218~\n",
      "$ tasa_paro            \u001b[3m\u001b[90m<dbl>\u001b[39m\u001b[23m 0.1665607, 0.1665607, 0.1665607, 0.1665607, 0.166~\n",
      "$ tasa_mayores         \u001b[3m\u001b[90m<dbl>\u001b[39m\u001b[23m 0.1644978, 0.1882310, 0.1940977, 0.1781833, 0.181~\n",
      "$ temperatura          \u001b[3m\u001b[90m<lgl>\u001b[39m\u001b[23m NA, NA, NA, NA, NA, NA, NA, NA, NA, NA, NA, NA, N~\n",
      "$ humedad              \u001b[3m\u001b[90m<lgl>\u001b[39m\u001b[23m NA, NA, NA, NA, NA, NA, NA, NA, NA, NA, NA, NA, N~\n",
      "$ NO2                  \u001b[3m\u001b[90m<lgl>\u001b[39m\u001b[23m NA, NA, NA, NA, NA, NA, NA, NA, NA, NA, NA, NA, N~\n",
      "$ busquedas_gripe      \u001b[3m\u001b[90m<lgl>\u001b[39m\u001b[23m NA, NA, NA, NA, NA, NA, NA, NA, NA, NA, NA, NA, N~\n",
      "$ tuits_gripe          \u001b[3m\u001b[90m<dbl>\u001b[39m\u001b[23m 0, 0, 0, 1, 0, 1, 1, 1, 1, 1, 1, 1, 1, 1, 1, 1, 3~\n"
     ]
    }
   ],
   "source": [
    "data_01 |> glimpse()"
   ]
  },
  {
   "attachments": {},
   "cell_type": "markdown",
   "metadata": {},
   "source": [
    "Muestra de datos:"
   ]
  },
  {
   "cell_type": "code",
   "execution_count": 6,
   "metadata": {
    "vscode": {
     "languageId": "r"
    }
   },
   "outputs": [
    {
     "data": {
      "text/html": [
       "<table class=\"dataframe\">\n",
       "<caption>A tibble: 5 x 22</caption>\n",
       "<thead>\n",
       "\t<tr><th scope=col>ID</th><th scope=col>CODBDT</th><th scope=col>GEOCODIGO</th><th scope=col>DESBDT</th><th scope=col>semana</th><th scope=col>ano</th><th scope=col>n_vacunas</th><th scope=col>n_citas</th><th scope=col>capacidad_zona</th><th scope=col>prop_riesgo</th><th scope=col>...</th><th scope=col>poblacion_mujeres</th><th scope=col>poblacion_mayores</th><th scope=col>poblacion_inmigrante</th><th scope=col>tasa_paro</th><th scope=col>tasa_mayores</th><th scope=col>temperatura</th><th scope=col>humedad</th><th scope=col>NO2</th><th scope=col>busquedas_gripe</th><th scope=col>tuits_gripe</th></tr>\n",
       "\t<tr><th scope=col>&lt;chr&gt;</th><th scope=col>&lt;chr&gt;</th><th scope=col>&lt;chr&gt;</th><th scope=col>&lt;chr&gt;</th><th scope=col>&lt;dbl&gt;</th><th scope=col>&lt;dbl&gt;</th><th scope=col>&lt;dbl&gt;</th><th scope=col>&lt;dbl&gt;</th><th scope=col>&lt;dbl&gt;</th><th scope=col>&lt;dbl&gt;</th><th scope=col>...</th><th scope=col>&lt;dbl&gt;</th><th scope=col>&lt;dbl&gt;</th><th scope=col>&lt;dbl&gt;</th><th scope=col>&lt;dbl&gt;</th><th scope=col>&lt;dbl&gt;</th><th scope=col>&lt;lgl&gt;</th><th scope=col>&lt;lgl&gt;</th><th scope=col>&lt;lgl&gt;</th><th scope=col>&lt;lgl&gt;</th><th scope=col>&lt;dbl&gt;</th></tr>\n",
       "</thead>\n",
       "<tbody>\n",
       "\t<tr><td>1</td><td>686213</td><td>001</td><td>Abrantes</td><td>36</td><td>2021</td><td>0</td><td>0</td><td>7742</td><td>0.1954797</td><td>...</td><td>0.5345094</td><td>0.1781619</td><td>0.2183993</td><td>0.1665607</td><td>0.1644978</td><td>NA</td><td>NA</td><td>NA</td><td>NA</td><td>0</td></tr>\n",
       "\t<tr><td>2</td><td>686213</td><td>001</td><td>Abrantes</td><td>37</td><td>2021</td><td>0</td><td>0</td><td>7654</td><td>0.1906348</td><td>...</td><td>0.5345094</td><td>0.1781619</td><td>0.2183993</td><td>0.1665607</td><td>0.1882310</td><td>NA</td><td>NA</td><td>NA</td><td>NA</td><td>0</td></tr>\n",
       "\t<tr><td>3</td><td>686213</td><td>001</td><td>Abrantes</td><td>38</td><td>2021</td><td>0</td><td>0</td><td>7425</td><td>0.1930880</td><td>...</td><td>0.5345094</td><td>0.1781619</td><td>0.2183993</td><td>0.1665607</td><td>0.1940977</td><td>NA</td><td>NA</td><td>NA</td><td>NA</td><td>0</td></tr>\n",
       "\t<tr><td>4</td><td>686213</td><td>001</td><td>Abrantes</td><td>39</td><td>2021</td><td>0</td><td>0</td><td>7189</td><td>0.1918070</td><td>...</td><td>0.5345094</td><td>0.1781619</td><td>0.2183993</td><td>0.1665607</td><td>0.1781833</td><td>NA</td><td>NA</td><td>NA</td><td>NA</td><td>1</td></tr>\n",
       "\t<tr><td>5</td><td>686213</td><td>001</td><td>Abrantes</td><td>40</td><td>2021</td><td>0</td><td>0</td><td>7566</td><td>0.1851164</td><td>...</td><td>0.5345094</td><td>0.1781619</td><td>0.2183993</td><td>0.1665607</td><td>0.1814519</td><td>NA</td><td>NA</td><td>NA</td><td>NA</td><td>0</td></tr>\n",
       "</tbody>\n",
       "</table>\n"
      ],
      "text/latex": [
       "A tibble: 5 x 22\n",
       "\\begin{tabular}{lllllllllllllllllllll}\n",
       " ID & CODBDT & GEOCODIGO & DESBDT & semana & ano & n\\_vacunas & n\\_citas & capacidad\\_zona & prop\\_riesgo & ... & poblacion\\_mujeres & poblacion\\_mayores & poblacion\\_inmigrante & tasa\\_paro & tasa\\_mayores & temperatura & humedad & NO2 & busquedas\\_gripe & tuits\\_gripe\\\\\n",
       " <chr> & <chr> & <chr> & <chr> & <dbl> & <dbl> & <dbl> & <dbl> & <dbl> & <dbl> & ... & <dbl> & <dbl> & <dbl> & <dbl> & <dbl> & <lgl> & <lgl> & <lgl> & <lgl> & <dbl>\\\\\n",
       "\\hline\n",
       "\t 1 & 686213 & 001 & Abrantes & 36 & 2021 & 0 & 0 & 7742 & 0.1954797 & ... & 0.5345094 & 0.1781619 & 0.2183993 & 0.1665607 & 0.1644978 & NA & NA & NA & NA & 0\\\\\n",
       "\t 2 & 686213 & 001 & Abrantes & 37 & 2021 & 0 & 0 & 7654 & 0.1906348 & ... & 0.5345094 & 0.1781619 & 0.2183993 & 0.1665607 & 0.1882310 & NA & NA & NA & NA & 0\\\\\n",
       "\t 3 & 686213 & 001 & Abrantes & 38 & 2021 & 0 & 0 & 7425 & 0.1930880 & ... & 0.5345094 & 0.1781619 & 0.2183993 & 0.1665607 & 0.1940977 & NA & NA & NA & NA & 0\\\\\n",
       "\t 4 & 686213 & 001 & Abrantes & 39 & 2021 & 0 & 0 & 7189 & 0.1918070 & ... & 0.5345094 & 0.1781619 & 0.2183993 & 0.1665607 & 0.1781833 & NA & NA & NA & NA & 1\\\\\n",
       "\t 5 & 686213 & 001 & Abrantes & 40 & 2021 & 0 & 0 & 7566 & 0.1851164 & ... & 0.5345094 & 0.1781619 & 0.2183993 & 0.1665607 & 0.1814519 & NA & NA & NA & NA & 0\\\\\n",
       "\\end{tabular}\n"
      ],
      "text/markdown": [
       "\n",
       "A tibble: 5 x 22\n",
       "\n",
       "| ID &lt;chr&gt; | CODBDT &lt;chr&gt; | GEOCODIGO &lt;chr&gt; | DESBDT &lt;chr&gt; | semana &lt;dbl&gt; | ano &lt;dbl&gt; | n_vacunas &lt;dbl&gt; | n_citas &lt;dbl&gt; | capacidad_zona &lt;dbl&gt; | prop_riesgo &lt;dbl&gt; | ... ... | poblacion_mujeres &lt;dbl&gt; | poblacion_mayores &lt;dbl&gt; | poblacion_inmigrante &lt;dbl&gt; | tasa_paro &lt;dbl&gt; | tasa_mayores &lt;dbl&gt; | temperatura &lt;lgl&gt; | humedad &lt;lgl&gt; | NO2 &lt;lgl&gt; | busquedas_gripe &lt;lgl&gt; | tuits_gripe &lt;dbl&gt; |\n",
       "|---|---|---|---|---|---|---|---|---|---|---|---|---|---|---|---|---|---|---|---|---|\n",
       "| 1 | 686213 | 001 | Abrantes | 36 | 2021 | 0 | 0 | 7742 | 0.1954797 | ... | 0.5345094 | 0.1781619 | 0.2183993 | 0.1665607 | 0.1644978 | NA | NA | NA | NA | 0 |\n",
       "| 2 | 686213 | 001 | Abrantes | 37 | 2021 | 0 | 0 | 7654 | 0.1906348 | ... | 0.5345094 | 0.1781619 | 0.2183993 | 0.1665607 | 0.1882310 | NA | NA | NA | NA | 0 |\n",
       "| 3 | 686213 | 001 | Abrantes | 38 | 2021 | 0 | 0 | 7425 | 0.1930880 | ... | 0.5345094 | 0.1781619 | 0.2183993 | 0.1665607 | 0.1940977 | NA | NA | NA | NA | 0 |\n",
       "| 4 | 686213 | 001 | Abrantes | 39 | 2021 | 0 | 0 | 7189 | 0.1918070 | ... | 0.5345094 | 0.1781619 | 0.2183993 | 0.1665607 | 0.1781833 | NA | NA | NA | NA | 1 |\n",
       "| 5 | 686213 | 001 | Abrantes | 40 | 2021 | 0 | 0 | 7566 | 0.1851164 | ... | 0.5345094 | 0.1781619 | 0.2183993 | 0.1665607 | 0.1814519 | NA | NA | NA | NA | 0 |\n",
       "\n"
      ],
      "text/plain": [
       "  ID CODBDT GEOCODIGO DESBDT   semana ano  n_vacunas n_citas capacidad_zona\n",
       "1 1  686213 001       Abrantes 36     2021 0         0       7742          \n",
       "2 2  686213 001       Abrantes 37     2021 0         0       7654          \n",
       "3 3  686213 001       Abrantes 38     2021 0         0       7425          \n",
       "4 4  686213 001       Abrantes 39     2021 0         0       7189          \n",
       "5 5  686213 001       Abrantes 40     2021 0         0       7566          \n",
       "  prop_riesgo ... poblacion_mujeres poblacion_mayores poblacion_inmigrante\n",
       "1 0.1954797   ... 0.5345094         0.1781619         0.2183993           \n",
       "2 0.1906348   ... 0.5345094         0.1781619         0.2183993           \n",
       "3 0.1930880   ... 0.5345094         0.1781619         0.2183993           \n",
       "4 0.1918070   ... 0.5345094         0.1781619         0.2183993           \n",
       "5 0.1851164   ... 0.5345094         0.1781619         0.2183993           \n",
       "  tasa_paro tasa_mayores temperatura humedad NO2 busquedas_gripe tuits_gripe\n",
       "1 0.1665607 0.1644978    NA          NA      NA  NA              0          \n",
       "2 0.1665607 0.1882310    NA          NA      NA  NA              0          \n",
       "3 0.1665607 0.1940977    NA          NA      NA  NA              0          \n",
       "4 0.1665607 0.1781833    NA          NA      NA  NA              1          \n",
       "5 0.1665607 0.1814519    NA          NA      NA  NA              0          "
      ]
     },
     "metadata": {},
     "output_type": "display_data"
    }
   ],
   "source": [
    "data_01 |> slice_head(n = 5)"
   ]
  },
  {
   "attachments": {},
   "cell_type": "markdown",
   "metadata": {},
   "source": [
    "2. Datos de indicadores"
   ]
  },
  {
   "cell_type": "markdown",
   "metadata": {},
   "source": [
    "<font color='tomato'><b> OPCION A:</b> Seleccionar fichero en ventana para mayor comodidad</font> "
   ]
  },
  {
   "cell_type": "markdown",
   "metadata": {},
   "source": [
    "Data load using the {tcltk} package. Ucomment the line if not using this option"
   ]
  },
  {
   "cell_type": "code",
   "execution_count": 12,
   "metadata": {
    "vscode": {
     "languageId": "r"
    }
   },
   "outputs": [],
   "source": [
    "# file_data_02 <- tcltk::tk_choose.files(multi = FALSE)"
   ]
  },
  {
   "cell_type": "markdown",
   "metadata": {},
   "source": [
    "<font color='tomato'><b> OPCION B:</b> Especificar el nombre de archivo</font>\n",
    "\n"
   ]
  },
  {
   "cell_type": "code",
   "execution_count": 8,
   "metadata": {
    "vscode": {
     "languageId": "r"
    }
   },
   "outputs": [
    {
     "name": "stdout",
     "output_type": "stream",
     "text": [
      "Se leer<U+00E1>n datos del archivo:  Data/Input/CU_04_05_05_02_indicadores_zonas.csv"
     ]
    }
   ],
   "source": [
    "iFile_02 <- \"CU_04_05_05_02_indicadores_zonas.csv\"\n",
    "file_data_02 <- paste0(iPath, iFile_02)\n",
    "\n",
    "if(file.exists(file_data_02)){\n",
    "    cat(\"Se leerán datos del archivo: \", file_data_02)\n",
    "} else{\n",
    "    warning(\"Cuidado: el archivo no existe.\")\n",
    "}\n"
   ]
  },
  {
   "cell_type": "markdown",
   "metadata": {},
   "source": [
    "#### Data file to dataframe\n",
    "\n",
    "Usar la función adecuada según el formato de entrada (xlsx, csv, json, ...)"
   ]
  },
  {
   "cell_type": "code",
   "execution_count": 9,
   "metadata": {
    "vscode": {
     "languageId": "r"
    }
   },
   "outputs": [
    {
     "name": "stderr",
     "output_type": "stream",
     "text": [
      "\u001b[1mRows: \u001b[22m\u001b[34m286\u001b[39m \u001b[1mColumns: \u001b[22m\u001b[34m20\u001b[39m\n",
      "\u001b[36m--\u001b[39m \u001b[1mColumn specification\u001b[22m \u001b[36m--------------------------------------------------------\u001b[39m\n",
      "\u001b[1mDelimiter:\u001b[22m \",\"\n",
      "\u001b[31mchr\u001b[39m  (2): id_zona, nombre_zona\n",
      "\u001b[32mdbl\u001b[39m (18): nsec, t3_1, t1_1, t2_1, t2_2, t4_1, t4_2, t4_3, t5_1, t6_1, t7_1, ...\n",
      "\n",
      "\u001b[36mi\u001b[39m Use `spec()` to retrieve the full column specification for this data.\n",
      "\u001b[36mi\u001b[39m Specify the column types or set `show_col_types = FALSE` to quiet this message.\n"
     ]
    }
   ],
   "source": [
    "data_02 <- read_csv(file_data_02)\n"
   ]
  },
  {
   "cell_type": "markdown",
   "metadata": {},
   "source": [
    "Estructura de  los datos:"
   ]
  },
  {
   "cell_type": "code",
   "execution_count": 10,
   "metadata": {
    "vscode": {
     "languageId": "r"
    }
   },
   "outputs": [
    {
     "name": "stdout",
     "output_type": "stream",
     "text": [
      "Rows: 286\n",
      "Columns: 20\n",
      "$ id_zona         \u001b[3m\u001b[90m<chr>\u001b[39m\u001b[23m \"001\", \"002\", \"003\", \"004\", \"005\", \"006\", \"007\", \"008\"~\n",
      "$ nombre_zona     \u001b[3m\u001b[90m<chr>\u001b[39m\u001b[23m \"Abrantes\", \"Acacias\", \"Adelfas\", \"Alameda\", \"Alameda ~\n",
      "$ nsec            \u001b[3m\u001b[90m<dbl>\u001b[39m\u001b[23m 23, 11, 19, 18, 18, 15, 10, 17, 11, 12, 14, 17, 8, 20,~\n",
      "$ t3_1            \u001b[3m\u001b[90m<dbl>\u001b[39m\u001b[23m 42.31249, 46.15717, 45.30472, 43.70575, 43.31968, 44.2~\n",
      "$ t1_1            \u001b[3m\u001b[90m<dbl>\u001b[39m\u001b[23m 29872, 17961, 28933, 21393, 27259, 21186, 12367, 27448~\n",
      "$ t2_1            \u001b[3m\u001b[90m<dbl>\u001b[39m\u001b[23m 0.5345094, 0.5328775, 0.5383134, 0.4919805, 0.5153616,~\n",
      "$ t2_2            \u001b[3m\u001b[90m<dbl>\u001b[39m\u001b[23m 0.4654906, 0.4671225, 0.4616866, 0.5080195, 0.4846384,~\n",
      "$ t4_1            \u001b[3m\u001b[90m<dbl>\u001b[39m\u001b[23m 0.15619346, 0.10929873, 0.12408817, 0.07409008, 0.1742~\n",
      "$ t4_2            \u001b[3m\u001b[90m<dbl>\u001b[39m\u001b[23m 0.6656459, 0.6516215, 0.6541986, 0.7685363, 0.6063697,~\n",
      "$ t4_3            \u001b[3m\u001b[90m<dbl>\u001b[39m\u001b[23m 0.17816190, 0.23909411, 0.22173279, 0.15740288, 0.2193~\n",
      "$ t5_1            \u001b[3m\u001b[90m<dbl>\u001b[39m\u001b[23m 0.21839930, 0.04313645, 0.07236948, 0.26145728, 0.0705~\n",
      "$ t6_1            \u001b[3m\u001b[90m<dbl>\u001b[39m\u001b[23m 0.34508551, 0.07700825, 0.12420792, 0.35309699, 0.1280~\n",
      "$ t7_1            \u001b[3m\u001b[90m<dbl>\u001b[39m\u001b[23m 0.04090796, 0.08494593, 0.07195008, 0.04949630, 0.0715~\n",
      "$ t8_1            \u001b[3m\u001b[90m<dbl>\u001b[39m\u001b[23m 0.02880326, 0.07576304, 0.06532400, 0.04323113, 0.0626~\n",
      "$ t9_1            \u001b[3m\u001b[90m<dbl>\u001b[39m\u001b[23m 0.2685716, 0.6368488, 0.6031800, 0.5672350, 0.5862647,~\n",
      "$ t10_1           \u001b[3m\u001b[90m<dbl>\u001b[39m\u001b[23m 0.16656066, 0.08377987, 0.08766432, 0.12302998, 0.0851~\n",
      "$ t11_1           \u001b[3m\u001b[90m<dbl>\u001b[39m\u001b[23m 0.4723181, 0.5083022, 0.5262385, 0.5410470, 0.5028547,~\n",
      "$ t12_1           \u001b[3m\u001b[90m<dbl>\u001b[39m\u001b[23m 0.5637381, 0.5548573, 0.5770966, 0.6171510, 0.5490471,~\n",
      "$ area            \u001b[3m\u001b[90m<dbl>\u001b[39m\u001b[23m 1571618.8, 771569.7, 854805.6, 547596.1, 35137989.9, 6~\n",
      "$ densidad_hab_km \u001b[3m\u001b[90m<dbl>\u001b[39m\u001b[23m 19007.1534, 23278.5190, 33847.4619, 39067.1135, 775.77~\n"
     ]
    }
   ],
   "source": [
    "data_02 |> glimpse()"
   ]
  },
  {
   "cell_type": "markdown",
   "metadata": {},
   "source": [
    "Muestra de datos:"
   ]
  },
  {
   "cell_type": "code",
   "execution_count": 11,
   "metadata": {
    "vscode": {
     "languageId": "r"
    }
   },
   "outputs": [
    {
     "data": {
      "text/html": [
       "<table class=\"dataframe\">\n",
       "<caption>A spec_tbl_df: 5 x 20</caption>\n",
       "<thead>\n",
       "\t<tr><th scope=col>id_zona</th><th scope=col>nombre_zona</th><th scope=col>nsec</th><th scope=col>t3_1</th><th scope=col>t1_1</th><th scope=col>t2_1</th><th scope=col>t2_2</th><th scope=col>t4_1</th><th scope=col>t4_2</th><th scope=col>t4_3</th><th scope=col>t5_1</th><th scope=col>t6_1</th><th scope=col>t7_1</th><th scope=col>t8_1</th><th scope=col>t9_1</th><th scope=col>t10_1</th><th scope=col>t11_1</th><th scope=col>t12_1</th><th scope=col>area</th><th scope=col>densidad_hab_km</th></tr>\n",
       "\t<tr><th scope=col>&lt;chr&gt;</th><th scope=col>&lt;chr&gt;</th><th scope=col>&lt;dbl&gt;</th><th scope=col>&lt;dbl&gt;</th><th scope=col>&lt;dbl&gt;</th><th scope=col>&lt;dbl&gt;</th><th scope=col>&lt;dbl&gt;</th><th scope=col>&lt;dbl&gt;</th><th scope=col>&lt;dbl&gt;</th><th scope=col>&lt;dbl&gt;</th><th scope=col>&lt;dbl&gt;</th><th scope=col>&lt;dbl&gt;</th><th scope=col>&lt;dbl&gt;</th><th scope=col>&lt;dbl&gt;</th><th scope=col>&lt;dbl&gt;</th><th scope=col>&lt;dbl&gt;</th><th scope=col>&lt;dbl&gt;</th><th scope=col>&lt;dbl&gt;</th><th scope=col>&lt;dbl&gt;</th><th scope=col>&lt;dbl&gt;</th></tr>\n",
       "</thead>\n",
       "<tbody>\n",
       "\t<tr><td>001</td><td>Abrantes        </td><td>23</td><td>42.31249</td><td>29872</td><td>0.5345094</td><td>0.4654906</td><td>0.15619346</td><td>0.6656459</td><td>0.1781619</td><td>0.21839930</td><td>0.34508551</td><td>0.04090796</td><td>0.02880326</td><td>0.2685716</td><td>0.16656066</td><td>0.4723181</td><td>0.5637381</td><td> 1571618.8</td><td>19007.15</td></tr>\n",
       "\t<tr><td>002</td><td>Acacias         </td><td>11</td><td>46.15717</td><td>17961</td><td>0.5328775</td><td>0.4671225</td><td>0.10929873</td><td>0.6516215</td><td>0.2390941</td><td>0.04313645</td><td>0.07700825</td><td>0.08494593</td><td>0.07576304</td><td>0.6368488</td><td>0.08377987</td><td>0.5083022</td><td>0.5548573</td><td>  771569.7</td><td>23278.52</td></tr>\n",
       "\t<tr><td>003</td><td>Adelfas         </td><td>19</td><td>45.30472</td><td>28933</td><td>0.5383134</td><td>0.4616866</td><td>0.12408817</td><td>0.6541986</td><td>0.2217328</td><td>0.07236948</td><td>0.12420792</td><td>0.07195008</td><td>0.06532400</td><td>0.6031800</td><td>0.08766432</td><td>0.5262385</td><td>0.5770966</td><td>  854805.6</td><td>33847.46</td></tr>\n",
       "\t<tr><td>004</td><td>Alameda         </td><td>18</td><td>43.70575</td><td>21393</td><td>0.4919805</td><td>0.5080195</td><td>0.07409008</td><td>0.7685363</td><td>0.1574029</td><td>0.26145728</td><td>0.35309699</td><td>0.04949630</td><td>0.04323113</td><td>0.5672350</td><td>0.12302998</td><td>0.5410470</td><td>0.6171510</td><td>  547596.1</td><td>39067.11</td></tr>\n",
       "\t<tr><td>005</td><td>Alameda de Osuna</td><td>18</td><td>43.31968</td><td>27259</td><td>0.5153616</td><td>0.4846384</td><td>0.17427654</td><td>0.6063697</td><td>0.2193419</td><td>0.07059011</td><td>0.12803028</td><td>0.07156026</td><td>0.06267665</td><td>0.5862647</td><td>0.08518132</td><td>0.5028547</td><td>0.5490471</td><td>35137989.9</td><td>  775.77</td></tr>\n",
       "</tbody>\n",
       "</table>\n"
      ],
      "text/latex": [
       "A spec\\_tbl\\_df: 5 x 20\n",
       "\\begin{tabular}{llllllllllllllllllll}\n",
       " id\\_zona & nombre\\_zona & nsec & t3\\_1 & t1\\_1 & t2\\_1 & t2\\_2 & t4\\_1 & t4\\_2 & t4\\_3 & t5\\_1 & t6\\_1 & t7\\_1 & t8\\_1 & t9\\_1 & t10\\_1 & t11\\_1 & t12\\_1 & area & densidad\\_hab\\_km\\\\\n",
       " <chr> & <chr> & <dbl> & <dbl> & <dbl> & <dbl> & <dbl> & <dbl> & <dbl> & <dbl> & <dbl> & <dbl> & <dbl> & <dbl> & <dbl> & <dbl> & <dbl> & <dbl> & <dbl> & <dbl>\\\\\n",
       "\\hline\n",
       "\t 001 & Abrantes         & 23 & 42.31249 & 29872 & 0.5345094 & 0.4654906 & 0.15619346 & 0.6656459 & 0.1781619 & 0.21839930 & 0.34508551 & 0.04090796 & 0.02880326 & 0.2685716 & 0.16656066 & 0.4723181 & 0.5637381 &  1571618.8 & 19007.15\\\\\n",
       "\t 002 & Acacias          & 11 & 46.15717 & 17961 & 0.5328775 & 0.4671225 & 0.10929873 & 0.6516215 & 0.2390941 & 0.04313645 & 0.07700825 & 0.08494593 & 0.07576304 & 0.6368488 & 0.08377987 & 0.5083022 & 0.5548573 &   771569.7 & 23278.52\\\\\n",
       "\t 003 & Adelfas          & 19 & 45.30472 & 28933 & 0.5383134 & 0.4616866 & 0.12408817 & 0.6541986 & 0.2217328 & 0.07236948 & 0.12420792 & 0.07195008 & 0.06532400 & 0.6031800 & 0.08766432 & 0.5262385 & 0.5770966 &   854805.6 & 33847.46\\\\\n",
       "\t 004 & Alameda          & 18 & 43.70575 & 21393 & 0.4919805 & 0.5080195 & 0.07409008 & 0.7685363 & 0.1574029 & 0.26145728 & 0.35309699 & 0.04949630 & 0.04323113 & 0.5672350 & 0.12302998 & 0.5410470 & 0.6171510 &   547596.1 & 39067.11\\\\\n",
       "\t 005 & Alameda de Osuna & 18 & 43.31968 & 27259 & 0.5153616 & 0.4846384 & 0.17427654 & 0.6063697 & 0.2193419 & 0.07059011 & 0.12803028 & 0.07156026 & 0.06267665 & 0.5862647 & 0.08518132 & 0.5028547 & 0.5490471 & 35137989.9 &   775.77\\\\\n",
       "\\end{tabular}\n"
      ],
      "text/markdown": [
       "\n",
       "A spec_tbl_df: 5 x 20\n",
       "\n",
       "| id_zona &lt;chr&gt; | nombre_zona &lt;chr&gt; | nsec &lt;dbl&gt; | t3_1 &lt;dbl&gt; | t1_1 &lt;dbl&gt; | t2_1 &lt;dbl&gt; | t2_2 &lt;dbl&gt; | t4_1 &lt;dbl&gt; | t4_2 &lt;dbl&gt; | t4_3 &lt;dbl&gt; | t5_1 &lt;dbl&gt; | t6_1 &lt;dbl&gt; | t7_1 &lt;dbl&gt; | t8_1 &lt;dbl&gt; | t9_1 &lt;dbl&gt; | t10_1 &lt;dbl&gt; | t11_1 &lt;dbl&gt; | t12_1 &lt;dbl&gt; | area &lt;dbl&gt; | densidad_hab_km &lt;dbl&gt; |\n",
       "|---|---|---|---|---|---|---|---|---|---|---|---|---|---|---|---|---|---|---|---|\n",
       "| 001 | Abrantes         | 23 | 42.31249 | 29872 | 0.5345094 | 0.4654906 | 0.15619346 | 0.6656459 | 0.1781619 | 0.21839930 | 0.34508551 | 0.04090796 | 0.02880326 | 0.2685716 | 0.16656066 | 0.4723181 | 0.5637381 |  1571618.8 | 19007.15 |\n",
       "| 002 | Acacias          | 11 | 46.15717 | 17961 | 0.5328775 | 0.4671225 | 0.10929873 | 0.6516215 | 0.2390941 | 0.04313645 | 0.07700825 | 0.08494593 | 0.07576304 | 0.6368488 | 0.08377987 | 0.5083022 | 0.5548573 |   771569.7 | 23278.52 |\n",
       "| 003 | Adelfas          | 19 | 45.30472 | 28933 | 0.5383134 | 0.4616866 | 0.12408817 | 0.6541986 | 0.2217328 | 0.07236948 | 0.12420792 | 0.07195008 | 0.06532400 | 0.6031800 | 0.08766432 | 0.5262385 | 0.5770966 |   854805.6 | 33847.46 |\n",
       "| 004 | Alameda          | 18 | 43.70575 | 21393 | 0.4919805 | 0.5080195 | 0.07409008 | 0.7685363 | 0.1574029 | 0.26145728 | 0.35309699 | 0.04949630 | 0.04323113 | 0.5672350 | 0.12302998 | 0.5410470 | 0.6171510 |   547596.1 | 39067.11 |\n",
       "| 005 | Alameda de Osuna | 18 | 43.31968 | 27259 | 0.5153616 | 0.4846384 | 0.17427654 | 0.6063697 | 0.2193419 | 0.07059011 | 0.12803028 | 0.07156026 | 0.06267665 | 0.5862647 | 0.08518132 | 0.5028547 | 0.5490471 | 35137989.9 |   775.77 |\n",
       "\n"
      ],
      "text/plain": [
       "  id_zona nombre_zona      nsec t3_1     t1_1  t2_1      t2_2      t4_1      \n",
       "1 001     Abrantes         23   42.31249 29872 0.5345094 0.4654906 0.15619346\n",
       "2 002     Acacias          11   46.15717 17961 0.5328775 0.4671225 0.10929873\n",
       "3 003     Adelfas          19   45.30472 28933 0.5383134 0.4616866 0.12408817\n",
       "4 004     Alameda          18   43.70575 21393 0.4919805 0.5080195 0.07409008\n",
       "5 005     Alameda de Osuna 18   43.31968 27259 0.5153616 0.4846384 0.17427654\n",
       "  t4_2      t4_3      t5_1       t6_1       t7_1       t8_1       t9_1     \n",
       "1 0.6656459 0.1781619 0.21839930 0.34508551 0.04090796 0.02880326 0.2685716\n",
       "2 0.6516215 0.2390941 0.04313645 0.07700825 0.08494593 0.07576304 0.6368488\n",
       "3 0.6541986 0.2217328 0.07236948 0.12420792 0.07195008 0.06532400 0.6031800\n",
       "4 0.7685363 0.1574029 0.26145728 0.35309699 0.04949630 0.04323113 0.5672350\n",
       "5 0.6063697 0.2193419 0.07059011 0.12803028 0.07156026 0.06267665 0.5862647\n",
       "  t10_1      t11_1     t12_1     area       densidad_hab_km\n",
       "1 0.16656066 0.4723181 0.5637381  1571618.8 19007.15       \n",
       "2 0.08377987 0.5083022 0.5548573   771569.7 23278.52       \n",
       "3 0.08766432 0.5262385 0.5770966   854805.6 33847.46       \n",
       "4 0.12302998 0.5410470 0.6171510   547596.1 39067.11       \n",
       "5 0.08518132 0.5028547 0.5490471 35137989.9   775.77       "
      ]
     },
     "metadata": {},
     "output_type": "display_data"
    }
   ],
   "source": [
    "data_02 |> slice_head(n = 5)"
   ]
  },
  {
   "cell_type": "markdown",
   "metadata": {
    "slideshow": {
     "slide_type": "slide"
    }
   },
   "source": [
    "## ETL Processes"
   ]
  },
  {
   "attachments": {},
   "cell_type": "markdown",
   "metadata": {
    "slideshow": {
     "slide_type": "slide"
    }
   },
   "source": [
    "### Import data from: CSV, Excel, Tab, JSON, SQL, and Parquet files\n",
    "\n",
    "Se han importado en el apartado Data Load anterior:\n",
    "\n",
    "* Datos simulados sanitarios\n",
    "* Indicadores demográficos"
   ]
  },
  {
   "attachments": {},
   "cell_type": "markdown",
   "metadata": {},
   "source": [
    "Incluir apartados si procede para: Extracción de datos (select, filter), Transformación de datos, (mutate, joins, ...). Si es necesario tratar datos perdidos, indicarlo también en NB 09.2"
   ]
  },
  {
   "attachments": {},
   "cell_type": "markdown",
   "metadata": {},
   "source": [
    "Si no aplica: Estos datos no requieren tareas de este tipo."
   ]
  },
  {
   "attachments": {},
   "cell_type": "markdown",
   "metadata": {},
   "source": [
    "#### Data extract"
   ]
  },
  {
   "attachments": {},
   "cell_type": "markdown",
   "metadata": {},
   "source": [
    "* Seleccionar columnas de la simulación que deberían ser solo por zona"
   ]
  },
  {
   "cell_type": "code",
   "execution_count": 23,
   "metadata": {
    "vscode": {
     "languageId": "r"
    }
   },
   "outputs": [],
   "source": [
    "edata_01 <- data_01 |> \n",
    "    select(GEOCODIGO, DESBDT, ano, semana, \n",
    "        capacidad_zona, prop_riesgo, tasa_riesgo, tasa_mayores, poblacion_mayores)"
   ]
  },
  {
   "cell_type": "code",
   "execution_count": 25,
   "metadata": {
    "vscode": {
     "languageId": "r"
    }
   },
   "outputs": [
    {
     "name": "stdout",
     "output_type": "stream",
     "text": [
      "Rows: 20,868\n",
      "Columns: 9\n",
      "$ GEOCODIGO         \u001b[3m\u001b[90m<chr>\u001b[39m\u001b[23m \"001\", \"001\", \"001\", \"001\", \"001\", \"001\", \"001\", \"00~\n",
      "$ DESBDT            \u001b[3m\u001b[90m<chr>\u001b[39m\u001b[23m \"Abrantes\", \"Abrantes\", \"Abrantes\", \"Abrantes\", \"Abr~\n",
      "$ ano               \u001b[3m\u001b[90m<dbl>\u001b[39m\u001b[23m 2021, 2021, 2021, 2021, 2021, 2021, 2021, 2021, 2021~\n",
      "$ semana            \u001b[3m\u001b[90m<dbl>\u001b[39m\u001b[23m 36, 37, 38, 39, 40, 41, 42, 43, 44, 45, 46, 47, 48, ~\n",
      "$ capacidad_zona    \u001b[3m\u001b[90m<dbl>\u001b[39m\u001b[23m 7742, 7654, 7425, 7189, 7566, 7417, 7638, 7711, 7249~\n",
      "$ prop_riesgo       \u001b[3m\u001b[90m<dbl>\u001b[39m\u001b[23m 0.1954797, 0.1906348, 0.1930880, 0.1918070, 0.185116~\n",
      "$ tasa_riesgo       \u001b[3m\u001b[90m<dbl>\u001b[39m\u001b[23m 0.1950852, 0.1870784, 0.1874322, 0.2031197, 0.188523~\n",
      "$ tasa_mayores      \u001b[3m\u001b[90m<dbl>\u001b[39m\u001b[23m 0.1644978, 0.1882310, 0.1940977, 0.1781833, 0.181451~\n",
      "$ poblacion_mayores \u001b[3m\u001b[90m<dbl>\u001b[39m\u001b[23m 0.1781619, 0.1781619, 0.1781619, 0.1781619, 0.178161~\n"
     ]
    }
   ],
   "source": [
    "glimpse(edata_01)"
   ]
  },
  {
   "attachments": {},
   "cell_type": "markdown",
   "metadata": {},
   "source": [
    "#### Data transform"
   ]
  },
  {
   "attachments": {},
   "cell_type": "markdown",
   "metadata": {},
   "source": [
    "* Agregación de datos por zona y transformar proporciones a tasas"
   ]
  },
  {
   "cell_type": "code",
   "execution_count": 43,
   "metadata": {
    "vscode": {
     "languageId": "r"
    }
   },
   "outputs": [
    {
     "name": "stderr",
     "output_type": "stream",
     "text": [
      "\u001b[1m\u001b[22m`summarise()` has grouped output by 'GEOCODIGO'. You can override using the\n",
      "`.groups` argument.\n"
     ]
    }
   ],
   "source": [
    "set.seed(1)\n",
    "tdata_01 <- edata_01 |>\n",
    "    select(-ano, -semana) |>\n",
    "    group_by(GEOCODIGO, DESBDT) |>\n",
    "    summarise(across(everything(), ~mean(.x, na.rm = TRUE)))|>\n",
    "    ungroup() |>\n",
    "    mutate(tasa_riesgo = rnorm(n(), 0.01, 0.005),\n",
    "        tasa_mayores = rnorm(n(), 0.02, 0.01),\n",
    "        capacidad_zona = round(capacidad_zona))\n",
    "    "
   ]
  },
  {
   "cell_type": "code",
   "execution_count": 44,
   "metadata": {
    "vscode": {
     "languageId": "r"
    }
   },
   "outputs": [
    {
     "name": "stdout",
     "output_type": "stream",
     "text": [
      "Rows: 282\n",
      "Columns: 7\n",
      "$ GEOCODIGO         \u001b[3m\u001b[90m<chr>\u001b[39m\u001b[23m \"001\", \"002\", \"003\", \"004\", \"005\", \"006\", \"007\", \"00~\n",
      "$ DESBDT            \u001b[3m\u001b[90m<chr>\u001b[39m\u001b[23m \"Abrantes\", \"Acacias\", \"Adelfas\", \"Alameda\", \"Alamed~\n",
      "$ capacidad_zona    \u001b[3m\u001b[90m<dbl>\u001b[39m\u001b[23m 7477, 4482, 7235, 5343, 6816, 5318, 3081, 6843, 3776~\n",
      "$ prop_riesgo       \u001b[3m\u001b[90m<dbl>\u001b[39m\u001b[23m 0.19535423, 0.26312125, 0.24362661, 0.17253854, 0.24~\n",
      "$ tasa_riesgo       \u001b[3m\u001b[90m<dbl>\u001b[39m\u001b[23m 6.867731e-03, 1.091822e-02, 5.821857e-03, 1.797640e-~\n",
      "$ tasa_mayores      \u001b[3m\u001b[90m<dbl>\u001b[39m\u001b[23m 0.033242586, 0.012987683, 0.014193857, 0.009989278, ~\n",
      "$ poblacion_mayores \u001b[3m\u001b[90m<dbl>\u001b[39m\u001b[23m 0.17816190, 0.23909411, 0.22173279, 0.15740288, 0.21~\n"
     ]
    }
   ],
   "source": [
    "tdata_01 |> glimpse()"
   ]
  },
  {
   "attachments": {},
   "cell_type": "markdown",
   "metadata": {},
   "source": [
    "* Unión de tablas por zona"
   ]
  },
  {
   "cell_type": "code",
   "execution_count": 47,
   "metadata": {
    "vscode": {
     "languageId": "r"
    }
   },
   "outputs": [],
   "source": [
    "data <- tdata_01 |>\n",
    "    full_join(data_02, by = c(\"GEOCODIGO\" = \"id_zona\")) "
   ]
  },
  {
   "cell_type": "code",
   "execution_count": 48,
   "metadata": {
    "vscode": {
     "languageId": "r"
    }
   },
   "outputs": [
    {
     "name": "stdout",
     "output_type": "stream",
     "text": [
      "Rows: 286\n",
      "Columns: 26\n",
      "$ GEOCODIGO         \u001b[3m\u001b[90m<chr>\u001b[39m\u001b[23m \"001\", \"002\", \"003\", \"004\", \"005\", \"006\", \"007\", \"00~\n",
      "$ DESBDT            \u001b[3m\u001b[90m<chr>\u001b[39m\u001b[23m \"Abrantes\", \"Acacias\", \"Adelfas\", \"Alameda\", \"Alamed~\n",
      "$ capacidad_zona    \u001b[3m\u001b[90m<dbl>\u001b[39m\u001b[23m 7477, 4482, 7235, 5343, 6816, 5318, 3081, 6843, 3776~\n",
      "$ prop_riesgo       \u001b[3m\u001b[90m<dbl>\u001b[39m\u001b[23m 0.19535423, 0.26312125, 0.24362661, 0.17253854, 0.24~\n",
      "$ tasa_riesgo       \u001b[3m\u001b[90m<dbl>\u001b[39m\u001b[23m 6.867731e-03, 1.091822e-02, 5.821857e-03, 1.797640e-~\n",
      "$ tasa_mayores      \u001b[3m\u001b[90m<dbl>\u001b[39m\u001b[23m 0.033242586, 0.012987683, 0.014193857, 0.009989278, ~\n",
      "$ poblacion_mayores \u001b[3m\u001b[90m<dbl>\u001b[39m\u001b[23m 0.17816190, 0.23909411, 0.22173279, 0.15740288, 0.21~\n",
      "$ nombre_zona       \u001b[3m\u001b[90m<chr>\u001b[39m\u001b[23m \"Abrantes\", \"Acacias\", \"Adelfas\", \"Alameda\", \"Alamed~\n",
      "$ nsec              \u001b[3m\u001b[90m<dbl>\u001b[39m\u001b[23m 23, 11, 19, 18, 18, 15, 10, 17, 11, 12, 14, 17, 8, 2~\n",
      "$ t3_1              \u001b[3m\u001b[90m<dbl>\u001b[39m\u001b[23m 42.31249, 46.15717, 45.30472, 43.70575, 43.31968, 44~\n",
      "$ t1_1              \u001b[3m\u001b[90m<dbl>\u001b[39m\u001b[23m 29872, 17961, 28933, 21393, 27259, 21186, 12367, 274~\n",
      "$ t2_1              \u001b[3m\u001b[90m<dbl>\u001b[39m\u001b[23m 0.5345094, 0.5328775, 0.5383134, 0.4919805, 0.515361~\n",
      "$ t2_2              \u001b[3m\u001b[90m<dbl>\u001b[39m\u001b[23m 0.4654906, 0.4671225, 0.4616866, 0.5080195, 0.484638~\n",
      "$ t4_1              \u001b[3m\u001b[90m<dbl>\u001b[39m\u001b[23m 0.15619346, 0.10929873, 0.12408817, 0.07409008, 0.17~\n",
      "$ t4_2              \u001b[3m\u001b[90m<dbl>\u001b[39m\u001b[23m 0.6656459, 0.6516215, 0.6541986, 0.7685363, 0.606369~\n",
      "$ t4_3              \u001b[3m\u001b[90m<dbl>\u001b[39m\u001b[23m 0.17816190, 0.23909411, 0.22173279, 0.15740288, 0.21~\n",
      "$ t5_1              \u001b[3m\u001b[90m<dbl>\u001b[39m\u001b[23m 0.21839930, 0.04313645, 0.07236948, 0.26145728, 0.07~\n",
      "$ t6_1              \u001b[3m\u001b[90m<dbl>\u001b[39m\u001b[23m 0.34508551, 0.07700825, 0.12420792, 0.35309699, 0.12~\n",
      "$ t7_1              \u001b[3m\u001b[90m<dbl>\u001b[39m\u001b[23m 0.04090796, 0.08494593, 0.07195008, 0.04949630, 0.07~\n",
      "$ t8_1              \u001b[3m\u001b[90m<dbl>\u001b[39m\u001b[23m 0.02880326, 0.07576304, 0.06532400, 0.04323113, 0.06~\n",
      "$ t9_1              \u001b[3m\u001b[90m<dbl>\u001b[39m\u001b[23m 0.2685716, 0.6368488, 0.6031800, 0.5672350, 0.586264~\n",
      "$ t10_1             \u001b[3m\u001b[90m<dbl>\u001b[39m\u001b[23m 0.16656066, 0.08377987, 0.08766432, 0.12302998, 0.08~\n",
      "$ t11_1             \u001b[3m\u001b[90m<dbl>\u001b[39m\u001b[23m 0.4723181, 0.5083022, 0.5262385, 0.5410470, 0.502854~\n",
      "$ t12_1             \u001b[3m\u001b[90m<dbl>\u001b[39m\u001b[23m 0.5637381, 0.5548573, 0.5770966, 0.6171510, 0.549047~\n",
      "$ area              \u001b[3m\u001b[90m<dbl>\u001b[39m\u001b[23m 1571618.8, 771569.7, 854805.6, 547596.1, 35137989.9,~\n",
      "$ densidad_hab_km   \u001b[3m\u001b[90m<dbl>\u001b[39m\u001b[23m 19007.1534, 23278.5190, 33847.4619, 39067.1135, 775.~\n"
     ]
    }
   ],
   "source": [
    "glimpse(data)"
   ]
  },
  {
   "cell_type": "markdown",
   "metadata": {
    "slideshow": {
     "slide_type": "slide"
    }
   },
   "source": [
    "## Synthetic Data Generation"
   ]
  },
  {
   "attachments": {},
   "cell_type": "markdown",
   "metadata": {
    "slideshow": {
     "slide_type": "slide"
    }
   },
   "source": [
    "* Algunos de los datos se habían generado de forma sintética\n",
    "* En esta tarea se han vuelto a generar las tasas"
   ]
  },
  {
   "cell_type": "markdown",
   "metadata": {
    "slideshow": {
     "slide_type": "slide"
    }
   },
   "source": [
    "## Fake Data Generation"
   ]
  },
  {
   "attachments": {},
   "cell_type": "markdown",
   "metadata": {
    "slideshow": {
     "slide_type": "slide"
    }
   },
   "source": [
    "No aplica\n"
   ]
  },
  {
   "cell_type": "markdown",
   "metadata": {
    "slideshow": {
     "slide_type": "slide"
    }
   },
   "source": [
    "## Open Data"
   ]
  },
  {
   "attachments": {},
   "cell_type": "markdown",
   "metadata": {
    "slideshow": {
     "slide_type": "slide"
    }
   },
   "source": [
    "Los indicadores provienen de datos abiertos del INE. Las superficies y densidades de población se calcularon con las geometrías que venían también de fuentes públicas."
   ]
  },
  {
   "cell_type": "markdown",
   "metadata": {},
   "source": [
    "## <font color='green'>Data Save</font>"
   ]
  },
  {
   "attachments": {},
   "cell_type": "markdown",
   "metadata": {},
   "source": [
    "Este proceso, puede copiarse y repetirse en aquellas partes del notebbok que necesiten guardar datos.\n",
    "Recuerde cambiar las cadenas añadida del fichero para diferenciarlas"
   ]
  },
  {
   "cell_type": "markdown",
   "metadata": {},
   "source": [
    "<font color='tomato'> Identificamos los datos a guardar</font>"
   ]
  },
  {
   "cell_type": "code",
   "execution_count": 49,
   "metadata": {
    "ExecuteTime": {
     "end_time": "2020-12-25T17:59:27.022001Z",
     "start_time": "2020-12-25T17:59:15.986986Z"
    },
    "scrolled": false,
    "vscode": {
     "languageId": "r"
    }
   },
   "outputs": [],
   "source": [
    "data_to_save <- data"
   ]
  },
  {
   "attachments": {},
   "cell_type": "markdown",
   "metadata": {},
   "source": [
    "\n",
    "<font color='tomato'>Estructura de nombre de archivos:</font>\n",
    "\n",
    "* Código del caso de uso, por ejemplo \"CU_04\"\n",
    "* Número del proceso que lo genera, por ejemplo \"_05\".\n",
    "* Número de la tarea que lo genera, por ejemplo \"_01\"\n",
    "* En caso de generarse varios ficheros en la misma tarea, llevarán _01 _02 ... después\n",
    "* Nombre: identificativo de \"properData\", por ejemplo \"_zonasgeo\"\n",
    "* Extensión del archivo\n",
    "\n",
    "Ejemplo: \"CU_04_05_01_01_zonasgeo.json, primer fichero que se genera en la tarea 01 del proceso 05 (Data Collection) para el caso de uso 04 (vacunas)\n",
    "\n",
    "Importante mantener los guiones bajos antes de proceso, tarea, archivo y nombre"
   ]
  },
  {
   "attachments": {},
   "cell_type": "markdown",
   "metadata": {},
   "source": [
    "### Proceso 05"
   ]
  },
  {
   "cell_type": "code",
   "execution_count": 50,
   "metadata": {
    "ExecuteTime": {
     "end_time": "2020-12-25T17:59:27.022001Z",
     "start_time": "2020-12-25T17:59:15.986986Z"
    },
    "scrolled": false,
    "vscode": {
     "languageId": "r"
    }
   },
   "outputs": [],
   "source": [
    "caso <- \"CU_04\"\n",
    "proceso <- '_05'\n",
    "tarea <- \"_17\"\n",
    "archivo <- \"\"\n",
    "proper <- \"_indicadores_vacunacion\"\n",
    "extension <- \".csv\""
   ]
  },
  {
   "attachments": {},
   "cell_type": "markdown",
   "metadata": {},
   "source": [
    "<font color='tomato'><b> OPCION A:</b> Uso del paquete \"tcltk\" para mayor comodidad</font>\n",
    "\n",
    "* Buscar carpeta, escribir nombre de archivo SIN extensión (se especifica en el código)\n",
    "* Especificar sufijo2 si es necesario\n",
    "* Cambiar datos por datos_xx si es necesario"
   ]
  },
  {
   "cell_type": "code",
   "execution_count": null,
   "metadata": {
    "ExecuteTime": {
     "end_time": "2020-12-25T17:59:27.022001Z",
     "start_time": "2020-12-25T17:59:15.986986Z"
    },
    "scrolled": false,
    "vscode": {
     "languageId": "r"
    }
   },
   "outputs": [],
   "source": [
    "# file_save <- paste0(caso, proceso, tarea, tcltk::tkgetSaveFile(), proper, extension) \n",
    "# path_out <- paste0(oPath, file_save)\n",
    "# write_csv(data_to_save, path_out)\n",
    "\n",
    "# cat('File saved as: ')\n",
    "# path_out"
   ]
  },
  {
   "attachments": {},
   "cell_type": "markdown",
   "metadata": {},
   "source": [
    "<font color='tomato'><b> OPCION B:</b> Especificar el nombre de archivo</font>"
   ]
  },
  {
   "attachments": {},
   "cell_type": "markdown",
   "metadata": {},
   "source": [
    "- Los ficheros de salida del proceso van siempre a Data/Output/.  "
   ]
  },
  {
   "cell_type": "code",
   "execution_count": 51,
   "metadata": {
    "ExecuteTime": {
     "end_time": "2021-01-26T18:40:31.258294Z",
     "start_time": "2021-01-26T18:40:26.061847Z"
    },
    "slideshow": {
     "slide_type": "subslide"
    },
    "vscode": {
     "languageId": "r"
    }
   },
   "outputs": [
    {
     "name": "stdout",
     "output_type": "stream",
     "text": [
      "File saved as: "
     ]
    },
    {
     "data": {
      "text/html": [
       "'Data/Output/CU_04_05_17_indicadores_vacunacion.csv'"
      ],
      "text/latex": [
       "'Data/Output/CU\\_04\\_05\\_17\\_indicadores\\_vacunacion.csv'"
      ],
      "text/markdown": [
       "'Data/Output/CU_04_05_17_indicadores_vacunacion.csv'"
      ],
      "text/plain": [
       "[1] \"Data/Output/CU_04_05_17_indicadores_vacunacion.csv\""
      ]
     },
     "metadata": {},
     "output_type": "display_data"
    }
   ],
   "source": [
    "file_save <- paste0(caso, proceso, tarea, archivo, proper, extension) \n",
    "path_out <- paste0(oPath, file_save)\n",
    "write_csv(data_to_save, path_out)\n",
    "\n",
    "cat('File saved as: ')\n",
    "path_out"
   ]
  },
  {
   "attachments": {},
   "cell_type": "markdown",
   "metadata": {},
   "source": [
    "#### Copia del fichero a Input\n",
    "\n",
    "Si el archivo se va a usar en otros notebooks, copiar a la carpeta Input"
   ]
  },
  {
   "cell_type": "code",
   "execution_count": 52,
   "metadata": {
    "vscode": {
     "languageId": "r"
    }
   },
   "outputs": [
    {
     "data": {
      "text/html": [
       "TRUE"
      ],
      "text/latex": [
       "TRUE"
      ],
      "text/markdown": [
       "TRUE"
      ],
      "text/plain": [
       "[1] TRUE"
      ]
     },
     "metadata": {},
     "output_type": "display_data"
    }
   ],
   "source": [
    "path_in <- paste0(iPath, file_save)\n",
    "file.copy(path_out, path_in, overwrite = TRUE)"
   ]
  },
  {
   "cell_type": "markdown",
   "metadata": {},
   "source": [
    "## <font color=' #2874a6 '>Main Conclusions</font>"
   ]
  },
  {
   "cell_type": "markdown",
   "metadata": {
    "slideshow": {
     "slide_type": "slide"
    }
   },
   "source": [
    "<font color='steelblue'>List and describe the general conclusions of the analysis carried out​.</font>"
   ]
  },
  {
   "attachments": {},
   "cell_type": "markdown",
   "metadata": {},
   "source": [
    "### Prerequisites\n",
    "\n",
    "Para que funcione este código se necesita:\n",
    "\n",
    "* Las rutas de archivos `Data/Input` y `Data/Output` deben existir (relativas a la ruta del _notebook_)\n",
    "* El paquete tcltk instalado para seleccionar archivos interactivamente. No se necesita en producción.\n",
    "* Los paquetes tcltk, readxl, readr, dplyr deben estar instalados."
   ]
  },
  {
   "attachments": {},
   "cell_type": "markdown",
   "metadata": {},
   "source": [
    "### Configuration Management\n",
    "\n",
    "This notebook has been tested with the following versions of R and packages. It cannot be assured that later versions work in the same way:\n",
    "* R 4.2.2\n",
    "* tcltk 4.2.2\n",
    "* readxl 1.4.1\n",
    "* readr 2.1.3\n",
    "* dplyr 1.0.10"
   ]
  },
  {
   "attachments": {},
   "cell_type": "markdown",
   "metadata": {},
   "source": [
    "### Data structures"
   ]
  },
  {
   "attachments": {},
   "cell_type": "markdown",
   "metadata": {},
   "source": [
    "#### Objeto `data`\n",
    "\n",
    "- Los datos de origen \n",
    "- Hay 21736 filas con la información de las siguientes variables:\n",
    "\t* GEOCODIGO\n",
    "\t* DESBDT\n",
    "\t* ano\n",
    "\t* semana\n",
    "\t* n_vacunas\n",
    "\t* n_citas\n",
    "\t* tmed\n",
    "\t* prec\n",
    "\t* velmedia\n",
    "\t* presMax\n",
    "\t* benzene\n",
    "\t* co\n",
    "\t* no\n",
    "\t* no2\n",
    "\t* nox\n",
    "\t* o3\n",
    "\t* pm10\n",
    "\t* pm2.5\n",
    "\t* so2\n"
   ]
  },
  {
   "attachments": {},
   "cell_type": "markdown",
   "metadata": {},
   "source": [
    "#### Observaciones generales sobre los datos\n",
    "\n",
    "* Había más datos de vacunación que de las otras variables porque las primeras se simularon de las semanas exactas de la campaña, y el resto se obtuvieron de meses completos\n",
    "* Se han mantenido todas las filas en este conjunto de datos por si son útiles para los modelos\n",
    "* Los datos son únicos para cada zona, año y semana"
   ]
  },
  {
   "attachments": {},
   "cell_type": "markdown",
   "metadata": {},
   "source": [
    "### Consideraciones para despliegue en piloto\n",
    "\n",
    "* Ninguna"
   ]
  },
  {
   "attachments": {},
   "cell_type": "markdown",
   "metadata": {},
   "source": [
    "### Consideraciones para despliegue en producción\n",
    "\n",
    "* Se deben crear los procesos ETL en producción necesarios para que los datos de entrada estén actualizados"
   ]
  },
  {
   "cell_type": "markdown",
   "metadata": {},
   "source": [
    "## <font color=' #2874a6 '>Main Actions</font>"
   ]
  },
  {
   "cell_type": "markdown",
   "metadata": {},
   "source": [
    "#### <font color=' #2874a6 '>Acciones done</font>"
   ]
  },
  {
   "cell_type": "markdown",
   "metadata": {
    "slideshow": {
     "slide_type": "slide"
    }
   },
   "source": [
    "<font color='steelblue'>Indicate the actions that have been carried out in this process</font>"
   ]
  },
  {
   "attachments": {},
   "cell_type": "markdown",
   "metadata": {},
   "source": [
    "- Se han unido las tablas con datos por semana y zona"
   ]
  },
  {
   "cell_type": "markdown",
   "metadata": {},
   "source": [
    "#### <font color=' #2874a6 '>Acctions to perform</font>"
   ]
  },
  {
   "cell_type": "markdown",
   "metadata": {
    "slideshow": {
     "slide_type": "slide"
    }
   },
   "source": [
    "<font color='steelblue'>Indicate the actions that must be carried out in subsequent processes</font>"
   ]
  },
  {
   "attachments": {},
   "cell_type": "markdown",
   "metadata": {},
   "source": [
    "- Se deben unir a las tablas con otra granularidad, repitiendo datos, para tener un csv que incluya todo"
   ]
  },
  {
   "attachments": {},
   "cell_type": "markdown",
   "metadata": {},
   "source": [
    "## <font color='RED'>CODE TO DEPLOY (PILOT)</font>\n",
    "\n",
    "A continuación se incluirá el código que deba ser llevado a despliegue para producción, dado que se entiende efectúa operaciones necesarias sobre los datos en la ejecución del prototipo"
   ]
  },
  {
   "attachments": {},
   "cell_type": "markdown",
   "metadata": {},
   "source": [
    "<font color=' red '><b>Description</b></font>\n",
    "\n",
    "- No hay nada que desplegar en el piloto, ya que estos datos son estáticos o en todo caso cambian con muy poca frecuencia, altamente improbable durante el proyecto.\n"
   ]
  },
  {
   "attachments": {},
   "cell_type": "markdown",
   "metadata": {},
   "source": [
    "<font color=' red '><b>CODE</b></font>"
   ]
  },
  {
   "cell_type": "code",
   "execution_count": null,
   "metadata": {
    "vscode": {
     "languageId": "r"
    }
   },
   "outputs": [],
   "source": [
    "# incluir código"
   ]
  }
 ],
 "metadata": {
  "anaconda-cloud": {},
  "celltoolbar": "Slideshow",
  "hide_input": false,
  "kernelspec": {
   "display_name": "R",
   "language": "R",
   "name": "ir"
  },
  "language_info": {
   "codemirror_mode": "r",
   "file_extension": ".r",
   "mimetype": "text/x-r-source",
   "name": "R",
   "pygments_lexer": "r",
   "version": "4.2.2"
  },
  "latex_envs": {
   "LaTeX_envs_menu_present": true,
   "autoclose": false,
   "autocomplete": true,
   "bibliofile": "biblio.bib",
   "cite_by": "apalike",
   "current_citInitial": 1,
   "eqLabelWithNumbers": true,
   "eqNumInitial": 1,
   "hotkeys": {
    "equation": "Ctrl-E",
    "itemize": "Ctrl-I"
   },
   "labels_anchors": false,
   "latex_user_defs": false,
   "report_style_numbering": true,
   "user_envs_cfg": false
  },
  "toc": {
   "base_numbering": 1,
   "nav_menu": {
    "height": "11.6px",
    "width": "160px"
   },
   "number_sections": false,
   "sideBar": true,
   "skip_h1_title": true,
   "title_cell": "Table of Contents",
   "title_sidebar": "Contents",
   "toc_cell": true,
   "toc_position": {
    "height": "calc(100% - 180px)",
    "left": "10px",
    "top": "150px",
    "width": "209.2px"
   },
   "toc_section_display": true,
   "toc_window_display": true
  },
  "varInspector": {
   "cols": {
    "lenName": 16,
    "lenType": 16,
    "lenVar": 40
   },
   "kernels_config": {
    "python": {
     "delete_cmd_postfix": "",
     "delete_cmd_prefix": "del ",
     "library": "var_list.py",
     "varRefreshCmd": "print(var_dic_list())"
    },
    "r": {
     "delete_cmd_postfix": ") ",
     "delete_cmd_prefix": "rm(",
     "library": "var_list.r",
     "varRefreshCmd": "cat(var_dic_list()) "
    }
   },
   "types_to_exclude": [
    "module",
    "function",
    "builtin_function_or_method",
    "instance",
    "_Feature"
   ],
   "window_display": false
  }
 },
 "nbformat": 4,
 "nbformat_minor": 1
}
