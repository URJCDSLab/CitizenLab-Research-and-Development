{
 "cells": [
  {
   "cell_type": "markdown",
   "metadata": {
    "slideshow": {
     "slide_type": "slide"
    }
   },
   "source": [
    "<img src=\".\\images\\Logo.png\" width=150 align=\"left\" /> <img src=\".\\images\\Logo2.jpg\" width=450 align=\"right\" />"
   ]
  },
  {
   "attachments": {},
   "cell_type": "markdown",
   "metadata": {
    "slideshow": {
     "slide_type": "slide"
    }
   },
   "source": [
    "\n",
    "# <center><font color= #1e8449 > <b>CUxx_xxxxx</font></center>"
   ]
  },
  {
   "cell_type": "markdown",
   "metadata": {
    "slideshow": {
     "slide_type": "slide"
    }
   },
   "source": [
    "<font color='steelblue'><b>Citizenlab Data Science Methodology > II - Data Processing Domain </font>\n",
    "***\n",
    "> # <font color='steelblue'> <b>05.- Data Collection</font>"
   ]
  },
  {
   "cell_type": "markdown",
   "metadata": {
    "slideshow": {
     "slide_type": "slide"
    }
   },
   "source": [
    "<font color='steelblue'>Data Collection is the process to obtain and generate (if required) necessary data to model the problem.</font>"
   ]
  },
  {
   "attachments": {},
   "cell_type": "markdown",
   "metadata": {},
   "source": [
    "### 16. Unión de datos semanales por zonas de vacunación y otras\n",
    "\n",
    "* Consolidación de todas las variables por semana del caso de uso\n",
    "* Vacunación, meteo, contaminación\n",
    "\n",
    "\n",
    "\n",
    "\n",
    "\n"
   ]
  },
  {
   "cell_type": "markdown",
   "metadata": {
    "toc": true
   },
   "source": [
    "<h1>Table of Contents<span class=\"tocSkip\"></span></h1>\n",
    "<div class=\"toc\"><ul class=\"toc-item\"><li><span><a href=\"#Settings\" data-toc-modified-id=\"Settings-1\"><font color=\"green\">Settings</font></a></span></li><li><span><a href=\"#Data-Load\" data-toc-modified-id=\"Data-Load-2\"><font color=\"green\">Data Load</font></a></span></li><li><span><a href=\"#ETL-Processes\" data-toc-modified-id=\"ETL-Processes-3\">ETL Processes</a></span><ul class=\"toc-item\"><li><span><a href=\"#Import-data-from:-CSV,-Excel,-Tab,-JSON,-SQL,-and-Parquet-files\" data-toc-modified-id=\"Import-data-from:-CSV,-Excel,-Tab,-JSON,-SQL,-and-Parquet-files-3.1\">Import data from: CSV, Excel, Tab, JSON, SQL, and Parquet files</a></span></li></ul></li><li><span><a href=\"#Synthetic-Data-Generation\" data-toc-modified-id=\"Synthetic-Data-Generation-4\">Synthetic Data Generation</a></span></li><li><span><a href=\"#Fake-Data-Generation\" data-toc-modified-id=\"Fake-Data-Generation-5\">Fake Data Generation</a></span></li><li><span><a href=\"#Open-Data\" data-toc-modified-id=\"Open-Data-6\">Open Data</a></span></li><li><span><a href=\"#Data-Save\" data-toc-modified-id=\"Data-Save-7\"><font color=\"green\">Data Save</font></a></span></li><li><span><a href=\"#Main-Conclusions\" data-toc-modified-id=\"Main-Conclusions-8\"><font color=\" #2874a6 \">Main Conclusions</font></a></span></li><li><span><a href=\"#Main-Actions\" data-toc-modified-id=\"Main-Actions-9\"><font color=\" #2874a6 \">Main Actions</font></a></span><ul class=\"toc-item\"><li><ul class=\"toc-item\"><li><span><a href=\"#Acciones-done\" data-toc-modified-id=\"Acciones-done-9.0.1\"><font color=\" #2874a6 \">Acciones done</font></a></span></li><li><span><a href=\"#Acctions-to-perform\" data-toc-modified-id=\"Acctions-to-perform-9.0.2\"><font color=\" #2874a6 \">Acctions to perform</font></a></span></li></ul></li></ul></li></ul></div>"
   ]
  },
  {
   "cell_type": "markdown",
   "metadata": {
    "slideshow": {
     "slide_type": "slide"
    }
   },
   "source": [
    "## <font color='green'>Settings</font>"
   ]
  },
  {
   "attachments": {},
   "cell_type": "markdown",
   "metadata": {},
   "source": [
    "### Packages to use\n",
    "\n",
    "\n",
    "- {tcltk} para selección interactiva de archivos locales\n",
    "- {readxl} para leer archivos de Excel\n",
    "- {readr} para leer y escribir archivos csv\n",
    "- {dplyr} para explorar datos\n",
    "\n"
   ]
  },
  {
   "cell_type": "code",
   "execution_count": 41,
   "metadata": {
    "ExecuteTime": {
     "end_time": "2021-12-03T15:23:33.762841Z",
     "start_time": "2021-12-03T15:23:08.580267Z"
    },
    "slideshow": {
     "slide_type": "subslide"
    },
    "vscode": {
     "languageId": "r"
    }
   },
   "outputs": [],
   "source": [
    "library(readxl)\n",
    "library(readr)\n",
    "library(dplyr)\n",
    "\n",
    "\n"
   ]
  },
  {
   "attachments": {},
   "cell_type": "markdown",
   "metadata": {},
   "source": [
    "### Paths"
   ]
  },
  {
   "cell_type": "code",
   "execution_count": 6,
   "metadata": {
    "vscode": {
     "languageId": "r"
    }
   },
   "outputs": [],
   "source": [
    "iPath <- \"Data/Input/\"\n",
    "oPath <- \"Data/Output/\""
   ]
  },
  {
   "attachments": {},
   "cell_type": "markdown",
   "metadata": {
    "slideshow": {
     "slide_type": "slide"
    }
   },
   "source": [
    "## <font color='green'>Data Load</font>\n",
    "\n",
    "If there are more than one input file, make as many sections as files to import."
   ]
  },
  {
   "attachments": {},
   "cell_type": "markdown",
   "metadata": {},
   "source": [
    "Instrucciones\n",
    "- Los ficheros de entrada del proceso están siempre en Data/Input/.   \n",
    "- Si hay más de un fichero de entrada, se crean tantos objetos iFile_xx y file_data_xx como ficheros de entrada (xx número correlativo con dos dígitos, rellenar con ceros a la izquierda)"
   ]
  },
  {
   "attachments": {},
   "cell_type": "markdown",
   "metadata": {},
   "source": [
    "1. Datos de vacunación y capacidad"
   ]
  },
  {
   "attachments": {},
   "cell_type": "markdown",
   "metadata": {},
   "source": [
    "<font color='tomato'><b> OPCION A:</b> Seleccionar fichero en ventana para mayor comodidad</font> "
   ]
  },
  {
   "attachments": {},
   "cell_type": "markdown",
   "metadata": {},
   "source": [
    "Data load using the {tcltk} package. Ucomment the line if not using this option"
   ]
  },
  {
   "cell_type": "code",
   "execution_count": 7,
   "metadata": {
    "vscode": {
     "languageId": "r"
    }
   },
   "outputs": [],
   "source": [
    "# file_data_01 <- tcltk::tk_choose.files(multi = FALSE)"
   ]
  },
  {
   "attachments": {},
   "cell_type": "markdown",
   "metadata": {},
   "source": [
    "<font color='tomato'><b> OPCION B:</b> Especificar el nombre de archivo</font>\n",
    "\n"
   ]
  },
  {
   "cell_type": "code",
   "execution_count": 8,
   "metadata": {
    "vscode": {
     "languageId": "r"
    }
   },
   "outputs": [
    {
     "name": "stdout",
     "output_type": "stream",
     "text": [
      "Se leer<U+00E1>n datos del archivo:  Data/Input/Output.xlsx"
     ]
    }
   ],
   "source": [
    "iFile_01 <- \"Output.xlsx\"\n",
    "file_data_01 <- paste0(iPath, iFile_01)\n",
    "\n",
    "if(file.exists(file_data_01)){\n",
    "    cat(\"Se leerán datos del archivo: \", file_data_01)\n",
    "} else{\n",
    "    warning(\"Cuidado: el archivo no existe.\")\n",
    "}\n"
   ]
  },
  {
   "attachments": {},
   "cell_type": "markdown",
   "metadata": {},
   "source": [
    "#### Data file to dataframe\n",
    "\n",
    "Usar la función adecuada según el formato de entrada (xlsx, csv, json, ...)"
   ]
  },
  {
   "cell_type": "code",
   "execution_count": 9,
   "metadata": {
    "vscode": {
     "languageId": "r"
    }
   },
   "outputs": [],
   "source": [
    "data_01 <- read_excel(file_data_01)\n"
   ]
  },
  {
   "attachments": {},
   "cell_type": "markdown",
   "metadata": {},
   "source": [
    "Estructura de  los datos:"
   ]
  },
  {
   "cell_type": "code",
   "execution_count": 10,
   "metadata": {
    "vscode": {
     "languageId": "r"
    }
   },
   "outputs": [
    {
     "name": "stdout",
     "output_type": "stream",
     "text": [
      "Rows: 20,868\n",
      "Columns: 22\n",
      "$ ID                   \u001b[3m\u001b[90m<chr>\u001b[39m\u001b[23m \"1\", \"2\", \"3\", \"4\", \"5\", \"6\", \"7\", \"8\", \"9\", \"10\"~\n",
      "$ CODBDT               \u001b[3m\u001b[90m<chr>\u001b[39m\u001b[23m \"686213\", \"686213\", \"686213\", \"686213\", \"686213\",~\n",
      "$ GEOCODIGO            \u001b[3m\u001b[90m<chr>\u001b[39m\u001b[23m \"001\", \"001\", \"001\", \"001\", \"001\", \"001\", \"001\", ~\n",
      "$ DESBDT               \u001b[3m\u001b[90m<chr>\u001b[39m\u001b[23m \"Abrantes\", \"Abrantes\", \"Abrantes\", \"Abrantes\", \"~\n",
      "$ semana               \u001b[3m\u001b[90m<dbl>\u001b[39m\u001b[23m 36, 37, 38, 39, 40, 41, 42, 43, 44, 45, 46, 47, 4~\n",
      "$ ano                  \u001b[3m\u001b[90m<dbl>\u001b[39m\u001b[23m 2021, 2021, 2021, 2021, 2021, 2021, 2021, 2021, 2~\n",
      "$ n_vacunas            \u001b[3m\u001b[90m<dbl>\u001b[39m\u001b[23m 0, 0, 0, 0, 0, 328, 344, 353, 371, 341, 389, 349,~\n",
      "$ n_citas              \u001b[3m\u001b[90m<dbl>\u001b[39m\u001b[23m 0, 0, 0, 0, 0, 305, 327, 328, 341, 334, 373, 332,~\n",
      "$ capacidad_zona       \u001b[3m\u001b[90m<dbl>\u001b[39m\u001b[23m 7742, 7654, 7425, 7189, 7566, 7417, 7638, 7711, 7~\n",
      "$ prop_riesgo          \u001b[3m\u001b[90m<dbl>\u001b[39m\u001b[23m 0.1954797, 0.1906348, 0.1930880, 0.1918070, 0.185~\n",
      "$ tasa_riesgo          \u001b[3m\u001b[90m<dbl>\u001b[39m\u001b[23m 0.1950852, 0.1870784, 0.1874322, 0.2031197, 0.188~\n",
      "$ poblacion_total      \u001b[3m\u001b[90m<dbl>\u001b[39m\u001b[23m 29872, 29872, 29872, 29872, 29872, 29872, 29872, ~\n",
      "$ poblacion_mujeres    \u001b[3m\u001b[90m<dbl>\u001b[39m\u001b[23m 0.5345094, 0.5345094, 0.5345094, 0.5345094, 0.534~\n",
      "$ poblacion_mayores    \u001b[3m\u001b[90m<dbl>\u001b[39m\u001b[23m 0.1781619, 0.1781619, 0.1781619, 0.1781619, 0.178~\n",
      "$ poblacion_inmigrante \u001b[3m\u001b[90m<dbl>\u001b[39m\u001b[23m 0.2183993, 0.2183993, 0.2183993, 0.2183993, 0.218~\n",
      "$ tasa_paro            \u001b[3m\u001b[90m<dbl>\u001b[39m\u001b[23m 0.1665607, 0.1665607, 0.1665607, 0.1665607, 0.166~\n",
      "$ tasa_mayores         \u001b[3m\u001b[90m<dbl>\u001b[39m\u001b[23m 0.1644978, 0.1882310, 0.1940977, 0.1781833, 0.181~\n",
      "$ temperatura          \u001b[3m\u001b[90m<lgl>\u001b[39m\u001b[23m NA, NA, NA, NA, NA, NA, NA, NA, NA, NA, NA, NA, N~\n",
      "$ humedad              \u001b[3m\u001b[90m<lgl>\u001b[39m\u001b[23m NA, NA, NA, NA, NA, NA, NA, NA, NA, NA, NA, NA, N~\n",
      "$ NO2                  \u001b[3m\u001b[90m<lgl>\u001b[39m\u001b[23m NA, NA, NA, NA, NA, NA, NA, NA, NA, NA, NA, NA, N~\n",
      "$ busquedas_gripe      \u001b[3m\u001b[90m<lgl>\u001b[39m\u001b[23m NA, NA, NA, NA, NA, NA, NA, NA, NA, NA, NA, NA, N~\n",
      "$ tuits_gripe          \u001b[3m\u001b[90m<dbl>\u001b[39m\u001b[23m 0, 0, 0, 1, 0, 1, 1, 1, 1, 1, 1, 1, 1, 1, 1, 1, 3~\n"
     ]
    }
   ],
   "source": [
    "data_01 |> glimpse()"
   ]
  },
  {
   "attachments": {},
   "cell_type": "markdown",
   "metadata": {},
   "source": [
    "Muestra de datos:"
   ]
  },
  {
   "cell_type": "code",
   "execution_count": 11,
   "metadata": {
    "vscode": {
     "languageId": "r"
    }
   },
   "outputs": [
    {
     "data": {
      "text/html": [
       "<table class=\"dataframe\">\n",
       "<caption>A tibble: 5 x 22</caption>\n",
       "<thead>\n",
       "\t<tr><th scope=col>ID</th><th scope=col>CODBDT</th><th scope=col>GEOCODIGO</th><th scope=col>DESBDT</th><th scope=col>semana</th><th scope=col>ano</th><th scope=col>n_vacunas</th><th scope=col>n_citas</th><th scope=col>capacidad_zona</th><th scope=col>prop_riesgo</th><th scope=col>...</th><th scope=col>poblacion_mujeres</th><th scope=col>poblacion_mayores</th><th scope=col>poblacion_inmigrante</th><th scope=col>tasa_paro</th><th scope=col>tasa_mayores</th><th scope=col>temperatura</th><th scope=col>humedad</th><th scope=col>NO2</th><th scope=col>busquedas_gripe</th><th scope=col>tuits_gripe</th></tr>\n",
       "\t<tr><th scope=col>&lt;chr&gt;</th><th scope=col>&lt;chr&gt;</th><th scope=col>&lt;chr&gt;</th><th scope=col>&lt;chr&gt;</th><th scope=col>&lt;dbl&gt;</th><th scope=col>&lt;dbl&gt;</th><th scope=col>&lt;dbl&gt;</th><th scope=col>&lt;dbl&gt;</th><th scope=col>&lt;dbl&gt;</th><th scope=col>&lt;dbl&gt;</th><th scope=col>...</th><th scope=col>&lt;dbl&gt;</th><th scope=col>&lt;dbl&gt;</th><th scope=col>&lt;dbl&gt;</th><th scope=col>&lt;dbl&gt;</th><th scope=col>&lt;dbl&gt;</th><th scope=col>&lt;lgl&gt;</th><th scope=col>&lt;lgl&gt;</th><th scope=col>&lt;lgl&gt;</th><th scope=col>&lt;lgl&gt;</th><th scope=col>&lt;dbl&gt;</th></tr>\n",
       "</thead>\n",
       "<tbody>\n",
       "\t<tr><td>1</td><td>686213</td><td>001</td><td>Abrantes</td><td>36</td><td>2021</td><td>0</td><td>0</td><td>7742</td><td>0.1954797</td><td>...</td><td>0.5345094</td><td>0.1781619</td><td>0.2183993</td><td>0.1665607</td><td>0.1644978</td><td>NA</td><td>NA</td><td>NA</td><td>NA</td><td>0</td></tr>\n",
       "\t<tr><td>2</td><td>686213</td><td>001</td><td>Abrantes</td><td>37</td><td>2021</td><td>0</td><td>0</td><td>7654</td><td>0.1906348</td><td>...</td><td>0.5345094</td><td>0.1781619</td><td>0.2183993</td><td>0.1665607</td><td>0.1882310</td><td>NA</td><td>NA</td><td>NA</td><td>NA</td><td>0</td></tr>\n",
       "\t<tr><td>3</td><td>686213</td><td>001</td><td>Abrantes</td><td>38</td><td>2021</td><td>0</td><td>0</td><td>7425</td><td>0.1930880</td><td>...</td><td>0.5345094</td><td>0.1781619</td><td>0.2183993</td><td>0.1665607</td><td>0.1940977</td><td>NA</td><td>NA</td><td>NA</td><td>NA</td><td>0</td></tr>\n",
       "\t<tr><td>4</td><td>686213</td><td>001</td><td>Abrantes</td><td>39</td><td>2021</td><td>0</td><td>0</td><td>7189</td><td>0.1918070</td><td>...</td><td>0.5345094</td><td>0.1781619</td><td>0.2183993</td><td>0.1665607</td><td>0.1781833</td><td>NA</td><td>NA</td><td>NA</td><td>NA</td><td>1</td></tr>\n",
       "\t<tr><td>5</td><td>686213</td><td>001</td><td>Abrantes</td><td>40</td><td>2021</td><td>0</td><td>0</td><td>7566</td><td>0.1851164</td><td>...</td><td>0.5345094</td><td>0.1781619</td><td>0.2183993</td><td>0.1665607</td><td>0.1814519</td><td>NA</td><td>NA</td><td>NA</td><td>NA</td><td>0</td></tr>\n",
       "</tbody>\n",
       "</table>\n"
      ],
      "text/latex": [
       "A tibble: 5 x 22\n",
       "\\begin{tabular}{lllllllllllllllllllll}\n",
       " ID & CODBDT & GEOCODIGO & DESBDT & semana & ano & n\\_vacunas & n\\_citas & capacidad\\_zona & prop\\_riesgo & ... & poblacion\\_mujeres & poblacion\\_mayores & poblacion\\_inmigrante & tasa\\_paro & tasa\\_mayores & temperatura & humedad & NO2 & busquedas\\_gripe & tuits\\_gripe\\\\\n",
       " <chr> & <chr> & <chr> & <chr> & <dbl> & <dbl> & <dbl> & <dbl> & <dbl> & <dbl> & ... & <dbl> & <dbl> & <dbl> & <dbl> & <dbl> & <lgl> & <lgl> & <lgl> & <lgl> & <dbl>\\\\\n",
       "\\hline\n",
       "\t 1 & 686213 & 001 & Abrantes & 36 & 2021 & 0 & 0 & 7742 & 0.1954797 & ... & 0.5345094 & 0.1781619 & 0.2183993 & 0.1665607 & 0.1644978 & NA & NA & NA & NA & 0\\\\\n",
       "\t 2 & 686213 & 001 & Abrantes & 37 & 2021 & 0 & 0 & 7654 & 0.1906348 & ... & 0.5345094 & 0.1781619 & 0.2183993 & 0.1665607 & 0.1882310 & NA & NA & NA & NA & 0\\\\\n",
       "\t 3 & 686213 & 001 & Abrantes & 38 & 2021 & 0 & 0 & 7425 & 0.1930880 & ... & 0.5345094 & 0.1781619 & 0.2183993 & 0.1665607 & 0.1940977 & NA & NA & NA & NA & 0\\\\\n",
       "\t 4 & 686213 & 001 & Abrantes & 39 & 2021 & 0 & 0 & 7189 & 0.1918070 & ... & 0.5345094 & 0.1781619 & 0.2183993 & 0.1665607 & 0.1781833 & NA & NA & NA & NA & 1\\\\\n",
       "\t 5 & 686213 & 001 & Abrantes & 40 & 2021 & 0 & 0 & 7566 & 0.1851164 & ... & 0.5345094 & 0.1781619 & 0.2183993 & 0.1665607 & 0.1814519 & NA & NA & NA & NA & 0\\\\\n",
       "\\end{tabular}\n"
      ],
      "text/markdown": [
       "\n",
       "A tibble: 5 x 22\n",
       "\n",
       "| ID &lt;chr&gt; | CODBDT &lt;chr&gt; | GEOCODIGO &lt;chr&gt; | DESBDT &lt;chr&gt; | semana &lt;dbl&gt; | ano &lt;dbl&gt; | n_vacunas &lt;dbl&gt; | n_citas &lt;dbl&gt; | capacidad_zona &lt;dbl&gt; | prop_riesgo &lt;dbl&gt; | ... ... | poblacion_mujeres &lt;dbl&gt; | poblacion_mayores &lt;dbl&gt; | poblacion_inmigrante &lt;dbl&gt; | tasa_paro &lt;dbl&gt; | tasa_mayores &lt;dbl&gt; | temperatura &lt;lgl&gt; | humedad &lt;lgl&gt; | NO2 &lt;lgl&gt; | busquedas_gripe &lt;lgl&gt; | tuits_gripe &lt;dbl&gt; |\n",
       "|---|---|---|---|---|---|---|---|---|---|---|---|---|---|---|---|---|---|---|---|---|\n",
       "| 1 | 686213 | 001 | Abrantes | 36 | 2021 | 0 | 0 | 7742 | 0.1954797 | ... | 0.5345094 | 0.1781619 | 0.2183993 | 0.1665607 | 0.1644978 | NA | NA | NA | NA | 0 |\n",
       "| 2 | 686213 | 001 | Abrantes | 37 | 2021 | 0 | 0 | 7654 | 0.1906348 | ... | 0.5345094 | 0.1781619 | 0.2183993 | 0.1665607 | 0.1882310 | NA | NA | NA | NA | 0 |\n",
       "| 3 | 686213 | 001 | Abrantes | 38 | 2021 | 0 | 0 | 7425 | 0.1930880 | ... | 0.5345094 | 0.1781619 | 0.2183993 | 0.1665607 | 0.1940977 | NA | NA | NA | NA | 0 |\n",
       "| 4 | 686213 | 001 | Abrantes | 39 | 2021 | 0 | 0 | 7189 | 0.1918070 | ... | 0.5345094 | 0.1781619 | 0.2183993 | 0.1665607 | 0.1781833 | NA | NA | NA | NA | 1 |\n",
       "| 5 | 686213 | 001 | Abrantes | 40 | 2021 | 0 | 0 | 7566 | 0.1851164 | ... | 0.5345094 | 0.1781619 | 0.2183993 | 0.1665607 | 0.1814519 | NA | NA | NA | NA | 0 |\n",
       "\n"
      ],
      "text/plain": [
       "  ID CODBDT GEOCODIGO DESBDT   semana ano  n_vacunas n_citas capacidad_zona\n",
       "1 1  686213 001       Abrantes 36     2021 0         0       7742          \n",
       "2 2  686213 001       Abrantes 37     2021 0         0       7654          \n",
       "3 3  686213 001       Abrantes 38     2021 0         0       7425          \n",
       "4 4  686213 001       Abrantes 39     2021 0         0       7189          \n",
       "5 5  686213 001       Abrantes 40     2021 0         0       7566          \n",
       "  prop_riesgo ... poblacion_mujeres poblacion_mayores poblacion_inmigrante\n",
       "1 0.1954797   ... 0.5345094         0.1781619         0.2183993           \n",
       "2 0.1906348   ... 0.5345094         0.1781619         0.2183993           \n",
       "3 0.1930880   ... 0.5345094         0.1781619         0.2183993           \n",
       "4 0.1918070   ... 0.5345094         0.1781619         0.2183993           \n",
       "5 0.1851164   ... 0.5345094         0.1781619         0.2183993           \n",
       "  tasa_paro tasa_mayores temperatura humedad NO2 busquedas_gripe tuits_gripe\n",
       "1 0.1665607 0.1644978    NA          NA      NA  NA              0          \n",
       "2 0.1665607 0.1882310    NA          NA      NA  NA              0          \n",
       "3 0.1665607 0.1940977    NA          NA      NA  NA              0          \n",
       "4 0.1665607 0.1781833    NA          NA      NA  NA              1          \n",
       "5 0.1665607 0.1814519    NA          NA      NA  NA              0          "
      ]
     },
     "metadata": {},
     "output_type": "display_data"
    }
   ],
   "source": [
    "data_01 |> slice_head(n = 5)"
   ]
  },
  {
   "attachments": {},
   "cell_type": "markdown",
   "metadata": {},
   "source": [
    "2. Datos meteorológicos"
   ]
  },
  {
   "cell_type": "markdown",
   "metadata": {},
   "source": [
    "<font color='tomato'><b> OPCION A:</b> Seleccionar fichero en ventana para mayor comodidad</font> "
   ]
  },
  {
   "cell_type": "markdown",
   "metadata": {},
   "source": [
    "Data load using the {tcltk} package. Ucomment the line if not using this option"
   ]
  },
  {
   "cell_type": "code",
   "execution_count": 12,
   "metadata": {
    "vscode": {
     "languageId": "r"
    }
   },
   "outputs": [],
   "source": [
    "# file_data_02 <- tcltk::tk_choose.files(multi = FALSE)"
   ]
  },
  {
   "cell_type": "markdown",
   "metadata": {},
   "source": [
    "<font color='tomato'><b> OPCION B:</b> Especificar el nombre de archivo</font>\n",
    "\n"
   ]
  },
  {
   "cell_type": "code",
   "execution_count": 13,
   "metadata": {
    "vscode": {
     "languageId": "r"
    }
   },
   "outputs": [
    {
     "name": "stdout",
     "output_type": "stream",
     "text": [
      "Se leer<U+00E1>n datos del archivo:  Data/Input/CU_04_05_11_meteo_zonas.csv"
     ]
    }
   ],
   "source": [
    "iFile_02 <- \"CU_04_05_11_meteo_zonas.csv\"\n",
    "file_data_02 <- paste0(iPath, iFile_02)\n",
    "\n",
    "if(file.exists(file_data_02)){\n",
    "    cat(\"Se leerán datos del archivo: \", file_data_02)\n",
    "} else{\n",
    "    warning(\"Cuidado: el archivo no existe.\")\n",
    "}\n"
   ]
  },
  {
   "cell_type": "markdown",
   "metadata": {},
   "source": [
    "#### Data file to dataframe\n",
    "\n",
    "Usar la función adecuada según el formato de entrada (xlsx, csv, json, ...)"
   ]
  },
  {
   "cell_type": "code",
   "execution_count": 14,
   "metadata": {
    "vscode": {
     "languageId": "r"
    }
   },
   "outputs": [
    {
     "name": "stderr",
     "output_type": "stream",
     "text": [
      "\u001b[1mRows: \u001b[22m\u001b[34m21736\u001b[39m \u001b[1mColumns: \u001b[22m\u001b[34m7\u001b[39m\n",
      "\u001b[36m--\u001b[39m \u001b[1mColumn specification\u001b[22m \u001b[36m--------------------------------------------------------\u001b[39m\n",
      "\u001b[1mDelimiter:\u001b[22m \",\"\n",
      "\u001b[31mchr\u001b[39m (1): GEOCODIGO\n",
      "\u001b[32mdbl\u001b[39m (6): tmed, prec, velmedia, presMax, ano, semana\n",
      "\n",
      "\u001b[36mi\u001b[39m Use `spec()` to retrieve the full column specification for this data.\n",
      "\u001b[36mi\u001b[39m Specify the column types or set `show_col_types = FALSE` to quiet this message.\n"
     ]
    }
   ],
   "source": [
    "data_02 <- read_csv(file_data_02)\n"
   ]
  },
  {
   "cell_type": "markdown",
   "metadata": {},
   "source": [
    "Estructura de  los datos:"
   ]
  },
  {
   "cell_type": "code",
   "execution_count": 15,
   "metadata": {
    "vscode": {
     "languageId": "r"
    }
   },
   "outputs": [
    {
     "name": "stdout",
     "output_type": "stream",
     "text": [
      "Rows: 21,736\n",
      "Columns: 7\n",
      "$ GEOCODIGO \u001b[3m\u001b[90m<chr>\u001b[39m\u001b[23m \"001\", \"002\", \"003\", \"004\", \"005\", \"006\", \"007\", \"008\", \"009~\n",
      "$ tmed      \u001b[3m\u001b[90m<dbl>\u001b[39m\u001b[23m 22.53414, 22.42739, 22.44443, 22.37906, 21.83238, 22.57096, ~\n",
      "$ prec      \u001b[3m\u001b[90m<dbl>\u001b[39m\u001b[23m 1.2086417, 1.2461203, 1.2778878, 1.2615862, 1.2790072, 1.019~\n",
      "$ velmedia  \u001b[3m\u001b[90m<dbl>\u001b[39m\u001b[23m 2.299920, 2.310469, 2.382023, 2.321377, 2.461297, 2.029950, ~\n",
      "$ presMax   \u001b[3m\u001b[90m<dbl>\u001b[39m\u001b[23m 940.7107, 938.2132, 941.6089, 939.4657, 951.1882, 944.2638, ~\n",
      "$ ano       \u001b[3m\u001b[90m<dbl>\u001b[39m\u001b[23m 2021, 2021, 2021, 2021, 2021, 2021, 2021, 2021, 2021, 2021, ~\n",
      "$ semana    \u001b[3m\u001b[90m<dbl>\u001b[39m\u001b[23m 35, 35, 35, 35, 35, 35, 35, 35, 35, 35, 35, 35, 35, 35, 35, ~\n"
     ]
    }
   ],
   "source": [
    "data_02 |> glimpse()"
   ]
  },
  {
   "cell_type": "markdown",
   "metadata": {},
   "source": [
    "Muestra de datos:"
   ]
  },
  {
   "cell_type": "code",
   "execution_count": 16,
   "metadata": {
    "vscode": {
     "languageId": "r"
    }
   },
   "outputs": [
    {
     "data": {
      "text/html": [
       "<table class=\"dataframe\">\n",
       "<caption>A spec_tbl_df: 5 x 7</caption>\n",
       "<thead>\n",
       "\t<tr><th scope=col>GEOCODIGO</th><th scope=col>tmed</th><th scope=col>prec</th><th scope=col>velmedia</th><th scope=col>presMax</th><th scope=col>ano</th><th scope=col>semana</th></tr>\n",
       "\t<tr><th scope=col>&lt;chr&gt;</th><th scope=col>&lt;dbl&gt;</th><th scope=col>&lt;dbl&gt;</th><th scope=col>&lt;dbl&gt;</th><th scope=col>&lt;dbl&gt;</th><th scope=col>&lt;dbl&gt;</th><th scope=col>&lt;dbl&gt;</th></tr>\n",
       "</thead>\n",
       "<tbody>\n",
       "\t<tr><td>001</td><td>22.53414</td><td>1.208642</td><td>2.299920</td><td>940.7107</td><td>2021</td><td>35</td></tr>\n",
       "\t<tr><td>002</td><td>22.42739</td><td>1.246120</td><td>2.310469</td><td>938.2132</td><td>2021</td><td>35</td></tr>\n",
       "\t<tr><td>003</td><td>22.44443</td><td>1.277888</td><td>2.382023</td><td>941.6089</td><td>2021</td><td>35</td></tr>\n",
       "\t<tr><td>004</td><td>22.37906</td><td>1.261586</td><td>2.321377</td><td>939.4657</td><td>2021</td><td>35</td></tr>\n",
       "\t<tr><td>005</td><td>21.83238</td><td>1.279007</td><td>2.461297</td><td>951.1882</td><td>2021</td><td>35</td></tr>\n",
       "</tbody>\n",
       "</table>\n"
      ],
      "text/latex": [
       "A spec\\_tbl\\_df: 5 x 7\n",
       "\\begin{tabular}{lllllll}\n",
       " GEOCODIGO & tmed & prec & velmedia & presMax & ano & semana\\\\\n",
       " <chr> & <dbl> & <dbl> & <dbl> & <dbl> & <dbl> & <dbl>\\\\\n",
       "\\hline\n",
       "\t 001 & 22.53414 & 1.208642 & 2.299920 & 940.7107 & 2021 & 35\\\\\n",
       "\t 002 & 22.42739 & 1.246120 & 2.310469 & 938.2132 & 2021 & 35\\\\\n",
       "\t 003 & 22.44443 & 1.277888 & 2.382023 & 941.6089 & 2021 & 35\\\\\n",
       "\t 004 & 22.37906 & 1.261586 & 2.321377 & 939.4657 & 2021 & 35\\\\\n",
       "\t 005 & 21.83238 & 1.279007 & 2.461297 & 951.1882 & 2021 & 35\\\\\n",
       "\\end{tabular}\n"
      ],
      "text/markdown": [
       "\n",
       "A spec_tbl_df: 5 x 7\n",
       "\n",
       "| GEOCODIGO &lt;chr&gt; | tmed &lt;dbl&gt; | prec &lt;dbl&gt; | velmedia &lt;dbl&gt; | presMax &lt;dbl&gt; | ano &lt;dbl&gt; | semana &lt;dbl&gt; |\n",
       "|---|---|---|---|---|---|---|\n",
       "| 001 | 22.53414 | 1.208642 | 2.299920 | 940.7107 | 2021 | 35 |\n",
       "| 002 | 22.42739 | 1.246120 | 2.310469 | 938.2132 | 2021 | 35 |\n",
       "| 003 | 22.44443 | 1.277888 | 2.382023 | 941.6089 | 2021 | 35 |\n",
       "| 004 | 22.37906 | 1.261586 | 2.321377 | 939.4657 | 2021 | 35 |\n",
       "| 005 | 21.83238 | 1.279007 | 2.461297 | 951.1882 | 2021 | 35 |\n",
       "\n"
      ],
      "text/plain": [
       "  GEOCODIGO tmed     prec     velmedia presMax  ano  semana\n",
       "1 001       22.53414 1.208642 2.299920 940.7107 2021 35    \n",
       "2 002       22.42739 1.246120 2.310469 938.2132 2021 35    \n",
       "3 003       22.44443 1.277888 2.382023 941.6089 2021 35    \n",
       "4 004       22.37906 1.261586 2.321377 939.4657 2021 35    \n",
       "5 005       21.83238 1.279007 2.461297 951.1882 2021 35    "
      ]
     },
     "metadata": {},
     "output_type": "display_data"
    }
   ],
   "source": [
    "data_02 |> slice_head(n = 5)"
   ]
  },
  {
   "attachments": {},
   "cell_type": "markdown",
   "metadata": {},
   "source": [
    "3. Datos de contaminación"
   ]
  },
  {
   "cell_type": "markdown",
   "metadata": {},
   "source": [
    "<font color='tomato'><b> OPCION A:</b> Seleccionar fichero en ventana para mayor comodidad</font> "
   ]
  },
  {
   "cell_type": "markdown",
   "metadata": {},
   "source": [
    "Data load using the {tcltk} package. Ucomment the line if not using this option"
   ]
  },
  {
   "cell_type": "code",
   "execution_count": 17,
   "metadata": {
    "vscode": {
     "languageId": "r"
    }
   },
   "outputs": [],
   "source": [
    "# file_data_03 <- tcltk::tk_choose.files(multi = FALSE)"
   ]
  },
  {
   "cell_type": "markdown",
   "metadata": {},
   "source": [
    "<font color='tomato'><b> OPCION B:</b> Especificar el nombre de archivo</font>\n",
    "\n"
   ]
  },
  {
   "cell_type": "code",
   "execution_count": 18,
   "metadata": {
    "vscode": {
     "languageId": "r"
    }
   },
   "outputs": [
    {
     "name": "stdout",
     "output_type": "stream",
     "text": [
      "Se leer<U+00E1>n datos del archivo:  Data/Input/CU_04_05_15_zonas_contaminacion.csv"
     ]
    }
   ],
   "source": [
    "iFile_03 <- \"CU_04_05_15_zonas_contaminacion.csv\"\n",
    "file_data_03 <- paste0(iPath, iFile_03)\n",
    "\n",
    "if(file.exists(file_data_03)){\n",
    "    cat(\"Se leerán datos del archivo: \", file_data_03)\n",
    "} else{\n",
    "    warning(\"Cuidado: el archivo no existe.\")\n",
    "}\n"
   ]
  },
  {
   "cell_type": "markdown",
   "metadata": {},
   "source": [
    "#### Data file to dataframe\n",
    "\n",
    "Usar la función adecuada según el formato de entrada (xlsx, csv, json, ...)"
   ]
  },
  {
   "cell_type": "code",
   "execution_count": 19,
   "metadata": {
    "vscode": {
     "languageId": "r"
    }
   },
   "outputs": [
    {
     "name": "stderr",
     "output_type": "stream",
     "text": [
      "\u001b[1mRows: \u001b[22m\u001b[34m21164\u001b[39m \u001b[1mColumns: \u001b[22m\u001b[34m12\u001b[39m\n",
      "\u001b[36m--\u001b[39m \u001b[1mColumn specification\u001b[22m \u001b[36m--------------------------------------------------------\u001b[39m\n",
      "\u001b[1mDelimiter:\u001b[22m \",\"\n",
      "\u001b[31mchr\u001b[39m  (1): GEOCODIGO\n",
      "\u001b[32mdbl\u001b[39m (11): benzene, co, no, no2, nox, o3, pm10, pm2.5, so2, ano, semana\n",
      "\n",
      "\u001b[36mi\u001b[39m Use `spec()` to retrieve the full column specification for this data.\n",
      "\u001b[36mi\u001b[39m Specify the column types or set `show_col_types = FALSE` to quiet this message.\n"
     ]
    }
   ],
   "source": [
    "data_03 <- read_csv(file_data_03)\n"
   ]
  },
  {
   "cell_type": "markdown",
   "metadata": {},
   "source": [
    "Estructura de  los datos:"
   ]
  },
  {
   "cell_type": "code",
   "execution_count": 20,
   "metadata": {
    "vscode": {
     "languageId": "r"
    }
   },
   "outputs": [
    {
     "name": "stdout",
     "output_type": "stream",
     "text": [
      "Rows: 21,164\n",
      "Columns: 12\n",
      "$ GEOCODIGO \u001b[3m\u001b[90m<chr>\u001b[39m\u001b[23m \"001\", \"002\", \"003\", \"004\", \"005\", \"006\", \"007\", \"008\", \"009~\n",
      "$ benzene   \u001b[3m\u001b[90m<dbl>\u001b[39m\u001b[23m 0.2478896, 0.2351470, 0.2438505, 0.2311297, 0.2582252, 0.326~\n",
      "$ co        \u001b[3m\u001b[90m<dbl>\u001b[39m\u001b[23m 0.2783157, 0.2720947, 0.2564127, 0.2704844, 0.3730037, 0.422~\n",
      "$ no        \u001b[3m\u001b[90m<dbl>\u001b[39m\u001b[23m 4.277267, 4.277267, 4.277267, 4.277267, 4.277267, 4.277267, ~\n",
      "$ no2       \u001b[3m\u001b[90m<dbl>\u001b[39m\u001b[23m 30.81135, 30.34314, 30.12568, 30.05632, 25.87842, 27.88230, ~\n",
      "$ nox       \u001b[3m\u001b[90m<dbl>\u001b[39m\u001b[23m 38.70242, 38.26907, 37.77193, 37.77965, 32.30093, 35.32128, ~\n",
      "$ o3        \u001b[3m\u001b[90m<dbl>\u001b[39m\u001b[23m 53.41865, 55.30295, 55.55106, 57.16719, 57.60870, 59.73277, ~\n",
      "$ pm10      \u001b[3m\u001b[90m<dbl>\u001b[39m\u001b[23m 17.55392, 21.35499, 22.63530, 23.80635, 22.43009, 17.30619, ~\n",
      "$ pm2.5     \u001b[3m\u001b[90m<dbl>\u001b[39m\u001b[23m 12.77851, 12.84574, 12.85695, 12.86689, 12.18365, 12.24123, ~\n",
      "$ so2       \u001b[3m\u001b[90m<dbl>\u001b[39m\u001b[23m 6.747270, 7.411119, 6.654251, 7.439685, 2.376795, 1.334976, ~\n",
      "$ ano       \u001b[3m\u001b[90m<dbl>\u001b[39m\u001b[23m 2021, 2021, 2021, 2021, 2021, 2021, 2021, 2021, 2021, 2021, ~\n",
      "$ semana    \u001b[3m\u001b[90m<dbl>\u001b[39m\u001b[23m 35, 35, 35, 35, 35, 35, 35, 35, 35, 35, 35, 35, 35, 35, 35, ~\n"
     ]
    }
   ],
   "source": [
    "data_03 |> glimpse()"
   ]
  },
  {
   "cell_type": "markdown",
   "metadata": {},
   "source": [
    "Muestra de datos:"
   ]
  },
  {
   "cell_type": "code",
   "execution_count": 21,
   "metadata": {
    "vscode": {
     "languageId": "r"
    }
   },
   "outputs": [
    {
     "data": {
      "text/html": [
       "<table class=\"dataframe\">\n",
       "<caption>A spec_tbl_df: 5 x 12</caption>\n",
       "<thead>\n",
       "\t<tr><th scope=col>GEOCODIGO</th><th scope=col>benzene</th><th scope=col>co</th><th scope=col>no</th><th scope=col>no2</th><th scope=col>nox</th><th scope=col>o3</th><th scope=col>pm10</th><th scope=col>pm2.5</th><th scope=col>so2</th><th scope=col>ano</th><th scope=col>semana</th></tr>\n",
       "\t<tr><th scope=col>&lt;chr&gt;</th><th scope=col>&lt;dbl&gt;</th><th scope=col>&lt;dbl&gt;</th><th scope=col>&lt;dbl&gt;</th><th scope=col>&lt;dbl&gt;</th><th scope=col>&lt;dbl&gt;</th><th scope=col>&lt;dbl&gt;</th><th scope=col>&lt;dbl&gt;</th><th scope=col>&lt;dbl&gt;</th><th scope=col>&lt;dbl&gt;</th><th scope=col>&lt;dbl&gt;</th><th scope=col>&lt;dbl&gt;</th></tr>\n",
       "</thead>\n",
       "<tbody>\n",
       "\t<tr><td>001</td><td>0.2478896</td><td>0.2783157</td><td>4.277267</td><td>30.81135</td><td>38.70242</td><td>53.41865</td><td>17.55392</td><td>12.77851</td><td>6.747270</td><td>2021</td><td>35</td></tr>\n",
       "\t<tr><td>002</td><td>0.2351470</td><td>0.2720947</td><td>4.277267</td><td>30.34314</td><td>38.26907</td><td>55.30295</td><td>21.35499</td><td>12.84574</td><td>7.411119</td><td>2021</td><td>35</td></tr>\n",
       "\t<tr><td>003</td><td>0.2438505</td><td>0.2564127</td><td>4.277267</td><td>30.12568</td><td>37.77193</td><td>55.55106</td><td>22.63530</td><td>12.85695</td><td>6.654251</td><td>2021</td><td>35</td></tr>\n",
       "\t<tr><td>004</td><td>0.2311297</td><td>0.2704844</td><td>4.277267</td><td>30.05632</td><td>37.77965</td><td>57.16719</td><td>23.80635</td><td>12.86689</td><td>7.439685</td><td>2021</td><td>35</td></tr>\n",
       "\t<tr><td>005</td><td>0.2582252</td><td>0.3730037</td><td>4.277267</td><td>25.87842</td><td>32.30093</td><td>57.60870</td><td>22.43009</td><td>12.18365</td><td>2.376795</td><td>2021</td><td>35</td></tr>\n",
       "</tbody>\n",
       "</table>\n"
      ],
      "text/latex": [
       "A spec\\_tbl\\_df: 5 x 12\n",
       "\\begin{tabular}{llllllllllll}\n",
       " GEOCODIGO & benzene & co & no & no2 & nox & o3 & pm10 & pm2.5 & so2 & ano & semana\\\\\n",
       " <chr> & <dbl> & <dbl> & <dbl> & <dbl> & <dbl> & <dbl> & <dbl> & <dbl> & <dbl> & <dbl> & <dbl>\\\\\n",
       "\\hline\n",
       "\t 001 & 0.2478896 & 0.2783157 & 4.277267 & 30.81135 & 38.70242 & 53.41865 & 17.55392 & 12.77851 & 6.747270 & 2021 & 35\\\\\n",
       "\t 002 & 0.2351470 & 0.2720947 & 4.277267 & 30.34314 & 38.26907 & 55.30295 & 21.35499 & 12.84574 & 7.411119 & 2021 & 35\\\\\n",
       "\t 003 & 0.2438505 & 0.2564127 & 4.277267 & 30.12568 & 37.77193 & 55.55106 & 22.63530 & 12.85695 & 6.654251 & 2021 & 35\\\\\n",
       "\t 004 & 0.2311297 & 0.2704844 & 4.277267 & 30.05632 & 37.77965 & 57.16719 & 23.80635 & 12.86689 & 7.439685 & 2021 & 35\\\\\n",
       "\t 005 & 0.2582252 & 0.3730037 & 4.277267 & 25.87842 & 32.30093 & 57.60870 & 22.43009 & 12.18365 & 2.376795 & 2021 & 35\\\\\n",
       "\\end{tabular}\n"
      ],
      "text/markdown": [
       "\n",
       "A spec_tbl_df: 5 x 12\n",
       "\n",
       "| GEOCODIGO &lt;chr&gt; | benzene &lt;dbl&gt; | co &lt;dbl&gt; | no &lt;dbl&gt; | no2 &lt;dbl&gt; | nox &lt;dbl&gt; | o3 &lt;dbl&gt; | pm10 &lt;dbl&gt; | pm2.5 &lt;dbl&gt; | so2 &lt;dbl&gt; | ano &lt;dbl&gt; | semana &lt;dbl&gt; |\n",
       "|---|---|---|---|---|---|---|---|---|---|---|---|\n",
       "| 001 | 0.2478896 | 0.2783157 | 4.277267 | 30.81135 | 38.70242 | 53.41865 | 17.55392 | 12.77851 | 6.747270 | 2021 | 35 |\n",
       "| 002 | 0.2351470 | 0.2720947 | 4.277267 | 30.34314 | 38.26907 | 55.30295 | 21.35499 | 12.84574 | 7.411119 | 2021 | 35 |\n",
       "| 003 | 0.2438505 | 0.2564127 | 4.277267 | 30.12568 | 37.77193 | 55.55106 | 22.63530 | 12.85695 | 6.654251 | 2021 | 35 |\n",
       "| 004 | 0.2311297 | 0.2704844 | 4.277267 | 30.05632 | 37.77965 | 57.16719 | 23.80635 | 12.86689 | 7.439685 | 2021 | 35 |\n",
       "| 005 | 0.2582252 | 0.3730037 | 4.277267 | 25.87842 | 32.30093 | 57.60870 | 22.43009 | 12.18365 | 2.376795 | 2021 | 35 |\n",
       "\n"
      ],
      "text/plain": [
       "  GEOCODIGO benzene   co        no       no2      nox      o3       pm10    \n",
       "1 001       0.2478896 0.2783157 4.277267 30.81135 38.70242 53.41865 17.55392\n",
       "2 002       0.2351470 0.2720947 4.277267 30.34314 38.26907 55.30295 21.35499\n",
       "3 003       0.2438505 0.2564127 4.277267 30.12568 37.77193 55.55106 22.63530\n",
       "4 004       0.2311297 0.2704844 4.277267 30.05632 37.77965 57.16719 23.80635\n",
       "5 005       0.2582252 0.3730037 4.277267 25.87842 32.30093 57.60870 22.43009\n",
       "  pm2.5    so2      ano  semana\n",
       "1 12.77851 6.747270 2021 35    \n",
       "2 12.84574 7.411119 2021 35    \n",
       "3 12.85695 6.654251 2021 35    \n",
       "4 12.86689 7.439685 2021 35    \n",
       "5 12.18365 2.376795 2021 35    "
      ]
     },
     "metadata": {},
     "output_type": "display_data"
    }
   ],
   "source": [
    "data_03 |> slice_head(n = 5)"
   ]
  },
  {
   "cell_type": "markdown",
   "metadata": {
    "slideshow": {
     "slide_type": "slide"
    }
   },
   "source": [
    "## ETL Processes"
   ]
  },
  {
   "attachments": {},
   "cell_type": "markdown",
   "metadata": {
    "slideshow": {
     "slide_type": "slide"
    }
   },
   "source": [
    "### Import data from: CSV, Excel, Tab, JSON, SQL, and Parquet files\n",
    "\n",
    "Se han importado en el apartado Data Load anterior:\n",
    "\n",
    "* Datos simulados de vacunación y otros\n",
    "* Datos meteorológicos\n",
    "* Datos de contaminación"
   ]
  },
  {
   "attachments": {},
   "cell_type": "markdown",
   "metadata": {},
   "source": [
    "Incluir apartados si procede para: Extracción de datos (select, filter), Transformación de datos, (mutate, joins, ...). Si es necesario tratar datos perdidos, indicarlo también en NB 09.2"
   ]
  },
  {
   "attachments": {},
   "cell_type": "markdown",
   "metadata": {},
   "source": [
    "Si no aplica: Estos datos no requieren tareas de este tipo."
   ]
  },
  {
   "attachments": {},
   "cell_type": "markdown",
   "metadata": {},
   "source": [
    "#### Data extract"
   ]
  },
  {
   "attachments": {},
   "cell_type": "markdown",
   "metadata": {},
   "source": [
    "* Seleccionar columnas de la simulación que son por semana"
   ]
  },
  {
   "cell_type": "code",
   "execution_count": 23,
   "metadata": {
    "vscode": {
     "languageId": "r"
    }
   },
   "outputs": [],
   "source": [
    "edata_01 <- data_01 |> \n",
    "    select(GEOCODIGO, DESBDT, ano, semana, n_vacunas,\n",
    "        n_citas)"
   ]
  },
  {
   "attachments": {},
   "cell_type": "markdown",
   "metadata": {},
   "source": [
    "#### Data transform"
   ]
  },
  {
   "attachments": {},
   "cell_type": "markdown",
   "metadata": {},
   "source": [
    "* Unión de tablas por semana y zona"
   ]
  },
  {
   "cell_type": "code",
   "execution_count": 34,
   "metadata": {
    "vscode": {
     "languageId": "r"
    }
   },
   "outputs": [],
   "source": [
    "data <- edata_01 |>\n",
    "    full_join(data_02, by = c(\"GEOCODIGO\", \"ano\", \"semana\")) |>\n",
    "    full_join(data_03, by = c(\"GEOCODIGO\", \"ano\", \"semana\"))"
   ]
  },
  {
   "cell_type": "code",
   "execution_count": 35,
   "metadata": {
    "vscode": {
     "languageId": "r"
    }
   },
   "outputs": [
    {
     "name": "stdout",
     "output_type": "stream",
     "text": [
      "Rows: 21,736\n",
      "Columns: 19\n",
      "$ GEOCODIGO \u001b[3m\u001b[90m<chr>\u001b[39m\u001b[23m \"001\", \"001\", \"001\", \"001\", \"001\", \"001\", \"001\", \"001\", \"001~\n",
      "$ DESBDT    \u001b[3m\u001b[90m<chr>\u001b[39m\u001b[23m \"Abrantes\", \"Abrantes\", \"Abrantes\", \"Abrantes\", \"Abrantes\", ~\n",
      "$ ano       \u001b[3m\u001b[90m<dbl>\u001b[39m\u001b[23m 2021, 2021, 2021, 2021, 2021, 2021, 2021, 2021, 2021, 2021, ~\n",
      "$ semana    \u001b[3m\u001b[90m<dbl>\u001b[39m\u001b[23m 36, 37, 38, 39, 40, 41, 42, 43, 44, 45, 46, 47, 48, 49, 50, ~\n",
      "$ n_vacunas \u001b[3m\u001b[90m<dbl>\u001b[39m\u001b[23m 0, 0, 0, 0, 0, 328, 344, 353, 371, 341, 389, 349, 402, 350, ~\n",
      "$ n_citas   \u001b[3m\u001b[90m<dbl>\u001b[39m\u001b[23m 0, 0, 0, 0, 0, 305, 327, 328, 341, 334, 373, 332, 370, 336, ~\n",
      "$ tmed      \u001b[3m\u001b[90m<dbl>\u001b[39m\u001b[23m 23.822231, 20.160014, 18.551058, 18.815387, 17.494475, 17.56~\n",
      "$ prec      \u001b[3m\u001b[90m<dbl>\u001b[39m\u001b[23m -0.0063023484, 3.5537258042, 3.9769052178, 1.4806472324, -0.~\n",
      "$ velmedia  \u001b[3m\u001b[90m<dbl>\u001b[39m\u001b[23m 3.573728, 2.494744, 3.316148, 2.384262, 1.850839, 1.527085, ~\n",
      "$ presMax   \u001b[3m\u001b[90m<dbl>\u001b[39m\u001b[23m 940.9841, 940.7610, 943.1540, 944.6697, 944.2973, 943.0733, ~\n",
      "$ benzene   \u001b[3m\u001b[90m<dbl>\u001b[39m\u001b[23m 0.1713567, 0.1573829, 0.1858059, 0.1486437, 0.1428037, 0.141~\n",
      "$ co        \u001b[3m\u001b[90m<dbl>\u001b[39m\u001b[23m 0.1680325, 0.2138607, 0.2034376, 0.2399882, 0.2693450, 0.283~\n",
      "$ no        \u001b[3m\u001b[90m<dbl>\u001b[39m\u001b[23m 4.098371, 6.515572, 5.477654, 9.593391, 18.860535, 17.000221~\n",
      "$ no2       \u001b[3m\u001b[90m<dbl>\u001b[39m\u001b[23m 20.09480, 27.42594, 20.74836, 37.08524, 40.19475, 44.42785, ~\n",
      "$ nox       \u001b[3m\u001b[90m<dbl>\u001b[39m\u001b[23m 26.48135, 37.45944, 25.61128, 52.43745, 74.04903, 75.16833, ~\n",
      "$ o3        \u001b[3m\u001b[90m<dbl>\u001b[39m\u001b[23m 50.03434, 42.41281, 56.29918, 46.79483, 41.06600, 44.01453, ~\n",
      "$ pm10      \u001b[3m\u001b[90m<dbl>\u001b[39m\u001b[23m 17.447652, 17.658399, 12.844436, 16.395896, 14.909384, 21.12~\n",
      "$ pm2.5     \u001b[3m\u001b[90m<dbl>\u001b[39m\u001b[23m 3.008675, 10.083070, 7.218588, 9.426029, 8.131753, 12.378902~\n",
      "$ so2       \u001b[3m\u001b[90m<dbl>\u001b[39m\u001b[23m 6.861545, 6.589638, 4.364304, 3.123598, 1.291137, 1.841904, ~\n"
     ]
    }
   ],
   "source": [
    "glimpse(data)"
   ]
  },
  {
   "cell_type": "markdown",
   "metadata": {
    "slideshow": {
     "slide_type": "slide"
    }
   },
   "source": [
    "## Synthetic Data Generation"
   ]
  },
  {
   "attachments": {},
   "cell_type": "markdown",
   "metadata": {
    "slideshow": {
     "slide_type": "slide"
    }
   },
   "source": [
    "Algunos de los datos se habían generado de forma sintética"
   ]
  },
  {
   "cell_type": "markdown",
   "metadata": {
    "slideshow": {
     "slide_type": "slide"
    }
   },
   "source": [
    "## Fake Data Generation"
   ]
  },
  {
   "attachments": {},
   "cell_type": "markdown",
   "metadata": {
    "slideshow": {
     "slide_type": "slide"
    }
   },
   "source": [
    "No aplica\n"
   ]
  },
  {
   "cell_type": "markdown",
   "metadata": {
    "slideshow": {
     "slide_type": "slide"
    }
   },
   "source": [
    "## Open Data"
   ]
  },
  {
   "attachments": {},
   "cell_type": "markdown",
   "metadata": {
    "slideshow": {
     "slide_type": "slide"
    }
   },
   "source": [
    "Las zonas de salud se habían obtenido de fuentes abiertas"
   ]
  },
  {
   "cell_type": "markdown",
   "metadata": {},
   "source": [
    "## <font color='green'>Data Save</font>"
   ]
  },
  {
   "attachments": {},
   "cell_type": "markdown",
   "metadata": {},
   "source": [
    "Este proceso, puede copiarse y repetirse en aquellas partes del notebbok que necesiten guardar datos.\n",
    "Recuerde cambiar las cadenas añadida del fichero para diferenciarlas"
   ]
  },
  {
   "cell_type": "markdown",
   "metadata": {},
   "source": [
    "<font color='tomato'> Identificamos los datos a guardar</font>"
   ]
  },
  {
   "cell_type": "code",
   "execution_count": 36,
   "metadata": {
    "ExecuteTime": {
     "end_time": "2020-12-25T17:59:27.022001Z",
     "start_time": "2020-12-25T17:59:15.986986Z"
    },
    "scrolled": false,
    "vscode": {
     "languageId": "r"
    }
   },
   "outputs": [],
   "source": [
    "data_to_save <- data"
   ]
  },
  {
   "attachments": {},
   "cell_type": "markdown",
   "metadata": {},
   "source": [
    "\n",
    "<font color='tomato'>Estructura de nombre de archivos:</font>\n",
    "\n",
    "* Código del caso de uso, por ejemplo \"CU_04\"\n",
    "* Número del proceso que lo genera, por ejemplo \"_05\".\n",
    "* Número de la tarea que lo genera, por ejemplo \"_01\"\n",
    "* En caso de generarse varios ficheros en la misma tarea, llevarán _01 _02 ... después\n",
    "* Nombre: identificativo de \"properData\", por ejemplo \"_zonasgeo\"\n",
    "* Extensión del archivo\n",
    "\n",
    "Ejemplo: \"CU_04_05_01_01_zonasgeo.json, primer fichero que se genera en la tarea 01 del proceso 05 (Data Collection) para el caso de uso 04 (vacunas)\n",
    "\n",
    "Importante mantener los guiones bajos antes de proceso, tarea, archivo y nombre"
   ]
  },
  {
   "attachments": {},
   "cell_type": "markdown",
   "metadata": {},
   "source": [
    "### Proceso 05"
   ]
  },
  {
   "cell_type": "code",
   "execution_count": 37,
   "metadata": {
    "ExecuteTime": {
     "end_time": "2020-12-25T17:59:27.022001Z",
     "start_time": "2020-12-25T17:59:15.986986Z"
    },
    "scrolled": false,
    "vscode": {
     "languageId": "r"
    }
   },
   "outputs": [],
   "source": [
    "caso <- \"CU_04\"\n",
    "proceso <- '_05'\n",
    "tarea <- \"_16\"\n",
    "archivo <- \"\"\n",
    "proper <- \"_vacunacion_gripe\"\n",
    "extension <- \".csv\""
   ]
  },
  {
   "attachments": {},
   "cell_type": "markdown",
   "metadata": {},
   "source": [
    "<font color='tomato'><b> OPCION A:</b> Uso del paquete \"tcltk\" para mayor comodidad</font>\n",
    "\n",
    "* Buscar carpeta, escribir nombre de archivo SIN extensión (se especifica en el código)\n",
    "* Especificar sufijo2 si es necesario\n",
    "* Cambiar datos por datos_xx si es necesario"
   ]
  },
  {
   "cell_type": "code",
   "execution_count": null,
   "metadata": {
    "ExecuteTime": {
     "end_time": "2020-12-25T17:59:27.022001Z",
     "start_time": "2020-12-25T17:59:15.986986Z"
    },
    "scrolled": false,
    "vscode": {
     "languageId": "r"
    }
   },
   "outputs": [],
   "source": [
    "# file_save <- paste0(caso, proceso, tarea, tcltk::tkgetSaveFile(), proper, extension) \n",
    "# path_out <- paste0(oPath, file_save)\n",
    "# write_csv(data_to_save, path_out)\n",
    "\n",
    "# cat('File saved as: ')\n",
    "# path_out"
   ]
  },
  {
   "attachments": {},
   "cell_type": "markdown",
   "metadata": {},
   "source": [
    "<font color='tomato'><b> OPCION B:</b> Especificar el nombre de archivo</font>"
   ]
  },
  {
   "attachments": {},
   "cell_type": "markdown",
   "metadata": {},
   "source": [
    "- Los ficheros de salida del proceso van siempre a Data/Output/.  "
   ]
  },
  {
   "cell_type": "code",
   "execution_count": 38,
   "metadata": {
    "ExecuteTime": {
     "end_time": "2021-01-26T18:40:31.258294Z",
     "start_time": "2021-01-26T18:40:26.061847Z"
    },
    "slideshow": {
     "slide_type": "subslide"
    },
    "vscode": {
     "languageId": "r"
    }
   },
   "outputs": [
    {
     "name": "stdout",
     "output_type": "stream",
     "text": [
      "File saved as: "
     ]
    },
    {
     "data": {
      "text/html": [
       "'Data/Output/CU_04_05_16_vacunacion_gripe.csv'"
      ],
      "text/latex": [
       "'Data/Output/CU\\_04\\_05\\_16\\_vacunacion\\_gripe.csv'"
      ],
      "text/markdown": [
       "'Data/Output/CU_04_05_16_vacunacion_gripe.csv'"
      ],
      "text/plain": [
       "[1] \"Data/Output/CU_04_05_16_vacunacion_gripe.csv\""
      ]
     },
     "metadata": {},
     "output_type": "display_data"
    }
   ],
   "source": [
    "file_save <- paste0(caso, proceso, tarea, archivo, proper, extension) \n",
    "path_out <- paste0(oPath, file_save)\n",
    "write_csv(data_to_save, path_out)\n",
    "\n",
    "cat('File saved as: ')\n",
    "path_out"
   ]
  },
  {
   "attachments": {},
   "cell_type": "markdown",
   "metadata": {},
   "source": [
    "#### Copia del fichero a Input\n",
    "\n",
    "Si el archivo se va a usar en otros notebooks, copiar a la carpeta Input"
   ]
  },
  {
   "cell_type": "code",
   "execution_count": 39,
   "metadata": {
    "vscode": {
     "languageId": "r"
    }
   },
   "outputs": [
    {
     "data": {
      "text/html": [
       "TRUE"
      ],
      "text/latex": [
       "TRUE"
      ],
      "text/markdown": [
       "TRUE"
      ],
      "text/plain": [
       "[1] TRUE"
      ]
     },
     "metadata": {},
     "output_type": "display_data"
    }
   ],
   "source": [
    "path_in <- paste0(iPath, file_save)\n",
    "file.copy(path_out, path_in, overwrite = TRUE)"
   ]
  },
  {
   "cell_type": "markdown",
   "metadata": {},
   "source": [
    "## <font color=' #2874a6 '>Main Conclusions</font>"
   ]
  },
  {
   "cell_type": "markdown",
   "metadata": {
    "slideshow": {
     "slide_type": "slide"
    }
   },
   "source": [
    "<font color='steelblue'>List and describe the general conclusions of the analysis carried out​.</font>"
   ]
  },
  {
   "attachments": {},
   "cell_type": "markdown",
   "metadata": {},
   "source": [
    "### Prerequisites\n",
    "\n",
    "Para que funcione este código se necesita:\n",
    "\n",
    "* Las rutas de archivos `Data/Input` y `Data/Output` deben existir (relativas a la ruta del _notebook_)\n",
    "* El paquete tcltk instalado para seleccionar archivos interactivamente. No se necesita en producción.\n",
    "* Los paquetes tcltk, readxl, readr, dplyr deben estar instalados."
   ]
  },
  {
   "attachments": {},
   "cell_type": "markdown",
   "metadata": {},
   "source": [
    "### Configuration Management\n",
    "\n",
    "This notebook has been tested with the following versions of R and packages. It cannot be assured that later versions work in the same way:\n",
    "* R 4.2.2\n",
    "* tcltk 4.2.2\n",
    "* readxl 1.4.1\n",
    "* readr 2.1.3\n",
    "* dplyr 1.0.10"
   ]
  },
  {
   "attachments": {},
   "cell_type": "markdown",
   "metadata": {},
   "source": [
    "### Data structures"
   ]
  },
  {
   "attachments": {},
   "cell_type": "markdown",
   "metadata": {},
   "source": [
    "#### Objeto `data`\n",
    "\n",
    "- Los datos de origen \n",
    "- Hay 21736 filas con la información de las siguientes variables:\n",
    "\t* GEOCODIGO\n",
    "\t* DESBDT\n",
    "\t* ano\n",
    "\t* semana\n",
    "\t* n_vacunas\n",
    "\t* n_citas\n",
    "\t* tmed\n",
    "\t* prec\n",
    "\t* velmedia\n",
    "\t* presMax\n",
    "\t* benzene\n",
    "\t* co\n",
    "\t* no\n",
    "\t* no2\n",
    "\t* nox\n",
    "\t* o3\n",
    "\t* pm10\n",
    "\t* pm2.5\n",
    "\t* so2\n"
   ]
  },
  {
   "attachments": {},
   "cell_type": "markdown",
   "metadata": {},
   "source": [
    "#### Observaciones generales sobre los datos\n",
    "\n",
    "* Había más datos de vacunación que de las otras variables porque las primeras se simularon de las semanas exactas de la campaña, y el resto se obtuvieron de meses completos\n",
    "* Se han mantenido todas las filas en este conjunto de datos por si son útiles para los modelos\n",
    "* Los datos son únicos para cada zona, año y semana"
   ]
  },
  {
   "attachments": {},
   "cell_type": "markdown",
   "metadata": {},
   "source": [
    "### Consideraciones para despliegue en piloto\n",
    "\n",
    "* Ninguna"
   ]
  },
  {
   "attachments": {},
   "cell_type": "markdown",
   "metadata": {},
   "source": [
    "### Consideraciones para despliegue en producción\n",
    "\n",
    "* Se deben crear los procesos ETL en producción necesarios para que los datos de entrada estén actualizados"
   ]
  },
  {
   "cell_type": "markdown",
   "metadata": {},
   "source": [
    "## <font color=' #2874a6 '>Main Actions</font>"
   ]
  },
  {
   "cell_type": "markdown",
   "metadata": {},
   "source": [
    "#### <font color=' #2874a6 '>Acciones done</font>"
   ]
  },
  {
   "cell_type": "markdown",
   "metadata": {
    "slideshow": {
     "slide_type": "slide"
    }
   },
   "source": [
    "<font color='steelblue'>Indicate the actions that have been carried out in this process</font>"
   ]
  },
  {
   "attachments": {},
   "cell_type": "markdown",
   "metadata": {},
   "source": [
    "- Se han unido las tablas con datos por semana y zona"
   ]
  },
  {
   "cell_type": "markdown",
   "metadata": {},
   "source": [
    "#### <font color=' #2874a6 '>Acctions to perform</font>"
   ]
  },
  {
   "cell_type": "markdown",
   "metadata": {
    "slideshow": {
     "slide_type": "slide"
    }
   },
   "source": [
    "<font color='steelblue'>Indicate the actions that must be carried out in subsequent processes</font>"
   ]
  },
  {
   "attachments": {},
   "cell_type": "markdown",
   "metadata": {},
   "source": [
    "- Se deben unir a las tablas con otra granularidad, repitiendo datos, para tener un csv que incluya todo"
   ]
  },
  {
   "attachments": {},
   "cell_type": "markdown",
   "metadata": {},
   "source": [
    "## <font color='RED'>CODE TO DEPLOY (PILOT)</font>\n",
    "\n",
    "A continuación se incluirá el código que deba ser llevado a despliegue para producción, dado que se entiende efectúa operaciones necesarias sobre los datos en la ejecución del prototipo"
   ]
  },
  {
   "attachments": {},
   "cell_type": "markdown",
   "metadata": {},
   "source": [
    "<font color=' red '><b>Description</b></font>\n",
    "\n",
    "- No hay nada que desplegar en el piloto, ya que estos datos son estáticos o en todo caso cambian con muy poca frecuencia, altamente improbable durante el proyecto.\n"
   ]
  },
  {
   "attachments": {},
   "cell_type": "markdown",
   "metadata": {},
   "source": [
    "<font color=' red '><b>CODE</b></font>"
   ]
  },
  {
   "cell_type": "code",
   "execution_count": null,
   "metadata": {
    "vscode": {
     "languageId": "r"
    }
   },
   "outputs": [],
   "source": [
    "# incluir código"
   ]
  }
 ],
 "metadata": {
  "anaconda-cloud": {},
  "celltoolbar": "Slideshow",
  "hide_input": false,
  "kernelspec": {
   "display_name": "R",
   "language": "R",
   "name": "ir"
  },
  "language_info": {
   "codemirror_mode": "r",
   "file_extension": ".r",
   "mimetype": "text/x-r-source",
   "name": "R",
   "pygments_lexer": "r",
   "version": "4.2.2"
  },
  "latex_envs": {
   "LaTeX_envs_menu_present": true,
   "autoclose": false,
   "autocomplete": true,
   "bibliofile": "biblio.bib",
   "cite_by": "apalike",
   "current_citInitial": 1,
   "eqLabelWithNumbers": true,
   "eqNumInitial": 1,
   "hotkeys": {
    "equation": "Ctrl-E",
    "itemize": "Ctrl-I"
   },
   "labels_anchors": false,
   "latex_user_defs": false,
   "report_style_numbering": true,
   "user_envs_cfg": false
  },
  "toc": {
   "base_numbering": 1,
   "nav_menu": {
    "height": "11.6px",
    "width": "160px"
   },
   "number_sections": false,
   "sideBar": true,
   "skip_h1_title": true,
   "title_cell": "Table of Contents",
   "title_sidebar": "Contents",
   "toc_cell": true,
   "toc_position": {
    "height": "calc(100% - 180px)",
    "left": "10px",
    "top": "150px",
    "width": "209.2px"
   },
   "toc_section_display": true,
   "toc_window_display": true
  },
  "varInspector": {
   "cols": {
    "lenName": 16,
    "lenType": 16,
    "lenVar": 40
   },
   "kernels_config": {
    "python": {
     "delete_cmd_postfix": "",
     "delete_cmd_prefix": "del ",
     "library": "var_list.py",
     "varRefreshCmd": "print(var_dic_list())"
    },
    "r": {
     "delete_cmd_postfix": ") ",
     "delete_cmd_prefix": "rm(",
     "library": "var_list.r",
     "varRefreshCmd": "cat(var_dic_list()) "
    }
   },
   "types_to_exclude": [
    "module",
    "function",
    "builtin_function_or_method",
    "instance",
    "_Feature"
   ],
   "window_display": false
  }
 },
 "nbformat": 4,
 "nbformat_minor": 1
}
