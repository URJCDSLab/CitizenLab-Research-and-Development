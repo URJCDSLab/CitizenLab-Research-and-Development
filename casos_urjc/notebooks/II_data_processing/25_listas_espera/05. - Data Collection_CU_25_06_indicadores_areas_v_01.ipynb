{
 "cells": [
  {
   "cell_type": "markdown",
   "metadata": {
    "slideshow": {
     "slide_type": "slide"
    }
   },
   "source": [
    "<img src=\".\\images\\Logo.png\" width=150 align=\"left\" /> <img src=\".\\images\\Logo2.jpg\" width=450 align=\"right\" />"
   ]
  },
  {
   "attachments": {},
   "cell_type": "markdown",
   "metadata": {
    "slideshow": {
     "slide_type": "slide"
    }
   },
   "source": [
    "\n",
    "# <center><font color= #1e8449 > <b>CU25_Modelo de gestión de Lista de Espera Quirúrgica\n",
    "</font></center>"
   ]
  },
  {
   "cell_type": "markdown",
   "metadata": {
    "slideshow": {
     "slide_type": "slide"
    }
   },
   "source": [
    "<font color='steelblue'><b>Citizenlab Data Science Methodology > II - Data Processing Domain </font>\n",
    "***\n",
    "> # <font color='steelblue'> <b>05.- Data Collection</font>"
   ]
  },
  {
   "cell_type": "markdown",
   "metadata": {
    "slideshow": {
     "slide_type": "slide"
    }
   },
   "source": [
    "<font color='steelblue'>Data Collection is the process to obtain and generate (if required) necessary data to model the problem.</font>"
   ]
  },
  {
   "attachments": {},
   "cell_type": "markdown",
   "metadata": {},
   "source": [
    "### 06. Obtener indicadores por área sanitaria\n",
    "\n",
    "* Agrupar indicadores del INE por área sanitaria para introducir en los modelos\n",
    "\n",
    "1. Primero se asignan zonas básicas de salud a las áreas sanitarias (vienen de CU_04). \n",
    "2. Se obtienen los indicadores del INE para zonas básicas de salud (vienen de CU_04).\n",
    "3. Se agregan los indicadores por área sanitaria\n",
    "\n",
    "\n",
    "\n",
    "\n",
    "\n"
   ]
  },
  {
   "cell_type": "markdown",
   "metadata": {
    "toc": true
   },
   "source": [
    "<h1>Table of Contents<span class=\"tocSkip\"></span></h1>\n",
    "<div class=\"toc\"><ul class=\"toc-item\"><li><span><a href=\"#Settings\" data-toc-modified-id=\"Settings-1\"><font color=\"green\">Settings</font></a></span></li><li><span><a href=\"#Data-Load\" data-toc-modified-id=\"Data-Load-2\"><font color=\"green\">Data Load</font></a></span></li><li><span><a href=\"#ETL-Processes\" data-toc-modified-id=\"ETL-Processes-3\">ETL Processes</a></span><ul class=\"toc-item\"><li><span><a href=\"#Import-data-from:-CSV,-Excel,-Tab,-JSON,-SQL,-and-Parquet-files\" data-toc-modified-id=\"Import-data-from:-CSV,-Excel,-Tab,-JSON,-SQL,-and-Parquet-files-3.1\">Import data from: CSV, Excel, Tab, JSON, SQL, and Parquet files</a></span></li></ul></li><li><span><a href=\"#Synthetic-Data-Generation\" data-toc-modified-id=\"Synthetic-Data-Generation-4\">Synthetic Data Generation</a></span></li><li><span><a href=\"#Fake-Data-Generation\" data-toc-modified-id=\"Fake-Data-Generation-5\">Fake Data Generation</a></span></li><li><span><a href=\"#Open-Data\" data-toc-modified-id=\"Open-Data-6\">Open Data</a></span></li><li><span><a href=\"#Data-Save\" data-toc-modified-id=\"Data-Save-7\"><font color=\"green\">Data Save</font></a></span></li><li><span><a href=\"#Main-Conclusions\" data-toc-modified-id=\"Main-Conclusions-8\"><font color=\" #2874a6 \">Main Conclusions</font></a></span></li><li><span><a href=\"#Main-Actions\" data-toc-modified-id=\"Main-Actions-9\"><font color=\" #2874a6 \">Main Actions</font></a></span><ul class=\"toc-item\"><li><ul class=\"toc-item\"><li><span><a href=\"#Acciones-done\" data-toc-modified-id=\"Acciones-done-9.0.1\"><font color=\" #2874a6 \">Acciones done</font></a></span></li><li><span><a href=\"#Acctions-to-perform\" data-toc-modified-id=\"Acctions-to-perform-9.0.2\"><font color=\" #2874a6 \">Acctions to perform</font></a></span></li></ul></li></ul></li></ul></div>"
   ]
  },
  {
   "cell_type": "markdown",
   "metadata": {
    "slideshow": {
     "slide_type": "slide"
    }
   },
   "source": [
    "## <font color='green'>Settings</font>"
   ]
  },
  {
   "attachments": {},
   "cell_type": "markdown",
   "metadata": {},
   "source": [
    "### Encoding\n",
    "\n",
    "Con la siguiente expresión se evitan problemas con el encoding al ejecutar el notebook. Es posible que deba ser eliminada o adaptada a la máquina en la que se ejecute el código."
   ]
  },
  {
   "cell_type": "code",
   "execution_count": 1,
   "metadata": {
    "vscode": {
     "languageId": "r"
    }
   },
   "outputs": [
    {
     "data": {
      "text/html": [
       "'es_ES.UTF-8/es_ES.UTF-8/es_ES.UTF-8/C/es_ES.UTF-8/C'"
      ],
      "text/latex": [
       "'es\\_ES.UTF-8/es\\_ES.UTF-8/es\\_ES.UTF-8/C/es\\_ES.UTF-8/C'"
      ],
      "text/markdown": [
       "'es_ES.UTF-8/es_ES.UTF-8/es_ES.UTF-8/C/es_ES.UTF-8/C'"
      ],
      "text/plain": [
       "[1] \"es_ES.UTF-8/es_ES.UTF-8/es_ES.UTF-8/C/es_ES.UTF-8/C\""
      ]
     },
     "metadata": {},
     "output_type": "display_data"
    }
   ],
   "source": [
    "Sys.setlocale(category = \"LC_ALL\", locale = \"es_ES.UTF-8\")"
   ]
  },
  {
   "attachments": {},
   "cell_type": "markdown",
   "metadata": {},
   "source": [
    "### Packages to use\n",
    "\n",
    "_ELIMINAR O AÑADIR LO QUE TOQUE. COPIAR VERSIONES AL FINAL Y QUITAR CÓDIGO DE VERSIONES_\n",
    "\n",
    "- {tcltk} para selección interactiva de archivos locales\n",
    "- {sf} para trabajar con georeferenciación\n",
    "- {readr} para leer y escribir archivos csv\n",
    "- {dplyr} para explorar datos\n",
    "- {stringr} para manipulación de cadenas de caracteres\n",
    "- {tidyr} para organización de datos\n"
   ]
  },
  {
   "cell_type": "code",
   "execution_count": 40,
   "metadata": {
    "ExecuteTime": {
     "end_time": "2021-12-03T15:23:33.762841Z",
     "start_time": "2021-12-03T15:23:08.580267Z"
    },
    "slideshow": {
     "slide_type": "subslide"
    },
    "vscode": {
     "languageId": "r"
    }
   },
   "outputs": [],
   "source": [
    "library(sf)\n",
    "library(readr)\n",
    "library(dplyr)\n",
    "\n",
    "p <- c(\"tcltk\", \"sf\", \"readr\", \"dplyr\")\n"
   ]
  },
  {
   "attachments": {},
   "cell_type": "markdown",
   "metadata": {},
   "source": [
    "### Paths"
   ]
  },
  {
   "cell_type": "code",
   "execution_count": 3,
   "metadata": {
    "vscode": {
     "languageId": "r"
    }
   },
   "outputs": [],
   "source": [
    "iPath <- \"Data/Input/\"\n",
    "oPath <- \"Data/Output/\""
   ]
  },
  {
   "attachments": {},
   "cell_type": "markdown",
   "metadata": {
    "slideshow": {
     "slide_type": "slide"
    }
   },
   "source": [
    "## <font color='green'>Data Load</font>\n",
    "\n",
    "If there are more than one input file, make as many sections as files to import."
   ]
  },
  {
   "attachments": {},
   "cell_type": "markdown",
   "metadata": {},
   "source": [
    "Instrucciones\n",
    "- Los ficheros de entrada del proceso están siempre en Data/Input/.   \n",
    "- Si hay más de un fichero de entrada, se crean tantos objetos iFile_xx y file_data_xx como ficheros de entrada (xx número correlativo con dos dígitos, rellenar con ceros a la izquierda)"
   ]
  },
  {
   "attachments": {},
   "cell_type": "markdown",
   "metadata": {},
   "source": [
    "1. Zonas básicas de salud"
   ]
  },
  {
   "attachments": {},
   "cell_type": "markdown",
   "metadata": {},
   "source": [
    "<font color='tomato'><b> OPCION A:</b> Seleccionar fichero en ventana para mayor comodidad</font> "
   ]
  },
  {
   "attachments": {},
   "cell_type": "markdown",
   "metadata": {},
   "source": [
    "Data load using the {tcltk} package. Ucomment the line if not using this option"
   ]
  },
  {
   "cell_type": "code",
   "execution_count": 4,
   "metadata": {
    "vscode": {
     "languageId": "r"
    }
   },
   "outputs": [],
   "source": [
    "# file_data_01 <- tcltk::tk_choose.files(multi = FALSE)"
   ]
  },
  {
   "attachments": {},
   "cell_type": "markdown",
   "metadata": {},
   "source": [
    "<font color='tomato'><b> OPCION B:</b> Especificar el nombre de archivo</font>\n",
    "\n"
   ]
  },
  {
   "cell_type": "code",
   "execution_count": 5,
   "metadata": {
    "vscode": {
     "languageId": "r"
    }
   },
   "outputs": [
    {
     "name": "stdout",
     "output_type": "stream",
     "text": [
      "Se leerán datos del archivo:  Data/Input/CU_04_05_01_zonasgeo.json"
     ]
    }
   ],
   "source": [
    "iFile_01 <- \"CU_04_05_01_zonasgeo.json\"\n",
    "file_data_01 <- paste0(iPath, iFile_01)\n",
    "\n",
    "if(file.exists(file_data_01)){\n",
    "    cat(\"Se leerán datos del archivo: \", file_data_01)\n",
    "} else{\n",
    "    warning(\"Cuidado: el archivo no existe.\")\n",
    "}\n"
   ]
  },
  {
   "attachments": {},
   "cell_type": "markdown",
   "metadata": {},
   "source": [
    "#### Data file to dataframe\n",
    "\n",
    "Usar la función adecuada según el formato de entrada (xlsx, csv, json, ...)"
   ]
  },
  {
   "cell_type": "code",
   "execution_count": 6,
   "metadata": {
    "vscode": {
     "languageId": "r"
    }
   },
   "outputs": [
    {
     "name": "stdout",
     "output_type": "stream",
     "text": [
      "Reading layer `CU_04_05_01_zonasgeo' from data source \n",
      "  `/Users/emilio.lcano/academico/gh_repos/__transferencia/citizenlab/CitizenLab-Research-and-Development/casos_urjc/notebooks/II_data_processing/25_listas_espera/Data/Input/CU_04_05_01_zonasgeo.json' \n",
      "  using driver `GeoJSON'\n",
      "Simple feature collection with 286 features and 3 fields\n",
      "Geometry type: MULTIPOLYGON\n",
      "Dimension:     XY\n",
      "Bounding box:  xmin: -4.579396 ymin: 39.8848 xmax: -3.052977 ymax: 41.16584\n",
      "Geodetic CRS:  WGS 84\n"
     ]
    }
   ],
   "source": [
    "data_01 <- st_read(file_data_01)\n"
   ]
  },
  {
   "attachments": {},
   "cell_type": "markdown",
   "metadata": {},
   "source": [
    "Estructura de  los datos:"
   ]
  },
  {
   "cell_type": "code",
   "execution_count": 7,
   "metadata": {
    "vscode": {
     "languageId": "r"
    }
   },
   "outputs": [
    {
     "name": "stdout",
     "output_type": "stream",
     "text": [
      "Rows: 286\n",
      "Columns: 4\n",
      "$ CODBDT    \u001b[3m\u001b[90m<int>\u001b[39m\u001b[23m 686213, 686214, 686215, 686216, 686217, 686218, 686219, 6862…\n",
      "$ GEOCODIGO \u001b[3m\u001b[90m<chr>\u001b[39m\u001b[23m \"001\", \"002\", \"003\", \"004\", \"005\", \"006\", \"007\", \"008\", \"009…\n",
      "$ DESBDT    \u001b[3m\u001b[90m<chr>\u001b[39m\u001b[23m \"Abrantes\", \"Acacias\", \"Adelfas\", \"Alameda\", \"Alameda de Osu…\n",
      "$ geometry  \u001b[3m\u001b[90m<MULTIPOLYGON [°]>\u001b[39m\u001b[23m MULTIPOLYGON (((-3.718306 4..., MULTIPOLYGON ((…\n"
     ]
    }
   ],
   "source": [
    "data_01 |> glimpse()"
   ]
  },
  {
   "attachments": {},
   "cell_type": "markdown",
   "metadata": {},
   "source": [
    "Muestra de datos:"
   ]
  },
  {
   "cell_type": "code",
   "execution_count": 8,
   "metadata": {
    "vscode": {
     "languageId": "r"
    }
   },
   "outputs": [
    {
     "data": {
      "text/html": [
       "<table class=\"dataframe\">\n",
       "<caption>A tibble: 5 x 4</caption>\n",
       "<thead>\n",
       "\t<tr><th scope=col>CODBDT</th><th scope=col>GEOCODIGO</th><th scope=col>DESBDT</th><th scope=col>geometry</th></tr>\n",
       "\t<tr><th scope=col>&lt;int&gt;</th><th scope=col>&lt;chr&gt;</th><th scope=col>&lt;chr&gt;</th><th scope=col>&lt;MULTIPOLYGON [°]&gt;</th></tr>\n",
       "</thead>\n",
       "<tbody>\n",
       "\t<tr><td>686213</td><td>001</td><td>Abrantes        </td><td>MULTIPOLYGON (((-3.718306 4...</td></tr>\n",
       "\t<tr><td>686214</td><td>002</td><td>Acacias         </td><td>MULTIPOLYGON (((-3.707966 4...</td></tr>\n",
       "\t<tr><td>686215</td><td>003</td><td>Adelfas         </td><td>MULTIPOLYGON (((-3.666363 4...</td></tr>\n",
       "\t<tr><td>686216</td><td>004</td><td>Alameda         </td><td>MULTIPOLYGON (((-3.69947 40...</td></tr>\n",
       "\t<tr><td>686217</td><td>005</td><td>Alameda de Osuna</td><td>MULTIPOLYGON (((-3.561629 4...</td></tr>\n",
       "</tbody>\n",
       "</table>\n"
      ],
      "text/latex": [
       "A tibble: 5 x 4\n",
       "\\begin{tabular}{llll}\n",
       " CODBDT & GEOCODIGO & DESBDT & geometry\\\\\n",
       " <int> & <chr> & <chr> & <MULTIPOLYGON {[}°{]}>\\\\\n",
       "\\hline\n",
       "\t 686213 & 001 & Abrantes         & MULTIPOLYGON (((-3.718306 4...\\\\\n",
       "\t 686214 & 002 & Acacias          & MULTIPOLYGON (((-3.707966 4...\\\\\n",
       "\t 686215 & 003 & Adelfas          & MULTIPOLYGON (((-3.666363 4...\\\\\n",
       "\t 686216 & 004 & Alameda          & MULTIPOLYGON (((-3.69947 40...\\\\\n",
       "\t 686217 & 005 & Alameda de Osuna & MULTIPOLYGON (((-3.561629 4...\\\\\n",
       "\\end{tabular}\n"
      ],
      "text/markdown": [
       "\n",
       "A tibble: 5 x 4\n",
       "\n",
       "| CODBDT &lt;int&gt; | GEOCODIGO &lt;chr&gt; | DESBDT &lt;chr&gt; | geometry &lt;MULTIPOLYGON [°]&gt; |\n",
       "|---|---|---|---|\n",
       "| 686213 | 001 | Abrantes         | MULTIPOLYGON (((-3.718306 4... |\n",
       "| 686214 | 002 | Acacias          | MULTIPOLYGON (((-3.707966 4... |\n",
       "| 686215 | 003 | Adelfas          | MULTIPOLYGON (((-3.666363 4... |\n",
       "| 686216 | 004 | Alameda          | MULTIPOLYGON (((-3.69947 40... |\n",
       "| 686217 | 005 | Alameda de Osuna | MULTIPOLYGON (((-3.561629 4... |\n",
       "\n"
      ],
      "text/plain": [
       "  CODBDT GEOCODIGO DESBDT           geometry                      \n",
       "1 686213 001       Abrantes         MULTIPOLYGON (((-3.718306 4...\n",
       "2 686214 002       Acacias          MULTIPOLYGON (((-3.707966 4...\n",
       "3 686215 003       Adelfas          MULTIPOLYGON (((-3.666363 4...\n",
       "4 686216 004       Alameda          MULTIPOLYGON (((-3.69947 40...\n",
       "5 686217 005       Alameda de Osuna MULTIPOLYGON (((-3.561629 4..."
      ]
     },
     "metadata": {},
     "output_type": "display_data"
    }
   ],
   "source": [
    "data_01 |> tibble() |> slice_head(n = 5)"
   ]
  },
  {
   "attachments": {},
   "cell_type": "markdown",
   "metadata": {},
   "source": [
    "2. Áreas de salud"
   ]
  },
  {
   "cell_type": "markdown",
   "metadata": {},
   "source": [
    "<font color='tomato'><b> OPCION A:</b> Seleccionar fichero en ventana para mayor comodidad</font> "
   ]
  },
  {
   "cell_type": "markdown",
   "metadata": {},
   "source": [
    "Data load using the {tcltk} package. Ucomment the line if not using this option"
   ]
  },
  {
   "cell_type": "code",
   "execution_count": 9,
   "metadata": {
    "vscode": {
     "languageId": "r"
    }
   },
   "outputs": [],
   "source": [
    "# file_data_02 <- tcltk::tk_choose.files(multi = FALSE)"
   ]
  },
  {
   "cell_type": "markdown",
   "metadata": {},
   "source": [
    "<font color='tomato'><b> OPCION B:</b> Especificar el nombre de archivo</font>\n",
    "\n"
   ]
  },
  {
   "cell_type": "code",
   "execution_count": 10,
   "metadata": {
    "vscode": {
     "languageId": "r"
    }
   },
   "outputs": [
    {
     "name": "stdout",
     "output_type": "stream",
     "text": [
      "Se leerán datos del archivo:  Data/Input/CU_25_05_03_areasgeo.json"
     ]
    }
   ],
   "source": [
    "iFile_02 <- \"CU_25_05_03_areasgeo.json\"\n",
    "file_data_02 <- paste0(iPath, iFile_02)\n",
    "\n",
    "if(file.exists(file_data_02)){\n",
    "    cat(\"Se leerán datos del archivo: \", file_data_02)\n",
    "} else{\n",
    "    warning(\"Cuidado: el archivo no existe.\")\n",
    "}\n"
   ]
  },
  {
   "cell_type": "markdown",
   "metadata": {},
   "source": [
    "#### Data file to dataframe\n",
    "\n",
    "Usar la función adecuada según el formato de entrada (xlsx, csv, json, ...)"
   ]
  },
  {
   "cell_type": "code",
   "execution_count": 11,
   "metadata": {
    "vscode": {
     "languageId": "r"
    }
   },
   "outputs": [
    {
     "name": "stdout",
     "output_type": "stream",
     "text": [
      "Reading layer `CU_25_05_03_areasgeo' from data source \n",
      "  `/Users/emilio.lcano/academico/gh_repos/__transferencia/citizenlab/CitizenLab-Research-and-Development/casos_urjc/notebooks/II_data_processing/25_listas_espera/Data/Input/CU_25_05_03_areasgeo.json' \n",
      "  using driver `GeoJSON'\n",
      "Simple feature collection with 11 features and 3 fields\n",
      "Geometry type: MULTIPOLYGON\n",
      "Dimension:     XY\n",
      "Bounding box:  xmin: -4.580315 ymin: 39.88284 xmax: -3.054265 ymax: 41.16397\n",
      "Geodetic CRS:  WGS 84\n"
     ]
    }
   ],
   "source": [
    "data_02 <- st_read(file_data_02)\n"
   ]
  },
  {
   "cell_type": "markdown",
   "metadata": {},
   "source": [
    "Estructura de  los datos:"
   ]
  },
  {
   "cell_type": "code",
   "execution_count": 12,
   "metadata": {
    "vscode": {
     "languageId": "r"
    }
   },
   "outputs": [
    {
     "name": "stdout",
     "output_type": "stream",
     "text": [
      "Rows: 11\n",
      "Columns: 4\n",
      "$ CODBDT    \u001b[3m\u001b[90m<int>\u001b[39m\u001b[23m 958285, 958286, 958287, 958288, 958289, 958290, 958291, 9582…\n",
      "$ GEOCODIGO \u001b[3m\u001b[90m<chr>\u001b[39m\u001b[23m \"01\", \"02\", \"03\", \"04\", \"05\", \"06\", \"07\", \"08\", \"09\", \"10\", …\n",
      "$ DESBDT    \u001b[3m\u001b[90m<chr>\u001b[39m\u001b[23m \"Sur-Este\", \"Centro-Norte\", \"Este\", \"Noreste\", \"Norte\", \"Oes…\n",
      "$ geometry  \u001b[3m\u001b[90m<MULTIPOLYGON [°]>\u001b[39m\u001b[23m MULTIPOLYGON (((-3.423161 4..., MULTIPOLYGON ((…\n"
     ]
    }
   ],
   "source": [
    "data_02 |> glimpse()"
   ]
  },
  {
   "cell_type": "markdown",
   "metadata": {},
   "source": [
    "Muestra de datos:"
   ]
  },
  {
   "cell_type": "code",
   "execution_count": 13,
   "metadata": {
    "vscode": {
     "languageId": "r"
    }
   },
   "outputs": [
    {
     "data": {
      "text/html": [
       "<table class=\"dataframe\">\n",
       "<caption>A tibble: 5 x 4</caption>\n",
       "<thead>\n",
       "\t<tr><th scope=col>CODBDT</th><th scope=col>GEOCODIGO</th><th scope=col>DESBDT</th><th scope=col>geometry</th></tr>\n",
       "\t<tr><th scope=col>&lt;int&gt;</th><th scope=col>&lt;chr&gt;</th><th scope=col>&lt;chr&gt;</th><th scope=col>&lt;MULTIPOLYGON [°]&gt;</th></tr>\n",
       "</thead>\n",
       "<tbody>\n",
       "\t<tr><td>958285</td><td>01</td><td>Sur-Este    </td><td>MULTIPOLYGON (((-3.423161 4...</td></tr>\n",
       "\t<tr><td>958286</td><td>02</td><td>Centro-Norte</td><td>MULTIPOLYGON (((-3.499207 4...</td></tr>\n",
       "\t<tr><td>958287</td><td>03</td><td>Este        </td><td>MULTIPOLYGON (((-3.323953 4...</td></tr>\n",
       "\t<tr><td>958288</td><td>04</td><td>Noreste     </td><td>MULTIPOLYGON (((-3.653662 4...</td></tr>\n",
       "\t<tr><td>958289</td><td>05</td><td>Norte       </td><td>MULTIPOLYGON (((-3.537981 4...</td></tr>\n",
       "</tbody>\n",
       "</table>\n"
      ],
      "text/latex": [
       "A tibble: 5 x 4\n",
       "\\begin{tabular}{llll}\n",
       " CODBDT & GEOCODIGO & DESBDT & geometry\\\\\n",
       " <int> & <chr> & <chr> & <MULTIPOLYGON {[}°{]}>\\\\\n",
       "\\hline\n",
       "\t 958285 & 01 & Sur-Este     & MULTIPOLYGON (((-3.423161 4...\\\\\n",
       "\t 958286 & 02 & Centro-Norte & MULTIPOLYGON (((-3.499207 4...\\\\\n",
       "\t 958287 & 03 & Este         & MULTIPOLYGON (((-3.323953 4...\\\\\n",
       "\t 958288 & 04 & Noreste      & MULTIPOLYGON (((-3.653662 4...\\\\\n",
       "\t 958289 & 05 & Norte        & MULTIPOLYGON (((-3.537981 4...\\\\\n",
       "\\end{tabular}\n"
      ],
      "text/markdown": [
       "\n",
       "A tibble: 5 x 4\n",
       "\n",
       "| CODBDT &lt;int&gt; | GEOCODIGO &lt;chr&gt; | DESBDT &lt;chr&gt; | geometry &lt;MULTIPOLYGON [°]&gt; |\n",
       "|---|---|---|---|\n",
       "| 958285 | 01 | Sur-Este     | MULTIPOLYGON (((-3.423161 4... |\n",
       "| 958286 | 02 | Centro-Norte | MULTIPOLYGON (((-3.499207 4... |\n",
       "| 958287 | 03 | Este         | MULTIPOLYGON (((-3.323953 4... |\n",
       "| 958288 | 04 | Noreste      | MULTIPOLYGON (((-3.653662 4... |\n",
       "| 958289 | 05 | Norte        | MULTIPOLYGON (((-3.537981 4... |\n",
       "\n"
      ],
      "text/plain": [
       "  CODBDT GEOCODIGO DESBDT       geometry                      \n",
       "1 958285 01        Sur-Este     MULTIPOLYGON (((-3.423161 4...\n",
       "2 958286 02        Centro-Norte MULTIPOLYGON (((-3.499207 4...\n",
       "3 958287 03        Este         MULTIPOLYGON (((-3.323953 4...\n",
       "4 958288 04        Noreste      MULTIPOLYGON (((-3.653662 4...\n",
       "5 958289 05        Norte        MULTIPOLYGON (((-3.537981 4..."
      ]
     },
     "metadata": {},
     "output_type": "display_data"
    }
   ],
   "source": [
    "data_02 |> tibble() |> slice_head(n = 5)"
   ]
  },
  {
   "attachments": {},
   "cell_type": "markdown",
   "metadata": {},
   "source": [
    "3. Indicadores por zona básica de salud"
   ]
  },
  {
   "cell_type": "markdown",
   "metadata": {},
   "source": [
    "<font color='tomato'><b> OPCION A:</b> Seleccionar fichero en ventana para mayor comodidad</font> "
   ]
  },
  {
   "cell_type": "markdown",
   "metadata": {},
   "source": [
    "Data load using the {tcltk} package. Ucomment the line if not using this option"
   ]
  },
  {
   "cell_type": "code",
   "execution_count": null,
   "metadata": {
    "vscode": {
     "languageId": "r"
    }
   },
   "outputs": [],
   "source": [
    "# file_data_03 <- tcltk::tk_choose.files(multi = FALSE)"
   ]
  },
  {
   "cell_type": "markdown",
   "metadata": {},
   "source": [
    "<font color='tomato'><b> OPCION B:</b> Especificar el nombre de archivo</font>\n",
    "\n"
   ]
  },
  {
   "cell_type": "code",
   "execution_count": 14,
   "metadata": {
    "vscode": {
     "languageId": "r"
    }
   },
   "outputs": [
    {
     "name": "stdout",
     "output_type": "stream",
     "text": [
      "Se leerán datos del archivo:  Data/Input/CU_04_05_05_02_indicadores_zonas.csv"
     ]
    }
   ],
   "source": [
    "iFile_03 <- \"CU_04_05_05_02_indicadores_zonas.csv\"\n",
    "file_data_03 <- paste0(iPath, iFile_03)\n",
    "\n",
    "if(file.exists(file_data_03)){\n",
    "    cat(\"Se leerán datos del archivo: \", file_data_03)\n",
    "} else{\n",
    "    warning(\"Cuidado: el archivo no existe.\")\n",
    "}\n"
   ]
  },
  {
   "cell_type": "markdown",
   "metadata": {},
   "source": [
    "#### Data file to dataframe\n",
    "\n",
    "Usar la función adecuada según el formato de entrada (xlsx, csv, json, ...)"
   ]
  },
  {
   "cell_type": "code",
   "execution_count": 15,
   "metadata": {
    "vscode": {
     "languageId": "r"
    }
   },
   "outputs": [
    {
     "name": "stderr",
     "output_type": "stream",
     "text": [
      "\u001b[1mRows: \u001b[22m\u001b[34m286\u001b[39m \u001b[1mColumns: \u001b[22m\u001b[34m20\u001b[39m\n",
      "\u001b[36m──\u001b[39m \u001b[1mColumn specification\u001b[22m \u001b[36m────────────────────────────────────────────────────────\u001b[39m\n",
      "\u001b[1mDelimiter:\u001b[22m \",\"\n",
      "\u001b[31mchr\u001b[39m  (2): id_zona, nombre_zona\n",
      "\u001b[32mdbl\u001b[39m (18): nsec, t3_1, t1_1, t2_1, t2_2, t4_1, t4_2, t4_3, t5_1, t6_1, t7_1, ...\n",
      "\n",
      "\u001b[36mℹ\u001b[39m Use `spec()` to retrieve the full column specification for this data.\n",
      "\u001b[36mℹ\u001b[39m Specify the column types or set `show_col_types = FALSE` to quiet this message.\n"
     ]
    }
   ],
   "source": [
    "data_03 <- read_csv(file_data_03)\n"
   ]
  },
  {
   "cell_type": "markdown",
   "metadata": {},
   "source": [
    "Estructura de  los datos:"
   ]
  },
  {
   "cell_type": "code",
   "execution_count": 16,
   "metadata": {
    "vscode": {
     "languageId": "r"
    }
   },
   "outputs": [
    {
     "name": "stdout",
     "output_type": "stream",
     "text": [
      "Rows: 286\n",
      "Columns: 20\n",
      "$ id_zona         \u001b[3m\u001b[90m<chr>\u001b[39m\u001b[23m \"001\", \"002\", \"003\", \"004\", \"005\", \"006\", \"007\", \"008\"…\n",
      "$ nombre_zona     \u001b[3m\u001b[90m<chr>\u001b[39m\u001b[23m \"Abrantes\", \"Acacias\", \"Adelfas\", \"Alameda\", \"Alameda …\n",
      "$ nsec            \u001b[3m\u001b[90m<dbl>\u001b[39m\u001b[23m 23, 11, 19, 18, 18, 15, 10, 17, 11, 12, 14, 17, 8, 20,…\n",
      "$ t3_1            \u001b[3m\u001b[90m<dbl>\u001b[39m\u001b[23m 42.31249, 46.15717, 45.30472, 43.70575, 43.31968, 44.2…\n",
      "$ t1_1            \u001b[3m\u001b[90m<dbl>\u001b[39m\u001b[23m 29872, 17961, 28933, 21393, 27259, 21186, 12367, 27448…\n",
      "$ t2_1            \u001b[3m\u001b[90m<dbl>\u001b[39m\u001b[23m 0.5345094, 0.5328775, 0.5383134, 0.4919805, 0.5153616,…\n",
      "$ t2_2            \u001b[3m\u001b[90m<dbl>\u001b[39m\u001b[23m 0.4654906, 0.4671225, 0.4616866, 0.5080195, 0.4846384,…\n",
      "$ t4_1            \u001b[3m\u001b[90m<dbl>\u001b[39m\u001b[23m 0.15619346, 0.10929873, 0.12408817, 0.07409008, 0.1742…\n",
      "$ t4_2            \u001b[3m\u001b[90m<dbl>\u001b[39m\u001b[23m 0.6656459, 0.6516215, 0.6541986, 0.7685363, 0.6063697,…\n",
      "$ t4_3            \u001b[3m\u001b[90m<dbl>\u001b[39m\u001b[23m 0.17816190, 0.23909411, 0.22173279, 0.15740288, 0.2193…\n",
      "$ t5_1            \u001b[3m\u001b[90m<dbl>\u001b[39m\u001b[23m 0.21839930, 0.04313645, 0.07236948, 0.26145728, 0.0705…\n",
      "$ t6_1            \u001b[3m\u001b[90m<dbl>\u001b[39m\u001b[23m 0.34508551, 0.07700825, 0.12420792, 0.35309699, 0.1280…\n",
      "$ t7_1            \u001b[3m\u001b[90m<dbl>\u001b[39m\u001b[23m 0.04090796, 0.08494593, 0.07195008, 0.04949630, 0.0715…\n",
      "$ t8_1            \u001b[3m\u001b[90m<dbl>\u001b[39m\u001b[23m 0.02880326, 0.07576304, 0.06532400, 0.04323113, 0.0626…\n",
      "$ t9_1            \u001b[3m\u001b[90m<dbl>\u001b[39m\u001b[23m 0.2685716, 0.6368488, 0.6031800, 0.5672350, 0.5862647,…\n",
      "$ t10_1           \u001b[3m\u001b[90m<dbl>\u001b[39m\u001b[23m 0.16656066, 0.08377987, 0.08766432, 0.12302998, 0.0851…\n",
      "$ t11_1           \u001b[3m\u001b[90m<dbl>\u001b[39m\u001b[23m 0.4723181, 0.5083022, 0.5262385, 0.5410470, 0.5028547,…\n",
      "$ t12_1           \u001b[3m\u001b[90m<dbl>\u001b[39m\u001b[23m 0.5637381, 0.5548573, 0.5770966, 0.6171510, 0.5490471,…\n",
      "$ area            \u001b[3m\u001b[90m<dbl>\u001b[39m\u001b[23m 1571618.8, 771569.7, 854805.6, 547596.1, 35137989.9, 6…\n",
      "$ densidad_hab_km \u001b[3m\u001b[90m<dbl>\u001b[39m\u001b[23m 19007.1534, 23278.5190, 33847.4619, 39067.1135, 775.77…\n"
     ]
    }
   ],
   "source": [
    "data_03 |> glimpse()"
   ]
  },
  {
   "cell_type": "markdown",
   "metadata": {},
   "source": [
    "Muestra de datos:"
   ]
  },
  {
   "cell_type": "code",
   "execution_count": 17,
   "metadata": {
    "vscode": {
     "languageId": "r"
    }
   },
   "outputs": [
    {
     "data": {
      "text/html": [
       "<table class=\"dataframe\">\n",
       "<caption>A tibble: 5 x 20</caption>\n",
       "<thead>\n",
       "\t<tr><th scope=col>id_zona</th><th scope=col>nombre_zona</th><th scope=col>nsec</th><th scope=col>t3_1</th><th scope=col>t1_1</th><th scope=col>t2_1</th><th scope=col>t2_2</th><th scope=col>t4_1</th><th scope=col>t4_2</th><th scope=col>t4_3</th><th scope=col>t5_1</th><th scope=col>t6_1</th><th scope=col>t7_1</th><th scope=col>t8_1</th><th scope=col>t9_1</th><th scope=col>t10_1</th><th scope=col>t11_1</th><th scope=col>t12_1</th><th scope=col>area</th><th scope=col>densidad_hab_km</th></tr>\n",
       "\t<tr><th scope=col>&lt;chr&gt;</th><th scope=col>&lt;chr&gt;</th><th scope=col>&lt;dbl&gt;</th><th scope=col>&lt;dbl&gt;</th><th scope=col>&lt;dbl&gt;</th><th scope=col>&lt;dbl&gt;</th><th scope=col>&lt;dbl&gt;</th><th scope=col>&lt;dbl&gt;</th><th scope=col>&lt;dbl&gt;</th><th scope=col>&lt;dbl&gt;</th><th scope=col>&lt;dbl&gt;</th><th scope=col>&lt;dbl&gt;</th><th scope=col>&lt;dbl&gt;</th><th scope=col>&lt;dbl&gt;</th><th scope=col>&lt;dbl&gt;</th><th scope=col>&lt;dbl&gt;</th><th scope=col>&lt;dbl&gt;</th><th scope=col>&lt;dbl&gt;</th><th scope=col>&lt;dbl&gt;</th><th scope=col>&lt;dbl&gt;</th></tr>\n",
       "</thead>\n",
       "<tbody>\n",
       "\t<tr><td>001</td><td>Abrantes        </td><td>23</td><td>42.31249</td><td>29872</td><td>0.5345094</td><td>0.4654906</td><td>0.15619346</td><td>0.6656459</td><td>0.1781619</td><td>0.21839930</td><td>0.34508551</td><td>0.04090796</td><td>0.02880326</td><td>0.2685716</td><td>0.16656066</td><td>0.4723181</td><td>0.5637381</td><td> 1571618.8</td><td>19007.15</td></tr>\n",
       "\t<tr><td>002</td><td>Acacias         </td><td>11</td><td>46.15717</td><td>17961</td><td>0.5328775</td><td>0.4671225</td><td>0.10929873</td><td>0.6516215</td><td>0.2390941</td><td>0.04313645</td><td>0.07700825</td><td>0.08494593</td><td>0.07576304</td><td>0.6368488</td><td>0.08377987</td><td>0.5083022</td><td>0.5548573</td><td>  771569.7</td><td>23278.52</td></tr>\n",
       "\t<tr><td>003</td><td>Adelfas         </td><td>19</td><td>45.30472</td><td>28933</td><td>0.5383134</td><td>0.4616866</td><td>0.12408817</td><td>0.6541986</td><td>0.2217328</td><td>0.07236948</td><td>0.12420792</td><td>0.07195008</td><td>0.06532400</td><td>0.6031800</td><td>0.08766432</td><td>0.5262385</td><td>0.5770966</td><td>  854805.6</td><td>33847.46</td></tr>\n",
       "\t<tr><td>004</td><td>Alameda         </td><td>18</td><td>43.70575</td><td>21393</td><td>0.4919805</td><td>0.5080195</td><td>0.07409008</td><td>0.7685363</td><td>0.1574029</td><td>0.26145728</td><td>0.35309699</td><td>0.04949630</td><td>0.04323113</td><td>0.5672350</td><td>0.12302998</td><td>0.5410470</td><td>0.6171510</td><td>  547596.1</td><td>39067.11</td></tr>\n",
       "\t<tr><td>005</td><td>Alameda de Osuna</td><td>18</td><td>43.31968</td><td>27259</td><td>0.5153616</td><td>0.4846384</td><td>0.17427654</td><td>0.6063697</td><td>0.2193419</td><td>0.07059011</td><td>0.12803028</td><td>0.07156026</td><td>0.06267665</td><td>0.5862647</td><td>0.08518132</td><td>0.5028547</td><td>0.5490471</td><td>35137989.9</td><td>  775.77</td></tr>\n",
       "</tbody>\n",
       "</table>\n"
      ],
      "text/latex": [
       "A tibble: 5 x 20\n",
       "\\begin{tabular}{llllllllllllllllllll}\n",
       " id\\_zona & nombre\\_zona & nsec & t3\\_1 & t1\\_1 & t2\\_1 & t2\\_2 & t4\\_1 & t4\\_2 & t4\\_3 & t5\\_1 & t6\\_1 & t7\\_1 & t8\\_1 & t9\\_1 & t10\\_1 & t11\\_1 & t12\\_1 & area & densidad\\_hab\\_km\\\\\n",
       " <chr> & <chr> & <dbl> & <dbl> & <dbl> & <dbl> & <dbl> & <dbl> & <dbl> & <dbl> & <dbl> & <dbl> & <dbl> & <dbl> & <dbl> & <dbl> & <dbl> & <dbl> & <dbl> & <dbl>\\\\\n",
       "\\hline\n",
       "\t 001 & Abrantes         & 23 & 42.31249 & 29872 & 0.5345094 & 0.4654906 & 0.15619346 & 0.6656459 & 0.1781619 & 0.21839930 & 0.34508551 & 0.04090796 & 0.02880326 & 0.2685716 & 0.16656066 & 0.4723181 & 0.5637381 &  1571618.8 & 19007.15\\\\\n",
       "\t 002 & Acacias          & 11 & 46.15717 & 17961 & 0.5328775 & 0.4671225 & 0.10929873 & 0.6516215 & 0.2390941 & 0.04313645 & 0.07700825 & 0.08494593 & 0.07576304 & 0.6368488 & 0.08377987 & 0.5083022 & 0.5548573 &   771569.7 & 23278.52\\\\\n",
       "\t 003 & Adelfas          & 19 & 45.30472 & 28933 & 0.5383134 & 0.4616866 & 0.12408817 & 0.6541986 & 0.2217328 & 0.07236948 & 0.12420792 & 0.07195008 & 0.06532400 & 0.6031800 & 0.08766432 & 0.5262385 & 0.5770966 &   854805.6 & 33847.46\\\\\n",
       "\t 004 & Alameda          & 18 & 43.70575 & 21393 & 0.4919805 & 0.5080195 & 0.07409008 & 0.7685363 & 0.1574029 & 0.26145728 & 0.35309699 & 0.04949630 & 0.04323113 & 0.5672350 & 0.12302998 & 0.5410470 & 0.6171510 &   547596.1 & 39067.11\\\\\n",
       "\t 005 & Alameda de Osuna & 18 & 43.31968 & 27259 & 0.5153616 & 0.4846384 & 0.17427654 & 0.6063697 & 0.2193419 & 0.07059011 & 0.12803028 & 0.07156026 & 0.06267665 & 0.5862647 & 0.08518132 & 0.5028547 & 0.5490471 & 35137989.9 &   775.77\\\\\n",
       "\\end{tabular}\n"
      ],
      "text/markdown": [
       "\n",
       "A tibble: 5 x 20\n",
       "\n",
       "| id_zona &lt;chr&gt; | nombre_zona &lt;chr&gt; | nsec &lt;dbl&gt; | t3_1 &lt;dbl&gt; | t1_1 &lt;dbl&gt; | t2_1 &lt;dbl&gt; | t2_2 &lt;dbl&gt; | t4_1 &lt;dbl&gt; | t4_2 &lt;dbl&gt; | t4_3 &lt;dbl&gt; | t5_1 &lt;dbl&gt; | t6_1 &lt;dbl&gt; | t7_1 &lt;dbl&gt; | t8_1 &lt;dbl&gt; | t9_1 &lt;dbl&gt; | t10_1 &lt;dbl&gt; | t11_1 &lt;dbl&gt; | t12_1 &lt;dbl&gt; | area &lt;dbl&gt; | densidad_hab_km &lt;dbl&gt; |\n",
       "|---|---|---|---|---|---|---|---|---|---|---|---|---|---|---|---|---|---|---|---|\n",
       "| 001 | Abrantes         | 23 | 42.31249 | 29872 | 0.5345094 | 0.4654906 | 0.15619346 | 0.6656459 | 0.1781619 | 0.21839930 | 0.34508551 | 0.04090796 | 0.02880326 | 0.2685716 | 0.16656066 | 0.4723181 | 0.5637381 |  1571618.8 | 19007.15 |\n",
       "| 002 | Acacias          | 11 | 46.15717 | 17961 | 0.5328775 | 0.4671225 | 0.10929873 | 0.6516215 | 0.2390941 | 0.04313645 | 0.07700825 | 0.08494593 | 0.07576304 | 0.6368488 | 0.08377987 | 0.5083022 | 0.5548573 |   771569.7 | 23278.52 |\n",
       "| 003 | Adelfas          | 19 | 45.30472 | 28933 | 0.5383134 | 0.4616866 | 0.12408817 | 0.6541986 | 0.2217328 | 0.07236948 | 0.12420792 | 0.07195008 | 0.06532400 | 0.6031800 | 0.08766432 | 0.5262385 | 0.5770966 |   854805.6 | 33847.46 |\n",
       "| 004 | Alameda          | 18 | 43.70575 | 21393 | 0.4919805 | 0.5080195 | 0.07409008 | 0.7685363 | 0.1574029 | 0.26145728 | 0.35309699 | 0.04949630 | 0.04323113 | 0.5672350 | 0.12302998 | 0.5410470 | 0.6171510 |   547596.1 | 39067.11 |\n",
       "| 005 | Alameda de Osuna | 18 | 43.31968 | 27259 | 0.5153616 | 0.4846384 | 0.17427654 | 0.6063697 | 0.2193419 | 0.07059011 | 0.12803028 | 0.07156026 | 0.06267665 | 0.5862647 | 0.08518132 | 0.5028547 | 0.5490471 | 35137989.9 |   775.77 |\n",
       "\n"
      ],
      "text/plain": [
       "  id_zona nombre_zona      nsec t3_1     t1_1  t2_1      t2_2      t4_1      \n",
       "1 001     Abrantes         23   42.31249 29872 0.5345094 0.4654906 0.15619346\n",
       "2 002     Acacias          11   46.15717 17961 0.5328775 0.4671225 0.10929873\n",
       "3 003     Adelfas          19   45.30472 28933 0.5383134 0.4616866 0.12408817\n",
       "4 004     Alameda          18   43.70575 21393 0.4919805 0.5080195 0.07409008\n",
       "5 005     Alameda de Osuna 18   43.31968 27259 0.5153616 0.4846384 0.17427654\n",
       "  t4_2      t4_3      t5_1       t6_1       t7_1       t8_1       t9_1     \n",
       "1 0.6656459 0.1781619 0.21839930 0.34508551 0.04090796 0.02880326 0.2685716\n",
       "2 0.6516215 0.2390941 0.04313645 0.07700825 0.08494593 0.07576304 0.6368488\n",
       "3 0.6541986 0.2217328 0.07236948 0.12420792 0.07195008 0.06532400 0.6031800\n",
       "4 0.7685363 0.1574029 0.26145728 0.35309699 0.04949630 0.04323113 0.5672350\n",
       "5 0.6063697 0.2193419 0.07059011 0.12803028 0.07156026 0.06267665 0.5862647\n",
       "  t10_1      t11_1     t12_1     area       densidad_hab_km\n",
       "1 0.16656066 0.4723181 0.5637381  1571618.8 19007.15       \n",
       "2 0.08377987 0.5083022 0.5548573   771569.7 23278.52       \n",
       "3 0.08766432 0.5262385 0.5770966   854805.6 33847.46       \n",
       "4 0.12302998 0.5410470 0.6171510   547596.1 39067.11       \n",
       "5 0.08518132 0.5028547 0.5490471 35137989.9   775.77       "
      ]
     },
     "metadata": {},
     "output_type": "display_data"
    }
   ],
   "source": [
    "data_03 |> tibble() |> slice_head(n = 5)"
   ]
  },
  {
   "cell_type": "markdown",
   "metadata": {
    "slideshow": {
     "slide_type": "slide"
    }
   },
   "source": [
    "## ETL Processes"
   ]
  },
  {
   "attachments": {},
   "cell_type": "markdown",
   "metadata": {
    "slideshow": {
     "slide_type": "slide"
    }
   },
   "source": [
    "### Import data from: CSV, Excel, Tab, JSON, SQL, and Parquet files\n",
    "\n",
    "Se han importado en el apartado Data Load anterior:\n",
    "\n",
    "* Zonas básicas de salud\n",
    "* Áreas sanitarias\n",
    "* Indicadores del INE por zona básica"
   ]
  },
  {
   "attachments": {},
   "cell_type": "markdown",
   "metadata": {},
   "source": [
    "Incluir apartados si procede para: Extracción de datos (select, filter), Transformación de datos, (mutate, joins, ...). Si es necesario tratar datos perdidos, indicarlo también en NB 09.2"
   ]
  },
  {
   "attachments": {},
   "cell_type": "markdown",
   "metadata": {},
   "source": [
    "Si no aplica: Estos datos no requieren tareas de este tipo."
   ]
  },
  {
   "attachments": {},
   "cell_type": "markdown",
   "metadata": {},
   "source": [
    "#### Data transformation\n",
    "\n",
    "* Asignar área sanitaria a cada una de las zonas básicas de salud"
   ]
  },
  {
   "cell_type": "code",
   "execution_count": 18,
   "metadata": {
    "vscode": {
     "languageId": "r"
    }
   },
   "outputs": [
    {
     "name": "stderr",
     "output_type": "stream",
     "text": [
      "Warning message:\n",
      "“attribute variables are assumed to be spatially constant throughout all geometries”\n"
     ]
    }
   ],
   "source": [
    "tdata_01 <- data_01 |> \n",
    "  select(id_zona = GEOCODIGO,\n",
    "         nombre_zona = DESBDT) |> \n",
    "  st_join(data_02 |> \n",
    "            select(id_area = GEOCODIGO,\n",
    "                   nombre_area = DESBDT),\n",
    "          largest = TRUE) |> \n",
    "  st_drop_geometry()"
   ]
  },
  {
   "cell_type": "code",
   "execution_count": 19,
   "metadata": {
    "vscode": {
     "languageId": "r"
    }
   },
   "outputs": [
    {
     "name": "stdout",
     "output_type": "stream",
     "text": [
      "Rows: 286\n",
      "Columns: 4\n",
      "$ id_zona     \u001b[3m\u001b[90m<chr>\u001b[39m\u001b[23m \"001\", \"002\", \"003\", \"004\", \"005\", \"006\", \"007\", \"008\", \"0…\n",
      "$ nombre_zona \u001b[3m\u001b[90m<chr>\u001b[39m\u001b[23m \"Abrantes\", \"Acacias\", \"Adelfas\", \"Alameda\", \"Alameda de O…\n",
      "$ id_area     \u001b[3m\u001b[90m<chr>\u001b[39m\u001b[23m \"11\", \"11\", \"01\", \"07\", \"04\", \"08\", \"01\", \"05\", \"11\", \"05\"…\n",
      "$ nombre_area \u001b[3m\u001b[90m<chr>\u001b[39m\u001b[23m \"Sur Ii\", \"Sur Ii\", \"Sur-Este\", \"Centro-Oeste\", \"Noreste\",…\n"
     ]
    }
   ],
   "source": [
    "glimpse(tdata_01)"
   ]
  },
  {
   "cell_type": "code",
   "execution_count": 20,
   "metadata": {
    "vscode": {
     "languageId": "r"
    }
   },
   "outputs": [
    {
     "data": {
      "text/html": [
       "<table class=\"dataframe\">\n",
       "<caption>A data.frame: 5 x 4</caption>\n",
       "<thead>\n",
       "\t<tr><th scope=col>id_zona</th><th scope=col>nombre_zona</th><th scope=col>id_area</th><th scope=col>nombre_area</th></tr>\n",
       "\t<tr><th scope=col>&lt;chr&gt;</th><th scope=col>&lt;chr&gt;</th><th scope=col>&lt;chr&gt;</th><th scope=col>&lt;chr&gt;</th></tr>\n",
       "</thead>\n",
       "<tbody>\n",
       "\t<tr><td>001</td><td>Abrantes        </td><td>11</td><td>Sur Ii      </td></tr>\n",
       "\t<tr><td>002</td><td>Acacias         </td><td>11</td><td>Sur Ii      </td></tr>\n",
       "\t<tr><td>003</td><td>Adelfas         </td><td>01</td><td>Sur-Este    </td></tr>\n",
       "\t<tr><td>004</td><td>Alameda         </td><td>07</td><td>Centro-Oeste</td></tr>\n",
       "\t<tr><td>005</td><td>Alameda de Osuna</td><td>04</td><td>Noreste     </td></tr>\n",
       "</tbody>\n",
       "</table>\n"
      ],
      "text/latex": [
       "A data.frame: 5 x 4\n",
       "\\begin{tabular}{llll}\n",
       " id\\_zona & nombre\\_zona & id\\_area & nombre\\_area\\\\\n",
       " <chr> & <chr> & <chr> & <chr>\\\\\n",
       "\\hline\n",
       "\t 001 & Abrantes         & 11 & Sur Ii      \\\\\n",
       "\t 002 & Acacias          & 11 & Sur Ii      \\\\\n",
       "\t 003 & Adelfas          & 01 & Sur-Este    \\\\\n",
       "\t 004 & Alameda          & 07 & Centro-Oeste\\\\\n",
       "\t 005 & Alameda de Osuna & 04 & Noreste     \\\\\n",
       "\\end{tabular}\n"
      ],
      "text/markdown": [
       "\n",
       "A data.frame: 5 x 4\n",
       "\n",
       "| id_zona &lt;chr&gt; | nombre_zona &lt;chr&gt; | id_area &lt;chr&gt; | nombre_area &lt;chr&gt; |\n",
       "|---|---|---|---|\n",
       "| 001 | Abrantes         | 11 | Sur Ii       |\n",
       "| 002 | Acacias          | 11 | Sur Ii       |\n",
       "| 003 | Adelfas          | 01 | Sur-Este     |\n",
       "| 004 | Alameda          | 07 | Centro-Oeste |\n",
       "| 005 | Alameda de Osuna | 04 | Noreste      |\n",
       "\n"
      ],
      "text/plain": [
       "  id_zona nombre_zona      id_area nombre_area \n",
       "1 001     Abrantes         11      Sur Ii      \n",
       "2 002     Acacias          11      Sur Ii      \n",
       "3 003     Adelfas          01      Sur-Este    \n",
       "4 004     Alameda          07      Centro-Oeste\n",
       "5 005     Alameda de Osuna 04      Noreste     "
      ]
     },
     "metadata": {},
     "output_type": "display_data"
    }
   ],
   "source": [
    "tdata_01 |> slice_head(n = 5)"
   ]
  },
  {
   "attachments": {},
   "cell_type": "markdown",
   "metadata": {},
   "source": [
    "* Añadir información del área sanitaria a la tabla de indicadores y agregar por área"
   ]
  },
  {
   "attachments": {},
   "cell_type": "markdown",
   "metadata": {},
   "source": [
    "Los datos están en porcentajes y tenemos población total. Calculamos porcentajes globales multiplicando por la población de cada zona sanitaria, sumando población de la variable y dividiendo por la suma de la población total en el área."
   ]
  },
  {
   "cell_type": "code",
   "execution_count": 31,
   "metadata": {
    "vscode": {
     "languageId": "r"
    }
   },
   "outputs": [],
   "source": [
    "tdata_03 <- data_03 |>\n",
    "    inner_join(tdata_01, by = c(\"id_zona\", \"nombre_zona\")) |>\n",
    "    mutate(across(c(t2_1:t2_2, t4_1:t12_1), ~ .x*t1_1)) |> \n",
    "    group_by(id_area, nombre_area) |> \n",
    "    summarise(t3_1 = weighted.mean(x = t3_1, w = t1_1, na.rm = TRUE),\n",
    "            t1_1 = sum(t1_1, na.rm = TRUE),\n",
    "            across(c(t2_1:t2_2, t4_1:t12_1), ~sum(.x, na.rm = TRUE)/sum(t1_1, na.rm = TRUE)),\n",
    "            .groups = \"keep\")"
   ]
  },
  {
   "cell_type": "code",
   "execution_count": 33,
   "metadata": {
    "vscode": {
     "languageId": "r"
    }
   },
   "outputs": [
    {
     "name": "stdout",
     "output_type": "stream",
     "text": [
      "Rows: 11\n",
      "Columns: 17\n",
      "Groups: id_area, nombre_area [11]\n",
      "$ id_area     \u001b[3m\u001b[90m<chr>\u001b[39m\u001b[23m \"01\", \"02\", \"03\", \"04\", \"05\", \"06\", \"07\", \"08\", \"09\", \"10\"…\n",
      "$ nombre_area \u001b[3m\u001b[90m<chr>\u001b[39m\u001b[23m \"Sur-Este\", \"Centro-Norte\", \"Este\", \"Noreste\", \"Norte\", \"O…\n",
      "$ t3_1        \u001b[3m\u001b[90m<dbl>\u001b[39m\u001b[23m 41.89330, 44.85910, 41.16384, 43.50412, 41.38840, 40.89333…\n",
      "$ t1_1        \u001b[3m\u001b[90m<dbl>\u001b[39m\u001b[23m 862340, 404085, 383079, 615157, 912485, 763506, 511605, 53…\n",
      "$ t2_1        \u001b[3m\u001b[90m<dbl>\u001b[39m\u001b[23m 0.5207432, 0.5419660, 0.5091281, 0.5321335, 0.5202002, 0.5…\n",
      "$ t2_2        \u001b[3m\u001b[90m<dbl>\u001b[39m\u001b[23m 0.4792568, 0.4580340, 0.4908719, 0.4678665, 0.4791324, 0.4…\n",
      "$ t4_1        \u001b[3m\u001b[90m<dbl>\u001b[39m\u001b[23m 0.1585425, 0.1293202, 0.1671827, 0.1495244, 0.1700457, 0.1…\n",
      "$ t4_2        \u001b[3m\u001b[90m<dbl>\u001b[39m\u001b[23m 0.6732152, 0.6456867, 0.6697046, 0.6530478, 0.6590844, 0.6…\n",
      "$ t4_3        \u001b[3m\u001b[90m<dbl>\u001b[39m\u001b[23m 0.1682410, 0.2249913, 0.1631133, 0.1974297, 0.1702033, 0.1…\n",
      "$ t5_1        \u001b[3m\u001b[90m<dbl>\u001b[39m\u001b[23m 0.1399664, 0.1279791, 0.1520691, 0.1266269, 0.1248427, 0.1…\n",
      "$ t6_1        \u001b[3m\u001b[90m<dbl>\u001b[39m\u001b[23m 0.2042778, 0.1854376, 0.1903965, 0.2132414, 0.1950003, 0.1…\n",
      "$ t7_1        \u001b[3m\u001b[90m<dbl>\u001b[39m\u001b[23m 0.05120722, 0.05930819, 0.05762767, 0.05909755, 0.06406634…\n",
      "$ t8_1        \u001b[3m\u001b[90m<dbl>\u001b[39m\u001b[23m 0.03895576, 0.05200647, 0.04557209, 0.04845935, 0.05318346…\n",
      "$ t9_1        \u001b[3m\u001b[90m<dbl>\u001b[39m\u001b[23m 0.3600324, 0.5572380, 0.3196460, 0.4600102, 0.4872258, 0.5…\n",
      "$ t10_1       \u001b[3m\u001b[90m<dbl>\u001b[39m\u001b[23m 0.14408131, 0.09486110, 0.14520694, 0.11547830, 0.10328147…\n",
      "$ t11_1       \u001b[3m\u001b[90m<dbl>\u001b[39m\u001b[23m 0.5193163, 0.5069128, 0.5250289, 0.5117620, 0.5420084, 0.5…\n",
      "$ t12_1       \u001b[3m\u001b[90m<dbl>\u001b[39m\u001b[23m 0.6047756, 0.5605799, 0.6109222, 0.5773072, 0.6035461, 0.5…\n"
     ]
    }
   ],
   "source": [
    "glimpse(tdata_03)"
   ]
  },
  {
   "cell_type": "code",
   "execution_count": 35,
   "metadata": {
    "vscode": {
     "languageId": "r"
    }
   },
   "outputs": [
    {
     "data": {
      "text/html": [
       "<table class=\"dataframe\">\n",
       "<caption>A grouped_df: 11 x 17</caption>\n",
       "<thead>\n",
       "\t<tr><th scope=col>id_area</th><th scope=col>nombre_area</th><th scope=col>t3_1</th><th scope=col>t1_1</th><th scope=col>t2_1</th><th scope=col>t2_2</th><th scope=col>t4_1</th><th scope=col>t4_2</th><th scope=col>t4_3</th><th scope=col>t5_1</th><th scope=col>t6_1</th><th scope=col>t7_1</th><th scope=col>t8_1</th><th scope=col>t9_1</th><th scope=col>t10_1</th><th scope=col>t11_1</th><th scope=col>t12_1</th></tr>\n",
       "\t<tr><th scope=col>&lt;chr&gt;</th><th scope=col>&lt;chr&gt;</th><th scope=col>&lt;dbl&gt;</th><th scope=col>&lt;dbl&gt;</th><th scope=col>&lt;dbl&gt;</th><th scope=col>&lt;dbl&gt;</th><th scope=col>&lt;dbl&gt;</th><th scope=col>&lt;dbl&gt;</th><th scope=col>&lt;dbl&gt;</th><th scope=col>&lt;dbl&gt;</th><th scope=col>&lt;dbl&gt;</th><th scope=col>&lt;dbl&gt;</th><th scope=col>&lt;dbl&gt;</th><th scope=col>&lt;dbl&gt;</th><th scope=col>&lt;dbl&gt;</th><th scope=col>&lt;dbl&gt;</th><th scope=col>&lt;dbl&gt;</th></tr>\n",
       "</thead>\n",
       "<tbody>\n",
       "\t<tr><td>01</td><td>Sur-Este    </td><td>41.89330</td><td>862340</td><td>0.5207432</td><td>0.4792568</td><td>0.1585425</td><td>0.6732152</td><td>0.1682410</td><td>0.1399664</td><td>0.2042778</td><td>0.05120722</td><td>0.03895576</td><td>0.3600324</td><td>0.14408131</td><td>0.5193163</td><td>0.6047756</td></tr>\n",
       "\t<tr><td>02</td><td>Centro-Norte</td><td>44.85910</td><td>404085</td><td>0.5419660</td><td>0.4580340</td><td>0.1293202</td><td>0.6456867</td><td>0.2249913</td><td>0.1279791</td><td>0.1854376</td><td>0.05930819</td><td>0.05200647</td><td>0.5572380</td><td>0.09486110</td><td>0.5069128</td><td>0.5605799</td></tr>\n",
       "\t<tr><td>03</td><td>Este        </td><td>41.16384</td><td>383079</td><td>0.5091281</td><td>0.4908719</td><td>0.1671827</td><td>0.6697046</td><td>0.1631133</td><td>0.1520691</td><td>0.1903965</td><td>0.05762767</td><td>0.04557209</td><td>0.3196460</td><td>0.14520694</td><td>0.5250289</td><td>0.6109222</td></tr>\n",
       "\t<tr><td>04</td><td>Noreste     </td><td>43.50412</td><td>615157</td><td>0.5321335</td><td>0.4678665</td><td>0.1495244</td><td>0.6530478</td><td>0.1974297</td><td>0.1266269</td><td>0.2132414</td><td>0.05909755</td><td>0.04845935</td><td>0.4600102</td><td>0.11547830</td><td>0.5117620</td><td>0.5773072</td></tr>\n",
       "\t<tr><td>05</td><td>Norte       </td><td>41.38840</td><td>912485</td><td>0.5202002</td><td>0.4791324</td><td>0.1700457</td><td>0.6590844</td><td>0.1702033</td><td>0.1248427</td><td>0.1950003</td><td>0.06406634</td><td>0.05318346</td><td>0.4872258</td><td>0.10328147</td><td>0.5420084</td><td>0.6035461</td></tr>\n",
       "\t<tr><td>06</td><td>Oeste       </td><td>40.89333</td><td>763506</td><td>0.5178944</td><td>0.4821056</td><td>0.1769738</td><td>0.6633208</td><td>0.1597055</td><td>0.1119559</td><td>0.1746908</td><td>0.07914931</td><td>0.06776101</td><td>0.5436140</td><td>0.09555284</td><td>0.5306462</td><td>0.5866625</td></tr>\n",
       "\t<tr><td>07</td><td>Centro-Oeste</td><td>45.37878</td><td>511605</td><td>0.5296804</td><td>0.4703198</td><td>0.1054260</td><td>0.6742432</td><td>0.2203341</td><td>0.1744493</td><td>0.2629599</td><td>0.05481008</td><td>0.04653221</td><td>0.4914365</td><td>0.12170996</td><td>0.4915713</td><td>0.5597213</td></tr>\n",
       "\t<tr><td>08</td><td>Sur-Oeste I </td><td>42.34715</td><td>532487</td><td>0.5122493</td><td>0.4877507</td><td>0.1659665</td><td>0.6371549</td><td>0.1968769</td><td>0.1137647</td><td>0.1604646</td><td>0.05422176</td><td>0.04120012</td><td>0.3348780</td><td>0.13692541</td><td>0.5072726</td><td>0.5849309</td></tr>\n",
       "\t<tr><td>09</td><td>Sur-Oeste Ii</td><td>42.05168</td><td>406320</td><td>0.5116119</td><td>0.4883883</td><td>0.1603501</td><td>0.6601574</td><td>0.1794920</td><td>0.1081656</td><td>0.1496618</td><td>0.04877362</td><td>0.03389699</td><td>0.2451744</td><td>0.14635786</td><td>0.5110124</td><td>0.5961539</td></tr>\n",
       "\t<tr><td>10</td><td>Sur I       </td><td>40.02239</td><td>409470</td><td>0.5067508</td><td>0.4932492</td><td>0.1863513</td><td>0.6575916</td><td>0.1560598</td><td>0.1472016</td><td>0.1874407</td><td>0.04712095</td><td>0.03387377</td><td>0.2954386</td><td>0.14334971</td><td>0.5367268</td><td>0.6222363</td></tr>\n",
       "\t<tr><td>11</td><td>Sur Ii      </td><td>42.06149</td><td>899702</td><td>0.5240445</td><td>0.4759555</td><td>0.1540793</td><td>0.6753787</td><td>0.1705449</td><td>0.1747059</td><td>0.2641879</td><td>0.04898547</td><td>0.03679912</td><td>0.3346063</td><td>0.15173209</td><td>0.5024130</td><td>0.5900028</td></tr>\n",
       "</tbody>\n",
       "</table>\n"
      ],
      "text/latex": [
       "A grouped\\_df: 11 x 17\n",
       "\\begin{tabular}{lllllllllllllllll}\n",
       " id\\_area & nombre\\_area & t3\\_1 & t1\\_1 & t2\\_1 & t2\\_2 & t4\\_1 & t4\\_2 & t4\\_3 & t5\\_1 & t6\\_1 & t7\\_1 & t8\\_1 & t9\\_1 & t10\\_1 & t11\\_1 & t12\\_1\\\\\n",
       " <chr> & <chr> & <dbl> & <dbl> & <dbl> & <dbl> & <dbl> & <dbl> & <dbl> & <dbl> & <dbl> & <dbl> & <dbl> & <dbl> & <dbl> & <dbl> & <dbl>\\\\\n",
       "\\hline\n",
       "\t 01 & Sur-Este     & 41.89330 & 862340 & 0.5207432 & 0.4792568 & 0.1585425 & 0.6732152 & 0.1682410 & 0.1399664 & 0.2042778 & 0.05120722 & 0.03895576 & 0.3600324 & 0.14408131 & 0.5193163 & 0.6047756\\\\\n",
       "\t 02 & Centro-Norte & 44.85910 & 404085 & 0.5419660 & 0.4580340 & 0.1293202 & 0.6456867 & 0.2249913 & 0.1279791 & 0.1854376 & 0.05930819 & 0.05200647 & 0.5572380 & 0.09486110 & 0.5069128 & 0.5605799\\\\\n",
       "\t 03 & Este         & 41.16384 & 383079 & 0.5091281 & 0.4908719 & 0.1671827 & 0.6697046 & 0.1631133 & 0.1520691 & 0.1903965 & 0.05762767 & 0.04557209 & 0.3196460 & 0.14520694 & 0.5250289 & 0.6109222\\\\\n",
       "\t 04 & Noreste      & 43.50412 & 615157 & 0.5321335 & 0.4678665 & 0.1495244 & 0.6530478 & 0.1974297 & 0.1266269 & 0.2132414 & 0.05909755 & 0.04845935 & 0.4600102 & 0.11547830 & 0.5117620 & 0.5773072\\\\\n",
       "\t 05 & Norte        & 41.38840 & 912485 & 0.5202002 & 0.4791324 & 0.1700457 & 0.6590844 & 0.1702033 & 0.1248427 & 0.1950003 & 0.06406634 & 0.05318346 & 0.4872258 & 0.10328147 & 0.5420084 & 0.6035461\\\\\n",
       "\t 06 & Oeste        & 40.89333 & 763506 & 0.5178944 & 0.4821056 & 0.1769738 & 0.6633208 & 0.1597055 & 0.1119559 & 0.1746908 & 0.07914931 & 0.06776101 & 0.5436140 & 0.09555284 & 0.5306462 & 0.5866625\\\\\n",
       "\t 07 & Centro-Oeste & 45.37878 & 511605 & 0.5296804 & 0.4703198 & 0.1054260 & 0.6742432 & 0.2203341 & 0.1744493 & 0.2629599 & 0.05481008 & 0.04653221 & 0.4914365 & 0.12170996 & 0.4915713 & 0.5597213\\\\\n",
       "\t 08 & Sur-Oeste I  & 42.34715 & 532487 & 0.5122493 & 0.4877507 & 0.1659665 & 0.6371549 & 0.1968769 & 0.1137647 & 0.1604646 & 0.05422176 & 0.04120012 & 0.3348780 & 0.13692541 & 0.5072726 & 0.5849309\\\\\n",
       "\t 09 & Sur-Oeste Ii & 42.05168 & 406320 & 0.5116119 & 0.4883883 & 0.1603501 & 0.6601574 & 0.1794920 & 0.1081656 & 0.1496618 & 0.04877362 & 0.03389699 & 0.2451744 & 0.14635786 & 0.5110124 & 0.5961539\\\\\n",
       "\t 10 & Sur I        & 40.02239 & 409470 & 0.5067508 & 0.4932492 & 0.1863513 & 0.6575916 & 0.1560598 & 0.1472016 & 0.1874407 & 0.04712095 & 0.03387377 & 0.2954386 & 0.14334971 & 0.5367268 & 0.6222363\\\\\n",
       "\t 11 & Sur Ii       & 42.06149 & 899702 & 0.5240445 & 0.4759555 & 0.1540793 & 0.6753787 & 0.1705449 & 0.1747059 & 0.2641879 & 0.04898547 & 0.03679912 & 0.3346063 & 0.15173209 & 0.5024130 & 0.5900028\\\\\n",
       "\\end{tabular}\n"
      ],
      "text/markdown": [
       "\n",
       "A grouped_df: 11 x 17\n",
       "\n",
       "| id_area &lt;chr&gt; | nombre_area &lt;chr&gt; | t3_1 &lt;dbl&gt; | t1_1 &lt;dbl&gt; | t2_1 &lt;dbl&gt; | t2_2 &lt;dbl&gt; | t4_1 &lt;dbl&gt; | t4_2 &lt;dbl&gt; | t4_3 &lt;dbl&gt; | t5_1 &lt;dbl&gt; | t6_1 &lt;dbl&gt; | t7_1 &lt;dbl&gt; | t8_1 &lt;dbl&gt; | t9_1 &lt;dbl&gt; | t10_1 &lt;dbl&gt; | t11_1 &lt;dbl&gt; | t12_1 &lt;dbl&gt; |\n",
       "|---|---|---|---|---|---|---|---|---|---|---|---|---|---|---|---|---|\n",
       "| 01 | Sur-Este     | 41.89330 | 862340 | 0.5207432 | 0.4792568 | 0.1585425 | 0.6732152 | 0.1682410 | 0.1399664 | 0.2042778 | 0.05120722 | 0.03895576 | 0.3600324 | 0.14408131 | 0.5193163 | 0.6047756 |\n",
       "| 02 | Centro-Norte | 44.85910 | 404085 | 0.5419660 | 0.4580340 | 0.1293202 | 0.6456867 | 0.2249913 | 0.1279791 | 0.1854376 | 0.05930819 | 0.05200647 | 0.5572380 | 0.09486110 | 0.5069128 | 0.5605799 |\n",
       "| 03 | Este         | 41.16384 | 383079 | 0.5091281 | 0.4908719 | 0.1671827 | 0.6697046 | 0.1631133 | 0.1520691 | 0.1903965 | 0.05762767 | 0.04557209 | 0.3196460 | 0.14520694 | 0.5250289 | 0.6109222 |\n",
       "| 04 | Noreste      | 43.50412 | 615157 | 0.5321335 | 0.4678665 | 0.1495244 | 0.6530478 | 0.1974297 | 0.1266269 | 0.2132414 | 0.05909755 | 0.04845935 | 0.4600102 | 0.11547830 | 0.5117620 | 0.5773072 |\n",
       "| 05 | Norte        | 41.38840 | 912485 | 0.5202002 | 0.4791324 | 0.1700457 | 0.6590844 | 0.1702033 | 0.1248427 | 0.1950003 | 0.06406634 | 0.05318346 | 0.4872258 | 0.10328147 | 0.5420084 | 0.6035461 |\n",
       "| 06 | Oeste        | 40.89333 | 763506 | 0.5178944 | 0.4821056 | 0.1769738 | 0.6633208 | 0.1597055 | 0.1119559 | 0.1746908 | 0.07914931 | 0.06776101 | 0.5436140 | 0.09555284 | 0.5306462 | 0.5866625 |\n",
       "| 07 | Centro-Oeste | 45.37878 | 511605 | 0.5296804 | 0.4703198 | 0.1054260 | 0.6742432 | 0.2203341 | 0.1744493 | 0.2629599 | 0.05481008 | 0.04653221 | 0.4914365 | 0.12170996 | 0.4915713 | 0.5597213 |\n",
       "| 08 | Sur-Oeste I  | 42.34715 | 532487 | 0.5122493 | 0.4877507 | 0.1659665 | 0.6371549 | 0.1968769 | 0.1137647 | 0.1604646 | 0.05422176 | 0.04120012 | 0.3348780 | 0.13692541 | 0.5072726 | 0.5849309 |\n",
       "| 09 | Sur-Oeste Ii | 42.05168 | 406320 | 0.5116119 | 0.4883883 | 0.1603501 | 0.6601574 | 0.1794920 | 0.1081656 | 0.1496618 | 0.04877362 | 0.03389699 | 0.2451744 | 0.14635786 | 0.5110124 | 0.5961539 |\n",
       "| 10 | Sur I        | 40.02239 | 409470 | 0.5067508 | 0.4932492 | 0.1863513 | 0.6575916 | 0.1560598 | 0.1472016 | 0.1874407 | 0.04712095 | 0.03387377 | 0.2954386 | 0.14334971 | 0.5367268 | 0.6222363 |\n",
       "| 11 | Sur Ii       | 42.06149 | 899702 | 0.5240445 | 0.4759555 | 0.1540793 | 0.6753787 | 0.1705449 | 0.1747059 | 0.2641879 | 0.04898547 | 0.03679912 | 0.3346063 | 0.15173209 | 0.5024130 | 0.5900028 |\n",
       "\n"
      ],
      "text/plain": [
       "   id_area nombre_area  t3_1     t1_1   t2_1      t2_2      t4_1      t4_2     \n",
       "1  01      Sur-Este     41.89330 862340 0.5207432 0.4792568 0.1585425 0.6732152\n",
       "2  02      Centro-Norte 44.85910 404085 0.5419660 0.4580340 0.1293202 0.6456867\n",
       "3  03      Este         41.16384 383079 0.5091281 0.4908719 0.1671827 0.6697046\n",
       "4  04      Noreste      43.50412 615157 0.5321335 0.4678665 0.1495244 0.6530478\n",
       "5  05      Norte        41.38840 912485 0.5202002 0.4791324 0.1700457 0.6590844\n",
       "6  06      Oeste        40.89333 763506 0.5178944 0.4821056 0.1769738 0.6633208\n",
       "7  07      Centro-Oeste 45.37878 511605 0.5296804 0.4703198 0.1054260 0.6742432\n",
       "8  08      Sur-Oeste I  42.34715 532487 0.5122493 0.4877507 0.1659665 0.6371549\n",
       "9  09      Sur-Oeste Ii 42.05168 406320 0.5116119 0.4883883 0.1603501 0.6601574\n",
       "10 10      Sur I        40.02239 409470 0.5067508 0.4932492 0.1863513 0.6575916\n",
       "11 11      Sur Ii       42.06149 899702 0.5240445 0.4759555 0.1540793 0.6753787\n",
       "   t4_3      t5_1      t6_1      t7_1       t8_1       t9_1      t10_1     \n",
       "1  0.1682410 0.1399664 0.2042778 0.05120722 0.03895576 0.3600324 0.14408131\n",
       "2  0.2249913 0.1279791 0.1854376 0.05930819 0.05200647 0.5572380 0.09486110\n",
       "3  0.1631133 0.1520691 0.1903965 0.05762767 0.04557209 0.3196460 0.14520694\n",
       "4  0.1974297 0.1266269 0.2132414 0.05909755 0.04845935 0.4600102 0.11547830\n",
       "5  0.1702033 0.1248427 0.1950003 0.06406634 0.05318346 0.4872258 0.10328147\n",
       "6  0.1597055 0.1119559 0.1746908 0.07914931 0.06776101 0.5436140 0.09555284\n",
       "7  0.2203341 0.1744493 0.2629599 0.05481008 0.04653221 0.4914365 0.12170996\n",
       "8  0.1968769 0.1137647 0.1604646 0.05422176 0.04120012 0.3348780 0.13692541\n",
       "9  0.1794920 0.1081656 0.1496618 0.04877362 0.03389699 0.2451744 0.14635786\n",
       "10 0.1560598 0.1472016 0.1874407 0.04712095 0.03387377 0.2954386 0.14334971\n",
       "11 0.1705449 0.1747059 0.2641879 0.04898547 0.03679912 0.3346063 0.15173209\n",
       "   t11_1     t12_1    \n",
       "1  0.5193163 0.6047756\n",
       "2  0.5069128 0.5605799\n",
       "3  0.5250289 0.6109222\n",
       "4  0.5117620 0.5773072\n",
       "5  0.5420084 0.6035461\n",
       "6  0.5306462 0.5866625\n",
       "7  0.4915713 0.5597213\n",
       "8  0.5072726 0.5849309\n",
       "9  0.5110124 0.5961539\n",
       "10 0.5367268 0.6222363\n",
       "11 0.5024130 0.5900028"
      ]
     },
     "metadata": {},
     "output_type": "display_data"
    }
   ],
   "source": [
    "tdata_03 |> slice_head(n = 5)"
   ]
  },
  {
   "cell_type": "markdown",
   "metadata": {
    "slideshow": {
     "slide_type": "slide"
    }
   },
   "source": [
    "## Synthetic Data Generation"
   ]
  },
  {
   "attachments": {},
   "cell_type": "markdown",
   "metadata": {
    "slideshow": {
     "slide_type": "slide"
    }
   },
   "source": [
    "No aplica"
   ]
  },
  {
   "cell_type": "markdown",
   "metadata": {
    "slideshow": {
     "slide_type": "slide"
    }
   },
   "source": [
    "## Fake Data Generation"
   ]
  },
  {
   "attachments": {},
   "cell_type": "markdown",
   "metadata": {
    "slideshow": {
     "slide_type": "slide"
    }
   },
   "source": [
    "No aplica"
   ]
  },
  {
   "cell_type": "markdown",
   "metadata": {
    "slideshow": {
     "slide_type": "slide"
    }
   },
   "source": [
    "## Open Data"
   ]
  },
  {
   "attachments": {},
   "cell_type": "markdown",
   "metadata": {
    "slideshow": {
     "slide_type": "slide"
    }
   },
   "source": [
    "No aplica"
   ]
  },
  {
   "cell_type": "markdown",
   "metadata": {},
   "source": [
    "## <font color='green'>Data Save</font>"
   ]
  },
  {
   "attachments": {},
   "cell_type": "markdown",
   "metadata": {},
   "source": [
    "Este proceso, puede copiarse y repetirse en aquellas partes del notebbok que necesiten guardar datos.\n",
    "Recuerde cambiar las cadenas añadida del fichero para diferenciarlas"
   ]
  },
  {
   "cell_type": "markdown",
   "metadata": {},
   "source": [
    "<font color='tomato'> Identificamos los datos a guardar</font>"
   ]
  },
  {
   "cell_type": "code",
   "execution_count": 36,
   "metadata": {
    "ExecuteTime": {
     "end_time": "2020-12-25T17:59:27.022001Z",
     "start_time": "2020-12-25T17:59:15.986986Z"
    },
    "scrolled": false,
    "vscode": {
     "languageId": "r"
    }
   },
   "outputs": [],
   "source": [
    "data_to_save <- tdata_03"
   ]
  },
  {
   "attachments": {},
   "cell_type": "markdown",
   "metadata": {},
   "source": [
    "\n",
    "<font color='tomato'>Estructura de nombre de archivos:</font>\n",
    "\n",
    "* Código del caso de uso, por ejemplo \"CU_04\"\n",
    "* Número del proceso que lo genera, por ejemplo \"_05\".\n",
    "* Número de la tarea que lo genera, por ejemplo \"_01\"\n",
    "* En caso de generarse varios ficheros en la misma tarea, llevarán _01 _02 ... después\n",
    "* Nombre: identificativo de \"properData\", por ejemplo \"_zonasgeo\"\n",
    "* Extensión del archivo\n",
    "\n",
    "Ejemplo: \"CU_04_05_01_01_zonasgeo.json, primer fichero que se genera en la tarea 01 del proceso 05 (Data Collection) para el caso de uso 04 (vacunas)\n",
    "\n",
    "Importante mantener los guiones bajos antes de proceso, tarea, archivo y nombre"
   ]
  },
  {
   "attachments": {},
   "cell_type": "markdown",
   "metadata": {},
   "source": [
    "### Proceso 05"
   ]
  },
  {
   "cell_type": "code",
   "execution_count": 37,
   "metadata": {
    "ExecuteTime": {
     "end_time": "2020-12-25T17:59:27.022001Z",
     "start_time": "2020-12-25T17:59:15.986986Z"
    },
    "scrolled": false,
    "vscode": {
     "languageId": "r"
    }
   },
   "outputs": [],
   "source": [
    "caso <- \"CU_25\"\n",
    "proceso <- '_05'\n",
    "tarea <- \"_06\"\n",
    "archivo <- \"\"\n",
    "proper <- \"_indicadores_area\"\n",
    "extension <- \".csv\""
   ]
  },
  {
   "attachments": {},
   "cell_type": "markdown",
   "metadata": {},
   "source": [
    "<font color='tomato'><b> OPCION A:</b> Uso del paquete \"tcltk\" para mayor comodidad</font>\n",
    "\n",
    "* Buscar carpeta, escribir nombre de archivo SIN extensión (se especifica en el código)\n",
    "* Especificar sufijo2 si es necesario\n",
    "* Cambiar datos por datos_xx si es necesario"
   ]
  },
  {
   "cell_type": "code",
   "execution_count": null,
   "metadata": {
    "ExecuteTime": {
     "end_time": "2020-12-25T17:59:27.022001Z",
     "start_time": "2020-12-25T17:59:15.986986Z"
    },
    "scrolled": false,
    "vscode": {
     "languageId": "r"
    }
   },
   "outputs": [],
   "source": [
    "# file_save <- paste0(caso, proceso, tarea, tcltk::tkgetSaveFile(), proper, extension) \n",
    "# path_out <- paste0(oPath, file_save)\n",
    "# write_csv(data_to_save, path_out)\n",
    "\n",
    "# cat('File saved as: ')\n",
    "# path_out"
   ]
  },
  {
   "attachments": {},
   "cell_type": "markdown",
   "metadata": {},
   "source": [
    "<font color='tomato'><b> OPCION B:</b> Especificar el nombre de archivo</font>"
   ]
  },
  {
   "attachments": {},
   "cell_type": "markdown",
   "metadata": {},
   "source": [
    "- Los ficheros de salida del proceso van siempre a Data/Output/.  "
   ]
  },
  {
   "cell_type": "code",
   "execution_count": 38,
   "metadata": {
    "ExecuteTime": {
     "end_time": "2021-01-26T18:40:31.258294Z",
     "start_time": "2021-01-26T18:40:26.061847Z"
    },
    "slideshow": {
     "slide_type": "subslide"
    },
    "vscode": {
     "languageId": "r"
    }
   },
   "outputs": [
    {
     "name": "stdout",
     "output_type": "stream",
     "text": [
      "File saved as: "
     ]
    },
    {
     "data": {
      "text/html": [
       "'Data/Output/CU_25_05_06_indicadores_area.csv'"
      ],
      "text/latex": [
       "'Data/Output/CU\\_25\\_05\\_06\\_indicadores\\_area.csv'"
      ],
      "text/markdown": [
       "'Data/Output/CU_25_05_06_indicadores_area.csv'"
      ],
      "text/plain": [
       "[1] \"Data/Output/CU_25_05_06_indicadores_area.csv\""
      ]
     },
     "metadata": {},
     "output_type": "display_data"
    }
   ],
   "source": [
    "file_save <- paste0(caso, proceso, tarea, archivo, proper, extension) \n",
    "path_out <- paste0(oPath, file_save)\n",
    "write_csv(data_to_save, path_out)\n",
    "\n",
    "cat('File saved as: ')\n",
    "path_out"
   ]
  },
  {
   "attachments": {},
   "cell_type": "markdown",
   "metadata": {},
   "source": [
    "#### Copia del fichero a Input\n",
    "\n",
    "Si el archivo se va a usar en otros notebooks, copiar a la carpeta Input"
   ]
  },
  {
   "cell_type": "code",
   "execution_count": 39,
   "metadata": {
    "vscode": {
     "languageId": "r"
    }
   },
   "outputs": [
    {
     "data": {
      "text/html": [
       "TRUE"
      ],
      "text/latex": [
       "TRUE"
      ],
      "text/markdown": [
       "TRUE"
      ],
      "text/plain": [
       "[1] TRUE"
      ]
     },
     "metadata": {},
     "output_type": "display_data"
    }
   ],
   "source": [
    "path_in <- paste0(iPath, file_save)\n",
    "file.copy(path_out, path_in, overwrite = TRUE)"
   ]
  },
  {
   "cell_type": "markdown",
   "metadata": {},
   "source": [
    "## <font color=' #2874a6 '>Main Conclusions</font>"
   ]
  },
  {
   "cell_type": "markdown",
   "metadata": {
    "slideshow": {
     "slide_type": "slide"
    }
   },
   "source": [
    "<font color='steelblue'>List and describe the general conclusions of the analysis carried out​.</font>"
   ]
  },
  {
   "attachments": {},
   "cell_type": "markdown",
   "metadata": {},
   "source": [
    "### Prerequisites\n",
    "\n",
    "Para que funcione este código se necesita:\n",
    "\n",
    "* Las rutas de archivos `Data/Input` y `Data/Output` deben existir (relativas a la ruta del _notebook_)\n",
    "* El paquete tcltk instalado para seleccionar archivos interactivamente. No se necesita en producción.\n",
    "* Los paquetes sf, readr, dplyr deben estar instalados.\n"
   ]
  },
  {
   "attachments": {},
   "cell_type": "markdown",
   "metadata": {},
   "source": [
    "### Configuration Management\n",
    "\n",
    "This notebook has been tested with the following versions of R and packages. It cannot be assured that later versions work in the same way:\n",
    "* R 4.2.2\n",
    "* tcltk 4.2.2\n",
    "* sf 1.0.9\n",
    "* readr 2.1.3\n",
    "* dplyr 1.0.10"
   ]
  },
  {
   "attachments": {},
   "cell_type": "markdown",
   "metadata": {},
   "source": [
    "### Data structures"
   ]
  },
  {
   "attachments": {},
   "cell_type": "markdown",
   "metadata": {},
   "source": [
    "#### Objeto `tdata_03`\n",
    "\n",
    "- Hay filas con información de las siguientes variables:\n",
    "\t* id_area\n",
    "\t* nombre_area\n",
    "\t* t3_1\n",
    "\t* t1_1\n",
    "\t* t2_1\n",
    "\t* t2_2\n",
    "\t* t4_1\n",
    "\t* t4_2\n",
    "\t* t4_3\n",
    "\t* t5_1\n",
    "\t* t6_1\n",
    "\t* t7_1\n",
    "\t* t8_1\n",
    "\t* t9_1\n",
    "\t* t10_1\n",
    "\t* t11_1\n",
    "\t* t12_1\n"
   ]
  },
  {
   "attachments": {},
   "cell_type": "markdown",
   "metadata": {},
   "source": [
    "#### Observaciones generales sobre los datos\n",
    "\n",
    "* Los datos iniciales estaban por sección censal. En el cu_04 se asignaron a zona básica de salud. Ahora se han agrupado por área sanitaria, que es donde hemos clasificado a los hospitales."
   ]
  },
  {
   "attachments": {},
   "cell_type": "markdown",
   "metadata": {},
   "source": [
    "### Consideraciones para despliegue en piloto\n",
    "\n",
    "* No aplica"
   ]
  },
  {
   "attachments": {},
   "cell_type": "markdown",
   "metadata": {},
   "source": [
    "### Consideraciones para despliegue en producción\n",
    "\n",
    "* Se deben crear los procesos ETL en producción necesarios para que los datos de entrada estén actualizados"
   ]
  },
  {
   "cell_type": "markdown",
   "metadata": {},
   "source": [
    "## <font color=' #2874a6 '>Main Actions</font>"
   ]
  },
  {
   "cell_type": "markdown",
   "metadata": {},
   "source": [
    "#### <font color=' #2874a6 '>Acciones done</font>"
   ]
  },
  {
   "cell_type": "markdown",
   "metadata": {
    "slideshow": {
     "slide_type": "slide"
    }
   },
   "source": [
    "<font color='steelblue'>Indicate the actions that have been carried out in this process</font>"
   ]
  },
  {
   "attachments": {},
   "cell_type": "markdown",
   "metadata": {},
   "source": [
    "- Se han asignado las zonas básicas a las zonas de salud por intersección de las geometrías\n",
    "- Se han agregado los indicadores por área de salud"
   ]
  },
  {
   "cell_type": "markdown",
   "metadata": {},
   "source": [
    "#### <font color=' #2874a6 '>Acctions to perform</font>"
   ]
  },
  {
   "cell_type": "markdown",
   "metadata": {
    "slideshow": {
     "slide_type": "slide"
    }
   },
   "source": [
    "<font color='steelblue'>Indicate the actions that must be carried out in subsequent processes</font>"
   ]
  },
  {
   "attachments": {},
   "cell_type": "markdown",
   "metadata": {},
   "source": [
    "- Se deben combinar con el resto de datos para aplicar los modelos"
   ]
  },
  {
   "attachments": {},
   "cell_type": "markdown",
   "metadata": {},
   "source": [
    "## <font color='RED'>CODE TO DEPLOY (PILOT)</font>\n",
    "\n",
    "A continuación se incluirá el código que deba ser llevado a despliegue para producción, dado que se entiende efectúa operaciones necesarias sobre los datos en la ejecución del prototipo"
   ]
  },
  {
   "attachments": {},
   "cell_type": "markdown",
   "metadata": {},
   "source": [
    "<font color=' red '><b>Description</b></font>\n",
    "\n",
    "- No hay nada que desplegar en el piloto, ya que estos datos son estáticos o en todo caso cambian con muy poca frecuencia, altamente improbable durante el proyecto.\n"
   ]
  },
  {
   "attachments": {},
   "cell_type": "markdown",
   "metadata": {},
   "source": [
    "<font color=' red '><b>CODE</b></font>"
   ]
  },
  {
   "cell_type": "code",
   "execution_count": null,
   "metadata": {
    "vscode": {
     "languageId": "r"
    }
   },
   "outputs": [],
   "source": [
    "# incluir código"
   ]
  }
 ],
 "metadata": {
  "anaconda-cloud": {},
  "celltoolbar": "Slideshow",
  "hide_input": false,
  "kernelspec": {
   "display_name": "R",
   "language": "R",
   "name": "ir"
  },
  "language_info": {
   "codemirror_mode": "r",
   "file_extension": ".r",
   "mimetype": "text/x-r-source",
   "name": "R",
   "pygments_lexer": "r",
   "version": "4.2.2"
  },
  "latex_envs": {
   "LaTeX_envs_menu_present": true,
   "autoclose": false,
   "autocomplete": true,
   "bibliofile": "biblio.bib",
   "cite_by": "apalike",
   "current_citInitial": 1,
   "eqLabelWithNumbers": true,
   "eqNumInitial": 1,
   "hotkeys": {
    "equation": "Ctrl-E",
    "itemize": "Ctrl-I"
   },
   "labels_anchors": false,
   "latex_user_defs": false,
   "report_style_numbering": true,
   "user_envs_cfg": false
  },
  "toc": {
   "base_numbering": 1,
   "nav_menu": {
    "height": "11.6px",
    "width": "160px"
   },
   "number_sections": false,
   "sideBar": true,
   "skip_h1_title": true,
   "title_cell": "Table of Contents",
   "title_sidebar": "Contents",
   "toc_cell": true,
   "toc_position": {
    "height": "calc(100% - 180px)",
    "left": "10px",
    "top": "150px",
    "width": "209.2px"
   },
   "toc_section_display": true,
   "toc_window_display": true
  },
  "varInspector": {
   "cols": {
    "lenName": 16,
    "lenType": 16,
    "lenVar": 40
   },
   "kernels_config": {
    "python": {
     "delete_cmd_postfix": "",
     "delete_cmd_prefix": "del ",
     "library": "var_list.py",
     "varRefreshCmd": "print(var_dic_list())"
    },
    "r": {
     "delete_cmd_postfix": ") ",
     "delete_cmd_prefix": "rm(",
     "library": "var_list.r",
     "varRefreshCmd": "cat(var_dic_list()) "
    }
   },
   "types_to_exclude": [
    "module",
    "function",
    "builtin_function_or_method",
    "instance",
    "_Feature"
   ],
   "window_display": false
  }
 },
 "nbformat": 4,
 "nbformat_minor": 1
}
