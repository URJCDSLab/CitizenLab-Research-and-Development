{
 "cells": [
  {
   "cell_type": "markdown",
   "metadata": {
    "slideshow": {
     "slide_type": "slide"
    }
   },
   "source": [
    "<img src=\".\\images\\Logo.png\" width=150 align=\"left\" /> <img src=\".\\images\\Logo2.jpg\" width=450 align=\"right\" />"
   ]
  },
  {
   "attachments": {},
   "cell_type": "markdown",
   "metadata": {
    "slideshow": {
     "slide_type": "slide"
    }
   },
   "source": [
    "\n",
    "# <center><font color= #1e8449 > <b>CU25_Modelo de gestión de Lista de Espera Quirúrgica\n",
    "</font></center>"
   ]
  },
  {
   "cell_type": "markdown",
   "metadata": {
    "slideshow": {
     "slide_type": "slide"
    }
   },
   "source": [
    "<font color='steelblue'><b>Citizenlab Data Science Methodology > II - Data Processing Domain </font>\n",
    "***\n",
    "> # <font color='steelblue'> <b>05.- Data Collection</font>"
   ]
  },
  {
   "cell_type": "markdown",
   "metadata": {
    "slideshow": {
     "slide_type": "slide"
    }
   },
   "source": [
    "<font color='steelblue'>Data Collection is the process to obtain and generate (if required) necessary data to model the problem.</font>"
   ]
  },
  {
   "attachments": {},
   "cell_type": "markdown",
   "metadata": {},
   "source": [
    "### 05. Obtener lista de hospitales georeferenciados\n",
    "\n",
    "* Existen dos fuentes:\n",
    "    - Catálogo Nacional de Hospitales del SNS (sin referenciar). Archivo Hospitales_de_Espana.csv\n",
    "    - Hospitales georeferenciados en ERSI. Archivo CNH_2022.xlsx\n",
    "\n",
    "* Para tener los hospitales georeferenciados se combinan estas fuentes \n",
    "\n",
    "* Los datos se han descargado a mano y se han copiado a la carpeta `Data/Input` desde los siguientes enlaces:\n",
    "    - SNS: https://www.sanidad.gob.es/ciudadanos/prestaciones/centrosServiciosSNS/hospitales/home.htm\n",
    "    - ESRI: https://opendata.esri.es/datasets/ComunidadSIG::hospitales-de-españa/explore?location=39.565169%2C-5.955525%2C6.06\n",
    "\n",
    "\n",
    "NOTA: por motivos de eficiencia se realizan en este notebooks tareas propias de otros proceso del dominio II, en particular el proceso 06 _Data Adequacy_\n",
    "\n",
    "Adicionalmente: se actualizan los nombres de hospitales de las listas de espera para que sean consistentes con la geolocalización y el catálogo nacional.\n",
    "\n",
    "\n",
    "\n",
    "\n",
    "\n"
   ]
  },
  {
   "cell_type": "markdown",
   "metadata": {
    "toc": true
   },
   "source": [
    "<h1>Table of Contents<span class=\"tocSkip\"></span></h1>\n",
    "<div class=\"toc\"><ul class=\"toc-item\"><li><span><a href=\"#Settings\" data-toc-modified-id=\"Settings-1\"><font color=\"green\">Settings</font></a></span></li><li><span><a href=\"#Data-Load\" data-toc-modified-id=\"Data-Load-2\"><font color=\"green\">Data Load</font></a></span></li><li><span><a href=\"#ETL-Processes\" data-toc-modified-id=\"ETL-Processes-3\">ETL Processes</a></span><ul class=\"toc-item\"><li><span><a href=\"#Import-data-from:-CSV,-Excel,-Tab,-JSON,-SQL,-and-Parquet-files\" data-toc-modified-id=\"Import-data-from:-CSV,-Excel,-Tab,-JSON,-SQL,-and-Parquet-files-3.1\">Import data from: CSV, Excel, Tab, JSON, SQL, and Parquet files</a></span></li></ul></li><li><span><a href=\"#Synthetic-Data-Generation\" data-toc-modified-id=\"Synthetic-Data-Generation-4\">Synthetic Data Generation</a></span></li><li><span><a href=\"#Fake-Data-Generation\" data-toc-modified-id=\"Fake-Data-Generation-5\">Fake Data Generation</a></span></li><li><span><a href=\"#Open-Data\" data-toc-modified-id=\"Open-Data-6\">Open Data</a></span></li><li><span><a href=\"#Data-Save\" data-toc-modified-id=\"Data-Save-7\"><font color=\"green\">Data Save</font></a></span></li><li><span><a href=\"#Main-Conclusions\" data-toc-modified-id=\"Main-Conclusions-8\"><font color=\" #2874a6 \">Main Conclusions</font></a></span></li><li><span><a href=\"#Main-Actions\" data-toc-modified-id=\"Main-Actions-9\"><font color=\" #2874a6 \">Main Actions</font></a></span><ul class=\"toc-item\"><li><ul class=\"toc-item\"><li><span><a href=\"#Acciones-done\" data-toc-modified-id=\"Acciones-done-9.0.1\"><font color=\" #2874a6 \">Acciones done</font></a></span></li><li><span><a href=\"#Acctions-to-perform\" data-toc-modified-id=\"Acctions-to-perform-9.0.2\"><font color=\" #2874a6 \">Acctions to perform</font></a></span></li></ul></li></ul></li></ul></div>"
   ]
  },
  {
   "cell_type": "markdown",
   "metadata": {
    "slideshow": {
     "slide_type": "slide"
    }
   },
   "source": [
    "## <font color='green'>Settings</font>"
   ]
  },
  {
   "cell_type": "markdown",
   "metadata": {},
   "source": [
    "### Encoding\n",
    "\n",
    "Con la siguiente expresión se evitan problemas con el encoding al ejecutar el notebook. Es posible que deba ser eliminada o adaptada a la máquina en la que se ejecute el código."
   ]
  },
  {
   "cell_type": "code",
   "execution_count": 1,
   "metadata": {
    "vscode": {
     "languageId": "r"
    }
   },
   "outputs": [
    {
     "data": {
      "text/html": [
       "'es_ES.UTF-8/es_ES.UTF-8/es_ES.UTF-8/C/es_ES.UTF-8/C'"
      ],
      "text/latex": [
       "'es\\_ES.UTF-8/es\\_ES.UTF-8/es\\_ES.UTF-8/C/es\\_ES.UTF-8/C'"
      ],
      "text/markdown": [
       "'es_ES.UTF-8/es_ES.UTF-8/es_ES.UTF-8/C/es_ES.UTF-8/C'"
      ],
      "text/plain": [
       "[1] \"es_ES.UTF-8/es_ES.UTF-8/es_ES.UTF-8/C/es_ES.UTF-8/C\""
      ]
     },
     "metadata": {},
     "output_type": "display_data"
    }
   ],
   "source": [
    "Sys.setlocale(category = \"LC_ALL\", locale = \"es_ES.UTF-8\")"
   ]
  },
  {
   "attachments": {},
   "cell_type": "markdown",
   "metadata": {},
   "source": [
    "### Packages to use\n",
    "\n",
    "_ELIMINAR O AÑADIR LO QUE TOQUE. COPIAR VERSIONES AL FINAL Y QUITAR CÓDIGO DE VERSIONES_\n",
    "\n",
    "- {tcltk} para selección interactiva de archivos locales\n",
    "- {sf} para trabajar con georeferenciación\n",
    "- {readr} para leer y escribir archivos csv\n",
    "- {dplyr} para explorar datos\n",
    "- {stringr} para manipulación de cadenas de caracteres\n",
    "- {tidyr} para organización de datos\n"
   ]
  },
  {
   "cell_type": "code",
   "execution_count": 2,
   "metadata": {
    "ExecuteTime": {
     "end_time": "2021-12-03T15:23:33.762841Z",
     "start_time": "2021-12-03T15:23:08.580267Z"
    },
    "slideshow": {
     "slide_type": "subslide"
    },
    "vscode": {
     "languageId": "r"
    }
   },
   "outputs": [
    {
     "name": "stderr",
     "output_type": "stream",
     "text": [
      "Linking to GEOS 3.10.2, GDAL 3.4.2, PROJ 8.2.1; sf_use_s2() is TRUE\n",
      "\n",
      "\n",
      "Attaching package: ‘dplyr’\n",
      "\n",
      "\n",
      "The following objects are masked from ‘package:stats’:\n",
      "\n",
      "    filter, lag\n",
      "\n",
      "\n",
      "The following objects are masked from ‘package:base’:\n",
      "\n",
      "    intersect, setdiff, setequal, union\n",
      "\n",
      "\n"
     ]
    }
   ],
   "source": [
    "library(sf)\n",
    "library(readxl)\n",
    "library(readr)\n",
    "library(dplyr)\n",
    "library(stringr)\n",
    "\n",
    "p <- c(\"tcltk\", \"sf\", \"readr\", \"dplyr\", \"stringr\", \"readxl\")\n"
   ]
  },
  {
   "attachments": {},
   "cell_type": "markdown",
   "metadata": {},
   "source": [
    "### Paths"
   ]
  },
  {
   "cell_type": "code",
   "execution_count": 3,
   "metadata": {
    "vscode": {
     "languageId": "r"
    }
   },
   "outputs": [],
   "source": [
    "iPath <- \"Data/Input/\"\n",
    "oPath <- \"Data/Output/\""
   ]
  },
  {
   "attachments": {},
   "cell_type": "markdown",
   "metadata": {
    "slideshow": {
     "slide_type": "slide"
    }
   },
   "source": [
    "## <font color='green'>Data Load</font>\n",
    "\n",
    "If there are more than one input file, make as many sections as files to import."
   ]
  },
  {
   "attachments": {},
   "cell_type": "markdown",
   "metadata": {},
   "source": [
    "Instrucciones\n",
    "- Los ficheros de entrada del proceso están siempre en Data/Input/.   \n",
    "- Si hay más de un fichero de entrada, se crean tantos objetos iFile_xx y file_data_xx como ficheros de entrada (xx número correlativo con dos dígitos, rellenar con ceros a la izquierda)"
   ]
  },
  {
   "attachments": {},
   "cell_type": "markdown",
   "metadata": {},
   "source": [
    "1. Hospitales geolocalizados en ESRI"
   ]
  },
  {
   "attachments": {},
   "cell_type": "markdown",
   "metadata": {},
   "source": [
    "<font color='tomato'><b> OPCION A:</b> Seleccionar fichero en ventana para mayor comodidad</font> "
   ]
  },
  {
   "attachments": {},
   "cell_type": "markdown",
   "metadata": {},
   "source": [
    "Data load using the {tcltk} package. Ucomment the line if not using this option"
   ]
  },
  {
   "cell_type": "code",
   "execution_count": 4,
   "metadata": {
    "vscode": {
     "languageId": "r"
    }
   },
   "outputs": [],
   "source": [
    "# file_data_01 <- tcltk::tk_choose.files(multi = FALSE)"
   ]
  },
  {
   "attachments": {},
   "cell_type": "markdown",
   "metadata": {},
   "source": [
    "<font color='tomato'><b> OPCION B:</b> Especificar el nombre de archivo</font>\n",
    "\n"
   ]
  },
  {
   "cell_type": "code",
   "execution_count": 5,
   "metadata": {
    "vscode": {
     "languageId": "r"
    }
   },
   "outputs": [
    {
     "name": "stdout",
     "output_type": "stream",
     "text": [
      "Se leerán datos del archivo:  Data/Input/Hospitales_de_Espana.csv"
     ]
    }
   ],
   "source": [
    "iFile_01 <- \"Hospitales_de_Espana.csv\"\n",
    "file_data_01 <- paste0(iPath, iFile_01)\n",
    "\n",
    "if(file.exists(file_data_01)){\n",
    "    cat(\"Se leerán datos del archivo: \", file_data_01)\n",
    "} else{\n",
    "    warning(\"Cuidado: el archivo no existe.\")\n",
    "}\n"
   ]
  },
  {
   "attachments": {},
   "cell_type": "markdown",
   "metadata": {},
   "source": [
    "#### Data file to dataframe\n",
    "\n",
    "Usar la función adecuada según el formato de entrada (xlsx, csv, json, ...)"
   ]
  },
  {
   "cell_type": "code",
   "execution_count": 6,
   "metadata": {
    "vscode": {
     "languageId": "r"
    }
   },
   "outputs": [
    {
     "name": "stderr",
     "output_type": "stream",
     "text": [
      "\u001b[1mRows: \u001b[22m\u001b[34m924\u001b[39m \u001b[1mColumns: \u001b[22m\u001b[34m47\u001b[39m\n",
      "\u001b[36m──\u001b[39m \u001b[1mColumn specification\u001b[22m \u001b[36m────────────────────────────────────────────────────────\u001b[39m\n",
      "\u001b[1mDelimiter:\u001b[22m \",\"\n",
      "\u001b[31mchr\u001b[39m (24): CODCNH, NOMBRE, DIRECCION, CODMU, MUNICIPIOS, CODPROV, PROVINCIAS,...\n",
      "\u001b[32mdbl\u001b[39m (23): OBJECTID, TELEFONO, TELEFONO2, TELEFAX, NCAMAS, CODFI, CODPAT, COD...\n",
      "\n",
      "\u001b[36mℹ\u001b[39m Use `spec()` to retrieve the full column specification for this data.\n",
      "\u001b[36mℹ\u001b[39m Specify the column types or set `show_col_types = FALSE` to quiet this message.\n"
     ]
    }
   ],
   "source": [
    "data_01 <- read_csv(file_data_01)\n"
   ]
  },
  {
   "attachments": {},
   "cell_type": "markdown",
   "metadata": {},
   "source": [
    "Estructura de  los datos:"
   ]
  },
  {
   "cell_type": "code",
   "execution_count": 7,
   "metadata": {
    "vscode": {
     "languageId": "r"
    }
   },
   "outputs": [
    {
     "name": "stdout",
     "output_type": "stream",
     "text": [
      "Rows: 924\n",
      "Columns: 47\n",
      "$ OBJECTID                \u001b[3m\u001b[90m<dbl>\u001b[39m\u001b[23m 1, 2, 3, 4, 5, 6, 7, 8, 9, 10, 11, 12, 13, 14,…\n",
      "$ CODCNH                  \u001b[3m\u001b[90m<chr>\u001b[39m\u001b[23m \"010035\", \"010040\", \"010053\", \"010066\", \"01008…\n",
      "$ NOMBRE                  \u001b[3m\u001b[90m<chr>\u001b[39m\u001b[23m \"RED DE SALUD MENTAL DE ARABA (HOSPITAL PSIQUI…\n",
      "$ DIRECCION               \u001b[3m\u001b[90m<chr>\u001b[39m\u001b[23m \"ÁLAVA, 43\", \"BEATO TOMÁS DE ZUMÁRRAGA, 10\", \"…\n",
      "$ TELEFONO                \u001b[3m\u001b[90m<dbl>\u001b[39m\u001b[23m 945006555, 945140900, 945252500, 945142100, 94…\n",
      "$ TELEFONO2               \u001b[3m\u001b[90m<dbl>\u001b[39m\u001b[23m NA, NA, NA, NA, 945006876, 945007007, 96759717…\n",
      "$ TELEFAX                 \u001b[3m\u001b[90m<dbl>\u001b[39m\u001b[23m 945006587, 945145709, 945279260, 945143318, 94…\n",
      "$ CODMU                   \u001b[3m\u001b[90m<chr>\u001b[39m\u001b[23m \"010590\", \"010590\", \"010590\", \"010590\", \"01031…\n",
      "$ MUNICIPIOS              \u001b[3m\u001b[90m<chr>\u001b[39m\u001b[23m \"Vitoria-Gasteiz\", \"Vitoria-Gasteiz\", \"Vitoria…\n",
      "$ CODPROV                 \u001b[3m\u001b[90m<chr>\u001b[39m\u001b[23m \"01\", \"01\", \"01\", \"01\", \"01\", \"01\", \"02\", \"02\"…\n",
      "$ PROVINCIAS              \u001b[3m\u001b[90m<chr>\u001b[39m\u001b[23m \"ÁLAVA\", \"ÁLAVA\", \"ÁLAVA\", \"ÁLAVA\", \"ÁLAVA\", \"…\n",
      "$ CODAUTO                 \u001b[3m\u001b[90m<chr>\u001b[39m\u001b[23m \"16\", \"16\", \"16\", \"16\", \"16\", \"16\", \"08\", \"08\"…\n",
      "$ COMUNIDADES             \u001b[3m\u001b[90m<chr>\u001b[39m\u001b[23m \"PAÍS VASCO\", \"PAÍS VASCO\", \"PAÍS VASCO\", \"PAÍ…\n",
      "$ CODPOSTAL               \u001b[3m\u001b[90m<chr>\u001b[39m\u001b[23m \"01006\", \"01008\", \"01002\", \"01007\", \"01309\", \"…\n",
      "$ NCAMAS                  \u001b[3m\u001b[90m<dbl>\u001b[39m\u001b[23m 207, 63, 26, 82, 63, 811, 705, 0, 42, 135, 65,…\n",
      "$ CODFI                   \u001b[3m\u001b[90m<dbl>\u001b[39m\u001b[23m 6, 12, 1, 13, 1, 1, 1, 1, 1, 1, 1, 1, 1, 1, 6,…\n",
      "$ FINALIDAD_ASISITENCIAL  \u001b[3m\u001b[90m<chr>\u001b[39m\u001b[23m \"PSIQUIÁTRICO\", \"MÉDICO-QUIRÚRGICO\", \"GENERAL\"…\n",
      "$ CODPAT                  \u001b[3m\u001b[90m<dbl>\u001b[39m\u001b[23m 6, 14, 14, 14, 6, 1, 1, 1, 14, 1, 14, 1, 6, 6,…\n",
      "$ DEPENDENCIA_PATRIMONIAL \u001b[3m\u001b[90m<chr>\u001b[39m\u001b[23m \"COMUNIDAD AUTÓNOMA\", \"PRIVADO NO BENÉFICO\", \"…\n",
      "$ CODFU                   \u001b[3m\u001b[90m<dbl>\u001b[39m\u001b[23m 4, 23, 23, 23, 4, 4, 31, 31, 23, 31, 23, 31, 3…\n",
      "$ DEPENDENCIA_FUNCIONAL   \u001b[3m\u001b[90m<chr>\u001b[39m\u001b[23m \"SERVICIO VASCO DE SALUD-OSAKIDETZA\", \"PRIVADO…\n",
      "$ ACREDOCENT              \u001b[3m\u001b[90m<chr>\u001b[39m\u001b[23m \"N\", \"N\", \"N\", \"N\", \"N\", \"S\", \"S\", \"S\", \"N\", \"…\n",
      "$ ESCOMPLE                \u001b[3m\u001b[90m<chr>\u001b[39m\u001b[23m \"N\", \"N\", \"N\", \"N\", \"N\", \"N\", \"S\", \"N\", \"N\", \"…\n",
      "$ FORCOMPLE               \u001b[3m\u001b[90m<chr>\u001b[39m\u001b[23m \"N\", \"N\", \"N\", \"N\", \"N\", \"N\", \"N\", \"S\", \"N\", \"…\n",
      "$ CODIDCOM                \u001b[3m\u001b[90m<chr>\u001b[39m\u001b[23m NA, NA, NA, NA, NA, NA, NA, \"020019\", NA, NA, …\n",
      "$ ALTA                    \u001b[3m\u001b[90m<chr>\u001b[39m\u001b[23m \"N\", \"N\", \"N\", \"N\", \"N\", \"N\", \"N\", \"N\", \"N\", \"…\n",
      "$ CERRADO                 \u001b[3m\u001b[90m<chr>\u001b[39m\u001b[23m \"N\", \"N\", \"N\", \"N\", \"N\", \"N\", \"N\", \"N\", \"N\", \"…\n",
      "$ CAPITAL                 \u001b[3m\u001b[90m<chr>\u001b[39m\u001b[23m \"S\", \"S\", \"S\", \"S\", \"N\", \"S\", \"S\", \"S\", \"S\", \"…\n",
      "$ CIERREFECH              \u001b[3m\u001b[90m<chr>\u001b[39m\u001b[23m NA, NA, NA, NA, NA, NA, NA, NA, NA, NA, NA, NA…\n",
      "$ CONCIERTO               \u001b[3m\u001b[90m<chr>\u001b[39m\u001b[23m \"N\", \"N\", \"S\", \"S\", \"N\", \"N\", \"N\", \"N\", \"S\", \"…\n",
      "$ EMAIL                   \u001b[3m\u001b[90m<chr>\u001b[39m\u001b[23m \"SECRETARIA.GERENCIA@osakidetza.eus\", \"diazdec…\n",
      "$ TAC                     \u001b[3m\u001b[90m<dbl>\u001b[39m\u001b[23m 0, 1, 1, 0, 0, 4, 4, 0, 1, 1, 1, 0, 1, 1, 0, 3…\n",
      "$ RM                      \u001b[3m\u001b[90m<dbl>\u001b[39m\u001b[23m 0, 1, 2, 0, 0, 0, 1, 0, 2, 1, 2, 0, 0, 0, 0, 2…\n",
      "$ GAM                     \u001b[3m\u001b[90m<dbl>\u001b[39m\u001b[23m 0, 0, 0, 0, 0, 2, 0, 0, 0, 0, 1, 0, 0, 0, 0, 0…\n",
      "$ HEM                     \u001b[3m\u001b[90m<dbl>\u001b[39m\u001b[23m 0, 1, 0, 0, 0, 2, 1, 0, 0, 0, 1, 0, 0, 0, 0, 2…\n",
      "$ ASD                     \u001b[3m\u001b[90m<dbl>\u001b[39m\u001b[23m 0, 1, 0, 0, 0, 3, 1, 0, 0, 0, 0, 0, 0, 0, 0, 5…\n",
      "$ LIT                     \u001b[3m\u001b[90m<dbl>\u001b[39m\u001b[23m 0, 0, 0, 0, 0, 1, 1, 0, 0, 0, 0, 0, 0, 0, 0, 1…\n",
      "$ BCO                     \u001b[3m\u001b[90m<dbl>\u001b[39m\u001b[23m 0, 0, 0, 0, 0, 0, 0, 0, 0, 0, 0, 0, 0, 0, 0, 0…\n",
      "$ ALI                     \u001b[3m\u001b[90m<dbl>\u001b[39m\u001b[23m 0, 0, 0, 0, 0, 2, 2, 0, 0, 0, 0, 0, 0, 0, 0, 0…\n",
      "$ SPECT                   \u001b[3m\u001b[90m<dbl>\u001b[39m\u001b[23m 0, 0, 0, 0, 0, 1, 0, 0, 0, 0, 0, 0, 0, 0, 0, 0…\n",
      "$ PET                     \u001b[3m\u001b[90m<dbl>\u001b[39m\u001b[23m 0, 0, 0, 0, 0, 1, 0, 0, 0, 0, 0, 0, 0, 0, 0, 0…\n",
      "$ MAMOS                   \u001b[3m\u001b[90m<dbl>\u001b[39m\u001b[23m 0, 1, 1, 0, 0, 3, 2, 0, 0, 1, 1, 0, 2, 1, 0, 2…\n",
      "$ DO                      \u001b[3m\u001b[90m<dbl>\u001b[39m\u001b[23m 0, 1, 1, 0, 0, 1, 1, 0, 0, 0, 0, 0, 0, 0, 0, 1…\n",
      "$ DIAL                    \u001b[3m\u001b[90m<dbl>\u001b[39m\u001b[23m 0, 1, 0, 0, 0, 57, 16, 0, 0, 0, 0, 0, 0, 0, 0,…\n",
      "$ X                       \u001b[3m\u001b[90m<dbl>\u001b[39m\u001b[23m -2.67861197, -2.67664050, -2.66803516, -2.6803…\n",
      "$ Y                       \u001b[3m\u001b[90m<dbl>\u001b[39m\u001b[23m 42.83566, 42.84966, 42.84976, 42.83758, 42.575…\n",
      "$ CalidadGeocodificacion  \u001b[3m\u001b[90m<chr>\u001b[39m\u001b[23m \"Manual\", \"PointAddress\", \"PointAddress\", \"Poi…\n"
     ]
    }
   ],
   "source": [
    "data_01 |> glimpse()\n"
   ]
  },
  {
   "attachments": {},
   "cell_type": "markdown",
   "metadata": {},
   "source": [
    "Muestra de datos:"
   ]
  },
  {
   "cell_type": "code",
   "execution_count": 8,
   "metadata": {
    "vscode": {
     "languageId": "r"
    }
   },
   "outputs": [
    {
     "data": {
      "text/html": [
       "<table class=\"dataframe\">\n",
       "<caption>A spec_tbl_df: 5 x 47</caption>\n",
       "<thead>\n",
       "\t<tr><th scope=col>OBJECTID</th><th scope=col>CODCNH</th><th scope=col>NOMBRE</th><th scope=col>DIRECCION</th><th scope=col>TELEFONO</th><th scope=col>TELEFONO2</th><th scope=col>TELEFAX</th><th scope=col>CODMU</th><th scope=col>MUNICIPIOS</th><th scope=col>CODPROV</th><th scope=col>...</th><th scope=col>BCO</th><th scope=col>ALI</th><th scope=col>SPECT</th><th scope=col>PET</th><th scope=col>MAMOS</th><th scope=col>DO</th><th scope=col>DIAL</th><th scope=col>X</th><th scope=col>Y</th><th scope=col>CalidadGeocodificacion</th></tr>\n",
       "\t<tr><th scope=col>&lt;dbl&gt;</th><th scope=col>&lt;chr&gt;</th><th scope=col>&lt;chr&gt;</th><th scope=col>&lt;chr&gt;</th><th scope=col>&lt;dbl&gt;</th><th scope=col>&lt;dbl&gt;</th><th scope=col>&lt;dbl&gt;</th><th scope=col>&lt;chr&gt;</th><th scope=col>&lt;chr&gt;</th><th scope=col>&lt;chr&gt;</th><th scope=col>...</th><th scope=col>&lt;dbl&gt;</th><th scope=col>&lt;dbl&gt;</th><th scope=col>&lt;dbl&gt;</th><th scope=col>&lt;dbl&gt;</th><th scope=col>&lt;dbl&gt;</th><th scope=col>&lt;dbl&gt;</th><th scope=col>&lt;dbl&gt;</th><th scope=col>&lt;dbl&gt;</th><th scope=col>&lt;dbl&gt;</th><th scope=col>&lt;chr&gt;</th></tr>\n",
       "</thead>\n",
       "<tbody>\n",
       "\t<tr><td>1</td><td>010035</td><td>RED DE SALUD MENTAL DE ARABA (HOSPITAL PSIQUIÁTRICO DE ARABA)          </td><td>ÁLAVA, 43                      </td><td>945006555</td><td>       NA</td><td>945006587</td><td>010590</td><td>Vitoria-Gasteiz</td><td>01</td><td>...</td><td>0</td><td>0</td><td>0</td><td>0</td><td>0</td><td>0</td><td>0</td><td>-2.678612</td><td>42.83566</td><td>Manual      </td></tr>\n",
       "\t<tr><td>2</td><td>010040</td><td>HOSPITAL SAN JOSÉ                                                      </td><td>BEATO TOMÁS DE ZUMÁRRAGA, 10   </td><td>945140900</td><td>       NA</td><td>945145709</td><td>010590</td><td>Vitoria-Gasteiz</td><td>01</td><td>...</td><td>0</td><td>0</td><td>0</td><td>0</td><td>1</td><td>1</td><td>1</td><td>-2.676640</td><td>42.84966</td><td>PointAddress</td></tr>\n",
       "\t<tr><td>3</td><td>010053</td><td>HOSPITAL QUIRÓNSALUD VITORIA                                           </td><td>ESPERANZA, 3                   </td><td>945252500</td><td>       NA</td><td>945279260</td><td>010590</td><td>Vitoria-Gasteiz</td><td>01</td><td>...</td><td>0</td><td>0</td><td>0</td><td>0</td><td>1</td><td>1</td><td>0</td><td>-2.668035</td><td>42.84976</td><td>PointAddress</td></tr>\n",
       "\t<tr><td>4</td><td>010066</td><td>HOSPITAL DE CUIDADOS SAN ONOFRE, S.L. (HOSPITAL DE CUIDADOS SAN ONOFRE)</td><td>SALVATIERRABIDE, 9             </td><td>945142100</td><td>       NA</td><td>945143318</td><td>010590</td><td>Vitoria-Gasteiz</td><td>01</td><td>...</td><td>0</td><td>0</td><td>0</td><td>0</td><td>0</td><td>0</td><td>0</td><td>-2.680386</td><td>42.83758</td><td>PointAddress</td></tr>\n",
       "\t<tr><td>5</td><td>010088</td><td>HOSPITAL DE LEZA                                                       </td><td>CTRA. VITORIA - LOGROÑO, KM. 59</td><td>945006900</td><td>945006876</td><td>945006901</td><td>010318</td><td>Laguardia      </td><td>01</td><td>...</td><td>0</td><td>0</td><td>0</td><td>0</td><td>0</td><td>0</td><td>0</td><td>-2.638635</td><td>42.57599</td><td>Manual      </td></tr>\n",
       "</tbody>\n",
       "</table>\n"
      ],
      "text/latex": [
       "A spec\\_tbl\\_df: 5 x 47\n",
       "\\begin{tabular}{lllllllllllllllllllll}\n",
       " OBJECTID & CODCNH & NOMBRE & DIRECCION & TELEFONO & TELEFONO2 & TELEFAX & CODMU & MUNICIPIOS & CODPROV & ... & BCO & ALI & SPECT & PET & MAMOS & DO & DIAL & X & Y & CalidadGeocodificacion\\\\\n",
       " <dbl> & <chr> & <chr> & <chr> & <dbl> & <dbl> & <dbl> & <chr> & <chr> & <chr> & ... & <dbl> & <dbl> & <dbl> & <dbl> & <dbl> & <dbl> & <dbl> & <dbl> & <dbl> & <chr>\\\\\n",
       "\\hline\n",
       "\t 1 & 010035 & RED DE SALUD MENTAL DE ARABA (HOSPITAL PSIQUIÁTRICO DE ARABA)           & ÁLAVA, 43                       & 945006555 &        NA & 945006587 & 010590 & Vitoria-Gasteiz & 01 & ... & 0 & 0 & 0 & 0 & 0 & 0 & 0 & -2.678612 & 42.83566 & Manual      \\\\\n",
       "\t 2 & 010040 & HOSPITAL SAN JOSÉ                                                       & BEATO TOMÁS DE ZUMÁRRAGA, 10    & 945140900 &        NA & 945145709 & 010590 & Vitoria-Gasteiz & 01 & ... & 0 & 0 & 0 & 0 & 1 & 1 & 1 & -2.676640 & 42.84966 & PointAddress\\\\\n",
       "\t 3 & 010053 & HOSPITAL QUIRÓNSALUD VITORIA                                            & ESPERANZA, 3                    & 945252500 &        NA & 945279260 & 010590 & Vitoria-Gasteiz & 01 & ... & 0 & 0 & 0 & 0 & 1 & 1 & 0 & -2.668035 & 42.84976 & PointAddress\\\\\n",
       "\t 4 & 010066 & HOSPITAL DE CUIDADOS SAN ONOFRE, S.L. (HOSPITAL DE CUIDADOS SAN ONOFRE) & SALVATIERRABIDE, 9              & 945142100 &        NA & 945143318 & 010590 & Vitoria-Gasteiz & 01 & ... & 0 & 0 & 0 & 0 & 0 & 0 & 0 & -2.680386 & 42.83758 & PointAddress\\\\\n",
       "\t 5 & 010088 & HOSPITAL DE LEZA                                                        & CTRA. VITORIA - LOGROÑO, KM. 59 & 945006900 & 945006876 & 945006901 & 010318 & Laguardia       & 01 & ... & 0 & 0 & 0 & 0 & 0 & 0 & 0 & -2.638635 & 42.57599 & Manual      \\\\\n",
       "\\end{tabular}\n"
      ],
      "text/markdown": [
       "\n",
       "A spec_tbl_df: 5 x 47\n",
       "\n",
       "| OBJECTID &lt;dbl&gt; | CODCNH &lt;chr&gt; | NOMBRE &lt;chr&gt; | DIRECCION &lt;chr&gt; | TELEFONO &lt;dbl&gt; | TELEFONO2 &lt;dbl&gt; | TELEFAX &lt;dbl&gt; | CODMU &lt;chr&gt; | MUNICIPIOS &lt;chr&gt; | CODPROV &lt;chr&gt; | ... ... | BCO &lt;dbl&gt; | ALI &lt;dbl&gt; | SPECT &lt;dbl&gt; | PET &lt;dbl&gt; | MAMOS &lt;dbl&gt; | DO &lt;dbl&gt; | DIAL &lt;dbl&gt; | X &lt;dbl&gt; | Y &lt;dbl&gt; | CalidadGeocodificacion &lt;chr&gt; |\n",
       "|---|---|---|---|---|---|---|---|---|---|---|---|---|---|---|---|---|---|---|---|---|\n",
       "| 1 | 010035 | RED DE SALUD MENTAL DE ARABA (HOSPITAL PSIQUIÁTRICO DE ARABA)           | ÁLAVA, 43                       | 945006555 |        NA | 945006587 | 010590 | Vitoria-Gasteiz | 01 | ... | 0 | 0 | 0 | 0 | 0 | 0 | 0 | -2.678612 | 42.83566 | Manual       |\n",
       "| 2 | 010040 | HOSPITAL SAN JOSÉ                                                       | BEATO TOMÁS DE ZUMÁRRAGA, 10    | 945140900 |        NA | 945145709 | 010590 | Vitoria-Gasteiz | 01 | ... | 0 | 0 | 0 | 0 | 1 | 1 | 1 | -2.676640 | 42.84966 | PointAddress |\n",
       "| 3 | 010053 | HOSPITAL QUIRÓNSALUD VITORIA                                            | ESPERANZA, 3                    | 945252500 |        NA | 945279260 | 010590 | Vitoria-Gasteiz | 01 | ... | 0 | 0 | 0 | 0 | 1 | 1 | 0 | -2.668035 | 42.84976 | PointAddress |\n",
       "| 4 | 010066 | HOSPITAL DE CUIDADOS SAN ONOFRE, S.L. (HOSPITAL DE CUIDADOS SAN ONOFRE) | SALVATIERRABIDE, 9              | 945142100 |        NA | 945143318 | 010590 | Vitoria-Gasteiz | 01 | ... | 0 | 0 | 0 | 0 | 0 | 0 | 0 | -2.680386 | 42.83758 | PointAddress |\n",
       "| 5 | 010088 | HOSPITAL DE LEZA                                                        | CTRA. VITORIA - LOGROÑO, KM. 59 | 945006900 | 945006876 | 945006901 | 010318 | Laguardia       | 01 | ... | 0 | 0 | 0 | 0 | 0 | 0 | 0 | -2.638635 | 42.57599 | Manual       |\n",
       "\n"
      ],
      "text/plain": [
       "  OBJECTID CODCNH\n",
       "1 1        010035\n",
       "2 2        010040\n",
       "3 3        010053\n",
       "4 4        010066\n",
       "5 5        010088\n",
       "  NOMBRE                                                                 \n",
       "1 RED DE SALUD MENTAL DE ARABA (HOSPITAL PSIQUIÁTRICO DE ARABA)          \n",
       "2 HOSPITAL SAN JOSÉ                                                      \n",
       "3 HOSPITAL QUIRÓNSALUD VITORIA                                           \n",
       "4 HOSPITAL DE CUIDADOS SAN ONOFRE, S.L. (HOSPITAL DE CUIDADOS SAN ONOFRE)\n",
       "5 HOSPITAL DE LEZA                                                       \n",
       "  DIRECCION                       TELEFONO  TELEFONO2 TELEFAX   CODMU \n",
       "1 ÁLAVA, 43                       945006555        NA 945006587 010590\n",
       "2 BEATO TOMÁS DE ZUMÁRRAGA, 10    945140900        NA 945145709 010590\n",
       "3 ESPERANZA, 3                    945252500        NA 945279260 010590\n",
       "4 SALVATIERRABIDE, 9              945142100        NA 945143318 010590\n",
       "5 CTRA. VITORIA - LOGROÑO, KM. 59 945006900 945006876 945006901 010318\n",
       "  MUNICIPIOS      CODPROV ... BCO ALI SPECT PET MAMOS DO DIAL X        \n",
       "1 Vitoria-Gasteiz 01      ... 0   0   0     0   0     0  0    -2.678612\n",
       "2 Vitoria-Gasteiz 01      ... 0   0   0     0   1     1  1    -2.676640\n",
       "3 Vitoria-Gasteiz 01      ... 0   0   0     0   1     1  0    -2.668035\n",
       "4 Vitoria-Gasteiz 01      ... 0   0   0     0   0     0  0    -2.680386\n",
       "5 Laguardia       01      ... 0   0   0     0   0     0  0    -2.638635\n",
       "  Y        CalidadGeocodificacion\n",
       "1 42.83566 Manual                \n",
       "2 42.84966 PointAddress          \n",
       "3 42.84976 PointAddress          \n",
       "4 42.83758 PointAddress          \n",
       "5 42.57599 Manual                "
      ]
     },
     "metadata": {},
     "output_type": "display_data"
    }
   ],
   "source": [
    "data_01 |> slice_head(n = 5)"
   ]
  },
  {
   "attachments": {},
   "cell_type": "markdown",
   "metadata": {},
   "source": [
    "2. Hospitales del SNS"
   ]
  },
  {
   "cell_type": "markdown",
   "metadata": {},
   "source": [
    "<font color='tomato'><b> OPCION A:</b> Seleccionar fichero en ventana para mayor comodidad</font> "
   ]
  },
  {
   "cell_type": "markdown",
   "metadata": {},
   "source": [
    "Data load using the {tcltk} package. Ucomment the line if not using this option"
   ]
  },
  {
   "cell_type": "code",
   "execution_count": 9,
   "metadata": {
    "vscode": {
     "languageId": "r"
    }
   },
   "outputs": [],
   "source": [
    "# file_data_02 <- tcltk::tk_choose.files(multi = FALSE)"
   ]
  },
  {
   "cell_type": "markdown",
   "metadata": {},
   "source": [
    "<font color='tomato'><b> OPCION B:</b> Especificar el nombre de archivo</font>\n",
    "\n"
   ]
  },
  {
   "cell_type": "code",
   "execution_count": 10,
   "metadata": {
    "vscode": {
     "languageId": "r"
    }
   },
   "outputs": [
    {
     "name": "stdout",
     "output_type": "stream",
     "text": [
      "Se leerán datos del archivo:  Data/Input/CNH_2022.xlsx"
     ]
    }
   ],
   "source": [
    "iFile_02 <- \"CNH_2022.xlsx\"\n",
    "file_data_02 <- paste0(iPath, iFile_02)\n",
    "\n",
    "if(file.exists(file_data_02)){\n",
    "    cat(\"Se leerán datos del archivo: \", file_data_02)\n",
    "} else{\n",
    "    warning(\"Cuidado: el archivo no existe.\")\n",
    "}\n"
   ]
  },
  {
   "cell_type": "markdown",
   "metadata": {},
   "source": [
    "#### Data file to dataframe\n",
    "\n",
    "Usar la función adecuada según el formato de entrada (xlsx, csv, json, ...)"
   ]
  },
  {
   "cell_type": "code",
   "execution_count": 11,
   "metadata": {
    "vscode": {
     "languageId": "r"
    }
   },
   "outputs": [],
   "source": [
    "data_02 <- read_excel(file_data_02, sheet = \"DIRECTORIO DE HOSPITALES\")\n"
   ]
  },
  {
   "cell_type": "markdown",
   "metadata": {},
   "source": [
    "Estructura de  los datos:"
   ]
  },
  {
   "cell_type": "code",
   "execution_count": 12,
   "metadata": {
    "vscode": {
     "languageId": "r"
    }
   },
   "outputs": [
    {
     "name": "stdout",
     "output_type": "stream",
     "text": [
      "Rows: 832\n",
      "Columns: 22\n",
      "$ CCN                     \u001b[3m\u001b[90m<chr>\u001b[39m\u001b[23m \"1531000730\", \"1531000737\", \"1531000733\", \"153…\n",
      "$ CODCNH                  \u001b[3m\u001b[90m<chr>\u001b[39m\u001b[23m \"310121\", \"310044\", \"310060\", \"310057\", \"31007…\n",
      "$ `Nombre Centro`         \u001b[3m\u001b[90m<chr>\u001b[39m\u001b[23m \"HOSPITAL GARCIA ORCOYEN\", \"HOSPITAL SAN JUAN …\n",
      "$ Dirección               \u001b[3m\u001b[90m<chr>\u001b[39m\u001b[23m \"CALLE SANTA SORIA 22 -\", \"CALLE BELOSO ALTO 3…\n",
      "$ Teléfono                \u001b[3m\u001b[90m<chr>\u001b[39m\u001b[23m \"848435000\", \"948231800\", \"948255400\", \"948140…\n",
      "$ `Cód. Municipio`        \u001b[3m\u001b[90m<chr>\u001b[39m\u001b[23m \"310977\", \"312016\", \"312016\", \"312016\", \"31201…\n",
      "$ Municipio               \u001b[3m\u001b[90m<chr>\u001b[39m\u001b[23m \"Estella-Lizarra\", \"Pamplona/Iruña\", \"Pamplona…\n",
      "$ `Cód. Provincia`        \u001b[3m\u001b[90m<chr>\u001b[39m\u001b[23m \"31\", \"31\", \"31\", \"31\", \"31\", \"31\", \"31\", \"31\"…\n",
      "$ Provincia               \u001b[3m\u001b[90m<chr>\u001b[39m\u001b[23m \"NAVARRA\", \"NAVARRA\", \"NAVARRA\", \"NAVARRA\", \"N…\n",
      "$ `Cód. CCAA`             \u001b[3m\u001b[90m<chr>\u001b[39m\u001b[23m \"15\", \"15\", \"15\", \"15\", \"15\", \"15\", \"15\", \"15\"…\n",
      "$ CCAA                    \u001b[3m\u001b[90m<chr>\u001b[39m\u001b[23m \"C. FORAL DE NAVARRA\", \"C. FORAL DE NAVARRA\", …\n",
      "$ `Código Postal`         \u001b[3m\u001b[90m<chr>\u001b[39m\u001b[23m \"31200\", \"31006\", \"31008\", \"31014\", \"31006\", \"…\n",
      "$ CAMAS                   \u001b[3m\u001b[90m<chr>\u001b[39m\u001b[23m \"106\", \"256\", \"230\", \"237\", \"72\", \"84\", \"1077\"…\n",
      "$ `Cód. Clase de Centro`  \u001b[3m\u001b[90m<chr>\u001b[39m\u001b[23m \"C11\", \"C11\", \"C11\", \"C14\", \"C11\", \"C14\", \"C11…\n",
      "$ `Clase de Centro`       \u001b[3m\u001b[90m<chr>\u001b[39m\u001b[23m \"Hospitales Generales\", \"Hospitales Generales\"…\n",
      "$ `Cód. Dep. Funcional`   \u001b[3m\u001b[90m<chr>\u001b[39m\u001b[23m \"2\", \"20\", \"20\", \"20\", \"20\", \"2\", \"2\", \"2\", \"2…\n",
      "$ `Dependencia Funcional` \u001b[3m\u001b[90m<chr>\u001b[39m\u001b[23m \"SERVICIOS E INSTITUTOS DE SALUD DE LAS COMUNI…\n",
      "$ `Forma parte Complejo`  \u001b[3m\u001b[90m<chr>\u001b[39m\u001b[23m \"N\", \"N\", \"N\", \"N\", \"N\", \"N\", \"N\", \"N\", \"N\", \"…\n",
      "$ CODIDCOM                \u001b[3m\u001b[90m<chr>\u001b[39m\u001b[23m NA, NA, NA, NA, NA, NA, NA, NA, NA, NA, NA, NA…\n",
      "$ `Nombre del Complejo`   \u001b[3m\u001b[90m<chr>\u001b[39m\u001b[23m NA, NA, NA, NA, NA, NA, NA, NA, NA, NA, NA, NA…\n",
      "$ ALTA                    \u001b[3m\u001b[90m<chr>\u001b[39m\u001b[23m \"N\", \"N\", \"N\", \"N\", \"N\", \"N\", \"N\", \"N\", \"N\", \"…\n",
      "$ Email                   \u001b[3m\u001b[90m<chr>\u001b[39m\u001b[23m \"GERENCIA.AREASALUD.ESTELLA@NAVARRA.ES\", \"HSJD…\n"
     ]
    }
   ],
   "source": [
    "data_02 |> glimpse()"
   ]
  },
  {
   "cell_type": "markdown",
   "metadata": {},
   "source": [
    "Muestra de datos:"
   ]
  },
  {
   "cell_type": "code",
   "execution_count": 13,
   "metadata": {
    "vscode": {
     "languageId": "r"
    }
   },
   "outputs": [
    {
     "data": {
      "text/html": [
       "<table class=\"dataframe\">\n",
       "<caption>A tibble: 5 x 22</caption>\n",
       "<thead>\n",
       "\t<tr><th scope=col>CCN</th><th scope=col>CODCNH</th><th scope=col>Nombre Centro</th><th scope=col>Dirección</th><th scope=col>Teléfono</th><th scope=col>Cód. Municipio</th><th scope=col>Municipio</th><th scope=col>Cód. Provincia</th><th scope=col>Provincia</th><th scope=col>Cód. CCAA</th><th scope=col>...</th><th scope=col>CAMAS</th><th scope=col>Cód. Clase de Centro</th><th scope=col>Clase de Centro</th><th scope=col>Cód. Dep. Funcional</th><th scope=col>Dependencia Funcional</th><th scope=col>Forma parte Complejo</th><th scope=col>CODIDCOM</th><th scope=col>Nombre del Complejo</th><th scope=col>ALTA</th><th scope=col>Email</th></tr>\n",
       "\t<tr><th scope=col>&lt;chr&gt;</th><th scope=col>&lt;chr&gt;</th><th scope=col>&lt;chr&gt;</th><th scope=col>&lt;chr&gt;</th><th scope=col>&lt;chr&gt;</th><th scope=col>&lt;chr&gt;</th><th scope=col>&lt;chr&gt;</th><th scope=col>&lt;chr&gt;</th><th scope=col>&lt;chr&gt;</th><th scope=col>&lt;chr&gt;</th><th scope=col>...</th><th scope=col>&lt;chr&gt;</th><th scope=col>&lt;chr&gt;</th><th scope=col>&lt;chr&gt;</th><th scope=col>&lt;chr&gt;</th><th scope=col>&lt;chr&gt;</th><th scope=col>&lt;chr&gt;</th><th scope=col>&lt;chr&gt;</th><th scope=col>&lt;chr&gt;</th><th scope=col>&lt;chr&gt;</th><th scope=col>&lt;chr&gt;</th></tr>\n",
       "</thead>\n",
       "<tbody>\n",
       "\t<tr><td>1531000730</td><td>310121</td><td>HOSPITAL GARCIA ORCOYEN               </td><td>CALLE SANTA SORIA 22 -   </td><td>848435000</td><td>310977</td><td>Estella-Lizarra</td><td>31</td><td>NAVARRA</td><td>15</td><td>...</td><td>106</td><td>C11</td><td>Hospitales Generales                                    </td><td>2 </td><td>SERVICIOS E INSTITUTOS DE SALUD DE LAS COMUNIDADES AUTÓNOMAS</td><td>N</td><td>NA</td><td>NA</td><td>N</td><td>GERENCIA.AREASALUD.ESTELLA@NAVARRA.ES  </td></tr>\n",
       "\t<tr><td>1531000737</td><td>310044</td><td>HOSPITAL SAN JUAN DE DIOS             </td><td>CALLE BELOSO ALTO 3 -    </td><td>948231800</td><td>312016</td><td>Pamplona/Iruña </td><td>31</td><td>NAVARRA</td><td>15</td><td>...</td><td>256</td><td>C11</td><td>Hospitales Generales                                    </td><td>20</td><td>PRIVADOS                                                    </td><td>N</td><td>NA</td><td>NA</td><td>N</td><td>HSJDPAMPLONA@OHSJD.ES                  </td></tr>\n",
       "\t<tr><td>1531000733</td><td>310060</td><td>CLINICA UNIVERSIDAD DE NAVARRA        </td><td>AVENIDA PIO XII 36 -     </td><td>948255400</td><td>312016</td><td>Pamplona/Iruña </td><td>31</td><td>NAVARRA</td><td>15</td><td>...</td><td>230</td><td>C11</td><td>Hospitales Generales                                    </td><td>20</td><td>PRIVADOS                                                    </td><td>N</td><td>NA</td><td>NA</td><td>N</td><td>DIRECCIONCUN@UNAV.ES                   </td></tr>\n",
       "\t<tr><td>1531000736</td><td>310057</td><td>CLINICA PSIQUIATRICA PADRE MENNI      </td><td>CALLE JOAQUIN BEUNZA 45 -</td><td>948140611</td><td>312016</td><td>Pamplona/Iruña </td><td>31</td><td>NAVARRA</td><td>15</td><td>...</td><td>237</td><td>C14</td><td>Hospitales de salud mental y tratamiento de toxicomanías</td><td>20</td><td>PRIVADOS                                                    </td><td>N</td><td>NA</td><td>NA</td><td>N</td><td>GERENCIA.MENNIPAMPLONA@HOSPITALARIAS.ES</td></tr>\n",
       "\t<tr><td>1531000738</td><td>310076</td><td>CLINICA ARCANGEL SAN MIGUEL - PAMPLONA</td><td>CALLE BELOSO ALTO. 32 -  </td><td>948296000</td><td>312016</td><td>Pamplona/Iruña </td><td>31</td><td>NAVARRA</td><td>15</td><td>...</td><td>72 </td><td>C11</td><td>Hospitales Generales                                    </td><td>20</td><td>PRIVADOS                                                    </td><td>N</td><td>NA</td><td>NA</td><td>N</td><td>CLINICASANMIGUEL@IMQNAVARRA.COM        </td></tr>\n",
       "</tbody>\n",
       "</table>\n"
      ],
      "text/latex": [
       "A tibble: 5 x 22\n",
       "\\begin{tabular}{lllllllllllllllllllll}\n",
       " CCN & CODCNH & Nombre Centro & Dirección & Teléfono & Cód. Municipio & Municipio & Cód. Provincia & Provincia & Cód. CCAA & ... & CAMAS & Cód. Clase de Centro & Clase de Centro & Cód. Dep. Funcional & Dependencia Funcional & Forma parte Complejo & CODIDCOM & Nombre del Complejo & ALTA & Email\\\\\n",
       " <chr> & <chr> & <chr> & <chr> & <chr> & <chr> & <chr> & <chr> & <chr> & <chr> & ... & <chr> & <chr> & <chr> & <chr> & <chr> & <chr> & <chr> & <chr> & <chr> & <chr>\\\\\n",
       "\\hline\n",
       "\t 1531000730 & 310121 & HOSPITAL GARCIA ORCOYEN                & CALLE SANTA SORIA 22 -    & 848435000 & 310977 & Estella-Lizarra & 31 & NAVARRA & 15 & ... & 106 & C11 & Hospitales Generales                                     & 2  & SERVICIOS E INSTITUTOS DE SALUD DE LAS COMUNIDADES AUTÓNOMAS & N & NA & NA & N & GERENCIA.AREASALUD.ESTELLA@NAVARRA.ES  \\\\\n",
       "\t 1531000737 & 310044 & HOSPITAL SAN JUAN DE DIOS              & CALLE BELOSO ALTO 3 -     & 948231800 & 312016 & Pamplona/Iruña  & 31 & NAVARRA & 15 & ... & 256 & C11 & Hospitales Generales                                     & 20 & PRIVADOS                                                     & N & NA & NA & N & HSJDPAMPLONA@OHSJD.ES                  \\\\\n",
       "\t 1531000733 & 310060 & CLINICA UNIVERSIDAD DE NAVARRA         & AVENIDA PIO XII 36 -      & 948255400 & 312016 & Pamplona/Iruña  & 31 & NAVARRA & 15 & ... & 230 & C11 & Hospitales Generales                                     & 20 & PRIVADOS                                                     & N & NA & NA & N & DIRECCIONCUN@UNAV.ES                   \\\\\n",
       "\t 1531000736 & 310057 & CLINICA PSIQUIATRICA PADRE MENNI       & CALLE JOAQUIN BEUNZA 45 - & 948140611 & 312016 & Pamplona/Iruña  & 31 & NAVARRA & 15 & ... & 237 & C14 & Hospitales de salud mental y tratamiento de toxicomanías & 20 & PRIVADOS                                                     & N & NA & NA & N & GERENCIA.MENNIPAMPLONA@HOSPITALARIAS.ES\\\\\n",
       "\t 1531000738 & 310076 & CLINICA ARCANGEL SAN MIGUEL - PAMPLONA & CALLE BELOSO ALTO. 32 -   & 948296000 & 312016 & Pamplona/Iruña  & 31 & NAVARRA & 15 & ... & 72  & C11 & Hospitales Generales                                     & 20 & PRIVADOS                                                     & N & NA & NA & N & CLINICASANMIGUEL@IMQNAVARRA.COM        \\\\\n",
       "\\end{tabular}\n"
      ],
      "text/markdown": [
       "\n",
       "A tibble: 5 x 22\n",
       "\n",
       "| CCN &lt;chr&gt; | CODCNH &lt;chr&gt; | Nombre Centro &lt;chr&gt; | Dirección &lt;chr&gt; | Teléfono &lt;chr&gt; | Cód. Municipio &lt;chr&gt; | Municipio &lt;chr&gt; | Cód. Provincia &lt;chr&gt; | Provincia &lt;chr&gt; | Cód. CCAA &lt;chr&gt; | ... ... | CAMAS &lt;chr&gt; | Cód. Clase de Centro &lt;chr&gt; | Clase de Centro &lt;chr&gt; | Cód. Dep. Funcional &lt;chr&gt; | Dependencia Funcional &lt;chr&gt; | Forma parte Complejo &lt;chr&gt; | CODIDCOM &lt;chr&gt; | Nombre del Complejo &lt;chr&gt; | ALTA &lt;chr&gt; | Email &lt;chr&gt; |\n",
       "|---|---|---|---|---|---|---|---|---|---|---|---|---|---|---|---|---|---|---|---|---|\n",
       "| 1531000730 | 310121 | HOSPITAL GARCIA ORCOYEN                | CALLE SANTA SORIA 22 -    | 848435000 | 310977 | Estella-Lizarra | 31 | NAVARRA | 15 | ... | 106 | C11 | Hospitales Generales                                     | 2  | SERVICIOS E INSTITUTOS DE SALUD DE LAS COMUNIDADES AUTÓNOMAS | N | NA | NA | N | GERENCIA.AREASALUD.ESTELLA@NAVARRA.ES   |\n",
       "| 1531000737 | 310044 | HOSPITAL SAN JUAN DE DIOS              | CALLE BELOSO ALTO 3 -     | 948231800 | 312016 | Pamplona/Iruña  | 31 | NAVARRA | 15 | ... | 256 | C11 | Hospitales Generales                                     | 20 | PRIVADOS                                                     | N | NA | NA | N | HSJDPAMPLONA@OHSJD.ES                   |\n",
       "| 1531000733 | 310060 | CLINICA UNIVERSIDAD DE NAVARRA         | AVENIDA PIO XII 36 -      | 948255400 | 312016 | Pamplona/Iruña  | 31 | NAVARRA | 15 | ... | 230 | C11 | Hospitales Generales                                     | 20 | PRIVADOS                                                     | N | NA | NA | N | DIRECCIONCUN@UNAV.ES                    |\n",
       "| 1531000736 | 310057 | CLINICA PSIQUIATRICA PADRE MENNI       | CALLE JOAQUIN BEUNZA 45 - | 948140611 | 312016 | Pamplona/Iruña  | 31 | NAVARRA | 15 | ... | 237 | C14 | Hospitales de salud mental y tratamiento de toxicomanías | 20 | PRIVADOS                                                     | N | NA | NA | N | GERENCIA.MENNIPAMPLONA@HOSPITALARIAS.ES |\n",
       "| 1531000738 | 310076 | CLINICA ARCANGEL SAN MIGUEL - PAMPLONA | CALLE BELOSO ALTO. 32 -   | 948296000 | 312016 | Pamplona/Iruña  | 31 | NAVARRA | 15 | ... | 72  | C11 | Hospitales Generales                                     | 20 | PRIVADOS                                                     | N | NA | NA | N | CLINICASANMIGUEL@IMQNAVARRA.COM         |\n",
       "\n"
      ],
      "text/plain": [
       "  CCN        CODCNH Nombre Centro                         \n",
       "1 1531000730 310121 HOSPITAL GARCIA ORCOYEN               \n",
       "2 1531000737 310044 HOSPITAL SAN JUAN DE DIOS             \n",
       "3 1531000733 310060 CLINICA UNIVERSIDAD DE NAVARRA        \n",
       "4 1531000736 310057 CLINICA PSIQUIATRICA PADRE MENNI      \n",
       "5 1531000738 310076 CLINICA ARCANGEL SAN MIGUEL - PAMPLONA\n",
       "  Dirección                 Teléfono  Cód. Municipio Municipio      \n",
       "1 CALLE SANTA SORIA 22 -    848435000 310977         Estella-Lizarra\n",
       "2 CALLE BELOSO ALTO 3 -     948231800 312016         Pamplona/Iruña \n",
       "3 AVENIDA PIO XII 36 -      948255400 312016         Pamplona/Iruña \n",
       "4 CALLE JOAQUIN BEUNZA 45 - 948140611 312016         Pamplona/Iruña \n",
       "5 CALLE BELOSO ALTO. 32 -   948296000 312016         Pamplona/Iruña \n",
       "  Cód. Provincia Provincia Cód. CCAA ... CAMAS Cód. Clase de Centro\n",
       "1 31             NAVARRA   15        ... 106   C11                 \n",
       "2 31             NAVARRA   15        ... 256   C11                 \n",
       "3 31             NAVARRA   15        ... 230   C11                 \n",
       "4 31             NAVARRA   15        ... 237   C14                 \n",
       "5 31             NAVARRA   15        ... 72    C11                 \n",
       "  Clase de Centro                                          Cód. Dep. Funcional\n",
       "1 Hospitales Generales                                     2                  \n",
       "2 Hospitales Generales                                     20                 \n",
       "3 Hospitales Generales                                     20                 \n",
       "4 Hospitales de salud mental y tratamiento de toxicomanías 20                 \n",
       "5 Hospitales Generales                                     20                 \n",
       "  Dependencia Funcional                                       \n",
       "1 SERVICIOS E INSTITUTOS DE SALUD DE LAS COMUNIDADES AUTÓNOMAS\n",
       "2 PRIVADOS                                                    \n",
       "3 PRIVADOS                                                    \n",
       "4 PRIVADOS                                                    \n",
       "5 PRIVADOS                                                    \n",
       "  Forma parte Complejo CODIDCOM Nombre del Complejo ALTA\n",
       "1 N                    NA       NA                  N   \n",
       "2 N                    NA       NA                  N   \n",
       "3 N                    NA       NA                  N   \n",
       "4 N                    NA       NA                  N   \n",
       "5 N                    NA       NA                  N   \n",
       "  Email                                  \n",
       "1 GERENCIA.AREASALUD.ESTELLA@NAVARRA.ES  \n",
       "2 HSJDPAMPLONA@OHSJD.ES                  \n",
       "3 DIRECCIONCUN@UNAV.ES                   \n",
       "4 GERENCIA.MENNIPAMPLONA@HOSPITALARIAS.ES\n",
       "5 CLINICASANMIGUEL@IMQNAVARRA.COM        "
      ]
     },
     "metadata": {},
     "output_type": "display_data"
    }
   ],
   "source": [
    "data_02 |> slice_head(n = 5)"
   ]
  },
  {
   "attachments": {},
   "cell_type": "markdown",
   "metadata": {},
   "source": [
    "3. Lista de espera"
   ]
  },
  {
   "cell_type": "markdown",
   "metadata": {},
   "source": [
    "<font color='tomato'><b> OPCION A:</b> Seleccionar fichero en ventana para mayor comodidad</font> "
   ]
  },
  {
   "cell_type": "markdown",
   "metadata": {},
   "source": [
    "Data load using the {tcltk} package. Ucomment the line if not using this option"
   ]
  },
  {
   "cell_type": "code",
   "execution_count": 14,
   "metadata": {
    "vscode": {
     "languageId": "r"
    }
   },
   "outputs": [],
   "source": [
    "# file_data_03 <- tcltk::tk_choose.files(multi = FALSE)"
   ]
  },
  {
   "cell_type": "markdown",
   "metadata": {},
   "source": [
    "<font color='tomato'><b> OPCION B:</b> Especificar el nombre de archivo</font>\n",
    "\n"
   ]
  },
  {
   "cell_type": "code",
   "execution_count": 15,
   "metadata": {
    "vscode": {
     "languageId": "r"
    }
   },
   "outputs": [
    {
     "name": "stdout",
     "output_type": "stream",
     "text": [
      "Se leerán datos del archivo:  Data/Input/CU_25_05_04_lista_espera.csv"
     ]
    }
   ],
   "source": [
    "iFile_03 <- \"CU_25_05_04_lista_espera.csv\"\n",
    "file_data_03 <- paste0(iPath, iFile_03)\n",
    "\n",
    "if(file.exists(file_data_03)){\n",
    "    cat(\"Se leerán datos del archivo: \", file_data_03)\n",
    "} else{\n",
    "    warning(\"Cuidado: el archivo no existe.\")\n",
    "}\n"
   ]
  },
  {
   "cell_type": "markdown",
   "metadata": {},
   "source": [
    "#### Data file to dataframe\n",
    "\n",
    "Usar la función adecuada según el formato de entrada (xlsx, csv, json, ...)"
   ]
  },
  {
   "cell_type": "code",
   "execution_count": 16,
   "metadata": {
    "vscode": {
     "languageId": "r"
    }
   },
   "outputs": [
    {
     "name": "stderr",
     "output_type": "stream",
     "text": [
      "\u001b[1mRows: \u001b[22m\u001b[34m55680\u001b[39m \u001b[1mColumns: \u001b[22m\u001b[34m6\u001b[39m\n",
      "\u001b[36m──\u001b[39m \u001b[1mColumn specification\u001b[22m \u001b[36m────────────────────────────────────────────────────────\u001b[39m\n",
      "\u001b[1mDelimiter:\u001b[22m \",\"\n",
      "\u001b[31mchr\u001b[39m (2): Hospital, Especialidad\n",
      "\u001b[32mdbl\u001b[39m (4): total_pacientes, media_tiempo_dias, ano, semana\n",
      "\n",
      "\u001b[36mℹ\u001b[39m Use `spec()` to retrieve the full column specification for this data.\n",
      "\u001b[36mℹ\u001b[39m Specify the column types or set `show_col_types = FALSE` to quiet this message.\n"
     ]
    }
   ],
   "source": [
    "data_03 <- read_csv(file_data_03)\n"
   ]
  },
  {
   "cell_type": "markdown",
   "metadata": {},
   "source": [
    "Estructura de  los datos:"
   ]
  },
  {
   "cell_type": "code",
   "execution_count": 17,
   "metadata": {
    "vscode": {
     "languageId": "r"
    }
   },
   "outputs": [
    {
     "name": "stdout",
     "output_type": "stream",
     "text": [
      "Rows: 55,680\n",
      "Columns: 6\n",
      "$ Hospital          \u001b[3m\u001b[90m<chr>\u001b[39m\u001b[23m \"HOSPITAL CENTRAL DE LA CRUZ ROJA SAN JOSE Y SANTA A…\n",
      "$ Especialidad      \u001b[3m\u001b[90m<chr>\u001b[39m\u001b[23m \"Angiología y Cirugía Vascular\", \"Angiología y Cirug…\n",
      "$ total_pacientes   \u001b[3m\u001b[90m<dbl>\u001b[39m\u001b[23m 439, 437, 429, 419, 418, NA, 408, 399, 396, 393, 378…\n",
      "$ media_tiempo_dias \u001b[3m\u001b[90m<dbl>\u001b[39m\u001b[23m 56.29, 55.13, 53.99, 56.29, 55.82, NA, 57.45, 57.61,…\n",
      "$ ano               \u001b[3m\u001b[90m<dbl>\u001b[39m\u001b[23m 2022, 2022, 2022, 2022, 2022, 2022, 2022, 2022, 2022…\n",
      "$ semana            \u001b[3m\u001b[90m<dbl>\u001b[39m\u001b[23m 44, 43, 42, 41, 40, 39, 38, 37, 36, 35, 34, 33, 32, …\n"
     ]
    }
   ],
   "source": [
    "data_03 |> glimpse()"
   ]
  },
  {
   "cell_type": "markdown",
   "metadata": {},
   "source": [
    "Muestra de datos:"
   ]
  },
  {
   "cell_type": "code",
   "execution_count": 18,
   "metadata": {
    "vscode": {
     "languageId": "r"
    }
   },
   "outputs": [
    {
     "data": {
      "text/html": [
       "<table class=\"dataframe\">\n",
       "<caption>A spec_tbl_df: 5 x 6</caption>\n",
       "<thead>\n",
       "\t<tr><th scope=col>Hospital</th><th scope=col>Especialidad</th><th scope=col>total_pacientes</th><th scope=col>media_tiempo_dias</th><th scope=col>ano</th><th scope=col>semana</th></tr>\n",
       "\t<tr><th scope=col>&lt;chr&gt;</th><th scope=col>&lt;chr&gt;</th><th scope=col>&lt;dbl&gt;</th><th scope=col>&lt;dbl&gt;</th><th scope=col>&lt;dbl&gt;</th><th scope=col>&lt;dbl&gt;</th></tr>\n",
       "</thead>\n",
       "<tbody>\n",
       "\t<tr><td>HOSPITAL CENTRAL DE LA CRUZ ROJA SAN JOSE Y SANTA ADELA</td><td>Angiología y Cirugía Vascular</td><td>439</td><td>56.29</td><td>2022</td><td>44</td></tr>\n",
       "\t<tr><td>HOSPITAL CENTRAL DE LA CRUZ ROJA SAN JOSE Y SANTA ADELA</td><td>Angiología y Cirugía Vascular</td><td>437</td><td>55.13</td><td>2022</td><td>43</td></tr>\n",
       "\t<tr><td>HOSPITAL CENTRAL DE LA CRUZ ROJA SAN JOSE Y SANTA ADELA</td><td>Angiología y Cirugía Vascular</td><td>429</td><td>53.99</td><td>2022</td><td>42</td></tr>\n",
       "\t<tr><td>HOSPITAL CENTRAL DE LA CRUZ ROJA SAN JOSE Y SANTA ADELA</td><td>Angiología y Cirugía Vascular</td><td>419</td><td>56.29</td><td>2022</td><td>41</td></tr>\n",
       "\t<tr><td>HOSPITAL CENTRAL DE LA CRUZ ROJA SAN JOSE Y SANTA ADELA</td><td>Angiología y Cirugía Vascular</td><td>418</td><td>55.82</td><td>2022</td><td>40</td></tr>\n",
       "</tbody>\n",
       "</table>\n"
      ],
      "text/latex": [
       "A spec\\_tbl\\_df: 5 x 6\n",
       "\\begin{tabular}{llllll}\n",
       " Hospital & Especialidad & total\\_pacientes & media\\_tiempo\\_dias & ano & semana\\\\\n",
       " <chr> & <chr> & <dbl> & <dbl> & <dbl> & <dbl>\\\\\n",
       "\\hline\n",
       "\t HOSPITAL CENTRAL DE LA CRUZ ROJA SAN JOSE Y SANTA ADELA & Angiología y Cirugía Vascular & 439 & 56.29 & 2022 & 44\\\\\n",
       "\t HOSPITAL CENTRAL DE LA CRUZ ROJA SAN JOSE Y SANTA ADELA & Angiología y Cirugía Vascular & 437 & 55.13 & 2022 & 43\\\\\n",
       "\t HOSPITAL CENTRAL DE LA CRUZ ROJA SAN JOSE Y SANTA ADELA & Angiología y Cirugía Vascular & 429 & 53.99 & 2022 & 42\\\\\n",
       "\t HOSPITAL CENTRAL DE LA CRUZ ROJA SAN JOSE Y SANTA ADELA & Angiología y Cirugía Vascular & 419 & 56.29 & 2022 & 41\\\\\n",
       "\t HOSPITAL CENTRAL DE LA CRUZ ROJA SAN JOSE Y SANTA ADELA & Angiología y Cirugía Vascular & 418 & 55.82 & 2022 & 40\\\\\n",
       "\\end{tabular}\n"
      ],
      "text/markdown": [
       "\n",
       "A spec_tbl_df: 5 x 6\n",
       "\n",
       "| Hospital &lt;chr&gt; | Especialidad &lt;chr&gt; | total_pacientes &lt;dbl&gt; | media_tiempo_dias &lt;dbl&gt; | ano &lt;dbl&gt; | semana &lt;dbl&gt; |\n",
       "|---|---|---|---|---|---|\n",
       "| HOSPITAL CENTRAL DE LA CRUZ ROJA SAN JOSE Y SANTA ADELA | Angiología y Cirugía Vascular | 439 | 56.29 | 2022 | 44 |\n",
       "| HOSPITAL CENTRAL DE LA CRUZ ROJA SAN JOSE Y SANTA ADELA | Angiología y Cirugía Vascular | 437 | 55.13 | 2022 | 43 |\n",
       "| HOSPITAL CENTRAL DE LA CRUZ ROJA SAN JOSE Y SANTA ADELA | Angiología y Cirugía Vascular | 429 | 53.99 | 2022 | 42 |\n",
       "| HOSPITAL CENTRAL DE LA CRUZ ROJA SAN JOSE Y SANTA ADELA | Angiología y Cirugía Vascular | 419 | 56.29 | 2022 | 41 |\n",
       "| HOSPITAL CENTRAL DE LA CRUZ ROJA SAN JOSE Y SANTA ADELA | Angiología y Cirugía Vascular | 418 | 55.82 | 2022 | 40 |\n",
       "\n"
      ],
      "text/plain": [
       "  Hospital                                               \n",
       "1 HOSPITAL CENTRAL DE LA CRUZ ROJA SAN JOSE Y SANTA ADELA\n",
       "2 HOSPITAL CENTRAL DE LA CRUZ ROJA SAN JOSE Y SANTA ADELA\n",
       "3 HOSPITAL CENTRAL DE LA CRUZ ROJA SAN JOSE Y SANTA ADELA\n",
       "4 HOSPITAL CENTRAL DE LA CRUZ ROJA SAN JOSE Y SANTA ADELA\n",
       "5 HOSPITAL CENTRAL DE LA CRUZ ROJA SAN JOSE Y SANTA ADELA\n",
       "  Especialidad                  total_pacientes media_tiempo_dias ano  semana\n",
       "1 Angiología y Cirugía Vascular 439             56.29             2022 44    \n",
       "2 Angiología y Cirugía Vascular 437             55.13             2022 43    \n",
       "3 Angiología y Cirugía Vascular 429             53.99             2022 42    \n",
       "4 Angiología y Cirugía Vascular 419             56.29             2022 41    \n",
       "5 Angiología y Cirugía Vascular 418             55.82             2022 40    "
      ]
     },
     "metadata": {},
     "output_type": "display_data"
    }
   ],
   "source": [
    "data_03 |> slice_head(n = 5)"
   ]
  },
  {
   "attachments": {},
   "cell_type": "markdown",
   "metadata": {},
   "source": [
    "4. Áreas sanitarias"
   ]
  },
  {
   "cell_type": "markdown",
   "metadata": {},
   "source": [
    "<font color='tomato'><b> OPCION A:</b> Seleccionar fichero en ventana para mayor comodidad</font> "
   ]
  },
  {
   "cell_type": "markdown",
   "metadata": {},
   "source": [
    "Data load using the {tcltk} package. Ucomment the line if not using this option"
   ]
  },
  {
   "cell_type": "code",
   "execution_count": 19,
   "metadata": {
    "vscode": {
     "languageId": "r"
    }
   },
   "outputs": [],
   "source": [
    "# file_data_04 <- tcltk::tk_choose.files(multi = FALSE)"
   ]
  },
  {
   "cell_type": "markdown",
   "metadata": {},
   "source": [
    "<font color='tomato'><b> OPCION B:</b> Especificar el nombre de archivo</font>\n",
    "\n"
   ]
  },
  {
   "cell_type": "code",
   "execution_count": 20,
   "metadata": {
    "vscode": {
     "languageId": "r"
    }
   },
   "outputs": [
    {
     "name": "stdout",
     "output_type": "stream",
     "text": [
      "Se leerán datos del archivo:  Data/Input/CU_25_05_03_areasgeo.json"
     ]
    }
   ],
   "source": [
    "iFile_04 <- \"CU_25_05_03_areasgeo.json\"\n",
    "file_data_04 <- paste0(iPath, iFile_04)\n",
    "\n",
    "if(file.exists(file_data_04)){\n",
    "    cat(\"Se leerán datos del archivo: \", file_data_04)\n",
    "} else{\n",
    "    warning(\"Cuidado: el archivo no existe.\")\n",
    "}\n"
   ]
  },
  {
   "cell_type": "markdown",
   "metadata": {},
   "source": [
    "#### Data file to dataframe\n",
    "\n",
    "Usar la función adecuada según el formato de entrada (xlsx, csv, json, ...)"
   ]
  },
  {
   "cell_type": "code",
   "execution_count": 21,
   "metadata": {
    "vscode": {
     "languageId": "r"
    }
   },
   "outputs": [
    {
     "name": "stdout",
     "output_type": "stream",
     "text": [
      "options:        ENCODING=latin1 \n"
     ]
    },
    {
     "name": "stderr",
     "output_type": "stream",
     "text": [
      "Warning message in CPL_read_ogr(dsn, layer, query, as.character(options), quiet, :\n",
      "“GDAL Message 6: driver GeoJSON does not support open option ENCODING”\n"
     ]
    },
    {
     "name": "stdout",
     "output_type": "stream",
     "text": [
      "Reading layer `CU_25_05_03_areasgeo' from data source \n",
      "  `/Users/emilio.lcano/academico/gh_repos/__transferencia/citizenlab/CitizenLab-Research-and-Development/casos_urjc/notebooks/II_data_processing/25_listas_espera/Data/Input/CU_25_05_03_areasgeo.json' \n",
      "  using driver `GeoJSON'\n",
      "Simple feature collection with 11 features and 3 fields\n",
      "Geometry type: MULTIPOLYGON\n",
      "Dimension:     XY\n",
      "Bounding box:  xmin: 365635.7 ymin: 4415272 xmax: 495484 ymax: 4557310\n",
      "Geodetic CRS:  WGS 84\n"
     ]
    },
    {
     "name": "stderr",
     "output_type": "stream",
     "text": [
      "Warning message:\n",
      "“st_crs<- : replacing crs does not reproject data; use st_transform for that”\n"
     ]
    }
   ],
   "source": [
    "data_04 <- st_read(file_data_04, \n",
    "    options = \"ENCODING=latin1\") |> \n",
    "    st_set_crs(23030) |> \n",
    "    st_transform(4326)\n"
   ]
  },
  {
   "cell_type": "markdown",
   "metadata": {},
   "source": [
    "Estructura de  los datos:"
   ]
  },
  {
   "cell_type": "code",
   "execution_count": 22,
   "metadata": {
    "vscode": {
     "languageId": "r"
    }
   },
   "outputs": [
    {
     "name": "stdout",
     "output_type": "stream",
     "text": [
      "Rows: 11\n",
      "Columns: 4\n",
      "$ CODBDT    \u001b[3m\u001b[90m<int>\u001b[39m\u001b[23m 958285, 958286, 958287, 958288, 958289, 958290, 958291, 9582…\n",
      "$ GEOCODIGO \u001b[3m\u001b[90m<chr>\u001b[39m\u001b[23m \"01\", \"02\", \"03\", \"04\", \"05\", \"06\", \"07\", \"08\", \"09\", \"10\", …\n",
      "$ DESBDT    \u001b[3m\u001b[90m<chr>\u001b[39m\u001b[23m \"Sur-Este\", \"Centro-Norte\", \"Este\", \"Noreste\", \"Norte\", \"Oes…\n",
      "$ geometry  \u001b[3m\u001b[90m<MULTIPOLYGON [°]>\u001b[39m\u001b[23m MULTIPOLYGON (((-3.423161 4..., MULTIPOLYGON ((…\n"
     ]
    }
   ],
   "source": [
    "data_04 |> glimpse()"
   ]
  },
  {
   "cell_type": "markdown",
   "metadata": {},
   "source": [
    "Muestra de datos:"
   ]
  },
  {
   "cell_type": "code",
   "execution_count": 23,
   "metadata": {
    "vscode": {
     "languageId": "r"
    }
   },
   "outputs": [
    {
     "data": {
      "text/html": [
       "<table class=\"dataframe\">\n",
       "<caption>A tibble: 5 x 4</caption>\n",
       "<thead>\n",
       "\t<tr><th scope=col>CODBDT</th><th scope=col>GEOCODIGO</th><th scope=col>DESBDT</th><th scope=col>geometry</th></tr>\n",
       "\t<tr><th scope=col>&lt;int&gt;</th><th scope=col>&lt;chr&gt;</th><th scope=col>&lt;chr&gt;</th><th scope=col>&lt;MULTIPOLYGON [°]&gt;</th></tr>\n",
       "</thead>\n",
       "<tbody>\n",
       "\t<tr><td>958285</td><td>01</td><td>Sur-Este    </td><td>MULTIPOLYGON (((-3.423161 4...</td></tr>\n",
       "\t<tr><td>958286</td><td>02</td><td>Centro-Norte</td><td>MULTIPOLYGON (((-3.499207 4...</td></tr>\n",
       "\t<tr><td>958287</td><td>03</td><td>Este        </td><td>MULTIPOLYGON (((-3.323953 4...</td></tr>\n",
       "\t<tr><td>958288</td><td>04</td><td>Noreste     </td><td>MULTIPOLYGON (((-3.653662 4...</td></tr>\n",
       "\t<tr><td>958289</td><td>05</td><td>Norte       </td><td>MULTIPOLYGON (((-3.537981 4...</td></tr>\n",
       "</tbody>\n",
       "</table>\n"
      ],
      "text/latex": [
       "A tibble: 5 x 4\n",
       "\\begin{tabular}{llll}\n",
       " CODBDT & GEOCODIGO & DESBDT & geometry\\\\\n",
       " <int> & <chr> & <chr> & <MULTIPOLYGON {[}°{]}>\\\\\n",
       "\\hline\n",
       "\t 958285 & 01 & Sur-Este     & MULTIPOLYGON (((-3.423161 4...\\\\\n",
       "\t 958286 & 02 & Centro-Norte & MULTIPOLYGON (((-3.499207 4...\\\\\n",
       "\t 958287 & 03 & Este         & MULTIPOLYGON (((-3.323953 4...\\\\\n",
       "\t 958288 & 04 & Noreste      & MULTIPOLYGON (((-3.653662 4...\\\\\n",
       "\t 958289 & 05 & Norte        & MULTIPOLYGON (((-3.537981 4...\\\\\n",
       "\\end{tabular}\n"
      ],
      "text/markdown": [
       "\n",
       "A tibble: 5 x 4\n",
       "\n",
       "| CODBDT &lt;int&gt; | GEOCODIGO &lt;chr&gt; | DESBDT &lt;chr&gt; | geometry &lt;MULTIPOLYGON [°]&gt; |\n",
       "|---|---|---|---|\n",
       "| 958285 | 01 | Sur-Este     | MULTIPOLYGON (((-3.423161 4... |\n",
       "| 958286 | 02 | Centro-Norte | MULTIPOLYGON (((-3.499207 4... |\n",
       "| 958287 | 03 | Este         | MULTIPOLYGON (((-3.323953 4... |\n",
       "| 958288 | 04 | Noreste      | MULTIPOLYGON (((-3.653662 4... |\n",
       "| 958289 | 05 | Norte        | MULTIPOLYGON (((-3.537981 4... |\n",
       "\n"
      ],
      "text/plain": [
       "  CODBDT GEOCODIGO DESBDT       geometry                      \n",
       "1 958285 01        Sur-Este     MULTIPOLYGON (((-3.423161 4...\n",
       "2 958286 02        Centro-Norte MULTIPOLYGON (((-3.499207 4...\n",
       "3 958287 03        Este         MULTIPOLYGON (((-3.323953 4...\n",
       "4 958288 04        Noreste      MULTIPOLYGON (((-3.653662 4...\n",
       "5 958289 05        Norte        MULTIPOLYGON (((-3.537981 4..."
      ]
     },
     "metadata": {},
     "output_type": "display_data"
    }
   ],
   "source": [
    "data_04 |> tibble() |> slice_head(n = 5)"
   ]
  },
  {
   "cell_type": "markdown",
   "metadata": {
    "slideshow": {
     "slide_type": "slide"
    }
   },
   "source": [
    "## ETL Processes"
   ]
  },
  {
   "attachments": {},
   "cell_type": "markdown",
   "metadata": {
    "slideshow": {
     "slide_type": "slide"
    }
   },
   "source": [
    "### Import data from: CSV, Excel, Tab, JSON, SQL, and Parquet files\n",
    "\n",
    "Se han importado en el apartado Data Load anterior:\n",
    "\n",
    "* Catálogo nacional de hospitales\n",
    "* Geolocalización hospitales en datos abiertos ESRI"
   ]
  },
  {
   "attachments": {},
   "cell_type": "markdown",
   "metadata": {},
   "source": [
    "Incluir apartados si procede para: Extracción de datos (select, filter), Transformación de datos, (mutate, joins, ...). Si es necesario tratar datos perdidos, indicarlo también en NB 09.2"
   ]
  },
  {
   "attachments": {},
   "cell_type": "markdown",
   "metadata": {},
   "source": [
    "Si no aplica: Estos datos no requieren tareas de este tipo."
   ]
  },
  {
   "attachments": {},
   "cell_type": "markdown",
   "metadata": {},
   "source": [
    "#### Data transform\n",
    "\n",
    "- Los datos del Excel del ministerio no tienen tildes\n",
    "- Los datos de listas de espera de la CM no tienen tildes\n",
    "- Los datos de ESRI tienen tildes\n",
    "\n",
    "Quitamos las tildes del archivo de ESRI"
   ]
  },
  {
   "cell_type": "code",
   "execution_count": 24,
   "metadata": {
    "vscode": {
     "languageId": "r"
    }
   },
   "outputs": [],
   "source": [
    "tdata_01 <- data_01 |>\n",
    "    mutate(NOMBRE = chartr(\"ÁÉÍÓÚ\", \"AEIOU\", NOMBRE))"
   ]
  },
  {
   "attachments": {},
   "cell_type": "markdown",
   "metadata": {},
   "source": [
    "Análisis inconsistencias en nombres\n",
    "\n",
    "Hospitales cuyos nombres no coinciden:"
   ]
  },
  {
   "cell_type": "code",
   "execution_count": 25,
   "metadata": {
    "vscode": {
     "languageId": "r"
    }
   },
   "outputs": [
    {
     "data": {
      "text/html": [
       "<style>\n",
       ".list-inline {list-style: none; margin:0; padding: 0}\n",
       ".list-inline>li {display: inline-block}\n",
       ".list-inline>li:not(:last-child)::after {content: \"\\00b7\"; padding: 0 .5ex}\n",
       "</style>\n",
       "<ol class=list-inline><li>'HOSPITAL DE EL ESCORIAL'</li><li>'HOSPITAL FUNDACION JIMENEZ DIAZ'</li><li>'HOSPITAL UNIVERSITARIO GENERAL DE VILLALBA'</li><li>'HOSPITAL UNIVERSITARIO RAMON Y CAJAL'</li><li>'HOSPITAL UNIVERSITARIO REY JUAN CARLOS'</li></ol>\n"
      ],
      "text/latex": [
       "\\begin{enumerate*}\n",
       "\\item 'HOSPITAL DE EL ESCORIAL'\n",
       "\\item 'HOSPITAL FUNDACION JIMENEZ DIAZ'\n",
       "\\item 'HOSPITAL UNIVERSITARIO GENERAL DE VILLALBA'\n",
       "\\item 'HOSPITAL UNIVERSITARIO RAMON Y CAJAL'\n",
       "\\item 'HOSPITAL UNIVERSITARIO REY JUAN CARLOS'\n",
       "\\end{enumerate*}\n"
      ],
      "text/markdown": [
       "1. 'HOSPITAL DE EL ESCORIAL'\n",
       "2. 'HOSPITAL FUNDACION JIMENEZ DIAZ'\n",
       "3. 'HOSPITAL UNIVERSITARIO GENERAL DE VILLALBA'\n",
       "4. 'HOSPITAL UNIVERSITARIO RAMON Y CAJAL'\n",
       "5. 'HOSPITAL UNIVERSITARIO REY JUAN CARLOS'\n",
       "\n",
       "\n"
      ],
      "text/plain": [
       "[1] \"HOSPITAL DE EL ESCORIAL\"                   \n",
       "[2] \"HOSPITAL FUNDACION JIMENEZ DIAZ\"           \n",
       "[3] \"HOSPITAL UNIVERSITARIO GENERAL DE VILLALBA\"\n",
       "[4] \"HOSPITAL UNIVERSITARIO RAMON Y CAJAL\"      \n",
       "[5] \"HOSPITAL UNIVERSITARIO REY JUAN CARLOS\"    "
      ]
     },
     "metadata": {},
     "output_type": "display_data"
    }
   ],
   "source": [
    "unique(data_03$Hospital)[!unique(data_03$Hospital) %in% tdata_01$NOMBRE] |> \n",
    "  sort()"
   ]
  },
  {
   "attachments": {},
   "cell_type": "markdown",
   "metadata": {},
   "source": [
    "Alternativas:"
   ]
  },
  {
   "cell_type": "code",
   "execution_count": 26,
   "metadata": {
    "vscode": {
     "languageId": "r"
    }
   },
   "outputs": [
    {
     "data": {
      "text/html": [
       "<style>\n",
       ".list-inline {list-style: none; margin:0; padding: 0}\n",
       ".list-inline>li {display: inline-block}\n",
       ".list-inline>li:not(:last-child)::after {content: \"\\00b7\"; padding: 0 .5ex}\n",
       "</style>\n",
       "<ol class=list-inline><li>'HOSPITAL EL ESCORIAL'</li><li>'HOSPITAL GENERAL DE VILLALBA'</li><li>'HOSPITAL RAMON Y CAJAL'</li><li>'HOSPITAL REY JUAN CARLOS'</li><li>'HOSPITAL UNIVERSITARIO FUNDACION JIMENEZ DIAZ'</li></ol>\n"
      ],
      "text/latex": [
       "\\begin{enumerate*}\n",
       "\\item 'HOSPITAL EL ESCORIAL'\n",
       "\\item 'HOSPITAL GENERAL DE VILLALBA'\n",
       "\\item 'HOSPITAL RAMON Y CAJAL'\n",
       "\\item 'HOSPITAL REY JUAN CARLOS'\n",
       "\\item 'HOSPITAL UNIVERSITARIO FUNDACION JIMENEZ DIAZ'\n",
       "\\end{enumerate*}\n"
      ],
      "text/markdown": [
       "1. 'HOSPITAL EL ESCORIAL'\n",
       "2. 'HOSPITAL GENERAL DE VILLALBA'\n",
       "3. 'HOSPITAL RAMON Y CAJAL'\n",
       "4. 'HOSPITAL REY JUAN CARLOS'\n",
       "5. 'HOSPITAL UNIVERSITARIO FUNDACION JIMENEZ DIAZ'\n",
       "\n",
       "\n"
      ],
      "text/plain": [
       "[1] \"HOSPITAL EL ESCORIAL\"                         \n",
       "[2] \"HOSPITAL GENERAL DE VILLALBA\"                 \n",
       "[3] \"HOSPITAL RAMON Y CAJAL\"                       \n",
       "[4] \"HOSPITAL REY JUAN CARLOS\"                     \n",
       "[5] \"HOSPITAL UNIVERSITARIO FUNDACION JIMENEZ DIAZ\""
      ]
     },
     "metadata": {},
     "output_type": "display_data"
    }
   ],
   "source": [
    "tdata_01 |> \n",
    "  filter(str_detect(NOMBRE, \"ESCORIAL|VILLALBA|JUAN CARLOS|JIMENEZ DIAZ|RAMON Y CAJAL\")) |> \n",
    "  arrange(NOMBRE) |> \n",
    "  pull(NOMBRE)"
   ]
  },
  {
   "attachments": {},
   "cell_type": "markdown",
   "metadata": {},
   "source": [
    "- Los datos de ESRI contienen el código de hospital de CNH\n",
    "- El nombre definitivo debería ser el de la base de datos oficial de CNH\n",
    "- Asignamos nombres de ESRI provisionalmente a los de listas de espera"
   ]
  },
  {
   "cell_type": "code",
   "execution_count": 27,
   "metadata": {
    "vscode": {
     "languageId": "r"
    }
   },
   "outputs": [],
   "source": [
    "tdata_03 <- data_03 |> \n",
    "  mutate(Hospital = recode(Hospital, \n",
    "                           \"HOSPITAL DE EL ESCORIAL\" = \"HOSPITAL EL ESCORIAL\",\n",
    "                           \"HOSPITAL FUNDACION JIMENEZ DIAZ\" = \"HOSPITAL UNIVERSITARIO FUNDACION JIMENEZ DIAZ\",\n",
    "                           \"HOSPITAL UNIVERSITARIO GENERAL DE VILLALBA\" = \"HOSPITAL GENERAL DE VILLALBA\",\n",
    "                           \"HOSPITAL UNIVERSITARIO RAMON Y CAJAL\" = \"HOSPITAL RAMON Y CAJAL\",\n",
    "                           \"HOSPITAL UNIVERSITARIO REY JUAN CARLOS\" = \"HOSPITAL REY JUAN CARLOS\"))"
   ]
  },
  {
   "attachments": {},
   "cell_type": "markdown",
   "metadata": {},
   "source": [
    "* Asignar coordendas a catálogo de hospitales que están en la Comunidad de Madrid\n",
    "* Convertir número de camas en numérica"
   ]
  },
  {
   "cell_type": "code",
   "execution_count": 28,
   "metadata": {
    "vscode": {
     "languageId": "r"
    }
   },
   "outputs": [],
   "source": [
    "tdata_02 <- data_02 |> \n",
    "  mutate(CAMAS = as.numeric(CAMAS)) |> \n",
    "  filter(`Cód. Provincia` == \"28\") |> \n",
    "  inner_join(tdata_01 |> \n",
    "              select(-NCAMAS, -CODIDCOM, -ALTA), \n",
    "            by = \"CODCNH\")"
   ]
  },
  {
   "cell_type": "code",
   "execution_count": 29,
   "metadata": {
    "vscode": {
     "languageId": "r"
    }
   },
   "outputs": [
    {
     "name": "stdout",
     "output_type": "stream",
     "text": [
      "Rows: 87\n",
      "Columns: 65\n",
      "$ CCN                     \u001b[3m\u001b[90m<chr>\u001b[39m\u001b[23m \"1328020932\", \"1328000034\", \"1328000070\", \"132…\n",
      "$ CODCNH                  \u001b[3m\u001b[90m<chr>\u001b[39m\u001b[23m \"281371\", \"280745\", \"281124\", \"281071\", \"28129…\n",
      "$ `Nombre Centro`         \u001b[3m\u001b[90m<chr>\u001b[39m\u001b[23m \"HOSPITAL HM VALLES\", \"HOSPITAL UNIVERSITARIO …\n",
      "$ Dirección               \u001b[3m\u001b[90m<chr>\u001b[39m\u001b[23m \"CALLE SANTIAGO 14\", \"CARRETERA DE MECO S/N\", …\n",
      "$ Teléfono                \u001b[3m\u001b[90m<chr>\u001b[39m\u001b[23m \"918883262\", \"918878100\", \"917810682\", \"916219…\n",
      "$ `Cód. Municipio`        \u001b[3m\u001b[90m<chr>\u001b[39m\u001b[23m \"280053\", \"280053\", \"280072\", \"280072\", \"28013…\n",
      "$ Municipio               \u001b[3m\u001b[90m<chr>\u001b[39m\u001b[23m \"Alcalá de Henares\", \"Alcalá de Henares\", \"Alc…\n",
      "$ `Cód. Provincia`        \u001b[3m\u001b[90m<chr>\u001b[39m\u001b[23m \"28\", \"28\", \"28\", \"28\", \"28\", \"28\", \"28\", \"28\"…\n",
      "$ Provincia               \u001b[3m\u001b[90m<chr>\u001b[39m\u001b[23m \"MADRID\", \"MADRID\", \"MADRID\", \"MADRID\", \"MADRI…\n",
      "$ `Cód. CCAA`             \u001b[3m\u001b[90m<chr>\u001b[39m\u001b[23m \"13\", \"13\", \"13\", \"13\", \"13\", \"13\", \"13\", \"13\"…\n",
      "$ CCAA                    \u001b[3m\u001b[90m<chr>\u001b[39m\u001b[23m \"MADRID\", \"MADRID\", \"MADRID\", \"MADRID\", \"MADRI…\n",
      "$ `Código Postal`         \u001b[3m\u001b[90m<chr>\u001b[39m\u001b[23m \"28801\", \"28805\", \"28922\", \"28922\", \"28300\", \"…\n",
      "$ CAMAS                   \u001b[3m\u001b[90m<dbl>\u001b[39m\u001b[23m 20, 507, 81, 402, 98, 132, 170, 53, 192, 339, …\n",
      "$ `Cód. Clase de Centro`  \u001b[3m\u001b[90m<chr>\u001b[39m\u001b[23m \"C190\", \"C11\", \"C11\", \"C11\", \"C11\", \"C11\", \"C1…\n",
      "$ `Clase de Centro`       \u001b[3m\u001b[90m<chr>\u001b[39m\u001b[23m \"Otros Centros con Internamiento\", \"Hospitales…\n",
      "$ `Cód. Dep. Funcional`   \u001b[3m\u001b[90m<chr>\u001b[39m\u001b[23m \"20\", \"2\", \"20\", \"2\", \"2\", \"2\", \"20\", \"20\", \"2…\n",
      "$ `Dependencia Funcional` \u001b[3m\u001b[90m<chr>\u001b[39m\u001b[23m \"PRIVADOS\", \"SERVICIOS E INSTITUTOS DE SALUD D…\n",
      "$ `Forma parte Complejo`  \u001b[3m\u001b[90m<chr>\u001b[39m\u001b[23m \"N\", \"N\", \"N\", \"N\", \"N\", \"N\", \"N\", \"N\", \"N\", \"…\n",
      "$ CODIDCOM                \u001b[3m\u001b[90m<chr>\u001b[39m\u001b[23m NA, NA, NA, NA, NA, NA, NA, NA, NA, NA, NA, NA…\n",
      "$ `Nombre del Complejo`   \u001b[3m\u001b[90m<chr>\u001b[39m\u001b[23m NA, NA, NA, NA, NA, NA, NA, NA, NA, NA, NA, NA…\n",
      "$ ALTA                    \u001b[3m\u001b[90m<chr>\u001b[39m\u001b[23m \"N\", \"N\", \"N\", \"N\", \"N\", \"N\", \"N\", \"N\", \"N\", \"…\n",
      "$ Email                   \u001b[3m\u001b[90m<chr>\u001b[39m\u001b[23m NA, NA, NA, \"FHALCORCON@FHALCORCON.ES\", NA, NA…\n",
      "$ OBJECTID                \u001b[3m\u001b[90m<dbl>\u001b[39m\u001b[23m 559, 516, 536, 532, 551, 550, 534, 541, 517, 5…\n",
      "$ NOMBRE                  \u001b[3m\u001b[90m<chr>\u001b[39m\u001b[23m \"HM VALLES\", \"HOSPITAL UNIVERSITARIO PRINCIPE …\n",
      "$ DIRECCION               \u001b[3m\u001b[90m<chr>\u001b[39m\u001b[23m \"C/SANTIAGO, 14\", \"CTRA. ALCALÁ-MECO, S/N\", \"E…\n",
      "$ TELEFONO                \u001b[3m\u001b[90m<dbl>\u001b[39m\u001b[23m 917374353, 918878100, 916496600, 916219400, 91…\n",
      "$ TELEFONO2               \u001b[3m\u001b[90m<dbl>\u001b[39m\u001b[23m NA, NA, NA, NA, NA, 918394000, NA, NA, NA, 646…\n",
      "$ TELEFAX                 \u001b[3m\u001b[90m<dbl>\u001b[39m\u001b[23m 912805932, 918801825, 916496604, 916219902, 91…\n",
      "$ CODMU                   \u001b[3m\u001b[90m<chr>\u001b[39m\u001b[23m \"280053\", \"280053\", \"280072\", \"280072\", \"28013…\n",
      "$ MUNICIPIOS              \u001b[3m\u001b[90m<chr>\u001b[39m\u001b[23m \"Alcalá de Henares\", \"Alcalá de Henares\", \"Alc…\n",
      "$ CODPROV                 \u001b[3m\u001b[90m<chr>\u001b[39m\u001b[23m \"28\", \"28\", \"28\", \"28\", \"28\", \"28\", \"28\", \"28\"…\n",
      "$ PROVINCIAS              \u001b[3m\u001b[90m<chr>\u001b[39m\u001b[23m \"MADRID\", \"MADRID\", \"MADRID\", \"MADRID\", \"MADRI…\n",
      "$ CODAUTO                 \u001b[3m\u001b[90m<chr>\u001b[39m\u001b[23m \"13\", \"13\", \"13\", \"13\", \"13\", \"13\", \"13\", \"13\"…\n",
      "$ COMUNIDADES             \u001b[3m\u001b[90m<chr>\u001b[39m\u001b[23m \"MADRID\", \"MADRID\", \"MADRID\", \"MADRID\", \"MADRI…\n",
      "$ CODPOSTAL               \u001b[3m\u001b[90m<chr>\u001b[39m\u001b[23m \"28801\", \"28805\", \"28922\", \"28922\", \"28300\", \"…\n",
      "$ CODFI                   \u001b[3m\u001b[90m<dbl>\u001b[39m\u001b[23m 16, 1, 12, 1, 1, 1, 1, 1, 13, 6, 6, 1, 10, 1, …\n",
      "$ FINALIDAD_ASISITENCIAL  \u001b[3m\u001b[90m<chr>\u001b[39m\u001b[23m \"OTRA FINALIDAD\", \"GENERAL\", \"MÉDICO-QUIRÚRGIC…\n",
      "$ CODPAT                  \u001b[3m\u001b[90m<dbl>\u001b[39m\u001b[23m 14, 1, 14, 1, 6, 6, 14, 14, 1, 12, 12, 6, 10, …\n",
      "$ DEPENDENCIA_PATRIMONIAL \u001b[3m\u001b[90m<chr>\u001b[39m\u001b[23m \"PRIVADO NO BENÉFICO\", \"SEGURIDAD SOCIAL\", \"PR…\n",
      "$ CODFU                   \u001b[3m\u001b[90m<dbl>\u001b[39m\u001b[23m 23, 34, 23, 34, 34, 34, 23, 23, 34, 21, 21, 34…\n",
      "$ DEPENDENCIA_FUNCIONAL   \u001b[3m\u001b[90m<chr>\u001b[39m\u001b[23m \"PRIVADO NO BENÉFICO\", \"SERVICIO MADRILEÑO DE …\n",
      "$ ACREDOCENT              \u001b[3m\u001b[90m<chr>\u001b[39m\u001b[23m \"S\", \"S\", \"N\", \"S\", \"N\", \"N\", \"S\", \"N\", \"S\", \"…\n",
      "$ ESCOMPLE                \u001b[3m\u001b[90m<chr>\u001b[39m\u001b[23m \"N\", \"N\", \"N\", \"N\", \"N\", \"N\", \"N\", \"N\", \"N\", \"…\n",
      "$ FORCOMPLE               \u001b[3m\u001b[90m<chr>\u001b[39m\u001b[23m \"N\", \"N\", \"N\", \"N\", \"N\", \"N\", \"N\", \"N\", \"N\", \"…\n",
      "$ CERRADO                 \u001b[3m\u001b[90m<chr>\u001b[39m\u001b[23m \"N\", \"N\", \"N\", \"N\", \"N\", \"N\", \"N\", \"N\", \"N\", \"…\n",
      "$ CAPITAL                 \u001b[3m\u001b[90m<chr>\u001b[39m\u001b[23m \"N\", \"N\", \"N\", \"N\", \"N\", \"N\", \"N\", \"N\", \"N\", \"…\n",
      "$ CIERREFECH              \u001b[3m\u001b[90m<chr>\u001b[39m\u001b[23m NA, NA, NA, NA, NA, NA, NA, NA, NA, NA, NA, NA…\n",
      "$ CONCIERTO               \u001b[3m\u001b[90m<chr>\u001b[39m\u001b[23m \"S\", \"N\", \"S\", \"N\", \"N\", \"N\", \"S\", \"S\", \"N\", \"…\n",
      "$ EMAIL                   \u001b[3m\u001b[90m<chr>\u001b[39m\u001b[23m \"fgcalleja@hmhospitales.com; imarco@hmhospital…\n",
      "$ TAC                     \u001b[3m\u001b[90m<dbl>\u001b[39m\u001b[23m 1, 3, 1, 2, 1, 1, 1, 1, 0, 0, 0, 1, 1, 1, 1, 2…\n",
      "$ RM                      \u001b[3m\u001b[90m<dbl>\u001b[39m\u001b[23m 1, 2, 2, 2, 1, 1, 3, 2, 0, 0, 0, 2, 2, 1, 2, 2…\n",
      "$ GAM                     \u001b[3m\u001b[90m<dbl>\u001b[39m\u001b[23m 1, 1, 0, 1, 0, 0, 0, 0, 0, 0, 0, 0, 0, 0, 1, 0…\n",
      "$ HEM                     \u001b[3m\u001b[90m<dbl>\u001b[39m\u001b[23m 0, 1, 1, 1, 0, 0, 2, 0, 0, 0, 0, 1, 0, 0, 1, 1…\n",
      "$ ASD                     \u001b[3m\u001b[90m<dbl>\u001b[39m\u001b[23m 0, 1, 1, 1, 1, 0, 2, 0, 0, 0, 0, 0, 0, 0, 1, 1…\n",
      "$ LIT                     \u001b[3m\u001b[90m<dbl>\u001b[39m\u001b[23m 0, 0, 0, 1, 0, 0, 1, 0, 0, 0, 0, 0, 0, 0, 0, 0…\n",
      "$ BCO                     \u001b[3m\u001b[90m<dbl>\u001b[39m\u001b[23m 0, 0, 0, 0, 0, 0, 0, 0, 0, 0, 0, 0, 0, 0, 0, 0…\n",
      "$ ALI                     \u001b[3m\u001b[90m<dbl>\u001b[39m\u001b[23m 0, 0, 0, 0, 0, 0, 0, 0, 0, 0, 0, 0, 0, 0, 2, 0…\n",
      "$ SPECT                   \u001b[3m\u001b[90m<dbl>\u001b[39m\u001b[23m 0, 0, 0, 0, 0, 0, 0, 0, 0, 0, 0, 1, 0, 0, 1, 2…\n",
      "$ PET                     \u001b[3m\u001b[90m<dbl>\u001b[39m\u001b[23m 0, 0, 0, 0, 0, 0, 0, 0, 0, 0, 0, 0, 0, 0, 1, 1…\n",
      "$ MAMOS                   \u001b[3m\u001b[90m<dbl>\u001b[39m\u001b[23m 1, 2, 1, 2, 1, 1, 1, 1, 0, 0, 0, 1, 0, 2, 1, 1…\n",
      "$ DO                      \u001b[3m\u001b[90m<dbl>\u001b[39m\u001b[23m 1, 1, 1, 1, 0, 0, 1, 0, 0, 0, 0, 1, 0, 0, 1, 0…\n",
      "$ DIAL                    \u001b[3m\u001b[90m<dbl>\u001b[39m\u001b[23m 0, 28, 0, 28, 13, 18, 1, 0, 0, 0, 0, 18, 0, 25…\n",
      "$ X                       \u001b[3m\u001b[90m<dbl>\u001b[39m\u001b[23m -3.367372, -3.347602, -3.849035, -3.837394, -3…\n",
      "$ Y                       \u001b[3m\u001b[90m<dbl>\u001b[39m\u001b[23m 40.48302, 40.51025, 40.34248, 40.34887, 40.057…\n",
      "$ CalidadGeocodificacion  \u001b[3m\u001b[90m<chr>\u001b[39m\u001b[23m \"PointAddress\", \"Manual\", \"StreetAddress\", \"Ma…\n"
     ]
    }
   ],
   "source": [
    "glimpse(tdata_02)"
   ]
  },
  {
   "attachments": {},
   "cell_type": "markdown",
   "metadata": {},
   "source": [
    "Asignación del área sanitaria a los hospitales. Primero usamos objetos sf para hacer el join por geometrías, y después eliminamos estas para tener un data.frame normal y guardar como csv. "
   ]
  },
  {
   "cell_type": "code",
   "execution_count": 30,
   "metadata": {
    "vscode": {
     "languageId": "r"
    }
   },
   "outputs": [],
   "source": [
    "tdata_01_sf <- tdata_02 |> st_as_sf(coords = c(\"X\", \"Y\")) |> st_set_crs(4326) \n",
    "\n",
    "tdata_01_area <- tdata_01_sf |> \n",
    "  st_join(data_04 |> \n",
    "            select(id_area = GEOCODIGO,\n",
    "                   nombre_area = DESBDT)) |> \n",
    "  bind_cols(st_coordinates(tdata_01_sf)) |>\n",
    "  st_drop_geometry()\n",
    "\n"
   ]
  },
  {
   "cell_type": "code",
   "execution_count": 31,
   "metadata": {
    "vscode": {
     "languageId": "r"
    }
   },
   "outputs": [
    {
     "name": "stdout",
     "output_type": "stream",
     "text": [
      "Rows: 87\n",
      "Columns: 67\n",
      "$ CCN                     \u001b[3m\u001b[90m<chr>\u001b[39m\u001b[23m \"1328020932\", \"1328000034\", \"1328000070\", \"132…\n",
      "$ CODCNH                  \u001b[3m\u001b[90m<chr>\u001b[39m\u001b[23m \"281371\", \"280745\", \"281124\", \"281071\", \"28129…\n",
      "$ `Nombre Centro`         \u001b[3m\u001b[90m<chr>\u001b[39m\u001b[23m \"HOSPITAL HM VALLES\", \"HOSPITAL UNIVERSITARIO …\n",
      "$ Dirección               \u001b[3m\u001b[90m<chr>\u001b[39m\u001b[23m \"CALLE SANTIAGO 14\", \"CARRETERA DE MECO S/N\", …\n",
      "$ Teléfono                \u001b[3m\u001b[90m<chr>\u001b[39m\u001b[23m \"918883262\", \"918878100\", \"917810682\", \"916219…\n",
      "$ `Cód. Municipio`        \u001b[3m\u001b[90m<chr>\u001b[39m\u001b[23m \"280053\", \"280053\", \"280072\", \"280072\", \"28013…\n",
      "$ Municipio               \u001b[3m\u001b[90m<chr>\u001b[39m\u001b[23m \"Alcalá de Henares\", \"Alcalá de Henares\", \"Alc…\n",
      "$ `Cód. Provincia`        \u001b[3m\u001b[90m<chr>\u001b[39m\u001b[23m \"28\", \"28\", \"28\", \"28\", \"28\", \"28\", \"28\", \"28\"…\n",
      "$ Provincia               \u001b[3m\u001b[90m<chr>\u001b[39m\u001b[23m \"MADRID\", \"MADRID\", \"MADRID\", \"MADRID\", \"MADRI…\n",
      "$ `Cód. CCAA`             \u001b[3m\u001b[90m<chr>\u001b[39m\u001b[23m \"13\", \"13\", \"13\", \"13\", \"13\", \"13\", \"13\", \"13\"…\n",
      "$ CCAA                    \u001b[3m\u001b[90m<chr>\u001b[39m\u001b[23m \"MADRID\", \"MADRID\", \"MADRID\", \"MADRID\", \"MADRI…\n",
      "$ `Código Postal`         \u001b[3m\u001b[90m<chr>\u001b[39m\u001b[23m \"28801\", \"28805\", \"28922\", \"28922\", \"28300\", \"…\n",
      "$ CAMAS                   \u001b[3m\u001b[90m<dbl>\u001b[39m\u001b[23m 20, 507, 81, 402, 98, 132, 170, 53, 192, 339, …\n",
      "$ `Cód. Clase de Centro`  \u001b[3m\u001b[90m<chr>\u001b[39m\u001b[23m \"C190\", \"C11\", \"C11\", \"C11\", \"C11\", \"C11\", \"C1…\n",
      "$ `Clase de Centro`       \u001b[3m\u001b[90m<chr>\u001b[39m\u001b[23m \"Otros Centros con Internamiento\", \"Hospitales…\n",
      "$ `Cód. Dep. Funcional`   \u001b[3m\u001b[90m<chr>\u001b[39m\u001b[23m \"20\", \"2\", \"20\", \"2\", \"2\", \"2\", \"20\", \"20\", \"2…\n",
      "$ `Dependencia Funcional` \u001b[3m\u001b[90m<chr>\u001b[39m\u001b[23m \"PRIVADOS\", \"SERVICIOS E INSTITUTOS DE SALUD D…\n",
      "$ `Forma parte Complejo`  \u001b[3m\u001b[90m<chr>\u001b[39m\u001b[23m \"N\", \"N\", \"N\", \"N\", \"N\", \"N\", \"N\", \"N\", \"N\", \"…\n",
      "$ CODIDCOM                \u001b[3m\u001b[90m<chr>\u001b[39m\u001b[23m NA, NA, NA, NA, NA, NA, NA, NA, NA, NA, NA, NA…\n",
      "$ `Nombre del Complejo`   \u001b[3m\u001b[90m<chr>\u001b[39m\u001b[23m NA, NA, NA, NA, NA, NA, NA, NA, NA, NA, NA, NA…\n",
      "$ ALTA                    \u001b[3m\u001b[90m<chr>\u001b[39m\u001b[23m \"N\", \"N\", \"N\", \"N\", \"N\", \"N\", \"N\", \"N\", \"N\", \"…\n",
      "$ Email                   \u001b[3m\u001b[90m<chr>\u001b[39m\u001b[23m NA, NA, NA, \"FHALCORCON@FHALCORCON.ES\", NA, NA…\n",
      "$ OBJECTID                \u001b[3m\u001b[90m<dbl>\u001b[39m\u001b[23m 559, 516, 536, 532, 551, 550, 534, 541, 517, 5…\n",
      "$ NOMBRE                  \u001b[3m\u001b[90m<chr>\u001b[39m\u001b[23m \"HM VALLES\", \"HOSPITAL UNIVERSITARIO PRINCIPE …\n",
      "$ DIRECCION               \u001b[3m\u001b[90m<chr>\u001b[39m\u001b[23m \"C/SANTIAGO, 14\", \"CTRA. ALCALÁ-MECO, S/N\", \"E…\n",
      "$ TELEFONO                \u001b[3m\u001b[90m<dbl>\u001b[39m\u001b[23m 917374353, 918878100, 916496600, 916219400, 91…\n",
      "$ TELEFONO2               \u001b[3m\u001b[90m<dbl>\u001b[39m\u001b[23m NA, NA, NA, NA, NA, 918394000, NA, NA, NA, 646…\n",
      "$ TELEFAX                 \u001b[3m\u001b[90m<dbl>\u001b[39m\u001b[23m 912805932, 918801825, 916496604, 916219902, 91…\n",
      "$ CODMU                   \u001b[3m\u001b[90m<chr>\u001b[39m\u001b[23m \"280053\", \"280053\", \"280072\", \"280072\", \"28013…\n",
      "$ MUNICIPIOS              \u001b[3m\u001b[90m<chr>\u001b[39m\u001b[23m \"Alcalá de Henares\", \"Alcalá de Henares\", \"Alc…\n",
      "$ CODPROV                 \u001b[3m\u001b[90m<chr>\u001b[39m\u001b[23m \"28\", \"28\", \"28\", \"28\", \"28\", \"28\", \"28\", \"28\"…\n",
      "$ PROVINCIAS              \u001b[3m\u001b[90m<chr>\u001b[39m\u001b[23m \"MADRID\", \"MADRID\", \"MADRID\", \"MADRID\", \"MADRI…\n",
      "$ CODAUTO                 \u001b[3m\u001b[90m<chr>\u001b[39m\u001b[23m \"13\", \"13\", \"13\", \"13\", \"13\", \"13\", \"13\", \"13\"…\n",
      "$ COMUNIDADES             \u001b[3m\u001b[90m<chr>\u001b[39m\u001b[23m \"MADRID\", \"MADRID\", \"MADRID\", \"MADRID\", \"MADRI…\n",
      "$ CODPOSTAL               \u001b[3m\u001b[90m<chr>\u001b[39m\u001b[23m \"28801\", \"28805\", \"28922\", \"28922\", \"28300\", \"…\n",
      "$ CODFI                   \u001b[3m\u001b[90m<dbl>\u001b[39m\u001b[23m 16, 1, 12, 1, 1, 1, 1, 1, 13, 6, 6, 1, 10, 1, …\n",
      "$ FINALIDAD_ASISITENCIAL  \u001b[3m\u001b[90m<chr>\u001b[39m\u001b[23m \"OTRA FINALIDAD\", \"GENERAL\", \"MÉDICO-QUIRÚRGIC…\n",
      "$ CODPAT                  \u001b[3m\u001b[90m<dbl>\u001b[39m\u001b[23m 14, 1, 14, 1, 6, 6, 14, 14, 1, 12, 12, 6, 10, …\n",
      "$ DEPENDENCIA_PATRIMONIAL \u001b[3m\u001b[90m<chr>\u001b[39m\u001b[23m \"PRIVADO NO BENÉFICO\", \"SEGURIDAD SOCIAL\", \"PR…\n",
      "$ CODFU                   \u001b[3m\u001b[90m<dbl>\u001b[39m\u001b[23m 23, 34, 23, 34, 34, 34, 23, 23, 34, 21, 21, 34…\n",
      "$ DEPENDENCIA_FUNCIONAL   \u001b[3m\u001b[90m<chr>\u001b[39m\u001b[23m \"PRIVADO NO BENÉFICO\", \"SERVICIO MADRILEÑO DE …\n",
      "$ ACREDOCENT              \u001b[3m\u001b[90m<chr>\u001b[39m\u001b[23m \"S\", \"S\", \"N\", \"S\", \"N\", \"N\", \"S\", \"N\", \"S\", \"…\n",
      "$ ESCOMPLE                \u001b[3m\u001b[90m<chr>\u001b[39m\u001b[23m \"N\", \"N\", \"N\", \"N\", \"N\", \"N\", \"N\", \"N\", \"N\", \"…\n",
      "$ FORCOMPLE               \u001b[3m\u001b[90m<chr>\u001b[39m\u001b[23m \"N\", \"N\", \"N\", \"N\", \"N\", \"N\", \"N\", \"N\", \"N\", \"…\n",
      "$ CERRADO                 \u001b[3m\u001b[90m<chr>\u001b[39m\u001b[23m \"N\", \"N\", \"N\", \"N\", \"N\", \"N\", \"N\", \"N\", \"N\", \"…\n",
      "$ CAPITAL                 \u001b[3m\u001b[90m<chr>\u001b[39m\u001b[23m \"N\", \"N\", \"N\", \"N\", \"N\", \"N\", \"N\", \"N\", \"N\", \"…\n",
      "$ CIERREFECH              \u001b[3m\u001b[90m<chr>\u001b[39m\u001b[23m NA, NA, NA, NA, NA, NA, NA, NA, NA, NA, NA, NA…\n",
      "$ CONCIERTO               \u001b[3m\u001b[90m<chr>\u001b[39m\u001b[23m \"S\", \"N\", \"S\", \"N\", \"N\", \"N\", \"S\", \"S\", \"N\", \"…\n",
      "$ EMAIL                   \u001b[3m\u001b[90m<chr>\u001b[39m\u001b[23m \"fgcalleja@hmhospitales.com; imarco@hmhospital…\n",
      "$ TAC                     \u001b[3m\u001b[90m<dbl>\u001b[39m\u001b[23m 1, 3, 1, 2, 1, 1, 1, 1, 0, 0, 0, 1, 1, 1, 1, 2…\n",
      "$ RM                      \u001b[3m\u001b[90m<dbl>\u001b[39m\u001b[23m 1, 2, 2, 2, 1, 1, 3, 2, 0, 0, 0, 2, 2, 1, 2, 2…\n",
      "$ GAM                     \u001b[3m\u001b[90m<dbl>\u001b[39m\u001b[23m 1, 1, 0, 1, 0, 0, 0, 0, 0, 0, 0, 0, 0, 0, 1, 0…\n",
      "$ HEM                     \u001b[3m\u001b[90m<dbl>\u001b[39m\u001b[23m 0, 1, 1, 1, 0, 0, 2, 0, 0, 0, 0, 1, 0, 0, 1, 1…\n",
      "$ ASD                     \u001b[3m\u001b[90m<dbl>\u001b[39m\u001b[23m 0, 1, 1, 1, 1, 0, 2, 0, 0, 0, 0, 0, 0, 0, 1, 1…\n",
      "$ LIT                     \u001b[3m\u001b[90m<dbl>\u001b[39m\u001b[23m 0, 0, 0, 1, 0, 0, 1, 0, 0, 0, 0, 0, 0, 0, 0, 0…\n",
      "$ BCO                     \u001b[3m\u001b[90m<dbl>\u001b[39m\u001b[23m 0, 0, 0, 0, 0, 0, 0, 0, 0, 0, 0, 0, 0, 0, 0, 0…\n",
      "$ ALI                     \u001b[3m\u001b[90m<dbl>\u001b[39m\u001b[23m 0, 0, 0, 0, 0, 0, 0, 0, 0, 0, 0, 0, 0, 0, 2, 0…\n",
      "$ SPECT                   \u001b[3m\u001b[90m<dbl>\u001b[39m\u001b[23m 0, 0, 0, 0, 0, 0, 0, 0, 0, 0, 0, 1, 0, 0, 1, 2…\n",
      "$ PET                     \u001b[3m\u001b[90m<dbl>\u001b[39m\u001b[23m 0, 0, 0, 0, 0, 0, 0, 0, 0, 0, 0, 0, 0, 0, 1, 1…\n",
      "$ MAMOS                   \u001b[3m\u001b[90m<dbl>\u001b[39m\u001b[23m 1, 2, 1, 2, 1, 1, 1, 1, 0, 0, 0, 1, 0, 2, 1, 1…\n",
      "$ DO                      \u001b[3m\u001b[90m<dbl>\u001b[39m\u001b[23m 1, 1, 1, 1, 0, 0, 1, 0, 0, 0, 0, 1, 0, 0, 1, 0…\n",
      "$ DIAL                    \u001b[3m\u001b[90m<dbl>\u001b[39m\u001b[23m 0, 28, 0, 28, 13, 18, 1, 0, 0, 0, 0, 18, 0, 25…\n",
      "$ CalidadGeocodificacion  \u001b[3m\u001b[90m<chr>\u001b[39m\u001b[23m \"PointAddress\", \"Manual\", \"StreetAddress\", \"Ma…\n",
      "$ id_area                 \u001b[3m\u001b[90m<chr>\u001b[39m\u001b[23m \"03\", \"03\", \"08\", \"08\", \"11\", \"01\", \"06\", \"06\"…\n",
      "$ nombre_area             \u001b[3m\u001b[90m<chr>\u001b[39m\u001b[23m \"Este\", \"Este\", \"Sur-Oeste I\", \"Sur-Oeste I\", …\n",
      "$ X                       \u001b[3m\u001b[90m<dbl>\u001b[39m\u001b[23m -3.367372, -3.347602, -3.849035, -3.837394, -3…\n",
      "$ Y                       \u001b[3m\u001b[90m<dbl>\u001b[39m\u001b[23m 40.48302, 40.51025, 40.34248, 40.34887, 40.057…\n"
     ]
    }
   ],
   "source": [
    "glimpse(tdata_01_area)"
   ]
  },
  {
   "cell_type": "code",
   "execution_count": 32,
   "metadata": {
    "vscode": {
     "languageId": "r"
    }
   },
   "outputs": [
    {
     "data": {
      "text/html": [
       "<table class=\"dataframe\">\n",
       "<caption>A tibble: 5 x 67</caption>\n",
       "<thead>\n",
       "\t<tr><th scope=col>CCN</th><th scope=col>CODCNH</th><th scope=col>Nombre Centro</th><th scope=col>Dirección</th><th scope=col>Teléfono</th><th scope=col>Cód. Municipio</th><th scope=col>Municipio</th><th scope=col>Cód. Provincia</th><th scope=col>Provincia</th><th scope=col>Cód. CCAA</th><th scope=col>...</th><th scope=col>SPECT</th><th scope=col>PET</th><th scope=col>MAMOS</th><th scope=col>DO</th><th scope=col>DIAL</th><th scope=col>CalidadGeocodificacion</th><th scope=col>id_area</th><th scope=col>nombre_area</th><th scope=col>X</th><th scope=col>Y</th></tr>\n",
       "\t<tr><th scope=col>&lt;chr&gt;</th><th scope=col>&lt;chr&gt;</th><th scope=col>&lt;chr&gt;</th><th scope=col>&lt;chr&gt;</th><th scope=col>&lt;chr&gt;</th><th scope=col>&lt;chr&gt;</th><th scope=col>&lt;chr&gt;</th><th scope=col>&lt;chr&gt;</th><th scope=col>&lt;chr&gt;</th><th scope=col>&lt;chr&gt;</th><th scope=col>...</th><th scope=col>&lt;dbl&gt;</th><th scope=col>&lt;dbl&gt;</th><th scope=col>&lt;dbl&gt;</th><th scope=col>&lt;dbl&gt;</th><th scope=col>&lt;dbl&gt;</th><th scope=col>&lt;chr&gt;</th><th scope=col>&lt;chr&gt;</th><th scope=col>&lt;chr&gt;</th><th scope=col>&lt;dbl&gt;</th><th scope=col>&lt;dbl&gt;</th></tr>\n",
       "</thead>\n",
       "<tbody>\n",
       "\t<tr><td>1328020932</td><td>281371</td><td>HOSPITAL HM VALLES                         </td><td>CALLE SANTIAGO 14           </td><td>918883262</td><td>280053</td><td>Alcalá de Henares</td><td>28</td><td>MADRID</td><td>13</td><td>...</td><td>0</td><td>0</td><td>1</td><td>1</td><td> 0</td><td>PointAddress </td><td>03</td><td>Este       </td><td>-3.367372</td><td>40.48302</td></tr>\n",
       "\t<tr><td>1328000034</td><td>280745</td><td>HOSPITAL UNIVERSITARIO PRINCIPE DE ASTURIAS</td><td>CARRETERA DE MECO S/N       </td><td>918878100</td><td>280053</td><td>Alcalá de Henares</td><td>28</td><td>MADRID</td><td>13</td><td>...</td><td>0</td><td>0</td><td>2</td><td>1</td><td>28</td><td>Manual       </td><td>03</td><td>Este       </td><td>-3.347602</td><td>40.51025</td></tr>\n",
       "\t<tr><td>1328000070</td><td>281124</td><td>HOSPITAL QUIRONSALUD SUR                   </td><td>CALLE DE ESTAMBUL 30        </td><td>917810682</td><td>280072</td><td>Alcorcón         </td><td>28</td><td>MADRID</td><td>13</td><td>...</td><td>0</td><td>0</td><td>1</td><td>1</td><td> 0</td><td>StreetAddress</td><td>08</td><td>Sur-Oeste I</td><td>-3.849035</td><td>40.34248</td></tr>\n",
       "\t<tr><td>1328000066</td><td>281071</td><td>HOSPITAL UNIVERSITARIO FUNDACION ALCORCON  </td><td>CALLE BUDAPEST 1            </td><td>916219400</td><td>280072</td><td>Alcorcón         </td><td>28</td><td>MADRID</td><td>13</td><td>...</td><td>0</td><td>0</td><td>2</td><td>1</td><td>28</td><td>Manual       </td><td>08</td><td>Sur-Oeste I</td><td>-3.837394</td><td>40.34887</td></tr>\n",
       "\t<tr><td>1328000084</td><td>281292</td><td>HOSPITAL DEL TAJO S.A.                     </td><td>AVENIDA AMAZONAS CENTRAL S/N</td><td>918014100</td><td>280133</td><td>Aranjuez         </td><td>28</td><td>MADRID</td><td>13</td><td>...</td><td>0</td><td>0</td><td>1</td><td>0</td><td>13</td><td>Manual       </td><td>11</td><td>Sur Ii     </td><td>-3.610795</td><td>40.05726</td></tr>\n",
       "</tbody>\n",
       "</table>\n"
      ],
      "text/latex": [
       "A tibble: 5 x 67\n",
       "\\begin{tabular}{lllllllllllllllllllll}\n",
       " CCN & CODCNH & Nombre Centro & Dirección & Teléfono & Cód. Municipio & Municipio & Cód. Provincia & Provincia & Cód. CCAA & ... & SPECT & PET & MAMOS & DO & DIAL & CalidadGeocodificacion & id\\_area & nombre\\_area & X & Y\\\\\n",
       " <chr> & <chr> & <chr> & <chr> & <chr> & <chr> & <chr> & <chr> & <chr> & <chr> & ... & <dbl> & <dbl> & <dbl> & <dbl> & <dbl> & <chr> & <chr> & <chr> & <dbl> & <dbl>\\\\\n",
       "\\hline\n",
       "\t 1328020932 & 281371 & HOSPITAL HM VALLES                          & CALLE SANTIAGO 14            & 918883262 & 280053 & Alcalá de Henares & 28 & MADRID & 13 & ... & 0 & 0 & 1 & 1 &  0 & PointAddress  & 03 & Este        & -3.367372 & 40.48302\\\\\n",
       "\t 1328000034 & 280745 & HOSPITAL UNIVERSITARIO PRINCIPE DE ASTURIAS & CARRETERA DE MECO S/N        & 918878100 & 280053 & Alcalá de Henares & 28 & MADRID & 13 & ... & 0 & 0 & 2 & 1 & 28 & Manual        & 03 & Este        & -3.347602 & 40.51025\\\\\n",
       "\t 1328000070 & 281124 & HOSPITAL QUIRONSALUD SUR                    & CALLE DE ESTAMBUL 30         & 917810682 & 280072 & Alcorcón          & 28 & MADRID & 13 & ... & 0 & 0 & 1 & 1 &  0 & StreetAddress & 08 & Sur-Oeste I & -3.849035 & 40.34248\\\\\n",
       "\t 1328000066 & 281071 & HOSPITAL UNIVERSITARIO FUNDACION ALCORCON   & CALLE BUDAPEST 1             & 916219400 & 280072 & Alcorcón          & 28 & MADRID & 13 & ... & 0 & 0 & 2 & 1 & 28 & Manual        & 08 & Sur-Oeste I & -3.837394 & 40.34887\\\\\n",
       "\t 1328000084 & 281292 & HOSPITAL DEL TAJO S.A.                      & AVENIDA AMAZONAS CENTRAL S/N & 918014100 & 280133 & Aranjuez          & 28 & MADRID & 13 & ... & 0 & 0 & 1 & 0 & 13 & Manual        & 11 & Sur Ii      & -3.610795 & 40.05726\\\\\n",
       "\\end{tabular}\n"
      ],
      "text/markdown": [
       "\n",
       "A tibble: 5 x 67\n",
       "\n",
       "| CCN &lt;chr&gt; | CODCNH &lt;chr&gt; | Nombre Centro &lt;chr&gt; | Dirección &lt;chr&gt; | Teléfono &lt;chr&gt; | Cód. Municipio &lt;chr&gt; | Municipio &lt;chr&gt; | Cód. Provincia &lt;chr&gt; | Provincia &lt;chr&gt; | Cód. CCAA &lt;chr&gt; | ... ... | SPECT &lt;dbl&gt; | PET &lt;dbl&gt; | MAMOS &lt;dbl&gt; | DO &lt;dbl&gt; | DIAL &lt;dbl&gt; | CalidadGeocodificacion &lt;chr&gt; | id_area &lt;chr&gt; | nombre_area &lt;chr&gt; | X &lt;dbl&gt; | Y &lt;dbl&gt; |\n",
       "|---|---|---|---|---|---|---|---|---|---|---|---|---|---|---|---|---|---|---|---|---|\n",
       "| 1328020932 | 281371 | HOSPITAL HM VALLES                          | CALLE SANTIAGO 14            | 918883262 | 280053 | Alcalá de Henares | 28 | MADRID | 13 | ... | 0 | 0 | 1 | 1 |  0 | PointAddress  | 03 | Este        | -3.367372 | 40.48302 |\n",
       "| 1328000034 | 280745 | HOSPITAL UNIVERSITARIO PRINCIPE DE ASTURIAS | CARRETERA DE MECO S/N        | 918878100 | 280053 | Alcalá de Henares | 28 | MADRID | 13 | ... | 0 | 0 | 2 | 1 | 28 | Manual        | 03 | Este        | -3.347602 | 40.51025 |\n",
       "| 1328000070 | 281124 | HOSPITAL QUIRONSALUD SUR                    | CALLE DE ESTAMBUL 30         | 917810682 | 280072 | Alcorcón          | 28 | MADRID | 13 | ... | 0 | 0 | 1 | 1 |  0 | StreetAddress | 08 | Sur-Oeste I | -3.849035 | 40.34248 |\n",
       "| 1328000066 | 281071 | HOSPITAL UNIVERSITARIO FUNDACION ALCORCON   | CALLE BUDAPEST 1             | 916219400 | 280072 | Alcorcón          | 28 | MADRID | 13 | ... | 0 | 0 | 2 | 1 | 28 | Manual        | 08 | Sur-Oeste I | -3.837394 | 40.34887 |\n",
       "| 1328000084 | 281292 | HOSPITAL DEL TAJO S.A.                      | AVENIDA AMAZONAS CENTRAL S/N | 918014100 | 280133 | Aranjuez          | 28 | MADRID | 13 | ... | 0 | 0 | 1 | 0 | 13 | Manual        | 11 | Sur Ii      | -3.610795 | 40.05726 |\n",
       "\n"
      ],
      "text/plain": [
       "  CCN        CODCNH Nombre Centro                              \n",
       "1 1328020932 281371 HOSPITAL HM VALLES                         \n",
       "2 1328000034 280745 HOSPITAL UNIVERSITARIO PRINCIPE DE ASTURIAS\n",
       "3 1328000070 281124 HOSPITAL QUIRONSALUD SUR                   \n",
       "4 1328000066 281071 HOSPITAL UNIVERSITARIO FUNDACION ALCORCON  \n",
       "5 1328000084 281292 HOSPITAL DEL TAJO S.A.                     \n",
       "  Dirección                    Teléfono  Cód. Municipio Municipio        \n",
       "1 CALLE SANTIAGO 14            918883262 280053         Alcalá de Henares\n",
       "2 CARRETERA DE MECO S/N        918878100 280053         Alcalá de Henares\n",
       "3 CALLE DE ESTAMBUL 30         917810682 280072         Alcorcón         \n",
       "4 CALLE BUDAPEST 1             916219400 280072         Alcorcón         \n",
       "5 AVENIDA AMAZONAS CENTRAL S/N 918014100 280133         Aranjuez         \n",
       "  Cód. Provincia Provincia Cód. CCAA ... SPECT PET MAMOS DO DIAL\n",
       "1 28             MADRID    13        ... 0     0   1     1   0  \n",
       "2 28             MADRID    13        ... 0     0   2     1  28  \n",
       "3 28             MADRID    13        ... 0     0   1     1   0  \n",
       "4 28             MADRID    13        ... 0     0   2     1  28  \n",
       "5 28             MADRID    13        ... 0     0   1     0  13  \n",
       "  CalidadGeocodificacion id_area nombre_area X         Y       \n",
       "1 PointAddress           03      Este        -3.367372 40.48302\n",
       "2 Manual                 03      Este        -3.347602 40.51025\n",
       "3 StreetAddress          08      Sur-Oeste I -3.849035 40.34248\n",
       "4 Manual                 08      Sur-Oeste I -3.837394 40.34887\n",
       "5 Manual                 11      Sur Ii      -3.610795 40.05726"
      ]
     },
     "metadata": {},
     "output_type": "display_data"
    }
   ],
   "source": [
    "tdata_01_area |> slice_head(n = 5)"
   ]
  },
  {
   "attachments": {},
   "cell_type": "markdown",
   "metadata": {},
   "source": [
    "* Añadir a las listas de espera el código del hospital\n",
    "* Se mantiene el nombre de la descarga de lista de espera, pero los joins se harán siempre por código"
   ]
  },
  {
   "cell_type": "code",
   "execution_count": 33,
   "metadata": {
    "vscode": {
     "languageId": "r"
    }
   },
   "outputs": [],
   "source": [
    "tdata_03_codigos <- tdata_03 |> \n",
    "  left_join(tdata_01 |> select(NOMBRE, CODCNH),\n",
    "            by = c(\"Hospital\" = \"NOMBRE\")) "
   ]
  },
  {
   "cell_type": "code",
   "execution_count": 34,
   "metadata": {
    "vscode": {
     "languageId": "r"
    }
   },
   "outputs": [
    {
     "name": "stdout",
     "output_type": "stream",
     "text": [
      "Rows: 55,680\n",
      "Columns: 7\n",
      "$ Hospital          \u001b[3m\u001b[90m<chr>\u001b[39m\u001b[23m \"HOSPITAL CENTRAL DE LA CRUZ ROJA SAN JOSE Y SANTA A…\n",
      "$ Especialidad      \u001b[3m\u001b[90m<chr>\u001b[39m\u001b[23m \"Angiología y Cirugía Vascular\", \"Angiología y Cirug…\n",
      "$ total_pacientes   \u001b[3m\u001b[90m<dbl>\u001b[39m\u001b[23m 439, 437, 429, 419, 418, NA, 408, 399, 396, 393, 378…\n",
      "$ media_tiempo_dias \u001b[3m\u001b[90m<dbl>\u001b[39m\u001b[23m 56.29, 55.13, 53.99, 56.29, 55.82, NA, 57.45, 57.61,…\n",
      "$ ano               \u001b[3m\u001b[90m<dbl>\u001b[39m\u001b[23m 2022, 2022, 2022, 2022, 2022, 2022, 2022, 2022, 2022…\n",
      "$ semana            \u001b[3m\u001b[90m<dbl>\u001b[39m\u001b[23m 44, 43, 42, 41, 40, 39, 38, 37, 36, 35, 34, 33, 32, …\n",
      "$ CODCNH            \u001b[3m\u001b[90m<chr>\u001b[39m\u001b[23m \"280148\", \"280148\", \"280148\", \"280148\", \"280148\", \"2…\n"
     ]
    }
   ],
   "source": [
    "glimpse(tdata_03_codigos)"
   ]
  },
  {
   "cell_type": "code",
   "execution_count": 35,
   "metadata": {
    "vscode": {
     "languageId": "r"
    }
   },
   "outputs": [
    {
     "data": {
      "text/html": [
       "<table class=\"dataframe\">\n",
       "<caption>A tibble: 5 x 7</caption>\n",
       "<thead>\n",
       "\t<tr><th scope=col>Hospital</th><th scope=col>Especialidad</th><th scope=col>total_pacientes</th><th scope=col>media_tiempo_dias</th><th scope=col>ano</th><th scope=col>semana</th><th scope=col>CODCNH</th></tr>\n",
       "\t<tr><th scope=col>&lt;chr&gt;</th><th scope=col>&lt;chr&gt;</th><th scope=col>&lt;dbl&gt;</th><th scope=col>&lt;dbl&gt;</th><th scope=col>&lt;dbl&gt;</th><th scope=col>&lt;dbl&gt;</th><th scope=col>&lt;chr&gt;</th></tr>\n",
       "</thead>\n",
       "<tbody>\n",
       "\t<tr><td>HOSPITAL CENTRAL DE LA CRUZ ROJA SAN JOSE Y SANTA ADELA</td><td>Angiología y Cirugía Vascular</td><td>439</td><td>56.29</td><td>2022</td><td>44</td><td>280148</td></tr>\n",
       "\t<tr><td>HOSPITAL CENTRAL DE LA CRUZ ROJA SAN JOSE Y SANTA ADELA</td><td>Angiología y Cirugía Vascular</td><td>437</td><td>55.13</td><td>2022</td><td>43</td><td>280148</td></tr>\n",
       "\t<tr><td>HOSPITAL CENTRAL DE LA CRUZ ROJA SAN JOSE Y SANTA ADELA</td><td>Angiología y Cirugía Vascular</td><td>429</td><td>53.99</td><td>2022</td><td>42</td><td>280148</td></tr>\n",
       "\t<tr><td>HOSPITAL CENTRAL DE LA CRUZ ROJA SAN JOSE Y SANTA ADELA</td><td>Angiología y Cirugía Vascular</td><td>419</td><td>56.29</td><td>2022</td><td>41</td><td>280148</td></tr>\n",
       "\t<tr><td>HOSPITAL CENTRAL DE LA CRUZ ROJA SAN JOSE Y SANTA ADELA</td><td>Angiología y Cirugía Vascular</td><td>418</td><td>55.82</td><td>2022</td><td>40</td><td>280148</td></tr>\n",
       "</tbody>\n",
       "</table>\n"
      ],
      "text/latex": [
       "A tibble: 5 x 7\n",
       "\\begin{tabular}{lllllll}\n",
       " Hospital & Especialidad & total\\_pacientes & media\\_tiempo\\_dias & ano & semana & CODCNH\\\\\n",
       " <chr> & <chr> & <dbl> & <dbl> & <dbl> & <dbl> & <chr>\\\\\n",
       "\\hline\n",
       "\t HOSPITAL CENTRAL DE LA CRUZ ROJA SAN JOSE Y SANTA ADELA & Angiología y Cirugía Vascular & 439 & 56.29 & 2022 & 44 & 280148\\\\\n",
       "\t HOSPITAL CENTRAL DE LA CRUZ ROJA SAN JOSE Y SANTA ADELA & Angiología y Cirugía Vascular & 437 & 55.13 & 2022 & 43 & 280148\\\\\n",
       "\t HOSPITAL CENTRAL DE LA CRUZ ROJA SAN JOSE Y SANTA ADELA & Angiología y Cirugía Vascular & 429 & 53.99 & 2022 & 42 & 280148\\\\\n",
       "\t HOSPITAL CENTRAL DE LA CRUZ ROJA SAN JOSE Y SANTA ADELA & Angiología y Cirugía Vascular & 419 & 56.29 & 2022 & 41 & 280148\\\\\n",
       "\t HOSPITAL CENTRAL DE LA CRUZ ROJA SAN JOSE Y SANTA ADELA & Angiología y Cirugía Vascular & 418 & 55.82 & 2022 & 40 & 280148\\\\\n",
       "\\end{tabular}\n"
      ],
      "text/markdown": [
       "\n",
       "A tibble: 5 x 7\n",
       "\n",
       "| Hospital &lt;chr&gt; | Especialidad &lt;chr&gt; | total_pacientes &lt;dbl&gt; | media_tiempo_dias &lt;dbl&gt; | ano &lt;dbl&gt; | semana &lt;dbl&gt; | CODCNH &lt;chr&gt; |\n",
       "|---|---|---|---|---|---|---|\n",
       "| HOSPITAL CENTRAL DE LA CRUZ ROJA SAN JOSE Y SANTA ADELA | Angiología y Cirugía Vascular | 439 | 56.29 | 2022 | 44 | 280148 |\n",
       "| HOSPITAL CENTRAL DE LA CRUZ ROJA SAN JOSE Y SANTA ADELA | Angiología y Cirugía Vascular | 437 | 55.13 | 2022 | 43 | 280148 |\n",
       "| HOSPITAL CENTRAL DE LA CRUZ ROJA SAN JOSE Y SANTA ADELA | Angiología y Cirugía Vascular | 429 | 53.99 | 2022 | 42 | 280148 |\n",
       "| HOSPITAL CENTRAL DE LA CRUZ ROJA SAN JOSE Y SANTA ADELA | Angiología y Cirugía Vascular | 419 | 56.29 | 2022 | 41 | 280148 |\n",
       "| HOSPITAL CENTRAL DE LA CRUZ ROJA SAN JOSE Y SANTA ADELA | Angiología y Cirugía Vascular | 418 | 55.82 | 2022 | 40 | 280148 |\n",
       "\n"
      ],
      "text/plain": [
       "  Hospital                                               \n",
       "1 HOSPITAL CENTRAL DE LA CRUZ ROJA SAN JOSE Y SANTA ADELA\n",
       "2 HOSPITAL CENTRAL DE LA CRUZ ROJA SAN JOSE Y SANTA ADELA\n",
       "3 HOSPITAL CENTRAL DE LA CRUZ ROJA SAN JOSE Y SANTA ADELA\n",
       "4 HOSPITAL CENTRAL DE LA CRUZ ROJA SAN JOSE Y SANTA ADELA\n",
       "5 HOSPITAL CENTRAL DE LA CRUZ ROJA SAN JOSE Y SANTA ADELA\n",
       "  Especialidad                  total_pacientes media_tiempo_dias ano  semana\n",
       "1 Angiología y Cirugía Vascular 439             56.29             2022 44    \n",
       "2 Angiología y Cirugía Vascular 437             55.13             2022 43    \n",
       "3 Angiología y Cirugía Vascular 429             53.99             2022 42    \n",
       "4 Angiología y Cirugía Vascular 419             56.29             2022 41    \n",
       "5 Angiología y Cirugía Vascular 418             55.82             2022 40    \n",
       "  CODCNH\n",
       "1 280148\n",
       "2 280148\n",
       "3 280148\n",
       "4 280148\n",
       "5 280148"
      ]
     },
     "metadata": {},
     "output_type": "display_data"
    }
   ],
   "source": [
    "tdata_03_codigos |> slice_head(n = 5)"
   ]
  },
  {
   "attachments": {},
   "cell_type": "markdown",
   "metadata": {},
   "source": [
    "* Homogeneizar datos de hospitales"
   ]
  },
  {
   "cell_type": "code",
   "execution_count": 36,
   "metadata": {
    "vscode": {
     "languageId": "r"
    }
   },
   "outputs": [
    {
     "data": {
      "text/html": [
       "<style>\n",
       ".list-inline {list-style: none; margin:0; padding: 0}\n",
       ".list-inline>li {display: inline-block}\n",
       ".list-inline>li:not(:last-child)::after {content: \"\\00b7\"; padding: 0 .5ex}\n",
       "</style>\n",
       "<ol class=list-inline><li>'CCN'</li><li>'CODCNH'</li><li>'Nombre Centro'</li><li>'Dirección'</li><li>'Teléfono'</li><li>'Cód. Municipio'</li><li>'Municipio'</li><li>'Cód. Provincia'</li><li>'Provincia'</li><li>'Cód. CCAA'</li><li>'CCAA'</li><li>'Código Postal'</li><li>'CAMAS'</li><li>'Cód. Clase de Centro'</li><li>'Clase de Centro'</li><li>'Cód. Dep. Funcional'</li><li>'Dependencia Funcional'</li><li>'Forma parte Complejo'</li><li>'CODIDCOM'</li><li>'Nombre del Complejo'</li><li>'ALTA'</li><li>'Email'</li><li>'OBJECTID'</li><li>'NOMBRE'</li><li>'DIRECCION'</li><li>'TELEFONO'</li><li>'TELEFONO2'</li><li>'TELEFAX'</li><li>'CODMU'</li><li>'MUNICIPIOS'</li><li>'CODPROV'</li><li>'PROVINCIAS'</li><li>'CODAUTO'</li><li>'COMUNIDADES'</li><li>'CODPOSTAL'</li><li>'CODFI'</li><li>'FINALIDAD_ASISITENCIAL'</li><li>'CODPAT'</li><li>'DEPENDENCIA_PATRIMONIAL'</li><li>'CODFU'</li><li>'DEPENDENCIA_FUNCIONAL'</li><li>'ACREDOCENT'</li><li>'ESCOMPLE'</li><li>'FORCOMPLE'</li><li>'CERRADO'</li><li>'CAPITAL'</li><li>'CIERREFECH'</li><li>'CONCIERTO'</li><li>'EMAIL'</li><li>'TAC'</li><li>'RM'</li><li>'GAM'</li><li>'HEM'</li><li>'ASD'</li><li>'LIT'</li><li>'BCO'</li><li>'ALI'</li><li>'SPECT'</li><li>'PET'</li><li>'MAMOS'</li><li>'DO'</li><li>'DIAL'</li><li>'X'</li><li>'Y'</li><li>'CalidadGeocodificacion'</li></ol>\n"
      ],
      "text/latex": [
       "\\begin{enumerate*}\n",
       "\\item 'CCN'\n",
       "\\item 'CODCNH'\n",
       "\\item 'Nombre Centro'\n",
       "\\item 'Dirección'\n",
       "\\item 'Teléfono'\n",
       "\\item 'Cód. Municipio'\n",
       "\\item 'Municipio'\n",
       "\\item 'Cód. Provincia'\n",
       "\\item 'Provincia'\n",
       "\\item 'Cód. CCAA'\n",
       "\\item 'CCAA'\n",
       "\\item 'Código Postal'\n",
       "\\item 'CAMAS'\n",
       "\\item 'Cód. Clase de Centro'\n",
       "\\item 'Clase de Centro'\n",
       "\\item 'Cód. Dep. Funcional'\n",
       "\\item 'Dependencia Funcional'\n",
       "\\item 'Forma parte Complejo'\n",
       "\\item 'CODIDCOM'\n",
       "\\item 'Nombre del Complejo'\n",
       "\\item 'ALTA'\n",
       "\\item 'Email'\n",
       "\\item 'OBJECTID'\n",
       "\\item 'NOMBRE'\n",
       "\\item 'DIRECCION'\n",
       "\\item 'TELEFONO'\n",
       "\\item 'TELEFONO2'\n",
       "\\item 'TELEFAX'\n",
       "\\item 'CODMU'\n",
       "\\item 'MUNICIPIOS'\n",
       "\\item 'CODPROV'\n",
       "\\item 'PROVINCIAS'\n",
       "\\item 'CODAUTO'\n",
       "\\item 'COMUNIDADES'\n",
       "\\item 'CODPOSTAL'\n",
       "\\item 'CODFI'\n",
       "\\item 'FINALIDAD\\_ASISITENCIAL'\n",
       "\\item 'CODPAT'\n",
       "\\item 'DEPENDENCIA\\_PATRIMONIAL'\n",
       "\\item 'CODFU'\n",
       "\\item 'DEPENDENCIA\\_FUNCIONAL'\n",
       "\\item 'ACREDOCENT'\n",
       "\\item 'ESCOMPLE'\n",
       "\\item 'FORCOMPLE'\n",
       "\\item 'CERRADO'\n",
       "\\item 'CAPITAL'\n",
       "\\item 'CIERREFECH'\n",
       "\\item 'CONCIERTO'\n",
       "\\item 'EMAIL'\n",
       "\\item 'TAC'\n",
       "\\item 'RM'\n",
       "\\item 'GAM'\n",
       "\\item 'HEM'\n",
       "\\item 'ASD'\n",
       "\\item 'LIT'\n",
       "\\item 'BCO'\n",
       "\\item 'ALI'\n",
       "\\item 'SPECT'\n",
       "\\item 'PET'\n",
       "\\item 'MAMOS'\n",
       "\\item 'DO'\n",
       "\\item 'DIAL'\n",
       "\\item 'X'\n",
       "\\item 'Y'\n",
       "\\item 'CalidadGeocodificacion'\n",
       "\\end{enumerate*}\n"
      ],
      "text/markdown": [
       "1. 'CCN'\n",
       "2. 'CODCNH'\n",
       "3. 'Nombre Centro'\n",
       "4. 'Dirección'\n",
       "5. 'Teléfono'\n",
       "6. 'Cód. Municipio'\n",
       "7. 'Municipio'\n",
       "8. 'Cód. Provincia'\n",
       "9. 'Provincia'\n",
       "10. 'Cód. CCAA'\n",
       "11. 'CCAA'\n",
       "12. 'Código Postal'\n",
       "13. 'CAMAS'\n",
       "14. 'Cód. Clase de Centro'\n",
       "15. 'Clase de Centro'\n",
       "16. 'Cód. Dep. Funcional'\n",
       "17. 'Dependencia Funcional'\n",
       "18. 'Forma parte Complejo'\n",
       "19. 'CODIDCOM'\n",
       "20. 'Nombre del Complejo'\n",
       "21. 'ALTA'\n",
       "22. 'Email'\n",
       "23. 'OBJECTID'\n",
       "24. 'NOMBRE'\n",
       "25. 'DIRECCION'\n",
       "26. 'TELEFONO'\n",
       "27. 'TELEFONO2'\n",
       "28. 'TELEFAX'\n",
       "29. 'CODMU'\n",
       "30. 'MUNICIPIOS'\n",
       "31. 'CODPROV'\n",
       "32. 'PROVINCIAS'\n",
       "33. 'CODAUTO'\n",
       "34. 'COMUNIDADES'\n",
       "35. 'CODPOSTAL'\n",
       "36. 'CODFI'\n",
       "37. 'FINALIDAD_ASISITENCIAL'\n",
       "38. 'CODPAT'\n",
       "39. 'DEPENDENCIA_PATRIMONIAL'\n",
       "40. 'CODFU'\n",
       "41. 'DEPENDENCIA_FUNCIONAL'\n",
       "42. 'ACREDOCENT'\n",
       "43. 'ESCOMPLE'\n",
       "44. 'FORCOMPLE'\n",
       "45. 'CERRADO'\n",
       "46. 'CAPITAL'\n",
       "47. 'CIERREFECH'\n",
       "48. 'CONCIERTO'\n",
       "49. 'EMAIL'\n",
       "50. 'TAC'\n",
       "51. 'RM'\n",
       "52. 'GAM'\n",
       "53. 'HEM'\n",
       "54. 'ASD'\n",
       "55. 'LIT'\n",
       "56. 'BCO'\n",
       "57. 'ALI'\n",
       "58. 'SPECT'\n",
       "59. 'PET'\n",
       "60. 'MAMOS'\n",
       "61. 'DO'\n",
       "62. 'DIAL'\n",
       "63. 'X'\n",
       "64. 'Y'\n",
       "65. 'CalidadGeocodificacion'\n",
       "\n",
       "\n"
      ],
      "text/plain": [
       " [1] \"CCN\"                     \"CODCNH\"                 \n",
       " [3] \"Nombre Centro\"           \"Dirección\"              \n",
       " [5] \"Teléfono\"                \"Cód. Municipio\"         \n",
       " [7] \"Municipio\"               \"Cód. Provincia\"         \n",
       " [9] \"Provincia\"               \"Cód. CCAA\"              \n",
       "[11] \"CCAA\"                    \"Código Postal\"          \n",
       "[13] \"CAMAS\"                   \"Cód. Clase de Centro\"   \n",
       "[15] \"Clase de Centro\"         \"Cód. Dep. Funcional\"    \n",
       "[17] \"Dependencia Funcional\"   \"Forma parte Complejo\"   \n",
       "[19] \"CODIDCOM\"                \"Nombre del Complejo\"    \n",
       "[21] \"ALTA\"                    \"Email\"                  \n",
       "[23] \"OBJECTID\"                \"NOMBRE\"                 \n",
       "[25] \"DIRECCION\"               \"TELEFONO\"               \n",
       "[27] \"TELEFONO2\"               \"TELEFAX\"                \n",
       "[29] \"CODMU\"                   \"MUNICIPIOS\"             \n",
       "[31] \"CODPROV\"                 \"PROVINCIAS\"             \n",
       "[33] \"CODAUTO\"                 \"COMUNIDADES\"            \n",
       "[35] \"CODPOSTAL\"               \"CODFI\"                  \n",
       "[37] \"FINALIDAD_ASISITENCIAL\"  \"CODPAT\"                 \n",
       "[39] \"DEPENDENCIA_PATRIMONIAL\" \"CODFU\"                  \n",
       "[41] \"DEPENDENCIA_FUNCIONAL\"   \"ACREDOCENT\"             \n",
       "[43] \"ESCOMPLE\"                \"FORCOMPLE\"              \n",
       "[45] \"CERRADO\"                 \"CAPITAL\"                \n",
       "[47] \"CIERREFECH\"              \"CONCIERTO\"              \n",
       "[49] \"EMAIL\"                   \"TAC\"                    \n",
       "[51] \"RM\"                      \"GAM\"                    \n",
       "[53] \"HEM\"                     \"ASD\"                    \n",
       "[55] \"LIT\"                     \"BCO\"                    \n",
       "[57] \"ALI\"                     \"SPECT\"                  \n",
       "[59] \"PET\"                     \"MAMOS\"                  \n",
       "[61] \"DO\"                      \"DIAL\"                   \n",
       "[63] \"X\"                       \"Y\"                      \n",
       "[65] \"CalidadGeocodificacion\" "
      ]
     },
     "metadata": {},
     "output_type": "display_data"
    }
   ],
   "source": [
    "names(tdata_02)"
   ]
  },
  {
   "cell_type": "code",
   "execution_count": 37,
   "metadata": {
    "vscode": {
     "languageId": "r"
    }
   },
   "outputs": [],
   "source": [
    "tdata_02_clean <- tdata_02 |>\n",
    "  left_join(tdata_01_area |> \n",
    "              select(CODCNH, id_area, nombre_area),\n",
    "            by = \"CODCNH\") |>\n",
    "    select(CODCNH,\n",
    "         Hospital = `Nombre Centro`,\n",
    "         id_area,\n",
    "         nombre_area,\n",
    "         cmunicipio = `Cód. Municipio`,\n",
    "         Municipio,\n",
    "         CAMAS, \n",
    "         Clase = `Clase de Centro`,\n",
    "         Dependencia = `Dependencia Funcional`,\n",
    "         TAC:Y)\n"
   ]
  },
  {
   "cell_type": "code",
   "execution_count": 38,
   "metadata": {
    "vscode": {
     "languageId": "r"
    }
   },
   "outputs": [
    {
     "name": "stdout",
     "output_type": "stream",
     "text": [
      "Rows: 87\n",
      "Columns: 24\n",
      "$ CODCNH      \u001b[3m\u001b[90m<chr>\u001b[39m\u001b[23m \"281371\", \"280745\", \"281124\", \"281071\", \"281292\", \"281281\"…\n",
      "$ Hospital    \u001b[3m\u001b[90m<chr>\u001b[39m\u001b[23m \"HOSPITAL HM VALLES\", \"HOSPITAL UNIVERSITARIO PRINCIPE DE …\n",
      "$ id_area     \u001b[3m\u001b[90m<chr>\u001b[39m\u001b[23m \"03\", \"03\", \"08\", \"08\", \"11\", \"01\", \"06\", \"06\", \"06\", \"11\"…\n",
      "$ nombre_area \u001b[3m\u001b[90m<chr>\u001b[39m\u001b[23m \"Este\", \"Este\", \"Sur-Oeste I\", \"Sur-Oeste I\", \"Sur Ii\", \"S…\n",
      "$ cmunicipio  \u001b[3m\u001b[90m<chr>\u001b[39m\u001b[23m \"280053\", \"280053\", \"280072\", \"280072\", \"280133\", \"280148\"…\n",
      "$ Municipio   \u001b[3m\u001b[90m<chr>\u001b[39m\u001b[23m \"Alcalá de Henares\", \"Alcalá de Henares\", \"Alcorcón\", \"Alc…\n",
      "$ CAMAS       \u001b[3m\u001b[90m<dbl>\u001b[39m\u001b[23m 20, 507, 81, 402, 98, 132, 170, 53, 192, 339, 344, 217, 13…\n",
      "$ Clase       \u001b[3m\u001b[90m<chr>\u001b[39m\u001b[23m \"Otros Centros con Internamiento\", \"Hospitales Generales\",…\n",
      "$ Dependencia \u001b[3m\u001b[90m<chr>\u001b[39m\u001b[23m \"PRIVADOS\", \"SERVICIOS E INSTITUTOS DE SALUD DE LAS COMUNI…\n",
      "$ TAC         \u001b[3m\u001b[90m<dbl>\u001b[39m\u001b[23m 1, 3, 1, 2, 1, 1, 1, 1, 0, 0, 0, 1, 1, 1, 1, 2, 0, 0, 0, 0…\n",
      "$ RM          \u001b[3m\u001b[90m<dbl>\u001b[39m\u001b[23m 1, 2, 2, 2, 1, 1, 3, 2, 0, 0, 0, 2, 2, 1, 2, 2, 0, 0, 0, 0…\n",
      "$ GAM         \u001b[3m\u001b[90m<dbl>\u001b[39m\u001b[23m 1, 1, 0, 1, 0, 0, 0, 0, 0, 0, 0, 0, 0, 0, 1, 0, 0, 0, 0, 0…\n",
      "$ HEM         \u001b[3m\u001b[90m<dbl>\u001b[39m\u001b[23m 0, 1, 1, 1, 0, 0, 2, 0, 0, 0, 0, 1, 0, 0, 1, 1, 0, 0, 0, 0…\n",
      "$ ASD         \u001b[3m\u001b[90m<dbl>\u001b[39m\u001b[23m 0, 1, 1, 1, 1, 0, 2, 0, 0, 0, 0, 0, 0, 0, 1, 1, 0, 0, 0, 0…\n",
      "$ LIT         \u001b[3m\u001b[90m<dbl>\u001b[39m\u001b[23m 0, 0, 0, 1, 0, 0, 1, 0, 0, 0, 0, 0, 0, 0, 0, 0, 0, 0, 0, 0…\n",
      "$ BCO         \u001b[3m\u001b[90m<dbl>\u001b[39m\u001b[23m 0, 0, 0, 0, 0, 0, 0, 0, 0, 0, 0, 0, 0, 0, 0, 0, 0, 0, 0, 0…\n",
      "$ ALI         \u001b[3m\u001b[90m<dbl>\u001b[39m\u001b[23m 0, 0, 0, 0, 0, 0, 0, 0, 0, 0, 0, 0, 0, 0, 2, 0, 0, 0, 0, 0…\n",
      "$ SPECT       \u001b[3m\u001b[90m<dbl>\u001b[39m\u001b[23m 0, 0, 0, 0, 0, 0, 0, 0, 0, 0, 0, 1, 0, 0, 1, 2, 0, 0, 0, 0…\n",
      "$ PET         \u001b[3m\u001b[90m<dbl>\u001b[39m\u001b[23m 0, 0, 0, 0, 0, 0, 0, 0, 0, 0, 0, 0, 0, 0, 1, 1, 0, 0, 0, 0…\n",
      "$ MAMOS       \u001b[3m\u001b[90m<dbl>\u001b[39m\u001b[23m 1, 2, 1, 2, 1, 1, 1, 1, 0, 0, 0, 1, 0, 2, 1, 1, 0, 0, 0, 0…\n",
      "$ DO          \u001b[3m\u001b[90m<dbl>\u001b[39m\u001b[23m 1, 1, 1, 1, 0, 0, 1, 0, 0, 0, 0, 1, 0, 0, 1, 0, 0, 0, 0, 0…\n",
      "$ DIAL        \u001b[3m\u001b[90m<dbl>\u001b[39m\u001b[23m 0, 28, 0, 28, 13, 18, 1, 0, 0, 0, 0, 18, 0, 25, 0, 24, 0, …\n",
      "$ X           \u001b[3m\u001b[90m<dbl>\u001b[39m\u001b[23m -3.367372, -3.347602, -3.849035, -3.837394, -3.610795, -3.…\n",
      "$ Y           \u001b[3m\u001b[90m<dbl>\u001b[39m\u001b[23m 40.48302, 40.51025, 40.34248, 40.34887, 40.05726, 40.29697…\n"
     ]
    }
   ],
   "source": [
    "glimpse(tdata_02_clean)"
   ]
  },
  {
   "cell_type": "code",
   "execution_count": 39,
   "metadata": {
    "vscode": {
     "languageId": "r"
    }
   },
   "outputs": [
    {
     "data": {
      "text/html": [
       "<table class=\"dataframe\">\n",
       "<caption>A tibble: 5 x 24</caption>\n",
       "<thead>\n",
       "\t<tr><th scope=col>CODCNH</th><th scope=col>Hospital</th><th scope=col>id_area</th><th scope=col>nombre_area</th><th scope=col>cmunicipio</th><th scope=col>Municipio</th><th scope=col>CAMAS</th><th scope=col>Clase</th><th scope=col>Dependencia</th><th scope=col>TAC</th><th scope=col>...</th><th scope=col>LIT</th><th scope=col>BCO</th><th scope=col>ALI</th><th scope=col>SPECT</th><th scope=col>PET</th><th scope=col>MAMOS</th><th scope=col>DO</th><th scope=col>DIAL</th><th scope=col>X</th><th scope=col>Y</th></tr>\n",
       "\t<tr><th scope=col>&lt;chr&gt;</th><th scope=col>&lt;chr&gt;</th><th scope=col>&lt;chr&gt;</th><th scope=col>&lt;chr&gt;</th><th scope=col>&lt;chr&gt;</th><th scope=col>&lt;chr&gt;</th><th scope=col>&lt;dbl&gt;</th><th scope=col>&lt;chr&gt;</th><th scope=col>&lt;chr&gt;</th><th scope=col>&lt;dbl&gt;</th><th scope=col>...</th><th scope=col>&lt;dbl&gt;</th><th scope=col>&lt;dbl&gt;</th><th scope=col>&lt;dbl&gt;</th><th scope=col>&lt;dbl&gt;</th><th scope=col>&lt;dbl&gt;</th><th scope=col>&lt;dbl&gt;</th><th scope=col>&lt;dbl&gt;</th><th scope=col>&lt;dbl&gt;</th><th scope=col>&lt;dbl&gt;</th><th scope=col>&lt;dbl&gt;</th></tr>\n",
       "</thead>\n",
       "<tbody>\n",
       "\t<tr><td>281371</td><td>HOSPITAL HM VALLES                         </td><td>03</td><td>Este       </td><td>280053</td><td>Alcalá de Henares</td><td> 20</td><td>Otros Centros con Internamiento</td><td>PRIVADOS                                                    </td><td>1</td><td>...</td><td>0</td><td>0</td><td>0</td><td>0</td><td>0</td><td>1</td><td>1</td><td> 0</td><td>-3.367372</td><td>40.48302</td></tr>\n",
       "\t<tr><td>280745</td><td>HOSPITAL UNIVERSITARIO PRINCIPE DE ASTURIAS</td><td>03</td><td>Este       </td><td>280053</td><td>Alcalá de Henares</td><td>507</td><td>Hospitales Generales           </td><td>SERVICIOS E INSTITUTOS DE SALUD DE LAS COMUNIDADES AUTÓNOMAS</td><td>3</td><td>...</td><td>0</td><td>0</td><td>0</td><td>0</td><td>0</td><td>2</td><td>1</td><td>28</td><td>-3.347602</td><td>40.51025</td></tr>\n",
       "\t<tr><td>281124</td><td>HOSPITAL QUIRONSALUD SUR                   </td><td>08</td><td>Sur-Oeste I</td><td>280072</td><td>Alcorcón         </td><td> 81</td><td>Hospitales Generales           </td><td>PRIVADOS                                                    </td><td>1</td><td>...</td><td>0</td><td>0</td><td>0</td><td>0</td><td>0</td><td>1</td><td>1</td><td> 0</td><td>-3.849035</td><td>40.34248</td></tr>\n",
       "\t<tr><td>281071</td><td>HOSPITAL UNIVERSITARIO FUNDACION ALCORCON  </td><td>08</td><td>Sur-Oeste I</td><td>280072</td><td>Alcorcón         </td><td>402</td><td>Hospitales Generales           </td><td>SERVICIOS E INSTITUTOS DE SALUD DE LAS COMUNIDADES AUTÓNOMAS</td><td>2</td><td>...</td><td>1</td><td>0</td><td>0</td><td>0</td><td>0</td><td>2</td><td>1</td><td>28</td><td>-3.837394</td><td>40.34887</td></tr>\n",
       "\t<tr><td>281292</td><td>HOSPITAL DEL TAJO S.A.                     </td><td>11</td><td>Sur Ii     </td><td>280133</td><td>Aranjuez         </td><td> 98</td><td>Hospitales Generales           </td><td>SERVICIOS E INSTITUTOS DE SALUD DE LAS COMUNIDADES AUTÓNOMAS</td><td>1</td><td>...</td><td>0</td><td>0</td><td>0</td><td>0</td><td>0</td><td>1</td><td>0</td><td>13</td><td>-3.610795</td><td>40.05726</td></tr>\n",
       "</tbody>\n",
       "</table>\n"
      ],
      "text/latex": [
       "A tibble: 5 x 24\n",
       "\\begin{tabular}{lllllllllllllllllllll}\n",
       " CODCNH & Hospital & id\\_area & nombre\\_area & cmunicipio & Municipio & CAMAS & Clase & Dependencia & TAC & ... & LIT & BCO & ALI & SPECT & PET & MAMOS & DO & DIAL & X & Y\\\\\n",
       " <chr> & <chr> & <chr> & <chr> & <chr> & <chr> & <dbl> & <chr> & <chr> & <dbl> & ... & <dbl> & <dbl> & <dbl> & <dbl> & <dbl> & <dbl> & <dbl> & <dbl> & <dbl> & <dbl>\\\\\n",
       "\\hline\n",
       "\t 281371 & HOSPITAL HM VALLES                          & 03 & Este        & 280053 & Alcalá de Henares &  20 & Otros Centros con Internamiento & PRIVADOS                                                     & 1 & ... & 0 & 0 & 0 & 0 & 0 & 1 & 1 &  0 & -3.367372 & 40.48302\\\\\n",
       "\t 280745 & HOSPITAL UNIVERSITARIO PRINCIPE DE ASTURIAS & 03 & Este        & 280053 & Alcalá de Henares & 507 & Hospitales Generales            & SERVICIOS E INSTITUTOS DE SALUD DE LAS COMUNIDADES AUTÓNOMAS & 3 & ... & 0 & 0 & 0 & 0 & 0 & 2 & 1 & 28 & -3.347602 & 40.51025\\\\\n",
       "\t 281124 & HOSPITAL QUIRONSALUD SUR                    & 08 & Sur-Oeste I & 280072 & Alcorcón          &  81 & Hospitales Generales            & PRIVADOS                                                     & 1 & ... & 0 & 0 & 0 & 0 & 0 & 1 & 1 &  0 & -3.849035 & 40.34248\\\\\n",
       "\t 281071 & HOSPITAL UNIVERSITARIO FUNDACION ALCORCON   & 08 & Sur-Oeste I & 280072 & Alcorcón          & 402 & Hospitales Generales            & SERVICIOS E INSTITUTOS DE SALUD DE LAS COMUNIDADES AUTÓNOMAS & 2 & ... & 1 & 0 & 0 & 0 & 0 & 2 & 1 & 28 & -3.837394 & 40.34887\\\\\n",
       "\t 281292 & HOSPITAL DEL TAJO S.A.                      & 11 & Sur Ii      & 280133 & Aranjuez          &  98 & Hospitales Generales            & SERVICIOS E INSTITUTOS DE SALUD DE LAS COMUNIDADES AUTÓNOMAS & 1 & ... & 0 & 0 & 0 & 0 & 0 & 1 & 0 & 13 & -3.610795 & 40.05726\\\\\n",
       "\\end{tabular}\n"
      ],
      "text/markdown": [
       "\n",
       "A tibble: 5 x 24\n",
       "\n",
       "| CODCNH &lt;chr&gt; | Hospital &lt;chr&gt; | id_area &lt;chr&gt; | nombre_area &lt;chr&gt; | cmunicipio &lt;chr&gt; | Municipio &lt;chr&gt; | CAMAS &lt;dbl&gt; | Clase &lt;chr&gt; | Dependencia &lt;chr&gt; | TAC &lt;dbl&gt; | ... ... | LIT &lt;dbl&gt; | BCO &lt;dbl&gt; | ALI &lt;dbl&gt; | SPECT &lt;dbl&gt; | PET &lt;dbl&gt; | MAMOS &lt;dbl&gt; | DO &lt;dbl&gt; | DIAL &lt;dbl&gt; | X &lt;dbl&gt; | Y &lt;dbl&gt; |\n",
       "|---|---|---|---|---|---|---|---|---|---|---|---|---|---|---|---|---|---|---|---|---|\n",
       "| 281371 | HOSPITAL HM VALLES                          | 03 | Este        | 280053 | Alcalá de Henares |  20 | Otros Centros con Internamiento | PRIVADOS                                                     | 1 | ... | 0 | 0 | 0 | 0 | 0 | 1 | 1 |  0 | -3.367372 | 40.48302 |\n",
       "| 280745 | HOSPITAL UNIVERSITARIO PRINCIPE DE ASTURIAS | 03 | Este        | 280053 | Alcalá de Henares | 507 | Hospitales Generales            | SERVICIOS E INSTITUTOS DE SALUD DE LAS COMUNIDADES AUTÓNOMAS | 3 | ... | 0 | 0 | 0 | 0 | 0 | 2 | 1 | 28 | -3.347602 | 40.51025 |\n",
       "| 281124 | HOSPITAL QUIRONSALUD SUR                    | 08 | Sur-Oeste I | 280072 | Alcorcón          |  81 | Hospitales Generales            | PRIVADOS                                                     | 1 | ... | 0 | 0 | 0 | 0 | 0 | 1 | 1 |  0 | -3.849035 | 40.34248 |\n",
       "| 281071 | HOSPITAL UNIVERSITARIO FUNDACION ALCORCON   | 08 | Sur-Oeste I | 280072 | Alcorcón          | 402 | Hospitales Generales            | SERVICIOS E INSTITUTOS DE SALUD DE LAS COMUNIDADES AUTÓNOMAS | 2 | ... | 1 | 0 | 0 | 0 | 0 | 2 | 1 | 28 | -3.837394 | 40.34887 |\n",
       "| 281292 | HOSPITAL DEL TAJO S.A.                      | 11 | Sur Ii      | 280133 | Aranjuez          |  98 | Hospitales Generales            | SERVICIOS E INSTITUTOS DE SALUD DE LAS COMUNIDADES AUTÓNOMAS | 1 | ... | 0 | 0 | 0 | 0 | 0 | 1 | 0 | 13 | -3.610795 | 40.05726 |\n",
       "\n"
      ],
      "text/plain": [
       "  CODCNH Hospital                                    id_area nombre_area\n",
       "1 281371 HOSPITAL HM VALLES                          03      Este       \n",
       "2 280745 HOSPITAL UNIVERSITARIO PRINCIPE DE ASTURIAS 03      Este       \n",
       "3 281124 HOSPITAL QUIRONSALUD SUR                    08      Sur-Oeste I\n",
       "4 281071 HOSPITAL UNIVERSITARIO FUNDACION ALCORCON   08      Sur-Oeste I\n",
       "5 281292 HOSPITAL DEL TAJO S.A.                      11      Sur Ii     \n",
       "  cmunicipio Municipio         CAMAS Clase                          \n",
       "1 280053     Alcalá de Henares  20   Otros Centros con Internamiento\n",
       "2 280053     Alcalá de Henares 507   Hospitales Generales           \n",
       "3 280072     Alcorcón           81   Hospitales Generales           \n",
       "4 280072     Alcorcón          402   Hospitales Generales           \n",
       "5 280133     Aranjuez           98   Hospitales Generales           \n",
       "  Dependencia                                                  TAC ... LIT BCO\n",
       "1 PRIVADOS                                                     1   ... 0   0  \n",
       "2 SERVICIOS E INSTITUTOS DE SALUD DE LAS COMUNIDADES AUTÓNOMAS 3   ... 0   0  \n",
       "3 PRIVADOS                                                     1   ... 0   0  \n",
       "4 SERVICIOS E INSTITUTOS DE SALUD DE LAS COMUNIDADES AUTÓNOMAS 2   ... 1   0  \n",
       "5 SERVICIOS E INSTITUTOS DE SALUD DE LAS COMUNIDADES AUTÓNOMAS 1   ... 0   0  \n",
       "  ALI SPECT PET MAMOS DO DIAL X         Y       \n",
       "1 0   0     0   1     1   0   -3.367372 40.48302\n",
       "2 0   0     0   2     1  28   -3.347602 40.51025\n",
       "3 0   0     0   1     1   0   -3.849035 40.34248\n",
       "4 0   0     0   2     1  28   -3.837394 40.34887\n",
       "5 0   0     0   1     0  13   -3.610795 40.05726"
      ]
     },
     "metadata": {},
     "output_type": "display_data"
    }
   ],
   "source": [
    "tdata_02_clean |> slice_head(n = 5)"
   ]
  },
  {
   "cell_type": "markdown",
   "metadata": {
    "slideshow": {
     "slide_type": "slide"
    }
   },
   "source": [
    "## Synthetic Data Generation"
   ]
  },
  {
   "attachments": {},
   "cell_type": "markdown",
   "metadata": {
    "slideshow": {
     "slide_type": "slide"
    }
   },
   "source": [
    "No aplica"
   ]
  },
  {
   "cell_type": "markdown",
   "metadata": {
    "slideshow": {
     "slide_type": "slide"
    }
   },
   "source": [
    "## Fake Data Generation"
   ]
  },
  {
   "attachments": {},
   "cell_type": "markdown",
   "metadata": {
    "slideshow": {
     "slide_type": "slide"
    }
   },
   "source": [
    "No aplica"
   ]
  },
  {
   "cell_type": "markdown",
   "metadata": {
    "slideshow": {
     "slide_type": "slide"
    }
   },
   "source": [
    "## Open Data"
   ]
  },
  {
   "attachments": {},
   "cell_type": "markdown",
   "metadata": {
    "slideshow": {
     "slide_type": "slide"
    }
   },
   "source": [
    "No aplica"
   ]
  },
  {
   "cell_type": "markdown",
   "metadata": {},
   "source": [
    "## <font color='green'>Data Save</font>"
   ]
  },
  {
   "attachments": {},
   "cell_type": "markdown",
   "metadata": {},
   "source": [
    "Este proceso, puede copiarse y repetirse en aquellas partes del notebbok que necesiten guardar datos.\n",
    "Recuerde cambiar las cadenas añadida del fichero para diferenciarlas"
   ]
  },
  {
   "attachments": {},
   "cell_type": "markdown",
   "metadata": {},
   "source": [
    "1. Datos de hospitales"
   ]
  },
  {
   "cell_type": "markdown",
   "metadata": {},
   "source": [
    "<font color='tomato'> Identificamos los datos a guardar</font>"
   ]
  },
  {
   "cell_type": "code",
   "execution_count": 40,
   "metadata": {
    "ExecuteTime": {
     "end_time": "2020-12-25T17:59:27.022001Z",
     "start_time": "2020-12-25T17:59:15.986986Z"
    },
    "scrolled": false,
    "vscode": {
     "languageId": "r"
    }
   },
   "outputs": [],
   "source": [
    "data_to_save_01 <- tdata_02_clean"
   ]
  },
  {
   "attachments": {},
   "cell_type": "markdown",
   "metadata": {},
   "source": [
    "\n",
    "<font color='tomato'>Estructura de nombre de archivos:</font>\n",
    "\n",
    "* Código del caso de uso, por ejemplo \"CU_04\"\n",
    "* Número del proceso que lo genera, por ejemplo \"_05\".\n",
    "* Número de la tarea que lo genera, por ejemplo \"_01\"\n",
    "* En caso de generarse varios ficheros en la misma tarea, llevarán _01 _02 ... después\n",
    "* Nombre: identificativo de \"properData\", por ejemplo \"_zonasgeo\"\n",
    "* Extensión del archivo\n",
    "\n",
    "Ejemplo: \"CU_04_05_01_01_zonasgeo.json, primer fichero que se genera en la tarea 01 del proceso 05 (Data Collection) para el caso de uso 04 (vacunas)\n",
    "\n",
    "Importante mantener los guiones bajos antes de proceso, tarea, archivo y nombre"
   ]
  },
  {
   "attachments": {},
   "cell_type": "markdown",
   "metadata": {},
   "source": [
    "### Proceso 05"
   ]
  },
  {
   "cell_type": "code",
   "execution_count": 41,
   "metadata": {
    "ExecuteTime": {
     "end_time": "2020-12-25T17:59:27.022001Z",
     "start_time": "2020-12-25T17:59:15.986986Z"
    },
    "scrolled": false,
    "vscode": {
     "languageId": "r"
    }
   },
   "outputs": [],
   "source": [
    "caso <- \"CU_25\"\n",
    "proceso <- '_05'\n",
    "tarea <- \"_05\"\n",
    "archivo <- \"_01\"\n",
    "proper <- \"_hospitales\"\n",
    "extension <- \".csv\""
   ]
  },
  {
   "attachments": {},
   "cell_type": "markdown",
   "metadata": {},
   "source": [
    "<font color='tomato'><b> OPCION A:</b> Uso del paquete \"tcltk\" para mayor comodidad</font>\n",
    "\n",
    "* Buscar carpeta, escribir nombre de archivo SIN extensión (se especifica en el código)\n",
    "* Especificar sufijo2 si es necesario\n",
    "* Cambiar datos por datos_xx si es necesario"
   ]
  },
  {
   "cell_type": "code",
   "execution_count": 42,
   "metadata": {
    "ExecuteTime": {
     "end_time": "2020-12-25T17:59:27.022001Z",
     "start_time": "2020-12-25T17:59:15.986986Z"
    },
    "scrolled": false,
    "vscode": {
     "languageId": "r"
    }
   },
   "outputs": [],
   "source": [
    "# file_save_01 <- paste0(caso, proceso, tarea, tcltk::tkgetSaveFile(), proper, extension) \n",
    "# path_out_01 <- paste0(oPath, file_save_01)\n",
    "# write_csv(data_to_save_01, path_out_01)\n",
    "\n",
    "# cat('File saved as: ')\n",
    "# path_out"
   ]
  },
  {
   "attachments": {},
   "cell_type": "markdown",
   "metadata": {},
   "source": [
    "<font color='tomato'><b> OPCION B:</b> Especificar el nombre de archivo</font>"
   ]
  },
  {
   "attachments": {},
   "cell_type": "markdown",
   "metadata": {},
   "source": [
    "- Los ficheros de salida del proceso van siempre a Data/Output/.  "
   ]
  },
  {
   "cell_type": "code",
   "execution_count": 43,
   "metadata": {
    "ExecuteTime": {
     "end_time": "2021-01-26T18:40:31.258294Z",
     "start_time": "2021-01-26T18:40:26.061847Z"
    },
    "slideshow": {
     "slide_type": "subslide"
    },
    "vscode": {
     "languageId": "r"
    }
   },
   "outputs": [
    {
     "name": "stdout",
     "output_type": "stream",
     "text": [
      "File saved as: "
     ]
    },
    {
     "data": {
      "text/html": [
       "'Data/Output/CU_25_05_05_01_hospitales.csv'"
      ],
      "text/latex": [
       "'Data/Output/CU\\_25\\_05\\_05\\_01\\_hospitales.csv'"
      ],
      "text/markdown": [
       "'Data/Output/CU_25_05_05_01_hospitales.csv'"
      ],
      "text/plain": [
       "[1] \"Data/Output/CU_25_05_05_01_hospitales.csv\""
      ]
     },
     "metadata": {},
     "output_type": "display_data"
    }
   ],
   "source": [
    "file_save_01 <- paste0(caso, proceso, tarea, archivo, proper, extension) \n",
    "path_out_01 <- paste0(oPath, file_save_01)\n",
    "write_csv(data_to_save_01, path_out_01)\n",
    "\n",
    "cat('File saved as: ')\n",
    "path_out_01"
   ]
  },
  {
   "attachments": {},
   "cell_type": "markdown",
   "metadata": {},
   "source": [
    "#### Copia del fichero a Input\n",
    "\n",
    "Si el archivo se va a usar en otros notebooks, copiar a la carpeta Input"
   ]
  },
  {
   "cell_type": "code",
   "execution_count": 44,
   "metadata": {
    "vscode": {
     "languageId": "r"
    }
   },
   "outputs": [
    {
     "data": {
      "text/html": [
       "TRUE"
      ],
      "text/latex": [
       "TRUE"
      ],
      "text/markdown": [
       "TRUE"
      ],
      "text/plain": [
       "[1] TRUE"
      ]
     },
     "metadata": {},
     "output_type": "display_data"
    }
   ],
   "source": [
    "path_in_01 <- paste0(iPath, file_save_01)\n",
    "file.copy(path_out_01, path_in_01, overwrite = TRUE)"
   ]
  },
  {
   "attachments": {},
   "cell_type": "markdown",
   "metadata": {},
   "source": [
    "2. Lista de espera (actualizada con código de hospital)"
   ]
  },
  {
   "cell_type": "markdown",
   "metadata": {},
   "source": [
    "<font color='tomato'> Identificamos los datos a guardar</font>"
   ]
  },
  {
   "cell_type": "code",
   "execution_count": 45,
   "metadata": {
    "vscode": {
     "languageId": "r"
    }
   },
   "outputs": [],
   "source": [
    "data_to_save_02 <- tdata_03_codigos"
   ]
  },
  {
   "cell_type": "markdown",
   "metadata": {},
   "source": [
    "\n",
    "<font color='tomato'>Estructura de nombre de archivos:</font>\n",
    "\n",
    "* Código del caso de uso, por ejemplo \"CU_04\"\n",
    "* Número del proceso que lo genera, por ejemplo \"_05\".\n",
    "* Número de la tarea que lo genera, por ejemplo \"_01\"\n",
    "* En caso de generarse varios ficheros en la misma tarea, llevarán _01 _02 ... después\n",
    "* Nombre: identificativo de \"properData\", por ejemplo \"_zonasgeo\"\n",
    "* Extensión del archivo\n",
    "\n",
    "Ejemplo: \"CU_04_05_01_01_zonasgeo.json, primer fichero que se genera en la tarea 01 del proceso 05 (Data Collection) para el caso de uso 04 (vacunas)\n",
    "\n",
    "Importante mantener los guiones bajos antes de proceso, tarea, archivo y nombre"
   ]
  },
  {
   "cell_type": "markdown",
   "metadata": {},
   "source": [
    "### Proceso 05"
   ]
  },
  {
   "cell_type": "code",
   "execution_count": 46,
   "metadata": {
    "vscode": {
     "languageId": "r"
    }
   },
   "outputs": [],
   "source": [
    "archivo <- \"_02\"\n",
    "proper <- \"_lista_espera\"\n",
    "extension <- \".csv\""
   ]
  },
  {
   "cell_type": "markdown",
   "metadata": {},
   "source": [
    "<font color='tomato'><b> OPCION A:</b> Uso del paquete \"tcltk\" para mayor comodidad</font>\n",
    "\n",
    "* Buscar carpeta, escribir nombre de archivo SIN extensión (se especifica en el código)\n",
    "* Especificar sufijo2 si es necesario\n",
    "* Cambiar datos por datos_xx si es necesario"
   ]
  },
  {
   "cell_type": "code",
   "execution_count": 47,
   "metadata": {
    "vscode": {
     "languageId": "r"
    }
   },
   "outputs": [],
   "source": [
    "# file_save_02 <- paste0(caso, proceso, tarea, tcltk::tkgetSaveFile(), proper, extension) \n",
    "# path_out_02 <- paste0(oPath, file_save_02)\n",
    "# write_csv(data_to_save_02, path_out_02)\n",
    "\n",
    "# cat('File saved as: ')\n",
    "# path_out"
   ]
  },
  {
   "cell_type": "markdown",
   "metadata": {},
   "source": [
    "<font color='tomato'><b> OPCION B:</b> Especificar el nombre de archivo</font>"
   ]
  },
  {
   "cell_type": "markdown",
   "metadata": {},
   "source": [
    "- Los ficheros de salida del proceso van siempre a Data/Output/.  "
   ]
  },
  {
   "cell_type": "code",
   "execution_count": 48,
   "metadata": {
    "vscode": {
     "languageId": "r"
    }
   },
   "outputs": [
    {
     "name": "stdout",
     "output_type": "stream",
     "text": [
      "File saved as: "
     ]
    },
    {
     "data": {
      "text/html": [
       "'Data/Output/CU_25_05_05_02_lista_espera.csv'"
      ],
      "text/latex": [
       "'Data/Output/CU\\_25\\_05\\_05\\_02\\_lista\\_espera.csv'"
      ],
      "text/markdown": [
       "'Data/Output/CU_25_05_05_02_lista_espera.csv'"
      ],
      "text/plain": [
       "[1] \"Data/Output/CU_25_05_05_02_lista_espera.csv\""
      ]
     },
     "metadata": {},
     "output_type": "display_data"
    }
   ],
   "source": [
    "file_save_02 <- paste0(caso, proceso, tarea, archivo, proper, extension) \n",
    "path_out_02 <- paste0(oPath, file_save_02)\n",
    "write_csv(data_to_save_02, path_out_02)\n",
    "\n",
    "cat('File saved as: ')\n",
    "path_out_02"
   ]
  },
  {
   "cell_type": "markdown",
   "metadata": {},
   "source": [
    "#### Copia del fichero a Input\n",
    "\n",
    "Si el archivo se va a usar en otros notebooks, copiar a la carpeta Input"
   ]
  },
  {
   "cell_type": "code",
   "execution_count": 49,
   "metadata": {
    "vscode": {
     "languageId": "r"
    }
   },
   "outputs": [
    {
     "data": {
      "text/html": [
       "TRUE"
      ],
      "text/latex": [
       "TRUE"
      ],
      "text/markdown": [
       "TRUE"
      ],
      "text/plain": [
       "[1] TRUE"
      ]
     },
     "metadata": {},
     "output_type": "display_data"
    }
   ],
   "source": [
    "path_in_02 <- paste0(iPath, file_save_02)\n",
    "file.copy(path_out_02, path_in_02, overwrite = TRUE)"
   ]
  },
  {
   "cell_type": "markdown",
   "metadata": {},
   "source": [
    "## <font color=' #2874a6 '>Main Conclusions</font>"
   ]
  },
  {
   "cell_type": "markdown",
   "metadata": {
    "slideshow": {
     "slide_type": "slide"
    }
   },
   "source": [
    "<font color='steelblue'>List and describe the general conclusions of the analysis carried out​.</font>"
   ]
  },
  {
   "attachments": {},
   "cell_type": "markdown",
   "metadata": {},
   "source": [
    "### Prerequisites\n",
    "\n",
    "Para que funcione este código se necesita:\n",
    "\n",
    "* Las rutas de archivos `Data/Input` y `Data/Output` deben existir (relativas a la ruta del _notebook_)\n",
    "* El paquete tcltk instalado para seleccionar archivos interactivamente. No se necesita en producción.\n",
    "* Los paquetes tcltk, sf, readr, dplyr, stringr, readxl deben estar instalados.\n"
   ]
  },
  {
   "attachments": {},
   "cell_type": "markdown",
   "metadata": {},
   "source": [
    "### Configuration Management\n",
    "\n",
    "This notebook has been tested with the following versions of R and packages. It cannot be assured that later versions work in the same way:\n",
    "* R 4.2.2\n",
    "* tcltk 4.2.2\n",
    "* sf 1.0.9\n",
    "* readr 2.1.3\n",
    "* dplyr 1.0.10\n",
    "* stringr 1.5.0\n",
    "* readxl 1.4.1"
   ]
  },
  {
   "attachments": {},
   "cell_type": "markdown",
   "metadata": {},
   "source": [
    "### Data structures"
   ]
  },
  {
   "attachments": {},
   "cell_type": "markdown",
   "metadata": {},
   "source": [
    "#### Objeto `tdata_02_clean`\n",
    "\n",
    "- Los datos de origen son del catálogo nacional de hospitales a los que se ha añadido las coordenadas y el área de salud\n",
    "- Hay 87 filas con información de las siguientes variables:\n",
    "\t* CODCNH\n",
    "\t* Hospital\n",
    "\t* id_area\n",
    "\t* nombre_area\n",
    "\t* cmunicipio\n",
    "\t* Municipio\n",
    "\t* CAMAS\n",
    "\t* Clase\n",
    "\t* Dependencia\n",
    "\t* TAC\n",
    "\t* RM\n",
    "\t* GAM\n",
    "\t* HEM\n",
    "\t* ASD\n",
    "\t* LIT\n",
    "\t* BCO\n",
    "\t* ALI\n",
    "\t* SPECT\n",
    "\t* PET\n",
    "\t* MAMOS\n",
    "\t* DO\n",
    "\t* DIAL\n",
    "\t* X\n",
    "\t* Y\n"
   ]
  },
  {
   "attachments": {},
   "cell_type": "markdown",
   "metadata": {},
   "source": [
    "#### Objeto `tdata_03_codigos`\n",
    "\n",
    "- Son los datos de la lista de espera a los que se ha añadido el código de hospital\n",
    "- Hay 55680 filas con información de las siguientes variables:\n",
    "\t* Hospital\n",
    "\t* Especialidad\n",
    "\t* total_pacientes\n",
    "\t* media_tiempo_dias\n",
    "\t* ano\n",
    "\t* semana\n",
    "\t* CODCNH\n"
   ]
  },
  {
   "attachments": {},
   "cell_type": "markdown",
   "metadata": {},
   "source": [
    "#### Observaciones generales sobre los datos\n",
    "\n",
    "* En el fichero de lista de espera se mantiene el nombre de hospital de la descarga\n",
    "* Pero se añade el código oficial, por el que se harán las uniones. El nombre oficial se tomaría del catálogo nacional\n",
    "* Si se quisieran usar otras agrupaciones de zonas bastaría cambiar el fichero json"
   ]
  },
  {
   "attachments": {},
   "cell_type": "markdown",
   "metadata": {},
   "source": [
    "### Consideraciones para despliegue en piloto\n",
    "\n",
    "* No aplica"
   ]
  },
  {
   "attachments": {},
   "cell_type": "markdown",
   "metadata": {},
   "source": [
    "### Consideraciones para despliegue en producción\n",
    "\n",
    "* Se deben crear los procesos ETL en producción necesarios para que los datos de entrada estén actualizados"
   ]
  },
  {
   "cell_type": "markdown",
   "metadata": {},
   "source": [
    "## <font color=' #2874a6 '>Main Actions</font>"
   ]
  },
  {
   "cell_type": "markdown",
   "metadata": {},
   "source": [
    "#### <font color=' #2874a6 '>Acciones done</font>"
   ]
  },
  {
   "cell_type": "markdown",
   "metadata": {
    "slideshow": {
     "slide_type": "slide"
    }
   },
   "source": [
    "<font color='steelblue'>Indicate the actions that have been carried out in this process</font>"
   ]
  },
  {
   "attachments": {},
   "cell_type": "markdown",
   "metadata": {},
   "source": [
    "- Se han homogeneizado nombres de hospitales\n",
    "- Se han asignado coordenadas al catálogo nacional de hospitales\n",
    "- Se han asignado áreas de salud a los hospitales\n",
    "- Se han añadido los códigos de hospitales a las listas de espera\n"
   ]
  },
  {
   "cell_type": "markdown",
   "metadata": {},
   "source": [
    "#### <font color=' #2874a6 '>Acctions to perform</font>"
   ]
  },
  {
   "cell_type": "markdown",
   "metadata": {
    "slideshow": {
     "slide_type": "slide"
    }
   },
   "source": [
    "<font color='steelblue'>Indicate the actions that must be carried out in subsequent processes</font>"
   ]
  },
  {
   "attachments": {},
   "cell_type": "markdown",
   "metadata": {},
   "source": [
    "- Se deben añadir indicadores a las áreas de salud para usar en los modelos"
   ]
  },
  {
   "attachments": {},
   "cell_type": "markdown",
   "metadata": {},
   "source": [
    "## <font color='RED'>CODE TO DEPLOY (PILOT)</font>\n",
    "\n",
    "A continuación se incluirá el código que deba ser llevado a despliegue para producción, dado que se entiende efectúa operaciones necesarias sobre los datos en la ejecución del prototipo"
   ]
  },
  {
   "attachments": {},
   "cell_type": "markdown",
   "metadata": {},
   "source": [
    "<font color=' red '><b>Description</b></font>\n",
    "\n",
    "- No hay nada que desplegar en el piloto, ya que estos datos son estáticos o en todo caso cambian con muy poca frecuencia, altamente improbable durante el proyecto.\n"
   ]
  },
  {
   "attachments": {},
   "cell_type": "markdown",
   "metadata": {},
   "source": [
    "<font color=' red '><b>CODE</b></font>"
   ]
  },
  {
   "cell_type": "code",
   "execution_count": 50,
   "metadata": {
    "vscode": {
     "languageId": "r"
    }
   },
   "outputs": [],
   "source": [
    "# incluir código"
   ]
  }
 ],
 "metadata": {
  "anaconda-cloud": {},
  "celltoolbar": "Slideshow",
  "hide_input": false,
  "kernelspec": {
   "display_name": "R",
   "language": "R",
   "name": "ir"
  },
  "language_info": {
   "codemirror_mode": "r",
   "file_extension": ".r",
   "mimetype": "text/x-r-source",
   "name": "R",
   "pygments_lexer": "r",
   "version": "4.2.2"
  },
  "latex_envs": {
   "LaTeX_envs_menu_present": true,
   "autoclose": false,
   "autocomplete": true,
   "bibliofile": "biblio.bib",
   "cite_by": "apalike",
   "current_citInitial": 1,
   "eqLabelWithNumbers": true,
   "eqNumInitial": 1,
   "hotkeys": {
    "equation": "Ctrl-E",
    "itemize": "Ctrl-I"
   },
   "labels_anchors": false,
   "latex_user_defs": false,
   "report_style_numbering": true,
   "user_envs_cfg": false
  },
  "toc": {
   "base_numbering": 1,
   "nav_menu": {
    "height": "11.6px",
    "width": "160px"
   },
   "number_sections": false,
   "sideBar": true,
   "skip_h1_title": true,
   "title_cell": "Table of Contents",
   "title_sidebar": "Contents",
   "toc_cell": true,
   "toc_position": {
    "height": "calc(100% - 180px)",
    "left": "10px",
    "top": "150px",
    "width": "209.2px"
   },
   "toc_section_display": true,
   "toc_window_display": true
  },
  "varInspector": {
   "cols": {
    "lenName": 16,
    "lenType": 16,
    "lenVar": 40
   },
   "kernels_config": {
    "python": {
     "delete_cmd_postfix": "",
     "delete_cmd_prefix": "del ",
     "library": "var_list.py",
     "varRefreshCmd": "print(var_dic_list())"
    },
    "r": {
     "delete_cmd_postfix": ") ",
     "delete_cmd_prefix": "rm(",
     "library": "var_list.r",
     "varRefreshCmd": "cat(var_dic_list()) "
    }
   },
   "types_to_exclude": [
    "module",
    "function",
    "builtin_function_or_method",
    "instance",
    "_Feature"
   ],
   "window_display": false
  }
 },
 "nbformat": 4,
 "nbformat_minor": 1
}
