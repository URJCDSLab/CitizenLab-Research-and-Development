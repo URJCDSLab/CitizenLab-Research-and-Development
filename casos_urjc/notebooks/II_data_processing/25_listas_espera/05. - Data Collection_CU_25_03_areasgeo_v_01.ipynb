{
 "cells": [
  {
   "cell_type": "markdown",
   "metadata": {
    "slideshow": {
     "slide_type": "slide"
    }
   },
   "source": [
    "<img src=\".\\images\\Logo.png\" width=150 align=\"left\" /> <img src=\".\\images\\Logo2.jpg\" width=450 align=\"right\" />"
   ]
  },
  {
   "attachments": {},
   "cell_type": "markdown",
   "metadata": {
    "slideshow": {
     "slide_type": "slide"
    }
   },
   "source": [
    "\n",
    "# <center><font color= #1e8449 > <b>CU25_Modelo de gestión de Lista de Espera Quirúrgica\n",
    "</font></center>"
   ]
  },
  {
   "cell_type": "markdown",
   "metadata": {
    "slideshow": {
     "slide_type": "slide"
    }
   },
   "source": [
    "<font color='steelblue'><b>Citizenlab Data Science Methodology > II - Data Processing Domain </font>\n",
    "***\n",
    "> # <font color='steelblue'> <b>05.- Data Collection</font>"
   ]
  },
  {
   "cell_type": "markdown",
   "metadata": {
    "slideshow": {
     "slide_type": "slide"
    }
   },
   "source": [
    "<font color='steelblue'>Data Collection is the process to obtain and generate (if required) necessary data to model the problem.</font>"
   ]
  },
  {
   "attachments": {},
   "cell_type": "markdown",
   "metadata": {},
   "source": [
    "### 03. Áreas de salud de shp a json"
   ]
  },
  {
   "cell_type": "markdown",
   "metadata": {
    "toc": true
   },
   "source": [
    "<h1>Table of Contents<span class=\"tocSkip\"></span></h1>\n",
    "<div class=\"toc\"><ul class=\"toc-item\"><li><span><a href=\"#Settings\" data-toc-modified-id=\"Settings-1\"><font color=\"green\">Settings</font></a></span></li><li><span><a href=\"#Data-Load\" data-toc-modified-id=\"Data-Load-2\"><font color=\"green\">Data Load</font></a></span></li><li><span><a href=\"#ETL-Processes\" data-toc-modified-id=\"ETL-Processes-3\">ETL Processes</a></span><ul class=\"toc-item\"><li><span><a href=\"#Import-data-from:-CSV,-Excel,-Tab,-JSON,-SQL,-and-Parquet-files\" data-toc-modified-id=\"Import-data-from:-CSV,-Excel,-Tab,-JSON,-SQL,-and-Parquet-files-3.1\">Import data from: CSV, Excel, Tab, JSON, SQL, and Parquet files</a></span></li></ul></li><li><span><a href=\"#Synthetic-Data-Generation\" data-toc-modified-id=\"Synthetic-Data-Generation-4\">Synthetic Data Generation</a></span></li><li><span><a href=\"#Fake-Data-Generation\" data-toc-modified-id=\"Fake-Data-Generation-5\">Fake Data Generation</a></span></li><li><span><a href=\"#Open-Data\" data-toc-modified-id=\"Open-Data-6\">Open Data</a></span></li><li><span><a href=\"#Data-Save\" data-toc-modified-id=\"Data-Save-7\"><font color=\"green\">Data Save</font></a></span></li><li><span><a href=\"#Main-Conclusions\" data-toc-modified-id=\"Main-Conclusions-8\"><font color=\" #2874a6 \">Main Conclusions</font></a></span></li><li><span><a href=\"#Main-Actions\" data-toc-modified-id=\"Main-Actions-9\"><font color=\" #2874a6 \">Main Actions</font></a></span><ul class=\"toc-item\"><li><ul class=\"toc-item\"><li><span><a href=\"#Acciones-done\" data-toc-modified-id=\"Acciones-done-9.0.1\"><font color=\" #2874a6 \">Acciones done</font></a></span></li><li><span><a href=\"#Acctions-to-perform\" data-toc-modified-id=\"Acctions-to-perform-9.0.2\"><font color=\" #2874a6 \">Acctions to perform</font></a></span></li></ul></li></ul></li></ul></div>"
   ]
  },
  {
   "cell_type": "markdown",
   "metadata": {
    "slideshow": {
     "slide_type": "slide"
    }
   },
   "source": [
    "## <font color='green'>Settings</font>"
   ]
  },
  {
   "attachments": {},
   "cell_type": "markdown",
   "metadata": {},
   "source": [
    "### Packages to use\n",
    "\n",
    "- {tcltk} for selecting files and paths (if needed)\n",
    "- {sf} for reading and writing files with spatial information \n",
    "- {dplyr} for data exploration"
   ]
  },
  {
   "cell_type": "code",
   "execution_count": 1,
   "metadata": {
    "ExecuteTime": {
     "end_time": "2021-12-03T15:23:33.762841Z",
     "start_time": "2021-12-03T15:23:08.580267Z"
    },
    "slideshow": {
     "slide_type": "subslide"
    },
    "vscode": {
     "languageId": "r"
    }
   },
   "outputs": [
    {
     "name": "stderr",
     "output_type": "stream",
     "text": [
      "Linking to GEOS 3.10.2, GDAL 3.4.2, PROJ 8.2.1; sf_use_s2() is TRUE\n",
      "\n",
      "\n",
      "Attaching package: 'dplyr'\n",
      "\n",
      "\n",
      "The following objects are masked from 'package:stats':\n",
      "\n",
      "    filter, lag\n",
      "\n",
      "\n",
      "The following objects are masked from 'package:base':\n",
      "\n",
      "    intersect, setdiff, setequal, union\n",
      "\n",
      "\n"
     ]
    }
   ],
   "source": [
    "library(tcltk)\n",
    "library(sf)\n",
    "library(dplyr)\n"
   ]
  },
  {
   "attachments": {},
   "cell_type": "markdown",
   "metadata": {},
   "source": [
    "### Paths"
   ]
  },
  {
   "cell_type": "code",
   "execution_count": 2,
   "metadata": {
    "vscode": {
     "languageId": "r"
    }
   },
   "outputs": [],
   "source": [
    "iPath <- \"Data/Input/\"\n",
    "oPath <- \"Data/Output/\""
   ]
  },
  {
   "attachments": {},
   "cell_type": "markdown",
   "metadata": {
    "slideshow": {
     "slide_type": "slide"
    }
   },
   "source": [
    "## <font color='green'>Data Load</font>\n",
    "\n",
    "If there are more than one input file, make as many sections as files to import."
   ]
  },
  {
   "attachments": {},
   "cell_type": "markdown",
   "metadata": {},
   "source": [
    "<font color='tomato'><b> OPCION A:</b> Seleccionar fichero en ventana para mayor comodidad</font> "
   ]
  },
  {
   "attachments": {},
   "cell_type": "markdown",
   "metadata": {},
   "source": [
    "Data load using the {tcltk} package (uncomment for using this option)"
   ]
  },
  {
   "cell_type": "code",
   "execution_count": 3,
   "metadata": {
    "ExecuteTime": {
     "end_time": "2021-01-26T18:40:31.258294Z",
     "start_time": "2021-01-26T18:40:26.061847Z"
    },
    "slideshow": {
     "slide_type": "subslide"
    },
    "vscode": {
     "languageId": "r"
    }
   },
   "outputs": [],
   "source": [
    "# file_data <- tcltk::tk_choose.files(multi = FALSE)"
   ]
  },
  {
   "attachments": {},
   "cell_type": "markdown",
   "metadata": {},
   "source": [
    "<font color='tomato'><b> OPCION B:</b> Especificar el nombre de archivo</font>\n",
    "\n",
    "Instrucciones\n",
    "- Los ficheros de entrada del proceso están siempre en Data/Input/.   \n",
    "- Si hay más de un fichero de entrada, se crean tantos objetos iFile_xx y file_data_xx como ficheros de entrada (xx número correlativo con dos dígitos, rellenar con ceros a la izquierda)\n",
    "- Comentar si se usa la opción A"
   ]
  },
  {
   "cell_type": "code",
   "execution_count": 4,
   "metadata": {
    "vscode": {
     "languageId": "r"
    }
   },
   "outputs": [
    {
     "name": "stdout",
     "output_type": "stream",
     "text": [
      "Se leer<U+00E1>n datos del archivo:  Data/Input/Areas de Salud/200001906.shp"
     ]
    }
   ],
   "source": [
    "iFile <- \"Areas de Salud/200001906.shp\"\n",
    "file_data <- paste0(iPath, iFile)\n",
    "\n",
    "if(file.exists(file_data)){\n",
    "    cat(\"Se leerán datos del archivo: \", file_data)\n",
    "} else{\n",
    "    warning(\"Cuidado: el archivo no existe.\")\n",
    "}\n"
   ]
  },
  {
   "attachments": {},
   "cell_type": "markdown",
   "metadata": {},
   "source": [
    "#### Data file to dataframe"
   ]
  },
  {
   "attachments": {},
   "cell_type": "markdown",
   "metadata": {},
   "source": [
    "<font color='tomato'>Utilizamos en todos los notebooks SIEMPRE <b>data</b> como nombre de la matriz (dataframe) principal donde cargamos los datos. Si se importan más ficheros, se le pone un sufijo con número correlativo en dos cifras y una palabra informativa. Por ejemplo, data_01_poblacion. Se repiten las celdas de estructura y muestra de datos para dataframe.</font>"
   ]
  },
  {
   "cell_type": "code",
   "execution_count": 5,
   "metadata": {
    "ExecuteTime": {
     "end_time": "2021-01-26T18:40:31.258294Z",
     "start_time": "2021-01-26T18:40:26.061847Z"
    },
    "slideshow": {
     "slide_type": "subslide"
    },
    "vscode": {
     "languageId": "r"
    }
   },
   "outputs": [
    {
     "name": "stdout",
     "output_type": "stream",
     "text": [
      "options:        ENCODING=WINDOWS-1252 \n",
      "Reading layer `200001906' from data source \n",
      "  `/Users/emilio.lcano/academico/gh_repos/__transferencia/citizenlab/CitizenLab-Research-and-Development/casos_urjc/notebooks/II_data_processing/25_listas_espera/Data/Input/Areas de Salud/200001906.shp' \n",
      "  using driver `ESRI Shapefile'\n",
      "Simple feature collection with 11 features and 3 fields\n",
      "Geometry type: MULTIPOLYGON\n",
      "Dimension:     XY\n",
      "Bounding box:  xmin: 365635.7 ymin: 4415272 xmax: 495484 ymax: 4557310\n",
      "CRS:           NA\n"
     ]
    }
   ],
   "source": [
    "data <- st_read(file_data,\n",
    "                options = \"ENCODING=WINDOWS-1252\")\n",
    "                 \n"
   ]
  },
  {
   "attachments": {},
   "cell_type": "markdown",
   "metadata": {},
   "source": [
    "**NOTE**: This object is a special type of dataframe that includes the geometry of each observation. "
   ]
  },
  {
   "attachments": {},
   "cell_type": "markdown",
   "metadata": {},
   "source": [
    "Estructura de los datos:"
   ]
  },
  {
   "cell_type": "code",
   "execution_count": 6,
   "metadata": {
    "ExecuteTime": {
     "end_time": "2021-01-26T18:40:31.258294Z",
     "start_time": "2021-01-26T18:40:26.061847Z"
    },
    "slideshow": {
     "slide_type": "subslide"
    },
    "vscode": {
     "languageId": "r"
    }
   },
   "outputs": [
    {
     "name": "stdout",
     "output_type": "stream",
     "text": [
      "Rows: 11\n",
      "Columns: 4\n",
      "$ CODBDT    \u001b[3m\u001b[90m<int>\u001b[39m\u001b[23m 958285, 958286, 958287, 958288, 958289, 958290, 958291, 9582~\n",
      "$ GEOCODIGO \u001b[3m\u001b[90m<chr>\u001b[39m\u001b[23m \"01\", \"02\", \"03\", \"04\", \"05\", \"06\", \"07\", \"08\", \"09\", \"10\", ~\n",
      "$ DESBDT    \u001b[3m\u001b[90m<chr>\u001b[39m\u001b[23m \"Sur-Este\", \"Centro-Norte\", \"Este\", \"Noreste\", \"Norte\", \"Oes~\n",
      "$ geometry  \u001b[3m\u001b[90m<MULTIPOLYGON>\u001b[39m\u001b[23m MULTIPOLYGON (((464211.8 44..., MULTIPOLYGON (((457~\n"
     ]
    }
   ],
   "source": [
    "glimpse(data)"
   ]
  },
  {
   "attachments": {},
   "cell_type": "markdown",
   "metadata": {},
   "source": [
    "Muestra de datos:"
   ]
  },
  {
   "cell_type": "code",
   "execution_count": 7,
   "metadata": {
    "vscode": {
     "languageId": "r"
    }
   },
   "outputs": [
    {
     "data": {
      "text/html": [
       "<table class=\"dataframe\">\n",
       "<caption>A tibble: 5 x 4</caption>\n",
       "<thead>\n",
       "\t<tr><th scope=col>CODBDT</th><th scope=col>GEOCODIGO</th><th scope=col>DESBDT</th><th scope=col>geometry</th></tr>\n",
       "\t<tr><th scope=col>&lt;int&gt;</th><th scope=col>&lt;chr&gt;</th><th scope=col>&lt;chr&gt;</th><th scope=col>&lt;MULTIPOLYGON&gt;</th></tr>\n",
       "</thead>\n",
       "<tbody>\n",
       "\t<tr><td>958285</td><td>01</td><td>Sur-Este    </td><td>MULTIPOLYGON (((464211.8 44...</td></tr>\n",
       "\t<tr><td>958286</td><td>02</td><td>Centro-Norte</td><td>MULTIPOLYGON (((457789.2 44...</td></tr>\n",
       "\t<tr><td>958287</td><td>03</td><td>Este        </td><td>MULTIPOLYGON (((472715.8 44...</td></tr>\n",
       "\t<tr><td>958288</td><td>04</td><td>Noreste     </td><td>MULTIPOLYGON (((444729.3 44...</td></tr>\n",
       "\t<tr><td>958289</td><td>05</td><td>Norte       </td><td>MULTIPOLYGON (((454972 4556...</td></tr>\n",
       "</tbody>\n",
       "</table>\n"
      ],
      "text/latex": [
       "A tibble: 5 x 4\n",
       "\\begin{tabular}{llll}\n",
       " CODBDT & GEOCODIGO & DESBDT & geometry\\\\\n",
       " <int> & <chr> & <chr> & <MULTIPOLYGON>\\\\\n",
       "\\hline\n",
       "\t 958285 & 01 & Sur-Este     & MULTIPOLYGON (((464211.8 44...\\\\\n",
       "\t 958286 & 02 & Centro-Norte & MULTIPOLYGON (((457789.2 44...\\\\\n",
       "\t 958287 & 03 & Este         & MULTIPOLYGON (((472715.8 44...\\\\\n",
       "\t 958288 & 04 & Noreste      & MULTIPOLYGON (((444729.3 44...\\\\\n",
       "\t 958289 & 05 & Norte        & MULTIPOLYGON (((454972 4556...\\\\\n",
       "\\end{tabular}\n"
      ],
      "text/markdown": [
       "\n",
       "A tibble: 5 x 4\n",
       "\n",
       "| CODBDT &lt;int&gt; | GEOCODIGO &lt;chr&gt; | DESBDT &lt;chr&gt; | geometry &lt;MULTIPOLYGON&gt; |\n",
       "|---|---|---|---|\n",
       "| 958285 | 01 | Sur-Este     | MULTIPOLYGON (((464211.8 44... |\n",
       "| 958286 | 02 | Centro-Norte | MULTIPOLYGON (((457789.2 44... |\n",
       "| 958287 | 03 | Este         | MULTIPOLYGON (((472715.8 44... |\n",
       "| 958288 | 04 | Noreste      | MULTIPOLYGON (((444729.3 44... |\n",
       "| 958289 | 05 | Norte        | MULTIPOLYGON (((454972 4556... |\n",
       "\n"
      ],
      "text/plain": [
       "  CODBDT GEOCODIGO DESBDT       geometry                      \n",
       "1 958285 01        Sur-Este     MULTIPOLYGON (((464211.8 44...\n",
       "2 958286 02        Centro-Norte MULTIPOLYGON (((457789.2 44...\n",
       "3 958287 03        Este         MULTIPOLYGON (((472715.8 44...\n",
       "4 958288 04        Noreste      MULTIPOLYGON (((444729.3 44...\n",
       "5 958289 05        Norte        MULTIPOLYGON (((454972 4556..."
      ]
     },
     "metadata": {},
     "output_type": "display_data"
    }
   ],
   "source": [
    "data |> tibble() |> slice_head(n = 5)"
   ]
  },
  {
   "cell_type": "markdown",
   "metadata": {
    "slideshow": {
     "slide_type": "slide"
    }
   },
   "source": [
    "## ETL Processes"
   ]
  },
  {
   "attachments": {},
   "cell_type": "markdown",
   "metadata": {
    "slideshow": {
     "slide_type": "slide"
    }
   },
   "source": [
    "### Transform data\n",
    "\n",
    "* Para asegurar la trazabilidad, se guardan las transformaciones en un objeto diferente con el prefijo t\n",
    "* Convertir a crs 4326 que es el estándar del caso de uso (proyecto?)\n"
   ]
  },
  {
   "cell_type": "code",
   "execution_count": 8,
   "metadata": {
    "vscode": {
     "languageId": "r"
    }
   },
   "outputs": [],
   "source": [
    "tdata <- data |> \n",
    "  st_set_crs(23030) |> \n",
    "  st_transform(4326)\n"
   ]
  },
  {
   "attachments": {},
   "cell_type": "markdown",
   "metadata": {},
   "source": [
    "Muestra datos transformados:"
   ]
  },
  {
   "cell_type": "code",
   "execution_count": 9,
   "metadata": {
    "vscode": {
     "languageId": "r"
    }
   },
   "outputs": [
    {
     "data": {
      "text/html": [
       "<table class=\"dataframe\">\n",
       "<caption>A tibble: 5 x 4</caption>\n",
       "<thead>\n",
       "\t<tr><th scope=col>CODBDT</th><th scope=col>GEOCODIGO</th><th scope=col>DESBDT</th><th scope=col>geometry</th></tr>\n",
       "\t<tr><th scope=col>&lt;int&gt;</th><th scope=col>&lt;chr&gt;</th><th scope=col>&lt;chr&gt;</th><th scope=col>&lt;MULTIPOLYGON [arc_degree]&gt;</th></tr>\n",
       "</thead>\n",
       "<tbody>\n",
       "\t<tr><td>958285</td><td>01</td><td>Sur-Este    </td><td>MULTIPOLYGON (((-3.423161 4...</td></tr>\n",
       "\t<tr><td>958286</td><td>02</td><td>Centro-Norte</td><td>MULTIPOLYGON (((-3.499207 4...</td></tr>\n",
       "\t<tr><td>958287</td><td>03</td><td>Este        </td><td>MULTIPOLYGON (((-3.323953 4...</td></tr>\n",
       "\t<tr><td>958288</td><td>04</td><td>Noreste     </td><td>MULTIPOLYGON (((-3.653662 4...</td></tr>\n",
       "\t<tr><td>958289</td><td>05</td><td>Norte       </td><td>MULTIPOLYGON (((-3.537981 4...</td></tr>\n",
       "</tbody>\n",
       "</table>\n"
      ],
      "text/latex": [
       "A tibble: 5 x 4\n",
       "\\begin{tabular}{llll}\n",
       " CODBDT & GEOCODIGO & DESBDT & geometry\\\\\n",
       " <int> & <chr> & <chr> & <MULTIPOLYGON {[}arc\\_degree{]}>\\\\\n",
       "\\hline\n",
       "\t 958285 & 01 & Sur-Este     & MULTIPOLYGON (((-3.423161 4...\\\\\n",
       "\t 958286 & 02 & Centro-Norte & MULTIPOLYGON (((-3.499207 4...\\\\\n",
       "\t 958287 & 03 & Este         & MULTIPOLYGON (((-3.323953 4...\\\\\n",
       "\t 958288 & 04 & Noreste      & MULTIPOLYGON (((-3.653662 4...\\\\\n",
       "\t 958289 & 05 & Norte        & MULTIPOLYGON (((-3.537981 4...\\\\\n",
       "\\end{tabular}\n"
      ],
      "text/markdown": [
       "\n",
       "A tibble: 5 x 4\n",
       "\n",
       "| CODBDT &lt;int&gt; | GEOCODIGO &lt;chr&gt; | DESBDT &lt;chr&gt; | geometry &lt;MULTIPOLYGON [arc_degree]&gt; |\n",
       "|---|---|---|---|\n",
       "| 958285 | 01 | Sur-Este     | MULTIPOLYGON (((-3.423161 4... |\n",
       "| 958286 | 02 | Centro-Norte | MULTIPOLYGON (((-3.499207 4... |\n",
       "| 958287 | 03 | Este         | MULTIPOLYGON (((-3.323953 4... |\n",
       "| 958288 | 04 | Noreste      | MULTIPOLYGON (((-3.653662 4... |\n",
       "| 958289 | 05 | Norte        | MULTIPOLYGON (((-3.537981 4... |\n",
       "\n"
      ],
      "text/plain": [
       "  CODBDT GEOCODIGO DESBDT       geometry                      \n",
       "1 958285 01        Sur-Este     MULTIPOLYGON (((-3.423161 4...\n",
       "2 958286 02        Centro-Norte MULTIPOLYGON (((-3.499207 4...\n",
       "3 958287 03        Este         MULTIPOLYGON (((-3.323953 4...\n",
       "4 958288 04        Noreste      MULTIPOLYGON (((-3.653662 4...\n",
       "5 958289 05        Norte        MULTIPOLYGON (((-3.537981 4..."
      ]
     },
     "metadata": {},
     "output_type": "display_data"
    }
   ],
   "source": [
    "tdata |> tibble() |> slice_head(n = 5)"
   ]
  },
  {
   "attachments": {},
   "cell_type": "markdown",
   "metadata": {},
   "source": [
    "Estructura de la proyección:"
   ]
  },
  {
   "cell_type": "code",
   "execution_count": 10,
   "metadata": {
    "vscode": {
     "languageId": "r"
    }
   },
   "outputs": [
    {
     "data": {
      "text/plain": [
       "Coordinate Reference System:\n",
       "  User input: EPSG:4326 \n",
       "  wkt:\n",
       "GEOGCRS[\"WGS 84\",\n",
       "    ENSEMBLE[\"World Geodetic System 1984 ensemble\",\n",
       "        MEMBER[\"World Geodetic System 1984 (Transit)\"],\n",
       "        MEMBER[\"World Geodetic System 1984 (G730)\"],\n",
       "        MEMBER[\"World Geodetic System 1984 (G873)\"],\n",
       "        MEMBER[\"World Geodetic System 1984 (G1150)\"],\n",
       "        MEMBER[\"World Geodetic System 1984 (G1674)\"],\n",
       "        MEMBER[\"World Geodetic System 1984 (G1762)\"],\n",
       "        MEMBER[\"World Geodetic System 1984 (G2139)\"],\n",
       "        ELLIPSOID[\"WGS 84\",6378137,298.257223563,\n",
       "            LENGTHUNIT[\"metre\",1]],\n",
       "        ENSEMBLEACCURACY[2.0]],\n",
       "    PRIMEM[\"Greenwich\",0,\n",
       "        ANGLEUNIT[\"degree\",0.0174532925199433]],\n",
       "    CS[ellipsoidal,2],\n",
       "        AXIS[\"geodetic latitude (Lat)\",north,\n",
       "            ORDER[1],\n",
       "            ANGLEUNIT[\"degree\",0.0174532925199433]],\n",
       "        AXIS[\"geodetic longitude (Lon)\",east,\n",
       "            ORDER[2],\n",
       "            ANGLEUNIT[\"degree\",0.0174532925199433]],\n",
       "    USAGE[\n",
       "        SCOPE[\"Horizontal component of 3D system.\"],\n",
       "        AREA[\"World.\"],\n",
       "        BBOX[-90,-180,90,180]],\n",
       "    ID[\"EPSG\",4326]]"
      ]
     },
     "metadata": {},
     "output_type": "display_data"
    }
   ],
   "source": [
    "st_crs(tdata)"
   ]
  },
  {
   "attachments": {},
   "cell_type": "markdown",
   "metadata": {
    "slideshow": {
     "slide_type": "slide"
    }
   },
   "source": [
    "## Synthetic Data Generation\n",
    "\n",
    "Estos datos no requieren tareas de este tipo."
   ]
  },
  {
   "attachments": {},
   "cell_type": "markdown",
   "metadata": {
    "slideshow": {
     "slide_type": "slide"
    }
   },
   "source": [
    "## Fake Data Generation\n",
    "\n",
    "Estos datos no requieren tareas de este tipo."
   ]
  },
  {
   "attachments": {},
   "cell_type": "markdown",
   "metadata": {
    "slideshow": {
     "slide_type": "slide"
    }
   },
   "source": [
    "## Open Data\n",
    "\n",
    "Los datos de origen fueron descargados de una fuente abierta en fichero zip que se ha descomprimido dentro de la carpeta Data/Input."
   ]
  },
  {
   "cell_type": "markdown",
   "metadata": {},
   "source": [
    "## <font color='green'>Data Save</font>"
   ]
  },
  {
   "cell_type": "markdown",
   "metadata": {},
   "source": [
    "Este proceso, puede copiarse y repetirse en aquellas partes del notebbok que necesiten guardar datos.\n",
    "Recuerde cambiar la extensión añadida del fichero para diferenciarlas"
   ]
  },
  {
   "cell_type": "markdown",
   "metadata": {},
   "source": [
    "<font color='tomato'> Identificamos los datos a guardar</font>"
   ]
  },
  {
   "cell_type": "code",
   "execution_count": 11,
   "metadata": {
    "ExecuteTime": {
     "end_time": "2020-12-25T17:59:27.022001Z",
     "start_time": "2020-12-25T17:59:15.986986Z"
    },
    "scrolled": false,
    "vscode": {
     "languageId": "r"
    }
   },
   "outputs": [],
   "source": [
    "data_to_save <- tdata"
   ]
  },
  {
   "attachments": {},
   "cell_type": "markdown",
   "metadata": {},
   "source": [
    "\n",
    "<font color='tomato'>Estructura de nombre de archivos:</font>\n",
    "\n",
    "* Código del caso de uso, por ejemplo \"CU_04\"\n",
    "* Número del proceso que lo genera, por ejemplo \"_05\".\n",
    "* Número de la tarea que lo genera, por ejemplo \"_01\"\n",
    "* En caso de generarse varios ficheros en la misma tarea, llevarán _01 _02 ... después\n",
    "* Nombre: identificativo de \"properData\", por ejemplo \"_zonasgeo\"\n",
    "* Extensión del archivo\n",
    "\n",
    "Ejemplo: \"CU_04_05_01_01_zonasgeo.json, primer fichero que se genera en la tarea 01 del proceso 05 (Data Collection) para el caso de uso 04 (vacunas)\n",
    "\n",
    "Importante mantener los guiones bajos antes de proceso, tarea, archivo y nombre"
   ]
  },
  {
   "attachments": {},
   "cell_type": "markdown",
   "metadata": {},
   "source": [
    "### Proceso 05"
   ]
  },
  {
   "cell_type": "code",
   "execution_count": 12,
   "metadata": {
    "ExecuteTime": {
     "end_time": "2020-12-25T17:59:27.022001Z",
     "start_time": "2020-12-25T17:59:15.986986Z"
    },
    "scrolled": false,
    "vscode": {
     "languageId": "r"
    }
   },
   "outputs": [],
   "source": [
    "\n",
    "caso <- \"CU_25\"\n",
    "proceso <- '_05'\n",
    "tarea <- \"_03\"\n",
    "archivo <- \"\"\n",
    "proper <- \"_areasgeo\"\n",
    "extension <- \".json\""
   ]
  },
  {
   "attachments": {},
   "cell_type": "markdown",
   "metadata": {},
   "source": [
    "<font color='tomato'><b> OPCION A:</b> Uso del paquete \"tcltk\" para mayor comodidad</font>\n",
    "\n",
    "* Buscar carpeta, escribir nombre de archivo SIN extensión (se especifica en el código)\n",
    "* Especificar sufijo2 si es necesario\n",
    "* Cambiar datos por datos_xx si es necesario\n",
    "* Descomentar líneas si se usa esta opción"
   ]
  },
  {
   "cell_type": "code",
   "execution_count": 13,
   "metadata": {
    "ExecuteTime": {
     "end_time": "2020-12-25T17:59:27.022001Z",
     "start_time": "2020-12-25T17:59:15.986986Z"
    },
    "scrolled": false,
    "vscode": {
     "languageId": "r"
    }
   },
   "outputs": [],
   "source": [
    "# file_save <- paste0(caso, proceso, tarea, archivo, tcltk::tkgetSaveFile(), extension)\n",
    "# path_out <- paste0(oPath, file_save)\n",
    "# st_write(obj = data_to_save, \n",
    "        #  dsn = path_out, \n",
    "        #  driver = \"GeoJSON\",\n",
    "        #  delete_dsn = TRUE)\n",
    "\n",
    "# cat('File saved as: ')\n",
    "# path_out"
   ]
  },
  {
   "attachments": {},
   "cell_type": "markdown",
   "metadata": {},
   "source": [
    "<font color='tomato'><b> OPCION B:</b> Especificar el nombre de archivo</font>"
   ]
  },
  {
   "attachments": {},
   "cell_type": "markdown",
   "metadata": {},
   "source": [
    "- Los ficheros de salida del proceso van siempre a Data/Output/.  "
   ]
  },
  {
   "cell_type": "code",
   "execution_count": 14,
   "metadata": {
    "ExecuteTime": {
     "end_time": "2021-01-26T18:40:31.258294Z",
     "start_time": "2021-01-26T18:40:26.061847Z"
    },
    "slideshow": {
     "slide_type": "subslide"
    },
    "vscode": {
     "languageId": "r"
    }
   },
   "outputs": [
    {
     "name": "stdout",
     "output_type": "stream",
     "text": [
      "Deleting source `Data/Output/CU_25_05_03_areasgeo.json' using driver `GeoJSON'\n",
      "Writing layer `CU_25_05_03_areasgeo' to data source \n",
      "  `Data/Output/CU_25_05_03_areasgeo.json' using driver `GeoJSON'\n",
      "Writing 11 features with 3 fields and geometry type Multi Polygon.\n",
      "\n",
      "File saved as:  Data/Output/CU_25_05_03_areasgeo.json"
     ]
    }
   ],
   "source": [
    "file_save <- paste0(caso, proceso, tarea, archivo, proper, extension) \n",
    "path_out <- paste0(oPath, file_save)\n",
    "st_write(obj = data_to_save, \n",
    "         dsn = path_out, \n",
    "         driver = \"GeoJSON\",\n",
    "         delete_dsn = TRUE)\n",
    "\n",
    "\n",
    "cat('\\nFile saved as: ', path_out)\n"
   ]
  },
  {
   "attachments": {},
   "cell_type": "markdown",
   "metadata": {},
   "source": [
    "#### Copia del fichero a Input\n",
    "\n",
    "Si fichero es usado en otras tareas, copiar a carpeta Input"
   ]
  },
  {
   "cell_type": "code",
   "execution_count": 15,
   "metadata": {
    "vscode": {
     "languageId": "r"
    }
   },
   "outputs": [
    {
     "data": {
      "text/html": [
       "TRUE"
      ],
      "text/latex": [
       "TRUE"
      ],
      "text/markdown": [
       "TRUE"
      ],
      "text/plain": [
       "[1] TRUE"
      ]
     },
     "metadata": {},
     "output_type": "display_data"
    }
   ],
   "source": [
    "path_in <- paste0(iPath, file_save)\n",
    "file.copy(path_out, path_in, overwrite = TRUE)"
   ]
  },
  {
   "cell_type": "markdown",
   "metadata": {},
   "source": [
    "## <font color=' #2874a6 '>Main Conclusions</font>"
   ]
  },
  {
   "cell_type": "markdown",
   "metadata": {
    "slideshow": {
     "slide_type": "slide"
    }
   },
   "source": [
    "<font color='steelblue'>List and describe the general conclusions of the analysis carried out​.</font>"
   ]
  },
  {
   "attachments": {},
   "cell_type": "markdown",
   "metadata": {},
   "source": [
    "### Prerequisitos\n",
    "\n",
    "This working code needs the following conditions:\n",
    "\n",
    "* For using the interactive selection of file, the {tcltk} package must be installed. It is not needed in production.\n",
    "* The {dplyr} package must be installed. It is part of the _tidyverse_.\n",
    "* The {sf} package must be installed. It needs some system requierements, check the package documentation at https://r-spatial.github.io/sf/\n",
    "* The data paths `Data/Input` and `Data/Output` must exist (relative to the notebook path)"
   ]
  },
  {
   "attachments": {},
   "cell_type": "markdown",
   "metadata": {},
   "source": [
    "### Gestión de la configuración\n",
    "\n",
    "This notebook has been tested with the following versions of R and packages. It cannot be assured that later versions work in the same way:\n",
    "* R 4.2.2\n",
    "* tcltk 4.2.2\n",
    "* sf 1.0.9\n",
    "* dplyr 1.0.10\n"
   ]
  },
  {
   "attachments": {},
   "cell_type": "markdown",
   "metadata": {},
   "source": [
    "### Estructuras de datos"
   ]
  },
  {
   "attachments": {},
   "cell_type": "markdown",
   "metadata": {},
   "source": [
    "- Los datos geográficos en el fichero JSON vienen con la proyección CRS 23030\n",
    "- Hay 11 áreas de salud de las que se dispone de:\n",
    "    * GEOCODIGO, string de tamaño dos con el código del área de salud que después se puede unir a otras tablas.\n",
    "    * DESBDT, string de tamaño variable que contiene el nombre del área sanitaria y se usará para describir el área.\n",
    "    * CODBDT, entero que no utilizamos y no está claro para qué puede servir\n"
   ]
  },
  {
   "attachments": {},
   "cell_type": "markdown",
   "metadata": {},
   "source": [
    "### Consideraciones para despliegue en piloto\n",
    "\n",
    "* Los datos de origen fueron obtenidos de https://gestiona.comunidad.madrid/nomecalles/DescargaBDTCorte.icm#delimitacionesterritoriales en fichero zip con formato .shp y descomprimido en la carpeta Data/Input\n",
    "* Si la información geográfica cambia, se debería actualizar el fichero y volver a ejecutar todos los procesos.\n"
   ]
  },
  {
   "attachments": {},
   "cell_type": "markdown",
   "metadata": {},
   "source": [
    "### Consideraciones para despliegue en producción\n",
    "\n",
    "\n",
    "* Se deben crear los procesos ETL en producción necesarios para que los datos de entrada estén actualizados"
   ]
  },
  {
   "cell_type": "markdown",
   "metadata": {},
   "source": [
    "## <font color=' #2874a6 '>Main Actions</font>"
   ]
  },
  {
   "cell_type": "markdown",
   "metadata": {},
   "source": [
    "#### <font color=' #2874a6 '>Acciones done</font>"
   ]
  },
  {
   "cell_type": "markdown",
   "metadata": {
    "slideshow": {
     "slide_type": "slide"
    }
   },
   "source": [
    "<font color='steelblue'>Indicate the actions that have been carried out in this process</font>"
   ]
  },
  {
   "attachments": {},
   "cell_type": "markdown",
   "metadata": {},
   "source": [
    "- Se ha usado el encoding de Windows para la importación\n",
    "- Se ha convertido la proyección a EPSG:4326 (WGS84)\n",
    "- Se ha exportado a formato GeoJson"
   ]
  },
  {
   "cell_type": "markdown",
   "metadata": {},
   "source": [
    "#### <font color=' #2874a6 '>Acctions to perform</font>"
   ]
  },
  {
   "cell_type": "markdown",
   "metadata": {
    "slideshow": {
     "slide_type": "slide"
    }
   },
   "source": [
    "<font color='steelblue'>Indicate the actions that must be carried out in subsequent processes</font>"
   ]
  },
  {
   "attachments": {},
   "cell_type": "markdown",
   "metadata": {},
   "source": [
    "- Se deben asignar los hospitales a las zonas según sus coordenadas"
   ]
  },
  {
   "attachments": {},
   "cell_type": "markdown",
   "metadata": {},
   "source": [
    "## <font color='RED'>CODE TO DEPLOY (PILOT)</font>\n",
    "\n",
    "A continuación se incluirá el código que deba ser llevado a despliegue para producción, dado que se entiende efectúa operaciones necesarias sobre los datos en la ejecución del prototipo"
   ]
  },
  {
   "attachments": {},
   "cell_type": "markdown",
   "metadata": {},
   "source": [
    "<font color=' red '><b>Description</b></font>\n",
    "\n",
    "- No hay nada que desplegar en el piloto, ya que estos datos son estáticos o en todo caso cambian con muy poca frecuencia, altamente improbable durante el proyecto.\n"
   ]
  },
  {
   "attachments": {},
   "cell_type": "markdown",
   "metadata": {},
   "source": [
    "<font color=' red '><b>CODE</b></font>"
   ]
  },
  {
   "cell_type": "code",
   "execution_count": 16,
   "metadata": {
    "vscode": {
     "languageId": "r"
    }
   },
   "outputs": [],
   "source": [
    "# incluir código"
   ]
  }
 ],
 "metadata": {
  "anaconda-cloud": {},
  "celltoolbar": "Slideshow",
  "hide_input": false,
  "kernelspec": {
   "display_name": "R",
   "language": "R",
   "name": "ir"
  },
  "language_info": {
   "codemirror_mode": "r",
   "file_extension": ".r",
   "mimetype": "text/x-r-source",
   "name": "R",
   "pygments_lexer": "r",
   "version": "4.2.2"
  },
  "latex_envs": {
   "LaTeX_envs_menu_present": true,
   "autoclose": false,
   "autocomplete": true,
   "bibliofile": "biblio.bib",
   "cite_by": "apalike",
   "current_citInitial": 1,
   "eqLabelWithNumbers": true,
   "eqNumInitial": 1,
   "hotkeys": {
    "equation": "Ctrl-E",
    "itemize": "Ctrl-I"
   },
   "labels_anchors": false,
   "latex_user_defs": false,
   "report_style_numbering": true,
   "user_envs_cfg": false
  },
  "toc": {
   "base_numbering": 1,
   "nav_menu": {
    "height": "11.6px",
    "width": "160px"
   },
   "number_sections": false,
   "sideBar": true,
   "skip_h1_title": true,
   "title_cell": "Table of Contents",
   "title_sidebar": "Contents",
   "toc_cell": true,
   "toc_position": {
    "height": "calc(100% - 180px)",
    "left": "10px",
    "top": "150px",
    "width": "209.2px"
   },
   "toc_section_display": true,
   "toc_window_display": true
  },
  "varInspector": {
   "cols": {
    "lenName": 16,
    "lenType": 16,
    "lenVar": 40
   },
   "kernels_config": {
    "python": {
     "delete_cmd_postfix": "",
     "delete_cmd_prefix": "del ",
     "library": "var_list.py",
     "varRefreshCmd": "print(var_dic_list())"
    },
    "r": {
     "delete_cmd_postfix": ") ",
     "delete_cmd_prefix": "rm(",
     "library": "var_list.r",
     "varRefreshCmd": "cat(var_dic_list()) "
    }
   },
   "types_to_exclude": [
    "module",
    "function",
    "builtin_function_or_method",
    "instance",
    "_Feature"
   ],
   "window_display": false
  }
 },
 "nbformat": 4,
 "nbformat_minor": 1
}
