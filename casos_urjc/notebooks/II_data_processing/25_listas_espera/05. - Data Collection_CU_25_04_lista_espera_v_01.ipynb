{
 "cells": [
  {
   "cell_type": "markdown",
   "metadata": {
    "slideshow": {
     "slide_type": "slide"
    }
   },
   "source": [
    "<img src=\".\\images\\Logo.png\" width=150 align=\"left\" /> <img src=\".\\images\\Logo2.jpg\" width=450 align=\"right\" />"
   ]
  },
  {
   "attachments": {},
   "cell_type": "markdown",
   "metadata": {
    "slideshow": {
     "slide_type": "slide"
    }
   },
   "source": [
    "\n",
    "# <center><font color= #1e8449 > <b>CU25_Modelo de gestión de Lista de Espera Quirúrgica\n",
    "</font></center>"
   ]
  },
  {
   "cell_type": "markdown",
   "metadata": {
    "slideshow": {
     "slide_type": "slide"
    }
   },
   "source": [
    "<font color='steelblue'><b>Citizenlab Data Science Methodology > II - Data Processing Domain </font>\n",
    "***\n",
    "> # <font color='steelblue'> <b>05.- Data Collection</font>"
   ]
  },
  {
   "cell_type": "markdown",
   "metadata": {
    "slideshow": {
     "slide_type": "slide"
    }
   },
   "source": [
    "<font color='steelblue'>Data Collection is the process to obtain and generate (if required) necessary data to model the problem.</font>"
   ]
  },
  {
   "attachments": {},
   "cell_type": "markdown",
   "metadata": {},
   "source": [
    "### 04. Homogeneizar datos del CSV descargado de listas de espera\n",
    "\n",
    "* Valores perdidos como vacíos\n",
    "* Datos de semanas como número\n",
    "\n",
    "\n",
    "\n",
    "\n",
    "\n"
   ]
  },
  {
   "cell_type": "markdown",
   "metadata": {
    "toc": true
   },
   "source": [
    "<h1>Table of Contents<span class=\"tocSkip\"></span></h1>\n",
    "<div class=\"toc\"><ul class=\"toc-item\"><li><span><a href=\"#Settings\" data-toc-modified-id=\"Settings-1\"><font color=\"green\">Settings</font></a></span></li><li><span><a href=\"#Data-Load\" data-toc-modified-id=\"Data-Load-2\"><font color=\"green\">Data Load</font></a></span></li><li><span><a href=\"#ETL-Processes\" data-toc-modified-id=\"ETL-Processes-3\">ETL Processes</a></span><ul class=\"toc-item\"><li><span><a href=\"#Import-data-from:-CSV,-Excel,-Tab,-JSON,-SQL,-and-Parquet-files\" data-toc-modified-id=\"Import-data-from:-CSV,-Excel,-Tab,-JSON,-SQL,-and-Parquet-files-3.1\">Import data from: CSV, Excel, Tab, JSON, SQL, and Parquet files</a></span></li></ul></li><li><span><a href=\"#Synthetic-Data-Generation\" data-toc-modified-id=\"Synthetic-Data-Generation-4\">Synthetic Data Generation</a></span></li><li><span><a href=\"#Fake-Data-Generation\" data-toc-modified-id=\"Fake-Data-Generation-5\">Fake Data Generation</a></span></li><li><span><a href=\"#Open-Data\" data-toc-modified-id=\"Open-Data-6\">Open Data</a></span></li><li><span><a href=\"#Data-Save\" data-toc-modified-id=\"Data-Save-7\"><font color=\"green\">Data Save</font></a></span></li><li><span><a href=\"#Main-Conclusions\" data-toc-modified-id=\"Main-Conclusions-8\"><font color=\" #2874a6 \">Main Conclusions</font></a></span></li><li><span><a href=\"#Main-Actions\" data-toc-modified-id=\"Main-Actions-9\"><font color=\" #2874a6 \">Main Actions</font></a></span><ul class=\"toc-item\"><li><ul class=\"toc-item\"><li><span><a href=\"#Acciones-done\" data-toc-modified-id=\"Acciones-done-9.0.1\"><font color=\" #2874a6 \">Acciones done</font></a></span></li><li><span><a href=\"#Acctions-to-perform\" data-toc-modified-id=\"Acctions-to-perform-9.0.2\"><font color=\" #2874a6 \">Acctions to perform</font></a></span></li></ul></li></ul></li></ul></div>"
   ]
  },
  {
   "cell_type": "markdown",
   "metadata": {
    "slideshow": {
     "slide_type": "slide"
    }
   },
   "source": [
    "## <font color='green'>Settings</font>"
   ]
  },
  {
   "attachments": {},
   "cell_type": "markdown",
   "metadata": {},
   "source": [
    "### Packages to use\n",
    "\n",
    "_ELIMINAR O AÑADIR LO QUE TOQUE. COPIAR VERSIONES AL FINAL Y QUITAR CÓDIGO DE VERSIONES_\n",
    "\n",
    "- {tcltk} para selección interactiva de archivos locales\n",
    "- {sf} para trabajar con georeferenciación\n",
    "- {readr} para leer y escribir archivos csv\n",
    "- {dplyr} para explorar datos\n",
    "- {stringr} para manipulación de cadenas de caracteres\n",
    "- {tidyr} para organización de datos\n"
   ]
  },
  {
   "cell_type": "code",
   "execution_count": 33,
   "metadata": {
    "ExecuteTime": {
     "end_time": "2021-12-03T15:23:33.762841Z",
     "start_time": "2021-12-03T15:23:08.580267Z"
    },
    "slideshow": {
     "slide_type": "subslide"
    },
    "vscode": {
     "languageId": "r"
    }
   },
   "outputs": [],
   "source": [
    "library(readr)\n",
    "library(dplyr)\n",
    "library(lubridate)\n",
    "\n",
    "p <- c(\"tcltk\", \"readr\", \"dplyr\", \"lubridate\")\n"
   ]
  },
  {
   "attachments": {},
   "cell_type": "markdown",
   "metadata": {},
   "source": [
    "### Paths"
   ]
  },
  {
   "cell_type": "code",
   "execution_count": 2,
   "metadata": {
    "vscode": {
     "languageId": "r"
    }
   },
   "outputs": [],
   "source": [
    "iPath <- \"Data/Input/\"\n",
    "oPath <- \"Data/Output/\""
   ]
  },
  {
   "attachments": {},
   "cell_type": "markdown",
   "metadata": {
    "slideshow": {
     "slide_type": "slide"
    }
   },
   "source": [
    "## <font color='green'>Data Load</font>\n",
    "\n",
    "If there are more than one input file, make as many sections as files to import."
   ]
  },
  {
   "attachments": {},
   "cell_type": "markdown",
   "metadata": {},
   "source": [
    "Instrucciones\n",
    "- Los ficheros de entrada del proceso están siempre en Data/Input/.   \n",
    "- Si hay más de un fichero de entrada, se crean tantos objetos iFile_xx y file_data_xx como ficheros de entrada (xx número correlativo con dos dígitos, rellenar con ceros a la izquierda)"
   ]
  },
  {
   "attachments": {},
   "cell_type": "markdown",
   "metadata": {},
   "source": [
    "<font color='tomato'><b> OPCION A:</b> Seleccionar fichero en ventana para mayor comodidad</font> "
   ]
  },
  {
   "attachments": {},
   "cell_type": "markdown",
   "metadata": {},
   "source": [
    "Data load using the {tcltk} package. Ucomment the line if not using this option"
   ]
  },
  {
   "cell_type": "code",
   "execution_count": 3,
   "metadata": {
    "vscode": {
     "languageId": "r"
    }
   },
   "outputs": [],
   "source": [
    "# file_data <- tcltk::tk_choose.files(multi = FALSE)"
   ]
  },
  {
   "attachments": {},
   "cell_type": "markdown",
   "metadata": {},
   "source": [
    "<font color='tomato'><b> OPCION B:</b> Especificar el nombre de archivo</font>\n",
    "\n"
   ]
  },
  {
   "cell_type": "code",
   "execution_count": 4,
   "metadata": {
    "vscode": {
     "languageId": "r"
    }
   },
   "outputs": [
    {
     "name": "stdout",
     "output_type": "stream",
     "text": [
      "Se leer<U+00E1>n datos del archivo:  Data/Input/listas_espera.csv"
     ]
    }
   ],
   "source": [
    "iFile <- \"listas_espera.csv\"\n",
    "file_data <- paste0(iPath, iFile)\n",
    "\n",
    "if(file.exists(file_data)){\n",
    "    cat(\"Se leerán datos del archivo: \", file_data)\n",
    "} else{\n",
    "    warning(\"Cuidado: el archivo no existe.\")\n",
    "}\n"
   ]
  },
  {
   "attachments": {},
   "cell_type": "markdown",
   "metadata": {},
   "source": [
    "#### Data file to dataframe\n",
    "\n",
    "Usar la función adecuada según el formato de entrada (xlsx, csv, json, ...)"
   ]
  },
  {
   "cell_type": "code",
   "execution_count": 5,
   "metadata": {
    "vscode": {
     "languageId": "r"
    }
   },
   "outputs": [
    {
     "name": "stderr",
     "output_type": "stream",
     "text": [
      "\u001b[1m\u001b[22mNew names:\n",
      "\u001b[36m*\u001b[39m `` -> `...1`\n",
      "\u001b[1mRows: \u001b[22m\u001b[34m55680\u001b[39m \u001b[1mColumns: \u001b[22m\u001b[34m6\u001b[39m\n",
      "\u001b[36m--\u001b[39m \u001b[1mColumn specification\u001b[22m \u001b[36m--------------------------------------------------------\u001b[39m\n",
      "\u001b[1mDelimiter:\u001b[22m \",\"\n",
      "\u001b[31mchr\u001b[39m (3): Hospital, Especialidad, Semana\n",
      "\u001b[32mdbl\u001b[39m (3): ...1, Total pacientes, Media tiempo (dias)\n",
      "\n",
      "\u001b[36mi\u001b[39m Use `spec()` to retrieve the full column specification for this data.\n",
      "\u001b[36mi\u001b[39m Specify the column types or set `show_col_types = FALSE` to quiet this message.\n"
     ]
    }
   ],
   "source": [
    "data <- read_csv(file_data, na = \"na\")\n"
   ]
  },
  {
   "attachments": {},
   "cell_type": "markdown",
   "metadata": {},
   "source": [
    "Estructura de  los datos:"
   ]
  },
  {
   "cell_type": "code",
   "execution_count": 6,
   "metadata": {
    "vscode": {
     "languageId": "r"
    }
   },
   "outputs": [
    {
     "name": "stdout",
     "output_type": "stream",
     "text": [
      "Rows: 55,680\n",
      "Columns: 6\n",
      "$ ...1                  \u001b[3m\u001b[90m<dbl>\u001b[39m\u001b[23m 0, 1, 2, 3, 4, 5, 6, 7, 8, 9, 10, 11, 12, 13, 14~\n",
      "$ Hospital              \u001b[3m\u001b[90m<chr>\u001b[39m\u001b[23m \"HOSPITAL CENTRAL DE LA CRUZ ROJA SAN JOSE Y SAN~\n",
      "$ Especialidad          \u001b[3m\u001b[90m<chr>\u001b[39m\u001b[23m \"Angiolog<U+00ED>a y Cirug<U+00ED>a Vascular\", \"Angiolog<U+00ED>a y C~\n",
      "$ Semana                \u001b[3m\u001b[90m<chr>\u001b[39m\u001b[23m \"SEMANAL - 04/11/2022\", \"SEMANAL - 28/10/2022\", ~\n",
      "$ `Total pacientes`     \u001b[3m\u001b[90m<dbl>\u001b[39m\u001b[23m 439, 437, 429, 419, 418, NA, 408, 399, 396, 393,~\n",
      "$ `Media tiempo (dias)` \u001b[3m\u001b[90m<dbl>\u001b[39m\u001b[23m 56.29, 55.13, 53.99, 56.29, 55.82, NA, 57.45, 57~\n"
     ]
    }
   ],
   "source": [
    "data |> glimpse()"
   ]
  },
  {
   "attachments": {},
   "cell_type": "markdown",
   "metadata": {},
   "source": [
    "Muestra de datos:"
   ]
  },
  {
   "cell_type": "code",
   "execution_count": 7,
   "metadata": {
    "vscode": {
     "languageId": "r"
    }
   },
   "outputs": [
    {
     "data": {
      "text/html": [
       "<table class=\"dataframe\">\n",
       "<caption>A spec_tbl_df: 5 x 6</caption>\n",
       "<thead>\n",
       "\t<tr><th scope=col>...1</th><th scope=col>Hospital</th><th scope=col>Especialidad</th><th scope=col>Semana</th><th scope=col>Total pacientes</th><th scope=col>Media tiempo (dias)</th></tr>\n",
       "\t<tr><th scope=col>&lt;dbl&gt;</th><th scope=col>&lt;chr&gt;</th><th scope=col>&lt;chr&gt;</th><th scope=col>&lt;chr&gt;</th><th scope=col>&lt;dbl&gt;</th><th scope=col>&lt;dbl&gt;</th></tr>\n",
       "</thead>\n",
       "<tbody>\n",
       "\t<tr><td>0</td><td>HOSPITAL CENTRAL DE LA CRUZ ROJA SAN JOSE Y SANTA ADELA</td><td>Angiolog&lt;U+00ED&gt;a y Cirug&lt;U+00ED&gt;a Vascular</td><td>SEMANAL - 04/11/2022</td><td>439</td><td>56.29</td></tr>\n",
       "\t<tr><td>1</td><td>HOSPITAL CENTRAL DE LA CRUZ ROJA SAN JOSE Y SANTA ADELA</td><td>Angiolog&lt;U+00ED&gt;a y Cirug&lt;U+00ED&gt;a Vascular</td><td>SEMANAL - 28/10/2022</td><td>437</td><td>55.13</td></tr>\n",
       "\t<tr><td>2</td><td>HOSPITAL CENTRAL DE LA CRUZ ROJA SAN JOSE Y SANTA ADELA</td><td>Angiolog&lt;U+00ED&gt;a y Cirug&lt;U+00ED&gt;a Vascular</td><td>SEMANAL - 21/10/2022</td><td>429</td><td>53.99</td></tr>\n",
       "\t<tr><td>3</td><td>HOSPITAL CENTRAL DE LA CRUZ ROJA SAN JOSE Y SANTA ADELA</td><td>Angiolog&lt;U+00ED&gt;a y Cirug&lt;U+00ED&gt;a Vascular</td><td>SEMANAL - 14/10/2022</td><td>419</td><td>56.29</td></tr>\n",
       "\t<tr><td>4</td><td>HOSPITAL CENTRAL DE LA CRUZ ROJA SAN JOSE Y SANTA ADELA</td><td>Angiolog&lt;U+00ED&gt;a y Cirug&lt;U+00ED&gt;a Vascular</td><td>SEMANAL - 07/10/2022</td><td>418</td><td>55.82</td></tr>\n",
       "</tbody>\n",
       "</table>\n"
      ],
      "text/latex": [
       "A spec\\_tbl\\_df: 5 x 6\n",
       "\\begin{tabular}{llllll}\n",
       " ...1 & Hospital & Especialidad & Semana & Total pacientes & Media tiempo (dias)\\\\\n",
       " <dbl> & <chr> & <chr> & <chr> & <dbl> & <dbl>\\\\\n",
       "\\hline\n",
       "\t 0 & HOSPITAL CENTRAL DE LA CRUZ ROJA SAN JOSE Y SANTA ADELA & Angiolog<U+00ED>a y Cirug<U+00ED>a Vascular & SEMANAL - 04/11/2022 & 439 & 56.29\\\\\n",
       "\t 1 & HOSPITAL CENTRAL DE LA CRUZ ROJA SAN JOSE Y SANTA ADELA & Angiolog<U+00ED>a y Cirug<U+00ED>a Vascular & SEMANAL - 28/10/2022 & 437 & 55.13\\\\\n",
       "\t 2 & HOSPITAL CENTRAL DE LA CRUZ ROJA SAN JOSE Y SANTA ADELA & Angiolog<U+00ED>a y Cirug<U+00ED>a Vascular & SEMANAL - 21/10/2022 & 429 & 53.99\\\\\n",
       "\t 3 & HOSPITAL CENTRAL DE LA CRUZ ROJA SAN JOSE Y SANTA ADELA & Angiolog<U+00ED>a y Cirug<U+00ED>a Vascular & SEMANAL - 14/10/2022 & 419 & 56.29\\\\\n",
       "\t 4 & HOSPITAL CENTRAL DE LA CRUZ ROJA SAN JOSE Y SANTA ADELA & Angiolog<U+00ED>a y Cirug<U+00ED>a Vascular & SEMANAL - 07/10/2022 & 418 & 55.82\\\\\n",
       "\\end{tabular}\n"
      ],
      "text/markdown": [
       "\n",
       "A spec_tbl_df: 5 x 6\n",
       "\n",
       "| ...1 &lt;dbl&gt; | Hospital &lt;chr&gt; | Especialidad &lt;chr&gt; | Semana &lt;chr&gt; | Total pacientes &lt;dbl&gt; | Media tiempo (dias) &lt;dbl&gt; |\n",
       "|---|---|---|---|---|---|\n",
       "| 0 | HOSPITAL CENTRAL DE LA CRUZ ROJA SAN JOSE Y SANTA ADELA | Angiolog&lt;U+00ED&gt;a y Cirug&lt;U+00ED&gt;a Vascular | SEMANAL - 04/11/2022 | 439 | 56.29 |\n",
       "| 1 | HOSPITAL CENTRAL DE LA CRUZ ROJA SAN JOSE Y SANTA ADELA | Angiolog&lt;U+00ED&gt;a y Cirug&lt;U+00ED&gt;a Vascular | SEMANAL - 28/10/2022 | 437 | 55.13 |\n",
       "| 2 | HOSPITAL CENTRAL DE LA CRUZ ROJA SAN JOSE Y SANTA ADELA | Angiolog&lt;U+00ED&gt;a y Cirug&lt;U+00ED&gt;a Vascular | SEMANAL - 21/10/2022 | 429 | 53.99 |\n",
       "| 3 | HOSPITAL CENTRAL DE LA CRUZ ROJA SAN JOSE Y SANTA ADELA | Angiolog&lt;U+00ED&gt;a y Cirug&lt;U+00ED&gt;a Vascular | SEMANAL - 14/10/2022 | 419 | 56.29 |\n",
       "| 4 | HOSPITAL CENTRAL DE LA CRUZ ROJA SAN JOSE Y SANTA ADELA | Angiolog&lt;U+00ED&gt;a y Cirug&lt;U+00ED&gt;a Vascular | SEMANAL - 07/10/2022 | 418 | 55.82 |\n",
       "\n"
      ],
      "text/plain": [
       "  ...1 Hospital                                               \n",
       "1 0    HOSPITAL CENTRAL DE LA CRUZ ROJA SAN JOSE Y SANTA ADELA\n",
       "2 1    HOSPITAL CENTRAL DE LA CRUZ ROJA SAN JOSE Y SANTA ADELA\n",
       "3 2    HOSPITAL CENTRAL DE LA CRUZ ROJA SAN JOSE Y SANTA ADELA\n",
       "4 3    HOSPITAL CENTRAL DE LA CRUZ ROJA SAN JOSE Y SANTA ADELA\n",
       "5 4    HOSPITAL CENTRAL DE LA CRUZ ROJA SAN JOSE Y SANTA ADELA\n",
       "  Especialidad                                Semana              \n",
       "1 Angiolog<U+00ED>a y Cirug<U+00ED>a Vascular SEMANAL - 04/11/2022\n",
       "2 Angiolog<U+00ED>a y Cirug<U+00ED>a Vascular SEMANAL - 28/10/2022\n",
       "3 Angiolog<U+00ED>a y Cirug<U+00ED>a Vascular SEMANAL - 21/10/2022\n",
       "4 Angiolog<U+00ED>a y Cirug<U+00ED>a Vascular SEMANAL - 14/10/2022\n",
       "5 Angiolog<U+00ED>a y Cirug<U+00ED>a Vascular SEMANAL - 07/10/2022\n",
       "  Total pacientes Media tiempo (dias)\n",
       "1 439             56.29              \n",
       "2 437             55.13              \n",
       "3 429             53.99              \n",
       "4 419             56.29              \n",
       "5 418             55.82              "
      ]
     },
     "metadata": {},
     "output_type": "display_data"
    }
   ],
   "source": [
    "data |> slice_head(n = 5)"
   ]
  },
  {
   "cell_type": "markdown",
   "metadata": {
    "slideshow": {
     "slide_type": "slide"
    }
   },
   "source": [
    "## ETL Processes"
   ]
  },
  {
   "attachments": {},
   "cell_type": "markdown",
   "metadata": {
    "slideshow": {
     "slide_type": "slide"
    }
   },
   "source": [
    "### Import data from: CSV, Excel, Tab, JSON, SQL, and Parquet files\n",
    "\n",
    "Se han importado en el apartado Data Load anterior:\n",
    "\n",
    "* Listas de espera obtenidas por webscrapping"
   ]
  },
  {
   "attachments": {},
   "cell_type": "markdown",
   "metadata": {},
   "source": [
    "Incluir apartados si procede para: Extracción de datos (select, filter), Transformación de datos, (mutate, joins, ...). Si es necesario tratar datos perdidos, indicarlo también en NB 09.2"
   ]
  },
  {
   "attachments": {},
   "cell_type": "markdown",
   "metadata": {},
   "source": [
    "### Data extract & adequacy\n",
    "\n",
    "* Quitar columna identificadora\n",
    "* Quitar espacios a nombres de columnas\n",
    "\n",
    "Por conveniencia al ser un archivo intermedio, se incluyen aquí tareas propias del proceso 06 _Data Adequacy_"
   ]
  },
  {
   "attachments": {},
   "cell_type": "markdown",
   "metadata": {},
   "source": [
    "Si no aplica: Estos datos no requieren tareas de este tipo."
   ]
  },
  {
   "cell_type": "code",
   "execution_count": 23,
   "metadata": {
    "vscode": {
     "languageId": "r"
    }
   },
   "outputs": [],
   "source": [
    "edata <- data |> \n",
    "    select(-1) |>\n",
    "    rename(total_pacientes = `Total pacientes`,\n",
    "        media_tiempo_dias = `Media tiempo (dias)`)"
   ]
  },
  {
   "cell_type": "code",
   "execution_count": 24,
   "metadata": {
    "vscode": {
     "languageId": "r"
    }
   },
   "outputs": [
    {
     "name": "stdout",
     "output_type": "stream",
     "text": [
      "Rows: 55,680\n",
      "Columns: 5\n",
      "$ Hospital          \u001b[3m\u001b[90m<chr>\u001b[39m\u001b[23m \"HOSPITAL CENTRAL DE LA CRUZ ROJA SAN JOSE Y SANTA A~\n",
      "$ Especialidad      \u001b[3m\u001b[90m<chr>\u001b[39m\u001b[23m \"Angiolog<U+00ED>a y Cirug<U+00ED>a Vascular\", \"Angiolog<U+00ED>a y Cirug~\n",
      "$ Semana            \u001b[3m\u001b[90m<chr>\u001b[39m\u001b[23m \"SEMANAL - 04/11/2022\", \"SEMANAL - 28/10/2022\", \"SEM~\n",
      "$ total_pacientes   \u001b[3m\u001b[90m<dbl>\u001b[39m\u001b[23m 439, 437, 429, 419, 418, NA, 408, 399, 396, 393, 378~\n",
      "$ media_tiempo_dias \u001b[3m\u001b[90m<dbl>\u001b[39m\u001b[23m 56.29, 55.13, 53.99, 56.29, 55.82, NA, 57.45, 57.61,~\n"
     ]
    }
   ],
   "source": [
    "glimpse(edata)"
   ]
  },
  {
   "attachments": {},
   "cell_type": "markdown",
   "metadata": {},
   "source": [
    "#### Data transformation\n",
    "\n",
    "* Extraer la semana y el año de la columna Semana, quitando columna tipo texto"
   ]
  },
  {
   "cell_type": "code",
   "execution_count": 25,
   "metadata": {
    "vscode": {
     "languageId": "r"
    }
   },
   "outputs": [],
   "source": [
    "tdata <- edata |>\n",
    "    mutate(ano = year(as.Date(Semana, format = \"SEMANAL - %d/%m/%Y\")),\n",
    "        semana = isoweek(as.Date(Semana, format = \"SEMANAL - %d/%m/%Y\"))) |>\n",
    "    select(-Semana)"
   ]
  },
  {
   "attachments": {},
   "cell_type": "markdown",
   "metadata": {},
   "source": [
    "Estructura de los datos a guardar"
   ]
  },
  {
   "cell_type": "code",
   "execution_count": 26,
   "metadata": {
    "vscode": {
     "languageId": "r"
    }
   },
   "outputs": [
    {
     "name": "stdout",
     "output_type": "stream",
     "text": [
      "Rows: 55,680\n",
      "Columns: 6\n",
      "$ Hospital          \u001b[3m\u001b[90m<chr>\u001b[39m\u001b[23m \"HOSPITAL CENTRAL DE LA CRUZ ROJA SAN JOSE Y SANTA A~\n",
      "$ Especialidad      \u001b[3m\u001b[90m<chr>\u001b[39m\u001b[23m \"Angiolog<U+00ED>a y Cirug<U+00ED>a Vascular\", \"Angiolog<U+00ED>a y Cirug~\n",
      "$ total_pacientes   \u001b[3m\u001b[90m<dbl>\u001b[39m\u001b[23m 439, 437, 429, 419, 418, NA, 408, 399, 396, 393, 378~\n",
      "$ media_tiempo_dias \u001b[3m\u001b[90m<dbl>\u001b[39m\u001b[23m 56.29, 55.13, 53.99, 56.29, 55.82, NA, 57.45, 57.61,~\n",
      "$ ano               \u001b[3m\u001b[90m<dbl>\u001b[39m\u001b[23m 2022, 2022, 2022, 2022, 2022, 2022, 2022, 2022, 2022~\n",
      "$ semana            \u001b[3m\u001b[90m<dbl>\u001b[39m\u001b[23m 44, 43, 42, 41, 40, 39, 38, 37, 36, 35, 34, 33, 32, ~\n"
     ]
    }
   ],
   "source": [
    "glimpse(tdata)"
   ]
  },
  {
   "attachments": {},
   "cell_type": "markdown",
   "metadata": {},
   "source": [
    "Muestra de las primeras filas"
   ]
  },
  {
   "cell_type": "code",
   "execution_count": 27,
   "metadata": {
    "vscode": {
     "languageId": "r"
    }
   },
   "outputs": [
    {
     "data": {
      "text/html": [
       "<table class=\"dataframe\">\n",
       "<caption>A tibble: 5 x 6</caption>\n",
       "<thead>\n",
       "\t<tr><th scope=col>Hospital</th><th scope=col>Especialidad</th><th scope=col>total_pacientes</th><th scope=col>media_tiempo_dias</th><th scope=col>ano</th><th scope=col>semana</th></tr>\n",
       "\t<tr><th scope=col>&lt;chr&gt;</th><th scope=col>&lt;chr&gt;</th><th scope=col>&lt;dbl&gt;</th><th scope=col>&lt;dbl&gt;</th><th scope=col>&lt;dbl&gt;</th><th scope=col>&lt;dbl&gt;</th></tr>\n",
       "</thead>\n",
       "<tbody>\n",
       "\t<tr><td>HOSPITAL CENTRAL DE LA CRUZ ROJA SAN JOSE Y SANTA ADELA</td><td>Angiolog&lt;U+00ED&gt;a y Cirug&lt;U+00ED&gt;a Vascular</td><td>439</td><td>56.29</td><td>2022</td><td>44</td></tr>\n",
       "\t<tr><td>HOSPITAL CENTRAL DE LA CRUZ ROJA SAN JOSE Y SANTA ADELA</td><td>Angiolog&lt;U+00ED&gt;a y Cirug&lt;U+00ED&gt;a Vascular</td><td>437</td><td>55.13</td><td>2022</td><td>43</td></tr>\n",
       "\t<tr><td>HOSPITAL CENTRAL DE LA CRUZ ROJA SAN JOSE Y SANTA ADELA</td><td>Angiolog&lt;U+00ED&gt;a y Cirug&lt;U+00ED&gt;a Vascular</td><td>429</td><td>53.99</td><td>2022</td><td>42</td></tr>\n",
       "\t<tr><td>HOSPITAL CENTRAL DE LA CRUZ ROJA SAN JOSE Y SANTA ADELA</td><td>Angiolog&lt;U+00ED&gt;a y Cirug&lt;U+00ED&gt;a Vascular</td><td>419</td><td>56.29</td><td>2022</td><td>41</td></tr>\n",
       "\t<tr><td>HOSPITAL CENTRAL DE LA CRUZ ROJA SAN JOSE Y SANTA ADELA</td><td>Angiolog&lt;U+00ED&gt;a y Cirug&lt;U+00ED&gt;a Vascular</td><td>418</td><td>55.82</td><td>2022</td><td>40</td></tr>\n",
       "</tbody>\n",
       "</table>\n"
      ],
      "text/latex": [
       "A tibble: 5 x 6\n",
       "\\begin{tabular}{llllll}\n",
       " Hospital & Especialidad & total\\_pacientes & media\\_tiempo\\_dias & ano & semana\\\\\n",
       " <chr> & <chr> & <dbl> & <dbl> & <dbl> & <dbl>\\\\\n",
       "\\hline\n",
       "\t HOSPITAL CENTRAL DE LA CRUZ ROJA SAN JOSE Y SANTA ADELA & Angiolog<U+00ED>a y Cirug<U+00ED>a Vascular & 439 & 56.29 & 2022 & 44\\\\\n",
       "\t HOSPITAL CENTRAL DE LA CRUZ ROJA SAN JOSE Y SANTA ADELA & Angiolog<U+00ED>a y Cirug<U+00ED>a Vascular & 437 & 55.13 & 2022 & 43\\\\\n",
       "\t HOSPITAL CENTRAL DE LA CRUZ ROJA SAN JOSE Y SANTA ADELA & Angiolog<U+00ED>a y Cirug<U+00ED>a Vascular & 429 & 53.99 & 2022 & 42\\\\\n",
       "\t HOSPITAL CENTRAL DE LA CRUZ ROJA SAN JOSE Y SANTA ADELA & Angiolog<U+00ED>a y Cirug<U+00ED>a Vascular & 419 & 56.29 & 2022 & 41\\\\\n",
       "\t HOSPITAL CENTRAL DE LA CRUZ ROJA SAN JOSE Y SANTA ADELA & Angiolog<U+00ED>a y Cirug<U+00ED>a Vascular & 418 & 55.82 & 2022 & 40\\\\\n",
       "\\end{tabular}\n"
      ],
      "text/markdown": [
       "\n",
       "A tibble: 5 x 6\n",
       "\n",
       "| Hospital &lt;chr&gt; | Especialidad &lt;chr&gt; | total_pacientes &lt;dbl&gt; | media_tiempo_dias &lt;dbl&gt; | ano &lt;dbl&gt; | semana &lt;dbl&gt; |\n",
       "|---|---|---|---|---|---|\n",
       "| HOSPITAL CENTRAL DE LA CRUZ ROJA SAN JOSE Y SANTA ADELA | Angiolog&lt;U+00ED&gt;a y Cirug&lt;U+00ED&gt;a Vascular | 439 | 56.29 | 2022 | 44 |\n",
       "| HOSPITAL CENTRAL DE LA CRUZ ROJA SAN JOSE Y SANTA ADELA | Angiolog&lt;U+00ED&gt;a y Cirug&lt;U+00ED&gt;a Vascular | 437 | 55.13 | 2022 | 43 |\n",
       "| HOSPITAL CENTRAL DE LA CRUZ ROJA SAN JOSE Y SANTA ADELA | Angiolog&lt;U+00ED&gt;a y Cirug&lt;U+00ED&gt;a Vascular | 429 | 53.99 | 2022 | 42 |\n",
       "| HOSPITAL CENTRAL DE LA CRUZ ROJA SAN JOSE Y SANTA ADELA | Angiolog&lt;U+00ED&gt;a y Cirug&lt;U+00ED&gt;a Vascular | 419 | 56.29 | 2022 | 41 |\n",
       "| HOSPITAL CENTRAL DE LA CRUZ ROJA SAN JOSE Y SANTA ADELA | Angiolog&lt;U+00ED&gt;a y Cirug&lt;U+00ED&gt;a Vascular | 418 | 55.82 | 2022 | 40 |\n",
       "\n"
      ],
      "text/plain": [
       "  Hospital                                               \n",
       "1 HOSPITAL CENTRAL DE LA CRUZ ROJA SAN JOSE Y SANTA ADELA\n",
       "2 HOSPITAL CENTRAL DE LA CRUZ ROJA SAN JOSE Y SANTA ADELA\n",
       "3 HOSPITAL CENTRAL DE LA CRUZ ROJA SAN JOSE Y SANTA ADELA\n",
       "4 HOSPITAL CENTRAL DE LA CRUZ ROJA SAN JOSE Y SANTA ADELA\n",
       "5 HOSPITAL CENTRAL DE LA CRUZ ROJA SAN JOSE Y SANTA ADELA\n",
       "  Especialidad                                total_pacientes media_tiempo_dias\n",
       "1 Angiolog<U+00ED>a y Cirug<U+00ED>a Vascular 439             56.29            \n",
       "2 Angiolog<U+00ED>a y Cirug<U+00ED>a Vascular 437             55.13            \n",
       "3 Angiolog<U+00ED>a y Cirug<U+00ED>a Vascular 429             53.99            \n",
       "4 Angiolog<U+00ED>a y Cirug<U+00ED>a Vascular 419             56.29            \n",
       "5 Angiolog<U+00ED>a y Cirug<U+00ED>a Vascular 418             55.82            \n",
       "  ano  semana\n",
       "1 2022 44    \n",
       "2 2022 43    \n",
       "3 2022 42    \n",
       "4 2022 41    \n",
       "5 2022 40    "
      ]
     },
     "metadata": {},
     "output_type": "display_data"
    }
   ],
   "source": [
    "tdata |> slice_head(n = 5)"
   ]
  },
  {
   "cell_type": "markdown",
   "metadata": {
    "slideshow": {
     "slide_type": "slide"
    }
   },
   "source": [
    "## Synthetic Data Generation"
   ]
  },
  {
   "attachments": {},
   "cell_type": "markdown",
   "metadata": {
    "slideshow": {
     "slide_type": "slide"
    }
   },
   "source": [
    "No aplica"
   ]
  },
  {
   "cell_type": "markdown",
   "metadata": {
    "slideshow": {
     "slide_type": "slide"
    }
   },
   "source": [
    "## Fake Data Generation"
   ]
  },
  {
   "attachments": {},
   "cell_type": "markdown",
   "metadata": {
    "slideshow": {
     "slide_type": "slide"
    }
   },
   "source": [
    "No aplica"
   ]
  },
  {
   "cell_type": "markdown",
   "metadata": {
    "slideshow": {
     "slide_type": "slide"
    }
   },
   "source": [
    "## Open Data"
   ]
  },
  {
   "attachments": {},
   "cell_type": "markdown",
   "metadata": {
    "slideshow": {
     "slide_type": "slide"
    }
   },
   "source": [
    "No aplica"
   ]
  },
  {
   "cell_type": "markdown",
   "metadata": {},
   "source": [
    "## <font color='green'>Data Save</font>"
   ]
  },
  {
   "attachments": {},
   "cell_type": "markdown",
   "metadata": {},
   "source": [
    "Este proceso, puede copiarse y repetirse en aquellas partes del notebbok que necesiten guardar datos.\n",
    "Recuerde cambiar las cadenas añadida del fichero para diferenciarlas"
   ]
  },
  {
   "cell_type": "markdown",
   "metadata": {},
   "source": [
    "<font color='tomato'> Identificamos los datos a guardar</font>"
   ]
  },
  {
   "cell_type": "code",
   "execution_count": 28,
   "metadata": {
    "ExecuteTime": {
     "end_time": "2020-12-25T17:59:27.022001Z",
     "start_time": "2020-12-25T17:59:15.986986Z"
    },
    "scrolled": false,
    "vscode": {
     "languageId": "r"
    }
   },
   "outputs": [],
   "source": [
    "data_to_save <- tdata"
   ]
  },
  {
   "attachments": {},
   "cell_type": "markdown",
   "metadata": {},
   "source": [
    "\n",
    "<font color='tomato'>Estructura de nombre de archivos:</font>\n",
    "\n",
    "* Código del caso de uso, por ejemplo \"CU_04\"\n",
    "* Número del proceso que lo genera, por ejemplo \"_05\".\n",
    "* Número de la tarea que lo genera, por ejemplo \"_01\"\n",
    "* En caso de generarse varios ficheros en la misma tarea, llevarán _01 _02 ... después\n",
    "* Nombre: identificativo de \"properData\", por ejemplo \"_zonasgeo\"\n",
    "* Extensión del archivo\n",
    "\n",
    "Ejemplo: \"CU_04_05_01_01_zonasgeo.json, primer fichero que se genera en la tarea 01 del proceso 05 (Data Collection) para el caso de uso 04 (vacunas)\n",
    "\n",
    "Importante mantener los guiones bajos antes de proceso, tarea, archivo y nombre"
   ]
  },
  {
   "attachments": {},
   "cell_type": "markdown",
   "metadata": {},
   "source": [
    "### Proceso 05"
   ]
  },
  {
   "cell_type": "code",
   "execution_count": 29,
   "metadata": {
    "ExecuteTime": {
     "end_time": "2020-12-25T17:59:27.022001Z",
     "start_time": "2020-12-25T17:59:15.986986Z"
    },
    "scrolled": false,
    "vscode": {
     "languageId": "r"
    }
   },
   "outputs": [],
   "source": [
    "caso <- \"CU_25\"\n",
    "proceso <- '_05'\n",
    "tarea <- \"_04\"\n",
    "archivo <- \"\"\n",
    "proper <- \"_lista_espera\"\n",
    "extension <- \".csv\""
   ]
  },
  {
   "attachments": {},
   "cell_type": "markdown",
   "metadata": {},
   "source": [
    "<font color='tomato'><b> OPCION A:</b> Uso del paquete \"tcltk\" para mayor comodidad</font>\n",
    "\n",
    "* Buscar carpeta, escribir nombre de archivo SIN extensión (se especifica en el código)\n",
    "* Especificar sufijo2 si es necesario\n",
    "* Cambiar datos por datos_xx si es necesario"
   ]
  },
  {
   "cell_type": "code",
   "execution_count": null,
   "metadata": {
    "ExecuteTime": {
     "end_time": "2020-12-25T17:59:27.022001Z",
     "start_time": "2020-12-25T17:59:15.986986Z"
    },
    "scrolled": false,
    "vscode": {
     "languageId": "r"
    }
   },
   "outputs": [],
   "source": [
    "# file_save <- paste0(caso, proceso, tarea, tcltk::tkgetSaveFile(), proper, extension) \n",
    "# path_out <- paste0(oPath, file_save)\n",
    "# write_csv(data_to_save, path_out)\n",
    "\n",
    "# cat('File saved as: ')\n",
    "# path_out"
   ]
  },
  {
   "attachments": {},
   "cell_type": "markdown",
   "metadata": {},
   "source": [
    "<font color='tomato'><b> OPCION B:</b> Especificar el nombre de archivo</font>"
   ]
  },
  {
   "attachments": {},
   "cell_type": "markdown",
   "metadata": {},
   "source": [
    "- Los ficheros de salida del proceso van siempre a Data/Output/.  "
   ]
  },
  {
   "cell_type": "code",
   "execution_count": 30,
   "metadata": {
    "ExecuteTime": {
     "end_time": "2021-01-26T18:40:31.258294Z",
     "start_time": "2021-01-26T18:40:26.061847Z"
    },
    "slideshow": {
     "slide_type": "subslide"
    },
    "vscode": {
     "languageId": "r"
    }
   },
   "outputs": [
    {
     "name": "stdout",
     "output_type": "stream",
     "text": [
      "File saved as: "
     ]
    },
    {
     "data": {
      "text/html": [
       "'Data/Output/CU_25_05_04_lista_espera.csv'"
      ],
      "text/latex": [
       "'Data/Output/CU\\_25\\_05\\_04\\_lista\\_espera.csv'"
      ],
      "text/markdown": [
       "'Data/Output/CU_25_05_04_lista_espera.csv'"
      ],
      "text/plain": [
       "[1] \"Data/Output/CU_25_05_04_lista_espera.csv\""
      ]
     },
     "metadata": {},
     "output_type": "display_data"
    }
   ],
   "source": [
    "file_save <- paste0(caso, proceso, tarea, archivo, proper, extension) \n",
    "path_out <- paste0(oPath, file_save)\n",
    "write_csv(data_to_save, path_out)\n",
    "\n",
    "cat('File saved as: ')\n",
    "path_out"
   ]
  },
  {
   "attachments": {},
   "cell_type": "markdown",
   "metadata": {},
   "source": [
    "#### Copia del fichero a Input\n",
    "\n",
    "Si el archivo se va a usar en otros notebooks, copiar a la carpeta Input"
   ]
  },
  {
   "cell_type": "code",
   "execution_count": 31,
   "metadata": {
    "vscode": {
     "languageId": "r"
    }
   },
   "outputs": [
    {
     "data": {
      "text/html": [
       "TRUE"
      ],
      "text/latex": [
       "TRUE"
      ],
      "text/markdown": [
       "TRUE"
      ],
      "text/plain": [
       "[1] TRUE"
      ]
     },
     "metadata": {},
     "output_type": "display_data"
    }
   ],
   "source": [
    "path_in <- paste0(iPath, file_save)\n",
    "file.copy(path_out, path_in, overwrite = TRUE)"
   ]
  },
  {
   "cell_type": "markdown",
   "metadata": {},
   "source": [
    "## <font color=' #2874a6 '>Main Conclusions</font>"
   ]
  },
  {
   "cell_type": "markdown",
   "metadata": {
    "slideshow": {
     "slide_type": "slide"
    }
   },
   "source": [
    "<font color='steelblue'>List and describe the general conclusions of the analysis carried out​.</font>"
   ]
  },
  {
   "attachments": {},
   "cell_type": "markdown",
   "metadata": {},
   "source": [
    "### Prerequisites\n",
    "\n",
    "Para que funcione este código se necesita:\n",
    "\n",
    "* Las rutas de archivos `Data/Input` y `Data/Output` deben existir (relativas a la ruta del _notebook_)\n",
    "* El paquete tcltk instalado para seleccionar archivos interactivamente. No se necesita en producción.\n",
    "* Los paquetes readr, dplyr, lubridate deben estar instalados.\n"
   ]
  },
  {
   "attachments": {},
   "cell_type": "markdown",
   "metadata": {},
   "source": [
    "### Configuration Management\n",
    "\n",
    "This notebook has been tested with the following versions of R and packages. It cannot be assured that later versions work in the same way:\n",
    "* R 4.2.2\n",
    "* tcltk 4.2.2\n",
    "* readr 2.1.3\n",
    "* dplyr 1.0.10\n",
    "* lubridate 1.9.1"
   ]
  },
  {
   "attachments": {},
   "cell_type": "markdown",
   "metadata": {},
   "source": [
    "### Data structures"
   ]
  },
  {
   "attachments": {},
   "cell_type": "markdown",
   "metadata": {},
   "source": [
    "#### Objeto `data`\n",
    "\n",
    "- Hay 55680 filas con informaciónn de las siguientes variables:\n",
    "\t* Hospital\n",
    "\t* Especialidad\n",
    "\t* total_pacientes\n",
    "\t* media_tiempo_dias\n",
    "\t* ano\n",
    "\t* semana\n"
   ]
  },
  {
   "cell_type": "code",
   "execution_count": 36,
   "metadata": {
    "vscode": {
     "languageId": "r"
    }
   },
   "outputs": [
    {
     "name": "stdout",
     "output_type": "stream",
     "text": [
      "- Hay 55680 filas con informaci<U+00F3>n de las siguientes variables:\n",
      "\t* Hospital\n",
      "\t* Especialidad\n",
      "\t* total_pacientes\n",
      "\t* media_tiempo_dias\n",
      "\t* ano\n",
      "\t* semana"
     ]
    }
   ],
   "source": [
    "cat(\"- Hay\", nrow(data), \"filas con información de las siguientes variables:\\n\\t*\", paste(colnames(data_to_save), collapse = \"\\n\\t* \"))\n"
   ]
  },
  {
   "attachments": {},
   "cell_type": "markdown",
   "metadata": {},
   "source": [
    "#### Observaciones generales sobre los datos\n",
    "\n",
    "* Se toma la semana según norma ISO 8601. \n"
   ]
  },
  {
   "attachments": {},
   "cell_type": "markdown",
   "metadata": {},
   "source": [
    "### Consideraciones para despliegue en piloto\n",
    "\n",
    "* No aplica"
   ]
  },
  {
   "attachments": {},
   "cell_type": "markdown",
   "metadata": {},
   "source": [
    "### Consideraciones para despliegue en producción\n",
    "\n",
    "* Se deben crear los procesos ETL en producción necesarios para que los datos de entrada estén actualizados"
   ]
  },
  {
   "cell_type": "markdown",
   "metadata": {},
   "source": [
    "## <font color=' #2874a6 '>Main Actions</font>"
   ]
  },
  {
   "cell_type": "markdown",
   "metadata": {},
   "source": [
    "#### <font color=' #2874a6 '>Acciones done</font>"
   ]
  },
  {
   "cell_type": "markdown",
   "metadata": {
    "slideshow": {
     "slide_type": "slide"
    }
   },
   "source": [
    "<font color='steelblue'>Indicate the actions that have been carried out in this process</font>"
   ]
  },
  {
   "attachments": {},
   "cell_type": "markdown",
   "metadata": {},
   "source": [
    "- Se han extraído las semanas de la información tipo carácter obtenida\n",
    "- Se han estandarizado los nombres de columna"
   ]
  },
  {
   "cell_type": "markdown",
   "metadata": {},
   "source": [
    "#### <font color=' #2874a6 '>Acctions to perform</font>"
   ]
  },
  {
   "cell_type": "markdown",
   "metadata": {
    "slideshow": {
     "slide_type": "slide"
    }
   },
   "source": [
    "<font color='steelblue'>Indicate the actions that must be carried out in subsequent processes</font>"
   ]
  },
  {
   "attachments": {},
   "cell_type": "markdown",
   "metadata": {},
   "source": [
    "- Se deben unir los datos de lista de espera a la geolocalización y a los datos del catálogo nacional de hospitales"
   ]
  },
  {
   "attachments": {},
   "cell_type": "markdown",
   "metadata": {},
   "source": [
    "## <font color='RED'>CODE TO DEPLOY (PILOT)</font>\n",
    "\n",
    "A continuación se incluirá el código que deba ser llevado a despliegue para producción, dado que se entiende efectúa operaciones necesarias sobre los datos en la ejecución del prototipo"
   ]
  },
  {
   "attachments": {},
   "cell_type": "markdown",
   "metadata": {},
   "source": [
    "<font color=' red '><b>Description</b></font>\n",
    "\n",
    "- No hay nada que desplegar en el piloto, ya que estos datos son estáticos o en todo caso cambian con muy poca frecuencia, altamente improbable durante el proyecto.\n"
   ]
  },
  {
   "attachments": {},
   "cell_type": "markdown",
   "metadata": {},
   "source": [
    "<font color=' red '><b>CODE</b></font>"
   ]
  },
  {
   "cell_type": "code",
   "execution_count": null,
   "metadata": {
    "vscode": {
     "languageId": "r"
    }
   },
   "outputs": [],
   "source": [
    "# incluir código"
   ]
  }
 ],
 "metadata": {
  "anaconda-cloud": {},
  "celltoolbar": "Slideshow",
  "hide_input": false,
  "kernelspec": {
   "display_name": "R",
   "language": "R",
   "name": "ir"
  },
  "language_info": {
   "codemirror_mode": "r",
   "file_extension": ".r",
   "mimetype": "text/x-r-source",
   "name": "R",
   "pygments_lexer": "r",
   "version": "4.2.2"
  },
  "latex_envs": {
   "LaTeX_envs_menu_present": true,
   "autoclose": false,
   "autocomplete": true,
   "bibliofile": "biblio.bib",
   "cite_by": "apalike",
   "current_citInitial": 1,
   "eqLabelWithNumbers": true,
   "eqNumInitial": 1,
   "hotkeys": {
    "equation": "Ctrl-E",
    "itemize": "Ctrl-I"
   },
   "labels_anchors": false,
   "latex_user_defs": false,
   "report_style_numbering": true,
   "user_envs_cfg": false
  },
  "toc": {
   "base_numbering": 1,
   "nav_menu": {
    "height": "11.6px",
    "width": "160px"
   },
   "number_sections": false,
   "sideBar": true,
   "skip_h1_title": true,
   "title_cell": "Table of Contents",
   "title_sidebar": "Contents",
   "toc_cell": true,
   "toc_position": {
    "height": "calc(100% - 180px)",
    "left": "10px",
    "top": "150px",
    "width": "209.2px"
   },
   "toc_section_display": true,
   "toc_window_display": true
  },
  "varInspector": {
   "cols": {
    "lenName": 16,
    "lenType": 16,
    "lenVar": 40
   },
   "kernels_config": {
    "python": {
     "delete_cmd_postfix": "",
     "delete_cmd_prefix": "del ",
     "library": "var_list.py",
     "varRefreshCmd": "print(var_dic_list())"
    },
    "r": {
     "delete_cmd_postfix": ") ",
     "delete_cmd_prefix": "rm(",
     "library": "var_list.r",
     "varRefreshCmd": "cat(var_dic_list()) "
    }
   },
   "types_to_exclude": [
    "module",
    "function",
    "builtin_function_or_method",
    "instance",
    "_Feature"
   ],
   "window_display": false
  }
 },
 "nbformat": 4,
 "nbformat_minor": 1
}
