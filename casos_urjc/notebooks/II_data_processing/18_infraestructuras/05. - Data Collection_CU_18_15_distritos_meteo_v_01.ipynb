{
 "cells": [
  {
   "cell_type": "markdown",
   "metadata": {
    "slideshow": {
     "slide_type": "slide"
    }
   },
   "source": [
    "<img src=\".\\images\\Logo.png\" width=150 align=\"left\" /> <img src=\".\\images\\Logo2.jpg\" width=450 align=\"right\" />"
   ]
  },
  {
   "attachments": {},
   "cell_type": "markdown",
   "metadata": {
    "slideshow": {
     "slide_type": "slide"
    }
   },
   "source": [
    "\n",
    "# <center><font color= #1e8449 > <b>CU18_Infraestructuras_eventos</font></center>"
   ]
  },
  {
   "cell_type": "markdown",
   "metadata": {
    "slideshow": {
     "slide_type": "slide"
    }
   },
   "source": [
    "<font color='steelblue'><b>Citizenlab Data Science Methodology > II - Data Processing Domain </font>\n",
    "***\n",
    "> # <font color='steelblue'> <b>05.- Data Collection</font>"
   ]
  },
  {
   "cell_type": "markdown",
   "metadata": {
    "slideshow": {
     "slide_type": "slide"
    }
   },
   "source": [
    "<font color='steelblue'>Data Collection is the process to obtain and generate (if required) necessary data to model the problem.</font>"
   ]
  },
  {
   "attachments": {},
   "cell_type": "markdown",
   "metadata": {},
   "source": [
    "### 15. Agregar datos meteorológicos por distritos y año\n",
    "\n",
    "* Estimar variables en distritos\n",
    "* Agrupar promedios anuales de los distritos en las variables meteorológicas\n",
    "* Eliminando variables que no se usarán en modelos\n",
    "\n",
    "\n",
    "\n",
    "\n",
    "\n"
   ]
  },
  {
   "cell_type": "markdown",
   "metadata": {
    "toc": true
   },
   "source": [
    "<h1>Table of Contents<span class=\"tocSkip\"></span></h1>\n",
    "<div class=\"toc\"><ul class=\"toc-item\"><li><span><a href=\"#Settings\" data-toc-modified-id=\"Settings-1\"><font color=\"green\">Settings</font></a></span></li><li><span><a href=\"#Data-Load\" data-toc-modified-id=\"Data-Load-2\"><font color=\"green\">Data Load</font></a></span></li><li><span><a href=\"#ETL-Processes\" data-toc-modified-id=\"ETL-Processes-3\">ETL Processes</a></span><ul class=\"toc-item\"><li><span><a href=\"#Import-data-from:-CSV,-Excel,-Tab,-JSON,-SQL,-and-Parquet-files\" data-toc-modified-id=\"Import-data-from:-CSV,-Excel,-Tab,-JSON,-SQL,-and-Parquet-files-3.1\">Import data from: CSV, Excel, Tab, JSON, SQL, and Parquet files</a></span></li></ul></li><li><span><a href=\"#Synthetic-Data-Generation\" data-toc-modified-id=\"Synthetic-Data-Generation-4\">Synthetic Data Generation</a></span></li><li><span><a href=\"#Fake-Data-Generation\" data-toc-modified-id=\"Fake-Data-Generation-5\">Fake Data Generation</a></span></li><li><span><a href=\"#Open-Data\" data-toc-modified-id=\"Open-Data-6\">Open Data</a></span></li><li><span><a href=\"#Data-Save\" data-toc-modified-id=\"Data-Save-7\"><font color=\"green\">Data Save</font></a></span></li><li><span><a href=\"#Main-Conclusions\" data-toc-modified-id=\"Main-Conclusions-8\"><font color=\" #2874a6 \">Main Conclusions</font></a></span></li><li><span><a href=\"#Main-Actions\" data-toc-modified-id=\"Main-Actions-9\"><font color=\" #2874a6 \">Main Actions</font></a></span><ul class=\"toc-item\"><li><ul class=\"toc-item\"><li><span><a href=\"#Acciones-done\" data-toc-modified-id=\"Acciones-done-9.0.1\"><font color=\" #2874a6 \">Acciones done</font></a></span></li><li><span><a href=\"#Acctions-to-perform\" data-toc-modified-id=\"Acctions-to-perform-9.0.2\"><font color=\" #2874a6 \">Acctions to perform</font></a></span></li></ul></li></ul></li></ul></div>"
   ]
  },
  {
   "cell_type": "markdown",
   "metadata": {
    "slideshow": {
     "slide_type": "slide"
    }
   },
   "source": [
    "## <font color='green'>Settings</font>"
   ]
  },
  {
   "attachments": {},
   "cell_type": "markdown",
   "metadata": {},
   "source": [
    "### Packages to use\n",
    "\n",
    "- {tcltk} para selección interactiva de archivos locales\n",
    "- {sf} para trabajar con georeferenciación\n",
    "- {gstat} para cálculos geoestadísticos\n",
    "- {readr} para leer y escribir archivos csv\n",
    "- {dplyr} para explorar datos\n",
    "- {stringr} para manipulación de cadenas de caracteres\n",
    "- {tidyr} para quitar perdidos\n"
   ]
  },
  {
   "cell_type": "code",
   "execution_count": 55,
   "metadata": {
    "ExecuteTime": {
     "end_time": "2021-12-03T15:23:33.762841Z",
     "start_time": "2021-12-03T15:23:08.580267Z"
    },
    "slideshow": {
     "slide_type": "subslide"
    },
    "vscode": {
     "languageId": "r"
    }
   },
   "outputs": [],
   "source": [
    "library(readr)\n",
    "library(dplyr)\n",
    "library(sf)\n",
    "library(gstat)\n",
    "library(stringr)\n",
    "library(tidyr)\n"
   ]
  },
  {
   "attachments": {},
   "cell_type": "markdown",
   "metadata": {},
   "source": [
    "### Paths"
   ]
  },
  {
   "cell_type": "code",
   "execution_count": 2,
   "metadata": {
    "vscode": {
     "languageId": "r"
    }
   },
   "outputs": [],
   "source": [
    "iPath <- \"Data/Input/\"\n",
    "oPath <- \"Data/Output/\""
   ]
  },
  {
   "attachments": {},
   "cell_type": "markdown",
   "metadata": {
    "slideshow": {
     "slide_type": "slide"
    }
   },
   "source": [
    "## <font color='green'>Data Load</font>\n",
    "\n",
    "If there are more than one input file, make as many sections as files to import."
   ]
  },
  {
   "attachments": {},
   "cell_type": "markdown",
   "metadata": {},
   "source": [
    "Instrucciones\n",
    "- Los ficheros de entrada del proceso están siempre en Data/Input/.   \n",
    "- Si hay más de un fichero de entrada, se crean tantos objetos iFile_xx y file_data_xx como ficheros de entrada (xx número correlativo con dos dígitos, rellenar con ceros a la izquierda)"
   ]
  },
  {
   "attachments": {},
   "cell_type": "markdown",
   "metadata": {},
   "source": [
    "1. Datos meteorológicos de estaciones"
   ]
  },
  {
   "attachments": {},
   "cell_type": "markdown",
   "metadata": {},
   "source": [
    "<font color='tomato'><b> OPCION A:</b> Seleccionar fichero en ventana para mayor comodidad</font> "
   ]
  },
  {
   "attachments": {},
   "cell_type": "markdown",
   "metadata": {},
   "source": [
    "Data load using the {tcltk} package. Ucomment the line if not using this option"
   ]
  },
  {
   "cell_type": "code",
   "execution_count": null,
   "metadata": {
    "vscode": {
     "languageId": "r"
    }
   },
   "outputs": [],
   "source": [
    "# file_data_01 <- tcltk::tk_choose.files(multi = FALSE)"
   ]
  },
  {
   "attachments": {},
   "cell_type": "markdown",
   "metadata": {},
   "source": [
    "<font color='tomato'><b> OPCION B:</b> Especificar el nombre de archivo</font>\n",
    "\n"
   ]
  },
  {
   "cell_type": "code",
   "execution_count": 10,
   "metadata": {
    "vscode": {
     "languageId": "r"
    }
   },
   "outputs": [
    {
     "name": "stdout",
     "output_type": "stream",
     "text": [
      "Se leer<U+00E1>n datos del archivo:  Data/Input/CU_18_05_14_aemet.csv"
     ]
    }
   ],
   "source": [
    "iFile_01 <- \"CU_18_05_14_aemet.csv\"\n",
    "file_data_01 <- paste0(iPath, iFile_01)\n",
    "\n",
    "if(file.exists(file_data)){\n",
    "    cat(\"Se leerán datos del archivo: \", file_data_01)\n",
    "} else{\n",
    "    warning(\"Cuidado: el archivo no existe.\")\n",
    "}\n"
   ]
  },
  {
   "attachments": {},
   "cell_type": "markdown",
   "metadata": {},
   "source": [
    "#### Data file to dataframe\n",
    "\n",
    "Usar la función adecuada según el formato de entrada (xlsx, csv, json, ...)"
   ]
  },
  {
   "cell_type": "code",
   "execution_count": 23,
   "metadata": {
    "vscode": {
     "languageId": "r"
    }
   },
   "outputs": [
    {
     "name": "stderr",
     "output_type": "stream",
     "text": [
      "\u001b[1mRows: \u001b[22m\u001b[34m4293\u001b[39m \u001b[1mColumns: \u001b[22m\u001b[34m22\u001b[39m\n",
      "\u001b[36m--\u001b[39m \u001b[1mColumn specification\u001b[22m \u001b[36m--------------------------------------------------------\u001b[39m\n",
      "\u001b[1mDelimiter:\u001b[22m \",\"\n",
      "\u001b[31mchr\u001b[39m  (10): indicativo, nombre, provincia, prec, horatmin, horatmax, dir, hor...\n",
      "\u001b[32mdbl\u001b[39m  (11): altitud, tmed, tmin, tmax, velmedia, racha, sol, presMax, presMin...\n",
      "\u001b[34mdate\u001b[39m  (1): fecha\n",
      "\n",
      "\u001b[36mi\u001b[39m Use `spec()` to retrieve the full column specification for this data.\n",
      "\u001b[36mi\u001b[39m Specify the column types or set `show_col_types = FALSE` to quiet this message.\n"
     ]
    }
   ],
   "source": [
    "data_01 <- read_csv(file_data_01)\n"
   ]
  },
  {
   "attachments": {},
   "cell_type": "markdown",
   "metadata": {},
   "source": [
    "Estructura de  los datos:"
   ]
  },
  {
   "cell_type": "code",
   "execution_count": 24,
   "metadata": {
    "vscode": {
     "languageId": "r"
    }
   },
   "outputs": [
    {
     "name": "stdout",
     "output_type": "stream",
     "text": [
      "Rows: 4,293\n",
      "Columns: 22\n",
      "$ fecha       \u001b[3m\u001b[90m<date>\u001b[39m\u001b[23m 2022-01-01, 2022-01-02, 2022-01-03, 2022-01-04, 2022-01-0~\n",
      "$ indicativo  \u001b[3m\u001b[90m<chr>\u001b[39m\u001b[23m \"2462\", \"2462\", \"2462\", \"2462\", \"2462\", \"2462\", \"2462\", \"2~\n",
      "$ nombre      \u001b[3m\u001b[90m<chr>\u001b[39m\u001b[23m \"PUERTO DE NAVACERRADA\", \"PUERTO DE NAVACERRADA\", \"PUERTO ~\n",
      "$ provincia   \u001b[3m\u001b[90m<chr>\u001b[39m\u001b[23m \"MADRID\", \"MADRID\", \"MADRID\", \"MADRID\", \"MADRID\", \"MADRID\"~\n",
      "$ altitud     \u001b[3m\u001b[90m<dbl>\u001b[39m\u001b[23m 1894, 1894, 1894, 1894, 1894, 1894, 1894, 1894, 1894, 1894~\n",
      "$ tmed        \u001b[3m\u001b[90m<dbl>\u001b[39m\u001b[23m 10.6, 9.8, 7.8, 1.6, -3.0, -5.6, -4.0, -2.8, 0.0, 1.6, 1.0~\n",
      "$ prec        \u001b[3m\u001b[90m<chr>\u001b[39m\u001b[23m \"0,0\", \"0,0\", \"0,0\", \"24,2\", \"13,9\", \"0,0\", \"0,2\", \"0,0\", ~\n",
      "$ tmin        \u001b[3m\u001b[90m<dbl>\u001b[39m\u001b[23m 7.4, 6.0, 4.2, -3.9, -4.2, -8.3, -6.6, -4.6, -3.0, 0.3, -0~\n",
      "$ horatmin    \u001b[3m\u001b[90m<chr>\u001b[39m\u001b[23m \"00:10\", \"20:40\", \"06:20\", \"23:59\", \"03:10\", \"06:40\", \"03:~\n",
      "$ tmax        \u001b[3m\u001b[90m<dbl>\u001b[39m\u001b[23m 13.7, 13.5, 11.3, 7.0, -1.8, -2.8, -1.3, -0.9, 3.0, 3.0, 2~\n",
      "$ horatmax    \u001b[3m\u001b[90m<chr>\u001b[39m\u001b[23m \"Varias\", \"13:30\", \"Varias\", \"01:40\", \"Varias\", \"00:00\", \"~\n",
      "$ dir         \u001b[3m\u001b[90m<chr>\u001b[39m\u001b[23m \"22\", \"22\", \"27\", \"33\", \"32\", \"35\", \"36\", \"33\", \"31\", \"33\"~\n",
      "$ velmedia    \u001b[3m\u001b[90m<dbl>\u001b[39m\u001b[23m 3.9, 2.5, 3.1, 7.8, 4.2, 5.6, 4.2, 5.6, 6.1, 6.1, 2.5, 1.7~\n",
      "$ racha       \u001b[3m\u001b[90m<dbl>\u001b[39m\u001b[23m 12.2, 11.1, 15.3, 23.6, 19.2, 10.8, 10.3, 16.1, 23.3, 16.7~\n",
      "$ horaracha   \u001b[3m\u001b[90m<chr>\u001b[39m\u001b[23m \"22:30\", \"00:00\", \"22:50\", \"18:30\", \"00:30\", \"20:00\", \"08:~\n",
      "$ sol         \u001b[3m\u001b[90m<dbl>\u001b[39m\u001b[23m 8.1, 6.0, 7.6, 3.3, 0.0, 6.3, 1.7, 3.9, 0.0, 0.0, 3.4, 8.1~\n",
      "$ presMax     \u001b[3m\u001b[90m<dbl>\u001b[39m\u001b[23m 823.3, 823.5, 821.5, 814.7, 809.5, 813.5, 819.3, 819.2, 81~\n",
      "$ horaPresMax \u001b[3m\u001b[90m<chr>\u001b[39m\u001b[23m \"11\", \"Varias\", \"00\", \"00\", \"11\", \"24\", \"24\", \"Varias\", \"2~\n",
      "$ presMin     \u001b[3m\u001b[90m<dbl>\u001b[39m\u001b[23m 821.8, 821.5, 814.7, 803.6, 806.4, 807.6, 813.4, 814.7, 81~\n",
      "$ horaPresMin \u001b[3m\u001b[90m<chr>\u001b[39m\u001b[23m \"06\", \"Varias\", \"24\", \"17\", \"Varias\", \"01\", \"01\", \"21\", \"1~\n",
      "$ X           \u001b[3m\u001b[90m<dbl>\u001b[39m\u001b[23m -4.010556, -4.010556, -4.010556, -4.010556, -4.010556, -4.~\n",
      "$ Y           \u001b[3m\u001b[90m<dbl>\u001b[39m\u001b[23m 40.79306, 40.79306, 40.79306, 40.79306, 40.79306, 40.79306~\n"
     ]
    }
   ],
   "source": [
    "glimpse(data_01)"
   ]
  },
  {
   "attachments": {},
   "cell_type": "markdown",
   "metadata": {},
   "source": [
    "Muestra de datos:"
   ]
  },
  {
   "cell_type": "code",
   "execution_count": 25,
   "metadata": {
    "vscode": {
     "languageId": "r"
    }
   },
   "outputs": [
    {
     "data": {
      "text/html": [
       "<table class=\"dataframe\">\n",
       "<caption>A spec_tbl_df: 5 x 22</caption>\n",
       "<thead>\n",
       "\t<tr><th scope=col>fecha</th><th scope=col>indicativo</th><th scope=col>nombre</th><th scope=col>provincia</th><th scope=col>altitud</th><th scope=col>tmed</th><th scope=col>prec</th><th scope=col>tmin</th><th scope=col>horatmin</th><th scope=col>tmax</th><th scope=col>...</th><th scope=col>velmedia</th><th scope=col>racha</th><th scope=col>horaracha</th><th scope=col>sol</th><th scope=col>presMax</th><th scope=col>horaPresMax</th><th scope=col>presMin</th><th scope=col>horaPresMin</th><th scope=col>X</th><th scope=col>Y</th></tr>\n",
       "\t<tr><th scope=col>&lt;date&gt;</th><th scope=col>&lt;chr&gt;</th><th scope=col>&lt;chr&gt;</th><th scope=col>&lt;chr&gt;</th><th scope=col>&lt;dbl&gt;</th><th scope=col>&lt;dbl&gt;</th><th scope=col>&lt;chr&gt;</th><th scope=col>&lt;dbl&gt;</th><th scope=col>&lt;chr&gt;</th><th scope=col>&lt;dbl&gt;</th><th scope=col>...</th><th scope=col>&lt;dbl&gt;</th><th scope=col>&lt;dbl&gt;</th><th scope=col>&lt;chr&gt;</th><th scope=col>&lt;dbl&gt;</th><th scope=col>&lt;dbl&gt;</th><th scope=col>&lt;chr&gt;</th><th scope=col>&lt;dbl&gt;</th><th scope=col>&lt;chr&gt;</th><th scope=col>&lt;dbl&gt;</th><th scope=col>&lt;dbl&gt;</th></tr>\n",
       "</thead>\n",
       "<tbody>\n",
       "\t<tr><td>2022-01-01</td><td>2462</td><td>PUERTO DE NAVACERRADA</td><td>MADRID</td><td>1894</td><td>10.6</td><td>0,0 </td><td> 7.4</td><td>00:10</td><td>13.7</td><td>...</td><td>3.9</td><td>12.2</td><td>22:30</td><td>8.1</td><td>823.3</td><td>11    </td><td>821.8</td><td>06    </td><td>-4.010556</td><td>40.79306</td></tr>\n",
       "\t<tr><td>2022-01-02</td><td>2462</td><td>PUERTO DE NAVACERRADA</td><td>MADRID</td><td>1894</td><td> 9.8</td><td>0,0 </td><td> 6.0</td><td>20:40</td><td>13.5</td><td>...</td><td>2.5</td><td>11.1</td><td>00:00</td><td>6.0</td><td>823.5</td><td>Varias</td><td>821.5</td><td>Varias</td><td>-4.010556</td><td>40.79306</td></tr>\n",
       "\t<tr><td>2022-01-03</td><td>2462</td><td>PUERTO DE NAVACERRADA</td><td>MADRID</td><td>1894</td><td> 7.8</td><td>0,0 </td><td> 4.2</td><td>06:20</td><td>11.3</td><td>...</td><td>3.1</td><td>15.3</td><td>22:50</td><td>7.6</td><td>821.5</td><td>00    </td><td>814.7</td><td>24    </td><td>-4.010556</td><td>40.79306</td></tr>\n",
       "\t<tr><td>2022-01-04</td><td>2462</td><td>PUERTO DE NAVACERRADA</td><td>MADRID</td><td>1894</td><td> 1.6</td><td>24,2</td><td>-3.9</td><td>23:59</td><td> 7.0</td><td>...</td><td>7.8</td><td>23.6</td><td>18:30</td><td>3.3</td><td>814.7</td><td>00    </td><td>803.6</td><td>17    </td><td>-4.010556</td><td>40.79306</td></tr>\n",
       "\t<tr><td>2022-01-05</td><td>2462</td><td>PUERTO DE NAVACERRADA</td><td>MADRID</td><td>1894</td><td>-3.0</td><td>13,9</td><td>-4.2</td><td>03:10</td><td>-1.8</td><td>...</td><td>4.2</td><td>19.2</td><td>00:30</td><td>0.0</td><td>809.5</td><td>11    </td><td>806.4</td><td>Varias</td><td>-4.010556</td><td>40.79306</td></tr>\n",
       "</tbody>\n",
       "</table>\n"
      ],
      "text/latex": [
       "A spec\\_tbl\\_df: 5 x 22\n",
       "\\begin{tabular}{lllllllllllllllllllll}\n",
       " fecha & indicativo & nombre & provincia & altitud & tmed & prec & tmin & horatmin & tmax & ... & velmedia & racha & horaracha & sol & presMax & horaPresMax & presMin & horaPresMin & X & Y\\\\\n",
       " <date> & <chr> & <chr> & <chr> & <dbl> & <dbl> & <chr> & <dbl> & <chr> & <dbl> & ... & <dbl> & <dbl> & <chr> & <dbl> & <dbl> & <chr> & <dbl> & <chr> & <dbl> & <dbl>\\\\\n",
       "\\hline\n",
       "\t 2022-01-01 & 2462 & PUERTO DE NAVACERRADA & MADRID & 1894 & 10.6 & 0,0  &  7.4 & 00:10 & 13.7 & ... & 3.9 & 12.2 & 22:30 & 8.1 & 823.3 & 11     & 821.8 & 06     & -4.010556 & 40.79306\\\\\n",
       "\t 2022-01-02 & 2462 & PUERTO DE NAVACERRADA & MADRID & 1894 &  9.8 & 0,0  &  6.0 & 20:40 & 13.5 & ... & 2.5 & 11.1 & 00:00 & 6.0 & 823.5 & Varias & 821.5 & Varias & -4.010556 & 40.79306\\\\\n",
       "\t 2022-01-03 & 2462 & PUERTO DE NAVACERRADA & MADRID & 1894 &  7.8 & 0,0  &  4.2 & 06:20 & 11.3 & ... & 3.1 & 15.3 & 22:50 & 7.6 & 821.5 & 00     & 814.7 & 24     & -4.010556 & 40.79306\\\\\n",
       "\t 2022-01-04 & 2462 & PUERTO DE NAVACERRADA & MADRID & 1894 &  1.6 & 24,2 & -3.9 & 23:59 &  7.0 & ... & 7.8 & 23.6 & 18:30 & 3.3 & 814.7 & 00     & 803.6 & 17     & -4.010556 & 40.79306\\\\\n",
       "\t 2022-01-05 & 2462 & PUERTO DE NAVACERRADA & MADRID & 1894 & -3.0 & 13,9 & -4.2 & 03:10 & -1.8 & ... & 4.2 & 19.2 & 00:30 & 0.0 & 809.5 & 11     & 806.4 & Varias & -4.010556 & 40.79306\\\\\n",
       "\\end{tabular}\n"
      ],
      "text/markdown": [
       "\n",
       "A spec_tbl_df: 5 x 22\n",
       "\n",
       "| fecha &lt;date&gt; | indicativo &lt;chr&gt; | nombre &lt;chr&gt; | provincia &lt;chr&gt; | altitud &lt;dbl&gt; | tmed &lt;dbl&gt; | prec &lt;chr&gt; | tmin &lt;dbl&gt; | horatmin &lt;chr&gt; | tmax &lt;dbl&gt; | ... ... | velmedia &lt;dbl&gt; | racha &lt;dbl&gt; | horaracha &lt;chr&gt; | sol &lt;dbl&gt; | presMax &lt;dbl&gt; | horaPresMax &lt;chr&gt; | presMin &lt;dbl&gt; | horaPresMin &lt;chr&gt; | X &lt;dbl&gt; | Y &lt;dbl&gt; |\n",
       "|---|---|---|---|---|---|---|---|---|---|---|---|---|---|---|---|---|---|---|---|---|\n",
       "| 2022-01-01 | 2462 | PUERTO DE NAVACERRADA | MADRID | 1894 | 10.6 | 0,0  |  7.4 | 00:10 | 13.7 | ... | 3.9 | 12.2 | 22:30 | 8.1 | 823.3 | 11     | 821.8 | 06     | -4.010556 | 40.79306 |\n",
       "| 2022-01-02 | 2462 | PUERTO DE NAVACERRADA | MADRID | 1894 |  9.8 | 0,0  |  6.0 | 20:40 | 13.5 | ... | 2.5 | 11.1 | 00:00 | 6.0 | 823.5 | Varias | 821.5 | Varias | -4.010556 | 40.79306 |\n",
       "| 2022-01-03 | 2462 | PUERTO DE NAVACERRADA | MADRID | 1894 |  7.8 | 0,0  |  4.2 | 06:20 | 11.3 | ... | 3.1 | 15.3 | 22:50 | 7.6 | 821.5 | 00     | 814.7 | 24     | -4.010556 | 40.79306 |\n",
       "| 2022-01-04 | 2462 | PUERTO DE NAVACERRADA | MADRID | 1894 |  1.6 | 24,2 | -3.9 | 23:59 |  7.0 | ... | 7.8 | 23.6 | 18:30 | 3.3 | 814.7 | 00     | 803.6 | 17     | -4.010556 | 40.79306 |\n",
       "| 2022-01-05 | 2462 | PUERTO DE NAVACERRADA | MADRID | 1894 | -3.0 | 13,9 | -4.2 | 03:10 | -1.8 | ... | 4.2 | 19.2 | 00:30 | 0.0 | 809.5 | 11     | 806.4 | Varias | -4.010556 | 40.79306 |\n",
       "\n"
      ],
      "text/plain": [
       "  fecha      indicativo nombre                provincia altitud tmed prec tmin\n",
       "1 2022-01-01 2462       PUERTO DE NAVACERRADA MADRID    1894    10.6 0,0   7.4\n",
       "2 2022-01-02 2462       PUERTO DE NAVACERRADA MADRID    1894     9.8 0,0   6.0\n",
       "3 2022-01-03 2462       PUERTO DE NAVACERRADA MADRID    1894     7.8 0,0   4.2\n",
       "4 2022-01-04 2462       PUERTO DE NAVACERRADA MADRID    1894     1.6 24,2 -3.9\n",
       "5 2022-01-05 2462       PUERTO DE NAVACERRADA MADRID    1894    -3.0 13,9 -4.2\n",
       "  horatmin tmax ... velmedia racha horaracha sol presMax horaPresMax presMin\n",
       "1 00:10    13.7 ... 3.9      12.2  22:30     8.1 823.3   11          821.8  \n",
       "2 20:40    13.5 ... 2.5      11.1  00:00     6.0 823.5   Varias      821.5  \n",
       "3 06:20    11.3 ... 3.1      15.3  22:50     7.6 821.5   00          814.7  \n",
       "4 23:59     7.0 ... 7.8      23.6  18:30     3.3 814.7   00          803.6  \n",
       "5 03:10    -1.8 ... 4.2      19.2  00:30     0.0 809.5   11          806.4  \n",
       "  horaPresMin X         Y       \n",
       "1 06          -4.010556 40.79306\n",
       "2 Varias      -4.010556 40.79306\n",
       "3 24          -4.010556 40.79306\n",
       "4 17          -4.010556 40.79306\n",
       "5 Varias      -4.010556 40.79306"
      ]
     },
     "metadata": {},
     "output_type": "display_data"
    }
   ],
   "source": [
    "slice_head(data_01, n = 5)"
   ]
  },
  {
   "attachments": {},
   "cell_type": "markdown",
   "metadata": {},
   "source": [
    "2. Datos de contornos distritos"
   ]
  },
  {
   "attachments": {},
   "cell_type": "markdown",
   "metadata": {},
   "source": [
    "<font color='tomato'><b> OPCION A:</b> Seleccionar fichero en ventana para mayor comodidad</font> "
   ]
  },
  {
   "attachments": {},
   "cell_type": "markdown",
   "metadata": {},
   "source": [
    "Data load using the {tcltk} package. Ucomment the line if not using this option"
   ]
  },
  {
   "cell_type": "code",
   "execution_count": null,
   "metadata": {
    "vscode": {
     "languageId": "r"
    }
   },
   "outputs": [],
   "source": [
    "# file_data_02 <- tcltk::tk_choose.files(multi = FALSE)"
   ]
  },
  {
   "attachments": {},
   "cell_type": "markdown",
   "metadata": {},
   "source": [
    "<font color='tomato'><b> OPCION B:</b> Especificar el nombre de archivo</font>\n",
    "\n"
   ]
  },
  {
   "cell_type": "code",
   "execution_count": 17,
   "metadata": {
    "vscode": {
     "languageId": "r"
    }
   },
   "outputs": [
    {
     "name": "stdout",
     "output_type": "stream",
     "text": [
      "Se leer<U+00E1>n datos del archivo:  Data/Input/CU_18_05_03_distritos_geo.json"
     ]
    }
   ],
   "source": [
    "iFile_02 <- \"CU_18_05_03_distritos_geo.json\"\n",
    "file_data_02 <- paste0(iPath, iFile_02)\n",
    "\n",
    "if(file.exists(file_data)){\n",
    "    cat(\"Se leerán datos del archivo: \", file_data_02)\n",
    "} else{\n",
    "    warning(\"Cuidado: el archivo no existe.\")\n",
    "}\n"
   ]
  },
  {
   "attachments": {},
   "cell_type": "markdown",
   "metadata": {},
   "source": [
    "#### Data file to dataframe\n",
    "\n",
    "Usar la función adecuada según el formato de entrada (xlsx, csv, json, ...)"
   ]
  },
  {
   "cell_type": "code",
   "execution_count": 18,
   "metadata": {
    "vscode": {
     "languageId": "r"
    }
   },
   "outputs": [
    {
     "name": "stdout",
     "output_type": "stream",
     "text": [
      "Reading layer `CU_18_05_03_distritos_geo' from data source \n",
      "  `/Users/emilio.lcano/academico/gh_repos/__transferencia/citizenlab/CitizenLab-Research-and-Development/casos_urjc/notebooks/II_data_processing/18_infraestructuras/Data/Input/CU_18_05_03_distritos_geo.json' \n",
      "  using driver `GeoJSON'\n",
      "Simple feature collection with 247 features and 2 fields\n",
      "Geometry type: GEOMETRY\n",
      "Dimension:     XY\n",
      "Bounding box:  xmin: -4.579006 ymin: 39.8848 xmax: -3.052983 ymax: 41.16584\n",
      "Geodetic CRS:  WGS 84\n"
     ]
    }
   ],
   "source": [
    "data_02 <- st_read(file_data_02)\n"
   ]
  },
  {
   "attachments": {},
   "cell_type": "markdown",
   "metadata": {},
   "source": [
    "Estructura de  los datos:"
   ]
  },
  {
   "cell_type": "code",
   "execution_count": 19,
   "metadata": {
    "vscode": {
     "languageId": "r"
    }
   },
   "outputs": [
    {
     "name": "stdout",
     "output_type": "stream",
     "text": [
      "Rows: 247\n",
      "Columns: 3\n",
      "$ CMUN     \u001b[3m\u001b[90m<chr>\u001b[39m\u001b[23m \"001\", \"002\", \"003\", \"004\", \"005\", \"005\", \"005\", \"005\", \"005\"~\n",
      "$ CDIS     \u001b[3m\u001b[90m<chr>\u001b[39m\u001b[23m \"01\", \"01\", \"01\", \"01\", \"01\", \"02\", \"03\", \"04\", \"05\", \"01\", \"~\n",
      "$ geometry \u001b[3m\u001b[90m<POLYGON [arc_degree]>\u001b[39m\u001b[23m POLYGON ((-3.64502 41.12129..., POLYGON ((-3~\n"
     ]
    }
   ],
   "source": [
    "glimpse(data_02)"
   ]
  },
  {
   "attachments": {},
   "cell_type": "markdown",
   "metadata": {},
   "source": [
    "Muestra de datos:"
   ]
  },
  {
   "cell_type": "code",
   "execution_count": 20,
   "metadata": {
    "vscode": {
     "languageId": "r"
    }
   },
   "outputs": [
    {
     "data": {
      "text/html": [
       "<table class=\"dataframe\">\n",
       "<caption>A tibble: 5 x 3</caption>\n",
       "<thead>\n",
       "\t<tr><th scope=col>CMUN</th><th scope=col>CDIS</th><th scope=col>geometry</th></tr>\n",
       "\t<tr><th scope=col>&lt;chr&gt;</th><th scope=col>&lt;chr&gt;</th><th scope=col>&lt;POLYGON [arc_degree]&gt;</th></tr>\n",
       "</thead>\n",
       "<tbody>\n",
       "\t<tr><td>001</td><td>01</td><td>POLYGON ((-3.64502 41.12129...</td></tr>\n",
       "\t<tr><td>002</td><td>01</td><td>POLYGON ((-3.503032 40.526,...</td></tr>\n",
       "\t<tr><td>003</td><td>01</td><td>POLYGON ((-3.808664 40.8921...</td></tr>\n",
       "\t<tr><td>004</td><td>01</td><td>POLYGON ((-4.00197 40.25642...</td></tr>\n",
       "\t<tr><td>005</td><td>01</td><td>POLYGON ((-3.361691 40.4762...</td></tr>\n",
       "</tbody>\n",
       "</table>\n"
      ],
      "text/latex": [
       "A tibble: 5 x 3\n",
       "\\begin{tabular}{lll}\n",
       " CMUN & CDIS & geometry\\\\\n",
       " <chr> & <chr> & <POLYGON {[}arc\\_degree{]}>\\\\\n",
       "\\hline\n",
       "\t 001 & 01 & POLYGON ((-3.64502 41.12129...\\\\\n",
       "\t 002 & 01 & POLYGON ((-3.503032 40.526,...\\\\\n",
       "\t 003 & 01 & POLYGON ((-3.808664 40.8921...\\\\\n",
       "\t 004 & 01 & POLYGON ((-4.00197 40.25642...\\\\\n",
       "\t 005 & 01 & POLYGON ((-3.361691 40.4762...\\\\\n",
       "\\end{tabular}\n"
      ],
      "text/markdown": [
       "\n",
       "A tibble: 5 x 3\n",
       "\n",
       "| CMUN &lt;chr&gt; | CDIS &lt;chr&gt; | geometry &lt;POLYGON [arc_degree]&gt; |\n",
       "|---|---|---|\n",
       "| 001 | 01 | POLYGON ((-3.64502 41.12129... |\n",
       "| 002 | 01 | POLYGON ((-3.503032 40.526,... |\n",
       "| 003 | 01 | POLYGON ((-3.808664 40.8921... |\n",
       "| 004 | 01 | POLYGON ((-4.00197 40.25642... |\n",
       "| 005 | 01 | POLYGON ((-3.361691 40.4762... |\n",
       "\n"
      ],
      "text/plain": [
       "  CMUN CDIS geometry                      \n",
       "1 001  01   POLYGON ((-3.64502 41.12129...\n",
       "2 002  01   POLYGON ((-3.503032 40.526,...\n",
       "3 003  01   POLYGON ((-3.808664 40.8921...\n",
       "4 004  01   POLYGON ((-4.00197 40.25642...\n",
       "5 005  01   POLYGON ((-3.361691 40.4762..."
      ]
     },
     "metadata": {},
     "output_type": "display_data"
    }
   ],
   "source": [
    "data_02 |> tibble() |> slice_head(n = 5)"
   ]
  },
  {
   "cell_type": "markdown",
   "metadata": {
    "slideshow": {
     "slide_type": "slide"
    }
   },
   "source": [
    "## ETL Processes"
   ]
  },
  {
   "attachments": {},
   "cell_type": "markdown",
   "metadata": {
    "slideshow": {
     "slide_type": "slide"
    }
   },
   "source": [
    "### Import data from: CSV, Excel, Tab, JSON, SQL, and Parquet files\n",
    "\n",
    "Se han importado en el apartado Data Load anterior:\n",
    "\n",
    "* Datos diarios meteorológicos por estación\n",
    "* Contornos de distritos censales"
   ]
  },
  {
   "attachments": {},
   "cell_type": "markdown",
   "metadata": {},
   "source": [
    "Incluir apartados si procede para: Extracción de datos (select, filter), Transformación de datos, (mutate, joins, ...). Si es necesario tratar datos perdidos, indicarlo también en NB 09.2"
   ]
  },
  {
   "attachments": {},
   "cell_type": "markdown",
   "metadata": {},
   "source": [
    "Si no aplica: Estos datos no requieren tareas de este tipo."
   ]
  },
  {
   "attachments": {},
   "cell_type": "markdown",
   "metadata": {},
   "source": [
    "#### Data transform\n",
    "\n",
    "* Transformar precipitación a numérica\n",
    "* Ip es inapreciable, se sustituye por 0\n",
    "\n",
    "* Corregir geometrías distritos y eliminar vacíos"
   ]
  },
  {
   "cell_type": "code",
   "execution_count": 37,
   "metadata": {
    "vscode": {
     "languageId": "r"
    }
   },
   "outputs": [],
   "source": [
    "tdata_01 <- data_01 |>\n",
    "    mutate(prec = str_replace(prec, \"Ip\", \"0\"),\n",
    "        prec = as.numeric(str_replace_all(prec, \",\", \".\")))"
   ]
  },
  {
   "cell_type": "code",
   "execution_count": null,
   "metadata": {
    "vscode": {
     "languageId": "r"
    }
   },
   "outputs": [],
   "source": [
    "tdata_02 <- data_02 |> st_make_valid()\n",
    "tdata_02 <- tdata_02 |> filter(!st_is_empty(tdata_02))"
   ]
  },
  {
   "attachments": {},
   "cell_type": "markdown",
   "metadata": {},
   "source": [
    "#### Data extract\n",
    "\n",
    "* Seleccionar variables temperatura, precipitaciones y presión\n",
    "* Agrupar por año"
   ]
  },
  {
   "cell_type": "code",
   "execution_count": 48,
   "metadata": {
    "vscode": {
     "languageId": "r"
    }
   },
   "outputs": [
    {
     "name": "stderr",
     "output_type": "stream",
     "text": [
      "\u001b[1m\u001b[22m`summarise()` has grouped output by 'nombre', 'X'. You can override using the\n",
      "`.groups` argument.\n"
     ]
    }
   ],
   "source": [
    "tdata_01_grouped <- tdata_01 |>\n",
    "    select(nombre, tmed, prec, velmedia, presMax, X, Y) |>\n",
    "    group_by(nombre, X, Y) |>\n",
    "    summarise(across(everything(), ~mean(.x, na.rm = TRUE)))"
   ]
  },
  {
   "cell_type": "code",
   "execution_count": 49,
   "metadata": {
    "vscode": {
     "languageId": "r"
    }
   },
   "outputs": [
    {
     "name": "stdout",
     "output_type": "stream",
     "text": [
      "Rows: 13\n",
      "Columns: 7\n",
      "Groups: nombre, X [13]\n",
      "$ nombre   \u001b[3m\u001b[90m<chr>\u001b[39m\u001b[23m \"ARANJUEZ\", \"BUITRAGO DEL LOZOYA\", \"COLMENAR VIEJO\", \"GETAFE\"~\n",
      "$ X        \u001b[3m\u001b[90m<dbl>\u001b[39m\u001b[23m -3.546111, -3.613611, -3.765000, -3.722222, -3.555556, -3.724~\n",
      "$ Y        \u001b[3m\u001b[90m<dbl>\u001b[39m\u001b[23m 40.06722, 41.00694, 40.69611, 40.29944, 40.46667, 40.45167, 4~\n",
      "$ tmed     \u001b[3m\u001b[90m<dbl>\u001b[39m\u001b[23m 16.552089, 14.076370, 15.084110, 17.388219, 16.394795, NaN, 1~\n",
      "$ prec     \u001b[3m\u001b[90m<dbl>\u001b[39m\u001b[23m 0.9991597, 0.9513889, 1.3838356, 1.0742466, 1.0624658, 0.1272~\n",
      "$ velmedia \u001b[3m\u001b[90m<dbl>\u001b[39m\u001b[23m 1.823416, 1.583904, 2.436712, 3.276986, 2.982692, 1.018182, 2~\n",
      "$ presMax  \u001b[3m\u001b[90m<dbl>\u001b[39m\u001b[23m NaN, 907.2604, 906.5734, 948.9011, 953.0038, NaN, 941.1178, 9~\n"
     ]
    }
   ],
   "source": [
    "glimpse(tdata_01_grouped)"
   ]
  },
  {
   "cell_type": "code",
   "execution_count": 50,
   "metadata": {
    "vscode": {
     "languageId": "r"
    }
   },
   "outputs": [
    {
     "data": {
      "text/html": [
       "<table class=\"dataframe\">\n",
       "<caption>A grouped_df: 13 x 7</caption>\n",
       "<thead>\n",
       "\t<tr><th scope=col>nombre</th><th scope=col>X</th><th scope=col>Y</th><th scope=col>tmed</th><th scope=col>prec</th><th scope=col>velmedia</th><th scope=col>presMax</th></tr>\n",
       "\t<tr><th scope=col>&lt;chr&gt;</th><th scope=col>&lt;dbl&gt;</th><th scope=col>&lt;dbl&gt;</th><th scope=col>&lt;dbl&gt;</th><th scope=col>&lt;dbl&gt;</th><th scope=col>&lt;dbl&gt;</th><th scope=col>&lt;dbl&gt;</th></tr>\n",
       "</thead>\n",
       "<tbody>\n",
       "\t<tr><td>ARANJUEZ                    </td><td>-3.546111</td><td>40.06722</td><td>16.552089</td><td>0.9991597</td><td>1.823416</td><td>     NaN</td></tr>\n",
       "\t<tr><td>BUITRAGO DEL LOZOYA         </td><td>-3.613611</td><td>41.00694</td><td>14.076370</td><td>0.9513889</td><td>1.583904</td><td>907.2604</td></tr>\n",
       "\t<tr><td>COLMENAR VIEJO              </td><td>-3.765000</td><td>40.69611</td><td>15.084110</td><td>1.3838356</td><td>2.436712</td><td>906.5734</td></tr>\n",
       "\t<tr><td>GETAFE                      </td><td>-3.722222</td><td>40.29944</td><td>17.388219</td><td>1.0742466</td><td>3.276986</td><td>948.9011</td></tr>\n",
       "\t<tr><td>MADRID AEROPUERTO           </td><td>-3.555556</td><td>40.46667</td><td>16.394795</td><td>1.0624658</td><td>2.982692</td><td>953.0038</td></tr>\n",
       "\t<tr><td>MADRID, CIUDAD UNIVERSITARIA</td><td>-3.724167</td><td>40.45167</td><td>      NaN</td><td>0.1272727</td><td>1.018182</td><td>     NaN</td></tr>\n",
       "\t<tr><td>MADRID, CUATRO VIENTOS      </td><td>-3.786111</td><td>40.37556</td><td>17.074521</td><td>1.2260274</td><td>2.823288</td><td>941.1178</td></tr>\n",
       "\t<tr><td>MADRID, RETIRO              </td><td>-3.678056</td><td>40.41194</td><td>17.066197</td><td>1.2483333</td><td>2.054104</td><td>943.1645</td></tr>\n",
       "\t<tr><td>PUERTO ALTO DEL LE&lt;U+00D3&gt;N </td><td>-4.141944</td><td>40.70639</td><td>12.927711</td><td>1.9791908</td><td>4.246286</td><td>851.4212</td></tr>\n",
       "\t<tr><td>PUERTO DE NAVACERRADA       </td><td>-4.010556</td><td>40.79306</td><td> 9.144384</td><td>3.5506849</td><td>3.853151</td><td>815.7877</td></tr>\n",
       "\t<tr><td>ROBLEDO DE CHAVELA          </td><td>-4.250000</td><td>40.42778</td><td>15.704816</td><td>1.4438127</td><td>1.957143</td><td>932.4023</td></tr>\n",
       "\t<tr><td>SOMOSIERRA                  </td><td>-3.580278</td><td>41.13556</td><td>11.170994</td><td>2.4716253</td><td>1.994795</td><td>     NaN</td></tr>\n",
       "\t<tr><td><span style=white-space:pre-wrap>TORREJ&lt;U+00D3&gt;N DE ARDOZ    </span></td><td>-3.443611</td><td>40.48861</td><td>15.935537</td><td>0.9164384</td><td>3.189041</td><td>948.7649</td></tr>\n",
       "</tbody>\n",
       "</table>\n"
      ],
      "text/latex": [
       "A grouped\\_df: 13 x 7\n",
       "\\begin{tabular}{lllllll}\n",
       " nombre & X & Y & tmed & prec & velmedia & presMax\\\\\n",
       " <chr> & <dbl> & <dbl> & <dbl> & <dbl> & <dbl> & <dbl>\\\\\n",
       "\\hline\n",
       "\t ARANJUEZ                     & -3.546111 & 40.06722 & 16.552089 & 0.9991597 & 1.823416 &      NaN\\\\\n",
       "\t BUITRAGO DEL LOZOYA          & -3.613611 & 41.00694 & 14.076370 & 0.9513889 & 1.583904 & 907.2604\\\\\n",
       "\t COLMENAR VIEJO               & -3.765000 & 40.69611 & 15.084110 & 1.3838356 & 2.436712 & 906.5734\\\\\n",
       "\t GETAFE                       & -3.722222 & 40.29944 & 17.388219 & 1.0742466 & 3.276986 & 948.9011\\\\\n",
       "\t MADRID AEROPUERTO            & -3.555556 & 40.46667 & 16.394795 & 1.0624658 & 2.982692 & 953.0038\\\\\n",
       "\t MADRID, CIUDAD UNIVERSITARIA & -3.724167 & 40.45167 &       NaN & 0.1272727 & 1.018182 &      NaN\\\\\n",
       "\t MADRID, CUATRO VIENTOS       & -3.786111 & 40.37556 & 17.074521 & 1.2260274 & 2.823288 & 941.1178\\\\\n",
       "\t MADRID, RETIRO               & -3.678056 & 40.41194 & 17.066197 & 1.2483333 & 2.054104 & 943.1645\\\\\n",
       "\t PUERTO ALTO DEL LE<U+00D3>N  & -4.141944 & 40.70639 & 12.927711 & 1.9791908 & 4.246286 & 851.4212\\\\\n",
       "\t PUERTO DE NAVACERRADA        & -4.010556 & 40.79306 &  9.144384 & 3.5506849 & 3.853151 & 815.7877\\\\\n",
       "\t ROBLEDO DE CHAVELA           & -4.250000 & 40.42778 & 15.704816 & 1.4438127 & 1.957143 & 932.4023\\\\\n",
       "\t SOMOSIERRA                   & -3.580278 & 41.13556 & 11.170994 & 2.4716253 & 1.994795 &      NaN\\\\\n",
       "\t TORREJ<U+00D3>N DE ARDOZ     & -3.443611 & 40.48861 & 15.935537 & 0.9164384 & 3.189041 & 948.7649\\\\\n",
       "\\end{tabular}\n"
      ],
      "text/markdown": [
       "\n",
       "A grouped_df: 13 x 7\n",
       "\n",
       "| nombre &lt;chr&gt; | X &lt;dbl&gt; | Y &lt;dbl&gt; | tmed &lt;dbl&gt; | prec &lt;dbl&gt; | velmedia &lt;dbl&gt; | presMax &lt;dbl&gt; |\n",
       "|---|---|---|---|---|---|---|\n",
       "| ARANJUEZ                     | -3.546111 | 40.06722 | 16.552089 | 0.9991597 | 1.823416 |      NaN |\n",
       "| BUITRAGO DEL LOZOYA          | -3.613611 | 41.00694 | 14.076370 | 0.9513889 | 1.583904 | 907.2604 |\n",
       "| COLMENAR VIEJO               | -3.765000 | 40.69611 | 15.084110 | 1.3838356 | 2.436712 | 906.5734 |\n",
       "| GETAFE                       | -3.722222 | 40.29944 | 17.388219 | 1.0742466 | 3.276986 | 948.9011 |\n",
       "| MADRID AEROPUERTO            | -3.555556 | 40.46667 | 16.394795 | 1.0624658 | 2.982692 | 953.0038 |\n",
       "| MADRID, CIUDAD UNIVERSITARIA | -3.724167 | 40.45167 |       NaN | 0.1272727 | 1.018182 |      NaN |\n",
       "| MADRID, CUATRO VIENTOS       | -3.786111 | 40.37556 | 17.074521 | 1.2260274 | 2.823288 | 941.1178 |\n",
       "| MADRID, RETIRO               | -3.678056 | 40.41194 | 17.066197 | 1.2483333 | 2.054104 | 943.1645 |\n",
       "| PUERTO ALTO DEL LE&lt;U+00D3&gt;N  | -4.141944 | 40.70639 | 12.927711 | 1.9791908 | 4.246286 | 851.4212 |\n",
       "| PUERTO DE NAVACERRADA        | -4.010556 | 40.79306 |  9.144384 | 3.5506849 | 3.853151 | 815.7877 |\n",
       "| ROBLEDO DE CHAVELA           | -4.250000 | 40.42778 | 15.704816 | 1.4438127 | 1.957143 | 932.4023 |\n",
       "| SOMOSIERRA                   | -3.580278 | 41.13556 | 11.170994 | 2.4716253 | 1.994795 |      NaN |\n",
       "| TORREJ&lt;U+00D3&gt;N DE ARDOZ     | -3.443611 | 40.48861 | 15.935537 | 0.9164384 | 3.189041 | 948.7649 |\n",
       "\n"
      ],
      "text/plain": [
       "   nombre                       X         Y        tmed      prec      velmedia\n",
       "1  ARANJUEZ                     -3.546111 40.06722 16.552089 0.9991597 1.823416\n",
       "2  BUITRAGO DEL LOZOYA          -3.613611 41.00694 14.076370 0.9513889 1.583904\n",
       "3  COLMENAR VIEJO               -3.765000 40.69611 15.084110 1.3838356 2.436712\n",
       "4  GETAFE                       -3.722222 40.29944 17.388219 1.0742466 3.276986\n",
       "5  MADRID AEROPUERTO            -3.555556 40.46667 16.394795 1.0624658 2.982692\n",
       "6  MADRID, CIUDAD UNIVERSITARIA -3.724167 40.45167       NaN 0.1272727 1.018182\n",
       "7  MADRID, CUATRO VIENTOS       -3.786111 40.37556 17.074521 1.2260274 2.823288\n",
       "8  MADRID, RETIRO               -3.678056 40.41194 17.066197 1.2483333 2.054104\n",
       "9  PUERTO ALTO DEL LE<U+00D3>N  -4.141944 40.70639 12.927711 1.9791908 4.246286\n",
       "10 PUERTO DE NAVACERRADA        -4.010556 40.79306  9.144384 3.5506849 3.853151\n",
       "11 ROBLEDO DE CHAVELA           -4.250000 40.42778 15.704816 1.4438127 1.957143\n",
       "12 SOMOSIERRA                   -3.580278 41.13556 11.170994 2.4716253 1.994795\n",
       "13 TORREJ<U+00D3>N DE ARDOZ     -3.443611 40.48861 15.935537 0.9164384 3.189041\n",
       "   presMax \n",
       "1       NaN\n",
       "2  907.2604\n",
       "3  906.5734\n",
       "4  948.9011\n",
       "5  953.0038\n",
       "6       NaN\n",
       "7  941.1178\n",
       "8  943.1645\n",
       "9  851.4212\n",
       "10 815.7877\n",
       "11 932.4023\n",
       "12      NaN\n",
       "13 948.7649"
      ]
     },
     "metadata": {},
     "output_type": "display_data"
    }
   ],
   "source": [
    "tdata_01_grouped"
   ]
  },
  {
   "attachments": {},
   "cell_type": "markdown",
   "metadata": {},
   "source": [
    "#### Data transform\n",
    "\n",
    "* Convertir a objeto `sf` para poder hacer las estimaciones"
   ]
  },
  {
   "cell_type": "code",
   "execution_count": 61,
   "metadata": {
    "vscode": {
     "languageId": "r"
    }
   },
   "outputs": [],
   "source": [
    "tdata_01_grouped_sf <- st_as_sf(tdata_01_grouped, coords = c(\"X\", \"Y\"), crs = 4326)"
   ]
  },
  {
   "attachments": {},
   "cell_type": "markdown",
   "metadata": {},
   "source": [
    "#### Data transform\n",
    "\n",
    "* Estimar valores medios de cada distrito con los datos puntuales\n",
    "* Unir a la tabla"
   ]
  },
  {
   "cell_type": "code",
   "execution_count": 84,
   "metadata": {
    "vscode": {
     "languageId": "r"
    }
   },
   "outputs": [
    {
     "name": "stdout",
     "output_type": "stream",
     "text": [
      "[inverse distance weighted interpolation]\n",
      "[inverse distance weighted interpolation]\n",
      "[inverse distance weighted interpolation]\n",
      "[inverse distance weighted interpolation]\n"
     ]
    }
   ],
   "source": [
    "\n",
    "\n",
    "tmed <- idw(tmed ~ 1, \n",
    "          locations = tdata_01_grouped_sf |> drop_na(tmed), \n",
    "          newdata = tdata_02)\n",
    "\n",
    "prec <- idw(prec ~ 1, \n",
    "          locations = tdata_01_grouped_sf |> drop_na(prec), \n",
    "          newdata = tdata_02)\n",
    "\n",
    "velmedia <- idw(velmedia ~ 1, \n",
    "          locations = tdata_01_grouped_sf |> drop_na(velmedia), \n",
    "          newdata = tdata_02)\n",
    "presMax <- idw(presMax ~ 1, \n",
    "          locations = tdata_01_grouped_sf |> drop_na(presMax), \n",
    "          newdata = tdata_02)\n"
   ]
  },
  {
   "cell_type": "code",
   "execution_count": 91,
   "metadata": {
    "vscode": {
     "languageId": "r"
    }
   },
   "outputs": [],
   "source": [
    "tdata_02_meteo <- tdata_02 |>\n",
    "    mutate(tmed = tmed$var1.pred,\n",
    "            prec = prec$var1.pred,\n",
    "            velmedia = velmedia$var1.pred,\n",
    "            presMax = presMax$var1.pred) |>\n",
    "    st_drop_geometry()"
   ]
  },
  {
   "cell_type": "code",
   "execution_count": 92,
   "metadata": {
    "vscode": {
     "languageId": "r"
    }
   },
   "outputs": [
    {
     "name": "stdout",
     "output_type": "stream",
     "text": [
      "Rows: 246\n",
      "Columns: 6\n",
      "$ CMUN     \u001b[3m\u001b[90m<chr>\u001b[39m\u001b[23m \"001\", \"002\", \"003\", \"004\", \"005\", \"005\", \"005\", \"005\", \"005\"~\n",
      "$ CDIS     \u001b[3m\u001b[90m<chr>\u001b[39m\u001b[23m \"01\", \"01\", \"01\", \"01\", \"01\", \"02\", \"03\", \"04\", \"05\", \"01\", \"~\n",
      "$ tmed     \u001b[3m\u001b[90m<dbl>\u001b[39m\u001b[23m 12.26152, 16.01595, 13.00403, 16.21605, 15.97587, 15.98693, 1~\n",
      "$ prec     \u001b[3m\u001b[90m<dbl>\u001b[39m\u001b[23m 1.9519845, 0.9757789, 1.9142270, 1.1881407, 0.9800614, 0.9633~\n",
      "$ velmedia \u001b[3m\u001b[90m<dbl>\u001b[39m\u001b[23m 1.932702, 2.996452, 2.725458, 2.553527, 2.991905, 3.037137, 3~\n",
      "$ presMax  \u001b[3m\u001b[90m<dbl>\u001b[39m\u001b[23m 905.5722, 946.7792, 881.6706, 932.5134, 945.8788, 946.8818, 9~\n"
     ]
    }
   ],
   "source": [
    "glimpse(tdata_02_meteo)"
   ]
  },
  {
   "cell_type": "code",
   "execution_count": 93,
   "metadata": {
    "vscode": {
     "languageId": "r"
    }
   },
   "outputs": [
    {
     "data": {
      "text/html": [
       "<table class=\"dataframe\">\n",
       "<caption>A data.frame: 5 x 6</caption>\n",
       "<thead>\n",
       "\t<tr><th scope=col>CMUN</th><th scope=col>CDIS</th><th scope=col>tmed</th><th scope=col>prec</th><th scope=col>velmedia</th><th scope=col>presMax</th></tr>\n",
       "\t<tr><th scope=col>&lt;chr&gt;</th><th scope=col>&lt;chr&gt;</th><th scope=col>&lt;dbl&gt;</th><th scope=col>&lt;dbl&gt;</th><th scope=col>&lt;dbl&gt;</th><th scope=col>&lt;dbl&gt;</th></tr>\n",
       "</thead>\n",
       "<tbody>\n",
       "\t<tr><td>001</td><td>01</td><td>12.26152</td><td>1.9519845</td><td>1.932702</td><td>905.5722</td></tr>\n",
       "\t<tr><td>002</td><td>01</td><td>16.01595</td><td>0.9757789</td><td>2.996452</td><td>946.7792</td></tr>\n",
       "\t<tr><td>003</td><td>01</td><td>13.00403</td><td>1.9142270</td><td>2.725458</td><td>881.6706</td></tr>\n",
       "\t<tr><td>004</td><td>01</td><td>16.21605</td><td>1.1881407</td><td>2.553527</td><td>932.5134</td></tr>\n",
       "\t<tr><td>005</td><td>01</td><td>15.97587</td><td>0.9800614</td><td>2.991905</td><td>945.8788</td></tr>\n",
       "</tbody>\n",
       "</table>\n"
      ],
      "text/latex": [
       "A data.frame: 5 x 6\n",
       "\\begin{tabular}{llllll}\n",
       " CMUN & CDIS & tmed & prec & velmedia & presMax\\\\\n",
       " <chr> & <chr> & <dbl> & <dbl> & <dbl> & <dbl>\\\\\n",
       "\\hline\n",
       "\t 001 & 01 & 12.26152 & 1.9519845 & 1.932702 & 905.5722\\\\\n",
       "\t 002 & 01 & 16.01595 & 0.9757789 & 2.996452 & 946.7792\\\\\n",
       "\t 003 & 01 & 13.00403 & 1.9142270 & 2.725458 & 881.6706\\\\\n",
       "\t 004 & 01 & 16.21605 & 1.1881407 & 2.553527 & 932.5134\\\\\n",
       "\t 005 & 01 & 15.97587 & 0.9800614 & 2.991905 & 945.8788\\\\\n",
       "\\end{tabular}\n"
      ],
      "text/markdown": [
       "\n",
       "A data.frame: 5 x 6\n",
       "\n",
       "| CMUN &lt;chr&gt; | CDIS &lt;chr&gt; | tmed &lt;dbl&gt; | prec &lt;dbl&gt; | velmedia &lt;dbl&gt; | presMax &lt;dbl&gt; |\n",
       "|---|---|---|---|---|---|\n",
       "| 001 | 01 | 12.26152 | 1.9519845 | 1.932702 | 905.5722 |\n",
       "| 002 | 01 | 16.01595 | 0.9757789 | 2.996452 | 946.7792 |\n",
       "| 003 | 01 | 13.00403 | 1.9142270 | 2.725458 | 881.6706 |\n",
       "| 004 | 01 | 16.21605 | 1.1881407 | 2.553527 | 932.5134 |\n",
       "| 005 | 01 | 15.97587 | 0.9800614 | 2.991905 | 945.8788 |\n",
       "\n"
      ],
      "text/plain": [
       "  CMUN CDIS tmed     prec      velmedia presMax \n",
       "1 001  01   12.26152 1.9519845 1.932702 905.5722\n",
       "2 002  01   16.01595 0.9757789 2.996452 946.7792\n",
       "3 003  01   13.00403 1.9142270 2.725458 881.6706\n",
       "4 004  01   16.21605 1.1881407 2.553527 932.5134\n",
       "5 005  01   15.97587 0.9800614 2.991905 945.8788"
      ]
     },
     "metadata": {},
     "output_type": "display_data"
    }
   ],
   "source": [
    "tdata_02_meteo |> slice_head(n = 5)"
   ]
  },
  {
   "attachments": {},
   "cell_type": "markdown",
   "metadata": {},
   "source": [
    "####"
   ]
  },
  {
   "cell_type": "markdown",
   "metadata": {
    "slideshow": {
     "slide_type": "slide"
    }
   },
   "source": [
    "## Synthetic Data Generation"
   ]
  },
  {
   "attachments": {},
   "cell_type": "markdown",
   "metadata": {
    "slideshow": {
     "slide_type": "slide"
    }
   },
   "source": [
    "No aplica"
   ]
  },
  {
   "cell_type": "markdown",
   "metadata": {
    "slideshow": {
     "slide_type": "slide"
    }
   },
   "source": [
    "## Fake Data Generation"
   ]
  },
  {
   "attachments": {},
   "cell_type": "markdown",
   "metadata": {
    "slideshow": {
     "slide_type": "slide"
    }
   },
   "source": [
    "No aplica"
   ]
  },
  {
   "cell_type": "markdown",
   "metadata": {
    "slideshow": {
     "slide_type": "slide"
    }
   },
   "source": [
    "## Open Data"
   ]
  },
  {
   "attachments": {},
   "cell_type": "markdown",
   "metadata": {
    "slideshow": {
     "slide_type": "slide"
    }
   },
   "source": [
    "Los datos originales fueron descargados de fuentes abiertas:\n",
    "\n",
    "* Meteorológicas de AEMET\n",
    "* Geográficas (distritos) del INE"
   ]
  },
  {
   "cell_type": "markdown",
   "metadata": {},
   "source": [
    "## <font color='green'>Data Save</font>"
   ]
  },
  {
   "attachments": {},
   "cell_type": "markdown",
   "metadata": {},
   "source": [
    "Este proceso, puede copiarse y repetirse en aquellas partes del notebbok que necesiten guardar datos.\n",
    "Recuerde cambiar las cadenas añadida del fichero para diferenciarlas"
   ]
  },
  {
   "cell_type": "markdown",
   "metadata": {},
   "source": [
    "<font color='tomato'> Identificamos los datos a guardar</font>"
   ]
  },
  {
   "cell_type": "code",
   "execution_count": 96,
   "metadata": {
    "ExecuteTime": {
     "end_time": "2020-12-25T17:59:27.022001Z",
     "start_time": "2020-12-25T17:59:15.986986Z"
    },
    "scrolled": false,
    "vscode": {
     "languageId": "r"
    }
   },
   "outputs": [],
   "source": [
    "data_to_save <- tdata_02_meteo"
   ]
  },
  {
   "attachments": {},
   "cell_type": "markdown",
   "metadata": {},
   "source": [
    "\n",
    "<font color='tomato'>Estructura de nombre de archivos:</font>\n",
    "\n",
    "* Código del caso de uso, por ejemplo \"CU_04\"\n",
    "* Número del proceso que lo genera, por ejemplo \"_05\".\n",
    "* Número de la tarea que lo genera, por ejemplo \"_01\"\n",
    "* En caso de generarse varios ficheros en la misma tarea, llevarán _01 _02 ... después\n",
    "* Nombre: identificativo de \"properData\", por ejemplo \"_zonasgeo\"\n",
    "* Extensión del archivo\n",
    "\n",
    "Ejemplo: \"CU_04_05_01_01_zonasgeo.json, primer fichero que se genera en la tarea 01 del proceso 05 (Data Collection) para el caso de uso 04 (vacunas)\n",
    "\n",
    "Importante mantener los guiones bajos antes de proceso, tarea, archivo y nombre"
   ]
  },
  {
   "attachments": {},
   "cell_type": "markdown",
   "metadata": {},
   "source": [
    "### Proceso 05"
   ]
  },
  {
   "cell_type": "code",
   "execution_count": 94,
   "metadata": {
    "ExecuteTime": {
     "end_time": "2020-12-25T17:59:27.022001Z",
     "start_time": "2020-12-25T17:59:15.986986Z"
    },
    "scrolled": false,
    "vscode": {
     "languageId": "r"
    }
   },
   "outputs": [],
   "source": [
    "caso <- \"CU_18\"\n",
    "proceso <- '_05'\n",
    "tarea <- \"_15\"\n",
    "archivo <- \"\"\n",
    "proper <- \"_distritos_meteo\"\n",
    "extension <- \".csv\""
   ]
  },
  {
   "attachments": {},
   "cell_type": "markdown",
   "metadata": {},
   "source": [
    "<font color='tomato'><b> OPCION A:</b> Uso del paquete \"tcltk\" para mayor comodidad</font>\n",
    "\n",
    "* Buscar carpeta, escribir nombre de archivo SIN extensión (se especifica en el código)\n",
    "* Especificar sufijo2 si es necesario\n",
    "* Cambiar datos por datos_xx si es necesario"
   ]
  },
  {
   "cell_type": "code",
   "execution_count": null,
   "metadata": {
    "ExecuteTime": {
     "end_time": "2020-12-25T17:59:27.022001Z",
     "start_time": "2020-12-25T17:59:15.986986Z"
    },
    "scrolled": false,
    "vscode": {
     "languageId": "r"
    }
   },
   "outputs": [],
   "source": [
    "# file_save <- paste0(caso, proceso, tarea, tcltk::tkgetSaveFile(), proper, extension) \n",
    "# path_out <- paste0(oPath, file_save)\n",
    "# write_csv(data_to_save, path_out)\n",
    "\n",
    "# cat('File saved as: ')\n",
    "# path_out"
   ]
  },
  {
   "attachments": {},
   "cell_type": "markdown",
   "metadata": {},
   "source": [
    "<font color='tomato'><b> OPCION B:</b> Especificar el nombre de archivo</font>"
   ]
  },
  {
   "attachments": {},
   "cell_type": "markdown",
   "metadata": {},
   "source": [
    "- Los ficheros de salida del proceso van siempre a Data/Output/.  "
   ]
  },
  {
   "cell_type": "code",
   "execution_count": 97,
   "metadata": {
    "ExecuteTime": {
     "end_time": "2021-01-26T18:40:31.258294Z",
     "start_time": "2021-01-26T18:40:26.061847Z"
    },
    "slideshow": {
     "slide_type": "subslide"
    },
    "vscode": {
     "languageId": "r"
    }
   },
   "outputs": [
    {
     "name": "stdout",
     "output_type": "stream",
     "text": [
      "File saved as: "
     ]
    },
    {
     "data": {
      "text/html": [
       "'Data/Output/CU_18_05_15_distritos_meteo.csv'"
      ],
      "text/latex": [
       "'Data/Output/CU\\_18\\_05\\_15\\_distritos\\_meteo.csv'"
      ],
      "text/markdown": [
       "'Data/Output/CU_18_05_15_distritos_meteo.csv'"
      ],
      "text/plain": [
       "[1] \"Data/Output/CU_18_05_15_distritos_meteo.csv\""
      ]
     },
     "metadata": {},
     "output_type": "display_data"
    }
   ],
   "source": [
    "file_save <- paste0(caso, proceso, tarea, archivo, proper, extension) \n",
    "path_out <- paste0(oPath, file_save)\n",
    "write_csv(data_to_save, path_out)\n",
    "\n",
    "cat('File saved as: ')\n",
    "path_out"
   ]
  },
  {
   "attachments": {},
   "cell_type": "markdown",
   "metadata": {},
   "source": [
    "#### Copia del fichero a Input\n",
    "\n",
    "Si el archivo se va a usar en otros notebooks, copiar a la carpeta Input"
   ]
  },
  {
   "cell_type": "code",
   "execution_count": 98,
   "metadata": {
    "vscode": {
     "languageId": "r"
    }
   },
   "outputs": [
    {
     "data": {
      "text/html": [
       "TRUE"
      ],
      "text/latex": [
       "TRUE"
      ],
      "text/markdown": [
       "TRUE"
      ],
      "text/plain": [
       "[1] TRUE"
      ]
     },
     "metadata": {},
     "output_type": "display_data"
    }
   ],
   "source": [
    "path_in <- paste0(iPath, file_save)\n",
    "file.copy(path_out, path_in, overwrite = TRUE)"
   ]
  },
  {
   "cell_type": "markdown",
   "metadata": {},
   "source": [
    "## <font color=' #2874a6 '>Main Conclusions</font>"
   ]
  },
  {
   "cell_type": "markdown",
   "metadata": {
    "slideshow": {
     "slide_type": "slide"
    }
   },
   "source": [
    "<font color='steelblue'>List and describe the general conclusions of the analysis carried out​.</font>"
   ]
  },
  {
   "attachments": {},
   "cell_type": "markdown",
   "metadata": {},
   "source": [
    "### Prerequisites\n",
    "\n",
    "This working code needs the following conditions:\n",
    "\n",
    "* For using the interactive selection of file, the {tcltk} package must be installed. It is not needed in production.\n",
    "* The {sf}, {gstat}, {readr}, {dplyr}, {stringr} and {tidyr} packages must be installed. \n",
    "* The data paths `Data/Input` and `Data/Output` must exist (relative to the notebook path)"
   ]
  },
  {
   "attachments": {},
   "cell_type": "markdown",
   "metadata": {},
   "source": [
    "### Configuration Management\n",
    "\n",
    "This notebook has been tested with the following versions of R and packages. It cannot be assured that later versions work in the same way:\n",
    "* R 4.2.2\n",
    "* tcltk 4.2.2\n",
    "* sf 1.0.9\n",
    "* gstat 2.1.0\n",
    "* readr 2.1.3\n",
    "* dplyr 1.0.10\n",
    "* stringr 1.5.0\n",
    "* tidyr 1.3.0"
   ]
  },
  {
   "attachments": {},
   "cell_type": "markdown",
   "metadata": {},
   "source": [
    "### Data structures"
   ]
  },
  {
   "attachments": {},
   "cell_type": "markdown",
   "metadata": {},
   "source": [
    "#### Objeto `data`\n",
    "\n",
    "- Hay 246 filas con las variables:\n",
    "    * CMUN\n",
    "    * CDIS\n",
    "    * tmed\n",
    "    * prec\n",
    "    * velmedia\n",
    "    * presMax\n"
   ]
  },
  {
   "cell_type": "code",
   "execution_count": 105,
   "metadata": {
    "vscode": {
     "languageId": "r"
    }
   },
   "outputs": [
    {
     "data": {
      "text/html": [
       "<style>\n",
       ".list-inline {list-style: none; margin:0; padding: 0}\n",
       ".list-inline>li {display: inline-block}\n",
       ".list-inline>li:not(:last-child)::after {content: \"\\00b7\"; padding: 0 .5ex}\n",
       "</style>\n",
       "<ol class=list-inline><li>'CMUN'</li><li>'CDIS'</li><li>'tmed'</li><li>'prec'</li><li>'velmedia'</li><li>'presMax'</li></ol>\n"
      ],
      "text/latex": [
       "\\begin{enumerate*}\n",
       "\\item 'CMUN'\n",
       "\\item 'CDIS'\n",
       "\\item 'tmed'\n",
       "\\item 'prec'\n",
       "\\item 'velmedia'\n",
       "\\item 'presMax'\n",
       "\\end{enumerate*}\n"
      ],
      "text/markdown": [
       "1. 'CMUN'\n",
       "2. 'CDIS'\n",
       "3. 'tmed'\n",
       "4. 'prec'\n",
       "5. 'velmedia'\n",
       "6. 'presMax'\n",
       "\n",
       "\n"
      ],
      "text/plain": [
       "[1] \"CMUN\"     \"CDIS\"     \"tmed\"     \"prec\"     \"velmedia\" \"presMax\" "
      ]
     },
     "metadata": {},
     "output_type": "display_data"
    }
   ],
   "source": [
    "colnames(tdata_02_meteo)"
   ]
  },
  {
   "attachments": {},
   "cell_type": "markdown",
   "metadata": {},
   "source": [
    "#### Observaciones generales sobre los datos\n",
    "\n",
    "* Se han agregado los datos totales porque se tiene un año. Si se usan más años en los modelos, el agrupamiento debe ser de la granularidad de la que haya datos."
   ]
  },
  {
   "attachments": {},
   "cell_type": "markdown",
   "metadata": {},
   "source": [
    "### Consideraciones para despliegue en piloto\n",
    "\n",
    "* Si llegan datos reales se deberían descargar los datos de las fechas que coincidan"
   ]
  },
  {
   "attachments": {},
   "cell_type": "markdown",
   "metadata": {},
   "source": [
    "### Consideraciones para despliegue en producción\n",
    "\n",
    "* Se deben crear los procesos ETL en producción necesarios para que los datos de entrada estén actualizados"
   ]
  },
  {
   "cell_type": "markdown",
   "metadata": {},
   "source": [
    "## <font color=' #2874a6 '>Main Actions</font>"
   ]
  },
  {
   "cell_type": "markdown",
   "metadata": {},
   "source": [
    "#### <font color=' #2874a6 '>Acciones done</font>"
   ]
  },
  {
   "cell_type": "markdown",
   "metadata": {
    "slideshow": {
     "slide_type": "slide"
    }
   },
   "source": [
    "<font color='steelblue'>Indicate the actions that have been carried out in this process</font>"
   ]
  },
  {
   "attachments": {},
   "cell_type": "markdown",
   "metadata": {},
   "source": [
    "- Se han xxxx"
   ]
  },
  {
   "cell_type": "markdown",
   "metadata": {},
   "source": [
    "#### <font color=' #2874a6 '>Acctions to perform</font>"
   ]
  },
  {
   "cell_type": "markdown",
   "metadata": {
    "slideshow": {
     "slide_type": "slide"
    }
   },
   "source": [
    "<font color='steelblue'>Indicate the actions that must be carried out in subsequent processes</font>"
   ]
  },
  {
   "attachments": {},
   "cell_type": "markdown",
   "metadata": {},
   "source": [
    "- Se deben unir a los datos agregados de distritos del resto de variables"
   ]
  },
  {
   "attachments": {},
   "cell_type": "markdown",
   "metadata": {},
   "source": [
    "## <font color='RED'>CODE TO DEPLOY (PILOT)</font>\n",
    "\n",
    "A continuación se incluirá el código que deba ser llevado a despliegue para producción, dado que se entiende efectúa operaciones necesarias sobre los datos en la ejecución del prototipo"
   ]
  },
  {
   "attachments": {},
   "cell_type": "markdown",
   "metadata": {},
   "source": [
    "<font color=' red '><b>Description</b></font>\n",
    "\n",
    "- No hay nada que desplegar en el piloto, ya que estos datos son estáticos o en todo caso cambian con muy poca frecuencia, altamente improbable durante el proyecto.\n"
   ]
  },
  {
   "attachments": {},
   "cell_type": "markdown",
   "metadata": {},
   "source": [
    "<font color=' red '><b>CODE</b></font>"
   ]
  },
  {
   "cell_type": "code",
   "execution_count": null,
   "metadata": {
    "vscode": {
     "languageId": "r"
    }
   },
   "outputs": [],
   "source": [
    "# incluir código"
   ]
  }
 ],
 "metadata": {
  "anaconda-cloud": {},
  "celltoolbar": "Slideshow",
  "hide_input": false,
  "kernelspec": {
   "display_name": "R",
   "language": "R",
   "name": "ir"
  },
  "language_info": {
   "codemirror_mode": "r",
   "file_extension": ".r",
   "mimetype": "text/x-r-source",
   "name": "R",
   "pygments_lexer": "r",
   "version": "4.2.2"
  },
  "latex_envs": {
   "LaTeX_envs_menu_present": true,
   "autoclose": false,
   "autocomplete": true,
   "bibliofile": "biblio.bib",
   "cite_by": "apalike",
   "current_citInitial": 1,
   "eqLabelWithNumbers": true,
   "eqNumInitial": 1,
   "hotkeys": {
    "equation": "Ctrl-E",
    "itemize": "Ctrl-I"
   },
   "labels_anchors": false,
   "latex_user_defs": false,
   "report_style_numbering": true,
   "user_envs_cfg": false
  },
  "toc": {
   "base_numbering": 1,
   "nav_menu": {
    "height": "11.6px",
    "width": "160px"
   },
   "number_sections": false,
   "sideBar": true,
   "skip_h1_title": true,
   "title_cell": "Table of Contents",
   "title_sidebar": "Contents",
   "toc_cell": true,
   "toc_position": {
    "height": "calc(100% - 180px)",
    "left": "10px",
    "top": "150px",
    "width": "209.2px"
   },
   "toc_section_display": true,
   "toc_window_display": true
  },
  "varInspector": {
   "cols": {
    "lenName": 16,
    "lenType": 16,
    "lenVar": 40
   },
   "kernels_config": {
    "python": {
     "delete_cmd_postfix": "",
     "delete_cmd_prefix": "del ",
     "library": "var_list.py",
     "varRefreshCmd": "print(var_dic_list())"
    },
    "r": {
     "delete_cmd_postfix": ") ",
     "delete_cmd_prefix": "rm(",
     "library": "var_list.r",
     "varRefreshCmd": "cat(var_dic_list()) "
    }
   },
   "types_to_exclude": [
    "module",
    "function",
    "builtin_function_or_method",
    "instance",
    "_Feature"
   ],
   "window_display": false
  }
 },
 "nbformat": 4,
 "nbformat_minor": 1
}
