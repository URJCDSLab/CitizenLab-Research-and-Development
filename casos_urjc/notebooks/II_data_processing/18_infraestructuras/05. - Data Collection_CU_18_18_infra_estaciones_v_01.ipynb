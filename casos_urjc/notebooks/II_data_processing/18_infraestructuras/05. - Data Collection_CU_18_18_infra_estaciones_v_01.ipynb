{
 "cells": [
  {
   "cell_type": "markdown",
   "metadata": {
    "slideshow": {
     "slide_type": "slide"
    }
   },
   "source": [
    "<img src=\".\\images\\Logo.png\" width=150 align=\"left\" /> <img src=\".\\images\\Logo2.jpg\" width=450 align=\"right\" />"
   ]
  },
  {
   "attachments": {},
   "cell_type": "markdown",
   "metadata": {
    "slideshow": {
     "slide_type": "slide"
    }
   },
   "source": [
    "\n",
    "# <center><font color= #1e8449 > <b>CU18_Infraestructuras_eventos</font></center>\n"
   ]
  },
  {
   "cell_type": "markdown",
   "metadata": {
    "slideshow": {
     "slide_type": "slide"
    }
   },
   "source": [
    "<font color='steelblue'><b>Citizenlab Data Science Methodology > II - Data Processing Domain </font>\n",
    "***\n",
    "> # <font color='steelblue'> <b>05.- Data Collection</font>"
   ]
  },
  {
   "cell_type": "markdown",
   "metadata": {
    "slideshow": {
     "slide_type": "slide"
    }
   },
   "source": [
    "<font color='steelblue'>Data Collection is the process to obtain and generate (if required) necessary data to model the problem.</font>"
   ]
  },
  {
   "attachments": {},
   "cell_type": "markdown",
   "metadata": {},
   "source": [
    "### 18. Agrupar estaciones de metro\n",
    "\n",
    "* Los datos de metro están geolocalizados por \"boca\" de metro\n",
    "* La capacidad es previsible que esté por estación (o como mucho estación-línea)\n",
    "* Así que hay que agrupar, en esta tarea se hace por estación.\n",
    "\n",
    "\n",
    "\n",
    "\n",
    "\n",
    "\n"
   ]
  },
  {
   "cell_type": "markdown",
   "metadata": {
    "toc": true
   },
   "source": [
    "<h1>Table of Contents<span class=\"tocSkip\"></span></h1>\n",
    "<div class=\"toc\"><ul class=\"toc-item\"><li><span><a href=\"#Settings\" data-toc-modified-id=\"Settings-1\"><font color=\"green\">Settings</font></a></span></li><li><span><a href=\"#Data-Load\" data-toc-modified-id=\"Data-Load-2\"><font color=\"green\">Data Load</font></a></span></li><li><span><a href=\"#ETL-Processes\" data-toc-modified-id=\"ETL-Processes-3\">ETL Processes</a></span><ul class=\"toc-item\"><li><span><a href=\"#Import-data-from:-CSV,-Excel,-Tab,-JSON,-SQL,-and-Parquet-files\" data-toc-modified-id=\"Import-data-from:-CSV,-Excel,-Tab,-JSON,-SQL,-and-Parquet-files-3.1\">Import data from: CSV, Excel, Tab, JSON, SQL, and Parquet files</a></span></li></ul></li><li><span><a href=\"#Synthetic-Data-Generation\" data-toc-modified-id=\"Synthetic-Data-Generation-4\">Synthetic Data Generation</a></span></li><li><span><a href=\"#Fake-Data-Generation\" data-toc-modified-id=\"Fake-Data-Generation-5\">Fake Data Generation</a></span></li><li><span><a href=\"#Open-Data\" data-toc-modified-id=\"Open-Data-6\">Open Data</a></span></li><li><span><a href=\"#Data-Save\" data-toc-modified-id=\"Data-Save-7\"><font color=\"green\">Data Save</font></a></span></li><li><span><a href=\"#Main-Conclusions\" data-toc-modified-id=\"Main-Conclusions-8\"><font color=\" #2874a6 \">Main Conclusions</font></a></span></li><li><span><a href=\"#Main-Actions\" data-toc-modified-id=\"Main-Actions-9\"><font color=\" #2874a6 \">Main Actions</font></a></span><ul class=\"toc-item\"><li><ul class=\"toc-item\"><li><span><a href=\"#Acciones-done\" data-toc-modified-id=\"Acciones-done-9.0.1\"><font color=\" #2874a6 \">Acciones done</font></a></span></li><li><span><a href=\"#Acctions-to-perform\" data-toc-modified-id=\"Acctions-to-perform-9.0.2\"><font color=\" #2874a6 \">Acctions to perform</font></a></span></li></ul></li></ul></li></ul></div>"
   ]
  },
  {
   "cell_type": "markdown",
   "metadata": {
    "slideshow": {
     "slide_type": "slide"
    }
   },
   "source": [
    "## <font color='green'>Settings</font>"
   ]
  },
  {
   "attachments": {},
   "cell_type": "markdown",
   "metadata": {},
   "source": [
    "### Packages to use\n",
    "\n",
    "_ELIMINAR O AÑADIR LO QUE TOQUE. COPIAR VERSIONES AL FINAL Y QUITAR CÓDIGO DE VERSIONES_\n",
    "\n",
    "- {tcltk} para selección interactiva de archivos locales\n",
    "- {sf} para trabajar con georeferenciación\n",
    "- {readr} para leer y escribir archivos csv\n",
    "- {dplyr} para explorar datos\n",
    "- {stringr} para manipulación de cadenas de caracteres\n",
    "- {tidyr} para organización de datos\n"
   ]
  },
  {
   "cell_type": "code",
   "execution_count": 1,
   "metadata": {
    "ExecuteTime": {
     "end_time": "2021-12-03T15:23:33.762841Z",
     "start_time": "2021-12-03T15:23:08.580267Z"
    },
    "slideshow": {
     "slide_type": "subslide"
    },
    "vscode": {
     "languageId": "r"
    }
   },
   "outputs": [
    {
     "name": "stderr",
     "output_type": "stream",
     "text": [
      "Linking to GEOS 3.10.2, GDAL 3.4.2, PROJ 8.2.1; sf_use_s2() is TRUE\n",
      "\n",
      "\n",
      "Attaching package: 'dplyr'\n",
      "\n",
      "\n",
      "The following objects are masked from 'package:stats':\n",
      "\n",
      "    filter, lag\n",
      "\n",
      "\n",
      "The following objects are masked from 'package:base':\n",
      "\n",
      "    intersect, setdiff, setequal, union\n",
      "\n",
      "\n"
     ]
    }
   ],
   "source": [
    "library(sf)\n",
    "library(readr)\n",
    "library(dplyr)\n",
    "# library(stringr)\n",
    "library(tidyr)\n",
    "\n",
    "p <- c(\"tcltk\", \"sf\", \"readr\", \"dplyr\", \"stringr\", \"tidyr\")\n"
   ]
  },
  {
   "attachments": {},
   "cell_type": "markdown",
   "metadata": {},
   "source": [
    "### Paths"
   ]
  },
  {
   "cell_type": "code",
   "execution_count": 2,
   "metadata": {
    "vscode": {
     "languageId": "r"
    }
   },
   "outputs": [],
   "source": [
    "iPath <- \"Data/Input/\"\n",
    "oPath <- \"Data/Output/\""
   ]
  },
  {
   "attachments": {},
   "cell_type": "markdown",
   "metadata": {
    "slideshow": {
     "slide_type": "slide"
    }
   },
   "source": [
    "## <font color='green'>Data Load</font>\n",
    "\n",
    "If there are more than one input file, make as many sections as files to import."
   ]
  },
  {
   "attachments": {},
   "cell_type": "markdown",
   "metadata": {},
   "source": [
    "Instrucciones\n",
    "- Los ficheros de entrada del proceso están siempre en Data/Input/.   \n",
    "- Si hay más de un fichero de entrada, se crean tantos objetos iFile_xx y file_data_xx como ficheros de entrada (xx número correlativo con dos dígitos, rellenar con ceros a la izquierda)"
   ]
  },
  {
   "attachments": {},
   "cell_type": "markdown",
   "metadata": {},
   "source": [
    "<font color='tomato'><b> OPCION A:</b> Seleccionar fichero en ventana para mayor comodidad</font> "
   ]
  },
  {
   "attachments": {},
   "cell_type": "markdown",
   "metadata": {},
   "source": [
    "Data load using the {tcltk} package. Ucomment the line if not using this option"
   ]
  },
  {
   "cell_type": "code",
   "execution_count": 3,
   "metadata": {
    "vscode": {
     "languageId": "r"
    }
   },
   "outputs": [],
   "source": [
    "# file_data <- tcltk::tk_choose.files(multi = FALSE)"
   ]
  },
  {
   "attachments": {},
   "cell_type": "markdown",
   "metadata": {},
   "source": [
    "<font color='tomato'><b> OPCION B:</b> Especificar el nombre de archivo</font>\n",
    "\n"
   ]
  },
  {
   "cell_type": "code",
   "execution_count": 4,
   "metadata": {
    "vscode": {
     "languageId": "r"
    }
   },
   "outputs": [
    {
     "name": "stdout",
     "output_type": "stream",
     "text": [
      "Se leer<U+00E1>n datos del archivo:  Data/Input/CU_18_05_17_infraestructuras.csv"
     ]
    }
   ],
   "source": [
    "iFile <- \"CU_18_05_17_infraestructuras.csv\"\n",
    "file_data <- paste0(iPath, iFile)\n",
    "\n",
    "if(file.exists(file_data)){\n",
    "    cat(\"Se leerán datos del archivo: \", file_data)\n",
    "} else{\n",
    "    warning(\"Cuidado: el archivo no existe.\")\n",
    "}\n"
   ]
  },
  {
   "attachments": {},
   "cell_type": "markdown",
   "metadata": {},
   "source": [
    "#### Data file to dataframe\n",
    "\n",
    "Usar la función adecuada según el formato de entrada (xlsx, csv, json, ...)"
   ]
  },
  {
   "cell_type": "code",
   "execution_count": 5,
   "metadata": {
    "vscode": {
     "languageId": "r"
    }
   },
   "outputs": [
    {
     "name": "stderr",
     "output_type": "stream",
     "text": [
      "\u001b[1mRows: \u001b[22m\u001b[34m1633\u001b[39m \u001b[1mColumns: \u001b[22m\u001b[34m18\u001b[39m\n",
      "\u001b[36m--\u001b[39m \u001b[1mColumn specification\u001b[22m \u001b[36m--------------------------------------------------------\u001b[39m\n",
      "\u001b[1mDelimiter:\u001b[22m \",\"\n",
      "\u001b[31mchr\u001b[39m  (8): grupo, tipo, nombre, CODMUN, DIRECCION, info, CMUN, CDIS\n",
      "\u001b[32mdbl\u001b[39m (10): dist_aeropuerto, dist_intercambiador, dist_cercanias, dist_hospita...\n",
      "\n",
      "\u001b[36mi\u001b[39m Use `spec()` to retrieve the full column specification for this data.\n",
      "\u001b[36mi\u001b[39m Specify the column types or set `show_col_types = FALSE` to quiet this message.\n"
     ]
    }
   ],
   "source": [
    "data <- read_csv(file_data)\n"
   ]
  },
  {
   "attachments": {},
   "cell_type": "markdown",
   "metadata": {},
   "source": [
    "Estructura de  los datos:"
   ]
  },
  {
   "cell_type": "code",
   "execution_count": 6,
   "metadata": {
    "vscode": {
     "languageId": "r"
    }
   },
   "outputs": [
    {
     "name": "stdout",
     "output_type": "stream",
     "text": [
      "Rows: 1,633\n",
      "Columns: 18\n",
      "$ grupo               \u001b[3m\u001b[90m<chr>\u001b[39m\u001b[23m \"Transporte\", \"Transporte\", \"Transporte\", \"Transpo~\n",
      "$ tipo                \u001b[3m\u001b[90m<chr>\u001b[39m\u001b[23m \"Intercambiadores\", \"Intercambiadores\", \"Intercamb~\n",
      "$ nombre              \u001b[3m\u001b[90m<chr>\u001b[39m\u001b[23m \"Grandes Intercambiadores Plaza El<U+00ED>ptica\", \"Grande~\n",
      "$ CODMUN              \u001b[3m\u001b[90m<chr>\u001b[39m\u001b[23m \"079\", \"079\", \"079\", \"079\", \"079\", \"079\", \"079\", \"~\n",
      "$ DIRECCION           \u001b[3m\u001b[90m<chr>\u001b[39m\u001b[23m \"Plaza El<U+00ED>ptica s/n\", \"Calle Princesa, 89\", \"Estac~\n",
      "$ info                \u001b[3m\u001b[90m<chr>\u001b[39m\u001b[23m NA, NA, NA, NA, NA, NA, NA, NA, NA, NA, NA, NA, NA~\n",
      "$ CMUN                \u001b[3m\u001b[90m<chr>\u001b[39m\u001b[23m \"079\", \"079\", \"079\", \"079\", \"079\", \"079\", \"079\", \"~\n",
      "$ CDIS                \u001b[3m\u001b[90m<chr>\u001b[39m\u001b[23m \"12\", \"09\", \"09\", \"05\", \"05\", \"05\", \"06\", \"02\", \"0~\n",
      "$ dist_aeropuerto     \u001b[3m\u001b[90m<dbl>\u001b[39m\u001b[23m 5.2031430, 8.5507475, 7.3002463, 9.9339069, 9.1988~\n",
      "$ dist_intercambiador \u001b[3m\u001b[90m<dbl>\u001b[39m\u001b[23m 0.00000000, 0.00000000, 0.00000000, 0.00000000, 0.~\n",
      "$ dist_cercanias      \u001b[3m\u001b[90m<dbl>\u001b[39m\u001b[23m 1.648973148, 1.468638183, 0.088338692, 0.736877403~\n",
      "$ dist_hospital       \u001b[3m\u001b[90m<dbl>\u001b[39m\u001b[23m 1.8154156, 0.4221115, 1.3855767, 1.0733484, 0.3488~\n",
      "$ dist_universidad    \u001b[3m\u001b[90m<dbl>\u001b[39m\u001b[23m 1.29960755, 0.30460781, 0.92076145, 0.08835165, 0.~\n",
      "$ dist_gob            \u001b[3m\u001b[90m<dbl>\u001b[39m\u001b[23m 0.61772353, 0.62638474, 1.17005116, 0.14904962, 1.~\n",
      "$ dist_embajada       \u001b[3m\u001b[90m<dbl>\u001b[39m\u001b[23m 3.921324e-01, 1.457397e+00, 5.624560e+00, 8.316773~\n",
      "$ dist_ccomercial     \u001b[3m\u001b[90m<dbl>\u001b[39m\u001b[23m 0.73115706, 1.61056736, 0.90608573, 0.77583440, 0.~\n",
      "$ X                   \u001b[3m\u001b[90m<dbl>\u001b[39m\u001b[23m -3.716577, -3.719508, -3.719560, -3.689044, -3.676~\n",
      "$ Y                   \u001b[3m\u001b[90m<dbl>\u001b[39m\u001b[23m 40.38540, 40.43474, 40.42080, 40.46719, 40.43797, ~\n"
     ]
    }
   ],
   "source": [
    "glimpse(data)"
   ]
  },
  {
   "attachments": {},
   "cell_type": "markdown",
   "metadata": {},
   "source": [
    "Muestra de datos:"
   ]
  },
  {
   "cell_type": "code",
   "execution_count": 7,
   "metadata": {
    "vscode": {
     "languageId": "r"
    }
   },
   "outputs": [
    {
     "data": {
      "text/html": [
       "<table class=\"dataframe\">\n",
       "<caption>A spec_tbl_df: 5 x 18</caption>\n",
       "<thead>\n",
       "\t<tr><th scope=col>grupo</th><th scope=col>tipo</th><th scope=col>nombre</th><th scope=col>CODMUN</th><th scope=col>DIRECCION</th><th scope=col>info</th><th scope=col>CMUN</th><th scope=col>CDIS</th><th scope=col>dist_aeropuerto</th><th scope=col>dist_intercambiador</th><th scope=col>dist_cercanias</th><th scope=col>dist_hospital</th><th scope=col>dist_universidad</th><th scope=col>dist_gob</th><th scope=col>dist_embajada</th><th scope=col>dist_ccomercial</th><th scope=col>X</th><th scope=col>Y</th></tr>\n",
       "\t<tr><th scope=col>&lt;chr&gt;</th><th scope=col>&lt;chr&gt;</th><th scope=col>&lt;chr&gt;</th><th scope=col>&lt;chr&gt;</th><th scope=col>&lt;chr&gt;</th><th scope=col>&lt;chr&gt;</th><th scope=col>&lt;chr&gt;</th><th scope=col>&lt;chr&gt;</th><th scope=col>&lt;dbl&gt;</th><th scope=col>&lt;dbl&gt;</th><th scope=col>&lt;dbl&gt;</th><th scope=col>&lt;dbl&gt;</th><th scope=col>&lt;dbl&gt;</th><th scope=col>&lt;dbl&gt;</th><th scope=col>&lt;dbl&gt;</th><th scope=col>&lt;dbl&gt;</th><th scope=col>&lt;dbl&gt;</th><th scope=col>&lt;dbl&gt;</th></tr>\n",
       "</thead>\n",
       "<tbody>\n",
       "\t<tr><td>Transporte</td><td>Intercambiadores</td><td><span style=white-space:pre-wrap>Grandes Intercambiadores Plaza El&lt;U+00ED&gt;ptica     </span></td><td>079</td><td><span style=white-space:pre-wrap>Plaza El&lt;U+00ED&gt;ptica s/n                 </span></td><td>NA</td><td>079</td><td>12</td><td>5.203143</td><td>0</td><td>1.64897315</td><td>1.8154156</td><td>1.29960755</td><td>0.6177235</td><td>0.39213238</td><td>0.7311571</td><td>-3.716577</td><td>40.38540</td></tr>\n",
       "\t<tr><td>Transporte</td><td>Intercambiadores</td><td>Grandes Intercambiadores Moncloa                   </td><td>079</td><td>Calle Princesa, 89                        </td><td>NA</td><td>079</td><td>09</td><td>8.550748</td><td>0</td><td>1.46863818</td><td>0.4221115</td><td>0.30460781</td><td>0.6263847</td><td>1.45739694</td><td>1.6105674</td><td>-3.719508</td><td>40.43474</td></tr>\n",
       "\t<tr><td>Transporte</td><td>Intercambiadores</td><td>Grandes Intercambiadores Pr&lt;U+00ED&gt;ncipe P&lt;U+00ED&gt;o</td><td>079</td><td>Estaci&lt;U+00F3&gt;n Pr&lt;U+00ED&gt;ncipe P&lt;U+00ED&gt;o</td><td>NA</td><td>079</td><td>09</td><td>7.300246</td><td>0</td><td>0.08833869</td><td>1.3855767</td><td>0.92076145</td><td>1.1700512</td><td>5.62455975</td><td>0.9060857</td><td>-3.719560</td><td>40.42080</td></tr>\n",
       "\t<tr><td>Transporte</td><td>Intercambiadores</td><td>Grandes Intercambiadores Plaza de Castilla         </td><td>079</td><td>Calle San Aquilino y Avenida de Asturias  </td><td>NA</td><td>079</td><td>05</td><td>9.933907</td><td>0</td><td>0.73687740</td><td>1.0733484</td><td>0.08835165</td><td>0.1490496</td><td>0.08316773</td><td>0.7758344</td><td>-3.689044</td><td>40.46719</td></tr>\n",
       "\t<tr><td>Transporte</td><td>Intercambiadores</td><td>Grandes Intercambiadores Avenida de Am&lt;U+00E9&gt;rica </td><td>079</td><td><span style=white-space:pre-wrap>Avenida de Am&lt;U+00E9&gt;rica 9 A             </span></td><td>NA</td><td>079</td><td>05</td><td>9.198897</td><td>0</td><td>1.62310148</td><td>0.3488060</td><td>0.50695045</td><td>1.1979177</td><td>0.40303107</td><td>0.9512580</td><td>-3.676731</td><td>40.43797</td></tr>\n",
       "</tbody>\n",
       "</table>\n"
      ],
      "text/latex": [
       "A spec\\_tbl\\_df: 5 x 18\n",
       "\\begin{tabular}{llllllllllllllllll}\n",
       " grupo & tipo & nombre & CODMUN & DIRECCION & info & CMUN & CDIS & dist\\_aeropuerto & dist\\_intercambiador & dist\\_cercanias & dist\\_hospital & dist\\_universidad & dist\\_gob & dist\\_embajada & dist\\_ccomercial & X & Y\\\\\n",
       " <chr> & <chr> & <chr> & <chr> & <chr> & <chr> & <chr> & <chr> & <dbl> & <dbl> & <dbl> & <dbl> & <dbl> & <dbl> & <dbl> & <dbl> & <dbl> & <dbl>\\\\\n",
       "\\hline\n",
       "\t Transporte & Intercambiadores & Grandes Intercambiadores Plaza El<U+00ED>ptica      & 079 & Plaza El<U+00ED>ptica s/n                  & NA & 079 & 12 & 5.203143 & 0 & 1.64897315 & 1.8154156 & 1.29960755 & 0.6177235 & 0.39213238 & 0.7311571 & -3.716577 & 40.38540\\\\\n",
       "\t Transporte & Intercambiadores & Grandes Intercambiadores Moncloa                    & 079 & Calle Princesa, 89                         & NA & 079 & 09 & 8.550748 & 0 & 1.46863818 & 0.4221115 & 0.30460781 & 0.6263847 & 1.45739694 & 1.6105674 & -3.719508 & 40.43474\\\\\n",
       "\t Transporte & Intercambiadores & Grandes Intercambiadores Pr<U+00ED>ncipe P<U+00ED>o & 079 & Estaci<U+00F3>n Pr<U+00ED>ncipe P<U+00ED>o & NA & 079 & 09 & 7.300246 & 0 & 0.08833869 & 1.3855767 & 0.92076145 & 1.1700512 & 5.62455975 & 0.9060857 & -3.719560 & 40.42080\\\\\n",
       "\t Transporte & Intercambiadores & Grandes Intercambiadores Plaza de Castilla          & 079 & Calle San Aquilino y Avenida de Asturias   & NA & 079 & 05 & 9.933907 & 0 & 0.73687740 & 1.0733484 & 0.08835165 & 0.1490496 & 0.08316773 & 0.7758344 & -3.689044 & 40.46719\\\\\n",
       "\t Transporte & Intercambiadores & Grandes Intercambiadores Avenida de Am<U+00E9>rica  & 079 & Avenida de Am<U+00E9>rica 9 A              & NA & 079 & 05 & 9.198897 & 0 & 1.62310148 & 0.3488060 & 0.50695045 & 1.1979177 & 0.40303107 & 0.9512580 & -3.676731 & 40.43797\\\\\n",
       "\\end{tabular}\n"
      ],
      "text/markdown": [
       "\n",
       "A spec_tbl_df: 5 x 18\n",
       "\n",
       "| grupo &lt;chr&gt; | tipo &lt;chr&gt; | nombre &lt;chr&gt; | CODMUN &lt;chr&gt; | DIRECCION &lt;chr&gt; | info &lt;chr&gt; | CMUN &lt;chr&gt; | CDIS &lt;chr&gt; | dist_aeropuerto &lt;dbl&gt; | dist_intercambiador &lt;dbl&gt; | dist_cercanias &lt;dbl&gt; | dist_hospital &lt;dbl&gt; | dist_universidad &lt;dbl&gt; | dist_gob &lt;dbl&gt; | dist_embajada &lt;dbl&gt; | dist_ccomercial &lt;dbl&gt; | X &lt;dbl&gt; | Y &lt;dbl&gt; |\n",
       "|---|---|---|---|---|---|---|---|---|---|---|---|---|---|---|---|---|---|\n",
       "| Transporte | Intercambiadores | Grandes Intercambiadores Plaza El&lt;U+00ED&gt;ptica      | 079 | Plaza El&lt;U+00ED&gt;ptica s/n                  | NA | 079 | 12 | 5.203143 | 0 | 1.64897315 | 1.8154156 | 1.29960755 | 0.6177235 | 0.39213238 | 0.7311571 | -3.716577 | 40.38540 |\n",
       "| Transporte | Intercambiadores | Grandes Intercambiadores Moncloa                    | 079 | Calle Princesa, 89                         | NA | 079 | 09 | 8.550748 | 0 | 1.46863818 | 0.4221115 | 0.30460781 | 0.6263847 | 1.45739694 | 1.6105674 | -3.719508 | 40.43474 |\n",
       "| Transporte | Intercambiadores | Grandes Intercambiadores Pr&lt;U+00ED&gt;ncipe P&lt;U+00ED&gt;o | 079 | Estaci&lt;U+00F3&gt;n Pr&lt;U+00ED&gt;ncipe P&lt;U+00ED&gt;o | NA | 079 | 09 | 7.300246 | 0 | 0.08833869 | 1.3855767 | 0.92076145 | 1.1700512 | 5.62455975 | 0.9060857 | -3.719560 | 40.42080 |\n",
       "| Transporte | Intercambiadores | Grandes Intercambiadores Plaza de Castilla          | 079 | Calle San Aquilino y Avenida de Asturias   | NA | 079 | 05 | 9.933907 | 0 | 0.73687740 | 1.0733484 | 0.08835165 | 0.1490496 | 0.08316773 | 0.7758344 | -3.689044 | 40.46719 |\n",
       "| Transporte | Intercambiadores | Grandes Intercambiadores Avenida de Am&lt;U+00E9&gt;rica  | 079 | Avenida de Am&lt;U+00E9&gt;rica 9 A              | NA | 079 | 05 | 9.198897 | 0 | 1.62310148 | 0.3488060 | 0.50695045 | 1.1979177 | 0.40303107 | 0.9512580 | -3.676731 | 40.43797 |\n",
       "\n"
      ],
      "text/plain": [
       "  grupo      tipo            \n",
       "1 Transporte Intercambiadores\n",
       "2 Transporte Intercambiadores\n",
       "3 Transporte Intercambiadores\n",
       "4 Transporte Intercambiadores\n",
       "5 Transporte Intercambiadores\n",
       "  nombre                                              CODMUN\n",
       "1 Grandes Intercambiadores Plaza El<U+00ED>ptica      079   \n",
       "2 Grandes Intercambiadores Moncloa                    079   \n",
       "3 Grandes Intercambiadores Pr<U+00ED>ncipe P<U+00ED>o 079   \n",
       "4 Grandes Intercambiadores Plaza de Castilla          079   \n",
       "5 Grandes Intercambiadores Avenida de Am<U+00E9>rica  079   \n",
       "  DIRECCION                                  info CMUN CDIS dist_aeropuerto\n",
       "1 Plaza El<U+00ED>ptica s/n                  NA   079  12   5.203143       \n",
       "2 Calle Princesa, 89                         NA   079  09   8.550748       \n",
       "3 Estaci<U+00F3>n Pr<U+00ED>ncipe P<U+00ED>o NA   079  09   7.300246       \n",
       "4 Calle San Aquilino y Avenida de Asturias   NA   079  05   9.933907       \n",
       "5 Avenida de Am<U+00E9>rica 9 A              NA   079  05   9.198897       \n",
       "  dist_intercambiador dist_cercanias dist_hospital dist_universidad dist_gob \n",
       "1 0                   1.64897315     1.8154156     1.29960755       0.6177235\n",
       "2 0                   1.46863818     0.4221115     0.30460781       0.6263847\n",
       "3 0                   0.08833869     1.3855767     0.92076145       1.1700512\n",
       "4 0                   0.73687740     1.0733484     0.08835165       0.1490496\n",
       "5 0                   1.62310148     0.3488060     0.50695045       1.1979177\n",
       "  dist_embajada dist_ccomercial X         Y       \n",
       "1 0.39213238    0.7311571       -3.716577 40.38540\n",
       "2 1.45739694    1.6105674       -3.719508 40.43474\n",
       "3 5.62455975    0.9060857       -3.719560 40.42080\n",
       "4 0.08316773    0.7758344       -3.689044 40.46719\n",
       "5 0.40303107    0.9512580       -3.676731 40.43797"
      ]
     },
     "metadata": {},
     "output_type": "display_data"
    }
   ],
   "source": [
    "slice_head(data, n = 5)"
   ]
  },
  {
   "cell_type": "markdown",
   "metadata": {
    "slideshow": {
     "slide_type": "slide"
    }
   },
   "source": [
    "## ETL Processes"
   ]
  },
  {
   "attachments": {},
   "cell_type": "markdown",
   "metadata": {
    "slideshow": {
     "slide_type": "slide"
    }
   },
   "source": [
    "### Import data from: CSV, Excel, Tab, JSON, SQL, and Parquet files\n",
    "\n",
    "Se han importado en el apartado Data Load anterior:\n",
    "\n",
    "* Infraestructuras completas con distancias"
   ]
  },
  {
   "attachments": {},
   "cell_type": "markdown",
   "metadata": {},
   "source": [
    "Incluir apartados si procede para: Extracción de datos (select, filter), Transformación de datos, (mutate, joins, ...). Si es necesario tratar datos perdidos, indicarlo también en NB 09.2"
   ]
  },
  {
   "attachments": {},
   "cell_type": "markdown",
   "metadata": {},
   "source": [
    "## Data transform"
   ]
  },
  {
   "attachments": {},
   "cell_type": "markdown",
   "metadata": {},
   "source": [
    "* Conversión de coordenadas numéricas a objeto espacial"
   ]
  },
  {
   "cell_type": "code",
   "execution_count": 8,
   "metadata": {
    "vscode": {
     "languageId": "r"
    }
   },
   "outputs": [],
   "source": [
    "tdata_sf <- data |> \n",
    "    st_as_sf(coords = c(\"X\", \"Y\"))"
   ]
  },
  {
   "cell_type": "code",
   "execution_count": 9,
   "metadata": {
    "vscode": {
     "languageId": "r"
    }
   },
   "outputs": [
    {
     "name": "stdout",
     "output_type": "stream",
     "text": [
      "Rows: 1,633\n",
      "Columns: 17\n",
      "$ grupo               \u001b[3m\u001b[90m<chr>\u001b[39m\u001b[23m \"Transporte\", \"Transporte\", \"Transporte\", \"Transpo~\n",
      "$ tipo                \u001b[3m\u001b[90m<chr>\u001b[39m\u001b[23m \"Intercambiadores\", \"Intercambiadores\", \"Intercamb~\n",
      "$ nombre              \u001b[3m\u001b[90m<chr>\u001b[39m\u001b[23m \"Grandes Intercambiadores Plaza El<U+00ED>ptica\", \"Grande~\n",
      "$ CODMUN              \u001b[3m\u001b[90m<chr>\u001b[39m\u001b[23m \"079\", \"079\", \"079\", \"079\", \"079\", \"079\", \"079\", \"~\n",
      "$ DIRECCION           \u001b[3m\u001b[90m<chr>\u001b[39m\u001b[23m \"Plaza El<U+00ED>ptica s/n\", \"Calle Princesa, 89\", \"Estac~\n",
      "$ info                \u001b[3m\u001b[90m<chr>\u001b[39m\u001b[23m NA, NA, NA, NA, NA, NA, NA, NA, NA, NA, NA, NA, NA~\n",
      "$ CMUN                \u001b[3m\u001b[90m<chr>\u001b[39m\u001b[23m \"079\", \"079\", \"079\", \"079\", \"079\", \"079\", \"079\", \"~\n",
      "$ CDIS                \u001b[3m\u001b[90m<chr>\u001b[39m\u001b[23m \"12\", \"09\", \"09\", \"05\", \"05\", \"05\", \"06\", \"02\", \"0~\n",
      "$ dist_aeropuerto     \u001b[3m\u001b[90m<dbl>\u001b[39m\u001b[23m 5.2031430, 8.5507475, 7.3002463, 9.9339069, 9.1988~\n",
      "$ dist_intercambiador \u001b[3m\u001b[90m<dbl>\u001b[39m\u001b[23m 0.00000000, 0.00000000, 0.00000000, 0.00000000, 0.~\n",
      "$ dist_cercanias      \u001b[3m\u001b[90m<dbl>\u001b[39m\u001b[23m 1.648973148, 1.468638183, 0.088338692, 0.736877403~\n",
      "$ dist_hospital       \u001b[3m\u001b[90m<dbl>\u001b[39m\u001b[23m 1.8154156, 0.4221115, 1.3855767, 1.0733484, 0.3488~\n",
      "$ dist_universidad    \u001b[3m\u001b[90m<dbl>\u001b[39m\u001b[23m 1.29960755, 0.30460781, 0.92076145, 0.08835165, 0.~\n",
      "$ dist_gob            \u001b[3m\u001b[90m<dbl>\u001b[39m\u001b[23m 0.61772353, 0.62638474, 1.17005116, 0.14904962, 1.~\n",
      "$ dist_embajada       \u001b[3m\u001b[90m<dbl>\u001b[39m\u001b[23m 3.921324e-01, 1.457397e+00, 5.624560e+00, 8.316773~\n",
      "$ dist_ccomercial     \u001b[3m\u001b[90m<dbl>\u001b[39m\u001b[23m 0.73115706, 1.61056736, 0.90608573, 0.77583440, 0.~\n",
      "$ geometry            \u001b[3m\u001b[90m<POINT>\u001b[39m\u001b[23m POINT (-3.716577 40.3854), POINT (-3.719508 40.4~\n"
     ]
    }
   ],
   "source": [
    "tdata_sf |> glimpse()"
   ]
  },
  {
   "cell_type": "code",
   "execution_count": 10,
   "metadata": {
    "vscode": {
     "languageId": "r"
    }
   },
   "outputs": [
    {
     "data": {
      "text/html": [
       "<table class=\"dataframe\">\n",
       "<caption>A tibble: 5 x 17</caption>\n",
       "<thead>\n",
       "\t<tr><th scope=col>grupo</th><th scope=col>tipo</th><th scope=col>nombre</th><th scope=col>CODMUN</th><th scope=col>DIRECCION</th><th scope=col>info</th><th scope=col>CMUN</th><th scope=col>CDIS</th><th scope=col>dist_aeropuerto</th><th scope=col>dist_intercambiador</th><th scope=col>dist_cercanias</th><th scope=col>dist_hospital</th><th scope=col>dist_universidad</th><th scope=col>dist_gob</th><th scope=col>dist_embajada</th><th scope=col>dist_ccomercial</th><th scope=col>geometry</th></tr>\n",
       "\t<tr><th scope=col>&lt;chr&gt;</th><th scope=col>&lt;chr&gt;</th><th scope=col>&lt;chr&gt;</th><th scope=col>&lt;chr&gt;</th><th scope=col>&lt;chr&gt;</th><th scope=col>&lt;chr&gt;</th><th scope=col>&lt;chr&gt;</th><th scope=col>&lt;chr&gt;</th><th scope=col>&lt;dbl&gt;</th><th scope=col>&lt;dbl&gt;</th><th scope=col>&lt;dbl&gt;</th><th scope=col>&lt;dbl&gt;</th><th scope=col>&lt;dbl&gt;</th><th scope=col>&lt;dbl&gt;</th><th scope=col>&lt;dbl&gt;</th><th scope=col>&lt;dbl&gt;</th><th scope=col>&lt;POINT&gt;</th></tr>\n",
       "</thead>\n",
       "<tbody>\n",
       "\t<tr><td>Transporte</td><td>Intercambiadores</td><td><span style=white-space:pre-wrap>Grandes Intercambiadores Plaza El&lt;U+00ED&gt;ptica     </span></td><td>079</td><td><span style=white-space:pre-wrap>Plaza El&lt;U+00ED&gt;ptica s/n                 </span></td><td>NA</td><td>079</td><td>12</td><td>5.203143</td><td>0</td><td>1.64897315</td><td>1.8154156</td><td>1.29960755</td><td>0.6177235</td><td>0.39213238</td><td>0.7311571</td><td>POINT (-3.716577 40.3854)</td></tr>\n",
       "\t<tr><td>Transporte</td><td>Intercambiadores</td><td>Grandes Intercambiadores Moncloa                   </td><td>079</td><td>Calle Princesa, 89                        </td><td>NA</td><td>079</td><td>09</td><td>8.550748</td><td>0</td><td>1.46863818</td><td>0.4221115</td><td>0.30460781</td><td>0.6263847</td><td>1.45739694</td><td>1.6105674</td><td>POINT (-3.719508 40.43474)</td></tr>\n",
       "\t<tr><td>Transporte</td><td>Intercambiadores</td><td>Grandes Intercambiadores Pr&lt;U+00ED&gt;ncipe P&lt;U+00ED&gt;o</td><td>079</td><td>Estaci&lt;U+00F3&gt;n Pr&lt;U+00ED&gt;ncipe P&lt;U+00ED&gt;o</td><td>NA</td><td>079</td><td>09</td><td>7.300246</td><td>0</td><td>0.08833869</td><td>1.3855767</td><td>0.92076145</td><td>1.1700512</td><td>5.62455975</td><td>0.9060857</td><td>POINT (-3.71956 40.4208)</td></tr>\n",
       "\t<tr><td>Transporte</td><td>Intercambiadores</td><td>Grandes Intercambiadores Plaza de Castilla         </td><td>079</td><td>Calle San Aquilino y Avenida de Asturias  </td><td>NA</td><td>079</td><td>05</td><td>9.933907</td><td>0</td><td>0.73687740</td><td>1.0733484</td><td>0.08835165</td><td>0.1490496</td><td>0.08316773</td><td>0.7758344</td><td>POINT (-3.689044 40.46719)</td></tr>\n",
       "\t<tr><td>Transporte</td><td>Intercambiadores</td><td>Grandes Intercambiadores Avenida de Am&lt;U+00E9&gt;rica </td><td>079</td><td><span style=white-space:pre-wrap>Avenida de Am&lt;U+00E9&gt;rica 9 A             </span></td><td>NA</td><td>079</td><td>05</td><td>9.198897</td><td>0</td><td>1.62310148</td><td>0.3488060</td><td>0.50695045</td><td>1.1979177</td><td>0.40303107</td><td>0.9512580</td><td>POINT (-3.676731 40.43797)</td></tr>\n",
       "</tbody>\n",
       "</table>\n"
      ],
      "text/latex": [
       "A tibble: 5 x 17\n",
       "\\begin{tabular}{lllllllllllllllll}\n",
       " grupo & tipo & nombre & CODMUN & DIRECCION & info & CMUN & CDIS & dist\\_aeropuerto & dist\\_intercambiador & dist\\_cercanias & dist\\_hospital & dist\\_universidad & dist\\_gob & dist\\_embajada & dist\\_ccomercial & geometry\\\\\n",
       " <chr> & <chr> & <chr> & <chr> & <chr> & <chr> & <chr> & <chr> & <dbl> & <dbl> & <dbl> & <dbl> & <dbl> & <dbl> & <dbl> & <dbl> & <POINT>\\\\\n",
       "\\hline\n",
       "\t Transporte & Intercambiadores & Grandes Intercambiadores Plaza El<U+00ED>ptica      & 079 & Plaza El<U+00ED>ptica s/n                  & NA & 079 & 12 & 5.203143 & 0 & 1.64897315 & 1.8154156 & 1.29960755 & 0.6177235 & 0.39213238 & 0.7311571 & POINT (-3.716577 40.3854)\\\\\n",
       "\t Transporte & Intercambiadores & Grandes Intercambiadores Moncloa                    & 079 & Calle Princesa, 89                         & NA & 079 & 09 & 8.550748 & 0 & 1.46863818 & 0.4221115 & 0.30460781 & 0.6263847 & 1.45739694 & 1.6105674 & POINT (-3.719508 40.43474)\\\\\n",
       "\t Transporte & Intercambiadores & Grandes Intercambiadores Pr<U+00ED>ncipe P<U+00ED>o & 079 & Estaci<U+00F3>n Pr<U+00ED>ncipe P<U+00ED>o & NA & 079 & 09 & 7.300246 & 0 & 0.08833869 & 1.3855767 & 0.92076145 & 1.1700512 & 5.62455975 & 0.9060857 & POINT (-3.71956 40.4208)\\\\\n",
       "\t Transporte & Intercambiadores & Grandes Intercambiadores Plaza de Castilla          & 079 & Calle San Aquilino y Avenida de Asturias   & NA & 079 & 05 & 9.933907 & 0 & 0.73687740 & 1.0733484 & 0.08835165 & 0.1490496 & 0.08316773 & 0.7758344 & POINT (-3.689044 40.46719)\\\\\n",
       "\t Transporte & Intercambiadores & Grandes Intercambiadores Avenida de Am<U+00E9>rica  & 079 & Avenida de Am<U+00E9>rica 9 A              & NA & 079 & 05 & 9.198897 & 0 & 1.62310148 & 0.3488060 & 0.50695045 & 1.1979177 & 0.40303107 & 0.9512580 & POINT (-3.676731 40.43797)\\\\\n",
       "\\end{tabular}\n"
      ],
      "text/markdown": [
       "\n",
       "A tibble: 5 x 17\n",
       "\n",
       "| grupo &lt;chr&gt; | tipo &lt;chr&gt; | nombre &lt;chr&gt; | CODMUN &lt;chr&gt; | DIRECCION &lt;chr&gt; | info &lt;chr&gt; | CMUN &lt;chr&gt; | CDIS &lt;chr&gt; | dist_aeropuerto &lt;dbl&gt; | dist_intercambiador &lt;dbl&gt; | dist_cercanias &lt;dbl&gt; | dist_hospital &lt;dbl&gt; | dist_universidad &lt;dbl&gt; | dist_gob &lt;dbl&gt; | dist_embajada &lt;dbl&gt; | dist_ccomercial &lt;dbl&gt; | geometry &lt;POINT&gt; |\n",
       "|---|---|---|---|---|---|---|---|---|---|---|---|---|---|---|---|---|\n",
       "| Transporte | Intercambiadores | Grandes Intercambiadores Plaza El&lt;U+00ED&gt;ptica      | 079 | Plaza El&lt;U+00ED&gt;ptica s/n                  | NA | 079 | 12 | 5.203143 | 0 | 1.64897315 | 1.8154156 | 1.29960755 | 0.6177235 | 0.39213238 | 0.7311571 | POINT (-3.716577 40.3854) |\n",
       "| Transporte | Intercambiadores | Grandes Intercambiadores Moncloa                    | 079 | Calle Princesa, 89                         | NA | 079 | 09 | 8.550748 | 0 | 1.46863818 | 0.4221115 | 0.30460781 | 0.6263847 | 1.45739694 | 1.6105674 | POINT (-3.719508 40.43474) |\n",
       "| Transporte | Intercambiadores | Grandes Intercambiadores Pr&lt;U+00ED&gt;ncipe P&lt;U+00ED&gt;o | 079 | Estaci&lt;U+00F3&gt;n Pr&lt;U+00ED&gt;ncipe P&lt;U+00ED&gt;o | NA | 079 | 09 | 7.300246 | 0 | 0.08833869 | 1.3855767 | 0.92076145 | 1.1700512 | 5.62455975 | 0.9060857 | POINT (-3.71956 40.4208) |\n",
       "| Transporte | Intercambiadores | Grandes Intercambiadores Plaza de Castilla          | 079 | Calle San Aquilino y Avenida de Asturias   | NA | 079 | 05 | 9.933907 | 0 | 0.73687740 | 1.0733484 | 0.08835165 | 0.1490496 | 0.08316773 | 0.7758344 | POINT (-3.689044 40.46719) |\n",
       "| Transporte | Intercambiadores | Grandes Intercambiadores Avenida de Am&lt;U+00E9&gt;rica  | 079 | Avenida de Am&lt;U+00E9&gt;rica 9 A              | NA | 079 | 05 | 9.198897 | 0 | 1.62310148 | 0.3488060 | 0.50695045 | 1.1979177 | 0.40303107 | 0.9512580 | POINT (-3.676731 40.43797) |\n",
       "\n"
      ],
      "text/plain": [
       "  grupo      tipo            \n",
       "1 Transporte Intercambiadores\n",
       "2 Transporte Intercambiadores\n",
       "3 Transporte Intercambiadores\n",
       "4 Transporte Intercambiadores\n",
       "5 Transporte Intercambiadores\n",
       "  nombre                                              CODMUN\n",
       "1 Grandes Intercambiadores Plaza El<U+00ED>ptica      079   \n",
       "2 Grandes Intercambiadores Moncloa                    079   \n",
       "3 Grandes Intercambiadores Pr<U+00ED>ncipe P<U+00ED>o 079   \n",
       "4 Grandes Intercambiadores Plaza de Castilla          079   \n",
       "5 Grandes Intercambiadores Avenida de Am<U+00E9>rica  079   \n",
       "  DIRECCION                                  info CMUN CDIS dist_aeropuerto\n",
       "1 Plaza El<U+00ED>ptica s/n                  NA   079  12   5.203143       \n",
       "2 Calle Princesa, 89                         NA   079  09   8.550748       \n",
       "3 Estaci<U+00F3>n Pr<U+00ED>ncipe P<U+00ED>o NA   079  09   7.300246       \n",
       "4 Calle San Aquilino y Avenida de Asturias   NA   079  05   9.933907       \n",
       "5 Avenida de Am<U+00E9>rica 9 A              NA   079  05   9.198897       \n",
       "  dist_intercambiador dist_cercanias dist_hospital dist_universidad dist_gob \n",
       "1 0                   1.64897315     1.8154156     1.29960755       0.6177235\n",
       "2 0                   1.46863818     0.4221115     0.30460781       0.6263847\n",
       "3 0                   0.08833869     1.3855767     0.92076145       1.1700512\n",
       "4 0                   0.73687740     1.0733484     0.08835165       0.1490496\n",
       "5 0                   1.62310148     0.3488060     0.50695045       1.1979177\n",
       "  dist_embajada dist_ccomercial geometry                  \n",
       "1 0.39213238    0.7311571       POINT (-3.716577 40.3854) \n",
       "2 1.45739694    1.6105674       POINT (-3.719508 40.43474)\n",
       "3 5.62455975    0.9060857       POINT (-3.71956 40.4208)  \n",
       "4 0.08316773    0.7758344       POINT (-3.689044 40.46719)\n",
       "5 0.40303107    0.9512580       POINT (-3.676731 40.43797)"
      ]
     },
     "metadata": {},
     "output_type": "display_data"
    }
   ],
   "source": [
    "tdata_sf |> slice_head(n = 5) |> tibble()"
   ]
  },
  {
   "attachments": {},
   "cell_type": "markdown",
   "metadata": {},
   "source": [
    "#### Data extract\n",
    "\n",
    "* Extraer solo tipo bocas de metro"
   ]
  },
  {
   "cell_type": "code",
   "execution_count": 11,
   "metadata": {
    "vscode": {
     "languageId": "r"
    }
   },
   "outputs": [],
   "source": [
    "edata <- tdata_sf |>\n",
    "    filter(tipo == \"Bocas de metro\")"
   ]
  },
  {
   "cell_type": "code",
   "execution_count": 12,
   "metadata": {
    "vscode": {
     "languageId": "r"
    }
   },
   "outputs": [
    {
     "name": "stdout",
     "output_type": "stream",
     "text": [
      "Rows: 771\n",
      "Columns: 17\n",
      "$ grupo               \u001b[3m\u001b[90m<chr>\u001b[39m\u001b[23m \"Transporte\", \"Transporte\", \"Transporte\", \"Transpo~\n",
      "$ tipo                \u001b[3m\u001b[90m<chr>\u001b[39m\u001b[23m \"Bocas de metro\", \"Bocas de metro\", \"Bocas de metr~\n",
      "$ nombre              \u001b[3m\u001b[90m<chr>\u001b[39m\u001b[23m \"Plaza de Castilla - Castellana\", \"Plaza de Castil~\n",
      "$ CODMUN              \u001b[3m\u001b[90m<chr>\u001b[39m\u001b[23m \"079\", \"079\", \"079\", \"079\", \"079\", \"079\", \"079\", \"~\n",
      "$ DIRECCION           \u001b[3m\u001b[90m<chr>\u001b[39m\u001b[23m \"Frente dep<U+00F3>sito C. Isabel II\", \"Paseo de la Caste~\n",
      "$ info                \u001b[3m\u001b[90m<chr>\u001b[39m\u001b[23m \"L<U+00ED>neas: 1, 10, 9\", \"L<U+00ED>neas: 1, 10, 9\", \"L<U+00ED>neas: 1~\n",
      "$ CMUN                \u001b[3m\u001b[90m<chr>\u001b[39m\u001b[23m \"079\", \"079\", \"079\", \"079\", \"079\", \"079\", \"079\", \"~\n",
      "$ CDIS                \u001b[3m\u001b[90m<chr>\u001b[39m\u001b[23m \"05\", \"06\", \"06\", \"06\", \"06\", \"06\", \"06\", \"06\", \"0~\n",
      "$ dist_aeropuerto     \u001b[3m\u001b[90m<dbl>\u001b[39m\u001b[23m 9.905774, 9.942879, 9.974996, 10.482757, 10.338293~\n",
      "$ dist_intercambiador \u001b[3m\u001b[90m<dbl>\u001b[39m\u001b[23m 0.190340745, 0.041478689, 0.041290988, 0.666464368~\n",
      "$ dist_cercanias      \u001b[3m\u001b[90m<dbl>\u001b[39m\u001b[23m 0.8811005, 0.7749713, 0.7651209, 1.3860106, 1.2245~\n",
      "$ dist_hospital       \u001b[3m\u001b[90m<dbl>\u001b[39m\u001b[23m 1.0921155, 1.0997205, 1.0512395, 1.2298147, 1.1677~\n",
      "$ dist_universidad    \u001b[3m\u001b[90m<dbl>\u001b[39m\u001b[23m 1.11680447, 1.31909995, 1.28279115, 0.55139515, 0.~\n",
      "$ dist_gob            \u001b[3m\u001b[90m<dbl>\u001b[39m\u001b[23m 0.7804341, 0.6398650, 0.6801415, 0.1105947, 1.1016~\n",
      "$ dist_embajada       \u001b[3m\u001b[90m<dbl>\u001b[39m\u001b[23m 0.40036461, 0.44549955, 0.45305634, 0.05910184, 0.~\n",
      "$ dist_ccomercial     \u001b[3m\u001b[90m<dbl>\u001b[39m\u001b[23m 0.8043085, 0.7790027, 0.8031386, 0.2866241, 0.4305~\n",
      "$ geometry            \u001b[3m\u001b[90m<POINT>\u001b[39m\u001b[23m POINT (-3.688866 40.46549), POINT (-3.689186 40.~\n"
     ]
    }
   ],
   "source": [
    "edata |> glimpse()"
   ]
  },
  {
   "attachments": {},
   "cell_type": "markdown",
   "metadata": {},
   "source": [
    "#### Data transform"
   ]
  },
  {
   "attachments": {},
   "cell_type": "markdown",
   "metadata": {},
   "source": [
    "* Obtener estación de metro\n",
    "    - En el nombre, está estación - salida"
   ]
  },
  {
   "cell_type": "code",
   "execution_count": 13,
   "metadata": {
    "vscode": {
     "languageId": "r"
    }
   },
   "outputs": [
    {
     "name": "stderr",
     "output_type": "stream",
     "text": [
      "Warning message:\n",
      "\"\u001b[1m\u001b[22mExpected 2 pieces. Additional pieces discarded in 41 rows [75, 82, 133, 159,\n",
      "160, 189, 190, 304, 305, 312, 313, 359, 367, 368, 370, 371, 372, 373, 374, 375,\n",
      "...].\"\n"
     ]
    }
   ],
   "source": [
    "tdata_estacion <- edata |>\n",
    "  mutate(tipo = \"Estaciones de metro\") |> \n",
    "  separate(nombre, c(\"nombre\", \"salida\"), sep = \" - \")"
   ]
  },
  {
   "cell_type": "code",
   "execution_count": 14,
   "metadata": {
    "vscode": {
     "languageId": "r"
    }
   },
   "outputs": [
    {
     "name": "stdout",
     "output_type": "stream",
     "text": [
      "Rows: 771\n",
      "Columns: 18\n",
      "$ grupo               \u001b[3m\u001b[90m<chr>\u001b[39m\u001b[23m \"Transporte\", \"Transporte\", \"Transporte\", \"Transpo~\n",
      "$ tipo                \u001b[3m\u001b[90m<chr>\u001b[39m\u001b[23m \"Estaciones de metro\", \"Estaciones de metro\", \"Est~\n",
      "$ nombre              \u001b[3m\u001b[90m<chr>\u001b[39m\u001b[23m \"Plaza de Castilla\", \"Plaza de Castilla\", \"Plaza d~\n",
      "$ salida              \u001b[3m\u001b[90m<chr>\u001b[39m\u001b[23m \"Castellana\", \"Plaza de Castilla\", \"P<U+00BA> Castellana,~\n",
      "$ CODMUN              \u001b[3m\u001b[90m<chr>\u001b[39m\u001b[23m \"079\", \"079\", \"079\", \"079\", \"079\", \"079\", \"079\", \"~\n",
      "$ DIRECCION           \u001b[3m\u001b[90m<chr>\u001b[39m\u001b[23m \"Frente dep<U+00F3>sito C. Isabel II\", \"Paseo de la Caste~\n",
      "$ info                \u001b[3m\u001b[90m<chr>\u001b[39m\u001b[23m \"L<U+00ED>neas: 1, 10, 9\", \"L<U+00ED>neas: 1, 10, 9\", \"L<U+00ED>neas: 1~\n",
      "$ CMUN                \u001b[3m\u001b[90m<chr>\u001b[39m\u001b[23m \"079\", \"079\", \"079\", \"079\", \"079\", \"079\", \"079\", \"~\n",
      "$ CDIS                \u001b[3m\u001b[90m<chr>\u001b[39m\u001b[23m \"05\", \"06\", \"06\", \"06\", \"06\", \"06\", \"06\", \"06\", \"0~\n",
      "$ dist_aeropuerto     \u001b[3m\u001b[90m<dbl>\u001b[39m\u001b[23m 9.905774, 9.942879, 9.974996, 10.482757, 10.338293~\n",
      "$ dist_intercambiador \u001b[3m\u001b[90m<dbl>\u001b[39m\u001b[23m 0.190340745, 0.041478689, 0.041290988, 0.666464368~\n",
      "$ dist_cercanias      \u001b[3m\u001b[90m<dbl>\u001b[39m\u001b[23m 0.8811005, 0.7749713, 0.7651209, 1.3860106, 1.2245~\n",
      "$ dist_hospital       \u001b[3m\u001b[90m<dbl>\u001b[39m\u001b[23m 1.0921155, 1.0997205, 1.0512395, 1.2298147, 1.1677~\n",
      "$ dist_universidad    \u001b[3m\u001b[90m<dbl>\u001b[39m\u001b[23m 1.11680447, 1.31909995, 1.28279115, 0.55139515, 0.~\n",
      "$ dist_gob            \u001b[3m\u001b[90m<dbl>\u001b[39m\u001b[23m 0.7804341, 0.6398650, 0.6801415, 0.1105947, 1.1016~\n",
      "$ dist_embajada       \u001b[3m\u001b[90m<dbl>\u001b[39m\u001b[23m 0.40036461, 0.44549955, 0.45305634, 0.05910184, 0.~\n",
      "$ dist_ccomercial     \u001b[3m\u001b[90m<dbl>\u001b[39m\u001b[23m 0.8043085, 0.7790027, 0.8031386, 0.2866241, 0.4305~\n",
      "$ geometry            \u001b[3m\u001b[90m<POINT>\u001b[39m\u001b[23m POINT (-3.688866 40.46549), POINT (-3.689186 40.~\n"
     ]
    }
   ],
   "source": [
    "tdata_estacion |> glimpse()"
   ]
  },
  {
   "attachments": {},
   "cell_type": "markdown",
   "metadata": {},
   "source": [
    "* Agrupar datos de bocas de metro en su estación\n",
    "    - Las distancias nos quedamos con la mínima de todas las bocas\n",
    "    - El resto, el primer valor (se supone que serían todos iguales)\n",
    "    - La geometría, el centroide de todas las bocas"
   ]
  },
  {
   "cell_type": "code",
   "execution_count": 15,
   "metadata": {
    "vscode": {
     "languageId": "r"
    }
   },
   "outputs": [
    {
     "name": "stderr",
     "output_type": "stream",
     "text": [
      "Warning message:\n",
      "\"\u001b[1m\u001b[22mExpected 2 pieces. Missing pieces filled with `NA` in 771 rows [1, 2, 3, 4, 5,\n",
      "6, 7, 8, 9, 10, 11, 12, 13, 14, 15, 16, 17, 18, 19, 20, ...].\"\n",
      "\u001b[1m\u001b[22m`summarise()` has grouped output by 'grupo', 'tipo'. You can override using the\n",
      "`.groups` argument.\n",
      "Warning message in st_centroid.sf(summarise(group_by(separate(mutate(tdata_estacion, :\n",
      "\"st_centroid assumes attributes are constant over geometries of x\"\n"
     ]
    }
   ],
   "source": [
    "tdata_agrupado <- tdata_estacion |> \n",
    "  mutate(tipo = \"Estaciones de metro\") |> \n",
    "  separate(nombre, c(\"nombre\", \"salida\"), sep = \" - \") |> \n",
    "  group_by(grupo, tipo, nombre) |>\n",
    "  summarise(across(CODMUN:CDIS, first),\n",
    "            across(dist_aeropuerto:dist_ccomercial, min)) |> \n",
    "  st_centroid()\n"
   ]
  },
  {
   "attachments": {},
   "cell_type": "markdown",
   "metadata": {},
   "source": [
    "* Geometrías a coordenadas numéricas para exportar a csv"
   ]
  },
  {
   "cell_type": "code",
   "execution_count": 16,
   "metadata": {
    "vscode": {
     "languageId": "r"
    }
   },
   "outputs": [],
   "source": [
    "tdata_metro <- tdata_agrupado |>\n",
    "    bind_cols(st_coordinates(tdata_agrupado)) |>\n",
    "    st_drop_geometry()"
   ]
  },
  {
   "attachments": {},
   "cell_type": "markdown",
   "metadata": {},
   "source": [
    "* Sustituir datos de metro "
   ]
  },
  {
   "cell_type": "code",
   "execution_count": 17,
   "metadata": {
    "vscode": {
     "languageId": "r"
    }
   },
   "outputs": [],
   "source": [
    "tdata_out <-\n",
    "    data |>\n",
    "    filter(tipo != \"Bocas de metro\") |>\n",
    "    bind_rows(tdata_metro)"
   ]
  },
  {
   "cell_type": "code",
   "execution_count": 18,
   "metadata": {
    "vscode": {
     "languageId": "r"
    }
   },
   "outputs": [
    {
     "name": "stdout",
     "output_type": "stream",
     "text": [
      "Rows: 1,138\n",
      "Columns: 18\n",
      "$ grupo               \u001b[3m\u001b[90m<chr>\u001b[39m\u001b[23m \"Transporte\", \"Transporte\", \"Transporte\", \"Transpo~\n",
      "$ tipo                \u001b[3m\u001b[90m<chr>\u001b[39m\u001b[23m \"Intercambiadores\", \"Intercambiadores\", \"Intercamb~\n",
      "$ nombre              \u001b[3m\u001b[90m<chr>\u001b[39m\u001b[23m \"Grandes Intercambiadores Plaza El<U+00ED>ptica\", \"Grande~\n",
      "$ CODMUN              \u001b[3m\u001b[90m<chr>\u001b[39m\u001b[23m \"079\", \"079\", \"079\", \"079\", \"079\", \"079\", \"079\", \"~\n",
      "$ DIRECCION           \u001b[3m\u001b[90m<chr>\u001b[39m\u001b[23m \"Plaza El<U+00ED>ptica s/n\", \"Calle Princesa, 89\", \"Estac~\n",
      "$ info                \u001b[3m\u001b[90m<chr>\u001b[39m\u001b[23m NA, NA, NA, NA, NA, NA, NA, NA, NA, NA, NA, NA, NA~\n",
      "$ CMUN                \u001b[3m\u001b[90m<chr>\u001b[39m\u001b[23m \"079\", \"079\", \"079\", \"079\", \"079\", \"079\", \"079\", \"~\n",
      "$ CDIS                \u001b[3m\u001b[90m<chr>\u001b[39m\u001b[23m \"12\", \"09\", \"09\", \"05\", \"05\", \"05\", \"06\", \"02\", \"0~\n",
      "$ dist_aeropuerto     \u001b[3m\u001b[90m<dbl>\u001b[39m\u001b[23m 5.2031430, 8.5507475, 7.3002463, 9.9339069, 9.1988~\n",
      "$ dist_intercambiador \u001b[3m\u001b[90m<dbl>\u001b[39m\u001b[23m 0.0000000, 0.0000000, 0.0000000, 0.0000000, 0.0000~\n",
      "$ dist_cercanias      \u001b[3m\u001b[90m<dbl>\u001b[39m\u001b[23m 1.648973148, 1.468638183, 0.088338692, 0.736877403~\n",
      "$ dist_hospital       \u001b[3m\u001b[90m<dbl>\u001b[39m\u001b[23m 1.8154156, 0.4221115, 1.3855767, 1.0733484, 0.3488~\n",
      "$ dist_universidad    \u001b[3m\u001b[90m<dbl>\u001b[39m\u001b[23m 1.29960755, 0.30460781, 0.92076145, 0.08835165, 0.~\n",
      "$ dist_gob            \u001b[3m\u001b[90m<dbl>\u001b[39m\u001b[23m 0.61772353, 0.62638474, 1.17005116, 0.14904962, 1.~\n",
      "$ dist_embajada       \u001b[3m\u001b[90m<dbl>\u001b[39m\u001b[23m 3.921324e-01, 1.457397e+00, 5.624560e+00, 8.316773~\n",
      "$ dist_ccomercial     \u001b[3m\u001b[90m<dbl>\u001b[39m\u001b[23m 0.73115706, 1.61056736, 0.90608573, 0.77583440, 0.~\n",
      "$ X                   \u001b[3m\u001b[90m<dbl>\u001b[39m\u001b[23m -3.716577, -3.719508, -3.719560, -3.689044, -3.676~\n",
      "$ Y                   \u001b[3m\u001b[90m<dbl>\u001b[39m\u001b[23m 40.38540, 40.43474, 40.42080, 40.46719, 40.43797, ~\n"
     ]
    }
   ],
   "source": [
    "tdata_out |> glimpse()"
   ]
  },
  {
   "cell_type": "code",
   "execution_count": 19,
   "metadata": {
    "vscode": {
     "languageId": "r"
    }
   },
   "outputs": [
    {
     "data": {
      "text/html": [
       "<table class=\"dataframe\">\n",
       "<caption>A spec_tbl_df: 5 x 18</caption>\n",
       "<thead>\n",
       "\t<tr><th scope=col>grupo</th><th scope=col>tipo</th><th scope=col>nombre</th><th scope=col>CODMUN</th><th scope=col>DIRECCION</th><th scope=col>info</th><th scope=col>CMUN</th><th scope=col>CDIS</th><th scope=col>dist_aeropuerto</th><th scope=col>dist_intercambiador</th><th scope=col>dist_cercanias</th><th scope=col>dist_hospital</th><th scope=col>dist_universidad</th><th scope=col>dist_gob</th><th scope=col>dist_embajada</th><th scope=col>dist_ccomercial</th><th scope=col>X</th><th scope=col>Y</th></tr>\n",
       "\t<tr><th scope=col>&lt;chr&gt;</th><th scope=col>&lt;chr&gt;</th><th scope=col>&lt;chr&gt;</th><th scope=col>&lt;chr&gt;</th><th scope=col>&lt;chr&gt;</th><th scope=col>&lt;chr&gt;</th><th scope=col>&lt;chr&gt;</th><th scope=col>&lt;chr&gt;</th><th scope=col>&lt;dbl&gt;</th><th scope=col>&lt;dbl&gt;</th><th scope=col>&lt;dbl&gt;</th><th scope=col>&lt;dbl&gt;</th><th scope=col>&lt;dbl&gt;</th><th scope=col>&lt;dbl&gt;</th><th scope=col>&lt;dbl&gt;</th><th scope=col>&lt;dbl&gt;</th><th scope=col>&lt;dbl&gt;</th><th scope=col>&lt;dbl&gt;</th></tr>\n",
       "</thead>\n",
       "<tbody>\n",
       "\t<tr><td>Transporte</td><td>Intercambiadores</td><td><span style=white-space:pre-wrap>Grandes Intercambiadores Plaza El&lt;U+00ED&gt;ptica     </span></td><td>079</td><td><span style=white-space:pre-wrap>Plaza El&lt;U+00ED&gt;ptica s/n                 </span></td><td>NA</td><td>079</td><td>12</td><td>5.203143</td><td>0</td><td>1.64897315</td><td>1.8154156</td><td>1.29960755</td><td>0.6177235</td><td>0.39213238</td><td>0.7311571</td><td>-3.716577</td><td>40.38540</td></tr>\n",
       "\t<tr><td>Transporte</td><td>Intercambiadores</td><td>Grandes Intercambiadores Moncloa                   </td><td>079</td><td>Calle Princesa, 89                        </td><td>NA</td><td>079</td><td>09</td><td>8.550748</td><td>0</td><td>1.46863818</td><td>0.4221115</td><td>0.30460781</td><td>0.6263847</td><td>1.45739694</td><td>1.6105674</td><td>-3.719508</td><td>40.43474</td></tr>\n",
       "\t<tr><td>Transporte</td><td>Intercambiadores</td><td>Grandes Intercambiadores Pr&lt;U+00ED&gt;ncipe P&lt;U+00ED&gt;o</td><td>079</td><td>Estaci&lt;U+00F3&gt;n Pr&lt;U+00ED&gt;ncipe P&lt;U+00ED&gt;o</td><td>NA</td><td>079</td><td>09</td><td>7.300246</td><td>0</td><td>0.08833869</td><td>1.3855767</td><td>0.92076145</td><td>1.1700512</td><td>5.62455975</td><td>0.9060857</td><td>-3.719560</td><td>40.42080</td></tr>\n",
       "\t<tr><td>Transporte</td><td>Intercambiadores</td><td>Grandes Intercambiadores Plaza de Castilla         </td><td>079</td><td>Calle San Aquilino y Avenida de Asturias  </td><td>NA</td><td>079</td><td>05</td><td>9.933907</td><td>0</td><td>0.73687740</td><td>1.0733484</td><td>0.08835165</td><td>0.1490496</td><td>0.08316773</td><td>0.7758344</td><td>-3.689044</td><td>40.46719</td></tr>\n",
       "\t<tr><td>Transporte</td><td>Intercambiadores</td><td>Grandes Intercambiadores Avenida de Am&lt;U+00E9&gt;rica </td><td>079</td><td><span style=white-space:pre-wrap>Avenida de Am&lt;U+00E9&gt;rica 9 A             </span></td><td>NA</td><td>079</td><td>05</td><td>9.198897</td><td>0</td><td>1.62310148</td><td>0.3488060</td><td>0.50695045</td><td>1.1979177</td><td>0.40303107</td><td>0.9512580</td><td>-3.676731</td><td>40.43797</td></tr>\n",
       "</tbody>\n",
       "</table>\n"
      ],
      "text/latex": [
       "A spec\\_tbl\\_df: 5 x 18\n",
       "\\begin{tabular}{llllllllllllllllll}\n",
       " grupo & tipo & nombre & CODMUN & DIRECCION & info & CMUN & CDIS & dist\\_aeropuerto & dist\\_intercambiador & dist\\_cercanias & dist\\_hospital & dist\\_universidad & dist\\_gob & dist\\_embajada & dist\\_ccomercial & X & Y\\\\\n",
       " <chr> & <chr> & <chr> & <chr> & <chr> & <chr> & <chr> & <chr> & <dbl> & <dbl> & <dbl> & <dbl> & <dbl> & <dbl> & <dbl> & <dbl> & <dbl> & <dbl>\\\\\n",
       "\\hline\n",
       "\t Transporte & Intercambiadores & Grandes Intercambiadores Plaza El<U+00ED>ptica      & 079 & Plaza El<U+00ED>ptica s/n                  & NA & 079 & 12 & 5.203143 & 0 & 1.64897315 & 1.8154156 & 1.29960755 & 0.6177235 & 0.39213238 & 0.7311571 & -3.716577 & 40.38540\\\\\n",
       "\t Transporte & Intercambiadores & Grandes Intercambiadores Moncloa                    & 079 & Calle Princesa, 89                         & NA & 079 & 09 & 8.550748 & 0 & 1.46863818 & 0.4221115 & 0.30460781 & 0.6263847 & 1.45739694 & 1.6105674 & -3.719508 & 40.43474\\\\\n",
       "\t Transporte & Intercambiadores & Grandes Intercambiadores Pr<U+00ED>ncipe P<U+00ED>o & 079 & Estaci<U+00F3>n Pr<U+00ED>ncipe P<U+00ED>o & NA & 079 & 09 & 7.300246 & 0 & 0.08833869 & 1.3855767 & 0.92076145 & 1.1700512 & 5.62455975 & 0.9060857 & -3.719560 & 40.42080\\\\\n",
       "\t Transporte & Intercambiadores & Grandes Intercambiadores Plaza de Castilla          & 079 & Calle San Aquilino y Avenida de Asturias   & NA & 079 & 05 & 9.933907 & 0 & 0.73687740 & 1.0733484 & 0.08835165 & 0.1490496 & 0.08316773 & 0.7758344 & -3.689044 & 40.46719\\\\\n",
       "\t Transporte & Intercambiadores & Grandes Intercambiadores Avenida de Am<U+00E9>rica  & 079 & Avenida de Am<U+00E9>rica 9 A              & NA & 079 & 05 & 9.198897 & 0 & 1.62310148 & 0.3488060 & 0.50695045 & 1.1979177 & 0.40303107 & 0.9512580 & -3.676731 & 40.43797\\\\\n",
       "\\end{tabular}\n"
      ],
      "text/markdown": [
       "\n",
       "A spec_tbl_df: 5 x 18\n",
       "\n",
       "| grupo &lt;chr&gt; | tipo &lt;chr&gt; | nombre &lt;chr&gt; | CODMUN &lt;chr&gt; | DIRECCION &lt;chr&gt; | info &lt;chr&gt; | CMUN &lt;chr&gt; | CDIS &lt;chr&gt; | dist_aeropuerto &lt;dbl&gt; | dist_intercambiador &lt;dbl&gt; | dist_cercanias &lt;dbl&gt; | dist_hospital &lt;dbl&gt; | dist_universidad &lt;dbl&gt; | dist_gob &lt;dbl&gt; | dist_embajada &lt;dbl&gt; | dist_ccomercial &lt;dbl&gt; | X &lt;dbl&gt; | Y &lt;dbl&gt; |\n",
       "|---|---|---|---|---|---|---|---|---|---|---|---|---|---|---|---|---|---|\n",
       "| Transporte | Intercambiadores | Grandes Intercambiadores Plaza El&lt;U+00ED&gt;ptica      | 079 | Plaza El&lt;U+00ED&gt;ptica s/n                  | NA | 079 | 12 | 5.203143 | 0 | 1.64897315 | 1.8154156 | 1.29960755 | 0.6177235 | 0.39213238 | 0.7311571 | -3.716577 | 40.38540 |\n",
       "| Transporte | Intercambiadores | Grandes Intercambiadores Moncloa                    | 079 | Calle Princesa, 89                         | NA | 079 | 09 | 8.550748 | 0 | 1.46863818 | 0.4221115 | 0.30460781 | 0.6263847 | 1.45739694 | 1.6105674 | -3.719508 | 40.43474 |\n",
       "| Transporte | Intercambiadores | Grandes Intercambiadores Pr&lt;U+00ED&gt;ncipe P&lt;U+00ED&gt;o | 079 | Estaci&lt;U+00F3&gt;n Pr&lt;U+00ED&gt;ncipe P&lt;U+00ED&gt;o | NA | 079 | 09 | 7.300246 | 0 | 0.08833869 | 1.3855767 | 0.92076145 | 1.1700512 | 5.62455975 | 0.9060857 | -3.719560 | 40.42080 |\n",
       "| Transporte | Intercambiadores | Grandes Intercambiadores Plaza de Castilla          | 079 | Calle San Aquilino y Avenida de Asturias   | NA | 079 | 05 | 9.933907 | 0 | 0.73687740 | 1.0733484 | 0.08835165 | 0.1490496 | 0.08316773 | 0.7758344 | -3.689044 | 40.46719 |\n",
       "| Transporte | Intercambiadores | Grandes Intercambiadores Avenida de Am&lt;U+00E9&gt;rica  | 079 | Avenida de Am&lt;U+00E9&gt;rica 9 A              | NA | 079 | 05 | 9.198897 | 0 | 1.62310148 | 0.3488060 | 0.50695045 | 1.1979177 | 0.40303107 | 0.9512580 | -3.676731 | 40.43797 |\n",
       "\n"
      ],
      "text/plain": [
       "  grupo      tipo            \n",
       "1 Transporte Intercambiadores\n",
       "2 Transporte Intercambiadores\n",
       "3 Transporte Intercambiadores\n",
       "4 Transporte Intercambiadores\n",
       "5 Transporte Intercambiadores\n",
       "  nombre                                              CODMUN\n",
       "1 Grandes Intercambiadores Plaza El<U+00ED>ptica      079   \n",
       "2 Grandes Intercambiadores Moncloa                    079   \n",
       "3 Grandes Intercambiadores Pr<U+00ED>ncipe P<U+00ED>o 079   \n",
       "4 Grandes Intercambiadores Plaza de Castilla          079   \n",
       "5 Grandes Intercambiadores Avenida de Am<U+00E9>rica  079   \n",
       "  DIRECCION                                  info CMUN CDIS dist_aeropuerto\n",
       "1 Plaza El<U+00ED>ptica s/n                  NA   079  12   5.203143       \n",
       "2 Calle Princesa, 89                         NA   079  09   8.550748       \n",
       "3 Estaci<U+00F3>n Pr<U+00ED>ncipe P<U+00ED>o NA   079  09   7.300246       \n",
       "4 Calle San Aquilino y Avenida de Asturias   NA   079  05   9.933907       \n",
       "5 Avenida de Am<U+00E9>rica 9 A              NA   079  05   9.198897       \n",
       "  dist_intercambiador dist_cercanias dist_hospital dist_universidad dist_gob \n",
       "1 0                   1.64897315     1.8154156     1.29960755       0.6177235\n",
       "2 0                   1.46863818     0.4221115     0.30460781       0.6263847\n",
       "3 0                   0.08833869     1.3855767     0.92076145       1.1700512\n",
       "4 0                   0.73687740     1.0733484     0.08835165       0.1490496\n",
       "5 0                   1.62310148     0.3488060     0.50695045       1.1979177\n",
       "  dist_embajada dist_ccomercial X         Y       \n",
       "1 0.39213238    0.7311571       -3.716577 40.38540\n",
       "2 1.45739694    1.6105674       -3.719508 40.43474\n",
       "3 5.62455975    0.9060857       -3.719560 40.42080\n",
       "4 0.08316773    0.7758344       -3.689044 40.46719\n",
       "5 0.40303107    0.9512580       -3.676731 40.43797"
      ]
     },
     "metadata": {},
     "output_type": "display_data"
    }
   ],
   "source": [
    "tdata_out |> slice_head(n = 5)"
   ]
  },
  {
   "attachments": {},
   "cell_type": "markdown",
   "metadata": {},
   "source": [
    "Si no aplica: Estos datos no requieren tareas de este tipo."
   ]
  },
  {
   "cell_type": "markdown",
   "metadata": {
    "slideshow": {
     "slide_type": "slide"
    }
   },
   "source": [
    "## Synthetic Data Generation"
   ]
  },
  {
   "attachments": {},
   "cell_type": "markdown",
   "metadata": {
    "slideshow": {
     "slide_type": "slide"
    }
   },
   "source": [
    "No aplica"
   ]
  },
  {
   "cell_type": "markdown",
   "metadata": {
    "slideshow": {
     "slide_type": "slide"
    }
   },
   "source": [
    "## Fake Data Generation"
   ]
  },
  {
   "attachments": {},
   "cell_type": "markdown",
   "metadata": {
    "slideshow": {
     "slide_type": "slide"
    }
   },
   "source": [
    "No aplica"
   ]
  },
  {
   "cell_type": "markdown",
   "metadata": {
    "slideshow": {
     "slide_type": "slide"
    }
   },
   "source": [
    "## Open Data"
   ]
  },
  {
   "attachments": {},
   "cell_type": "markdown",
   "metadata": {
    "slideshow": {
     "slide_type": "slide"
    }
   },
   "source": [
    "Los datos originales fueron descargados de fuentes abiertas"
   ]
  },
  {
   "cell_type": "markdown",
   "metadata": {},
   "source": [
    "## <font color='green'>Data Save</font>"
   ]
  },
  {
   "attachments": {},
   "cell_type": "markdown",
   "metadata": {},
   "source": [
    "Este proceso, puede copiarse y repetirse en aquellas partes del notebbok que necesiten guardar datos.\n",
    "Recuerde cambiar las cadenas añadida del fichero para diferenciarlas"
   ]
  },
  {
   "cell_type": "markdown",
   "metadata": {},
   "source": [
    "<font color='tomato'> Identificamos los datos a guardar</font>"
   ]
  },
  {
   "cell_type": "code",
   "execution_count": 20,
   "metadata": {
    "ExecuteTime": {
     "end_time": "2020-12-25T17:59:27.022001Z",
     "start_time": "2020-12-25T17:59:15.986986Z"
    },
    "scrolled": false,
    "vscode": {
     "languageId": "r"
    }
   },
   "outputs": [],
   "source": [
    "data_to_save <- tdata_out"
   ]
  },
  {
   "attachments": {},
   "cell_type": "markdown",
   "metadata": {},
   "source": [
    "\n",
    "<font color='tomato'>Estructura de nombre de archivos:</font>\n",
    "\n",
    "* Código del caso de uso, por ejemplo \"CU_04\"\n",
    "* Número del proceso que lo genera, por ejemplo \"_05\".\n",
    "* Número de la tarea que lo genera, por ejemplo \"_01\"\n",
    "* En caso de generarse varios ficheros en la misma tarea, llevarán _01 _02 ... después\n",
    "* Nombre: identificativo de \"properData\", por ejemplo \"_zonasgeo\"\n",
    "* Extensión del archivo\n",
    "\n",
    "Ejemplo: \"CU_04_05_01_01_zonasgeo.json, primer fichero que se genera en la tarea 01 del proceso 05 (Data Collection) para el caso de uso 04 (vacunas)\n",
    "\n",
    "Importante mantener los guiones bajos antes de proceso, tarea, archivo y nombre"
   ]
  },
  {
   "attachments": {},
   "cell_type": "markdown",
   "metadata": {},
   "source": [
    "### Proceso 05"
   ]
  },
  {
   "cell_type": "code",
   "execution_count": 21,
   "metadata": {
    "ExecuteTime": {
     "end_time": "2020-12-25T17:59:27.022001Z",
     "start_time": "2020-12-25T17:59:15.986986Z"
    },
    "scrolled": false,
    "vscode": {
     "languageId": "r"
    }
   },
   "outputs": [],
   "source": [
    "caso <- \"CU_18\"\n",
    "proceso <- '_05'\n",
    "tarea <- \"_18\"\n",
    "archivo <- \"\"\n",
    "proper <- \"_infraestructuras\"\n",
    "extension <- \".csv\""
   ]
  },
  {
   "attachments": {},
   "cell_type": "markdown",
   "metadata": {},
   "source": [
    "<font color='tomato'><b> OPCION A:</b> Uso del paquete \"tcltk\" para mayor comodidad</font>\n",
    "\n",
    "* Buscar carpeta, escribir nombre de archivo SIN extensión (se especifica en el código)\n",
    "* Especificar sufijo2 si es necesario\n",
    "* Cambiar datos por datos_xx si es necesario"
   ]
  },
  {
   "cell_type": "code",
   "execution_count": 22,
   "metadata": {
    "ExecuteTime": {
     "end_time": "2020-12-25T17:59:27.022001Z",
     "start_time": "2020-12-25T17:59:15.986986Z"
    },
    "scrolled": false,
    "vscode": {
     "languageId": "r"
    }
   },
   "outputs": [],
   "source": [
    "# file_save <- paste0(caso, proceso, tarea, tcltk::tkgetSaveFile(), proper, extension) \n",
    "# path_out <- paste0(oPath, file_save)\n",
    "# write_csv(data_to_save, path_out)\n",
    "\n",
    "# cat('File saved as: ')\n",
    "# path_out"
   ]
  },
  {
   "attachments": {},
   "cell_type": "markdown",
   "metadata": {},
   "source": [
    "<font color='tomato'><b> OPCION B:</b> Especificar el nombre de archivo</font>"
   ]
  },
  {
   "attachments": {},
   "cell_type": "markdown",
   "metadata": {},
   "source": [
    "- Los ficheros de salida del proceso van siempre a Data/Output/.  "
   ]
  },
  {
   "cell_type": "code",
   "execution_count": 23,
   "metadata": {
    "ExecuteTime": {
     "end_time": "2021-01-26T18:40:31.258294Z",
     "start_time": "2021-01-26T18:40:26.061847Z"
    },
    "slideshow": {
     "slide_type": "subslide"
    },
    "vscode": {
     "languageId": "r"
    }
   },
   "outputs": [
    {
     "name": "stdout",
     "output_type": "stream",
     "text": [
      "File saved as: "
     ]
    },
    {
     "data": {
      "text/html": [
       "'Data/Output/CU_18_05_18_infraestructuras.csv'"
      ],
      "text/latex": [
       "'Data/Output/CU\\_18\\_05\\_18\\_infraestructuras.csv'"
      ],
      "text/markdown": [
       "'Data/Output/CU_18_05_18_infraestructuras.csv'"
      ],
      "text/plain": [
       "[1] \"Data/Output/CU_18_05_18_infraestructuras.csv\""
      ]
     },
     "metadata": {},
     "output_type": "display_data"
    }
   ],
   "source": [
    "file_save <- paste0(caso, proceso, tarea, archivo, proper, extension) \n",
    "path_out <- paste0(oPath, file_save)\n",
    "write_csv(data_to_save, path_out)\n",
    "\n",
    "cat('File saved as: ')\n",
    "path_out"
   ]
  },
  {
   "attachments": {},
   "cell_type": "markdown",
   "metadata": {},
   "source": [
    "#### Copia del fichero a Input\n",
    "\n",
    "Si el archivo se va a usar en otros notebooks, copiar a la carpeta Input (descomentar si hace falta)"
   ]
  },
  {
   "cell_type": "code",
   "execution_count": 24,
   "metadata": {
    "vscode": {
     "languageId": "r"
    }
   },
   "outputs": [],
   "source": [
    "# path_in <- paste0(iPath, file_save)\n",
    "# file.copy(path_out, path_in, overwrite = TRUE)"
   ]
  },
  {
   "cell_type": "markdown",
   "metadata": {},
   "source": [
    "## <font color=' #2874a6 '>Main Conclusions</font>"
   ]
  },
  {
   "cell_type": "markdown",
   "metadata": {
    "slideshow": {
     "slide_type": "slide"
    }
   },
   "source": [
    "<font color='steelblue'>List and describe the general conclusions of the analysis carried out​.</font>"
   ]
  },
  {
   "attachments": {},
   "cell_type": "markdown",
   "metadata": {},
   "source": [
    "### Prerequisites\n",
    "\n",
    "Para que funcione este código se necesita:\n",
    "\n",
    "* Las rutas de archivos `Data/Input` y `Data/Output` deben existir (relativas a la ruta del _notebook_)\n",
    "* El paquete tcltk instalado para seleccionar archivos interactivamente. No se necesita en producción.\n",
    "* Los paquetes tcltk, sf, readr, dplyr, tidyr deben estar instalados.\n"
   ]
  },
  {
   "attachments": {},
   "cell_type": "markdown",
   "metadata": {},
   "source": [
    "### Configuration Management\n",
    "\n",
    "This notebook has been tested with the following versions of R and packages. It cannot be assured that later versions work in the same way:\n",
    "* R 4.2.2\n",
    "* tcltk 4.2.2\n",
    "* sf 1.0.9\n",
    "* readr 2.1.3\n",
    "* dplyr 1.0.10\n",
    "* tidyr 1.3.0"
   ]
  },
  {
   "attachments": {},
   "cell_type": "markdown",
   "metadata": {},
   "source": [
    "### Data structures"
   ]
  },
  {
   "attachments": {},
   "cell_type": "markdown",
   "metadata": {},
   "source": [
    "#### Objeto `data`\n",
    "\n",
    "- Hay 1138 filas con las variables:\n",
    "\t* grupo\n",
    "\t* tipo\n",
    "\t* nombre\n",
    "\t* CODMUN\n",
    "\t* DIRECCION\n",
    "\t* info\n",
    "\t* CMUN\n",
    "\t* CDIS\n",
    "\t* dist_aeropuerto\n",
    "\t* dist_intercambiador\n",
    "\t* dist_cercanias\n",
    "\t* dist_hospital\n",
    "\t* dist_universidad\n",
    "\t* dist_gob\n",
    "\t* dist_embajada\n",
    "\t* dist_ccomercial\n",
    "\t* X\n",
    "\t* Y\n"
   ]
  },
  {
   "attachments": {},
   "cell_type": "markdown",
   "metadata": {},
   "source": [
    "#### Observaciones generales sobre los datos\n",
    "\n",
    "* Se ha reducido al número de puntos considerablemente\n"
   ]
  },
  {
   "attachments": {},
   "cell_type": "markdown",
   "metadata": {},
   "source": [
    "### Consideraciones para despliegue en piloto\n",
    "\n",
    "* Ninguna"
   ]
  },
  {
   "attachments": {},
   "cell_type": "markdown",
   "metadata": {},
   "source": [
    "### Consideraciones para despliegue en producción\n",
    "\n",
    "* Se deben crear los procesos ETL en producción necesarios para que los datos de entrada estén actualizados"
   ]
  },
  {
   "cell_type": "markdown",
   "metadata": {},
   "source": [
    "## <font color=' #2874a6 '>Main Actions</font>"
   ]
  },
  {
   "cell_type": "markdown",
   "metadata": {},
   "source": [
    "#### <font color=' #2874a6 '>Acciones done</font>"
   ]
  },
  {
   "cell_type": "markdown",
   "metadata": {
    "slideshow": {
     "slide_type": "slide"
    }
   },
   "source": [
    "<font color='steelblue'>Indicate the actions that have been carried out in this process</font>"
   ]
  },
  {
   "attachments": {},
   "cell_type": "markdown",
   "metadata": {},
   "source": [
    "- Se han calculado los centroides de las estaciones de metro con más de una boca\n",
    "- Se han calculad las distancias mínimas a puntos relevantes desde todas las bocas de metro"
   ]
  },
  {
   "cell_type": "markdown",
   "metadata": {},
   "source": [
    "#### <font color=' #2874a6 '>Acctions to perform</font>"
   ]
  },
  {
   "cell_type": "markdown",
   "metadata": {
    "slideshow": {
     "slide_type": "slide"
    }
   },
   "source": [
    "<font color='steelblue'>Indicate the actions that must be carried out in subsequent processes</font>"
   ]
  },
  {
   "attachments": {},
   "cell_type": "markdown",
   "metadata": {},
   "source": [
    "- Se deben obtener datos de demanda y capacidad diaria de todas las infraestructuras resultantes"
   ]
  },
  {
   "attachments": {},
   "cell_type": "markdown",
   "metadata": {},
   "source": [
    "## <font color='RED'>CODE TO DEPLOY (PILOT)</font>\n",
    "\n",
    "A continuación se incluirá el código que deba ser llevado a despliegue para producción, dado que se entiende efectúa operaciones necesarias sobre los datos en la ejecución del prototipo"
   ]
  },
  {
   "attachments": {},
   "cell_type": "markdown",
   "metadata": {},
   "source": [
    "<font color=' red '><b>Description</b></font>\n",
    "\n",
    "- No hay nada que desplegar en el piloto, ya que estos datos son estáticos o en todo caso cambian con muy poca frecuencia, altamente improbable durante el proyecto.\n"
   ]
  },
  {
   "attachments": {},
   "cell_type": "markdown",
   "metadata": {},
   "source": [
    "<font color=' red '><b>CODE</b></font>"
   ]
  },
  {
   "cell_type": "code",
   "execution_count": 28,
   "metadata": {
    "vscode": {
     "languageId": "r"
    }
   },
   "outputs": [],
   "source": [
    "# incluir código"
   ]
  }
 ],
 "metadata": {
  "anaconda-cloud": {},
  "celltoolbar": "Slideshow",
  "hide_input": false,
  "kernelspec": {
   "display_name": "R",
   "language": "R",
   "name": "ir"
  },
  "language_info": {
   "codemirror_mode": "r",
   "file_extension": ".r",
   "mimetype": "text/x-r-source",
   "name": "R",
   "pygments_lexer": "r",
   "version": "4.2.2"
  },
  "latex_envs": {
   "LaTeX_envs_menu_present": true,
   "autoclose": false,
   "autocomplete": true,
   "bibliofile": "biblio.bib",
   "cite_by": "apalike",
   "current_citInitial": 1,
   "eqLabelWithNumbers": true,
   "eqNumInitial": 1,
   "hotkeys": {
    "equation": "Ctrl-E",
    "itemize": "Ctrl-I"
   },
   "labels_anchors": false,
   "latex_user_defs": false,
   "report_style_numbering": true,
   "user_envs_cfg": false
  },
  "toc": {
   "base_numbering": 1,
   "nav_menu": {
    "height": "11.6px",
    "width": "160px"
   },
   "number_sections": false,
   "sideBar": true,
   "skip_h1_title": true,
   "title_cell": "Table of Contents",
   "title_sidebar": "Contents",
   "toc_cell": true,
   "toc_position": {
    "height": "calc(100% - 180px)",
    "left": "10px",
    "top": "150px",
    "width": "209.2px"
   },
   "toc_section_display": true,
   "toc_window_display": true
  },
  "varInspector": {
   "cols": {
    "lenName": 16,
    "lenType": 16,
    "lenVar": 40
   },
   "kernels_config": {
    "python": {
     "delete_cmd_postfix": "",
     "delete_cmd_prefix": "del ",
     "library": "var_list.py",
     "varRefreshCmd": "print(var_dic_list())"
    },
    "r": {
     "delete_cmd_postfix": ") ",
     "delete_cmd_prefix": "rm(",
     "library": "var_list.r",
     "varRefreshCmd": "cat(var_dic_list()) "
    }
   },
   "types_to_exclude": [
    "module",
    "function",
    "builtin_function_or_method",
    "instance",
    "_Feature"
   ],
   "window_display": false
  }
 },
 "nbformat": 4,
 "nbformat_minor": 1
}
