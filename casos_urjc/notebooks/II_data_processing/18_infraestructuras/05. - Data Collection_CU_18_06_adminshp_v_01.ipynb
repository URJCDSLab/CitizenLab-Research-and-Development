{
 "cells": [
  {
   "cell_type": "markdown",
   "metadata": {
    "slideshow": {
     "slide_type": "slide"
    }
   },
   "source": [
    "<img src=\".\\images\\Logo.png\" width=150 align=\"left\" /> <img src=\".\\images\\Logo2.jpg\" width=450 align=\"right\" />"
   ]
  },
  {
   "attachments": {},
   "cell_type": "markdown",
   "metadata": {
    "slideshow": {
     "slide_type": "slide"
    }
   },
   "source": [
    "\n",
    "# <center><font color= #1e8449 > <b>CU18_Infraestructuras_eventos</font></center>"
   ]
  },
  {
   "cell_type": "markdown",
   "metadata": {
    "slideshow": {
     "slide_type": "slide"
    }
   },
   "source": [
    "<font color='steelblue'><b>Citizenlab Data Science Methodology > II - Data Processing Domain </font>\n",
    "***\n",
    "> # <font color='steelblue'> <b>05.- Data Collection</font>"
   ]
  },
  {
   "cell_type": "markdown",
   "metadata": {
    "slideshow": {
     "slide_type": "slide"
    }
   },
   "source": [
    "<font color='steelblue'>Data Collection is the process to obtain and generate (if required) necessary data to model the problem.</font>"
   ]
  },
  {
   "attachments": {},
   "cell_type": "markdown",
   "metadata": {},
   "source": [
    "### 01. Descargar datos de localización de empresas y administraciones\n",
    "\n",
    "* En esta tarea se descargan los datos actualizados de establecimientos comerciales, educativos y de administraciones públicas (no sanitarias)\n",
    "* En el piloto, se han descargado los datos en formato shp siguientes de la url https://gestiona.comunidad.madrid/nomecalles/DescargaBDTCorte.icm#delimitacionesterritoriales:\n",
    "\n",
    "- Administración pública_ Agencia Tributaria.zip\n",
    "- Administración pública_ Ayuntamientos, Consejerías, Ministerios, etc..zip\n",
    "- Administración pública_ Embajadas y consulados.zip\n",
    "- Administración pública_ Oficinas de empleo.zip\n",
    "- Administración pública_ Seguridad Social.zip\n",
    "- Administración Pública. Administración de Justicia.zip\n",
    "- Colectivo empresarial por tamaño y actividad.zip\n",
    "- Comercio_ Centros comerciales.zip\n",
    "- Comercio_ Galerías de alimentación.zip\n",
    "- Comercio_ Grandes superficies especializadas.zip\n",
    "- Comercio_ Hipermercados.zip\n",
    "- Comercio_ Mercadillos.zip\n",
    "- Comercio_ Mercados de abastos.zip\n",
    "- Comercio_ Otros servicios. Bancos.zip\n",
    "- Educación_ Campus universitarios.zip\n",
    "- Educación_ Centros educativos no universitarios. Centros privados.zip\n",
    "- Educación_ Centros educativos no universitarios. Centros públicos.zip\n",
    "- Educación_ Centros educativos no universitarios. Servicios educativos.zip\n",
    "- Educación_ Centros educativos universitarios.zip\n",
    "- Educación_ Colegios mayores.zip\n",
    "\n",
    "Establecimientos de administración, colectivo empresarial, comercio y educación. Datos disponibles en formato shp\n",
    "\n",
    "\n",
    "\n",
    "\n",
    "\n",
    "\n"
   ]
  },
  {
   "cell_type": "markdown",
   "metadata": {
    "toc": true
   },
   "source": [
    "<h1>Table of Contents<span class=\"tocSkip\"></span></h1>\n",
    "<div class=\"toc\"><ul class=\"toc-item\"><li><span><a href=\"#Settings\" data-toc-modified-id=\"Settings-1\"><font color=\"green\">Settings</font></a></span></li><li><span><a href=\"#Data-Load\" data-toc-modified-id=\"Data-Load-2\"><font color=\"green\">Data Load</font></a></span></li><li><span><a href=\"#ETL-Processes\" data-toc-modified-id=\"ETL-Processes-3\">ETL Processes</a></span><ul class=\"toc-item\"><li><span><a href=\"#Import-data-from:-CSV,-Excel,-Tab,-JSON,-SQL,-and-Parquet-files\" data-toc-modified-id=\"Import-data-from:-CSV,-Excel,-Tab,-JSON,-SQL,-and-Parquet-files-3.1\">Import data from: CSV, Excel, Tab, JSON, SQL, and Parquet files</a></span></li></ul></li><li><span><a href=\"#Synthetic-Data-Generation\" data-toc-modified-id=\"Synthetic-Data-Generation-4\">Synthetic Data Generation</a></span></li><li><span><a href=\"#Fake-Data-Generation\" data-toc-modified-id=\"Fake-Data-Generation-5\">Fake Data Generation</a></span></li><li><span><a href=\"#Open-Data\" data-toc-modified-id=\"Open-Data-6\">Open Data</a></span></li><li><span><a href=\"#Data-Save\" data-toc-modified-id=\"Data-Save-7\"><font color=\"green\">Data Save</font></a></span></li><li><span><a href=\"#Main-Conclusions\" data-toc-modified-id=\"Main-Conclusions-8\"><font color=\" #2874a6 \">Main Conclusions</font></a></span></li><li><span><a href=\"#Main-Actions\" data-toc-modified-id=\"Main-Actions-9\"><font color=\" #2874a6 \">Main Actions</font></a></span><ul class=\"toc-item\"><li><ul class=\"toc-item\"><li><span><a href=\"#Acciones-done\" data-toc-modified-id=\"Acciones-done-9.0.1\"><font color=\" #2874a6 \">Acciones done</font></a></span></li><li><span><a href=\"#Acctions-to-perform\" data-toc-modified-id=\"Acctions-to-perform-9.0.2\"><font color=\" #2874a6 \">Acctions to perform</font></a></span></li></ul></li></ul></li></ul></div>"
   ]
  },
  {
   "cell_type": "markdown",
   "metadata": {
    "slideshow": {
     "slide_type": "slide"
    }
   },
   "source": [
    "## <font color='green'>Settings</font>"
   ]
  },
  {
   "attachments": {},
   "cell_type": "markdown",
   "metadata": {},
   "source": [
    "### Packages to use\n",
    "\n",
    "No aplica\n"
   ]
  },
  {
   "cell_type": "code",
   "execution_count": null,
   "metadata": {
    "ExecuteTime": {
     "end_time": "2021-12-03T15:23:33.762841Z",
     "start_time": "2021-12-03T15:23:08.580267Z"
    },
    "slideshow": {
     "slide_type": "subslide"
    },
    "vscode": {
     "languageId": "r"
    }
   },
   "outputs": [],
   "source": [
    "# library(xxxx)\n"
   ]
  },
  {
   "attachments": {},
   "cell_type": "markdown",
   "metadata": {},
   "source": [
    "### Paths"
   ]
  },
  {
   "cell_type": "code",
   "execution_count": null,
   "metadata": {
    "vscode": {
     "languageId": "r"
    }
   },
   "outputs": [],
   "source": [
    "# iPath <- \"Data/Input/\"\n",
    "# oPath <- \"Data/Output/\""
   ]
  },
  {
   "attachments": {},
   "cell_type": "markdown",
   "metadata": {
    "slideshow": {
     "slide_type": "slide"
    }
   },
   "source": [
    "## <font color='green'>Data Load</font>\n",
    "\n",
    "No aplica"
   ]
  },
  {
   "cell_type": "markdown",
   "metadata": {
    "slideshow": {
     "slide_type": "slide"
    }
   },
   "source": [
    "## ETL Processes"
   ]
  },
  {
   "attachments": {},
   "cell_type": "markdown",
   "metadata": {
    "slideshow": {
     "slide_type": "slide"
    }
   },
   "source": [
    "### Import data from: CSV, Excel, Tab, JSON, SQL, and Parquet files\n",
    "\n",
    "No aplica"
   ]
  },
  {
   "cell_type": "markdown",
   "metadata": {
    "slideshow": {
     "slide_type": "slide"
    }
   },
   "source": [
    "## Synthetic Data Generation"
   ]
  },
  {
   "attachments": {},
   "cell_type": "markdown",
   "metadata": {
    "slideshow": {
     "slide_type": "slide"
    }
   },
   "source": [
    "No aplica"
   ]
  },
  {
   "cell_type": "markdown",
   "metadata": {
    "slideshow": {
     "slide_type": "slide"
    }
   },
   "source": [
    "## Fake Data Generation"
   ]
  },
  {
   "attachments": {},
   "cell_type": "markdown",
   "metadata": {
    "slideshow": {
     "slide_type": "slide"
    }
   },
   "source": [
    "No aplica"
   ]
  },
  {
   "cell_type": "markdown",
   "metadata": {
    "slideshow": {
     "slide_type": "slide"
    }
   },
   "source": [
    "## Open Data"
   ]
  },
  {
   "attachments": {},
   "cell_type": "markdown",
   "metadata": {
    "slideshow": {
     "slide_type": "slide"
    }
   },
   "source": [
    "Los archivos shp se descargaron de la fuente abierta como ficheros comprimidos .zip que se descomprimieron para tener la estructura de carpetas necesaria"
   ]
  },
  {
   "cell_type": "markdown",
   "metadata": {},
   "source": [
    "## <font color='green'>Data Save</font>"
   ]
  },
  {
   "attachments": {},
   "cell_type": "markdown",
   "metadata": {},
   "source": [
    "No aplica"
   ]
  },
  {
   "cell_type": "markdown",
   "metadata": {},
   "source": [
    "## <font color=' #2874a6 '>Main Conclusions</font>"
   ]
  },
  {
   "cell_type": "markdown",
   "metadata": {
    "slideshow": {
     "slide_type": "slide"
    }
   },
   "source": [
    "<font color='steelblue'>List and describe the general conclusions of the analysis carried out​.</font>"
   ]
  },
  {
   "attachments": {},
   "cell_type": "markdown",
   "metadata": {},
   "source": [
    "#### Observaciones generales sobre los datos\n",
    "\n",
    "* Los datos están en formato shp con las coordenadas y alguna información adicional, casi todo referido a la dirección\n",
    "* Para cada tipo de infraestructura pueden venir unos campos u otros\n"
   ]
  },
  {
   "attachments": {},
   "cell_type": "markdown",
   "metadata": {},
   "source": [
    "### Consideraciones para despliegue en piloto\n",
    "\n",
    "* Los datos de origen fueron obtenidos de https://gestiona.comunidad.madrid/nomecalles/DescargaBDTCorte.icm#delimitacionesterritoriales en fichero zip con formato .shp y descomprimido en la carpeta Data/Input\n",
    "* Si la información geográfica cambia, se debería actualizar el fichero y volver a ejecutar todos los procesos.\n"
   ]
  },
  {
   "attachments": {},
   "cell_type": "markdown",
   "metadata": {},
   "source": [
    "### Consideraciones para despliegue en producción\n",
    "\n",
    "* Se deben crear los procesos ETL en producción necesarios para que los datos de entrada estén actualizados"
   ]
  },
  {
   "cell_type": "markdown",
   "metadata": {},
   "source": [
    "## <font color=' #2874a6 '>Main Actions</font>"
   ]
  },
  {
   "cell_type": "markdown",
   "metadata": {},
   "source": [
    "#### <font color=' #2874a6 '>Acciones done</font>"
   ]
  },
  {
   "cell_type": "markdown",
   "metadata": {
    "slideshow": {
     "slide_type": "slide"
    }
   },
   "source": [
    "<font color='steelblue'>Indicate the actions that have been carried out in this process</font>"
   ]
  },
  {
   "attachments": {},
   "cell_type": "markdown",
   "metadata": {},
   "source": [
    "- Se han descargado y descomprimido los archivos"
   ]
  },
  {
   "cell_type": "markdown",
   "metadata": {},
   "source": [
    "#### <font color=' #2874a6 '>Acctions to perform</font>"
   ]
  },
  {
   "cell_type": "markdown",
   "metadata": {
    "slideshow": {
     "slide_type": "slide"
    }
   },
   "source": [
    "<font color='steelblue'>Indicate the actions that must be carried out in subsequent processes</font>"
   ]
  },
  {
   "attachments": {},
   "cell_type": "markdown",
   "metadata": {},
   "source": [
    "- Se debe consolidar la información en un fichero CSV"
   ]
  },
  {
   "attachments": {},
   "cell_type": "markdown",
   "metadata": {},
   "source": [
    "## <font color='RED'>CODE TO DEPLOY (PILOT)</font>\n",
    "\n",
    "A continuación se incluirá el código que deba ser llevado a despliegue para producción, dado que se entiende efectúa operaciones necesarias sobre los datos en la ejecución del prototipo"
   ]
  },
  {
   "attachments": {},
   "cell_type": "markdown",
   "metadata": {},
   "source": [
    "<font color=' red '><b>Description</b></font>\n",
    "\n",
    "- No hay nada que desplegar en el piloto, ya que estos datos son estáticos o en todo caso cambian con muy poca frecuencia, altamente improbable durante el proyecto.\n"
   ]
  },
  {
   "attachments": {},
   "cell_type": "markdown",
   "metadata": {},
   "source": [
    "<font color=' red '><b>CODE</b></font>"
   ]
  },
  {
   "cell_type": "code",
   "execution_count": null,
   "metadata": {
    "vscode": {
     "languageId": "r"
    }
   },
   "outputs": [],
   "source": [
    "# incluir código"
   ]
  }
 ],
 "metadata": {
  "anaconda-cloud": {},
  "celltoolbar": "Slideshow",
  "hide_input": false,
  "kernelspec": {
   "display_name": "R",
   "language": "R",
   "name": "ir"
  },
  "language_info": {
   "codemirror_mode": "r",
   "file_extension": ".r",
   "mimetype": "text/x-r-source",
   "name": "R",
   "pygments_lexer": "r",
   "version": "4.2.2"
  },
  "latex_envs": {
   "LaTeX_envs_menu_present": true,
   "autoclose": false,
   "autocomplete": true,
   "bibliofile": "biblio.bib",
   "cite_by": "apalike",
   "current_citInitial": 1,
   "eqLabelWithNumbers": true,
   "eqNumInitial": 1,
   "hotkeys": {
    "equation": "Ctrl-E",
    "itemize": "Ctrl-I"
   },
   "labels_anchors": false,
   "latex_user_defs": false,
   "report_style_numbering": true,
   "user_envs_cfg": false
  },
  "toc": {
   "base_numbering": 1,
   "nav_menu": {
    "height": "11.6px",
    "width": "160px"
   },
   "number_sections": false,
   "sideBar": true,
   "skip_h1_title": true,
   "title_cell": "Table of Contents",
   "title_sidebar": "Contents",
   "toc_cell": true,
   "toc_position": {
    "height": "calc(100% - 180px)",
    "left": "10px",
    "top": "150px",
    "width": "209.2px"
   },
   "toc_section_display": true,
   "toc_window_display": true
  },
  "varInspector": {
   "cols": {
    "lenName": 16,
    "lenType": 16,
    "lenVar": 40
   },
   "kernels_config": {
    "python": {
     "delete_cmd_postfix": "",
     "delete_cmd_prefix": "del ",
     "library": "var_list.py",
     "varRefreshCmd": "print(var_dic_list())"
    },
    "r": {
     "delete_cmd_postfix": ") ",
     "delete_cmd_prefix": "rm(",
     "library": "var_list.r",
     "varRefreshCmd": "cat(var_dic_list()) "
    }
   },
   "types_to_exclude": [
    "module",
    "function",
    "builtin_function_or_method",
    "instance",
    "_Feature"
   ],
   "window_display": false
  }
 },
 "nbformat": 4,
 "nbformat_minor": 1
}
