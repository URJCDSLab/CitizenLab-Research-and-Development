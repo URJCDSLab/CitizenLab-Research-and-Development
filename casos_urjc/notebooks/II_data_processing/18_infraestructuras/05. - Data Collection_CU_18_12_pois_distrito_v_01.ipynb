{
 "cells": [
  {
   "cell_type": "markdown",
   "metadata": {
    "slideshow": {
     "slide_type": "slide"
    }
   },
   "source": [
    "<img src=\".\\images\\Logo.png\" width=150 align=\"left\" /> <img src=\".\\images\\Logo2.jpg\" width=450 align=\"right\" />"
   ]
  },
  {
   "attachments": {},
   "cell_type": "markdown",
   "metadata": {
    "slideshow": {
     "slide_type": "slide"
    }
   },
   "source": [
    "\n",
    "# <center><font color= #1e8449 > <b>CU18_Infraestructuras_eventos</font></center>"
   ]
  },
  {
   "cell_type": "markdown",
   "metadata": {
    "slideshow": {
     "slide_type": "slide"
    }
   },
   "source": [
    "<font color='steelblue'><b>Citizenlab Data Science Methodology > II - Data Processing Domain </font>\n",
    "***\n",
    "> # <font color='steelblue'> <b>05.- Data Collection</font>"
   ]
  },
  {
   "cell_type": "markdown",
   "metadata": {
    "slideshow": {
     "slide_type": "slide"
    }
   },
   "source": [
    "<font color='steelblue'>Data Collection is the process to obtain and generate (if required) necessary data to model the problem.</font>"
   ]
  },
  {
   "attachments": {},
   "cell_type": "markdown",
   "metadata": {},
   "source": [
    "### 04. Asignar distrito censal a POIs\n",
    "\n",
    "* Dadas las coordenadas de cada POI, se asigna el distrito censal al que pertenece.\n",
    "\n",
    "\n",
    "\n",
    "\n",
    "\n"
   ]
  },
  {
   "cell_type": "markdown",
   "metadata": {
    "toc": true
   },
   "source": [
    "<h1>Table of Contents<span class=\"tocSkip\"></span></h1>\n",
    "<div class=\"toc\"><ul class=\"toc-item\"><li><span><a href=\"#Settings\" data-toc-modified-id=\"Settings-1\"><font color=\"green\">Settings</font></a></span></li><li><span><a href=\"#Data-Load\" data-toc-modified-id=\"Data-Load-2\"><font color=\"green\">Data Load</font></a></span></li><li><span><a href=\"#ETL-Processes\" data-toc-modified-id=\"ETL-Processes-3\">ETL Processes</a></span><ul class=\"toc-item\"><li><span><a href=\"#Import-data-from:-CSV,-Excel,-Tab,-JSON,-SQL,-and-Parquet-files\" data-toc-modified-id=\"Import-data-from:-CSV,-Excel,-Tab,-JSON,-SQL,-and-Parquet-files-3.1\">Import data from: CSV, Excel, Tab, JSON, SQL, and Parquet files</a></span></li></ul></li><li><span><a href=\"#Synthetic-Data-Generation\" data-toc-modified-id=\"Synthetic-Data-Generation-4\">Synthetic Data Generation</a></span></li><li><span><a href=\"#Fake-Data-Generation\" data-toc-modified-id=\"Fake-Data-Generation-5\">Fake Data Generation</a></span></li><li><span><a href=\"#Open-Data\" data-toc-modified-id=\"Open-Data-6\">Open Data</a></span></li><li><span><a href=\"#Data-Save\" data-toc-modified-id=\"Data-Save-7\"><font color=\"green\">Data Save</font></a></span></li><li><span><a href=\"#Main-Conclusions\" data-toc-modified-id=\"Main-Conclusions-8\"><font color=\" #2874a6 \">Main Conclusions</font></a></span></li><li><span><a href=\"#Main-Actions\" data-toc-modified-id=\"Main-Actions-9\"><font color=\" #2874a6 \">Main Actions</font></a></span><ul class=\"toc-item\"><li><ul class=\"toc-item\"><li><span><a href=\"#Acciones-done\" data-toc-modified-id=\"Acciones-done-9.0.1\"><font color=\" #2874a6 \">Acciones done</font></a></span></li><li><span><a href=\"#Acctions-to-perform\" data-toc-modified-id=\"Acctions-to-perform-9.0.2\"><font color=\" #2874a6 \">Acctions to perform</font></a></span></li></ul></li></ul></li></ul></div>"
   ]
  },
  {
   "cell_type": "markdown",
   "metadata": {
    "slideshow": {
     "slide_type": "slide"
    }
   },
   "source": [
    "## <font color='green'>Settings</font>"
   ]
  },
  {
   "attachments": {},
   "cell_type": "markdown",
   "metadata": {},
   "source": [
    "### Packages to use\n",
    "\n",
    "- {tcltk} para selección interactiva de archivos locales\n",
    "- {sf} para trabajar con georeferenciación\n",
    "- {readr} para leer y escribir archivos csv\n",
    "- {dplyr} para explorar datos\n"
   ]
  },
  {
   "cell_type": "code",
   "execution_count": 3,
   "metadata": {
    "ExecuteTime": {
     "end_time": "2021-12-03T15:23:33.762841Z",
     "start_time": "2021-12-03T15:23:08.580267Z"
    },
    "slideshow": {
     "slide_type": "subslide"
    },
    "vscode": {
     "languageId": "r"
    }
   },
   "outputs": [
    {
     "name": "stderr",
     "output_type": "stream",
     "text": [
      "Linking to GEOS 3.10.2, GDAL 3.4.2, PROJ 8.2.1; sf_use_s2() is TRUE\n",
      "\n",
      "\n",
      "Attaching package: 'dplyr'\n",
      "\n",
      "\n",
      "The following objects are masked from 'package:stats':\n",
      "\n",
      "    filter, lag\n",
      "\n",
      "\n",
      "The following objects are masked from 'package:base':\n",
      "\n",
      "    intersect, setdiff, setequal, union\n",
      "\n",
      "\n"
     ]
    }
   ],
   "source": [
    "library(sf)\n",
    "library(readr)\n",
    "library(dplyr)\n"
   ]
  },
  {
   "attachments": {},
   "cell_type": "markdown",
   "metadata": {},
   "source": [
    "### Paths"
   ]
  },
  {
   "cell_type": "code",
   "execution_count": 4,
   "metadata": {
    "vscode": {
     "languageId": "r"
    }
   },
   "outputs": [],
   "source": [
    "iPath <- \"Data/Input/\"\n",
    "oPath <- \"Data/Output/\""
   ]
  },
  {
   "attachments": {},
   "cell_type": "markdown",
   "metadata": {
    "slideshow": {
     "slide_type": "slide"
    }
   },
   "source": [
    "## <font color='green'>Data Load</font>\n",
    "\n",
    "If there are more than one input file, make as many sections as files to import."
   ]
  },
  {
   "attachments": {},
   "cell_type": "markdown",
   "metadata": {},
   "source": [
    "Instrucciones\n",
    "- Los ficheros de entrada del proceso están siempre en Data/Input/.   \n",
    "- Si hay más de un fichero de entrada, se crean tantos objetos iFile_xx y file_data_xx como ficheros de entrada (xx número correlativo con dos dígitos, rellenar con ceros a la izquierda)"
   ]
  },
  {
   "attachments": {},
   "cell_type": "markdown",
   "metadata": {},
   "source": [
    "#### 1. Archivo de POIs"
   ]
  },
  {
   "attachments": {},
   "cell_type": "markdown",
   "metadata": {},
   "source": [
    "<font color='tomato'><b> OPCION A:</b> Seleccionar fichero en ventana para mayor comodidad</font> "
   ]
  },
  {
   "attachments": {},
   "cell_type": "markdown",
   "metadata": {},
   "source": [
    "Data load using the {tcltk} package. Ucomment the line if not using this option"
   ]
  },
  {
   "cell_type": "code",
   "execution_count": 5,
   "metadata": {
    "vscode": {
     "languageId": "r"
    }
   },
   "outputs": [],
   "source": [
    "# file_data_01 <- tcltk::tk_choose.files(multi = FALSE)"
   ]
  },
  {
   "attachments": {},
   "cell_type": "markdown",
   "metadata": {},
   "source": [
    "<font color='tomato'><b> OPCION B:</b> Especificar el nombre de archivo</font>\n",
    "\n"
   ]
  },
  {
   "cell_type": "code",
   "execution_count": 6,
   "metadata": {
    "vscode": {
     "languageId": "r"
    }
   },
   "outputs": [
    {
     "name": "stdout",
     "output_type": "stream",
     "text": [
      "Se leer<U+00E1>n datos del archivo:  Data/Input/CU_18_05_11_pois_csv.csv"
     ]
    }
   ],
   "source": [
    "iFile_01 <- \"CU_18_05_11_pois_csv.csv\"\n",
    "file_data_01 <- paste0(iPath, iFile_01)\n",
    "\n",
    "if(file.exists(file_data_01)){\n",
    "    cat(\"Se leerán datos del archivo: \", file_data_01)\n",
    "} else{\n",
    "    warning(\"Cuidado: el archivo no existe.\")\n",
    "}\n"
   ]
  },
  {
   "attachments": {},
   "cell_type": "markdown",
   "metadata": {},
   "source": [
    "#### Data file to dataframe\n",
    "\n",
    "Usar la función adecuada según el formato de entrada (xlsx, csv, json, ...)"
   ]
  },
  {
   "cell_type": "code",
   "execution_count": 7,
   "metadata": {
    "vscode": {
     "languageId": "r"
    }
   },
   "outputs": [
    {
     "name": "stderr",
     "output_type": "stream",
     "text": [
      "\u001b[1mRows: \u001b[22m\u001b[34m24780\u001b[39m \u001b[1mColumns: \u001b[22m\u001b[34m5\u001b[39m\n",
      "\u001b[36m--\u001b[39m \u001b[1mColumn specification\u001b[22m \u001b[36m--------------------------------------------------------\u001b[39m\n",
      "\u001b[1mDelimiter:\u001b[22m \",\"\n",
      "\u001b[31mchr\u001b[39m (3): grupo, tipo, nombre\n",
      "\u001b[32mdbl\u001b[39m (2): X, Y\n",
      "\n",
      "\u001b[36mi\u001b[39m Use `spec()` to retrieve the full column specification for this data.\n",
      "\u001b[36mi\u001b[39m Specify the column types or set `show_col_types = FALSE` to quiet this message.\n"
     ]
    }
   ],
   "source": [
    "data_01 <- read_csv(file_data_01)\n"
   ]
  },
  {
   "attachments": {},
   "cell_type": "markdown",
   "metadata": {},
   "source": [
    "Estructura de  los datos:"
   ]
  },
  {
   "cell_type": "code",
   "execution_count": 8,
   "metadata": {
    "vscode": {
     "languageId": "r"
    }
   },
   "outputs": [
    {
     "name": "stdout",
     "output_type": "stream",
     "text": [
      "Rows: 24,780\n",
      "Columns: 5\n",
      "$ grupo  \u001b[3m\u001b[90m<chr>\u001b[39m\u001b[23m \"turismo\", \"hosteleria\", \"hosteleria\", \"hosteleria\", \"comercio\"~\n",
      "$ tipo   \u001b[3m\u001b[90m<chr>\u001b[39m\u001b[23m \"hotel\", \"restaurant\", \"pub\", \"pub\", \"supermarket\", \"fast_food\"~\n",
      "$ nombre \u001b[3m\u001b[90m<chr>\u001b[39m\u001b[23m \"NH Ciudad de la Imagen\", \"Caf<U+00E9> Comercial\", \"Sidrer<U+00ED>a la Camoch~\n",
      "$ X      \u001b[3m\u001b[90m<dbl>\u001b[39m\u001b[23m -3.788176, -3.702002, -3.701686, -3.696329, -3.706888, -3.60722~\n",
      "$ Y      \u001b[3m\u001b[90m<dbl>\u001b[39m\u001b[23m 40.39844, 40.42873, 40.42703, 40.42760, 40.48035, 40.43337, 40.~\n"
     ]
    }
   ],
   "source": [
    "glimpse(data_01)"
   ]
  },
  {
   "attachments": {},
   "cell_type": "markdown",
   "metadata": {},
   "source": [
    "Muestra de datos:"
   ]
  },
  {
   "cell_type": "code",
   "execution_count": 9,
   "metadata": {
    "vscode": {
     "languageId": "r"
    }
   },
   "outputs": [
    {
     "data": {
      "text/html": [
       "<table class=\"dataframe\">\n",
       "<caption>A spec_tbl_df: 5 x 5</caption>\n",
       "<thead>\n",
       "\t<tr><th scope=col>grupo</th><th scope=col>tipo</th><th scope=col>nombre</th><th scope=col>X</th><th scope=col>Y</th></tr>\n",
       "\t<tr><th scope=col>&lt;chr&gt;</th><th scope=col>&lt;chr&gt;</th><th scope=col>&lt;chr&gt;</th><th scope=col>&lt;dbl&gt;</th><th scope=col>&lt;dbl&gt;</th></tr>\n",
       "</thead>\n",
       "<tbody>\n",
       "\t<tr><td>turismo   </td><td>hotel      </td><td>NH Ciudad de la Imagen    </td><td>-3.788176</td><td>40.39844</td></tr>\n",
       "\t<tr><td>hosteleria</td><td>restaurant </td><td><span style=white-space:pre-wrap>Caf&lt;U+00E9&gt; Comercial     </span></td><td>-3.702002</td><td>40.42873</td></tr>\n",
       "\t<tr><td>hosteleria</td><td><span style=white-space:pre-wrap>pub        </span></td><td>Sidrer&lt;U+00ED&gt;a la Camocha</td><td>-3.701686</td><td>40.42703</td></tr>\n",
       "\t<tr><td>hosteleria</td><td>pub        </td><td>Gran Cafe Santander       </td><td>-3.696329</td><td>40.42760</td></tr>\n",
       "\t<tr><td>comercio  </td><td>supermarket</td><td>Alcampo                   </td><td>-3.706888</td><td>40.48035</td></tr>\n",
       "</tbody>\n",
       "</table>\n"
      ],
      "text/latex": [
       "A spec\\_tbl\\_df: 5 x 5\n",
       "\\begin{tabular}{lllll}\n",
       " grupo & tipo & nombre & X & Y\\\\\n",
       " <chr> & <chr> & <chr> & <dbl> & <dbl>\\\\\n",
       "\\hline\n",
       "\t turismo    & hotel       & NH Ciudad de la Imagen     & -3.788176 & 40.39844\\\\\n",
       "\t hosteleria & restaurant  & Caf<U+00E9> Comercial      & -3.702002 & 40.42873\\\\\n",
       "\t hosteleria & pub         & Sidrer<U+00ED>a la Camocha & -3.701686 & 40.42703\\\\\n",
       "\t hosteleria & pub         & Gran Cafe Santander        & -3.696329 & 40.42760\\\\\n",
       "\t comercio   & supermarket & Alcampo                    & -3.706888 & 40.48035\\\\\n",
       "\\end{tabular}\n"
      ],
      "text/markdown": [
       "\n",
       "A spec_tbl_df: 5 x 5\n",
       "\n",
       "| grupo &lt;chr&gt; | tipo &lt;chr&gt; | nombre &lt;chr&gt; | X &lt;dbl&gt; | Y &lt;dbl&gt; |\n",
       "|---|---|---|---|---|\n",
       "| turismo    | hotel       | NH Ciudad de la Imagen     | -3.788176 | 40.39844 |\n",
       "| hosteleria | restaurant  | Caf&lt;U+00E9&gt; Comercial      | -3.702002 | 40.42873 |\n",
       "| hosteleria | pub         | Sidrer&lt;U+00ED&gt;a la Camocha | -3.701686 | 40.42703 |\n",
       "| hosteleria | pub         | Gran Cafe Santander        | -3.696329 | 40.42760 |\n",
       "| comercio   | supermarket | Alcampo                    | -3.706888 | 40.48035 |\n",
       "\n"
      ],
      "text/plain": [
       "  grupo      tipo        nombre                     X         Y       \n",
       "1 turismo    hotel       NH Ciudad de la Imagen     -3.788176 40.39844\n",
       "2 hosteleria restaurant  Caf<U+00E9> Comercial      -3.702002 40.42873\n",
       "3 hosteleria pub         Sidrer<U+00ED>a la Camocha -3.701686 40.42703\n",
       "4 hosteleria pub         Gran Cafe Santander        -3.696329 40.42760\n",
       "5 comercio   supermarket Alcampo                    -3.706888 40.48035"
      ]
     },
     "metadata": {},
     "output_type": "display_data"
    }
   ],
   "source": [
    "slice_head(data_01, n = 5)"
   ]
  },
  {
   "attachments": {},
   "cell_type": "markdown",
   "metadata": {},
   "source": [
    "#### 2. Archivo de geolocalización distritos censales"
   ]
  },
  {
   "attachments": {},
   "cell_type": "markdown",
   "metadata": {},
   "source": [
    "<font color='tomato'><b> OPCION A:</b> Seleccionar fichero en ventana para mayor comodidad</font> "
   ]
  },
  {
   "attachments": {},
   "cell_type": "markdown",
   "metadata": {},
   "source": [
    "Data load using the {tcltk} package. Ucomment the line if not using this option"
   ]
  },
  {
   "cell_type": "code",
   "execution_count": 10,
   "metadata": {
    "vscode": {
     "languageId": "r"
    }
   },
   "outputs": [],
   "source": [
    "# file_data_02 <- tcltk::tk_choose.files(multi = FALSE)"
   ]
  },
  {
   "attachments": {},
   "cell_type": "markdown",
   "metadata": {},
   "source": [
    "<font color='tomato'><b> OPCION B:</b> Especificar el nombre de archivo</font>\n",
    "\n"
   ]
  },
  {
   "cell_type": "code",
   "execution_count": 11,
   "metadata": {
    "vscode": {
     "languageId": "r"
    }
   },
   "outputs": [
    {
     "name": "stdout",
     "output_type": "stream",
     "text": [
      "Se leer<U+00E1>n datos del archivo:  Data/Input/CU_18_05_03_distritos_geo.json"
     ]
    }
   ],
   "source": [
    "iFile_02 <- \"CU_18_05_03_distritos_geo.json\"\n",
    "file_data_02 <- paste0(iPath, iFile_02)\n",
    "\n",
    "if(file.exists(file_data_02)){\n",
    "    cat(\"Se leerán datos del archivo: \", file_data_02)\n",
    "} else{\n",
    "    warning(\"Cuidado: el archivo no existe.\")\n",
    "}\n"
   ]
  },
  {
   "attachments": {},
   "cell_type": "markdown",
   "metadata": {},
   "source": [
    "#### Data file to dataframe\n",
    "\n",
    "Usar la función adecuada según el formato de entrada (xlsx, csv, json, ...)"
   ]
  },
  {
   "cell_type": "code",
   "execution_count": 12,
   "metadata": {
    "vscode": {
     "languageId": "r"
    }
   },
   "outputs": [
    {
     "name": "stdout",
     "output_type": "stream",
     "text": [
      "Reading layer `CU_18_05_03_distritos_geo' from data source \n",
      "  `/Users/emilio.lcano/academico/gh_repos/__transferencia/citizenlab/CitizenLab-Research-and-Development/casos_urjc/notebooks/II_data_processing/18_infraestructuras/Data/Input/CU_18_05_03_distritos_geo.json' \n",
      "  using driver `GeoJSON'\n",
      "Simple feature collection with 247 features and 2 fields\n",
      "Geometry type: GEOMETRY\n",
      "Dimension:     XY\n",
      "Bounding box:  xmin: -4.579006 ymin: 39.8848 xmax: -3.052983 ymax: 41.16584\n",
      "Geodetic CRS:  WGS 84\n"
     ]
    }
   ],
   "source": [
    "data_02 <- st_read(file_data_02)\n"
   ]
  },
  {
   "attachments": {},
   "cell_type": "markdown",
   "metadata": {},
   "source": [
    "Estructura de  los datos:"
   ]
  },
  {
   "cell_type": "code",
   "execution_count": 13,
   "metadata": {
    "vscode": {
     "languageId": "r"
    }
   },
   "outputs": [
    {
     "name": "stdout",
     "output_type": "stream",
     "text": [
      "Rows: 247\n",
      "Columns: 3\n",
      "$ CMUN     \u001b[3m\u001b[90m<chr>\u001b[39m\u001b[23m \"001\", \"002\", \"003\", \"004\", \"005\", \"005\", \"005\", \"005\", \"005\"~\n",
      "$ CDIS     \u001b[3m\u001b[90m<chr>\u001b[39m\u001b[23m \"01\", \"01\", \"01\", \"01\", \"01\", \"02\", \"03\", \"04\", \"05\", \"01\", \"~\n",
      "$ geometry \u001b[3m\u001b[90m<POLYGON [arc_degree]>\u001b[39m\u001b[23m POLYGON ((-3.64502 41.12129..., POLYGON ((-3~\n"
     ]
    }
   ],
   "source": [
    "glimpse(data_02)"
   ]
  },
  {
   "attachments": {},
   "cell_type": "markdown",
   "metadata": {},
   "source": [
    "Muestra de datos:"
   ]
  },
  {
   "cell_type": "code",
   "execution_count": 14,
   "metadata": {
    "vscode": {
     "languageId": "r"
    }
   },
   "outputs": [
    {
     "data": {
      "text/html": [
       "<table class=\"dataframe\">\n",
       "<caption>A tibble: 5 x 3</caption>\n",
       "<thead>\n",
       "\t<tr><th scope=col>CMUN</th><th scope=col>CDIS</th><th scope=col>geometry</th></tr>\n",
       "\t<tr><th scope=col>&lt;chr&gt;</th><th scope=col>&lt;chr&gt;</th><th scope=col>&lt;POLYGON [arc_degree]&gt;</th></tr>\n",
       "</thead>\n",
       "<tbody>\n",
       "\t<tr><td>001</td><td>01</td><td>POLYGON ((-3.64502 41.12129...</td></tr>\n",
       "\t<tr><td>002</td><td>01</td><td>POLYGON ((-3.503032 40.526,...</td></tr>\n",
       "\t<tr><td>003</td><td>01</td><td>POLYGON ((-3.808664 40.8921...</td></tr>\n",
       "\t<tr><td>004</td><td>01</td><td>POLYGON ((-4.00197 40.25642...</td></tr>\n",
       "\t<tr><td>005</td><td>01</td><td>POLYGON ((-3.361691 40.4762...</td></tr>\n",
       "</tbody>\n",
       "</table>\n"
      ],
      "text/latex": [
       "A tibble: 5 x 3\n",
       "\\begin{tabular}{lll}\n",
       " CMUN & CDIS & geometry\\\\\n",
       " <chr> & <chr> & <POLYGON {[}arc\\_degree{]}>\\\\\n",
       "\\hline\n",
       "\t 001 & 01 & POLYGON ((-3.64502 41.12129...\\\\\n",
       "\t 002 & 01 & POLYGON ((-3.503032 40.526,...\\\\\n",
       "\t 003 & 01 & POLYGON ((-3.808664 40.8921...\\\\\n",
       "\t 004 & 01 & POLYGON ((-4.00197 40.25642...\\\\\n",
       "\t 005 & 01 & POLYGON ((-3.361691 40.4762...\\\\\n",
       "\\end{tabular}\n"
      ],
      "text/markdown": [
       "\n",
       "A tibble: 5 x 3\n",
       "\n",
       "| CMUN &lt;chr&gt; | CDIS &lt;chr&gt; | geometry &lt;POLYGON [arc_degree]&gt; |\n",
       "|---|---|---|\n",
       "| 001 | 01 | POLYGON ((-3.64502 41.12129... |\n",
       "| 002 | 01 | POLYGON ((-3.503032 40.526,... |\n",
       "| 003 | 01 | POLYGON ((-3.808664 40.8921... |\n",
       "| 004 | 01 | POLYGON ((-4.00197 40.25642... |\n",
       "| 005 | 01 | POLYGON ((-3.361691 40.4762... |\n",
       "\n"
      ],
      "text/plain": [
       "  CMUN CDIS geometry                      \n",
       "1 001  01   POLYGON ((-3.64502 41.12129...\n",
       "2 002  01   POLYGON ((-3.503032 40.526,...\n",
       "3 003  01   POLYGON ((-3.808664 40.8921...\n",
       "4 004  01   POLYGON ((-4.00197 40.25642...\n",
       "5 005  01   POLYGON ((-3.361691 40.4762..."
      ]
     },
     "metadata": {},
     "output_type": "display_data"
    }
   ],
   "source": [
    "data_02 |> tibble() |> slice_head(n = 5)"
   ]
  },
  {
   "cell_type": "markdown",
   "metadata": {
    "slideshow": {
     "slide_type": "slide"
    }
   },
   "source": [
    "## ETL Processes"
   ]
  },
  {
   "attachments": {},
   "cell_type": "markdown",
   "metadata": {
    "slideshow": {
     "slide_type": "slide"
    }
   },
   "source": [
    "### Import data from: CSV, Excel, Tab, JSON, SQL, and Parquet files\n",
    "\n",
    "Se han importado en el apartado Data Load anterior:\n",
    "\n",
    "* Archivo de POIs \n",
    "* Archivo de georeferenciación distritos censales"
   ]
  },
  {
   "attachments": {},
   "cell_type": "markdown",
   "metadata": {},
   "source": [
    "Incluir apartados si procede para: Extracción de datos (select, filter), Transformación de datos, (mutate, joins, ...). Si es necesario tratar datos perdidos, indicarlo también en NB 09.2"
   ]
  },
  {
   "attachments": {},
   "cell_type": "markdown",
   "metadata": {},
   "source": [
    "#### Data Transform\n"
   ]
  },
  {
   "attachments": {},
   "cell_type": "markdown",
   "metadata": {},
   "source": [
    "Convertir coordenadas numéricas a objeto espacial"
   ]
  },
  {
   "cell_type": "code",
   "execution_count": 15,
   "metadata": {
    "vscode": {
     "languageId": "r"
    }
   },
   "outputs": [],
   "source": [
    "tdata_01 <- data_01 |>\n",
    "    st_as_sf(coords = c(\"X\", \"Y\"), crs = 4326,\n",
    "           remove = FALSE) "
   ]
  },
  {
   "cell_type": "code",
   "execution_count": 16,
   "metadata": {
    "vscode": {
     "languageId": "r"
    }
   },
   "outputs": [
    {
     "data": {
      "text/html": [
       "<table class=\"dataframe\">\n",
       "<caption>A tibble: 5 x 6</caption>\n",
       "<thead>\n",
       "\t<tr><th scope=col>grupo</th><th scope=col>tipo</th><th scope=col>nombre</th><th scope=col>X</th><th scope=col>Y</th><th scope=col>geometry</th></tr>\n",
       "\t<tr><th scope=col>&lt;chr&gt;</th><th scope=col>&lt;chr&gt;</th><th scope=col>&lt;chr&gt;</th><th scope=col>&lt;dbl&gt;</th><th scope=col>&lt;dbl&gt;</th><th scope=col>&lt;POINT [arc_degree]&gt;</th></tr>\n",
       "</thead>\n",
       "<tbody>\n",
       "\t<tr><td>turismo   </td><td>hotel      </td><td>NH Ciudad de la Imagen    </td><td>-3.788176</td><td>40.39844</td><td>POINT (-3.788176 40.39844)</td></tr>\n",
       "\t<tr><td>hosteleria</td><td>restaurant </td><td><span style=white-space:pre-wrap>Caf&lt;U+00E9&gt; Comercial     </span></td><td>-3.702002</td><td>40.42873</td><td>POINT (-3.702002 40.42873)</td></tr>\n",
       "\t<tr><td>hosteleria</td><td><span style=white-space:pre-wrap>pub        </span></td><td>Sidrer&lt;U+00ED&gt;a la Camocha</td><td>-3.701686</td><td>40.42703</td><td>POINT (-3.701686 40.42703)</td></tr>\n",
       "\t<tr><td>hosteleria</td><td>pub        </td><td>Gran Cafe Santander       </td><td>-3.696329</td><td>40.42760</td><td>POINT (-3.696329 40.4276)</td></tr>\n",
       "\t<tr><td>comercio  </td><td>supermarket</td><td>Alcampo                   </td><td>-3.706888</td><td>40.48035</td><td>POINT (-3.706888 40.48035)</td></tr>\n",
       "</tbody>\n",
       "</table>\n"
      ],
      "text/latex": [
       "A tibble: 5 x 6\n",
       "\\begin{tabular}{llllll}\n",
       " grupo & tipo & nombre & X & Y & geometry\\\\\n",
       " <chr> & <chr> & <chr> & <dbl> & <dbl> & <POINT {[}arc\\_degree{]}>\\\\\n",
       "\\hline\n",
       "\t turismo    & hotel       & NH Ciudad de la Imagen     & -3.788176 & 40.39844 & POINT (-3.788176 40.39844)\\\\\n",
       "\t hosteleria & restaurant  & Caf<U+00E9> Comercial      & -3.702002 & 40.42873 & POINT (-3.702002 40.42873)\\\\\n",
       "\t hosteleria & pub         & Sidrer<U+00ED>a la Camocha & -3.701686 & 40.42703 & POINT (-3.701686 40.42703)\\\\\n",
       "\t hosteleria & pub         & Gran Cafe Santander        & -3.696329 & 40.42760 & POINT (-3.696329 40.4276)\\\\\n",
       "\t comercio   & supermarket & Alcampo                    & -3.706888 & 40.48035 & POINT (-3.706888 40.48035)\\\\\n",
       "\\end{tabular}\n"
      ],
      "text/markdown": [
       "\n",
       "A tibble: 5 x 6\n",
       "\n",
       "| grupo &lt;chr&gt; | tipo &lt;chr&gt; | nombre &lt;chr&gt; | X &lt;dbl&gt; | Y &lt;dbl&gt; | geometry &lt;POINT [arc_degree]&gt; |\n",
       "|---|---|---|---|---|---|\n",
       "| turismo    | hotel       | NH Ciudad de la Imagen     | -3.788176 | 40.39844 | POINT (-3.788176 40.39844) |\n",
       "| hosteleria | restaurant  | Caf&lt;U+00E9&gt; Comercial      | -3.702002 | 40.42873 | POINT (-3.702002 40.42873) |\n",
       "| hosteleria | pub         | Sidrer&lt;U+00ED&gt;a la Camocha | -3.701686 | 40.42703 | POINT (-3.701686 40.42703) |\n",
       "| hosteleria | pub         | Gran Cafe Santander        | -3.696329 | 40.42760 | POINT (-3.696329 40.4276) |\n",
       "| comercio   | supermarket | Alcampo                    | -3.706888 | 40.48035 | POINT (-3.706888 40.48035) |\n",
       "\n"
      ],
      "text/plain": [
       "  grupo      tipo        nombre                     X         Y       \n",
       "1 turismo    hotel       NH Ciudad de la Imagen     -3.788176 40.39844\n",
       "2 hosteleria restaurant  Caf<U+00E9> Comercial      -3.702002 40.42873\n",
       "3 hosteleria pub         Sidrer<U+00ED>a la Camocha -3.701686 40.42703\n",
       "4 hosteleria pub         Gran Cafe Santander        -3.696329 40.42760\n",
       "5 comercio   supermarket Alcampo                    -3.706888 40.48035\n",
       "  geometry                  \n",
       "1 POINT (-3.788176 40.39844)\n",
       "2 POINT (-3.702002 40.42873)\n",
       "3 POINT (-3.701686 40.42703)\n",
       "4 POINT (-3.696329 40.4276) \n",
       "5 POINT (-3.706888 40.48035)"
      ]
     },
     "metadata": {},
     "output_type": "display_data"
    }
   ],
   "source": [
    "tdata_01 |> tibble() |> slice_head(n = 5)"
   ]
  },
  {
   "attachments": {},
   "cell_type": "markdown",
   "metadata": {},
   "source": [
    "* Corregir geometrías erróneas de distritos\n"
   ]
  },
  {
   "cell_type": "code",
   "execution_count": 17,
   "metadata": {
    "vscode": {
     "languageId": "r"
    }
   },
   "outputs": [],
   "source": [
    "tdata_02 <- data_02 |> st_make_valid()"
   ]
  },
  {
   "cell_type": "markdown",
   "metadata": {},
   "source": [
    "\n",
    "* Unir data frames de POIs y distritos por intersección de coordenadas"
   ]
  },
  {
   "cell_type": "code",
   "execution_count": 18,
   "metadata": {
    "vscode": {
     "languageId": "r"
    }
   },
   "outputs": [],
   "source": [
    "data <- tdata_01 |> \n",
    "  st_join(tdata_02) |> \n",
    "  st_drop_geometry()"
   ]
  },
  {
   "cell_type": "code",
   "execution_count": 19,
   "metadata": {
    "vscode": {
     "languageId": "r"
    }
   },
   "outputs": [
    {
     "data": {
      "text/html": [
       "<table class=\"dataframe\">\n",
       "<caption>A tibble: 5 x 7</caption>\n",
       "<thead>\n",
       "\t<tr><th scope=col>grupo</th><th scope=col>tipo</th><th scope=col>nombre</th><th scope=col>X</th><th scope=col>Y</th><th scope=col>CMUN</th><th scope=col>CDIS</th></tr>\n",
       "\t<tr><th scope=col>&lt;chr&gt;</th><th scope=col>&lt;chr&gt;</th><th scope=col>&lt;chr&gt;</th><th scope=col>&lt;dbl&gt;</th><th scope=col>&lt;dbl&gt;</th><th scope=col>&lt;chr&gt;</th><th scope=col>&lt;chr&gt;</th></tr>\n",
       "</thead>\n",
       "<tbody>\n",
       "\t<tr><td>turismo   </td><td>hotel      </td><td>NH Ciudad de la Imagen    </td><td>-3.788176</td><td>40.39844</td><td>115</td><td>01</td></tr>\n",
       "\t<tr><td>hosteleria</td><td>restaurant </td><td><span style=white-space:pre-wrap>Caf&lt;U+00E9&gt; Comercial     </span></td><td>-3.702002</td><td>40.42873</td><td>079</td><td>01</td></tr>\n",
       "\t<tr><td>hosteleria</td><td><span style=white-space:pre-wrap>pub        </span></td><td>Sidrer&lt;U+00ED&gt;a la Camocha</td><td>-3.701686</td><td>40.42703</td><td>079</td><td>01</td></tr>\n",
       "\t<tr><td>hosteleria</td><td>pub        </td><td>Gran Cafe Santander       </td><td>-3.696329</td><td>40.42760</td><td>079</td><td>01</td></tr>\n",
       "\t<tr><td>comercio  </td><td>supermarket</td><td>Alcampo                   </td><td>-3.706888</td><td>40.48035</td><td>079</td><td>08</td></tr>\n",
       "</tbody>\n",
       "</table>\n"
      ],
      "text/latex": [
       "A tibble: 5 x 7\n",
       "\\begin{tabular}{lllllll}\n",
       " grupo & tipo & nombre & X & Y & CMUN & CDIS\\\\\n",
       " <chr> & <chr> & <chr> & <dbl> & <dbl> & <chr> & <chr>\\\\\n",
       "\\hline\n",
       "\t turismo    & hotel       & NH Ciudad de la Imagen     & -3.788176 & 40.39844 & 115 & 01\\\\\n",
       "\t hosteleria & restaurant  & Caf<U+00E9> Comercial      & -3.702002 & 40.42873 & 079 & 01\\\\\n",
       "\t hosteleria & pub         & Sidrer<U+00ED>a la Camocha & -3.701686 & 40.42703 & 079 & 01\\\\\n",
       "\t hosteleria & pub         & Gran Cafe Santander        & -3.696329 & 40.42760 & 079 & 01\\\\\n",
       "\t comercio   & supermarket & Alcampo                    & -3.706888 & 40.48035 & 079 & 08\\\\\n",
       "\\end{tabular}\n"
      ],
      "text/markdown": [
       "\n",
       "A tibble: 5 x 7\n",
       "\n",
       "| grupo &lt;chr&gt; | tipo &lt;chr&gt; | nombre &lt;chr&gt; | X &lt;dbl&gt; | Y &lt;dbl&gt; | CMUN &lt;chr&gt; | CDIS &lt;chr&gt; |\n",
       "|---|---|---|---|---|---|---|\n",
       "| turismo    | hotel       | NH Ciudad de la Imagen     | -3.788176 | 40.39844 | 115 | 01 |\n",
       "| hosteleria | restaurant  | Caf&lt;U+00E9&gt; Comercial      | -3.702002 | 40.42873 | 079 | 01 |\n",
       "| hosteleria | pub         | Sidrer&lt;U+00ED&gt;a la Camocha | -3.701686 | 40.42703 | 079 | 01 |\n",
       "| hosteleria | pub         | Gran Cafe Santander        | -3.696329 | 40.42760 | 079 | 01 |\n",
       "| comercio   | supermarket | Alcampo                    | -3.706888 | 40.48035 | 079 | 08 |\n",
       "\n"
      ],
      "text/plain": [
       "  grupo      tipo        nombre                     X         Y        CMUN\n",
       "1 turismo    hotel       NH Ciudad de la Imagen     -3.788176 40.39844 115 \n",
       "2 hosteleria restaurant  Caf<U+00E9> Comercial      -3.702002 40.42873 079 \n",
       "3 hosteleria pub         Sidrer<U+00ED>a la Camocha -3.701686 40.42703 079 \n",
       "4 hosteleria pub         Gran Cafe Santander        -3.696329 40.42760 079 \n",
       "5 comercio   supermarket Alcampo                    -3.706888 40.48035 079 \n",
       "  CDIS\n",
       "1 01  \n",
       "2 01  \n",
       "3 01  \n",
       "4 01  \n",
       "5 08  "
      ]
     },
     "metadata": {},
     "output_type": "display_data"
    }
   ],
   "source": [
    "data |> slice_head(n = 5)"
   ]
  },
  {
   "attachments": {},
   "cell_type": "markdown",
   "metadata": {},
   "source": [
    "Si no aplica: Estos datos no requieren tareas de este tipo."
   ]
  },
  {
   "cell_type": "markdown",
   "metadata": {
    "slideshow": {
     "slide_type": "slide"
    }
   },
   "source": [
    "## Synthetic Data Generation"
   ]
  },
  {
   "attachments": {},
   "cell_type": "markdown",
   "metadata": {},
   "source": [
    "Si no aplica: Estos datos no requieren tareas de este tipo."
   ]
  },
  {
   "cell_type": "markdown",
   "metadata": {
    "slideshow": {
     "slide_type": "slide"
    }
   },
   "source": [
    "## Fake Data Generation"
   ]
  },
  {
   "attachments": {},
   "cell_type": "markdown",
   "metadata": {},
   "source": [
    "Si no aplica: Estos datos no requieren tareas de este tipo."
   ]
  },
  {
   "cell_type": "markdown",
   "metadata": {
    "slideshow": {
     "slide_type": "slide"
    }
   },
   "source": [
    "## Open Data"
   ]
  },
  {
   "attachments": {},
   "cell_type": "markdown",
   "metadata": {
    "slideshow": {
     "slide_type": "slide"
    }
   },
   "source": [
    "Los datos provienen de fuentes abiertas obtenidas en taras anteriores."
   ]
  },
  {
   "cell_type": "markdown",
   "metadata": {},
   "source": [
    "## <font color='green'>Data Save</font>"
   ]
  },
  {
   "attachments": {},
   "cell_type": "markdown",
   "metadata": {},
   "source": [
    "Este proceso, puede copiarse y repetirse en aquellas partes del notebbok que necesiten guardar datos.\n",
    "Recuerde cambiar las cadenas añadida del fichero para diferenciarlas"
   ]
  },
  {
   "cell_type": "markdown",
   "metadata": {},
   "source": [
    "<font color='tomato'> Identificamos los datos a guardar</font>"
   ]
  },
  {
   "cell_type": "code",
   "execution_count": 20,
   "metadata": {
    "ExecuteTime": {
     "end_time": "2020-12-25T17:59:27.022001Z",
     "start_time": "2020-12-25T17:59:15.986986Z"
    },
    "scrolled": false,
    "vscode": {
     "languageId": "r"
    }
   },
   "outputs": [],
   "source": [
    "data_to_save <- data"
   ]
  },
  {
   "attachments": {},
   "cell_type": "markdown",
   "metadata": {},
   "source": [
    "\n",
    "<font color='tomato'>Estructura de nombre de archivos:</font>\n",
    "\n",
    "* Código del caso de uso, por ejemplo \"CU_04\"\n",
    "* Número del proceso que lo genera, por ejemplo \"_05\".\n",
    "* Número de la tarea que lo genera, por ejemplo \"_01\"\n",
    "* En caso de generarse varios ficheros en la misma tarea, llevarán _01 _02 ... después\n",
    "* Nombre: identificativo de \"properData\", por ejemplo \"_zonasgeo\"\n",
    "* Extensión del archivo\n",
    "\n",
    "Ejemplo: \"CU_04_05_01_01_zonasgeo.json, primer fichero que se genera en la tarea 01 del proceso 05 (Data Collection) para el caso de uso 04 (vacunas)\n",
    "\n",
    "Importante mantener los guiones bajos antes de proceso, tarea, archivo y nombre"
   ]
  },
  {
   "attachments": {},
   "cell_type": "markdown",
   "metadata": {},
   "source": [
    "### Proceso 05"
   ]
  },
  {
   "cell_type": "code",
   "execution_count": 21,
   "metadata": {
    "ExecuteTime": {
     "end_time": "2020-12-25T17:59:27.022001Z",
     "start_time": "2020-12-25T17:59:15.986986Z"
    },
    "scrolled": false,
    "vscode": {
     "languageId": "r"
    }
   },
   "outputs": [],
   "source": [
    "caso <- \"CU_18\"\n",
    "proceso <- '_05'\n",
    "tarea <- \"_12\"\n",
    "archivo <- \"\"\n",
    "proper <- \"_pois_distrito\"\n",
    "extension <- \".csv\""
   ]
  },
  {
   "attachments": {},
   "cell_type": "markdown",
   "metadata": {},
   "source": [
    "<font color='tomato'><b> OPCION A:</b> Uso del paquete \"tcltk\" para mayor comodidad</font>\n",
    "\n",
    "* Buscar carpeta, escribir nombre de archivo SIN extensión (se especifica en el código)\n",
    "* Especificar sufijo2 si es necesario\n",
    "* Cambiar datos por datos_xx si es necesario"
   ]
  },
  {
   "cell_type": "code",
   "execution_count": 22,
   "metadata": {
    "ExecuteTime": {
     "end_time": "2020-12-25T17:59:27.022001Z",
     "start_time": "2020-12-25T17:59:15.986986Z"
    },
    "scrolled": false,
    "vscode": {
     "languageId": "r"
    }
   },
   "outputs": [],
   "source": [
    "# file_save <- paste0(caso, proceso, tarea, tcltk::tkgetSaveFile(), proper, extension) \n",
    "# path_out <- paste0(oPath, file_save)\n",
    "# write_csv(data_to_save, path_out)\n",
    "\n",
    "# cat('File saved as: ')\n",
    "# path_out"
   ]
  },
  {
   "attachments": {},
   "cell_type": "markdown",
   "metadata": {},
   "source": [
    "<font color='tomato'><b> OPCION B:</b> Especificar el nombre de archivo</font>"
   ]
  },
  {
   "attachments": {},
   "cell_type": "markdown",
   "metadata": {},
   "source": [
    "- Los ficheros de salida del proceso van siempre a Data/Output/.  "
   ]
  },
  {
   "cell_type": "code",
   "execution_count": 23,
   "metadata": {
    "ExecuteTime": {
     "end_time": "2021-01-26T18:40:31.258294Z",
     "start_time": "2021-01-26T18:40:26.061847Z"
    },
    "slideshow": {
     "slide_type": "subslide"
    },
    "vscode": {
     "languageId": "r"
    }
   },
   "outputs": [
    {
     "name": "stdout",
     "output_type": "stream",
     "text": [
      "File saved as: "
     ]
    },
    {
     "data": {
      "text/html": [
       "'Data/Output/CU_18_05_12_pois_distrito.csv'"
      ],
      "text/latex": [
       "'Data/Output/CU\\_18\\_05\\_12\\_pois\\_distrito.csv'"
      ],
      "text/markdown": [
       "'Data/Output/CU_18_05_12_pois_distrito.csv'"
      ],
      "text/plain": [
       "[1] \"Data/Output/CU_18_05_12_pois_distrito.csv\""
      ]
     },
     "metadata": {},
     "output_type": "display_data"
    }
   ],
   "source": [
    "file_save <- paste0(caso, proceso, tarea, archivo, proper, extension) \n",
    "path_out <- paste0(oPath, file_save)\n",
    "write_csv(data_to_save, path_out)\n",
    "\n",
    "cat('File saved as: ')\n",
    "path_out"
   ]
  },
  {
   "attachments": {},
   "cell_type": "markdown",
   "metadata": {},
   "source": [
    "#### Copia del fichero a Input\n",
    "\n",
    "Si el archivo se va a usar en otros notebooks, copiar a la carpeta Input"
   ]
  },
  {
   "cell_type": "code",
   "execution_count": 24,
   "metadata": {
    "vscode": {
     "languageId": "r"
    }
   },
   "outputs": [
    {
     "data": {
      "text/html": [
       "TRUE"
      ],
      "text/latex": [
       "TRUE"
      ],
      "text/markdown": [
       "TRUE"
      ],
      "text/plain": [
       "[1] TRUE"
      ]
     },
     "metadata": {},
     "output_type": "display_data"
    }
   ],
   "source": [
    "path_in <- paste0(iPath, file_save)\n",
    "file.copy(path_out, path_in, overwrite = TRUE)"
   ]
  },
  {
   "cell_type": "markdown",
   "metadata": {},
   "source": [
    "## <font color=' #2874a6 '>Main Conclusions</font>"
   ]
  },
  {
   "cell_type": "markdown",
   "metadata": {
    "slideshow": {
     "slide_type": "slide"
    }
   },
   "source": [
    "<font color='steelblue'>List and describe the general conclusions of the analysis carried out​.</font>"
   ]
  },
  {
   "attachments": {},
   "cell_type": "markdown",
   "metadata": {},
   "source": [
    "### Prerequisites\n",
    "\n",
    "This working code needs the following conditions:\n",
    "\n",
    "* For using the interactive selection of file, the {tcltk} package must be installed. It is not needed in production.\n",
    "* The {readr}, {dplyr} and {sf} packages must be installed. \n",
    "* The data paths `Data/Input` and `Data/Output` must exist (relative to the notebook path)"
   ]
  },
  {
   "attachments": {},
   "cell_type": "markdown",
   "metadata": {},
   "source": [
    "### Configuration Management\n",
    "\n",
    "This notebook has been tested with the following versions of R and packages. It cannot be assured that later versions work in the same way:\n",
    "* R 4.2.2\n",
    "* tcltk 4.2.2\n",
    "* dplyr 1.0.10\n",
    "* sf 1.0.9\n"
   ]
  },
  {
   "attachments": {},
   "cell_type": "markdown",
   "metadata": {},
   "source": [
    "### Data structures"
   ]
  },
  {
   "attachments": {},
   "cell_type": "markdown",
   "metadata": {},
   "source": [
    "#### Objeto `data`\n",
    "\n",
    "- Los datos de origen contienen datos de infraesctructuras\n",
    "- Hay 1633 filas con las variables: \n",
    "    * grupo\n",
    "\t* tipo\n",
    "\t* nombre\n",
    "\t* X\n",
    "\t* Y\n",
    "\t* CMUN\n",
    "\t* CDIS\n"
   ]
  },
  {
   "cell_type": "code",
   "execution_count": 25,
   "metadata": {
    "vscode": {
     "languageId": "r"
    }
   },
   "outputs": [
    {
     "name": "stdout",
     "output_type": "stream",
     "text": [
      "Rows: 24,780\n",
      "Columns: 7\n",
      "$ grupo  \u001b[3m\u001b[90m<chr>\u001b[39m\u001b[23m \"turismo\", \"hosteleria\", \"hosteleria\", \"hosteleria\", \"comercio\"~\n",
      "$ tipo   \u001b[3m\u001b[90m<chr>\u001b[39m\u001b[23m \"hotel\", \"restaurant\", \"pub\", \"pub\", \"supermarket\", \"fast_food\"~\n",
      "$ nombre \u001b[3m\u001b[90m<chr>\u001b[39m\u001b[23m \"NH Ciudad de la Imagen\", \"Caf<U+00E9> Comercial\", \"Sidrer<U+00ED>a la Camoch~\n",
      "$ X      \u001b[3m\u001b[90m<dbl>\u001b[39m\u001b[23m -3.788176, -3.702002, -3.701686, -3.696329, -3.706888, -3.60722~\n",
      "$ Y      \u001b[3m\u001b[90m<dbl>\u001b[39m\u001b[23m 40.39844, 40.42873, 40.42703, 40.42760, 40.48035, 40.43337, 40.~\n",
      "$ CMUN   \u001b[3m\u001b[90m<chr>\u001b[39m\u001b[23m \"115\", \"079\", \"079\", \"079\", \"079\", \"079\", \"079\", \"079\", \"079\", ~\n",
      "$ CDIS   \u001b[3m\u001b[90m<chr>\u001b[39m\u001b[23m \"01\", \"01\", \"01\", \"01\", \"08\", \"20\", \"01\", \"01\", \"01\", \"01\", \"01~\n"
     ]
    }
   ],
   "source": [
    "glimpse(data)"
   ]
  },
  {
   "attachments": {},
   "cell_type": "markdown",
   "metadata": {},
   "source": [
    "#### Observaciones generales sobre los datos\n",
    "\n",
    "* Hay algunas discrepancias entre los códigos de municipios de las infraestructuras y los de los distritos censales que habría que revisar\n",
    "* En lo sucesivo se tomarán como buenos los códigos del INE al ser la fuente primaria"
   ]
  },
  {
   "attachments": {},
   "cell_type": "markdown",
   "metadata": {},
   "source": [
    "### Consideraciones para despliegue en piloto\n",
    "\n",
    "* xxx"
   ]
  },
  {
   "attachments": {},
   "cell_type": "markdown",
   "metadata": {},
   "source": [
    "### Consideraciones para despliegue en producción\n",
    "\n",
    "* Se deben crear los procesos ETL en producción necesarios para que los datos de entrada estén actualizados"
   ]
  },
  {
   "cell_type": "markdown",
   "metadata": {},
   "source": [
    "## <font color=' #2874a6 '>Main Actions</font>"
   ]
  },
  {
   "cell_type": "markdown",
   "metadata": {},
   "source": [
    "#### <font color=' #2874a6 '>Acciones done</font>"
   ]
  },
  {
   "cell_type": "markdown",
   "metadata": {
    "slideshow": {
     "slide_type": "slide"
    }
   },
   "source": [
    "<font color='steelblue'>Indicate the actions that have been carried out in this process</font>"
   ]
  },
  {
   "attachments": {},
   "cell_type": "markdown",
   "metadata": {},
   "source": [
    "- Se han transformado las coordenadas numéricas de infraestructuras a objeto espacial `sf``\n",
    "- Se han corregido las geometrías erróneas de distritos\n",
    "- Se ha obtenido el distrito al que pertenece la infraestructura por intersección espacial\n"
   ]
  },
  {
   "cell_type": "markdown",
   "metadata": {},
   "source": [
    "#### <font color=' #2874a6 '>Acctions to perform</font>"
   ]
  },
  {
   "cell_type": "markdown",
   "metadata": {
    "slideshow": {
     "slide_type": "slide"
    }
   },
   "source": [
    "<font color='steelblue'>Indicate the actions that must be carried out in subsequent processes</font>"
   ]
  },
  {
   "attachments": {},
   "cell_type": "markdown",
   "metadata": {},
   "source": [
    "- Se debe revisar la codificación de municipios de la Cumunidad de Madrid"
   ]
  },
  {
   "attachments": {},
   "cell_type": "markdown",
   "metadata": {},
   "source": [
    "## <font color='RED'>CODE TO DEPLOY (PILOT)</font>\n",
    "\n",
    "A continuación se incluirá el código que deba ser llevado a despliegue para producción, dado que se entiende efectúa operaciones necesarias sobre los datos en la ejecución del prototipo"
   ]
  },
  {
   "attachments": {},
   "cell_type": "markdown",
   "metadata": {},
   "source": [
    "<font color=' red '><b>Description</b></font>\n",
    "\n",
    "- No hay nada que desplegar en el piloto, ya que estos datos son estáticos o en todo caso cambian con muy poca frecuencia, altamente improbable durante el proyecto.\n"
   ]
  },
  {
   "attachments": {},
   "cell_type": "markdown",
   "metadata": {},
   "source": [
    "<font color=' red '><b>CODE</b></font>"
   ]
  },
  {
   "cell_type": "code",
   "execution_count": 26,
   "metadata": {
    "vscode": {
     "languageId": "r"
    }
   },
   "outputs": [],
   "source": [
    "# incluir código"
   ]
  }
 ],
 "metadata": {
  "anaconda-cloud": {},
  "celltoolbar": "Slideshow",
  "hide_input": false,
  "kernelspec": {
   "display_name": "R",
   "language": "R",
   "name": "ir"
  },
  "language_info": {
   "codemirror_mode": "r",
   "file_extension": ".r",
   "mimetype": "text/x-r-source",
   "name": "R",
   "pygments_lexer": "r",
   "version": "4.2.2"
  },
  "latex_envs": {
   "LaTeX_envs_menu_present": true,
   "autoclose": false,
   "autocomplete": true,
   "bibliofile": "biblio.bib",
   "cite_by": "apalike",
   "current_citInitial": 1,
   "eqLabelWithNumbers": true,
   "eqNumInitial": 1,
   "hotkeys": {
    "equation": "Ctrl-E",
    "itemize": "Ctrl-I"
   },
   "labels_anchors": false,
   "latex_user_defs": false,
   "report_style_numbering": true,
   "user_envs_cfg": false
  },
  "toc": {
   "base_numbering": 1,
   "nav_menu": {
    "height": "11.6px",
    "width": "160px"
   },
   "number_sections": false,
   "sideBar": true,
   "skip_h1_title": true,
   "title_cell": "Table of Contents",
   "title_sidebar": "Contents",
   "toc_cell": true,
   "toc_position": {
    "height": "calc(100% - 180px)",
    "left": "10px",
    "top": "150px",
    "width": "209.2px"
   },
   "toc_section_display": true,
   "toc_window_display": true
  },
  "varInspector": {
   "cols": {
    "lenName": 16,
    "lenType": 16,
    "lenVar": 40
   },
   "kernels_config": {
    "python": {
     "delete_cmd_postfix": "",
     "delete_cmd_prefix": "del ",
     "library": "var_list.py",
     "varRefreshCmd": "print(var_dic_list())"
    },
    "r": {
     "delete_cmd_postfix": ") ",
     "delete_cmd_prefix": "rm(",
     "library": "var_list.r",
     "varRefreshCmd": "cat(var_dic_list()) "
    }
   },
   "types_to_exclude": [
    "module",
    "function",
    "builtin_function_or_method",
    "instance",
    "_Feature"
   ],
   "window_display": false
  }
 },
 "nbformat": 4,
 "nbformat_minor": 1
}
