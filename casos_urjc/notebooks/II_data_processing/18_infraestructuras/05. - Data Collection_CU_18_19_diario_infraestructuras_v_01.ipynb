{
 "cells": [
  {
   "cell_type": "markdown",
   "metadata": {
    "slideshow": {
     "slide_type": "slide"
    }
   },
   "source": [
    "<img src=\".\\images\\Logo.png\" width=150 align=\"left\" /> <img src=\".\\images\\Logo2.jpg\" width=450 align=\"right\" />"
   ]
  },
  {
   "attachments": {},
   "cell_type": "markdown",
   "metadata": {
    "slideshow": {
     "slide_type": "slide"
    }
   },
   "source": [
    "\n",
    "# <center><font color= #1e8449 > <b>CUxx_xxxxx</font></center>"
   ]
  },
  {
   "cell_type": "markdown",
   "metadata": {
    "slideshow": {
     "slide_type": "slide"
    }
   },
   "source": [
    "<font color='steelblue'><b>Citizenlab Data Science Methodology > II - Data Processing Domain </font>\n",
    "***\n",
    "> # <font color='steelblue'> <b>05.- Data Collection</font>"
   ]
  },
  {
   "cell_type": "markdown",
   "metadata": {
    "slideshow": {
     "slide_type": "slide"
    }
   },
   "source": [
    "<font color='steelblue'>Data Collection is the process to obtain and generate (if required) necessary data to model the problem.</font>"
   ]
  },
  {
   "attachments": {},
   "cell_type": "markdown",
   "metadata": {},
   "source": [
    "### 19. Simular datos diarios de infraestructuras\n",
    "\n",
    "* Datos diarios para 2019\n",
    "* Datos de ocupación y demanda de cada infraestructura cada día\n",
    "* Datos de dos tipos de eventos: evento infraestructura y evento zona\n",
    "* Hace falta identificar a las infraestructuras\n",
    "\n",
    "\n",
    "\n",
    "\n",
    "\n"
   ]
  },
  {
   "cell_type": "markdown",
   "metadata": {
    "toc": true
   },
   "source": [
    "<h1>Table of Contents<span class=\"tocSkip\"></span></h1>\n",
    "<div class=\"toc\"><ul class=\"toc-item\"><li><span><a href=\"#Settings\" data-toc-modified-id=\"Settings-1\"><font color=\"green\">Settings</font></a></span></li><li><span><a href=\"#Data-Load\" data-toc-modified-id=\"Data-Load-2\"><font color=\"green\">Data Load</font></a></span></li><li><span><a href=\"#ETL-Processes\" data-toc-modified-id=\"ETL-Processes-3\">ETL Processes</a></span><ul class=\"toc-item\"><li><span><a href=\"#Import-data-from:-CSV,-Excel,-Tab,-JSON,-SQL,-and-Parquet-files\" data-toc-modified-id=\"Import-data-from:-CSV,-Excel,-Tab,-JSON,-SQL,-and-Parquet-files-3.1\">Import data from: CSV, Excel, Tab, JSON, SQL, and Parquet files</a></span></li></ul></li><li><span><a href=\"#Synthetic-Data-Generation\" data-toc-modified-id=\"Synthetic-Data-Generation-4\">Synthetic Data Generation</a></span></li><li><span><a href=\"#Fake-Data-Generation\" data-toc-modified-id=\"Fake-Data-Generation-5\">Fake Data Generation</a></span></li><li><span><a href=\"#Open-Data\" data-toc-modified-id=\"Open-Data-6\">Open Data</a></span></li><li><span><a href=\"#Data-Save\" data-toc-modified-id=\"Data-Save-7\"><font color=\"green\">Data Save</font></a></span></li><li><span><a href=\"#Main-Conclusions\" data-toc-modified-id=\"Main-Conclusions-8\"><font color=\" #2874a6 \">Main Conclusions</font></a></span></li><li><span><a href=\"#Main-Actions\" data-toc-modified-id=\"Main-Actions-9\"><font color=\" #2874a6 \">Main Actions</font></a></span><ul class=\"toc-item\"><li><ul class=\"toc-item\"><li><span><a href=\"#Acciones-done\" data-toc-modified-id=\"Acciones-done-9.0.1\"><font color=\" #2874a6 \">Acciones done</font></a></span></li><li><span><a href=\"#Acctions-to-perform\" data-toc-modified-id=\"Acctions-to-perform-9.0.2\"><font color=\" #2874a6 \">Acctions to perform</font></a></span></li></ul></li></ul></li></ul></div>"
   ]
  },
  {
   "cell_type": "markdown",
   "metadata": {
    "slideshow": {
     "slide_type": "slide"
    }
   },
   "source": [
    "## <font color='green'>Settings</font>"
   ]
  },
  {
   "attachments": {},
   "cell_type": "markdown",
   "metadata": {},
   "source": [
    "### Packages to use\n",
    "\n",
    "\n",
    "- {tcltk} para selección interactiva de archivos locales\n",
    "- {tibble} para operaciones con data.frames\n",
    "- {readr} para leer y escribir archivos csv\n",
    "- {dplyr} para explorar datos\n"
   ]
  },
  {
   "cell_type": "code",
   "execution_count": 1,
   "metadata": {
    "ExecuteTime": {
     "end_time": "2021-12-03T15:23:33.762841Z",
     "start_time": "2021-12-03T15:23:08.580267Z"
    },
    "slideshow": {
     "slide_type": "subslide"
    },
    "vscode": {
     "languageId": "r"
    }
   },
   "outputs": [
    {
     "name": "stderr",
     "output_type": "stream",
     "text": [
      "\n",
      "Attaching package: 'dplyr'\n",
      "\n",
      "\n",
      "The following objects are masked from 'package:stats':\n",
      "\n",
      "    filter, lag\n",
      "\n",
      "\n",
      "The following objects are masked from 'package:base':\n",
      "\n",
      "    intersect, setdiff, setequal, union\n",
      "\n",
      "\n"
     ]
    }
   ],
   "source": [
    "library(tibble)\n",
    "library(readr)\n",
    "library(dplyr)\n",
    "\n"
   ]
  },
  {
   "attachments": {},
   "cell_type": "markdown",
   "metadata": {},
   "source": [
    "### Paths"
   ]
  },
  {
   "cell_type": "code",
   "execution_count": 2,
   "metadata": {
    "vscode": {
     "languageId": "r"
    }
   },
   "outputs": [],
   "source": [
    "iPath <- \"Data/Input/\"\n",
    "oPath <- \"Data/Output/\""
   ]
  },
  {
   "attachments": {},
   "cell_type": "markdown",
   "metadata": {
    "slideshow": {
     "slide_type": "slide"
    }
   },
   "source": [
    "## <font color='green'>Data Load</font>\n",
    "\n",
    "If there are more than one input file, make as many sections as files to import."
   ]
  },
  {
   "attachments": {},
   "cell_type": "markdown",
   "metadata": {},
   "source": [
    "Instrucciones\n",
    "- Los ficheros de entrada del proceso están siempre en Data/Input/.   \n",
    "- Si hay más de un fichero de entrada, se crean tantos objetos iFile_xx y file_data_xx como ficheros de entrada (xx número correlativo con dos dígitos, rellenar con ceros a la izquierda)"
   ]
  },
  {
   "attachments": {},
   "cell_type": "markdown",
   "metadata": {},
   "source": [
    "<font color='tomato'><b> OPCION A:</b> Seleccionar fichero en ventana para mayor comodidad</font> "
   ]
  },
  {
   "attachments": {},
   "cell_type": "markdown",
   "metadata": {},
   "source": [
    "Data load using the {tcltk} package. Ucomment the line if not using this option"
   ]
  },
  {
   "cell_type": "code",
   "execution_count": 3,
   "metadata": {
    "vscode": {
     "languageId": "r"
    }
   },
   "outputs": [],
   "source": [
    "# file_data <- tcltk::tk_choose.files(multi = FALSE)"
   ]
  },
  {
   "attachments": {},
   "cell_type": "markdown",
   "metadata": {},
   "source": [
    "<font color='tomato'><b> OPCION B:</b> Especificar el nombre de archivo</font>\n",
    "\n"
   ]
  },
  {
   "cell_type": "code",
   "execution_count": 4,
   "metadata": {
    "vscode": {
     "languageId": "r"
    }
   },
   "outputs": [
    {
     "name": "stdout",
     "output_type": "stream",
     "text": [
      "Se leer<U+00E1>n datos del archivo:  Data/Input/CU_18_05_18_infraestructuras.csv"
     ]
    }
   ],
   "source": [
    "iFile <- \"CU_18_05_18_infraestructuras.csv\"\n",
    "file_data <- paste0(iPath, iFile)\n",
    "\n",
    "if(file.exists(file_data)){\n",
    "    cat(\"Se leerán datos del archivo: \", file_data)\n",
    "} else{\n",
    "    warning(\"Cuidado: el archivo no existe.\")\n",
    "}\n"
   ]
  },
  {
   "attachments": {},
   "cell_type": "markdown",
   "metadata": {},
   "source": [
    "#### Data file to dataframe\n",
    "\n",
    "Usar la función adecuada según el formato de entrada (xlsx, csv, json, ...)"
   ]
  },
  {
   "cell_type": "code",
   "execution_count": 5,
   "metadata": {
    "vscode": {
     "languageId": "r"
    }
   },
   "outputs": [
    {
     "name": "stderr",
     "output_type": "stream",
     "text": [
      "\u001b[1mRows: \u001b[22m\u001b[34m1138\u001b[39m \u001b[1mColumns: \u001b[22m\u001b[34m18\u001b[39m\n",
      "\u001b[36m--\u001b[39m \u001b[1mColumn specification\u001b[22m \u001b[36m--------------------------------------------------------\u001b[39m\n",
      "\u001b[1mDelimiter:\u001b[22m \",\"\n",
      "\u001b[31mchr\u001b[39m  (8): grupo, tipo, nombre, CODMUN, DIRECCION, info, CMUN, CDIS\n",
      "\u001b[32mdbl\u001b[39m (10): dist_aeropuerto, dist_intercambiador, dist_cercanias, dist_hospita...\n",
      "\n",
      "\u001b[36mi\u001b[39m Use `spec()` to retrieve the full column specification for this data.\n",
      "\u001b[36mi\u001b[39m Specify the column types or set `show_col_types = FALSE` to quiet this message.\n"
     ]
    }
   ],
   "source": [
    "data_01 <- read_csv(file_data)\n"
   ]
  },
  {
   "attachments": {},
   "cell_type": "markdown",
   "metadata": {},
   "source": [
    "Estructura de  los datos:"
   ]
  },
  {
   "cell_type": "code",
   "execution_count": 6,
   "metadata": {
    "vscode": {
     "languageId": "r"
    }
   },
   "outputs": [
    {
     "name": "stdout",
     "output_type": "stream",
     "text": [
      "Rows: 1,138\n",
      "Columns: 18\n",
      "$ grupo               \u001b[3m\u001b[90m<chr>\u001b[39m\u001b[23m \"Transporte\", \"Transporte\", \"Transporte\", \"Transpo~\n",
      "$ tipo                \u001b[3m\u001b[90m<chr>\u001b[39m\u001b[23m \"Intercambiadores\", \"Intercambiadores\", \"Intercamb~\n",
      "$ nombre              \u001b[3m\u001b[90m<chr>\u001b[39m\u001b[23m \"Grandes Intercambiadores Plaza El<U+00ED>ptica\", \"Grande~\n",
      "$ CODMUN              \u001b[3m\u001b[90m<chr>\u001b[39m\u001b[23m \"079\", \"079\", \"079\", \"079\", \"079\", \"079\", \"079\", \"~\n",
      "$ DIRECCION           \u001b[3m\u001b[90m<chr>\u001b[39m\u001b[23m \"Plaza El<U+00ED>ptica s/n\", \"Calle Princesa, 89\", \"Estac~\n",
      "$ info                \u001b[3m\u001b[90m<chr>\u001b[39m\u001b[23m NA, NA, NA, NA, NA, NA, NA, NA, NA, NA, NA, NA, NA~\n",
      "$ CMUN                \u001b[3m\u001b[90m<chr>\u001b[39m\u001b[23m \"079\", \"079\", \"079\", \"079\", \"079\", \"079\", \"079\", \"~\n",
      "$ CDIS                \u001b[3m\u001b[90m<chr>\u001b[39m\u001b[23m \"12\", \"09\", \"09\", \"05\", \"05\", \"05\", \"06\", \"02\", \"0~\n",
      "$ dist_aeropuerto     \u001b[3m\u001b[90m<dbl>\u001b[39m\u001b[23m 5.2031430, 8.5507475, 7.3002463, 9.9339069, 9.1988~\n",
      "$ dist_intercambiador \u001b[3m\u001b[90m<dbl>\u001b[39m\u001b[23m 0.0000000, 0.0000000, 0.0000000, 0.0000000, 0.0000~\n",
      "$ dist_cercanias      \u001b[3m\u001b[90m<dbl>\u001b[39m\u001b[23m 1.648973148, 1.468638183, 0.088338692, 0.736877403~\n",
      "$ dist_hospital       \u001b[3m\u001b[90m<dbl>\u001b[39m\u001b[23m 1.8154156, 0.4221115, 1.3855767, 1.0733484, 0.3488~\n",
      "$ dist_universidad    \u001b[3m\u001b[90m<dbl>\u001b[39m\u001b[23m 1.29960755, 0.30460781, 0.92076145, 0.08835165, 0.~\n",
      "$ dist_gob            \u001b[3m\u001b[90m<dbl>\u001b[39m\u001b[23m 0.61772353, 0.62638474, 1.17005116, 0.14904962, 1.~\n",
      "$ dist_embajada       \u001b[3m\u001b[90m<dbl>\u001b[39m\u001b[23m 3.921324e-01, 1.457397e+00, 5.624560e+00, 8.316773~\n",
      "$ dist_ccomercial     \u001b[3m\u001b[90m<dbl>\u001b[39m\u001b[23m 0.73115706, 1.61056736, 0.90608573, 0.77583440, 0.~\n",
      "$ X                   \u001b[3m\u001b[90m<dbl>\u001b[39m\u001b[23m -3.716577, -3.719508, -3.719560, -3.689044, -3.676~\n",
      "$ Y                   \u001b[3m\u001b[90m<dbl>\u001b[39m\u001b[23m 40.38540, 40.43474, 40.42080, 40.46719, 40.43797, ~\n"
     ]
    }
   ],
   "source": [
    "glimpse(data_01)"
   ]
  },
  {
   "attachments": {},
   "cell_type": "markdown",
   "metadata": {},
   "source": [
    "Muestra de datos:"
   ]
  },
  {
   "cell_type": "code",
   "execution_count": 7,
   "metadata": {
    "vscode": {
     "languageId": "r"
    }
   },
   "outputs": [
    {
     "data": {
      "text/html": [
       "<table class=\"dataframe\">\n",
       "<caption>A spec_tbl_df: 5 x 18</caption>\n",
       "<thead>\n",
       "\t<tr><th scope=col>grupo</th><th scope=col>tipo</th><th scope=col>nombre</th><th scope=col>CODMUN</th><th scope=col>DIRECCION</th><th scope=col>info</th><th scope=col>CMUN</th><th scope=col>CDIS</th><th scope=col>dist_aeropuerto</th><th scope=col>dist_intercambiador</th><th scope=col>dist_cercanias</th><th scope=col>dist_hospital</th><th scope=col>dist_universidad</th><th scope=col>dist_gob</th><th scope=col>dist_embajada</th><th scope=col>dist_ccomercial</th><th scope=col>X</th><th scope=col>Y</th></tr>\n",
       "\t<tr><th scope=col>&lt;chr&gt;</th><th scope=col>&lt;chr&gt;</th><th scope=col>&lt;chr&gt;</th><th scope=col>&lt;chr&gt;</th><th scope=col>&lt;chr&gt;</th><th scope=col>&lt;chr&gt;</th><th scope=col>&lt;chr&gt;</th><th scope=col>&lt;chr&gt;</th><th scope=col>&lt;dbl&gt;</th><th scope=col>&lt;dbl&gt;</th><th scope=col>&lt;dbl&gt;</th><th scope=col>&lt;dbl&gt;</th><th scope=col>&lt;dbl&gt;</th><th scope=col>&lt;dbl&gt;</th><th scope=col>&lt;dbl&gt;</th><th scope=col>&lt;dbl&gt;</th><th scope=col>&lt;dbl&gt;</th><th scope=col>&lt;dbl&gt;</th></tr>\n",
       "</thead>\n",
       "<tbody>\n",
       "\t<tr><td>Transporte</td><td>Intercambiadores</td><td><span style=white-space:pre-wrap>Grandes Intercambiadores Plaza El&lt;U+00ED&gt;ptica     </span></td><td>079</td><td><span style=white-space:pre-wrap>Plaza El&lt;U+00ED&gt;ptica s/n                 </span></td><td>NA</td><td>079</td><td>12</td><td>5.203143</td><td>0</td><td>1.64897315</td><td>1.8154156</td><td>1.29960755</td><td>0.6177235</td><td>0.39213238</td><td>0.7311571</td><td>-3.716577</td><td>40.38540</td></tr>\n",
       "\t<tr><td>Transporte</td><td>Intercambiadores</td><td>Grandes Intercambiadores Moncloa                   </td><td>079</td><td>Calle Princesa, 89                        </td><td>NA</td><td>079</td><td>09</td><td>8.550748</td><td>0</td><td>1.46863818</td><td>0.4221115</td><td>0.30460781</td><td>0.6263847</td><td>1.45739694</td><td>1.6105674</td><td>-3.719508</td><td>40.43474</td></tr>\n",
       "\t<tr><td>Transporte</td><td>Intercambiadores</td><td>Grandes Intercambiadores Pr&lt;U+00ED&gt;ncipe P&lt;U+00ED&gt;o</td><td>079</td><td>Estaci&lt;U+00F3&gt;n Pr&lt;U+00ED&gt;ncipe P&lt;U+00ED&gt;o</td><td>NA</td><td>079</td><td>09</td><td>7.300246</td><td>0</td><td>0.08833869</td><td>1.3855767</td><td>0.92076145</td><td>1.1700512</td><td>5.62455975</td><td>0.9060857</td><td>-3.719560</td><td>40.42080</td></tr>\n",
       "\t<tr><td>Transporte</td><td>Intercambiadores</td><td>Grandes Intercambiadores Plaza de Castilla         </td><td>079</td><td>Calle San Aquilino y Avenida de Asturias  </td><td>NA</td><td>079</td><td>05</td><td>9.933907</td><td>0</td><td>0.73687740</td><td>1.0733484</td><td>0.08835165</td><td>0.1490496</td><td>0.08316773</td><td>0.7758344</td><td>-3.689044</td><td>40.46719</td></tr>\n",
       "\t<tr><td>Transporte</td><td>Intercambiadores</td><td>Grandes Intercambiadores Avenida de Am&lt;U+00E9&gt;rica </td><td>079</td><td><span style=white-space:pre-wrap>Avenida de Am&lt;U+00E9&gt;rica 9 A             </span></td><td>NA</td><td>079</td><td>05</td><td>9.198897</td><td>0</td><td>1.62310148</td><td>0.3488060</td><td>0.50695045</td><td>1.1979177</td><td>0.40303107</td><td>0.9512580</td><td>-3.676731</td><td>40.43797</td></tr>\n",
       "</tbody>\n",
       "</table>\n"
      ],
      "text/latex": [
       "A spec\\_tbl\\_df: 5 x 18\n",
       "\\begin{tabular}{llllllllllllllllll}\n",
       " grupo & tipo & nombre & CODMUN & DIRECCION & info & CMUN & CDIS & dist\\_aeropuerto & dist\\_intercambiador & dist\\_cercanias & dist\\_hospital & dist\\_universidad & dist\\_gob & dist\\_embajada & dist\\_ccomercial & X & Y\\\\\n",
       " <chr> & <chr> & <chr> & <chr> & <chr> & <chr> & <chr> & <chr> & <dbl> & <dbl> & <dbl> & <dbl> & <dbl> & <dbl> & <dbl> & <dbl> & <dbl> & <dbl>\\\\\n",
       "\\hline\n",
       "\t Transporte & Intercambiadores & Grandes Intercambiadores Plaza El<U+00ED>ptica      & 079 & Plaza El<U+00ED>ptica s/n                  & NA & 079 & 12 & 5.203143 & 0 & 1.64897315 & 1.8154156 & 1.29960755 & 0.6177235 & 0.39213238 & 0.7311571 & -3.716577 & 40.38540\\\\\n",
       "\t Transporte & Intercambiadores & Grandes Intercambiadores Moncloa                    & 079 & Calle Princesa, 89                         & NA & 079 & 09 & 8.550748 & 0 & 1.46863818 & 0.4221115 & 0.30460781 & 0.6263847 & 1.45739694 & 1.6105674 & -3.719508 & 40.43474\\\\\n",
       "\t Transporte & Intercambiadores & Grandes Intercambiadores Pr<U+00ED>ncipe P<U+00ED>o & 079 & Estaci<U+00F3>n Pr<U+00ED>ncipe P<U+00ED>o & NA & 079 & 09 & 7.300246 & 0 & 0.08833869 & 1.3855767 & 0.92076145 & 1.1700512 & 5.62455975 & 0.9060857 & -3.719560 & 40.42080\\\\\n",
       "\t Transporte & Intercambiadores & Grandes Intercambiadores Plaza de Castilla          & 079 & Calle San Aquilino y Avenida de Asturias   & NA & 079 & 05 & 9.933907 & 0 & 0.73687740 & 1.0733484 & 0.08835165 & 0.1490496 & 0.08316773 & 0.7758344 & -3.689044 & 40.46719\\\\\n",
       "\t Transporte & Intercambiadores & Grandes Intercambiadores Avenida de Am<U+00E9>rica  & 079 & Avenida de Am<U+00E9>rica 9 A              & NA & 079 & 05 & 9.198897 & 0 & 1.62310148 & 0.3488060 & 0.50695045 & 1.1979177 & 0.40303107 & 0.9512580 & -3.676731 & 40.43797\\\\\n",
       "\\end{tabular}\n"
      ],
      "text/markdown": [
       "\n",
       "A spec_tbl_df: 5 x 18\n",
       "\n",
       "| grupo &lt;chr&gt; | tipo &lt;chr&gt; | nombre &lt;chr&gt; | CODMUN &lt;chr&gt; | DIRECCION &lt;chr&gt; | info &lt;chr&gt; | CMUN &lt;chr&gt; | CDIS &lt;chr&gt; | dist_aeropuerto &lt;dbl&gt; | dist_intercambiador &lt;dbl&gt; | dist_cercanias &lt;dbl&gt; | dist_hospital &lt;dbl&gt; | dist_universidad &lt;dbl&gt; | dist_gob &lt;dbl&gt; | dist_embajada &lt;dbl&gt; | dist_ccomercial &lt;dbl&gt; | X &lt;dbl&gt; | Y &lt;dbl&gt; |\n",
       "|---|---|---|---|---|---|---|---|---|---|---|---|---|---|---|---|---|---|\n",
       "| Transporte | Intercambiadores | Grandes Intercambiadores Plaza El&lt;U+00ED&gt;ptica      | 079 | Plaza El&lt;U+00ED&gt;ptica s/n                  | NA | 079 | 12 | 5.203143 | 0 | 1.64897315 | 1.8154156 | 1.29960755 | 0.6177235 | 0.39213238 | 0.7311571 | -3.716577 | 40.38540 |\n",
       "| Transporte | Intercambiadores | Grandes Intercambiadores Moncloa                    | 079 | Calle Princesa, 89                         | NA | 079 | 09 | 8.550748 | 0 | 1.46863818 | 0.4221115 | 0.30460781 | 0.6263847 | 1.45739694 | 1.6105674 | -3.719508 | 40.43474 |\n",
       "| Transporte | Intercambiadores | Grandes Intercambiadores Pr&lt;U+00ED&gt;ncipe P&lt;U+00ED&gt;o | 079 | Estaci&lt;U+00F3&gt;n Pr&lt;U+00ED&gt;ncipe P&lt;U+00ED&gt;o | NA | 079 | 09 | 7.300246 | 0 | 0.08833869 | 1.3855767 | 0.92076145 | 1.1700512 | 5.62455975 | 0.9060857 | -3.719560 | 40.42080 |\n",
       "| Transporte | Intercambiadores | Grandes Intercambiadores Plaza de Castilla          | 079 | Calle San Aquilino y Avenida de Asturias   | NA | 079 | 05 | 9.933907 | 0 | 0.73687740 | 1.0733484 | 0.08835165 | 0.1490496 | 0.08316773 | 0.7758344 | -3.689044 | 40.46719 |\n",
       "| Transporte | Intercambiadores | Grandes Intercambiadores Avenida de Am&lt;U+00E9&gt;rica  | 079 | Avenida de Am&lt;U+00E9&gt;rica 9 A              | NA | 079 | 05 | 9.198897 | 0 | 1.62310148 | 0.3488060 | 0.50695045 | 1.1979177 | 0.40303107 | 0.9512580 | -3.676731 | 40.43797 |\n",
       "\n"
      ],
      "text/plain": [
       "  grupo      tipo            \n",
       "1 Transporte Intercambiadores\n",
       "2 Transporte Intercambiadores\n",
       "3 Transporte Intercambiadores\n",
       "4 Transporte Intercambiadores\n",
       "5 Transporte Intercambiadores\n",
       "  nombre                                              CODMUN\n",
       "1 Grandes Intercambiadores Plaza El<U+00ED>ptica      079   \n",
       "2 Grandes Intercambiadores Moncloa                    079   \n",
       "3 Grandes Intercambiadores Pr<U+00ED>ncipe P<U+00ED>o 079   \n",
       "4 Grandes Intercambiadores Plaza de Castilla          079   \n",
       "5 Grandes Intercambiadores Avenida de Am<U+00E9>rica  079   \n",
       "  DIRECCION                                  info CMUN CDIS dist_aeropuerto\n",
       "1 Plaza El<U+00ED>ptica s/n                  NA   079  12   5.203143       \n",
       "2 Calle Princesa, 89                         NA   079  09   8.550748       \n",
       "3 Estaci<U+00F3>n Pr<U+00ED>ncipe P<U+00ED>o NA   079  09   7.300246       \n",
       "4 Calle San Aquilino y Avenida de Asturias   NA   079  05   9.933907       \n",
       "5 Avenida de Am<U+00E9>rica 9 A              NA   079  05   9.198897       \n",
       "  dist_intercambiador dist_cercanias dist_hospital dist_universidad dist_gob \n",
       "1 0                   1.64897315     1.8154156     1.29960755       0.6177235\n",
       "2 0                   1.46863818     0.4221115     0.30460781       0.6263847\n",
       "3 0                   0.08833869     1.3855767     0.92076145       1.1700512\n",
       "4 0                   0.73687740     1.0733484     0.08835165       0.1490496\n",
       "5 0                   1.62310148     0.3488060     0.50695045       1.1979177\n",
       "  dist_embajada dist_ccomercial X         Y       \n",
       "1 0.39213238    0.7311571       -3.716577 40.38540\n",
       "2 1.45739694    1.6105674       -3.719508 40.43474\n",
       "3 5.62455975    0.9060857       -3.719560 40.42080\n",
       "4 0.08316773    0.7758344       -3.689044 40.46719\n",
       "5 0.40303107    0.9512580       -3.676731 40.43797"
      ]
     },
     "metadata": {},
     "output_type": "display_data"
    }
   ],
   "source": [
    "slice_head(data_01, n = 5)"
   ]
  },
  {
   "cell_type": "markdown",
   "metadata": {
    "slideshow": {
     "slide_type": "slide"
    }
   },
   "source": [
    "## ETL Processes"
   ]
  },
  {
   "attachments": {},
   "cell_type": "markdown",
   "metadata": {
    "slideshow": {
     "slide_type": "slide"
    }
   },
   "source": [
    "### Import data from: CSV, Excel, Tab, JSON, SQL, and Parquet files\n",
    "\n",
    "Se han importado en el apartado Data Load anterior:\n",
    "\n",
    "* Datos de infraestructuras"
   ]
  },
  {
   "attachments": {},
   "cell_type": "markdown",
   "metadata": {},
   "source": [
    "Incluir apartados si procede para: Extracción de datos (select, filter), Transformación de datos, (mutate, joins, ...). Si es necesario tratar datos perdidos, indicarlo también en NB 09.2"
   ]
  },
  {
   "attachments": {},
   "cell_type": "markdown",
   "metadata": {},
   "source": [
    "Si no aplica: Estos datos no requieren tareas de este tipo."
   ]
  },
  {
   "attachments": {},
   "cell_type": "markdown",
   "metadata": {},
   "source": [
    "#### Data transform\n",
    "\n",
    "* Crear identificador único para cada infraestructura"
   ]
  },
  {
   "cell_type": "code",
   "execution_count": 8,
   "metadata": {
    "vscode": {
     "languageId": "r"
    }
   },
   "outputs": [],
   "source": [
    "tdata_01 <- data_01 |>\n",
    "    rowid_to_column(\"id_inf\")"
   ]
  },
  {
   "cell_type": "markdown",
   "metadata": {
    "slideshow": {
     "slide_type": "slide"
    }
   },
   "source": [
    "## Synthetic Data Generation"
   ]
  },
  {
   "attachments": {},
   "cell_type": "markdown",
   "metadata": {
    "slideshow": {
     "slide_type": "slide"
    }
   },
   "source": [
    "No aplica"
   ]
  },
  {
   "cell_type": "markdown",
   "metadata": {
    "slideshow": {
     "slide_type": "slide"
    }
   },
   "source": [
    "## Fake Data Generation"
   ]
  },
  {
   "attachments": {},
   "cell_type": "markdown",
   "metadata": {
    "slideshow": {
     "slide_type": "slide"
    }
   },
   "source": [
    "Se generan datos de un año para cada una de las infraestructuras con las variables:\n",
    "\n",
    "- capacidad\n",
    "- demanda\n",
    "- evento_infra\n",
    "- evento_zona\n",
    "\n"
   ]
  },
  {
   "attachments": {},
   "cell_type": "markdown",
   "metadata": {},
   "source": [
    "* Generar fechas"
   ]
  },
  {
   "cell_type": "code",
   "execution_count": 9,
   "metadata": {
    "vscode": {
     "languageId": "r"
    }
   },
   "outputs": [],
   "source": [
    "inicio <- as.Date(\"2019-01-01\")\n",
    "fin <- as.Date(\"2019-12-31\")\n",
    "dias <- seq(inicio, fin, by = 1)\n"
   ]
  },
  {
   "attachments": {},
   "cell_type": "markdown",
   "metadata": {},
   "source": [
    "* Generar las filas suficientes"
   ]
  },
  {
   "cell_type": "code",
   "execution_count": 10,
   "metadata": {
    "vscode": {
     "languageId": "r"
    }
   },
   "outputs": [],
   "source": [
    "data_02 <- expand.grid(id_inf = tdata_01$id_inf,\n",
    "            fecha = dias)"
   ]
  },
  {
   "attachments": {},
   "cell_type": "markdown",
   "metadata": {},
   "source": [
    "* Generar variables aleatoriamente"
   ]
  },
  {
   "cell_type": "code",
   "execution_count": 11,
   "metadata": {
    "vscode": {
     "languageId": "r"
    }
   },
   "outputs": [],
   "source": [
    "tdata_02 <- data_02 |>\n",
    "    mutate(capacidad = rpois(n(), 1000)) |>\n",
    "    mutate(demanda = capacidad + sample(c(-1, 1), n(), TRUE)*round(capacidad*0.1 + rnorm(n(), 10, 2))) |>\n",
    "    rowwise() |>\n",
    "    mutate(evento_infra = sample(c(0, 1), n(), TRUE, c((demanda > capacidad)*0.2 + (demanda < capacidad)*0.8, \n",
    "                                                        (demanda > capacidad)*0.8 + (demanda < capacidad)*0.2))) |>\n",
    "    mutate(evento_zona = sample(c(0, 1), n(), TRUE, c((demanda > capacidad)*0.4 + (demanda < capacidad)*0.6, \n",
    "                                                        (demanda > capacidad)*0.6 + (demanda < capacidad)*0.4)))\n",
    "\n",
    "                                                        "
   ]
  },
  {
   "cell_type": "code",
   "execution_count": 12,
   "metadata": {
    "vscode": {
     "languageId": "r"
    }
   },
   "outputs": [
    {
     "name": "stdout",
     "output_type": "stream",
     "text": [
      "Rows: 415,370\n",
      "Columns: 6\n",
      "Rowwise: \n",
      "$ id_inf       \u001b[3m\u001b[90m<int>\u001b[39m\u001b[23m 1, 2, 3, 4, 5, 6, 7, 8, 9, 10, 11, 12, 13, 14, 15, 16, 17~\n",
      "$ fecha        \u001b[3m\u001b[90m<date>\u001b[39m\u001b[23m 2019-01-01, 2019-01-01, 2019-01-01, 2019-01-01, 2019-01-~\n",
      "$ capacidad    \u001b[3m\u001b[90m<int>\u001b[39m\u001b[23m 935, 1067, 1030, 1010, 1016, 971, 994, 1023, 1010, 1001, ~\n",
      "$ demanda      \u001b[3m\u001b[90m<dbl>\u001b[39m\u001b[23m 1039, 952, 1147, 900, 1125, 865, 886, 1136, 1121, 889, 11~\n",
      "$ evento_infra \u001b[3m\u001b[90m<dbl>\u001b[39m\u001b[23m 1, 0, 1, 0, 0, 0, 0, 1, 1, 0, 1, 0, 1, 0, 0, 1, 0, 0, 0, ~\n",
      "$ evento_zona  \u001b[3m\u001b[90m<dbl>\u001b[39m\u001b[23m 1, 1, 1, 0, 1, 1, 0, 1, 0, 0, 0, 1, 1, 0, 1, 0, 0, 1, 1, ~\n"
     ]
    }
   ],
   "source": [
    "tdata_02 |> glimpse()"
   ]
  },
  {
   "cell_type": "code",
   "execution_count": 13,
   "metadata": {
    "vscode": {
     "languageId": "r"
    }
   },
   "outputs": [
    {
     "data": {
      "text/html": [
       "<table class=\"dataframe\">\n",
       "<caption>A rowwise_df: 415370 x 6</caption>\n",
       "<thead>\n",
       "\t<tr><th scope=col>id_inf</th><th scope=col>fecha</th><th scope=col>capacidad</th><th scope=col>demanda</th><th scope=col>evento_infra</th><th scope=col>evento_zona</th></tr>\n",
       "\t<tr><th scope=col>&lt;int&gt;</th><th scope=col>&lt;date&gt;</th><th scope=col>&lt;int&gt;</th><th scope=col>&lt;dbl&gt;</th><th scope=col>&lt;dbl&gt;</th><th scope=col>&lt;dbl&gt;</th></tr>\n",
       "</thead>\n",
       "<tbody>\n",
       "\t<tr><td> 1</td><td>2019-01-01</td><td> 935</td><td>1039</td><td>1</td><td>1</td></tr>\n",
       "\t<tr><td> 2</td><td>2019-01-01</td><td>1067</td><td> 952</td><td>0</td><td>1</td></tr>\n",
       "\t<tr><td> 3</td><td>2019-01-01</td><td>1030</td><td>1147</td><td>1</td><td>1</td></tr>\n",
       "\t<tr><td> 4</td><td>2019-01-01</td><td>1010</td><td> 900</td><td>0</td><td>0</td></tr>\n",
       "\t<tr><td> 5</td><td>2019-01-01</td><td>1016</td><td>1125</td><td>0</td><td>1</td></tr>\n",
       "\t<tr><td> 6</td><td>2019-01-01</td><td> 971</td><td> 865</td><td>0</td><td>1</td></tr>\n",
       "\t<tr><td> 7</td><td>2019-01-01</td><td> 994</td><td> 886</td><td>0</td><td>0</td></tr>\n",
       "\t<tr><td> 8</td><td>2019-01-01</td><td>1023</td><td>1136</td><td>1</td><td>1</td></tr>\n",
       "\t<tr><td> 9</td><td>2019-01-01</td><td>1010</td><td>1121</td><td>1</td><td>0</td></tr>\n",
       "\t<tr><td>10</td><td>2019-01-01</td><td>1001</td><td> 889</td><td>0</td><td>0</td></tr>\n",
       "\t<tr><td>11</td><td>2019-01-01</td><td>1001</td><td>1110</td><td>1</td><td>0</td></tr>\n",
       "\t<tr><td>12</td><td>2019-01-01</td><td> 990</td><td> 884</td><td>0</td><td>1</td></tr>\n",
       "\t<tr><td>13</td><td>2019-01-01</td><td> 988</td><td>1100</td><td>1</td><td>1</td></tr>\n",
       "\t<tr><td>14</td><td>2019-01-01</td><td>1037</td><td> 925</td><td>0</td><td>0</td></tr>\n",
       "\t<tr><td>15</td><td>2019-01-01</td><td> 997</td><td> 889</td><td>0</td><td>1</td></tr>\n",
       "\t<tr><td>16</td><td>2019-01-01</td><td> 967</td><td> 859</td><td>1</td><td>0</td></tr>\n",
       "\t<tr><td>17</td><td>2019-01-01</td><td> 978</td><td> 867</td><td>0</td><td>0</td></tr>\n",
       "\t<tr><td>18</td><td>2019-01-01</td><td>1034</td><td>1144</td><td>0</td><td>1</td></tr>\n",
       "\t<tr><td>19</td><td>2019-01-01</td><td>1046</td><td>1157</td><td>0</td><td>1</td></tr>\n",
       "\t<tr><td>20</td><td>2019-01-01</td><td>1058</td><td> 943</td><td>0</td><td>1</td></tr>\n",
       "\t<tr><td>21</td><td>2019-01-01</td><td> 963</td><td> 853</td><td>0</td><td>1</td></tr>\n",
       "\t<tr><td>22</td><td>2019-01-01</td><td>1006</td><td>1115</td><td>1</td><td>1</td></tr>\n",
       "\t<tr><td>23</td><td>2019-01-01</td><td> 983</td><td>1090</td><td>1</td><td>1</td></tr>\n",
       "\t<tr><td>24</td><td>2019-01-01</td><td>1079</td><td> 962</td><td>0</td><td>1</td></tr>\n",
       "\t<tr><td>25</td><td>2019-01-01</td><td>1025</td><td>1138</td><td>1</td><td>0</td></tr>\n",
       "\t<tr><td>26</td><td>2019-01-01</td><td>1020</td><td> 908</td><td>0</td><td>0</td></tr>\n",
       "\t<tr><td>27</td><td>2019-01-01</td><td>1025</td><td>1139</td><td>1</td><td>0</td></tr>\n",
       "\t<tr><td>28</td><td>2019-01-01</td><td>1014</td><td> 902</td><td>0</td><td>1</td></tr>\n",
       "\t<tr><td>29</td><td>2019-01-01</td><td>1012</td><td> 902</td><td>0</td><td>0</td></tr>\n",
       "\t<tr><td>30</td><td>2019-01-01</td><td> 985</td><td> 876</td><td>0</td><td>0</td></tr>\n",
       "\t<tr><td>...</td><td>...</td><td>...</td><td>...</td><td>...</td><td>...</td></tr>\n",
       "\t<tr><td>1109</td><td>2019-12-31</td><td> 995</td><td>1101</td><td>1</td><td>0</td></tr>\n",
       "\t<tr><td>1110</td><td>2019-12-31</td><td>1033</td><td>1149</td><td>1</td><td>1</td></tr>\n",
       "\t<tr><td>1111</td><td>2019-12-31</td><td> 995</td><td>1105</td><td>1</td><td>0</td></tr>\n",
       "\t<tr><td>1112</td><td>2019-12-31</td><td> 985</td><td> 875</td><td>1</td><td>0</td></tr>\n",
       "\t<tr><td>1113</td><td>2019-12-31</td><td> 998</td><td> 890</td><td>0</td><td>0</td></tr>\n",
       "\t<tr><td>1114</td><td>2019-12-31</td><td>1016</td><td> 904</td><td>0</td><td>0</td></tr>\n",
       "\t<tr><td>1115</td><td>2019-12-31</td><td>1025</td><td> 914</td><td>0</td><td>1</td></tr>\n",
       "\t<tr><td>1116</td><td>2019-12-31</td><td>1024</td><td> 912</td><td>1</td><td>0</td></tr>\n",
       "\t<tr><td>1117</td><td>2019-12-31</td><td>1000</td><td>1107</td><td>1</td><td>0</td></tr>\n",
       "\t<tr><td>1118</td><td>2019-12-31</td><td> 952</td><td> 847</td><td>0</td><td>0</td></tr>\n",
       "\t<tr><td>1119</td><td>2019-12-31</td><td> 917</td><td> 813</td><td>0</td><td>0</td></tr>\n",
       "\t<tr><td>1120</td><td>2019-12-31</td><td>1027</td><td> 912</td><td>0</td><td>1</td></tr>\n",
       "\t<tr><td>1121</td><td>2019-12-31</td><td>1010</td><td> 899</td><td>1</td><td>0</td></tr>\n",
       "\t<tr><td>1122</td><td>2019-12-31</td><td>1016</td><td> 904</td><td>1</td><td>1</td></tr>\n",
       "\t<tr><td>1123</td><td>2019-12-31</td><td> 971</td><td> 863</td><td>0</td><td>1</td></tr>\n",
       "\t<tr><td>1124</td><td>2019-12-31</td><td>1003</td><td> 893</td><td>0</td><td>1</td></tr>\n",
       "\t<tr><td>1125</td><td>2019-12-31</td><td> 963</td><td>1072</td><td>1</td><td>1</td></tr>\n",
       "\t<tr><td>1126</td><td>2019-12-31</td><td> 996</td><td>1107</td><td>1</td><td>0</td></tr>\n",
       "\t<tr><td>1127</td><td>2019-12-31</td><td> 900</td><td>1002</td><td>1</td><td>1</td></tr>\n",
       "\t<tr><td>1128</td><td>2019-12-31</td><td>1027</td><td> 911</td><td>0</td><td>1</td></tr>\n",
       "\t<tr><td>1129</td><td>2019-12-31</td><td>1021</td><td>1129</td><td>1</td><td>0</td></tr>\n",
       "\t<tr><td>1130</td><td>2019-12-31</td><td>1028</td><td> 914</td><td>0</td><td>1</td></tr>\n",
       "\t<tr><td>1131</td><td>2019-12-31</td><td> 990</td><td> 880</td><td>0</td><td>0</td></tr>\n",
       "\t<tr><td>1132</td><td>2019-12-31</td><td> 984</td><td> 874</td><td>1</td><td>0</td></tr>\n",
       "\t<tr><td>1133</td><td>2019-12-31</td><td>1022</td><td>1133</td><td>1</td><td>1</td></tr>\n",
       "\t<tr><td>1134</td><td>2019-12-31</td><td> 945</td><td>1051</td><td>1</td><td>0</td></tr>\n",
       "\t<tr><td>1135</td><td>2019-12-31</td><td> 977</td><td> 871</td><td>0</td><td>0</td></tr>\n",
       "\t<tr><td>1136</td><td>2019-12-31</td><td>1025</td><td> 912</td><td>0</td><td>0</td></tr>\n",
       "\t<tr><td>1137</td><td>2019-12-31</td><td> 995</td><td> 883</td><td>0</td><td>0</td></tr>\n",
       "\t<tr><td>1138</td><td>2019-12-31</td><td> 994</td><td>1104</td><td>1</td><td>0</td></tr>\n",
       "</tbody>\n",
       "</table>\n"
      ],
      "text/latex": [
       "A rowwise\\_df: 415370 x 6\n",
       "\\begin{tabular}{llllll}\n",
       " id\\_inf & fecha & capacidad & demanda & evento\\_infra & evento\\_zona\\\\\n",
       " <int> & <date> & <int> & <dbl> & <dbl> & <dbl>\\\\\n",
       "\\hline\n",
       "\t  1 & 2019-01-01 &  935 & 1039 & 1 & 1\\\\\n",
       "\t  2 & 2019-01-01 & 1067 &  952 & 0 & 1\\\\\n",
       "\t  3 & 2019-01-01 & 1030 & 1147 & 1 & 1\\\\\n",
       "\t  4 & 2019-01-01 & 1010 &  900 & 0 & 0\\\\\n",
       "\t  5 & 2019-01-01 & 1016 & 1125 & 0 & 1\\\\\n",
       "\t  6 & 2019-01-01 &  971 &  865 & 0 & 1\\\\\n",
       "\t  7 & 2019-01-01 &  994 &  886 & 0 & 0\\\\\n",
       "\t  8 & 2019-01-01 & 1023 & 1136 & 1 & 1\\\\\n",
       "\t  9 & 2019-01-01 & 1010 & 1121 & 1 & 0\\\\\n",
       "\t 10 & 2019-01-01 & 1001 &  889 & 0 & 0\\\\\n",
       "\t 11 & 2019-01-01 & 1001 & 1110 & 1 & 0\\\\\n",
       "\t 12 & 2019-01-01 &  990 &  884 & 0 & 1\\\\\n",
       "\t 13 & 2019-01-01 &  988 & 1100 & 1 & 1\\\\\n",
       "\t 14 & 2019-01-01 & 1037 &  925 & 0 & 0\\\\\n",
       "\t 15 & 2019-01-01 &  997 &  889 & 0 & 1\\\\\n",
       "\t 16 & 2019-01-01 &  967 &  859 & 1 & 0\\\\\n",
       "\t 17 & 2019-01-01 &  978 &  867 & 0 & 0\\\\\n",
       "\t 18 & 2019-01-01 & 1034 & 1144 & 0 & 1\\\\\n",
       "\t 19 & 2019-01-01 & 1046 & 1157 & 0 & 1\\\\\n",
       "\t 20 & 2019-01-01 & 1058 &  943 & 0 & 1\\\\\n",
       "\t 21 & 2019-01-01 &  963 &  853 & 0 & 1\\\\\n",
       "\t 22 & 2019-01-01 & 1006 & 1115 & 1 & 1\\\\\n",
       "\t 23 & 2019-01-01 &  983 & 1090 & 1 & 1\\\\\n",
       "\t 24 & 2019-01-01 & 1079 &  962 & 0 & 1\\\\\n",
       "\t 25 & 2019-01-01 & 1025 & 1138 & 1 & 0\\\\\n",
       "\t 26 & 2019-01-01 & 1020 &  908 & 0 & 0\\\\\n",
       "\t 27 & 2019-01-01 & 1025 & 1139 & 1 & 0\\\\\n",
       "\t 28 & 2019-01-01 & 1014 &  902 & 0 & 1\\\\\n",
       "\t 29 & 2019-01-01 & 1012 &  902 & 0 & 0\\\\\n",
       "\t 30 & 2019-01-01 &  985 &  876 & 0 & 0\\\\\n",
       "\t ... & ... & ... & ... & ... & ...\\\\\n",
       "\t 1109 & 2019-12-31 &  995 & 1101 & 1 & 0\\\\\n",
       "\t 1110 & 2019-12-31 & 1033 & 1149 & 1 & 1\\\\\n",
       "\t 1111 & 2019-12-31 &  995 & 1105 & 1 & 0\\\\\n",
       "\t 1112 & 2019-12-31 &  985 &  875 & 1 & 0\\\\\n",
       "\t 1113 & 2019-12-31 &  998 &  890 & 0 & 0\\\\\n",
       "\t 1114 & 2019-12-31 & 1016 &  904 & 0 & 0\\\\\n",
       "\t 1115 & 2019-12-31 & 1025 &  914 & 0 & 1\\\\\n",
       "\t 1116 & 2019-12-31 & 1024 &  912 & 1 & 0\\\\\n",
       "\t 1117 & 2019-12-31 & 1000 & 1107 & 1 & 0\\\\\n",
       "\t 1118 & 2019-12-31 &  952 &  847 & 0 & 0\\\\\n",
       "\t 1119 & 2019-12-31 &  917 &  813 & 0 & 0\\\\\n",
       "\t 1120 & 2019-12-31 & 1027 &  912 & 0 & 1\\\\\n",
       "\t 1121 & 2019-12-31 & 1010 &  899 & 1 & 0\\\\\n",
       "\t 1122 & 2019-12-31 & 1016 &  904 & 1 & 1\\\\\n",
       "\t 1123 & 2019-12-31 &  971 &  863 & 0 & 1\\\\\n",
       "\t 1124 & 2019-12-31 & 1003 &  893 & 0 & 1\\\\\n",
       "\t 1125 & 2019-12-31 &  963 & 1072 & 1 & 1\\\\\n",
       "\t 1126 & 2019-12-31 &  996 & 1107 & 1 & 0\\\\\n",
       "\t 1127 & 2019-12-31 &  900 & 1002 & 1 & 1\\\\\n",
       "\t 1128 & 2019-12-31 & 1027 &  911 & 0 & 1\\\\\n",
       "\t 1129 & 2019-12-31 & 1021 & 1129 & 1 & 0\\\\\n",
       "\t 1130 & 2019-12-31 & 1028 &  914 & 0 & 1\\\\\n",
       "\t 1131 & 2019-12-31 &  990 &  880 & 0 & 0\\\\\n",
       "\t 1132 & 2019-12-31 &  984 &  874 & 1 & 0\\\\\n",
       "\t 1133 & 2019-12-31 & 1022 & 1133 & 1 & 1\\\\\n",
       "\t 1134 & 2019-12-31 &  945 & 1051 & 1 & 0\\\\\n",
       "\t 1135 & 2019-12-31 &  977 &  871 & 0 & 0\\\\\n",
       "\t 1136 & 2019-12-31 & 1025 &  912 & 0 & 0\\\\\n",
       "\t 1137 & 2019-12-31 &  995 &  883 & 0 & 0\\\\\n",
       "\t 1138 & 2019-12-31 &  994 & 1104 & 1 & 0\\\\\n",
       "\\end{tabular}\n"
      ],
      "text/markdown": [
       "\n",
       "A rowwise_df: 415370 x 6\n",
       "\n",
       "| id_inf &lt;int&gt; | fecha &lt;date&gt; | capacidad &lt;int&gt; | demanda &lt;dbl&gt; | evento_infra &lt;dbl&gt; | evento_zona &lt;dbl&gt; |\n",
       "|---|---|---|---|---|---|\n",
       "|  1 | 2019-01-01 |  935 | 1039 | 1 | 1 |\n",
       "|  2 | 2019-01-01 | 1067 |  952 | 0 | 1 |\n",
       "|  3 | 2019-01-01 | 1030 | 1147 | 1 | 1 |\n",
       "|  4 | 2019-01-01 | 1010 |  900 | 0 | 0 |\n",
       "|  5 | 2019-01-01 | 1016 | 1125 | 0 | 1 |\n",
       "|  6 | 2019-01-01 |  971 |  865 | 0 | 1 |\n",
       "|  7 | 2019-01-01 |  994 |  886 | 0 | 0 |\n",
       "|  8 | 2019-01-01 | 1023 | 1136 | 1 | 1 |\n",
       "|  9 | 2019-01-01 | 1010 | 1121 | 1 | 0 |\n",
       "| 10 | 2019-01-01 | 1001 |  889 | 0 | 0 |\n",
       "| 11 | 2019-01-01 | 1001 | 1110 | 1 | 0 |\n",
       "| 12 | 2019-01-01 |  990 |  884 | 0 | 1 |\n",
       "| 13 | 2019-01-01 |  988 | 1100 | 1 | 1 |\n",
       "| 14 | 2019-01-01 | 1037 |  925 | 0 | 0 |\n",
       "| 15 | 2019-01-01 |  997 |  889 | 0 | 1 |\n",
       "| 16 | 2019-01-01 |  967 |  859 | 1 | 0 |\n",
       "| 17 | 2019-01-01 |  978 |  867 | 0 | 0 |\n",
       "| 18 | 2019-01-01 | 1034 | 1144 | 0 | 1 |\n",
       "| 19 | 2019-01-01 | 1046 | 1157 | 0 | 1 |\n",
       "| 20 | 2019-01-01 | 1058 |  943 | 0 | 1 |\n",
       "| 21 | 2019-01-01 |  963 |  853 | 0 | 1 |\n",
       "| 22 | 2019-01-01 | 1006 | 1115 | 1 | 1 |\n",
       "| 23 | 2019-01-01 |  983 | 1090 | 1 | 1 |\n",
       "| 24 | 2019-01-01 | 1079 |  962 | 0 | 1 |\n",
       "| 25 | 2019-01-01 | 1025 | 1138 | 1 | 0 |\n",
       "| 26 | 2019-01-01 | 1020 |  908 | 0 | 0 |\n",
       "| 27 | 2019-01-01 | 1025 | 1139 | 1 | 0 |\n",
       "| 28 | 2019-01-01 | 1014 |  902 | 0 | 1 |\n",
       "| 29 | 2019-01-01 | 1012 |  902 | 0 | 0 |\n",
       "| 30 | 2019-01-01 |  985 |  876 | 0 | 0 |\n",
       "| ... | ... | ... | ... | ... | ... |\n",
       "| 1109 | 2019-12-31 |  995 | 1101 | 1 | 0 |\n",
       "| 1110 | 2019-12-31 | 1033 | 1149 | 1 | 1 |\n",
       "| 1111 | 2019-12-31 |  995 | 1105 | 1 | 0 |\n",
       "| 1112 | 2019-12-31 |  985 |  875 | 1 | 0 |\n",
       "| 1113 | 2019-12-31 |  998 |  890 | 0 | 0 |\n",
       "| 1114 | 2019-12-31 | 1016 |  904 | 0 | 0 |\n",
       "| 1115 | 2019-12-31 | 1025 |  914 | 0 | 1 |\n",
       "| 1116 | 2019-12-31 | 1024 |  912 | 1 | 0 |\n",
       "| 1117 | 2019-12-31 | 1000 | 1107 | 1 | 0 |\n",
       "| 1118 | 2019-12-31 |  952 |  847 | 0 | 0 |\n",
       "| 1119 | 2019-12-31 |  917 |  813 | 0 | 0 |\n",
       "| 1120 | 2019-12-31 | 1027 |  912 | 0 | 1 |\n",
       "| 1121 | 2019-12-31 | 1010 |  899 | 1 | 0 |\n",
       "| 1122 | 2019-12-31 | 1016 |  904 | 1 | 1 |\n",
       "| 1123 | 2019-12-31 |  971 |  863 | 0 | 1 |\n",
       "| 1124 | 2019-12-31 | 1003 |  893 | 0 | 1 |\n",
       "| 1125 | 2019-12-31 |  963 | 1072 | 1 | 1 |\n",
       "| 1126 | 2019-12-31 |  996 | 1107 | 1 | 0 |\n",
       "| 1127 | 2019-12-31 |  900 | 1002 | 1 | 1 |\n",
       "| 1128 | 2019-12-31 | 1027 |  911 | 0 | 1 |\n",
       "| 1129 | 2019-12-31 | 1021 | 1129 | 1 | 0 |\n",
       "| 1130 | 2019-12-31 | 1028 |  914 | 0 | 1 |\n",
       "| 1131 | 2019-12-31 |  990 |  880 | 0 | 0 |\n",
       "| 1132 | 2019-12-31 |  984 |  874 | 1 | 0 |\n",
       "| 1133 | 2019-12-31 | 1022 | 1133 | 1 | 1 |\n",
       "| 1134 | 2019-12-31 |  945 | 1051 | 1 | 0 |\n",
       "| 1135 | 2019-12-31 |  977 |  871 | 0 | 0 |\n",
       "| 1136 | 2019-12-31 | 1025 |  912 | 0 | 0 |\n",
       "| 1137 | 2019-12-31 |  995 |  883 | 0 | 0 |\n",
       "| 1138 | 2019-12-31 |  994 | 1104 | 1 | 0 |\n",
       "\n"
      ],
      "text/plain": [
       "       id_inf fecha      capacidad demanda evento_infra evento_zona\n",
       "1       1     2019-01-01  935      1039    1            1          \n",
       "2       2     2019-01-01 1067       952    0            1          \n",
       "3       3     2019-01-01 1030      1147    1            1          \n",
       "4       4     2019-01-01 1010       900    0            0          \n",
       "5       5     2019-01-01 1016      1125    0            1          \n",
       "6       6     2019-01-01  971       865    0            1          \n",
       "7       7     2019-01-01  994       886    0            0          \n",
       "8       8     2019-01-01 1023      1136    1            1          \n",
       "9       9     2019-01-01 1010      1121    1            0          \n",
       "10     10     2019-01-01 1001       889    0            0          \n",
       "11     11     2019-01-01 1001      1110    1            0          \n",
       "12     12     2019-01-01  990       884    0            1          \n",
       "13     13     2019-01-01  988      1100    1            1          \n",
       "14     14     2019-01-01 1037       925    0            0          \n",
       "15     15     2019-01-01  997       889    0            1          \n",
       "16     16     2019-01-01  967       859    1            0          \n",
       "17     17     2019-01-01  978       867    0            0          \n",
       "18     18     2019-01-01 1034      1144    0            1          \n",
       "19     19     2019-01-01 1046      1157    0            1          \n",
       "20     20     2019-01-01 1058       943    0            1          \n",
       "21     21     2019-01-01  963       853    0            1          \n",
       "22     22     2019-01-01 1006      1115    1            1          \n",
       "23     23     2019-01-01  983      1090    1            1          \n",
       "24     24     2019-01-01 1079       962    0            1          \n",
       "25     25     2019-01-01 1025      1138    1            0          \n",
       "26     26     2019-01-01 1020       908    0            0          \n",
       "27     27     2019-01-01 1025      1139    1            0          \n",
       "28     28     2019-01-01 1014       902    0            1          \n",
       "29     29     2019-01-01 1012       902    0            0          \n",
       "30     30     2019-01-01  985       876    0            0          \n",
       "...    ...    ...        ...       ...     ...          ...        \n",
       "415341 1109   2019-12-31  995      1101    1            0          \n",
       "415342 1110   2019-12-31 1033      1149    1            1          \n",
       "415343 1111   2019-12-31  995      1105    1            0          \n",
       "415344 1112   2019-12-31  985       875    1            0          \n",
       "415345 1113   2019-12-31  998       890    0            0          \n",
       "415346 1114   2019-12-31 1016       904    0            0          \n",
       "415347 1115   2019-12-31 1025       914    0            1          \n",
       "415348 1116   2019-12-31 1024       912    1            0          \n",
       "415349 1117   2019-12-31 1000      1107    1            0          \n",
       "415350 1118   2019-12-31  952       847    0            0          \n",
       "415351 1119   2019-12-31  917       813    0            0          \n",
       "415352 1120   2019-12-31 1027       912    0            1          \n",
       "415353 1121   2019-12-31 1010       899    1            0          \n",
       "415354 1122   2019-12-31 1016       904    1            1          \n",
       "415355 1123   2019-12-31  971       863    0            1          \n",
       "415356 1124   2019-12-31 1003       893    0            1          \n",
       "415357 1125   2019-12-31  963      1072    1            1          \n",
       "415358 1126   2019-12-31  996      1107    1            0          \n",
       "415359 1127   2019-12-31  900      1002    1            1          \n",
       "415360 1128   2019-12-31 1027       911    0            1          \n",
       "415361 1129   2019-12-31 1021      1129    1            0          \n",
       "415362 1130   2019-12-31 1028       914    0            1          \n",
       "415363 1131   2019-12-31  990       880    0            0          \n",
       "415364 1132   2019-12-31  984       874    1            0          \n",
       "415365 1133   2019-12-31 1022      1133    1            1          \n",
       "415366 1134   2019-12-31  945      1051    1            0          \n",
       "415367 1135   2019-12-31  977       871    0            0          \n",
       "415368 1136   2019-12-31 1025       912    0            0          \n",
       "415369 1137   2019-12-31  995       883    0            0          \n",
       "415370 1138   2019-12-31  994      1104    1            0          "
      ]
     },
     "metadata": {},
     "output_type": "display_data"
    }
   ],
   "source": [
    "tdata_02 |> slice_head(n = 5)"
   ]
  },
  {
   "cell_type": "markdown",
   "metadata": {
    "slideshow": {
     "slide_type": "slide"
    }
   },
   "source": [
    "## Open Data"
   ]
  },
  {
   "attachments": {},
   "cell_type": "markdown",
   "metadata": {
    "slideshow": {
     "slide_type": "slide"
    }
   },
   "source": [
    "No aplica"
   ]
  },
  {
   "cell_type": "markdown",
   "metadata": {},
   "source": [
    "## <font color='green'>Data Save</font>"
   ]
  },
  {
   "attachments": {},
   "cell_type": "markdown",
   "metadata": {},
   "source": [
    "Este proceso, puede copiarse y repetirse en aquellas partes del notebbok que necesiten guardar datos.\n",
    "Recuerde cambiar las cadenas añadida del fichero para diferenciarlas"
   ]
  },
  {
   "attachments": {},
   "cell_type": "markdown",
   "metadata": {},
   "source": [
    "1. Infraestructuras con su identificador único"
   ]
  },
  {
   "cell_type": "markdown",
   "metadata": {},
   "source": [
    "<font color='tomato'> Identificamos los datos a guardar</font>"
   ]
  },
  {
   "cell_type": "code",
   "execution_count": 14,
   "metadata": {
    "ExecuteTime": {
     "end_time": "2020-12-25T17:59:27.022001Z",
     "start_time": "2020-12-25T17:59:15.986986Z"
    },
    "scrolled": false,
    "vscode": {
     "languageId": "r"
    }
   },
   "outputs": [],
   "source": [
    "data_to_save_01 <- tdata_01"
   ]
  },
  {
   "attachments": {},
   "cell_type": "markdown",
   "metadata": {},
   "source": [
    "\n",
    "<font color='tomato'>Estructura de nombre de archivos:</font>\n",
    "\n",
    "* Código del caso de uso, por ejemplo \"CU_04\"\n",
    "* Número del proceso que lo genera, por ejemplo \"_05\".\n",
    "* Número de la tarea que lo genera, por ejemplo \"_01\"\n",
    "* En caso de generarse varios ficheros en la misma tarea, llevarán _01 _02 ... después\n",
    "* Nombre: identificativo de \"properData\", por ejemplo \"_zonasgeo\"\n",
    "* Extensión del archivo\n",
    "\n",
    "Ejemplo: \"CU_04_05_01_01_zonasgeo.json, primer fichero que se genera en la tarea 01 del proceso 05 (Data Collection) para el caso de uso 04 (vacunas)\n",
    "\n",
    "Importante mantener los guiones bajos antes de proceso, tarea, archivo y nombre"
   ]
  },
  {
   "attachments": {},
   "cell_type": "markdown",
   "metadata": {},
   "source": [
    "### Proceso 05"
   ]
  },
  {
   "cell_type": "code",
   "execution_count": 15,
   "metadata": {
    "ExecuteTime": {
     "end_time": "2020-12-25T17:59:27.022001Z",
     "start_time": "2020-12-25T17:59:15.986986Z"
    },
    "scrolled": false,
    "vscode": {
     "languageId": "r"
    }
   },
   "outputs": [],
   "source": [
    "caso <- \"CU_18\"\n",
    "proceso <- '_05'\n",
    "tarea <- \"_19\"\n",
    "archivo <- \"_01\"\n",
    "proper <- \"_infraestructuras\"\n",
    "extension <- \".csv\""
   ]
  },
  {
   "attachments": {},
   "cell_type": "markdown",
   "metadata": {},
   "source": [
    "<font color='tomato'><b> OPCION A:</b> Uso del paquete \"tcltk\" para mayor comodidad</font>\n",
    "\n",
    "* Buscar carpeta, escribir nombre de archivo SIN extensión (se especifica en el código)\n",
    "* Especificar sufijo2 si es necesario\n",
    "* Cambiar datos por datos_xx si es necesario"
   ]
  },
  {
   "cell_type": "code",
   "execution_count": 16,
   "metadata": {
    "ExecuteTime": {
     "end_time": "2020-12-25T17:59:27.022001Z",
     "start_time": "2020-12-25T17:59:15.986986Z"
    },
    "scrolled": false,
    "vscode": {
     "languageId": "r"
    }
   },
   "outputs": [],
   "source": [
    "# file_save_01 <- paste0(caso, proceso, tarea, tcltk::tkgetSaveFile(), proper, extension) \n",
    "# path_out_01 <- paste0(oPath, file_save_01)\n",
    "# write_csv(data_to_save_01, path_out_01)\n",
    "\n",
    "# cat('File saved as: ')\n",
    "# path_out"
   ]
  },
  {
   "attachments": {},
   "cell_type": "markdown",
   "metadata": {},
   "source": [
    "<font color='tomato'><b> OPCION B:</b> Especificar el nombre de archivo</font>"
   ]
  },
  {
   "attachments": {},
   "cell_type": "markdown",
   "metadata": {},
   "source": [
    "- Los ficheros de salida del proceso van siempre a Data/Output/.  "
   ]
  },
  {
   "cell_type": "code",
   "execution_count": 17,
   "metadata": {
    "ExecuteTime": {
     "end_time": "2021-01-26T18:40:31.258294Z",
     "start_time": "2021-01-26T18:40:26.061847Z"
    },
    "slideshow": {
     "slide_type": "subslide"
    },
    "vscode": {
     "languageId": "r"
    }
   },
   "outputs": [
    {
     "name": "stdout",
     "output_type": "stream",
     "text": [
      "File saved as: "
     ]
    },
    {
     "data": {
      "text/html": [
       "'Data/Output/CU_18_05_19_01_infraestructuras.csv'"
      ],
      "text/latex": [
       "'Data/Output/CU\\_18\\_05\\_19\\_01\\_infraestructuras.csv'"
      ],
      "text/markdown": [
       "'Data/Output/CU_18_05_19_01_infraestructuras.csv'"
      ],
      "text/plain": [
       "[1] \"Data/Output/CU_18_05_19_01_infraestructuras.csv\""
      ]
     },
     "metadata": {},
     "output_type": "display_data"
    }
   ],
   "source": [
    "file_save_01 <- paste0(caso, proceso, tarea, archivo, proper, extension) \n",
    "path_out_01 <- paste0(oPath, file_save_01)\n",
    "write_csv(data_to_save_01, path_out_01)\n",
    "\n",
    "cat('File saved as: ')\n",
    "path_out_01"
   ]
  },
  {
   "attachments": {},
   "cell_type": "markdown",
   "metadata": {},
   "source": [
    "#### Copia del fichero a Input\n",
    "\n",
    "Si el archivo se va a usar en otros notebooks, copiar a la carpeta Input"
   ]
  },
  {
   "cell_type": "code",
   "execution_count": 18,
   "metadata": {
    "vscode": {
     "languageId": "r"
    }
   },
   "outputs": [],
   "source": [
    "# path_in <- paste0(iPath, file_save)\n",
    "# file.copy(path_out, path_in, overwrite = TRUE)"
   ]
  },
  {
   "attachments": {},
   "cell_type": "markdown",
   "metadata": {},
   "source": [
    "2. Diario de infraestructuras"
   ]
  },
  {
   "cell_type": "markdown",
   "metadata": {},
   "source": [
    "<font color='tomato'> Identificamos los datos a guardar</font>"
   ]
  },
  {
   "cell_type": "code",
   "execution_count": 19,
   "metadata": {
    "vscode": {
     "languageId": "r"
    }
   },
   "outputs": [],
   "source": [
    "data_to_save_02 <- tdata_02"
   ]
  },
  {
   "cell_type": "markdown",
   "metadata": {},
   "source": [
    "\n",
    "<font color='tomato'>Estructura de nombre de archivos:</font>\n",
    "\n",
    "* Código del caso de uso, por ejemplo \"CU_04\"\n",
    "* Número del proceso que lo genera, por ejemplo \"_05\".\n",
    "* Número de la tarea que lo genera, por ejemplo \"_01\"\n",
    "* En caso de generarse varios ficheros en la misma tarea, llevarán _01 _02 ... después\n",
    "* Nombre: identificativo de \"properData\", por ejemplo \"_zonasgeo\"\n",
    "* Extensión del archivo\n",
    "\n",
    "Ejemplo: \"CU_04_05_01_01_zonasgeo.json, primer fichero que se genera en la tarea 01 del proceso 05 (Data Collection) para el caso de uso 04 (vacunas)\n",
    "\n",
    "Importante mantener los guiones bajos antes de proceso, tarea, archivo y nombre"
   ]
  },
  {
   "cell_type": "markdown",
   "metadata": {},
   "source": [
    "### Proceso 05"
   ]
  },
  {
   "cell_type": "code",
   "execution_count": 20,
   "metadata": {
    "vscode": {
     "languageId": "r"
    }
   },
   "outputs": [],
   "source": [
    "archivo <- \"_02\"\n",
    "proper <- \"_diario_infra\"\n",
    "extension <- \".csv\""
   ]
  },
  {
   "cell_type": "markdown",
   "metadata": {},
   "source": [
    "<font color='tomato'><b> OPCION A:</b> Uso del paquete \"tcltk\" para mayor comodidad</font>\n",
    "\n",
    "* Buscar carpeta, escribir nombre de archivo SIN extensión (se especifica en el código)\n",
    "* Especificar sufijo2 si es necesario\n",
    "* Cambiar datos por datos_xx si es necesario"
   ]
  },
  {
   "cell_type": "code",
   "execution_count": 21,
   "metadata": {
    "vscode": {
     "languageId": "r"
    }
   },
   "outputs": [],
   "source": [
    "# file_save_02 <- paste0(caso, proceso, tarea, tcltk::tkgetSaveFile(), proper, extension) \n",
    "# path_out_02 <- paste0(oPath, file_save_02)\n",
    "# write_csv(data_to_save_01, path_out_02)\n",
    "\n",
    "# cat('File saved as: ')\n",
    "# path_out"
   ]
  },
  {
   "cell_type": "markdown",
   "metadata": {},
   "source": [
    "<font color='tomato'><b> OPCION B:</b> Especificar el nombre de archivo</font>"
   ]
  },
  {
   "cell_type": "markdown",
   "metadata": {},
   "source": [
    "- Los ficheros de salida del proceso van siempre a Data/Output/.  "
   ]
  },
  {
   "cell_type": "code",
   "execution_count": 22,
   "metadata": {
    "vscode": {
     "languageId": "r"
    }
   },
   "outputs": [
    {
     "name": "stdout",
     "output_type": "stream",
     "text": [
      "File saved as: "
     ]
    },
    {
     "data": {
      "text/html": [
       "'Data/Output/CU_18_05_19_02_diario_infra.csv'"
      ],
      "text/latex": [
       "'Data/Output/CU\\_18\\_05\\_19\\_02\\_diario\\_infra.csv'"
      ],
      "text/markdown": [
       "'Data/Output/CU_18_05_19_02_diario_infra.csv'"
      ],
      "text/plain": [
       "[1] \"Data/Output/CU_18_05_19_02_diario_infra.csv\""
      ]
     },
     "metadata": {},
     "output_type": "display_data"
    }
   ],
   "source": [
    "file_save_02 <- paste0(caso, proceso, tarea, archivo, proper, extension) \n",
    "path_out_02 <- paste0(oPath, file_save_02)\n",
    "write_csv(data_to_save_02, path_out_02)\n",
    "\n",
    "cat('File saved as: ')\n",
    "path_out_02"
   ]
  },
  {
   "cell_type": "markdown",
   "metadata": {},
   "source": [
    "#### Copia del fichero a Input\n",
    "\n",
    "Si el archivo se va a usar en otros notebooks, copiar a la carpeta Input"
   ]
  },
  {
   "cell_type": "code",
   "execution_count": 23,
   "metadata": {
    "vscode": {
     "languageId": "r"
    }
   },
   "outputs": [
    {
     "data": {
      "text/html": [
       "TRUE"
      ],
      "text/latex": [
       "TRUE"
      ],
      "text/markdown": [
       "TRUE"
      ],
      "text/plain": [
       "[1] TRUE"
      ]
     },
     "metadata": {},
     "output_type": "display_data"
    }
   ],
   "source": [
    "path_in_02 <- paste0(iPath, file_save_02)\n",
    "file.copy(path_out_02, path_in_02, overwrite = TRUE)"
   ]
  },
  {
   "cell_type": "markdown",
   "metadata": {},
   "source": [
    "## <font color=' #2874a6 '>Main Conclusions</font>"
   ]
  },
  {
   "cell_type": "markdown",
   "metadata": {
    "slideshow": {
     "slide_type": "slide"
    }
   },
   "source": [
    "<font color='steelblue'>List and describe the general conclusions of the analysis carried out​.</font>"
   ]
  },
  {
   "attachments": {},
   "cell_type": "markdown",
   "metadata": {},
   "source": [
    "### Prerequisites\n",
    "\n",
    "Para que funcione este código se necesita:\n",
    "\n",
    "* Las rutas de archivos `Data/Input` y `Data/Output` deben existir (relativas a la ruta del _notebook_)\n",
    "* El paquete tcltk instalado para seleccionar archivos interactivamente. No se necesita en producción.\n",
    "* Los paquetes tcltk, readr, dplyr deben estar instalados.\n"
   ]
  },
  {
   "attachments": {},
   "cell_type": "markdown",
   "metadata": {},
   "source": [
    "### Configuration Management\n",
    "\n",
    "This notebook has been tested with the following versions of R and packages. It cannot be assured that later versions work in the same way:\n",
    "\n",
    "* R 4.2.2\n",
    "* tcltk 4.2.2\n",
    "* readr 2.1.3\n",
    "* dplyr 1.0.10\n"
   ]
  },
  {
   "attachments": {},
   "cell_type": "markdown",
   "metadata": {},
   "source": [
    "### Data structures"
   ]
  },
  {
   "attachments": {},
   "cell_type": "markdown",
   "metadata": {},
   "source": [
    "#### Objeto `tdata_01`\n",
    "\n",
    "- Los datos de origen son los de infraestructuras pero sin indizar\n",
    "- Los datos de salida son los mismos pero con el índice de fila para unir al diario\n"
   ]
  },
  {
   "attachments": {},
   "cell_type": "markdown",
   "metadata": {},
   "source": [
    "#### Objeto `tdata_02`\n",
    "\n",
    "- Los datos de salida son 415370 filas de las columnas:\n",
    "    * id_inf\n",
    "    * fecha\n",
    "    * capacidad\n",
    "    * demanda\n",
    "    * evento_infra\n",
    "    * evento_zona\n"
   ]
  },
  {
   "attachments": {},
   "cell_type": "markdown",
   "metadata": {},
   "source": [
    "#### Observaciones generales sobre los datos\n",
    "\n",
    "* Los datos han sido generados de forma aleatoria y arbitraria"
   ]
  },
  {
   "attachments": {},
   "cell_type": "markdown",
   "metadata": {},
   "source": [
    "### Consideraciones para despliegue en piloto\n",
    "\n",
    "* Es posible que los modelos no arrojen resultados esclarecedores al ser datos _fake_"
   ]
  },
  {
   "attachments": {},
   "cell_type": "markdown",
   "metadata": {},
   "source": [
    "### Consideraciones para despliegue en producción\n",
    "\n",
    "* Se deben crear los procesos ETL en producción necesarios para que los datos de entrada estén actualizados\n",
    "* Se deberían tener datos reales para la puesta en producción"
   ]
  },
  {
   "cell_type": "markdown",
   "metadata": {},
   "source": [
    "## <font color=' #2874a6 '>Main Actions</font>"
   ]
  },
  {
   "cell_type": "markdown",
   "metadata": {},
   "source": [
    "#### <font color=' #2874a6 '>Acciones done</font>"
   ]
  },
  {
   "cell_type": "markdown",
   "metadata": {
    "slideshow": {
     "slide_type": "slide"
    }
   },
   "source": [
    "<font color='steelblue'>Indicate the actions that have been carried out in this process</font>"
   ]
  },
  {
   "attachments": {},
   "cell_type": "markdown",
   "metadata": {},
   "source": [
    "- Se han simulado datos de ocupación, capacidad y vivienda"
   ]
  },
  {
   "cell_type": "markdown",
   "metadata": {},
   "source": [
    "#### <font color=' #2874a6 '>Acctions to perform</font>"
   ]
  },
  {
   "cell_type": "markdown",
   "metadata": {
    "slideshow": {
     "slide_type": "slide"
    }
   },
   "source": [
    "<font color='steelblue'>Indicate the actions that must be carried out in subsequent processes</font>"
   ]
  },
  {
   "attachments": {},
   "cell_type": "markdown",
   "metadata": {},
   "source": [
    "- Se debe añadir la información meteorológica de cada día en cada infraestructura"
   ]
  },
  {
   "attachments": {},
   "cell_type": "markdown",
   "metadata": {},
   "source": [
    "## <font color='RED'>CODE TO DEPLOY (PILOT)</font>\n",
    "\n",
    "A continuación se incluirá el código que deba ser llevado a despliegue para producción, dado que se entiende efectúa operaciones necesarias sobre los datos en la ejecución del prototipo"
   ]
  },
  {
   "attachments": {},
   "cell_type": "markdown",
   "metadata": {},
   "source": [
    "<font color=' red '><b>Description</b></font>\n",
    "\n",
    "- No hay nada que desplegar en el piloto, ya que estos datos son estáticos o en todo caso cambian con muy poca frecuencia, altamente improbable durante el proyecto.\n"
   ]
  },
  {
   "attachments": {},
   "cell_type": "markdown",
   "metadata": {},
   "source": [
    "<font color=' red '><b>CODE</b></font>"
   ]
  },
  {
   "cell_type": "code",
   "execution_count": 24,
   "metadata": {
    "vscode": {
     "languageId": "r"
    }
   },
   "outputs": [],
   "source": [
    "# incluir código"
   ]
  }
 ],
 "metadata": {
  "anaconda-cloud": {},
  "celltoolbar": "Slideshow",
  "hide_input": false,
  "kernelspec": {
   "display_name": "R",
   "language": "R",
   "name": "ir"
  },
  "language_info": {
   "codemirror_mode": "r",
   "file_extension": ".r",
   "mimetype": "text/x-r-source",
   "name": "R",
   "pygments_lexer": "r",
   "version": "4.2.2"
  },
  "latex_envs": {
   "LaTeX_envs_menu_present": true,
   "autoclose": false,
   "autocomplete": true,
   "bibliofile": "biblio.bib",
   "cite_by": "apalike",
   "current_citInitial": 1,
   "eqLabelWithNumbers": true,
   "eqNumInitial": 1,
   "hotkeys": {
    "equation": "Ctrl-E",
    "itemize": "Ctrl-I"
   },
   "labels_anchors": false,
   "latex_user_defs": false,
   "report_style_numbering": true,
   "user_envs_cfg": false
  },
  "toc": {
   "base_numbering": 1,
   "nav_menu": {
    "height": "11.6px",
    "width": "160px"
   },
   "number_sections": false,
   "sideBar": true,
   "skip_h1_title": true,
   "title_cell": "Table of Contents",
   "title_sidebar": "Contents",
   "toc_cell": true,
   "toc_position": {
    "height": "calc(100% - 180px)",
    "left": "10px",
    "top": "150px",
    "width": "209.2px"
   },
   "toc_section_display": true,
   "toc_window_display": true
  },
  "varInspector": {
   "cols": {
    "lenName": 16,
    "lenType": 16,
    "lenVar": 40
   },
   "kernels_config": {
    "python": {
     "delete_cmd_postfix": "",
     "delete_cmd_prefix": "del ",
     "library": "var_list.py",
     "varRefreshCmd": "print(var_dic_list())"
    },
    "r": {
     "delete_cmd_postfix": ") ",
     "delete_cmd_prefix": "rm(",
     "library": "var_list.r",
     "varRefreshCmd": "cat(var_dic_list()) "
    }
   },
   "types_to_exclude": [
    "module",
    "function",
    "builtin_function_or_method",
    "instance",
    "_Feature"
   ],
   "window_display": false
  }
 },
 "nbformat": 4,
 "nbformat_minor": 1
}
