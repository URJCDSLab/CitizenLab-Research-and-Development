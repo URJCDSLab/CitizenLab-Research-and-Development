{
 "cells": [
  {
   "cell_type": "markdown",
   "metadata": {
    "slideshow": {
     "slide_type": "slide"
    }
   },
   "source": [
    "<img src=\".\\images\\Logo.png\" width=150 align=\"left\" /> <img src=\".\\images\\Logo2.jpg\" width=450 align=\"right\" />"
   ]
  },
  {
   "cell_type": "markdown",
   "metadata": {
    "slideshow": {
     "slide_type": "slide"
    }
   },
   "source": [
    "\n",
    "# <center><font color= #1e8449 > <b>CU18_Infraestructuras_eventos</font></center>"
   ]
  },
  {
   "cell_type": "markdown",
   "metadata": {
    "slideshow": {
     "slide_type": "slide"
    }
   },
   "source": [
    "<font color='steelblue'><b>Citizenlab Data Science Methodology > II - Data Processing Domain </font>\n",
    "***\n",
    "> # <font color='steelblue'> <b>05.- Data Collection</font>"
   ]
  },
  {
   "cell_type": "markdown",
   "metadata": {
    "slideshow": {
     "slide_type": "slide"
    }
   },
   "source": [
    "<font color='steelblue'>Data Collection is the process to obtain and generate (if required) necessary data to model the problem.</font>"
   ]
  },
  {
   "cell_type": "markdown",
   "metadata": {},
   "source": [
    "### 05. Agrupar datos de infraestructuras por distrito\n",
    "\n",
    "* A partir de los datos puntuales, agregar por distrito censal y contar infraestructruras para hacer mapas de regiones. \n",
    "* Adicionalmente crear metadatos con descripción y agrupamiento de variables.\n",
    "\n",
    "\n",
    "\n",
    "\n",
    "\n",
    "\n"
   ]
  },
  {
   "cell_type": "markdown",
   "metadata": {
    "toc": true
   },
   "source": [
    "<h1>Table of Contents<span class=\"tocSkip\"></span></h1>\n",
    "<div class=\"toc\"><ul class=\"toc-item\"><li><span><a href=\"#Settings\" data-toc-modified-id=\"Settings-1\"><font color=\"green\">Settings</font></a></span></li><li><span><a href=\"#Data-Load\" data-toc-modified-id=\"Data-Load-2\"><font color=\"green\">Data Load</font></a></span></li><li><span><a href=\"#ETL-Processes\" data-toc-modified-id=\"ETL-Processes-3\">ETL Processes</a></span><ul class=\"toc-item\"><li><span><a href=\"#Import-data-from:-CSV,-Excel,-Tab,-JSON,-SQL,-and-Parquet-files\" data-toc-modified-id=\"Import-data-from:-CSV,-Excel,-Tab,-JSON,-SQL,-and-Parquet-files-3.1\">Import data from: CSV, Excel, Tab, JSON, SQL, and Parquet files</a></span></li></ul></li><li><span><a href=\"#Synthetic-Data-Generation\" data-toc-modified-id=\"Synthetic-Data-Generation-4\">Synthetic Data Generation</a></span></li><li><span><a href=\"#Fake-Data-Generation\" data-toc-modified-id=\"Fake-Data-Generation-5\">Fake Data Generation</a></span></li><li><span><a href=\"#Open-Data\" data-toc-modified-id=\"Open-Data-6\">Open Data</a></span></li><li><span><a href=\"#Data-Save\" data-toc-modified-id=\"Data-Save-7\"><font color=\"green\">Data Save</font></a></span></li><li><span><a href=\"#Main-Conclusions\" data-toc-modified-id=\"Main-Conclusions-8\"><font color=\" #2874a6 \">Main Conclusions</font></a></span></li><li><span><a href=\"#Main-Actions\" data-toc-modified-id=\"Main-Actions-9\"><font color=\" #2874a6 \">Main Actions</font></a></span><ul class=\"toc-item\"><li><ul class=\"toc-item\"><li><span><a href=\"#Acciones-done\" data-toc-modified-id=\"Acciones-done-9.0.1\"><font color=\" #2874a6 \">Acciones done</font></a></span></li><li><span><a href=\"#Acctions-to-perform\" data-toc-modified-id=\"Acctions-to-perform-9.0.2\"><font color=\" #2874a6 \">Acctions to perform</font></a></span></li></ul></li></ul></li></ul></div>"
   ]
  },
  {
   "cell_type": "markdown",
   "metadata": {
    "slideshow": {
     "slide_type": "slide"
    }
   },
   "source": [
    "## <font color='green'>Settings</font>"
   ]
  },
  {
   "cell_type": "markdown",
   "metadata": {},
   "source": [
    "### Packages to use\n",
    "\n",
    "- {tcltk} para selección interactiva de archivos locales\n",
    "- {readr} para leer y escribir archivos csv\n",
    "- {dplyr} para explorar datos\n",
    "- {dityr} para tranformar datos\n",
    "- {janitor} para limpiar datos\n"
   ]
  },
  {
   "cell_type": "code",
   "execution_count": 24,
   "metadata": {
    "ExecuteTime": {
     "end_time": "2021-12-03T15:23:33.762841Z",
     "start_time": "2021-12-03T15:23:08.580267Z"
    },
    "slideshow": {
     "slide_type": "subslide"
    },
    "vscode": {
     "languageId": "r"
    }
   },
   "outputs": [],
   "source": [
    "library(readr)\n",
    "library(dplyr)\n",
    "library(tidyr)\n",
    "library(janitor)\n"
   ]
  },
  {
   "cell_type": "markdown",
   "metadata": {},
   "source": [
    "### Paths"
   ]
  },
  {
   "cell_type": "code",
   "execution_count": 25,
   "metadata": {
    "vscode": {
     "languageId": "r"
    }
   },
   "outputs": [],
   "source": [
    "iPath <- \"Data/Input/\"\n",
    "oPath <- \"Data/Output/\""
   ]
  },
  {
   "cell_type": "markdown",
   "metadata": {
    "slideshow": {
     "slide_type": "slide"
    }
   },
   "source": [
    "## <font color='green'>Data Load</font>\n",
    "\n",
    "If there are more than one input file, make as many sections as files to import."
   ]
  },
  {
   "cell_type": "markdown",
   "metadata": {},
   "source": [
    "Instrucciones\n",
    "- Los ficheros de entrada del proceso están siempre en Data/Input/.   \n",
    "- Si hay más de un fichero de entrada, se crean tantos objetos iFile_xx y file_data_xx como ficheros de entrada (xx número correlativo con dos dígitos, rellenar con ceros a la izquierda)"
   ]
  },
  {
   "cell_type": "markdown",
   "metadata": {},
   "source": [
    "<font color='tomato'><b> OPCION A:</b> Seleccionar fichero en ventana para mayor comodidad</font> "
   ]
  },
  {
   "cell_type": "markdown",
   "metadata": {},
   "source": [
    "Data load using the {tcltk} package. Ucomment the line if not using this option"
   ]
  },
  {
   "cell_type": "code",
   "execution_count": 26,
   "metadata": {
    "vscode": {
     "languageId": "r"
    }
   },
   "outputs": [],
   "source": [
    "# file_data <- tcltk::tk_choose.files(multi = FALSE)"
   ]
  },
  {
   "cell_type": "markdown",
   "metadata": {},
   "source": [
    "<font color='tomato'><b> OPCION B:</b> Especificar el nombre de archivo</font>\n",
    "\n"
   ]
  },
  {
   "cell_type": "code",
   "execution_count": 27,
   "metadata": {
    "vscode": {
     "languageId": "r"
    }
   },
   "outputs": [
    {
     "name": "stdout",
     "output_type": "stream",
     "text": [
      "Se leerán datos del archivo:  Data/Input/CU_18_05_04_infraestructuras.csv"
     ]
    }
   ],
   "source": [
    "iFile <- \"CU_18_05_04_infraestructuras.csv\"\n",
    "file_data <- paste0(iPath, iFile)\n",
    "\n",
    "if(file.exists(file_data)){\n",
    "    cat(\"Se leerán datos del archivo: \", file_data)\n",
    "} else{\n",
    "    warning(\"Cuidado: el archivo no existe.\")\n",
    "}\n"
   ]
  },
  {
   "cell_type": "markdown",
   "metadata": {},
   "source": [
    "#### Data file to dataframe\n",
    "\n",
    "Usar la función adecuada según el formato de entrada (xlsx, csv, json, ...)"
   ]
  },
  {
   "cell_type": "code",
   "execution_count": 28,
   "metadata": {
    "vscode": {
     "languageId": "r"
    }
   },
   "outputs": [
    {
     "name": "stderr",
     "output_type": "stream",
     "text": [
      "\u001b[1mRows: \u001b[22m\u001b[34m1633\u001b[39m \u001b[1mColumns: \u001b[22m\u001b[34m10\u001b[39m\n",
      "\u001b[36m──\u001b[39m \u001b[1mColumn specification\u001b[22m \u001b[36m────────────────────────────────────────────────────────\u001b[39m\n",
      "\u001b[1mDelimiter:\u001b[22m \",\"\n",
      "\u001b[31mchr\u001b[39m (8): grupo, tipo, nombre, CODMUN, DIRECCION, info, CMUN, CDIS\n",
      "\u001b[32mdbl\u001b[39m (2): X, Y\n",
      "\n",
      "\u001b[36mℹ\u001b[39m Use `spec()` to retrieve the full column specification for this data.\n",
      "\u001b[36mℹ\u001b[39m Specify the column types or set `show_col_types = FALSE` to quiet this message.\n"
     ]
    }
   ],
   "source": [
    "data <- read_csv(file_data)\n"
   ]
  },
  {
   "cell_type": "markdown",
   "metadata": {},
   "source": [
    "Estructura de  los datos:"
   ]
  },
  {
   "cell_type": "code",
   "execution_count": 29,
   "metadata": {
    "vscode": {
     "languageId": "r"
    }
   },
   "outputs": [
    {
     "name": "stdout",
     "output_type": "stream",
     "text": [
      "Rows: 1,633\n",
      "Columns: 10\n",
      "$ grupo     \u001b[3m\u001b[90m<chr>\u001b[39m\u001b[23m \"Transporte\", \"Transporte\", \"Transporte\", \"Transporte\", \"Tra…\n",
      "$ tipo      \u001b[3m\u001b[90m<chr>\u001b[39m\u001b[23m \"Intercambiadores\", \"Intercambiadores\", \"Intercambiadores\", …\n",
      "$ nombre    \u001b[3m\u001b[90m<chr>\u001b[39m\u001b[23m \"Grandes Intercambiadores Plaza Elíptica\", \"Grandes Intercam…\n",
      "$ CODMUN    \u001b[3m\u001b[90m<chr>\u001b[39m\u001b[23m \"079\", \"079\", \"079\", \"079\", \"079\", \"079\", \"079\", \"079\", \"079…\n",
      "$ DIRECCION \u001b[3m\u001b[90m<chr>\u001b[39m\u001b[23m \"Plaza Elíptica s/n\", \"Calle Princesa, 89\", \"Estación Prínci…\n",
      "$ X         \u001b[3m\u001b[90m<dbl>\u001b[39m\u001b[23m -3.716577, -3.719508, -3.719560, -3.689044, -3.676731, -3.68…\n",
      "$ Y         \u001b[3m\u001b[90m<dbl>\u001b[39m\u001b[23m 40.38540, 40.43474, 40.42080, 40.46719, 40.43797, 40.47198, …\n",
      "$ info      \u001b[3m\u001b[90m<chr>\u001b[39m\u001b[23m NA, NA, NA, NA, NA, NA, NA, NA, NA, NA, NA, NA, NA, NA, NA, …\n",
      "$ CMUN      \u001b[3m\u001b[90m<chr>\u001b[39m\u001b[23m \"079\", \"079\", \"079\", \"079\", \"079\", \"079\", \"079\", \"079\", \"079…\n",
      "$ CDIS      \u001b[3m\u001b[90m<chr>\u001b[39m\u001b[23m \"12\", \"09\", \"09\", \"05\", \"05\", \"05\", \"06\", \"02\", \"01\", \"10\", …\n"
     ]
    }
   ],
   "source": [
    "glimpse(data)"
   ]
  },
  {
   "cell_type": "markdown",
   "metadata": {},
   "source": [
    "Muestra de datos:"
   ]
  },
  {
   "cell_type": "code",
   "execution_count": 30,
   "metadata": {
    "vscode": {
     "languageId": "r"
    }
   },
   "outputs": [
    {
     "data": {
      "text/html": [
       "<table class=\"dataframe\">\n",
       "<caption>A spec_tbl_df: 5 × 10</caption>\n",
       "<thead>\n",
       "\t<tr><th scope=col>grupo</th><th scope=col>tipo</th><th scope=col>nombre</th><th scope=col>CODMUN</th><th scope=col>DIRECCION</th><th scope=col>X</th><th scope=col>Y</th><th scope=col>info</th><th scope=col>CMUN</th><th scope=col>CDIS</th></tr>\n",
       "\t<tr><th scope=col>&lt;chr&gt;</th><th scope=col>&lt;chr&gt;</th><th scope=col>&lt;chr&gt;</th><th scope=col>&lt;chr&gt;</th><th scope=col>&lt;chr&gt;</th><th scope=col>&lt;dbl&gt;</th><th scope=col>&lt;dbl&gt;</th><th scope=col>&lt;chr&gt;</th><th scope=col>&lt;chr&gt;</th><th scope=col>&lt;chr&gt;</th></tr>\n",
       "</thead>\n",
       "<tbody>\n",
       "\t<tr><td>Transporte</td><td>Intercambiadores</td><td>Grandes Intercambiadores Plaza Elíptica    </td><td>079</td><td>Plaza Elíptica s/n                      </td><td>-3.716577</td><td>40.38540</td><td>NA</td><td>079</td><td>12</td></tr>\n",
       "\t<tr><td>Transporte</td><td>Intercambiadores</td><td>Grandes Intercambiadores Moncloa           </td><td>079</td><td>Calle Princesa, 89                      </td><td>-3.719508</td><td>40.43474</td><td>NA</td><td>079</td><td>09</td></tr>\n",
       "\t<tr><td>Transporte</td><td>Intercambiadores</td><td>Grandes Intercambiadores Príncipe Pío      </td><td>079</td><td>Estación Príncipe Pío                   </td><td>-3.719560</td><td>40.42080</td><td>NA</td><td>079</td><td>09</td></tr>\n",
       "\t<tr><td>Transporte</td><td>Intercambiadores</td><td>Grandes Intercambiadores Plaza de Castilla </td><td>079</td><td>Calle San Aquilino y Avenida de Asturias</td><td>-3.689044</td><td>40.46719</td><td>NA</td><td>079</td><td>05</td></tr>\n",
       "\t<tr><td>Transporte</td><td>Intercambiadores</td><td>Grandes Intercambiadores Avenida de América</td><td>079</td><td>Avenida de América 9 A                  </td><td>-3.676731</td><td>40.43797</td><td>NA</td><td>079</td><td>05</td></tr>\n",
       "</tbody>\n",
       "</table>\n"
      ],
      "text/latex": [
       "A spec\\_tbl\\_df: 5 × 10\n",
       "\\begin{tabular}{llllllllll}\n",
       " grupo & tipo & nombre & CODMUN & DIRECCION & X & Y & info & CMUN & CDIS\\\\\n",
       " <chr> & <chr> & <chr> & <chr> & <chr> & <dbl> & <dbl> & <chr> & <chr> & <chr>\\\\\n",
       "\\hline\n",
       "\t Transporte & Intercambiadores & Grandes Intercambiadores Plaza Elíptica     & 079 & Plaza Elíptica s/n                       & -3.716577 & 40.38540 & NA & 079 & 12\\\\\n",
       "\t Transporte & Intercambiadores & Grandes Intercambiadores Moncloa            & 079 & Calle Princesa, 89                       & -3.719508 & 40.43474 & NA & 079 & 09\\\\\n",
       "\t Transporte & Intercambiadores & Grandes Intercambiadores Príncipe Pío       & 079 & Estación Príncipe Pío                    & -3.719560 & 40.42080 & NA & 079 & 09\\\\\n",
       "\t Transporte & Intercambiadores & Grandes Intercambiadores Plaza de Castilla  & 079 & Calle San Aquilino y Avenida de Asturias & -3.689044 & 40.46719 & NA & 079 & 05\\\\\n",
       "\t Transporte & Intercambiadores & Grandes Intercambiadores Avenida de América & 079 & Avenida de América 9 A                   & -3.676731 & 40.43797 & NA & 079 & 05\\\\\n",
       "\\end{tabular}\n"
      ],
      "text/markdown": [
       "\n",
       "A spec_tbl_df: 5 × 10\n",
       "\n",
       "| grupo &lt;chr&gt; | tipo &lt;chr&gt; | nombre &lt;chr&gt; | CODMUN &lt;chr&gt; | DIRECCION &lt;chr&gt; | X &lt;dbl&gt; | Y &lt;dbl&gt; | info &lt;chr&gt; | CMUN &lt;chr&gt; | CDIS &lt;chr&gt; |\n",
       "|---|---|---|---|---|---|---|---|---|---|\n",
       "| Transporte | Intercambiadores | Grandes Intercambiadores Plaza Elíptica     | 079 | Plaza Elíptica s/n                       | -3.716577 | 40.38540 | NA | 079 | 12 |\n",
       "| Transporte | Intercambiadores | Grandes Intercambiadores Moncloa            | 079 | Calle Princesa, 89                       | -3.719508 | 40.43474 | NA | 079 | 09 |\n",
       "| Transporte | Intercambiadores | Grandes Intercambiadores Príncipe Pío       | 079 | Estación Príncipe Pío                    | -3.719560 | 40.42080 | NA | 079 | 09 |\n",
       "| Transporte | Intercambiadores | Grandes Intercambiadores Plaza de Castilla  | 079 | Calle San Aquilino y Avenida de Asturias | -3.689044 | 40.46719 | NA | 079 | 05 |\n",
       "| Transporte | Intercambiadores | Grandes Intercambiadores Avenida de América | 079 | Avenida de América 9 A                   | -3.676731 | 40.43797 | NA | 079 | 05 |\n",
       "\n"
      ],
      "text/plain": [
       "  grupo      tipo             nombre                                     \n",
       "1 Transporte Intercambiadores Grandes Intercambiadores Plaza Elíptica    \n",
       "2 Transporte Intercambiadores Grandes Intercambiadores Moncloa           \n",
       "3 Transporte Intercambiadores Grandes Intercambiadores Príncipe Pío      \n",
       "4 Transporte Intercambiadores Grandes Intercambiadores Plaza de Castilla \n",
       "5 Transporte Intercambiadores Grandes Intercambiadores Avenida de América\n",
       "  CODMUN DIRECCION                                X         Y        info CMUN\n",
       "1 079    Plaza Elíptica s/n                       -3.716577 40.38540 NA   079 \n",
       "2 079    Calle Princesa, 89                       -3.719508 40.43474 NA   079 \n",
       "3 079    Estación Príncipe Pío                    -3.719560 40.42080 NA   079 \n",
       "4 079    Calle San Aquilino y Avenida de Asturias -3.689044 40.46719 NA   079 \n",
       "5 079    Avenida de América 9 A                   -3.676731 40.43797 NA   079 \n",
       "  CDIS\n",
       "1 12  \n",
       "2 09  \n",
       "3 09  \n",
       "4 05  \n",
       "5 05  "
      ]
     },
     "metadata": {},
     "output_type": "display_data"
    }
   ],
   "source": [
    "slice_head(data, n = 5)"
   ]
  },
  {
   "cell_type": "markdown",
   "metadata": {
    "slideshow": {
     "slide_type": "slide"
    }
   },
   "source": [
    "## ETL Processes"
   ]
  },
  {
   "cell_type": "markdown",
   "metadata": {
    "slideshow": {
     "slide_type": "slide"
    }
   },
   "source": [
    "### Import data from: CSV, Excel, Tab, JSON, SQL, and Parquet files\n",
    "\n",
    "Se han importado en el apartado Data Load anterior:\n",
    "\n",
    "* Infraestructuras"
   ]
  },
  {
   "cell_type": "markdown",
   "metadata": {},
   "source": [
    "Incluir apartados si procede para: Extracción de datos (select, filter), Transformación de datos, (mutate, joins, ...). Si es necesario tratar datos perdidos, indicarlo también en NB 09.2"
   ]
  },
  {
   "cell_type": "markdown",
   "metadata": {},
   "source": [
    "#### Data Transform"
   ]
  },
  {
   "cell_type": "markdown",
   "metadata": {},
   "source": [
    "* Contar número de infraestructuras de cada tipo por distrito\n",
    "* Extender en columnas para caracterizar distritos"
   ]
  },
  {
   "cell_type": "code",
   "execution_count": 31,
   "metadata": {
    "vscode": {
     "languageId": "r"
    }
   },
   "outputs": [],
   "source": [
    "tdata_01 <- data |> \n",
    "  count(CMUN, CDIS, tipo) |> \n",
    "  pivot_wider(names_from = tipo,\n",
    "              values_from = n, \n",
    "              values_fill = 0) "
   ]
  },
  {
   "cell_type": "code",
   "execution_count": 32,
   "metadata": {
    "vscode": {
     "languageId": "r"
    }
   },
   "outputs": [
    {
     "name": "stdout",
     "output_type": "stream",
     "text": [
      "Rows: 239\n",
      "Columns: 14\n",
      "$ CMUN                                      \u001b[3m\u001b[90m<chr>\u001b[39m\u001b[23m \"001\", \"002\", \"003\", \"004\", …\n",
      "$ CDIS                                      \u001b[3m\u001b[90m<chr>\u001b[39m\u001b[23m \"01\", \"01\", \"01\", \"01\", \"01\"…\n",
      "$ `Consultorios de Salud`                   \u001b[3m\u001b[90m<int>\u001b[39m\u001b[23m 1, 1, 1, 1, 0, 0, 0, 0, 0, 0…\n",
      "$ Helisuperficies                           \u001b[3m\u001b[90m<int>\u001b[39m\u001b[23m 1, 0, 1, 0, 0, 0, 0, 0, 0, 0…\n",
      "$ `Centros de Atención a Drogodependientes` \u001b[3m\u001b[90m<int>\u001b[39m\u001b[23m 0, 0, 0, 0, 1, 0, 0, 0, 0, 1…\n",
      "$ `Centros de Salud`                        \u001b[3m\u001b[90m<int>\u001b[39m\u001b[23m 0, 0, 0, 0, 2, 3, 2, 1, 2, 5…\n",
      "$ `Estaciones de Cercanías`                 \u001b[3m\u001b[90m<int>\u001b[39m\u001b[23m 0, 0, 0, 0, 1, 0, 1, 1, 0, 2…\n",
      "$ Hospitales                                \u001b[3m\u001b[90m<int>\u001b[39m\u001b[23m 0, 0, 0, 0, 1, 0, 0, 1, 0, 0…\n",
      "$ `Otros Centros de Salud`                  \u001b[3m\u001b[90m<int>\u001b[39m\u001b[23m 0, 0, 0, 0, 1, 0, 0, 0, 0, 0…\n",
      "$ `Centros de Salud Mental`                 \u001b[3m\u001b[90m<int>\u001b[39m\u001b[23m 0, 0, 0, 0, 0, 1, 0, 1, 0, 1…\n",
      "$ `Centros de Especialidades`               \u001b[3m\u001b[90m<int>\u001b[39m\u001b[23m 0, 0, 0, 0, 0, 0, 0, 1, 0, 1…\n",
      "$ `Bocas de metro`                          \u001b[3m\u001b[90m<int>\u001b[39m\u001b[23m 0, 0, 0, 0, 0, 0, 0, 0, 0, 9…\n",
      "$ Intercambiadores                          \u001b[3m\u001b[90m<int>\u001b[39m\u001b[23m 0, 0, 0, 0, 0, 0, 0, 0, 0, 0…\n",
      "$ Aeropuertos                               \u001b[3m\u001b[90m<int>\u001b[39m\u001b[23m 0, 0, 0, 0, 0, 0, 0, 0, 0, 0…\n"
     ]
    }
   ],
   "source": [
    "glimpse(tdata_01)"
   ]
  },
  {
   "cell_type": "code",
   "execution_count": 33,
   "metadata": {
    "vscode": {
     "languageId": "r"
    }
   },
   "outputs": [
    {
     "data": {
      "text/html": [
       "<table class=\"dataframe\">\n",
       "<caption>A tibble: 5 × 14</caption>\n",
       "<thead>\n",
       "\t<tr><th scope=col>CMUN</th><th scope=col>CDIS</th><th scope=col>Consultorios de Salud</th><th scope=col>Helisuperficies</th><th scope=col>Centros de Atención a Drogodependientes</th><th scope=col>Centros de Salud</th><th scope=col>Estaciones de Cercanías</th><th scope=col>Hospitales</th><th scope=col>Otros Centros de Salud</th><th scope=col>Centros de Salud Mental</th><th scope=col>Centros de Especialidades</th><th scope=col>Bocas de metro</th><th scope=col>Intercambiadores</th><th scope=col>Aeropuertos</th></tr>\n",
       "\t<tr><th scope=col>&lt;chr&gt;</th><th scope=col>&lt;chr&gt;</th><th scope=col>&lt;int&gt;</th><th scope=col>&lt;int&gt;</th><th scope=col>&lt;int&gt;</th><th scope=col>&lt;int&gt;</th><th scope=col>&lt;int&gt;</th><th scope=col>&lt;int&gt;</th><th scope=col>&lt;int&gt;</th><th scope=col>&lt;int&gt;</th><th scope=col>&lt;int&gt;</th><th scope=col>&lt;int&gt;</th><th scope=col>&lt;int&gt;</th><th scope=col>&lt;int&gt;</th></tr>\n",
       "</thead>\n",
       "<tbody>\n",
       "\t<tr><td>001</td><td>01</td><td>1</td><td>1</td><td>0</td><td>0</td><td>0</td><td>0</td><td>0</td><td>0</td><td>0</td><td>0</td><td>0</td><td>0</td></tr>\n",
       "\t<tr><td>002</td><td>01</td><td>1</td><td>0</td><td>0</td><td>0</td><td>0</td><td>0</td><td>0</td><td>0</td><td>0</td><td>0</td><td>0</td><td>0</td></tr>\n",
       "\t<tr><td>003</td><td>01</td><td>1</td><td>1</td><td>0</td><td>0</td><td>0</td><td>0</td><td>0</td><td>0</td><td>0</td><td>0</td><td>0</td><td>0</td></tr>\n",
       "\t<tr><td>004</td><td>01</td><td>1</td><td>0</td><td>0</td><td>0</td><td>0</td><td>0</td><td>0</td><td>0</td><td>0</td><td>0</td><td>0</td><td>0</td></tr>\n",
       "\t<tr><td>005</td><td>01</td><td>0</td><td>0</td><td>1</td><td>2</td><td>1</td><td>1</td><td>1</td><td>0</td><td>0</td><td>0</td><td>0</td><td>0</td></tr>\n",
       "</tbody>\n",
       "</table>\n"
      ],
      "text/latex": [
       "A tibble: 5 × 14\n",
       "\\begin{tabular}{llllllllllllll}\n",
       " CMUN & CDIS & Consultorios de Salud & Helisuperficies & Centros de Atención a Drogodependientes & Centros de Salud & Estaciones de Cercanías & Hospitales & Otros Centros de Salud & Centros de Salud Mental & Centros de Especialidades & Bocas de metro & Intercambiadores & Aeropuertos\\\\\n",
       " <chr> & <chr> & <int> & <int> & <int> & <int> & <int> & <int> & <int> & <int> & <int> & <int> & <int> & <int>\\\\\n",
       "\\hline\n",
       "\t 001 & 01 & 1 & 1 & 0 & 0 & 0 & 0 & 0 & 0 & 0 & 0 & 0 & 0\\\\\n",
       "\t 002 & 01 & 1 & 0 & 0 & 0 & 0 & 0 & 0 & 0 & 0 & 0 & 0 & 0\\\\\n",
       "\t 003 & 01 & 1 & 1 & 0 & 0 & 0 & 0 & 0 & 0 & 0 & 0 & 0 & 0\\\\\n",
       "\t 004 & 01 & 1 & 0 & 0 & 0 & 0 & 0 & 0 & 0 & 0 & 0 & 0 & 0\\\\\n",
       "\t 005 & 01 & 0 & 0 & 1 & 2 & 1 & 1 & 1 & 0 & 0 & 0 & 0 & 0\\\\\n",
       "\\end{tabular}\n"
      ],
      "text/markdown": [
       "\n",
       "A tibble: 5 × 14\n",
       "\n",
       "| CMUN &lt;chr&gt; | CDIS &lt;chr&gt; | Consultorios de Salud &lt;int&gt; | Helisuperficies &lt;int&gt; | Centros de Atención a Drogodependientes &lt;int&gt; | Centros de Salud &lt;int&gt; | Estaciones de Cercanías &lt;int&gt; | Hospitales &lt;int&gt; | Otros Centros de Salud &lt;int&gt; | Centros de Salud Mental &lt;int&gt; | Centros de Especialidades &lt;int&gt; | Bocas de metro &lt;int&gt; | Intercambiadores &lt;int&gt; | Aeropuertos &lt;int&gt; |\n",
       "|---|---|---|---|---|---|---|---|---|---|---|---|---|---|\n",
       "| 001 | 01 | 1 | 1 | 0 | 0 | 0 | 0 | 0 | 0 | 0 | 0 | 0 | 0 |\n",
       "| 002 | 01 | 1 | 0 | 0 | 0 | 0 | 0 | 0 | 0 | 0 | 0 | 0 | 0 |\n",
       "| 003 | 01 | 1 | 1 | 0 | 0 | 0 | 0 | 0 | 0 | 0 | 0 | 0 | 0 |\n",
       "| 004 | 01 | 1 | 0 | 0 | 0 | 0 | 0 | 0 | 0 | 0 | 0 | 0 | 0 |\n",
       "| 005 | 01 | 0 | 0 | 1 | 2 | 1 | 1 | 1 | 0 | 0 | 0 | 0 | 0 |\n",
       "\n"
      ],
      "text/plain": [
       "  CMUN CDIS Consultorios de Salud Helisuperficies\n",
       "1 001  01   1                     1              \n",
       "2 002  01   1                     0              \n",
       "3 003  01   1                     1              \n",
       "4 004  01   1                     0              \n",
       "5 005  01   0                     0              \n",
       "  Centros de Atención a Drogodependientes Centros de Salud\n",
       "1 0                                       0               \n",
       "2 0                                       0               \n",
       "3 0                                       0               \n",
       "4 0                                       0               \n",
       "5 1                                       2               \n",
       "  Estaciones de Cercanías Hospitales Otros Centros de Salud\n",
       "1 0                       0          0                     \n",
       "2 0                       0          0                     \n",
       "3 0                       0          0                     \n",
       "4 0                       0          0                     \n",
       "5 1                       1          1                     \n",
       "  Centros de Salud Mental Centros de Especialidades Bocas de metro\n",
       "1 0                       0                         0             \n",
       "2 0                       0                         0             \n",
       "3 0                       0                         0             \n",
       "4 0                       0                         0             \n",
       "5 0                       0                         0             \n",
       "  Intercambiadores Aeropuertos\n",
       "1 0                0          \n",
       "2 0                0          \n",
       "3 0                0          \n",
       "4 0                0          \n",
       "5 0                0          "
      ]
     },
     "metadata": {},
     "output_type": "display_data"
    }
   ],
   "source": [
    "tdata_01 |> slice_head(n = 5)"
   ]
  },
  {
   "cell_type": "markdown",
   "metadata": {},
   "source": [
    "#### Data Extract\n",
    "\n",
    "\n"
   ]
  },
  {
   "cell_type": "markdown",
   "metadata": {},
   "source": [
    "* Extraer nombres de columnas\n"
   ]
  },
  {
   "cell_type": "code",
   "execution_count": 34,
   "metadata": {
    "vscode": {
     "languageId": "r"
    }
   },
   "outputs": [],
   "source": [
    "tdata_02 <- data.frame(desc_var = colnames(tdata_01)[3:ncol(tdata_01)])"
   ]
  },
  {
   "cell_type": "code",
   "execution_count": 35,
   "metadata": {
    "vscode": {
     "languageId": "r"
    }
   },
   "outputs": [
    {
     "data": {
      "text/html": [
       "<table class=\"dataframe\">\n",
       "<caption>A data.frame: 12 × 1</caption>\n",
       "<thead>\n",
       "\t<tr><th scope=col>desc_var</th></tr>\n",
       "\t<tr><th scope=col>&lt;chr&gt;</th></tr>\n",
       "</thead>\n",
       "<tbody>\n",
       "\t<tr><td>Consultorios de Salud                  </td></tr>\n",
       "\t<tr><td>Helisuperficies                        </td></tr>\n",
       "\t<tr><td>Centros de Atención a Drogodependientes</td></tr>\n",
       "\t<tr><td>Centros de Salud                       </td></tr>\n",
       "\t<tr><td>Estaciones de Cercanías                </td></tr>\n",
       "\t<tr><td>Hospitales                             </td></tr>\n",
       "\t<tr><td>Otros Centros de Salud                 </td></tr>\n",
       "\t<tr><td>Centros de Salud Mental                </td></tr>\n",
       "\t<tr><td>Centros de Especialidades              </td></tr>\n",
       "\t<tr><td>Bocas de metro                         </td></tr>\n",
       "\t<tr><td>Intercambiadores                       </td></tr>\n",
       "\t<tr><td>Aeropuertos                            </td></tr>\n",
       "</tbody>\n",
       "</table>\n"
      ],
      "text/latex": [
       "A data.frame: 12 × 1\n",
       "\\begin{tabular}{l}\n",
       " desc\\_var\\\\\n",
       " <chr>\\\\\n",
       "\\hline\n",
       "\t Consultorios de Salud                  \\\\\n",
       "\t Helisuperficies                        \\\\\n",
       "\t Centros de Atención a Drogodependientes\\\\\n",
       "\t Centros de Salud                       \\\\\n",
       "\t Estaciones de Cercanías                \\\\\n",
       "\t Hospitales                             \\\\\n",
       "\t Otros Centros de Salud                 \\\\\n",
       "\t Centros de Salud Mental                \\\\\n",
       "\t Centros de Especialidades              \\\\\n",
       "\t Bocas de metro                         \\\\\n",
       "\t Intercambiadores                       \\\\\n",
       "\t Aeropuertos                            \\\\\n",
       "\\end{tabular}\n"
      ],
      "text/markdown": [
       "\n",
       "A data.frame: 12 × 1\n",
       "\n",
       "| desc_var &lt;chr&gt; |\n",
       "|---|\n",
       "| Consultorios de Salud                   |\n",
       "| Helisuperficies                         |\n",
       "| Centros de Atención a Drogodependientes |\n",
       "| Centros de Salud                        |\n",
       "| Estaciones de Cercanías                 |\n",
       "| Hospitales                              |\n",
       "| Otros Centros de Salud                  |\n",
       "| Centros de Salud Mental                 |\n",
       "| Centros de Especialidades               |\n",
       "| Bocas de metro                          |\n",
       "| Intercambiadores                        |\n",
       "| Aeropuertos                             |\n",
       "\n"
      ],
      "text/plain": [
       "   desc_var                               \n",
       "1  Consultorios de Salud                  \n",
       "2  Helisuperficies                        \n",
       "3  Centros de Atención a Drogodependientes\n",
       "4  Centros de Salud                       \n",
       "5  Estaciones de Cercanías                \n",
       "6  Hospitales                             \n",
       "7  Otros Centros de Salud                 \n",
       "8  Centros de Salud Mental                \n",
       "9  Centros de Especialidades              \n",
       "10 Bocas de metro                         \n",
       "11 Intercambiadores                       \n",
       "12 Aeropuertos                            "
      ]
     },
     "metadata": {},
     "output_type": "display_data"
    }
   ],
   "source": [
    "tdata_02"
   ]
  },
  {
   "cell_type": "markdown",
   "metadata": {},
   "source": [
    "Data Transform"
   ]
  },
  {
   "cell_type": "markdown",
   "metadata": {},
   "source": [
    "* Limpiar nombres de columnas"
   ]
  },
  {
   "cell_type": "code",
   "execution_count": 36,
   "metadata": {
    "vscode": {
     "languageId": "r"
    }
   },
   "outputs": [],
   "source": [
    "tdata_01 <- tdata_01 |> \n",
    "  clean_names()"
   ]
  },
  {
   "cell_type": "code",
   "execution_count": 37,
   "metadata": {
    "vscode": {
     "languageId": "r"
    }
   },
   "outputs": [
    {
     "name": "stdout",
     "output_type": "stream",
     "text": [
      "Rows: 239\n",
      "Columns: 14\n",
      "$ cmun                                    \u001b[3m\u001b[90m<chr>\u001b[39m\u001b[23m \"001\", \"002\", \"003\", \"004\", \"0…\n",
      "$ cdis                                    \u001b[3m\u001b[90m<chr>\u001b[39m\u001b[23m \"01\", \"01\", \"01\", \"01\", \"01\", …\n",
      "$ consultorios_de_salud                   \u001b[3m\u001b[90m<int>\u001b[39m\u001b[23m 1, 1, 1, 1, 0, 0, 0, 0, 0, 0, …\n",
      "$ helisuperficies                         \u001b[3m\u001b[90m<int>\u001b[39m\u001b[23m 1, 0, 1, 0, 0, 0, 0, 0, 0, 0, …\n",
      "$ centros_de_atencion_a_drogodependientes \u001b[3m\u001b[90m<int>\u001b[39m\u001b[23m 0, 0, 0, 0, 1, 0, 0, 0, 0, 1, …\n",
      "$ centros_de_salud                        \u001b[3m\u001b[90m<int>\u001b[39m\u001b[23m 0, 0, 0, 0, 2, 3, 2, 1, 2, 5, …\n",
      "$ estaciones_de_cercanias                 \u001b[3m\u001b[90m<int>\u001b[39m\u001b[23m 0, 0, 0, 0, 1, 0, 1, 1, 0, 2, …\n",
      "$ hospitales                              \u001b[3m\u001b[90m<int>\u001b[39m\u001b[23m 0, 0, 0, 0, 1, 0, 0, 1, 0, 0, …\n",
      "$ otros_centros_de_salud                  \u001b[3m\u001b[90m<int>\u001b[39m\u001b[23m 0, 0, 0, 0, 1, 0, 0, 0, 0, 0, …\n",
      "$ centros_de_salud_mental                 \u001b[3m\u001b[90m<int>\u001b[39m\u001b[23m 0, 0, 0, 0, 0, 1, 0, 1, 0, 1, …\n",
      "$ centros_de_especialidades               \u001b[3m\u001b[90m<int>\u001b[39m\u001b[23m 0, 0, 0, 0, 0, 0, 0, 1, 0, 1, …\n",
      "$ bocas_de_metro                          \u001b[3m\u001b[90m<int>\u001b[39m\u001b[23m 0, 0, 0, 0, 0, 0, 0, 0, 0, 9, …\n",
      "$ intercambiadores                        \u001b[3m\u001b[90m<int>\u001b[39m\u001b[23m 0, 0, 0, 0, 0, 0, 0, 0, 0, 0, …\n",
      "$ aeropuertos                             \u001b[3m\u001b[90m<int>\u001b[39m\u001b[23m 0, 0, 0, 0, 0, 0, 0, 0, 0, 0, …\n"
     ]
    }
   ],
   "source": [
    "glimpse(tdata_01)"
   ]
  },
  {
   "cell_type": "markdown",
   "metadata": {},
   "source": [
    "* Completar metadatos"
   ]
  },
  {
   "cell_type": "code",
   "execution_count": 44,
   "metadata": {
    "vscode": {
     "languageId": "r"
    }
   },
   "outputs": [],
   "source": [
    "tdata_02 <- tdata_02 |>\n",
    "    mutate(nombre_var = colnames(tdata_01)[3:ncol(tdata_01)]) |>\n",
    "    left_join(data |> count(grupo, tipo), \n",
    "                by = c(\"desc_var\" = \"tipo\")) "
   ]
  },
  {
   "cell_type": "code",
   "execution_count": 45,
   "metadata": {
    "vscode": {
     "languageId": "r"
    }
   },
   "outputs": [
    {
     "name": "stdout",
     "output_type": "stream",
     "text": [
      "Rows: 12\n",
      "Columns: 4\n",
      "$ desc_var   \u001b[3m\u001b[90m<chr>\u001b[39m\u001b[23m \"Consultorios de Salud\", \"Helisuperficies\", \"Centros de Ate…\n",
      "$ nombre_var \u001b[3m\u001b[90m<chr>\u001b[39m\u001b[23m \"consultorios_de_salud\", \"helisuperficies\", \"centros_de_ate…\n",
      "$ grupo      \u001b[3m\u001b[90m<chr>\u001b[39m\u001b[23m \"Salud\", \"Transporte\", \"Salud\", \"Salud\", \"Transporte\", \"Sal…\n",
      "$ n          \u001b[3m\u001b[90m<int>\u001b[39m\u001b[23m 156, 87, 35, 267, 93, 87, 29, 53, 28, 771, 24, 3\n"
     ]
    }
   ],
   "source": [
    "glimpse(tdata_02)"
   ]
  },
  {
   "cell_type": "code",
   "execution_count": 46,
   "metadata": {
    "vscode": {
     "languageId": "r"
    }
   },
   "outputs": [
    {
     "data": {
      "text/html": [
       "<table class=\"dataframe\">\n",
       "<caption>A data.frame: 12 × 4</caption>\n",
       "<thead>\n",
       "\t<tr><th scope=col>desc_var</th><th scope=col>nombre_var</th><th scope=col>grupo</th><th scope=col>n</th></tr>\n",
       "\t<tr><th scope=col>&lt;chr&gt;</th><th scope=col>&lt;chr&gt;</th><th scope=col>&lt;chr&gt;</th><th scope=col>&lt;int&gt;</th></tr>\n",
       "</thead>\n",
       "<tbody>\n",
       "\t<tr><td>Consultorios de Salud                  </td><td>consultorios_de_salud                  </td><td>Salud     </td><td>156</td></tr>\n",
       "\t<tr><td>Helisuperficies                        </td><td>helisuperficies                        </td><td>Transporte</td><td> 87</td></tr>\n",
       "\t<tr><td>Centros de Atención a Drogodependientes</td><td>centros_de_atencion_a_drogodependientes</td><td>Salud     </td><td> 35</td></tr>\n",
       "\t<tr><td>Centros de Salud                       </td><td>centros_de_salud                       </td><td>Salud     </td><td>267</td></tr>\n",
       "\t<tr><td>Estaciones de Cercanías                </td><td>estaciones_de_cercanias                </td><td>Transporte</td><td> 93</td></tr>\n",
       "\t<tr><td>Hospitales                             </td><td>hospitales                             </td><td>Salud     </td><td> 87</td></tr>\n",
       "\t<tr><td>Otros Centros de Salud                 </td><td>otros_centros_de_salud                 </td><td>Salud     </td><td> 29</td></tr>\n",
       "\t<tr><td>Centros de Salud Mental                </td><td>centros_de_salud_mental                </td><td>Salud     </td><td> 53</td></tr>\n",
       "\t<tr><td>Centros de Especialidades              </td><td>centros_de_especialidades              </td><td>Salud     </td><td> 28</td></tr>\n",
       "\t<tr><td>Bocas de metro                         </td><td>bocas_de_metro                         </td><td>Transporte</td><td>771</td></tr>\n",
       "\t<tr><td>Intercambiadores                       </td><td>intercambiadores                       </td><td>Transporte</td><td> 24</td></tr>\n",
       "\t<tr><td>Aeropuertos                            </td><td>aeropuertos                            </td><td>Transporte</td><td>  3</td></tr>\n",
       "</tbody>\n",
       "</table>\n"
      ],
      "text/latex": [
       "A data.frame: 12 × 4\n",
       "\\begin{tabular}{llll}\n",
       " desc\\_var & nombre\\_var & grupo & n\\\\\n",
       " <chr> & <chr> & <chr> & <int>\\\\\n",
       "\\hline\n",
       "\t Consultorios de Salud                   & consultorios\\_de\\_salud                   & Salud      & 156\\\\\n",
       "\t Helisuperficies                         & helisuperficies                         & Transporte &  87\\\\\n",
       "\t Centros de Atención a Drogodependientes & centros\\_de\\_atencion\\_a\\_drogodependientes & Salud      &  35\\\\\n",
       "\t Centros de Salud                        & centros\\_de\\_salud                        & Salud      & 267\\\\\n",
       "\t Estaciones de Cercanías                 & estaciones\\_de\\_cercanias                 & Transporte &  93\\\\\n",
       "\t Hospitales                              & hospitales                              & Salud      &  87\\\\\n",
       "\t Otros Centros de Salud                  & otros\\_centros\\_de\\_salud                  & Salud      &  29\\\\\n",
       "\t Centros de Salud Mental                 & centros\\_de\\_salud\\_mental                 & Salud      &  53\\\\\n",
       "\t Centros de Especialidades               & centros\\_de\\_especialidades               & Salud      &  28\\\\\n",
       "\t Bocas de metro                          & bocas\\_de\\_metro                          & Transporte & 771\\\\\n",
       "\t Intercambiadores                        & intercambiadores                        & Transporte &  24\\\\\n",
       "\t Aeropuertos                             & aeropuertos                             & Transporte &   3\\\\\n",
       "\\end{tabular}\n"
      ],
      "text/markdown": [
       "\n",
       "A data.frame: 12 × 4\n",
       "\n",
       "| desc_var &lt;chr&gt; | nombre_var &lt;chr&gt; | grupo &lt;chr&gt; | n &lt;int&gt; |\n",
       "|---|---|---|---|\n",
       "| Consultorios de Salud                   | consultorios_de_salud                   | Salud      | 156 |\n",
       "| Helisuperficies                         | helisuperficies                         | Transporte |  87 |\n",
       "| Centros de Atención a Drogodependientes | centros_de_atencion_a_drogodependientes | Salud      |  35 |\n",
       "| Centros de Salud                        | centros_de_salud                        | Salud      | 267 |\n",
       "| Estaciones de Cercanías                 | estaciones_de_cercanias                 | Transporte |  93 |\n",
       "| Hospitales                              | hospitales                              | Salud      |  87 |\n",
       "| Otros Centros de Salud                  | otros_centros_de_salud                  | Salud      |  29 |\n",
       "| Centros de Salud Mental                 | centros_de_salud_mental                 | Salud      |  53 |\n",
       "| Centros de Especialidades               | centros_de_especialidades               | Salud      |  28 |\n",
       "| Bocas de metro                          | bocas_de_metro                          | Transporte | 771 |\n",
       "| Intercambiadores                        | intercambiadores                        | Transporte |  24 |\n",
       "| Aeropuertos                             | aeropuertos                             | Transporte |   3 |\n",
       "\n"
      ],
      "text/plain": [
       "   desc_var                               \n",
       "1  Consultorios de Salud                  \n",
       "2  Helisuperficies                        \n",
       "3  Centros de Atención a Drogodependientes\n",
       "4  Centros de Salud                       \n",
       "5  Estaciones de Cercanías                \n",
       "6  Hospitales                             \n",
       "7  Otros Centros de Salud                 \n",
       "8  Centros de Salud Mental                \n",
       "9  Centros de Especialidades              \n",
       "10 Bocas de metro                         \n",
       "11 Intercambiadores                       \n",
       "12 Aeropuertos                            \n",
       "   nombre_var                              grupo      n  \n",
       "1  consultorios_de_salud                   Salud      156\n",
       "2  helisuperficies                         Transporte  87\n",
       "3  centros_de_atencion_a_drogodependientes Salud       35\n",
       "4  centros_de_salud                        Salud      267\n",
       "5  estaciones_de_cercanias                 Transporte  93\n",
       "6  hospitales                              Salud       87\n",
       "7  otros_centros_de_salud                  Salud       29\n",
       "8  centros_de_salud_mental                 Salud       53\n",
       "9  centros_de_especialidades               Salud       28\n",
       "10 bocas_de_metro                          Transporte 771\n",
       "11 intercambiadores                        Transporte  24\n",
       "12 aeropuertos                             Transporte   3"
      ]
     },
     "metadata": {},
     "output_type": "display_data"
    }
   ],
   "source": [
    "tdata_02"
   ]
  },
  {
   "cell_type": "markdown",
   "metadata": {},
   "source": [
    "Si no aplica: Estos datos no requieren tareas de este tipo."
   ]
  },
  {
   "cell_type": "markdown",
   "metadata": {
    "slideshow": {
     "slide_type": "slide"
    }
   },
   "source": [
    "## Synthetic Data Generation"
   ]
  },
  {
   "cell_type": "markdown",
   "metadata": {},
   "source": [
    "Estos datos no requieren tareas de este tipo."
   ]
  },
  {
   "cell_type": "markdown",
   "metadata": {
    "slideshow": {
     "slide_type": "slide"
    }
   },
   "source": [
    "## Fake Data Generation"
   ]
  },
  {
   "cell_type": "markdown",
   "metadata": {
    "slideshow": {
     "slide_type": "slide"
    }
   },
   "source": [
    "Estos datos no requieren tareas de este tipo."
   ]
  },
  {
   "cell_type": "markdown",
   "metadata": {
    "slideshow": {
     "slide_type": "slide"
    }
   },
   "source": [
    "## Open Data"
   ]
  },
  {
   "cell_type": "markdown",
   "metadata": {
    "slideshow": {
     "slide_type": "slide"
    }
   },
   "source": [
    "Estos datos no requieren tareas de este tipo."
   ]
  },
  {
   "cell_type": "markdown",
   "metadata": {},
   "source": [
    "## <font color='green'>Data Save</font>"
   ]
  },
  {
   "cell_type": "markdown",
   "metadata": {},
   "source": [
    "Este proceso, puede copiarse y repetirse en aquellas partes del notebbok que necesiten guardar datos.\n",
    "Recuerde cambiar las cadenas añadida del fichero para diferenciarlas"
   ]
  },
  {
   "cell_type": "markdown",
   "metadata": {},
   "source": [
    "<font color='tomato'> Identificamos los datos a guardar</font>"
   ]
  },
  {
   "cell_type": "markdown",
   "metadata": {},
   "source": [
    "1. Infraestructuras agregadas por distrito"
   ]
  },
  {
   "cell_type": "code",
   "execution_count": 71,
   "metadata": {
    "ExecuteTime": {
     "end_time": "2020-12-25T17:59:27.022001Z",
     "start_time": "2020-12-25T17:59:15.986986Z"
    },
    "scrolled": false,
    "vscode": {
     "languageId": "r"
    }
   },
   "outputs": [],
   "source": [
    "data_to_save <- tdata_01"
   ]
  },
  {
   "cell_type": "markdown",
   "metadata": {},
   "source": [
    "\n",
    "<font color='tomato'>Estructura de nombre de archivos:</font>\n",
    "\n",
    "* Código del caso de uso, por ejemplo \"CU_04\"\n",
    "* Número del proceso que lo genera, por ejemplo \"_05\".\n",
    "* Número de la tarea que lo genera, por ejemplo \"_01\"\n",
    "* En caso de generarse varios ficheros en la misma tarea, llevarán _01 _02 ... después\n",
    "* Nombre: identificativo de \"properData\", por ejemplo \"_zonasgeo\"\n",
    "* Extensión del archivo\n",
    "\n",
    "Ejemplo: \"CU_04_05_01_01_zonasgeo.json, primer fichero que se genera en la tarea 01 del proceso 05 (Data Collection) para el caso de uso 04 (vacunas)\n",
    "\n",
    "Importante mantener los guiones bajos antes de proceso, tarea, archivo y nombre"
   ]
  },
  {
   "cell_type": "markdown",
   "metadata": {},
   "source": [
    "### Proceso 05"
   ]
  },
  {
   "cell_type": "code",
   "execution_count": 72,
   "metadata": {
    "ExecuteTime": {
     "end_time": "2020-12-25T17:59:27.022001Z",
     "start_time": "2020-12-25T17:59:15.986986Z"
    },
    "scrolled": false,
    "vscode": {
     "languageId": "r"
    }
   },
   "outputs": [],
   "source": [
    "caso <- \"CU_18\"\n",
    "proceso <- '_05'\n",
    "tarea <- \"_05\"\n",
    "archivo <- \"_01\"\n",
    "proper <- \"_infraestructuras_distrito\"\n",
    "extension <- \".csv\""
   ]
  },
  {
   "cell_type": "markdown",
   "metadata": {},
   "source": [
    "<font color='tomato'><b> OPCION A:</b> Uso del paquete \"tcltk\" para mayor comodidad</font>\n",
    "\n",
    "* Buscar carpeta, escribir nombre de archivo SIN extensión (se especifica en el código)\n",
    "* Especificar sufijo2 si es necesario\n",
    "* Cambiar datos por datos_xx si es necesario"
   ]
  },
  {
   "cell_type": "code",
   "execution_count": 69,
   "metadata": {
    "ExecuteTime": {
     "end_time": "2020-12-25T17:59:27.022001Z",
     "start_time": "2020-12-25T17:59:15.986986Z"
    },
    "scrolled": false,
    "vscode": {
     "languageId": "r"
    }
   },
   "outputs": [],
   "source": [
    "# file_save_01 <- paste0(caso, proceso, tarea, tcltk::tkgetSaveFile(), proper, extension) \n",
    "# path_out_01 <- paste0(oPath, file_save_01)\n",
    "# write_csv(data_to_save, path_out_01)\n",
    "\n",
    "# cat('File saved as: ')\n",
    "# path_out"
   ]
  },
  {
   "cell_type": "markdown",
   "metadata": {},
   "source": [
    "<font color='tomato'><b> OPCION B:</b> Especificar el nombre de archivo</font>"
   ]
  },
  {
   "cell_type": "markdown",
   "metadata": {},
   "source": [
    "- Los ficheros de salida del proceso van siempre a Data/Output/.  "
   ]
  },
  {
   "cell_type": "code",
   "execution_count": 73,
   "metadata": {
    "ExecuteTime": {
     "end_time": "2021-01-26T18:40:31.258294Z",
     "start_time": "2021-01-26T18:40:26.061847Z"
    },
    "slideshow": {
     "slide_type": "-"
    },
    "vscode": {
     "languageId": "r"
    }
   },
   "outputs": [
    {
     "name": "stdout",
     "output_type": "stream",
     "text": [
      "File saved as: "
     ]
    },
    {
     "data": {
      "text/html": [
       "'Data/Output/CU_18_05_05_01_infraestructuras_distrito.csv'"
      ],
      "text/latex": [
       "'Data/Output/CU\\_18\\_05\\_05\\_01\\_infraestructuras\\_distrito.csv'"
      ],
      "text/markdown": [
       "'Data/Output/CU_18_05_05_01_infraestructuras_distrito.csv'"
      ],
      "text/plain": [
       "[1] \"Data/Output/CU_18_05_05_01_infraestructuras_distrito.csv\""
      ]
     },
     "metadata": {},
     "output_type": "display_data"
    }
   ],
   "source": [
    "file_save_01 <- paste0(caso, proceso, tarea, archivo, proper, extension) \n",
    "path_out_01 <- paste0(oPath, file_save_01)\n",
    "write_csv(data_to_save, path_out_01)\n",
    "\n",
    "cat('File saved as: ')\n",
    "path_out_01"
   ]
  },
  {
   "cell_type": "markdown",
   "metadata": {},
   "source": [
    "#### Copia del fichero a Input\n",
    "\n",
    "Si el archivo se va a usar en otros notebooks, copiar a la carpeta Input"
   ]
  },
  {
   "cell_type": "code",
   "execution_count": 74,
   "metadata": {
    "vscode": {
     "languageId": "r"
    }
   },
   "outputs": [
    {
     "data": {
      "text/html": [
       "TRUE"
      ],
      "text/latex": [
       "TRUE"
      ],
      "text/markdown": [
       "TRUE"
      ],
      "text/plain": [
       "[1] TRUE"
      ]
     },
     "metadata": {},
     "output_type": "display_data"
    }
   ],
   "source": [
    "path_in_01 <- paste0(iPath, file_save_01)\n",
    "file.copy(path_out_01, path_in_01, overwrite = TRUE)"
   ]
  },
  {
   "cell_type": "markdown",
   "metadata": {},
   "source": [
    "2. Metadatos de infraestructuras"
   ]
  },
  {
   "cell_type": "code",
   "execution_count": 77,
   "metadata": {
    "ExecuteTime": {
     "end_time": "2020-12-25T17:59:27.022001Z",
     "start_time": "2020-12-25T17:59:15.986986Z"
    },
    "scrolled": false,
    "vscode": {
     "languageId": "r"
    }
   },
   "outputs": [],
   "source": [
    "data_to_save_02 <- tdata_02"
   ]
  },
  {
   "cell_type": "code",
   "execution_count": 78,
   "metadata": {
    "ExecuteTime": {
     "end_time": "2020-12-25T17:59:27.022001Z",
     "start_time": "2020-12-25T17:59:15.986986Z"
    },
    "scrolled": false,
    "vscode": {
     "languageId": "r"
    }
   },
   "outputs": [],
   "source": [
    "archivo <- \"_02\"\n",
    "proper <- \"_infraestructuras_meta\"\n",
    "extension <- \".csv\""
   ]
  },
  {
   "cell_type": "markdown",
   "metadata": {},
   "source": [
    "<font color='tomato'><b> OPCION A:</b> Uso del paquete \"tcltk\" para mayor comodidad</font>\n",
    "\n",
    "* Buscar carpeta, escribir nombre de archivo SIN extensión (se especifica en el código)\n",
    "* Especificar sufijo2 si es necesario\n",
    "* Cambiar datos por datos_xx si es necesario"
   ]
  },
  {
   "cell_type": "code",
   "execution_count": 58,
   "metadata": {
    "ExecuteTime": {
     "end_time": "2020-12-25T17:59:27.022001Z",
     "start_time": "2020-12-25T17:59:15.986986Z"
    },
    "scrolled": false,
    "vscode": {
     "languageId": "r"
    }
   },
   "outputs": [],
   "source": [
    "# file_save_02 <- paste0(caso, proceso, tarea, tcltk::tkgetSaveFile(), proper, extension) \n",
    "# path_out_02 <- paste0(oPath, file_save_02)\n",
    "# write_csv(data_to_save_02, path_out_02)\n",
    "\n",
    "# cat('File saved as: ')\n",
    "# path_out"
   ]
  },
  {
   "cell_type": "markdown",
   "metadata": {},
   "source": [
    "<font color='tomato'><b> OPCION B:</b> Especificar el nombre de archivo</font>"
   ]
  },
  {
   "cell_type": "markdown",
   "metadata": {},
   "source": [
    "- Los ficheros de salida del proceso van siempre a Data/Output/.  "
   ]
  },
  {
   "cell_type": "code",
   "execution_count": 79,
   "metadata": {
    "ExecuteTime": {
     "end_time": "2021-01-26T18:40:31.258294Z",
     "start_time": "2021-01-26T18:40:26.061847Z"
    },
    "slideshow": {
     "slide_type": "-"
    },
    "vscode": {
     "languageId": "r"
    }
   },
   "outputs": [
    {
     "name": "stdout",
     "output_type": "stream",
     "text": [
      "File saved as: "
     ]
    },
    {
     "data": {
      "text/html": [
       "'Data/Output/CU_18_05_05_02_infraestructuras_meta.csv'"
      ],
      "text/latex": [
       "'Data/Output/CU\\_18\\_05\\_05\\_02\\_infraestructuras\\_meta.csv'"
      ],
      "text/markdown": [
       "'Data/Output/CU_18_05_05_02_infraestructuras_meta.csv'"
      ],
      "text/plain": [
       "[1] \"Data/Output/CU_18_05_05_02_infraestructuras_meta.csv\""
      ]
     },
     "metadata": {},
     "output_type": "display_data"
    }
   ],
   "source": [
    "file_save_02 <- paste0(caso, proceso, tarea, archivo, proper, extension) \n",
    "path_out_02 <- paste0(oPath, file_save_02)\n",
    "write_csv(data, path_out_02)\n",
    "\n",
    "cat('File saved as: ')\n",
    "path_out_02"
   ]
  },
  {
   "cell_type": "markdown",
   "metadata": {},
   "source": [
    "#### Copia del fichero a Input\n",
    "\n",
    "Si el archivo se va a usar en otros notebooks, copiar a la carpeta Input"
   ]
  },
  {
   "cell_type": "code",
   "execution_count": 80,
   "metadata": {
    "vscode": {
     "languageId": "r"
    }
   },
   "outputs": [
    {
     "data": {
      "text/html": [
       "TRUE"
      ],
      "text/latex": [
       "TRUE"
      ],
      "text/markdown": [
       "TRUE"
      ],
      "text/plain": [
       "[1] TRUE"
      ]
     },
     "metadata": {},
     "output_type": "display_data"
    }
   ],
   "source": [
    "path_in_02 <- paste0(iPath, file_save_02)\n",
    "file.copy(path_out_02, path_in_02, overwrite = TRUE)"
   ]
  },
  {
   "cell_type": "markdown",
   "metadata": {},
   "source": [
    "## <font color=' #2874a6 '>Main Conclusions</font>"
   ]
  },
  {
   "cell_type": "markdown",
   "metadata": {
    "slideshow": {
     "slide_type": "slide"
    }
   },
   "source": [
    "<font color='steelblue'>List and describe the general conclusions of the analysis carried out​.</font>"
   ]
  },
  {
   "cell_type": "markdown",
   "metadata": {},
   "source": [
    "### Prerequisites\n",
    "\n",
    "This working code needs the following conditions:\n",
    "\n",
    "* For using the interactive selection of file, the {tcltk} package must be installed. It is not needed in production.\n",
    "* The {readr}, {dplyr}, {tidyr} and {janitor} packages must be installed. \n",
    "* The data paths `Data/Input` and `Data/Output` must exist (relative to the notebook path)"
   ]
  },
  {
   "cell_type": "markdown",
   "metadata": {},
   "source": [
    "### Configuration Management\n",
    "\n",
    "This notebook has been tested with the following versions of R and packages. It cannot be assured that later versions work in the same way:\n",
    "* R 4.2.2\n",
    "* tcltk 4.2.2\n",
    "* tidyr 1.3.0\n",
    "* dplyr 1.0.10\n",
    "* janitor 2.1.0\n",
    "* readr 2.1.3"
   ]
  },
  {
   "cell_type": "markdown",
   "metadata": {},
   "source": [
    "### Data structures"
   ]
  },
  {
   "cell_type": "markdown",
   "metadata": {},
   "source": [
    "#### Objeto `tdata_01`\n",
    "\n",
    "- Tenemos 239 filas, una por distrito, con los recuentos de cada uno de los tipos de infraestructuras (12)\n",
    "\n"
   ]
  },
  {
   "cell_type": "code",
   "execution_count": 85,
   "metadata": {
    "scrolled": true
   },
   "outputs": [
    {
     "name": "stdout",
     "output_type": "stream",
     "text": [
      "Rows: 239\n",
      "Columns: 14\n",
      "$ cmun                                    \u001b[3m\u001b[90m<chr>\u001b[39m\u001b[23m \"001\", \"002\", \"003\", \"004\", \"0…\n",
      "$ cdis                                    \u001b[3m\u001b[90m<chr>\u001b[39m\u001b[23m \"01\", \"01\", \"01\", \"01\", \"01\", …\n",
      "$ consultorios_de_salud                   \u001b[3m\u001b[90m<int>\u001b[39m\u001b[23m 1, 1, 1, 1, 0, 0, 0, 0, 0, 0, …\n",
      "$ helisuperficies                         \u001b[3m\u001b[90m<int>\u001b[39m\u001b[23m 1, 0, 1, 0, 0, 0, 0, 0, 0, 0, …\n",
      "$ centros_de_atencion_a_drogodependientes \u001b[3m\u001b[90m<int>\u001b[39m\u001b[23m 0, 0, 0, 0, 1, 0, 0, 0, 0, 1, …\n",
      "$ centros_de_salud                        \u001b[3m\u001b[90m<int>\u001b[39m\u001b[23m 0, 0, 0, 0, 2, 3, 2, 1, 2, 5, …\n",
      "$ estaciones_de_cercanias                 \u001b[3m\u001b[90m<int>\u001b[39m\u001b[23m 0, 0, 0, 0, 1, 0, 1, 1, 0, 2, …\n",
      "$ hospitales                              \u001b[3m\u001b[90m<int>\u001b[39m\u001b[23m 0, 0, 0, 0, 1, 0, 0, 1, 0, 0, …\n",
      "$ otros_centros_de_salud                  \u001b[3m\u001b[90m<int>\u001b[39m\u001b[23m 0, 0, 0, 0, 1, 0, 0, 0, 0, 0, …\n",
      "$ centros_de_salud_mental                 \u001b[3m\u001b[90m<int>\u001b[39m\u001b[23m 0, 0, 0, 0, 0, 1, 0, 1, 0, 1, …\n",
      "$ centros_de_especialidades               \u001b[3m\u001b[90m<int>\u001b[39m\u001b[23m 0, 0, 0, 0, 0, 0, 0, 1, 0, 1, …\n",
      "$ bocas_de_metro                          \u001b[3m\u001b[90m<int>\u001b[39m\u001b[23m 0, 0, 0, 0, 0, 0, 0, 0, 0, 9, …\n",
      "$ intercambiadores                        \u001b[3m\u001b[90m<int>\u001b[39m\u001b[23m 0, 0, 0, 0, 0, 0, 0, 0, 0, 0, …\n",
      "$ aeropuertos                             \u001b[3m\u001b[90m<int>\u001b[39m\u001b[23m 0, 0, 0, 0, 0, 0, 0, 0, 0, 0, …\n"
     ]
    }
   ],
   "source": [
    "glimpse(tdata_01)"
   ]
  },
  {
   "cell_type": "markdown",
   "metadata": {},
   "source": [
    "## Objeto `tdata_02`\n",
    "\n",
    "- Tenemos 12 filas, una por tipo de infraestructura, con sus metadatos\n",
    "\n"
   ]
  },
  {
   "cell_type": "code",
   "execution_count": 86,
   "metadata": {},
   "outputs": [
    {
     "name": "stdout",
     "output_type": "stream",
     "text": [
      "Rows: 12\n",
      "Columns: 4\n",
      "$ desc_var   \u001b[3m\u001b[90m<chr>\u001b[39m\u001b[23m \"Consultorios de Salud\", \"Helisuperficies\", \"Centros de Ate…\n",
      "$ nombre_var \u001b[3m\u001b[90m<chr>\u001b[39m\u001b[23m \"consultorios_de_salud\", \"helisuperficies\", \"centros_de_ate…\n",
      "$ grupo      \u001b[3m\u001b[90m<chr>\u001b[39m\u001b[23m \"Salud\", \"Transporte\", \"Salud\", \"Salud\", \"Transporte\", \"Sal…\n",
      "$ n          \u001b[3m\u001b[90m<int>\u001b[39m\u001b[23m 156, 87, 35, 267, 93, 87, 29, 53, 28, 771, 24, 3\n"
     ]
    }
   ],
   "source": [
    "glimpse(tdata_02)"
   ]
  },
  {
   "cell_type": "markdown",
   "metadata": {},
   "source": [
    "#### Observaciones generales sobre los datos\n",
    "\n",
    "* No aplica"
   ]
  },
  {
   "cell_type": "markdown",
   "metadata": {},
   "source": [
    "### Consideraciones para despliegue en piloto\n",
    "\n",
    "* Utilizar los metadatos para etiquetar gráficos y otras salidas."
   ]
  },
  {
   "cell_type": "markdown",
   "metadata": {},
   "source": [
    "### Consideraciones para despliegue en producción\n",
    "\n",
    "* No aplica"
   ]
  },
  {
   "cell_type": "markdown",
   "metadata": {},
   "source": [
    "## <font color=' #2874a6 '>Main Actions</font>"
   ]
  },
  {
   "cell_type": "markdown",
   "metadata": {},
   "source": [
    "#### <font color=' #2874a6 '>Acciones done</font>"
   ]
  },
  {
   "cell_type": "markdown",
   "metadata": {
    "slideshow": {
     "slide_type": "slide"
    }
   },
   "source": [
    "<font color='steelblue'>Indicate the actions that have been carried out in this process</font>"
   ]
  },
  {
   "cell_type": "markdown",
   "metadata": {},
   "source": [
    "- Se han agrupado las infraesctructuras por distrito\n",
    "- Se han calculado el número de infraestructuras por tipo en cada distrito"
   ]
  },
  {
   "cell_type": "markdown",
   "metadata": {},
   "source": [
    "#### <font color=' #2874a6 '>Acctions to perform</font>"
   ]
  },
  {
   "cell_type": "markdown",
   "metadata": {
    "slideshow": {
     "slide_type": "slide"
    }
   },
   "source": [
    "<font color='steelblue'>Indicate the actions that must be carried out in subsequent processes</font>"
   ]
  },
  {
   "cell_type": "markdown",
   "metadata": {},
   "source": [
    "- Se deben unir los datos de indicadores del INE por distrito"
   ]
  },
  {
   "cell_type": "markdown",
   "metadata": {},
   "source": [
    "## <font color='RED'>CODE TO DEPLOY (PILOT)</font>\n",
    "\n",
    "A continuación se incluirá el código que deba ser llevado a despliegue para producción, dado que se entiende efectúa operaciones necesarias sobre los datos en la ejecución del prototipo"
   ]
  },
  {
   "cell_type": "markdown",
   "metadata": {},
   "source": [
    "<font color=' red '><b>Description</b></font>\n",
    "\n",
    "- No hay nada que desplegar en el piloto, ya que estos datos son estáticos o en todo caso cambian con muy poca frecuencia, altamente improbable durante el proyecto.\n"
   ]
  },
  {
   "cell_type": "markdown",
   "metadata": {},
   "source": [
    "<font color=' red '><b>CODE</b></font>"
   ]
  },
  {
   "cell_type": "code",
   "execution_count": null,
   "metadata": {
    "vscode": {
     "languageId": "r"
    }
   },
   "outputs": [],
   "source": [
    "# incluir código"
   ]
  }
 ],
 "metadata": {
  "anaconda-cloud": {},
  "celltoolbar": "Slideshow",
  "hide_input": false,
  "kernelspec": {
   "display_name": "R",
   "language": "R",
   "name": "ir"
  },
  "language_info": {
   "codemirror_mode": "r",
   "file_extension": ".r",
   "mimetype": "text/x-r-source",
   "name": "R",
   "pygments_lexer": "r",
   "version": "4.2.2"
  },
  "latex_envs": {
   "LaTeX_envs_menu_present": true,
   "autoclose": false,
   "autocomplete": true,
   "bibliofile": "biblio.bib",
   "cite_by": "apalike",
   "current_citInitial": 1,
   "eqLabelWithNumbers": true,
   "eqNumInitial": 1,
   "hotkeys": {
    "equation": "Ctrl-E",
    "itemize": "Ctrl-I"
   },
   "labels_anchors": false,
   "latex_user_defs": false,
   "report_style_numbering": true,
   "user_envs_cfg": false
  },
  "toc": {
   "base_numbering": 1,
   "nav_menu": {
    "height": "11.6px",
    "width": "160px"
   },
   "number_sections": false,
   "sideBar": true,
   "skip_h1_title": true,
   "title_cell": "Table of Contents",
   "title_sidebar": "Contents",
   "toc_cell": true,
   "toc_position": {
    "height": "calc(100% - 180px)",
    "left": "10px",
    "top": "150px",
    "width": "209.2px"
   },
   "toc_section_display": true,
   "toc_window_display": true
  },
  "varInspector": {
   "cols": {
    "lenName": 16,
    "lenType": 16,
    "lenVar": 40
   },
   "kernels_config": {
    "python": {
     "delete_cmd_postfix": "",
     "delete_cmd_prefix": "del ",
     "library": "var_list.py",
     "varRefreshCmd": "print(var_dic_list())"
    },
    "r": {
     "delete_cmd_postfix": ") ",
     "delete_cmd_prefix": "rm(",
     "library": "var_list.r",
     "varRefreshCmd": "cat(var_dic_list()) "
    }
   },
   "types_to_exclude": [
    "module",
    "function",
    "builtin_function_or_method",
    "instance",
    "_Feature"
   ],
   "window_display": false
  }
 },
 "nbformat": 4,
 "nbformat_minor": 1
}
