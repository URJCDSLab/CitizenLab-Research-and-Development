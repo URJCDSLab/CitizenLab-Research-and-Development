{
 "cells": [
  {
   "cell_type": "markdown",
   "metadata": {
    "slideshow": {
     "slide_type": "slide"
    }
   },
   "source": [
    "<img src=\".\\images\\Logo.png\" width=150 align=\"left\" /> <img src=\".\\images\\Logo2.jpg\" width=450 align=\"right\" />"
   ]
  },
  {
   "cell_type": "markdown",
   "metadata": {
    "slideshow": {
     "slide_type": "slide"
    }
   },
   "source": [
    "\n",
    "# <center><font color= #1e8449 > <b>CU18_Infraestructuras_eventos</font></center>"
   ]
  },
  {
   "cell_type": "markdown",
   "metadata": {
    "slideshow": {
     "slide_type": "slide"
    }
   },
   "source": [
    "<font color='steelblue'><b>Citizenlab Data Science Methodology > II - Data Processing Domain </font>\n",
    "***\n",
    "> # <font color='steelblue'> <b>05.- Data Collection</font>"
   ]
  },
  {
   "cell_type": "markdown",
   "metadata": {
    "slideshow": {
     "slide_type": "slide"
    }
   },
   "source": [
    "<font color='steelblue'>Data Collection is the process to obtain and generate (if required) necessary data to model the problem.</font>"
   ]
  },
  {
   "cell_type": "markdown",
   "metadata": {},
   "source": [
    "### 17. Cálculo distancias\n",
    "\n",
    "* Calcular distancias de las infraestructuras a puntos relevantes más cercanos:\n",
    "    - Aeropuerto \n",
    "    - Gran Intercambiador \n",
    "    - Estación de cercanías \n",
    "    - Hospital \n",
    "    - Campus universitario\n",
    "    - Ayuntamiento, ministerio, ...\n",
    "    - Embajadas\n",
    "    - Centros Comerciales\n",
    "\n",
    "\n",
    "\n",
    "\n",
    "\n"
   ]
  },
  {
   "cell_type": "markdown",
   "metadata": {
    "toc": true
   },
   "source": [
    "<h1>Table of Contents<span class=\"tocSkip\"></span></h1>\n",
    "<div class=\"toc\"><ul class=\"toc-item\"><li><span><a href=\"#Settings\" data-toc-modified-id=\"Settings-1\"><font color=\"green\">Settings</font></a></span></li><li><span><a href=\"#Data-Load\" data-toc-modified-id=\"Data-Load-2\"><font color=\"green\">Data Load</font></a></span></li><li><span><a href=\"#ETL-Processes\" data-toc-modified-id=\"ETL-Processes-3\">ETL Processes</a></span><ul class=\"toc-item\"><li><span><a href=\"#Import-data-from:-CSV,-Excel,-Tab,-JSON,-SQL,-and-Parquet-files\" data-toc-modified-id=\"Import-data-from:-CSV,-Excel,-Tab,-JSON,-SQL,-and-Parquet-files-3.1\">Import data from: CSV, Excel, Tab, JSON, SQL, and Parquet files</a></span></li></ul></li><li><span><a href=\"#Synthetic-Data-Generation\" data-toc-modified-id=\"Synthetic-Data-Generation-4\">Synthetic Data Generation</a></span></li><li><span><a href=\"#Fake-Data-Generation\" data-toc-modified-id=\"Fake-Data-Generation-5\">Fake Data Generation</a></span></li><li><span><a href=\"#Open-Data\" data-toc-modified-id=\"Open-Data-6\">Open Data</a></span></li><li><span><a href=\"#Data-Save\" data-toc-modified-id=\"Data-Save-7\"><font color=\"green\">Data Save</font></a></span></li><li><span><a href=\"#Main-Conclusions\" data-toc-modified-id=\"Main-Conclusions-8\"><font color=\" #2874a6 \">Main Conclusions</font></a></span></li><li><span><a href=\"#Main-Actions\" data-toc-modified-id=\"Main-Actions-9\"><font color=\" #2874a6 \">Main Actions</font></a></span><ul class=\"toc-item\"><li><ul class=\"toc-item\"><li><span><a href=\"#Acciones-done\" data-toc-modified-id=\"Acciones-done-9.0.1\"><font color=\" #2874a6 \">Acciones done</font></a></span></li><li><span><a href=\"#Acctions-to-perform\" data-toc-modified-id=\"Acctions-to-perform-9.0.2\"><font color=\" #2874a6 \">Acctions to perform</font></a></span></li></ul></li></ul></li></ul></div>"
   ]
  },
  {
   "cell_type": "markdown",
   "metadata": {
    "slideshow": {
     "slide_type": "slide"
    }
   },
   "source": [
    "## <font color='green'>Settings</font>"
   ]
  },
  {
   "cell_type": "markdown",
   "metadata": {},
   "source": [
    "### Packages to use\n",
    "\n",
    "\n",
    "- {tcltk} para selección interactiva de archivos locales\n",
    "- {sf} para trabajar con georeferenciación\n",
    "- {readr} para leer y escribir archivos csv\n",
    "- {dplyr} para explorar datos\n"
   ]
  },
  {
   "cell_type": "code",
   "execution_count": 1,
   "metadata": {
    "ExecuteTime": {
     "end_time": "2021-12-03T15:23:33.762841Z",
     "start_time": "2021-12-03T15:23:08.580267Z"
    },
    "slideshow": {
     "slide_type": "subslide"
    },
    "vscode": {
     "languageId": "r"
    }
   },
   "outputs": [
    {
     "name": "stderr",
     "output_type": "stream",
     "text": [
      "Linking to GEOS 3.10.2, GDAL 3.4.2, PROJ 8.2.1; sf_use_s2() is TRUE\n",
      "\n",
      "\n",
      "Attaching package: ‘dplyr’\n",
      "\n",
      "\n",
      "The following objects are masked from ‘package:stats’:\n",
      "\n",
      "    filter, lag\n",
      "\n",
      "\n",
      "The following objects are masked from ‘package:base’:\n",
      "\n",
      "    intersect, setdiff, setequal, union\n",
      "\n",
      "\n"
     ]
    }
   ],
   "source": [
    "library(sf)\n",
    "library(readr)\n",
    "library(dplyr)\n",
    "\n"
   ]
  },
  {
   "cell_type": "markdown",
   "metadata": {},
   "source": [
    "### Paths"
   ]
  },
  {
   "cell_type": "code",
   "execution_count": 2,
   "metadata": {
    "vscode": {
     "languageId": "r"
    }
   },
   "outputs": [],
   "source": [
    "iPath <- \"Data/Input/\"\n",
    "oPath <- \"Data/Output/\""
   ]
  },
  {
   "cell_type": "markdown",
   "metadata": {
    "slideshow": {
     "slide_type": "slide"
    }
   },
   "source": [
    "## <font color='green'>Data Load</font>\n",
    "\n",
    "If there are more than one input file, make as many sections as files to import."
   ]
  },
  {
   "cell_type": "markdown",
   "metadata": {},
   "source": [
    "Instrucciones\n",
    "- Los ficheros de entrada del proceso están siempre en Data/Input/.   \n",
    "- Si hay más de un fichero de entrada, se crean tantos objetos iFile_xx y file_data_xx como ficheros de entrada (xx número correlativo con dos dígitos, rellenar con ceros a la izquierda)"
   ]
  },
  {
   "cell_type": "markdown",
   "metadata": {},
   "source": [
    "1. Infraestructuras"
   ]
  },
  {
   "cell_type": "markdown",
   "metadata": {},
   "source": [
    "<font color='tomato'><b> OPCION A:</b> Seleccionar fichero en ventana para mayor comodidad</font> "
   ]
  },
  {
   "cell_type": "markdown",
   "metadata": {},
   "source": [
    "Data load using the {tcltk} package. Ucomment the line if not using this option"
   ]
  },
  {
   "cell_type": "code",
   "execution_count": 3,
   "metadata": {
    "vscode": {
     "languageId": "r"
    }
   },
   "outputs": [],
   "source": [
    "# file_data_01 <- tcltk::tk_choose.files(multi = FALSE)"
   ]
  },
  {
   "cell_type": "markdown",
   "metadata": {},
   "source": [
    "<font color='tomato'><b> OPCION B:</b> Especificar el nombre de archivo</font>\n",
    "\n"
   ]
  },
  {
   "cell_type": "code",
   "execution_count": 4,
   "metadata": {
    "vscode": {
     "languageId": "r"
    }
   },
   "outputs": [
    {
     "name": "stdout",
     "output_type": "stream",
     "text": [
      "Se leerán datos del archivo:  Data/Input/CU_18_05_04_infraestructuras.csv"
     ]
    }
   ],
   "source": [
    "iFile_01 <- \"CU_18_05_04_infraestructuras.csv\"\n",
    "file_data_01 <- paste0(iPath, iFile_01)\n",
    "\n",
    "if(file.exists(file_data_01)){\n",
    "    cat(\"Se leerán datos del archivo: \", file_data_01)\n",
    "} else{\n",
    "    warning(\"Cuidado: el archivo no existe.\")\n",
    "}\n"
   ]
  },
  {
   "cell_type": "markdown",
   "metadata": {},
   "source": [
    "#### Data file to dataframe\n",
    "\n",
    "Usar la función adecuada según el formato de entrada (xlsx, csv, json, ...)"
   ]
  },
  {
   "cell_type": "code",
   "execution_count": 5,
   "metadata": {
    "vscode": {
     "languageId": "r"
    }
   },
   "outputs": [
    {
     "name": "stderr",
     "output_type": "stream",
     "text": [
      "\u001b[1mRows: \u001b[22m\u001b[34m1633\u001b[39m \u001b[1mColumns: \u001b[22m\u001b[34m10\u001b[39m\n",
      "\u001b[36m──\u001b[39m \u001b[1mColumn specification\u001b[22m \u001b[36m─────────────────────────────────────\u001b[39m\n",
      "\u001b[1mDelimiter:\u001b[22m \",\"\n",
      "\u001b[31mchr\u001b[39m (8): grupo, tipo, nombre, CODMUN, DIRECCION, info, CMUN, CDIS\n",
      "\u001b[32mdbl\u001b[39m (2): X, Y\n",
      "\n",
      "\u001b[36mℹ\u001b[39m Use `spec()` to retrieve the full column specification for this data.\n",
      "\u001b[36mℹ\u001b[39m Specify the column types or set `show_col_types = FALSE` to quiet this message.\n"
     ]
    }
   ],
   "source": [
    "data_01 <- read_csv(file_data_01)\n"
   ]
  },
  {
   "cell_type": "markdown",
   "metadata": {},
   "source": [
    "Estructura de  los datos:"
   ]
  },
  {
   "cell_type": "code",
   "execution_count": 6,
   "metadata": {
    "vscode": {
     "languageId": "r"
    }
   },
   "outputs": [
    {
     "name": "stdout",
     "output_type": "stream",
     "text": [
      "Rows: 1,633\n",
      "Columns: 10\n",
      "$ grupo     \u001b[3m\u001b[90m<chr>\u001b[39m\u001b[23m \"Transporte\", \"Transporte\", \"Transporte\", \"Transporte\", \"Tra…\n",
      "$ tipo      \u001b[3m\u001b[90m<chr>\u001b[39m\u001b[23m \"Intercambiadores\", \"Intercambiadores\", \"Intercambiadores\", …\n",
      "$ nombre    \u001b[3m\u001b[90m<chr>\u001b[39m\u001b[23m \"Grandes Intercambiadores Plaza Elíptica\", \"Grandes Intercam…\n",
      "$ CODMUN    \u001b[3m\u001b[90m<chr>\u001b[39m\u001b[23m \"079\", \"079\", \"079\", \"079\", \"079\", \"079\", \"079\", \"079\", \"079…\n",
      "$ DIRECCION \u001b[3m\u001b[90m<chr>\u001b[39m\u001b[23m \"Plaza Elíptica s/n\", \"Calle Princesa, 89\", \"Estación Prínci…\n",
      "$ X         \u001b[3m\u001b[90m<dbl>\u001b[39m\u001b[23m -3.716577, -3.719508, -3.719560, -3.689044, -3.676731, -3.68…\n",
      "$ Y         \u001b[3m\u001b[90m<dbl>\u001b[39m\u001b[23m 40.38540, 40.43474, 40.42080, 40.46719, 40.43797, 40.47198, …\n",
      "$ info      \u001b[3m\u001b[90m<chr>\u001b[39m\u001b[23m NA, NA, NA, NA, NA, NA, NA, NA, NA, NA, NA, NA, NA, NA, NA, …\n",
      "$ CMUN      \u001b[3m\u001b[90m<chr>\u001b[39m\u001b[23m \"079\", \"079\", \"079\", \"079\", \"079\", \"079\", \"079\", \"079\", \"079…\n",
      "$ CDIS      \u001b[3m\u001b[90m<chr>\u001b[39m\u001b[23m \"12\", \"09\", \"09\", \"05\", \"05\", \"05\", \"06\", \"02\", \"01\", \"10\", …\n"
     ]
    }
   ],
   "source": [
    "glimpse(data_01)"
   ]
  },
  {
   "cell_type": "markdown",
   "metadata": {},
   "source": [
    "Muestra de datos:"
   ]
  },
  {
   "cell_type": "code",
   "execution_count": 7,
   "metadata": {
    "vscode": {
     "languageId": "r"
    }
   },
   "outputs": [
    {
     "data": {
      "text/html": [
       "<table class=\"dataframe\">\n",
       "<caption>A spec_tbl_df: 5 × 10</caption>\n",
       "<thead>\n",
       "\t<tr><th scope=col>grupo</th><th scope=col>tipo</th><th scope=col>nombre</th><th scope=col>CODMUN</th><th scope=col>DIRECCION</th><th scope=col>X</th><th scope=col>Y</th><th scope=col>info</th><th scope=col>CMUN</th><th scope=col>CDIS</th></tr>\n",
       "\t<tr><th scope=col>&lt;chr&gt;</th><th scope=col>&lt;chr&gt;</th><th scope=col>&lt;chr&gt;</th><th scope=col>&lt;chr&gt;</th><th scope=col>&lt;chr&gt;</th><th scope=col>&lt;dbl&gt;</th><th scope=col>&lt;dbl&gt;</th><th scope=col>&lt;chr&gt;</th><th scope=col>&lt;chr&gt;</th><th scope=col>&lt;chr&gt;</th></tr>\n",
       "</thead>\n",
       "<tbody>\n",
       "\t<tr><td>Transporte</td><td>Intercambiadores</td><td>Grandes Intercambiadores Plaza Elíptica    </td><td>079</td><td>Plaza Elíptica s/n                      </td><td>-3.716577</td><td>40.38540</td><td>NA</td><td>079</td><td>12</td></tr>\n",
       "\t<tr><td>Transporte</td><td>Intercambiadores</td><td>Grandes Intercambiadores Moncloa           </td><td>079</td><td>Calle Princesa, 89                      </td><td>-3.719508</td><td>40.43474</td><td>NA</td><td>079</td><td>09</td></tr>\n",
       "\t<tr><td>Transporte</td><td>Intercambiadores</td><td>Grandes Intercambiadores Príncipe Pío      </td><td>079</td><td>Estación Príncipe Pío                   </td><td>-3.719560</td><td>40.42080</td><td>NA</td><td>079</td><td>09</td></tr>\n",
       "\t<tr><td>Transporte</td><td>Intercambiadores</td><td>Grandes Intercambiadores Plaza de Castilla </td><td>079</td><td>Calle San Aquilino y Avenida de Asturias</td><td>-3.689044</td><td>40.46719</td><td>NA</td><td>079</td><td>05</td></tr>\n",
       "\t<tr><td>Transporte</td><td>Intercambiadores</td><td>Grandes Intercambiadores Avenida de América</td><td>079</td><td>Avenida de América 9 A                  </td><td>-3.676731</td><td>40.43797</td><td>NA</td><td>079</td><td>05</td></tr>\n",
       "</tbody>\n",
       "</table>\n"
      ],
      "text/latex": [
       "A spec\\_tbl\\_df: 5 × 10\n",
       "\\begin{tabular}{llllllllll}\n",
       " grupo & tipo & nombre & CODMUN & DIRECCION & X & Y & info & CMUN & CDIS\\\\\n",
       " <chr> & <chr> & <chr> & <chr> & <chr> & <dbl> & <dbl> & <chr> & <chr> & <chr>\\\\\n",
       "\\hline\n",
       "\t Transporte & Intercambiadores & Grandes Intercambiadores Plaza Elíptica     & 079 & Plaza Elíptica s/n                       & -3.716577 & 40.38540 & NA & 079 & 12\\\\\n",
       "\t Transporte & Intercambiadores & Grandes Intercambiadores Moncloa            & 079 & Calle Princesa, 89                       & -3.719508 & 40.43474 & NA & 079 & 09\\\\\n",
       "\t Transporte & Intercambiadores & Grandes Intercambiadores Príncipe Pío       & 079 & Estación Príncipe Pío                    & -3.719560 & 40.42080 & NA & 079 & 09\\\\\n",
       "\t Transporte & Intercambiadores & Grandes Intercambiadores Plaza de Castilla  & 079 & Calle San Aquilino y Avenida de Asturias & -3.689044 & 40.46719 & NA & 079 & 05\\\\\n",
       "\t Transporte & Intercambiadores & Grandes Intercambiadores Avenida de América & 079 & Avenida de América 9 A                   & -3.676731 & 40.43797 & NA & 079 & 05\\\\\n",
       "\\end{tabular}\n"
      ],
      "text/markdown": [
       "\n",
       "A spec_tbl_df: 5 × 10\n",
       "\n",
       "| grupo &lt;chr&gt; | tipo &lt;chr&gt; | nombre &lt;chr&gt; | CODMUN &lt;chr&gt; | DIRECCION &lt;chr&gt; | X &lt;dbl&gt; | Y &lt;dbl&gt; | info &lt;chr&gt; | CMUN &lt;chr&gt; | CDIS &lt;chr&gt; |\n",
       "|---|---|---|---|---|---|---|---|---|---|\n",
       "| Transporte | Intercambiadores | Grandes Intercambiadores Plaza Elíptica     | 079 | Plaza Elíptica s/n                       | -3.716577 | 40.38540 | NA | 079 | 12 |\n",
       "| Transporte | Intercambiadores | Grandes Intercambiadores Moncloa            | 079 | Calle Princesa, 89                       | -3.719508 | 40.43474 | NA | 079 | 09 |\n",
       "| Transporte | Intercambiadores | Grandes Intercambiadores Príncipe Pío       | 079 | Estación Príncipe Pío                    | -3.719560 | 40.42080 | NA | 079 | 09 |\n",
       "| Transporte | Intercambiadores | Grandes Intercambiadores Plaza de Castilla  | 079 | Calle San Aquilino y Avenida de Asturias | -3.689044 | 40.46719 | NA | 079 | 05 |\n",
       "| Transporte | Intercambiadores | Grandes Intercambiadores Avenida de América | 079 | Avenida de América 9 A                   | -3.676731 | 40.43797 | NA | 079 | 05 |\n",
       "\n"
      ],
      "text/plain": [
       "  grupo      tipo             nombre                                     \n",
       "1 Transporte Intercambiadores Grandes Intercambiadores Plaza Elíptica    \n",
       "2 Transporte Intercambiadores Grandes Intercambiadores Moncloa           \n",
       "3 Transporte Intercambiadores Grandes Intercambiadores Príncipe Pío      \n",
       "4 Transporte Intercambiadores Grandes Intercambiadores Plaza de Castilla \n",
       "5 Transporte Intercambiadores Grandes Intercambiadores Avenida de América\n",
       "  CODMUN DIRECCION                                X         Y        info CMUN\n",
       "1 079    Plaza Elíptica s/n                       -3.716577 40.38540 NA   079 \n",
       "2 079    Calle Princesa, 89                       -3.719508 40.43474 NA   079 \n",
       "3 079    Estación Príncipe Pío                    -3.719560 40.42080 NA   079 \n",
       "4 079    Calle San Aquilino y Avenida de Asturias -3.689044 40.46719 NA   079 \n",
       "5 079    Avenida de América 9 A                   -3.676731 40.43797 NA   079 \n",
       "  CDIS\n",
       "1 12  \n",
       "2 09  \n",
       "3 09  \n",
       "4 05  \n",
       "5 05  "
      ]
     },
     "metadata": {},
     "output_type": "display_data"
    }
   ],
   "source": [
    "data_01 |> slice_head(n = 5)"
   ]
  },
  {
   "cell_type": "markdown",
   "metadata": {},
   "source": [
    "2. Administración y servicios"
   ]
  },
  {
   "cell_type": "markdown",
   "metadata": {},
   "source": [
    "<font color='tomato'><b> OPCION A:</b> Seleccionar fichero en ventana para mayor comodidad</font> "
   ]
  },
  {
   "cell_type": "markdown",
   "metadata": {},
   "source": [
    "Data load using the {tcltk} package. Ucomment the line if not using this option"
   ]
  },
  {
   "cell_type": "code",
   "execution_count": 8,
   "metadata": {
    "vscode": {
     "languageId": "r"
    }
   },
   "outputs": [],
   "source": [
    "# file_data_02 <- tcltk::tk_choose.files(multi = FALSE)"
   ]
  },
  {
   "cell_type": "markdown",
   "metadata": {},
   "source": [
    "<font color='tomato'><b> OPCION B:</b> Especificar el nombre de archivo</font>\n",
    "\n"
   ]
  },
  {
   "cell_type": "code",
   "execution_count": 9,
   "metadata": {
    "vscode": {
     "languageId": "r"
    }
   },
   "outputs": [
    {
     "name": "stdout",
     "output_type": "stream",
     "text": [
      "Se leerán datos del archivo:  Data/Input/CU_18_05_08_adm_distritos.csv"
     ]
    }
   ],
   "source": [
    "iFile_02 <- \"CU_18_05_08_adm_distritos.csv\"\n",
    "file_data_02 <- paste0(iPath, iFile_02)\n",
    "\n",
    "if(file.exists(file_data_02)){\n",
    "    cat(\"Se leerán datos del archivo: \", file_data_02)\n",
    "} else{\n",
    "    warning(\"Cuidado: el archivo no existe.\")\n",
    "}\n"
   ]
  },
  {
   "cell_type": "markdown",
   "metadata": {},
   "source": [
    "#### Data file to dataframe\n",
    "\n",
    "Usar la función adecuada según el formato de entrada (xlsx, csv, json, ...)"
   ]
  },
  {
   "cell_type": "code",
   "execution_count": 10,
   "metadata": {
    "vscode": {
     "languageId": "r"
    }
   },
   "outputs": [
    {
     "name": "stderr",
     "output_type": "stream",
     "text": [
      "\u001b[1mRows: \u001b[22m\u001b[34m120280\u001b[39m \u001b[1mColumns: \u001b[22m\u001b[34m7\u001b[39m\n",
      "\u001b[36m──\u001b[39m \u001b[1mColumn specification\u001b[22m \u001b[36m─────────────────────────────────────\u001b[39m\n",
      "\u001b[1mDelimiter:\u001b[22m \",\"\n",
      "\u001b[31mchr\u001b[39m (5): Grupo, Tipo, ETIQUETA, CMUN, CDIS\n",
      "\u001b[32mdbl\u001b[39m (2): X, Y\n",
      "\n",
      "\u001b[36mℹ\u001b[39m Use `spec()` to retrieve the full column specification for this data.\n",
      "\u001b[36mℹ\u001b[39m Specify the column types or set `show_col_types = FALSE` to quiet this message.\n"
     ]
    }
   ],
   "source": [
    "data_02 <- read_csv(file_data_02)\n"
   ]
  },
  {
   "cell_type": "markdown",
   "metadata": {},
   "source": [
    "Estructura de  los datos:"
   ]
  },
  {
   "cell_type": "code",
   "execution_count": 11,
   "metadata": {
    "vscode": {
     "languageId": "r"
    }
   },
   "outputs": [
    {
     "name": "stdout",
     "output_type": "stream",
     "text": [
      "Rows: 120,280\n",
      "Columns: 7\n",
      "$ Grupo    \u001b[3m\u001b[90m<chr>\u001b[39m\u001b[23m \"Administración pública\", \"Administración pública\", \"Administ…\n",
      "$ Tipo     \u001b[3m\u001b[90m<chr>\u001b[39m\u001b[23m \"Agencia Tributaria\", \"Agencia Tributaria\", \"Agencia Tributar…\n",
      "$ ETIQUETA \u001b[3m\u001b[90m<chr>\u001b[39m\u001b[23m \"Administración de la Agencia Tributaria Oficina Central\", \"A…\n",
      "$ X        \u001b[3m\u001b[90m<dbl>\u001b[39m\u001b[23m -3.698678, -3.712513, -3.745598, -3.690993, -3.672477, -3.710…\n",
      "$ Y        \u001b[3m\u001b[90m<dbl>\u001b[39m\u001b[23m 40.45554, 40.44553, 40.37049, 40.41795, 40.45483, 40.48316, 4…\n",
      "$ CMUN     \u001b[3m\u001b[90m<chr>\u001b[39m\u001b[23m \"079\", \"079\", \"079\", \"079\", \"079\", \"079\", \"079\", \"079\", \"079\"…\n",
      "$ CDIS     \u001b[3m\u001b[90m<chr>\u001b[39m\u001b[23m \"06\", \"07\", \"11\", \"03\", \"05\", \"08\", \"04\", \"14\", \"20\", \"12\", \"…\n"
     ]
    }
   ],
   "source": [
    "glimpse(data_02)"
   ]
  },
  {
   "cell_type": "markdown",
   "metadata": {},
   "source": [
    "Muestra de datos:"
   ]
  },
  {
   "cell_type": "code",
   "execution_count": 12,
   "metadata": {
    "vscode": {
     "languageId": "r"
    }
   },
   "outputs": [
    {
     "data": {
      "text/html": [
       "<table class=\"dataframe\">\n",
       "<caption>A spec_tbl_df: 5 × 7</caption>\n",
       "<thead>\n",
       "\t<tr><th scope=col>Grupo</th><th scope=col>Tipo</th><th scope=col>ETIQUETA</th><th scope=col>X</th><th scope=col>Y</th><th scope=col>CMUN</th><th scope=col>CDIS</th></tr>\n",
       "\t<tr><th scope=col>&lt;chr&gt;</th><th scope=col>&lt;chr&gt;</th><th scope=col>&lt;chr&gt;</th><th scope=col>&lt;dbl&gt;</th><th scope=col>&lt;dbl&gt;</th><th scope=col>&lt;chr&gt;</th><th scope=col>&lt;chr&gt;</th></tr>\n",
       "</thead>\n",
       "<tbody>\n",
       "\t<tr><td>Administración pública</td><td>Agencia Tributaria</td><td>Administración de la Agencia Tributaria Oficina Central                       </td><td>-3.698678</td><td>40.45554</td><td>079</td><td>06</td></tr>\n",
       "\t<tr><td>Administración pública</td><td>Agencia Tributaria</td><td>Administración de la Agencia Tributaria Guzmán el Bueno Administración Central</td><td>-3.712513</td><td>40.44553</td><td>079</td><td>07</td></tr>\n",
       "\t<tr><td>Administración pública</td><td>Agencia Tributaria</td><td>Administración de la Agencia Tributaria  Suroeste                             </td><td>-3.745598</td><td>40.37049</td><td>079</td><td>11</td></tr>\n",
       "\t<tr><td>Administración pública</td><td>Agencia Tributaria</td><td>Administración de la Agencia Tributaria Montalbán                             </td><td>-3.690993</td><td>40.41795</td><td>079</td><td>03</td></tr>\n",
       "\t<tr><td>Administración pública</td><td>Agencia Tributaria</td><td>Administración de la Agencia Tributaria Ciudad Lineal                         </td><td>-3.672477</td><td>40.45483</td><td>079</td><td>05</td></tr>\n",
       "</tbody>\n",
       "</table>\n"
      ],
      "text/latex": [
       "A spec\\_tbl\\_df: 5 × 7\n",
       "\\begin{tabular}{lllllll}\n",
       " Grupo & Tipo & ETIQUETA & X & Y & CMUN & CDIS\\\\\n",
       " <chr> & <chr> & <chr> & <dbl> & <dbl> & <chr> & <chr>\\\\\n",
       "\\hline\n",
       "\t Administración pública & Agencia Tributaria & Administración de la Agencia Tributaria Oficina Central                        & -3.698678 & 40.45554 & 079 & 06\\\\\n",
       "\t Administración pública & Agencia Tributaria & Administración de la Agencia Tributaria Guzmán el Bueno Administración Central & -3.712513 & 40.44553 & 079 & 07\\\\\n",
       "\t Administración pública & Agencia Tributaria & Administración de la Agencia Tributaria  Suroeste                              & -3.745598 & 40.37049 & 079 & 11\\\\\n",
       "\t Administración pública & Agencia Tributaria & Administración de la Agencia Tributaria Montalbán                              & -3.690993 & 40.41795 & 079 & 03\\\\\n",
       "\t Administración pública & Agencia Tributaria & Administración de la Agencia Tributaria Ciudad Lineal                          & -3.672477 & 40.45483 & 079 & 05\\\\\n",
       "\\end{tabular}\n"
      ],
      "text/markdown": [
       "\n",
       "A spec_tbl_df: 5 × 7\n",
       "\n",
       "| Grupo &lt;chr&gt; | Tipo &lt;chr&gt; | ETIQUETA &lt;chr&gt; | X &lt;dbl&gt; | Y &lt;dbl&gt; | CMUN &lt;chr&gt; | CDIS &lt;chr&gt; |\n",
       "|---|---|---|---|---|---|---|\n",
       "| Administración pública | Agencia Tributaria | Administración de la Agencia Tributaria Oficina Central                        | -3.698678 | 40.45554 | 079 | 06 |\n",
       "| Administración pública | Agencia Tributaria | Administración de la Agencia Tributaria Guzmán el Bueno Administración Central | -3.712513 | 40.44553 | 079 | 07 |\n",
       "| Administración pública | Agencia Tributaria | Administración de la Agencia Tributaria  Suroeste                              | -3.745598 | 40.37049 | 079 | 11 |\n",
       "| Administración pública | Agencia Tributaria | Administración de la Agencia Tributaria Montalbán                              | -3.690993 | 40.41795 | 079 | 03 |\n",
       "| Administración pública | Agencia Tributaria | Administración de la Agencia Tributaria Ciudad Lineal                          | -3.672477 | 40.45483 | 079 | 05 |\n",
       "\n"
      ],
      "text/plain": [
       "  Grupo                  Tipo              \n",
       "1 Administración pública Agencia Tributaria\n",
       "2 Administración pública Agencia Tributaria\n",
       "3 Administración pública Agencia Tributaria\n",
       "4 Administración pública Agencia Tributaria\n",
       "5 Administración pública Agencia Tributaria\n",
       "  ETIQUETA                                                                      \n",
       "1 Administración de la Agencia Tributaria Oficina Central                       \n",
       "2 Administración de la Agencia Tributaria Guzmán el Bueno Administración Central\n",
       "3 Administración de la Agencia Tributaria  Suroeste                             \n",
       "4 Administración de la Agencia Tributaria Montalbán                             \n",
       "5 Administración de la Agencia Tributaria Ciudad Lineal                         \n",
       "  X         Y        CMUN CDIS\n",
       "1 -3.698678 40.45554 079  06  \n",
       "2 -3.712513 40.44553 079  07  \n",
       "3 -3.745598 40.37049 079  11  \n",
       "4 -3.690993 40.41795 079  03  \n",
       "5 -3.672477 40.45483 079  05  "
      ]
     },
     "metadata": {},
     "output_type": "display_data"
    }
   ],
   "source": [
    "data_02 |> slice_head(n = 5)"
   ]
  },
  {
   "cell_type": "markdown",
   "metadata": {
    "slideshow": {
     "slide_type": "slide"
    }
   },
   "source": [
    "## ETL Processes"
   ]
  },
  {
   "cell_type": "markdown",
   "metadata": {
    "slideshow": {
     "slide_type": "slide"
    }
   },
   "source": [
    "### Import data from: CSV, Excel, Tab, JSON, SQL, and Parquet files\n",
    "\n",
    "Se han importado en el apartado Data Load anterior:\n",
    "\n",
    "* Infraestructuras\n",
    "* Localizaciones de administración y servicios"
   ]
  },
  {
   "cell_type": "markdown",
   "metadata": {},
   "source": [
    "Incluir apartados si procede para: Extracción de datos (select, filter), Transformación de datos, (mutate, joins, ...). Si es necesario tratar datos perdidos, indicarlo también en NB 09.2"
   ]
  },
  {
   "cell_type": "markdown",
   "metadata": {},
   "source": [
    "#### Data transformation\n",
    "\n",
    "* Convertir coordenadas a objeto `sf`"
   ]
  },
  {
   "cell_type": "code",
   "execution_count": 13,
   "metadata": {
    "vscode": {
     "languageId": "r"
    }
   },
   "outputs": [],
   "source": [
    "tdata_01 <- data_01 |>\n",
    "    st_as_sf(coords = c(\"X\", \"Y\")) |> \n",
    "    st_set_crs(4326)"
   ]
  },
  {
   "cell_type": "code",
   "execution_count": 14,
   "metadata": {
    "vscode": {
     "languageId": "r"
    }
   },
   "outputs": [],
   "source": [
    "tdata_02 <- data_02 |>\n",
    "    st_as_sf(coords = c(\"X\", \"Y\")) |> \n",
    "    st_set_crs(4326)"
   ]
  },
  {
   "cell_type": "markdown",
   "metadata": {},
   "source": [
    "* Calcular distancias"
   ]
  },
  {
   "cell_type": "code",
   "execution_count": 15,
   "metadata": {
    "vscode": {
     "languageId": "r"
    }
   },
   "outputs": [],
   "source": [
    "tdata_01$dist_aeropuerto <-\n",
    "    sapply(1:nrow(tdata_01),\n",
    "       function(x){\n",
    "         min(st_distance(tdata_01 |> slice(x), \n",
    "                         tdata_01 |> filter(tipo == \"Aeropuertos\")))/1000\n",
    "       })\n"
   ]
  },
  {
   "cell_type": "code",
   "execution_count": 16,
   "metadata": {
    "vscode": {
     "languageId": "r"
    }
   },
   "outputs": [],
   "source": [
    "tdata_01$dist_intercambiador <-\n",
    "    sapply(1:nrow(tdata_01),\n",
    "       function(x){\n",
    "         min(st_distance(tdata_01 |> slice(x), \n",
    "                         tdata_01 |> filter(tipo == \"Intercambiadores\")))/1000\n",
    "       })"
   ]
  },
  {
   "cell_type": "code",
   "execution_count": 17,
   "metadata": {
    "vscode": {
     "languageId": "r"
    }
   },
   "outputs": [],
   "source": [
    "tdata_01$dist_cercanias <-\n",
    "    sapply(1:nrow(tdata_01),\n",
    "       function(x){\n",
    "         min(st_distance(tdata_01 |> slice(x), \n",
    "                         tdata_01 |> filter(tipo == \"Estaciones de Cercanías\")))/1000\n",
    "       })"
   ]
  },
  {
   "cell_type": "code",
   "execution_count": 18,
   "metadata": {
    "vscode": {
     "languageId": "r"
    }
   },
   "outputs": [],
   "source": [
    "tdata_01$dist_hospital <-\n",
    "    sapply(1:nrow(tdata_01),\n",
    "       function(x){\n",
    "         min(st_distance(tdata_01 |> slice(x), \n",
    "                         tdata_01 |> filter(tipo == \"Hospitales\")))/1000\n",
    "       })"
   ]
  },
  {
   "cell_type": "code",
   "execution_count": 19,
   "metadata": {
    "vscode": {
     "languageId": "r"
    }
   },
   "outputs": [],
   "source": [
    "tdata_01$dist_universidad <-\n",
    "    sapply(1:nrow(tdata_01),\n",
    "       function(x){\n",
    "         min(st_distance(tdata_02 |> slice(x), \n",
    "                         tdata_02 |> filter(Tipo == \"Campus universitarios\")))/1000\n",
    "       })"
   ]
  },
  {
   "cell_type": "code",
   "execution_count": 20,
   "metadata": {
    "vscode": {
     "languageId": "r"
    }
   },
   "outputs": [],
   "source": [
    "tdata_01$dist_gob <-\n",
    "    sapply(1:nrow(tdata_01),\n",
    "       function(x){\n",
    "         min(st_distance(tdata_02 |> slice(x), \n",
    "                         tdata_02 |> filter(Tipo == \"Ayuntamientos, Consejerías, Ministerios, etc.\")))/1000\n",
    "       })"
   ]
  },
  {
   "cell_type": "code",
   "execution_count": 21,
   "metadata": {
    "vscode": {
     "languageId": "r"
    }
   },
   "outputs": [],
   "source": [
    "tdata_01$dist_embajada <-\n",
    "    sapply(1:nrow(tdata_01),\n",
    "       function(x){\n",
    "         min(st_distance(tdata_02 |> slice(x), \n",
    "                         tdata_02 |> filter(Tipo == \"Embajadas y consulados\")))/1000\n",
    "       })"
   ]
  },
  {
   "cell_type": "code",
   "execution_count": 22,
   "metadata": {
    "vscode": {
     "languageId": "r"
    }
   },
   "outputs": [],
   "source": [
    "tdata_01$dist_ccomercial <-\n",
    "    sapply(1:nrow(tdata_01),\n",
    "       function(x){\n",
    "         min(st_distance(tdata_02 |> slice(x), \n",
    "                         tdata_02 |> filter(Tipo == \"Centros comerciales\")))/1000\n",
    "       })"
   ]
  },
  {
   "cell_type": "markdown",
   "metadata": {},
   "source": [
    "* Pasar geometría a columnas numéricas y eliminar objeto sf"
   ]
  },
  {
   "cell_type": "code",
   "execution_count": 23,
   "metadata": {
    "vscode": {
     "languageId": "r"
    }
   },
   "outputs": [],
   "source": [
    "tdata_01_out <- tdata_01 |>\n",
    "    bind_cols(st_coordinates(tdata_01)) |>\n",
    "    st_drop_geometry()"
   ]
  },
  {
   "cell_type": "code",
   "execution_count": 24,
   "metadata": {
    "vscode": {
     "languageId": "r"
    }
   },
   "outputs": [
    {
     "data": {
      "text/html": [
       "<table class=\"dataframe\">\n",
       "<caption>A tibble: 5 × 18</caption>\n",
       "<thead>\n",
       "\t<tr><th scope=col>grupo</th><th scope=col>tipo</th><th scope=col>nombre</th><th scope=col>CODMUN</th><th scope=col>DIRECCION</th><th scope=col>info</th><th scope=col>CMUN</th><th scope=col>CDIS</th><th scope=col>dist_aeropuerto</th><th scope=col>dist_intercambiador</th><th scope=col>dist_cercanias</th><th scope=col>dist_hospital</th><th scope=col>dist_universidad</th><th scope=col>dist_gob</th><th scope=col>dist_embajada</th><th scope=col>dist_ccomercial</th><th scope=col>X</th><th scope=col>Y</th></tr>\n",
       "\t<tr><th scope=col>&lt;chr&gt;</th><th scope=col>&lt;chr&gt;</th><th scope=col>&lt;chr&gt;</th><th scope=col>&lt;chr&gt;</th><th scope=col>&lt;chr&gt;</th><th scope=col>&lt;chr&gt;</th><th scope=col>&lt;chr&gt;</th><th scope=col>&lt;chr&gt;</th><th scope=col>&lt;dbl&gt;</th><th scope=col>&lt;dbl&gt;</th><th scope=col>&lt;dbl&gt;</th><th scope=col>&lt;dbl&gt;</th><th scope=col>&lt;dbl&gt;</th><th scope=col>&lt;dbl&gt;</th><th scope=col>&lt;dbl&gt;</th><th scope=col>&lt;dbl&gt;</th><th scope=col>&lt;dbl&gt;</th><th scope=col>&lt;dbl&gt;</th></tr>\n",
       "</thead>\n",
       "<tbody>\n",
       "\t<tr><td>Transporte</td><td>Intercambiadores</td><td>Grandes Intercambiadores Plaza Elíptica    </td><td>079</td><td>Plaza Elíptica s/n                      </td><td>NA</td><td>079</td><td>12</td><td>5.203143</td><td>0</td><td>1.64897315</td><td>1.8154156</td><td>1.29960755</td><td>0.6177235</td><td>0.39213238</td><td>0.7311571</td><td>-3.716577</td><td>40.38540</td></tr>\n",
       "\t<tr><td>Transporte</td><td>Intercambiadores</td><td>Grandes Intercambiadores Moncloa           </td><td>079</td><td>Calle Princesa, 89                      </td><td>NA</td><td>079</td><td>09</td><td>8.550748</td><td>0</td><td>1.46863818</td><td>0.4221115</td><td>0.30460781</td><td>0.6263847</td><td>1.45739694</td><td>1.6105674</td><td>-3.719508</td><td>40.43474</td></tr>\n",
       "\t<tr><td>Transporte</td><td>Intercambiadores</td><td>Grandes Intercambiadores Príncipe Pío      </td><td>079</td><td>Estación Príncipe Pío                   </td><td>NA</td><td>079</td><td>09</td><td>7.300246</td><td>0</td><td>0.08833869</td><td>1.3855767</td><td>0.92076145</td><td>1.1700512</td><td>5.62455975</td><td>0.9060857</td><td>-3.719560</td><td>40.42080</td></tr>\n",
       "\t<tr><td>Transporte</td><td>Intercambiadores</td><td>Grandes Intercambiadores Plaza de Castilla </td><td>079</td><td>Calle San Aquilino y Avenida de Asturias</td><td>NA</td><td>079</td><td>05</td><td>9.933907</td><td>0</td><td>0.73687740</td><td>1.0733484</td><td>0.08835165</td><td>0.1490496</td><td>0.08316773</td><td>0.7758344</td><td>-3.689044</td><td>40.46719</td></tr>\n",
       "\t<tr><td>Transporte</td><td>Intercambiadores</td><td>Grandes Intercambiadores Avenida de América</td><td>079</td><td>Avenida de América 9 A                  </td><td>NA</td><td>079</td><td>05</td><td>9.198897</td><td>0</td><td>1.62310148</td><td>0.3488060</td><td>0.50695045</td><td>1.1979177</td><td>0.40303107</td><td>0.9512580</td><td>-3.676731</td><td>40.43797</td></tr>\n",
       "</tbody>\n",
       "</table>\n"
      ],
      "text/latex": [
       "A tibble: 5 × 18\n",
       "\\begin{tabular}{llllllllllllllllll}\n",
       " grupo & tipo & nombre & CODMUN & DIRECCION & info & CMUN & CDIS & dist\\_aeropuerto & dist\\_intercambiador & dist\\_cercanias & dist\\_hospital & dist\\_universidad & dist\\_gob & dist\\_embajada & dist\\_ccomercial & X & Y\\\\\n",
       " <chr> & <chr> & <chr> & <chr> & <chr> & <chr> & <chr> & <chr> & <dbl> & <dbl> & <dbl> & <dbl> & <dbl> & <dbl> & <dbl> & <dbl> & <dbl> & <dbl>\\\\\n",
       "\\hline\n",
       "\t Transporte & Intercambiadores & Grandes Intercambiadores Plaza Elíptica     & 079 & Plaza Elíptica s/n                       & NA & 079 & 12 & 5.203143 & 0 & 1.64897315 & 1.8154156 & 1.29960755 & 0.6177235 & 0.39213238 & 0.7311571 & -3.716577 & 40.38540\\\\\n",
       "\t Transporte & Intercambiadores & Grandes Intercambiadores Moncloa            & 079 & Calle Princesa, 89                       & NA & 079 & 09 & 8.550748 & 0 & 1.46863818 & 0.4221115 & 0.30460781 & 0.6263847 & 1.45739694 & 1.6105674 & -3.719508 & 40.43474\\\\\n",
       "\t Transporte & Intercambiadores & Grandes Intercambiadores Príncipe Pío       & 079 & Estación Príncipe Pío                    & NA & 079 & 09 & 7.300246 & 0 & 0.08833869 & 1.3855767 & 0.92076145 & 1.1700512 & 5.62455975 & 0.9060857 & -3.719560 & 40.42080\\\\\n",
       "\t Transporte & Intercambiadores & Grandes Intercambiadores Plaza de Castilla  & 079 & Calle San Aquilino y Avenida de Asturias & NA & 079 & 05 & 9.933907 & 0 & 0.73687740 & 1.0733484 & 0.08835165 & 0.1490496 & 0.08316773 & 0.7758344 & -3.689044 & 40.46719\\\\\n",
       "\t Transporte & Intercambiadores & Grandes Intercambiadores Avenida de América & 079 & Avenida de América 9 A                   & NA & 079 & 05 & 9.198897 & 0 & 1.62310148 & 0.3488060 & 0.50695045 & 1.1979177 & 0.40303107 & 0.9512580 & -3.676731 & 40.43797\\\\\n",
       "\\end{tabular}\n"
      ],
      "text/markdown": [
       "\n",
       "A tibble: 5 × 18\n",
       "\n",
       "| grupo &lt;chr&gt; | tipo &lt;chr&gt; | nombre &lt;chr&gt; | CODMUN &lt;chr&gt; | DIRECCION &lt;chr&gt; | info &lt;chr&gt; | CMUN &lt;chr&gt; | CDIS &lt;chr&gt; | dist_aeropuerto &lt;dbl&gt; | dist_intercambiador &lt;dbl&gt; | dist_cercanias &lt;dbl&gt; | dist_hospital &lt;dbl&gt; | dist_universidad &lt;dbl&gt; | dist_gob &lt;dbl&gt; | dist_embajada &lt;dbl&gt; | dist_ccomercial &lt;dbl&gt; | X &lt;dbl&gt; | Y &lt;dbl&gt; |\n",
       "|---|---|---|---|---|---|---|---|---|---|---|---|---|---|---|---|---|---|\n",
       "| Transporte | Intercambiadores | Grandes Intercambiadores Plaza Elíptica     | 079 | Plaza Elíptica s/n                       | NA | 079 | 12 | 5.203143 | 0 | 1.64897315 | 1.8154156 | 1.29960755 | 0.6177235 | 0.39213238 | 0.7311571 | -3.716577 | 40.38540 |\n",
       "| Transporte | Intercambiadores | Grandes Intercambiadores Moncloa            | 079 | Calle Princesa, 89                       | NA | 079 | 09 | 8.550748 | 0 | 1.46863818 | 0.4221115 | 0.30460781 | 0.6263847 | 1.45739694 | 1.6105674 | -3.719508 | 40.43474 |\n",
       "| Transporte | Intercambiadores | Grandes Intercambiadores Príncipe Pío       | 079 | Estación Príncipe Pío                    | NA | 079 | 09 | 7.300246 | 0 | 0.08833869 | 1.3855767 | 0.92076145 | 1.1700512 | 5.62455975 | 0.9060857 | -3.719560 | 40.42080 |\n",
       "| Transporte | Intercambiadores | Grandes Intercambiadores Plaza de Castilla  | 079 | Calle San Aquilino y Avenida de Asturias | NA | 079 | 05 | 9.933907 | 0 | 0.73687740 | 1.0733484 | 0.08835165 | 0.1490496 | 0.08316773 | 0.7758344 | -3.689044 | 40.46719 |\n",
       "| Transporte | Intercambiadores | Grandes Intercambiadores Avenida de América | 079 | Avenida de América 9 A                   | NA | 079 | 05 | 9.198897 | 0 | 1.62310148 | 0.3488060 | 0.50695045 | 1.1979177 | 0.40303107 | 0.9512580 | -3.676731 | 40.43797 |\n",
       "\n"
      ],
      "text/plain": [
       "  grupo      tipo             nombre                                     \n",
       "1 Transporte Intercambiadores Grandes Intercambiadores Plaza Elíptica    \n",
       "2 Transporte Intercambiadores Grandes Intercambiadores Moncloa           \n",
       "3 Transporte Intercambiadores Grandes Intercambiadores Príncipe Pío      \n",
       "4 Transporte Intercambiadores Grandes Intercambiadores Plaza de Castilla \n",
       "5 Transporte Intercambiadores Grandes Intercambiadores Avenida de América\n",
       "  CODMUN DIRECCION                                info CMUN CDIS\n",
       "1 079    Plaza Elíptica s/n                       NA   079  12  \n",
       "2 079    Calle Princesa, 89                       NA   079  09  \n",
       "3 079    Estación Príncipe Pío                    NA   079  09  \n",
       "4 079    Calle San Aquilino y Avenida de Asturias NA   079  05  \n",
       "5 079    Avenida de América 9 A                   NA   079  05  \n",
       "  dist_aeropuerto dist_intercambiador dist_cercanias dist_hospital\n",
       "1 5.203143        0                   1.64897315     1.8154156    \n",
       "2 8.550748        0                   1.46863818     0.4221115    \n",
       "3 7.300246        0                   0.08833869     1.3855767    \n",
       "4 9.933907        0                   0.73687740     1.0733484    \n",
       "5 9.198897        0                   1.62310148     0.3488060    \n",
       "  dist_universidad dist_gob  dist_embajada dist_ccomercial X         Y       \n",
       "1 1.29960755       0.6177235 0.39213238    0.7311571       -3.716577 40.38540\n",
       "2 0.30460781       0.6263847 1.45739694    1.6105674       -3.719508 40.43474\n",
       "3 0.92076145       1.1700512 5.62455975    0.9060857       -3.719560 40.42080\n",
       "4 0.08835165       0.1490496 0.08316773    0.7758344       -3.689044 40.46719\n",
       "5 0.50695045       1.1979177 0.40303107    0.9512580       -3.676731 40.43797"
      ]
     },
     "metadata": {},
     "output_type": "display_data"
    }
   ],
   "source": [
    "tdata_01_out |> tibble() |> slice_head(n = 5)"
   ]
  },
  {
   "cell_type": "code",
   "execution_count": 25,
   "metadata": {
    "vscode": {
     "languageId": "r"
    }
   },
   "outputs": [
    {
     "name": "stdout",
     "output_type": "stream",
     "text": [
      "Rows: 1,633\n",
      "Columns: 18\n",
      "$ grupo               \u001b[3m\u001b[90m<chr>\u001b[39m\u001b[23m \"Transporte\", \"Transporte\", \"Transporte\", \"Transpo…\n",
      "$ tipo                \u001b[3m\u001b[90m<chr>\u001b[39m\u001b[23m \"Intercambiadores\", \"Intercambiadores\", \"Intercamb…\n",
      "$ nombre              \u001b[3m\u001b[90m<chr>\u001b[39m\u001b[23m \"Grandes Intercambiadores Plaza Elíptica\", \"Grande…\n",
      "$ CODMUN              \u001b[3m\u001b[90m<chr>\u001b[39m\u001b[23m \"079\", \"079\", \"079\", \"079\", \"079\", \"079\", \"079\", \"…\n",
      "$ DIRECCION           \u001b[3m\u001b[90m<chr>\u001b[39m\u001b[23m \"Plaza Elíptica s/n\", \"Calle Princesa, 89\", \"Estac…\n",
      "$ info                \u001b[3m\u001b[90m<chr>\u001b[39m\u001b[23m NA, NA, NA, NA, NA, NA, NA, NA, NA, NA, NA, NA, NA…\n",
      "$ CMUN                \u001b[3m\u001b[90m<chr>\u001b[39m\u001b[23m \"079\", \"079\", \"079\", \"079\", \"079\", \"079\", \"079\", \"…\n",
      "$ CDIS                \u001b[3m\u001b[90m<chr>\u001b[39m\u001b[23m \"12\", \"09\", \"09\", \"05\", \"05\", \"05\", \"06\", \"02\", \"0…\n",
      "$ dist_aeropuerto     \u001b[3m\u001b[90m<dbl>\u001b[39m\u001b[23m 5.2031430, 8.5507475, 7.3002463, 9.9339069, 9.1988…\n",
      "$ dist_intercambiador \u001b[3m\u001b[90m<dbl>\u001b[39m\u001b[23m 0.00000000, 0.00000000, 0.00000000, 0.00000000, 0.…\n",
      "$ dist_cercanias      \u001b[3m\u001b[90m<dbl>\u001b[39m\u001b[23m 1.648973148, 1.468638183, 0.088338692, 0.736877403…\n",
      "$ dist_hospital       \u001b[3m\u001b[90m<dbl>\u001b[39m\u001b[23m 1.8154156, 0.4221115, 1.3855767, 1.0733484, 0.3488…\n",
      "$ dist_universidad    \u001b[3m\u001b[90m<dbl>\u001b[39m\u001b[23m 1.29960755, 0.30460781, 0.92076145, 0.08835165, 0.…\n",
      "$ dist_gob            \u001b[3m\u001b[90m<dbl>\u001b[39m\u001b[23m 0.61772353, 0.62638474, 1.17005116, 0.14904962, 1.…\n",
      "$ dist_embajada       \u001b[3m\u001b[90m<dbl>\u001b[39m\u001b[23m 3.921324e-01, 1.457397e+00, 5.624560e+00, 8.316773…\n",
      "$ dist_ccomercial     \u001b[3m\u001b[90m<dbl>\u001b[39m\u001b[23m 0.73115706, 1.61056736, 0.90608573, 0.77583440, 0.…\n",
      "$ X                   \u001b[3m\u001b[90m<dbl>\u001b[39m\u001b[23m -3.716577, -3.719508, -3.719560, -3.689044, -3.676…\n",
      "$ Y                   \u001b[3m\u001b[90m<dbl>\u001b[39m\u001b[23m 40.38540, 40.43474, 40.42080, 40.46719, 40.43797, …\n"
     ]
    }
   ],
   "source": [
    "tdata_01_out |> glimpse()"
   ]
  },
  {
   "cell_type": "markdown",
   "metadata": {},
   "source": [
    "Si no aplica: Estos datos no requieren tareas de este tipo."
   ]
  },
  {
   "cell_type": "markdown",
   "metadata": {
    "slideshow": {
     "slide_type": "slide"
    }
   },
   "source": [
    "## Synthetic Data Generation"
   ]
  },
  {
   "cell_type": "markdown",
   "metadata": {
    "slideshow": {
     "slide_type": "slide"
    }
   },
   "source": [
    "No aplica\n"
   ]
  },
  {
   "cell_type": "markdown",
   "metadata": {
    "slideshow": {
     "slide_type": "slide"
    }
   },
   "source": [
    "## Fake Data Generation"
   ]
  },
  {
   "cell_type": "markdown",
   "metadata": {
    "slideshow": {
     "slide_type": "slide"
    }
   },
   "source": [
    "No aplica\n"
   ]
  },
  {
   "cell_type": "markdown",
   "metadata": {
    "slideshow": {
     "slide_type": "slide"
    }
   },
   "source": [
    "## Open Data"
   ]
  },
  {
   "cell_type": "markdown",
   "metadata": {
    "slideshow": {
     "slide_type": "slide"
    }
   },
   "source": [
    "Los datos originales fueron obtenidos de fuentes abiertas (CM, OSM)"
   ]
  },
  {
   "cell_type": "markdown",
   "metadata": {},
   "source": [
    "## <font color='green'>Data Save</font>"
   ]
  },
  {
   "cell_type": "markdown",
   "metadata": {},
   "source": [
    "Este proceso, puede copiarse y repetirse en aquellas partes del notebbok que necesiten guardar datos.\n",
    "Recuerde cambiar las cadenas añadida del fichero para diferenciarlas"
   ]
  },
  {
   "cell_type": "markdown",
   "metadata": {},
   "source": [
    "<font color='tomato'> Identificamos los datos a guardar</font>"
   ]
  },
  {
   "cell_type": "code",
   "execution_count": 26,
   "metadata": {
    "ExecuteTime": {
     "end_time": "2020-12-25T17:59:27.022001Z",
     "start_time": "2020-12-25T17:59:15.986986Z"
    },
    "scrolled": false,
    "vscode": {
     "languageId": "r"
    }
   },
   "outputs": [],
   "source": [
    "data_to_save <- tdata_01_out"
   ]
  },
  {
   "cell_type": "markdown",
   "metadata": {},
   "source": [
    "\n",
    "<font color='tomato'>Estructura de nombre de archivos:</font>\n",
    "\n",
    "* Código del caso de uso, por ejemplo \"CU_04\"\n",
    "* Número del proceso que lo genera, por ejemplo \"_05\".\n",
    "* Número de la tarea que lo genera, por ejemplo \"_01\"\n",
    "* En caso de generarse varios ficheros en la misma tarea, llevarán _01 _02 ... después\n",
    "* Nombre: identificativo de \"properData\", por ejemplo \"_zonasgeo\"\n",
    "* Extensión del archivo\n",
    "\n",
    "Ejemplo: \"CU_04_05_01_01_zonasgeo.json, primer fichero que se genera en la tarea 01 del proceso 05 (Data Collection) para el caso de uso 04 (vacunas)\n",
    "\n",
    "Importante mantener los guiones bajos antes de proceso, tarea, archivo y nombre"
   ]
  },
  {
   "cell_type": "markdown",
   "metadata": {},
   "source": [
    "### Proceso 05"
   ]
  },
  {
   "cell_type": "code",
   "execution_count": 27,
   "metadata": {
    "ExecuteTime": {
     "end_time": "2020-12-25T17:59:27.022001Z",
     "start_time": "2020-12-25T17:59:15.986986Z"
    },
    "scrolled": false,
    "vscode": {
     "languageId": "r"
    }
   },
   "outputs": [],
   "source": [
    "caso <- \"CU_18\"\n",
    "proceso <- '_05'\n",
    "tarea <- \"_17\"\n",
    "archivo <- \"\"\n",
    "proper <- \"_infraestructuras\"\n",
    "extension <- \".csv\""
   ]
  },
  {
   "cell_type": "markdown",
   "metadata": {},
   "source": [
    "<font color='tomato'><b> OPCION A:</b> Uso del paquete \"tcltk\" para mayor comodidad</font>\n",
    "\n",
    "* Buscar carpeta, escribir nombre de archivo SIN extensión (se especifica en el código)\n",
    "* Especificar sufijo2 si es necesario\n",
    "* Cambiar datos por datos_xx si es necesario"
   ]
  },
  {
   "cell_type": "code",
   "execution_count": 28,
   "metadata": {
    "ExecuteTime": {
     "end_time": "2020-12-25T17:59:27.022001Z",
     "start_time": "2020-12-25T17:59:15.986986Z"
    },
    "scrolled": false,
    "vscode": {
     "languageId": "r"
    }
   },
   "outputs": [],
   "source": [
    "# file_save <- paste0(caso, proceso, tarea, tcltk::tkgetSaveFile(), proper, extension) \n",
    "# path_out <- paste0(oPath, file_save)\n",
    "# write_csv(data_to_save, path_out)\n",
    "\n",
    "# cat('File saved as: ')\n",
    "# path_out"
   ]
  },
  {
   "cell_type": "markdown",
   "metadata": {},
   "source": [
    "<font color='tomato'><b> OPCION B:</b> Especificar el nombre de archivo</font>"
   ]
  },
  {
   "cell_type": "markdown",
   "metadata": {},
   "source": [
    "- Los ficheros de salida del proceso van siempre a Data/Output/.  "
   ]
  },
  {
   "cell_type": "code",
   "execution_count": 29,
   "metadata": {
    "ExecuteTime": {
     "end_time": "2021-01-26T18:40:31.258294Z",
     "start_time": "2021-01-26T18:40:26.061847Z"
    },
    "slideshow": {
     "slide_type": "subslide"
    },
    "vscode": {
     "languageId": "r"
    }
   },
   "outputs": [
    {
     "name": "stdout",
     "output_type": "stream",
     "text": [
      "File saved as: "
     ]
    },
    {
     "data": {
      "text/html": [
       "'Data/Output/CU_18_05_17_infraestructuras.csv'"
      ],
      "text/latex": [
       "'Data/Output/CU\\_18\\_05\\_17\\_infraestructuras.csv'"
      ],
      "text/markdown": [
       "'Data/Output/CU_18_05_17_infraestructuras.csv'"
      ],
      "text/plain": [
       "[1] \"Data/Output/CU_18_05_17_infraestructuras.csv\""
      ]
     },
     "metadata": {},
     "output_type": "display_data"
    }
   ],
   "source": [
    "file_save <- paste0(caso, proceso, tarea, archivo, proper, extension) \n",
    "path_out <- paste0(oPath, file_save)\n",
    "write_csv(data_to_save, path_out)\n",
    "\n",
    "cat('File saved as: ')\n",
    "path_out"
   ]
  },
  {
   "cell_type": "markdown",
   "metadata": {},
   "source": [
    "#### Copia del fichero a Input\n",
    "\n",
    "Si el archivo se va a usar en otros notebooks, copiar a la carpeta Input"
   ]
  },
  {
   "cell_type": "code",
   "execution_count": 32,
   "metadata": {
    "vscode": {
     "languageId": "r"
    }
   },
   "outputs": [
    {
     "data": {
      "text/html": [
       "TRUE"
      ],
      "text/latex": [
       "TRUE"
      ],
      "text/markdown": [
       "TRUE"
      ],
      "text/plain": [
       "[1] TRUE"
      ]
     },
     "metadata": {},
     "output_type": "display_data"
    }
   ],
   "source": [
    "path_in <- paste0(iPath, file_save)\n",
    "file.copy(path_out, path_in, overwrite = TRUE)"
   ]
  },
  {
   "cell_type": "markdown",
   "metadata": {},
   "source": [
    "## <font color=' #2874a6 '>Main Conclusions</font>"
   ]
  },
  {
   "cell_type": "markdown",
   "metadata": {
    "slideshow": {
     "slide_type": "slide"
    }
   },
   "source": [
    "<font color='steelblue'>List and describe the general conclusions of the analysis carried out​.</font>"
   ]
  },
  {
   "cell_type": "markdown",
   "metadata": {},
   "source": [
    "### Prerequisites\n",
    "\n",
    "Para que funcione este código se necesita:\n",
    "\n",
    "* El paquete tcltk instalado. No se necesita en producción.\n",
    "* Los paquetes tcltk, sf, readr, dplyr deben estar instalados.\n",
    "* Las rutas de archivos `Data/Input` y `Data/Output` deben existir (relativas a la ruta del _notebook_)"
   ]
  },
  {
   "cell_type": "markdown",
   "metadata": {},
   "source": [
    "### Configuration Management\n",
    "\n",
    "This notebook has been tested with the following versions of R and packages. It cannot be assured that later versions work in the same way:\n",
    "\n",
    "* R 4.2.2\n",
    "* tcltk 4.2.2\n",
    "* sf 1.0.9\n",
    "* readr 2.1.3\n",
    "* dplyr 1.0.10"
   ]
  },
  {
   "cell_type": "markdown",
   "metadata": {},
   "source": [
    "### Data structures"
   ]
  },
  {
   "cell_type": "markdown",
   "metadata": {},
   "source": [
    "#### Objeto `tdata_01_out`\n",
    "\n",
    "- En los datos de origen tenemos coordenadas de un buen número de infraestructuras y otros puntos de interés\n",
    "- Hay 1633 filas con las variables:\n",
    "    * grupo\n",
    "\t* tipo\n",
    "\t* nombre\n",
    "\t* CODMUN\n",
    "\t* DIRECCION\n",
    "\t* info\n",
    "\t* CMUN\n",
    "\t* CDIS\n",
    "\t* dist_aeropuerto\n",
    "\t* dist_intercambiador\n",
    "\t* dist_cercanias\n",
    "\t* dist_hospital\n",
    "\t* dist_universidad\n",
    "\t* dist_gob\n",
    "\t* dist_embajada\n",
    "\t* dist_ccomercial\n",
    "    * X\n",
    "    * Y\n"
   ]
  },
  {
   "cell_type": "markdown",
   "metadata": {},
   "source": [
    "#### Observaciones generales sobre los datos\n",
    "\n",
    "* Las distancias se han calculado en kilómetros, en distancia ortodrómica  _(great circle distance)_\n",
    "* Los datos de metro están por bocas de metro"
   ]
  },
  {
   "cell_type": "markdown",
   "metadata": {},
   "source": [
    "### Consideraciones para despliegue en piloto\n",
    "\n",
    "* Los datos se importarán directamente"
   ]
  },
  {
   "cell_type": "markdown",
   "metadata": {},
   "source": [
    "### Consideraciones para despliegue en producción\n",
    "\n",
    "* Se deben crear los procesos ETL en producción necesarios para que los datos de entrada estén actualizados"
   ]
  },
  {
   "cell_type": "markdown",
   "metadata": {},
   "source": [
    "## <font color=' #2874a6 '>Main Actions</font>"
   ]
  },
  {
   "cell_type": "markdown",
   "metadata": {},
   "source": [
    "#### <font color=' #2874a6 '>Acciones done</font>"
   ]
  },
  {
   "cell_type": "markdown",
   "metadata": {
    "slideshow": {
     "slide_type": "slide"
    }
   },
   "source": [
    "<font color='steelblue'>Indicate the actions that have been carried out in this process</font>"
   ]
  },
  {
   "cell_type": "markdown",
   "metadata": {},
   "source": [
    "- Se han calculado distancias entre cada infraestructura y puntos relevantes\n",
    "- Se han convertido coordenadas numéricas a objetos espaciales y viceversa para poder calcular las distancias ortodrómicas"
   ]
  },
  {
   "cell_type": "markdown",
   "metadata": {},
   "source": [
    "#### <font color=' #2874a6 '>Acctions to perform</font>"
   ]
  },
  {
   "cell_type": "markdown",
   "metadata": {
    "slideshow": {
     "slide_type": "slide"
    }
   },
   "source": [
    "<font color='steelblue'>Indicate the actions that must be carried out in subsequent processes</font>"
   ]
  },
  {
   "cell_type": "markdown",
   "metadata": {},
   "source": [
    "- Se deben agrupar los datos de boca de metro por estaciones\n",
    "- Se deben unir los datos de infraestructuras a los de eventos diarios para aplicar los modelos."
   ]
  },
  {
   "cell_type": "markdown",
   "metadata": {},
   "source": [
    "## <font color='RED'>CODE TO DEPLOY (PILOT)</font>\n",
    "\n",
    "A continuación se incluirá el código que deba ser llevado a despliegue para producción, dado que se entiende efectúa operaciones necesarias sobre los datos en la ejecución del prototipo"
   ]
  },
  {
   "cell_type": "markdown",
   "metadata": {},
   "source": [
    "<font color=' red '><b>Description</b></font>\n",
    "\n",
    "- No hay nada que desplegar en el piloto, ya que estos datos son estáticos o en todo caso cambian con muy poca frecuencia, altamente improbable durante el proyecto.\n"
   ]
  },
  {
   "cell_type": "markdown",
   "metadata": {},
   "source": [
    "<font color=' red '><b>CODE</b></font>"
   ]
  },
  {
   "cell_type": "code",
   "execution_count": 31,
   "metadata": {
    "vscode": {
     "languageId": "r"
    }
   },
   "outputs": [],
   "source": [
    "# incluir código"
   ]
  }
 ],
 "metadata": {
  "anaconda-cloud": {},
  "celltoolbar": "Slideshow",
  "hide_input": false,
  "kernelspec": {
   "display_name": "R",
   "language": "R",
   "name": "ir"
  },
  "language_info": {
   "codemirror_mode": "r",
   "file_extension": ".r",
   "mimetype": "text/x-r-source",
   "name": "R",
   "pygments_lexer": "r",
   "version": "4.2.2"
  },
  "latex_envs": {
   "LaTeX_envs_menu_present": true,
   "autoclose": false,
   "autocomplete": true,
   "bibliofile": "biblio.bib",
   "cite_by": "apalike",
   "current_citInitial": 1,
   "eqLabelWithNumbers": true,
   "eqNumInitial": 1,
   "hotkeys": {
    "equation": "Ctrl-E",
    "itemize": "Ctrl-I"
   },
   "labels_anchors": false,
   "latex_user_defs": false,
   "report_style_numbering": true,
   "user_envs_cfg": false
  },
  "toc": {
   "base_numbering": 1,
   "nav_menu": {
    "height": "11.6px",
    "width": "160px"
   },
   "number_sections": false,
   "sideBar": true,
   "skip_h1_title": true,
   "title_cell": "Table of Contents",
   "title_sidebar": "Contents",
   "toc_cell": true,
   "toc_position": {
    "height": "calc(100% - 180px)",
    "left": "10px",
    "top": "150px",
    "width": "209.2px"
   },
   "toc_section_display": true,
   "toc_window_display": true
  },
  "varInspector": {
   "cols": {
    "lenName": 16,
    "lenType": 16,
    "lenVar": 40
   },
   "kernels_config": {
    "python": {
     "delete_cmd_postfix": "",
     "delete_cmd_prefix": "del ",
     "library": "var_list.py",
     "varRefreshCmd": "print(var_dic_list())"
    },
    "r": {
     "delete_cmd_postfix": ") ",
     "delete_cmd_prefix": "rm(",
     "library": "var_list.r",
     "varRefreshCmd": "cat(var_dic_list()) "
    }
   },
   "types_to_exclude": [
    "module",
    "function",
    "builtin_function_or_method",
    "instance",
    "_Feature"
   ],
   "window_display": false
  }
 },
 "nbformat": 4,
 "nbformat_minor": 1
}
