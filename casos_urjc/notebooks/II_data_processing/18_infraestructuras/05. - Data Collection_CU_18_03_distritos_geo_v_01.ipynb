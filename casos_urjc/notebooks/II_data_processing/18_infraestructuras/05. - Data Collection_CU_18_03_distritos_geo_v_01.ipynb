{
 "cells": [
  {
   "cell_type": "markdown",
   "metadata": {
    "slideshow": {
     "slide_type": "slide"
    }
   },
   "source": [
    "<img src=\".\\images\\Logo.png\" width=150 align=\"left\" /> <img src=\".\\images\\Logo2.jpg\" width=450 align=\"right\" />"
   ]
  },
  {
   "attachments": {},
   "cell_type": "markdown",
   "metadata": {
    "slideshow": {
     "slide_type": "slide"
    }
   },
   "source": [
    "\n",
    "# <center><font color= #1e8449 > <b>CU18_Infraestructuras_eventos</font></center>"
   ]
  },
  {
   "cell_type": "markdown",
   "metadata": {
    "slideshow": {
     "slide_type": "slide"
    }
   },
   "source": [
    "<font color='steelblue'><b>Citizenlab Data Science Methodology > II - Data Processing Domain </font>\n",
    "***\n",
    "> # <font color='steelblue'> <b>05.- Data Collection</font>"
   ]
  },
  {
   "cell_type": "markdown",
   "metadata": {
    "slideshow": {
     "slide_type": "slide"
    }
   },
   "source": [
    "<font color='steelblue'>Data Collection is the process to obtain and generate (if required) necessary data to model the problem.</font>"
   ]
  },
  {
   "attachments": {},
   "cell_type": "markdown",
   "metadata": {},
   "source": [
    "### 03. Obtener datos de geometrías secciones censales en formato json\n",
    "\n",
    "* Dados los ficheros shp del INE, obtener un solo archivo json con la información georeferenciada\n",
    "* Los datos están por sección censal, hay que unir los polígonos en distritos censales\n",
    "\n",
    "\n",
    "\n",
    "\n",
    "\n"
   ]
  },
  {
   "cell_type": "markdown",
   "metadata": {
    "toc": true
   },
   "source": [
    "<h1>Table of Contents<span class=\"tocSkip\"></span></h1>\n",
    "<div class=\"toc\"><ul class=\"toc-item\"><li><span><a href=\"#Settings\" data-toc-modified-id=\"Settings-1\"><font color=\"green\">Settings</font></a></span></li><li><span><a href=\"#Data-Load\" data-toc-modified-id=\"Data-Load-2\"><font color=\"green\">Data Load</font></a></span></li><li><span><a href=\"#ETL-Processes\" data-toc-modified-id=\"ETL-Processes-3\">ETL Processes</a></span><ul class=\"toc-item\"><li><span><a href=\"#Import-data-from:-CSV,-Excel,-Tab,-JSON,-SQL,-and-Parquet-files\" data-toc-modified-id=\"Import-data-from:-CSV,-Excel,-Tab,-JSON,-SQL,-and-Parquet-files-3.1\">Import data from: CSV, Excel, Tab, JSON, SQL, and Parquet files</a></span></li></ul></li><li><span><a href=\"#Synthetic-Data-Generation\" data-toc-modified-id=\"Synthetic-Data-Generation-4\">Synthetic Data Generation</a></span></li><li><span><a href=\"#Fake-Data-Generation\" data-toc-modified-id=\"Fake-Data-Generation-5\">Fake Data Generation</a></span></li><li><span><a href=\"#Open-Data\" data-toc-modified-id=\"Open-Data-6\">Open Data</a></span></li><li><span><a href=\"#Data-Save\" data-toc-modified-id=\"Data-Save-7\"><font color=\"green\">Data Save</font></a></span></li><li><span><a href=\"#Main-Conclusions\" data-toc-modified-id=\"Main-Conclusions-8\"><font color=\" #2874a6 \">Main Conclusions</font></a></span></li><li><span><a href=\"#Main-Actions\" data-toc-modified-id=\"Main-Actions-9\"><font color=\" #2874a6 \">Main Actions</font></a></span><ul class=\"toc-item\"><li><ul class=\"toc-item\"><li><span><a href=\"#Acciones-done\" data-toc-modified-id=\"Acciones-done-9.0.1\"><font color=\" #2874a6 \">Acciones done</font></a></span></li><li><span><a href=\"#Acctions-to-perform\" data-toc-modified-id=\"Acctions-to-perform-9.0.2\"><font color=\" #2874a6 \">Acctions to perform</font></a></span></li></ul></li></ul></li></ul></div>"
   ]
  },
  {
   "cell_type": "markdown",
   "metadata": {
    "slideshow": {
     "slide_type": "slide"
    }
   },
   "source": [
    "## <font color='green'>Settings</font>"
   ]
  },
  {
   "attachments": {},
   "cell_type": "markdown",
   "metadata": {},
   "source": [
    "### Packages to use\n",
    "\n",
    "- {tcltk} para seleccionar archivos locales de forma interactiva\n",
    "- {sf} para trabajar con georeferenciación\n",
    "- {dplyr} para explorar datos\n"
   ]
  },
  {
   "cell_type": "code",
   "execution_count": 1,
   "metadata": {
    "ExecuteTime": {
     "end_time": "2021-12-03T15:23:33.762841Z",
     "start_time": "2021-12-03T15:23:08.580267Z"
    },
    "slideshow": {
     "slide_type": "subslide"
    },
    "vscode": {
     "languageId": "r"
    }
   },
   "outputs": [
    {
     "name": "stderr",
     "output_type": "stream",
     "text": [
      "Linking to GEOS 3.10.2, GDAL 3.4.2, PROJ 8.2.1; sf_use_s2() is TRUE\n",
      "\n",
      "\n",
      "Attaching package: 'dplyr'\n",
      "\n",
      "\n",
      "The following objects are masked from 'package:stats':\n",
      "\n",
      "    filter, lag\n",
      "\n",
      "\n",
      "The following objects are masked from 'package:base':\n",
      "\n",
      "    intersect, setdiff, setequal, union\n",
      "\n",
      "\n"
     ]
    }
   ],
   "source": [
    "library(sf)\n",
    "library(dplyr)\n"
   ]
  },
  {
   "attachments": {},
   "cell_type": "markdown",
   "metadata": {},
   "source": [
    "### Paths"
   ]
  },
  {
   "cell_type": "code",
   "execution_count": 2,
   "metadata": {
    "vscode": {
     "languageId": "r"
    }
   },
   "outputs": [],
   "source": [
    "iPath <- \"Data/Input/\"\n",
    "oPath <- \"Data/Output/\""
   ]
  },
  {
   "attachments": {},
   "cell_type": "markdown",
   "metadata": {
    "slideshow": {
     "slide_type": "slide"
    }
   },
   "source": [
    "## <font color='green'>Data Load</font>\n",
    "\n",
    "If there are more than one input file, make as many sections as files to import."
   ]
  },
  {
   "attachments": {},
   "cell_type": "markdown",
   "metadata": {},
   "source": [
    "Instrucciones\n",
    "- Los ficheros de entrada del proceso están siempre en Data/Input/.   \n",
    "- Si hay más de un fichero de entrada, se crean tantos objetos iFile_xx y file_data_xx como ficheros de entrada (xx número correlativo con dos dígitos, rellenar con ceros a la izquierda)"
   ]
  },
  {
   "attachments": {},
   "cell_type": "markdown",
   "metadata": {},
   "source": [
    "#### Archivo de geometrías"
   ]
  },
  {
   "attachments": {},
   "cell_type": "markdown",
   "metadata": {},
   "source": [
    "<font color='tomato'><b> OPCION A:</b> Seleccionar fichero en ventana para mayor comodidad</font> "
   ]
  },
  {
   "attachments": {},
   "cell_type": "markdown",
   "metadata": {},
   "source": [
    "Data load using the {tcltk} package. Ucomment the line if not using this option"
   ]
  },
  {
   "cell_type": "code",
   "execution_count": 3,
   "metadata": {
    "vscode": {
     "languageId": "r"
    }
   },
   "outputs": [],
   "source": [
    "# file_data <- tcltk::tk_choose.files(multi = FALSE)"
   ]
  },
  {
   "attachments": {},
   "cell_type": "markdown",
   "metadata": {},
   "source": [
    "<font color='tomato'><b> OPCION B:</b> Especificar el nombre de archivo</font>\n",
    "\n"
   ]
  },
  {
   "cell_type": "code",
   "execution_count": 4,
   "metadata": {
    "vscode": {
     "languageId": "r"
    }
   },
   "outputs": [
    {
     "name": "stdout",
     "output_type": "stream",
     "text": [
      "Se leer<U+00E1>n datos del archivo:  Data/Input/Espana_Seccionado2022_ETRS89H30/SECC_CE_20220101.shp"
     ]
    }
   ],
   "source": [
    "iFile <- \"Espana_Seccionado2022_ETRS89H30/SECC_CE_20220101.shp\"\n",
    "file_data <- paste0(iPath, iFile)\n",
    "\n",
    "if(file.exists(file_data)){\n",
    "    cat(\"Se leerán datos del archivo: \", file_data)\n",
    "} else{\n",
    "    warning(\"Cuidado: el archivo no existe.\")\n",
    "}\n"
   ]
  },
  {
   "attachments": {},
   "cell_type": "markdown",
   "metadata": {},
   "source": [
    "#### Data file to dataframe\n",
    "\n",
    "Usar la función adecuada según el formato de entrada (xlsx, csv, json, ...)"
   ]
  },
  {
   "cell_type": "code",
   "execution_count": 5,
   "metadata": {
    "vscode": {
     "languageId": "r"
    }
   },
   "outputs": [
    {
     "name": "stdout",
     "output_type": "stream",
     "text": [
      "Reading layer `SECC_CE_20220101' from data source \n",
      "  `/Users/emilio.lcano/academico/gh_repos/__transferencia/citizenlab/CitizenLab-Research-and-Development/casos_urjc/notebooks/II_data_processing/18_infraestructuras/Data/Input/Espana_Seccionado2022_ETRS89H30/SECC_CE_20220101.shp' \n",
      "  using driver `ESRI Shapefile'\n",
      "Simple feature collection with 36382 features and 16 fields\n",
      "Geometry type: MULTIPOLYGON\n",
      "Dimension:     XY\n",
      "Bounding box:  xmin: -1004502 ymin: 3132130 xmax: 1126932 ymax: 4859240\n",
      "Projected CRS: ETRS89 / UTM zone 30N\n"
     ]
    }
   ],
   "source": [
    "data <- st_read(file_data)\n"
   ]
  },
  {
   "attachments": {},
   "cell_type": "markdown",
   "metadata": {},
   "source": [
    "Estructura de  los datos:"
   ]
  },
  {
   "cell_type": "code",
   "execution_count": 6,
   "metadata": {
    "vscode": {
     "languageId": "r"
    }
   },
   "outputs": [
    {
     "name": "stdout",
     "output_type": "stream",
     "text": [
      "Rows: 36,382\n",
      "Columns: 17\n",
      "$ CUSEC    \u001b[3m\u001b[90m<chr>\u001b[39m\u001b[23m \"0100101001\", \"0100101002\", \"0100201001\", \"0100201002\", \"0100~\n",
      "$ CUMUN    \u001b[3m\u001b[90m<chr>\u001b[39m\u001b[23m \"01001\", \"01001\", \"01002\", \"01002\", \"01002\", \"01002\", \"01002\"~\n",
      "$ CSEC     \u001b[3m\u001b[90m<chr>\u001b[39m\u001b[23m \"001\", \"002\", \"001\", \"002\", \"003\", \"004\", \"005\", \"006\", \"007\"~\n",
      "$ CDIS     \u001b[3m\u001b[90m<chr>\u001b[39m\u001b[23m \"01\", \"01\", \"01\", \"01\", \"01\", \"01\", \"01\", \"01\", \"01\", \"01\", \"~\n",
      "$ CMUN     \u001b[3m\u001b[90m<chr>\u001b[39m\u001b[23m \"001\", \"001\", \"002\", \"002\", \"002\", \"002\", \"002\", \"002\", \"002\"~\n",
      "$ CPRO     \u001b[3m\u001b[90m<chr>\u001b[39m\u001b[23m \"01\", \"01\", \"01\", \"01\", \"01\", \"01\", \"01\", \"01\", \"01\", \"01\", \"~\n",
      "$ CCA      \u001b[3m\u001b[90m<chr>\u001b[39m\u001b[23m \"16\", \"16\", \"16\", \"16\", \"16\", \"16\", \"16\", \"16\", \"16\", \"16\", \"~\n",
      "$ CUDIS    \u001b[3m\u001b[90m<chr>\u001b[39m\u001b[23m \"0100101\", \"0100101\", \"0100201\", \"0100201\", \"0100201\", \"01002~\n",
      "$ CLAU2    \u001b[3m\u001b[90m<chr>\u001b[39m\u001b[23m \"01001\", \"01001\", \"01002\", \"01002\", \"01002\", \"01002\", \"01002\"~\n",
      "$ NPRO     \u001b[3m\u001b[90m<chr>\u001b[39m\u001b[23m \"Araba/<U+00C1>lava\", \"Araba/<U+00C1>lava\", \"Araba/<U+00C1>lava\", \"Araba/<U+00C1>lava\", \"~\n",
      "$ NCA      \u001b[3m\u001b[90m<chr>\u001b[39m\u001b[23m \"Pa<U+00ED>s Vasco\", \"Pa<U+00ED>s Vasco\", \"Pa<U+00ED>s Vasco\", \"Pa<U+00ED>s Vasco\", \"Pa<U+00ED>s~\n",
      "$ CNUT0    \u001b[3m\u001b[90m<chr>\u001b[39m\u001b[23m \"ES\", \"ES\", \"ES\", \"ES\", \"ES\", \"ES\", \"ES\", \"ES\", \"ES\", \"ES\", \"~\n",
      "$ CNUT1    \u001b[3m\u001b[90m<chr>\u001b[39m\u001b[23m \"2\", \"2\", \"2\", \"2\", \"2\", \"2\", \"2\", \"2\", \"2\", \"2\", \"2\", \"2\", \"~\n",
      "$ CNUT2    \u001b[3m\u001b[90m<chr>\u001b[39m\u001b[23m \"1\", \"1\", \"1\", \"1\", \"1\", \"1\", \"1\", \"1\", \"1\", \"1\", \"1\", \"1\", \"~\n",
      "$ CNUT3    \u001b[3m\u001b[90m<chr>\u001b[39m\u001b[23m \"1\", \"1\", \"1\", \"1\", \"1\", \"1\", \"1\", \"1\", \"1\", \"1\", \"1\", \"1\", \"~\n",
      "$ NMUN     \u001b[3m\u001b[90m<chr>\u001b[39m\u001b[23m \"Alegr<U+00ED>a-Dulantzi\", \"Alegr<U+00ED>a-Dulantzi\", \"Amurrio\", \"Amurrio\",~\n",
      "$ geometry \u001b[3m\u001b[90m<MULTIPOLYGON [m]>\u001b[39m\u001b[23m MULTIPOLYGON (((539753 4743..., MULTIPOLYGON (((~\n"
     ]
    }
   ],
   "source": [
    "glimpse(data)"
   ]
  },
  {
   "attachments": {},
   "cell_type": "markdown",
   "metadata": {},
   "source": [
    "Muestra de datos:"
   ]
  },
  {
   "cell_type": "code",
   "execution_count": 7,
   "metadata": {
    "vscode": {
     "languageId": "r"
    }
   },
   "outputs": [
    {
     "data": {
      "text/html": [
       "<table class=\"dataframe\">\n",
       "<caption>A data.frame: 5 × 17</caption>\n",
       "<thead>\n",
       "\t<tr><th scope=col>CUSEC</th><th scope=col>CUMUN</th><th scope=col>CSEC</th><th scope=col>CDIS</th><th scope=col>CMUN</th><th scope=col>CPRO</th><th scope=col>CCA</th><th scope=col>CUDIS</th><th scope=col>CLAU2</th><th scope=col>NPRO</th><th scope=col>NCA</th><th scope=col>CNUT0</th><th scope=col>CNUT1</th><th scope=col>CNUT2</th><th scope=col>CNUT3</th><th scope=col>NMUN</th><th scope=col>geometry</th></tr>\n",
       "\t<tr><th scope=col>&lt;chr&gt;</th><th scope=col>&lt;chr&gt;</th><th scope=col>&lt;chr&gt;</th><th scope=col>&lt;chr&gt;</th><th scope=col>&lt;chr&gt;</th><th scope=col>&lt;chr&gt;</th><th scope=col>&lt;chr&gt;</th><th scope=col>&lt;chr&gt;</th><th scope=col>&lt;chr&gt;</th><th scope=col>&lt;chr&gt;</th><th scope=col>&lt;chr&gt;</th><th scope=col>&lt;chr&gt;</th><th scope=col>&lt;chr&gt;</th><th scope=col>&lt;chr&gt;</th><th scope=col>&lt;chr&gt;</th><th scope=col>&lt;chr&gt;</th><th scope=col>&lt;MULTIPOLYGON [m]&gt;</th></tr>\n",
       "</thead>\n",
       "<tbody>\n",
       "\t<tr><td>0100101001</td><td>01001</td><td>001</td><td>01</td><td>001</td><td>01</td><td>16</td><td>0100101</td><td>01001</td><td>Araba/&lt;U+00C1&gt;lava</td><td>Pa&lt;U+00ED&gt;s Vasco</td><td>ES</td><td>2</td><td>1</td><td>1</td><td>Alegr&lt;U+00ED&gt;a-Dulantzi</td><td>MULTIPOLYGON (((539753 4743...</td></tr>\n",
       "\t<tr><td>0100101002</td><td>01001</td><td>002</td><td>01</td><td>001</td><td>01</td><td>16</td><td>0100101</td><td>01001</td><td>Araba/&lt;U+00C1&gt;lava</td><td>Pa&lt;U+00ED&gt;s Vasco</td><td>ES</td><td>2</td><td>1</td><td>1</td><td>Alegr&lt;U+00ED&gt;a-Dulantzi</td><td>MULTIPOLYGON (((539559.7 47...</td></tr>\n",
       "\t<tr><td>0100201001</td><td>01002</td><td>001</td><td>01</td><td>002</td><td>01</td><td>16</td><td>0100201</td><td>01002</td><td>Araba/&lt;U+00C1&gt;lava</td><td>Pa&lt;U+00ED&gt;s Vasco</td><td>ES</td><td>2</td><td>1</td><td>1</td><td><span style=white-space:pre-wrap>Amurrio                </span></td><td>MULTIPOLYGON (((503618.6 47...</td></tr>\n",
       "\t<tr><td>0100201002</td><td>01002</td><td>002</td><td>01</td><td>002</td><td>01</td><td>16</td><td>0100201</td><td>01002</td><td>Araba/&lt;U+00C1&gt;lava</td><td>Pa&lt;U+00ED&gt;s Vasco</td><td>ES</td><td>2</td><td>1</td><td>1</td><td><span style=white-space:pre-wrap>Amurrio                </span></td><td>MULTIPOLYGON (((505948.3 47...</td></tr>\n",
       "\t<tr><td>0100201003</td><td>01002</td><td>003</td><td>01</td><td>002</td><td>01</td><td>16</td><td>0100201</td><td>01002</td><td>Araba/&lt;U+00C1&gt;lava</td><td>Pa&lt;U+00ED&gt;s Vasco</td><td>ES</td><td>2</td><td>1</td><td>1</td><td><span style=white-space:pre-wrap>Amurrio                </span></td><td>MULTIPOLYGON (((499919.5 47...</td></tr>\n",
       "</tbody>\n",
       "</table>\n"
      ],
      "text/latex": [
       "A data.frame: 5 × 17\n",
       "\\begin{tabular}{lllllllllllllllll}\n",
       " CUSEC & CUMUN & CSEC & CDIS & CMUN & CPRO & CCA & CUDIS & CLAU2 & NPRO & NCA & CNUT0 & CNUT1 & CNUT2 & CNUT3 & NMUN & geometry\\\\\n",
       " <chr> & <chr> & <chr> & <chr> & <chr> & <chr> & <chr> & <chr> & <chr> & <chr> & <chr> & <chr> & <chr> & <chr> & <chr> & <chr> & <MULTIPOLYGON {[}m{]}>\\\\\n",
       "\\hline\n",
       "\t 0100101001 & 01001 & 001 & 01 & 001 & 01 & 16 & 0100101 & 01001 & Araba/<U+00C1>lava & Pa<U+00ED>s Vasco & ES & 2 & 1 & 1 & Alegr<U+00ED>a-Dulantzi & MULTIPOLYGON (((539753 4743...\\\\\n",
       "\t 0100101002 & 01001 & 002 & 01 & 001 & 01 & 16 & 0100101 & 01001 & Araba/<U+00C1>lava & Pa<U+00ED>s Vasco & ES & 2 & 1 & 1 & Alegr<U+00ED>a-Dulantzi & MULTIPOLYGON (((539559.7 47...\\\\\n",
       "\t 0100201001 & 01002 & 001 & 01 & 002 & 01 & 16 & 0100201 & 01002 & Araba/<U+00C1>lava & Pa<U+00ED>s Vasco & ES & 2 & 1 & 1 & Amurrio                 & MULTIPOLYGON (((503618.6 47...\\\\\n",
       "\t 0100201002 & 01002 & 002 & 01 & 002 & 01 & 16 & 0100201 & 01002 & Araba/<U+00C1>lava & Pa<U+00ED>s Vasco & ES & 2 & 1 & 1 & Amurrio                 & MULTIPOLYGON (((505948.3 47...\\\\\n",
       "\t 0100201003 & 01002 & 003 & 01 & 002 & 01 & 16 & 0100201 & 01002 & Araba/<U+00C1>lava & Pa<U+00ED>s Vasco & ES & 2 & 1 & 1 & Amurrio                 & MULTIPOLYGON (((499919.5 47...\\\\\n",
       "\\end{tabular}\n"
      ],
      "text/markdown": [
       "\n",
       "A data.frame: 5 × 17\n",
       "\n",
       "| CUSEC &lt;chr&gt; | CUMUN &lt;chr&gt; | CSEC &lt;chr&gt; | CDIS &lt;chr&gt; | CMUN &lt;chr&gt; | CPRO &lt;chr&gt; | CCA &lt;chr&gt; | CUDIS &lt;chr&gt; | CLAU2 &lt;chr&gt; | NPRO &lt;chr&gt; | NCA &lt;chr&gt; | CNUT0 &lt;chr&gt; | CNUT1 &lt;chr&gt; | CNUT2 &lt;chr&gt; | CNUT3 &lt;chr&gt; | NMUN &lt;chr&gt; | geometry &lt;MULTIPOLYGON [m]&gt; |\n",
       "|---|---|---|---|---|---|---|---|---|---|---|---|---|---|---|---|---|\n",
       "| 0100101001 | 01001 | 001 | 01 | 001 | 01 | 16 | 0100101 | 01001 | Araba/&lt;U+00C1&gt;lava | Pa&lt;U+00ED&gt;s Vasco | ES | 2 | 1 | 1 | Alegr&lt;U+00ED&gt;a-Dulantzi | MULTIPOLYGON (((539753 4743... |\n",
       "| 0100101002 | 01001 | 002 | 01 | 001 | 01 | 16 | 0100101 | 01001 | Araba/&lt;U+00C1&gt;lava | Pa&lt;U+00ED&gt;s Vasco | ES | 2 | 1 | 1 | Alegr&lt;U+00ED&gt;a-Dulantzi | MULTIPOLYGON (((539559.7 47... |\n",
       "| 0100201001 | 01002 | 001 | 01 | 002 | 01 | 16 | 0100201 | 01002 | Araba/&lt;U+00C1&gt;lava | Pa&lt;U+00ED&gt;s Vasco | ES | 2 | 1 | 1 | Amurrio                 | MULTIPOLYGON (((503618.6 47... |\n",
       "| 0100201002 | 01002 | 002 | 01 | 002 | 01 | 16 | 0100201 | 01002 | Araba/&lt;U+00C1&gt;lava | Pa&lt;U+00ED&gt;s Vasco | ES | 2 | 1 | 1 | Amurrio                 | MULTIPOLYGON (((505948.3 47... |\n",
       "| 0100201003 | 01002 | 003 | 01 | 002 | 01 | 16 | 0100201 | 01002 | Araba/&lt;U+00C1&gt;lava | Pa&lt;U+00ED&gt;s Vasco | ES | 2 | 1 | 1 | Amurrio                 | MULTIPOLYGON (((499919.5 47... |\n",
       "\n"
      ],
      "text/plain": [
       "  CUSEC      CUMUN CSEC CDIS CMUN CPRO CCA CUDIS   CLAU2 NPRO              \n",
       "1 0100101001 01001 001  01   001  01   16  0100101 01001 Araba/<U+00C1>lava\n",
       "2 0100101002 01001 002  01   001  01   16  0100101 01001 Araba/<U+00C1>lava\n",
       "3 0100201001 01002 001  01   002  01   16  0100201 01002 Araba/<U+00C1>lava\n",
       "4 0100201002 01002 002  01   002  01   16  0100201 01002 Araba/<U+00C1>lava\n",
       "5 0100201003 01002 003  01   002  01   16  0100201 01002 Araba/<U+00C1>lava\n",
       "  NCA               CNUT0 CNUT1 CNUT2 CNUT3 NMUN                   \n",
       "1 Pa<U+00ED>s Vasco ES    2     1     1     Alegr<U+00ED>a-Dulantzi\n",
       "2 Pa<U+00ED>s Vasco ES    2     1     1     Alegr<U+00ED>a-Dulantzi\n",
       "3 Pa<U+00ED>s Vasco ES    2     1     1     Amurrio                \n",
       "4 Pa<U+00ED>s Vasco ES    2     1     1     Amurrio                \n",
       "5 Pa<U+00ED>s Vasco ES    2     1     1     Amurrio                \n",
       "  geometry                      \n",
       "1 MULTIPOLYGON (((539753 4743...\n",
       "2 MULTIPOLYGON (((539559.7 47...\n",
       "3 MULTIPOLYGON (((503618.6 47...\n",
       "4 MULTIPOLYGON (((505948.3 47...\n",
       "5 MULTIPOLYGON (((499919.5 47..."
      ]
     },
     "metadata": {},
     "output_type": "display_data"
    }
   ],
   "source": [
    "slice_head(data.frame(data), n = 5)"
   ]
  },
  {
   "cell_type": "markdown",
   "metadata": {
    "slideshow": {
     "slide_type": "slide"
    }
   },
   "source": [
    "## ETL Processes"
   ]
  },
  {
   "attachments": {},
   "cell_type": "markdown",
   "metadata": {
    "slideshow": {
     "slide_type": "slide"
    }
   },
   "source": [
    "### Import data from: CSV, Excel, Tab, JSON, SQL, and Parquet files\n",
    "\n",
    "Se han importado en el apartado Data Load anterior:\n",
    "\n",
    "* Geometrías de secciones censales del INE"
   ]
  },
  {
   "attachments": {},
   "cell_type": "markdown",
   "metadata": {},
   "source": [
    "Incluir apartados si procede para: Extracción de datos (select, filter), Transformación de datos, (mutate, joins, ...). Si es necesario tratar datos perdidos, indicarlo también en NB 09.2"
   ]
  },
  {
   "attachments": {},
   "cell_type": "markdown",
   "metadata": {},
   "source": [
    "#### Extracción de datos\n",
    "\n",
    "* Filtrar solo comunidad de Madrid"
   ]
  },
  {
   "cell_type": "code",
   "execution_count": 8,
   "metadata": {
    "vscode": {
     "languageId": "r"
    }
   },
   "outputs": [],
   "source": [
    "tdata <- data |> \n",
    "    filter(CPRO == \"28\")"
   ]
  },
  {
   "attachments": {},
   "cell_type": "markdown",
   "metadata": {},
   "source": [
    "#### Transformación de datos\n",
    "\n",
    "* Transformar sistema de referencia CRS a 4326 (WGS 84)\n",
    "* Agrupar datos por distrito\n",
    "* Unir geometrías"
   ]
  },
  {
   "cell_type": "code",
   "execution_count": 9,
   "metadata": {
    "vscode": {
     "languageId": "r"
    }
   },
   "outputs": [
    {
     "name": "stderr",
     "output_type": "stream",
     "text": [
      "\u001b[1m\u001b[22m`summarise()` has grouped output by 'CMUN', 'CDIS'. You can override using the\n",
      "`.groups` argument.\n"
     ]
    }
   ],
   "source": [
    "tdata <- tdata |>\n",
    "    st_transform(4258) |> \n",
    "    group_by(CMUN, CDIS) |> \n",
    "    summarise(geometry = st_union(geometry)) "
   ]
  },
  {
   "attachments": {},
   "cell_type": "markdown",
   "metadata": {},
   "source": [
    "Muestra de primeros datos:"
   ]
  },
  {
   "cell_type": "code",
   "execution_count": 10,
   "metadata": {
    "vscode": {
     "languageId": "r"
    }
   },
   "outputs": [
    {
     "data": {
      "text/html": [
       "<table class=\"dataframe\">\n",
       "<caption>A tibble: 5 × 3</caption>\n",
       "<thead>\n",
       "\t<tr><th scope=col>CMUN</th><th scope=col>CDIS</th><th scope=col>geometry</th></tr>\n",
       "\t<tr><th scope=col>&lt;chr&gt;</th><th scope=col>&lt;chr&gt;</th><th scope=col>&lt;POLYGON [arc_degree]&gt;</th></tr>\n",
       "</thead>\n",
       "<tbody>\n",
       "\t<tr><td>001</td><td>01</td><td>POLYGON ((-3.64502 41.12129...</td></tr>\n",
       "\t<tr><td>002</td><td>01</td><td>POLYGON ((-3.503032 40.526,...</td></tr>\n",
       "\t<tr><td>003</td><td>01</td><td>POLYGON ((-3.808664 40.8921...</td></tr>\n",
       "\t<tr><td>004</td><td>01</td><td>POLYGON ((-4.00197 40.25642...</td></tr>\n",
       "\t<tr><td>005</td><td>01</td><td>POLYGON ((-3.361691 40.4762...</td></tr>\n",
       "</tbody>\n",
       "</table>\n"
      ],
      "text/latex": [
       "A tibble: 5 × 3\n",
       "\\begin{tabular}{lll}\n",
       " CMUN & CDIS & geometry\\\\\n",
       " <chr> & <chr> & <POLYGON {[}arc\\_degree{]}>\\\\\n",
       "\\hline\n",
       "\t 001 & 01 & POLYGON ((-3.64502 41.12129...\\\\\n",
       "\t 002 & 01 & POLYGON ((-3.503032 40.526,...\\\\\n",
       "\t 003 & 01 & POLYGON ((-3.808664 40.8921...\\\\\n",
       "\t 004 & 01 & POLYGON ((-4.00197 40.25642...\\\\\n",
       "\t 005 & 01 & POLYGON ((-3.361691 40.4762...\\\\\n",
       "\\end{tabular}\n"
      ],
      "text/markdown": [
       "\n",
       "A tibble: 5 × 3\n",
       "\n",
       "| CMUN &lt;chr&gt; | CDIS &lt;chr&gt; | geometry &lt;POLYGON [arc_degree]&gt; |\n",
       "|---|---|---|\n",
       "| 001 | 01 | POLYGON ((-3.64502 41.12129... |\n",
       "| 002 | 01 | POLYGON ((-3.503032 40.526,... |\n",
       "| 003 | 01 | POLYGON ((-3.808664 40.8921... |\n",
       "| 004 | 01 | POLYGON ((-4.00197 40.25642... |\n",
       "| 005 | 01 | POLYGON ((-3.361691 40.4762... |\n",
       "\n"
      ],
      "text/plain": [
       "  CMUN CDIS geometry                      \n",
       "1 001  01   POLYGON ((-3.64502 41.12129...\n",
       "2 002  01   POLYGON ((-3.503032 40.526,...\n",
       "3 003  01   POLYGON ((-3.808664 40.8921...\n",
       "4 004  01   POLYGON ((-4.00197 40.25642...\n",
       "5 005  01   POLYGON ((-3.361691 40.4762..."
      ]
     },
     "metadata": {},
     "output_type": "display_data"
    }
   ],
   "source": [
    "tdata |> tibble() |> slice_head(n = 5)"
   ]
  },
  {
   "cell_type": "markdown",
   "metadata": {
    "slideshow": {
     "slide_type": "slide"
    }
   },
   "source": [
    "## Synthetic Data Generation"
   ]
  },
  {
   "attachments": {},
   "cell_type": "markdown",
   "metadata": {},
   "source": [
    "Si no aplica: Estos datos no requieren tareas de este tipo."
   ]
  },
  {
   "cell_type": "markdown",
   "metadata": {
    "slideshow": {
     "slide_type": "slide"
    }
   },
   "source": [
    "## Fake Data Generation"
   ]
  },
  {
   "attachments": {},
   "cell_type": "markdown",
   "metadata": {},
   "source": [
    "Si no aplica: Estos datos no requieren tareas de este tipo."
   ]
  },
  {
   "cell_type": "markdown",
   "metadata": {
    "slideshow": {
     "slide_type": "slide"
    }
   },
   "source": [
    "## Open Data"
   ]
  },
  {
   "attachments": {},
   "cell_type": "markdown",
   "metadata": {
    "slideshow": {
     "slide_type": "slide"
    }
   },
   "source": [
    "Los archivos shp se descargaron de la fuente abierta como ficheros comprimidos .zip que se descomprimieron para tener la estructura de carpetas necesaria"
   ]
  },
  {
   "cell_type": "markdown",
   "metadata": {},
   "source": [
    "## <font color='green'>Data Save</font>"
   ]
  },
  {
   "attachments": {},
   "cell_type": "markdown",
   "metadata": {},
   "source": [
    "Este proceso, puede copiarse y repetirse en aquellas partes del notebbok que necesiten guardar datos.\n",
    "Recuerde cambiar las cadenas añadida del fichero para diferenciarlas"
   ]
  },
  {
   "cell_type": "markdown",
   "metadata": {},
   "source": [
    "<font color='tomato'> Identificamos los datos a guardar</font>"
   ]
  },
  {
   "cell_type": "code",
   "execution_count": 11,
   "metadata": {
    "ExecuteTime": {
     "end_time": "2020-12-25T17:59:27.022001Z",
     "start_time": "2020-12-25T17:59:15.986986Z"
    },
    "scrolled": false,
    "vscode": {
     "languageId": "r"
    }
   },
   "outputs": [],
   "source": [
    "data_to_save <- tdata"
   ]
  },
  {
   "attachments": {},
   "cell_type": "markdown",
   "metadata": {},
   "source": [
    "\n",
    "<font color='tomato'>Estructura de nombre de archivos:</font>\n",
    "\n",
    "* Código del caso de uso, por ejemplo \"CU_04\"\n",
    "* Número del proceso que lo genera, por ejemplo \"_05\".\n",
    "* Número de la tarea que lo genera, por ejemplo \"_01\"\n",
    "* En caso de generarse varios ficheros en la misma tarea, llevarán _01 _02 ... después\n",
    "* Nombre: identificativo de \"properData\", por ejemplo \"_zonasgeo\"\n",
    "* Extensión del archivo\n",
    "\n",
    "Ejemplo: \"CU_04_05_01_01_zonasgeo.json, primer fichero que se genera en la tarea 01 del proceso 05 (Data Collection) para el caso de uso 04 (vacunas)\n",
    "\n",
    "Importante mantener los guiones bajos antes de proceso, tarea, archivo y nombre"
   ]
  },
  {
   "attachments": {},
   "cell_type": "markdown",
   "metadata": {},
   "source": [
    "### Proceso 05"
   ]
  },
  {
   "cell_type": "code",
   "execution_count": 12,
   "metadata": {
    "ExecuteTime": {
     "end_time": "2020-12-25T17:59:27.022001Z",
     "start_time": "2020-12-25T17:59:15.986986Z"
    },
    "scrolled": false,
    "vscode": {
     "languageId": "r"
    }
   },
   "outputs": [],
   "source": [
    "caso <- \"CU_18\"\n",
    "proceso <- '_05'\n",
    "tarea <- \"_03\"\n",
    "archivo <- \"\"\n",
    "proper <- \"_distritos_geo\"\n",
    "extension <- \".json\""
   ]
  },
  {
   "attachments": {},
   "cell_type": "markdown",
   "metadata": {},
   "source": [
    "<font color='tomato'><b> OPCION A:</b> Uso del paquete \"tcltk\" para mayor comodidad</font>\n",
    "\n",
    "* Buscar carpeta, escribir nombre de archivo SIN extensión (se especifica en el código)\n",
    "* Especificar sufijo2 si es necesario\n",
    "* Cambiar datos por datos_xx si es necesario"
   ]
  },
  {
   "cell_type": "code",
   "execution_count": 13,
   "metadata": {
    "ExecuteTime": {
     "end_time": "2020-12-25T17:59:27.022001Z",
     "start_time": "2020-12-25T17:59:15.986986Z"
    },
    "scrolled": false,
    "vscode": {
     "languageId": "r"
    }
   },
   "outputs": [],
   "source": [
    "# file_save <- paste0(caso, proceso, tarea, tcltk::tkgetSaveFile(), proper, extension) \n",
    "# path_out <- paste0(oPath, file_save)\n",
    "# write_csv(datos, path_out)\n",
    "\n",
    "# cat('File saved as: ')\n",
    "# path_out"
   ]
  },
  {
   "attachments": {},
   "cell_type": "markdown",
   "metadata": {},
   "source": [
    "<font color='tomato'><b> OPCION B:</b> Especificar el nombre de archivo</font>"
   ]
  },
  {
   "attachments": {},
   "cell_type": "markdown",
   "metadata": {},
   "source": [
    "- Los ficheros de salida del proceso van siempre a Data/Output/.  "
   ]
  },
  {
   "cell_type": "code",
   "execution_count": 14,
   "metadata": {
    "ExecuteTime": {
     "end_time": "2021-01-26T18:40:31.258294Z",
     "start_time": "2021-01-26T18:40:26.061847Z"
    },
    "slideshow": {
     "slide_type": "subslide"
    },
    "vscode": {
     "languageId": "r"
    }
   },
   "outputs": [
    {
     "name": "stdout",
     "output_type": "stream",
     "text": [
      "Deleting source `Data/Output/CU_18_05_03_distritos_geo.json' using driver `GeoJSON'\n",
      "Writing layer `CU_18_05_03_distritos_geo' to data source \n",
      "  `Data/Output/CU_18_05_03_distritos_geo.json' using driver `GeoJSON'\n",
      "Writing 247 features with 2 fields and geometry type Unknown (any).\n",
      "File saved as: "
     ]
    },
    {
     "data": {
      "text/html": [
       "'Data/Output/CU_18_05_03_distritos_geo.json'"
      ],
      "text/latex": [
       "'Data/Output/CU\\_18\\_05\\_03\\_distritos\\_geo.json'"
      ],
      "text/markdown": [
       "'Data/Output/CU_18_05_03_distritos_geo.json'"
      ],
      "text/plain": [
       "[1] \"Data/Output/CU_18_05_03_distritos_geo.json\""
      ]
     },
     "metadata": {},
     "output_type": "display_data"
    }
   ],
   "source": [
    "file_save <- paste0(caso, proceso, tarea, archivo, proper, extension) \n",
    "path_out <- paste0(oPath, file_save)\n",
    "st_write(obj = data_to_save, \n",
    "         dsn = path_out, \n",
    "         driver = \"GeoJSON\",\n",
    "         delete_dsn = TRUE)\n",
    "\n",
    "cat('File saved as: ')\n",
    "path_out"
   ]
  },
  {
   "attachments": {},
   "cell_type": "markdown",
   "metadata": {},
   "source": [
    "#### Copia del fichero a Input\n",
    "\n",
    "Si el archivo se va a usar en otros notebooks, copiar a la carpeta Input"
   ]
  },
  {
   "cell_type": "code",
   "execution_count": 15,
   "metadata": {
    "vscode": {
     "languageId": "r"
    }
   },
   "outputs": [
    {
     "data": {
      "text/html": [
       "TRUE"
      ],
      "text/latex": [
       "TRUE"
      ],
      "text/markdown": [
       "TRUE"
      ],
      "text/plain": [
       "[1] TRUE"
      ]
     },
     "metadata": {},
     "output_type": "display_data"
    }
   ],
   "source": [
    "path_in <- paste0(iPath, file_save)\n",
    "file.copy(path_out, path_in, overwrite = TRUE)"
   ]
  },
  {
   "cell_type": "markdown",
   "metadata": {},
   "source": [
    "## <font color=' #2874a6 '>Main Conclusions</font>"
   ]
  },
  {
   "cell_type": "markdown",
   "metadata": {
    "slideshow": {
     "slide_type": "slide"
    }
   },
   "source": [
    "<font color='steelblue'>List and describe the general conclusions of the analysis carried out​.</font>"
   ]
  },
  {
   "attachments": {},
   "cell_type": "markdown",
   "metadata": {},
   "source": [
    "### Prerequisites\n",
    "\n",
    "This working code needs the following conditions:\n",
    "\n",
    "* For using the interactive selection of file, the {tcltk} package must be installed. It is not needed in production.\n",
    "* The {sf} and {dplyr} packages must be installed. \n",
    "* The data paths `Data/Input` and `Data/Output` must exist (relative to the notebook path)"
   ]
  },
  {
   "attachments": {},
   "cell_type": "markdown",
   "metadata": {},
   "source": [
    "### Configuration Management\n",
    "\n",
    "This notebook has been tested with the following versions of R and packages. It cannot be assured that later versions work in the same way:\n",
    "* R 4.2.2\n",
    "* tcltk 4.2.2\n",
    "* dplyr 1.0.10\n",
    "* sf 1.0.9\n"
   ]
  },
  {
   "attachments": {},
   "cell_type": "markdown",
   "metadata": {},
   "source": [
    "### Data structures"
   ]
  },
  {
   "attachments": {},
   "cell_type": "markdown",
   "metadata": {},
   "source": [
    "#### Objeto `data`\n",
    "\n",
    "- Hay 247 filas correspondientes a los distritos de la comunidad de madrid, con la información:\n",
    "    * CMUN\n",
    "    * CDIS\n",
    "    * geometría\n"
   ]
  },
  {
   "cell_type": "code",
   "execution_count": 16,
   "metadata": {
    "vscode": {
     "languageId": "r"
    }
   },
   "outputs": [
    {
     "name": "stdout",
     "output_type": "stream",
     "text": [
      "Rows: 247\n",
      "Columns: 3\n",
      "Groups: CMUN, CDIS [246]\n",
      "$ CMUN     \u001b[3m\u001b[90m<chr>\u001b[39m\u001b[23m \"001\", \"002\", \"003\", \"004\", \"005\", \"005\", \"005\", \"005\", \"005\"~\n",
      "$ CDIS     \u001b[3m\u001b[90m<chr>\u001b[39m\u001b[23m \"01\", \"01\", \"01\", \"01\", \"01\", \"02\", \"03\", \"04\", \"05\", \"01\", \"~\n",
      "$ geometry \u001b[3m\u001b[90m<POLYGON [arc_degree]>\u001b[39m\u001b[23m POLYGON ((-3.64502 41.12129..., POLYGON ((-3~\n"
     ]
    }
   ],
   "source": [
    "glimpse(tdata)"
   ]
  },
  {
   "attachments": {},
   "cell_type": "markdown",
   "metadata": {},
   "source": [
    "#### Observaciones generales sobre los datos\n",
    "\n",
    "* Los datos están por sección censal, y se agrupan por distrito"
   ]
  },
  {
   "attachments": {},
   "cell_type": "markdown",
   "metadata": {},
   "source": [
    "### Consideraciones para despliegue en piloto\n",
    "\n",
    "* Los datos de origen fueron obtenidos de https://www.ine.es/ss/Satellite?L=es_ES&c=Page&cid=1259952026632&p=1259952026632&pagename=ProductosYServicios%2FPYSLayout en fichero zip con formato .shp y descomprimido en la carpeta Data/Input\n",
    "* Si la información geográfica cambia, se debería actualizar el fichero y volver a ejecutar todos los procesos.\n"
   ]
  },
  {
   "attachments": {},
   "cell_type": "markdown",
   "metadata": {},
   "source": [
    "### Consideraciones para despliegue en producción\n",
    "\n",
    "* Se deben crear los procesos ETL en producción necesarios para que los datos de entrada estén actualizados"
   ]
  },
  {
   "cell_type": "markdown",
   "metadata": {},
   "source": [
    "## <font color=' #2874a6 '>Main Actions</font>"
   ]
  },
  {
   "cell_type": "markdown",
   "metadata": {},
   "source": [
    "#### <font color=' #2874a6 '>Acciones done</font>"
   ]
  },
  {
   "cell_type": "markdown",
   "metadata": {
    "slideshow": {
     "slide_type": "slide"
    }
   },
   "source": [
    "<font color='steelblue'>Indicate the actions that have been carried out in this process</font>"
   ]
  },
  {
   "attachments": {},
   "cell_type": "markdown",
   "metadata": {},
   "source": [
    "- Se ha tenido que renombrar la carpeta descargada del INE de Espa§a_Seccionado2022_ETRS89H30 a Espana_Seccionado2022_ETRS89H30\n",
    "- Se ha transformado al sistema de referencia CRS a 4326 (WGS 84)\n",
    "- Se han agrupado datos por distrito\n",
    "- Se han unido geometrías\n"
   ]
  },
  {
   "cell_type": "markdown",
   "metadata": {},
   "source": [
    "#### <font color=' #2874a6 '>Acctions to perform</font>"
   ]
  },
  {
   "cell_type": "markdown",
   "metadata": {
    "slideshow": {
     "slide_type": "slide"
    }
   },
   "source": [
    "<font color='steelblue'>Indicate the actions that must be carried out in subsequent processes</font>"
   ]
  },
  {
   "attachments": {},
   "cell_type": "markdown",
   "metadata": {},
   "source": [
    "- Se deben asignar distritos censales a cada infraestructura"
   ]
  },
  {
   "attachments": {},
   "cell_type": "markdown",
   "metadata": {},
   "source": [
    "## <font color='RED'>CODE TO DEPLOY (PILOT)</font>\n",
    "\n",
    "A continuación se incluirá el código que deba ser llevado a despliegue para producción, dado que se entiende efectúa operaciones necesarias sobre los datos en la ejecución del prototipo"
   ]
  },
  {
   "attachments": {},
   "cell_type": "markdown",
   "metadata": {},
   "source": [
    "<font color=' red '><b>Description</b></font>\n",
    "\n",
    "- No hay nada que desplegar en el piloto, ya que estos datos son estáticos o en todo caso cambian con muy poca frecuencia, altamente improbable durante el proyecto.\n"
   ]
  },
  {
   "attachments": {},
   "cell_type": "markdown",
   "metadata": {},
   "source": [
    "<font color=' red '><b>CODE</b></font>"
   ]
  },
  {
   "cell_type": "code",
   "execution_count": 17,
   "metadata": {
    "vscode": {
     "languageId": "r"
    }
   },
   "outputs": [],
   "source": [
    "# incluir código"
   ]
  }
 ],
 "metadata": {
  "anaconda-cloud": {},
  "celltoolbar": "Slideshow",
  "hide_input": false,
  "kernelspec": {
   "display_name": "R",
   "language": "R",
   "name": "ir"
  },
  "language_info": {
   "codemirror_mode": "r",
   "file_extension": ".r",
   "mimetype": "text/x-r-source",
   "name": "R",
   "pygments_lexer": "r",
   "version": "4.2.2"
  },
  "latex_envs": {
   "LaTeX_envs_menu_present": true,
   "autoclose": false,
   "autocomplete": true,
   "bibliofile": "biblio.bib",
   "cite_by": "apalike",
   "current_citInitial": 1,
   "eqLabelWithNumbers": true,
   "eqNumInitial": 1,
   "hotkeys": {
    "equation": "Ctrl-E",
    "itemize": "Ctrl-I"
   },
   "labels_anchors": false,
   "latex_user_defs": false,
   "report_style_numbering": true,
   "user_envs_cfg": false
  },
  "toc": {
   "base_numbering": 1,
   "nav_menu": {
    "height": "11.6px",
    "width": "160px"
   },
   "number_sections": false,
   "sideBar": true,
   "skip_h1_title": true,
   "title_cell": "Table of Contents",
   "title_sidebar": "Contents",
   "toc_cell": true,
   "toc_position": {
    "height": "calc(100% - 180px)",
    "left": "10px",
    "top": "150px",
    "width": "209.2px"
   },
   "toc_section_display": true,
   "toc_window_display": true
  },
  "varInspector": {
   "cols": {
    "lenName": 16,
    "lenType": 16,
    "lenVar": 40
   },
   "kernels_config": {
    "python": {
     "delete_cmd_postfix": "",
     "delete_cmd_prefix": "del ",
     "library": "var_list.py",
     "varRefreshCmd": "print(var_dic_list())"
    },
    "r": {
     "delete_cmd_postfix": ") ",
     "delete_cmd_prefix": "rm(",
     "library": "var_list.r",
     "varRefreshCmd": "cat(var_dic_list()) "
    }
   },
   "types_to_exclude": [
    "module",
    "function",
    "builtin_function_or_method",
    "instance",
    "_Feature"
   ],
   "window_display": false
  }
 },
 "nbformat": 4,
 "nbformat_minor": 1
}
