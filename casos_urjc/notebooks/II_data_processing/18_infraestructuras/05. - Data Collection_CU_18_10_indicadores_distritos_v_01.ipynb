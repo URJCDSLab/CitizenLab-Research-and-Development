{
 "cells": [
  {
   "cell_type": "markdown",
   "metadata": {
    "slideshow": {
     "slide_type": "slide"
    }
   },
   "source": [
    "<img src=\".\\images\\Logo.png\" width=150 align=\"left\" /> <img src=\".\\images\\Logo2.jpg\" width=450 align=\"right\" />"
   ]
  },
  {
   "cell_type": "markdown",
   "metadata": {
    "slideshow": {
     "slide_type": "slide"
    }
   },
   "source": [
    "\n",
    "# <center><font color= #1e8449 > <b>CU18_Infraestructuras_eventos</font></center>"
   ]
  },
  {
   "cell_type": "markdown",
   "metadata": {
    "slideshow": {
     "slide_type": "slide"
    }
   },
   "source": [
    "<font color='steelblue'><b>Citizenlab Data Science Methodology > II - Data Processing Domain </font>\n",
    "***\n",
    "> # <font color='steelblue'> <b>05.- Data Collection</font>"
   ]
  },
  {
   "cell_type": "markdown",
   "metadata": {
    "slideshow": {
     "slide_type": "slide"
    }
   },
   "source": [
    "<font color='steelblue'>Data Collection is the process to obtain and generate (if required) necessary data to model the problem.</font>"
   ]
  },
  {
   "attachments": {},
   "cell_type": "markdown",
   "metadata": {},
   "source": [
    "### 10. Indicadores por distritos censales"
   ]
  },
  {
   "cell_type": "markdown",
   "metadata": {
    "toc": true
   },
   "source": [
    "<h1>Table of Contents<span class=\"tocSkip\"></span></h1>\n",
    "<div class=\"toc\"><ul class=\"toc-item\"><li><span><a href=\"#Settings\" data-toc-modified-id=\"Settings-1\"><font color=\"green\">Settings</font></a></span></li><li><span><a href=\"#Data-Load\" data-toc-modified-id=\"Data-Load-2\"><font color=\"green\">Data Load</font></a></span></li><li><span><a href=\"#ETL-Processes\" data-toc-modified-id=\"ETL-Processes-3\">ETL Processes</a></span><ul class=\"toc-item\"><li><span><a href=\"#Import-data-from:-CSV,-Excel,-Tab,-JSON,-SQL,-and-Parquet-files\" data-toc-modified-id=\"Import-data-from:-CSV,-Excel,-Tab,-JSON,-SQL,-and-Parquet-files-3.1\">Import data from: CSV, Excel, Tab, JSON, SQL, and Parquet files</a></span></li></ul></li><li><span><a href=\"#Synthetic-Data-Generation\" data-toc-modified-id=\"Synthetic-Data-Generation-4\">Synthetic Data Generation</a></span></li><li><span><a href=\"#Fake-Data-Generation\" data-toc-modified-id=\"Fake-Data-Generation-5\">Fake Data Generation</a></span></li><li><span><a href=\"#Open-Data\" data-toc-modified-id=\"Open-Data-6\">Open Data</a></span></li><li><span><a href=\"#Data-Save\" data-toc-modified-id=\"Data-Save-7\"><font color=\"green\">Data Save</font></a></span></li><li><span><a href=\"#Main-Conclusions\" data-toc-modified-id=\"Main-Conclusions-8\"><font color=\" #2874a6 \">Main Conclusions</font></a></span></li><li><span><a href=\"#Main-Actions\" data-toc-modified-id=\"Main-Actions-9\"><font color=\" #2874a6 \">Main Actions</font></a></span><ul class=\"toc-item\"><li><ul class=\"toc-item\"><li><span><a href=\"#Acciones-done\" data-toc-modified-id=\"Acciones-done-9.0.1\"><font color=\" #2874a6 \">Acciones done</font></a></span></li><li><span><a href=\"#Acctions-to-perform\" data-toc-modified-id=\"Acctions-to-perform-9.0.2\"><font color=\" #2874a6 \">Acctions to perform</font></a></span></li></ul></li></ul></li></ul></div>"
   ]
  },
  {
   "cell_type": "markdown",
   "metadata": {
    "slideshow": {
     "slide_type": "slide"
    }
   },
   "source": [
    "## <font color='green'>Settings</font>"
   ]
  },
  {
   "attachments": {},
   "cell_type": "markdown",
   "metadata": {},
   "source": [
    "### Packages to use\n",
    "\n",
    "- {readr} from _tidyverse_ for reading and writing csv files\n",
    "- {tcltk} for selecting files and paths (if needed)\n",
    "- {dplyr} for data exploration\n",
    "- {tidyr} for missing data imputation\n",
    "- {sf} for spatial objects and files"
   ]
  },
  {
   "cell_type": "code",
   "execution_count": 1,
   "metadata": {
    "ExecuteTime": {
     "end_time": "2021-12-03T15:23:33.762841Z",
     "start_time": "2021-12-03T15:23:08.580267Z"
    },
    "slideshow": {
     "slide_type": "subslide"
    },
    "vscode": {
     "languageId": "r"
    }
   },
   "outputs": [
    {
     "name": "stderr",
     "output_type": "stream",
     "text": [
      "\n",
      "Attaching package: 'dplyr'\n",
      "\n",
      "\n",
      "The following objects are masked from 'package:stats':\n",
      "\n",
      "    filter, lag\n",
      "\n",
      "\n",
      "The following objects are masked from 'package:base':\n",
      "\n",
      "    intersect, setdiff, setequal, union\n",
      "\n",
      "\n",
      "Linking to GEOS 3.10.2, GDAL 3.4.2, PROJ 8.2.1; sf_use_s2() is TRUE\n",
      "\n"
     ]
    }
   ],
   "source": [
    "library(readr)\n",
    "library(tcltk)\n",
    "library(dplyr)\n",
    "library(tidyr)\n",
    "library(sf)"
   ]
  },
  {
   "attachments": {},
   "cell_type": "markdown",
   "metadata": {},
   "source": [
    "### Paths"
   ]
  },
  {
   "cell_type": "code",
   "execution_count": 2,
   "metadata": {
    "vscode": {
     "languageId": "r"
    }
   },
   "outputs": [],
   "source": [
    "iPath <- \"Data/Input/\"\n",
    "oPath <- \"Data/Output/\""
   ]
  },
  {
   "attachments": {},
   "cell_type": "markdown",
   "metadata": {
    "slideshow": {
     "slide_type": "slide"
    }
   },
   "source": [
    "## <font color='green'>Data Load</font>\n",
    "\n",
    "If there are more than one input file, make as many sections as files to import."
   ]
  },
  {
   "attachments": {},
   "cell_type": "markdown",
   "metadata": {},
   "source": [
    "#### 1. Indicadores por sección censal"
   ]
  },
  {
   "attachments": {},
   "cell_type": "markdown",
   "metadata": {},
   "source": [
    "<font color='tomato'><b> OPCION A:</b> Seleccionar fichero en ventana para mayor comodidad</font> "
   ]
  },
  {
   "attachments": {},
   "cell_type": "markdown",
   "metadata": {},
   "source": [
    "Data load using the {tcltk} package. Ucomment the line if not using this option"
   ]
  },
  {
   "cell_type": "code",
   "execution_count": null,
   "metadata": {
    "vscode": {
     "languageId": "r"
    }
   },
   "outputs": [],
   "source": [
    "# file_data_01 <- tcltk::tk_choose.files(multi = FALSE)"
   ]
  },
  {
   "attachments": {},
   "cell_type": "markdown",
   "metadata": {},
   "source": [
    "<font color='tomato'><b> OPCION B:</b> Especificar el nombre de archivo</font>\n",
    "\n",
    "Instrucciones\n",
    "- Los ficheros de entrada del proceso están siempre en Data/Input/.   \n",
    "- Si hay más de un fichero de entrada, se crean tantos objetos iFile_xx y file_data_xx como ficheros de entrada (xx número correlativo con dos dígitos, rellenar con ceros a la izquierda)"
   ]
  },
  {
   "cell_type": "code",
   "execution_count": 3,
   "metadata": {
    "vscode": {
     "languageId": "r"
    }
   },
   "outputs": [
    {
     "name": "stdout",
     "output_type": "stream",
     "text": [
      "Se leer<U+00E1>n datos del archivo:  Data/Input/CU_04_05_03_01_indicadores_secciones.csv"
     ]
    }
   ],
   "source": [
    "iFile_01 <- \"CU_04_05_03_01_indicadores_secciones.csv\"\n",
    "file_data_01 <- paste0(iPath, iFile_01)\n",
    "\n",
    "if(file.exists(file_data_01)){\n",
    "    cat(\"Se leerán datos del archivo: \", file_data_01)\n",
    "} else{\n",
    "    warning(\"Cuidado: el archivo no existe.\")\n",
    "}\n"
   ]
  },
  {
   "attachments": {},
   "cell_type": "markdown",
   "metadata": {},
   "source": [
    "#### Data file to dataframe"
   ]
  },
  {
   "cell_type": "code",
   "execution_count": 4,
   "metadata": {
    "vscode": {
     "languageId": "r"
    }
   },
   "outputs": [
    {
     "name": "stderr",
     "output_type": "stream",
     "text": [
      "\u001b[1mRows: \u001b[22m\u001b[34m4417\u001b[39m \u001b[1mColumns: \u001b[22m\u001b[34m20\u001b[39m\n",
      "\u001b[36m--\u001b[39m \u001b[1mColumn specification\u001b[22m \u001b[36m--------------------------------------------------------\u001b[39m\n",
      "\u001b[1mDelimiter:\u001b[22m \",\"\n",
      "\u001b[31mchr\u001b[39m  (3): CMUN, dist, secc\n",
      "\u001b[32mdbl\u001b[39m (17): ccaa, CPRO, t1_1, t2_1, t2_2, t3_1, t4_1, t4_2, t4_3, t5_1, t6_1, ...\n",
      "\n",
      "\u001b[36mi\u001b[39m Use `spec()` to retrieve the full column specification for this data.\n",
      "\u001b[36mi\u001b[39m Specify the column types or set `show_col_types = FALSE` to quiet this message.\n"
     ]
    }
   ],
   "source": [
    "data_01 <- read_csv(file_data_01)"
   ]
  },
  {
   "attachments": {},
   "cell_type": "markdown",
   "metadata": {},
   "source": [
    "Estructura de los datos:"
   ]
  },
  {
   "cell_type": "code",
   "execution_count": 5,
   "metadata": {
    "vscode": {
     "languageId": "r"
    }
   },
   "outputs": [
    {
     "name": "stdout",
     "output_type": "stream",
     "text": [
      "Rows: 4,417\n",
      "Columns: 20\n",
      "$ ccaa  \u001b[3m\u001b[90m<dbl>\u001b[39m\u001b[23m 13, 13, 13, 13, 13, 13, 13, 13, 13, 13, 13, 13, 13, 13, 13, 13, ~\n",
      "$ CPRO  \u001b[3m\u001b[90m<dbl>\u001b[39m\u001b[23m 28, 28, 28, 28, 28, 28, 28, 28, 28, 28, 28, 28, 28, 28, 28, 28, ~\n",
      "$ CMUN  \u001b[3m\u001b[90m<chr>\u001b[39m\u001b[23m \"001\", \"002\", \"002\", \"003\", \"004\", \"004\", \"004\", \"004\", \"005\", \"~\n",
      "$ dist  \u001b[3m\u001b[90m<chr>\u001b[39m\u001b[23m \"01\", \"01\", \"01\", \"01\", \"01\", \"01\", \"01\", \"01\", \"01\", \"01\", \"01\"~\n",
      "$ secc  \u001b[3m\u001b[90m<chr>\u001b[39m\u001b[23m \"001\", \"001\", \"002\", \"001\", \"001\", \"002\", \"003\", \"004\", \"001\", \"~\n",
      "$ t1_1  \u001b[3m\u001b[90m<dbl>\u001b[39m\u001b[23m 55, 2358, 2435, 248, 2886, 3376, 2161, 1523, 1648, 1015, 1728, 1~\n",
      "$ t2_1  \u001b[3m\u001b[90m<dbl>\u001b[39m\u001b[23m NA, 0.4724, 0.4830, 0.3952, 0.5135, 0.4793, 0.5016, 0.5279, 0.54~\n",
      "$ t2_2  \u001b[3m\u001b[90m<dbl>\u001b[39m\u001b[23m NA, 0.5276, 0.5170, 0.6048, 0.4865, 0.5207, 0.4984, 0.4721, 0.45~\n",
      "$ t3_1  \u001b[3m\u001b[90m<dbl>\u001b[39m\u001b[23m NA, 40.5161, 38.3339, 47.4597, 44.4099, 40.6810, 38.0088, 42.537~\n",
      "$ t4_1  \u001b[3m\u001b[90m<dbl>\u001b[39m\u001b[23m NA, 0.1425, 0.1959, 0.1371, 0.1611, 0.1739, 0.2230, 0.1753, 0.11~\n",
      "$ t4_2  \u001b[3m\u001b[90m<dbl>\u001b[39m\u001b[23m NA, 0.7443, 0.7002, 0.6573, 0.6067, 0.6727, 0.6395, 0.6448, 0.69~\n",
      "$ t4_3  \u001b[3m\u001b[90m<dbl>\u001b[39m\u001b[23m NA, 0.1132, 0.1039, 0.2056, 0.2322, 0.1534, 0.1374, 0.1799, 0.18~\n",
      "$ t5_1  \u001b[3m\u001b[90m<dbl>\u001b[39m\u001b[23m NA, 0.1569, 0.1544, 0.1129, 0.1639, 0.1440, 0.1749, 0.1326, 0.16~\n",
      "$ t6_1  \u001b[3m\u001b[90m<dbl>\u001b[39m\u001b[23m NA, 0.1968, 0.1951, 0.1411, 0.2128, 0.1730, 0.2138, 0.1589, 0.22~\n",
      "$ t7_1  \u001b[3m\u001b[90m<dbl>\u001b[39m\u001b[23m NA, 0.4016, 0.4244, 0.1542, 0.1470, 0.1596, 0.1668, 0.1584, 0.09~\n",
      "$ t8_1  \u001b[3m\u001b[90m<dbl>\u001b[39m\u001b[23m NA, 0.3971, 0.4224, 0.1449, 0.1409, 0.1506, 0.1602, 0.1545, 0.09~\n",
      "$ t9_1  \u001b[3m\u001b[90m<dbl>\u001b[39m\u001b[23m NA, 0.4377, 0.4438, 0.5280, 0.2602, 0.3234, 0.2859, 0.3057, 0.51~\n",
      "$ t10_1 \u001b[3m\u001b[90m<dbl>\u001b[39m\u001b[23m NA, 0.0912, 0.1226, 0.0932, 0.1814, 0.1478, 0.1658, 0.1824, 0.10~\n",
      "$ t11_1 \u001b[3m\u001b[90m<dbl>\u001b[39m\u001b[23m NA, 0.6063, 0.5955, 0.5000, 0.4213, 0.5170, 0.4943, 0.4745, 0.52~\n",
      "$ t12_1 \u001b[3m\u001b[90m<dbl>\u001b[39m\u001b[23m NA, 0.6672, 0.6788, 0.5514, 0.5147, 0.6067, 0.5926, 0.5804, 0.58~\n"
     ]
    }
   ],
   "source": [
    "glimpse(data_01)"
   ]
  },
  {
   "attachments": {},
   "cell_type": "markdown",
   "metadata": {},
   "source": [
    "Muestra de primeros datos:"
   ]
  },
  {
   "cell_type": "code",
   "execution_count": 6,
   "metadata": {
    "vscode": {
     "languageId": "r"
    }
   },
   "outputs": [
    {
     "data": {
      "text/html": [
       "<table class=\"dataframe\">\n",
       "<caption>A spec_tbl_df: 5 x 20</caption>\n",
       "<thead>\n",
       "\t<tr><th scope=col>ccaa</th><th scope=col>CPRO</th><th scope=col>CMUN</th><th scope=col>dist</th><th scope=col>secc</th><th scope=col>t1_1</th><th scope=col>t2_1</th><th scope=col>t2_2</th><th scope=col>t3_1</th><th scope=col>t4_1</th><th scope=col>t4_2</th><th scope=col>t4_3</th><th scope=col>t5_1</th><th scope=col>t6_1</th><th scope=col>t7_1</th><th scope=col>t8_1</th><th scope=col>t9_1</th><th scope=col>t10_1</th><th scope=col>t11_1</th><th scope=col>t12_1</th></tr>\n",
       "\t<tr><th scope=col>&lt;dbl&gt;</th><th scope=col>&lt;dbl&gt;</th><th scope=col>&lt;chr&gt;</th><th scope=col>&lt;chr&gt;</th><th scope=col>&lt;chr&gt;</th><th scope=col>&lt;dbl&gt;</th><th scope=col>&lt;dbl&gt;</th><th scope=col>&lt;dbl&gt;</th><th scope=col>&lt;dbl&gt;</th><th scope=col>&lt;dbl&gt;</th><th scope=col>&lt;dbl&gt;</th><th scope=col>&lt;dbl&gt;</th><th scope=col>&lt;dbl&gt;</th><th scope=col>&lt;dbl&gt;</th><th scope=col>&lt;dbl&gt;</th><th scope=col>&lt;dbl&gt;</th><th scope=col>&lt;dbl&gt;</th><th scope=col>&lt;dbl&gt;</th><th scope=col>&lt;dbl&gt;</th><th scope=col>&lt;dbl&gt;</th></tr>\n",
       "</thead>\n",
       "<tbody>\n",
       "\t<tr><td>13</td><td>28</td><td>001</td><td>01</td><td>001</td><td>  55</td><td>    NA</td><td>    NA</td><td>     NA</td><td>    NA</td><td>    NA</td><td>    NA</td><td>    NA</td><td>    NA</td><td>    NA</td><td>    NA</td><td>    NA</td><td>    NA</td><td>    NA</td><td>    NA</td></tr>\n",
       "\t<tr><td>13</td><td>28</td><td>002</td><td>01</td><td>001</td><td>2358</td><td>0.4724</td><td>0.5276</td><td>40.5161</td><td>0.1425</td><td>0.7443</td><td>0.1132</td><td>0.1569</td><td>0.1968</td><td>0.4016</td><td>0.3971</td><td>0.4377</td><td>0.0912</td><td>0.6063</td><td>0.6672</td></tr>\n",
       "\t<tr><td>13</td><td>28</td><td>002</td><td>01</td><td>002</td><td>2435</td><td>0.4830</td><td>0.5170</td><td>38.3339</td><td>0.1959</td><td>0.7002</td><td>0.1039</td><td>0.1544</td><td>0.1951</td><td>0.4244</td><td>0.4224</td><td>0.4438</td><td>0.1226</td><td>0.5955</td><td>0.6788</td></tr>\n",
       "\t<tr><td>13</td><td>28</td><td>003</td><td>01</td><td>001</td><td> 248</td><td>0.3952</td><td>0.6048</td><td>47.4597</td><td>0.1371</td><td>0.6573</td><td>0.2056</td><td>0.1129</td><td>0.1411</td><td>0.1542</td><td>0.1449</td><td>0.5280</td><td>0.0932</td><td>0.5000</td><td>0.5514</td></tr>\n",
       "\t<tr><td>13</td><td>28</td><td>004</td><td>01</td><td>001</td><td>2886</td><td>0.5135</td><td>0.4865</td><td>44.4099</td><td>0.1611</td><td>0.6067</td><td>0.2322</td><td>0.1639</td><td>0.2128</td><td>0.1470</td><td>0.1409</td><td>0.2602</td><td>0.1814</td><td>0.4213</td><td>0.5147</td></tr>\n",
       "</tbody>\n",
       "</table>\n"
      ],
      "text/latex": [
       "A spec\\_tbl\\_df: 5 x 20\n",
       "\\begin{tabular}{llllllllllllllllllll}\n",
       " ccaa & CPRO & CMUN & dist & secc & t1\\_1 & t2\\_1 & t2\\_2 & t3\\_1 & t4\\_1 & t4\\_2 & t4\\_3 & t5\\_1 & t6\\_1 & t7\\_1 & t8\\_1 & t9\\_1 & t10\\_1 & t11\\_1 & t12\\_1\\\\\n",
       " <dbl> & <dbl> & <chr> & <chr> & <chr> & <dbl> & <dbl> & <dbl> & <dbl> & <dbl> & <dbl> & <dbl> & <dbl> & <dbl> & <dbl> & <dbl> & <dbl> & <dbl> & <dbl> & <dbl>\\\\\n",
       "\\hline\n",
       "\t 13 & 28 & 001 & 01 & 001 &   55 &     NA &     NA &      NA &     NA &     NA &     NA &     NA &     NA &     NA &     NA &     NA &     NA &     NA &     NA\\\\\n",
       "\t 13 & 28 & 002 & 01 & 001 & 2358 & 0.4724 & 0.5276 & 40.5161 & 0.1425 & 0.7443 & 0.1132 & 0.1569 & 0.1968 & 0.4016 & 0.3971 & 0.4377 & 0.0912 & 0.6063 & 0.6672\\\\\n",
       "\t 13 & 28 & 002 & 01 & 002 & 2435 & 0.4830 & 0.5170 & 38.3339 & 0.1959 & 0.7002 & 0.1039 & 0.1544 & 0.1951 & 0.4244 & 0.4224 & 0.4438 & 0.1226 & 0.5955 & 0.6788\\\\\n",
       "\t 13 & 28 & 003 & 01 & 001 &  248 & 0.3952 & 0.6048 & 47.4597 & 0.1371 & 0.6573 & 0.2056 & 0.1129 & 0.1411 & 0.1542 & 0.1449 & 0.5280 & 0.0932 & 0.5000 & 0.5514\\\\\n",
       "\t 13 & 28 & 004 & 01 & 001 & 2886 & 0.5135 & 0.4865 & 44.4099 & 0.1611 & 0.6067 & 0.2322 & 0.1639 & 0.2128 & 0.1470 & 0.1409 & 0.2602 & 0.1814 & 0.4213 & 0.5147\\\\\n",
       "\\end{tabular}\n"
      ],
      "text/markdown": [
       "\n",
       "A spec_tbl_df: 5 x 20\n",
       "\n",
       "| ccaa &lt;dbl&gt; | CPRO &lt;dbl&gt; | CMUN &lt;chr&gt; | dist &lt;chr&gt; | secc &lt;chr&gt; | t1_1 &lt;dbl&gt; | t2_1 &lt;dbl&gt; | t2_2 &lt;dbl&gt; | t3_1 &lt;dbl&gt; | t4_1 &lt;dbl&gt; | t4_2 &lt;dbl&gt; | t4_3 &lt;dbl&gt; | t5_1 &lt;dbl&gt; | t6_1 &lt;dbl&gt; | t7_1 &lt;dbl&gt; | t8_1 &lt;dbl&gt; | t9_1 &lt;dbl&gt; | t10_1 &lt;dbl&gt; | t11_1 &lt;dbl&gt; | t12_1 &lt;dbl&gt; |\n",
       "|---|---|---|---|---|---|---|---|---|---|---|---|---|---|---|---|---|---|---|---|\n",
       "| 13 | 28 | 001 | 01 | 001 |   55 |     NA |     NA |      NA |     NA |     NA |     NA |     NA |     NA |     NA |     NA |     NA |     NA |     NA |     NA |\n",
       "| 13 | 28 | 002 | 01 | 001 | 2358 | 0.4724 | 0.5276 | 40.5161 | 0.1425 | 0.7443 | 0.1132 | 0.1569 | 0.1968 | 0.4016 | 0.3971 | 0.4377 | 0.0912 | 0.6063 | 0.6672 |\n",
       "| 13 | 28 | 002 | 01 | 002 | 2435 | 0.4830 | 0.5170 | 38.3339 | 0.1959 | 0.7002 | 0.1039 | 0.1544 | 0.1951 | 0.4244 | 0.4224 | 0.4438 | 0.1226 | 0.5955 | 0.6788 |\n",
       "| 13 | 28 | 003 | 01 | 001 |  248 | 0.3952 | 0.6048 | 47.4597 | 0.1371 | 0.6573 | 0.2056 | 0.1129 | 0.1411 | 0.1542 | 0.1449 | 0.5280 | 0.0932 | 0.5000 | 0.5514 |\n",
       "| 13 | 28 | 004 | 01 | 001 | 2886 | 0.5135 | 0.4865 | 44.4099 | 0.1611 | 0.6067 | 0.2322 | 0.1639 | 0.2128 | 0.1470 | 0.1409 | 0.2602 | 0.1814 | 0.4213 | 0.5147 |\n",
       "\n"
      ],
      "text/plain": [
       "  ccaa CPRO CMUN dist secc t1_1 t2_1   t2_2   t3_1    t4_1   t4_2   t4_3  \n",
       "1 13   28   001  01   001    55     NA     NA      NA     NA     NA     NA\n",
       "2 13   28   002  01   001  2358 0.4724 0.5276 40.5161 0.1425 0.7443 0.1132\n",
       "3 13   28   002  01   002  2435 0.4830 0.5170 38.3339 0.1959 0.7002 0.1039\n",
       "4 13   28   003  01   001   248 0.3952 0.6048 47.4597 0.1371 0.6573 0.2056\n",
       "5 13   28   004  01   001  2886 0.5135 0.4865 44.4099 0.1611 0.6067 0.2322\n",
       "  t5_1   t6_1   t7_1   t8_1   t9_1   t10_1  t11_1  t12_1 \n",
       "1     NA     NA     NA     NA     NA     NA     NA     NA\n",
       "2 0.1569 0.1968 0.4016 0.3971 0.4377 0.0912 0.6063 0.6672\n",
       "3 0.1544 0.1951 0.4244 0.4224 0.4438 0.1226 0.5955 0.6788\n",
       "4 0.1129 0.1411 0.1542 0.1449 0.5280 0.0932 0.5000 0.5514\n",
       "5 0.1639 0.2128 0.1470 0.1409 0.2602 0.1814 0.4213 0.5147"
      ]
     },
     "metadata": {},
     "output_type": "display_data"
    }
   ],
   "source": [
    "slice_head(data_01, n = 5)"
   ]
  },
  {
   "attachments": {},
   "cell_type": "markdown",
   "metadata": {},
   "source": [
    "#### 2. Distritos para extraer el área"
   ]
  },
  {
   "attachments": {},
   "cell_type": "markdown",
   "metadata": {},
   "source": [
    "<font color='tomato'><b> OPCION A:</b> Seleccionar fichero en ventana para mayor comodidad</font> "
   ]
  },
  {
   "attachments": {},
   "cell_type": "markdown",
   "metadata": {},
   "source": [
    "Data load using the {tcltk} package. Uncomment if not using this option"
   ]
  },
  {
   "cell_type": "code",
   "execution_count": null,
   "metadata": {
    "vscode": {
     "languageId": "r"
    }
   },
   "outputs": [],
   "source": [
    "# file_data_02 <- tcltk::tk_choose.files(multi = FALSE)"
   ]
  },
  {
   "attachments": {},
   "cell_type": "markdown",
   "metadata": {},
   "source": [
    "<font color='tomato'><b> OPCION B:</b> Especificar el nombre de archivo</font>\n",
    "\n",
    "Instrucciones\n",
    "- Los ficheros de entrada del proceso están siempre en Data/Input/.   \n",
    "- Si hay más de un fichero de entrada, se crean tantos objetos iFile_xx y file_data_xx como ficheros de entrada (xx número correlativo con dos dígitos, rellenar con ceros a la izquierda)\n",
    "- Comentar si se usa la opción anterior"
   ]
  },
  {
   "cell_type": "code",
   "execution_count": 8,
   "metadata": {
    "vscode": {
     "languageId": "r"
    }
   },
   "outputs": [
    {
     "name": "stdout",
     "output_type": "stream",
     "text": [
      "Se leer<U+00E1>n datos del archivo:  Data/Input/CU_18_05_03_distritos_geo.json"
     ]
    }
   ],
   "source": [
    "iFile_02 <- \"CU_18_05_03_distritos_geo.json\"\n",
    "file_data_02 <- paste0(iPath, iFile_02)\n",
    "\n",
    "if(file.exists(file_data_02)){\n",
    "    cat(\"Se leerán datos del archivo: \", file_data_02)\n",
    "} else{\n",
    "    warning(\"Cuidado: el archivo no existe.\")\n",
    "}\n"
   ]
  },
  {
   "attachments": {},
   "cell_type": "markdown",
   "metadata": {},
   "source": [
    "Data file to dataframe:"
   ]
  },
  {
   "cell_type": "code",
   "execution_count": 10,
   "metadata": {
    "vscode": {
     "languageId": "r"
    }
   },
   "outputs": [
    {
     "name": "stdout",
     "output_type": "stream",
     "text": [
      "Reading layer `CU_18_05_03_distritos_geo' from data source \n",
      "  `/Users/emilio.lcano/academico/gh_repos/__transferencia/citizenlab/CitizenLab-Research-and-Development/casos_urjc/notebooks/II_data_processing/18_infraestructuras/Data/Input/CU_18_05_03_distritos_geo.json' \n",
      "  using driver `GeoJSON'\n",
      "Simple feature collection with 247 features and 2 fields\n",
      "Geometry type: GEOMETRY\n",
      "Dimension:     XY\n",
      "Bounding box:  xmin: -4.579006 ymin: 39.8848 xmax: -3.052983 ymax: 41.16584\n",
      "Geodetic CRS:  WGS 84\n"
     ]
    }
   ],
   "source": [
    "data_02 <- st_read(file_data_02)"
   ]
  },
  {
   "attachments": {},
   "cell_type": "markdown",
   "metadata": {},
   "source": [
    "Estructura de los datos:"
   ]
  },
  {
   "cell_type": "code",
   "execution_count": 11,
   "metadata": {
    "vscode": {
     "languageId": "r"
    }
   },
   "outputs": [
    {
     "name": "stdout",
     "output_type": "stream",
     "text": [
      "Rows: 247\n",
      "Columns: 3\n",
      "$ CMUN     \u001b[3m\u001b[90m<chr>\u001b[39m\u001b[23m \"001\", \"002\", \"003\", \"004\", \"005\", \"005\", \"005\", \"005\", \"005\"~\n",
      "$ CDIS     \u001b[3m\u001b[90m<chr>\u001b[39m\u001b[23m \"01\", \"01\", \"01\", \"01\", \"01\", \"02\", \"03\", \"04\", \"05\", \"01\", \"~\n",
      "$ geometry \u001b[3m\u001b[90m<POLYGON [arc_degree]>\u001b[39m\u001b[23m POLYGON ((-3.64502 41.12129..., POLYGON ((-3~\n"
     ]
    }
   ],
   "source": [
    "glimpse(data_02)\n"
   ]
  },
  {
   "attachments": {},
   "cell_type": "markdown",
   "metadata": {},
   "source": [
    "Muestra de datos"
   ]
  },
  {
   "cell_type": "code",
   "execution_count": 14,
   "metadata": {
    "vscode": {
     "languageId": "r"
    }
   },
   "outputs": [
    {
     "data": {
      "text/html": [
       "<table class=\"dataframe\">\n",
       "<caption>A tibble: 5 x 3</caption>\n",
       "<thead>\n",
       "\t<tr><th scope=col>CMUN</th><th scope=col>CDIS</th><th scope=col>geometry</th></tr>\n",
       "\t<tr><th scope=col>&lt;chr&gt;</th><th scope=col>&lt;chr&gt;</th><th scope=col>&lt;POLYGON [arc_degree]&gt;</th></tr>\n",
       "</thead>\n",
       "<tbody>\n",
       "\t<tr><td>001</td><td>01</td><td>POLYGON ((-3.64502 41.12129...</td></tr>\n",
       "\t<tr><td>002</td><td>01</td><td>POLYGON ((-3.503032 40.526,...</td></tr>\n",
       "\t<tr><td>003</td><td>01</td><td>POLYGON ((-3.808664 40.8921...</td></tr>\n",
       "\t<tr><td>004</td><td>01</td><td>POLYGON ((-4.00197 40.25642...</td></tr>\n",
       "\t<tr><td>005</td><td>01</td><td>POLYGON ((-3.361691 40.4762...</td></tr>\n",
       "</tbody>\n",
       "</table>\n"
      ],
      "text/latex": [
       "A tibble: 5 x 3\n",
       "\\begin{tabular}{lll}\n",
       " CMUN & CDIS & geometry\\\\\n",
       " <chr> & <chr> & <POLYGON {[}arc\\_degree{]}>\\\\\n",
       "\\hline\n",
       "\t 001 & 01 & POLYGON ((-3.64502 41.12129...\\\\\n",
       "\t 002 & 01 & POLYGON ((-3.503032 40.526,...\\\\\n",
       "\t 003 & 01 & POLYGON ((-3.808664 40.8921...\\\\\n",
       "\t 004 & 01 & POLYGON ((-4.00197 40.25642...\\\\\n",
       "\t 005 & 01 & POLYGON ((-3.361691 40.4762...\\\\\n",
       "\\end{tabular}\n"
      ],
      "text/markdown": [
       "\n",
       "A tibble: 5 x 3\n",
       "\n",
       "| CMUN &lt;chr&gt; | CDIS &lt;chr&gt; | geometry &lt;POLYGON [arc_degree]&gt; |\n",
       "|---|---|---|\n",
       "| 001 | 01 | POLYGON ((-3.64502 41.12129... |\n",
       "| 002 | 01 | POLYGON ((-3.503032 40.526,... |\n",
       "| 003 | 01 | POLYGON ((-3.808664 40.8921... |\n",
       "| 004 | 01 | POLYGON ((-4.00197 40.25642... |\n",
       "| 005 | 01 | POLYGON ((-3.361691 40.4762... |\n",
       "\n"
      ],
      "text/plain": [
       "  CMUN CDIS geometry                      \n",
       "1 001  01   POLYGON ((-3.64502 41.12129...\n",
       "2 002  01   POLYGON ((-3.503032 40.526,...\n",
       "3 003  01   POLYGON ((-3.808664 40.8921...\n",
       "4 004  01   POLYGON ((-4.00197 40.25642...\n",
       "5 005  01   POLYGON ((-3.361691 40.4762..."
      ]
     },
     "metadata": {},
     "output_type": "display_data"
    }
   ],
   "source": [
    "data_02 |> tibble() |> slice_head(n = 5)"
   ]
  },
  {
   "cell_type": "markdown",
   "metadata": {
    "slideshow": {
     "slide_type": "slide"
    }
   },
   "source": [
    "## ETL Processes"
   ]
  },
  {
   "attachments": {},
   "cell_type": "markdown",
   "metadata": {
    "slideshow": {
     "slide_type": "slide"
    }
   },
   "source": [
    "### Import data from: CSV, Excel, Tab, JSON, SQL, and Parquet files\n",
    "\n",
    "Se han importado en el apartado Data Load anterior:\n",
    "\n",
    "* Indicadores del INE por sección censal\n",
    "* Georreferenciaciónd de distritos"
   ]
  },
  {
   "attachments": {},
   "cell_type": "markdown",
   "metadata": {},
   "source": [
    "### Transform data\n",
    "\n",
    "Para asegurar la trazabilidad, guardar las transformaciones en un objeto diferente con el prefijo 't'."
   ]
  },
  {
   "attachments": {},
   "cell_type": "markdown",
   "metadata": {},
   "source": [
    "#### Calcular indicadores por distrito\n",
    "\n",
    "* Un distrito se corresponde con varias secciones censales\n",
    "* Para calcular los datos agregados, hay que transformar los porcentajes a números absolutos, sumar y después volver a calcular el porcentaje\n",
    "* Al agregar, si todos los datos son NA queda cero, y hay que volver a asignar NA"
   ]
  },
  {
   "cell_type": "code",
   "execution_count": null,
   "metadata": {
    "vscode": {
     "languageId": "r"
    }
   },
   "outputs": [],
   "source": [
    "tdata_01 <- data_01 |>\n",
    "  mutate(across(c(t2_1:t2_2, t4_1:t12_1), ~ .x*t1_1)) |> \n",
    "  group_by(CMUN, DIST) |> \n",
    "  summarise(nsec = n(),\n",
    "            t3_1 = weighted.mean(x = t3_1, w = t1_1, na.rm = TRUE),\n",
    "            t1_1 = sum(t1_1, na.rm = TRUE),\n",
    "            across(c(t2_1:t2_2, t4_1:t12_1), ~sum(.x, na.rm = TRUE)/sum(t1_1, na.rm = TRUE)),\n",
    "            .groups = \"keep\") |>\n",
    "  mutate(across(t3_1:t12_1, ~ if_else(.x == 0, NA_real_, .x))) |>\n",
    "  arrange(id_zona) |>\n",
    "  ungroup()\n",
    "data_04_zonas_ind |> slice_head(n = 10)\n"
   ]
  },
  {
   "attachments": {},
   "cell_type": "markdown",
   "metadata": {},
   "source": [
    "Comprobar que no se repiten zonas"
   ]
  },
  {
   "cell_type": "code",
   "execution_count": null,
   "metadata": {
    "vscode": {
     "languageId": "r"
    }
   },
   "outputs": [],
   "source": [
    "\n",
    "length(unique(data_04_zonas_ind$id_zona))\n",
    "nrow(data_04_zonas_ind)"
   ]
  },
  {
   "attachments": {},
   "cell_type": "markdown",
   "metadata": {},
   "source": [
    "Análisis de los valores perdidos"
   ]
  },
  {
   "cell_type": "code",
   "execution_count": null,
   "metadata": {
    "vscode": {
     "languageId": "r"
    }
   },
   "outputs": [],
   "source": [
    "data_02_zonasec |> filter(id_zona == \"123\")\n",
    "data_01_indicadores |> filter(CMUN == \"005\", dist == \"08\")"
   ]
  },
  {
   "attachments": {},
   "cell_type": "markdown",
   "metadata": {},
   "source": [
    "Hay distritos en la correspondencia de zonas de salud que no existen en los indicadores del INE. Algunos forman una zona completa, por lo que se quedará esa zona sin los indicadores."
   ]
  },
  {
   "attachments": {},
   "cell_type": "markdown",
   "metadata": {},
   "source": [
    "#### Asignación de la superficie a las zonas de salud y cálculo de densidad de población"
   ]
  },
  {
   "cell_type": "code",
   "execution_count": null,
   "metadata": {
    "vscode": {
     "languageId": "r"
    }
   },
   "outputs": [],
   "source": [
    "tdata_04_zonas_dens <- data_04_zonas_ind |>\n",
    "    inner_join(data_03_zonas |> select(GEOCODIGO, area), \n",
    "                by = c(\"id_zona\" = \"GEOCODIGO\")) |>\n",
    "    mutate(densidad_hab_km = t1_1/(area*10^(-6)))"
   ]
  },
  {
   "attachments": {},
   "cell_type": "markdown",
   "metadata": {},
   "source": [
    "Estructura de los datos:"
   ]
  },
  {
   "cell_type": "code",
   "execution_count": null,
   "metadata": {
    "vscode": {
     "languageId": "r"
    }
   },
   "outputs": [],
   "source": [
    "glimpse(tdata_04_zonas_dens)"
   ]
  },
  {
   "attachments": {},
   "cell_type": "markdown",
   "metadata": {},
   "source": [
    "Muestra primeros datos:"
   ]
  },
  {
   "cell_type": "code",
   "execution_count": null,
   "metadata": {
    "vscode": {
     "languageId": "r"
    }
   },
   "outputs": [],
   "source": [
    "tdata_04_zonas_dens |> \n",
    "    slice_head(n = 10)"
   ]
  },
  {
   "attachments": {},
   "cell_type": "markdown",
   "metadata": {},
   "source": [
    "Zonas \"sin población\""
   ]
  },
  {
   "cell_type": "code",
   "execution_count": null,
   "metadata": {
    "vscode": {
     "languageId": "r"
    }
   },
   "outputs": [],
   "source": [
    "tdata_04_zonas_dens |> \n",
    "    filter(is.na(t1_1))"
   ]
  },
  {
   "cell_type": "markdown",
   "metadata": {
    "slideshow": {
     "slide_type": "slide"
    }
   },
   "source": [
    "## Synthetic Data Generation"
   ]
  },
  {
   "attachments": {},
   "cell_type": "markdown",
   "metadata": {
    "slideshow": {
     "slide_type": "slide"
    }
   },
   "source": [
    "Estos datos no requieren tareas de este tipo."
   ]
  },
  {
   "cell_type": "markdown",
   "metadata": {
    "slideshow": {
     "slide_type": "slide"
    }
   },
   "source": [
    "## Fake Data Generation"
   ]
  },
  {
   "attachments": {},
   "cell_type": "markdown",
   "metadata": {
    "slideshow": {
     "slide_type": "slide"
    }
   },
   "source": [
    "Estos datos no requieren tareas de este tipo."
   ]
  },
  {
   "cell_type": "markdown",
   "metadata": {
    "slideshow": {
     "slide_type": "slide"
    }
   },
   "source": [
    "## Open Data"
   ]
  },
  {
   "attachments": {},
   "cell_type": "markdown",
   "metadata": {
    "slideshow": {
     "slide_type": "slide"
    }
   },
   "source": [
    "Estos datos no requieren tareas de este tipo."
   ]
  },
  {
   "cell_type": "markdown",
   "metadata": {},
   "source": [
    "## <font color='green'>Data Save</font>"
   ]
  },
  {
   "cell_type": "markdown",
   "metadata": {},
   "source": [
    "Este proceso, puede copiarse y repetirse en aquellas partes del notebbok que necesiten guardar datos.\n",
    "Recuerde cambiar la extensión añadida del fichero para diferenciarlas"
   ]
  },
  {
   "cell_type": "markdown",
   "metadata": {},
   "source": [
    "<font color='tomato'> Identificamos los datos a guardar</font>"
   ]
  },
  {
   "cell_type": "code",
   "execution_count": null,
   "metadata": {
    "ExecuteTime": {
     "end_time": "2020-12-25T17:59:27.022001Z",
     "start_time": "2020-12-25T17:59:15.986986Z"
    },
    "scrolled": false,
    "vscode": {
     "languageId": "r"
    }
   },
   "outputs": [],
   "source": [
    "data_to_save_01 <- tdata_01_indicadores_fill\n",
    "data_to_save_02 <- tdata_04_zonas_dens"
   ]
  },
  {
   "attachments": {},
   "cell_type": "markdown",
   "metadata": {},
   "source": [
    "\n",
    "<font color='tomato'>Estructura de nombre de archivos:</font>\n",
    "\n",
    "* Código del caso de uso, por ejemplo \"CU_04\"\n",
    "* Número del proceso que lo genera, por ejemplo \"_05\".\n",
    "* Número de la tarea que lo genera, por ejemplo \"_01\"\n",
    "* En caso de generarse varios ficheros en la misma tarea, llevarán _01 _02 ... después\n",
    "* Nombre: identificativo de \"properData\", por ejemplo \"_zonasgeo\"\n",
    "* Extensión del archivo\n",
    "\n",
    "Ejemplo: \"CU_04_05_01_01_zonasgeo.json, primer fichero que se genera en la tarea 01 del proceso 05 (Data Collection) para el caso de uso 04 (vacunas)\n",
    "\n",
    "Importante mantener los guiones bajos antes de proceso, tarea, archivo y nombre"
   ]
  },
  {
   "attachments": {},
   "cell_type": "markdown",
   "metadata": {},
   "source": [
    "### Proceso 05"
   ]
  },
  {
   "attachments": {},
   "cell_type": "markdown",
   "metadata": {},
   "source": [
    "Archivo de indicadores con la zona sanitaria asignada"
   ]
  },
  {
   "cell_type": "code",
   "execution_count": null,
   "metadata": {
    "ExecuteTime": {
     "end_time": "2020-12-25T17:59:27.022001Z",
     "start_time": "2020-12-25T17:59:15.986986Z"
    },
    "scrolled": false,
    "vscode": {
     "languageId": "r"
    }
   },
   "outputs": [],
   "source": [
    "caso <- \"CU_04\"\n",
    "proceso <- '_05'\n",
    "tarea <- \"_05\"\n",
    "archivo <- \"_01\"\n",
    "proper <- \"_indicadores_secciones\"\n",
    "extension <- \".csv\""
   ]
  },
  {
   "attachments": {},
   "cell_type": "markdown",
   "metadata": {},
   "source": [
    "<font color='tomato'><b> OPCION A:</b> Uso del paquete \"tcltk\" para mayor comodidad</font>\n",
    "\n",
    "* Buscar carpeta, escribir nombre de archivo SIN extensión (se especifica en el código)\n",
    "* Especificar sufijo2 si es necesario\n",
    "* Cambiar datos por datos_xx si es necesario"
   ]
  },
  {
   "cell_type": "code",
   "execution_count": null,
   "metadata": {
    "ExecuteTime": {
     "end_time": "2020-12-25T17:59:27.022001Z",
     "start_time": "2020-12-25T17:59:15.986986Z"
    },
    "scrolled": false,
    "vscode": {
     "languageId": "r"
    }
   },
   "outputs": [],
   "source": [
    "# file_save_01 <- paste0(caso, proceso, tarea, tcltk::tkgetSaveFile(), proper, extension) \n",
    "# path_out <- paste0(oPath, file_save_01)\n",
    "# write_csv(data_to_save_01, path_out)\n",
    "\n",
    "# cat('File saved as: ')\n",
    "# path_out"
   ]
  },
  {
   "attachments": {},
   "cell_type": "markdown",
   "metadata": {},
   "source": [
    "<font color='tomato'><b> OPCION B:</b> Especificar el nombre de archivo</font>"
   ]
  },
  {
   "attachments": {},
   "cell_type": "markdown",
   "metadata": {},
   "source": [
    "- Los ficheros de salida del proceso van siempre a Data/Output/.  "
   ]
  },
  {
   "cell_type": "code",
   "execution_count": null,
   "metadata": {
    "ExecuteTime": {
     "end_time": "2021-01-26T18:40:31.258294Z",
     "start_time": "2021-01-26T18:40:26.061847Z"
    },
    "slideshow": {
     "slide_type": "subslide"
    },
    "vscode": {
     "languageId": "r"
    }
   },
   "outputs": [],
   "source": [
    "file_save <- paste0(caso, proceso, tarea, archivo, proper, extension) \n",
    "path_out <- paste0(oPath, file_save)\n",
    "write_csv(data_to_save_01, path_out)\n",
    "\n",
    "cat('File saved as: ')\n",
    "path_out"
   ]
  },
  {
   "attachments": {},
   "cell_type": "markdown",
   "metadata": {},
   "source": [
    "Archivo de indicadores por zona sanitaria"
   ]
  },
  {
   "cell_type": "code",
   "execution_count": null,
   "metadata": {
    "vscode": {
     "languageId": "r"
    }
   },
   "outputs": [],
   "source": [
    "archivo <- \"_02\"\n",
    "proper <- \"_indicadores_zonas\"\n",
    "extension <- \".csv\""
   ]
  },
  {
   "attachments": {},
   "cell_type": "markdown",
   "metadata": {},
   "source": [
    "<font color='tomato'><b> OPCION A:</b> Uso del paquete \"tcltk\" para mayor comodidad</font>\n",
    "\n",
    "* Buscar carpeta, escribir nombre de archivo SIN extensión (se especifica en el código)\n",
    "* Especificar sufijo2 si es necesario\n",
    "* Cambiar datos por datos_xx si es necesario"
   ]
  },
  {
   "cell_type": "code",
   "execution_count": null,
   "metadata": {
    "vscode": {
     "languageId": "r"
    }
   },
   "outputs": [],
   "source": [
    "# file_save_02 <- paste0(caso, proceso, tarea, tcltk::tkgetSaveFile(), proper, extension) \n",
    "# path_out <- paste0(oPath, file_save_02)\n",
    "# write_csv(data_to_save_02, path_out)\n",
    "\n",
    "# cat('File saved as: ')\n",
    "# path_out"
   ]
  },
  {
   "attachments": {},
   "cell_type": "markdown",
   "metadata": {},
   "source": [
    "<font color='tomato'><b> OPCION B:</b> Especificar el nombre de archivo</font>"
   ]
  },
  {
   "cell_type": "code",
   "execution_count": null,
   "metadata": {
    "vscode": {
     "languageId": "r"
    }
   },
   "outputs": [],
   "source": [
    "file_save <- paste0(caso, proceso, tarea, archivo, proper, extension) \n",
    "path_out <- paste0(oPath, file_save)\n",
    "write_csv(data_to_save_02, path_out)\n",
    "\n",
    "cat('File saved as: ')\n",
    "path_out"
   ]
  },
  {
   "cell_type": "markdown",
   "metadata": {},
   "source": [
    "## <font color=' #2874a6 '>Main Conclusions</font>"
   ]
  },
  {
   "cell_type": "markdown",
   "metadata": {
    "slideshow": {
     "slide_type": "slide"
    }
   },
   "source": [
    "<font color='steelblue'>List and describe the general conclusions of the analysis carried out​.</font>"
   ]
  },
  {
   "attachments": {},
   "cell_type": "markdown",
   "metadata": {},
   "source": [
    "### Prerequisites\n",
    "\n",
    "This working code needs the following conditions:\n",
    "\n",
    "* For using the interactive selection of file, the {tcltk} package must be installed. It is not needed in production.\n",
    "* The {readr}, {tidyr} and {dplyr} packages must be installed. They is part of the _tidyverse_.\n",
    "* The data paths `Data/Input` and `Data/Output` must exist (relative to the notebook path)"
   ]
  },
  {
   "attachments": {},
   "cell_type": "markdown",
   "metadata": {},
   "source": [
    "### Configuration Management\n",
    "\n",
    "This notebook has been tested with the following versions of R and packages. It cannot be assured that later versions work in the same way:\n",
    "* R 4.2.2\n",
    "* tcltk 4.2.2\n",
    "* readr 2.1.3\n",
    "* dplyr 1.0.10\n",
    "* tidyr 1.2.1"
   ]
  },
  {
   "attachments": {},
   "cell_type": "markdown",
   "metadata": {},
   "source": [
    "### Data structures"
   ]
  },
  {
   "cell_type": "code",
   "execution_count": null,
   "metadata": {
    "vscode": {
     "languageId": "r"
    }
   },
   "outputs": [],
   "source": [
    "glimpse(tdata_04_zonas_ind)"
   ]
  },
  {
   "attachments": {},
   "cell_type": "markdown",
   "metadata": {},
   "source": [
    "#### Objeto `tdata_01_indicadores_fill` (indicadores por sección censal)\n",
    "\n",
    "* Los mismos datos de entrada a los que se le añade el código y nombre de zona básica de salud que le corresponde a la sección censal"
   ]
  },
  {
   "attachments": {},
   "cell_type": "markdown",
   "metadata": {},
   "source": [
    "#### Objeto `tdata_04_zonas_ind` (indicadores por zona básica de salud)\n",
    "\n",
    "* Indicadores de las 286 zonas básicas de salud\n",
    "* Número de secciones censales que la componen\n",
    "* Área en m^2 y Densidad de población de cada área en hab/km^2\n",
    "* Hay valores perdidos por haber secciones censales en el archivo de zonas que no existen en el archivo del INE"
   ]
  },
  {
   "attachments": {},
   "cell_type": "markdown",
   "metadata": {},
   "source": [
    "#### Observaciones generales sobre los datos\n",
    "\n",
    "* Una zona básica de saludo puede agrupar varios municipios, por lo que hay que decidir si agrupar por zona de salud o por zona de salud+municipio, optando por la primera\n",
    "* Hay 345 secciones censales en el fichero de indicadores del INE que no se corresponden con ninguna zona sanitaria de la Comunidad de Madrid\n",
    "* Hay 122 secciones censales en el fichero de zonas básicas de salud que no aparecen en el fichero de indicadores del INE\n",
    "* Como los indicadores están en porcentajes, para agrupar datos hay que transformar primero a valores absolutos y después volver a calcular el porcentaje\n",
    "* Los valores que se calculan como cero deben tratarse como NA\n",
    "* El código de municipio en la tabla de correspondencias no se ha correspondido con el código de municipio en los datos de geolocalización en algunas zonas"
   ]
  },
  {
   "attachments": {},
   "cell_type": "markdown",
   "metadata": {},
   "source": [
    "## Consideraciones para despliegue en piloto\n",
    "\n",
    "* Los datos del INE son posteriores a los datos de las zonas sanitarias, lo que puede afectar a los modelos"
   ]
  },
  {
   "attachments": {},
   "cell_type": "markdown",
   "metadata": {},
   "source": [
    "## Consideraciones para despliegue en producción\n",
    "\n",
    "* Se deben crear los procesos ETL en producción necesarios para que los datos de entrada estén actualizados y tengan su correspondencia en las dos fuentes (INE, CM)"
   ]
  },
  {
   "cell_type": "markdown",
   "metadata": {},
   "source": [
    "## <font color=' #2874a6 '>Main Actions</font>"
   ]
  },
  {
   "cell_type": "markdown",
   "metadata": {},
   "source": [
    "#### <font color=' #2874a6 '>Acciones done</font>"
   ]
  },
  {
   "cell_type": "markdown",
   "metadata": {
    "slideshow": {
     "slide_type": "slide"
    }
   },
   "source": [
    "<font color='steelblue'>Indicate the actions that have been carried out in this process</font>"
   ]
  },
  {
   "attachments": {},
   "cell_type": "markdown",
   "metadata": {},
   "source": [
    "- Se han unido las tablas de zonas sanitarias con secciones censales\n",
    "- Se han calculado los indicadores del INE por zona de salud\n",
    "- Se ha calculado la densidad de población de cada zona sanitaria\n",
    "- Se ha asignado la zona sanitaria inmediatamente anterior a las secciones censales que no tenían"
   ]
  },
  {
   "cell_type": "markdown",
   "metadata": {},
   "source": [
    "#### <font color=' #2874a6 '>Acctions to perform</font>"
   ]
  },
  {
   "cell_type": "markdown",
   "metadata": {
    "slideshow": {
     "slide_type": "slide"
    }
   },
   "source": [
    "<font color='steelblue'>Indicate the actions that must be carried out in subsequent processes</font>"
   ]
  },
  {
   "attachments": {},
   "cell_type": "markdown",
   "metadata": {},
   "source": [
    "- Se debe comprobar por qué hay secciones censales sin correspondencia con zona sanitaria.\n",
    "- Se debe comprobar por qué no coincide el código de municipio"
   ]
  },
  {
   "attachments": {},
   "cell_type": "markdown",
   "metadata": {},
   "source": [
    "## <font color='RED'>CODE TO DEPLOY (PILOT)</font>\n",
    "\n",
    "A continuación se incluirá el código que deba ser llevado a despliegue para producción, dado que se entiende efectúa operaciones necesarias sobre los datos en la ejecución del prototipo"
   ]
  },
  {
   "attachments": {},
   "cell_type": "markdown",
   "metadata": {},
   "source": [
    "<font color=' red '><b>Description</b></font>\n",
    "\n",
    "- No hay nada que desplegar en el piloto, ya que estos datos son estáticos o en todo caso cambian con muy poca frecuencia, altamente improbable durante el proyecto.\n"
   ]
  },
  {
   "attachments": {},
   "cell_type": "markdown",
   "metadata": {},
   "source": [
    "<font color=' red '><b>CODE</b></font>"
   ]
  },
  {
   "cell_type": "code",
   "execution_count": null,
   "metadata": {
    "vscode": {
     "languageId": "r"
    }
   },
   "outputs": [],
   "source": [
    "# incluir código"
   ]
  }
 ],
 "metadata": {
  "anaconda-cloud": {},
  "celltoolbar": "Slideshow",
  "hide_input": false,
  "kernelspec": {
   "display_name": "R",
   "language": "R",
   "name": "ir"
  },
  "language_info": {
   "codemirror_mode": "r",
   "file_extension": ".r",
   "mimetype": "text/x-r-source",
   "name": "R",
   "pygments_lexer": "r",
   "version": "4.2.2"
  },
  "latex_envs": {
   "LaTeX_envs_menu_present": true,
   "autoclose": false,
   "autocomplete": true,
   "bibliofile": "biblio.bib",
   "cite_by": "apalike",
   "current_citInitial": 1,
   "eqLabelWithNumbers": true,
   "eqNumInitial": 1,
   "hotkeys": {
    "equation": "Ctrl-E",
    "itemize": "Ctrl-I"
   },
   "labels_anchors": false,
   "latex_user_defs": false,
   "report_style_numbering": true,
   "user_envs_cfg": false
  },
  "toc": {
   "base_numbering": 1,
   "nav_menu": {
    "height": "11.6px",
    "width": "160px"
   },
   "number_sections": false,
   "sideBar": true,
   "skip_h1_title": true,
   "title_cell": "Table of Contents",
   "title_sidebar": "Contents",
   "toc_cell": true,
   "toc_position": {
    "height": "calc(100% - 180px)",
    "left": "10px",
    "top": "150px",
    "width": "209.2px"
   },
   "toc_section_display": true,
   "toc_window_display": true
  },
  "varInspector": {
   "cols": {
    "lenName": 16,
    "lenType": 16,
    "lenVar": 40
   },
   "kernels_config": {
    "python": {
     "delete_cmd_postfix": "",
     "delete_cmd_prefix": "del ",
     "library": "var_list.py",
     "varRefreshCmd": "print(var_dic_list())"
    },
    "r": {
     "delete_cmd_postfix": ") ",
     "delete_cmd_prefix": "rm(",
     "library": "var_list.r",
     "varRefreshCmd": "cat(var_dic_list()) "
    }
   },
   "types_to_exclude": [
    "module",
    "function",
    "builtin_function_or_method",
    "instance",
    "_Feature"
   ],
   "window_display": false
  }
 },
 "nbformat": 4,
 "nbformat_minor": 1
}
