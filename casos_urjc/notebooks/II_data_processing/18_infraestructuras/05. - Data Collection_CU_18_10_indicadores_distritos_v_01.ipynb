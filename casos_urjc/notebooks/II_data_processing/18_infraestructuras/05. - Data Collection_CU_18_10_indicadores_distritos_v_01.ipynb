{
 "cells": [
  {
   "cell_type": "markdown",
   "metadata": {
    "slideshow": {
     "slide_type": "slide"
    }
   },
   "source": [
    "<img src=\".\\images\\Logo.png\" width=150 align=\"left\" /> <img src=\".\\images\\Logo2.jpg\" width=450 align=\"right\" />"
   ]
  },
  {
   "cell_type": "markdown",
   "metadata": {
    "slideshow": {
     "slide_type": "slide"
    }
   },
   "source": [
    "\n",
    "# <center><font color= #1e8449 > <b>CU18_Infraestructuras_eventos</font></center>"
   ]
  },
  {
   "cell_type": "markdown",
   "metadata": {
    "slideshow": {
     "slide_type": "slide"
    }
   },
   "source": [
    "<font color='steelblue'><b>Citizenlab Data Science Methodology > II - Data Processing Domain </font>\n",
    "***\n",
    "> # <font color='steelblue'> <b>05.- Data Collection</font>"
   ]
  },
  {
   "cell_type": "markdown",
   "metadata": {
    "slideshow": {
     "slide_type": "slide"
    }
   },
   "source": [
    "<font color='steelblue'>Data Collection is the process to obtain and generate (if required) necessary data to model the problem.</font>"
   ]
  },
  {
   "attachments": {},
   "cell_type": "markdown",
   "metadata": {},
   "source": [
    "### 10. Indicadores por distritos censales"
   ]
  },
  {
   "cell_type": "markdown",
   "metadata": {
    "toc": true
   },
   "source": [
    "<h1>Table of Contents<span class=\"tocSkip\"></span></h1>\n",
    "<div class=\"toc\"><ul class=\"toc-item\"><li><span><a href=\"#Settings\" data-toc-modified-id=\"Settings-1\"><font color=\"green\">Settings</font></a></span></li><li><span><a href=\"#Data-Load\" data-toc-modified-id=\"Data-Load-2\"><font color=\"green\">Data Load</font></a></span></li><li><span><a href=\"#ETL-Processes\" data-toc-modified-id=\"ETL-Processes-3\">ETL Processes</a></span><ul class=\"toc-item\"><li><span><a href=\"#Import-data-from:-CSV,-Excel,-Tab,-JSON,-SQL,-and-Parquet-files\" data-toc-modified-id=\"Import-data-from:-CSV,-Excel,-Tab,-JSON,-SQL,-and-Parquet-files-3.1\">Import data from: CSV, Excel, Tab, JSON, SQL, and Parquet files</a></span></li></ul></li><li><span><a href=\"#Synthetic-Data-Generation\" data-toc-modified-id=\"Synthetic-Data-Generation-4\">Synthetic Data Generation</a></span></li><li><span><a href=\"#Fake-Data-Generation\" data-toc-modified-id=\"Fake-Data-Generation-5\">Fake Data Generation</a></span></li><li><span><a href=\"#Open-Data\" data-toc-modified-id=\"Open-Data-6\">Open Data</a></span></li><li><span><a href=\"#Data-Save\" data-toc-modified-id=\"Data-Save-7\"><font color=\"green\">Data Save</font></a></span></li><li><span><a href=\"#Main-Conclusions\" data-toc-modified-id=\"Main-Conclusions-8\"><font color=\" #2874a6 \">Main Conclusions</font></a></span></li><li><span><a href=\"#Main-Actions\" data-toc-modified-id=\"Main-Actions-9\"><font color=\" #2874a6 \">Main Actions</font></a></span><ul class=\"toc-item\"><li><ul class=\"toc-item\"><li><span><a href=\"#Acciones-done\" data-toc-modified-id=\"Acciones-done-9.0.1\"><font color=\" #2874a6 \">Acciones done</font></a></span></li><li><span><a href=\"#Acctions-to-perform\" data-toc-modified-id=\"Acctions-to-perform-9.0.2\"><font color=\" #2874a6 \">Acctions to perform</font></a></span></li></ul></li></ul></li></ul></div>"
   ]
  },
  {
   "cell_type": "markdown",
   "metadata": {
    "slideshow": {
     "slide_type": "slide"
    }
   },
   "source": [
    "## <font color='green'>Settings</font>"
   ]
  },
  {
   "attachments": {},
   "cell_type": "markdown",
   "metadata": {},
   "source": [
    "### Packages to use\n",
    "\n",
    "- {readr} from _tidyverse_ for reading and writing csv files\n",
    "- {tcltk} for selecting files and paths (if needed)\n",
    "- {dplyr} for data exploration\n",
    "- {sf} for spatial objects and files"
   ]
  },
  {
   "cell_type": "code",
   "execution_count": 1,
   "metadata": {
    "ExecuteTime": {
     "end_time": "2021-12-03T15:23:33.762841Z",
     "start_time": "2021-12-03T15:23:08.580267Z"
    },
    "slideshow": {
     "slide_type": "subslide"
    },
    "vscode": {
     "languageId": "r"
    }
   },
   "outputs": [
    {
     "name": "stderr",
     "output_type": "stream",
     "text": [
      "\n",
      "Attaching package: 'dplyr'\n",
      "\n",
      "\n",
      "The following objects are masked from 'package:stats':\n",
      "\n",
      "    filter, lag\n",
      "\n",
      "\n",
      "The following objects are masked from 'package:base':\n",
      "\n",
      "    intersect, setdiff, setequal, union\n",
      "\n",
      "\n",
      "Linking to GEOS 3.10.2, GDAL 3.4.2, PROJ 8.2.1; sf_use_s2() is TRUE\n",
      "\n"
     ]
    }
   ],
   "source": [
    "library(readr)\n",
    "library(tcltk)\n",
    "library(dplyr)\n",
    "library(sf)\n",
    "\n"
   ]
  },
  {
   "attachments": {},
   "cell_type": "markdown",
   "metadata": {},
   "source": [
    "### Paths"
   ]
  },
  {
   "cell_type": "code",
   "execution_count": 2,
   "metadata": {
    "vscode": {
     "languageId": "r"
    }
   },
   "outputs": [],
   "source": [
    "iPath <- \"Data/Input/\"\n",
    "oPath <- \"Data/Output/\"\n"
   ]
  },
  {
   "attachments": {},
   "cell_type": "markdown",
   "metadata": {
    "slideshow": {
     "slide_type": "slide"
    }
   },
   "source": [
    "## <font color='green'>Data Load</font>\n",
    "\n",
    "If there are more than one input file, make as many sections as files to import."
   ]
  },
  {
   "attachments": {},
   "cell_type": "markdown",
   "metadata": {},
   "source": [
    "#### 1. Indicadores por sección censal"
   ]
  },
  {
   "attachments": {},
   "cell_type": "markdown",
   "metadata": {},
   "source": [
    "<font color='tomato'><b> OPCION A:</b> Seleccionar fichero en ventana para mayor comodidad</font> "
   ]
  },
  {
   "attachments": {},
   "cell_type": "markdown",
   "metadata": {},
   "source": [
    "Data load using the {tcltk} package. Ucomment the line if not using this option"
   ]
  },
  {
   "cell_type": "code",
   "execution_count": 3,
   "metadata": {
    "vscode": {
     "languageId": "r"
    }
   },
   "outputs": [],
   "source": [
    "# file_data_01 <- tcltk::tk_choose.files(multi = FALSE)"
   ]
  },
  {
   "attachments": {},
   "cell_type": "markdown",
   "metadata": {},
   "source": [
    "<font color='tomato'><b> OPCION B:</b> Especificar el nombre de archivo</font>\n",
    "\n",
    "Instrucciones\n",
    "- Los ficheros de entrada del proceso están siempre en Data/Input/.   \n",
    "- Si hay más de un fichero de entrada, se crean tantos objetos iFile_xx y file_data_xx como ficheros de entrada (xx número correlativo con dos dígitos, rellenar con ceros a la izquierda)"
   ]
  },
  {
   "cell_type": "code",
   "execution_count": 4,
   "metadata": {
    "vscode": {
     "languageId": "r"
    }
   },
   "outputs": [
    {
     "name": "stdout",
     "output_type": "stream",
     "text": [
      "Se leer<U+00E1>n datos del archivo:  Data/Input/CU_04_05_03_01_indicadores_secciones.csv"
     ]
    }
   ],
   "source": [
    "iFile_01 <- \"CU_04_05_03_01_indicadores_secciones.csv\"\n",
    "file_data_01 <- paste0(iPath, iFile_01)\n",
    "\n",
    "if(file.exists(file_data_01)){\n",
    "    cat(\"Se leerán datos del archivo: \", file_data_01)\n",
    "} else{\n",
    "    warning(\"Cuidado: el archivo no existe.\")\n",
    "}\n"
   ]
  },
  {
   "attachments": {},
   "cell_type": "markdown",
   "metadata": {},
   "source": [
    "#### Data file to dataframe"
   ]
  },
  {
   "cell_type": "code",
   "execution_count": 5,
   "metadata": {
    "vscode": {
     "languageId": "r"
    }
   },
   "outputs": [
    {
     "name": "stderr",
     "output_type": "stream",
     "text": [
      "\u001b[1mRows: \u001b[22m\u001b[34m4417\u001b[39m \u001b[1mColumns: \u001b[22m\u001b[34m20\u001b[39m\n",
      "\u001b[36m--\u001b[39m \u001b[1mColumn specification\u001b[22m \u001b[36m--------------------------------------------------------\u001b[39m\n",
      "\u001b[1mDelimiter:\u001b[22m \",\"\n",
      "\u001b[31mchr\u001b[39m  (3): CMUN, dist, secc\n",
      "\u001b[32mdbl\u001b[39m (17): ccaa, CPRO, t1_1, t2_1, t2_2, t3_1, t4_1, t4_2, t4_3, t5_1, t6_1, ...\n",
      "\n",
      "\u001b[36mi\u001b[39m Use `spec()` to retrieve the full column specification for this data.\n",
      "\u001b[36mi\u001b[39m Specify the column types or set `show_col_types = FALSE` to quiet this message.\n"
     ]
    }
   ],
   "source": [
    "data_01 <- read_csv(file_data_01)"
   ]
  },
  {
   "attachments": {},
   "cell_type": "markdown",
   "metadata": {},
   "source": [
    "Estructura de los datos:"
   ]
  },
  {
   "cell_type": "code",
   "execution_count": 6,
   "metadata": {
    "vscode": {
     "languageId": "r"
    }
   },
   "outputs": [
    {
     "name": "stdout",
     "output_type": "stream",
     "text": [
      "Rows: 4,417\n",
      "Columns: 20\n",
      "$ ccaa  \u001b[3m\u001b[90m<dbl>\u001b[39m\u001b[23m 13, 13, 13, 13, 13, 13, 13, 13, 13, 13, 13, 13, 13, 13, 13, 13, ~\n",
      "$ CPRO  \u001b[3m\u001b[90m<dbl>\u001b[39m\u001b[23m 28, 28, 28, 28, 28, 28, 28, 28, 28, 28, 28, 28, 28, 28, 28, 28, ~\n",
      "$ CMUN  \u001b[3m\u001b[90m<chr>\u001b[39m\u001b[23m \"001\", \"002\", \"002\", \"003\", \"004\", \"004\", \"004\", \"004\", \"005\", \"~\n",
      "$ dist  \u001b[3m\u001b[90m<chr>\u001b[39m\u001b[23m \"01\", \"01\", \"01\", \"01\", \"01\", \"01\", \"01\", \"01\", \"01\", \"01\", \"01\"~\n",
      "$ secc  \u001b[3m\u001b[90m<chr>\u001b[39m\u001b[23m \"001\", \"001\", \"002\", \"001\", \"001\", \"002\", \"003\", \"004\", \"001\", \"~\n",
      "$ t1_1  \u001b[3m\u001b[90m<dbl>\u001b[39m\u001b[23m 55, 2358, 2435, 248, 2886, 3376, 2161, 1523, 1648, 1015, 1728, 1~\n",
      "$ t2_1  \u001b[3m\u001b[90m<dbl>\u001b[39m\u001b[23m NA, 0.4724, 0.4830, 0.3952, 0.5135, 0.4793, 0.5016, 0.5279, 0.54~\n",
      "$ t2_2  \u001b[3m\u001b[90m<dbl>\u001b[39m\u001b[23m NA, 0.5276, 0.5170, 0.6048, 0.4865, 0.5207, 0.4984, 0.4721, 0.45~\n",
      "$ t3_1  \u001b[3m\u001b[90m<dbl>\u001b[39m\u001b[23m NA, 40.5161, 38.3339, 47.4597, 44.4099, 40.6810, 38.0088, 42.537~\n",
      "$ t4_1  \u001b[3m\u001b[90m<dbl>\u001b[39m\u001b[23m NA, 0.1425, 0.1959, 0.1371, 0.1611, 0.1739, 0.2230, 0.1753, 0.11~\n",
      "$ t4_2  \u001b[3m\u001b[90m<dbl>\u001b[39m\u001b[23m NA, 0.7443, 0.7002, 0.6573, 0.6067, 0.6727, 0.6395, 0.6448, 0.69~\n",
      "$ t4_3  \u001b[3m\u001b[90m<dbl>\u001b[39m\u001b[23m NA, 0.1132, 0.1039, 0.2056, 0.2322, 0.1534, 0.1374, 0.1799, 0.18~\n",
      "$ t5_1  \u001b[3m\u001b[90m<dbl>\u001b[39m\u001b[23m NA, 0.1569, 0.1544, 0.1129, 0.1639, 0.1440, 0.1749, 0.1326, 0.16~\n",
      "$ t6_1  \u001b[3m\u001b[90m<dbl>\u001b[39m\u001b[23m NA, 0.1968, 0.1951, 0.1411, 0.2128, 0.1730, 0.2138, 0.1589, 0.22~\n",
      "$ t7_1  \u001b[3m\u001b[90m<dbl>\u001b[39m\u001b[23m NA, 0.4016, 0.4244, 0.1542, 0.1470, 0.1596, 0.1668, 0.1584, 0.09~\n",
      "$ t8_1  \u001b[3m\u001b[90m<dbl>\u001b[39m\u001b[23m NA, 0.3971, 0.4224, 0.1449, 0.1409, 0.1506, 0.1602, 0.1545, 0.09~\n",
      "$ t9_1  \u001b[3m\u001b[90m<dbl>\u001b[39m\u001b[23m NA, 0.4377, 0.4438, 0.5280, 0.2602, 0.3234, 0.2859, 0.3057, 0.51~\n",
      "$ t10_1 \u001b[3m\u001b[90m<dbl>\u001b[39m\u001b[23m NA, 0.0912, 0.1226, 0.0932, 0.1814, 0.1478, 0.1658, 0.1824, 0.10~\n",
      "$ t11_1 \u001b[3m\u001b[90m<dbl>\u001b[39m\u001b[23m NA, 0.6063, 0.5955, 0.5000, 0.4213, 0.5170, 0.4943, 0.4745, 0.52~\n",
      "$ t12_1 \u001b[3m\u001b[90m<dbl>\u001b[39m\u001b[23m NA, 0.6672, 0.6788, 0.5514, 0.5147, 0.6067, 0.5926, 0.5804, 0.58~\n"
     ]
    }
   ],
   "source": [
    "glimpse(data_01)"
   ]
  },
  {
   "attachments": {},
   "cell_type": "markdown",
   "metadata": {},
   "source": [
    "Muestra de primeros datos:"
   ]
  },
  {
   "cell_type": "code",
   "execution_count": 7,
   "metadata": {
    "vscode": {
     "languageId": "r"
    }
   },
   "outputs": [
    {
     "data": {
      "text/html": [
       "<table class=\"dataframe\">\n",
       "<caption>A spec_tbl_df: 5 x 20</caption>\n",
       "<thead>\n",
       "\t<tr><th scope=col>ccaa</th><th scope=col>CPRO</th><th scope=col>CMUN</th><th scope=col>dist</th><th scope=col>secc</th><th scope=col>t1_1</th><th scope=col>t2_1</th><th scope=col>t2_2</th><th scope=col>t3_1</th><th scope=col>t4_1</th><th scope=col>t4_2</th><th scope=col>t4_3</th><th scope=col>t5_1</th><th scope=col>t6_1</th><th scope=col>t7_1</th><th scope=col>t8_1</th><th scope=col>t9_1</th><th scope=col>t10_1</th><th scope=col>t11_1</th><th scope=col>t12_1</th></tr>\n",
       "\t<tr><th scope=col>&lt;dbl&gt;</th><th scope=col>&lt;dbl&gt;</th><th scope=col>&lt;chr&gt;</th><th scope=col>&lt;chr&gt;</th><th scope=col>&lt;chr&gt;</th><th scope=col>&lt;dbl&gt;</th><th scope=col>&lt;dbl&gt;</th><th scope=col>&lt;dbl&gt;</th><th scope=col>&lt;dbl&gt;</th><th scope=col>&lt;dbl&gt;</th><th scope=col>&lt;dbl&gt;</th><th scope=col>&lt;dbl&gt;</th><th scope=col>&lt;dbl&gt;</th><th scope=col>&lt;dbl&gt;</th><th scope=col>&lt;dbl&gt;</th><th scope=col>&lt;dbl&gt;</th><th scope=col>&lt;dbl&gt;</th><th scope=col>&lt;dbl&gt;</th><th scope=col>&lt;dbl&gt;</th><th scope=col>&lt;dbl&gt;</th></tr>\n",
       "</thead>\n",
       "<tbody>\n",
       "\t<tr><td>13</td><td>28</td><td>001</td><td>01</td><td>001</td><td>  55</td><td>    NA</td><td>    NA</td><td>     NA</td><td>    NA</td><td>    NA</td><td>    NA</td><td>    NA</td><td>    NA</td><td>    NA</td><td>    NA</td><td>    NA</td><td>    NA</td><td>    NA</td><td>    NA</td></tr>\n",
       "\t<tr><td>13</td><td>28</td><td>002</td><td>01</td><td>001</td><td>2358</td><td>0.4724</td><td>0.5276</td><td>40.5161</td><td>0.1425</td><td>0.7443</td><td>0.1132</td><td>0.1569</td><td>0.1968</td><td>0.4016</td><td>0.3971</td><td>0.4377</td><td>0.0912</td><td>0.6063</td><td>0.6672</td></tr>\n",
       "\t<tr><td>13</td><td>28</td><td>002</td><td>01</td><td>002</td><td>2435</td><td>0.4830</td><td>0.5170</td><td>38.3339</td><td>0.1959</td><td>0.7002</td><td>0.1039</td><td>0.1544</td><td>0.1951</td><td>0.4244</td><td>0.4224</td><td>0.4438</td><td>0.1226</td><td>0.5955</td><td>0.6788</td></tr>\n",
       "\t<tr><td>13</td><td>28</td><td>003</td><td>01</td><td>001</td><td> 248</td><td>0.3952</td><td>0.6048</td><td>47.4597</td><td>0.1371</td><td>0.6573</td><td>0.2056</td><td>0.1129</td><td>0.1411</td><td>0.1542</td><td>0.1449</td><td>0.5280</td><td>0.0932</td><td>0.5000</td><td>0.5514</td></tr>\n",
       "\t<tr><td>13</td><td>28</td><td>004</td><td>01</td><td>001</td><td>2886</td><td>0.5135</td><td>0.4865</td><td>44.4099</td><td>0.1611</td><td>0.6067</td><td>0.2322</td><td>0.1639</td><td>0.2128</td><td>0.1470</td><td>0.1409</td><td>0.2602</td><td>0.1814</td><td>0.4213</td><td>0.5147</td></tr>\n",
       "</tbody>\n",
       "</table>\n"
      ],
      "text/latex": [
       "A spec\\_tbl\\_df: 5 x 20\n",
       "\\begin{tabular}{llllllllllllllllllll}\n",
       " ccaa & CPRO & CMUN & dist & secc & t1\\_1 & t2\\_1 & t2\\_2 & t3\\_1 & t4\\_1 & t4\\_2 & t4\\_3 & t5\\_1 & t6\\_1 & t7\\_1 & t8\\_1 & t9\\_1 & t10\\_1 & t11\\_1 & t12\\_1\\\\\n",
       " <dbl> & <dbl> & <chr> & <chr> & <chr> & <dbl> & <dbl> & <dbl> & <dbl> & <dbl> & <dbl> & <dbl> & <dbl> & <dbl> & <dbl> & <dbl> & <dbl> & <dbl> & <dbl> & <dbl>\\\\\n",
       "\\hline\n",
       "\t 13 & 28 & 001 & 01 & 001 &   55 &     NA &     NA &      NA &     NA &     NA &     NA &     NA &     NA &     NA &     NA &     NA &     NA &     NA &     NA\\\\\n",
       "\t 13 & 28 & 002 & 01 & 001 & 2358 & 0.4724 & 0.5276 & 40.5161 & 0.1425 & 0.7443 & 0.1132 & 0.1569 & 0.1968 & 0.4016 & 0.3971 & 0.4377 & 0.0912 & 0.6063 & 0.6672\\\\\n",
       "\t 13 & 28 & 002 & 01 & 002 & 2435 & 0.4830 & 0.5170 & 38.3339 & 0.1959 & 0.7002 & 0.1039 & 0.1544 & 0.1951 & 0.4244 & 0.4224 & 0.4438 & 0.1226 & 0.5955 & 0.6788\\\\\n",
       "\t 13 & 28 & 003 & 01 & 001 &  248 & 0.3952 & 0.6048 & 47.4597 & 0.1371 & 0.6573 & 0.2056 & 0.1129 & 0.1411 & 0.1542 & 0.1449 & 0.5280 & 0.0932 & 0.5000 & 0.5514\\\\\n",
       "\t 13 & 28 & 004 & 01 & 001 & 2886 & 0.5135 & 0.4865 & 44.4099 & 0.1611 & 0.6067 & 0.2322 & 0.1639 & 0.2128 & 0.1470 & 0.1409 & 0.2602 & 0.1814 & 0.4213 & 0.5147\\\\\n",
       "\\end{tabular}\n"
      ],
      "text/markdown": [
       "\n",
       "A spec_tbl_df: 5 x 20\n",
       "\n",
       "| ccaa &lt;dbl&gt; | CPRO &lt;dbl&gt; | CMUN &lt;chr&gt; | dist &lt;chr&gt; | secc &lt;chr&gt; | t1_1 &lt;dbl&gt; | t2_1 &lt;dbl&gt; | t2_2 &lt;dbl&gt; | t3_1 &lt;dbl&gt; | t4_1 &lt;dbl&gt; | t4_2 &lt;dbl&gt; | t4_3 &lt;dbl&gt; | t5_1 &lt;dbl&gt; | t6_1 &lt;dbl&gt; | t7_1 &lt;dbl&gt; | t8_1 &lt;dbl&gt; | t9_1 &lt;dbl&gt; | t10_1 &lt;dbl&gt; | t11_1 &lt;dbl&gt; | t12_1 &lt;dbl&gt; |\n",
       "|---|---|---|---|---|---|---|---|---|---|---|---|---|---|---|---|---|---|---|---|\n",
       "| 13 | 28 | 001 | 01 | 001 |   55 |     NA |     NA |      NA |     NA |     NA |     NA |     NA |     NA |     NA |     NA |     NA |     NA |     NA |     NA |\n",
       "| 13 | 28 | 002 | 01 | 001 | 2358 | 0.4724 | 0.5276 | 40.5161 | 0.1425 | 0.7443 | 0.1132 | 0.1569 | 0.1968 | 0.4016 | 0.3971 | 0.4377 | 0.0912 | 0.6063 | 0.6672 |\n",
       "| 13 | 28 | 002 | 01 | 002 | 2435 | 0.4830 | 0.5170 | 38.3339 | 0.1959 | 0.7002 | 0.1039 | 0.1544 | 0.1951 | 0.4244 | 0.4224 | 0.4438 | 0.1226 | 0.5955 | 0.6788 |\n",
       "| 13 | 28 | 003 | 01 | 001 |  248 | 0.3952 | 0.6048 | 47.4597 | 0.1371 | 0.6573 | 0.2056 | 0.1129 | 0.1411 | 0.1542 | 0.1449 | 0.5280 | 0.0932 | 0.5000 | 0.5514 |\n",
       "| 13 | 28 | 004 | 01 | 001 | 2886 | 0.5135 | 0.4865 | 44.4099 | 0.1611 | 0.6067 | 0.2322 | 0.1639 | 0.2128 | 0.1470 | 0.1409 | 0.2602 | 0.1814 | 0.4213 | 0.5147 |\n",
       "\n"
      ],
      "text/plain": [
       "  ccaa CPRO CMUN dist secc t1_1 t2_1   t2_2   t3_1    t4_1   t4_2   t4_3  \n",
       "1 13   28   001  01   001    55     NA     NA      NA     NA     NA     NA\n",
       "2 13   28   002  01   001  2358 0.4724 0.5276 40.5161 0.1425 0.7443 0.1132\n",
       "3 13   28   002  01   002  2435 0.4830 0.5170 38.3339 0.1959 0.7002 0.1039\n",
       "4 13   28   003  01   001   248 0.3952 0.6048 47.4597 0.1371 0.6573 0.2056\n",
       "5 13   28   004  01   001  2886 0.5135 0.4865 44.4099 0.1611 0.6067 0.2322\n",
       "  t5_1   t6_1   t7_1   t8_1   t9_1   t10_1  t11_1  t12_1 \n",
       "1     NA     NA     NA     NA     NA     NA     NA     NA\n",
       "2 0.1569 0.1968 0.4016 0.3971 0.4377 0.0912 0.6063 0.6672\n",
       "3 0.1544 0.1951 0.4244 0.4224 0.4438 0.1226 0.5955 0.6788\n",
       "4 0.1129 0.1411 0.1542 0.1449 0.5280 0.0932 0.5000 0.5514\n",
       "5 0.1639 0.2128 0.1470 0.1409 0.2602 0.1814 0.4213 0.5147"
      ]
     },
     "metadata": {},
     "output_type": "display_data"
    }
   ],
   "source": [
    "slice_head(data_01, n = 5)"
   ]
  },
  {
   "attachments": {},
   "cell_type": "markdown",
   "metadata": {},
   "source": [
    "#### 2. Distritos para extraer el área"
   ]
  },
  {
   "attachments": {},
   "cell_type": "markdown",
   "metadata": {},
   "source": [
    "<font color='tomato'><b> OPCION A:</b> Seleccionar fichero en ventana para mayor comodidad</font> "
   ]
  },
  {
   "attachments": {},
   "cell_type": "markdown",
   "metadata": {},
   "source": [
    "Data load using the {tcltk} package. Uncomment if not using this option"
   ]
  },
  {
   "cell_type": "code",
   "execution_count": 8,
   "metadata": {
    "vscode": {
     "languageId": "r"
    }
   },
   "outputs": [],
   "source": [
    "# file_data_02 <- tcltk::tk_choose.files(multi = FALSE)"
   ]
  },
  {
   "attachments": {},
   "cell_type": "markdown",
   "metadata": {},
   "source": [
    "<font color='tomato'><b> OPCION B:</b> Especificar el nombre de archivo</font>\n",
    "\n",
    "Instrucciones\n",
    "- Los ficheros de entrada del proceso están siempre en Data/Input/.   \n",
    "- Si hay más de un fichero de entrada, se crean tantos objetos iFile_xx y file_data_xx como ficheros de entrada (xx número correlativo con dos dígitos, rellenar con ceros a la izquierda)\n",
    "- Comentar si se usa la opción anterior"
   ]
  },
  {
   "cell_type": "code",
   "execution_count": 9,
   "metadata": {
    "vscode": {
     "languageId": "r"
    }
   },
   "outputs": [
    {
     "name": "stdout",
     "output_type": "stream",
     "text": [
      "Se leer<U+00E1>n datos del archivo:  Data/Input/CU_18_05_03_distritos_geo.json"
     ]
    }
   ],
   "source": [
    "iFile_02 <- \"CU_18_05_03_distritos_geo.json\"\n",
    "file_data_02 <- paste0(iPath, iFile_02)\n",
    "\n",
    "if(file.exists(file_data_02)){\n",
    "    cat(\"Se leerán datos del archivo: \", file_data_02)\n",
    "} else{\n",
    "    warning(\"Cuidado: el archivo no existe.\")\n",
    "}\n"
   ]
  },
  {
   "attachments": {},
   "cell_type": "markdown",
   "metadata": {},
   "source": [
    "Data file to dataframe:"
   ]
  },
  {
   "cell_type": "code",
   "execution_count": 10,
   "metadata": {
    "vscode": {
     "languageId": "r"
    }
   },
   "outputs": [
    {
     "name": "stdout",
     "output_type": "stream",
     "text": [
      "Reading layer `CU_18_05_03_distritos_geo' from data source \n",
      "  `/Users/emilio.lcano/academico/gh_repos/__transferencia/citizenlab/CitizenLab-Research-and-Development/casos_urjc/notebooks/II_data_processing/18_infraestructuras/Data/Input/CU_18_05_03_distritos_geo.json' \n",
      "  using driver `GeoJSON'\n",
      "Simple feature collection with 247 features and 2 fields\n",
      "Geometry type: GEOMETRY\n",
      "Dimension:     XY\n",
      "Bounding box:  xmin: -4.579006 ymin: 39.8848 xmax: -3.052983 ymax: 41.16584\n",
      "Geodetic CRS:  WGS 84\n"
     ]
    }
   ],
   "source": [
    "data_02 <- st_read(file_data_02)"
   ]
  },
  {
   "attachments": {},
   "cell_type": "markdown",
   "metadata": {},
   "source": [
    "Estructura de los datos:"
   ]
  },
  {
   "cell_type": "code",
   "execution_count": 11,
   "metadata": {
    "vscode": {
     "languageId": "r"
    }
   },
   "outputs": [
    {
     "name": "stdout",
     "output_type": "stream",
     "text": [
      "Rows: 247\n",
      "Columns: 3\n",
      "$ CMUN     \u001b[3m\u001b[90m<chr>\u001b[39m\u001b[23m \"001\", \"002\", \"003\", \"004\", \"005\", \"005\", \"005\", \"005\", \"005\"~\n",
      "$ CDIS     \u001b[3m\u001b[90m<chr>\u001b[39m\u001b[23m \"01\", \"01\", \"01\", \"01\", \"01\", \"02\", \"03\", \"04\", \"05\", \"01\", \"~\n",
      "$ geometry \u001b[3m\u001b[90m<POLYGON [arc_degree]>\u001b[39m\u001b[23m POLYGON ((-3.64502 41.12129..., POLYGON ((-3~\n"
     ]
    }
   ],
   "source": [
    "glimpse(data_02)\n"
   ]
  },
  {
   "attachments": {},
   "cell_type": "markdown",
   "metadata": {},
   "source": [
    "Muestra de datos"
   ]
  },
  {
   "cell_type": "code",
   "execution_count": 12,
   "metadata": {
    "vscode": {
     "languageId": "r"
    }
   },
   "outputs": [
    {
     "data": {
      "text/html": [
       "<table class=\"dataframe\">\n",
       "<caption>A tibble: 5 x 3</caption>\n",
       "<thead>\n",
       "\t<tr><th scope=col>CMUN</th><th scope=col>CDIS</th><th scope=col>geometry</th></tr>\n",
       "\t<tr><th scope=col>&lt;chr&gt;</th><th scope=col>&lt;chr&gt;</th><th scope=col>&lt;POLYGON [arc_degree]&gt;</th></tr>\n",
       "</thead>\n",
       "<tbody>\n",
       "\t<tr><td>001</td><td>01</td><td>POLYGON ((-3.64502 41.12129...</td></tr>\n",
       "\t<tr><td>002</td><td>01</td><td>POLYGON ((-3.503032 40.526,...</td></tr>\n",
       "\t<tr><td>003</td><td>01</td><td>POLYGON ((-3.808664 40.8921...</td></tr>\n",
       "\t<tr><td>004</td><td>01</td><td>POLYGON ((-4.00197 40.25642...</td></tr>\n",
       "\t<tr><td>005</td><td>01</td><td>POLYGON ((-3.361691 40.4762...</td></tr>\n",
       "</tbody>\n",
       "</table>\n"
      ],
      "text/latex": [
       "A tibble: 5 x 3\n",
       "\\begin{tabular}{lll}\n",
       " CMUN & CDIS & geometry\\\\\n",
       " <chr> & <chr> & <POLYGON {[}arc\\_degree{]}>\\\\\n",
       "\\hline\n",
       "\t 001 & 01 & POLYGON ((-3.64502 41.12129...\\\\\n",
       "\t 002 & 01 & POLYGON ((-3.503032 40.526,...\\\\\n",
       "\t 003 & 01 & POLYGON ((-3.808664 40.8921...\\\\\n",
       "\t 004 & 01 & POLYGON ((-4.00197 40.25642...\\\\\n",
       "\t 005 & 01 & POLYGON ((-3.361691 40.4762...\\\\\n",
       "\\end{tabular}\n"
      ],
      "text/markdown": [
       "\n",
       "A tibble: 5 x 3\n",
       "\n",
       "| CMUN &lt;chr&gt; | CDIS &lt;chr&gt; | geometry &lt;POLYGON [arc_degree]&gt; |\n",
       "|---|---|---|\n",
       "| 001 | 01 | POLYGON ((-3.64502 41.12129... |\n",
       "| 002 | 01 | POLYGON ((-3.503032 40.526,... |\n",
       "| 003 | 01 | POLYGON ((-3.808664 40.8921... |\n",
       "| 004 | 01 | POLYGON ((-4.00197 40.25642... |\n",
       "| 005 | 01 | POLYGON ((-3.361691 40.4762... |\n",
       "\n"
      ],
      "text/plain": [
       "  CMUN CDIS geometry                      \n",
       "1 001  01   POLYGON ((-3.64502 41.12129...\n",
       "2 002  01   POLYGON ((-3.503032 40.526,...\n",
       "3 003  01   POLYGON ((-3.808664 40.8921...\n",
       "4 004  01   POLYGON ((-4.00197 40.25642...\n",
       "5 005  01   POLYGON ((-3.361691 40.4762..."
      ]
     },
     "metadata": {},
     "output_type": "display_data"
    }
   ],
   "source": [
    "data_02 |> tibble() |> slice_head(n = 5)"
   ]
  },
  {
   "cell_type": "markdown",
   "metadata": {
    "slideshow": {
     "slide_type": "slide"
    }
   },
   "source": [
    "## ETL Processes"
   ]
  },
  {
   "attachments": {},
   "cell_type": "markdown",
   "metadata": {
    "slideshow": {
     "slide_type": "slide"
    }
   },
   "source": [
    "### Import data from: CSV, Excel, Tab, JSON, SQL, and Parquet files\n",
    "\n",
    "Se han importado en el apartado Data Load anterior:\n",
    "\n",
    "* Indicadores del INE por sección censal\n",
    "* Georreferenciaciónd de distritos"
   ]
  },
  {
   "attachments": {},
   "cell_type": "markdown",
   "metadata": {},
   "source": [
    "### Transform data\n",
    "\n",
    "Para asegurar la trazabilidad, guardar las transformaciones en un objeto diferente con el prefijo 't'."
   ]
  },
  {
   "attachments": {},
   "cell_type": "markdown",
   "metadata": {},
   "source": [
    "#### Calcular indicadores por distrito\n",
    "\n",
    "* Un distrito se corresponde con varias secciones censales\n",
    "* Para calcular los datos agregados, hay que transformar los porcentajes a números absolutos, sumar y después volver a calcular el porcentaje\n",
    "* Al agregar, si todos los datos son NA queda cero, y hay que volver a asignar NA"
   ]
  },
  {
   "cell_type": "code",
   "execution_count": 13,
   "metadata": {
    "vscode": {
     "languageId": "r"
    }
   },
   "outputs": [],
   "source": [
    "tdata_01 <- data_01 |>\n",
    "  mutate(across(c(t2_1:t2_2, t4_1:t12_1), ~ .x*t1_1)) |> \n",
    "  group_by(CMUN, dist) |> \n",
    "  summarise(nsec = n(),\n",
    "            t3_1 = weighted.mean(x = t3_1, w = t1_1, na.rm = TRUE),\n",
    "            t1_1 = sum(t1_1, na.rm = TRUE),\n",
    "            across(c(t2_1:t2_2, t4_1:t12_1), ~sum(.x, na.rm = TRUE)/sum(t1_1, na.rm = TRUE)),\n",
    "            .groups = \"keep\") |>\n",
    "  mutate(across(t3_1:t12_1, ~ if_else(.x == 0, NA_real_, .x))) |>\n",
    "  arrange(CMUN, dist) |>\n",
    "  ungroup()\n",
    "\n"
   ]
  },
  {
   "cell_type": "code",
   "execution_count": 14,
   "metadata": {
    "vscode": {
     "languageId": "r"
    }
   },
   "outputs": [
    {
     "name": "stdout",
     "output_type": "stream",
     "text": [
      "Rows: 246\n",
      "Columns: 18\n",
      "$ CMUN  \u001b[3m\u001b[90m<chr>\u001b[39m\u001b[23m \"001\", \"002\", \"003\", \"004\", \"005\", \"005\", \"005\", \"005\", \"005\", \"~\n",
      "$ dist  \u001b[3m\u001b[90m<chr>\u001b[39m\u001b[23m \"01\", \"01\", \"01\", \"01\", \"01\", \"02\", \"03\", \"04\", \"05\", \"01\", \"01\"~\n",
      "$ nsec  \u001b[3m\u001b[90m<int>\u001b[39m\u001b[23m 1, 2, 1, 4, 23, 36, 16, 18, 32, 67, 19, 37, 29, 35, 1, 9, 8, 1, ~\n",
      "$ t3_1  \u001b[3m\u001b[90m<dbl>\u001b[39m\u001b[23m NA, 39.40747, 47.45970, 41.46662, 45.99877, 42.75131, 41.42790, ~\n",
      "$ t1_1  \u001b[3m\u001b[90m<dbl>\u001b[39m\u001b[23m 55, 4793, 248, 9946, 31006, 54049, 28117, 38778, 43620, 116895, ~\n",
      "$ t2_1  \u001b[3m\u001b[90m<dbl>\u001b[39m\u001b[23m NA, 0.4777851, 0.3952000, 0.5015109, 0.5298303, 0.5115035, 0.508~\n",
      "$ t2_2  \u001b[3m\u001b[90m<dbl>\u001b[39m\u001b[23m NA, 0.5222149, 0.6048000, 0.4984891, 0.4701697, 0.4884965, 0.491~\n",
      "$ t4_1  \u001b[3m\u001b[90m<dbl>\u001b[39m\u001b[23m NA, 0.1696289, 0.1371000, 0.1810684, 0.1141978, 0.1468103, 0.169~\n",
      "$ t4_2  \u001b[3m\u001b[90m<dbl>\u001b[39m\u001b[23m NA, 0.7218958, 0.6573000, 0.6420633, 0.6427127, 0.6644351, 0.668~\n",
      "$ t4_3  \u001b[3m\u001b[90m<dbl>\u001b[39m\u001b[23m NA, 0.10847530, 0.20560000, 0.17684664, 0.24307467, 0.18876028, ~\n",
      "$ t5_1  \u001b[3m\u001b[90m<dbl>\u001b[39m\u001b[23m NA, 0.15562992, 0.11290000, 0.15474242, 0.19647849, 0.18272495, ~\n",
      "$ t6_1  \u001b[3m\u001b[90m<dbl>\u001b[39m\u001b[23m NA, 0.1959363, 0.1411000, 0.1912543, 0.2400069, 0.2147111, 0.202~\n",
      "$ t7_1  \u001b[3m\u001b[90m<dbl>\u001b[39m\u001b[23m NA, 0.41318314, 0.15420000, 0.15732451, 0.07438075, 0.05696805, ~\n",
      "$ t8_1  \u001b[3m\u001b[90m<dbl>\u001b[39m\u001b[23m NA, 0.40995322, 0.14490000, 0.15046840, 0.06545227, 0.04598075, ~\n",
      "$ t9_1  \u001b[3m\u001b[90m<dbl>\u001b[39m\u001b[23m NA, 0.4407990, 0.5280000, 0.2942034, 0.3850913, 0.2235184, 0.345~\n",
      "$ t10_1 \u001b[3m\u001b[90m<dbl>\u001b[39m\u001b[23m NA, 0.10715222, 0.09320000, 0.16675872, 0.14129129, 0.18975353, ~\n",
      "$ t11_1 \u001b[3m\u001b[90m<dbl>\u001b[39m\u001b[23m NA, 0.6008132, 0.5000000, 0.4777910, 0.4565679, 0.4588558, 0.526~\n",
      "$ t12_1 \u001b[3m\u001b[90m<dbl>\u001b[39m\u001b[23m NA, 0.6730932, 0.5514000, 0.5729139, 0.5316057, 0.5641214, 0.610~\n"
     ]
    }
   ],
   "source": [
    "glimpse(tdata_01)"
   ]
  },
  {
   "cell_type": "code",
   "execution_count": 15,
   "metadata": {
    "vscode": {
     "languageId": "r"
    }
   },
   "outputs": [
    {
     "data": {
      "text/html": [
       "<table class=\"dataframe\">\n",
       "<caption>A tibble: 5 x 18</caption>\n",
       "<thead>\n",
       "\t<tr><th scope=col>CMUN</th><th scope=col>dist</th><th scope=col>nsec</th><th scope=col>t3_1</th><th scope=col>t1_1</th><th scope=col>t2_1</th><th scope=col>t2_2</th><th scope=col>t4_1</th><th scope=col>t4_2</th><th scope=col>t4_3</th><th scope=col>t5_1</th><th scope=col>t6_1</th><th scope=col>t7_1</th><th scope=col>t8_1</th><th scope=col>t9_1</th><th scope=col>t10_1</th><th scope=col>t11_1</th><th scope=col>t12_1</th></tr>\n",
       "\t<tr><th scope=col>&lt;chr&gt;</th><th scope=col>&lt;chr&gt;</th><th scope=col>&lt;int&gt;</th><th scope=col>&lt;dbl&gt;</th><th scope=col>&lt;dbl&gt;</th><th scope=col>&lt;dbl&gt;</th><th scope=col>&lt;dbl&gt;</th><th scope=col>&lt;dbl&gt;</th><th scope=col>&lt;dbl&gt;</th><th scope=col>&lt;dbl&gt;</th><th scope=col>&lt;dbl&gt;</th><th scope=col>&lt;dbl&gt;</th><th scope=col>&lt;dbl&gt;</th><th scope=col>&lt;dbl&gt;</th><th scope=col>&lt;dbl&gt;</th><th scope=col>&lt;dbl&gt;</th><th scope=col>&lt;dbl&gt;</th><th scope=col>&lt;dbl&gt;</th></tr>\n",
       "</thead>\n",
       "<tbody>\n",
       "\t<tr><td>001</td><td>01</td><td> 1</td><td>      NA</td><td>   55</td><td>       NA</td><td>       NA</td><td>       NA</td><td>       NA</td><td>       NA</td><td>       NA</td><td>       NA</td><td>        NA</td><td>        NA</td><td>       NA</td><td>       NA</td><td>       NA</td><td>       NA</td></tr>\n",
       "\t<tr><td>002</td><td>01</td><td> 2</td><td>39.40747</td><td> 4793</td><td>0.4777851</td><td>0.5222149</td><td>0.1696289</td><td>0.7218958</td><td>0.1084753</td><td>0.1556299</td><td>0.1959363</td><td>0.41318314</td><td>0.40995322</td><td>0.4407990</td><td>0.1071522</td><td>0.6008132</td><td>0.6730932</td></tr>\n",
       "\t<tr><td>003</td><td>01</td><td> 1</td><td>47.45970</td><td>  248</td><td>0.3952000</td><td>0.6048000</td><td>0.1371000</td><td>0.6573000</td><td>0.2056000</td><td>0.1129000</td><td>0.1411000</td><td>0.15420000</td><td>0.14490000</td><td>0.5280000</td><td>0.0932000</td><td>0.5000000</td><td>0.5514000</td></tr>\n",
       "\t<tr><td>004</td><td>01</td><td> 4</td><td>41.46662</td><td> 9946</td><td>0.5015109</td><td>0.4984891</td><td>0.1810684</td><td>0.6420633</td><td>0.1768466</td><td>0.1547424</td><td>0.1912543</td><td>0.15732451</td><td>0.15046840</td><td>0.2942034</td><td>0.1667587</td><td>0.4777910</td><td>0.5729139</td></tr>\n",
       "\t<tr><td>005</td><td>01</td><td>23</td><td>45.99877</td><td>31006</td><td>0.5298303</td><td>0.4701697</td><td>0.1141978</td><td>0.6427127</td><td>0.2430747</td><td>0.1964785</td><td>0.2400069</td><td>0.07438075</td><td>0.06545227</td><td>0.3850913</td><td>0.1412913</td><td>0.4565679</td><td>0.5316057</td></tr>\n",
       "</tbody>\n",
       "</table>\n"
      ],
      "text/latex": [
       "A tibble: 5 x 18\n",
       "\\begin{tabular}{llllllllllllllllll}\n",
       " CMUN & dist & nsec & t3\\_1 & t1\\_1 & t2\\_1 & t2\\_2 & t4\\_1 & t4\\_2 & t4\\_3 & t5\\_1 & t6\\_1 & t7\\_1 & t8\\_1 & t9\\_1 & t10\\_1 & t11\\_1 & t12\\_1\\\\\n",
       " <chr> & <chr> & <int> & <dbl> & <dbl> & <dbl> & <dbl> & <dbl> & <dbl> & <dbl> & <dbl> & <dbl> & <dbl> & <dbl> & <dbl> & <dbl> & <dbl> & <dbl>\\\\\n",
       "\\hline\n",
       "\t 001 & 01 &  1 &       NA &    55 &        NA &        NA &        NA &        NA &        NA &        NA &        NA &         NA &         NA &        NA &        NA &        NA &        NA\\\\\n",
       "\t 002 & 01 &  2 & 39.40747 &  4793 & 0.4777851 & 0.5222149 & 0.1696289 & 0.7218958 & 0.1084753 & 0.1556299 & 0.1959363 & 0.41318314 & 0.40995322 & 0.4407990 & 0.1071522 & 0.6008132 & 0.6730932\\\\\n",
       "\t 003 & 01 &  1 & 47.45970 &   248 & 0.3952000 & 0.6048000 & 0.1371000 & 0.6573000 & 0.2056000 & 0.1129000 & 0.1411000 & 0.15420000 & 0.14490000 & 0.5280000 & 0.0932000 & 0.5000000 & 0.5514000\\\\\n",
       "\t 004 & 01 &  4 & 41.46662 &  9946 & 0.5015109 & 0.4984891 & 0.1810684 & 0.6420633 & 0.1768466 & 0.1547424 & 0.1912543 & 0.15732451 & 0.15046840 & 0.2942034 & 0.1667587 & 0.4777910 & 0.5729139\\\\\n",
       "\t 005 & 01 & 23 & 45.99877 & 31006 & 0.5298303 & 0.4701697 & 0.1141978 & 0.6427127 & 0.2430747 & 0.1964785 & 0.2400069 & 0.07438075 & 0.06545227 & 0.3850913 & 0.1412913 & 0.4565679 & 0.5316057\\\\\n",
       "\\end{tabular}\n"
      ],
      "text/markdown": [
       "\n",
       "A tibble: 5 x 18\n",
       "\n",
       "| CMUN &lt;chr&gt; | dist &lt;chr&gt; | nsec &lt;int&gt; | t3_1 &lt;dbl&gt; | t1_1 &lt;dbl&gt; | t2_1 &lt;dbl&gt; | t2_2 &lt;dbl&gt; | t4_1 &lt;dbl&gt; | t4_2 &lt;dbl&gt; | t4_3 &lt;dbl&gt; | t5_1 &lt;dbl&gt; | t6_1 &lt;dbl&gt; | t7_1 &lt;dbl&gt; | t8_1 &lt;dbl&gt; | t9_1 &lt;dbl&gt; | t10_1 &lt;dbl&gt; | t11_1 &lt;dbl&gt; | t12_1 &lt;dbl&gt; |\n",
       "|---|---|---|---|---|---|---|---|---|---|---|---|---|---|---|---|---|---|\n",
       "| 001 | 01 |  1 |       NA |    55 |        NA |        NA |        NA |        NA |        NA |        NA |        NA |         NA |         NA |        NA |        NA |        NA |        NA |\n",
       "| 002 | 01 |  2 | 39.40747 |  4793 | 0.4777851 | 0.5222149 | 0.1696289 | 0.7218958 | 0.1084753 | 0.1556299 | 0.1959363 | 0.41318314 | 0.40995322 | 0.4407990 | 0.1071522 | 0.6008132 | 0.6730932 |\n",
       "| 003 | 01 |  1 | 47.45970 |   248 | 0.3952000 | 0.6048000 | 0.1371000 | 0.6573000 | 0.2056000 | 0.1129000 | 0.1411000 | 0.15420000 | 0.14490000 | 0.5280000 | 0.0932000 | 0.5000000 | 0.5514000 |\n",
       "| 004 | 01 |  4 | 41.46662 |  9946 | 0.5015109 | 0.4984891 | 0.1810684 | 0.6420633 | 0.1768466 | 0.1547424 | 0.1912543 | 0.15732451 | 0.15046840 | 0.2942034 | 0.1667587 | 0.4777910 | 0.5729139 |\n",
       "| 005 | 01 | 23 | 45.99877 | 31006 | 0.5298303 | 0.4701697 | 0.1141978 | 0.6427127 | 0.2430747 | 0.1964785 | 0.2400069 | 0.07438075 | 0.06545227 | 0.3850913 | 0.1412913 | 0.4565679 | 0.5316057 |\n",
       "\n"
      ],
      "text/plain": [
       "  CMUN dist nsec t3_1     t1_1  t2_1      t2_2      t4_1      t4_2     \n",
       "1 001  01    1         NA    55        NA        NA        NA        NA\n",
       "2 002  01    2   39.40747  4793 0.4777851 0.5222149 0.1696289 0.7218958\n",
       "3 003  01    1   47.45970   248 0.3952000 0.6048000 0.1371000 0.6573000\n",
       "4 004  01    4   41.46662  9946 0.5015109 0.4984891 0.1810684 0.6420633\n",
       "5 005  01   23   45.99877 31006 0.5298303 0.4701697 0.1141978 0.6427127\n",
       "  t4_3      t5_1      t6_1      t7_1       t8_1       t9_1      t10_1    \n",
       "1        NA        NA        NA         NA         NA        NA        NA\n",
       "2 0.1084753 0.1556299 0.1959363 0.41318314 0.40995322 0.4407990 0.1071522\n",
       "3 0.2056000 0.1129000 0.1411000 0.15420000 0.14490000 0.5280000 0.0932000\n",
       "4 0.1768466 0.1547424 0.1912543 0.15732451 0.15046840 0.2942034 0.1667587\n",
       "5 0.2430747 0.1964785 0.2400069 0.07438075 0.06545227 0.3850913 0.1412913\n",
       "  t11_1     t12_1    \n",
       "1        NA        NA\n",
       "2 0.6008132 0.6730932\n",
       "3 0.5000000 0.5514000\n",
       "4 0.4777910 0.5729139\n",
       "5 0.4565679 0.5316057"
      ]
     },
     "metadata": {},
     "output_type": "display_data"
    }
   ],
   "source": [
    "tdata_01 |> slice_head(n = 5)"
   ]
  },
  {
   "attachments": {},
   "cell_type": "markdown",
   "metadata": {},
   "source": [
    "Comprobar que no se repiten distritos"
   ]
  },
  {
   "cell_type": "code",
   "execution_count": 16,
   "metadata": {
    "vscode": {
     "languageId": "r"
    }
   },
   "outputs": [
    {
     "data": {
      "text/html": [
       "246"
      ],
      "text/latex": [
       "246"
      ],
      "text/markdown": [
       "246"
      ],
      "text/plain": [
       "[1] 246"
      ]
     },
     "metadata": {},
     "output_type": "display_data"
    },
    {
     "data": {
      "text/html": [
       "246"
      ],
      "text/latex": [
       "246"
      ],
      "text/markdown": [
       "246"
      ],
      "text/plain": [
       "[1] 246"
      ]
     },
     "metadata": {},
     "output_type": "display_data"
    }
   ],
   "source": [
    "\n",
    "length(unique(tdata_01$dist, tdata_01$dist))\n",
    "nrow(tdata_01)"
   ]
  },
  {
   "attachments": {},
   "cell_type": "markdown",
   "metadata": {},
   "source": [
    "#### Cálculo de la superficie y centroide del distrito"
   ]
  },
  {
   "cell_type": "code",
   "execution_count": 17,
   "metadata": {
    "vscode": {
     "languageId": "r"
    }
   },
   "outputs": [
    {
     "name": "stderr",
     "output_type": "stream",
     "text": [
      "Spherical geometry (s2) switched off\n",
      "\n",
      "Warning message in st_centroid.sf(data_02):\n",
      "\"st_centroid assumes attributes are constant over geometries of x\"\n",
      "Warning message in st_centroid.sfc(st_geometry(x), of_largest_polygon = of_largest_polygon):\n",
      "\"st_centroid does not give correct centroids for longitude/latitude data\"\n"
     ]
    }
   ],
   "source": [
    "sf_use_s2(FALSE)\n",
    "tdata_02 <- data_02 |> \n",
    "    st_centroid()  \n",
    "tdata_02 <- tdata_02 |>\n",
    "    mutate(area = st_area(data_02)) |>\n",
    "    bind_cols(st_coordinates(tdata_02)) |>\n",
    "    st_drop_geometry()"
   ]
  },
  {
   "cell_type": "code",
   "execution_count": 18,
   "metadata": {
    "vscode": {
     "languageId": "r"
    }
   },
   "outputs": [
    {
     "name": "stdout",
     "output_type": "stream",
     "text": [
      "Rows: 247\n",
      "Columns: 5\n",
      "$ CMUN \u001b[3m\u001b[90m<chr>\u001b[39m\u001b[23m \"001\", \"002\", \"003\", \"004\", \"005\", \"005\", \"005\", \"005\", \"005\", \"0~\n",
      "$ CDIS \u001b[3m\u001b[90m<chr>\u001b[39m\u001b[23m \"01\", \"01\", \"01\", \"01\", \"01\", \"02\", \"03\", \"04\", \"05\", \"01\", \"01\",~\n",
      "$ area \u001b[90m[m^2]\u001b[39m 21877471 [m^2], 19756620 [m^2], 25707163 [m^2], 22023015 [m^2], 1~\n",
      "$ X    \u001b[3m\u001b[90m<dbl>\u001b[39m\u001b[23m -3.635710, -3.480171, -3.849961, -3.989259, -3.364638, -3.392389,~\n",
      "$ Y    \u001b[3m\u001b[90m<dbl>\u001b[39m\u001b[23m 41.09315, 40.52396, 40.92033, 40.23240, 40.48268, 40.46546, 40.50~\n"
     ]
    }
   ],
   "source": [
    "glimpse(tdata_02)"
   ]
  },
  {
   "cell_type": "code",
   "execution_count": 19,
   "metadata": {
    "vscode": {
     "languageId": "r"
    }
   },
   "outputs": [
    {
     "data": {
      "text/html": [
       "<table class=\"dataframe\">\n",
       "<caption>A data.frame: 5 x 5</caption>\n",
       "<thead>\n",
       "\t<tr><th scope=col>CMUN</th><th scope=col>CDIS</th><th scope=col>area</th><th scope=col>X</th><th scope=col>Y</th></tr>\n",
       "\t<tr><th scope=col>&lt;chr&gt;</th><th scope=col>&lt;chr&gt;</th><th scope=col>&lt;[m^2]&gt;</th><th scope=col>&lt;dbl&gt;</th><th scope=col>&lt;dbl&gt;</th></tr>\n",
       "</thead>\n",
       "<tbody>\n",
       "\t<tr><td>001</td><td>01</td><td>21877471 [m^2]</td><td>-3.635710</td><td>41.09315</td></tr>\n",
       "\t<tr><td>002</td><td>01</td><td>19756620 [m^2]</td><td>-3.480171</td><td>40.52396</td></tr>\n",
       "\t<tr><td>003</td><td>01</td><td>25707163 [m^2]</td><td>-3.849961</td><td>40.92033</td></tr>\n",
       "\t<tr><td>004</td><td>01</td><td>22023015 [m^2]</td><td>-3.989259</td><td>40.23240</td></tr>\n",
       "\t<tr><td>005</td><td>01</td><td> 1766786 [m^2]</td><td>-3.364638</td><td>40.48268</td></tr>\n",
       "</tbody>\n",
       "</table>\n"
      ],
      "text/latex": [
       "A data.frame: 5 x 5\n",
       "\\begin{tabular}{lllll}\n",
       " CMUN & CDIS & area & X & Y\\\\\n",
       " <chr> & <chr> & <{[}m\\textasciicircum{}2{]}> & <dbl> & <dbl>\\\\\n",
       "\\hline\n",
       "\t 001 & 01 & 21877471 {[}m\\textasciicircum{}2{]} & -3.635710 & 41.09315\\\\\n",
       "\t 002 & 01 & 19756620 {[}m\\textasciicircum{}2{]} & -3.480171 & 40.52396\\\\\n",
       "\t 003 & 01 & 25707163 {[}m\\textasciicircum{}2{]} & -3.849961 & 40.92033\\\\\n",
       "\t 004 & 01 & 22023015 {[}m\\textasciicircum{}2{]} & -3.989259 & 40.23240\\\\\n",
       "\t 005 & 01 &  1766786 {[}m\\textasciicircum{}2{]} & -3.364638 & 40.48268\\\\\n",
       "\\end{tabular}\n"
      ],
      "text/markdown": [
       "\n",
       "A data.frame: 5 x 5\n",
       "\n",
       "| CMUN &lt;chr&gt; | CDIS &lt;chr&gt; | area &lt;[m^2]&gt; | X &lt;dbl&gt; | Y &lt;dbl&gt; |\n",
       "|---|---|---|---|---|\n",
       "| 001 | 01 | 21877471 [m^2] | -3.635710 | 41.09315 |\n",
       "| 002 | 01 | 19756620 [m^2] | -3.480171 | 40.52396 |\n",
       "| 003 | 01 | 25707163 [m^2] | -3.849961 | 40.92033 |\n",
       "| 004 | 01 | 22023015 [m^2] | -3.989259 | 40.23240 |\n",
       "| 005 | 01 |  1766786 [m^2] | -3.364638 | 40.48268 |\n",
       "\n"
      ],
      "text/plain": [
       "  CMUN CDIS area           X         Y       \n",
       "1 001  01   21877471 [m^2] -3.635710 41.09315\n",
       "2 002  01   19756620 [m^2] -3.480171 40.52396\n",
       "3 003  01   25707163 [m^2] -3.849961 40.92033\n",
       "4 004  01   22023015 [m^2] -3.989259 40.23240\n",
       "5 005  01    1766786 [m^2] -3.364638 40.48268"
      ]
     },
     "metadata": {},
     "output_type": "display_data"
    }
   ],
   "source": [
    "tdata_02 |> slice_head(n = 5)"
   ]
  },
  {
   "attachments": {},
   "cell_type": "markdown",
   "metadata": {},
   "source": [
    "#### Asignación de la superficie a los distritos de los indicadores y cálculo de densidad de población"
   ]
  },
  {
   "cell_type": "code",
   "execution_count": 20,
   "metadata": {
    "vscode": {
     "languageId": "r"
    }
   },
   "outputs": [],
   "source": [
    "tdata_01 <- tdata_01 |>\n",
    "    inner_join(tdata_02, \n",
    "                by = c(\"CMUN\" = \"CMUN\", \n",
    "                \"dist\" = \"CDIS\")) |>\n",
    "    mutate(densidad_hab_km = as.numeric(t1_1/(area*10^(-6))),\n",
    "    area_km2 = as.numeric(area*10^(-6))) |>\n",
    "    select(-area)"
   ]
  },
  {
   "attachments": {},
   "cell_type": "markdown",
   "metadata": {},
   "source": [
    "Estructura de los datos:"
   ]
  },
  {
   "cell_type": "code",
   "execution_count": 21,
   "metadata": {
    "vscode": {
     "languageId": "r"
    }
   },
   "outputs": [
    {
     "name": "stdout",
     "output_type": "stream",
     "text": [
      "Rows: 247\n",
      "Columns: 22\n",
      "$ CMUN            \u001b[3m\u001b[90m<chr>\u001b[39m\u001b[23m \"001\", \"002\", \"003\", \"004\", \"005\", \"005\", \"005\", \"005\"~\n",
      "$ dist            \u001b[3m\u001b[90m<chr>\u001b[39m\u001b[23m \"01\", \"01\", \"01\", \"01\", \"01\", \"02\", \"03\", \"04\", \"05\", ~\n",
      "$ nsec            \u001b[3m\u001b[90m<int>\u001b[39m\u001b[23m 1, 2, 1, 4, 23, 36, 16, 18, 32, 67, 19, 37, 29, 35, 1,~\n",
      "$ t3_1            \u001b[3m\u001b[90m<dbl>\u001b[39m\u001b[23m NA, 39.40747, 47.45970, 41.46662, 45.99877, 42.75131, ~\n",
      "$ t1_1            \u001b[3m\u001b[90m<dbl>\u001b[39m\u001b[23m 55, 4793, 248, 9946, 31006, 54049, 28117, 38778, 43620~\n",
      "$ t2_1            \u001b[3m\u001b[90m<dbl>\u001b[39m\u001b[23m NA, 0.4777851, 0.3952000, 0.5015109, 0.5298303, 0.5115~\n",
      "$ t2_2            \u001b[3m\u001b[90m<dbl>\u001b[39m\u001b[23m NA, 0.5222149, 0.6048000, 0.4984891, 0.4701697, 0.4884~\n",
      "$ t4_1            \u001b[3m\u001b[90m<dbl>\u001b[39m\u001b[23m NA, 0.1696289, 0.1371000, 0.1810684, 0.1141978, 0.1468~\n",
      "$ t4_2            \u001b[3m\u001b[90m<dbl>\u001b[39m\u001b[23m NA, 0.7218958, 0.6573000, 0.6420633, 0.6427127, 0.6644~\n",
      "$ t4_3            \u001b[3m\u001b[90m<dbl>\u001b[39m\u001b[23m NA, 0.10847530, 0.20560000, 0.17684664, 0.24307467, 0.~\n",
      "$ t5_1            \u001b[3m\u001b[90m<dbl>\u001b[39m\u001b[23m NA, 0.15562992, 0.11290000, 0.15474242, 0.19647849, 0.~\n",
      "$ t6_1            \u001b[3m\u001b[90m<dbl>\u001b[39m\u001b[23m NA, 0.1959363, 0.1411000, 0.1912543, 0.2400069, 0.2147~\n",
      "$ t7_1            \u001b[3m\u001b[90m<dbl>\u001b[39m\u001b[23m NA, 0.41318314, 0.15420000, 0.15732451, 0.07438075, 0.~\n",
      "$ t8_1            \u001b[3m\u001b[90m<dbl>\u001b[39m\u001b[23m NA, 0.40995322, 0.14490000, 0.15046840, 0.06545227, 0.~\n",
      "$ t9_1            \u001b[3m\u001b[90m<dbl>\u001b[39m\u001b[23m NA, 0.4407990, 0.5280000, 0.2942034, 0.3850913, 0.2235~\n",
      "$ t10_1           \u001b[3m\u001b[90m<dbl>\u001b[39m\u001b[23m NA, 0.10715222, 0.09320000, 0.16675872, 0.14129129, 0.~\n",
      "$ t11_1           \u001b[3m\u001b[90m<dbl>\u001b[39m\u001b[23m NA, 0.6008132, 0.5000000, 0.4777910, 0.4565679, 0.4588~\n",
      "$ t12_1           \u001b[3m\u001b[90m<dbl>\u001b[39m\u001b[23m NA, 0.6730932, 0.5514000, 0.5729139, 0.5316057, 0.5641~\n",
      "$ X               \u001b[3m\u001b[90m<dbl>\u001b[39m\u001b[23m -3.635710, -3.480171, -3.849961, -3.989259, -3.364638,~\n",
      "$ Y               \u001b[3m\u001b[90m<dbl>\u001b[39m\u001b[23m 41.09315, 40.52396, 40.92033, 40.23240, 40.48268, 40.4~\n",
      "$ densidad_hab_km \u001b[3m\u001b[90m<dbl>\u001b[39m\u001b[23m 2.514002, 242.602224, 9.647117, 451.618447, 17549.3832~\n",
      "$ area_km2        \u001b[3m\u001b[90m<dbl>\u001b[39m\u001b[23m 21.877471, 19.756620, 25.707163, 22.023015, 1.766786, ~\n"
     ]
    }
   ],
   "source": [
    "glimpse(tdata_01)"
   ]
  },
  {
   "attachments": {},
   "cell_type": "markdown",
   "metadata": {},
   "source": [
    "Muestra primeros datos:"
   ]
  },
  {
   "cell_type": "code",
   "execution_count": 22,
   "metadata": {
    "vscode": {
     "languageId": "r"
    }
   },
   "outputs": [
    {
     "data": {
      "text/html": [
       "<table class=\"dataframe\">\n",
       "<caption>A tibble: 10 x 22</caption>\n",
       "<thead>\n",
       "\t<tr><th scope=col>CMUN</th><th scope=col>dist</th><th scope=col>nsec</th><th scope=col>t3_1</th><th scope=col>t1_1</th><th scope=col>t2_1</th><th scope=col>t2_2</th><th scope=col>t4_1</th><th scope=col>t4_2</th><th scope=col>t4_3</th><th scope=col>...</th><th scope=col>t7_1</th><th scope=col>t8_1</th><th scope=col>t9_1</th><th scope=col>t10_1</th><th scope=col>t11_1</th><th scope=col>t12_1</th><th scope=col>X</th><th scope=col>Y</th><th scope=col>densidad_hab_km</th><th scope=col>area_km2</th></tr>\n",
       "\t<tr><th scope=col>&lt;chr&gt;</th><th scope=col>&lt;chr&gt;</th><th scope=col>&lt;int&gt;</th><th scope=col>&lt;dbl&gt;</th><th scope=col>&lt;dbl&gt;</th><th scope=col>&lt;dbl&gt;</th><th scope=col>&lt;dbl&gt;</th><th scope=col>&lt;dbl&gt;</th><th scope=col>&lt;dbl&gt;</th><th scope=col>&lt;dbl&gt;</th><th scope=col>...</th><th scope=col>&lt;dbl&gt;</th><th scope=col>&lt;dbl&gt;</th><th scope=col>&lt;dbl&gt;</th><th scope=col>&lt;dbl&gt;</th><th scope=col>&lt;dbl&gt;</th><th scope=col>&lt;dbl&gt;</th><th scope=col>&lt;dbl&gt;</th><th scope=col>&lt;dbl&gt;</th><th scope=col>&lt;dbl&gt;</th><th scope=col>&lt;dbl&gt;</th></tr>\n",
       "</thead>\n",
       "<tbody>\n",
       "\t<tr><td>001</td><td>01</td><td> 1</td><td>      NA</td><td>    55</td><td>       NA</td><td>       NA</td><td>       NA</td><td>       NA</td><td>        NA</td><td>...</td><td>        NA</td><td>        NA</td><td>       NA</td><td>        NA</td><td>       NA</td><td>       NA</td><td>-3.635710</td><td>41.09315</td><td>    2.514002</td><td>21.877471</td></tr>\n",
       "\t<tr><td>002</td><td>01</td><td> 2</td><td>39.40747</td><td>  4793</td><td>0.4777851</td><td>0.5222149</td><td>0.1696289</td><td>0.7218958</td><td>0.10847530</td><td>...</td><td>0.41318314</td><td>0.40995322</td><td>0.4407990</td><td>0.10715222</td><td>0.6008132</td><td>0.6730932</td><td>-3.480171</td><td>40.52396</td><td>  242.602224</td><td>19.756620</td></tr>\n",
       "\t<tr><td>003</td><td>01</td><td> 1</td><td>47.45970</td><td>   248</td><td>0.3952000</td><td>0.6048000</td><td>0.1371000</td><td>0.6573000</td><td>0.20560000</td><td>...</td><td>0.15420000</td><td>0.14490000</td><td>0.5280000</td><td>0.09320000</td><td>0.5000000</td><td>0.5514000</td><td>-3.849961</td><td>40.92033</td><td>    9.647117</td><td>25.707163</td></tr>\n",
       "\t<tr><td>004</td><td>01</td><td> 4</td><td>41.46662</td><td>  9946</td><td>0.5015109</td><td>0.4984891</td><td>0.1810684</td><td>0.6420633</td><td>0.17684664</td><td>...</td><td>0.15732451</td><td>0.15046840</td><td>0.2942034</td><td>0.16675872</td><td>0.4777910</td><td>0.5729139</td><td>-3.989259</td><td>40.23240</td><td>  451.618447</td><td>22.023015</td></tr>\n",
       "\t<tr><td>005</td><td>01</td><td>23</td><td>45.99877</td><td> 31006</td><td>0.5298303</td><td>0.4701697</td><td>0.1141978</td><td>0.6427127</td><td>0.24307467</td><td>...</td><td>0.07438075</td><td>0.06545227</td><td>0.3850913</td><td>0.14129129</td><td>0.4565679</td><td>0.5316057</td><td>-3.364638</td><td>40.48268</td><td>17549.383204</td><td> 1.766786</td></tr>\n",
       "\t<tr><td>005</td><td>02</td><td>36</td><td>42.75131</td><td> 54049</td><td>0.5115035</td><td>0.4884965</td><td>0.1468103</td><td>0.6644351</td><td>0.18876028</td><td>...</td><td>0.05696805</td><td>0.04598075</td><td>0.2235184</td><td>0.18975353</td><td>0.4588558</td><td>0.5641214</td><td>-3.392389</td><td>40.46546</td><td> 3311.637201</td><td>16.320930</td></tr>\n",
       "\t<tr><td>005</td><td>03</td><td>16</td><td>41.42790</td><td> 28117</td><td>0.5083306</td><td>0.4916694</td><td>0.1698581</td><td>0.6688123</td><td>0.16133489</td><td>...</td><td>0.06638436</td><td>0.05531371</td><td>0.3453951</td><td>0.14233096</td><td>0.5266065</td><td>0.6100339</td><td>-3.407421</td><td>40.50578</td><td>  994.762666</td><td>28.265033</td></tr>\n",
       "\t<tr><td>005</td><td>04</td><td>18</td><td>36.86569</td><td> 38778</td><td>0.5056366</td><td>0.4943634</td><td>0.2129622</td><td>0.7023030</td><td>0.08472625</td><td>...</td><td>0.08816943</td><td>0.07436444</td><td>0.4732138</td><td>0.09724364</td><td>0.6201590</td><td>0.6860198</td><td>-3.353576</td><td>40.51396</td><td> 2564.425664</td><td>15.121515</td></tr>\n",
       "\t<tr><td>005</td><td>05</td><td>32</td><td>45.96147</td><td> 43620</td><td>0.5196190</td><td>0.4803810</td><td>0.1207394</td><td>0.6332726</td><td>0.24598808</td><td>...</td><td>0.06353979</td><td>0.05499608</td><td>0.3239683</td><td>0.15902806</td><td>0.4377263</td><td>0.5203103</td><td>-3.327083</td><td>40.49086</td><td> 1619.047747</td><td>26.941763</td></tr>\n",
       "\t<tr><td>006</td><td>01</td><td>67</td><td>40.89541</td><td>116895</td><td>0.5220080</td><td>0.4779920</td><td>0.1733979</td><td>0.6579805</td><td>0.16861498</td><td>...</td><td>0.06842997</td><td>0.05762466</td><td>0.4468360</td><td>0.10299495</td><td>0.5243721</td><td>0.5837953</td><td>-3.630115</td><td>40.53458</td><td> 2582.069871</td><td>45.271819</td></tr>\n",
       "</tbody>\n",
       "</table>\n"
      ],
      "text/latex": [
       "A tibble: 10 x 22\n",
       "\\begin{tabular}{lllllllllllllllllllll}\n",
       " CMUN & dist & nsec & t3\\_1 & t1\\_1 & t2\\_1 & t2\\_2 & t4\\_1 & t4\\_2 & t4\\_3 & ... & t7\\_1 & t8\\_1 & t9\\_1 & t10\\_1 & t11\\_1 & t12\\_1 & X & Y & densidad\\_hab\\_km & area\\_km2\\\\\n",
       " <chr> & <chr> & <int> & <dbl> & <dbl> & <dbl> & <dbl> & <dbl> & <dbl> & <dbl> & ... & <dbl> & <dbl> & <dbl> & <dbl> & <dbl> & <dbl> & <dbl> & <dbl> & <dbl> & <dbl>\\\\\n",
       "\\hline\n",
       "\t 001 & 01 &  1 &       NA &     55 &        NA &        NA &        NA &        NA &         NA & ... &         NA &         NA &        NA &         NA &        NA &        NA & -3.635710 & 41.09315 &     2.514002 & 21.877471\\\\\n",
       "\t 002 & 01 &  2 & 39.40747 &   4793 & 0.4777851 & 0.5222149 & 0.1696289 & 0.7218958 & 0.10847530 & ... & 0.41318314 & 0.40995322 & 0.4407990 & 0.10715222 & 0.6008132 & 0.6730932 & -3.480171 & 40.52396 &   242.602224 & 19.756620\\\\\n",
       "\t 003 & 01 &  1 & 47.45970 &    248 & 0.3952000 & 0.6048000 & 0.1371000 & 0.6573000 & 0.20560000 & ... & 0.15420000 & 0.14490000 & 0.5280000 & 0.09320000 & 0.5000000 & 0.5514000 & -3.849961 & 40.92033 &     9.647117 & 25.707163\\\\\n",
       "\t 004 & 01 &  4 & 41.46662 &   9946 & 0.5015109 & 0.4984891 & 0.1810684 & 0.6420633 & 0.17684664 & ... & 0.15732451 & 0.15046840 & 0.2942034 & 0.16675872 & 0.4777910 & 0.5729139 & -3.989259 & 40.23240 &   451.618447 & 22.023015\\\\\n",
       "\t 005 & 01 & 23 & 45.99877 &  31006 & 0.5298303 & 0.4701697 & 0.1141978 & 0.6427127 & 0.24307467 & ... & 0.07438075 & 0.06545227 & 0.3850913 & 0.14129129 & 0.4565679 & 0.5316057 & -3.364638 & 40.48268 & 17549.383204 &  1.766786\\\\\n",
       "\t 005 & 02 & 36 & 42.75131 &  54049 & 0.5115035 & 0.4884965 & 0.1468103 & 0.6644351 & 0.18876028 & ... & 0.05696805 & 0.04598075 & 0.2235184 & 0.18975353 & 0.4588558 & 0.5641214 & -3.392389 & 40.46546 &  3311.637201 & 16.320930\\\\\n",
       "\t 005 & 03 & 16 & 41.42790 &  28117 & 0.5083306 & 0.4916694 & 0.1698581 & 0.6688123 & 0.16133489 & ... & 0.06638436 & 0.05531371 & 0.3453951 & 0.14233096 & 0.5266065 & 0.6100339 & -3.407421 & 40.50578 &   994.762666 & 28.265033\\\\\n",
       "\t 005 & 04 & 18 & 36.86569 &  38778 & 0.5056366 & 0.4943634 & 0.2129622 & 0.7023030 & 0.08472625 & ... & 0.08816943 & 0.07436444 & 0.4732138 & 0.09724364 & 0.6201590 & 0.6860198 & -3.353576 & 40.51396 &  2564.425664 & 15.121515\\\\\n",
       "\t 005 & 05 & 32 & 45.96147 &  43620 & 0.5196190 & 0.4803810 & 0.1207394 & 0.6332726 & 0.24598808 & ... & 0.06353979 & 0.05499608 & 0.3239683 & 0.15902806 & 0.4377263 & 0.5203103 & -3.327083 & 40.49086 &  1619.047747 & 26.941763\\\\\n",
       "\t 006 & 01 & 67 & 40.89541 & 116895 & 0.5220080 & 0.4779920 & 0.1733979 & 0.6579805 & 0.16861498 & ... & 0.06842997 & 0.05762466 & 0.4468360 & 0.10299495 & 0.5243721 & 0.5837953 & -3.630115 & 40.53458 &  2582.069871 & 45.271819\\\\\n",
       "\\end{tabular}\n"
      ],
      "text/markdown": [
       "\n",
       "A tibble: 10 x 22\n",
       "\n",
       "| CMUN &lt;chr&gt; | dist &lt;chr&gt; | nsec &lt;int&gt; | t3_1 &lt;dbl&gt; | t1_1 &lt;dbl&gt; | t2_1 &lt;dbl&gt; | t2_2 &lt;dbl&gt; | t4_1 &lt;dbl&gt; | t4_2 &lt;dbl&gt; | t4_3 &lt;dbl&gt; | ... ... | t7_1 &lt;dbl&gt; | t8_1 &lt;dbl&gt; | t9_1 &lt;dbl&gt; | t10_1 &lt;dbl&gt; | t11_1 &lt;dbl&gt; | t12_1 &lt;dbl&gt; | X &lt;dbl&gt; | Y &lt;dbl&gt; | densidad_hab_km &lt;dbl&gt; | area_km2 &lt;dbl&gt; |\n",
       "|---|---|---|---|---|---|---|---|---|---|---|---|---|---|---|---|---|---|---|---|---|\n",
       "| 001 | 01 |  1 |       NA |     55 |        NA |        NA |        NA |        NA |         NA | ... |         NA |         NA |        NA |         NA |        NA |        NA | -3.635710 | 41.09315 |     2.514002 | 21.877471 |\n",
       "| 002 | 01 |  2 | 39.40747 |   4793 | 0.4777851 | 0.5222149 | 0.1696289 | 0.7218958 | 0.10847530 | ... | 0.41318314 | 0.40995322 | 0.4407990 | 0.10715222 | 0.6008132 | 0.6730932 | -3.480171 | 40.52396 |   242.602224 | 19.756620 |\n",
       "| 003 | 01 |  1 | 47.45970 |    248 | 0.3952000 | 0.6048000 | 0.1371000 | 0.6573000 | 0.20560000 | ... | 0.15420000 | 0.14490000 | 0.5280000 | 0.09320000 | 0.5000000 | 0.5514000 | -3.849961 | 40.92033 |     9.647117 | 25.707163 |\n",
       "| 004 | 01 |  4 | 41.46662 |   9946 | 0.5015109 | 0.4984891 | 0.1810684 | 0.6420633 | 0.17684664 | ... | 0.15732451 | 0.15046840 | 0.2942034 | 0.16675872 | 0.4777910 | 0.5729139 | -3.989259 | 40.23240 |   451.618447 | 22.023015 |\n",
       "| 005 | 01 | 23 | 45.99877 |  31006 | 0.5298303 | 0.4701697 | 0.1141978 | 0.6427127 | 0.24307467 | ... | 0.07438075 | 0.06545227 | 0.3850913 | 0.14129129 | 0.4565679 | 0.5316057 | -3.364638 | 40.48268 | 17549.383204 |  1.766786 |\n",
       "| 005 | 02 | 36 | 42.75131 |  54049 | 0.5115035 | 0.4884965 | 0.1468103 | 0.6644351 | 0.18876028 | ... | 0.05696805 | 0.04598075 | 0.2235184 | 0.18975353 | 0.4588558 | 0.5641214 | -3.392389 | 40.46546 |  3311.637201 | 16.320930 |\n",
       "| 005 | 03 | 16 | 41.42790 |  28117 | 0.5083306 | 0.4916694 | 0.1698581 | 0.6688123 | 0.16133489 | ... | 0.06638436 | 0.05531371 | 0.3453951 | 0.14233096 | 0.5266065 | 0.6100339 | -3.407421 | 40.50578 |   994.762666 | 28.265033 |\n",
       "| 005 | 04 | 18 | 36.86569 |  38778 | 0.5056366 | 0.4943634 | 0.2129622 | 0.7023030 | 0.08472625 | ... | 0.08816943 | 0.07436444 | 0.4732138 | 0.09724364 | 0.6201590 | 0.6860198 | -3.353576 | 40.51396 |  2564.425664 | 15.121515 |\n",
       "| 005 | 05 | 32 | 45.96147 |  43620 | 0.5196190 | 0.4803810 | 0.1207394 | 0.6332726 | 0.24598808 | ... | 0.06353979 | 0.05499608 | 0.3239683 | 0.15902806 | 0.4377263 | 0.5203103 | -3.327083 | 40.49086 |  1619.047747 | 26.941763 |\n",
       "| 006 | 01 | 67 | 40.89541 | 116895 | 0.5220080 | 0.4779920 | 0.1733979 | 0.6579805 | 0.16861498 | ... | 0.06842997 | 0.05762466 | 0.4468360 | 0.10299495 | 0.5243721 | 0.5837953 | -3.630115 | 40.53458 |  2582.069871 | 45.271819 |\n",
       "\n"
      ],
      "text/plain": [
       "   CMUN dist nsec t3_1     t1_1   t2_1      t2_2      t4_1      t4_2     \n",
       "1  001  01    1         NA     55        NA        NA        NA        NA\n",
       "2  002  01    2   39.40747   4793 0.4777851 0.5222149 0.1696289 0.7218958\n",
       "3  003  01    1   47.45970    248 0.3952000 0.6048000 0.1371000 0.6573000\n",
       "4  004  01    4   41.46662   9946 0.5015109 0.4984891 0.1810684 0.6420633\n",
       "5  005  01   23   45.99877  31006 0.5298303 0.4701697 0.1141978 0.6427127\n",
       "6  005  02   36   42.75131  54049 0.5115035 0.4884965 0.1468103 0.6644351\n",
       "7  005  03   16   41.42790  28117 0.5083306 0.4916694 0.1698581 0.6688123\n",
       "8  005  04   18   36.86569  38778 0.5056366 0.4943634 0.2129622 0.7023030\n",
       "9  005  05   32   45.96147  43620 0.5196190 0.4803810 0.1207394 0.6332726\n",
       "10 006  01   67   40.89541 116895 0.5220080 0.4779920 0.1733979 0.6579805\n",
       "   t4_3       ... t7_1       t8_1       t9_1      t10_1      t11_1    \n",
       "1          NA ...         NA         NA        NA         NA        NA\n",
       "2  0.10847530 ... 0.41318314 0.40995322 0.4407990 0.10715222 0.6008132\n",
       "3  0.20560000 ... 0.15420000 0.14490000 0.5280000 0.09320000 0.5000000\n",
       "4  0.17684664 ... 0.15732451 0.15046840 0.2942034 0.16675872 0.4777910\n",
       "5  0.24307467 ... 0.07438075 0.06545227 0.3850913 0.14129129 0.4565679\n",
       "6  0.18876028 ... 0.05696805 0.04598075 0.2235184 0.18975353 0.4588558\n",
       "7  0.16133489 ... 0.06638436 0.05531371 0.3453951 0.14233096 0.5266065\n",
       "8  0.08472625 ... 0.08816943 0.07436444 0.4732138 0.09724364 0.6201590\n",
       "9  0.24598808 ... 0.06353979 0.05499608 0.3239683 0.15902806 0.4377263\n",
       "10 0.16861498 ... 0.06842997 0.05762466 0.4468360 0.10299495 0.5243721\n",
       "   t12_1     X         Y        densidad_hab_km area_km2 \n",
       "1         NA -3.635710 41.09315     2.514002    21.877471\n",
       "2  0.6730932 -3.480171 40.52396   242.602224    19.756620\n",
       "3  0.5514000 -3.849961 40.92033     9.647117    25.707163\n",
       "4  0.5729139 -3.989259 40.23240   451.618447    22.023015\n",
       "5  0.5316057 -3.364638 40.48268 17549.383204     1.766786\n",
       "6  0.5641214 -3.392389 40.46546  3311.637201    16.320930\n",
       "7  0.6100339 -3.407421 40.50578   994.762666    28.265033\n",
       "8  0.6860198 -3.353576 40.51396  2564.425664    15.121515\n",
       "9  0.5203103 -3.327083 40.49086  1619.047747    26.941763\n",
       "10 0.5837953 -3.630115 40.53458  2582.069871    45.271819"
      ]
     },
     "metadata": {},
     "output_type": "display_data"
    }
   ],
   "source": [
    "tdata_01 |> \n",
    "    slice_head(n = 10)"
   ]
  },
  {
   "cell_type": "markdown",
   "metadata": {
    "slideshow": {
     "slide_type": "slide"
    }
   },
   "source": [
    "## Synthetic Data Generation"
   ]
  },
  {
   "attachments": {},
   "cell_type": "markdown",
   "metadata": {
    "slideshow": {
     "slide_type": "slide"
    }
   },
   "source": [
    "Estos datos no requieren tareas de este tipo."
   ]
  },
  {
   "cell_type": "markdown",
   "metadata": {
    "slideshow": {
     "slide_type": "slide"
    }
   },
   "source": [
    "## Fake Data Generation"
   ]
  },
  {
   "attachments": {},
   "cell_type": "markdown",
   "metadata": {
    "slideshow": {
     "slide_type": "slide"
    }
   },
   "source": [
    "Estos datos no requieren tareas de este tipo."
   ]
  },
  {
   "cell_type": "markdown",
   "metadata": {
    "slideshow": {
     "slide_type": "slide"
    }
   },
   "source": [
    "## Open Data"
   ]
  },
  {
   "attachments": {},
   "cell_type": "markdown",
   "metadata": {
    "slideshow": {
     "slide_type": "slide"
    }
   },
   "source": [
    "Estos datos no requieren tareas de este tipo."
   ]
  },
  {
   "cell_type": "markdown",
   "metadata": {},
   "source": [
    "## <font color='green'>Data Save</font>"
   ]
  },
  {
   "cell_type": "markdown",
   "metadata": {},
   "source": [
    "Este proceso, puede copiarse y repetirse en aquellas partes del notebbok que necesiten guardar datos.\n",
    "Recuerde cambiar la extensión añadida del fichero para diferenciarlas"
   ]
  },
  {
   "cell_type": "markdown",
   "metadata": {},
   "source": [
    "<font color='tomato'> Identificamos los datos a guardar</font>"
   ]
  },
  {
   "cell_type": "code",
   "execution_count": 23,
   "metadata": {
    "ExecuteTime": {
     "end_time": "2020-12-25T17:59:27.022001Z",
     "start_time": "2020-12-25T17:59:15.986986Z"
    },
    "scrolled": false,
    "vscode": {
     "languageId": "r"
    }
   },
   "outputs": [],
   "source": [
    "data_to_save <- tdata_01"
   ]
  },
  {
   "attachments": {},
   "cell_type": "markdown",
   "metadata": {},
   "source": [
    "\n",
    "<font color='tomato'>Estructura de nombre de archivos:</font>\n",
    "\n",
    "* Código del caso de uso, por ejemplo \"CU_04\"\n",
    "* Número del proceso que lo genera, por ejemplo \"_05\".\n",
    "* Número de la tarea que lo genera, por ejemplo \"_01\"\n",
    "* En caso de generarse varios ficheros en la misma tarea, llevarán _01 _02 ... después\n",
    "* Nombre: identificativo de \"properData\", por ejemplo \"_zonasgeo\"\n",
    "* Extensión del archivo\n",
    "\n",
    "Ejemplo: \"CU_04_05_01_01_zonasgeo.json, primer fichero que se genera en la tarea 01 del proceso 05 (Data Collection) para el caso de uso 04 (vacunas)\n",
    "\n",
    "Importante mantener los guiones bajos antes de proceso, tarea, archivo y nombre"
   ]
  },
  {
   "attachments": {},
   "cell_type": "markdown",
   "metadata": {},
   "source": [
    "### Proceso 05"
   ]
  },
  {
   "attachments": {},
   "cell_type": "markdown",
   "metadata": {},
   "source": [
    "Archivo de indicadores por distrito"
   ]
  },
  {
   "cell_type": "code",
   "execution_count": 24,
   "metadata": {
    "ExecuteTime": {
     "end_time": "2020-12-25T17:59:27.022001Z",
     "start_time": "2020-12-25T17:59:15.986986Z"
    },
    "scrolled": false,
    "vscode": {
     "languageId": "r"
    }
   },
   "outputs": [],
   "source": [
    "caso <- \"CU_18\"\n",
    "proceso <- '_05'\n",
    "tarea <- \"_10\"\n",
    "archivo <- \"\"\n",
    "proper <- \"_indicadores_distritos\"\n",
    "extension <- \".csv\""
   ]
  },
  {
   "attachments": {},
   "cell_type": "markdown",
   "metadata": {},
   "source": [
    "<font color='tomato'><b> OPCION A:</b> Uso del paquete \"tcltk\" para mayor comodidad</font>\n",
    "\n",
    "* Buscar carpeta, escribir nombre de archivo SIN extensión (se especifica en el código)\n",
    "* Especificar sufijo2 si es necesario\n",
    "* Cambiar datos por datos_xx si es necesario"
   ]
  },
  {
   "cell_type": "code",
   "execution_count": null,
   "metadata": {
    "ExecuteTime": {
     "end_time": "2020-12-25T17:59:27.022001Z",
     "start_time": "2020-12-25T17:59:15.986986Z"
    },
    "scrolled": false,
    "vscode": {
     "languageId": "r"
    }
   },
   "outputs": [],
   "source": [
    "# file_save <- paste0(caso, proceso, tarea, tcltk::tkgetSaveFile(), proper, extension) \n",
    "# path_out <- paste0(oPath, file_save_01)\n",
    "# write_csv(data_to_save, path_out)\n",
    "\n",
    "# cat('File saved as: ')\n",
    "# path_out"
   ]
  },
  {
   "attachments": {},
   "cell_type": "markdown",
   "metadata": {},
   "source": [
    "<font color='tomato'><b> OPCION B:</b> Especificar el nombre de archivo</font>"
   ]
  },
  {
   "attachments": {},
   "cell_type": "markdown",
   "metadata": {},
   "source": [
    "- Los ficheros de salida del proceso van siempre a Data/Output/.  "
   ]
  },
  {
   "cell_type": "code",
   "execution_count": 25,
   "metadata": {
    "ExecuteTime": {
     "end_time": "2021-01-26T18:40:31.258294Z",
     "start_time": "2021-01-26T18:40:26.061847Z"
    },
    "slideshow": {
     "slide_type": "subslide"
    },
    "vscode": {
     "languageId": "r"
    }
   },
   "outputs": [
    {
     "name": "stdout",
     "output_type": "stream",
     "text": [
      "File saved as: "
     ]
    },
    {
     "data": {
      "text/html": [
       "'Data/Output/CU_18_05_10_indicadores_distritos.csv'"
      ],
      "text/latex": [
       "'Data/Output/CU\\_18\\_05\\_10\\_indicadores\\_distritos.csv'"
      ],
      "text/markdown": [
       "'Data/Output/CU_18_05_10_indicadores_distritos.csv'"
      ],
      "text/plain": [
       "[1] \"Data/Output/CU_18_05_10_indicadores_distritos.csv\""
      ]
     },
     "metadata": {},
     "output_type": "display_data"
    }
   ],
   "source": [
    "file_save <- paste0(caso, proceso, tarea, archivo, proper, extension) \n",
    "path_out <- paste0(oPath, file_save)\n",
    "write_csv(data_to_save, path_out)\n",
    "\n",
    "cat('File saved as: ')\n",
    "path_out"
   ]
  },
  {
   "cell_type": "markdown",
   "metadata": {},
   "source": [
    "## <font color=' #2874a6 '>Main Conclusions</font>"
   ]
  },
  {
   "cell_type": "markdown",
   "metadata": {
    "slideshow": {
     "slide_type": "slide"
    }
   },
   "source": [
    "<font color='steelblue'>List and describe the general conclusions of the analysis carried out​.</font>"
   ]
  },
  {
   "attachments": {},
   "cell_type": "markdown",
   "metadata": {},
   "source": [
    "### Prerequisites\n",
    "\n",
    "This working code needs the following conditions:\n",
    "\n",
    "* For using the interactive selection of file, the {tcltk} package must be installed. It is not needed in production.\n",
    "* The {sf}, {readr} and {dplyr} packages must be installed. \n",
    "* The data paths `Data/Input` and `Data/Output` must exist (relative to the notebook path)"
   ]
  },
  {
   "attachments": {},
   "cell_type": "markdown",
   "metadata": {},
   "source": [
    "### Configuration Management\n",
    "\n",
    "This notebook has been tested with the following versions of R and packages. It cannot be assured that later versions work in the same way:\n",
    "* R 4.2.2\n",
    "* tcltk 4.2.2\n",
    "* readr 2.1.3\n",
    "* dplyr 1.0.10"
   ]
  },
  {
   "attachments": {},
   "cell_type": "markdown",
   "metadata": {},
   "source": [
    "### Data structures"
   ]
  },
  {
   "cell_type": "code",
   "execution_count": 26,
   "metadata": {
    "vscode": {
     "languageId": "r"
    }
   },
   "outputs": [
    {
     "name": "stdout",
     "output_type": "stream",
     "text": [
      "Rows: 247\n",
      "Columns: 22\n",
      "$ CMUN            \u001b[3m\u001b[90m<chr>\u001b[39m\u001b[23m \"001\", \"002\", \"003\", \"004\", \"005\", \"005\", \"005\", \"005\"~\n",
      "$ dist            \u001b[3m\u001b[90m<chr>\u001b[39m\u001b[23m \"01\", \"01\", \"01\", \"01\", \"01\", \"02\", \"03\", \"04\", \"05\", ~\n",
      "$ nsec            \u001b[3m\u001b[90m<int>\u001b[39m\u001b[23m 1, 2, 1, 4, 23, 36, 16, 18, 32, 67, 19, 37, 29, 35, 1,~\n",
      "$ t3_1            \u001b[3m\u001b[90m<dbl>\u001b[39m\u001b[23m NA, 39.40747, 47.45970, 41.46662, 45.99877, 42.75131, ~\n",
      "$ t1_1            \u001b[3m\u001b[90m<dbl>\u001b[39m\u001b[23m 55, 4793, 248, 9946, 31006, 54049, 28117, 38778, 43620~\n",
      "$ t2_1            \u001b[3m\u001b[90m<dbl>\u001b[39m\u001b[23m NA, 0.4777851, 0.3952000, 0.5015109, 0.5298303, 0.5115~\n",
      "$ t2_2            \u001b[3m\u001b[90m<dbl>\u001b[39m\u001b[23m NA, 0.5222149, 0.6048000, 0.4984891, 0.4701697, 0.4884~\n",
      "$ t4_1            \u001b[3m\u001b[90m<dbl>\u001b[39m\u001b[23m NA, 0.1696289, 0.1371000, 0.1810684, 0.1141978, 0.1468~\n",
      "$ t4_2            \u001b[3m\u001b[90m<dbl>\u001b[39m\u001b[23m NA, 0.7218958, 0.6573000, 0.6420633, 0.6427127, 0.6644~\n",
      "$ t4_3            \u001b[3m\u001b[90m<dbl>\u001b[39m\u001b[23m NA, 0.10847530, 0.20560000, 0.17684664, 0.24307467, 0.~\n",
      "$ t5_1            \u001b[3m\u001b[90m<dbl>\u001b[39m\u001b[23m NA, 0.15562992, 0.11290000, 0.15474242, 0.19647849, 0.~\n",
      "$ t6_1            \u001b[3m\u001b[90m<dbl>\u001b[39m\u001b[23m NA, 0.1959363, 0.1411000, 0.1912543, 0.2400069, 0.2147~\n",
      "$ t7_1            \u001b[3m\u001b[90m<dbl>\u001b[39m\u001b[23m NA, 0.41318314, 0.15420000, 0.15732451, 0.07438075, 0.~\n",
      "$ t8_1            \u001b[3m\u001b[90m<dbl>\u001b[39m\u001b[23m NA, 0.40995322, 0.14490000, 0.15046840, 0.06545227, 0.~\n",
      "$ t9_1            \u001b[3m\u001b[90m<dbl>\u001b[39m\u001b[23m NA, 0.4407990, 0.5280000, 0.2942034, 0.3850913, 0.2235~\n",
      "$ t10_1           \u001b[3m\u001b[90m<dbl>\u001b[39m\u001b[23m NA, 0.10715222, 0.09320000, 0.16675872, 0.14129129, 0.~\n",
      "$ t11_1           \u001b[3m\u001b[90m<dbl>\u001b[39m\u001b[23m NA, 0.6008132, 0.5000000, 0.4777910, 0.4565679, 0.4588~\n",
      "$ t12_1           \u001b[3m\u001b[90m<dbl>\u001b[39m\u001b[23m NA, 0.6730932, 0.5514000, 0.5729139, 0.5316057, 0.5641~\n",
      "$ X               \u001b[3m\u001b[90m<dbl>\u001b[39m\u001b[23m -3.635710, -3.480171, -3.849961, -3.989259, -3.364638,~\n",
      "$ Y               \u001b[3m\u001b[90m<dbl>\u001b[39m\u001b[23m 41.09315, 40.52396, 40.92033, 40.23240, 40.48268, 40.4~\n",
      "$ densidad_hab_km \u001b[3m\u001b[90m<dbl>\u001b[39m\u001b[23m 2.514002, 242.602224, 9.647117, 451.618447, 17549.3832~\n",
      "$ area_km2        \u001b[3m\u001b[90m<dbl>\u001b[39m\u001b[23m 21.877471, 19.756620, 25.707163, 22.023015, 1.766786, ~\n"
     ]
    }
   ],
   "source": [
    "glimpse(tdata_01)"
   ]
  },
  {
   "attachments": {},
   "cell_type": "markdown",
   "metadata": {},
   "source": [
    "#### Objeto `tdata_01` (indicadores por distrito censal)\n",
    "\n",
    "* Los mismos datos de entrada por sección censal, a los que se le añade la superficie del distrito y su superficie, y se recalculan los indicadores\n",
    "* Indicadores de los 247 distritos de la Comunidad de Madrid y número de secciones que los componen"
   ]
  },
  {
   "attachments": {},
   "cell_type": "markdown",
   "metadata": {},
   "source": [
    "#### Observaciones generales sobre los datos\n",
    "\n",
    "* Ninguna"
   ]
  },
  {
   "attachments": {},
   "cell_type": "markdown",
   "metadata": {},
   "source": [
    "## Consideraciones para despliegue en piloto\n",
    "\n",
    "* Ninguna"
   ]
  },
  {
   "attachments": {},
   "cell_type": "markdown",
   "metadata": {},
   "source": [
    "## Consideraciones para despliegue en producción\n",
    "\n",
    "* Se deben crear los procesos ETL en producción necesarios para que los datos de entrada estén actualizados y tengan su correspondencia en las dos fuentes (INE, CM)"
   ]
  },
  {
   "cell_type": "markdown",
   "metadata": {},
   "source": [
    "## <font color=' #2874a6 '>Main Actions</font>"
   ]
  },
  {
   "cell_type": "markdown",
   "metadata": {},
   "source": [
    "#### <font color=' #2874a6 '>Acciones done</font>"
   ]
  },
  {
   "cell_type": "markdown",
   "metadata": {
    "slideshow": {
     "slide_type": "slide"
    }
   },
   "source": [
    "<font color='steelblue'>Indicate the actions that have been carried out in this process</font>"
   ]
  },
  {
   "attachments": {},
   "cell_type": "markdown",
   "metadata": {},
   "source": [
    "- Se han calculado los indicadores por distrito\n",
    "- Se ha calculado la densidad de población de cada distrito"
   ]
  },
  {
   "cell_type": "markdown",
   "metadata": {},
   "source": [
    "#### <font color=' #2874a6 '>Acctions to perform</font>"
   ]
  },
  {
   "cell_type": "markdown",
   "metadata": {
    "slideshow": {
     "slide_type": "slide"
    }
   },
   "source": [
    "<font color='steelblue'>Indicate the actions that must be carried out in subsequent processes</font>"
   ]
  },
  {
   "attachments": {},
   "cell_type": "markdown",
   "metadata": {},
   "source": [
    "- Se deben unir los datos a los de infraestructuras por distrito para los modelos"
   ]
  },
  {
   "attachments": {},
   "cell_type": "markdown",
   "metadata": {},
   "source": [
    "## <font color='RED'>CODE TO DEPLOY (PILOT)</font>\n",
    "\n",
    "A continuación se incluirá el código que deba ser llevado a despliegue para producción, dado que se entiende efectúa operaciones necesarias sobre los datos en la ejecución del prototipo"
   ]
  },
  {
   "attachments": {},
   "cell_type": "markdown",
   "metadata": {},
   "source": [
    "<font color=' red '><b>Description</b></font>\n",
    "\n",
    "- No hay nada que desplegar en el piloto, ya que estos datos son estáticos o en todo caso cambian con muy poca frecuencia, altamente improbable durante el proyecto.\n"
   ]
  },
  {
   "attachments": {},
   "cell_type": "markdown",
   "metadata": {},
   "source": [
    "<font color=' red '><b>CODE</b></font>"
   ]
  },
  {
   "cell_type": "code",
   "execution_count": null,
   "metadata": {
    "vscode": {
     "languageId": "r"
    }
   },
   "outputs": [],
   "source": [
    "# incluir código"
   ]
  }
 ],
 "metadata": {
  "anaconda-cloud": {},
  "celltoolbar": "Slideshow",
  "hide_input": false,
  "kernelspec": {
   "display_name": "R",
   "language": "R",
   "name": "ir"
  },
  "language_info": {
   "codemirror_mode": "r",
   "file_extension": ".r",
   "mimetype": "text/x-r-source",
   "name": "R",
   "pygments_lexer": "r",
   "version": "4.2.2"
  },
  "latex_envs": {
   "LaTeX_envs_menu_present": true,
   "autoclose": false,
   "autocomplete": true,
   "bibliofile": "biblio.bib",
   "cite_by": "apalike",
   "current_citInitial": 1,
   "eqLabelWithNumbers": true,
   "eqNumInitial": 1,
   "hotkeys": {
    "equation": "Ctrl-E",
    "itemize": "Ctrl-I"
   },
   "labels_anchors": false,
   "latex_user_defs": false,
   "report_style_numbering": true,
   "user_envs_cfg": false
  },
  "toc": {
   "base_numbering": 1,
   "nav_menu": {
    "height": "11.6px",
    "width": "160px"
   },
   "number_sections": false,
   "sideBar": true,
   "skip_h1_title": true,
   "title_cell": "Table of Contents",
   "title_sidebar": "Contents",
   "toc_cell": true,
   "toc_position": {
    "height": "calc(100% - 180px)",
    "left": "10px",
    "top": "150px",
    "width": "209.2px"
   },
   "toc_section_display": true,
   "toc_window_display": true
  },
  "varInspector": {
   "cols": {
    "lenName": 16,
    "lenType": 16,
    "lenVar": 40
   },
   "kernels_config": {
    "python": {
     "delete_cmd_postfix": "",
     "delete_cmd_prefix": "del ",
     "library": "var_list.py",
     "varRefreshCmd": "print(var_dic_list())"
    },
    "r": {
     "delete_cmd_postfix": ") ",
     "delete_cmd_prefix": "rm(",
     "library": "var_list.r",
     "varRefreshCmd": "cat(var_dic_list()) "
    }
   },
   "types_to_exclude": [
    "module",
    "function",
    "builtin_function_or_method",
    "instance",
    "_Feature"
   ],
   "window_display": false
  }
 },
 "nbformat": 4,
 "nbformat_minor": 1
}
