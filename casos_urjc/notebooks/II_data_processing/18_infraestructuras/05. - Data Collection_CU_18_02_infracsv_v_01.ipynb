{
 "cells": [
  {
   "cell_type": "markdown",
   "metadata": {
    "slideshow": {
     "slide_type": "slide"
    }
   },
   "source": [
    "<img src=\".\\images\\Logo.png\" width=150 align=\"left\" /> <img src=\".\\images\\Logo2.jpg\" width=450 align=\"right\" />"
   ]
  },
  {
   "attachments": {},
   "cell_type": "markdown",
   "metadata": {
    "slideshow": {
     "slide_type": "slide"
    }
   },
   "source": [
    "\n",
    "# <center><font color= #1e8449 > <b>CUxx_xxxxx</font></center>"
   ]
  },
  {
   "cell_type": "markdown",
   "metadata": {
    "slideshow": {
     "slide_type": "slide"
    }
   },
   "source": [
    "<font color='steelblue'><b>Citizenlab Data Science Methodology > II - Data Processing Domain </font>\n",
    "***\n",
    "> # <font color='steelblue'> <b>05.- Data Collection</font>"
   ]
  },
  {
   "cell_type": "markdown",
   "metadata": {
    "slideshow": {
     "slide_type": "slide"
    }
   },
   "source": [
    "<font color='steelblue'>Data Collection is the process to obtain and generate (if required) necessary data to model the problem.</font>"
   ]
  },
  {
   "attachments": {},
   "cell_type": "markdown",
   "metadata": {},
   "source": [
    "### 02. Crear csv con datos de infraestructuras\n",
    "\n",
    "* Consolidar los datos en formato shp en data.frames con coordenadas\n",
    "* Unir datos de hospitales de cu_25\n",
    "* Total 12 ficheros de entrada y uno de salida\n",
    "\n",
    "\n",
    "\n",
    "\n",
    "\n"
   ]
  },
  {
   "cell_type": "markdown",
   "metadata": {
    "toc": true
   },
   "source": [
    "<h1>Table of Contents<span class=\"tocSkip\"></span></h1>\n",
    "<div class=\"toc\"><ul class=\"toc-item\"><li><span><a href=\"#Settings\" data-toc-modified-id=\"Settings-1\"><font color=\"green\">Settings</font></a></span></li><li><span><a href=\"#Data-Load\" data-toc-modified-id=\"Data-Load-2\"><font color=\"green\">Data Load</font></a></span></li><li><span><a href=\"#ETL-Processes\" data-toc-modified-id=\"ETL-Processes-3\">ETL Processes</a></span><ul class=\"toc-item\"><li><span><a href=\"#Import-data-from:-CSV,-Excel,-Tab,-JSON,-SQL,-and-Parquet-files\" data-toc-modified-id=\"Import-data-from:-CSV,-Excel,-Tab,-JSON,-SQL,-and-Parquet-files-3.1\">Import data from: CSV, Excel, Tab, JSON, SQL, and Parquet files</a></span></li></ul></li><li><span><a href=\"#Synthetic-Data-Generation\" data-toc-modified-id=\"Synthetic-Data-Generation-4\">Synthetic Data Generation</a></span></li><li><span><a href=\"#Fake-Data-Generation\" data-toc-modified-id=\"Fake-Data-Generation-5\">Fake Data Generation</a></span></li><li><span><a href=\"#Open-Data\" data-toc-modified-id=\"Open-Data-6\">Open Data</a></span></li><li><span><a href=\"#Data-Save\" data-toc-modified-id=\"Data-Save-7\"><font color=\"green\">Data Save</font></a></span></li><li><span><a href=\"#Main-Conclusions\" data-toc-modified-id=\"Main-Conclusions-8\"><font color=\" #2874a6 \">Main Conclusions</font></a></span></li><li><span><a href=\"#Main-Actions\" data-toc-modified-id=\"Main-Actions-9\"><font color=\" #2874a6 \">Main Actions</font></a></span><ul class=\"toc-item\"><li><ul class=\"toc-item\"><li><span><a href=\"#Acciones-done\" data-toc-modified-id=\"Acciones-done-9.0.1\"><font color=\" #2874a6 \">Acciones done</font></a></span></li><li><span><a href=\"#Acctions-to-perform\" data-toc-modified-id=\"Acctions-to-perform-9.0.2\"><font color=\" #2874a6 \">Acctions to perform</font></a></span></li></ul></li></ul></li></ul></div>"
   ]
  },
  {
   "cell_type": "markdown",
   "metadata": {
    "slideshow": {
     "slide_type": "slide"
    }
   },
   "source": [
    "## <font color='green'>Settings</font>"
   ]
  },
  {
   "attachments": {},
   "cell_type": "markdown",
   "metadata": {},
   "source": [
    "### Packages to use\n",
    "\n",
    "- {sf} para datos georeferenciados\n",
    "- {dplyr} para exploración y manipulación de datos\n",
    "- {readr} para leer y escribir archivos csv\n"
   ]
  },
  {
   "cell_type": "code",
   "execution_count": 1,
   "metadata": {
    "ExecuteTime": {
     "end_time": "2021-12-03T15:23:33.762841Z",
     "start_time": "2021-12-03T15:23:08.580267Z"
    },
    "slideshow": {
     "slide_type": "subslide"
    },
    "vscode": {
     "languageId": "r"
    }
   },
   "outputs": [
    {
     "name": "stderr",
     "output_type": "stream",
     "text": [
      "Linking to GEOS 3.10.2, GDAL 3.4.2, PROJ 8.2.1; sf_use_s2() is TRUE\n",
      "\n",
      "\n",
      "Attaching package: ‘dplyr’\n",
      "\n",
      "\n",
      "The following objects are masked from ‘package:stats’:\n",
      "\n",
      "    filter, lag\n",
      "\n",
      "\n",
      "The following objects are masked from ‘package:base’:\n",
      "\n",
      "    intersect, setdiff, setequal, union\n",
      "\n",
      "\n"
     ]
    }
   ],
   "source": [
    "library(sf)\n",
    "library(dplyr)\n",
    "library(readr)\n"
   ]
  },
  {
   "attachments": {},
   "cell_type": "markdown",
   "metadata": {},
   "source": [
    "### Paths"
   ]
  },
  {
   "cell_type": "code",
   "execution_count": 2,
   "metadata": {
    "vscode": {
     "languageId": "r"
    }
   },
   "outputs": [],
   "source": [
    "iPath <- \"Data/Input/\"\n",
    "oPath <- \"Data/Output/\""
   ]
  },
  {
   "attachments": {},
   "cell_type": "markdown",
   "metadata": {
    "slideshow": {
     "slide_type": "slide"
    }
   },
   "source": [
    "## <font color='green'>Data Load</font>\n",
    "\n",
    "If there are more than one input file, make as many sections as files to import."
   ]
  },
  {
   "attachments": {},
   "cell_type": "markdown",
   "metadata": {},
   "source": [
    "Instrucciones\n",
    "- Los ficheros de entrada del proceso están siempre en Data/Input/.   \n",
    "- Si hay más de un fichero de entrada, se crean tantos objetos iFile_xx y file_data_xx como ficheros de entrada (xx número correlativo con dos dígitos, rellenar con ceros a la izquierda)"
   ]
  },
  {
   "attachments": {},
   "cell_type": "markdown",
   "metadata": {},
   "source": [
    "### 1. Intercambiadores"
   ]
  },
  {
   "attachments": {},
   "cell_type": "markdown",
   "metadata": {},
   "source": [
    "<font color='tomato'><b> OPCION A:</b> Seleccionar fichero en ventana para mayor comodidad</font> \n"
   ]
  },
  {
   "attachments": {},
   "cell_type": "markdown",
   "metadata": {},
   "source": [
    "Data load using the {tcltk} package. Ucomment the line if not using this option"
   ]
  },
  {
   "cell_type": "code",
   "execution_count": null,
   "metadata": {
    "vscode": {
     "languageId": "r"
    }
   },
   "outputs": [],
   "source": [
    "# file_data_01 <- tcltk::tk_choose.files(multi = FALSE)"
   ]
  },
  {
   "attachments": {},
   "cell_type": "markdown",
   "metadata": {},
   "source": [
    "<font color='tomato'><b> OPCION B:</b> Especificar el nombre de archivo</font>\n",
    "\n",
    "NOTA: se omiten las comprobaciones de existencia de archivo para mejor compresión del código"
   ]
  },
  {
   "cell_type": "code",
   "execution_count": 6,
   "metadata": {
    "vscode": {
     "languageId": "r"
    }
   },
   "outputs": [],
   "source": [
    "iFile_01 <- \"Transportes y Comunicaciones_ Intercambiadores/intercambiadores.shp\"\n",
    "file_data_01 <- paste0(iPath, iFile_01)\n"
   ]
  },
  {
   "attachments": {},
   "cell_type": "markdown",
   "metadata": {},
   "source": [
    "#### Data file to dataframe\n",
    "\n",
    "Usar la función adecuada según el formato de entrada (xlsx, csv, json, ...)"
   ]
  },
  {
   "cell_type": "code",
   "execution_count": 8,
   "metadata": {
    "vscode": {
     "languageId": "r"
    }
   },
   "outputs": [
    {
     "name": "stdout",
     "output_type": "stream",
     "text": [
      "options:        ENCODING=latin1 \n",
      "Reading layer `intercambiadores' from data source \n",
      "  `/Users/emilio.lcano/academico/gh_repos/__transferencia/citizenlab/CitizenLab-Research-and-Development/casos_urjc/notebooks/II_data_processing/18_infraestructuras/Data/Input/Transportes y Comunicaciones_ Intercambiadores/intercambiadores.shp' \n",
      "  using driver `ESRI Shapefile'\n",
      "Simple feature collection with 24 features and 8 fields\n",
      "Geometry type: POINT\n",
      "Dimension:     XY\n",
      "Bounding box:  xmin: 434246 ymin: 4466946 xmax: 451488 ymax: 4482485\n",
      "Projected CRS: ETRS89 / UTM zone 30N\n"
     ]
    }
   ],
   "source": [
    "data_01 <- st_read(file_data_01,\n",
    "                            options = \"ENCODING=latin1\", \n",
    "                            quiet = FALSE)\n"
   ]
  },
  {
   "attachments": {},
   "cell_type": "markdown",
   "metadata": {},
   "source": [
    "Estructura de  los datos:"
   ]
  },
  {
   "cell_type": "code",
   "execution_count": 9,
   "metadata": {
    "vscode": {
     "languageId": "r"
    }
   },
   "outputs": [
    {
     "name": "stdout",
     "output_type": "stream",
     "text": [
      "Rows: 24\n",
      "Columns: 9\n",
      "$ CMUN      \u001b[3m\u001b[90m<chr>\u001b[39m\u001b[23m \"079\", \"079\", \"079\", \"079\", \"079\", \"079\", \"079\", \"079\", \"079…\n",
      "$ ETIQUETA  \u001b[3m\u001b[90m<chr>\u001b[39m\u001b[23m \"Grandes Intercambiadores Plaza Elíptica\", \"Grandes Intercam…\n",
      "$ LOCALIDAD \u001b[3m\u001b[90m<chr>\u001b[39m\u001b[23m \"Madrid\", \"Madrid\", \"Madrid\", \"Madrid\", \"Madrid\", \"Madrid\", …\n",
      "$ DIRECCION \u001b[3m\u001b[90m<chr>\u001b[39m\u001b[23m \"Plaza Elíptica s/n\", \"Calle Princesa, 89\", \"Estación Prínci…\n",
      "$ CODIGO2   \u001b[3m\u001b[90m<int>\u001b[39m\u001b[23m 1, 2, 3, 4, 5, 6, 7, 8, 9, 10, 11, 12, 13, 14, 15, 16, 17, 1…\n",
      "$ UTM_X     \u001b[3m\u001b[90m<dbl>\u001b[39m\u001b[23m 439178, 438974, 438957, 441586, 442605, 442151, 441253, 4424…\n",
      "$ UTM_Y     \u001b[3m\u001b[90m<dbl>\u001b[39m\u001b[23m 4470780, 4476259, 4474712, 4479841, 4476589, 4480368, 447757…\n",
      "$ COD_SUCA  \u001b[3m\u001b[90m<chr>\u001b[39m\u001b[23m \"07902184\", \"07904939\", \"07905571\", \"07905377\", \"07900312\", …\n",
      "$ geometry  \u001b[3m\u001b[90m<POINT [m]>\u001b[39m\u001b[23m POINT (439178.2 4470780), POINT (438974 4476259), POIN…\n"
     ]
    }
   ],
   "source": [
    "glimpse(data_01)"
   ]
  },
  {
   "attachments": {},
   "cell_type": "markdown",
   "metadata": {},
   "source": [
    "Muestra de datos:"
   ]
  },
  {
   "cell_type": "code",
   "execution_count": 15,
   "metadata": {
    "vscode": {
     "languageId": "r"
    }
   },
   "outputs": [
    {
     "data": {
      "application/geo+json": {
       "features": [
        {
         "geometry": {
          "coordinates": [
           439178.237,
           4470780.4491
          ],
          "type": "Point"
         },
         "properties": {
          "CMUN": "079",
          "CODIGO2": 1,
          "COD_SUCA": "07902184",
          "DIRECCION": "Plaza Elíptica s/n",
          "ETIQUETA": "Grandes Intercambiadores Plaza Elíptica",
          "LOCALIDAD": "Madrid",
          "UTM_X": 439178,
          "UTM_Y": 4470780
         },
         "type": "Feature"
        },
        {
         "geometry": {
          "coordinates": [
           438974,
           4476259
          ],
          "type": "Point"
         },
         "properties": {
          "CMUN": "079",
          "CODIGO2": 2,
          "COD_SUCA": "07904939",
          "DIRECCION": "Calle Princesa, 89",
          "ETIQUETA": "Grandes Intercambiadores Moncloa",
          "LOCALIDAD": "Madrid",
          "UTM_X": 438974,
          "UTM_Y": 4476259
         },
         "type": "Feature"
        },
        {
         "geometry": {
          "coordinates": [
           438957,
           4474712
          ],
          "type": "Point"
         },
         "properties": {
          "CMUN": "079",
          "CODIGO2": 3,
          "COD_SUCA": "07905571",
          "DIRECCION": "Estación Príncipe Pío",
          "ETIQUETA": "Grandes Intercambiadores Príncipe Pío",
          "LOCALIDAD": "Madrid",
          "UTM_X": 438957,
          "UTM_Y": 4474712
         },
         "type": "Feature"
        },
        {
         "geometry": {
          "coordinates": [
           441585.9837,
           4479841.0583
          ],
          "type": "Point"
         },
         "properties": {
          "CMUN": "079",
          "CODIGO2": 4,
          "COD_SUCA": "07905377",
          "DIRECCION": "Calle San Aquilino y Avenida de Asturias",
          "ETIQUETA": "Grandes Intercambiadores Plaza de Castilla",
          "LOCALIDAD": "Madrid",
          "UTM_X": 441586,
          "UTM_Y": 4479841
         },
         "type": "Feature"
        },
        {
         "geometry": {
          "coordinates": [
           442605,
           4476589
          ],
          "type": "Point"
         },
         "properties": {
          "CMUN": "079",
          "CODIGO2": 5,
          "COD_SUCA": "07900312",
          "DIRECCION": "Avenida de América 9 A",
          "ETIQUETA": "Grandes Intercambiadores Avenida de América",
          "LOCALIDAD": "Madrid",
          "UTM_X": 442605,
          "UTM_Y": 4476589
         },
         "type": "Feature"
        }
       ],
       "type": "FeatureCollection"
      },
      "text/html": [
       "<table class=\"dataframe\">\n",
       "<caption>A sf: 5 × 9</caption>\n",
       "<thead>\n",
       "\t<tr><th scope=col>CMUN</th><th scope=col>ETIQUETA</th><th scope=col>LOCALIDAD</th><th scope=col>DIRECCION</th><th scope=col>CODIGO2</th><th scope=col>UTM_X</th><th scope=col>UTM_Y</th><th scope=col>COD_SUCA</th><th scope=col>geometry</th></tr>\n",
       "\t<tr><th scope=col>&lt;chr&gt;</th><th scope=col>&lt;chr&gt;</th><th scope=col>&lt;chr&gt;</th><th scope=col>&lt;chr&gt;</th><th scope=col>&lt;int&gt;</th><th scope=col>&lt;dbl&gt;</th><th scope=col>&lt;dbl&gt;</th><th scope=col>&lt;chr&gt;</th><th scope=col>&lt;POINT [m]&gt;</th></tr>\n",
       "</thead>\n",
       "<tbody>\n",
       "\t<tr><td>079</td><td>Grandes Intercambiadores Plaza Elíptica    </td><td>Madrid</td><td>Plaza Elíptica s/n                      </td><td>1</td><td>439178</td><td>4470780</td><td>07902184</td><td>POINT (439178.2 4470780)</td></tr>\n",
       "\t<tr><td>079</td><td>Grandes Intercambiadores Moncloa           </td><td>Madrid</td><td>Calle Princesa, 89                      </td><td>2</td><td>438974</td><td>4476259</td><td>07904939</td><td>POINT (438974 4476259)</td></tr>\n",
       "\t<tr><td>079</td><td>Grandes Intercambiadores Príncipe Pío      </td><td>Madrid</td><td>Estación Príncipe Pío                   </td><td>3</td><td>438957</td><td>4474712</td><td>07905571</td><td>POINT (438957 4474712)</td></tr>\n",
       "\t<tr><td>079</td><td>Grandes Intercambiadores Plaza de Castilla </td><td>Madrid</td><td>Calle San Aquilino y Avenida de Asturias</td><td>4</td><td>441586</td><td>4479841</td><td>07905377</td><td>POINT (441586 4479841)</td></tr>\n",
       "\t<tr><td>079</td><td>Grandes Intercambiadores Avenida de América</td><td>Madrid</td><td>Avenida de América 9 A                  </td><td>5</td><td>442605</td><td>4476589</td><td>07900312</td><td>POINT (442605 4476589)</td></tr>\n",
       "</tbody>\n",
       "</table>\n"
      ],
      "text/latex": [
       "A sf: 5 × 9\n",
       "\\begin{tabular}{lllllllll}\n",
       " CMUN & ETIQUETA & LOCALIDAD & DIRECCION & CODIGO2 & UTM\\_X & UTM\\_Y & COD\\_SUCA & geometry\\\\\n",
       " <chr> & <chr> & <chr> & <chr> & <int> & <dbl> & <dbl> & <chr> & <POINT {[}m{]}>\\\\\n",
       "\\hline\n",
       "\t 079 & Grandes Intercambiadores Plaza Elíptica     & Madrid & Plaza Elíptica s/n                       & 1 & 439178 & 4470780 & 07902184 & POINT (439178.2 4470780)\\\\\n",
       "\t 079 & Grandes Intercambiadores Moncloa            & Madrid & Calle Princesa, 89                       & 2 & 438974 & 4476259 & 07904939 & POINT (438974 4476259)\\\\\n",
       "\t 079 & Grandes Intercambiadores Príncipe Pío       & Madrid & Estación Príncipe Pío                    & 3 & 438957 & 4474712 & 07905571 & POINT (438957 4474712)\\\\\n",
       "\t 079 & Grandes Intercambiadores Plaza de Castilla  & Madrid & Calle San Aquilino y Avenida de Asturias & 4 & 441586 & 4479841 & 07905377 & POINT (441586 4479841)\\\\\n",
       "\t 079 & Grandes Intercambiadores Avenida de América & Madrid & Avenida de América 9 A                   & 5 & 442605 & 4476589 & 07900312 & POINT (442605 4476589)\\\\\n",
       "\\end{tabular}\n"
      ],
      "text/markdown": [
       "\n",
       "A sf: 5 × 9\n",
       "\n",
       "| CMUN &lt;chr&gt; | ETIQUETA &lt;chr&gt; | LOCALIDAD &lt;chr&gt; | DIRECCION &lt;chr&gt; | CODIGO2 &lt;int&gt; | UTM_X &lt;dbl&gt; | UTM_Y &lt;dbl&gt; | COD_SUCA &lt;chr&gt; | geometry &lt;POINT [m]&gt; |\n",
       "|---|---|---|---|---|---|---|---|---|\n",
       "| 079 | Grandes Intercambiadores Plaza Elíptica     | Madrid | Plaza Elíptica s/n                       | 1 | 439178 | 4470780 | 07902184 | POINT (439178.2 4470780) |\n",
       "| 079 | Grandes Intercambiadores Moncloa            | Madrid | Calle Princesa, 89                       | 2 | 438974 | 4476259 | 07904939 | POINT (438974 4476259) |\n",
       "| 079 | Grandes Intercambiadores Príncipe Pío       | Madrid | Estación Príncipe Pío                    | 3 | 438957 | 4474712 | 07905571 | POINT (438957 4474712) |\n",
       "| 079 | Grandes Intercambiadores Plaza de Castilla  | Madrid | Calle San Aquilino y Avenida de Asturias | 4 | 441586 | 4479841 | 07905377 | POINT (441586 4479841) |\n",
       "| 079 | Grandes Intercambiadores Avenida de América | Madrid | Avenida de América 9 A                   | 5 | 442605 | 4476589 | 07900312 | POINT (442605 4476589) |\n",
       "\n"
      ],
      "text/plain": [
       "  CMUN ETIQUETA                                    LOCALIDAD\n",
       "1 079  Grandes Intercambiadores Plaza Elíptica     Madrid   \n",
       "2 079  Grandes Intercambiadores Moncloa            Madrid   \n",
       "3 079  Grandes Intercambiadores Príncipe Pío       Madrid   \n",
       "4 079  Grandes Intercambiadores Plaza de Castilla  Madrid   \n",
       "5 079  Grandes Intercambiadores Avenida de América Madrid   \n",
       "  DIRECCION                                CODIGO2 UTM_X  UTM_Y   COD_SUCA\n",
       "1 Plaza Elíptica s/n                       1       439178 4470780 07902184\n",
       "2 Calle Princesa, 89                       2       438974 4476259 07904939\n",
       "3 Estación Príncipe Pío                    3       438957 4474712 07905571\n",
       "4 Calle San Aquilino y Avenida de Asturias 4       441586 4479841 07905377\n",
       "5 Avenida de América 9 A                   5       442605 4476589 07900312\n",
       "  geometry                \n",
       "1 POINT (439178.2 4470780)\n",
       "2 POINT (438974 4476259)  \n",
       "3 POINT (438957 4474712)  \n",
       "4 POINT (441586 4479841)  \n",
       "5 POINT (442605 4476589)  "
      ]
     },
     "metadata": {},
     "output_type": "display_data"
    }
   ],
   "source": [
    "data_01 |> slice_head(n = 5)"
   ]
  },
  {
   "attachments": {},
   "cell_type": "markdown",
   "metadata": {},
   "source": [
    "### 2. Metro"
   ]
  },
  {
   "attachments": {},
   "cell_type": "markdown",
   "metadata": {},
   "source": [
    "<font color='tomato'><b> OPCION A:</b> Seleccionar fichero en ventana para mayor comodidad</font> \n"
   ]
  },
  {
   "attachments": {},
   "cell_type": "markdown",
   "metadata": {},
   "source": [
    "Data load using the {tcltk} package. Ucomment the line if not using this option"
   ]
  },
  {
   "cell_type": "code",
   "execution_count": 17,
   "metadata": {
    "vscode": {
     "languageId": "r"
    }
   },
   "outputs": [],
   "source": [
    "# file_data_02 <- tcltk::tk_choose.files(multi = FALSE)"
   ]
  },
  {
   "attachments": {},
   "cell_type": "markdown",
   "metadata": {},
   "source": [
    "<font color='tomato'><b> OPCION B:</b> Especificar el nombre de archivo</font>\n",
    "\n",
    "NOTA: se omiten las comprobaciones de existencia de archivo para mejor compresión del código"
   ]
  },
  {
   "cell_type": "code",
   "execution_count": 20,
   "metadata": {
    "vscode": {
     "languageId": "r"
    }
   },
   "outputs": [],
   "source": [
    "iFile_02 <- \"Transportes y comunicaciones_ Metro (bocas)/\"\n",
    "file_data_02 <- paste0(iPath, iFile_02)\n"
   ]
  },
  {
   "attachments": {},
   "cell_type": "markdown",
   "metadata": {},
   "source": [
    "#### Data file to dataframe\n",
    "\n",
    "Usar la función adecuada según el formato de entrada (xlsx, csv, json, ...)"
   ]
  },
  {
   "cell_type": "code",
   "execution_count": 21,
   "metadata": {
    "vscode": {
     "languageId": "r"
    }
   },
   "outputs": [
    {
     "name": "stdout",
     "output_type": "stream",
     "text": [
      "options:        ENCODING=latin1 \n",
      "Reading layer `bocas' from data source \n",
      "  `/Users/emilio.lcano/academico/gh_repos/__transferencia/citizenlab/CitizenLab-Research-and-Development/casos_urjc/notebooks/II_data_processing/18_infraestructuras/Data/Input/Transportes y comunicaciones_ Metro (bocas)' \n",
      "  using driver `ESRI Shapefile'\n",
      "Simple feature collection with 771 features and 11 fields\n",
      "Geometry type: POINT\n",
      "Dimension:     XY\n",
      "Bounding box:  xmin: 423308.6 ymin: 4459431 xmax: 461969.4 ymax: 4490120\n",
      "Projected CRS: ETRS89 / UTM zone 30N\n"
     ]
    }
   ],
   "source": [
    "data_02 <- st_read(file_data_02,\n",
    "                            options = \"ENCODING=latin1\", \n",
    "                            quiet = FALSE)\n"
   ]
  },
  {
   "attachments": {},
   "cell_type": "markdown",
   "metadata": {},
   "source": [
    "Estructura de  los datos:"
   ]
  },
  {
   "cell_type": "code",
   "execution_count": 22,
   "metadata": {
    "vscode": {
     "languageId": "r"
    }
   },
   "outputs": [
    {
     "name": "stdout",
     "output_type": "stream",
     "text": [
      "Rows: 771\n",
      "Columns: 12\n",
      "$ ESTACION   \u001b[3m\u001b[90m<chr>\u001b[39m\u001b[23m \"Plaza de Castilla\", \"Plaza de Castilla\", \"Plaza de Castill…\n",
      "$ LINEAS     \u001b[3m\u001b[90m<chr>\u001b[39m\u001b[23m \"1, 10, 9\", \"1, 10, 9\", \"1, 10, 9\", \"1\", \"1\", \"1\", \"1\", \"1\"…\n",
      "$ SALIDA     \u001b[3m\u001b[90m<chr>\u001b[39m\u001b[23m \"Castellana\", \"Plaza de Castilla\", \"Pº Castellana, impares\"…\n",
      "$ DIRECCION  \u001b[3m\u001b[90m<chr>\u001b[39m\u001b[23m \"Frente depósito C. Isabel II\", \"Paseo de la Castellana, bu…\n",
      "$ MUNICIPIO  \u001b[3m\u001b[90m<chr>\u001b[39m\u001b[23m \"Madrid\", \"Madrid\", \"Madrid\", \"Madrid\", \"Madrid\", \"Madrid\",…\n",
      "$ COD_MUNI   \u001b[3m\u001b[90m<chr>\u001b[39m\u001b[23m \"079\", \"079\", \"079\", \"079\", \"079\", \"079\", \"079\", \"079\", \"07…\n",
      "$ HORARIO    \u001b[3m\u001b[90m<chr>\u001b[39m\u001b[23m \"Abierto de 6:00 a 1:30, a excepción de los accesos con hor…\n",
      "$ MECANIZADO \u001b[3m\u001b[90m<chr>\u001b[39m\u001b[23m \"Mecanizado: 6:00 a 13:50, S,D, Festivo y Verano de 2/6 a 2…\n",
      "$ UTM_X      \u001b[3m\u001b[90m<dbl>\u001b[39m\u001b[23m 441600, 441574, 441545, 441012, 441161, 440713, 440830, 440…\n",
      "$ UTM_Y      \u001b[3m\u001b[90m<dbl>\u001b[39m\u001b[23m 4479652, 4479802, 4479841, 4479502, 4479577, 4479032, 44791…\n",
      "$ CODIGO2    \u001b[3m\u001b[90m<int>\u001b[39m\u001b[23m 1, 2, 3, 4, 5, 6, 7, 8, 9, 10, 11, 12, 13, 14, 15, 16, 17, …\n",
      "$ geometry   \u001b[3m\u001b[90m<POINT [m]>\u001b[39m\u001b[23m POINT (441599.6 4479652), POINT (441573.6 4479802), P…\n"
     ]
    }
   ],
   "source": [
    "glimpse(data_02)"
   ]
  },
  {
   "attachments": {},
   "cell_type": "markdown",
   "metadata": {},
   "source": [
    "Muestra de datos:"
   ]
  },
  {
   "cell_type": "code",
   "execution_count": 23,
   "metadata": {
    "vscode": {
     "languageId": "r"
    }
   },
   "outputs": [
    {
     "data": {
      "application/geo+json": {
       "features": [
        {
         "geometry": {
          "coordinates": [
           441599.6049,
           4479651.5292
          ],
          "type": "Point"
         },
         "properties": {
          "CODIGO2": 1,
          "COD_MUNI": "079",
          "DIRECCION": "Frente depósito C. Isabel II",
          "ESTACION": "Plaza de Castilla",
          "HORARIO": "Abierto de 6:00 a 1:30, a excepción de los accesos con horario especial",
          "LINEAS": "1, 10, 9",
          "MECANIZADO": "Mecanizado: 6:00 a 13:50, S,D, Festivo y Verano de 2/6 a 29/9",
          "MUNICIPIO": "Madrid",
          "SALIDA": "Castellana",
          "UTM_X": 441600,
          "UTM_Y": 4479652
         },
         "type": "Feature"
        },
        {
         "geometry": {
          "coordinates": [
           441573.6059,
           4479801.53
          ],
          "type": "Point"
         },
         "properties": {
          "CODIGO2": 2,
          "COD_MUNI": "079",
          "DIRECCION": "Paseo de la Castellana, bulevar central",
          "ESTACION": "Plaza de Castilla",
          "HORARIO": "Abierto de 6:00 a 1:30, a excepción de los accesos con horario especial",
          "LINEAS": "1, 10, 9",
          "MECANIZADO": null,
          "MUNICIPIO": "Madrid",
          "SALIDA": "Plaza de Castilla",
          "UTM_X": 441574,
          "UTM_Y": 4479802
         },
         "type": "Feature"
        },
        {
         "geometry": {
          "coordinates": [
           441544.6063,
           4479840.5304
          ],
          "type": "Point"
         },
         "properties": {
          "CODIGO2": 3,
          "COD_MUNI": "079",
          "DIRECCION": "Paseo Castellana, 189 (junto a torres)",
          "ESTACION": "Plaza de Castilla",
          "HORARIO": "Abierto de 6:00 a 1:30, a excepción de los accesos con horario especial",
          "LINEAS": "1, 10, 9",
          "MECANIZADO": null,
          "MUNICIPIO": "Madrid",
          "SALIDA": "Pº Castellana, impares",
          "UTM_X": 441545,
          "UTM_Y": 4479841
         },
         "type": "Feature"
        },
        {
         "geometry": {
          "coordinates": [
           441011.608,
           4479501.535
          ],
          "type": "Point"
         },
         "properties": {
          "CODIGO2": 4,
          "COD_MUNI": "079",
          "DIRECCION": "Calle Bravo Murillo, 324",
          "ESTACION": "Valdeacederas",
          "HORARIO": "Abierto de 6:00 a 1:30, a excepción de los accesos con horario especial",
          "LINEAS": "1",
          "MECANIZADO": null,
          "MUNICIPIO": "Madrid",
          "SALIDA": "Capitán Blanco Argibay",
          "UTM_X": 441012,
          "UTM_Y": 4479502
         },
         "type": "Feature"
        },
        {
         "geometry": {
          "coordinates": [
           441160.6074,
           4479576.5337
          ],
          "type": "Point"
         },
         "properties": {
          "CODIGO2": 5,
          "COD_MUNI": "079",
          "DIRECCION": "Calle Bravo Murillo, 350",
          "ESTACION": "Valdeacederas",
          "HORARIO": "Abierto de 6:00 a 1:30, a excepción de los accesos con horario especial",
          "LINEAS": "1",
          "MECANIZADO": "Mecanizado permanente",
          "MUNICIPIO": "Madrid",
          "SALIDA": "Aníbal",
          "UTM_X": 441161,
          "UTM_Y": 4479577
         },
         "type": "Feature"
        }
       ],
       "type": "FeatureCollection"
      },
      "text/html": [
       "<table class=\"dataframe\">\n",
       "<caption>A sf: 5 × 12</caption>\n",
       "<thead>\n",
       "\t<tr><th scope=col>ESTACION</th><th scope=col>LINEAS</th><th scope=col>SALIDA</th><th scope=col>DIRECCION</th><th scope=col>MUNICIPIO</th><th scope=col>COD_MUNI</th><th scope=col>HORARIO</th><th scope=col>MECANIZADO</th><th scope=col>UTM_X</th><th scope=col>UTM_Y</th><th scope=col>CODIGO2</th><th scope=col>geometry</th></tr>\n",
       "\t<tr><th scope=col>&lt;chr&gt;</th><th scope=col>&lt;chr&gt;</th><th scope=col>&lt;chr&gt;</th><th scope=col>&lt;chr&gt;</th><th scope=col>&lt;chr&gt;</th><th scope=col>&lt;chr&gt;</th><th scope=col>&lt;chr&gt;</th><th scope=col>&lt;chr&gt;</th><th scope=col>&lt;dbl&gt;</th><th scope=col>&lt;dbl&gt;</th><th scope=col>&lt;int&gt;</th><th scope=col>&lt;POINT [m]&gt;</th></tr>\n",
       "</thead>\n",
       "<tbody>\n",
       "\t<tr><td>Plaza de Castilla</td><td>1, 10, 9</td><td>Castellana            </td><td>Frente depósito C. Isabel II           </td><td>Madrid</td><td>079</td><td>Abierto de 6:00 a 1:30, a excepción de los accesos con horario especial</td><td>Mecanizado: 6:00 a 13:50, S,D, Festivo y Verano de 2/6 a 29/9</td><td>441600</td><td>4479652</td><td>1</td><td>POINT (441599.6 4479652)</td></tr>\n",
       "\t<tr><td>Plaza de Castilla</td><td>1, 10, 9</td><td>Plaza de Castilla     </td><td>Paseo de la Castellana, bulevar central</td><td>Madrid</td><td>079</td><td>Abierto de 6:00 a 1:30, a excepción de los accesos con horario especial</td><td>NA                                                           </td><td>441574</td><td>4479802</td><td>2</td><td>POINT (441573.6 4479802)</td></tr>\n",
       "\t<tr><td>Plaza de Castilla</td><td>1, 10, 9</td><td>Pº Castellana, impares</td><td>Paseo Castellana, 189 (junto a torres) </td><td>Madrid</td><td>079</td><td>Abierto de 6:00 a 1:30, a excepción de los accesos con horario especial</td><td>NA                                                           </td><td>441545</td><td>4479841</td><td>3</td><td>POINT (441544.6 4479841)</td></tr>\n",
       "\t<tr><td>Valdeacederas    </td><td>1       </td><td>Capitán Blanco Argibay</td><td>Calle Bravo Murillo, 324               </td><td>Madrid</td><td>079</td><td>Abierto de 6:00 a 1:30, a excepción de los accesos con horario especial</td><td>NA                                                           </td><td>441012</td><td>4479502</td><td>4</td><td>POINT (441011.6 4479502)</td></tr>\n",
       "\t<tr><td>Valdeacederas    </td><td>1       </td><td>Aníbal                </td><td>Calle Bravo Murillo, 350               </td><td>Madrid</td><td>079</td><td>Abierto de 6:00 a 1:30, a excepción de los accesos con horario especial</td><td>Mecanizado permanente                                        </td><td>441161</td><td>4479577</td><td>5</td><td>POINT (441160.6 4479577)</td></tr>\n",
       "</tbody>\n",
       "</table>\n"
      ],
      "text/latex": [
       "A sf: 5 × 12\n",
       "\\begin{tabular}{llllllllllll}\n",
       " ESTACION & LINEAS & SALIDA & DIRECCION & MUNICIPIO & COD\\_MUNI & HORARIO & MECANIZADO & UTM\\_X & UTM\\_Y & CODIGO2 & geometry\\\\\n",
       " <chr> & <chr> & <chr> & <chr> & <chr> & <chr> & <chr> & <chr> & <dbl> & <dbl> & <int> & <POINT {[}m{]}>\\\\\n",
       "\\hline\n",
       "\t Plaza de Castilla & 1, 10, 9 & Castellana             & Frente depósito C. Isabel II            & Madrid & 079 & Abierto de 6:00 a 1:30, a excepción de los accesos con horario especial & Mecanizado: 6:00 a 13:50, S,D, Festivo y Verano de 2/6 a 29/9 & 441600 & 4479652 & 1 & POINT (441599.6 4479652)\\\\\n",
       "\t Plaza de Castilla & 1, 10, 9 & Plaza de Castilla      & Paseo de la Castellana, bulevar central & Madrid & 079 & Abierto de 6:00 a 1:30, a excepción de los accesos con horario especial & NA                                                            & 441574 & 4479802 & 2 & POINT (441573.6 4479802)\\\\\n",
       "\t Plaza de Castilla & 1, 10, 9 & Pº Castellana, impares & Paseo Castellana, 189 (junto a torres)  & Madrid & 079 & Abierto de 6:00 a 1:30, a excepción de los accesos con horario especial & NA                                                            & 441545 & 4479841 & 3 & POINT (441544.6 4479841)\\\\\n",
       "\t Valdeacederas     & 1        & Capitán Blanco Argibay & Calle Bravo Murillo, 324                & Madrid & 079 & Abierto de 6:00 a 1:30, a excepción de los accesos con horario especial & NA                                                            & 441012 & 4479502 & 4 & POINT (441011.6 4479502)\\\\\n",
       "\t Valdeacederas     & 1        & Aníbal                 & Calle Bravo Murillo, 350                & Madrid & 079 & Abierto de 6:00 a 1:30, a excepción de los accesos con horario especial & Mecanizado permanente                                         & 441161 & 4479577 & 5 & POINT (441160.6 4479577)\\\\\n",
       "\\end{tabular}\n"
      ],
      "text/markdown": [
       "\n",
       "A sf: 5 × 12\n",
       "\n",
       "| ESTACION &lt;chr&gt; | LINEAS &lt;chr&gt; | SALIDA &lt;chr&gt; | DIRECCION &lt;chr&gt; | MUNICIPIO &lt;chr&gt; | COD_MUNI &lt;chr&gt; | HORARIO &lt;chr&gt; | MECANIZADO &lt;chr&gt; | UTM_X &lt;dbl&gt; | UTM_Y &lt;dbl&gt; | CODIGO2 &lt;int&gt; | geometry &lt;POINT [m]&gt; |\n",
       "|---|---|---|---|---|---|---|---|---|---|---|---|\n",
       "| Plaza de Castilla | 1, 10, 9 | Castellana             | Frente depósito C. Isabel II            | Madrid | 079 | Abierto de 6:00 a 1:30, a excepción de los accesos con horario especial | Mecanizado: 6:00 a 13:50, S,D, Festivo y Verano de 2/6 a 29/9 | 441600 | 4479652 | 1 | POINT (441599.6 4479652) |\n",
       "| Plaza de Castilla | 1, 10, 9 | Plaza de Castilla      | Paseo de la Castellana, bulevar central | Madrid | 079 | Abierto de 6:00 a 1:30, a excepción de los accesos con horario especial | NA                                                            | 441574 | 4479802 | 2 | POINT (441573.6 4479802) |\n",
       "| Plaza de Castilla | 1, 10, 9 | Pº Castellana, impares | Paseo Castellana, 189 (junto a torres)  | Madrid | 079 | Abierto de 6:00 a 1:30, a excepción de los accesos con horario especial | NA                                                            | 441545 | 4479841 | 3 | POINT (441544.6 4479841) |\n",
       "| Valdeacederas     | 1        | Capitán Blanco Argibay | Calle Bravo Murillo, 324                | Madrid | 079 | Abierto de 6:00 a 1:30, a excepción de los accesos con horario especial | NA                                                            | 441012 | 4479502 | 4 | POINT (441011.6 4479502) |\n",
       "| Valdeacederas     | 1        | Aníbal                 | Calle Bravo Murillo, 350                | Madrid | 079 | Abierto de 6:00 a 1:30, a excepción de los accesos con horario especial | Mecanizado permanente                                         | 441161 | 4479577 | 5 | POINT (441160.6 4479577) |\n",
       "\n"
      ],
      "text/plain": [
       "  ESTACION          LINEAS   SALIDA                \n",
       "1 Plaza de Castilla 1, 10, 9 Castellana            \n",
       "2 Plaza de Castilla 1, 10, 9 Plaza de Castilla     \n",
       "3 Plaza de Castilla 1, 10, 9 Pº Castellana, impares\n",
       "4 Valdeacederas     1        Capitán Blanco Argibay\n",
       "5 Valdeacederas     1        Aníbal                \n",
       "  DIRECCION                               MUNICIPIO COD_MUNI\n",
       "1 Frente depósito C. Isabel II            Madrid    079     \n",
       "2 Paseo de la Castellana, bulevar central Madrid    079     \n",
       "3 Paseo Castellana, 189 (junto a torres)  Madrid    079     \n",
       "4 Calle Bravo Murillo, 324                Madrid    079     \n",
       "5 Calle Bravo Murillo, 350                Madrid    079     \n",
       "  HORARIO                                                                \n",
       "1 Abierto de 6:00 a 1:30, a excepción de los accesos con horario especial\n",
       "2 Abierto de 6:00 a 1:30, a excepción de los accesos con horario especial\n",
       "3 Abierto de 6:00 a 1:30, a excepción de los accesos con horario especial\n",
       "4 Abierto de 6:00 a 1:30, a excepción de los accesos con horario especial\n",
       "5 Abierto de 6:00 a 1:30, a excepción de los accesos con horario especial\n",
       "  MECANIZADO                                                    UTM_X  UTM_Y  \n",
       "1 Mecanizado: 6:00 a 13:50, S,D, Festivo y Verano de 2/6 a 29/9 441600 4479652\n",
       "2 NA                                                            441574 4479802\n",
       "3 NA                                                            441545 4479841\n",
       "4 NA                                                            441012 4479502\n",
       "5 Mecanizado permanente                                         441161 4479577\n",
       "  CODIGO2 geometry                \n",
       "1 1       POINT (441599.6 4479652)\n",
       "2 2       POINT (441573.6 4479802)\n",
       "3 3       POINT (441544.6 4479841)\n",
       "4 4       POINT (441011.6 4479502)\n",
       "5 5       POINT (441160.6 4479577)"
      ]
     },
     "metadata": {},
     "output_type": "display_data"
    }
   ],
   "source": [
    "data_02 |> slice_head(n = 5)"
   ]
  },
  {
   "attachments": {},
   "cell_type": "markdown",
   "metadata": {},
   "source": [
    "### 3. Aeropuertos"
   ]
  },
  {
   "attachments": {},
   "cell_type": "markdown",
   "metadata": {},
   "source": [
    "<font color='tomato'><b> OPCION A:</b> Seleccionar fichero en ventana para mayor comodidad</font> \n"
   ]
  },
  {
   "attachments": {},
   "cell_type": "markdown",
   "metadata": {},
   "source": [
    "Data load using the {tcltk} package. Ucomment the line if not using this option"
   ]
  },
  {
   "cell_type": "code",
   "execution_count": null,
   "metadata": {
    "vscode": {
     "languageId": "r"
    }
   },
   "outputs": [],
   "source": [
    "# file_data_03 <- tcltk::tk_choose.files(multi = FALSE)"
   ]
  },
  {
   "attachments": {},
   "cell_type": "markdown",
   "metadata": {},
   "source": [
    "<font color='tomato'><b> OPCION B:</b> Especificar el nombre de archivo</font>\n",
    "\n",
    "NOTA: se omiten las comprobaciones de existencia de archivo para mejor compresión del código"
   ]
  },
  {
   "cell_type": "code",
   "execution_count": 24,
   "metadata": {
    "vscode": {
     "languageId": "r"
    }
   },
   "outputs": [],
   "source": [
    "iFile_03 <- \"Transportes y comunicaciones_ Aeropuertos/\"\n",
    "file_data_03 <- paste0(iPath, iFile_03)\n"
   ]
  },
  {
   "attachments": {},
   "cell_type": "markdown",
   "metadata": {},
   "source": [
    "#### Data file to dataframe\n",
    "\n",
    "Usar la función adecuada según el formato de entrada (xlsx, csv, json, ...)"
   ]
  },
  {
   "cell_type": "code",
   "execution_count": 25,
   "metadata": {
    "vscode": {
     "languageId": "r"
    }
   },
   "outputs": [
    {
     "name": "stdout",
     "output_type": "stream",
     "text": [
      "options:        ENCODING=latin1 \n",
      "Reading layer `aeropuertos' from data source \n",
      "  `/Users/emilio.lcano/academico/gh_repos/__transferencia/citizenlab/CitizenLab-Research-and-Development/casos_urjc/notebooks/II_data_processing/18_infraestructuras/Data/Input/Transportes y comunicaciones_ Aeropuertos' \n",
      "  using driver `ESRI Shapefile'\n",
      "Simple feature collection with 3 features and 7 fields\n",
      "Geometry type: POINT\n",
      "Dimension:     XY\n",
      "Bounding box:  xmin: 434226.4 ymin: 4469153 xmax: 462119.5 ymax: 4480754\n",
      "Projected CRS: ETRS89 / UTM zone 30N\n"
     ]
    }
   ],
   "source": [
    "data_03 <- st_read(file_data_03,\n",
    "                            options = \"ENCODING=latin1\", \n",
    "                            quiet = FALSE)\n"
   ]
  },
  {
   "attachments": {},
   "cell_type": "markdown",
   "metadata": {},
   "source": [
    "Estructura de  los datos:"
   ]
  },
  {
   "cell_type": "code",
   "execution_count": 26,
   "metadata": {
    "vscode": {
     "languageId": "r"
    }
   },
   "outputs": [
    {
     "name": "stdout",
     "output_type": "stream",
     "text": [
      "Rows: 3\n",
      "Columns: 8\n",
      "$ CMUN      \u001b[3m\u001b[90m<chr>\u001b[39m\u001b[23m \"079\", \"065\", \"148\"\n",
      "$ BUSCA     \u001b[3m\u001b[90m<chr>\u001b[39m\u001b[23m \"Aeropuerto Adolfo Suárez-Madrid Barajas\", \"Aeropuerto Madri…\n",
      "$ DIRECCIÓN \u001b[3m\u001b[90m<chr>\u001b[39m\u001b[23m \"Avda. Hispanidad, s/n\", \"Ctra. Barrio de la Fortuna, s/n\", …\n",
      "$ MUNICIPIO \u001b[3m\u001b[90m<chr>\u001b[39m\u001b[23m \"MADRID\", \"MADRID\", \"TORREJÓN DE ARDOZ\"\n",
      "$ CODIGO2   \u001b[3m\u001b[90m<int>\u001b[39m\u001b[23m 1, 2, 3\n",
      "$ ETIQUETA  \u001b[3m\u001b[90m<chr>\u001b[39m\u001b[23m \"Adolfo Suárez-Madrid Barajas\", \"Madrid-Cuatro Vientos\", \"Ma…\n",
      "$ INFOR     \u001b[3m\u001b[90m<chr>\u001b[39m\u001b[23m \"Madrid-Barajas<br>Avda. Hispanidad, s/n\", \"Madrid-Cuatro Vi…\n",
      "$ geometry  \u001b[3m\u001b[90m<POINT [m]>\u001b[39m\u001b[23m POINT (451504.3 4478985), POINT (434226.4 4469153), POINT (4…\n"
     ]
    }
   ],
   "source": [
    "glimpse(data_03)"
   ]
  },
  {
   "attachments": {},
   "cell_type": "markdown",
   "metadata": {},
   "source": [
    "Muestra de datos:"
   ]
  },
  {
   "cell_type": "code",
   "execution_count": 27,
   "metadata": {
    "vscode": {
     "languageId": "r"
    }
   },
   "outputs": [
    {
     "data": {
      "application/geo+json": {
       "features": [
        {
         "geometry": {
          "coordinates": [
           451504.3158,
           4478985.1477
          ],
          "type": "Point"
         },
         "properties": {
          "BUSCA": "Aeropuerto Adolfo Suárez-Madrid Barajas",
          "CMUN": "079",
          "CODIGO2": 1,
          "DIRECCIÓN": "Avda. Hispanidad, s/n",
          "ETIQUETA": "Adolfo Suárez-Madrid Barajas",
          "INFOR": "Madrid-Barajas<br>Avda. Hispanidad, s/n",
          "MUNICIPIO": "MADRID"
         },
         "type": "Feature"
        },
        {
         "geometry": {
          "coordinates": [
           434226.4362,
           4469153.0275
          ],
          "type": "Point"
         },
         "properties": {
          "BUSCA": "Aeropuerto Madrid-Cuatro Vientos",
          "CMUN": "065",
          "CODIGO2": 2,
          "DIRECCIÓN": "Ctra. Barrio de la Fortuna, s/n",
          "ETIQUETA": "Madrid-Cuatro Vientos",
          "INFOR": "Madrid-Cuatro Vientos<br>Ctra. Barrio de la Fortuna, s/n",
          "MUNICIPIO": "MADRID"
         },
         "type": "Feature"
        },
        {
         "geometry": {
          "coordinates": [
           462119.4927,
           4480753.7182
          ],
          "type": "Point"
         },
         "properties": {
          "BUSCA": "Aeropuerto Madrid-Torrejón de Ardoz",
          "CMUN": "148",
          "CODIGO2": 3,
          "DIRECCIÓN": "Ctra. de la Base, s/n",
          "ETIQUETA": "Madrid-Torrejón",
          "INFOR": "Madrid-Torrejón<br>Ctra. de la Base, s/n",
          "MUNICIPIO": "TORREJÓN DE ARDOZ"
         },
         "type": "Feature"
        }
       ],
       "type": "FeatureCollection"
      },
      "text/html": [
       "<table class=\"dataframe\">\n",
       "<caption>A sf: 3 × 8</caption>\n",
       "<thead>\n",
       "\t<tr><th scope=col>CMUN</th><th scope=col>BUSCA</th><th scope=col>DIRECCIÓN</th><th scope=col>MUNICIPIO</th><th scope=col>CODIGO2</th><th scope=col>ETIQUETA</th><th scope=col>INFOR</th><th scope=col>geometry</th></tr>\n",
       "\t<tr><th scope=col>&lt;chr&gt;</th><th scope=col>&lt;chr&gt;</th><th scope=col>&lt;chr&gt;</th><th scope=col>&lt;chr&gt;</th><th scope=col>&lt;int&gt;</th><th scope=col>&lt;chr&gt;</th><th scope=col>&lt;chr&gt;</th><th scope=col>&lt;POINT [m]&gt;</th></tr>\n",
       "</thead>\n",
       "<tbody>\n",
       "\t<tr><td>079</td><td>Aeropuerto Adolfo Suárez-Madrid Barajas</td><td><span style=white-space:pre-wrap>Avda. Hispanidad, s/n          </span></td><td><span style=white-space:pre-wrap>MADRID           </span></td><td>1</td><td>Adolfo Suárez-Madrid Barajas</td><td><span style=white-space:pre-wrap>Madrid-Barajas&lt;br&gt;Avda. Hispanidad, s/n                 </span></td><td>POINT (451504.3 4478985)</td></tr>\n",
       "\t<tr><td>065</td><td><span style=white-space:pre-wrap>Aeropuerto Madrid-Cuatro Vientos       </span></td><td>Ctra. Barrio de la Fortuna, s/n</td><td><span style=white-space:pre-wrap>MADRID           </span></td><td>2</td><td><span style=white-space:pre-wrap>Madrid-Cuatro Vientos       </span></td><td>Madrid-Cuatro Vientos&lt;br&gt;Ctra. Barrio de la Fortuna, s/n</td><td>POINT (434226.4 4469153)</td></tr>\n",
       "\t<tr><td>148</td><td><span style=white-space:pre-wrap>Aeropuerto Madrid-Torrejón de Ardoz    </span></td><td><span style=white-space:pre-wrap>Ctra. de la Base, s/n          </span></td><td>TORREJÓN DE ARDOZ</td><td>3</td><td><span style=white-space:pre-wrap>Madrid-Torrejón             </span></td><td><span style=white-space:pre-wrap>Madrid-Torrejón&lt;br&gt;Ctra. de la Base, s/n                </span></td><td>POINT (462119.5 4480754)</td></tr>\n",
       "</tbody>\n",
       "</table>\n"
      ],
      "text/latex": [
       "A sf: 3 × 8\n",
       "\\begin{tabular}{llllllll}\n",
       " CMUN & BUSCA & DIRECCIÓN & MUNICIPIO & CODIGO2 & ETIQUETA & INFOR & geometry\\\\\n",
       " <chr> & <chr> & <chr> & <chr> & <int> & <chr> & <chr> & <POINT {[}m{]}>\\\\\n",
       "\\hline\n",
       "\t 079 & Aeropuerto Adolfo Suárez-Madrid Barajas & Avda. Hispanidad, s/n           & MADRID            & 1 & Adolfo Suárez-Madrid Barajas & Madrid-Barajas<br>Avda. Hispanidad, s/n                  & POINT (451504.3 4478985)\\\\\n",
       "\t 065 & Aeropuerto Madrid-Cuatro Vientos        & Ctra. Barrio de la Fortuna, s/n & MADRID            & 2 & Madrid-Cuatro Vientos        & Madrid-Cuatro Vientos<br>Ctra. Barrio de la Fortuna, s/n & POINT (434226.4 4469153)\\\\\n",
       "\t 148 & Aeropuerto Madrid-Torrejón de Ardoz     & Ctra. de la Base, s/n           & TORREJÓN DE ARDOZ & 3 & Madrid-Torrejón              & Madrid-Torrejón<br>Ctra. de la Base, s/n                 & POINT (462119.5 4480754)\\\\\n",
       "\\end{tabular}\n"
      ],
      "text/markdown": [
       "\n",
       "A sf: 3 × 8\n",
       "\n",
       "| CMUN &lt;chr&gt; | BUSCA &lt;chr&gt; | DIRECCIÓN &lt;chr&gt; | MUNICIPIO &lt;chr&gt; | CODIGO2 &lt;int&gt; | ETIQUETA &lt;chr&gt; | INFOR &lt;chr&gt; | geometry &lt;POINT [m]&gt; |\n",
       "|---|---|---|---|---|---|---|---|\n",
       "| 079 | Aeropuerto Adolfo Suárez-Madrid Barajas | Avda. Hispanidad, s/n           | MADRID            | 1 | Adolfo Suárez-Madrid Barajas | Madrid-Barajas&lt;br&gt;Avda. Hispanidad, s/n                  | POINT (451504.3 4478985) |\n",
       "| 065 | Aeropuerto Madrid-Cuatro Vientos        | Ctra. Barrio de la Fortuna, s/n | MADRID            | 2 | Madrid-Cuatro Vientos        | Madrid-Cuatro Vientos&lt;br&gt;Ctra. Barrio de la Fortuna, s/n | POINT (434226.4 4469153) |\n",
       "| 148 | Aeropuerto Madrid-Torrejón de Ardoz     | Ctra. de la Base, s/n           | TORREJÓN DE ARDOZ | 3 | Madrid-Torrejón              | Madrid-Torrejón&lt;br&gt;Ctra. de la Base, s/n                 | POINT (462119.5 4480754) |\n",
       "\n"
      ],
      "text/plain": [
       "  CMUN BUSCA                                   DIRECCIÓN                      \n",
       "1 079  Aeropuerto Adolfo Suárez-Madrid Barajas Avda. Hispanidad, s/n          \n",
       "2 065  Aeropuerto Madrid-Cuatro Vientos        Ctra. Barrio de la Fortuna, s/n\n",
       "3 148  Aeropuerto Madrid-Torrejón de Ardoz     Ctra. de la Base, s/n          \n",
       "  MUNICIPIO         CODIGO2 ETIQUETA                    \n",
       "1 MADRID            1       Adolfo Suárez-Madrid Barajas\n",
       "2 MADRID            2       Madrid-Cuatro Vientos       \n",
       "3 TORREJÓN DE ARDOZ 3       Madrid-Torrejón             \n",
       "  INFOR                                                   \n",
       "1 Madrid-Barajas<br>Avda. Hispanidad, s/n                 \n",
       "2 Madrid-Cuatro Vientos<br>Ctra. Barrio de la Fortuna, s/n\n",
       "3 Madrid-Torrejón<br>Ctra. de la Base, s/n                \n",
       "  geometry                \n",
       "1 POINT (451504.3 4478985)\n",
       "2 POINT (434226.4 4469153)\n",
       "3 POINT (462119.5 4480754)"
      ]
     },
     "metadata": {},
     "output_type": "display_data"
    }
   ],
   "source": [
    "data_03 |> slice_head(n = 5)"
   ]
  },
  {
   "attachments": {},
   "cell_type": "markdown",
   "metadata": {},
   "source": [
    "### 4. Estaciones de Cercanías"
   ]
  },
  {
   "attachments": {},
   "cell_type": "markdown",
   "metadata": {},
   "source": [
    "<font color='tomato'><b> OPCION A:</b> Seleccionar fichero en ventana para mayor comodidad</font> \n"
   ]
  },
  {
   "attachments": {},
   "cell_type": "markdown",
   "metadata": {},
   "source": [
    "Data load using the {tcltk} package. Ucomment the line if not using this option"
   ]
  },
  {
   "cell_type": "code",
   "execution_count": null,
   "metadata": {
    "vscode": {
     "languageId": "r"
    }
   },
   "outputs": [],
   "source": [
    "# file_data_04 <- tcltk::tk_choose.files(multi = FALSE)"
   ]
  },
  {
   "attachments": {},
   "cell_type": "markdown",
   "metadata": {},
   "source": [
    "<font color='tomato'><b> OPCION B:</b> Especificar el nombre de archivo</font>\n",
    "\n",
    "NOTA: se omiten las comprobaciones de existencia de archivo para mejor compresión del código"
   ]
  },
  {
   "cell_type": "code",
   "execution_count": 28,
   "metadata": {
    "vscode": {
     "languageId": "r"
    }
   },
   "outputs": [],
   "source": [
    "iFile_04 <- \"Transportes y comunicaciones_ Cercanías (estaciones)/\"\n",
    "file_data_04 <- paste0(iPath, iFile_04)\n"
   ]
  },
  {
   "attachments": {},
   "cell_type": "markdown",
   "metadata": {},
   "source": [
    "#### Data file to dataframe\n",
    "\n",
    "Usar la función adecuada según el formato de entrada (xlsx, csv, json, ...)"
   ]
  },
  {
   "cell_type": "code",
   "execution_count": 96,
   "metadata": {
    "vscode": {
     "languageId": "r"
    }
   },
   "outputs": [
    {
     "name": "stdout",
     "output_type": "stream",
     "text": [
      "options:        ENCODING=latin1 \n",
      "Reading layer `estcerca' from data source \n",
      "  `/Users/emilio.lcano/academico/gh_repos/__transferencia/citizenlab/CitizenLab-Research-and-Development/casos_urjc/notebooks/II_data_processing/18_infraestructuras/Data/Input/Transportes y Comunicaciones_ Cercanías (estaciones)' \n",
      "  using driver `ESRI Shapefile'\n",
      "Simple feature collection with 93 features and 8 fields\n",
      "Geometry type: POINT\n",
      "Dimension:     XY\n",
      "Bounding box:  xmin: 900524.4 ymin: 4445522 xmax: 982989.2 ymax: 4531246\n",
      "Projected CRS: ETRS89 / UTM zone 29N\n"
     ]
    }
   ],
   "source": [
    "data_04 <- st_read(file_data_04,\n",
    "                            options = \"ENCODING=latin1\", \n",
    "                            quiet = FALSE)\n"
   ]
  },
  {
   "attachments": {},
   "cell_type": "markdown",
   "metadata": {},
   "source": [
    "Estructura de  los datos:"
   ]
  },
  {
   "cell_type": "code",
   "execution_count": 97,
   "metadata": {
    "vscode": {
     "languageId": "r"
    }
   },
   "outputs": [
    {
     "name": "stdout",
     "output_type": "stream",
     "text": [
      "Rows: 93\n",
      "Columns: 9\n",
      "$ LINEA     \u001b[3m\u001b[90m<chr>\u001b[39m\u001b[23m \"C-2, C-7, C-8\", \"C-2, C-7, C-8\", \"C-2, C-7, C-8\", \"C-2, C-7…\n",
      "$ MUNICIPIO \u001b[3m\u001b[90m<chr>\u001b[39m\u001b[23m \"Alcalá de Henares\", \"Torrejón de Ardoz\", \"Coslada\", \"Coslad…\n",
      "$ CMUN      \u001b[3m\u001b[90m<chr>\u001b[39m\u001b[23m \"005\", \"148\", \"049\", \"049\", \"079\", \"079\", \"079\", \"079\", \"079…\n",
      "$ CONEXION  \u001b[3m\u001b[90m<chr>\u001b[39m\u001b[23m \"Aparcamiento\", \"Aparcamiento\", \"Aparcamiento\", \"Aparcamient…\n",
      "$ ETIQUETA  \u001b[3m\u001b[90m<chr>\u001b[39m\u001b[23m \"Alcalá de Henares\", \"Torrejón de Ardoz\", \"San Fernando de H…\n",
      "$ UTM_X     \u001b[3m\u001b[90m<int>\u001b[39m\u001b[23m 468990, 459317, 454718, 452407, 449429, 448313, 446984, 4442…\n",
      "$ UTM_Y     \u001b[3m\u001b[90m<int>\u001b[39m\u001b[23m 4482106, 4478341, 4477023, 4474944, 4472464, 4470879, 447034…\n",
      "$ COD_SUCA  \u001b[3m\u001b[90m<chr>\u001b[39m\u001b[23m \"005A0549\", \"14801866\", \"04910029\", \"049A0172\", \"07908410\", …\n",
      "$ geometry  \u001b[3m\u001b[90m<POINT [m]>\u001b[39m\u001b[23m POINT (977597.5 4497316), POINT (968176.9 4492889), PO…\n"
     ]
    }
   ],
   "source": [
    "glimpse(data_04)"
   ]
  },
  {
   "attachments": {},
   "cell_type": "markdown",
   "metadata": {},
   "source": [
    "Muestra de datos:"
   ]
  },
  {
   "cell_type": "code",
   "execution_count": 31,
   "metadata": {
    "vscode": {
     "languageId": "r"
    }
   },
   "outputs": [
    {
     "data": {
      "application/geo+json": {
       "features": [
        {
         "geometry": {
          "coordinates": [
           977597.4532,
           4497315.7029
          ],
          "type": "Point"
         },
         "properties": {
          "CMUN": "005",
          "COD_SUCA": "005A0549",
          "CONEXION": "Aparcamiento",
          "ETIQUETA": "Alcalá de Henares",
          "LINEA": "C-2, C-7, C-8",
          "MUNICIPIO": "Alcalá de Henares",
          "UTM_X": 468990,
          "UTM_Y": 4482106
         },
         "type": "Feature"
        },
        {
         "geometry": {
          "coordinates": [
           968176.9343,
           4492888.8284
          ],
          "type": "Point"
         },
         "properties": {
          "CMUN": "148",
          "COD_SUCA": "14801866",
          "CONEXION": "Aparcamiento",
          "ETIQUETA": "Torrejón de Ardoz",
          "LINEA": "C-2, C-7, C-8",
          "MUNICIPIO": "Torrejón de Ardoz",
          "UTM_X": 459317,
          "UTM_Y": 4478341
         },
         "type": "Feature"
        },
        {
         "geometry": {
          "coordinates": [
           963665.9112,
           4491256.8988
          ],
          "type": "Point"
         },
         "properties": {
          "CMUN": "049",
          "COD_SUCA": "04910029",
          "CONEXION": "Aparcamiento",
          "ETIQUETA": "San Fernando de Henares",
          "LINEA": "C-2, C-7, C-8",
          "MUNICIPIO": "Coslada",
          "UTM_X": 454718,
          "UTM_Y": 4477023
         },
         "type": "Feature"
        },
        {
         "geometry": {
          "coordinates": [
           961496.2879,
           4489019.7379
          ],
          "type": "Point"
         },
         "properties": {
          "CMUN": "049",
          "COD_SUCA": "049A0172",
          "CONEXION": "Aparcamiento, conexión L-7 metro",
          "ETIQUETA": "Coslada",
          "LINEA": "C-2, C-7, C-8",
          "MUNICIPIO": "Coslada",
          "UTM_X": 452407,
          "UTM_Y": 4474944
         },
         "type": "Feature"
        },
        {
         "geometry": {
          "coordinates": [
           958686.4446,
           4486336.2324
          ],
          "type": "Point"
         },
         "properties": {
          "CMUN": "079",
          "COD_SUCA": "07908410",
          "CONEXION": "Aparcamiento, conexión L-9 metro",
          "ETIQUETA": "Vicálvaro",
          "LINEA": "C-2, C-7, C-8",
          "MUNICIPIO": "Madrid",
          "UTM_X": 449429,
          "UTM_Y": 4472464
         },
         "type": "Feature"
        }
       ],
       "type": "FeatureCollection"
      },
      "text/html": [
       "<table class=\"dataframe\">\n",
       "<caption>A sf: 5 × 9</caption>\n",
       "<thead>\n",
       "\t<tr><th scope=col>LINEA</th><th scope=col>MUNICIPIO</th><th scope=col>CMUN</th><th scope=col>CONEXION</th><th scope=col>ETIQUETA</th><th scope=col>UTM_X</th><th scope=col>UTM_Y</th><th scope=col>COD_SUCA</th><th scope=col>geometry</th></tr>\n",
       "\t<tr><th scope=col>&lt;chr&gt;</th><th scope=col>&lt;chr&gt;</th><th scope=col>&lt;chr&gt;</th><th scope=col>&lt;chr&gt;</th><th scope=col>&lt;chr&gt;</th><th scope=col>&lt;int&gt;</th><th scope=col>&lt;int&gt;</th><th scope=col>&lt;chr&gt;</th><th scope=col>&lt;POINT [m]&gt;</th></tr>\n",
       "</thead>\n",
       "<tbody>\n",
       "\t<tr><td>C-2, C-7, C-8</td><td>Alcalá de Henares</td><td>005</td><td>Aparcamiento                    </td><td>Alcalá de Henares      </td><td>468990</td><td>4482106</td><td>005A0549</td><td>POINT (977597.5 4497316)</td></tr>\n",
       "\t<tr><td>C-2, C-7, C-8</td><td>Torrejón de Ardoz</td><td>148</td><td>Aparcamiento                    </td><td>Torrejón de Ardoz      </td><td>459317</td><td>4478341</td><td>14801866</td><td>POINT (968176.9 4492889)</td></tr>\n",
       "\t<tr><td>C-2, C-7, C-8</td><td>Coslada          </td><td>049</td><td>Aparcamiento                    </td><td>San Fernando de Henares</td><td>454718</td><td>4477023</td><td>04910029</td><td>POINT (963665.9 4491257)</td></tr>\n",
       "\t<tr><td>C-2, C-7, C-8</td><td>Coslada          </td><td>049</td><td>Aparcamiento, conexión L-7 metro</td><td>Coslada                </td><td>452407</td><td>4474944</td><td>049A0172</td><td>POINT (961496.3 4489020)</td></tr>\n",
       "\t<tr><td>C-2, C-7, C-8</td><td>Madrid           </td><td>079</td><td>Aparcamiento, conexión L-9 metro</td><td>Vicálvaro              </td><td>449429</td><td>4472464</td><td>07908410</td><td>POINT (958686.4 4486336)</td></tr>\n",
       "</tbody>\n",
       "</table>\n"
      ],
      "text/latex": [
       "A sf: 5 × 9\n",
       "\\begin{tabular}{lllllllll}\n",
       " LINEA & MUNICIPIO & CMUN & CONEXION & ETIQUETA & UTM\\_X & UTM\\_Y & COD\\_SUCA & geometry\\\\\n",
       " <chr> & <chr> & <chr> & <chr> & <chr> & <int> & <int> & <chr> & <POINT {[}m{]}>\\\\\n",
       "\\hline\n",
       "\t C-2, C-7, C-8 & Alcalá de Henares & 005 & Aparcamiento                     & Alcalá de Henares       & 468990 & 4482106 & 005A0549 & POINT (977597.5 4497316)\\\\\n",
       "\t C-2, C-7, C-8 & Torrejón de Ardoz & 148 & Aparcamiento                     & Torrejón de Ardoz       & 459317 & 4478341 & 14801866 & POINT (968176.9 4492889)\\\\\n",
       "\t C-2, C-7, C-8 & Coslada           & 049 & Aparcamiento                     & San Fernando de Henares & 454718 & 4477023 & 04910029 & POINT (963665.9 4491257)\\\\\n",
       "\t C-2, C-7, C-8 & Coslada           & 049 & Aparcamiento, conexión L-7 metro & Coslada                 & 452407 & 4474944 & 049A0172 & POINT (961496.3 4489020)\\\\\n",
       "\t C-2, C-7, C-8 & Madrid            & 079 & Aparcamiento, conexión L-9 metro & Vicálvaro               & 449429 & 4472464 & 07908410 & POINT (958686.4 4486336)\\\\\n",
       "\\end{tabular}\n"
      ],
      "text/markdown": [
       "\n",
       "A sf: 5 × 9\n",
       "\n",
       "| LINEA &lt;chr&gt; | MUNICIPIO &lt;chr&gt; | CMUN &lt;chr&gt; | CONEXION &lt;chr&gt; | ETIQUETA &lt;chr&gt; | UTM_X &lt;int&gt; | UTM_Y &lt;int&gt; | COD_SUCA &lt;chr&gt; | geometry &lt;POINT [m]&gt; |\n",
       "|---|---|---|---|---|---|---|---|---|\n",
       "| C-2, C-7, C-8 | Alcalá de Henares | 005 | Aparcamiento                     | Alcalá de Henares       | 468990 | 4482106 | 005A0549 | POINT (977597.5 4497316) |\n",
       "| C-2, C-7, C-8 | Torrejón de Ardoz | 148 | Aparcamiento                     | Torrejón de Ardoz       | 459317 | 4478341 | 14801866 | POINT (968176.9 4492889) |\n",
       "| C-2, C-7, C-8 | Coslada           | 049 | Aparcamiento                     | San Fernando de Henares | 454718 | 4477023 | 04910029 | POINT (963665.9 4491257) |\n",
       "| C-2, C-7, C-8 | Coslada           | 049 | Aparcamiento, conexión L-7 metro | Coslada                 | 452407 | 4474944 | 049A0172 | POINT (961496.3 4489020) |\n",
       "| C-2, C-7, C-8 | Madrid            | 079 | Aparcamiento, conexión L-9 metro | Vicálvaro               | 449429 | 4472464 | 07908410 | POINT (958686.4 4486336) |\n",
       "\n"
      ],
      "text/plain": [
       "  LINEA         MUNICIPIO         CMUN CONEXION                        \n",
       "1 C-2, C-7, C-8 Alcalá de Henares 005  Aparcamiento                    \n",
       "2 C-2, C-7, C-8 Torrejón de Ardoz 148  Aparcamiento                    \n",
       "3 C-2, C-7, C-8 Coslada           049  Aparcamiento                    \n",
       "4 C-2, C-7, C-8 Coslada           049  Aparcamiento, conexión L-7 metro\n",
       "5 C-2, C-7, C-8 Madrid            079  Aparcamiento, conexión L-9 metro\n",
       "  ETIQUETA                UTM_X  UTM_Y   COD_SUCA geometry                \n",
       "1 Alcalá de Henares       468990 4482106 005A0549 POINT (977597.5 4497316)\n",
       "2 Torrejón de Ardoz       459317 4478341 14801866 POINT (968176.9 4492889)\n",
       "3 San Fernando de Henares 454718 4477023 04910029 POINT (963665.9 4491257)\n",
       "4 Coslada                 452407 4474944 049A0172 POINT (961496.3 4489020)\n",
       "5 Vicálvaro               449429 4472464 07908410 POINT (958686.4 4486336)"
      ]
     },
     "metadata": {},
     "output_type": "display_data"
    }
   ],
   "source": [
    "data_04 |> slice_head(n = 5)"
   ]
  },
  {
   "attachments": {},
   "cell_type": "markdown",
   "metadata": {},
   "source": [
    "### 5. Helisuperficies"
   ]
  },
  {
   "attachments": {},
   "cell_type": "markdown",
   "metadata": {},
   "source": [
    "<font color='tomato'><b> OPCION A:</b> Seleccionar fichero en ventana para mayor comodidad</font> \n"
   ]
  },
  {
   "attachments": {},
   "cell_type": "markdown",
   "metadata": {},
   "source": [
    "Data load using the {tcltk} package. Ucomment the line if not using this option"
   ]
  },
  {
   "cell_type": "code",
   "execution_count": null,
   "metadata": {
    "vscode": {
     "languageId": "r"
    }
   },
   "outputs": [],
   "source": [
    "# file_data_05 <- tcltk::tk_choose.files(multi = FALSE)"
   ]
  },
  {
   "attachments": {},
   "cell_type": "markdown",
   "metadata": {},
   "source": [
    "<font color='tomato'><b> OPCION B:</b> Especificar el nombre de archivo</font>\n",
    "\n",
    "NOTA: se omiten las comprobaciones de existencia de archivo para mejor compresión del código"
   ]
  },
  {
   "cell_type": "code",
   "execution_count": 32,
   "metadata": {
    "vscode": {
     "languageId": "r"
    }
   },
   "outputs": [],
   "source": [
    "iFile_05 <- \"Transportes y comunicaciones_ Helisuperficies/\"\n",
    "file_data_05 <- paste0(iPath, iFile_05)\n"
   ]
  },
  {
   "attachments": {},
   "cell_type": "markdown",
   "metadata": {},
   "source": [
    "#### Data file to dataframe\n",
    "\n",
    "Usar la función adecuada según el formato de entrada (xlsx, csv, json, ...)"
   ]
  },
  {
   "cell_type": "code",
   "execution_count": 37,
   "metadata": {
    "vscode": {
     "languageId": "r"
    }
   },
   "outputs": [
    {
     "name": "stdout",
     "output_type": "stream",
     "text": [
      "options:        ENCODING=latin1 \n",
      "Reading layer `helisuper' from data source \n",
      "  `/Users/emilio.lcano/academico/gh_repos/__transferencia/citizenlab/CitizenLab-Research-and-Development/casos_urjc/notebooks/II_data_processing/18_infraestructuras/Data/Input/Transportes y comunicaciones_ Helisuperficies' \n",
      "  using driver `ESRI Shapefile'\n",
      "Simple feature collection with 87 features and 8 fields\n",
      "Geometry type: POINT\n",
      "Dimension:     XY\n",
      "Bounding box:  xmin: 373754 ymin: 4434452 xmax: 490376 ymax: 4550969\n",
      "Projected CRS: ETRS89 / UTM zone 30N\n"
     ]
    }
   ],
   "source": [
    "data_05 <- st_read(file_data_05,\n",
    "                            options = \"ENCODING=latin1\", \n",
    "                            quiet = FALSE)\n"
   ]
  },
  {
   "attachments": {},
   "cell_type": "markdown",
   "metadata": {},
   "source": [
    "Estructura de  los datos:"
   ]
  },
  {
   "cell_type": "code",
   "execution_count": 38,
   "metadata": {
    "vscode": {
     "languageId": "r"
    }
   },
   "outputs": [
    {
     "name": "stdout",
     "output_type": "stream",
     "text": [
      "Rows: 87\n",
      "Columns: 9\n",
      "$ CMUN      \u001b[3m\u001b[90m<chr>\u001b[39m\u001b[23m \"0133\", \"0604\", \"0528\", \"1570\", \"0552\", \"0259\", \"0915\", \"091…\n",
      "$ MUNICIPIO \u001b[3m\u001b[90m<chr>\u001b[39m\u001b[23m \"Aranjuez\", \"Fuentidueña de Tajo\", \"Chinchón\", \"Valdelaguna\"…\n",
      "$ ETIQUETA  \u001b[3m\u001b[90m<chr>\u001b[39m\u001b[23m \"Helipuerto Hospital del Tajo\", \"Helipuerto Eventual de Fuen…\n",
      "$ USO       \u001b[3m\u001b[90m<chr>\u001b[39m\u001b[23m \"Sanitarias/ Emergencias\", \"Emergencias Sanitarias\", \"Emerge…\n",
      "$ GESTOR    \u001b[3m\u001b[90m<chr>\u001b[39m\u001b[23m \"Hospital del Tajo (Aranjuez)\", \"Ayuntamiento de Fuentidueña…\n",
      "$ UTM_X     \u001b[3m\u001b[90m<dbl>\u001b[39m\u001b[23m 447862, 485991, 463295, 467472, 490106, 490376, 461962, 4591…\n",
      "$ UTM_Y     \u001b[3m\u001b[90m<dbl>\u001b[39m\u001b[23m 4434452, 4441209, 4444189, 4445339, 4449213, 4453110, 445350…\n",
      "$ CLAVE     \u001b[3m\u001b[90m<chr>\u001b[39m\u001b[23m \"HPUR\", \"HUEOEE\", \"HUEOEE\", \"ACUPUR\", \"HUEOEE\", \"HUEOEE\", \"H…\n",
      "$ geometry  \u001b[3m\u001b[90m<POINT [m]>\u001b[39m\u001b[23m POINT (447862 4434452), POINT (485991 4441209), POINT …\n"
     ]
    }
   ],
   "source": [
    "glimpse(data_05)"
   ]
  },
  {
   "attachments": {},
   "cell_type": "markdown",
   "metadata": {},
   "source": [
    "Muestra de datos:"
   ]
  },
  {
   "cell_type": "code",
   "execution_count": 39,
   "metadata": {
    "vscode": {
     "languageId": "r"
    }
   },
   "outputs": [
    {
     "data": {
      "application/geo+json": {
       "features": [
        {
         "geometry": {
          "coordinates": [
           447862,
           4434452
          ],
          "type": "Point"
         },
         "properties": {
          "CLAVE": "HPUR",
          "CMUN": "0133",
          "ETIQUETA": "Helipuerto Hospital del Tajo",
          "GESTOR": "Hospital del Tajo (Aranjuez)",
          "MUNICIPIO": "Aranjuez",
          "USO": "Sanitarias/ Emergencias",
          "UTM_X": 447862,
          "UTM_Y": 4434452
         },
         "type": "Feature"
        },
        {
         "geometry": {
          "coordinates": [
           485991,
           4441209
          ],
          "type": "Point"
         },
         "properties": {
          "CLAVE": "HUEOEE",
          "CMUN": "0604",
          "ETIQUETA": "Helipuerto Eventual de Fuentidueña del Tajo",
          "GESTOR": "Ayuntamiento de Fuentidueña de Tajo",
          "MUNICIPIO": "Fuentidueña de Tajo",
          "USO": "Emergencias Sanitarias",
          "UTM_X": 485991,
          "UTM_Y": 4441209
         },
         "type": "Feature"
        },
        {
         "geometry": {
          "coordinates": [
           463295,
           4444189
          ],
          "type": "Point"
         },
         "properties": {
          "CLAVE": "HUEOEE",
          "CMUN": "0528",
          "ETIQUETA": "Helipuerto Eventual de Chinchón",
          "GESTOR": "Ayuntamiento de Chinchón",
          "MUNICIPIO": "Chinchón",
          "USO": "Emergencias Sanitarias",
          "UTM_X": 463295,
          "UTM_Y": 4444189
         },
         "type": "Feature"
        },
        {
         "geometry": {
          "coordinates": [
           467472,
           4445339
          ],
          "type": "Point"
         },
         "properties": {
          "CLAVE": "ACUPUR",
          "CMUN": "1570",
          "ETIQUETA": "Campo de Ultraligeros de Valdelaguna",
          "GESTOR": "Carina Delgado Ramos.",
          "MUNICIPIO": "Valdelaguna",
          "USO": "Aviación Deportiva/ Escuela",
          "UTM_X": 467472,
          "UTM_Y": 4445339
         },
         "type": "Feature"
        },
        {
         "geometry": {
          "coordinates": [
           490106,
           4449213
          ],
          "type": "Point"
         },
         "properties": {
          "CLAVE": "HUEOEE",
          "CMUN": "0552",
          "ETIQUETA": "Helipuerto Eventual de Estremera",
          "GESTOR": "Ayuntamiento de Estremera",
          "MUNICIPIO": "Estremera",
          "USO": "Emergencias Sanitarias",
          "UTM_X": 490106,
          "UTM_Y": 4449213
         },
         "type": "Feature"
        }
       ],
       "type": "FeatureCollection"
      },
      "text/html": [
       "<table class=\"dataframe\">\n",
       "<caption>A sf: 5 × 9</caption>\n",
       "<thead>\n",
       "\t<tr><th scope=col>CMUN</th><th scope=col>MUNICIPIO</th><th scope=col>ETIQUETA</th><th scope=col>USO</th><th scope=col>GESTOR</th><th scope=col>UTM_X</th><th scope=col>UTM_Y</th><th scope=col>CLAVE</th><th scope=col>geometry</th></tr>\n",
       "\t<tr><th scope=col>&lt;chr&gt;</th><th scope=col>&lt;chr&gt;</th><th scope=col>&lt;chr&gt;</th><th scope=col>&lt;chr&gt;</th><th scope=col>&lt;chr&gt;</th><th scope=col>&lt;dbl&gt;</th><th scope=col>&lt;dbl&gt;</th><th scope=col>&lt;chr&gt;</th><th scope=col>&lt;POINT [m]&gt;</th></tr>\n",
       "</thead>\n",
       "<tbody>\n",
       "\t<tr><td>0133</td><td>Aranjuez           </td><td>Helipuerto Hospital del Tajo               </td><td>Sanitarias/ Emergencias    </td><td>Hospital del Tajo (Aranjuez)       </td><td>447862</td><td>4434452</td><td>HPUR  </td><td>POINT (447862 4434452)</td></tr>\n",
       "\t<tr><td>0604</td><td>Fuentidueña de Tajo</td><td>Helipuerto Eventual de Fuentidueña del Tajo</td><td>Emergencias Sanitarias     </td><td>Ayuntamiento de Fuentidueña de Tajo</td><td>485991</td><td>4441209</td><td>HUEOEE</td><td>POINT (485991 4441209)</td></tr>\n",
       "\t<tr><td>0528</td><td>Chinchón           </td><td>Helipuerto Eventual de Chinchón            </td><td>Emergencias Sanitarias     </td><td>Ayuntamiento de Chinchón           </td><td>463295</td><td>4444189</td><td>HUEOEE</td><td>POINT (463295 4444189)</td></tr>\n",
       "\t<tr><td>1570</td><td>Valdelaguna        </td><td>Campo de Ultraligeros de Valdelaguna       </td><td>Aviación Deportiva/ Escuela</td><td>Carina Delgado Ramos.              </td><td>467472</td><td>4445339</td><td>ACUPUR</td><td>POINT (467472 4445339)</td></tr>\n",
       "\t<tr><td>0552</td><td>Estremera          </td><td>Helipuerto Eventual de Estremera           </td><td>Emergencias Sanitarias     </td><td>Ayuntamiento de Estremera          </td><td>490106</td><td>4449213</td><td>HUEOEE</td><td>POINT (490106 4449213)</td></tr>\n",
       "</tbody>\n",
       "</table>\n"
      ],
      "text/latex": [
       "A sf: 5 × 9\n",
       "\\begin{tabular}{lllllllll}\n",
       " CMUN & MUNICIPIO & ETIQUETA & USO & GESTOR & UTM\\_X & UTM\\_Y & CLAVE & geometry\\\\\n",
       " <chr> & <chr> & <chr> & <chr> & <chr> & <dbl> & <dbl> & <chr> & <POINT {[}m{]}>\\\\\n",
       "\\hline\n",
       "\t 0133 & Aranjuez            & Helipuerto Hospital del Tajo                & Sanitarias/ Emergencias     & Hospital del Tajo (Aranjuez)        & 447862 & 4434452 & HPUR   & POINT (447862 4434452)\\\\\n",
       "\t 0604 & Fuentidueña de Tajo & Helipuerto Eventual de Fuentidueña del Tajo & Emergencias Sanitarias      & Ayuntamiento de Fuentidueña de Tajo & 485991 & 4441209 & HUEOEE & POINT (485991 4441209)\\\\\n",
       "\t 0528 & Chinchón            & Helipuerto Eventual de Chinchón             & Emergencias Sanitarias      & Ayuntamiento de Chinchón            & 463295 & 4444189 & HUEOEE & POINT (463295 4444189)\\\\\n",
       "\t 1570 & Valdelaguna         & Campo de Ultraligeros de Valdelaguna        & Aviación Deportiva/ Escuela & Carina Delgado Ramos.               & 467472 & 4445339 & ACUPUR & POINT (467472 4445339)\\\\\n",
       "\t 0552 & Estremera           & Helipuerto Eventual de Estremera            & Emergencias Sanitarias      & Ayuntamiento de Estremera           & 490106 & 4449213 & HUEOEE & POINT (490106 4449213)\\\\\n",
       "\\end{tabular}\n"
      ],
      "text/markdown": [
       "\n",
       "A sf: 5 × 9\n",
       "\n",
       "| CMUN &lt;chr&gt; | MUNICIPIO &lt;chr&gt; | ETIQUETA &lt;chr&gt; | USO &lt;chr&gt; | GESTOR &lt;chr&gt; | UTM_X &lt;dbl&gt; | UTM_Y &lt;dbl&gt; | CLAVE &lt;chr&gt; | geometry &lt;POINT [m]&gt; |\n",
       "|---|---|---|---|---|---|---|---|---|\n",
       "| 0133 | Aranjuez            | Helipuerto Hospital del Tajo                | Sanitarias/ Emergencias     | Hospital del Tajo (Aranjuez)        | 447862 | 4434452 | HPUR   | POINT (447862 4434452) |\n",
       "| 0604 | Fuentidueña de Tajo | Helipuerto Eventual de Fuentidueña del Tajo | Emergencias Sanitarias      | Ayuntamiento de Fuentidueña de Tajo | 485991 | 4441209 | HUEOEE | POINT (485991 4441209) |\n",
       "| 0528 | Chinchón            | Helipuerto Eventual de Chinchón             | Emergencias Sanitarias      | Ayuntamiento de Chinchón            | 463295 | 4444189 | HUEOEE | POINT (463295 4444189) |\n",
       "| 1570 | Valdelaguna         | Campo de Ultraligeros de Valdelaguna        | Aviación Deportiva/ Escuela | Carina Delgado Ramos.               | 467472 | 4445339 | ACUPUR | POINT (467472 4445339) |\n",
       "| 0552 | Estremera           | Helipuerto Eventual de Estremera            | Emergencias Sanitarias      | Ayuntamiento de Estremera           | 490106 | 4449213 | HUEOEE | POINT (490106 4449213) |\n",
       "\n"
      ],
      "text/plain": [
       "  CMUN MUNICIPIO           ETIQUETA                                   \n",
       "1 0133 Aranjuez            Helipuerto Hospital del Tajo               \n",
       "2 0604 Fuentidueña de Tajo Helipuerto Eventual de Fuentidueña del Tajo\n",
       "3 0528 Chinchón            Helipuerto Eventual de Chinchón            \n",
       "4 1570 Valdelaguna         Campo de Ultraligeros de Valdelaguna       \n",
       "5 0552 Estremera           Helipuerto Eventual de Estremera           \n",
       "  USO                         GESTOR                              UTM_X \n",
       "1 Sanitarias/ Emergencias     Hospital del Tajo (Aranjuez)        447862\n",
       "2 Emergencias Sanitarias      Ayuntamiento de Fuentidueña de Tajo 485991\n",
       "3 Emergencias Sanitarias      Ayuntamiento de Chinchón            463295\n",
       "4 Aviación Deportiva/ Escuela Carina Delgado Ramos.               467472\n",
       "5 Emergencias Sanitarias      Ayuntamiento de Estremera           490106\n",
       "  UTM_Y   CLAVE  geometry              \n",
       "1 4434452 HPUR   POINT (447862 4434452)\n",
       "2 4441209 HUEOEE POINT (485991 4441209)\n",
       "3 4444189 HUEOEE POINT (463295 4444189)\n",
       "4 4445339 ACUPUR POINT (467472 4445339)\n",
       "5 4449213 HUEOEE POINT (490106 4449213)"
      ]
     },
     "metadata": {},
     "output_type": "display_data"
    }
   ],
   "source": [
    "data_05 |> slice_head(n = 5)"
   ]
  },
  {
   "attachments": {},
   "cell_type": "markdown",
   "metadata": {},
   "source": [
    "### 6. Centros de Atención Integral a Drogodependiente"
   ]
  },
  {
   "attachments": {},
   "cell_type": "markdown",
   "metadata": {},
   "source": [
    "<font color='tomato'><b> OPCION A:</b> Seleccionar fichero en ventana para mayor comodidad</font> \n"
   ]
  },
  {
   "attachments": {},
   "cell_type": "markdown",
   "metadata": {},
   "source": [
    "Data load using the {tcltk} package. Ucomment the line if not using this option"
   ]
  },
  {
   "cell_type": "code",
   "execution_count": null,
   "metadata": {
    "vscode": {
     "languageId": "r"
    }
   },
   "outputs": [],
   "source": [
    "# file_data_06 <- tcltk::tk_choose.files(multi = FALSE)"
   ]
  },
  {
   "attachments": {},
   "cell_type": "markdown",
   "metadata": {},
   "source": [
    "<font color='tomato'><b> OPCION B:</b> Especificar el nombre de archivo</font>\n",
    "\n",
    "NOTA: se omiten las comprobaciones de existencia de archivo para mejor compresión del código"
   ]
  },
  {
   "cell_type": "code",
   "execution_count": 40,
   "metadata": {
    "vscode": {
     "languageId": "r"
    }
   },
   "outputs": [],
   "source": [
    "iFile_06 <- \"Salud_ Centros sanitarios. Centros de Atención Integral a Drogodependientes/drogodependencia.shp\"\n",
    "file_data_06 <- paste0(iPath, iFile_06)\n"
   ]
  },
  {
   "attachments": {},
   "cell_type": "markdown",
   "metadata": {},
   "source": [
    "#### Data file to dataframe\n",
    "\n",
    "Usar la función adecuada según el formato de entrada (xlsx, csv, json, ...)"
   ]
  },
  {
   "cell_type": "code",
   "execution_count": 41,
   "metadata": {
    "vscode": {
     "languageId": "r"
    }
   },
   "outputs": [
    {
     "name": "stdout",
     "output_type": "stream",
     "text": [
      "options:        ENCODING=latin1 \n",
      "Reading layer `drogodependencia' from data source \n",
      "  `/Users/emilio.lcano/academico/gh_repos/__transferencia/citizenlab/CitizenLab-Research-and-Development/casos_urjc/notebooks/II_data_processing/18_infraestructuras/Data/Input/Salud_ Centros sanitarios. Centros de Atención Integral a Drogodependientes/drogodependencia.shp' \n",
      "  using driver `ESRI Shapefile'\n",
      "Simple feature collection with 35 features and 9 fields\n",
      "Geometry type: POINT\n",
      "Dimension:     XY\n",
      "Bounding box:  xmin: 380860 ymin: 4431637 xmax: 468812 ymax: 4501031\n",
      "Projected CRS: ETRS89 / UTM zone 30N\n"
     ]
    }
   ],
   "source": [
    "data_06 <- st_read(file_data_06,\n",
    "                            options = \"ENCODING=latin1\", \n",
    "                            quiet = FALSE)\n"
   ]
  },
  {
   "attachments": {},
   "cell_type": "markdown",
   "metadata": {},
   "source": [
    "Estructura de  los datos:"
   ]
  },
  {
   "cell_type": "code",
   "execution_count": 42,
   "metadata": {
    "vscode": {
     "languageId": "r"
    }
   },
   "outputs": [
    {
     "name": "stdout",
     "output_type": "stream",
     "text": [
      "Rows: 35\n",
      "Columns: 10\n",
      "$ CODMUN    \u001b[3m\u001b[90m<chr>\u001b[39m\u001b[23m \"005\", \"006\", \"007\", \"013\", \"014\", \"047\", \"045\", \"049\", \"079…\n",
      "$ NOMBRE    \u001b[3m\u001b[90m<chr>\u001b[39m\u001b[23m \"Centro de Atención Integral a Drogodependientes Alcalá de H…\n",
      "$ DIRECCION \u001b[3m\u001b[90m<chr>\u001b[39m\u001b[23m \"C/ Santiago, 13 - planta\", \"C/ Libertad, 6 - 2º\", \"Paseo de…\n",
      "$ UTM_X     \u001b[3m\u001b[90m<dbl>\u001b[39m\u001b[23m 468812, 446255, 429345, 449413, 463258, 414669, 434697, 4531…\n",
      "$ UTM_Y     \u001b[3m\u001b[90m<dbl>\u001b[39m\u001b[23m 4481428, 4487944, 4466846, 4431637, 4460592, 4498050, 450103…\n",
      "$ MUNICIPIO \u001b[3m\u001b[90m<chr>\u001b[39m\u001b[23m \"Alcalá de Henares\", \"Alcobendas\", \"Alcorcón\", \"Aranjuez\", \"…\n",
      "$ URL       \u001b[3m\u001b[90m<chr>\u001b[39m\u001b[23m \"http://centrossanitarios.sanidadmadrid.org/Otros/Detalle.as…\n",
      "$ CODIGO2   \u001b[3m\u001b[90m<int>\u001b[39m\u001b[23m 1, 2, 3, 4, 5, 6, 7, 8, 9, 10, 11, 12, 13, 14, 15, 16, 17, 1…\n",
      "$ COD_SUCA  \u001b[3m\u001b[90m<chr>\u001b[39m\u001b[23m \"005A0696\", \"006A0179\", \"00701867\", \"013A0208\", \"014A0253\", …\n",
      "$ geometry  \u001b[3m\u001b[90m<POINT [m]>\u001b[39m\u001b[23m POINT (468812 4481428), POINT (446255 4487944), POINT …\n"
     ]
    }
   ],
   "source": [
    "glimpse(data_06)"
   ]
  },
  {
   "attachments": {},
   "cell_type": "markdown",
   "metadata": {},
   "source": [
    "Muestra de datos:"
   ]
  },
  {
   "cell_type": "code",
   "execution_count": 43,
   "metadata": {
    "vscode": {
     "languageId": "r"
    }
   },
   "outputs": [
    {
     "data": {
      "application/geo+json": {
       "features": [
        {
         "geometry": {
          "coordinates": [
           468812,
           4481428
          ],
          "type": "Point"
         },
         "properties": {
          "CODIGO2": 1,
          "CODMUN": "005",
          "COD_SUCA": "005A0696",
          "DIRECCION": "C/ Santiago, 13 - planta",
          "MUNICIPIO": "Alcalá de Henares",
          "NOMBRE": "Centro de Atención Integral a Drogodependientes Alcalá de Henares",
          "URL": "http://centrossanitarios.sanidadmadrid.org/Otros/Detalle.aspx?ID=576",
          "UTM_X": 468812,
          "UTM_Y": 4481428
         },
         "type": "Feature"
        },
        {
         "geometry": {
          "coordinates": [
           446255,
           4487944
          ],
          "type": "Point"
         },
         "properties": {
          "CODIGO2": 2,
          "CODMUN": "006",
          "COD_SUCA": "006A0179",
          "DIRECCION": "C/ Libertad, 6 - 2º",
          "MUNICIPIO": "Alcobendas",
          "NOMBRE": "Centro de Atención Integral a Drogodependientes Alcobendas",
          "URL": "http://centrossanitarios.sanidadmadrid.org/Otros/Detalle.aspx?ID=577",
          "UTM_X": 446255,
          "UTM_Y": 4487944
         },
         "type": "Feature"
        },
        {
         "geometry": {
          "coordinates": [
           429345,
           4466846
          ],
          "type": "Point"
         },
         "properties": {
          "CODIGO2": 3,
          "CODMUN": "007",
          "COD_SUCA": "00701867",
          "DIRECCION": "Paseo de Extremadura, 19",
          "MUNICIPIO": "Alcorcón",
          "NOMBRE": "Centro de Atención Integral a Drogodependientes Alcorcón",
          "URL": "http://centrossanitarios.sanidadmadrid.org/Otros/Detalle.aspx?ID=578",
          "UTM_X": 429345,
          "UTM_Y": 4466846
         },
         "type": "Feature"
        },
        {
         "geometry": {
          "coordinates": [
           449413,
           4431637
          ],
          "type": "Point"
         },
         "properties": {
          "CODIGO2": 4,
          "CODMUN": "013",
          "COD_SUCA": "013A0208",
          "DIRECCION": "C/ Primero de Mayo, 1",
          "MUNICIPIO": "Aranjuez",
          "NOMBRE": "Centro de Atención Integral a Drogodependientes Aranjuez",
          "URL": "http://centrossanitarios.sanidadmadrid.org/Otros/Detalle.aspx?ID=579",
          "UTM_X": 449413,
          "UTM_Y": 4431637
         },
         "type": "Feature"
        },
        {
         "geometry": {
          "coordinates": [
           463258,
           4460592
          ],
          "type": "Point"
         },
         "properties": {
          "CODIGO2": 5,
          "CODMUN": "014",
          "COD_SUCA": "014A0253",
          "DIRECCION": "C/ Camino del Molino, s/n",
          "MUNICIPIO": "Arganda del Rey",
          "NOMBRE": "Centro de Atención Integral a Drogodependientes Arganda del Rey",
          "URL": "http://centrossanitarios.sanidadmadrid.org/Otros/Detalle.aspx?ID=580",
          "UTM_X": 463258,
          "UTM_Y": 4460592
         },
         "type": "Feature"
        }
       ],
       "type": "FeatureCollection"
      },
      "text/html": [
       "<table class=\"dataframe\">\n",
       "<caption>A sf: 5 × 10</caption>\n",
       "<thead>\n",
       "\t<tr><th scope=col>CODMUN</th><th scope=col>NOMBRE</th><th scope=col>DIRECCION</th><th scope=col>UTM_X</th><th scope=col>UTM_Y</th><th scope=col>MUNICIPIO</th><th scope=col>URL</th><th scope=col>CODIGO2</th><th scope=col>COD_SUCA</th><th scope=col>geometry</th></tr>\n",
       "\t<tr><th scope=col>&lt;chr&gt;</th><th scope=col>&lt;chr&gt;</th><th scope=col>&lt;chr&gt;</th><th scope=col>&lt;dbl&gt;</th><th scope=col>&lt;dbl&gt;</th><th scope=col>&lt;chr&gt;</th><th scope=col>&lt;chr&gt;</th><th scope=col>&lt;int&gt;</th><th scope=col>&lt;chr&gt;</th><th scope=col>&lt;POINT [m]&gt;</th></tr>\n",
       "</thead>\n",
       "<tbody>\n",
       "\t<tr><td>005</td><td>Centro de Atención Integral a Drogodependientes Alcalá de Henares</td><td>C/ Santiago, 13 - planta </td><td>468812</td><td>4481428</td><td>Alcalá de Henares</td><td>http://centrossanitarios.sanidadmadrid.org/Otros/Detalle.aspx?ID=576</td><td>1</td><td>005A0696</td><td>POINT (468812 4481428)</td></tr>\n",
       "\t<tr><td>006</td><td>Centro de Atención Integral a Drogodependientes Alcobendas       </td><td>C/ Libertad, 6 - 2º      </td><td>446255</td><td>4487944</td><td>Alcobendas       </td><td>http://centrossanitarios.sanidadmadrid.org/Otros/Detalle.aspx?ID=577</td><td>2</td><td>006A0179</td><td>POINT (446255 4487944)</td></tr>\n",
       "\t<tr><td>007</td><td>Centro de Atención Integral a Drogodependientes Alcorcón         </td><td>Paseo de Extremadura, 19 </td><td>429345</td><td>4466846</td><td>Alcorcón         </td><td>http://centrossanitarios.sanidadmadrid.org/Otros/Detalle.aspx?ID=578</td><td>3</td><td>00701867</td><td>POINT (429345 4466846)</td></tr>\n",
       "\t<tr><td>013</td><td>Centro de Atención Integral a Drogodependientes Aranjuez         </td><td>C/ Primero de Mayo, 1    </td><td>449413</td><td>4431637</td><td>Aranjuez         </td><td>http://centrossanitarios.sanidadmadrid.org/Otros/Detalle.aspx?ID=579</td><td>4</td><td>013A0208</td><td>POINT (449413 4431637)</td></tr>\n",
       "\t<tr><td>014</td><td>Centro de Atención Integral a Drogodependientes Arganda del Rey  </td><td>C/ Camino del Molino, s/n</td><td>463258</td><td>4460592</td><td>Arganda del Rey  </td><td>http://centrossanitarios.sanidadmadrid.org/Otros/Detalle.aspx?ID=580</td><td>5</td><td>014A0253</td><td>POINT (463258 4460592)</td></tr>\n",
       "</tbody>\n",
       "</table>\n"
      ],
      "text/latex": [
       "A sf: 5 × 10\n",
       "\\begin{tabular}{llllllllll}\n",
       " CODMUN & NOMBRE & DIRECCION & UTM\\_X & UTM\\_Y & MUNICIPIO & URL & CODIGO2 & COD\\_SUCA & geometry\\\\\n",
       " <chr> & <chr> & <chr> & <dbl> & <dbl> & <chr> & <chr> & <int> & <chr> & <POINT {[}m{]}>\\\\\n",
       "\\hline\n",
       "\t 005 & Centro de Atención Integral a Drogodependientes Alcalá de Henares & C/ Santiago, 13 - planta  & 468812 & 4481428 & Alcalá de Henares & http://centrossanitarios.sanidadmadrid.org/Otros/Detalle.aspx?ID=576 & 1 & 005A0696 & POINT (468812 4481428)\\\\\n",
       "\t 006 & Centro de Atención Integral a Drogodependientes Alcobendas        & C/ Libertad, 6 - 2º       & 446255 & 4487944 & Alcobendas        & http://centrossanitarios.sanidadmadrid.org/Otros/Detalle.aspx?ID=577 & 2 & 006A0179 & POINT (446255 4487944)\\\\\n",
       "\t 007 & Centro de Atención Integral a Drogodependientes Alcorcón          & Paseo de Extremadura, 19  & 429345 & 4466846 & Alcorcón          & http://centrossanitarios.sanidadmadrid.org/Otros/Detalle.aspx?ID=578 & 3 & 00701867 & POINT (429345 4466846)\\\\\n",
       "\t 013 & Centro de Atención Integral a Drogodependientes Aranjuez          & C/ Primero de Mayo, 1     & 449413 & 4431637 & Aranjuez          & http://centrossanitarios.sanidadmadrid.org/Otros/Detalle.aspx?ID=579 & 4 & 013A0208 & POINT (449413 4431637)\\\\\n",
       "\t 014 & Centro de Atención Integral a Drogodependientes Arganda del Rey   & C/ Camino del Molino, s/n & 463258 & 4460592 & Arganda del Rey   & http://centrossanitarios.sanidadmadrid.org/Otros/Detalle.aspx?ID=580 & 5 & 014A0253 & POINT (463258 4460592)\\\\\n",
       "\\end{tabular}\n"
      ],
      "text/markdown": [
       "\n",
       "A sf: 5 × 10\n",
       "\n",
       "| CODMUN &lt;chr&gt; | NOMBRE &lt;chr&gt; | DIRECCION &lt;chr&gt; | UTM_X &lt;dbl&gt; | UTM_Y &lt;dbl&gt; | MUNICIPIO &lt;chr&gt; | URL &lt;chr&gt; | CODIGO2 &lt;int&gt; | COD_SUCA &lt;chr&gt; | geometry &lt;POINT [m]&gt; |\n",
       "|---|---|---|---|---|---|---|---|---|---|\n",
       "| 005 | Centro de Atención Integral a Drogodependientes Alcalá de Henares | C/ Santiago, 13 - planta  | 468812 | 4481428 | Alcalá de Henares | http://centrossanitarios.sanidadmadrid.org/Otros/Detalle.aspx?ID=576 | 1 | 005A0696 | POINT (468812 4481428) |\n",
       "| 006 | Centro de Atención Integral a Drogodependientes Alcobendas        | C/ Libertad, 6 - 2º       | 446255 | 4487944 | Alcobendas        | http://centrossanitarios.sanidadmadrid.org/Otros/Detalle.aspx?ID=577 | 2 | 006A0179 | POINT (446255 4487944) |\n",
       "| 007 | Centro de Atención Integral a Drogodependientes Alcorcón          | Paseo de Extremadura, 19  | 429345 | 4466846 | Alcorcón          | http://centrossanitarios.sanidadmadrid.org/Otros/Detalle.aspx?ID=578 | 3 | 00701867 | POINT (429345 4466846) |\n",
       "| 013 | Centro de Atención Integral a Drogodependientes Aranjuez          | C/ Primero de Mayo, 1     | 449413 | 4431637 | Aranjuez          | http://centrossanitarios.sanidadmadrid.org/Otros/Detalle.aspx?ID=579 | 4 | 013A0208 | POINT (449413 4431637) |\n",
       "| 014 | Centro de Atención Integral a Drogodependientes Arganda del Rey   | C/ Camino del Molino, s/n | 463258 | 4460592 | Arganda del Rey   | http://centrossanitarios.sanidadmadrid.org/Otros/Detalle.aspx?ID=580 | 5 | 014A0253 | POINT (463258 4460592) |\n",
       "\n"
      ],
      "text/plain": [
       "  CODMUN NOMBRE                                                           \n",
       "1 005    Centro de Atención Integral a Drogodependientes Alcalá de Henares\n",
       "2 006    Centro de Atención Integral a Drogodependientes Alcobendas       \n",
       "3 007    Centro de Atención Integral a Drogodependientes Alcorcón         \n",
       "4 013    Centro de Atención Integral a Drogodependientes Aranjuez         \n",
       "5 014    Centro de Atención Integral a Drogodependientes Arganda del Rey  \n",
       "  DIRECCION                 UTM_X  UTM_Y   MUNICIPIO        \n",
       "1 C/ Santiago, 13 - planta  468812 4481428 Alcalá de Henares\n",
       "2 C/ Libertad, 6 - 2º       446255 4487944 Alcobendas       \n",
       "3 Paseo de Extremadura, 19  429345 4466846 Alcorcón         \n",
       "4 C/ Primero de Mayo, 1     449413 4431637 Aranjuez         \n",
       "5 C/ Camino del Molino, s/n 463258 4460592 Arganda del Rey  \n",
       "  URL                                                                  CODIGO2\n",
       "1 http://centrossanitarios.sanidadmadrid.org/Otros/Detalle.aspx?ID=576 1      \n",
       "2 http://centrossanitarios.sanidadmadrid.org/Otros/Detalle.aspx?ID=577 2      \n",
       "3 http://centrossanitarios.sanidadmadrid.org/Otros/Detalle.aspx?ID=578 3      \n",
       "4 http://centrossanitarios.sanidadmadrid.org/Otros/Detalle.aspx?ID=579 4      \n",
       "5 http://centrossanitarios.sanidadmadrid.org/Otros/Detalle.aspx?ID=580 5      \n",
       "  COD_SUCA geometry              \n",
       "1 005A0696 POINT (468812 4481428)\n",
       "2 006A0179 POINT (446255 4487944)\n",
       "3 00701867 POINT (429345 4466846)\n",
       "4 013A0208 POINT (449413 4431637)\n",
       "5 014A0253 POINT (463258 4460592)"
      ]
     },
     "metadata": {},
     "output_type": "display_data"
    }
   ],
   "source": [
    "data_06 |> slice_head(n = 5)"
   ]
  },
  {
   "attachments": {},
   "cell_type": "markdown",
   "metadata": {},
   "source": [
    "### 7. Centros de especialidades"
   ]
  },
  {
   "attachments": {},
   "cell_type": "markdown",
   "metadata": {},
   "source": [
    "<font color='tomato'><b> OPCION A:</b> Seleccionar fichero en ventana para mayor comodidad</font> \n"
   ]
  },
  {
   "attachments": {},
   "cell_type": "markdown",
   "metadata": {},
   "source": [
    "Data load using the {tcltk} package. Ucomment the line if not using this option"
   ]
  },
  {
   "cell_type": "code",
   "execution_count": null,
   "metadata": {
    "vscode": {
     "languageId": "r"
    }
   },
   "outputs": [],
   "source": [
    "# file_data_07 <- tcltk::tk_choose.files(multi = FALSE)"
   ]
  },
  {
   "attachments": {},
   "cell_type": "markdown",
   "metadata": {},
   "source": [
    "<font color='tomato'><b> OPCION B:</b> Especificar el nombre de archivo</font>\n",
    "\n",
    "NOTA: se omiten las comprobaciones de existencia de archivo para mejor compresión del código"
   ]
  },
  {
   "cell_type": "code",
   "execution_count": 44,
   "metadata": {
    "vscode": {
     "languageId": "r"
    }
   },
   "outputs": [],
   "source": [
    "iFile_07 <- \"Salud_ Centros sanitarios. Centros de especialidades/centroespecialidades.shp\"\n",
    "file_data_07 <- paste0(iPath, iFile_07)\n"
   ]
  },
  {
   "attachments": {},
   "cell_type": "markdown",
   "metadata": {},
   "source": [
    "#### Data file to dataframe\n",
    "\n",
    "Usar la función adecuada según el formato de entrada (xlsx, csv, json, ...)"
   ]
  },
  {
   "cell_type": "code",
   "execution_count": 45,
   "metadata": {
    "vscode": {
     "languageId": "r"
    }
   },
   "outputs": [
    {
     "name": "stdout",
     "output_type": "stream",
     "text": [
      "options:        ENCODING=latin1 \n",
      "Reading layer `centroespecialidades' from data source \n",
      "  `/Users/emilio.lcano/academico/gh_repos/__transferencia/citizenlab/CitizenLab-Research-and-Development/casos_urjc/notebooks/II_data_processing/18_infraestructuras/Data/Input/Salud_ Centros sanitarios. Centros de especialidades/centroespecialidades.shp' \n",
      "  using driver `ESRI Shapefile'\n",
      "Simple feature collection with 28 features and 15 fields\n",
      "Geometry type: POINT\n",
      "Dimension:     XY\n",
      "Bounding box:  xmin: 402704.8 ymin: 4454857 xmax: 468379.8 ymax: 4501383\n",
      "Projected CRS: ETRS89 / UTM zone 30N\n"
     ]
    }
   ],
   "source": [
    "data_07 <- st_read(file_data_07,\n",
    "                            options = \"ENCODING=latin1\", \n",
    "                            quiet = FALSE)\n"
   ]
  },
  {
   "attachments": {},
   "cell_type": "markdown",
   "metadata": {},
   "source": [
    "Estructura de  los datos:"
   ]
  },
  {
   "cell_type": "code",
   "execution_count": 46,
   "metadata": {
    "vscode": {
     "languageId": "r"
    }
   },
   "outputs": [
    {
     "name": "stdout",
     "output_type": "stream",
     "text": [
      "Rows: 28\n",
      "Columns: 16\n",
      "$ ETIQUETA  \u001b[3m\u001b[90m<chr>\u001b[39m\u001b[23m \"C.E. Moratalaz\", \"C.E. Peña Prieta - Hermanos Sangró\", \"C.E…\n",
      "$ TIPOCEN2  \u001b[3m\u001b[90m<chr>\u001b[39m\u001b[23m \"Centro de Especialidades\", \"Centro de Especialidades\", \"Cen…\n",
      "$ TIPOVIAL  \u001b[3m\u001b[90m<chr>\u001b[39m\u001b[23m \"Calle\", \"Avenida\", \"Calle\", \"Avenida\", \"Calle\", \"Avenida\", …\n",
      "$ NOMVIA    \u001b[3m\u001b[90m<chr>\u001b[39m\u001b[23m \"Hacienda de Pavones\", \"Peña Prieta\", \"Sierra de Alquife\", \"…\n",
      "$ NUMERO    \u001b[3m\u001b[90m<chr>\u001b[39m\u001b[23m \"348\", \"4\", \"8\", \"285\", \"45\", \"s/n\", \"11\", \"30\", \"89\", \"13\",…\n",
      "$ MUNICIPIO \u001b[3m\u001b[90m<chr>\u001b[39m\u001b[23m \"Madrid\", \"Madrid\", \"Madrid\", \"Madrid\", \"Madrid\", \"Torrejón …\n",
      "$ CODMUN    \u001b[3m\u001b[90m<chr>\u001b[39m\u001b[23m \"0796\", \"0796\", \"0796\", \"0796\", \"0796\", \"1489\", \"0053\", \"079…\n",
      "$ CODPOS    \u001b[3m\u001b[90m<chr>\u001b[39m\u001b[23m \"28030\", \"28038\", \"28018\", \"28038\", \"28028\", \"28850\", \"28806…\n",
      "$ CODAREA   \u001b[3m\u001b[90m<chr>\u001b[39m\u001b[23m \"01\", \"01\", \"01\", \"01\", \"02\", \"03\", \"03\", \"04\", \"04\", \"05\", …\n",
      "$ CODDISTR  \u001b[3m\u001b[90m<chr>\u001b[39m\u001b[23m \"0102\", \"0104\", \"0104\", \"0104\", \"0202\", \"0302\", \"0301\", \"040…\n",
      "$ CODZBS    \u001b[3m\u001b[90m<chr>\u001b[39m\u001b[23m \"010203\", \"010402\", \"010406\", \"010410\", \"020201\", \"030202\", …\n",
      "$ CODVIA    \u001b[3m\u001b[90m<chr>\u001b[39m\u001b[23m \"07904590\", \"07904676\", \"07909818\", \"07900130\", \"07901736\", …\n",
      "$ UTM_X     \u001b[3m\u001b[90m<dbl>\u001b[39m\u001b[23m 446223, 443279, 443380, 445704, 443300, 459896, 468380, 4460…\n",
      "$ UTM_Y     \u001b[3m\u001b[90m<dbl>\u001b[39m\u001b[23m 4472348, 4472215, 4471141, 4470967, 4474985, 4479414, 448330…\n",
      "$ CODIGO2   \u001b[3m\u001b[90m<int>\u001b[39m\u001b[23m 1, 2, 3, 4, 5, 6, 7, 8, 9, 10, 11, 13, 14, 15, 16, 17, 18, 1…\n",
      "$ geometry  \u001b[3m\u001b[90m<POINT [m]>\u001b[39m\u001b[23m POINT (446222.8 4472348), POINT (443278.6 4472215), PO…\n"
     ]
    }
   ],
   "source": [
    "glimpse(data_07)"
   ]
  },
  {
   "attachments": {},
   "cell_type": "markdown",
   "metadata": {},
   "source": [
    "Muestra de datos:"
   ]
  },
  {
   "cell_type": "code",
   "execution_count": 47,
   "metadata": {
    "vscode": {
     "languageId": "r"
    }
   },
   "outputs": [
    {
     "data": {
      "application/geo+json": {
       "features": [
        {
         "geometry": {
          "coordinates": [
           446222.8055,
           4472348.1069
          ],
          "type": "Point"
         },
         "properties": {
          "CODAREA": "01",
          "CODDISTR": "0102",
          "CODIGO2": 1,
          "CODMUN": "0796",
          "CODPOS": "28030",
          "CODVIA": "07904590",
          "CODZBS": "010203",
          "ETIQUETA": "C.E. Moratalaz",
          "MUNICIPIO": "Madrid",
          "NOMVIA": "Hacienda de Pavones",
          "NUMERO": "348",
          "TIPOCEN2": "Centro de Especialidades",
          "TIPOVIAL": "Calle",
          "UTM_X": 446223,
          "UTM_Y": 4472348
         },
         "type": "Feature"
        },
        {
         "geometry": {
          "coordinates": [
           443278.5683,
           4472215.4937
          ],
          "type": "Point"
         },
         "properties": {
          "CODAREA": "01",
          "CODDISTR": "0104",
          "CODIGO2": 2,
          "CODMUN": "0796",
          "CODPOS": "28038",
          "CODVIA": "07904676",
          "CODZBS": "010402",
          "ETIQUETA": "C.E. Peña Prieta - Hermanos Sangró",
          "MUNICIPIO": "Madrid",
          "NOMVIA": "Peña Prieta",
          "NUMERO": "4",
          "TIPOCEN2": "Centro de Especialidades",
          "TIPOVIAL": "Avenida",
          "UTM_X": 443279,
          "UTM_Y": 4472215
         },
         "type": "Feature"
        },
        {
         "geometry": {
          "coordinates": [
           443379.5643,
           4471141.4912
          ],
          "type": "Point"
         },
         "properties": {
          "CODAREA": "01",
          "CODDISTR": "0104",
          "CODIGO2": 3,
          "CODMUN": "0796",
          "CODPOS": "28018",
          "CODVIA": "07909818",
          "CODZBS": "010406",
          "ETIQUETA": "C.E. Vicente Soldevilla",
          "MUNICIPIO": "Madrid",
          "NOMVIA": "Sierra de Alquife",
          "NUMERO": "8",
          "TIPOCEN2": "Centro de Especialidades",
          "TIPOVIAL": "Calle",
          "UTM_X": 443380,
          "UTM_Y": 4471141
         },
         "type": "Feature"
        },
        {
         "geometry": {
          "coordinates": [
           445703.5463,
           4470967.4577
          ],
          "type": "Point"
         },
         "properties": {
          "CODAREA": "01",
          "CODDISTR": "0104",
          "CODIGO2": 4,
          "CODMUN": "0796",
          "CODPOS": "28038",
          "CODVIA": "07900130",
          "CODZBS": "010410",
          "ETIQUETA": "C.E. Federica Montseny",
          "MUNICIPIO": "Madrid",
          "NOMVIA": "Albufera",
          "NUMERO": "285",
          "TIPOCEN2": "Centro de Especialidades",
          "TIPOVIAL": "Avenida",
          "UTM_X": 445704,
          "UTM_Y": 4470967
         },
         "type": "Feature"
        },
        {
         "geometry": {
          "coordinates": [
           443299.5766,
           4474985.4962
          ],
          "type": "Point"
         },
         "properties": {
          "CODAREA": "02",
          "CODDISTR": "0202",
          "CODIGO2": 5,
          "CODMUN": "0796",
          "CODPOS": "28028",
          "CODVIA": "07901736",
          "CODZBS": "020201",
          "ETIQUETA": "C.E. Hermanos García Noblejas",
          "MUNICIPIO": "Madrid",
          "NOMVIA": "Doctor Esquerdo",
          "NUMERO": "45",
          "TIPOCEN2": "Centro de Especialidades",
          "TIPOVIAL": "Calle",
          "UTM_X": 443300,
          "UTM_Y": 4474985
         },
         "type": "Feature"
        }
       ],
       "type": "FeatureCollection"
      },
      "text/html": [
       "<table class=\"dataframe\">\n",
       "<caption>A sf: 5 × 16</caption>\n",
       "<thead>\n",
       "\t<tr><th scope=col>ETIQUETA</th><th scope=col>TIPOCEN2</th><th scope=col>TIPOVIAL</th><th scope=col>NOMVIA</th><th scope=col>NUMERO</th><th scope=col>MUNICIPIO</th><th scope=col>CODMUN</th><th scope=col>CODPOS</th><th scope=col>CODAREA</th><th scope=col>CODDISTR</th><th scope=col>CODZBS</th><th scope=col>CODVIA</th><th scope=col>UTM_X</th><th scope=col>UTM_Y</th><th scope=col>CODIGO2</th><th scope=col>geometry</th></tr>\n",
       "\t<tr><th scope=col>&lt;chr&gt;</th><th scope=col>&lt;chr&gt;</th><th scope=col>&lt;chr&gt;</th><th scope=col>&lt;chr&gt;</th><th scope=col>&lt;chr&gt;</th><th scope=col>&lt;chr&gt;</th><th scope=col>&lt;chr&gt;</th><th scope=col>&lt;chr&gt;</th><th scope=col>&lt;chr&gt;</th><th scope=col>&lt;chr&gt;</th><th scope=col>&lt;chr&gt;</th><th scope=col>&lt;chr&gt;</th><th scope=col>&lt;dbl&gt;</th><th scope=col>&lt;dbl&gt;</th><th scope=col>&lt;int&gt;</th><th scope=col>&lt;POINT [m]&gt;</th></tr>\n",
       "</thead>\n",
       "<tbody>\n",
       "\t<tr><td>C.E. Moratalaz                    </td><td>Centro de Especialidades</td><td>Calle  </td><td>Hacienda de Pavones</td><td>348</td><td>Madrid</td><td>0796</td><td>28030</td><td>01</td><td>0102</td><td>010203</td><td>07904590</td><td>446223</td><td>4472348</td><td>1</td><td>POINT (446222.8 4472348)</td></tr>\n",
       "\t<tr><td>C.E. Peña Prieta - Hermanos Sangró</td><td>Centro de Especialidades</td><td>Avenida</td><td>Peña Prieta        </td><td>4  </td><td>Madrid</td><td>0796</td><td>28038</td><td>01</td><td>0104</td><td>010402</td><td>07904676</td><td>443279</td><td>4472215</td><td>2</td><td>POINT (443278.6 4472215)</td></tr>\n",
       "\t<tr><td>C.E. Vicente Soldevilla           </td><td>Centro de Especialidades</td><td>Calle  </td><td>Sierra de Alquife  </td><td>8  </td><td>Madrid</td><td>0796</td><td>28018</td><td>01</td><td>0104</td><td>010406</td><td>07909818</td><td>443380</td><td>4471141</td><td>3</td><td>POINT (443379.6 4471141)</td></tr>\n",
       "\t<tr><td>C.E. Federica Montseny            </td><td>Centro de Especialidades</td><td>Avenida</td><td>Albufera           </td><td>285</td><td>Madrid</td><td>0796</td><td>28038</td><td>01</td><td>0104</td><td>010410</td><td>07900130</td><td>445704</td><td>4470967</td><td>4</td><td>POINT (445703.5 4470967)</td></tr>\n",
       "\t<tr><td>C.E. Hermanos García Noblejas     </td><td>Centro de Especialidades</td><td>Calle  </td><td>Doctor Esquerdo    </td><td>45 </td><td>Madrid</td><td>0796</td><td>28028</td><td>02</td><td>0202</td><td>020201</td><td>07901736</td><td>443300</td><td>4474985</td><td>5</td><td>POINT (443299.6 4474985)</td></tr>\n",
       "</tbody>\n",
       "</table>\n"
      ],
      "text/latex": [
       "A sf: 5 × 16\n",
       "\\begin{tabular}{llllllllllllllll}\n",
       " ETIQUETA & TIPOCEN2 & TIPOVIAL & NOMVIA & NUMERO & MUNICIPIO & CODMUN & CODPOS & CODAREA & CODDISTR & CODZBS & CODVIA & UTM\\_X & UTM\\_Y & CODIGO2 & geometry\\\\\n",
       " <chr> & <chr> & <chr> & <chr> & <chr> & <chr> & <chr> & <chr> & <chr> & <chr> & <chr> & <chr> & <dbl> & <dbl> & <int> & <POINT {[}m{]}>\\\\\n",
       "\\hline\n",
       "\t C.E. Moratalaz                     & Centro de Especialidades & Calle   & Hacienda de Pavones & 348 & Madrid & 0796 & 28030 & 01 & 0102 & 010203 & 07904590 & 446223 & 4472348 & 1 & POINT (446222.8 4472348)\\\\\n",
       "\t C.E. Peña Prieta - Hermanos Sangró & Centro de Especialidades & Avenida & Peña Prieta         & 4   & Madrid & 0796 & 28038 & 01 & 0104 & 010402 & 07904676 & 443279 & 4472215 & 2 & POINT (443278.6 4472215)\\\\\n",
       "\t C.E. Vicente Soldevilla            & Centro de Especialidades & Calle   & Sierra de Alquife   & 8   & Madrid & 0796 & 28018 & 01 & 0104 & 010406 & 07909818 & 443380 & 4471141 & 3 & POINT (443379.6 4471141)\\\\\n",
       "\t C.E. Federica Montseny             & Centro de Especialidades & Avenida & Albufera            & 285 & Madrid & 0796 & 28038 & 01 & 0104 & 010410 & 07900130 & 445704 & 4470967 & 4 & POINT (445703.5 4470967)\\\\\n",
       "\t C.E. Hermanos García Noblejas      & Centro de Especialidades & Calle   & Doctor Esquerdo     & 45  & Madrid & 0796 & 28028 & 02 & 0202 & 020201 & 07901736 & 443300 & 4474985 & 5 & POINT (443299.6 4474985)\\\\\n",
       "\\end{tabular}\n"
      ],
      "text/markdown": [
       "\n",
       "A sf: 5 × 16\n",
       "\n",
       "| ETIQUETA &lt;chr&gt; | TIPOCEN2 &lt;chr&gt; | TIPOVIAL &lt;chr&gt; | NOMVIA &lt;chr&gt; | NUMERO &lt;chr&gt; | MUNICIPIO &lt;chr&gt; | CODMUN &lt;chr&gt; | CODPOS &lt;chr&gt; | CODAREA &lt;chr&gt; | CODDISTR &lt;chr&gt; | CODZBS &lt;chr&gt; | CODVIA &lt;chr&gt; | UTM_X &lt;dbl&gt; | UTM_Y &lt;dbl&gt; | CODIGO2 &lt;int&gt; | geometry &lt;POINT [m]&gt; |\n",
       "|---|---|---|---|---|---|---|---|---|---|---|---|---|---|---|---|\n",
       "| C.E. Moratalaz                     | Centro de Especialidades | Calle   | Hacienda de Pavones | 348 | Madrid | 0796 | 28030 | 01 | 0102 | 010203 | 07904590 | 446223 | 4472348 | 1 | POINT (446222.8 4472348) |\n",
       "| C.E. Peña Prieta - Hermanos Sangró | Centro de Especialidades | Avenida | Peña Prieta         | 4   | Madrid | 0796 | 28038 | 01 | 0104 | 010402 | 07904676 | 443279 | 4472215 | 2 | POINT (443278.6 4472215) |\n",
       "| C.E. Vicente Soldevilla            | Centro de Especialidades | Calle   | Sierra de Alquife   | 8   | Madrid | 0796 | 28018 | 01 | 0104 | 010406 | 07909818 | 443380 | 4471141 | 3 | POINT (443379.6 4471141) |\n",
       "| C.E. Federica Montseny             | Centro de Especialidades | Avenida | Albufera            | 285 | Madrid | 0796 | 28038 | 01 | 0104 | 010410 | 07900130 | 445704 | 4470967 | 4 | POINT (445703.5 4470967) |\n",
       "| C.E. Hermanos García Noblejas      | Centro de Especialidades | Calle   | Doctor Esquerdo     | 45  | Madrid | 0796 | 28028 | 02 | 0202 | 020201 | 07901736 | 443300 | 4474985 | 5 | POINT (443299.6 4474985) |\n",
       "\n"
      ],
      "text/plain": [
       "  ETIQUETA                           TIPOCEN2                 TIPOVIAL\n",
       "1 C.E. Moratalaz                     Centro de Especialidades Calle   \n",
       "2 C.E. Peña Prieta - Hermanos Sangró Centro de Especialidades Avenida \n",
       "3 C.E. Vicente Soldevilla            Centro de Especialidades Calle   \n",
       "4 C.E. Federica Montseny             Centro de Especialidades Avenida \n",
       "5 C.E. Hermanos García Noblejas      Centro de Especialidades Calle   \n",
       "  NOMVIA              NUMERO MUNICIPIO CODMUN CODPOS CODAREA CODDISTR CODZBS\n",
       "1 Hacienda de Pavones 348    Madrid    0796   28030  01      0102     010203\n",
       "2 Peña Prieta         4      Madrid    0796   28038  01      0104     010402\n",
       "3 Sierra de Alquife   8      Madrid    0796   28018  01      0104     010406\n",
       "4 Albufera            285    Madrid    0796   28038  01      0104     010410\n",
       "5 Doctor Esquerdo     45     Madrid    0796   28028  02      0202     020201\n",
       "  CODVIA   UTM_X  UTM_Y   CODIGO2 geometry                \n",
       "1 07904590 446223 4472348 1       POINT (446222.8 4472348)\n",
       "2 07904676 443279 4472215 2       POINT (443278.6 4472215)\n",
       "3 07909818 443380 4471141 3       POINT (443379.6 4471141)\n",
       "4 07900130 445704 4470967 4       POINT (445703.5 4470967)\n",
       "5 07901736 443300 4474985 5       POINT (443299.6 4474985)"
      ]
     },
     "metadata": {},
     "output_type": "display_data"
    }
   ],
   "source": [
    "data_07 |> slice_head(n = 5)"
   ]
  },
  {
   "attachments": {},
   "cell_type": "markdown",
   "metadata": {},
   "source": [
    "### 8. Centros de salud"
   ]
  },
  {
   "attachments": {},
   "cell_type": "markdown",
   "metadata": {},
   "source": [
    "<font color='tomato'><b> OPCION A:</b> Seleccionar fichero en ventana para mayor comodidad</font> \n"
   ]
  },
  {
   "attachments": {},
   "cell_type": "markdown",
   "metadata": {},
   "source": [
    "Data load using the {tcltk} package. Ucomment the line if not using this option"
   ]
  },
  {
   "cell_type": "code",
   "execution_count": null,
   "metadata": {
    "vscode": {
     "languageId": "r"
    }
   },
   "outputs": [],
   "source": [
    "# file_data_08 <- tcltk::tk_choose.files(multi = FALSE)"
   ]
  },
  {
   "attachments": {},
   "cell_type": "markdown",
   "metadata": {},
   "source": [
    "<font color='tomato'><b> OPCION B:</b> Especificar el nombre de archivo</font>\n",
    "\n",
    "NOTA: se omiten las comprobaciones de existencia de archivo para mejor compresión del código"
   ]
  },
  {
   "cell_type": "code",
   "execution_count": 48,
   "metadata": {
    "vscode": {
     "languageId": "r"
    }
   },
   "outputs": [],
   "source": [
    "iFile_08 <- \"Salud_ Centros sanitarios. Centros de salud/centrosalud.shp\"\n",
    "file_data_08 <- paste0(iPath, iFile_08)\n"
   ]
  },
  {
   "attachments": {},
   "cell_type": "markdown",
   "metadata": {},
   "source": [
    "#### Data file to dataframe\n",
    "\n",
    "Usar la función adecuada según el formato de entrada (xlsx, csv, json, ...)"
   ]
  },
  {
   "cell_type": "code",
   "execution_count": 49,
   "metadata": {
    "vscode": {
     "languageId": "r"
    }
   },
   "outputs": [
    {
     "name": "stdout",
     "output_type": "stream",
     "text": [
      "options:        ENCODING=latin1 \n",
      "Reading layer `centrosalud' from data source \n",
      "  `/Users/emilio.lcano/academico/gh_repos/__transferencia/citizenlab/CitizenLab-Research-and-Development/casos_urjc/notebooks/II_data_processing/18_infraestructuras/Data/Input/Salud_ Centros sanitarios. Centros de salud/centrosalud.shp' \n",
      "  using driver `ESRI Shapefile'\n",
      "Simple feature collection with 267 features and 14 fields\n",
      "Geometry type: POINT\n",
      "Dimension:     XY\n",
      "Bounding box:  xmin: 377838.2 ymin: 4430802 xmax: 476562 ymax: 4538179\n",
      "Projected CRS: ETRS89 / UTM zone 30N\n"
     ]
    }
   ],
   "source": [
    "data_08 <- st_read(file_data_08,\n",
    "                            options = \"ENCODING=latin1\", \n",
    "                            quiet = FALSE)\n"
   ]
  },
  {
   "attachments": {},
   "cell_type": "markdown",
   "metadata": {},
   "source": [
    "Estructura de  los datos:"
   ]
  },
  {
   "cell_type": "code",
   "execution_count": 50,
   "metadata": {
    "vscode": {
     "languageId": "r"
    }
   },
   "outputs": [
    {
     "name": "stdout",
     "output_type": "stream",
     "text": [
      "Rows: 267\n",
      "Columns: 15\n",
      "$ TIPOCEN2   \u001b[3m\u001b[90m<chr>\u001b[39m\u001b[23m \"Centro de Salud Carmen Calzado\", \"Centro de Salud Juan de …\n",
      "$ TIPOVIAL   \u001b[3m\u001b[90m<chr>\u001b[39m\u001b[23m \"Calle\", \"Avenida\", \"Calle\", \"Calle\", \"Calle\", \"Calle\", \"Av…\n",
      "$ NOMVIA     \u001b[3m\u001b[90m<chr>\u001b[39m\u001b[23m \"Carmen Calzado\", \"Juan de Austria\", \"Arturo Soria\", \"Luis …\n",
      "$ NUMERO     \u001b[3m\u001b[90m<chr>\u001b[39m\u001b[23m \"14\", \"19\", \"12\", \"16\", \"1\", \"1\", \"23\", \"12\", \"61\", \"12\", \"…\n",
      "$ MUNICIPIO  \u001b[3m\u001b[90m<chr>\u001b[39m\u001b[23m \"Alcalá de Henares\", \"Alcalá de Henares\", \"Alcalá de Henare…\n",
      "$ CMUN       \u001b[3m\u001b[90m<chr>\u001b[39m\u001b[23m \"005\", \"005\", \"005\", \"005\", \"005\", \"005\", \"005\", \"005\", \"00…\n",
      "$ CODVIA     \u001b[3m\u001b[90m<chr>\u001b[39m\u001b[23m \"005A0150\", \"005A0370\", \"00500730\", \"005A0424\", \"005A0441\",…\n",
      "$ UTM_X      \u001b[3m\u001b[90m<dbl>\u001b[39m\u001b[23m 468979, 470297, 466617, 468796, 469712, 469685, 468549, 468…\n",
      "$ UTM_Y      \u001b[3m\u001b[90m<dbl>\u001b[39m\u001b[23m 4481282, 4481952, 4481245, 4480551, 4481336, 4482126, 44844…\n",
      "$ CODIGO2    \u001b[3m\u001b[90m<int>\u001b[39m\u001b[23m 1, 2, 3, 4, 5, 6, 7, 8, 9, 10, 11, 12, 13, 14, 15, 16, 17, …\n",
      "$ SUCA_CODVI \u001b[3m\u001b[90m<chr>\u001b[39m\u001b[23m \"005A0150\", \"005A0370\", \"00500730\", \"005A0424\", \"005A0441\",…\n",
      "$ CODZBS     \u001b[3m\u001b[90m<chr>\u001b[39m\u001b[23m \"030101\", \"030107\", \"030109\", \"030104\", \"030105\", \"030108\",…\n",
      "$ CODDISTR   \u001b[3m\u001b[90m<chr>\u001b[39m\u001b[23m \"0301\", \"0301\", \"0301\", \"0301\", \"0301\", \"0301\", \"0301\", \"03…\n",
      "$ CODAREA    \u001b[3m\u001b[90m<chr>\u001b[39m\u001b[23m \"03\", \"03\", \"03\", \"03\", \"03\", \"03\", \"03\", \"03\", \"03\", \"03\",…\n",
      "$ geometry   \u001b[3m\u001b[90m<POINT [m]>\u001b[39m\u001b[23m POINT (468979 4481282), POINT (470297 4481952), POINT…\n"
     ]
    }
   ],
   "source": [
    "glimpse(data_08)"
   ]
  },
  {
   "attachments": {},
   "cell_type": "markdown",
   "metadata": {},
   "source": [
    "Muestra de datos:"
   ]
  },
  {
   "cell_type": "code",
   "execution_count": 51,
   "metadata": {
    "vscode": {
     "languageId": "r"
    }
   },
   "outputs": [
    {
     "data": {
      "application/geo+json": {
       "features": [
        {
         "geometry": {
          "coordinates": [
           468979,
           4481282
          ],
          "type": "Point"
         },
         "properties": {
          "CMUN": "005",
          "CODAREA": "03",
          "CODDISTR": "0301",
          "CODIGO2": 1,
          "CODVIA": "005A0150",
          "CODZBS": "030101",
          "MUNICIPIO": "Alcalá de Henares",
          "NOMVIA": "Carmen Calzado",
          "NUMERO": "14",
          "SUCA_CODVI": "005A0150",
          "TIPOCEN2": "Centro de Salud Carmen Calzado",
          "TIPOVIAL": "Calle",
          "UTM_X": 468979,
          "UTM_Y": 4481282
         },
         "type": "Feature"
        },
        {
         "geometry": {
          "coordinates": [
           470297,
           4481952
          ],
          "type": "Point"
         },
         "properties": {
          "CMUN": "005",
          "CODAREA": "03",
          "CODDISTR": "0301",
          "CODIGO2": 2,
          "CODVIA": "005A0370",
          "CODZBS": "030107",
          "MUNICIPIO": "Alcalá de Henares",
          "NOMVIA": "Juan de Austria",
          "NUMERO": "19",
          "SUCA_CODVI": "005A0370",
          "TIPOCEN2": "Centro de Salud Juan de Austria",
          "TIPOVIAL": "Avenida",
          "UTM_X": 470297,
          "UTM_Y": 4481952
         },
         "type": "Feature"
        },
        {
         "geometry": {
          "coordinates": [
           466617,
           4481245
          ],
          "type": "Point"
         },
         "properties": {
          "CMUN": "005",
          "CODAREA": "03",
          "CODDISTR": "0301",
          "CODIGO2": 3,
          "CODVIA": "00500730",
          "CODZBS": "030109",
          "MUNICIPIO": "Alcalá de Henares",
          "NOMVIA": "Arturo Soria",
          "NUMERO": "12",
          "SUCA_CODVI": "00500730",
          "TIPOCEN2": "Centro de Salud La Garena",
          "TIPOVIAL": "Calle",
          "UTM_X": 466617,
          "UTM_Y": 4481245
         },
         "type": "Feature"
        },
        {
         "geometry": {
          "coordinates": [
           468796,
           4480551
          ],
          "type": "Point"
         },
         "properties": {
          "CMUN": "005",
          "CODAREA": "03",
          "CODDISTR": "0301",
          "CODIGO2": 4,
          "CODVIA": "005A0424",
          "CODZBS": "030104",
          "MUNICIPIO": "Alcalá de Henares",
          "NOMVIA": "Luis Vives",
          "NUMERO": "16",
          "SUCA_CODVI": "005A0424",
          "TIPOCEN2": "Centro de Salud Luis Vives",
          "TIPOVIAL": "Calle",
          "UTM_X": 468796,
          "UTM_Y": 4480551
         },
         "type": "Feature"
        },
        {
         "geometry": {
          "coordinates": [
           469712,
           4481336
          ],
          "type": "Point"
         },
         "properties": {
          "CMUN": "005",
          "CODAREA": "03",
          "CODDISTR": "0301",
          "CODIGO2": 5,
          "CODVIA": "005A0441",
          "CODZBS": "030105",
          "MUNICIPIO": "Alcalá de Henares",
          "NOMVIA": "Manuel Merino",
          "NUMERO": "1",
          "SUCA_CODVI": "005A0441",
          "TIPOCEN2": "Centro de Salud Manuel Merino",
          "TIPOVIAL": "Calle",
          "UTM_X": 469712,
          "UTM_Y": 4481336
         },
         "type": "Feature"
        }
       ],
       "type": "FeatureCollection"
      },
      "text/html": [
       "<table class=\"dataframe\">\n",
       "<caption>A sf: 5 × 15</caption>\n",
       "<thead>\n",
       "\t<tr><th scope=col>TIPOCEN2</th><th scope=col>TIPOVIAL</th><th scope=col>NOMVIA</th><th scope=col>NUMERO</th><th scope=col>MUNICIPIO</th><th scope=col>CMUN</th><th scope=col>CODVIA</th><th scope=col>UTM_X</th><th scope=col>UTM_Y</th><th scope=col>CODIGO2</th><th scope=col>SUCA_CODVI</th><th scope=col>CODZBS</th><th scope=col>CODDISTR</th><th scope=col>CODAREA</th><th scope=col>geometry</th></tr>\n",
       "\t<tr><th scope=col>&lt;chr&gt;</th><th scope=col>&lt;chr&gt;</th><th scope=col>&lt;chr&gt;</th><th scope=col>&lt;chr&gt;</th><th scope=col>&lt;chr&gt;</th><th scope=col>&lt;chr&gt;</th><th scope=col>&lt;chr&gt;</th><th scope=col>&lt;dbl&gt;</th><th scope=col>&lt;dbl&gt;</th><th scope=col>&lt;int&gt;</th><th scope=col>&lt;chr&gt;</th><th scope=col>&lt;chr&gt;</th><th scope=col>&lt;chr&gt;</th><th scope=col>&lt;chr&gt;</th><th scope=col>&lt;POINT [m]&gt;</th></tr>\n",
       "</thead>\n",
       "<tbody>\n",
       "\t<tr><td>Centro de Salud Carmen Calzado </td><td>Calle  </td><td>Carmen Calzado </td><td>14</td><td>Alcalá de Henares</td><td>005</td><td>005A0150</td><td>468979</td><td>4481282</td><td>1</td><td>005A0150</td><td>030101</td><td>0301</td><td>03</td><td>POINT (468979 4481282)</td></tr>\n",
       "\t<tr><td>Centro de Salud Juan de Austria</td><td>Avenida</td><td>Juan de Austria</td><td>19</td><td>Alcalá de Henares</td><td>005</td><td>005A0370</td><td>470297</td><td>4481952</td><td>2</td><td>005A0370</td><td>030107</td><td>0301</td><td>03</td><td>POINT (470297 4481952)</td></tr>\n",
       "\t<tr><td>Centro de Salud La Garena      </td><td>Calle  </td><td>Arturo Soria   </td><td>12</td><td>Alcalá de Henares</td><td>005</td><td>00500730</td><td>466617</td><td>4481245</td><td>3</td><td>00500730</td><td>030109</td><td>0301</td><td>03</td><td>POINT (466617 4481245)</td></tr>\n",
       "\t<tr><td>Centro de Salud Luis Vives     </td><td>Calle  </td><td>Luis Vives     </td><td>16</td><td>Alcalá de Henares</td><td>005</td><td>005A0424</td><td>468796</td><td>4480551</td><td>4</td><td>005A0424</td><td>030104</td><td>0301</td><td>03</td><td>POINT (468796 4480551)</td></tr>\n",
       "\t<tr><td>Centro de Salud Manuel Merino  </td><td>Calle  </td><td>Manuel Merino  </td><td>1 </td><td>Alcalá de Henares</td><td>005</td><td>005A0441</td><td>469712</td><td>4481336</td><td>5</td><td>005A0441</td><td>030105</td><td>0301</td><td>03</td><td>POINT (469712 4481336)</td></tr>\n",
       "</tbody>\n",
       "</table>\n"
      ],
      "text/latex": [
       "A sf: 5 × 15\n",
       "\\begin{tabular}{lllllllllllllll}\n",
       " TIPOCEN2 & TIPOVIAL & NOMVIA & NUMERO & MUNICIPIO & CMUN & CODVIA & UTM\\_X & UTM\\_Y & CODIGO2 & SUCA\\_CODVI & CODZBS & CODDISTR & CODAREA & geometry\\\\\n",
       " <chr> & <chr> & <chr> & <chr> & <chr> & <chr> & <chr> & <dbl> & <dbl> & <int> & <chr> & <chr> & <chr> & <chr> & <POINT {[}m{]}>\\\\\n",
       "\\hline\n",
       "\t Centro de Salud Carmen Calzado  & Calle   & Carmen Calzado  & 14 & Alcalá de Henares & 005 & 005A0150 & 468979 & 4481282 & 1 & 005A0150 & 030101 & 0301 & 03 & POINT (468979 4481282)\\\\\n",
       "\t Centro de Salud Juan de Austria & Avenida & Juan de Austria & 19 & Alcalá de Henares & 005 & 005A0370 & 470297 & 4481952 & 2 & 005A0370 & 030107 & 0301 & 03 & POINT (470297 4481952)\\\\\n",
       "\t Centro de Salud La Garena       & Calle   & Arturo Soria    & 12 & Alcalá de Henares & 005 & 00500730 & 466617 & 4481245 & 3 & 00500730 & 030109 & 0301 & 03 & POINT (466617 4481245)\\\\\n",
       "\t Centro de Salud Luis Vives      & Calle   & Luis Vives      & 16 & Alcalá de Henares & 005 & 005A0424 & 468796 & 4480551 & 4 & 005A0424 & 030104 & 0301 & 03 & POINT (468796 4480551)\\\\\n",
       "\t Centro de Salud Manuel Merino   & Calle   & Manuel Merino   & 1  & Alcalá de Henares & 005 & 005A0441 & 469712 & 4481336 & 5 & 005A0441 & 030105 & 0301 & 03 & POINT (469712 4481336)\\\\\n",
       "\\end{tabular}\n"
      ],
      "text/markdown": [
       "\n",
       "A sf: 5 × 15\n",
       "\n",
       "| TIPOCEN2 &lt;chr&gt; | TIPOVIAL &lt;chr&gt; | NOMVIA &lt;chr&gt; | NUMERO &lt;chr&gt; | MUNICIPIO &lt;chr&gt; | CMUN &lt;chr&gt; | CODVIA &lt;chr&gt; | UTM_X &lt;dbl&gt; | UTM_Y &lt;dbl&gt; | CODIGO2 &lt;int&gt; | SUCA_CODVI &lt;chr&gt; | CODZBS &lt;chr&gt; | CODDISTR &lt;chr&gt; | CODAREA &lt;chr&gt; | geometry &lt;POINT [m]&gt; |\n",
       "|---|---|---|---|---|---|---|---|---|---|---|---|---|---|---|\n",
       "| Centro de Salud Carmen Calzado  | Calle   | Carmen Calzado  | 14 | Alcalá de Henares | 005 | 005A0150 | 468979 | 4481282 | 1 | 005A0150 | 030101 | 0301 | 03 | POINT (468979 4481282) |\n",
       "| Centro de Salud Juan de Austria | Avenida | Juan de Austria | 19 | Alcalá de Henares | 005 | 005A0370 | 470297 | 4481952 | 2 | 005A0370 | 030107 | 0301 | 03 | POINT (470297 4481952) |\n",
       "| Centro de Salud La Garena       | Calle   | Arturo Soria    | 12 | Alcalá de Henares | 005 | 00500730 | 466617 | 4481245 | 3 | 00500730 | 030109 | 0301 | 03 | POINT (466617 4481245) |\n",
       "| Centro de Salud Luis Vives      | Calle   | Luis Vives      | 16 | Alcalá de Henares | 005 | 005A0424 | 468796 | 4480551 | 4 | 005A0424 | 030104 | 0301 | 03 | POINT (468796 4480551) |\n",
       "| Centro de Salud Manuel Merino   | Calle   | Manuel Merino   | 1  | Alcalá de Henares | 005 | 005A0441 | 469712 | 4481336 | 5 | 005A0441 | 030105 | 0301 | 03 | POINT (469712 4481336) |\n",
       "\n"
      ],
      "text/plain": [
       "  TIPOCEN2                        TIPOVIAL NOMVIA          NUMERO\n",
       "1 Centro de Salud Carmen Calzado  Calle    Carmen Calzado  14    \n",
       "2 Centro de Salud Juan de Austria Avenida  Juan de Austria 19    \n",
       "3 Centro de Salud La Garena       Calle    Arturo Soria    12    \n",
       "4 Centro de Salud Luis Vives      Calle    Luis Vives      16    \n",
       "5 Centro de Salud Manuel Merino   Calle    Manuel Merino   1     \n",
       "  MUNICIPIO         CMUN CODVIA   UTM_X  UTM_Y   CODIGO2 SUCA_CODVI CODZBS\n",
       "1 Alcalá de Henares 005  005A0150 468979 4481282 1       005A0150   030101\n",
       "2 Alcalá de Henares 005  005A0370 470297 4481952 2       005A0370   030107\n",
       "3 Alcalá de Henares 005  00500730 466617 4481245 3       00500730   030109\n",
       "4 Alcalá de Henares 005  005A0424 468796 4480551 4       005A0424   030104\n",
       "5 Alcalá de Henares 005  005A0441 469712 4481336 5       005A0441   030105\n",
       "  CODDISTR CODAREA geometry              \n",
       "1 0301     03      POINT (468979 4481282)\n",
       "2 0301     03      POINT (470297 4481952)\n",
       "3 0301     03      POINT (466617 4481245)\n",
       "4 0301     03      POINT (468796 4480551)\n",
       "5 0301     03      POINT (469712 4481336)"
      ]
     },
     "metadata": {},
     "output_type": "display_data"
    }
   ],
   "source": [
    "data_08 |> slice_head(n = 5)"
   ]
  },
  {
   "attachments": {},
   "cell_type": "markdown",
   "metadata": {},
   "source": [
    "### 9. Consultorios de salud"
   ]
  },
  {
   "attachments": {},
   "cell_type": "markdown",
   "metadata": {},
   "source": [
    "<font color='tomato'><b> OPCION A:</b> Seleccionar fichero en ventana para mayor comodidad</font> \n"
   ]
  },
  {
   "attachments": {},
   "cell_type": "markdown",
   "metadata": {},
   "source": [
    "Data load using the {tcltk} package. Ucomment the line if not using this option"
   ]
  },
  {
   "cell_type": "code",
   "execution_count": null,
   "metadata": {
    "vscode": {
     "languageId": "r"
    }
   },
   "outputs": [],
   "source": [
    "# file_data_09 <- tcltk::tk_choose.files(multi = FALSE)"
   ]
  },
  {
   "attachments": {},
   "cell_type": "markdown",
   "metadata": {},
   "source": [
    "<font color='tomato'><b> OPCION B:</b> Especificar el nombre de archivo</font>\n",
    "\n",
    "NOTA: se omiten las comprobaciones de existencia de archivo para mejor compresión del código"
   ]
  },
  {
   "cell_type": "code",
   "execution_count": 52,
   "metadata": {
    "vscode": {
     "languageId": "r"
    }
   },
   "outputs": [],
   "source": [
    "iFile_09 <- \"Salud_ Centros sanitarios. Consultorios de salud/consultoriosalud.shp\"\n",
    "file_data_09 <- paste0(iPath, iFile_09)\n"
   ]
  },
  {
   "attachments": {},
   "cell_type": "markdown",
   "metadata": {},
   "source": [
    "#### Data file to dataframe\n",
    "\n",
    "Usar la función adecuada según el formato de entrada (xlsx, csv, json, ...)"
   ]
  },
  {
   "cell_type": "code",
   "execution_count": 53,
   "metadata": {
    "vscode": {
     "languageId": "r"
    }
   },
   "outputs": [
    {
     "name": "stdout",
     "output_type": "stream",
     "text": [
      "options:        ENCODING=latin1 \n",
      "Reading layer `consultoriosalud' from data source \n",
      "  `/Users/emilio.lcano/academico/gh_repos/__transferencia/citizenlab/CitizenLab-Research-and-Development/casos_urjc/notebooks/II_data_processing/18_infraestructuras/Data/Input/Salud_ Centros sanitarios. Consultorios de salud/consultoriosalud.shp' \n",
      "  using driver `ESRI Shapefile'\n",
      "Simple feature collection with 156 features and 10 fields\n",
      "Geometry type: POINT\n",
      "Dimension:     XY\n",
      "Bounding box:  xmin: 373181 ymin: 4435469 xmax: 490638 ymax: 4553677\n",
      "Projected CRS: ETRS89 / UTM zone 30N\n"
     ]
    }
   ],
   "source": [
    "data_09 <- st_read(file_data_09,\n",
    "                            options = \"ENCODING=latin1\", \n",
    "                            quiet = FALSE)\n"
   ]
  },
  {
   "attachments": {},
   "cell_type": "markdown",
   "metadata": {},
   "source": [
    "Estructura de  los datos:"
   ]
  },
  {
   "cell_type": "code",
   "execution_count": 54,
   "metadata": {
    "vscode": {
     "languageId": "r"
    }
   },
   "outputs": [
    {
     "name": "stdout",
     "output_type": "stream",
     "text": [
      "Rows: 156\n",
      "Columns: 11\n",
      "$ ETIQUETA  \u001b[3m\u001b[90m<chr>\u001b[39m\u001b[23m \"Consultorio de La Acebeda\", \"Consultorio de Ajalvir\", \"Cons…\n",
      "$ TIPOVIA   \u001b[3m\u001b[90m<chr>\u001b[39m\u001b[23m \"Plaza\", \"Avda\", \"Plaza\", \"Calle\", \"Calle\", \"Avda\", \"Plaza\",…\n",
      "$ NOMVIA    \u001b[3m\u001b[90m<chr>\u001b[39m\u001b[23m \"San Miguel\", \"Aguas\", \"Santa Marina\", \"Federico García Lorc…\n",
      "$ NUMERO    \u001b[3m\u001b[90m<chr>\u001b[39m\u001b[23m \"1\", \"2\", \"17\", \"31\", \"17\", \"3\", \"1\", \"15\", \"2\", \"11\", \"s/n\"…\n",
      "$ MUNICIPIO \u001b[3m\u001b[90m<chr>\u001b[39m\u001b[23m \"La Acebeda\", \"Ajalvir\", \"Alameda del Valle\", \"El Álamo\", \"A…\n",
      "$ CODMUNI   \u001b[3m\u001b[90m<chr>\u001b[39m\u001b[23m \"0014\", \"0029\", \"0035\", \"0040\", \"0088\", \"0091\", \"0105\", \"011…\n",
      "$ CODVIA    \u001b[3m\u001b[90m<chr>\u001b[39m\u001b[23m \"00100028\", \"00200141\", \"003A0030\", \"00400218\", \"008A0088\", …\n",
      "$ UTM_X     \u001b[3m\u001b[90m<int>\u001b[39m\u001b[23m 447522, 459130, 428958, 415892, 398120, 450987, 413034, 4844…\n",
      "$ UTM_Y     \u001b[3m\u001b[90m<dbl>\u001b[39m\u001b[23m 4548589, 4487429, 4530000, 4454069, 4464011, 4496981, 450118…\n",
      "$ COD2      \u001b[3m\u001b[90m<int>\u001b[39m\u001b[23m 1, 2, 3, 4, 5, 6, 7, 8, 9, 10, 11, 12, 13, 14, 15, 16, 17, 1…\n",
      "$ geometry  \u001b[3m\u001b[90m<POINT [m]>\u001b[39m\u001b[23m POINT (447522 4548589), POINT (459130 4487429), POINT …\n"
     ]
    }
   ],
   "source": [
    "glimpse(data_09)"
   ]
  },
  {
   "attachments": {},
   "cell_type": "markdown",
   "metadata": {},
   "source": [
    "Muestra de datos:"
   ]
  },
  {
   "cell_type": "code",
   "execution_count": 55,
   "metadata": {
    "vscode": {
     "languageId": "r"
    }
   },
   "outputs": [
    {
     "data": {
      "application/geo+json": {
       "features": [
        {
         "geometry": {
          "coordinates": [
           447522,
           4548589
          ],
          "type": "Point"
         },
         "properties": {
          "COD2": 1,
          "CODMUNI": "0014",
          "CODVIA": "00100028",
          "ETIQUETA": "Consultorio de La Acebeda",
          "MUNICIPIO": "La Acebeda",
          "NOMVIA": "San Miguel",
          "NUMERO": "1",
          "TIPOVIA": "Plaza",
          "UTM_X": 447522,
          "UTM_Y": 4548589
         },
         "type": "Feature"
        },
        {
         "geometry": {
          "coordinates": [
           459130,
           4487429
          ],
          "type": "Point"
         },
         "properties": {
          "COD2": 2,
          "CODMUNI": "0029",
          "CODVIA": "00200141",
          "ETIQUETA": "Consultorio de Ajalvir",
          "MUNICIPIO": "Ajalvir",
          "NOMVIA": "Aguas",
          "NUMERO": "2",
          "TIPOVIA": "Avda",
          "UTM_X": 459130,
          "UTM_Y": 4487429
         },
         "type": "Feature"
        },
        {
         "geometry": {
          "coordinates": [
           428958,
           4530000
          ],
          "type": "Point"
         },
         "properties": {
          "COD2": 3,
          "CODMUNI": "0035",
          "CODVIA": "003A0030",
          "ETIQUETA": "Consultorio de Alameda del Valle",
          "MUNICIPIO": "Alameda del Valle",
          "NOMVIA": "Santa Marina",
          "NUMERO": "17",
          "TIPOVIA": "Plaza",
          "UTM_X": 428958,
          "UTM_Y": 4530000
         },
         "type": "Feature"
        },
        {
         "geometry": {
          "coordinates": [
           415892,
           4454069
          ],
          "type": "Point"
         },
         "properties": {
          "COD2": 4,
          "CODMUNI": "0040",
          "CODVIA": "00400218",
          "ETIQUETA": "Consultorio de El Álamo",
          "MUNICIPIO": "El Álamo",
          "NOMVIA": "Federico García Lorca",
          "NUMERO": "31",
          "TIPOVIA": "Calle",
          "UTM_X": 415892,
          "UTM_Y": 4454069
         },
         "type": "Feature"
        },
        {
         "geometry": {
          "coordinates": [
           398120,
           4464011
          ],
          "type": "Point"
         },
         "properties": {
          "COD2": 5,
          "CODMUNI": "0088",
          "CODVIA": "008A0088",
          "ETIQUETA": "Consultorio de Aldea del Fresno",
          "MUNICIPIO": "Aldea del Fresno",
          "NOMVIA": "San Rafael",
          "NUMERO": "17",
          "TIPOVIA": "Calle",
          "UTM_X": 398120,
          "UTM_Y": 4464011
         },
         "type": "Feature"
        }
       ],
       "type": "FeatureCollection"
      },
      "text/html": [
       "<table class=\"dataframe\">\n",
       "<caption>A sf: 5 × 11</caption>\n",
       "<thead>\n",
       "\t<tr><th scope=col>ETIQUETA</th><th scope=col>TIPOVIA</th><th scope=col>NOMVIA</th><th scope=col>NUMERO</th><th scope=col>MUNICIPIO</th><th scope=col>CODMUNI</th><th scope=col>CODVIA</th><th scope=col>UTM_X</th><th scope=col>UTM_Y</th><th scope=col>COD2</th><th scope=col>geometry</th></tr>\n",
       "\t<tr><th scope=col>&lt;chr&gt;</th><th scope=col>&lt;chr&gt;</th><th scope=col>&lt;chr&gt;</th><th scope=col>&lt;chr&gt;</th><th scope=col>&lt;chr&gt;</th><th scope=col>&lt;chr&gt;</th><th scope=col>&lt;chr&gt;</th><th scope=col>&lt;int&gt;</th><th scope=col>&lt;dbl&gt;</th><th scope=col>&lt;int&gt;</th><th scope=col>&lt;POINT [m]&gt;</th></tr>\n",
       "</thead>\n",
       "<tbody>\n",
       "\t<tr><td>Consultorio de La Acebeda       </td><td>Plaza</td><td>San Miguel           </td><td>1 </td><td>La Acebeda       </td><td>0014</td><td>00100028</td><td>447522</td><td>4548589</td><td>1</td><td>POINT (447522 4548589)</td></tr>\n",
       "\t<tr><td>Consultorio de Ajalvir          </td><td>Avda </td><td>Aguas                </td><td>2 </td><td>Ajalvir          </td><td>0029</td><td>00200141</td><td>459130</td><td>4487429</td><td>2</td><td>POINT (459130 4487429)</td></tr>\n",
       "\t<tr><td>Consultorio de Alameda del Valle</td><td>Plaza</td><td>Santa Marina         </td><td>17</td><td>Alameda del Valle</td><td>0035</td><td>003A0030</td><td>428958</td><td>4530000</td><td>3</td><td>POINT (428958 4530000)</td></tr>\n",
       "\t<tr><td>Consultorio de El Álamo         </td><td>Calle</td><td>Federico García Lorca</td><td>31</td><td>El Álamo         </td><td>0040</td><td>00400218</td><td>415892</td><td>4454069</td><td>4</td><td>POINT (415892 4454069)</td></tr>\n",
       "\t<tr><td>Consultorio de Aldea del Fresno </td><td>Calle</td><td>San Rafael           </td><td>17</td><td>Aldea del Fresno </td><td>0088</td><td>008A0088</td><td>398120</td><td>4464011</td><td>5</td><td>POINT (398120 4464011)</td></tr>\n",
       "</tbody>\n",
       "</table>\n"
      ],
      "text/latex": [
       "A sf: 5 × 11\n",
       "\\begin{tabular}{lllllllllll}\n",
       " ETIQUETA & TIPOVIA & NOMVIA & NUMERO & MUNICIPIO & CODMUNI & CODVIA & UTM\\_X & UTM\\_Y & COD2 & geometry\\\\\n",
       " <chr> & <chr> & <chr> & <chr> & <chr> & <chr> & <chr> & <int> & <dbl> & <int> & <POINT {[}m{]}>\\\\\n",
       "\\hline\n",
       "\t Consultorio de La Acebeda        & Plaza & San Miguel            & 1  & La Acebeda        & 0014 & 00100028 & 447522 & 4548589 & 1 & POINT (447522 4548589)\\\\\n",
       "\t Consultorio de Ajalvir           & Avda  & Aguas                 & 2  & Ajalvir           & 0029 & 00200141 & 459130 & 4487429 & 2 & POINT (459130 4487429)\\\\\n",
       "\t Consultorio de Alameda del Valle & Plaza & Santa Marina          & 17 & Alameda del Valle & 0035 & 003A0030 & 428958 & 4530000 & 3 & POINT (428958 4530000)\\\\\n",
       "\t Consultorio de El Álamo          & Calle & Federico García Lorca & 31 & El Álamo          & 0040 & 00400218 & 415892 & 4454069 & 4 & POINT (415892 4454069)\\\\\n",
       "\t Consultorio de Aldea del Fresno  & Calle & San Rafael            & 17 & Aldea del Fresno  & 0088 & 008A0088 & 398120 & 4464011 & 5 & POINT (398120 4464011)\\\\\n",
       "\\end{tabular}\n"
      ],
      "text/markdown": [
       "\n",
       "A sf: 5 × 11\n",
       "\n",
       "| ETIQUETA &lt;chr&gt; | TIPOVIA &lt;chr&gt; | NOMVIA &lt;chr&gt; | NUMERO &lt;chr&gt; | MUNICIPIO &lt;chr&gt; | CODMUNI &lt;chr&gt; | CODVIA &lt;chr&gt; | UTM_X &lt;int&gt; | UTM_Y &lt;dbl&gt; | COD2 &lt;int&gt; | geometry &lt;POINT [m]&gt; |\n",
       "|---|---|---|---|---|---|---|---|---|---|---|\n",
       "| Consultorio de La Acebeda        | Plaza | San Miguel            | 1  | La Acebeda        | 0014 | 00100028 | 447522 | 4548589 | 1 | POINT (447522 4548589) |\n",
       "| Consultorio de Ajalvir           | Avda  | Aguas                 | 2  | Ajalvir           | 0029 | 00200141 | 459130 | 4487429 | 2 | POINT (459130 4487429) |\n",
       "| Consultorio de Alameda del Valle | Plaza | Santa Marina          | 17 | Alameda del Valle | 0035 | 003A0030 | 428958 | 4530000 | 3 | POINT (428958 4530000) |\n",
       "| Consultorio de El Álamo          | Calle | Federico García Lorca | 31 | El Álamo          | 0040 | 00400218 | 415892 | 4454069 | 4 | POINT (415892 4454069) |\n",
       "| Consultorio de Aldea del Fresno  | Calle | San Rafael            | 17 | Aldea del Fresno  | 0088 | 008A0088 | 398120 | 4464011 | 5 | POINT (398120 4464011) |\n",
       "\n"
      ],
      "text/plain": [
       "  ETIQUETA                         TIPOVIA NOMVIA                NUMERO\n",
       "1 Consultorio de La Acebeda        Plaza   San Miguel            1     \n",
       "2 Consultorio de Ajalvir           Avda    Aguas                 2     \n",
       "3 Consultorio de Alameda del Valle Plaza   Santa Marina          17    \n",
       "4 Consultorio de El Álamo          Calle   Federico García Lorca 31    \n",
       "5 Consultorio de Aldea del Fresno  Calle   San Rafael            17    \n",
       "  MUNICIPIO         CODMUNI CODVIA   UTM_X  UTM_Y   COD2 geometry              \n",
       "1 La Acebeda        0014    00100028 447522 4548589 1    POINT (447522 4548589)\n",
       "2 Ajalvir           0029    00200141 459130 4487429 2    POINT (459130 4487429)\n",
       "3 Alameda del Valle 0035    003A0030 428958 4530000 3    POINT (428958 4530000)\n",
       "4 El Álamo          0040    00400218 415892 4454069 4    POINT (415892 4454069)\n",
       "5 Aldea del Fresno  0088    008A0088 398120 4464011 5    POINT (398120 4464011)"
      ]
     },
     "metadata": {},
     "output_type": "display_data"
    }
   ],
   "source": [
    "data_09 |> slice_head(n = 5)"
   ]
  },
  {
   "attachments": {},
   "cell_type": "markdown",
   "metadata": {},
   "source": [
    "### 10. Otros Centros"
   ]
  },
  {
   "attachments": {},
   "cell_type": "markdown",
   "metadata": {},
   "source": [
    "<font color='tomato'><b> OPCION A:</b> Seleccionar fichero en ventana para mayor comodidad</font> \n"
   ]
  },
  {
   "attachments": {},
   "cell_type": "markdown",
   "metadata": {},
   "source": [
    "Data load using the {tcltk} package. Ucomment the line if not using this option"
   ]
  },
  {
   "cell_type": "code",
   "execution_count": 58,
   "metadata": {
    "vscode": {
     "languageId": "r"
    }
   },
   "outputs": [],
   "source": [
    "# file_data_10 <- tcltk::tk_choose.files(multi = FALSE)"
   ]
  },
  {
   "attachments": {},
   "cell_type": "markdown",
   "metadata": {},
   "source": [
    "<font color='tomato'><b> OPCION B:</b> Especificar el nombre de archivo</font>\n",
    "\n",
    "NOTA: se omiten las comprobaciones de existencia de archivo para mejor compresión del código"
   ]
  },
  {
   "cell_type": "code",
   "execution_count": 59,
   "metadata": {
    "vscode": {
     "languageId": "r"
    }
   },
   "outputs": [],
   "source": [
    "iFile_10 <- \"Salud_ Centros sanitarios. Otros centros/saludotros.shp\"\n",
    "file_data_10 <- paste0(iPath, iFile_10)\n"
   ]
  },
  {
   "attachments": {},
   "cell_type": "markdown",
   "metadata": {},
   "source": [
    "#### Data file to dataframe\n",
    "\n",
    "Usar la función adecuada según el formato de entrada (xlsx, csv, json, ...)"
   ]
  },
  {
   "cell_type": "code",
   "execution_count": 60,
   "metadata": {
    "vscode": {
     "languageId": "r"
    }
   },
   "outputs": [
    {
     "name": "stdout",
     "output_type": "stream",
     "text": [
      "options:        ENCODING=latin1 \n",
      "Reading layer `saludotros' from data source \n",
      "  `/Users/emilio.lcano/academico/gh_repos/__transferencia/citizenlab/CitizenLab-Research-and-Development/casos_urjc/notebooks/II_data_processing/18_infraestructuras/Data/Input/Salud_ Centros sanitarios. Otros centros/saludotros.shp' \n",
      "  using driver `ESRI Shapefile'\n",
      "Simple feature collection with 29 features and 7 fields\n",
      "Geometry type: POINT\n",
      "Dimension:     XY\n",
      "Bounding box:  xmin: 434198.7 ymin: 4463663 xmax: 468813 ymax: 4489946\n",
      "Projected CRS: ETRS89 / UTM zone 30N\n"
     ]
    }
   ],
   "source": [
    "data_10 <- st_read(file_data_10,\n",
    "                            options = \"ENCODING=latin1\", \n",
    "                            quiet = FALSE)\n"
   ]
  },
  {
   "attachments": {},
   "cell_type": "markdown",
   "metadata": {},
   "source": [
    "Estructura de  los datos:"
   ]
  },
  {
   "cell_type": "code",
   "execution_count": 61,
   "metadata": {
    "vscode": {
     "languageId": "r"
    }
   },
   "outputs": [
    {
     "name": "stdout",
     "output_type": "stream",
     "text": [
      "Rows: 29\n",
      "Columns: 8\n",
      "$ CODMUN    \u001b[3m\u001b[90m<chr>\u001b[39m\u001b[23m \"079\", \"079\", \"079\", \"079\", \"079\", \"079\", \"134\", \"079\", \"079…\n",
      "$ NOMBRE    \u001b[3m\u001b[90m<chr>\u001b[39m\u001b[23m \"Instituto Provincial de Rehabilitación\", \"Instituto Provinc…\n",
      "$ DIRECCION \u001b[3m\u001b[90m<chr>\u001b[39m\u001b[23m \"Calle Francisco Silvela, 40\", \"Calle General Arrando, 17\", …\n",
      "$ CODIGO2   \u001b[3m\u001b[90m<int>\u001b[39m\u001b[23m 1, 2, 3, 4, 5, 6, 7, 8, 9, 10, 11, 12, 13, 14, 15, 16, 17, 1…\n",
      "$ UTM_X     \u001b[3m\u001b[90m<dbl>\u001b[39m\u001b[23m 442944, 441216, 441846, 441859, 441873, 441821, 448297, 4477…\n",
      "$ UTM_Y     \u001b[3m\u001b[90m<dbl>\u001b[39m\u001b[23m 4476050, 4475926, 4480831, 4480830, 4480830, 4476418, 448994…\n",
      "$ COD_SUCA  \u001b[3m\u001b[90m<chr>\u001b[39m\u001b[23m \"07902340\", \"07902499\", \"07901213\", \"07901213\", \"07901213\", …\n",
      "$ geometry  \u001b[3m\u001b[90m<POINT [m]>\u001b[39m\u001b[23m POINT (442944 4476050), POINT (441216 4475926), POINT …\n"
     ]
    }
   ],
   "source": [
    "glimpse(data_10)"
   ]
  },
  {
   "attachments": {},
   "cell_type": "markdown",
   "metadata": {},
   "source": [
    "Muestra de datos:"
   ]
  },
  {
   "cell_type": "code",
   "execution_count": 62,
   "metadata": {
    "vscode": {
     "languageId": "r"
    }
   },
   "outputs": [
    {
     "data": {
      "application/geo+json": {
       "features": [
        {
         "geometry": {
          "coordinates": [
           442944,
           4476050
          ],
          "type": "Point"
         },
         "properties": {
          "CODIGO2": 1,
          "CODMUN": "079",
          "COD_SUCA": "07902340",
          "DIRECCION": "Calle Francisco Silvela, 40",
          "NOMBRE": "Instituto Provincial de Rehabilitación",
          "UTM_X": 442944,
          "UTM_Y": 4476050
         },
         "type": "Feature"
        },
        {
         "geometry": {
          "coordinates": [
           441216,
           4475926
          ],
          "type": "Point"
         },
         "properties": {
          "CODIGO2": 2,
          "CODMUN": "079",
          "COD_SUCA": "07902499",
          "DIRECCION": "Calle General Arrando, 17",
          "NOMBRE": "Instituto Provincial de Oftalmología",
          "UTM_X": 441216,
          "UTM_Y": 4475926
         },
         "type": "Feature"
        },
        {
         "geometry": {
          "coordinates": [
           441845.912,
           4480830.9089
          ],
          "type": "Point"
         },
         "properties": {
          "CODIGO2": 3,
          "CODMUN": "079",
          "COD_SUCA": "07901213",
          "DIRECCION": "Paseo de la Castellana, 280",
          "NOMBRE": "Oficina Regional de Coordinación de Transplantes",
          "UTM_X": 441846,
          "UTM_Y": 4480831
         },
         "type": "Feature"
        },
        {
         "geometry": {
          "coordinates": [
           441858.912,
           4480829.9089
          ],
          "type": "Point"
         },
         "properties": {
          "CODIGO2": 4,
          "CODMUN": "079",
          "COD_SUCA": "07901213",
          "DIRECCION": "Paseo de la Castellana, 280",
          "NOMBRE": "Oficina Regional de Coordinación de Salud Mental",
          "UTM_X": 441859,
          "UTM_Y": 4480830
         },
         "type": "Feature"
        },
        {
         "geometry": {
          "coordinates": [
           441872.912,
           4480829.9089
          ],
          "type": "Point"
         },
         "properties": {
          "CODIGO2": 5,
          "CODMUN": "079",
          "COD_SUCA": "07901213",
          "DIRECCION": "Paseo de la Castellana, 280",
          "NOMBRE": "Oficina Regional de Coordinación Oncológica",
          "UTM_X": 441873,
          "UTM_Y": 4480830
         },
         "type": "Feature"
        }
       ],
       "type": "FeatureCollection"
      },
      "text/html": [
       "<table class=\"dataframe\">\n",
       "<caption>A sf: 5 × 8</caption>\n",
       "<thead>\n",
       "\t<tr><th scope=col>CODMUN</th><th scope=col>NOMBRE</th><th scope=col>DIRECCION</th><th scope=col>CODIGO2</th><th scope=col>UTM_X</th><th scope=col>UTM_Y</th><th scope=col>COD_SUCA</th><th scope=col>geometry</th></tr>\n",
       "\t<tr><th scope=col>&lt;chr&gt;</th><th scope=col>&lt;chr&gt;</th><th scope=col>&lt;chr&gt;</th><th scope=col>&lt;int&gt;</th><th scope=col>&lt;dbl&gt;</th><th scope=col>&lt;dbl&gt;</th><th scope=col>&lt;chr&gt;</th><th scope=col>&lt;POINT [m]&gt;</th></tr>\n",
       "</thead>\n",
       "<tbody>\n",
       "\t<tr><td>079</td><td>Instituto Provincial de Rehabilitación          </td><td>Calle Francisco Silvela, 40</td><td>1</td><td>442944</td><td>4476050</td><td>07902340</td><td>POINT (442944 4476050)</td></tr>\n",
       "\t<tr><td>079</td><td>Instituto Provincial de Oftalmología            </td><td>Calle General Arrando, 17  </td><td>2</td><td>441216</td><td>4475926</td><td>07902499</td><td>POINT (441216 4475926)</td></tr>\n",
       "\t<tr><td>079</td><td>Oficina Regional de Coordinación de Transplantes</td><td>Paseo de la Castellana, 280</td><td>3</td><td>441846</td><td>4480831</td><td>07901213</td><td>POINT (441845.9 4480831)</td></tr>\n",
       "\t<tr><td>079</td><td>Oficina Regional de Coordinación de Salud Mental</td><td>Paseo de la Castellana, 280</td><td>4</td><td>441859</td><td>4480830</td><td>07901213</td><td>POINT (441858.9 4480830)</td></tr>\n",
       "\t<tr><td>079</td><td>Oficina Regional de Coordinación Oncológica     </td><td>Paseo de la Castellana, 280</td><td>5</td><td>441873</td><td>4480830</td><td>07901213</td><td>POINT (441872.9 4480830)</td></tr>\n",
       "</tbody>\n",
       "</table>\n"
      ],
      "text/latex": [
       "A sf: 5 × 8\n",
       "\\begin{tabular}{llllllll}\n",
       " CODMUN & NOMBRE & DIRECCION & CODIGO2 & UTM\\_X & UTM\\_Y & COD\\_SUCA & geometry\\\\\n",
       " <chr> & <chr> & <chr> & <int> & <dbl> & <dbl> & <chr> & <POINT {[}m{]}>\\\\\n",
       "\\hline\n",
       "\t 079 & Instituto Provincial de Rehabilitación           & Calle Francisco Silvela, 40 & 1 & 442944 & 4476050 & 07902340 & POINT (442944 4476050)\\\\\n",
       "\t 079 & Instituto Provincial de Oftalmología             & Calle General Arrando, 17   & 2 & 441216 & 4475926 & 07902499 & POINT (441216 4475926)\\\\\n",
       "\t 079 & Oficina Regional de Coordinación de Transplantes & Paseo de la Castellana, 280 & 3 & 441846 & 4480831 & 07901213 & POINT (441845.9 4480831)\\\\\n",
       "\t 079 & Oficina Regional de Coordinación de Salud Mental & Paseo de la Castellana, 280 & 4 & 441859 & 4480830 & 07901213 & POINT (441858.9 4480830)\\\\\n",
       "\t 079 & Oficina Regional de Coordinación Oncológica      & Paseo de la Castellana, 280 & 5 & 441873 & 4480830 & 07901213 & POINT (441872.9 4480830)\\\\\n",
       "\\end{tabular}\n"
      ],
      "text/markdown": [
       "\n",
       "A sf: 5 × 8\n",
       "\n",
       "| CODMUN &lt;chr&gt; | NOMBRE &lt;chr&gt; | DIRECCION &lt;chr&gt; | CODIGO2 &lt;int&gt; | UTM_X &lt;dbl&gt; | UTM_Y &lt;dbl&gt; | COD_SUCA &lt;chr&gt; | geometry &lt;POINT [m]&gt; |\n",
       "|---|---|---|---|---|---|---|---|\n",
       "| 079 | Instituto Provincial de Rehabilitación           | Calle Francisco Silvela, 40 | 1 | 442944 | 4476050 | 07902340 | POINT (442944 4476050) |\n",
       "| 079 | Instituto Provincial de Oftalmología             | Calle General Arrando, 17   | 2 | 441216 | 4475926 | 07902499 | POINT (441216 4475926) |\n",
       "| 079 | Oficina Regional de Coordinación de Transplantes | Paseo de la Castellana, 280 | 3 | 441846 | 4480831 | 07901213 | POINT (441845.9 4480831) |\n",
       "| 079 | Oficina Regional de Coordinación de Salud Mental | Paseo de la Castellana, 280 | 4 | 441859 | 4480830 | 07901213 | POINT (441858.9 4480830) |\n",
       "| 079 | Oficina Regional de Coordinación Oncológica      | Paseo de la Castellana, 280 | 5 | 441873 | 4480830 | 07901213 | POINT (441872.9 4480830) |\n",
       "\n"
      ],
      "text/plain": [
       "  CODMUN NOMBRE                                          \n",
       "1 079    Instituto Provincial de Rehabilitación          \n",
       "2 079    Instituto Provincial de Oftalmología            \n",
       "3 079    Oficina Regional de Coordinación de Transplantes\n",
       "4 079    Oficina Regional de Coordinación de Salud Mental\n",
       "5 079    Oficina Regional de Coordinación Oncológica     \n",
       "  DIRECCION                   CODIGO2 UTM_X  UTM_Y   COD_SUCA\n",
       "1 Calle Francisco Silvela, 40 1       442944 4476050 07902340\n",
       "2 Calle General Arrando, 17   2       441216 4475926 07902499\n",
       "3 Paseo de la Castellana, 280 3       441846 4480831 07901213\n",
       "4 Paseo de la Castellana, 280 4       441859 4480830 07901213\n",
       "5 Paseo de la Castellana, 280 5       441873 4480830 07901213\n",
       "  geometry                \n",
       "1 POINT (442944 4476050)  \n",
       "2 POINT (441216 4475926)  \n",
       "3 POINT (441845.9 4480831)\n",
       "4 POINT (441858.9 4480830)\n",
       "5 POINT (441872.9 4480830)"
      ]
     },
     "metadata": {},
     "output_type": "display_data"
    }
   ],
   "source": [
    "data_10 |> slice_head(n = 5)"
   ]
  },
  {
   "attachments": {},
   "cell_type": "markdown",
   "metadata": {},
   "source": [
    "### 11. Centros de salud mental"
   ]
  },
  {
   "attachments": {},
   "cell_type": "markdown",
   "metadata": {},
   "source": [
    "<font color='tomato'><b> OPCION A:</b> Seleccionar fichero en ventana para mayor comodidad</font> \n"
   ]
  },
  {
   "attachments": {},
   "cell_type": "markdown",
   "metadata": {},
   "source": [
    "Data load using the {tcltk} package. Ucomment the line if not using this option"
   ]
  },
  {
   "cell_type": "code",
   "execution_count": null,
   "metadata": {
    "vscode": {
     "languageId": "r"
    }
   },
   "outputs": [],
   "source": [
    "# file_data_11 <- tcltk::tk_choose.files(multi = FALSE)"
   ]
  },
  {
   "attachments": {},
   "cell_type": "markdown",
   "metadata": {},
   "source": [
    "<font color='tomato'><b> OPCION B:</b> Especificar el nombre de archivo</font>\n",
    "\n",
    "NOTA: se omiten las comprobaciones de existencia de archivo para mejor compresión del código"
   ]
  },
  {
   "cell_type": "code",
   "execution_count": 63,
   "metadata": {
    "vscode": {
     "languageId": "r"
    }
   },
   "outputs": [],
   "source": [
    "iFile_11 <- \"Salud_ Centros sanitarios. Servicio de salud mental de distrito/saludmental.shp\"\n",
    "file_data_11 <- paste0(iPath, iFile_11)\n"
   ]
  },
  {
   "attachments": {},
   "cell_type": "markdown",
   "metadata": {},
   "source": [
    "#### Data file to dataframe\n",
    "\n",
    "Usar la función adecuada según el formato de entrada (xlsx, csv, json, ...)"
   ]
  },
  {
   "cell_type": "code",
   "execution_count": 64,
   "metadata": {
    "vscode": {
     "languageId": "r"
    }
   },
   "outputs": [
    {
     "name": "stdout",
     "output_type": "stream",
     "text": [
      "options:        ENCODING=latin1 \n",
      "Reading layer `saludmental' from data source \n",
      "  `/Users/emilio.lcano/academico/gh_repos/__transferencia/citizenlab/CitizenLab-Research-and-Development/casos_urjc/notebooks/II_data_processing/18_infraestructuras/Data/Input/Salud_ Centros sanitarios. Servicio de salud mental de distrito/saludmental.shp' \n",
      "  using driver `ESRI Shapefile'\n",
      "Simple feature collection with 53 features and 10 fields\n",
      "Geometry type: POINT\n",
      "Dimension:     XY\n",
      "Bounding box:  xmin: 402720 ymin: 4434284 xmax: 468396 ymax: 4501363\n",
      "Projected CRS: ETRS89 / UTM zone 30N\n"
     ]
    }
   ],
   "source": [
    "data_11 <- st_read(file_data_11,\n",
    "                            options = \"ENCODING=latin1\", \n",
    "                            quiet = FALSE)\n"
   ]
  },
  {
   "attachments": {},
   "cell_type": "markdown",
   "metadata": {},
   "source": [
    "Estructura de  los datos:"
   ]
  },
  {
   "cell_type": "code",
   "execution_count": 65,
   "metadata": {
    "vscode": {
     "languageId": "r"
    }
   },
   "outputs": [
    {
     "name": "stdout",
     "output_type": "stream",
     "text": [
      "Rows: 53\n",
      "Columns: 11\n",
      "$ NOMBRE     \u001b[3m\u001b[90m<chr>\u001b[39m\u001b[23m \"CSM Villa Vallecas\", \"CSM Coslada\", \"CSM Salamanca\", \"CSM …\n",
      "$ TIPOVIAL   \u001b[3m\u001b[90m<chr>\u001b[39m\u001b[23m \"Calle\", \"Avenida\", \"Calle\", \"Calle\", \"Calle\", \"Avenida\", \"…\n",
      "$ NOMVIA     \u001b[3m\u001b[90m<chr>\u001b[39m\u001b[23m \"San Claudio\", \"España\", \"O'Donnell\", \"Aguileñas\", \"Octavio…\n",
      "$ MUNICIPIO  \u001b[3m\u001b[90m<chr>\u001b[39m\u001b[23m \"Madrid\", \"Coslada\", \"Madrid\", \"Madrid\", \"Alcalá de Henares…\n",
      "$ NUMERO     \u001b[3m\u001b[90m<chr>\u001b[39m\u001b[23m \"154\", \"s/n\", \"55\", \"1\", \"15\", \"4\", \"50\", \"20\", \"1\", \"11\", …\n",
      "$ CODMUN     \u001b[3m\u001b[90m<chr>\u001b[39m\u001b[23m \"0796\", \"0493\", \"0796\", \"0796\", \"0053\", \"1489\", \"0066\", \"13…\n",
      "$ CODIGO2    \u001b[3m\u001b[90m<int>\u001b[39m\u001b[23m 1, 2, 3, 4, 5, 6, 7, 8, 9, 10, 11, 12, 13, 14, 15, 16, 17, …\n",
      "$ SUCA_CDVIA \u001b[3m\u001b[90m<chr>\u001b[39m\u001b[23m \"07910251\", \"049A0101\", \"07904389\", \"07900067\", \"00504560\",…\n",
      "$ UTM_X      \u001b[3m\u001b[90m<dbl>\u001b[39m\u001b[23m 445763, 453151, 443046, 441192, 468396, 461608, 446048, 446…\n",
      "$ UTM_Y      \u001b[3m\u001b[90m<dbl>\u001b[39m\u001b[23m 4471085, 4474618, 4474762, 4479657, 4483323, 4478644, 44887…\n",
      "$ geometry   \u001b[3m\u001b[90m<POINT [m]>\u001b[39m\u001b[23m POINT (445763 4471085), POINT (453151 4474618), POINT…\n"
     ]
    }
   ],
   "source": [
    "glimpse(data_11)"
   ]
  },
  {
   "attachments": {},
   "cell_type": "markdown",
   "metadata": {},
   "source": [
    "Muestra de datos:"
   ]
  },
  {
   "cell_type": "code",
   "execution_count": 66,
   "metadata": {
    "vscode": {
     "languageId": "r"
    }
   },
   "outputs": [
    {
     "data": {
      "application/geo+json": {
       "features": [
        {
         "geometry": {
          "coordinates": [
           445763,
           4471085
          ],
          "type": "Point"
         },
         "properties": {
          "CODIGO2": 1,
          "CODMUN": "0796",
          "MUNICIPIO": "Madrid",
          "NOMBRE": "CSM Villa Vallecas",
          "NOMVIA": "San Claudio",
          "NUMERO": "154",
          "SUCA_CDVIA": "07910251",
          "TIPOVIAL": "Calle",
          "UTM_X": 445763,
          "UTM_Y": 4471085
         },
         "type": "Feature"
        },
        {
         "geometry": {
          "coordinates": [
           453151,
           4474618
          ],
          "type": "Point"
         },
         "properties": {
          "CODIGO2": 2,
          "CODMUN": "0493",
          "MUNICIPIO": "Coslada",
          "NOMBRE": "CSM Coslada",
          "NOMVIA": "España",
          "NUMERO": "s/n",
          "SUCA_CDVIA": "049A0101",
          "TIPOVIAL": "Avenida",
          "UTM_X": 453151,
          "UTM_Y": 4474618
         },
         "type": "Feature"
        },
        {
         "geometry": {
          "coordinates": [
           443046,
           4474762
          ],
          "type": "Point"
         },
         "properties": {
          "CODIGO2": 3,
          "CODMUN": "0796",
          "MUNICIPIO": "Madrid",
          "NOMBRE": "CSM Salamanca",
          "NOMVIA": "O'Donnell",
          "NUMERO": "55",
          "SUCA_CDVIA": "07904389",
          "TIPOVIAL": "Calle",
          "UTM_X": 443046,
          "UTM_Y": 4474762
         },
         "type": "Feature"
        },
        {
         "geometry": {
          "coordinates": [
           441192,
           4479657
          ],
          "type": "Point"
         },
         "properties": {
          "CODIGO2": 4,
          "CODMUN": "0796",
          "MUNICIPIO": "Madrid",
          "NOMBRE": "CSM Tetuán Infanto Juvenil",
          "NOMVIA": "Aguileñas",
          "NUMERO": "1",
          "SUCA_CDVIA": "07900067",
          "TIPOVIAL": "Calle",
          "UTM_X": 441192,
          "UTM_Y": 4479657
         },
         "type": "Feature"
        },
        {
         "geometry": {
          "coordinates": [
           468396,
           4483323
          ],
          "type": "Point"
         },
         "properties": {
          "CODIGO2": 5,
          "CODMUN": "0053",
          "MUNICIPIO": "Alcalá de Henares",
          "NOMBRE": "CSM Alcalá  de Henarés I y II",
          "NOMVIA": "Octavio Paz",
          "NUMERO": "15",
          "SUCA_CDVIA": "00504560",
          "TIPOVIAL": "Calle",
          "UTM_X": 468396,
          "UTM_Y": 4483323
         },
         "type": "Feature"
        }
       ],
       "type": "FeatureCollection"
      },
      "text/html": [
       "<table class=\"dataframe\">\n",
       "<caption>A sf: 5 × 11</caption>\n",
       "<thead>\n",
       "\t<tr><th scope=col>NOMBRE</th><th scope=col>TIPOVIAL</th><th scope=col>NOMVIA</th><th scope=col>MUNICIPIO</th><th scope=col>NUMERO</th><th scope=col>CODMUN</th><th scope=col>CODIGO2</th><th scope=col>SUCA_CDVIA</th><th scope=col>UTM_X</th><th scope=col>UTM_Y</th><th scope=col>geometry</th></tr>\n",
       "\t<tr><th scope=col>&lt;chr&gt;</th><th scope=col>&lt;chr&gt;</th><th scope=col>&lt;chr&gt;</th><th scope=col>&lt;chr&gt;</th><th scope=col>&lt;chr&gt;</th><th scope=col>&lt;chr&gt;</th><th scope=col>&lt;int&gt;</th><th scope=col>&lt;chr&gt;</th><th scope=col>&lt;dbl&gt;</th><th scope=col>&lt;dbl&gt;</th><th scope=col>&lt;POINT [m]&gt;</th></tr>\n",
       "</thead>\n",
       "<tbody>\n",
       "\t<tr><td>CSM Villa Vallecas           </td><td>Calle  </td><td>San Claudio</td><td>Madrid           </td><td>154</td><td>0796</td><td>1</td><td>07910251</td><td>445763</td><td>4471085</td><td>POINT (445763 4471085)</td></tr>\n",
       "\t<tr><td>CSM Coslada                  </td><td>Avenida</td><td>España     </td><td>Coslada          </td><td>s/n</td><td>0493</td><td>2</td><td>049A0101</td><td>453151</td><td>4474618</td><td>POINT (453151 4474618)</td></tr>\n",
       "\t<tr><td>CSM Salamanca                </td><td>Calle  </td><td>O'Donnell  </td><td>Madrid           </td><td>55 </td><td>0796</td><td>3</td><td>07904389</td><td>443046</td><td>4474762</td><td>POINT (443046 4474762)</td></tr>\n",
       "\t<tr><td>CSM Tetuán Infanto Juvenil   </td><td>Calle  </td><td>Aguileñas  </td><td>Madrid           </td><td>1  </td><td>0796</td><td>4</td><td>07900067</td><td>441192</td><td>4479657</td><td>POINT (441192 4479657)</td></tr>\n",
       "\t<tr><td>CSM Alcalá  de Henarés I y II</td><td>Calle  </td><td>Octavio Paz</td><td>Alcalá de Henares</td><td>15 </td><td>0053</td><td>5</td><td>00504560</td><td>468396</td><td>4483323</td><td>POINT (468396 4483323)</td></tr>\n",
       "</tbody>\n",
       "</table>\n"
      ],
      "text/latex": [
       "A sf: 5 × 11\n",
       "\\begin{tabular}{lllllllllll}\n",
       " NOMBRE & TIPOVIAL & NOMVIA & MUNICIPIO & NUMERO & CODMUN & CODIGO2 & SUCA\\_CDVIA & UTM\\_X & UTM\\_Y & geometry\\\\\n",
       " <chr> & <chr> & <chr> & <chr> & <chr> & <chr> & <int> & <chr> & <dbl> & <dbl> & <POINT {[}m{]}>\\\\\n",
       "\\hline\n",
       "\t CSM Villa Vallecas            & Calle   & San Claudio & Madrid            & 154 & 0796 & 1 & 07910251 & 445763 & 4471085 & POINT (445763 4471085)\\\\\n",
       "\t CSM Coslada                   & Avenida & España      & Coslada           & s/n & 0493 & 2 & 049A0101 & 453151 & 4474618 & POINT (453151 4474618)\\\\\n",
       "\t CSM Salamanca                 & Calle   & O'Donnell   & Madrid            & 55  & 0796 & 3 & 07904389 & 443046 & 4474762 & POINT (443046 4474762)\\\\\n",
       "\t CSM Tetuán Infanto Juvenil    & Calle   & Aguileñas   & Madrid            & 1   & 0796 & 4 & 07900067 & 441192 & 4479657 & POINT (441192 4479657)\\\\\n",
       "\t CSM Alcalá  de Henarés I y II & Calle   & Octavio Paz & Alcalá de Henares & 15  & 0053 & 5 & 00504560 & 468396 & 4483323 & POINT (468396 4483323)\\\\\n",
       "\\end{tabular}\n"
      ],
      "text/markdown": [
       "\n",
       "A sf: 5 × 11\n",
       "\n",
       "| NOMBRE &lt;chr&gt; | TIPOVIAL &lt;chr&gt; | NOMVIA &lt;chr&gt; | MUNICIPIO &lt;chr&gt; | NUMERO &lt;chr&gt; | CODMUN &lt;chr&gt; | CODIGO2 &lt;int&gt; | SUCA_CDVIA &lt;chr&gt; | UTM_X &lt;dbl&gt; | UTM_Y &lt;dbl&gt; | geometry &lt;POINT [m]&gt; |\n",
       "|---|---|---|---|---|---|---|---|---|---|---|\n",
       "| CSM Villa Vallecas            | Calle   | San Claudio | Madrid            | 154 | 0796 | 1 | 07910251 | 445763 | 4471085 | POINT (445763 4471085) |\n",
       "| CSM Coslada                   | Avenida | España      | Coslada           | s/n | 0493 | 2 | 049A0101 | 453151 | 4474618 | POINT (453151 4474618) |\n",
       "| CSM Salamanca                 | Calle   | O'Donnell   | Madrid            | 55  | 0796 | 3 | 07904389 | 443046 | 4474762 | POINT (443046 4474762) |\n",
       "| CSM Tetuán Infanto Juvenil    | Calle   | Aguileñas   | Madrid            | 1   | 0796 | 4 | 07900067 | 441192 | 4479657 | POINT (441192 4479657) |\n",
       "| CSM Alcalá  de Henarés I y II | Calle   | Octavio Paz | Alcalá de Henares | 15  | 0053 | 5 | 00504560 | 468396 | 4483323 | POINT (468396 4483323) |\n",
       "\n"
      ],
      "text/plain": [
       "  NOMBRE                        TIPOVIAL NOMVIA      MUNICIPIO         NUMERO\n",
       "1 CSM Villa Vallecas            Calle    San Claudio Madrid            154   \n",
       "2 CSM Coslada                   Avenida  España      Coslada           s/n   \n",
       "3 CSM Salamanca                 Calle    O'Donnell   Madrid            55    \n",
       "4 CSM Tetuán Infanto Juvenil    Calle    Aguileñas   Madrid            1     \n",
       "5 CSM Alcalá  de Henarés I y II Calle    Octavio Paz Alcalá de Henares 15    \n",
       "  CODMUN CODIGO2 SUCA_CDVIA UTM_X  UTM_Y   geometry              \n",
       "1 0796   1       07910251   445763 4471085 POINT (445763 4471085)\n",
       "2 0493   2       049A0101   453151 4474618 POINT (453151 4474618)\n",
       "3 0796   3       07904389   443046 4474762 POINT (443046 4474762)\n",
       "4 0796   4       07900067   441192 4479657 POINT (441192 4479657)\n",
       "5 0053   5       00504560   468396 4483323 POINT (468396 4483323)"
      ]
     },
     "metadata": {},
     "output_type": "display_data"
    }
   ],
   "source": [
    "data_11 |> slice_head(n = 5)"
   ]
  },
  {
   "attachments": {},
   "cell_type": "markdown",
   "metadata": {},
   "source": [
    "### 12. Hospitales"
   ]
  },
  {
   "attachments": {},
   "cell_type": "markdown",
   "metadata": {},
   "source": [
    "<font color='tomato'><b> OPCION A:</b> Seleccionar fichero en ventana para mayor comodidad</font> \n"
   ]
  },
  {
   "attachments": {},
   "cell_type": "markdown",
   "metadata": {},
   "source": [
    "Data load using the {tcltk} package. Ucomment the line if not using this option"
   ]
  },
  {
   "cell_type": "code",
   "execution_count": null,
   "metadata": {
    "vscode": {
     "languageId": "r"
    }
   },
   "outputs": [],
   "source": [
    "# file_data_12 <- tcltk::tk_choose.files(multi = FALSE)"
   ]
  },
  {
   "attachments": {},
   "cell_type": "markdown",
   "metadata": {},
   "source": [
    "<font color='tomato'><b> OPCION B:</b> Especificar el nombre de archivo</font>\n",
    "\n",
    "NOTA: se omiten las comprobaciones de existencia de archivo para mejor compresión del código"
   ]
  },
  {
   "cell_type": "code",
   "execution_count": 127,
   "metadata": {
    "vscode": {
     "languageId": "r"
    }
   },
   "outputs": [],
   "source": [
    "iFile_12 <- \"hospitales_poi.csv\"\n",
    "file_data_12 <- paste0(iPath, iFile_12)\n"
   ]
  },
  {
   "attachments": {},
   "cell_type": "markdown",
   "metadata": {},
   "source": [
    "#### Data file to dataframe\n",
    "\n",
    "Usar la función adecuada según el formato de entrada (xlsx, csv, json, ...)"
   ]
  },
  {
   "cell_type": "code",
   "execution_count": 128,
   "metadata": {
    "vscode": {
     "languageId": "r"
    }
   },
   "outputs": [
    {
     "name": "stderr",
     "output_type": "stream",
     "text": [
      "\u001b[1mRows: \u001b[22m\u001b[34m87\u001b[39m \u001b[1mColumns: \u001b[22m\u001b[34m67\u001b[39m\n",
      "\u001b[36m──\u001b[39m \u001b[1mColumn specification\u001b[22m \u001b[36m────────────────────────────────────────────────────────\u001b[39m\n",
      "\u001b[1mDelimiter:\u001b[22m \",\"\n",
      "\u001b[31mchr\u001b[39m (31): Nombre Centro, Dirección, Teléfono, Municipio, Provincia, CCAA, Có...\n",
      "\u001b[32mdbl\u001b[39m (35): CCN, CODCNH, Cód. Municipio, Cód. Provincia, Cód. CCAA, Código Pos...\n",
      "\u001b[33mlgl\u001b[39m  (1): CIERREFECH\n",
      "\n",
      "\u001b[36mℹ\u001b[39m Use `spec()` to retrieve the full column specification for this data.\n",
      "\u001b[36mℹ\u001b[39m Specify the column types or set `show_col_types = FALSE` to quiet this message.\n"
     ]
    }
   ],
   "source": [
    "data_12 <- read_csv(file_data_12)\n"
   ]
  },
  {
   "attachments": {},
   "cell_type": "markdown",
   "metadata": {},
   "source": [
    "Estructura de  los datos:"
   ]
  },
  {
   "cell_type": "code",
   "execution_count": 129,
   "metadata": {
    "vscode": {
     "languageId": "r"
    }
   },
   "outputs": [
    {
     "name": "stdout",
     "output_type": "stream",
     "text": [
      "Rows: 87\n",
      "Columns: 67\n",
      "$ CCN                     \u001b[3m\u001b[90m<dbl>\u001b[39m\u001b[23m 1328020932, 1328000034, 1328000070, 1328000066…\n",
      "$ CODCNH                  \u001b[3m\u001b[90m<dbl>\u001b[39m\u001b[23m 281371, 280745, 281124, 281071, 281292, 281281…\n",
      "$ `Nombre Centro`         \u001b[3m\u001b[90m<chr>\u001b[39m\u001b[23m \"HOSPITAL HM VALLES\", \"HOSPITAL UNIVERSITARIO …\n",
      "$ Dirección               \u001b[3m\u001b[90m<chr>\u001b[39m\u001b[23m \"CALLE SANTIAGO 14\", \"CARRETERA DE MECO S/N\", …\n",
      "$ Teléfono                \u001b[3m\u001b[90m<chr>\u001b[39m\u001b[23m \"918883262\", \"918878100\", \"917810682\", \"916219…\n",
      "$ `Cód. Municipio`        \u001b[3m\u001b[90m<dbl>\u001b[39m\u001b[23m 280053, 280053, 280072, 280072, 280133, 280148…\n",
      "$ Municipio               \u001b[3m\u001b[90m<chr>\u001b[39m\u001b[23m \"Alcalá de Henares\", \"Alcalá de Henares\", \"Alc…\n",
      "$ `Cód. Provincia`        \u001b[3m\u001b[90m<dbl>\u001b[39m\u001b[23m 28, 28, 28, 28, 28, 28, 28, 28, 28, 28, 28, 28…\n",
      "$ Provincia               \u001b[3m\u001b[90m<chr>\u001b[39m\u001b[23m \"MADRID\", \"MADRID\", \"MADRID\", \"MADRID\", \"MADRI…\n",
      "$ `Cód. CCAA`             \u001b[3m\u001b[90m<dbl>\u001b[39m\u001b[23m 13, 13, 13, 13, 13, 13, 13, 13, 13, 13, 13, 13…\n",
      "$ CCAA                    \u001b[3m\u001b[90m<chr>\u001b[39m\u001b[23m \"MADRID\", \"MADRID\", \"MADRID\", \"MADRID\", \"MADRI…\n",
      "$ `Código Postal`         \u001b[3m\u001b[90m<dbl>\u001b[39m\u001b[23m 28801, 28805, 28922, 28922, 28300, 28500, 2866…\n",
      "$ CAMAS                   \u001b[3m\u001b[90m<dbl>\u001b[39m\u001b[23m 20, 507, 81, 402, 98, 132, 170, 53, 192, 339, …\n",
      "$ `Cód. Clase de Centro`  \u001b[3m\u001b[90m<chr>\u001b[39m\u001b[23m \"C190\", \"C11\", \"C11\", \"C11\", \"C11\", \"C11\", \"C1…\n",
      "$ `Clase de Centro`       \u001b[3m\u001b[90m<chr>\u001b[39m\u001b[23m \"Otros Centros con Internamiento\", \"Hospitales…\n",
      "$ `Cód. Dep. Funcional`   \u001b[3m\u001b[90m<dbl>\u001b[39m\u001b[23m 20, 2, 20, 2, 2, 2, 20, 20, 2, 20, 20, 2, 21, …\n",
      "$ `Dependencia Funcional` \u001b[3m\u001b[90m<chr>\u001b[39m\u001b[23m \"PRIVADOS\", \"SERVICIOS E INSTITUTOS DE SALUD D…\n",
      "$ `Forma parte Complejo`  \u001b[3m\u001b[90m<chr>\u001b[39m\u001b[23m \"N\", \"N\", \"N\", \"N\", \"N\", \"N\", \"N\", \"N\", \"N\", \"…\n",
      "$ CODIDCOM                \u001b[3m\u001b[90m<dbl>\u001b[39m\u001b[23m NA, NA, NA, NA, NA, NA, NA, NA, NA, NA, NA, NA…\n",
      "$ `Nombre del Complejo`   \u001b[3m\u001b[90m<chr>\u001b[39m\u001b[23m NA, NA, NA, NA, NA, NA, NA, NA, NA, NA, NA, NA…\n",
      "$ ALTA                    \u001b[3m\u001b[90m<chr>\u001b[39m\u001b[23m \"N\", \"N\", \"N\", \"N\", \"N\", \"N\", \"N\", \"N\", \"N\", \"…\n",
      "$ Email                   \u001b[3m\u001b[90m<chr>\u001b[39m\u001b[23m NA, NA, NA, \"FHALCORCON@FHALCORCON.ES\", NA, NA…\n",
      "$ OBJECTID                \u001b[3m\u001b[90m<dbl>\u001b[39m\u001b[23m 559, 516, 536, 532, 551, 550, 534, 541, 517, 5…\n",
      "$ NOMBRE                  \u001b[3m\u001b[90m<chr>\u001b[39m\u001b[23m \"HM VALLES\", \"HOSPITAL UNIVERSITARIO PRINCIPE …\n",
      "$ DIRECCION               \u001b[3m\u001b[90m<chr>\u001b[39m\u001b[23m \"C/SANTIAGO, 14\", \"CTRA. ALCALÁ-MECO, S/N\", \"E…\n",
      "$ TELEFONO                \u001b[3m\u001b[90m<dbl>\u001b[39m\u001b[23m 917374353, 918878100, 916496600, 916219400, 91…\n",
      "$ TELEFONO2               \u001b[3m\u001b[90m<dbl>\u001b[39m\u001b[23m NA, NA, NA, NA, NA, 918394000, NA, NA, NA, 646…\n",
      "$ TELEFAX                 \u001b[3m\u001b[90m<dbl>\u001b[39m\u001b[23m 912805932, 918801825, 916496604, 916219902, 91…\n",
      "$ CODMU                   \u001b[3m\u001b[90m<dbl>\u001b[39m\u001b[23m 280053, 280053, 280072, 280072, 280133, 280148…\n",
      "$ MUNICIPIOS              \u001b[3m\u001b[90m<chr>\u001b[39m\u001b[23m \"Alcalá de Henares\", \"Alcalá de Henares\", \"Alc…\n",
      "$ CODPROV                 \u001b[3m\u001b[90m<dbl>\u001b[39m\u001b[23m 28, 28, 28, 28, 28, 28, 28, 28, 28, 28, 28, 28…\n",
      "$ PROVINCIAS              \u001b[3m\u001b[90m<chr>\u001b[39m\u001b[23m \"MADRID\", \"MADRID\", \"MADRID\", \"MADRID\", \"MADRI…\n",
      "$ CODAUTO                 \u001b[3m\u001b[90m<dbl>\u001b[39m\u001b[23m 13, 13, 13, 13, 13, 13, 13, 13, 13, 13, 13, 13…\n",
      "$ COMUNIDADES             \u001b[3m\u001b[90m<chr>\u001b[39m\u001b[23m \"MADRID\", \"MADRID\", \"MADRID\", \"MADRID\", \"MADRI…\n",
      "$ CODPOSTAL               \u001b[3m\u001b[90m<dbl>\u001b[39m\u001b[23m 28801, 28805, 28922, 28922, 28300, 28500, 2866…\n",
      "$ CODFI                   \u001b[3m\u001b[90m<dbl>\u001b[39m\u001b[23m 16, 1, 12, 1, 1, 1, 1, 1, 13, 6, 6, 1, 10, 1, …\n",
      "$ FINALIDAD_ASISITENCIAL  \u001b[3m\u001b[90m<chr>\u001b[39m\u001b[23m \"OTRA FINALIDAD\", \"GENERAL\", \"MÉDICO-QUIRÚRGIC…\n",
      "$ CODPAT                  \u001b[3m\u001b[90m<dbl>\u001b[39m\u001b[23m 14, 1, 14, 1, 6, 6, 14, 14, 1, 12, 12, 6, 10, …\n",
      "$ DEPENDENCIA_PATRIMONIAL \u001b[3m\u001b[90m<chr>\u001b[39m\u001b[23m \"PRIVADO NO BENÉFICO\", \"SEGURIDAD SOCIAL\", \"PR…\n",
      "$ CODFU                   \u001b[3m\u001b[90m<dbl>\u001b[39m\u001b[23m 23, 34, 23, 34, 34, 34, 23, 23, 34, 21, 21, 34…\n",
      "$ DEPENDENCIA_FUNCIONAL   \u001b[3m\u001b[90m<chr>\u001b[39m\u001b[23m \"PRIVADO NO BENÉFICO\", \"SERVICIO MADRILEÑO DE …\n",
      "$ ACREDOCENT              \u001b[3m\u001b[90m<chr>\u001b[39m\u001b[23m \"S\", \"S\", \"N\", \"S\", \"N\", \"N\", \"S\", \"N\", \"S\", \"…\n",
      "$ ESCOMPLE                \u001b[3m\u001b[90m<chr>\u001b[39m\u001b[23m \"N\", \"N\", \"N\", \"N\", \"N\", \"N\", \"N\", \"N\", \"N\", \"…\n",
      "$ FORCOMPLE               \u001b[3m\u001b[90m<chr>\u001b[39m\u001b[23m \"N\", \"N\", \"N\", \"N\", \"N\", \"N\", \"N\", \"N\", \"N\", \"…\n",
      "$ CERRADO                 \u001b[3m\u001b[90m<chr>\u001b[39m\u001b[23m \"N\", \"N\", \"N\", \"N\", \"N\", \"N\", \"N\", \"N\", \"N\", \"…\n",
      "$ CAPITAL                 \u001b[3m\u001b[90m<chr>\u001b[39m\u001b[23m \"N\", \"N\", \"N\", \"N\", \"N\", \"N\", \"N\", \"N\", \"N\", \"…\n",
      "$ CIERREFECH              \u001b[3m\u001b[90m<lgl>\u001b[39m\u001b[23m NA, NA, NA, NA, NA, NA, NA, NA, NA, NA, NA, NA…\n",
      "$ CONCIERTO               \u001b[3m\u001b[90m<chr>\u001b[39m\u001b[23m \"S\", \"N\", \"S\", \"N\", \"N\", \"N\", \"S\", \"S\", \"N\", \"…\n",
      "$ EMAIL                   \u001b[3m\u001b[90m<chr>\u001b[39m\u001b[23m \"fgcalleja@hmhospitales.com; imarco@hmhospital…\n",
      "$ TAC                     \u001b[3m\u001b[90m<dbl>\u001b[39m\u001b[23m 1, 3, 1, 2, 1, 1, 1, 1, 0, 0, 0, 1, 1, 1, 1, 2…\n",
      "$ RM                      \u001b[3m\u001b[90m<dbl>\u001b[39m\u001b[23m 1, 2, 2, 2, 1, 1, 3, 2, 0, 0, 0, 2, 2, 1, 2, 2…\n",
      "$ GAM                     \u001b[3m\u001b[90m<dbl>\u001b[39m\u001b[23m 1, 1, 0, 1, 0, 0, 0, 0, 0, 0, 0, 0, 0, 0, 1, 0…\n",
      "$ HEM                     \u001b[3m\u001b[90m<dbl>\u001b[39m\u001b[23m 0, 1, 1, 1, 0, 0, 2, 0, 0, 0, 0, 1, 0, 0, 1, 1…\n",
      "$ ASD                     \u001b[3m\u001b[90m<dbl>\u001b[39m\u001b[23m 0, 1, 1, 1, 1, 0, 2, 0, 0, 0, 0, 0, 0, 0, 1, 1…\n",
      "$ LIT                     \u001b[3m\u001b[90m<dbl>\u001b[39m\u001b[23m 0, 0, 0, 1, 0, 0, 1, 0, 0, 0, 0, 0, 0, 0, 0, 0…\n",
      "$ BCO                     \u001b[3m\u001b[90m<dbl>\u001b[39m\u001b[23m 0, 0, 0, 0, 0, 0, 0, 0, 0, 0, 0, 0, 0, 0, 0, 0…\n",
      "$ ALI                     \u001b[3m\u001b[90m<dbl>\u001b[39m\u001b[23m 0, 0, 0, 0, 0, 0, 0, 0, 0, 0, 0, 0, 0, 0, 2, 0…\n",
      "$ SPECT                   \u001b[3m\u001b[90m<dbl>\u001b[39m\u001b[23m 0, 0, 0, 0, 0, 0, 0, 0, 0, 0, 0, 1, 0, 0, 1, 2…\n",
      "$ PET                     \u001b[3m\u001b[90m<dbl>\u001b[39m\u001b[23m 0, 0, 0, 0, 0, 0, 0, 0, 0, 0, 0, 0, 0, 0, 1, 1…\n",
      "$ MAMOS                   \u001b[3m\u001b[90m<dbl>\u001b[39m\u001b[23m 1, 2, 1, 2, 1, 1, 1, 1, 0, 0, 0, 1, 0, 2, 1, 1…\n",
      "$ DO                      \u001b[3m\u001b[90m<dbl>\u001b[39m\u001b[23m 1, 1, 1, 1, 0, 0, 1, 0, 0, 0, 0, 1, 0, 0, 1, 0…\n",
      "$ DIAL                    \u001b[3m\u001b[90m<dbl>\u001b[39m\u001b[23m 0, 28, 0, 28, 13, 18, 1, 0, 0, 0, 0, 18, 0, 25…\n",
      "$ X                       \u001b[3m\u001b[90m<dbl>\u001b[39m\u001b[23m -3.367372, -3.347602, -3.849035, -3.837394, -3…\n",
      "$ Y                       \u001b[3m\u001b[90m<dbl>\u001b[39m\u001b[23m 40.48302, 40.51025, 40.34248, 40.34887, 40.057…\n",
      "$ CalidadGeocodificacion  \u001b[3m\u001b[90m<chr>\u001b[39m\u001b[23m \"PointAddress\", \"Manual\", \"StreetAddress\", \"Ma…\n",
      "$ id_area                 \u001b[3m\u001b[90m<chr>\u001b[39m\u001b[23m \"03\", \"03\", \"08\", \"08\", \"11\", \"01\", \"06\", \"06\"…\n",
      "$ nombre_area             \u001b[3m\u001b[90m<chr>\u001b[39m\u001b[23m \"Este\", \"Este\", \"Sur-Oeste I\", \"Sur-Oeste I\", …\n"
     ]
    }
   ],
   "source": [
    "glimpse(data_12)"
   ]
  },
  {
   "attachments": {},
   "cell_type": "markdown",
   "metadata": {},
   "source": [
    "Muestra de datos:"
   ]
  },
  {
   "cell_type": "code",
   "execution_count": 124,
   "metadata": {
    "vscode": {
     "languageId": "r"
    }
   },
   "outputs": [
    {
     "data": {
      "text/html": [
       "<table class=\"dataframe\">\n",
       "<caption>A spec_tbl_df: 5 × 67</caption>\n",
       "<thead>\n",
       "\t<tr><th scope=col>CCN</th><th scope=col>CODCNH</th><th scope=col>Nombre Centro</th><th scope=col>Dirección</th><th scope=col>Teléfono</th><th scope=col>Cód. Municipio</th><th scope=col>Municipio</th><th scope=col>Cód. Provincia</th><th scope=col>Provincia</th><th scope=col>Cód. CCAA</th><th scope=col>⋯</th><th scope=col>SPECT</th><th scope=col>PET</th><th scope=col>MAMOS</th><th scope=col>DO</th><th scope=col>DIAL</th><th scope=col>X</th><th scope=col>Y</th><th scope=col>CalidadGeocodificacion</th><th scope=col>id_area</th><th scope=col>nombre_area</th></tr>\n",
       "\t<tr><th scope=col>&lt;dbl&gt;</th><th scope=col>&lt;dbl&gt;</th><th scope=col>&lt;chr&gt;</th><th scope=col>&lt;chr&gt;</th><th scope=col>&lt;chr&gt;</th><th scope=col>&lt;dbl&gt;</th><th scope=col>&lt;chr&gt;</th><th scope=col>&lt;dbl&gt;</th><th scope=col>&lt;chr&gt;</th><th scope=col>&lt;dbl&gt;</th><th scope=col>⋯</th><th scope=col>&lt;dbl&gt;</th><th scope=col>&lt;dbl&gt;</th><th scope=col>&lt;dbl&gt;</th><th scope=col>&lt;dbl&gt;</th><th scope=col>&lt;dbl&gt;</th><th scope=col>&lt;dbl&gt;</th><th scope=col>&lt;dbl&gt;</th><th scope=col>&lt;chr&gt;</th><th scope=col>&lt;chr&gt;</th><th scope=col>&lt;chr&gt;</th></tr>\n",
       "</thead>\n",
       "<tbody>\n",
       "\t<tr><td>1328020932</td><td>281371</td><td>HOSPITAL HM VALLES                         </td><td>CALLE SANTIAGO 14           </td><td>918883262</td><td>280053</td><td>Alcalá de Henares</td><td>28</td><td>MADRID</td><td>13</td><td>⋯</td><td>0</td><td>0</td><td>1</td><td>1</td><td> 0</td><td>-3.367372</td><td>40.48302</td><td>PointAddress </td><td>03</td><td>Este       </td></tr>\n",
       "\t<tr><td>1328000034</td><td>280745</td><td>HOSPITAL UNIVERSITARIO PRINCIPE DE ASTURIAS</td><td>CARRETERA DE MECO S/N       </td><td>918878100</td><td>280053</td><td>Alcalá de Henares</td><td>28</td><td>MADRID</td><td>13</td><td>⋯</td><td>0</td><td>0</td><td>2</td><td>1</td><td>28</td><td>-3.347602</td><td>40.51025</td><td>Manual       </td><td>03</td><td>Este       </td></tr>\n",
       "\t<tr><td>1328000070</td><td>281124</td><td>HOSPITAL QUIRONSALUD SUR                   </td><td>CALLE DE ESTAMBUL 30        </td><td>917810682</td><td>280072</td><td>Alcorcón         </td><td>28</td><td>MADRID</td><td>13</td><td>⋯</td><td>0</td><td>0</td><td>1</td><td>1</td><td> 0</td><td>-3.849035</td><td>40.34248</td><td>StreetAddress</td><td>08</td><td>Sur-Oeste I</td></tr>\n",
       "\t<tr><td>1328000066</td><td>281071</td><td>HOSPITAL UNIVERSITARIO FUNDACION ALCORCON  </td><td>CALLE BUDAPEST 1            </td><td>916219400</td><td>280072</td><td>Alcorcón         </td><td>28</td><td>MADRID</td><td>13</td><td>⋯</td><td>0</td><td>0</td><td>2</td><td>1</td><td>28</td><td>-3.837394</td><td>40.34887</td><td>Manual       </td><td>08</td><td>Sur-Oeste I</td></tr>\n",
       "\t<tr><td>1328000084</td><td>281292</td><td>HOSPITAL DEL TAJO S.A.                     </td><td>AVENIDA AMAZONAS CENTRAL S/N</td><td>918014100</td><td>280133</td><td>Aranjuez         </td><td>28</td><td>MADRID</td><td>13</td><td>⋯</td><td>0</td><td>0</td><td>1</td><td>0</td><td>13</td><td>-3.610795</td><td>40.05726</td><td>Manual       </td><td>11</td><td>Sur Ii     </td></tr>\n",
       "</tbody>\n",
       "</table>\n"
      ],
      "text/latex": [
       "A spec\\_tbl\\_df: 5 × 67\n",
       "\\begin{tabular}{lllllllllllllllllllll}\n",
       " CCN & CODCNH & Nombre Centro & Dirección & Teléfono & Cód. Municipio & Municipio & Cód. Provincia & Provincia & Cód. CCAA & ⋯ & SPECT & PET & MAMOS & DO & DIAL & X & Y & CalidadGeocodificacion & id\\_area & nombre\\_area\\\\\n",
       " <dbl> & <dbl> & <chr> & <chr> & <chr> & <dbl> & <chr> & <dbl> & <chr> & <dbl> & ⋯ & <dbl> & <dbl> & <dbl> & <dbl> & <dbl> & <dbl> & <dbl> & <chr> & <chr> & <chr>\\\\\n",
       "\\hline\n",
       "\t 1328020932 & 281371 & HOSPITAL HM VALLES                          & CALLE SANTIAGO 14            & 918883262 & 280053 & Alcalá de Henares & 28 & MADRID & 13 & ⋯ & 0 & 0 & 1 & 1 &  0 & -3.367372 & 40.48302 & PointAddress  & 03 & Este       \\\\\n",
       "\t 1328000034 & 280745 & HOSPITAL UNIVERSITARIO PRINCIPE DE ASTURIAS & CARRETERA DE MECO S/N        & 918878100 & 280053 & Alcalá de Henares & 28 & MADRID & 13 & ⋯ & 0 & 0 & 2 & 1 & 28 & -3.347602 & 40.51025 & Manual        & 03 & Este       \\\\\n",
       "\t 1328000070 & 281124 & HOSPITAL QUIRONSALUD SUR                    & CALLE DE ESTAMBUL 30         & 917810682 & 280072 & Alcorcón          & 28 & MADRID & 13 & ⋯ & 0 & 0 & 1 & 1 &  0 & -3.849035 & 40.34248 & StreetAddress & 08 & Sur-Oeste I\\\\\n",
       "\t 1328000066 & 281071 & HOSPITAL UNIVERSITARIO FUNDACION ALCORCON   & CALLE BUDAPEST 1             & 916219400 & 280072 & Alcorcón          & 28 & MADRID & 13 & ⋯ & 0 & 0 & 2 & 1 & 28 & -3.837394 & 40.34887 & Manual        & 08 & Sur-Oeste I\\\\\n",
       "\t 1328000084 & 281292 & HOSPITAL DEL TAJO S.A.                      & AVENIDA AMAZONAS CENTRAL S/N & 918014100 & 280133 & Aranjuez          & 28 & MADRID & 13 & ⋯ & 0 & 0 & 1 & 0 & 13 & -3.610795 & 40.05726 & Manual        & 11 & Sur Ii     \\\\\n",
       "\\end{tabular}\n"
      ],
      "text/markdown": [
       "\n",
       "A spec_tbl_df: 5 × 67\n",
       "\n",
       "| CCN &lt;dbl&gt; | CODCNH &lt;dbl&gt; | Nombre Centro &lt;chr&gt; | Dirección &lt;chr&gt; | Teléfono &lt;chr&gt; | Cód. Municipio &lt;dbl&gt; | Municipio &lt;chr&gt; | Cód. Provincia &lt;dbl&gt; | Provincia &lt;chr&gt; | Cód. CCAA &lt;dbl&gt; | ⋯ ⋯ | SPECT &lt;dbl&gt; | PET &lt;dbl&gt; | MAMOS &lt;dbl&gt; | DO &lt;dbl&gt; | DIAL &lt;dbl&gt; | X &lt;dbl&gt; | Y &lt;dbl&gt; | CalidadGeocodificacion &lt;chr&gt; | id_area &lt;chr&gt; | nombre_area &lt;chr&gt; |\n",
       "|---|---|---|---|---|---|---|---|---|---|---|---|---|---|---|---|---|---|---|---|---|\n",
       "| 1328020932 | 281371 | HOSPITAL HM VALLES                          | CALLE SANTIAGO 14            | 918883262 | 280053 | Alcalá de Henares | 28 | MADRID | 13 | ⋯ | 0 | 0 | 1 | 1 |  0 | -3.367372 | 40.48302 | PointAddress  | 03 | Este        |\n",
       "| 1328000034 | 280745 | HOSPITAL UNIVERSITARIO PRINCIPE DE ASTURIAS | CARRETERA DE MECO S/N        | 918878100 | 280053 | Alcalá de Henares | 28 | MADRID | 13 | ⋯ | 0 | 0 | 2 | 1 | 28 | -3.347602 | 40.51025 | Manual        | 03 | Este        |\n",
       "| 1328000070 | 281124 | HOSPITAL QUIRONSALUD SUR                    | CALLE DE ESTAMBUL 30         | 917810682 | 280072 | Alcorcón          | 28 | MADRID | 13 | ⋯ | 0 | 0 | 1 | 1 |  0 | -3.849035 | 40.34248 | StreetAddress | 08 | Sur-Oeste I |\n",
       "| 1328000066 | 281071 | HOSPITAL UNIVERSITARIO FUNDACION ALCORCON   | CALLE BUDAPEST 1             | 916219400 | 280072 | Alcorcón          | 28 | MADRID | 13 | ⋯ | 0 | 0 | 2 | 1 | 28 | -3.837394 | 40.34887 | Manual        | 08 | Sur-Oeste I |\n",
       "| 1328000084 | 281292 | HOSPITAL DEL TAJO S.A.                      | AVENIDA AMAZONAS CENTRAL S/N | 918014100 | 280133 | Aranjuez          | 28 | MADRID | 13 | ⋯ | 0 | 0 | 1 | 0 | 13 | -3.610795 | 40.05726 | Manual        | 11 | Sur Ii      |\n",
       "\n"
      ],
      "text/plain": [
       "  CCN        CODCNH Nombre Centro                              \n",
       "1 1328020932 281371 HOSPITAL HM VALLES                         \n",
       "2 1328000034 280745 HOSPITAL UNIVERSITARIO PRINCIPE DE ASTURIAS\n",
       "3 1328000070 281124 HOSPITAL QUIRONSALUD SUR                   \n",
       "4 1328000066 281071 HOSPITAL UNIVERSITARIO FUNDACION ALCORCON  \n",
       "5 1328000084 281292 HOSPITAL DEL TAJO S.A.                     \n",
       "  Dirección                    Teléfono  Cód. Municipio Municipio        \n",
       "1 CALLE SANTIAGO 14            918883262 280053         Alcalá de Henares\n",
       "2 CARRETERA DE MECO S/N        918878100 280053         Alcalá de Henares\n",
       "3 CALLE DE ESTAMBUL 30         917810682 280072         Alcorcón         \n",
       "4 CALLE BUDAPEST 1             916219400 280072         Alcorcón         \n",
       "5 AVENIDA AMAZONAS CENTRAL S/N 918014100 280133         Aranjuez         \n",
       "  Cód. Provincia Provincia Cód. CCAA ⋯ SPECT PET MAMOS DO DIAL X        \n",
       "1 28             MADRID    13        ⋯ 0     0   1     1   0   -3.367372\n",
       "2 28             MADRID    13        ⋯ 0     0   2     1  28   -3.347602\n",
       "3 28             MADRID    13        ⋯ 0     0   1     1   0   -3.849035\n",
       "4 28             MADRID    13        ⋯ 0     0   2     1  28   -3.837394\n",
       "5 28             MADRID    13        ⋯ 0     0   1     0  13   -3.610795\n",
       "  Y        CalidadGeocodificacion id_area nombre_area\n",
       "1 40.48302 PointAddress           03      Este       \n",
       "2 40.51025 Manual                 03      Este       \n",
       "3 40.34248 StreetAddress          08      Sur-Oeste I\n",
       "4 40.34887 Manual                 08      Sur-Oeste I\n",
       "5 40.05726 Manual                 11      Sur Ii     "
      ]
     },
     "metadata": {},
     "output_type": "display_data"
    }
   ],
   "source": [
    "data_12 |> slice_head(n = 5)"
   ]
  },
  {
   "cell_type": "markdown",
   "metadata": {
    "slideshow": {
     "slide_type": "slide"
    }
   },
   "source": [
    "## ETL Processes"
   ]
  },
  {
   "attachments": {},
   "cell_type": "markdown",
   "metadata": {
    "slideshow": {
     "slide_type": "slide"
    }
   },
   "source": [
    "### Import data from: CSV, Excel, Tab, JSON, SQL, and Parquet files\n",
    "\n",
    "Se han importado en el apartado Data Load anterior:\n",
    "\n",
    "* Localizaciones de POIS publicados en el portal de la Comunidad de Madrid\n",
    "* Localización de hospitales del catálogo nacional de hospitales"
   ]
  },
  {
   "attachments": {},
   "cell_type": "markdown",
   "metadata": {},
   "source": [
    "Incluir apartados si procede para: Extracción de datos (select, filter), Transformación de datos, (mutate, joins, ...). Si es necesario tratar datos perdidos, indicarlo también en NB 09.2"
   ]
  },
  {
   "attachments": {},
   "cell_type": "markdown",
   "metadata": {},
   "source": [
    "### Data transformation\n",
    "\n",
    "Para cada data frame de infraestructuras se realizan las siguientes transformaciones:\n",
    "\n",
    "* Transformar sistema de referencia CRS a 4326 (WGS 84)\n",
    "* Añadir las coordenadas como columnas normales\n",
    "* Establecer variables `grupo` y `tipo`\n",
    "* Si hay información adicional en el archivo, añadirla a columna `info`\n",
    "* Asignar a la columna `nombre` la columna más adecuada según lo importado\n",
    "* Seleccionar columnas que se usarán en todos los data frames a unir\n",
    "* Eliminar la columna de geometría para que se pueda exportar a csv\n",
    "\n",
    "Para los hospitales igual pero sin añadir coordenadas que ya las tenía ni eliminar la geometría porque no es objeto sf.\n",
    "\n",
    "Finalmente se unen todos los data.frames en uno\n"
   ]
  },
  {
   "cell_type": "code",
   "execution_count": 84,
   "metadata": {
    "vscode": {
     "languageId": "r"
    }
   },
   "outputs": [],
   "source": [
    "tdata_01 <- data_01 |>\n",
    "  bind_cols(st_coordinates(data_01 |> st_transform(4326))) |> \n",
    "  mutate(grupo = \"Transporte\",\n",
    "         tipo = \"Intercambiadores\",\n",
    "         info = \"\") |> \n",
    "  select(grupo,\n",
    "         tipo, \n",
    "         nombre = ETIQUETA, \n",
    "         CODMUN = CMUN, \n",
    "         DIRECCION, \n",
    "         X, Y,\n",
    "         info) |> \n",
    "  st_drop_geometry()\n"
   ]
  },
  {
   "cell_type": "code",
   "execution_count": 85,
   "metadata": {
    "vscode": {
     "languageId": "r"
    }
   },
   "outputs": [
    {
     "data": {
      "text/html": [
       "<table class=\"dataframe\">\n",
       "<caption>A data.frame: 5 × 8</caption>\n",
       "<thead>\n",
       "\t<tr><th scope=col>grupo</th><th scope=col>tipo</th><th scope=col>nombre</th><th scope=col>CODMUN</th><th scope=col>DIRECCION</th><th scope=col>X</th><th scope=col>Y</th><th scope=col>info</th></tr>\n",
       "\t<tr><th scope=col>&lt;chr&gt;</th><th scope=col>&lt;chr&gt;</th><th scope=col>&lt;chr&gt;</th><th scope=col>&lt;chr&gt;</th><th scope=col>&lt;chr&gt;</th><th scope=col>&lt;dbl&gt;</th><th scope=col>&lt;dbl&gt;</th><th scope=col>&lt;chr&gt;</th></tr>\n",
       "</thead>\n",
       "<tbody>\n",
       "\t<tr><td>Transporte</td><td>Intercambiadores</td><td>Grandes Intercambiadores Plaza Elíptica    </td><td>079</td><td>Plaza Elíptica s/n                      </td><td>-3.716577</td><td>40.38540</td><td></td></tr>\n",
       "\t<tr><td>Transporte</td><td>Intercambiadores</td><td>Grandes Intercambiadores Moncloa           </td><td>079</td><td>Calle Princesa, 89                      </td><td>-3.719508</td><td>40.43474</td><td></td></tr>\n",
       "\t<tr><td>Transporte</td><td>Intercambiadores</td><td>Grandes Intercambiadores Príncipe Pío      </td><td>079</td><td>Estación Príncipe Pío                   </td><td>-3.719560</td><td>40.42080</td><td></td></tr>\n",
       "\t<tr><td>Transporte</td><td>Intercambiadores</td><td>Grandes Intercambiadores Plaza de Castilla </td><td>079</td><td>Calle San Aquilino y Avenida de Asturias</td><td>-3.689044</td><td>40.46719</td><td></td></tr>\n",
       "\t<tr><td>Transporte</td><td>Intercambiadores</td><td>Grandes Intercambiadores Avenida de América</td><td>079</td><td>Avenida de América 9 A                  </td><td>-3.676731</td><td>40.43797</td><td></td></tr>\n",
       "</tbody>\n",
       "</table>\n"
      ],
      "text/latex": [
       "A data.frame: 5 × 8\n",
       "\\begin{tabular}{llllllll}\n",
       " grupo & tipo & nombre & CODMUN & DIRECCION & X & Y & info\\\\\n",
       " <chr> & <chr> & <chr> & <chr> & <chr> & <dbl> & <dbl> & <chr>\\\\\n",
       "\\hline\n",
       "\t Transporte & Intercambiadores & Grandes Intercambiadores Plaza Elíptica     & 079 & Plaza Elíptica s/n                       & -3.716577 & 40.38540 & \\\\\n",
       "\t Transporte & Intercambiadores & Grandes Intercambiadores Moncloa            & 079 & Calle Princesa, 89                       & -3.719508 & 40.43474 & \\\\\n",
       "\t Transporte & Intercambiadores & Grandes Intercambiadores Príncipe Pío       & 079 & Estación Príncipe Pío                    & -3.719560 & 40.42080 & \\\\\n",
       "\t Transporte & Intercambiadores & Grandes Intercambiadores Plaza de Castilla  & 079 & Calle San Aquilino y Avenida de Asturias & -3.689044 & 40.46719 & \\\\\n",
       "\t Transporte & Intercambiadores & Grandes Intercambiadores Avenida de América & 079 & Avenida de América 9 A                   & -3.676731 & 40.43797 & \\\\\n",
       "\\end{tabular}\n"
      ],
      "text/markdown": [
       "\n",
       "A data.frame: 5 × 8\n",
       "\n",
       "| grupo &lt;chr&gt; | tipo &lt;chr&gt; | nombre &lt;chr&gt; | CODMUN &lt;chr&gt; | DIRECCION &lt;chr&gt; | X &lt;dbl&gt; | Y &lt;dbl&gt; | info &lt;chr&gt; |\n",
       "|---|---|---|---|---|---|---|---|\n",
       "| Transporte | Intercambiadores | Grandes Intercambiadores Plaza Elíptica     | 079 | Plaza Elíptica s/n                       | -3.716577 | 40.38540 | <!----> |\n",
       "| Transporte | Intercambiadores | Grandes Intercambiadores Moncloa            | 079 | Calle Princesa, 89                       | -3.719508 | 40.43474 | <!----> |\n",
       "| Transporte | Intercambiadores | Grandes Intercambiadores Príncipe Pío       | 079 | Estación Príncipe Pío                    | -3.719560 | 40.42080 | <!----> |\n",
       "| Transporte | Intercambiadores | Grandes Intercambiadores Plaza de Castilla  | 079 | Calle San Aquilino y Avenida de Asturias | -3.689044 | 40.46719 | <!----> |\n",
       "| Transporte | Intercambiadores | Grandes Intercambiadores Avenida de América | 079 | Avenida de América 9 A                   | -3.676731 | 40.43797 | <!----> |\n",
       "\n"
      ],
      "text/plain": [
       "  grupo      tipo             nombre                                     \n",
       "1 Transporte Intercambiadores Grandes Intercambiadores Plaza Elíptica    \n",
       "2 Transporte Intercambiadores Grandes Intercambiadores Moncloa           \n",
       "3 Transporte Intercambiadores Grandes Intercambiadores Príncipe Pío      \n",
       "4 Transporte Intercambiadores Grandes Intercambiadores Plaza de Castilla \n",
       "5 Transporte Intercambiadores Grandes Intercambiadores Avenida de América\n",
       "  CODMUN DIRECCION                                X         Y        info\n",
       "1 079    Plaza Elíptica s/n                       -3.716577 40.38540     \n",
       "2 079    Calle Princesa, 89                       -3.719508 40.43474     \n",
       "3 079    Estación Príncipe Pío                    -3.719560 40.42080     \n",
       "4 079    Calle San Aquilino y Avenida de Asturias -3.689044 40.46719     \n",
       "5 079    Avenida de América 9 A                   -3.676731 40.43797     "
      ]
     },
     "metadata": {},
     "output_type": "display_data"
    }
   ],
   "source": [
    "tdata_01 |> slice_head(n = 5)"
   ]
  },
  {
   "attachments": {},
   "cell_type": "markdown",
   "metadata": {},
   "source": []
  },
  {
   "cell_type": "code",
   "execution_count": 88,
   "metadata": {
    "vscode": {
     "languageId": "r"
    }
   },
   "outputs": [],
   "source": [
    "tdata_02 <- data_02 |>\n",
    "  bind_cols(st_coordinates(data_02 |> st_transform(4326))) |> \n",
    "    mutate(grupo = \"Transporte\",\n",
    "         tipo = \"Bocas de metro\",\n",
    "         ESTACION = paste(ESTACION, SALIDA, sep = \" - \"),\n",
    "         info = paste0(\"Líneas: \", LINEAS )) |> \n",
    "  select(grupo,\n",
    "         tipo, \n",
    "         nombre = ESTACION, \n",
    "         CODMUN = COD_MUNI, \n",
    "         DIRECCION, \n",
    "         X, Y,\n",
    "         info) |> \n",
    "  st_drop_geometry()\n"
   ]
  },
  {
   "cell_type": "code",
   "execution_count": 89,
   "metadata": {
    "vscode": {
     "languageId": "r"
    }
   },
   "outputs": [
    {
     "data": {
      "text/html": [
       "<table class=\"dataframe\">\n",
       "<caption>A data.frame: 5 × 8</caption>\n",
       "<thead>\n",
       "\t<tr><th scope=col>grupo</th><th scope=col>tipo</th><th scope=col>nombre</th><th scope=col>CODMUN</th><th scope=col>DIRECCION</th><th scope=col>X</th><th scope=col>Y</th><th scope=col>info</th></tr>\n",
       "\t<tr><th scope=col>&lt;chr&gt;</th><th scope=col>&lt;chr&gt;</th><th scope=col>&lt;chr&gt;</th><th scope=col>&lt;chr&gt;</th><th scope=col>&lt;chr&gt;</th><th scope=col>&lt;dbl&gt;</th><th scope=col>&lt;dbl&gt;</th><th scope=col>&lt;chr&gt;</th></tr>\n",
       "</thead>\n",
       "<tbody>\n",
       "\t<tr><td>Transporte</td><td>Bocas de metro</td><td>Plaza de Castilla - Castellana            </td><td>079</td><td>Frente depósito C. Isabel II           </td><td>-3.688866</td><td>40.46549</td><td>Líneas: 1, 10, 9</td></tr>\n",
       "\t<tr><td>Transporte</td><td>Bocas de metro</td><td>Plaza de Castilla - Plaza de Castilla     </td><td>079</td><td>Paseo de la Castellana, bulevar central</td><td>-3.689186</td><td>40.46684</td><td>Líneas: 1, 10, 9</td></tr>\n",
       "\t<tr><td>Transporte</td><td>Bocas de metro</td><td>Plaza de Castilla - Pº Castellana, impares</td><td>079</td><td>Paseo Castellana, 189 (junto a torres) </td><td>-3.689532</td><td>40.46718</td><td>Líneas: 1, 10, 9</td></tr>\n",
       "\t<tr><td>Transporte</td><td>Bocas de metro</td><td>Valdeacederas - Capitán Blanco Argibay    </td><td>079</td><td>Calle Bravo Murillo, 324               </td><td>-3.695787</td><td>40.46409</td><td>Líneas: 1       </td></tr>\n",
       "\t<tr><td>Transporte</td><td>Bocas de metro</td><td>Valdeacederas - Aníbal                    </td><td>079</td><td>Calle Bravo Murillo, 350               </td><td>-3.694037</td><td>40.46478</td><td>Líneas: 1       </td></tr>\n",
       "</tbody>\n",
       "</table>\n"
      ],
      "text/latex": [
       "A data.frame: 5 × 8\n",
       "\\begin{tabular}{llllllll}\n",
       " grupo & tipo & nombre & CODMUN & DIRECCION & X & Y & info\\\\\n",
       " <chr> & <chr> & <chr> & <chr> & <chr> & <dbl> & <dbl> & <chr>\\\\\n",
       "\\hline\n",
       "\t Transporte & Bocas de metro & Plaza de Castilla - Castellana             & 079 & Frente depósito C. Isabel II            & -3.688866 & 40.46549 & Líneas: 1, 10, 9\\\\\n",
       "\t Transporte & Bocas de metro & Plaza de Castilla - Plaza de Castilla      & 079 & Paseo de la Castellana, bulevar central & -3.689186 & 40.46684 & Líneas: 1, 10, 9\\\\\n",
       "\t Transporte & Bocas de metro & Plaza de Castilla - Pº Castellana, impares & 079 & Paseo Castellana, 189 (junto a torres)  & -3.689532 & 40.46718 & Líneas: 1, 10, 9\\\\\n",
       "\t Transporte & Bocas de metro & Valdeacederas - Capitán Blanco Argibay     & 079 & Calle Bravo Murillo, 324                & -3.695787 & 40.46409 & Líneas: 1       \\\\\n",
       "\t Transporte & Bocas de metro & Valdeacederas - Aníbal                     & 079 & Calle Bravo Murillo, 350                & -3.694037 & 40.46478 & Líneas: 1       \\\\\n",
       "\\end{tabular}\n"
      ],
      "text/markdown": [
       "\n",
       "A data.frame: 5 × 8\n",
       "\n",
       "| grupo &lt;chr&gt; | tipo &lt;chr&gt; | nombre &lt;chr&gt; | CODMUN &lt;chr&gt; | DIRECCION &lt;chr&gt; | X &lt;dbl&gt; | Y &lt;dbl&gt; | info &lt;chr&gt; |\n",
       "|---|---|---|---|---|---|---|---|\n",
       "| Transporte | Bocas de metro | Plaza de Castilla - Castellana             | 079 | Frente depósito C. Isabel II            | -3.688866 | 40.46549 | Líneas: 1, 10, 9 |\n",
       "| Transporte | Bocas de metro | Plaza de Castilla - Plaza de Castilla      | 079 | Paseo de la Castellana, bulevar central | -3.689186 | 40.46684 | Líneas: 1, 10, 9 |\n",
       "| Transporte | Bocas de metro | Plaza de Castilla - Pº Castellana, impares | 079 | Paseo Castellana, 189 (junto a torres)  | -3.689532 | 40.46718 | Líneas: 1, 10, 9 |\n",
       "| Transporte | Bocas de metro | Valdeacederas - Capitán Blanco Argibay     | 079 | Calle Bravo Murillo, 324                | -3.695787 | 40.46409 | Líneas: 1        |\n",
       "| Transporte | Bocas de metro | Valdeacederas - Aníbal                     | 079 | Calle Bravo Murillo, 350                | -3.694037 | 40.46478 | Líneas: 1        |\n",
       "\n"
      ],
      "text/plain": [
       "  grupo      tipo           nombre                                     CODMUN\n",
       "1 Transporte Bocas de metro Plaza de Castilla - Castellana             079   \n",
       "2 Transporte Bocas de metro Plaza de Castilla - Plaza de Castilla      079   \n",
       "3 Transporte Bocas de metro Plaza de Castilla - Pº Castellana, impares 079   \n",
       "4 Transporte Bocas de metro Valdeacederas - Capitán Blanco Argibay     079   \n",
       "5 Transporte Bocas de metro Valdeacederas - Aníbal                     079   \n",
       "  DIRECCION                               X         Y        info            \n",
       "1 Frente depósito C. Isabel II            -3.688866 40.46549 Líneas: 1, 10, 9\n",
       "2 Paseo de la Castellana, bulevar central -3.689186 40.46684 Líneas: 1, 10, 9\n",
       "3 Paseo Castellana, 189 (junto a torres)  -3.689532 40.46718 Líneas: 1, 10, 9\n",
       "4 Calle Bravo Murillo, 324                -3.695787 40.46409 Líneas: 1       \n",
       "5 Calle Bravo Murillo, 350                -3.694037 40.46478 Líneas: 1       "
      ]
     },
     "metadata": {},
     "output_type": "display_data"
    }
   ],
   "source": [
    "tdata_02 |> slice_head(n = 5)"
   ]
  },
  {
   "cell_type": "code",
   "execution_count": 91,
   "metadata": {
    "vscode": {
     "languageId": "r"
    }
   },
   "outputs": [],
   "source": [
    "tdata_03 <- data_03 |>\n",
    "  bind_cols(st_coordinates(data_03 |> st_transform(4326))) |> \n",
    "  mutate(grupo = \"Transporte\",\n",
    "         tipo = \"Aeropuertos\",\n",
    "         info = \"\") |> \n",
    "  select(grupo,\n",
    "         tipo, \n",
    "         nombre = BUSCA, \n",
    "         CODMUN = CMUN, \n",
    "         DIRECCION = DIRECCIÓN, \n",
    "         X, Y,\n",
    "         info) |>   st_drop_geometry()\n"
   ]
  },
  {
   "cell_type": "code",
   "execution_count": 92,
   "metadata": {
    "vscode": {
     "languageId": "r"
    }
   },
   "outputs": [
    {
     "data": {
      "text/html": [
       "<table class=\"dataframe\">\n",
       "<caption>A data.frame: 3 × 8</caption>\n",
       "<thead>\n",
       "\t<tr><th scope=col>grupo</th><th scope=col>tipo</th><th scope=col>nombre</th><th scope=col>CODMUN</th><th scope=col>DIRECCION</th><th scope=col>X</th><th scope=col>Y</th><th scope=col>info</th></tr>\n",
       "\t<tr><th scope=col>&lt;chr&gt;</th><th scope=col>&lt;chr&gt;</th><th scope=col>&lt;chr&gt;</th><th scope=col>&lt;chr&gt;</th><th scope=col>&lt;chr&gt;</th><th scope=col>&lt;dbl&gt;</th><th scope=col>&lt;dbl&gt;</th><th scope=col>&lt;chr&gt;</th></tr>\n",
       "</thead>\n",
       "<tbody>\n",
       "\t<tr><td>Transporte</td><td>Aeropuertos</td><td>Aeropuerto Adolfo Suárez-Madrid Barajas</td><td>079</td><td>Avda. Hispanidad, s/n          </td><td>-3.571989</td><td>40.46012</td><td></td></tr>\n",
       "\t<tr><td>Transporte</td><td>Aeropuertos</td><td>Aeropuerto Madrid-Cuatro Vientos       </td><td>065</td><td>Ctra. Barrio de la Fortuna, s/n</td><td>-3.774744</td><td>40.37036</td><td></td></tr>\n",
       "\t<tr><td>Transporte</td><td>Aeropuertos</td><td>Aeropuerto Madrid-Torrejón de Ardoz    </td><td>148</td><td>Ctra. de la Base, s/n          </td><td>-3.446897</td><td>40.47660</td><td></td></tr>\n",
       "</tbody>\n",
       "</table>\n"
      ],
      "text/latex": [
       "A data.frame: 3 × 8\n",
       "\\begin{tabular}{llllllll}\n",
       " grupo & tipo & nombre & CODMUN & DIRECCION & X & Y & info\\\\\n",
       " <chr> & <chr> & <chr> & <chr> & <chr> & <dbl> & <dbl> & <chr>\\\\\n",
       "\\hline\n",
       "\t Transporte & Aeropuertos & Aeropuerto Adolfo Suárez-Madrid Barajas & 079 & Avda. Hispanidad, s/n           & -3.571989 & 40.46012 & \\\\\n",
       "\t Transporte & Aeropuertos & Aeropuerto Madrid-Cuatro Vientos        & 065 & Ctra. Barrio de la Fortuna, s/n & -3.774744 & 40.37036 & \\\\\n",
       "\t Transporte & Aeropuertos & Aeropuerto Madrid-Torrejón de Ardoz     & 148 & Ctra. de la Base, s/n           & -3.446897 & 40.47660 & \\\\\n",
       "\\end{tabular}\n"
      ],
      "text/markdown": [
       "\n",
       "A data.frame: 3 × 8\n",
       "\n",
       "| grupo &lt;chr&gt; | tipo &lt;chr&gt; | nombre &lt;chr&gt; | CODMUN &lt;chr&gt; | DIRECCION &lt;chr&gt; | X &lt;dbl&gt; | Y &lt;dbl&gt; | info &lt;chr&gt; |\n",
       "|---|---|---|---|---|---|---|---|\n",
       "| Transporte | Aeropuertos | Aeropuerto Adolfo Suárez-Madrid Barajas | 079 | Avda. Hispanidad, s/n           | -3.571989 | 40.46012 | <!----> |\n",
       "| Transporte | Aeropuertos | Aeropuerto Madrid-Cuatro Vientos        | 065 | Ctra. Barrio de la Fortuna, s/n | -3.774744 | 40.37036 | <!----> |\n",
       "| Transporte | Aeropuertos | Aeropuerto Madrid-Torrejón de Ardoz     | 148 | Ctra. de la Base, s/n           | -3.446897 | 40.47660 | <!----> |\n",
       "\n"
      ],
      "text/plain": [
       "  grupo      tipo        nombre                                  CODMUN\n",
       "1 Transporte Aeropuertos Aeropuerto Adolfo Suárez-Madrid Barajas 079   \n",
       "2 Transporte Aeropuertos Aeropuerto Madrid-Cuatro Vientos        065   \n",
       "3 Transporte Aeropuertos Aeropuerto Madrid-Torrejón de Ardoz     148   \n",
       "  DIRECCION                       X         Y        info\n",
       "1 Avda. Hispanidad, s/n           -3.571989 40.46012     \n",
       "2 Ctra. Barrio de la Fortuna, s/n -3.774744 40.37036     \n",
       "3 Ctra. de la Base, s/n           -3.446897 40.47660     "
      ]
     },
     "metadata": {},
     "output_type": "display_data"
    }
   ],
   "source": [
    "tdata_03 |> slice_head(n = 5)"
   ]
  },
  {
   "cell_type": "code",
   "execution_count": 98,
   "metadata": {
    "vscode": {
     "languageId": "r"
    }
   },
   "outputs": [],
   "source": [
    "tdata_04 <- data_04 |>\n",
    "  bind_cols(st_coordinates(data_04 |> st_transform(4326))) |> \n",
    "  mutate(grupo = \"Transporte\",\n",
    "         tipo = \"Estaciones de Cercanías\",\n",
    "         DIRECCION = CMUN,\n",
    "         info = paste0(\"Líneas: \", LINEA)) |> \n",
    "  select(grupo,\n",
    "         tipo, \n",
    "         nombre = ETIQUETA, \n",
    "         CODMUN = CMUN, \n",
    "         DIRECCION, \n",
    "         X, Y,\n",
    "         info) |> \n",
    "  st_drop_geometry()\n"
   ]
  },
  {
   "cell_type": "code",
   "execution_count": 99,
   "metadata": {
    "vscode": {
     "languageId": "r"
    }
   },
   "outputs": [
    {
     "data": {
      "text/html": [
       "<table class=\"dataframe\">\n",
       "<caption>A data.frame: 5 × 8</caption>\n",
       "<thead>\n",
       "\t<tr><th scope=col>grupo</th><th scope=col>tipo</th><th scope=col>nombre</th><th scope=col>CODMUN</th><th scope=col>DIRECCION</th><th scope=col>X</th><th scope=col>Y</th><th scope=col>info</th></tr>\n",
       "\t<tr><th scope=col>&lt;chr&gt;</th><th scope=col>&lt;chr&gt;</th><th scope=col>&lt;chr&gt;</th><th scope=col>&lt;chr&gt;</th><th scope=col>&lt;chr&gt;</th><th scope=col>&lt;dbl&gt;</th><th scope=col>&lt;dbl&gt;</th><th scope=col>&lt;chr&gt;</th></tr>\n",
       "</thead>\n",
       "<tbody>\n",
       "\t<tr><td>Transporte</td><td>Estaciones de Cercanías</td><td>Alcalá de Henares      </td><td>005</td><td>005</td><td>-3.365905</td><td>40.48908</td><td>Líneas: C-2, C-7, C-8</td></tr>\n",
       "\t<tr><td>Transporte</td><td>Estaciones de Cercanías</td><td>Torrejón de Ardoz      </td><td>148</td><td>148</td><td>-3.479804</td><td>40.45474</td><td>Líneas: C-2, C-7, C-8</td></tr>\n",
       "\t<tr><td>Transporte</td><td>Estaciones de Cercanías</td><td>San Fernando de Henares</td><td>049</td><td>049</td><td>-3.533951</td><td>40.44263</td><td>Líneas: C-2, C-7, C-8</td></tr>\n",
       "\t<tr><td>Transporte</td><td>Estaciones de Cercanías</td><td>Coslada                </td><td>049</td><td>049</td><td>-3.561040</td><td>40.42377</td><td>Líneas: C-2, C-7, C-8</td></tr>\n",
       "\t<tr><td>Transporte</td><td>Estaciones de Cercanías</td><td>Vicálvaro              </td><td>079</td><td>079</td><td>-3.595947</td><td>40.40125</td><td>Líneas: C-2, C-7, C-8</td></tr>\n",
       "</tbody>\n",
       "</table>\n"
      ],
      "text/latex": [
       "A data.frame: 5 × 8\n",
       "\\begin{tabular}{llllllll}\n",
       " grupo & tipo & nombre & CODMUN & DIRECCION & X & Y & info\\\\\n",
       " <chr> & <chr> & <chr> & <chr> & <chr> & <dbl> & <dbl> & <chr>\\\\\n",
       "\\hline\n",
       "\t Transporte & Estaciones de Cercanías & Alcalá de Henares       & 005 & 005 & -3.365905 & 40.48908 & Líneas: C-2, C-7, C-8\\\\\n",
       "\t Transporte & Estaciones de Cercanías & Torrejón de Ardoz       & 148 & 148 & -3.479804 & 40.45474 & Líneas: C-2, C-7, C-8\\\\\n",
       "\t Transporte & Estaciones de Cercanías & San Fernando de Henares & 049 & 049 & -3.533951 & 40.44263 & Líneas: C-2, C-7, C-8\\\\\n",
       "\t Transporte & Estaciones de Cercanías & Coslada                 & 049 & 049 & -3.561040 & 40.42377 & Líneas: C-2, C-7, C-8\\\\\n",
       "\t Transporte & Estaciones de Cercanías & Vicálvaro               & 079 & 079 & -3.595947 & 40.40125 & Líneas: C-2, C-7, C-8\\\\\n",
       "\\end{tabular}\n"
      ],
      "text/markdown": [
       "\n",
       "A data.frame: 5 × 8\n",
       "\n",
       "| grupo &lt;chr&gt; | tipo &lt;chr&gt; | nombre &lt;chr&gt; | CODMUN &lt;chr&gt; | DIRECCION &lt;chr&gt; | X &lt;dbl&gt; | Y &lt;dbl&gt; | info &lt;chr&gt; |\n",
       "|---|---|---|---|---|---|---|---|\n",
       "| Transporte | Estaciones de Cercanías | Alcalá de Henares       | 005 | 005 | -3.365905 | 40.48908 | Líneas: C-2, C-7, C-8 |\n",
       "| Transporte | Estaciones de Cercanías | Torrejón de Ardoz       | 148 | 148 | -3.479804 | 40.45474 | Líneas: C-2, C-7, C-8 |\n",
       "| Transporte | Estaciones de Cercanías | San Fernando de Henares | 049 | 049 | -3.533951 | 40.44263 | Líneas: C-2, C-7, C-8 |\n",
       "| Transporte | Estaciones de Cercanías | Coslada                 | 049 | 049 | -3.561040 | 40.42377 | Líneas: C-2, C-7, C-8 |\n",
       "| Transporte | Estaciones de Cercanías | Vicálvaro               | 079 | 079 | -3.595947 | 40.40125 | Líneas: C-2, C-7, C-8 |\n",
       "\n"
      ],
      "text/plain": [
       "  grupo      tipo                    nombre                  CODMUN DIRECCION\n",
       "1 Transporte Estaciones de Cercanías Alcalá de Henares       005    005      \n",
       "2 Transporte Estaciones de Cercanías Torrejón de Ardoz       148    148      \n",
       "3 Transporte Estaciones de Cercanías San Fernando de Henares 049    049      \n",
       "4 Transporte Estaciones de Cercanías Coslada                 049    049      \n",
       "5 Transporte Estaciones de Cercanías Vicálvaro               079    079      \n",
       "  X         Y        info                 \n",
       "1 -3.365905 40.48908 Líneas: C-2, C-7, C-8\n",
       "2 -3.479804 40.45474 Líneas: C-2, C-7, C-8\n",
       "3 -3.533951 40.44263 Líneas: C-2, C-7, C-8\n",
       "4 -3.561040 40.42377 Líneas: C-2, C-7, C-8\n",
       "5 -3.595947 40.40125 Líneas: C-2, C-7, C-8"
      ]
     },
     "metadata": {},
     "output_type": "display_data"
    }
   ],
   "source": [
    "tdata_04 |> slice_head(n = 5)"
   ]
  },
  {
   "cell_type": "code",
   "execution_count": 100,
   "metadata": {
    "vscode": {
     "languageId": "r"
    }
   },
   "outputs": [],
   "source": [
    "tdata_05 <- data_05 |>\n",
    "  bind_cols(st_coordinates(data_05 |> st_transform(4326))) |> \n",
    "  mutate(grupo = \"Transporte\",\n",
    "         tipo = \"Helisuperficies\",\n",
    "         DIRECCION = MUNICIPIO,\n",
    "         info = paste0(\"Uso: \", USO, \"; Gestor: \", GESTOR)) |> \n",
    "  select(grupo,\n",
    "         tipo, \n",
    "         nombre = ETIQUETA, \n",
    "         CODMUN = CMUN, \n",
    "         DIRECCION, \n",
    "         X, Y,\n",
    "         info) |> \n",
    "  st_drop_geometry()\n"
   ]
  },
  {
   "cell_type": "code",
   "execution_count": 101,
   "metadata": {
    "vscode": {
     "languageId": "r"
    }
   },
   "outputs": [
    {
     "data": {
      "text/html": [
       "<table class=\"dataframe\">\n",
       "<caption>A data.frame: 5 × 8</caption>\n",
       "<thead>\n",
       "\t<tr><th scope=col>grupo</th><th scope=col>tipo</th><th scope=col>nombre</th><th scope=col>CODMUN</th><th scope=col>DIRECCION</th><th scope=col>X</th><th scope=col>Y</th><th scope=col>info</th></tr>\n",
       "\t<tr><th scope=col>&lt;chr&gt;</th><th scope=col>&lt;chr&gt;</th><th scope=col>&lt;chr&gt;</th><th scope=col>&lt;chr&gt;</th><th scope=col>&lt;chr&gt;</th><th scope=col>&lt;dbl&gt;</th><th scope=col>&lt;dbl&gt;</th><th scope=col>&lt;chr&gt;</th></tr>\n",
       "</thead>\n",
       "<tbody>\n",
       "\t<tr><td>Transporte</td><td>Helisuperficies</td><td>Helipuerto Hospital del Tajo               </td><td>0133</td><td>Aranjuez           </td><td>-3.611325</td><td>40.05871</td><td>Uso: Sanitarias/ Emergencias; Gestor: Hospital del Tajo (Aranjuez)      </td></tr>\n",
       "\t<tr><td>Transporte</td><td>Helisuperficies</td><td>Helipuerto Eventual de Fuentidueña del Tajo</td><td>0604</td><td>Fuentidueña de Tajo</td><td>-3.164408</td><td>40.12108</td><td>Uso: Emergencias Sanitarias; Gestor: Ayuntamiento de Fuentidueña de Tajo</td></tr>\n",
       "\t<tr><td>Transporte</td><td>Helisuperficies</td><td>Helipuerto Eventual de Chinchón            </td><td>0528</td><td>Chinchón           </td><td>-3.430930</td><td>40.14724</td><td>Uso: Emergencias Sanitarias; Gestor: Ayuntamiento de Chinchón           </td></tr>\n",
       "\t<tr><td>Transporte</td><td>Helisuperficies</td><td>Campo de Ultraligeros de Valdelaguna       </td><td>1570</td><td>Valdelaguna        </td><td>-3.381950</td><td>40.15778</td><td>Uso: Aviación Deportiva/ Escuela; Gestor: Carina Delgado Ramos.         </td></tr>\n",
       "\t<tr><td>Transporte</td><td>Helisuperficies</td><td>Helipuerto Eventual de Estremera           </td><td>0552</td><td>Estremera          </td><td>-3.116238</td><td>40.19325</td><td>Uso: Emergencias Sanitarias; Gestor: Ayuntamiento de Estremera          </td></tr>\n",
       "</tbody>\n",
       "</table>\n"
      ],
      "text/latex": [
       "A data.frame: 5 × 8\n",
       "\\begin{tabular}{llllllll}\n",
       " grupo & tipo & nombre & CODMUN & DIRECCION & X & Y & info\\\\\n",
       " <chr> & <chr> & <chr> & <chr> & <chr> & <dbl> & <dbl> & <chr>\\\\\n",
       "\\hline\n",
       "\t Transporte & Helisuperficies & Helipuerto Hospital del Tajo                & 0133 & Aranjuez            & -3.611325 & 40.05871 & Uso: Sanitarias/ Emergencias; Gestor: Hospital del Tajo (Aranjuez)      \\\\\n",
       "\t Transporte & Helisuperficies & Helipuerto Eventual de Fuentidueña del Tajo & 0604 & Fuentidueña de Tajo & -3.164408 & 40.12108 & Uso: Emergencias Sanitarias; Gestor: Ayuntamiento de Fuentidueña de Tajo\\\\\n",
       "\t Transporte & Helisuperficies & Helipuerto Eventual de Chinchón             & 0528 & Chinchón            & -3.430930 & 40.14724 & Uso: Emergencias Sanitarias; Gestor: Ayuntamiento de Chinchón           \\\\\n",
       "\t Transporte & Helisuperficies & Campo de Ultraligeros de Valdelaguna        & 1570 & Valdelaguna         & -3.381950 & 40.15778 & Uso: Aviación Deportiva/ Escuela; Gestor: Carina Delgado Ramos.         \\\\\n",
       "\t Transporte & Helisuperficies & Helipuerto Eventual de Estremera            & 0552 & Estremera           & -3.116238 & 40.19325 & Uso: Emergencias Sanitarias; Gestor: Ayuntamiento de Estremera          \\\\\n",
       "\\end{tabular}\n"
      ],
      "text/markdown": [
       "\n",
       "A data.frame: 5 × 8\n",
       "\n",
       "| grupo &lt;chr&gt; | tipo &lt;chr&gt; | nombre &lt;chr&gt; | CODMUN &lt;chr&gt; | DIRECCION &lt;chr&gt; | X &lt;dbl&gt; | Y &lt;dbl&gt; | info &lt;chr&gt; |\n",
       "|---|---|---|---|---|---|---|---|\n",
       "| Transporte | Helisuperficies | Helipuerto Hospital del Tajo                | 0133 | Aranjuez            | -3.611325 | 40.05871 | Uso: Sanitarias/ Emergencias; Gestor: Hospital del Tajo (Aranjuez)       |\n",
       "| Transporte | Helisuperficies | Helipuerto Eventual de Fuentidueña del Tajo | 0604 | Fuentidueña de Tajo | -3.164408 | 40.12108 | Uso: Emergencias Sanitarias; Gestor: Ayuntamiento de Fuentidueña de Tajo |\n",
       "| Transporte | Helisuperficies | Helipuerto Eventual de Chinchón             | 0528 | Chinchón            | -3.430930 | 40.14724 | Uso: Emergencias Sanitarias; Gestor: Ayuntamiento de Chinchón            |\n",
       "| Transporte | Helisuperficies | Campo de Ultraligeros de Valdelaguna        | 1570 | Valdelaguna         | -3.381950 | 40.15778 | Uso: Aviación Deportiva/ Escuela; Gestor: Carina Delgado Ramos.          |\n",
       "| Transporte | Helisuperficies | Helipuerto Eventual de Estremera            | 0552 | Estremera           | -3.116238 | 40.19325 | Uso: Emergencias Sanitarias; Gestor: Ayuntamiento de Estremera           |\n",
       "\n"
      ],
      "text/plain": [
       "  grupo      tipo            nombre                                      CODMUN\n",
       "1 Transporte Helisuperficies Helipuerto Hospital del Tajo                0133  \n",
       "2 Transporte Helisuperficies Helipuerto Eventual de Fuentidueña del Tajo 0604  \n",
       "3 Transporte Helisuperficies Helipuerto Eventual de Chinchón             0528  \n",
       "4 Transporte Helisuperficies Campo de Ultraligeros de Valdelaguna        1570  \n",
       "5 Transporte Helisuperficies Helipuerto Eventual de Estremera            0552  \n",
       "  DIRECCION           X         Y       \n",
       "1 Aranjuez            -3.611325 40.05871\n",
       "2 Fuentidueña de Tajo -3.164408 40.12108\n",
       "3 Chinchón            -3.430930 40.14724\n",
       "4 Valdelaguna         -3.381950 40.15778\n",
       "5 Estremera           -3.116238 40.19325\n",
       "  info                                                                    \n",
       "1 Uso: Sanitarias/ Emergencias; Gestor: Hospital del Tajo (Aranjuez)      \n",
       "2 Uso: Emergencias Sanitarias; Gestor: Ayuntamiento de Fuentidueña de Tajo\n",
       "3 Uso: Emergencias Sanitarias; Gestor: Ayuntamiento de Chinchón           \n",
       "4 Uso: Aviación Deportiva/ Escuela; Gestor: Carina Delgado Ramos.         \n",
       "5 Uso: Emergencias Sanitarias; Gestor: Ayuntamiento de Estremera          "
      ]
     },
     "metadata": {},
     "output_type": "display_data"
    }
   ],
   "source": [
    "tdata_05 |> slice_head(n = 5)"
   ]
  },
  {
   "cell_type": "code",
   "execution_count": 102,
   "metadata": {
    "vscode": {
     "languageId": "r"
    }
   },
   "outputs": [],
   "source": [
    "tdata_06 <- data_06 |>\n",
    "  bind_cols(st_coordinates(data_06 |> st_transform(4326))) |> \n",
    "  mutate(tipo = \"Centros de Atención a Drogodependientes\",\n",
    "         grupo = \"Salud\",\n",
    "         info = \"\") |> \n",
    "  select(grupo,\n",
    "         tipo, \n",
    "         nombre = NOMBRE, \n",
    "         CODMUN = CODMUN, \n",
    "         DIRECCION, \n",
    "         X, Y,\n",
    "         info) |> \n",
    "  st_drop_geometry()\n"
   ]
  },
  {
   "cell_type": "code",
   "execution_count": 103,
   "metadata": {
    "vscode": {
     "languageId": "r"
    }
   },
   "outputs": [
    {
     "data": {
      "text/html": [
       "<table class=\"dataframe\">\n",
       "<caption>A data.frame: 5 × 8</caption>\n",
       "<thead>\n",
       "\t<tr><th scope=col>grupo</th><th scope=col>tipo</th><th scope=col>nombre</th><th scope=col>CODMUN</th><th scope=col>DIRECCION</th><th scope=col>X</th><th scope=col>Y</th><th scope=col>info</th></tr>\n",
       "\t<tr><th scope=col>&lt;chr&gt;</th><th scope=col>&lt;chr&gt;</th><th scope=col>&lt;chr&gt;</th><th scope=col>&lt;chr&gt;</th><th scope=col>&lt;chr&gt;</th><th scope=col>&lt;dbl&gt;</th><th scope=col>&lt;dbl&gt;</th><th scope=col>&lt;chr&gt;</th></tr>\n",
       "</thead>\n",
       "<tbody>\n",
       "\t<tr><td>Salud</td><td>Centros de Atención a Drogodependientes</td><td>Centro de Atención Integral a Drogodependientes Alcalá de Henares</td><td>005</td><td>C/ Santiago, 13 - planta </td><td>-3.367977</td><td>40.48296</td><td></td></tr>\n",
       "\t<tr><td>Salud</td><td>Centros de Atención a Drogodependientes</td><td>Centro de Atención Integral a Drogodependientes Alcobendas       </td><td>006</td><td>C/ Libertad, 6 - 2º      </td><td>-3.634660</td><td>40.54050</td><td></td></tr>\n",
       "\t<tr><td>Salud</td><td>Centros de Atención a Drogodependientes</td><td>Centro de Atención Integral a Drogodependientes Alcorcón         </td><td>007</td><td>Paseo de Extremadura, 19 </td><td>-3.831981</td><td>40.34918</td><td></td></tr>\n",
       "\t<tr><td>Salud</td><td>Centros de Atención a Drogodependientes</td><td>Centro de Atención Integral a Drogodependientes Aranjuez         </td><td>013</td><td>C/ Primero de Mayo, 1    </td><td>-3.592921</td><td>40.03344</td><td></td></tr>\n",
       "\t<tr><td>Salud</td><td>Centros de Atención a Drogodependientes</td><td>Centro de Atención Integral a Drogodependientes Arganda del Rey  </td><td>014</td><td>C/ Camino del Molino, s/n</td><td>-3.432303</td><td>40.29502</td><td></td></tr>\n",
       "</tbody>\n",
       "</table>\n"
      ],
      "text/latex": [
       "A data.frame: 5 × 8\n",
       "\\begin{tabular}{llllllll}\n",
       " grupo & tipo & nombre & CODMUN & DIRECCION & X & Y & info\\\\\n",
       " <chr> & <chr> & <chr> & <chr> & <chr> & <dbl> & <dbl> & <chr>\\\\\n",
       "\\hline\n",
       "\t Salud & Centros de Atención a Drogodependientes & Centro de Atención Integral a Drogodependientes Alcalá de Henares & 005 & C/ Santiago, 13 - planta  & -3.367977 & 40.48296 & \\\\\n",
       "\t Salud & Centros de Atención a Drogodependientes & Centro de Atención Integral a Drogodependientes Alcobendas        & 006 & C/ Libertad, 6 - 2º       & -3.634660 & 40.54050 & \\\\\n",
       "\t Salud & Centros de Atención a Drogodependientes & Centro de Atención Integral a Drogodependientes Alcorcón          & 007 & Paseo de Extremadura, 19  & -3.831981 & 40.34918 & \\\\\n",
       "\t Salud & Centros de Atención a Drogodependientes & Centro de Atención Integral a Drogodependientes Aranjuez          & 013 & C/ Primero de Mayo, 1     & -3.592921 & 40.03344 & \\\\\n",
       "\t Salud & Centros de Atención a Drogodependientes & Centro de Atención Integral a Drogodependientes Arganda del Rey   & 014 & C/ Camino del Molino, s/n & -3.432303 & 40.29502 & \\\\\n",
       "\\end{tabular}\n"
      ],
      "text/markdown": [
       "\n",
       "A data.frame: 5 × 8\n",
       "\n",
       "| grupo &lt;chr&gt; | tipo &lt;chr&gt; | nombre &lt;chr&gt; | CODMUN &lt;chr&gt; | DIRECCION &lt;chr&gt; | X &lt;dbl&gt; | Y &lt;dbl&gt; | info &lt;chr&gt; |\n",
       "|---|---|---|---|---|---|---|---|\n",
       "| Salud | Centros de Atención a Drogodependientes | Centro de Atención Integral a Drogodependientes Alcalá de Henares | 005 | C/ Santiago, 13 - planta  | -3.367977 | 40.48296 | <!----> |\n",
       "| Salud | Centros de Atención a Drogodependientes | Centro de Atención Integral a Drogodependientes Alcobendas        | 006 | C/ Libertad, 6 - 2º       | -3.634660 | 40.54050 | <!----> |\n",
       "| Salud | Centros de Atención a Drogodependientes | Centro de Atención Integral a Drogodependientes Alcorcón          | 007 | Paseo de Extremadura, 19  | -3.831981 | 40.34918 | <!----> |\n",
       "| Salud | Centros de Atención a Drogodependientes | Centro de Atención Integral a Drogodependientes Aranjuez          | 013 | C/ Primero de Mayo, 1     | -3.592921 | 40.03344 | <!----> |\n",
       "| Salud | Centros de Atención a Drogodependientes | Centro de Atención Integral a Drogodependientes Arganda del Rey   | 014 | C/ Camino del Molino, s/n | -3.432303 | 40.29502 | <!----> |\n",
       "\n"
      ],
      "text/plain": [
       "  grupo tipo                                   \n",
       "1 Salud Centros de Atención a Drogodependientes\n",
       "2 Salud Centros de Atención a Drogodependientes\n",
       "3 Salud Centros de Atención a Drogodependientes\n",
       "4 Salud Centros de Atención a Drogodependientes\n",
       "5 Salud Centros de Atención a Drogodependientes\n",
       "  nombre                                                            CODMUN\n",
       "1 Centro de Atención Integral a Drogodependientes Alcalá de Henares 005   \n",
       "2 Centro de Atención Integral a Drogodependientes Alcobendas        006   \n",
       "3 Centro de Atención Integral a Drogodependientes Alcorcón          007   \n",
       "4 Centro de Atención Integral a Drogodependientes Aranjuez          013   \n",
       "5 Centro de Atención Integral a Drogodependientes Arganda del Rey   014   \n",
       "  DIRECCION                 X         Y        info\n",
       "1 C/ Santiago, 13 - planta  -3.367977 40.48296     \n",
       "2 C/ Libertad, 6 - 2º       -3.634660 40.54050     \n",
       "3 Paseo de Extremadura, 19  -3.831981 40.34918     \n",
       "4 C/ Primero de Mayo, 1     -3.592921 40.03344     \n",
       "5 C/ Camino del Molino, s/n -3.432303 40.29502     "
      ]
     },
     "metadata": {},
     "output_type": "display_data"
    }
   ],
   "source": [
    "tdata_06 |> slice_head(n = 5)"
   ]
  },
  {
   "cell_type": "code",
   "execution_count": 104,
   "metadata": {
    "vscode": {
     "languageId": "r"
    }
   },
   "outputs": [],
   "source": [
    "tdata_07 <- data_07 |>\n",
    "  bind_cols(st_coordinates(data_07 |> st_transform(4326))) |> \n",
    "  mutate(tipo = \"Centros de Especialidades\",\n",
    "         grupo = \"Salud\",\n",
    "         info = paste0(\"CODZBS: \", CODZBS),\n",
    "         DIRECCION = paste0(TIPOVIAL, NOMVIA, NUMERO)) |> \n",
    "  select(grupo,\n",
    "         tipo, \n",
    "         nombre = ETIQUETA, \n",
    "         CODMUN = CODMUN, \n",
    "         DIRECCION, \n",
    "         X, Y,\n",
    "         info) |> \n",
    "  st_drop_geometry()\n"
   ]
  },
  {
   "cell_type": "code",
   "execution_count": 105,
   "metadata": {
    "vscode": {
     "languageId": "r"
    }
   },
   "outputs": [
    {
     "data": {
      "text/html": [
       "<table class=\"dataframe\">\n",
       "<caption>A data.frame: 5 × 8</caption>\n",
       "<thead>\n",
       "\t<tr><th scope=col>grupo</th><th scope=col>tipo</th><th scope=col>nombre</th><th scope=col>CODMUN</th><th scope=col>DIRECCION</th><th scope=col>X</th><th scope=col>Y</th><th scope=col>info</th></tr>\n",
       "\t<tr><th scope=col>&lt;chr&gt;</th><th scope=col>&lt;chr&gt;</th><th scope=col>&lt;chr&gt;</th><th scope=col>&lt;chr&gt;</th><th scope=col>&lt;chr&gt;</th><th scope=col>&lt;dbl&gt;</th><th scope=col>&lt;dbl&gt;</th><th scope=col>&lt;chr&gt;</th></tr>\n",
       "</thead>\n",
       "<tbody>\n",
       "\t<tr><td>Salud</td><td>Centros de Especialidades</td><td>C.E. Moratalaz                    </td><td>0796</td><td>CalleHacienda de Pavones348</td><td>-3.633718</td><td>40.40000</td><td>CODZBS: 010203</td></tr>\n",
       "\t<tr><td>Salud</td><td>Centros de Especialidades</td><td>C.E. Peña Prieta - Hermanos Sangró</td><td>0796</td><td>AvenidaPeña Prieta4        </td><td>-3.668399</td><td>40.39861</td><td>CODZBS: 010402</td></tr>\n",
       "\t<tr><td>Salud</td><td>Centros de Especialidades</td><td>C.E. Vicente Soldevilla           </td><td>0796</td><td>CalleSierra de Alquife8    </td><td>-3.667114</td><td>40.38895</td><td>CODZBS: 010406</td></tr>\n",
       "\t<tr><td>Salud</td><td>Centros de Especialidades</td><td>C.E. Federica Montseny            </td><td>0796</td><td>AvenidaAlbufera285         </td><td>-3.639719</td><td>40.38753</td><td>CODZBS: 010410</td></tr>\n",
       "\t<tr><td>Salud</td><td>Centros de Especialidades</td><td>C.E. Hermanos García Noblejas     </td><td>0796</td><td>CalleDoctor Esquerdo45     </td><td>-3.668399</td><td>40.42357</td><td>CODZBS: 020201</td></tr>\n",
       "</tbody>\n",
       "</table>\n"
      ],
      "text/latex": [
       "A data.frame: 5 × 8\n",
       "\\begin{tabular}{llllllll}\n",
       " grupo & tipo & nombre & CODMUN & DIRECCION & X & Y & info\\\\\n",
       " <chr> & <chr> & <chr> & <chr> & <chr> & <dbl> & <dbl> & <chr>\\\\\n",
       "\\hline\n",
       "\t Salud & Centros de Especialidades & C.E. Moratalaz                     & 0796 & CalleHacienda de Pavones348 & -3.633718 & 40.40000 & CODZBS: 010203\\\\\n",
       "\t Salud & Centros de Especialidades & C.E. Peña Prieta - Hermanos Sangró & 0796 & AvenidaPeña Prieta4         & -3.668399 & 40.39861 & CODZBS: 010402\\\\\n",
       "\t Salud & Centros de Especialidades & C.E. Vicente Soldevilla            & 0796 & CalleSierra de Alquife8     & -3.667114 & 40.38895 & CODZBS: 010406\\\\\n",
       "\t Salud & Centros de Especialidades & C.E. Federica Montseny             & 0796 & AvenidaAlbufera285          & -3.639719 & 40.38753 & CODZBS: 010410\\\\\n",
       "\t Salud & Centros de Especialidades & C.E. Hermanos García Noblejas      & 0796 & CalleDoctor Esquerdo45      & -3.668399 & 40.42357 & CODZBS: 020201\\\\\n",
       "\\end{tabular}\n"
      ],
      "text/markdown": [
       "\n",
       "A data.frame: 5 × 8\n",
       "\n",
       "| grupo &lt;chr&gt; | tipo &lt;chr&gt; | nombre &lt;chr&gt; | CODMUN &lt;chr&gt; | DIRECCION &lt;chr&gt; | X &lt;dbl&gt; | Y &lt;dbl&gt; | info &lt;chr&gt; |\n",
       "|---|---|---|---|---|---|---|---|\n",
       "| Salud | Centros de Especialidades | C.E. Moratalaz                     | 0796 | CalleHacienda de Pavones348 | -3.633718 | 40.40000 | CODZBS: 010203 |\n",
       "| Salud | Centros de Especialidades | C.E. Peña Prieta - Hermanos Sangró | 0796 | AvenidaPeña Prieta4         | -3.668399 | 40.39861 | CODZBS: 010402 |\n",
       "| Salud | Centros de Especialidades | C.E. Vicente Soldevilla            | 0796 | CalleSierra de Alquife8     | -3.667114 | 40.38895 | CODZBS: 010406 |\n",
       "| Salud | Centros de Especialidades | C.E. Federica Montseny             | 0796 | AvenidaAlbufera285          | -3.639719 | 40.38753 | CODZBS: 010410 |\n",
       "| Salud | Centros de Especialidades | C.E. Hermanos García Noblejas      | 0796 | CalleDoctor Esquerdo45      | -3.668399 | 40.42357 | CODZBS: 020201 |\n",
       "\n"
      ],
      "text/plain": [
       "  grupo tipo                      nombre                             CODMUN\n",
       "1 Salud Centros de Especialidades C.E. Moratalaz                     0796  \n",
       "2 Salud Centros de Especialidades C.E. Peña Prieta - Hermanos Sangró 0796  \n",
       "3 Salud Centros de Especialidades C.E. Vicente Soldevilla            0796  \n",
       "4 Salud Centros de Especialidades C.E. Federica Montseny             0796  \n",
       "5 Salud Centros de Especialidades C.E. Hermanos García Noblejas      0796  \n",
       "  DIRECCION                   X         Y        info          \n",
       "1 CalleHacienda de Pavones348 -3.633718 40.40000 CODZBS: 010203\n",
       "2 AvenidaPeña Prieta4         -3.668399 40.39861 CODZBS: 010402\n",
       "3 CalleSierra de Alquife8     -3.667114 40.38895 CODZBS: 010406\n",
       "4 AvenidaAlbufera285          -3.639719 40.38753 CODZBS: 010410\n",
       "5 CalleDoctor Esquerdo45      -3.668399 40.42357 CODZBS: 020201"
      ]
     },
     "metadata": {},
     "output_type": "display_data"
    }
   ],
   "source": [
    "tdata_07 |> slice_head(n = 5)"
   ]
  },
  {
   "cell_type": "code",
   "execution_count": 106,
   "metadata": {
    "vscode": {
     "languageId": "r"
    }
   },
   "outputs": [],
   "source": [
    "tdata_08 <- data_08 |>\n",
    "  bind_cols(st_coordinates(data_08 |> st_transform(4326))) |> \n",
    "  mutate(tipo = \"Centros de Salud\",\n",
    "         grupo = \"Salud\",\n",
    "         info = paste0(\"CODZBS: \", CODZBS),\n",
    "         DIRECCION = paste0(TIPOVIAL, NOMVIA, NUMERO)) |> \n",
    "  select(grupo,\n",
    "         tipo, \n",
    "         nombre = TIPOCEN2, \n",
    "         CODMUN = CMUN, \n",
    "         DIRECCION, \n",
    "         X, Y,\n",
    "         info) |> \n",
    "  st_drop_geometry()\n"
   ]
  },
  {
   "cell_type": "code",
   "execution_count": 107,
   "metadata": {
    "vscode": {
     "languageId": "r"
    }
   },
   "outputs": [
    {
     "data": {
      "text/html": [
       "<table class=\"dataframe\">\n",
       "<caption>A data.frame: 5 × 8</caption>\n",
       "<thead>\n",
       "\t<tr><th scope=col>grupo</th><th scope=col>tipo</th><th scope=col>nombre</th><th scope=col>CODMUN</th><th scope=col>DIRECCION</th><th scope=col>X</th><th scope=col>Y</th><th scope=col>info</th></tr>\n",
       "\t<tr><th scope=col>&lt;chr&gt;</th><th scope=col>&lt;chr&gt;</th><th scope=col>&lt;chr&gt;</th><th scope=col>&lt;chr&gt;</th><th scope=col>&lt;chr&gt;</th><th scope=col>&lt;dbl&gt;</th><th scope=col>&lt;dbl&gt;</th><th scope=col>&lt;chr&gt;</th></tr>\n",
       "</thead>\n",
       "<tbody>\n",
       "\t<tr><td>Salud</td><td>Centros de Salud</td><td>Centro de Salud Carmen Calzado </td><td>005</td><td>CalleCarmen Calzado14   </td><td>-3.365999</td><td>40.48165</td><td>CODZBS: 030101</td></tr>\n",
       "\t<tr><td>Salud</td><td>Centros de Salud</td><td>Centro de Salud Juan de Austria</td><td>005</td><td>AvenidaJuan de Austria19</td><td>-3.350480</td><td>40.48773</td><td>CODZBS: 030107</td></tr>\n",
       "\t<tr><td>Salud</td><td>Centros de Salud</td><td>Centro de Salud La Garena      </td><td>005</td><td>CalleArturo Soria12     </td><td>-3.393864</td><td>40.48122</td><td>CODZBS: 030109</td></tr>\n",
       "\t<tr><td>Salud</td><td>Centros de Salud</td><td>Centro de Salud Luis Vives     </td><td>005</td><td>CalleLuis Vives16       </td><td>-3.368122</td><td>40.47506</td><td>CODZBS: 030104</td></tr>\n",
       "\t<tr><td>Salud</td><td>Centros de Salud</td><td>Centro de Salud Manuel Merino  </td><td>005</td><td>CalleManuel Merino1     </td><td>-3.357354</td><td>40.48216</td><td>CODZBS: 030105</td></tr>\n",
       "</tbody>\n",
       "</table>\n"
      ],
      "text/latex": [
       "A data.frame: 5 × 8\n",
       "\\begin{tabular}{llllllll}\n",
       " grupo & tipo & nombre & CODMUN & DIRECCION & X & Y & info\\\\\n",
       " <chr> & <chr> & <chr> & <chr> & <chr> & <dbl> & <dbl> & <chr>\\\\\n",
       "\\hline\n",
       "\t Salud & Centros de Salud & Centro de Salud Carmen Calzado  & 005 & CalleCarmen Calzado14    & -3.365999 & 40.48165 & CODZBS: 030101\\\\\n",
       "\t Salud & Centros de Salud & Centro de Salud Juan de Austria & 005 & AvenidaJuan de Austria19 & -3.350480 & 40.48773 & CODZBS: 030107\\\\\n",
       "\t Salud & Centros de Salud & Centro de Salud La Garena       & 005 & CalleArturo Soria12      & -3.393864 & 40.48122 & CODZBS: 030109\\\\\n",
       "\t Salud & Centros de Salud & Centro de Salud Luis Vives      & 005 & CalleLuis Vives16        & -3.368122 & 40.47506 & CODZBS: 030104\\\\\n",
       "\t Salud & Centros de Salud & Centro de Salud Manuel Merino   & 005 & CalleManuel Merino1      & -3.357354 & 40.48216 & CODZBS: 030105\\\\\n",
       "\\end{tabular}\n"
      ],
      "text/markdown": [
       "\n",
       "A data.frame: 5 × 8\n",
       "\n",
       "| grupo &lt;chr&gt; | tipo &lt;chr&gt; | nombre &lt;chr&gt; | CODMUN &lt;chr&gt; | DIRECCION &lt;chr&gt; | X &lt;dbl&gt; | Y &lt;dbl&gt; | info &lt;chr&gt; |\n",
       "|---|---|---|---|---|---|---|---|\n",
       "| Salud | Centros de Salud | Centro de Salud Carmen Calzado  | 005 | CalleCarmen Calzado14    | -3.365999 | 40.48165 | CODZBS: 030101 |\n",
       "| Salud | Centros de Salud | Centro de Salud Juan de Austria | 005 | AvenidaJuan de Austria19 | -3.350480 | 40.48773 | CODZBS: 030107 |\n",
       "| Salud | Centros de Salud | Centro de Salud La Garena       | 005 | CalleArturo Soria12      | -3.393864 | 40.48122 | CODZBS: 030109 |\n",
       "| Salud | Centros de Salud | Centro de Salud Luis Vives      | 005 | CalleLuis Vives16        | -3.368122 | 40.47506 | CODZBS: 030104 |\n",
       "| Salud | Centros de Salud | Centro de Salud Manuel Merino   | 005 | CalleManuel Merino1      | -3.357354 | 40.48216 | CODZBS: 030105 |\n",
       "\n"
      ],
      "text/plain": [
       "  grupo tipo             nombre                          CODMUN\n",
       "1 Salud Centros de Salud Centro de Salud Carmen Calzado  005   \n",
       "2 Salud Centros de Salud Centro de Salud Juan de Austria 005   \n",
       "3 Salud Centros de Salud Centro de Salud La Garena       005   \n",
       "4 Salud Centros de Salud Centro de Salud Luis Vives      005   \n",
       "5 Salud Centros de Salud Centro de Salud Manuel Merino   005   \n",
       "  DIRECCION                X         Y        info          \n",
       "1 CalleCarmen Calzado14    -3.365999 40.48165 CODZBS: 030101\n",
       "2 AvenidaJuan de Austria19 -3.350480 40.48773 CODZBS: 030107\n",
       "3 CalleArturo Soria12      -3.393864 40.48122 CODZBS: 030109\n",
       "4 CalleLuis Vives16        -3.368122 40.47506 CODZBS: 030104\n",
       "5 CalleManuel Merino1      -3.357354 40.48216 CODZBS: 030105"
      ]
     },
     "metadata": {},
     "output_type": "display_data"
    }
   ],
   "source": [
    "tdata_08 |> slice_head(n = 5)"
   ]
  },
  {
   "cell_type": "code",
   "execution_count": 108,
   "metadata": {
    "vscode": {
     "languageId": "r"
    }
   },
   "outputs": [],
   "source": [
    "tdata_09 <- data_09 |>\n",
    "  bind_cols(st_coordinates(data_09 |> st_transform(4326))) |> \n",
    "  mutate(tipo = \"Consultorios de Salud\",\n",
    "         grupo = \"Salud\",\n",
    "         info = \"\",\n",
    "         DIRECCION = paste0(TIPOVIA, NOMVIA, NUMERO)) |> \n",
    "  select(grupo,\n",
    "         tipo, \n",
    "         nombre = ETIQUETA, \n",
    "         CODMUN = CODMUNI, \n",
    "         DIRECCION, \n",
    "         X, Y,\n",
    "         info) |>\n",
    "  st_drop_geometry()\n"
   ]
  },
  {
   "cell_type": "code",
   "execution_count": 109,
   "metadata": {
    "vscode": {
     "languageId": "r"
    }
   },
   "outputs": [
    {
     "data": {
      "text/html": [
       "<table class=\"dataframe\">\n",
       "<caption>A data.frame: 5 × 8</caption>\n",
       "<thead>\n",
       "\t<tr><th scope=col>grupo</th><th scope=col>tipo</th><th scope=col>nombre</th><th scope=col>CODMUN</th><th scope=col>DIRECCION</th><th scope=col>X</th><th scope=col>Y</th><th scope=col>info</th></tr>\n",
       "\t<tr><th scope=col>&lt;chr&gt;</th><th scope=col>&lt;chr&gt;</th><th scope=col>&lt;chr&gt;</th><th scope=col>&lt;chr&gt;</th><th scope=col>&lt;chr&gt;</th><th scope=col>&lt;dbl&gt;</th><th scope=col>&lt;dbl&gt;</th><th scope=col>&lt;chr&gt;</th></tr>\n",
       "</thead>\n",
       "<tbody>\n",
       "\t<tr><td>Salud</td><td>Consultorios de Salud</td><td>Consultorio de La Acebeda       </td><td>0014</td><td>PlazaSan Miguel1            </td><td>-3.624803</td><td>41.08687</td><td></td></tr>\n",
       "\t<tr><td>Salud</td><td>Consultorios de Salud</td><td>Consultorio de Ajalvir          </td><td>0029</td><td>AvdaAguas2                  </td><td>-3.482595</td><td>40.53660</td><td></td></tr>\n",
       "\t<tr><td>Salud</td><td>Consultorios de Salud</td><td>Consultorio de Alameda del Valle</td><td>0035</td><td>PlazaSanta Marina17         </td><td>-3.843668</td><td>40.91803</td><td></td></tr>\n",
       "\t<tr><td>Salud</td><td>Consultorios de Salud</td><td>Consultorio de El Álamo         </td><td>0040</td><td>CalleFederico García Lorca31</td><td>-3.988694</td><td>40.23284</td><td></td></tr>\n",
       "\t<tr><td>Salud</td><td>Consultorios de Salud</td><td>Consultorio de Aldea del Fresno </td><td>0088</td><td>CalleSan Rafael17           </td><td>-4.199147</td><td>40.32041</td><td></td></tr>\n",
       "</tbody>\n",
       "</table>\n"
      ],
      "text/latex": [
       "A data.frame: 5 × 8\n",
       "\\begin{tabular}{llllllll}\n",
       " grupo & tipo & nombre & CODMUN & DIRECCION & X & Y & info\\\\\n",
       " <chr> & <chr> & <chr> & <chr> & <chr> & <dbl> & <dbl> & <chr>\\\\\n",
       "\\hline\n",
       "\t Salud & Consultorios de Salud & Consultorio de La Acebeda        & 0014 & PlazaSan Miguel1             & -3.624803 & 41.08687 & \\\\\n",
       "\t Salud & Consultorios de Salud & Consultorio de Ajalvir           & 0029 & AvdaAguas2                   & -3.482595 & 40.53660 & \\\\\n",
       "\t Salud & Consultorios de Salud & Consultorio de Alameda del Valle & 0035 & PlazaSanta Marina17          & -3.843668 & 40.91803 & \\\\\n",
       "\t Salud & Consultorios de Salud & Consultorio de El Álamo          & 0040 & CalleFederico García Lorca31 & -3.988694 & 40.23284 & \\\\\n",
       "\t Salud & Consultorios de Salud & Consultorio de Aldea del Fresno  & 0088 & CalleSan Rafael17            & -4.199147 & 40.32041 & \\\\\n",
       "\\end{tabular}\n"
      ],
      "text/markdown": [
       "\n",
       "A data.frame: 5 × 8\n",
       "\n",
       "| grupo &lt;chr&gt; | tipo &lt;chr&gt; | nombre &lt;chr&gt; | CODMUN &lt;chr&gt; | DIRECCION &lt;chr&gt; | X &lt;dbl&gt; | Y &lt;dbl&gt; | info &lt;chr&gt; |\n",
       "|---|---|---|---|---|---|---|---|\n",
       "| Salud | Consultorios de Salud | Consultorio de La Acebeda        | 0014 | PlazaSan Miguel1             | -3.624803 | 41.08687 | <!----> |\n",
       "| Salud | Consultorios de Salud | Consultorio de Ajalvir           | 0029 | AvdaAguas2                   | -3.482595 | 40.53660 | <!----> |\n",
       "| Salud | Consultorios de Salud | Consultorio de Alameda del Valle | 0035 | PlazaSanta Marina17          | -3.843668 | 40.91803 | <!----> |\n",
       "| Salud | Consultorios de Salud | Consultorio de El Álamo          | 0040 | CalleFederico García Lorca31 | -3.988694 | 40.23284 | <!----> |\n",
       "| Salud | Consultorios de Salud | Consultorio de Aldea del Fresno  | 0088 | CalleSan Rafael17            | -4.199147 | 40.32041 | <!----> |\n",
       "\n"
      ],
      "text/plain": [
       "  grupo tipo                  nombre                           CODMUN\n",
       "1 Salud Consultorios de Salud Consultorio de La Acebeda        0014  \n",
       "2 Salud Consultorios de Salud Consultorio de Ajalvir           0029  \n",
       "3 Salud Consultorios de Salud Consultorio de Alameda del Valle 0035  \n",
       "4 Salud Consultorios de Salud Consultorio de El Álamo          0040  \n",
       "5 Salud Consultorios de Salud Consultorio de Aldea del Fresno  0088  \n",
       "  DIRECCION                    X         Y        info\n",
       "1 PlazaSan Miguel1             -3.624803 41.08687     \n",
       "2 AvdaAguas2                   -3.482595 40.53660     \n",
       "3 PlazaSanta Marina17          -3.843668 40.91803     \n",
       "4 CalleFederico García Lorca31 -3.988694 40.23284     \n",
       "5 CalleSan Rafael17            -4.199147 40.32041     "
      ]
     },
     "metadata": {},
     "output_type": "display_data"
    }
   ],
   "source": [
    "tdata_09 |> slice_head(n = 5)"
   ]
  },
  {
   "cell_type": "code",
   "execution_count": 111,
   "metadata": {
    "vscode": {
     "languageId": "r"
    }
   },
   "outputs": [],
   "source": [
    "tdata_10 <- data_10 |>\n",
    "  bind_cols(st_coordinates(data_10 |> st_transform(4326))) |> \n",
    "  mutate(tipo = \"Otros Centrpos de Salud\",\n",
    "         grupo = \"Salud\",\n",
    "         info = \"\") |> \n",
    "  select(grupo,\n",
    "         tipo, \n",
    "         nombre = NOMBRE, \n",
    "         CODMUN, \n",
    "         DIRECCION, \n",
    "         X, Y,\n",
    "         info) |> \n",
    "  st_drop_geometry()\n"
   ]
  },
  {
   "cell_type": "code",
   "execution_count": 112,
   "metadata": {
    "vscode": {
     "languageId": "r"
    }
   },
   "outputs": [
    {
     "data": {
      "text/html": [
       "<table class=\"dataframe\">\n",
       "<caption>A data.frame: 5 × 8</caption>\n",
       "<thead>\n",
       "\t<tr><th scope=col>grupo</th><th scope=col>tipo</th><th scope=col>nombre</th><th scope=col>CODMUN</th><th scope=col>DIRECCION</th><th scope=col>X</th><th scope=col>Y</th><th scope=col>info</th></tr>\n",
       "\t<tr><th scope=col>&lt;chr&gt;</th><th scope=col>&lt;chr&gt;</th><th scope=col>&lt;chr&gt;</th><th scope=col>&lt;chr&gt;</th><th scope=col>&lt;chr&gt;</th><th scope=col>&lt;dbl&gt;</th><th scope=col>&lt;dbl&gt;</th><th scope=col>&lt;chr&gt;</th></tr>\n",
       "</thead>\n",
       "<tbody>\n",
       "\t<tr><td>Salud</td><td>Otros Centrpos de Salud</td><td>Instituto Provincial de Rehabilitación          </td><td>079</td><td>Calle Francisco Silvela, 40</td><td>-3.672685</td><td>40.43313</td><td></td></tr>\n",
       "\t<tr><td>Salud</td><td>Otros Centrpos de Salud</td><td>Instituto Provincial de Oftalmología            </td><td>079</td><td>Calle General Arrando, 17  </td><td>-3.693046</td><td>40.43190</td><td></td></tr>\n",
       "\t<tr><td>Salud</td><td>Otros Centrpos de Salud</td><td>Oficina Regional de Coordinación de Transplantes</td><td>079</td><td>Paseo de la Castellana, 280</td><td>-3.686069</td><td>40.47613</td><td></td></tr>\n",
       "\t<tr><td>Salud</td><td>Otros Centrpos de Salud</td><td>Oficina Regional de Coordinación de Salud Mental</td><td>079</td><td>Paseo de la Castellana, 280</td><td>-3.685915</td><td>40.47612</td><td></td></tr>\n",
       "\t<tr><td>Salud</td><td>Otros Centrpos de Salud</td><td>Oficina Regional de Coordinación Oncológica     </td><td>079</td><td>Paseo de la Castellana, 280</td><td>-3.685750</td><td>40.47612</td><td></td></tr>\n",
       "</tbody>\n",
       "</table>\n"
      ],
      "text/latex": [
       "A data.frame: 5 × 8\n",
       "\\begin{tabular}{llllllll}\n",
       " grupo & tipo & nombre & CODMUN & DIRECCION & X & Y & info\\\\\n",
       " <chr> & <chr> & <chr> & <chr> & <chr> & <dbl> & <dbl> & <chr>\\\\\n",
       "\\hline\n",
       "\t Salud & Otros Centrpos de Salud & Instituto Provincial de Rehabilitación           & 079 & Calle Francisco Silvela, 40 & -3.672685 & 40.43313 & \\\\\n",
       "\t Salud & Otros Centrpos de Salud & Instituto Provincial de Oftalmología             & 079 & Calle General Arrando, 17   & -3.693046 & 40.43190 & \\\\\n",
       "\t Salud & Otros Centrpos de Salud & Oficina Regional de Coordinación de Transplantes & 079 & Paseo de la Castellana, 280 & -3.686069 & 40.47613 & \\\\\n",
       "\t Salud & Otros Centrpos de Salud & Oficina Regional de Coordinación de Salud Mental & 079 & Paseo de la Castellana, 280 & -3.685915 & 40.47612 & \\\\\n",
       "\t Salud & Otros Centrpos de Salud & Oficina Regional de Coordinación Oncológica      & 079 & Paseo de la Castellana, 280 & -3.685750 & 40.47612 & \\\\\n",
       "\\end{tabular}\n"
      ],
      "text/markdown": [
       "\n",
       "A data.frame: 5 × 8\n",
       "\n",
       "| grupo &lt;chr&gt; | tipo &lt;chr&gt; | nombre &lt;chr&gt; | CODMUN &lt;chr&gt; | DIRECCION &lt;chr&gt; | X &lt;dbl&gt; | Y &lt;dbl&gt; | info &lt;chr&gt; |\n",
       "|---|---|---|---|---|---|---|---|\n",
       "| Salud | Otros Centrpos de Salud | Instituto Provincial de Rehabilitación           | 079 | Calle Francisco Silvela, 40 | -3.672685 | 40.43313 | <!----> |\n",
       "| Salud | Otros Centrpos de Salud | Instituto Provincial de Oftalmología             | 079 | Calle General Arrando, 17   | -3.693046 | 40.43190 | <!----> |\n",
       "| Salud | Otros Centrpos de Salud | Oficina Regional de Coordinación de Transplantes | 079 | Paseo de la Castellana, 280 | -3.686069 | 40.47613 | <!----> |\n",
       "| Salud | Otros Centrpos de Salud | Oficina Regional de Coordinación de Salud Mental | 079 | Paseo de la Castellana, 280 | -3.685915 | 40.47612 | <!----> |\n",
       "| Salud | Otros Centrpos de Salud | Oficina Regional de Coordinación Oncológica      | 079 | Paseo de la Castellana, 280 | -3.685750 | 40.47612 | <!----> |\n",
       "\n"
      ],
      "text/plain": [
       "  grupo tipo                   \n",
       "1 Salud Otros Centrpos de Salud\n",
       "2 Salud Otros Centrpos de Salud\n",
       "3 Salud Otros Centrpos de Salud\n",
       "4 Salud Otros Centrpos de Salud\n",
       "5 Salud Otros Centrpos de Salud\n",
       "  nombre                                           CODMUN\n",
       "1 Instituto Provincial de Rehabilitación           079   \n",
       "2 Instituto Provincial de Oftalmología             079   \n",
       "3 Oficina Regional de Coordinación de Transplantes 079   \n",
       "4 Oficina Regional de Coordinación de Salud Mental 079   \n",
       "5 Oficina Regional de Coordinación Oncológica      079   \n",
       "  DIRECCION                   X         Y        info\n",
       "1 Calle Francisco Silvela, 40 -3.672685 40.43313     \n",
       "2 Calle General Arrando, 17   -3.693046 40.43190     \n",
       "3 Paseo de la Castellana, 280 -3.686069 40.47613     \n",
       "4 Paseo de la Castellana, 280 -3.685915 40.47612     \n",
       "5 Paseo de la Castellana, 280 -3.685750 40.47612     "
      ]
     },
     "metadata": {},
     "output_type": "display_data"
    }
   ],
   "source": [
    "tdata_10 |> slice_head(n = 5)"
   ]
  },
  {
   "cell_type": "code",
   "execution_count": 113,
   "metadata": {
    "vscode": {
     "languageId": "r"
    }
   },
   "outputs": [],
   "source": [
    "tdata_11 <- data_11 |>\n",
    "  bind_cols(st_coordinates(data_11 |> st_transform(4326))) |> \n",
    "  mutate(tipo = \"Centros de Salud Mental\",\n",
    "         grupo = \"Salud\",\n",
    "         info = \"\",\n",
    "         DIRECCION = paste0(TIPOVIAL, NOMVIA, NUMERO)) |> \n",
    "  select(grupo,\n",
    "         tipo, \n",
    "         nombre = NOMBRE, \n",
    "         CODMUN, \n",
    "         DIRECCION, \n",
    "         X, Y,\n",
    "         info) |>  \n",
    "  st_drop_geometry()\n"
   ]
  },
  {
   "cell_type": "code",
   "execution_count": 114,
   "metadata": {
    "vscode": {
     "languageId": "r"
    }
   },
   "outputs": [
    {
     "data": {
      "text/html": [
       "<table class=\"dataframe\">\n",
       "<caption>A data.frame: 5 × 8</caption>\n",
       "<thead>\n",
       "\t<tr><th scope=col>grupo</th><th scope=col>tipo</th><th scope=col>nombre</th><th scope=col>CODMUN</th><th scope=col>DIRECCION</th><th scope=col>X</th><th scope=col>Y</th><th scope=col>info</th></tr>\n",
       "\t<tr><th scope=col>&lt;chr&gt;</th><th scope=col>&lt;chr&gt;</th><th scope=col>&lt;chr&gt;</th><th scope=col>&lt;chr&gt;</th><th scope=col>&lt;chr&gt;</th><th scope=col>&lt;dbl&gt;</th><th scope=col>&lt;dbl&gt;</th><th scope=col>&lt;chr&gt;</th></tr>\n",
       "</thead>\n",
       "<tbody>\n",
       "\t<tr><td>Salud</td><td>Centros de Salud Mental</td><td>CSM Villa Vallecas           </td><td>0796</td><td>CalleSan Claudio154</td><td>-3.639029</td><td>40.38860</td><td></td></tr>\n",
       "\t<tr><td>Salud</td><td>Centros de Salud Mental</td><td>CSM Coslada                  </td><td>0493</td><td>AvenidaEspañas/n   </td><td>-3.552246</td><td>40.42087</td><td></td></tr>\n",
       "\t<tr><td>Salud</td><td>Centros de Salud Mental</td><td>CSM Salamanca                </td><td>0796</td><td>CalleO'Donnell55   </td><td>-3.671368</td><td>40.42154</td><td></td></tr>\n",
       "\t<tr><td>Salud</td><td>Centros de Salud Mental</td><td>CSM Tetuán Infanto Juvenil   </td><td>0796</td><td>CalleAguileñas1    </td><td>-3.693674</td><td>40.46551</td><td></td></tr>\n",
       "\t<tr><td>Salud</td><td>Centros de Salud Mental</td><td>CSM Alcalá  de Henarés I y II</td><td>0053</td><td>CalleOctavio Paz15 </td><td>-3.372979</td><td>40.50001</td><td></td></tr>\n",
       "</tbody>\n",
       "</table>\n"
      ],
      "text/latex": [
       "A data.frame: 5 × 8\n",
       "\\begin{tabular}{llllllll}\n",
       " grupo & tipo & nombre & CODMUN & DIRECCION & X & Y & info\\\\\n",
       " <chr> & <chr> & <chr> & <chr> & <chr> & <dbl> & <dbl> & <chr>\\\\\n",
       "\\hline\n",
       "\t Salud & Centros de Salud Mental & CSM Villa Vallecas            & 0796 & CalleSan Claudio154 & -3.639029 & 40.38860 & \\\\\n",
       "\t Salud & Centros de Salud Mental & CSM Coslada                   & 0493 & AvenidaEspañas/n    & -3.552246 & 40.42087 & \\\\\n",
       "\t Salud & Centros de Salud Mental & CSM Salamanca                 & 0796 & CalleO'Donnell55    & -3.671368 & 40.42154 & \\\\\n",
       "\t Salud & Centros de Salud Mental & CSM Tetuán Infanto Juvenil    & 0796 & CalleAguileñas1     & -3.693674 & 40.46551 & \\\\\n",
       "\t Salud & Centros de Salud Mental & CSM Alcalá  de Henarés I y II & 0053 & CalleOctavio Paz15  & -3.372979 & 40.50001 & \\\\\n",
       "\\end{tabular}\n"
      ],
      "text/markdown": [
       "\n",
       "A data.frame: 5 × 8\n",
       "\n",
       "| grupo &lt;chr&gt; | tipo &lt;chr&gt; | nombre &lt;chr&gt; | CODMUN &lt;chr&gt; | DIRECCION &lt;chr&gt; | X &lt;dbl&gt; | Y &lt;dbl&gt; | info &lt;chr&gt; |\n",
       "|---|---|---|---|---|---|---|---|\n",
       "| Salud | Centros de Salud Mental | CSM Villa Vallecas            | 0796 | CalleSan Claudio154 | -3.639029 | 40.38860 | <!----> |\n",
       "| Salud | Centros de Salud Mental | CSM Coslada                   | 0493 | AvenidaEspañas/n    | -3.552246 | 40.42087 | <!----> |\n",
       "| Salud | Centros de Salud Mental | CSM Salamanca                 | 0796 | CalleO'Donnell55    | -3.671368 | 40.42154 | <!----> |\n",
       "| Salud | Centros de Salud Mental | CSM Tetuán Infanto Juvenil    | 0796 | CalleAguileñas1     | -3.693674 | 40.46551 | <!----> |\n",
       "| Salud | Centros de Salud Mental | CSM Alcalá  de Henarés I y II | 0053 | CalleOctavio Paz15  | -3.372979 | 40.50001 | <!----> |\n",
       "\n"
      ],
      "text/plain": [
       "  grupo tipo                    nombre                        CODMUN\n",
       "1 Salud Centros de Salud Mental CSM Villa Vallecas            0796  \n",
       "2 Salud Centros de Salud Mental CSM Coslada                   0493  \n",
       "3 Salud Centros de Salud Mental CSM Salamanca                 0796  \n",
       "4 Salud Centros de Salud Mental CSM Tetuán Infanto Juvenil    0796  \n",
       "5 Salud Centros de Salud Mental CSM Alcalá  de Henarés I y II 0053  \n",
       "  DIRECCION           X         Y        info\n",
       "1 CalleSan Claudio154 -3.639029 40.38860     \n",
       "2 AvenidaEspañas/n    -3.552246 40.42087     \n",
       "3 CalleO'Donnell55    -3.671368 40.42154     \n",
       "4 CalleAguileñas1     -3.693674 40.46551     \n",
       "5 CalleOctavio Paz15  -3.372979 40.50001     "
      ]
     },
     "metadata": {},
     "output_type": "display_data"
    }
   ],
   "source": [
    "tdata_11 |> slice_head(n = 5)"
   ]
  },
  {
   "cell_type": "code",
   "execution_count": 134,
   "metadata": {
    "vscode": {
     "languageId": "r"
    }
   },
   "outputs": [],
   "source": [
    "tdata_12 <- data_12 |>\n",
    "  mutate(tipo = \"Hospitales\",\n",
    "         grupo = \"Salud\",\n",
    "         info = paste0(\"CAMAS: \", CAMAS, \"; \", \"Clase: \", `Clase de Centro`),\n",
    "         DIRECCION = Dirección,\n",
    "         CODMUN = as.character(`Cód. Municipio`)) |> \n",
    "  select(grupo,\n",
    "         tipo, \n",
    "         nombre = `Nombre Centro`, \n",
    "         CODMUN, \n",
    "         DIRECCION, \n",
    "         X, Y,\n",
    "         info) \n"
   ]
  },
  {
   "cell_type": "code",
   "execution_count": 136,
   "metadata": {
    "vscode": {
     "languageId": "r"
    }
   },
   "outputs": [
    {
     "data": {
      "text/html": [
       "<table class=\"dataframe\">\n",
       "<caption>A tibble: 5 × 8</caption>\n",
       "<thead>\n",
       "\t<tr><th scope=col>grupo</th><th scope=col>tipo</th><th scope=col>nombre</th><th scope=col>CODMUN</th><th scope=col>DIRECCION</th><th scope=col>X</th><th scope=col>Y</th><th scope=col>info</th></tr>\n",
       "\t<tr><th scope=col>&lt;chr&gt;</th><th scope=col>&lt;chr&gt;</th><th scope=col>&lt;chr&gt;</th><th scope=col>&lt;chr&gt;</th><th scope=col>&lt;chr&gt;</th><th scope=col>&lt;dbl&gt;</th><th scope=col>&lt;dbl&gt;</th><th scope=col>&lt;chr&gt;</th></tr>\n",
       "</thead>\n",
       "<tbody>\n",
       "\t<tr><td>Salud</td><td>Hospitales</td><td>HOSPITAL HM VALLES                         </td><td>280053</td><td>CALLE SANTIAGO 14           </td><td>-3.367372</td><td>40.48302</td><td>CAMAS: 20; Clase: Otros Centros con Internamiento</td></tr>\n",
       "\t<tr><td>Salud</td><td>Hospitales</td><td>HOSPITAL UNIVERSITARIO PRINCIPE DE ASTURIAS</td><td>280053</td><td>CARRETERA DE MECO S/N       </td><td>-3.347602</td><td>40.51025</td><td>CAMAS: 507; Clase: Hospitales Generales          </td></tr>\n",
       "\t<tr><td>Salud</td><td>Hospitales</td><td>HOSPITAL QUIRONSALUD SUR                   </td><td>280072</td><td>CALLE DE ESTAMBUL 30        </td><td>-3.849035</td><td>40.34248</td><td>CAMAS: 81; Clase: Hospitales Generales           </td></tr>\n",
       "\t<tr><td>Salud</td><td>Hospitales</td><td>HOSPITAL UNIVERSITARIO FUNDACION ALCORCON  </td><td>280072</td><td>CALLE BUDAPEST 1            </td><td>-3.837394</td><td>40.34887</td><td>CAMAS: 402; Clase: Hospitales Generales          </td></tr>\n",
       "\t<tr><td>Salud</td><td>Hospitales</td><td>HOSPITAL DEL TAJO S.A.                     </td><td>280133</td><td>AVENIDA AMAZONAS CENTRAL S/N</td><td>-3.610795</td><td>40.05726</td><td>CAMAS: 98; Clase: Hospitales Generales           </td></tr>\n",
       "</tbody>\n",
       "</table>\n"
      ],
      "text/latex": [
       "A tibble: 5 × 8\n",
       "\\begin{tabular}{llllllll}\n",
       " grupo & tipo & nombre & CODMUN & DIRECCION & X & Y & info\\\\\n",
       " <chr> & <chr> & <chr> & <chr> & <chr> & <dbl> & <dbl> & <chr>\\\\\n",
       "\\hline\n",
       "\t Salud & Hospitales & HOSPITAL HM VALLES                          & 280053 & CALLE SANTIAGO 14            & -3.367372 & 40.48302 & CAMAS: 20; Clase: Otros Centros con Internamiento\\\\\n",
       "\t Salud & Hospitales & HOSPITAL UNIVERSITARIO PRINCIPE DE ASTURIAS & 280053 & CARRETERA DE MECO S/N        & -3.347602 & 40.51025 & CAMAS: 507; Clase: Hospitales Generales          \\\\\n",
       "\t Salud & Hospitales & HOSPITAL QUIRONSALUD SUR                    & 280072 & CALLE DE ESTAMBUL 30         & -3.849035 & 40.34248 & CAMAS: 81; Clase: Hospitales Generales           \\\\\n",
       "\t Salud & Hospitales & HOSPITAL UNIVERSITARIO FUNDACION ALCORCON   & 280072 & CALLE BUDAPEST 1             & -3.837394 & 40.34887 & CAMAS: 402; Clase: Hospitales Generales          \\\\\n",
       "\t Salud & Hospitales & HOSPITAL DEL TAJO S.A.                      & 280133 & AVENIDA AMAZONAS CENTRAL S/N & -3.610795 & 40.05726 & CAMAS: 98; Clase: Hospitales Generales           \\\\\n",
       "\\end{tabular}\n"
      ],
      "text/markdown": [
       "\n",
       "A tibble: 5 × 8\n",
       "\n",
       "| grupo &lt;chr&gt; | tipo &lt;chr&gt; | nombre &lt;chr&gt; | CODMUN &lt;chr&gt; | DIRECCION &lt;chr&gt; | X &lt;dbl&gt; | Y &lt;dbl&gt; | info &lt;chr&gt; |\n",
       "|---|---|---|---|---|---|---|---|\n",
       "| Salud | Hospitales | HOSPITAL HM VALLES                          | 280053 | CALLE SANTIAGO 14            | -3.367372 | 40.48302 | CAMAS: 20; Clase: Otros Centros con Internamiento |\n",
       "| Salud | Hospitales | HOSPITAL UNIVERSITARIO PRINCIPE DE ASTURIAS | 280053 | CARRETERA DE MECO S/N        | -3.347602 | 40.51025 | CAMAS: 507; Clase: Hospitales Generales           |\n",
       "| Salud | Hospitales | HOSPITAL QUIRONSALUD SUR                    | 280072 | CALLE DE ESTAMBUL 30         | -3.849035 | 40.34248 | CAMAS: 81; Clase: Hospitales Generales            |\n",
       "| Salud | Hospitales | HOSPITAL UNIVERSITARIO FUNDACION ALCORCON   | 280072 | CALLE BUDAPEST 1             | -3.837394 | 40.34887 | CAMAS: 402; Clase: Hospitales Generales           |\n",
       "| Salud | Hospitales | HOSPITAL DEL TAJO S.A.                      | 280133 | AVENIDA AMAZONAS CENTRAL S/N | -3.610795 | 40.05726 | CAMAS: 98; Clase: Hospitales Generales            |\n",
       "\n"
      ],
      "text/plain": [
       "  grupo tipo       nombre                                      CODMUN\n",
       "1 Salud Hospitales HOSPITAL HM VALLES                          280053\n",
       "2 Salud Hospitales HOSPITAL UNIVERSITARIO PRINCIPE DE ASTURIAS 280053\n",
       "3 Salud Hospitales HOSPITAL QUIRONSALUD SUR                    280072\n",
       "4 Salud Hospitales HOSPITAL UNIVERSITARIO FUNDACION ALCORCON   280072\n",
       "5 Salud Hospitales HOSPITAL DEL TAJO S.A.                      280133\n",
       "  DIRECCION                    X         Y       \n",
       "1 CALLE SANTIAGO 14            -3.367372 40.48302\n",
       "2 CARRETERA DE MECO S/N        -3.347602 40.51025\n",
       "3 CALLE DE ESTAMBUL 30         -3.849035 40.34248\n",
       "4 CALLE BUDAPEST 1             -3.837394 40.34887\n",
       "5 AVENIDA AMAZONAS CENTRAL S/N -3.610795 40.05726\n",
       "  info                                             \n",
       "1 CAMAS: 20; Clase: Otros Centros con Internamiento\n",
       "2 CAMAS: 507; Clase: Hospitales Generales          \n",
       "3 CAMAS: 81; Clase: Hospitales Generales           \n",
       "4 CAMAS: 402; Clase: Hospitales Generales          \n",
       "5 CAMAS: 98; Clase: Hospitales Generales           "
      ]
     },
     "metadata": {},
     "output_type": "display_data"
    }
   ],
   "source": [
    "tdata_12 |> slice_head(n = 5)"
   ]
  },
  {
   "cell_type": "code",
   "execution_count": 137,
   "metadata": {
    "vscode": {
     "languageId": "r"
    }
   },
   "outputs": [],
   "source": [
    "data <-  \n",
    "  bind_rows(tdata_01, tdata_02, tdata_03,\n",
    "  tdata_04, tdata_05, tdata_06,\n",
    "  tdata_07, tdata_08, tdata_09,\n",
    "  tdata_10, tdata_11, tdata_12)"
   ]
  },
  {
   "cell_type": "code",
   "execution_count": 142,
   "metadata": {
    "vscode": {
     "languageId": "r"
    }
   },
   "outputs": [
    {
     "name": "stdout",
     "output_type": "stream",
     "text": [
      "Rows: 1,633\n",
      "Columns: 8\n",
      "$ grupo     \u001b[3m\u001b[90m<chr>\u001b[39m\u001b[23m \"Transporte\", \"Transporte\", \"Transporte\", \"Transporte\", \"Tra…\n",
      "$ tipo      \u001b[3m\u001b[90m<chr>\u001b[39m\u001b[23m \"Intercambiadores\", \"Intercambiadores\", \"Intercambiadores\", …\n",
      "$ nombre    \u001b[3m\u001b[90m<chr>\u001b[39m\u001b[23m \"Grandes Intercambiadores Plaza Elíptica\", \"Grandes Intercam…\n",
      "$ CODMUN    \u001b[3m\u001b[90m<chr>\u001b[39m\u001b[23m \"079\", \"079\", \"079\", \"079\", \"079\", \"079\", \"079\", \"079\", \"079…\n",
      "$ DIRECCION \u001b[3m\u001b[90m<chr>\u001b[39m\u001b[23m \"Plaza Elíptica s/n\", \"Calle Princesa, 89\", \"Estación Prínci…\n",
      "$ X         \u001b[3m\u001b[90m<dbl>\u001b[39m\u001b[23m -3.716577, -3.719508, -3.719560, -3.689044, -3.676731, -3.68…\n",
      "$ Y         \u001b[3m\u001b[90m<dbl>\u001b[39m\u001b[23m 40.38540, 40.43474, 40.42080, 40.46719, 40.43797, 40.47198, …\n",
      "$ info      \u001b[3m\u001b[90m<chr>\u001b[39m\u001b[23m \"\", \"\", \"\", \"\", \"\", \"\", \"\", \"\", \"\", \"\", \"\", \"\", \"\", \"\", \"\", …\n"
     ]
    }
   ],
   "source": [
    "glimpse(data)"
   ]
  },
  {
   "cell_type": "code",
   "execution_count": 143,
   "metadata": {
    "vscode": {
     "languageId": "r"
    }
   },
   "outputs": [
    {
     "data": {
      "text/html": [
       "<table class=\"dataframe\">\n",
       "<caption>A data.frame: 5 × 8</caption>\n",
       "<thead>\n",
       "\t<tr><th scope=col>grupo</th><th scope=col>tipo</th><th scope=col>nombre</th><th scope=col>CODMUN</th><th scope=col>DIRECCION</th><th scope=col>X</th><th scope=col>Y</th><th scope=col>info</th></tr>\n",
       "\t<tr><th scope=col>&lt;chr&gt;</th><th scope=col>&lt;chr&gt;</th><th scope=col>&lt;chr&gt;</th><th scope=col>&lt;chr&gt;</th><th scope=col>&lt;chr&gt;</th><th scope=col>&lt;dbl&gt;</th><th scope=col>&lt;dbl&gt;</th><th scope=col>&lt;chr&gt;</th></tr>\n",
       "</thead>\n",
       "<tbody>\n",
       "\t<tr><td>Transporte</td><td>Intercambiadores</td><td>Grandes Intercambiadores Plaza Elíptica    </td><td>079</td><td>Plaza Elíptica s/n                      </td><td>-3.716577</td><td>40.38540</td><td></td></tr>\n",
       "\t<tr><td>Transporte</td><td>Intercambiadores</td><td>Grandes Intercambiadores Moncloa           </td><td>079</td><td>Calle Princesa, 89                      </td><td>-3.719508</td><td>40.43474</td><td></td></tr>\n",
       "\t<tr><td>Transporte</td><td>Intercambiadores</td><td>Grandes Intercambiadores Príncipe Pío      </td><td>079</td><td>Estación Príncipe Pío                   </td><td>-3.719560</td><td>40.42080</td><td></td></tr>\n",
       "\t<tr><td>Transporte</td><td>Intercambiadores</td><td>Grandes Intercambiadores Plaza de Castilla </td><td>079</td><td>Calle San Aquilino y Avenida de Asturias</td><td>-3.689044</td><td>40.46719</td><td></td></tr>\n",
       "\t<tr><td>Transporte</td><td>Intercambiadores</td><td>Grandes Intercambiadores Avenida de América</td><td>079</td><td>Avenida de América 9 A                  </td><td>-3.676731</td><td>40.43797</td><td></td></tr>\n",
       "</tbody>\n",
       "</table>\n"
      ],
      "text/latex": [
       "A data.frame: 5 × 8\n",
       "\\begin{tabular}{llllllll}\n",
       " grupo & tipo & nombre & CODMUN & DIRECCION & X & Y & info\\\\\n",
       " <chr> & <chr> & <chr> & <chr> & <chr> & <dbl> & <dbl> & <chr>\\\\\n",
       "\\hline\n",
       "\t Transporte & Intercambiadores & Grandes Intercambiadores Plaza Elíptica     & 079 & Plaza Elíptica s/n                       & -3.716577 & 40.38540 & \\\\\n",
       "\t Transporte & Intercambiadores & Grandes Intercambiadores Moncloa            & 079 & Calle Princesa, 89                       & -3.719508 & 40.43474 & \\\\\n",
       "\t Transporte & Intercambiadores & Grandes Intercambiadores Príncipe Pío       & 079 & Estación Príncipe Pío                    & -3.719560 & 40.42080 & \\\\\n",
       "\t Transporte & Intercambiadores & Grandes Intercambiadores Plaza de Castilla  & 079 & Calle San Aquilino y Avenida de Asturias & -3.689044 & 40.46719 & \\\\\n",
       "\t Transporte & Intercambiadores & Grandes Intercambiadores Avenida de América & 079 & Avenida de América 9 A                   & -3.676731 & 40.43797 & \\\\\n",
       "\\end{tabular}\n"
      ],
      "text/markdown": [
       "\n",
       "A data.frame: 5 × 8\n",
       "\n",
       "| grupo &lt;chr&gt; | tipo &lt;chr&gt; | nombre &lt;chr&gt; | CODMUN &lt;chr&gt; | DIRECCION &lt;chr&gt; | X &lt;dbl&gt; | Y &lt;dbl&gt; | info &lt;chr&gt; |\n",
       "|---|---|---|---|---|---|---|---|\n",
       "| Transporte | Intercambiadores | Grandes Intercambiadores Plaza Elíptica     | 079 | Plaza Elíptica s/n                       | -3.716577 | 40.38540 | <!----> |\n",
       "| Transporte | Intercambiadores | Grandes Intercambiadores Moncloa            | 079 | Calle Princesa, 89                       | -3.719508 | 40.43474 | <!----> |\n",
       "| Transporte | Intercambiadores | Grandes Intercambiadores Príncipe Pío       | 079 | Estación Príncipe Pío                    | -3.719560 | 40.42080 | <!----> |\n",
       "| Transporte | Intercambiadores | Grandes Intercambiadores Plaza de Castilla  | 079 | Calle San Aquilino y Avenida de Asturias | -3.689044 | 40.46719 | <!----> |\n",
       "| Transporte | Intercambiadores | Grandes Intercambiadores Avenida de América | 079 | Avenida de América 9 A                   | -3.676731 | 40.43797 | <!----> |\n",
       "\n"
      ],
      "text/plain": [
       "  grupo      tipo             nombre                                     \n",
       "1 Transporte Intercambiadores Grandes Intercambiadores Plaza Elíptica    \n",
       "2 Transporte Intercambiadores Grandes Intercambiadores Moncloa           \n",
       "3 Transporte Intercambiadores Grandes Intercambiadores Príncipe Pío      \n",
       "4 Transporte Intercambiadores Grandes Intercambiadores Plaza de Castilla \n",
       "5 Transporte Intercambiadores Grandes Intercambiadores Avenida de América\n",
       "  CODMUN DIRECCION                                X         Y        info\n",
       "1 079    Plaza Elíptica s/n                       -3.716577 40.38540     \n",
       "2 079    Calle Princesa, 89                       -3.719508 40.43474     \n",
       "3 079    Estación Príncipe Pío                    -3.719560 40.42080     \n",
       "4 079    Calle San Aquilino y Avenida de Asturias -3.689044 40.46719     \n",
       "5 079    Avenida de América 9 A                   -3.676731 40.43797     "
      ]
     },
     "metadata": {},
     "output_type": "display_data"
    }
   ],
   "source": [
    "data |> slice_head(n = 5)"
   ]
  },
  {
   "cell_type": "markdown",
   "metadata": {
    "slideshow": {
     "slide_type": "slide"
    }
   },
   "source": [
    "## Synthetic Data Generation"
   ]
  },
  {
   "attachments": {},
   "cell_type": "markdown",
   "metadata": {
    "slideshow": {
     "slide_type": "slide"
    }
   },
   "source": [
    "Estos datos no requieren tareas de este tipo."
   ]
  },
  {
   "cell_type": "markdown",
   "metadata": {
    "slideshow": {
     "slide_type": "slide"
    }
   },
   "source": [
    "## Fake Data Generation"
   ]
  },
  {
   "attachments": {},
   "cell_type": "markdown",
   "metadata": {
    "slideshow": {
     "slide_type": "slide"
    }
   },
   "source": [
    "Estos datos no requieren tareas de este tipo."
   ]
  },
  {
   "cell_type": "markdown",
   "metadata": {
    "slideshow": {
     "slide_type": "slide"
    }
   },
   "source": [
    "## Open Data"
   ]
  },
  {
   "attachments": {},
   "cell_type": "markdown",
   "metadata": {
    "slideshow": {
     "slide_type": "slide"
    }
   },
   "source": [
    "Los archivos proceden de fuentes abiertas en tareas anteriores."
   ]
  },
  {
   "cell_type": "markdown",
   "metadata": {},
   "source": [
    "## <font color='green'>Data Save</font>"
   ]
  },
  {
   "attachments": {},
   "cell_type": "markdown",
   "metadata": {},
   "source": [
    "Este proceso, puede copiarse y repetirse en aquellas partes del notebbok que necesiten guardar datos.\n",
    "Recuerde cambiar las cadenas añadida del fichero para diferenciarlas"
   ]
  },
  {
   "cell_type": "markdown",
   "metadata": {},
   "source": [
    "<font color='tomato'> Identificamos los datos a guardar</font>"
   ]
  },
  {
   "cell_type": "code",
   "execution_count": null,
   "metadata": {
    "ExecuteTime": {
     "end_time": "2020-12-25T17:59:27.022001Z",
     "start_time": "2020-12-25T17:59:15.986986Z"
    },
    "scrolled": false,
    "vscode": {
     "languageId": "r"
    }
   },
   "outputs": [],
   "source": [
    "data_to_save <- data"
   ]
  },
  {
   "attachments": {},
   "cell_type": "markdown",
   "metadata": {},
   "source": [
    "\n",
    "<font color='tomato'>Estructura de nombre de archivos:</font>\n",
    "\n",
    "* Código del caso de uso, por ejemplo \"CU_04\"\n",
    "* Número del proceso que lo genera, por ejemplo \"_05\".\n",
    "* Número de la tarea que lo genera, por ejemplo \"_01\"\n",
    "* En caso de generarse varios ficheros en la misma tarea, llevarán _01 _02 ... después\n",
    "* Nombre: identificativo de \"properData\", por ejemplo \"_zonasgeo\"\n",
    "* Extensión del archivo\n",
    "\n",
    "Ejemplo: \"CU_04_05_01_01_zonasgeo.json, primer fichero que se genera en la tarea 01 del proceso 05 (Data Collection) para el caso de uso 04 (vacunas)\n",
    "\n",
    "Importante mantener los guiones bajos antes de proceso, tarea, archivo y nombre"
   ]
  },
  {
   "attachments": {},
   "cell_type": "markdown",
   "metadata": {},
   "source": [
    "### Proceso 05"
   ]
  },
  {
   "cell_type": "code",
   "execution_count": 138,
   "metadata": {
    "ExecuteTime": {
     "end_time": "2020-12-25T17:59:27.022001Z",
     "start_time": "2020-12-25T17:59:15.986986Z"
    },
    "scrolled": false,
    "vscode": {
     "languageId": "r"
    }
   },
   "outputs": [],
   "source": [
    "caso <- \"CU_18\"\n",
    "proceso <- '_05'\n",
    "tarea <- \"_02\"\n",
    "archivo <- \"\"\n",
    "proper <- \"_infraestructuras\"\n",
    "extension <- \".csv\""
   ]
  },
  {
   "attachments": {},
   "cell_type": "markdown",
   "metadata": {},
   "source": [
    "<font color='tomato'><b> OPCION A:</b> Uso del paquete \"tcltk\" para mayor comodidad</font>\n",
    "\n",
    "* Buscar carpeta, escribir nombre de archivo SIN extensión (se especifica en el código)\n",
    "* Especificar sufijo2 si es necesario\n",
    "* Cambiar datos por datos_xx si es necesario"
   ]
  },
  {
   "cell_type": "code",
   "execution_count": null,
   "metadata": {
    "ExecuteTime": {
     "end_time": "2020-12-25T17:59:27.022001Z",
     "start_time": "2020-12-25T17:59:15.986986Z"
    },
    "scrolled": false,
    "vscode": {
     "languageId": "r"
    }
   },
   "outputs": [],
   "source": [
    "# file_save <- paste0(caso, proceso, tarea, tcltk::tkgetSaveFile(), proper, extension) \n",
    "# path_out <- paste0(oPath, file_save)\n",
    "# write_csv(data, path_out)\n",
    "\n",
    "# cat('File saved as: ')\n",
    "# path_out"
   ]
  },
  {
   "attachments": {},
   "cell_type": "markdown",
   "metadata": {},
   "source": [
    "<font color='tomato'><b> OPCION B:</b> Especificar el nombre de archivo</font>"
   ]
  },
  {
   "attachments": {},
   "cell_type": "markdown",
   "metadata": {},
   "source": [
    "- Los ficheros de salida del proceso van siempre a Data/Output/.  "
   ]
  },
  {
   "cell_type": "code",
   "execution_count": 140,
   "metadata": {
    "ExecuteTime": {
     "end_time": "2021-01-26T18:40:31.258294Z",
     "start_time": "2021-01-26T18:40:26.061847Z"
    },
    "slideshow": {
     "slide_type": "subslide"
    },
    "vscode": {
     "languageId": "r"
    }
   },
   "outputs": [
    {
     "name": "stdout",
     "output_type": "stream",
     "text": [
      "File saved as: "
     ]
    },
    {
     "data": {
      "text/html": [
       "'Data/Output/CU_18_05_02_infraestructuras.csv'"
      ],
      "text/latex": [
       "'Data/Output/CU\\_18\\_05\\_02\\_infraestructuras.csv'"
      ],
      "text/markdown": [
       "'Data/Output/CU_18_05_02_infraestructuras.csv'"
      ],
      "text/plain": [
       "[1] \"Data/Output/CU_18_05_02_infraestructuras.csv\""
      ]
     },
     "metadata": {},
     "output_type": "display_data"
    }
   ],
   "source": [
    "file_save <- paste0(caso, proceso, tarea, archivo, proper, extension) \n",
    "path_out <- paste0(oPath, file_save)\n",
    "write_csv(data, path_out)\n",
    "\n",
    "cat('File saved as: ')\n",
    "path_out"
   ]
  },
  {
   "attachments": {},
   "cell_type": "markdown",
   "metadata": {},
   "source": [
    "#### Copia del fichero a Input\n",
    "\n",
    "Si el archivo se va a usar en otros notebooks, copiar a la carpeta Input"
   ]
  },
  {
   "cell_type": "code",
   "execution_count": 141,
   "metadata": {
    "vscode": {
     "languageId": "r"
    }
   },
   "outputs": [
    {
     "data": {
      "text/html": [
       "TRUE"
      ],
      "text/latex": [
       "TRUE"
      ],
      "text/markdown": [
       "TRUE"
      ],
      "text/plain": [
       "[1] TRUE"
      ]
     },
     "metadata": {},
     "output_type": "display_data"
    }
   ],
   "source": [
    "path_in <- paste0(iPath, file_save)\n",
    "file.copy(path_out, path_in, overwrite = TRUE)"
   ]
  },
  {
   "cell_type": "markdown",
   "metadata": {},
   "source": [
    "## <font color=' #2874a6 '>Main Conclusions</font>"
   ]
  },
  {
   "cell_type": "markdown",
   "metadata": {
    "slideshow": {
     "slide_type": "slide"
    }
   },
   "source": [
    "<font color='steelblue'>List and describe the general conclusions of the analysis carried out​.</font>"
   ]
  },
  {
   "attachments": {},
   "cell_type": "markdown",
   "metadata": {},
   "source": [
    "### Prerequisites\n",
    "\n",
    "This working code needs the following conditions:\n",
    "\n",
    "* For using the interactive selection of file, the {tcltk} package must be installed. It is not needed in production.\n",
    "* The {dplyr}, {readr} and {sf} packages must be installed. \n",
    "* The data paths `Data/Input` and `Data/Output` must exist (relative to the notebook path)"
   ]
  },
  {
   "attachments": {},
   "cell_type": "markdown",
   "metadata": {},
   "source": [
    "### Configuration Management\n",
    "\n",
    "This notebook has been tested with the following versions of R and packages. It cannot be assured that later versions work in the same way:\n",
    "* R 4.2.2\n",
    "* tcltk 4.2.2\n",
    "* dplyr 1.0.10\n",
    "* readr 2.1.3\n",
    "\n"
   ]
  },
  {
   "attachments": {},
   "cell_type": "markdown",
   "metadata": {},
   "source": [
    "### Data structures"
   ]
  },
  {
   "attachments": {},
   "cell_type": "markdown",
   "metadata": {},
   "source": [
    "#### Objeto `data`\n",
    "\n",
    "- Los datos de origen contienen información diversa que se ha homogeneizado en el archivo de salida\n",
    "- Hay 1633 filas con las variables: \n",
    "    * grupo\n",
    "\t* tipo\n",
    "\t* nombre\n",
    "\t* CODMUN\n",
    "\t* DIRECCION\n",
    "\t* X\n",
    "\t* Y\n",
    "\t* info\n"
   ]
  },
  {
   "attachments": {},
   "cell_type": "markdown",
   "metadata": {},
   "source": [
    "#### Observaciones generales sobre los datos\n",
    "\n",
    "* Las infraestructuras de metro están por \"boca de metro\". Al aplicar los modelos, ver si conviene agrupar por estación.\n",
    "* La proyección de origen de la georeferenciación es ETRS89 (CRS 4258). En todo el proyecto se está utilizando prioritariamente WGS 84 (CRS 4326), por lo que se hace esta transformación. Si en algún momento esto cambia habría que modificar lo que corresponda en el apartado de transformación de datos"
   ]
  },
  {
   "attachments": {},
   "cell_type": "markdown",
   "metadata": {},
   "source": [
    "### Consideraciones para despliegue en piloto\n",
    "\n",
    "* Los datos de origen fueron obtenidos de https://gestiona.comunidad.madrid/nomecalles/DescargaBDTCorte.icm#delimitacionesterritoriales en fichero zip con formato .shp y descomprimido en la carpeta Data/Input\n",
    "* Si la información geográfica cambia, se debería actualizar el fichero y volver a ejecutar todos los procesos."
   ]
  },
  {
   "attachments": {},
   "cell_type": "markdown",
   "metadata": {},
   "source": [
    "### Consideraciones para despliegue en producción\n",
    "\n",
    "* Se deben crear los procesos ETL en producción necesarios para que los datos de entrada estén actualizados"
   ]
  },
  {
   "cell_type": "markdown",
   "metadata": {},
   "source": [
    "## <font color=' #2874a6 '>Main Actions</font>"
   ]
  },
  {
   "cell_type": "markdown",
   "metadata": {},
   "source": [
    "#### <font color=' #2874a6 '>Acciones done</font>"
   ]
  },
  {
   "cell_type": "markdown",
   "metadata": {
    "slideshow": {
     "slide_type": "slide"
    }
   },
   "source": [
    "<font color='steelblue'>Indicate the actions that have been carried out in this process</font>"
   ]
  },
  {
   "attachments": {},
   "cell_type": "markdown",
   "metadata": {},
   "source": [
    "- Se han transformado las geometrías a WGS 84 (CRS 4326)"
   ]
  },
  {
   "attachments": {},
   "cell_type": "markdown",
   "metadata": {},
   "source": [
    "#### <font color=' #2874a6 '>Actions to perform</font>"
   ]
  },
  {
   "cell_type": "markdown",
   "metadata": {
    "slideshow": {
     "slide_type": "slide"
    }
   },
   "source": [
    "<font color='steelblue'>Indicate the actions that must be carried out in subsequent processes</font>"
   ]
  },
  {
   "attachments": {},
   "cell_type": "markdown",
   "metadata": {},
   "source": [
    "- Asignar sección censal\n",
    "- Asignar capacidad de cada infraestructura\n",
    "- Obtener datos de ocupación por día de las infraestructuras\n",
    "- Agregar por sección censal"
   ]
  },
  {
   "attachments": {},
   "cell_type": "markdown",
   "metadata": {},
   "source": [
    "## <font color='RED'>CODE TO DEPLOY (PILOT)</font>\n",
    "\n",
    "A continuación se incluirá el código que deba ser llevado a despliegue para producción, dado que se entiende efectúa operaciones necesarias sobre los datos en la ejecución del prototipo"
   ]
  },
  {
   "attachments": {},
   "cell_type": "markdown",
   "metadata": {},
   "source": [
    "<font color=' red '><b>Description</b></font>\n",
    "\n",
    "- No hay nada que desplegar en el piloto, ya que estos datos son estáticos o en todo caso cambian con muy poca frecuencia, altamente improbable durante el proyecto.\n"
   ]
  },
  {
   "attachments": {},
   "cell_type": "markdown",
   "metadata": {},
   "source": [
    "<font color=' red '><b>CODE</b></font>"
   ]
  },
  {
   "cell_type": "code",
   "execution_count": null,
   "metadata": {
    "vscode": {
     "languageId": "r"
    }
   },
   "outputs": [],
   "source": [
    "# incluir código"
   ]
  }
 ],
 "metadata": {
  "anaconda-cloud": {},
  "celltoolbar": "Slideshow",
  "hide_input": false,
  "kernelspec": {
   "display_name": "R",
   "language": "R",
   "name": "ir"
  },
  "language_info": {
   "codemirror_mode": "r",
   "file_extension": ".r",
   "mimetype": "text/x-r-source",
   "name": "R",
   "pygments_lexer": "r",
   "version": "4.2.2"
  },
  "latex_envs": {
   "LaTeX_envs_menu_present": true,
   "autoclose": false,
   "autocomplete": true,
   "bibliofile": "biblio.bib",
   "cite_by": "apalike",
   "current_citInitial": 1,
   "eqLabelWithNumbers": true,
   "eqNumInitial": 1,
   "hotkeys": {
    "equation": "Ctrl-E",
    "itemize": "Ctrl-I"
   },
   "labels_anchors": false,
   "latex_user_defs": false,
   "report_style_numbering": true,
   "user_envs_cfg": false
  },
  "toc": {
   "base_numbering": 1,
   "nav_menu": {
    "height": "11.6px",
    "width": "160px"
   },
   "number_sections": false,
   "sideBar": true,
   "skip_h1_title": true,
   "title_cell": "Table of Contents",
   "title_sidebar": "Contents",
   "toc_cell": true,
   "toc_position": {
    "height": "calc(100% - 180px)",
    "left": "10px",
    "top": "150px",
    "width": "209.2px"
   },
   "toc_section_display": true,
   "toc_window_display": true
  },
  "varInspector": {
   "cols": {
    "lenName": 16,
    "lenType": 16,
    "lenVar": 40
   },
   "kernels_config": {
    "python": {
     "delete_cmd_postfix": "",
     "delete_cmd_prefix": "del ",
     "library": "var_list.py",
     "varRefreshCmd": "print(var_dic_list())"
    },
    "r": {
     "delete_cmd_postfix": ") ",
     "delete_cmd_prefix": "rm(",
     "library": "var_list.r",
     "varRefreshCmd": "cat(var_dic_list()) "
    }
   },
   "types_to_exclude": [
    "module",
    "function",
    "builtin_function_or_method",
    "instance",
    "_Feature"
   ],
   "window_display": false
  }
 },
 "nbformat": 4,
 "nbformat_minor": 1
}
