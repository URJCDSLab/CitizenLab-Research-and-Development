{
 "cells": [
  {
   "cell_type": "markdown",
   "metadata": {
    "slideshow": {
     "slide_type": "slide"
    }
   },
   "source": [
    "<img src=\".\\images\\Logo.png\" width=150 align=\"left\" /> <img src=\".\\images\\Logo2.jpg\" width=450 align=\"right\" />"
   ]
  },
  {
   "attachments": {},
   "cell_type": "markdown",
   "metadata": {
    "slideshow": {
     "slide_type": "slide"
    }
   },
   "source": [
    "\n",
    "# <center><font color= #1e8449 > <b>CU18_Infraestructuras_eventos</font></center>\n",
    "\n"
   ]
  },
  {
   "cell_type": "markdown",
   "metadata": {
    "slideshow": {
     "slide_type": "slide"
    }
   },
   "source": [
    "<font color='steelblue'><b>Citizenlab Data Science Methodology > II - Data Processing Domain </font>\n",
    "***\n",
    "> # <font color='steelblue'> <b>05.- Data Collection</font>"
   ]
  },
  {
   "cell_type": "markdown",
   "metadata": {
    "slideshow": {
     "slide_type": "slide"
    }
   },
   "source": [
    "<font color='steelblue'>Data Collection is the process to obtain and generate (if required) necessary data to model the problem.</font>"
   ]
  },
  {
   "attachments": {},
   "cell_type": "markdown",
   "metadata": {},
   "source": [
    "### 20. Interpolar variables clima a infraestructuras\n",
    "\n",
    "* A partir de los datos de las estaciones de medición AEMET, se interpolan por kriging los valores estimados en cada infraestructura\n",
    "\n",
    "\n",
    "\n",
    "\n",
    "\n"
   ]
  },
  {
   "cell_type": "markdown",
   "metadata": {
    "toc": true
   },
   "source": [
    "<h1>Table of Contents<span class=\"tocSkip\"></span></h1>\n",
    "<div class=\"toc\"><ul class=\"toc-item\"><li><span><a href=\"#Settings\" data-toc-modified-id=\"Settings-1\"><font color=\"green\">Settings</font></a></span></li><li><span><a href=\"#Data-Load\" data-toc-modified-id=\"Data-Load-2\"><font color=\"green\">Data Load</font></a></span></li><li><span><a href=\"#ETL-Processes\" data-toc-modified-id=\"ETL-Processes-3\">ETL Processes</a></span><ul class=\"toc-item\"><li><span><a href=\"#Import-data-from:-CSV,-Excel,-Tab,-JSON,-SQL,-and-Parquet-files\" data-toc-modified-id=\"Import-data-from:-CSV,-Excel,-Tab,-JSON,-SQL,-and-Parquet-files-3.1\">Import data from: CSV, Excel, Tab, JSON, SQL, and Parquet files</a></span></li></ul></li><li><span><a href=\"#Synthetic-Data-Generation\" data-toc-modified-id=\"Synthetic-Data-Generation-4\">Synthetic Data Generation</a></span></li><li><span><a href=\"#Fake-Data-Generation\" data-toc-modified-id=\"Fake-Data-Generation-5\">Fake Data Generation</a></span></li><li><span><a href=\"#Open-Data\" data-toc-modified-id=\"Open-Data-6\">Open Data</a></span></li><li><span><a href=\"#Data-Save\" data-toc-modified-id=\"Data-Save-7\"><font color=\"green\">Data Save</font></a></span></li><li><span><a href=\"#Main-Conclusions\" data-toc-modified-id=\"Main-Conclusions-8\"><font color=\" #2874a6 \">Main Conclusions</font></a></span></li><li><span><a href=\"#Main-Actions\" data-toc-modified-id=\"Main-Actions-9\"><font color=\" #2874a6 \">Main Actions</font></a></span><ul class=\"toc-item\"><li><ul class=\"toc-item\"><li><span><a href=\"#Acciones-done\" data-toc-modified-id=\"Acciones-done-9.0.1\"><font color=\" #2874a6 \">Acciones done</font></a></span></li><li><span><a href=\"#Acctions-to-perform\" data-toc-modified-id=\"Acctions-to-perform-9.0.2\"><font color=\" #2874a6 \">Acctions to perform</font></a></span></li></ul></li></ul></li></ul></div>"
   ]
  },
  {
   "cell_type": "markdown",
   "metadata": {
    "slideshow": {
     "slide_type": "slide"
    }
   },
   "source": [
    "## <font color='green'>Settings</font>"
   ]
  },
  {
   "attachments": {},
   "cell_type": "markdown",
   "metadata": {},
   "source": [
    "### Packages to use\n",
    "\n",
    "\n",
    "- {tcltk} para selección interactiva de archivos locales\n",
    "- {sf} para trabajar con georeferenciación\n",
    "- {readr} para leer y escribir archivos csv\n",
    "- {dplyr} para explorar datos\n",
    "- {tidyr} para organización de datos\n",
    "- {gstat} para operaciones geoestadísticas\n"
   ]
  },
  {
   "cell_type": "code",
   "execution_count": 1,
   "metadata": {
    "ExecuteTime": {
     "end_time": "2021-12-03T15:23:33.762841Z",
     "start_time": "2021-12-03T15:23:08.580267Z"
    },
    "slideshow": {
     "slide_type": "subslide"
    },
    "vscode": {
     "languageId": "r"
    }
   },
   "outputs": [
    {
     "name": "stderr",
     "output_type": "stream",
     "text": [
      "\n",
      "Attaching package: 'dplyr'\n",
      "\n",
      "\n",
      "The following objects are masked from 'package:stats':\n",
      "\n",
      "    filter, lag\n",
      "\n",
      "\n",
      "The following objects are masked from 'package:base':\n",
      "\n",
      "    intersect, setdiff, setequal, union\n",
      "\n",
      "\n",
      "Linking to GEOS 3.10.2, GDAL 3.4.2, PROJ 8.2.1; sf_use_s2() is TRUE\n",
      "\n"
     ]
    }
   ],
   "source": [
    "library(readr)\n",
    "library(dplyr)\n",
    "library(tidyr)\n",
    "library(sf)\n",
    "library(gstat)\n",
    "\n",
    "p <- c(\"tcltk\", \"sf\", \"readr\", \"dplyr\", \"tidyr\", \"gstat\")\n"
   ]
  },
  {
   "attachments": {},
   "cell_type": "markdown",
   "metadata": {},
   "source": [
    "### Paths"
   ]
  },
  {
   "cell_type": "code",
   "execution_count": 2,
   "metadata": {
    "vscode": {
     "languageId": "r"
    }
   },
   "outputs": [],
   "source": [
    "iPath <- \"Data/Input/\"\n",
    "oPath <- \"Data/Output/\""
   ]
  },
  {
   "attachments": {},
   "cell_type": "markdown",
   "metadata": {
    "slideshow": {
     "slide_type": "slide"
    }
   },
   "source": [
    "## <font color='green'>Data Load</font>\n",
    "\n",
    "If there are more than one input file, make as many sections as files to import."
   ]
  },
  {
   "attachments": {},
   "cell_type": "markdown",
   "metadata": {},
   "source": [
    "Instrucciones\n",
    "- Los ficheros de entrada del proceso están siempre en Data/Input/.   \n",
    "- Si hay más de un fichero de entrada, se crean tantos objetos iFile_xx y file_data_xx como ficheros de entrada (xx número correlativo con dos dígitos, rellenar con ceros a la izquierda)"
   ]
  },
  {
   "attachments": {},
   "cell_type": "markdown",
   "metadata": {},
   "source": [
    "1. Datos estaciones AEMET"
   ]
  },
  {
   "attachments": {},
   "cell_type": "markdown",
   "metadata": {},
   "source": [
    "<font color='tomato'><b> OPCION A:</b> Seleccionar fichero en ventana para mayor comodidad</font> "
   ]
  },
  {
   "attachments": {},
   "cell_type": "markdown",
   "metadata": {},
   "source": [
    "Data load using the {tcltk} package. Ucomment the line if not using this option"
   ]
  },
  {
   "cell_type": "code",
   "execution_count": 3,
   "metadata": {
    "vscode": {
     "languageId": "r"
    }
   },
   "outputs": [],
   "source": [
    "# file_data_01 <- tcltk::tk_choose.files(multi = FALSE)"
   ]
  },
  {
   "attachments": {},
   "cell_type": "markdown",
   "metadata": {},
   "source": [
    "<font color='tomato'><b> OPCION B:</b> Especificar el nombre de archivo</font>\n",
    "\n"
   ]
  },
  {
   "cell_type": "code",
   "execution_count": 4,
   "metadata": {
    "vscode": {
     "languageId": "r"
    }
   },
   "outputs": [
    {
     "name": "stdout",
     "output_type": "stream",
     "text": [
      "Se leer<U+00E1>n datos del archivo:  Data/Input/CU_18_05_14_aemet.csv"
     ]
    }
   ],
   "source": [
    "iFile_01 <- \"CU_18_05_14_aemet.csv\"\n",
    "file_data_01 <- paste0(iPath, iFile_01)\n",
    "\n",
    "if(file.exists(file_data_01)){\n",
    "    cat(\"Se leerán datos del archivo: \", file_data_01)\n",
    "} else{\n",
    "    warning(\"Cuidado: el archivo no existe.\")\n",
    "}\n"
   ]
  },
  {
   "attachments": {},
   "cell_type": "markdown",
   "metadata": {},
   "source": [
    "#### Data file to dataframe\n",
    "\n",
    "Usar la función adecuada según el formato de entrada (xlsx, csv, json, ...)"
   ]
  },
  {
   "cell_type": "code",
   "execution_count": 5,
   "metadata": {
    "vscode": {
     "languageId": "r"
    }
   },
   "outputs": [
    {
     "name": "stderr",
     "output_type": "stream",
     "text": [
      "\u001b[1mRows: \u001b[22m\u001b[34m4547\u001b[39m \u001b[1mColumns: \u001b[22m\u001b[34m22\u001b[39m\n",
      "\u001b[36m--\u001b[39m \u001b[1mColumn specification\u001b[22m \u001b[36m--------------------------------------------------------\u001b[39m\n",
      "\u001b[1mDelimiter:\u001b[22m \",\"\n",
      "\u001b[31mchr\u001b[39m   (9): indicativo, nombre, provincia, horatmin, horatmax, dir, horaracha...\n",
      "\u001b[32mdbl\u001b[39m  (12): altitud, tmed, prec, tmin, tmax, velmedia, racha, sol, presMax, p...\n",
      "\u001b[34mdate\u001b[39m  (1): fecha\n",
      "\n",
      "\u001b[36mi\u001b[39m Use `spec()` to retrieve the full column specification for this data.\n",
      "\u001b[36mi\u001b[39m Specify the column types or set `show_col_types = FALSE` to quiet this message.\n"
     ]
    }
   ],
   "source": [
    "data_01 <- read_csv(file_data_01)\n"
   ]
  },
  {
   "attachments": {},
   "cell_type": "markdown",
   "metadata": {},
   "source": [
    "Estructura de  los datos:"
   ]
  },
  {
   "cell_type": "code",
   "execution_count": 6,
   "metadata": {
    "vscode": {
     "languageId": "r"
    }
   },
   "outputs": [
    {
     "name": "stdout",
     "output_type": "stream",
     "text": [
      "Rows: 4,547\n",
      "Columns: 22\n",
      "$ fecha       \u001b[3m\u001b[90m<date>\u001b[39m\u001b[23m 2019-01-01, 2019-01-02, 2019-01-03, 2019-01-04, 2019-01-0~\n",
      "$ indicativo  \u001b[3m\u001b[90m<chr>\u001b[39m\u001b[23m \"2462\", \"2462\", \"2462\", \"2462\", \"2462\", \"2462\", \"2462\", \"2~\n",
      "$ nombre      \u001b[3m\u001b[90m<chr>\u001b[39m\u001b[23m \"PUERTO DE NAVACERRADA\", \"PUERTO DE NAVACERRADA\", \"PUERTO ~\n",
      "$ provincia   \u001b[3m\u001b[90m<chr>\u001b[39m\u001b[23m \"MADRID\", \"MADRID\", \"MADRID\", \"MADRID\", \"MADRID\", \"MADRID\"~\n",
      "$ altitud     \u001b[3m\u001b[90m<dbl>\u001b[39m\u001b[23m 1894, 1894, 1894, 1894, 1894, 1894, 1894, 1894, 1894, 1894~\n",
      "$ tmed        \u001b[3m\u001b[90m<dbl>\u001b[39m\u001b[23m 6.4, 5.2, 7.6, 6.0, 7.2, 4.6, 4.1, 6.2, -0.8, -4.1, -5.2, ~\n",
      "$ prec        \u001b[3m\u001b[90m<dbl>\u001b[39m\u001b[23m 0.0, 0.0, 0.0, 0.0, 0.0, 0.0, 0.0, 0.0, 0.0, 0.0, 0.0, 0.0~\n",
      "$ tmin        \u001b[3m\u001b[90m<dbl>\u001b[39m\u001b[23m 1.6, -0.8, 2.7, 1.7, 1.8, 0.9, 1.2, 1.4, -3.5, -7.5, -10.3~\n",
      "$ horatmin    \u001b[3m\u001b[90m<chr>\u001b[39m\u001b[23m \"23:40\", \"08:00\", \"23:59\", \"01:30\", \"18:00\", \"07:10\", \"Var~\n",
      "$ tmax        \u001b[3m\u001b[90m<dbl>\u001b[39m\u001b[23m 11.3, 11.3, 12.6, 10.2, 12.5, 8.2, 7.0, 10.9, 2.0, -0.7, -~\n",
      "$ horatmax    \u001b[3m\u001b[90m<chr>\u001b[39m\u001b[23m \"12:40\", \"12:40\", \"12:00\", \"12:10\", \"12:50\", \"11:40\", \"13:~\n",
      "$ dir         \u001b[3m\u001b[90m<chr>\u001b[39m\u001b[23m \"36\", \"04\", \"15\", \"15\", \"03\", \"35\", \"36\", \"02\", \"36\", \"36\"~\n",
      "$ velmedia    \u001b[3m\u001b[90m<dbl>\u001b[39m\u001b[23m 3.3, 2.8, 1.9, 1.4, 3.1, 3.3, 2.8, 2.8, 5.3, 3.1, 2.8, 1.9~\n",
      "$ racha       \u001b[3m\u001b[90m<dbl>\u001b[39m\u001b[23m 8.9, 11.4, 8.9, 8.3, 8.3, 11.9, 7.2, 11.1, 12.8, 8.6, 8.9,~\n",
      "$ horaracha   \u001b[3m\u001b[90m<chr>\u001b[39m\u001b[23m \"23:59\", \"17:10\", \"04:00\", \"00:40\", \"06:50\", \"08:10\", \"06:~\n",
      "$ sol         \u001b[3m\u001b[90m<dbl>\u001b[39m\u001b[23m 7.9, 7.9, 7.3, 8.0, 8.2, 8.0, 8.1, 8.1, 3.6, 1.2, 8.2, 7.8~\n",
      "$ presMax     \u001b[3m\u001b[90m<dbl>\u001b[39m\u001b[23m 823.1, 822.0, 819.5, 822.7, 824.3, 823.3, 821.8, 821.3, 81~\n",
      "$ horaPresMax \u001b[3m\u001b[90m<chr>\u001b[39m\u001b[23m \"10\", \"00\", \"10\", \"23\", \"10\", \"00\", \"11\", \"Varias\", \"00\", ~\n",
      "$ presMin     \u001b[3m\u001b[90m<dbl>\u001b[39m\u001b[23m 821.7, 818.8, 818.0, 818.5, 822.4, 821.0, 820.0, 818.4, 81~\n",
      "$ horaPresMin \u001b[3m\u001b[90m<chr>\u001b[39m\u001b[23m \"05\", \"24\", \"05\", \"05\", \"Varias\", \"16\", \"14\", \"24\", \"24\", ~\n",
      "$ X           \u001b[3m\u001b[90m<dbl>\u001b[39m\u001b[23m -4.010556, -4.010556, -4.010556, -4.010556, -4.010556, -4.~\n",
      "$ Y           \u001b[3m\u001b[90m<dbl>\u001b[39m\u001b[23m 40.79306, 40.79306, 40.79306, 40.79306, 40.79306, 40.79306~\n"
     ]
    }
   ],
   "source": [
    "glimpse(data_01)"
   ]
  },
  {
   "attachments": {},
   "cell_type": "markdown",
   "metadata": {},
   "source": [
    "Muestra de datos:"
   ]
  },
  {
   "cell_type": "code",
   "execution_count": 7,
   "metadata": {
    "vscode": {
     "languageId": "r"
    }
   },
   "outputs": [
    {
     "data": {
      "text/html": [
       "<table class=\"dataframe\">\n",
       "<caption>A spec_tbl_df: 5 x 22</caption>\n",
       "<thead>\n",
       "\t<tr><th scope=col>fecha</th><th scope=col>indicativo</th><th scope=col>nombre</th><th scope=col>provincia</th><th scope=col>altitud</th><th scope=col>tmed</th><th scope=col>prec</th><th scope=col>tmin</th><th scope=col>horatmin</th><th scope=col>tmax</th><th scope=col>...</th><th scope=col>velmedia</th><th scope=col>racha</th><th scope=col>horaracha</th><th scope=col>sol</th><th scope=col>presMax</th><th scope=col>horaPresMax</th><th scope=col>presMin</th><th scope=col>horaPresMin</th><th scope=col>X</th><th scope=col>Y</th></tr>\n",
       "\t<tr><th scope=col>&lt;date&gt;</th><th scope=col>&lt;chr&gt;</th><th scope=col>&lt;chr&gt;</th><th scope=col>&lt;chr&gt;</th><th scope=col>&lt;dbl&gt;</th><th scope=col>&lt;dbl&gt;</th><th scope=col>&lt;dbl&gt;</th><th scope=col>&lt;dbl&gt;</th><th scope=col>&lt;chr&gt;</th><th scope=col>&lt;dbl&gt;</th><th scope=col>...</th><th scope=col>&lt;dbl&gt;</th><th scope=col>&lt;dbl&gt;</th><th scope=col>&lt;chr&gt;</th><th scope=col>&lt;dbl&gt;</th><th scope=col>&lt;dbl&gt;</th><th scope=col>&lt;chr&gt;</th><th scope=col>&lt;dbl&gt;</th><th scope=col>&lt;chr&gt;</th><th scope=col>&lt;dbl&gt;</th><th scope=col>&lt;dbl&gt;</th></tr>\n",
       "</thead>\n",
       "<tbody>\n",
       "\t<tr><td>2019-01-01</td><td>2462</td><td>PUERTO DE NAVACERRADA</td><td>MADRID</td><td>1894</td><td>6.4</td><td>0</td><td> 1.6</td><td>23:40</td><td>11.3</td><td>...</td><td>3.3</td><td> 8.9</td><td>23:59</td><td>7.9</td><td>823.1</td><td>10</td><td>821.7</td><td>05    </td><td>-4.010556</td><td>40.79306</td></tr>\n",
       "\t<tr><td>2019-01-02</td><td>2462</td><td>PUERTO DE NAVACERRADA</td><td>MADRID</td><td>1894</td><td>5.2</td><td>0</td><td>-0.8</td><td>08:00</td><td>11.3</td><td>...</td><td>2.8</td><td>11.4</td><td>17:10</td><td>7.9</td><td>822.0</td><td>00</td><td>818.8</td><td>24    </td><td>-4.010556</td><td>40.79306</td></tr>\n",
       "\t<tr><td>2019-01-03</td><td>2462</td><td>PUERTO DE NAVACERRADA</td><td>MADRID</td><td>1894</td><td>7.6</td><td>0</td><td> 2.7</td><td>23:59</td><td>12.6</td><td>...</td><td>1.9</td><td> 8.9</td><td>04:00</td><td>7.3</td><td>819.5</td><td>10</td><td>818.0</td><td>05    </td><td>-4.010556</td><td>40.79306</td></tr>\n",
       "\t<tr><td>2019-01-04</td><td>2462</td><td>PUERTO DE NAVACERRADA</td><td>MADRID</td><td>1894</td><td>6.0</td><td>0</td><td> 1.7</td><td>01:30</td><td>10.2</td><td>...</td><td>1.4</td><td> 8.3</td><td>00:40</td><td>8.0</td><td>822.7</td><td>23</td><td>818.5</td><td>05    </td><td>-4.010556</td><td>40.79306</td></tr>\n",
       "\t<tr><td>2019-01-05</td><td>2462</td><td>PUERTO DE NAVACERRADA</td><td>MADRID</td><td>1894</td><td>7.2</td><td>0</td><td> 1.8</td><td>18:00</td><td>12.5</td><td>...</td><td>3.1</td><td> 8.3</td><td>06:50</td><td>8.2</td><td>824.3</td><td>10</td><td>822.4</td><td>Varias</td><td>-4.010556</td><td>40.79306</td></tr>\n",
       "</tbody>\n",
       "</table>\n"
      ],
      "text/latex": [
       "A spec\\_tbl\\_df: 5 x 22\n",
       "\\begin{tabular}{lllllllllllllllllllll}\n",
       " fecha & indicativo & nombre & provincia & altitud & tmed & prec & tmin & horatmin & tmax & ... & velmedia & racha & horaracha & sol & presMax & horaPresMax & presMin & horaPresMin & X & Y\\\\\n",
       " <date> & <chr> & <chr> & <chr> & <dbl> & <dbl> & <dbl> & <dbl> & <chr> & <dbl> & ... & <dbl> & <dbl> & <chr> & <dbl> & <dbl> & <chr> & <dbl> & <chr> & <dbl> & <dbl>\\\\\n",
       "\\hline\n",
       "\t 2019-01-01 & 2462 & PUERTO DE NAVACERRADA & MADRID & 1894 & 6.4 & 0 &  1.6 & 23:40 & 11.3 & ... & 3.3 &  8.9 & 23:59 & 7.9 & 823.1 & 10 & 821.7 & 05     & -4.010556 & 40.79306\\\\\n",
       "\t 2019-01-02 & 2462 & PUERTO DE NAVACERRADA & MADRID & 1894 & 5.2 & 0 & -0.8 & 08:00 & 11.3 & ... & 2.8 & 11.4 & 17:10 & 7.9 & 822.0 & 00 & 818.8 & 24     & -4.010556 & 40.79306\\\\\n",
       "\t 2019-01-03 & 2462 & PUERTO DE NAVACERRADA & MADRID & 1894 & 7.6 & 0 &  2.7 & 23:59 & 12.6 & ... & 1.9 &  8.9 & 04:00 & 7.3 & 819.5 & 10 & 818.0 & 05     & -4.010556 & 40.79306\\\\\n",
       "\t 2019-01-04 & 2462 & PUERTO DE NAVACERRADA & MADRID & 1894 & 6.0 & 0 &  1.7 & 01:30 & 10.2 & ... & 1.4 &  8.3 & 00:40 & 8.0 & 822.7 & 23 & 818.5 & 05     & -4.010556 & 40.79306\\\\\n",
       "\t 2019-01-05 & 2462 & PUERTO DE NAVACERRADA & MADRID & 1894 & 7.2 & 0 &  1.8 & 18:00 & 12.5 & ... & 3.1 &  8.3 & 06:50 & 8.2 & 824.3 & 10 & 822.4 & Varias & -4.010556 & 40.79306\\\\\n",
       "\\end{tabular}\n"
      ],
      "text/markdown": [
       "\n",
       "A spec_tbl_df: 5 x 22\n",
       "\n",
       "| fecha &lt;date&gt; | indicativo &lt;chr&gt; | nombre &lt;chr&gt; | provincia &lt;chr&gt; | altitud &lt;dbl&gt; | tmed &lt;dbl&gt; | prec &lt;dbl&gt; | tmin &lt;dbl&gt; | horatmin &lt;chr&gt; | tmax &lt;dbl&gt; | ... ... | velmedia &lt;dbl&gt; | racha &lt;dbl&gt; | horaracha &lt;chr&gt; | sol &lt;dbl&gt; | presMax &lt;dbl&gt; | horaPresMax &lt;chr&gt; | presMin &lt;dbl&gt; | horaPresMin &lt;chr&gt; | X &lt;dbl&gt; | Y &lt;dbl&gt; |\n",
       "|---|---|---|---|---|---|---|---|---|---|---|---|---|---|---|---|---|---|---|---|---|\n",
       "| 2019-01-01 | 2462 | PUERTO DE NAVACERRADA | MADRID | 1894 | 6.4 | 0 |  1.6 | 23:40 | 11.3 | ... | 3.3 |  8.9 | 23:59 | 7.9 | 823.1 | 10 | 821.7 | 05     | -4.010556 | 40.79306 |\n",
       "| 2019-01-02 | 2462 | PUERTO DE NAVACERRADA | MADRID | 1894 | 5.2 | 0 | -0.8 | 08:00 | 11.3 | ... | 2.8 | 11.4 | 17:10 | 7.9 | 822.0 | 00 | 818.8 | 24     | -4.010556 | 40.79306 |\n",
       "| 2019-01-03 | 2462 | PUERTO DE NAVACERRADA | MADRID | 1894 | 7.6 | 0 |  2.7 | 23:59 | 12.6 | ... | 1.9 |  8.9 | 04:00 | 7.3 | 819.5 | 10 | 818.0 | 05     | -4.010556 | 40.79306 |\n",
       "| 2019-01-04 | 2462 | PUERTO DE NAVACERRADA | MADRID | 1894 | 6.0 | 0 |  1.7 | 01:30 | 10.2 | ... | 1.4 |  8.3 | 00:40 | 8.0 | 822.7 | 23 | 818.5 | 05     | -4.010556 | 40.79306 |\n",
       "| 2019-01-05 | 2462 | PUERTO DE NAVACERRADA | MADRID | 1894 | 7.2 | 0 |  1.8 | 18:00 | 12.5 | ... | 3.1 |  8.3 | 06:50 | 8.2 | 824.3 | 10 | 822.4 | Varias | -4.010556 | 40.79306 |\n",
       "\n"
      ],
      "text/plain": [
       "  fecha      indicativo nombre                provincia altitud tmed prec tmin\n",
       "1 2019-01-01 2462       PUERTO DE NAVACERRADA MADRID    1894    6.4  0     1.6\n",
       "2 2019-01-02 2462       PUERTO DE NAVACERRADA MADRID    1894    5.2  0    -0.8\n",
       "3 2019-01-03 2462       PUERTO DE NAVACERRADA MADRID    1894    7.6  0     2.7\n",
       "4 2019-01-04 2462       PUERTO DE NAVACERRADA MADRID    1894    6.0  0     1.7\n",
       "5 2019-01-05 2462       PUERTO DE NAVACERRADA MADRID    1894    7.2  0     1.8\n",
       "  horatmin tmax ... velmedia racha horaracha sol presMax horaPresMax presMin\n",
       "1 23:40    11.3 ... 3.3       8.9  23:59     7.9 823.1   10          821.7  \n",
       "2 08:00    11.3 ... 2.8      11.4  17:10     7.9 822.0   00          818.8  \n",
       "3 23:59    12.6 ... 1.9       8.9  04:00     7.3 819.5   10          818.0  \n",
       "4 01:30    10.2 ... 1.4       8.3  00:40     8.0 822.7   23          818.5  \n",
       "5 18:00    12.5 ... 3.1       8.3  06:50     8.2 824.3   10          822.4  \n",
       "  horaPresMin X         Y       \n",
       "1 05          -4.010556 40.79306\n",
       "2 24          -4.010556 40.79306\n",
       "3 05          -4.010556 40.79306\n",
       "4 05          -4.010556 40.79306\n",
       "5 Varias      -4.010556 40.79306"
      ]
     },
     "metadata": {},
     "output_type": "display_data"
    }
   ],
   "source": [
    "slice_head(data_01, n = 5)"
   ]
  },
  {
   "attachments": {},
   "cell_type": "markdown",
   "metadata": {},
   "source": [
    "2. Datos de infraestructuras (con identificador)"
   ]
  },
  {
   "cell_type": "markdown",
   "metadata": {},
   "source": [
    "<font color='tomato'><b> OPCION A:</b> Seleccionar fichero en ventana para mayor comodidad</font> "
   ]
  },
  {
   "cell_type": "markdown",
   "metadata": {},
   "source": [
    "Data load using the {tcltk} package. Ucomment the line if not using this option"
   ]
  },
  {
   "cell_type": "code",
   "execution_count": 8,
   "metadata": {
    "vscode": {
     "languageId": "r"
    }
   },
   "outputs": [],
   "source": [
    "# file_data_02 <- tcltk::tk_choose.files(multi = FALSE)"
   ]
  },
  {
   "cell_type": "markdown",
   "metadata": {},
   "source": [
    "<font color='tomato'><b> OPCION B:</b> Especificar el nombre de archivo</font>\n",
    "\n"
   ]
  },
  {
   "cell_type": "code",
   "execution_count": 9,
   "metadata": {
    "vscode": {
     "languageId": "r"
    }
   },
   "outputs": [
    {
     "name": "stdout",
     "output_type": "stream",
     "text": [
      "Se leer<U+00E1>n datos del archivo:  Data/Input/CU_18_05_19_01_infraestructuras.csv"
     ]
    }
   ],
   "source": [
    "iFile_02 <- \"CU_18_05_19_01_infraestructuras.csv\"\n",
    "file_data_02 <- paste0(iPath, iFile_02)\n",
    "\n",
    "if(file.exists(file_data_02)){\n",
    "    cat(\"Se leerán datos del archivo: \", file_data_02)\n",
    "} else{\n",
    "    warning(\"Cuidado: el archivo no existe.\")\n",
    "}\n"
   ]
  },
  {
   "cell_type": "markdown",
   "metadata": {},
   "source": [
    "#### Data file to dataframe\n",
    "\n",
    "Usar la función adecuada según el formato de entrada (xlsx, csv, json, ...)"
   ]
  },
  {
   "cell_type": "code",
   "execution_count": 10,
   "metadata": {
    "vscode": {
     "languageId": "r"
    }
   },
   "outputs": [
    {
     "name": "stderr",
     "output_type": "stream",
     "text": [
      "\u001b[1mRows: \u001b[22m\u001b[34m1138\u001b[39m \u001b[1mColumns: \u001b[22m\u001b[34m19\u001b[39m\n",
      "\u001b[36m--\u001b[39m \u001b[1mColumn specification\u001b[22m \u001b[36m--------------------------------------------------------\u001b[39m\n",
      "\u001b[1mDelimiter:\u001b[22m \",\"\n",
      "\u001b[31mchr\u001b[39m  (8): grupo, tipo, nombre, CODMUN, DIRECCION, info, CMUN, CDIS\n",
      "\u001b[32mdbl\u001b[39m (11): id_inf, dist_aeropuerto, dist_intercambiador, dist_cercanias, dist...\n",
      "\n",
      "\u001b[36mi\u001b[39m Use `spec()` to retrieve the full column specification for this data.\n",
      "\u001b[36mi\u001b[39m Specify the column types or set `show_col_types = FALSE` to quiet this message.\n"
     ]
    }
   ],
   "source": [
    "data_02 <- read_csv(file_data_02)\n"
   ]
  },
  {
   "cell_type": "markdown",
   "metadata": {},
   "source": [
    "Estructura de  los datos:"
   ]
  },
  {
   "cell_type": "code",
   "execution_count": 11,
   "metadata": {
    "vscode": {
     "languageId": "r"
    }
   },
   "outputs": [
    {
     "name": "stdout",
     "output_type": "stream",
     "text": [
      "Rows: 1,138\n",
      "Columns: 19\n",
      "$ id_inf              \u001b[3m\u001b[90m<dbl>\u001b[39m\u001b[23m 1, 2, 3, 4, 5, 6, 7, 8, 9, 10, 11, 12, 13, 14, 15,~\n",
      "$ grupo               \u001b[3m\u001b[90m<chr>\u001b[39m\u001b[23m \"Transporte\", \"Transporte\", \"Transporte\", \"Transpo~\n",
      "$ tipo                \u001b[3m\u001b[90m<chr>\u001b[39m\u001b[23m \"Intercambiadores\", \"Intercambiadores\", \"Intercamb~\n",
      "$ nombre              \u001b[3m\u001b[90m<chr>\u001b[39m\u001b[23m \"Grandes Intercambiadores Plaza El<U+00ED>ptica\", \"Grande~\n",
      "$ CODMUN              \u001b[3m\u001b[90m<chr>\u001b[39m\u001b[23m \"079\", \"079\", \"079\", \"079\", \"079\", \"079\", \"079\", \"~\n",
      "$ DIRECCION           \u001b[3m\u001b[90m<chr>\u001b[39m\u001b[23m \"Plaza El<U+00ED>ptica s/n\", \"Calle Princesa, 89\", \"Estac~\n",
      "$ info                \u001b[3m\u001b[90m<chr>\u001b[39m\u001b[23m NA, NA, NA, NA, NA, NA, NA, NA, NA, NA, NA, NA, NA~\n",
      "$ CMUN                \u001b[3m\u001b[90m<chr>\u001b[39m\u001b[23m \"079\", \"079\", \"079\", \"079\", \"079\", \"079\", \"079\", \"~\n",
      "$ CDIS                \u001b[3m\u001b[90m<chr>\u001b[39m\u001b[23m \"12\", \"09\", \"09\", \"05\", \"05\", \"05\", \"06\", \"02\", \"0~\n",
      "$ dist_aeropuerto     \u001b[3m\u001b[90m<dbl>\u001b[39m\u001b[23m 5.2031430, 8.5507475, 7.3002463, 9.9339069, 9.1988~\n",
      "$ dist_intercambiador \u001b[3m\u001b[90m<dbl>\u001b[39m\u001b[23m 0.0000000, 0.0000000, 0.0000000, 0.0000000, 0.0000~\n",
      "$ dist_cercanias      \u001b[3m\u001b[90m<dbl>\u001b[39m\u001b[23m 1.648973148, 1.468638183, 0.088338692, 0.736877403~\n",
      "$ dist_hospital       \u001b[3m\u001b[90m<dbl>\u001b[39m\u001b[23m 1.8154156, 0.4221115, 1.3855767, 1.0733484, 0.3488~\n",
      "$ dist_universidad    \u001b[3m\u001b[90m<dbl>\u001b[39m\u001b[23m 1.29960755, 0.30460781, 0.92076145, 0.08835165, 0.~\n",
      "$ dist_gob            \u001b[3m\u001b[90m<dbl>\u001b[39m\u001b[23m 0.61772353, 0.62638474, 1.17005116, 0.14904962, 1.~\n",
      "$ dist_embajada       \u001b[3m\u001b[90m<dbl>\u001b[39m\u001b[23m 3.921324e-01, 1.457397e+00, 5.624560e+00, 8.316773~\n",
      "$ dist_ccomercial     \u001b[3m\u001b[90m<dbl>\u001b[39m\u001b[23m 0.73115706, 1.61056736, 0.90608573, 0.77583440, 0.~\n",
      "$ X                   \u001b[3m\u001b[90m<dbl>\u001b[39m\u001b[23m -3.716577, -3.719508, -3.719560, -3.689044, -3.676~\n",
      "$ Y                   \u001b[3m\u001b[90m<dbl>\u001b[39m\u001b[23m 40.38540, 40.43474, 40.42080, 40.46719, 40.43797, ~\n"
     ]
    }
   ],
   "source": [
    "glimpse(data_02)"
   ]
  },
  {
   "cell_type": "markdown",
   "metadata": {},
   "source": [
    "Muestra de datos:"
   ]
  },
  {
   "cell_type": "code",
   "execution_count": 12,
   "metadata": {
    "vscode": {
     "languageId": "r"
    }
   },
   "outputs": [
    {
     "data": {
      "text/html": [
       "<table class=\"dataframe\">\n",
       "<caption>A spec_tbl_df: 5 x 19</caption>\n",
       "<thead>\n",
       "\t<tr><th scope=col>id_inf</th><th scope=col>grupo</th><th scope=col>tipo</th><th scope=col>nombre</th><th scope=col>CODMUN</th><th scope=col>DIRECCION</th><th scope=col>info</th><th scope=col>CMUN</th><th scope=col>CDIS</th><th scope=col>dist_aeropuerto</th><th scope=col>dist_intercambiador</th><th scope=col>dist_cercanias</th><th scope=col>dist_hospital</th><th scope=col>dist_universidad</th><th scope=col>dist_gob</th><th scope=col>dist_embajada</th><th scope=col>dist_ccomercial</th><th scope=col>X</th><th scope=col>Y</th></tr>\n",
       "\t<tr><th scope=col>&lt;dbl&gt;</th><th scope=col>&lt;chr&gt;</th><th scope=col>&lt;chr&gt;</th><th scope=col>&lt;chr&gt;</th><th scope=col>&lt;chr&gt;</th><th scope=col>&lt;chr&gt;</th><th scope=col>&lt;chr&gt;</th><th scope=col>&lt;chr&gt;</th><th scope=col>&lt;chr&gt;</th><th scope=col>&lt;dbl&gt;</th><th scope=col>&lt;dbl&gt;</th><th scope=col>&lt;dbl&gt;</th><th scope=col>&lt;dbl&gt;</th><th scope=col>&lt;dbl&gt;</th><th scope=col>&lt;dbl&gt;</th><th scope=col>&lt;dbl&gt;</th><th scope=col>&lt;dbl&gt;</th><th scope=col>&lt;dbl&gt;</th><th scope=col>&lt;dbl&gt;</th></tr>\n",
       "</thead>\n",
       "<tbody>\n",
       "\t<tr><td>1</td><td>Transporte</td><td>Intercambiadores</td><td><span style=white-space:pre-wrap>Grandes Intercambiadores Plaza El&lt;U+00ED&gt;ptica     </span></td><td>079</td><td><span style=white-space:pre-wrap>Plaza El&lt;U+00ED&gt;ptica s/n                 </span></td><td>NA</td><td>079</td><td>12</td><td>5.203143</td><td>0</td><td>1.64897315</td><td>1.8154156</td><td>1.29960755</td><td>0.6177235</td><td>0.39213238</td><td>0.7311571</td><td>-3.716577</td><td>40.38540</td></tr>\n",
       "\t<tr><td>2</td><td>Transporte</td><td>Intercambiadores</td><td>Grandes Intercambiadores Moncloa                   </td><td>079</td><td>Calle Princesa, 89                        </td><td>NA</td><td>079</td><td>09</td><td>8.550748</td><td>0</td><td>1.46863818</td><td>0.4221115</td><td>0.30460781</td><td>0.6263847</td><td>1.45739694</td><td>1.6105674</td><td>-3.719508</td><td>40.43474</td></tr>\n",
       "\t<tr><td>3</td><td>Transporte</td><td>Intercambiadores</td><td>Grandes Intercambiadores Pr&lt;U+00ED&gt;ncipe P&lt;U+00ED&gt;o</td><td>079</td><td>Estaci&lt;U+00F3&gt;n Pr&lt;U+00ED&gt;ncipe P&lt;U+00ED&gt;o</td><td>NA</td><td>079</td><td>09</td><td>7.300246</td><td>0</td><td>0.08833869</td><td>1.3855767</td><td>0.92076145</td><td>1.1700512</td><td>5.62455975</td><td>0.9060857</td><td>-3.719560</td><td>40.42080</td></tr>\n",
       "\t<tr><td>4</td><td>Transporte</td><td>Intercambiadores</td><td>Grandes Intercambiadores Plaza de Castilla         </td><td>079</td><td>Calle San Aquilino y Avenida de Asturias  </td><td>NA</td><td>079</td><td>05</td><td>9.933907</td><td>0</td><td>0.73687740</td><td>1.0733484</td><td>0.08835165</td><td>0.1490496</td><td>0.08316773</td><td>0.7758344</td><td>-3.689044</td><td>40.46719</td></tr>\n",
       "\t<tr><td>5</td><td>Transporte</td><td>Intercambiadores</td><td>Grandes Intercambiadores Avenida de Am&lt;U+00E9&gt;rica </td><td>079</td><td><span style=white-space:pre-wrap>Avenida de Am&lt;U+00E9&gt;rica 9 A             </span></td><td>NA</td><td>079</td><td>05</td><td>9.198897</td><td>0</td><td>1.62310148</td><td>0.3488060</td><td>0.50695045</td><td>1.1979177</td><td>0.40303107</td><td>0.9512580</td><td>-3.676731</td><td>40.43797</td></tr>\n",
       "</tbody>\n",
       "</table>\n"
      ],
      "text/latex": [
       "A spec\\_tbl\\_df: 5 x 19\n",
       "\\begin{tabular}{lllllllllllllllllll}\n",
       " id\\_inf & grupo & tipo & nombre & CODMUN & DIRECCION & info & CMUN & CDIS & dist\\_aeropuerto & dist\\_intercambiador & dist\\_cercanias & dist\\_hospital & dist\\_universidad & dist\\_gob & dist\\_embajada & dist\\_ccomercial & X & Y\\\\\n",
       " <dbl> & <chr> & <chr> & <chr> & <chr> & <chr> & <chr> & <chr> & <chr> & <dbl> & <dbl> & <dbl> & <dbl> & <dbl> & <dbl> & <dbl> & <dbl> & <dbl> & <dbl>\\\\\n",
       "\\hline\n",
       "\t 1 & Transporte & Intercambiadores & Grandes Intercambiadores Plaza El<U+00ED>ptica      & 079 & Plaza El<U+00ED>ptica s/n                  & NA & 079 & 12 & 5.203143 & 0 & 1.64897315 & 1.8154156 & 1.29960755 & 0.6177235 & 0.39213238 & 0.7311571 & -3.716577 & 40.38540\\\\\n",
       "\t 2 & Transporte & Intercambiadores & Grandes Intercambiadores Moncloa                    & 079 & Calle Princesa, 89                         & NA & 079 & 09 & 8.550748 & 0 & 1.46863818 & 0.4221115 & 0.30460781 & 0.6263847 & 1.45739694 & 1.6105674 & -3.719508 & 40.43474\\\\\n",
       "\t 3 & Transporte & Intercambiadores & Grandes Intercambiadores Pr<U+00ED>ncipe P<U+00ED>o & 079 & Estaci<U+00F3>n Pr<U+00ED>ncipe P<U+00ED>o & NA & 079 & 09 & 7.300246 & 0 & 0.08833869 & 1.3855767 & 0.92076145 & 1.1700512 & 5.62455975 & 0.9060857 & -3.719560 & 40.42080\\\\\n",
       "\t 4 & Transporte & Intercambiadores & Grandes Intercambiadores Plaza de Castilla          & 079 & Calle San Aquilino y Avenida de Asturias   & NA & 079 & 05 & 9.933907 & 0 & 0.73687740 & 1.0733484 & 0.08835165 & 0.1490496 & 0.08316773 & 0.7758344 & -3.689044 & 40.46719\\\\\n",
       "\t 5 & Transporte & Intercambiadores & Grandes Intercambiadores Avenida de Am<U+00E9>rica  & 079 & Avenida de Am<U+00E9>rica 9 A              & NA & 079 & 05 & 9.198897 & 0 & 1.62310148 & 0.3488060 & 0.50695045 & 1.1979177 & 0.40303107 & 0.9512580 & -3.676731 & 40.43797\\\\\n",
       "\\end{tabular}\n"
      ],
      "text/markdown": [
       "\n",
       "A spec_tbl_df: 5 x 19\n",
       "\n",
       "| id_inf &lt;dbl&gt; | grupo &lt;chr&gt; | tipo &lt;chr&gt; | nombre &lt;chr&gt; | CODMUN &lt;chr&gt; | DIRECCION &lt;chr&gt; | info &lt;chr&gt; | CMUN &lt;chr&gt; | CDIS &lt;chr&gt; | dist_aeropuerto &lt;dbl&gt; | dist_intercambiador &lt;dbl&gt; | dist_cercanias &lt;dbl&gt; | dist_hospital &lt;dbl&gt; | dist_universidad &lt;dbl&gt; | dist_gob &lt;dbl&gt; | dist_embajada &lt;dbl&gt; | dist_ccomercial &lt;dbl&gt; | X &lt;dbl&gt; | Y &lt;dbl&gt; |\n",
       "|---|---|---|---|---|---|---|---|---|---|---|---|---|---|---|---|---|---|---|\n",
       "| 1 | Transporte | Intercambiadores | Grandes Intercambiadores Plaza El&lt;U+00ED&gt;ptica      | 079 | Plaza El&lt;U+00ED&gt;ptica s/n                  | NA | 079 | 12 | 5.203143 | 0 | 1.64897315 | 1.8154156 | 1.29960755 | 0.6177235 | 0.39213238 | 0.7311571 | -3.716577 | 40.38540 |\n",
       "| 2 | Transporte | Intercambiadores | Grandes Intercambiadores Moncloa                    | 079 | Calle Princesa, 89                         | NA | 079 | 09 | 8.550748 | 0 | 1.46863818 | 0.4221115 | 0.30460781 | 0.6263847 | 1.45739694 | 1.6105674 | -3.719508 | 40.43474 |\n",
       "| 3 | Transporte | Intercambiadores | Grandes Intercambiadores Pr&lt;U+00ED&gt;ncipe P&lt;U+00ED&gt;o | 079 | Estaci&lt;U+00F3&gt;n Pr&lt;U+00ED&gt;ncipe P&lt;U+00ED&gt;o | NA | 079 | 09 | 7.300246 | 0 | 0.08833869 | 1.3855767 | 0.92076145 | 1.1700512 | 5.62455975 | 0.9060857 | -3.719560 | 40.42080 |\n",
       "| 4 | Transporte | Intercambiadores | Grandes Intercambiadores Plaza de Castilla          | 079 | Calle San Aquilino y Avenida de Asturias   | NA | 079 | 05 | 9.933907 | 0 | 0.73687740 | 1.0733484 | 0.08835165 | 0.1490496 | 0.08316773 | 0.7758344 | -3.689044 | 40.46719 |\n",
       "| 5 | Transporte | Intercambiadores | Grandes Intercambiadores Avenida de Am&lt;U+00E9&gt;rica  | 079 | Avenida de Am&lt;U+00E9&gt;rica 9 A              | NA | 079 | 05 | 9.198897 | 0 | 1.62310148 | 0.3488060 | 0.50695045 | 1.1979177 | 0.40303107 | 0.9512580 | -3.676731 | 40.43797 |\n",
       "\n"
      ],
      "text/plain": [
       "  id_inf grupo      tipo            \n",
       "1 1      Transporte Intercambiadores\n",
       "2 2      Transporte Intercambiadores\n",
       "3 3      Transporte Intercambiadores\n",
       "4 4      Transporte Intercambiadores\n",
       "5 5      Transporte Intercambiadores\n",
       "  nombre                                              CODMUN\n",
       "1 Grandes Intercambiadores Plaza El<U+00ED>ptica      079   \n",
       "2 Grandes Intercambiadores Moncloa                    079   \n",
       "3 Grandes Intercambiadores Pr<U+00ED>ncipe P<U+00ED>o 079   \n",
       "4 Grandes Intercambiadores Plaza de Castilla          079   \n",
       "5 Grandes Intercambiadores Avenida de Am<U+00E9>rica  079   \n",
       "  DIRECCION                                  info CMUN CDIS dist_aeropuerto\n",
       "1 Plaza El<U+00ED>ptica s/n                  NA   079  12   5.203143       \n",
       "2 Calle Princesa, 89                         NA   079  09   8.550748       \n",
       "3 Estaci<U+00F3>n Pr<U+00ED>ncipe P<U+00ED>o NA   079  09   7.300246       \n",
       "4 Calle San Aquilino y Avenida de Asturias   NA   079  05   9.933907       \n",
       "5 Avenida de Am<U+00E9>rica 9 A              NA   079  05   9.198897       \n",
       "  dist_intercambiador dist_cercanias dist_hospital dist_universidad dist_gob \n",
       "1 0                   1.64897315     1.8154156     1.29960755       0.6177235\n",
       "2 0                   1.46863818     0.4221115     0.30460781       0.6263847\n",
       "3 0                   0.08833869     1.3855767     0.92076145       1.1700512\n",
       "4 0                   0.73687740     1.0733484     0.08835165       0.1490496\n",
       "5 0                   1.62310148     0.3488060     0.50695045       1.1979177\n",
       "  dist_embajada dist_ccomercial X         Y       \n",
       "1 0.39213238    0.7311571       -3.716577 40.38540\n",
       "2 1.45739694    1.6105674       -3.719508 40.43474\n",
       "3 5.62455975    0.9060857       -3.719560 40.42080\n",
       "4 0.08316773    0.7758344       -3.689044 40.46719\n",
       "5 0.40303107    0.9512580       -3.676731 40.43797"
      ]
     },
     "metadata": {},
     "output_type": "display_data"
    }
   ],
   "source": [
    "slice_head(data_02, n = 5)"
   ]
  },
  {
   "attachments": {},
   "cell_type": "markdown",
   "metadata": {},
   "source": [
    "3. Datos del diario de infraestructuras"
   ]
  },
  {
   "cell_type": "markdown",
   "metadata": {},
   "source": [
    "<font color='tomato'><b> OPCION A:</b> Seleccionar fichero en ventana para mayor comodidad</font> "
   ]
  },
  {
   "cell_type": "markdown",
   "metadata": {},
   "source": [
    "Data load using the {tcltk} package. Ucomment the line if not using this option"
   ]
  },
  {
   "cell_type": "code",
   "execution_count": null,
   "metadata": {
    "vscode": {
     "languageId": "r"
    }
   },
   "outputs": [],
   "source": [
    "# file_data_03 <- tcltk::tk_choose.files(multi = FALSE)"
   ]
  },
  {
   "cell_type": "markdown",
   "metadata": {},
   "source": [
    "<font color='tomato'><b> OPCION B:</b> Especificar el nombre de archivo</font>\n",
    "\n"
   ]
  },
  {
   "cell_type": "code",
   "execution_count": 23,
   "metadata": {
    "vscode": {
     "languageId": "r"
    }
   },
   "outputs": [
    {
     "name": "stdout",
     "output_type": "stream",
     "text": [
      "Se leer<U+00E1>n datos del archivo:  Data/Input/CU_18_05_19_02_diario_infra.csv"
     ]
    }
   ],
   "source": [
    "iFile_03 <- \"CU_18_05_19_02_diario_infra.csv\"\n",
    "file_data_03 <- paste0(iPath, iFile_03)\n",
    "\n",
    "if(file.exists(file_data_03)){\n",
    "    cat(\"Se leerán datos del archivo: \", file_data_03)\n",
    "} else{\n",
    "    warning(\"Cuidado: el archivo no existe.\")\n",
    "}\n"
   ]
  },
  {
   "cell_type": "markdown",
   "metadata": {},
   "source": [
    "#### Data file to dataframe\n",
    "\n",
    "Usar la función adecuada según el formato de entrada (xlsx, csv, json, ...)"
   ]
  },
  {
   "cell_type": "code",
   "execution_count": 24,
   "metadata": {
    "vscode": {
     "languageId": "r"
    }
   },
   "outputs": [
    {
     "name": "stderr",
     "output_type": "stream",
     "text": [
      "\u001b[1mRows: \u001b[22m\u001b[34m415370\u001b[39m \u001b[1mColumns: \u001b[22m\u001b[34m6\u001b[39m\n",
      "\u001b[36m--\u001b[39m \u001b[1mColumn specification\u001b[22m \u001b[36m--------------------------------------------------------\u001b[39m\n",
      "\u001b[1mDelimiter:\u001b[22m \",\"\n",
      "\u001b[32mdbl\u001b[39m  (5): id_inf, capacidad, demanda, evento_infra, evento_zona\n",
      "\u001b[34mdate\u001b[39m (1): fecha\n",
      "\n",
      "\u001b[36mi\u001b[39m Use `spec()` to retrieve the full column specification for this data.\n",
      "\u001b[36mi\u001b[39m Specify the column types or set `show_col_types = FALSE` to quiet this message.\n"
     ]
    }
   ],
   "source": [
    "data_03 <- read_csv(file_data_03)\n"
   ]
  },
  {
   "cell_type": "markdown",
   "metadata": {},
   "source": [
    "Estructura de  los datos:"
   ]
  },
  {
   "cell_type": "code",
   "execution_count": 25,
   "metadata": {
    "vscode": {
     "languageId": "r"
    }
   },
   "outputs": [
    {
     "name": "stdout",
     "output_type": "stream",
     "text": [
      "Rows: 415,370\n",
      "Columns: 6\n",
      "$ id_inf       \u001b[3m\u001b[90m<dbl>\u001b[39m\u001b[23m 1, 2, 3, 4, 5, 6, 7, 8, 9, 10, 11, 12, 13, 14, 15, 16, 17~\n",
      "$ fecha        \u001b[3m\u001b[90m<date>\u001b[39m\u001b[23m 2019-01-01, 2019-01-01, 2019-01-01, 2019-01-01, 2019-01-~\n",
      "$ capacidad    \u001b[3m\u001b[90m<dbl>\u001b[39m\u001b[23m 993, 996, 1036, 1020, 992, 1026, 1007, 976, 1037, 972, 94~\n",
      "$ demanda      \u001b[3m\u001b[90m<dbl>\u001b[39m\u001b[23m 883, 888, 922, 1134, 1103, 1139, 897, 1086, 1150, 861, 83~\n",
      "$ evento_infra \u001b[3m\u001b[90m<dbl>\u001b[39m\u001b[23m 1, 0, 0, 1, 1, 0, 0, 1, 1, 0, 1, 1, 0, 0, 0, 1, 0, 1, 1, ~\n",
      "$ evento_zona  \u001b[3m\u001b[90m<dbl>\u001b[39m\u001b[23m 1, 0, 0, 0, 1, 1, 0, 0, 1, 1, 0, 0, 0, 1, 1, 1, 1, 0, 1, ~\n"
     ]
    }
   ],
   "source": [
    "glimpse(data_03)"
   ]
  },
  {
   "cell_type": "markdown",
   "metadata": {},
   "source": [
    "Muestra de datos:"
   ]
  },
  {
   "cell_type": "code",
   "execution_count": 26,
   "metadata": {
    "vscode": {
     "languageId": "r"
    }
   },
   "outputs": [
    {
     "data": {
      "text/html": [
       "<table class=\"dataframe\">\n",
       "<caption>A spec_tbl_df: 5 x 6</caption>\n",
       "<thead>\n",
       "\t<tr><th scope=col>id_inf</th><th scope=col>fecha</th><th scope=col>capacidad</th><th scope=col>demanda</th><th scope=col>evento_infra</th><th scope=col>evento_zona</th></tr>\n",
       "\t<tr><th scope=col>&lt;dbl&gt;</th><th scope=col>&lt;date&gt;</th><th scope=col>&lt;dbl&gt;</th><th scope=col>&lt;dbl&gt;</th><th scope=col>&lt;dbl&gt;</th><th scope=col>&lt;dbl&gt;</th></tr>\n",
       "</thead>\n",
       "<tbody>\n",
       "\t<tr><td>1</td><td>2019-01-01</td><td> 993</td><td> 883</td><td>1</td><td>1</td></tr>\n",
       "\t<tr><td>2</td><td>2019-01-01</td><td> 996</td><td> 888</td><td>0</td><td>0</td></tr>\n",
       "\t<tr><td>3</td><td>2019-01-01</td><td>1036</td><td> 922</td><td>0</td><td>0</td></tr>\n",
       "\t<tr><td>4</td><td>2019-01-01</td><td>1020</td><td>1134</td><td>1</td><td>0</td></tr>\n",
       "\t<tr><td>5</td><td>2019-01-01</td><td> 992</td><td>1103</td><td>1</td><td>1</td></tr>\n",
       "</tbody>\n",
       "</table>\n"
      ],
      "text/latex": [
       "A spec\\_tbl\\_df: 5 x 6\n",
       "\\begin{tabular}{llllll}\n",
       " id\\_inf & fecha & capacidad & demanda & evento\\_infra & evento\\_zona\\\\\n",
       " <dbl> & <date> & <dbl> & <dbl> & <dbl> & <dbl>\\\\\n",
       "\\hline\n",
       "\t 1 & 2019-01-01 &  993 &  883 & 1 & 1\\\\\n",
       "\t 2 & 2019-01-01 &  996 &  888 & 0 & 0\\\\\n",
       "\t 3 & 2019-01-01 & 1036 &  922 & 0 & 0\\\\\n",
       "\t 4 & 2019-01-01 & 1020 & 1134 & 1 & 0\\\\\n",
       "\t 5 & 2019-01-01 &  992 & 1103 & 1 & 1\\\\\n",
       "\\end{tabular}\n"
      ],
      "text/markdown": [
       "\n",
       "A spec_tbl_df: 5 x 6\n",
       "\n",
       "| id_inf &lt;dbl&gt; | fecha &lt;date&gt; | capacidad &lt;dbl&gt; | demanda &lt;dbl&gt; | evento_infra &lt;dbl&gt; | evento_zona &lt;dbl&gt; |\n",
       "|---|---|---|---|---|---|\n",
       "| 1 | 2019-01-01 |  993 |  883 | 1 | 1 |\n",
       "| 2 | 2019-01-01 |  996 |  888 | 0 | 0 |\n",
       "| 3 | 2019-01-01 | 1036 |  922 | 0 | 0 |\n",
       "| 4 | 2019-01-01 | 1020 | 1134 | 1 | 0 |\n",
       "| 5 | 2019-01-01 |  992 | 1103 | 1 | 1 |\n",
       "\n"
      ],
      "text/plain": [
       "  id_inf fecha      capacidad demanda evento_infra evento_zona\n",
       "1 1      2019-01-01  993       883    1            1          \n",
       "2 2      2019-01-01  996       888    0            0          \n",
       "3 3      2019-01-01 1036       922    0            0          \n",
       "4 4      2019-01-01 1020      1134    1            0          \n",
       "5 5      2019-01-01  992      1103    1            1          "
      ]
     },
     "metadata": {},
     "output_type": "display_data"
    }
   ],
   "source": [
    "slice_head(data_03, n = 5)"
   ]
  },
  {
   "cell_type": "markdown",
   "metadata": {
    "slideshow": {
     "slide_type": "slide"
    }
   },
   "source": [
    "## ETL Processes"
   ]
  },
  {
   "attachments": {},
   "cell_type": "markdown",
   "metadata": {
    "slideshow": {
     "slide_type": "slide"
    }
   },
   "source": [
    "### Import data from: CSV, Excel, Tab, JSON, SQL, and Parquet files\n",
    "\n",
    "Se han importado en el apartado Data Load anterior:\n",
    "\n",
    "* Datos de infraestructuras tratados con anterioridad\n",
    "* Datos meteorológicos"
   ]
  },
  {
   "attachments": {},
   "cell_type": "markdown",
   "metadata": {},
   "source": [
    "Incluir apartados si procede para: Extracción de datos (select, filter), Transformación de datos, (mutate, joins, ...). Si es necesario tratar datos perdidos, indicarlo también en NB 09.2"
   ]
  },
  {
   "attachments": {},
   "cell_type": "markdown",
   "metadata": {},
   "source": [
    "Si no aplica: Estos datos no requieren tareas de este tipo."
   ]
  },
  {
   "attachments": {},
   "cell_type": "markdown",
   "metadata": {},
   "source": [
    "#### Data transformation\n",
    "\n",
    "* Convertir tablas de datos en objetos espaciales para poder interpolar"
   ]
  },
  {
   "cell_type": "code",
   "execution_count": 13,
   "metadata": {
    "vscode": {
     "languageId": "r"
    }
   },
   "outputs": [],
   "source": [
    "tdata_01 <- data_01 |> \n",
    "  st_as_sf(coords = c(\"X\", \"Y\"), crs = 4326) \n",
    "tdata_02 <- data_02 |> \n",
    "  st_as_sf(coords = c(\"X\", \"Y\"), crs = 4326) \n"
   ]
  },
  {
   "attachments": {},
   "cell_type": "markdown",
   "metadata": {},
   "source": [
    "* Interpolar temperatura media, precipitación, velocidad media del viento y presión máxima en las coordenadas de cada infraestructura.\n",
    "\n",
    "NOTA: esta operación puede tardar varios minutos."
   ]
  },
  {
   "cell_type": "code",
   "execution_count": 21,
   "metadata": {
    "vscode": {
     "languageId": "r"
    }
   },
   "outputs": [
    {
     "name": "stdout",
     "output_type": "stream",
     "text": [
      "[1] \"a possible solution MIGHT be to scale semivariances and/or distances\"\n",
      "[1] \"a possible solution MIGHT be to scale semivariances and/or distances\"\n",
      "[1] \"a possible solution MIGHT be to scale semivariances and/or distances\"\n",
      "[1] \"a possible solution MIGHT be to scale semivariances and/or distances\"\n",
      "[1] \"a possible solution MIGHT be to scale semivariances and/or distances\"\n",
      "[1] \"a possible solution MIGHT be to scale semivariances and/or distances\"\n",
      "[1] \"a possible solution MIGHT be to scale semivariances and/or distances\"\n",
      "[1] \"a possible solution MIGHT be to scale semivariances and/or distances\"\n",
      "[1] \"a possible solution MIGHT be to scale semivariances and/or distances\"\n",
      "[1] \"a possible solution MIGHT be to scale semivariances and/or distances\"\n",
      "[1] \"a possible solution MIGHT be to scale semivariances and/or distances\"\n",
      "[1] \"a possible solution MIGHT be to scale semivariances and/or distances\"\n",
      "[1] \"a possible solution MIGHT be to scale semivariances and/or distances\"\n",
      "[1] \"a possible solution MIGHT be to scale semivariances and/or distances\"\n",
      "[1] \"a possible solution MIGHT be to scale semivariances and/or distances\"\n",
      "[1] \"a possible solution MIGHT be to scale semivariances and/or distances\"\n",
      "[1] \"a possible solution MIGHT be to scale semivariances and/or distances\"\n",
      "[1] \"a possible solution MIGHT be to scale semivariances and/or distances\"\n",
      "[1] \"a possible solution MIGHT be to scale semivariances and/or distances\"\n",
      "[1] \"a possible solution MIGHT be to scale semivariances and/or distances\"\n",
      "[1] \"a possible solution MIGHT be to scale semivariances and/or distances\"\n",
      "[1] \"a possible solution MIGHT be to scale semivariances and/or distances\"\n",
      "[1] \"a possible solution MIGHT be to scale semivariances and/or distances\"\n",
      "[1] \"a possible solution MIGHT be to scale semivariances and/or distances\"\n"
     ]
    }
   ],
   "source": [
    "meteovars <- c(\"tmed\", \"prec\", \"velmedia\", \"presMax\")\n",
    "fechas <- tdata_01 |> pull(fecha) |> unique()\n",
    "resl <- list()\n",
    "\n",
    "for (i in seq_along(fechas)){\n",
    "  f <- fechas[i]\n",
    "#   cat(\"Calculando\", as.character(f), \"\\n\")\n",
    "  meteod <- tdata_01 |> \n",
    "    filter(fecha == f) |> \n",
    "    select(all_of(meteovars)) \n",
    "  \n",
    "  res <- tdata_02 |> select(id_inf) |> st_drop_geometry()\n",
    "  for (j in seq_along(meteovars)){\n",
    "    thisvar <- meteovars[j] \n",
    "    meteodc <- meteod |> \n",
    "      drop_na(all_of(thisvar))\n",
    "    \n",
    "    if(all(meteodc |> pull(thisvar) == 0)){\n",
    "      res <- res |> \n",
    "        mutate(!!thisvar := 0)\n",
    "    } else{\n",
    "      \n",
    "      fo <- as.formula(paste0(thisvar, \" ~ 1\"))\n",
    "      v0 <- variogram(fo, meteodc)\n",
    "      v.m <- suppressWarnings(fit.variogram(v0, \n",
    "        vgm(c(\"Exp\", \"Mat\", \"Sph\", \"Log\", \"Wav\", \"Bes\", \"Lin\", \"Leg\"))))\n",
    "      invisible(capture.output(suppressWarnings(krg <- krige(fo, \n",
    "                   locations = meteodc,\n",
    "                   newdata = tdata_02,\n",
    "                   model = v.m))))\n",
    "      res <- res |> \n",
    "        mutate(!!thisvar := krg$var1.pred)\n",
    "    }\n",
    "  }\n",
    "  res <- res |> \n",
    "    mutate(fecha = f)\n",
    "  resl[[i]] <- res\n",
    "}\n",
    "\n",
    "data <- bind_rows(resl)"
   ]
  },
  {
   "cell_type": "code",
   "execution_count": 28,
   "metadata": {
    "vscode": {
     "languageId": "r"
    }
   },
   "outputs": [
    {
     "name": "stdout",
     "output_type": "stream",
     "text": [
      "Rows: 415,370\n",
      "Columns: 6\n",
      "$ id_inf   \u001b[3m\u001b[90m<dbl>\u001b[39m\u001b[23m 1, 2, 3, 4, 5, 6, 7, 8, 9, 10, 11, 12, 13, 14, 15, 16, 17, 18~\n",
      "$ tmed     \u001b[3m\u001b[90m<dbl>\u001b[39m\u001b[23m 6.953211, 6.196420, 6.483569, 5.875797, 6.212680, 5.878542, 6~\n",
      "$ prec     \u001b[3m\u001b[90m<dbl>\u001b[39m\u001b[23m 0, 0, 0, 0, 0, 0, 0, 0, 0, 0, 0, 0, 0, 0, 0, 0, 0, 0, 0, 0, 0~\n",
      "$ velmedia \u001b[3m\u001b[90m<dbl>\u001b[39m\u001b[23m 0.6433886, 0.3417523, 0.4132169, 0.1820178, 0.2118110, 0.1742~\n",
      "$ presMax  \u001b[3m\u001b[90m<dbl>\u001b[39m\u001b[23m 952.9357, 950.2191, 950.8051, 951.6768, 953.5118, 952.1681, 9~\n",
      "$ fecha    \u001b[3m\u001b[90m<date>\u001b[39m\u001b[23m 2019-01-01, 2019-01-01, 2019-01-01, 2019-01-01, 2019-01-01, ~\n"
     ]
    }
   ],
   "source": [
    "glimpse(data)"
   ]
  },
  {
   "attachments": {},
   "cell_type": "markdown",
   "metadata": {},
   "source": [
    "* Unir datos meteorológicos al diario de infraestructuras"
   ]
  },
  {
   "cell_type": "code",
   "execution_count": 29,
   "metadata": {
    "vscode": {
     "languageId": "r"
    }
   },
   "outputs": [],
   "source": [
    "tdata <- data_03 |>\n",
    "    inner_join(data, by = c(\"id_inf\", \"fecha\"))"
   ]
  },
  {
   "cell_type": "code",
   "execution_count": 30,
   "metadata": {
    "vscode": {
     "languageId": "r"
    }
   },
   "outputs": [
    {
     "name": "stdout",
     "output_type": "stream",
     "text": [
      "Rows: 415,370\n",
      "Columns: 10\n",
      "$ id_inf       \u001b[3m\u001b[90m<dbl>\u001b[39m\u001b[23m 1, 2, 3, 4, 5, 6, 7, 8, 9, 10, 11, 12, 13, 14, 15, 16, 17~\n",
      "$ fecha        \u001b[3m\u001b[90m<date>\u001b[39m\u001b[23m 2019-01-01, 2019-01-01, 2019-01-01, 2019-01-01, 2019-01-~\n",
      "$ capacidad    \u001b[3m\u001b[90m<dbl>\u001b[39m\u001b[23m 993, 996, 1036, 1020, 992, 1026, 1007, 976, 1037, 972, 94~\n",
      "$ demanda      \u001b[3m\u001b[90m<dbl>\u001b[39m\u001b[23m 883, 888, 922, 1134, 1103, 1139, 897, 1086, 1150, 861, 83~\n",
      "$ evento_infra \u001b[3m\u001b[90m<dbl>\u001b[39m\u001b[23m 1, 0, 0, 1, 1, 0, 0, 1, 1, 0, 1, 1, 0, 0, 0, 1, 0, 1, 1, ~\n",
      "$ evento_zona  \u001b[3m\u001b[90m<dbl>\u001b[39m\u001b[23m 1, 0, 0, 0, 1, 1, 0, 0, 1, 1, 0, 0, 0, 1, 1, 1, 1, 0, 1, ~\n",
      "$ tmed         \u001b[3m\u001b[90m<dbl>\u001b[39m\u001b[23m 6.953211, 6.196420, 6.483569, 5.875797, 6.212680, 5.87854~\n",
      "$ prec         \u001b[3m\u001b[90m<dbl>\u001b[39m\u001b[23m 0, 0, 0, 0, 0, 0, 0, 0, 0, 0, 0, 0, 0, 0, 0, 0, 0, 0, 0, ~\n",
      "$ velmedia     \u001b[3m\u001b[90m<dbl>\u001b[39m\u001b[23m 0.6433886, 0.3417523, 0.4132169, 0.1820178, 0.2118110, 0.~\n",
      "$ presMax      \u001b[3m\u001b[90m<dbl>\u001b[39m\u001b[23m 952.9357, 950.2191, 950.8051, 951.6768, 953.5118, 952.168~\n"
     ]
    }
   ],
   "source": [
    "glimpse(tdata)"
   ]
  },
  {
   "cell_type": "code",
   "execution_count": 31,
   "metadata": {
    "vscode": {
     "languageId": "r"
    }
   },
   "outputs": [
    {
     "data": {
      "text/html": [
       "<table class=\"dataframe\">\n",
       "<caption>A spec_tbl_df: 5 x 10</caption>\n",
       "<thead>\n",
       "\t<tr><th scope=col>id_inf</th><th scope=col>fecha</th><th scope=col>capacidad</th><th scope=col>demanda</th><th scope=col>evento_infra</th><th scope=col>evento_zona</th><th scope=col>tmed</th><th scope=col>prec</th><th scope=col>velmedia</th><th scope=col>presMax</th></tr>\n",
       "\t<tr><th scope=col>&lt;dbl&gt;</th><th scope=col>&lt;date&gt;</th><th scope=col>&lt;dbl&gt;</th><th scope=col>&lt;dbl&gt;</th><th scope=col>&lt;dbl&gt;</th><th scope=col>&lt;dbl&gt;</th><th scope=col>&lt;dbl&gt;</th><th scope=col>&lt;dbl&gt;</th><th scope=col>&lt;dbl&gt;</th><th scope=col>&lt;dbl&gt;</th></tr>\n",
       "</thead>\n",
       "<tbody>\n",
       "\t<tr><td>1</td><td>2019-01-01</td><td> 993</td><td> 883</td><td>1</td><td>1</td><td>6.953211</td><td>0</td><td>0.6433886</td><td>952.9357</td></tr>\n",
       "\t<tr><td>2</td><td>2019-01-01</td><td> 996</td><td> 888</td><td>0</td><td>0</td><td>6.196420</td><td>0</td><td>0.3417523</td><td>950.2191</td></tr>\n",
       "\t<tr><td>3</td><td>2019-01-01</td><td>1036</td><td> 922</td><td>0</td><td>0</td><td>6.483569</td><td>0</td><td>0.4132169</td><td>950.8051</td></tr>\n",
       "\t<tr><td>4</td><td>2019-01-01</td><td>1020</td><td>1134</td><td>1</td><td>0</td><td>5.875797</td><td>0</td><td>0.1820178</td><td>951.6768</td></tr>\n",
       "\t<tr><td>5</td><td>2019-01-01</td><td> 992</td><td>1103</td><td>1</td><td>1</td><td>6.212680</td><td>0</td><td>0.2118110</td><td>953.5118</td></tr>\n",
       "</tbody>\n",
       "</table>\n"
      ],
      "text/latex": [
       "A spec\\_tbl\\_df: 5 x 10\n",
       "\\begin{tabular}{llllllllll}\n",
       " id\\_inf & fecha & capacidad & demanda & evento\\_infra & evento\\_zona & tmed & prec & velmedia & presMax\\\\\n",
       " <dbl> & <date> & <dbl> & <dbl> & <dbl> & <dbl> & <dbl> & <dbl> & <dbl> & <dbl>\\\\\n",
       "\\hline\n",
       "\t 1 & 2019-01-01 &  993 &  883 & 1 & 1 & 6.953211 & 0 & 0.6433886 & 952.9357\\\\\n",
       "\t 2 & 2019-01-01 &  996 &  888 & 0 & 0 & 6.196420 & 0 & 0.3417523 & 950.2191\\\\\n",
       "\t 3 & 2019-01-01 & 1036 &  922 & 0 & 0 & 6.483569 & 0 & 0.4132169 & 950.8051\\\\\n",
       "\t 4 & 2019-01-01 & 1020 & 1134 & 1 & 0 & 5.875797 & 0 & 0.1820178 & 951.6768\\\\\n",
       "\t 5 & 2019-01-01 &  992 & 1103 & 1 & 1 & 6.212680 & 0 & 0.2118110 & 953.5118\\\\\n",
       "\\end{tabular}\n"
      ],
      "text/markdown": [
       "\n",
       "A spec_tbl_df: 5 x 10\n",
       "\n",
       "| id_inf &lt;dbl&gt; | fecha &lt;date&gt; | capacidad &lt;dbl&gt; | demanda &lt;dbl&gt; | evento_infra &lt;dbl&gt; | evento_zona &lt;dbl&gt; | tmed &lt;dbl&gt; | prec &lt;dbl&gt; | velmedia &lt;dbl&gt; | presMax &lt;dbl&gt; |\n",
       "|---|---|---|---|---|---|---|---|---|---|\n",
       "| 1 | 2019-01-01 |  993 |  883 | 1 | 1 | 6.953211 | 0 | 0.6433886 | 952.9357 |\n",
       "| 2 | 2019-01-01 |  996 |  888 | 0 | 0 | 6.196420 | 0 | 0.3417523 | 950.2191 |\n",
       "| 3 | 2019-01-01 | 1036 |  922 | 0 | 0 | 6.483569 | 0 | 0.4132169 | 950.8051 |\n",
       "| 4 | 2019-01-01 | 1020 | 1134 | 1 | 0 | 5.875797 | 0 | 0.1820178 | 951.6768 |\n",
       "| 5 | 2019-01-01 |  992 | 1103 | 1 | 1 | 6.212680 | 0 | 0.2118110 | 953.5118 |\n",
       "\n"
      ],
      "text/plain": [
       "  id_inf fecha      capacidad demanda evento_infra evento_zona tmed     prec\n",
       "1 1      2019-01-01  993       883    1            1           6.953211 0   \n",
       "2 2      2019-01-01  996       888    0            0           6.196420 0   \n",
       "3 3      2019-01-01 1036       922    0            0           6.483569 0   \n",
       "4 4      2019-01-01 1020      1134    1            0           5.875797 0   \n",
       "5 5      2019-01-01  992      1103    1            1           6.212680 0   \n",
       "  velmedia  presMax \n",
       "1 0.6433886 952.9357\n",
       "2 0.3417523 950.2191\n",
       "3 0.4132169 950.8051\n",
       "4 0.1820178 951.6768\n",
       "5 0.2118110 953.5118"
      ]
     },
     "metadata": {},
     "output_type": "display_data"
    }
   ],
   "source": [
    "tdata |> slice_head(n = 5)"
   ]
  },
  {
   "cell_type": "markdown",
   "metadata": {
    "slideshow": {
     "slide_type": "slide"
    }
   },
   "source": [
    "## Synthetic Data Generation"
   ]
  },
  {
   "attachments": {},
   "cell_type": "markdown",
   "metadata": {
    "slideshow": {
     "slide_type": "slide"
    }
   },
   "source": [
    "No aplica"
   ]
  },
  {
   "cell_type": "markdown",
   "metadata": {
    "slideshow": {
     "slide_type": "slide"
    }
   },
   "source": [
    "## Fake Data Generation"
   ]
  },
  {
   "attachments": {},
   "cell_type": "markdown",
   "metadata": {
    "slideshow": {
     "slide_type": "slide"
    }
   },
   "source": [
    "No aplica"
   ]
  },
  {
   "cell_type": "markdown",
   "metadata": {
    "slideshow": {
     "slide_type": "slide"
    }
   },
   "source": [
    "## Open Data"
   ]
  },
  {
   "attachments": {},
   "cell_type": "markdown",
   "metadata": {
    "slideshow": {
     "slide_type": "slide"
    }
   },
   "source": [
    "Los datos originales procedían de fuentes abiertas"
   ]
  },
  {
   "cell_type": "markdown",
   "metadata": {},
   "source": [
    "## <font color='green'>Data Save</font>"
   ]
  },
  {
   "attachments": {},
   "cell_type": "markdown",
   "metadata": {},
   "source": [
    "Este proceso, puede copiarse y repetirse en aquellas partes del notebbok que necesiten guardar datos.\n",
    "Recuerde cambiar las cadenas añadida del fichero para diferenciarlas"
   ]
  },
  {
   "cell_type": "markdown",
   "metadata": {},
   "source": [
    "<font color='tomato'> Identificamos los datos a guardar</font>"
   ]
  },
  {
   "cell_type": "code",
   "execution_count": 32,
   "metadata": {
    "ExecuteTime": {
     "end_time": "2020-12-25T17:59:27.022001Z",
     "start_time": "2020-12-25T17:59:15.986986Z"
    },
    "scrolled": false,
    "vscode": {
     "languageId": "r"
    }
   },
   "outputs": [],
   "source": [
    "data_to_save <- tdata"
   ]
  },
  {
   "attachments": {},
   "cell_type": "markdown",
   "metadata": {},
   "source": [
    "\n",
    "<font color='tomato'>Estructura de nombre de archivos:</font>\n",
    "\n",
    "* Código del caso de uso, por ejemplo \"CU_04\"\n",
    "* Número del proceso que lo genera, por ejemplo \"_05\".\n",
    "* Número de la tarea que lo genera, por ejemplo \"_01\"\n",
    "* En caso de generarse varios ficheros en la misma tarea, llevarán _01 _02 ... después\n",
    "* Nombre: identificativo de \"properData\", por ejemplo \"_zonasgeo\"\n",
    "* Extensión del archivo\n",
    "\n",
    "Ejemplo: \"CU_04_05_01_01_zonasgeo.json, primer fichero que se genera en la tarea 01 del proceso 05 (Data Collection) para el caso de uso 04 (vacunas)\n",
    "\n",
    "Importante mantener los guiones bajos antes de proceso, tarea, archivo y nombre"
   ]
  },
  {
   "attachments": {},
   "cell_type": "markdown",
   "metadata": {},
   "source": [
    "### Proceso 05"
   ]
  },
  {
   "cell_type": "code",
   "execution_count": 33,
   "metadata": {
    "ExecuteTime": {
     "end_time": "2020-12-25T17:59:27.022001Z",
     "start_time": "2020-12-25T17:59:15.986986Z"
    },
    "scrolled": false,
    "vscode": {
     "languageId": "r"
    }
   },
   "outputs": [],
   "source": [
    "caso <- \"CU_18\"\n",
    "proceso <- '_05'\n",
    "tarea <- \"_20\"\n",
    "archivo <- \"\"\n",
    "proper <- \"_diario_infra\"\n",
    "extension <- \".csv\""
   ]
  },
  {
   "attachments": {},
   "cell_type": "markdown",
   "metadata": {},
   "source": [
    "<font color='tomato'><b> OPCION A:</b> Uso del paquete \"tcltk\" para mayor comodidad</font>\n",
    "\n",
    "* Buscar carpeta, escribir nombre de archivo SIN extensión (se especifica en el código)\n",
    "* Especificar sufijo2 si es necesario\n",
    "* Cambiar datos por datos_xx si es necesario"
   ]
  },
  {
   "cell_type": "code",
   "execution_count": null,
   "metadata": {
    "ExecuteTime": {
     "end_time": "2020-12-25T17:59:27.022001Z",
     "start_time": "2020-12-25T17:59:15.986986Z"
    },
    "scrolled": false,
    "vscode": {
     "languageId": "r"
    }
   },
   "outputs": [],
   "source": [
    "# file_save <- paste0(caso, proceso, tarea, tcltk::tkgetSaveFile(), proper, extension) \n",
    "# path_out <- paste0(oPath, file_save)\n",
    "# write_csv(data_to_save, path_out)\n",
    "\n",
    "# cat('File saved as: ')\n",
    "# path_out"
   ]
  },
  {
   "attachments": {},
   "cell_type": "markdown",
   "metadata": {},
   "source": [
    "<font color='tomato'><b> OPCION B:</b> Especificar el nombre de archivo</font>"
   ]
  },
  {
   "attachments": {},
   "cell_type": "markdown",
   "metadata": {},
   "source": [
    "- Los ficheros de salida del proceso van siempre a Data/Output/.  "
   ]
  },
  {
   "cell_type": "code",
   "execution_count": 34,
   "metadata": {
    "ExecuteTime": {
     "end_time": "2021-01-26T18:40:31.258294Z",
     "start_time": "2021-01-26T18:40:26.061847Z"
    },
    "slideshow": {
     "slide_type": "subslide"
    },
    "vscode": {
     "languageId": "r"
    }
   },
   "outputs": [
    {
     "name": "stdout",
     "output_type": "stream",
     "text": [
      "File saved as: "
     ]
    },
    {
     "data": {
      "text/html": [
       "'Data/Output/CU_18_05_20_diario_infra.csv'"
      ],
      "text/latex": [
       "'Data/Output/CU\\_18\\_05\\_20\\_diario\\_infra.csv'"
      ],
      "text/markdown": [
       "'Data/Output/CU_18_05_20_diario_infra.csv'"
      ],
      "text/plain": [
       "[1] \"Data/Output/CU_18_05_20_diario_infra.csv\""
      ]
     },
     "metadata": {},
     "output_type": "display_data"
    }
   ],
   "source": [
    "file_save <- paste0(caso, proceso, tarea, archivo, proper, extension) \n",
    "path_out <- paste0(oPath, file_save)\n",
    "write_csv(data_to_save, path_out)\n",
    "\n",
    "cat('File saved as: ')\n",
    "path_out"
   ]
  },
  {
   "attachments": {},
   "cell_type": "markdown",
   "metadata": {},
   "source": [
    "#### Copia del fichero a Input\n",
    "\n",
    "Si el archivo se va a usar en otros notebooks, copiar a la carpeta Input"
   ]
  },
  {
   "cell_type": "code",
   "execution_count": 35,
   "metadata": {
    "vscode": {
     "languageId": "r"
    }
   },
   "outputs": [
    {
     "data": {
      "text/html": [
       "TRUE"
      ],
      "text/latex": [
       "TRUE"
      ],
      "text/markdown": [
       "TRUE"
      ],
      "text/plain": [
       "[1] TRUE"
      ]
     },
     "metadata": {},
     "output_type": "display_data"
    }
   ],
   "source": [
    "path_in <- paste0(iPath, file_save)\n",
    "file.copy(path_out, path_in, overwrite = TRUE)"
   ]
  },
  {
   "cell_type": "markdown",
   "metadata": {},
   "source": [
    "## <font color=' #2874a6 '>Main Conclusions</font>"
   ]
  },
  {
   "cell_type": "markdown",
   "metadata": {
    "slideshow": {
     "slide_type": "slide"
    }
   },
   "source": [
    "<font color='steelblue'>List and describe the general conclusions of the analysis carried out​.</font>"
   ]
  },
  {
   "attachments": {},
   "cell_type": "markdown",
   "metadata": {},
   "source": [
    "### Prerequisites\n",
    "\n",
    "Para que funcione este código se necesita:\n",
    "\n",
    "* Las rutas de archivos `Data/Input` y `Data/Output` deben existir (relativas a la ruta del _notebook_)\n",
    "* El paquete tcltk instalado para seleccionar archivos interactivamente. No se necesita en producción.\n",
    "* Los paquetes tcltk, sf, readr, dplyr, tidyr, gstat deben estar instalados.\n"
   ]
  },
  {
   "cell_type": "code",
   "execution_count": 36,
   "metadata": {
    "vscode": {
     "languageId": "r"
    }
   },
   "outputs": [
    {
     "name": "stdout",
     "output_type": "stream",
     "text": [
      "Los paquetes tcltk, sf, readr, dplyr, tidyr, gstat deben estar instalados."
     ]
    }
   ],
   "source": [
    "cat(\"Los paquetes\", paste(p, collapse = \", \"), \"deben estar instalados.\")"
   ]
  },
  {
   "attachments": {},
   "cell_type": "markdown",
   "metadata": {},
   "source": [
    "### Configuration Management\n",
    "\n",
    "This notebook has been tested with the following versions of R and packages. It cannot be assured that later versions work in the same way:\n",
    "\n",
    "* R 4.2.2\n",
    "* tcltk 4.2.2\n",
    "* sf 1.0.9\n",
    "* readr 2.1.3\n",
    "* dplyr 1.0.10\n",
    "* tidyr 1.3.0\n",
    "* gstat 2.1.0"
   ]
  },
  {
   "attachments": {},
   "cell_type": "markdown",
   "metadata": {},
   "source": [
    "### Data structures"
   ]
  },
  {
   "attachments": {},
   "cell_type": "markdown",
   "metadata": {},
   "source": [
    "#### Objeto `tdata`\n",
    "\n",
    "- Los datos de origen son las ubicaciones de infraestructuras y los datos de las estaciones meteorológicas\n",
    "- Hay 415370 filas con las variables:\n",
    "\t* id_inf\n",
    "\t* fecha\n",
    "\t* capacidad\n",
    "\t* demanda\n",
    "\t* evento_infra\n",
    "\t* evento_zona\n",
    "\t* tmed\n",
    "\t* prec\n",
    "\t* velmedia\n",
    "\t* presMax\n"
   ]
  },
  {
   "attachments": {},
   "cell_type": "markdown",
   "metadata": {},
   "source": [
    "#### Observaciones generales sobre los datos\n",
    "\n",
    "* Las estimaciones por interpolación pueden resultar en valores no válidos"
   ]
  },
  {
   "attachments": {},
   "cell_type": "markdown",
   "metadata": {},
   "source": [
    "### Consideraciones para despliegue en piloto\n",
    "\n",
    "* Los datos de capacidad y demanda son simulados mientras no se tengan datos completos en las tareas anteriores"
   ]
  },
  {
   "attachments": {},
   "cell_type": "markdown",
   "metadata": {},
   "source": [
    "### Consideraciones para despliegue en producción\n",
    "\n",
    "* Se deben crear los procesos ETL en producción necesarios para que los datos de entrada estén actualizados"
   ]
  },
  {
   "cell_type": "markdown",
   "metadata": {},
   "source": [
    "## <font color=' #2874a6 '>Main Actions</font>"
   ]
  },
  {
   "cell_type": "markdown",
   "metadata": {},
   "source": [
    "#### <font color=' #2874a6 '>Acciones done</font>"
   ]
  },
  {
   "cell_type": "markdown",
   "metadata": {
    "slideshow": {
     "slide_type": "slide"
    }
   },
   "source": [
    "<font color='steelblue'>Indicate the actions that have been carried out in this process</font>"
   ]
  },
  {
   "attachments": {},
   "cell_type": "markdown",
   "metadata": {},
   "source": [
    "- Se han estimado las variables meteorológicas en las coordenadas de cada infraestructura para cada día de 2019\n",
    "- Se han unido las estimaciones al diario de infraestructuras con datos simulados"
   ]
  },
  {
   "cell_type": "markdown",
   "metadata": {},
   "source": [
    "#### <font color=' #2874a6 '>Acctions to perform</font>"
   ]
  },
  {
   "cell_type": "markdown",
   "metadata": {
    "slideshow": {
     "slide_type": "slide"
    }
   },
   "source": [
    "<font color='steelblue'>Indicate the actions that must be carried out in subsequent processes</font>"
   ]
  },
  {
   "attachments": {},
   "cell_type": "markdown",
   "metadata": {},
   "source": [
    "- Se debe comprobar y en su caso corregir la inconsistencia en las estimaciones (por ejemplo, precipitación o velocidad menor de cero)"
   ]
  },
  {
   "attachments": {},
   "cell_type": "markdown",
   "metadata": {},
   "source": [
    "## <font color='RED'>CODE TO DEPLOY (PILOT)</font>\n",
    "\n",
    "A continuación se incluirá el código que deba ser llevado a despliegue para producción, dado que se entiende efectúa operaciones necesarias sobre los datos en la ejecución del prototipo"
   ]
  },
  {
   "attachments": {},
   "cell_type": "markdown",
   "metadata": {},
   "source": [
    "<font color=' red '><b>Description</b></font>\n",
    "\n",
    "- No hay código que desplegar en el piloto, ya que estos datos son estáticos para el piloto (2019).\n",
    "- El fichero de salida se debe incluir en la ruta de datos de la implementación ya que será utilizado en los modelos\n",
    "\n"
   ]
  },
  {
   "attachments": {},
   "cell_type": "markdown",
   "metadata": {},
   "source": [
    "<font color=' red '><b>CODE</b></font>"
   ]
  },
  {
   "cell_type": "code",
   "execution_count": null,
   "metadata": {
    "vscode": {
     "languageId": "r"
    }
   },
   "outputs": [],
   "source": [
    "# incluir código"
   ]
  }
 ],
 "metadata": {
  "anaconda-cloud": {},
  "celltoolbar": "Slideshow",
  "hide_input": false,
  "kernelspec": {
   "display_name": "R",
   "language": "R",
   "name": "ir"
  },
  "language_info": {
   "codemirror_mode": "r",
   "file_extension": ".r",
   "mimetype": "text/x-r-source",
   "name": "R",
   "pygments_lexer": "r",
   "version": "4.2.2"
  },
  "latex_envs": {
   "LaTeX_envs_menu_present": true,
   "autoclose": false,
   "autocomplete": true,
   "bibliofile": "biblio.bib",
   "cite_by": "apalike",
   "current_citInitial": 1,
   "eqLabelWithNumbers": true,
   "eqNumInitial": 1,
   "hotkeys": {
    "equation": "Ctrl-E",
    "itemize": "Ctrl-I"
   },
   "labels_anchors": false,
   "latex_user_defs": false,
   "report_style_numbering": true,
   "user_envs_cfg": false
  },
  "toc": {
   "base_numbering": 1,
   "nav_menu": {
    "height": "11.6px",
    "width": "160px"
   },
   "number_sections": false,
   "sideBar": true,
   "skip_h1_title": true,
   "title_cell": "Table of Contents",
   "title_sidebar": "Contents",
   "toc_cell": true,
   "toc_position": {
    "height": "calc(100% - 180px)",
    "left": "10px",
    "top": "150px",
    "width": "209.2px"
   },
   "toc_section_display": true,
   "toc_window_display": true
  },
  "varInspector": {
   "cols": {
    "lenName": 16,
    "lenType": 16,
    "lenVar": 40
   },
   "kernels_config": {
    "python": {
     "delete_cmd_postfix": "",
     "delete_cmd_prefix": "del ",
     "library": "var_list.py",
     "varRefreshCmd": "print(var_dic_list())"
    },
    "r": {
     "delete_cmd_postfix": ") ",
     "delete_cmd_prefix": "rm(",
     "library": "var_list.r",
     "varRefreshCmd": "cat(var_dic_list()) "
    }
   },
   "types_to_exclude": [
    "module",
    "function",
    "builtin_function_or_method",
    "instance",
    "_Feature"
   ],
   "window_display": false
  }
 },
 "nbformat": 4,
 "nbformat_minor": 1
}
