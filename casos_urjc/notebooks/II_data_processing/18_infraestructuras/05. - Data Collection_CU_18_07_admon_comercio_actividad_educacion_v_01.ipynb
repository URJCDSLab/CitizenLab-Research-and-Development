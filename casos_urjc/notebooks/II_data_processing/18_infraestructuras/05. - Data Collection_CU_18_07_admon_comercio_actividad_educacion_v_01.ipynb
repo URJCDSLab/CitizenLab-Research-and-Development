{
 "cells": [
  {
   "cell_type": "markdown",
   "metadata": {
    "slideshow": {
     "slide_type": "slide"
    }
   },
   "source": [
    "<img src=\".\\images\\Logo.png\" width=150 align=\"left\" /> <img src=\".\\images\\Logo2.jpg\" width=450 align=\"right\" />"
   ]
  },
  {
   "cell_type": "markdown",
   "metadata": {
    "slideshow": {
     "slide_type": "slide"
    }
   },
   "source": [
    "\n",
    "# <center><font color= #1e8449 > <b>CUxx_xxxxx</font></center>"
   ]
  },
  {
   "cell_type": "markdown",
   "metadata": {
    "slideshow": {
     "slide_type": "slide"
    }
   },
   "source": [
    "<font color='steelblue'><b>Citizenlab Data Science Methodology > II - Data Processing Domain </font>\n",
    "***\n",
    "> # <font color='steelblue'> <b>05.- Data Collection</font>"
   ]
  },
  {
   "cell_type": "markdown",
   "metadata": {
    "slideshow": {
     "slide_type": "slide"
    }
   },
   "source": [
    "<font color='steelblue'>Data Collection is the process to obtain and generate (if required) necessary data to model the problem.</font>"
   ]
  },
  {
   "cell_type": "markdown",
   "metadata": {},
   "source": [
    "### 07. Crear csv con datos de administración y empresas\n",
    "\n",
    "* Crear archivo csv con datos de stablecimientos de administración, colectivo empresarial, comercio y educación, incluyendo coordenadas, tipo y distrito censal\n",
    "\n",
    "* Consolidar los datos en formato shp en data.frames con coordenadas\n",
    "* Total 12 ficheros de entrada y uno de salida\n",
    "\n",
    "\n",
    "\n",
    "\n",
    "\n"
   ]
  },
  {
   "cell_type": "markdown",
   "metadata": {
    "toc": true
   },
   "source": [
    "<h1>Table of Contents<span class=\"tocSkip\"></span></h1>\n",
    "<div class=\"toc\"><ul class=\"toc-item\"><li><span><a href=\"#Settings\" data-toc-modified-id=\"Settings-1\"><font color=\"green\">Settings</font></a></span></li><li><span><a href=\"#Data-Load\" data-toc-modified-id=\"Data-Load-2\"><font color=\"green\">Data Load</font></a></span></li><li><span><a href=\"#ETL-Processes\" data-toc-modified-id=\"ETL-Processes-3\">ETL Processes</a></span><ul class=\"toc-item\"><li><span><a href=\"#Import-data-from:-CSV,-Excel,-Tab,-JSON,-SQL,-and-Parquet-files\" data-toc-modified-id=\"Import-data-from:-CSV,-Excel,-Tab,-JSON,-SQL,-and-Parquet-files-3.1\">Import data from: CSV, Excel, Tab, JSON, SQL, and Parquet files</a></span></li></ul></li><li><span><a href=\"#Synthetic-Data-Generation\" data-toc-modified-id=\"Synthetic-Data-Generation-4\">Synthetic Data Generation</a></span></li><li><span><a href=\"#Fake-Data-Generation\" data-toc-modified-id=\"Fake-Data-Generation-5\">Fake Data Generation</a></span></li><li><span><a href=\"#Open-Data\" data-toc-modified-id=\"Open-Data-6\">Open Data</a></span></li><li><span><a href=\"#Data-Save\" data-toc-modified-id=\"Data-Save-7\"><font color=\"green\">Data Save</font></a></span></li><li><span><a href=\"#Main-Conclusions\" data-toc-modified-id=\"Main-Conclusions-8\"><font color=\" #2874a6 \">Main Conclusions</font></a></span></li><li><span><a href=\"#Main-Actions\" data-toc-modified-id=\"Main-Actions-9\"><font color=\" #2874a6 \">Main Actions</font></a></span><ul class=\"toc-item\"><li><ul class=\"toc-item\"><li><span><a href=\"#Acciones-done\" data-toc-modified-id=\"Acciones-done-9.0.1\"><font color=\" #2874a6 \">Acciones done</font></a></span></li><li><span><a href=\"#Acctions-to-perform\" data-toc-modified-id=\"Acctions-to-perform-9.0.2\"><font color=\" #2874a6 \">Acctions to perform</font></a></span></li></ul></li></ul></li></ul></div>"
   ]
  },
  {
   "cell_type": "markdown",
   "metadata": {
    "slideshow": {
     "slide_type": "slide"
    }
   },
   "source": [
    "## <font color='green'>Settings</font>"
   ]
  },
  {
   "cell_type": "markdown",
   "metadata": {},
   "source": [
    "### Packages to use\n",
    "\n",
    "- {sf} para trabajar con georeferenciación\n",
    "- {readr} para leer y escribir archivos csv\n",
    "- {dplyr} para explorar y manipular datos\n",
    "- {dplyr} para organizar datos\n"
   ]
  },
  {
   "cell_type": "code",
   "execution_count": 1,
   "metadata": {
    "ExecuteTime": {
     "end_time": "2021-12-03T15:23:33.762841Z",
     "start_time": "2021-12-03T15:23:08.580267Z"
    },
    "slideshow": {
     "slide_type": "subslide"
    },
    "vscode": {
     "languageId": "r"
    }
   },
   "outputs": [
    {
     "name": "stderr",
     "output_type": "stream",
     "text": [
      "Linking to GEOS 3.10.2, GDAL 3.4.2, PROJ 8.2.1; sf_use_s2() is TRUE\n",
      "\n",
      "\n",
      "Attaching package: ‘dplyr’\n",
      "\n",
      "\n",
      "The following objects are masked from ‘package:stats’:\n",
      "\n",
      "    filter, lag\n",
      "\n",
      "\n",
      "The following objects are masked from ‘package:base’:\n",
      "\n",
      "    intersect, setdiff, setequal, union\n",
      "\n",
      "\n"
     ]
    }
   ],
   "source": [
    "library(sf)\n",
    "library(readr)\n",
    "library(dplyr)\n",
    "library(tidyr)\n",
    "library(stringr)\n"
   ]
  },
  {
   "cell_type": "markdown",
   "metadata": {},
   "source": [
    "### Paths"
   ]
  },
  {
   "cell_type": "code",
   "execution_count": 2,
   "metadata": {
    "vscode": {
     "languageId": "r"
    }
   },
   "outputs": [],
   "source": [
    "iPath <- \"Data/Input/admon_comercio_actividad_educacion/\"\n",
    "oPath <- \"Data/Output/\""
   ]
  },
  {
   "cell_type": "markdown",
   "metadata": {
    "slideshow": {
     "slide_type": "slide"
    }
   },
   "source": [
    "## <font color='green'>Data Load</font>\n",
    "\n",
    "* En esta tarea, se realizan a la vez los procesos Data Load y Data Transform por conveniencia al ejecutar en un bucle sobre las carpetas que contienen las infraestructuras. Por tanto no está la opción de cargar ficheros locales, ver apartado ETL.\n",
    "\n",
    "* Los datos de entrada descargados (zip descomprimidos) se han copiado a la carpeta `admon_comercio_actividad_educacion/` dentro de Data/Input/"
   ]
  },
  {
   "cell_type": "markdown",
   "metadata": {},
   "source": [
    "<font color='tomato'><b> OPCION B:</b> Especificar el nombre de archivo</font>\n",
    "\n"
   ]
  },
  {
   "cell_type": "markdown",
   "metadata": {},
   "source": [
    "No aplica"
   ]
  },
  {
   "cell_type": "markdown",
   "metadata": {},
   "source": [
    "#### Data file to dataframe\n",
    "\n",
    "No aplica"
   ]
  },
  {
   "cell_type": "markdown",
   "metadata": {
    "slideshow": {
     "slide_type": "slide"
    }
   },
   "source": [
    "## ETL Processes"
   ]
  },
  {
   "cell_type": "markdown",
   "metadata": {
    "slideshow": {
     "slide_type": "slide"
    }
   },
   "source": [
    "### Import data from: CSV, Excel, Tab, JSON, SQL, and Parquet files\n",
    "\n",
    "\n",
    "* La carga y transformación se hacen a la vez"
   ]
  },
  {
   "cell_type": "markdown",
   "metadata": {},
   "source": [
    "Incluir apartados si procede para: Extracción de datos (select, filter), Transformación de datos, (mutate, joins, ...). Si es necesario tratar datos perdidos, indicarlo también en NB 09.2"
   ]
  },
  {
   "cell_type": "markdown",
   "metadata": {},
   "source": [
    "Obtener lista de carpetas con shp"
   ]
  },
  {
   "cell_type": "code",
   "execution_count": 3,
   "metadata": {
    "vscode": {
     "languageId": "r"
    }
   },
   "outputs": [],
   "source": [
    "carpetas <- list.dirs(iPath, recursive = FALSE) "
   ]
  },
  {
   "cell_type": "code",
   "execution_count": 4,
   "metadata": {
    "vscode": {
     "languageId": "r"
    }
   },
   "outputs": [
    {
     "data": {
      "text/html": [
       "<style>\n",
       ".list-inline {list-style: none; margin:0; padding: 0}\n",
       ".list-inline>li {display: inline-block}\n",
       ".list-inline>li:not(:last-child)::after {content: \"\\00b7\"; padding: 0 .5ex}\n",
       "</style>\n",
       "<ol class=list-inline><li>'Data/Input/admon_comercio_actividad_educacion//Administración pública_ Agencia Tributaria'</li><li>'Data/Input/admon_comercio_actividad_educacion//Administración pública_ Ayuntamientos, Consejerías, Ministerios, etc.'</li><li>'Data/Input/admon_comercio_actividad_educacion//Administración pública_ Embajadas y consulados'</li><li>'Data/Input/admon_comercio_actividad_educacion//Administración pública_ Oficinas de empleo'</li><li>'Data/Input/admon_comercio_actividad_educacion//Administración pública_ Seguridad Social'</li><li>'Data/Input/admon_comercio_actividad_educacion//Administración Pública. Administración de Justicia'</li><li>'Data/Input/admon_comercio_actividad_educacion//Colectivo empresarial por tamaño y actividad'</li><li>'Data/Input/admon_comercio_actividad_educacion//Comercio_ Centros comerciales'</li><li>'Data/Input/admon_comercio_actividad_educacion//Comercio_ Galerías de alimentación'</li><li>'Data/Input/admon_comercio_actividad_educacion//Comercio_ Grandes superficies especializadas'</li><li>'Data/Input/admon_comercio_actividad_educacion//Comercio_ Hipermercados'</li><li>'Data/Input/admon_comercio_actividad_educacion//Comercio_ Mercadillos'</li><li>'Data/Input/admon_comercio_actividad_educacion//Comercio_ Mercados de abastos'</li><li>'Data/Input/admon_comercio_actividad_educacion//Comercio_ Otros servicios. Bancos'</li><li>'Data/Input/admon_comercio_actividad_educacion//Educación_ Campus universitarios'</li><li>'Data/Input/admon_comercio_actividad_educacion//Educación_ Centros educativos no universitarios. Centros privados'</li><li>'Data/Input/admon_comercio_actividad_educacion//Educación_ Centros educativos no universitarios. Centros públicos'</li><li>'Data/Input/admon_comercio_actividad_educacion//Educación_ Centros educativos no universitarios. Servicios educativos'</li><li>'Data/Input/admon_comercio_actividad_educacion//Educación_ Centros educativos universitarios'</li><li>'Data/Input/admon_comercio_actividad_educacion//Educación_ Colegios mayores'</li></ol>\n"
      ],
      "text/latex": [
       "\\begin{enumerate*}\n",
       "\\item 'Data/Input/admon\\_comercio\\_actividad\\_educacion//Administración pública\\_ Agencia Tributaria'\n",
       "\\item 'Data/Input/admon\\_comercio\\_actividad\\_educacion//Administración pública\\_ Ayuntamientos, Consejerías, Ministerios, etc.'\n",
       "\\item 'Data/Input/admon\\_comercio\\_actividad\\_educacion//Administración pública\\_ Embajadas y consulados'\n",
       "\\item 'Data/Input/admon\\_comercio\\_actividad\\_educacion//Administración pública\\_ Oficinas de empleo'\n",
       "\\item 'Data/Input/admon\\_comercio\\_actividad\\_educacion//Administración pública\\_ Seguridad Social'\n",
       "\\item 'Data/Input/admon\\_comercio\\_actividad\\_educacion//Administración Pública. Administración de Justicia'\n",
       "\\item 'Data/Input/admon\\_comercio\\_actividad\\_educacion//Colectivo empresarial por tamaño y actividad'\n",
       "\\item 'Data/Input/admon\\_comercio\\_actividad\\_educacion//Comercio\\_ Centros comerciales'\n",
       "\\item 'Data/Input/admon\\_comercio\\_actividad\\_educacion//Comercio\\_ Galerías de alimentación'\n",
       "\\item 'Data/Input/admon\\_comercio\\_actividad\\_educacion//Comercio\\_ Grandes superficies especializadas'\n",
       "\\item 'Data/Input/admon\\_comercio\\_actividad\\_educacion//Comercio\\_ Hipermercados'\n",
       "\\item 'Data/Input/admon\\_comercio\\_actividad\\_educacion//Comercio\\_ Mercadillos'\n",
       "\\item 'Data/Input/admon\\_comercio\\_actividad\\_educacion//Comercio\\_ Mercados de abastos'\n",
       "\\item 'Data/Input/admon\\_comercio\\_actividad\\_educacion//Comercio\\_ Otros servicios. Bancos'\n",
       "\\item 'Data/Input/admon\\_comercio\\_actividad\\_educacion//Educación\\_ Campus universitarios'\n",
       "\\item 'Data/Input/admon\\_comercio\\_actividad\\_educacion//Educación\\_ Centros educativos no universitarios. Centros privados'\n",
       "\\item 'Data/Input/admon\\_comercio\\_actividad\\_educacion//Educación\\_ Centros educativos no universitarios. Centros públicos'\n",
       "\\item 'Data/Input/admon\\_comercio\\_actividad\\_educacion//Educación\\_ Centros educativos no universitarios. Servicios educativos'\n",
       "\\item 'Data/Input/admon\\_comercio\\_actividad\\_educacion//Educación\\_ Centros educativos universitarios'\n",
       "\\item 'Data/Input/admon\\_comercio\\_actividad\\_educacion//Educación\\_ Colegios mayores'\n",
       "\\end{enumerate*}\n"
      ],
      "text/markdown": [
       "1. 'Data/Input/admon_comercio_actividad_educacion//Administración pública_ Agencia Tributaria'\n",
       "2. 'Data/Input/admon_comercio_actividad_educacion//Administración pública_ Ayuntamientos, Consejerías, Ministerios, etc.'\n",
       "3. 'Data/Input/admon_comercio_actividad_educacion//Administración pública_ Embajadas y consulados'\n",
       "4. 'Data/Input/admon_comercio_actividad_educacion//Administración pública_ Oficinas de empleo'\n",
       "5. 'Data/Input/admon_comercio_actividad_educacion//Administración pública_ Seguridad Social'\n",
       "6. 'Data/Input/admon_comercio_actividad_educacion//Administración Pública. Administración de Justicia'\n",
       "7. 'Data/Input/admon_comercio_actividad_educacion//Colectivo empresarial por tamaño y actividad'\n",
       "8. 'Data/Input/admon_comercio_actividad_educacion//Comercio_ Centros comerciales'\n",
       "9. 'Data/Input/admon_comercio_actividad_educacion//Comercio_ Galerías de alimentación'\n",
       "10. 'Data/Input/admon_comercio_actividad_educacion//Comercio_ Grandes superficies especializadas'\n",
       "11. 'Data/Input/admon_comercio_actividad_educacion//Comercio_ Hipermercados'\n",
       "12. 'Data/Input/admon_comercio_actividad_educacion//Comercio_ Mercadillos'\n",
       "13. 'Data/Input/admon_comercio_actividad_educacion//Comercio_ Mercados de abastos'\n",
       "14. 'Data/Input/admon_comercio_actividad_educacion//Comercio_ Otros servicios. Bancos'\n",
       "15. 'Data/Input/admon_comercio_actividad_educacion//Educación_ Campus universitarios'\n",
       "16. 'Data/Input/admon_comercio_actividad_educacion//Educación_ Centros educativos no universitarios. Centros privados'\n",
       "17. 'Data/Input/admon_comercio_actividad_educacion//Educación_ Centros educativos no universitarios. Centros públicos'\n",
       "18. 'Data/Input/admon_comercio_actividad_educacion//Educación_ Centros educativos no universitarios. Servicios educativos'\n",
       "19. 'Data/Input/admon_comercio_actividad_educacion//Educación_ Centros educativos universitarios'\n",
       "20. 'Data/Input/admon_comercio_actividad_educacion//Educación_ Colegios mayores'\n",
       "\n",
       "\n"
      ],
      "text/plain": [
       " [1] \"Data/Input/admon_comercio_actividad_educacion//Administración pública_ Agencia Tributaria\"                           \n",
       " [2] \"Data/Input/admon_comercio_actividad_educacion//Administración pública_ Ayuntamientos, Consejerías, Ministerios, etc.\"\n",
       " [3] \"Data/Input/admon_comercio_actividad_educacion//Administración pública_ Embajadas y consulados\"                       \n",
       " [4] \"Data/Input/admon_comercio_actividad_educacion//Administración pública_ Oficinas de empleo\"                           \n",
       " [5] \"Data/Input/admon_comercio_actividad_educacion//Administración pública_ Seguridad Social\"                             \n",
       " [6] \"Data/Input/admon_comercio_actividad_educacion//Administración Pública. Administración de Justicia\"                   \n",
       " [7] \"Data/Input/admon_comercio_actividad_educacion//Colectivo empresarial por tamaño y actividad\"                         \n",
       " [8] \"Data/Input/admon_comercio_actividad_educacion//Comercio_ Centros comerciales\"                                        \n",
       " [9] \"Data/Input/admon_comercio_actividad_educacion//Comercio_ Galerías de alimentación\"                                   \n",
       "[10] \"Data/Input/admon_comercio_actividad_educacion//Comercio_ Grandes superficies especializadas\"                         \n",
       "[11] \"Data/Input/admon_comercio_actividad_educacion//Comercio_ Hipermercados\"                                              \n",
       "[12] \"Data/Input/admon_comercio_actividad_educacion//Comercio_ Mercadillos\"                                                \n",
       "[13] \"Data/Input/admon_comercio_actividad_educacion//Comercio_ Mercados de abastos\"                                        \n",
       "[14] \"Data/Input/admon_comercio_actividad_educacion//Comercio_ Otros servicios. Bancos\"                                    \n",
       "[15] \"Data/Input/admon_comercio_actividad_educacion//Educación_ Campus universitarios\"                                     \n",
       "[16] \"Data/Input/admon_comercio_actividad_educacion//Educación_ Centros educativos no universitarios. Centros privados\"    \n",
       "[17] \"Data/Input/admon_comercio_actividad_educacion//Educación_ Centros educativos no universitarios. Centros públicos\"    \n",
       "[18] \"Data/Input/admon_comercio_actividad_educacion//Educación_ Centros educativos no universitarios. Servicios educativos\"\n",
       "[19] \"Data/Input/admon_comercio_actividad_educacion//Educación_ Centros educativos universitarios\"                         \n",
       "[20] \"Data/Input/admon_comercio_actividad_educacion//Educación_ Colegios mayores\"                                          "
      ]
     },
     "metadata": {},
     "output_type": "display_data"
    }
   ],
   "source": [
    "carpetas"
   ]
  },
  {
   "cell_type": "markdown",
   "metadata": {},
   "source": [
    "Obtener grupos, limpiando los nombres"
   ]
  },
  {
   "cell_type": "code",
   "execution_count": 5,
   "metadata": {
    "vscode": {
     "languageId": "r"
    }
   },
   "outputs": [],
   "source": [
    "grupos <- carpetas |> \n",
    "  str_replace_all(\"\\\\. \", \"\\\\_ \") |> \n",
    "  str_replace_all(\"Colectivo\", \"Empresas\\\\_ Colectivo\") |> \n",
    "  str_replace_all(\"Administración Pública\", \"Administración pública\") |> \n",
    "  str_split(\"//\", simplify = TRUE) |> \n",
    "  as.data.frame() |> \n",
    "  select(2) |> \n",
    "  separate(V2, c(\"Grupo\", \"Tipo\"), sep = \"\\\\_ \", extra = \"merge\") |> \n",
    "  mutate(Tipo = str_replace_all(Tipo, \"\\\\_ \", \" - \"))"
   ]
  },
  {
   "cell_type": "code",
   "execution_count": 6,
   "metadata": {
    "vscode": {
     "languageId": "r"
    }
   },
   "outputs": [
    {
     "data": {
      "text/html": [
       "<table class=\"dataframe\">\n",
       "<caption>A data.frame: 20 × 2</caption>\n",
       "<thead>\n",
       "\t<tr><th scope=col>Grupo</th><th scope=col>Tipo</th></tr>\n",
       "\t<tr><th scope=col>&lt;chr&gt;</th><th scope=col>&lt;chr&gt;</th></tr>\n",
       "</thead>\n",
       "<tbody>\n",
       "\t<tr><td>Administración pública</td><td>Agencia Tributaria                                         </td></tr>\n",
       "\t<tr><td>Administración pública</td><td>Ayuntamientos, Consejerías, Ministerios, etc.              </td></tr>\n",
       "\t<tr><td>Administración pública</td><td>Embajadas y consulados                                     </td></tr>\n",
       "\t<tr><td>Administración pública</td><td>Oficinas de empleo                                         </td></tr>\n",
       "\t<tr><td>Administración pública</td><td>Seguridad Social                                           </td></tr>\n",
       "\t<tr><td>Administración pública</td><td>Administración de Justicia                                 </td></tr>\n",
       "\t<tr><td>Empresas              </td><td>Colectivo empresarial por tamaño y actividad               </td></tr>\n",
       "\t<tr><td>Comercio              </td><td>Centros comerciales                                        </td></tr>\n",
       "\t<tr><td>Comercio              </td><td>Galerías de alimentación                                   </td></tr>\n",
       "\t<tr><td>Comercio              </td><td>Grandes superficies especializadas                         </td></tr>\n",
       "\t<tr><td>Comercio              </td><td>Hipermercados                                              </td></tr>\n",
       "\t<tr><td>Comercio              </td><td>Mercadillos                                                </td></tr>\n",
       "\t<tr><td>Comercio              </td><td>Mercados de abastos                                        </td></tr>\n",
       "\t<tr><td>Comercio              </td><td>Otros servicios - Bancos                                   </td></tr>\n",
       "\t<tr><td>Educación             </td><td>Campus universitarios                                      </td></tr>\n",
       "\t<tr><td>Educación             </td><td>Centros educativos no universitarios - Centros privados    </td></tr>\n",
       "\t<tr><td>Educación             </td><td>Centros educativos no universitarios - Centros públicos    </td></tr>\n",
       "\t<tr><td>Educación             </td><td>Centros educativos no universitarios - Servicios educativos</td></tr>\n",
       "\t<tr><td>Educación             </td><td>Centros educativos universitarios                          </td></tr>\n",
       "\t<tr><td>Educación             </td><td>Colegios mayores                                           </td></tr>\n",
       "</tbody>\n",
       "</table>\n"
      ],
      "text/latex": [
       "A data.frame: 20 × 2\n",
       "\\begin{tabular}{ll}\n",
       " Grupo & Tipo\\\\\n",
       " <chr> & <chr>\\\\\n",
       "\\hline\n",
       "\t Administración pública & Agencia Tributaria                                         \\\\\n",
       "\t Administración pública & Ayuntamientos, Consejerías, Ministerios, etc.              \\\\\n",
       "\t Administración pública & Embajadas y consulados                                     \\\\\n",
       "\t Administración pública & Oficinas de empleo                                         \\\\\n",
       "\t Administración pública & Seguridad Social                                           \\\\\n",
       "\t Administración pública & Administración de Justicia                                 \\\\\n",
       "\t Empresas               & Colectivo empresarial por tamaño y actividad               \\\\\n",
       "\t Comercio               & Centros comerciales                                        \\\\\n",
       "\t Comercio               & Galerías de alimentación                                   \\\\\n",
       "\t Comercio               & Grandes superficies especializadas                         \\\\\n",
       "\t Comercio               & Hipermercados                                              \\\\\n",
       "\t Comercio               & Mercadillos                                                \\\\\n",
       "\t Comercio               & Mercados de abastos                                        \\\\\n",
       "\t Comercio               & Otros servicios - Bancos                                   \\\\\n",
       "\t Educación              & Campus universitarios                                      \\\\\n",
       "\t Educación              & Centros educativos no universitarios - Centros privados    \\\\\n",
       "\t Educación              & Centros educativos no universitarios - Centros públicos    \\\\\n",
       "\t Educación              & Centros educativos no universitarios - Servicios educativos\\\\\n",
       "\t Educación              & Centros educativos universitarios                          \\\\\n",
       "\t Educación              & Colegios mayores                                           \\\\\n",
       "\\end{tabular}\n"
      ],
      "text/markdown": [
       "\n",
       "A data.frame: 20 × 2\n",
       "\n",
       "| Grupo &lt;chr&gt; | Tipo &lt;chr&gt; |\n",
       "|---|---|\n",
       "| Administración pública | Agencia Tributaria                                          |\n",
       "| Administración pública | Ayuntamientos, Consejerías, Ministerios, etc.               |\n",
       "| Administración pública | Embajadas y consulados                                      |\n",
       "| Administración pública | Oficinas de empleo                                          |\n",
       "| Administración pública | Seguridad Social                                            |\n",
       "| Administración pública | Administración de Justicia                                  |\n",
       "| Empresas               | Colectivo empresarial por tamaño y actividad                |\n",
       "| Comercio               | Centros comerciales                                         |\n",
       "| Comercio               | Galerías de alimentación                                    |\n",
       "| Comercio               | Grandes superficies especializadas                          |\n",
       "| Comercio               | Hipermercados                                               |\n",
       "| Comercio               | Mercadillos                                                 |\n",
       "| Comercio               | Mercados de abastos                                         |\n",
       "| Comercio               | Otros servicios - Bancos                                    |\n",
       "| Educación              | Campus universitarios                                       |\n",
       "| Educación              | Centros educativos no universitarios - Centros privados     |\n",
       "| Educación              | Centros educativos no universitarios - Centros públicos     |\n",
       "| Educación              | Centros educativos no universitarios - Servicios educativos |\n",
       "| Educación              | Centros educativos universitarios                           |\n",
       "| Educación              | Colegios mayores                                            |\n",
       "\n"
      ],
      "text/plain": [
       "   Grupo                 \n",
       "1  Administración pública\n",
       "2  Administración pública\n",
       "3  Administración pública\n",
       "4  Administración pública\n",
       "5  Administración pública\n",
       "6  Administración pública\n",
       "7  Empresas              \n",
       "8  Comercio              \n",
       "9  Comercio              \n",
       "10 Comercio              \n",
       "11 Comercio              \n",
       "12 Comercio              \n",
       "13 Comercio              \n",
       "14 Comercio              \n",
       "15 Educación             \n",
       "16 Educación             \n",
       "17 Educación             \n",
       "18 Educación             \n",
       "19 Educación             \n",
       "20 Educación             \n",
       "   Tipo                                                       \n",
       "1  Agencia Tributaria                                         \n",
       "2  Ayuntamientos, Consejerías, Ministerios, etc.              \n",
       "3  Embajadas y consulados                                     \n",
       "4  Oficinas de empleo                                         \n",
       "5  Seguridad Social                                           \n",
       "6  Administración de Justicia                                 \n",
       "7  Colectivo empresarial por tamaño y actividad               \n",
       "8  Centros comerciales                                        \n",
       "9  Galerías de alimentación                                   \n",
       "10 Grandes superficies especializadas                         \n",
       "11 Hipermercados                                              \n",
       "12 Mercadillos                                                \n",
       "13 Mercados de abastos                                        \n",
       "14 Otros servicios - Bancos                                   \n",
       "15 Campus universitarios                                      \n",
       "16 Centros educativos no universitarios - Centros privados    \n",
       "17 Centros educativos no universitarios - Centros públicos    \n",
       "18 Centros educativos no universitarios - Servicios educativos\n",
       "19 Centros educativos universitarios                          \n",
       "20 Colegios mayores                                           "
      ]
     },
     "metadata": {},
     "output_type": "display_data"
    }
   ],
   "source": [
    "grupos"
   ]
  },
  {
   "cell_type": "markdown",
   "metadata": {},
   "source": [
    "Crear lista de data.frames importando los shp\n",
    "\n",
    "Se realizan las siguientes transformaciones en cada uno:\n",
    "\n",
    "- Transformación de crs a 4326\n",
    "- Asignación de grupo y tipo\n",
    "- Asignación de ETIQUETA según el contenido\n",
    "- Hacer válidas las geometrías y calcular centroide (campus universitarios)\n",
    "- Extraer solo Tipo, Grupo, Etiqueta y geometría"
   ]
  },
  {
   "cell_type": "code",
   "execution_count": 7,
   "metadata": {
    "vscode": {
     "languageId": "r"
    }
   },
   "outputs": [
    {
     "name": "stderr",
     "output_type": "stream",
     "text": [
      "Warning message in st_centroid.sf(st_make_valid(df)):\n",
      "“st_centroid assumes attributes are constant over geometries of x”\n"
     ]
    }
   ],
   "source": [
    "lpuntos <- purrr::map(seq_along(carpetas), ~{\n",
    "  df <- st_read(carpetas[.x],\n",
    "                       options = \"ENCODING=latin1\", \n",
    "                quiet = TRUE) |> \n",
    "      st_transform(4326) |> \n",
    "    mutate(Grupo = grupos$Grupo[.x],\n",
    "           Tipo = grupos$Tipo[.x]) \n",
    "  if(.x == 1){\n",
    "    df <- df |> mutate(ETIQUETA = BUSQUEDA)\n",
    "  }\n",
    "  if(.x == 5){\n",
    "    df <- df |> mutate(ETIQUETA = BUSCA)\n",
    "  }\n",
    "  if(.x %in% c(6, 9, 12, 15)){\n",
    "    df <- df |> mutate(ETIQUETA = NOMBRE)\n",
    "  }\n",
    "  if(.x == 7){\n",
    "    df <- df |> mutate(Grupo = Tipo,\n",
    "                       Tipo = DSCODR28)\n",
    "  }\n",
    "  if(.x == 19){\n",
    "    df <- df |> mutate(ETIQUETA = paste0(ETIQUETA, \" - \", UNIVERSIDA))\n",
    "  }\n",
    "  if(.x == 15){\n",
    "    df <- df |> st_make_valid() |> st_centroid()\n",
    "  }\n",
    "  return(df |> select(Grupo, Tipo, ETIQUETA))\n",
    "    }\n",
    ") "
   ]
  },
  {
   "cell_type": "markdown",
   "metadata": {},
   "source": [
    "Apilar data frames"
   ]
  },
  {
   "cell_type": "code",
   "execution_count": 19,
   "metadata": {
    "vscode": {
     "languageId": "r"
    }
   },
   "outputs": [],
   "source": [
    "data <- bind_rows(lpuntos)\n"
   ]
  },
  {
   "cell_type": "markdown",
   "metadata": {},
   "source": [
    "Añadir coordendas como columnas numéricas y eliminar columna sf"
   ]
  },
  {
   "cell_type": "code",
   "execution_count": 20,
   "metadata": {
    "vscode": {
     "languageId": "r"
    }
   },
   "outputs": [],
   "source": [
    "tdata <- data |> \n",
    "  bind_cols(st_coordinates(data)) |> \n",
    "  st_drop_geometry()"
   ]
  },
  {
   "cell_type": "markdown",
   "metadata": {},
   "source": [
    "Eliminar dos puntos sin cooredenadas"
   ]
  },
  {
   "cell_type": "code",
   "execution_count": 21,
   "metadata": {
    "vscode": {
     "languageId": "r"
    }
   },
   "outputs": [
    {
     "data": {
      "text/html": [
       "<table class=\"dataframe\">\n",
       "<caption>A data.frame: 2 × 5</caption>\n",
       "<thead>\n",
       "\t<tr><th scope=col>Grupo</th><th scope=col>Tipo</th><th scope=col>ETIQUETA</th><th scope=col>X</th><th scope=col>Y</th></tr>\n",
       "\t<tr><th scope=col>&lt;chr&gt;</th><th scope=col>&lt;chr&gt;</th><th scope=col>&lt;chr&gt;</th><th scope=col>&lt;dbl&gt;</th><th scope=col>&lt;dbl&gt;</th></tr>\n",
       "</thead>\n",
       "<tbody>\n",
       "\t<tr><td>Educación</td><td>Campus universitarios</td><td>Campus UPCO (Madrid) Universidad Pontificia de Comillas</td><td>NaN</td><td>NaN</td></tr>\n",
       "\t<tr><td>Educación</td><td>Campus universitarios</td><td>Campus UEM (Alcobendas)                                </td><td>NaN</td><td>NaN</td></tr>\n",
       "</tbody>\n",
       "</table>\n"
      ],
      "text/latex": [
       "A data.frame: 2 × 5\n",
       "\\begin{tabular}{lllll}\n",
       " Grupo & Tipo & ETIQUETA & X & Y\\\\\n",
       " <chr> & <chr> & <chr> & <dbl> & <dbl>\\\\\n",
       "\\hline\n",
       "\t Educación & Campus universitarios & Campus UPCO (Madrid) Universidad Pontificia de Comillas & NaN & NaN\\\\\n",
       "\t Educación & Campus universitarios & Campus UEM (Alcobendas)                                 & NaN & NaN\\\\\n",
       "\\end{tabular}\n"
      ],
      "text/markdown": [
       "\n",
       "A data.frame: 2 × 5\n",
       "\n",
       "| Grupo &lt;chr&gt; | Tipo &lt;chr&gt; | ETIQUETA &lt;chr&gt; | X &lt;dbl&gt; | Y &lt;dbl&gt; |\n",
       "|---|---|---|---|---|\n",
       "| Educación | Campus universitarios | Campus UPCO (Madrid) Universidad Pontificia de Comillas | NaN | NaN |\n",
       "| Educación | Campus universitarios | Campus UEM (Alcobendas)                                 | NaN | NaN |\n",
       "\n"
      ],
      "text/plain": [
       "  Grupo     Tipo                 \n",
       "1 Educación Campus universitarios\n",
       "2 Educación Campus universitarios\n",
       "  ETIQUETA                                                X   Y  \n",
       "1 Campus UPCO (Madrid) Universidad Pontificia de Comillas NaN NaN\n",
       "2 Campus UEM (Alcobendas)                                 NaN NaN"
      ]
     },
     "metadata": {},
     "output_type": "display_data"
    }
   ],
   "source": [
    "tdata |> filter(is.na(X))"
   ]
  },
  {
   "cell_type": "code",
   "execution_count": 22,
   "metadata": {
    "vscode": {
     "languageId": "r"
    }
   },
   "outputs": [],
   "source": [
    "tdata <- tdata |> \n",
    "  drop_na(X)"
   ]
  },
  {
   "cell_type": "markdown",
   "metadata": {},
   "source": [
    "Si no aplica: Estos datos no requieren tareas de este tipo."
   ]
  },
  {
   "cell_type": "markdown",
   "metadata": {},
   "source": [
    "Estructura de datos"
   ]
  },
  {
   "cell_type": "code",
   "execution_count": 28,
   "metadata": {
    "vscode": {
     "languageId": "r"
    }
   },
   "outputs": [
    {
     "name": "stdout",
     "output_type": "stream",
     "text": [
      "Rows: 120,280\n",
      "Columns: 5\n",
      "$ Grupo    \u001b[3m\u001b[90m<chr>\u001b[39m\u001b[23m \"Administración pública\", \"Administración pública\", \"Administ…\n",
      "$ Tipo     \u001b[3m\u001b[90m<chr>\u001b[39m\u001b[23m \"Agencia Tributaria\", \"Agencia Tributaria\", \"Agencia Tributar…\n",
      "$ ETIQUETA \u001b[3m\u001b[90m<chr>\u001b[39m\u001b[23m \"Administración de la Agencia Tributaria Oficina Central\", \"A…\n",
      "$ X        \u001b[3m\u001b[90m<dbl>\u001b[39m\u001b[23m -3.698678, -3.712513, -3.745598, -3.690993, -3.672477, -3.710…\n",
      "$ Y        \u001b[3m\u001b[90m<dbl>\u001b[39m\u001b[23m 40.45554, 40.44553, 40.37049, 40.41795, 40.45483, 40.48316, 4…\n"
     ]
    }
   ],
   "source": [
    "glimpse(tdata)"
   ]
  },
  {
   "cell_type": "markdown",
   "metadata": {},
   "source": [
    "Muestra primeros datos"
   ]
  },
  {
   "cell_type": "code",
   "execution_count": 29,
   "metadata": {
    "vscode": {
     "languageId": "r"
    }
   },
   "outputs": [
    {
     "data": {
      "text/html": [
       "<table class=\"dataframe\">\n",
       "<caption>A data.frame: 5 × 5</caption>\n",
       "<thead>\n",
       "\t<tr><th scope=col>Grupo</th><th scope=col>Tipo</th><th scope=col>ETIQUETA</th><th scope=col>X</th><th scope=col>Y</th></tr>\n",
       "\t<tr><th scope=col>&lt;chr&gt;</th><th scope=col>&lt;chr&gt;</th><th scope=col>&lt;chr&gt;</th><th scope=col>&lt;dbl&gt;</th><th scope=col>&lt;dbl&gt;</th></tr>\n",
       "</thead>\n",
       "<tbody>\n",
       "\t<tr><td>Administración pública</td><td>Agencia Tributaria</td><td>Administración de la Agencia Tributaria Oficina Central                       </td><td>-3.698678</td><td>40.45554</td></tr>\n",
       "\t<tr><td>Administración pública</td><td>Agencia Tributaria</td><td>Administración de la Agencia Tributaria Guzmán el Bueno Administración Central</td><td>-3.712513</td><td>40.44553</td></tr>\n",
       "\t<tr><td>Administración pública</td><td>Agencia Tributaria</td><td>Administración de la Agencia Tributaria  Suroeste                             </td><td>-3.745598</td><td>40.37049</td></tr>\n",
       "\t<tr><td>Administración pública</td><td>Agencia Tributaria</td><td>Administración de la Agencia Tributaria Montalbán                             </td><td>-3.690993</td><td>40.41795</td></tr>\n",
       "\t<tr><td>Administración pública</td><td>Agencia Tributaria</td><td>Administración de la Agencia Tributaria Ciudad Lineal                         </td><td>-3.672477</td><td>40.45483</td></tr>\n",
       "</tbody>\n",
       "</table>\n"
      ],
      "text/latex": [
       "A data.frame: 5 × 5\n",
       "\\begin{tabular}{lllll}\n",
       " Grupo & Tipo & ETIQUETA & X & Y\\\\\n",
       " <chr> & <chr> & <chr> & <dbl> & <dbl>\\\\\n",
       "\\hline\n",
       "\t Administración pública & Agencia Tributaria & Administración de la Agencia Tributaria Oficina Central                        & -3.698678 & 40.45554\\\\\n",
       "\t Administración pública & Agencia Tributaria & Administración de la Agencia Tributaria Guzmán el Bueno Administración Central & -3.712513 & 40.44553\\\\\n",
       "\t Administración pública & Agencia Tributaria & Administración de la Agencia Tributaria  Suroeste                              & -3.745598 & 40.37049\\\\\n",
       "\t Administración pública & Agencia Tributaria & Administración de la Agencia Tributaria Montalbán                              & -3.690993 & 40.41795\\\\\n",
       "\t Administración pública & Agencia Tributaria & Administración de la Agencia Tributaria Ciudad Lineal                          & -3.672477 & 40.45483\\\\\n",
       "\\end{tabular}\n"
      ],
      "text/markdown": [
       "\n",
       "A data.frame: 5 × 5\n",
       "\n",
       "| Grupo &lt;chr&gt; | Tipo &lt;chr&gt; | ETIQUETA &lt;chr&gt; | X &lt;dbl&gt; | Y &lt;dbl&gt; |\n",
       "|---|---|---|---|---|\n",
       "| Administración pública | Agencia Tributaria | Administración de la Agencia Tributaria Oficina Central                        | -3.698678 | 40.45554 |\n",
       "| Administración pública | Agencia Tributaria | Administración de la Agencia Tributaria Guzmán el Bueno Administración Central | -3.712513 | 40.44553 |\n",
       "| Administración pública | Agencia Tributaria | Administración de la Agencia Tributaria  Suroeste                              | -3.745598 | 40.37049 |\n",
       "| Administración pública | Agencia Tributaria | Administración de la Agencia Tributaria Montalbán                              | -3.690993 | 40.41795 |\n",
       "| Administración pública | Agencia Tributaria | Administración de la Agencia Tributaria Ciudad Lineal                          | -3.672477 | 40.45483 |\n",
       "\n"
      ],
      "text/plain": [
       "  Grupo                  Tipo              \n",
       "1 Administración pública Agencia Tributaria\n",
       "2 Administración pública Agencia Tributaria\n",
       "3 Administración pública Agencia Tributaria\n",
       "4 Administración pública Agencia Tributaria\n",
       "5 Administración pública Agencia Tributaria\n",
       "  ETIQUETA                                                                      \n",
       "1 Administración de la Agencia Tributaria Oficina Central                       \n",
       "2 Administración de la Agencia Tributaria Guzmán el Bueno Administración Central\n",
       "3 Administración de la Agencia Tributaria  Suroeste                             \n",
       "4 Administración de la Agencia Tributaria Montalbán                             \n",
       "5 Administración de la Agencia Tributaria Ciudad Lineal                         \n",
       "  X         Y       \n",
       "1 -3.698678 40.45554\n",
       "2 -3.712513 40.44553\n",
       "3 -3.745598 40.37049\n",
       "4 -3.690993 40.41795\n",
       "5 -3.672477 40.45483"
      ]
     },
     "metadata": {},
     "output_type": "display_data"
    }
   ],
   "source": [
    "tdata |> slice_head(n = 5)"
   ]
  },
  {
   "cell_type": "markdown",
   "metadata": {
    "slideshow": {
     "slide_type": "slide"
    }
   },
   "source": [
    "## Synthetic Data Generation"
   ]
  },
  {
   "cell_type": "markdown",
   "metadata": {},
   "source": [
    "Estos datos no requieren tareas de este tipo."
   ]
  },
  {
   "cell_type": "markdown",
   "metadata": {
    "slideshow": {
     "slide_type": "slide"
    }
   },
   "source": [
    "## Fake Data Generation"
   ]
  },
  {
   "cell_type": "markdown",
   "metadata": {},
   "source": [
    "Estos datos no requieren tareas de este tipo."
   ]
  },
  {
   "cell_type": "markdown",
   "metadata": {
    "slideshow": {
     "slide_type": "slide"
    }
   },
   "source": [
    "## Open Data"
   ]
  },
  {
   "cell_type": "markdown",
   "metadata": {
    "slideshow": {
     "slide_type": "slide"
    }
   },
   "source": [
    "Los datos originales fueron descargados de fuentes públicas"
   ]
  },
  {
   "cell_type": "markdown",
   "metadata": {},
   "source": [
    "## <font color='green'>Data Save</font>"
   ]
  },
  {
   "cell_type": "markdown",
   "metadata": {},
   "source": [
    "Este proceso, puede copiarse y repetirse en aquellas partes del notebbok que necesiten guardar datos.\n",
    "Recuerde cambiar las cadenas añadida del fichero para diferenciarlas"
   ]
  },
  {
   "cell_type": "markdown",
   "metadata": {},
   "source": [
    "<font color='tomato'> Identificamos los datos a guardar</font>"
   ]
  },
  {
   "cell_type": "code",
   "execution_count": 23,
   "metadata": {
    "ExecuteTime": {
     "end_time": "2020-12-25T17:59:27.022001Z",
     "start_time": "2020-12-25T17:59:15.986986Z"
    },
    "scrolled": false,
    "vscode": {
     "languageId": "r"
    }
   },
   "outputs": [],
   "source": [
    "data_to_save <- tdata"
   ]
  },
  {
   "cell_type": "markdown",
   "metadata": {},
   "source": [
    "\n",
    "<font color='tomato'>Estructura de nombre de archivos:</font>\n",
    "\n",
    "* Código del caso de uso, por ejemplo \"CU_04\"\n",
    "* Número del proceso que lo genera, por ejemplo \"_05\".\n",
    "* Número de la tarea que lo genera, por ejemplo \"_01\"\n",
    "* En caso de generarse varios ficheros en la misma tarea, llevarán _01 _02 ... después\n",
    "* Nombre: identificativo de \"properData\", por ejemplo \"_zonasgeo\"\n",
    "* Extensión del archivo\n",
    "\n",
    "Ejemplo: \"CU_04_05_01_01_zonasgeo.json, primer fichero que se genera en la tarea 01 del proceso 05 (Data Collection) para el caso de uso 04 (vacunas)\n",
    "\n",
    "Importante mantener los guiones bajos antes de proceso, tarea, archivo y nombre"
   ]
  },
  {
   "cell_type": "markdown",
   "metadata": {},
   "source": [
    "### Proceso 05"
   ]
  },
  {
   "cell_type": "code",
   "execution_count": 24,
   "metadata": {
    "ExecuteTime": {
     "end_time": "2020-12-25T17:59:27.022001Z",
     "start_time": "2020-12-25T17:59:15.986986Z"
    },
    "scrolled": false,
    "vscode": {
     "languageId": "r"
    }
   },
   "outputs": [],
   "source": [
    "caso <- \"CU_18\"\n",
    "proceso <- '_05'\n",
    "tarea <- \"_07\"\n",
    "archivo <- \"\"\n",
    "proper <- \"_admon_comercio_actividad_educacion\"\n",
    "extension <- \".csv\""
   ]
  },
  {
   "cell_type": "markdown",
   "metadata": {},
   "source": [
    "<font color='tomato'><b> OPCION A:</b> Uso del paquete \"tcltk\" para mayor comodidad</font>\n",
    "\n",
    "* Buscar carpeta, escribir nombre de archivo SIN extensión (se especifica en el código)\n",
    "* Especificar sufijo2 si es necesario\n",
    "* Cambiar datos por datos_xx si es necesario"
   ]
  },
  {
   "cell_type": "code",
   "execution_count": null,
   "metadata": {
    "ExecuteTime": {
     "end_time": "2020-12-25T17:59:27.022001Z",
     "start_time": "2020-12-25T17:59:15.986986Z"
    },
    "scrolled": false,
    "vscode": {
     "languageId": "r"
    }
   },
   "outputs": [],
   "source": [
    "# file_save <- paste0(caso, proceso, tarea, tcltk::tkgetSaveFile(), proper, extension) \n",
    "# path_out <- paste0(oPath, file_save)\n",
    "# write_csv(data, path_out)\n",
    "\n",
    "# cat('File saved as: ')\n",
    "# path_out"
   ]
  },
  {
   "cell_type": "markdown",
   "metadata": {},
   "source": [
    "<font color='tomato'><b> OPCION B:</b> Especificar el nombre de archivo</font>"
   ]
  },
  {
   "cell_type": "markdown",
   "metadata": {},
   "source": [
    "- Los ficheros de salida del proceso van siempre a Data/Output/.  "
   ]
  },
  {
   "cell_type": "code",
   "execution_count": 25,
   "metadata": {
    "ExecuteTime": {
     "end_time": "2021-01-26T18:40:31.258294Z",
     "start_time": "2021-01-26T18:40:26.061847Z"
    },
    "slideshow": {
     "slide_type": "subslide"
    },
    "vscode": {
     "languageId": "r"
    }
   },
   "outputs": [
    {
     "name": "stdout",
     "output_type": "stream",
     "text": [
      "File saved as: "
     ]
    },
    {
     "data": {
      "text/html": [
       "'Data/Output/CU_18_05_07_admon_comercio_actividad_educacion.csv'"
      ],
      "text/latex": [
       "'Data/Output/CU\\_18\\_05\\_07\\_admon\\_comercio\\_actividad\\_educacion.csv'"
      ],
      "text/markdown": [
       "'Data/Output/CU_18_05_07_admon_comercio_actividad_educacion.csv'"
      ],
      "text/plain": [
       "[1] \"Data/Output/CU_18_05_07_admon_comercio_actividad_educacion.csv\""
      ]
     },
     "metadata": {},
     "output_type": "display_data"
    }
   ],
   "source": [
    "file_save <- paste0(caso, proceso, tarea, archivo, proper, extension) \n",
    "path_out <- paste0(oPath, file_save)\n",
    "write_csv(tdata, path_out)\n",
    "\n",
    "cat('File saved as: ')\n",
    "path_out"
   ]
  },
  {
   "cell_type": "markdown",
   "metadata": {},
   "source": [
    "#### Copia del fichero a Input\n",
    "\n",
    "Si el archivo se va a usar en otros notebooks, copiar a la carpeta Input"
   ]
  },
  {
   "cell_type": "code",
   "execution_count": 26,
   "metadata": {
    "vscode": {
     "languageId": "r"
    }
   },
   "outputs": [
    {
     "data": {
      "text/html": [
       "TRUE"
      ],
      "text/latex": [
       "TRUE"
      ],
      "text/markdown": [
       "TRUE"
      ],
      "text/plain": [
       "[1] TRUE"
      ]
     },
     "metadata": {},
     "output_type": "display_data"
    }
   ],
   "source": [
    "path_in <- paste0(iPath, file_save)\n",
    "file.copy(path_out, path_in, overwrite = TRUE)"
   ]
  },
  {
   "cell_type": "markdown",
   "metadata": {},
   "source": [
    "## <font color=' #2874a6 '>Main Conclusions</font>"
   ]
  },
  {
   "cell_type": "markdown",
   "metadata": {
    "slideshow": {
     "slide_type": "slide"
    }
   },
   "source": [
    "<font color='steelblue'>List and describe the general conclusions of the analysis carried out​.</font>"
   ]
  },
  {
   "cell_type": "markdown",
   "metadata": {},
   "source": [
    "### Prerequisites\n",
    "\n",
    "This working code needs the following conditions:\n",
    "\n",
    "* For using the interactive selection of file, the {tcltk} package must be installed. It is not needed in production.\n",
    "* The {readr}, {sf}, {dplyr}, {tidyr}, {stringr} package must be installed. \n",
    "* The data paths `Data/Input` and `Data/Output` must exist (relative to the notebook path)"
   ]
  },
  {
   "cell_type": "markdown",
   "metadata": {},
   "source": [
    "### Configuration Management\n",
    "\n",
    "This notebook has been tested with the following versions of R and packages. It cannot be assured that later versions work in the same way:\n",
    "* R 4.2.2\n",
    "* tcltk 4.2.2\n",
    "* tidyr 1.3.0\n",
    "* dplyr 1.0.10\n",
    "* readr 2.1.3\n",
    "* stringr 1.5.0"
   ]
  },
  {
   "cell_type": "markdown",
   "metadata": {},
   "source": [
    "### Data structures"
   ]
  },
  {
   "cell_type": "markdown",
   "metadata": {},
   "source": [
    "#### Objeto `data`\n",
    "\n",
    "- Los datos de origen son archivos shp con geometrías y otros datos\n",
    "- Hay 120.280 filas con las variables:\n",
    "    * Grupo\n",
    "    * Tipo\n",
    "    * ETIQUETA\n",
    "    * X\n",
    "    * Y\n"
   ]
  },
  {
   "cell_type": "markdown",
   "metadata": {},
   "source": [
    "#### Observaciones generales sobre los datos\n",
    "\n",
    "* xxx"
   ]
  },
  {
   "cell_type": "markdown",
   "metadata": {},
   "source": [
    "### Consideraciones para despliegue en piloto\n",
    "\n",
    "* xxx"
   ]
  },
  {
   "cell_type": "markdown",
   "metadata": {},
   "source": [
    "### Consideraciones para despliegue en producción\n",
    "\n",
    "* Se deben crear los procesos ETL en producción necesarios para que los datos de entrada estén actualizados"
   ]
  },
  {
   "cell_type": "markdown",
   "metadata": {},
   "source": [
    "## <font color=' #2874a6 '>Main Actions</font>"
   ]
  },
  {
   "cell_type": "markdown",
   "metadata": {},
   "source": [
    "#### <font color=' #2874a6 '>Acciones done</font>"
   ]
  },
  {
   "cell_type": "markdown",
   "metadata": {
    "slideshow": {
     "slide_type": "slide"
    }
   },
   "source": [
    "<font color='steelblue'>Indicate the actions that have been carried out in this process</font>"
   ]
  },
  {
   "attachments": {},
   "cell_type": "markdown",
   "metadata": {},
   "source": [
    "- Se han obtenido las coordenadas del centroide de POIs que eran polígonos\n",
    "- Se han homogeneizado las etiquetas y clasificación de los POIs"
   ]
  },
  {
   "cell_type": "markdown",
   "metadata": {},
   "source": [
    "#### <font color=' #2874a6 '>Acctions to perform</font>"
   ]
  },
  {
   "cell_type": "markdown",
   "metadata": {
    "slideshow": {
     "slide_type": "slide"
    }
   },
   "source": [
    "<font color='steelblue'>Indicate the actions that must be carried out in subsequent processes</font>"
   ]
  },
  {
   "attachments": {},
   "cell_type": "markdown",
   "metadata": {},
   "source": [
    "- Indicar en procesos de limpieza de datos que se han eliminado NA\n"
   ]
  },
  {
   "cell_type": "markdown",
   "metadata": {},
   "source": [
    "## <font color='RED'>CODE TO DEPLOY (PILOT)</font>\n",
    "\n",
    "A continuación se incluirá el código que deba ser llevado a despliegue para producción, dado que se entiende efectúa operaciones necesarias sobre los datos en la ejecución del prototipo"
   ]
  },
  {
   "cell_type": "markdown",
   "metadata": {},
   "source": [
    "<font color=' red '><b>Description</b></font>\n",
    "\n",
    "- No hay nada que desplegar en el piloto, ya que estos datos son estáticos o en todo caso cambian con muy poca frecuencia, altamente improbable durante el proyecto.\n"
   ]
  },
  {
   "cell_type": "markdown",
   "metadata": {},
   "source": [
    "<font color=' red '><b>CODE</b></font>"
   ]
  },
  {
   "cell_type": "code",
   "execution_count": null,
   "metadata": {
    "vscode": {
     "languageId": "r"
    }
   },
   "outputs": [],
   "source": [
    "# incluir código"
   ]
  }
 ],
 "metadata": {
  "anaconda-cloud": {},
  "celltoolbar": "Slideshow",
  "hide_input": false,
  "kernelspec": {
   "display_name": "R",
   "language": "R",
   "name": "ir"
  },
  "language_info": {
   "codemirror_mode": "r",
   "file_extension": ".r",
   "mimetype": "text/x-r-source",
   "name": "R",
   "pygments_lexer": "r",
   "version": "4.2.2"
  },
  "latex_envs": {
   "LaTeX_envs_menu_present": true,
   "autoclose": false,
   "autocomplete": true,
   "bibliofile": "biblio.bib",
   "cite_by": "apalike",
   "current_citInitial": 1,
   "eqLabelWithNumbers": true,
   "eqNumInitial": 1,
   "hotkeys": {
    "equation": "Ctrl-E",
    "itemize": "Ctrl-I"
   },
   "labels_anchors": false,
   "latex_user_defs": false,
   "report_style_numbering": true,
   "user_envs_cfg": false
  },
  "toc": {
   "base_numbering": 1,
   "nav_menu": {
    "height": "11.6px",
    "width": "160px"
   },
   "number_sections": false,
   "sideBar": true,
   "skip_h1_title": true,
   "title_cell": "Table of Contents",
   "title_sidebar": "Contents",
   "toc_cell": true,
   "toc_position": {
    "height": "calc(100% - 180px)",
    "left": "10px",
    "top": "150px",
    "width": "209.2px"
   },
   "toc_section_display": true,
   "toc_window_display": true
  },
  "varInspector": {
   "cols": {
    "lenName": 16,
    "lenType": 16,
    "lenVar": 40
   },
   "kernels_config": {
    "python": {
     "delete_cmd_postfix": "",
     "delete_cmd_prefix": "del ",
     "library": "var_list.py",
     "varRefreshCmd": "print(var_dic_list())"
    },
    "r": {
     "delete_cmd_postfix": ") ",
     "delete_cmd_prefix": "rm(",
     "library": "var_list.r",
     "varRefreshCmd": "cat(var_dic_list()) "
    }
   },
   "types_to_exclude": [
    "module",
    "function",
    "builtin_function_or_method",
    "instance",
    "_Feature"
   ],
   "window_display": false
  }
 },
 "nbformat": 4,
 "nbformat_minor": 1
}
