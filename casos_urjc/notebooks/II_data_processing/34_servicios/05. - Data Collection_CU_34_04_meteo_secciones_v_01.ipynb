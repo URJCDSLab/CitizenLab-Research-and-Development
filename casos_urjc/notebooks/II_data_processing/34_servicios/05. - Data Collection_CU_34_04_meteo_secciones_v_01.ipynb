{
 "cells": [
  {
   "cell_type": "markdown",
   "metadata": {
    "slideshow": {
     "slide_type": "slide"
    }
   },
   "source": [
    "<img src=\".\\images\\Logo.png\" width=150 align=\"left\" /> <img src=\".\\images\\Logo2.jpg\" width=450 align=\"right\" />"
   ]
  },
  {
   "cell_type": "markdown",
   "metadata": {},
   "source": [
    "\n",
    "# <center><font color= #1e8449 > <b>CU34_Predicción de demanda de servicios</font></center>"
   ]
  },
  {
   "cell_type": "markdown",
   "metadata": {
    "slideshow": {
     "slide_type": "slide"
    }
   },
   "source": [
    "<font color='steelblue'><b>Citizenlab Data Science Methodology > II - Data Processing Domain </font>\n",
    "***\n",
    "> # <font color='steelblue'> <b>05.- Data Collection</font>"
   ]
  },
  {
   "cell_type": "markdown",
   "metadata": {
    "slideshow": {
     "slide_type": "slide"
    }
   },
   "source": [
    "<font color='steelblue'>Data Collection is the process to obtain and generate (if required) necessary data to model the problem.</font>"
   ]
  },
  {
   "attachments": {},
   "cell_type": "markdown",
   "metadata": {},
   "source": [
    "### 04. Estimar datos meteorológicos en secciones censales\n",
    "\n",
    "* Estimar variables en secciones\n",
    "* Eliminando variables que no se usarán en modelos\n",
    "\n",
    "\n"
   ]
  },
  {
   "cell_type": "markdown",
   "metadata": {
    "toc": true
   },
   "source": [
    "<h1>Table of Contents<span class=\"tocSkip\"></span></h1>\n",
    "<div class=\"toc\"><ul class=\"toc-item\"><li><span><a href=\"#Settings\" data-toc-modified-id=\"Settings-1\"><font color=\"green\">Settings</font></a></span></li><li><span><a href=\"#Data-Load\" data-toc-modified-id=\"Data-Load-2\"><font color=\"green\">Data Load</font></a></span></li><li><span><a href=\"#ETL-Processes\" data-toc-modified-id=\"ETL-Processes-3\">ETL Processes</a></span><ul class=\"toc-item\"><li><span><a href=\"#Import-data-from:-CSV,-Excel,-Tab,-JSON,-SQL,-and-Parquet-files\" data-toc-modified-id=\"Import-data-from:-CSV,-Excel,-Tab,-JSON,-SQL,-and-Parquet-files-3.1\">Import data from: CSV, Excel, Tab, JSON, SQL, and Parquet files</a></span></li></ul></li><li><span><a href=\"#Synthetic-Data-Generation\" data-toc-modified-id=\"Synthetic-Data-Generation-4\">Synthetic Data Generation</a></span></li><li><span><a href=\"#Fake-Data-Generation\" data-toc-modified-id=\"Fake-Data-Generation-5\">Fake Data Generation</a></span></li><li><span><a href=\"#Open-Data\" data-toc-modified-id=\"Open-Data-6\">Open Data</a></span></li><li><span><a href=\"#Data-Save\" data-toc-modified-id=\"Data-Save-7\"><font color=\"green\">Data Save</font></a></span></li><li><span><a href=\"#Main-Conclusions\" data-toc-modified-id=\"Main-Conclusions-8\"><font color=\" #2874a6 \">Main Conclusions</font></a></span></li><li><span><a href=\"#Main-Actions\" data-toc-modified-id=\"Main-Actions-9\"><font color=\" #2874a6 \">Main Actions</font></a></span><ul class=\"toc-item\"><li><ul class=\"toc-item\"><li><span><a href=\"#Acciones-done\" data-toc-modified-id=\"Acciones-done-9.0.1\"><font color=\" #2874a6 \">Acciones done</font></a></span></li><li><span><a href=\"#Acctions-to-perform\" data-toc-modified-id=\"Acctions-to-perform-9.0.2\"><font color=\" #2874a6 \">Acctions to perform</font></a></span></li></ul></li></ul></li></ul></div>"
   ]
  },
  {
   "cell_type": "markdown",
   "metadata": {
    "slideshow": {
     "slide_type": "slide"
    }
   },
   "source": [
    "## <font color='green'>Settings</font>"
   ]
  },
  {
   "cell_type": "markdown",
   "metadata": {},
   "source": [
    "### Encoding\n",
    "\n",
    "Con la siguiente expresión se evitan problemas con el encoding al ejecutar el notebook. Es posible que deba ser eliminada o adaptada a la máquina en la que se ejecute el código."
   ]
  },
  {
   "cell_type": "code",
   "execution_count": 1,
   "metadata": {
    "vscode": {
     "languageId": "r"
    }
   },
   "outputs": [
    {
     "data": {
      "text/html": [
       "'es_ES.UTF-8/es_ES.UTF-8/es_ES.UTF-8/C/es_ES.UTF-8/C'"
      ],
      "text/latex": [
       "'es\\_ES.UTF-8/es\\_ES.UTF-8/es\\_ES.UTF-8/C/es\\_ES.UTF-8/C'"
      ],
      "text/markdown": [
       "'es_ES.UTF-8/es_ES.UTF-8/es_ES.UTF-8/C/es_ES.UTF-8/C'"
      ],
      "text/plain": [
       "[1] \"es_ES.UTF-8/es_ES.UTF-8/es_ES.UTF-8/C/es_ES.UTF-8/C\""
      ]
     },
     "metadata": {},
     "output_type": "display_data"
    }
   ],
   "source": [
    "Sys.setlocale(category = \"LC_ALL\", locale = \"es_ES.UTF-8\")"
   ]
  },
  {
   "attachments": {},
   "cell_type": "markdown",
   "metadata": {},
   "source": [
    "### Packages to use\n",
    "\n",
    "- {tcltk} para selección interactiva de archivos locales\n",
    "- {sf} para trabajar con georeferenciación\n",
    "- {gstat} para cálculos geoestadísticos\n",
    "- {readr} para leer y escribir archivos csv\n",
    "- {dplyr} para explorar datos\n",
    "- {stringr} para manipulación de cadenas de caracteres\n",
    "- {tidyr} para quitar perdidos\n",
    "- {lubridate} para manipulación de fechas\n"
   ]
  },
  {
   "cell_type": "code",
   "execution_count": 2,
   "metadata": {
    "vscode": {
     "languageId": "r"
    }
   },
   "outputs": [
    {
     "name": "stderr",
     "output_type": "stream",
     "text": [
      "\n",
      "Attaching package: ‘dplyr’\n",
      "\n",
      "\n",
      "The following objects are masked from ‘package:stats’:\n",
      "\n",
      "    filter, lag\n",
      "\n",
      "\n",
      "The following objects are masked from ‘package:base’:\n",
      "\n",
      "    intersect, setdiff, setequal, union\n",
      "\n",
      "\n",
      "Linking to GEOS 3.10.2, GDAL 3.4.2, PROJ 8.2.1; sf_use_s2() is TRUE\n",
      "\n",
      "\n",
      "Attaching package: ‘lubridate’\n",
      "\n",
      "\n",
      "The following objects are masked from ‘package:base’:\n",
      "\n",
      "    date, intersect, setdiff, union\n",
      "\n",
      "\n"
     ]
    }
   ],
   "source": [
    "library(readr)\n",
    "library(dplyr)\n",
    "library(sf)\n",
    "library(gstat)\n",
    "library(stringr)\n",
    "library(tidyr)\n",
    "library(lubridate)\n"
   ]
  },
  {
   "attachments": {},
   "cell_type": "markdown",
   "metadata": {},
   "source": [
    "### Paths"
   ]
  },
  {
   "cell_type": "code",
   "execution_count": 3,
   "metadata": {
    "vscode": {
     "languageId": "r"
    }
   },
   "outputs": [],
   "source": [
    "iPath <- \"Data/Input/\"\n",
    "oPath <- \"Data/Output/\""
   ]
  },
  {
   "attachments": {},
   "cell_type": "markdown",
   "metadata": {
    "slideshow": {
     "slide_type": "slide"
    }
   },
   "source": [
    "## <font color='green'>Data Load</font>\n",
    "\n",
    "If there are more than one input file, make as many sections as files to import."
   ]
  },
  {
   "cell_type": "markdown",
   "metadata": {},
   "source": [
    "1. Datos meteorológicos de estaciones"
   ]
  },
  {
   "cell_type": "markdown",
   "metadata": {},
   "source": [
    "<font color='tomato'><b> OPCION A:</b> Seleccionar fichero en ventana para mayor comodidad</font> "
   ]
  },
  {
   "cell_type": "markdown",
   "metadata": {},
   "source": [
    "Data load using the {tcltk} package. Ucomment the line if not using this option"
   ]
  },
  {
   "cell_type": "code",
   "execution_count": 4,
   "metadata": {
    "vscode": {
     "languageId": "r"
    }
   },
   "outputs": [],
   "source": [
    "# file_data_01 <- tcltk::tk_choose.files(multi = FALSE)"
   ]
  },
  {
   "cell_type": "markdown",
   "metadata": {},
   "source": [
    "<font color='tomato'><b> OPCION B:</b> Especificar el nombre de archivo</font>\n",
    "\n"
   ]
  },
  {
   "cell_type": "code",
   "execution_count": 5,
   "metadata": {
    "vscode": {
     "languageId": "r"
    }
   },
   "outputs": [
    {
     "name": "stdout",
     "output_type": "stream",
     "text": [
      "Se leerán datos del archivo:  Data/Input/CU_34_05_03_aemet.csv"
     ]
    }
   ],
   "source": [
    "iFile_01 <- \"CU_34_05_03_aemet.csv\"\n",
    "file_data_01 <- paste0(iPath, iFile_01)\n",
    "\n",
    "if(file.exists(file_data_01)){\n",
    "    cat(\"Se leerán datos del archivo: \", file_data_01)\n",
    "} else{\n",
    "    warning(\"Cuidado: el archivo no existe.\")\n",
    "}\n"
   ]
  },
  {
   "cell_type": "markdown",
   "metadata": {},
   "source": [
    "#### Data file to dataframe\n",
    "\n",
    "Usar la función adecuada según el formato de entrada (xlsx, csv, json, ...)"
   ]
  },
  {
   "cell_type": "code",
   "execution_count": 6,
   "metadata": {
    "vscode": {
     "languageId": "r"
    }
   },
   "outputs": [
    {
     "name": "stderr",
     "output_type": "stream",
     "text": [
      "\u001b[1mRows: \u001b[22m\u001b[34m372\u001b[39m \u001b[1mColumns: \u001b[22m\u001b[34m22\u001b[39m\n",
      "\u001b[36m──\u001b[39m \u001b[1mColumn specification\u001b[22m \u001b[36m────────────────────────────────────────────────────────\u001b[39m\n",
      "\u001b[1mDelimiter:\u001b[22m \",\"\n",
      "\u001b[31mchr\u001b[39m   (9): indicativo, nombre, provincia, horatmin, horatmax, dir, horaracha...\n",
      "\u001b[32mdbl\u001b[39m  (12): altitud, tmed, prec, tmin, tmax, velmedia, racha, sol, presMax, p...\n",
      "\u001b[34mdate\u001b[39m  (1): fecha\n",
      "\n",
      "\u001b[36mℹ\u001b[39m Use `spec()` to retrieve the full column specification for this data.\n",
      "\u001b[36mℹ\u001b[39m Specify the column types or set `show_col_types = FALSE` to quiet this message.\n"
     ]
    }
   ],
   "source": [
    "data_01 <- read_csv(file_data_01)\n"
   ]
  },
  {
   "cell_type": "markdown",
   "metadata": {},
   "source": [
    "Estructura de  los datos:"
   ]
  },
  {
   "cell_type": "code",
   "execution_count": 7,
   "metadata": {
    "vscode": {
     "languageId": "r"
    }
   },
   "outputs": [
    {
     "name": "stdout",
     "output_type": "stream",
     "text": [
      "Rows: 372\n",
      "Columns: 22\n",
      "$ fecha       \u001b[3m\u001b[90m<date>\u001b[39m\u001b[23m 2022-01-01, 2022-01-02, 2022-01-03, 2022-01-04, 2022-01-0…\n",
      "$ indicativo  \u001b[3m\u001b[90m<chr>\u001b[39m\u001b[23m \"2462\", \"2462\", \"2462\", \"2462\", \"2462\", \"2462\", \"2462\", \"2…\n",
      "$ nombre      \u001b[3m\u001b[90m<chr>\u001b[39m\u001b[23m \"PUERTO DE NAVACERRADA\", \"PUERTO DE NAVACERRADA\", \"PUERTO …\n",
      "$ provincia   \u001b[3m\u001b[90m<chr>\u001b[39m\u001b[23m \"MADRID\", \"MADRID\", \"MADRID\", \"MADRID\", \"MADRID\", \"MADRID\"…\n",
      "$ altitud     \u001b[3m\u001b[90m<dbl>\u001b[39m\u001b[23m 1894, 1894, 1894, 1894, 1894, 1894, 1894, 1894, 1894, 1894…\n",
      "$ tmed        \u001b[3m\u001b[90m<dbl>\u001b[39m\u001b[23m 10.6, 9.8, 7.8, 1.6, -3.0, -5.6, -4.0, -2.8, 0.0, 1.6, 1.0…\n",
      "$ prec        \u001b[3m\u001b[90m<dbl>\u001b[39m\u001b[23m 0.0, 0.0, 0.0, 24.2, 13.9, 0.0, 0.2, 0.0, 6.6, 0.8, 0.0, 0…\n",
      "$ tmin        \u001b[3m\u001b[90m<dbl>\u001b[39m\u001b[23m 7.4, 6.0, 4.2, -3.9, -4.2, -8.3, -6.6, -4.6, -3.0, 0.3, -0…\n",
      "$ horatmin    \u001b[3m\u001b[90m<chr>\u001b[39m\u001b[23m \"00:10\", \"20:40\", \"06:20\", \"23:59\", \"03:10\", \"06:40\", \"03:…\n",
      "$ tmax        \u001b[3m\u001b[90m<dbl>\u001b[39m\u001b[23m 13.7, 13.5, 11.3, 7.0, -1.8, -2.8, -1.3, -0.9, 3.0, 3.0, 2…\n",
      "$ horatmax    \u001b[3m\u001b[90m<chr>\u001b[39m\u001b[23m \"Varias\", \"13:30\", \"Varias\", \"01:40\", \"Varias\", \"00:00\", \"…\n",
      "$ dir         \u001b[3m\u001b[90m<chr>\u001b[39m\u001b[23m \"22\", \"22\", \"27\", \"33\", \"32\", \"35\", \"36\", \"33\", \"31\", \"33\"…\n",
      "$ velmedia    \u001b[3m\u001b[90m<dbl>\u001b[39m\u001b[23m 3.9, 2.5, 3.1, 7.8, 4.2, 5.6, 4.2, 5.6, 6.1, 6.1, 2.5, 1.7…\n",
      "$ racha       \u001b[3m\u001b[90m<dbl>\u001b[39m\u001b[23m 12.2, 11.1, 15.3, 23.6, 19.2, 10.8, 10.3, 16.1, 23.3, 16.7…\n",
      "$ horaracha   \u001b[3m\u001b[90m<chr>\u001b[39m\u001b[23m \"22:30\", \"00:00\", \"22:50\", \"18:30\", \"00:30\", \"20:00\", \"08:…\n",
      "$ sol         \u001b[3m\u001b[90m<dbl>\u001b[39m\u001b[23m 8.1, 6.0, 7.6, 3.3, 0.0, 6.3, 1.7, 3.9, 0.0, 0.0, 3.4, 8.1…\n",
      "$ presMax     \u001b[3m\u001b[90m<dbl>\u001b[39m\u001b[23m 823.3, 823.5, 821.5, 814.7, 809.5, 813.5, 819.3, 819.2, 81…\n",
      "$ horaPresMax \u001b[3m\u001b[90m<chr>\u001b[39m\u001b[23m \"11\", \"Varias\", \"00\", \"00\", \"11\", \"24\", \"24\", \"Varias\", \"2…\n",
      "$ presMin     \u001b[3m\u001b[90m<dbl>\u001b[39m\u001b[23m 821.8, 821.5, 814.7, 803.6, 806.4, 807.6, 813.4, 814.7, 81…\n",
      "$ horaPresMin \u001b[3m\u001b[90m<chr>\u001b[39m\u001b[23m \"06\", \"Varias\", \"24\", \"17\", \"Varias\", \"01\", \"01\", \"21\", \"1…\n",
      "$ X           \u001b[3m\u001b[90m<dbl>\u001b[39m\u001b[23m -4.010556, -4.010556, -4.010556, -4.010556, -4.010556, -4.…\n",
      "$ Y           \u001b[3m\u001b[90m<dbl>\u001b[39m\u001b[23m 40.79306, 40.79306, 40.79306, 40.79306, 40.79306, 40.79306…\n"
     ]
    }
   ],
   "source": [
    "glimpse(data_01)"
   ]
  },
  {
   "cell_type": "markdown",
   "metadata": {},
   "source": [
    "Muestra de datos:"
   ]
  },
  {
   "cell_type": "code",
   "execution_count": 8,
   "metadata": {
    "vscode": {
     "languageId": "r"
    }
   },
   "outputs": [
    {
     "data": {
      "text/html": [
       "<table class=\"dataframe\">\n",
       "<caption>A spec_tbl_df: 5 x 22</caption>\n",
       "<thead>\n",
       "\t<tr><th scope=col>fecha</th><th scope=col>indicativo</th><th scope=col>nombre</th><th scope=col>provincia</th><th scope=col>altitud</th><th scope=col>tmed</th><th scope=col>prec</th><th scope=col>tmin</th><th scope=col>horatmin</th><th scope=col>tmax</th><th scope=col>...</th><th scope=col>velmedia</th><th scope=col>racha</th><th scope=col>horaracha</th><th scope=col>sol</th><th scope=col>presMax</th><th scope=col>horaPresMax</th><th scope=col>presMin</th><th scope=col>horaPresMin</th><th scope=col>X</th><th scope=col>Y</th></tr>\n",
       "\t<tr><th scope=col>&lt;date&gt;</th><th scope=col>&lt;chr&gt;</th><th scope=col>&lt;chr&gt;</th><th scope=col>&lt;chr&gt;</th><th scope=col>&lt;dbl&gt;</th><th scope=col>&lt;dbl&gt;</th><th scope=col>&lt;dbl&gt;</th><th scope=col>&lt;dbl&gt;</th><th scope=col>&lt;chr&gt;</th><th scope=col>&lt;dbl&gt;</th><th scope=col>...</th><th scope=col>&lt;dbl&gt;</th><th scope=col>&lt;dbl&gt;</th><th scope=col>&lt;chr&gt;</th><th scope=col>&lt;dbl&gt;</th><th scope=col>&lt;dbl&gt;</th><th scope=col>&lt;chr&gt;</th><th scope=col>&lt;dbl&gt;</th><th scope=col>&lt;chr&gt;</th><th scope=col>&lt;dbl&gt;</th><th scope=col>&lt;dbl&gt;</th></tr>\n",
       "</thead>\n",
       "<tbody>\n",
       "\t<tr><td>2022-01-01</td><td>2462</td><td>PUERTO DE NAVACERRADA</td><td>MADRID</td><td>1894</td><td>10.6</td><td> 0.0</td><td> 7.4</td><td>00:10</td><td>13.7</td><td>...</td><td>3.9</td><td>12.2</td><td>22:30</td><td>8.1</td><td>823.3</td><td>11    </td><td>821.8</td><td>06    </td><td>-4.010556</td><td>40.79306</td></tr>\n",
       "\t<tr><td>2022-01-02</td><td>2462</td><td>PUERTO DE NAVACERRADA</td><td>MADRID</td><td>1894</td><td> 9.8</td><td> 0.0</td><td> 6.0</td><td>20:40</td><td>13.5</td><td>...</td><td>2.5</td><td>11.1</td><td>00:00</td><td>6.0</td><td>823.5</td><td>Varias</td><td>821.5</td><td>Varias</td><td>-4.010556</td><td>40.79306</td></tr>\n",
       "\t<tr><td>2022-01-03</td><td>2462</td><td>PUERTO DE NAVACERRADA</td><td>MADRID</td><td>1894</td><td> 7.8</td><td> 0.0</td><td> 4.2</td><td>06:20</td><td>11.3</td><td>...</td><td>3.1</td><td>15.3</td><td>22:50</td><td>7.6</td><td>821.5</td><td>00    </td><td>814.7</td><td>24    </td><td>-4.010556</td><td>40.79306</td></tr>\n",
       "\t<tr><td>2022-01-04</td><td>2462</td><td>PUERTO DE NAVACERRADA</td><td>MADRID</td><td>1894</td><td> 1.6</td><td>24.2</td><td>-3.9</td><td>23:59</td><td> 7.0</td><td>...</td><td>7.8</td><td>23.6</td><td>18:30</td><td>3.3</td><td>814.7</td><td>00    </td><td>803.6</td><td>17    </td><td>-4.010556</td><td>40.79306</td></tr>\n",
       "\t<tr><td>2022-01-05</td><td>2462</td><td>PUERTO DE NAVACERRADA</td><td>MADRID</td><td>1894</td><td>-3.0</td><td>13.9</td><td>-4.2</td><td>03:10</td><td>-1.8</td><td>...</td><td>4.2</td><td>19.2</td><td>00:30</td><td>0.0</td><td>809.5</td><td>11    </td><td>806.4</td><td>Varias</td><td>-4.010556</td><td>40.79306</td></tr>\n",
       "</tbody>\n",
       "</table>\n"
      ],
      "text/latex": [
       "A spec\\_tbl\\_df: 5 x 22\n",
       "\\begin{tabular}{lllllllllllllllllllll}\n",
       " fecha & indicativo & nombre & provincia & altitud & tmed & prec & tmin & horatmin & tmax & ... & velmedia & racha & horaracha & sol & presMax & horaPresMax & presMin & horaPresMin & X & Y\\\\\n",
       " <date> & <chr> & <chr> & <chr> & <dbl> & <dbl> & <dbl> & <dbl> & <chr> & <dbl> & ... & <dbl> & <dbl> & <chr> & <dbl> & <dbl> & <chr> & <dbl> & <chr> & <dbl> & <dbl>\\\\\n",
       "\\hline\n",
       "\t 2022-01-01 & 2462 & PUERTO DE NAVACERRADA & MADRID & 1894 & 10.6 &  0.0 &  7.4 & 00:10 & 13.7 & ... & 3.9 & 12.2 & 22:30 & 8.1 & 823.3 & 11     & 821.8 & 06     & -4.010556 & 40.79306\\\\\n",
       "\t 2022-01-02 & 2462 & PUERTO DE NAVACERRADA & MADRID & 1894 &  9.8 &  0.0 &  6.0 & 20:40 & 13.5 & ... & 2.5 & 11.1 & 00:00 & 6.0 & 823.5 & Varias & 821.5 & Varias & -4.010556 & 40.79306\\\\\n",
       "\t 2022-01-03 & 2462 & PUERTO DE NAVACERRADA & MADRID & 1894 &  7.8 &  0.0 &  4.2 & 06:20 & 11.3 & ... & 3.1 & 15.3 & 22:50 & 7.6 & 821.5 & 00     & 814.7 & 24     & -4.010556 & 40.79306\\\\\n",
       "\t 2022-01-04 & 2462 & PUERTO DE NAVACERRADA & MADRID & 1894 &  1.6 & 24.2 & -3.9 & 23:59 &  7.0 & ... & 7.8 & 23.6 & 18:30 & 3.3 & 814.7 & 00     & 803.6 & 17     & -4.010556 & 40.79306\\\\\n",
       "\t 2022-01-05 & 2462 & PUERTO DE NAVACERRADA & MADRID & 1894 & -3.0 & 13.9 & -4.2 & 03:10 & -1.8 & ... & 4.2 & 19.2 & 00:30 & 0.0 & 809.5 & 11     & 806.4 & Varias & -4.010556 & 40.79306\\\\\n",
       "\\end{tabular}\n"
      ],
      "text/markdown": [
       "\n",
       "A spec_tbl_df: 5 x 22\n",
       "\n",
       "| fecha &lt;date&gt; | indicativo &lt;chr&gt; | nombre &lt;chr&gt; | provincia &lt;chr&gt; | altitud &lt;dbl&gt; | tmed &lt;dbl&gt; | prec &lt;dbl&gt; | tmin &lt;dbl&gt; | horatmin &lt;chr&gt; | tmax &lt;dbl&gt; | ... ... | velmedia &lt;dbl&gt; | racha &lt;dbl&gt; | horaracha &lt;chr&gt; | sol &lt;dbl&gt; | presMax &lt;dbl&gt; | horaPresMax &lt;chr&gt; | presMin &lt;dbl&gt; | horaPresMin &lt;chr&gt; | X &lt;dbl&gt; | Y &lt;dbl&gt; |\n",
       "|---|---|---|---|---|---|---|---|---|---|---|---|---|---|---|---|---|---|---|---|---|\n",
       "| 2022-01-01 | 2462 | PUERTO DE NAVACERRADA | MADRID | 1894 | 10.6 |  0.0 |  7.4 | 00:10 | 13.7 | ... | 3.9 | 12.2 | 22:30 | 8.1 | 823.3 | 11     | 821.8 | 06     | -4.010556 | 40.79306 |\n",
       "| 2022-01-02 | 2462 | PUERTO DE NAVACERRADA | MADRID | 1894 |  9.8 |  0.0 |  6.0 | 20:40 | 13.5 | ... | 2.5 | 11.1 | 00:00 | 6.0 | 823.5 | Varias | 821.5 | Varias | -4.010556 | 40.79306 |\n",
       "| 2022-01-03 | 2462 | PUERTO DE NAVACERRADA | MADRID | 1894 |  7.8 |  0.0 |  4.2 | 06:20 | 11.3 | ... | 3.1 | 15.3 | 22:50 | 7.6 | 821.5 | 00     | 814.7 | 24     | -4.010556 | 40.79306 |\n",
       "| 2022-01-04 | 2462 | PUERTO DE NAVACERRADA | MADRID | 1894 |  1.6 | 24.2 | -3.9 | 23:59 |  7.0 | ... | 7.8 | 23.6 | 18:30 | 3.3 | 814.7 | 00     | 803.6 | 17     | -4.010556 | 40.79306 |\n",
       "| 2022-01-05 | 2462 | PUERTO DE NAVACERRADA | MADRID | 1894 | -3.0 | 13.9 | -4.2 | 03:10 | -1.8 | ... | 4.2 | 19.2 | 00:30 | 0.0 | 809.5 | 11     | 806.4 | Varias | -4.010556 | 40.79306 |\n",
       "\n"
      ],
      "text/plain": [
       "  fecha      indicativo nombre                provincia altitud tmed prec tmin\n",
       "1 2022-01-01 2462       PUERTO DE NAVACERRADA MADRID    1894    10.6  0.0  7.4\n",
       "2 2022-01-02 2462       PUERTO DE NAVACERRADA MADRID    1894     9.8  0.0  6.0\n",
       "3 2022-01-03 2462       PUERTO DE NAVACERRADA MADRID    1894     7.8  0.0  4.2\n",
       "4 2022-01-04 2462       PUERTO DE NAVACERRADA MADRID    1894     1.6 24.2 -3.9\n",
       "5 2022-01-05 2462       PUERTO DE NAVACERRADA MADRID    1894    -3.0 13.9 -4.2\n",
       "  horatmin tmax ... velmedia racha horaracha sol presMax horaPresMax presMin\n",
       "1 00:10    13.7 ... 3.9      12.2  22:30     8.1 823.3   11          821.8  \n",
       "2 20:40    13.5 ... 2.5      11.1  00:00     6.0 823.5   Varias      821.5  \n",
       "3 06:20    11.3 ... 3.1      15.3  22:50     7.6 821.5   00          814.7  \n",
       "4 23:59     7.0 ... 7.8      23.6  18:30     3.3 814.7   00          803.6  \n",
       "5 03:10    -1.8 ... 4.2      19.2  00:30     0.0 809.5   11          806.4  \n",
       "  horaPresMin X         Y       \n",
       "1 06          -4.010556 40.79306\n",
       "2 Varias      -4.010556 40.79306\n",
       "3 24          -4.010556 40.79306\n",
       "4 17          -4.010556 40.79306\n",
       "5 Varias      -4.010556 40.79306"
      ]
     },
     "metadata": {},
     "output_type": "display_data"
    }
   ],
   "source": [
    "slice_head(data_01, n = 5)"
   ]
  },
  {
   "attachments": {},
   "cell_type": "markdown",
   "metadata": {},
   "source": [
    "2. Datos de contornos secciones"
   ]
  },
  {
   "cell_type": "markdown",
   "metadata": {},
   "source": [
    "<font color='tomato'><b> OPCION A:</b> Seleccionar fichero en ventana para mayor comodidad</font> "
   ]
  },
  {
   "cell_type": "markdown",
   "metadata": {},
   "source": [
    "Data load using the {tcltk} package. Ucomment the line if not using this option"
   ]
  },
  {
   "cell_type": "code",
   "execution_count": 9,
   "metadata": {
    "vscode": {
     "languageId": "r"
    }
   },
   "outputs": [],
   "source": [
    "# file_data_02 <- tcltk::tk_choose.files(multi = FALSE)"
   ]
  },
  {
   "cell_type": "markdown",
   "metadata": {},
   "source": [
    "<font color='tomato'><b> OPCION B:</b> Especificar el nombre de archivo</font>\n",
    "\n"
   ]
  },
  {
   "cell_type": "code",
   "execution_count": 10,
   "metadata": {
    "vscode": {
     "languageId": "r"
    }
   },
   "outputs": [
    {
     "name": "stdout",
     "output_type": "stream",
     "text": [
      "Se leerán datos del archivo:  Data/Input/CU_34_05_01_secciones_geo.json"
     ]
    }
   ],
   "source": [
    "iFile_02 <- \"CU_34_05_01_secciones_geo.json\"\n",
    "file_data_02 <- paste0(iPath, iFile_02)\n",
    "\n",
    "if(file.exists(file_data_02)){\n",
    "    cat(\"Se leerán datos del archivo: \", file_data_02)\n",
    "} else{\n",
    "    warning(\"Cuidado: el archivo no existe.\")\n",
    "}\n"
   ]
  },
  {
   "cell_type": "markdown",
   "metadata": {},
   "source": [
    "#### Data file to dataframe\n",
    "\n",
    "Usar la función adecuada según el formato de entrada (xlsx, csv, json, ...)"
   ]
  },
  {
   "cell_type": "code",
   "execution_count": 11,
   "metadata": {
    "vscode": {
     "languageId": "r"
    }
   },
   "outputs": [
    {
     "name": "stdout",
     "output_type": "stream",
     "text": [
      "Reading layer `CU_34_05_01_secciones_geo' from data source \n",
      "  `/Users/emilio.lcano/academico/gh_repos/__transferencia/citizenlab/CitizenLab-Research-and-Development/casos_urjc/notebooks/II_data_processing/34_servicios/Data/Input/CU_34_05_01_secciones_geo.json' \n",
      "  using driver `GeoJSON'\n",
      "Simple feature collection with 4432 features and 16 fields\n",
      "Geometry type: MULTIPOLYGON\n",
      "Dimension:     XY\n",
      "Bounding box:  xmin: -4.579006 ymin: 39.8848 xmax: -3.052983 ymax: 41.16584\n",
      "Geodetic CRS:  WGS 84\n"
     ]
    }
   ],
   "source": [
    "data_02 <- st_read(file_data_02)\n"
   ]
  },
  {
   "cell_type": "markdown",
   "metadata": {},
   "source": [
    "Estructura de  los datos:"
   ]
  },
  {
   "cell_type": "code",
   "execution_count": 12,
   "metadata": {
    "vscode": {
     "languageId": "r"
    }
   },
   "outputs": [
    {
     "name": "stdout",
     "output_type": "stream",
     "text": [
      "Rows: 4,432\n",
      "Columns: 17\n",
      "$ CUSEC    \u001b[3m\u001b[90m<chr>\u001b[39m\u001b[23m \"2800101001\", \"2800201001\", \"2800201002\", \"2800301001\", \"2800…\n",
      "$ CUMUN    \u001b[3m\u001b[90m<chr>\u001b[39m\u001b[23m \"28001\", \"28002\", \"28002\", \"28003\", \"28004\", \"28004\", \"28004\"…\n",
      "$ CSEC     \u001b[3m\u001b[90m<chr>\u001b[39m\u001b[23m \"001\", \"001\", \"002\", \"001\", \"001\", \"002\", \"003\", \"004\", \"001\"…\n",
      "$ CDIS     \u001b[3m\u001b[90m<chr>\u001b[39m\u001b[23m \"01\", \"01\", \"01\", \"01\", \"01\", \"01\", \"01\", \"01\", \"01\", \"01\", \"…\n",
      "$ CMUN     \u001b[3m\u001b[90m<chr>\u001b[39m\u001b[23m \"001\", \"002\", \"002\", \"003\", \"004\", \"004\", \"004\", \"004\", \"005\"…\n",
      "$ CPRO     \u001b[3m\u001b[90m<chr>\u001b[39m\u001b[23m \"28\", \"28\", \"28\", \"28\", \"28\", \"28\", \"28\", \"28\", \"28\", \"28\", \"…\n",
      "$ CCA      \u001b[3m\u001b[90m<chr>\u001b[39m\u001b[23m \"13\", \"13\", \"13\", \"13\", \"13\", \"13\", \"13\", \"13\", \"13\", \"13\", \"…\n",
      "$ CUDIS    \u001b[3m\u001b[90m<chr>\u001b[39m\u001b[23m \"2800101\", \"2800201\", \"2800201\", \"2800301\", \"2800401\", \"28004…\n",
      "$ CLAU2    \u001b[3m\u001b[90m<chr>\u001b[39m\u001b[23m \"28001\", \"28002\", \"28002\", \"28003\", \"28004\", \"28004\", \"28004\"…\n",
      "$ NPRO     \u001b[3m\u001b[90m<chr>\u001b[39m\u001b[23m \"Madrid\", \"Madrid\", \"Madrid\", \"Madrid\", \"Madrid\", \"Madrid\", \"…\n",
      "$ NCA      \u001b[3m\u001b[90m<chr>\u001b[39m\u001b[23m \"Comunidad de Madrid\", \"Comunidad de Madrid\", \"Comunidad de M…\n",
      "$ CNUT0    \u001b[3m\u001b[90m<chr>\u001b[39m\u001b[23m \"ES\", \"ES\", \"ES\", \"ES\", \"ES\", \"ES\", \"ES\", \"ES\", \"ES\", \"ES\", \"…\n",
      "$ CNUT1    \u001b[3m\u001b[90m<chr>\u001b[39m\u001b[23m \"3\", \"3\", \"3\", \"3\", \"3\", \"3\", \"3\", \"3\", \"3\", \"3\", \"3\", \"3\", \"…\n",
      "$ CNUT2    \u001b[3m\u001b[90m<chr>\u001b[39m\u001b[23m \"0\", \"0\", \"0\", \"0\", \"0\", \"0\", \"0\", \"0\", \"0\", \"0\", \"0\", \"0\", \"…\n",
      "$ CNUT3    \u001b[3m\u001b[90m<chr>\u001b[39m\u001b[23m \"0\", \"0\", \"0\", \"0\", \"0\", \"0\", \"0\", \"0\", \"0\", \"0\", \"0\", \"0\", \"…\n",
      "$ NMUN     \u001b[3m\u001b[90m<chr>\u001b[39m\u001b[23m \"Acebeda, La\", \"Ajalvir\", \"Ajalvir\", \"Alameda del Valle\", \"Ál…\n",
      "$ geometry \u001b[3m\u001b[90m<MULTIPOLYGON [°]>\u001b[39m\u001b[23m MULTIPOLYGON (((-3.64316 41..., MULTIPOLYGON (((…\n"
     ]
    }
   ],
   "source": [
    "glimpse(data_02)"
   ]
  },
  {
   "cell_type": "markdown",
   "metadata": {},
   "source": [
    "Muestra de datos:"
   ]
  },
  {
   "cell_type": "code",
   "execution_count": 13,
   "metadata": {
    "vscode": {
     "languageId": "r"
    }
   },
   "outputs": [
    {
     "data": {
      "text/html": [
       "<table class=\"dataframe\">\n",
       "<caption>A tibble: 5 x 17</caption>\n",
       "<thead>\n",
       "\t<tr><th scope=col>CUSEC</th><th scope=col>CUMUN</th><th scope=col>CSEC</th><th scope=col>CDIS</th><th scope=col>CMUN</th><th scope=col>CPRO</th><th scope=col>CCA</th><th scope=col>CUDIS</th><th scope=col>CLAU2</th><th scope=col>NPRO</th><th scope=col>NCA</th><th scope=col>CNUT0</th><th scope=col>CNUT1</th><th scope=col>CNUT2</th><th scope=col>CNUT3</th><th scope=col>NMUN</th><th scope=col>geometry</th></tr>\n",
       "\t<tr><th scope=col>&lt;chr&gt;</th><th scope=col>&lt;chr&gt;</th><th scope=col>&lt;chr&gt;</th><th scope=col>&lt;chr&gt;</th><th scope=col>&lt;chr&gt;</th><th scope=col>&lt;chr&gt;</th><th scope=col>&lt;chr&gt;</th><th scope=col>&lt;chr&gt;</th><th scope=col>&lt;chr&gt;</th><th scope=col>&lt;chr&gt;</th><th scope=col>&lt;chr&gt;</th><th scope=col>&lt;chr&gt;</th><th scope=col>&lt;chr&gt;</th><th scope=col>&lt;chr&gt;</th><th scope=col>&lt;chr&gt;</th><th scope=col>&lt;chr&gt;</th><th scope=col>&lt;MULTIPOLYGON [°]&gt;</th></tr>\n",
       "</thead>\n",
       "<tbody>\n",
       "\t<tr><td>2800101001</td><td>28001</td><td>001</td><td>01</td><td>001</td><td>28</td><td>13</td><td>2800101</td><td>28001</td><td>Madrid</td><td>Comunidad de Madrid</td><td>ES</td><td>3</td><td>0</td><td>0</td><td>Acebeda, La      </td><td>MULTIPOLYGON (((-3.64316 41...</td></tr>\n",
       "\t<tr><td>2800201001</td><td>28002</td><td>001</td><td>01</td><td>002</td><td>28</td><td>13</td><td>2800201</td><td>28002</td><td>Madrid</td><td>Comunidad de Madrid</td><td>ES</td><td>3</td><td>0</td><td>0</td><td>Ajalvir          </td><td>MULTIPOLYGON (((-3.469465 4...</td></tr>\n",
       "\t<tr><td>2800201002</td><td>28002</td><td>002</td><td>01</td><td>002</td><td>28</td><td>13</td><td>2800201</td><td>28002</td><td>Madrid</td><td>Comunidad de Madrid</td><td>ES</td><td>3</td><td>0</td><td>0</td><td>Ajalvir          </td><td>MULTIPOLYGON (((-3.503032 4...</td></tr>\n",
       "\t<tr><td>2800301001</td><td>28003</td><td>001</td><td>01</td><td>003</td><td>28</td><td>13</td><td>2800301</td><td>28003</td><td>Madrid</td><td>Comunidad de Madrid</td><td>ES</td><td>3</td><td>0</td><td>0</td><td>Alameda del Valle</td><td>MULTIPOLYGON (((-3.808662 4...</td></tr>\n",
       "\t<tr><td>2800401001</td><td>28004</td><td>001</td><td>01</td><td>004</td><td>28</td><td>13</td><td>2800401</td><td>28004</td><td>Madrid</td><td>Comunidad de Madrid</td><td>ES</td><td>3</td><td>0</td><td>0</td><td>Álamo, El        </td><td>MULTIPOLYGON (((-3.979038 4...</td></tr>\n",
       "</tbody>\n",
       "</table>\n"
      ],
      "text/latex": [
       "A tibble: 5 x 17\n",
       "\\begin{tabular}{lllllllllllllllll}\n",
       " CUSEC & CUMUN & CSEC & CDIS & CMUN & CPRO & CCA & CUDIS & CLAU2 & NPRO & NCA & CNUT0 & CNUT1 & CNUT2 & CNUT3 & NMUN & geometry\\\\\n",
       " <chr> & <chr> & <chr> & <chr> & <chr> & <chr> & <chr> & <chr> & <chr> & <chr> & <chr> & <chr> & <chr> & <chr> & <chr> & <chr> & <MULTIPOLYGON {[}°{]}>\\\\\n",
       "\\hline\n",
       "\t 2800101001 & 28001 & 001 & 01 & 001 & 28 & 13 & 2800101 & 28001 & Madrid & Comunidad de Madrid & ES & 3 & 0 & 0 & Acebeda, La       & MULTIPOLYGON (((-3.64316 41...\\\\\n",
       "\t 2800201001 & 28002 & 001 & 01 & 002 & 28 & 13 & 2800201 & 28002 & Madrid & Comunidad de Madrid & ES & 3 & 0 & 0 & Ajalvir           & MULTIPOLYGON (((-3.469465 4...\\\\\n",
       "\t 2800201002 & 28002 & 002 & 01 & 002 & 28 & 13 & 2800201 & 28002 & Madrid & Comunidad de Madrid & ES & 3 & 0 & 0 & Ajalvir           & MULTIPOLYGON (((-3.503032 4...\\\\\n",
       "\t 2800301001 & 28003 & 001 & 01 & 003 & 28 & 13 & 2800301 & 28003 & Madrid & Comunidad de Madrid & ES & 3 & 0 & 0 & Alameda del Valle & MULTIPOLYGON (((-3.808662 4...\\\\\n",
       "\t 2800401001 & 28004 & 001 & 01 & 004 & 28 & 13 & 2800401 & 28004 & Madrid & Comunidad de Madrid & ES & 3 & 0 & 0 & Álamo, El         & MULTIPOLYGON (((-3.979038 4...\\\\\n",
       "\\end{tabular}\n"
      ],
      "text/markdown": [
       "\n",
       "A tibble: 5 x 17\n",
       "\n",
       "| CUSEC &lt;chr&gt; | CUMUN &lt;chr&gt; | CSEC &lt;chr&gt; | CDIS &lt;chr&gt; | CMUN &lt;chr&gt; | CPRO &lt;chr&gt; | CCA &lt;chr&gt; | CUDIS &lt;chr&gt; | CLAU2 &lt;chr&gt; | NPRO &lt;chr&gt; | NCA &lt;chr&gt; | CNUT0 &lt;chr&gt; | CNUT1 &lt;chr&gt; | CNUT2 &lt;chr&gt; | CNUT3 &lt;chr&gt; | NMUN &lt;chr&gt; | geometry &lt;MULTIPOLYGON [°]&gt; |\n",
       "|---|---|---|---|---|---|---|---|---|---|---|---|---|---|---|---|---|\n",
       "| 2800101001 | 28001 | 001 | 01 | 001 | 28 | 13 | 2800101 | 28001 | Madrid | Comunidad de Madrid | ES | 3 | 0 | 0 | Acebeda, La       | MULTIPOLYGON (((-3.64316 41... |\n",
       "| 2800201001 | 28002 | 001 | 01 | 002 | 28 | 13 | 2800201 | 28002 | Madrid | Comunidad de Madrid | ES | 3 | 0 | 0 | Ajalvir           | MULTIPOLYGON (((-3.469465 4... |\n",
       "| 2800201002 | 28002 | 002 | 01 | 002 | 28 | 13 | 2800201 | 28002 | Madrid | Comunidad de Madrid | ES | 3 | 0 | 0 | Ajalvir           | MULTIPOLYGON (((-3.503032 4... |\n",
       "| 2800301001 | 28003 | 001 | 01 | 003 | 28 | 13 | 2800301 | 28003 | Madrid | Comunidad de Madrid | ES | 3 | 0 | 0 | Alameda del Valle | MULTIPOLYGON (((-3.808662 4... |\n",
       "| 2800401001 | 28004 | 001 | 01 | 004 | 28 | 13 | 2800401 | 28004 | Madrid | Comunidad de Madrid | ES | 3 | 0 | 0 | Álamo, El         | MULTIPOLYGON (((-3.979038 4... |\n",
       "\n"
      ],
      "text/plain": [
       "  CUSEC      CUMUN CSEC CDIS CMUN CPRO CCA CUDIS   CLAU2 NPRO  \n",
       "1 2800101001 28001 001  01   001  28   13  2800101 28001 Madrid\n",
       "2 2800201001 28002 001  01   002  28   13  2800201 28002 Madrid\n",
       "3 2800201002 28002 002  01   002  28   13  2800201 28002 Madrid\n",
       "4 2800301001 28003 001  01   003  28   13  2800301 28003 Madrid\n",
       "5 2800401001 28004 001  01   004  28   13  2800401 28004 Madrid\n",
       "  NCA                 CNUT0 CNUT1 CNUT2 CNUT3 NMUN             \n",
       "1 Comunidad de Madrid ES    3     0     0     Acebeda, La      \n",
       "2 Comunidad de Madrid ES    3     0     0     Ajalvir          \n",
       "3 Comunidad de Madrid ES    3     0     0     Ajalvir          \n",
       "4 Comunidad de Madrid ES    3     0     0     Alameda del Valle\n",
       "5 Comunidad de Madrid ES    3     0     0     Álamo, El        \n",
       "  geometry                      \n",
       "1 MULTIPOLYGON (((-3.64316 41...\n",
       "2 MULTIPOLYGON (((-3.469465 4...\n",
       "3 MULTIPOLYGON (((-3.503032 4...\n",
       "4 MULTIPOLYGON (((-3.808662 4...\n",
       "5 MULTIPOLYGON (((-3.979038 4..."
      ]
     },
     "metadata": {},
     "output_type": "display_data"
    }
   ],
   "source": [
    "data_02 |> tibble() |> slice_head(n = 5)"
   ]
  },
  {
   "cell_type": "markdown",
   "metadata": {},
   "source": [
    "## ETL Processes"
   ]
  },
  {
   "attachments": {},
   "cell_type": "markdown",
   "metadata": {},
   "source": [
    "### Import data from: CSV, Excel, Tab, JSON, SQL, and Parquet files\n",
    "\n",
    "Se han importado en el apartado Data Load anterior:\n",
    "\n",
    "* Datos diarios meteorológicos por estación\n",
    "* Contornos de secciones censales"
   ]
  },
  {
   "cell_type": "markdown",
   "metadata": {},
   "source": [
    "Incluir apartados si procede para: Extracción de datos (select, filter), Transformación de datos, (mutate, joins, ...). Si es necesario tratar datos perdidos, indicarlo también en NB 09.2"
   ]
  },
  {
   "cell_type": "markdown",
   "metadata": {},
   "source": [
    "Si no aplica: Estos datos no requieren tareas de este tipo."
   ]
  },
  {
   "attachments": {},
   "cell_type": "markdown",
   "metadata": {},
   "source": [
    "#### Data transformation"
   ]
  },
  {
   "attachments": {},
   "cell_type": "markdown",
   "metadata": {},
   "source": [
    "* Convertir zonas a centroide para poder interpolar"
   ]
  },
  {
   "cell_type": "code",
   "execution_count": 14,
   "metadata": {
    "vscode": {
     "languageId": "r"
    }
   },
   "outputs": [
    {
     "name": "stderr",
     "output_type": "stream",
     "text": [
      "Warning message in st_centroid.sf(data_02):\n",
      "“st_centroid assumes attributes are constant over geometries of x”\n"
     ]
    }
   ],
   "source": [
    "tdata_02 <- data_02 |> st_centroid() "
   ]
  },
  {
   "cell_type": "code",
   "execution_count": 15,
   "metadata": {
    "vscode": {
     "languageId": "r"
    }
   },
   "outputs": [
    {
     "name": "stdout",
     "output_type": "stream",
     "text": [
      "Rows: 4,432\n",
      "Columns: 17\n",
      "$ CUSEC    \u001b[3m\u001b[90m<chr>\u001b[39m\u001b[23m \"2800101001\", \"2800201001\", \"2800201002\", \"2800301001\", \"2800…\n",
      "$ CUMUN    \u001b[3m\u001b[90m<chr>\u001b[39m\u001b[23m \"28001\", \"28002\", \"28002\", \"28003\", \"28004\", \"28004\", \"28004\"…\n",
      "$ CSEC     \u001b[3m\u001b[90m<chr>\u001b[39m\u001b[23m \"001\", \"001\", \"002\", \"001\", \"001\", \"002\", \"003\", \"004\", \"001\"…\n",
      "$ CDIS     \u001b[3m\u001b[90m<chr>\u001b[39m\u001b[23m \"01\", \"01\", \"01\", \"01\", \"01\", \"01\", \"01\", \"01\", \"01\", \"01\", \"…\n",
      "$ CMUN     \u001b[3m\u001b[90m<chr>\u001b[39m\u001b[23m \"001\", \"002\", \"002\", \"003\", \"004\", \"004\", \"004\", \"004\", \"005\"…\n",
      "$ CPRO     \u001b[3m\u001b[90m<chr>\u001b[39m\u001b[23m \"28\", \"28\", \"28\", \"28\", \"28\", \"28\", \"28\", \"28\", \"28\", \"28\", \"…\n",
      "$ CCA      \u001b[3m\u001b[90m<chr>\u001b[39m\u001b[23m \"13\", \"13\", \"13\", \"13\", \"13\", \"13\", \"13\", \"13\", \"13\", \"13\", \"…\n",
      "$ CUDIS    \u001b[3m\u001b[90m<chr>\u001b[39m\u001b[23m \"2800101\", \"2800201\", \"2800201\", \"2800301\", \"2800401\", \"28004…\n",
      "$ CLAU2    \u001b[3m\u001b[90m<chr>\u001b[39m\u001b[23m \"28001\", \"28002\", \"28002\", \"28003\", \"28004\", \"28004\", \"28004\"…\n",
      "$ NPRO     \u001b[3m\u001b[90m<chr>\u001b[39m\u001b[23m \"Madrid\", \"Madrid\", \"Madrid\", \"Madrid\", \"Madrid\", \"Madrid\", \"…\n",
      "$ NCA      \u001b[3m\u001b[90m<chr>\u001b[39m\u001b[23m \"Comunidad de Madrid\", \"Comunidad de Madrid\", \"Comunidad de M…\n",
      "$ CNUT0    \u001b[3m\u001b[90m<chr>\u001b[39m\u001b[23m \"ES\", \"ES\", \"ES\", \"ES\", \"ES\", \"ES\", \"ES\", \"ES\", \"ES\", \"ES\", \"…\n",
      "$ CNUT1    \u001b[3m\u001b[90m<chr>\u001b[39m\u001b[23m \"3\", \"3\", \"3\", \"3\", \"3\", \"3\", \"3\", \"3\", \"3\", \"3\", \"3\", \"3\", \"…\n",
      "$ CNUT2    \u001b[3m\u001b[90m<chr>\u001b[39m\u001b[23m \"0\", \"0\", \"0\", \"0\", \"0\", \"0\", \"0\", \"0\", \"0\", \"0\", \"0\", \"0\", \"…\n",
      "$ CNUT3    \u001b[3m\u001b[90m<chr>\u001b[39m\u001b[23m \"0\", \"0\", \"0\", \"0\", \"0\", \"0\", \"0\", \"0\", \"0\", \"0\", \"0\", \"0\", \"…\n",
      "$ NMUN     \u001b[3m\u001b[90m<chr>\u001b[39m\u001b[23m \"Acebeda, La\", \"Ajalvir\", \"Ajalvir\", \"Alameda del Valle\", \"Ál…\n",
      "$ geometry \u001b[3m\u001b[90m<POINT [°]>\u001b[39m\u001b[23m POINT (-3.63571 41.09315), POINT (-3.475764 40.5202), P…\n"
     ]
    }
   ],
   "source": [
    "glimpse(tdata_02)"
   ]
  },
  {
   "cell_type": "code",
   "execution_count": 16,
   "metadata": {
    "vscode": {
     "languageId": "r"
    }
   },
   "outputs": [
    {
     "data": {
      "text/html": [
       "<table class=\"dataframe\">\n",
       "<caption>A tibble: 5 x 17</caption>\n",
       "<thead>\n",
       "\t<tr><th scope=col>CUSEC</th><th scope=col>CUMUN</th><th scope=col>CSEC</th><th scope=col>CDIS</th><th scope=col>CMUN</th><th scope=col>CPRO</th><th scope=col>CCA</th><th scope=col>CUDIS</th><th scope=col>CLAU2</th><th scope=col>NPRO</th><th scope=col>NCA</th><th scope=col>CNUT0</th><th scope=col>CNUT1</th><th scope=col>CNUT2</th><th scope=col>CNUT3</th><th scope=col>NMUN</th><th scope=col>geometry</th></tr>\n",
       "\t<tr><th scope=col>&lt;chr&gt;</th><th scope=col>&lt;chr&gt;</th><th scope=col>&lt;chr&gt;</th><th scope=col>&lt;chr&gt;</th><th scope=col>&lt;chr&gt;</th><th scope=col>&lt;chr&gt;</th><th scope=col>&lt;chr&gt;</th><th scope=col>&lt;chr&gt;</th><th scope=col>&lt;chr&gt;</th><th scope=col>&lt;chr&gt;</th><th scope=col>&lt;chr&gt;</th><th scope=col>&lt;chr&gt;</th><th scope=col>&lt;chr&gt;</th><th scope=col>&lt;chr&gt;</th><th scope=col>&lt;chr&gt;</th><th scope=col>&lt;chr&gt;</th><th scope=col>&lt;POINT [°]&gt;</th></tr>\n",
       "</thead>\n",
       "<tbody>\n",
       "\t<tr><td>2800101001</td><td>28001</td><td>001</td><td>01</td><td>001</td><td>28</td><td>13</td><td>2800101</td><td>28001</td><td>Madrid</td><td>Comunidad de Madrid</td><td>ES</td><td>3</td><td>0</td><td>0</td><td>Acebeda, La      </td><td>POINT (-3.63571 41.09315)</td></tr>\n",
       "\t<tr><td>2800201001</td><td>28002</td><td>001</td><td>01</td><td>002</td><td>28</td><td>13</td><td>2800201</td><td>28002</td><td>Madrid</td><td>Comunidad de Madrid</td><td>ES</td><td>3</td><td>0</td><td>0</td><td>Ajalvir          </td><td>POINT (-3.475764 40.5202)</td></tr>\n",
       "\t<tr><td>2800201002</td><td>28002</td><td>002</td><td>01</td><td>002</td><td>28</td><td>13</td><td>2800201</td><td>28002</td><td>Madrid</td><td>Comunidad de Madrid</td><td>ES</td><td>3</td><td>0</td><td>0</td><td>Ajalvir          </td><td>POINT (-3.496712 40.53807)</td></tr>\n",
       "\t<tr><td>2800301001</td><td>28003</td><td>001</td><td>01</td><td>003</td><td>28</td><td>13</td><td>2800301</td><td>28003</td><td>Madrid</td><td>Comunidad de Madrid</td><td>ES</td><td>3</td><td>0</td><td>0</td><td>Alameda del Valle</td><td>POINT (-3.84994 40.92032)</td></tr>\n",
       "\t<tr><td>2800401001</td><td>28004</td><td>001</td><td>01</td><td>004</td><td>28</td><td>13</td><td>2800401</td><td>28004</td><td>Madrid</td><td>Comunidad de Madrid</td><td>ES</td><td>3</td><td>0</td><td>0</td><td>Álamo, El        </td><td>POINT (-3.985307 40.24362)</td></tr>\n",
       "</tbody>\n",
       "</table>\n"
      ],
      "text/latex": [
       "A tibble: 5 x 17\n",
       "\\begin{tabular}{lllllllllllllllll}\n",
       " CUSEC & CUMUN & CSEC & CDIS & CMUN & CPRO & CCA & CUDIS & CLAU2 & NPRO & NCA & CNUT0 & CNUT1 & CNUT2 & CNUT3 & NMUN & geometry\\\\\n",
       " <chr> & <chr> & <chr> & <chr> & <chr> & <chr> & <chr> & <chr> & <chr> & <chr> & <chr> & <chr> & <chr> & <chr> & <chr> & <chr> & <POINT {[}°{]}>\\\\\n",
       "\\hline\n",
       "\t 2800101001 & 28001 & 001 & 01 & 001 & 28 & 13 & 2800101 & 28001 & Madrid & Comunidad de Madrid & ES & 3 & 0 & 0 & Acebeda, La       & POINT (-3.63571 41.09315)\\\\\n",
       "\t 2800201001 & 28002 & 001 & 01 & 002 & 28 & 13 & 2800201 & 28002 & Madrid & Comunidad de Madrid & ES & 3 & 0 & 0 & Ajalvir           & POINT (-3.475764 40.5202)\\\\\n",
       "\t 2800201002 & 28002 & 002 & 01 & 002 & 28 & 13 & 2800201 & 28002 & Madrid & Comunidad de Madrid & ES & 3 & 0 & 0 & Ajalvir           & POINT (-3.496712 40.53807)\\\\\n",
       "\t 2800301001 & 28003 & 001 & 01 & 003 & 28 & 13 & 2800301 & 28003 & Madrid & Comunidad de Madrid & ES & 3 & 0 & 0 & Alameda del Valle & POINT (-3.84994 40.92032)\\\\\n",
       "\t 2800401001 & 28004 & 001 & 01 & 004 & 28 & 13 & 2800401 & 28004 & Madrid & Comunidad de Madrid & ES & 3 & 0 & 0 & Álamo, El         & POINT (-3.985307 40.24362)\\\\\n",
       "\\end{tabular}\n"
      ],
      "text/markdown": [
       "\n",
       "A tibble: 5 x 17\n",
       "\n",
       "| CUSEC &lt;chr&gt; | CUMUN &lt;chr&gt; | CSEC &lt;chr&gt; | CDIS &lt;chr&gt; | CMUN &lt;chr&gt; | CPRO &lt;chr&gt; | CCA &lt;chr&gt; | CUDIS &lt;chr&gt; | CLAU2 &lt;chr&gt; | NPRO &lt;chr&gt; | NCA &lt;chr&gt; | CNUT0 &lt;chr&gt; | CNUT1 &lt;chr&gt; | CNUT2 &lt;chr&gt; | CNUT3 &lt;chr&gt; | NMUN &lt;chr&gt; | geometry &lt;POINT [°]&gt; |\n",
       "|---|---|---|---|---|---|---|---|---|---|---|---|---|---|---|---|---|\n",
       "| 2800101001 | 28001 | 001 | 01 | 001 | 28 | 13 | 2800101 | 28001 | Madrid | Comunidad de Madrid | ES | 3 | 0 | 0 | Acebeda, La       | POINT (-3.63571 41.09315) |\n",
       "| 2800201001 | 28002 | 001 | 01 | 002 | 28 | 13 | 2800201 | 28002 | Madrid | Comunidad de Madrid | ES | 3 | 0 | 0 | Ajalvir           | POINT (-3.475764 40.5202) |\n",
       "| 2800201002 | 28002 | 002 | 01 | 002 | 28 | 13 | 2800201 | 28002 | Madrid | Comunidad de Madrid | ES | 3 | 0 | 0 | Ajalvir           | POINT (-3.496712 40.53807) |\n",
       "| 2800301001 | 28003 | 001 | 01 | 003 | 28 | 13 | 2800301 | 28003 | Madrid | Comunidad de Madrid | ES | 3 | 0 | 0 | Alameda del Valle | POINT (-3.84994 40.92032) |\n",
       "| 2800401001 | 28004 | 001 | 01 | 004 | 28 | 13 | 2800401 | 28004 | Madrid | Comunidad de Madrid | ES | 3 | 0 | 0 | Álamo, El         | POINT (-3.985307 40.24362) |\n",
       "\n"
      ],
      "text/plain": [
       "  CUSEC      CUMUN CSEC CDIS CMUN CPRO CCA CUDIS   CLAU2 NPRO  \n",
       "1 2800101001 28001 001  01   001  28   13  2800101 28001 Madrid\n",
       "2 2800201001 28002 001  01   002  28   13  2800201 28002 Madrid\n",
       "3 2800201002 28002 002  01   002  28   13  2800201 28002 Madrid\n",
       "4 2800301001 28003 001  01   003  28   13  2800301 28003 Madrid\n",
       "5 2800401001 28004 001  01   004  28   13  2800401 28004 Madrid\n",
       "  NCA                 CNUT0 CNUT1 CNUT2 CNUT3 NMUN             \n",
       "1 Comunidad de Madrid ES    3     0     0     Acebeda, La      \n",
       "2 Comunidad de Madrid ES    3     0     0     Ajalvir          \n",
       "3 Comunidad de Madrid ES    3     0     0     Ajalvir          \n",
       "4 Comunidad de Madrid ES    3     0     0     Alameda del Valle\n",
       "5 Comunidad de Madrid ES    3     0     0     Álamo, El        \n",
       "  geometry                  \n",
       "1 POINT (-3.63571 41.09315) \n",
       "2 POINT (-3.475764 40.5202) \n",
       "3 POINT (-3.496712 40.53807)\n",
       "4 POINT (-3.84994 40.92032) \n",
       "5 POINT (-3.985307 40.24362)"
      ]
     },
     "metadata": {},
     "output_type": "display_data"
    }
   ],
   "source": [
    "tdata_02 |> tibble() |> slice_head(n = 5)"
   ]
  },
  {
   "attachments": {},
   "cell_type": "markdown",
   "metadata": {},
   "source": [
    "#### Data extract\n",
    "\n",
    "* Seleccionar variables temperatura, precipitaciones y presión"
   ]
  },
  {
   "cell_type": "code",
   "execution_count": 17,
   "metadata": {
    "vscode": {
     "languageId": "r"
    }
   },
   "outputs": [],
   "source": [
    "edata_01 <- data_01 |>\n",
    "   select(fecha, nombre, tmed, prec, velmedia, presMax, X, Y) "
   ]
  },
  {
   "attachments": {},
   "cell_type": "markdown",
   "metadata": {},
   "source": [
    "#### Data transformation\n",
    "\n",
    "* Convertir datos a objeto espacial para poder interpolar\n"
   ]
  },
  {
   "cell_type": "code",
   "execution_count": 18,
   "metadata": {
    "vscode": {
     "languageId": "r"
    }
   },
   "outputs": [],
   "source": [
    "tdata_01 <- edata_01 |>\n",
    "    st_as_sf(coords = c(\"X\", \"Y\"), crs = 4326)"
   ]
  },
  {
   "cell_type": "code",
   "execution_count": 19,
   "metadata": {
    "vscode": {
     "languageId": "r"
    }
   },
   "outputs": [
    {
     "name": "stdout",
     "output_type": "stream",
     "text": [
      "Rows: 372\n",
      "Columns: 7\n",
      "$ fecha    \u001b[3m\u001b[90m<date>\u001b[39m\u001b[23m 2022-01-01, 2022-01-02, 2022-01-03, 2022-01-04, 2022-01-05, …\n",
      "$ nombre   \u001b[3m\u001b[90m<chr>\u001b[39m\u001b[23m \"PUERTO DE NAVACERRADA\", \"PUERTO DE NAVACERRADA\", \"PUERTO DE …\n",
      "$ tmed     \u001b[3m\u001b[90m<dbl>\u001b[39m\u001b[23m 10.6, 9.8, 7.8, 1.6, -3.0, -5.6, -4.0, -2.8, 0.0, 1.6, 1.0, 2…\n",
      "$ prec     \u001b[3m\u001b[90m<dbl>\u001b[39m\u001b[23m 0.0, 0.0, 0.0, 24.2, 13.9, 0.0, 0.2, 0.0, 6.6, 0.8, 0.0, 0.0,…\n",
      "$ velmedia \u001b[3m\u001b[90m<dbl>\u001b[39m\u001b[23m 3.9, 2.5, 3.1, 7.8, 4.2, 5.6, 4.2, 5.6, 6.1, 6.1, 2.5, 1.7, 5…\n",
      "$ presMax  \u001b[3m\u001b[90m<dbl>\u001b[39m\u001b[23m 823.3, 823.5, 821.5, 814.7, 809.5, 813.5, 819.3, 819.2, 815.1…\n",
      "$ geometry \u001b[3m\u001b[90m<POINT [°]>\u001b[39m\u001b[23m POINT (-4.010556 40.79306), POINT (-4.010556 40.79306),…\n"
     ]
    }
   ],
   "source": [
    "glimpse(tdata_01)"
   ]
  },
  {
   "cell_type": "code",
   "execution_count": 20,
   "metadata": {
    "vscode": {
     "languageId": "r"
    }
   },
   "outputs": [
    {
     "data": {
      "text/html": [
       "<table class=\"dataframe\">\n",
       "<caption>A tibble: 5 x 7</caption>\n",
       "<thead>\n",
       "\t<tr><th scope=col>fecha</th><th scope=col>nombre</th><th scope=col>tmed</th><th scope=col>prec</th><th scope=col>velmedia</th><th scope=col>presMax</th><th scope=col>geometry</th></tr>\n",
       "\t<tr><th scope=col>&lt;date&gt;</th><th scope=col>&lt;chr&gt;</th><th scope=col>&lt;dbl&gt;</th><th scope=col>&lt;dbl&gt;</th><th scope=col>&lt;dbl&gt;</th><th scope=col>&lt;dbl&gt;</th><th scope=col>&lt;POINT [°]&gt;</th></tr>\n",
       "</thead>\n",
       "<tbody>\n",
       "\t<tr><td>2022-01-01</td><td>PUERTO DE NAVACERRADA</td><td>10.6</td><td> 0.0</td><td>3.9</td><td>823.3</td><td>POINT (-4.010556 40.79306)</td></tr>\n",
       "\t<tr><td>2022-01-02</td><td>PUERTO DE NAVACERRADA</td><td> 9.8</td><td> 0.0</td><td>2.5</td><td>823.5</td><td>POINT (-4.010556 40.79306)</td></tr>\n",
       "\t<tr><td>2022-01-03</td><td>PUERTO DE NAVACERRADA</td><td> 7.8</td><td> 0.0</td><td>3.1</td><td>821.5</td><td>POINT (-4.010556 40.79306)</td></tr>\n",
       "\t<tr><td>2022-01-04</td><td>PUERTO DE NAVACERRADA</td><td> 1.6</td><td>24.2</td><td>7.8</td><td>814.7</td><td>POINT (-4.010556 40.79306)</td></tr>\n",
       "\t<tr><td>2022-01-05</td><td>PUERTO DE NAVACERRADA</td><td>-3.0</td><td>13.9</td><td>4.2</td><td>809.5</td><td>POINT (-4.010556 40.79306)</td></tr>\n",
       "</tbody>\n",
       "</table>\n"
      ],
      "text/latex": [
       "A tibble: 5 x 7\n",
       "\\begin{tabular}{lllllll}\n",
       " fecha & nombre & tmed & prec & velmedia & presMax & geometry\\\\\n",
       " <date> & <chr> & <dbl> & <dbl> & <dbl> & <dbl> & <POINT {[}°{]}>\\\\\n",
       "\\hline\n",
       "\t 2022-01-01 & PUERTO DE NAVACERRADA & 10.6 &  0.0 & 3.9 & 823.3 & POINT (-4.010556 40.79306)\\\\\n",
       "\t 2022-01-02 & PUERTO DE NAVACERRADA &  9.8 &  0.0 & 2.5 & 823.5 & POINT (-4.010556 40.79306)\\\\\n",
       "\t 2022-01-03 & PUERTO DE NAVACERRADA &  7.8 &  0.0 & 3.1 & 821.5 & POINT (-4.010556 40.79306)\\\\\n",
       "\t 2022-01-04 & PUERTO DE NAVACERRADA &  1.6 & 24.2 & 7.8 & 814.7 & POINT (-4.010556 40.79306)\\\\\n",
       "\t 2022-01-05 & PUERTO DE NAVACERRADA & -3.0 & 13.9 & 4.2 & 809.5 & POINT (-4.010556 40.79306)\\\\\n",
       "\\end{tabular}\n"
      ],
      "text/markdown": [
       "\n",
       "A tibble: 5 x 7\n",
       "\n",
       "| fecha &lt;date&gt; | nombre &lt;chr&gt; | tmed &lt;dbl&gt; | prec &lt;dbl&gt; | velmedia &lt;dbl&gt; | presMax &lt;dbl&gt; | geometry &lt;POINT [°]&gt; |\n",
       "|---|---|---|---|---|---|---|\n",
       "| 2022-01-01 | PUERTO DE NAVACERRADA | 10.6 |  0.0 | 3.9 | 823.3 | POINT (-4.010556 40.79306) |\n",
       "| 2022-01-02 | PUERTO DE NAVACERRADA |  9.8 |  0.0 | 2.5 | 823.5 | POINT (-4.010556 40.79306) |\n",
       "| 2022-01-03 | PUERTO DE NAVACERRADA |  7.8 |  0.0 | 3.1 | 821.5 | POINT (-4.010556 40.79306) |\n",
       "| 2022-01-04 | PUERTO DE NAVACERRADA |  1.6 | 24.2 | 7.8 | 814.7 | POINT (-4.010556 40.79306) |\n",
       "| 2022-01-05 | PUERTO DE NAVACERRADA | -3.0 | 13.9 | 4.2 | 809.5 | POINT (-4.010556 40.79306) |\n",
       "\n"
      ],
      "text/plain": [
       "  fecha      nombre                tmed prec velmedia presMax\n",
       "1 2022-01-01 PUERTO DE NAVACERRADA 10.6  0.0 3.9      823.3  \n",
       "2 2022-01-02 PUERTO DE NAVACERRADA  9.8  0.0 2.5      823.5  \n",
       "3 2022-01-03 PUERTO DE NAVACERRADA  7.8  0.0 3.1      821.5  \n",
       "4 2022-01-04 PUERTO DE NAVACERRADA  1.6 24.2 7.8      814.7  \n",
       "5 2022-01-05 PUERTO DE NAVACERRADA -3.0 13.9 4.2      809.5  \n",
       "  geometry                  \n",
       "1 POINT (-4.010556 40.79306)\n",
       "2 POINT (-4.010556 40.79306)\n",
       "3 POINT (-4.010556 40.79306)\n",
       "4 POINT (-4.010556 40.79306)\n",
       "5 POINT (-4.010556 40.79306)"
      ]
     },
     "metadata": {},
     "output_type": "display_data"
    }
   ],
   "source": [
    "tdata_01 |> tibble() |> slice_head(n = 5)"
   ]
  },
  {
   "attachments": {},
   "cell_type": "markdown",
   "metadata": {},
   "source": [
    "* Interpolar temperatura media, precipitación, velocidad media del viento y presión máxima en las coordenadas de cada sección censal.\n",
    "\n",
    "NOTA: esta operación puede tardar varios minutos."
   ]
  },
  {
   "cell_type": "code",
   "execution_count": 21,
   "metadata": {
    "vscode": {
     "languageId": "r"
    }
   },
   "outputs": [],
   "source": [
    "meteovars <- c(\"tmed\", \"prec\", \"velmedia\", \"presMax\")\n",
    "dias <- tdata_01$fecha |> unique()\n",
    "resl <- list()\n",
    "\n",
    "for (i in seq_along(dias)){\n",
    "  f <- dias[i]\n",
    "  meteod <- tdata_01 |> \n",
    "    filter(fecha == f) |> \n",
    "    select(all_of(meteovars)) \n",
    "  \n",
    "  res <- data_02 |> select(CMUN, CDIS, CSEC) |> st_drop_geometry()\n",
    "  for (j in seq_along(meteovars)){\n",
    "    thisvar <- meteovars[j] \n",
    "    meteodc <- meteod |> \n",
    "      drop_na(all_of(thisvar))\n",
    "    \n",
    "    if(all(meteodc |> pull(thisvar) == 0)){\n",
    "      res <- res |> \n",
    "        mutate(!!thisvar := 0)\n",
    "    } else{\n",
    "      \n",
    "      fo <- as.formula(paste0(thisvar, \" ~ 1\"))\n",
    "      v0 <- variogram(fo, meteodc)\n",
    "      v.m <- suppressWarnings(fit.variogram(v0, \n",
    "        vgm(c(\"Exp\", \"Mat\", \"Sph\", \"Log\", \"Wav\", \"Bes\", \"Lin\", \"Leg\"))))\n",
    "      invisible(capture.output(suppressWarnings(krg <- krige(fo, \n",
    "                   locations = meteodc,\n",
    "                   newdata = tdata_02,\n",
    "                   model = v.m))))\n",
    "      res <- res |> \n",
    "        mutate(fecha = f) |> \n",
    "        mutate(!!thisvar := krg$var1.pred)\n",
    "    }\n",
    "  }\n",
    "    # res <- res |>\n",
    "    #   mutate(ano = a,\n",
    "    #          semana = s)\n",
    "  resl[[i]] <- res\n",
    "}\n",
    "\n",
    "data <- bind_rows(resl)"
   ]
  },
  {
   "cell_type": "code",
   "execution_count": 22,
   "metadata": {
    "vscode": {
     "languageId": "r"
    }
   },
   "outputs": [
    {
     "name": "stdout",
     "output_type": "stream",
     "text": [
      "Rows: 137,392\n",
      "Columns: 8\n",
      "$ CMUN     \u001b[3m\u001b[90m<chr>\u001b[39m\u001b[23m \"001\", \"002\", \"002\", \"003\", \"004\", \"004\", \"004\", \"004\", \"005\"…\n",
      "$ CDIS     \u001b[3m\u001b[90m<chr>\u001b[39m\u001b[23m \"01\", \"01\", \"01\", \"01\", \"01\", \"01\", \"01\", \"01\", \"01\", \"01\", \"…\n",
      "$ CSEC     \u001b[3m\u001b[90m<chr>\u001b[39m\u001b[23m \"001\", \"001\", \"002\", \"001\", \"001\", \"002\", \"003\", \"004\", \"001\"…\n",
      "$ fecha    \u001b[3m\u001b[90m<date>\u001b[39m\u001b[23m 2022-01-01, 2022-01-01, 2022-01-01, 2022-01-01, 2022-01-01, …\n",
      "$ tmed     \u001b[3m\u001b[90m<dbl>\u001b[39m\u001b[23m 9.472965, 8.170448, 8.526402, 10.012282, 10.574368, 10.508450…\n",
      "$ prec     \u001b[3m\u001b[90m<dbl>\u001b[39m\u001b[23m 0, 0, 0, 0, 0, 0, 0, 0, 0, 0, 0, 0, 0, 0, 0, 0, 0, 0, 0, 0, 0…\n",
      "$ velmedia \u001b[3m\u001b[90m<dbl>\u001b[39m\u001b[23m 0.8229741, 0.9750191, 0.8874318, 2.3162929, 0.6970652, 0.6875…\n",
      "$ presMax  \u001b[3m\u001b[90m<dbl>\u001b[39m\u001b[23m 901.6717, 970.1249, 967.2948, 849.5611, 964.2144, 965.4248, 9…\n"
     ]
    }
   ],
   "source": [
    "glimpse(data)"
   ]
  },
  {
   "cell_type": "markdown",
   "metadata": {
    "slideshow": {
     "slide_type": "slide"
    }
   },
   "source": [
    "## Synthetic Data Generation"
   ]
  },
  {
   "attachments": {},
   "cell_type": "markdown",
   "metadata": {
    "slideshow": {
     "slide_type": "slide"
    }
   },
   "source": [
    "No aplica"
   ]
  },
  {
   "cell_type": "markdown",
   "metadata": {
    "slideshow": {
     "slide_type": "slide"
    }
   },
   "source": [
    "## Fake Data Generation"
   ]
  },
  {
   "attachments": {},
   "cell_type": "markdown",
   "metadata": {
    "slideshow": {
     "slide_type": "slide"
    }
   },
   "source": [
    "No aplica"
   ]
  },
  {
   "cell_type": "markdown",
   "metadata": {
    "slideshow": {
     "slide_type": "slide"
    }
   },
   "source": [
    "## Open Data"
   ]
  },
  {
   "attachments": {},
   "cell_type": "markdown",
   "metadata": {
    "slideshow": {
     "slide_type": "slide"
    }
   },
   "source": [
    "Los datos se obtuvieron de fuentes abiertas en la tarea anterior"
   ]
  },
  {
   "cell_type": "markdown",
   "metadata": {},
   "source": [
    "## <font color='green'>Data Save</font>"
   ]
  },
  {
   "cell_type": "markdown",
   "metadata": {},
   "source": [
    "Este proceso, puede copiarse y repetirse en aquellas partes del notebbok que necesiten guardar datos.\n",
    "Recuerde cambiar la extensión añadida del fichero para diferenciarlas"
   ]
  },
  {
   "cell_type": "markdown",
   "metadata": {},
   "source": [
    "<font color='tomato'> Identificamos los datos a guardar</font>"
   ]
  },
  {
   "cell_type": "code",
   "execution_count": 23,
   "metadata": {
    "ExecuteTime": {
     "end_time": "2020-12-25T17:59:27.022001Z",
     "start_time": "2020-12-25T17:59:15.986986Z"
    },
    "scrolled": false,
    "vscode": {
     "languageId": "r"
    }
   },
   "outputs": [],
   "source": [
    "data_to_save <- data"
   ]
  },
  {
   "attachments": {},
   "cell_type": "markdown",
   "metadata": {},
   "source": [
    "\n",
    "<font color='tomato'>Estructura de nombre de archivos:</font>\n",
    "\n",
    "* Código del caso de uso, por ejemplo \"CU_04\"\n",
    "* Número del proceso que lo genera, por ejemplo \"_05\".\n",
    "* Número de la tarea que lo genera, por ejemplo \"_01\"\n",
    "* En caso de generarse varios ficheros en la misma tarea, llevarán _01 _02 ... después\n",
    "* Nombre: identificativo de \"properData\", por ejemplo \"_zonasgeo\"\n",
    "* Extensión del archivo\n",
    "\n",
    "Ejemplo: \"CU_04_05_01_01_zonasgeo.json, primer fichero que se genera en la tarea 01 del proceso 05 (Data Collection) para el caso de uso 04 (vacunas)\n",
    "\n",
    "Importante mantener los guiones bajos antes de proceso, tarea, archivo y nombre"
   ]
  },
  {
   "attachments": {},
   "cell_type": "markdown",
   "metadata": {},
   "source": [
    "### Proceso 05"
   ]
  },
  {
   "cell_type": "code",
   "execution_count": 24,
   "metadata": {
    "ExecuteTime": {
     "end_time": "2020-12-25T17:59:27.022001Z",
     "start_time": "2020-12-25T17:59:15.986986Z"
    },
    "scrolled": false,
    "vscode": {
     "languageId": "r"
    }
   },
   "outputs": [],
   "source": [
    "caso <- \"CU_34\"\n",
    "proceso <- '_05'\n",
    "tarea <- \"_04\"\n",
    "archivo <- \"\"\n",
    "proper <- \"_meteo_secciones\"\n",
    "extension <- \".csv\""
   ]
  },
  {
   "attachments": {},
   "cell_type": "markdown",
   "metadata": {},
   "source": [
    "<font color='tomato'><b> OPCION A:</b> Uso del paquete \"tcltk\" para mayor comodidad</font>\n",
    "\n",
    "* Buscar carpeta, escribir nombre de archivo SIN extensión (se especifica en el código)\n",
    "* Especificar sufijo2 si es necesario\n",
    "* Cambiar datos por datos_xx si es necesario"
   ]
  },
  {
   "cell_type": "code",
   "execution_count": 25,
   "metadata": {
    "ExecuteTime": {
     "end_time": "2020-12-25T17:59:27.022001Z",
     "start_time": "2020-12-25T17:59:15.986986Z"
    },
    "scrolled": false,
    "vscode": {
     "languageId": "r"
    }
   },
   "outputs": [],
   "source": [
    "# file_save <- paste0(caso, proceso, tarea, tcltk::tkgetSaveFile(), proper, extension) \n",
    "# path_out <- paste0(oPath, file_save)\n",
    "# write_csv(data_to_save, path_out)\n",
    "\n",
    "# cat('File saved as: ')\n",
    "# path_out"
   ]
  },
  {
   "attachments": {},
   "cell_type": "markdown",
   "metadata": {},
   "source": [
    "<font color='tomato'><b> OPCION B:</b> Especificar el nombre de archivo</font>"
   ]
  },
  {
   "attachments": {},
   "cell_type": "markdown",
   "metadata": {},
   "source": [
    "- Los ficheros de salida del proceso van siempre a Data/Output/.  "
   ]
  },
  {
   "cell_type": "code",
   "execution_count": 26,
   "metadata": {
    "ExecuteTime": {
     "end_time": "2021-01-26T18:40:31.258294Z",
     "start_time": "2021-01-26T18:40:26.061847Z"
    },
    "slideshow": {
     "slide_type": "subslide"
    },
    "vscode": {
     "languageId": "r"
    }
   },
   "outputs": [
    {
     "name": "stdout",
     "output_type": "stream",
     "text": [
      "File saved as: "
     ]
    },
    {
     "data": {
      "text/html": [
       "'Data/Output/CU_34_05_04_meteo_secciones.csv'"
      ],
      "text/latex": [
       "'Data/Output/CU\\_34\\_05\\_04\\_meteo\\_secciones.csv'"
      ],
      "text/markdown": [
       "'Data/Output/CU_34_05_04_meteo_secciones.csv'"
      ],
      "text/plain": [
       "[1] \"Data/Output/CU_34_05_04_meteo_secciones.csv\""
      ]
     },
     "metadata": {},
     "output_type": "display_data"
    }
   ],
   "source": [
    "file_save <- paste0(caso, proceso, tarea, archivo, proper, extension) \n",
    "path_out <- paste0(oPath, file_save)\n",
    "write_csv(data_to_save, path_out)\n",
    "\n",
    "cat('File saved as: ')\n",
    "path_out"
   ]
  },
  {
   "cell_type": "markdown",
   "metadata": {},
   "source": [
    "#### Copia del fichero a Input\n",
    "\n",
    "Si el archivo se va a usar en otros notebooks, copiar a la carpeta Input"
   ]
  },
  {
   "cell_type": "code",
   "execution_count": 27,
   "metadata": {
    "vscode": {
     "languageId": "r"
    }
   },
   "outputs": [
    {
     "data": {
      "text/html": [
       "TRUE"
      ],
      "text/latex": [
       "TRUE"
      ],
      "text/markdown": [
       "TRUE"
      ],
      "text/plain": [
       "[1] TRUE"
      ]
     },
     "metadata": {},
     "output_type": "display_data"
    }
   ],
   "source": [
    "path_in <- paste0(iPath, file_save)\n",
    "file.copy(path_out, path_in, overwrite = TRUE)"
   ]
  },
  {
   "cell_type": "markdown",
   "metadata": {},
   "source": [
    "## <font color=' #2874a6 '>Main Conclusions</font>"
   ]
  },
  {
   "cell_type": "markdown",
   "metadata": {
    "slideshow": {
     "slide_type": "slide"
    }
   },
   "source": [
    "<font color='steelblue'>List and describe the general conclusions of the analysis carried out​.</font>"
   ]
  },
  {
   "attachments": {},
   "cell_type": "markdown",
   "metadata": {},
   "source": [
    "### Prerequisites\n",
    "\n",
    "Para que funcione este código se necesita:\n",
    "\n",
    "* Las rutas de archivos `Data/Input` y `Data/Output` deben existir (relativas a la ruta del _notebook_)\n",
    "* El paquete tcltk instalado para seleccionar archivos interactivamente. No se necesita en producción.\n",
    "* Los paquetes sf, readr, dplyr, tidyr, gstat, stringr y lubridate deben estar instalados.\n",
    "\n"
   ]
  },
  {
   "attachments": {},
   "cell_type": "markdown",
   "metadata": {},
   "source": [
    "### Configuration Management\n",
    "\n",
    "This notebook has been tested with the following versions of R and packages. It cannot be assured that later versions work in the same way:\n",
    "* R 4.2.2\n",
    "* tcltk 4.2.2\n",
    "* sf 1.0.9\n",
    "* readr 2.1.3\n",
    "* dplyr 1.0.10\n",
    "* tidyr 1.3.0\n",
    "* gstat 2.1.0\n",
    "* stringr 1.5.0\n",
    "* lubridate 1.9.1"
   ]
  },
  {
   "attachments": {},
   "cell_type": "markdown",
   "metadata": {},
   "source": [
    "### Data structures"
   ]
  },
  {
   "attachments": {},
   "cell_type": "markdown",
   "metadata": {},
   "source": [
    "#### Objeto `data`\n",
    "\n",
    "- Hay 137392 filas\n",
    "\t* CMUN\n",
    "\t* CDIS\n",
    "\t* CSEC\n",
    "\t* tmed\n",
    "\t* prec\n",
    "\t* velmedia\n",
    "\t* presMax\n",
    "\t* fecha\n"
   ]
  },
  {
   "attachments": {},
   "cell_type": "markdown",
   "metadata": {},
   "source": [
    "#### Observaciones generales sobre los datos\n",
    "\n",
    "* Se incluyen cuatro variables meteorológicas\n"
   ]
  },
  {
   "attachments": {},
   "cell_type": "markdown",
   "metadata": {},
   "source": [
    "### Consideraciones para despliegue en piloto\n",
    "\n",
    "* Ninguna"
   ]
  },
  {
   "attachments": {},
   "cell_type": "markdown",
   "metadata": {},
   "source": [
    "### Consideraciones para despliegue en producción\n",
    "\n",
    "* Se deben crear los procesos ETL en producción necesarios para que los datos de entrada estén actualizados"
   ]
  },
  {
   "cell_type": "markdown",
   "metadata": {},
   "source": [
    "## <font color=' #2874a6 '>Main Actions</font>"
   ]
  },
  {
   "cell_type": "markdown",
   "metadata": {},
   "source": [
    "#### <font color=' #2874a6 '>Acciones done</font>"
   ]
  },
  {
   "cell_type": "markdown",
   "metadata": {
    "slideshow": {
     "slide_type": "slide"
    }
   },
   "source": [
    "<font color='steelblue'>Indicate the actions that have been carried out in this process</font>"
   ]
  },
  {
   "attachments": {},
   "cell_type": "markdown",
   "metadata": {},
   "source": [
    "- Se han calculado los centroides de las zonas\n",
    "- Se han interpolado los datos de meteorología a las zonas"
   ]
  },
  {
   "cell_type": "markdown",
   "metadata": {},
   "source": [
    "#### <font color=' #2874a6 '>Acctions to perform</font>"
   ]
  },
  {
   "cell_type": "markdown",
   "metadata": {
    "slideshow": {
     "slide_type": "slide"
    }
   },
   "source": [
    "<font color='steelblue'>Indicate the actions that must be carried out in subsequent processes</font>"
   ]
  },
  {
   "attachments": {},
   "cell_type": "markdown",
   "metadata": {},
   "source": [
    "- Se debe comprobar por qué se crea una seman 2023-52"
   ]
  },
  {
   "attachments": {},
   "cell_type": "markdown",
   "metadata": {},
   "source": [
    "## <font color='RED'>CODE TO DEPLOY (PILOT)</font>\n",
    "\n",
    "A continuación se incluirá el código que deba ser llevado a despliegue para producción, dado que se entiende efectúa operaciones necesarias sobre los datos en la ejecución del prototipo"
   ]
  },
  {
   "attachments": {},
   "cell_type": "markdown",
   "metadata": {},
   "source": [
    "<font color=' red '><b>Description</b></font>\n",
    "\n",
    "- No hay nada que desplegar en el piloto, ya que estos datos son estáticos o en todo caso cambian con muy poca frecuencia, altamente improbable durante el proyecto.\n"
   ]
  },
  {
   "attachments": {},
   "cell_type": "markdown",
   "metadata": {},
   "source": [
    "<font color=' red '><b>CODE</b></font>"
   ]
  },
  {
   "cell_type": "code",
   "execution_count": 28,
   "metadata": {
    "vscode": {
     "languageId": "r"
    }
   },
   "outputs": [],
   "source": [
    "# incluir código"
   ]
  }
 ],
 "metadata": {
  "anaconda-cloud": {},
  "celltoolbar": "Slideshow",
  "hide_input": false,
  "kernelspec": {
   "display_name": "R",
   "language": "R",
   "name": "ir"
  },
  "language_info": {
   "codemirror_mode": "r",
   "file_extension": ".r",
   "mimetype": "text/x-r-source",
   "name": "R",
   "pygments_lexer": "r",
   "version": "4.2.2"
  },
  "latex_envs": {
   "LaTeX_envs_menu_present": true,
   "autoclose": false,
   "autocomplete": true,
   "bibliofile": "biblio.bib",
   "cite_by": "apalike",
   "current_citInitial": 1,
   "eqLabelWithNumbers": true,
   "eqNumInitial": 1,
   "hotkeys": {
    "equation": "Ctrl-E",
    "itemize": "Ctrl-I"
   },
   "labels_anchors": false,
   "latex_user_defs": false,
   "report_style_numbering": true,
   "user_envs_cfg": false
  },
  "toc": {
   "base_numbering": 1,
   "nav_menu": {
    "height": "11.6px",
    "width": "160px"
   },
   "number_sections": false,
   "sideBar": true,
   "skip_h1_title": true,
   "title_cell": "Table of Contents",
   "title_sidebar": "Contents",
   "toc_cell": true,
   "toc_position": {
    "height": "calc(100% - 180px)",
    "left": "10px",
    "top": "150px",
    "width": "209.2px"
   },
   "toc_section_display": true,
   "toc_window_display": true
  },
  "varInspector": {
   "cols": {
    "lenName": 16,
    "lenType": 16,
    "lenVar": 40
   },
   "kernels_config": {
    "python": {
     "delete_cmd_postfix": "",
     "delete_cmd_prefix": "del ",
     "library": "var_list.py",
     "varRefreshCmd": "print(var_dic_list())"
    },
    "r": {
     "delete_cmd_postfix": ") ",
     "delete_cmd_prefix": "rm(",
     "library": "var_list.r",
     "varRefreshCmd": "cat(var_dic_list()) "
    }
   },
   "types_to_exclude": [
    "module",
    "function",
    "builtin_function_or_method",
    "instance",
    "_Feature"
   ],
   "window_display": false
  }
 },
 "nbformat": 4,
 "nbformat_minor": 1
}
