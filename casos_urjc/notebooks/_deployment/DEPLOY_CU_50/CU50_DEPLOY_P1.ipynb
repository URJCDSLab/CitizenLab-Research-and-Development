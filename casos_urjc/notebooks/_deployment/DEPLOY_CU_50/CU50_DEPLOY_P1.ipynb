{
 "cells": [
  {
   "cell_type": "markdown",
   "metadata": {
    "slideshow": {
     "slide_type": "slide"
    }
   },
   "source": [
    "\n",
    "# <center><font color= #F08080 > <b>CU50_Distribución geográfica de puntos de carga de vehículos eléctricos</font></center>"
   ]
  },
  {
   "cell_type": "markdown",
   "metadata": {
    "slideshow": {
     "slide_type": "slide"
    }
   },
   "source": [
    "***\n",
    "> # <font color='steelblue'> <b>DEPLOY</font>"
   ]
  },
  {
   "cell_type": "markdown",
   "metadata": {},
   "source": [
    "#  <font color='green'>PARÁMETROS DE CONFIGURACIÓN</font>"
   ]
  },
  {
   "cell_type": "markdown",
   "metadata": {
    "slideshow": {
     "slide_type": "slide"
    }
   },
   "source": [
    "FUNCIONAMIENTO\n",
    "\n",
    "- LIBRERÍAS: necesarias para todo el caso.\n",
    "- VARIABLES DE USUARIO: \n",
    "    - El usuario las configura.\n",
    "    - Se ofrece un valor por defecto al usuario.\n",
    "    - Se ofrece explicación textual de ellas al usuario.\n",
    "    - Necesarias para todo el caso.         "
   ]
  },
  {
   "cell_type": "markdown",
   "metadata": {
    "slideshow": {
     "slide_type": "slide"
    }
   },
   "source": [
    "#### LIBRERÍAS"
   ]
  },
  {
   "cell_type": "code",
   "execution_count": 1,
   "metadata": {
    "ExecuteTime": {
     "end_time": "2021-01-27T11:09:36.740543Z",
     "start_time": "2021-01-27T11:09:31.569966Z"
    },
    "scrolled": true,
    "slideshow": {
     "slide_type": "subslide"
    }
   },
   "outputs": [],
   "source": [
    "# Load \n",
    "%run -i LIBRERIAS.py"
   ]
  },
  {
   "cell_type": "markdown",
   "metadata": {},
   "source": [
    "#### <font color='RED'>VARIABLES DE USUARIO LOAD</font>\n",
    "Esto sería el formulario de entrada al usuario"
   ]
  },
  {
   "cell_type": "code",
   "execution_count": 2,
   "metadata": {},
   "outputs": [],
   "source": [
    "# Número total de estaciones que a instalar\n",
    "N = 10\n",
    "\n",
    "# Número máximo de cargadores en una estación\n",
    "num_max_cargadores_estacion = 10 \n",
    "\n",
    "# Número de sesiones de carga al día (sesión/día) que se estima puede hacer cada cargador\n",
    "NUMERO_SESIONES = 10 \n",
    "\n",
    "# Distancia máxima a andar por el usuario en mts\n",
    "# se usa como distancia entre el sitio candidato (e.g. parking y el centroide de la tesela con de manda a satisfacer)\n",
    "distancia_andando = 500 # Con 500 es la distancia del centroide de una tresela a las de alrededor. \n",
    "\n",
    "# Variables para el cálculo de COSTES \n",
    "COSTE_INSTALACION = 2000 # Coste medio TOTAL de una instalación de cada cargador (€). Se prorrateará al día en base a vida útil\n",
    "COSTE_CARGADOR = 3000 # Coste medio TOTAL de un cargador (€). Se prorrateará al día en base a vida útil\n",
    "VIDA_UTIL = 4 # Años de vida útil estimada de la instalación\n",
    "COSTE_ESPACIO = 1000 # Coste MENSUAL del espacio de la instalación (€).\n",
    "precio_electricidad = 0.17 # Precio medio de la electricidad por kWh (€/kWh) \n",
    "capacidad_bateria = 52 # Capacidad media de una batería de VE (kWh)\n",
    "\n",
    "# Variables para el cálculo de INGRESOS\n",
    "COSTE_CARGA = 0.1 # Coste de carga (€/minuto)\n",
    "TIEMPO_CARGA = 240 # Tiempo medio en minutos que tarda un EV en cargar\n",
    "\n",
    "# Ratio de uso o tasa de penetración del VE. Significa que se estima que el 10 % de vehículos son VE y se recargan cada dia\n",
    "# NOTA: este ratio puede ponerse proporcional o relacionado con el nivl económico\n",
    "ratio_penetracion_VE= 0.10 \n",
    "\n",
    "# Probabilidad de que un vehículo eléctrico estacionado en esa celda i de la tesela realice una carga en ese momento\n",
    "# Esto es, no podemos asumir que todos los VE que están en un espacio de carga van a cargar, asuminos que cargan el 0.05% de ellos\n",
    "probabilidad_de_carga = 0.05 \n"
   ]
  },
  {
   "cell_type": "markdown",
   "metadata": {},
   "source": [
    "#### <font color='RED'>VARIABLES DE USUARIO SAVE</font>\n",
    "Aquí se grabarían al fichero VARIABLES.py que se adjunta"
   ]
  }
 ],
 "metadata": {
  "anaconda-cloud": {},
  "celltoolbar": "Slideshow",
  "hide_input": false,
  "kernelspec": {
   "display_name": "Python 3 (ipykernel)",
   "language": "python",
   "name": "python3"
  },
  "language_info": {
   "codemirror_mode": {
    "name": "ipython",
    "version": 3
   },
   "file_extension": ".py",
   "mimetype": "text/x-python",
   "name": "python",
   "nbconvert_exporter": "python",
   "pygments_lexer": "ipython3",
   "version": "3.9.16"
  },
  "latex_envs": {
   "LaTeX_envs_menu_present": true,
   "autoclose": false,
   "autocomplete": true,
   "bibliofile": "biblio.bib",
   "cite_by": "apalike",
   "current_citInitial": 1,
   "eqLabelWithNumbers": true,
   "eqNumInitial": 1,
   "hotkeys": {
    "equation": "Ctrl-E",
    "itemize": "Ctrl-I"
   },
   "labels_anchors": false,
   "latex_user_defs": false,
   "report_style_numbering": true,
   "user_envs_cfg": false
  },
  "varInspector": {
   "cols": {
    "lenName": 16,
    "lenType": 16,
    "lenVar": 40
   },
   "kernels_config": {
    "python": {
     "delete_cmd_postfix": "",
     "delete_cmd_prefix": "del ",
     "library": "var_list.py",
     "varRefreshCmd": "print(var_dic_list())"
    },
    "r": {
     "delete_cmd_postfix": ") ",
     "delete_cmd_prefix": "rm(",
     "library": "var_list.r",
     "varRefreshCmd": "cat(var_dic_list()) "
    }
   },
   "types_to_exclude": [
    "module",
    "function",
    "builtin_function_or_method",
    "instance",
    "_Feature"
   ],
   "window_display": false
  }
 },
 "nbformat": 4,
 "nbformat_minor": 1
}
