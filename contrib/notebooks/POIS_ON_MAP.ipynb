{
 "cells": [
  {
   "cell_type": "markdown",
   "metadata": {
    "slideshow": {
     "slide_type": "slide"
    }
   },
   "source": [
    "<img src=\"..\\img\\Logo.png\" width=150 align=\"left\" /> <img src=\"..\\img\\Logo2.jpg\" width=450 align=\"right\" />"
   ]
  },
  {
   "cell_type": "markdown",
   "metadata": {
    "slideshow": {
     "slide_type": "slide"
    }
   },
   "source": [
    "\n",
    "# <center><font color= #1e8449 > <b>MAPS</font></center>"
   ]
  },
  {
   "cell_type": "markdown",
   "metadata": {
    "slideshow": {
     "slide_type": "slide"
    }
   },
   "source": [
    "> # <font color='steelblue'> <b>POIS ON MAP</font>"
   ]
  },
  {
   "cell_type": "markdown",
   "metadata": {
    "slideshow": {
     "slide_type": "slide"
    }
   },
   "source": [
    "### <font color='steelblue'>Description</font>"
   ]
  },
  {
   "cell_type": "markdown",
   "metadata": {
    "slideshow": {
     "slide_type": "slide"
    }
   },
   "source": [
    " Dibujar un conjunto n puntos de interés (POIS) sobre un mismo mapa.\n",
    " \n",
    "- Cada una de los POI viene dado por su posición en formato (Lat, Long).\n",
    "- Capa POI tiene un conjunto de información asociada al mismo en forma de columnas\n",
    "\n",
    "- Se debe poder seleccionar los POIs que se quieren mostrar, en base a categorías comunes que estos tienen (e.g. museo)\n",
    "    - Las selecciones son todas de tipo check box (AND) no radio button (OR)\n",
    "    \n",
    "- Cada tipología PRINCIPAL de POI seleccionada y que se muestre debe poderse diferenciar con un icono distinto\n",
    "    - Valorar y poner como opcional (si existe) la opción de indicar una imagen a modo de icono\n",
    "\n",
    "- Se indicarán las columnas de las categorías por orden de izqueirda a derecha\n",
    "\n",
    "- En la tarjeta del POI al poner el ratón aparecerá la info de las columnas que se indiquen n los parámetros que serán variables dependiendo del caso\n",
    "\n",
    "- En la leyenda aparecerá el número de elementos de cada tipo que haya en la columna que se indique\n"
   ]
  },
  {
   "cell_type": "markdown",
   "metadata": {
    "slideshow": {
     "slide_type": "slide"
    }
   },
   "source": [
    "<img src=\"..\\img\\POIS.jpg\" width=550 align=\"left\" />"
   ]
  },
  {
   "cell_type": "markdown",
   "metadata": {
    "slideshow": {
     "slide_type": "slide"
    }
   },
   "source": [
    "## <font color='green'>Settings</font>"
   ]
  },
  {
   "cell_type": "code",
   "execution_count": 1,
   "metadata": {
    "ExecuteTime": {
     "end_time": "2020-10-12T18:02:33.219531Z",
     "start_time": "2020-10-12T18:02:31.113701Z"
    },
    "slideshow": {
     "slide_type": "subslide"
    }
   },
   "outputs": [],
   "source": [
    "# Libraries to use\n",
    "\n",
    "\n",
    "import geopandas as gpd\n",
    "import pandas as pd\n",
    "from shapely.geometry import Point\n",
    "from branca.element import Figure\n",
    "import folium\n",
    "\n",
    "import dash\n",
    "from dash import dcc\n",
    "from dash import html \n",
    "from dash.dependencies import Input, Output\n",
    "import plotly.express as px\n",
    "from collections import Counter\n"
   ]
  },
  {
   "cell_type": "markdown",
   "metadata": {
    "slideshow": {
     "slide_type": "slide"
    }
   },
   "source": [
    "## <font color='green'>Data Load</font>"
   ]
  },
  {
   "cell_type": "code",
   "execution_count": 2,
   "metadata": {
    "ExecuteTime": {
     "end_time": "2021-01-26T18:40:31.258294Z",
     "start_time": "2021-01-26T18:40:26.061847Z"
    },
    "slideshow": {
     "slide_type": "subslide"
    }
   },
   "outputs": [],
   "source": [
    "#Load pois\n",
    "file_name='POIS_MADRID.csv'\n",
    "pois = pd.read_csv('../data/'+file_name , header=0)[0:500]"
   ]
  },
  {
   "cell_type": "markdown",
   "metadata": {
    "slideshow": {
     "slide_type": "slide"
    }
   },
   "source": [
    "## <font color='green'>PARAMETERS</font>"
   ]
  },
  {
   "cell_type": "code",
   "execution_count": 3,
   "metadata": {
    "scrolled": true
   },
   "outputs": [],
   "source": [
    "# Categorías\n",
    "CATEGORIAS=['TIPO1','TIPO2','TIPO3','TIPO4','TIPO5']\n",
    "sel_category_symbol = \"TIPO1\" #catgoria de los iconos\n",
    "\n",
    "categoria_sel_legend = \"TIPO1\"  # categoria para la leyenda\n",
    "\n",
    "symbol_dict = { #diccionario con las urls de los iconos para imagenes customizadas\n",
    "    \"Serv\" : \"https://script-lab.azureedge.net/assets/images/icon-32.png\",\n",
    "    \"others\" : \"https://i.stack.imgur.com/6cDGi.png\"\n",
    "}\n",
    "\n",
    "# Columnas para la info en la tarjeta del POI\n",
    "choroplet_info=['NOMBRE','DESCRIPCION','DIRECCION']\n"
   ]
  },
  {
   "cell_type": "markdown",
   "metadata": {},
   "source": [
    "Parámetros para configurar el aspecto del mapa"
   ]
  },
  {
   "cell_type": "code",
   "execution_count": 4,
   "metadata": {
    "scrolled": true
   },
   "outputs": [],
   "source": [
    "# Titulo del mapa\n",
    "titulo = 'POIs Madrid'\n",
    "# Zoom inicial\n",
    "zoom = 11\n",
    "# Tamaño del mapa\n",
    "alto=500\n",
    "# Tipo de mapa\n",
    "estilo_mapa='open-street-map' # \"open-street-map\", \"carto-positron\", \"carto-darkmatter\", \"stamen-terrain\",                           \n",
    "            # \"stamen-toner\" or \"stamen-watercolor\" \n",
    "    \n",
    "iconsize = [34, 18]\n",
    "\n",
    "# "
   ]
  },
  {
   "cell_type": "markdown",
   "metadata": {
    "slideshow": {
     "slide_type": "slide"
    }
   },
   "source": [
    "## <font color='green'>POIs MAP</font>"
   ]
  },
  {
   "cell_type": "code",
   "execution_count": 5,
   "metadata": {},
   "outputs": [],
   "source": [
    "#Transformaciones sobre los parametros\n",
    "\n",
    "\n",
    "choroplet_info_dict = {}\n",
    "for i in pois.to_dict().keys():\n",
    "    if i in choroplet_info:\n",
    "        choroplet_info_dict[i] = True\n",
    "    else:\n",
    "        choroplet_info_dict[i] = False\n",
    "        \n",
    "#Transformaciones sobre los datos\n",
    "\n",
    "pois['LATITUD'] = pois['LATITUD'].astype(float)\n",
    "pois['LONGITUD'] = pois['LONGITUD'].astype(float)\n",
    "pois['symbol'] = pois['TIPO1'].apply(lambda x: symbol_dict.get(x, symbol_dict[\"others\"]))\n"
   ]
  },
  {
   "cell_type": "code",
   "execution_count": null,
   "metadata": {},
   "outputs": [
    {
     "name": "stdout",
     "output_type": "stream",
     "text": [
      "Dash is running on http://127.0.0.1:8050/\n",
      "\n",
      " * Serving Flask app '__main__'\n",
      " * Debug mode: off\n"
     ]
    },
    {
     "name": "stderr",
     "output_type": "stream",
     "text": [
      "WARNING: This is a development server. Do not use it in a production deployment. Use a production WSGI server instead.\n",
      " * Running on http://127.0.0.1:8050\n",
      "Press CTRL+C to quit\n"
     ]
    }
   ],
   "source": [
    "import dash\n",
    "import dash_leaflet as dl\n",
    "from dash import html\n",
    "check_elements = []\n",
    "for i,categoria in enumerate(CATEGORIAS):\n",
    "    label = html.Label(categoria, style={'color': '#393939', 'font-weight': 'bold'})\n",
    "    check = dcc.Checklist(\n",
    "        id='tipo-poi'+str(i),\n",
    "        options=[{'label': tipo, 'value': tipo} for tipo in pois[categoria].unique()],\n",
    "        value=pois[categoria].unique().tolist(),\n",
    "        labelStyle={'display': 'block', 'margin-bottom': '10px', 'color': '#393939'}\n",
    "    )\n",
    "    check_elements.append(label)\n",
    "    check_elements.append(check)\n",
    "\n",
    "    \n",
    "app = dash.Dash()\n",
    " \n",
    "    \n",
    "markers = []\n",
    "for index, row in pois.iterrows():\n",
    "    marker = dl.Marker(position=[row['LATITUD'], row['LONGITUD']], \n",
    "                       icon={\"iconUrl\": row[\"symbol\"],\"iconSize\": iconsize},\n",
    "                       children= dl.Tooltip([\"\\n\".join(x) for x in pois[choroplet_info].values.tolist()][index]))\n",
    "    \n",
    "    markers.append(marker)\n",
    "\n",
    "legend = []\n",
    "categoria_sel = Counter(pois[categoria_sel_legend])\n",
    "for k,i in categoria_sel.items():\n",
    "    legend.append(html.Label(str(k) + \" : \" + str(i), style={'color': '#393939', 'font-weight': 'bold'}))\n",
    "    legend.append(html.Br())\n",
    "    \n",
    "  \n",
    "app.layout = html.Div([\n",
    "    html.H1(children=titulo),\n",
    "    html.Div(style={'display': 'inline-block', 'width': '15%', 'vertical-align': 'top', 'max-height': '600px', 'overflow-y': 'scroll', 'background-color': '#E6E6E6', 'padding': '10px'}, children=\n",
    "    check_elements,\n",
    "    ),\n",
    "    dl.Map(id=\"map\",style={'width': '55%', 'height': '500px','display': 'inline-block',}, center=[40.416729,-3.703339], zoom=zoom, children=[        dl.TileLayer(),        *markers    ]),\n",
    "    html.Div(id=\"legend\",style={'display': 'inline-block', 'width': '15%', 'vertical-align': 'top', 'max-height': '100px'}, children=[*legend])\n",
    "\n",
    "])\n",
    "\n",
    "inputs = [Input('tipo-poi' + str(i), 'value') for i in range(len(CATEGORIAS))]\n",
    "\n",
    "@app.callback(\n",
    "    Output('map', 'children'),\n",
    "    inputs\n",
    "    )\n",
    "def update_map(*selected_pois):\n",
    "    total_df = pd.DataFrame(columns=pois.columns)\n",
    "    for i, poi_type in enumerate(CATEGORIAS):\n",
    "        filtered_df = pois.copy()\n",
    "        filtered_df = filtered_df[filtered_df[poi_type].isin(selected_pois[i])]\n",
    "        total_df = pd.concat([total_df,filtered_df])\n",
    "    total_df = total_df.drop_duplicates()\n",
    "\n",
    "    \n",
    "    filtered_df = total_df\n",
    "    markers = []\n",
    "    for index, row in filtered_df.iterrows():\n",
    "        marker = dl.Marker(position=[row['LATITUD'], row['LONGITUD']], \n",
    "                       icon={\"iconUrl\": row[\"symbol\"], \"iconSize\": iconsize},\n",
    "                       children= dl.Tooltip([\"\\n\".join(x) for x in pois[choroplet_info].values.tolist()][index]))\n",
    "        markers.append(marker)\n",
    "    return [dl.TileLayer(),*markers]\n",
    "\n",
    "\n",
    "@app.callback(\n",
    "    Output('legend', 'children'),\n",
    "    inputs\n",
    "    )\n",
    "def update_legend(*selected_pois):\n",
    "    total_df = pd.DataFrame(columns=pois.columns)\n",
    "    for i, poi_type in enumerate(CATEGORIAS):\n",
    "        filtered_df = pois.copy()\n",
    "        filtered_df = filtered_df[filtered_df[poi_type].isin(selected_pois[i])]\n",
    "        total_df = pd.concat([total_df,filtered_df])\n",
    "    total_df = total_df.drop_duplicates()\n",
    "    legend = []\n",
    "    \n",
    "    categoria_sel = Counter(total_df[categoria_sel_legend])\n",
    "    for k,i in categoria_sel.items():\n",
    "        legend.append(html.Label(str(k) + \" : \" + str(i), style={'color': '#393939', 'font-weight': 'bold'}))\n",
    "        legend.append(html.Br())\n",
    "    return legend\n",
    "    \n",
    "app.run_server()"
   ]
  }
 ],
 "metadata": {
  "anaconda-cloud": {},
  "celltoolbar": "Slideshow",
  "hide_input": false,
  "kernelspec": {
   "display_name": "city",
   "language": "python",
   "name": "city"
  },
  "language_info": {
   "codemirror_mode": {
    "name": "ipython",
    "version": 3
   },
   "file_extension": ".py",
   "mimetype": "text/x-python",
   "name": "python",
   "nbconvert_exporter": "python",
   "pygments_lexer": "ipython3",
   "version": "3.10.4"
  },
  "latex_envs": {
   "LaTeX_envs_menu_present": true,
   "autoclose": false,
   "autocomplete": true,
   "bibliofile": "biblio.bib",
   "cite_by": "apalike",
   "current_citInitial": 1,
   "eqLabelWithNumbers": true,
   "eqNumInitial": 1,
   "hotkeys": {
    "equation": "Ctrl-E",
    "itemize": "Ctrl-I"
   },
   "labels_anchors": false,
   "latex_user_defs": false,
   "report_style_numbering": true,
   "user_envs_cfg": false
  },
  "toc": {
   "base_numbering": 1,
   "nav_menu": {},
   "number_sections": true,
   "sideBar": true,
   "skip_h1_title": true,
   "title_cell": "Table of Contents",
   "title_sidebar": "Contents",
   "toc_cell": false,
   "toc_position": {},
   "toc_section_display": true,
   "toc_window_display": true
  },
  "varInspector": {
   "cols": {
    "lenName": 16,
    "lenType": 16,
    "lenVar": 40
   },
   "kernels_config": {
    "python": {
     "delete_cmd_postfix": "",
     "delete_cmd_prefix": "del ",
     "library": "var_list.py",
     "varRefreshCmd": "print(var_dic_list())"
    },
    "r": {
     "delete_cmd_postfix": ") ",
     "delete_cmd_prefix": "rm(",
     "library": "var_list.r",
     "varRefreshCmd": "cat(var_dic_list()) "
    }
   },
   "types_to_exclude": [
    "module",
    "function",
    "builtin_function_or_method",
    "instance",
    "_Feature"
   ],
   "window_display": false
  }
 },
 "nbformat": 4,
 "nbformat_minor": 1
}
