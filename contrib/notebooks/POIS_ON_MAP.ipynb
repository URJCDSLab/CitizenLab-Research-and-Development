{
 "cells": [
  {
   "cell_type": "markdown",
   "metadata": {
    "slideshow": {
     "slide_type": "slide"
    }
   },
   "source": [
    "<img src=\".\\images\\Logo.png\" width=150 align=\"left\" /> <img src=\".\\images\\Logo2.jpg\" width=450 align=\"right\" />"
   ]
  },
  {
   "cell_type": "markdown",
   "metadata": {
    "slideshow": {
     "slide_type": "slide"
    }
   },
   "source": [
    "\n",
    "# <center><font color= #1e8449 > <b>MAPS</font></center>"
   ]
  },
  {
   "cell_type": "markdown",
   "metadata": {
    "slideshow": {
     "slide_type": "slide"
    }
   },
   "source": [
    "> # <font color='steelblue'> <b>POIS ON MAP</font>"
   ]
  },
  {
   "cell_type": "markdown",
   "metadata": {
    "slideshow": {
     "slide_type": "slide"
    }
   },
   "source": [
    "### <font color='steelblue'>Description</font>"
   ]
  },
  {
   "cell_type": "markdown",
   "metadata": {
    "slideshow": {
     "slide_type": "slide"
    }
   },
   "source": [
    " Dibujar un conjunto n puntos de interés (POIS) sobre un mismo mapa.\n",
    " \n",
    "- Cada una de los POI viene dado por su posición en formato (Lat, Long).\n",
    "- Capa POI tiene un conjunto de información asociada al mismo en forma de columnas\n",
    "\n",
    "- Se debe poder seleccionar los POIs que se quieren mostrar, en base a categorías comunes que estos tienen (e.g. museo)\n",
    "    - Las selecciones son todas de tipo check box (AND) no radio button (OR)\n",
    "    \n",
    "- Cada tipología PRINCIPAL de POI seleccionada y que se muestre debe poderse diferenciar con un icono distinto\n",
    "    - Valorar y poner como opcional (si existe) la opción de indicar una imagen a modo de icono\n",
    "\n",
    "- Se indicarán las columnas de las categorías por orden de izqueirda a derecha\n",
    "\n",
    "- En la tarjeta del POI al poner el ratón aparecerá la info de las columnas que se indiquen n los parámetros que serán variables dependiendo del caso\n",
    "\n",
    "- En la leyenda aparecerá el número de elementos de cada tipo que haya en la columna que se indique\n"
   ]
  },
  {
   "cell_type": "markdown",
   "metadata": {
    "slideshow": {
     "slide_type": "slide"
    }
   },
   "source": [
    "<img src=\".\\images\\pois.jpg\" width=550 align=\"left\" />"
   ]
  },
  {
   "cell_type": "markdown",
   "metadata": {
    "slideshow": {
     "slide_type": "slide"
    }
   },
   "source": [
    "## <font color='green'>Settings</font>"
   ]
  },
  {
   "cell_type": "code",
   "execution_count": 2,
   "metadata": {
    "ExecuteTime": {
     "end_time": "2020-10-12T18:02:33.219531Z",
     "start_time": "2020-10-12T18:02:31.113701Z"
    },
    "slideshow": {
     "slide_type": "subslide"
    }
   },
   "outputs": [],
   "source": [
    "# Libraries to use\n",
    "import geopandas as gpd\n",
    "import pandas as pd\n"
   ]
  },
  {
   "cell_type": "markdown",
   "metadata": {
    "slideshow": {
     "slide_type": "slide"
    }
   },
   "source": [
    "## <font color='green'>Data Load</font>"
   ]
  },
  {
   "cell_type": "markdown",
   "metadata": {},
   "source": [
    "<font color='green'><b> POIS</b></font>"
   ]
  },
  {
   "cell_type": "code",
   "execution_count": 14,
   "metadata": {
    "ExecuteTime": {
     "end_time": "2021-01-26T18:40:31.258294Z",
     "start_time": "2021-01-26T18:40:26.061847Z"
    },
    "slideshow": {
     "slide_type": "subslide"
    }
   },
   "outputs": [],
   "source": [
    "file_name='POIS_MADRID.csv'\n",
    "POIS = pd.read_csv('./Datos/'+file_name)"
   ]
  },
  {
   "cell_type": "code",
   "execution_count": 15,
   "metadata": {
    "scrolled": true
   },
   "outputs": [
    {
     "data": {
      "text/html": [
       "<div>\n",
       "<style scoped>\n",
       "    .dataframe tbody tr th:only-of-type {\n",
       "        vertical-align: middle;\n",
       "    }\n",
       "\n",
       "    .dataframe tbody tr th {\n",
       "        vertical-align: top;\n",
       "    }\n",
       "\n",
       "    .dataframe thead th {\n",
       "        text-align: right;\n",
       "    }\n",
       "</style>\n",
       "<table border=\"1\" class=\"dataframe\">\n",
       "  <thead>\n",
       "    <tr style=\"text-align: right;\">\n",
       "      <th></th>\n",
       "      <th>TIPO1</th>\n",
       "      <th>TIPO2</th>\n",
       "      <th>TIPO3</th>\n",
       "      <th>TIPO4</th>\n",
       "      <th>TIPO5</th>\n",
       "      <th>LATITUD</th>\n",
       "      <th>LONGITUD</th>\n",
       "      <th>NOMBRE</th>\n",
       "      <th>DESCRIPCION</th>\n",
       "      <th>DIRECCION</th>\n",
       "    </tr>\n",
       "  </thead>\n",
       "  <tbody>\n",
       "    <tr>\n",
       "      <th>0</th>\n",
       "      <td>Serv</td>\n",
       "      <td>Culturales Recreativos y Personales</td>\n",
       "      <td>Cementerios y Tanatorios</td>\n",
       "      <td>Tanatorio</td>\n",
       "      <td>NaN</td>\n",
       "      <td>40.16479343829135</td>\n",
       "      <td>-3.270462282324906</td>\n",
       "      <td>xxxxnombrexxxx</td>\n",
       "      <td>yyyydescripciónyyyy</td>\n",
       "      <td>zzzzdireccionzzzz</td>\n",
       "    </tr>\n",
       "    <tr>\n",
       "      <th>1</th>\n",
       "      <td>Serv</td>\n",
       "      <td>Culturales Recreativos y Personales</td>\n",
       "      <td>Cementerios y Tanatorios</td>\n",
       "      <td>Tanatorio</td>\n",
       "      <td>NaN</td>\n",
       "      <td>40.028503849747196</td>\n",
       "      <td>-3.6029805832723625</td>\n",
       "      <td>xxxxnombrexxxx</td>\n",
       "      <td>yyyydescripciónyyyy</td>\n",
       "      <td>zzzzdireccionzzzz</td>\n",
       "    </tr>\n",
       "    <tr>\n",
       "      <th>2</th>\n",
       "      <td>Serv</td>\n",
       "      <td>Culturales Recreativos y Personales</td>\n",
       "      <td>Cementerios y Tanatorios</td>\n",
       "      <td>Tanatorio</td>\n",
       "      <td>NaN</td>\n",
       "      <td>40.16702302273457</td>\n",
       "      <td>-3.633880782965259</td>\n",
       "      <td>xxxxnombrexxxx</td>\n",
       "      <td>yyyydescripciónyyyy</td>\n",
       "      <td>zzzzdireccionzzzz</td>\n",
       "    </tr>\n",
       "    <tr>\n",
       "      <th>3</th>\n",
       "      <td>Serv</td>\n",
       "      <td>Culturales Recreativos y Personales</td>\n",
       "      <td>Cementerios y Tanatorios</td>\n",
       "      <td>Tanatorio</td>\n",
       "      <td>NaN</td>\n",
       "      <td>40.23057504555835</td>\n",
       "      <td>-3.4349137636561307</td>\n",
       "      <td>xxxxnombrexxxx</td>\n",
       "      <td>yyyydescripciónyyyy</td>\n",
       "      <td>zzzzdireccionzzzz</td>\n",
       "    </tr>\n",
       "    <tr>\n",
       "      <th>4</th>\n",
       "      <td>Serv</td>\n",
       "      <td>Culturales Recreativos y Personales</td>\n",
       "      <td>Cementerios y Tanatorios</td>\n",
       "      <td>Tanatorio</td>\n",
       "      <td>NaN</td>\n",
       "      <td>40.24320062033228</td>\n",
       "      <td>-3.3141453367826617</td>\n",
       "      <td>xxxxnombrexxxx</td>\n",
       "      <td>yyyydescripciónyyyy</td>\n",
       "      <td>zzzzdireccionzzzz</td>\n",
       "    </tr>\n",
       "    <tr>\n",
       "      <th>...</th>\n",
       "      <td>...</td>\n",
       "      <td>...</td>\n",
       "      <td>...</td>\n",
       "      <td>...</td>\n",
       "      <td>...</td>\n",
       "      <td>...</td>\n",
       "      <td>...</td>\n",
       "      <td>...</td>\n",
       "      <td>...</td>\n",
       "      <td>...</td>\n",
       "    </tr>\n",
       "    <tr>\n",
       "      <th>36005</th>\n",
       "      <td>Turismo</td>\n",
       "      <td>Viviendas Turísticas</td>\n",
       "      <td>NaN</td>\n",
       "      <td>NaN</td>\n",
       "      <td>NaN</td>\n",
       "      <td>40.835060023229319369</td>\n",
       "      <td>-3.6527078959883773105</td>\n",
       "      <td>xxxxnombrexxxx</td>\n",
       "      <td>yyyydescripciónyyyy</td>\n",
       "      <td>zzzzdireccionzzzz</td>\n",
       "    </tr>\n",
       "    <tr>\n",
       "      <th>36006</th>\n",
       "      <td>Turismo</td>\n",
       "      <td>Viviendas Turísticas</td>\n",
       "      <td>NaN</td>\n",
       "      <td>NaN</td>\n",
       "      <td>NaN</td>\n",
       "      <td>40.835590554488264397</td>\n",
       "      <td>-3.6531225348833215611</td>\n",
       "      <td>xxxxnombrexxxx</td>\n",
       "      <td>yyyydescripciónyyyy</td>\n",
       "      <td>zzzzdireccionzzzz</td>\n",
       "    </tr>\n",
       "    <tr>\n",
       "      <th>36007</th>\n",
       "      <td>Turismo</td>\n",
       "      <td>Viviendas Turísticas</td>\n",
       "      <td>NaN</td>\n",
       "      <td>NaN</td>\n",
       "      <td>NaN</td>\n",
       "      <td>40.836121085747209425</td>\n",
       "      <td>-3.6535371737782658117</td>\n",
       "      <td>xxxxnombrexxxx</td>\n",
       "      <td>yyyydescripciónyyyy</td>\n",
       "      <td>zzzzdireccionzzzz</td>\n",
       "    </tr>\n",
       "    <tr>\n",
       "      <th>36008</th>\n",
       "      <td>Turismo</td>\n",
       "      <td>Viviendas Turísticas</td>\n",
       "      <td>NaN</td>\n",
       "      <td>NaN</td>\n",
       "      <td>NaN</td>\n",
       "      <td>40.836651617006154453</td>\n",
       "      <td>-3.6539518126732100623</td>\n",
       "      <td>xxxxnombrexxxx</td>\n",
       "      <td>yyyydescripciónyyyy</td>\n",
       "      <td>zzzzdireccionzzzz</td>\n",
       "    </tr>\n",
       "    <tr>\n",
       "      <th>36009</th>\n",
       "      <td>Turismo</td>\n",
       "      <td>Viviendas Turísticas</td>\n",
       "      <td>NaN</td>\n",
       "      <td>NaN</td>\n",
       "      <td>NaN</td>\n",
       "      <td>40.3270729033045942917</td>\n",
       "      <td>-3.7116406553064766535</td>\n",
       "      <td>xxxxnombrexxxx</td>\n",
       "      <td>yyyydescripciónyyyy</td>\n",
       "      <td>zzzzdireccionzzzz</td>\n",
       "    </tr>\n",
       "  </tbody>\n",
       "</table>\n",
       "<p>36010 rows × 10 columns</p>\n",
       "</div>"
      ],
      "text/plain": [
       "         TIPO1                                TIPO2  \\\n",
       "0         Serv  Culturales Recreativos y Personales   \n",
       "1         Serv  Culturales Recreativos y Personales   \n",
       "2         Serv  Culturales Recreativos y Personales   \n",
       "3         Serv  Culturales Recreativos y Personales   \n",
       "4         Serv  Culturales Recreativos y Personales   \n",
       "...        ...                                  ...   \n",
       "36005  Turismo                 Viviendas Turísticas   \n",
       "36006  Turismo                 Viviendas Turísticas   \n",
       "36007  Turismo                 Viviendas Turísticas   \n",
       "36008  Turismo                 Viviendas Turísticas   \n",
       "36009  Turismo                 Viviendas Turísticas   \n",
       "\n",
       "                           TIPO3      TIPO4 TIPO5                 LATITUD  \\\n",
       "0       Cementerios y Tanatorios  Tanatorio   NaN       40.16479343829135   \n",
       "1       Cementerios y Tanatorios  Tanatorio   NaN      40.028503849747196   \n",
       "2       Cementerios y Tanatorios  Tanatorio   NaN       40.16702302273457   \n",
       "3       Cementerios y Tanatorios  Tanatorio   NaN       40.23057504555835   \n",
       "4       Cementerios y Tanatorios  Tanatorio   NaN       40.24320062033228   \n",
       "...                          ...        ...   ...                     ...   \n",
       "36005                        NaN        NaN   NaN   40.835060023229319369   \n",
       "36006                        NaN        NaN   NaN   40.835590554488264397   \n",
       "36007                        NaN        NaN   NaN   40.836121085747209425   \n",
       "36008                        NaN        NaN   NaN   40.836651617006154453   \n",
       "36009                        NaN        NaN   NaN  40.3270729033045942917   \n",
       "\n",
       "                     LONGITUD          NOMBRE          DESCRIPCION  \\\n",
       "0          -3.270462282324906  xxxxnombrexxxx  yyyydescripciónyyyy   \n",
       "1         -3.6029805832723625  xxxxnombrexxxx  yyyydescripciónyyyy   \n",
       "2          -3.633880782965259  xxxxnombrexxxx  yyyydescripciónyyyy   \n",
       "3         -3.4349137636561307  xxxxnombrexxxx  yyyydescripciónyyyy   \n",
       "4         -3.3141453367826617  xxxxnombrexxxx  yyyydescripciónyyyy   \n",
       "...                       ...             ...                  ...   \n",
       "36005  -3.6527078959883773105  xxxxnombrexxxx  yyyydescripciónyyyy   \n",
       "36006  -3.6531225348833215611  xxxxnombrexxxx  yyyydescripciónyyyy   \n",
       "36007  -3.6535371737782658117  xxxxnombrexxxx  yyyydescripciónyyyy   \n",
       "36008  -3.6539518126732100623  xxxxnombrexxxx  yyyydescripciónyyyy   \n",
       "36009  -3.7116406553064766535  xxxxnombrexxxx  yyyydescripciónyyyy   \n",
       "\n",
       "               DIRECCION  \n",
       "0      zzzzdireccionzzzz  \n",
       "1      zzzzdireccionzzzz  \n",
       "2      zzzzdireccionzzzz  \n",
       "3      zzzzdireccionzzzz  \n",
       "4      zzzzdireccionzzzz  \n",
       "...                  ...  \n",
       "36005  zzzzdireccionzzzz  \n",
       "36006  zzzzdireccionzzzz  \n",
       "36007  zzzzdireccionzzzz  \n",
       "36008  zzzzdireccionzzzz  \n",
       "36009  zzzzdireccionzzzz  \n",
       "\n",
       "[36010 rows x 10 columns]"
      ]
     },
     "execution_count": 15,
     "metadata": {},
     "output_type": "execute_result"
    }
   ],
   "source": [
    "POIS"
   ]
  },
  {
   "cell_type": "markdown",
   "metadata": {
    "slideshow": {
     "slide_type": "slide"
    }
   },
   "source": [
    "## <font color='green'>PARAMETERS</font>"
   ]
  },
  {
   "cell_type": "markdown",
   "metadata": {},
   "source": [
    "Variables"
   ]
  },
  {
   "cell_type": "code",
   "execution_count": 8,
   "metadata": {
    "scrolled": true
   },
   "outputs": [],
   "source": [
    "# Categorías\n",
    "CATEGORIAS=['TIPO1','TIPO2','TIPO3','TIPO4','TIPO5']\n",
    "\n",
    "# Columna para leyenda\n",
    "COLUMNA_LEYENDA= ['TIPO1']\n",
    "\n",
    "# Columnas para la info en la tarjeta del POI\n",
    "choroplet_info=['NOMBRE','DESCRIPCION','DIRECCION']\n"
   ]
  },
  {
   "cell_type": "markdown",
   "metadata": {},
   "source": [
    "Parámetros para configurar el aspecto del mapa"
   ]
  },
  {
   "cell_type": "code",
   "execution_count": 9,
   "metadata": {
    "scrolled": true
   },
   "outputs": [],
   "source": [
    "# Titulo del mapa\n",
    "titulo = 'POIs Madrid'\n",
    "# Zoom inicial\n",
    "zoom = 10\n",
    "# Tamaño del mapa\n",
    "alto=500\n",
    "# Tipo de mapa\n",
    "estilo_mapa='open-street-map' # \"open-street-map\", \"carto-positron\", \"carto-darkmatter\", \"stamen-terrain\",                           \n",
    "            # \"stamen-toner\" or \"stamen-watercolor\" \n",
    "\n",
    "# "
   ]
  },
  {
   "cell_type": "markdown",
   "metadata": {
    "slideshow": {
     "slide_type": "slide"
    }
   },
   "source": [
    "## <font color='green'>POIs MAP</font>"
   ]
  },
  {
   "cell_type": "code",
   "execution_count": 35,
   "metadata": {},
   "outputs": [],
   "source": [
    "# \n"
   ]
  },
  {
   "cell_type": "code",
   "execution_count": null,
   "metadata": {},
   "outputs": [],
   "source": [
    "#"
   ]
  }
 ],
 "metadata": {
  "anaconda-cloud": {},
  "celltoolbar": "Slideshow",
  "hide_input": false,
  "kernelspec": {
   "display_name": "Python 3 (ipykernel)",
   "language": "python",
   "name": "python3"
  },
  "language_info": {
   "codemirror_mode": {
    "name": "ipython",
    "version": 3
   },
   "file_extension": ".py",
   "mimetype": "text/x-python",
   "name": "python",
   "nbconvert_exporter": "python",
   "pygments_lexer": "ipython3",
   "version": "3.9.13"
  },
  "latex_envs": {
   "LaTeX_envs_menu_present": true,
   "autoclose": false,
   "autocomplete": true,
   "bibliofile": "biblio.bib",
   "cite_by": "apalike",
   "current_citInitial": 1,
   "eqLabelWithNumbers": true,
   "eqNumInitial": 1,
   "hotkeys": {
    "equation": "Ctrl-E",
    "itemize": "Ctrl-I"
   },
   "labels_anchors": false,
   "latex_user_defs": false,
   "report_style_numbering": true,
   "user_envs_cfg": false
  },
  "toc": {
   "base_numbering": 1,
   "nav_menu": {},
   "number_sections": true,
   "sideBar": true,
   "skip_h1_title": true,
   "title_cell": "Table of Contents",
   "title_sidebar": "Contents",
   "toc_cell": false,
   "toc_position": {},
   "toc_section_display": true,
   "toc_window_display": true
  },
  "varInspector": {
   "cols": {
    "lenName": 16,
    "lenType": 16,
    "lenVar": 40
   },
   "kernels_config": {
    "python": {
     "delete_cmd_postfix": "",
     "delete_cmd_prefix": "del ",
     "library": "var_list.py",
     "varRefreshCmd": "print(var_dic_list())"
    },
    "r": {
     "delete_cmd_postfix": ") ",
     "delete_cmd_prefix": "rm(",
     "library": "var_list.r",
     "varRefreshCmd": "cat(var_dic_list()) "
    }
   },
   "types_to_exclude": [
    "module",
    "function",
    "builtin_function_or_method",
    "instance",
    "_Feature"
   ],
   "window_display": false
  }
 },
 "nbformat": 4,
 "nbformat_minor": 1
}
