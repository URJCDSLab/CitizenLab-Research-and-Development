{
 "cells": [
  {
   "cell_type": "markdown",
   "metadata": {
    "slideshow": {
     "slide_type": "slide"
    }
   },
   "source": [
    "<img src=\"..\\img\\Logo.png\" width=150 align=\"left\" /> <img src=\"..\\img\\Logo2.jpg\" width=450 align=\"right\" />"
   ]
  },
  {
   "cell_type": "markdown",
   "metadata": {
    "slideshow": {
     "slide_type": "slide"
    }
   },
   "source": [
    "\n",
    "# <center><font color= #1e8449 > <b>MAPS</font></center>"
   ]
  },
  {
   "cell_type": "markdown",
   "metadata": {
    "slideshow": {
     "slide_type": "slide"
    }
   },
   "source": [
    "> # <font color='steelblue'> <b>POIS ON MAP</font>"
   ]
  },
  {
   "cell_type": "markdown",
   "metadata": {
    "slideshow": {
     "slide_type": "slide"
    }
   },
   "source": [
    "### <font color='steelblue'>Description</font>"
   ]
  },
  {
   "cell_type": "markdown",
   "metadata": {
    "slideshow": {
     "slide_type": "slide"
    }
   },
   "source": [
    " Dibujar un conjunto n puntos de interés (POIS) sobre un mismo mapa.\n",
    " \n",
    "- Cada una de los POI viene dado por su posición en formato (Lat, Long).\n",
    "- Capa POI tiene un conjunto de información asociada al mismo en forma de columnas\n",
    "\n",
    "- Se debe poder seleccionar los POIs que se quieren mostrar, en base a categorías comunes que estos tienen (e.g. museo)\n",
    "    - Las selecciones son todas de tipo check box (AND) no radio button (OR)\n",
    "    \n",
    "- Cada tipología PRINCIPAL de POI seleccionada y que se muestre debe poderse diferenciar con un icono distinto\n",
    "    - Valorar y poner como opcional (si existe) la opción de indicar una imagen a modo de icono\n",
    "\n",
    "- Se indicarán las columnas de las categorías por orden de izqueirda a derecha\n",
    "\n",
    "- En la tarjeta del POI al poner el ratón aparecerá la info de las columnas que se indiquen n los parámetros que serán variables dependiendo del caso\n",
    "\n",
    "- En la leyenda aparecerá el número de elementos de cada tipo que haya en la columna que se indique\n"
   ]
  },
  {
   "cell_type": "markdown",
   "metadata": {
    "slideshow": {
     "slide_type": "slide"
    }
   },
   "source": [
    "<img src=\"..\\img\\POIS.jpg\" width=550 align=\"left\" />"
   ]
  },
  {
   "cell_type": "markdown",
   "metadata": {
    "slideshow": {
     "slide_type": "slide"
    }
   },
   "source": [
    "## <font color='green'>Settings</font>"
   ]
  },
  {
   "cell_type": "code",
   "execution_count": 1,
   "metadata": {
    "ExecuteTime": {
     "end_time": "2020-10-12T18:02:33.219531Z",
     "start_time": "2020-10-12T18:02:31.113701Z"
    },
    "slideshow": {
     "slide_type": "subslide"
    }
   },
   "outputs": [],
   "source": [
    "# Libraries to use\n",
    "\n",
    "\n",
    "import geopandas as gpd\n",
    "import pandas as pd\n",
    "from shapely.geometry import Point\n",
    "from branca.element import Figure\n",
    "import folium\n",
    "\n",
    "import dash\n",
    "from dash import dcc\n",
    "from dash import html \n",
    "from dash.dependencies import Input, Output\n",
    "import plotly.express as px\n",
    "from collections import Counter"
   ]
  },
  {
   "cell_type": "markdown",
   "metadata": {
    "slideshow": {
     "slide_type": "slide"
    }
   },
   "source": [
    "## <font color='green'>Data Load</font>"
   ]
  },
  {
   "cell_type": "code",
   "execution_count": 2,
   "metadata": {
    "ExecuteTime": {
     "end_time": "2021-01-26T18:40:31.258294Z",
     "start_time": "2021-01-26T18:40:26.061847Z"
    },
    "slideshow": {
     "slide_type": "subslide"
    }
   },
   "outputs": [],
   "source": [
    "#Load pois\n",
    "file_name='POIS_MADRID.csv'\n",
    "pois = pd.read_csv('../data/'+file_name , header=0)[0:500]"
   ]
  },
  {
   "cell_type": "markdown",
   "metadata": {
    "slideshow": {
     "slide_type": "slide"
    }
   },
   "source": [
    "## <font color='green'>PARAMETERS</font>"
   ]
  },
  {
   "cell_type": "code",
   "execution_count": 3,
   "metadata": {
    "scrolled": true
   },
   "outputs": [],
   "source": [
    "# Categorías\n",
    "CATEGORIAS=['TIPO1','TIPO2','TIPO3','TIPO4','TIPO5']\n",
    "sel_category_symbol = \"TIPO1\"\n",
    "        \n",
    "symbol_dict = {\n",
    "    'Serv': '\"https://script-lab.azureedge.net/assets/images/icon-32.png\"'\n",
    "}\n",
    "\n",
    "# Columna para leyenda\n",
    "COLUMNA_LEYENDA= ['TIPO1']\n",
    "\n",
    "# Columnas para la info en la tarjeta del POI\n",
    "choroplet_info=['NOMBRE','DESCRIPCION','DIRECCION']\n"
   ]
  },
  {
   "cell_type": "markdown",
   "metadata": {},
   "source": [
    "Parámetros para configurar el aspecto del mapa"
   ]
  },
  {
   "cell_type": "code",
   "execution_count": 4,
   "metadata": {
    "scrolled": true
   },
   "outputs": [],
   "source": [
    "# Titulo del mapa\n",
    "titulo = 'POIs Madrid'\n",
    "# Zoom inicial\n",
    "zoom = 10\n",
    "# Tamaño del mapa\n",
    "alto=500\n",
    "# Tipo de mapa\n",
    "estilo_mapa='open-street-map' # \"open-street-map\", \"carto-positron\", \"carto-darkmatter\", \"stamen-terrain\",                           \n",
    "            # \"stamen-toner\" or \"stamen-watercolor\" \n",
    "\n",
    "# "
   ]
  },
  {
   "cell_type": "markdown",
   "metadata": {
    "slideshow": {
     "slide_type": "slide"
    }
   },
   "source": [
    "## <font color='green'>POIs MAP</font>"
   ]
  },
  {
   "cell_type": "code",
   "execution_count": 5,
   "metadata": {},
   "outputs": [
    {
     "data": {
      "text/plain": [
       "0      \"https://script-lab.azureedge.net/assets/image...\n",
       "1      \"https://script-lab.azureedge.net/assets/image...\n",
       "2      \"https://script-lab.azureedge.net/assets/image...\n",
       "3      \"https://script-lab.azureedge.net/assets/image...\n",
       "4      \"https://script-lab.azureedge.net/assets/image...\n",
       "                             ...                        \n",
       "495                                                     \n",
       "496                                                     \n",
       "497                                                     \n",
       "498                                                     \n",
       "499                                                     \n",
       "Name: symbol, Length: 500, dtype: object"
      ]
     },
     "execution_count": 5,
     "metadata": {},
     "output_type": "execute_result"
    }
   ],
   "source": [
    "#Transformaciones sobre los parametros\n",
    "\n",
    "\n",
    "choroplet_info_dict = {}\n",
    "for i in pois.to_dict().keys():\n",
    "    if i in choroplet_info:\n",
    "        choroplet_info_dict[i] = True\n",
    "    else:\n",
    "        choroplet_info_dict[i] = False\n",
    "#Transformaciones sobre los datos\n",
    "\n",
    "pois['LATITUD'] = pois['LATITUD'].astype(float)\n",
    "pois['LONGITUD'] = pois['LONGITUD'].astype(float)\n",
    "\n",
    "pois['symbol'] = pois['TIPO1'].apply(lambda x: symbol_dict.get(x, ''))\n",
    "pois['symbol']"
   ]
  },
  {
   "cell_type": "code",
   "execution_count": null,
   "metadata": {},
   "outputs": [
    {
     "name": "stdout",
     "output_type": "stream",
     "text": [
      "Dash is running on http://127.0.0.1:8050/\n",
      "\n",
      " * Serving Flask app '__main__'\n",
      " * Debug mode: off\n"
     ]
    },
    {
     "name": "stderr",
     "output_type": "stream",
     "text": [
      "WARNING: This is a development server. Do not use it in a production deployment. Use a production WSGI server instead.\n",
      " * Running on http://127.0.0.1:8050\n",
      "Press CTRL+C to quit\n",
      "127.0.0.1 - - [01/Feb/2023 18:06:25] \"GET / HTTP/1.1\" 200 -\n",
      "127.0.0.1 - - [01/Feb/2023 18:06:25] \"GET /_dash-dependencies HTTP/1.1\" 200 -\n",
      "127.0.0.1 - - [01/Feb/2023 18:06:25] \"GET /_dash-layout HTTP/1.1\" 200 -\n",
      "127.0.0.1 - - [01/Feb/2023 18:06:25] \"POST /_dash-update-component HTTP/1.1\" 200 -\n"
     ]
    },
    {
     "name": "stdout",
     "output_type": "stream",
     "text": [
      "500\n"
     ]
    },
    {
     "name": "stderr",
     "output_type": "stream",
     "text": [
      "127.0.0.1 - - [02/Feb/2023 08:31:54] \"GET / HTTP/1.1\" 200 -\n",
      "127.0.0.1 - - [02/Feb/2023 08:31:54] \"GET /_dash-layout HTTP/1.1\" 200 -\n",
      "127.0.0.1 - - [02/Feb/2023 08:31:54] \"GET /_dash-dependencies HTTP/1.1\" 200 -\n",
      "127.0.0.1 - - [02/Feb/2023 08:31:54] \"POST /_dash-update-component HTTP/1.1\" 200 -\n"
     ]
    },
    {
     "name": "stdout",
     "output_type": "stream",
     "text": [
      "500\n"
     ]
    },
    {
     "name": "stderr",
     "output_type": "stream",
     "text": [
      "127.0.0.1 - - [02/Feb/2023 08:31:59] \"POST /_dash-update-component HTTP/1.1\" 200 -\n"
     ]
    },
    {
     "name": "stdout",
     "output_type": "stream",
     "text": [
      "500\n"
     ]
    },
    {
     "name": "stderr",
     "output_type": "stream",
     "text": [
      "127.0.0.1 - - [02/Feb/2023 08:32:00] \"POST /_dash-update-component HTTP/1.1\" 200 -\n"
     ]
    },
    {
     "name": "stdout",
     "output_type": "stream",
     "text": [
      "500\n"
     ]
    },
    {
     "name": "stderr",
     "output_type": "stream",
     "text": [
      "127.0.0.1 - - [02/Feb/2023 08:32:02] \"POST /_dash-update-component HTTP/1.1\" 200 -\n"
     ]
    },
    {
     "name": "stdout",
     "output_type": "stream",
     "text": [
      "500\n"
     ]
    },
    {
     "name": "stderr",
     "output_type": "stream",
     "text": [
      "127.0.0.1 - - [02/Feb/2023 08:32:03] \"POST /_dash-update-component HTTP/1.1\" 200 -\n"
     ]
    },
    {
     "name": "stdout",
     "output_type": "stream",
     "text": [
      "500\n"
     ]
    },
    {
     "name": "stderr",
     "output_type": "stream",
     "text": [
      "127.0.0.1 - - [02/Feb/2023 08:32:04] \"POST /_dash-update-component HTTP/1.1\" 200 -\n"
     ]
    },
    {
     "name": "stdout",
     "output_type": "stream",
     "text": [
      "500\n"
     ]
    },
    {
     "name": "stderr",
     "output_type": "stream",
     "text": [
      "127.0.0.1 - - [02/Feb/2023 08:32:05] \"POST /_dash-update-component HTTP/1.1\" 200 -\n"
     ]
    },
    {
     "name": "stdout",
     "output_type": "stream",
     "text": [
      "500\n"
     ]
    },
    {
     "name": "stderr",
     "output_type": "stream",
     "text": [
      "127.0.0.1 - - [02/Feb/2023 08:32:06] \"POST /_dash-update-component HTTP/1.1\" 200 -\n"
     ]
    },
    {
     "name": "stdout",
     "output_type": "stream",
     "text": [
      "500\n"
     ]
    },
    {
     "name": "stderr",
     "output_type": "stream",
     "text": [
      "127.0.0.1 - - [02/Feb/2023 08:32:07] \"POST /_dash-update-component HTTP/1.1\" 200 -\n"
     ]
    },
    {
     "name": "stdout",
     "output_type": "stream",
     "text": [
      "357\n"
     ]
    },
    {
     "name": "stderr",
     "output_type": "stream",
     "text": [
      "127.0.0.1 - - [02/Feb/2023 08:32:07] \"POST /_dash-update-component HTTP/1.1\" 200 -\n"
     ]
    },
    {
     "name": "stdout",
     "output_type": "stream",
     "text": [
      "318\n"
     ]
    }
   ],
   "source": [
    "import dash\n",
    "import dash_leaflet as dl\n",
    "from dash import html\n",
    "check_elements = []\n",
    "for i,categoria in enumerate(CATEGORIAS):\n",
    "    label = html.Label(categoria, style={'color': '#393939', 'font-weight': 'bold'})\n",
    "    check = dcc.Checklist(\n",
    "        id='tipo-poi'+str(i),\n",
    "        options=[{'label': tipo, 'value': tipo} for tipo in pois[categoria].unique()],\n",
    "        value=pois[categoria].unique().tolist(),\n",
    "        labelStyle={'display': 'block', 'margin-bottom': '10px', 'color': '#393939'}\n",
    "    )\n",
    "    check_elements.append(label)\n",
    "    check_elements.append(check)\n",
    "\n",
    "    \n",
    "app = dash.Dash()\n",
    " \n",
    "    \n",
    "markers = []\n",
    "for index, row in pois.iterrows():\n",
    "    marker = dl.Marker(position=[row['LATITUD'], row['LONGITUD']], \n",
    "                       icon={\"iconUrl\": \"https://script-lab.azureedge.net/assets/images/icon-32.png\"},\n",
    "                       children= dl.Tooltip([\"\\n\".join(x) for x in pois[choroplet_info].values.tolist()][index]))\n",
    "    \n",
    "    markers.append(marker)\n",
    "\n",
    "app.layout = html.Div([\n",
    "    html.H1(children='POIS MADRID'),\n",
    "    html.Div(style={'display': 'inline-block', 'width': '20%', 'vertical-align': 'top', 'max-height': '600px', 'overflow-y': 'scroll', 'background-color': '#E6E6E6', 'padding': '10px'}, children=\n",
    "    check_elements,\n",
    "    ),\n",
    "    dl.Map(id=\"map\",style={'width': '70%', 'height': '500px','display': 'inline-block',}, center=[40.416729,-3.703339], zoom=10, children=[        dl.TileLayer(),        *markers    ])\n",
    "])\n",
    "\n",
    "inputs = [Input('tipo-poi' + str(i), 'value') for i in range(len(CATEGORIAS))]\n",
    "\n",
    "@app.callback(\n",
    "    Output('map', 'children'),\n",
    "    inputs\n",
    "    )\n",
    "def update_map(*selected_pois):\n",
    "    total_df = pd.DataFrame(columns=pois.columns)\n",
    "    for i, poi_type in enumerate(CATEGORIAS):\n",
    "        filtered_df = pois.copy()\n",
    "        filtered_df = filtered_df[filtered_df[poi_type].isin(selected_pois[i])]\n",
    "        total_df = pd.concat([total_df,filtered_df])\n",
    "    total_df = total_df.drop_duplicates()\n",
    "\n",
    "    \n",
    "    filtered_df = total_df\n",
    "    markers = []\n",
    "    for index, row in filtered_df.iterrows():\n",
    "        marker = dl.Marker(position=[row['LATITUD'], row['LONGITUD']], \n",
    "                       icon={\"iconUrl\": \"https://script-lab.azureedge.net/assets/images/icon-32.png\"},\n",
    "                       children= dl.Tooltip([\"\\n\".join(x) for x in pois[choroplet_info].values.tolist()][index]))\n",
    "        markers.append(marker)\n",
    "    print(len(markers))\n",
    "    return [dl.TileLayer(),*markers]\n",
    "\n",
    "app.run_server()"
   ]
  },
  {
   "cell_type": "code",
   "execution_count": null,
   "metadata": {},
   "outputs": [],
   "source": [
    "#Create the Map\n",
    "pois['symbol'] = pois['TIPO1'].apply(lambda x: symbol_dict.get(x, 'info'))\n",
    "\n",
    "map_osm = folium.Map(\n",
    "    location = [40.416729,-3.703339],\n",
    "    zoom_start = 10\n",
    ")\n",
    "\n",
    "#You Markler the point in Map\n",
    "for indice, row in pois.iterrows():\n",
    "    folium.Marker(\n",
    "        location=[row[\"LATITUD\"], row[\"LONGITUD\"]],\n",
    "        tooltip=[\"<br>\".join(x) for x in pois[choroplet_info].values.tolist()][indice],\n",
    "        icon=folium.Icon(color=\"blue\",icon=row[\"symbol\"], prefix='fa')\n",
    "    ).add_to(map_osm)\n",
    "map_osm"
   ]
  },
  {
   "cell_type": "code",
   "execution_count": null,
   "metadata": {},
   "outputs": [],
   "source": [
    "pois = df[['Latitud', 'Longitud', 'ID',\"symbol\", \"CODIGOCONTRATO\"]]\n",
    "\n",
    "da[color_prop] = da[color_prop].astype(int)\n",
    "\n",
    "dicts = da.to_dict('rows')\n",
    "\n",
    "dd_options = df[\"CODIGOCONTRATO\"].unique()\n",
    "\n",
    "dd_defaults = [\"Atributo Nacional\"]\n",
    "\n",
    "for item in dicts:\n",
    "    item[\"tooltip\"] = \"{} ({:.1f})\".format(item[color_prop], item[color_prop])\n",
    "\n",
    "geojson = dlx.dicts_to_geojson(dicts, lat=\"Latitud\", lon=\"Longitud\")"
   ]
  },
  {
   "cell_type": "code",
   "execution_count": null,
   "metadata": {
    "scrolled": true
   },
   "outputs": [],
   "source": [
    "pois['symbol'] = pois['TIPO1'].apply(lambda x: symbol_dict.get(x, 'collegue'))\n",
    "\n",
    "mapa_plotly = px.scatter_mapbox(pois, lat='LATITUD', lon='LONGITUD', zoom=11,hover_data=choroplet_info_dict)\n",
    "mapa_plotly.update_layout(mapbox_style='open-street-map')\n",
    "mapa_plotly.data[0].marker[\"symbol\"]=\"airport\"\n",
    "mapa_plotly\n",
    "mapa_plotly.data[0]\n"
   ]
  },
  {
   "cell_type": "code",
   "execution_count": null,
   "metadata": {},
   "outputs": [],
   "source": [
    "# DEPLOY\n",
    "\n",
    "# inputs = [Input('tipo-poi' + str(i), 'value') for i in range(len(CATEGORIAS))]\n",
    "# outputs = [Output('tipo-poi' + str(i), 'value') for i in range(len(CATEGORIAS))]\n",
    "# @app.callback(\n",
    "#     outputs,\n",
    "#     inputs\n",
    "# )\n",
    "# def update_tipo_poi(*selected_pois):\n",
    "#     tipo1 = selected_pois[0]\n",
    "#     tipo2 = selected_pois[1]\n",
    "#     for i in tipo2:\n",
    "        \n",
    "#     return"
   ]
  },
  {
   "cell_type": "code",
   "execution_count": null,
   "metadata": {},
   "outputs": [],
   "source": [
    "app = dash.Dash()\n",
    "\n",
    "\n",
    "inputs = [Input('tipo-poi' + str(i), 'value') for i in range(len(CATEGORIAS))]\n",
    "@app.callback(\n",
    "    Output('mapa', 'figure'),\n",
    "    inputs\n",
    "    )\n",
    "\n",
    "def update_map(*selected_pois):\n",
    "    if not any(selected_pois):\n",
    "        mapa_plotly = px.scatter_mapbox(pd.DataFrame([[40.416729,-3.703339]],columns=[\"LATITUD\",\"LONGITUD\"]), lat='LATITUD', lon='LONGITUD', zoom=9)\n",
    "        mapa_plotly.update_layout(mapbox_style='open-street-map')\n",
    "        return mapa_plotly\n",
    "    \n",
    "    total_df = pd.DataFrame(columns=pois.columns)\n",
    "    for i, poi_type in enumerate(CATEGORIAS):\n",
    "        filtered_df = pois.copy()\n",
    "        filtered_df = filtered_df[filtered_df[poi_type].isin(selected_pois[i])]\n",
    "\n",
    "        total_df = pd.concat([total_df,filtered_df])\n",
    "\n",
    "    total_df = total_df.drop_duplicates()\n",
    "    print(len(total_df))\n",
    "    \n",
    "    filtered_df = total_df\n",
    "    \n",
    "    filtered_df['symbol'] = filtered_df['TIPO1'].apply(lambda x: symbol_dict.get(x, 'circle'))\n",
    "    \n",
    "    mapa_plotly = px.scatter_mapbox(filtered_df, lat='LATITUD', lon='LONGITUD', zoom=9, hover_data=choroplet_info_dict)\n",
    "    mapa_plotly.update_layout(mapbox_style='open-street-map')\n",
    "\n",
    "\n",
    "\n",
    "    \n",
    "    # Contar el número de elementos de cada categoría\n",
    "    poi_counts = [len(filtered_df[filtered_df[poi_type].isin(selected_pois[i])]) for i, poi_type in enumerate(CATEGORIAS)]\n",
    "    print(poi_counts)\n",
    "    # Agregar leyenda con el número de elementos de cada categoría\n",
    "    annotations_html = []\n",
    "    for i, poi_type in enumerate(CATEGORIAS):\n",
    "        annotations_html.append(poi_type +\" : \" + str(poi_counts[i]) + \"<br>\")\n",
    "        \n",
    "    mapa_plotly.update_layout(annotations= [dict(\n",
    "                x=0.9,\n",
    "                y=i * 0.1,\n",
    "                align=\"right\",\n",
    "                valign=\"middle\",\n",
    "                text=\"\".join(annotations_html),\n",
    "                font=dict(color=\"#393939\", size=12),\n",
    "                bgcolor=\"white\",\n",
    "                bordercolor=\"#C8D4E3\",\n",
    "                borderwidth=2,\n",
    "                borderpad=4,\n",
    "                opacity=0.9,\n",
    "                xref=\"paper\",\n",
    "                yref=\"paper\",\n",
    "                showarrow=False,\n",
    "            )])\n",
    "\n",
    "    mapa_plotly.update_layout(\n",
    "        xaxis=dict(showgrid=False, zeroline=False, showticklabels=False),\n",
    "        yaxis=dict(showgrid=False, zeroline=False, showticklabels=False),\n",
    "    )\n",
    "    return mapa_plotly\n",
    "\n",
    "check_elements = []\n",
    "for i,categoria in enumerate(CATEGORIAS):\n",
    "    label = html.Label(categoria, style={'color': '#393939', 'font-weight': 'bold'})\n",
    "    check = dcc.Checklist(\n",
    "        id='tipo-poi'+str(i),\n",
    "        options=[{'label': tipo, 'value': tipo} for tipo in pois[categoria].unique()],\n",
    "        value=pois[categoria].unique().tolist(),\n",
    "        labelStyle={'display': 'block', 'margin-bottom': '10px', 'color': '#393939'}\n",
    "    )\n",
    "    check_elements.append(label)\n",
    "    check_elements.append(check)\n",
    "\n",
    "\n",
    "#Create the Map\n",
    "pois['symbol'] = pois['TIPO1'].apply(lambda x: symbol_dict.get(x, 'info'))\n",
    "\n",
    "mapa_plotly = folium.Map(\n",
    "    location = [40.416729,-3.703339],\n",
    "    zoom_start = 10\n",
    ")\n",
    "\n",
    "#You Markler the point in Map\n",
    "for indice, row in pois.iterrows():\n",
    "    folium.Marker(\n",
    "        location=[row[\"LATITUD\"], row[\"LONGITUD\"]],\n",
    "        tooltip=[\"<br>\".join(x) for x in pois[choroplet_info].values.tolist()][indice],\n",
    "        icon=folium.Icon(color=\"blue\",icon=row[\"symbol\"], prefix='fa')\n",
    "    ).add_to(mapa_plotly)\n",
    "\n",
    "\n",
    "app.layout = html.Div(children=[\n",
    "    html.H1(children='POIS MADRID'),\n",
    "    html.Div(style={'display': 'inline-block', 'width': '20%', 'vertical-align': 'top', 'max-height': '600px', 'overflow-y': 'scroll', 'background-color': '#E6E6E6', 'padding': '10px'}, children=\n",
    "    check_elements,        \n",
    "    ),\n",
    "    dcc.Graph(\n",
    "    id='mapa',\n",
    "    style={'display': 'inline-block', 'width': '70%'},\n",
    "    figure=mapa_plotly.save(\"a.html\")\n",
    "    ),\n",
    "])\n",
    "\n",
    "\n",
    "\n",
    "app.run_server()"
   ]
  },
  {
   "cell_type": "code",
   "execution_count": null,
   "metadata": {},
   "outputs": [],
   "source": []
  }
 ],
 "metadata": {
  "anaconda-cloud": {},
  "celltoolbar": "Slideshow",
  "hide_input": false,
  "kernelspec": {
   "display_name": "city",
   "language": "python",
   "name": "city"
  },
  "language_info": {
   "codemirror_mode": {
    "name": "ipython",
    "version": 3
   },
   "file_extension": ".py",
   "mimetype": "text/x-python",
   "name": "python",
   "nbconvert_exporter": "python",
   "pygments_lexer": "ipython3",
   "version": "3.10.4"
  },
  "latex_envs": {
   "LaTeX_envs_menu_present": true,
   "autoclose": false,
   "autocomplete": true,
   "bibliofile": "biblio.bib",
   "cite_by": "apalike",
   "current_citInitial": 1,
   "eqLabelWithNumbers": true,
   "eqNumInitial": 1,
   "hotkeys": {
    "equation": "Ctrl-E",
    "itemize": "Ctrl-I"
   },
   "labels_anchors": false,
   "latex_user_defs": false,
   "report_style_numbering": true,
   "user_envs_cfg": false
  },
  "toc": {
   "base_numbering": 1,
   "nav_menu": {},
   "number_sections": true,
   "sideBar": true,
   "skip_h1_title": true,
   "title_cell": "Table of Contents",
   "title_sidebar": "Contents",
   "toc_cell": false,
   "toc_position": {},
   "toc_section_display": true,
   "toc_window_display": true
  },
  "varInspector": {
   "cols": {
    "lenName": 16,
    "lenType": 16,
    "lenVar": 40
   },
   "kernels_config": {
    "python": {
     "delete_cmd_postfix": "",
     "delete_cmd_prefix": "del ",
     "library": "var_list.py",
     "varRefreshCmd": "print(var_dic_list())"
    },
    "r": {
     "delete_cmd_postfix": ") ",
     "delete_cmd_prefix": "rm(",
     "library": "var_list.r",
     "varRefreshCmd": "cat(var_dic_list()) "
    }
   },
   "types_to_exclude": [
    "module",
    "function",
    "builtin_function_or_method",
    "instance",
    "_Feature"
   ],
   "window_display": false
  }
 },
 "nbformat": 4,
 "nbformat_minor": 1
}
