{
 "cells": [
  {
   "cell_type": "markdown",
   "metadata": {
    "slideshow": {
     "slide_type": "slide"
    }
   },
   "source": [
    "<img src=\".\\images\\Logo.png\" width=150 align=\"left\" /> <img src=\".\\images\\Logo2.jpg\" width=450 align=\"right\" />"
   ]
  },
  {
   "cell_type": "markdown",
   "metadata": {
    "slideshow": {
     "slide_type": "slide"
    }
   },
   "source": [
    "\n",
    "# <center><font color= #1e8449 > <b>MAPS</font></center>"
   ]
  },
  {
   "cell_type": "markdown",
   "metadata": {
    "slideshow": {
     "slide_type": "slide"
    }
   },
   "source": [
    "> # <font color='steelblue'> <b>FLOWS ON MAP</font>"
   ]
  },
  {
   "cell_type": "markdown",
   "metadata": {
    "slideshow": {
     "slide_type": "slide"
    }
   },
   "source": [
    "### <font color='steelblue'>Description</font>"
   ]
  },
  {
   "cell_type": "markdown",
   "metadata": {
    "slideshow": {
     "slide_type": "slide"
    }
   },
   "source": [
    "Realizar mapa que represente flujos de movimientos.\n",
    " \n",
    "- Los datos para el mapa vendrán de un fichero generalmente csv que se cargará a un dataframe\n",
    "- La idea es visualizar flujos de elementos (movimientos de individuos, coches, etc)\n",
    "- Estos datos traerán la información de los puntos de origen y destino (Lat, Long) así como la asociada a cada elemento para ser visualizada\n",
    "  \n",
    "- Se aporta imagen a modo ejemplo de lo que se desea\n",
    "- Se debe poder seleccionar qué info mostrar, en un rango de fechas y de horas\n",
    "    - En código se indicará la columna de fechas\n",
    "    - En código se indicará la columna de horas\n",
    "    - En el mapa se podrá elegir los rangos entre los max y mínimos de esas columnas\n",
    "                Fechas: 10/10/2020 - 10/10/2020\n",
    "                Horas:  08:00:00 - 14:30:00\n",
    "\n",
    "- Existirá una leyenda que mostrará la info de movimientos totales en base los movimientos seleccionados\n",
    "\n",
    "- Se adjunta set de datos de MOVIMIENTOS para prueba\n",
    "\n",
    "Se recomienda ver este ejemplo\n",
    "https://plotly.com/python/lines-on-maps/  (projection=\"orthographic\")\n"
   ]
  },
  {
   "cell_type": "markdown",
   "metadata": {
    "slideshow": {
     "slide_type": "slide"
    }
   },
   "source": [
    "<img src=\".\\images\\FLUJOS.jpg\" width=550 align=\"left\" />"
   ]
  },
  {
   "cell_type": "markdown",
   "metadata": {
    "slideshow": {
     "slide_type": "slide"
    }
   },
   "source": [
    "## <font color='green'>Settings</font>"
   ]
  },
  {
   "cell_type": "code",
   "execution_count": 1,
   "metadata": {
    "ExecuteTime": {
     "end_time": "2020-10-12T18:02:33.219531Z",
     "start_time": "2020-10-12T18:02:31.113701Z"
    },
    "slideshow": {
     "slide_type": "subslide"
    }
   },
   "outputs": [],
   "source": [
    "# Libraries to use\n",
    "import geopandas as gpd\n",
    "import pandas as pd\n",
    "import matplotlib.pyplot as plt"
   ]
  },
  {
   "cell_type": "markdown",
   "metadata": {
    "slideshow": {
     "slide_type": "slide"
    }
   },
   "source": [
    "## <font color='green'>Data Load</font>"
   ]
  },
  {
   "cell_type": "markdown",
   "metadata": {},
   "source": [
    "<font color='green'><b> MOVIMIENTOS</b></font>"
   ]
  },
  {
   "cell_type": "code",
   "execution_count": 2,
   "metadata": {
    "ExecuteTime": {
     "end_time": "2021-01-26T18:40:31.258294Z",
     "start_time": "2021-01-26T18:40:26.061847Z"
    },
    "slideshow": {
     "slide_type": "subslide"
    }
   },
   "outputs": [],
   "source": [
    "file_name='MOVIMIENTOS.csv'\n",
    "MOVIMIENTOS = pd.read_csv('./Datos/'+file_name)"
   ]
  },
  {
   "cell_type": "code",
   "execution_count": 4,
   "metadata": {
    "scrolled": true
   },
   "outputs": [
    {
     "data": {
      "text/html": [
       "<div>\n",
       "<style scoped>\n",
       "    .dataframe tbody tr th:only-of-type {\n",
       "        vertical-align: middle;\n",
       "    }\n",
       "\n",
       "    .dataframe tbody tr th {\n",
       "        vertical-align: top;\n",
       "    }\n",
       "\n",
       "    .dataframe thead th {\n",
       "        text-align: right;\n",
       "    }\n",
       "</style>\n",
       "<table border=\"1\" class=\"dataframe\">\n",
       "  <thead>\n",
       "    <tr style=\"text-align: right;\">\n",
       "      <th></th>\n",
       "      <th>Id_individuo</th>\n",
       "      <th>fecha_origen</th>\n",
       "      <th>hora_origen</th>\n",
       "      <th>lat_origen</th>\n",
       "      <th>long_origen</th>\n",
       "      <th>hora_destino</th>\n",
       "      <th>fecha_destino</th>\n",
       "      <th>lat_destino</th>\n",
       "      <th>long_destino</th>\n",
       "    </tr>\n",
       "  </thead>\n",
       "  <tbody>\n",
       "    <tr>\n",
       "      <th>0</th>\n",
       "      <td>0f4bed44533de213f694d7d4cd40c0f594c055b8053890...</td>\n",
       "      <td>2020-05-18</td>\n",
       "      <td>13:00:00</td>\n",
       "      <td>40.408368</td>\n",
       "      <td>-3.693346</td>\n",
       "      <td>15:30:23</td>\n",
       "      <td>2020-05-18</td>\n",
       "      <td>40.446367</td>\n",
       "      <td>-3.703667</td>\n",
       "    </tr>\n",
       "    <tr>\n",
       "      <th>1</th>\n",
       "      <td>d829167ca2cd17d79feb303acc1b9ed8a2f43a62d85f8a...</td>\n",
       "      <td>2020-05-18</td>\n",
       "      <td>13:00:00</td>\n",
       "      <td>40.403250</td>\n",
       "      <td>-3.672602</td>\n",
       "      <td>15:51:30</td>\n",
       "      <td>2020-05-18</td>\n",
       "      <td>40.438532</td>\n",
       "      <td>-3.698221</td>\n",
       "    </tr>\n",
       "    <tr>\n",
       "      <th>2</th>\n",
       "      <td>c20228e7bec9c768c7ca7b3bfad323b01fc45b19bd0e7b...</td>\n",
       "      <td>2020-05-18</td>\n",
       "      <td>13:00:00</td>\n",
       "      <td>40.441750</td>\n",
       "      <td>-3.714472</td>\n",
       "      <td>13:08:54</td>\n",
       "      <td>2020-05-18</td>\n",
       "      <td>40.397262</td>\n",
       "      <td>-3.694503</td>\n",
       "    </tr>\n",
       "    <tr>\n",
       "      <th>3</th>\n",
       "      <td>61149ceeae72bdea701f927b0b8dd1b47bbdd7cd7ad930...</td>\n",
       "      <td>2020-05-18</td>\n",
       "      <td>14:00:00</td>\n",
       "      <td>40.466361</td>\n",
       "      <td>-3.688639</td>\n",
       "      <td>14:02:34</td>\n",
       "      <td>2020-05-18</td>\n",
       "      <td>40.457282</td>\n",
       "      <td>-3.700967</td>\n",
       "    </tr>\n",
       "    <tr>\n",
       "      <th>4</th>\n",
       "      <td>6d9627a3cec2eeb7d176314ab755b8f54560bd1b22106d...</td>\n",
       "      <td>2020-05-18</td>\n",
       "      <td>14:00:00</td>\n",
       "      <td>40.426948</td>\n",
       "      <td>-3.703592</td>\n",
       "      <td>14:05:44</td>\n",
       "      <td>2020-05-18</td>\n",
       "      <td>40.421501</td>\n",
       "      <td>-3.680008</td>\n",
       "    </tr>\n",
       "    <tr>\n",
       "      <th>...</th>\n",
       "      <td>...</td>\n",
       "      <td>...</td>\n",
       "      <td>...</td>\n",
       "      <td>...</td>\n",
       "      <td>...</td>\n",
       "      <td>...</td>\n",
       "      <td>...</td>\n",
       "      <td>...</td>\n",
       "      <td>...</td>\n",
       "    </tr>\n",
       "    <tr>\n",
       "      <th>99995</th>\n",
       "      <td>2780ba50d2de5f7ddeb18527f5d002cfec59b52ced9482...</td>\n",
       "      <td>2021-01-30</td>\n",
       "      <td>12:00:00</td>\n",
       "      <td>40.420589</td>\n",
       "      <td>-3.705842</td>\n",
       "      <td>12:18:46</td>\n",
       "      <td>2021-01-30</td>\n",
       "      <td>40.403250</td>\n",
       "      <td>-3.672602</td>\n",
       "    </tr>\n",
       "    <tr>\n",
       "      <th>99996</th>\n",
       "      <td>567c0bee5573257f0fd9ca9484177f359ec603110038ec...</td>\n",
       "      <td>2021-01-30</td>\n",
       "      <td>12:00:00</td>\n",
       "      <td>40.459235</td>\n",
       "      <td>-3.691533</td>\n",
       "      <td>12:21:59</td>\n",
       "      <td>2021-01-30</td>\n",
       "      <td>40.427657</td>\n",
       "      <td>-3.720513</td>\n",
       "    </tr>\n",
       "    <tr>\n",
       "      <th>99997</th>\n",
       "      <td>261bada1c3bf446755676086116bf3137dc62c7e39f1bb...</td>\n",
       "      <td>2021-01-30</td>\n",
       "      <td>12:00:00</td>\n",
       "      <td>40.459235</td>\n",
       "      <td>-3.691533</td>\n",
       "      <td>12:21:35</td>\n",
       "      <td>2021-01-30</td>\n",
       "      <td>40.427657</td>\n",
       "      <td>-3.720513</td>\n",
       "    </tr>\n",
       "    <tr>\n",
       "      <th>99998</th>\n",
       "      <td>ca96db995cfce1a217fbc322cb52e7660003b62c6f9cfc...</td>\n",
       "      <td>2021-01-30</td>\n",
       "      <td>12:00:00</td>\n",
       "      <td>40.430167</td>\n",
       "      <td>-3.663889</td>\n",
       "      <td>12:09:44</td>\n",
       "      <td>2021-01-30</td>\n",
       "      <td>40.420078</td>\n",
       "      <td>-3.706538</td>\n",
       "    </tr>\n",
       "    <tr>\n",
       "      <th>99999</th>\n",
       "      <td>9d09f8c882f232b96187eddb87d99b2869123aef252d2e...</td>\n",
       "      <td>2021-01-30</td>\n",
       "      <td>12:00:00</td>\n",
       "      <td>40.438532</td>\n",
       "      <td>-3.698221</td>\n",
       "      <td>12:17:12</td>\n",
       "      <td>2021-01-30</td>\n",
       "      <td>40.437944</td>\n",
       "      <td>-3.682862</td>\n",
       "    </tr>\n",
       "  </tbody>\n",
       "</table>\n",
       "<p>100000 rows × 9 columns</p>\n",
       "</div>"
      ],
      "text/plain": [
       "                                            Id_individuo fecha_origen  \\\n",
       "0      0f4bed44533de213f694d7d4cd40c0f594c055b8053890...   2020-05-18   \n",
       "1      d829167ca2cd17d79feb303acc1b9ed8a2f43a62d85f8a...   2020-05-18   \n",
       "2      c20228e7bec9c768c7ca7b3bfad323b01fc45b19bd0e7b...   2020-05-18   \n",
       "3      61149ceeae72bdea701f927b0b8dd1b47bbdd7cd7ad930...   2020-05-18   \n",
       "4      6d9627a3cec2eeb7d176314ab755b8f54560bd1b22106d...   2020-05-18   \n",
       "...                                                  ...          ...   \n",
       "99995  2780ba50d2de5f7ddeb18527f5d002cfec59b52ced9482...   2021-01-30   \n",
       "99996  567c0bee5573257f0fd9ca9484177f359ec603110038ec...   2021-01-30   \n",
       "99997  261bada1c3bf446755676086116bf3137dc62c7e39f1bb...   2021-01-30   \n",
       "99998  ca96db995cfce1a217fbc322cb52e7660003b62c6f9cfc...   2021-01-30   \n",
       "99999  9d09f8c882f232b96187eddb87d99b2869123aef252d2e...   2021-01-30   \n",
       "\n",
       "      hora_origen  lat_origen  long_origen hora_destino fecha_destino  \\\n",
       "0        13:00:00   40.408368    -3.693346     15:30:23    2020-05-18   \n",
       "1        13:00:00   40.403250    -3.672602     15:51:30    2020-05-18   \n",
       "2        13:00:00   40.441750    -3.714472     13:08:54    2020-05-18   \n",
       "3        14:00:00   40.466361    -3.688639     14:02:34    2020-05-18   \n",
       "4        14:00:00   40.426948    -3.703592     14:05:44    2020-05-18   \n",
       "...           ...         ...          ...          ...           ...   \n",
       "99995    12:00:00   40.420589    -3.705842     12:18:46    2021-01-30   \n",
       "99996    12:00:00   40.459235    -3.691533     12:21:59    2021-01-30   \n",
       "99997    12:00:00   40.459235    -3.691533     12:21:35    2021-01-30   \n",
       "99998    12:00:00   40.430167    -3.663889     12:09:44    2021-01-30   \n",
       "99999    12:00:00   40.438532    -3.698221     12:17:12    2021-01-30   \n",
       "\n",
       "       lat_destino  long_destino  \n",
       "0        40.446367     -3.703667  \n",
       "1        40.438532     -3.698221  \n",
       "2        40.397262     -3.694503  \n",
       "3        40.457282     -3.700967  \n",
       "4        40.421501     -3.680008  \n",
       "...            ...           ...  \n",
       "99995    40.403250     -3.672602  \n",
       "99996    40.427657     -3.720513  \n",
       "99997    40.427657     -3.720513  \n",
       "99998    40.420078     -3.706538  \n",
       "99999    40.437944     -3.682862  \n",
       "\n",
       "[100000 rows x 9 columns]"
      ]
     },
     "execution_count": 4,
     "metadata": {},
     "output_type": "execute_result"
    }
   ],
   "source": [
    "MOVIMIENTOS"
   ]
  },
  {
   "cell_type": "markdown",
   "metadata": {
    "slideshow": {
     "slide_type": "slide"
    }
   },
   "source": [
    "## <font color='green'>PARAMETERS</font>"
   ]
  },
  {
   "cell_type": "markdown",
   "metadata": {},
   "source": [
    "Variables"
   ]
  },
  {
   "cell_type": "code",
   "execution_count": 8,
   "metadata": {
    "scrolled": true
   },
   "outputs": [],
   "source": [
    "# Columna para la selección de fecha\n",
    "column_fecha=['fecha_origen']\n",
    "\n",
    "# Columna para la selección de hora\n",
    "column_hora=['hora_origen']\n",
    "\n",
    "\n",
    "#\n"
   ]
  },
  {
   "cell_type": "markdown",
   "metadata": {},
   "source": [
    "Parámetros para configurar el aspecto del mapa"
   ]
  },
  {
   "cell_type": "code",
   "execution_count": 9,
   "metadata": {
    "scrolled": true
   },
   "outputs": [],
   "source": [
    "# Titulo del mapa\n",
    "titulo = 'Flujos'\n",
    "# Zoom inicial\n",
    "zoom = 10\n",
    "# Tamaño del mapa\n",
    "alto=500\n",
    "# Tipo de mapa\n",
    "estilo_mapa='open-street-map' # \"open-street-map\", \"carto-positron\", \"carto-darkmatter\", \"stamen-terrain\",                           \n",
    "            # \"stamen-toner\" or \"stamen-watercolor\" \n",
    "\n",
    "#\n",
    "    "
   ]
  },
  {
   "cell_type": "markdown",
   "metadata": {
    "slideshow": {
     "slide_type": "slide"
    }
   },
   "source": [
    "## <font color='green'>FLOWS MAP</font>"
   ]
  },
  {
   "cell_type": "code",
   "execution_count": 35,
   "metadata": {},
   "outputs": [],
   "source": [
    "# \n"
   ]
  },
  {
   "cell_type": "code",
   "execution_count": null,
   "metadata": {},
   "outputs": [],
   "source": [
    "#"
   ]
  }
 ],
 "metadata": {
  "anaconda-cloud": {},
  "celltoolbar": "Slideshow",
  "hide_input": false,
  "kernelspec": {
   "display_name": "Python 3 (ipykernel)",
   "language": "python",
   "name": "python3"
  },
  "language_info": {
   "codemirror_mode": {
    "name": "ipython",
    "version": 3
   },
   "file_extension": ".py",
   "mimetype": "text/x-python",
   "name": "python",
   "nbconvert_exporter": "python",
   "pygments_lexer": "ipython3",
   "version": "3.9.13"
  },
  "latex_envs": {
   "LaTeX_envs_menu_present": true,
   "autoclose": false,
   "autocomplete": true,
   "bibliofile": "biblio.bib",
   "cite_by": "apalike",
   "current_citInitial": 1,
   "eqLabelWithNumbers": true,
   "eqNumInitial": 1,
   "hotkeys": {
    "equation": "Ctrl-E",
    "itemize": "Ctrl-I"
   },
   "labels_anchors": false,
   "latex_user_defs": false,
   "report_style_numbering": true,
   "user_envs_cfg": false
  },
  "toc": {
   "base_numbering": 1,
   "nav_menu": {},
   "number_sections": true,
   "sideBar": true,
   "skip_h1_title": true,
   "title_cell": "Table of Contents",
   "title_sidebar": "Contents",
   "toc_cell": false,
   "toc_position": {},
   "toc_section_display": true,
   "toc_window_display": true
  },
  "varInspector": {
   "cols": {
    "lenName": 16,
    "lenType": 16,
    "lenVar": 40
   },
   "kernels_config": {
    "python": {
     "delete_cmd_postfix": "",
     "delete_cmd_prefix": "del ",
     "library": "var_list.py",
     "varRefreshCmd": "print(var_dic_list())"
    },
    "r": {
     "delete_cmd_postfix": ") ",
     "delete_cmd_prefix": "rm(",
     "library": "var_list.r",
     "varRefreshCmd": "cat(var_dic_list()) "
    }
   },
   "types_to_exclude": [
    "module",
    "function",
    "builtin_function_or_method",
    "instance",
    "_Feature"
   ],
   "window_display": false
  }
 },
 "nbformat": 4,
 "nbformat_minor": 1
}
